{
 "cells": [
  {
   "cell_type": "markdown",
   "id": "d9a96f12",
   "metadata": {},
   "source": [
    "# SysML v2 Test Suite\n",
    "\n",
    "This can notebook can be cleared using menu `Edit --> Clear All Outputs` and then all cells can be\n",
    "run using menu `Run --> Run All Cells`.\n",
    "\n",
    "**WARNING**: This file is generated, all modifications here will be ignored.\n"
   ]
  },
  {
   "cell_type": "markdown",
   "id": "2f12e019",
   "metadata": {},
   "source": [
    "## File: ../../sysml/src/examples/Simple Tests/ItemTest.sysml"
   ]
  },
  {
   "cell_type": "code",
   "execution_count": 1,
   "id": "39c22d62",
   "metadata": {
    "execution": {
     "iopub.execute_input": "2024-12-16T03:22:52.177912Z",
     "iopub.status.busy": "2024-12-16T03:22:52.177073Z",
     "iopub.status.idle": "2024-12-16T03:22:52.399303Z",
     "shell.execute_reply": "2024-12-16T03:22:52.399084Z"
    }
   },
   "outputs": [
    {
     "data": {
      "text/plain": [
       "Package ItemTest (b50080a1-e82f-4c80-9a3f-5d66ab4e7e23)\n"
      ]
     },
     "execution_count": 1,
     "metadata": {},
     "output_type": "execute_result"
    }
   ],
   "source": [
    "package ItemTest {\n",
    "\t\n",
    "\titem f: A;\n",
    "\n",
    "\tpublic item def A {\n",
    "\t\titem b: B;\n",
    "\t\tprotected ref part c: C;\n",
    "\t}\n",
    "\t\n",
    "\tabstract item def B {\n",
    "\t\tpublic abstract part a: A;\n",
    "\t}\n",
    "\t\n",
    "\tprivate part def C {\n",
    "\t\tprivate in ref y: A, B;\n",
    "\t}\n",
    "\t\n",
    "\tport def P {\n",
    "\t\tin item a1: A;\n",
    "\t\tout item a2: A;\n",
    "\t}\n",
    "\t\n",
    "}"
   ]
  },
  {
   "cell_type": "code",
   "execution_count": 2,
   "id": "e7a606b7",
   "metadata": {
    "execution": {
     "iopub.execute_input": "2024-12-16T03:22:52.456469Z",
     "iopub.status.busy": "2024-12-16T03:22:52.455840Z",
     "iopub.status.idle": "2024-12-16T03:22:52.898243Z",
     "shell.execute_reply": "2024-12-16T03:22:52.898399Z"
    }
   },
   "outputs": [
    {
     "data": {
      "image/svg+xml": [
       "<?xml version=\"1.0\" encoding=\"UTF-8\" standalone=\"no\"?><svg xmlns=\"http://www.w3.org/2000/svg\" xmlns:xlink=\"http://www.w3.org/1999/xlink\" contentStyleType=\"text/css\" height=\"829px\" preserveAspectRatio=\"none\" style=\"width:277px;height:829px;background:#FFFFFF;\" version=\"1.1\" viewBox=\"0 0 277 829\" width=\"277px\" zoomAndPan=\"magnify\"><defs/><g><!--MD5=[fbc87193dbaf4d95561dea2c320d4a47]\n",
       "cluster E1--><g id=\"cluster_E1\"><a href=\"psysml:b50080a1-e82f-4c80-9a3f-5d66ab4e7e23\" target=\"_top\" title=\"psysml:b50080a1-e82f-4c80-9a3f-5d66ab4e7e23\" xlink:actuate=\"onRequest\" xlink:href=\"psysml:b50080a1-e82f-4c80-9a3f-5d66ab4e7e23\" xlink:show=\"new\" xlink:title=\"psysml:b50080a1-e82f-4c80-9a3f-5d66ab4e7e23\" xlink:type=\"simple\"><polygon fill=\"none\" points=\"16,6,86.5,6,93.5,28.2969,260,28.2969,260,822,16,822,16,6\" style=\"stroke:#000000;stroke-width:1.5;\"/><line style=\"stroke:#000000;stroke-width:1.5;\" x1=\"16\" x2=\"93.5\" y1=\"28.2969\" y2=\"28.2969\"/><text fill=\"#000000\" font-family=\"sans-serif\" font-size=\"14\" font-weight=\"bold\" lengthAdjust=\"spacing\" textLength=\"64.5\" x=\"20\" y=\"20.9951\">ItemTest</text></a></g><!--MD5=[b4997ac47864f28c2f74865a473b2911]\n",
       "class E2--><a href=\"psysml:4d36820e-7c5e-46bd-9de5-e346cea54837\" target=\"_top\" title=\"psysml:4d36820e-7c5e-46bd-9de5-e346cea54837\" xlink:actuate=\"onRequest\" xlink:href=\"psysml:4d36820e-7c5e-46bd-9de5-e346cea54837\" xlink:show=\"new\" xlink:title=\"psysml:4d36820e-7c5e-46bd-9de5-e346cea54837\" xlink:type=\"simple\"><g id=\"elem_E2\"><rect fill=\"#FFFFFF\" height=\"48.2656\" id=\"E2\" rx=\"10\" ry=\"10\" style=\"stroke:#181818;stroke-width:0.5;\" width=\"43\" x=\"200.5\" y=\"150\"/><text fill=\"#000000\" font-family=\"sans-serif\" font-size=\"12\" font-style=\"italic\" lengthAdjust=\"spacing\" textLength=\"41\" x=\"201.5\" y=\"166.1387\">«item»</text><text fill=\"#000000\" font-family=\"sans-serif\" font-size=\"14\" lengthAdjust=\"spacing\" textLength=\"22\" x=\"207\" y=\"181.9639\">f: A</text><line style=\"stroke:#181818;stroke-width:0.5;\" x1=\"201.5\" x2=\"242.5\" y1=\"190.2656\" y2=\"190.2656\"/></g></a><!--MD5=[09b614a08d8cba4a07c9adeb5e0fee81]\n",
       "class E3--><a href=\"psysml:90a9c46f-1bc9-4470-bf4e-8ae555dfcfc9\" target=\"_top\" title=\"psysml:90a9c46f-1bc9-4470-bf4e-8ae555dfcfc9\" xlink:actuate=\"onRequest\" xlink:href=\"psysml:90a9c46f-1bc9-4470-bf4e-8ae555dfcfc9\" xlink:show=\"new\" xlink:title=\"psysml:90a9c46f-1bc9-4470-bf4e-8ae555dfcfc9\" xlink:type=\"simple\"><g id=\"elem_E3\"><rect fill=\"#FFFFFF\" height=\"48.2656\" id=\"E3\" style=\"stroke:#181818;stroke-width:0.5;\" width=\"71\" x=\"105.5\" y=\"259\"/><text fill=\"#000000\" font-family=\"sans-serif\" font-size=\"12\" font-style=\"italic\" lengthAdjust=\"spacing\" textLength=\"69\" x=\"106.5\" y=\"275.1387\">«item  def»</text><text fill=\"#000000\" font-family=\"sans-serif\" font-size=\"14\" lengthAdjust=\"spacing\" textLength=\"9\" x=\"136.5\" y=\"290.9639\">A</text><line style=\"stroke:#181818;stroke-width:0.5;\" x1=\"106.5\" x2=\"175.5\" y1=\"299.2656\" y2=\"299.2656\"/></g></a><!--MD5=[ebbe1d658d1005bcc118a6aa81145e00]\n",
       "class E4--><a href=\"psysml:d394e1d7-ba50-4340-ad50-ece704d14a42\" target=\"_top\" title=\"psysml:d394e1d7-ba50-4340-ad50-ece704d14a42\" xlink:actuate=\"onRequest\" xlink:href=\"psysml:d394e1d7-ba50-4340-ad50-ece704d14a42\" xlink:show=\"new\" xlink:title=\"psysml:d394e1d7-ba50-4340-ad50-ece704d14a42\" xlink:type=\"simple\"><g id=\"elem_E4\"><rect fill=\"#FFFFFF\" height=\"48.2656\" id=\"E4\" rx=\"10\" ry=\"10\" style=\"stroke:#181818;stroke-width:0.5;\" width=\"43\" x=\"48.5\" y=\"446\"/><text fill=\"#000000\" font-family=\"sans-serif\" font-size=\"12\" font-style=\"italic\" lengthAdjust=\"spacing\" textLength=\"41\" x=\"49.5\" y=\"462.1387\">«item»</text><text fill=\"#000000\" font-family=\"sans-serif\" font-size=\"14\" lengthAdjust=\"spacing\" textLength=\"28\" x=\"52\" y=\"477.9639\">b: B</text><line style=\"stroke:#181818;stroke-width:0.5;\" x1=\"49.5\" x2=\"90.5\" y1=\"486.2656\" y2=\"486.2656\"/></g></a><!--MD5=[270fce915f116d4de14055a7c1d9a0f3]\n",
       "class E5--><a href=\"psysml:af047218-2074-4cd5-be73-a9bc4fd53c73\" target=\"_top\" title=\"psysml:af047218-2074-4cd5-be73-a9bc4fd53c73\" xlink:actuate=\"onRequest\" xlink:href=\"psysml:af047218-2074-4cd5-be73-a9bc4fd53c73\" xlink:show=\"new\" xlink:title=\"psysml:af047218-2074-4cd5-be73-a9bc4fd53c73\" xlink:type=\"simple\"><g id=\"elem_E5\"><rect fill=\"#FFFFFF\" height=\"48.2656\" id=\"E5\" rx=\"10\" ry=\"10\" style=\"stroke:#181818;stroke-width:0.5;\" width=\"42\" x=\"157\" y=\"368\"/><text fill=\"#000000\" font-family=\"sans-serif\" font-size=\"12\" font-style=\"italic\" lengthAdjust=\"spacing\" textLength=\"40\" x=\"158\" y=\"384.1387\">«part»</text><text fill=\"#000000\" font-family=\"sans-serif\" font-size=\"14\" lengthAdjust=\"spacing\" textLength=\"27\" x=\"160.5\" y=\"399.9639\">c: C</text><line style=\"stroke:#181818;stroke-width:0.5;\" x1=\"158\" x2=\"198\" y1=\"408.2656\" y2=\"408.2656\"/></g></a><!--MD5=[60a26617385b1d2d0262a64233df1f8d]\n",
       "class E6--><a href=\"psysml:24ac0b44-19f7-4e7e-9d8c-29217623109a\" target=\"_top\" title=\"psysml:24ac0b44-19f7-4e7e-9d8c-29217623109a\" xlink:actuate=\"onRequest\" xlink:href=\"psysml:24ac0b44-19f7-4e7e-9d8c-29217623109a\" xlink:show=\"new\" xlink:title=\"psysml:24ac0b44-19f7-4e7e-9d8c-29217623109a\" xlink:type=\"simple\"><g id=\"elem_E6\"><rect fill=\"#FFFFFF\" height=\"48.2656\" id=\"E6\" style=\"stroke:#181818;stroke-width:0.5;\" width=\"71\" x=\"116.5\" y=\"649\"/><text fill=\"#000000\" font-family=\"sans-serif\" font-size=\"12\" font-style=\"italic\" lengthAdjust=\"spacing\" textLength=\"69\" x=\"117.5\" y=\"665.1387\">«item  def»</text><text fill=\"#000000\" font-family=\"sans-serif\" font-size=\"14\" font-style=\"italic\" lengthAdjust=\"spacing\" textLength=\"10\" x=\"147\" y=\"680.9639\">B</text><line style=\"stroke:#181818;stroke-width:0.5;\" x1=\"117.5\" x2=\"186.5\" y1=\"689.2656\" y2=\"689.2656\"/></g></a><!--MD5=[2156ba9850f5573cc1fc38a6a4b2f02b]\n",
       "class E7--><a href=\"psysml:f97762a5-be4a-40f0-b15f-ded6f9a0a2bf\" target=\"_top\" title=\"psysml:f97762a5-be4a-40f0-b15f-ded6f9a0a2bf\" xlink:actuate=\"onRequest\" xlink:href=\"psysml:f97762a5-be4a-40f0-b15f-ded6f9a0a2bf\" xlink:show=\"new\" xlink:title=\"psysml:f97762a5-be4a-40f0-b15f-ded6f9a0a2bf\" xlink:type=\"simple\"><g id=\"elem_E7\"><rect fill=\"#FFFFFF\" height=\"48.2656\" id=\"E7\" rx=\"10\" ry=\"10\" style=\"stroke:#181818;stroke-width:0.5;\" width=\"42\" x=\"167\" y=\"758\"/><text fill=\"#000000\" font-family=\"sans-serif\" font-size=\"12\" font-style=\"italic\" lengthAdjust=\"spacing\" textLength=\"40\" x=\"168\" y=\"774.1387\">«part»</text><text fill=\"#000000\" font-family=\"sans-serif\" font-size=\"14\" font-style=\"italic\" lengthAdjust=\"spacing\" textLength=\"8\" x=\"171\" y=\"789.9639\">a</text><text fill=\"#000000\" font-family=\"sans-serif\" font-size=\"14\" lengthAdjust=\"spacing\" textLength=\"18\" x=\"179\" y=\"789.9639\">: A</text><line style=\"stroke:#181818;stroke-width:0.5;\" x1=\"168\" x2=\"208\" y1=\"798.2656\" y2=\"798.2656\"/></g></a><!--MD5=[b9389687b975829384b498ac4b7476b2]\n",
       "class E8--><a href=\"psysml:2119f9fa-e703-4679-adcc-c9e3fda7136e\" target=\"_top\" title=\"psysml:2119f9fa-e703-4679-adcc-c9e3fda7136e\" xlink:actuate=\"onRequest\" xlink:href=\"psysml:2119f9fa-e703-4679-adcc-c9e3fda7136e\" xlink:show=\"new\" xlink:title=\"psysml:2119f9fa-e703-4679-adcc-c9e3fda7136e\" xlink:type=\"simple\"><g id=\"elem_E8\"><rect fill=\"#FFFFFF\" height=\"48.2656\" id=\"E8\" style=\"stroke:#181818;stroke-width:0.5;\" width=\"70\" x=\"117\" y=\"524\"/><text fill=\"#000000\" font-family=\"sans-serif\" font-size=\"12\" font-style=\"italic\" lengthAdjust=\"spacing\" textLength=\"68\" x=\"118\" y=\"540.1387\">«part  def»</text><text fill=\"#000000\" font-family=\"sans-serif\" font-size=\"14\" lengthAdjust=\"spacing\" textLength=\"10\" x=\"147\" y=\"555.9639\">C</text><line style=\"stroke:#181818;stroke-width:0.5;\" x1=\"118\" x2=\"186\" y1=\"564.2656\" y2=\"564.2656\"/></g></a><!--MD5=[fd4143e9d270a159db93a4ea2a975926]\n",
       "class E9--><a href=\"psysml:f9be0f9f-7828-47af-b676-a3098923450b\" target=\"_top\" title=\"psysml:f9be0f9f-7828-47af-b676-a3098923450b\" xlink:actuate=\"onRequest\" xlink:href=\"psysml:f9be0f9f-7828-47af-b676-a3098923450b\" xlink:show=\"new\" xlink:title=\"psysml:f9be0f9f-7828-47af-b676-a3098923450b\" xlink:type=\"simple\"><g id=\"elem_E9\"><rect fill=\"#FFFFFF\" height=\"48.2656\" id=\"E9\" style=\"stroke:#181818;stroke-width:0.5;\" width=\"70\" x=\"69\" y=\"41\"/><text fill=\"#000000\" font-family=\"sans-serif\" font-size=\"12\" font-style=\"italic\" lengthAdjust=\"spacing\" textLength=\"68\" x=\"70\" y=\"57.1387\">«port  def»</text><text fill=\"#000000\" font-family=\"sans-serif\" font-size=\"14\" lengthAdjust=\"spacing\" textLength=\"9\" x=\"99.5\" y=\"72.9639\">P</text><line style=\"stroke:#181818;stroke-width:0.5;\" x1=\"70\" x2=\"138\" y1=\"81.2656\" y2=\"81.2656\"/></g></a><!--MD5=[96f4274e9e20536e775497830990834d]\n",
       "class E10--><a href=\"psysml:bdd21edf-ffb1-47e0-8301-b129ba721304\" target=\"_top\" title=\"psysml:bdd21edf-ffb1-47e0-8301-b129ba721304\" xlink:actuate=\"onRequest\" xlink:href=\"psysml:bdd21edf-ffb1-47e0-8301-b129ba721304\" xlink:show=\"new\" xlink:title=\"psysml:bdd21edf-ffb1-47e0-8301-b129ba721304\" xlink:type=\"simple\"><g id=\"elem_E10\"><rect fill=\"#FFFFFF\" height=\"48.2656\" id=\"E10\" rx=\"10\" ry=\"10\" style=\"stroke:#181818;stroke-width:0.5;\" width=\"49\" x=\"32.5\" y=\"150\"/><text fill=\"#000000\" font-family=\"sans-serif\" font-size=\"12\" font-style=\"italic\" lengthAdjust=\"spacing\" textLength=\"41\" x=\"36.5\" y=\"166.1387\">«item»</text><text fill=\"#000000\" font-family=\"sans-serif\" font-size=\"14\" lengthAdjust=\"spacing\" textLength=\"35\" x=\"35.5\" y=\"181.9639\">a1: A</text><line style=\"stroke:#181818;stroke-width:0.5;\" x1=\"33.5\" x2=\"80.5\" y1=\"190.2656\" y2=\"190.2656\"/></g></a><!--MD5=[1dd1bfd58a279cf63c5f349dbc8fc6a1]\n",
       "class E11--><a href=\"psysml:ea86bb80-7fc3-4478-bdc0-15728142c0fa\" target=\"_top\" title=\"psysml:ea86bb80-7fc3-4478-bdc0-15728142c0fa\" xlink:actuate=\"onRequest\" xlink:href=\"psysml:ea86bb80-7fc3-4478-bdc0-15728142c0fa\" xlink:show=\"new\" xlink:title=\"psysml:ea86bb80-7fc3-4478-bdc0-15728142c0fa\" xlink:type=\"simple\"><g id=\"elem_E11\"><rect fill=\"#FFFFFF\" height=\"48.2656\" id=\"E11\" rx=\"10\" ry=\"10\" style=\"stroke:#181818;stroke-width:0.5;\" width=\"49\" x=\"116.5\" y=\"150\"/><text fill=\"#000000\" font-family=\"sans-serif\" font-size=\"12\" font-style=\"italic\" lengthAdjust=\"spacing\" textLength=\"41\" x=\"120.5\" y=\"166.1387\">«item»</text><text fill=\"#000000\" font-family=\"sans-serif\" font-size=\"14\" lengthAdjust=\"spacing\" textLength=\"35\" x=\"119.5\" y=\"181.9639\">a2: A</text><line style=\"stroke:#181818;stroke-width:0.5;\" x1=\"117.5\" x2=\"164.5\" y1=\"190.2656\" y2=\"190.2656\"/></g></a><!--MD5=[2720a5a1f2c3fca2055b230370638851]\n",
       "link E2 to E3--><g id=\"link_E2_E3\"><a href=\"psysml:358bd963-d6cf-4c51-9d97-dc29b520688f\" target=\"_top\" title=\"psysml:358bd963-d6cf-4c51-9d97-dc29b520688f\" xlink:actuate=\"onRequest\" xlink:href=\"psysml:358bd963-d6cf-4c51-9d97-dc29b520688f\" xlink:show=\"new\" xlink:title=\"psysml:358bd963-d6cf-4c51-9d97-dc29b520688f\" xlink:type=\"simple\"><path d=\"M204.42,198.22 C194.55,211.26 181.97,227.88 170.62,242.87 \" fill=\"none\" id=\"E2-to-E3\" style=\"stroke:#181818;stroke-width:1.0;\"/><polygon fill=\"#FFFFFF\" points=\"158.54,258.83,164.4286,239.4567,175.5901,247.9078,158.54,258.83\" style=\"stroke:#181818;stroke-width:1.0;\"/><ellipse cx=\"169.4639\" cy=\"236.1197\" fill=\"#181818\" rx=\"2\" ry=\"2\" style=\"stroke:#181818;stroke-width:1.0;\"/><ellipse cx=\"177.4364\" cy=\"242.1562\" fill=\"#181818\" rx=\"2\" ry=\"2\" style=\"stroke:#181818;stroke-width:1.0;\"/></a></g><!--MD5=[4672eba38e49728da53d11aeb285b987]\n",
       "reverse link E3 to E4--><g id=\"link_E3_E4\"><a href=\"psysml:724ffe94-cfbf-4ea2-b315-6baf1a587f0c\" target=\"_top\" title=\"psysml:724ffe94-cfbf-4ea2-b315-6baf1a587f0c\" xlink:actuate=\"onRequest\" xlink:href=\"psysml:724ffe94-cfbf-4ea2-b315-6baf1a587f0c\" xlink:show=\"new\" xlink:title=\"psysml:724ffe94-cfbf-4ea2-b315-6baf1a587f0c\" xlink:type=\"simple\"><path d=\"M104.38,316.32 C90.85,330.64 77.09,348.62 70,368 C60.72,393.36 62.6,424.76 65.58,445.75 \" fill=\"none\" id=\"E3-backto-E4\" style=\"stroke:#181818;stroke-width:1.0;\"/><polygon fill=\"#181818\" points=\"113.62,307.02,106.5522,308.4507,105.1545,315.525,112.2223,314.0943,113.62,307.02\" style=\"stroke:#181818;stroke-width:1.0;\"/></a></g><!--MD5=[191cde3d490a3f6d7bb551fe3ddca469]\n",
       "reverse link E3 to E5--><g id=\"link_E3_E5\"><a href=\"psysml:9c72d63b-be6b-487b-af19-53b3ed2c634b\" target=\"_top\" title=\"psysml:9c72d63b-be6b-487b-af19-53b3ed2c634b\" xlink:actuate=\"onRequest\" xlink:href=\"psysml:9c72d63b-be6b-487b-af19-53b3ed2c634b\" xlink:show=\"new\" xlink:title=\"psysml:9c72d63b-be6b-487b-af19-53b3ed2c634b\" xlink:type=\"simple\"><path d=\"M153.39,319.83 C158.86,335.66 165.14,353.82 169.99,367.83 \" fill=\"none\" id=\"E3-backto-E5\" style=\"stroke:#181818;stroke-width:1.0;\"/><polygon fill=\"none\" points=\"149.03,307.22,147.2077,314.1971,152.9472,318.5627,154.7695,311.5856,149.03,307.22\" style=\"stroke:#181818;stroke-width:1.0;\"/></a></g><!--MD5=[79568f1e445c3877b6a54524624ccc7d]\n",
       "link E4 to E6--><g id=\"link_E4_E6\"><a href=\"psysml:c1d845e5-90b4-4786-9172-2f85f48f902a\" target=\"_top\" title=\"psysml:c1d845e5-90b4-4786-9172-2f85f48f902a\" xlink:actuate=\"onRequest\" xlink:href=\"psysml:c1d845e5-90b4-4786-9172-2f85f48f902a\" xlink:show=\"new\" xlink:title=\"psysml:c1d845e5-90b4-4786-9172-2f85f48f902a\" xlink:type=\"simple\"><path d=\"M75.57,494.29 C80.84,515.04 89.51,546.05 100,572 C108.08,591.98 118.83,613.29 128.46,631.07 \" fill=\"none\" id=\"E4-to-E6\" style=\"stroke:#181818;stroke-width:1.0;\"/><polygon fill=\"#FFFFFF\" points=\"138.29,648.76,122.9437,635.5505,135.1819,628.7515,138.29,648.76\" style=\"stroke:#181818;stroke-width:1.0;\"/><ellipse cx=\"121.9238\" cy=\"629.5965\" fill=\"#181818\" rx=\"2\" ry=\"2\" style=\"stroke:#181818;stroke-width:1.0;\"/><ellipse cx=\"130.6654\" cy=\"624.7401\" fill=\"#181818\" rx=\"2\" ry=\"2\" style=\"stroke:#181818;stroke-width:1.0;\"/></a></g><!--MD5=[3f50a3473f1dfb74d3f76443e03635af]\n",
       "reverse link E6 to E7--><g id=\"link_E6_E7\"><a href=\"psysml:ee76f7ce-c996-4988-9b1a-5ac16ad8d066\" target=\"_top\" title=\"psysml:ee76f7ce-c996-4988-9b1a-5ac16ad8d066\" xlink:actuate=\"onRequest\" xlink:href=\"psysml:ee76f7ce-c996-4988-9b1a-5ac16ad8d066\" xlink:show=\"new\" xlink:title=\"psysml:ee76f7ce-c996-4988-9b1a-5ac16ad8d066\" xlink:type=\"simple\"><path d=\"M164.05,709.83 C169.38,725.66 175.49,743.82 180.2,757.83 \" fill=\"none\" id=\"E6-backto-E7\" style=\"stroke:#181818;stroke-width:1.0;\"/><polygon fill=\"#181818\" points=\"159.81,697.22,157.9296,704.1816,163.6324,708.5949,165.5128,701.6333,159.81,697.22\" style=\"stroke:#181818;stroke-width:1.0;\"/></a></g><!--MD5=[14ccda38c055a5c0da953d572bc50960]\n",
       "link E7 to E3--><g id=\"link_E7_E3\"><a href=\"psysml:1cb41c8a-3888-4a6d-b592-33957295a7ee\" target=\"_top\" title=\"psysml:1cb41c8a-3888-4a6d-b592-33957295a7ee\" xlink:actuate=\"onRequest\" xlink:href=\"psysml:1cb41c8a-3888-4a6d-b592-33957295a7ee\" xlink:show=\"new\" xlink:title=\"psysml:1cb41c8a-3888-4a6d-b592-33957295a7ee\" xlink:type=\"simple\"><path d=\"M204.97,757.64 C218.43,736.78 235,704.84 235,674 C235,391 235,391 235,391 C235,361.35 214.38,336.01 192.46,317.43 \" fill=\"none\" id=\"E7-to-E3\" style=\"stroke:#181818;stroke-width:1.0;\"/><polygon fill=\"#FFFFFF\" points=\"176.54,305.14,195.8578,311.2081,187.3035,322.2907,176.54,305.14\" style=\"stroke:#181818;stroke-width:1.0;\"/><ellipse cx=\"199.148\" cy=\"316.2741\" fill=\"#181818\" rx=\"2\" ry=\"2\" style=\"stroke:#181818;stroke-width:1.0;\"/><ellipse cx=\"193.0378\" cy=\"324.1903\" fill=\"#181818\" rx=\"2\" ry=\"2\" style=\"stroke:#181818;stroke-width:1.0;\"/></a></g><!--MD5=[dfaffb906826c3e5aca635516100ff21]\n",
       "link E5 to E8--><g id=\"link_E5_E8\"><a href=\"psysml:b2862137-6a73-49a4-ad0f-48652eafb24c\" target=\"_top\" title=\"psysml:b2862137-6a73-49a4-ad0f-48652eafb24c\" xlink:actuate=\"onRequest\" xlink:href=\"psysml:b2862137-6a73-49a4-ad0f-48652eafb24c\" xlink:show=\"new\" xlink:title=\"psysml:b2862137-6a73-49a4-ad0f-48652eafb24c\" xlink:type=\"simple\"><path d=\"M174.11,416.06 C170.2,439.19 164.09,475.38 159.28,503.86 \" fill=\"none\" id=\"E5-to-E8\" style=\"stroke:#181818;stroke-width:1.0;\"/><polygon fill=\"#FFFFFF\" points=\"155.92,523.79,152.1809,503.8898,165.9855,506.2206,155.92,523.79\" style=\"stroke:#181818;stroke-width:1.0;\"/><ellipse cx=\"155.1019\" cy=\"498.6023\" fill=\"#181818\" rx=\"2\" ry=\"2\" style=\"stroke:#181818;stroke-width:1.0;\"/><ellipse cx=\"164.9624\" cy=\"500.2671\" fill=\"#181818\" rx=\"2\" ry=\"2\" style=\"stroke:#181818;stroke-width:1.0;\"/></a></g><!--MD5=[03c8294790d3c57651a1993cecff665f]\n",
       "reverse link E8 to E3--><g id=\"link_E8_E3\"><a href=\"psysml:764dcc5f-c791-44bd-8fe4-0cc6162433fb\" target=\"_top\" title=\"psysml:764dcc5f-c791-44bd-8fe4-0cc6162433fb\" xlink:actuate=\"onRequest\" xlink:href=\"psysml:764dcc5f-c791-44bd-8fe4-0cc6162433fb\" xlink:show=\"new\" xlink:title=\"psysml:764dcc5f-c791-44bd-8fe4-0cc6162433fb\" xlink:type=\"simple\"><path d=\"M144.62,510.88 C139.66,484.68 133.57,448.31 131,416 C129.31,394.73 129.74,389.3 131,368 C132.23,347.33 135.14,323.95 137.5,307.11 \" fill=\"none\" id=\"E8-backto-E3\" style=\"stroke:#181818;stroke-width:1.0;\"/><polygon fill=\"none\" points=\"147.16,523.94,149.9387,517.2857,144.865,512.1615,142.0863,518.8158,147.16,523.94\" style=\"stroke:#181818;stroke-width:1.0;\"/><text fill=\"#000000\" font-family=\"sans-serif\" font-size=\"13\" lengthAdjust=\"spacing\" textLength=\"7\" x=\"132\" y=\"396.5669\">y</text></a></g><!--MD5=[0d75d2178373a6a4568e5dc728f58aef]\n",
       "reverse link E8 to E6--><g id=\"link_E8_E6\"><a href=\"psysml:764dcc5f-c791-44bd-8fe4-0cc6162433fb\" target=\"_top\" title=\"psysml:764dcc5f-c791-44bd-8fe4-0cc6162433fb\" xlink:actuate=\"onRequest\" xlink:href=\"psysml:764dcc5f-c791-44bd-8fe4-0cc6162433fb\" xlink:show=\"new\" xlink:title=\"psysml:764dcc5f-c791-44bd-8fe4-0cc6162433fb\" xlink:type=\"simple\"><path d=\"M152,585.21 C152,605.83 152,631.04 152,648.97 \" fill=\"none\" id=\"E8-backto-E6\" style=\"stroke:#181818;stroke-width:1.0;\"/><polygon fill=\"none\" points=\"152,572.14,148,578.14,152,584.14,156,578.14,152,572.14\" style=\"stroke:#181818;stroke-width:1.0;\"/><text fill=\"#000000\" font-family=\"sans-serif\" font-size=\"13\" lengthAdjust=\"spacing\" textLength=\"7\" x=\"153\" y=\"615.0669\">y</text></a></g><!--MD5=[23ac544a70576c3e717098101004234c]\n",
       "reverse link E9 to E10--><g id=\"link_E9_E10\"><a href=\"psysml:1f369bef-866d-4201-85d0-19625ffb0bd4\" target=\"_top\" title=\"psysml:1f369bef-866d-4201-85d0-19625ffb0bd4\" xlink:actuate=\"onRequest\" xlink:href=\"psysml:1f369bef-866d-4201-85d0-19625ffb0bd4\" xlink:show=\"new\" xlink:title=\"psysml:1f369bef-866d-4201-85d0-19625ffb0bd4\" xlink:type=\"simple\"><path d=\"M88.47,101.35 C81.47,117.29 73.39,135.68 67.18,149.83 \" fill=\"none\" id=\"E9-backto-E10\" style=\"stroke:#181818;stroke-width:1.0;\"/><polygon fill=\"none\" points=\"93.8,89.22,87.7243,93.1041,88.9729,100.2063,95.0485,96.3222,93.8,89.22\" style=\"stroke:#181818;stroke-width:1.0;\"/></a></g><!--MD5=[feeac5eb423634930294aa81f2d25a4c]\n",
       "link E10 to E3--><g id=\"link_E10_E3\"><a href=\"psysml:0dc69dec-387f-4606-9efc-6b8567a081cf\" target=\"_top\" title=\"psysml:0dc69dec-387f-4606-9efc-6b8567a081cf\" xlink:actuate=\"onRequest\" xlink:href=\"psysml:0dc69dec-387f-4606-9efc-6b8567a081cf\" xlink:show=\"new\" xlink:title=\"psysml:0dc69dec-387f-4606-9efc-6b8567a081cf\" xlink:type=\"simple\"><path d=\"M75.23,198.22 C85.46,211.26 98.51,227.88 110.28,242.87 \" fill=\"none\" id=\"E10-to-E3\" style=\"stroke:#181818;stroke-width:1.0;\"/><polygon fill=\"#FFFFFF\" points=\"122.81,258.83,105.5676,248.214,116.5764,239.565,122.81,258.83\" style=\"stroke:#181818;stroke-width:1.0;\"/><ellipse cx=\"103.6189\" cy=\"242.4963\" fill=\"#181818\" rx=\"2\" ry=\"2\" style=\"stroke:#181818;stroke-width:1.0;\"/><ellipse cx=\"111.4823\" cy=\"236.3184\" fill=\"#181818\" rx=\"2\" ry=\"2\" style=\"stroke:#181818;stroke-width:1.0;\"/></a></g><!--MD5=[1fc04a95fd77ad5ce46c1a3027516051]\n",
       "reverse link E9 to E11--><g id=\"link_E9_E11\"><a href=\"psysml:41147f3b-680c-4b19-9ea9-1ad0d7284d0b\" target=\"_top\" title=\"psysml:41147f3b-680c-4b19-9ea9-1ad0d7284d0b\" xlink:actuate=\"onRequest\" xlink:href=\"psysml:41147f3b-680c-4b19-9ea9-1ad0d7284d0b\" xlink:show=\"new\" xlink:title=\"psysml:41147f3b-680c-4b19-9ea9-1ad0d7284d0b\" xlink:type=\"simple\"><path d=\"M116.39,101.83 C121.86,117.66 128.14,135.82 132.99,149.83 \" fill=\"none\" id=\"E9-backto-E11\" style=\"stroke:#181818;stroke-width:1.0;\"/><polygon fill=\"none\" points=\"112.03,89.22,110.2077,96.1971,115.9472,100.5627,117.7695,93.5856,112.03,89.22\" style=\"stroke:#181818;stroke-width:1.0;\"/></a></g><!--MD5=[0517f1ce58c4d5483948f93845c45e26]\n",
       "link E11 to E3--><g id=\"link_E11_E3\"><a href=\"psysml:86cba12c-5c0b-4cb2-8a0f-652783ee7e3b\" target=\"_top\" title=\"psysml:86cba12c-5c0b-4cb2-8a0f-652783ee7e3b\" xlink:actuate=\"onRequest\" xlink:href=\"psysml:86cba12c-5c0b-4cb2-8a0f-652783ee7e3b\" xlink:show=\"new\" xlink:title=\"psysml:86cba12c-5c0b-4cb2-8a0f-652783ee7e3b\" xlink:type=\"simple\"><path d=\"M141,198.22 C141,210 141,224.69 141,238.48 \" fill=\"none\" id=\"E11-to-E3\" style=\"stroke:#181818;stroke-width:1.0;\"/><polygon fill=\"#FFFFFF\" points=\"141,258.83,134,239.83,148,239.83,141,258.83\" style=\"stroke:#181818;stroke-width:1.0;\"/><ellipse cx=\"136\" cy=\"234.13\" fill=\"#181818\" rx=\"2\" ry=\"2\" style=\"stroke:#181818;stroke-width:1.0;\"/><ellipse cx=\"146\" cy=\"234.13\" fill=\"#181818\" rx=\"2\" ry=\"2\" style=\"stroke:#181818;stroke-width:1.0;\"/></a></g><!--MD5=[53e2a6c998e922c60a743c6c9318f332]\n",
       "@startuml\r\n",
       "skin sysmlbw\r\n",
       "skinparam monochrome true\r\n",
       "skinparam wrapWidth 300\r\n",
       "hide circle\r\n",
       " \r\n",
       "package \"ItemTest\" as E1  [[psysml:b50080a1-e82f-4c80-9a3f-5d66ab4e7e23 ]]  {\r\n",
       "comp usage \"f: A  \" as E2  <<(T,blue) item>> [[psysml:4d36820e-7c5e-46bd-9de5-e346cea54837 ]] {\r\n",
       "}\r\n",
       "comp def \"A\" as E3  <<(T,blue) item  def>> [[psysml:90a9c46f-1bc9-4470-bf4e-8ae555dfcfc9 ]] {\r\n",
       "}\r\n",
       "comp usage \"b: B  \" as E4  <<(T,blue) item>> [[psysml:d394e1d7-ba50-4340-ad50-ece704d14a42 ]] {\r\n",
       "}\r\n",
       "comp usage \"c: C  \" as E5  <<(T,blue) part>> [[psysml:af047218-2074-4cd5-be73-a9bc4fd53c73 ]] {\r\n",
       "}\r\n",
       "comp def \"<i>B</i>\" as E6  <<(T,blue) item  def>> [[psysml:24ac0b44-19f7-4e7e-9d8c-29217623109a ]] {\r\n",
       "}\r\n",
       "comp usage \"<i>a</i>: A  \" as E7  <<(T,blue) part>> [[psysml:f97762a5-be4a-40f0-b15f-ded6f9a0a2bf ]] {\r\n",
       "}\r\n",
       "comp def \"C\" as E8  <<(T,blue) part  def>> [[psysml:2119f9fa-e703-4679-adcc-c9e3fda7136e ]] {\r\n",
       "}\r\n",
       "comp def \"P\" as E9  <<(T,blue) port  def>> [[psysml:f9be0f9f-7828-47af-b676-a3098923450b ]] {\r\n",
       "}\r\n",
       "comp usage \"a1: A  \" as E10  <<(T,blue) item>> [[psysml:bdd21edf-ffb1-47e0-8301-b129ba721304 ]] {\r\n",
       "}\r\n",
       "comp usage \"a2: A  \" as E11  <<(T,blue) item>> [[psysml:ea86bb80-7fc3-4478-bdc0-15728142c0fa ]] {\r\n",
       "}\r\n",
       "}\r\n",
       "E2 - -:|> E3 [[psysml:358bd963-d6cf-4c51-9d97-dc29b520688f ]] \r\n",
       "E3 *- - E4 [[psysml:724ffe94-cfbf-4ea2-b315-6baf1a587f0c ]] \r\n",
       "E3 o- - E5 [[psysml:9c72d63b-be6b-487b-af19-53b3ed2c634b ]] \r\n",
       "E4 - -:|> E6 [[psysml:c1d845e5-90b4-4786-9172-2f85f48f902a ]] \r\n",
       "E6 *- - E7 [[psysml:ee76f7ce-c996-4988-9b1a-5ac16ad8d066 ]] \r\n",
       "E7 - -:|> E3 [[psysml:1cb41c8a-3888-4a6d-b592-33957295a7ee ]] \r\n",
       "E5 - -:|> E8 [[psysml:b2862137-6a73-49a4-ad0f-48652eafb24c ]] \r\n",
       "E8 o- - E3 [[psysml:764dcc5f-c791-44bd-8fe4-0cc6162433fb ]] : y\r\n",
       "E8 o- - E6 [[psysml:764dcc5f-c791-44bd-8fe4-0cc6162433fb ]] : y\r\n",
       "E9 o- - E10 [[psysml:1f369bef-866d-4201-85d0-19625ffb0bd4 ]] \r\n",
       "E10 - -:|> E3 [[psysml:0dc69dec-387f-4606-9efc-6b8567a081cf ]] \r\n",
       "E9 o- - E11 [[psysml:41147f3b-680c-4b19-9ea9-1ad0d7284d0b ]] \r\n",
       "E11 - -:|> E3 [[psysml:86cba12c-5c0b-4cb2-8a0f-652783ee7e3b ]] \r\n",
       "@enduml\r\n",
       "\n",
       "PlantUML version 1.2022.7(Mon Aug 22 17:01:30 UTC 2022)\n",
       "(EPL source distribution)\n",
       "Java Runtime: OpenJDK Runtime Environment\n",
       "JVM: OpenJDK 64-Bit Server VM\n",
       "Default Encoding: UTF-8\n",
       "Language: en\n",
       "Country: null\n",
       "--></g></svg>"
      ]
     },
     "execution_count": 2,
     "metadata": {},
     "output_type": "execute_result"
    }
   ],
   "source": [
    "%viz --style=\"COMPTREE\" --view=\"Default\" \"ItemTest\""
   ]
  },
  {
   "cell_type": "code",
   "execution_count": 3,
   "id": "6099d266",
   "metadata": {
    "execution": {
     "iopub.execute_input": "2024-12-16T03:22:52.955156Z",
     "iopub.status.busy": "2024-12-16T03:22:52.954106Z",
     "iopub.status.idle": "2024-12-16T03:22:53.006085Z",
     "shell.execute_reply": "2024-12-16T03:22:53.006220Z"
    }
   },
   "outputs": [
    {
     "data": {
      "image/svg+xml": [
       "<?xml version=\"1.0\" encoding=\"UTF-8\" standalone=\"no\"?><svg xmlns=\"http://www.w3.org/2000/svg\" xmlns:xlink=\"http://www.w3.org/1999/xlink\" contentStyleType=\"text/css\" height=\"829px\" preserveAspectRatio=\"none\" style=\"width:277px;height:829px;background:#FFFFFF;\" version=\"1.1\" viewBox=\"0 0 277 829\" width=\"277px\" zoomAndPan=\"magnify\"><defs/><g><!--MD5=[fbc87193dbaf4d95561dea2c320d4a47]\n",
       "cluster E1--><g id=\"cluster_E1\"><a href=\"psysml:b50080a1-e82f-4c80-9a3f-5d66ab4e7e23\" target=\"_top\" title=\"psysml:b50080a1-e82f-4c80-9a3f-5d66ab4e7e23\" xlink:actuate=\"onRequest\" xlink:href=\"psysml:b50080a1-e82f-4c80-9a3f-5d66ab4e7e23\" xlink:show=\"new\" xlink:title=\"psysml:b50080a1-e82f-4c80-9a3f-5d66ab4e7e23\" xlink:type=\"simple\"><polygon fill=\"none\" points=\"16,6,86.5,6,93.5,28.2969,260,28.2969,260,822,16,822,16,6\" style=\"stroke:#000000;stroke-width:1.5;\"/><line style=\"stroke:#000000;stroke-width:1.5;\" x1=\"16\" x2=\"93.5\" y1=\"28.2969\" y2=\"28.2969\"/><text fill=\"#000000\" font-family=\"sans-serif\" font-size=\"14\" font-weight=\"bold\" lengthAdjust=\"spacing\" textLength=\"64.5\" x=\"20\" y=\"20.9951\">ItemTest</text></a></g><!--MD5=[b4997ac47864f28c2f74865a473b2911]\n",
       "class E2--><a href=\"psysml:4d36820e-7c5e-46bd-9de5-e346cea54837\" target=\"_top\" title=\"psysml:4d36820e-7c5e-46bd-9de5-e346cea54837\" xlink:actuate=\"onRequest\" xlink:href=\"psysml:4d36820e-7c5e-46bd-9de5-e346cea54837\" xlink:show=\"new\" xlink:title=\"psysml:4d36820e-7c5e-46bd-9de5-e346cea54837\" xlink:type=\"simple\"><g id=\"elem_E2\"><rect fill=\"#FFFFFF\" height=\"48.2656\" id=\"E2\" rx=\"10\" ry=\"10\" style=\"stroke:#181818;stroke-width:0.5;\" width=\"43\" x=\"200.5\" y=\"150\"/><text fill=\"#000000\" font-family=\"sans-serif\" font-size=\"12\" font-style=\"italic\" lengthAdjust=\"spacing\" textLength=\"41\" x=\"201.5\" y=\"166.1387\">«item»</text><text fill=\"#000000\" font-family=\"sans-serif\" font-size=\"14\" lengthAdjust=\"spacing\" textLength=\"22\" x=\"207\" y=\"181.9639\">f: A</text><line style=\"stroke:#181818;stroke-width:0.5;\" x1=\"201.5\" x2=\"242.5\" y1=\"190.2656\" y2=\"190.2656\"/></g></a><!--MD5=[09b614a08d8cba4a07c9adeb5e0fee81]\n",
       "class E3--><a href=\"psysml:90a9c46f-1bc9-4470-bf4e-8ae555dfcfc9\" target=\"_top\" title=\"psysml:90a9c46f-1bc9-4470-bf4e-8ae555dfcfc9\" xlink:actuate=\"onRequest\" xlink:href=\"psysml:90a9c46f-1bc9-4470-bf4e-8ae555dfcfc9\" xlink:show=\"new\" xlink:title=\"psysml:90a9c46f-1bc9-4470-bf4e-8ae555dfcfc9\" xlink:type=\"simple\"><g id=\"elem_E3\"><rect fill=\"#FFFFFF\" height=\"48.2656\" id=\"E3\" style=\"stroke:#181818;stroke-width:0.5;\" width=\"71\" x=\"105.5\" y=\"259\"/><text fill=\"#000000\" font-family=\"sans-serif\" font-size=\"12\" font-style=\"italic\" lengthAdjust=\"spacing\" textLength=\"69\" x=\"106.5\" y=\"275.1387\">«item  def»</text><text fill=\"#000000\" font-family=\"sans-serif\" font-size=\"14\" lengthAdjust=\"spacing\" textLength=\"9\" x=\"136.5\" y=\"290.9639\">A</text><line style=\"stroke:#181818;stroke-width:0.5;\" x1=\"106.5\" x2=\"175.5\" y1=\"299.2656\" y2=\"299.2656\"/></g></a><!--MD5=[ebbe1d658d1005bcc118a6aa81145e00]\n",
       "class E4--><a href=\"psysml:d394e1d7-ba50-4340-ad50-ece704d14a42\" target=\"_top\" title=\"psysml:d394e1d7-ba50-4340-ad50-ece704d14a42\" xlink:actuate=\"onRequest\" xlink:href=\"psysml:d394e1d7-ba50-4340-ad50-ece704d14a42\" xlink:show=\"new\" xlink:title=\"psysml:d394e1d7-ba50-4340-ad50-ece704d14a42\" xlink:type=\"simple\"><g id=\"elem_E4\"><rect fill=\"#FFFFFF\" height=\"48.2656\" id=\"E4\" rx=\"10\" ry=\"10\" style=\"stroke:#181818;stroke-width:0.5;\" width=\"43\" x=\"48.5\" y=\"446\"/><text fill=\"#000000\" font-family=\"sans-serif\" font-size=\"12\" font-style=\"italic\" lengthAdjust=\"spacing\" textLength=\"41\" x=\"49.5\" y=\"462.1387\">«item»</text><text fill=\"#000000\" font-family=\"sans-serif\" font-size=\"14\" lengthAdjust=\"spacing\" textLength=\"28\" x=\"52\" y=\"477.9639\">b: B</text><line style=\"stroke:#181818;stroke-width:0.5;\" x1=\"49.5\" x2=\"90.5\" y1=\"486.2656\" y2=\"486.2656\"/></g></a><!--MD5=[270fce915f116d4de14055a7c1d9a0f3]\n",
       "class E5--><a href=\"psysml:af047218-2074-4cd5-be73-a9bc4fd53c73\" target=\"_top\" title=\"psysml:af047218-2074-4cd5-be73-a9bc4fd53c73\" xlink:actuate=\"onRequest\" xlink:href=\"psysml:af047218-2074-4cd5-be73-a9bc4fd53c73\" xlink:show=\"new\" xlink:title=\"psysml:af047218-2074-4cd5-be73-a9bc4fd53c73\" xlink:type=\"simple\"><g id=\"elem_E5\"><rect fill=\"#FFFFFF\" height=\"48.2656\" id=\"E5\" rx=\"10\" ry=\"10\" style=\"stroke:#181818;stroke-width:0.5;\" width=\"42\" x=\"157\" y=\"368\"/><text fill=\"#000000\" font-family=\"sans-serif\" font-size=\"12\" font-style=\"italic\" lengthAdjust=\"spacing\" textLength=\"40\" x=\"158\" y=\"384.1387\">«part»</text><text fill=\"#000000\" font-family=\"sans-serif\" font-size=\"14\" lengthAdjust=\"spacing\" textLength=\"27\" x=\"160.5\" y=\"399.9639\">c: C</text><line style=\"stroke:#181818;stroke-width:0.5;\" x1=\"158\" x2=\"198\" y1=\"408.2656\" y2=\"408.2656\"/></g></a><!--MD5=[60a26617385b1d2d0262a64233df1f8d]\n",
       "class E6--><a href=\"psysml:24ac0b44-19f7-4e7e-9d8c-29217623109a\" target=\"_top\" title=\"psysml:24ac0b44-19f7-4e7e-9d8c-29217623109a\" xlink:actuate=\"onRequest\" xlink:href=\"psysml:24ac0b44-19f7-4e7e-9d8c-29217623109a\" xlink:show=\"new\" xlink:title=\"psysml:24ac0b44-19f7-4e7e-9d8c-29217623109a\" xlink:type=\"simple\"><g id=\"elem_E6\"><rect fill=\"#FFFFFF\" height=\"48.2656\" id=\"E6\" style=\"stroke:#181818;stroke-width:0.5;\" width=\"71\" x=\"116.5\" y=\"649\"/><text fill=\"#000000\" font-family=\"sans-serif\" font-size=\"12\" font-style=\"italic\" lengthAdjust=\"spacing\" textLength=\"69\" x=\"117.5\" y=\"665.1387\">«item  def»</text><text fill=\"#000000\" font-family=\"sans-serif\" font-size=\"14\" font-style=\"italic\" lengthAdjust=\"spacing\" textLength=\"10\" x=\"147\" y=\"680.9639\">B</text><line style=\"stroke:#181818;stroke-width:0.5;\" x1=\"117.5\" x2=\"186.5\" y1=\"689.2656\" y2=\"689.2656\"/></g></a><!--MD5=[2156ba9850f5573cc1fc38a6a4b2f02b]\n",
       "class E7--><a href=\"psysml:f97762a5-be4a-40f0-b15f-ded6f9a0a2bf\" target=\"_top\" title=\"psysml:f97762a5-be4a-40f0-b15f-ded6f9a0a2bf\" xlink:actuate=\"onRequest\" xlink:href=\"psysml:f97762a5-be4a-40f0-b15f-ded6f9a0a2bf\" xlink:show=\"new\" xlink:title=\"psysml:f97762a5-be4a-40f0-b15f-ded6f9a0a2bf\" xlink:type=\"simple\"><g id=\"elem_E7\"><rect fill=\"#FFFFFF\" height=\"48.2656\" id=\"E7\" rx=\"10\" ry=\"10\" style=\"stroke:#181818;stroke-width:0.5;\" width=\"42\" x=\"167\" y=\"758\"/><text fill=\"#000000\" font-family=\"sans-serif\" font-size=\"12\" font-style=\"italic\" lengthAdjust=\"spacing\" textLength=\"40\" x=\"168\" y=\"774.1387\">«part»</text><text fill=\"#000000\" font-family=\"sans-serif\" font-size=\"14\" font-style=\"italic\" lengthAdjust=\"spacing\" textLength=\"8\" x=\"171\" y=\"789.9639\">a</text><text fill=\"#000000\" font-family=\"sans-serif\" font-size=\"14\" lengthAdjust=\"spacing\" textLength=\"18\" x=\"179\" y=\"789.9639\">: A</text><line style=\"stroke:#181818;stroke-width:0.5;\" x1=\"168\" x2=\"208\" y1=\"798.2656\" y2=\"798.2656\"/></g></a><!--MD5=[b9389687b975829384b498ac4b7476b2]\n",
       "class E8--><a href=\"psysml:2119f9fa-e703-4679-adcc-c9e3fda7136e\" target=\"_top\" title=\"psysml:2119f9fa-e703-4679-adcc-c9e3fda7136e\" xlink:actuate=\"onRequest\" xlink:href=\"psysml:2119f9fa-e703-4679-adcc-c9e3fda7136e\" xlink:show=\"new\" xlink:title=\"psysml:2119f9fa-e703-4679-adcc-c9e3fda7136e\" xlink:type=\"simple\"><g id=\"elem_E8\"><rect fill=\"#FFFFFF\" height=\"48.2656\" id=\"E8\" style=\"stroke:#181818;stroke-width:0.5;\" width=\"70\" x=\"117\" y=\"524\"/><text fill=\"#000000\" font-family=\"sans-serif\" font-size=\"12\" font-style=\"italic\" lengthAdjust=\"spacing\" textLength=\"68\" x=\"118\" y=\"540.1387\">«part  def»</text><text fill=\"#000000\" font-family=\"sans-serif\" font-size=\"14\" lengthAdjust=\"spacing\" textLength=\"10\" x=\"147\" y=\"555.9639\">C</text><line style=\"stroke:#181818;stroke-width:0.5;\" x1=\"118\" x2=\"186\" y1=\"564.2656\" y2=\"564.2656\"/></g></a><!--MD5=[fd4143e9d270a159db93a4ea2a975926]\n",
       "class E9--><a href=\"psysml:f9be0f9f-7828-47af-b676-a3098923450b\" target=\"_top\" title=\"psysml:f9be0f9f-7828-47af-b676-a3098923450b\" xlink:actuate=\"onRequest\" xlink:href=\"psysml:f9be0f9f-7828-47af-b676-a3098923450b\" xlink:show=\"new\" xlink:title=\"psysml:f9be0f9f-7828-47af-b676-a3098923450b\" xlink:type=\"simple\"><g id=\"elem_E9\"><rect fill=\"#FFFFFF\" height=\"48.2656\" id=\"E9\" style=\"stroke:#181818;stroke-width:0.5;\" width=\"70\" x=\"69\" y=\"41\"/><text fill=\"#000000\" font-family=\"sans-serif\" font-size=\"12\" font-style=\"italic\" lengthAdjust=\"spacing\" textLength=\"68\" x=\"70\" y=\"57.1387\">«port  def»</text><text fill=\"#000000\" font-family=\"sans-serif\" font-size=\"14\" lengthAdjust=\"spacing\" textLength=\"9\" x=\"99.5\" y=\"72.9639\">P</text><line style=\"stroke:#181818;stroke-width:0.5;\" x1=\"70\" x2=\"138\" y1=\"81.2656\" y2=\"81.2656\"/></g></a><!--MD5=[96f4274e9e20536e775497830990834d]\n",
       "class E10--><a href=\"psysml:bdd21edf-ffb1-47e0-8301-b129ba721304\" target=\"_top\" title=\"psysml:bdd21edf-ffb1-47e0-8301-b129ba721304\" xlink:actuate=\"onRequest\" xlink:href=\"psysml:bdd21edf-ffb1-47e0-8301-b129ba721304\" xlink:show=\"new\" xlink:title=\"psysml:bdd21edf-ffb1-47e0-8301-b129ba721304\" xlink:type=\"simple\"><g id=\"elem_E10\"><rect fill=\"#FFFFFF\" height=\"48.2656\" id=\"E10\" rx=\"10\" ry=\"10\" style=\"stroke:#181818;stroke-width:0.5;\" width=\"49\" x=\"32.5\" y=\"150\"/><text fill=\"#000000\" font-family=\"sans-serif\" font-size=\"12\" font-style=\"italic\" lengthAdjust=\"spacing\" textLength=\"41\" x=\"36.5\" y=\"166.1387\">«item»</text><text fill=\"#000000\" font-family=\"sans-serif\" font-size=\"14\" lengthAdjust=\"spacing\" textLength=\"35\" x=\"35.5\" y=\"181.9639\">a1: A</text><line style=\"stroke:#181818;stroke-width:0.5;\" x1=\"33.5\" x2=\"80.5\" y1=\"190.2656\" y2=\"190.2656\"/></g></a><!--MD5=[1dd1bfd58a279cf63c5f349dbc8fc6a1]\n",
       "class E11--><a href=\"psysml:ea86bb80-7fc3-4478-bdc0-15728142c0fa\" target=\"_top\" title=\"psysml:ea86bb80-7fc3-4478-bdc0-15728142c0fa\" xlink:actuate=\"onRequest\" xlink:href=\"psysml:ea86bb80-7fc3-4478-bdc0-15728142c0fa\" xlink:show=\"new\" xlink:title=\"psysml:ea86bb80-7fc3-4478-bdc0-15728142c0fa\" xlink:type=\"simple\"><g id=\"elem_E11\"><rect fill=\"#FFFFFF\" height=\"48.2656\" id=\"E11\" rx=\"10\" ry=\"10\" style=\"stroke:#181818;stroke-width:0.5;\" width=\"49\" x=\"116.5\" y=\"150\"/><text fill=\"#000000\" font-family=\"sans-serif\" font-size=\"12\" font-style=\"italic\" lengthAdjust=\"spacing\" textLength=\"41\" x=\"120.5\" y=\"166.1387\">«item»</text><text fill=\"#000000\" font-family=\"sans-serif\" font-size=\"14\" lengthAdjust=\"spacing\" textLength=\"35\" x=\"119.5\" y=\"181.9639\">a2: A</text><line style=\"stroke:#181818;stroke-width:0.5;\" x1=\"117.5\" x2=\"164.5\" y1=\"190.2656\" y2=\"190.2656\"/></g></a><!--MD5=[2720a5a1f2c3fca2055b230370638851]\n",
       "link E2 to E3--><g id=\"link_E2_E3\"><a href=\"psysml:358bd963-d6cf-4c51-9d97-dc29b520688f\" target=\"_top\" title=\"psysml:358bd963-d6cf-4c51-9d97-dc29b520688f\" xlink:actuate=\"onRequest\" xlink:href=\"psysml:358bd963-d6cf-4c51-9d97-dc29b520688f\" xlink:show=\"new\" xlink:title=\"psysml:358bd963-d6cf-4c51-9d97-dc29b520688f\" xlink:type=\"simple\"><path d=\"M204.42,198.22 C194.55,211.26 181.97,227.88 170.62,242.87 \" fill=\"none\" id=\"E2-to-E3\" style=\"stroke:#181818;stroke-width:1.0;\"/><polygon fill=\"#FFFFFF\" points=\"158.54,258.83,164.4286,239.4567,175.5901,247.9078,158.54,258.83\" style=\"stroke:#181818;stroke-width:1.0;\"/><ellipse cx=\"169.4639\" cy=\"236.1197\" fill=\"#181818\" rx=\"2\" ry=\"2\" style=\"stroke:#181818;stroke-width:1.0;\"/><ellipse cx=\"177.4364\" cy=\"242.1562\" fill=\"#181818\" rx=\"2\" ry=\"2\" style=\"stroke:#181818;stroke-width:1.0;\"/></a></g><!--MD5=[4672eba38e49728da53d11aeb285b987]\n",
       "reverse link E3 to E4--><g id=\"link_E3_E4\"><a href=\"psysml:724ffe94-cfbf-4ea2-b315-6baf1a587f0c\" target=\"_top\" title=\"psysml:724ffe94-cfbf-4ea2-b315-6baf1a587f0c\" xlink:actuate=\"onRequest\" xlink:href=\"psysml:724ffe94-cfbf-4ea2-b315-6baf1a587f0c\" xlink:show=\"new\" xlink:title=\"psysml:724ffe94-cfbf-4ea2-b315-6baf1a587f0c\" xlink:type=\"simple\"><path d=\"M104.38,316.32 C90.85,330.64 77.09,348.62 70,368 C60.72,393.36 62.6,424.76 65.58,445.75 \" fill=\"none\" id=\"E3-backto-E4\" style=\"stroke:#181818;stroke-width:1.0;\"/><polygon fill=\"#181818\" points=\"113.62,307.02,106.5522,308.4507,105.1545,315.525,112.2223,314.0943,113.62,307.02\" style=\"stroke:#181818;stroke-width:1.0;\"/></a></g><!--MD5=[191cde3d490a3f6d7bb551fe3ddca469]\n",
       "reverse link E3 to E5--><g id=\"link_E3_E5\"><a href=\"psysml:9c72d63b-be6b-487b-af19-53b3ed2c634b\" target=\"_top\" title=\"psysml:9c72d63b-be6b-487b-af19-53b3ed2c634b\" xlink:actuate=\"onRequest\" xlink:href=\"psysml:9c72d63b-be6b-487b-af19-53b3ed2c634b\" xlink:show=\"new\" xlink:title=\"psysml:9c72d63b-be6b-487b-af19-53b3ed2c634b\" xlink:type=\"simple\"><path d=\"M153.39,319.83 C158.86,335.66 165.14,353.82 169.99,367.83 \" fill=\"none\" id=\"E3-backto-E5\" style=\"stroke:#181818;stroke-width:1.0;\"/><polygon fill=\"none\" points=\"149.03,307.22,147.2077,314.1971,152.9472,318.5627,154.7695,311.5856,149.03,307.22\" style=\"stroke:#181818;stroke-width:1.0;\"/></a></g><!--MD5=[79568f1e445c3877b6a54524624ccc7d]\n",
       "link E4 to E6--><g id=\"link_E4_E6\"><a href=\"psysml:c1d845e5-90b4-4786-9172-2f85f48f902a\" target=\"_top\" title=\"psysml:c1d845e5-90b4-4786-9172-2f85f48f902a\" xlink:actuate=\"onRequest\" xlink:href=\"psysml:c1d845e5-90b4-4786-9172-2f85f48f902a\" xlink:show=\"new\" xlink:title=\"psysml:c1d845e5-90b4-4786-9172-2f85f48f902a\" xlink:type=\"simple\"><path d=\"M75.57,494.29 C80.84,515.04 89.51,546.05 100,572 C108.08,591.98 118.83,613.29 128.46,631.07 \" fill=\"none\" id=\"E4-to-E6\" style=\"stroke:#181818;stroke-width:1.0;\"/><polygon fill=\"#FFFFFF\" points=\"138.29,648.76,122.9437,635.5505,135.1819,628.7515,138.29,648.76\" style=\"stroke:#181818;stroke-width:1.0;\"/><ellipse cx=\"121.9238\" cy=\"629.5965\" fill=\"#181818\" rx=\"2\" ry=\"2\" style=\"stroke:#181818;stroke-width:1.0;\"/><ellipse cx=\"130.6654\" cy=\"624.7401\" fill=\"#181818\" rx=\"2\" ry=\"2\" style=\"stroke:#181818;stroke-width:1.0;\"/></a></g><!--MD5=[3f50a3473f1dfb74d3f76443e03635af]\n",
       "reverse link E6 to E7--><g id=\"link_E6_E7\"><a href=\"psysml:ee76f7ce-c996-4988-9b1a-5ac16ad8d066\" target=\"_top\" title=\"psysml:ee76f7ce-c996-4988-9b1a-5ac16ad8d066\" xlink:actuate=\"onRequest\" xlink:href=\"psysml:ee76f7ce-c996-4988-9b1a-5ac16ad8d066\" xlink:show=\"new\" xlink:title=\"psysml:ee76f7ce-c996-4988-9b1a-5ac16ad8d066\" xlink:type=\"simple\"><path d=\"M164.05,709.83 C169.38,725.66 175.49,743.82 180.2,757.83 \" fill=\"none\" id=\"E6-backto-E7\" style=\"stroke:#181818;stroke-width:1.0;\"/><polygon fill=\"#181818\" points=\"159.81,697.22,157.9296,704.1816,163.6324,708.5949,165.5128,701.6333,159.81,697.22\" style=\"stroke:#181818;stroke-width:1.0;\"/></a></g><!--MD5=[14ccda38c055a5c0da953d572bc50960]\n",
       "link E7 to E3--><g id=\"link_E7_E3\"><a href=\"psysml:1cb41c8a-3888-4a6d-b592-33957295a7ee\" target=\"_top\" title=\"psysml:1cb41c8a-3888-4a6d-b592-33957295a7ee\" xlink:actuate=\"onRequest\" xlink:href=\"psysml:1cb41c8a-3888-4a6d-b592-33957295a7ee\" xlink:show=\"new\" xlink:title=\"psysml:1cb41c8a-3888-4a6d-b592-33957295a7ee\" xlink:type=\"simple\"><path d=\"M204.97,757.64 C218.43,736.78 235,704.84 235,674 C235,391 235,391 235,391 C235,361.35 214.38,336.01 192.46,317.43 \" fill=\"none\" id=\"E7-to-E3\" style=\"stroke:#181818;stroke-width:1.0;\"/><polygon fill=\"#FFFFFF\" points=\"176.54,305.14,195.8578,311.2081,187.3035,322.2907,176.54,305.14\" style=\"stroke:#181818;stroke-width:1.0;\"/><ellipse cx=\"199.148\" cy=\"316.2741\" fill=\"#181818\" rx=\"2\" ry=\"2\" style=\"stroke:#181818;stroke-width:1.0;\"/><ellipse cx=\"193.0378\" cy=\"324.1903\" fill=\"#181818\" rx=\"2\" ry=\"2\" style=\"stroke:#181818;stroke-width:1.0;\"/></a></g><!--MD5=[dfaffb906826c3e5aca635516100ff21]\n",
       "link E5 to E8--><g id=\"link_E5_E8\"><a href=\"psysml:b2862137-6a73-49a4-ad0f-48652eafb24c\" target=\"_top\" title=\"psysml:b2862137-6a73-49a4-ad0f-48652eafb24c\" xlink:actuate=\"onRequest\" xlink:href=\"psysml:b2862137-6a73-49a4-ad0f-48652eafb24c\" xlink:show=\"new\" xlink:title=\"psysml:b2862137-6a73-49a4-ad0f-48652eafb24c\" xlink:type=\"simple\"><path d=\"M174.11,416.06 C170.2,439.19 164.09,475.38 159.28,503.86 \" fill=\"none\" id=\"E5-to-E8\" style=\"stroke:#181818;stroke-width:1.0;\"/><polygon fill=\"#FFFFFF\" points=\"155.92,523.79,152.1809,503.8898,165.9855,506.2206,155.92,523.79\" style=\"stroke:#181818;stroke-width:1.0;\"/><ellipse cx=\"155.1019\" cy=\"498.6023\" fill=\"#181818\" rx=\"2\" ry=\"2\" style=\"stroke:#181818;stroke-width:1.0;\"/><ellipse cx=\"164.9624\" cy=\"500.2671\" fill=\"#181818\" rx=\"2\" ry=\"2\" style=\"stroke:#181818;stroke-width:1.0;\"/></a></g><!--MD5=[03c8294790d3c57651a1993cecff665f]\n",
       "reverse link E8 to E3--><g id=\"link_E8_E3\"><a href=\"psysml:764dcc5f-c791-44bd-8fe4-0cc6162433fb\" target=\"_top\" title=\"psysml:764dcc5f-c791-44bd-8fe4-0cc6162433fb\" xlink:actuate=\"onRequest\" xlink:href=\"psysml:764dcc5f-c791-44bd-8fe4-0cc6162433fb\" xlink:show=\"new\" xlink:title=\"psysml:764dcc5f-c791-44bd-8fe4-0cc6162433fb\" xlink:type=\"simple\"><path d=\"M144.62,510.88 C139.66,484.68 133.57,448.31 131,416 C129.31,394.73 129.74,389.3 131,368 C132.23,347.33 135.14,323.95 137.5,307.11 \" fill=\"none\" id=\"E8-backto-E3\" style=\"stroke:#181818;stroke-width:1.0;\"/><polygon fill=\"none\" points=\"147.16,523.94,149.9387,517.2857,144.865,512.1615,142.0863,518.8158,147.16,523.94\" style=\"stroke:#181818;stroke-width:1.0;\"/><text fill=\"#000000\" font-family=\"sans-serif\" font-size=\"13\" lengthAdjust=\"spacing\" textLength=\"7\" x=\"132\" y=\"396.5669\">y</text></a></g><!--MD5=[0d75d2178373a6a4568e5dc728f58aef]\n",
       "reverse link E8 to E6--><g id=\"link_E8_E6\"><a href=\"psysml:764dcc5f-c791-44bd-8fe4-0cc6162433fb\" target=\"_top\" title=\"psysml:764dcc5f-c791-44bd-8fe4-0cc6162433fb\" xlink:actuate=\"onRequest\" xlink:href=\"psysml:764dcc5f-c791-44bd-8fe4-0cc6162433fb\" xlink:show=\"new\" xlink:title=\"psysml:764dcc5f-c791-44bd-8fe4-0cc6162433fb\" xlink:type=\"simple\"><path d=\"M152,585.21 C152,605.83 152,631.04 152,648.97 \" fill=\"none\" id=\"E8-backto-E6\" style=\"stroke:#181818;stroke-width:1.0;\"/><polygon fill=\"none\" points=\"152,572.14,148,578.14,152,584.14,156,578.14,152,572.14\" style=\"stroke:#181818;stroke-width:1.0;\"/><text fill=\"#000000\" font-family=\"sans-serif\" font-size=\"13\" lengthAdjust=\"spacing\" textLength=\"7\" x=\"153\" y=\"615.0669\">y</text></a></g><!--MD5=[23ac544a70576c3e717098101004234c]\n",
       "reverse link E9 to E10--><g id=\"link_E9_E10\"><a href=\"psysml:1f369bef-866d-4201-85d0-19625ffb0bd4\" target=\"_top\" title=\"psysml:1f369bef-866d-4201-85d0-19625ffb0bd4\" xlink:actuate=\"onRequest\" xlink:href=\"psysml:1f369bef-866d-4201-85d0-19625ffb0bd4\" xlink:show=\"new\" xlink:title=\"psysml:1f369bef-866d-4201-85d0-19625ffb0bd4\" xlink:type=\"simple\"><path d=\"M88.47,101.35 C81.47,117.29 73.39,135.68 67.18,149.83 \" fill=\"none\" id=\"E9-backto-E10\" style=\"stroke:#181818;stroke-width:1.0;\"/><polygon fill=\"none\" points=\"93.8,89.22,87.7243,93.1041,88.9729,100.2063,95.0485,96.3222,93.8,89.22\" style=\"stroke:#181818;stroke-width:1.0;\"/></a></g><!--MD5=[feeac5eb423634930294aa81f2d25a4c]\n",
       "link E10 to E3--><g id=\"link_E10_E3\"><a href=\"psysml:0dc69dec-387f-4606-9efc-6b8567a081cf\" target=\"_top\" title=\"psysml:0dc69dec-387f-4606-9efc-6b8567a081cf\" xlink:actuate=\"onRequest\" xlink:href=\"psysml:0dc69dec-387f-4606-9efc-6b8567a081cf\" xlink:show=\"new\" xlink:title=\"psysml:0dc69dec-387f-4606-9efc-6b8567a081cf\" xlink:type=\"simple\"><path d=\"M75.23,198.22 C85.46,211.26 98.51,227.88 110.28,242.87 \" fill=\"none\" id=\"E10-to-E3\" style=\"stroke:#181818;stroke-width:1.0;\"/><polygon fill=\"#FFFFFF\" points=\"122.81,258.83,105.5676,248.214,116.5764,239.565,122.81,258.83\" style=\"stroke:#181818;stroke-width:1.0;\"/><ellipse cx=\"103.6189\" cy=\"242.4963\" fill=\"#181818\" rx=\"2\" ry=\"2\" style=\"stroke:#181818;stroke-width:1.0;\"/><ellipse cx=\"111.4823\" cy=\"236.3184\" fill=\"#181818\" rx=\"2\" ry=\"2\" style=\"stroke:#181818;stroke-width:1.0;\"/></a></g><!--MD5=[1fc04a95fd77ad5ce46c1a3027516051]\n",
       "reverse link E9 to E11--><g id=\"link_E9_E11\"><a href=\"psysml:41147f3b-680c-4b19-9ea9-1ad0d7284d0b\" target=\"_top\" title=\"psysml:41147f3b-680c-4b19-9ea9-1ad0d7284d0b\" xlink:actuate=\"onRequest\" xlink:href=\"psysml:41147f3b-680c-4b19-9ea9-1ad0d7284d0b\" xlink:show=\"new\" xlink:title=\"psysml:41147f3b-680c-4b19-9ea9-1ad0d7284d0b\" xlink:type=\"simple\"><path d=\"M116.39,101.83 C121.86,117.66 128.14,135.82 132.99,149.83 \" fill=\"none\" id=\"E9-backto-E11\" style=\"stroke:#181818;stroke-width:1.0;\"/><polygon fill=\"none\" points=\"112.03,89.22,110.2077,96.1971,115.9472,100.5627,117.7695,93.5856,112.03,89.22\" style=\"stroke:#181818;stroke-width:1.0;\"/></a></g><!--MD5=[0517f1ce58c4d5483948f93845c45e26]\n",
       "link E11 to E3--><g id=\"link_E11_E3\"><a href=\"psysml:86cba12c-5c0b-4cb2-8a0f-652783ee7e3b\" target=\"_top\" title=\"psysml:86cba12c-5c0b-4cb2-8a0f-652783ee7e3b\" xlink:actuate=\"onRequest\" xlink:href=\"psysml:86cba12c-5c0b-4cb2-8a0f-652783ee7e3b\" xlink:show=\"new\" xlink:title=\"psysml:86cba12c-5c0b-4cb2-8a0f-652783ee7e3b\" xlink:type=\"simple\"><path d=\"M141,198.22 C141,210 141,224.69 141,238.48 \" fill=\"none\" id=\"E11-to-E3\" style=\"stroke:#181818;stroke-width:1.0;\"/><polygon fill=\"#FFFFFF\" points=\"141,258.83,134,239.83,148,239.83,141,258.83\" style=\"stroke:#181818;stroke-width:1.0;\"/><ellipse cx=\"136\" cy=\"234.13\" fill=\"#181818\" rx=\"2\" ry=\"2\" style=\"stroke:#181818;stroke-width:1.0;\"/><ellipse cx=\"146\" cy=\"234.13\" fill=\"#181818\" rx=\"2\" ry=\"2\" style=\"stroke:#181818;stroke-width:1.0;\"/></a></g><!--MD5=[53e2a6c998e922c60a743c6c9318f332]\n",
       "@startuml\r\n",
       "skin sysmlbw\r\n",
       "skinparam monochrome true\r\n",
       "skinparam wrapWidth 300\r\n",
       "hide circle\r\n",
       " \r\n",
       "package \"ItemTest\" as E1  [[psysml:b50080a1-e82f-4c80-9a3f-5d66ab4e7e23 ]]  {\r\n",
       "comp usage \"f: A  \" as E2  <<(T,blue) item>> [[psysml:4d36820e-7c5e-46bd-9de5-e346cea54837 ]] {\r\n",
       "}\r\n",
       "comp def \"A\" as E3  <<(T,blue) item  def>> [[psysml:90a9c46f-1bc9-4470-bf4e-8ae555dfcfc9 ]] {\r\n",
       "}\r\n",
       "comp usage \"b: B  \" as E4  <<(T,blue) item>> [[psysml:d394e1d7-ba50-4340-ad50-ece704d14a42 ]] {\r\n",
       "}\r\n",
       "comp usage \"c: C  \" as E5  <<(T,blue) part>> [[psysml:af047218-2074-4cd5-be73-a9bc4fd53c73 ]] {\r\n",
       "}\r\n",
       "comp def \"<i>B</i>\" as E6  <<(T,blue) item  def>> [[psysml:24ac0b44-19f7-4e7e-9d8c-29217623109a ]] {\r\n",
       "}\r\n",
       "comp usage \"<i>a</i>: A  \" as E7  <<(T,blue) part>> [[psysml:f97762a5-be4a-40f0-b15f-ded6f9a0a2bf ]] {\r\n",
       "}\r\n",
       "comp def \"C\" as E8  <<(T,blue) part  def>> [[psysml:2119f9fa-e703-4679-adcc-c9e3fda7136e ]] {\r\n",
       "}\r\n",
       "comp def \"P\" as E9  <<(T,blue) port  def>> [[psysml:f9be0f9f-7828-47af-b676-a3098923450b ]] {\r\n",
       "}\r\n",
       "comp usage \"a1: A  \" as E10  <<(T,blue) item>> [[psysml:bdd21edf-ffb1-47e0-8301-b129ba721304 ]] {\r\n",
       "}\r\n",
       "comp usage \"a2: A  \" as E11  <<(T,blue) item>> [[psysml:ea86bb80-7fc3-4478-bdc0-15728142c0fa ]] {\r\n",
       "}\r\n",
       "}\r\n",
       "E2 - -:|> E3 [[psysml:358bd963-d6cf-4c51-9d97-dc29b520688f ]] \r\n",
       "E3 *- - E4 [[psysml:724ffe94-cfbf-4ea2-b315-6baf1a587f0c ]] \r\n",
       "E3 o- - E5 [[psysml:9c72d63b-be6b-487b-af19-53b3ed2c634b ]] \r\n",
       "E4 - -:|> E6 [[psysml:c1d845e5-90b4-4786-9172-2f85f48f902a ]] \r\n",
       "E6 *- - E7 [[psysml:ee76f7ce-c996-4988-9b1a-5ac16ad8d066 ]] \r\n",
       "E7 - -:|> E3 [[psysml:1cb41c8a-3888-4a6d-b592-33957295a7ee ]] \r\n",
       "E5 - -:|> E8 [[psysml:b2862137-6a73-49a4-ad0f-48652eafb24c ]] \r\n",
       "E8 o- - E3 [[psysml:764dcc5f-c791-44bd-8fe4-0cc6162433fb ]] : y\r\n",
       "E8 o- - E6 [[psysml:764dcc5f-c791-44bd-8fe4-0cc6162433fb ]] : y\r\n",
       "E9 o- - E10 [[psysml:1f369bef-866d-4201-85d0-19625ffb0bd4 ]] \r\n",
       "E10 - -:|> E3 [[psysml:0dc69dec-387f-4606-9efc-6b8567a081cf ]] \r\n",
       "E9 o- - E11 [[psysml:41147f3b-680c-4b19-9ea9-1ad0d7284d0b ]] \r\n",
       "E11 - -:|> E3 [[psysml:86cba12c-5c0b-4cb2-8a0f-652783ee7e3b ]] \r\n",
       "@enduml\r\n",
       "\n",
       "PlantUML version 1.2022.7(Mon Aug 22 17:01:30 UTC 2022)\n",
       "(EPL source distribution)\n",
       "Java Runtime: OpenJDK Runtime Environment\n",
       "JVM: OpenJDK 64-Bit Server VM\n",
       "Default Encoding: UTF-8\n",
       "Language: en\n",
       "Country: null\n",
       "--></g></svg>"
      ]
     },
     "execution_count": 3,
     "metadata": {},
     "output_type": "execute_result"
    }
   ],
   "source": [
    "%viz --style=\"COMPTREE\" --view=\"Tree\" \"ItemTest\""
   ]
  },
  {
   "cell_type": "code",
   "execution_count": 4,
   "id": "c426832f",
   "metadata": {
    "execution": {
     "iopub.execute_input": "2024-12-16T03:22:53.066647Z",
     "iopub.status.busy": "2024-12-16T03:22:53.066451Z",
     "iopub.status.idle": "2024-12-16T03:22:53.074504Z",
     "shell.execute_reply": "2024-12-16T03:22:53.074329Z"
    }
   },
   "outputs": [
    {
     "data": {
      "image/svg+xml": [
       "<?xml version=\"1.0\" encoding=\"UTF-8\" standalone=\"no\"?><svg xmlns=\"http://www.w3.org/2000/svg\" xmlns:xlink=\"http://www.w3.org/1999/xlink\" contentStyleType=\"text/css\" height=\"10px\" preserveAspectRatio=\"none\" style=\"width:10px;height:10px;background:#FFFFFF;\" version=\"1.1\" viewBox=\"0 0 10 10\" width=\"10px\" zoomAndPan=\"magnify\"><defs/><g><!--MD5=[ee07d3037018df61283447c7fdb4a44f]\n",
       "@startuml\r\n",
       "skin sysmlbw\r\n",
       "skinparam monochrome true\r\n",
       "skinparam wrapWidth 300\r\n",
       "hide circle\r\n",
       " \r\n",
       "@enduml\r\n",
       "\n",
       "PlantUML version 1.2022.7(Mon Aug 22 17:01:30 UTC 2022)\n",
       "(EPL source distribution)\n",
       "Java Runtime: OpenJDK Runtime Environment\n",
       "JVM: OpenJDK 64-Bit Server VM\n",
       "Default Encoding: UTF-8\n",
       "Language: en\n",
       "Country: null\n",
       "--></g></svg>"
      ]
     },
     "execution_count": 4,
     "metadata": {},
     "output_type": "execute_result"
    }
   ],
   "source": [
    "%viz --style=\"COMPTREE\" --view=\"State\" \"ItemTest\""
   ]
  },
  {
   "cell_type": "code",
   "execution_count": 5,
   "id": "c9c8e751",
   "metadata": {
    "execution": {
     "iopub.execute_input": "2024-12-16T03:22:53.128146Z",
     "iopub.status.busy": "2024-12-16T03:22:53.127914Z",
     "iopub.status.idle": "2024-12-16T03:22:53.156024Z",
     "shell.execute_reply": "2024-12-16T03:22:53.156155Z"
    }
   },
   "outputs": [
    {
     "data": {
      "image/svg+xml": [
       "<?xml version=\"1.0\" encoding=\"UTF-8\" standalone=\"no\"?><svg xmlns=\"http://www.w3.org/2000/svg\" xmlns:xlink=\"http://www.w3.org/1999/xlink\" contentStyleType=\"text/css\" height=\"245px\" preserveAspectRatio=\"none\" style=\"width:478px;height:245px;background:#FFFFFF;\" version=\"1.1\" viewBox=\"0 0 478 245\" width=\"478px\" zoomAndPan=\"magnify\"><defs/><g><!--MD5=[fbc87193dbaf4d95561dea2c320d4a47]\n",
       "cluster E1--><g id=\"cluster_E1\"><a href=\"psysml:b50080a1-e82f-4c80-9a3f-5d66ab4e7e23\" target=\"_top\" title=\"psysml:b50080a1-e82f-4c80-9a3f-5d66ab4e7e23\" xlink:actuate=\"onRequest\" xlink:href=\"psysml:b50080a1-e82f-4c80-9a3f-5d66ab4e7e23\" xlink:show=\"new\" xlink:title=\"psysml:b50080a1-e82f-4c80-9a3f-5d66ab4e7e23\" xlink:type=\"simple\"><polygon fill=\"none\" points=\"16,6,86.5,6,93.5,28.2969,461,28.2969,461,238,16,238,16,6\" style=\"stroke:#000000;stroke-width:1.5;\"/><line style=\"stroke:#000000;stroke-width:1.5;\" x1=\"16\" x2=\"93.5\" y1=\"28.2969\" y2=\"28.2969\"/><text fill=\"#000000\" font-family=\"sans-serif\" font-size=\"14\" font-weight=\"bold\" lengthAdjust=\"spacing\" textLength=\"64.5\" x=\"20\" y=\"20.9951\">ItemTest</text></a></g><!--MD5=[de5ec2e2e8f62f467e546659f5068c88]\n",
       "cluster E5--><g id=\"cluster_E5\"><a href=\"psysml:2119f9fa-e703-4679-adcc-c9e3fda7136e\" target=\"_top\" title=\"psysml:2119f9fa-e703-4679-adcc-c9e3fda7136e\" xlink:actuate=\"onRequest\" xlink:href=\"psysml:2119f9fa-e703-4679-adcc-c9e3fda7136e\" xlink:show=\"new\" xlink:title=\"psysml:2119f9fa-e703-4679-adcc-c9e3fda7136e\" xlink:type=\"simple\"><rect fill=\"#FFFFFF\" height=\"112\" id=\"E5\" style=\"stroke:#383838;stroke-width:1.5;\" width=\"114\" x=\"323\" y=\"49\"/><text fill=\"#000000\" font-family=\"sans-serif\" font-size=\"12\" font-style=\"italic\" lengthAdjust=\"spacing\" textLength=\"68\" x=\"346\" y=\"65.1387\">«part  def»</text><text fill=\"#000000\" font-family=\"sans-serif\" font-size=\"14\" lengthAdjust=\"spacing\" textLength=\"10\" x=\"375\" y=\"80.9639\">C</text><line style=\"stroke:#383838;stroke-width:1.0;\" x1=\"323\" x2=\"437\" y1=\"89.2656\" y2=\"89.2656\"/></a></g><g><a href=\"psysml:90a9c46f-1bc9-4470-bf4e-8ae555dfcfc9\" target=\"_top\" title=\"psysml:90a9c46f-1bc9-4470-bf4e-8ae555dfcfc9\" xlink:actuate=\"onRequest\" xlink:href=\"psysml:90a9c46f-1bc9-4470-bf4e-8ae555dfcfc9\" xlink:show=\"new\" xlink:title=\"psysml:90a9c46f-1bc9-4470-bf4e-8ae555dfcfc9\" xlink:type=\"simple\"><rect fill=\"#FFFFFF\" height=\"45.2656\" id=\"E3\" style=\"stroke:#383838;stroke-width:1.5;\" width=\"76\" x=\"32\" y=\"177\"/><text fill=\"#000000\" font-family=\"sans-serif\" font-size=\"12\" font-style=\"italic\" lengthAdjust=\"spacing\" textLength=\"69\" x=\"35.5\" y=\"193.1387\">«item  def»</text><text fill=\"#000000\" font-family=\"sans-serif\" font-size=\"14\" lengthAdjust=\"spacing\" textLength=\"9\" x=\"65.5\" y=\"208.9639\">A</text></a></g><g><a href=\"psysml:24ac0b44-19f7-4e7e-9d8c-29217623109a\" target=\"_top\" title=\"psysml:24ac0b44-19f7-4e7e-9d8c-29217623109a\" xlink:actuate=\"onRequest\" xlink:href=\"psysml:24ac0b44-19f7-4e7e-9d8c-29217623109a\" xlink:show=\"new\" xlink:title=\"psysml:24ac0b44-19f7-4e7e-9d8c-29217623109a\" xlink:type=\"simple\"><rect fill=\"#FFFFFF\" height=\"45.2656\" id=\"E4\" style=\"stroke:#383838;stroke-width:1.5;\" width=\"76\" x=\"228\" y=\"100\"/><text fill=\"#000000\" font-family=\"sans-serif\" font-size=\"12\" font-style=\"italic\" lengthAdjust=\"spacing\" textLength=\"69\" x=\"231.5\" y=\"116.1387\">«item  def»</text><text fill=\"#000000\" font-family=\"sans-serif\" font-size=\"14\" font-style=\"italic\" lengthAdjust=\"spacing\" textLength=\"10\" x=\"261\" y=\"131.9639\">B</text></a></g><g><a href=\"psysml:f9be0f9f-7828-47af-b676-a3098923450b\" target=\"_top\" title=\"psysml:f9be0f9f-7828-47af-b676-a3098923450b\" xlink:actuate=\"onRequest\" xlink:href=\"psysml:f9be0f9f-7828-47af-b676-a3098923450b\" xlink:show=\"new\" xlink:title=\"psysml:f9be0f9f-7828-47af-b676-a3098923450b\" xlink:type=\"simple\"><rect fill=\"#FFFFFF\" height=\"45.2656\" id=\"E7\" style=\"stroke:#383838;stroke-width:1.5;\" width=\"75\" x=\"117.5\" y=\"100\"/><text fill=\"#000000\" font-family=\"sans-serif\" font-size=\"12\" font-style=\"italic\" lengthAdjust=\"spacing\" textLength=\"68\" x=\"121\" y=\"116.1387\">«port  def»</text><text fill=\"#000000\" font-family=\"sans-serif\" font-size=\"14\" lengthAdjust=\"spacing\" textLength=\"9\" x=\"150.5\" y=\"131.9639\">P</text></a></g><g><a href=\"psysml:4d36820e-7c5e-46bd-9de5-e346cea54837\" target=\"_top\" title=\"psysml:4d36820e-7c5e-46bd-9de5-e346cea54837\" xlink:actuate=\"onRequest\" xlink:href=\"psysml:4d36820e-7c5e-46bd-9de5-e346cea54837\" xlink:show=\"new\" xlink:title=\"psysml:4d36820e-7c5e-46bd-9de5-e346cea54837\" xlink:type=\"simple\"><rect fill=\"#FFFFFF\" height=\"45.2656\" id=\"E2\" rx=\"10\" ry=\"10\" style=\"stroke:#383838;stroke-width:1.5;\" width=\"50\" x=\"32\" y=\"100\"/><text fill=\"#000000\" font-family=\"sans-serif\" font-size=\"12\" font-style=\"italic\" lengthAdjust=\"spacing\" textLength=\"41\" x=\"36.5\" y=\"116.1387\">«item»</text><text fill=\"#000000\" font-family=\"sans-serif\" font-size=\"14\" lengthAdjust=\"spacing\" textLength=\"22\" x=\"46\" y=\"131.9639\">f: A</text></a></g><g><a href=\"psysml:764dcc5f-c791-44bd-8fe4-0cc6162433fb\" target=\"_top\" title=\"psysml:764dcc5f-c791-44bd-8fe4-0cc6162433fb\" xlink:actuate=\"onRequest\" xlink:href=\"psysml:764dcc5f-c791-44bd-8fe4-0cc6162433fb\" xlink:show=\"new\" xlink:title=\"psysml:764dcc5f-c791-44bd-8fe4-0cc6162433fb\" xlink:type=\"simple\"><rect fill=\"#FFFFFF\" height=\"45.2656\" id=\"E6\" rx=\"10\" ry=\"10\" style=\"stroke:#383838;stroke-width:1.5;\" width=\"82\" x=\"339\" y=\"100\"/><text fill=\"#000000\" font-family=\"sans-serif\" font-size=\"12\" font-style=\"italic\" lengthAdjust=\"spacing\" textLength=\"75\" x=\"342.5\" y=\"116.1387\">«reference»</text><text fill=\"#000000\" font-family=\"sans-serif\" font-size=\"14\" lengthAdjust=\"spacing\" textLength=\"43\" x=\"354.5\" y=\"131.9639\">y: A, B</text></a></g><!--MD5=[2720a5a1f2c3fca2055b230370638851]\n",
       "link E2 to E3--><g id=\"link_E2_E3\"><a href=\"psysml:358bd963-d6cf-4c51-9d97-dc29b520688f\" target=\"_top\" title=\"psysml:358bd963-d6cf-4c51-9d97-dc29b520688f\" xlink:actuate=\"onRequest\" xlink:href=\"psysml:358bd963-d6cf-4c51-9d97-dc29b520688f\" xlink:show=\"new\" xlink:title=\"psysml:358bd963-d6cf-4c51-9d97-dc29b520688f\" xlink:type=\"simple\"><path d=\"M60.76,145.19 C61.41,148.92 62.1,152.91 62.8,156.96 \" fill=\"none\" id=\"E2-to-E3\" style=\"stroke:#181818;stroke-width:1.0;\"/><polygon fill=\"#FFFFFF\" points=\"66.25,176.86,56.0959,159.3416,69.8886,156.9411,66.25,176.86\" style=\"stroke:#181818;stroke-width:1.0;\"/><ellipse cx=\"57.0889\" cy=\"153.3831\" fill=\"#181818\" rx=\"2\" ry=\"2\" style=\"stroke:#181818;stroke-width:1.0;\"/><ellipse cx=\"66.9408\" cy=\"151.6685\" fill=\"#181818\" rx=\"2\" ry=\"2\" style=\"stroke:#181818;stroke-width:1.0;\"/></a></g><!--MD5=[fdaf2c4a5f49be2e0a482c06e8a1c9f1]\n",
       "@startuml\r\n",
       "skin sysmlbw\r\n",
       "skinparam monochrome true\r\n",
       "skinparam wrapWidth 300\r\n",
       "hide circle\r\n",
       " skinparam ranksep 10\r\n",
       "skinparam rectangle {\r\n",
       " backgroundColor<<block>> LightGreen\r\n",
       "}\r\n",
       "\r\n",
       "package \"ItemTest\" as E1  [[psysml:b50080a1-e82f-4c80-9a3f-5d66ab4e7e23 ]]  {\r\n",
       "rec usage \"f: A\" as E2  <<(T,blue) item>> [[psysml:4d36820e-7c5e-46bd-9de5-e346cea54837 ]] {\r\n",
       "}\r\n",
       "def \"A\" as E3  <<(T,blue) item  def>> [[psysml:90a9c46f-1bc9-4470-bf4e-8ae555dfcfc9 ]] \r\n",
       "def \"<i>B</i>\" as E4  <<(T,blue) item  def>> [[psysml:24ac0b44-19f7-4e7e-9d8c-29217623109a ]] \r\n",
       "rec def \"C\" as E5  <<(T,blue) part  def>> [[psysml:2119f9fa-e703-4679-adcc-c9e3fda7136e ]] {\r\n",
       "rec usage \"y: A, B  \" as E6  <<(T,blue) reference>> [[psysml:764dcc5f-c791-44bd-8fe4-0cc6162433fb ]] {\r\n",
       "}\r\n",
       "\r\n",
       "}\r\n",
       "def \"P\" as E7  <<(T,blue) port  def>> [[psysml:f9be0f9f-7828-47af-b676-a3098923450b ]] \r\n",
       "}\r\n",
       "E2 - -:|> E3 [[psysml:358bd963-d6cf-4c51-9d97-dc29b520688f ]] \r\n",
       "@enduml\r\n",
       "\n",
       "PlantUML version 1.2022.7(Mon Aug 22 17:01:30 UTC 2022)\n",
       "(EPL source distribution)\n",
       "Java Runtime: OpenJDK Runtime Environment\n",
       "JVM: OpenJDK 64-Bit Server VM\n",
       "Default Encoding: UTF-8\n",
       "Language: en\n",
       "Country: null\n",
       "--></g></svg>"
      ]
     },
     "execution_count": 5,
     "metadata": {},
     "output_type": "execute_result"
    }
   ],
   "source": [
    "%viz --style=\"COMPTREE\" --view=\"Interconnection\" \"ItemTest\""
   ]
  },
  {
   "cell_type": "code",
   "execution_count": 6,
   "id": "67718385",
   "metadata": {
    "execution": {
     "iopub.execute_input": "2024-12-16T03:22:53.211088Z",
     "iopub.status.busy": "2024-12-16T03:22:53.210667Z",
     "iopub.status.idle": "2024-12-16T03:22:53.217363Z",
     "shell.execute_reply": "2024-12-16T03:22:53.217492Z"
    }
   },
   "outputs": [
    {
     "data": {
      "image/svg+xml": [
       "<?xml version=\"1.0\" encoding=\"UTF-8\" standalone=\"no\"?><svg xmlns=\"http://www.w3.org/2000/svg\" xmlns:xlink=\"http://www.w3.org/1999/xlink\" contentStyleType=\"text/css\" height=\"10px\" preserveAspectRatio=\"none\" style=\"width:10px;height:10px;background:#FFFFFF;\" version=\"1.1\" viewBox=\"0 0 10 10\" width=\"10px\" zoomAndPan=\"magnify\"><defs/><g><!--MD5=[042b5323e4810735e2315f6f99dad39e]\n",
       "@startuml\r\n",
       "skin sysmlbw\r\n",
       "skinparam monochrome true\r\n",
       "skinparam wrapWidth 300\r\n",
       "hide circle\r\n",
       " skinparam ranksep 8\r\n",
       "\r\n",
       "@enduml\r\n",
       "\n",
       "PlantUML version 1.2022.7(Mon Aug 22 17:01:30 UTC 2022)\n",
       "(EPL source distribution)\n",
       "Java Runtime: OpenJDK Runtime Environment\n",
       "JVM: OpenJDK 64-Bit Server VM\n",
       "Default Encoding: UTF-8\n",
       "Language: en\n",
       "Country: null\n",
       "--></g></svg>"
      ]
     },
     "execution_count": 6,
     "metadata": {},
     "output_type": "execute_result"
    }
   ],
   "source": [
    "%viz --style=\"COMPTREE\" --view=\"Action\" \"ItemTest\""
   ]
  },
  {
   "cell_type": "code",
   "execution_count": 7,
   "id": "39cb11b5",
   "metadata": {
    "execution": {
     "iopub.execute_input": "2024-12-16T03:22:53.274437Z",
     "iopub.status.busy": "2024-12-16T03:22:53.273490Z",
     "iopub.status.idle": "2024-12-16T03:22:53.289875Z",
     "shell.execute_reply": "2024-12-16T03:22:53.289701Z"
    }
   },
   "outputs": [
    {
     "data": {
      "image/svg+xml": [
       "<?xml version=\"1.0\" encoding=\"UTF-8\" standalone=\"no\"?><svg xmlns=\"http://www.w3.org/2000/svg\" xmlns:xlink=\"http://www.w3.org/1999/xlink\" contentStyleType=\"text/css\" height=\"10px\" preserveAspectRatio=\"none\" style=\"width:10px;height:10px;background:#FFFFFF;\" version=\"1.1\" viewBox=\"0 0 10 10\" width=\"10px\" zoomAndPan=\"magnify\"><defs/><g><!--MD5=[f5e9abf0a6c8dccaf40d0172f495ca0b]\n",
       "@startuml\r\n",
       "skin sysmlbw\r\n",
       "skinparam monochrome true\r\n",
       "skinparam wrapWidth 300\r\n",
       "hide circle\r\n",
       " skinparam roundcorner 20\r\n",
       "skinparam BoxPadding 20\r\n",
       "skinparam SequenceBoxBackgroundColor #white\r\n",
       "skinparam style strictuml\r\n",
       "skinparam maxMessageSize 100\r\n",
       "\r\n",
       "@enduml\r\n",
       "\n",
       "PlantUML version 1.2022.7(Mon Aug 22 17:01:30 UTC 2022)\n",
       "(EPL source distribution)\n",
       "Java Runtime: OpenJDK Runtime Environment\n",
       "JVM: OpenJDK 64-Bit Server VM\n",
       "Default Encoding: UTF-8\n",
       "Language: en\n",
       "Country: null\n",
       "--></g></svg>"
      ]
     },
     "execution_count": 7,
     "metadata": {},
     "output_type": "execute_result"
    }
   ],
   "source": [
    "%viz --style=\"COMPTREE\" --view=\"Sequence\" \"ItemTest\""
   ]
  },
  {
   "cell_type": "code",
   "execution_count": 8,
   "id": "9f787a72",
   "metadata": {
    "execution": {
     "iopub.execute_input": "2024-12-16T03:22:53.345755Z",
     "iopub.status.busy": "2024-12-16T03:22:53.345544Z",
     "iopub.status.idle": "2024-12-16T03:22:53.384336Z",
     "shell.execute_reply": "2024-12-16T03:22:53.383465Z"
    }
   },
   "outputs": [
    {
     "data": {
      "image/svg+xml": [
       "<?xml version=\"1.0\" encoding=\"UTF-8\" standalone=\"no\"?><svg xmlns=\"http://www.w3.org/2000/svg\" xmlns:xlink=\"http://www.w3.org/1999/xlink\" contentStyleType=\"text/css\" height=\"829px\" preserveAspectRatio=\"none\" style=\"width:277px;height:829px;background:#FFFFFF;\" version=\"1.1\" viewBox=\"0 0 277 829\" width=\"277px\" zoomAndPan=\"magnify\"><defs/><g><!--MD5=[fbc87193dbaf4d95561dea2c320d4a47]\n",
       "cluster E1--><g id=\"cluster_E1\"><a href=\"psysml:b50080a1-e82f-4c80-9a3f-5d66ab4e7e23\" target=\"_top\" title=\"psysml:b50080a1-e82f-4c80-9a3f-5d66ab4e7e23\" xlink:actuate=\"onRequest\" xlink:href=\"psysml:b50080a1-e82f-4c80-9a3f-5d66ab4e7e23\" xlink:show=\"new\" xlink:title=\"psysml:b50080a1-e82f-4c80-9a3f-5d66ab4e7e23\" xlink:type=\"simple\"><polygon fill=\"none\" points=\"16,6,86.5,6,93.5,28.2969,260,28.2969,260,822,16,822,16,6\" style=\"stroke:#000000;stroke-width:1.5;\"/><line style=\"stroke:#000000;stroke-width:1.5;\" x1=\"16\" x2=\"93.5\" y1=\"28.2969\" y2=\"28.2969\"/><text fill=\"#000000\" font-family=\"sans-serif\" font-size=\"14\" font-weight=\"bold\" lengthAdjust=\"spacing\" textLength=\"64.5\" x=\"20\" y=\"20.9951\">ItemTest</text></a></g><!--MD5=[b4997ac47864f28c2f74865a473b2911]\n",
       "class E2--><a href=\"psysml:4d36820e-7c5e-46bd-9de5-e346cea54837\" target=\"_top\" title=\"psysml:4d36820e-7c5e-46bd-9de5-e346cea54837\" xlink:actuate=\"onRequest\" xlink:href=\"psysml:4d36820e-7c5e-46bd-9de5-e346cea54837\" xlink:show=\"new\" xlink:title=\"psysml:4d36820e-7c5e-46bd-9de5-e346cea54837\" xlink:type=\"simple\"><g id=\"elem_E2\"><rect fill=\"#FFFFFF\" height=\"48.2656\" id=\"E2\" rx=\"10\" ry=\"10\" style=\"stroke:#181818;stroke-width:0.5;\" width=\"43\" x=\"200.5\" y=\"150\"/><text fill=\"#000000\" font-family=\"sans-serif\" font-size=\"12\" font-style=\"italic\" lengthAdjust=\"spacing\" textLength=\"41\" x=\"201.5\" y=\"166.1387\">«item»</text><text fill=\"#000000\" font-family=\"sans-serif\" font-size=\"14\" lengthAdjust=\"spacing\" textLength=\"22\" x=\"207\" y=\"181.9639\">f: A</text><line style=\"stroke:#181818;stroke-width:0.5;\" x1=\"201.5\" x2=\"242.5\" y1=\"190.2656\" y2=\"190.2656\"/></g></a><!--MD5=[09b614a08d8cba4a07c9adeb5e0fee81]\n",
       "class E3--><a href=\"psysml:90a9c46f-1bc9-4470-bf4e-8ae555dfcfc9\" target=\"_top\" title=\"psysml:90a9c46f-1bc9-4470-bf4e-8ae555dfcfc9\" xlink:actuate=\"onRequest\" xlink:href=\"psysml:90a9c46f-1bc9-4470-bf4e-8ae555dfcfc9\" xlink:show=\"new\" xlink:title=\"psysml:90a9c46f-1bc9-4470-bf4e-8ae555dfcfc9\" xlink:type=\"simple\"><g id=\"elem_E3\"><rect fill=\"#FFFFFF\" height=\"48.2656\" id=\"E3\" style=\"stroke:#181818;stroke-width:0.5;\" width=\"71\" x=\"105.5\" y=\"259\"/><text fill=\"#000000\" font-family=\"sans-serif\" font-size=\"12\" font-style=\"italic\" lengthAdjust=\"spacing\" textLength=\"69\" x=\"106.5\" y=\"275.1387\">«item  def»</text><text fill=\"#000000\" font-family=\"sans-serif\" font-size=\"14\" lengthAdjust=\"spacing\" textLength=\"9\" x=\"136.5\" y=\"290.9639\">A</text><line style=\"stroke:#181818;stroke-width:0.5;\" x1=\"106.5\" x2=\"175.5\" y1=\"299.2656\" y2=\"299.2656\"/></g></a><!--MD5=[ebbe1d658d1005bcc118a6aa81145e00]\n",
       "class E4--><a href=\"psysml:d394e1d7-ba50-4340-ad50-ece704d14a42\" target=\"_top\" title=\"psysml:d394e1d7-ba50-4340-ad50-ece704d14a42\" xlink:actuate=\"onRequest\" xlink:href=\"psysml:d394e1d7-ba50-4340-ad50-ece704d14a42\" xlink:show=\"new\" xlink:title=\"psysml:d394e1d7-ba50-4340-ad50-ece704d14a42\" xlink:type=\"simple\"><g id=\"elem_E4\"><rect fill=\"#FFFFFF\" height=\"48.2656\" id=\"E4\" rx=\"10\" ry=\"10\" style=\"stroke:#181818;stroke-width:0.5;\" width=\"43\" x=\"48.5\" y=\"446\"/><text fill=\"#000000\" font-family=\"sans-serif\" font-size=\"12\" font-style=\"italic\" lengthAdjust=\"spacing\" textLength=\"41\" x=\"49.5\" y=\"462.1387\">«item»</text><text fill=\"#000000\" font-family=\"sans-serif\" font-size=\"14\" lengthAdjust=\"spacing\" textLength=\"28\" x=\"52\" y=\"477.9639\">b: B</text><line style=\"stroke:#181818;stroke-width:0.5;\" x1=\"49.5\" x2=\"90.5\" y1=\"486.2656\" y2=\"486.2656\"/></g></a><!--MD5=[270fce915f116d4de14055a7c1d9a0f3]\n",
       "class E5--><a href=\"psysml:af047218-2074-4cd5-be73-a9bc4fd53c73\" target=\"_top\" title=\"psysml:af047218-2074-4cd5-be73-a9bc4fd53c73\" xlink:actuate=\"onRequest\" xlink:href=\"psysml:af047218-2074-4cd5-be73-a9bc4fd53c73\" xlink:show=\"new\" xlink:title=\"psysml:af047218-2074-4cd5-be73-a9bc4fd53c73\" xlink:type=\"simple\"><g id=\"elem_E5\"><rect fill=\"#FFFFFF\" height=\"48.2656\" id=\"E5\" rx=\"10\" ry=\"10\" style=\"stroke:#181818;stroke-width:0.5;\" width=\"42\" x=\"157\" y=\"368\"/><text fill=\"#000000\" font-family=\"sans-serif\" font-size=\"12\" font-style=\"italic\" lengthAdjust=\"spacing\" textLength=\"40\" x=\"158\" y=\"384.1387\">«part»</text><text fill=\"#000000\" font-family=\"sans-serif\" font-size=\"14\" lengthAdjust=\"spacing\" textLength=\"27\" x=\"160.5\" y=\"399.9639\">c: C</text><line style=\"stroke:#181818;stroke-width:0.5;\" x1=\"158\" x2=\"198\" y1=\"408.2656\" y2=\"408.2656\"/></g></a><!--MD5=[60a26617385b1d2d0262a64233df1f8d]\n",
       "class E6--><a href=\"psysml:24ac0b44-19f7-4e7e-9d8c-29217623109a\" target=\"_top\" title=\"psysml:24ac0b44-19f7-4e7e-9d8c-29217623109a\" xlink:actuate=\"onRequest\" xlink:href=\"psysml:24ac0b44-19f7-4e7e-9d8c-29217623109a\" xlink:show=\"new\" xlink:title=\"psysml:24ac0b44-19f7-4e7e-9d8c-29217623109a\" xlink:type=\"simple\"><g id=\"elem_E6\"><rect fill=\"#FFFFFF\" height=\"48.2656\" id=\"E6\" style=\"stroke:#181818;stroke-width:0.5;\" width=\"71\" x=\"116.5\" y=\"649\"/><text fill=\"#000000\" font-family=\"sans-serif\" font-size=\"12\" font-style=\"italic\" lengthAdjust=\"spacing\" textLength=\"69\" x=\"117.5\" y=\"665.1387\">«item  def»</text><text fill=\"#000000\" font-family=\"sans-serif\" font-size=\"14\" font-style=\"italic\" lengthAdjust=\"spacing\" textLength=\"10\" x=\"147\" y=\"680.9639\">B</text><line style=\"stroke:#181818;stroke-width:0.5;\" x1=\"117.5\" x2=\"186.5\" y1=\"689.2656\" y2=\"689.2656\"/></g></a><!--MD5=[2156ba9850f5573cc1fc38a6a4b2f02b]\n",
       "class E7--><a href=\"psysml:f97762a5-be4a-40f0-b15f-ded6f9a0a2bf\" target=\"_top\" title=\"psysml:f97762a5-be4a-40f0-b15f-ded6f9a0a2bf\" xlink:actuate=\"onRequest\" xlink:href=\"psysml:f97762a5-be4a-40f0-b15f-ded6f9a0a2bf\" xlink:show=\"new\" xlink:title=\"psysml:f97762a5-be4a-40f0-b15f-ded6f9a0a2bf\" xlink:type=\"simple\"><g id=\"elem_E7\"><rect fill=\"#FFFFFF\" height=\"48.2656\" id=\"E7\" rx=\"10\" ry=\"10\" style=\"stroke:#181818;stroke-width:0.5;\" width=\"42\" x=\"167\" y=\"758\"/><text fill=\"#000000\" font-family=\"sans-serif\" font-size=\"12\" font-style=\"italic\" lengthAdjust=\"spacing\" textLength=\"40\" x=\"168\" y=\"774.1387\">«part»</text><text fill=\"#000000\" font-family=\"sans-serif\" font-size=\"14\" font-style=\"italic\" lengthAdjust=\"spacing\" textLength=\"8\" x=\"171\" y=\"789.9639\">a</text><text fill=\"#000000\" font-family=\"sans-serif\" font-size=\"14\" lengthAdjust=\"spacing\" textLength=\"18\" x=\"179\" y=\"789.9639\">: A</text><line style=\"stroke:#181818;stroke-width:0.5;\" x1=\"168\" x2=\"208\" y1=\"798.2656\" y2=\"798.2656\"/></g></a><!--MD5=[b9389687b975829384b498ac4b7476b2]\n",
       "class E8--><a href=\"psysml:2119f9fa-e703-4679-adcc-c9e3fda7136e\" target=\"_top\" title=\"psysml:2119f9fa-e703-4679-adcc-c9e3fda7136e\" xlink:actuate=\"onRequest\" xlink:href=\"psysml:2119f9fa-e703-4679-adcc-c9e3fda7136e\" xlink:show=\"new\" xlink:title=\"psysml:2119f9fa-e703-4679-adcc-c9e3fda7136e\" xlink:type=\"simple\"><g id=\"elem_E8\"><rect fill=\"#FFFFFF\" height=\"48.2656\" id=\"E8\" style=\"stroke:#181818;stroke-width:0.5;\" width=\"70\" x=\"117\" y=\"524\"/><text fill=\"#000000\" font-family=\"sans-serif\" font-size=\"12\" font-style=\"italic\" lengthAdjust=\"spacing\" textLength=\"68\" x=\"118\" y=\"540.1387\">«part  def»</text><text fill=\"#000000\" font-family=\"sans-serif\" font-size=\"14\" lengthAdjust=\"spacing\" textLength=\"10\" x=\"147\" y=\"555.9639\">C</text><line style=\"stroke:#181818;stroke-width:0.5;\" x1=\"118\" x2=\"186\" y1=\"564.2656\" y2=\"564.2656\"/></g></a><!--MD5=[fd4143e9d270a159db93a4ea2a975926]\n",
       "class E9--><a href=\"psysml:f9be0f9f-7828-47af-b676-a3098923450b\" target=\"_top\" title=\"psysml:f9be0f9f-7828-47af-b676-a3098923450b\" xlink:actuate=\"onRequest\" xlink:href=\"psysml:f9be0f9f-7828-47af-b676-a3098923450b\" xlink:show=\"new\" xlink:title=\"psysml:f9be0f9f-7828-47af-b676-a3098923450b\" xlink:type=\"simple\"><g id=\"elem_E9\"><rect fill=\"#FFFFFF\" height=\"48.2656\" id=\"E9\" style=\"stroke:#181818;stroke-width:0.5;\" width=\"70\" x=\"69\" y=\"41\"/><text fill=\"#000000\" font-family=\"sans-serif\" font-size=\"12\" font-style=\"italic\" lengthAdjust=\"spacing\" textLength=\"68\" x=\"70\" y=\"57.1387\">«port  def»</text><text fill=\"#000000\" font-family=\"sans-serif\" font-size=\"14\" lengthAdjust=\"spacing\" textLength=\"9\" x=\"99.5\" y=\"72.9639\">P</text><line style=\"stroke:#181818;stroke-width:0.5;\" x1=\"70\" x2=\"138\" y1=\"81.2656\" y2=\"81.2656\"/></g></a><!--MD5=[96f4274e9e20536e775497830990834d]\n",
       "class E10--><a href=\"psysml:bdd21edf-ffb1-47e0-8301-b129ba721304\" target=\"_top\" title=\"psysml:bdd21edf-ffb1-47e0-8301-b129ba721304\" xlink:actuate=\"onRequest\" xlink:href=\"psysml:bdd21edf-ffb1-47e0-8301-b129ba721304\" xlink:show=\"new\" xlink:title=\"psysml:bdd21edf-ffb1-47e0-8301-b129ba721304\" xlink:type=\"simple\"><g id=\"elem_E10\"><rect fill=\"#FFFFFF\" height=\"48.2656\" id=\"E10\" rx=\"10\" ry=\"10\" style=\"stroke:#181818;stroke-width:0.5;\" width=\"49\" x=\"32.5\" y=\"150\"/><text fill=\"#000000\" font-family=\"sans-serif\" font-size=\"12\" font-style=\"italic\" lengthAdjust=\"spacing\" textLength=\"41\" x=\"36.5\" y=\"166.1387\">«item»</text><text fill=\"#000000\" font-family=\"sans-serif\" font-size=\"14\" lengthAdjust=\"spacing\" textLength=\"35\" x=\"35.5\" y=\"181.9639\">a1: A</text><line style=\"stroke:#181818;stroke-width:0.5;\" x1=\"33.5\" x2=\"80.5\" y1=\"190.2656\" y2=\"190.2656\"/></g></a><!--MD5=[1dd1bfd58a279cf63c5f349dbc8fc6a1]\n",
       "class E11--><a href=\"psysml:ea86bb80-7fc3-4478-bdc0-15728142c0fa\" target=\"_top\" title=\"psysml:ea86bb80-7fc3-4478-bdc0-15728142c0fa\" xlink:actuate=\"onRequest\" xlink:href=\"psysml:ea86bb80-7fc3-4478-bdc0-15728142c0fa\" xlink:show=\"new\" xlink:title=\"psysml:ea86bb80-7fc3-4478-bdc0-15728142c0fa\" xlink:type=\"simple\"><g id=\"elem_E11\"><rect fill=\"#FFFFFF\" height=\"48.2656\" id=\"E11\" rx=\"10\" ry=\"10\" style=\"stroke:#181818;stroke-width:0.5;\" width=\"49\" x=\"116.5\" y=\"150\"/><text fill=\"#000000\" font-family=\"sans-serif\" font-size=\"12\" font-style=\"italic\" lengthAdjust=\"spacing\" textLength=\"41\" x=\"120.5\" y=\"166.1387\">«item»</text><text fill=\"#000000\" font-family=\"sans-serif\" font-size=\"14\" lengthAdjust=\"spacing\" textLength=\"35\" x=\"119.5\" y=\"181.9639\">a2: A</text><line style=\"stroke:#181818;stroke-width:0.5;\" x1=\"117.5\" x2=\"164.5\" y1=\"190.2656\" y2=\"190.2656\"/></g></a><!--MD5=[2720a5a1f2c3fca2055b230370638851]\n",
       "link E2 to E3--><g id=\"link_E2_E3\"><a href=\"psysml:358bd963-d6cf-4c51-9d97-dc29b520688f\" target=\"_top\" title=\"psysml:358bd963-d6cf-4c51-9d97-dc29b520688f\" xlink:actuate=\"onRequest\" xlink:href=\"psysml:358bd963-d6cf-4c51-9d97-dc29b520688f\" xlink:show=\"new\" xlink:title=\"psysml:358bd963-d6cf-4c51-9d97-dc29b520688f\" xlink:type=\"simple\"><path d=\"M204.42,198.22 C194.55,211.26 181.97,227.88 170.62,242.87 \" fill=\"none\" id=\"E2-to-E3\" style=\"stroke:#181818;stroke-width:1.0;\"/><polygon fill=\"#FFFFFF\" points=\"158.54,258.83,164.4286,239.4567,175.5901,247.9078,158.54,258.83\" style=\"stroke:#181818;stroke-width:1.0;\"/><ellipse cx=\"169.4639\" cy=\"236.1197\" fill=\"#181818\" rx=\"2\" ry=\"2\" style=\"stroke:#181818;stroke-width:1.0;\"/><ellipse cx=\"177.4364\" cy=\"242.1562\" fill=\"#181818\" rx=\"2\" ry=\"2\" style=\"stroke:#181818;stroke-width:1.0;\"/></a></g><!--MD5=[4672eba38e49728da53d11aeb285b987]\n",
       "reverse link E3 to E4--><g id=\"link_E3_E4\"><a href=\"psysml:724ffe94-cfbf-4ea2-b315-6baf1a587f0c\" target=\"_top\" title=\"psysml:724ffe94-cfbf-4ea2-b315-6baf1a587f0c\" xlink:actuate=\"onRequest\" xlink:href=\"psysml:724ffe94-cfbf-4ea2-b315-6baf1a587f0c\" xlink:show=\"new\" xlink:title=\"psysml:724ffe94-cfbf-4ea2-b315-6baf1a587f0c\" xlink:type=\"simple\"><path d=\"M104.38,316.32 C90.85,330.64 77.09,348.62 70,368 C60.72,393.36 62.6,424.76 65.58,445.75 \" fill=\"none\" id=\"E3-backto-E4\" style=\"stroke:#181818;stroke-width:1.0;\"/><polygon fill=\"#181818\" points=\"113.62,307.02,106.5522,308.4507,105.1545,315.525,112.2223,314.0943,113.62,307.02\" style=\"stroke:#181818;stroke-width:1.0;\"/></a></g><!--MD5=[191cde3d490a3f6d7bb551fe3ddca469]\n",
       "reverse link E3 to E5--><g id=\"link_E3_E5\"><a href=\"psysml:9c72d63b-be6b-487b-af19-53b3ed2c634b\" target=\"_top\" title=\"psysml:9c72d63b-be6b-487b-af19-53b3ed2c634b\" xlink:actuate=\"onRequest\" xlink:href=\"psysml:9c72d63b-be6b-487b-af19-53b3ed2c634b\" xlink:show=\"new\" xlink:title=\"psysml:9c72d63b-be6b-487b-af19-53b3ed2c634b\" xlink:type=\"simple\"><path d=\"M153.39,319.83 C158.86,335.66 165.14,353.82 169.99,367.83 \" fill=\"none\" id=\"E3-backto-E5\" style=\"stroke:#181818;stroke-width:1.0;\"/><polygon fill=\"none\" points=\"149.03,307.22,147.2077,314.1971,152.9472,318.5627,154.7695,311.5856,149.03,307.22\" style=\"stroke:#181818;stroke-width:1.0;\"/></a></g><!--MD5=[79568f1e445c3877b6a54524624ccc7d]\n",
       "link E4 to E6--><g id=\"link_E4_E6\"><a href=\"psysml:c1d845e5-90b4-4786-9172-2f85f48f902a\" target=\"_top\" title=\"psysml:c1d845e5-90b4-4786-9172-2f85f48f902a\" xlink:actuate=\"onRequest\" xlink:href=\"psysml:c1d845e5-90b4-4786-9172-2f85f48f902a\" xlink:show=\"new\" xlink:title=\"psysml:c1d845e5-90b4-4786-9172-2f85f48f902a\" xlink:type=\"simple\"><path d=\"M75.57,494.29 C80.84,515.04 89.51,546.05 100,572 C108.08,591.98 118.83,613.29 128.46,631.07 \" fill=\"none\" id=\"E4-to-E6\" style=\"stroke:#181818;stroke-width:1.0;\"/><polygon fill=\"#FFFFFF\" points=\"138.29,648.76,122.9437,635.5505,135.1819,628.7515,138.29,648.76\" style=\"stroke:#181818;stroke-width:1.0;\"/><ellipse cx=\"121.9238\" cy=\"629.5965\" fill=\"#181818\" rx=\"2\" ry=\"2\" style=\"stroke:#181818;stroke-width:1.0;\"/><ellipse cx=\"130.6654\" cy=\"624.7401\" fill=\"#181818\" rx=\"2\" ry=\"2\" style=\"stroke:#181818;stroke-width:1.0;\"/></a></g><!--MD5=[3f50a3473f1dfb74d3f76443e03635af]\n",
       "reverse link E6 to E7--><g id=\"link_E6_E7\"><a href=\"psysml:ee76f7ce-c996-4988-9b1a-5ac16ad8d066\" target=\"_top\" title=\"psysml:ee76f7ce-c996-4988-9b1a-5ac16ad8d066\" xlink:actuate=\"onRequest\" xlink:href=\"psysml:ee76f7ce-c996-4988-9b1a-5ac16ad8d066\" xlink:show=\"new\" xlink:title=\"psysml:ee76f7ce-c996-4988-9b1a-5ac16ad8d066\" xlink:type=\"simple\"><path d=\"M164.05,709.83 C169.38,725.66 175.49,743.82 180.2,757.83 \" fill=\"none\" id=\"E6-backto-E7\" style=\"stroke:#181818;stroke-width:1.0;\"/><polygon fill=\"#181818\" points=\"159.81,697.22,157.9296,704.1816,163.6324,708.5949,165.5128,701.6333,159.81,697.22\" style=\"stroke:#181818;stroke-width:1.0;\"/></a></g><!--MD5=[14ccda38c055a5c0da953d572bc50960]\n",
       "link E7 to E3--><g id=\"link_E7_E3\"><a href=\"psysml:1cb41c8a-3888-4a6d-b592-33957295a7ee\" target=\"_top\" title=\"psysml:1cb41c8a-3888-4a6d-b592-33957295a7ee\" xlink:actuate=\"onRequest\" xlink:href=\"psysml:1cb41c8a-3888-4a6d-b592-33957295a7ee\" xlink:show=\"new\" xlink:title=\"psysml:1cb41c8a-3888-4a6d-b592-33957295a7ee\" xlink:type=\"simple\"><path d=\"M204.97,757.64 C218.43,736.78 235,704.84 235,674 C235,391 235,391 235,391 C235,361.35 214.38,336.01 192.46,317.43 \" fill=\"none\" id=\"E7-to-E3\" style=\"stroke:#181818;stroke-width:1.0;\"/><polygon fill=\"#FFFFFF\" points=\"176.54,305.14,195.8578,311.2081,187.3035,322.2907,176.54,305.14\" style=\"stroke:#181818;stroke-width:1.0;\"/><ellipse cx=\"199.148\" cy=\"316.2741\" fill=\"#181818\" rx=\"2\" ry=\"2\" style=\"stroke:#181818;stroke-width:1.0;\"/><ellipse cx=\"193.0378\" cy=\"324.1903\" fill=\"#181818\" rx=\"2\" ry=\"2\" style=\"stroke:#181818;stroke-width:1.0;\"/></a></g><!--MD5=[dfaffb906826c3e5aca635516100ff21]\n",
       "link E5 to E8--><g id=\"link_E5_E8\"><a href=\"psysml:b2862137-6a73-49a4-ad0f-48652eafb24c\" target=\"_top\" title=\"psysml:b2862137-6a73-49a4-ad0f-48652eafb24c\" xlink:actuate=\"onRequest\" xlink:href=\"psysml:b2862137-6a73-49a4-ad0f-48652eafb24c\" xlink:show=\"new\" xlink:title=\"psysml:b2862137-6a73-49a4-ad0f-48652eafb24c\" xlink:type=\"simple\"><path d=\"M174.11,416.06 C170.2,439.19 164.09,475.38 159.28,503.86 \" fill=\"none\" id=\"E5-to-E8\" style=\"stroke:#181818;stroke-width:1.0;\"/><polygon fill=\"#FFFFFF\" points=\"155.92,523.79,152.1809,503.8898,165.9855,506.2206,155.92,523.79\" style=\"stroke:#181818;stroke-width:1.0;\"/><ellipse cx=\"155.1019\" cy=\"498.6023\" fill=\"#181818\" rx=\"2\" ry=\"2\" style=\"stroke:#181818;stroke-width:1.0;\"/><ellipse cx=\"164.9624\" cy=\"500.2671\" fill=\"#181818\" rx=\"2\" ry=\"2\" style=\"stroke:#181818;stroke-width:1.0;\"/></a></g><!--MD5=[03c8294790d3c57651a1993cecff665f]\n",
       "reverse link E8 to E3--><g id=\"link_E8_E3\"><a href=\"psysml:764dcc5f-c791-44bd-8fe4-0cc6162433fb\" target=\"_top\" title=\"psysml:764dcc5f-c791-44bd-8fe4-0cc6162433fb\" xlink:actuate=\"onRequest\" xlink:href=\"psysml:764dcc5f-c791-44bd-8fe4-0cc6162433fb\" xlink:show=\"new\" xlink:title=\"psysml:764dcc5f-c791-44bd-8fe4-0cc6162433fb\" xlink:type=\"simple\"><path d=\"M144.62,510.88 C139.66,484.68 133.57,448.31 131,416 C129.31,394.73 129.74,389.3 131,368 C132.23,347.33 135.14,323.95 137.5,307.11 \" fill=\"none\" id=\"E8-backto-E3\" style=\"stroke:#181818;stroke-width:1.0;\"/><polygon fill=\"none\" points=\"147.16,523.94,149.9387,517.2857,144.865,512.1615,142.0863,518.8158,147.16,523.94\" style=\"stroke:#181818;stroke-width:1.0;\"/><text fill=\"#000000\" font-family=\"sans-serif\" font-size=\"13\" lengthAdjust=\"spacing\" textLength=\"7\" x=\"132\" y=\"396.5669\">y</text></a></g><!--MD5=[0d75d2178373a6a4568e5dc728f58aef]\n",
       "reverse link E8 to E6--><g id=\"link_E8_E6\"><a href=\"psysml:764dcc5f-c791-44bd-8fe4-0cc6162433fb\" target=\"_top\" title=\"psysml:764dcc5f-c791-44bd-8fe4-0cc6162433fb\" xlink:actuate=\"onRequest\" xlink:href=\"psysml:764dcc5f-c791-44bd-8fe4-0cc6162433fb\" xlink:show=\"new\" xlink:title=\"psysml:764dcc5f-c791-44bd-8fe4-0cc6162433fb\" xlink:type=\"simple\"><path d=\"M152,585.21 C152,605.83 152,631.04 152,648.97 \" fill=\"none\" id=\"E8-backto-E6\" style=\"stroke:#181818;stroke-width:1.0;\"/><polygon fill=\"none\" points=\"152,572.14,148,578.14,152,584.14,156,578.14,152,572.14\" style=\"stroke:#181818;stroke-width:1.0;\"/><text fill=\"#000000\" font-family=\"sans-serif\" font-size=\"13\" lengthAdjust=\"spacing\" textLength=\"7\" x=\"153\" y=\"615.0669\">y</text></a></g><!--MD5=[23ac544a70576c3e717098101004234c]\n",
       "reverse link E9 to E10--><g id=\"link_E9_E10\"><a href=\"psysml:1f369bef-866d-4201-85d0-19625ffb0bd4\" target=\"_top\" title=\"psysml:1f369bef-866d-4201-85d0-19625ffb0bd4\" xlink:actuate=\"onRequest\" xlink:href=\"psysml:1f369bef-866d-4201-85d0-19625ffb0bd4\" xlink:show=\"new\" xlink:title=\"psysml:1f369bef-866d-4201-85d0-19625ffb0bd4\" xlink:type=\"simple\"><path d=\"M88.47,101.35 C81.47,117.29 73.39,135.68 67.18,149.83 \" fill=\"none\" id=\"E9-backto-E10\" style=\"stroke:#181818;stroke-width:1.0;\"/><polygon fill=\"none\" points=\"93.8,89.22,87.7243,93.1041,88.9729,100.2063,95.0485,96.3222,93.8,89.22\" style=\"stroke:#181818;stroke-width:1.0;\"/></a></g><!--MD5=[feeac5eb423634930294aa81f2d25a4c]\n",
       "link E10 to E3--><g id=\"link_E10_E3\"><a href=\"psysml:0dc69dec-387f-4606-9efc-6b8567a081cf\" target=\"_top\" title=\"psysml:0dc69dec-387f-4606-9efc-6b8567a081cf\" xlink:actuate=\"onRequest\" xlink:href=\"psysml:0dc69dec-387f-4606-9efc-6b8567a081cf\" xlink:show=\"new\" xlink:title=\"psysml:0dc69dec-387f-4606-9efc-6b8567a081cf\" xlink:type=\"simple\"><path d=\"M75.23,198.22 C85.46,211.26 98.51,227.88 110.28,242.87 \" fill=\"none\" id=\"E10-to-E3\" style=\"stroke:#181818;stroke-width:1.0;\"/><polygon fill=\"#FFFFFF\" points=\"122.81,258.83,105.5676,248.214,116.5764,239.565,122.81,258.83\" style=\"stroke:#181818;stroke-width:1.0;\"/><ellipse cx=\"103.6189\" cy=\"242.4963\" fill=\"#181818\" rx=\"2\" ry=\"2\" style=\"stroke:#181818;stroke-width:1.0;\"/><ellipse cx=\"111.4823\" cy=\"236.3184\" fill=\"#181818\" rx=\"2\" ry=\"2\" style=\"stroke:#181818;stroke-width:1.0;\"/></a></g><!--MD5=[1fc04a95fd77ad5ce46c1a3027516051]\n",
       "reverse link E9 to E11--><g id=\"link_E9_E11\"><a href=\"psysml:41147f3b-680c-4b19-9ea9-1ad0d7284d0b\" target=\"_top\" title=\"psysml:41147f3b-680c-4b19-9ea9-1ad0d7284d0b\" xlink:actuate=\"onRequest\" xlink:href=\"psysml:41147f3b-680c-4b19-9ea9-1ad0d7284d0b\" xlink:show=\"new\" xlink:title=\"psysml:41147f3b-680c-4b19-9ea9-1ad0d7284d0b\" xlink:type=\"simple\"><path d=\"M116.39,101.83 C121.86,117.66 128.14,135.82 132.99,149.83 \" fill=\"none\" id=\"E9-backto-E11\" style=\"stroke:#181818;stroke-width:1.0;\"/><polygon fill=\"none\" points=\"112.03,89.22,110.2077,96.1971,115.9472,100.5627,117.7695,93.5856,112.03,89.22\" style=\"stroke:#181818;stroke-width:1.0;\"/></a></g><!--MD5=[0517f1ce58c4d5483948f93845c45e26]\n",
       "link E11 to E3--><g id=\"link_E11_E3\"><a href=\"psysml:86cba12c-5c0b-4cb2-8a0f-652783ee7e3b\" target=\"_top\" title=\"psysml:86cba12c-5c0b-4cb2-8a0f-652783ee7e3b\" xlink:actuate=\"onRequest\" xlink:href=\"psysml:86cba12c-5c0b-4cb2-8a0f-652783ee7e3b\" xlink:show=\"new\" xlink:title=\"psysml:86cba12c-5c0b-4cb2-8a0f-652783ee7e3b\" xlink:type=\"simple\"><path d=\"M141,198.22 C141,210 141,224.69 141,238.48 \" fill=\"none\" id=\"E11-to-E3\" style=\"stroke:#181818;stroke-width:1.0;\"/><polygon fill=\"#FFFFFF\" points=\"141,258.83,134,239.83,148,239.83,141,258.83\" style=\"stroke:#181818;stroke-width:1.0;\"/><ellipse cx=\"136\" cy=\"234.13\" fill=\"#181818\" rx=\"2\" ry=\"2\" style=\"stroke:#181818;stroke-width:1.0;\"/><ellipse cx=\"146\" cy=\"234.13\" fill=\"#181818\" rx=\"2\" ry=\"2\" style=\"stroke:#181818;stroke-width:1.0;\"/></a></g><!--MD5=[53e2a6c998e922c60a743c6c9318f332]\n",
       "@startuml\r\n",
       "skin sysmlbw\r\n",
       "skinparam monochrome true\r\n",
       "skinparam wrapWidth 300\r\n",
       "hide circle\r\n",
       " \r\n",
       "package \"ItemTest\" as E1  [[psysml:b50080a1-e82f-4c80-9a3f-5d66ab4e7e23 ]]  {\r\n",
       "comp usage \"f: A  \" as E2  <<(T,blue) item>> [[psysml:4d36820e-7c5e-46bd-9de5-e346cea54837 ]] {\r\n",
       "}\r\n",
       "comp def \"A\" as E3  <<(T,blue) item  def>> [[psysml:90a9c46f-1bc9-4470-bf4e-8ae555dfcfc9 ]] {\r\n",
       "}\r\n",
       "comp usage \"b: B  \" as E4  <<(T,blue) item>> [[psysml:d394e1d7-ba50-4340-ad50-ece704d14a42 ]] {\r\n",
       "}\r\n",
       "comp usage \"c: C  \" as E5  <<(T,blue) part>> [[psysml:af047218-2074-4cd5-be73-a9bc4fd53c73 ]] {\r\n",
       "}\r\n",
       "comp def \"<i>B</i>\" as E6  <<(T,blue) item  def>> [[psysml:24ac0b44-19f7-4e7e-9d8c-29217623109a ]] {\r\n",
       "}\r\n",
       "comp usage \"<i>a</i>: A  \" as E7  <<(T,blue) part>> [[psysml:f97762a5-be4a-40f0-b15f-ded6f9a0a2bf ]] {\r\n",
       "}\r\n",
       "comp def \"C\" as E8  <<(T,blue) part  def>> [[psysml:2119f9fa-e703-4679-adcc-c9e3fda7136e ]] {\r\n",
       "}\r\n",
       "comp def \"P\" as E9  <<(T,blue) port  def>> [[psysml:f9be0f9f-7828-47af-b676-a3098923450b ]] {\r\n",
       "}\r\n",
       "comp usage \"a1: A  \" as E10  <<(T,blue) item>> [[psysml:bdd21edf-ffb1-47e0-8301-b129ba721304 ]] {\r\n",
       "}\r\n",
       "comp usage \"a2: A  \" as E11  <<(T,blue) item>> [[psysml:ea86bb80-7fc3-4478-bdc0-15728142c0fa ]] {\r\n",
       "}\r\n",
       "}\r\n",
       "E2 - -:|> E3 [[psysml:358bd963-d6cf-4c51-9d97-dc29b520688f ]] \r\n",
       "E3 *- - E4 [[psysml:724ffe94-cfbf-4ea2-b315-6baf1a587f0c ]] \r\n",
       "E3 o- - E5 [[psysml:9c72d63b-be6b-487b-af19-53b3ed2c634b ]] \r\n",
       "E4 - -:|> E6 [[psysml:c1d845e5-90b4-4786-9172-2f85f48f902a ]] \r\n",
       "E6 *- - E7 [[psysml:ee76f7ce-c996-4988-9b1a-5ac16ad8d066 ]] \r\n",
       "E7 - -:|> E3 [[psysml:1cb41c8a-3888-4a6d-b592-33957295a7ee ]] \r\n",
       "E5 - -:|> E8 [[psysml:b2862137-6a73-49a4-ad0f-48652eafb24c ]] \r\n",
       "E8 o- - E3 [[psysml:764dcc5f-c791-44bd-8fe4-0cc6162433fb ]] : y\r\n",
       "E8 o- - E6 [[psysml:764dcc5f-c791-44bd-8fe4-0cc6162433fb ]] : y\r\n",
       "E9 o- - E10 [[psysml:1f369bef-866d-4201-85d0-19625ffb0bd4 ]] \r\n",
       "E10 - -:|> E3 [[psysml:0dc69dec-387f-4606-9efc-6b8567a081cf ]] \r\n",
       "E9 o- - E11 [[psysml:41147f3b-680c-4b19-9ea9-1ad0d7284d0b ]] \r\n",
       "E11 - -:|> E3 [[psysml:86cba12c-5c0b-4cb2-8a0f-652783ee7e3b ]] \r\n",
       "@enduml\r\n",
       "\n",
       "PlantUML version 1.2022.7(Mon Aug 22 17:01:30 UTC 2022)\n",
       "(EPL source distribution)\n",
       "Java Runtime: OpenJDK Runtime Environment\n",
       "JVM: OpenJDK 64-Bit Server VM\n",
       "Default Encoding: UTF-8\n",
       "Language: en\n",
       "Country: null\n",
       "--></g></svg>"
      ]
     },
     "execution_count": 8,
     "metadata": {},
     "output_type": "execute_result"
    }
   ],
   "source": [
    "%viz --style=\"COMPTREE\" --view=\"MIXED\" \"ItemTest\""
   ]
  },
  {
   "cell_type": "code",
   "execution_count": 9,
   "id": "9bbdcc0b",
   "metadata": {
    "execution": {
     "iopub.execute_input": "2024-12-16T03:22:53.436835Z",
     "iopub.status.busy": "2024-12-16T03:22:53.436541Z",
     "iopub.status.idle": "2024-12-16T03:22:53.471883Z",
     "shell.execute_reply": "2024-12-16T03:22:53.472010Z"
    }
   },
   "outputs": [
    {
     "data": {
      "image/svg+xml": [
       "<?xml version=\"1.0\" encoding=\"UTF-8\" standalone=\"no\"?><svg xmlns=\"http://www.w3.org/2000/svg\" xmlns:xlink=\"http://www.w3.org/1999/xlink\" contentStyleType=\"text/css\" height=\"829px\" preserveAspectRatio=\"none\" style=\"width:277px;height:829px;background:#FFFFFF;\" version=\"1.1\" viewBox=\"0 0 277 829\" width=\"277px\" zoomAndPan=\"magnify\"><defs/><g><!--MD5=[fbc87193dbaf4d95561dea2c320d4a47]\n",
       "cluster E1--><g id=\"cluster_E1\"><a href=\"psysml:b50080a1-e82f-4c80-9a3f-5d66ab4e7e23\" target=\"_top\" title=\"psysml:b50080a1-e82f-4c80-9a3f-5d66ab4e7e23\" xlink:actuate=\"onRequest\" xlink:href=\"psysml:b50080a1-e82f-4c80-9a3f-5d66ab4e7e23\" xlink:show=\"new\" xlink:title=\"psysml:b50080a1-e82f-4c80-9a3f-5d66ab4e7e23\" xlink:type=\"simple\"><polygon fill=\"none\" points=\"16,6,86.5,6,93.5,28.2969,260,28.2969,260,822,16,822,16,6\" style=\"stroke:#000000;stroke-width:1.5;\"/><line style=\"stroke:#000000;stroke-width:1.5;\" x1=\"16\" x2=\"93.5\" y1=\"28.2969\" y2=\"28.2969\"/><text fill=\"#000000\" font-family=\"sans-serif\" font-size=\"14\" font-weight=\"bold\" lengthAdjust=\"spacing\" textLength=\"64.5\" x=\"20\" y=\"20.9951\">ItemTest</text></a></g><!--MD5=[b4997ac47864f28c2f74865a473b2911]\n",
       "class E2--><a href=\"psysml:4d36820e-7c5e-46bd-9de5-e346cea54837\" target=\"_top\" title=\"psysml:4d36820e-7c5e-46bd-9de5-e346cea54837\" xlink:actuate=\"onRequest\" xlink:href=\"psysml:4d36820e-7c5e-46bd-9de5-e346cea54837\" xlink:show=\"new\" xlink:title=\"psysml:4d36820e-7c5e-46bd-9de5-e346cea54837\" xlink:type=\"simple\"><g id=\"elem_E2\"><rect fill=\"#FFFFFF\" height=\"48.2656\" id=\"E2\" rx=\"10\" ry=\"10\" style=\"stroke:#181818;stroke-width:0.5;\" width=\"43\" x=\"200.5\" y=\"150\"/><text fill=\"#000000\" font-family=\"sans-serif\" font-size=\"12\" font-style=\"italic\" lengthAdjust=\"spacing\" textLength=\"41\" x=\"201.5\" y=\"166.1387\">«item»</text><text fill=\"#000000\" font-family=\"sans-serif\" font-size=\"14\" lengthAdjust=\"spacing\" textLength=\"22\" x=\"207\" y=\"181.9639\">f: A</text><line style=\"stroke:#181818;stroke-width:0.5;\" x1=\"201.5\" x2=\"242.5\" y1=\"190.2656\" y2=\"190.2656\"/></g></a><!--MD5=[09b614a08d8cba4a07c9adeb5e0fee81]\n",
       "class E3--><a href=\"psysml:90a9c46f-1bc9-4470-bf4e-8ae555dfcfc9\" target=\"_top\" title=\"psysml:90a9c46f-1bc9-4470-bf4e-8ae555dfcfc9\" xlink:actuate=\"onRequest\" xlink:href=\"psysml:90a9c46f-1bc9-4470-bf4e-8ae555dfcfc9\" xlink:show=\"new\" xlink:title=\"psysml:90a9c46f-1bc9-4470-bf4e-8ae555dfcfc9\" xlink:type=\"simple\"><g id=\"elem_E3\"><rect fill=\"#FFFFFF\" height=\"48.2656\" id=\"E3\" style=\"stroke:#181818;stroke-width:0.5;\" width=\"71\" x=\"105.5\" y=\"259\"/><text fill=\"#000000\" font-family=\"sans-serif\" font-size=\"12\" font-style=\"italic\" lengthAdjust=\"spacing\" textLength=\"69\" x=\"106.5\" y=\"275.1387\">«item  def»</text><text fill=\"#000000\" font-family=\"sans-serif\" font-size=\"14\" lengthAdjust=\"spacing\" textLength=\"9\" x=\"136.5\" y=\"290.9639\">A</text><line style=\"stroke:#181818;stroke-width:0.5;\" x1=\"106.5\" x2=\"175.5\" y1=\"299.2656\" y2=\"299.2656\"/></g></a><!--MD5=[ebbe1d658d1005bcc118a6aa81145e00]\n",
       "class E4--><a href=\"psysml:d394e1d7-ba50-4340-ad50-ece704d14a42\" target=\"_top\" title=\"psysml:d394e1d7-ba50-4340-ad50-ece704d14a42\" xlink:actuate=\"onRequest\" xlink:href=\"psysml:d394e1d7-ba50-4340-ad50-ece704d14a42\" xlink:show=\"new\" xlink:title=\"psysml:d394e1d7-ba50-4340-ad50-ece704d14a42\" xlink:type=\"simple\"><g id=\"elem_E4\"><rect fill=\"#FFFFFF\" height=\"48.2656\" id=\"E4\" rx=\"10\" ry=\"10\" style=\"stroke:#181818;stroke-width:0.5;\" width=\"43\" x=\"48.5\" y=\"446\"/><text fill=\"#000000\" font-family=\"sans-serif\" font-size=\"12\" font-style=\"italic\" lengthAdjust=\"spacing\" textLength=\"41\" x=\"49.5\" y=\"462.1387\">«item»</text><text fill=\"#000000\" font-family=\"sans-serif\" font-size=\"14\" lengthAdjust=\"spacing\" textLength=\"28\" x=\"52\" y=\"477.9639\">b: B</text><line style=\"stroke:#181818;stroke-width:0.5;\" x1=\"49.5\" x2=\"90.5\" y1=\"486.2656\" y2=\"486.2656\"/></g></a><!--MD5=[270fce915f116d4de14055a7c1d9a0f3]\n",
       "class E5--><a href=\"psysml:af047218-2074-4cd5-be73-a9bc4fd53c73\" target=\"_top\" title=\"psysml:af047218-2074-4cd5-be73-a9bc4fd53c73\" xlink:actuate=\"onRequest\" xlink:href=\"psysml:af047218-2074-4cd5-be73-a9bc4fd53c73\" xlink:show=\"new\" xlink:title=\"psysml:af047218-2074-4cd5-be73-a9bc4fd53c73\" xlink:type=\"simple\"><g id=\"elem_E5\"><rect fill=\"#FFFFFF\" height=\"48.2656\" id=\"E5\" rx=\"10\" ry=\"10\" style=\"stroke:#181818;stroke-width:0.5;\" width=\"42\" x=\"157\" y=\"368\"/><text fill=\"#000000\" font-family=\"sans-serif\" font-size=\"12\" font-style=\"italic\" lengthAdjust=\"spacing\" textLength=\"40\" x=\"158\" y=\"384.1387\">«part»</text><text fill=\"#000000\" font-family=\"sans-serif\" font-size=\"14\" lengthAdjust=\"spacing\" textLength=\"27\" x=\"160.5\" y=\"399.9639\">c: C</text><line style=\"stroke:#181818;stroke-width:0.5;\" x1=\"158\" x2=\"198\" y1=\"408.2656\" y2=\"408.2656\"/></g></a><!--MD5=[60a26617385b1d2d0262a64233df1f8d]\n",
       "class E6--><a href=\"psysml:24ac0b44-19f7-4e7e-9d8c-29217623109a\" target=\"_top\" title=\"psysml:24ac0b44-19f7-4e7e-9d8c-29217623109a\" xlink:actuate=\"onRequest\" xlink:href=\"psysml:24ac0b44-19f7-4e7e-9d8c-29217623109a\" xlink:show=\"new\" xlink:title=\"psysml:24ac0b44-19f7-4e7e-9d8c-29217623109a\" xlink:type=\"simple\"><g id=\"elem_E6\"><rect fill=\"#FFFFFF\" height=\"48.2656\" id=\"E6\" style=\"stroke:#181818;stroke-width:0.5;\" width=\"71\" x=\"116.5\" y=\"649\"/><text fill=\"#000000\" font-family=\"sans-serif\" font-size=\"12\" font-style=\"italic\" lengthAdjust=\"spacing\" textLength=\"69\" x=\"117.5\" y=\"665.1387\">«item  def»</text><text fill=\"#000000\" font-family=\"sans-serif\" font-size=\"14\" font-style=\"italic\" lengthAdjust=\"spacing\" textLength=\"10\" x=\"147\" y=\"680.9639\">B</text><line style=\"stroke:#181818;stroke-width:0.5;\" x1=\"117.5\" x2=\"186.5\" y1=\"689.2656\" y2=\"689.2656\"/></g></a><!--MD5=[2156ba9850f5573cc1fc38a6a4b2f02b]\n",
       "class E7--><a href=\"psysml:f97762a5-be4a-40f0-b15f-ded6f9a0a2bf\" target=\"_top\" title=\"psysml:f97762a5-be4a-40f0-b15f-ded6f9a0a2bf\" xlink:actuate=\"onRequest\" xlink:href=\"psysml:f97762a5-be4a-40f0-b15f-ded6f9a0a2bf\" xlink:show=\"new\" xlink:title=\"psysml:f97762a5-be4a-40f0-b15f-ded6f9a0a2bf\" xlink:type=\"simple\"><g id=\"elem_E7\"><rect fill=\"#FFFFFF\" height=\"48.2656\" id=\"E7\" rx=\"10\" ry=\"10\" style=\"stroke:#181818;stroke-width:0.5;\" width=\"42\" x=\"167\" y=\"758\"/><text fill=\"#000000\" font-family=\"sans-serif\" font-size=\"12\" font-style=\"italic\" lengthAdjust=\"spacing\" textLength=\"40\" x=\"168\" y=\"774.1387\">«part»</text><text fill=\"#000000\" font-family=\"sans-serif\" font-size=\"14\" font-style=\"italic\" lengthAdjust=\"spacing\" textLength=\"8\" x=\"171\" y=\"789.9639\">a</text><text fill=\"#000000\" font-family=\"sans-serif\" font-size=\"14\" lengthAdjust=\"spacing\" textLength=\"18\" x=\"179\" y=\"789.9639\">: A</text><line style=\"stroke:#181818;stroke-width:0.5;\" x1=\"168\" x2=\"208\" y1=\"798.2656\" y2=\"798.2656\"/></g></a><!--MD5=[b9389687b975829384b498ac4b7476b2]\n",
       "class E8--><a href=\"psysml:2119f9fa-e703-4679-adcc-c9e3fda7136e\" target=\"_top\" title=\"psysml:2119f9fa-e703-4679-adcc-c9e3fda7136e\" xlink:actuate=\"onRequest\" xlink:href=\"psysml:2119f9fa-e703-4679-adcc-c9e3fda7136e\" xlink:show=\"new\" xlink:title=\"psysml:2119f9fa-e703-4679-adcc-c9e3fda7136e\" xlink:type=\"simple\"><g id=\"elem_E8\"><rect fill=\"#FFFFFF\" height=\"48.2656\" id=\"E8\" style=\"stroke:#181818;stroke-width:0.5;\" width=\"70\" x=\"117\" y=\"524\"/><text fill=\"#000000\" font-family=\"sans-serif\" font-size=\"12\" font-style=\"italic\" lengthAdjust=\"spacing\" textLength=\"68\" x=\"118\" y=\"540.1387\">«part  def»</text><text fill=\"#000000\" font-family=\"sans-serif\" font-size=\"14\" lengthAdjust=\"spacing\" textLength=\"10\" x=\"147\" y=\"555.9639\">C</text><line style=\"stroke:#181818;stroke-width:0.5;\" x1=\"118\" x2=\"186\" y1=\"564.2656\" y2=\"564.2656\"/></g></a><!--MD5=[fd4143e9d270a159db93a4ea2a975926]\n",
       "class E9--><a href=\"psysml:f9be0f9f-7828-47af-b676-a3098923450b\" target=\"_top\" title=\"psysml:f9be0f9f-7828-47af-b676-a3098923450b\" xlink:actuate=\"onRequest\" xlink:href=\"psysml:f9be0f9f-7828-47af-b676-a3098923450b\" xlink:show=\"new\" xlink:title=\"psysml:f9be0f9f-7828-47af-b676-a3098923450b\" xlink:type=\"simple\"><g id=\"elem_E9\"><rect fill=\"#FFFFFF\" height=\"48.2656\" id=\"E9\" style=\"stroke:#181818;stroke-width:0.5;\" width=\"70\" x=\"69\" y=\"41\"/><text fill=\"#000000\" font-family=\"sans-serif\" font-size=\"12\" font-style=\"italic\" lengthAdjust=\"spacing\" textLength=\"68\" x=\"70\" y=\"57.1387\">«port  def»</text><text fill=\"#000000\" font-family=\"sans-serif\" font-size=\"14\" lengthAdjust=\"spacing\" textLength=\"9\" x=\"99.5\" y=\"72.9639\">P</text><line style=\"stroke:#181818;stroke-width:0.5;\" x1=\"70\" x2=\"138\" y1=\"81.2656\" y2=\"81.2656\"/></g></a><!--MD5=[96f4274e9e20536e775497830990834d]\n",
       "class E10--><a href=\"psysml:bdd21edf-ffb1-47e0-8301-b129ba721304\" target=\"_top\" title=\"psysml:bdd21edf-ffb1-47e0-8301-b129ba721304\" xlink:actuate=\"onRequest\" xlink:href=\"psysml:bdd21edf-ffb1-47e0-8301-b129ba721304\" xlink:show=\"new\" xlink:title=\"psysml:bdd21edf-ffb1-47e0-8301-b129ba721304\" xlink:type=\"simple\"><g id=\"elem_E10\"><rect fill=\"#FFFFFF\" height=\"48.2656\" id=\"E10\" rx=\"10\" ry=\"10\" style=\"stroke:#181818;stroke-width:0.5;\" width=\"49\" x=\"32.5\" y=\"150\"/><text fill=\"#000000\" font-family=\"sans-serif\" font-size=\"12\" font-style=\"italic\" lengthAdjust=\"spacing\" textLength=\"41\" x=\"36.5\" y=\"166.1387\">«item»</text><text fill=\"#000000\" font-family=\"sans-serif\" font-size=\"14\" lengthAdjust=\"spacing\" textLength=\"35\" x=\"35.5\" y=\"181.9639\">a1: A</text><line style=\"stroke:#181818;stroke-width:0.5;\" x1=\"33.5\" x2=\"80.5\" y1=\"190.2656\" y2=\"190.2656\"/></g></a><!--MD5=[1dd1bfd58a279cf63c5f349dbc8fc6a1]\n",
       "class E11--><a href=\"psysml:ea86bb80-7fc3-4478-bdc0-15728142c0fa\" target=\"_top\" title=\"psysml:ea86bb80-7fc3-4478-bdc0-15728142c0fa\" xlink:actuate=\"onRequest\" xlink:href=\"psysml:ea86bb80-7fc3-4478-bdc0-15728142c0fa\" xlink:show=\"new\" xlink:title=\"psysml:ea86bb80-7fc3-4478-bdc0-15728142c0fa\" xlink:type=\"simple\"><g id=\"elem_E11\"><rect fill=\"#FFFFFF\" height=\"48.2656\" id=\"E11\" rx=\"10\" ry=\"10\" style=\"stroke:#181818;stroke-width:0.5;\" width=\"49\" x=\"116.5\" y=\"150\"/><text fill=\"#000000\" font-family=\"sans-serif\" font-size=\"12\" font-style=\"italic\" lengthAdjust=\"spacing\" textLength=\"41\" x=\"120.5\" y=\"166.1387\">«item»</text><text fill=\"#000000\" font-family=\"sans-serif\" font-size=\"14\" lengthAdjust=\"spacing\" textLength=\"35\" x=\"119.5\" y=\"181.9639\">a2: A</text><line style=\"stroke:#181818;stroke-width:0.5;\" x1=\"117.5\" x2=\"164.5\" y1=\"190.2656\" y2=\"190.2656\"/></g></a><!--MD5=[2720a5a1f2c3fca2055b230370638851]\n",
       "link E2 to E3--><g id=\"link_E2_E3\"><a href=\"psysml:358bd963-d6cf-4c51-9d97-dc29b520688f\" target=\"_top\" title=\"psysml:358bd963-d6cf-4c51-9d97-dc29b520688f\" xlink:actuate=\"onRequest\" xlink:href=\"psysml:358bd963-d6cf-4c51-9d97-dc29b520688f\" xlink:show=\"new\" xlink:title=\"psysml:358bd963-d6cf-4c51-9d97-dc29b520688f\" xlink:type=\"simple\"><path d=\"M204.42,198.22 C194.55,211.26 181.97,227.88 170.62,242.87 \" fill=\"none\" id=\"E2-to-E3\" style=\"stroke:#181818;stroke-width:1.0;\"/><polygon fill=\"#FFFFFF\" points=\"158.54,258.83,164.4286,239.4567,175.5901,247.9078,158.54,258.83\" style=\"stroke:#181818;stroke-width:1.0;\"/><ellipse cx=\"169.4639\" cy=\"236.1197\" fill=\"#181818\" rx=\"2\" ry=\"2\" style=\"stroke:#181818;stroke-width:1.0;\"/><ellipse cx=\"177.4364\" cy=\"242.1562\" fill=\"#181818\" rx=\"2\" ry=\"2\" style=\"stroke:#181818;stroke-width:1.0;\"/></a></g><!--MD5=[4672eba38e49728da53d11aeb285b987]\n",
       "reverse link E3 to E4--><g id=\"link_E3_E4\"><a href=\"psysml:724ffe94-cfbf-4ea2-b315-6baf1a587f0c\" target=\"_top\" title=\"psysml:724ffe94-cfbf-4ea2-b315-6baf1a587f0c\" xlink:actuate=\"onRequest\" xlink:href=\"psysml:724ffe94-cfbf-4ea2-b315-6baf1a587f0c\" xlink:show=\"new\" xlink:title=\"psysml:724ffe94-cfbf-4ea2-b315-6baf1a587f0c\" xlink:type=\"simple\"><path d=\"M112.72,317.45 C92.93,340.88 70,368 70,368 C70,368 70,416.01 70,445.83 \" fill=\"none\" id=\"E3-backto-E4\" style=\"stroke:#181818;stroke-width:1.0;\"/><polygon fill=\"#181818\" points=\"121.22,307.4,114.2926,309.4028,113.477,316.5676,120.4044,314.5648,121.22,307.4\" style=\"stroke:#181818;stroke-width:1.0;\"/></a></g><!--MD5=[191cde3d490a3f6d7bb551fe3ddca469]\n",
       "reverse link E3 to E5--><g id=\"link_E3_E5\"><a href=\"psysml:9c72d63b-be6b-487b-af19-53b3ed2c634b\" target=\"_top\" title=\"psysml:9c72d63b-be6b-487b-af19-53b3ed2c634b\" xlink:actuate=\"onRequest\" xlink:href=\"psysml:9c72d63b-be6b-487b-af19-53b3ed2c634b\" xlink:show=\"new\" xlink:title=\"psysml:9c72d63b-be6b-487b-af19-53b3ed2c634b\" xlink:type=\"simple\"><path d=\"M153.39,319.83 C158.86,335.66 165.14,353.82 169.99,367.83 \" fill=\"none\" id=\"E3-backto-E5\" style=\"stroke:#181818;stroke-width:1.0;\"/><polygon fill=\"none\" points=\"149.03,307.22,147.2077,314.1971,152.9472,318.5627,154.7695,311.5856,149.03,307.22\" style=\"stroke:#181818;stroke-width:1.0;\"/></a></g><!--MD5=[79568f1e445c3877b6a54524624ccc7d]\n",
       "link E4 to E6--><g id=\"link_E4_E6\"><a href=\"psysml:c1d845e5-90b4-4786-9172-2f85f48f902a\" target=\"_top\" title=\"psysml:c1d845e5-90b4-4786-9172-2f85f48f902a\" xlink:actuate=\"onRequest\" xlink:href=\"psysml:c1d845e5-90b4-4786-9172-2f85f48f902a\" xlink:show=\"new\" xlink:title=\"psysml:c1d845e5-90b4-4786-9172-2f85f48f902a\" xlink:type=\"simple\"><path d=\"M76.88,494.17 C85.74,523.99 100,572 100,572 C100,572 116.23,603.2 130.55,630.75 \" fill=\"none\" id=\"E4-to-E6\" style=\"stroke:#181818;stroke-width:1.0;\"/><polygon fill=\"#FFFFFF\" points=\"139.94,648.81,124.9624,635.1839,137.3828,628.7237,139.94,648.81\" style=\"stroke:#181818;stroke-width:1.0;\"/><ellipse cx=\"124.1065\" cy=\"629.2041\" fill=\"#181818\" rx=\"2\" ry=\"2\" style=\"stroke:#181818;stroke-width:1.0;\"/><ellipse cx=\"132.9782\" cy=\"624.5897\" fill=\"#181818\" rx=\"2\" ry=\"2\" style=\"stroke:#181818;stroke-width:1.0;\"/></a></g><!--MD5=[3f50a3473f1dfb74d3f76443e03635af]\n",
       "reverse link E6 to E7--><g id=\"link_E6_E7\"><a href=\"psysml:ee76f7ce-c996-4988-9b1a-5ac16ad8d066\" target=\"_top\" title=\"psysml:ee76f7ce-c996-4988-9b1a-5ac16ad8d066\" xlink:actuate=\"onRequest\" xlink:href=\"psysml:ee76f7ce-c996-4988-9b1a-5ac16ad8d066\" xlink:show=\"new\" xlink:title=\"psysml:ee76f7ce-c996-4988-9b1a-5ac16ad8d066\" xlink:type=\"simple\"><path d=\"M164.05,709.83 C169.38,725.66 175.49,743.82 180.2,757.83 \" fill=\"none\" id=\"E6-backto-E7\" style=\"stroke:#181818;stroke-width:1.0;\"/><polygon fill=\"#181818\" points=\"159.81,697.22,157.9296,704.1816,163.6324,708.5949,165.5128,701.6333,159.81,697.22\" style=\"stroke:#181818;stroke-width:1.0;\"/></a></g><!--MD5=[14ccda38c055a5c0da953d572bc50960]\n",
       "link E7 to E3--><g id=\"link_E7_E3\"><a href=\"psysml:1cb41c8a-3888-4a6d-b592-33957295a7ee\" target=\"_top\" title=\"psysml:1cb41c8a-3888-4a6d-b592-33957295a7ee\" xlink:actuate=\"onRequest\" xlink:href=\"psysml:1cb41c8a-3888-4a6d-b592-33957295a7ee\" xlink:show=\"new\" xlink:title=\"psysml:1cb41c8a-3888-4a6d-b592-33957295a7ee\" xlink:type=\"simple\"><path d=\"M198.2,757.78 C212.02,726.31 235,674 235,674 C235,391 235,391 235,391 C235,391 217,368 217,368 C217,368 195.85,344.63 175.87,322.54 \" fill=\"none\" id=\"E7-to-E3\" style=\"stroke:#181818;stroke-width:1.0;\"/><polygon fill=\"#FFFFFF\" points=\"162.17,307.4,180.1124,316.7846,169.7351,326.1821,162.17,307.4\" style=\"stroke:#181818;stroke-width:1.0;\"/><ellipse cx=\"182.456\" cy=\"322.3522\" fill=\"#181818\" rx=\"2\" ry=\"2\" style=\"stroke:#181818;stroke-width:1.0;\"/><ellipse cx=\"175.0437\" cy=\"329.0647\" fill=\"#181818\" rx=\"2\" ry=\"2\" style=\"stroke:#181818;stroke-width:1.0;\"/></a></g><!--MD5=[dfaffb906826c3e5aca635516100ff21]\n",
       "link E5 to E8--><g id=\"link_E5_E8\"><a href=\"psysml:b2862137-6a73-49a4-ad0f-48652eafb24c\" target=\"_top\" title=\"psysml:b2862137-6a73-49a4-ad0f-48652eafb24c\" xlink:actuate=\"onRequest\" xlink:href=\"psysml:b2862137-6a73-49a4-ad0f-48652eafb24c\" xlink:show=\"new\" xlink:title=\"psysml:b2862137-6a73-49a4-ad0f-48652eafb24c\" xlink:type=\"simple\"><path d=\"M174.11,416.06 C170.2,439.19 164.09,475.38 159.28,503.86 \" fill=\"none\" id=\"E5-to-E8\" style=\"stroke:#181818;stroke-width:1.0;\"/><polygon fill=\"#FFFFFF\" points=\"155.92,523.79,152.1809,503.8898,165.9855,506.2206,155.92,523.79\" style=\"stroke:#181818;stroke-width:1.0;\"/><ellipse cx=\"155.1019\" cy=\"498.6023\" fill=\"#181818\" rx=\"2\" ry=\"2\" style=\"stroke:#181818;stroke-width:1.0;\"/><ellipse cx=\"164.9624\" cy=\"500.2671\" fill=\"#181818\" rx=\"2\" ry=\"2\" style=\"stroke:#181818;stroke-width:1.0;\"/></a></g><!--MD5=[03c8294790d3c57651a1993cecff665f]\n",
       "reverse link E8 to E3--><g id=\"link_E8_E3\"><a href=\"psysml:764dcc5f-c791-44bd-8fe4-0cc6162433fb\" target=\"_top\" title=\"psysml:764dcc5f-c791-44bd-8fe4-0cc6162433fb\" xlink:actuate=\"onRequest\" xlink:href=\"psysml:764dcc5f-c791-44bd-8fe4-0cc6162433fb\" xlink:show=\"new\" xlink:title=\"psysml:764dcc5f-c791-44bd-8fe4-0cc6162433fb\" xlink:type=\"simple\"><path d=\"M146.23,511.01 C140.01,472.23 131,416 131,416 C131,416 131,368 131,368 C131,368 135.26,332.25 138.21,307.4 \" fill=\"none\" id=\"E8-backto-E3\" style=\"stroke:#181818;stroke-width:1.0;\"/><polygon fill=\"none\" points=\"148.29,523.88,151.2907,517.3229,146.3921,512.031,143.3914,518.5882,148.29,523.88\" style=\"stroke:#181818;stroke-width:1.0;\"/><text fill=\"#000000\" font-family=\"sans-serif\" font-size=\"13\" lengthAdjust=\"spacing\" textLength=\"7\" x=\"132\" y=\"396.5669\">y</text></a></g><!--MD5=[0d75d2178373a6a4568e5dc728f58aef]\n",
       "reverse link E8 to E6--><g id=\"link_E8_E6\"><a href=\"psysml:764dcc5f-c791-44bd-8fe4-0cc6162433fb\" target=\"_top\" title=\"psysml:764dcc5f-c791-44bd-8fe4-0cc6162433fb\" xlink:actuate=\"onRequest\" xlink:href=\"psysml:764dcc5f-c791-44bd-8fe4-0cc6162433fb\" xlink:show=\"new\" xlink:title=\"psysml:764dcc5f-c791-44bd-8fe4-0cc6162433fb\" xlink:type=\"simple\"><path d=\"M152,585.21 C152,605.83 152,631.04 152,648.97 \" fill=\"none\" id=\"E8-backto-E6\" style=\"stroke:#181818;stroke-width:1.0;\"/><polygon fill=\"none\" points=\"152,572.14,148,578.14,152,584.14,156,578.14,152,572.14\" style=\"stroke:#181818;stroke-width:1.0;\"/><text fill=\"#000000\" font-family=\"sans-serif\" font-size=\"13\" lengthAdjust=\"spacing\" textLength=\"7\" x=\"153\" y=\"615.0669\">y</text></a></g><!--MD5=[23ac544a70576c3e717098101004234c]\n",
       "reverse link E9 to E10--><g id=\"link_E9_E10\"><a href=\"psysml:1f369bef-866d-4201-85d0-19625ffb0bd4\" target=\"_top\" title=\"psysml:1f369bef-866d-4201-85d0-19625ffb0bd4\" xlink:actuate=\"onRequest\" xlink:href=\"psysml:1f369bef-866d-4201-85d0-19625ffb0bd4\" xlink:show=\"new\" xlink:title=\"psysml:1f369bef-866d-4201-85d0-19625ffb0bd4\" xlink:type=\"simple\"><path d=\"M88.47,101.35 C81.47,117.29 73.39,135.68 67.18,149.83 \" fill=\"none\" id=\"E9-backto-E10\" style=\"stroke:#181818;stroke-width:1.0;\"/><polygon fill=\"none\" points=\"93.8,89.22,87.7243,93.1041,88.9729,100.2063,95.0485,96.3222,93.8,89.22\" style=\"stroke:#181818;stroke-width:1.0;\"/></a></g><!--MD5=[feeac5eb423634930294aa81f2d25a4c]\n",
       "link E10 to E3--><g id=\"link_E10_E3\"><a href=\"psysml:0dc69dec-387f-4606-9efc-6b8567a081cf\" target=\"_top\" title=\"psysml:0dc69dec-387f-4606-9efc-6b8567a081cf\" xlink:actuate=\"onRequest\" xlink:href=\"psysml:0dc69dec-387f-4606-9efc-6b8567a081cf\" xlink:show=\"new\" xlink:title=\"psysml:0dc69dec-387f-4606-9efc-6b8567a081cf\" xlink:type=\"simple\"><path d=\"M75.23,198.22 C85.46,211.26 98.51,227.88 110.28,242.87 \" fill=\"none\" id=\"E10-to-E3\" style=\"stroke:#181818;stroke-width:1.0;\"/><polygon fill=\"#FFFFFF\" points=\"122.81,258.83,105.5676,248.214,116.5764,239.565,122.81,258.83\" style=\"stroke:#181818;stroke-width:1.0;\"/><ellipse cx=\"103.6189\" cy=\"242.4963\" fill=\"#181818\" rx=\"2\" ry=\"2\" style=\"stroke:#181818;stroke-width:1.0;\"/><ellipse cx=\"111.4823\" cy=\"236.3184\" fill=\"#181818\" rx=\"2\" ry=\"2\" style=\"stroke:#181818;stroke-width:1.0;\"/></a></g><!--MD5=[1fc04a95fd77ad5ce46c1a3027516051]\n",
       "reverse link E9 to E11--><g id=\"link_E9_E11\"><a href=\"psysml:41147f3b-680c-4b19-9ea9-1ad0d7284d0b\" target=\"_top\" title=\"psysml:41147f3b-680c-4b19-9ea9-1ad0d7284d0b\" xlink:actuate=\"onRequest\" xlink:href=\"psysml:41147f3b-680c-4b19-9ea9-1ad0d7284d0b\" xlink:show=\"new\" xlink:title=\"psysml:41147f3b-680c-4b19-9ea9-1ad0d7284d0b\" xlink:type=\"simple\"><path d=\"M116.39,101.83 C121.86,117.66 128.14,135.82 132.99,149.83 \" fill=\"none\" id=\"E9-backto-E11\" style=\"stroke:#181818;stroke-width:1.0;\"/><polygon fill=\"none\" points=\"112.03,89.22,110.2077,96.1971,115.9472,100.5627,117.7695,93.5856,112.03,89.22\" style=\"stroke:#181818;stroke-width:1.0;\"/></a></g><!--MD5=[0517f1ce58c4d5483948f93845c45e26]\n",
       "link E11 to E3--><g id=\"link_E11_E3\"><a href=\"psysml:86cba12c-5c0b-4cb2-8a0f-652783ee7e3b\" target=\"_top\" title=\"psysml:86cba12c-5c0b-4cb2-8a0f-652783ee7e3b\" xlink:actuate=\"onRequest\" xlink:href=\"psysml:86cba12c-5c0b-4cb2-8a0f-652783ee7e3b\" xlink:show=\"new\" xlink:title=\"psysml:86cba12c-5c0b-4cb2-8a0f-652783ee7e3b\" xlink:type=\"simple\"><path d=\"M141,198.22 C141,210 141,224.69 141,238.48 \" fill=\"none\" id=\"E11-to-E3\" style=\"stroke:#181818;stroke-width:1.0;\"/><polygon fill=\"#FFFFFF\" points=\"141,258.83,134,239.83,148,239.83,141,258.83\" style=\"stroke:#181818;stroke-width:1.0;\"/><ellipse cx=\"136\" cy=\"234.13\" fill=\"#181818\" rx=\"2\" ry=\"2\" style=\"stroke:#181818;stroke-width:1.0;\"/><ellipse cx=\"146\" cy=\"234.13\" fill=\"#181818\" rx=\"2\" ry=\"2\" style=\"stroke:#181818;stroke-width:1.0;\"/></a></g><!--MD5=[ff65a38cd70d5df0d8a01c46dd3719b7]\n",
       "@startuml\r\n",
       "skin sysmlbw\r\n",
       "skinparam monochrome true\r\n",
       "skinparam wrapWidth 300\r\n",
       "hide circle\r\n",
       "skinparam linetype polyline\r\n",
       "\r\n",
       "package \"ItemTest\" as E1  [[psysml:b50080a1-e82f-4c80-9a3f-5d66ab4e7e23 ]]  {\r\n",
       "comp usage \"f: A  \" as E2  <<(T,blue) item>> [[psysml:4d36820e-7c5e-46bd-9de5-e346cea54837 ]] {\r\n",
       "}\r\n",
       "comp def \"A\" as E3  <<(T,blue) item  def>> [[psysml:90a9c46f-1bc9-4470-bf4e-8ae555dfcfc9 ]] {\r\n",
       "}\r\n",
       "comp usage \"b: B  \" as E4  <<(T,blue) item>> [[psysml:d394e1d7-ba50-4340-ad50-ece704d14a42 ]] {\r\n",
       "}\r\n",
       "comp usage \"c: C  \" as E5  <<(T,blue) part>> [[psysml:af047218-2074-4cd5-be73-a9bc4fd53c73 ]] {\r\n",
       "}\r\n",
       "comp def \"<i>B</i>\" as E6  <<(T,blue) item  def>> [[psysml:24ac0b44-19f7-4e7e-9d8c-29217623109a ]] {\r\n",
       "}\r\n",
       "comp usage \"<i>a</i>: A  \" as E7  <<(T,blue) part>> [[psysml:f97762a5-be4a-40f0-b15f-ded6f9a0a2bf ]] {\r\n",
       "}\r\n",
       "comp def \"C\" as E8  <<(T,blue) part  def>> [[psysml:2119f9fa-e703-4679-adcc-c9e3fda7136e ]] {\r\n",
       "}\r\n",
       "comp def \"P\" as E9  <<(T,blue) port  def>> [[psysml:f9be0f9f-7828-47af-b676-a3098923450b ]] {\r\n",
       "}\r\n",
       "comp usage \"a1: A  \" as E10  <<(T,blue) item>> [[psysml:bdd21edf-ffb1-47e0-8301-b129ba721304 ]] {\r\n",
       "}\r\n",
       "comp usage \"a2: A  \" as E11  <<(T,blue) item>> [[psysml:ea86bb80-7fc3-4478-bdc0-15728142c0fa ]] {\r\n",
       "}\r\n",
       "}\r\n",
       "E2 - -:|> E3 [[psysml:358bd963-d6cf-4c51-9d97-dc29b520688f ]] \r\n",
       "E3 *- - E4 [[psysml:724ffe94-cfbf-4ea2-b315-6baf1a587f0c ]] \r\n",
       "E3 o- - E5 [[psysml:9c72d63b-be6b-487b-af19-53b3ed2c634b ]] \r\n",
       "E4 - -:|> E6 [[psysml:c1d845e5-90b4-4786-9172-2f85f48f902a ]] \r\n",
       "E6 *- - E7 [[psysml:ee76f7ce-c996-4988-9b1a-5ac16ad8d066 ]] \r\n",
       "E7 - -:|> E3 [[psysml:1cb41c8a-3888-4a6d-b592-33957295a7ee ]] \r\n",
       "E5 - -:|> E8 [[psysml:b2862137-6a73-49a4-ad0f-48652eafb24c ]] \r\n",
       "E8 o- - E3 [[psysml:764dcc5f-c791-44bd-8fe4-0cc6162433fb ]] : y\r\n",
       "E8 o- - E6 [[psysml:764dcc5f-c791-44bd-8fe4-0cc6162433fb ]] : y\r\n",
       "E9 o- - E10 [[psysml:1f369bef-866d-4201-85d0-19625ffb0bd4 ]] \r\n",
       "E10 - -:|> E3 [[psysml:0dc69dec-387f-4606-9efc-6b8567a081cf ]] \r\n",
       "E9 o- - E11 [[psysml:41147f3b-680c-4b19-9ea9-1ad0d7284d0b ]] \r\n",
       "E11 - -:|> E3 [[psysml:86cba12c-5c0b-4cb2-8a0f-652783ee7e3b ]] \r\n",
       "@enduml\r\n",
       "\n",
       "PlantUML version 1.2022.7(Mon Aug 22 17:01:30 UTC 2022)\n",
       "(EPL source distribution)\n",
       "Java Runtime: OpenJDK Runtime Environment\n",
       "JVM: OpenJDK 64-Bit Server VM\n",
       "Default Encoding: UTF-8\n",
       "Language: en\n",
       "Country: null\n",
       "--></g></svg>"
      ]
     },
     "execution_count": 9,
     "metadata": {},
     "output_type": "execute_result"
    }
   ],
   "source": [
    "%viz --style=\"POLYLINE\" --view=\"Default\" \"ItemTest\""
   ]
  },
  {
   "cell_type": "code",
   "execution_count": 10,
   "id": "5f922f77",
   "metadata": {
    "execution": {
     "iopub.execute_input": "2024-12-16T03:22:53.524183Z",
     "iopub.status.busy": "2024-12-16T03:22:53.523947Z",
     "iopub.status.idle": "2024-12-16T03:22:53.560937Z",
     "shell.execute_reply": "2024-12-16T03:22:53.561070Z"
    }
   },
   "outputs": [
    {
     "data": {
      "image/svg+xml": [
       "<?xml version=\"1.0\" encoding=\"UTF-8\" standalone=\"no\"?><svg xmlns=\"http://www.w3.org/2000/svg\" xmlns:xlink=\"http://www.w3.org/1999/xlink\" contentStyleType=\"text/css\" height=\"829px\" preserveAspectRatio=\"none\" style=\"width:277px;height:829px;background:#FFFFFF;\" version=\"1.1\" viewBox=\"0 0 277 829\" width=\"277px\" zoomAndPan=\"magnify\"><defs/><g><!--MD5=[fbc87193dbaf4d95561dea2c320d4a47]\n",
       "cluster E1--><g id=\"cluster_E1\"><a href=\"psysml:b50080a1-e82f-4c80-9a3f-5d66ab4e7e23\" target=\"_top\" title=\"psysml:b50080a1-e82f-4c80-9a3f-5d66ab4e7e23\" xlink:actuate=\"onRequest\" xlink:href=\"psysml:b50080a1-e82f-4c80-9a3f-5d66ab4e7e23\" xlink:show=\"new\" xlink:title=\"psysml:b50080a1-e82f-4c80-9a3f-5d66ab4e7e23\" xlink:type=\"simple\"><polygon fill=\"none\" points=\"16,6,86.5,6,93.5,28.2969,260,28.2969,260,822,16,822,16,6\" style=\"stroke:#000000;stroke-width:1.5;\"/><line style=\"stroke:#000000;stroke-width:1.5;\" x1=\"16\" x2=\"93.5\" y1=\"28.2969\" y2=\"28.2969\"/><text fill=\"#000000\" font-family=\"sans-serif\" font-size=\"14\" font-weight=\"bold\" lengthAdjust=\"spacing\" textLength=\"64.5\" x=\"20\" y=\"20.9951\">ItemTest</text></a></g><!--MD5=[b4997ac47864f28c2f74865a473b2911]\n",
       "class E2--><a href=\"psysml:4d36820e-7c5e-46bd-9de5-e346cea54837\" target=\"_top\" title=\"psysml:4d36820e-7c5e-46bd-9de5-e346cea54837\" xlink:actuate=\"onRequest\" xlink:href=\"psysml:4d36820e-7c5e-46bd-9de5-e346cea54837\" xlink:show=\"new\" xlink:title=\"psysml:4d36820e-7c5e-46bd-9de5-e346cea54837\" xlink:type=\"simple\"><g id=\"elem_E2\"><rect fill=\"#FFFFFF\" height=\"48.2656\" id=\"E2\" rx=\"10\" ry=\"10\" style=\"stroke:#181818;stroke-width:0.5;\" width=\"43\" x=\"200.5\" y=\"150\"/><text fill=\"#000000\" font-family=\"sans-serif\" font-size=\"12\" font-style=\"italic\" lengthAdjust=\"spacing\" textLength=\"41\" x=\"201.5\" y=\"166.1387\">«item»</text><text fill=\"#000000\" font-family=\"sans-serif\" font-size=\"14\" lengthAdjust=\"spacing\" textLength=\"22\" x=\"207\" y=\"181.9639\">f: A</text><line style=\"stroke:#181818;stroke-width:0.5;\" x1=\"201.5\" x2=\"242.5\" y1=\"190.2656\" y2=\"190.2656\"/></g></a><!--MD5=[09b614a08d8cba4a07c9adeb5e0fee81]\n",
       "class E3--><a href=\"psysml:90a9c46f-1bc9-4470-bf4e-8ae555dfcfc9\" target=\"_top\" title=\"psysml:90a9c46f-1bc9-4470-bf4e-8ae555dfcfc9\" xlink:actuate=\"onRequest\" xlink:href=\"psysml:90a9c46f-1bc9-4470-bf4e-8ae555dfcfc9\" xlink:show=\"new\" xlink:title=\"psysml:90a9c46f-1bc9-4470-bf4e-8ae555dfcfc9\" xlink:type=\"simple\"><g id=\"elem_E3\"><rect fill=\"#FFFFFF\" height=\"48.2656\" id=\"E3\" style=\"stroke:#181818;stroke-width:0.5;\" width=\"71\" x=\"105.5\" y=\"259\"/><text fill=\"#000000\" font-family=\"sans-serif\" font-size=\"12\" font-style=\"italic\" lengthAdjust=\"spacing\" textLength=\"69\" x=\"106.5\" y=\"275.1387\">«item  def»</text><text fill=\"#000000\" font-family=\"sans-serif\" font-size=\"14\" lengthAdjust=\"spacing\" textLength=\"9\" x=\"136.5\" y=\"290.9639\">A</text><line style=\"stroke:#181818;stroke-width:0.5;\" x1=\"106.5\" x2=\"175.5\" y1=\"299.2656\" y2=\"299.2656\"/></g></a><!--MD5=[ebbe1d658d1005bcc118a6aa81145e00]\n",
       "class E4--><a href=\"psysml:d394e1d7-ba50-4340-ad50-ece704d14a42\" target=\"_top\" title=\"psysml:d394e1d7-ba50-4340-ad50-ece704d14a42\" xlink:actuate=\"onRequest\" xlink:href=\"psysml:d394e1d7-ba50-4340-ad50-ece704d14a42\" xlink:show=\"new\" xlink:title=\"psysml:d394e1d7-ba50-4340-ad50-ece704d14a42\" xlink:type=\"simple\"><g id=\"elem_E4\"><rect fill=\"#FFFFFF\" height=\"48.2656\" id=\"E4\" rx=\"10\" ry=\"10\" style=\"stroke:#181818;stroke-width:0.5;\" width=\"43\" x=\"48.5\" y=\"446\"/><text fill=\"#000000\" font-family=\"sans-serif\" font-size=\"12\" font-style=\"italic\" lengthAdjust=\"spacing\" textLength=\"41\" x=\"49.5\" y=\"462.1387\">«item»</text><text fill=\"#000000\" font-family=\"sans-serif\" font-size=\"14\" lengthAdjust=\"spacing\" textLength=\"28\" x=\"52\" y=\"477.9639\">b: B</text><line style=\"stroke:#181818;stroke-width:0.5;\" x1=\"49.5\" x2=\"90.5\" y1=\"486.2656\" y2=\"486.2656\"/></g></a><!--MD5=[270fce915f116d4de14055a7c1d9a0f3]\n",
       "class E5--><a href=\"psysml:af047218-2074-4cd5-be73-a9bc4fd53c73\" target=\"_top\" title=\"psysml:af047218-2074-4cd5-be73-a9bc4fd53c73\" xlink:actuate=\"onRequest\" xlink:href=\"psysml:af047218-2074-4cd5-be73-a9bc4fd53c73\" xlink:show=\"new\" xlink:title=\"psysml:af047218-2074-4cd5-be73-a9bc4fd53c73\" xlink:type=\"simple\"><g id=\"elem_E5\"><rect fill=\"#FFFFFF\" height=\"48.2656\" id=\"E5\" rx=\"10\" ry=\"10\" style=\"stroke:#181818;stroke-width:0.5;\" width=\"42\" x=\"157\" y=\"368\"/><text fill=\"#000000\" font-family=\"sans-serif\" font-size=\"12\" font-style=\"italic\" lengthAdjust=\"spacing\" textLength=\"40\" x=\"158\" y=\"384.1387\">«part»</text><text fill=\"#000000\" font-family=\"sans-serif\" font-size=\"14\" lengthAdjust=\"spacing\" textLength=\"27\" x=\"160.5\" y=\"399.9639\">c: C</text><line style=\"stroke:#181818;stroke-width:0.5;\" x1=\"158\" x2=\"198\" y1=\"408.2656\" y2=\"408.2656\"/></g></a><!--MD5=[60a26617385b1d2d0262a64233df1f8d]\n",
       "class E6--><a href=\"psysml:24ac0b44-19f7-4e7e-9d8c-29217623109a\" target=\"_top\" title=\"psysml:24ac0b44-19f7-4e7e-9d8c-29217623109a\" xlink:actuate=\"onRequest\" xlink:href=\"psysml:24ac0b44-19f7-4e7e-9d8c-29217623109a\" xlink:show=\"new\" xlink:title=\"psysml:24ac0b44-19f7-4e7e-9d8c-29217623109a\" xlink:type=\"simple\"><g id=\"elem_E6\"><rect fill=\"#FFFFFF\" height=\"48.2656\" id=\"E6\" style=\"stroke:#181818;stroke-width:0.5;\" width=\"71\" x=\"116.5\" y=\"649\"/><text fill=\"#000000\" font-family=\"sans-serif\" font-size=\"12\" font-style=\"italic\" lengthAdjust=\"spacing\" textLength=\"69\" x=\"117.5\" y=\"665.1387\">«item  def»</text><text fill=\"#000000\" font-family=\"sans-serif\" font-size=\"14\" font-style=\"italic\" lengthAdjust=\"spacing\" textLength=\"10\" x=\"147\" y=\"680.9639\">B</text><line style=\"stroke:#181818;stroke-width:0.5;\" x1=\"117.5\" x2=\"186.5\" y1=\"689.2656\" y2=\"689.2656\"/></g></a><!--MD5=[2156ba9850f5573cc1fc38a6a4b2f02b]\n",
       "class E7--><a href=\"psysml:f97762a5-be4a-40f0-b15f-ded6f9a0a2bf\" target=\"_top\" title=\"psysml:f97762a5-be4a-40f0-b15f-ded6f9a0a2bf\" xlink:actuate=\"onRequest\" xlink:href=\"psysml:f97762a5-be4a-40f0-b15f-ded6f9a0a2bf\" xlink:show=\"new\" xlink:title=\"psysml:f97762a5-be4a-40f0-b15f-ded6f9a0a2bf\" xlink:type=\"simple\"><g id=\"elem_E7\"><rect fill=\"#FFFFFF\" height=\"48.2656\" id=\"E7\" rx=\"10\" ry=\"10\" style=\"stroke:#181818;stroke-width:0.5;\" width=\"42\" x=\"167\" y=\"758\"/><text fill=\"#000000\" font-family=\"sans-serif\" font-size=\"12\" font-style=\"italic\" lengthAdjust=\"spacing\" textLength=\"40\" x=\"168\" y=\"774.1387\">«part»</text><text fill=\"#000000\" font-family=\"sans-serif\" font-size=\"14\" font-style=\"italic\" lengthAdjust=\"spacing\" textLength=\"8\" x=\"171\" y=\"789.9639\">a</text><text fill=\"#000000\" font-family=\"sans-serif\" font-size=\"14\" lengthAdjust=\"spacing\" textLength=\"18\" x=\"179\" y=\"789.9639\">: A</text><line style=\"stroke:#181818;stroke-width:0.5;\" x1=\"168\" x2=\"208\" y1=\"798.2656\" y2=\"798.2656\"/></g></a><!--MD5=[b9389687b975829384b498ac4b7476b2]\n",
       "class E8--><a href=\"psysml:2119f9fa-e703-4679-adcc-c9e3fda7136e\" target=\"_top\" title=\"psysml:2119f9fa-e703-4679-adcc-c9e3fda7136e\" xlink:actuate=\"onRequest\" xlink:href=\"psysml:2119f9fa-e703-4679-adcc-c9e3fda7136e\" xlink:show=\"new\" xlink:title=\"psysml:2119f9fa-e703-4679-adcc-c9e3fda7136e\" xlink:type=\"simple\"><g id=\"elem_E8\"><rect fill=\"#FFFFFF\" height=\"48.2656\" id=\"E8\" style=\"stroke:#181818;stroke-width:0.5;\" width=\"70\" x=\"117\" y=\"524\"/><text fill=\"#000000\" font-family=\"sans-serif\" font-size=\"12\" font-style=\"italic\" lengthAdjust=\"spacing\" textLength=\"68\" x=\"118\" y=\"540.1387\">«part  def»</text><text fill=\"#000000\" font-family=\"sans-serif\" font-size=\"14\" lengthAdjust=\"spacing\" textLength=\"10\" x=\"147\" y=\"555.9639\">C</text><line style=\"stroke:#181818;stroke-width:0.5;\" x1=\"118\" x2=\"186\" y1=\"564.2656\" y2=\"564.2656\"/></g></a><!--MD5=[fd4143e9d270a159db93a4ea2a975926]\n",
       "class E9--><a href=\"psysml:f9be0f9f-7828-47af-b676-a3098923450b\" target=\"_top\" title=\"psysml:f9be0f9f-7828-47af-b676-a3098923450b\" xlink:actuate=\"onRequest\" xlink:href=\"psysml:f9be0f9f-7828-47af-b676-a3098923450b\" xlink:show=\"new\" xlink:title=\"psysml:f9be0f9f-7828-47af-b676-a3098923450b\" xlink:type=\"simple\"><g id=\"elem_E9\"><rect fill=\"#FFFFFF\" height=\"48.2656\" id=\"E9\" style=\"stroke:#181818;stroke-width:0.5;\" width=\"70\" x=\"69\" y=\"41\"/><text fill=\"#000000\" font-family=\"sans-serif\" font-size=\"12\" font-style=\"italic\" lengthAdjust=\"spacing\" textLength=\"68\" x=\"70\" y=\"57.1387\">«port  def»</text><text fill=\"#000000\" font-family=\"sans-serif\" font-size=\"14\" lengthAdjust=\"spacing\" textLength=\"9\" x=\"99.5\" y=\"72.9639\">P</text><line style=\"stroke:#181818;stroke-width:0.5;\" x1=\"70\" x2=\"138\" y1=\"81.2656\" y2=\"81.2656\"/></g></a><!--MD5=[96f4274e9e20536e775497830990834d]\n",
       "class E10--><a href=\"psysml:bdd21edf-ffb1-47e0-8301-b129ba721304\" target=\"_top\" title=\"psysml:bdd21edf-ffb1-47e0-8301-b129ba721304\" xlink:actuate=\"onRequest\" xlink:href=\"psysml:bdd21edf-ffb1-47e0-8301-b129ba721304\" xlink:show=\"new\" xlink:title=\"psysml:bdd21edf-ffb1-47e0-8301-b129ba721304\" xlink:type=\"simple\"><g id=\"elem_E10\"><rect fill=\"#FFFFFF\" height=\"48.2656\" id=\"E10\" rx=\"10\" ry=\"10\" style=\"stroke:#181818;stroke-width:0.5;\" width=\"49\" x=\"32.5\" y=\"150\"/><text fill=\"#000000\" font-family=\"sans-serif\" font-size=\"12\" font-style=\"italic\" lengthAdjust=\"spacing\" textLength=\"41\" x=\"36.5\" y=\"166.1387\">«item»</text><text fill=\"#000000\" font-family=\"sans-serif\" font-size=\"14\" lengthAdjust=\"spacing\" textLength=\"35\" x=\"35.5\" y=\"181.9639\">a1: A</text><line style=\"stroke:#181818;stroke-width:0.5;\" x1=\"33.5\" x2=\"80.5\" y1=\"190.2656\" y2=\"190.2656\"/></g></a><!--MD5=[1dd1bfd58a279cf63c5f349dbc8fc6a1]\n",
       "class E11--><a href=\"psysml:ea86bb80-7fc3-4478-bdc0-15728142c0fa\" target=\"_top\" title=\"psysml:ea86bb80-7fc3-4478-bdc0-15728142c0fa\" xlink:actuate=\"onRequest\" xlink:href=\"psysml:ea86bb80-7fc3-4478-bdc0-15728142c0fa\" xlink:show=\"new\" xlink:title=\"psysml:ea86bb80-7fc3-4478-bdc0-15728142c0fa\" xlink:type=\"simple\"><g id=\"elem_E11\"><rect fill=\"#FFFFFF\" height=\"48.2656\" id=\"E11\" rx=\"10\" ry=\"10\" style=\"stroke:#181818;stroke-width:0.5;\" width=\"49\" x=\"116.5\" y=\"150\"/><text fill=\"#000000\" font-family=\"sans-serif\" font-size=\"12\" font-style=\"italic\" lengthAdjust=\"spacing\" textLength=\"41\" x=\"120.5\" y=\"166.1387\">«item»</text><text fill=\"#000000\" font-family=\"sans-serif\" font-size=\"14\" lengthAdjust=\"spacing\" textLength=\"35\" x=\"119.5\" y=\"181.9639\">a2: A</text><line style=\"stroke:#181818;stroke-width:0.5;\" x1=\"117.5\" x2=\"164.5\" y1=\"190.2656\" y2=\"190.2656\"/></g></a><!--MD5=[2720a5a1f2c3fca2055b230370638851]\n",
       "link E2 to E3--><g id=\"link_E2_E3\"><a href=\"psysml:358bd963-d6cf-4c51-9d97-dc29b520688f\" target=\"_top\" title=\"psysml:358bd963-d6cf-4c51-9d97-dc29b520688f\" xlink:actuate=\"onRequest\" xlink:href=\"psysml:358bd963-d6cf-4c51-9d97-dc29b520688f\" xlink:show=\"new\" xlink:title=\"psysml:358bd963-d6cf-4c51-9d97-dc29b520688f\" xlink:type=\"simple\"><path d=\"M204.42,198.22 C194.55,211.26 181.97,227.88 170.62,242.87 \" fill=\"none\" id=\"E2-to-E3\" style=\"stroke:#181818;stroke-width:1.0;\"/><polygon fill=\"#FFFFFF\" points=\"158.54,258.83,164.4286,239.4567,175.5901,247.9078,158.54,258.83\" style=\"stroke:#181818;stroke-width:1.0;\"/><ellipse cx=\"169.4639\" cy=\"236.1197\" fill=\"#181818\" rx=\"2\" ry=\"2\" style=\"stroke:#181818;stroke-width:1.0;\"/><ellipse cx=\"177.4364\" cy=\"242.1562\" fill=\"#181818\" rx=\"2\" ry=\"2\" style=\"stroke:#181818;stroke-width:1.0;\"/></a></g><!--MD5=[4672eba38e49728da53d11aeb285b987]\n",
       "reverse link E3 to E4--><g id=\"link_E3_E4\"><a href=\"psysml:724ffe94-cfbf-4ea2-b315-6baf1a587f0c\" target=\"_top\" title=\"psysml:724ffe94-cfbf-4ea2-b315-6baf1a587f0c\" xlink:actuate=\"onRequest\" xlink:href=\"psysml:724ffe94-cfbf-4ea2-b315-6baf1a587f0c\" xlink:show=\"new\" xlink:title=\"psysml:724ffe94-cfbf-4ea2-b315-6baf1a587f0c\" xlink:type=\"simple\"><path d=\"M112.72,317.45 C92.93,340.88 70,368 70,368 C70,368 70,416.01 70,445.83 \" fill=\"none\" id=\"E3-backto-E4\" style=\"stroke:#181818;stroke-width:1.0;\"/><polygon fill=\"#181818\" points=\"121.22,307.4,114.2926,309.4028,113.477,316.5676,120.4044,314.5648,121.22,307.4\" style=\"stroke:#181818;stroke-width:1.0;\"/></a></g><!--MD5=[191cde3d490a3f6d7bb551fe3ddca469]\n",
       "reverse link E3 to E5--><g id=\"link_E3_E5\"><a href=\"psysml:9c72d63b-be6b-487b-af19-53b3ed2c634b\" target=\"_top\" title=\"psysml:9c72d63b-be6b-487b-af19-53b3ed2c634b\" xlink:actuate=\"onRequest\" xlink:href=\"psysml:9c72d63b-be6b-487b-af19-53b3ed2c634b\" xlink:show=\"new\" xlink:title=\"psysml:9c72d63b-be6b-487b-af19-53b3ed2c634b\" xlink:type=\"simple\"><path d=\"M153.39,319.83 C158.86,335.66 165.14,353.82 169.99,367.83 \" fill=\"none\" id=\"E3-backto-E5\" style=\"stroke:#181818;stroke-width:1.0;\"/><polygon fill=\"none\" points=\"149.03,307.22,147.2077,314.1971,152.9472,318.5627,154.7695,311.5856,149.03,307.22\" style=\"stroke:#181818;stroke-width:1.0;\"/></a></g><!--MD5=[79568f1e445c3877b6a54524624ccc7d]\n",
       "link E4 to E6--><g id=\"link_E4_E6\"><a href=\"psysml:c1d845e5-90b4-4786-9172-2f85f48f902a\" target=\"_top\" title=\"psysml:c1d845e5-90b4-4786-9172-2f85f48f902a\" xlink:actuate=\"onRequest\" xlink:href=\"psysml:c1d845e5-90b4-4786-9172-2f85f48f902a\" xlink:show=\"new\" xlink:title=\"psysml:c1d845e5-90b4-4786-9172-2f85f48f902a\" xlink:type=\"simple\"><path d=\"M76.88,494.17 C85.74,523.99 100,572 100,572 C100,572 116.23,603.2 130.55,630.75 \" fill=\"none\" id=\"E4-to-E6\" style=\"stroke:#181818;stroke-width:1.0;\"/><polygon fill=\"#FFFFFF\" points=\"139.94,648.81,124.9624,635.1839,137.3828,628.7237,139.94,648.81\" style=\"stroke:#181818;stroke-width:1.0;\"/><ellipse cx=\"124.1065\" cy=\"629.2041\" fill=\"#181818\" rx=\"2\" ry=\"2\" style=\"stroke:#181818;stroke-width:1.0;\"/><ellipse cx=\"132.9782\" cy=\"624.5897\" fill=\"#181818\" rx=\"2\" ry=\"2\" style=\"stroke:#181818;stroke-width:1.0;\"/></a></g><!--MD5=[3f50a3473f1dfb74d3f76443e03635af]\n",
       "reverse link E6 to E7--><g id=\"link_E6_E7\"><a href=\"psysml:ee76f7ce-c996-4988-9b1a-5ac16ad8d066\" target=\"_top\" title=\"psysml:ee76f7ce-c996-4988-9b1a-5ac16ad8d066\" xlink:actuate=\"onRequest\" xlink:href=\"psysml:ee76f7ce-c996-4988-9b1a-5ac16ad8d066\" xlink:show=\"new\" xlink:title=\"psysml:ee76f7ce-c996-4988-9b1a-5ac16ad8d066\" xlink:type=\"simple\"><path d=\"M164.05,709.83 C169.38,725.66 175.49,743.82 180.2,757.83 \" fill=\"none\" id=\"E6-backto-E7\" style=\"stroke:#181818;stroke-width:1.0;\"/><polygon fill=\"#181818\" points=\"159.81,697.22,157.9296,704.1816,163.6324,708.5949,165.5128,701.6333,159.81,697.22\" style=\"stroke:#181818;stroke-width:1.0;\"/></a></g><!--MD5=[14ccda38c055a5c0da953d572bc50960]\n",
       "link E7 to E3--><g id=\"link_E7_E3\"><a href=\"psysml:1cb41c8a-3888-4a6d-b592-33957295a7ee\" target=\"_top\" title=\"psysml:1cb41c8a-3888-4a6d-b592-33957295a7ee\" xlink:actuate=\"onRequest\" xlink:href=\"psysml:1cb41c8a-3888-4a6d-b592-33957295a7ee\" xlink:show=\"new\" xlink:title=\"psysml:1cb41c8a-3888-4a6d-b592-33957295a7ee\" xlink:type=\"simple\"><path d=\"M198.2,757.78 C212.02,726.31 235,674 235,674 C235,391 235,391 235,391 C235,391 217,368 217,368 C217,368 195.85,344.63 175.87,322.54 \" fill=\"none\" id=\"E7-to-E3\" style=\"stroke:#181818;stroke-width:1.0;\"/><polygon fill=\"#FFFFFF\" points=\"162.17,307.4,180.1124,316.7846,169.7351,326.1821,162.17,307.4\" style=\"stroke:#181818;stroke-width:1.0;\"/><ellipse cx=\"182.456\" cy=\"322.3522\" fill=\"#181818\" rx=\"2\" ry=\"2\" style=\"stroke:#181818;stroke-width:1.0;\"/><ellipse cx=\"175.0437\" cy=\"329.0647\" fill=\"#181818\" rx=\"2\" ry=\"2\" style=\"stroke:#181818;stroke-width:1.0;\"/></a></g><!--MD5=[dfaffb906826c3e5aca635516100ff21]\n",
       "link E5 to E8--><g id=\"link_E5_E8\"><a href=\"psysml:b2862137-6a73-49a4-ad0f-48652eafb24c\" target=\"_top\" title=\"psysml:b2862137-6a73-49a4-ad0f-48652eafb24c\" xlink:actuate=\"onRequest\" xlink:href=\"psysml:b2862137-6a73-49a4-ad0f-48652eafb24c\" xlink:show=\"new\" xlink:title=\"psysml:b2862137-6a73-49a4-ad0f-48652eafb24c\" xlink:type=\"simple\"><path d=\"M174.11,416.06 C170.2,439.19 164.09,475.38 159.28,503.86 \" fill=\"none\" id=\"E5-to-E8\" style=\"stroke:#181818;stroke-width:1.0;\"/><polygon fill=\"#FFFFFF\" points=\"155.92,523.79,152.1809,503.8898,165.9855,506.2206,155.92,523.79\" style=\"stroke:#181818;stroke-width:1.0;\"/><ellipse cx=\"155.1019\" cy=\"498.6023\" fill=\"#181818\" rx=\"2\" ry=\"2\" style=\"stroke:#181818;stroke-width:1.0;\"/><ellipse cx=\"164.9624\" cy=\"500.2671\" fill=\"#181818\" rx=\"2\" ry=\"2\" style=\"stroke:#181818;stroke-width:1.0;\"/></a></g><!--MD5=[03c8294790d3c57651a1993cecff665f]\n",
       "reverse link E8 to E3--><g id=\"link_E8_E3\"><a href=\"psysml:764dcc5f-c791-44bd-8fe4-0cc6162433fb\" target=\"_top\" title=\"psysml:764dcc5f-c791-44bd-8fe4-0cc6162433fb\" xlink:actuate=\"onRequest\" xlink:href=\"psysml:764dcc5f-c791-44bd-8fe4-0cc6162433fb\" xlink:show=\"new\" xlink:title=\"psysml:764dcc5f-c791-44bd-8fe4-0cc6162433fb\" xlink:type=\"simple\"><path d=\"M146.23,511.01 C140.01,472.23 131,416 131,416 C131,416 131,368 131,368 C131,368 135.26,332.25 138.21,307.4 \" fill=\"none\" id=\"E8-backto-E3\" style=\"stroke:#181818;stroke-width:1.0;\"/><polygon fill=\"none\" points=\"148.29,523.88,151.2907,517.3229,146.3921,512.031,143.3914,518.5882,148.29,523.88\" style=\"stroke:#181818;stroke-width:1.0;\"/><text fill=\"#000000\" font-family=\"sans-serif\" font-size=\"13\" lengthAdjust=\"spacing\" textLength=\"7\" x=\"132\" y=\"396.5669\">y</text></a></g><!--MD5=[0d75d2178373a6a4568e5dc728f58aef]\n",
       "reverse link E8 to E6--><g id=\"link_E8_E6\"><a href=\"psysml:764dcc5f-c791-44bd-8fe4-0cc6162433fb\" target=\"_top\" title=\"psysml:764dcc5f-c791-44bd-8fe4-0cc6162433fb\" xlink:actuate=\"onRequest\" xlink:href=\"psysml:764dcc5f-c791-44bd-8fe4-0cc6162433fb\" xlink:show=\"new\" xlink:title=\"psysml:764dcc5f-c791-44bd-8fe4-0cc6162433fb\" xlink:type=\"simple\"><path d=\"M152,585.21 C152,605.83 152,631.04 152,648.97 \" fill=\"none\" id=\"E8-backto-E6\" style=\"stroke:#181818;stroke-width:1.0;\"/><polygon fill=\"none\" points=\"152,572.14,148,578.14,152,584.14,156,578.14,152,572.14\" style=\"stroke:#181818;stroke-width:1.0;\"/><text fill=\"#000000\" font-family=\"sans-serif\" font-size=\"13\" lengthAdjust=\"spacing\" textLength=\"7\" x=\"153\" y=\"615.0669\">y</text></a></g><!--MD5=[23ac544a70576c3e717098101004234c]\n",
       "reverse link E9 to E10--><g id=\"link_E9_E10\"><a href=\"psysml:1f369bef-866d-4201-85d0-19625ffb0bd4\" target=\"_top\" title=\"psysml:1f369bef-866d-4201-85d0-19625ffb0bd4\" xlink:actuate=\"onRequest\" xlink:href=\"psysml:1f369bef-866d-4201-85d0-19625ffb0bd4\" xlink:show=\"new\" xlink:title=\"psysml:1f369bef-866d-4201-85d0-19625ffb0bd4\" xlink:type=\"simple\"><path d=\"M88.47,101.35 C81.47,117.29 73.39,135.68 67.18,149.83 \" fill=\"none\" id=\"E9-backto-E10\" style=\"stroke:#181818;stroke-width:1.0;\"/><polygon fill=\"none\" points=\"93.8,89.22,87.7243,93.1041,88.9729,100.2063,95.0485,96.3222,93.8,89.22\" style=\"stroke:#181818;stroke-width:1.0;\"/></a></g><!--MD5=[feeac5eb423634930294aa81f2d25a4c]\n",
       "link E10 to E3--><g id=\"link_E10_E3\"><a href=\"psysml:0dc69dec-387f-4606-9efc-6b8567a081cf\" target=\"_top\" title=\"psysml:0dc69dec-387f-4606-9efc-6b8567a081cf\" xlink:actuate=\"onRequest\" xlink:href=\"psysml:0dc69dec-387f-4606-9efc-6b8567a081cf\" xlink:show=\"new\" xlink:title=\"psysml:0dc69dec-387f-4606-9efc-6b8567a081cf\" xlink:type=\"simple\"><path d=\"M75.23,198.22 C85.46,211.26 98.51,227.88 110.28,242.87 \" fill=\"none\" id=\"E10-to-E3\" style=\"stroke:#181818;stroke-width:1.0;\"/><polygon fill=\"#FFFFFF\" points=\"122.81,258.83,105.5676,248.214,116.5764,239.565,122.81,258.83\" style=\"stroke:#181818;stroke-width:1.0;\"/><ellipse cx=\"103.6189\" cy=\"242.4963\" fill=\"#181818\" rx=\"2\" ry=\"2\" style=\"stroke:#181818;stroke-width:1.0;\"/><ellipse cx=\"111.4823\" cy=\"236.3184\" fill=\"#181818\" rx=\"2\" ry=\"2\" style=\"stroke:#181818;stroke-width:1.0;\"/></a></g><!--MD5=[1fc04a95fd77ad5ce46c1a3027516051]\n",
       "reverse link E9 to E11--><g id=\"link_E9_E11\"><a href=\"psysml:41147f3b-680c-4b19-9ea9-1ad0d7284d0b\" target=\"_top\" title=\"psysml:41147f3b-680c-4b19-9ea9-1ad0d7284d0b\" xlink:actuate=\"onRequest\" xlink:href=\"psysml:41147f3b-680c-4b19-9ea9-1ad0d7284d0b\" xlink:show=\"new\" xlink:title=\"psysml:41147f3b-680c-4b19-9ea9-1ad0d7284d0b\" xlink:type=\"simple\"><path d=\"M116.39,101.83 C121.86,117.66 128.14,135.82 132.99,149.83 \" fill=\"none\" id=\"E9-backto-E11\" style=\"stroke:#181818;stroke-width:1.0;\"/><polygon fill=\"none\" points=\"112.03,89.22,110.2077,96.1971,115.9472,100.5627,117.7695,93.5856,112.03,89.22\" style=\"stroke:#181818;stroke-width:1.0;\"/></a></g><!--MD5=[0517f1ce58c4d5483948f93845c45e26]\n",
       "link E11 to E3--><g id=\"link_E11_E3\"><a href=\"psysml:86cba12c-5c0b-4cb2-8a0f-652783ee7e3b\" target=\"_top\" title=\"psysml:86cba12c-5c0b-4cb2-8a0f-652783ee7e3b\" xlink:actuate=\"onRequest\" xlink:href=\"psysml:86cba12c-5c0b-4cb2-8a0f-652783ee7e3b\" xlink:show=\"new\" xlink:title=\"psysml:86cba12c-5c0b-4cb2-8a0f-652783ee7e3b\" xlink:type=\"simple\"><path d=\"M141,198.22 C141,210 141,224.69 141,238.48 \" fill=\"none\" id=\"E11-to-E3\" style=\"stroke:#181818;stroke-width:1.0;\"/><polygon fill=\"#FFFFFF\" points=\"141,258.83,134,239.83,148,239.83,141,258.83\" style=\"stroke:#181818;stroke-width:1.0;\"/><ellipse cx=\"136\" cy=\"234.13\" fill=\"#181818\" rx=\"2\" ry=\"2\" style=\"stroke:#181818;stroke-width:1.0;\"/><ellipse cx=\"146\" cy=\"234.13\" fill=\"#181818\" rx=\"2\" ry=\"2\" style=\"stroke:#181818;stroke-width:1.0;\"/></a></g><!--MD5=[ff65a38cd70d5df0d8a01c46dd3719b7]\n",
       "@startuml\r\n",
       "skin sysmlbw\r\n",
       "skinparam monochrome true\r\n",
       "skinparam wrapWidth 300\r\n",
       "hide circle\r\n",
       "skinparam linetype polyline\r\n",
       "\r\n",
       "package \"ItemTest\" as E1  [[psysml:b50080a1-e82f-4c80-9a3f-5d66ab4e7e23 ]]  {\r\n",
       "comp usage \"f: A  \" as E2  <<(T,blue) item>> [[psysml:4d36820e-7c5e-46bd-9de5-e346cea54837 ]] {\r\n",
       "}\r\n",
       "comp def \"A\" as E3  <<(T,blue) item  def>> [[psysml:90a9c46f-1bc9-4470-bf4e-8ae555dfcfc9 ]] {\r\n",
       "}\r\n",
       "comp usage \"b: B  \" as E4  <<(T,blue) item>> [[psysml:d394e1d7-ba50-4340-ad50-ece704d14a42 ]] {\r\n",
       "}\r\n",
       "comp usage \"c: C  \" as E5  <<(T,blue) part>> [[psysml:af047218-2074-4cd5-be73-a9bc4fd53c73 ]] {\r\n",
       "}\r\n",
       "comp def \"<i>B</i>\" as E6  <<(T,blue) item  def>> [[psysml:24ac0b44-19f7-4e7e-9d8c-29217623109a ]] {\r\n",
       "}\r\n",
       "comp usage \"<i>a</i>: A  \" as E7  <<(T,blue) part>> [[psysml:f97762a5-be4a-40f0-b15f-ded6f9a0a2bf ]] {\r\n",
       "}\r\n",
       "comp def \"C\" as E8  <<(T,blue) part  def>> [[psysml:2119f9fa-e703-4679-adcc-c9e3fda7136e ]] {\r\n",
       "}\r\n",
       "comp def \"P\" as E9  <<(T,blue) port  def>> [[psysml:f9be0f9f-7828-47af-b676-a3098923450b ]] {\r\n",
       "}\r\n",
       "comp usage \"a1: A  \" as E10  <<(T,blue) item>> [[psysml:bdd21edf-ffb1-47e0-8301-b129ba721304 ]] {\r\n",
       "}\r\n",
       "comp usage \"a2: A  \" as E11  <<(T,blue) item>> [[psysml:ea86bb80-7fc3-4478-bdc0-15728142c0fa ]] {\r\n",
       "}\r\n",
       "}\r\n",
       "E2 - -:|> E3 [[psysml:358bd963-d6cf-4c51-9d97-dc29b520688f ]] \r\n",
       "E3 *- - E4 [[psysml:724ffe94-cfbf-4ea2-b315-6baf1a587f0c ]] \r\n",
       "E3 o- - E5 [[psysml:9c72d63b-be6b-487b-af19-53b3ed2c634b ]] \r\n",
       "E4 - -:|> E6 [[psysml:c1d845e5-90b4-4786-9172-2f85f48f902a ]] \r\n",
       "E6 *- - E7 [[psysml:ee76f7ce-c996-4988-9b1a-5ac16ad8d066 ]] \r\n",
       "E7 - -:|> E3 [[psysml:1cb41c8a-3888-4a6d-b592-33957295a7ee ]] \r\n",
       "E5 - -:|> E8 [[psysml:b2862137-6a73-49a4-ad0f-48652eafb24c ]] \r\n",
       "E8 o- - E3 [[psysml:764dcc5f-c791-44bd-8fe4-0cc6162433fb ]] : y\r\n",
       "E8 o- - E6 [[psysml:764dcc5f-c791-44bd-8fe4-0cc6162433fb ]] : y\r\n",
       "E9 o- - E10 [[psysml:1f369bef-866d-4201-85d0-19625ffb0bd4 ]] \r\n",
       "E10 - -:|> E3 [[psysml:0dc69dec-387f-4606-9efc-6b8567a081cf ]] \r\n",
       "E9 o- - E11 [[psysml:41147f3b-680c-4b19-9ea9-1ad0d7284d0b ]] \r\n",
       "E11 - -:|> E3 [[psysml:86cba12c-5c0b-4cb2-8a0f-652783ee7e3b ]] \r\n",
       "@enduml\r\n",
       "\n",
       "PlantUML version 1.2022.7(Mon Aug 22 17:01:30 UTC 2022)\n",
       "(EPL source distribution)\n",
       "Java Runtime: OpenJDK Runtime Environment\n",
       "JVM: OpenJDK 64-Bit Server VM\n",
       "Default Encoding: UTF-8\n",
       "Language: en\n",
       "Country: null\n",
       "--></g></svg>"
      ]
     },
     "execution_count": 10,
     "metadata": {},
     "output_type": "execute_result"
    }
   ],
   "source": [
    "%viz --style=\"POLYLINE\" --view=\"Tree\" \"ItemTest\""
   ]
  },
  {
   "cell_type": "code",
   "execution_count": 11,
   "id": "811228bd",
   "metadata": {
    "execution": {
     "iopub.execute_input": "2024-12-16T03:22:53.616902Z",
     "iopub.status.busy": "2024-12-16T03:22:53.616677Z",
     "iopub.status.idle": "2024-12-16T03:22:53.624058Z",
     "shell.execute_reply": "2024-12-16T03:22:53.623877Z"
    }
   },
   "outputs": [
    {
     "data": {
      "image/svg+xml": [
       "<?xml version=\"1.0\" encoding=\"UTF-8\" standalone=\"no\"?><svg xmlns=\"http://www.w3.org/2000/svg\" xmlns:xlink=\"http://www.w3.org/1999/xlink\" contentStyleType=\"text/css\" height=\"10px\" preserveAspectRatio=\"none\" style=\"width:10px;height:10px;background:#FFFFFF;\" version=\"1.1\" viewBox=\"0 0 10 10\" width=\"10px\" zoomAndPan=\"magnify\"><defs/><g><!--MD5=[20bed88d98f2aabbefdc8661420d403d]\n",
       "@startuml\r\n",
       "skin sysmlbw\r\n",
       "skinparam monochrome true\r\n",
       "skinparam wrapWidth 300\r\n",
       "hide circle\r\n",
       "skinparam linetype polyline\r\n",
       "\r\n",
       "@enduml\r\n",
       "\n",
       "PlantUML version 1.2022.7(Mon Aug 22 17:01:30 UTC 2022)\n",
       "(EPL source distribution)\n",
       "Java Runtime: OpenJDK Runtime Environment\n",
       "JVM: OpenJDK 64-Bit Server VM\n",
       "Default Encoding: UTF-8\n",
       "Language: en\n",
       "Country: null\n",
       "--></g></svg>"
      ]
     },
     "execution_count": 11,
     "metadata": {},
     "output_type": "execute_result"
    }
   ],
   "source": [
    "%viz --style=\"POLYLINE\" --view=\"State\" \"ItemTest\""
   ]
  },
  {
   "cell_type": "code",
   "execution_count": 12,
   "id": "914bddf7",
   "metadata": {
    "execution": {
     "iopub.execute_input": "2024-12-16T03:22:53.679631Z",
     "iopub.status.busy": "2024-12-16T03:22:53.679412Z",
     "iopub.status.idle": "2024-12-16T03:22:53.700841Z",
     "shell.execute_reply": "2024-12-16T03:22:53.700012Z"
    }
   },
   "outputs": [
    {
     "data": {
      "image/svg+xml": [
       "<?xml version=\"1.0\" encoding=\"UTF-8\" standalone=\"no\"?><svg xmlns=\"http://www.w3.org/2000/svg\" xmlns:xlink=\"http://www.w3.org/1999/xlink\" contentStyleType=\"text/css\" height=\"245px\" preserveAspectRatio=\"none\" style=\"width:478px;height:245px;background:#FFFFFF;\" version=\"1.1\" viewBox=\"0 0 478 245\" width=\"478px\" zoomAndPan=\"magnify\"><defs/><g><!--MD5=[fbc87193dbaf4d95561dea2c320d4a47]\n",
       "cluster E1--><g id=\"cluster_E1\"><a href=\"psysml:b50080a1-e82f-4c80-9a3f-5d66ab4e7e23\" target=\"_top\" title=\"psysml:b50080a1-e82f-4c80-9a3f-5d66ab4e7e23\" xlink:actuate=\"onRequest\" xlink:href=\"psysml:b50080a1-e82f-4c80-9a3f-5d66ab4e7e23\" xlink:show=\"new\" xlink:title=\"psysml:b50080a1-e82f-4c80-9a3f-5d66ab4e7e23\" xlink:type=\"simple\"><polygon fill=\"none\" points=\"16,6,86.5,6,93.5,28.2969,461,28.2969,461,238,16,238,16,6\" style=\"stroke:#000000;stroke-width:1.5;\"/><line style=\"stroke:#000000;stroke-width:1.5;\" x1=\"16\" x2=\"93.5\" y1=\"28.2969\" y2=\"28.2969\"/><text fill=\"#000000\" font-family=\"sans-serif\" font-size=\"14\" font-weight=\"bold\" lengthAdjust=\"spacing\" textLength=\"64.5\" x=\"20\" y=\"20.9951\">ItemTest</text></a></g><!--MD5=[de5ec2e2e8f62f467e546659f5068c88]\n",
       "cluster E5--><g id=\"cluster_E5\"><a href=\"psysml:2119f9fa-e703-4679-adcc-c9e3fda7136e\" target=\"_top\" title=\"psysml:2119f9fa-e703-4679-adcc-c9e3fda7136e\" xlink:actuate=\"onRequest\" xlink:href=\"psysml:2119f9fa-e703-4679-adcc-c9e3fda7136e\" xlink:show=\"new\" xlink:title=\"psysml:2119f9fa-e703-4679-adcc-c9e3fda7136e\" xlink:type=\"simple\"><rect fill=\"#FFFFFF\" height=\"112\" id=\"E5\" style=\"stroke:#383838;stroke-width:1.5;\" width=\"114\" x=\"323\" y=\"49\"/><text fill=\"#000000\" font-family=\"sans-serif\" font-size=\"12\" font-style=\"italic\" lengthAdjust=\"spacing\" textLength=\"68\" x=\"346\" y=\"65.1387\">«part  def»</text><text fill=\"#000000\" font-family=\"sans-serif\" font-size=\"14\" lengthAdjust=\"spacing\" textLength=\"10\" x=\"375\" y=\"80.9639\">C</text><line style=\"stroke:#383838;stroke-width:1.0;\" x1=\"323\" x2=\"437\" y1=\"89.2656\" y2=\"89.2656\"/></a></g><g><a href=\"psysml:90a9c46f-1bc9-4470-bf4e-8ae555dfcfc9\" target=\"_top\" title=\"psysml:90a9c46f-1bc9-4470-bf4e-8ae555dfcfc9\" xlink:actuate=\"onRequest\" xlink:href=\"psysml:90a9c46f-1bc9-4470-bf4e-8ae555dfcfc9\" xlink:show=\"new\" xlink:title=\"psysml:90a9c46f-1bc9-4470-bf4e-8ae555dfcfc9\" xlink:type=\"simple\"><rect fill=\"#FFFFFF\" height=\"45.2656\" id=\"E3\" style=\"stroke:#383838;stroke-width:1.5;\" width=\"76\" x=\"32\" y=\"177\"/><text fill=\"#000000\" font-family=\"sans-serif\" font-size=\"12\" font-style=\"italic\" lengthAdjust=\"spacing\" textLength=\"69\" x=\"35.5\" y=\"193.1387\">«item  def»</text><text fill=\"#000000\" font-family=\"sans-serif\" font-size=\"14\" lengthAdjust=\"spacing\" textLength=\"9\" x=\"65.5\" y=\"208.9639\">A</text></a></g><g><a href=\"psysml:24ac0b44-19f7-4e7e-9d8c-29217623109a\" target=\"_top\" title=\"psysml:24ac0b44-19f7-4e7e-9d8c-29217623109a\" xlink:actuate=\"onRequest\" xlink:href=\"psysml:24ac0b44-19f7-4e7e-9d8c-29217623109a\" xlink:show=\"new\" xlink:title=\"psysml:24ac0b44-19f7-4e7e-9d8c-29217623109a\" xlink:type=\"simple\"><rect fill=\"#FFFFFF\" height=\"45.2656\" id=\"E4\" style=\"stroke:#383838;stroke-width:1.5;\" width=\"76\" x=\"228\" y=\"100\"/><text fill=\"#000000\" font-family=\"sans-serif\" font-size=\"12\" font-style=\"italic\" lengthAdjust=\"spacing\" textLength=\"69\" x=\"231.5\" y=\"116.1387\">«item  def»</text><text fill=\"#000000\" font-family=\"sans-serif\" font-size=\"14\" font-style=\"italic\" lengthAdjust=\"spacing\" textLength=\"10\" x=\"261\" y=\"131.9639\">B</text></a></g><g><a href=\"psysml:f9be0f9f-7828-47af-b676-a3098923450b\" target=\"_top\" title=\"psysml:f9be0f9f-7828-47af-b676-a3098923450b\" xlink:actuate=\"onRequest\" xlink:href=\"psysml:f9be0f9f-7828-47af-b676-a3098923450b\" xlink:show=\"new\" xlink:title=\"psysml:f9be0f9f-7828-47af-b676-a3098923450b\" xlink:type=\"simple\"><rect fill=\"#FFFFFF\" height=\"45.2656\" id=\"E7\" style=\"stroke:#383838;stroke-width:1.5;\" width=\"75\" x=\"117.5\" y=\"100\"/><text fill=\"#000000\" font-family=\"sans-serif\" font-size=\"12\" font-style=\"italic\" lengthAdjust=\"spacing\" textLength=\"68\" x=\"121\" y=\"116.1387\">«port  def»</text><text fill=\"#000000\" font-family=\"sans-serif\" font-size=\"14\" lengthAdjust=\"spacing\" textLength=\"9\" x=\"150.5\" y=\"131.9639\">P</text></a></g><g><a href=\"psysml:4d36820e-7c5e-46bd-9de5-e346cea54837\" target=\"_top\" title=\"psysml:4d36820e-7c5e-46bd-9de5-e346cea54837\" xlink:actuate=\"onRequest\" xlink:href=\"psysml:4d36820e-7c5e-46bd-9de5-e346cea54837\" xlink:show=\"new\" xlink:title=\"psysml:4d36820e-7c5e-46bd-9de5-e346cea54837\" xlink:type=\"simple\"><rect fill=\"#FFFFFF\" height=\"45.2656\" id=\"E2\" rx=\"10\" ry=\"10\" style=\"stroke:#383838;stroke-width:1.5;\" width=\"50\" x=\"32\" y=\"100\"/><text fill=\"#000000\" font-family=\"sans-serif\" font-size=\"12\" font-style=\"italic\" lengthAdjust=\"spacing\" textLength=\"41\" x=\"36.5\" y=\"116.1387\">«item»</text><text fill=\"#000000\" font-family=\"sans-serif\" font-size=\"14\" lengthAdjust=\"spacing\" textLength=\"22\" x=\"46\" y=\"131.9639\">f: A</text></a></g><g><a href=\"psysml:764dcc5f-c791-44bd-8fe4-0cc6162433fb\" target=\"_top\" title=\"psysml:764dcc5f-c791-44bd-8fe4-0cc6162433fb\" xlink:actuate=\"onRequest\" xlink:href=\"psysml:764dcc5f-c791-44bd-8fe4-0cc6162433fb\" xlink:show=\"new\" xlink:title=\"psysml:764dcc5f-c791-44bd-8fe4-0cc6162433fb\" xlink:type=\"simple\"><rect fill=\"#FFFFFF\" height=\"45.2656\" id=\"E6\" rx=\"10\" ry=\"10\" style=\"stroke:#383838;stroke-width:1.5;\" width=\"82\" x=\"339\" y=\"100\"/><text fill=\"#000000\" font-family=\"sans-serif\" font-size=\"12\" font-style=\"italic\" lengthAdjust=\"spacing\" textLength=\"75\" x=\"342.5\" y=\"116.1387\">«reference»</text><text fill=\"#000000\" font-family=\"sans-serif\" font-size=\"14\" lengthAdjust=\"spacing\" textLength=\"43\" x=\"354.5\" y=\"131.9639\">y: A, B</text></a></g><!--MD5=[2720a5a1f2c3fca2055b230370638851]\n",
       "link E2 to E3--><g id=\"link_E2_E3\"><a href=\"psysml:358bd963-d6cf-4c51-9d97-dc29b520688f\" target=\"_top\" title=\"psysml:358bd963-d6cf-4c51-9d97-dc29b520688f\" xlink:actuate=\"onRequest\" xlink:href=\"psysml:358bd963-d6cf-4c51-9d97-dc29b520688f\" xlink:show=\"new\" xlink:title=\"psysml:358bd963-d6cf-4c51-9d97-dc29b520688f\" xlink:type=\"simple\"><path d=\"M60.76,145.19 C61.41,148.92 62.1,152.91 62.8,156.96 \" fill=\"none\" id=\"E2-to-E3\" style=\"stroke:#181818;stroke-width:1.0;\"/><polygon fill=\"#FFFFFF\" points=\"66.25,176.86,56.0959,159.3416,69.8886,156.9411,66.25,176.86\" style=\"stroke:#181818;stroke-width:1.0;\"/><ellipse cx=\"57.0889\" cy=\"153.3831\" fill=\"#181818\" rx=\"2\" ry=\"2\" style=\"stroke:#181818;stroke-width:1.0;\"/><ellipse cx=\"66.9408\" cy=\"151.6685\" fill=\"#181818\" rx=\"2\" ry=\"2\" style=\"stroke:#181818;stroke-width:1.0;\"/></a></g><!--MD5=[ca7c2fc8347cfc2e07c6e318e4e89267]\n",
       "@startuml\r\n",
       "skin sysmlbw\r\n",
       "skinparam monochrome true\r\n",
       "skinparam wrapWidth 300\r\n",
       "hide circle\r\n",
       "skinparam linetype polyline\r\n",
       "skinparam ranksep 10\r\n",
       "skinparam rectangle {\r\n",
       " backgroundColor<<block>> LightGreen\r\n",
       "}\r\n",
       "\r\n",
       "package \"ItemTest\" as E1  [[psysml:b50080a1-e82f-4c80-9a3f-5d66ab4e7e23 ]]  {\r\n",
       "rec usage \"f: A\" as E2  <<(T,blue) item>> [[psysml:4d36820e-7c5e-46bd-9de5-e346cea54837 ]] {\r\n",
       "}\r\n",
       "def \"A\" as E3  <<(T,blue) item  def>> [[psysml:90a9c46f-1bc9-4470-bf4e-8ae555dfcfc9 ]] \r\n",
       "def \"<i>B</i>\" as E4  <<(T,blue) item  def>> [[psysml:24ac0b44-19f7-4e7e-9d8c-29217623109a ]] \r\n",
       "rec def \"C\" as E5  <<(T,blue) part  def>> [[psysml:2119f9fa-e703-4679-adcc-c9e3fda7136e ]] {\r\n",
       "rec usage \"y: A, B  \" as E6  <<(T,blue) reference>> [[psysml:764dcc5f-c791-44bd-8fe4-0cc6162433fb ]] {\r\n",
       "}\r\n",
       "\r\n",
       "}\r\n",
       "def \"P\" as E7  <<(T,blue) port  def>> [[psysml:f9be0f9f-7828-47af-b676-a3098923450b ]] \r\n",
       "}\r\n",
       "E2 - -:|> E3 [[psysml:358bd963-d6cf-4c51-9d97-dc29b520688f ]] \r\n",
       "@enduml\r\n",
       "\n",
       "PlantUML version 1.2022.7(Mon Aug 22 17:01:30 UTC 2022)\n",
       "(EPL source distribution)\n",
       "Java Runtime: OpenJDK Runtime Environment\n",
       "JVM: OpenJDK 64-Bit Server VM\n",
       "Default Encoding: UTF-8\n",
       "Language: en\n",
       "Country: null\n",
       "--></g></svg>"
      ]
     },
     "execution_count": 12,
     "metadata": {},
     "output_type": "execute_result"
    }
   ],
   "source": [
    "%viz --style=\"POLYLINE\" --view=\"Interconnection\" \"ItemTest\""
   ]
  },
  {
   "cell_type": "code",
   "execution_count": 13,
   "id": "201f741b",
   "metadata": {
    "execution": {
     "iopub.execute_input": "2024-12-16T03:22:53.752233Z",
     "iopub.status.busy": "2024-12-16T03:22:53.751808Z",
     "iopub.status.idle": "2024-12-16T03:22:53.756997Z",
     "shell.execute_reply": "2024-12-16T03:22:53.757124Z"
    }
   },
   "outputs": [
    {
     "data": {
      "image/svg+xml": [
       "<?xml version=\"1.0\" encoding=\"UTF-8\" standalone=\"no\"?><svg xmlns=\"http://www.w3.org/2000/svg\" xmlns:xlink=\"http://www.w3.org/1999/xlink\" contentStyleType=\"text/css\" height=\"10px\" preserveAspectRatio=\"none\" style=\"width:10px;height:10px;background:#FFFFFF;\" version=\"1.1\" viewBox=\"0 0 10 10\" width=\"10px\" zoomAndPan=\"magnify\"><defs/><g><!--MD5=[ff8e7c24accf200c4355ceeab022c402]\n",
       "@startuml\r\n",
       "skin sysmlbw\r\n",
       "skinparam monochrome true\r\n",
       "skinparam wrapWidth 300\r\n",
       "hide circle\r\n",
       "skinparam linetype polyline\r\n",
       "skinparam ranksep 8\r\n",
       "\r\n",
       "@enduml\r\n",
       "\n",
       "PlantUML version 1.2022.7(Mon Aug 22 17:01:30 UTC 2022)\n",
       "(EPL source distribution)\n",
       "Java Runtime: OpenJDK Runtime Environment\n",
       "JVM: OpenJDK 64-Bit Server VM\n",
       "Default Encoding: UTF-8\n",
       "Language: en\n",
       "Country: null\n",
       "--></g></svg>"
      ]
     },
     "execution_count": 13,
     "metadata": {},
     "output_type": "execute_result"
    }
   ],
   "source": [
    "%viz --style=\"POLYLINE\" --view=\"Action\" \"ItemTest\""
   ]
  },
  {
   "cell_type": "code",
   "execution_count": 14,
   "id": "898bc250",
   "metadata": {
    "execution": {
     "iopub.execute_input": "2024-12-16T03:22:53.813637Z",
     "iopub.status.busy": "2024-12-16T03:22:53.813413Z",
     "iopub.status.idle": "2024-12-16T03:22:53.819229Z",
     "shell.execute_reply": "2024-12-16T03:22:53.819061Z"
    }
   },
   "outputs": [
    {
     "data": {
      "image/svg+xml": [
       "<?xml version=\"1.0\" encoding=\"UTF-8\" standalone=\"no\"?><svg xmlns=\"http://www.w3.org/2000/svg\" xmlns:xlink=\"http://www.w3.org/1999/xlink\" contentStyleType=\"text/css\" height=\"10px\" preserveAspectRatio=\"none\" style=\"width:10px;height:10px;background:#FFFFFF;\" version=\"1.1\" viewBox=\"0 0 10 10\" width=\"10px\" zoomAndPan=\"magnify\"><defs/><g><!--MD5=[efefafbf36b45173e0355713d9054f90]\n",
       "@startuml\r\n",
       "skin sysmlbw\r\n",
       "skinparam monochrome true\r\n",
       "skinparam wrapWidth 300\r\n",
       "hide circle\r\n",
       "skinparam linetype polyline\r\n",
       "skinparam roundcorner 20\r\n",
       "skinparam BoxPadding 20\r\n",
       "skinparam SequenceBoxBackgroundColor #white\r\n",
       "skinparam style strictuml\r\n",
       "skinparam maxMessageSize 100\r\n",
       "\r\n",
       "@enduml\r\n",
       "\n",
       "PlantUML version 1.2022.7(Mon Aug 22 17:01:30 UTC 2022)\n",
       "(EPL source distribution)\n",
       "Java Runtime: OpenJDK Runtime Environment\n",
       "JVM: OpenJDK 64-Bit Server VM\n",
       "Default Encoding: UTF-8\n",
       "Language: en\n",
       "Country: null\n",
       "--></g></svg>"
      ]
     },
     "execution_count": 14,
     "metadata": {},
     "output_type": "execute_result"
    }
   ],
   "source": [
    "%viz --style=\"POLYLINE\" --view=\"Sequence\" \"ItemTest\""
   ]
  },
  {
   "cell_type": "code",
   "execution_count": 15,
   "id": "c554b159",
   "metadata": {
    "execution": {
     "iopub.execute_input": "2024-12-16T03:22:53.875047Z",
     "iopub.status.busy": "2024-12-16T03:22:53.874683Z",
     "iopub.status.idle": "2024-12-16T03:22:53.903939Z",
     "shell.execute_reply": "2024-12-16T03:22:53.902877Z"
    }
   },
   "outputs": [
    {
     "data": {
      "image/svg+xml": [
       "<?xml version=\"1.0\" encoding=\"UTF-8\" standalone=\"no\"?><svg xmlns=\"http://www.w3.org/2000/svg\" xmlns:xlink=\"http://www.w3.org/1999/xlink\" contentStyleType=\"text/css\" height=\"829px\" preserveAspectRatio=\"none\" style=\"width:277px;height:829px;background:#FFFFFF;\" version=\"1.1\" viewBox=\"0 0 277 829\" width=\"277px\" zoomAndPan=\"magnify\"><defs/><g><!--MD5=[fbc87193dbaf4d95561dea2c320d4a47]\n",
       "cluster E1--><g id=\"cluster_E1\"><a href=\"psysml:b50080a1-e82f-4c80-9a3f-5d66ab4e7e23\" target=\"_top\" title=\"psysml:b50080a1-e82f-4c80-9a3f-5d66ab4e7e23\" xlink:actuate=\"onRequest\" xlink:href=\"psysml:b50080a1-e82f-4c80-9a3f-5d66ab4e7e23\" xlink:show=\"new\" xlink:title=\"psysml:b50080a1-e82f-4c80-9a3f-5d66ab4e7e23\" xlink:type=\"simple\"><polygon fill=\"none\" points=\"16,6,86.5,6,93.5,28.2969,260,28.2969,260,822,16,822,16,6\" style=\"stroke:#000000;stroke-width:1.5;\"/><line style=\"stroke:#000000;stroke-width:1.5;\" x1=\"16\" x2=\"93.5\" y1=\"28.2969\" y2=\"28.2969\"/><text fill=\"#000000\" font-family=\"sans-serif\" font-size=\"14\" font-weight=\"bold\" lengthAdjust=\"spacing\" textLength=\"64.5\" x=\"20\" y=\"20.9951\">ItemTest</text></a></g><!--MD5=[b4997ac47864f28c2f74865a473b2911]\n",
       "class E2--><a href=\"psysml:4d36820e-7c5e-46bd-9de5-e346cea54837\" target=\"_top\" title=\"psysml:4d36820e-7c5e-46bd-9de5-e346cea54837\" xlink:actuate=\"onRequest\" xlink:href=\"psysml:4d36820e-7c5e-46bd-9de5-e346cea54837\" xlink:show=\"new\" xlink:title=\"psysml:4d36820e-7c5e-46bd-9de5-e346cea54837\" xlink:type=\"simple\"><g id=\"elem_E2\"><rect fill=\"#FFFFFF\" height=\"48.2656\" id=\"E2\" rx=\"10\" ry=\"10\" style=\"stroke:#181818;stroke-width:0.5;\" width=\"43\" x=\"200.5\" y=\"150\"/><text fill=\"#000000\" font-family=\"sans-serif\" font-size=\"12\" font-style=\"italic\" lengthAdjust=\"spacing\" textLength=\"41\" x=\"201.5\" y=\"166.1387\">«item»</text><text fill=\"#000000\" font-family=\"sans-serif\" font-size=\"14\" lengthAdjust=\"spacing\" textLength=\"22\" x=\"207\" y=\"181.9639\">f: A</text><line style=\"stroke:#181818;stroke-width:0.5;\" x1=\"201.5\" x2=\"242.5\" y1=\"190.2656\" y2=\"190.2656\"/></g></a><!--MD5=[09b614a08d8cba4a07c9adeb5e0fee81]\n",
       "class E3--><a href=\"psysml:90a9c46f-1bc9-4470-bf4e-8ae555dfcfc9\" target=\"_top\" title=\"psysml:90a9c46f-1bc9-4470-bf4e-8ae555dfcfc9\" xlink:actuate=\"onRequest\" xlink:href=\"psysml:90a9c46f-1bc9-4470-bf4e-8ae555dfcfc9\" xlink:show=\"new\" xlink:title=\"psysml:90a9c46f-1bc9-4470-bf4e-8ae555dfcfc9\" xlink:type=\"simple\"><g id=\"elem_E3\"><rect fill=\"#FFFFFF\" height=\"48.2656\" id=\"E3\" style=\"stroke:#181818;stroke-width:0.5;\" width=\"71\" x=\"105.5\" y=\"259\"/><text fill=\"#000000\" font-family=\"sans-serif\" font-size=\"12\" font-style=\"italic\" lengthAdjust=\"spacing\" textLength=\"69\" x=\"106.5\" y=\"275.1387\">«item  def»</text><text fill=\"#000000\" font-family=\"sans-serif\" font-size=\"14\" lengthAdjust=\"spacing\" textLength=\"9\" x=\"136.5\" y=\"290.9639\">A</text><line style=\"stroke:#181818;stroke-width:0.5;\" x1=\"106.5\" x2=\"175.5\" y1=\"299.2656\" y2=\"299.2656\"/></g></a><!--MD5=[ebbe1d658d1005bcc118a6aa81145e00]\n",
       "class E4--><a href=\"psysml:d394e1d7-ba50-4340-ad50-ece704d14a42\" target=\"_top\" title=\"psysml:d394e1d7-ba50-4340-ad50-ece704d14a42\" xlink:actuate=\"onRequest\" xlink:href=\"psysml:d394e1d7-ba50-4340-ad50-ece704d14a42\" xlink:show=\"new\" xlink:title=\"psysml:d394e1d7-ba50-4340-ad50-ece704d14a42\" xlink:type=\"simple\"><g id=\"elem_E4\"><rect fill=\"#FFFFFF\" height=\"48.2656\" id=\"E4\" rx=\"10\" ry=\"10\" style=\"stroke:#181818;stroke-width:0.5;\" width=\"43\" x=\"48.5\" y=\"446\"/><text fill=\"#000000\" font-family=\"sans-serif\" font-size=\"12\" font-style=\"italic\" lengthAdjust=\"spacing\" textLength=\"41\" x=\"49.5\" y=\"462.1387\">«item»</text><text fill=\"#000000\" font-family=\"sans-serif\" font-size=\"14\" lengthAdjust=\"spacing\" textLength=\"28\" x=\"52\" y=\"477.9639\">b: B</text><line style=\"stroke:#181818;stroke-width:0.5;\" x1=\"49.5\" x2=\"90.5\" y1=\"486.2656\" y2=\"486.2656\"/></g></a><!--MD5=[270fce915f116d4de14055a7c1d9a0f3]\n",
       "class E5--><a href=\"psysml:af047218-2074-4cd5-be73-a9bc4fd53c73\" target=\"_top\" title=\"psysml:af047218-2074-4cd5-be73-a9bc4fd53c73\" xlink:actuate=\"onRequest\" xlink:href=\"psysml:af047218-2074-4cd5-be73-a9bc4fd53c73\" xlink:show=\"new\" xlink:title=\"psysml:af047218-2074-4cd5-be73-a9bc4fd53c73\" xlink:type=\"simple\"><g id=\"elem_E5\"><rect fill=\"#FFFFFF\" height=\"48.2656\" id=\"E5\" rx=\"10\" ry=\"10\" style=\"stroke:#181818;stroke-width:0.5;\" width=\"42\" x=\"157\" y=\"368\"/><text fill=\"#000000\" font-family=\"sans-serif\" font-size=\"12\" font-style=\"italic\" lengthAdjust=\"spacing\" textLength=\"40\" x=\"158\" y=\"384.1387\">«part»</text><text fill=\"#000000\" font-family=\"sans-serif\" font-size=\"14\" lengthAdjust=\"spacing\" textLength=\"27\" x=\"160.5\" y=\"399.9639\">c: C</text><line style=\"stroke:#181818;stroke-width:0.5;\" x1=\"158\" x2=\"198\" y1=\"408.2656\" y2=\"408.2656\"/></g></a><!--MD5=[60a26617385b1d2d0262a64233df1f8d]\n",
       "class E6--><a href=\"psysml:24ac0b44-19f7-4e7e-9d8c-29217623109a\" target=\"_top\" title=\"psysml:24ac0b44-19f7-4e7e-9d8c-29217623109a\" xlink:actuate=\"onRequest\" xlink:href=\"psysml:24ac0b44-19f7-4e7e-9d8c-29217623109a\" xlink:show=\"new\" xlink:title=\"psysml:24ac0b44-19f7-4e7e-9d8c-29217623109a\" xlink:type=\"simple\"><g id=\"elem_E6\"><rect fill=\"#FFFFFF\" height=\"48.2656\" id=\"E6\" style=\"stroke:#181818;stroke-width:0.5;\" width=\"71\" x=\"116.5\" y=\"649\"/><text fill=\"#000000\" font-family=\"sans-serif\" font-size=\"12\" font-style=\"italic\" lengthAdjust=\"spacing\" textLength=\"69\" x=\"117.5\" y=\"665.1387\">«item  def»</text><text fill=\"#000000\" font-family=\"sans-serif\" font-size=\"14\" font-style=\"italic\" lengthAdjust=\"spacing\" textLength=\"10\" x=\"147\" y=\"680.9639\">B</text><line style=\"stroke:#181818;stroke-width:0.5;\" x1=\"117.5\" x2=\"186.5\" y1=\"689.2656\" y2=\"689.2656\"/></g></a><!--MD5=[2156ba9850f5573cc1fc38a6a4b2f02b]\n",
       "class E7--><a href=\"psysml:f97762a5-be4a-40f0-b15f-ded6f9a0a2bf\" target=\"_top\" title=\"psysml:f97762a5-be4a-40f0-b15f-ded6f9a0a2bf\" xlink:actuate=\"onRequest\" xlink:href=\"psysml:f97762a5-be4a-40f0-b15f-ded6f9a0a2bf\" xlink:show=\"new\" xlink:title=\"psysml:f97762a5-be4a-40f0-b15f-ded6f9a0a2bf\" xlink:type=\"simple\"><g id=\"elem_E7\"><rect fill=\"#FFFFFF\" height=\"48.2656\" id=\"E7\" rx=\"10\" ry=\"10\" style=\"stroke:#181818;stroke-width:0.5;\" width=\"42\" x=\"167\" y=\"758\"/><text fill=\"#000000\" font-family=\"sans-serif\" font-size=\"12\" font-style=\"italic\" lengthAdjust=\"spacing\" textLength=\"40\" x=\"168\" y=\"774.1387\">«part»</text><text fill=\"#000000\" font-family=\"sans-serif\" font-size=\"14\" font-style=\"italic\" lengthAdjust=\"spacing\" textLength=\"8\" x=\"171\" y=\"789.9639\">a</text><text fill=\"#000000\" font-family=\"sans-serif\" font-size=\"14\" lengthAdjust=\"spacing\" textLength=\"18\" x=\"179\" y=\"789.9639\">: A</text><line style=\"stroke:#181818;stroke-width:0.5;\" x1=\"168\" x2=\"208\" y1=\"798.2656\" y2=\"798.2656\"/></g></a><!--MD5=[b9389687b975829384b498ac4b7476b2]\n",
       "class E8--><a href=\"psysml:2119f9fa-e703-4679-adcc-c9e3fda7136e\" target=\"_top\" title=\"psysml:2119f9fa-e703-4679-adcc-c9e3fda7136e\" xlink:actuate=\"onRequest\" xlink:href=\"psysml:2119f9fa-e703-4679-adcc-c9e3fda7136e\" xlink:show=\"new\" xlink:title=\"psysml:2119f9fa-e703-4679-adcc-c9e3fda7136e\" xlink:type=\"simple\"><g id=\"elem_E8\"><rect fill=\"#FFFFFF\" height=\"48.2656\" id=\"E8\" style=\"stroke:#181818;stroke-width:0.5;\" width=\"70\" x=\"117\" y=\"524\"/><text fill=\"#000000\" font-family=\"sans-serif\" font-size=\"12\" font-style=\"italic\" lengthAdjust=\"spacing\" textLength=\"68\" x=\"118\" y=\"540.1387\">«part  def»</text><text fill=\"#000000\" font-family=\"sans-serif\" font-size=\"14\" lengthAdjust=\"spacing\" textLength=\"10\" x=\"147\" y=\"555.9639\">C</text><line style=\"stroke:#181818;stroke-width:0.5;\" x1=\"118\" x2=\"186\" y1=\"564.2656\" y2=\"564.2656\"/></g></a><!--MD5=[fd4143e9d270a159db93a4ea2a975926]\n",
       "class E9--><a href=\"psysml:f9be0f9f-7828-47af-b676-a3098923450b\" target=\"_top\" title=\"psysml:f9be0f9f-7828-47af-b676-a3098923450b\" xlink:actuate=\"onRequest\" xlink:href=\"psysml:f9be0f9f-7828-47af-b676-a3098923450b\" xlink:show=\"new\" xlink:title=\"psysml:f9be0f9f-7828-47af-b676-a3098923450b\" xlink:type=\"simple\"><g id=\"elem_E9\"><rect fill=\"#FFFFFF\" height=\"48.2656\" id=\"E9\" style=\"stroke:#181818;stroke-width:0.5;\" width=\"70\" x=\"69\" y=\"41\"/><text fill=\"#000000\" font-family=\"sans-serif\" font-size=\"12\" font-style=\"italic\" lengthAdjust=\"spacing\" textLength=\"68\" x=\"70\" y=\"57.1387\">«port  def»</text><text fill=\"#000000\" font-family=\"sans-serif\" font-size=\"14\" lengthAdjust=\"spacing\" textLength=\"9\" x=\"99.5\" y=\"72.9639\">P</text><line style=\"stroke:#181818;stroke-width:0.5;\" x1=\"70\" x2=\"138\" y1=\"81.2656\" y2=\"81.2656\"/></g></a><!--MD5=[96f4274e9e20536e775497830990834d]\n",
       "class E10--><a href=\"psysml:bdd21edf-ffb1-47e0-8301-b129ba721304\" target=\"_top\" title=\"psysml:bdd21edf-ffb1-47e0-8301-b129ba721304\" xlink:actuate=\"onRequest\" xlink:href=\"psysml:bdd21edf-ffb1-47e0-8301-b129ba721304\" xlink:show=\"new\" xlink:title=\"psysml:bdd21edf-ffb1-47e0-8301-b129ba721304\" xlink:type=\"simple\"><g id=\"elem_E10\"><rect fill=\"#FFFFFF\" height=\"48.2656\" id=\"E10\" rx=\"10\" ry=\"10\" style=\"stroke:#181818;stroke-width:0.5;\" width=\"49\" x=\"32.5\" y=\"150\"/><text fill=\"#000000\" font-family=\"sans-serif\" font-size=\"12\" font-style=\"italic\" lengthAdjust=\"spacing\" textLength=\"41\" x=\"36.5\" y=\"166.1387\">«item»</text><text fill=\"#000000\" font-family=\"sans-serif\" font-size=\"14\" lengthAdjust=\"spacing\" textLength=\"35\" x=\"35.5\" y=\"181.9639\">a1: A</text><line style=\"stroke:#181818;stroke-width:0.5;\" x1=\"33.5\" x2=\"80.5\" y1=\"190.2656\" y2=\"190.2656\"/></g></a><!--MD5=[1dd1bfd58a279cf63c5f349dbc8fc6a1]\n",
       "class E11--><a href=\"psysml:ea86bb80-7fc3-4478-bdc0-15728142c0fa\" target=\"_top\" title=\"psysml:ea86bb80-7fc3-4478-bdc0-15728142c0fa\" xlink:actuate=\"onRequest\" xlink:href=\"psysml:ea86bb80-7fc3-4478-bdc0-15728142c0fa\" xlink:show=\"new\" xlink:title=\"psysml:ea86bb80-7fc3-4478-bdc0-15728142c0fa\" xlink:type=\"simple\"><g id=\"elem_E11\"><rect fill=\"#FFFFFF\" height=\"48.2656\" id=\"E11\" rx=\"10\" ry=\"10\" style=\"stroke:#181818;stroke-width:0.5;\" width=\"49\" x=\"116.5\" y=\"150\"/><text fill=\"#000000\" font-family=\"sans-serif\" font-size=\"12\" font-style=\"italic\" lengthAdjust=\"spacing\" textLength=\"41\" x=\"120.5\" y=\"166.1387\">«item»</text><text fill=\"#000000\" font-family=\"sans-serif\" font-size=\"14\" lengthAdjust=\"spacing\" textLength=\"35\" x=\"119.5\" y=\"181.9639\">a2: A</text><line style=\"stroke:#181818;stroke-width:0.5;\" x1=\"117.5\" x2=\"164.5\" y1=\"190.2656\" y2=\"190.2656\"/></g></a><!--MD5=[2720a5a1f2c3fca2055b230370638851]\n",
       "link E2 to E3--><g id=\"link_E2_E3\"><a href=\"psysml:358bd963-d6cf-4c51-9d97-dc29b520688f\" target=\"_top\" title=\"psysml:358bd963-d6cf-4c51-9d97-dc29b520688f\" xlink:actuate=\"onRequest\" xlink:href=\"psysml:358bd963-d6cf-4c51-9d97-dc29b520688f\" xlink:show=\"new\" xlink:title=\"psysml:358bd963-d6cf-4c51-9d97-dc29b520688f\" xlink:type=\"simple\"><path d=\"M204.42,198.22 C194.55,211.26 181.97,227.88 170.62,242.87 \" fill=\"none\" id=\"E2-to-E3\" style=\"stroke:#181818;stroke-width:1.0;\"/><polygon fill=\"#FFFFFF\" points=\"158.54,258.83,164.4286,239.4567,175.5901,247.9078,158.54,258.83\" style=\"stroke:#181818;stroke-width:1.0;\"/><ellipse cx=\"169.4639\" cy=\"236.1197\" fill=\"#181818\" rx=\"2\" ry=\"2\" style=\"stroke:#181818;stroke-width:1.0;\"/><ellipse cx=\"177.4364\" cy=\"242.1562\" fill=\"#181818\" rx=\"2\" ry=\"2\" style=\"stroke:#181818;stroke-width:1.0;\"/></a></g><!--MD5=[4672eba38e49728da53d11aeb285b987]\n",
       "reverse link E3 to E4--><g id=\"link_E3_E4\"><a href=\"psysml:724ffe94-cfbf-4ea2-b315-6baf1a587f0c\" target=\"_top\" title=\"psysml:724ffe94-cfbf-4ea2-b315-6baf1a587f0c\" xlink:actuate=\"onRequest\" xlink:href=\"psysml:724ffe94-cfbf-4ea2-b315-6baf1a587f0c\" xlink:show=\"new\" xlink:title=\"psysml:724ffe94-cfbf-4ea2-b315-6baf1a587f0c\" xlink:type=\"simple\"><path d=\"M112.72,317.45 C92.93,340.88 70,368 70,368 C70,368 70,416.01 70,445.83 \" fill=\"none\" id=\"E3-backto-E4\" style=\"stroke:#181818;stroke-width:1.0;\"/><polygon fill=\"#181818\" points=\"121.22,307.4,114.2926,309.4028,113.477,316.5676,120.4044,314.5648,121.22,307.4\" style=\"stroke:#181818;stroke-width:1.0;\"/></a></g><!--MD5=[191cde3d490a3f6d7bb551fe3ddca469]\n",
       "reverse link E3 to E5--><g id=\"link_E3_E5\"><a href=\"psysml:9c72d63b-be6b-487b-af19-53b3ed2c634b\" target=\"_top\" title=\"psysml:9c72d63b-be6b-487b-af19-53b3ed2c634b\" xlink:actuate=\"onRequest\" xlink:href=\"psysml:9c72d63b-be6b-487b-af19-53b3ed2c634b\" xlink:show=\"new\" xlink:title=\"psysml:9c72d63b-be6b-487b-af19-53b3ed2c634b\" xlink:type=\"simple\"><path d=\"M153.39,319.83 C158.86,335.66 165.14,353.82 169.99,367.83 \" fill=\"none\" id=\"E3-backto-E5\" style=\"stroke:#181818;stroke-width:1.0;\"/><polygon fill=\"none\" points=\"149.03,307.22,147.2077,314.1971,152.9472,318.5627,154.7695,311.5856,149.03,307.22\" style=\"stroke:#181818;stroke-width:1.0;\"/></a></g><!--MD5=[79568f1e445c3877b6a54524624ccc7d]\n",
       "link E4 to E6--><g id=\"link_E4_E6\"><a href=\"psysml:c1d845e5-90b4-4786-9172-2f85f48f902a\" target=\"_top\" title=\"psysml:c1d845e5-90b4-4786-9172-2f85f48f902a\" xlink:actuate=\"onRequest\" xlink:href=\"psysml:c1d845e5-90b4-4786-9172-2f85f48f902a\" xlink:show=\"new\" xlink:title=\"psysml:c1d845e5-90b4-4786-9172-2f85f48f902a\" xlink:type=\"simple\"><path d=\"M76.88,494.17 C85.74,523.99 100,572 100,572 C100,572 116.23,603.2 130.55,630.75 \" fill=\"none\" id=\"E4-to-E6\" style=\"stroke:#181818;stroke-width:1.0;\"/><polygon fill=\"#FFFFFF\" points=\"139.94,648.81,124.9624,635.1839,137.3828,628.7237,139.94,648.81\" style=\"stroke:#181818;stroke-width:1.0;\"/><ellipse cx=\"124.1065\" cy=\"629.2041\" fill=\"#181818\" rx=\"2\" ry=\"2\" style=\"stroke:#181818;stroke-width:1.0;\"/><ellipse cx=\"132.9782\" cy=\"624.5897\" fill=\"#181818\" rx=\"2\" ry=\"2\" style=\"stroke:#181818;stroke-width:1.0;\"/></a></g><!--MD5=[3f50a3473f1dfb74d3f76443e03635af]\n",
       "reverse link E6 to E7--><g id=\"link_E6_E7\"><a href=\"psysml:ee76f7ce-c996-4988-9b1a-5ac16ad8d066\" target=\"_top\" title=\"psysml:ee76f7ce-c996-4988-9b1a-5ac16ad8d066\" xlink:actuate=\"onRequest\" xlink:href=\"psysml:ee76f7ce-c996-4988-9b1a-5ac16ad8d066\" xlink:show=\"new\" xlink:title=\"psysml:ee76f7ce-c996-4988-9b1a-5ac16ad8d066\" xlink:type=\"simple\"><path d=\"M164.05,709.83 C169.38,725.66 175.49,743.82 180.2,757.83 \" fill=\"none\" id=\"E6-backto-E7\" style=\"stroke:#181818;stroke-width:1.0;\"/><polygon fill=\"#181818\" points=\"159.81,697.22,157.9296,704.1816,163.6324,708.5949,165.5128,701.6333,159.81,697.22\" style=\"stroke:#181818;stroke-width:1.0;\"/></a></g><!--MD5=[14ccda38c055a5c0da953d572bc50960]\n",
       "link E7 to E3--><g id=\"link_E7_E3\"><a href=\"psysml:1cb41c8a-3888-4a6d-b592-33957295a7ee\" target=\"_top\" title=\"psysml:1cb41c8a-3888-4a6d-b592-33957295a7ee\" xlink:actuate=\"onRequest\" xlink:href=\"psysml:1cb41c8a-3888-4a6d-b592-33957295a7ee\" xlink:show=\"new\" xlink:title=\"psysml:1cb41c8a-3888-4a6d-b592-33957295a7ee\" xlink:type=\"simple\"><path d=\"M198.2,757.78 C212.02,726.31 235,674 235,674 C235,391 235,391 235,391 C235,391 217,368 217,368 C217,368 195.85,344.63 175.87,322.54 \" fill=\"none\" id=\"E7-to-E3\" style=\"stroke:#181818;stroke-width:1.0;\"/><polygon fill=\"#FFFFFF\" points=\"162.17,307.4,180.1124,316.7846,169.7351,326.1821,162.17,307.4\" style=\"stroke:#181818;stroke-width:1.0;\"/><ellipse cx=\"182.456\" cy=\"322.3522\" fill=\"#181818\" rx=\"2\" ry=\"2\" style=\"stroke:#181818;stroke-width:1.0;\"/><ellipse cx=\"175.0437\" cy=\"329.0647\" fill=\"#181818\" rx=\"2\" ry=\"2\" style=\"stroke:#181818;stroke-width:1.0;\"/></a></g><!--MD5=[dfaffb906826c3e5aca635516100ff21]\n",
       "link E5 to E8--><g id=\"link_E5_E8\"><a href=\"psysml:b2862137-6a73-49a4-ad0f-48652eafb24c\" target=\"_top\" title=\"psysml:b2862137-6a73-49a4-ad0f-48652eafb24c\" xlink:actuate=\"onRequest\" xlink:href=\"psysml:b2862137-6a73-49a4-ad0f-48652eafb24c\" xlink:show=\"new\" xlink:title=\"psysml:b2862137-6a73-49a4-ad0f-48652eafb24c\" xlink:type=\"simple\"><path d=\"M174.11,416.06 C170.2,439.19 164.09,475.38 159.28,503.86 \" fill=\"none\" id=\"E5-to-E8\" style=\"stroke:#181818;stroke-width:1.0;\"/><polygon fill=\"#FFFFFF\" points=\"155.92,523.79,152.1809,503.8898,165.9855,506.2206,155.92,523.79\" style=\"stroke:#181818;stroke-width:1.0;\"/><ellipse cx=\"155.1019\" cy=\"498.6023\" fill=\"#181818\" rx=\"2\" ry=\"2\" style=\"stroke:#181818;stroke-width:1.0;\"/><ellipse cx=\"164.9624\" cy=\"500.2671\" fill=\"#181818\" rx=\"2\" ry=\"2\" style=\"stroke:#181818;stroke-width:1.0;\"/></a></g><!--MD5=[03c8294790d3c57651a1993cecff665f]\n",
       "reverse link E8 to E3--><g id=\"link_E8_E3\"><a href=\"psysml:764dcc5f-c791-44bd-8fe4-0cc6162433fb\" target=\"_top\" title=\"psysml:764dcc5f-c791-44bd-8fe4-0cc6162433fb\" xlink:actuate=\"onRequest\" xlink:href=\"psysml:764dcc5f-c791-44bd-8fe4-0cc6162433fb\" xlink:show=\"new\" xlink:title=\"psysml:764dcc5f-c791-44bd-8fe4-0cc6162433fb\" xlink:type=\"simple\"><path d=\"M146.23,511.01 C140.01,472.23 131,416 131,416 C131,416 131,368 131,368 C131,368 135.26,332.25 138.21,307.4 \" fill=\"none\" id=\"E8-backto-E3\" style=\"stroke:#181818;stroke-width:1.0;\"/><polygon fill=\"none\" points=\"148.29,523.88,151.2907,517.3229,146.3921,512.031,143.3914,518.5882,148.29,523.88\" style=\"stroke:#181818;stroke-width:1.0;\"/><text fill=\"#000000\" font-family=\"sans-serif\" font-size=\"13\" lengthAdjust=\"spacing\" textLength=\"7\" x=\"132\" y=\"396.5669\">y</text></a></g><!--MD5=[0d75d2178373a6a4568e5dc728f58aef]\n",
       "reverse link E8 to E6--><g id=\"link_E8_E6\"><a href=\"psysml:764dcc5f-c791-44bd-8fe4-0cc6162433fb\" target=\"_top\" title=\"psysml:764dcc5f-c791-44bd-8fe4-0cc6162433fb\" xlink:actuate=\"onRequest\" xlink:href=\"psysml:764dcc5f-c791-44bd-8fe4-0cc6162433fb\" xlink:show=\"new\" xlink:title=\"psysml:764dcc5f-c791-44bd-8fe4-0cc6162433fb\" xlink:type=\"simple\"><path d=\"M152,585.21 C152,605.83 152,631.04 152,648.97 \" fill=\"none\" id=\"E8-backto-E6\" style=\"stroke:#181818;stroke-width:1.0;\"/><polygon fill=\"none\" points=\"152,572.14,148,578.14,152,584.14,156,578.14,152,572.14\" style=\"stroke:#181818;stroke-width:1.0;\"/><text fill=\"#000000\" font-family=\"sans-serif\" font-size=\"13\" lengthAdjust=\"spacing\" textLength=\"7\" x=\"153\" y=\"615.0669\">y</text></a></g><!--MD5=[23ac544a70576c3e717098101004234c]\n",
       "reverse link E9 to E10--><g id=\"link_E9_E10\"><a href=\"psysml:1f369bef-866d-4201-85d0-19625ffb0bd4\" target=\"_top\" title=\"psysml:1f369bef-866d-4201-85d0-19625ffb0bd4\" xlink:actuate=\"onRequest\" xlink:href=\"psysml:1f369bef-866d-4201-85d0-19625ffb0bd4\" xlink:show=\"new\" xlink:title=\"psysml:1f369bef-866d-4201-85d0-19625ffb0bd4\" xlink:type=\"simple\"><path d=\"M88.47,101.35 C81.47,117.29 73.39,135.68 67.18,149.83 \" fill=\"none\" id=\"E9-backto-E10\" style=\"stroke:#181818;stroke-width:1.0;\"/><polygon fill=\"none\" points=\"93.8,89.22,87.7243,93.1041,88.9729,100.2063,95.0485,96.3222,93.8,89.22\" style=\"stroke:#181818;stroke-width:1.0;\"/></a></g><!--MD5=[feeac5eb423634930294aa81f2d25a4c]\n",
       "link E10 to E3--><g id=\"link_E10_E3\"><a href=\"psysml:0dc69dec-387f-4606-9efc-6b8567a081cf\" target=\"_top\" title=\"psysml:0dc69dec-387f-4606-9efc-6b8567a081cf\" xlink:actuate=\"onRequest\" xlink:href=\"psysml:0dc69dec-387f-4606-9efc-6b8567a081cf\" xlink:show=\"new\" xlink:title=\"psysml:0dc69dec-387f-4606-9efc-6b8567a081cf\" xlink:type=\"simple\"><path d=\"M75.23,198.22 C85.46,211.26 98.51,227.88 110.28,242.87 \" fill=\"none\" id=\"E10-to-E3\" style=\"stroke:#181818;stroke-width:1.0;\"/><polygon fill=\"#FFFFFF\" points=\"122.81,258.83,105.5676,248.214,116.5764,239.565,122.81,258.83\" style=\"stroke:#181818;stroke-width:1.0;\"/><ellipse cx=\"103.6189\" cy=\"242.4963\" fill=\"#181818\" rx=\"2\" ry=\"2\" style=\"stroke:#181818;stroke-width:1.0;\"/><ellipse cx=\"111.4823\" cy=\"236.3184\" fill=\"#181818\" rx=\"2\" ry=\"2\" style=\"stroke:#181818;stroke-width:1.0;\"/></a></g><!--MD5=[1fc04a95fd77ad5ce46c1a3027516051]\n",
       "reverse link E9 to E11--><g id=\"link_E9_E11\"><a href=\"psysml:41147f3b-680c-4b19-9ea9-1ad0d7284d0b\" target=\"_top\" title=\"psysml:41147f3b-680c-4b19-9ea9-1ad0d7284d0b\" xlink:actuate=\"onRequest\" xlink:href=\"psysml:41147f3b-680c-4b19-9ea9-1ad0d7284d0b\" xlink:show=\"new\" xlink:title=\"psysml:41147f3b-680c-4b19-9ea9-1ad0d7284d0b\" xlink:type=\"simple\"><path d=\"M116.39,101.83 C121.86,117.66 128.14,135.82 132.99,149.83 \" fill=\"none\" id=\"E9-backto-E11\" style=\"stroke:#181818;stroke-width:1.0;\"/><polygon fill=\"none\" points=\"112.03,89.22,110.2077,96.1971,115.9472,100.5627,117.7695,93.5856,112.03,89.22\" style=\"stroke:#181818;stroke-width:1.0;\"/></a></g><!--MD5=[0517f1ce58c4d5483948f93845c45e26]\n",
       "link E11 to E3--><g id=\"link_E11_E3\"><a href=\"psysml:86cba12c-5c0b-4cb2-8a0f-652783ee7e3b\" target=\"_top\" title=\"psysml:86cba12c-5c0b-4cb2-8a0f-652783ee7e3b\" xlink:actuate=\"onRequest\" xlink:href=\"psysml:86cba12c-5c0b-4cb2-8a0f-652783ee7e3b\" xlink:show=\"new\" xlink:title=\"psysml:86cba12c-5c0b-4cb2-8a0f-652783ee7e3b\" xlink:type=\"simple\"><path d=\"M141,198.22 C141,210 141,224.69 141,238.48 \" fill=\"none\" id=\"E11-to-E3\" style=\"stroke:#181818;stroke-width:1.0;\"/><polygon fill=\"#FFFFFF\" points=\"141,258.83,134,239.83,148,239.83,141,258.83\" style=\"stroke:#181818;stroke-width:1.0;\"/><ellipse cx=\"136\" cy=\"234.13\" fill=\"#181818\" rx=\"2\" ry=\"2\" style=\"stroke:#181818;stroke-width:1.0;\"/><ellipse cx=\"146\" cy=\"234.13\" fill=\"#181818\" rx=\"2\" ry=\"2\" style=\"stroke:#181818;stroke-width:1.0;\"/></a></g><!--MD5=[ff65a38cd70d5df0d8a01c46dd3719b7]\n",
       "@startuml\r\n",
       "skin sysmlbw\r\n",
       "skinparam monochrome true\r\n",
       "skinparam wrapWidth 300\r\n",
       "hide circle\r\n",
       "skinparam linetype polyline\r\n",
       "\r\n",
       "package \"ItemTest\" as E1  [[psysml:b50080a1-e82f-4c80-9a3f-5d66ab4e7e23 ]]  {\r\n",
       "comp usage \"f: A  \" as E2  <<(T,blue) item>> [[psysml:4d36820e-7c5e-46bd-9de5-e346cea54837 ]] {\r\n",
       "}\r\n",
       "comp def \"A\" as E3  <<(T,blue) item  def>> [[psysml:90a9c46f-1bc9-4470-bf4e-8ae555dfcfc9 ]] {\r\n",
       "}\r\n",
       "comp usage \"b: B  \" as E4  <<(T,blue) item>> [[psysml:d394e1d7-ba50-4340-ad50-ece704d14a42 ]] {\r\n",
       "}\r\n",
       "comp usage \"c: C  \" as E5  <<(T,blue) part>> [[psysml:af047218-2074-4cd5-be73-a9bc4fd53c73 ]] {\r\n",
       "}\r\n",
       "comp def \"<i>B</i>\" as E6  <<(T,blue) item  def>> [[psysml:24ac0b44-19f7-4e7e-9d8c-29217623109a ]] {\r\n",
       "}\r\n",
       "comp usage \"<i>a</i>: A  \" as E7  <<(T,blue) part>> [[psysml:f97762a5-be4a-40f0-b15f-ded6f9a0a2bf ]] {\r\n",
       "}\r\n",
       "comp def \"C\" as E8  <<(T,blue) part  def>> [[psysml:2119f9fa-e703-4679-adcc-c9e3fda7136e ]] {\r\n",
       "}\r\n",
       "comp def \"P\" as E9  <<(T,blue) port  def>> [[psysml:f9be0f9f-7828-47af-b676-a3098923450b ]] {\r\n",
       "}\r\n",
       "comp usage \"a1: A  \" as E10  <<(T,blue) item>> [[psysml:bdd21edf-ffb1-47e0-8301-b129ba721304 ]] {\r\n",
       "}\r\n",
       "comp usage \"a2: A  \" as E11  <<(T,blue) item>> [[psysml:ea86bb80-7fc3-4478-bdc0-15728142c0fa ]] {\r\n",
       "}\r\n",
       "}\r\n",
       "E2 - -:|> E3 [[psysml:358bd963-d6cf-4c51-9d97-dc29b520688f ]] \r\n",
       "E3 *- - E4 [[psysml:724ffe94-cfbf-4ea2-b315-6baf1a587f0c ]] \r\n",
       "E3 o- - E5 [[psysml:9c72d63b-be6b-487b-af19-53b3ed2c634b ]] \r\n",
       "E4 - -:|> E6 [[psysml:c1d845e5-90b4-4786-9172-2f85f48f902a ]] \r\n",
       "E6 *- - E7 [[psysml:ee76f7ce-c996-4988-9b1a-5ac16ad8d066 ]] \r\n",
       "E7 - -:|> E3 [[psysml:1cb41c8a-3888-4a6d-b592-33957295a7ee ]] \r\n",
       "E5 - -:|> E8 [[psysml:b2862137-6a73-49a4-ad0f-48652eafb24c ]] \r\n",
       "E8 o- - E3 [[psysml:764dcc5f-c791-44bd-8fe4-0cc6162433fb ]] : y\r\n",
       "E8 o- - E6 [[psysml:764dcc5f-c791-44bd-8fe4-0cc6162433fb ]] : y\r\n",
       "E9 o- - E10 [[psysml:1f369bef-866d-4201-85d0-19625ffb0bd4 ]] \r\n",
       "E10 - -:|> E3 [[psysml:0dc69dec-387f-4606-9efc-6b8567a081cf ]] \r\n",
       "E9 o- - E11 [[psysml:41147f3b-680c-4b19-9ea9-1ad0d7284d0b ]] \r\n",
       "E11 - -:|> E3 [[psysml:86cba12c-5c0b-4cb2-8a0f-652783ee7e3b ]] \r\n",
       "@enduml\r\n",
       "\n",
       "PlantUML version 1.2022.7(Mon Aug 22 17:01:30 UTC 2022)\n",
       "(EPL source distribution)\n",
       "Java Runtime: OpenJDK Runtime Environment\n",
       "JVM: OpenJDK 64-Bit Server VM\n",
       "Default Encoding: UTF-8\n",
       "Language: en\n",
       "Country: null\n",
       "--></g></svg>"
      ]
     },
     "execution_count": 15,
     "metadata": {},
     "output_type": "execute_result"
    }
   ],
   "source": [
    "%viz --style=\"POLYLINE\" --view=\"MIXED\" \"ItemTest\""
   ]
  },
  {
   "cell_type": "code",
   "execution_count": 16,
   "id": "fd3e6d4b",
   "metadata": {
    "execution": {
     "iopub.execute_input": "2024-12-16T03:22:53.958060Z",
     "iopub.status.busy": "2024-12-16T03:22:53.957864Z",
     "iopub.status.idle": "2024-12-16T03:22:53.992160Z",
     "shell.execute_reply": "2024-12-16T03:22:53.991248Z"
    }
   },
   "outputs": [
    {
     "data": {
      "image/svg+xml": [
       "<?xml version=\"1.0\" encoding=\"UTF-8\" standalone=\"no\"?><svg xmlns=\"http://www.w3.org/2000/svg\" xmlns:xlink=\"http://www.w3.org/1999/xlink\" contentStyleType=\"text/css\" height=\"278px\" preserveAspectRatio=\"none\" style=\"width:896px;height:278px;background:#FFFFFF;\" version=\"1.1\" viewBox=\"0 0 896 278\" width=\"896px\" zoomAndPan=\"magnify\"><defs/><g><!--MD5=[fbc87193dbaf4d95561dea2c320d4a47]\n",
       "cluster E1--><g id=\"cluster_E1\"><a href=\"psysml:b50080a1-e82f-4c80-9a3f-5d66ab4e7e23\" target=\"_top\" title=\"psysml:b50080a1-e82f-4c80-9a3f-5d66ab4e7e23\" xlink:actuate=\"onRequest\" xlink:href=\"psysml:b50080a1-e82f-4c80-9a3f-5d66ab4e7e23\" xlink:show=\"new\" xlink:title=\"psysml:b50080a1-e82f-4c80-9a3f-5d66ab4e7e23\" xlink:type=\"simple\"><polygon fill=\"none\" points=\"16,6,86.5,6,93.5,28.2969,879,28.2969,879,271,16,271,16,6\" style=\"stroke:#000000;stroke-width:1.5;\"/><line style=\"stroke:#000000;stroke-width:1.5;\" x1=\"16\" x2=\"93.5\" y1=\"28.2969\" y2=\"28.2969\"/><text fill=\"#000000\" font-family=\"sans-serif\" font-size=\"14\" font-weight=\"bold\" lengthAdjust=\"spacing\" textLength=\"64.5\" x=\"20\" y=\"20.9951\">ItemTest</text></a></g><!--MD5=[b4997ac47864f28c2f74865a473b2911]\n",
       "class E2--><a href=\"psysml:4d36820e-7c5e-46bd-9de5-e346cea54837\" target=\"_top\" title=\"psysml:4d36820e-7c5e-46bd-9de5-e346cea54837\" xlink:actuate=\"onRequest\" xlink:href=\"psysml:4d36820e-7c5e-46bd-9de5-e346cea54837\" xlink:show=\"new\" xlink:title=\"psysml:4d36820e-7c5e-46bd-9de5-e346cea54837\" xlink:type=\"simple\"><g id=\"elem_E2\"><rect fill=\"#FFFFFF\" height=\"48.2656\" id=\"E2\" rx=\"10\" ry=\"10\" style=\"stroke:#181818;stroke-width:0.5;\" width=\"43\" x=\"166\" y=\"41\"/><text fill=\"#000000\" font-family=\"sans-serif\" font-size=\"12\" font-style=\"italic\" lengthAdjust=\"spacing\" textLength=\"41\" x=\"167\" y=\"57.1387\">«item»</text><text fill=\"#000000\" font-family=\"sans-serif\" font-size=\"14\" lengthAdjust=\"spacing\" textLength=\"22\" x=\"172.5\" y=\"72.9639\">f: A</text><line style=\"stroke:#181818;stroke-width:0.5;\" x1=\"167\" x2=\"208\" y1=\"81.2656\" y2=\"81.2656\"/></g></a><!--MD5=[09b614a08d8cba4a07c9adeb5e0fee81]\n",
       "class E3--><a href=\"psysml:90a9c46f-1bc9-4470-bf4e-8ae555dfcfc9\" target=\"_top\" title=\"psysml:90a9c46f-1bc9-4470-bf4e-8ae555dfcfc9\" xlink:actuate=\"onRequest\" xlink:href=\"psysml:90a9c46f-1bc9-4470-bf4e-8ae555dfcfc9\" xlink:show=\"new\" xlink:title=\"psysml:90a9c46f-1bc9-4470-bf4e-8ae555dfcfc9\" xlink:type=\"simple\"><g id=\"elem_E3\"><rect fill=\"#FFFFFF\" height=\"48.2656\" id=\"E3\" style=\"stroke:#181818;stroke-width:0.5;\" width=\"71\" x=\"273\" y=\"124\"/><text fill=\"#000000\" font-family=\"sans-serif\" font-size=\"12\" font-style=\"italic\" lengthAdjust=\"spacing\" textLength=\"69\" x=\"274\" y=\"140.1387\">«item  def»</text><text fill=\"#000000\" font-family=\"sans-serif\" font-size=\"14\" lengthAdjust=\"spacing\" textLength=\"9\" x=\"304\" y=\"155.9639\">A</text><line style=\"stroke:#181818;stroke-width:0.5;\" x1=\"274\" x2=\"343\" y1=\"164.2656\" y2=\"164.2656\"/></g></a><!--MD5=[ebbe1d658d1005bcc118a6aa81145e00]\n",
       "class E4--><a href=\"psysml:d394e1d7-ba50-4340-ad50-ece704d14a42\" target=\"_top\" title=\"psysml:d394e1d7-ba50-4340-ad50-ece704d14a42\" xlink:actuate=\"onRequest\" xlink:href=\"psysml:d394e1d7-ba50-4340-ad50-ece704d14a42\" xlink:show=\"new\" xlink:title=\"psysml:d394e1d7-ba50-4340-ad50-ece704d14a42\" xlink:type=\"simple\"><g id=\"elem_E4\"><rect fill=\"#FFFFFF\" height=\"48.2656\" id=\"E4\" rx=\"10\" ry=\"10\" style=\"stroke:#181818;stroke-width:0.5;\" width=\"43\" x=\"477\" y=\"196\"/><text fill=\"#000000\" font-family=\"sans-serif\" font-size=\"12\" font-style=\"italic\" lengthAdjust=\"spacing\" textLength=\"41\" x=\"478\" y=\"212.1387\">«item»</text><text fill=\"#000000\" font-family=\"sans-serif\" font-size=\"14\" lengthAdjust=\"spacing\" textLength=\"28\" x=\"480.5\" y=\"227.9639\">b: B</text><line style=\"stroke:#181818;stroke-width:0.5;\" x1=\"478\" x2=\"519\" y1=\"236.2656\" y2=\"236.2656\"/></g></a><!--MD5=[270fce915f116d4de14055a7c1d9a0f3]\n",
       "class E5--><a href=\"psysml:af047218-2074-4cd5-be73-a9bc4fd53c73\" target=\"_top\" title=\"psysml:af047218-2074-4cd5-be73-a9bc4fd53c73\" xlink:actuate=\"onRequest\" xlink:href=\"psysml:af047218-2074-4cd5-be73-a9bc4fd53c73\" xlink:show=\"new\" xlink:title=\"psysml:af047218-2074-4cd5-be73-a9bc4fd53c73\" xlink:type=\"simple\"><g id=\"elem_E5\"><rect fill=\"#FFFFFF\" height=\"48.2656\" id=\"E5\" rx=\"10\" ry=\"10\" style=\"stroke:#181818;stroke-width:0.5;\" width=\"42\" x=\"405\" y=\"80\"/><text fill=\"#000000\" font-family=\"sans-serif\" font-size=\"12\" font-style=\"italic\" lengthAdjust=\"spacing\" textLength=\"40\" x=\"406\" y=\"96.1387\">«part»</text><text fill=\"#000000\" font-family=\"sans-serif\" font-size=\"14\" lengthAdjust=\"spacing\" textLength=\"27\" x=\"408.5\" y=\"111.9639\">c: C</text><line style=\"stroke:#181818;stroke-width:0.5;\" x1=\"406\" x2=\"446\" y1=\"120.2656\" y2=\"120.2656\"/></g></a><!--MD5=[60a26617385b1d2d0262a64233df1f8d]\n",
       "class E6--><a href=\"psysml:24ac0b44-19f7-4e7e-9d8c-29217623109a\" target=\"_top\" title=\"psysml:24ac0b44-19f7-4e7e-9d8c-29217623109a\" xlink:actuate=\"onRequest\" xlink:href=\"psysml:24ac0b44-19f7-4e7e-9d8c-29217623109a\" xlink:show=\"new\" xlink:title=\"psysml:24ac0b44-19f7-4e7e-9d8c-29217623109a\" xlink:type=\"simple\"><g id=\"elem_E6\"><rect fill=\"#FFFFFF\" height=\"48.2656\" id=\"E6\" style=\"stroke:#181818;stroke-width:0.5;\" width=\"71\" x=\"689\" y=\"108\"/><text fill=\"#000000\" font-family=\"sans-serif\" font-size=\"12\" font-style=\"italic\" lengthAdjust=\"spacing\" textLength=\"69\" x=\"690\" y=\"124.1387\">«item  def»</text><text fill=\"#000000\" font-family=\"sans-serif\" font-size=\"14\" font-style=\"italic\" lengthAdjust=\"spacing\" textLength=\"10\" x=\"719.5\" y=\"139.9639\">B</text><line style=\"stroke:#181818;stroke-width:0.5;\" x1=\"690\" x2=\"759\" y1=\"148.2656\" y2=\"148.2656\"/></g></a><!--MD5=[2156ba9850f5573cc1fc38a6a4b2f02b]\n",
       "class E7--><a href=\"psysml:f97762a5-be4a-40f0-b15f-ded6f9a0a2bf\" target=\"_top\" title=\"psysml:f97762a5-be4a-40f0-b15f-ded6f9a0a2bf\" xlink:actuate=\"onRequest\" xlink:href=\"psysml:f97762a5-be4a-40f0-b15f-ded6f9a0a2bf\" xlink:show=\"new\" xlink:title=\"psysml:f97762a5-be4a-40f0-b15f-ded6f9a0a2bf\" xlink:type=\"simple\"><g id=\"elem_E7\"><rect fill=\"#FFFFFF\" height=\"48.2656\" id=\"E7\" rx=\"10\" ry=\"10\" style=\"stroke:#181818;stroke-width:0.5;\" width=\"42\" x=\"821\" y=\"74\"/><text fill=\"#000000\" font-family=\"sans-serif\" font-size=\"12\" font-style=\"italic\" lengthAdjust=\"spacing\" textLength=\"40\" x=\"822\" y=\"90.1387\">«part»</text><text fill=\"#000000\" font-family=\"sans-serif\" font-size=\"14\" font-style=\"italic\" lengthAdjust=\"spacing\" textLength=\"8\" x=\"825\" y=\"105.9639\">a</text><text fill=\"#000000\" font-family=\"sans-serif\" font-size=\"14\" lengthAdjust=\"spacing\" textLength=\"18\" x=\"833\" y=\"105.9639\">: A</text><line style=\"stroke:#181818;stroke-width:0.5;\" x1=\"822\" x2=\"862\" y1=\"114.2656\" y2=\"114.2656\"/></g></a><!--MD5=[b9389687b975829384b498ac4b7476b2]\n",
       "class E8--><a href=\"psysml:2119f9fa-e703-4679-adcc-c9e3fda7136e\" target=\"_top\" title=\"psysml:2119f9fa-e703-4679-adcc-c9e3fda7136e\" xlink:actuate=\"onRequest\" xlink:href=\"psysml:2119f9fa-e703-4679-adcc-c9e3fda7136e\" xlink:show=\"new\" xlink:title=\"psysml:2119f9fa-e703-4679-adcc-c9e3fda7136e\" xlink:type=\"simple\"><g id=\"elem_E8\"><rect fill=\"#FFFFFF\" height=\"48.2656\" id=\"E8\" style=\"stroke:#181818;stroke-width:0.5;\" width=\"70\" x=\"550\" y=\"108\"/><text fill=\"#000000\" font-family=\"sans-serif\" font-size=\"12\" font-style=\"italic\" lengthAdjust=\"spacing\" textLength=\"68\" x=\"551\" y=\"124.1387\">«part  def»</text><text fill=\"#000000\" font-family=\"sans-serif\" font-size=\"14\" lengthAdjust=\"spacing\" textLength=\"10\" x=\"580\" y=\"139.9639\">C</text><line style=\"stroke:#181818;stroke-width:0.5;\" x1=\"551\" x2=\"619\" y1=\"148.2656\" y2=\"148.2656\"/></g></a><!--MD5=[fd4143e9d270a159db93a4ea2a975926]\n",
       "class E9--><a href=\"psysml:f9be0f9f-7828-47af-b676-a3098923450b\" target=\"_top\" title=\"psysml:f9be0f9f-7828-47af-b676-a3098923450b\" xlink:actuate=\"onRequest\" xlink:href=\"psysml:f9be0f9f-7828-47af-b676-a3098923450b\" xlink:show=\"new\" xlink:title=\"psysml:f9be0f9f-7828-47af-b676-a3098923450b\" xlink:type=\"simple\"><g id=\"elem_E9\"><rect fill=\"#FFFFFF\" height=\"48.2656\" id=\"E9\" style=\"stroke:#181818;stroke-width:0.5;\" width=\"70\" x=\"32\" y=\"165\"/><text fill=\"#000000\" font-family=\"sans-serif\" font-size=\"12\" font-style=\"italic\" lengthAdjust=\"spacing\" textLength=\"68\" x=\"33\" y=\"181.1387\">«port  def»</text><text fill=\"#000000\" font-family=\"sans-serif\" font-size=\"14\" lengthAdjust=\"spacing\" textLength=\"9\" x=\"62.5\" y=\"196.9639\">P</text><line style=\"stroke:#181818;stroke-width:0.5;\" x1=\"33\" x2=\"101\" y1=\"205.2656\" y2=\"205.2656\"/></g></a><!--MD5=[96f4274e9e20536e775497830990834d]\n",
       "class E10--><a href=\"psysml:bdd21edf-ffb1-47e0-8301-b129ba721304\" target=\"_top\" title=\"psysml:bdd21edf-ffb1-47e0-8301-b129ba721304\" xlink:actuate=\"onRequest\" xlink:href=\"psysml:bdd21edf-ffb1-47e0-8301-b129ba721304\" xlink:show=\"new\" xlink:title=\"psysml:bdd21edf-ffb1-47e0-8301-b129ba721304\" xlink:type=\"simple\"><g id=\"elem_E10\"><rect fill=\"#FFFFFF\" height=\"48.2656\" id=\"E10\" rx=\"10\" ry=\"10\" style=\"stroke:#181818;stroke-width:0.5;\" width=\"49\" x=\"163\" y=\"207\"/><text fill=\"#000000\" font-family=\"sans-serif\" font-size=\"12\" font-style=\"italic\" lengthAdjust=\"spacing\" textLength=\"41\" x=\"167\" y=\"223.1387\">«item»</text><text fill=\"#000000\" font-family=\"sans-serif\" font-size=\"14\" lengthAdjust=\"spacing\" textLength=\"35\" x=\"166\" y=\"238.9639\">a1: A</text><line style=\"stroke:#181818;stroke-width:0.5;\" x1=\"164\" x2=\"211\" y1=\"247.2656\" y2=\"247.2656\"/></g></a><!--MD5=[1dd1bfd58a279cf63c5f349dbc8fc6a1]\n",
       "class E11--><a href=\"psysml:ea86bb80-7fc3-4478-bdc0-15728142c0fa\" target=\"_top\" title=\"psysml:ea86bb80-7fc3-4478-bdc0-15728142c0fa\" xlink:actuate=\"onRequest\" xlink:href=\"psysml:ea86bb80-7fc3-4478-bdc0-15728142c0fa\" xlink:show=\"new\" xlink:title=\"psysml:ea86bb80-7fc3-4478-bdc0-15728142c0fa\" xlink:type=\"simple\"><g id=\"elem_E11\"><rect fill=\"#FFFFFF\" height=\"48.2656\" id=\"E11\" rx=\"10\" ry=\"10\" style=\"stroke:#181818;stroke-width:0.5;\" width=\"49\" x=\"163\" y=\"124\"/><text fill=\"#000000\" font-family=\"sans-serif\" font-size=\"12\" font-style=\"italic\" lengthAdjust=\"spacing\" textLength=\"41\" x=\"167\" y=\"140.1387\">«item»</text><text fill=\"#000000\" font-family=\"sans-serif\" font-size=\"14\" lengthAdjust=\"spacing\" textLength=\"35\" x=\"166\" y=\"155.9639\">a2: A</text><line style=\"stroke:#181818;stroke-width:0.5;\" x1=\"164\" x2=\"211\" y1=\"164.2656\" y2=\"164.2656\"/></g></a><!--MD5=[2720a5a1f2c3fca2055b230370638851]\n",
       "link E2 to E3--><g id=\"link_E2_E3\"><a href=\"psysml:358bd963-d6cf-4c51-9d97-dc29b520688f\" target=\"_top\" title=\"psysml:358bd963-d6cf-4c51-9d97-dc29b520688f\" xlink:actuate=\"onRequest\" xlink:href=\"psysml:358bd963-d6cf-4c51-9d97-dc29b520688f\" xlink:show=\"new\" xlink:title=\"psysml:358bd963-d6cf-4c51-9d97-dc29b520688f\" xlink:type=\"simple\"><path d=\"M209.23,79.46 C222.34,88.61 239.91,100.86 256.57,112.48 \" fill=\"none\" id=\"E2-to-E3\" style=\"stroke:#181818;stroke-width:1.0;\"/><polygon fill=\"#FFFFFF\" points=\"273.04,123.97,253.4504,118.8466,261.4568,107.3619,273.04,123.97\" style=\"stroke:#181818;stroke-width:1.0;\"/><ellipse cx=\"249.9183\" cy=\"113.9462\" fill=\"#181818\" rx=\"2\" ry=\"2\" style=\"stroke:#181818;stroke-width:1.0;\"/><ellipse cx=\"255.6371\" cy=\"105.7429\" fill=\"#181818\" rx=\"2\" ry=\"2\" style=\"stroke:#181818;stroke-width:1.0;\"/></a></g><!--MD5=[4672eba38e49728da53d11aeb285b987]\n",
       "reverse link E3 to E4--><g id=\"link_E3_E4\"><a href=\"psysml:724ffe94-cfbf-4ea2-b315-6baf1a587f0c\" target=\"_top\" title=\"psysml:724ffe94-cfbf-4ea2-b315-6baf1a587f0c\" xlink:actuate=\"onRequest\" xlink:href=\"psysml:724ffe94-cfbf-4ea2-b315-6baf1a587f0c\" xlink:show=\"new\" xlink:title=\"psysml:724ffe94-cfbf-4ea2-b315-6baf1a587f0c\" xlink:type=\"simple\"><path d=\"M340.61,181.21 C357.85,197.16 380.68,214.59 405,223 C428.54,231.14 457.48,228.32 476.66,224.83 \" fill=\"none\" id=\"E3-backto-E4\" style=\"stroke:#181818;stroke-width:1.0;\"/><polygon fill=\"#181818\" points=\"331.13,172.07,332.6703,179.1147,339.7655,180.4023,338.2252,173.3576,331.13,172.07\" style=\"stroke:#181818;stroke-width:1.0;\"/></a></g><!--MD5=[191cde3d490a3f6d7bb551fe3ddca469]\n",
       "reverse link E3 to E5--><g id=\"link_E3_E5\"><a href=\"psysml:9c72d63b-be6b-487b-af19-53b3ed2c634b\" target=\"_top\" title=\"psysml:9c72d63b-be6b-487b-af19-53b3ed2c634b\" xlink:actuate=\"onRequest\" xlink:href=\"psysml:9c72d63b-be6b-487b-af19-53b3ed2c634b\" xlink:show=\"new\" xlink:title=\"psysml:9c72d63b-be6b-487b-af19-53b3ed2c634b\" xlink:type=\"simple\"><path d=\"M356.66,130.03 C373.46,123.64 391.49,116.77 404.81,111.69 \" fill=\"none\" id=\"E3-backto-E5\" style=\"stroke:#181818;stroke-width:1.0;\"/><polygon fill=\"none\" points=\"344.15,134.8,351.1812,136.4006,355.363,130.5259,348.3318,128.9253,344.15,134.8\" style=\"stroke:#181818;stroke-width:1.0;\"/></a></g><!--MD5=[79568f1e445c3877b6a54524624ccc7d]\n",
       "link E4 to E6--><g id=\"link_E4_E6\"><a href=\"psysml:c1d845e5-90b4-4786-9172-2f85f48f902a\" target=\"_top\" title=\"psysml:c1d845e5-90b4-4786-9172-2f85f48f902a\" xlink:actuate=\"onRequest\" xlink:href=\"psysml:c1d845e5-90b4-4786-9172-2f85f48f902a\" xlink:show=\"new\" xlink:title=\"psysml:c1d845e5-90b4-4786-9172-2f85f48f902a\" xlink:type=\"simple\"><path d=\"M520.41,211.88 C544.45,202.54 585.1,186.72 620,173 C636.15,166.65 653.71,159.71 669.69,153.38 \" fill=\"none\" id=\"E4-to-E6\" style=\"stroke:#181818;stroke-width:1.0;\"/><polygon fill=\"#FFFFFF\" points=\"688.55,145.9,673.4781,159.4218,668.308,146.4114,688.55,145.9\" style=\"stroke:#181818;stroke-width:1.0;\"/><ellipse cx=\"667.4425\" cy=\"159.6682\" fill=\"#181818\" rx=\"2\" ry=\"2\" style=\"stroke:#181818;stroke-width:1.0;\"/><ellipse cx=\"663.7495\" cy=\"150.3751\" fill=\"#181818\" rx=\"2\" ry=\"2\" style=\"stroke:#181818;stroke-width:1.0;\"/></a></g><!--MD5=[3f50a3473f1dfb74d3f76443e03635af]\n",
       "reverse link E6 to E7--><g id=\"link_E6_E7\"><a href=\"psysml:ee76f7ce-c996-4988-9b1a-5ac16ad8d066\" target=\"_top\" title=\"psysml:ee76f7ce-c996-4988-9b1a-5ac16ad8d066\" xlink:actuate=\"onRequest\" xlink:href=\"psysml:ee76f7ce-c996-4988-9b1a-5ac16ad8d066\" xlink:show=\"new\" xlink:title=\"psysml:ee76f7ce-c996-4988-9b1a-5ac16ad8d066\" xlink:type=\"simple\"><path d=\"M772.66,118.12 C789.46,113.17 807.49,107.86 820.81,103.94 \" fill=\"none\" id=\"E6-backto-E7\" style=\"stroke:#181818;stroke-width:1.0;\"/><polygon fill=\"#181818\" points=\"760.15,121.8,767.0354,123.9428,771.6615,118.4111,764.7762,116.2684,760.15,121.8\" style=\"stroke:#181818;stroke-width:1.0;\"/></a></g><!--MD5=[14ccda38c055a5c0da953d572bc50960]\n",
       "link E7 to E3--><g id=\"link_E7_E3\"><a href=\"psysml:1cb41c8a-3888-4a6d-b592-33957295a7ee\" target=\"_top\" title=\"psysml:1cb41c8a-3888-4a6d-b592-33957295a7ee\" xlink:actuate=\"onRequest\" xlink:href=\"psysml:1cb41c8a-3888-4a6d-b592-33957295a7ee\" xlink:show=\"new\" xlink:title=\"psysml:1cb41c8a-3888-4a6d-b592-33957295a7ee\" xlink:type=\"simple\"><path d=\"M820.63,81.8 C798.54,65.89 761.58,44 725.5,44 C425,44 425,44 425,44 C385.67,44 353.69,77.71 333.43,106.75 \" fill=\"none\" id=\"E7-to-E3\" style=\"stroke:#181818;stroke-width:1.0;\"/><polygon fill=\"#FFFFFF\" points=\"322.38,123.88,326.8018,104.1202,338.5646,111.7121,322.38,123.88\" style=\"stroke:#181818;stroke-width:1.0;\"/><ellipse cx=\"331.5731\" cy=\"100.4156\" fill=\"#181818\" rx=\"2\" ry=\"2\" style=\"stroke:#181818;stroke-width:1.0;\"/><ellipse cx=\"339.9752\" cy=\"105.8384\" fill=\"#181818\" rx=\"2\" ry=\"2\" style=\"stroke:#181818;stroke-width:1.0;\"/></a></g><!--MD5=[dfaffb906826c3e5aca635516100ff21]\n",
       "link E5 to E8--><g id=\"link_E5_E8\"><a href=\"psysml:b2862137-6a73-49a4-ad0f-48652eafb24c\" target=\"_top\" title=\"psysml:b2862137-6a73-49a4-ad0f-48652eafb24c\" xlink:actuate=\"onRequest\" xlink:href=\"psysml:b2862137-6a73-49a4-ad0f-48652eafb24c\" xlink:show=\"new\" xlink:title=\"psysml:b2862137-6a73-49a4-ad0f-48652eafb24c\" xlink:type=\"simple\"><path d=\"M447.2,107.6 C468.06,111.32 501.5,117.29 530.1,122.39 \" fill=\"none\" id=\"E5-to-E8\" style=\"stroke:#181818;stroke-width:1.0;\"/><polygon fill=\"#FFFFFF\" points=\"549.82,125.9,529.8855,129.452,532.3459,115.6699,549.82,125.9\" style=\"stroke:#181818;stroke-width:1.0;\"/><ellipse cx=\"524.6257\" cy=\"126.4814\" fill=\"#181818\" rx=\"2\" ry=\"2\" style=\"stroke:#181818;stroke-width:1.0;\"/><ellipse cx=\"526.3831\" cy=\"116.637\" fill=\"#181818\" rx=\"2\" ry=\"2\" style=\"stroke:#181818;stroke-width:1.0;\"/></a></g><!--MD5=[03c8294790d3c57651a1993cecff665f]\n",
       "reverse link E8 to E3--><g id=\"link_E8_E3\"><a href=\"psysml:764dcc5f-c791-44bd-8fe4-0cc6162433fb\" target=\"_top\" title=\"psysml:764dcc5f-c791-44bd-8fe4-0cc6162433fb\" xlink:actuate=\"onRequest\" xlink:href=\"psysml:764dcc5f-c791-44bd-8fe4-0cc6162433fb\" xlink:show=\"new\" xlink:title=\"psysml:764dcc5f-c791-44bd-8fe4-0cc6162433fb\" xlink:type=\"simple\"><path d=\"M537.34,144.84 C511.03,151.41 477.44,158.71 447,162 C428.44,164.01 423.62,163.36 405,162 C384.78,160.53 362.34,157.32 344.29,154.34 \" fill=\"none\" id=\"E8-backto-E3\" style=\"stroke:#181818;stroke-width:1.0;\"/><polygon fill=\"none\" points=\"549.99,141.59,543.1849,139.2045,538.3655,144.5686,545.1706,146.9541,549.99,141.59\" style=\"stroke:#181818;stroke-width:1.0;\"/><text fill=\"#000000\" font-family=\"sans-serif\" font-size=\"13\" lengthAdjust=\"spacing\" textLength=\"7\" x=\"422.5\" y=\"158.0669\">y</text></a></g><!--MD5=[0d75d2178373a6a4568e5dc728f58aef]\n",
       "reverse link E8 to E6--><g id=\"link_E8_E6\"><a href=\"psysml:764dcc5f-c791-44bd-8fe4-0cc6162433fb\" target=\"_top\" title=\"psysml:764dcc5f-c791-44bd-8fe4-0cc6162433fb\" xlink:actuate=\"onRequest\" xlink:href=\"psysml:764dcc5f-c791-44bd-8fe4-0cc6162433fb\" xlink:show=\"new\" xlink:title=\"psysml:764dcc5f-c791-44bd-8fe4-0cc6162433fb\" xlink:type=\"simple\"><path d=\"M633.39,132 C651.53,132 671.88,132 688.64,132 \" fill=\"none\" id=\"E8-backto-E6\" style=\"stroke:#181818;stroke-width:1.0;\"/><polygon fill=\"none\" points=\"620.34,132,626.34,136,632.34,132,626.34,128,620.34,132\" style=\"stroke:#181818;stroke-width:1.0;\"/><text fill=\"#000000\" font-family=\"sans-serif\" font-size=\"13\" lengthAdjust=\"spacing\" textLength=\"7\" x=\"651\" y=\"128.0669\">y</text></a></g><!--MD5=[23ac544a70576c3e717098101004234c]\n",
       "reverse link E9 to E10--><g id=\"link_E9_E10\"><a href=\"psysml:1f369bef-866d-4201-85d0-19625ffb0bd4\" target=\"_top\" title=\"psysml:1f369bef-866d-4201-85d0-19625ffb0bd4\" xlink:actuate=\"onRequest\" xlink:href=\"psysml:1f369bef-866d-4201-85d0-19625ffb0bd4\" xlink:show=\"new\" xlink:title=\"psysml:1f369bef-866d-4201-85d0-19625ffb0bd4\" xlink:type=\"simple\"><path d=\"M114.56,205.5 C131.09,211.36 149,217.71 162.82,222.61 \" fill=\"none\" id=\"E9-backto-E10\" style=\"stroke:#181818;stroke-width:1.0;\"/><polygon fill=\"none\" points=\"102.28,201.15,106.5996,206.9242,113.591,205.1576,109.2714,199.3835,102.28,201.15\" style=\"stroke:#181818;stroke-width:1.0;\"/></a></g><!--MD5=[feeac5eb423634930294aa81f2d25a4c]\n",
       "link E10 to E3--><g id=\"link_E10_E3\"><a href=\"psysml:0dc69dec-387f-4606-9efc-6b8567a081cf\" target=\"_top\" title=\"psysml:0dc69dec-387f-4606-9efc-6b8567a081cf\" xlink:actuate=\"onRequest\" xlink:href=\"psysml:0dc69dec-387f-4606-9efc-6b8567a081cf\" xlink:show=\"new\" xlink:title=\"psysml:0dc69dec-387f-4606-9efc-6b8567a081cf\" xlink:type=\"simple\"><path d=\"M212.01,214.6 C224.61,205.81 240.66,194.62 255.98,183.93 \" fill=\"none\" id=\"E10-to-E3\" style=\"stroke:#181818;stroke-width:1.0;\"/><polygon fill=\"#FFFFFF\" points=\"272.76,172.23,261.1835,188.8428,253.1725,177.3614,272.76,172.23\" style=\"stroke:#181818;stroke-width:1.0;\"/><ellipse cx=\"255.3645\" cy=\"190.4642\" fill=\"#181818\" rx=\"2\" ry=\"2\" style=\"stroke:#181818;stroke-width:1.0;\"/><ellipse cx=\"249.6424\" cy=\"182.2632\" fill=\"#181818\" rx=\"2\" ry=\"2\" style=\"stroke:#181818;stroke-width:1.0;\"/></a></g><!--MD5=[1fc04a95fd77ad5ce46c1a3027516051]\n",
       "reverse link E9 to E11--><g id=\"link_E9_E11\"><a href=\"psysml:41147f3b-680c-4b19-9ea9-1ad0d7284d0b\" target=\"_top\" title=\"psysml:41147f3b-680c-4b19-9ea9-1ad0d7284d0b\" xlink:actuate=\"onRequest\" xlink:href=\"psysml:41147f3b-680c-4b19-9ea9-1ad0d7284d0b\" xlink:show=\"new\" xlink:title=\"psysml:41147f3b-680c-4b19-9ea9-1ad0d7284d0b\" xlink:type=\"simple\"><path d=\"M115.04,172.72 C131.44,167.05 149.14,160.93 162.82,156.19 \" fill=\"none\" id=\"E9-backto-E11\" style=\"stroke:#181818;stroke-width:1.0;\"/><polygon fill=\"none\" points=\"102.28,177.14,109.2589,178.9551,113.6186,173.2111,106.6396,171.396,102.28,177.14\" style=\"stroke:#181818;stroke-width:1.0;\"/></a></g><!--MD5=[0517f1ce58c4d5483948f93845c45e26]\n",
       "link E11 to E3--><g id=\"link_E11_E3\"><a href=\"psysml:86cba12c-5c0b-4cb2-8a0f-652783ee7e3b\" target=\"_top\" title=\"psysml:86cba12c-5c0b-4cb2-8a0f-652783ee7e3b\" xlink:actuate=\"onRequest\" xlink:href=\"psysml:86cba12c-5c0b-4cb2-8a0f-652783ee7e3b\" xlink:show=\"new\" xlink:title=\"psysml:86cba12c-5c0b-4cb2-8a0f-652783ee7e3b\" xlink:type=\"simple\"><path d=\"M212.01,148 C223.66,148 238.26,148 252.51,148 \" fill=\"none\" id=\"E11-to-E3\" style=\"stroke:#181818;stroke-width:1.0;\"/><polygon fill=\"#FFFFFF\" points=\"272.76,148,253.76,155,253.76,141,272.76,148\" style=\"stroke:#181818;stroke-width:1.0;\"/><ellipse cx=\"248.06\" cy=\"153\" fill=\"#181818\" rx=\"2\" ry=\"2\" style=\"stroke:#181818;stroke-width:1.0;\"/><ellipse cx=\"248.06\" cy=\"143\" fill=\"#181818\" rx=\"2\" ry=\"2\" style=\"stroke:#181818;stroke-width:1.0;\"/></a></g><!--MD5=[c9a0558764df4a9b48d38d952f0e68af]\n",
       "@startuml\r\n",
       "skin sysmlbw\r\n",
       "skinparam monochrome true\r\n",
       "skinparam wrapWidth 300\r\n",
       "hide circle\r\n",
       "left to right direction\r\n",
       "\r\n",
       "package \"ItemTest\" as E1  [[psysml:b50080a1-e82f-4c80-9a3f-5d66ab4e7e23 ]]  {\r\n",
       "comp usage \"f: A  \" as E2  <<(T,blue) item>> [[psysml:4d36820e-7c5e-46bd-9de5-e346cea54837 ]] {\r\n",
       "}\r\n",
       "comp def \"A\" as E3  <<(T,blue) item  def>> [[psysml:90a9c46f-1bc9-4470-bf4e-8ae555dfcfc9 ]] {\r\n",
       "}\r\n",
       "comp usage \"b: B  \" as E4  <<(T,blue) item>> [[psysml:d394e1d7-ba50-4340-ad50-ece704d14a42 ]] {\r\n",
       "}\r\n",
       "comp usage \"c: C  \" as E5  <<(T,blue) part>> [[psysml:af047218-2074-4cd5-be73-a9bc4fd53c73 ]] {\r\n",
       "}\r\n",
       "comp def \"<i>B</i>\" as E6  <<(T,blue) item  def>> [[psysml:24ac0b44-19f7-4e7e-9d8c-29217623109a ]] {\r\n",
       "}\r\n",
       "comp usage \"<i>a</i>: A  \" as E7  <<(T,blue) part>> [[psysml:f97762a5-be4a-40f0-b15f-ded6f9a0a2bf ]] {\r\n",
       "}\r\n",
       "comp def \"C\" as E8  <<(T,blue) part  def>> [[psysml:2119f9fa-e703-4679-adcc-c9e3fda7136e ]] {\r\n",
       "}\r\n",
       "comp def \"P\" as E9  <<(T,blue) port  def>> [[psysml:f9be0f9f-7828-47af-b676-a3098923450b ]] {\r\n",
       "}\r\n",
       "comp usage \"a1: A  \" as E10  <<(T,blue) item>> [[psysml:bdd21edf-ffb1-47e0-8301-b129ba721304 ]] {\r\n",
       "}\r\n",
       "comp usage \"a2: A  \" as E11  <<(T,blue) item>> [[psysml:ea86bb80-7fc3-4478-bdc0-15728142c0fa ]] {\r\n",
       "}\r\n",
       "}\r\n",
       "E2 - -:|> E3 [[psysml:358bd963-d6cf-4c51-9d97-dc29b520688f ]] \r\n",
       "E3 *- - E4 [[psysml:724ffe94-cfbf-4ea2-b315-6baf1a587f0c ]] \r\n",
       "E3 o- - E5 [[psysml:9c72d63b-be6b-487b-af19-53b3ed2c634b ]] \r\n",
       "E4 - -:|> E6 [[psysml:c1d845e5-90b4-4786-9172-2f85f48f902a ]] \r\n",
       "E6 *- - E7 [[psysml:ee76f7ce-c996-4988-9b1a-5ac16ad8d066 ]] \r\n",
       "E7 - -:|> E3 [[psysml:1cb41c8a-3888-4a6d-b592-33957295a7ee ]] \r\n",
       "E5 - -:|> E8 [[psysml:b2862137-6a73-49a4-ad0f-48652eafb24c ]] \r\n",
       "E8 o- - E3 [[psysml:764dcc5f-c791-44bd-8fe4-0cc6162433fb ]] : y\r\n",
       "E8 o- - E6 [[psysml:764dcc5f-c791-44bd-8fe4-0cc6162433fb ]] : y\r\n",
       "E9 o- - E10 [[psysml:1f369bef-866d-4201-85d0-19625ffb0bd4 ]] \r\n",
       "E10 - -:|> E3 [[psysml:0dc69dec-387f-4606-9efc-6b8567a081cf ]] \r\n",
       "E9 o- - E11 [[psysml:41147f3b-680c-4b19-9ea9-1ad0d7284d0b ]] \r\n",
       "E11 - -:|> E3 [[psysml:86cba12c-5c0b-4cb2-8a0f-652783ee7e3b ]] \r\n",
       "@enduml\r\n",
       "\n",
       "PlantUML version 1.2022.7(Mon Aug 22 17:01:30 UTC 2022)\n",
       "(EPL source distribution)\n",
       "Java Runtime: OpenJDK Runtime Environment\n",
       "JVM: OpenJDK 64-Bit Server VM\n",
       "Default Encoding: UTF-8\n",
       "Language: en\n",
       "Country: null\n",
       "--></g></svg>"
      ]
     },
     "execution_count": 16,
     "metadata": {},
     "output_type": "execute_result"
    }
   ],
   "source": [
    "%viz --style=\"LR\" --view=\"Default\" \"ItemTest\""
   ]
  },
  {
   "cell_type": "code",
   "execution_count": 17,
   "id": "2cd79dc6",
   "metadata": {
    "execution": {
     "iopub.execute_input": "2024-12-16T03:22:54.047993Z",
     "iopub.status.busy": "2024-12-16T03:22:54.047779Z",
     "iopub.status.idle": "2024-12-16T03:22:54.075783Z",
     "shell.execute_reply": "2024-12-16T03:22:54.075601Z"
    }
   },
   "outputs": [
    {
     "data": {
      "image/svg+xml": [
       "<?xml version=\"1.0\" encoding=\"UTF-8\" standalone=\"no\"?><svg xmlns=\"http://www.w3.org/2000/svg\" xmlns:xlink=\"http://www.w3.org/1999/xlink\" contentStyleType=\"text/css\" height=\"278px\" preserveAspectRatio=\"none\" style=\"width:896px;height:278px;background:#FFFFFF;\" version=\"1.1\" viewBox=\"0 0 896 278\" width=\"896px\" zoomAndPan=\"magnify\"><defs/><g><!--MD5=[fbc87193dbaf4d95561dea2c320d4a47]\n",
       "cluster E1--><g id=\"cluster_E1\"><a href=\"psysml:b50080a1-e82f-4c80-9a3f-5d66ab4e7e23\" target=\"_top\" title=\"psysml:b50080a1-e82f-4c80-9a3f-5d66ab4e7e23\" xlink:actuate=\"onRequest\" xlink:href=\"psysml:b50080a1-e82f-4c80-9a3f-5d66ab4e7e23\" xlink:show=\"new\" xlink:title=\"psysml:b50080a1-e82f-4c80-9a3f-5d66ab4e7e23\" xlink:type=\"simple\"><polygon fill=\"none\" points=\"16,6,86.5,6,93.5,28.2969,879,28.2969,879,271,16,271,16,6\" style=\"stroke:#000000;stroke-width:1.5;\"/><line style=\"stroke:#000000;stroke-width:1.5;\" x1=\"16\" x2=\"93.5\" y1=\"28.2969\" y2=\"28.2969\"/><text fill=\"#000000\" font-family=\"sans-serif\" font-size=\"14\" font-weight=\"bold\" lengthAdjust=\"spacing\" textLength=\"64.5\" x=\"20\" y=\"20.9951\">ItemTest</text></a></g><!--MD5=[b4997ac47864f28c2f74865a473b2911]\n",
       "class E2--><a href=\"psysml:4d36820e-7c5e-46bd-9de5-e346cea54837\" target=\"_top\" title=\"psysml:4d36820e-7c5e-46bd-9de5-e346cea54837\" xlink:actuate=\"onRequest\" xlink:href=\"psysml:4d36820e-7c5e-46bd-9de5-e346cea54837\" xlink:show=\"new\" xlink:title=\"psysml:4d36820e-7c5e-46bd-9de5-e346cea54837\" xlink:type=\"simple\"><g id=\"elem_E2\"><rect fill=\"#FFFFFF\" height=\"48.2656\" id=\"E2\" rx=\"10\" ry=\"10\" style=\"stroke:#181818;stroke-width:0.5;\" width=\"43\" x=\"166\" y=\"41\"/><text fill=\"#000000\" font-family=\"sans-serif\" font-size=\"12\" font-style=\"italic\" lengthAdjust=\"spacing\" textLength=\"41\" x=\"167\" y=\"57.1387\">«item»</text><text fill=\"#000000\" font-family=\"sans-serif\" font-size=\"14\" lengthAdjust=\"spacing\" textLength=\"22\" x=\"172.5\" y=\"72.9639\">f: A</text><line style=\"stroke:#181818;stroke-width:0.5;\" x1=\"167\" x2=\"208\" y1=\"81.2656\" y2=\"81.2656\"/></g></a><!--MD5=[09b614a08d8cba4a07c9adeb5e0fee81]\n",
       "class E3--><a href=\"psysml:90a9c46f-1bc9-4470-bf4e-8ae555dfcfc9\" target=\"_top\" title=\"psysml:90a9c46f-1bc9-4470-bf4e-8ae555dfcfc9\" xlink:actuate=\"onRequest\" xlink:href=\"psysml:90a9c46f-1bc9-4470-bf4e-8ae555dfcfc9\" xlink:show=\"new\" xlink:title=\"psysml:90a9c46f-1bc9-4470-bf4e-8ae555dfcfc9\" xlink:type=\"simple\"><g id=\"elem_E3\"><rect fill=\"#FFFFFF\" height=\"48.2656\" id=\"E3\" style=\"stroke:#181818;stroke-width:0.5;\" width=\"71\" x=\"273\" y=\"124\"/><text fill=\"#000000\" font-family=\"sans-serif\" font-size=\"12\" font-style=\"italic\" lengthAdjust=\"spacing\" textLength=\"69\" x=\"274\" y=\"140.1387\">«item  def»</text><text fill=\"#000000\" font-family=\"sans-serif\" font-size=\"14\" lengthAdjust=\"spacing\" textLength=\"9\" x=\"304\" y=\"155.9639\">A</text><line style=\"stroke:#181818;stroke-width:0.5;\" x1=\"274\" x2=\"343\" y1=\"164.2656\" y2=\"164.2656\"/></g></a><!--MD5=[ebbe1d658d1005bcc118a6aa81145e00]\n",
       "class E4--><a href=\"psysml:d394e1d7-ba50-4340-ad50-ece704d14a42\" target=\"_top\" title=\"psysml:d394e1d7-ba50-4340-ad50-ece704d14a42\" xlink:actuate=\"onRequest\" xlink:href=\"psysml:d394e1d7-ba50-4340-ad50-ece704d14a42\" xlink:show=\"new\" xlink:title=\"psysml:d394e1d7-ba50-4340-ad50-ece704d14a42\" xlink:type=\"simple\"><g id=\"elem_E4\"><rect fill=\"#FFFFFF\" height=\"48.2656\" id=\"E4\" rx=\"10\" ry=\"10\" style=\"stroke:#181818;stroke-width:0.5;\" width=\"43\" x=\"477\" y=\"196\"/><text fill=\"#000000\" font-family=\"sans-serif\" font-size=\"12\" font-style=\"italic\" lengthAdjust=\"spacing\" textLength=\"41\" x=\"478\" y=\"212.1387\">«item»</text><text fill=\"#000000\" font-family=\"sans-serif\" font-size=\"14\" lengthAdjust=\"spacing\" textLength=\"28\" x=\"480.5\" y=\"227.9639\">b: B</text><line style=\"stroke:#181818;stroke-width:0.5;\" x1=\"478\" x2=\"519\" y1=\"236.2656\" y2=\"236.2656\"/></g></a><!--MD5=[270fce915f116d4de14055a7c1d9a0f3]\n",
       "class E5--><a href=\"psysml:af047218-2074-4cd5-be73-a9bc4fd53c73\" target=\"_top\" title=\"psysml:af047218-2074-4cd5-be73-a9bc4fd53c73\" xlink:actuate=\"onRequest\" xlink:href=\"psysml:af047218-2074-4cd5-be73-a9bc4fd53c73\" xlink:show=\"new\" xlink:title=\"psysml:af047218-2074-4cd5-be73-a9bc4fd53c73\" xlink:type=\"simple\"><g id=\"elem_E5\"><rect fill=\"#FFFFFF\" height=\"48.2656\" id=\"E5\" rx=\"10\" ry=\"10\" style=\"stroke:#181818;stroke-width:0.5;\" width=\"42\" x=\"405\" y=\"80\"/><text fill=\"#000000\" font-family=\"sans-serif\" font-size=\"12\" font-style=\"italic\" lengthAdjust=\"spacing\" textLength=\"40\" x=\"406\" y=\"96.1387\">«part»</text><text fill=\"#000000\" font-family=\"sans-serif\" font-size=\"14\" lengthAdjust=\"spacing\" textLength=\"27\" x=\"408.5\" y=\"111.9639\">c: C</text><line style=\"stroke:#181818;stroke-width:0.5;\" x1=\"406\" x2=\"446\" y1=\"120.2656\" y2=\"120.2656\"/></g></a><!--MD5=[60a26617385b1d2d0262a64233df1f8d]\n",
       "class E6--><a href=\"psysml:24ac0b44-19f7-4e7e-9d8c-29217623109a\" target=\"_top\" title=\"psysml:24ac0b44-19f7-4e7e-9d8c-29217623109a\" xlink:actuate=\"onRequest\" xlink:href=\"psysml:24ac0b44-19f7-4e7e-9d8c-29217623109a\" xlink:show=\"new\" xlink:title=\"psysml:24ac0b44-19f7-4e7e-9d8c-29217623109a\" xlink:type=\"simple\"><g id=\"elem_E6\"><rect fill=\"#FFFFFF\" height=\"48.2656\" id=\"E6\" style=\"stroke:#181818;stroke-width:0.5;\" width=\"71\" x=\"689\" y=\"108\"/><text fill=\"#000000\" font-family=\"sans-serif\" font-size=\"12\" font-style=\"italic\" lengthAdjust=\"spacing\" textLength=\"69\" x=\"690\" y=\"124.1387\">«item  def»</text><text fill=\"#000000\" font-family=\"sans-serif\" font-size=\"14\" font-style=\"italic\" lengthAdjust=\"spacing\" textLength=\"10\" x=\"719.5\" y=\"139.9639\">B</text><line style=\"stroke:#181818;stroke-width:0.5;\" x1=\"690\" x2=\"759\" y1=\"148.2656\" y2=\"148.2656\"/></g></a><!--MD5=[2156ba9850f5573cc1fc38a6a4b2f02b]\n",
       "class E7--><a href=\"psysml:f97762a5-be4a-40f0-b15f-ded6f9a0a2bf\" target=\"_top\" title=\"psysml:f97762a5-be4a-40f0-b15f-ded6f9a0a2bf\" xlink:actuate=\"onRequest\" xlink:href=\"psysml:f97762a5-be4a-40f0-b15f-ded6f9a0a2bf\" xlink:show=\"new\" xlink:title=\"psysml:f97762a5-be4a-40f0-b15f-ded6f9a0a2bf\" xlink:type=\"simple\"><g id=\"elem_E7\"><rect fill=\"#FFFFFF\" height=\"48.2656\" id=\"E7\" rx=\"10\" ry=\"10\" style=\"stroke:#181818;stroke-width:0.5;\" width=\"42\" x=\"821\" y=\"74\"/><text fill=\"#000000\" font-family=\"sans-serif\" font-size=\"12\" font-style=\"italic\" lengthAdjust=\"spacing\" textLength=\"40\" x=\"822\" y=\"90.1387\">«part»</text><text fill=\"#000000\" font-family=\"sans-serif\" font-size=\"14\" font-style=\"italic\" lengthAdjust=\"spacing\" textLength=\"8\" x=\"825\" y=\"105.9639\">a</text><text fill=\"#000000\" font-family=\"sans-serif\" font-size=\"14\" lengthAdjust=\"spacing\" textLength=\"18\" x=\"833\" y=\"105.9639\">: A</text><line style=\"stroke:#181818;stroke-width:0.5;\" x1=\"822\" x2=\"862\" y1=\"114.2656\" y2=\"114.2656\"/></g></a><!--MD5=[b9389687b975829384b498ac4b7476b2]\n",
       "class E8--><a href=\"psysml:2119f9fa-e703-4679-adcc-c9e3fda7136e\" target=\"_top\" title=\"psysml:2119f9fa-e703-4679-adcc-c9e3fda7136e\" xlink:actuate=\"onRequest\" xlink:href=\"psysml:2119f9fa-e703-4679-adcc-c9e3fda7136e\" xlink:show=\"new\" xlink:title=\"psysml:2119f9fa-e703-4679-adcc-c9e3fda7136e\" xlink:type=\"simple\"><g id=\"elem_E8\"><rect fill=\"#FFFFFF\" height=\"48.2656\" id=\"E8\" style=\"stroke:#181818;stroke-width:0.5;\" width=\"70\" x=\"550\" y=\"108\"/><text fill=\"#000000\" font-family=\"sans-serif\" font-size=\"12\" font-style=\"italic\" lengthAdjust=\"spacing\" textLength=\"68\" x=\"551\" y=\"124.1387\">«part  def»</text><text fill=\"#000000\" font-family=\"sans-serif\" font-size=\"14\" lengthAdjust=\"spacing\" textLength=\"10\" x=\"580\" y=\"139.9639\">C</text><line style=\"stroke:#181818;stroke-width:0.5;\" x1=\"551\" x2=\"619\" y1=\"148.2656\" y2=\"148.2656\"/></g></a><!--MD5=[fd4143e9d270a159db93a4ea2a975926]\n",
       "class E9--><a href=\"psysml:f9be0f9f-7828-47af-b676-a3098923450b\" target=\"_top\" title=\"psysml:f9be0f9f-7828-47af-b676-a3098923450b\" xlink:actuate=\"onRequest\" xlink:href=\"psysml:f9be0f9f-7828-47af-b676-a3098923450b\" xlink:show=\"new\" xlink:title=\"psysml:f9be0f9f-7828-47af-b676-a3098923450b\" xlink:type=\"simple\"><g id=\"elem_E9\"><rect fill=\"#FFFFFF\" height=\"48.2656\" id=\"E9\" style=\"stroke:#181818;stroke-width:0.5;\" width=\"70\" x=\"32\" y=\"165\"/><text fill=\"#000000\" font-family=\"sans-serif\" font-size=\"12\" font-style=\"italic\" lengthAdjust=\"spacing\" textLength=\"68\" x=\"33\" y=\"181.1387\">«port  def»</text><text fill=\"#000000\" font-family=\"sans-serif\" font-size=\"14\" lengthAdjust=\"spacing\" textLength=\"9\" x=\"62.5\" y=\"196.9639\">P</text><line style=\"stroke:#181818;stroke-width:0.5;\" x1=\"33\" x2=\"101\" y1=\"205.2656\" y2=\"205.2656\"/></g></a><!--MD5=[96f4274e9e20536e775497830990834d]\n",
       "class E10--><a href=\"psysml:bdd21edf-ffb1-47e0-8301-b129ba721304\" target=\"_top\" title=\"psysml:bdd21edf-ffb1-47e0-8301-b129ba721304\" xlink:actuate=\"onRequest\" xlink:href=\"psysml:bdd21edf-ffb1-47e0-8301-b129ba721304\" xlink:show=\"new\" xlink:title=\"psysml:bdd21edf-ffb1-47e0-8301-b129ba721304\" xlink:type=\"simple\"><g id=\"elem_E10\"><rect fill=\"#FFFFFF\" height=\"48.2656\" id=\"E10\" rx=\"10\" ry=\"10\" style=\"stroke:#181818;stroke-width:0.5;\" width=\"49\" x=\"163\" y=\"207\"/><text fill=\"#000000\" font-family=\"sans-serif\" font-size=\"12\" font-style=\"italic\" lengthAdjust=\"spacing\" textLength=\"41\" x=\"167\" y=\"223.1387\">«item»</text><text fill=\"#000000\" font-family=\"sans-serif\" font-size=\"14\" lengthAdjust=\"spacing\" textLength=\"35\" x=\"166\" y=\"238.9639\">a1: A</text><line style=\"stroke:#181818;stroke-width:0.5;\" x1=\"164\" x2=\"211\" y1=\"247.2656\" y2=\"247.2656\"/></g></a><!--MD5=[1dd1bfd58a279cf63c5f349dbc8fc6a1]\n",
       "class E11--><a href=\"psysml:ea86bb80-7fc3-4478-bdc0-15728142c0fa\" target=\"_top\" title=\"psysml:ea86bb80-7fc3-4478-bdc0-15728142c0fa\" xlink:actuate=\"onRequest\" xlink:href=\"psysml:ea86bb80-7fc3-4478-bdc0-15728142c0fa\" xlink:show=\"new\" xlink:title=\"psysml:ea86bb80-7fc3-4478-bdc0-15728142c0fa\" xlink:type=\"simple\"><g id=\"elem_E11\"><rect fill=\"#FFFFFF\" height=\"48.2656\" id=\"E11\" rx=\"10\" ry=\"10\" style=\"stroke:#181818;stroke-width:0.5;\" width=\"49\" x=\"163\" y=\"124\"/><text fill=\"#000000\" font-family=\"sans-serif\" font-size=\"12\" font-style=\"italic\" lengthAdjust=\"spacing\" textLength=\"41\" x=\"167\" y=\"140.1387\">«item»</text><text fill=\"#000000\" font-family=\"sans-serif\" font-size=\"14\" lengthAdjust=\"spacing\" textLength=\"35\" x=\"166\" y=\"155.9639\">a2: A</text><line style=\"stroke:#181818;stroke-width:0.5;\" x1=\"164\" x2=\"211\" y1=\"164.2656\" y2=\"164.2656\"/></g></a><!--MD5=[2720a5a1f2c3fca2055b230370638851]\n",
       "link E2 to E3--><g id=\"link_E2_E3\"><a href=\"psysml:358bd963-d6cf-4c51-9d97-dc29b520688f\" target=\"_top\" title=\"psysml:358bd963-d6cf-4c51-9d97-dc29b520688f\" xlink:actuate=\"onRequest\" xlink:href=\"psysml:358bd963-d6cf-4c51-9d97-dc29b520688f\" xlink:show=\"new\" xlink:title=\"psysml:358bd963-d6cf-4c51-9d97-dc29b520688f\" xlink:type=\"simple\"><path d=\"M209.23,79.46 C222.34,88.61 239.91,100.86 256.57,112.48 \" fill=\"none\" id=\"E2-to-E3\" style=\"stroke:#181818;stroke-width:1.0;\"/><polygon fill=\"#FFFFFF\" points=\"273.04,123.97,253.4504,118.8466,261.4568,107.3619,273.04,123.97\" style=\"stroke:#181818;stroke-width:1.0;\"/><ellipse cx=\"249.9183\" cy=\"113.9462\" fill=\"#181818\" rx=\"2\" ry=\"2\" style=\"stroke:#181818;stroke-width:1.0;\"/><ellipse cx=\"255.6371\" cy=\"105.7429\" fill=\"#181818\" rx=\"2\" ry=\"2\" style=\"stroke:#181818;stroke-width:1.0;\"/></a></g><!--MD5=[4672eba38e49728da53d11aeb285b987]\n",
       "reverse link E3 to E4--><g id=\"link_E3_E4\"><a href=\"psysml:724ffe94-cfbf-4ea2-b315-6baf1a587f0c\" target=\"_top\" title=\"psysml:724ffe94-cfbf-4ea2-b315-6baf1a587f0c\" xlink:actuate=\"onRequest\" xlink:href=\"psysml:724ffe94-cfbf-4ea2-b315-6baf1a587f0c\" xlink:show=\"new\" xlink:title=\"psysml:724ffe94-cfbf-4ea2-b315-6baf1a587f0c\" xlink:type=\"simple\"><path d=\"M340.61,181.21 C357.85,197.16 380.68,214.59 405,223 C428.54,231.14 457.48,228.32 476.66,224.83 \" fill=\"none\" id=\"E3-backto-E4\" style=\"stroke:#181818;stroke-width:1.0;\"/><polygon fill=\"#181818\" points=\"331.13,172.07,332.6703,179.1147,339.7655,180.4023,338.2252,173.3576,331.13,172.07\" style=\"stroke:#181818;stroke-width:1.0;\"/></a></g><!--MD5=[191cde3d490a3f6d7bb551fe3ddca469]\n",
       "reverse link E3 to E5--><g id=\"link_E3_E5\"><a href=\"psysml:9c72d63b-be6b-487b-af19-53b3ed2c634b\" target=\"_top\" title=\"psysml:9c72d63b-be6b-487b-af19-53b3ed2c634b\" xlink:actuate=\"onRequest\" xlink:href=\"psysml:9c72d63b-be6b-487b-af19-53b3ed2c634b\" xlink:show=\"new\" xlink:title=\"psysml:9c72d63b-be6b-487b-af19-53b3ed2c634b\" xlink:type=\"simple\"><path d=\"M356.66,130.03 C373.46,123.64 391.49,116.77 404.81,111.69 \" fill=\"none\" id=\"E3-backto-E5\" style=\"stroke:#181818;stroke-width:1.0;\"/><polygon fill=\"none\" points=\"344.15,134.8,351.1812,136.4006,355.363,130.5259,348.3318,128.9253,344.15,134.8\" style=\"stroke:#181818;stroke-width:1.0;\"/></a></g><!--MD5=[79568f1e445c3877b6a54524624ccc7d]\n",
       "link E4 to E6--><g id=\"link_E4_E6\"><a href=\"psysml:c1d845e5-90b4-4786-9172-2f85f48f902a\" target=\"_top\" title=\"psysml:c1d845e5-90b4-4786-9172-2f85f48f902a\" xlink:actuate=\"onRequest\" xlink:href=\"psysml:c1d845e5-90b4-4786-9172-2f85f48f902a\" xlink:show=\"new\" xlink:title=\"psysml:c1d845e5-90b4-4786-9172-2f85f48f902a\" xlink:type=\"simple\"><path d=\"M520.41,211.88 C544.45,202.54 585.1,186.72 620,173 C636.15,166.65 653.71,159.71 669.69,153.38 \" fill=\"none\" id=\"E4-to-E6\" style=\"stroke:#181818;stroke-width:1.0;\"/><polygon fill=\"#FFFFFF\" points=\"688.55,145.9,673.4781,159.4218,668.308,146.4114,688.55,145.9\" style=\"stroke:#181818;stroke-width:1.0;\"/><ellipse cx=\"667.4425\" cy=\"159.6682\" fill=\"#181818\" rx=\"2\" ry=\"2\" style=\"stroke:#181818;stroke-width:1.0;\"/><ellipse cx=\"663.7495\" cy=\"150.3751\" fill=\"#181818\" rx=\"2\" ry=\"2\" style=\"stroke:#181818;stroke-width:1.0;\"/></a></g><!--MD5=[3f50a3473f1dfb74d3f76443e03635af]\n",
       "reverse link E6 to E7--><g id=\"link_E6_E7\"><a href=\"psysml:ee76f7ce-c996-4988-9b1a-5ac16ad8d066\" target=\"_top\" title=\"psysml:ee76f7ce-c996-4988-9b1a-5ac16ad8d066\" xlink:actuate=\"onRequest\" xlink:href=\"psysml:ee76f7ce-c996-4988-9b1a-5ac16ad8d066\" xlink:show=\"new\" xlink:title=\"psysml:ee76f7ce-c996-4988-9b1a-5ac16ad8d066\" xlink:type=\"simple\"><path d=\"M772.66,118.12 C789.46,113.17 807.49,107.86 820.81,103.94 \" fill=\"none\" id=\"E6-backto-E7\" style=\"stroke:#181818;stroke-width:1.0;\"/><polygon fill=\"#181818\" points=\"760.15,121.8,767.0354,123.9428,771.6615,118.4111,764.7762,116.2684,760.15,121.8\" style=\"stroke:#181818;stroke-width:1.0;\"/></a></g><!--MD5=[14ccda38c055a5c0da953d572bc50960]\n",
       "link E7 to E3--><g id=\"link_E7_E3\"><a href=\"psysml:1cb41c8a-3888-4a6d-b592-33957295a7ee\" target=\"_top\" title=\"psysml:1cb41c8a-3888-4a6d-b592-33957295a7ee\" xlink:actuate=\"onRequest\" xlink:href=\"psysml:1cb41c8a-3888-4a6d-b592-33957295a7ee\" xlink:show=\"new\" xlink:title=\"psysml:1cb41c8a-3888-4a6d-b592-33957295a7ee\" xlink:type=\"simple\"><path d=\"M820.63,81.8 C798.54,65.89 761.58,44 725.5,44 C425,44 425,44 425,44 C385.67,44 353.69,77.71 333.43,106.75 \" fill=\"none\" id=\"E7-to-E3\" style=\"stroke:#181818;stroke-width:1.0;\"/><polygon fill=\"#FFFFFF\" points=\"322.38,123.88,326.8018,104.1202,338.5646,111.7121,322.38,123.88\" style=\"stroke:#181818;stroke-width:1.0;\"/><ellipse cx=\"331.5731\" cy=\"100.4156\" fill=\"#181818\" rx=\"2\" ry=\"2\" style=\"stroke:#181818;stroke-width:1.0;\"/><ellipse cx=\"339.9752\" cy=\"105.8384\" fill=\"#181818\" rx=\"2\" ry=\"2\" style=\"stroke:#181818;stroke-width:1.0;\"/></a></g><!--MD5=[dfaffb906826c3e5aca635516100ff21]\n",
       "link E5 to E8--><g id=\"link_E5_E8\"><a href=\"psysml:b2862137-6a73-49a4-ad0f-48652eafb24c\" target=\"_top\" title=\"psysml:b2862137-6a73-49a4-ad0f-48652eafb24c\" xlink:actuate=\"onRequest\" xlink:href=\"psysml:b2862137-6a73-49a4-ad0f-48652eafb24c\" xlink:show=\"new\" xlink:title=\"psysml:b2862137-6a73-49a4-ad0f-48652eafb24c\" xlink:type=\"simple\"><path d=\"M447.2,107.6 C468.06,111.32 501.5,117.29 530.1,122.39 \" fill=\"none\" id=\"E5-to-E8\" style=\"stroke:#181818;stroke-width:1.0;\"/><polygon fill=\"#FFFFFF\" points=\"549.82,125.9,529.8855,129.452,532.3459,115.6699,549.82,125.9\" style=\"stroke:#181818;stroke-width:1.0;\"/><ellipse cx=\"524.6257\" cy=\"126.4814\" fill=\"#181818\" rx=\"2\" ry=\"2\" style=\"stroke:#181818;stroke-width:1.0;\"/><ellipse cx=\"526.3831\" cy=\"116.637\" fill=\"#181818\" rx=\"2\" ry=\"2\" style=\"stroke:#181818;stroke-width:1.0;\"/></a></g><!--MD5=[03c8294790d3c57651a1993cecff665f]\n",
       "reverse link E8 to E3--><g id=\"link_E8_E3\"><a href=\"psysml:764dcc5f-c791-44bd-8fe4-0cc6162433fb\" target=\"_top\" title=\"psysml:764dcc5f-c791-44bd-8fe4-0cc6162433fb\" xlink:actuate=\"onRequest\" xlink:href=\"psysml:764dcc5f-c791-44bd-8fe4-0cc6162433fb\" xlink:show=\"new\" xlink:title=\"psysml:764dcc5f-c791-44bd-8fe4-0cc6162433fb\" xlink:type=\"simple\"><path d=\"M537.34,144.84 C511.03,151.41 477.44,158.71 447,162 C428.44,164.01 423.62,163.36 405,162 C384.78,160.53 362.34,157.32 344.29,154.34 \" fill=\"none\" id=\"E8-backto-E3\" style=\"stroke:#181818;stroke-width:1.0;\"/><polygon fill=\"none\" points=\"549.99,141.59,543.1849,139.2045,538.3655,144.5686,545.1706,146.9541,549.99,141.59\" style=\"stroke:#181818;stroke-width:1.0;\"/><text fill=\"#000000\" font-family=\"sans-serif\" font-size=\"13\" lengthAdjust=\"spacing\" textLength=\"7\" x=\"422.5\" y=\"158.0669\">y</text></a></g><!--MD5=[0d75d2178373a6a4568e5dc728f58aef]\n",
       "reverse link E8 to E6--><g id=\"link_E8_E6\"><a href=\"psysml:764dcc5f-c791-44bd-8fe4-0cc6162433fb\" target=\"_top\" title=\"psysml:764dcc5f-c791-44bd-8fe4-0cc6162433fb\" xlink:actuate=\"onRequest\" xlink:href=\"psysml:764dcc5f-c791-44bd-8fe4-0cc6162433fb\" xlink:show=\"new\" xlink:title=\"psysml:764dcc5f-c791-44bd-8fe4-0cc6162433fb\" xlink:type=\"simple\"><path d=\"M633.39,132 C651.53,132 671.88,132 688.64,132 \" fill=\"none\" id=\"E8-backto-E6\" style=\"stroke:#181818;stroke-width:1.0;\"/><polygon fill=\"none\" points=\"620.34,132,626.34,136,632.34,132,626.34,128,620.34,132\" style=\"stroke:#181818;stroke-width:1.0;\"/><text fill=\"#000000\" font-family=\"sans-serif\" font-size=\"13\" lengthAdjust=\"spacing\" textLength=\"7\" x=\"651\" y=\"128.0669\">y</text></a></g><!--MD5=[23ac544a70576c3e717098101004234c]\n",
       "reverse link E9 to E10--><g id=\"link_E9_E10\"><a href=\"psysml:1f369bef-866d-4201-85d0-19625ffb0bd4\" target=\"_top\" title=\"psysml:1f369bef-866d-4201-85d0-19625ffb0bd4\" xlink:actuate=\"onRequest\" xlink:href=\"psysml:1f369bef-866d-4201-85d0-19625ffb0bd4\" xlink:show=\"new\" xlink:title=\"psysml:1f369bef-866d-4201-85d0-19625ffb0bd4\" xlink:type=\"simple\"><path d=\"M114.56,205.5 C131.09,211.36 149,217.71 162.82,222.61 \" fill=\"none\" id=\"E9-backto-E10\" style=\"stroke:#181818;stroke-width:1.0;\"/><polygon fill=\"none\" points=\"102.28,201.15,106.5996,206.9242,113.591,205.1576,109.2714,199.3835,102.28,201.15\" style=\"stroke:#181818;stroke-width:1.0;\"/></a></g><!--MD5=[feeac5eb423634930294aa81f2d25a4c]\n",
       "link E10 to E3--><g id=\"link_E10_E3\"><a href=\"psysml:0dc69dec-387f-4606-9efc-6b8567a081cf\" target=\"_top\" title=\"psysml:0dc69dec-387f-4606-9efc-6b8567a081cf\" xlink:actuate=\"onRequest\" xlink:href=\"psysml:0dc69dec-387f-4606-9efc-6b8567a081cf\" xlink:show=\"new\" xlink:title=\"psysml:0dc69dec-387f-4606-9efc-6b8567a081cf\" xlink:type=\"simple\"><path d=\"M212.01,214.6 C224.61,205.81 240.66,194.62 255.98,183.93 \" fill=\"none\" id=\"E10-to-E3\" style=\"stroke:#181818;stroke-width:1.0;\"/><polygon fill=\"#FFFFFF\" points=\"272.76,172.23,261.1835,188.8428,253.1725,177.3614,272.76,172.23\" style=\"stroke:#181818;stroke-width:1.0;\"/><ellipse cx=\"255.3645\" cy=\"190.4642\" fill=\"#181818\" rx=\"2\" ry=\"2\" style=\"stroke:#181818;stroke-width:1.0;\"/><ellipse cx=\"249.6424\" cy=\"182.2632\" fill=\"#181818\" rx=\"2\" ry=\"2\" style=\"stroke:#181818;stroke-width:1.0;\"/></a></g><!--MD5=[1fc04a95fd77ad5ce46c1a3027516051]\n",
       "reverse link E9 to E11--><g id=\"link_E9_E11\"><a href=\"psysml:41147f3b-680c-4b19-9ea9-1ad0d7284d0b\" target=\"_top\" title=\"psysml:41147f3b-680c-4b19-9ea9-1ad0d7284d0b\" xlink:actuate=\"onRequest\" xlink:href=\"psysml:41147f3b-680c-4b19-9ea9-1ad0d7284d0b\" xlink:show=\"new\" xlink:title=\"psysml:41147f3b-680c-4b19-9ea9-1ad0d7284d0b\" xlink:type=\"simple\"><path d=\"M115.04,172.72 C131.44,167.05 149.14,160.93 162.82,156.19 \" fill=\"none\" id=\"E9-backto-E11\" style=\"stroke:#181818;stroke-width:1.0;\"/><polygon fill=\"none\" points=\"102.28,177.14,109.2589,178.9551,113.6186,173.2111,106.6396,171.396,102.28,177.14\" style=\"stroke:#181818;stroke-width:1.0;\"/></a></g><!--MD5=[0517f1ce58c4d5483948f93845c45e26]\n",
       "link E11 to E3--><g id=\"link_E11_E3\"><a href=\"psysml:86cba12c-5c0b-4cb2-8a0f-652783ee7e3b\" target=\"_top\" title=\"psysml:86cba12c-5c0b-4cb2-8a0f-652783ee7e3b\" xlink:actuate=\"onRequest\" xlink:href=\"psysml:86cba12c-5c0b-4cb2-8a0f-652783ee7e3b\" xlink:show=\"new\" xlink:title=\"psysml:86cba12c-5c0b-4cb2-8a0f-652783ee7e3b\" xlink:type=\"simple\"><path d=\"M212.01,148 C223.66,148 238.26,148 252.51,148 \" fill=\"none\" id=\"E11-to-E3\" style=\"stroke:#181818;stroke-width:1.0;\"/><polygon fill=\"#FFFFFF\" points=\"272.76,148,253.76,155,253.76,141,272.76,148\" style=\"stroke:#181818;stroke-width:1.0;\"/><ellipse cx=\"248.06\" cy=\"153\" fill=\"#181818\" rx=\"2\" ry=\"2\" style=\"stroke:#181818;stroke-width:1.0;\"/><ellipse cx=\"248.06\" cy=\"143\" fill=\"#181818\" rx=\"2\" ry=\"2\" style=\"stroke:#181818;stroke-width:1.0;\"/></a></g><!--MD5=[c9a0558764df4a9b48d38d952f0e68af]\n",
       "@startuml\r\n",
       "skin sysmlbw\r\n",
       "skinparam monochrome true\r\n",
       "skinparam wrapWidth 300\r\n",
       "hide circle\r\n",
       "left to right direction\r\n",
       "\r\n",
       "package \"ItemTest\" as E1  [[psysml:b50080a1-e82f-4c80-9a3f-5d66ab4e7e23 ]]  {\r\n",
       "comp usage \"f: A  \" as E2  <<(T,blue) item>> [[psysml:4d36820e-7c5e-46bd-9de5-e346cea54837 ]] {\r\n",
       "}\r\n",
       "comp def \"A\" as E3  <<(T,blue) item  def>> [[psysml:90a9c46f-1bc9-4470-bf4e-8ae555dfcfc9 ]] {\r\n",
       "}\r\n",
       "comp usage \"b: B  \" as E4  <<(T,blue) item>> [[psysml:d394e1d7-ba50-4340-ad50-ece704d14a42 ]] {\r\n",
       "}\r\n",
       "comp usage \"c: C  \" as E5  <<(T,blue) part>> [[psysml:af047218-2074-4cd5-be73-a9bc4fd53c73 ]] {\r\n",
       "}\r\n",
       "comp def \"<i>B</i>\" as E6  <<(T,blue) item  def>> [[psysml:24ac0b44-19f7-4e7e-9d8c-29217623109a ]] {\r\n",
       "}\r\n",
       "comp usage \"<i>a</i>: A  \" as E7  <<(T,blue) part>> [[psysml:f97762a5-be4a-40f0-b15f-ded6f9a0a2bf ]] {\r\n",
       "}\r\n",
       "comp def \"C\" as E8  <<(T,blue) part  def>> [[psysml:2119f9fa-e703-4679-adcc-c9e3fda7136e ]] {\r\n",
       "}\r\n",
       "comp def \"P\" as E9  <<(T,blue) port  def>> [[psysml:f9be0f9f-7828-47af-b676-a3098923450b ]] {\r\n",
       "}\r\n",
       "comp usage \"a1: A  \" as E10  <<(T,blue) item>> [[psysml:bdd21edf-ffb1-47e0-8301-b129ba721304 ]] {\r\n",
       "}\r\n",
       "comp usage \"a2: A  \" as E11  <<(T,blue) item>> [[psysml:ea86bb80-7fc3-4478-bdc0-15728142c0fa ]] {\r\n",
       "}\r\n",
       "}\r\n",
       "E2 - -:|> E3 [[psysml:358bd963-d6cf-4c51-9d97-dc29b520688f ]] \r\n",
       "E3 *- - E4 [[psysml:724ffe94-cfbf-4ea2-b315-6baf1a587f0c ]] \r\n",
       "E3 o- - E5 [[psysml:9c72d63b-be6b-487b-af19-53b3ed2c634b ]] \r\n",
       "E4 - -:|> E6 [[psysml:c1d845e5-90b4-4786-9172-2f85f48f902a ]] \r\n",
       "E6 *- - E7 [[psysml:ee76f7ce-c996-4988-9b1a-5ac16ad8d066 ]] \r\n",
       "E7 - -:|> E3 [[psysml:1cb41c8a-3888-4a6d-b592-33957295a7ee ]] \r\n",
       "E5 - -:|> E8 [[psysml:b2862137-6a73-49a4-ad0f-48652eafb24c ]] \r\n",
       "E8 o- - E3 [[psysml:764dcc5f-c791-44bd-8fe4-0cc6162433fb ]] : y\r\n",
       "E8 o- - E6 [[psysml:764dcc5f-c791-44bd-8fe4-0cc6162433fb ]] : y\r\n",
       "E9 o- - E10 [[psysml:1f369bef-866d-4201-85d0-19625ffb0bd4 ]] \r\n",
       "E10 - -:|> E3 [[psysml:0dc69dec-387f-4606-9efc-6b8567a081cf ]] \r\n",
       "E9 o- - E11 [[psysml:41147f3b-680c-4b19-9ea9-1ad0d7284d0b ]] \r\n",
       "E11 - -:|> E3 [[psysml:86cba12c-5c0b-4cb2-8a0f-652783ee7e3b ]] \r\n",
       "@enduml\r\n",
       "\n",
       "PlantUML version 1.2022.7(Mon Aug 22 17:01:30 UTC 2022)\n",
       "(EPL source distribution)\n",
       "Java Runtime: OpenJDK Runtime Environment\n",
       "JVM: OpenJDK 64-Bit Server VM\n",
       "Default Encoding: UTF-8\n",
       "Language: en\n",
       "Country: null\n",
       "--></g></svg>"
      ]
     },
     "execution_count": 17,
     "metadata": {},
     "output_type": "execute_result"
    }
   ],
   "source": [
    "%viz --style=\"LR\" --view=\"Tree\" \"ItemTest\""
   ]
  },
  {
   "cell_type": "code",
   "execution_count": 18,
   "id": "93554be4",
   "metadata": {
    "execution": {
     "iopub.execute_input": "2024-12-16T03:22:54.126910Z",
     "iopub.status.busy": "2024-12-16T03:22:54.126683Z",
     "iopub.status.idle": "2024-12-16T03:22:54.132391Z",
     "shell.execute_reply": "2024-12-16T03:22:54.132129Z"
    }
   },
   "outputs": [
    {
     "data": {
      "image/svg+xml": [
       "<?xml version=\"1.0\" encoding=\"UTF-8\" standalone=\"no\"?><svg xmlns=\"http://www.w3.org/2000/svg\" xmlns:xlink=\"http://www.w3.org/1999/xlink\" contentStyleType=\"text/css\" height=\"10px\" preserveAspectRatio=\"none\" style=\"width:10px;height:10px;background:#FFFFFF;\" version=\"1.1\" viewBox=\"0 0 10 10\" width=\"10px\" zoomAndPan=\"magnify\"><defs/><g><!--MD5=[fb420fbd7a91d32138f4344b927a323c]\n",
       "@startuml\r\n",
       "skin sysmlbw\r\n",
       "skinparam monochrome true\r\n",
       "skinparam wrapWidth 300\r\n",
       "hide circle\r\n",
       "left to right direction\r\n",
       "\r\n",
       "@enduml\r\n",
       "\n",
       "PlantUML version 1.2022.7(Mon Aug 22 17:01:30 UTC 2022)\n",
       "(EPL source distribution)\n",
       "Java Runtime: OpenJDK Runtime Environment\n",
       "JVM: OpenJDK 64-Bit Server VM\n",
       "Default Encoding: UTF-8\n",
       "Language: en\n",
       "Country: null\n",
       "--></g></svg>"
      ]
     },
     "execution_count": 18,
     "metadata": {},
     "output_type": "execute_result"
    }
   ],
   "source": [
    "%viz --style=\"LR\" --view=\"State\" \"ItemTest\""
   ]
  },
  {
   "cell_type": "code",
   "execution_count": 19,
   "id": "71732f82",
   "metadata": {
    "execution": {
     "iopub.execute_input": "2024-12-16T03:22:54.185443Z",
     "iopub.status.busy": "2024-12-16T03:22:54.185243Z",
     "iopub.status.idle": "2024-12-16T03:22:54.201412Z",
     "shell.execute_reply": "2024-12-16T03:22:54.200748Z"
    }
   },
   "outputs": [
    {
     "data": {
      "image/svg+xml": [
       "<?xml version=\"1.0\" encoding=\"UTF-8\" standalone=\"no\"?><svg xmlns=\"http://www.w3.org/2000/svg\" xmlns:xlink=\"http://www.w3.org/1999/xlink\" contentStyleType=\"text/css\" height=\"409px\" preserveAspectRatio=\"none\" style=\"width:279px;height:409px;background:#FFFFFF;\" version=\"1.1\" viewBox=\"0 0 279 409\" width=\"279px\" zoomAndPan=\"magnify\"><defs/><g><!--MD5=[fbc87193dbaf4d95561dea2c320d4a47]\n",
       "cluster E1--><g id=\"cluster_E1\"><a href=\"psysml:b50080a1-e82f-4c80-9a3f-5d66ab4e7e23\" target=\"_top\" title=\"psysml:b50080a1-e82f-4c80-9a3f-5d66ab4e7e23\" xlink:actuate=\"onRequest\" xlink:href=\"psysml:b50080a1-e82f-4c80-9a3f-5d66ab4e7e23\" xlink:show=\"new\" xlink:title=\"psysml:b50080a1-e82f-4c80-9a3f-5d66ab4e7e23\" xlink:type=\"simple\"><polygon fill=\"none\" points=\"16,6,86.5,6,93.5,28.2969,262,28.2969,262,402,16,402,16,6\" style=\"stroke:#000000;stroke-width:1.5;\"/><line style=\"stroke:#000000;stroke-width:1.5;\" x1=\"16\" x2=\"93.5\" y1=\"28.2969\" y2=\"28.2969\"/><text fill=\"#000000\" font-family=\"sans-serif\" font-size=\"14\" font-weight=\"bold\" lengthAdjust=\"spacing\" textLength=\"64.5\" x=\"20\" y=\"20.9951\">ItemTest</text></a></g><!--MD5=[de5ec2e2e8f62f467e546659f5068c88]\n",
       "cluster E5--><g id=\"cluster_E5\"><a href=\"psysml:2119f9fa-e703-4679-adcc-c9e3fda7136e\" target=\"_top\" title=\"psysml:2119f9fa-e703-4679-adcc-c9e3fda7136e\" xlink:actuate=\"onRequest\" xlink:href=\"psysml:2119f9fa-e703-4679-adcc-c9e3fda7136e\" xlink:show=\"new\" xlink:title=\"psysml:2119f9fa-e703-4679-adcc-c9e3fda7136e\" xlink:type=\"simple\"><rect fill=\"#FFFFFF\" height=\"113\" id=\"E5\" style=\"stroke:#383838;stroke-width:1.5;\" width=\"114\" x=\"40\" y=\"49\"/><text fill=\"#000000\" font-family=\"sans-serif\" font-size=\"12\" font-style=\"italic\" lengthAdjust=\"spacing\" textLength=\"68\" x=\"63\" y=\"65.1387\">«part  def»</text><text fill=\"#000000\" font-family=\"sans-serif\" font-size=\"14\" lengthAdjust=\"spacing\" textLength=\"10\" x=\"92\" y=\"80.9639\">C</text><line style=\"stroke:#383838;stroke-width:1.0;\" x1=\"40\" x2=\"154\" y1=\"89.2656\" y2=\"89.2656\"/></a></g><g><a href=\"psysml:90a9c46f-1bc9-4470-bf4e-8ae555dfcfc9\" target=\"_top\" title=\"psysml:90a9c46f-1bc9-4470-bf4e-8ae555dfcfc9\" xlink:actuate=\"onRequest\" xlink:href=\"psysml:90a9c46f-1bc9-4470-bf4e-8ae555dfcfc9\" xlink:show=\"new\" xlink:title=\"psysml:90a9c46f-1bc9-4470-bf4e-8ae555dfcfc9\" xlink:type=\"simple\"><rect fill=\"#FFFFFF\" height=\"45.2656\" id=\"E3\" style=\"stroke:#383838;stroke-width:1.5;\" width=\"76\" x=\"170\" y=\"340.5\"/><text fill=\"#000000\" font-family=\"sans-serif\" font-size=\"12\" font-style=\"italic\" lengthAdjust=\"spacing\" textLength=\"69\" x=\"173.5\" y=\"356.6387\">«item  def»</text><text fill=\"#000000\" font-family=\"sans-serif\" font-size=\"14\" lengthAdjust=\"spacing\" textLength=\"9\" x=\"203.5\" y=\"372.4639\">A</text></a></g><g><a href=\"psysml:24ac0b44-19f7-4e7e-9d8c-29217623109a\" target=\"_top\" title=\"psysml:24ac0b44-19f7-4e7e-9d8c-29217623109a\" xlink:actuate=\"onRequest\" xlink:href=\"psysml:24ac0b44-19f7-4e7e-9d8c-29217623109a\" xlink:show=\"new\" xlink:title=\"psysml:24ac0b44-19f7-4e7e-9d8c-29217623109a\" xlink:type=\"simple\"><rect fill=\"#FFFFFF\" height=\"45.2656\" id=\"E4\" style=\"stroke:#383838;stroke-width:1.5;\" width=\"76\" x=\"59\" y=\"180.5\"/><text fill=\"#000000\" font-family=\"sans-serif\" font-size=\"12\" font-style=\"italic\" lengthAdjust=\"spacing\" textLength=\"69\" x=\"62.5\" y=\"196.6387\">«item  def»</text><text fill=\"#000000\" font-family=\"sans-serif\" font-size=\"14\" font-style=\"italic\" lengthAdjust=\"spacing\" textLength=\"10\" x=\"92\" y=\"212.4639\">B</text></a></g><g><a href=\"psysml:f9be0f9f-7828-47af-b676-a3098923450b\" target=\"_top\" title=\"psysml:f9be0f9f-7828-47af-b676-a3098923450b\" xlink:actuate=\"onRequest\" xlink:href=\"psysml:f9be0f9f-7828-47af-b676-a3098923450b\" xlink:show=\"new\" xlink:title=\"psysml:f9be0f9f-7828-47af-b676-a3098923450b\" xlink:type=\"simple\"><rect fill=\"#FFFFFF\" height=\"45.2656\" id=\"E7\" style=\"stroke:#383838;stroke-width:1.5;\" width=\"75\" x=\"59.5\" y=\"260.5\"/><text fill=\"#000000\" font-family=\"sans-serif\" font-size=\"12\" font-style=\"italic\" lengthAdjust=\"spacing\" textLength=\"68\" x=\"63\" y=\"276.6387\">«port  def»</text><text fill=\"#000000\" font-family=\"sans-serif\" font-size=\"14\" lengthAdjust=\"spacing\" textLength=\"9\" x=\"92.5\" y=\"292.4639\">P</text></a></g><g><a href=\"psysml:4d36820e-7c5e-46bd-9de5-e346cea54837\" target=\"_top\" title=\"psysml:4d36820e-7c5e-46bd-9de5-e346cea54837\" xlink:actuate=\"onRequest\" xlink:href=\"psysml:4d36820e-7c5e-46bd-9de5-e346cea54837\" xlink:show=\"new\" xlink:title=\"psysml:4d36820e-7c5e-46bd-9de5-e346cea54837\" xlink:type=\"simple\"><rect fill=\"#FFFFFF\" height=\"45.2656\" id=\"E2\" rx=\"10\" ry=\"10\" style=\"stroke:#383838;stroke-width:1.5;\" width=\"50\" x=\"72\" y=\"340.5\"/><text fill=\"#000000\" font-family=\"sans-serif\" font-size=\"12\" font-style=\"italic\" lengthAdjust=\"spacing\" textLength=\"41\" x=\"76.5\" y=\"356.6387\">«item»</text><text fill=\"#000000\" font-family=\"sans-serif\" font-size=\"14\" lengthAdjust=\"spacing\" textLength=\"22\" x=\"86\" y=\"372.4639\">f: A</text></a></g><g><a href=\"psysml:764dcc5f-c791-44bd-8fe4-0cc6162433fb\" target=\"_top\" title=\"psysml:764dcc5f-c791-44bd-8fe4-0cc6162433fb\" xlink:actuate=\"onRequest\" xlink:href=\"psysml:764dcc5f-c791-44bd-8fe4-0cc6162433fb\" xlink:show=\"new\" xlink:title=\"psysml:764dcc5f-c791-44bd-8fe4-0cc6162433fb\" xlink:type=\"simple\"><rect fill=\"#FFFFFF\" height=\"45.2656\" id=\"E6\" rx=\"10\" ry=\"10\" style=\"stroke:#383838;stroke-width:1.5;\" width=\"82\" x=\"56\" y=\"100.5\"/><text fill=\"#000000\" font-family=\"sans-serif\" font-size=\"12\" font-style=\"italic\" lengthAdjust=\"spacing\" textLength=\"75\" x=\"59.5\" y=\"116.6387\">«reference»</text><text fill=\"#000000\" font-family=\"sans-serif\" font-size=\"14\" lengthAdjust=\"spacing\" textLength=\"43\" x=\"71.5\" y=\"132.4639\">y: A, B</text></a></g><!--MD5=[2720a5a1f2c3fca2055b230370638851]\n",
       "link E2 to E3--><g id=\"link_E2_E3\"><a href=\"psysml:358bd963-d6cf-4c51-9d97-dc29b520688f\" target=\"_top\" title=\"psysml:358bd963-d6cf-4c51-9d97-dc29b520688f\" xlink:actuate=\"onRequest\" xlink:href=\"psysml:358bd963-d6cf-4c51-9d97-dc29b520688f\" xlink:show=\"new\" xlink:title=\"psysml:358bd963-d6cf-4c51-9d97-dc29b520688f\" xlink:type=\"simple\"><path d=\"M122.19,363 C130.35,363 139.84,363 149.45,363 \" fill=\"none\" id=\"E2-to-E3\" style=\"stroke:#181818;stroke-width:1.0;\"/><polygon fill=\"#FFFFFF\" points=\"169.6,363,150.6,370,150.6,356,169.6,363\" style=\"stroke:#181818;stroke-width:1.0;\"/><ellipse cx=\"144.9\" cy=\"368\" fill=\"#181818\" rx=\"2\" ry=\"2\" style=\"stroke:#181818;stroke-width:1.0;\"/><ellipse cx=\"144.9\" cy=\"358\" fill=\"#181818\" rx=\"2\" ry=\"2\" style=\"stroke:#181818;stroke-width:1.0;\"/></a></g><!--MD5=[cfc6c6b9f33a2c8109961cd424313fcc]\n",
       "@startuml\r\n",
       "skin sysmlbw\r\n",
       "skinparam monochrome true\r\n",
       "skinparam wrapWidth 300\r\n",
       "hide circle\r\n",
       "left to right direction\r\n",
       "skinparam ranksep 10\r\n",
       "skinparam rectangle {\r\n",
       " backgroundColor<<block>> LightGreen\r\n",
       "}\r\n",
       "\r\n",
       "package \"ItemTest\" as E1  [[psysml:b50080a1-e82f-4c80-9a3f-5d66ab4e7e23 ]]  {\r\n",
       "rec usage \"f: A\" as E2  <<(T,blue) item>> [[psysml:4d36820e-7c5e-46bd-9de5-e346cea54837 ]] {\r\n",
       "}\r\n",
       "def \"A\" as E3  <<(T,blue) item  def>> [[psysml:90a9c46f-1bc9-4470-bf4e-8ae555dfcfc9 ]] \r\n",
       "def \"<i>B</i>\" as E4  <<(T,blue) item  def>> [[psysml:24ac0b44-19f7-4e7e-9d8c-29217623109a ]] \r\n",
       "rec def \"C\" as E5  <<(T,blue) part  def>> [[psysml:2119f9fa-e703-4679-adcc-c9e3fda7136e ]] {\r\n",
       "rec usage \"y: A, B  \" as E6  <<(T,blue) reference>> [[psysml:764dcc5f-c791-44bd-8fe4-0cc6162433fb ]] {\r\n",
       "}\r\n",
       "\r\n",
       "}\r\n",
       "def \"P\" as E7  <<(T,blue) port  def>> [[psysml:f9be0f9f-7828-47af-b676-a3098923450b ]] \r\n",
       "}\r\n",
       "E2 - -:|> E3 [[psysml:358bd963-d6cf-4c51-9d97-dc29b520688f ]] \r\n",
       "@enduml\r\n",
       "\n",
       "PlantUML version 1.2022.7(Mon Aug 22 17:01:30 UTC 2022)\n",
       "(EPL source distribution)\n",
       "Java Runtime: OpenJDK Runtime Environment\n",
       "JVM: OpenJDK 64-Bit Server VM\n",
       "Default Encoding: UTF-8\n",
       "Language: en\n",
       "Country: null\n",
       "--></g></svg>"
      ]
     },
     "execution_count": 19,
     "metadata": {},
     "output_type": "execute_result"
    }
   ],
   "source": [
    "%viz --style=\"LR\" --view=\"Interconnection\" \"ItemTest\""
   ]
  },
  {
   "cell_type": "code",
   "execution_count": 20,
   "id": "674249bf",
   "metadata": {
    "execution": {
     "iopub.execute_input": "2024-12-16T03:22:54.254479Z",
     "iopub.status.busy": "2024-12-16T03:22:54.254249Z",
     "iopub.status.idle": "2024-12-16T03:22:54.258894Z",
     "shell.execute_reply": "2024-12-16T03:22:54.258709Z"
    }
   },
   "outputs": [
    {
     "data": {
      "image/svg+xml": [
       "<?xml version=\"1.0\" encoding=\"UTF-8\" standalone=\"no\"?><svg xmlns=\"http://www.w3.org/2000/svg\" xmlns:xlink=\"http://www.w3.org/1999/xlink\" contentStyleType=\"text/css\" height=\"10px\" preserveAspectRatio=\"none\" style=\"width:10px;height:10px;background:#FFFFFF;\" version=\"1.1\" viewBox=\"0 0 10 10\" width=\"10px\" zoomAndPan=\"magnify\"><defs/><g><!--MD5=[a45826aa31d3f335355a0e6fe4d8f867]\n",
       "@startuml\r\n",
       "skin sysmlbw\r\n",
       "skinparam monochrome true\r\n",
       "skinparam wrapWidth 300\r\n",
       "hide circle\r\n",
       "left to right direction\r\n",
       "skinparam ranksep 8\r\n",
       "\r\n",
       "@enduml\r\n",
       "\n",
       "PlantUML version 1.2022.7(Mon Aug 22 17:01:30 UTC 2022)\n",
       "(EPL source distribution)\n",
       "Java Runtime: OpenJDK Runtime Environment\n",
       "JVM: OpenJDK 64-Bit Server VM\n",
       "Default Encoding: UTF-8\n",
       "Language: en\n",
       "Country: null\n",
       "--></g></svg>"
      ]
     },
     "execution_count": 20,
     "metadata": {},
     "output_type": "execute_result"
    }
   ],
   "source": [
    "%viz --style=\"LR\" --view=\"Action\" \"ItemTest\""
   ]
  },
  {
   "cell_type": "code",
   "execution_count": 21,
   "id": "49c2a716",
   "metadata": {
    "execution": {
     "iopub.execute_input": "2024-12-16T03:22:54.314186Z",
     "iopub.status.busy": "2024-12-16T03:22:54.314010Z",
     "iopub.status.idle": "2024-12-16T03:22:54.319046Z",
     "shell.execute_reply": "2024-12-16T03:22:54.318867Z"
    }
   },
   "outputs": [
    {
     "data": {
      "image/svg+xml": [
       "<?xml version=\"1.0\" encoding=\"UTF-8\" standalone=\"no\"?><svg xmlns=\"http://www.w3.org/2000/svg\" xmlns:xlink=\"http://www.w3.org/1999/xlink\" contentStyleType=\"text/css\" height=\"10px\" preserveAspectRatio=\"none\" style=\"width:10px;height:10px;background:#FFFFFF;\" version=\"1.1\" viewBox=\"0 0 10 10\" width=\"10px\" zoomAndPan=\"magnify\"><defs/><g><!--MD5=[3d7abb46b795db4c9d99c7acf425de78]\n",
       "@startuml\r\n",
       "skin sysmlbw\r\n",
       "skinparam monochrome true\r\n",
       "skinparam wrapWidth 300\r\n",
       "hide circle\r\n",
       "left to right direction\r\n",
       "skinparam roundcorner 20\r\n",
       "skinparam BoxPadding 20\r\n",
       "skinparam SequenceBoxBackgroundColor #white\r\n",
       "skinparam style strictuml\r\n",
       "skinparam maxMessageSize 100\r\n",
       "\r\n",
       "@enduml\r\n",
       "\n",
       "PlantUML version 1.2022.7(Mon Aug 22 17:01:30 UTC 2022)\n",
       "(EPL source distribution)\n",
       "Java Runtime: OpenJDK Runtime Environment\n",
       "JVM: OpenJDK 64-Bit Server VM\n",
       "Default Encoding: UTF-8\n",
       "Language: en\n",
       "Country: null\n",
       "--></g></svg>"
      ]
     },
     "execution_count": 21,
     "metadata": {},
     "output_type": "execute_result"
    }
   ],
   "source": [
    "%viz --style=\"LR\" --view=\"Sequence\" \"ItemTest\""
   ]
  },
  {
   "cell_type": "code",
   "execution_count": 22,
   "id": "33003d92",
   "metadata": {
    "execution": {
     "iopub.execute_input": "2024-12-16T03:22:54.370892Z",
     "iopub.status.busy": "2024-12-16T03:22:54.370674Z",
     "iopub.status.idle": "2024-12-16T03:22:54.401707Z",
     "shell.execute_reply": "2024-12-16T03:22:54.400818Z"
    }
   },
   "outputs": [
    {
     "data": {
      "image/svg+xml": [
       "<?xml version=\"1.0\" encoding=\"UTF-8\" standalone=\"no\"?><svg xmlns=\"http://www.w3.org/2000/svg\" xmlns:xlink=\"http://www.w3.org/1999/xlink\" contentStyleType=\"text/css\" height=\"278px\" preserveAspectRatio=\"none\" style=\"width:896px;height:278px;background:#FFFFFF;\" version=\"1.1\" viewBox=\"0 0 896 278\" width=\"896px\" zoomAndPan=\"magnify\"><defs/><g><!--MD5=[fbc87193dbaf4d95561dea2c320d4a47]\n",
       "cluster E1--><g id=\"cluster_E1\"><a href=\"psysml:b50080a1-e82f-4c80-9a3f-5d66ab4e7e23\" target=\"_top\" title=\"psysml:b50080a1-e82f-4c80-9a3f-5d66ab4e7e23\" xlink:actuate=\"onRequest\" xlink:href=\"psysml:b50080a1-e82f-4c80-9a3f-5d66ab4e7e23\" xlink:show=\"new\" xlink:title=\"psysml:b50080a1-e82f-4c80-9a3f-5d66ab4e7e23\" xlink:type=\"simple\"><polygon fill=\"none\" points=\"16,6,86.5,6,93.5,28.2969,879,28.2969,879,271,16,271,16,6\" style=\"stroke:#000000;stroke-width:1.5;\"/><line style=\"stroke:#000000;stroke-width:1.5;\" x1=\"16\" x2=\"93.5\" y1=\"28.2969\" y2=\"28.2969\"/><text fill=\"#000000\" font-family=\"sans-serif\" font-size=\"14\" font-weight=\"bold\" lengthAdjust=\"spacing\" textLength=\"64.5\" x=\"20\" y=\"20.9951\">ItemTest</text></a></g><!--MD5=[b4997ac47864f28c2f74865a473b2911]\n",
       "class E2--><a href=\"psysml:4d36820e-7c5e-46bd-9de5-e346cea54837\" target=\"_top\" title=\"psysml:4d36820e-7c5e-46bd-9de5-e346cea54837\" xlink:actuate=\"onRequest\" xlink:href=\"psysml:4d36820e-7c5e-46bd-9de5-e346cea54837\" xlink:show=\"new\" xlink:title=\"psysml:4d36820e-7c5e-46bd-9de5-e346cea54837\" xlink:type=\"simple\"><g id=\"elem_E2\"><rect fill=\"#FFFFFF\" height=\"48.2656\" id=\"E2\" rx=\"10\" ry=\"10\" style=\"stroke:#181818;stroke-width:0.5;\" width=\"43\" x=\"166\" y=\"41\"/><text fill=\"#000000\" font-family=\"sans-serif\" font-size=\"12\" font-style=\"italic\" lengthAdjust=\"spacing\" textLength=\"41\" x=\"167\" y=\"57.1387\">«item»</text><text fill=\"#000000\" font-family=\"sans-serif\" font-size=\"14\" lengthAdjust=\"spacing\" textLength=\"22\" x=\"172.5\" y=\"72.9639\">f: A</text><line style=\"stroke:#181818;stroke-width:0.5;\" x1=\"167\" x2=\"208\" y1=\"81.2656\" y2=\"81.2656\"/></g></a><!--MD5=[09b614a08d8cba4a07c9adeb5e0fee81]\n",
       "class E3--><a href=\"psysml:90a9c46f-1bc9-4470-bf4e-8ae555dfcfc9\" target=\"_top\" title=\"psysml:90a9c46f-1bc9-4470-bf4e-8ae555dfcfc9\" xlink:actuate=\"onRequest\" xlink:href=\"psysml:90a9c46f-1bc9-4470-bf4e-8ae555dfcfc9\" xlink:show=\"new\" xlink:title=\"psysml:90a9c46f-1bc9-4470-bf4e-8ae555dfcfc9\" xlink:type=\"simple\"><g id=\"elem_E3\"><rect fill=\"#FFFFFF\" height=\"48.2656\" id=\"E3\" style=\"stroke:#181818;stroke-width:0.5;\" width=\"71\" x=\"273\" y=\"124\"/><text fill=\"#000000\" font-family=\"sans-serif\" font-size=\"12\" font-style=\"italic\" lengthAdjust=\"spacing\" textLength=\"69\" x=\"274\" y=\"140.1387\">«item  def»</text><text fill=\"#000000\" font-family=\"sans-serif\" font-size=\"14\" lengthAdjust=\"spacing\" textLength=\"9\" x=\"304\" y=\"155.9639\">A</text><line style=\"stroke:#181818;stroke-width:0.5;\" x1=\"274\" x2=\"343\" y1=\"164.2656\" y2=\"164.2656\"/></g></a><!--MD5=[ebbe1d658d1005bcc118a6aa81145e00]\n",
       "class E4--><a href=\"psysml:d394e1d7-ba50-4340-ad50-ece704d14a42\" target=\"_top\" title=\"psysml:d394e1d7-ba50-4340-ad50-ece704d14a42\" xlink:actuate=\"onRequest\" xlink:href=\"psysml:d394e1d7-ba50-4340-ad50-ece704d14a42\" xlink:show=\"new\" xlink:title=\"psysml:d394e1d7-ba50-4340-ad50-ece704d14a42\" xlink:type=\"simple\"><g id=\"elem_E4\"><rect fill=\"#FFFFFF\" height=\"48.2656\" id=\"E4\" rx=\"10\" ry=\"10\" style=\"stroke:#181818;stroke-width:0.5;\" width=\"43\" x=\"477\" y=\"196\"/><text fill=\"#000000\" font-family=\"sans-serif\" font-size=\"12\" font-style=\"italic\" lengthAdjust=\"spacing\" textLength=\"41\" x=\"478\" y=\"212.1387\">«item»</text><text fill=\"#000000\" font-family=\"sans-serif\" font-size=\"14\" lengthAdjust=\"spacing\" textLength=\"28\" x=\"480.5\" y=\"227.9639\">b: B</text><line style=\"stroke:#181818;stroke-width:0.5;\" x1=\"478\" x2=\"519\" y1=\"236.2656\" y2=\"236.2656\"/></g></a><!--MD5=[270fce915f116d4de14055a7c1d9a0f3]\n",
       "class E5--><a href=\"psysml:af047218-2074-4cd5-be73-a9bc4fd53c73\" target=\"_top\" title=\"psysml:af047218-2074-4cd5-be73-a9bc4fd53c73\" xlink:actuate=\"onRequest\" xlink:href=\"psysml:af047218-2074-4cd5-be73-a9bc4fd53c73\" xlink:show=\"new\" xlink:title=\"psysml:af047218-2074-4cd5-be73-a9bc4fd53c73\" xlink:type=\"simple\"><g id=\"elem_E5\"><rect fill=\"#FFFFFF\" height=\"48.2656\" id=\"E5\" rx=\"10\" ry=\"10\" style=\"stroke:#181818;stroke-width:0.5;\" width=\"42\" x=\"405\" y=\"80\"/><text fill=\"#000000\" font-family=\"sans-serif\" font-size=\"12\" font-style=\"italic\" lengthAdjust=\"spacing\" textLength=\"40\" x=\"406\" y=\"96.1387\">«part»</text><text fill=\"#000000\" font-family=\"sans-serif\" font-size=\"14\" lengthAdjust=\"spacing\" textLength=\"27\" x=\"408.5\" y=\"111.9639\">c: C</text><line style=\"stroke:#181818;stroke-width:0.5;\" x1=\"406\" x2=\"446\" y1=\"120.2656\" y2=\"120.2656\"/></g></a><!--MD5=[60a26617385b1d2d0262a64233df1f8d]\n",
       "class E6--><a href=\"psysml:24ac0b44-19f7-4e7e-9d8c-29217623109a\" target=\"_top\" title=\"psysml:24ac0b44-19f7-4e7e-9d8c-29217623109a\" xlink:actuate=\"onRequest\" xlink:href=\"psysml:24ac0b44-19f7-4e7e-9d8c-29217623109a\" xlink:show=\"new\" xlink:title=\"psysml:24ac0b44-19f7-4e7e-9d8c-29217623109a\" xlink:type=\"simple\"><g id=\"elem_E6\"><rect fill=\"#FFFFFF\" height=\"48.2656\" id=\"E6\" style=\"stroke:#181818;stroke-width:0.5;\" width=\"71\" x=\"689\" y=\"108\"/><text fill=\"#000000\" font-family=\"sans-serif\" font-size=\"12\" font-style=\"italic\" lengthAdjust=\"spacing\" textLength=\"69\" x=\"690\" y=\"124.1387\">«item  def»</text><text fill=\"#000000\" font-family=\"sans-serif\" font-size=\"14\" font-style=\"italic\" lengthAdjust=\"spacing\" textLength=\"10\" x=\"719.5\" y=\"139.9639\">B</text><line style=\"stroke:#181818;stroke-width:0.5;\" x1=\"690\" x2=\"759\" y1=\"148.2656\" y2=\"148.2656\"/></g></a><!--MD5=[2156ba9850f5573cc1fc38a6a4b2f02b]\n",
       "class E7--><a href=\"psysml:f97762a5-be4a-40f0-b15f-ded6f9a0a2bf\" target=\"_top\" title=\"psysml:f97762a5-be4a-40f0-b15f-ded6f9a0a2bf\" xlink:actuate=\"onRequest\" xlink:href=\"psysml:f97762a5-be4a-40f0-b15f-ded6f9a0a2bf\" xlink:show=\"new\" xlink:title=\"psysml:f97762a5-be4a-40f0-b15f-ded6f9a0a2bf\" xlink:type=\"simple\"><g id=\"elem_E7\"><rect fill=\"#FFFFFF\" height=\"48.2656\" id=\"E7\" rx=\"10\" ry=\"10\" style=\"stroke:#181818;stroke-width:0.5;\" width=\"42\" x=\"821\" y=\"74\"/><text fill=\"#000000\" font-family=\"sans-serif\" font-size=\"12\" font-style=\"italic\" lengthAdjust=\"spacing\" textLength=\"40\" x=\"822\" y=\"90.1387\">«part»</text><text fill=\"#000000\" font-family=\"sans-serif\" font-size=\"14\" font-style=\"italic\" lengthAdjust=\"spacing\" textLength=\"8\" x=\"825\" y=\"105.9639\">a</text><text fill=\"#000000\" font-family=\"sans-serif\" font-size=\"14\" lengthAdjust=\"spacing\" textLength=\"18\" x=\"833\" y=\"105.9639\">: A</text><line style=\"stroke:#181818;stroke-width:0.5;\" x1=\"822\" x2=\"862\" y1=\"114.2656\" y2=\"114.2656\"/></g></a><!--MD5=[b9389687b975829384b498ac4b7476b2]\n",
       "class E8--><a href=\"psysml:2119f9fa-e703-4679-adcc-c9e3fda7136e\" target=\"_top\" title=\"psysml:2119f9fa-e703-4679-adcc-c9e3fda7136e\" xlink:actuate=\"onRequest\" xlink:href=\"psysml:2119f9fa-e703-4679-adcc-c9e3fda7136e\" xlink:show=\"new\" xlink:title=\"psysml:2119f9fa-e703-4679-adcc-c9e3fda7136e\" xlink:type=\"simple\"><g id=\"elem_E8\"><rect fill=\"#FFFFFF\" height=\"48.2656\" id=\"E8\" style=\"stroke:#181818;stroke-width:0.5;\" width=\"70\" x=\"550\" y=\"108\"/><text fill=\"#000000\" font-family=\"sans-serif\" font-size=\"12\" font-style=\"italic\" lengthAdjust=\"spacing\" textLength=\"68\" x=\"551\" y=\"124.1387\">«part  def»</text><text fill=\"#000000\" font-family=\"sans-serif\" font-size=\"14\" lengthAdjust=\"spacing\" textLength=\"10\" x=\"580\" y=\"139.9639\">C</text><line style=\"stroke:#181818;stroke-width:0.5;\" x1=\"551\" x2=\"619\" y1=\"148.2656\" y2=\"148.2656\"/></g></a><!--MD5=[fd4143e9d270a159db93a4ea2a975926]\n",
       "class E9--><a href=\"psysml:f9be0f9f-7828-47af-b676-a3098923450b\" target=\"_top\" title=\"psysml:f9be0f9f-7828-47af-b676-a3098923450b\" xlink:actuate=\"onRequest\" xlink:href=\"psysml:f9be0f9f-7828-47af-b676-a3098923450b\" xlink:show=\"new\" xlink:title=\"psysml:f9be0f9f-7828-47af-b676-a3098923450b\" xlink:type=\"simple\"><g id=\"elem_E9\"><rect fill=\"#FFFFFF\" height=\"48.2656\" id=\"E9\" style=\"stroke:#181818;stroke-width:0.5;\" width=\"70\" x=\"32\" y=\"165\"/><text fill=\"#000000\" font-family=\"sans-serif\" font-size=\"12\" font-style=\"italic\" lengthAdjust=\"spacing\" textLength=\"68\" x=\"33\" y=\"181.1387\">«port  def»</text><text fill=\"#000000\" font-family=\"sans-serif\" font-size=\"14\" lengthAdjust=\"spacing\" textLength=\"9\" x=\"62.5\" y=\"196.9639\">P</text><line style=\"stroke:#181818;stroke-width:0.5;\" x1=\"33\" x2=\"101\" y1=\"205.2656\" y2=\"205.2656\"/></g></a><!--MD5=[96f4274e9e20536e775497830990834d]\n",
       "class E10--><a href=\"psysml:bdd21edf-ffb1-47e0-8301-b129ba721304\" target=\"_top\" title=\"psysml:bdd21edf-ffb1-47e0-8301-b129ba721304\" xlink:actuate=\"onRequest\" xlink:href=\"psysml:bdd21edf-ffb1-47e0-8301-b129ba721304\" xlink:show=\"new\" xlink:title=\"psysml:bdd21edf-ffb1-47e0-8301-b129ba721304\" xlink:type=\"simple\"><g id=\"elem_E10\"><rect fill=\"#FFFFFF\" height=\"48.2656\" id=\"E10\" rx=\"10\" ry=\"10\" style=\"stroke:#181818;stroke-width:0.5;\" width=\"49\" x=\"163\" y=\"207\"/><text fill=\"#000000\" font-family=\"sans-serif\" font-size=\"12\" font-style=\"italic\" lengthAdjust=\"spacing\" textLength=\"41\" x=\"167\" y=\"223.1387\">«item»</text><text fill=\"#000000\" font-family=\"sans-serif\" font-size=\"14\" lengthAdjust=\"spacing\" textLength=\"35\" x=\"166\" y=\"238.9639\">a1: A</text><line style=\"stroke:#181818;stroke-width:0.5;\" x1=\"164\" x2=\"211\" y1=\"247.2656\" y2=\"247.2656\"/></g></a><!--MD5=[1dd1bfd58a279cf63c5f349dbc8fc6a1]\n",
       "class E11--><a href=\"psysml:ea86bb80-7fc3-4478-bdc0-15728142c0fa\" target=\"_top\" title=\"psysml:ea86bb80-7fc3-4478-bdc0-15728142c0fa\" xlink:actuate=\"onRequest\" xlink:href=\"psysml:ea86bb80-7fc3-4478-bdc0-15728142c0fa\" xlink:show=\"new\" xlink:title=\"psysml:ea86bb80-7fc3-4478-bdc0-15728142c0fa\" xlink:type=\"simple\"><g id=\"elem_E11\"><rect fill=\"#FFFFFF\" height=\"48.2656\" id=\"E11\" rx=\"10\" ry=\"10\" style=\"stroke:#181818;stroke-width:0.5;\" width=\"49\" x=\"163\" y=\"124\"/><text fill=\"#000000\" font-family=\"sans-serif\" font-size=\"12\" font-style=\"italic\" lengthAdjust=\"spacing\" textLength=\"41\" x=\"167\" y=\"140.1387\">«item»</text><text fill=\"#000000\" font-family=\"sans-serif\" font-size=\"14\" lengthAdjust=\"spacing\" textLength=\"35\" x=\"166\" y=\"155.9639\">a2: A</text><line style=\"stroke:#181818;stroke-width:0.5;\" x1=\"164\" x2=\"211\" y1=\"164.2656\" y2=\"164.2656\"/></g></a><!--MD5=[2720a5a1f2c3fca2055b230370638851]\n",
       "link E2 to E3--><g id=\"link_E2_E3\"><a href=\"psysml:358bd963-d6cf-4c51-9d97-dc29b520688f\" target=\"_top\" title=\"psysml:358bd963-d6cf-4c51-9d97-dc29b520688f\" xlink:actuate=\"onRequest\" xlink:href=\"psysml:358bd963-d6cf-4c51-9d97-dc29b520688f\" xlink:show=\"new\" xlink:title=\"psysml:358bd963-d6cf-4c51-9d97-dc29b520688f\" xlink:type=\"simple\"><path d=\"M209.23,79.46 C222.34,88.61 239.91,100.86 256.57,112.48 \" fill=\"none\" id=\"E2-to-E3\" style=\"stroke:#181818;stroke-width:1.0;\"/><polygon fill=\"#FFFFFF\" points=\"273.04,123.97,253.4504,118.8466,261.4568,107.3619,273.04,123.97\" style=\"stroke:#181818;stroke-width:1.0;\"/><ellipse cx=\"249.9183\" cy=\"113.9462\" fill=\"#181818\" rx=\"2\" ry=\"2\" style=\"stroke:#181818;stroke-width:1.0;\"/><ellipse cx=\"255.6371\" cy=\"105.7429\" fill=\"#181818\" rx=\"2\" ry=\"2\" style=\"stroke:#181818;stroke-width:1.0;\"/></a></g><!--MD5=[4672eba38e49728da53d11aeb285b987]\n",
       "reverse link E3 to E4--><g id=\"link_E3_E4\"><a href=\"psysml:724ffe94-cfbf-4ea2-b315-6baf1a587f0c\" target=\"_top\" title=\"psysml:724ffe94-cfbf-4ea2-b315-6baf1a587f0c\" xlink:actuate=\"onRequest\" xlink:href=\"psysml:724ffe94-cfbf-4ea2-b315-6baf1a587f0c\" xlink:show=\"new\" xlink:title=\"psysml:724ffe94-cfbf-4ea2-b315-6baf1a587f0c\" xlink:type=\"simple\"><path d=\"M340.61,181.21 C357.85,197.16 380.68,214.59 405,223 C428.54,231.14 457.48,228.32 476.66,224.83 \" fill=\"none\" id=\"E3-backto-E4\" style=\"stroke:#181818;stroke-width:1.0;\"/><polygon fill=\"#181818\" points=\"331.13,172.07,332.6703,179.1147,339.7655,180.4023,338.2252,173.3576,331.13,172.07\" style=\"stroke:#181818;stroke-width:1.0;\"/></a></g><!--MD5=[191cde3d490a3f6d7bb551fe3ddca469]\n",
       "reverse link E3 to E5--><g id=\"link_E3_E5\"><a href=\"psysml:9c72d63b-be6b-487b-af19-53b3ed2c634b\" target=\"_top\" title=\"psysml:9c72d63b-be6b-487b-af19-53b3ed2c634b\" xlink:actuate=\"onRequest\" xlink:href=\"psysml:9c72d63b-be6b-487b-af19-53b3ed2c634b\" xlink:show=\"new\" xlink:title=\"psysml:9c72d63b-be6b-487b-af19-53b3ed2c634b\" xlink:type=\"simple\"><path d=\"M356.66,130.03 C373.46,123.64 391.49,116.77 404.81,111.69 \" fill=\"none\" id=\"E3-backto-E5\" style=\"stroke:#181818;stroke-width:1.0;\"/><polygon fill=\"none\" points=\"344.15,134.8,351.1812,136.4006,355.363,130.5259,348.3318,128.9253,344.15,134.8\" style=\"stroke:#181818;stroke-width:1.0;\"/></a></g><!--MD5=[79568f1e445c3877b6a54524624ccc7d]\n",
       "link E4 to E6--><g id=\"link_E4_E6\"><a href=\"psysml:c1d845e5-90b4-4786-9172-2f85f48f902a\" target=\"_top\" title=\"psysml:c1d845e5-90b4-4786-9172-2f85f48f902a\" xlink:actuate=\"onRequest\" xlink:href=\"psysml:c1d845e5-90b4-4786-9172-2f85f48f902a\" xlink:show=\"new\" xlink:title=\"psysml:c1d845e5-90b4-4786-9172-2f85f48f902a\" xlink:type=\"simple\"><path d=\"M520.41,211.88 C544.45,202.54 585.1,186.72 620,173 C636.15,166.65 653.71,159.71 669.69,153.38 \" fill=\"none\" id=\"E4-to-E6\" style=\"stroke:#181818;stroke-width:1.0;\"/><polygon fill=\"#FFFFFF\" points=\"688.55,145.9,673.4781,159.4218,668.308,146.4114,688.55,145.9\" style=\"stroke:#181818;stroke-width:1.0;\"/><ellipse cx=\"667.4425\" cy=\"159.6682\" fill=\"#181818\" rx=\"2\" ry=\"2\" style=\"stroke:#181818;stroke-width:1.0;\"/><ellipse cx=\"663.7495\" cy=\"150.3751\" fill=\"#181818\" rx=\"2\" ry=\"2\" style=\"stroke:#181818;stroke-width:1.0;\"/></a></g><!--MD5=[3f50a3473f1dfb74d3f76443e03635af]\n",
       "reverse link E6 to E7--><g id=\"link_E6_E7\"><a href=\"psysml:ee76f7ce-c996-4988-9b1a-5ac16ad8d066\" target=\"_top\" title=\"psysml:ee76f7ce-c996-4988-9b1a-5ac16ad8d066\" xlink:actuate=\"onRequest\" xlink:href=\"psysml:ee76f7ce-c996-4988-9b1a-5ac16ad8d066\" xlink:show=\"new\" xlink:title=\"psysml:ee76f7ce-c996-4988-9b1a-5ac16ad8d066\" xlink:type=\"simple\"><path d=\"M772.66,118.12 C789.46,113.17 807.49,107.86 820.81,103.94 \" fill=\"none\" id=\"E6-backto-E7\" style=\"stroke:#181818;stroke-width:1.0;\"/><polygon fill=\"#181818\" points=\"760.15,121.8,767.0354,123.9428,771.6615,118.4111,764.7762,116.2684,760.15,121.8\" style=\"stroke:#181818;stroke-width:1.0;\"/></a></g><!--MD5=[14ccda38c055a5c0da953d572bc50960]\n",
       "link E7 to E3--><g id=\"link_E7_E3\"><a href=\"psysml:1cb41c8a-3888-4a6d-b592-33957295a7ee\" target=\"_top\" title=\"psysml:1cb41c8a-3888-4a6d-b592-33957295a7ee\" xlink:actuate=\"onRequest\" xlink:href=\"psysml:1cb41c8a-3888-4a6d-b592-33957295a7ee\" xlink:show=\"new\" xlink:title=\"psysml:1cb41c8a-3888-4a6d-b592-33957295a7ee\" xlink:type=\"simple\"><path d=\"M820.63,81.8 C798.54,65.89 761.58,44 725.5,44 C425,44 425,44 425,44 C385.67,44 353.69,77.71 333.43,106.75 \" fill=\"none\" id=\"E7-to-E3\" style=\"stroke:#181818;stroke-width:1.0;\"/><polygon fill=\"#FFFFFF\" points=\"322.38,123.88,326.8018,104.1202,338.5646,111.7121,322.38,123.88\" style=\"stroke:#181818;stroke-width:1.0;\"/><ellipse cx=\"331.5731\" cy=\"100.4156\" fill=\"#181818\" rx=\"2\" ry=\"2\" style=\"stroke:#181818;stroke-width:1.0;\"/><ellipse cx=\"339.9752\" cy=\"105.8384\" fill=\"#181818\" rx=\"2\" ry=\"2\" style=\"stroke:#181818;stroke-width:1.0;\"/></a></g><!--MD5=[dfaffb906826c3e5aca635516100ff21]\n",
       "link E5 to E8--><g id=\"link_E5_E8\"><a href=\"psysml:b2862137-6a73-49a4-ad0f-48652eafb24c\" target=\"_top\" title=\"psysml:b2862137-6a73-49a4-ad0f-48652eafb24c\" xlink:actuate=\"onRequest\" xlink:href=\"psysml:b2862137-6a73-49a4-ad0f-48652eafb24c\" xlink:show=\"new\" xlink:title=\"psysml:b2862137-6a73-49a4-ad0f-48652eafb24c\" xlink:type=\"simple\"><path d=\"M447.2,107.6 C468.06,111.32 501.5,117.29 530.1,122.39 \" fill=\"none\" id=\"E5-to-E8\" style=\"stroke:#181818;stroke-width:1.0;\"/><polygon fill=\"#FFFFFF\" points=\"549.82,125.9,529.8855,129.452,532.3459,115.6699,549.82,125.9\" style=\"stroke:#181818;stroke-width:1.0;\"/><ellipse cx=\"524.6257\" cy=\"126.4814\" fill=\"#181818\" rx=\"2\" ry=\"2\" style=\"stroke:#181818;stroke-width:1.0;\"/><ellipse cx=\"526.3831\" cy=\"116.637\" fill=\"#181818\" rx=\"2\" ry=\"2\" style=\"stroke:#181818;stroke-width:1.0;\"/></a></g><!--MD5=[03c8294790d3c57651a1993cecff665f]\n",
       "reverse link E8 to E3--><g id=\"link_E8_E3\"><a href=\"psysml:764dcc5f-c791-44bd-8fe4-0cc6162433fb\" target=\"_top\" title=\"psysml:764dcc5f-c791-44bd-8fe4-0cc6162433fb\" xlink:actuate=\"onRequest\" xlink:href=\"psysml:764dcc5f-c791-44bd-8fe4-0cc6162433fb\" xlink:show=\"new\" xlink:title=\"psysml:764dcc5f-c791-44bd-8fe4-0cc6162433fb\" xlink:type=\"simple\"><path d=\"M537.34,144.84 C511.03,151.41 477.44,158.71 447,162 C428.44,164.01 423.62,163.36 405,162 C384.78,160.53 362.34,157.32 344.29,154.34 \" fill=\"none\" id=\"E8-backto-E3\" style=\"stroke:#181818;stroke-width:1.0;\"/><polygon fill=\"none\" points=\"549.99,141.59,543.1849,139.2045,538.3655,144.5686,545.1706,146.9541,549.99,141.59\" style=\"stroke:#181818;stroke-width:1.0;\"/><text fill=\"#000000\" font-family=\"sans-serif\" font-size=\"13\" lengthAdjust=\"spacing\" textLength=\"7\" x=\"422.5\" y=\"158.0669\">y</text></a></g><!--MD5=[0d75d2178373a6a4568e5dc728f58aef]\n",
       "reverse link E8 to E6--><g id=\"link_E8_E6\"><a href=\"psysml:764dcc5f-c791-44bd-8fe4-0cc6162433fb\" target=\"_top\" title=\"psysml:764dcc5f-c791-44bd-8fe4-0cc6162433fb\" xlink:actuate=\"onRequest\" xlink:href=\"psysml:764dcc5f-c791-44bd-8fe4-0cc6162433fb\" xlink:show=\"new\" xlink:title=\"psysml:764dcc5f-c791-44bd-8fe4-0cc6162433fb\" xlink:type=\"simple\"><path d=\"M633.39,132 C651.53,132 671.88,132 688.64,132 \" fill=\"none\" id=\"E8-backto-E6\" style=\"stroke:#181818;stroke-width:1.0;\"/><polygon fill=\"none\" points=\"620.34,132,626.34,136,632.34,132,626.34,128,620.34,132\" style=\"stroke:#181818;stroke-width:1.0;\"/><text fill=\"#000000\" font-family=\"sans-serif\" font-size=\"13\" lengthAdjust=\"spacing\" textLength=\"7\" x=\"651\" y=\"128.0669\">y</text></a></g><!--MD5=[23ac544a70576c3e717098101004234c]\n",
       "reverse link E9 to E10--><g id=\"link_E9_E10\"><a href=\"psysml:1f369bef-866d-4201-85d0-19625ffb0bd4\" target=\"_top\" title=\"psysml:1f369bef-866d-4201-85d0-19625ffb0bd4\" xlink:actuate=\"onRequest\" xlink:href=\"psysml:1f369bef-866d-4201-85d0-19625ffb0bd4\" xlink:show=\"new\" xlink:title=\"psysml:1f369bef-866d-4201-85d0-19625ffb0bd4\" xlink:type=\"simple\"><path d=\"M114.56,205.5 C131.09,211.36 149,217.71 162.82,222.61 \" fill=\"none\" id=\"E9-backto-E10\" style=\"stroke:#181818;stroke-width:1.0;\"/><polygon fill=\"none\" points=\"102.28,201.15,106.5996,206.9242,113.591,205.1576,109.2714,199.3835,102.28,201.15\" style=\"stroke:#181818;stroke-width:1.0;\"/></a></g><!--MD5=[feeac5eb423634930294aa81f2d25a4c]\n",
       "link E10 to E3--><g id=\"link_E10_E3\"><a href=\"psysml:0dc69dec-387f-4606-9efc-6b8567a081cf\" target=\"_top\" title=\"psysml:0dc69dec-387f-4606-9efc-6b8567a081cf\" xlink:actuate=\"onRequest\" xlink:href=\"psysml:0dc69dec-387f-4606-9efc-6b8567a081cf\" xlink:show=\"new\" xlink:title=\"psysml:0dc69dec-387f-4606-9efc-6b8567a081cf\" xlink:type=\"simple\"><path d=\"M212.01,214.6 C224.61,205.81 240.66,194.62 255.98,183.93 \" fill=\"none\" id=\"E10-to-E3\" style=\"stroke:#181818;stroke-width:1.0;\"/><polygon fill=\"#FFFFFF\" points=\"272.76,172.23,261.1835,188.8428,253.1725,177.3614,272.76,172.23\" style=\"stroke:#181818;stroke-width:1.0;\"/><ellipse cx=\"255.3645\" cy=\"190.4642\" fill=\"#181818\" rx=\"2\" ry=\"2\" style=\"stroke:#181818;stroke-width:1.0;\"/><ellipse cx=\"249.6424\" cy=\"182.2632\" fill=\"#181818\" rx=\"2\" ry=\"2\" style=\"stroke:#181818;stroke-width:1.0;\"/></a></g><!--MD5=[1fc04a95fd77ad5ce46c1a3027516051]\n",
       "reverse link E9 to E11--><g id=\"link_E9_E11\"><a href=\"psysml:41147f3b-680c-4b19-9ea9-1ad0d7284d0b\" target=\"_top\" title=\"psysml:41147f3b-680c-4b19-9ea9-1ad0d7284d0b\" xlink:actuate=\"onRequest\" xlink:href=\"psysml:41147f3b-680c-4b19-9ea9-1ad0d7284d0b\" xlink:show=\"new\" xlink:title=\"psysml:41147f3b-680c-4b19-9ea9-1ad0d7284d0b\" xlink:type=\"simple\"><path d=\"M115.04,172.72 C131.44,167.05 149.14,160.93 162.82,156.19 \" fill=\"none\" id=\"E9-backto-E11\" style=\"stroke:#181818;stroke-width:1.0;\"/><polygon fill=\"none\" points=\"102.28,177.14,109.2589,178.9551,113.6186,173.2111,106.6396,171.396,102.28,177.14\" style=\"stroke:#181818;stroke-width:1.0;\"/></a></g><!--MD5=[0517f1ce58c4d5483948f93845c45e26]\n",
       "link E11 to E3--><g id=\"link_E11_E3\"><a href=\"psysml:86cba12c-5c0b-4cb2-8a0f-652783ee7e3b\" target=\"_top\" title=\"psysml:86cba12c-5c0b-4cb2-8a0f-652783ee7e3b\" xlink:actuate=\"onRequest\" xlink:href=\"psysml:86cba12c-5c0b-4cb2-8a0f-652783ee7e3b\" xlink:show=\"new\" xlink:title=\"psysml:86cba12c-5c0b-4cb2-8a0f-652783ee7e3b\" xlink:type=\"simple\"><path d=\"M212.01,148 C223.66,148 238.26,148 252.51,148 \" fill=\"none\" id=\"E11-to-E3\" style=\"stroke:#181818;stroke-width:1.0;\"/><polygon fill=\"#FFFFFF\" points=\"272.76,148,253.76,155,253.76,141,272.76,148\" style=\"stroke:#181818;stroke-width:1.0;\"/><ellipse cx=\"248.06\" cy=\"153\" fill=\"#181818\" rx=\"2\" ry=\"2\" style=\"stroke:#181818;stroke-width:1.0;\"/><ellipse cx=\"248.06\" cy=\"143\" fill=\"#181818\" rx=\"2\" ry=\"2\" style=\"stroke:#181818;stroke-width:1.0;\"/></a></g><!--MD5=[c9a0558764df4a9b48d38d952f0e68af]\n",
       "@startuml\r\n",
       "skin sysmlbw\r\n",
       "skinparam monochrome true\r\n",
       "skinparam wrapWidth 300\r\n",
       "hide circle\r\n",
       "left to right direction\r\n",
       "\r\n",
       "package \"ItemTest\" as E1  [[psysml:b50080a1-e82f-4c80-9a3f-5d66ab4e7e23 ]]  {\r\n",
       "comp usage \"f: A  \" as E2  <<(T,blue) item>> [[psysml:4d36820e-7c5e-46bd-9de5-e346cea54837 ]] {\r\n",
       "}\r\n",
       "comp def \"A\" as E3  <<(T,blue) item  def>> [[psysml:90a9c46f-1bc9-4470-bf4e-8ae555dfcfc9 ]] {\r\n",
       "}\r\n",
       "comp usage \"b: B  \" as E4  <<(T,blue) item>> [[psysml:d394e1d7-ba50-4340-ad50-ece704d14a42 ]] {\r\n",
       "}\r\n",
       "comp usage \"c: C  \" as E5  <<(T,blue) part>> [[psysml:af047218-2074-4cd5-be73-a9bc4fd53c73 ]] {\r\n",
       "}\r\n",
       "comp def \"<i>B</i>\" as E6  <<(T,blue) item  def>> [[psysml:24ac0b44-19f7-4e7e-9d8c-29217623109a ]] {\r\n",
       "}\r\n",
       "comp usage \"<i>a</i>: A  \" as E7  <<(T,blue) part>> [[psysml:f97762a5-be4a-40f0-b15f-ded6f9a0a2bf ]] {\r\n",
       "}\r\n",
       "comp def \"C\" as E8  <<(T,blue) part  def>> [[psysml:2119f9fa-e703-4679-adcc-c9e3fda7136e ]] {\r\n",
       "}\r\n",
       "comp def \"P\" as E9  <<(T,blue) port  def>> [[psysml:f9be0f9f-7828-47af-b676-a3098923450b ]] {\r\n",
       "}\r\n",
       "comp usage \"a1: A  \" as E10  <<(T,blue) item>> [[psysml:bdd21edf-ffb1-47e0-8301-b129ba721304 ]] {\r\n",
       "}\r\n",
       "comp usage \"a2: A  \" as E11  <<(T,blue) item>> [[psysml:ea86bb80-7fc3-4478-bdc0-15728142c0fa ]] {\r\n",
       "}\r\n",
       "}\r\n",
       "E2 - -:|> E3 [[psysml:358bd963-d6cf-4c51-9d97-dc29b520688f ]] \r\n",
       "E3 *- - E4 [[psysml:724ffe94-cfbf-4ea2-b315-6baf1a587f0c ]] \r\n",
       "E3 o- - E5 [[psysml:9c72d63b-be6b-487b-af19-53b3ed2c634b ]] \r\n",
       "E4 - -:|> E6 [[psysml:c1d845e5-90b4-4786-9172-2f85f48f902a ]] \r\n",
       "E6 *- - E7 [[psysml:ee76f7ce-c996-4988-9b1a-5ac16ad8d066 ]] \r\n",
       "E7 - -:|> E3 [[psysml:1cb41c8a-3888-4a6d-b592-33957295a7ee ]] \r\n",
       "E5 - -:|> E8 [[psysml:b2862137-6a73-49a4-ad0f-48652eafb24c ]] \r\n",
       "E8 o- - E3 [[psysml:764dcc5f-c791-44bd-8fe4-0cc6162433fb ]] : y\r\n",
       "E8 o- - E6 [[psysml:764dcc5f-c791-44bd-8fe4-0cc6162433fb ]] : y\r\n",
       "E9 o- - E10 [[psysml:1f369bef-866d-4201-85d0-19625ffb0bd4 ]] \r\n",
       "E10 - -:|> E3 [[psysml:0dc69dec-387f-4606-9efc-6b8567a081cf ]] \r\n",
       "E9 o- - E11 [[psysml:41147f3b-680c-4b19-9ea9-1ad0d7284d0b ]] \r\n",
       "E11 - -:|> E3 [[psysml:86cba12c-5c0b-4cb2-8a0f-652783ee7e3b ]] \r\n",
       "@enduml\r\n",
       "\n",
       "PlantUML version 1.2022.7(Mon Aug 22 17:01:30 UTC 2022)\n",
       "(EPL source distribution)\n",
       "Java Runtime: OpenJDK Runtime Environment\n",
       "JVM: OpenJDK 64-Bit Server VM\n",
       "Default Encoding: UTF-8\n",
       "Language: en\n",
       "Country: null\n",
       "--></g></svg>"
      ]
     },
     "execution_count": 22,
     "metadata": {},
     "output_type": "execute_result"
    }
   ],
   "source": [
    "%viz --style=\"LR\" --view=\"MIXED\" \"ItemTest\""
   ]
  },
  {
   "cell_type": "code",
   "execution_count": 23,
   "id": "5030caa3",
   "metadata": {
    "execution": {
     "iopub.execute_input": "2024-12-16T03:22:54.457299Z",
     "iopub.status.busy": "2024-12-16T03:22:54.457073Z",
     "iopub.status.idle": "2024-12-16T03:22:54.493223Z",
     "shell.execute_reply": "2024-12-16T03:22:54.493042Z"
    }
   },
   "outputs": [
    {
     "data": {
      "image/svg+xml": [
       "<?xml version=\"1.0\" encoding=\"UTF-8\" standalone=\"no\"?><svg xmlns=\"http://www.w3.org/2000/svg\" xmlns:xlink=\"http://www.w3.org/1999/xlink\" contentStyleType=\"text/css\" height=\"829px\" preserveAspectRatio=\"none\" style=\"width:277px;height:829px;background:#FFFFFF;\" version=\"1.1\" viewBox=\"0 0 277 829\" width=\"277px\" zoomAndPan=\"magnify\"><defs><filter height=\"300%\" id=\"fd9turzz7mbmf\" width=\"300%\" x=\"-1\" y=\"-1\"><feGaussianBlur result=\"blurOut\" stdDeviation=\"2.0\"/><feColorMatrix in=\"blurOut\" result=\"blurOut2\" type=\"matrix\" values=\"0 0 0 0 0 0 0 0 0 0 0 0 0 0 0 0 0 0 .4 0\"/><feOffset dx=\"4.0\" dy=\"4.0\" in=\"blurOut2\" result=\"blurOut3\"/><feBlend in=\"SourceGraphic\" in2=\"blurOut3\" mode=\"normal\"/></filter></defs><g><!--MD5=[fbc87193dbaf4d95561dea2c320d4a47]\n",
       "cluster E1--><g id=\"cluster_E1\"><a href=\"psysml:b50080a1-e82f-4c80-9a3f-5d66ab4e7e23\" target=\"_top\" title=\"psysml:b50080a1-e82f-4c80-9a3f-5d66ab4e7e23\" xlink:actuate=\"onRequest\" xlink:href=\"psysml:b50080a1-e82f-4c80-9a3f-5d66ab4e7e23\" xlink:show=\"new\" xlink:title=\"psysml:b50080a1-e82f-4c80-9a3f-5d66ab4e7e23\" xlink:type=\"simple\"><polygon fill=\"none\" filter=\"url(#fd9turzz7mbmf)\" points=\"16,6,86.5,6,93.5,28.2969,260,28.2969,260,822,16,822,16,6\" style=\"stroke:#000000;stroke-width:1.5;\"/><line style=\"stroke:#000000;stroke-width:1.5;\" x1=\"16\" x2=\"93.5\" y1=\"28.2969\" y2=\"28.2969\"/><text fill=\"#000000\" font-family=\"sans-serif\" font-size=\"14\" font-weight=\"bold\" lengthAdjust=\"spacing\" textLength=\"64.5\" x=\"20\" y=\"20.9951\">ItemTest</text></a></g><!--MD5=[b4997ac47864f28c2f74865a473b2911]\n",
       "class E2--><a href=\"psysml:4d36820e-7c5e-46bd-9de5-e346cea54837\" target=\"_top\" title=\"psysml:4d36820e-7c5e-46bd-9de5-e346cea54837\" xlink:actuate=\"onRequest\" xlink:href=\"psysml:4d36820e-7c5e-46bd-9de5-e346cea54837\" xlink:show=\"new\" xlink:title=\"psysml:4d36820e-7c5e-46bd-9de5-e346cea54837\" xlink:type=\"simple\"><g id=\"elem_E2\"><rect fill=\"#FFFACD\" filter=\"url(#fd9turzz7mbmf)\" height=\"48.2656\" id=\"E2\" rx=\"10\" ry=\"10\" style=\"stroke:#181818;stroke-width:0.5;\" width=\"43\" x=\"200.5\" y=\"150\"/><text fill=\"#000000\" font-family=\"sans-serif\" font-size=\"12\" font-style=\"italic\" lengthAdjust=\"spacing\" textLength=\"41\" x=\"201.5\" y=\"166.1387\">«item»</text><text fill=\"#000000\" font-family=\"sans-serif\" font-size=\"14\" lengthAdjust=\"spacing\" textLength=\"22\" x=\"207\" y=\"181.9639\">f: A</text><line style=\"stroke:#181818;stroke-width:0.5;\" x1=\"201.5\" x2=\"242.5\" y1=\"190.2656\" y2=\"190.2656\"/></g></a><!--MD5=[09b614a08d8cba4a07c9adeb5e0fee81]\n",
       "class E3--><a href=\"psysml:90a9c46f-1bc9-4470-bf4e-8ae555dfcfc9\" target=\"_top\" title=\"psysml:90a9c46f-1bc9-4470-bf4e-8ae555dfcfc9\" xlink:actuate=\"onRequest\" xlink:href=\"psysml:90a9c46f-1bc9-4470-bf4e-8ae555dfcfc9\" xlink:show=\"new\" xlink:title=\"psysml:90a9c46f-1bc9-4470-bf4e-8ae555dfcfc9\" xlink:type=\"simple\"><g id=\"elem_E3\"><rect fill=\"#FFFACD\" filter=\"url(#fd9turzz7mbmf)\" height=\"48.2656\" id=\"E3\" style=\"stroke:#181818;stroke-width:0.5;\" width=\"71\" x=\"105.5\" y=\"259\"/><text fill=\"#000000\" font-family=\"sans-serif\" font-size=\"12\" font-style=\"italic\" lengthAdjust=\"spacing\" textLength=\"69\" x=\"106.5\" y=\"275.1387\">«item  def»</text><text fill=\"#000000\" font-family=\"sans-serif\" font-size=\"14\" lengthAdjust=\"spacing\" textLength=\"9\" x=\"136.5\" y=\"290.9639\">A</text><line style=\"stroke:#181818;stroke-width:0.5;\" x1=\"106.5\" x2=\"175.5\" y1=\"299.2656\" y2=\"299.2656\"/></g></a><!--MD5=[ebbe1d658d1005bcc118a6aa81145e00]\n",
       "class E4--><a href=\"psysml:d394e1d7-ba50-4340-ad50-ece704d14a42\" target=\"_top\" title=\"psysml:d394e1d7-ba50-4340-ad50-ece704d14a42\" xlink:actuate=\"onRequest\" xlink:href=\"psysml:d394e1d7-ba50-4340-ad50-ece704d14a42\" xlink:show=\"new\" xlink:title=\"psysml:d394e1d7-ba50-4340-ad50-ece704d14a42\" xlink:type=\"simple\"><g id=\"elem_E4\"><rect fill=\"#FFFACD\" filter=\"url(#fd9turzz7mbmf)\" height=\"48.2656\" id=\"E4\" rx=\"10\" ry=\"10\" style=\"stroke:#181818;stroke-width:0.5;\" width=\"43\" x=\"48.5\" y=\"446\"/><text fill=\"#000000\" font-family=\"sans-serif\" font-size=\"12\" font-style=\"italic\" lengthAdjust=\"spacing\" textLength=\"41\" x=\"49.5\" y=\"462.1387\">«item»</text><text fill=\"#000000\" font-family=\"sans-serif\" font-size=\"14\" lengthAdjust=\"spacing\" textLength=\"28\" x=\"52\" y=\"477.9639\">b: B</text><line style=\"stroke:#181818;stroke-width:0.5;\" x1=\"49.5\" x2=\"90.5\" y1=\"486.2656\" y2=\"486.2656\"/></g></a><!--MD5=[270fce915f116d4de14055a7c1d9a0f3]\n",
       "class E5--><a href=\"psysml:af047218-2074-4cd5-be73-a9bc4fd53c73\" target=\"_top\" title=\"psysml:af047218-2074-4cd5-be73-a9bc4fd53c73\" xlink:actuate=\"onRequest\" xlink:href=\"psysml:af047218-2074-4cd5-be73-a9bc4fd53c73\" xlink:show=\"new\" xlink:title=\"psysml:af047218-2074-4cd5-be73-a9bc4fd53c73\" xlink:type=\"simple\"><g id=\"elem_E5\"><rect fill=\"#FFFACD\" filter=\"url(#fd9turzz7mbmf)\" height=\"48.2656\" id=\"E5\" rx=\"10\" ry=\"10\" style=\"stroke:#181818;stroke-width:0.5;\" width=\"42\" x=\"157\" y=\"368\"/><text fill=\"#000000\" font-family=\"sans-serif\" font-size=\"12\" font-style=\"italic\" lengthAdjust=\"spacing\" textLength=\"40\" x=\"158\" y=\"384.1387\">«part»</text><text fill=\"#000000\" font-family=\"sans-serif\" font-size=\"14\" lengthAdjust=\"spacing\" textLength=\"27\" x=\"160.5\" y=\"399.9639\">c: C</text><line style=\"stroke:#181818;stroke-width:0.5;\" x1=\"158\" x2=\"198\" y1=\"408.2656\" y2=\"408.2656\"/></g></a><!--MD5=[60a26617385b1d2d0262a64233df1f8d]\n",
       "class E6--><a href=\"psysml:24ac0b44-19f7-4e7e-9d8c-29217623109a\" target=\"_top\" title=\"psysml:24ac0b44-19f7-4e7e-9d8c-29217623109a\" xlink:actuate=\"onRequest\" xlink:href=\"psysml:24ac0b44-19f7-4e7e-9d8c-29217623109a\" xlink:show=\"new\" xlink:title=\"psysml:24ac0b44-19f7-4e7e-9d8c-29217623109a\" xlink:type=\"simple\"><g id=\"elem_E6\"><rect fill=\"#FFFACD\" filter=\"url(#fd9turzz7mbmf)\" height=\"48.2656\" id=\"E6\" style=\"stroke:#181818;stroke-width:0.5;\" width=\"71\" x=\"116.5\" y=\"649\"/><text fill=\"#000000\" font-family=\"sans-serif\" font-size=\"12\" font-style=\"italic\" lengthAdjust=\"spacing\" textLength=\"69\" x=\"117.5\" y=\"665.1387\">«item  def»</text><text fill=\"#000000\" font-family=\"sans-serif\" font-size=\"14\" font-style=\"italic\" lengthAdjust=\"spacing\" textLength=\"10\" x=\"147\" y=\"680.9639\">B</text><line style=\"stroke:#181818;stroke-width:0.5;\" x1=\"117.5\" x2=\"186.5\" y1=\"689.2656\" y2=\"689.2656\"/></g></a><!--MD5=[2156ba9850f5573cc1fc38a6a4b2f02b]\n",
       "class E7--><a href=\"psysml:f97762a5-be4a-40f0-b15f-ded6f9a0a2bf\" target=\"_top\" title=\"psysml:f97762a5-be4a-40f0-b15f-ded6f9a0a2bf\" xlink:actuate=\"onRequest\" xlink:href=\"psysml:f97762a5-be4a-40f0-b15f-ded6f9a0a2bf\" xlink:show=\"new\" xlink:title=\"psysml:f97762a5-be4a-40f0-b15f-ded6f9a0a2bf\" xlink:type=\"simple\"><g id=\"elem_E7\"><rect fill=\"#FFFACD\" filter=\"url(#fd9turzz7mbmf)\" height=\"48.2656\" id=\"E7\" rx=\"10\" ry=\"10\" style=\"stroke:#181818;stroke-width:0.5;\" width=\"42\" x=\"167\" y=\"758\"/><text fill=\"#000000\" font-family=\"sans-serif\" font-size=\"12\" font-style=\"italic\" lengthAdjust=\"spacing\" textLength=\"40\" x=\"168\" y=\"774.1387\">«part»</text><text fill=\"#000000\" font-family=\"sans-serif\" font-size=\"14\" font-style=\"italic\" lengthAdjust=\"spacing\" textLength=\"8\" x=\"171\" y=\"789.9639\">a</text><text fill=\"#000000\" font-family=\"sans-serif\" font-size=\"14\" lengthAdjust=\"spacing\" textLength=\"18\" x=\"179\" y=\"789.9639\">: A</text><line style=\"stroke:#181818;stroke-width:0.5;\" x1=\"168\" x2=\"208\" y1=\"798.2656\" y2=\"798.2656\"/></g></a><!--MD5=[b9389687b975829384b498ac4b7476b2]\n",
       "class E8--><a href=\"psysml:2119f9fa-e703-4679-adcc-c9e3fda7136e\" target=\"_top\" title=\"psysml:2119f9fa-e703-4679-adcc-c9e3fda7136e\" xlink:actuate=\"onRequest\" xlink:href=\"psysml:2119f9fa-e703-4679-adcc-c9e3fda7136e\" xlink:show=\"new\" xlink:title=\"psysml:2119f9fa-e703-4679-adcc-c9e3fda7136e\" xlink:type=\"simple\"><g id=\"elem_E8\"><rect fill=\"#FFFACD\" filter=\"url(#fd9turzz7mbmf)\" height=\"48.2656\" id=\"E8\" style=\"stroke:#181818;stroke-width:0.5;\" width=\"70\" x=\"117\" y=\"524\"/><text fill=\"#000000\" font-family=\"sans-serif\" font-size=\"12\" font-style=\"italic\" lengthAdjust=\"spacing\" textLength=\"68\" x=\"118\" y=\"540.1387\">«part  def»</text><text fill=\"#000000\" font-family=\"sans-serif\" font-size=\"14\" lengthAdjust=\"spacing\" textLength=\"10\" x=\"147\" y=\"555.9639\">C</text><line style=\"stroke:#181818;stroke-width:0.5;\" x1=\"118\" x2=\"186\" y1=\"564.2656\" y2=\"564.2656\"/></g></a><!--MD5=[fd4143e9d270a159db93a4ea2a975926]\n",
       "class E9--><a href=\"psysml:f9be0f9f-7828-47af-b676-a3098923450b\" target=\"_top\" title=\"psysml:f9be0f9f-7828-47af-b676-a3098923450b\" xlink:actuate=\"onRequest\" xlink:href=\"psysml:f9be0f9f-7828-47af-b676-a3098923450b\" xlink:show=\"new\" xlink:title=\"psysml:f9be0f9f-7828-47af-b676-a3098923450b\" xlink:type=\"simple\"><g id=\"elem_E9\"><rect fill=\"#FFFACD\" filter=\"url(#fd9turzz7mbmf)\" height=\"48.2656\" id=\"E9\" style=\"stroke:#181818;stroke-width:0.5;\" width=\"70\" x=\"69\" y=\"41\"/><text fill=\"#000000\" font-family=\"sans-serif\" font-size=\"12\" font-style=\"italic\" lengthAdjust=\"spacing\" textLength=\"68\" x=\"70\" y=\"57.1387\">«port  def»</text><text fill=\"#000000\" font-family=\"sans-serif\" font-size=\"14\" lengthAdjust=\"spacing\" textLength=\"9\" x=\"99.5\" y=\"72.9639\">P</text><line style=\"stroke:#181818;stroke-width:0.5;\" x1=\"70\" x2=\"138\" y1=\"81.2656\" y2=\"81.2656\"/></g></a><!--MD5=[96f4274e9e20536e775497830990834d]\n",
       "class E10--><a href=\"psysml:bdd21edf-ffb1-47e0-8301-b129ba721304\" target=\"_top\" title=\"psysml:bdd21edf-ffb1-47e0-8301-b129ba721304\" xlink:actuate=\"onRequest\" xlink:href=\"psysml:bdd21edf-ffb1-47e0-8301-b129ba721304\" xlink:show=\"new\" xlink:title=\"psysml:bdd21edf-ffb1-47e0-8301-b129ba721304\" xlink:type=\"simple\"><g id=\"elem_E10\"><rect fill=\"#FFFACD\" filter=\"url(#fd9turzz7mbmf)\" height=\"48.2656\" id=\"E10\" rx=\"10\" ry=\"10\" style=\"stroke:#181818;stroke-width:0.5;\" width=\"49\" x=\"32.5\" y=\"150\"/><text fill=\"#000000\" font-family=\"sans-serif\" font-size=\"12\" font-style=\"italic\" lengthAdjust=\"spacing\" textLength=\"41\" x=\"36.5\" y=\"166.1387\">«item»</text><text fill=\"#000000\" font-family=\"sans-serif\" font-size=\"14\" lengthAdjust=\"spacing\" textLength=\"35\" x=\"35.5\" y=\"181.9639\">a1: A</text><line style=\"stroke:#181818;stroke-width:0.5;\" x1=\"33.5\" x2=\"80.5\" y1=\"190.2656\" y2=\"190.2656\"/></g></a><!--MD5=[1dd1bfd58a279cf63c5f349dbc8fc6a1]\n",
       "class E11--><a href=\"psysml:ea86bb80-7fc3-4478-bdc0-15728142c0fa\" target=\"_top\" title=\"psysml:ea86bb80-7fc3-4478-bdc0-15728142c0fa\" xlink:actuate=\"onRequest\" xlink:href=\"psysml:ea86bb80-7fc3-4478-bdc0-15728142c0fa\" xlink:show=\"new\" xlink:title=\"psysml:ea86bb80-7fc3-4478-bdc0-15728142c0fa\" xlink:type=\"simple\"><g id=\"elem_E11\"><rect fill=\"#FFFACD\" filter=\"url(#fd9turzz7mbmf)\" height=\"48.2656\" id=\"E11\" rx=\"10\" ry=\"10\" style=\"stroke:#181818;stroke-width:0.5;\" width=\"49\" x=\"116.5\" y=\"150\"/><text fill=\"#000000\" font-family=\"sans-serif\" font-size=\"12\" font-style=\"italic\" lengthAdjust=\"spacing\" textLength=\"41\" x=\"120.5\" y=\"166.1387\">«item»</text><text fill=\"#000000\" font-family=\"sans-serif\" font-size=\"14\" lengthAdjust=\"spacing\" textLength=\"35\" x=\"119.5\" y=\"181.9639\">a2: A</text><line style=\"stroke:#181818;stroke-width:0.5;\" x1=\"117.5\" x2=\"164.5\" y1=\"190.2656\" y2=\"190.2656\"/></g></a><!--MD5=[2720a5a1f2c3fca2055b230370638851]\n",
       "link E2 to E3--><g id=\"link_E2_E3\"><a href=\"psysml:358bd963-d6cf-4c51-9d97-dc29b520688f\" target=\"_top\" title=\"psysml:358bd963-d6cf-4c51-9d97-dc29b520688f\" xlink:actuate=\"onRequest\" xlink:href=\"psysml:358bd963-d6cf-4c51-9d97-dc29b520688f\" xlink:show=\"new\" xlink:title=\"psysml:358bd963-d6cf-4c51-9d97-dc29b520688f\" xlink:type=\"simple\"><path d=\"M204.42,198.22 C194.55,211.26 181.97,227.88 170.62,242.87 \" fill=\"none\" id=\"E2-to-E3\" style=\"stroke:#181818;stroke-width:1.0;\"/><polygon fill=\"#FFFFFF\" points=\"158.54,258.83,164.4286,239.4567,175.5901,247.9078,158.54,258.83\" style=\"stroke:#181818;stroke-width:1.0;\"/><ellipse cx=\"169.4639\" cy=\"236.1197\" fill=\"#181818\" rx=\"2\" ry=\"2\" style=\"stroke:#181818;stroke-width:1.0;\"/><ellipse cx=\"177.4364\" cy=\"242.1562\" fill=\"#181818\" rx=\"2\" ry=\"2\" style=\"stroke:#181818;stroke-width:1.0;\"/></a></g><!--MD5=[4672eba38e49728da53d11aeb285b987]\n",
       "reverse link E3 to E4--><g id=\"link_E3_E4\"><a href=\"psysml:724ffe94-cfbf-4ea2-b315-6baf1a587f0c\" target=\"_top\" title=\"psysml:724ffe94-cfbf-4ea2-b315-6baf1a587f0c\" xlink:actuate=\"onRequest\" xlink:href=\"psysml:724ffe94-cfbf-4ea2-b315-6baf1a587f0c\" xlink:show=\"new\" xlink:title=\"psysml:724ffe94-cfbf-4ea2-b315-6baf1a587f0c\" xlink:type=\"simple\"><path d=\"M104.38,316.32 C90.85,330.64 77.09,348.62 70,368 C60.72,393.36 62.6,424.76 65.58,445.75 \" fill=\"none\" id=\"E3-backto-E4\" style=\"stroke:#181818;stroke-width:1.0;\"/><polygon fill=\"#181818\" points=\"113.62,307.02,106.5522,308.4507,105.1545,315.525,112.2223,314.0943,113.62,307.02\" style=\"stroke:#181818;stroke-width:1.0;\"/></a></g><!--MD5=[191cde3d490a3f6d7bb551fe3ddca469]\n",
       "reverse link E3 to E5--><g id=\"link_E3_E5\"><a href=\"psysml:9c72d63b-be6b-487b-af19-53b3ed2c634b\" target=\"_top\" title=\"psysml:9c72d63b-be6b-487b-af19-53b3ed2c634b\" xlink:actuate=\"onRequest\" xlink:href=\"psysml:9c72d63b-be6b-487b-af19-53b3ed2c634b\" xlink:show=\"new\" xlink:title=\"psysml:9c72d63b-be6b-487b-af19-53b3ed2c634b\" xlink:type=\"simple\"><path d=\"M153.39,319.83 C158.86,335.66 165.14,353.82 169.99,367.83 \" fill=\"none\" id=\"E3-backto-E5\" style=\"stroke:#181818;stroke-width:1.0;\"/><polygon fill=\"none\" points=\"149.03,307.22,147.2077,314.1971,152.9472,318.5627,154.7695,311.5856,149.03,307.22\" style=\"stroke:#181818;stroke-width:1.0;\"/></a></g><!--MD5=[79568f1e445c3877b6a54524624ccc7d]\n",
       "link E4 to E6--><g id=\"link_E4_E6\"><a href=\"psysml:c1d845e5-90b4-4786-9172-2f85f48f902a\" target=\"_top\" title=\"psysml:c1d845e5-90b4-4786-9172-2f85f48f902a\" xlink:actuate=\"onRequest\" xlink:href=\"psysml:c1d845e5-90b4-4786-9172-2f85f48f902a\" xlink:show=\"new\" xlink:title=\"psysml:c1d845e5-90b4-4786-9172-2f85f48f902a\" xlink:type=\"simple\"><path d=\"M75.57,494.29 C80.84,515.04 89.51,546.05 100,572 C108.08,591.98 118.83,613.29 128.46,631.07 \" fill=\"none\" id=\"E4-to-E6\" style=\"stroke:#181818;stroke-width:1.0;\"/><polygon fill=\"#FFFFFF\" points=\"138.29,648.76,122.9437,635.5505,135.1819,628.7515,138.29,648.76\" style=\"stroke:#181818;stroke-width:1.0;\"/><ellipse cx=\"121.9238\" cy=\"629.5965\" fill=\"#181818\" rx=\"2\" ry=\"2\" style=\"stroke:#181818;stroke-width:1.0;\"/><ellipse cx=\"130.6654\" cy=\"624.7401\" fill=\"#181818\" rx=\"2\" ry=\"2\" style=\"stroke:#181818;stroke-width:1.0;\"/></a></g><!--MD5=[3f50a3473f1dfb74d3f76443e03635af]\n",
       "reverse link E6 to E7--><g id=\"link_E6_E7\"><a href=\"psysml:ee76f7ce-c996-4988-9b1a-5ac16ad8d066\" target=\"_top\" title=\"psysml:ee76f7ce-c996-4988-9b1a-5ac16ad8d066\" xlink:actuate=\"onRequest\" xlink:href=\"psysml:ee76f7ce-c996-4988-9b1a-5ac16ad8d066\" xlink:show=\"new\" xlink:title=\"psysml:ee76f7ce-c996-4988-9b1a-5ac16ad8d066\" xlink:type=\"simple\"><path d=\"M164.05,709.83 C169.38,725.66 175.49,743.82 180.2,757.83 \" fill=\"none\" id=\"E6-backto-E7\" style=\"stroke:#181818;stroke-width:1.0;\"/><polygon fill=\"#181818\" points=\"159.81,697.22,157.9296,704.1816,163.6324,708.5949,165.5128,701.6333,159.81,697.22\" style=\"stroke:#181818;stroke-width:1.0;\"/></a></g><!--MD5=[14ccda38c055a5c0da953d572bc50960]\n",
       "link E7 to E3--><g id=\"link_E7_E3\"><a href=\"psysml:1cb41c8a-3888-4a6d-b592-33957295a7ee\" target=\"_top\" title=\"psysml:1cb41c8a-3888-4a6d-b592-33957295a7ee\" xlink:actuate=\"onRequest\" xlink:href=\"psysml:1cb41c8a-3888-4a6d-b592-33957295a7ee\" xlink:show=\"new\" xlink:title=\"psysml:1cb41c8a-3888-4a6d-b592-33957295a7ee\" xlink:type=\"simple\"><path d=\"M204.97,757.64 C218.43,736.78 235,704.84 235,674 C235,391 235,391 235,391 C235,361.35 214.38,336.01 192.46,317.43 \" fill=\"none\" id=\"E7-to-E3\" style=\"stroke:#181818;stroke-width:1.0;\"/><polygon fill=\"#FFFFFF\" points=\"176.54,305.14,195.8578,311.2081,187.3035,322.2907,176.54,305.14\" style=\"stroke:#181818;stroke-width:1.0;\"/><ellipse cx=\"199.148\" cy=\"316.2741\" fill=\"#181818\" rx=\"2\" ry=\"2\" style=\"stroke:#181818;stroke-width:1.0;\"/><ellipse cx=\"193.0378\" cy=\"324.1903\" fill=\"#181818\" rx=\"2\" ry=\"2\" style=\"stroke:#181818;stroke-width:1.0;\"/></a></g><!--MD5=[dfaffb906826c3e5aca635516100ff21]\n",
       "link E5 to E8--><g id=\"link_E5_E8\"><a href=\"psysml:b2862137-6a73-49a4-ad0f-48652eafb24c\" target=\"_top\" title=\"psysml:b2862137-6a73-49a4-ad0f-48652eafb24c\" xlink:actuate=\"onRequest\" xlink:href=\"psysml:b2862137-6a73-49a4-ad0f-48652eafb24c\" xlink:show=\"new\" xlink:title=\"psysml:b2862137-6a73-49a4-ad0f-48652eafb24c\" xlink:type=\"simple\"><path d=\"M174.11,416.06 C170.2,439.19 164.09,475.38 159.28,503.86 \" fill=\"none\" id=\"E5-to-E8\" style=\"stroke:#181818;stroke-width:1.0;\"/><polygon fill=\"#FFFFFF\" points=\"155.92,523.79,152.1809,503.8898,165.9855,506.2206,155.92,523.79\" style=\"stroke:#181818;stroke-width:1.0;\"/><ellipse cx=\"155.1019\" cy=\"498.6023\" fill=\"#181818\" rx=\"2\" ry=\"2\" style=\"stroke:#181818;stroke-width:1.0;\"/><ellipse cx=\"164.9624\" cy=\"500.2671\" fill=\"#181818\" rx=\"2\" ry=\"2\" style=\"stroke:#181818;stroke-width:1.0;\"/></a></g><!--MD5=[03c8294790d3c57651a1993cecff665f]\n",
       "reverse link E8 to E3--><g id=\"link_E8_E3\"><a href=\"psysml:764dcc5f-c791-44bd-8fe4-0cc6162433fb\" target=\"_top\" title=\"psysml:764dcc5f-c791-44bd-8fe4-0cc6162433fb\" xlink:actuate=\"onRequest\" xlink:href=\"psysml:764dcc5f-c791-44bd-8fe4-0cc6162433fb\" xlink:show=\"new\" xlink:title=\"psysml:764dcc5f-c791-44bd-8fe4-0cc6162433fb\" xlink:type=\"simple\"><path d=\"M144.62,510.88 C139.66,484.68 133.57,448.31 131,416 C129.31,394.73 129.74,389.3 131,368 C132.23,347.33 135.14,323.95 137.5,307.11 \" fill=\"none\" id=\"E8-backto-E3\" style=\"stroke:#181818;stroke-width:1.0;\"/><polygon fill=\"none\" points=\"147.16,523.94,149.9387,517.2857,144.865,512.1615,142.0863,518.8158,147.16,523.94\" style=\"stroke:#181818;stroke-width:1.0;\"/><text fill=\"#000000\" font-family=\"sans-serif\" font-size=\"13\" lengthAdjust=\"spacing\" textLength=\"7\" x=\"132\" y=\"396.5669\">y</text></a></g><!--MD5=[0d75d2178373a6a4568e5dc728f58aef]\n",
       "reverse link E8 to E6--><g id=\"link_E8_E6\"><a href=\"psysml:764dcc5f-c791-44bd-8fe4-0cc6162433fb\" target=\"_top\" title=\"psysml:764dcc5f-c791-44bd-8fe4-0cc6162433fb\" xlink:actuate=\"onRequest\" xlink:href=\"psysml:764dcc5f-c791-44bd-8fe4-0cc6162433fb\" xlink:show=\"new\" xlink:title=\"psysml:764dcc5f-c791-44bd-8fe4-0cc6162433fb\" xlink:type=\"simple\"><path d=\"M152,585.21 C152,605.83 152,631.04 152,648.97 \" fill=\"none\" id=\"E8-backto-E6\" style=\"stroke:#181818;stroke-width:1.0;\"/><polygon fill=\"none\" points=\"152,572.14,148,578.14,152,584.14,156,578.14,152,572.14\" style=\"stroke:#181818;stroke-width:1.0;\"/><text fill=\"#000000\" font-family=\"sans-serif\" font-size=\"13\" lengthAdjust=\"spacing\" textLength=\"7\" x=\"153\" y=\"615.0669\">y</text></a></g><!--MD5=[23ac544a70576c3e717098101004234c]\n",
       "reverse link E9 to E10--><g id=\"link_E9_E10\"><a href=\"psysml:1f369bef-866d-4201-85d0-19625ffb0bd4\" target=\"_top\" title=\"psysml:1f369bef-866d-4201-85d0-19625ffb0bd4\" xlink:actuate=\"onRequest\" xlink:href=\"psysml:1f369bef-866d-4201-85d0-19625ffb0bd4\" xlink:show=\"new\" xlink:title=\"psysml:1f369bef-866d-4201-85d0-19625ffb0bd4\" xlink:type=\"simple\"><path d=\"M88.47,101.35 C81.47,117.29 73.39,135.68 67.18,149.83 \" fill=\"none\" id=\"E9-backto-E10\" style=\"stroke:#181818;stroke-width:1.0;\"/><polygon fill=\"none\" points=\"93.8,89.22,87.7243,93.1041,88.9729,100.2063,95.0485,96.3222,93.8,89.22\" style=\"stroke:#181818;stroke-width:1.0;\"/></a></g><!--MD5=[feeac5eb423634930294aa81f2d25a4c]\n",
       "link E10 to E3--><g id=\"link_E10_E3\"><a href=\"psysml:0dc69dec-387f-4606-9efc-6b8567a081cf\" target=\"_top\" title=\"psysml:0dc69dec-387f-4606-9efc-6b8567a081cf\" xlink:actuate=\"onRequest\" xlink:href=\"psysml:0dc69dec-387f-4606-9efc-6b8567a081cf\" xlink:show=\"new\" xlink:title=\"psysml:0dc69dec-387f-4606-9efc-6b8567a081cf\" xlink:type=\"simple\"><path d=\"M75.23,198.22 C85.46,211.26 98.51,227.88 110.28,242.87 \" fill=\"none\" id=\"E10-to-E3\" style=\"stroke:#181818;stroke-width:1.0;\"/><polygon fill=\"#FFFFFF\" points=\"122.81,258.83,105.5676,248.214,116.5764,239.565,122.81,258.83\" style=\"stroke:#181818;stroke-width:1.0;\"/><ellipse cx=\"103.6189\" cy=\"242.4963\" fill=\"#181818\" rx=\"2\" ry=\"2\" style=\"stroke:#181818;stroke-width:1.0;\"/><ellipse cx=\"111.4823\" cy=\"236.3184\" fill=\"#181818\" rx=\"2\" ry=\"2\" style=\"stroke:#181818;stroke-width:1.0;\"/></a></g><!--MD5=[1fc04a95fd77ad5ce46c1a3027516051]\n",
       "reverse link E9 to E11--><g id=\"link_E9_E11\"><a href=\"psysml:41147f3b-680c-4b19-9ea9-1ad0d7284d0b\" target=\"_top\" title=\"psysml:41147f3b-680c-4b19-9ea9-1ad0d7284d0b\" xlink:actuate=\"onRequest\" xlink:href=\"psysml:41147f3b-680c-4b19-9ea9-1ad0d7284d0b\" xlink:show=\"new\" xlink:title=\"psysml:41147f3b-680c-4b19-9ea9-1ad0d7284d0b\" xlink:type=\"simple\"><path d=\"M116.39,101.83 C121.86,117.66 128.14,135.82 132.99,149.83 \" fill=\"none\" id=\"E9-backto-E11\" style=\"stroke:#181818;stroke-width:1.0;\"/><polygon fill=\"none\" points=\"112.03,89.22,110.2077,96.1971,115.9472,100.5627,117.7695,93.5856,112.03,89.22\" style=\"stroke:#181818;stroke-width:1.0;\"/></a></g><!--MD5=[0517f1ce58c4d5483948f93845c45e26]\n",
       "link E11 to E3--><g id=\"link_E11_E3\"><a href=\"psysml:86cba12c-5c0b-4cb2-8a0f-652783ee7e3b\" target=\"_top\" title=\"psysml:86cba12c-5c0b-4cb2-8a0f-652783ee7e3b\" xlink:actuate=\"onRequest\" xlink:href=\"psysml:86cba12c-5c0b-4cb2-8a0f-652783ee7e3b\" xlink:show=\"new\" xlink:title=\"psysml:86cba12c-5c0b-4cb2-8a0f-652783ee7e3b\" xlink:type=\"simple\"><path d=\"M141,198.22 C141,210 141,224.69 141,238.48 \" fill=\"none\" id=\"E11-to-E3\" style=\"stroke:#181818;stroke-width:1.0;\"/><polygon fill=\"#FFFFFF\" points=\"141,258.83,134,239.83,148,239.83,141,258.83\" style=\"stroke:#181818;stroke-width:1.0;\"/><ellipse cx=\"136\" cy=\"234.13\" fill=\"#181818\" rx=\"2\" ry=\"2\" style=\"stroke:#181818;stroke-width:1.0;\"/><ellipse cx=\"146\" cy=\"234.13\" fill=\"#181818\" rx=\"2\" ry=\"2\" style=\"stroke:#181818;stroke-width:1.0;\"/></a></g><!--MD5=[1f90b206f666f5f61d70dae3af2c6e02]\n",
       "@startuml\r\n",
       "skin sysmlc\r\n",
       "skinparam wrapWidth 300\r\n",
       "hide circle\r\n",
       "\r\n",
       "package \"ItemTest\" as E1  [[psysml:b50080a1-e82f-4c80-9a3f-5d66ab4e7e23 ]]  {\r\n",
       "comp usage \"f: A  \" as E2  <<(T,blue) item>> [[psysml:4d36820e-7c5e-46bd-9de5-e346cea54837 ]] {\r\n",
       "}\r\n",
       "comp def \"A\" as E3  <<(T,blue) item  def>> [[psysml:90a9c46f-1bc9-4470-bf4e-8ae555dfcfc9 ]] {\r\n",
       "}\r\n",
       "comp usage \"b: B  \" as E4  <<(T,blue) item>> [[psysml:d394e1d7-ba50-4340-ad50-ece704d14a42 ]] {\r\n",
       "}\r\n",
       "comp usage \"c: C  \" as E5  <<(T,blue) part>> [[psysml:af047218-2074-4cd5-be73-a9bc4fd53c73 ]] {\r\n",
       "}\r\n",
       "comp def \"<i>B</i>\" as E6  <<(T,blue) item  def>> [[psysml:24ac0b44-19f7-4e7e-9d8c-29217623109a ]] {\r\n",
       "}\r\n",
       "comp usage \"<i>a</i>: A  \" as E7  <<(T,blue) part>> [[psysml:f97762a5-be4a-40f0-b15f-ded6f9a0a2bf ]] {\r\n",
       "}\r\n",
       "comp def \"C\" as E8  <<(T,blue) part  def>> [[psysml:2119f9fa-e703-4679-adcc-c9e3fda7136e ]] {\r\n",
       "}\r\n",
       "comp def \"P\" as E9  <<(T,blue) port  def>> [[psysml:f9be0f9f-7828-47af-b676-a3098923450b ]] {\r\n",
       "}\r\n",
       "comp usage \"a1: A  \" as E10  <<(T,blue) item>> [[psysml:bdd21edf-ffb1-47e0-8301-b129ba721304 ]] {\r\n",
       "}\r\n",
       "comp usage \"a2: A  \" as E11  <<(T,blue) item>> [[psysml:ea86bb80-7fc3-4478-bdc0-15728142c0fa ]] {\r\n",
       "}\r\n",
       "}\r\n",
       "E2 - -:|> E3 [[psysml:358bd963-d6cf-4c51-9d97-dc29b520688f ]] \r\n",
       "E3 *- - E4 [[psysml:724ffe94-cfbf-4ea2-b315-6baf1a587f0c ]] \r\n",
       "E3 o- - E5 [[psysml:9c72d63b-be6b-487b-af19-53b3ed2c634b ]] \r\n",
       "E4 - -:|> E6 [[psysml:c1d845e5-90b4-4786-9172-2f85f48f902a ]] \r\n",
       "E6 *- - E7 [[psysml:ee76f7ce-c996-4988-9b1a-5ac16ad8d066 ]] \r\n",
       "E7 - -:|> E3 [[psysml:1cb41c8a-3888-4a6d-b592-33957295a7ee ]] \r\n",
       "E5 - -:|> E8 [[psysml:b2862137-6a73-49a4-ad0f-48652eafb24c ]] \r\n",
       "E8 o- - E3 [[psysml:764dcc5f-c791-44bd-8fe4-0cc6162433fb ]] : y\r\n",
       "E8 o- - E6 [[psysml:764dcc5f-c791-44bd-8fe4-0cc6162433fb ]] : y\r\n",
       "E9 o- - E10 [[psysml:1f369bef-866d-4201-85d0-19625ffb0bd4 ]] \r\n",
       "E10 - -:|> E3 [[psysml:0dc69dec-387f-4606-9efc-6b8567a081cf ]] \r\n",
       "E9 o- - E11 [[psysml:41147f3b-680c-4b19-9ea9-1ad0d7284d0b ]] \r\n",
       "E11 - -:|> E3 [[psysml:86cba12c-5c0b-4cb2-8a0f-652783ee7e3b ]] \r\n",
       "@enduml\r\n",
       "\n",
       "PlantUML version 1.2022.7(Mon Aug 22 17:01:30 UTC 2022)\n",
       "(EPL source distribution)\n",
       "Java Runtime: OpenJDK Runtime Environment\n",
       "JVM: OpenJDK 64-Bit Server VM\n",
       "Default Encoding: UTF-8\n",
       "Language: en\n",
       "Country: null\n",
       "--></g></svg>"
      ]
     },
     "execution_count": 23,
     "metadata": {},
     "output_type": "execute_result"
    }
   ],
   "source": [
    "%viz --style=\"STDCOLOR\" --view=\"Default\" \"ItemTest\""
   ]
  },
  {
   "cell_type": "code",
   "execution_count": 24,
   "id": "8db1551b",
   "metadata": {
    "execution": {
     "iopub.execute_input": "2024-12-16T03:22:54.548657Z",
     "iopub.status.busy": "2024-12-16T03:22:54.548450Z",
     "iopub.status.idle": "2024-12-16T03:22:54.573442Z",
     "shell.execute_reply": "2024-12-16T03:22:54.572565Z"
    }
   },
   "outputs": [
    {
     "data": {
      "image/svg+xml": [
       "<?xml version=\"1.0\" encoding=\"UTF-8\" standalone=\"no\"?><svg xmlns=\"http://www.w3.org/2000/svg\" xmlns:xlink=\"http://www.w3.org/1999/xlink\" contentStyleType=\"text/css\" height=\"829px\" preserveAspectRatio=\"none\" style=\"width:277px;height:829px;background:#FFFFFF;\" version=\"1.1\" viewBox=\"0 0 277 829\" width=\"277px\" zoomAndPan=\"magnify\"><defs><filter height=\"300%\" id=\"fd9turzz7mbmf\" width=\"300%\" x=\"-1\" y=\"-1\"><feGaussianBlur result=\"blurOut\" stdDeviation=\"2.0\"/><feColorMatrix in=\"blurOut\" result=\"blurOut2\" type=\"matrix\" values=\"0 0 0 0 0 0 0 0 0 0 0 0 0 0 0 0 0 0 .4 0\"/><feOffset dx=\"4.0\" dy=\"4.0\" in=\"blurOut2\" result=\"blurOut3\"/><feBlend in=\"SourceGraphic\" in2=\"blurOut3\" mode=\"normal\"/></filter></defs><g><!--MD5=[fbc87193dbaf4d95561dea2c320d4a47]\n",
       "cluster E1--><g id=\"cluster_E1\"><a href=\"psysml:b50080a1-e82f-4c80-9a3f-5d66ab4e7e23\" target=\"_top\" title=\"psysml:b50080a1-e82f-4c80-9a3f-5d66ab4e7e23\" xlink:actuate=\"onRequest\" xlink:href=\"psysml:b50080a1-e82f-4c80-9a3f-5d66ab4e7e23\" xlink:show=\"new\" xlink:title=\"psysml:b50080a1-e82f-4c80-9a3f-5d66ab4e7e23\" xlink:type=\"simple\"><polygon fill=\"none\" filter=\"url(#fd9turzz7mbmf)\" points=\"16,6,86.5,6,93.5,28.2969,260,28.2969,260,822,16,822,16,6\" style=\"stroke:#000000;stroke-width:1.5;\"/><line style=\"stroke:#000000;stroke-width:1.5;\" x1=\"16\" x2=\"93.5\" y1=\"28.2969\" y2=\"28.2969\"/><text fill=\"#000000\" font-family=\"sans-serif\" font-size=\"14\" font-weight=\"bold\" lengthAdjust=\"spacing\" textLength=\"64.5\" x=\"20\" y=\"20.9951\">ItemTest</text></a></g><!--MD5=[b4997ac47864f28c2f74865a473b2911]\n",
       "class E2--><a href=\"psysml:4d36820e-7c5e-46bd-9de5-e346cea54837\" target=\"_top\" title=\"psysml:4d36820e-7c5e-46bd-9de5-e346cea54837\" xlink:actuate=\"onRequest\" xlink:href=\"psysml:4d36820e-7c5e-46bd-9de5-e346cea54837\" xlink:show=\"new\" xlink:title=\"psysml:4d36820e-7c5e-46bd-9de5-e346cea54837\" xlink:type=\"simple\"><g id=\"elem_E2\"><rect fill=\"#FFFACD\" filter=\"url(#fd9turzz7mbmf)\" height=\"48.2656\" id=\"E2\" rx=\"10\" ry=\"10\" style=\"stroke:#181818;stroke-width:0.5;\" width=\"43\" x=\"200.5\" y=\"150\"/><text fill=\"#000000\" font-family=\"sans-serif\" font-size=\"12\" font-style=\"italic\" lengthAdjust=\"spacing\" textLength=\"41\" x=\"201.5\" y=\"166.1387\">«item»</text><text fill=\"#000000\" font-family=\"sans-serif\" font-size=\"14\" lengthAdjust=\"spacing\" textLength=\"22\" x=\"207\" y=\"181.9639\">f: A</text><line style=\"stroke:#181818;stroke-width:0.5;\" x1=\"201.5\" x2=\"242.5\" y1=\"190.2656\" y2=\"190.2656\"/></g></a><!--MD5=[09b614a08d8cba4a07c9adeb5e0fee81]\n",
       "class E3--><a href=\"psysml:90a9c46f-1bc9-4470-bf4e-8ae555dfcfc9\" target=\"_top\" title=\"psysml:90a9c46f-1bc9-4470-bf4e-8ae555dfcfc9\" xlink:actuate=\"onRequest\" xlink:href=\"psysml:90a9c46f-1bc9-4470-bf4e-8ae555dfcfc9\" xlink:show=\"new\" xlink:title=\"psysml:90a9c46f-1bc9-4470-bf4e-8ae555dfcfc9\" xlink:type=\"simple\"><g id=\"elem_E3\"><rect fill=\"#FFFACD\" filter=\"url(#fd9turzz7mbmf)\" height=\"48.2656\" id=\"E3\" style=\"stroke:#181818;stroke-width:0.5;\" width=\"71\" x=\"105.5\" y=\"259\"/><text fill=\"#000000\" font-family=\"sans-serif\" font-size=\"12\" font-style=\"italic\" lengthAdjust=\"spacing\" textLength=\"69\" x=\"106.5\" y=\"275.1387\">«item  def»</text><text fill=\"#000000\" font-family=\"sans-serif\" font-size=\"14\" lengthAdjust=\"spacing\" textLength=\"9\" x=\"136.5\" y=\"290.9639\">A</text><line style=\"stroke:#181818;stroke-width:0.5;\" x1=\"106.5\" x2=\"175.5\" y1=\"299.2656\" y2=\"299.2656\"/></g></a><!--MD5=[ebbe1d658d1005bcc118a6aa81145e00]\n",
       "class E4--><a href=\"psysml:d394e1d7-ba50-4340-ad50-ece704d14a42\" target=\"_top\" title=\"psysml:d394e1d7-ba50-4340-ad50-ece704d14a42\" xlink:actuate=\"onRequest\" xlink:href=\"psysml:d394e1d7-ba50-4340-ad50-ece704d14a42\" xlink:show=\"new\" xlink:title=\"psysml:d394e1d7-ba50-4340-ad50-ece704d14a42\" xlink:type=\"simple\"><g id=\"elem_E4\"><rect fill=\"#FFFACD\" filter=\"url(#fd9turzz7mbmf)\" height=\"48.2656\" id=\"E4\" rx=\"10\" ry=\"10\" style=\"stroke:#181818;stroke-width:0.5;\" width=\"43\" x=\"48.5\" y=\"446\"/><text fill=\"#000000\" font-family=\"sans-serif\" font-size=\"12\" font-style=\"italic\" lengthAdjust=\"spacing\" textLength=\"41\" x=\"49.5\" y=\"462.1387\">«item»</text><text fill=\"#000000\" font-family=\"sans-serif\" font-size=\"14\" lengthAdjust=\"spacing\" textLength=\"28\" x=\"52\" y=\"477.9639\">b: B</text><line style=\"stroke:#181818;stroke-width:0.5;\" x1=\"49.5\" x2=\"90.5\" y1=\"486.2656\" y2=\"486.2656\"/></g></a><!--MD5=[270fce915f116d4de14055a7c1d9a0f3]\n",
       "class E5--><a href=\"psysml:af047218-2074-4cd5-be73-a9bc4fd53c73\" target=\"_top\" title=\"psysml:af047218-2074-4cd5-be73-a9bc4fd53c73\" xlink:actuate=\"onRequest\" xlink:href=\"psysml:af047218-2074-4cd5-be73-a9bc4fd53c73\" xlink:show=\"new\" xlink:title=\"psysml:af047218-2074-4cd5-be73-a9bc4fd53c73\" xlink:type=\"simple\"><g id=\"elem_E5\"><rect fill=\"#FFFACD\" filter=\"url(#fd9turzz7mbmf)\" height=\"48.2656\" id=\"E5\" rx=\"10\" ry=\"10\" style=\"stroke:#181818;stroke-width:0.5;\" width=\"42\" x=\"157\" y=\"368\"/><text fill=\"#000000\" font-family=\"sans-serif\" font-size=\"12\" font-style=\"italic\" lengthAdjust=\"spacing\" textLength=\"40\" x=\"158\" y=\"384.1387\">«part»</text><text fill=\"#000000\" font-family=\"sans-serif\" font-size=\"14\" lengthAdjust=\"spacing\" textLength=\"27\" x=\"160.5\" y=\"399.9639\">c: C</text><line style=\"stroke:#181818;stroke-width:0.5;\" x1=\"158\" x2=\"198\" y1=\"408.2656\" y2=\"408.2656\"/></g></a><!--MD5=[60a26617385b1d2d0262a64233df1f8d]\n",
       "class E6--><a href=\"psysml:24ac0b44-19f7-4e7e-9d8c-29217623109a\" target=\"_top\" title=\"psysml:24ac0b44-19f7-4e7e-9d8c-29217623109a\" xlink:actuate=\"onRequest\" xlink:href=\"psysml:24ac0b44-19f7-4e7e-9d8c-29217623109a\" xlink:show=\"new\" xlink:title=\"psysml:24ac0b44-19f7-4e7e-9d8c-29217623109a\" xlink:type=\"simple\"><g id=\"elem_E6\"><rect fill=\"#FFFACD\" filter=\"url(#fd9turzz7mbmf)\" height=\"48.2656\" id=\"E6\" style=\"stroke:#181818;stroke-width:0.5;\" width=\"71\" x=\"116.5\" y=\"649\"/><text fill=\"#000000\" font-family=\"sans-serif\" font-size=\"12\" font-style=\"italic\" lengthAdjust=\"spacing\" textLength=\"69\" x=\"117.5\" y=\"665.1387\">«item  def»</text><text fill=\"#000000\" font-family=\"sans-serif\" font-size=\"14\" font-style=\"italic\" lengthAdjust=\"spacing\" textLength=\"10\" x=\"147\" y=\"680.9639\">B</text><line style=\"stroke:#181818;stroke-width:0.5;\" x1=\"117.5\" x2=\"186.5\" y1=\"689.2656\" y2=\"689.2656\"/></g></a><!--MD5=[2156ba9850f5573cc1fc38a6a4b2f02b]\n",
       "class E7--><a href=\"psysml:f97762a5-be4a-40f0-b15f-ded6f9a0a2bf\" target=\"_top\" title=\"psysml:f97762a5-be4a-40f0-b15f-ded6f9a0a2bf\" xlink:actuate=\"onRequest\" xlink:href=\"psysml:f97762a5-be4a-40f0-b15f-ded6f9a0a2bf\" xlink:show=\"new\" xlink:title=\"psysml:f97762a5-be4a-40f0-b15f-ded6f9a0a2bf\" xlink:type=\"simple\"><g id=\"elem_E7\"><rect fill=\"#FFFACD\" filter=\"url(#fd9turzz7mbmf)\" height=\"48.2656\" id=\"E7\" rx=\"10\" ry=\"10\" style=\"stroke:#181818;stroke-width:0.5;\" width=\"42\" x=\"167\" y=\"758\"/><text fill=\"#000000\" font-family=\"sans-serif\" font-size=\"12\" font-style=\"italic\" lengthAdjust=\"spacing\" textLength=\"40\" x=\"168\" y=\"774.1387\">«part»</text><text fill=\"#000000\" font-family=\"sans-serif\" font-size=\"14\" font-style=\"italic\" lengthAdjust=\"spacing\" textLength=\"8\" x=\"171\" y=\"789.9639\">a</text><text fill=\"#000000\" font-family=\"sans-serif\" font-size=\"14\" lengthAdjust=\"spacing\" textLength=\"18\" x=\"179\" y=\"789.9639\">: A</text><line style=\"stroke:#181818;stroke-width:0.5;\" x1=\"168\" x2=\"208\" y1=\"798.2656\" y2=\"798.2656\"/></g></a><!--MD5=[b9389687b975829384b498ac4b7476b2]\n",
       "class E8--><a href=\"psysml:2119f9fa-e703-4679-adcc-c9e3fda7136e\" target=\"_top\" title=\"psysml:2119f9fa-e703-4679-adcc-c9e3fda7136e\" xlink:actuate=\"onRequest\" xlink:href=\"psysml:2119f9fa-e703-4679-adcc-c9e3fda7136e\" xlink:show=\"new\" xlink:title=\"psysml:2119f9fa-e703-4679-adcc-c9e3fda7136e\" xlink:type=\"simple\"><g id=\"elem_E8\"><rect fill=\"#FFFACD\" filter=\"url(#fd9turzz7mbmf)\" height=\"48.2656\" id=\"E8\" style=\"stroke:#181818;stroke-width:0.5;\" width=\"70\" x=\"117\" y=\"524\"/><text fill=\"#000000\" font-family=\"sans-serif\" font-size=\"12\" font-style=\"italic\" lengthAdjust=\"spacing\" textLength=\"68\" x=\"118\" y=\"540.1387\">«part  def»</text><text fill=\"#000000\" font-family=\"sans-serif\" font-size=\"14\" lengthAdjust=\"spacing\" textLength=\"10\" x=\"147\" y=\"555.9639\">C</text><line style=\"stroke:#181818;stroke-width:0.5;\" x1=\"118\" x2=\"186\" y1=\"564.2656\" y2=\"564.2656\"/></g></a><!--MD5=[fd4143e9d270a159db93a4ea2a975926]\n",
       "class E9--><a href=\"psysml:f9be0f9f-7828-47af-b676-a3098923450b\" target=\"_top\" title=\"psysml:f9be0f9f-7828-47af-b676-a3098923450b\" xlink:actuate=\"onRequest\" xlink:href=\"psysml:f9be0f9f-7828-47af-b676-a3098923450b\" xlink:show=\"new\" xlink:title=\"psysml:f9be0f9f-7828-47af-b676-a3098923450b\" xlink:type=\"simple\"><g id=\"elem_E9\"><rect fill=\"#FFFACD\" filter=\"url(#fd9turzz7mbmf)\" height=\"48.2656\" id=\"E9\" style=\"stroke:#181818;stroke-width:0.5;\" width=\"70\" x=\"69\" y=\"41\"/><text fill=\"#000000\" font-family=\"sans-serif\" font-size=\"12\" font-style=\"italic\" lengthAdjust=\"spacing\" textLength=\"68\" x=\"70\" y=\"57.1387\">«port  def»</text><text fill=\"#000000\" font-family=\"sans-serif\" font-size=\"14\" lengthAdjust=\"spacing\" textLength=\"9\" x=\"99.5\" y=\"72.9639\">P</text><line style=\"stroke:#181818;stroke-width:0.5;\" x1=\"70\" x2=\"138\" y1=\"81.2656\" y2=\"81.2656\"/></g></a><!--MD5=[96f4274e9e20536e775497830990834d]\n",
       "class E10--><a href=\"psysml:bdd21edf-ffb1-47e0-8301-b129ba721304\" target=\"_top\" title=\"psysml:bdd21edf-ffb1-47e0-8301-b129ba721304\" xlink:actuate=\"onRequest\" xlink:href=\"psysml:bdd21edf-ffb1-47e0-8301-b129ba721304\" xlink:show=\"new\" xlink:title=\"psysml:bdd21edf-ffb1-47e0-8301-b129ba721304\" xlink:type=\"simple\"><g id=\"elem_E10\"><rect fill=\"#FFFACD\" filter=\"url(#fd9turzz7mbmf)\" height=\"48.2656\" id=\"E10\" rx=\"10\" ry=\"10\" style=\"stroke:#181818;stroke-width:0.5;\" width=\"49\" x=\"32.5\" y=\"150\"/><text fill=\"#000000\" font-family=\"sans-serif\" font-size=\"12\" font-style=\"italic\" lengthAdjust=\"spacing\" textLength=\"41\" x=\"36.5\" y=\"166.1387\">«item»</text><text fill=\"#000000\" font-family=\"sans-serif\" font-size=\"14\" lengthAdjust=\"spacing\" textLength=\"35\" x=\"35.5\" y=\"181.9639\">a1: A</text><line style=\"stroke:#181818;stroke-width:0.5;\" x1=\"33.5\" x2=\"80.5\" y1=\"190.2656\" y2=\"190.2656\"/></g></a><!--MD5=[1dd1bfd58a279cf63c5f349dbc8fc6a1]\n",
       "class E11--><a href=\"psysml:ea86bb80-7fc3-4478-bdc0-15728142c0fa\" target=\"_top\" title=\"psysml:ea86bb80-7fc3-4478-bdc0-15728142c0fa\" xlink:actuate=\"onRequest\" xlink:href=\"psysml:ea86bb80-7fc3-4478-bdc0-15728142c0fa\" xlink:show=\"new\" xlink:title=\"psysml:ea86bb80-7fc3-4478-bdc0-15728142c0fa\" xlink:type=\"simple\"><g id=\"elem_E11\"><rect fill=\"#FFFACD\" filter=\"url(#fd9turzz7mbmf)\" height=\"48.2656\" id=\"E11\" rx=\"10\" ry=\"10\" style=\"stroke:#181818;stroke-width:0.5;\" width=\"49\" x=\"116.5\" y=\"150\"/><text fill=\"#000000\" font-family=\"sans-serif\" font-size=\"12\" font-style=\"italic\" lengthAdjust=\"spacing\" textLength=\"41\" x=\"120.5\" y=\"166.1387\">«item»</text><text fill=\"#000000\" font-family=\"sans-serif\" font-size=\"14\" lengthAdjust=\"spacing\" textLength=\"35\" x=\"119.5\" y=\"181.9639\">a2: A</text><line style=\"stroke:#181818;stroke-width:0.5;\" x1=\"117.5\" x2=\"164.5\" y1=\"190.2656\" y2=\"190.2656\"/></g></a><!--MD5=[2720a5a1f2c3fca2055b230370638851]\n",
       "link E2 to E3--><g id=\"link_E2_E3\"><a href=\"psysml:358bd963-d6cf-4c51-9d97-dc29b520688f\" target=\"_top\" title=\"psysml:358bd963-d6cf-4c51-9d97-dc29b520688f\" xlink:actuate=\"onRequest\" xlink:href=\"psysml:358bd963-d6cf-4c51-9d97-dc29b520688f\" xlink:show=\"new\" xlink:title=\"psysml:358bd963-d6cf-4c51-9d97-dc29b520688f\" xlink:type=\"simple\"><path d=\"M204.42,198.22 C194.55,211.26 181.97,227.88 170.62,242.87 \" fill=\"none\" id=\"E2-to-E3\" style=\"stroke:#181818;stroke-width:1.0;\"/><polygon fill=\"#FFFFFF\" points=\"158.54,258.83,164.4286,239.4567,175.5901,247.9078,158.54,258.83\" style=\"stroke:#181818;stroke-width:1.0;\"/><ellipse cx=\"169.4639\" cy=\"236.1197\" fill=\"#181818\" rx=\"2\" ry=\"2\" style=\"stroke:#181818;stroke-width:1.0;\"/><ellipse cx=\"177.4364\" cy=\"242.1562\" fill=\"#181818\" rx=\"2\" ry=\"2\" style=\"stroke:#181818;stroke-width:1.0;\"/></a></g><!--MD5=[4672eba38e49728da53d11aeb285b987]\n",
       "reverse link E3 to E4--><g id=\"link_E3_E4\"><a href=\"psysml:724ffe94-cfbf-4ea2-b315-6baf1a587f0c\" target=\"_top\" title=\"psysml:724ffe94-cfbf-4ea2-b315-6baf1a587f0c\" xlink:actuate=\"onRequest\" xlink:href=\"psysml:724ffe94-cfbf-4ea2-b315-6baf1a587f0c\" xlink:show=\"new\" xlink:title=\"psysml:724ffe94-cfbf-4ea2-b315-6baf1a587f0c\" xlink:type=\"simple\"><path d=\"M104.38,316.32 C90.85,330.64 77.09,348.62 70,368 C60.72,393.36 62.6,424.76 65.58,445.75 \" fill=\"none\" id=\"E3-backto-E4\" style=\"stroke:#181818;stroke-width:1.0;\"/><polygon fill=\"#181818\" points=\"113.62,307.02,106.5522,308.4507,105.1545,315.525,112.2223,314.0943,113.62,307.02\" style=\"stroke:#181818;stroke-width:1.0;\"/></a></g><!--MD5=[191cde3d490a3f6d7bb551fe3ddca469]\n",
       "reverse link E3 to E5--><g id=\"link_E3_E5\"><a href=\"psysml:9c72d63b-be6b-487b-af19-53b3ed2c634b\" target=\"_top\" title=\"psysml:9c72d63b-be6b-487b-af19-53b3ed2c634b\" xlink:actuate=\"onRequest\" xlink:href=\"psysml:9c72d63b-be6b-487b-af19-53b3ed2c634b\" xlink:show=\"new\" xlink:title=\"psysml:9c72d63b-be6b-487b-af19-53b3ed2c634b\" xlink:type=\"simple\"><path d=\"M153.39,319.83 C158.86,335.66 165.14,353.82 169.99,367.83 \" fill=\"none\" id=\"E3-backto-E5\" style=\"stroke:#181818;stroke-width:1.0;\"/><polygon fill=\"none\" points=\"149.03,307.22,147.2077,314.1971,152.9472,318.5627,154.7695,311.5856,149.03,307.22\" style=\"stroke:#181818;stroke-width:1.0;\"/></a></g><!--MD5=[79568f1e445c3877b6a54524624ccc7d]\n",
       "link E4 to E6--><g id=\"link_E4_E6\"><a href=\"psysml:c1d845e5-90b4-4786-9172-2f85f48f902a\" target=\"_top\" title=\"psysml:c1d845e5-90b4-4786-9172-2f85f48f902a\" xlink:actuate=\"onRequest\" xlink:href=\"psysml:c1d845e5-90b4-4786-9172-2f85f48f902a\" xlink:show=\"new\" xlink:title=\"psysml:c1d845e5-90b4-4786-9172-2f85f48f902a\" xlink:type=\"simple\"><path d=\"M75.57,494.29 C80.84,515.04 89.51,546.05 100,572 C108.08,591.98 118.83,613.29 128.46,631.07 \" fill=\"none\" id=\"E4-to-E6\" style=\"stroke:#181818;stroke-width:1.0;\"/><polygon fill=\"#FFFFFF\" points=\"138.29,648.76,122.9437,635.5505,135.1819,628.7515,138.29,648.76\" style=\"stroke:#181818;stroke-width:1.0;\"/><ellipse cx=\"121.9238\" cy=\"629.5965\" fill=\"#181818\" rx=\"2\" ry=\"2\" style=\"stroke:#181818;stroke-width:1.0;\"/><ellipse cx=\"130.6654\" cy=\"624.7401\" fill=\"#181818\" rx=\"2\" ry=\"2\" style=\"stroke:#181818;stroke-width:1.0;\"/></a></g><!--MD5=[3f50a3473f1dfb74d3f76443e03635af]\n",
       "reverse link E6 to E7--><g id=\"link_E6_E7\"><a href=\"psysml:ee76f7ce-c996-4988-9b1a-5ac16ad8d066\" target=\"_top\" title=\"psysml:ee76f7ce-c996-4988-9b1a-5ac16ad8d066\" xlink:actuate=\"onRequest\" xlink:href=\"psysml:ee76f7ce-c996-4988-9b1a-5ac16ad8d066\" xlink:show=\"new\" xlink:title=\"psysml:ee76f7ce-c996-4988-9b1a-5ac16ad8d066\" xlink:type=\"simple\"><path d=\"M164.05,709.83 C169.38,725.66 175.49,743.82 180.2,757.83 \" fill=\"none\" id=\"E6-backto-E7\" style=\"stroke:#181818;stroke-width:1.0;\"/><polygon fill=\"#181818\" points=\"159.81,697.22,157.9296,704.1816,163.6324,708.5949,165.5128,701.6333,159.81,697.22\" style=\"stroke:#181818;stroke-width:1.0;\"/></a></g><!--MD5=[14ccda38c055a5c0da953d572bc50960]\n",
       "link E7 to E3--><g id=\"link_E7_E3\"><a href=\"psysml:1cb41c8a-3888-4a6d-b592-33957295a7ee\" target=\"_top\" title=\"psysml:1cb41c8a-3888-4a6d-b592-33957295a7ee\" xlink:actuate=\"onRequest\" xlink:href=\"psysml:1cb41c8a-3888-4a6d-b592-33957295a7ee\" xlink:show=\"new\" xlink:title=\"psysml:1cb41c8a-3888-4a6d-b592-33957295a7ee\" xlink:type=\"simple\"><path d=\"M204.97,757.64 C218.43,736.78 235,704.84 235,674 C235,391 235,391 235,391 C235,361.35 214.38,336.01 192.46,317.43 \" fill=\"none\" id=\"E7-to-E3\" style=\"stroke:#181818;stroke-width:1.0;\"/><polygon fill=\"#FFFFFF\" points=\"176.54,305.14,195.8578,311.2081,187.3035,322.2907,176.54,305.14\" style=\"stroke:#181818;stroke-width:1.0;\"/><ellipse cx=\"199.148\" cy=\"316.2741\" fill=\"#181818\" rx=\"2\" ry=\"2\" style=\"stroke:#181818;stroke-width:1.0;\"/><ellipse cx=\"193.0378\" cy=\"324.1903\" fill=\"#181818\" rx=\"2\" ry=\"2\" style=\"stroke:#181818;stroke-width:1.0;\"/></a></g><!--MD5=[dfaffb906826c3e5aca635516100ff21]\n",
       "link E5 to E8--><g id=\"link_E5_E8\"><a href=\"psysml:b2862137-6a73-49a4-ad0f-48652eafb24c\" target=\"_top\" title=\"psysml:b2862137-6a73-49a4-ad0f-48652eafb24c\" xlink:actuate=\"onRequest\" xlink:href=\"psysml:b2862137-6a73-49a4-ad0f-48652eafb24c\" xlink:show=\"new\" xlink:title=\"psysml:b2862137-6a73-49a4-ad0f-48652eafb24c\" xlink:type=\"simple\"><path d=\"M174.11,416.06 C170.2,439.19 164.09,475.38 159.28,503.86 \" fill=\"none\" id=\"E5-to-E8\" style=\"stroke:#181818;stroke-width:1.0;\"/><polygon fill=\"#FFFFFF\" points=\"155.92,523.79,152.1809,503.8898,165.9855,506.2206,155.92,523.79\" style=\"stroke:#181818;stroke-width:1.0;\"/><ellipse cx=\"155.1019\" cy=\"498.6023\" fill=\"#181818\" rx=\"2\" ry=\"2\" style=\"stroke:#181818;stroke-width:1.0;\"/><ellipse cx=\"164.9624\" cy=\"500.2671\" fill=\"#181818\" rx=\"2\" ry=\"2\" style=\"stroke:#181818;stroke-width:1.0;\"/></a></g><!--MD5=[03c8294790d3c57651a1993cecff665f]\n",
       "reverse link E8 to E3--><g id=\"link_E8_E3\"><a href=\"psysml:764dcc5f-c791-44bd-8fe4-0cc6162433fb\" target=\"_top\" title=\"psysml:764dcc5f-c791-44bd-8fe4-0cc6162433fb\" xlink:actuate=\"onRequest\" xlink:href=\"psysml:764dcc5f-c791-44bd-8fe4-0cc6162433fb\" xlink:show=\"new\" xlink:title=\"psysml:764dcc5f-c791-44bd-8fe4-0cc6162433fb\" xlink:type=\"simple\"><path d=\"M144.62,510.88 C139.66,484.68 133.57,448.31 131,416 C129.31,394.73 129.74,389.3 131,368 C132.23,347.33 135.14,323.95 137.5,307.11 \" fill=\"none\" id=\"E8-backto-E3\" style=\"stroke:#181818;stroke-width:1.0;\"/><polygon fill=\"none\" points=\"147.16,523.94,149.9387,517.2857,144.865,512.1615,142.0863,518.8158,147.16,523.94\" style=\"stroke:#181818;stroke-width:1.0;\"/><text fill=\"#000000\" font-family=\"sans-serif\" font-size=\"13\" lengthAdjust=\"spacing\" textLength=\"7\" x=\"132\" y=\"396.5669\">y</text></a></g><!--MD5=[0d75d2178373a6a4568e5dc728f58aef]\n",
       "reverse link E8 to E6--><g id=\"link_E8_E6\"><a href=\"psysml:764dcc5f-c791-44bd-8fe4-0cc6162433fb\" target=\"_top\" title=\"psysml:764dcc5f-c791-44bd-8fe4-0cc6162433fb\" xlink:actuate=\"onRequest\" xlink:href=\"psysml:764dcc5f-c791-44bd-8fe4-0cc6162433fb\" xlink:show=\"new\" xlink:title=\"psysml:764dcc5f-c791-44bd-8fe4-0cc6162433fb\" xlink:type=\"simple\"><path d=\"M152,585.21 C152,605.83 152,631.04 152,648.97 \" fill=\"none\" id=\"E8-backto-E6\" style=\"stroke:#181818;stroke-width:1.0;\"/><polygon fill=\"none\" points=\"152,572.14,148,578.14,152,584.14,156,578.14,152,572.14\" style=\"stroke:#181818;stroke-width:1.0;\"/><text fill=\"#000000\" font-family=\"sans-serif\" font-size=\"13\" lengthAdjust=\"spacing\" textLength=\"7\" x=\"153\" y=\"615.0669\">y</text></a></g><!--MD5=[23ac544a70576c3e717098101004234c]\n",
       "reverse link E9 to E10--><g id=\"link_E9_E10\"><a href=\"psysml:1f369bef-866d-4201-85d0-19625ffb0bd4\" target=\"_top\" title=\"psysml:1f369bef-866d-4201-85d0-19625ffb0bd4\" xlink:actuate=\"onRequest\" xlink:href=\"psysml:1f369bef-866d-4201-85d0-19625ffb0bd4\" xlink:show=\"new\" xlink:title=\"psysml:1f369bef-866d-4201-85d0-19625ffb0bd4\" xlink:type=\"simple\"><path d=\"M88.47,101.35 C81.47,117.29 73.39,135.68 67.18,149.83 \" fill=\"none\" id=\"E9-backto-E10\" style=\"stroke:#181818;stroke-width:1.0;\"/><polygon fill=\"none\" points=\"93.8,89.22,87.7243,93.1041,88.9729,100.2063,95.0485,96.3222,93.8,89.22\" style=\"stroke:#181818;stroke-width:1.0;\"/></a></g><!--MD5=[feeac5eb423634930294aa81f2d25a4c]\n",
       "link E10 to E3--><g id=\"link_E10_E3\"><a href=\"psysml:0dc69dec-387f-4606-9efc-6b8567a081cf\" target=\"_top\" title=\"psysml:0dc69dec-387f-4606-9efc-6b8567a081cf\" xlink:actuate=\"onRequest\" xlink:href=\"psysml:0dc69dec-387f-4606-9efc-6b8567a081cf\" xlink:show=\"new\" xlink:title=\"psysml:0dc69dec-387f-4606-9efc-6b8567a081cf\" xlink:type=\"simple\"><path d=\"M75.23,198.22 C85.46,211.26 98.51,227.88 110.28,242.87 \" fill=\"none\" id=\"E10-to-E3\" style=\"stroke:#181818;stroke-width:1.0;\"/><polygon fill=\"#FFFFFF\" points=\"122.81,258.83,105.5676,248.214,116.5764,239.565,122.81,258.83\" style=\"stroke:#181818;stroke-width:1.0;\"/><ellipse cx=\"103.6189\" cy=\"242.4963\" fill=\"#181818\" rx=\"2\" ry=\"2\" style=\"stroke:#181818;stroke-width:1.0;\"/><ellipse cx=\"111.4823\" cy=\"236.3184\" fill=\"#181818\" rx=\"2\" ry=\"2\" style=\"stroke:#181818;stroke-width:1.0;\"/></a></g><!--MD5=[1fc04a95fd77ad5ce46c1a3027516051]\n",
       "reverse link E9 to E11--><g id=\"link_E9_E11\"><a href=\"psysml:41147f3b-680c-4b19-9ea9-1ad0d7284d0b\" target=\"_top\" title=\"psysml:41147f3b-680c-4b19-9ea9-1ad0d7284d0b\" xlink:actuate=\"onRequest\" xlink:href=\"psysml:41147f3b-680c-4b19-9ea9-1ad0d7284d0b\" xlink:show=\"new\" xlink:title=\"psysml:41147f3b-680c-4b19-9ea9-1ad0d7284d0b\" xlink:type=\"simple\"><path d=\"M116.39,101.83 C121.86,117.66 128.14,135.82 132.99,149.83 \" fill=\"none\" id=\"E9-backto-E11\" style=\"stroke:#181818;stroke-width:1.0;\"/><polygon fill=\"none\" points=\"112.03,89.22,110.2077,96.1971,115.9472,100.5627,117.7695,93.5856,112.03,89.22\" style=\"stroke:#181818;stroke-width:1.0;\"/></a></g><!--MD5=[0517f1ce58c4d5483948f93845c45e26]\n",
       "link E11 to E3--><g id=\"link_E11_E3\"><a href=\"psysml:86cba12c-5c0b-4cb2-8a0f-652783ee7e3b\" target=\"_top\" title=\"psysml:86cba12c-5c0b-4cb2-8a0f-652783ee7e3b\" xlink:actuate=\"onRequest\" xlink:href=\"psysml:86cba12c-5c0b-4cb2-8a0f-652783ee7e3b\" xlink:show=\"new\" xlink:title=\"psysml:86cba12c-5c0b-4cb2-8a0f-652783ee7e3b\" xlink:type=\"simple\"><path d=\"M141,198.22 C141,210 141,224.69 141,238.48 \" fill=\"none\" id=\"E11-to-E3\" style=\"stroke:#181818;stroke-width:1.0;\"/><polygon fill=\"#FFFFFF\" points=\"141,258.83,134,239.83,148,239.83,141,258.83\" style=\"stroke:#181818;stroke-width:1.0;\"/><ellipse cx=\"136\" cy=\"234.13\" fill=\"#181818\" rx=\"2\" ry=\"2\" style=\"stroke:#181818;stroke-width:1.0;\"/><ellipse cx=\"146\" cy=\"234.13\" fill=\"#181818\" rx=\"2\" ry=\"2\" style=\"stroke:#181818;stroke-width:1.0;\"/></a></g><!--MD5=[1f90b206f666f5f61d70dae3af2c6e02]\n",
       "@startuml\r\n",
       "skin sysmlc\r\n",
       "skinparam wrapWidth 300\r\n",
       "hide circle\r\n",
       "\r\n",
       "package \"ItemTest\" as E1  [[psysml:b50080a1-e82f-4c80-9a3f-5d66ab4e7e23 ]]  {\r\n",
       "comp usage \"f: A  \" as E2  <<(T,blue) item>> [[psysml:4d36820e-7c5e-46bd-9de5-e346cea54837 ]] {\r\n",
       "}\r\n",
       "comp def \"A\" as E3  <<(T,blue) item  def>> [[psysml:90a9c46f-1bc9-4470-bf4e-8ae555dfcfc9 ]] {\r\n",
       "}\r\n",
       "comp usage \"b: B  \" as E4  <<(T,blue) item>> [[psysml:d394e1d7-ba50-4340-ad50-ece704d14a42 ]] {\r\n",
       "}\r\n",
       "comp usage \"c: C  \" as E5  <<(T,blue) part>> [[psysml:af047218-2074-4cd5-be73-a9bc4fd53c73 ]] {\r\n",
       "}\r\n",
       "comp def \"<i>B</i>\" as E6  <<(T,blue) item  def>> [[psysml:24ac0b44-19f7-4e7e-9d8c-29217623109a ]] {\r\n",
       "}\r\n",
       "comp usage \"<i>a</i>: A  \" as E7  <<(T,blue) part>> [[psysml:f97762a5-be4a-40f0-b15f-ded6f9a0a2bf ]] {\r\n",
       "}\r\n",
       "comp def \"C\" as E8  <<(T,blue) part  def>> [[psysml:2119f9fa-e703-4679-adcc-c9e3fda7136e ]] {\r\n",
       "}\r\n",
       "comp def \"P\" as E9  <<(T,blue) port  def>> [[psysml:f9be0f9f-7828-47af-b676-a3098923450b ]] {\r\n",
       "}\r\n",
       "comp usage \"a1: A  \" as E10  <<(T,blue) item>> [[psysml:bdd21edf-ffb1-47e0-8301-b129ba721304 ]] {\r\n",
       "}\r\n",
       "comp usage \"a2: A  \" as E11  <<(T,blue) item>> [[psysml:ea86bb80-7fc3-4478-bdc0-15728142c0fa ]] {\r\n",
       "}\r\n",
       "}\r\n",
       "E2 - -:|> E3 [[psysml:358bd963-d6cf-4c51-9d97-dc29b520688f ]] \r\n",
       "E3 *- - E4 [[psysml:724ffe94-cfbf-4ea2-b315-6baf1a587f0c ]] \r\n",
       "E3 o- - E5 [[psysml:9c72d63b-be6b-487b-af19-53b3ed2c634b ]] \r\n",
       "E4 - -:|> E6 [[psysml:c1d845e5-90b4-4786-9172-2f85f48f902a ]] \r\n",
       "E6 *- - E7 [[psysml:ee76f7ce-c996-4988-9b1a-5ac16ad8d066 ]] \r\n",
       "E7 - -:|> E3 [[psysml:1cb41c8a-3888-4a6d-b592-33957295a7ee ]] \r\n",
       "E5 - -:|> E8 [[psysml:b2862137-6a73-49a4-ad0f-48652eafb24c ]] \r\n",
       "E8 o- - E3 [[psysml:764dcc5f-c791-44bd-8fe4-0cc6162433fb ]] : y\r\n",
       "E8 o- - E6 [[psysml:764dcc5f-c791-44bd-8fe4-0cc6162433fb ]] : y\r\n",
       "E9 o- - E10 [[psysml:1f369bef-866d-4201-85d0-19625ffb0bd4 ]] \r\n",
       "E10 - -:|> E3 [[psysml:0dc69dec-387f-4606-9efc-6b8567a081cf ]] \r\n",
       "E9 o- - E11 [[psysml:41147f3b-680c-4b19-9ea9-1ad0d7284d0b ]] \r\n",
       "E11 - -:|> E3 [[psysml:86cba12c-5c0b-4cb2-8a0f-652783ee7e3b ]] \r\n",
       "@enduml\r\n",
       "\n",
       "PlantUML version 1.2022.7(Mon Aug 22 17:01:30 UTC 2022)\n",
       "(EPL source distribution)\n",
       "Java Runtime: OpenJDK Runtime Environment\n",
       "JVM: OpenJDK 64-Bit Server VM\n",
       "Default Encoding: UTF-8\n",
       "Language: en\n",
       "Country: null\n",
       "--></g></svg>"
      ]
     },
     "execution_count": 24,
     "metadata": {},
     "output_type": "execute_result"
    }
   ],
   "source": [
    "%viz --style=\"STDCOLOR\" --view=\"Tree\" \"ItemTest\""
   ]
  },
  {
   "cell_type": "code",
   "execution_count": 25,
   "id": "990ca44a",
   "metadata": {
    "execution": {
     "iopub.execute_input": "2024-12-16T03:22:54.628687Z",
     "iopub.status.busy": "2024-12-16T03:22:54.628466Z",
     "iopub.status.idle": "2024-12-16T03:22:54.632971Z",
     "shell.execute_reply": "2024-12-16T03:22:54.632789Z"
    }
   },
   "outputs": [
    {
     "data": {
      "image/svg+xml": [
       "<?xml version=\"1.0\" encoding=\"UTF-8\" standalone=\"no\"?><svg xmlns=\"http://www.w3.org/2000/svg\" xmlns:xlink=\"http://www.w3.org/1999/xlink\" contentStyleType=\"text/css\" height=\"10px\" preserveAspectRatio=\"none\" style=\"width:10px;height:10px;background:#FFFFFF;\" version=\"1.1\" viewBox=\"0 0 10 10\" width=\"10px\" zoomAndPan=\"magnify\"><defs/><g><!--MD5=[a1048f16c75022af837d4b7065e6f600]\n",
       "@startuml\r\n",
       "skin sysmlc\r\n",
       "skinparam wrapWidth 300\r\n",
       "hide circle\r\n",
       "\r\n",
       "@enduml\r\n",
       "\n",
       "PlantUML version 1.2022.7(Mon Aug 22 17:01:30 UTC 2022)\n",
       "(EPL source distribution)\n",
       "Java Runtime: OpenJDK Runtime Environment\n",
       "JVM: OpenJDK 64-Bit Server VM\n",
       "Default Encoding: UTF-8\n",
       "Language: en\n",
       "Country: null\n",
       "--></g></svg>"
      ]
     },
     "execution_count": 25,
     "metadata": {},
     "output_type": "execute_result"
    }
   ],
   "source": [
    "%viz --style=\"STDCOLOR\" --view=\"State\" \"ItemTest\""
   ]
  },
  {
   "cell_type": "code",
   "execution_count": 26,
   "id": "265b163e",
   "metadata": {
    "execution": {
     "iopub.execute_input": "2024-12-16T03:22:54.688549Z",
     "iopub.status.busy": "2024-12-16T03:22:54.688319Z",
     "iopub.status.idle": "2024-12-16T03:22:54.705701Z",
     "shell.execute_reply": "2024-12-16T03:22:54.704913Z"
    }
   },
   "outputs": [
    {
     "data": {
      "image/svg+xml": [
       "<?xml version=\"1.0\" encoding=\"UTF-8\" standalone=\"no\"?><svg xmlns=\"http://www.w3.org/2000/svg\" xmlns:xlink=\"http://www.w3.org/1999/xlink\" contentStyleType=\"text/css\" height=\"245px\" preserveAspectRatio=\"none\" style=\"width:478px;height:245px;background:#FFFFFF;\" version=\"1.1\" viewBox=\"0 0 478 245\" width=\"478px\" zoomAndPan=\"magnify\"><defs><filter height=\"300%\" id=\"f2zt2zlrcs60a\" width=\"300%\" x=\"-1\" y=\"-1\"><feGaussianBlur result=\"blurOut\" stdDeviation=\"2.0\"/><feColorMatrix in=\"blurOut\" result=\"blurOut2\" type=\"matrix\" values=\"0 0 0 0 0 0 0 0 0 0 0 0 0 0 0 0 0 0 .4 0\"/><feOffset dx=\"4.0\" dy=\"4.0\" in=\"blurOut2\" result=\"blurOut3\"/><feBlend in=\"SourceGraphic\" in2=\"blurOut3\" mode=\"normal\"/></filter></defs><g><!--MD5=[fbc87193dbaf4d95561dea2c320d4a47]\n",
       "cluster E1--><g id=\"cluster_E1\"><a href=\"psysml:b50080a1-e82f-4c80-9a3f-5d66ab4e7e23\" target=\"_top\" title=\"psysml:b50080a1-e82f-4c80-9a3f-5d66ab4e7e23\" xlink:actuate=\"onRequest\" xlink:href=\"psysml:b50080a1-e82f-4c80-9a3f-5d66ab4e7e23\" xlink:show=\"new\" xlink:title=\"psysml:b50080a1-e82f-4c80-9a3f-5d66ab4e7e23\" xlink:type=\"simple\"><polygon fill=\"none\" filter=\"url(#f2zt2zlrcs60a)\" points=\"16,6,86.5,6,93.5,28.2969,461,28.2969,461,238,16,238,16,6\" style=\"stroke:#000000;stroke-width:1.5;\"/><line style=\"stroke:#000000;stroke-width:1.5;\" x1=\"16\" x2=\"93.5\" y1=\"28.2969\" y2=\"28.2969\"/><text fill=\"#000000\" font-family=\"sans-serif\" font-size=\"14\" font-weight=\"bold\" lengthAdjust=\"spacing\" textLength=\"64.5\" x=\"20\" y=\"20.9951\">ItemTest</text></a></g><!--MD5=[de5ec2e2e8f62f467e546659f5068c88]\n",
       "cluster E5--><g id=\"cluster_E5\"><a href=\"psysml:2119f9fa-e703-4679-adcc-c9e3fda7136e\" target=\"_top\" title=\"psysml:2119f9fa-e703-4679-adcc-c9e3fda7136e\" xlink:actuate=\"onRequest\" xlink:href=\"psysml:2119f9fa-e703-4679-adcc-c9e3fda7136e\" xlink:show=\"new\" xlink:title=\"psysml:2119f9fa-e703-4679-adcc-c9e3fda7136e\" xlink:type=\"simple\"><rect fill=\"#FFFFFF\" filter=\"url(#f2zt2zlrcs60a)\" height=\"112\" id=\"E5\" style=\"stroke:#A80036;stroke-width:1.5;\" width=\"114\" x=\"323\" y=\"49\"/><rect fill=\"#FFFACD\" height=\"40.2656\" style=\"stroke:#A80036;stroke-width:1.5;\" width=\"114\" x=\"323\" y=\"49\"/><text fill=\"#000000\" font-family=\"sans-serif\" font-size=\"12\" font-style=\"italic\" lengthAdjust=\"spacing\" textLength=\"68\" x=\"346\" y=\"65.1387\">«part  def»</text><text fill=\"#000000\" font-family=\"sans-serif\" font-size=\"14\" lengthAdjust=\"spacing\" textLength=\"10\" x=\"375\" y=\"80.9639\">C</text></a></g><g><a href=\"psysml:90a9c46f-1bc9-4470-bf4e-8ae555dfcfc9\" target=\"_top\" title=\"psysml:90a9c46f-1bc9-4470-bf4e-8ae555dfcfc9\" xlink:actuate=\"onRequest\" xlink:href=\"psysml:90a9c46f-1bc9-4470-bf4e-8ae555dfcfc9\" xlink:show=\"new\" xlink:title=\"psysml:90a9c46f-1bc9-4470-bf4e-8ae555dfcfc9\" xlink:type=\"simple\"><rect fill=\"#FFFACD\" filter=\"url(#f2zt2zlrcs60a)\" height=\"45.2656\" id=\"E3\" style=\"stroke:#A80036;stroke-width:1.5;\" width=\"76\" x=\"32\" y=\"177\"/><text fill=\"#000000\" font-family=\"sans-serif\" font-size=\"12\" font-style=\"italic\" lengthAdjust=\"spacing\" textLength=\"69\" x=\"35.5\" y=\"193.1387\">«item  def»</text><text fill=\"#000000\" font-family=\"sans-serif\" font-size=\"14\" lengthAdjust=\"spacing\" textLength=\"9\" x=\"65.5\" y=\"208.9639\">A</text></a></g><g><a href=\"psysml:24ac0b44-19f7-4e7e-9d8c-29217623109a\" target=\"_top\" title=\"psysml:24ac0b44-19f7-4e7e-9d8c-29217623109a\" xlink:actuate=\"onRequest\" xlink:href=\"psysml:24ac0b44-19f7-4e7e-9d8c-29217623109a\" xlink:show=\"new\" xlink:title=\"psysml:24ac0b44-19f7-4e7e-9d8c-29217623109a\" xlink:type=\"simple\"><rect fill=\"#FFFACD\" filter=\"url(#f2zt2zlrcs60a)\" height=\"45.2656\" id=\"E4\" style=\"stroke:#A80036;stroke-width:1.5;\" width=\"76\" x=\"228\" y=\"100\"/><text fill=\"#000000\" font-family=\"sans-serif\" font-size=\"12\" font-style=\"italic\" lengthAdjust=\"spacing\" textLength=\"69\" x=\"231.5\" y=\"116.1387\">«item  def»</text><text fill=\"#000000\" font-family=\"sans-serif\" font-size=\"14\" font-style=\"italic\" lengthAdjust=\"spacing\" textLength=\"10\" x=\"261\" y=\"131.9639\">B</text></a></g><g><a href=\"psysml:f9be0f9f-7828-47af-b676-a3098923450b\" target=\"_top\" title=\"psysml:f9be0f9f-7828-47af-b676-a3098923450b\" xlink:actuate=\"onRequest\" xlink:href=\"psysml:f9be0f9f-7828-47af-b676-a3098923450b\" xlink:show=\"new\" xlink:title=\"psysml:f9be0f9f-7828-47af-b676-a3098923450b\" xlink:type=\"simple\"><rect fill=\"#FFFACD\" filter=\"url(#f2zt2zlrcs60a)\" height=\"45.2656\" id=\"E7\" style=\"stroke:#A80036;stroke-width:1.5;\" width=\"75\" x=\"117.5\" y=\"100\"/><text fill=\"#000000\" font-family=\"sans-serif\" font-size=\"12\" font-style=\"italic\" lengthAdjust=\"spacing\" textLength=\"68\" x=\"121\" y=\"116.1387\">«port  def»</text><text fill=\"#000000\" font-family=\"sans-serif\" font-size=\"14\" lengthAdjust=\"spacing\" textLength=\"9\" x=\"150.5\" y=\"131.9639\">P</text></a></g><g><a href=\"psysml:4d36820e-7c5e-46bd-9de5-e346cea54837\" target=\"_top\" title=\"psysml:4d36820e-7c5e-46bd-9de5-e346cea54837\" xlink:actuate=\"onRequest\" xlink:href=\"psysml:4d36820e-7c5e-46bd-9de5-e346cea54837\" xlink:show=\"new\" xlink:title=\"psysml:4d36820e-7c5e-46bd-9de5-e346cea54837\" xlink:type=\"simple\"><rect fill=\"#FFFACD\" filter=\"url(#f2zt2zlrcs60a)\" height=\"45.2656\" id=\"E2\" rx=\"10\" ry=\"10\" style=\"stroke:#A80036;stroke-width:1.5;\" width=\"50\" x=\"32\" y=\"100\"/><text fill=\"#000000\" font-family=\"sans-serif\" font-size=\"12\" font-style=\"italic\" lengthAdjust=\"spacing\" textLength=\"41\" x=\"36.5\" y=\"116.1387\">«item»</text><text fill=\"#000000\" font-family=\"sans-serif\" font-size=\"14\" lengthAdjust=\"spacing\" textLength=\"22\" x=\"46\" y=\"131.9639\">f: A</text></a></g><g><a href=\"psysml:764dcc5f-c791-44bd-8fe4-0cc6162433fb\" target=\"_top\" title=\"psysml:764dcc5f-c791-44bd-8fe4-0cc6162433fb\" xlink:actuate=\"onRequest\" xlink:href=\"psysml:764dcc5f-c791-44bd-8fe4-0cc6162433fb\" xlink:show=\"new\" xlink:title=\"psysml:764dcc5f-c791-44bd-8fe4-0cc6162433fb\" xlink:type=\"simple\"><rect fill=\"#FFFACD\" filter=\"url(#f2zt2zlrcs60a)\" height=\"45.2656\" id=\"E6\" rx=\"10\" ry=\"10\" style=\"stroke:#A80036;stroke-width:1.5;\" width=\"82\" x=\"339\" y=\"100\"/><text fill=\"#000000\" font-family=\"sans-serif\" font-size=\"12\" font-style=\"italic\" lengthAdjust=\"spacing\" textLength=\"75\" x=\"342.5\" y=\"116.1387\">«reference»</text><text fill=\"#000000\" font-family=\"sans-serif\" font-size=\"14\" lengthAdjust=\"spacing\" textLength=\"43\" x=\"354.5\" y=\"131.9639\">y: A, B</text></a></g><!--MD5=[2720a5a1f2c3fca2055b230370638851]\n",
       "link E2 to E3--><g id=\"link_E2_E3\"><a href=\"psysml:358bd963-d6cf-4c51-9d97-dc29b520688f\" target=\"_top\" title=\"psysml:358bd963-d6cf-4c51-9d97-dc29b520688f\" xlink:actuate=\"onRequest\" xlink:href=\"psysml:358bd963-d6cf-4c51-9d97-dc29b520688f\" xlink:show=\"new\" xlink:title=\"psysml:358bd963-d6cf-4c51-9d97-dc29b520688f\" xlink:type=\"simple\"><path d=\"M60.76,145.19 C61.41,148.92 62.1,152.91 62.8,156.96 \" fill=\"none\" id=\"E2-to-E3\" style=\"stroke:#181818;stroke-width:1.0;\"/><polygon fill=\"#FFFFFF\" points=\"66.25,176.86,56.0959,159.3416,69.8886,156.9411,66.25,176.86\" style=\"stroke:#181818;stroke-width:1.0;\"/><ellipse cx=\"57.0889\" cy=\"153.3831\" fill=\"#181818\" rx=\"2\" ry=\"2\" style=\"stroke:#181818;stroke-width:1.0;\"/><ellipse cx=\"66.9408\" cy=\"151.6685\" fill=\"#181818\" rx=\"2\" ry=\"2\" style=\"stroke:#181818;stroke-width:1.0;\"/></a></g><!--MD5=[1600109c1e05ffbf6fa2fa076e1a0e61]\n",
       "@startuml\r\n",
       "skin sysmlc\r\n",
       "skinparam wrapWidth 300\r\n",
       "hide circle\r\n",
       "skinparam ranksep 10\r\n",
       "skinparam rectangle {\r\n",
       " backgroundColor<<block>> LightGreen\r\n",
       "}\r\n",
       "\r\n",
       "package \"ItemTest\" as E1  [[psysml:b50080a1-e82f-4c80-9a3f-5d66ab4e7e23 ]]  {\r\n",
       "rec usage \"f: A\" as E2  <<(T,blue) item>> [[psysml:4d36820e-7c5e-46bd-9de5-e346cea54837 ]] {\r\n",
       "}\r\n",
       "def \"A\" as E3  <<(T,blue) item  def>> [[psysml:90a9c46f-1bc9-4470-bf4e-8ae555dfcfc9 ]] \r\n",
       "def \"<i>B</i>\" as E4  <<(T,blue) item  def>> [[psysml:24ac0b44-19f7-4e7e-9d8c-29217623109a ]] \r\n",
       "rec def \"C\" as E5  <<(T,blue) part  def>> [[psysml:2119f9fa-e703-4679-adcc-c9e3fda7136e ]] {\r\n",
       "rec usage \"y: A, B  \" as E6  <<(T,blue) reference>> [[psysml:764dcc5f-c791-44bd-8fe4-0cc6162433fb ]] {\r\n",
       "}\r\n",
       "\r\n",
       "}\r\n",
       "def \"P\" as E7  <<(T,blue) port  def>> [[psysml:f9be0f9f-7828-47af-b676-a3098923450b ]] \r\n",
       "}\r\n",
       "E2 - -:|> E3 [[psysml:358bd963-d6cf-4c51-9d97-dc29b520688f ]] \r\n",
       "@enduml\r\n",
       "\n",
       "PlantUML version 1.2022.7(Mon Aug 22 17:01:30 UTC 2022)\n",
       "(EPL source distribution)\n",
       "Java Runtime: OpenJDK Runtime Environment\n",
       "JVM: OpenJDK 64-Bit Server VM\n",
       "Default Encoding: UTF-8\n",
       "Language: en\n",
       "Country: null\n",
       "--></g></svg>"
      ]
     },
     "execution_count": 26,
     "metadata": {},
     "output_type": "execute_result"
    }
   ],
   "source": [
    "%viz --style=\"STDCOLOR\" --view=\"Interconnection\" \"ItemTest\""
   ]
  },
  {
   "cell_type": "code",
   "execution_count": 27,
   "id": "0e5362e0",
   "metadata": {
    "execution": {
     "iopub.execute_input": "2024-12-16T03:22:54.760915Z",
     "iopub.status.busy": "2024-12-16T03:22:54.760675Z",
     "iopub.status.idle": "2024-12-16T03:22:54.766443Z",
     "shell.execute_reply": "2024-12-16T03:22:54.766252Z"
    }
   },
   "outputs": [
    {
     "data": {
      "image/svg+xml": [
       "<?xml version=\"1.0\" encoding=\"UTF-8\" standalone=\"no\"?><svg xmlns=\"http://www.w3.org/2000/svg\" xmlns:xlink=\"http://www.w3.org/1999/xlink\" contentStyleType=\"text/css\" height=\"10px\" preserveAspectRatio=\"none\" style=\"width:10px;height:10px;background:#FFFFFF;\" version=\"1.1\" viewBox=\"0 0 10 10\" width=\"10px\" zoomAndPan=\"magnify\"><defs/><g><!--MD5=[f1e15a62785563bad28e840d677c8e75]\n",
       "@startuml\r\n",
       "skin sysmlc\r\n",
       "skinparam wrapWidth 300\r\n",
       "hide circle\r\n",
       "skinparam ranksep 8\r\n",
       "\r\n",
       "@enduml\r\n",
       "\n",
       "PlantUML version 1.2022.7(Mon Aug 22 17:01:30 UTC 2022)\n",
       "(EPL source distribution)\n",
       "Java Runtime: OpenJDK Runtime Environment\n",
       "JVM: OpenJDK 64-Bit Server VM\n",
       "Default Encoding: UTF-8\n",
       "Language: en\n",
       "Country: null\n",
       "--></g></svg>"
      ]
     },
     "execution_count": 27,
     "metadata": {},
     "output_type": "execute_result"
    }
   ],
   "source": [
    "%viz --style=\"STDCOLOR\" --view=\"Action\" \"ItemTest\""
   ]
  },
  {
   "cell_type": "code",
   "execution_count": 28,
   "id": "6df2f953",
   "metadata": {
    "execution": {
     "iopub.execute_input": "2024-12-16T03:22:54.822695Z",
     "iopub.status.busy": "2024-12-16T03:22:54.822456Z",
     "iopub.status.idle": "2024-12-16T03:22:54.828509Z",
     "shell.execute_reply": "2024-12-16T03:22:54.828322Z"
    }
   },
   "outputs": [
    {
     "data": {
      "image/svg+xml": [
       "<?xml version=\"1.0\" encoding=\"UTF-8\" standalone=\"no\"?><svg xmlns=\"http://www.w3.org/2000/svg\" xmlns:xlink=\"http://www.w3.org/1999/xlink\" contentStyleType=\"text/css\" height=\"10px\" preserveAspectRatio=\"none\" style=\"width:10px;height:10px;background:#FFFFFF;\" version=\"1.1\" viewBox=\"0 0 10 10\" width=\"10px\" zoomAndPan=\"magnify\"><defs/><g><!--MD5=[e54413e611bf323face5c486cd3a32bb]\n",
       "@startuml\r\n",
       "skin sysmlc\r\n",
       "skinparam wrapWidth 300\r\n",
       "hide circle\r\n",
       "skinparam roundcorner 20\r\n",
       "skinparam BoxPadding 20\r\n",
       "skinparam SequenceBoxBackgroundColor #white\r\n",
       "skinparam style strictuml\r\n",
       "skinparam maxMessageSize 100\r\n",
       "\r\n",
       "@enduml\r\n",
       "\n",
       "PlantUML version 1.2022.7(Mon Aug 22 17:01:30 UTC 2022)\n",
       "(EPL source distribution)\n",
       "Java Runtime: OpenJDK Runtime Environment\n",
       "JVM: OpenJDK 64-Bit Server VM\n",
       "Default Encoding: UTF-8\n",
       "Language: en\n",
       "Country: null\n",
       "--></g></svg>"
      ]
     },
     "execution_count": 28,
     "metadata": {},
     "output_type": "execute_result"
    }
   ],
   "source": [
    "%viz --style=\"STDCOLOR\" --view=\"Sequence\" \"ItemTest\""
   ]
  },
  {
   "cell_type": "code",
   "execution_count": 29,
   "id": "35bd793f",
   "metadata": {
    "execution": {
     "iopub.execute_input": "2024-12-16T03:22:54.884793Z",
     "iopub.status.busy": "2024-12-16T03:22:54.884561Z",
     "iopub.status.idle": "2024-12-16T03:22:54.911727Z",
     "shell.execute_reply": "2024-12-16T03:22:54.910619Z"
    }
   },
   "outputs": [
    {
     "data": {
      "image/svg+xml": [
       "<?xml version=\"1.0\" encoding=\"UTF-8\" standalone=\"no\"?><svg xmlns=\"http://www.w3.org/2000/svg\" xmlns:xlink=\"http://www.w3.org/1999/xlink\" contentStyleType=\"text/css\" height=\"829px\" preserveAspectRatio=\"none\" style=\"width:277px;height:829px;background:#FFFFFF;\" version=\"1.1\" viewBox=\"0 0 277 829\" width=\"277px\" zoomAndPan=\"magnify\"><defs><filter height=\"300%\" id=\"fd9turzz7mbmf\" width=\"300%\" x=\"-1\" y=\"-1\"><feGaussianBlur result=\"blurOut\" stdDeviation=\"2.0\"/><feColorMatrix in=\"blurOut\" result=\"blurOut2\" type=\"matrix\" values=\"0 0 0 0 0 0 0 0 0 0 0 0 0 0 0 0 0 0 .4 0\"/><feOffset dx=\"4.0\" dy=\"4.0\" in=\"blurOut2\" result=\"blurOut3\"/><feBlend in=\"SourceGraphic\" in2=\"blurOut3\" mode=\"normal\"/></filter></defs><g><!--MD5=[fbc87193dbaf4d95561dea2c320d4a47]\n",
       "cluster E1--><g id=\"cluster_E1\"><a href=\"psysml:b50080a1-e82f-4c80-9a3f-5d66ab4e7e23\" target=\"_top\" title=\"psysml:b50080a1-e82f-4c80-9a3f-5d66ab4e7e23\" xlink:actuate=\"onRequest\" xlink:href=\"psysml:b50080a1-e82f-4c80-9a3f-5d66ab4e7e23\" xlink:show=\"new\" xlink:title=\"psysml:b50080a1-e82f-4c80-9a3f-5d66ab4e7e23\" xlink:type=\"simple\"><polygon fill=\"none\" filter=\"url(#fd9turzz7mbmf)\" points=\"16,6,86.5,6,93.5,28.2969,260,28.2969,260,822,16,822,16,6\" style=\"stroke:#000000;stroke-width:1.5;\"/><line style=\"stroke:#000000;stroke-width:1.5;\" x1=\"16\" x2=\"93.5\" y1=\"28.2969\" y2=\"28.2969\"/><text fill=\"#000000\" font-family=\"sans-serif\" font-size=\"14\" font-weight=\"bold\" lengthAdjust=\"spacing\" textLength=\"64.5\" x=\"20\" y=\"20.9951\">ItemTest</text></a></g><!--MD5=[b4997ac47864f28c2f74865a473b2911]\n",
       "class E2--><a href=\"psysml:4d36820e-7c5e-46bd-9de5-e346cea54837\" target=\"_top\" title=\"psysml:4d36820e-7c5e-46bd-9de5-e346cea54837\" xlink:actuate=\"onRequest\" xlink:href=\"psysml:4d36820e-7c5e-46bd-9de5-e346cea54837\" xlink:show=\"new\" xlink:title=\"psysml:4d36820e-7c5e-46bd-9de5-e346cea54837\" xlink:type=\"simple\"><g id=\"elem_E2\"><rect fill=\"#FFFACD\" filter=\"url(#fd9turzz7mbmf)\" height=\"48.2656\" id=\"E2\" rx=\"10\" ry=\"10\" style=\"stroke:#181818;stroke-width:0.5;\" width=\"43\" x=\"200.5\" y=\"150\"/><text fill=\"#000000\" font-family=\"sans-serif\" font-size=\"12\" font-style=\"italic\" lengthAdjust=\"spacing\" textLength=\"41\" x=\"201.5\" y=\"166.1387\">«item»</text><text fill=\"#000000\" font-family=\"sans-serif\" font-size=\"14\" lengthAdjust=\"spacing\" textLength=\"22\" x=\"207\" y=\"181.9639\">f: A</text><line style=\"stroke:#181818;stroke-width:0.5;\" x1=\"201.5\" x2=\"242.5\" y1=\"190.2656\" y2=\"190.2656\"/></g></a><!--MD5=[09b614a08d8cba4a07c9adeb5e0fee81]\n",
       "class E3--><a href=\"psysml:90a9c46f-1bc9-4470-bf4e-8ae555dfcfc9\" target=\"_top\" title=\"psysml:90a9c46f-1bc9-4470-bf4e-8ae555dfcfc9\" xlink:actuate=\"onRequest\" xlink:href=\"psysml:90a9c46f-1bc9-4470-bf4e-8ae555dfcfc9\" xlink:show=\"new\" xlink:title=\"psysml:90a9c46f-1bc9-4470-bf4e-8ae555dfcfc9\" xlink:type=\"simple\"><g id=\"elem_E3\"><rect fill=\"#FFFACD\" filter=\"url(#fd9turzz7mbmf)\" height=\"48.2656\" id=\"E3\" style=\"stroke:#181818;stroke-width:0.5;\" width=\"71\" x=\"105.5\" y=\"259\"/><text fill=\"#000000\" font-family=\"sans-serif\" font-size=\"12\" font-style=\"italic\" lengthAdjust=\"spacing\" textLength=\"69\" x=\"106.5\" y=\"275.1387\">«item  def»</text><text fill=\"#000000\" font-family=\"sans-serif\" font-size=\"14\" lengthAdjust=\"spacing\" textLength=\"9\" x=\"136.5\" y=\"290.9639\">A</text><line style=\"stroke:#181818;stroke-width:0.5;\" x1=\"106.5\" x2=\"175.5\" y1=\"299.2656\" y2=\"299.2656\"/></g></a><!--MD5=[ebbe1d658d1005bcc118a6aa81145e00]\n",
       "class E4--><a href=\"psysml:d394e1d7-ba50-4340-ad50-ece704d14a42\" target=\"_top\" title=\"psysml:d394e1d7-ba50-4340-ad50-ece704d14a42\" xlink:actuate=\"onRequest\" xlink:href=\"psysml:d394e1d7-ba50-4340-ad50-ece704d14a42\" xlink:show=\"new\" xlink:title=\"psysml:d394e1d7-ba50-4340-ad50-ece704d14a42\" xlink:type=\"simple\"><g id=\"elem_E4\"><rect fill=\"#FFFACD\" filter=\"url(#fd9turzz7mbmf)\" height=\"48.2656\" id=\"E4\" rx=\"10\" ry=\"10\" style=\"stroke:#181818;stroke-width:0.5;\" width=\"43\" x=\"48.5\" y=\"446\"/><text fill=\"#000000\" font-family=\"sans-serif\" font-size=\"12\" font-style=\"italic\" lengthAdjust=\"spacing\" textLength=\"41\" x=\"49.5\" y=\"462.1387\">«item»</text><text fill=\"#000000\" font-family=\"sans-serif\" font-size=\"14\" lengthAdjust=\"spacing\" textLength=\"28\" x=\"52\" y=\"477.9639\">b: B</text><line style=\"stroke:#181818;stroke-width:0.5;\" x1=\"49.5\" x2=\"90.5\" y1=\"486.2656\" y2=\"486.2656\"/></g></a><!--MD5=[270fce915f116d4de14055a7c1d9a0f3]\n",
       "class E5--><a href=\"psysml:af047218-2074-4cd5-be73-a9bc4fd53c73\" target=\"_top\" title=\"psysml:af047218-2074-4cd5-be73-a9bc4fd53c73\" xlink:actuate=\"onRequest\" xlink:href=\"psysml:af047218-2074-4cd5-be73-a9bc4fd53c73\" xlink:show=\"new\" xlink:title=\"psysml:af047218-2074-4cd5-be73-a9bc4fd53c73\" xlink:type=\"simple\"><g id=\"elem_E5\"><rect fill=\"#FFFACD\" filter=\"url(#fd9turzz7mbmf)\" height=\"48.2656\" id=\"E5\" rx=\"10\" ry=\"10\" style=\"stroke:#181818;stroke-width:0.5;\" width=\"42\" x=\"157\" y=\"368\"/><text fill=\"#000000\" font-family=\"sans-serif\" font-size=\"12\" font-style=\"italic\" lengthAdjust=\"spacing\" textLength=\"40\" x=\"158\" y=\"384.1387\">«part»</text><text fill=\"#000000\" font-family=\"sans-serif\" font-size=\"14\" lengthAdjust=\"spacing\" textLength=\"27\" x=\"160.5\" y=\"399.9639\">c: C</text><line style=\"stroke:#181818;stroke-width:0.5;\" x1=\"158\" x2=\"198\" y1=\"408.2656\" y2=\"408.2656\"/></g></a><!--MD5=[60a26617385b1d2d0262a64233df1f8d]\n",
       "class E6--><a href=\"psysml:24ac0b44-19f7-4e7e-9d8c-29217623109a\" target=\"_top\" title=\"psysml:24ac0b44-19f7-4e7e-9d8c-29217623109a\" xlink:actuate=\"onRequest\" xlink:href=\"psysml:24ac0b44-19f7-4e7e-9d8c-29217623109a\" xlink:show=\"new\" xlink:title=\"psysml:24ac0b44-19f7-4e7e-9d8c-29217623109a\" xlink:type=\"simple\"><g id=\"elem_E6\"><rect fill=\"#FFFACD\" filter=\"url(#fd9turzz7mbmf)\" height=\"48.2656\" id=\"E6\" style=\"stroke:#181818;stroke-width:0.5;\" width=\"71\" x=\"116.5\" y=\"649\"/><text fill=\"#000000\" font-family=\"sans-serif\" font-size=\"12\" font-style=\"italic\" lengthAdjust=\"spacing\" textLength=\"69\" x=\"117.5\" y=\"665.1387\">«item  def»</text><text fill=\"#000000\" font-family=\"sans-serif\" font-size=\"14\" font-style=\"italic\" lengthAdjust=\"spacing\" textLength=\"10\" x=\"147\" y=\"680.9639\">B</text><line style=\"stroke:#181818;stroke-width:0.5;\" x1=\"117.5\" x2=\"186.5\" y1=\"689.2656\" y2=\"689.2656\"/></g></a><!--MD5=[2156ba9850f5573cc1fc38a6a4b2f02b]\n",
       "class E7--><a href=\"psysml:f97762a5-be4a-40f0-b15f-ded6f9a0a2bf\" target=\"_top\" title=\"psysml:f97762a5-be4a-40f0-b15f-ded6f9a0a2bf\" xlink:actuate=\"onRequest\" xlink:href=\"psysml:f97762a5-be4a-40f0-b15f-ded6f9a0a2bf\" xlink:show=\"new\" xlink:title=\"psysml:f97762a5-be4a-40f0-b15f-ded6f9a0a2bf\" xlink:type=\"simple\"><g id=\"elem_E7\"><rect fill=\"#FFFACD\" filter=\"url(#fd9turzz7mbmf)\" height=\"48.2656\" id=\"E7\" rx=\"10\" ry=\"10\" style=\"stroke:#181818;stroke-width:0.5;\" width=\"42\" x=\"167\" y=\"758\"/><text fill=\"#000000\" font-family=\"sans-serif\" font-size=\"12\" font-style=\"italic\" lengthAdjust=\"spacing\" textLength=\"40\" x=\"168\" y=\"774.1387\">«part»</text><text fill=\"#000000\" font-family=\"sans-serif\" font-size=\"14\" font-style=\"italic\" lengthAdjust=\"spacing\" textLength=\"8\" x=\"171\" y=\"789.9639\">a</text><text fill=\"#000000\" font-family=\"sans-serif\" font-size=\"14\" lengthAdjust=\"spacing\" textLength=\"18\" x=\"179\" y=\"789.9639\">: A</text><line style=\"stroke:#181818;stroke-width:0.5;\" x1=\"168\" x2=\"208\" y1=\"798.2656\" y2=\"798.2656\"/></g></a><!--MD5=[b9389687b975829384b498ac4b7476b2]\n",
       "class E8--><a href=\"psysml:2119f9fa-e703-4679-adcc-c9e3fda7136e\" target=\"_top\" title=\"psysml:2119f9fa-e703-4679-adcc-c9e3fda7136e\" xlink:actuate=\"onRequest\" xlink:href=\"psysml:2119f9fa-e703-4679-adcc-c9e3fda7136e\" xlink:show=\"new\" xlink:title=\"psysml:2119f9fa-e703-4679-adcc-c9e3fda7136e\" xlink:type=\"simple\"><g id=\"elem_E8\"><rect fill=\"#FFFACD\" filter=\"url(#fd9turzz7mbmf)\" height=\"48.2656\" id=\"E8\" style=\"stroke:#181818;stroke-width:0.5;\" width=\"70\" x=\"117\" y=\"524\"/><text fill=\"#000000\" font-family=\"sans-serif\" font-size=\"12\" font-style=\"italic\" lengthAdjust=\"spacing\" textLength=\"68\" x=\"118\" y=\"540.1387\">«part  def»</text><text fill=\"#000000\" font-family=\"sans-serif\" font-size=\"14\" lengthAdjust=\"spacing\" textLength=\"10\" x=\"147\" y=\"555.9639\">C</text><line style=\"stroke:#181818;stroke-width:0.5;\" x1=\"118\" x2=\"186\" y1=\"564.2656\" y2=\"564.2656\"/></g></a><!--MD5=[fd4143e9d270a159db93a4ea2a975926]\n",
       "class E9--><a href=\"psysml:f9be0f9f-7828-47af-b676-a3098923450b\" target=\"_top\" title=\"psysml:f9be0f9f-7828-47af-b676-a3098923450b\" xlink:actuate=\"onRequest\" xlink:href=\"psysml:f9be0f9f-7828-47af-b676-a3098923450b\" xlink:show=\"new\" xlink:title=\"psysml:f9be0f9f-7828-47af-b676-a3098923450b\" xlink:type=\"simple\"><g id=\"elem_E9\"><rect fill=\"#FFFACD\" filter=\"url(#fd9turzz7mbmf)\" height=\"48.2656\" id=\"E9\" style=\"stroke:#181818;stroke-width:0.5;\" width=\"70\" x=\"69\" y=\"41\"/><text fill=\"#000000\" font-family=\"sans-serif\" font-size=\"12\" font-style=\"italic\" lengthAdjust=\"spacing\" textLength=\"68\" x=\"70\" y=\"57.1387\">«port  def»</text><text fill=\"#000000\" font-family=\"sans-serif\" font-size=\"14\" lengthAdjust=\"spacing\" textLength=\"9\" x=\"99.5\" y=\"72.9639\">P</text><line style=\"stroke:#181818;stroke-width:0.5;\" x1=\"70\" x2=\"138\" y1=\"81.2656\" y2=\"81.2656\"/></g></a><!--MD5=[96f4274e9e20536e775497830990834d]\n",
       "class E10--><a href=\"psysml:bdd21edf-ffb1-47e0-8301-b129ba721304\" target=\"_top\" title=\"psysml:bdd21edf-ffb1-47e0-8301-b129ba721304\" xlink:actuate=\"onRequest\" xlink:href=\"psysml:bdd21edf-ffb1-47e0-8301-b129ba721304\" xlink:show=\"new\" xlink:title=\"psysml:bdd21edf-ffb1-47e0-8301-b129ba721304\" xlink:type=\"simple\"><g id=\"elem_E10\"><rect fill=\"#FFFACD\" filter=\"url(#fd9turzz7mbmf)\" height=\"48.2656\" id=\"E10\" rx=\"10\" ry=\"10\" style=\"stroke:#181818;stroke-width:0.5;\" width=\"49\" x=\"32.5\" y=\"150\"/><text fill=\"#000000\" font-family=\"sans-serif\" font-size=\"12\" font-style=\"italic\" lengthAdjust=\"spacing\" textLength=\"41\" x=\"36.5\" y=\"166.1387\">«item»</text><text fill=\"#000000\" font-family=\"sans-serif\" font-size=\"14\" lengthAdjust=\"spacing\" textLength=\"35\" x=\"35.5\" y=\"181.9639\">a1: A</text><line style=\"stroke:#181818;stroke-width:0.5;\" x1=\"33.5\" x2=\"80.5\" y1=\"190.2656\" y2=\"190.2656\"/></g></a><!--MD5=[1dd1bfd58a279cf63c5f349dbc8fc6a1]\n",
       "class E11--><a href=\"psysml:ea86bb80-7fc3-4478-bdc0-15728142c0fa\" target=\"_top\" title=\"psysml:ea86bb80-7fc3-4478-bdc0-15728142c0fa\" xlink:actuate=\"onRequest\" xlink:href=\"psysml:ea86bb80-7fc3-4478-bdc0-15728142c0fa\" xlink:show=\"new\" xlink:title=\"psysml:ea86bb80-7fc3-4478-bdc0-15728142c0fa\" xlink:type=\"simple\"><g id=\"elem_E11\"><rect fill=\"#FFFACD\" filter=\"url(#fd9turzz7mbmf)\" height=\"48.2656\" id=\"E11\" rx=\"10\" ry=\"10\" style=\"stroke:#181818;stroke-width:0.5;\" width=\"49\" x=\"116.5\" y=\"150\"/><text fill=\"#000000\" font-family=\"sans-serif\" font-size=\"12\" font-style=\"italic\" lengthAdjust=\"spacing\" textLength=\"41\" x=\"120.5\" y=\"166.1387\">«item»</text><text fill=\"#000000\" font-family=\"sans-serif\" font-size=\"14\" lengthAdjust=\"spacing\" textLength=\"35\" x=\"119.5\" y=\"181.9639\">a2: A</text><line style=\"stroke:#181818;stroke-width:0.5;\" x1=\"117.5\" x2=\"164.5\" y1=\"190.2656\" y2=\"190.2656\"/></g></a><!--MD5=[2720a5a1f2c3fca2055b230370638851]\n",
       "link E2 to E3--><g id=\"link_E2_E3\"><a href=\"psysml:358bd963-d6cf-4c51-9d97-dc29b520688f\" target=\"_top\" title=\"psysml:358bd963-d6cf-4c51-9d97-dc29b520688f\" xlink:actuate=\"onRequest\" xlink:href=\"psysml:358bd963-d6cf-4c51-9d97-dc29b520688f\" xlink:show=\"new\" xlink:title=\"psysml:358bd963-d6cf-4c51-9d97-dc29b520688f\" xlink:type=\"simple\"><path d=\"M204.42,198.22 C194.55,211.26 181.97,227.88 170.62,242.87 \" fill=\"none\" id=\"E2-to-E3\" style=\"stroke:#181818;stroke-width:1.0;\"/><polygon fill=\"#FFFFFF\" points=\"158.54,258.83,164.4286,239.4567,175.5901,247.9078,158.54,258.83\" style=\"stroke:#181818;stroke-width:1.0;\"/><ellipse cx=\"169.4639\" cy=\"236.1197\" fill=\"#181818\" rx=\"2\" ry=\"2\" style=\"stroke:#181818;stroke-width:1.0;\"/><ellipse cx=\"177.4364\" cy=\"242.1562\" fill=\"#181818\" rx=\"2\" ry=\"2\" style=\"stroke:#181818;stroke-width:1.0;\"/></a></g><!--MD5=[4672eba38e49728da53d11aeb285b987]\n",
       "reverse link E3 to E4--><g id=\"link_E3_E4\"><a href=\"psysml:724ffe94-cfbf-4ea2-b315-6baf1a587f0c\" target=\"_top\" title=\"psysml:724ffe94-cfbf-4ea2-b315-6baf1a587f0c\" xlink:actuate=\"onRequest\" xlink:href=\"psysml:724ffe94-cfbf-4ea2-b315-6baf1a587f0c\" xlink:show=\"new\" xlink:title=\"psysml:724ffe94-cfbf-4ea2-b315-6baf1a587f0c\" xlink:type=\"simple\"><path d=\"M104.38,316.32 C90.85,330.64 77.09,348.62 70,368 C60.72,393.36 62.6,424.76 65.58,445.75 \" fill=\"none\" id=\"E3-backto-E4\" style=\"stroke:#181818;stroke-width:1.0;\"/><polygon fill=\"#181818\" points=\"113.62,307.02,106.5522,308.4507,105.1545,315.525,112.2223,314.0943,113.62,307.02\" style=\"stroke:#181818;stroke-width:1.0;\"/></a></g><!--MD5=[191cde3d490a3f6d7bb551fe3ddca469]\n",
       "reverse link E3 to E5--><g id=\"link_E3_E5\"><a href=\"psysml:9c72d63b-be6b-487b-af19-53b3ed2c634b\" target=\"_top\" title=\"psysml:9c72d63b-be6b-487b-af19-53b3ed2c634b\" xlink:actuate=\"onRequest\" xlink:href=\"psysml:9c72d63b-be6b-487b-af19-53b3ed2c634b\" xlink:show=\"new\" xlink:title=\"psysml:9c72d63b-be6b-487b-af19-53b3ed2c634b\" xlink:type=\"simple\"><path d=\"M153.39,319.83 C158.86,335.66 165.14,353.82 169.99,367.83 \" fill=\"none\" id=\"E3-backto-E5\" style=\"stroke:#181818;stroke-width:1.0;\"/><polygon fill=\"none\" points=\"149.03,307.22,147.2077,314.1971,152.9472,318.5627,154.7695,311.5856,149.03,307.22\" style=\"stroke:#181818;stroke-width:1.0;\"/></a></g><!--MD5=[79568f1e445c3877b6a54524624ccc7d]\n",
       "link E4 to E6--><g id=\"link_E4_E6\"><a href=\"psysml:c1d845e5-90b4-4786-9172-2f85f48f902a\" target=\"_top\" title=\"psysml:c1d845e5-90b4-4786-9172-2f85f48f902a\" xlink:actuate=\"onRequest\" xlink:href=\"psysml:c1d845e5-90b4-4786-9172-2f85f48f902a\" xlink:show=\"new\" xlink:title=\"psysml:c1d845e5-90b4-4786-9172-2f85f48f902a\" xlink:type=\"simple\"><path d=\"M75.57,494.29 C80.84,515.04 89.51,546.05 100,572 C108.08,591.98 118.83,613.29 128.46,631.07 \" fill=\"none\" id=\"E4-to-E6\" style=\"stroke:#181818;stroke-width:1.0;\"/><polygon fill=\"#FFFFFF\" points=\"138.29,648.76,122.9437,635.5505,135.1819,628.7515,138.29,648.76\" style=\"stroke:#181818;stroke-width:1.0;\"/><ellipse cx=\"121.9238\" cy=\"629.5965\" fill=\"#181818\" rx=\"2\" ry=\"2\" style=\"stroke:#181818;stroke-width:1.0;\"/><ellipse cx=\"130.6654\" cy=\"624.7401\" fill=\"#181818\" rx=\"2\" ry=\"2\" style=\"stroke:#181818;stroke-width:1.0;\"/></a></g><!--MD5=[3f50a3473f1dfb74d3f76443e03635af]\n",
       "reverse link E6 to E7--><g id=\"link_E6_E7\"><a href=\"psysml:ee76f7ce-c996-4988-9b1a-5ac16ad8d066\" target=\"_top\" title=\"psysml:ee76f7ce-c996-4988-9b1a-5ac16ad8d066\" xlink:actuate=\"onRequest\" xlink:href=\"psysml:ee76f7ce-c996-4988-9b1a-5ac16ad8d066\" xlink:show=\"new\" xlink:title=\"psysml:ee76f7ce-c996-4988-9b1a-5ac16ad8d066\" xlink:type=\"simple\"><path d=\"M164.05,709.83 C169.38,725.66 175.49,743.82 180.2,757.83 \" fill=\"none\" id=\"E6-backto-E7\" style=\"stroke:#181818;stroke-width:1.0;\"/><polygon fill=\"#181818\" points=\"159.81,697.22,157.9296,704.1816,163.6324,708.5949,165.5128,701.6333,159.81,697.22\" style=\"stroke:#181818;stroke-width:1.0;\"/></a></g><!--MD5=[14ccda38c055a5c0da953d572bc50960]\n",
       "link E7 to E3--><g id=\"link_E7_E3\"><a href=\"psysml:1cb41c8a-3888-4a6d-b592-33957295a7ee\" target=\"_top\" title=\"psysml:1cb41c8a-3888-4a6d-b592-33957295a7ee\" xlink:actuate=\"onRequest\" xlink:href=\"psysml:1cb41c8a-3888-4a6d-b592-33957295a7ee\" xlink:show=\"new\" xlink:title=\"psysml:1cb41c8a-3888-4a6d-b592-33957295a7ee\" xlink:type=\"simple\"><path d=\"M204.97,757.64 C218.43,736.78 235,704.84 235,674 C235,391 235,391 235,391 C235,361.35 214.38,336.01 192.46,317.43 \" fill=\"none\" id=\"E7-to-E3\" style=\"stroke:#181818;stroke-width:1.0;\"/><polygon fill=\"#FFFFFF\" points=\"176.54,305.14,195.8578,311.2081,187.3035,322.2907,176.54,305.14\" style=\"stroke:#181818;stroke-width:1.0;\"/><ellipse cx=\"199.148\" cy=\"316.2741\" fill=\"#181818\" rx=\"2\" ry=\"2\" style=\"stroke:#181818;stroke-width:1.0;\"/><ellipse cx=\"193.0378\" cy=\"324.1903\" fill=\"#181818\" rx=\"2\" ry=\"2\" style=\"stroke:#181818;stroke-width:1.0;\"/></a></g><!--MD5=[dfaffb906826c3e5aca635516100ff21]\n",
       "link E5 to E8--><g id=\"link_E5_E8\"><a href=\"psysml:b2862137-6a73-49a4-ad0f-48652eafb24c\" target=\"_top\" title=\"psysml:b2862137-6a73-49a4-ad0f-48652eafb24c\" xlink:actuate=\"onRequest\" xlink:href=\"psysml:b2862137-6a73-49a4-ad0f-48652eafb24c\" xlink:show=\"new\" xlink:title=\"psysml:b2862137-6a73-49a4-ad0f-48652eafb24c\" xlink:type=\"simple\"><path d=\"M174.11,416.06 C170.2,439.19 164.09,475.38 159.28,503.86 \" fill=\"none\" id=\"E5-to-E8\" style=\"stroke:#181818;stroke-width:1.0;\"/><polygon fill=\"#FFFFFF\" points=\"155.92,523.79,152.1809,503.8898,165.9855,506.2206,155.92,523.79\" style=\"stroke:#181818;stroke-width:1.0;\"/><ellipse cx=\"155.1019\" cy=\"498.6023\" fill=\"#181818\" rx=\"2\" ry=\"2\" style=\"stroke:#181818;stroke-width:1.0;\"/><ellipse cx=\"164.9624\" cy=\"500.2671\" fill=\"#181818\" rx=\"2\" ry=\"2\" style=\"stroke:#181818;stroke-width:1.0;\"/></a></g><!--MD5=[03c8294790d3c57651a1993cecff665f]\n",
       "reverse link E8 to E3--><g id=\"link_E8_E3\"><a href=\"psysml:764dcc5f-c791-44bd-8fe4-0cc6162433fb\" target=\"_top\" title=\"psysml:764dcc5f-c791-44bd-8fe4-0cc6162433fb\" xlink:actuate=\"onRequest\" xlink:href=\"psysml:764dcc5f-c791-44bd-8fe4-0cc6162433fb\" xlink:show=\"new\" xlink:title=\"psysml:764dcc5f-c791-44bd-8fe4-0cc6162433fb\" xlink:type=\"simple\"><path d=\"M144.62,510.88 C139.66,484.68 133.57,448.31 131,416 C129.31,394.73 129.74,389.3 131,368 C132.23,347.33 135.14,323.95 137.5,307.11 \" fill=\"none\" id=\"E8-backto-E3\" style=\"stroke:#181818;stroke-width:1.0;\"/><polygon fill=\"none\" points=\"147.16,523.94,149.9387,517.2857,144.865,512.1615,142.0863,518.8158,147.16,523.94\" style=\"stroke:#181818;stroke-width:1.0;\"/><text fill=\"#000000\" font-family=\"sans-serif\" font-size=\"13\" lengthAdjust=\"spacing\" textLength=\"7\" x=\"132\" y=\"396.5669\">y</text></a></g><!--MD5=[0d75d2178373a6a4568e5dc728f58aef]\n",
       "reverse link E8 to E6--><g id=\"link_E8_E6\"><a href=\"psysml:764dcc5f-c791-44bd-8fe4-0cc6162433fb\" target=\"_top\" title=\"psysml:764dcc5f-c791-44bd-8fe4-0cc6162433fb\" xlink:actuate=\"onRequest\" xlink:href=\"psysml:764dcc5f-c791-44bd-8fe4-0cc6162433fb\" xlink:show=\"new\" xlink:title=\"psysml:764dcc5f-c791-44bd-8fe4-0cc6162433fb\" xlink:type=\"simple\"><path d=\"M152,585.21 C152,605.83 152,631.04 152,648.97 \" fill=\"none\" id=\"E8-backto-E6\" style=\"stroke:#181818;stroke-width:1.0;\"/><polygon fill=\"none\" points=\"152,572.14,148,578.14,152,584.14,156,578.14,152,572.14\" style=\"stroke:#181818;stroke-width:1.0;\"/><text fill=\"#000000\" font-family=\"sans-serif\" font-size=\"13\" lengthAdjust=\"spacing\" textLength=\"7\" x=\"153\" y=\"615.0669\">y</text></a></g><!--MD5=[23ac544a70576c3e717098101004234c]\n",
       "reverse link E9 to E10--><g id=\"link_E9_E10\"><a href=\"psysml:1f369bef-866d-4201-85d0-19625ffb0bd4\" target=\"_top\" title=\"psysml:1f369bef-866d-4201-85d0-19625ffb0bd4\" xlink:actuate=\"onRequest\" xlink:href=\"psysml:1f369bef-866d-4201-85d0-19625ffb0bd4\" xlink:show=\"new\" xlink:title=\"psysml:1f369bef-866d-4201-85d0-19625ffb0bd4\" xlink:type=\"simple\"><path d=\"M88.47,101.35 C81.47,117.29 73.39,135.68 67.18,149.83 \" fill=\"none\" id=\"E9-backto-E10\" style=\"stroke:#181818;stroke-width:1.0;\"/><polygon fill=\"none\" points=\"93.8,89.22,87.7243,93.1041,88.9729,100.2063,95.0485,96.3222,93.8,89.22\" style=\"stroke:#181818;stroke-width:1.0;\"/></a></g><!--MD5=[feeac5eb423634930294aa81f2d25a4c]\n",
       "link E10 to E3--><g id=\"link_E10_E3\"><a href=\"psysml:0dc69dec-387f-4606-9efc-6b8567a081cf\" target=\"_top\" title=\"psysml:0dc69dec-387f-4606-9efc-6b8567a081cf\" xlink:actuate=\"onRequest\" xlink:href=\"psysml:0dc69dec-387f-4606-9efc-6b8567a081cf\" xlink:show=\"new\" xlink:title=\"psysml:0dc69dec-387f-4606-9efc-6b8567a081cf\" xlink:type=\"simple\"><path d=\"M75.23,198.22 C85.46,211.26 98.51,227.88 110.28,242.87 \" fill=\"none\" id=\"E10-to-E3\" style=\"stroke:#181818;stroke-width:1.0;\"/><polygon fill=\"#FFFFFF\" points=\"122.81,258.83,105.5676,248.214,116.5764,239.565,122.81,258.83\" style=\"stroke:#181818;stroke-width:1.0;\"/><ellipse cx=\"103.6189\" cy=\"242.4963\" fill=\"#181818\" rx=\"2\" ry=\"2\" style=\"stroke:#181818;stroke-width:1.0;\"/><ellipse cx=\"111.4823\" cy=\"236.3184\" fill=\"#181818\" rx=\"2\" ry=\"2\" style=\"stroke:#181818;stroke-width:1.0;\"/></a></g><!--MD5=[1fc04a95fd77ad5ce46c1a3027516051]\n",
       "reverse link E9 to E11--><g id=\"link_E9_E11\"><a href=\"psysml:41147f3b-680c-4b19-9ea9-1ad0d7284d0b\" target=\"_top\" title=\"psysml:41147f3b-680c-4b19-9ea9-1ad0d7284d0b\" xlink:actuate=\"onRequest\" xlink:href=\"psysml:41147f3b-680c-4b19-9ea9-1ad0d7284d0b\" xlink:show=\"new\" xlink:title=\"psysml:41147f3b-680c-4b19-9ea9-1ad0d7284d0b\" xlink:type=\"simple\"><path d=\"M116.39,101.83 C121.86,117.66 128.14,135.82 132.99,149.83 \" fill=\"none\" id=\"E9-backto-E11\" style=\"stroke:#181818;stroke-width:1.0;\"/><polygon fill=\"none\" points=\"112.03,89.22,110.2077,96.1971,115.9472,100.5627,117.7695,93.5856,112.03,89.22\" style=\"stroke:#181818;stroke-width:1.0;\"/></a></g><!--MD5=[0517f1ce58c4d5483948f93845c45e26]\n",
       "link E11 to E3--><g id=\"link_E11_E3\"><a href=\"psysml:86cba12c-5c0b-4cb2-8a0f-652783ee7e3b\" target=\"_top\" title=\"psysml:86cba12c-5c0b-4cb2-8a0f-652783ee7e3b\" xlink:actuate=\"onRequest\" xlink:href=\"psysml:86cba12c-5c0b-4cb2-8a0f-652783ee7e3b\" xlink:show=\"new\" xlink:title=\"psysml:86cba12c-5c0b-4cb2-8a0f-652783ee7e3b\" xlink:type=\"simple\"><path d=\"M141,198.22 C141,210 141,224.69 141,238.48 \" fill=\"none\" id=\"E11-to-E3\" style=\"stroke:#181818;stroke-width:1.0;\"/><polygon fill=\"#FFFFFF\" points=\"141,258.83,134,239.83,148,239.83,141,258.83\" style=\"stroke:#181818;stroke-width:1.0;\"/><ellipse cx=\"136\" cy=\"234.13\" fill=\"#181818\" rx=\"2\" ry=\"2\" style=\"stroke:#181818;stroke-width:1.0;\"/><ellipse cx=\"146\" cy=\"234.13\" fill=\"#181818\" rx=\"2\" ry=\"2\" style=\"stroke:#181818;stroke-width:1.0;\"/></a></g><!--MD5=[1f90b206f666f5f61d70dae3af2c6e02]\n",
       "@startuml\r\n",
       "skin sysmlc\r\n",
       "skinparam wrapWidth 300\r\n",
       "hide circle\r\n",
       "\r\n",
       "package \"ItemTest\" as E1  [[psysml:b50080a1-e82f-4c80-9a3f-5d66ab4e7e23 ]]  {\r\n",
       "comp usage \"f: A  \" as E2  <<(T,blue) item>> [[psysml:4d36820e-7c5e-46bd-9de5-e346cea54837 ]] {\r\n",
       "}\r\n",
       "comp def \"A\" as E3  <<(T,blue) item  def>> [[psysml:90a9c46f-1bc9-4470-bf4e-8ae555dfcfc9 ]] {\r\n",
       "}\r\n",
       "comp usage \"b: B  \" as E4  <<(T,blue) item>> [[psysml:d394e1d7-ba50-4340-ad50-ece704d14a42 ]] {\r\n",
       "}\r\n",
       "comp usage \"c: C  \" as E5  <<(T,blue) part>> [[psysml:af047218-2074-4cd5-be73-a9bc4fd53c73 ]] {\r\n",
       "}\r\n",
       "comp def \"<i>B</i>\" as E6  <<(T,blue) item  def>> [[psysml:24ac0b44-19f7-4e7e-9d8c-29217623109a ]] {\r\n",
       "}\r\n",
       "comp usage \"<i>a</i>: A  \" as E7  <<(T,blue) part>> [[psysml:f97762a5-be4a-40f0-b15f-ded6f9a0a2bf ]] {\r\n",
       "}\r\n",
       "comp def \"C\" as E8  <<(T,blue) part  def>> [[psysml:2119f9fa-e703-4679-adcc-c9e3fda7136e ]] {\r\n",
       "}\r\n",
       "comp def \"P\" as E9  <<(T,blue) port  def>> [[psysml:f9be0f9f-7828-47af-b676-a3098923450b ]] {\r\n",
       "}\r\n",
       "comp usage \"a1: A  \" as E10  <<(T,blue) item>> [[psysml:bdd21edf-ffb1-47e0-8301-b129ba721304 ]] {\r\n",
       "}\r\n",
       "comp usage \"a2: A  \" as E11  <<(T,blue) item>> [[psysml:ea86bb80-7fc3-4478-bdc0-15728142c0fa ]] {\r\n",
       "}\r\n",
       "}\r\n",
       "E2 - -:|> E3 [[psysml:358bd963-d6cf-4c51-9d97-dc29b520688f ]] \r\n",
       "E3 *- - E4 [[psysml:724ffe94-cfbf-4ea2-b315-6baf1a587f0c ]] \r\n",
       "E3 o- - E5 [[psysml:9c72d63b-be6b-487b-af19-53b3ed2c634b ]] \r\n",
       "E4 - -:|> E6 [[psysml:c1d845e5-90b4-4786-9172-2f85f48f902a ]] \r\n",
       "E6 *- - E7 [[psysml:ee76f7ce-c996-4988-9b1a-5ac16ad8d066 ]] \r\n",
       "E7 - -:|> E3 [[psysml:1cb41c8a-3888-4a6d-b592-33957295a7ee ]] \r\n",
       "E5 - -:|> E8 [[psysml:b2862137-6a73-49a4-ad0f-48652eafb24c ]] \r\n",
       "E8 o- - E3 [[psysml:764dcc5f-c791-44bd-8fe4-0cc6162433fb ]] : y\r\n",
       "E8 o- - E6 [[psysml:764dcc5f-c791-44bd-8fe4-0cc6162433fb ]] : y\r\n",
       "E9 o- - E10 [[psysml:1f369bef-866d-4201-85d0-19625ffb0bd4 ]] \r\n",
       "E10 - -:|> E3 [[psysml:0dc69dec-387f-4606-9efc-6b8567a081cf ]] \r\n",
       "E9 o- - E11 [[psysml:41147f3b-680c-4b19-9ea9-1ad0d7284d0b ]] \r\n",
       "E11 - -:|> E3 [[psysml:86cba12c-5c0b-4cb2-8a0f-652783ee7e3b ]] \r\n",
       "@enduml\r\n",
       "\n",
       "PlantUML version 1.2022.7(Mon Aug 22 17:01:30 UTC 2022)\n",
       "(EPL source distribution)\n",
       "Java Runtime: OpenJDK Runtime Environment\n",
       "JVM: OpenJDK 64-Bit Server VM\n",
       "Default Encoding: UTF-8\n",
       "Language: en\n",
       "Country: null\n",
       "--></g></svg>"
      ]
     },
     "execution_count": 29,
     "metadata": {},
     "output_type": "execute_result"
    }
   ],
   "source": [
    "%viz --style=\"STDCOLOR\" --view=\"MIXED\" \"ItemTest\""
   ]
  },
  {
   "cell_type": "code",
   "execution_count": 30,
   "id": "387aa7d5",
   "metadata": {
    "execution": {
     "iopub.execute_input": "2024-12-16T03:22:54.963210Z",
     "iopub.status.busy": "2024-12-16T03:22:54.962991Z",
     "iopub.status.idle": "2024-12-16T03:22:55.117908Z",
     "shell.execute_reply": "2024-12-16T03:22:55.116779Z"
    }
   },
   "outputs": [
    {
     "data": {
      "image/svg+xml": [
       "<?xml version=\"1.0\" encoding=\"UTF-8\" standalone=\"no\"?><svg xmlns=\"http://www.w3.org/2000/svg\" xmlns:xlink=\"http://www.w3.org/1999/xlink\" contentStyleType=\"text/css\" height=\"789px\" preserveAspectRatio=\"none\" style=\"width:327px;height:789px;background:#FFFFFF;\" version=\"1.1\" viewBox=\"0 0 327 789\" width=\"327px\" zoomAndPan=\"magnify\"><defs/><g><!--MD5=[fbc87193dbaf4d95561dea2c320d4a47]\n",
       "cluster E1--><g id=\"cluster_E1\"><a href=\"psysml:b50080a1-e82f-4c80-9a3f-5d66ab4e7e23\" target=\"_top\" title=\"psysml:b50080a1-e82f-4c80-9a3f-5d66ab4e7e23\" xlink:actuate=\"onRequest\" xlink:href=\"psysml:b50080a1-e82f-4c80-9a3f-5d66ab4e7e23\" xlink:show=\"new\" xlink:title=\"psysml:b50080a1-e82f-4c80-9a3f-5d66ab4e7e23\" xlink:type=\"simple\"><path d=\"M8.5,6 L74,6 A3.75,3.75 0 0 1 76.5,8.5 L83.5,28.2969 L317.5,28.2969 A2.5,2.5 0 0 1 320,30.7969 L320,779.5 A2.5,2.5 0 0 1 317.5,782 L8.5,782 A2.5,2.5 0 0 1 6,779.5 L6,8.5 A2.5,2.5 0 0 1 8.5,6 \" fill=\"none\" style=\"stroke:#000000;stroke-width:1.5;\"/><line style=\"stroke:#000000;stroke-width:1.5;\" x1=\"6\" x2=\"83.5\" y1=\"28.2969\" y2=\"28.2969\"/><text fill=\"#000000\" font-family=\"sans-serif\" font-size=\"14\" font-weight=\"bold\" lengthAdjust=\"spacing\" textLength=\"64.5\" x=\"10\" y=\"20.9951\">ItemTest</text></a></g><!--MD5=[b4997ac47864f28c2f74865a473b2911]\n",
       "class E2--><a href=\"psysml:4d36820e-7c5e-46bd-9de5-e346cea54837\" target=\"_top\" title=\"psysml:4d36820e-7c5e-46bd-9de5-e346cea54837\" xlink:actuate=\"onRequest\" xlink:href=\"psysml:4d36820e-7c5e-46bd-9de5-e346cea54837\" xlink:show=\"new\" xlink:title=\"psysml:4d36820e-7c5e-46bd-9de5-e346cea54837\" xlink:type=\"simple\"><g id=\"elem_E2\"><rect fill=\"#F1F1F1\" height=\"40\" id=\"E2\" rx=\"10\" ry=\"10\" style=\"stroke:#181818;stroke-width:0.5;\" width=\"62\" x=\"242\" y=\"150\"/><ellipse cx=\"257\" cy=\"166\" fill=\"#32CD32\" rx=\"11\" ry=\"11\" style=\"stroke:#181818;stroke-width:1.0;\"/><path d=\"M253.8594,172.5 L253.8594,160.3594 L257.8906,160.3594 Q259.9844,160.3594 261,161.3438 Q262.0156,162.3125 262.0156,164.1406 Q262.0156,165.3438 261.5781,166.25 Q261.1563,167.1563 260.2031,167.6719 Q259.2656,168.1875 257.7344,168.1875 L256.2344,168.1875 L256.2344,172.5 L253.8594,172.5 Z M257.4844,166.0938 Q258.5313,166.0938 259.0469,165.6094 Q259.5781,165.125 259.5781,164.2344 Q259.5781,163.3438 259.1406,162.9063 Q258.7188,162.4531 257.7969,162.4531 L256.2344,162.4531 L256.2344,166.0938 L257.4844,166.0938 Z \" fill=\"#000000\"/><text fill=\"#000000\" font-family=\"sans-serif\" font-size=\"14\" lengthAdjust=\"spacing\" textLength=\"22\" x=\"271\" y=\"170.8467\">f: A</text><line style=\"stroke:#181818;stroke-width:0.5;\" x1=\"243\" x2=\"303\" y1=\"182\" y2=\"182\"/></g></a><!--MD5=[09b614a08d8cba4a07c9adeb5e0fee81]\n",
       "class E3--><a href=\"psysml:90a9c46f-1bc9-4470-bf4e-8ae555dfcfc9\" target=\"_top\" title=\"psysml:90a9c46f-1bc9-4470-bf4e-8ae555dfcfc9\" xlink:actuate=\"onRequest\" xlink:href=\"psysml:90a9c46f-1bc9-4470-bf4e-8ae555dfcfc9\" xlink:show=\"new\" xlink:title=\"psysml:90a9c46f-1bc9-4470-bf4e-8ae555dfcfc9\" xlink:type=\"simple\"><g id=\"elem_E3\"><rect fill=\"#F1F1F1\" height=\"40\" id=\"E3\" rx=\"2.5\" ry=\"2.5\" style=\"stroke:#181818;stroke-width:0.5;\" width=\"41\" x=\"148.5\" y=\"251\"/><ellipse cx=\"163.5\" cy=\"267\" fill=\"#008000\" rx=\"11\" ry=\"11\" style=\"stroke:#181818;stroke-width:1.0;\"/><path d=\"M160.3594,273.5 L160.3594,261.3594 L164.1563,261.3594 Q166.1563,261.3594 167.2031,262.0625 Q168.2656,262.7656 168.2656,264.3438 Q168.2656,265.4375 167.7656,266.1563 Q167.2813,266.875 166.4531,267.0625 L166.4531,267.1406 Q167.375,267.3594 167.9375,268.0313 Q168.5156,268.6875 168.5156,269.9531 Q168.5156,271.6094 167.4688,272.5625 Q166.4219,273.5 164.5625,273.5 L160.3594,273.5 Z M164.1406,266.1406 Q165.0313,266.1406 165.3906,265.8125 Q165.7656,265.4688 165.7656,264.7656 Q165.7656,264.0313 165.375,263.7188 Q164.9844,263.3906 164.0469,263.3906 L162.6563,263.3906 L162.6563,266.1406 L164.1406,266.1406 Z M164.3281,271.4844 Q165.2344,271.4844 165.5938,271.0469 Q165.9531,270.5938 165.9531,269.8125 Q165.9531,269.0313 165.5781,268.6406 Q165.2188,268.2344 164.2344,268.2344 L162.6563,268.2344 L162.6563,271.4844 L164.3281,271.4844 Z \" fill=\"#000000\"/><text fill=\"#000000\" font-family=\"sans-serif\" font-size=\"14\" lengthAdjust=\"spacing\" textLength=\"9\" x=\"177.5\" y=\"271.8467\">A</text><line style=\"stroke:#181818;stroke-width:0.5;\" x1=\"149.5\" x2=\"188.5\" y1=\"283\" y2=\"283\"/></g></a><!--MD5=[ebbe1d658d1005bcc118a6aa81145e00]\n",
       "class E4--><a href=\"psysml:d394e1d7-ba50-4340-ad50-ece704d14a42\" target=\"_top\" title=\"psysml:d394e1d7-ba50-4340-ad50-ece704d14a42\" xlink:actuate=\"onRequest\" xlink:href=\"psysml:d394e1d7-ba50-4340-ad50-ece704d14a42\" xlink:show=\"new\" xlink:title=\"psysml:d394e1d7-ba50-4340-ad50-ece704d14a42\" xlink:type=\"simple\"><g id=\"elem_E4\"><rect fill=\"#F1F1F1\" height=\"40\" id=\"E4\" rx=\"10\" ry=\"10\" style=\"stroke:#181818;stroke-width:0.5;\" width=\"68\" x=\"50\" y=\"430\"/><ellipse cx=\"65\" cy=\"446\" fill=\"#32CD32\" rx=\"11\" ry=\"11\" style=\"stroke:#181818;stroke-width:1.0;\"/><path d=\"M61.8594,452.5 L61.8594,440.3594 L65.8906,440.3594 Q67.9844,440.3594 69,441.3438 Q70.0156,442.3125 70.0156,444.1406 Q70.0156,445.3438 69.5781,446.25 Q69.1563,447.1563 68.2031,447.6719 Q67.2656,448.1875 65.7344,448.1875 L64.2344,448.1875 L64.2344,452.5 L61.8594,452.5 Z M65.4844,446.0938 Q66.5313,446.0938 67.0469,445.6094 Q67.5781,445.125 67.5781,444.2344 Q67.5781,443.3438 67.1406,442.9063 Q66.7188,442.4531 65.7969,442.4531 L64.2344,442.4531 L64.2344,446.0938 L65.4844,446.0938 Z \" fill=\"#000000\"/><text fill=\"#000000\" font-family=\"sans-serif\" font-size=\"14\" lengthAdjust=\"spacing\" textLength=\"28\" x=\"79\" y=\"450.8467\">b: B</text><line style=\"stroke:#181818;stroke-width:0.5;\" x1=\"51\" x2=\"117\" y1=\"462\" y2=\"462\"/></g></a><!--MD5=[270fce915f116d4de14055a7c1d9a0f3]\n",
       "class E5--><a href=\"psysml:af047218-2074-4cd5-be73-a9bc4fd53c73\" target=\"_top\" title=\"psysml:af047218-2074-4cd5-be73-a9bc4fd53c73\" xlink:actuate=\"onRequest\" xlink:href=\"psysml:af047218-2074-4cd5-be73-a9bc4fd53c73\" xlink:show=\"new\" xlink:title=\"psysml:af047218-2074-4cd5-be73-a9bc4fd53c73\" xlink:type=\"simple\"><g id=\"elem_E5\"><rect fill=\"#F1F1F1\" height=\"48.2656\" id=\"E5\" rx=\"10\" ry=\"10\" style=\"stroke:#181818;stroke-width:0.5;\" width=\"68\" x=\"183\" y=\"352\"/><ellipse cx=\"198\" cy=\"372.1328\" fill=\"#32CD32\" rx=\"11\" ry=\"11\" style=\"stroke:#181818;stroke-width:1.0;\"/><path d=\"M194.8594,378.6328 L194.8594,366.4922 L198.8906,366.4922 Q200.9844,366.4922 202,367.4766 Q203.0156,368.4453 203.0156,370.2734 Q203.0156,371.4766 202.5781,372.3828 Q202.1563,373.2891 201.2031,373.8047 Q200.2656,374.3203 198.7344,374.3203 L197.2344,374.3203 L197.2344,378.6328 L194.8594,378.6328 Z M198.4844,372.2266 Q199.5313,372.2266 200.0469,371.7422 Q200.5781,371.2578 200.5781,370.3672 Q200.5781,369.4766 200.1406,369.0391 Q199.7188,368.5859 198.7969,368.5859 L197.2344,368.5859 L197.2344,372.2266 L198.4844,372.2266 Z \" fill=\"#000000\"/><text fill=\"#000000\" font-family=\"sans-serif\" font-size=\"12\" font-style=\"italic\" lengthAdjust=\"spacing\" textLength=\"40\" x=\"210\" y=\"368.1387\">«part»</text><text fill=\"#000000\" font-family=\"sans-serif\" font-size=\"14\" lengthAdjust=\"spacing\" textLength=\"27\" x=\"212.5\" y=\"383.9639\">c: C</text><line style=\"stroke:#181818;stroke-width:0.5;\" x1=\"184\" x2=\"250\" y1=\"392.2656\" y2=\"392.2656\"/></g></a><!--MD5=[60a26617385b1d2d0262a64233df1f8d]\n",
       "class E6--><a href=\"psysml:24ac0b44-19f7-4e7e-9d8c-29217623109a\" target=\"_top\" title=\"psysml:24ac0b44-19f7-4e7e-9d8c-29217623109a\" xlink:actuate=\"onRequest\" xlink:href=\"psysml:24ac0b44-19f7-4e7e-9d8c-29217623109a\" xlink:show=\"new\" xlink:title=\"psysml:24ac0b44-19f7-4e7e-9d8c-29217623109a\" xlink:type=\"simple\"><g id=\"elem_E6\"><rect fill=\"#F1F1F1\" height=\"40\" id=\"E6\" rx=\"2.5\" ry=\"2.5\" style=\"stroke:#181818;stroke-width:0.5;\" width=\"42\" x=\"139\" y=\"617\"/><ellipse cx=\"154\" cy=\"633\" fill=\"#008000\" rx=\"11\" ry=\"11\" style=\"stroke:#181818;stroke-width:1.0;\"/><path d=\"M150.8594,639.5 L150.8594,627.3594 L154.6563,627.3594 Q156.6563,627.3594 157.7031,628.0625 Q158.7656,628.7656 158.7656,630.3438 Q158.7656,631.4375 158.2656,632.1563 Q157.7813,632.875 156.9531,633.0625 L156.9531,633.1406 Q157.875,633.3594 158.4375,634.0313 Q159.0156,634.6875 159.0156,635.9531 Q159.0156,637.6094 157.9688,638.5625 Q156.9219,639.5 155.0625,639.5 L150.8594,639.5 Z M154.6406,632.1406 Q155.5313,632.1406 155.8906,631.8125 Q156.2656,631.4688 156.2656,630.7656 Q156.2656,630.0313 155.875,629.7188 Q155.4844,629.3906 154.5469,629.3906 L153.1563,629.3906 L153.1563,632.1406 L154.6406,632.1406 Z M154.8281,637.4844 Q155.7344,637.4844 156.0938,637.0469 Q156.4531,636.5938 156.4531,635.8125 Q156.4531,635.0313 156.0781,634.6406 Q155.7188,634.2344 154.7344,634.2344 L153.1563,634.2344 L153.1563,637.4844 L154.8281,637.4844 Z \" fill=\"#000000\"/><text fill=\"#000000\" font-family=\"sans-serif\" font-size=\"14\" font-style=\"italic\" lengthAdjust=\"spacing\" textLength=\"10\" x=\"168\" y=\"637.8467\">B</text><line style=\"stroke:#181818;stroke-width:0.5;\" x1=\"140\" x2=\"180\" y1=\"649\" y2=\"649\"/></g></a><!--MD5=[2156ba9850f5573cc1fc38a6a4b2f02b]\n",
       "class E7--><a href=\"psysml:f97762a5-be4a-40f0-b15f-ded6f9a0a2bf\" target=\"_top\" title=\"psysml:f97762a5-be4a-40f0-b15f-ded6f9a0a2bf\" xlink:actuate=\"onRequest\" xlink:href=\"psysml:f97762a5-be4a-40f0-b15f-ded6f9a0a2bf\" xlink:show=\"new\" xlink:title=\"psysml:f97762a5-be4a-40f0-b15f-ded6f9a0a2bf\" xlink:type=\"simple\"><g id=\"elem_E7\"><rect fill=\"#F1F1F1\" height=\"48.2656\" id=\"E7\" rx=\"10\" ry=\"10\" style=\"stroke:#181818;stroke-width:0.5;\" width=\"68\" x=\"218\" y=\"718\"/><ellipse cx=\"233\" cy=\"738.1328\" fill=\"#32CD32\" rx=\"11\" ry=\"11\" style=\"stroke:#181818;stroke-width:1.0;\"/><path d=\"M229.8594,744.6328 L229.8594,732.4922 L233.8906,732.4922 Q235.9844,732.4922 237,733.4766 Q238.0156,734.4453 238.0156,736.2734 Q238.0156,737.4766 237.5781,738.3828 Q237.1563,739.2891 236.2031,739.8047 Q235.2656,740.3203 233.7344,740.3203 L232.2344,740.3203 L232.2344,744.6328 L229.8594,744.6328 Z M233.4844,738.2266 Q234.5313,738.2266 235.0469,737.7422 Q235.5781,737.2578 235.5781,736.3672 Q235.5781,735.4766 235.1406,735.0391 Q234.7188,734.5859 233.7969,734.5859 L232.2344,734.5859 L232.2344,738.2266 L233.4844,738.2266 Z \" fill=\"#000000\"/><text fill=\"#000000\" font-family=\"sans-serif\" font-size=\"12\" font-style=\"italic\" lengthAdjust=\"spacing\" textLength=\"40\" x=\"245\" y=\"734.1387\">«part»</text><text fill=\"#000000\" font-family=\"sans-serif\" font-size=\"14\" font-style=\"italic\" lengthAdjust=\"spacing\" textLength=\"8\" x=\"248\" y=\"749.9639\">a</text><text fill=\"#000000\" font-family=\"sans-serif\" font-size=\"14\" lengthAdjust=\"spacing\" textLength=\"18\" x=\"256\" y=\"749.9639\">: A</text><line style=\"stroke:#181818;stroke-width:0.5;\" x1=\"219\" x2=\"285\" y1=\"758.2656\" y2=\"758.2656\"/></g></a><!--MD5=[b9389687b975829384b498ac4b7476b2]\n",
       "class E8--><a href=\"psysml:2119f9fa-e703-4679-adcc-c9e3fda7136e\" target=\"_top\" title=\"psysml:2119f9fa-e703-4679-adcc-c9e3fda7136e\" xlink:actuate=\"onRequest\" xlink:href=\"psysml:2119f9fa-e703-4679-adcc-c9e3fda7136e\" xlink:show=\"new\" xlink:title=\"psysml:2119f9fa-e703-4679-adcc-c9e3fda7136e\" xlink:type=\"simple\"><g id=\"elem_E8\"><rect fill=\"#F1F1F1\" height=\"40\" id=\"E8\" rx=\"2.5\" ry=\"2.5\" style=\"stroke:#181818;stroke-width:0.5;\" width=\"42\" x=\"139\" y=\"500\"/><ellipse cx=\"154\" cy=\"516\" fill=\"#008000\" rx=\"11\" ry=\"11\" style=\"stroke:#181818;stroke-width:1.0;\"/><path d=\"M150.8594,522.5 L150.8594,510.3594 L154.6563,510.3594 Q156.6563,510.3594 157.7031,511.0625 Q158.7656,511.7656 158.7656,513.3438 Q158.7656,514.4375 158.2656,515.1563 Q157.7813,515.875 156.9531,516.0625 L156.9531,516.1406 Q157.875,516.3594 158.4375,517.0313 Q159.0156,517.6875 159.0156,518.9531 Q159.0156,520.6094 157.9688,521.5625 Q156.9219,522.5 155.0625,522.5 L150.8594,522.5 Z M154.6406,515.1406 Q155.5313,515.1406 155.8906,514.8125 Q156.2656,514.4688 156.2656,513.7656 Q156.2656,513.0313 155.875,512.7188 Q155.4844,512.3906 154.5469,512.3906 L153.1563,512.3906 L153.1563,515.1406 L154.6406,515.1406 Z M154.8281,520.4844 Q155.7344,520.4844 156.0938,520.0469 Q156.4531,519.5938 156.4531,518.8125 Q156.4531,518.0313 156.0781,517.6406 Q155.7188,517.2344 154.7344,517.2344 L153.1563,517.2344 L153.1563,520.4844 L154.8281,520.4844 Z \" fill=\"#000000\"/><text fill=\"#000000\" font-family=\"sans-serif\" font-size=\"14\" lengthAdjust=\"spacing\" textLength=\"10\" x=\"168\" y=\"520.8467\">C</text><line style=\"stroke:#181818;stroke-width:0.5;\" x1=\"140\" x2=\"180\" y1=\"532\" y2=\"532\"/></g></a><!--MD5=[fd4143e9d270a159db93a4ea2a975926]\n",
       "class E9--><a href=\"psysml:f9be0f9f-7828-47af-b676-a3098923450b\" target=\"_top\" title=\"psysml:f9be0f9f-7828-47af-b676-a3098923450b\" xlink:actuate=\"onRequest\" xlink:href=\"psysml:f9be0f9f-7828-47af-b676-a3098923450b\" xlink:show=\"new\" xlink:title=\"psysml:f9be0f9f-7828-47af-b676-a3098923450b\" xlink:type=\"simple\"><g id=\"elem_E9\"><rect fill=\"#F1F1F1\" height=\"48.2656\" id=\"E9\" rx=\"2.5\" ry=\"2.5\" style=\"stroke:#181818;stroke-width:0.5;\" width=\"96\" x=\"71\" y=\"41\"/><ellipse cx=\"86\" cy=\"61.1328\" fill=\"#A52A2A\" rx=\"11\" ry=\"11\" style=\"stroke:#181818;stroke-width:1.0;\"/><path d=\"M82.7656,67.6328 L82.7656,55.4922 L86.5156,55.4922 Q88.8906,55.4922 90.2813,57.0078 Q91.6875,58.5078 91.6875,61.4609 Q91.6875,64.4297 90.25,66.0391 Q88.8125,67.6328 86.3281,67.6328 L82.7656,67.6328 Z M86.2031,65.5391 Q87.75,65.5391 88.4688,64.5391 Q89.1875,63.5391 89.1875,61.4766 Q89.1875,59.4453 88.4844,58.5234 Q87.7969,57.5859 86.4063,57.5859 L85.2031,57.5859 L85.2031,65.5391 L86.2031,65.5391 Z \" fill=\"#000000\"/><text fill=\"#000000\" font-family=\"sans-serif\" font-size=\"12\" font-style=\"italic\" lengthAdjust=\"spacing\" textLength=\"68\" x=\"98\" y=\"57.1387\">«port  def»</text><text fill=\"#000000\" font-family=\"sans-serif\" font-size=\"14\" lengthAdjust=\"spacing\" textLength=\"9\" x=\"127.5\" y=\"72.9639\">P</text><line style=\"stroke:#181818;stroke-width:0.5;\" x1=\"72\" x2=\"166\" y1=\"81.2656\" y2=\"81.2656\"/></g></a><!--MD5=[96f4274e9e20536e775497830990834d]\n",
       "class E10--><a href=\"psysml:bdd21edf-ffb1-47e0-8301-b129ba721304\" target=\"_top\" title=\"psysml:bdd21edf-ffb1-47e0-8301-b129ba721304\" xlink:actuate=\"onRequest\" xlink:href=\"psysml:bdd21edf-ffb1-47e0-8301-b129ba721304\" xlink:show=\"new\" xlink:title=\"psysml:bdd21edf-ffb1-47e0-8301-b129ba721304\" xlink:type=\"simple\"><g id=\"elem_E10\"><rect fill=\"#F1F1F1\" height=\"40\" id=\"E10\" rx=\"10\" ry=\"10\" style=\"stroke:#181818;stroke-width:0.5;\" width=\"75\" x=\"21.5\" y=\"150\"/><ellipse cx=\"36.5\" cy=\"166\" fill=\"#32CD32\" rx=\"11\" ry=\"11\" style=\"stroke:#181818;stroke-width:1.0;\"/><path d=\"M33.3594,172.5 L33.3594,160.3594 L37.3906,160.3594 Q39.4844,160.3594 40.5,161.3438 Q41.5156,162.3125 41.5156,164.1406 Q41.5156,165.3438 41.0781,166.25 Q40.6563,167.1563 39.7031,167.6719 Q38.7656,168.1875 37.2344,168.1875 L35.7344,168.1875 L35.7344,172.5 L33.3594,172.5 Z M36.9844,166.0938 Q38.0313,166.0938 38.5469,165.6094 Q39.0781,165.125 39.0781,164.2344 Q39.0781,163.3438 38.6406,162.9063 Q38.2188,162.4531 37.2969,162.4531 L35.7344,162.4531 L35.7344,166.0938 L36.9844,166.0938 Z \" fill=\"#000000\"/><text fill=\"#000000\" font-family=\"sans-serif\" font-size=\"14\" lengthAdjust=\"spacing\" textLength=\"35\" x=\"50.5\" y=\"170.8467\">a1: A</text><line style=\"stroke:#181818;stroke-width:0.5;\" x1=\"22.5\" x2=\"95.5\" y1=\"182\" y2=\"182\"/></g></a><!--MD5=[1dd1bfd58a279cf63c5f349dbc8fc6a1]\n",
       "class E11--><a href=\"psysml:ea86bb80-7fc3-4478-bdc0-15728142c0fa\" target=\"_top\" title=\"psysml:ea86bb80-7fc3-4478-bdc0-15728142c0fa\" xlink:actuate=\"onRequest\" xlink:href=\"psysml:ea86bb80-7fc3-4478-bdc0-15728142c0fa\" xlink:show=\"new\" xlink:title=\"psysml:ea86bb80-7fc3-4478-bdc0-15728142c0fa\" xlink:type=\"simple\"><g id=\"elem_E11\"><rect fill=\"#F1F1F1\" height=\"40\" id=\"E11\" rx=\"10\" ry=\"10\" style=\"stroke:#181818;stroke-width:0.5;\" width=\"75\" x=\"131.5\" y=\"150\"/><ellipse cx=\"146.5\" cy=\"166\" fill=\"#32CD32\" rx=\"11\" ry=\"11\" style=\"stroke:#181818;stroke-width:1.0;\"/><path d=\"M143.3594,172.5 L143.3594,160.3594 L147.3906,160.3594 Q149.4844,160.3594 150.5,161.3438 Q151.5156,162.3125 151.5156,164.1406 Q151.5156,165.3438 151.0781,166.25 Q150.6563,167.1563 149.7031,167.6719 Q148.7656,168.1875 147.2344,168.1875 L145.7344,168.1875 L145.7344,172.5 L143.3594,172.5 Z M146.9844,166.0938 Q148.0313,166.0938 148.5469,165.6094 Q149.0781,165.125 149.0781,164.2344 Q149.0781,163.3438 148.6406,162.9063 Q148.2188,162.4531 147.2969,162.4531 L145.7344,162.4531 L145.7344,166.0938 L146.9844,166.0938 Z \" fill=\"#000000\"/><text fill=\"#000000\" font-family=\"sans-serif\" font-size=\"14\" lengthAdjust=\"spacing\" textLength=\"35\" x=\"160.5\" y=\"170.8467\">a2: A</text><line style=\"stroke:#181818;stroke-width:0.5;\" x1=\"132.5\" x2=\"205.5\" y1=\"182\" y2=\"182\"/></g></a><!--MD5=[2720a5a1f2c3fca2055b230370638851]\n",
       "link E2 to E3--><g id=\"link_E2_E3\"><a href=\"psysml:358bd963-d6cf-4c51-9d97-dc29b520688f\" target=\"_top\" title=\"psysml:358bd963-d6cf-4c51-9d97-dc29b520688f\" xlink:actuate=\"onRequest\" xlink:href=\"psysml:358bd963-d6cf-4c51-9d97-dc29b520688f\" xlink:show=\"new\" xlink:title=\"psysml:358bd963-d6cf-4c51-9d97-dc29b520688f\" xlink:type=\"simple\"><path d=\"M252.95,190.09 C238.99,203.37 220.02,221.43 203.65,237.02 \" fill=\"none\" id=\"E2-to-E3\" style=\"stroke:#181818;stroke-width:1.0;\"/><polygon fill=\"#FFFFFF\" points=\"188.99,250.97,197.9277,232.8009,207.5792,242.9424,188.99,250.97\" style=\"stroke:#181818;stroke-width:1.0;\"/><ellipse cx=\"203.4356\" cy=\"230.3202\" fill=\"#181818\" rx=\"2\" ry=\"2\" style=\"stroke:#181818;stroke-width:1.0;\"/><ellipse cx=\"210.3294\" cy=\"237.5641\" fill=\"#181818\" rx=\"2\" ry=\"2\" style=\"stroke:#181818;stroke-width:1.0;\"/></a></g><!--MD5=[4672eba38e49728da53d11aeb285b987]\n",
       "reverse link E3 to E4--><g id=\"link_E3_E4\"><a href=\"psysml:724ffe94-cfbf-4ea2-b315-6baf1a587f0c\" target=\"_top\" title=\"psysml:724ffe94-cfbf-4ea2-b315-6baf1a587f0c\" xlink:actuate=\"onRequest\" xlink:href=\"psysml:724ffe94-cfbf-4ea2-b315-6baf1a587f0c\" xlink:show=\"new\" xlink:title=\"psysml:724ffe94-cfbf-4ea2-b315-6baf1a587f0c\" xlink:type=\"simple\"><path d=\"M138.52,297.03 C123.14,311.43 105.74,330.84 96,352 C84.44,377.13 82.73,409.58 83.02,429.84 \" fill=\"none\" id=\"E3-backto-E4\" style=\"stroke:#181818;stroke-width:1.0;\"/><polygon fill=\"#181818\" points=\"148.22,288.32,141.0825,289.3478,139.2861,296.3315,146.4236,295.3038,148.22,288.32\" style=\"stroke:#181818;stroke-width:1.0;\"/></a></g><!--MD5=[191cde3d490a3f6d7bb551fe3ddca469]\n",
       "reverse link E3 to E5--><g id=\"link_E3_E5\"><a href=\"psysml:9c72d63b-be6b-487b-af19-53b3ed2c634b\" target=\"_top\" title=\"psysml:9c72d63b-be6b-487b-af19-53b3ed2c634b\" xlink:actuate=\"onRequest\" xlink:href=\"psysml:9c72d63b-be6b-487b-af19-53b3ed2c634b\" xlink:show=\"new\" xlink:title=\"psysml:9c72d63b-be6b-487b-af19-53b3ed2c634b\" xlink:type=\"simple\"><path d=\"M183.72,303.6 C190.96,319.13 199.53,337.52 206.16,351.75 \" fill=\"none\" id=\"E3-backto-E5\" style=\"stroke:#181818;stroke-width:1.0;\"/><polygon fill=\"none\" points=\"178.03,291.37,176.9459,298.4991,183.1097,302.2418,184.1938,295.1127,178.03,291.37\" style=\"stroke:#181818;stroke-width:1.0;\"/></a></g><!--MD5=[79568f1e445c3877b6a54524624ccc7d]\n",
       "link E4 to E6--><g id=\"link_E4_E6\"><a href=\"psysml:c1d845e5-90b4-4786-9172-2f85f48f902a\" target=\"_top\" title=\"psysml:c1d845e5-90b4-4786-9172-2f85f48f902a\" xlink:actuate=\"onRequest\" xlink:href=\"psysml:c1d845e5-90b4-4786-9172-2f85f48f902a\" xlink:show=\"new\" xlink:title=\"psysml:c1d845e5-90b4-4786-9172-2f85f48f902a\" xlink:type=\"simple\"><path d=\"M91.85,470.1 C104.19,500.15 128.39,559.04 144.37,597.96 \" fill=\"none\" id=\"E4-to-E6\" style=\"stroke:#181818;stroke-width:1.0;\"/><polygon fill=\"#FFFFFF\" points=\"152.08,616.73,138.3852,601.8152,151.335,596.4953,152.08,616.73\" style=\"stroke:#181818;stroke-width:1.0;\"/><ellipse cx=\"138.0692\" cy=\"595.7828\" fill=\"#181818\" rx=\"2\" ry=\"2\" style=\"stroke:#181818;stroke-width:1.0;\"/><ellipse cx=\"147.3191\" cy=\"591.9828\" fill=\"#181818\" rx=\"2\" ry=\"2\" style=\"stroke:#181818;stroke-width:1.0;\"/></a></g><!--MD5=[3f50a3473f1dfb74d3f76443e03635af]\n",
       "reverse link E6 to E7--><g id=\"link_E6_E7\"><a href=\"psysml:ee76f7ce-c996-4988-9b1a-5ac16ad8d066\" target=\"_top\" title=\"psysml:ee76f7ce-c996-4988-9b1a-5ac16ad8d066\" xlink:actuate=\"onRequest\" xlink:href=\"psysml:ee76f7ce-c996-4988-9b1a-5ac16ad8d066\" xlink:show=\"new\" xlink:title=\"psysml:ee76f7ce-c996-4988-9b1a-5ac16ad8d066\" xlink:type=\"simple\"><path d=\"M186.16,667.29 C200.45,683.28 217.89,702.81 231.23,717.75 \" fill=\"none\" id=\"E6-backto-E7\" style=\"stroke:#181818;stroke-width:1.0;\"/><polygon fill=\"#181818\" points=\"177.3,657.37,178.3109,664.5099,185.2904,666.3229,184.2795,659.183,177.3,657.37\" style=\"stroke:#181818;stroke-width:1.0;\"/></a></g><!--MD5=[14ccda38c055a5c0da953d572bc50960]\n",
       "link E7 to E3--><g id=\"link_E7_E3\"><a href=\"psysml:1cb41c8a-3888-4a6d-b592-33957295a7ee\" target=\"_top\" title=\"psysml:1cb41c8a-3888-4a6d-b592-33957295a7ee\" xlink:actuate=\"onRequest\" xlink:href=\"psysml:1cb41c8a-3888-4a6d-b592-33957295a7ee\" xlink:show=\"new\" xlink:title=\"psysml:1cb41c8a-3888-4a6d-b592-33957295a7ee\" xlink:type=\"simple\"><path d=\"M264.83,717.62 C274.82,697.23 287,666.52 287,638 C287,375 287,375 287,375 C287,332.26 242.53,303.18 208.19,287.1 \" fill=\"none\" id=\"E7-to-E3\" style=\"stroke:#181818;stroke-width:1.0;\"/><polygon fill=\"#FFFFFF\" points=\"189.55,279.12,209.7716,280.1629,204.2615,293.033,189.55,279.12\" style=\"stroke:#181818;stroke-width:1.0;\"/><ellipse cx=\"214.2244\" cy=\"284.2448\" fill=\"#181818\" rx=\"2\" ry=\"2\" style=\"stroke:#181818;stroke-width:1.0;\"/><ellipse cx=\"210.2887\" cy=\"293.4378\" fill=\"#181818\" rx=\"2\" ry=\"2\" style=\"stroke:#181818;stroke-width:1.0;\"/></a></g><!--MD5=[dfaffb906826c3e5aca635516100ff21]\n",
       "link E5 to E8--><g id=\"link_E5_E8\"><a href=\"psysml:b2862137-6a73-49a4-ad0f-48652eafb24c\" target=\"_top\" title=\"psysml:b2862137-6a73-49a4-ad0f-48652eafb24c\" xlink:actuate=\"onRequest\" xlink:href=\"psysml:b2862137-6a73-49a4-ad0f-48652eafb24c\" xlink:show=\"new\" xlink:title=\"psysml:b2862137-6a73-49a4-ad0f-48652eafb24c\" xlink:type=\"simple\"><path d=\"M207.72,400.13 C198.9,422.08 185.5,455.46 175.15,481.27 \" fill=\"none\" id=\"E5-to-E8\" style=\"stroke:#181818;stroke-width:1.0;\"/><polygon fill=\"#FFFFFF\" points=\"167.64,499.97,168.2159,479.7297,181.2097,484.9413,167.64,499.97\" style=\"stroke:#181818;stroke-width:1.0;\"/><ellipse cx=\"172.194\" cy=\"475.1839\" fill=\"#181818\" rx=\"2\" ry=\"2\" style=\"stroke:#181818;stroke-width:1.0;\"/><ellipse cx=\"181.4753\" cy=\"478.9064\" fill=\"#181818\" rx=\"2\" ry=\"2\" style=\"stroke:#181818;stroke-width:1.0;\"/></a></g><!--MD5=[03c8294790d3c57651a1993cecff665f]\n",
       "reverse link E8 to E3--><g id=\"link_E8_E3\"><a href=\"psysml:764dcc5f-c791-44bd-8fe4-0cc6162433fb\" target=\"_top\" title=\"psysml:764dcc5f-c791-44bd-8fe4-0cc6162433fb\" xlink:actuate=\"onRequest\" xlink:href=\"psysml:764dcc5f-c791-44bd-8fe4-0cc6162433fb\" xlink:show=\"new\" xlink:title=\"psysml:764dcc5f-c791-44bd-8fe4-0cc6162433fb\" xlink:type=\"simple\"><path d=\"M157.67,486.86 C155.63,453.19 153.51,398.81 157,352 C158.56,331.13 162.37,307.45 165.28,291.31 \" fill=\"none\" id=\"E8-backto-E3\" style=\"stroke:#181818;stroke-width:1.0;\"/><polygon fill=\"none\" points=\"158.52,499.93,162.1225,493.6833,157.7419,487.9553,154.1394,494.202,158.52,499.93\" style=\"stroke:#181818;stroke-width:1.0;\"/><text fill=\"#000000\" font-family=\"sans-serif\" font-size=\"13\" lengthAdjust=\"spacing\" textLength=\"7\" x=\"158\" y=\"380.5669\">y</text></a></g><!--MD5=[0d75d2178373a6a4568e5dc728f58aef]\n",
       "reverse link E8 to E6--><g id=\"link_E8_E6\"><a href=\"psysml:764dcc5f-c791-44bd-8fe4-0cc6162433fb\" target=\"_top\" title=\"psysml:764dcc5f-c791-44bd-8fe4-0cc6162433fb\" xlink:actuate=\"onRequest\" xlink:href=\"psysml:764dcc5f-c791-44bd-8fe4-0cc6162433fb\" xlink:show=\"new\" xlink:title=\"psysml:764dcc5f-c791-44bd-8fe4-0cc6162433fb\" xlink:type=\"simple\"><path d=\"M160,553.36 C160,573.76 160,599.42 160,616.69 \" fill=\"none\" id=\"E8-backto-E6\" style=\"stroke:#181818;stroke-width:1.0;\"/><polygon fill=\"none\" points=\"160,540.25,156,546.25,160,552.25,164,546.25,160,540.25\" style=\"stroke:#181818;stroke-width:1.0;\"/><text fill=\"#000000\" font-family=\"sans-serif\" font-size=\"13\" lengthAdjust=\"spacing\" textLength=\"7\" x=\"161\" y=\"583.0669\">y</text></a></g><!--MD5=[23ac544a70576c3e717098101004234c]\n",
       "reverse link E9 to E10--><g id=\"link_E9_E10\"><a href=\"psysml:1f369bef-866d-4201-85d0-19625ffb0bd4\" target=\"_top\" title=\"psysml:1f369bef-866d-4201-85d0-19625ffb0bd4\" xlink:actuate=\"onRequest\" xlink:href=\"psysml:1f369bef-866d-4201-85d0-19625ffb0bd4\" xlink:show=\"new\" xlink:title=\"psysml:1f369bef-866d-4201-85d0-19625ffb0bd4\" xlink:type=\"simple\"><path d=\"M98.9,100.5 C89.34,116.92 78.26,135.94 70.21,149.76 \" fill=\"none\" id=\"E9-backto-E10\" style=\"stroke:#181818;stroke-width:1.0;\"/><polygon fill=\"none\" points=\"105.53,89.12,99.0532,92.2903,99.4885,99.4882,105.9653,96.318,105.53,89.12\" style=\"stroke:#181818;stroke-width:1.0;\"/></a></g><!--MD5=[feeac5eb423634930294aa81f2d25a4c]\n",
       "link E10 to E3--><g id=\"link_E10_E3\"><a href=\"psysml:0dc69dec-387f-4606-9efc-6b8567a081cf\" target=\"_top\" title=\"psysml:0dc69dec-387f-4606-9efc-6b8567a081cf\" xlink:actuate=\"onRequest\" xlink:href=\"psysml:0dc69dec-387f-4606-9efc-6b8567a081cf\" xlink:show=\"new\" xlink:title=\"psysml:0dc69dec-387f-4606-9efc-6b8567a081cf\" xlink:type=\"simple\"><path d=\"M80.21,190.09 C95.22,203.6 115.71,222.04 133.22,237.8 \" fill=\"none\" id=\"E10-to-E3\" style=\"stroke:#181818;stroke-width:1.0;\"/><polygon fill=\"#FFFFFF\" points=\"148.23,251.31,129.4251,243.8017,138.7911,233.3961,148.23,251.31\" style=\"stroke:#181818;stroke-width:1.0;\"/><ellipse cx=\"126.5265\" cy=\"238.5019\" fill=\"#181818\" rx=\"2\" ry=\"2\" style=\"stroke:#181818;stroke-width:1.0;\"/><ellipse cx=\"133.2165\" cy=\"231.0693\" fill=\"#181818\" rx=\"2\" ry=\"2\" style=\"stroke:#181818;stroke-width:1.0;\"/></a></g><!--MD5=[1fc04a95fd77ad5ce46c1a3027516051]\n",
       "reverse link E9 to E11--><g id=\"link_E9_E11\"><a href=\"psysml:41147f3b-680c-4b19-9ea9-1ad0d7284d0b\" target=\"_top\" title=\"psysml:41147f3b-680c-4b19-9ea9-1ad0d7284d0b\" xlink:actuate=\"onRequest\" xlink:href=\"psysml:41147f3b-680c-4b19-9ea9-1ad0d7284d0b\" xlink:show=\"new\" xlink:title=\"psysml:41147f3b-680c-4b19-9ea9-1ad0d7284d0b\" xlink:type=\"simple\"><path d=\"M135.98,100.98 C143.9,117.29 153.01,136.07 159.66,149.76 \" fill=\"none\" id=\"E9-backto-E11\" style=\"stroke:#181818;stroke-width:1.0;\"/><polygon fill=\"none\" points=\"130.22,89.12,129.2448,96.2649,135.465,99.9131,136.4402,92.7682,130.22,89.12\" style=\"stroke:#181818;stroke-width:1.0;\"/></a></g><!--MD5=[0517f1ce58c4d5483948f93845c45e26]\n",
       "link E11 to E3--><g id=\"link_E11_E3\"><a href=\"psysml:86cba12c-5c0b-4cb2-8a0f-652783ee7e3b\" target=\"_top\" title=\"psysml:86cba12c-5c0b-4cb2-8a0f-652783ee7e3b\" xlink:actuate=\"onRequest\" xlink:href=\"psysml:86cba12c-5c0b-4cb2-8a0f-652783ee7e3b\" xlink:show=\"new\" xlink:title=\"psysml:86cba12c-5c0b-4cb2-8a0f-652783ee7e3b\" xlink:type=\"simple\"><path d=\"M169,190.09 C169,201.59 169,216.68 169,230.63 \" fill=\"none\" id=\"E11-to-E3\" style=\"stroke:#181818;stroke-width:1.0;\"/><polygon fill=\"#FFFFFF\" points=\"169,250.97,162,231.97,176,231.97,169,250.97\" style=\"stroke:#181818;stroke-width:1.0;\"/><ellipse cx=\"164\" cy=\"226.27\" fill=\"#181818\" rx=\"2\" ry=\"2\" style=\"stroke:#181818;stroke-width:1.0;\"/><ellipse cx=\"174\" cy=\"226.27\" fill=\"#181818\" rx=\"2\" ry=\"2\" style=\"stroke:#181818;stroke-width:1.0;\"/></a></g><!--MD5=[2fa25d01ce65301293a8a616737c1152]\n",
       "@startuml\r\n",
       " \r\n",
       "package \"ItemTest\" as E1  [[psysml:b50080a1-e82f-4c80-9a3f-5d66ab4e7e23 ]]  {\r\n",
       "comp usage \"f: A  \" as E2  << << (P,limegreen) >> [[psysml:4d36820e-7c5e-46bd-9de5-e346cea54837 ]] {\r\n",
       "}\r\n",
       "comp def \"A\" as E3  << << (B,green) >> [[psysml:90a9c46f-1bc9-4470-bf4e-8ae555dfcfc9 ]] {\r\n",
       "}\r\n",
       "comp usage \"b: B  \" as E4  << << (P,limegreen) >> [[psysml:d394e1d7-ba50-4340-ad50-ece704d14a42 ]] {\r\n",
       "}\r\n",
       "comp usage \"c: C  \" as E5  << << (P,limegreen) part>> [[psysml:af047218-2074-4cd5-be73-a9bc4fd53c73 ]] {\r\n",
       "}\r\n",
       "comp def \"<i>B</i>\" as E6  << << (B,green) >> [[psysml:24ac0b44-19f7-4e7e-9d8c-29217623109a ]] {\r\n",
       "}\r\n",
       "comp usage \"<i>a</i>: A  \" as E7  << << (P,limegreen) part>> [[psysml:f97762a5-be4a-40f0-b15f-ded6f9a0a2bf ]] {\r\n",
       "}\r\n",
       "comp def \"C\" as E8  << << (B,green) >> [[psysml:2119f9fa-e703-4679-adcc-c9e3fda7136e ]] {\r\n",
       "}\r\n",
       "comp def \"P\" as E9  << <<(D,brown) port  def>> [[psysml:f9be0f9f-7828-47af-b676-a3098923450b ]] {\r\n",
       "}\r\n",
       "comp usage \"a1: A  \" as E10  << << (P,limegreen) >> [[psysml:bdd21edf-ffb1-47e0-8301-b129ba721304 ]] {\r\n",
       "}\r\n",
       "comp usage \"a2: A  \" as E11  << << (P,limegreen) >> [[psysml:ea86bb80-7fc3-4478-bdc0-15728142c0fa ]] {\r\n",
       "}\r\n",
       "}\r\n",
       "E2 - -:|> E3 [[psysml:358bd963-d6cf-4c51-9d97-dc29b520688f ]] \r\n",
       "E3 *- - E4 [[psysml:724ffe94-cfbf-4ea2-b315-6baf1a587f0c ]] \r\n",
       "E3 o- - E5 [[psysml:9c72d63b-be6b-487b-af19-53b3ed2c634b ]] \r\n",
       "E4 - -:|> E6 [[psysml:c1d845e5-90b4-4786-9172-2f85f48f902a ]] \r\n",
       "E6 *- - E7 [[psysml:ee76f7ce-c996-4988-9b1a-5ac16ad8d066 ]] \r\n",
       "E7 - -:|> E3 [[psysml:1cb41c8a-3888-4a6d-b592-33957295a7ee ]] \r\n",
       "E5 - -:|> E8 [[psysml:b2862137-6a73-49a4-ad0f-48652eafb24c ]] \r\n",
       "E8 o- - E3 [[psysml:764dcc5f-c791-44bd-8fe4-0cc6162433fb ]] : y\r\n",
       "E8 o- - E6 [[psysml:764dcc5f-c791-44bd-8fe4-0cc6162433fb ]] : y\r\n",
       "E9 o- - E10 [[psysml:1f369bef-866d-4201-85d0-19625ffb0bd4 ]] \r\n",
       "E10 - -:|> E3 [[psysml:0dc69dec-387f-4606-9efc-6b8567a081cf ]] \r\n",
       "E9 o- - E11 [[psysml:41147f3b-680c-4b19-9ea9-1ad0d7284d0b ]] \r\n",
       "E11 - -:|> E3 [[psysml:86cba12c-5c0b-4cb2-8a0f-652783ee7e3b ]] \r\n",
       "@enduml\r\n",
       "\n",
       "PlantUML version 1.2022.7(Mon Aug 22 17:01:30 UTC 2022)\n",
       "(EPL source distribution)\n",
       "Java Runtime: OpenJDK Runtime Environment\n",
       "JVM: OpenJDK 64-Bit Server VM\n",
       "Default Encoding: UTF-8\n",
       "Language: en\n",
       "Country: null\n",
       "--></g></svg>"
      ]
     },
     "execution_count": 30,
     "metadata": {},
     "output_type": "execute_result"
    }
   ],
   "source": [
    "%viz --style=\"PLANTUML\" --view=\"Default\" \"ItemTest\""
   ]
  },
  {
   "cell_type": "code",
   "execution_count": 31,
   "id": "30cd9f62",
   "metadata": {
    "execution": {
     "iopub.execute_input": "2024-12-16T03:22:55.174195Z",
     "iopub.status.busy": "2024-12-16T03:22:55.173964Z",
     "iopub.status.idle": "2024-12-16T03:22:55.202782Z",
     "shell.execute_reply": "2024-12-16T03:22:55.201743Z"
    }
   },
   "outputs": [
    {
     "data": {
      "image/svg+xml": [
       "<?xml version=\"1.0\" encoding=\"UTF-8\" standalone=\"no\"?><svg xmlns=\"http://www.w3.org/2000/svg\" xmlns:xlink=\"http://www.w3.org/1999/xlink\" contentStyleType=\"text/css\" height=\"789px\" preserveAspectRatio=\"none\" style=\"width:327px;height:789px;background:#FFFFFF;\" version=\"1.1\" viewBox=\"0 0 327 789\" width=\"327px\" zoomAndPan=\"magnify\"><defs/><g><!--MD5=[fbc87193dbaf4d95561dea2c320d4a47]\n",
       "cluster E1--><g id=\"cluster_E1\"><a href=\"psysml:b50080a1-e82f-4c80-9a3f-5d66ab4e7e23\" target=\"_top\" title=\"psysml:b50080a1-e82f-4c80-9a3f-5d66ab4e7e23\" xlink:actuate=\"onRequest\" xlink:href=\"psysml:b50080a1-e82f-4c80-9a3f-5d66ab4e7e23\" xlink:show=\"new\" xlink:title=\"psysml:b50080a1-e82f-4c80-9a3f-5d66ab4e7e23\" xlink:type=\"simple\"><path d=\"M8.5,6 L74,6 A3.75,3.75 0 0 1 76.5,8.5 L83.5,28.2969 L317.5,28.2969 A2.5,2.5 0 0 1 320,30.7969 L320,779.5 A2.5,2.5 0 0 1 317.5,782 L8.5,782 A2.5,2.5 0 0 1 6,779.5 L6,8.5 A2.5,2.5 0 0 1 8.5,6 \" fill=\"none\" style=\"stroke:#000000;stroke-width:1.5;\"/><line style=\"stroke:#000000;stroke-width:1.5;\" x1=\"6\" x2=\"83.5\" y1=\"28.2969\" y2=\"28.2969\"/><text fill=\"#000000\" font-family=\"sans-serif\" font-size=\"14\" font-weight=\"bold\" lengthAdjust=\"spacing\" textLength=\"64.5\" x=\"10\" y=\"20.9951\">ItemTest</text></a></g><!--MD5=[b4997ac47864f28c2f74865a473b2911]\n",
       "class E2--><a href=\"psysml:4d36820e-7c5e-46bd-9de5-e346cea54837\" target=\"_top\" title=\"psysml:4d36820e-7c5e-46bd-9de5-e346cea54837\" xlink:actuate=\"onRequest\" xlink:href=\"psysml:4d36820e-7c5e-46bd-9de5-e346cea54837\" xlink:show=\"new\" xlink:title=\"psysml:4d36820e-7c5e-46bd-9de5-e346cea54837\" xlink:type=\"simple\"><g id=\"elem_E2\"><rect fill=\"#F1F1F1\" height=\"40\" id=\"E2\" rx=\"10\" ry=\"10\" style=\"stroke:#181818;stroke-width:0.5;\" width=\"62\" x=\"242\" y=\"150\"/><ellipse cx=\"257\" cy=\"166\" fill=\"#32CD32\" rx=\"11\" ry=\"11\" style=\"stroke:#181818;stroke-width:1.0;\"/><path d=\"M253.8594,172.5 L253.8594,160.3594 L257.8906,160.3594 Q259.9844,160.3594 261,161.3438 Q262.0156,162.3125 262.0156,164.1406 Q262.0156,165.3438 261.5781,166.25 Q261.1563,167.1563 260.2031,167.6719 Q259.2656,168.1875 257.7344,168.1875 L256.2344,168.1875 L256.2344,172.5 L253.8594,172.5 Z M257.4844,166.0938 Q258.5313,166.0938 259.0469,165.6094 Q259.5781,165.125 259.5781,164.2344 Q259.5781,163.3438 259.1406,162.9063 Q258.7188,162.4531 257.7969,162.4531 L256.2344,162.4531 L256.2344,166.0938 L257.4844,166.0938 Z \" fill=\"#000000\"/><text fill=\"#000000\" font-family=\"sans-serif\" font-size=\"14\" lengthAdjust=\"spacing\" textLength=\"22\" x=\"271\" y=\"170.8467\">f: A</text><line style=\"stroke:#181818;stroke-width:0.5;\" x1=\"243\" x2=\"303\" y1=\"182\" y2=\"182\"/></g></a><!--MD5=[09b614a08d8cba4a07c9adeb5e0fee81]\n",
       "class E3--><a href=\"psysml:90a9c46f-1bc9-4470-bf4e-8ae555dfcfc9\" target=\"_top\" title=\"psysml:90a9c46f-1bc9-4470-bf4e-8ae555dfcfc9\" xlink:actuate=\"onRequest\" xlink:href=\"psysml:90a9c46f-1bc9-4470-bf4e-8ae555dfcfc9\" xlink:show=\"new\" xlink:title=\"psysml:90a9c46f-1bc9-4470-bf4e-8ae555dfcfc9\" xlink:type=\"simple\"><g id=\"elem_E3\"><rect fill=\"#F1F1F1\" height=\"40\" id=\"E3\" rx=\"2.5\" ry=\"2.5\" style=\"stroke:#181818;stroke-width:0.5;\" width=\"41\" x=\"148.5\" y=\"251\"/><ellipse cx=\"163.5\" cy=\"267\" fill=\"#008000\" rx=\"11\" ry=\"11\" style=\"stroke:#181818;stroke-width:1.0;\"/><path d=\"M160.3594,273.5 L160.3594,261.3594 L164.1563,261.3594 Q166.1563,261.3594 167.2031,262.0625 Q168.2656,262.7656 168.2656,264.3438 Q168.2656,265.4375 167.7656,266.1563 Q167.2813,266.875 166.4531,267.0625 L166.4531,267.1406 Q167.375,267.3594 167.9375,268.0313 Q168.5156,268.6875 168.5156,269.9531 Q168.5156,271.6094 167.4688,272.5625 Q166.4219,273.5 164.5625,273.5 L160.3594,273.5 Z M164.1406,266.1406 Q165.0313,266.1406 165.3906,265.8125 Q165.7656,265.4688 165.7656,264.7656 Q165.7656,264.0313 165.375,263.7188 Q164.9844,263.3906 164.0469,263.3906 L162.6563,263.3906 L162.6563,266.1406 L164.1406,266.1406 Z M164.3281,271.4844 Q165.2344,271.4844 165.5938,271.0469 Q165.9531,270.5938 165.9531,269.8125 Q165.9531,269.0313 165.5781,268.6406 Q165.2188,268.2344 164.2344,268.2344 L162.6563,268.2344 L162.6563,271.4844 L164.3281,271.4844 Z \" fill=\"#000000\"/><text fill=\"#000000\" font-family=\"sans-serif\" font-size=\"14\" lengthAdjust=\"spacing\" textLength=\"9\" x=\"177.5\" y=\"271.8467\">A</text><line style=\"stroke:#181818;stroke-width:0.5;\" x1=\"149.5\" x2=\"188.5\" y1=\"283\" y2=\"283\"/></g></a><!--MD5=[ebbe1d658d1005bcc118a6aa81145e00]\n",
       "class E4--><a href=\"psysml:d394e1d7-ba50-4340-ad50-ece704d14a42\" target=\"_top\" title=\"psysml:d394e1d7-ba50-4340-ad50-ece704d14a42\" xlink:actuate=\"onRequest\" xlink:href=\"psysml:d394e1d7-ba50-4340-ad50-ece704d14a42\" xlink:show=\"new\" xlink:title=\"psysml:d394e1d7-ba50-4340-ad50-ece704d14a42\" xlink:type=\"simple\"><g id=\"elem_E4\"><rect fill=\"#F1F1F1\" height=\"40\" id=\"E4\" rx=\"10\" ry=\"10\" style=\"stroke:#181818;stroke-width:0.5;\" width=\"68\" x=\"50\" y=\"430\"/><ellipse cx=\"65\" cy=\"446\" fill=\"#32CD32\" rx=\"11\" ry=\"11\" style=\"stroke:#181818;stroke-width:1.0;\"/><path d=\"M61.8594,452.5 L61.8594,440.3594 L65.8906,440.3594 Q67.9844,440.3594 69,441.3438 Q70.0156,442.3125 70.0156,444.1406 Q70.0156,445.3438 69.5781,446.25 Q69.1563,447.1563 68.2031,447.6719 Q67.2656,448.1875 65.7344,448.1875 L64.2344,448.1875 L64.2344,452.5 L61.8594,452.5 Z M65.4844,446.0938 Q66.5313,446.0938 67.0469,445.6094 Q67.5781,445.125 67.5781,444.2344 Q67.5781,443.3438 67.1406,442.9063 Q66.7188,442.4531 65.7969,442.4531 L64.2344,442.4531 L64.2344,446.0938 L65.4844,446.0938 Z \" fill=\"#000000\"/><text fill=\"#000000\" font-family=\"sans-serif\" font-size=\"14\" lengthAdjust=\"spacing\" textLength=\"28\" x=\"79\" y=\"450.8467\">b: B</text><line style=\"stroke:#181818;stroke-width:0.5;\" x1=\"51\" x2=\"117\" y1=\"462\" y2=\"462\"/></g></a><!--MD5=[270fce915f116d4de14055a7c1d9a0f3]\n",
       "class E5--><a href=\"psysml:af047218-2074-4cd5-be73-a9bc4fd53c73\" target=\"_top\" title=\"psysml:af047218-2074-4cd5-be73-a9bc4fd53c73\" xlink:actuate=\"onRequest\" xlink:href=\"psysml:af047218-2074-4cd5-be73-a9bc4fd53c73\" xlink:show=\"new\" xlink:title=\"psysml:af047218-2074-4cd5-be73-a9bc4fd53c73\" xlink:type=\"simple\"><g id=\"elem_E5\"><rect fill=\"#F1F1F1\" height=\"48.2656\" id=\"E5\" rx=\"10\" ry=\"10\" style=\"stroke:#181818;stroke-width:0.5;\" width=\"68\" x=\"183\" y=\"352\"/><ellipse cx=\"198\" cy=\"372.1328\" fill=\"#32CD32\" rx=\"11\" ry=\"11\" style=\"stroke:#181818;stroke-width:1.0;\"/><path d=\"M194.8594,378.6328 L194.8594,366.4922 L198.8906,366.4922 Q200.9844,366.4922 202,367.4766 Q203.0156,368.4453 203.0156,370.2734 Q203.0156,371.4766 202.5781,372.3828 Q202.1563,373.2891 201.2031,373.8047 Q200.2656,374.3203 198.7344,374.3203 L197.2344,374.3203 L197.2344,378.6328 L194.8594,378.6328 Z M198.4844,372.2266 Q199.5313,372.2266 200.0469,371.7422 Q200.5781,371.2578 200.5781,370.3672 Q200.5781,369.4766 200.1406,369.0391 Q199.7188,368.5859 198.7969,368.5859 L197.2344,368.5859 L197.2344,372.2266 L198.4844,372.2266 Z \" fill=\"#000000\"/><text fill=\"#000000\" font-family=\"sans-serif\" font-size=\"12\" font-style=\"italic\" lengthAdjust=\"spacing\" textLength=\"40\" x=\"210\" y=\"368.1387\">«part»</text><text fill=\"#000000\" font-family=\"sans-serif\" font-size=\"14\" lengthAdjust=\"spacing\" textLength=\"27\" x=\"212.5\" y=\"383.9639\">c: C</text><line style=\"stroke:#181818;stroke-width:0.5;\" x1=\"184\" x2=\"250\" y1=\"392.2656\" y2=\"392.2656\"/></g></a><!--MD5=[60a26617385b1d2d0262a64233df1f8d]\n",
       "class E6--><a href=\"psysml:24ac0b44-19f7-4e7e-9d8c-29217623109a\" target=\"_top\" title=\"psysml:24ac0b44-19f7-4e7e-9d8c-29217623109a\" xlink:actuate=\"onRequest\" xlink:href=\"psysml:24ac0b44-19f7-4e7e-9d8c-29217623109a\" xlink:show=\"new\" xlink:title=\"psysml:24ac0b44-19f7-4e7e-9d8c-29217623109a\" xlink:type=\"simple\"><g id=\"elem_E6\"><rect fill=\"#F1F1F1\" height=\"40\" id=\"E6\" rx=\"2.5\" ry=\"2.5\" style=\"stroke:#181818;stroke-width:0.5;\" width=\"42\" x=\"139\" y=\"617\"/><ellipse cx=\"154\" cy=\"633\" fill=\"#008000\" rx=\"11\" ry=\"11\" style=\"stroke:#181818;stroke-width:1.0;\"/><path d=\"M150.8594,639.5 L150.8594,627.3594 L154.6563,627.3594 Q156.6563,627.3594 157.7031,628.0625 Q158.7656,628.7656 158.7656,630.3438 Q158.7656,631.4375 158.2656,632.1563 Q157.7813,632.875 156.9531,633.0625 L156.9531,633.1406 Q157.875,633.3594 158.4375,634.0313 Q159.0156,634.6875 159.0156,635.9531 Q159.0156,637.6094 157.9688,638.5625 Q156.9219,639.5 155.0625,639.5 L150.8594,639.5 Z M154.6406,632.1406 Q155.5313,632.1406 155.8906,631.8125 Q156.2656,631.4688 156.2656,630.7656 Q156.2656,630.0313 155.875,629.7188 Q155.4844,629.3906 154.5469,629.3906 L153.1563,629.3906 L153.1563,632.1406 L154.6406,632.1406 Z M154.8281,637.4844 Q155.7344,637.4844 156.0938,637.0469 Q156.4531,636.5938 156.4531,635.8125 Q156.4531,635.0313 156.0781,634.6406 Q155.7188,634.2344 154.7344,634.2344 L153.1563,634.2344 L153.1563,637.4844 L154.8281,637.4844 Z \" fill=\"#000000\"/><text fill=\"#000000\" font-family=\"sans-serif\" font-size=\"14\" font-style=\"italic\" lengthAdjust=\"spacing\" textLength=\"10\" x=\"168\" y=\"637.8467\">B</text><line style=\"stroke:#181818;stroke-width:0.5;\" x1=\"140\" x2=\"180\" y1=\"649\" y2=\"649\"/></g></a><!--MD5=[2156ba9850f5573cc1fc38a6a4b2f02b]\n",
       "class E7--><a href=\"psysml:f97762a5-be4a-40f0-b15f-ded6f9a0a2bf\" target=\"_top\" title=\"psysml:f97762a5-be4a-40f0-b15f-ded6f9a0a2bf\" xlink:actuate=\"onRequest\" xlink:href=\"psysml:f97762a5-be4a-40f0-b15f-ded6f9a0a2bf\" xlink:show=\"new\" xlink:title=\"psysml:f97762a5-be4a-40f0-b15f-ded6f9a0a2bf\" xlink:type=\"simple\"><g id=\"elem_E7\"><rect fill=\"#F1F1F1\" height=\"48.2656\" id=\"E7\" rx=\"10\" ry=\"10\" style=\"stroke:#181818;stroke-width:0.5;\" width=\"68\" x=\"218\" y=\"718\"/><ellipse cx=\"233\" cy=\"738.1328\" fill=\"#32CD32\" rx=\"11\" ry=\"11\" style=\"stroke:#181818;stroke-width:1.0;\"/><path d=\"M229.8594,744.6328 L229.8594,732.4922 L233.8906,732.4922 Q235.9844,732.4922 237,733.4766 Q238.0156,734.4453 238.0156,736.2734 Q238.0156,737.4766 237.5781,738.3828 Q237.1563,739.2891 236.2031,739.8047 Q235.2656,740.3203 233.7344,740.3203 L232.2344,740.3203 L232.2344,744.6328 L229.8594,744.6328 Z M233.4844,738.2266 Q234.5313,738.2266 235.0469,737.7422 Q235.5781,737.2578 235.5781,736.3672 Q235.5781,735.4766 235.1406,735.0391 Q234.7188,734.5859 233.7969,734.5859 L232.2344,734.5859 L232.2344,738.2266 L233.4844,738.2266 Z \" fill=\"#000000\"/><text fill=\"#000000\" font-family=\"sans-serif\" font-size=\"12\" font-style=\"italic\" lengthAdjust=\"spacing\" textLength=\"40\" x=\"245\" y=\"734.1387\">«part»</text><text fill=\"#000000\" font-family=\"sans-serif\" font-size=\"14\" font-style=\"italic\" lengthAdjust=\"spacing\" textLength=\"8\" x=\"248\" y=\"749.9639\">a</text><text fill=\"#000000\" font-family=\"sans-serif\" font-size=\"14\" lengthAdjust=\"spacing\" textLength=\"18\" x=\"256\" y=\"749.9639\">: A</text><line style=\"stroke:#181818;stroke-width:0.5;\" x1=\"219\" x2=\"285\" y1=\"758.2656\" y2=\"758.2656\"/></g></a><!--MD5=[b9389687b975829384b498ac4b7476b2]\n",
       "class E8--><a href=\"psysml:2119f9fa-e703-4679-adcc-c9e3fda7136e\" target=\"_top\" title=\"psysml:2119f9fa-e703-4679-adcc-c9e3fda7136e\" xlink:actuate=\"onRequest\" xlink:href=\"psysml:2119f9fa-e703-4679-adcc-c9e3fda7136e\" xlink:show=\"new\" xlink:title=\"psysml:2119f9fa-e703-4679-adcc-c9e3fda7136e\" xlink:type=\"simple\"><g id=\"elem_E8\"><rect fill=\"#F1F1F1\" height=\"40\" id=\"E8\" rx=\"2.5\" ry=\"2.5\" style=\"stroke:#181818;stroke-width:0.5;\" width=\"42\" x=\"139\" y=\"500\"/><ellipse cx=\"154\" cy=\"516\" fill=\"#008000\" rx=\"11\" ry=\"11\" style=\"stroke:#181818;stroke-width:1.0;\"/><path d=\"M150.8594,522.5 L150.8594,510.3594 L154.6563,510.3594 Q156.6563,510.3594 157.7031,511.0625 Q158.7656,511.7656 158.7656,513.3438 Q158.7656,514.4375 158.2656,515.1563 Q157.7813,515.875 156.9531,516.0625 L156.9531,516.1406 Q157.875,516.3594 158.4375,517.0313 Q159.0156,517.6875 159.0156,518.9531 Q159.0156,520.6094 157.9688,521.5625 Q156.9219,522.5 155.0625,522.5 L150.8594,522.5 Z M154.6406,515.1406 Q155.5313,515.1406 155.8906,514.8125 Q156.2656,514.4688 156.2656,513.7656 Q156.2656,513.0313 155.875,512.7188 Q155.4844,512.3906 154.5469,512.3906 L153.1563,512.3906 L153.1563,515.1406 L154.6406,515.1406 Z M154.8281,520.4844 Q155.7344,520.4844 156.0938,520.0469 Q156.4531,519.5938 156.4531,518.8125 Q156.4531,518.0313 156.0781,517.6406 Q155.7188,517.2344 154.7344,517.2344 L153.1563,517.2344 L153.1563,520.4844 L154.8281,520.4844 Z \" fill=\"#000000\"/><text fill=\"#000000\" font-family=\"sans-serif\" font-size=\"14\" lengthAdjust=\"spacing\" textLength=\"10\" x=\"168\" y=\"520.8467\">C</text><line style=\"stroke:#181818;stroke-width:0.5;\" x1=\"140\" x2=\"180\" y1=\"532\" y2=\"532\"/></g></a><!--MD5=[fd4143e9d270a159db93a4ea2a975926]\n",
       "class E9--><a href=\"psysml:f9be0f9f-7828-47af-b676-a3098923450b\" target=\"_top\" title=\"psysml:f9be0f9f-7828-47af-b676-a3098923450b\" xlink:actuate=\"onRequest\" xlink:href=\"psysml:f9be0f9f-7828-47af-b676-a3098923450b\" xlink:show=\"new\" xlink:title=\"psysml:f9be0f9f-7828-47af-b676-a3098923450b\" xlink:type=\"simple\"><g id=\"elem_E9\"><rect fill=\"#F1F1F1\" height=\"48.2656\" id=\"E9\" rx=\"2.5\" ry=\"2.5\" style=\"stroke:#181818;stroke-width:0.5;\" width=\"96\" x=\"71\" y=\"41\"/><ellipse cx=\"86\" cy=\"61.1328\" fill=\"#A52A2A\" rx=\"11\" ry=\"11\" style=\"stroke:#181818;stroke-width:1.0;\"/><path d=\"M82.7656,67.6328 L82.7656,55.4922 L86.5156,55.4922 Q88.8906,55.4922 90.2813,57.0078 Q91.6875,58.5078 91.6875,61.4609 Q91.6875,64.4297 90.25,66.0391 Q88.8125,67.6328 86.3281,67.6328 L82.7656,67.6328 Z M86.2031,65.5391 Q87.75,65.5391 88.4688,64.5391 Q89.1875,63.5391 89.1875,61.4766 Q89.1875,59.4453 88.4844,58.5234 Q87.7969,57.5859 86.4063,57.5859 L85.2031,57.5859 L85.2031,65.5391 L86.2031,65.5391 Z \" fill=\"#000000\"/><text fill=\"#000000\" font-family=\"sans-serif\" font-size=\"12\" font-style=\"italic\" lengthAdjust=\"spacing\" textLength=\"68\" x=\"98\" y=\"57.1387\">«port  def»</text><text fill=\"#000000\" font-family=\"sans-serif\" font-size=\"14\" lengthAdjust=\"spacing\" textLength=\"9\" x=\"127.5\" y=\"72.9639\">P</text><line style=\"stroke:#181818;stroke-width:0.5;\" x1=\"72\" x2=\"166\" y1=\"81.2656\" y2=\"81.2656\"/></g></a><!--MD5=[96f4274e9e20536e775497830990834d]\n",
       "class E10--><a href=\"psysml:bdd21edf-ffb1-47e0-8301-b129ba721304\" target=\"_top\" title=\"psysml:bdd21edf-ffb1-47e0-8301-b129ba721304\" xlink:actuate=\"onRequest\" xlink:href=\"psysml:bdd21edf-ffb1-47e0-8301-b129ba721304\" xlink:show=\"new\" xlink:title=\"psysml:bdd21edf-ffb1-47e0-8301-b129ba721304\" xlink:type=\"simple\"><g id=\"elem_E10\"><rect fill=\"#F1F1F1\" height=\"40\" id=\"E10\" rx=\"10\" ry=\"10\" style=\"stroke:#181818;stroke-width:0.5;\" width=\"75\" x=\"21.5\" y=\"150\"/><ellipse cx=\"36.5\" cy=\"166\" fill=\"#32CD32\" rx=\"11\" ry=\"11\" style=\"stroke:#181818;stroke-width:1.0;\"/><path d=\"M33.3594,172.5 L33.3594,160.3594 L37.3906,160.3594 Q39.4844,160.3594 40.5,161.3438 Q41.5156,162.3125 41.5156,164.1406 Q41.5156,165.3438 41.0781,166.25 Q40.6563,167.1563 39.7031,167.6719 Q38.7656,168.1875 37.2344,168.1875 L35.7344,168.1875 L35.7344,172.5 L33.3594,172.5 Z M36.9844,166.0938 Q38.0313,166.0938 38.5469,165.6094 Q39.0781,165.125 39.0781,164.2344 Q39.0781,163.3438 38.6406,162.9063 Q38.2188,162.4531 37.2969,162.4531 L35.7344,162.4531 L35.7344,166.0938 L36.9844,166.0938 Z \" fill=\"#000000\"/><text fill=\"#000000\" font-family=\"sans-serif\" font-size=\"14\" lengthAdjust=\"spacing\" textLength=\"35\" x=\"50.5\" y=\"170.8467\">a1: A</text><line style=\"stroke:#181818;stroke-width:0.5;\" x1=\"22.5\" x2=\"95.5\" y1=\"182\" y2=\"182\"/></g></a><!--MD5=[1dd1bfd58a279cf63c5f349dbc8fc6a1]\n",
       "class E11--><a href=\"psysml:ea86bb80-7fc3-4478-bdc0-15728142c0fa\" target=\"_top\" title=\"psysml:ea86bb80-7fc3-4478-bdc0-15728142c0fa\" xlink:actuate=\"onRequest\" xlink:href=\"psysml:ea86bb80-7fc3-4478-bdc0-15728142c0fa\" xlink:show=\"new\" xlink:title=\"psysml:ea86bb80-7fc3-4478-bdc0-15728142c0fa\" xlink:type=\"simple\"><g id=\"elem_E11\"><rect fill=\"#F1F1F1\" height=\"40\" id=\"E11\" rx=\"10\" ry=\"10\" style=\"stroke:#181818;stroke-width:0.5;\" width=\"75\" x=\"131.5\" y=\"150\"/><ellipse cx=\"146.5\" cy=\"166\" fill=\"#32CD32\" rx=\"11\" ry=\"11\" style=\"stroke:#181818;stroke-width:1.0;\"/><path d=\"M143.3594,172.5 L143.3594,160.3594 L147.3906,160.3594 Q149.4844,160.3594 150.5,161.3438 Q151.5156,162.3125 151.5156,164.1406 Q151.5156,165.3438 151.0781,166.25 Q150.6563,167.1563 149.7031,167.6719 Q148.7656,168.1875 147.2344,168.1875 L145.7344,168.1875 L145.7344,172.5 L143.3594,172.5 Z M146.9844,166.0938 Q148.0313,166.0938 148.5469,165.6094 Q149.0781,165.125 149.0781,164.2344 Q149.0781,163.3438 148.6406,162.9063 Q148.2188,162.4531 147.2969,162.4531 L145.7344,162.4531 L145.7344,166.0938 L146.9844,166.0938 Z \" fill=\"#000000\"/><text fill=\"#000000\" font-family=\"sans-serif\" font-size=\"14\" lengthAdjust=\"spacing\" textLength=\"35\" x=\"160.5\" y=\"170.8467\">a2: A</text><line style=\"stroke:#181818;stroke-width:0.5;\" x1=\"132.5\" x2=\"205.5\" y1=\"182\" y2=\"182\"/></g></a><!--MD5=[2720a5a1f2c3fca2055b230370638851]\n",
       "link E2 to E3--><g id=\"link_E2_E3\"><a href=\"psysml:358bd963-d6cf-4c51-9d97-dc29b520688f\" target=\"_top\" title=\"psysml:358bd963-d6cf-4c51-9d97-dc29b520688f\" xlink:actuate=\"onRequest\" xlink:href=\"psysml:358bd963-d6cf-4c51-9d97-dc29b520688f\" xlink:show=\"new\" xlink:title=\"psysml:358bd963-d6cf-4c51-9d97-dc29b520688f\" xlink:type=\"simple\"><path d=\"M252.95,190.09 C238.99,203.37 220.02,221.43 203.65,237.02 \" fill=\"none\" id=\"E2-to-E3\" style=\"stroke:#181818;stroke-width:1.0;\"/><polygon fill=\"#FFFFFF\" points=\"188.99,250.97,197.9277,232.8009,207.5792,242.9424,188.99,250.97\" style=\"stroke:#181818;stroke-width:1.0;\"/><ellipse cx=\"203.4356\" cy=\"230.3202\" fill=\"#181818\" rx=\"2\" ry=\"2\" style=\"stroke:#181818;stroke-width:1.0;\"/><ellipse cx=\"210.3294\" cy=\"237.5641\" fill=\"#181818\" rx=\"2\" ry=\"2\" style=\"stroke:#181818;stroke-width:1.0;\"/></a></g><!--MD5=[4672eba38e49728da53d11aeb285b987]\n",
       "reverse link E3 to E4--><g id=\"link_E3_E4\"><a href=\"psysml:724ffe94-cfbf-4ea2-b315-6baf1a587f0c\" target=\"_top\" title=\"psysml:724ffe94-cfbf-4ea2-b315-6baf1a587f0c\" xlink:actuate=\"onRequest\" xlink:href=\"psysml:724ffe94-cfbf-4ea2-b315-6baf1a587f0c\" xlink:show=\"new\" xlink:title=\"psysml:724ffe94-cfbf-4ea2-b315-6baf1a587f0c\" xlink:type=\"simple\"><path d=\"M138.52,297.03 C123.14,311.43 105.74,330.84 96,352 C84.44,377.13 82.73,409.58 83.02,429.84 \" fill=\"none\" id=\"E3-backto-E4\" style=\"stroke:#181818;stroke-width:1.0;\"/><polygon fill=\"#181818\" points=\"148.22,288.32,141.0825,289.3478,139.2861,296.3315,146.4236,295.3038,148.22,288.32\" style=\"stroke:#181818;stroke-width:1.0;\"/></a></g><!--MD5=[191cde3d490a3f6d7bb551fe3ddca469]\n",
       "reverse link E3 to E5--><g id=\"link_E3_E5\"><a href=\"psysml:9c72d63b-be6b-487b-af19-53b3ed2c634b\" target=\"_top\" title=\"psysml:9c72d63b-be6b-487b-af19-53b3ed2c634b\" xlink:actuate=\"onRequest\" xlink:href=\"psysml:9c72d63b-be6b-487b-af19-53b3ed2c634b\" xlink:show=\"new\" xlink:title=\"psysml:9c72d63b-be6b-487b-af19-53b3ed2c634b\" xlink:type=\"simple\"><path d=\"M183.72,303.6 C190.96,319.13 199.53,337.52 206.16,351.75 \" fill=\"none\" id=\"E3-backto-E5\" style=\"stroke:#181818;stroke-width:1.0;\"/><polygon fill=\"none\" points=\"178.03,291.37,176.9459,298.4991,183.1097,302.2418,184.1938,295.1127,178.03,291.37\" style=\"stroke:#181818;stroke-width:1.0;\"/></a></g><!--MD5=[79568f1e445c3877b6a54524624ccc7d]\n",
       "link E4 to E6--><g id=\"link_E4_E6\"><a href=\"psysml:c1d845e5-90b4-4786-9172-2f85f48f902a\" target=\"_top\" title=\"psysml:c1d845e5-90b4-4786-9172-2f85f48f902a\" xlink:actuate=\"onRequest\" xlink:href=\"psysml:c1d845e5-90b4-4786-9172-2f85f48f902a\" xlink:show=\"new\" xlink:title=\"psysml:c1d845e5-90b4-4786-9172-2f85f48f902a\" xlink:type=\"simple\"><path d=\"M91.85,470.1 C104.19,500.15 128.39,559.04 144.37,597.96 \" fill=\"none\" id=\"E4-to-E6\" style=\"stroke:#181818;stroke-width:1.0;\"/><polygon fill=\"#FFFFFF\" points=\"152.08,616.73,138.3852,601.8152,151.335,596.4953,152.08,616.73\" style=\"stroke:#181818;stroke-width:1.0;\"/><ellipse cx=\"138.0692\" cy=\"595.7828\" fill=\"#181818\" rx=\"2\" ry=\"2\" style=\"stroke:#181818;stroke-width:1.0;\"/><ellipse cx=\"147.3191\" cy=\"591.9828\" fill=\"#181818\" rx=\"2\" ry=\"2\" style=\"stroke:#181818;stroke-width:1.0;\"/></a></g><!--MD5=[3f50a3473f1dfb74d3f76443e03635af]\n",
       "reverse link E6 to E7--><g id=\"link_E6_E7\"><a href=\"psysml:ee76f7ce-c996-4988-9b1a-5ac16ad8d066\" target=\"_top\" title=\"psysml:ee76f7ce-c996-4988-9b1a-5ac16ad8d066\" xlink:actuate=\"onRequest\" xlink:href=\"psysml:ee76f7ce-c996-4988-9b1a-5ac16ad8d066\" xlink:show=\"new\" xlink:title=\"psysml:ee76f7ce-c996-4988-9b1a-5ac16ad8d066\" xlink:type=\"simple\"><path d=\"M186.16,667.29 C200.45,683.28 217.89,702.81 231.23,717.75 \" fill=\"none\" id=\"E6-backto-E7\" style=\"stroke:#181818;stroke-width:1.0;\"/><polygon fill=\"#181818\" points=\"177.3,657.37,178.3109,664.5099,185.2904,666.3229,184.2795,659.183,177.3,657.37\" style=\"stroke:#181818;stroke-width:1.0;\"/></a></g><!--MD5=[14ccda38c055a5c0da953d572bc50960]\n",
       "link E7 to E3--><g id=\"link_E7_E3\"><a href=\"psysml:1cb41c8a-3888-4a6d-b592-33957295a7ee\" target=\"_top\" title=\"psysml:1cb41c8a-3888-4a6d-b592-33957295a7ee\" xlink:actuate=\"onRequest\" xlink:href=\"psysml:1cb41c8a-3888-4a6d-b592-33957295a7ee\" xlink:show=\"new\" xlink:title=\"psysml:1cb41c8a-3888-4a6d-b592-33957295a7ee\" xlink:type=\"simple\"><path d=\"M264.83,717.62 C274.82,697.23 287,666.52 287,638 C287,375 287,375 287,375 C287,332.26 242.53,303.18 208.19,287.1 \" fill=\"none\" id=\"E7-to-E3\" style=\"stroke:#181818;stroke-width:1.0;\"/><polygon fill=\"#FFFFFF\" points=\"189.55,279.12,209.7716,280.1629,204.2615,293.033,189.55,279.12\" style=\"stroke:#181818;stroke-width:1.0;\"/><ellipse cx=\"214.2244\" cy=\"284.2448\" fill=\"#181818\" rx=\"2\" ry=\"2\" style=\"stroke:#181818;stroke-width:1.0;\"/><ellipse cx=\"210.2887\" cy=\"293.4378\" fill=\"#181818\" rx=\"2\" ry=\"2\" style=\"stroke:#181818;stroke-width:1.0;\"/></a></g><!--MD5=[dfaffb906826c3e5aca635516100ff21]\n",
       "link E5 to E8--><g id=\"link_E5_E8\"><a href=\"psysml:b2862137-6a73-49a4-ad0f-48652eafb24c\" target=\"_top\" title=\"psysml:b2862137-6a73-49a4-ad0f-48652eafb24c\" xlink:actuate=\"onRequest\" xlink:href=\"psysml:b2862137-6a73-49a4-ad0f-48652eafb24c\" xlink:show=\"new\" xlink:title=\"psysml:b2862137-6a73-49a4-ad0f-48652eafb24c\" xlink:type=\"simple\"><path d=\"M207.72,400.13 C198.9,422.08 185.5,455.46 175.15,481.27 \" fill=\"none\" id=\"E5-to-E8\" style=\"stroke:#181818;stroke-width:1.0;\"/><polygon fill=\"#FFFFFF\" points=\"167.64,499.97,168.2159,479.7297,181.2097,484.9413,167.64,499.97\" style=\"stroke:#181818;stroke-width:1.0;\"/><ellipse cx=\"172.194\" cy=\"475.1839\" fill=\"#181818\" rx=\"2\" ry=\"2\" style=\"stroke:#181818;stroke-width:1.0;\"/><ellipse cx=\"181.4753\" cy=\"478.9064\" fill=\"#181818\" rx=\"2\" ry=\"2\" style=\"stroke:#181818;stroke-width:1.0;\"/></a></g><!--MD5=[03c8294790d3c57651a1993cecff665f]\n",
       "reverse link E8 to E3--><g id=\"link_E8_E3\"><a href=\"psysml:764dcc5f-c791-44bd-8fe4-0cc6162433fb\" target=\"_top\" title=\"psysml:764dcc5f-c791-44bd-8fe4-0cc6162433fb\" xlink:actuate=\"onRequest\" xlink:href=\"psysml:764dcc5f-c791-44bd-8fe4-0cc6162433fb\" xlink:show=\"new\" xlink:title=\"psysml:764dcc5f-c791-44bd-8fe4-0cc6162433fb\" xlink:type=\"simple\"><path d=\"M157.67,486.86 C155.63,453.19 153.51,398.81 157,352 C158.56,331.13 162.37,307.45 165.28,291.31 \" fill=\"none\" id=\"E8-backto-E3\" style=\"stroke:#181818;stroke-width:1.0;\"/><polygon fill=\"none\" points=\"158.52,499.93,162.1225,493.6833,157.7419,487.9553,154.1394,494.202,158.52,499.93\" style=\"stroke:#181818;stroke-width:1.0;\"/><text fill=\"#000000\" font-family=\"sans-serif\" font-size=\"13\" lengthAdjust=\"spacing\" textLength=\"7\" x=\"158\" y=\"380.5669\">y</text></a></g><!--MD5=[0d75d2178373a6a4568e5dc728f58aef]\n",
       "reverse link E8 to E6--><g id=\"link_E8_E6\"><a href=\"psysml:764dcc5f-c791-44bd-8fe4-0cc6162433fb\" target=\"_top\" title=\"psysml:764dcc5f-c791-44bd-8fe4-0cc6162433fb\" xlink:actuate=\"onRequest\" xlink:href=\"psysml:764dcc5f-c791-44bd-8fe4-0cc6162433fb\" xlink:show=\"new\" xlink:title=\"psysml:764dcc5f-c791-44bd-8fe4-0cc6162433fb\" xlink:type=\"simple\"><path d=\"M160,553.36 C160,573.76 160,599.42 160,616.69 \" fill=\"none\" id=\"E8-backto-E6\" style=\"stroke:#181818;stroke-width:1.0;\"/><polygon fill=\"none\" points=\"160,540.25,156,546.25,160,552.25,164,546.25,160,540.25\" style=\"stroke:#181818;stroke-width:1.0;\"/><text fill=\"#000000\" font-family=\"sans-serif\" font-size=\"13\" lengthAdjust=\"spacing\" textLength=\"7\" x=\"161\" y=\"583.0669\">y</text></a></g><!--MD5=[23ac544a70576c3e717098101004234c]\n",
       "reverse link E9 to E10--><g id=\"link_E9_E10\"><a href=\"psysml:1f369bef-866d-4201-85d0-19625ffb0bd4\" target=\"_top\" title=\"psysml:1f369bef-866d-4201-85d0-19625ffb0bd4\" xlink:actuate=\"onRequest\" xlink:href=\"psysml:1f369bef-866d-4201-85d0-19625ffb0bd4\" xlink:show=\"new\" xlink:title=\"psysml:1f369bef-866d-4201-85d0-19625ffb0bd4\" xlink:type=\"simple\"><path d=\"M98.9,100.5 C89.34,116.92 78.26,135.94 70.21,149.76 \" fill=\"none\" id=\"E9-backto-E10\" style=\"stroke:#181818;stroke-width:1.0;\"/><polygon fill=\"none\" points=\"105.53,89.12,99.0532,92.2903,99.4885,99.4882,105.9653,96.318,105.53,89.12\" style=\"stroke:#181818;stroke-width:1.0;\"/></a></g><!--MD5=[feeac5eb423634930294aa81f2d25a4c]\n",
       "link E10 to E3--><g id=\"link_E10_E3\"><a href=\"psysml:0dc69dec-387f-4606-9efc-6b8567a081cf\" target=\"_top\" title=\"psysml:0dc69dec-387f-4606-9efc-6b8567a081cf\" xlink:actuate=\"onRequest\" xlink:href=\"psysml:0dc69dec-387f-4606-9efc-6b8567a081cf\" xlink:show=\"new\" xlink:title=\"psysml:0dc69dec-387f-4606-9efc-6b8567a081cf\" xlink:type=\"simple\"><path d=\"M80.21,190.09 C95.22,203.6 115.71,222.04 133.22,237.8 \" fill=\"none\" id=\"E10-to-E3\" style=\"stroke:#181818;stroke-width:1.0;\"/><polygon fill=\"#FFFFFF\" points=\"148.23,251.31,129.4251,243.8017,138.7911,233.3961,148.23,251.31\" style=\"stroke:#181818;stroke-width:1.0;\"/><ellipse cx=\"126.5265\" cy=\"238.5019\" fill=\"#181818\" rx=\"2\" ry=\"2\" style=\"stroke:#181818;stroke-width:1.0;\"/><ellipse cx=\"133.2165\" cy=\"231.0693\" fill=\"#181818\" rx=\"2\" ry=\"2\" style=\"stroke:#181818;stroke-width:1.0;\"/></a></g><!--MD5=[1fc04a95fd77ad5ce46c1a3027516051]\n",
       "reverse link E9 to E11--><g id=\"link_E9_E11\"><a href=\"psysml:41147f3b-680c-4b19-9ea9-1ad0d7284d0b\" target=\"_top\" title=\"psysml:41147f3b-680c-4b19-9ea9-1ad0d7284d0b\" xlink:actuate=\"onRequest\" xlink:href=\"psysml:41147f3b-680c-4b19-9ea9-1ad0d7284d0b\" xlink:show=\"new\" xlink:title=\"psysml:41147f3b-680c-4b19-9ea9-1ad0d7284d0b\" xlink:type=\"simple\"><path d=\"M135.98,100.98 C143.9,117.29 153.01,136.07 159.66,149.76 \" fill=\"none\" id=\"E9-backto-E11\" style=\"stroke:#181818;stroke-width:1.0;\"/><polygon fill=\"none\" points=\"130.22,89.12,129.2448,96.2649,135.465,99.9131,136.4402,92.7682,130.22,89.12\" style=\"stroke:#181818;stroke-width:1.0;\"/></a></g><!--MD5=[0517f1ce58c4d5483948f93845c45e26]\n",
       "link E11 to E3--><g id=\"link_E11_E3\"><a href=\"psysml:86cba12c-5c0b-4cb2-8a0f-652783ee7e3b\" target=\"_top\" title=\"psysml:86cba12c-5c0b-4cb2-8a0f-652783ee7e3b\" xlink:actuate=\"onRequest\" xlink:href=\"psysml:86cba12c-5c0b-4cb2-8a0f-652783ee7e3b\" xlink:show=\"new\" xlink:title=\"psysml:86cba12c-5c0b-4cb2-8a0f-652783ee7e3b\" xlink:type=\"simple\"><path d=\"M169,190.09 C169,201.59 169,216.68 169,230.63 \" fill=\"none\" id=\"E11-to-E3\" style=\"stroke:#181818;stroke-width:1.0;\"/><polygon fill=\"#FFFFFF\" points=\"169,250.97,162,231.97,176,231.97,169,250.97\" style=\"stroke:#181818;stroke-width:1.0;\"/><ellipse cx=\"164\" cy=\"226.27\" fill=\"#181818\" rx=\"2\" ry=\"2\" style=\"stroke:#181818;stroke-width:1.0;\"/><ellipse cx=\"174\" cy=\"226.27\" fill=\"#181818\" rx=\"2\" ry=\"2\" style=\"stroke:#181818;stroke-width:1.0;\"/></a></g><!--MD5=[2fa25d01ce65301293a8a616737c1152]\n",
       "@startuml\r\n",
       " \r\n",
       "package \"ItemTest\" as E1  [[psysml:b50080a1-e82f-4c80-9a3f-5d66ab4e7e23 ]]  {\r\n",
       "comp usage \"f: A  \" as E2  << << (P,limegreen) >> [[psysml:4d36820e-7c5e-46bd-9de5-e346cea54837 ]] {\r\n",
       "}\r\n",
       "comp def \"A\" as E3  << << (B,green) >> [[psysml:90a9c46f-1bc9-4470-bf4e-8ae555dfcfc9 ]] {\r\n",
       "}\r\n",
       "comp usage \"b: B  \" as E4  << << (P,limegreen) >> [[psysml:d394e1d7-ba50-4340-ad50-ece704d14a42 ]] {\r\n",
       "}\r\n",
       "comp usage \"c: C  \" as E5  << << (P,limegreen) part>> [[psysml:af047218-2074-4cd5-be73-a9bc4fd53c73 ]] {\r\n",
       "}\r\n",
       "comp def \"<i>B</i>\" as E6  << << (B,green) >> [[psysml:24ac0b44-19f7-4e7e-9d8c-29217623109a ]] {\r\n",
       "}\r\n",
       "comp usage \"<i>a</i>: A  \" as E7  << << (P,limegreen) part>> [[psysml:f97762a5-be4a-40f0-b15f-ded6f9a0a2bf ]] {\r\n",
       "}\r\n",
       "comp def \"C\" as E8  << << (B,green) >> [[psysml:2119f9fa-e703-4679-adcc-c9e3fda7136e ]] {\r\n",
       "}\r\n",
       "comp def \"P\" as E9  << <<(D,brown) port  def>> [[psysml:f9be0f9f-7828-47af-b676-a3098923450b ]] {\r\n",
       "}\r\n",
       "comp usage \"a1: A  \" as E10  << << (P,limegreen) >> [[psysml:bdd21edf-ffb1-47e0-8301-b129ba721304 ]] {\r\n",
       "}\r\n",
       "comp usage \"a2: A  \" as E11  << << (P,limegreen) >> [[psysml:ea86bb80-7fc3-4478-bdc0-15728142c0fa ]] {\r\n",
       "}\r\n",
       "}\r\n",
       "E2 - -:|> E3 [[psysml:358bd963-d6cf-4c51-9d97-dc29b520688f ]] \r\n",
       "E3 *- - E4 [[psysml:724ffe94-cfbf-4ea2-b315-6baf1a587f0c ]] \r\n",
       "E3 o- - E5 [[psysml:9c72d63b-be6b-487b-af19-53b3ed2c634b ]] \r\n",
       "E4 - -:|> E6 [[psysml:c1d845e5-90b4-4786-9172-2f85f48f902a ]] \r\n",
       "E6 *- - E7 [[psysml:ee76f7ce-c996-4988-9b1a-5ac16ad8d066 ]] \r\n",
       "E7 - -:|> E3 [[psysml:1cb41c8a-3888-4a6d-b592-33957295a7ee ]] \r\n",
       "E5 - -:|> E8 [[psysml:b2862137-6a73-49a4-ad0f-48652eafb24c ]] \r\n",
       "E8 o- - E3 [[psysml:764dcc5f-c791-44bd-8fe4-0cc6162433fb ]] : y\r\n",
       "E8 o- - E6 [[psysml:764dcc5f-c791-44bd-8fe4-0cc6162433fb ]] : y\r\n",
       "E9 o- - E10 [[psysml:1f369bef-866d-4201-85d0-19625ffb0bd4 ]] \r\n",
       "E10 - -:|> E3 [[psysml:0dc69dec-387f-4606-9efc-6b8567a081cf ]] \r\n",
       "E9 o- - E11 [[psysml:41147f3b-680c-4b19-9ea9-1ad0d7284d0b ]] \r\n",
       "E11 - -:|> E3 [[psysml:86cba12c-5c0b-4cb2-8a0f-652783ee7e3b ]] \r\n",
       "@enduml\r\n",
       "\n",
       "PlantUML version 1.2022.7(Mon Aug 22 17:01:30 UTC 2022)\n",
       "(EPL source distribution)\n",
       "Java Runtime: OpenJDK Runtime Environment\n",
       "JVM: OpenJDK 64-Bit Server VM\n",
       "Default Encoding: UTF-8\n",
       "Language: en\n",
       "Country: null\n",
       "--></g></svg>"
      ]
     },
     "execution_count": 31,
     "metadata": {},
     "output_type": "execute_result"
    }
   ],
   "source": [
    "%viz --style=\"PLANTUML\" --view=\"Tree\" \"ItemTest\""
   ]
  },
  {
   "cell_type": "code",
   "execution_count": 32,
   "id": "701c8c4e",
   "metadata": {
    "execution": {
     "iopub.execute_input": "2024-12-16T03:22:55.257977Z",
     "iopub.status.busy": "2024-12-16T03:22:55.257787Z",
     "iopub.status.idle": "2024-12-16T03:22:55.312355Z",
     "shell.execute_reply": "2024-12-16T03:22:55.312095Z"
    }
   },
   "outputs": [
    {
     "data": {
      "image/svg+xml": [
       "<?xml version=\"1.0\" encoding=\"UTF-8\" standalone=\"no\"?><svg xmlns=\"http://www.w3.org/2000/svg\" xmlns:xlink=\"http://www.w3.org/1999/xlink\" contentStyleType=\"text/css\" height=\"389px\" preserveAspectRatio=\"none\" style=\"width:603px;height:389px;background:#000000;\" version=\"1.1\" viewBox=\"0 0 603 389\" width=\"603px\" zoomAndPan=\"magnify\"><defs/><g><rect fill=\"#0F1915\" height=\"1\" style=\"stroke:#0F1915;stroke-width:1.0;\" width=\"1\" x=\"0\" y=\"0\"/><rect fill=\"#FFFFFF\" height=\"226.6573\" style=\"stroke:#FFFFFF;stroke-width:1.0;\" width=\"602\" x=\"0\" y=\"0\"/><text fill=\"#000000\" font-family=\"sans-serif\" font-size=\"12\" font-weight=\"bold\" lengthAdjust=\"spacing\" textLength=\"145.75\" x=\"5\" y=\"16.1387\">Welcome to PlantUML!</text><text fill=\"#000000\" font-family=\"sans-serif\" font-size=\"12\" lengthAdjust=\"spacing\" textLength=\"4\" x=\"5\" y=\"30.1074\"> </text><text fill=\"#000000\" font-family=\"sans-serif\" font-size=\"12\" lengthAdjust=\"spacing\" textLength=\"283\" x=\"5\" y=\"44.0762\">You can start with a simple UML Diagram like:</text><text fill=\"#000000\" font-family=\"sans-serif\" font-size=\"12\" lengthAdjust=\"spacing\" textLength=\"4\" x=\"5\" y=\"58.0449\"> </text><text fill=\"#000000\" font-family=\"monospace\" font-size=\"12\" lengthAdjust=\"spacing\" textLength=\"119\" x=\"5\" y=\"73.7031\">Bob-&gt;Alice: Hello</text><text fill=\"#000000\" font-family=\"sans-serif\" font-size=\"12\" lengthAdjust=\"spacing\" textLength=\"4\" x=\"5\" y=\"88.3578\"> </text><text fill=\"#000000\" font-family=\"sans-serif\" font-size=\"12\" lengthAdjust=\"spacing\" textLength=\"14\" x=\"5\" y=\"102.3265\">Or</text><text fill=\"#000000\" font-family=\"sans-serif\" font-size=\"12\" lengthAdjust=\"spacing\" textLength=\"4\" x=\"5\" y=\"116.2953\"> </text><text fill=\"#000000\" font-family=\"monospace\" font-size=\"12\" lengthAdjust=\"spacing\" textLength=\"91\" x=\"5\" y=\"131.9535\">class Example</text><text fill=\"#000000\" font-family=\"sans-serif\" font-size=\"12\" lengthAdjust=\"spacing\" textLength=\"4\" x=\"5\" y=\"146.6082\"> </text><text fill=\"#000000\" font-family=\"sans-serif\" font-size=\"12\" lengthAdjust=\"spacing\" textLength=\"349\" x=\"5\" y=\"160.5769\">You will find more information about PlantUML syntax on</text><text fill=\"#000000\" font-family=\"sans-serif\" font-size=\"12\" lengthAdjust=\"spacing\" text-decoration=\"underline\" textLength=\"129\" x=\"358\" y=\"160.5769\">https://plantuml.com</text><text fill=\"#000000\" font-family=\"sans-serif\" font-size=\"12\" lengthAdjust=\"spacing\" textLength=\"4\" x=\"5\" y=\"174.5457\"> </text><text fill=\"#000000\" font-family=\"sans-serif\" font-size=\"12\" lengthAdjust=\"spacing\" textLength=\"299\" x=\"5\" y=\"188.5144\">(If you use this software, you accept its license)</text><text fill=\"#000000\" font-family=\"sans-serif\" font-size=\"12\" lengthAdjust=\"spacing\" textLength=\"108\" x=\"5\" y=\"204.8585\">(Details by typing</text><text fill=\"#000000\" font-family=\"monospace\" font-size=\"12\" lengthAdjust=\"spacing\" textLength=\"49\" x=\"117\" y=\"204.1726\">license</text><text fill=\"#000000\" font-family=\"sans-serif\" font-size=\"12\" lengthAdjust=\"spacing\" textLength=\"56\" x=\"170\" y=\"204.8585\">keyword)</text><text fill=\"#000000\" font-family=\"sans-serif\" font-size=\"12\" lengthAdjust=\"spacing\" textLength=\"4\" x=\"5\" y=\"218.8273\"> </text><image height=\"71\" width=\"80\" x=\"516\" xlink:href=\"data:image/png;base64,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\" y=\"6\"/><rect fill=\"#000000\" height=\"160.3594\" style=\"stroke:#000000;stroke-width:1.0;\" width=\"602\" x=\"0\" y=\"226.6573\"/><text fill=\"#33FF02\" font-family=\"sans-serif\" font-size=\"12\" font-style=\"italic\" font-weight=\"bold\" lengthAdjust=\"spacing\" textLength=\"123\" x=\"5\" y=\"243.6573\">PlantUML 1.2022.7</text><text fill=\"#33FF02\" font-family=\"sans-serif\" font-size=\"12\" font-style=\"italic\" font-weight=\"bold\" lengthAdjust=\"spacing\" textLength=\"4\" x=\"5\" y=\"257.6261\"> </text><text fill=\"#33FF02\" font-family=\"sans-serif\" font-size=\"12\" font-style=\"italic\" font-weight=\"bold\" lengthAdjust=\"spacing\" textLength=\"390\" x=\"5\" y=\"271.5948\">&lt;b&gt;This version of PlantUML is 846 days old, so you should</text><text fill=\"#33FF02\" font-family=\"sans-serif\" font-size=\"12\" font-style=\"italic\" font-weight=\"bold\" lengthAdjust=\"spacing\" textLength=\"398.875\" x=\"5\" y=\"285.5636\">&lt;b&gt;consider upgrading from https://plantuml.com/download</text><rect fill=\"#33FF02\" height=\"21.2969\" style=\"stroke:#33FF02;stroke-width:1.0;\" width=\"153.3125\" x=\"5\" y=\"295.5323\"/><text fill=\"#000000\" font-family=\"sans-serif\" font-size=\"14\" font-weight=\"bold\" lengthAdjust=\"spacing\" textLength=\"151.3125\" x=\"6\" y=\"310.5323\">[From string (line 2) ]</text><text fill=\"#33FF02\" font-family=\"sans-serif\" font-size=\"14\" font-weight=\"bold\" lengthAdjust=\"spacing\" textLength=\"4\" x=\"5\" y=\"330.8292\"> </text><text fill=\"#33FF02\" font-family=\"sans-serif\" font-size=\"14\" font-weight=\"bold\" lengthAdjust=\"spacing\" textLength=\"73.9375\" x=\"5\" y=\"347.1261\">@startuml</text><text fill=\"#33FF02\" font-family=\"sans-serif\" font-size=\"14\" font-weight=\"bold\" lengthAdjust=\"spacing\" text-decoration=\"wavy underline\" textLength=\"4\" x=\"5\" y=\"363.423\"> </text><text fill=\"#FF0000\" font-family=\"sans-serif\" font-size=\"14\" font-weight=\"bold\" lengthAdjust=\"spacing\" textLength=\"131\" x=\"9\" y=\"379.7198\">Empty description</text><!--MD5=[5b6570bdd48fecdb4121f0162c378f28]\n",
       "@startuml\r\n",
       " \r\n",
       "@enduml\r\n",
       "\n",
       "PlantUML version 1.2022.7(Mon Aug 22 17:01:30 UTC 2022)\n",
       "(EPL source distribution)\n",
       "Java Runtime: OpenJDK Runtime Environment\n",
       "JVM: OpenJDK 64-Bit Server VM\n",
       "Default Encoding: UTF-8\n",
       "Language: en\n",
       "Country: null\n",
       "--></g></svg>"
      ]
     },
     "execution_count": 32,
     "metadata": {},
     "output_type": "execute_result"
    }
   ],
   "source": [
    "%viz --style=\"PLANTUML\" --view=\"State\" \"ItemTest\""
   ]
  },
  {
   "cell_type": "code",
   "execution_count": 33,
   "id": "0c69d1a5",
   "metadata": {
    "execution": {
     "iopub.execute_input": "2024-12-16T03:22:55.367677Z",
     "iopub.status.busy": "2024-12-16T03:22:55.367459Z",
     "iopub.status.idle": "2024-12-16T03:22:55.385346Z",
     "shell.execute_reply": "2024-12-16T03:22:55.384570Z"
    }
   },
   "outputs": [
    {
     "data": {
      "image/svg+xml": [
       "<?xml version=\"1.0\" encoding=\"UTF-8\" standalone=\"no\"?><svg xmlns=\"http://www.w3.org/2000/svg\" xmlns:xlink=\"http://www.w3.org/1999/xlink\" contentStyleType=\"text/css\" height=\"224px\" preserveAspectRatio=\"none\" style=\"width:493px;height:224px;background:#FFFFFF;\" version=\"1.1\" viewBox=\"0 0 493 224\" width=\"493px\" zoomAndPan=\"magnify\"><defs/><g><!--MD5=[fbc87193dbaf4d95561dea2c320d4a47]\n",
       "cluster E1--><g id=\"cluster_E1\"><a href=\"psysml:b50080a1-e82f-4c80-9a3f-5d66ab4e7e23\" target=\"_top\" title=\"psysml:b50080a1-e82f-4c80-9a3f-5d66ab4e7e23\" xlink:actuate=\"onRequest\" xlink:href=\"psysml:b50080a1-e82f-4c80-9a3f-5d66ab4e7e23\" xlink:show=\"new\" xlink:title=\"psysml:b50080a1-e82f-4c80-9a3f-5d66ab4e7e23\" xlink:type=\"simple\"><path d=\"M8.5,6 L74,6 A3.75,3.75 0 0 1 76.5,8.5 L83.5,28.2969 L483.5,28.2969 A2.5,2.5 0 0 1 486,30.7969 L486,214.5 A2.5,2.5 0 0 1 483.5,217 L8.5,217 A2.5,2.5 0 0 1 6,214.5 L6,8.5 A2.5,2.5 0 0 1 8.5,6 \" fill=\"none\" style=\"stroke:#000000;stroke-width:1.5;\"/><line style=\"stroke:#000000;stroke-width:1.5;\" x1=\"6\" x2=\"83.5\" y1=\"28.2969\" y2=\"28.2969\"/><text fill=\"#000000\" font-family=\"sans-serif\" font-size=\"14\" font-weight=\"bold\" lengthAdjust=\"spacing\" textLength=\"64.5\" x=\"10\" y=\"20.9951\">ItemTest</text></a></g><!--MD5=[de5ec2e2e8f62f467e546659f5068c88]\n",
       "cluster E5--><g id=\"cluster_E5\"><a href=\"psysml:2119f9fa-e703-4679-adcc-c9e3fda7136e\" target=\"_top\" title=\"psysml:2119f9fa-e703-4679-adcc-c9e3fda7136e\" xlink:actuate=\"onRequest\" xlink:href=\"psysml:2119f9fa-e703-4679-adcc-c9e3fda7136e\" xlink:show=\"new\" xlink:title=\"psysml:2119f9fa-e703-4679-adcc-c9e3fda7136e\" xlink:type=\"simple\"><rect fill=\"#FFFFFF\" height=\"96\" id=\"E5\" style=\"stroke:#A80036;stroke-width:1.5;\" width=\"140\" x=\"322\" y=\"49\"/><rect fill=\"#F1F1F1\" height=\"26.2969\" style=\"stroke:#A80036;stroke-width:1.5;\" width=\"140\" x=\"322\" y=\"49\"/><text fill=\"#000000\" font-family=\"sans-serif\" font-size=\"14\" lengthAdjust=\"spacing\" textLength=\"10\" x=\"387\" y=\"66.9951\">C</text></a></g><g><a href=\"psysml:90a9c46f-1bc9-4470-bf4e-8ae555dfcfc9\" target=\"_top\" title=\"psysml:90a9c46f-1bc9-4470-bf4e-8ae555dfcfc9\" xlink:actuate=\"onRequest\" xlink:href=\"psysml:90a9c46f-1bc9-4470-bf4e-8ae555dfcfc9\" xlink:show=\"new\" xlink:title=\"psysml:90a9c46f-1bc9-4470-bf4e-8ae555dfcfc9\" xlink:type=\"simple\"><rect fill=\"#F1F1F1\" height=\"40\" id=\"E3\" style=\"stroke:#A80036;stroke-width:1.5;\" width=\"50\" x=\"27\" y=\"161\"/><ellipse cx=\"46.05\" cy=\"177\" fill=\"#008000\" rx=\"11\" ry=\"11\" style=\"stroke:#181818;stroke-width:1.0;\"/><path d=\"M42.9094,183.5 L42.9094,171.3594 L46.7063,171.3594 Q48.7063,171.3594 49.7531,172.0625 Q50.8156,172.7656 50.8156,174.3438 Q50.8156,175.4375 50.3156,176.1563 Q49.8313,176.875 49.0031,177.0625 L49.0031,177.1406 Q49.925,177.3594 50.4875,178.0313 Q51.0656,178.6875 51.0656,179.9531 Q51.0656,181.6094 50.0188,182.5625 Q48.9719,183.5 47.1125,183.5 L42.9094,183.5 Z M46.6906,176.1406 Q47.5813,176.1406 47.9406,175.8125 Q48.3156,175.4688 48.3156,174.7656 Q48.3156,174.0313 47.925,173.7188 Q47.5344,173.3906 46.5969,173.3906 L45.2063,173.3906 L45.2063,176.1406 L46.6906,176.1406 Z M46.8781,181.4844 Q47.7844,181.4844 48.1438,181.0469 Q48.5031,180.5938 48.5031,179.8125 Q48.5031,179.0313 48.1281,178.6406 Q47.7688,178.2344 46.7844,178.2344 L45.2063,178.2344 L45.2063,181.4844 L46.8781,181.4844 Z \" fill=\"#000000\"/><text fill=\"#000000\" font-family=\"sans-serif\" font-size=\"14\" lengthAdjust=\"spacing\" textLength=\"9\" x=\"60.95\" y=\"181.8467\">A</text></a></g><g><a href=\"psysml:24ac0b44-19f7-4e7e-9d8c-29217623109a\" target=\"_top\" title=\"psysml:24ac0b44-19f7-4e7e-9d8c-29217623109a\" xlink:actuate=\"onRequest\" xlink:href=\"psysml:24ac0b44-19f7-4e7e-9d8c-29217623109a\" xlink:show=\"new\" xlink:title=\"psysml:24ac0b44-19f7-4e7e-9d8c-29217623109a\" xlink:type=\"simple\"><rect fill=\"#F1F1F1\" height=\"40\" id=\"E4\" style=\"stroke:#A80036;stroke-width:1.5;\" width=\"50\" x=\"253\" y=\"86.5\"/><ellipse cx=\"271.6\" cy=\"102.5\" fill=\"#008000\" rx=\"11\" ry=\"11\" style=\"stroke:#181818;stroke-width:1.0;\"/><path d=\"M268.4594,109 L268.4594,96.8594 L272.2563,96.8594 Q274.2563,96.8594 275.3031,97.5625 Q276.3656,98.2656 276.3656,99.8438 Q276.3656,100.9375 275.8656,101.6563 Q275.3813,102.375 274.5531,102.5625 L274.5531,102.6406 Q275.475,102.8594 276.0375,103.5313 Q276.6156,104.1875 276.6156,105.4531 Q276.6156,107.1094 275.5688,108.0625 Q274.5219,109 272.6625,109 L268.4594,109 Z M272.2406,101.6406 Q273.1313,101.6406 273.4906,101.3125 Q273.8656,100.9688 273.8656,100.2656 Q273.8656,99.5313 273.475,99.2188 Q273.0844,98.8906 272.1469,98.8906 L270.7563,98.8906 L270.7563,101.6406 L272.2406,101.6406 Z M272.4281,106.9844 Q273.3344,106.9844 273.6938,106.5469 Q274.0531,106.0938 274.0531,105.3125 Q274.0531,104.5313 273.6781,104.1406 Q273.3188,103.7344 272.3344,103.7344 L270.7563,103.7344 L270.7563,106.9844 L272.4281,106.9844 Z \" fill=\"#000000\"/><text fill=\"#000000\" font-family=\"sans-serif\" font-size=\"14\" font-style=\"italic\" lengthAdjust=\"spacing\" textLength=\"10\" x=\"286.4\" y=\"107.3467\">B</text></a></g><g><a href=\"psysml:f9be0f9f-7828-47af-b676-a3098923450b\" target=\"_top\" title=\"psysml:f9be0f9f-7828-47af-b676-a3098923450b\" xlink:actuate=\"onRequest\" xlink:href=\"psysml:f9be0f9f-7828-47af-b676-a3098923450b\" xlink:show=\"new\" xlink:title=\"psysml:f9be0f9f-7828-47af-b676-a3098923450b\" xlink:type=\"simple\"><rect fill=\"#F1F1F1\" height=\"45.2656\" id=\"E7\" style=\"stroke:#A80036;stroke-width:1.5;\" width=\"101\" x=\"116.5\" y=\"84\"/><ellipse cx=\"133.75\" cy=\"104.1328\" fill=\"#A52A2A\" rx=\"11\" ry=\"11\" style=\"stroke:#181818;stroke-width:1.0;\"/><path d=\"M130.5156,110.6328 L130.5156,98.4922 L134.2656,98.4922 Q136.6406,98.4922 138.0313,100.0078 Q139.4375,101.5078 139.4375,104.4609 Q139.4375,107.4297 138,109.0391 Q136.5625,110.6328 134.0781,110.6328 L130.5156,110.6328 Z M133.9531,108.5391 Q135.5,108.5391 136.2188,107.5391 Q136.9375,106.5391 136.9375,104.4766 Q136.9375,102.4453 136.2344,101.5234 Q135.5469,100.5859 134.1563,100.5859 L132.9531,100.5859 L132.9531,108.5391 L133.9531,108.5391 Z \" fill=\"#000000\"/><text fill=\"#000000\" font-family=\"sans-serif\" font-size=\"12\" font-style=\"italic\" lengthAdjust=\"spacing\" textLength=\"68\" x=\"146.25\" y=\"100.1387\">«port  def»</text><text fill=\"#000000\" font-family=\"sans-serif\" font-size=\"14\" lengthAdjust=\"spacing\" textLength=\"9\" x=\"175.75\" y=\"115.9639\">P</text></a></g><g><a href=\"psysml:4d36820e-7c5e-46bd-9de5-e346cea54837\" target=\"_top\" title=\"psysml:4d36820e-7c5e-46bd-9de5-e346cea54837\" xlink:actuate=\"onRequest\" xlink:href=\"psysml:4d36820e-7c5e-46bd-9de5-e346cea54837\" xlink:show=\"new\" xlink:title=\"psysml:4d36820e-7c5e-46bd-9de5-e346cea54837\" xlink:type=\"simple\"><rect fill=\"#F1F1F1\" height=\"40\" id=\"E2\" rx=\"10\" ry=\"10\" style=\"stroke:#A80036;stroke-width:1.5;\" width=\"59\" x=\"22.5\" y=\"86.5\"/><ellipse cx=\"39.75\" cy=\"102.5\" fill=\"#32CD32\" rx=\"11\" ry=\"11\" style=\"stroke:#181818;stroke-width:1.0;\"/><path d=\"M36.6094,109 L36.6094,96.8594 L40.6406,96.8594 Q42.7344,96.8594 43.75,97.8438 Q44.7656,98.8125 44.7656,100.6406 Q44.7656,101.8438 44.3281,102.75 Q43.9063,103.6563 42.9531,104.1719 Q42.0156,104.6875 40.4844,104.6875 L38.9844,104.6875 L38.9844,109 L36.6094,109 Z M40.2344,102.5938 Q41.2813,102.5938 41.7969,102.1094 Q42.3281,101.625 42.3281,100.7344 Q42.3281,99.8438 41.8906,99.4063 Q41.4688,98.9531 40.5469,98.9531 L38.9844,98.9531 L38.9844,102.5938 L40.2344,102.5938 Z \" fill=\"#000000\"/><text fill=\"#000000\" font-family=\"sans-serif\" font-size=\"14\" lengthAdjust=\"spacing\" textLength=\"22\" x=\"54.25\" y=\"107.3467\">f: A</text></a></g><g><a href=\"psysml:764dcc5f-c791-44bd-8fe4-0cc6162433fb\" target=\"_top\" title=\"psysml:764dcc5f-c791-44bd-8fe4-0cc6162433fb\" xlink:actuate=\"onRequest\" xlink:href=\"psysml:764dcc5f-c791-44bd-8fe4-0cc6162433fb\" xlink:show=\"new\" xlink:title=\"psysml:764dcc5f-c791-44bd-8fe4-0cc6162433fb\" xlink:type=\"simple\"><rect fill=\"#F1F1F1\" height=\"45.2656\" id=\"E6\" rx=\"10\" ry=\"10\" style=\"stroke:#A80036;stroke-width:1.5;\" width=\"108\" x=\"338\" y=\"84\"/><ellipse cx=\"355.25\" cy=\"104.1328\" fill=\"#FFA500\" rx=\"11\" ry=\"11\" style=\"stroke:#181818;stroke-width:1.0;\"/><path d=\"M355.3125,111.3047 Q353.2031,111.3047 352.1094,110.1797 Q351.0156,109.0547 351.0156,107.0078 L351.0156,98.9922 L353.4844,98.9922 L353.4844,106.5703 Q353.4844,108.0078 353.9375,108.6016 Q354.3906,109.1797 355.3438,109.1797 Q356.3594,109.1797 356.7813,108.5703 Q357.2188,107.9609 357.2188,106.5547 L357.2188,98.9922 L359.6875,98.9922 L359.6875,106.9922 Q359.6875,108.9766 358.5938,110.1484 Q357.5156,111.3047 355.3125,111.3047 Z \" fill=\"#000000\"/><text fill=\"#000000\" font-family=\"sans-serif\" font-size=\"12\" font-style=\"italic\" lengthAdjust=\"spacing\" textLength=\"75\" x=\"367.75\" y=\"100.1387\">«reference»</text><text fill=\"#000000\" font-family=\"sans-serif\" font-size=\"14\" lengthAdjust=\"spacing\" textLength=\"43\" x=\"379.75\" y=\"115.9639\">y: A, B</text></a></g><!--MD5=[2720a5a1f2c3fca2055b230370638851]\n",
       "link E2 to E3--><g id=\"link_E2_E3\"><a href=\"psysml:358bd963-d6cf-4c51-9d97-dc29b520688f\" target=\"_top\" title=\"psysml:358bd963-d6cf-4c51-9d97-dc29b520688f\" xlink:actuate=\"onRequest\" xlink:href=\"psysml:358bd963-d6cf-4c51-9d97-dc29b520688f\" xlink:show=\"new\" xlink:title=\"psysml:358bd963-d6cf-4c51-9d97-dc29b520688f\" xlink:type=\"simple\"><path d=\"M52,126.55 C52,130.93 52,135.74 52,140.63 \" fill=\"none\" id=\"E2-to-E3\" style=\"stroke:#181818;stroke-width:1.0;\"/><polygon fill=\"#FFFFFF\" points=\"52,160.83,45,141.83,59,141.83,52,160.83\" style=\"stroke:#181818;stroke-width:1.0;\"/><ellipse cx=\"47\" cy=\"136.13\" fill=\"#181818\" rx=\"2\" ry=\"2\" style=\"stroke:#181818;stroke-width:1.0;\"/><ellipse cx=\"57\" cy=\"136.13\" fill=\"#181818\" rx=\"2\" ry=\"2\" style=\"stroke:#181818;stroke-width:1.0;\"/></a></g><!--MD5=[5d020a2638f7cab7eea861126a8cb0b0]\n",
       "@startuml\r\n",
       " skinparam ranksep 10\r\n",
       "skinparam rectangle {\r\n",
       " backgroundColor<<block>> LightGreen\r\n",
       "}\r\n",
       "\r\n",
       "package \"ItemTest\" as E1  [[psysml:b50080a1-e82f-4c80-9a3f-5d66ab4e7e23 ]]  {\r\n",
       "rec usage \"f: A\" as E2  << << (P,limegreen) >> [[psysml:4d36820e-7c5e-46bd-9de5-e346cea54837 ]] {\r\n",
       "}\r\n",
       "def \"A\" as E3  << << (B,green) >> [[psysml:90a9c46f-1bc9-4470-bf4e-8ae555dfcfc9 ]] \r\n",
       "def \"<i>B</i>\" as E4  << << (B,green) >> [[psysml:24ac0b44-19f7-4e7e-9d8c-29217623109a ]] \r\n",
       "rec def \"C\" as E5  << << (B,green) >> [[psysml:2119f9fa-e703-4679-adcc-c9e3fda7136e ]] {\r\n",
       "rec usage \"y: A, B  \" as E6  << <<(U,orange) reference>> [[psysml:764dcc5f-c791-44bd-8fe4-0cc6162433fb ]] {\r\n",
       "}\r\n",
       "\r\n",
       "}\r\n",
       "def \"P\" as E7  << <<(D,brown) port  def>> [[psysml:f9be0f9f-7828-47af-b676-a3098923450b ]] \r\n",
       "}\r\n",
       "E2 - -:|> E3 [[psysml:358bd963-d6cf-4c51-9d97-dc29b520688f ]] \r\n",
       "@enduml\r\n",
       "\n",
       "PlantUML version 1.2022.7(Mon Aug 22 17:01:30 UTC 2022)\n",
       "(EPL source distribution)\n",
       "Java Runtime: OpenJDK Runtime Environment\n",
       "JVM: OpenJDK 64-Bit Server VM\n",
       "Default Encoding: UTF-8\n",
       "Language: en\n",
       "Country: null\n",
       "--></g></svg>"
      ]
     },
     "execution_count": 33,
     "metadata": {},
     "output_type": "execute_result"
    }
   ],
   "source": [
    "%viz --style=\"PLANTUML\" --view=\"Interconnection\" \"ItemTest\""
   ]
  },
  {
   "cell_type": "code",
   "execution_count": 34,
   "id": "d070d202",
   "metadata": {
    "execution": {
     "iopub.execute_input": "2024-12-16T03:22:55.440694Z",
     "iopub.status.busy": "2024-12-16T03:22:55.440451Z",
     "iopub.status.idle": "2024-12-16T03:22:55.445047Z",
     "shell.execute_reply": "2024-12-16T03:22:55.444865Z"
    }
   },
   "outputs": [
    {
     "data": {
      "image/svg+xml": [
       "<?xml version=\"1.0\" encoding=\"UTF-8\" standalone=\"no\"?><svg xmlns=\"http://www.w3.org/2000/svg\" xmlns:xlink=\"http://www.w3.org/1999/xlink\" contentStyleType=\"text/css\" height=\"10px\" preserveAspectRatio=\"none\" style=\"width:10px;height:10px;background:#FFFFFF;\" version=\"1.1\" viewBox=\"0 0 10 10\" width=\"10px\" zoomAndPan=\"magnify\"><defs/><g><!--MD5=[5b85ed15c012f432344d03f88cdcf85b]\n",
       "@startuml\r\n",
       " skinparam ranksep 8\r\n",
       "\r\n",
       "@enduml\r\n",
       "\n",
       "PlantUML version 1.2022.7(Mon Aug 22 17:01:30 UTC 2022)\n",
       "(EPL source distribution)\n",
       "Java Runtime: OpenJDK Runtime Environment\n",
       "JVM: OpenJDK 64-Bit Server VM\n",
       "Default Encoding: UTF-8\n",
       "Language: en\n",
       "Country: null\n",
       "--></g></svg>"
      ]
     },
     "execution_count": 34,
     "metadata": {},
     "output_type": "execute_result"
    }
   ],
   "source": [
    "%viz --style=\"PLANTUML\" --view=\"Action\" \"ItemTest\""
   ]
  },
  {
   "cell_type": "code",
   "execution_count": 35,
   "id": "3f3bdc5f",
   "metadata": {
    "execution": {
     "iopub.execute_input": "2024-12-16T03:22:55.500170Z",
     "iopub.status.busy": "2024-12-16T03:22:55.499985Z",
     "iopub.status.idle": "2024-12-16T03:22:55.504750Z",
     "shell.execute_reply": "2024-12-16T03:22:55.504868Z"
    }
   },
   "outputs": [
    {
     "data": {
      "image/svg+xml": [
       "<?xml version=\"1.0\" encoding=\"UTF-8\" standalone=\"no\"?><svg xmlns=\"http://www.w3.org/2000/svg\" xmlns:xlink=\"http://www.w3.org/1999/xlink\" contentStyleType=\"text/css\" height=\"10px\" preserveAspectRatio=\"none\" style=\"width:10px;height:10px;background:#FFFFFF;\" version=\"1.1\" viewBox=\"0 0 10 10\" width=\"10px\" zoomAndPan=\"magnify\"><defs/><g><!--MD5=[395e82ba475bd2e80052467b56fa0251]\n",
       "@startuml\r\n",
       " skinparam roundcorner 20\r\n",
       "skinparam BoxPadding 20\r\n",
       "skinparam SequenceBoxBackgroundColor #white\r\n",
       "skinparam style strictuml\r\n",
       "skinparam maxMessageSize 100\r\n",
       "\r\n",
       "@enduml\r\n",
       "\n",
       "PlantUML version 1.2022.7(Mon Aug 22 17:01:30 UTC 2022)\n",
       "(EPL source distribution)\n",
       "Java Runtime: OpenJDK Runtime Environment\n",
       "JVM: OpenJDK 64-Bit Server VM\n",
       "Default Encoding: UTF-8\n",
       "Language: en\n",
       "Country: null\n",
       "--></g></svg>"
      ]
     },
     "execution_count": 35,
     "metadata": {},
     "output_type": "execute_result"
    }
   ],
   "source": [
    "%viz --style=\"PLANTUML\" --view=\"Sequence\" \"ItemTest\""
   ]
  },
  {
   "cell_type": "code",
   "execution_count": 36,
   "id": "3c480689",
   "metadata": {
    "execution": {
     "iopub.execute_input": "2024-12-16T03:22:55.560650Z",
     "iopub.status.busy": "2024-12-16T03:22:55.560356Z",
     "iopub.status.idle": "2024-12-16T03:22:55.589277Z",
     "shell.execute_reply": "2024-12-16T03:22:55.588367Z"
    }
   },
   "outputs": [
    {
     "data": {
      "image/svg+xml": [
       "<?xml version=\"1.0\" encoding=\"UTF-8\" standalone=\"no\"?><svg xmlns=\"http://www.w3.org/2000/svg\" xmlns:xlink=\"http://www.w3.org/1999/xlink\" contentStyleType=\"text/css\" height=\"789px\" preserveAspectRatio=\"none\" style=\"width:327px;height:789px;background:#FFFFFF;\" version=\"1.1\" viewBox=\"0 0 327 789\" width=\"327px\" zoomAndPan=\"magnify\"><defs/><g><!--MD5=[fbc87193dbaf4d95561dea2c320d4a47]\n",
       "cluster E1--><g id=\"cluster_E1\"><a href=\"psysml:b50080a1-e82f-4c80-9a3f-5d66ab4e7e23\" target=\"_top\" title=\"psysml:b50080a1-e82f-4c80-9a3f-5d66ab4e7e23\" xlink:actuate=\"onRequest\" xlink:href=\"psysml:b50080a1-e82f-4c80-9a3f-5d66ab4e7e23\" xlink:show=\"new\" xlink:title=\"psysml:b50080a1-e82f-4c80-9a3f-5d66ab4e7e23\" xlink:type=\"simple\"><path d=\"M8.5,6 L74,6 A3.75,3.75 0 0 1 76.5,8.5 L83.5,28.2969 L317.5,28.2969 A2.5,2.5 0 0 1 320,30.7969 L320,779.5 A2.5,2.5 0 0 1 317.5,782 L8.5,782 A2.5,2.5 0 0 1 6,779.5 L6,8.5 A2.5,2.5 0 0 1 8.5,6 \" fill=\"none\" style=\"stroke:#000000;stroke-width:1.5;\"/><line style=\"stroke:#000000;stroke-width:1.5;\" x1=\"6\" x2=\"83.5\" y1=\"28.2969\" y2=\"28.2969\"/><text fill=\"#000000\" font-family=\"sans-serif\" font-size=\"14\" font-weight=\"bold\" lengthAdjust=\"spacing\" textLength=\"64.5\" x=\"10\" y=\"20.9951\">ItemTest</text></a></g><!--MD5=[b4997ac47864f28c2f74865a473b2911]\n",
       "class E2--><a href=\"psysml:4d36820e-7c5e-46bd-9de5-e346cea54837\" target=\"_top\" title=\"psysml:4d36820e-7c5e-46bd-9de5-e346cea54837\" xlink:actuate=\"onRequest\" xlink:href=\"psysml:4d36820e-7c5e-46bd-9de5-e346cea54837\" xlink:show=\"new\" xlink:title=\"psysml:4d36820e-7c5e-46bd-9de5-e346cea54837\" xlink:type=\"simple\"><g id=\"elem_E2\"><rect fill=\"#F1F1F1\" height=\"40\" id=\"E2\" rx=\"10\" ry=\"10\" style=\"stroke:#181818;stroke-width:0.5;\" width=\"62\" x=\"242\" y=\"150\"/><ellipse cx=\"257\" cy=\"166\" fill=\"#32CD32\" rx=\"11\" ry=\"11\" style=\"stroke:#181818;stroke-width:1.0;\"/><path d=\"M253.8594,172.5 L253.8594,160.3594 L257.8906,160.3594 Q259.9844,160.3594 261,161.3438 Q262.0156,162.3125 262.0156,164.1406 Q262.0156,165.3438 261.5781,166.25 Q261.1563,167.1563 260.2031,167.6719 Q259.2656,168.1875 257.7344,168.1875 L256.2344,168.1875 L256.2344,172.5 L253.8594,172.5 Z M257.4844,166.0938 Q258.5313,166.0938 259.0469,165.6094 Q259.5781,165.125 259.5781,164.2344 Q259.5781,163.3438 259.1406,162.9063 Q258.7188,162.4531 257.7969,162.4531 L256.2344,162.4531 L256.2344,166.0938 L257.4844,166.0938 Z \" fill=\"#000000\"/><text fill=\"#000000\" font-family=\"sans-serif\" font-size=\"14\" lengthAdjust=\"spacing\" textLength=\"22\" x=\"271\" y=\"170.8467\">f: A</text><line style=\"stroke:#181818;stroke-width:0.5;\" x1=\"243\" x2=\"303\" y1=\"182\" y2=\"182\"/></g></a><!--MD5=[09b614a08d8cba4a07c9adeb5e0fee81]\n",
       "class E3--><a href=\"psysml:90a9c46f-1bc9-4470-bf4e-8ae555dfcfc9\" target=\"_top\" title=\"psysml:90a9c46f-1bc9-4470-bf4e-8ae555dfcfc9\" xlink:actuate=\"onRequest\" xlink:href=\"psysml:90a9c46f-1bc9-4470-bf4e-8ae555dfcfc9\" xlink:show=\"new\" xlink:title=\"psysml:90a9c46f-1bc9-4470-bf4e-8ae555dfcfc9\" xlink:type=\"simple\"><g id=\"elem_E3\"><rect fill=\"#F1F1F1\" height=\"40\" id=\"E3\" rx=\"2.5\" ry=\"2.5\" style=\"stroke:#181818;stroke-width:0.5;\" width=\"41\" x=\"148.5\" y=\"251\"/><ellipse cx=\"163.5\" cy=\"267\" fill=\"#008000\" rx=\"11\" ry=\"11\" style=\"stroke:#181818;stroke-width:1.0;\"/><path d=\"M160.3594,273.5 L160.3594,261.3594 L164.1563,261.3594 Q166.1563,261.3594 167.2031,262.0625 Q168.2656,262.7656 168.2656,264.3438 Q168.2656,265.4375 167.7656,266.1563 Q167.2813,266.875 166.4531,267.0625 L166.4531,267.1406 Q167.375,267.3594 167.9375,268.0313 Q168.5156,268.6875 168.5156,269.9531 Q168.5156,271.6094 167.4688,272.5625 Q166.4219,273.5 164.5625,273.5 L160.3594,273.5 Z M164.1406,266.1406 Q165.0313,266.1406 165.3906,265.8125 Q165.7656,265.4688 165.7656,264.7656 Q165.7656,264.0313 165.375,263.7188 Q164.9844,263.3906 164.0469,263.3906 L162.6563,263.3906 L162.6563,266.1406 L164.1406,266.1406 Z M164.3281,271.4844 Q165.2344,271.4844 165.5938,271.0469 Q165.9531,270.5938 165.9531,269.8125 Q165.9531,269.0313 165.5781,268.6406 Q165.2188,268.2344 164.2344,268.2344 L162.6563,268.2344 L162.6563,271.4844 L164.3281,271.4844 Z \" fill=\"#000000\"/><text fill=\"#000000\" font-family=\"sans-serif\" font-size=\"14\" lengthAdjust=\"spacing\" textLength=\"9\" x=\"177.5\" y=\"271.8467\">A</text><line style=\"stroke:#181818;stroke-width:0.5;\" x1=\"149.5\" x2=\"188.5\" y1=\"283\" y2=\"283\"/></g></a><!--MD5=[ebbe1d658d1005bcc118a6aa81145e00]\n",
       "class E4--><a href=\"psysml:d394e1d7-ba50-4340-ad50-ece704d14a42\" target=\"_top\" title=\"psysml:d394e1d7-ba50-4340-ad50-ece704d14a42\" xlink:actuate=\"onRequest\" xlink:href=\"psysml:d394e1d7-ba50-4340-ad50-ece704d14a42\" xlink:show=\"new\" xlink:title=\"psysml:d394e1d7-ba50-4340-ad50-ece704d14a42\" xlink:type=\"simple\"><g id=\"elem_E4\"><rect fill=\"#F1F1F1\" height=\"40\" id=\"E4\" rx=\"10\" ry=\"10\" style=\"stroke:#181818;stroke-width:0.5;\" width=\"68\" x=\"50\" y=\"430\"/><ellipse cx=\"65\" cy=\"446\" fill=\"#32CD32\" rx=\"11\" ry=\"11\" style=\"stroke:#181818;stroke-width:1.0;\"/><path d=\"M61.8594,452.5 L61.8594,440.3594 L65.8906,440.3594 Q67.9844,440.3594 69,441.3438 Q70.0156,442.3125 70.0156,444.1406 Q70.0156,445.3438 69.5781,446.25 Q69.1563,447.1563 68.2031,447.6719 Q67.2656,448.1875 65.7344,448.1875 L64.2344,448.1875 L64.2344,452.5 L61.8594,452.5 Z M65.4844,446.0938 Q66.5313,446.0938 67.0469,445.6094 Q67.5781,445.125 67.5781,444.2344 Q67.5781,443.3438 67.1406,442.9063 Q66.7188,442.4531 65.7969,442.4531 L64.2344,442.4531 L64.2344,446.0938 L65.4844,446.0938 Z \" fill=\"#000000\"/><text fill=\"#000000\" font-family=\"sans-serif\" font-size=\"14\" lengthAdjust=\"spacing\" textLength=\"28\" x=\"79\" y=\"450.8467\">b: B</text><line style=\"stroke:#181818;stroke-width:0.5;\" x1=\"51\" x2=\"117\" y1=\"462\" y2=\"462\"/></g></a><!--MD5=[270fce915f116d4de14055a7c1d9a0f3]\n",
       "class E5--><a href=\"psysml:af047218-2074-4cd5-be73-a9bc4fd53c73\" target=\"_top\" title=\"psysml:af047218-2074-4cd5-be73-a9bc4fd53c73\" xlink:actuate=\"onRequest\" xlink:href=\"psysml:af047218-2074-4cd5-be73-a9bc4fd53c73\" xlink:show=\"new\" xlink:title=\"psysml:af047218-2074-4cd5-be73-a9bc4fd53c73\" xlink:type=\"simple\"><g id=\"elem_E5\"><rect fill=\"#F1F1F1\" height=\"48.2656\" id=\"E5\" rx=\"10\" ry=\"10\" style=\"stroke:#181818;stroke-width:0.5;\" width=\"68\" x=\"183\" y=\"352\"/><ellipse cx=\"198\" cy=\"372.1328\" fill=\"#32CD32\" rx=\"11\" ry=\"11\" style=\"stroke:#181818;stroke-width:1.0;\"/><path d=\"M194.8594,378.6328 L194.8594,366.4922 L198.8906,366.4922 Q200.9844,366.4922 202,367.4766 Q203.0156,368.4453 203.0156,370.2734 Q203.0156,371.4766 202.5781,372.3828 Q202.1563,373.2891 201.2031,373.8047 Q200.2656,374.3203 198.7344,374.3203 L197.2344,374.3203 L197.2344,378.6328 L194.8594,378.6328 Z M198.4844,372.2266 Q199.5313,372.2266 200.0469,371.7422 Q200.5781,371.2578 200.5781,370.3672 Q200.5781,369.4766 200.1406,369.0391 Q199.7188,368.5859 198.7969,368.5859 L197.2344,368.5859 L197.2344,372.2266 L198.4844,372.2266 Z \" fill=\"#000000\"/><text fill=\"#000000\" font-family=\"sans-serif\" font-size=\"12\" font-style=\"italic\" lengthAdjust=\"spacing\" textLength=\"40\" x=\"210\" y=\"368.1387\">«part»</text><text fill=\"#000000\" font-family=\"sans-serif\" font-size=\"14\" lengthAdjust=\"spacing\" textLength=\"27\" x=\"212.5\" y=\"383.9639\">c: C</text><line style=\"stroke:#181818;stroke-width:0.5;\" x1=\"184\" x2=\"250\" y1=\"392.2656\" y2=\"392.2656\"/></g></a><!--MD5=[60a26617385b1d2d0262a64233df1f8d]\n",
       "class E6--><a href=\"psysml:24ac0b44-19f7-4e7e-9d8c-29217623109a\" target=\"_top\" title=\"psysml:24ac0b44-19f7-4e7e-9d8c-29217623109a\" xlink:actuate=\"onRequest\" xlink:href=\"psysml:24ac0b44-19f7-4e7e-9d8c-29217623109a\" xlink:show=\"new\" xlink:title=\"psysml:24ac0b44-19f7-4e7e-9d8c-29217623109a\" xlink:type=\"simple\"><g id=\"elem_E6\"><rect fill=\"#F1F1F1\" height=\"40\" id=\"E6\" rx=\"2.5\" ry=\"2.5\" style=\"stroke:#181818;stroke-width:0.5;\" width=\"42\" x=\"139\" y=\"617\"/><ellipse cx=\"154\" cy=\"633\" fill=\"#008000\" rx=\"11\" ry=\"11\" style=\"stroke:#181818;stroke-width:1.0;\"/><path d=\"M150.8594,639.5 L150.8594,627.3594 L154.6563,627.3594 Q156.6563,627.3594 157.7031,628.0625 Q158.7656,628.7656 158.7656,630.3438 Q158.7656,631.4375 158.2656,632.1563 Q157.7813,632.875 156.9531,633.0625 L156.9531,633.1406 Q157.875,633.3594 158.4375,634.0313 Q159.0156,634.6875 159.0156,635.9531 Q159.0156,637.6094 157.9688,638.5625 Q156.9219,639.5 155.0625,639.5 L150.8594,639.5 Z M154.6406,632.1406 Q155.5313,632.1406 155.8906,631.8125 Q156.2656,631.4688 156.2656,630.7656 Q156.2656,630.0313 155.875,629.7188 Q155.4844,629.3906 154.5469,629.3906 L153.1563,629.3906 L153.1563,632.1406 L154.6406,632.1406 Z M154.8281,637.4844 Q155.7344,637.4844 156.0938,637.0469 Q156.4531,636.5938 156.4531,635.8125 Q156.4531,635.0313 156.0781,634.6406 Q155.7188,634.2344 154.7344,634.2344 L153.1563,634.2344 L153.1563,637.4844 L154.8281,637.4844 Z \" fill=\"#000000\"/><text fill=\"#000000\" font-family=\"sans-serif\" font-size=\"14\" font-style=\"italic\" lengthAdjust=\"spacing\" textLength=\"10\" x=\"168\" y=\"637.8467\">B</text><line style=\"stroke:#181818;stroke-width:0.5;\" x1=\"140\" x2=\"180\" y1=\"649\" y2=\"649\"/></g></a><!--MD5=[2156ba9850f5573cc1fc38a6a4b2f02b]\n",
       "class E7--><a href=\"psysml:f97762a5-be4a-40f0-b15f-ded6f9a0a2bf\" target=\"_top\" title=\"psysml:f97762a5-be4a-40f0-b15f-ded6f9a0a2bf\" xlink:actuate=\"onRequest\" xlink:href=\"psysml:f97762a5-be4a-40f0-b15f-ded6f9a0a2bf\" xlink:show=\"new\" xlink:title=\"psysml:f97762a5-be4a-40f0-b15f-ded6f9a0a2bf\" xlink:type=\"simple\"><g id=\"elem_E7\"><rect fill=\"#F1F1F1\" height=\"48.2656\" id=\"E7\" rx=\"10\" ry=\"10\" style=\"stroke:#181818;stroke-width:0.5;\" width=\"68\" x=\"218\" y=\"718\"/><ellipse cx=\"233\" cy=\"738.1328\" fill=\"#32CD32\" rx=\"11\" ry=\"11\" style=\"stroke:#181818;stroke-width:1.0;\"/><path d=\"M229.8594,744.6328 L229.8594,732.4922 L233.8906,732.4922 Q235.9844,732.4922 237,733.4766 Q238.0156,734.4453 238.0156,736.2734 Q238.0156,737.4766 237.5781,738.3828 Q237.1563,739.2891 236.2031,739.8047 Q235.2656,740.3203 233.7344,740.3203 L232.2344,740.3203 L232.2344,744.6328 L229.8594,744.6328 Z M233.4844,738.2266 Q234.5313,738.2266 235.0469,737.7422 Q235.5781,737.2578 235.5781,736.3672 Q235.5781,735.4766 235.1406,735.0391 Q234.7188,734.5859 233.7969,734.5859 L232.2344,734.5859 L232.2344,738.2266 L233.4844,738.2266 Z \" fill=\"#000000\"/><text fill=\"#000000\" font-family=\"sans-serif\" font-size=\"12\" font-style=\"italic\" lengthAdjust=\"spacing\" textLength=\"40\" x=\"245\" y=\"734.1387\">«part»</text><text fill=\"#000000\" font-family=\"sans-serif\" font-size=\"14\" font-style=\"italic\" lengthAdjust=\"spacing\" textLength=\"8\" x=\"248\" y=\"749.9639\">a</text><text fill=\"#000000\" font-family=\"sans-serif\" font-size=\"14\" lengthAdjust=\"spacing\" textLength=\"18\" x=\"256\" y=\"749.9639\">: A</text><line style=\"stroke:#181818;stroke-width:0.5;\" x1=\"219\" x2=\"285\" y1=\"758.2656\" y2=\"758.2656\"/></g></a><!--MD5=[b9389687b975829384b498ac4b7476b2]\n",
       "class E8--><a href=\"psysml:2119f9fa-e703-4679-adcc-c9e3fda7136e\" target=\"_top\" title=\"psysml:2119f9fa-e703-4679-adcc-c9e3fda7136e\" xlink:actuate=\"onRequest\" xlink:href=\"psysml:2119f9fa-e703-4679-adcc-c9e3fda7136e\" xlink:show=\"new\" xlink:title=\"psysml:2119f9fa-e703-4679-adcc-c9e3fda7136e\" xlink:type=\"simple\"><g id=\"elem_E8\"><rect fill=\"#F1F1F1\" height=\"40\" id=\"E8\" rx=\"2.5\" ry=\"2.5\" style=\"stroke:#181818;stroke-width:0.5;\" width=\"42\" x=\"139\" y=\"500\"/><ellipse cx=\"154\" cy=\"516\" fill=\"#008000\" rx=\"11\" ry=\"11\" style=\"stroke:#181818;stroke-width:1.0;\"/><path d=\"M150.8594,522.5 L150.8594,510.3594 L154.6563,510.3594 Q156.6563,510.3594 157.7031,511.0625 Q158.7656,511.7656 158.7656,513.3438 Q158.7656,514.4375 158.2656,515.1563 Q157.7813,515.875 156.9531,516.0625 L156.9531,516.1406 Q157.875,516.3594 158.4375,517.0313 Q159.0156,517.6875 159.0156,518.9531 Q159.0156,520.6094 157.9688,521.5625 Q156.9219,522.5 155.0625,522.5 L150.8594,522.5 Z M154.6406,515.1406 Q155.5313,515.1406 155.8906,514.8125 Q156.2656,514.4688 156.2656,513.7656 Q156.2656,513.0313 155.875,512.7188 Q155.4844,512.3906 154.5469,512.3906 L153.1563,512.3906 L153.1563,515.1406 L154.6406,515.1406 Z M154.8281,520.4844 Q155.7344,520.4844 156.0938,520.0469 Q156.4531,519.5938 156.4531,518.8125 Q156.4531,518.0313 156.0781,517.6406 Q155.7188,517.2344 154.7344,517.2344 L153.1563,517.2344 L153.1563,520.4844 L154.8281,520.4844 Z \" fill=\"#000000\"/><text fill=\"#000000\" font-family=\"sans-serif\" font-size=\"14\" lengthAdjust=\"spacing\" textLength=\"10\" x=\"168\" y=\"520.8467\">C</text><line style=\"stroke:#181818;stroke-width:0.5;\" x1=\"140\" x2=\"180\" y1=\"532\" y2=\"532\"/></g></a><!--MD5=[fd4143e9d270a159db93a4ea2a975926]\n",
       "class E9--><a href=\"psysml:f9be0f9f-7828-47af-b676-a3098923450b\" target=\"_top\" title=\"psysml:f9be0f9f-7828-47af-b676-a3098923450b\" xlink:actuate=\"onRequest\" xlink:href=\"psysml:f9be0f9f-7828-47af-b676-a3098923450b\" xlink:show=\"new\" xlink:title=\"psysml:f9be0f9f-7828-47af-b676-a3098923450b\" xlink:type=\"simple\"><g id=\"elem_E9\"><rect fill=\"#F1F1F1\" height=\"48.2656\" id=\"E9\" rx=\"2.5\" ry=\"2.5\" style=\"stroke:#181818;stroke-width:0.5;\" width=\"96\" x=\"71\" y=\"41\"/><ellipse cx=\"86\" cy=\"61.1328\" fill=\"#A52A2A\" rx=\"11\" ry=\"11\" style=\"stroke:#181818;stroke-width:1.0;\"/><path d=\"M82.7656,67.6328 L82.7656,55.4922 L86.5156,55.4922 Q88.8906,55.4922 90.2813,57.0078 Q91.6875,58.5078 91.6875,61.4609 Q91.6875,64.4297 90.25,66.0391 Q88.8125,67.6328 86.3281,67.6328 L82.7656,67.6328 Z M86.2031,65.5391 Q87.75,65.5391 88.4688,64.5391 Q89.1875,63.5391 89.1875,61.4766 Q89.1875,59.4453 88.4844,58.5234 Q87.7969,57.5859 86.4063,57.5859 L85.2031,57.5859 L85.2031,65.5391 L86.2031,65.5391 Z \" fill=\"#000000\"/><text fill=\"#000000\" font-family=\"sans-serif\" font-size=\"12\" font-style=\"italic\" lengthAdjust=\"spacing\" textLength=\"68\" x=\"98\" y=\"57.1387\">«port  def»</text><text fill=\"#000000\" font-family=\"sans-serif\" font-size=\"14\" lengthAdjust=\"spacing\" textLength=\"9\" x=\"127.5\" y=\"72.9639\">P</text><line style=\"stroke:#181818;stroke-width:0.5;\" x1=\"72\" x2=\"166\" y1=\"81.2656\" y2=\"81.2656\"/></g></a><!--MD5=[96f4274e9e20536e775497830990834d]\n",
       "class E10--><a href=\"psysml:bdd21edf-ffb1-47e0-8301-b129ba721304\" target=\"_top\" title=\"psysml:bdd21edf-ffb1-47e0-8301-b129ba721304\" xlink:actuate=\"onRequest\" xlink:href=\"psysml:bdd21edf-ffb1-47e0-8301-b129ba721304\" xlink:show=\"new\" xlink:title=\"psysml:bdd21edf-ffb1-47e0-8301-b129ba721304\" xlink:type=\"simple\"><g id=\"elem_E10\"><rect fill=\"#F1F1F1\" height=\"40\" id=\"E10\" rx=\"10\" ry=\"10\" style=\"stroke:#181818;stroke-width:0.5;\" width=\"75\" x=\"21.5\" y=\"150\"/><ellipse cx=\"36.5\" cy=\"166\" fill=\"#32CD32\" rx=\"11\" ry=\"11\" style=\"stroke:#181818;stroke-width:1.0;\"/><path d=\"M33.3594,172.5 L33.3594,160.3594 L37.3906,160.3594 Q39.4844,160.3594 40.5,161.3438 Q41.5156,162.3125 41.5156,164.1406 Q41.5156,165.3438 41.0781,166.25 Q40.6563,167.1563 39.7031,167.6719 Q38.7656,168.1875 37.2344,168.1875 L35.7344,168.1875 L35.7344,172.5 L33.3594,172.5 Z M36.9844,166.0938 Q38.0313,166.0938 38.5469,165.6094 Q39.0781,165.125 39.0781,164.2344 Q39.0781,163.3438 38.6406,162.9063 Q38.2188,162.4531 37.2969,162.4531 L35.7344,162.4531 L35.7344,166.0938 L36.9844,166.0938 Z \" fill=\"#000000\"/><text fill=\"#000000\" font-family=\"sans-serif\" font-size=\"14\" lengthAdjust=\"spacing\" textLength=\"35\" x=\"50.5\" y=\"170.8467\">a1: A</text><line style=\"stroke:#181818;stroke-width:0.5;\" x1=\"22.5\" x2=\"95.5\" y1=\"182\" y2=\"182\"/></g></a><!--MD5=[1dd1bfd58a279cf63c5f349dbc8fc6a1]\n",
       "class E11--><a href=\"psysml:ea86bb80-7fc3-4478-bdc0-15728142c0fa\" target=\"_top\" title=\"psysml:ea86bb80-7fc3-4478-bdc0-15728142c0fa\" xlink:actuate=\"onRequest\" xlink:href=\"psysml:ea86bb80-7fc3-4478-bdc0-15728142c0fa\" xlink:show=\"new\" xlink:title=\"psysml:ea86bb80-7fc3-4478-bdc0-15728142c0fa\" xlink:type=\"simple\"><g id=\"elem_E11\"><rect fill=\"#F1F1F1\" height=\"40\" id=\"E11\" rx=\"10\" ry=\"10\" style=\"stroke:#181818;stroke-width:0.5;\" width=\"75\" x=\"131.5\" y=\"150\"/><ellipse cx=\"146.5\" cy=\"166\" fill=\"#32CD32\" rx=\"11\" ry=\"11\" style=\"stroke:#181818;stroke-width:1.0;\"/><path d=\"M143.3594,172.5 L143.3594,160.3594 L147.3906,160.3594 Q149.4844,160.3594 150.5,161.3438 Q151.5156,162.3125 151.5156,164.1406 Q151.5156,165.3438 151.0781,166.25 Q150.6563,167.1563 149.7031,167.6719 Q148.7656,168.1875 147.2344,168.1875 L145.7344,168.1875 L145.7344,172.5 L143.3594,172.5 Z M146.9844,166.0938 Q148.0313,166.0938 148.5469,165.6094 Q149.0781,165.125 149.0781,164.2344 Q149.0781,163.3438 148.6406,162.9063 Q148.2188,162.4531 147.2969,162.4531 L145.7344,162.4531 L145.7344,166.0938 L146.9844,166.0938 Z \" fill=\"#000000\"/><text fill=\"#000000\" font-family=\"sans-serif\" font-size=\"14\" lengthAdjust=\"spacing\" textLength=\"35\" x=\"160.5\" y=\"170.8467\">a2: A</text><line style=\"stroke:#181818;stroke-width:0.5;\" x1=\"132.5\" x2=\"205.5\" y1=\"182\" y2=\"182\"/></g></a><!--MD5=[2720a5a1f2c3fca2055b230370638851]\n",
       "link E2 to E3--><g id=\"link_E2_E3\"><a href=\"psysml:358bd963-d6cf-4c51-9d97-dc29b520688f\" target=\"_top\" title=\"psysml:358bd963-d6cf-4c51-9d97-dc29b520688f\" xlink:actuate=\"onRequest\" xlink:href=\"psysml:358bd963-d6cf-4c51-9d97-dc29b520688f\" xlink:show=\"new\" xlink:title=\"psysml:358bd963-d6cf-4c51-9d97-dc29b520688f\" xlink:type=\"simple\"><path d=\"M252.95,190.09 C238.99,203.37 220.02,221.43 203.65,237.02 \" fill=\"none\" id=\"E2-to-E3\" style=\"stroke:#181818;stroke-width:1.0;\"/><polygon fill=\"#FFFFFF\" points=\"188.99,250.97,197.9277,232.8009,207.5792,242.9424,188.99,250.97\" style=\"stroke:#181818;stroke-width:1.0;\"/><ellipse cx=\"203.4356\" cy=\"230.3202\" fill=\"#181818\" rx=\"2\" ry=\"2\" style=\"stroke:#181818;stroke-width:1.0;\"/><ellipse cx=\"210.3294\" cy=\"237.5641\" fill=\"#181818\" rx=\"2\" ry=\"2\" style=\"stroke:#181818;stroke-width:1.0;\"/></a></g><!--MD5=[4672eba38e49728da53d11aeb285b987]\n",
       "reverse link E3 to E4--><g id=\"link_E3_E4\"><a href=\"psysml:724ffe94-cfbf-4ea2-b315-6baf1a587f0c\" target=\"_top\" title=\"psysml:724ffe94-cfbf-4ea2-b315-6baf1a587f0c\" xlink:actuate=\"onRequest\" xlink:href=\"psysml:724ffe94-cfbf-4ea2-b315-6baf1a587f0c\" xlink:show=\"new\" xlink:title=\"psysml:724ffe94-cfbf-4ea2-b315-6baf1a587f0c\" xlink:type=\"simple\"><path d=\"M138.52,297.03 C123.14,311.43 105.74,330.84 96,352 C84.44,377.13 82.73,409.58 83.02,429.84 \" fill=\"none\" id=\"E3-backto-E4\" style=\"stroke:#181818;stroke-width:1.0;\"/><polygon fill=\"#181818\" points=\"148.22,288.32,141.0825,289.3478,139.2861,296.3315,146.4236,295.3038,148.22,288.32\" style=\"stroke:#181818;stroke-width:1.0;\"/></a></g><!--MD5=[191cde3d490a3f6d7bb551fe3ddca469]\n",
       "reverse link E3 to E5--><g id=\"link_E3_E5\"><a href=\"psysml:9c72d63b-be6b-487b-af19-53b3ed2c634b\" target=\"_top\" title=\"psysml:9c72d63b-be6b-487b-af19-53b3ed2c634b\" xlink:actuate=\"onRequest\" xlink:href=\"psysml:9c72d63b-be6b-487b-af19-53b3ed2c634b\" xlink:show=\"new\" xlink:title=\"psysml:9c72d63b-be6b-487b-af19-53b3ed2c634b\" xlink:type=\"simple\"><path d=\"M183.72,303.6 C190.96,319.13 199.53,337.52 206.16,351.75 \" fill=\"none\" id=\"E3-backto-E5\" style=\"stroke:#181818;stroke-width:1.0;\"/><polygon fill=\"none\" points=\"178.03,291.37,176.9459,298.4991,183.1097,302.2418,184.1938,295.1127,178.03,291.37\" style=\"stroke:#181818;stroke-width:1.0;\"/></a></g><!--MD5=[79568f1e445c3877b6a54524624ccc7d]\n",
       "link E4 to E6--><g id=\"link_E4_E6\"><a href=\"psysml:c1d845e5-90b4-4786-9172-2f85f48f902a\" target=\"_top\" title=\"psysml:c1d845e5-90b4-4786-9172-2f85f48f902a\" xlink:actuate=\"onRequest\" xlink:href=\"psysml:c1d845e5-90b4-4786-9172-2f85f48f902a\" xlink:show=\"new\" xlink:title=\"psysml:c1d845e5-90b4-4786-9172-2f85f48f902a\" xlink:type=\"simple\"><path d=\"M91.85,470.1 C104.19,500.15 128.39,559.04 144.37,597.96 \" fill=\"none\" id=\"E4-to-E6\" style=\"stroke:#181818;stroke-width:1.0;\"/><polygon fill=\"#FFFFFF\" points=\"152.08,616.73,138.3852,601.8152,151.335,596.4953,152.08,616.73\" style=\"stroke:#181818;stroke-width:1.0;\"/><ellipse cx=\"138.0692\" cy=\"595.7828\" fill=\"#181818\" rx=\"2\" ry=\"2\" style=\"stroke:#181818;stroke-width:1.0;\"/><ellipse cx=\"147.3191\" cy=\"591.9828\" fill=\"#181818\" rx=\"2\" ry=\"2\" style=\"stroke:#181818;stroke-width:1.0;\"/></a></g><!--MD5=[3f50a3473f1dfb74d3f76443e03635af]\n",
       "reverse link E6 to E7--><g id=\"link_E6_E7\"><a href=\"psysml:ee76f7ce-c996-4988-9b1a-5ac16ad8d066\" target=\"_top\" title=\"psysml:ee76f7ce-c996-4988-9b1a-5ac16ad8d066\" xlink:actuate=\"onRequest\" xlink:href=\"psysml:ee76f7ce-c996-4988-9b1a-5ac16ad8d066\" xlink:show=\"new\" xlink:title=\"psysml:ee76f7ce-c996-4988-9b1a-5ac16ad8d066\" xlink:type=\"simple\"><path d=\"M186.16,667.29 C200.45,683.28 217.89,702.81 231.23,717.75 \" fill=\"none\" id=\"E6-backto-E7\" style=\"stroke:#181818;stroke-width:1.0;\"/><polygon fill=\"#181818\" points=\"177.3,657.37,178.3109,664.5099,185.2904,666.3229,184.2795,659.183,177.3,657.37\" style=\"stroke:#181818;stroke-width:1.0;\"/></a></g><!--MD5=[14ccda38c055a5c0da953d572bc50960]\n",
       "link E7 to E3--><g id=\"link_E7_E3\"><a href=\"psysml:1cb41c8a-3888-4a6d-b592-33957295a7ee\" target=\"_top\" title=\"psysml:1cb41c8a-3888-4a6d-b592-33957295a7ee\" xlink:actuate=\"onRequest\" xlink:href=\"psysml:1cb41c8a-3888-4a6d-b592-33957295a7ee\" xlink:show=\"new\" xlink:title=\"psysml:1cb41c8a-3888-4a6d-b592-33957295a7ee\" xlink:type=\"simple\"><path d=\"M264.83,717.62 C274.82,697.23 287,666.52 287,638 C287,375 287,375 287,375 C287,332.26 242.53,303.18 208.19,287.1 \" fill=\"none\" id=\"E7-to-E3\" style=\"stroke:#181818;stroke-width:1.0;\"/><polygon fill=\"#FFFFFF\" points=\"189.55,279.12,209.7716,280.1629,204.2615,293.033,189.55,279.12\" style=\"stroke:#181818;stroke-width:1.0;\"/><ellipse cx=\"214.2244\" cy=\"284.2448\" fill=\"#181818\" rx=\"2\" ry=\"2\" style=\"stroke:#181818;stroke-width:1.0;\"/><ellipse cx=\"210.2887\" cy=\"293.4378\" fill=\"#181818\" rx=\"2\" ry=\"2\" style=\"stroke:#181818;stroke-width:1.0;\"/></a></g><!--MD5=[dfaffb906826c3e5aca635516100ff21]\n",
       "link E5 to E8--><g id=\"link_E5_E8\"><a href=\"psysml:b2862137-6a73-49a4-ad0f-48652eafb24c\" target=\"_top\" title=\"psysml:b2862137-6a73-49a4-ad0f-48652eafb24c\" xlink:actuate=\"onRequest\" xlink:href=\"psysml:b2862137-6a73-49a4-ad0f-48652eafb24c\" xlink:show=\"new\" xlink:title=\"psysml:b2862137-6a73-49a4-ad0f-48652eafb24c\" xlink:type=\"simple\"><path d=\"M207.72,400.13 C198.9,422.08 185.5,455.46 175.15,481.27 \" fill=\"none\" id=\"E5-to-E8\" style=\"stroke:#181818;stroke-width:1.0;\"/><polygon fill=\"#FFFFFF\" points=\"167.64,499.97,168.2159,479.7297,181.2097,484.9413,167.64,499.97\" style=\"stroke:#181818;stroke-width:1.0;\"/><ellipse cx=\"172.194\" cy=\"475.1839\" fill=\"#181818\" rx=\"2\" ry=\"2\" style=\"stroke:#181818;stroke-width:1.0;\"/><ellipse cx=\"181.4753\" cy=\"478.9064\" fill=\"#181818\" rx=\"2\" ry=\"2\" style=\"stroke:#181818;stroke-width:1.0;\"/></a></g><!--MD5=[03c8294790d3c57651a1993cecff665f]\n",
       "reverse link E8 to E3--><g id=\"link_E8_E3\"><a href=\"psysml:764dcc5f-c791-44bd-8fe4-0cc6162433fb\" target=\"_top\" title=\"psysml:764dcc5f-c791-44bd-8fe4-0cc6162433fb\" xlink:actuate=\"onRequest\" xlink:href=\"psysml:764dcc5f-c791-44bd-8fe4-0cc6162433fb\" xlink:show=\"new\" xlink:title=\"psysml:764dcc5f-c791-44bd-8fe4-0cc6162433fb\" xlink:type=\"simple\"><path d=\"M157.67,486.86 C155.63,453.19 153.51,398.81 157,352 C158.56,331.13 162.37,307.45 165.28,291.31 \" fill=\"none\" id=\"E8-backto-E3\" style=\"stroke:#181818;stroke-width:1.0;\"/><polygon fill=\"none\" points=\"158.52,499.93,162.1225,493.6833,157.7419,487.9553,154.1394,494.202,158.52,499.93\" style=\"stroke:#181818;stroke-width:1.0;\"/><text fill=\"#000000\" font-family=\"sans-serif\" font-size=\"13\" lengthAdjust=\"spacing\" textLength=\"7\" x=\"158\" y=\"380.5669\">y</text></a></g><!--MD5=[0d75d2178373a6a4568e5dc728f58aef]\n",
       "reverse link E8 to E6--><g id=\"link_E8_E6\"><a href=\"psysml:764dcc5f-c791-44bd-8fe4-0cc6162433fb\" target=\"_top\" title=\"psysml:764dcc5f-c791-44bd-8fe4-0cc6162433fb\" xlink:actuate=\"onRequest\" xlink:href=\"psysml:764dcc5f-c791-44bd-8fe4-0cc6162433fb\" xlink:show=\"new\" xlink:title=\"psysml:764dcc5f-c791-44bd-8fe4-0cc6162433fb\" xlink:type=\"simple\"><path d=\"M160,553.36 C160,573.76 160,599.42 160,616.69 \" fill=\"none\" id=\"E8-backto-E6\" style=\"stroke:#181818;stroke-width:1.0;\"/><polygon fill=\"none\" points=\"160,540.25,156,546.25,160,552.25,164,546.25,160,540.25\" style=\"stroke:#181818;stroke-width:1.0;\"/><text fill=\"#000000\" font-family=\"sans-serif\" font-size=\"13\" lengthAdjust=\"spacing\" textLength=\"7\" x=\"161\" y=\"583.0669\">y</text></a></g><!--MD5=[23ac544a70576c3e717098101004234c]\n",
       "reverse link E9 to E10--><g id=\"link_E9_E10\"><a href=\"psysml:1f369bef-866d-4201-85d0-19625ffb0bd4\" target=\"_top\" title=\"psysml:1f369bef-866d-4201-85d0-19625ffb0bd4\" xlink:actuate=\"onRequest\" xlink:href=\"psysml:1f369bef-866d-4201-85d0-19625ffb0bd4\" xlink:show=\"new\" xlink:title=\"psysml:1f369bef-866d-4201-85d0-19625ffb0bd4\" xlink:type=\"simple\"><path d=\"M98.9,100.5 C89.34,116.92 78.26,135.94 70.21,149.76 \" fill=\"none\" id=\"E9-backto-E10\" style=\"stroke:#181818;stroke-width:1.0;\"/><polygon fill=\"none\" points=\"105.53,89.12,99.0532,92.2903,99.4885,99.4882,105.9653,96.318,105.53,89.12\" style=\"stroke:#181818;stroke-width:1.0;\"/></a></g><!--MD5=[feeac5eb423634930294aa81f2d25a4c]\n",
       "link E10 to E3--><g id=\"link_E10_E3\"><a href=\"psysml:0dc69dec-387f-4606-9efc-6b8567a081cf\" target=\"_top\" title=\"psysml:0dc69dec-387f-4606-9efc-6b8567a081cf\" xlink:actuate=\"onRequest\" xlink:href=\"psysml:0dc69dec-387f-4606-9efc-6b8567a081cf\" xlink:show=\"new\" xlink:title=\"psysml:0dc69dec-387f-4606-9efc-6b8567a081cf\" xlink:type=\"simple\"><path d=\"M80.21,190.09 C95.22,203.6 115.71,222.04 133.22,237.8 \" fill=\"none\" id=\"E10-to-E3\" style=\"stroke:#181818;stroke-width:1.0;\"/><polygon fill=\"#FFFFFF\" points=\"148.23,251.31,129.4251,243.8017,138.7911,233.3961,148.23,251.31\" style=\"stroke:#181818;stroke-width:1.0;\"/><ellipse cx=\"126.5265\" cy=\"238.5019\" fill=\"#181818\" rx=\"2\" ry=\"2\" style=\"stroke:#181818;stroke-width:1.0;\"/><ellipse cx=\"133.2165\" cy=\"231.0693\" fill=\"#181818\" rx=\"2\" ry=\"2\" style=\"stroke:#181818;stroke-width:1.0;\"/></a></g><!--MD5=[1fc04a95fd77ad5ce46c1a3027516051]\n",
       "reverse link E9 to E11--><g id=\"link_E9_E11\"><a href=\"psysml:41147f3b-680c-4b19-9ea9-1ad0d7284d0b\" target=\"_top\" title=\"psysml:41147f3b-680c-4b19-9ea9-1ad0d7284d0b\" xlink:actuate=\"onRequest\" xlink:href=\"psysml:41147f3b-680c-4b19-9ea9-1ad0d7284d0b\" xlink:show=\"new\" xlink:title=\"psysml:41147f3b-680c-4b19-9ea9-1ad0d7284d0b\" xlink:type=\"simple\"><path d=\"M135.98,100.98 C143.9,117.29 153.01,136.07 159.66,149.76 \" fill=\"none\" id=\"E9-backto-E11\" style=\"stroke:#181818;stroke-width:1.0;\"/><polygon fill=\"none\" points=\"130.22,89.12,129.2448,96.2649,135.465,99.9131,136.4402,92.7682,130.22,89.12\" style=\"stroke:#181818;stroke-width:1.0;\"/></a></g><!--MD5=[0517f1ce58c4d5483948f93845c45e26]\n",
       "link E11 to E3--><g id=\"link_E11_E3\"><a href=\"psysml:86cba12c-5c0b-4cb2-8a0f-652783ee7e3b\" target=\"_top\" title=\"psysml:86cba12c-5c0b-4cb2-8a0f-652783ee7e3b\" xlink:actuate=\"onRequest\" xlink:href=\"psysml:86cba12c-5c0b-4cb2-8a0f-652783ee7e3b\" xlink:show=\"new\" xlink:title=\"psysml:86cba12c-5c0b-4cb2-8a0f-652783ee7e3b\" xlink:type=\"simple\"><path d=\"M169,190.09 C169,201.59 169,216.68 169,230.63 \" fill=\"none\" id=\"E11-to-E3\" style=\"stroke:#181818;stroke-width:1.0;\"/><polygon fill=\"#FFFFFF\" points=\"169,250.97,162,231.97,176,231.97,169,250.97\" style=\"stroke:#181818;stroke-width:1.0;\"/><ellipse cx=\"164\" cy=\"226.27\" fill=\"#181818\" rx=\"2\" ry=\"2\" style=\"stroke:#181818;stroke-width:1.0;\"/><ellipse cx=\"174\" cy=\"226.27\" fill=\"#181818\" rx=\"2\" ry=\"2\" style=\"stroke:#181818;stroke-width:1.0;\"/></a></g><!--MD5=[2fa25d01ce65301293a8a616737c1152]\n",
       "@startuml\r\n",
       " \r\n",
       "package \"ItemTest\" as E1  [[psysml:b50080a1-e82f-4c80-9a3f-5d66ab4e7e23 ]]  {\r\n",
       "comp usage \"f: A  \" as E2  << << (P,limegreen) >> [[psysml:4d36820e-7c5e-46bd-9de5-e346cea54837 ]] {\r\n",
       "}\r\n",
       "comp def \"A\" as E3  << << (B,green) >> [[psysml:90a9c46f-1bc9-4470-bf4e-8ae555dfcfc9 ]] {\r\n",
       "}\r\n",
       "comp usage \"b: B  \" as E4  << << (P,limegreen) >> [[psysml:d394e1d7-ba50-4340-ad50-ece704d14a42 ]] {\r\n",
       "}\r\n",
       "comp usage \"c: C  \" as E5  << << (P,limegreen) part>> [[psysml:af047218-2074-4cd5-be73-a9bc4fd53c73 ]] {\r\n",
       "}\r\n",
       "comp def \"<i>B</i>\" as E6  << << (B,green) >> [[psysml:24ac0b44-19f7-4e7e-9d8c-29217623109a ]] {\r\n",
       "}\r\n",
       "comp usage \"<i>a</i>: A  \" as E7  << << (P,limegreen) part>> [[psysml:f97762a5-be4a-40f0-b15f-ded6f9a0a2bf ]] {\r\n",
       "}\r\n",
       "comp def \"C\" as E8  << << (B,green) >> [[psysml:2119f9fa-e703-4679-adcc-c9e3fda7136e ]] {\r\n",
       "}\r\n",
       "comp def \"P\" as E9  << <<(D,brown) port  def>> [[psysml:f9be0f9f-7828-47af-b676-a3098923450b ]] {\r\n",
       "}\r\n",
       "comp usage \"a1: A  \" as E10  << << (P,limegreen) >> [[psysml:bdd21edf-ffb1-47e0-8301-b129ba721304 ]] {\r\n",
       "}\r\n",
       "comp usage \"a2: A  \" as E11  << << (P,limegreen) >> [[psysml:ea86bb80-7fc3-4478-bdc0-15728142c0fa ]] {\r\n",
       "}\r\n",
       "}\r\n",
       "E2 - -:|> E3 [[psysml:358bd963-d6cf-4c51-9d97-dc29b520688f ]] \r\n",
       "E3 *- - E4 [[psysml:724ffe94-cfbf-4ea2-b315-6baf1a587f0c ]] \r\n",
       "E3 o- - E5 [[psysml:9c72d63b-be6b-487b-af19-53b3ed2c634b ]] \r\n",
       "E4 - -:|> E6 [[psysml:c1d845e5-90b4-4786-9172-2f85f48f902a ]] \r\n",
       "E6 *- - E7 [[psysml:ee76f7ce-c996-4988-9b1a-5ac16ad8d066 ]] \r\n",
       "E7 - -:|> E3 [[psysml:1cb41c8a-3888-4a6d-b592-33957295a7ee ]] \r\n",
       "E5 - -:|> E8 [[psysml:b2862137-6a73-49a4-ad0f-48652eafb24c ]] \r\n",
       "E8 o- - E3 [[psysml:764dcc5f-c791-44bd-8fe4-0cc6162433fb ]] : y\r\n",
       "E8 o- - E6 [[psysml:764dcc5f-c791-44bd-8fe4-0cc6162433fb ]] : y\r\n",
       "E9 o- - E10 [[psysml:1f369bef-866d-4201-85d0-19625ffb0bd4 ]] \r\n",
       "E10 - -:|> E3 [[psysml:0dc69dec-387f-4606-9efc-6b8567a081cf ]] \r\n",
       "E9 o- - E11 [[psysml:41147f3b-680c-4b19-9ea9-1ad0d7284d0b ]] \r\n",
       "E11 - -:|> E3 [[psysml:86cba12c-5c0b-4cb2-8a0f-652783ee7e3b ]] \r\n",
       "@enduml\r\n",
       "\n",
       "PlantUML version 1.2022.7(Mon Aug 22 17:01:30 UTC 2022)\n",
       "(EPL source distribution)\n",
       "Java Runtime: OpenJDK Runtime Environment\n",
       "JVM: OpenJDK 64-Bit Server VM\n",
       "Default Encoding: UTF-8\n",
       "Language: en\n",
       "Country: null\n",
       "--></g></svg>"
      ]
     },
     "execution_count": 36,
     "metadata": {},
     "output_type": "execute_result"
    }
   ],
   "source": [
    "%viz --style=\"PLANTUML\" --view=\"MIXED\" \"ItemTest\""
   ]
  },
  {
   "cell_type": "code",
   "execution_count": 37,
   "id": "bb62853e",
   "metadata": {
    "execution": {
     "iopub.execute_input": "2024-12-16T03:22:55.641094Z",
     "iopub.status.busy": "2024-12-16T03:22:55.640822Z",
     "iopub.status.idle": "2024-12-16T03:22:55.660057Z",
     "shell.execute_reply": "2024-12-16T03:22:55.659874Z"
    }
   },
   "outputs": [
    {
     "data": {
      "image/svg+xml": [
       "<?xml version=\"1.0\" encoding=\"UTF-8\" standalone=\"no\"?><svg xmlns=\"http://www.w3.org/2000/svg\" xmlns:xlink=\"http://www.w3.org/1999/xlink\" contentStyleType=\"text/css\" height=\"829px\" preserveAspectRatio=\"none\" style=\"width:277px;height:829px;background:#FFFFFF;\" version=\"1.1\" viewBox=\"0 0 277 829\" width=\"277px\" zoomAndPan=\"magnify\"><defs/><g><!--MD5=[fbc87193dbaf4d95561dea2c320d4a47]\n",
       "cluster E1--><g id=\"cluster_E1\"><a href=\"psysml:b50080a1-e82f-4c80-9a3f-5d66ab4e7e23\" target=\"_top\" title=\"psysml:b50080a1-e82f-4c80-9a3f-5d66ab4e7e23\" xlink:actuate=\"onRequest\" xlink:href=\"psysml:b50080a1-e82f-4c80-9a3f-5d66ab4e7e23\" xlink:show=\"new\" xlink:title=\"psysml:b50080a1-e82f-4c80-9a3f-5d66ab4e7e23\" xlink:type=\"simple\"><polygon fill=\"none\" points=\"16,6,86.5,6,93.5,28.2969,260,28.2969,260,822,16,822,16,6\" style=\"stroke:#000000;stroke-width:1.5;\"/><line style=\"stroke:#000000;stroke-width:1.5;\" x1=\"16\" x2=\"93.5\" y1=\"28.2969\" y2=\"28.2969\"/><text fill=\"#000000\" font-family=\"sans-serif\" font-size=\"14\" font-weight=\"bold\" lengthAdjust=\"spacing\" textLength=\"64.5\" x=\"20\" y=\"20.9951\">ItemTest</text></a></g><!--MD5=[b4997ac47864f28c2f74865a473b2911]\n",
       "class E2--><a href=\"psysml:4d36820e-7c5e-46bd-9de5-e346cea54837\" target=\"_top\" title=\"psysml:4d36820e-7c5e-46bd-9de5-e346cea54837\" xlink:actuate=\"onRequest\" xlink:href=\"psysml:4d36820e-7c5e-46bd-9de5-e346cea54837\" xlink:show=\"new\" xlink:title=\"psysml:4d36820e-7c5e-46bd-9de5-e346cea54837\" xlink:type=\"simple\"><g id=\"elem_E2\"><rect fill=\"#FFFFFF\" height=\"48.2656\" id=\"E2\" rx=\"10\" ry=\"10\" style=\"stroke:#181818;stroke-width:0.5;\" width=\"43\" x=\"200.5\" y=\"150\"/><text fill=\"#000000\" font-family=\"sans-serif\" font-size=\"12\" font-style=\"italic\" lengthAdjust=\"spacing\" textLength=\"41\" x=\"201.5\" y=\"166.1387\">«item»</text><text fill=\"#000000\" font-family=\"sans-serif\" font-size=\"14\" lengthAdjust=\"spacing\" textLength=\"22\" x=\"207\" y=\"181.9639\">f: A</text><line style=\"stroke:#181818;stroke-width:0.5;\" x1=\"201.5\" x2=\"242.5\" y1=\"190.2656\" y2=\"190.2656\"/></g></a><!--MD5=[09b614a08d8cba4a07c9adeb5e0fee81]\n",
       "class E3--><a href=\"psysml:90a9c46f-1bc9-4470-bf4e-8ae555dfcfc9\" target=\"_top\" title=\"psysml:90a9c46f-1bc9-4470-bf4e-8ae555dfcfc9\" xlink:actuate=\"onRequest\" xlink:href=\"psysml:90a9c46f-1bc9-4470-bf4e-8ae555dfcfc9\" xlink:show=\"new\" xlink:title=\"psysml:90a9c46f-1bc9-4470-bf4e-8ae555dfcfc9\" xlink:type=\"simple\"><g id=\"elem_E3\"><rect fill=\"#FFFFFF\" height=\"48.2656\" id=\"E3\" style=\"stroke:#181818;stroke-width:0.5;\" width=\"71\" x=\"105.5\" y=\"259\"/><text fill=\"#000000\" font-family=\"sans-serif\" font-size=\"12\" font-style=\"italic\" lengthAdjust=\"spacing\" textLength=\"69\" x=\"106.5\" y=\"275.1387\">«item  def»</text><text fill=\"#000000\" font-family=\"sans-serif\" font-size=\"14\" lengthAdjust=\"spacing\" textLength=\"9\" x=\"136.5\" y=\"290.9639\">A</text><line style=\"stroke:#181818;stroke-width:0.5;\" x1=\"106.5\" x2=\"175.5\" y1=\"299.2656\" y2=\"299.2656\"/></g></a><!--MD5=[ebbe1d658d1005bcc118a6aa81145e00]\n",
       "class E4--><a href=\"psysml:d394e1d7-ba50-4340-ad50-ece704d14a42\" target=\"_top\" title=\"psysml:d394e1d7-ba50-4340-ad50-ece704d14a42\" xlink:actuate=\"onRequest\" xlink:href=\"psysml:d394e1d7-ba50-4340-ad50-ece704d14a42\" xlink:show=\"new\" xlink:title=\"psysml:d394e1d7-ba50-4340-ad50-ece704d14a42\" xlink:type=\"simple\"><g id=\"elem_E4\"><rect fill=\"#FFFFFF\" height=\"48.2656\" id=\"E4\" rx=\"10\" ry=\"10\" style=\"stroke:#181818;stroke-width:0.5;\" width=\"43\" x=\"48.5\" y=\"446\"/><text fill=\"#000000\" font-family=\"sans-serif\" font-size=\"12\" font-style=\"italic\" lengthAdjust=\"spacing\" textLength=\"41\" x=\"49.5\" y=\"462.1387\">«item»</text><text fill=\"#000000\" font-family=\"sans-serif\" font-size=\"14\" lengthAdjust=\"spacing\" textLength=\"28\" x=\"52\" y=\"477.9639\">b: B</text><line style=\"stroke:#181818;stroke-width:0.5;\" x1=\"49.5\" x2=\"90.5\" y1=\"486.2656\" y2=\"486.2656\"/></g></a><!--MD5=[270fce915f116d4de14055a7c1d9a0f3]\n",
       "class E5--><a href=\"psysml:af047218-2074-4cd5-be73-a9bc4fd53c73\" target=\"_top\" title=\"psysml:af047218-2074-4cd5-be73-a9bc4fd53c73\" xlink:actuate=\"onRequest\" xlink:href=\"psysml:af047218-2074-4cd5-be73-a9bc4fd53c73\" xlink:show=\"new\" xlink:title=\"psysml:af047218-2074-4cd5-be73-a9bc4fd53c73\" xlink:type=\"simple\"><g id=\"elem_E5\"><rect fill=\"#FFFFFF\" height=\"48.2656\" id=\"E5\" rx=\"10\" ry=\"10\" style=\"stroke:#181818;stroke-width:0.5;\" width=\"42\" x=\"157\" y=\"368\"/><text fill=\"#000000\" font-family=\"sans-serif\" font-size=\"12\" font-style=\"italic\" lengthAdjust=\"spacing\" textLength=\"40\" x=\"158\" y=\"384.1387\">«part»</text><text fill=\"#000000\" font-family=\"sans-serif\" font-size=\"14\" lengthAdjust=\"spacing\" textLength=\"27\" x=\"160.5\" y=\"399.9639\">c: C</text><line style=\"stroke:#181818;stroke-width:0.5;\" x1=\"158\" x2=\"198\" y1=\"408.2656\" y2=\"408.2656\"/></g></a><!--MD5=[60a26617385b1d2d0262a64233df1f8d]\n",
       "class E6--><a href=\"psysml:24ac0b44-19f7-4e7e-9d8c-29217623109a\" target=\"_top\" title=\"psysml:24ac0b44-19f7-4e7e-9d8c-29217623109a\" xlink:actuate=\"onRequest\" xlink:href=\"psysml:24ac0b44-19f7-4e7e-9d8c-29217623109a\" xlink:show=\"new\" xlink:title=\"psysml:24ac0b44-19f7-4e7e-9d8c-29217623109a\" xlink:type=\"simple\"><g id=\"elem_E6\"><rect fill=\"#FFFFFF\" height=\"48.2656\" id=\"E6\" style=\"stroke:#181818;stroke-width:0.5;\" width=\"71\" x=\"116.5\" y=\"649\"/><text fill=\"#000000\" font-family=\"sans-serif\" font-size=\"12\" font-style=\"italic\" lengthAdjust=\"spacing\" textLength=\"69\" x=\"117.5\" y=\"665.1387\">«item  def»</text><text fill=\"#000000\" font-family=\"sans-serif\" font-size=\"14\" font-style=\"italic\" lengthAdjust=\"spacing\" textLength=\"10\" x=\"147\" y=\"680.9639\">B</text><line style=\"stroke:#181818;stroke-width:0.5;\" x1=\"117.5\" x2=\"186.5\" y1=\"689.2656\" y2=\"689.2656\"/></g></a><!--MD5=[2156ba9850f5573cc1fc38a6a4b2f02b]\n",
       "class E7--><a href=\"psysml:f97762a5-be4a-40f0-b15f-ded6f9a0a2bf\" target=\"_top\" title=\"psysml:f97762a5-be4a-40f0-b15f-ded6f9a0a2bf\" xlink:actuate=\"onRequest\" xlink:href=\"psysml:f97762a5-be4a-40f0-b15f-ded6f9a0a2bf\" xlink:show=\"new\" xlink:title=\"psysml:f97762a5-be4a-40f0-b15f-ded6f9a0a2bf\" xlink:type=\"simple\"><g id=\"elem_E7\"><rect fill=\"#FFFFFF\" height=\"48.2656\" id=\"E7\" rx=\"10\" ry=\"10\" style=\"stroke:#181818;stroke-width:0.5;\" width=\"42\" x=\"167\" y=\"758\"/><text fill=\"#000000\" font-family=\"sans-serif\" font-size=\"12\" font-style=\"italic\" lengthAdjust=\"spacing\" textLength=\"40\" x=\"168\" y=\"774.1387\">«part»</text><text fill=\"#000000\" font-family=\"sans-serif\" font-size=\"14\" font-style=\"italic\" lengthAdjust=\"spacing\" textLength=\"8\" x=\"171\" y=\"789.9639\">a</text><text fill=\"#000000\" font-family=\"sans-serif\" font-size=\"14\" lengthAdjust=\"spacing\" textLength=\"18\" x=\"179\" y=\"789.9639\">: A</text><line style=\"stroke:#181818;stroke-width:0.5;\" x1=\"168\" x2=\"208\" y1=\"798.2656\" y2=\"798.2656\"/></g></a><!--MD5=[b9389687b975829384b498ac4b7476b2]\n",
       "class E8--><a href=\"psysml:2119f9fa-e703-4679-adcc-c9e3fda7136e\" target=\"_top\" title=\"psysml:2119f9fa-e703-4679-adcc-c9e3fda7136e\" xlink:actuate=\"onRequest\" xlink:href=\"psysml:2119f9fa-e703-4679-adcc-c9e3fda7136e\" xlink:show=\"new\" xlink:title=\"psysml:2119f9fa-e703-4679-adcc-c9e3fda7136e\" xlink:type=\"simple\"><g id=\"elem_E8\"><rect fill=\"#FFFFFF\" height=\"48.2656\" id=\"E8\" style=\"stroke:#181818;stroke-width:0.5;\" width=\"70\" x=\"117\" y=\"524\"/><text fill=\"#000000\" font-family=\"sans-serif\" font-size=\"12\" font-style=\"italic\" lengthAdjust=\"spacing\" textLength=\"68\" x=\"118\" y=\"540.1387\">«part  def»</text><text fill=\"#000000\" font-family=\"sans-serif\" font-size=\"14\" lengthAdjust=\"spacing\" textLength=\"10\" x=\"147\" y=\"555.9639\">C</text><line style=\"stroke:#181818;stroke-width:0.5;\" x1=\"118\" x2=\"186\" y1=\"564.2656\" y2=\"564.2656\"/></g></a><!--MD5=[fd4143e9d270a159db93a4ea2a975926]\n",
       "class E9--><a href=\"psysml:f9be0f9f-7828-47af-b676-a3098923450b\" target=\"_top\" title=\"psysml:f9be0f9f-7828-47af-b676-a3098923450b\" xlink:actuate=\"onRequest\" xlink:href=\"psysml:f9be0f9f-7828-47af-b676-a3098923450b\" xlink:show=\"new\" xlink:title=\"psysml:f9be0f9f-7828-47af-b676-a3098923450b\" xlink:type=\"simple\"><g id=\"elem_E9\"><rect fill=\"#FFFFFF\" height=\"48.2656\" id=\"E9\" style=\"stroke:#181818;stroke-width:0.5;\" width=\"70\" x=\"69\" y=\"41\"/><text fill=\"#000000\" font-family=\"sans-serif\" font-size=\"12\" font-style=\"italic\" lengthAdjust=\"spacing\" textLength=\"68\" x=\"70\" y=\"57.1387\">«port  def»</text><text fill=\"#000000\" font-family=\"sans-serif\" font-size=\"14\" lengthAdjust=\"spacing\" textLength=\"9\" x=\"99.5\" y=\"72.9639\">P</text><line style=\"stroke:#181818;stroke-width:0.5;\" x1=\"70\" x2=\"138\" y1=\"81.2656\" y2=\"81.2656\"/></g></a><!--MD5=[96f4274e9e20536e775497830990834d]\n",
       "class E10--><a href=\"psysml:bdd21edf-ffb1-47e0-8301-b129ba721304\" target=\"_top\" title=\"psysml:bdd21edf-ffb1-47e0-8301-b129ba721304\" xlink:actuate=\"onRequest\" xlink:href=\"psysml:bdd21edf-ffb1-47e0-8301-b129ba721304\" xlink:show=\"new\" xlink:title=\"psysml:bdd21edf-ffb1-47e0-8301-b129ba721304\" xlink:type=\"simple\"><g id=\"elem_E10\"><rect fill=\"#FFFFFF\" height=\"48.2656\" id=\"E10\" rx=\"10\" ry=\"10\" style=\"stroke:#181818;stroke-width:0.5;\" width=\"49\" x=\"32.5\" y=\"150\"/><text fill=\"#000000\" font-family=\"sans-serif\" font-size=\"12\" font-style=\"italic\" lengthAdjust=\"spacing\" textLength=\"41\" x=\"36.5\" y=\"166.1387\">«item»</text><text fill=\"#000000\" font-family=\"sans-serif\" font-size=\"14\" lengthAdjust=\"spacing\" textLength=\"35\" x=\"35.5\" y=\"181.9639\">a1: A</text><line style=\"stroke:#181818;stroke-width:0.5;\" x1=\"33.5\" x2=\"80.5\" y1=\"190.2656\" y2=\"190.2656\"/></g></a><!--MD5=[1dd1bfd58a279cf63c5f349dbc8fc6a1]\n",
       "class E11--><a href=\"psysml:ea86bb80-7fc3-4478-bdc0-15728142c0fa\" target=\"_top\" title=\"psysml:ea86bb80-7fc3-4478-bdc0-15728142c0fa\" xlink:actuate=\"onRequest\" xlink:href=\"psysml:ea86bb80-7fc3-4478-bdc0-15728142c0fa\" xlink:show=\"new\" xlink:title=\"psysml:ea86bb80-7fc3-4478-bdc0-15728142c0fa\" xlink:type=\"simple\"><g id=\"elem_E11\"><rect fill=\"#FFFFFF\" height=\"48.2656\" id=\"E11\" rx=\"10\" ry=\"10\" style=\"stroke:#181818;stroke-width:0.5;\" width=\"49\" x=\"116.5\" y=\"150\"/><text fill=\"#000000\" font-family=\"sans-serif\" font-size=\"12\" font-style=\"italic\" lengthAdjust=\"spacing\" textLength=\"41\" x=\"120.5\" y=\"166.1387\">«item»</text><text fill=\"#000000\" font-family=\"sans-serif\" font-size=\"14\" lengthAdjust=\"spacing\" textLength=\"35\" x=\"119.5\" y=\"181.9639\">a2: A</text><line style=\"stroke:#181818;stroke-width:0.5;\" x1=\"117.5\" x2=\"164.5\" y1=\"190.2656\" y2=\"190.2656\"/></g></a><!--MD5=[2720a5a1f2c3fca2055b230370638851]\n",
       "link E2 to E3--><g id=\"link_E2_E3\"><a href=\"psysml:358bd963-d6cf-4c51-9d97-dc29b520688f\" target=\"_top\" title=\"psysml:358bd963-d6cf-4c51-9d97-dc29b520688f\" xlink:actuate=\"onRequest\" xlink:href=\"psysml:358bd963-d6cf-4c51-9d97-dc29b520688f\" xlink:show=\"new\" xlink:title=\"psysml:358bd963-d6cf-4c51-9d97-dc29b520688f\" xlink:type=\"simple\"><path d=\"M204.42,198.22 C194.55,211.26 181.97,227.88 170.62,242.87 \" fill=\"none\" id=\"E2-to-E3\" style=\"stroke:#181818;stroke-width:1.0;\"/><polygon fill=\"#FFFFFF\" points=\"158.54,258.83,164.4286,239.4567,175.5901,247.9078,158.54,258.83\" style=\"stroke:#181818;stroke-width:1.0;\"/><ellipse cx=\"169.4639\" cy=\"236.1197\" fill=\"#181818\" rx=\"2\" ry=\"2\" style=\"stroke:#181818;stroke-width:1.0;\"/><ellipse cx=\"177.4364\" cy=\"242.1562\" fill=\"#181818\" rx=\"2\" ry=\"2\" style=\"stroke:#181818;stroke-width:1.0;\"/></a></g><!--MD5=[4672eba38e49728da53d11aeb285b987]\n",
       "reverse link E3 to E4--><g id=\"link_E3_E4\"><a href=\"psysml:724ffe94-cfbf-4ea2-b315-6baf1a587f0c\" target=\"_top\" title=\"psysml:724ffe94-cfbf-4ea2-b315-6baf1a587f0c\" xlink:actuate=\"onRequest\" xlink:href=\"psysml:724ffe94-cfbf-4ea2-b315-6baf1a587f0c\" xlink:show=\"new\" xlink:title=\"psysml:724ffe94-cfbf-4ea2-b315-6baf1a587f0c\" xlink:type=\"simple\"><path d=\"M104.38,316.32 C90.85,330.64 77.09,348.62 70,368 C60.72,393.36 62.6,424.76 65.58,445.75 \" fill=\"none\" id=\"E3-backto-E4\" style=\"stroke:#181818;stroke-width:1.0;\"/><polygon fill=\"#181818\" points=\"113.62,307.02,106.5522,308.4507,105.1545,315.525,112.2223,314.0943,113.62,307.02\" style=\"stroke:#181818;stroke-width:1.0;\"/></a></g><!--MD5=[191cde3d490a3f6d7bb551fe3ddca469]\n",
       "reverse link E3 to E5--><g id=\"link_E3_E5\"><a href=\"psysml:9c72d63b-be6b-487b-af19-53b3ed2c634b\" target=\"_top\" title=\"psysml:9c72d63b-be6b-487b-af19-53b3ed2c634b\" xlink:actuate=\"onRequest\" xlink:href=\"psysml:9c72d63b-be6b-487b-af19-53b3ed2c634b\" xlink:show=\"new\" xlink:title=\"psysml:9c72d63b-be6b-487b-af19-53b3ed2c634b\" xlink:type=\"simple\"><path d=\"M153.39,319.83 C158.86,335.66 165.14,353.82 169.99,367.83 \" fill=\"none\" id=\"E3-backto-E5\" style=\"stroke:#181818;stroke-width:1.0;\"/><polygon fill=\"none\" points=\"149.03,307.22,147.2077,314.1971,152.9472,318.5627,154.7695,311.5856,149.03,307.22\" style=\"stroke:#181818;stroke-width:1.0;\"/></a></g><!--MD5=[79568f1e445c3877b6a54524624ccc7d]\n",
       "link E4 to E6--><g id=\"link_E4_E6\"><a href=\"psysml:c1d845e5-90b4-4786-9172-2f85f48f902a\" target=\"_top\" title=\"psysml:c1d845e5-90b4-4786-9172-2f85f48f902a\" xlink:actuate=\"onRequest\" xlink:href=\"psysml:c1d845e5-90b4-4786-9172-2f85f48f902a\" xlink:show=\"new\" xlink:title=\"psysml:c1d845e5-90b4-4786-9172-2f85f48f902a\" xlink:type=\"simple\"><path d=\"M75.57,494.29 C80.84,515.04 89.51,546.05 100,572 C108.08,591.98 118.83,613.29 128.46,631.07 \" fill=\"none\" id=\"E4-to-E6\" style=\"stroke:#181818;stroke-width:1.0;\"/><polygon fill=\"#FFFFFF\" points=\"138.29,648.76,122.9437,635.5505,135.1819,628.7515,138.29,648.76\" style=\"stroke:#181818;stroke-width:1.0;\"/><ellipse cx=\"121.9238\" cy=\"629.5965\" fill=\"#181818\" rx=\"2\" ry=\"2\" style=\"stroke:#181818;stroke-width:1.0;\"/><ellipse cx=\"130.6654\" cy=\"624.7401\" fill=\"#181818\" rx=\"2\" ry=\"2\" style=\"stroke:#181818;stroke-width:1.0;\"/></a></g><!--MD5=[3f50a3473f1dfb74d3f76443e03635af]\n",
       "reverse link E6 to E7--><g id=\"link_E6_E7\"><a href=\"psysml:ee76f7ce-c996-4988-9b1a-5ac16ad8d066\" target=\"_top\" title=\"psysml:ee76f7ce-c996-4988-9b1a-5ac16ad8d066\" xlink:actuate=\"onRequest\" xlink:href=\"psysml:ee76f7ce-c996-4988-9b1a-5ac16ad8d066\" xlink:show=\"new\" xlink:title=\"psysml:ee76f7ce-c996-4988-9b1a-5ac16ad8d066\" xlink:type=\"simple\"><path d=\"M164.05,709.83 C169.38,725.66 175.49,743.82 180.2,757.83 \" fill=\"none\" id=\"E6-backto-E7\" style=\"stroke:#181818;stroke-width:1.0;\"/><polygon fill=\"#181818\" points=\"159.81,697.22,157.9296,704.1816,163.6324,708.5949,165.5128,701.6333,159.81,697.22\" style=\"stroke:#181818;stroke-width:1.0;\"/></a></g><!--MD5=[14ccda38c055a5c0da953d572bc50960]\n",
       "link E7 to E3--><g id=\"link_E7_E3\"><a href=\"psysml:1cb41c8a-3888-4a6d-b592-33957295a7ee\" target=\"_top\" title=\"psysml:1cb41c8a-3888-4a6d-b592-33957295a7ee\" xlink:actuate=\"onRequest\" xlink:href=\"psysml:1cb41c8a-3888-4a6d-b592-33957295a7ee\" xlink:show=\"new\" xlink:title=\"psysml:1cb41c8a-3888-4a6d-b592-33957295a7ee\" xlink:type=\"simple\"><path d=\"M204.97,757.64 C218.43,736.78 235,704.84 235,674 C235,391 235,391 235,391 C235,361.35 214.38,336.01 192.46,317.43 \" fill=\"none\" id=\"E7-to-E3\" style=\"stroke:#181818;stroke-width:1.0;\"/><polygon fill=\"#FFFFFF\" points=\"176.54,305.14,195.8578,311.2081,187.3035,322.2907,176.54,305.14\" style=\"stroke:#181818;stroke-width:1.0;\"/><ellipse cx=\"199.148\" cy=\"316.2741\" fill=\"#181818\" rx=\"2\" ry=\"2\" style=\"stroke:#181818;stroke-width:1.0;\"/><ellipse cx=\"193.0378\" cy=\"324.1903\" fill=\"#181818\" rx=\"2\" ry=\"2\" style=\"stroke:#181818;stroke-width:1.0;\"/></a></g><!--MD5=[dfaffb906826c3e5aca635516100ff21]\n",
       "link E5 to E8--><g id=\"link_E5_E8\"><a href=\"psysml:b2862137-6a73-49a4-ad0f-48652eafb24c\" target=\"_top\" title=\"psysml:b2862137-6a73-49a4-ad0f-48652eafb24c\" xlink:actuate=\"onRequest\" xlink:href=\"psysml:b2862137-6a73-49a4-ad0f-48652eafb24c\" xlink:show=\"new\" xlink:title=\"psysml:b2862137-6a73-49a4-ad0f-48652eafb24c\" xlink:type=\"simple\"><path d=\"M174.11,416.06 C170.2,439.19 164.09,475.38 159.28,503.86 \" fill=\"none\" id=\"E5-to-E8\" style=\"stroke:#181818;stroke-width:1.0;\"/><polygon fill=\"#FFFFFF\" points=\"155.92,523.79,152.1809,503.8898,165.9855,506.2206,155.92,523.79\" style=\"stroke:#181818;stroke-width:1.0;\"/><ellipse cx=\"155.1019\" cy=\"498.6023\" fill=\"#181818\" rx=\"2\" ry=\"2\" style=\"stroke:#181818;stroke-width:1.0;\"/><ellipse cx=\"164.9624\" cy=\"500.2671\" fill=\"#181818\" rx=\"2\" ry=\"2\" style=\"stroke:#181818;stroke-width:1.0;\"/></a></g><!--MD5=[03c8294790d3c57651a1993cecff665f]\n",
       "reverse link E8 to E3--><g id=\"link_E8_E3\"><a href=\"psysml:764dcc5f-c791-44bd-8fe4-0cc6162433fb\" target=\"_top\" title=\"psysml:764dcc5f-c791-44bd-8fe4-0cc6162433fb\" xlink:actuate=\"onRequest\" xlink:href=\"psysml:764dcc5f-c791-44bd-8fe4-0cc6162433fb\" xlink:show=\"new\" xlink:title=\"psysml:764dcc5f-c791-44bd-8fe4-0cc6162433fb\" xlink:type=\"simple\"><path d=\"M144.62,510.88 C139.66,484.68 133.57,448.31 131,416 C129.31,394.73 129.74,389.3 131,368 C132.23,347.33 135.14,323.95 137.5,307.11 \" fill=\"none\" id=\"E8-backto-E3\" style=\"stroke:#181818;stroke-width:1.0;\"/><polygon fill=\"none\" points=\"147.16,523.94,149.9387,517.2857,144.865,512.1615,142.0863,518.8158,147.16,523.94\" style=\"stroke:#181818;stroke-width:1.0;\"/><text fill=\"#000000\" font-family=\"sans-serif\" font-size=\"13\" lengthAdjust=\"spacing\" textLength=\"7\" x=\"132\" y=\"396.5669\">y</text></a></g><!--MD5=[0d75d2178373a6a4568e5dc728f58aef]\n",
       "reverse link E8 to E6--><g id=\"link_E8_E6\"><a href=\"psysml:764dcc5f-c791-44bd-8fe4-0cc6162433fb\" target=\"_top\" title=\"psysml:764dcc5f-c791-44bd-8fe4-0cc6162433fb\" xlink:actuate=\"onRequest\" xlink:href=\"psysml:764dcc5f-c791-44bd-8fe4-0cc6162433fb\" xlink:show=\"new\" xlink:title=\"psysml:764dcc5f-c791-44bd-8fe4-0cc6162433fb\" xlink:type=\"simple\"><path d=\"M152,585.21 C152,605.83 152,631.04 152,648.97 \" fill=\"none\" id=\"E8-backto-E6\" style=\"stroke:#181818;stroke-width:1.0;\"/><polygon fill=\"none\" points=\"152,572.14,148,578.14,152,584.14,156,578.14,152,572.14\" style=\"stroke:#181818;stroke-width:1.0;\"/><text fill=\"#000000\" font-family=\"sans-serif\" font-size=\"13\" lengthAdjust=\"spacing\" textLength=\"7\" x=\"153\" y=\"615.0669\">y</text></a></g><!--MD5=[23ac544a70576c3e717098101004234c]\n",
       "reverse link E9 to E10--><g id=\"link_E9_E10\"><a href=\"psysml:1f369bef-866d-4201-85d0-19625ffb0bd4\" target=\"_top\" title=\"psysml:1f369bef-866d-4201-85d0-19625ffb0bd4\" xlink:actuate=\"onRequest\" xlink:href=\"psysml:1f369bef-866d-4201-85d0-19625ffb0bd4\" xlink:show=\"new\" xlink:title=\"psysml:1f369bef-866d-4201-85d0-19625ffb0bd4\" xlink:type=\"simple\"><path d=\"M88.47,101.35 C81.47,117.29 73.39,135.68 67.18,149.83 \" fill=\"none\" id=\"E9-backto-E10\" style=\"stroke:#181818;stroke-width:1.0;\"/><polygon fill=\"none\" points=\"93.8,89.22,87.7243,93.1041,88.9729,100.2063,95.0485,96.3222,93.8,89.22\" style=\"stroke:#181818;stroke-width:1.0;\"/></a></g><!--MD5=[feeac5eb423634930294aa81f2d25a4c]\n",
       "link E10 to E3--><g id=\"link_E10_E3\"><a href=\"psysml:0dc69dec-387f-4606-9efc-6b8567a081cf\" target=\"_top\" title=\"psysml:0dc69dec-387f-4606-9efc-6b8567a081cf\" xlink:actuate=\"onRequest\" xlink:href=\"psysml:0dc69dec-387f-4606-9efc-6b8567a081cf\" xlink:show=\"new\" xlink:title=\"psysml:0dc69dec-387f-4606-9efc-6b8567a081cf\" xlink:type=\"simple\"><path d=\"M75.23,198.22 C85.46,211.26 98.51,227.88 110.28,242.87 \" fill=\"none\" id=\"E10-to-E3\" style=\"stroke:#181818;stroke-width:1.0;\"/><polygon fill=\"#FFFFFF\" points=\"122.81,258.83,105.5676,248.214,116.5764,239.565,122.81,258.83\" style=\"stroke:#181818;stroke-width:1.0;\"/><ellipse cx=\"103.6189\" cy=\"242.4963\" fill=\"#181818\" rx=\"2\" ry=\"2\" style=\"stroke:#181818;stroke-width:1.0;\"/><ellipse cx=\"111.4823\" cy=\"236.3184\" fill=\"#181818\" rx=\"2\" ry=\"2\" style=\"stroke:#181818;stroke-width:1.0;\"/></a></g><!--MD5=[1fc04a95fd77ad5ce46c1a3027516051]\n",
       "reverse link E9 to E11--><g id=\"link_E9_E11\"><a href=\"psysml:41147f3b-680c-4b19-9ea9-1ad0d7284d0b\" target=\"_top\" title=\"psysml:41147f3b-680c-4b19-9ea9-1ad0d7284d0b\" xlink:actuate=\"onRequest\" xlink:href=\"psysml:41147f3b-680c-4b19-9ea9-1ad0d7284d0b\" xlink:show=\"new\" xlink:title=\"psysml:41147f3b-680c-4b19-9ea9-1ad0d7284d0b\" xlink:type=\"simple\"><path d=\"M116.39,101.83 C121.86,117.66 128.14,135.82 132.99,149.83 \" fill=\"none\" id=\"E9-backto-E11\" style=\"stroke:#181818;stroke-width:1.0;\"/><polygon fill=\"none\" points=\"112.03,89.22,110.2077,96.1971,115.9472,100.5627,117.7695,93.5856,112.03,89.22\" style=\"stroke:#181818;stroke-width:1.0;\"/></a></g><!--MD5=[0517f1ce58c4d5483948f93845c45e26]\n",
       "link E11 to E3--><g id=\"link_E11_E3\"><a href=\"psysml:86cba12c-5c0b-4cb2-8a0f-652783ee7e3b\" target=\"_top\" title=\"psysml:86cba12c-5c0b-4cb2-8a0f-652783ee7e3b\" xlink:actuate=\"onRequest\" xlink:href=\"psysml:86cba12c-5c0b-4cb2-8a0f-652783ee7e3b\" xlink:show=\"new\" xlink:title=\"psysml:86cba12c-5c0b-4cb2-8a0f-652783ee7e3b\" xlink:type=\"simple\"><path d=\"M141,198.22 C141,210 141,224.69 141,238.48 \" fill=\"none\" id=\"E11-to-E3\" style=\"stroke:#181818;stroke-width:1.0;\"/><polygon fill=\"#FFFFFF\" points=\"141,258.83,134,239.83,148,239.83,141,258.83\" style=\"stroke:#181818;stroke-width:1.0;\"/><ellipse cx=\"136\" cy=\"234.13\" fill=\"#181818\" rx=\"2\" ry=\"2\" style=\"stroke:#181818;stroke-width:1.0;\"/><ellipse cx=\"146\" cy=\"234.13\" fill=\"#181818\" rx=\"2\" ry=\"2\" style=\"stroke:#181818;stroke-width:1.0;\"/></a></g><!--MD5=[b3ee8f18f9755d0d01e120c8950fb262]\n",
       "@startuml\r\n",
       "skin sysmlbw\r\n",
       "skinparam monochrome true\r\n",
       "skinparam wrapWidth 300\r\n",
       "hide circle\r\n",
       "\r\n",
       "package \"ItemTest\" as E1  [[psysml:b50080a1-e82f-4c80-9a3f-5d66ab4e7e23 ]]  {\r\n",
       "comp usage \"f: A  \" as E2  <<(T,blue) item>> [[psysml:4d36820e-7c5e-46bd-9de5-e346cea54837 ]] {\r\n",
       "}\r\n",
       "comp def \"A\" as E3  <<(T,blue) item  def>> [[psysml:90a9c46f-1bc9-4470-bf4e-8ae555dfcfc9 ]] {\r\n",
       "}\r\n",
       "comp usage \"b: B  \" as E4  <<(T,blue) item>> [[psysml:d394e1d7-ba50-4340-ad50-ece704d14a42 ]] {\r\n",
       "}\r\n",
       "comp usage \"c: C  \" as E5  <<(T,blue) part>> [[psysml:af047218-2074-4cd5-be73-a9bc4fd53c73 ]] {\r\n",
       "}\r\n",
       "comp def \"<i>B</i>\" as E6  <<(T,blue) item  def>> [[psysml:24ac0b44-19f7-4e7e-9d8c-29217623109a ]] {\r\n",
       "}\r\n",
       "comp usage \"<i>a</i>: A  \" as E7  <<(T,blue) part>> [[psysml:f97762a5-be4a-40f0-b15f-ded6f9a0a2bf ]] {\r\n",
       "}\r\n",
       "comp def \"C\" as E8  <<(T,blue) part  def>> [[psysml:2119f9fa-e703-4679-adcc-c9e3fda7136e ]] {\r\n",
       "}\r\n",
       "comp def \"P\" as E9  <<(T,blue) port  def>> [[psysml:f9be0f9f-7828-47af-b676-a3098923450b ]] {\r\n",
       "}\r\n",
       "comp usage \"a1: A  \" as E10  <<(T,blue) item>> [[psysml:bdd21edf-ffb1-47e0-8301-b129ba721304 ]] {\r\n",
       "}\r\n",
       "comp usage \"a2: A  \" as E11  <<(T,blue) item>> [[psysml:ea86bb80-7fc3-4478-bdc0-15728142c0fa ]] {\r\n",
       "}\r\n",
       "}\r\n",
       "E2 - -:|> E3 [[psysml:358bd963-d6cf-4c51-9d97-dc29b520688f ]] \r\n",
       "E3 *- - E4 [[psysml:724ffe94-cfbf-4ea2-b315-6baf1a587f0c ]] \r\n",
       "E3 o- - E5 [[psysml:9c72d63b-be6b-487b-af19-53b3ed2c634b ]] \r\n",
       "E4 - -:|> E6 [[psysml:c1d845e5-90b4-4786-9172-2f85f48f902a ]] \r\n",
       "E6 *- - E7 [[psysml:ee76f7ce-c996-4988-9b1a-5ac16ad8d066 ]] \r\n",
       "E7 - -:|> E3 [[psysml:1cb41c8a-3888-4a6d-b592-33957295a7ee ]] \r\n",
       "E5 - -:|> E8 [[psysml:b2862137-6a73-49a4-ad0f-48652eafb24c ]] \r\n",
       "E8 o- - E3 [[psysml:764dcc5f-c791-44bd-8fe4-0cc6162433fb ]] : y\r\n",
       "E8 o- - E6 [[psysml:764dcc5f-c791-44bd-8fe4-0cc6162433fb ]] : y\r\n",
       "E9 o- - E10 [[psysml:1f369bef-866d-4201-85d0-19625ffb0bd4 ]] \r\n",
       "E10 - -:|> E3 [[psysml:0dc69dec-387f-4606-9efc-6b8567a081cf ]] \r\n",
       "E9 o- - E11 [[psysml:41147f3b-680c-4b19-9ea9-1ad0d7284d0b ]] \r\n",
       "E11 - -:|> E3 [[psysml:86cba12c-5c0b-4cb2-8a0f-652783ee7e3b ]] \r\n",
       "@enduml\r\n",
       "\n",
       "PlantUML version 1.2022.7(Mon Aug 22 17:01:30 UTC 2022)\n",
       "(EPL source distribution)\n",
       "Java Runtime: OpenJDK Runtime Environment\n",
       "JVM: OpenJDK 64-Bit Server VM\n",
       "Default Encoding: UTF-8\n",
       "Language: en\n",
       "Country: null\n",
       "--></g></svg>"
      ]
     },
     "execution_count": 37,
     "metadata": {},
     "output_type": "execute_result"
    }
   ],
   "source": [
    "%viz --style=\"DEFAULT\" --view=\"Default\" \"ItemTest\""
   ]
  },
  {
   "cell_type": "code",
   "execution_count": 38,
   "id": "b2ef9c34",
   "metadata": {
    "execution": {
     "iopub.execute_input": "2024-12-16T03:22:55.715751Z",
     "iopub.status.busy": "2024-12-16T03:22:55.715557Z",
     "iopub.status.idle": "2024-12-16T03:22:55.737124Z",
     "shell.execute_reply": "2024-12-16T03:22:55.736938Z"
    }
   },
   "outputs": [
    {
     "data": {
      "image/svg+xml": [
       "<?xml version=\"1.0\" encoding=\"UTF-8\" standalone=\"no\"?><svg xmlns=\"http://www.w3.org/2000/svg\" xmlns:xlink=\"http://www.w3.org/1999/xlink\" contentStyleType=\"text/css\" height=\"829px\" preserveAspectRatio=\"none\" style=\"width:277px;height:829px;background:#FFFFFF;\" version=\"1.1\" viewBox=\"0 0 277 829\" width=\"277px\" zoomAndPan=\"magnify\"><defs/><g><!--MD5=[fbc87193dbaf4d95561dea2c320d4a47]\n",
       "cluster E1--><g id=\"cluster_E1\"><a href=\"psysml:b50080a1-e82f-4c80-9a3f-5d66ab4e7e23\" target=\"_top\" title=\"psysml:b50080a1-e82f-4c80-9a3f-5d66ab4e7e23\" xlink:actuate=\"onRequest\" xlink:href=\"psysml:b50080a1-e82f-4c80-9a3f-5d66ab4e7e23\" xlink:show=\"new\" xlink:title=\"psysml:b50080a1-e82f-4c80-9a3f-5d66ab4e7e23\" xlink:type=\"simple\"><polygon fill=\"none\" points=\"16,6,86.5,6,93.5,28.2969,260,28.2969,260,822,16,822,16,6\" style=\"stroke:#000000;stroke-width:1.5;\"/><line style=\"stroke:#000000;stroke-width:1.5;\" x1=\"16\" x2=\"93.5\" y1=\"28.2969\" y2=\"28.2969\"/><text fill=\"#000000\" font-family=\"sans-serif\" font-size=\"14\" font-weight=\"bold\" lengthAdjust=\"spacing\" textLength=\"64.5\" x=\"20\" y=\"20.9951\">ItemTest</text></a></g><!--MD5=[b4997ac47864f28c2f74865a473b2911]\n",
       "class E2--><a href=\"psysml:4d36820e-7c5e-46bd-9de5-e346cea54837\" target=\"_top\" title=\"psysml:4d36820e-7c5e-46bd-9de5-e346cea54837\" xlink:actuate=\"onRequest\" xlink:href=\"psysml:4d36820e-7c5e-46bd-9de5-e346cea54837\" xlink:show=\"new\" xlink:title=\"psysml:4d36820e-7c5e-46bd-9de5-e346cea54837\" xlink:type=\"simple\"><g id=\"elem_E2\"><rect fill=\"#FFFFFF\" height=\"48.2656\" id=\"E2\" rx=\"10\" ry=\"10\" style=\"stroke:#181818;stroke-width:0.5;\" width=\"43\" x=\"200.5\" y=\"150\"/><text fill=\"#000000\" font-family=\"sans-serif\" font-size=\"12\" font-style=\"italic\" lengthAdjust=\"spacing\" textLength=\"41\" x=\"201.5\" y=\"166.1387\">«item»</text><text fill=\"#000000\" font-family=\"sans-serif\" font-size=\"14\" lengthAdjust=\"spacing\" textLength=\"22\" x=\"207\" y=\"181.9639\">f: A</text><line style=\"stroke:#181818;stroke-width:0.5;\" x1=\"201.5\" x2=\"242.5\" y1=\"190.2656\" y2=\"190.2656\"/></g></a><!--MD5=[09b614a08d8cba4a07c9adeb5e0fee81]\n",
       "class E3--><a href=\"psysml:90a9c46f-1bc9-4470-bf4e-8ae555dfcfc9\" target=\"_top\" title=\"psysml:90a9c46f-1bc9-4470-bf4e-8ae555dfcfc9\" xlink:actuate=\"onRequest\" xlink:href=\"psysml:90a9c46f-1bc9-4470-bf4e-8ae555dfcfc9\" xlink:show=\"new\" xlink:title=\"psysml:90a9c46f-1bc9-4470-bf4e-8ae555dfcfc9\" xlink:type=\"simple\"><g id=\"elem_E3\"><rect fill=\"#FFFFFF\" height=\"48.2656\" id=\"E3\" style=\"stroke:#181818;stroke-width:0.5;\" width=\"71\" x=\"105.5\" y=\"259\"/><text fill=\"#000000\" font-family=\"sans-serif\" font-size=\"12\" font-style=\"italic\" lengthAdjust=\"spacing\" textLength=\"69\" x=\"106.5\" y=\"275.1387\">«item  def»</text><text fill=\"#000000\" font-family=\"sans-serif\" font-size=\"14\" lengthAdjust=\"spacing\" textLength=\"9\" x=\"136.5\" y=\"290.9639\">A</text><line style=\"stroke:#181818;stroke-width:0.5;\" x1=\"106.5\" x2=\"175.5\" y1=\"299.2656\" y2=\"299.2656\"/></g></a><!--MD5=[ebbe1d658d1005bcc118a6aa81145e00]\n",
       "class E4--><a href=\"psysml:d394e1d7-ba50-4340-ad50-ece704d14a42\" target=\"_top\" title=\"psysml:d394e1d7-ba50-4340-ad50-ece704d14a42\" xlink:actuate=\"onRequest\" xlink:href=\"psysml:d394e1d7-ba50-4340-ad50-ece704d14a42\" xlink:show=\"new\" xlink:title=\"psysml:d394e1d7-ba50-4340-ad50-ece704d14a42\" xlink:type=\"simple\"><g id=\"elem_E4\"><rect fill=\"#FFFFFF\" height=\"48.2656\" id=\"E4\" rx=\"10\" ry=\"10\" style=\"stroke:#181818;stroke-width:0.5;\" width=\"43\" x=\"48.5\" y=\"446\"/><text fill=\"#000000\" font-family=\"sans-serif\" font-size=\"12\" font-style=\"italic\" lengthAdjust=\"spacing\" textLength=\"41\" x=\"49.5\" y=\"462.1387\">«item»</text><text fill=\"#000000\" font-family=\"sans-serif\" font-size=\"14\" lengthAdjust=\"spacing\" textLength=\"28\" x=\"52\" y=\"477.9639\">b: B</text><line style=\"stroke:#181818;stroke-width:0.5;\" x1=\"49.5\" x2=\"90.5\" y1=\"486.2656\" y2=\"486.2656\"/></g></a><!--MD5=[270fce915f116d4de14055a7c1d9a0f3]\n",
       "class E5--><a href=\"psysml:af047218-2074-4cd5-be73-a9bc4fd53c73\" target=\"_top\" title=\"psysml:af047218-2074-4cd5-be73-a9bc4fd53c73\" xlink:actuate=\"onRequest\" xlink:href=\"psysml:af047218-2074-4cd5-be73-a9bc4fd53c73\" xlink:show=\"new\" xlink:title=\"psysml:af047218-2074-4cd5-be73-a9bc4fd53c73\" xlink:type=\"simple\"><g id=\"elem_E5\"><rect fill=\"#FFFFFF\" height=\"48.2656\" id=\"E5\" rx=\"10\" ry=\"10\" style=\"stroke:#181818;stroke-width:0.5;\" width=\"42\" x=\"157\" y=\"368\"/><text fill=\"#000000\" font-family=\"sans-serif\" font-size=\"12\" font-style=\"italic\" lengthAdjust=\"spacing\" textLength=\"40\" x=\"158\" y=\"384.1387\">«part»</text><text fill=\"#000000\" font-family=\"sans-serif\" font-size=\"14\" lengthAdjust=\"spacing\" textLength=\"27\" x=\"160.5\" y=\"399.9639\">c: C</text><line style=\"stroke:#181818;stroke-width:0.5;\" x1=\"158\" x2=\"198\" y1=\"408.2656\" y2=\"408.2656\"/></g></a><!--MD5=[60a26617385b1d2d0262a64233df1f8d]\n",
       "class E6--><a href=\"psysml:24ac0b44-19f7-4e7e-9d8c-29217623109a\" target=\"_top\" title=\"psysml:24ac0b44-19f7-4e7e-9d8c-29217623109a\" xlink:actuate=\"onRequest\" xlink:href=\"psysml:24ac0b44-19f7-4e7e-9d8c-29217623109a\" xlink:show=\"new\" xlink:title=\"psysml:24ac0b44-19f7-4e7e-9d8c-29217623109a\" xlink:type=\"simple\"><g id=\"elem_E6\"><rect fill=\"#FFFFFF\" height=\"48.2656\" id=\"E6\" style=\"stroke:#181818;stroke-width:0.5;\" width=\"71\" x=\"116.5\" y=\"649\"/><text fill=\"#000000\" font-family=\"sans-serif\" font-size=\"12\" font-style=\"italic\" lengthAdjust=\"spacing\" textLength=\"69\" x=\"117.5\" y=\"665.1387\">«item  def»</text><text fill=\"#000000\" font-family=\"sans-serif\" font-size=\"14\" font-style=\"italic\" lengthAdjust=\"spacing\" textLength=\"10\" x=\"147\" y=\"680.9639\">B</text><line style=\"stroke:#181818;stroke-width:0.5;\" x1=\"117.5\" x2=\"186.5\" y1=\"689.2656\" y2=\"689.2656\"/></g></a><!--MD5=[2156ba9850f5573cc1fc38a6a4b2f02b]\n",
       "class E7--><a href=\"psysml:f97762a5-be4a-40f0-b15f-ded6f9a0a2bf\" target=\"_top\" title=\"psysml:f97762a5-be4a-40f0-b15f-ded6f9a0a2bf\" xlink:actuate=\"onRequest\" xlink:href=\"psysml:f97762a5-be4a-40f0-b15f-ded6f9a0a2bf\" xlink:show=\"new\" xlink:title=\"psysml:f97762a5-be4a-40f0-b15f-ded6f9a0a2bf\" xlink:type=\"simple\"><g id=\"elem_E7\"><rect fill=\"#FFFFFF\" height=\"48.2656\" id=\"E7\" rx=\"10\" ry=\"10\" style=\"stroke:#181818;stroke-width:0.5;\" width=\"42\" x=\"167\" y=\"758\"/><text fill=\"#000000\" font-family=\"sans-serif\" font-size=\"12\" font-style=\"italic\" lengthAdjust=\"spacing\" textLength=\"40\" x=\"168\" y=\"774.1387\">«part»</text><text fill=\"#000000\" font-family=\"sans-serif\" font-size=\"14\" font-style=\"italic\" lengthAdjust=\"spacing\" textLength=\"8\" x=\"171\" y=\"789.9639\">a</text><text fill=\"#000000\" font-family=\"sans-serif\" font-size=\"14\" lengthAdjust=\"spacing\" textLength=\"18\" x=\"179\" y=\"789.9639\">: A</text><line style=\"stroke:#181818;stroke-width:0.5;\" x1=\"168\" x2=\"208\" y1=\"798.2656\" y2=\"798.2656\"/></g></a><!--MD5=[b9389687b975829384b498ac4b7476b2]\n",
       "class E8--><a href=\"psysml:2119f9fa-e703-4679-adcc-c9e3fda7136e\" target=\"_top\" title=\"psysml:2119f9fa-e703-4679-adcc-c9e3fda7136e\" xlink:actuate=\"onRequest\" xlink:href=\"psysml:2119f9fa-e703-4679-adcc-c9e3fda7136e\" xlink:show=\"new\" xlink:title=\"psysml:2119f9fa-e703-4679-adcc-c9e3fda7136e\" xlink:type=\"simple\"><g id=\"elem_E8\"><rect fill=\"#FFFFFF\" height=\"48.2656\" id=\"E8\" style=\"stroke:#181818;stroke-width:0.5;\" width=\"70\" x=\"117\" y=\"524\"/><text fill=\"#000000\" font-family=\"sans-serif\" font-size=\"12\" font-style=\"italic\" lengthAdjust=\"spacing\" textLength=\"68\" x=\"118\" y=\"540.1387\">«part  def»</text><text fill=\"#000000\" font-family=\"sans-serif\" font-size=\"14\" lengthAdjust=\"spacing\" textLength=\"10\" x=\"147\" y=\"555.9639\">C</text><line style=\"stroke:#181818;stroke-width:0.5;\" x1=\"118\" x2=\"186\" y1=\"564.2656\" y2=\"564.2656\"/></g></a><!--MD5=[fd4143e9d270a159db93a4ea2a975926]\n",
       "class E9--><a href=\"psysml:f9be0f9f-7828-47af-b676-a3098923450b\" target=\"_top\" title=\"psysml:f9be0f9f-7828-47af-b676-a3098923450b\" xlink:actuate=\"onRequest\" xlink:href=\"psysml:f9be0f9f-7828-47af-b676-a3098923450b\" xlink:show=\"new\" xlink:title=\"psysml:f9be0f9f-7828-47af-b676-a3098923450b\" xlink:type=\"simple\"><g id=\"elem_E9\"><rect fill=\"#FFFFFF\" height=\"48.2656\" id=\"E9\" style=\"stroke:#181818;stroke-width:0.5;\" width=\"70\" x=\"69\" y=\"41\"/><text fill=\"#000000\" font-family=\"sans-serif\" font-size=\"12\" font-style=\"italic\" lengthAdjust=\"spacing\" textLength=\"68\" x=\"70\" y=\"57.1387\">«port  def»</text><text fill=\"#000000\" font-family=\"sans-serif\" font-size=\"14\" lengthAdjust=\"spacing\" textLength=\"9\" x=\"99.5\" y=\"72.9639\">P</text><line style=\"stroke:#181818;stroke-width:0.5;\" x1=\"70\" x2=\"138\" y1=\"81.2656\" y2=\"81.2656\"/></g></a><!--MD5=[96f4274e9e20536e775497830990834d]\n",
       "class E10--><a href=\"psysml:bdd21edf-ffb1-47e0-8301-b129ba721304\" target=\"_top\" title=\"psysml:bdd21edf-ffb1-47e0-8301-b129ba721304\" xlink:actuate=\"onRequest\" xlink:href=\"psysml:bdd21edf-ffb1-47e0-8301-b129ba721304\" xlink:show=\"new\" xlink:title=\"psysml:bdd21edf-ffb1-47e0-8301-b129ba721304\" xlink:type=\"simple\"><g id=\"elem_E10\"><rect fill=\"#FFFFFF\" height=\"48.2656\" id=\"E10\" rx=\"10\" ry=\"10\" style=\"stroke:#181818;stroke-width:0.5;\" width=\"49\" x=\"32.5\" y=\"150\"/><text fill=\"#000000\" font-family=\"sans-serif\" font-size=\"12\" font-style=\"italic\" lengthAdjust=\"spacing\" textLength=\"41\" x=\"36.5\" y=\"166.1387\">«item»</text><text fill=\"#000000\" font-family=\"sans-serif\" font-size=\"14\" lengthAdjust=\"spacing\" textLength=\"35\" x=\"35.5\" y=\"181.9639\">a1: A</text><line style=\"stroke:#181818;stroke-width:0.5;\" x1=\"33.5\" x2=\"80.5\" y1=\"190.2656\" y2=\"190.2656\"/></g></a><!--MD5=[1dd1bfd58a279cf63c5f349dbc8fc6a1]\n",
       "class E11--><a href=\"psysml:ea86bb80-7fc3-4478-bdc0-15728142c0fa\" target=\"_top\" title=\"psysml:ea86bb80-7fc3-4478-bdc0-15728142c0fa\" xlink:actuate=\"onRequest\" xlink:href=\"psysml:ea86bb80-7fc3-4478-bdc0-15728142c0fa\" xlink:show=\"new\" xlink:title=\"psysml:ea86bb80-7fc3-4478-bdc0-15728142c0fa\" xlink:type=\"simple\"><g id=\"elem_E11\"><rect fill=\"#FFFFFF\" height=\"48.2656\" id=\"E11\" rx=\"10\" ry=\"10\" style=\"stroke:#181818;stroke-width:0.5;\" width=\"49\" x=\"116.5\" y=\"150\"/><text fill=\"#000000\" font-family=\"sans-serif\" font-size=\"12\" font-style=\"italic\" lengthAdjust=\"spacing\" textLength=\"41\" x=\"120.5\" y=\"166.1387\">«item»</text><text fill=\"#000000\" font-family=\"sans-serif\" font-size=\"14\" lengthAdjust=\"spacing\" textLength=\"35\" x=\"119.5\" y=\"181.9639\">a2: A</text><line style=\"stroke:#181818;stroke-width:0.5;\" x1=\"117.5\" x2=\"164.5\" y1=\"190.2656\" y2=\"190.2656\"/></g></a><!--MD5=[2720a5a1f2c3fca2055b230370638851]\n",
       "link E2 to E3--><g id=\"link_E2_E3\"><a href=\"psysml:358bd963-d6cf-4c51-9d97-dc29b520688f\" target=\"_top\" title=\"psysml:358bd963-d6cf-4c51-9d97-dc29b520688f\" xlink:actuate=\"onRequest\" xlink:href=\"psysml:358bd963-d6cf-4c51-9d97-dc29b520688f\" xlink:show=\"new\" xlink:title=\"psysml:358bd963-d6cf-4c51-9d97-dc29b520688f\" xlink:type=\"simple\"><path d=\"M204.42,198.22 C194.55,211.26 181.97,227.88 170.62,242.87 \" fill=\"none\" id=\"E2-to-E3\" style=\"stroke:#181818;stroke-width:1.0;\"/><polygon fill=\"#FFFFFF\" points=\"158.54,258.83,164.4286,239.4567,175.5901,247.9078,158.54,258.83\" style=\"stroke:#181818;stroke-width:1.0;\"/><ellipse cx=\"169.4639\" cy=\"236.1197\" fill=\"#181818\" rx=\"2\" ry=\"2\" style=\"stroke:#181818;stroke-width:1.0;\"/><ellipse cx=\"177.4364\" cy=\"242.1562\" fill=\"#181818\" rx=\"2\" ry=\"2\" style=\"stroke:#181818;stroke-width:1.0;\"/></a></g><!--MD5=[4672eba38e49728da53d11aeb285b987]\n",
       "reverse link E3 to E4--><g id=\"link_E3_E4\"><a href=\"psysml:724ffe94-cfbf-4ea2-b315-6baf1a587f0c\" target=\"_top\" title=\"psysml:724ffe94-cfbf-4ea2-b315-6baf1a587f0c\" xlink:actuate=\"onRequest\" xlink:href=\"psysml:724ffe94-cfbf-4ea2-b315-6baf1a587f0c\" xlink:show=\"new\" xlink:title=\"psysml:724ffe94-cfbf-4ea2-b315-6baf1a587f0c\" xlink:type=\"simple\"><path d=\"M104.38,316.32 C90.85,330.64 77.09,348.62 70,368 C60.72,393.36 62.6,424.76 65.58,445.75 \" fill=\"none\" id=\"E3-backto-E4\" style=\"stroke:#181818;stroke-width:1.0;\"/><polygon fill=\"#181818\" points=\"113.62,307.02,106.5522,308.4507,105.1545,315.525,112.2223,314.0943,113.62,307.02\" style=\"stroke:#181818;stroke-width:1.0;\"/></a></g><!--MD5=[191cde3d490a3f6d7bb551fe3ddca469]\n",
       "reverse link E3 to E5--><g id=\"link_E3_E5\"><a href=\"psysml:9c72d63b-be6b-487b-af19-53b3ed2c634b\" target=\"_top\" title=\"psysml:9c72d63b-be6b-487b-af19-53b3ed2c634b\" xlink:actuate=\"onRequest\" xlink:href=\"psysml:9c72d63b-be6b-487b-af19-53b3ed2c634b\" xlink:show=\"new\" xlink:title=\"psysml:9c72d63b-be6b-487b-af19-53b3ed2c634b\" xlink:type=\"simple\"><path d=\"M153.39,319.83 C158.86,335.66 165.14,353.82 169.99,367.83 \" fill=\"none\" id=\"E3-backto-E5\" style=\"stroke:#181818;stroke-width:1.0;\"/><polygon fill=\"none\" points=\"149.03,307.22,147.2077,314.1971,152.9472,318.5627,154.7695,311.5856,149.03,307.22\" style=\"stroke:#181818;stroke-width:1.0;\"/></a></g><!--MD5=[79568f1e445c3877b6a54524624ccc7d]\n",
       "link E4 to E6--><g id=\"link_E4_E6\"><a href=\"psysml:c1d845e5-90b4-4786-9172-2f85f48f902a\" target=\"_top\" title=\"psysml:c1d845e5-90b4-4786-9172-2f85f48f902a\" xlink:actuate=\"onRequest\" xlink:href=\"psysml:c1d845e5-90b4-4786-9172-2f85f48f902a\" xlink:show=\"new\" xlink:title=\"psysml:c1d845e5-90b4-4786-9172-2f85f48f902a\" xlink:type=\"simple\"><path d=\"M75.57,494.29 C80.84,515.04 89.51,546.05 100,572 C108.08,591.98 118.83,613.29 128.46,631.07 \" fill=\"none\" id=\"E4-to-E6\" style=\"stroke:#181818;stroke-width:1.0;\"/><polygon fill=\"#FFFFFF\" points=\"138.29,648.76,122.9437,635.5505,135.1819,628.7515,138.29,648.76\" style=\"stroke:#181818;stroke-width:1.0;\"/><ellipse cx=\"121.9238\" cy=\"629.5965\" fill=\"#181818\" rx=\"2\" ry=\"2\" style=\"stroke:#181818;stroke-width:1.0;\"/><ellipse cx=\"130.6654\" cy=\"624.7401\" fill=\"#181818\" rx=\"2\" ry=\"2\" style=\"stroke:#181818;stroke-width:1.0;\"/></a></g><!--MD5=[3f50a3473f1dfb74d3f76443e03635af]\n",
       "reverse link E6 to E7--><g id=\"link_E6_E7\"><a href=\"psysml:ee76f7ce-c996-4988-9b1a-5ac16ad8d066\" target=\"_top\" title=\"psysml:ee76f7ce-c996-4988-9b1a-5ac16ad8d066\" xlink:actuate=\"onRequest\" xlink:href=\"psysml:ee76f7ce-c996-4988-9b1a-5ac16ad8d066\" xlink:show=\"new\" xlink:title=\"psysml:ee76f7ce-c996-4988-9b1a-5ac16ad8d066\" xlink:type=\"simple\"><path d=\"M164.05,709.83 C169.38,725.66 175.49,743.82 180.2,757.83 \" fill=\"none\" id=\"E6-backto-E7\" style=\"stroke:#181818;stroke-width:1.0;\"/><polygon fill=\"#181818\" points=\"159.81,697.22,157.9296,704.1816,163.6324,708.5949,165.5128,701.6333,159.81,697.22\" style=\"stroke:#181818;stroke-width:1.0;\"/></a></g><!--MD5=[14ccda38c055a5c0da953d572bc50960]\n",
       "link E7 to E3--><g id=\"link_E7_E3\"><a href=\"psysml:1cb41c8a-3888-4a6d-b592-33957295a7ee\" target=\"_top\" title=\"psysml:1cb41c8a-3888-4a6d-b592-33957295a7ee\" xlink:actuate=\"onRequest\" xlink:href=\"psysml:1cb41c8a-3888-4a6d-b592-33957295a7ee\" xlink:show=\"new\" xlink:title=\"psysml:1cb41c8a-3888-4a6d-b592-33957295a7ee\" xlink:type=\"simple\"><path d=\"M204.97,757.64 C218.43,736.78 235,704.84 235,674 C235,391 235,391 235,391 C235,361.35 214.38,336.01 192.46,317.43 \" fill=\"none\" id=\"E7-to-E3\" style=\"stroke:#181818;stroke-width:1.0;\"/><polygon fill=\"#FFFFFF\" points=\"176.54,305.14,195.8578,311.2081,187.3035,322.2907,176.54,305.14\" style=\"stroke:#181818;stroke-width:1.0;\"/><ellipse cx=\"199.148\" cy=\"316.2741\" fill=\"#181818\" rx=\"2\" ry=\"2\" style=\"stroke:#181818;stroke-width:1.0;\"/><ellipse cx=\"193.0378\" cy=\"324.1903\" fill=\"#181818\" rx=\"2\" ry=\"2\" style=\"stroke:#181818;stroke-width:1.0;\"/></a></g><!--MD5=[dfaffb906826c3e5aca635516100ff21]\n",
       "link E5 to E8--><g id=\"link_E5_E8\"><a href=\"psysml:b2862137-6a73-49a4-ad0f-48652eafb24c\" target=\"_top\" title=\"psysml:b2862137-6a73-49a4-ad0f-48652eafb24c\" xlink:actuate=\"onRequest\" xlink:href=\"psysml:b2862137-6a73-49a4-ad0f-48652eafb24c\" xlink:show=\"new\" xlink:title=\"psysml:b2862137-6a73-49a4-ad0f-48652eafb24c\" xlink:type=\"simple\"><path d=\"M174.11,416.06 C170.2,439.19 164.09,475.38 159.28,503.86 \" fill=\"none\" id=\"E5-to-E8\" style=\"stroke:#181818;stroke-width:1.0;\"/><polygon fill=\"#FFFFFF\" points=\"155.92,523.79,152.1809,503.8898,165.9855,506.2206,155.92,523.79\" style=\"stroke:#181818;stroke-width:1.0;\"/><ellipse cx=\"155.1019\" cy=\"498.6023\" fill=\"#181818\" rx=\"2\" ry=\"2\" style=\"stroke:#181818;stroke-width:1.0;\"/><ellipse cx=\"164.9624\" cy=\"500.2671\" fill=\"#181818\" rx=\"2\" ry=\"2\" style=\"stroke:#181818;stroke-width:1.0;\"/></a></g><!--MD5=[03c8294790d3c57651a1993cecff665f]\n",
       "reverse link E8 to E3--><g id=\"link_E8_E3\"><a href=\"psysml:764dcc5f-c791-44bd-8fe4-0cc6162433fb\" target=\"_top\" title=\"psysml:764dcc5f-c791-44bd-8fe4-0cc6162433fb\" xlink:actuate=\"onRequest\" xlink:href=\"psysml:764dcc5f-c791-44bd-8fe4-0cc6162433fb\" xlink:show=\"new\" xlink:title=\"psysml:764dcc5f-c791-44bd-8fe4-0cc6162433fb\" xlink:type=\"simple\"><path d=\"M144.62,510.88 C139.66,484.68 133.57,448.31 131,416 C129.31,394.73 129.74,389.3 131,368 C132.23,347.33 135.14,323.95 137.5,307.11 \" fill=\"none\" id=\"E8-backto-E3\" style=\"stroke:#181818;stroke-width:1.0;\"/><polygon fill=\"none\" points=\"147.16,523.94,149.9387,517.2857,144.865,512.1615,142.0863,518.8158,147.16,523.94\" style=\"stroke:#181818;stroke-width:1.0;\"/><text fill=\"#000000\" font-family=\"sans-serif\" font-size=\"13\" lengthAdjust=\"spacing\" textLength=\"7\" x=\"132\" y=\"396.5669\">y</text></a></g><!--MD5=[0d75d2178373a6a4568e5dc728f58aef]\n",
       "reverse link E8 to E6--><g id=\"link_E8_E6\"><a href=\"psysml:764dcc5f-c791-44bd-8fe4-0cc6162433fb\" target=\"_top\" title=\"psysml:764dcc5f-c791-44bd-8fe4-0cc6162433fb\" xlink:actuate=\"onRequest\" xlink:href=\"psysml:764dcc5f-c791-44bd-8fe4-0cc6162433fb\" xlink:show=\"new\" xlink:title=\"psysml:764dcc5f-c791-44bd-8fe4-0cc6162433fb\" xlink:type=\"simple\"><path d=\"M152,585.21 C152,605.83 152,631.04 152,648.97 \" fill=\"none\" id=\"E8-backto-E6\" style=\"stroke:#181818;stroke-width:1.0;\"/><polygon fill=\"none\" points=\"152,572.14,148,578.14,152,584.14,156,578.14,152,572.14\" style=\"stroke:#181818;stroke-width:1.0;\"/><text fill=\"#000000\" font-family=\"sans-serif\" font-size=\"13\" lengthAdjust=\"spacing\" textLength=\"7\" x=\"153\" y=\"615.0669\">y</text></a></g><!--MD5=[23ac544a70576c3e717098101004234c]\n",
       "reverse link E9 to E10--><g id=\"link_E9_E10\"><a href=\"psysml:1f369bef-866d-4201-85d0-19625ffb0bd4\" target=\"_top\" title=\"psysml:1f369bef-866d-4201-85d0-19625ffb0bd4\" xlink:actuate=\"onRequest\" xlink:href=\"psysml:1f369bef-866d-4201-85d0-19625ffb0bd4\" xlink:show=\"new\" xlink:title=\"psysml:1f369bef-866d-4201-85d0-19625ffb0bd4\" xlink:type=\"simple\"><path d=\"M88.47,101.35 C81.47,117.29 73.39,135.68 67.18,149.83 \" fill=\"none\" id=\"E9-backto-E10\" style=\"stroke:#181818;stroke-width:1.0;\"/><polygon fill=\"none\" points=\"93.8,89.22,87.7243,93.1041,88.9729,100.2063,95.0485,96.3222,93.8,89.22\" style=\"stroke:#181818;stroke-width:1.0;\"/></a></g><!--MD5=[feeac5eb423634930294aa81f2d25a4c]\n",
       "link E10 to E3--><g id=\"link_E10_E3\"><a href=\"psysml:0dc69dec-387f-4606-9efc-6b8567a081cf\" target=\"_top\" title=\"psysml:0dc69dec-387f-4606-9efc-6b8567a081cf\" xlink:actuate=\"onRequest\" xlink:href=\"psysml:0dc69dec-387f-4606-9efc-6b8567a081cf\" xlink:show=\"new\" xlink:title=\"psysml:0dc69dec-387f-4606-9efc-6b8567a081cf\" xlink:type=\"simple\"><path d=\"M75.23,198.22 C85.46,211.26 98.51,227.88 110.28,242.87 \" fill=\"none\" id=\"E10-to-E3\" style=\"stroke:#181818;stroke-width:1.0;\"/><polygon fill=\"#FFFFFF\" points=\"122.81,258.83,105.5676,248.214,116.5764,239.565,122.81,258.83\" style=\"stroke:#181818;stroke-width:1.0;\"/><ellipse cx=\"103.6189\" cy=\"242.4963\" fill=\"#181818\" rx=\"2\" ry=\"2\" style=\"stroke:#181818;stroke-width:1.0;\"/><ellipse cx=\"111.4823\" cy=\"236.3184\" fill=\"#181818\" rx=\"2\" ry=\"2\" style=\"stroke:#181818;stroke-width:1.0;\"/></a></g><!--MD5=[1fc04a95fd77ad5ce46c1a3027516051]\n",
       "reverse link E9 to E11--><g id=\"link_E9_E11\"><a href=\"psysml:41147f3b-680c-4b19-9ea9-1ad0d7284d0b\" target=\"_top\" title=\"psysml:41147f3b-680c-4b19-9ea9-1ad0d7284d0b\" xlink:actuate=\"onRequest\" xlink:href=\"psysml:41147f3b-680c-4b19-9ea9-1ad0d7284d0b\" xlink:show=\"new\" xlink:title=\"psysml:41147f3b-680c-4b19-9ea9-1ad0d7284d0b\" xlink:type=\"simple\"><path d=\"M116.39,101.83 C121.86,117.66 128.14,135.82 132.99,149.83 \" fill=\"none\" id=\"E9-backto-E11\" style=\"stroke:#181818;stroke-width:1.0;\"/><polygon fill=\"none\" points=\"112.03,89.22,110.2077,96.1971,115.9472,100.5627,117.7695,93.5856,112.03,89.22\" style=\"stroke:#181818;stroke-width:1.0;\"/></a></g><!--MD5=[0517f1ce58c4d5483948f93845c45e26]\n",
       "link E11 to E3--><g id=\"link_E11_E3\"><a href=\"psysml:86cba12c-5c0b-4cb2-8a0f-652783ee7e3b\" target=\"_top\" title=\"psysml:86cba12c-5c0b-4cb2-8a0f-652783ee7e3b\" xlink:actuate=\"onRequest\" xlink:href=\"psysml:86cba12c-5c0b-4cb2-8a0f-652783ee7e3b\" xlink:show=\"new\" xlink:title=\"psysml:86cba12c-5c0b-4cb2-8a0f-652783ee7e3b\" xlink:type=\"simple\"><path d=\"M141,198.22 C141,210 141,224.69 141,238.48 \" fill=\"none\" id=\"E11-to-E3\" style=\"stroke:#181818;stroke-width:1.0;\"/><polygon fill=\"#FFFFFF\" points=\"141,258.83,134,239.83,148,239.83,141,258.83\" style=\"stroke:#181818;stroke-width:1.0;\"/><ellipse cx=\"136\" cy=\"234.13\" fill=\"#181818\" rx=\"2\" ry=\"2\" style=\"stroke:#181818;stroke-width:1.0;\"/><ellipse cx=\"146\" cy=\"234.13\" fill=\"#181818\" rx=\"2\" ry=\"2\" style=\"stroke:#181818;stroke-width:1.0;\"/></a></g><!--MD5=[b3ee8f18f9755d0d01e120c8950fb262]\n",
       "@startuml\r\n",
       "skin sysmlbw\r\n",
       "skinparam monochrome true\r\n",
       "skinparam wrapWidth 300\r\n",
       "hide circle\r\n",
       "\r\n",
       "package \"ItemTest\" as E1  [[psysml:b50080a1-e82f-4c80-9a3f-5d66ab4e7e23 ]]  {\r\n",
       "comp usage \"f: A  \" as E2  <<(T,blue) item>> [[psysml:4d36820e-7c5e-46bd-9de5-e346cea54837 ]] {\r\n",
       "}\r\n",
       "comp def \"A\" as E3  <<(T,blue) item  def>> [[psysml:90a9c46f-1bc9-4470-bf4e-8ae555dfcfc9 ]] {\r\n",
       "}\r\n",
       "comp usage \"b: B  \" as E4  <<(T,blue) item>> [[psysml:d394e1d7-ba50-4340-ad50-ece704d14a42 ]] {\r\n",
       "}\r\n",
       "comp usage \"c: C  \" as E5  <<(T,blue) part>> [[psysml:af047218-2074-4cd5-be73-a9bc4fd53c73 ]] {\r\n",
       "}\r\n",
       "comp def \"<i>B</i>\" as E6  <<(T,blue) item  def>> [[psysml:24ac0b44-19f7-4e7e-9d8c-29217623109a ]] {\r\n",
       "}\r\n",
       "comp usage \"<i>a</i>: A  \" as E7  <<(T,blue) part>> [[psysml:f97762a5-be4a-40f0-b15f-ded6f9a0a2bf ]] {\r\n",
       "}\r\n",
       "comp def \"C\" as E8  <<(T,blue) part  def>> [[psysml:2119f9fa-e703-4679-adcc-c9e3fda7136e ]] {\r\n",
       "}\r\n",
       "comp def \"P\" as E9  <<(T,blue) port  def>> [[psysml:f9be0f9f-7828-47af-b676-a3098923450b ]] {\r\n",
       "}\r\n",
       "comp usage \"a1: A  \" as E10  <<(T,blue) item>> [[psysml:bdd21edf-ffb1-47e0-8301-b129ba721304 ]] {\r\n",
       "}\r\n",
       "comp usage \"a2: A  \" as E11  <<(T,blue) item>> [[psysml:ea86bb80-7fc3-4478-bdc0-15728142c0fa ]] {\r\n",
       "}\r\n",
       "}\r\n",
       "E2 - -:|> E3 [[psysml:358bd963-d6cf-4c51-9d97-dc29b520688f ]] \r\n",
       "E3 *- - E4 [[psysml:724ffe94-cfbf-4ea2-b315-6baf1a587f0c ]] \r\n",
       "E3 o- - E5 [[psysml:9c72d63b-be6b-487b-af19-53b3ed2c634b ]] \r\n",
       "E4 - -:|> E6 [[psysml:c1d845e5-90b4-4786-9172-2f85f48f902a ]] \r\n",
       "E6 *- - E7 [[psysml:ee76f7ce-c996-4988-9b1a-5ac16ad8d066 ]] \r\n",
       "E7 - -:|> E3 [[psysml:1cb41c8a-3888-4a6d-b592-33957295a7ee ]] \r\n",
       "E5 - -:|> E8 [[psysml:b2862137-6a73-49a4-ad0f-48652eafb24c ]] \r\n",
       "E8 o- - E3 [[psysml:764dcc5f-c791-44bd-8fe4-0cc6162433fb ]] : y\r\n",
       "E8 o- - E6 [[psysml:764dcc5f-c791-44bd-8fe4-0cc6162433fb ]] : y\r\n",
       "E9 o- - E10 [[psysml:1f369bef-866d-4201-85d0-19625ffb0bd4 ]] \r\n",
       "E10 - -:|> E3 [[psysml:0dc69dec-387f-4606-9efc-6b8567a081cf ]] \r\n",
       "E9 o- - E11 [[psysml:41147f3b-680c-4b19-9ea9-1ad0d7284d0b ]] \r\n",
       "E11 - -:|> E3 [[psysml:86cba12c-5c0b-4cb2-8a0f-652783ee7e3b ]] \r\n",
       "@enduml\r\n",
       "\n",
       "PlantUML version 1.2022.7(Mon Aug 22 17:01:30 UTC 2022)\n",
       "(EPL source distribution)\n",
       "Java Runtime: OpenJDK Runtime Environment\n",
       "JVM: OpenJDK 64-Bit Server VM\n",
       "Default Encoding: UTF-8\n",
       "Language: en\n",
       "Country: null\n",
       "--></g></svg>"
      ]
     },
     "execution_count": 38,
     "metadata": {},
     "output_type": "execute_result"
    }
   ],
   "source": [
    "%viz --style=\"DEFAULT\" --view=\"Tree\" \"ItemTest\""
   ]
  },
  {
   "cell_type": "code",
   "execution_count": 39,
   "id": "c8789eca",
   "metadata": {
    "execution": {
     "iopub.execute_input": "2024-12-16T03:22:55.792697Z",
     "iopub.status.busy": "2024-12-16T03:22:55.792378Z",
     "iopub.status.idle": "2024-12-16T03:22:55.796721Z",
     "shell.execute_reply": "2024-12-16T03:22:55.796537Z"
    }
   },
   "outputs": [
    {
     "data": {
      "image/svg+xml": [
       "<?xml version=\"1.0\" encoding=\"UTF-8\" standalone=\"no\"?><svg xmlns=\"http://www.w3.org/2000/svg\" xmlns:xlink=\"http://www.w3.org/1999/xlink\" contentStyleType=\"text/css\" height=\"10px\" preserveAspectRatio=\"none\" style=\"width:10px;height:10px;background:#FFFFFF;\" version=\"1.1\" viewBox=\"0 0 10 10\" width=\"10px\" zoomAndPan=\"magnify\"><defs/><g><!--MD5=[ac12e6954f3af68464267ee74ddf8a9f]\n",
       "@startuml\r\n",
       "skin sysmlbw\r\n",
       "skinparam monochrome true\r\n",
       "skinparam wrapWidth 300\r\n",
       "hide circle\r\n",
       "\r\n",
       "@enduml\r\n",
       "\n",
       "PlantUML version 1.2022.7(Mon Aug 22 17:01:30 UTC 2022)\n",
       "(EPL source distribution)\n",
       "Java Runtime: OpenJDK Runtime Environment\n",
       "JVM: OpenJDK 64-Bit Server VM\n",
       "Default Encoding: UTF-8\n",
       "Language: en\n",
       "Country: null\n",
       "--></g></svg>"
      ]
     },
     "execution_count": 39,
     "metadata": {},
     "output_type": "execute_result"
    }
   ],
   "source": [
    "%viz --style=\"DEFAULT\" --view=\"State\" \"ItemTest\""
   ]
  },
  {
   "cell_type": "code",
   "execution_count": 40,
   "id": "e0031d2d",
   "metadata": {
    "execution": {
     "iopub.execute_input": "2024-12-16T03:22:55.853062Z",
     "iopub.status.busy": "2024-12-16T03:22:55.852870Z",
     "iopub.status.idle": "2024-12-16T03:22:55.871243Z",
     "shell.execute_reply": "2024-12-16T03:22:55.870460Z"
    }
   },
   "outputs": [
    {
     "data": {
      "image/svg+xml": [
       "<?xml version=\"1.0\" encoding=\"UTF-8\" standalone=\"no\"?><svg xmlns=\"http://www.w3.org/2000/svg\" xmlns:xlink=\"http://www.w3.org/1999/xlink\" contentStyleType=\"text/css\" height=\"245px\" preserveAspectRatio=\"none\" style=\"width:478px;height:245px;background:#FFFFFF;\" version=\"1.1\" viewBox=\"0 0 478 245\" width=\"478px\" zoomAndPan=\"magnify\"><defs/><g><!--MD5=[fbc87193dbaf4d95561dea2c320d4a47]\n",
       "cluster E1--><g id=\"cluster_E1\"><a href=\"psysml:b50080a1-e82f-4c80-9a3f-5d66ab4e7e23\" target=\"_top\" title=\"psysml:b50080a1-e82f-4c80-9a3f-5d66ab4e7e23\" xlink:actuate=\"onRequest\" xlink:href=\"psysml:b50080a1-e82f-4c80-9a3f-5d66ab4e7e23\" xlink:show=\"new\" xlink:title=\"psysml:b50080a1-e82f-4c80-9a3f-5d66ab4e7e23\" xlink:type=\"simple\"><polygon fill=\"none\" points=\"16,6,86.5,6,93.5,28.2969,461,28.2969,461,238,16,238,16,6\" style=\"stroke:#000000;stroke-width:1.5;\"/><line style=\"stroke:#000000;stroke-width:1.5;\" x1=\"16\" x2=\"93.5\" y1=\"28.2969\" y2=\"28.2969\"/><text fill=\"#000000\" font-family=\"sans-serif\" font-size=\"14\" font-weight=\"bold\" lengthAdjust=\"spacing\" textLength=\"64.5\" x=\"20\" y=\"20.9951\">ItemTest</text></a></g><!--MD5=[de5ec2e2e8f62f467e546659f5068c88]\n",
       "cluster E5--><g id=\"cluster_E5\"><a href=\"psysml:2119f9fa-e703-4679-adcc-c9e3fda7136e\" target=\"_top\" title=\"psysml:2119f9fa-e703-4679-adcc-c9e3fda7136e\" xlink:actuate=\"onRequest\" xlink:href=\"psysml:2119f9fa-e703-4679-adcc-c9e3fda7136e\" xlink:show=\"new\" xlink:title=\"psysml:2119f9fa-e703-4679-adcc-c9e3fda7136e\" xlink:type=\"simple\"><rect fill=\"#FFFFFF\" height=\"112\" id=\"E5\" style=\"stroke:#383838;stroke-width:1.5;\" width=\"114\" x=\"323\" y=\"49\"/><text fill=\"#000000\" font-family=\"sans-serif\" font-size=\"12\" font-style=\"italic\" lengthAdjust=\"spacing\" textLength=\"68\" x=\"346\" y=\"65.1387\">«part  def»</text><text fill=\"#000000\" font-family=\"sans-serif\" font-size=\"14\" lengthAdjust=\"spacing\" textLength=\"10\" x=\"375\" y=\"80.9639\">C</text><line style=\"stroke:#383838;stroke-width:1.0;\" x1=\"323\" x2=\"437\" y1=\"89.2656\" y2=\"89.2656\"/></a></g><g><a href=\"psysml:90a9c46f-1bc9-4470-bf4e-8ae555dfcfc9\" target=\"_top\" title=\"psysml:90a9c46f-1bc9-4470-bf4e-8ae555dfcfc9\" xlink:actuate=\"onRequest\" xlink:href=\"psysml:90a9c46f-1bc9-4470-bf4e-8ae555dfcfc9\" xlink:show=\"new\" xlink:title=\"psysml:90a9c46f-1bc9-4470-bf4e-8ae555dfcfc9\" xlink:type=\"simple\"><rect fill=\"#FFFFFF\" height=\"45.2656\" id=\"E3\" style=\"stroke:#383838;stroke-width:1.5;\" width=\"76\" x=\"32\" y=\"177\"/><text fill=\"#000000\" font-family=\"sans-serif\" font-size=\"12\" font-style=\"italic\" lengthAdjust=\"spacing\" textLength=\"69\" x=\"35.5\" y=\"193.1387\">«item  def»</text><text fill=\"#000000\" font-family=\"sans-serif\" font-size=\"14\" lengthAdjust=\"spacing\" textLength=\"9\" x=\"65.5\" y=\"208.9639\">A</text></a></g><g><a href=\"psysml:24ac0b44-19f7-4e7e-9d8c-29217623109a\" target=\"_top\" title=\"psysml:24ac0b44-19f7-4e7e-9d8c-29217623109a\" xlink:actuate=\"onRequest\" xlink:href=\"psysml:24ac0b44-19f7-4e7e-9d8c-29217623109a\" xlink:show=\"new\" xlink:title=\"psysml:24ac0b44-19f7-4e7e-9d8c-29217623109a\" xlink:type=\"simple\"><rect fill=\"#FFFFFF\" height=\"45.2656\" id=\"E4\" style=\"stroke:#383838;stroke-width:1.5;\" width=\"76\" x=\"228\" y=\"100\"/><text fill=\"#000000\" font-family=\"sans-serif\" font-size=\"12\" font-style=\"italic\" lengthAdjust=\"spacing\" textLength=\"69\" x=\"231.5\" y=\"116.1387\">«item  def»</text><text fill=\"#000000\" font-family=\"sans-serif\" font-size=\"14\" font-style=\"italic\" lengthAdjust=\"spacing\" textLength=\"10\" x=\"261\" y=\"131.9639\">B</text></a></g><g><a href=\"psysml:f9be0f9f-7828-47af-b676-a3098923450b\" target=\"_top\" title=\"psysml:f9be0f9f-7828-47af-b676-a3098923450b\" xlink:actuate=\"onRequest\" xlink:href=\"psysml:f9be0f9f-7828-47af-b676-a3098923450b\" xlink:show=\"new\" xlink:title=\"psysml:f9be0f9f-7828-47af-b676-a3098923450b\" xlink:type=\"simple\"><rect fill=\"#FFFFFF\" height=\"45.2656\" id=\"E7\" style=\"stroke:#383838;stroke-width:1.5;\" width=\"75\" x=\"117.5\" y=\"100\"/><text fill=\"#000000\" font-family=\"sans-serif\" font-size=\"12\" font-style=\"italic\" lengthAdjust=\"spacing\" textLength=\"68\" x=\"121\" y=\"116.1387\">«port  def»</text><text fill=\"#000000\" font-family=\"sans-serif\" font-size=\"14\" lengthAdjust=\"spacing\" textLength=\"9\" x=\"150.5\" y=\"131.9639\">P</text></a></g><g><a href=\"psysml:4d36820e-7c5e-46bd-9de5-e346cea54837\" target=\"_top\" title=\"psysml:4d36820e-7c5e-46bd-9de5-e346cea54837\" xlink:actuate=\"onRequest\" xlink:href=\"psysml:4d36820e-7c5e-46bd-9de5-e346cea54837\" xlink:show=\"new\" xlink:title=\"psysml:4d36820e-7c5e-46bd-9de5-e346cea54837\" xlink:type=\"simple\"><rect fill=\"#FFFFFF\" height=\"45.2656\" id=\"E2\" rx=\"10\" ry=\"10\" style=\"stroke:#383838;stroke-width:1.5;\" width=\"50\" x=\"32\" y=\"100\"/><text fill=\"#000000\" font-family=\"sans-serif\" font-size=\"12\" font-style=\"italic\" lengthAdjust=\"spacing\" textLength=\"41\" x=\"36.5\" y=\"116.1387\">«item»</text><text fill=\"#000000\" font-family=\"sans-serif\" font-size=\"14\" lengthAdjust=\"spacing\" textLength=\"22\" x=\"46\" y=\"131.9639\">f: A</text></a></g><g><a href=\"psysml:764dcc5f-c791-44bd-8fe4-0cc6162433fb\" target=\"_top\" title=\"psysml:764dcc5f-c791-44bd-8fe4-0cc6162433fb\" xlink:actuate=\"onRequest\" xlink:href=\"psysml:764dcc5f-c791-44bd-8fe4-0cc6162433fb\" xlink:show=\"new\" xlink:title=\"psysml:764dcc5f-c791-44bd-8fe4-0cc6162433fb\" xlink:type=\"simple\"><rect fill=\"#FFFFFF\" height=\"45.2656\" id=\"E6\" rx=\"10\" ry=\"10\" style=\"stroke:#383838;stroke-width:1.5;\" width=\"82\" x=\"339\" y=\"100\"/><text fill=\"#000000\" font-family=\"sans-serif\" font-size=\"12\" font-style=\"italic\" lengthAdjust=\"spacing\" textLength=\"75\" x=\"342.5\" y=\"116.1387\">«reference»</text><text fill=\"#000000\" font-family=\"sans-serif\" font-size=\"14\" lengthAdjust=\"spacing\" textLength=\"43\" x=\"354.5\" y=\"131.9639\">y: A, B</text></a></g><!--MD5=[2720a5a1f2c3fca2055b230370638851]\n",
       "link E2 to E3--><g id=\"link_E2_E3\"><a href=\"psysml:358bd963-d6cf-4c51-9d97-dc29b520688f\" target=\"_top\" title=\"psysml:358bd963-d6cf-4c51-9d97-dc29b520688f\" xlink:actuate=\"onRequest\" xlink:href=\"psysml:358bd963-d6cf-4c51-9d97-dc29b520688f\" xlink:show=\"new\" xlink:title=\"psysml:358bd963-d6cf-4c51-9d97-dc29b520688f\" xlink:type=\"simple\"><path d=\"M60.76,145.19 C61.41,148.92 62.1,152.91 62.8,156.96 \" fill=\"none\" id=\"E2-to-E3\" style=\"stroke:#181818;stroke-width:1.0;\"/><polygon fill=\"#FFFFFF\" points=\"66.25,176.86,56.0959,159.3416,69.8886,156.9411,66.25,176.86\" style=\"stroke:#181818;stroke-width:1.0;\"/><ellipse cx=\"57.0889\" cy=\"153.3831\" fill=\"#181818\" rx=\"2\" ry=\"2\" style=\"stroke:#181818;stroke-width:1.0;\"/><ellipse cx=\"66.9408\" cy=\"151.6685\" fill=\"#181818\" rx=\"2\" ry=\"2\" style=\"stroke:#181818;stroke-width:1.0;\"/></a></g><!--MD5=[16b0984f683ac37630ce42e1e86fa7c2]\n",
       "@startuml\r\n",
       "skin sysmlbw\r\n",
       "skinparam monochrome true\r\n",
       "skinparam wrapWidth 300\r\n",
       "hide circle\r\n",
       "skinparam ranksep 10\r\n",
       "skinparam rectangle {\r\n",
       " backgroundColor<<block>> LightGreen\r\n",
       "}\r\n",
       "\r\n",
       "package \"ItemTest\" as E1  [[psysml:b50080a1-e82f-4c80-9a3f-5d66ab4e7e23 ]]  {\r\n",
       "rec usage \"f: A\" as E2  <<(T,blue) item>> [[psysml:4d36820e-7c5e-46bd-9de5-e346cea54837 ]] {\r\n",
       "}\r\n",
       "def \"A\" as E3  <<(T,blue) item  def>> [[psysml:90a9c46f-1bc9-4470-bf4e-8ae555dfcfc9 ]] \r\n",
       "def \"<i>B</i>\" as E4  <<(T,blue) item  def>> [[psysml:24ac0b44-19f7-4e7e-9d8c-29217623109a ]] \r\n",
       "rec def \"C\" as E5  <<(T,blue) part  def>> [[psysml:2119f9fa-e703-4679-adcc-c9e3fda7136e ]] {\r\n",
       "rec usage \"y: A, B  \" as E6  <<(T,blue) reference>> [[psysml:764dcc5f-c791-44bd-8fe4-0cc6162433fb ]] {\r\n",
       "}\r\n",
       "\r\n",
       "}\r\n",
       "def \"P\" as E7  <<(T,blue) port  def>> [[psysml:f9be0f9f-7828-47af-b676-a3098923450b ]] \r\n",
       "}\r\n",
       "E2 - -:|> E3 [[psysml:358bd963-d6cf-4c51-9d97-dc29b520688f ]] \r\n",
       "@enduml\r\n",
       "\n",
       "PlantUML version 1.2022.7(Mon Aug 22 17:01:30 UTC 2022)\n",
       "(EPL source distribution)\n",
       "Java Runtime: OpenJDK Runtime Environment\n",
       "JVM: OpenJDK 64-Bit Server VM\n",
       "Default Encoding: UTF-8\n",
       "Language: en\n",
       "Country: null\n",
       "--></g></svg>"
      ]
     },
     "execution_count": 40,
     "metadata": {},
     "output_type": "execute_result"
    }
   ],
   "source": [
    "%viz --style=\"DEFAULT\" --view=\"Interconnection\" \"ItemTest\""
   ]
  },
  {
   "cell_type": "code",
   "execution_count": 41,
   "id": "d4c2f5bb",
   "metadata": {
    "execution": {
     "iopub.execute_input": "2024-12-16T03:22:55.922757Z",
     "iopub.status.busy": "2024-12-16T03:22:55.922519Z",
     "iopub.status.idle": "2024-12-16T03:22:55.926623Z",
     "shell.execute_reply": "2024-12-16T03:22:55.926746Z"
    }
   },
   "outputs": [
    {
     "data": {
      "image/svg+xml": [
       "<?xml version=\"1.0\" encoding=\"UTF-8\" standalone=\"no\"?><svg xmlns=\"http://www.w3.org/2000/svg\" xmlns:xlink=\"http://www.w3.org/1999/xlink\" contentStyleType=\"text/css\" height=\"10px\" preserveAspectRatio=\"none\" style=\"width:10px;height:10px;background:#FFFFFF;\" version=\"1.1\" viewBox=\"0 0 10 10\" width=\"10px\" zoomAndPan=\"magnify\"><defs/><g><!--MD5=[3d9597b1575ffc4802b0d6ba40297a8d]\n",
       "@startuml\r\n",
       "skin sysmlbw\r\n",
       "skinparam monochrome true\r\n",
       "skinparam wrapWidth 300\r\n",
       "hide circle\r\n",
       "skinparam ranksep 8\r\n",
       "\r\n",
       "@enduml\r\n",
       "\n",
       "PlantUML version 1.2022.7(Mon Aug 22 17:01:30 UTC 2022)\n",
       "(EPL source distribution)\n",
       "Java Runtime: OpenJDK Runtime Environment\n",
       "JVM: OpenJDK 64-Bit Server VM\n",
       "Default Encoding: UTF-8\n",
       "Language: en\n",
       "Country: null\n",
       "--></g></svg>"
      ]
     },
     "execution_count": 41,
     "metadata": {},
     "output_type": "execute_result"
    }
   ],
   "source": [
    "%viz --style=\"DEFAULT\" --view=\"Action\" \"ItemTest\""
   ]
  },
  {
   "cell_type": "code",
   "execution_count": 42,
   "id": "3327ae01",
   "metadata": {
    "execution": {
     "iopub.execute_input": "2024-12-16T03:22:55.982175Z",
     "iopub.status.busy": "2024-12-16T03:22:55.981999Z",
     "iopub.status.idle": "2024-12-16T03:22:55.986288Z",
     "shell.execute_reply": "2024-12-16T03:22:55.986089Z"
    }
   },
   "outputs": [
    {
     "data": {
      "image/svg+xml": [
       "<?xml version=\"1.0\" encoding=\"UTF-8\" standalone=\"no\"?><svg xmlns=\"http://www.w3.org/2000/svg\" xmlns:xlink=\"http://www.w3.org/1999/xlink\" contentStyleType=\"text/css\" height=\"10px\" preserveAspectRatio=\"none\" style=\"width:10px;height:10px;background:#FFFFFF;\" version=\"1.1\" viewBox=\"0 0 10 10\" width=\"10px\" zoomAndPan=\"magnify\"><defs/><g><!--MD5=[075159388321915a295a256e9638f934]\n",
       "@startuml\r\n",
       "skin sysmlbw\r\n",
       "skinparam monochrome true\r\n",
       "skinparam wrapWidth 300\r\n",
       "hide circle\r\n",
       "skinparam roundcorner 20\r\n",
       "skinparam BoxPadding 20\r\n",
       "skinparam SequenceBoxBackgroundColor #white\r\n",
       "skinparam style strictuml\r\n",
       "skinparam maxMessageSize 100\r\n",
       "\r\n",
       "@enduml\r\n",
       "\n",
       "PlantUML version 1.2022.7(Mon Aug 22 17:01:30 UTC 2022)\n",
       "(EPL source distribution)\n",
       "Java Runtime: OpenJDK Runtime Environment\n",
       "JVM: OpenJDK 64-Bit Server VM\n",
       "Default Encoding: UTF-8\n",
       "Language: en\n",
       "Country: null\n",
       "--></g></svg>"
      ]
     },
     "execution_count": 42,
     "metadata": {},
     "output_type": "execute_result"
    }
   ],
   "source": [
    "%viz --style=\"DEFAULT\" --view=\"Sequence\" \"ItemTest\""
   ]
  },
  {
   "cell_type": "code",
   "execution_count": 43,
   "id": "e9bc9441",
   "metadata": {
    "execution": {
     "iopub.execute_input": "2024-12-16T03:22:56.042281Z",
     "iopub.status.busy": "2024-12-16T03:22:56.042078Z",
     "iopub.status.idle": "2024-12-16T03:22:56.063341Z",
     "shell.execute_reply": "2024-12-16T03:22:56.062358Z"
    }
   },
   "outputs": [
    {
     "data": {
      "image/svg+xml": [
       "<?xml version=\"1.0\" encoding=\"UTF-8\" standalone=\"no\"?><svg xmlns=\"http://www.w3.org/2000/svg\" xmlns:xlink=\"http://www.w3.org/1999/xlink\" contentStyleType=\"text/css\" height=\"829px\" preserveAspectRatio=\"none\" style=\"width:277px;height:829px;background:#FFFFFF;\" version=\"1.1\" viewBox=\"0 0 277 829\" width=\"277px\" zoomAndPan=\"magnify\"><defs/><g><!--MD5=[fbc87193dbaf4d95561dea2c320d4a47]\n",
       "cluster E1--><g id=\"cluster_E1\"><a href=\"psysml:b50080a1-e82f-4c80-9a3f-5d66ab4e7e23\" target=\"_top\" title=\"psysml:b50080a1-e82f-4c80-9a3f-5d66ab4e7e23\" xlink:actuate=\"onRequest\" xlink:href=\"psysml:b50080a1-e82f-4c80-9a3f-5d66ab4e7e23\" xlink:show=\"new\" xlink:title=\"psysml:b50080a1-e82f-4c80-9a3f-5d66ab4e7e23\" xlink:type=\"simple\"><polygon fill=\"none\" points=\"16,6,86.5,6,93.5,28.2969,260,28.2969,260,822,16,822,16,6\" style=\"stroke:#000000;stroke-width:1.5;\"/><line style=\"stroke:#000000;stroke-width:1.5;\" x1=\"16\" x2=\"93.5\" y1=\"28.2969\" y2=\"28.2969\"/><text fill=\"#000000\" font-family=\"sans-serif\" font-size=\"14\" font-weight=\"bold\" lengthAdjust=\"spacing\" textLength=\"64.5\" x=\"20\" y=\"20.9951\">ItemTest</text></a></g><!--MD5=[b4997ac47864f28c2f74865a473b2911]\n",
       "class E2--><a href=\"psysml:4d36820e-7c5e-46bd-9de5-e346cea54837\" target=\"_top\" title=\"psysml:4d36820e-7c5e-46bd-9de5-e346cea54837\" xlink:actuate=\"onRequest\" xlink:href=\"psysml:4d36820e-7c5e-46bd-9de5-e346cea54837\" xlink:show=\"new\" xlink:title=\"psysml:4d36820e-7c5e-46bd-9de5-e346cea54837\" xlink:type=\"simple\"><g id=\"elem_E2\"><rect fill=\"#FFFFFF\" height=\"48.2656\" id=\"E2\" rx=\"10\" ry=\"10\" style=\"stroke:#181818;stroke-width:0.5;\" width=\"43\" x=\"200.5\" y=\"150\"/><text fill=\"#000000\" font-family=\"sans-serif\" font-size=\"12\" font-style=\"italic\" lengthAdjust=\"spacing\" textLength=\"41\" x=\"201.5\" y=\"166.1387\">«item»</text><text fill=\"#000000\" font-family=\"sans-serif\" font-size=\"14\" lengthAdjust=\"spacing\" textLength=\"22\" x=\"207\" y=\"181.9639\">f: A</text><line style=\"stroke:#181818;stroke-width:0.5;\" x1=\"201.5\" x2=\"242.5\" y1=\"190.2656\" y2=\"190.2656\"/></g></a><!--MD5=[09b614a08d8cba4a07c9adeb5e0fee81]\n",
       "class E3--><a href=\"psysml:90a9c46f-1bc9-4470-bf4e-8ae555dfcfc9\" target=\"_top\" title=\"psysml:90a9c46f-1bc9-4470-bf4e-8ae555dfcfc9\" xlink:actuate=\"onRequest\" xlink:href=\"psysml:90a9c46f-1bc9-4470-bf4e-8ae555dfcfc9\" xlink:show=\"new\" xlink:title=\"psysml:90a9c46f-1bc9-4470-bf4e-8ae555dfcfc9\" xlink:type=\"simple\"><g id=\"elem_E3\"><rect fill=\"#FFFFFF\" height=\"48.2656\" id=\"E3\" style=\"stroke:#181818;stroke-width:0.5;\" width=\"71\" x=\"105.5\" y=\"259\"/><text fill=\"#000000\" font-family=\"sans-serif\" font-size=\"12\" font-style=\"italic\" lengthAdjust=\"spacing\" textLength=\"69\" x=\"106.5\" y=\"275.1387\">«item  def»</text><text fill=\"#000000\" font-family=\"sans-serif\" font-size=\"14\" lengthAdjust=\"spacing\" textLength=\"9\" x=\"136.5\" y=\"290.9639\">A</text><line style=\"stroke:#181818;stroke-width:0.5;\" x1=\"106.5\" x2=\"175.5\" y1=\"299.2656\" y2=\"299.2656\"/></g></a><!--MD5=[ebbe1d658d1005bcc118a6aa81145e00]\n",
       "class E4--><a href=\"psysml:d394e1d7-ba50-4340-ad50-ece704d14a42\" target=\"_top\" title=\"psysml:d394e1d7-ba50-4340-ad50-ece704d14a42\" xlink:actuate=\"onRequest\" xlink:href=\"psysml:d394e1d7-ba50-4340-ad50-ece704d14a42\" xlink:show=\"new\" xlink:title=\"psysml:d394e1d7-ba50-4340-ad50-ece704d14a42\" xlink:type=\"simple\"><g id=\"elem_E4\"><rect fill=\"#FFFFFF\" height=\"48.2656\" id=\"E4\" rx=\"10\" ry=\"10\" style=\"stroke:#181818;stroke-width:0.5;\" width=\"43\" x=\"48.5\" y=\"446\"/><text fill=\"#000000\" font-family=\"sans-serif\" font-size=\"12\" font-style=\"italic\" lengthAdjust=\"spacing\" textLength=\"41\" x=\"49.5\" y=\"462.1387\">«item»</text><text fill=\"#000000\" font-family=\"sans-serif\" font-size=\"14\" lengthAdjust=\"spacing\" textLength=\"28\" x=\"52\" y=\"477.9639\">b: B</text><line style=\"stroke:#181818;stroke-width:0.5;\" x1=\"49.5\" x2=\"90.5\" y1=\"486.2656\" y2=\"486.2656\"/></g></a><!--MD5=[270fce915f116d4de14055a7c1d9a0f3]\n",
       "class E5--><a href=\"psysml:af047218-2074-4cd5-be73-a9bc4fd53c73\" target=\"_top\" title=\"psysml:af047218-2074-4cd5-be73-a9bc4fd53c73\" xlink:actuate=\"onRequest\" xlink:href=\"psysml:af047218-2074-4cd5-be73-a9bc4fd53c73\" xlink:show=\"new\" xlink:title=\"psysml:af047218-2074-4cd5-be73-a9bc4fd53c73\" xlink:type=\"simple\"><g id=\"elem_E5\"><rect fill=\"#FFFFFF\" height=\"48.2656\" id=\"E5\" rx=\"10\" ry=\"10\" style=\"stroke:#181818;stroke-width:0.5;\" width=\"42\" x=\"157\" y=\"368\"/><text fill=\"#000000\" font-family=\"sans-serif\" font-size=\"12\" font-style=\"italic\" lengthAdjust=\"spacing\" textLength=\"40\" x=\"158\" y=\"384.1387\">«part»</text><text fill=\"#000000\" font-family=\"sans-serif\" font-size=\"14\" lengthAdjust=\"spacing\" textLength=\"27\" x=\"160.5\" y=\"399.9639\">c: C</text><line style=\"stroke:#181818;stroke-width:0.5;\" x1=\"158\" x2=\"198\" y1=\"408.2656\" y2=\"408.2656\"/></g></a><!--MD5=[60a26617385b1d2d0262a64233df1f8d]\n",
       "class E6--><a href=\"psysml:24ac0b44-19f7-4e7e-9d8c-29217623109a\" target=\"_top\" title=\"psysml:24ac0b44-19f7-4e7e-9d8c-29217623109a\" xlink:actuate=\"onRequest\" xlink:href=\"psysml:24ac0b44-19f7-4e7e-9d8c-29217623109a\" xlink:show=\"new\" xlink:title=\"psysml:24ac0b44-19f7-4e7e-9d8c-29217623109a\" xlink:type=\"simple\"><g id=\"elem_E6\"><rect fill=\"#FFFFFF\" height=\"48.2656\" id=\"E6\" style=\"stroke:#181818;stroke-width:0.5;\" width=\"71\" x=\"116.5\" y=\"649\"/><text fill=\"#000000\" font-family=\"sans-serif\" font-size=\"12\" font-style=\"italic\" lengthAdjust=\"spacing\" textLength=\"69\" x=\"117.5\" y=\"665.1387\">«item  def»</text><text fill=\"#000000\" font-family=\"sans-serif\" font-size=\"14\" font-style=\"italic\" lengthAdjust=\"spacing\" textLength=\"10\" x=\"147\" y=\"680.9639\">B</text><line style=\"stroke:#181818;stroke-width:0.5;\" x1=\"117.5\" x2=\"186.5\" y1=\"689.2656\" y2=\"689.2656\"/></g></a><!--MD5=[2156ba9850f5573cc1fc38a6a4b2f02b]\n",
       "class E7--><a href=\"psysml:f97762a5-be4a-40f0-b15f-ded6f9a0a2bf\" target=\"_top\" title=\"psysml:f97762a5-be4a-40f0-b15f-ded6f9a0a2bf\" xlink:actuate=\"onRequest\" xlink:href=\"psysml:f97762a5-be4a-40f0-b15f-ded6f9a0a2bf\" xlink:show=\"new\" xlink:title=\"psysml:f97762a5-be4a-40f0-b15f-ded6f9a0a2bf\" xlink:type=\"simple\"><g id=\"elem_E7\"><rect fill=\"#FFFFFF\" height=\"48.2656\" id=\"E7\" rx=\"10\" ry=\"10\" style=\"stroke:#181818;stroke-width:0.5;\" width=\"42\" x=\"167\" y=\"758\"/><text fill=\"#000000\" font-family=\"sans-serif\" font-size=\"12\" font-style=\"italic\" lengthAdjust=\"spacing\" textLength=\"40\" x=\"168\" y=\"774.1387\">«part»</text><text fill=\"#000000\" font-family=\"sans-serif\" font-size=\"14\" font-style=\"italic\" lengthAdjust=\"spacing\" textLength=\"8\" x=\"171\" y=\"789.9639\">a</text><text fill=\"#000000\" font-family=\"sans-serif\" font-size=\"14\" lengthAdjust=\"spacing\" textLength=\"18\" x=\"179\" y=\"789.9639\">: A</text><line style=\"stroke:#181818;stroke-width:0.5;\" x1=\"168\" x2=\"208\" y1=\"798.2656\" y2=\"798.2656\"/></g></a><!--MD5=[b9389687b975829384b498ac4b7476b2]\n",
       "class E8--><a href=\"psysml:2119f9fa-e703-4679-adcc-c9e3fda7136e\" target=\"_top\" title=\"psysml:2119f9fa-e703-4679-adcc-c9e3fda7136e\" xlink:actuate=\"onRequest\" xlink:href=\"psysml:2119f9fa-e703-4679-adcc-c9e3fda7136e\" xlink:show=\"new\" xlink:title=\"psysml:2119f9fa-e703-4679-adcc-c9e3fda7136e\" xlink:type=\"simple\"><g id=\"elem_E8\"><rect fill=\"#FFFFFF\" height=\"48.2656\" id=\"E8\" style=\"stroke:#181818;stroke-width:0.5;\" width=\"70\" x=\"117\" y=\"524\"/><text fill=\"#000000\" font-family=\"sans-serif\" font-size=\"12\" font-style=\"italic\" lengthAdjust=\"spacing\" textLength=\"68\" x=\"118\" y=\"540.1387\">«part  def»</text><text fill=\"#000000\" font-family=\"sans-serif\" font-size=\"14\" lengthAdjust=\"spacing\" textLength=\"10\" x=\"147\" y=\"555.9639\">C</text><line style=\"stroke:#181818;stroke-width:0.5;\" x1=\"118\" x2=\"186\" y1=\"564.2656\" y2=\"564.2656\"/></g></a><!--MD5=[fd4143e9d270a159db93a4ea2a975926]\n",
       "class E9--><a href=\"psysml:f9be0f9f-7828-47af-b676-a3098923450b\" target=\"_top\" title=\"psysml:f9be0f9f-7828-47af-b676-a3098923450b\" xlink:actuate=\"onRequest\" xlink:href=\"psysml:f9be0f9f-7828-47af-b676-a3098923450b\" xlink:show=\"new\" xlink:title=\"psysml:f9be0f9f-7828-47af-b676-a3098923450b\" xlink:type=\"simple\"><g id=\"elem_E9\"><rect fill=\"#FFFFFF\" height=\"48.2656\" id=\"E9\" style=\"stroke:#181818;stroke-width:0.5;\" width=\"70\" x=\"69\" y=\"41\"/><text fill=\"#000000\" font-family=\"sans-serif\" font-size=\"12\" font-style=\"italic\" lengthAdjust=\"spacing\" textLength=\"68\" x=\"70\" y=\"57.1387\">«port  def»</text><text fill=\"#000000\" font-family=\"sans-serif\" font-size=\"14\" lengthAdjust=\"spacing\" textLength=\"9\" x=\"99.5\" y=\"72.9639\">P</text><line style=\"stroke:#181818;stroke-width:0.5;\" x1=\"70\" x2=\"138\" y1=\"81.2656\" y2=\"81.2656\"/></g></a><!--MD5=[96f4274e9e20536e775497830990834d]\n",
       "class E10--><a href=\"psysml:bdd21edf-ffb1-47e0-8301-b129ba721304\" target=\"_top\" title=\"psysml:bdd21edf-ffb1-47e0-8301-b129ba721304\" xlink:actuate=\"onRequest\" xlink:href=\"psysml:bdd21edf-ffb1-47e0-8301-b129ba721304\" xlink:show=\"new\" xlink:title=\"psysml:bdd21edf-ffb1-47e0-8301-b129ba721304\" xlink:type=\"simple\"><g id=\"elem_E10\"><rect fill=\"#FFFFFF\" height=\"48.2656\" id=\"E10\" rx=\"10\" ry=\"10\" style=\"stroke:#181818;stroke-width:0.5;\" width=\"49\" x=\"32.5\" y=\"150\"/><text fill=\"#000000\" font-family=\"sans-serif\" font-size=\"12\" font-style=\"italic\" lengthAdjust=\"spacing\" textLength=\"41\" x=\"36.5\" y=\"166.1387\">«item»</text><text fill=\"#000000\" font-family=\"sans-serif\" font-size=\"14\" lengthAdjust=\"spacing\" textLength=\"35\" x=\"35.5\" y=\"181.9639\">a1: A</text><line style=\"stroke:#181818;stroke-width:0.5;\" x1=\"33.5\" x2=\"80.5\" y1=\"190.2656\" y2=\"190.2656\"/></g></a><!--MD5=[1dd1bfd58a279cf63c5f349dbc8fc6a1]\n",
       "class E11--><a href=\"psysml:ea86bb80-7fc3-4478-bdc0-15728142c0fa\" target=\"_top\" title=\"psysml:ea86bb80-7fc3-4478-bdc0-15728142c0fa\" xlink:actuate=\"onRequest\" xlink:href=\"psysml:ea86bb80-7fc3-4478-bdc0-15728142c0fa\" xlink:show=\"new\" xlink:title=\"psysml:ea86bb80-7fc3-4478-bdc0-15728142c0fa\" xlink:type=\"simple\"><g id=\"elem_E11\"><rect fill=\"#FFFFFF\" height=\"48.2656\" id=\"E11\" rx=\"10\" ry=\"10\" style=\"stroke:#181818;stroke-width:0.5;\" width=\"49\" x=\"116.5\" y=\"150\"/><text fill=\"#000000\" font-family=\"sans-serif\" font-size=\"12\" font-style=\"italic\" lengthAdjust=\"spacing\" textLength=\"41\" x=\"120.5\" y=\"166.1387\">«item»</text><text fill=\"#000000\" font-family=\"sans-serif\" font-size=\"14\" lengthAdjust=\"spacing\" textLength=\"35\" x=\"119.5\" y=\"181.9639\">a2: A</text><line style=\"stroke:#181818;stroke-width:0.5;\" x1=\"117.5\" x2=\"164.5\" y1=\"190.2656\" y2=\"190.2656\"/></g></a><!--MD5=[2720a5a1f2c3fca2055b230370638851]\n",
       "link E2 to E3--><g id=\"link_E2_E3\"><a href=\"psysml:358bd963-d6cf-4c51-9d97-dc29b520688f\" target=\"_top\" title=\"psysml:358bd963-d6cf-4c51-9d97-dc29b520688f\" xlink:actuate=\"onRequest\" xlink:href=\"psysml:358bd963-d6cf-4c51-9d97-dc29b520688f\" xlink:show=\"new\" xlink:title=\"psysml:358bd963-d6cf-4c51-9d97-dc29b520688f\" xlink:type=\"simple\"><path d=\"M204.42,198.22 C194.55,211.26 181.97,227.88 170.62,242.87 \" fill=\"none\" id=\"E2-to-E3\" style=\"stroke:#181818;stroke-width:1.0;\"/><polygon fill=\"#FFFFFF\" points=\"158.54,258.83,164.4286,239.4567,175.5901,247.9078,158.54,258.83\" style=\"stroke:#181818;stroke-width:1.0;\"/><ellipse cx=\"169.4639\" cy=\"236.1197\" fill=\"#181818\" rx=\"2\" ry=\"2\" style=\"stroke:#181818;stroke-width:1.0;\"/><ellipse cx=\"177.4364\" cy=\"242.1562\" fill=\"#181818\" rx=\"2\" ry=\"2\" style=\"stroke:#181818;stroke-width:1.0;\"/></a></g><!--MD5=[4672eba38e49728da53d11aeb285b987]\n",
       "reverse link E3 to E4--><g id=\"link_E3_E4\"><a href=\"psysml:724ffe94-cfbf-4ea2-b315-6baf1a587f0c\" target=\"_top\" title=\"psysml:724ffe94-cfbf-4ea2-b315-6baf1a587f0c\" xlink:actuate=\"onRequest\" xlink:href=\"psysml:724ffe94-cfbf-4ea2-b315-6baf1a587f0c\" xlink:show=\"new\" xlink:title=\"psysml:724ffe94-cfbf-4ea2-b315-6baf1a587f0c\" xlink:type=\"simple\"><path d=\"M104.38,316.32 C90.85,330.64 77.09,348.62 70,368 C60.72,393.36 62.6,424.76 65.58,445.75 \" fill=\"none\" id=\"E3-backto-E4\" style=\"stroke:#181818;stroke-width:1.0;\"/><polygon fill=\"#181818\" points=\"113.62,307.02,106.5522,308.4507,105.1545,315.525,112.2223,314.0943,113.62,307.02\" style=\"stroke:#181818;stroke-width:1.0;\"/></a></g><!--MD5=[191cde3d490a3f6d7bb551fe3ddca469]\n",
       "reverse link E3 to E5--><g id=\"link_E3_E5\"><a href=\"psysml:9c72d63b-be6b-487b-af19-53b3ed2c634b\" target=\"_top\" title=\"psysml:9c72d63b-be6b-487b-af19-53b3ed2c634b\" xlink:actuate=\"onRequest\" xlink:href=\"psysml:9c72d63b-be6b-487b-af19-53b3ed2c634b\" xlink:show=\"new\" xlink:title=\"psysml:9c72d63b-be6b-487b-af19-53b3ed2c634b\" xlink:type=\"simple\"><path d=\"M153.39,319.83 C158.86,335.66 165.14,353.82 169.99,367.83 \" fill=\"none\" id=\"E3-backto-E5\" style=\"stroke:#181818;stroke-width:1.0;\"/><polygon fill=\"none\" points=\"149.03,307.22,147.2077,314.1971,152.9472,318.5627,154.7695,311.5856,149.03,307.22\" style=\"stroke:#181818;stroke-width:1.0;\"/></a></g><!--MD5=[79568f1e445c3877b6a54524624ccc7d]\n",
       "link E4 to E6--><g id=\"link_E4_E6\"><a href=\"psysml:c1d845e5-90b4-4786-9172-2f85f48f902a\" target=\"_top\" title=\"psysml:c1d845e5-90b4-4786-9172-2f85f48f902a\" xlink:actuate=\"onRequest\" xlink:href=\"psysml:c1d845e5-90b4-4786-9172-2f85f48f902a\" xlink:show=\"new\" xlink:title=\"psysml:c1d845e5-90b4-4786-9172-2f85f48f902a\" xlink:type=\"simple\"><path d=\"M75.57,494.29 C80.84,515.04 89.51,546.05 100,572 C108.08,591.98 118.83,613.29 128.46,631.07 \" fill=\"none\" id=\"E4-to-E6\" style=\"stroke:#181818;stroke-width:1.0;\"/><polygon fill=\"#FFFFFF\" points=\"138.29,648.76,122.9437,635.5505,135.1819,628.7515,138.29,648.76\" style=\"stroke:#181818;stroke-width:1.0;\"/><ellipse cx=\"121.9238\" cy=\"629.5965\" fill=\"#181818\" rx=\"2\" ry=\"2\" style=\"stroke:#181818;stroke-width:1.0;\"/><ellipse cx=\"130.6654\" cy=\"624.7401\" fill=\"#181818\" rx=\"2\" ry=\"2\" style=\"stroke:#181818;stroke-width:1.0;\"/></a></g><!--MD5=[3f50a3473f1dfb74d3f76443e03635af]\n",
       "reverse link E6 to E7--><g id=\"link_E6_E7\"><a href=\"psysml:ee76f7ce-c996-4988-9b1a-5ac16ad8d066\" target=\"_top\" title=\"psysml:ee76f7ce-c996-4988-9b1a-5ac16ad8d066\" xlink:actuate=\"onRequest\" xlink:href=\"psysml:ee76f7ce-c996-4988-9b1a-5ac16ad8d066\" xlink:show=\"new\" xlink:title=\"psysml:ee76f7ce-c996-4988-9b1a-5ac16ad8d066\" xlink:type=\"simple\"><path d=\"M164.05,709.83 C169.38,725.66 175.49,743.82 180.2,757.83 \" fill=\"none\" id=\"E6-backto-E7\" style=\"stroke:#181818;stroke-width:1.0;\"/><polygon fill=\"#181818\" points=\"159.81,697.22,157.9296,704.1816,163.6324,708.5949,165.5128,701.6333,159.81,697.22\" style=\"stroke:#181818;stroke-width:1.0;\"/></a></g><!--MD5=[14ccda38c055a5c0da953d572bc50960]\n",
       "link E7 to E3--><g id=\"link_E7_E3\"><a href=\"psysml:1cb41c8a-3888-4a6d-b592-33957295a7ee\" target=\"_top\" title=\"psysml:1cb41c8a-3888-4a6d-b592-33957295a7ee\" xlink:actuate=\"onRequest\" xlink:href=\"psysml:1cb41c8a-3888-4a6d-b592-33957295a7ee\" xlink:show=\"new\" xlink:title=\"psysml:1cb41c8a-3888-4a6d-b592-33957295a7ee\" xlink:type=\"simple\"><path d=\"M204.97,757.64 C218.43,736.78 235,704.84 235,674 C235,391 235,391 235,391 C235,361.35 214.38,336.01 192.46,317.43 \" fill=\"none\" id=\"E7-to-E3\" style=\"stroke:#181818;stroke-width:1.0;\"/><polygon fill=\"#FFFFFF\" points=\"176.54,305.14,195.8578,311.2081,187.3035,322.2907,176.54,305.14\" style=\"stroke:#181818;stroke-width:1.0;\"/><ellipse cx=\"199.148\" cy=\"316.2741\" fill=\"#181818\" rx=\"2\" ry=\"2\" style=\"stroke:#181818;stroke-width:1.0;\"/><ellipse cx=\"193.0378\" cy=\"324.1903\" fill=\"#181818\" rx=\"2\" ry=\"2\" style=\"stroke:#181818;stroke-width:1.0;\"/></a></g><!--MD5=[dfaffb906826c3e5aca635516100ff21]\n",
       "link E5 to E8--><g id=\"link_E5_E8\"><a href=\"psysml:b2862137-6a73-49a4-ad0f-48652eafb24c\" target=\"_top\" title=\"psysml:b2862137-6a73-49a4-ad0f-48652eafb24c\" xlink:actuate=\"onRequest\" xlink:href=\"psysml:b2862137-6a73-49a4-ad0f-48652eafb24c\" xlink:show=\"new\" xlink:title=\"psysml:b2862137-6a73-49a4-ad0f-48652eafb24c\" xlink:type=\"simple\"><path d=\"M174.11,416.06 C170.2,439.19 164.09,475.38 159.28,503.86 \" fill=\"none\" id=\"E5-to-E8\" style=\"stroke:#181818;stroke-width:1.0;\"/><polygon fill=\"#FFFFFF\" points=\"155.92,523.79,152.1809,503.8898,165.9855,506.2206,155.92,523.79\" style=\"stroke:#181818;stroke-width:1.0;\"/><ellipse cx=\"155.1019\" cy=\"498.6023\" fill=\"#181818\" rx=\"2\" ry=\"2\" style=\"stroke:#181818;stroke-width:1.0;\"/><ellipse cx=\"164.9624\" cy=\"500.2671\" fill=\"#181818\" rx=\"2\" ry=\"2\" style=\"stroke:#181818;stroke-width:1.0;\"/></a></g><!--MD5=[03c8294790d3c57651a1993cecff665f]\n",
       "reverse link E8 to E3--><g id=\"link_E8_E3\"><a href=\"psysml:764dcc5f-c791-44bd-8fe4-0cc6162433fb\" target=\"_top\" title=\"psysml:764dcc5f-c791-44bd-8fe4-0cc6162433fb\" xlink:actuate=\"onRequest\" xlink:href=\"psysml:764dcc5f-c791-44bd-8fe4-0cc6162433fb\" xlink:show=\"new\" xlink:title=\"psysml:764dcc5f-c791-44bd-8fe4-0cc6162433fb\" xlink:type=\"simple\"><path d=\"M144.62,510.88 C139.66,484.68 133.57,448.31 131,416 C129.31,394.73 129.74,389.3 131,368 C132.23,347.33 135.14,323.95 137.5,307.11 \" fill=\"none\" id=\"E8-backto-E3\" style=\"stroke:#181818;stroke-width:1.0;\"/><polygon fill=\"none\" points=\"147.16,523.94,149.9387,517.2857,144.865,512.1615,142.0863,518.8158,147.16,523.94\" style=\"stroke:#181818;stroke-width:1.0;\"/><text fill=\"#000000\" font-family=\"sans-serif\" font-size=\"13\" lengthAdjust=\"spacing\" textLength=\"7\" x=\"132\" y=\"396.5669\">y</text></a></g><!--MD5=[0d75d2178373a6a4568e5dc728f58aef]\n",
       "reverse link E8 to E6--><g id=\"link_E8_E6\"><a href=\"psysml:764dcc5f-c791-44bd-8fe4-0cc6162433fb\" target=\"_top\" title=\"psysml:764dcc5f-c791-44bd-8fe4-0cc6162433fb\" xlink:actuate=\"onRequest\" xlink:href=\"psysml:764dcc5f-c791-44bd-8fe4-0cc6162433fb\" xlink:show=\"new\" xlink:title=\"psysml:764dcc5f-c791-44bd-8fe4-0cc6162433fb\" xlink:type=\"simple\"><path d=\"M152,585.21 C152,605.83 152,631.04 152,648.97 \" fill=\"none\" id=\"E8-backto-E6\" style=\"stroke:#181818;stroke-width:1.0;\"/><polygon fill=\"none\" points=\"152,572.14,148,578.14,152,584.14,156,578.14,152,572.14\" style=\"stroke:#181818;stroke-width:1.0;\"/><text fill=\"#000000\" font-family=\"sans-serif\" font-size=\"13\" lengthAdjust=\"spacing\" textLength=\"7\" x=\"153\" y=\"615.0669\">y</text></a></g><!--MD5=[23ac544a70576c3e717098101004234c]\n",
       "reverse link E9 to E10--><g id=\"link_E9_E10\"><a href=\"psysml:1f369bef-866d-4201-85d0-19625ffb0bd4\" target=\"_top\" title=\"psysml:1f369bef-866d-4201-85d0-19625ffb0bd4\" xlink:actuate=\"onRequest\" xlink:href=\"psysml:1f369bef-866d-4201-85d0-19625ffb0bd4\" xlink:show=\"new\" xlink:title=\"psysml:1f369bef-866d-4201-85d0-19625ffb0bd4\" xlink:type=\"simple\"><path d=\"M88.47,101.35 C81.47,117.29 73.39,135.68 67.18,149.83 \" fill=\"none\" id=\"E9-backto-E10\" style=\"stroke:#181818;stroke-width:1.0;\"/><polygon fill=\"none\" points=\"93.8,89.22,87.7243,93.1041,88.9729,100.2063,95.0485,96.3222,93.8,89.22\" style=\"stroke:#181818;stroke-width:1.0;\"/></a></g><!--MD5=[feeac5eb423634930294aa81f2d25a4c]\n",
       "link E10 to E3--><g id=\"link_E10_E3\"><a href=\"psysml:0dc69dec-387f-4606-9efc-6b8567a081cf\" target=\"_top\" title=\"psysml:0dc69dec-387f-4606-9efc-6b8567a081cf\" xlink:actuate=\"onRequest\" xlink:href=\"psysml:0dc69dec-387f-4606-9efc-6b8567a081cf\" xlink:show=\"new\" xlink:title=\"psysml:0dc69dec-387f-4606-9efc-6b8567a081cf\" xlink:type=\"simple\"><path d=\"M75.23,198.22 C85.46,211.26 98.51,227.88 110.28,242.87 \" fill=\"none\" id=\"E10-to-E3\" style=\"stroke:#181818;stroke-width:1.0;\"/><polygon fill=\"#FFFFFF\" points=\"122.81,258.83,105.5676,248.214,116.5764,239.565,122.81,258.83\" style=\"stroke:#181818;stroke-width:1.0;\"/><ellipse cx=\"103.6189\" cy=\"242.4963\" fill=\"#181818\" rx=\"2\" ry=\"2\" style=\"stroke:#181818;stroke-width:1.0;\"/><ellipse cx=\"111.4823\" cy=\"236.3184\" fill=\"#181818\" rx=\"2\" ry=\"2\" style=\"stroke:#181818;stroke-width:1.0;\"/></a></g><!--MD5=[1fc04a95fd77ad5ce46c1a3027516051]\n",
       "reverse link E9 to E11--><g id=\"link_E9_E11\"><a href=\"psysml:41147f3b-680c-4b19-9ea9-1ad0d7284d0b\" target=\"_top\" title=\"psysml:41147f3b-680c-4b19-9ea9-1ad0d7284d0b\" xlink:actuate=\"onRequest\" xlink:href=\"psysml:41147f3b-680c-4b19-9ea9-1ad0d7284d0b\" xlink:show=\"new\" xlink:title=\"psysml:41147f3b-680c-4b19-9ea9-1ad0d7284d0b\" xlink:type=\"simple\"><path d=\"M116.39,101.83 C121.86,117.66 128.14,135.82 132.99,149.83 \" fill=\"none\" id=\"E9-backto-E11\" style=\"stroke:#181818;stroke-width:1.0;\"/><polygon fill=\"none\" points=\"112.03,89.22,110.2077,96.1971,115.9472,100.5627,117.7695,93.5856,112.03,89.22\" style=\"stroke:#181818;stroke-width:1.0;\"/></a></g><!--MD5=[0517f1ce58c4d5483948f93845c45e26]\n",
       "link E11 to E3--><g id=\"link_E11_E3\"><a href=\"psysml:86cba12c-5c0b-4cb2-8a0f-652783ee7e3b\" target=\"_top\" title=\"psysml:86cba12c-5c0b-4cb2-8a0f-652783ee7e3b\" xlink:actuate=\"onRequest\" xlink:href=\"psysml:86cba12c-5c0b-4cb2-8a0f-652783ee7e3b\" xlink:show=\"new\" xlink:title=\"psysml:86cba12c-5c0b-4cb2-8a0f-652783ee7e3b\" xlink:type=\"simple\"><path d=\"M141,198.22 C141,210 141,224.69 141,238.48 \" fill=\"none\" id=\"E11-to-E3\" style=\"stroke:#181818;stroke-width:1.0;\"/><polygon fill=\"#FFFFFF\" points=\"141,258.83,134,239.83,148,239.83,141,258.83\" style=\"stroke:#181818;stroke-width:1.0;\"/><ellipse cx=\"136\" cy=\"234.13\" fill=\"#181818\" rx=\"2\" ry=\"2\" style=\"stroke:#181818;stroke-width:1.0;\"/><ellipse cx=\"146\" cy=\"234.13\" fill=\"#181818\" rx=\"2\" ry=\"2\" style=\"stroke:#181818;stroke-width:1.0;\"/></a></g><!--MD5=[b3ee8f18f9755d0d01e120c8950fb262]\n",
       "@startuml\r\n",
       "skin sysmlbw\r\n",
       "skinparam monochrome true\r\n",
       "skinparam wrapWidth 300\r\n",
       "hide circle\r\n",
       "\r\n",
       "package \"ItemTest\" as E1  [[psysml:b50080a1-e82f-4c80-9a3f-5d66ab4e7e23 ]]  {\r\n",
       "comp usage \"f: A  \" as E2  <<(T,blue) item>> [[psysml:4d36820e-7c5e-46bd-9de5-e346cea54837 ]] {\r\n",
       "}\r\n",
       "comp def \"A\" as E3  <<(T,blue) item  def>> [[psysml:90a9c46f-1bc9-4470-bf4e-8ae555dfcfc9 ]] {\r\n",
       "}\r\n",
       "comp usage \"b: B  \" as E4  <<(T,blue) item>> [[psysml:d394e1d7-ba50-4340-ad50-ece704d14a42 ]] {\r\n",
       "}\r\n",
       "comp usage \"c: C  \" as E5  <<(T,blue) part>> [[psysml:af047218-2074-4cd5-be73-a9bc4fd53c73 ]] {\r\n",
       "}\r\n",
       "comp def \"<i>B</i>\" as E6  <<(T,blue) item  def>> [[psysml:24ac0b44-19f7-4e7e-9d8c-29217623109a ]] {\r\n",
       "}\r\n",
       "comp usage \"<i>a</i>: A  \" as E7  <<(T,blue) part>> [[psysml:f97762a5-be4a-40f0-b15f-ded6f9a0a2bf ]] {\r\n",
       "}\r\n",
       "comp def \"C\" as E8  <<(T,blue) part  def>> [[psysml:2119f9fa-e703-4679-adcc-c9e3fda7136e ]] {\r\n",
       "}\r\n",
       "comp def \"P\" as E9  <<(T,blue) port  def>> [[psysml:f9be0f9f-7828-47af-b676-a3098923450b ]] {\r\n",
       "}\r\n",
       "comp usage \"a1: A  \" as E10  <<(T,blue) item>> [[psysml:bdd21edf-ffb1-47e0-8301-b129ba721304 ]] {\r\n",
       "}\r\n",
       "comp usage \"a2: A  \" as E11  <<(T,blue) item>> [[psysml:ea86bb80-7fc3-4478-bdc0-15728142c0fa ]] {\r\n",
       "}\r\n",
       "}\r\n",
       "E2 - -:|> E3 [[psysml:358bd963-d6cf-4c51-9d97-dc29b520688f ]] \r\n",
       "E3 *- - E4 [[psysml:724ffe94-cfbf-4ea2-b315-6baf1a587f0c ]] \r\n",
       "E3 o- - E5 [[psysml:9c72d63b-be6b-487b-af19-53b3ed2c634b ]] \r\n",
       "E4 - -:|> E6 [[psysml:c1d845e5-90b4-4786-9172-2f85f48f902a ]] \r\n",
       "E6 *- - E7 [[psysml:ee76f7ce-c996-4988-9b1a-5ac16ad8d066 ]] \r\n",
       "E7 - -:|> E3 [[psysml:1cb41c8a-3888-4a6d-b592-33957295a7ee ]] \r\n",
       "E5 - -:|> E8 [[psysml:b2862137-6a73-49a4-ad0f-48652eafb24c ]] \r\n",
       "E8 o- - E3 [[psysml:764dcc5f-c791-44bd-8fe4-0cc6162433fb ]] : y\r\n",
       "E8 o- - E6 [[psysml:764dcc5f-c791-44bd-8fe4-0cc6162433fb ]] : y\r\n",
       "E9 o- - E10 [[psysml:1f369bef-866d-4201-85d0-19625ffb0bd4 ]] \r\n",
       "E10 - -:|> E3 [[psysml:0dc69dec-387f-4606-9efc-6b8567a081cf ]] \r\n",
       "E9 o- - E11 [[psysml:41147f3b-680c-4b19-9ea9-1ad0d7284d0b ]] \r\n",
       "E11 - -:|> E3 [[psysml:86cba12c-5c0b-4cb2-8a0f-652783ee7e3b ]] \r\n",
       "@enduml\r\n",
       "\n",
       "PlantUML version 1.2022.7(Mon Aug 22 17:01:30 UTC 2022)\n",
       "(EPL source distribution)\n",
       "Java Runtime: OpenJDK Runtime Environment\n",
       "JVM: OpenJDK 64-Bit Server VM\n",
       "Default Encoding: UTF-8\n",
       "Language: en\n",
       "Country: null\n",
       "--></g></svg>"
      ]
     },
     "execution_count": 43,
     "metadata": {},
     "output_type": "execute_result"
    }
   ],
   "source": [
    "%viz --style=\"DEFAULT\" --view=\"MIXED\" \"ItemTest\""
   ]
  },
  {
   "cell_type": "code",
   "execution_count": 44,
   "id": "60fdf51e",
   "metadata": {
    "execution": {
     "iopub.execute_input": "2024-12-16T03:22:56.118602Z",
     "iopub.status.busy": "2024-12-16T03:22:56.118344Z",
     "iopub.status.idle": "2024-12-16T03:22:56.138648Z",
     "shell.execute_reply": "2024-12-16T03:22:56.137694Z"
    }
   },
   "outputs": [
    {
     "data": {
      "image/svg+xml": [
       "<?xml version=\"1.0\" encoding=\"UTF-8\" standalone=\"no\"?><svg xmlns=\"http://www.w3.org/2000/svg\" xmlns:xlink=\"http://www.w3.org/1999/xlink\" contentStyleType=\"text/css\" height=\"829px\" preserveAspectRatio=\"none\" style=\"width:277px;height:829px;background:#FFFFFF;\" version=\"1.1\" viewBox=\"0 0 277 829\" width=\"277px\" zoomAndPan=\"magnify\"><defs/><g><!--MD5=[fbc87193dbaf4d95561dea2c320d4a47]\n",
       "cluster E1--><g id=\"cluster_E1\"><a href=\"psysml:b50080a1-e82f-4c80-9a3f-5d66ab4e7e23\" target=\"_top\" title=\"psysml:b50080a1-e82f-4c80-9a3f-5d66ab4e7e23\" xlink:actuate=\"onRequest\" xlink:href=\"psysml:b50080a1-e82f-4c80-9a3f-5d66ab4e7e23\" xlink:show=\"new\" xlink:title=\"psysml:b50080a1-e82f-4c80-9a3f-5d66ab4e7e23\" xlink:type=\"simple\"><polygon fill=\"none\" points=\"16,6,86.5,6,93.5,28.2969,260,28.2969,260,822,16,822,16,6\" style=\"stroke:#000000;stroke-width:1.5;\"/><line style=\"stroke:#000000;stroke-width:1.5;\" x1=\"16\" x2=\"93.5\" y1=\"28.2969\" y2=\"28.2969\"/><text fill=\"#000000\" font-family=\"sans-serif\" font-size=\"14\" font-weight=\"bold\" lengthAdjust=\"spacing\" textLength=\"64.5\" x=\"20\" y=\"20.9951\">ItemTest</text></a></g><!--MD5=[b4997ac47864f28c2f74865a473b2911]\n",
       "class E2--><a href=\"psysml:4d36820e-7c5e-46bd-9de5-e346cea54837\" target=\"_top\" title=\"psysml:4d36820e-7c5e-46bd-9de5-e346cea54837\" xlink:actuate=\"onRequest\" xlink:href=\"psysml:4d36820e-7c5e-46bd-9de5-e346cea54837\" xlink:show=\"new\" xlink:title=\"psysml:4d36820e-7c5e-46bd-9de5-e346cea54837\" xlink:type=\"simple\"><g id=\"elem_E2\"><rect fill=\"#FFFFFF\" height=\"48.2656\" id=\"E2\" rx=\"10\" ry=\"10\" style=\"stroke:#181818;stroke-width:0.5;\" width=\"43\" x=\"200.5\" y=\"150\"/><text fill=\"#000000\" font-family=\"sans-serif\" font-size=\"12\" font-style=\"italic\" lengthAdjust=\"spacing\" textLength=\"41\" x=\"201.5\" y=\"166.1387\">«item»</text><text fill=\"#000000\" font-family=\"sans-serif\" font-size=\"14\" lengthAdjust=\"spacing\" textLength=\"22\" x=\"207\" y=\"181.9639\">f: A</text><line style=\"stroke:#181818;stroke-width:0.5;\" x1=\"201.5\" x2=\"242.5\" y1=\"190.2656\" y2=\"190.2656\"/></g></a><!--MD5=[09b614a08d8cba4a07c9adeb5e0fee81]\n",
       "class E3--><a href=\"psysml:90a9c46f-1bc9-4470-bf4e-8ae555dfcfc9\" target=\"_top\" title=\"psysml:90a9c46f-1bc9-4470-bf4e-8ae555dfcfc9\" xlink:actuate=\"onRequest\" xlink:href=\"psysml:90a9c46f-1bc9-4470-bf4e-8ae555dfcfc9\" xlink:show=\"new\" xlink:title=\"psysml:90a9c46f-1bc9-4470-bf4e-8ae555dfcfc9\" xlink:type=\"simple\"><g id=\"elem_E3\"><rect fill=\"#FFFFFF\" height=\"48.2656\" id=\"E3\" style=\"stroke:#181818;stroke-width:0.5;\" width=\"71\" x=\"105.5\" y=\"259\"/><text fill=\"#000000\" font-family=\"sans-serif\" font-size=\"12\" font-style=\"italic\" lengthAdjust=\"spacing\" textLength=\"69\" x=\"106.5\" y=\"275.1387\">«item  def»</text><text fill=\"#000000\" font-family=\"sans-serif\" font-size=\"14\" lengthAdjust=\"spacing\" textLength=\"9\" x=\"136.5\" y=\"290.9639\">A</text><line style=\"stroke:#181818;stroke-width:0.5;\" x1=\"106.5\" x2=\"175.5\" y1=\"299.2656\" y2=\"299.2656\"/></g></a><!--MD5=[ebbe1d658d1005bcc118a6aa81145e00]\n",
       "class E4--><a href=\"psysml:d394e1d7-ba50-4340-ad50-ece704d14a42\" target=\"_top\" title=\"psysml:d394e1d7-ba50-4340-ad50-ece704d14a42\" xlink:actuate=\"onRequest\" xlink:href=\"psysml:d394e1d7-ba50-4340-ad50-ece704d14a42\" xlink:show=\"new\" xlink:title=\"psysml:d394e1d7-ba50-4340-ad50-ece704d14a42\" xlink:type=\"simple\"><g id=\"elem_E4\"><rect fill=\"#FFFFFF\" height=\"48.2656\" id=\"E4\" rx=\"10\" ry=\"10\" style=\"stroke:#181818;stroke-width:0.5;\" width=\"43\" x=\"48.5\" y=\"446\"/><text fill=\"#000000\" font-family=\"sans-serif\" font-size=\"12\" font-style=\"italic\" lengthAdjust=\"spacing\" textLength=\"41\" x=\"49.5\" y=\"462.1387\">«item»</text><text fill=\"#000000\" font-family=\"sans-serif\" font-size=\"14\" lengthAdjust=\"spacing\" textLength=\"28\" x=\"52\" y=\"477.9639\">b: B</text><line style=\"stroke:#181818;stroke-width:0.5;\" x1=\"49.5\" x2=\"90.5\" y1=\"486.2656\" y2=\"486.2656\"/></g></a><!--MD5=[270fce915f116d4de14055a7c1d9a0f3]\n",
       "class E5--><a href=\"psysml:af047218-2074-4cd5-be73-a9bc4fd53c73\" target=\"_top\" title=\"psysml:af047218-2074-4cd5-be73-a9bc4fd53c73\" xlink:actuate=\"onRequest\" xlink:href=\"psysml:af047218-2074-4cd5-be73-a9bc4fd53c73\" xlink:show=\"new\" xlink:title=\"psysml:af047218-2074-4cd5-be73-a9bc4fd53c73\" xlink:type=\"simple\"><g id=\"elem_E5\"><rect fill=\"#FFFFFF\" height=\"48.2656\" id=\"E5\" rx=\"10\" ry=\"10\" style=\"stroke:#181818;stroke-width:0.5;\" width=\"42\" x=\"157\" y=\"368\"/><text fill=\"#000000\" font-family=\"sans-serif\" font-size=\"12\" font-style=\"italic\" lengthAdjust=\"spacing\" textLength=\"40\" x=\"158\" y=\"384.1387\">«part»</text><text fill=\"#000000\" font-family=\"sans-serif\" font-size=\"14\" lengthAdjust=\"spacing\" textLength=\"27\" x=\"160.5\" y=\"399.9639\">c: C</text><line style=\"stroke:#181818;stroke-width:0.5;\" x1=\"158\" x2=\"198\" y1=\"408.2656\" y2=\"408.2656\"/></g></a><!--MD5=[60a26617385b1d2d0262a64233df1f8d]\n",
       "class E6--><a href=\"psysml:24ac0b44-19f7-4e7e-9d8c-29217623109a\" target=\"_top\" title=\"psysml:24ac0b44-19f7-4e7e-9d8c-29217623109a\" xlink:actuate=\"onRequest\" xlink:href=\"psysml:24ac0b44-19f7-4e7e-9d8c-29217623109a\" xlink:show=\"new\" xlink:title=\"psysml:24ac0b44-19f7-4e7e-9d8c-29217623109a\" xlink:type=\"simple\"><g id=\"elem_E6\"><rect fill=\"#FFFFFF\" height=\"48.2656\" id=\"E6\" style=\"stroke:#181818;stroke-width:0.5;\" width=\"71\" x=\"116.5\" y=\"649\"/><text fill=\"#000000\" font-family=\"sans-serif\" font-size=\"12\" font-style=\"italic\" lengthAdjust=\"spacing\" textLength=\"69\" x=\"117.5\" y=\"665.1387\">«item  def»</text><text fill=\"#000000\" font-family=\"sans-serif\" font-size=\"14\" font-style=\"italic\" lengthAdjust=\"spacing\" textLength=\"10\" x=\"147\" y=\"680.9639\">B</text><line style=\"stroke:#181818;stroke-width:0.5;\" x1=\"117.5\" x2=\"186.5\" y1=\"689.2656\" y2=\"689.2656\"/></g></a><!--MD5=[2156ba9850f5573cc1fc38a6a4b2f02b]\n",
       "class E7--><a href=\"psysml:f97762a5-be4a-40f0-b15f-ded6f9a0a2bf\" target=\"_top\" title=\"psysml:f97762a5-be4a-40f0-b15f-ded6f9a0a2bf\" xlink:actuate=\"onRequest\" xlink:href=\"psysml:f97762a5-be4a-40f0-b15f-ded6f9a0a2bf\" xlink:show=\"new\" xlink:title=\"psysml:f97762a5-be4a-40f0-b15f-ded6f9a0a2bf\" xlink:type=\"simple\"><g id=\"elem_E7\"><rect fill=\"#FFFFFF\" height=\"48.2656\" id=\"E7\" rx=\"10\" ry=\"10\" style=\"stroke:#181818;stroke-width:0.5;\" width=\"42\" x=\"167\" y=\"758\"/><text fill=\"#000000\" font-family=\"sans-serif\" font-size=\"12\" font-style=\"italic\" lengthAdjust=\"spacing\" textLength=\"40\" x=\"168\" y=\"774.1387\">«part»</text><text fill=\"#000000\" font-family=\"sans-serif\" font-size=\"14\" font-style=\"italic\" lengthAdjust=\"spacing\" textLength=\"8\" x=\"171\" y=\"789.9639\">a</text><text fill=\"#000000\" font-family=\"sans-serif\" font-size=\"14\" lengthAdjust=\"spacing\" textLength=\"18\" x=\"179\" y=\"789.9639\">: A</text><line style=\"stroke:#181818;stroke-width:0.5;\" x1=\"168\" x2=\"208\" y1=\"798.2656\" y2=\"798.2656\"/></g></a><!--MD5=[b9389687b975829384b498ac4b7476b2]\n",
       "class E8--><a href=\"psysml:2119f9fa-e703-4679-adcc-c9e3fda7136e\" target=\"_top\" title=\"psysml:2119f9fa-e703-4679-adcc-c9e3fda7136e\" xlink:actuate=\"onRequest\" xlink:href=\"psysml:2119f9fa-e703-4679-adcc-c9e3fda7136e\" xlink:show=\"new\" xlink:title=\"psysml:2119f9fa-e703-4679-adcc-c9e3fda7136e\" xlink:type=\"simple\"><g id=\"elem_E8\"><rect fill=\"#FFFFFF\" height=\"48.2656\" id=\"E8\" style=\"stroke:#181818;stroke-width:0.5;\" width=\"70\" x=\"117\" y=\"524\"/><text fill=\"#000000\" font-family=\"sans-serif\" font-size=\"12\" font-style=\"italic\" lengthAdjust=\"spacing\" textLength=\"68\" x=\"118\" y=\"540.1387\">«part  def»</text><text fill=\"#000000\" font-family=\"sans-serif\" font-size=\"14\" lengthAdjust=\"spacing\" textLength=\"10\" x=\"147\" y=\"555.9639\">C</text><line style=\"stroke:#181818;stroke-width:0.5;\" x1=\"118\" x2=\"186\" y1=\"564.2656\" y2=\"564.2656\"/></g></a><!--MD5=[fd4143e9d270a159db93a4ea2a975926]\n",
       "class E9--><a href=\"psysml:f9be0f9f-7828-47af-b676-a3098923450b\" target=\"_top\" title=\"psysml:f9be0f9f-7828-47af-b676-a3098923450b\" xlink:actuate=\"onRequest\" xlink:href=\"psysml:f9be0f9f-7828-47af-b676-a3098923450b\" xlink:show=\"new\" xlink:title=\"psysml:f9be0f9f-7828-47af-b676-a3098923450b\" xlink:type=\"simple\"><g id=\"elem_E9\"><rect fill=\"#FFFFFF\" height=\"48.2656\" id=\"E9\" style=\"stroke:#181818;stroke-width:0.5;\" width=\"70\" x=\"69\" y=\"41\"/><text fill=\"#000000\" font-family=\"sans-serif\" font-size=\"12\" font-style=\"italic\" lengthAdjust=\"spacing\" textLength=\"68\" x=\"70\" y=\"57.1387\">«port  def»</text><text fill=\"#000000\" font-family=\"sans-serif\" font-size=\"14\" lengthAdjust=\"spacing\" textLength=\"9\" x=\"99.5\" y=\"72.9639\">P</text><line style=\"stroke:#181818;stroke-width:0.5;\" x1=\"70\" x2=\"138\" y1=\"81.2656\" y2=\"81.2656\"/></g></a><!--MD5=[96f4274e9e20536e775497830990834d]\n",
       "class E10--><a href=\"psysml:bdd21edf-ffb1-47e0-8301-b129ba721304\" target=\"_top\" title=\"psysml:bdd21edf-ffb1-47e0-8301-b129ba721304\" xlink:actuate=\"onRequest\" xlink:href=\"psysml:bdd21edf-ffb1-47e0-8301-b129ba721304\" xlink:show=\"new\" xlink:title=\"psysml:bdd21edf-ffb1-47e0-8301-b129ba721304\" xlink:type=\"simple\"><g id=\"elem_E10\"><rect fill=\"#FFFFFF\" height=\"48.2656\" id=\"E10\" rx=\"10\" ry=\"10\" style=\"stroke:#181818;stroke-width:0.5;\" width=\"49\" x=\"32.5\" y=\"150\"/><text fill=\"#000000\" font-family=\"sans-serif\" font-size=\"12\" font-style=\"italic\" lengthAdjust=\"spacing\" textLength=\"41\" x=\"36.5\" y=\"166.1387\">«item»</text><text fill=\"#000000\" font-family=\"sans-serif\" font-size=\"14\" lengthAdjust=\"spacing\" textLength=\"35\" x=\"35.5\" y=\"181.9639\">a1: A</text><line style=\"stroke:#181818;stroke-width:0.5;\" x1=\"33.5\" x2=\"80.5\" y1=\"190.2656\" y2=\"190.2656\"/></g></a><!--MD5=[1dd1bfd58a279cf63c5f349dbc8fc6a1]\n",
       "class E11--><a href=\"psysml:ea86bb80-7fc3-4478-bdc0-15728142c0fa\" target=\"_top\" title=\"psysml:ea86bb80-7fc3-4478-bdc0-15728142c0fa\" xlink:actuate=\"onRequest\" xlink:href=\"psysml:ea86bb80-7fc3-4478-bdc0-15728142c0fa\" xlink:show=\"new\" xlink:title=\"psysml:ea86bb80-7fc3-4478-bdc0-15728142c0fa\" xlink:type=\"simple\"><g id=\"elem_E11\"><rect fill=\"#FFFFFF\" height=\"48.2656\" id=\"E11\" rx=\"10\" ry=\"10\" style=\"stroke:#181818;stroke-width:0.5;\" width=\"49\" x=\"116.5\" y=\"150\"/><text fill=\"#000000\" font-family=\"sans-serif\" font-size=\"12\" font-style=\"italic\" lengthAdjust=\"spacing\" textLength=\"41\" x=\"120.5\" y=\"166.1387\">«item»</text><text fill=\"#000000\" font-family=\"sans-serif\" font-size=\"14\" lengthAdjust=\"spacing\" textLength=\"35\" x=\"119.5\" y=\"181.9639\">a2: A</text><line style=\"stroke:#181818;stroke-width:0.5;\" x1=\"117.5\" x2=\"164.5\" y1=\"190.2656\" y2=\"190.2656\"/></g></a><!--MD5=[2720a5a1f2c3fca2055b230370638851]\n",
       "link E2 to E3--><g id=\"link_E2_E3\"><a href=\"psysml:358bd963-d6cf-4c51-9d97-dc29b520688f\" target=\"_top\" title=\"psysml:358bd963-d6cf-4c51-9d97-dc29b520688f\" xlink:actuate=\"onRequest\" xlink:href=\"psysml:358bd963-d6cf-4c51-9d97-dc29b520688f\" xlink:show=\"new\" xlink:title=\"psysml:358bd963-d6cf-4c51-9d97-dc29b520688f\" xlink:type=\"simple\"><path d=\"M204.42,198.22 C194.55,211.26 181.97,227.88 170.62,242.87 \" fill=\"none\" id=\"E2-to-E3\" style=\"stroke:#181818;stroke-width:1.0;\"/><polygon fill=\"#FFFFFF\" points=\"158.54,258.83,164.4286,239.4567,175.5901,247.9078,158.54,258.83\" style=\"stroke:#181818;stroke-width:1.0;\"/><ellipse cx=\"169.4639\" cy=\"236.1197\" fill=\"#181818\" rx=\"2\" ry=\"2\" style=\"stroke:#181818;stroke-width:1.0;\"/><ellipse cx=\"177.4364\" cy=\"242.1562\" fill=\"#181818\" rx=\"2\" ry=\"2\" style=\"stroke:#181818;stroke-width:1.0;\"/></a></g><!--MD5=[4672eba38e49728da53d11aeb285b987]\n",
       "reverse link E3 to E4--><g id=\"link_E3_E4\"><a href=\"psysml:724ffe94-cfbf-4ea2-b315-6baf1a587f0c\" target=\"_top\" title=\"psysml:724ffe94-cfbf-4ea2-b315-6baf1a587f0c\" xlink:actuate=\"onRequest\" xlink:href=\"psysml:724ffe94-cfbf-4ea2-b315-6baf1a587f0c\" xlink:show=\"new\" xlink:title=\"psysml:724ffe94-cfbf-4ea2-b315-6baf1a587f0c\" xlink:type=\"simple\"><path d=\"M104.38,316.32 C90.85,330.64 77.09,348.62 70,368 C60.72,393.36 62.6,424.76 65.58,445.75 \" fill=\"none\" id=\"E3-backto-E4\" style=\"stroke:#181818;stroke-width:1.0;\"/><polygon fill=\"#181818\" points=\"113.62,307.02,106.5522,308.4507,105.1545,315.525,112.2223,314.0943,113.62,307.02\" style=\"stroke:#181818;stroke-width:1.0;\"/></a></g><!--MD5=[191cde3d490a3f6d7bb551fe3ddca469]\n",
       "reverse link E3 to E5--><g id=\"link_E3_E5\"><a href=\"psysml:9c72d63b-be6b-487b-af19-53b3ed2c634b\" target=\"_top\" title=\"psysml:9c72d63b-be6b-487b-af19-53b3ed2c634b\" xlink:actuate=\"onRequest\" xlink:href=\"psysml:9c72d63b-be6b-487b-af19-53b3ed2c634b\" xlink:show=\"new\" xlink:title=\"psysml:9c72d63b-be6b-487b-af19-53b3ed2c634b\" xlink:type=\"simple\"><path d=\"M153.39,319.83 C158.86,335.66 165.14,353.82 169.99,367.83 \" fill=\"none\" id=\"E3-backto-E5\" style=\"stroke:#181818;stroke-width:1.0;\"/><polygon fill=\"none\" points=\"149.03,307.22,147.2077,314.1971,152.9472,318.5627,154.7695,311.5856,149.03,307.22\" style=\"stroke:#181818;stroke-width:1.0;\"/></a></g><!--MD5=[79568f1e445c3877b6a54524624ccc7d]\n",
       "link E4 to E6--><g id=\"link_E4_E6\"><a href=\"psysml:c1d845e5-90b4-4786-9172-2f85f48f902a\" target=\"_top\" title=\"psysml:c1d845e5-90b4-4786-9172-2f85f48f902a\" xlink:actuate=\"onRequest\" xlink:href=\"psysml:c1d845e5-90b4-4786-9172-2f85f48f902a\" xlink:show=\"new\" xlink:title=\"psysml:c1d845e5-90b4-4786-9172-2f85f48f902a\" xlink:type=\"simple\"><path d=\"M75.57,494.29 C80.84,515.04 89.51,546.05 100,572 C108.08,591.98 118.83,613.29 128.46,631.07 \" fill=\"none\" id=\"E4-to-E6\" style=\"stroke:#181818;stroke-width:1.0;\"/><polygon fill=\"#FFFFFF\" points=\"138.29,648.76,122.9437,635.5505,135.1819,628.7515,138.29,648.76\" style=\"stroke:#181818;stroke-width:1.0;\"/><ellipse cx=\"121.9238\" cy=\"629.5965\" fill=\"#181818\" rx=\"2\" ry=\"2\" style=\"stroke:#181818;stroke-width:1.0;\"/><ellipse cx=\"130.6654\" cy=\"624.7401\" fill=\"#181818\" rx=\"2\" ry=\"2\" style=\"stroke:#181818;stroke-width:1.0;\"/></a></g><!--MD5=[3f50a3473f1dfb74d3f76443e03635af]\n",
       "reverse link E6 to E7--><g id=\"link_E6_E7\"><a href=\"psysml:ee76f7ce-c996-4988-9b1a-5ac16ad8d066\" target=\"_top\" title=\"psysml:ee76f7ce-c996-4988-9b1a-5ac16ad8d066\" xlink:actuate=\"onRequest\" xlink:href=\"psysml:ee76f7ce-c996-4988-9b1a-5ac16ad8d066\" xlink:show=\"new\" xlink:title=\"psysml:ee76f7ce-c996-4988-9b1a-5ac16ad8d066\" xlink:type=\"simple\"><path d=\"M164.05,709.83 C169.38,725.66 175.49,743.82 180.2,757.83 \" fill=\"none\" id=\"E6-backto-E7\" style=\"stroke:#181818;stroke-width:1.0;\"/><polygon fill=\"#181818\" points=\"159.81,697.22,157.9296,704.1816,163.6324,708.5949,165.5128,701.6333,159.81,697.22\" style=\"stroke:#181818;stroke-width:1.0;\"/></a></g><!--MD5=[14ccda38c055a5c0da953d572bc50960]\n",
       "link E7 to E3--><g id=\"link_E7_E3\"><a href=\"psysml:1cb41c8a-3888-4a6d-b592-33957295a7ee\" target=\"_top\" title=\"psysml:1cb41c8a-3888-4a6d-b592-33957295a7ee\" xlink:actuate=\"onRequest\" xlink:href=\"psysml:1cb41c8a-3888-4a6d-b592-33957295a7ee\" xlink:show=\"new\" xlink:title=\"psysml:1cb41c8a-3888-4a6d-b592-33957295a7ee\" xlink:type=\"simple\"><path d=\"M204.97,757.64 C218.43,736.78 235,704.84 235,674 C235,391 235,391 235,391 C235,361.35 214.38,336.01 192.46,317.43 \" fill=\"none\" id=\"E7-to-E3\" style=\"stroke:#181818;stroke-width:1.0;\"/><polygon fill=\"#FFFFFF\" points=\"176.54,305.14,195.8578,311.2081,187.3035,322.2907,176.54,305.14\" style=\"stroke:#181818;stroke-width:1.0;\"/><ellipse cx=\"199.148\" cy=\"316.2741\" fill=\"#181818\" rx=\"2\" ry=\"2\" style=\"stroke:#181818;stroke-width:1.0;\"/><ellipse cx=\"193.0378\" cy=\"324.1903\" fill=\"#181818\" rx=\"2\" ry=\"2\" style=\"stroke:#181818;stroke-width:1.0;\"/></a></g><!--MD5=[dfaffb906826c3e5aca635516100ff21]\n",
       "link E5 to E8--><g id=\"link_E5_E8\"><a href=\"psysml:b2862137-6a73-49a4-ad0f-48652eafb24c\" target=\"_top\" title=\"psysml:b2862137-6a73-49a4-ad0f-48652eafb24c\" xlink:actuate=\"onRequest\" xlink:href=\"psysml:b2862137-6a73-49a4-ad0f-48652eafb24c\" xlink:show=\"new\" xlink:title=\"psysml:b2862137-6a73-49a4-ad0f-48652eafb24c\" xlink:type=\"simple\"><path d=\"M174.11,416.06 C170.2,439.19 164.09,475.38 159.28,503.86 \" fill=\"none\" id=\"E5-to-E8\" style=\"stroke:#181818;stroke-width:1.0;\"/><polygon fill=\"#FFFFFF\" points=\"155.92,523.79,152.1809,503.8898,165.9855,506.2206,155.92,523.79\" style=\"stroke:#181818;stroke-width:1.0;\"/><ellipse cx=\"155.1019\" cy=\"498.6023\" fill=\"#181818\" rx=\"2\" ry=\"2\" style=\"stroke:#181818;stroke-width:1.0;\"/><ellipse cx=\"164.9624\" cy=\"500.2671\" fill=\"#181818\" rx=\"2\" ry=\"2\" style=\"stroke:#181818;stroke-width:1.0;\"/></a></g><!--MD5=[03c8294790d3c57651a1993cecff665f]\n",
       "reverse link E8 to E3--><g id=\"link_E8_E3\"><a href=\"psysml:764dcc5f-c791-44bd-8fe4-0cc6162433fb\" target=\"_top\" title=\"psysml:764dcc5f-c791-44bd-8fe4-0cc6162433fb\" xlink:actuate=\"onRequest\" xlink:href=\"psysml:764dcc5f-c791-44bd-8fe4-0cc6162433fb\" xlink:show=\"new\" xlink:title=\"psysml:764dcc5f-c791-44bd-8fe4-0cc6162433fb\" xlink:type=\"simple\"><path d=\"M144.62,510.88 C139.66,484.68 133.57,448.31 131,416 C129.31,394.73 129.74,389.3 131,368 C132.23,347.33 135.14,323.95 137.5,307.11 \" fill=\"none\" id=\"E8-backto-E3\" style=\"stroke:#181818;stroke-width:1.0;\"/><polygon fill=\"none\" points=\"147.16,523.94,149.9387,517.2857,144.865,512.1615,142.0863,518.8158,147.16,523.94\" style=\"stroke:#181818;stroke-width:1.0;\"/><text fill=\"#000000\" font-family=\"sans-serif\" font-size=\"13\" lengthAdjust=\"spacing\" textLength=\"7\" x=\"132\" y=\"396.5669\">y</text></a></g><!--MD5=[0d75d2178373a6a4568e5dc728f58aef]\n",
       "reverse link E8 to E6--><g id=\"link_E8_E6\"><a href=\"psysml:764dcc5f-c791-44bd-8fe4-0cc6162433fb\" target=\"_top\" title=\"psysml:764dcc5f-c791-44bd-8fe4-0cc6162433fb\" xlink:actuate=\"onRequest\" xlink:href=\"psysml:764dcc5f-c791-44bd-8fe4-0cc6162433fb\" xlink:show=\"new\" xlink:title=\"psysml:764dcc5f-c791-44bd-8fe4-0cc6162433fb\" xlink:type=\"simple\"><path d=\"M152,585.21 C152,605.83 152,631.04 152,648.97 \" fill=\"none\" id=\"E8-backto-E6\" style=\"stroke:#181818;stroke-width:1.0;\"/><polygon fill=\"none\" points=\"152,572.14,148,578.14,152,584.14,156,578.14,152,572.14\" style=\"stroke:#181818;stroke-width:1.0;\"/><text fill=\"#000000\" font-family=\"sans-serif\" font-size=\"13\" lengthAdjust=\"spacing\" textLength=\"7\" x=\"153\" y=\"615.0669\">y</text></a></g><!--MD5=[23ac544a70576c3e717098101004234c]\n",
       "reverse link E9 to E10--><g id=\"link_E9_E10\"><a href=\"psysml:1f369bef-866d-4201-85d0-19625ffb0bd4\" target=\"_top\" title=\"psysml:1f369bef-866d-4201-85d0-19625ffb0bd4\" xlink:actuate=\"onRequest\" xlink:href=\"psysml:1f369bef-866d-4201-85d0-19625ffb0bd4\" xlink:show=\"new\" xlink:title=\"psysml:1f369bef-866d-4201-85d0-19625ffb0bd4\" xlink:type=\"simple\"><path d=\"M88.47,101.35 C81.47,117.29 73.39,135.68 67.18,149.83 \" fill=\"none\" id=\"E9-backto-E10\" style=\"stroke:#181818;stroke-width:1.0;\"/><polygon fill=\"none\" points=\"93.8,89.22,87.7243,93.1041,88.9729,100.2063,95.0485,96.3222,93.8,89.22\" style=\"stroke:#181818;stroke-width:1.0;\"/></a></g><!--MD5=[feeac5eb423634930294aa81f2d25a4c]\n",
       "link E10 to E3--><g id=\"link_E10_E3\"><a href=\"psysml:0dc69dec-387f-4606-9efc-6b8567a081cf\" target=\"_top\" title=\"psysml:0dc69dec-387f-4606-9efc-6b8567a081cf\" xlink:actuate=\"onRequest\" xlink:href=\"psysml:0dc69dec-387f-4606-9efc-6b8567a081cf\" xlink:show=\"new\" xlink:title=\"psysml:0dc69dec-387f-4606-9efc-6b8567a081cf\" xlink:type=\"simple\"><path d=\"M75.23,198.22 C85.46,211.26 98.51,227.88 110.28,242.87 \" fill=\"none\" id=\"E10-to-E3\" style=\"stroke:#181818;stroke-width:1.0;\"/><polygon fill=\"#FFFFFF\" points=\"122.81,258.83,105.5676,248.214,116.5764,239.565,122.81,258.83\" style=\"stroke:#181818;stroke-width:1.0;\"/><ellipse cx=\"103.6189\" cy=\"242.4963\" fill=\"#181818\" rx=\"2\" ry=\"2\" style=\"stroke:#181818;stroke-width:1.0;\"/><ellipse cx=\"111.4823\" cy=\"236.3184\" fill=\"#181818\" rx=\"2\" ry=\"2\" style=\"stroke:#181818;stroke-width:1.0;\"/></a></g><!--MD5=[1fc04a95fd77ad5ce46c1a3027516051]\n",
       "reverse link E9 to E11--><g id=\"link_E9_E11\"><a href=\"psysml:41147f3b-680c-4b19-9ea9-1ad0d7284d0b\" target=\"_top\" title=\"psysml:41147f3b-680c-4b19-9ea9-1ad0d7284d0b\" xlink:actuate=\"onRequest\" xlink:href=\"psysml:41147f3b-680c-4b19-9ea9-1ad0d7284d0b\" xlink:show=\"new\" xlink:title=\"psysml:41147f3b-680c-4b19-9ea9-1ad0d7284d0b\" xlink:type=\"simple\"><path d=\"M116.39,101.83 C121.86,117.66 128.14,135.82 132.99,149.83 \" fill=\"none\" id=\"E9-backto-E11\" style=\"stroke:#181818;stroke-width:1.0;\"/><polygon fill=\"none\" points=\"112.03,89.22,110.2077,96.1971,115.9472,100.5627,117.7695,93.5856,112.03,89.22\" style=\"stroke:#181818;stroke-width:1.0;\"/></a></g><!--MD5=[0517f1ce58c4d5483948f93845c45e26]\n",
       "link E11 to E3--><g id=\"link_E11_E3\"><a href=\"psysml:86cba12c-5c0b-4cb2-8a0f-652783ee7e3b\" target=\"_top\" title=\"psysml:86cba12c-5c0b-4cb2-8a0f-652783ee7e3b\" xlink:actuate=\"onRequest\" xlink:href=\"psysml:86cba12c-5c0b-4cb2-8a0f-652783ee7e3b\" xlink:show=\"new\" xlink:title=\"psysml:86cba12c-5c0b-4cb2-8a0f-652783ee7e3b\" xlink:type=\"simple\"><path d=\"M141,198.22 C141,210 141,224.69 141,238.48 \" fill=\"none\" id=\"E11-to-E3\" style=\"stroke:#181818;stroke-width:1.0;\"/><polygon fill=\"#FFFFFF\" points=\"141,258.83,134,239.83,148,239.83,141,258.83\" style=\"stroke:#181818;stroke-width:1.0;\"/><ellipse cx=\"136\" cy=\"234.13\" fill=\"#181818\" rx=\"2\" ry=\"2\" style=\"stroke:#181818;stroke-width:1.0;\"/><ellipse cx=\"146\" cy=\"234.13\" fill=\"#181818\" rx=\"2\" ry=\"2\" style=\"stroke:#181818;stroke-width:1.0;\"/></a></g><!--MD5=[e61d447cdcf151d09473e637d06ba3e0]\n",
       "@startuml\r\n",
       "skin sysmlbw\r\n",
       "skinparam monochrome true\r\n",
       "skinparam wrapWidth 300\r\n",
       "hide circle\r\n",
       "top to bottom direction\r\n",
       "\r\n",
       "package \"ItemTest\" as E1  [[psysml:b50080a1-e82f-4c80-9a3f-5d66ab4e7e23 ]]  {\r\n",
       "comp usage \"f: A  \" as E2  <<(T,blue) item>> [[psysml:4d36820e-7c5e-46bd-9de5-e346cea54837 ]] {\r\n",
       "}\r\n",
       "comp def \"A\" as E3  <<(T,blue) item  def>> [[psysml:90a9c46f-1bc9-4470-bf4e-8ae555dfcfc9 ]] {\r\n",
       "}\r\n",
       "comp usage \"b: B  \" as E4  <<(T,blue) item>> [[psysml:d394e1d7-ba50-4340-ad50-ece704d14a42 ]] {\r\n",
       "}\r\n",
       "comp usage \"c: C  \" as E5  <<(T,blue) part>> [[psysml:af047218-2074-4cd5-be73-a9bc4fd53c73 ]] {\r\n",
       "}\r\n",
       "comp def \"<i>B</i>\" as E6  <<(T,blue) item  def>> [[psysml:24ac0b44-19f7-4e7e-9d8c-29217623109a ]] {\r\n",
       "}\r\n",
       "comp usage \"<i>a</i>: A  \" as E7  <<(T,blue) part>> [[psysml:f97762a5-be4a-40f0-b15f-ded6f9a0a2bf ]] {\r\n",
       "}\r\n",
       "comp def \"C\" as E8  <<(T,blue) part  def>> [[psysml:2119f9fa-e703-4679-adcc-c9e3fda7136e ]] {\r\n",
       "}\r\n",
       "comp def \"P\" as E9  <<(T,blue) port  def>> [[psysml:f9be0f9f-7828-47af-b676-a3098923450b ]] {\r\n",
       "}\r\n",
       "comp usage \"a1: A  \" as E10  <<(T,blue) item>> [[psysml:bdd21edf-ffb1-47e0-8301-b129ba721304 ]] {\r\n",
       "}\r\n",
       "comp usage \"a2: A  \" as E11  <<(T,blue) item>> [[psysml:ea86bb80-7fc3-4478-bdc0-15728142c0fa ]] {\r\n",
       "}\r\n",
       "}\r\n",
       "E2 - -:|> E3 [[psysml:358bd963-d6cf-4c51-9d97-dc29b520688f ]] \r\n",
       "E3 *- - E4 [[psysml:724ffe94-cfbf-4ea2-b315-6baf1a587f0c ]] \r\n",
       "E3 o- - E5 [[psysml:9c72d63b-be6b-487b-af19-53b3ed2c634b ]] \r\n",
       "E4 - -:|> E6 [[psysml:c1d845e5-90b4-4786-9172-2f85f48f902a ]] \r\n",
       "E6 *- - E7 [[psysml:ee76f7ce-c996-4988-9b1a-5ac16ad8d066 ]] \r\n",
       "E7 - -:|> E3 [[psysml:1cb41c8a-3888-4a6d-b592-33957295a7ee ]] \r\n",
       "E5 - -:|> E8 [[psysml:b2862137-6a73-49a4-ad0f-48652eafb24c ]] \r\n",
       "E8 o- - E3 [[psysml:764dcc5f-c791-44bd-8fe4-0cc6162433fb ]] : y\r\n",
       "E8 o- - E6 [[psysml:764dcc5f-c791-44bd-8fe4-0cc6162433fb ]] : y\r\n",
       "E9 o- - E10 [[psysml:1f369bef-866d-4201-85d0-19625ffb0bd4 ]] \r\n",
       "E10 - -:|> E3 [[psysml:0dc69dec-387f-4606-9efc-6b8567a081cf ]] \r\n",
       "E9 o- - E11 [[psysml:41147f3b-680c-4b19-9ea9-1ad0d7284d0b ]] \r\n",
       "E11 - -:|> E3 [[psysml:86cba12c-5c0b-4cb2-8a0f-652783ee7e3b ]] \r\n",
       "@enduml\r\n",
       "\n",
       "PlantUML version 1.2022.7(Mon Aug 22 17:01:30 UTC 2022)\n",
       "(EPL source distribution)\n",
       "Java Runtime: OpenJDK Runtime Environment\n",
       "JVM: OpenJDK 64-Bit Server VM\n",
       "Default Encoding: UTF-8\n",
       "Language: en\n",
       "Country: null\n",
       "--></g></svg>"
      ]
     },
     "execution_count": 44,
     "metadata": {},
     "output_type": "execute_result"
    }
   ],
   "source": [
    "%viz --style=\"TB\" --view=\"Default\" \"ItemTest\""
   ]
  },
  {
   "cell_type": "code",
   "execution_count": 45,
   "id": "a4f4eea3",
   "metadata": {
    "execution": {
     "iopub.execute_input": "2024-12-16T03:22:56.189677Z",
     "iopub.status.busy": "2024-12-16T03:22:56.189442Z",
     "iopub.status.idle": "2024-12-16T03:22:56.218232Z",
     "shell.execute_reply": "2024-12-16T03:22:56.217363Z"
    }
   },
   "outputs": [
    {
     "data": {
      "image/svg+xml": [
       "<?xml version=\"1.0\" encoding=\"UTF-8\" standalone=\"no\"?><svg xmlns=\"http://www.w3.org/2000/svg\" xmlns:xlink=\"http://www.w3.org/1999/xlink\" contentStyleType=\"text/css\" height=\"829px\" preserveAspectRatio=\"none\" style=\"width:277px;height:829px;background:#FFFFFF;\" version=\"1.1\" viewBox=\"0 0 277 829\" width=\"277px\" zoomAndPan=\"magnify\"><defs/><g><!--MD5=[fbc87193dbaf4d95561dea2c320d4a47]\n",
       "cluster E1--><g id=\"cluster_E1\"><a href=\"psysml:b50080a1-e82f-4c80-9a3f-5d66ab4e7e23\" target=\"_top\" title=\"psysml:b50080a1-e82f-4c80-9a3f-5d66ab4e7e23\" xlink:actuate=\"onRequest\" xlink:href=\"psysml:b50080a1-e82f-4c80-9a3f-5d66ab4e7e23\" xlink:show=\"new\" xlink:title=\"psysml:b50080a1-e82f-4c80-9a3f-5d66ab4e7e23\" xlink:type=\"simple\"><polygon fill=\"none\" points=\"16,6,86.5,6,93.5,28.2969,260,28.2969,260,822,16,822,16,6\" style=\"stroke:#000000;stroke-width:1.5;\"/><line style=\"stroke:#000000;stroke-width:1.5;\" x1=\"16\" x2=\"93.5\" y1=\"28.2969\" y2=\"28.2969\"/><text fill=\"#000000\" font-family=\"sans-serif\" font-size=\"14\" font-weight=\"bold\" lengthAdjust=\"spacing\" textLength=\"64.5\" x=\"20\" y=\"20.9951\">ItemTest</text></a></g><!--MD5=[b4997ac47864f28c2f74865a473b2911]\n",
       "class E2--><a href=\"psysml:4d36820e-7c5e-46bd-9de5-e346cea54837\" target=\"_top\" title=\"psysml:4d36820e-7c5e-46bd-9de5-e346cea54837\" xlink:actuate=\"onRequest\" xlink:href=\"psysml:4d36820e-7c5e-46bd-9de5-e346cea54837\" xlink:show=\"new\" xlink:title=\"psysml:4d36820e-7c5e-46bd-9de5-e346cea54837\" xlink:type=\"simple\"><g id=\"elem_E2\"><rect fill=\"#FFFFFF\" height=\"48.2656\" id=\"E2\" rx=\"10\" ry=\"10\" style=\"stroke:#181818;stroke-width:0.5;\" width=\"43\" x=\"200.5\" y=\"150\"/><text fill=\"#000000\" font-family=\"sans-serif\" font-size=\"12\" font-style=\"italic\" lengthAdjust=\"spacing\" textLength=\"41\" x=\"201.5\" y=\"166.1387\">«item»</text><text fill=\"#000000\" font-family=\"sans-serif\" font-size=\"14\" lengthAdjust=\"spacing\" textLength=\"22\" x=\"207\" y=\"181.9639\">f: A</text><line style=\"stroke:#181818;stroke-width:0.5;\" x1=\"201.5\" x2=\"242.5\" y1=\"190.2656\" y2=\"190.2656\"/></g></a><!--MD5=[09b614a08d8cba4a07c9adeb5e0fee81]\n",
       "class E3--><a href=\"psysml:90a9c46f-1bc9-4470-bf4e-8ae555dfcfc9\" target=\"_top\" title=\"psysml:90a9c46f-1bc9-4470-bf4e-8ae555dfcfc9\" xlink:actuate=\"onRequest\" xlink:href=\"psysml:90a9c46f-1bc9-4470-bf4e-8ae555dfcfc9\" xlink:show=\"new\" xlink:title=\"psysml:90a9c46f-1bc9-4470-bf4e-8ae555dfcfc9\" xlink:type=\"simple\"><g id=\"elem_E3\"><rect fill=\"#FFFFFF\" height=\"48.2656\" id=\"E3\" style=\"stroke:#181818;stroke-width:0.5;\" width=\"71\" x=\"105.5\" y=\"259\"/><text fill=\"#000000\" font-family=\"sans-serif\" font-size=\"12\" font-style=\"italic\" lengthAdjust=\"spacing\" textLength=\"69\" x=\"106.5\" y=\"275.1387\">«item  def»</text><text fill=\"#000000\" font-family=\"sans-serif\" font-size=\"14\" lengthAdjust=\"spacing\" textLength=\"9\" x=\"136.5\" y=\"290.9639\">A</text><line style=\"stroke:#181818;stroke-width:0.5;\" x1=\"106.5\" x2=\"175.5\" y1=\"299.2656\" y2=\"299.2656\"/></g></a><!--MD5=[ebbe1d658d1005bcc118a6aa81145e00]\n",
       "class E4--><a href=\"psysml:d394e1d7-ba50-4340-ad50-ece704d14a42\" target=\"_top\" title=\"psysml:d394e1d7-ba50-4340-ad50-ece704d14a42\" xlink:actuate=\"onRequest\" xlink:href=\"psysml:d394e1d7-ba50-4340-ad50-ece704d14a42\" xlink:show=\"new\" xlink:title=\"psysml:d394e1d7-ba50-4340-ad50-ece704d14a42\" xlink:type=\"simple\"><g id=\"elem_E4\"><rect fill=\"#FFFFFF\" height=\"48.2656\" id=\"E4\" rx=\"10\" ry=\"10\" style=\"stroke:#181818;stroke-width:0.5;\" width=\"43\" x=\"48.5\" y=\"446\"/><text fill=\"#000000\" font-family=\"sans-serif\" font-size=\"12\" font-style=\"italic\" lengthAdjust=\"spacing\" textLength=\"41\" x=\"49.5\" y=\"462.1387\">«item»</text><text fill=\"#000000\" font-family=\"sans-serif\" font-size=\"14\" lengthAdjust=\"spacing\" textLength=\"28\" x=\"52\" y=\"477.9639\">b: B</text><line style=\"stroke:#181818;stroke-width:0.5;\" x1=\"49.5\" x2=\"90.5\" y1=\"486.2656\" y2=\"486.2656\"/></g></a><!--MD5=[270fce915f116d4de14055a7c1d9a0f3]\n",
       "class E5--><a href=\"psysml:af047218-2074-4cd5-be73-a9bc4fd53c73\" target=\"_top\" title=\"psysml:af047218-2074-4cd5-be73-a9bc4fd53c73\" xlink:actuate=\"onRequest\" xlink:href=\"psysml:af047218-2074-4cd5-be73-a9bc4fd53c73\" xlink:show=\"new\" xlink:title=\"psysml:af047218-2074-4cd5-be73-a9bc4fd53c73\" xlink:type=\"simple\"><g id=\"elem_E5\"><rect fill=\"#FFFFFF\" height=\"48.2656\" id=\"E5\" rx=\"10\" ry=\"10\" style=\"stroke:#181818;stroke-width:0.5;\" width=\"42\" x=\"157\" y=\"368\"/><text fill=\"#000000\" font-family=\"sans-serif\" font-size=\"12\" font-style=\"italic\" lengthAdjust=\"spacing\" textLength=\"40\" x=\"158\" y=\"384.1387\">«part»</text><text fill=\"#000000\" font-family=\"sans-serif\" font-size=\"14\" lengthAdjust=\"spacing\" textLength=\"27\" x=\"160.5\" y=\"399.9639\">c: C</text><line style=\"stroke:#181818;stroke-width:0.5;\" x1=\"158\" x2=\"198\" y1=\"408.2656\" y2=\"408.2656\"/></g></a><!--MD5=[60a26617385b1d2d0262a64233df1f8d]\n",
       "class E6--><a href=\"psysml:24ac0b44-19f7-4e7e-9d8c-29217623109a\" target=\"_top\" title=\"psysml:24ac0b44-19f7-4e7e-9d8c-29217623109a\" xlink:actuate=\"onRequest\" xlink:href=\"psysml:24ac0b44-19f7-4e7e-9d8c-29217623109a\" xlink:show=\"new\" xlink:title=\"psysml:24ac0b44-19f7-4e7e-9d8c-29217623109a\" xlink:type=\"simple\"><g id=\"elem_E6\"><rect fill=\"#FFFFFF\" height=\"48.2656\" id=\"E6\" style=\"stroke:#181818;stroke-width:0.5;\" width=\"71\" x=\"116.5\" y=\"649\"/><text fill=\"#000000\" font-family=\"sans-serif\" font-size=\"12\" font-style=\"italic\" lengthAdjust=\"spacing\" textLength=\"69\" x=\"117.5\" y=\"665.1387\">«item  def»</text><text fill=\"#000000\" font-family=\"sans-serif\" font-size=\"14\" font-style=\"italic\" lengthAdjust=\"spacing\" textLength=\"10\" x=\"147\" y=\"680.9639\">B</text><line style=\"stroke:#181818;stroke-width:0.5;\" x1=\"117.5\" x2=\"186.5\" y1=\"689.2656\" y2=\"689.2656\"/></g></a><!--MD5=[2156ba9850f5573cc1fc38a6a4b2f02b]\n",
       "class E7--><a href=\"psysml:f97762a5-be4a-40f0-b15f-ded6f9a0a2bf\" target=\"_top\" title=\"psysml:f97762a5-be4a-40f0-b15f-ded6f9a0a2bf\" xlink:actuate=\"onRequest\" xlink:href=\"psysml:f97762a5-be4a-40f0-b15f-ded6f9a0a2bf\" xlink:show=\"new\" xlink:title=\"psysml:f97762a5-be4a-40f0-b15f-ded6f9a0a2bf\" xlink:type=\"simple\"><g id=\"elem_E7\"><rect fill=\"#FFFFFF\" height=\"48.2656\" id=\"E7\" rx=\"10\" ry=\"10\" style=\"stroke:#181818;stroke-width:0.5;\" width=\"42\" x=\"167\" y=\"758\"/><text fill=\"#000000\" font-family=\"sans-serif\" font-size=\"12\" font-style=\"italic\" lengthAdjust=\"spacing\" textLength=\"40\" x=\"168\" y=\"774.1387\">«part»</text><text fill=\"#000000\" font-family=\"sans-serif\" font-size=\"14\" font-style=\"italic\" lengthAdjust=\"spacing\" textLength=\"8\" x=\"171\" y=\"789.9639\">a</text><text fill=\"#000000\" font-family=\"sans-serif\" font-size=\"14\" lengthAdjust=\"spacing\" textLength=\"18\" x=\"179\" y=\"789.9639\">: A</text><line style=\"stroke:#181818;stroke-width:0.5;\" x1=\"168\" x2=\"208\" y1=\"798.2656\" y2=\"798.2656\"/></g></a><!--MD5=[b9389687b975829384b498ac4b7476b2]\n",
       "class E8--><a href=\"psysml:2119f9fa-e703-4679-adcc-c9e3fda7136e\" target=\"_top\" title=\"psysml:2119f9fa-e703-4679-adcc-c9e3fda7136e\" xlink:actuate=\"onRequest\" xlink:href=\"psysml:2119f9fa-e703-4679-adcc-c9e3fda7136e\" xlink:show=\"new\" xlink:title=\"psysml:2119f9fa-e703-4679-adcc-c9e3fda7136e\" xlink:type=\"simple\"><g id=\"elem_E8\"><rect fill=\"#FFFFFF\" height=\"48.2656\" id=\"E8\" style=\"stroke:#181818;stroke-width:0.5;\" width=\"70\" x=\"117\" y=\"524\"/><text fill=\"#000000\" font-family=\"sans-serif\" font-size=\"12\" font-style=\"italic\" lengthAdjust=\"spacing\" textLength=\"68\" x=\"118\" y=\"540.1387\">«part  def»</text><text fill=\"#000000\" font-family=\"sans-serif\" font-size=\"14\" lengthAdjust=\"spacing\" textLength=\"10\" x=\"147\" y=\"555.9639\">C</text><line style=\"stroke:#181818;stroke-width:0.5;\" x1=\"118\" x2=\"186\" y1=\"564.2656\" y2=\"564.2656\"/></g></a><!--MD5=[fd4143e9d270a159db93a4ea2a975926]\n",
       "class E9--><a href=\"psysml:f9be0f9f-7828-47af-b676-a3098923450b\" target=\"_top\" title=\"psysml:f9be0f9f-7828-47af-b676-a3098923450b\" xlink:actuate=\"onRequest\" xlink:href=\"psysml:f9be0f9f-7828-47af-b676-a3098923450b\" xlink:show=\"new\" xlink:title=\"psysml:f9be0f9f-7828-47af-b676-a3098923450b\" xlink:type=\"simple\"><g id=\"elem_E9\"><rect fill=\"#FFFFFF\" height=\"48.2656\" id=\"E9\" style=\"stroke:#181818;stroke-width:0.5;\" width=\"70\" x=\"69\" y=\"41\"/><text fill=\"#000000\" font-family=\"sans-serif\" font-size=\"12\" font-style=\"italic\" lengthAdjust=\"spacing\" textLength=\"68\" x=\"70\" y=\"57.1387\">«port  def»</text><text fill=\"#000000\" font-family=\"sans-serif\" font-size=\"14\" lengthAdjust=\"spacing\" textLength=\"9\" x=\"99.5\" y=\"72.9639\">P</text><line style=\"stroke:#181818;stroke-width:0.5;\" x1=\"70\" x2=\"138\" y1=\"81.2656\" y2=\"81.2656\"/></g></a><!--MD5=[96f4274e9e20536e775497830990834d]\n",
       "class E10--><a href=\"psysml:bdd21edf-ffb1-47e0-8301-b129ba721304\" target=\"_top\" title=\"psysml:bdd21edf-ffb1-47e0-8301-b129ba721304\" xlink:actuate=\"onRequest\" xlink:href=\"psysml:bdd21edf-ffb1-47e0-8301-b129ba721304\" xlink:show=\"new\" xlink:title=\"psysml:bdd21edf-ffb1-47e0-8301-b129ba721304\" xlink:type=\"simple\"><g id=\"elem_E10\"><rect fill=\"#FFFFFF\" height=\"48.2656\" id=\"E10\" rx=\"10\" ry=\"10\" style=\"stroke:#181818;stroke-width:0.5;\" width=\"49\" x=\"32.5\" y=\"150\"/><text fill=\"#000000\" font-family=\"sans-serif\" font-size=\"12\" font-style=\"italic\" lengthAdjust=\"spacing\" textLength=\"41\" x=\"36.5\" y=\"166.1387\">«item»</text><text fill=\"#000000\" font-family=\"sans-serif\" font-size=\"14\" lengthAdjust=\"spacing\" textLength=\"35\" x=\"35.5\" y=\"181.9639\">a1: A</text><line style=\"stroke:#181818;stroke-width:0.5;\" x1=\"33.5\" x2=\"80.5\" y1=\"190.2656\" y2=\"190.2656\"/></g></a><!--MD5=[1dd1bfd58a279cf63c5f349dbc8fc6a1]\n",
       "class E11--><a href=\"psysml:ea86bb80-7fc3-4478-bdc0-15728142c0fa\" target=\"_top\" title=\"psysml:ea86bb80-7fc3-4478-bdc0-15728142c0fa\" xlink:actuate=\"onRequest\" xlink:href=\"psysml:ea86bb80-7fc3-4478-bdc0-15728142c0fa\" xlink:show=\"new\" xlink:title=\"psysml:ea86bb80-7fc3-4478-bdc0-15728142c0fa\" xlink:type=\"simple\"><g id=\"elem_E11\"><rect fill=\"#FFFFFF\" height=\"48.2656\" id=\"E11\" rx=\"10\" ry=\"10\" style=\"stroke:#181818;stroke-width:0.5;\" width=\"49\" x=\"116.5\" y=\"150\"/><text fill=\"#000000\" font-family=\"sans-serif\" font-size=\"12\" font-style=\"italic\" lengthAdjust=\"spacing\" textLength=\"41\" x=\"120.5\" y=\"166.1387\">«item»</text><text fill=\"#000000\" font-family=\"sans-serif\" font-size=\"14\" lengthAdjust=\"spacing\" textLength=\"35\" x=\"119.5\" y=\"181.9639\">a2: A</text><line style=\"stroke:#181818;stroke-width:0.5;\" x1=\"117.5\" x2=\"164.5\" y1=\"190.2656\" y2=\"190.2656\"/></g></a><!--MD5=[2720a5a1f2c3fca2055b230370638851]\n",
       "link E2 to E3--><g id=\"link_E2_E3\"><a href=\"psysml:358bd963-d6cf-4c51-9d97-dc29b520688f\" target=\"_top\" title=\"psysml:358bd963-d6cf-4c51-9d97-dc29b520688f\" xlink:actuate=\"onRequest\" xlink:href=\"psysml:358bd963-d6cf-4c51-9d97-dc29b520688f\" xlink:show=\"new\" xlink:title=\"psysml:358bd963-d6cf-4c51-9d97-dc29b520688f\" xlink:type=\"simple\"><path d=\"M204.42,198.22 C194.55,211.26 181.97,227.88 170.62,242.87 \" fill=\"none\" id=\"E2-to-E3\" style=\"stroke:#181818;stroke-width:1.0;\"/><polygon fill=\"#FFFFFF\" points=\"158.54,258.83,164.4286,239.4567,175.5901,247.9078,158.54,258.83\" style=\"stroke:#181818;stroke-width:1.0;\"/><ellipse cx=\"169.4639\" cy=\"236.1197\" fill=\"#181818\" rx=\"2\" ry=\"2\" style=\"stroke:#181818;stroke-width:1.0;\"/><ellipse cx=\"177.4364\" cy=\"242.1562\" fill=\"#181818\" rx=\"2\" ry=\"2\" style=\"stroke:#181818;stroke-width:1.0;\"/></a></g><!--MD5=[4672eba38e49728da53d11aeb285b987]\n",
       "reverse link E3 to E4--><g id=\"link_E3_E4\"><a href=\"psysml:724ffe94-cfbf-4ea2-b315-6baf1a587f0c\" target=\"_top\" title=\"psysml:724ffe94-cfbf-4ea2-b315-6baf1a587f0c\" xlink:actuate=\"onRequest\" xlink:href=\"psysml:724ffe94-cfbf-4ea2-b315-6baf1a587f0c\" xlink:show=\"new\" xlink:title=\"psysml:724ffe94-cfbf-4ea2-b315-6baf1a587f0c\" xlink:type=\"simple\"><path d=\"M104.38,316.32 C90.85,330.64 77.09,348.62 70,368 C60.72,393.36 62.6,424.76 65.58,445.75 \" fill=\"none\" id=\"E3-backto-E4\" style=\"stroke:#181818;stroke-width:1.0;\"/><polygon fill=\"#181818\" points=\"113.62,307.02,106.5522,308.4507,105.1545,315.525,112.2223,314.0943,113.62,307.02\" style=\"stroke:#181818;stroke-width:1.0;\"/></a></g><!--MD5=[191cde3d490a3f6d7bb551fe3ddca469]\n",
       "reverse link E3 to E5--><g id=\"link_E3_E5\"><a href=\"psysml:9c72d63b-be6b-487b-af19-53b3ed2c634b\" target=\"_top\" title=\"psysml:9c72d63b-be6b-487b-af19-53b3ed2c634b\" xlink:actuate=\"onRequest\" xlink:href=\"psysml:9c72d63b-be6b-487b-af19-53b3ed2c634b\" xlink:show=\"new\" xlink:title=\"psysml:9c72d63b-be6b-487b-af19-53b3ed2c634b\" xlink:type=\"simple\"><path d=\"M153.39,319.83 C158.86,335.66 165.14,353.82 169.99,367.83 \" fill=\"none\" id=\"E3-backto-E5\" style=\"stroke:#181818;stroke-width:1.0;\"/><polygon fill=\"none\" points=\"149.03,307.22,147.2077,314.1971,152.9472,318.5627,154.7695,311.5856,149.03,307.22\" style=\"stroke:#181818;stroke-width:1.0;\"/></a></g><!--MD5=[79568f1e445c3877b6a54524624ccc7d]\n",
       "link E4 to E6--><g id=\"link_E4_E6\"><a href=\"psysml:c1d845e5-90b4-4786-9172-2f85f48f902a\" target=\"_top\" title=\"psysml:c1d845e5-90b4-4786-9172-2f85f48f902a\" xlink:actuate=\"onRequest\" xlink:href=\"psysml:c1d845e5-90b4-4786-9172-2f85f48f902a\" xlink:show=\"new\" xlink:title=\"psysml:c1d845e5-90b4-4786-9172-2f85f48f902a\" xlink:type=\"simple\"><path d=\"M75.57,494.29 C80.84,515.04 89.51,546.05 100,572 C108.08,591.98 118.83,613.29 128.46,631.07 \" fill=\"none\" id=\"E4-to-E6\" style=\"stroke:#181818;stroke-width:1.0;\"/><polygon fill=\"#FFFFFF\" points=\"138.29,648.76,122.9437,635.5505,135.1819,628.7515,138.29,648.76\" style=\"stroke:#181818;stroke-width:1.0;\"/><ellipse cx=\"121.9238\" cy=\"629.5965\" fill=\"#181818\" rx=\"2\" ry=\"2\" style=\"stroke:#181818;stroke-width:1.0;\"/><ellipse cx=\"130.6654\" cy=\"624.7401\" fill=\"#181818\" rx=\"2\" ry=\"2\" style=\"stroke:#181818;stroke-width:1.0;\"/></a></g><!--MD5=[3f50a3473f1dfb74d3f76443e03635af]\n",
       "reverse link E6 to E7--><g id=\"link_E6_E7\"><a href=\"psysml:ee76f7ce-c996-4988-9b1a-5ac16ad8d066\" target=\"_top\" title=\"psysml:ee76f7ce-c996-4988-9b1a-5ac16ad8d066\" xlink:actuate=\"onRequest\" xlink:href=\"psysml:ee76f7ce-c996-4988-9b1a-5ac16ad8d066\" xlink:show=\"new\" xlink:title=\"psysml:ee76f7ce-c996-4988-9b1a-5ac16ad8d066\" xlink:type=\"simple\"><path d=\"M164.05,709.83 C169.38,725.66 175.49,743.82 180.2,757.83 \" fill=\"none\" id=\"E6-backto-E7\" style=\"stroke:#181818;stroke-width:1.0;\"/><polygon fill=\"#181818\" points=\"159.81,697.22,157.9296,704.1816,163.6324,708.5949,165.5128,701.6333,159.81,697.22\" style=\"stroke:#181818;stroke-width:1.0;\"/></a></g><!--MD5=[14ccda38c055a5c0da953d572bc50960]\n",
       "link E7 to E3--><g id=\"link_E7_E3\"><a href=\"psysml:1cb41c8a-3888-4a6d-b592-33957295a7ee\" target=\"_top\" title=\"psysml:1cb41c8a-3888-4a6d-b592-33957295a7ee\" xlink:actuate=\"onRequest\" xlink:href=\"psysml:1cb41c8a-3888-4a6d-b592-33957295a7ee\" xlink:show=\"new\" xlink:title=\"psysml:1cb41c8a-3888-4a6d-b592-33957295a7ee\" xlink:type=\"simple\"><path d=\"M204.97,757.64 C218.43,736.78 235,704.84 235,674 C235,391 235,391 235,391 C235,361.35 214.38,336.01 192.46,317.43 \" fill=\"none\" id=\"E7-to-E3\" style=\"stroke:#181818;stroke-width:1.0;\"/><polygon fill=\"#FFFFFF\" points=\"176.54,305.14,195.8578,311.2081,187.3035,322.2907,176.54,305.14\" style=\"stroke:#181818;stroke-width:1.0;\"/><ellipse cx=\"199.148\" cy=\"316.2741\" fill=\"#181818\" rx=\"2\" ry=\"2\" style=\"stroke:#181818;stroke-width:1.0;\"/><ellipse cx=\"193.0378\" cy=\"324.1903\" fill=\"#181818\" rx=\"2\" ry=\"2\" style=\"stroke:#181818;stroke-width:1.0;\"/></a></g><!--MD5=[dfaffb906826c3e5aca635516100ff21]\n",
       "link E5 to E8--><g id=\"link_E5_E8\"><a href=\"psysml:b2862137-6a73-49a4-ad0f-48652eafb24c\" target=\"_top\" title=\"psysml:b2862137-6a73-49a4-ad0f-48652eafb24c\" xlink:actuate=\"onRequest\" xlink:href=\"psysml:b2862137-6a73-49a4-ad0f-48652eafb24c\" xlink:show=\"new\" xlink:title=\"psysml:b2862137-6a73-49a4-ad0f-48652eafb24c\" xlink:type=\"simple\"><path d=\"M174.11,416.06 C170.2,439.19 164.09,475.38 159.28,503.86 \" fill=\"none\" id=\"E5-to-E8\" style=\"stroke:#181818;stroke-width:1.0;\"/><polygon fill=\"#FFFFFF\" points=\"155.92,523.79,152.1809,503.8898,165.9855,506.2206,155.92,523.79\" style=\"stroke:#181818;stroke-width:1.0;\"/><ellipse cx=\"155.1019\" cy=\"498.6023\" fill=\"#181818\" rx=\"2\" ry=\"2\" style=\"stroke:#181818;stroke-width:1.0;\"/><ellipse cx=\"164.9624\" cy=\"500.2671\" fill=\"#181818\" rx=\"2\" ry=\"2\" style=\"stroke:#181818;stroke-width:1.0;\"/></a></g><!--MD5=[03c8294790d3c57651a1993cecff665f]\n",
       "reverse link E8 to E3--><g id=\"link_E8_E3\"><a href=\"psysml:764dcc5f-c791-44bd-8fe4-0cc6162433fb\" target=\"_top\" title=\"psysml:764dcc5f-c791-44bd-8fe4-0cc6162433fb\" xlink:actuate=\"onRequest\" xlink:href=\"psysml:764dcc5f-c791-44bd-8fe4-0cc6162433fb\" xlink:show=\"new\" xlink:title=\"psysml:764dcc5f-c791-44bd-8fe4-0cc6162433fb\" xlink:type=\"simple\"><path d=\"M144.62,510.88 C139.66,484.68 133.57,448.31 131,416 C129.31,394.73 129.74,389.3 131,368 C132.23,347.33 135.14,323.95 137.5,307.11 \" fill=\"none\" id=\"E8-backto-E3\" style=\"stroke:#181818;stroke-width:1.0;\"/><polygon fill=\"none\" points=\"147.16,523.94,149.9387,517.2857,144.865,512.1615,142.0863,518.8158,147.16,523.94\" style=\"stroke:#181818;stroke-width:1.0;\"/><text fill=\"#000000\" font-family=\"sans-serif\" font-size=\"13\" lengthAdjust=\"spacing\" textLength=\"7\" x=\"132\" y=\"396.5669\">y</text></a></g><!--MD5=[0d75d2178373a6a4568e5dc728f58aef]\n",
       "reverse link E8 to E6--><g id=\"link_E8_E6\"><a href=\"psysml:764dcc5f-c791-44bd-8fe4-0cc6162433fb\" target=\"_top\" title=\"psysml:764dcc5f-c791-44bd-8fe4-0cc6162433fb\" xlink:actuate=\"onRequest\" xlink:href=\"psysml:764dcc5f-c791-44bd-8fe4-0cc6162433fb\" xlink:show=\"new\" xlink:title=\"psysml:764dcc5f-c791-44bd-8fe4-0cc6162433fb\" xlink:type=\"simple\"><path d=\"M152,585.21 C152,605.83 152,631.04 152,648.97 \" fill=\"none\" id=\"E8-backto-E6\" style=\"stroke:#181818;stroke-width:1.0;\"/><polygon fill=\"none\" points=\"152,572.14,148,578.14,152,584.14,156,578.14,152,572.14\" style=\"stroke:#181818;stroke-width:1.0;\"/><text fill=\"#000000\" font-family=\"sans-serif\" font-size=\"13\" lengthAdjust=\"spacing\" textLength=\"7\" x=\"153\" y=\"615.0669\">y</text></a></g><!--MD5=[23ac544a70576c3e717098101004234c]\n",
       "reverse link E9 to E10--><g id=\"link_E9_E10\"><a href=\"psysml:1f369bef-866d-4201-85d0-19625ffb0bd4\" target=\"_top\" title=\"psysml:1f369bef-866d-4201-85d0-19625ffb0bd4\" xlink:actuate=\"onRequest\" xlink:href=\"psysml:1f369bef-866d-4201-85d0-19625ffb0bd4\" xlink:show=\"new\" xlink:title=\"psysml:1f369bef-866d-4201-85d0-19625ffb0bd4\" xlink:type=\"simple\"><path d=\"M88.47,101.35 C81.47,117.29 73.39,135.68 67.18,149.83 \" fill=\"none\" id=\"E9-backto-E10\" style=\"stroke:#181818;stroke-width:1.0;\"/><polygon fill=\"none\" points=\"93.8,89.22,87.7243,93.1041,88.9729,100.2063,95.0485,96.3222,93.8,89.22\" style=\"stroke:#181818;stroke-width:1.0;\"/></a></g><!--MD5=[feeac5eb423634930294aa81f2d25a4c]\n",
       "link E10 to E3--><g id=\"link_E10_E3\"><a href=\"psysml:0dc69dec-387f-4606-9efc-6b8567a081cf\" target=\"_top\" title=\"psysml:0dc69dec-387f-4606-9efc-6b8567a081cf\" xlink:actuate=\"onRequest\" xlink:href=\"psysml:0dc69dec-387f-4606-9efc-6b8567a081cf\" xlink:show=\"new\" xlink:title=\"psysml:0dc69dec-387f-4606-9efc-6b8567a081cf\" xlink:type=\"simple\"><path d=\"M75.23,198.22 C85.46,211.26 98.51,227.88 110.28,242.87 \" fill=\"none\" id=\"E10-to-E3\" style=\"stroke:#181818;stroke-width:1.0;\"/><polygon fill=\"#FFFFFF\" points=\"122.81,258.83,105.5676,248.214,116.5764,239.565,122.81,258.83\" style=\"stroke:#181818;stroke-width:1.0;\"/><ellipse cx=\"103.6189\" cy=\"242.4963\" fill=\"#181818\" rx=\"2\" ry=\"2\" style=\"stroke:#181818;stroke-width:1.0;\"/><ellipse cx=\"111.4823\" cy=\"236.3184\" fill=\"#181818\" rx=\"2\" ry=\"2\" style=\"stroke:#181818;stroke-width:1.0;\"/></a></g><!--MD5=[1fc04a95fd77ad5ce46c1a3027516051]\n",
       "reverse link E9 to E11--><g id=\"link_E9_E11\"><a href=\"psysml:41147f3b-680c-4b19-9ea9-1ad0d7284d0b\" target=\"_top\" title=\"psysml:41147f3b-680c-4b19-9ea9-1ad0d7284d0b\" xlink:actuate=\"onRequest\" xlink:href=\"psysml:41147f3b-680c-4b19-9ea9-1ad0d7284d0b\" xlink:show=\"new\" xlink:title=\"psysml:41147f3b-680c-4b19-9ea9-1ad0d7284d0b\" xlink:type=\"simple\"><path d=\"M116.39,101.83 C121.86,117.66 128.14,135.82 132.99,149.83 \" fill=\"none\" id=\"E9-backto-E11\" style=\"stroke:#181818;stroke-width:1.0;\"/><polygon fill=\"none\" points=\"112.03,89.22,110.2077,96.1971,115.9472,100.5627,117.7695,93.5856,112.03,89.22\" style=\"stroke:#181818;stroke-width:1.0;\"/></a></g><!--MD5=[0517f1ce58c4d5483948f93845c45e26]\n",
       "link E11 to E3--><g id=\"link_E11_E3\"><a href=\"psysml:86cba12c-5c0b-4cb2-8a0f-652783ee7e3b\" target=\"_top\" title=\"psysml:86cba12c-5c0b-4cb2-8a0f-652783ee7e3b\" xlink:actuate=\"onRequest\" xlink:href=\"psysml:86cba12c-5c0b-4cb2-8a0f-652783ee7e3b\" xlink:show=\"new\" xlink:title=\"psysml:86cba12c-5c0b-4cb2-8a0f-652783ee7e3b\" xlink:type=\"simple\"><path d=\"M141,198.22 C141,210 141,224.69 141,238.48 \" fill=\"none\" id=\"E11-to-E3\" style=\"stroke:#181818;stroke-width:1.0;\"/><polygon fill=\"#FFFFFF\" points=\"141,258.83,134,239.83,148,239.83,141,258.83\" style=\"stroke:#181818;stroke-width:1.0;\"/><ellipse cx=\"136\" cy=\"234.13\" fill=\"#181818\" rx=\"2\" ry=\"2\" style=\"stroke:#181818;stroke-width:1.0;\"/><ellipse cx=\"146\" cy=\"234.13\" fill=\"#181818\" rx=\"2\" ry=\"2\" style=\"stroke:#181818;stroke-width:1.0;\"/></a></g><!--MD5=[e61d447cdcf151d09473e637d06ba3e0]\n",
       "@startuml\r\n",
       "skin sysmlbw\r\n",
       "skinparam monochrome true\r\n",
       "skinparam wrapWidth 300\r\n",
       "hide circle\r\n",
       "top to bottom direction\r\n",
       "\r\n",
       "package \"ItemTest\" as E1  [[psysml:b50080a1-e82f-4c80-9a3f-5d66ab4e7e23 ]]  {\r\n",
       "comp usage \"f: A  \" as E2  <<(T,blue) item>> [[psysml:4d36820e-7c5e-46bd-9de5-e346cea54837 ]] {\r\n",
       "}\r\n",
       "comp def \"A\" as E3  <<(T,blue) item  def>> [[psysml:90a9c46f-1bc9-4470-bf4e-8ae555dfcfc9 ]] {\r\n",
       "}\r\n",
       "comp usage \"b: B  \" as E4  <<(T,blue) item>> [[psysml:d394e1d7-ba50-4340-ad50-ece704d14a42 ]] {\r\n",
       "}\r\n",
       "comp usage \"c: C  \" as E5  <<(T,blue) part>> [[psysml:af047218-2074-4cd5-be73-a9bc4fd53c73 ]] {\r\n",
       "}\r\n",
       "comp def \"<i>B</i>\" as E6  <<(T,blue) item  def>> [[psysml:24ac0b44-19f7-4e7e-9d8c-29217623109a ]] {\r\n",
       "}\r\n",
       "comp usage \"<i>a</i>: A  \" as E7  <<(T,blue) part>> [[psysml:f97762a5-be4a-40f0-b15f-ded6f9a0a2bf ]] {\r\n",
       "}\r\n",
       "comp def \"C\" as E8  <<(T,blue) part  def>> [[psysml:2119f9fa-e703-4679-adcc-c9e3fda7136e ]] {\r\n",
       "}\r\n",
       "comp def \"P\" as E9  <<(T,blue) port  def>> [[psysml:f9be0f9f-7828-47af-b676-a3098923450b ]] {\r\n",
       "}\r\n",
       "comp usage \"a1: A  \" as E10  <<(T,blue) item>> [[psysml:bdd21edf-ffb1-47e0-8301-b129ba721304 ]] {\r\n",
       "}\r\n",
       "comp usage \"a2: A  \" as E11  <<(T,blue) item>> [[psysml:ea86bb80-7fc3-4478-bdc0-15728142c0fa ]] {\r\n",
       "}\r\n",
       "}\r\n",
       "E2 - -:|> E3 [[psysml:358bd963-d6cf-4c51-9d97-dc29b520688f ]] \r\n",
       "E3 *- - E4 [[psysml:724ffe94-cfbf-4ea2-b315-6baf1a587f0c ]] \r\n",
       "E3 o- - E5 [[psysml:9c72d63b-be6b-487b-af19-53b3ed2c634b ]] \r\n",
       "E4 - -:|> E6 [[psysml:c1d845e5-90b4-4786-9172-2f85f48f902a ]] \r\n",
       "E6 *- - E7 [[psysml:ee76f7ce-c996-4988-9b1a-5ac16ad8d066 ]] \r\n",
       "E7 - -:|> E3 [[psysml:1cb41c8a-3888-4a6d-b592-33957295a7ee ]] \r\n",
       "E5 - -:|> E8 [[psysml:b2862137-6a73-49a4-ad0f-48652eafb24c ]] \r\n",
       "E8 o- - E3 [[psysml:764dcc5f-c791-44bd-8fe4-0cc6162433fb ]] : y\r\n",
       "E8 o- - E6 [[psysml:764dcc5f-c791-44bd-8fe4-0cc6162433fb ]] : y\r\n",
       "E9 o- - E10 [[psysml:1f369bef-866d-4201-85d0-19625ffb0bd4 ]] \r\n",
       "E10 - -:|> E3 [[psysml:0dc69dec-387f-4606-9efc-6b8567a081cf ]] \r\n",
       "E9 o- - E11 [[psysml:41147f3b-680c-4b19-9ea9-1ad0d7284d0b ]] \r\n",
       "E11 - -:|> E3 [[psysml:86cba12c-5c0b-4cb2-8a0f-652783ee7e3b ]] \r\n",
       "@enduml\r\n",
       "\n",
       "PlantUML version 1.2022.7(Mon Aug 22 17:01:30 UTC 2022)\n",
       "(EPL source distribution)\n",
       "Java Runtime: OpenJDK Runtime Environment\n",
       "JVM: OpenJDK 64-Bit Server VM\n",
       "Default Encoding: UTF-8\n",
       "Language: en\n",
       "Country: null\n",
       "--></g></svg>"
      ]
     },
     "execution_count": 45,
     "metadata": {},
     "output_type": "execute_result"
    }
   ],
   "source": [
    "%viz --style=\"TB\" --view=\"Tree\" \"ItemTest\""
   ]
  },
  {
   "cell_type": "code",
   "execution_count": 46,
   "id": "6f05c4fd",
   "metadata": {
    "execution": {
     "iopub.execute_input": "2024-12-16T03:22:56.273537Z",
     "iopub.status.busy": "2024-12-16T03:22:56.273307Z",
     "iopub.status.idle": "2024-12-16T03:22:56.277864Z",
     "shell.execute_reply": "2024-12-16T03:22:56.277686Z"
    }
   },
   "outputs": [
    {
     "data": {
      "image/svg+xml": [
       "<?xml version=\"1.0\" encoding=\"UTF-8\" standalone=\"no\"?><svg xmlns=\"http://www.w3.org/2000/svg\" xmlns:xlink=\"http://www.w3.org/1999/xlink\" contentStyleType=\"text/css\" height=\"10px\" preserveAspectRatio=\"none\" style=\"width:10px;height:10px;background:#FFFFFF;\" version=\"1.1\" viewBox=\"0 0 10 10\" width=\"10px\" zoomAndPan=\"magnify\"><defs/><g><!--MD5=[457d54036ad86991b1ebb71db2c9a3b1]\n",
       "@startuml\r\n",
       "skin sysmlbw\r\n",
       "skinparam monochrome true\r\n",
       "skinparam wrapWidth 300\r\n",
       "hide circle\r\n",
       "top to bottom direction\r\n",
       "\r\n",
       "@enduml\r\n",
       "\n",
       "PlantUML version 1.2022.7(Mon Aug 22 17:01:30 UTC 2022)\n",
       "(EPL source distribution)\n",
       "Java Runtime: OpenJDK Runtime Environment\n",
       "JVM: OpenJDK 64-Bit Server VM\n",
       "Default Encoding: UTF-8\n",
       "Language: en\n",
       "Country: null\n",
       "--></g></svg>"
      ]
     },
     "execution_count": 46,
     "metadata": {},
     "output_type": "execute_result"
    }
   ],
   "source": [
    "%viz --style=\"TB\" --view=\"State\" \"ItemTest\""
   ]
  },
  {
   "cell_type": "code",
   "execution_count": 47,
   "id": "6df95557",
   "metadata": {
    "execution": {
     "iopub.execute_input": "2024-12-16T03:22:56.330766Z",
     "iopub.status.busy": "2024-12-16T03:22:56.330546Z",
     "iopub.status.idle": "2024-12-16T03:22:56.345637Z",
     "shell.execute_reply": "2024-12-16T03:22:56.345023Z"
    }
   },
   "outputs": [
    {
     "data": {
      "image/svg+xml": [
       "<?xml version=\"1.0\" encoding=\"UTF-8\" standalone=\"no\"?><svg xmlns=\"http://www.w3.org/2000/svg\" xmlns:xlink=\"http://www.w3.org/1999/xlink\" contentStyleType=\"text/css\" height=\"245px\" preserveAspectRatio=\"none\" style=\"width:478px;height:245px;background:#FFFFFF;\" version=\"1.1\" viewBox=\"0 0 478 245\" width=\"478px\" zoomAndPan=\"magnify\"><defs/><g><!--MD5=[fbc87193dbaf4d95561dea2c320d4a47]\n",
       "cluster E1--><g id=\"cluster_E1\"><a href=\"psysml:b50080a1-e82f-4c80-9a3f-5d66ab4e7e23\" target=\"_top\" title=\"psysml:b50080a1-e82f-4c80-9a3f-5d66ab4e7e23\" xlink:actuate=\"onRequest\" xlink:href=\"psysml:b50080a1-e82f-4c80-9a3f-5d66ab4e7e23\" xlink:show=\"new\" xlink:title=\"psysml:b50080a1-e82f-4c80-9a3f-5d66ab4e7e23\" xlink:type=\"simple\"><polygon fill=\"none\" points=\"16,6,86.5,6,93.5,28.2969,461,28.2969,461,238,16,238,16,6\" style=\"stroke:#000000;stroke-width:1.5;\"/><line style=\"stroke:#000000;stroke-width:1.5;\" x1=\"16\" x2=\"93.5\" y1=\"28.2969\" y2=\"28.2969\"/><text fill=\"#000000\" font-family=\"sans-serif\" font-size=\"14\" font-weight=\"bold\" lengthAdjust=\"spacing\" textLength=\"64.5\" x=\"20\" y=\"20.9951\">ItemTest</text></a></g><!--MD5=[de5ec2e2e8f62f467e546659f5068c88]\n",
       "cluster E5--><g id=\"cluster_E5\"><a href=\"psysml:2119f9fa-e703-4679-adcc-c9e3fda7136e\" target=\"_top\" title=\"psysml:2119f9fa-e703-4679-adcc-c9e3fda7136e\" xlink:actuate=\"onRequest\" xlink:href=\"psysml:2119f9fa-e703-4679-adcc-c9e3fda7136e\" xlink:show=\"new\" xlink:title=\"psysml:2119f9fa-e703-4679-adcc-c9e3fda7136e\" xlink:type=\"simple\"><rect fill=\"#FFFFFF\" height=\"112\" id=\"E5\" style=\"stroke:#383838;stroke-width:1.5;\" width=\"114\" x=\"323\" y=\"49\"/><text fill=\"#000000\" font-family=\"sans-serif\" font-size=\"12\" font-style=\"italic\" lengthAdjust=\"spacing\" textLength=\"68\" x=\"346\" y=\"65.1387\">«part  def»</text><text fill=\"#000000\" font-family=\"sans-serif\" font-size=\"14\" lengthAdjust=\"spacing\" textLength=\"10\" x=\"375\" y=\"80.9639\">C</text><line style=\"stroke:#383838;stroke-width:1.0;\" x1=\"323\" x2=\"437\" y1=\"89.2656\" y2=\"89.2656\"/></a></g><g><a href=\"psysml:90a9c46f-1bc9-4470-bf4e-8ae555dfcfc9\" target=\"_top\" title=\"psysml:90a9c46f-1bc9-4470-bf4e-8ae555dfcfc9\" xlink:actuate=\"onRequest\" xlink:href=\"psysml:90a9c46f-1bc9-4470-bf4e-8ae555dfcfc9\" xlink:show=\"new\" xlink:title=\"psysml:90a9c46f-1bc9-4470-bf4e-8ae555dfcfc9\" xlink:type=\"simple\"><rect fill=\"#FFFFFF\" height=\"45.2656\" id=\"E3\" style=\"stroke:#383838;stroke-width:1.5;\" width=\"76\" x=\"32\" y=\"177\"/><text fill=\"#000000\" font-family=\"sans-serif\" font-size=\"12\" font-style=\"italic\" lengthAdjust=\"spacing\" textLength=\"69\" x=\"35.5\" y=\"193.1387\">«item  def»</text><text fill=\"#000000\" font-family=\"sans-serif\" font-size=\"14\" lengthAdjust=\"spacing\" textLength=\"9\" x=\"65.5\" y=\"208.9639\">A</text></a></g><g><a href=\"psysml:24ac0b44-19f7-4e7e-9d8c-29217623109a\" target=\"_top\" title=\"psysml:24ac0b44-19f7-4e7e-9d8c-29217623109a\" xlink:actuate=\"onRequest\" xlink:href=\"psysml:24ac0b44-19f7-4e7e-9d8c-29217623109a\" xlink:show=\"new\" xlink:title=\"psysml:24ac0b44-19f7-4e7e-9d8c-29217623109a\" xlink:type=\"simple\"><rect fill=\"#FFFFFF\" height=\"45.2656\" id=\"E4\" style=\"stroke:#383838;stroke-width:1.5;\" width=\"76\" x=\"228\" y=\"100\"/><text fill=\"#000000\" font-family=\"sans-serif\" font-size=\"12\" font-style=\"italic\" lengthAdjust=\"spacing\" textLength=\"69\" x=\"231.5\" y=\"116.1387\">«item  def»</text><text fill=\"#000000\" font-family=\"sans-serif\" font-size=\"14\" font-style=\"italic\" lengthAdjust=\"spacing\" textLength=\"10\" x=\"261\" y=\"131.9639\">B</text></a></g><g><a href=\"psysml:f9be0f9f-7828-47af-b676-a3098923450b\" target=\"_top\" title=\"psysml:f9be0f9f-7828-47af-b676-a3098923450b\" xlink:actuate=\"onRequest\" xlink:href=\"psysml:f9be0f9f-7828-47af-b676-a3098923450b\" xlink:show=\"new\" xlink:title=\"psysml:f9be0f9f-7828-47af-b676-a3098923450b\" xlink:type=\"simple\"><rect fill=\"#FFFFFF\" height=\"45.2656\" id=\"E7\" style=\"stroke:#383838;stroke-width:1.5;\" width=\"75\" x=\"117.5\" y=\"100\"/><text fill=\"#000000\" font-family=\"sans-serif\" font-size=\"12\" font-style=\"italic\" lengthAdjust=\"spacing\" textLength=\"68\" x=\"121\" y=\"116.1387\">«port  def»</text><text fill=\"#000000\" font-family=\"sans-serif\" font-size=\"14\" lengthAdjust=\"spacing\" textLength=\"9\" x=\"150.5\" y=\"131.9639\">P</text></a></g><g><a href=\"psysml:4d36820e-7c5e-46bd-9de5-e346cea54837\" target=\"_top\" title=\"psysml:4d36820e-7c5e-46bd-9de5-e346cea54837\" xlink:actuate=\"onRequest\" xlink:href=\"psysml:4d36820e-7c5e-46bd-9de5-e346cea54837\" xlink:show=\"new\" xlink:title=\"psysml:4d36820e-7c5e-46bd-9de5-e346cea54837\" xlink:type=\"simple\"><rect fill=\"#FFFFFF\" height=\"45.2656\" id=\"E2\" rx=\"10\" ry=\"10\" style=\"stroke:#383838;stroke-width:1.5;\" width=\"50\" x=\"32\" y=\"100\"/><text fill=\"#000000\" font-family=\"sans-serif\" font-size=\"12\" font-style=\"italic\" lengthAdjust=\"spacing\" textLength=\"41\" x=\"36.5\" y=\"116.1387\">«item»</text><text fill=\"#000000\" font-family=\"sans-serif\" font-size=\"14\" lengthAdjust=\"spacing\" textLength=\"22\" x=\"46\" y=\"131.9639\">f: A</text></a></g><g><a href=\"psysml:764dcc5f-c791-44bd-8fe4-0cc6162433fb\" target=\"_top\" title=\"psysml:764dcc5f-c791-44bd-8fe4-0cc6162433fb\" xlink:actuate=\"onRequest\" xlink:href=\"psysml:764dcc5f-c791-44bd-8fe4-0cc6162433fb\" xlink:show=\"new\" xlink:title=\"psysml:764dcc5f-c791-44bd-8fe4-0cc6162433fb\" xlink:type=\"simple\"><rect fill=\"#FFFFFF\" height=\"45.2656\" id=\"E6\" rx=\"10\" ry=\"10\" style=\"stroke:#383838;stroke-width:1.5;\" width=\"82\" x=\"339\" y=\"100\"/><text fill=\"#000000\" font-family=\"sans-serif\" font-size=\"12\" font-style=\"italic\" lengthAdjust=\"spacing\" textLength=\"75\" x=\"342.5\" y=\"116.1387\">«reference»</text><text fill=\"#000000\" font-family=\"sans-serif\" font-size=\"14\" lengthAdjust=\"spacing\" textLength=\"43\" x=\"354.5\" y=\"131.9639\">y: A, B</text></a></g><!--MD5=[2720a5a1f2c3fca2055b230370638851]\n",
       "link E2 to E3--><g id=\"link_E2_E3\"><a href=\"psysml:358bd963-d6cf-4c51-9d97-dc29b520688f\" target=\"_top\" title=\"psysml:358bd963-d6cf-4c51-9d97-dc29b520688f\" xlink:actuate=\"onRequest\" xlink:href=\"psysml:358bd963-d6cf-4c51-9d97-dc29b520688f\" xlink:show=\"new\" xlink:title=\"psysml:358bd963-d6cf-4c51-9d97-dc29b520688f\" xlink:type=\"simple\"><path d=\"M60.76,145.19 C61.41,148.92 62.1,152.91 62.8,156.96 \" fill=\"none\" id=\"E2-to-E3\" style=\"stroke:#181818;stroke-width:1.0;\"/><polygon fill=\"#FFFFFF\" points=\"66.25,176.86,56.0959,159.3416,69.8886,156.9411,66.25,176.86\" style=\"stroke:#181818;stroke-width:1.0;\"/><ellipse cx=\"57.0889\" cy=\"153.3831\" fill=\"#181818\" rx=\"2\" ry=\"2\" style=\"stroke:#181818;stroke-width:1.0;\"/><ellipse cx=\"66.9408\" cy=\"151.6685\" fill=\"#181818\" rx=\"2\" ry=\"2\" style=\"stroke:#181818;stroke-width:1.0;\"/></a></g><!--MD5=[707eaa58fdfa34c3d79dd82ca94d6a0b]\n",
       "@startuml\r\n",
       "skin sysmlbw\r\n",
       "skinparam monochrome true\r\n",
       "skinparam wrapWidth 300\r\n",
       "hide circle\r\n",
       "top to bottom direction\r\n",
       "skinparam ranksep 10\r\n",
       "skinparam rectangle {\r\n",
       " backgroundColor<<block>> LightGreen\r\n",
       "}\r\n",
       "\r\n",
       "package \"ItemTest\" as E1  [[psysml:b50080a1-e82f-4c80-9a3f-5d66ab4e7e23 ]]  {\r\n",
       "rec usage \"f: A\" as E2  <<(T,blue) item>> [[psysml:4d36820e-7c5e-46bd-9de5-e346cea54837 ]] {\r\n",
       "}\r\n",
       "def \"A\" as E3  <<(T,blue) item  def>> [[psysml:90a9c46f-1bc9-4470-bf4e-8ae555dfcfc9 ]] \r\n",
       "def \"<i>B</i>\" as E4  <<(T,blue) item  def>> [[psysml:24ac0b44-19f7-4e7e-9d8c-29217623109a ]] \r\n",
       "rec def \"C\" as E5  <<(T,blue) part  def>> [[psysml:2119f9fa-e703-4679-adcc-c9e3fda7136e ]] {\r\n",
       "rec usage \"y: A, B  \" as E6  <<(T,blue) reference>> [[psysml:764dcc5f-c791-44bd-8fe4-0cc6162433fb ]] {\r\n",
       "}\r\n",
       "\r\n",
       "}\r\n",
       "def \"P\" as E7  <<(T,blue) port  def>> [[psysml:f9be0f9f-7828-47af-b676-a3098923450b ]] \r\n",
       "}\r\n",
       "E2 - -:|> E3 [[psysml:358bd963-d6cf-4c51-9d97-dc29b520688f ]] \r\n",
       "@enduml\r\n",
       "\n",
       "PlantUML version 1.2022.7(Mon Aug 22 17:01:30 UTC 2022)\n",
       "(EPL source distribution)\n",
       "Java Runtime: OpenJDK Runtime Environment\n",
       "JVM: OpenJDK 64-Bit Server VM\n",
       "Default Encoding: UTF-8\n",
       "Language: en\n",
       "Country: null\n",
       "--></g></svg>"
      ]
     },
     "execution_count": 47,
     "metadata": {},
     "output_type": "execute_result"
    }
   ],
   "source": [
    "%viz --style=\"TB\" --view=\"Interconnection\" \"ItemTest\""
   ]
  },
  {
   "cell_type": "code",
   "execution_count": 48,
   "id": "b29100ae",
   "metadata": {
    "execution": {
     "iopub.execute_input": "2024-12-16T03:22:56.398846Z",
     "iopub.status.busy": "2024-12-16T03:22:56.398613Z",
     "iopub.status.idle": "2024-12-16T03:22:56.403665Z",
     "shell.execute_reply": "2024-12-16T03:22:56.403485Z"
    }
   },
   "outputs": [
    {
     "data": {
      "image/svg+xml": [
       "<?xml version=\"1.0\" encoding=\"UTF-8\" standalone=\"no\"?><svg xmlns=\"http://www.w3.org/2000/svg\" xmlns:xlink=\"http://www.w3.org/1999/xlink\" contentStyleType=\"text/css\" height=\"10px\" preserveAspectRatio=\"none\" style=\"width:10px;height:10px;background:#FFFFFF;\" version=\"1.1\" viewBox=\"0 0 10 10\" width=\"10px\" zoomAndPan=\"magnify\"><defs/><g><!--MD5=[c8dde5d066d102a500cd081cce1d9948]\n",
       "@startuml\r\n",
       "skin sysmlbw\r\n",
       "skinparam monochrome true\r\n",
       "skinparam wrapWidth 300\r\n",
       "hide circle\r\n",
       "top to bottom direction\r\n",
       "skinparam ranksep 8\r\n",
       "\r\n",
       "@enduml\r\n",
       "\n",
       "PlantUML version 1.2022.7(Mon Aug 22 17:01:30 UTC 2022)\n",
       "(EPL source distribution)\n",
       "Java Runtime: OpenJDK Runtime Environment\n",
       "JVM: OpenJDK 64-Bit Server VM\n",
       "Default Encoding: UTF-8\n",
       "Language: en\n",
       "Country: null\n",
       "--></g></svg>"
      ]
     },
     "execution_count": 48,
     "metadata": {},
     "output_type": "execute_result"
    }
   ],
   "source": [
    "%viz --style=\"TB\" --view=\"Action\" \"ItemTest\""
   ]
  },
  {
   "cell_type": "code",
   "execution_count": 49,
   "id": "966b7f8d",
   "metadata": {
    "execution": {
     "iopub.execute_input": "2024-12-16T03:22:56.456932Z",
     "iopub.status.busy": "2024-12-16T03:22:56.456626Z",
     "iopub.status.idle": "2024-12-16T03:22:56.461715Z",
     "shell.execute_reply": "2024-12-16T03:22:56.461534Z"
    }
   },
   "outputs": [
    {
     "data": {
      "image/svg+xml": [
       "<?xml version=\"1.0\" encoding=\"UTF-8\" standalone=\"no\"?><svg xmlns=\"http://www.w3.org/2000/svg\" xmlns:xlink=\"http://www.w3.org/1999/xlink\" contentStyleType=\"text/css\" height=\"10px\" preserveAspectRatio=\"none\" style=\"width:10px;height:10px;background:#FFFFFF;\" version=\"1.1\" viewBox=\"0 0 10 10\" width=\"10px\" zoomAndPan=\"magnify\"><defs/><g><!--MD5=[228a58293b408a2cee091b1559da5a28]\n",
       "@startuml\r\n",
       "skin sysmlbw\r\n",
       "skinparam monochrome true\r\n",
       "skinparam wrapWidth 300\r\n",
       "hide circle\r\n",
       "top to bottom direction\r\n",
       "skinparam roundcorner 20\r\n",
       "skinparam BoxPadding 20\r\n",
       "skinparam SequenceBoxBackgroundColor #white\r\n",
       "skinparam style strictuml\r\n",
       "skinparam maxMessageSize 100\r\n",
       "\r\n",
       "@enduml\r\n",
       "\n",
       "PlantUML version 1.2022.7(Mon Aug 22 17:01:30 UTC 2022)\n",
       "(EPL source distribution)\n",
       "Java Runtime: OpenJDK Runtime Environment\n",
       "JVM: OpenJDK 64-Bit Server VM\n",
       "Default Encoding: UTF-8\n",
       "Language: en\n",
       "Country: null\n",
       "--></g></svg>"
      ]
     },
     "execution_count": 49,
     "metadata": {},
     "output_type": "execute_result"
    }
   ],
   "source": [
    "%viz --style=\"TB\" --view=\"Sequence\" \"ItemTest\""
   ]
  },
  {
   "cell_type": "code",
   "execution_count": 50,
   "id": "fbab18af",
   "metadata": {
    "execution": {
     "iopub.execute_input": "2024-12-16T03:22:56.517834Z",
     "iopub.status.busy": "2024-12-16T03:22:56.517493Z",
     "iopub.status.idle": "2024-12-16T03:22:56.540782Z",
     "shell.execute_reply": "2024-12-16T03:22:56.539814Z"
    }
   },
   "outputs": [
    {
     "data": {
      "image/svg+xml": [
       "<?xml version=\"1.0\" encoding=\"UTF-8\" standalone=\"no\"?><svg xmlns=\"http://www.w3.org/2000/svg\" xmlns:xlink=\"http://www.w3.org/1999/xlink\" contentStyleType=\"text/css\" height=\"829px\" preserveAspectRatio=\"none\" style=\"width:277px;height:829px;background:#FFFFFF;\" version=\"1.1\" viewBox=\"0 0 277 829\" width=\"277px\" zoomAndPan=\"magnify\"><defs/><g><!--MD5=[fbc87193dbaf4d95561dea2c320d4a47]\n",
       "cluster E1--><g id=\"cluster_E1\"><a href=\"psysml:b50080a1-e82f-4c80-9a3f-5d66ab4e7e23\" target=\"_top\" title=\"psysml:b50080a1-e82f-4c80-9a3f-5d66ab4e7e23\" xlink:actuate=\"onRequest\" xlink:href=\"psysml:b50080a1-e82f-4c80-9a3f-5d66ab4e7e23\" xlink:show=\"new\" xlink:title=\"psysml:b50080a1-e82f-4c80-9a3f-5d66ab4e7e23\" xlink:type=\"simple\"><polygon fill=\"none\" points=\"16,6,86.5,6,93.5,28.2969,260,28.2969,260,822,16,822,16,6\" style=\"stroke:#000000;stroke-width:1.5;\"/><line style=\"stroke:#000000;stroke-width:1.5;\" x1=\"16\" x2=\"93.5\" y1=\"28.2969\" y2=\"28.2969\"/><text fill=\"#000000\" font-family=\"sans-serif\" font-size=\"14\" font-weight=\"bold\" lengthAdjust=\"spacing\" textLength=\"64.5\" x=\"20\" y=\"20.9951\">ItemTest</text></a></g><!--MD5=[b4997ac47864f28c2f74865a473b2911]\n",
       "class E2--><a href=\"psysml:4d36820e-7c5e-46bd-9de5-e346cea54837\" target=\"_top\" title=\"psysml:4d36820e-7c5e-46bd-9de5-e346cea54837\" xlink:actuate=\"onRequest\" xlink:href=\"psysml:4d36820e-7c5e-46bd-9de5-e346cea54837\" xlink:show=\"new\" xlink:title=\"psysml:4d36820e-7c5e-46bd-9de5-e346cea54837\" xlink:type=\"simple\"><g id=\"elem_E2\"><rect fill=\"#FFFFFF\" height=\"48.2656\" id=\"E2\" rx=\"10\" ry=\"10\" style=\"stroke:#181818;stroke-width:0.5;\" width=\"43\" x=\"200.5\" y=\"150\"/><text fill=\"#000000\" font-family=\"sans-serif\" font-size=\"12\" font-style=\"italic\" lengthAdjust=\"spacing\" textLength=\"41\" x=\"201.5\" y=\"166.1387\">«item»</text><text fill=\"#000000\" font-family=\"sans-serif\" font-size=\"14\" lengthAdjust=\"spacing\" textLength=\"22\" x=\"207\" y=\"181.9639\">f: A</text><line style=\"stroke:#181818;stroke-width:0.5;\" x1=\"201.5\" x2=\"242.5\" y1=\"190.2656\" y2=\"190.2656\"/></g></a><!--MD5=[09b614a08d8cba4a07c9adeb5e0fee81]\n",
       "class E3--><a href=\"psysml:90a9c46f-1bc9-4470-bf4e-8ae555dfcfc9\" target=\"_top\" title=\"psysml:90a9c46f-1bc9-4470-bf4e-8ae555dfcfc9\" xlink:actuate=\"onRequest\" xlink:href=\"psysml:90a9c46f-1bc9-4470-bf4e-8ae555dfcfc9\" xlink:show=\"new\" xlink:title=\"psysml:90a9c46f-1bc9-4470-bf4e-8ae555dfcfc9\" xlink:type=\"simple\"><g id=\"elem_E3\"><rect fill=\"#FFFFFF\" height=\"48.2656\" id=\"E3\" style=\"stroke:#181818;stroke-width:0.5;\" width=\"71\" x=\"105.5\" y=\"259\"/><text fill=\"#000000\" font-family=\"sans-serif\" font-size=\"12\" font-style=\"italic\" lengthAdjust=\"spacing\" textLength=\"69\" x=\"106.5\" y=\"275.1387\">«item  def»</text><text fill=\"#000000\" font-family=\"sans-serif\" font-size=\"14\" lengthAdjust=\"spacing\" textLength=\"9\" x=\"136.5\" y=\"290.9639\">A</text><line style=\"stroke:#181818;stroke-width:0.5;\" x1=\"106.5\" x2=\"175.5\" y1=\"299.2656\" y2=\"299.2656\"/></g></a><!--MD5=[ebbe1d658d1005bcc118a6aa81145e00]\n",
       "class E4--><a href=\"psysml:d394e1d7-ba50-4340-ad50-ece704d14a42\" target=\"_top\" title=\"psysml:d394e1d7-ba50-4340-ad50-ece704d14a42\" xlink:actuate=\"onRequest\" xlink:href=\"psysml:d394e1d7-ba50-4340-ad50-ece704d14a42\" xlink:show=\"new\" xlink:title=\"psysml:d394e1d7-ba50-4340-ad50-ece704d14a42\" xlink:type=\"simple\"><g id=\"elem_E4\"><rect fill=\"#FFFFFF\" height=\"48.2656\" id=\"E4\" rx=\"10\" ry=\"10\" style=\"stroke:#181818;stroke-width:0.5;\" width=\"43\" x=\"48.5\" y=\"446\"/><text fill=\"#000000\" font-family=\"sans-serif\" font-size=\"12\" font-style=\"italic\" lengthAdjust=\"spacing\" textLength=\"41\" x=\"49.5\" y=\"462.1387\">«item»</text><text fill=\"#000000\" font-family=\"sans-serif\" font-size=\"14\" lengthAdjust=\"spacing\" textLength=\"28\" x=\"52\" y=\"477.9639\">b: B</text><line style=\"stroke:#181818;stroke-width:0.5;\" x1=\"49.5\" x2=\"90.5\" y1=\"486.2656\" y2=\"486.2656\"/></g></a><!--MD5=[270fce915f116d4de14055a7c1d9a0f3]\n",
       "class E5--><a href=\"psysml:af047218-2074-4cd5-be73-a9bc4fd53c73\" target=\"_top\" title=\"psysml:af047218-2074-4cd5-be73-a9bc4fd53c73\" xlink:actuate=\"onRequest\" xlink:href=\"psysml:af047218-2074-4cd5-be73-a9bc4fd53c73\" xlink:show=\"new\" xlink:title=\"psysml:af047218-2074-4cd5-be73-a9bc4fd53c73\" xlink:type=\"simple\"><g id=\"elem_E5\"><rect fill=\"#FFFFFF\" height=\"48.2656\" id=\"E5\" rx=\"10\" ry=\"10\" style=\"stroke:#181818;stroke-width:0.5;\" width=\"42\" x=\"157\" y=\"368\"/><text fill=\"#000000\" font-family=\"sans-serif\" font-size=\"12\" font-style=\"italic\" lengthAdjust=\"spacing\" textLength=\"40\" x=\"158\" y=\"384.1387\">«part»</text><text fill=\"#000000\" font-family=\"sans-serif\" font-size=\"14\" lengthAdjust=\"spacing\" textLength=\"27\" x=\"160.5\" y=\"399.9639\">c: C</text><line style=\"stroke:#181818;stroke-width:0.5;\" x1=\"158\" x2=\"198\" y1=\"408.2656\" y2=\"408.2656\"/></g></a><!--MD5=[60a26617385b1d2d0262a64233df1f8d]\n",
       "class E6--><a href=\"psysml:24ac0b44-19f7-4e7e-9d8c-29217623109a\" target=\"_top\" title=\"psysml:24ac0b44-19f7-4e7e-9d8c-29217623109a\" xlink:actuate=\"onRequest\" xlink:href=\"psysml:24ac0b44-19f7-4e7e-9d8c-29217623109a\" xlink:show=\"new\" xlink:title=\"psysml:24ac0b44-19f7-4e7e-9d8c-29217623109a\" xlink:type=\"simple\"><g id=\"elem_E6\"><rect fill=\"#FFFFFF\" height=\"48.2656\" id=\"E6\" style=\"stroke:#181818;stroke-width:0.5;\" width=\"71\" x=\"116.5\" y=\"649\"/><text fill=\"#000000\" font-family=\"sans-serif\" font-size=\"12\" font-style=\"italic\" lengthAdjust=\"spacing\" textLength=\"69\" x=\"117.5\" y=\"665.1387\">«item  def»</text><text fill=\"#000000\" font-family=\"sans-serif\" font-size=\"14\" font-style=\"italic\" lengthAdjust=\"spacing\" textLength=\"10\" x=\"147\" y=\"680.9639\">B</text><line style=\"stroke:#181818;stroke-width:0.5;\" x1=\"117.5\" x2=\"186.5\" y1=\"689.2656\" y2=\"689.2656\"/></g></a><!--MD5=[2156ba9850f5573cc1fc38a6a4b2f02b]\n",
       "class E7--><a href=\"psysml:f97762a5-be4a-40f0-b15f-ded6f9a0a2bf\" target=\"_top\" title=\"psysml:f97762a5-be4a-40f0-b15f-ded6f9a0a2bf\" xlink:actuate=\"onRequest\" xlink:href=\"psysml:f97762a5-be4a-40f0-b15f-ded6f9a0a2bf\" xlink:show=\"new\" xlink:title=\"psysml:f97762a5-be4a-40f0-b15f-ded6f9a0a2bf\" xlink:type=\"simple\"><g id=\"elem_E7\"><rect fill=\"#FFFFFF\" height=\"48.2656\" id=\"E7\" rx=\"10\" ry=\"10\" style=\"stroke:#181818;stroke-width:0.5;\" width=\"42\" x=\"167\" y=\"758\"/><text fill=\"#000000\" font-family=\"sans-serif\" font-size=\"12\" font-style=\"italic\" lengthAdjust=\"spacing\" textLength=\"40\" x=\"168\" y=\"774.1387\">«part»</text><text fill=\"#000000\" font-family=\"sans-serif\" font-size=\"14\" font-style=\"italic\" lengthAdjust=\"spacing\" textLength=\"8\" x=\"171\" y=\"789.9639\">a</text><text fill=\"#000000\" font-family=\"sans-serif\" font-size=\"14\" lengthAdjust=\"spacing\" textLength=\"18\" x=\"179\" y=\"789.9639\">: A</text><line style=\"stroke:#181818;stroke-width:0.5;\" x1=\"168\" x2=\"208\" y1=\"798.2656\" y2=\"798.2656\"/></g></a><!--MD5=[b9389687b975829384b498ac4b7476b2]\n",
       "class E8--><a href=\"psysml:2119f9fa-e703-4679-adcc-c9e3fda7136e\" target=\"_top\" title=\"psysml:2119f9fa-e703-4679-adcc-c9e3fda7136e\" xlink:actuate=\"onRequest\" xlink:href=\"psysml:2119f9fa-e703-4679-adcc-c9e3fda7136e\" xlink:show=\"new\" xlink:title=\"psysml:2119f9fa-e703-4679-adcc-c9e3fda7136e\" xlink:type=\"simple\"><g id=\"elem_E8\"><rect fill=\"#FFFFFF\" height=\"48.2656\" id=\"E8\" style=\"stroke:#181818;stroke-width:0.5;\" width=\"70\" x=\"117\" y=\"524\"/><text fill=\"#000000\" font-family=\"sans-serif\" font-size=\"12\" font-style=\"italic\" lengthAdjust=\"spacing\" textLength=\"68\" x=\"118\" y=\"540.1387\">«part  def»</text><text fill=\"#000000\" font-family=\"sans-serif\" font-size=\"14\" lengthAdjust=\"spacing\" textLength=\"10\" x=\"147\" y=\"555.9639\">C</text><line style=\"stroke:#181818;stroke-width:0.5;\" x1=\"118\" x2=\"186\" y1=\"564.2656\" y2=\"564.2656\"/></g></a><!--MD5=[fd4143e9d270a159db93a4ea2a975926]\n",
       "class E9--><a href=\"psysml:f9be0f9f-7828-47af-b676-a3098923450b\" target=\"_top\" title=\"psysml:f9be0f9f-7828-47af-b676-a3098923450b\" xlink:actuate=\"onRequest\" xlink:href=\"psysml:f9be0f9f-7828-47af-b676-a3098923450b\" xlink:show=\"new\" xlink:title=\"psysml:f9be0f9f-7828-47af-b676-a3098923450b\" xlink:type=\"simple\"><g id=\"elem_E9\"><rect fill=\"#FFFFFF\" height=\"48.2656\" id=\"E9\" style=\"stroke:#181818;stroke-width:0.5;\" width=\"70\" x=\"69\" y=\"41\"/><text fill=\"#000000\" font-family=\"sans-serif\" font-size=\"12\" font-style=\"italic\" lengthAdjust=\"spacing\" textLength=\"68\" x=\"70\" y=\"57.1387\">«port  def»</text><text fill=\"#000000\" font-family=\"sans-serif\" font-size=\"14\" lengthAdjust=\"spacing\" textLength=\"9\" x=\"99.5\" y=\"72.9639\">P</text><line style=\"stroke:#181818;stroke-width:0.5;\" x1=\"70\" x2=\"138\" y1=\"81.2656\" y2=\"81.2656\"/></g></a><!--MD5=[96f4274e9e20536e775497830990834d]\n",
       "class E10--><a href=\"psysml:bdd21edf-ffb1-47e0-8301-b129ba721304\" target=\"_top\" title=\"psysml:bdd21edf-ffb1-47e0-8301-b129ba721304\" xlink:actuate=\"onRequest\" xlink:href=\"psysml:bdd21edf-ffb1-47e0-8301-b129ba721304\" xlink:show=\"new\" xlink:title=\"psysml:bdd21edf-ffb1-47e0-8301-b129ba721304\" xlink:type=\"simple\"><g id=\"elem_E10\"><rect fill=\"#FFFFFF\" height=\"48.2656\" id=\"E10\" rx=\"10\" ry=\"10\" style=\"stroke:#181818;stroke-width:0.5;\" width=\"49\" x=\"32.5\" y=\"150\"/><text fill=\"#000000\" font-family=\"sans-serif\" font-size=\"12\" font-style=\"italic\" lengthAdjust=\"spacing\" textLength=\"41\" x=\"36.5\" y=\"166.1387\">«item»</text><text fill=\"#000000\" font-family=\"sans-serif\" font-size=\"14\" lengthAdjust=\"spacing\" textLength=\"35\" x=\"35.5\" y=\"181.9639\">a1: A</text><line style=\"stroke:#181818;stroke-width:0.5;\" x1=\"33.5\" x2=\"80.5\" y1=\"190.2656\" y2=\"190.2656\"/></g></a><!--MD5=[1dd1bfd58a279cf63c5f349dbc8fc6a1]\n",
       "class E11--><a href=\"psysml:ea86bb80-7fc3-4478-bdc0-15728142c0fa\" target=\"_top\" title=\"psysml:ea86bb80-7fc3-4478-bdc0-15728142c0fa\" xlink:actuate=\"onRequest\" xlink:href=\"psysml:ea86bb80-7fc3-4478-bdc0-15728142c0fa\" xlink:show=\"new\" xlink:title=\"psysml:ea86bb80-7fc3-4478-bdc0-15728142c0fa\" xlink:type=\"simple\"><g id=\"elem_E11\"><rect fill=\"#FFFFFF\" height=\"48.2656\" id=\"E11\" rx=\"10\" ry=\"10\" style=\"stroke:#181818;stroke-width:0.5;\" width=\"49\" x=\"116.5\" y=\"150\"/><text fill=\"#000000\" font-family=\"sans-serif\" font-size=\"12\" font-style=\"italic\" lengthAdjust=\"spacing\" textLength=\"41\" x=\"120.5\" y=\"166.1387\">«item»</text><text fill=\"#000000\" font-family=\"sans-serif\" font-size=\"14\" lengthAdjust=\"spacing\" textLength=\"35\" x=\"119.5\" y=\"181.9639\">a2: A</text><line style=\"stroke:#181818;stroke-width:0.5;\" x1=\"117.5\" x2=\"164.5\" y1=\"190.2656\" y2=\"190.2656\"/></g></a><!--MD5=[2720a5a1f2c3fca2055b230370638851]\n",
       "link E2 to E3--><g id=\"link_E2_E3\"><a href=\"psysml:358bd963-d6cf-4c51-9d97-dc29b520688f\" target=\"_top\" title=\"psysml:358bd963-d6cf-4c51-9d97-dc29b520688f\" xlink:actuate=\"onRequest\" xlink:href=\"psysml:358bd963-d6cf-4c51-9d97-dc29b520688f\" xlink:show=\"new\" xlink:title=\"psysml:358bd963-d6cf-4c51-9d97-dc29b520688f\" xlink:type=\"simple\"><path d=\"M204.42,198.22 C194.55,211.26 181.97,227.88 170.62,242.87 \" fill=\"none\" id=\"E2-to-E3\" style=\"stroke:#181818;stroke-width:1.0;\"/><polygon fill=\"#FFFFFF\" points=\"158.54,258.83,164.4286,239.4567,175.5901,247.9078,158.54,258.83\" style=\"stroke:#181818;stroke-width:1.0;\"/><ellipse cx=\"169.4639\" cy=\"236.1197\" fill=\"#181818\" rx=\"2\" ry=\"2\" style=\"stroke:#181818;stroke-width:1.0;\"/><ellipse cx=\"177.4364\" cy=\"242.1562\" fill=\"#181818\" rx=\"2\" ry=\"2\" style=\"stroke:#181818;stroke-width:1.0;\"/></a></g><!--MD5=[4672eba38e49728da53d11aeb285b987]\n",
       "reverse link E3 to E4--><g id=\"link_E3_E4\"><a href=\"psysml:724ffe94-cfbf-4ea2-b315-6baf1a587f0c\" target=\"_top\" title=\"psysml:724ffe94-cfbf-4ea2-b315-6baf1a587f0c\" xlink:actuate=\"onRequest\" xlink:href=\"psysml:724ffe94-cfbf-4ea2-b315-6baf1a587f0c\" xlink:show=\"new\" xlink:title=\"psysml:724ffe94-cfbf-4ea2-b315-6baf1a587f0c\" xlink:type=\"simple\"><path d=\"M104.38,316.32 C90.85,330.64 77.09,348.62 70,368 C60.72,393.36 62.6,424.76 65.58,445.75 \" fill=\"none\" id=\"E3-backto-E4\" style=\"stroke:#181818;stroke-width:1.0;\"/><polygon fill=\"#181818\" points=\"113.62,307.02,106.5522,308.4507,105.1545,315.525,112.2223,314.0943,113.62,307.02\" style=\"stroke:#181818;stroke-width:1.0;\"/></a></g><!--MD5=[191cde3d490a3f6d7bb551fe3ddca469]\n",
       "reverse link E3 to E5--><g id=\"link_E3_E5\"><a href=\"psysml:9c72d63b-be6b-487b-af19-53b3ed2c634b\" target=\"_top\" title=\"psysml:9c72d63b-be6b-487b-af19-53b3ed2c634b\" xlink:actuate=\"onRequest\" xlink:href=\"psysml:9c72d63b-be6b-487b-af19-53b3ed2c634b\" xlink:show=\"new\" xlink:title=\"psysml:9c72d63b-be6b-487b-af19-53b3ed2c634b\" xlink:type=\"simple\"><path d=\"M153.39,319.83 C158.86,335.66 165.14,353.82 169.99,367.83 \" fill=\"none\" id=\"E3-backto-E5\" style=\"stroke:#181818;stroke-width:1.0;\"/><polygon fill=\"none\" points=\"149.03,307.22,147.2077,314.1971,152.9472,318.5627,154.7695,311.5856,149.03,307.22\" style=\"stroke:#181818;stroke-width:1.0;\"/></a></g><!--MD5=[79568f1e445c3877b6a54524624ccc7d]\n",
       "link E4 to E6--><g id=\"link_E4_E6\"><a href=\"psysml:c1d845e5-90b4-4786-9172-2f85f48f902a\" target=\"_top\" title=\"psysml:c1d845e5-90b4-4786-9172-2f85f48f902a\" xlink:actuate=\"onRequest\" xlink:href=\"psysml:c1d845e5-90b4-4786-9172-2f85f48f902a\" xlink:show=\"new\" xlink:title=\"psysml:c1d845e5-90b4-4786-9172-2f85f48f902a\" xlink:type=\"simple\"><path d=\"M75.57,494.29 C80.84,515.04 89.51,546.05 100,572 C108.08,591.98 118.83,613.29 128.46,631.07 \" fill=\"none\" id=\"E4-to-E6\" style=\"stroke:#181818;stroke-width:1.0;\"/><polygon fill=\"#FFFFFF\" points=\"138.29,648.76,122.9437,635.5505,135.1819,628.7515,138.29,648.76\" style=\"stroke:#181818;stroke-width:1.0;\"/><ellipse cx=\"121.9238\" cy=\"629.5965\" fill=\"#181818\" rx=\"2\" ry=\"2\" style=\"stroke:#181818;stroke-width:1.0;\"/><ellipse cx=\"130.6654\" cy=\"624.7401\" fill=\"#181818\" rx=\"2\" ry=\"2\" style=\"stroke:#181818;stroke-width:1.0;\"/></a></g><!--MD5=[3f50a3473f1dfb74d3f76443e03635af]\n",
       "reverse link E6 to E7--><g id=\"link_E6_E7\"><a href=\"psysml:ee76f7ce-c996-4988-9b1a-5ac16ad8d066\" target=\"_top\" title=\"psysml:ee76f7ce-c996-4988-9b1a-5ac16ad8d066\" xlink:actuate=\"onRequest\" xlink:href=\"psysml:ee76f7ce-c996-4988-9b1a-5ac16ad8d066\" xlink:show=\"new\" xlink:title=\"psysml:ee76f7ce-c996-4988-9b1a-5ac16ad8d066\" xlink:type=\"simple\"><path d=\"M164.05,709.83 C169.38,725.66 175.49,743.82 180.2,757.83 \" fill=\"none\" id=\"E6-backto-E7\" style=\"stroke:#181818;stroke-width:1.0;\"/><polygon fill=\"#181818\" points=\"159.81,697.22,157.9296,704.1816,163.6324,708.5949,165.5128,701.6333,159.81,697.22\" style=\"stroke:#181818;stroke-width:1.0;\"/></a></g><!--MD5=[14ccda38c055a5c0da953d572bc50960]\n",
       "link E7 to E3--><g id=\"link_E7_E3\"><a href=\"psysml:1cb41c8a-3888-4a6d-b592-33957295a7ee\" target=\"_top\" title=\"psysml:1cb41c8a-3888-4a6d-b592-33957295a7ee\" xlink:actuate=\"onRequest\" xlink:href=\"psysml:1cb41c8a-3888-4a6d-b592-33957295a7ee\" xlink:show=\"new\" xlink:title=\"psysml:1cb41c8a-3888-4a6d-b592-33957295a7ee\" xlink:type=\"simple\"><path d=\"M204.97,757.64 C218.43,736.78 235,704.84 235,674 C235,391 235,391 235,391 C235,361.35 214.38,336.01 192.46,317.43 \" fill=\"none\" id=\"E7-to-E3\" style=\"stroke:#181818;stroke-width:1.0;\"/><polygon fill=\"#FFFFFF\" points=\"176.54,305.14,195.8578,311.2081,187.3035,322.2907,176.54,305.14\" style=\"stroke:#181818;stroke-width:1.0;\"/><ellipse cx=\"199.148\" cy=\"316.2741\" fill=\"#181818\" rx=\"2\" ry=\"2\" style=\"stroke:#181818;stroke-width:1.0;\"/><ellipse cx=\"193.0378\" cy=\"324.1903\" fill=\"#181818\" rx=\"2\" ry=\"2\" style=\"stroke:#181818;stroke-width:1.0;\"/></a></g><!--MD5=[dfaffb906826c3e5aca635516100ff21]\n",
       "link E5 to E8--><g id=\"link_E5_E8\"><a href=\"psysml:b2862137-6a73-49a4-ad0f-48652eafb24c\" target=\"_top\" title=\"psysml:b2862137-6a73-49a4-ad0f-48652eafb24c\" xlink:actuate=\"onRequest\" xlink:href=\"psysml:b2862137-6a73-49a4-ad0f-48652eafb24c\" xlink:show=\"new\" xlink:title=\"psysml:b2862137-6a73-49a4-ad0f-48652eafb24c\" xlink:type=\"simple\"><path d=\"M174.11,416.06 C170.2,439.19 164.09,475.38 159.28,503.86 \" fill=\"none\" id=\"E5-to-E8\" style=\"stroke:#181818;stroke-width:1.0;\"/><polygon fill=\"#FFFFFF\" points=\"155.92,523.79,152.1809,503.8898,165.9855,506.2206,155.92,523.79\" style=\"stroke:#181818;stroke-width:1.0;\"/><ellipse cx=\"155.1019\" cy=\"498.6023\" fill=\"#181818\" rx=\"2\" ry=\"2\" style=\"stroke:#181818;stroke-width:1.0;\"/><ellipse cx=\"164.9624\" cy=\"500.2671\" fill=\"#181818\" rx=\"2\" ry=\"2\" style=\"stroke:#181818;stroke-width:1.0;\"/></a></g><!--MD5=[03c8294790d3c57651a1993cecff665f]\n",
       "reverse link E8 to E3--><g id=\"link_E8_E3\"><a href=\"psysml:764dcc5f-c791-44bd-8fe4-0cc6162433fb\" target=\"_top\" title=\"psysml:764dcc5f-c791-44bd-8fe4-0cc6162433fb\" xlink:actuate=\"onRequest\" xlink:href=\"psysml:764dcc5f-c791-44bd-8fe4-0cc6162433fb\" xlink:show=\"new\" xlink:title=\"psysml:764dcc5f-c791-44bd-8fe4-0cc6162433fb\" xlink:type=\"simple\"><path d=\"M144.62,510.88 C139.66,484.68 133.57,448.31 131,416 C129.31,394.73 129.74,389.3 131,368 C132.23,347.33 135.14,323.95 137.5,307.11 \" fill=\"none\" id=\"E8-backto-E3\" style=\"stroke:#181818;stroke-width:1.0;\"/><polygon fill=\"none\" points=\"147.16,523.94,149.9387,517.2857,144.865,512.1615,142.0863,518.8158,147.16,523.94\" style=\"stroke:#181818;stroke-width:1.0;\"/><text fill=\"#000000\" font-family=\"sans-serif\" font-size=\"13\" lengthAdjust=\"spacing\" textLength=\"7\" x=\"132\" y=\"396.5669\">y</text></a></g><!--MD5=[0d75d2178373a6a4568e5dc728f58aef]\n",
       "reverse link E8 to E6--><g id=\"link_E8_E6\"><a href=\"psysml:764dcc5f-c791-44bd-8fe4-0cc6162433fb\" target=\"_top\" title=\"psysml:764dcc5f-c791-44bd-8fe4-0cc6162433fb\" xlink:actuate=\"onRequest\" xlink:href=\"psysml:764dcc5f-c791-44bd-8fe4-0cc6162433fb\" xlink:show=\"new\" xlink:title=\"psysml:764dcc5f-c791-44bd-8fe4-0cc6162433fb\" xlink:type=\"simple\"><path d=\"M152,585.21 C152,605.83 152,631.04 152,648.97 \" fill=\"none\" id=\"E8-backto-E6\" style=\"stroke:#181818;stroke-width:1.0;\"/><polygon fill=\"none\" points=\"152,572.14,148,578.14,152,584.14,156,578.14,152,572.14\" style=\"stroke:#181818;stroke-width:1.0;\"/><text fill=\"#000000\" font-family=\"sans-serif\" font-size=\"13\" lengthAdjust=\"spacing\" textLength=\"7\" x=\"153\" y=\"615.0669\">y</text></a></g><!--MD5=[23ac544a70576c3e717098101004234c]\n",
       "reverse link E9 to E10--><g id=\"link_E9_E10\"><a href=\"psysml:1f369bef-866d-4201-85d0-19625ffb0bd4\" target=\"_top\" title=\"psysml:1f369bef-866d-4201-85d0-19625ffb0bd4\" xlink:actuate=\"onRequest\" xlink:href=\"psysml:1f369bef-866d-4201-85d0-19625ffb0bd4\" xlink:show=\"new\" xlink:title=\"psysml:1f369bef-866d-4201-85d0-19625ffb0bd4\" xlink:type=\"simple\"><path d=\"M88.47,101.35 C81.47,117.29 73.39,135.68 67.18,149.83 \" fill=\"none\" id=\"E9-backto-E10\" style=\"stroke:#181818;stroke-width:1.0;\"/><polygon fill=\"none\" points=\"93.8,89.22,87.7243,93.1041,88.9729,100.2063,95.0485,96.3222,93.8,89.22\" style=\"stroke:#181818;stroke-width:1.0;\"/></a></g><!--MD5=[feeac5eb423634930294aa81f2d25a4c]\n",
       "link E10 to E3--><g id=\"link_E10_E3\"><a href=\"psysml:0dc69dec-387f-4606-9efc-6b8567a081cf\" target=\"_top\" title=\"psysml:0dc69dec-387f-4606-9efc-6b8567a081cf\" xlink:actuate=\"onRequest\" xlink:href=\"psysml:0dc69dec-387f-4606-9efc-6b8567a081cf\" xlink:show=\"new\" xlink:title=\"psysml:0dc69dec-387f-4606-9efc-6b8567a081cf\" xlink:type=\"simple\"><path d=\"M75.23,198.22 C85.46,211.26 98.51,227.88 110.28,242.87 \" fill=\"none\" id=\"E10-to-E3\" style=\"stroke:#181818;stroke-width:1.0;\"/><polygon fill=\"#FFFFFF\" points=\"122.81,258.83,105.5676,248.214,116.5764,239.565,122.81,258.83\" style=\"stroke:#181818;stroke-width:1.0;\"/><ellipse cx=\"103.6189\" cy=\"242.4963\" fill=\"#181818\" rx=\"2\" ry=\"2\" style=\"stroke:#181818;stroke-width:1.0;\"/><ellipse cx=\"111.4823\" cy=\"236.3184\" fill=\"#181818\" rx=\"2\" ry=\"2\" style=\"stroke:#181818;stroke-width:1.0;\"/></a></g><!--MD5=[1fc04a95fd77ad5ce46c1a3027516051]\n",
       "reverse link E9 to E11--><g id=\"link_E9_E11\"><a href=\"psysml:41147f3b-680c-4b19-9ea9-1ad0d7284d0b\" target=\"_top\" title=\"psysml:41147f3b-680c-4b19-9ea9-1ad0d7284d0b\" xlink:actuate=\"onRequest\" xlink:href=\"psysml:41147f3b-680c-4b19-9ea9-1ad0d7284d0b\" xlink:show=\"new\" xlink:title=\"psysml:41147f3b-680c-4b19-9ea9-1ad0d7284d0b\" xlink:type=\"simple\"><path d=\"M116.39,101.83 C121.86,117.66 128.14,135.82 132.99,149.83 \" fill=\"none\" id=\"E9-backto-E11\" style=\"stroke:#181818;stroke-width:1.0;\"/><polygon fill=\"none\" points=\"112.03,89.22,110.2077,96.1971,115.9472,100.5627,117.7695,93.5856,112.03,89.22\" style=\"stroke:#181818;stroke-width:1.0;\"/></a></g><!--MD5=[0517f1ce58c4d5483948f93845c45e26]\n",
       "link E11 to E3--><g id=\"link_E11_E3\"><a href=\"psysml:86cba12c-5c0b-4cb2-8a0f-652783ee7e3b\" target=\"_top\" title=\"psysml:86cba12c-5c0b-4cb2-8a0f-652783ee7e3b\" xlink:actuate=\"onRequest\" xlink:href=\"psysml:86cba12c-5c0b-4cb2-8a0f-652783ee7e3b\" xlink:show=\"new\" xlink:title=\"psysml:86cba12c-5c0b-4cb2-8a0f-652783ee7e3b\" xlink:type=\"simple\"><path d=\"M141,198.22 C141,210 141,224.69 141,238.48 \" fill=\"none\" id=\"E11-to-E3\" style=\"stroke:#181818;stroke-width:1.0;\"/><polygon fill=\"#FFFFFF\" points=\"141,258.83,134,239.83,148,239.83,141,258.83\" style=\"stroke:#181818;stroke-width:1.0;\"/><ellipse cx=\"136\" cy=\"234.13\" fill=\"#181818\" rx=\"2\" ry=\"2\" style=\"stroke:#181818;stroke-width:1.0;\"/><ellipse cx=\"146\" cy=\"234.13\" fill=\"#181818\" rx=\"2\" ry=\"2\" style=\"stroke:#181818;stroke-width:1.0;\"/></a></g><!--MD5=[e61d447cdcf151d09473e637d06ba3e0]\n",
       "@startuml\r\n",
       "skin sysmlbw\r\n",
       "skinparam monochrome true\r\n",
       "skinparam wrapWidth 300\r\n",
       "hide circle\r\n",
       "top to bottom direction\r\n",
       "\r\n",
       "package \"ItemTest\" as E1  [[psysml:b50080a1-e82f-4c80-9a3f-5d66ab4e7e23 ]]  {\r\n",
       "comp usage \"f: A  \" as E2  <<(T,blue) item>> [[psysml:4d36820e-7c5e-46bd-9de5-e346cea54837 ]] {\r\n",
       "}\r\n",
       "comp def \"A\" as E3  <<(T,blue) item  def>> [[psysml:90a9c46f-1bc9-4470-bf4e-8ae555dfcfc9 ]] {\r\n",
       "}\r\n",
       "comp usage \"b: B  \" as E4  <<(T,blue) item>> [[psysml:d394e1d7-ba50-4340-ad50-ece704d14a42 ]] {\r\n",
       "}\r\n",
       "comp usage \"c: C  \" as E5  <<(T,blue) part>> [[psysml:af047218-2074-4cd5-be73-a9bc4fd53c73 ]] {\r\n",
       "}\r\n",
       "comp def \"<i>B</i>\" as E6  <<(T,blue) item  def>> [[psysml:24ac0b44-19f7-4e7e-9d8c-29217623109a ]] {\r\n",
       "}\r\n",
       "comp usage \"<i>a</i>: A  \" as E7  <<(T,blue) part>> [[psysml:f97762a5-be4a-40f0-b15f-ded6f9a0a2bf ]] {\r\n",
       "}\r\n",
       "comp def \"C\" as E8  <<(T,blue) part  def>> [[psysml:2119f9fa-e703-4679-adcc-c9e3fda7136e ]] {\r\n",
       "}\r\n",
       "comp def \"P\" as E9  <<(T,blue) port  def>> [[psysml:f9be0f9f-7828-47af-b676-a3098923450b ]] {\r\n",
       "}\r\n",
       "comp usage \"a1: A  \" as E10  <<(T,blue) item>> [[psysml:bdd21edf-ffb1-47e0-8301-b129ba721304 ]] {\r\n",
       "}\r\n",
       "comp usage \"a2: A  \" as E11  <<(T,blue) item>> [[psysml:ea86bb80-7fc3-4478-bdc0-15728142c0fa ]] {\r\n",
       "}\r\n",
       "}\r\n",
       "E2 - -:|> E3 [[psysml:358bd963-d6cf-4c51-9d97-dc29b520688f ]] \r\n",
       "E3 *- - E4 [[psysml:724ffe94-cfbf-4ea2-b315-6baf1a587f0c ]] \r\n",
       "E3 o- - E5 [[psysml:9c72d63b-be6b-487b-af19-53b3ed2c634b ]] \r\n",
       "E4 - -:|> E6 [[psysml:c1d845e5-90b4-4786-9172-2f85f48f902a ]] \r\n",
       "E6 *- - E7 [[psysml:ee76f7ce-c996-4988-9b1a-5ac16ad8d066 ]] \r\n",
       "E7 - -:|> E3 [[psysml:1cb41c8a-3888-4a6d-b592-33957295a7ee ]] \r\n",
       "E5 - -:|> E8 [[psysml:b2862137-6a73-49a4-ad0f-48652eafb24c ]] \r\n",
       "E8 o- - E3 [[psysml:764dcc5f-c791-44bd-8fe4-0cc6162433fb ]] : y\r\n",
       "E8 o- - E6 [[psysml:764dcc5f-c791-44bd-8fe4-0cc6162433fb ]] : y\r\n",
       "E9 o- - E10 [[psysml:1f369bef-866d-4201-85d0-19625ffb0bd4 ]] \r\n",
       "E10 - -:|> E3 [[psysml:0dc69dec-387f-4606-9efc-6b8567a081cf ]] \r\n",
       "E9 o- - E11 [[psysml:41147f3b-680c-4b19-9ea9-1ad0d7284d0b ]] \r\n",
       "E11 - -:|> E3 [[psysml:86cba12c-5c0b-4cb2-8a0f-652783ee7e3b ]] \r\n",
       "@enduml\r\n",
       "\n",
       "PlantUML version 1.2022.7(Mon Aug 22 17:01:30 UTC 2022)\n",
       "(EPL source distribution)\n",
       "Java Runtime: OpenJDK Runtime Environment\n",
       "JVM: OpenJDK 64-Bit Server VM\n",
       "Default Encoding: UTF-8\n",
       "Language: en\n",
       "Country: null\n",
       "--></g></svg>"
      ]
     },
     "execution_count": 50,
     "metadata": {},
     "output_type": "execute_result"
    }
   ],
   "source": [
    "%viz --style=\"TB\" --view=\"MIXED\" \"ItemTest\""
   ]
  },
  {
   "cell_type": "code",
   "execution_count": 51,
   "id": "e6e9b81a",
   "metadata": {
    "execution": {
     "iopub.execute_input": "2024-12-16T03:22:56.592546Z",
     "iopub.status.busy": "2024-12-16T03:22:56.592315Z",
     "iopub.status.idle": "2024-12-16T03:22:56.614805Z",
     "shell.execute_reply": "2024-12-16T03:22:56.613851Z"
    }
   },
   "outputs": [
    {
     "data": {
      "image/svg+xml": [
       "<?xml version=\"1.0\" encoding=\"UTF-8\" standalone=\"no\"?><svg xmlns=\"http://www.w3.org/2000/svg\" xmlns:xlink=\"http://www.w3.org/1999/xlink\" contentStyleType=\"text/css\" height=\"760px\" preserveAspectRatio=\"none\" style=\"width:277px;height:760px;background:#FFFFFF;\" version=\"1.1\" viewBox=\"0 0 277 760\" width=\"277px\" zoomAndPan=\"magnify\"><defs/><g><!--MD5=[fbc87193dbaf4d95561dea2c320d4a47]\n",
       "cluster E1--><g id=\"cluster_E1\"><a href=\"psysml:b50080a1-e82f-4c80-9a3f-5d66ab4e7e23\" target=\"_top\" title=\"psysml:b50080a1-e82f-4c80-9a3f-5d66ab4e7e23\" xlink:actuate=\"onRequest\" xlink:href=\"psysml:b50080a1-e82f-4c80-9a3f-5d66ab4e7e23\" xlink:show=\"new\" xlink:title=\"psysml:b50080a1-e82f-4c80-9a3f-5d66ab4e7e23\" xlink:type=\"simple\"><polygon fill=\"none\" points=\"16,6,86.5,6,93.5,28.2969,260,28.2969,260,753,16,753,16,6\" style=\"stroke:#000000;stroke-width:1.5;\"/><line style=\"stroke:#000000;stroke-width:1.5;\" x1=\"16\" x2=\"93.5\" y1=\"28.2969\" y2=\"28.2969\"/><text fill=\"#000000\" font-family=\"sans-serif\" font-size=\"14\" font-weight=\"bold\" lengthAdjust=\"spacing\" textLength=\"64.5\" x=\"20\" y=\"20.9951\">ItemTest</text></a></g><!--MD5=[b4997ac47864f28c2f74865a473b2911]\n",
       "class E2--><a href=\"psysml:4d36820e-7c5e-46bd-9de5-e346cea54837\" target=\"_top\" title=\"psysml:4d36820e-7c5e-46bd-9de5-e346cea54837\" xlink:actuate=\"onRequest\" xlink:href=\"psysml:4d36820e-7c5e-46bd-9de5-e346cea54837\" xlink:show=\"new\" xlink:title=\"psysml:4d36820e-7c5e-46bd-9de5-e346cea54837\" xlink:type=\"simple\"><g id=\"elem_E2\"><rect fill=\"#FFFFFF\" height=\"48.2656\" id=\"E2\" rx=\"10\" ry=\"10\" style=\"stroke:#181818;stroke-width:0.5;\" width=\"43\" x=\"200.5\" y=\"149\"/><text fill=\"#000000\" font-family=\"sans-serif\" font-size=\"12\" font-style=\"italic\" lengthAdjust=\"spacing\" textLength=\"41\" x=\"201.5\" y=\"165.1387\">«item»</text><text fill=\"#000000\" font-family=\"sans-serif\" font-size=\"14\" lengthAdjust=\"spacing\" textLength=\"22\" x=\"207\" y=\"180.9639\">f: A</text><line style=\"stroke:#181818;stroke-width:0.5;\" x1=\"201.5\" x2=\"242.5\" y1=\"189.2656\" y2=\"189.2656\"/></g></a><!--MD5=[09b614a08d8cba4a07c9adeb5e0fee81]\n",
       "class E3--><a href=\"psysml:90a9c46f-1bc9-4470-bf4e-8ae555dfcfc9\" target=\"_top\" title=\"psysml:90a9c46f-1bc9-4470-bf4e-8ae555dfcfc9\" xlink:actuate=\"onRequest\" xlink:href=\"psysml:90a9c46f-1bc9-4470-bf4e-8ae555dfcfc9\" xlink:show=\"new\" xlink:title=\"psysml:90a9c46f-1bc9-4470-bf4e-8ae555dfcfc9\" xlink:type=\"simple\"><g id=\"elem_E3\"><rect fill=\"#FFFFFF\" height=\"48.2656\" id=\"E3\" style=\"stroke:#181818;stroke-width:0.5;\" width=\"71\" x=\"105.5\" y=\"257\"/><text fill=\"#000000\" font-family=\"sans-serif\" font-size=\"12\" font-style=\"italic\" lengthAdjust=\"spacing\" textLength=\"69\" x=\"106.5\" y=\"273.1387\">«item  def»</text><text fill=\"#000000\" font-family=\"sans-serif\" font-size=\"14\" lengthAdjust=\"spacing\" textLength=\"9\" x=\"136.5\" y=\"288.9639\">A</text><line style=\"stroke:#181818;stroke-width:0.5;\" x1=\"106.5\" x2=\"175.5\" y1=\"297.2656\" y2=\"297.2656\"/></g></a><!--MD5=[ebbe1d658d1005bcc118a6aa81145e00]\n",
       "class E4--><a href=\"psysml:d394e1d7-ba50-4340-ad50-ece704d14a42\" target=\"_top\" title=\"psysml:d394e1d7-ba50-4340-ad50-ece704d14a42\" xlink:actuate=\"onRequest\" xlink:href=\"psysml:d394e1d7-ba50-4340-ad50-ece704d14a42\" xlink:show=\"new\" xlink:title=\"psysml:d394e1d7-ba50-4340-ad50-ece704d14a42\" xlink:type=\"simple\"><g id=\"elem_E4\"><rect fill=\"#FFFFFF\" height=\"48.2656\" id=\"E4\" rx=\"10\" ry=\"10\" style=\"stroke:#181818;stroke-width:0.5;\" width=\"43\" x=\"45.5\" y=\"473\"/><text fill=\"#000000\" font-family=\"sans-serif\" font-size=\"12\" font-style=\"italic\" lengthAdjust=\"spacing\" textLength=\"41\" x=\"46.5\" y=\"489.1387\">«item»</text><text fill=\"#000000\" font-family=\"sans-serif\" font-size=\"14\" lengthAdjust=\"spacing\" textLength=\"28\" x=\"49\" y=\"504.9639\">b: B</text><line style=\"stroke:#181818;stroke-width:0.5;\" x1=\"46.5\" x2=\"87.5\" y1=\"513.2656\" y2=\"513.2656\"/></g></a><!--MD5=[270fce915f116d4de14055a7c1d9a0f3]\n",
       "class E5--><a href=\"psysml:af047218-2074-4cd5-be73-a9bc4fd53c73\" target=\"_top\" title=\"psysml:af047218-2074-4cd5-be73-a9bc4fd53c73\" xlink:actuate=\"onRequest\" xlink:href=\"psysml:af047218-2074-4cd5-be73-a9bc4fd53c73\" xlink:show=\"new\" xlink:title=\"psysml:af047218-2074-4cd5-be73-a9bc4fd53c73\" xlink:type=\"simple\"><g id=\"elem_E5\"><rect fill=\"#FFFFFF\" height=\"48.2656\" id=\"E5\" rx=\"10\" ry=\"10\" style=\"stroke:#181818;stroke-width:0.5;\" width=\"42\" x=\"146\" y=\"365\"/><text fill=\"#000000\" font-family=\"sans-serif\" font-size=\"12\" font-style=\"italic\" lengthAdjust=\"spacing\" textLength=\"40\" x=\"147\" y=\"381.1387\">«part»</text><text fill=\"#000000\" font-family=\"sans-serif\" font-size=\"14\" lengthAdjust=\"spacing\" textLength=\"27\" x=\"149.5\" y=\"396.9639\">c: C</text><line style=\"stroke:#181818;stroke-width:0.5;\" x1=\"147\" x2=\"187\" y1=\"405.2656\" y2=\"405.2656\"/></g></a><!--MD5=[60a26617385b1d2d0262a64233df1f8d]\n",
       "class E6--><a href=\"psysml:24ac0b44-19f7-4e7e-9d8c-29217623109a\" target=\"_top\" title=\"psysml:24ac0b44-19f7-4e7e-9d8c-29217623109a\" xlink:actuate=\"onRequest\" xlink:href=\"psysml:24ac0b44-19f7-4e7e-9d8c-29217623109a\" xlink:show=\"new\" xlink:title=\"psysml:24ac0b44-19f7-4e7e-9d8c-29217623109a\" xlink:type=\"simple\"><g id=\"elem_E6\"><rect fill=\"#FFFFFF\" height=\"48.2656\" id=\"E6\" style=\"stroke:#181818;stroke-width:0.5;\" width=\"71\" x=\"122.5\" y=\"581\"/><text fill=\"#000000\" font-family=\"sans-serif\" font-size=\"12\" font-style=\"italic\" lengthAdjust=\"spacing\" textLength=\"69\" x=\"123.5\" y=\"597.1387\">«item  def»</text><text fill=\"#000000\" font-family=\"sans-serif\" font-size=\"14\" font-style=\"italic\" lengthAdjust=\"spacing\" textLength=\"10\" x=\"153\" y=\"612.9639\">B</text><line style=\"stroke:#181818;stroke-width:0.5;\" x1=\"123.5\" x2=\"192.5\" y1=\"621.2656\" y2=\"621.2656\"/></g></a><!--MD5=[2156ba9850f5573cc1fc38a6a4b2f02b]\n",
       "class E7--><a href=\"psysml:f97762a5-be4a-40f0-b15f-ded6f9a0a2bf\" target=\"_top\" title=\"psysml:f97762a5-be4a-40f0-b15f-ded6f9a0a2bf\" xlink:actuate=\"onRequest\" xlink:href=\"psysml:f97762a5-be4a-40f0-b15f-ded6f9a0a2bf\" xlink:show=\"new\" xlink:title=\"psysml:f97762a5-be4a-40f0-b15f-ded6f9a0a2bf\" xlink:type=\"simple\"><g id=\"elem_E7\"><rect fill=\"#FFFFFF\" height=\"48.2656\" id=\"E7\" rx=\"10\" ry=\"10\" style=\"stroke:#181818;stroke-width:0.5;\" width=\"42\" x=\"169\" y=\"689\"/><text fill=\"#000000\" font-family=\"sans-serif\" font-size=\"12\" font-style=\"italic\" lengthAdjust=\"spacing\" textLength=\"40\" x=\"170\" y=\"705.1387\">«part»</text><text fill=\"#000000\" font-family=\"sans-serif\" font-size=\"14\" font-style=\"italic\" lengthAdjust=\"spacing\" textLength=\"8\" x=\"173\" y=\"720.9639\">a</text><text fill=\"#000000\" font-family=\"sans-serif\" font-size=\"14\" lengthAdjust=\"spacing\" textLength=\"18\" x=\"181\" y=\"720.9639\">: A</text><line style=\"stroke:#181818;stroke-width:0.5;\" x1=\"170\" x2=\"210\" y1=\"729.2656\" y2=\"729.2656\"/></g></a><!--MD5=[b9389687b975829384b498ac4b7476b2]\n",
       "class E8--><a href=\"psysml:2119f9fa-e703-4679-adcc-c9e3fda7136e\" target=\"_top\" title=\"psysml:2119f9fa-e703-4679-adcc-c9e3fda7136e\" xlink:actuate=\"onRequest\" xlink:href=\"psysml:2119f9fa-e703-4679-adcc-c9e3fda7136e\" xlink:show=\"new\" xlink:title=\"psysml:2119f9fa-e703-4679-adcc-c9e3fda7136e\" xlink:type=\"simple\"><g id=\"elem_E8\"><rect fill=\"#FFFFFF\" height=\"48.2656\" id=\"E8\" style=\"stroke:#181818;stroke-width:0.5;\" width=\"70\" x=\"124\" y=\"473\"/><text fill=\"#000000\" font-family=\"sans-serif\" font-size=\"12\" font-style=\"italic\" lengthAdjust=\"spacing\" textLength=\"68\" x=\"125\" y=\"489.1387\">«part  def»</text><text fill=\"#000000\" font-family=\"sans-serif\" font-size=\"14\" lengthAdjust=\"spacing\" textLength=\"10\" x=\"154\" y=\"504.9639\">C</text><line style=\"stroke:#181818;stroke-width:0.5;\" x1=\"125\" x2=\"193\" y1=\"513.2656\" y2=\"513.2656\"/></g></a><!--MD5=[fd4143e9d270a159db93a4ea2a975926]\n",
       "class E9--><a href=\"psysml:f9be0f9f-7828-47af-b676-a3098923450b\" target=\"_top\" title=\"psysml:f9be0f9f-7828-47af-b676-a3098923450b\" xlink:actuate=\"onRequest\" xlink:href=\"psysml:f9be0f9f-7828-47af-b676-a3098923450b\" xlink:show=\"new\" xlink:title=\"psysml:f9be0f9f-7828-47af-b676-a3098923450b\" xlink:type=\"simple\"><g id=\"elem_E9\"><rect fill=\"#FFFFFF\" height=\"48.2656\" id=\"E9\" style=\"stroke:#181818;stroke-width:0.5;\" width=\"70\" x=\"69\" y=\"41\"/><text fill=\"#000000\" font-family=\"sans-serif\" font-size=\"12\" font-style=\"italic\" lengthAdjust=\"spacing\" textLength=\"68\" x=\"70\" y=\"57.1387\">«port  def»</text><text fill=\"#000000\" font-family=\"sans-serif\" font-size=\"14\" lengthAdjust=\"spacing\" textLength=\"9\" x=\"99.5\" y=\"72.9639\">P</text><line style=\"stroke:#181818;stroke-width:0.5;\" x1=\"70\" x2=\"138\" y1=\"81.2656\" y2=\"81.2656\"/></g></a><!--MD5=[96f4274e9e20536e775497830990834d]\n",
       "class E10--><a href=\"psysml:bdd21edf-ffb1-47e0-8301-b129ba721304\" target=\"_top\" title=\"psysml:bdd21edf-ffb1-47e0-8301-b129ba721304\" xlink:actuate=\"onRequest\" xlink:href=\"psysml:bdd21edf-ffb1-47e0-8301-b129ba721304\" xlink:show=\"new\" xlink:title=\"psysml:bdd21edf-ffb1-47e0-8301-b129ba721304\" xlink:type=\"simple\"><g id=\"elem_E10\"><rect fill=\"#FFFFFF\" height=\"48.2656\" id=\"E10\" rx=\"10\" ry=\"10\" style=\"stroke:#181818;stroke-width:0.5;\" width=\"49\" x=\"116.5\" y=\"149\"/><text fill=\"#000000\" font-family=\"sans-serif\" font-size=\"12\" font-style=\"italic\" lengthAdjust=\"spacing\" textLength=\"41\" x=\"120.5\" y=\"165.1387\">«item»</text><text fill=\"#000000\" font-family=\"sans-serif\" font-size=\"14\" lengthAdjust=\"spacing\" textLength=\"35\" x=\"119.5\" y=\"180.9639\">a1: A</text><line style=\"stroke:#181818;stroke-width:0.5;\" x1=\"117.5\" x2=\"164.5\" y1=\"189.2656\" y2=\"189.2656\"/></g></a><!--MD5=[1dd1bfd58a279cf63c5f349dbc8fc6a1]\n",
       "class E11--><a href=\"psysml:ea86bb80-7fc3-4478-bdc0-15728142c0fa\" target=\"_top\" title=\"psysml:ea86bb80-7fc3-4478-bdc0-15728142c0fa\" xlink:actuate=\"onRequest\" xlink:href=\"psysml:ea86bb80-7fc3-4478-bdc0-15728142c0fa\" xlink:show=\"new\" xlink:title=\"psysml:ea86bb80-7fc3-4478-bdc0-15728142c0fa\" xlink:type=\"simple\"><g id=\"elem_E11\"><rect fill=\"#FFFFFF\" height=\"48.2656\" id=\"E11\" rx=\"10\" ry=\"10\" style=\"stroke:#181818;stroke-width:0.5;\" width=\"49\" x=\"32.5\" y=\"149\"/><text fill=\"#000000\" font-family=\"sans-serif\" font-size=\"12\" font-style=\"italic\" lengthAdjust=\"spacing\" textLength=\"41\" x=\"36.5\" y=\"165.1387\">«item»</text><text fill=\"#000000\" font-family=\"sans-serif\" font-size=\"14\" lengthAdjust=\"spacing\" textLength=\"35\" x=\"35.5\" y=\"180.9639\">a2: A</text><line style=\"stroke:#181818;stroke-width:0.5;\" x1=\"33.5\" x2=\"80.5\" y1=\"189.2656\" y2=\"189.2656\"/></g></a><!--MD5=[2720a5a1f2c3fca2055b230370638851]\n",
       "link E2 to E3--><g id=\"link_E2_E3\"><a href=\"psysml:358bd963-d6cf-4c51-9d97-dc29b520688f\" target=\"_top\" title=\"psysml:358bd963-d6cf-4c51-9d97-dc29b520688f\" xlink:actuate=\"onRequest\" xlink:href=\"psysml:358bd963-d6cf-4c51-9d97-dc29b520688f\" xlink:show=\"new\" xlink:title=\"psysml:358bd963-d6cf-4c51-9d97-dc29b520688f\" xlink:type=\"simple\"><path d=\"M207.5,197.21 C207.5,226.8 207.5,273 207.5,273 C207.5,273 196.59,273 196.59,273 \" fill=\"none\" id=\"E2-to-E3\" style=\"stroke:#181818;stroke-width:1.0;\"/><polygon fill=\"#FFFFFF\" points=\"176.59,273,195.59,266,195.59,280,176.59,273\" style=\"stroke:#181818;stroke-width:1.0;\"/><ellipse cx=\"201.29\" cy=\"268\" fill=\"#181818\" rx=\"2\" ry=\"2\" style=\"stroke:#181818;stroke-width:1.0;\"/><ellipse cx=\"201.29\" cy=\"278\" fill=\"#181818\" rx=\"2\" ry=\"2\" style=\"stroke:#181818;stroke-width:1.0;\"/></a></g><!--MD5=[4672eba38e49728da53d11aeb285b987]\n",
       "reverse link E3 to E4--><g id=\"link_E3_E4\"><a href=\"psysml:724ffe94-cfbf-4ea2-b315-6baf1a587f0c\" target=\"_top\" title=\"psysml:724ffe94-cfbf-4ea2-b315-6baf1a587f0c\" xlink:actuate=\"onRequest\" xlink:href=\"psysml:724ffe94-cfbf-4ea2-b315-6baf1a587f0c\" xlink:show=\"new\" xlink:title=\"psysml:724ffe94-cfbf-4ea2-b315-6baf1a587f0c\" xlink:type=\"simple\"><path d=\"M92.22,281 C92.22,281 85,281 85,281 C85,281 85,416.15 85,472.64 \" fill=\"none\" id=\"E3-backto-E4\" style=\"stroke:#181818;stroke-width:1.0;\"/><polygon fill=\"#181818\" points=\"105.22,281,99.22,277,93.22,281,99.22,285,105.22,281\" style=\"stroke:#181818;stroke-width:1.0;\"/></a></g><!--MD5=[191cde3d490a3f6d7bb551fe3ddca469]\n",
       "reverse link E3 to E5--><g id=\"link_E3_E5\"><a href=\"psysml:9c72d63b-be6b-487b-af19-53b3ed2c634b\" target=\"_top\" title=\"psysml:9c72d63b-be6b-487b-af19-53b3ed2c634b\" xlink:actuate=\"onRequest\" xlink:href=\"psysml:9c72d63b-be6b-487b-af19-53b3ed2c634b\" xlink:show=\"new\" xlink:title=\"psysml:9c72d63b-be6b-487b-af19-53b3ed2c634b\" xlink:type=\"simple\"><path d=\"M161.25,318.24 C161.25,318.24 161.25,364.84 161.25,364.84 \" fill=\"none\" id=\"E3-backto-E5\" style=\"stroke:#181818;stroke-width:1.0;\"/><polygon fill=\"none\" points=\"161.25,305.24,157.25,311.24,161.25,317.24,165.25,311.24,161.25,305.24\" style=\"stroke:#181818;stroke-width:1.0;\"/></a></g><!--MD5=[79568f1e445c3877b6a54524624ccc7d]\n",
       "link E4 to E6--><g id=\"link_E4_E6\"><a href=\"psysml:c1d845e5-90b4-4786-9172-2f85f48f902a\" target=\"_top\" title=\"psysml:c1d845e5-90b4-4786-9172-2f85f48f902a\" xlink:actuate=\"onRequest\" xlink:href=\"psysml:c1d845e5-90b4-4786-9172-2f85f48f902a\" xlink:show=\"new\" xlink:title=\"psysml:c1d845e5-90b4-4786-9172-2f85f48f902a\" xlink:type=\"simple\"><path d=\"M67,521.24 C67,553.08 67,605 67,605 C67,605 102.3,605 102.3,605 \" fill=\"none\" id=\"E4-to-E6\" style=\"stroke:#181818;stroke-width:1.0;\"/><polygon fill=\"#FFFFFF\" points=\"122.3,605,103.3,612,103.3,598,122.3,605\" style=\"stroke:#181818;stroke-width:1.0;\"/><ellipse cx=\"97.6\" cy=\"610\" fill=\"#181818\" rx=\"2\" ry=\"2\" style=\"stroke:#181818;stroke-width:1.0;\"/><ellipse cx=\"97.6\" cy=\"600\" fill=\"#181818\" rx=\"2\" ry=\"2\" style=\"stroke:#181818;stroke-width:1.0;\"/></a></g><!--MD5=[3f50a3473f1dfb74d3f76443e03635af]\n",
       "reverse link E6 to E7--><g id=\"link_E6_E7\"><a href=\"psysml:ee76f7ce-c996-4988-9b1a-5ac16ad8d066\" target=\"_top\" title=\"psysml:ee76f7ce-c996-4988-9b1a-5ac16ad8d066\" xlink:actuate=\"onRequest\" xlink:href=\"psysml:ee76f7ce-c996-4988-9b1a-5ac16ad8d066\" xlink:show=\"new\" xlink:title=\"psysml:ee76f7ce-c996-4988-9b1a-5ac16ad8d066\" xlink:type=\"simple\"><path d=\"M181.25,642.24 C181.25,642.24 181.25,688.84 181.25,688.84 \" fill=\"none\" id=\"E6-backto-E7\" style=\"stroke:#181818;stroke-width:1.0;\"/><polygon fill=\"#181818\" points=\"181.25,629.24,177.25,635.24,181.25,641.24,185.25,635.24,181.25,629.24\" style=\"stroke:#181818;stroke-width:1.0;\"/></a></g><!--MD5=[14ccda38c055a5c0da953d572bc50960]\n",
       "link E7 to E3--><g id=\"link_E7_E3\"><a href=\"psysml:1cb41c8a-3888-4a6d-b592-33957295a7ee\" target=\"_top\" title=\"psysml:1cb41c8a-3888-4a6d-b592-33957295a7ee\" xlink:actuate=\"onRequest\" xlink:href=\"psysml:1cb41c8a-3888-4a6d-b592-33957295a7ee\" xlink:show=\"new\" xlink:title=\"psysml:1cb41c8a-3888-4a6d-b592-33957295a7ee\" xlink:type=\"simple\"><path d=\"M204,688.99 C204,599.29 204,289 204,289 C204,289 196.55,289 196.55,289 \" fill=\"none\" id=\"E7-to-E3\" style=\"stroke:#181818;stroke-width:1.0;\"/><polygon fill=\"#FFFFFF\" points=\"176.55,289,195.55,282,195.55,296,176.55,289\" style=\"stroke:#181818;stroke-width:1.0;\"/><ellipse cx=\"201.25\" cy=\"284\" fill=\"#181818\" rx=\"2\" ry=\"2\" style=\"stroke:#181818;stroke-width:1.0;\"/><ellipse cx=\"201.25\" cy=\"294\" fill=\"#181818\" rx=\"2\" ry=\"2\" style=\"stroke:#181818;stroke-width:1.0;\"/></a></g><!--MD5=[dfaffb906826c3e5aca635516100ff21]\n",
       "link E5 to E8--><g id=\"link_E5_E8\"><a href=\"psysml:b2862137-6a73-49a4-ad0f-48652eafb24c\" target=\"_top\" title=\"psysml:b2862137-6a73-49a4-ad0f-48652eafb24c\" xlink:actuate=\"onRequest\" xlink:href=\"psysml:b2862137-6a73-49a4-ad0f-48652eafb24c\" xlink:show=\"new\" xlink:title=\"psysml:b2862137-6a73-49a4-ad0f-48652eafb24c\" xlink:type=\"simple\"><path d=\"M167,413.24 C167,413.24 167,452.84 167,452.84 \" fill=\"none\" id=\"E5-to-E8\" style=\"stroke:#181818;stroke-width:1.0;\"/><polygon fill=\"#FFFFFF\" points=\"167,472.84,160,453.84,174,453.84,167,472.84\" style=\"stroke:#181818;stroke-width:1.0;\"/><ellipse cx=\"162\" cy=\"448.14\" fill=\"#181818\" rx=\"2\" ry=\"2\" style=\"stroke:#181818;stroke-width:1.0;\"/><ellipse cx=\"172\" cy=\"448.14\" fill=\"#181818\" rx=\"2\" ry=\"2\" style=\"stroke:#181818;stroke-width:1.0;\"/></a></g><!--MD5=[03c8294790d3c57651a1993cecff665f]\n",
       "reverse link E8 to E3--><g id=\"link_E8_E3\"><a href=\"psysml:764dcc5f-c791-44bd-8fe4-0cc6162433fb\" target=\"_top\" title=\"psysml:764dcc5f-c791-44bd-8fe4-0cc6162433fb\" xlink:actuate=\"onRequest\" xlink:href=\"psysml:764dcc5f-c791-44bd-8fe4-0cc6162433fb\" xlink:show=\"new\" xlink:title=\"psysml:764dcc5f-c791-44bd-8fe4-0cc6162433fb\" xlink:type=\"simple\"><path d=\"M135,459.64 C135,459.64 135,305.27 135,305.27 \" fill=\"none\" id=\"E8-backto-E3\" style=\"stroke:#181818;stroke-width:1.0;\"/><polygon fill=\"none\" points=\"135,472.64,139,466.64,135,460.64,131,466.64,135,472.64\" style=\"stroke:#181818;stroke-width:1.0;\"/><text fill=\"#000000\" font-family=\"sans-serif\" font-size=\"13\" lengthAdjust=\"spacing\" textLength=\"7\" x=\"127\" y=\"378.5269\">y</text></a></g><!--MD5=[0d75d2178373a6a4568e5dc728f58aef]\n",
       "reverse link E8 to E6--><g id=\"link_E8_E6\"><a href=\"psysml:764dcc5f-c791-44bd-8fe4-0cc6162433fb\" target=\"_top\" title=\"psysml:764dcc5f-c791-44bd-8fe4-0cc6162433fb\" xlink:actuate=\"onRequest\" xlink:href=\"psysml:764dcc5f-c791-44bd-8fe4-0cc6162433fb\" xlink:show=\"new\" xlink:title=\"psysml:764dcc5f-c791-44bd-8fe4-0cc6162433fb\" xlink:type=\"simple\"><path d=\"M158.75,534.24 C158.75,534.24 158.75,580.84 158.75,580.84 \" fill=\"none\" id=\"E8-backto-E6\" style=\"stroke:#181818;stroke-width:1.0;\"/><polygon fill=\"none\" points=\"158.75,521.24,154.75,527.24,158.75,533.24,162.75,527.24,158.75,521.24\" style=\"stroke:#181818;stroke-width:1.0;\"/><text fill=\"#000000\" font-family=\"sans-serif\" font-size=\"13\" lengthAdjust=\"spacing\" textLength=\"7\" x=\"150.75\" y=\"553.6069\">y</text></a></g><!--MD5=[23ac544a70576c3e717098101004234c]\n",
       "reverse link E9 to E10--><g id=\"link_E9_E10\"><a href=\"psysml:1f369bef-866d-4201-85d0-19625ffb0bd4\" target=\"_top\" title=\"psysml:1f369bef-866d-4201-85d0-19625ffb0bd4\" xlink:actuate=\"onRequest\" xlink:href=\"psysml:1f369bef-866d-4201-85d0-19625ffb0bd4\" xlink:show=\"new\" xlink:title=\"psysml:1f369bef-866d-4201-85d0-19625ffb0bd4\" xlink:type=\"simple\"><path d=\"M127.75,102.24 C127.75,102.24 127.75,148.84 127.75,148.84 \" fill=\"none\" id=\"E9-backto-E10\" style=\"stroke:#181818;stroke-width:1.0;\"/><polygon fill=\"none\" points=\"127.75,89.24,123.75,95.24,127.75,101.24,131.75,95.24,127.75,89.24\" style=\"stroke:#181818;stroke-width:1.0;\"/></a></g><!--MD5=[feeac5eb423634930294aa81f2d25a4c]\n",
       "link E10 to E3--><g id=\"link_E10_E3\"><a href=\"psysml:0dc69dec-387f-4606-9efc-6b8567a081cf\" target=\"_top\" title=\"psysml:0dc69dec-387f-4606-9efc-6b8567a081cf\" xlink:actuate=\"onRequest\" xlink:href=\"psysml:0dc69dec-387f-4606-9efc-6b8567a081cf\" xlink:show=\"new\" xlink:title=\"psysml:0dc69dec-387f-4606-9efc-6b8567a081cf\" xlink:type=\"simple\"><path d=\"M141,197.24 C141,197.24 141,236.84 141,236.84 \" fill=\"none\" id=\"E10-to-E3\" style=\"stroke:#181818;stroke-width:1.0;\"/><polygon fill=\"#FFFFFF\" points=\"141,256.84,134,237.84,148,237.84,141,256.84\" style=\"stroke:#181818;stroke-width:1.0;\"/><ellipse cx=\"136\" cy=\"232.14\" fill=\"#181818\" rx=\"2\" ry=\"2\" style=\"stroke:#181818;stroke-width:1.0;\"/><ellipse cx=\"146\" cy=\"232.14\" fill=\"#181818\" rx=\"2\" ry=\"2\" style=\"stroke:#181818;stroke-width:1.0;\"/></a></g><!--MD5=[1fc04a95fd77ad5ce46c1a3027516051]\n",
       "reverse link E9 to E11--><g id=\"link_E9_E11\"><a href=\"psysml:41147f3b-680c-4b19-9ea9-1ad0d7284d0b\" target=\"_top\" title=\"psysml:41147f3b-680c-4b19-9ea9-1ad0d7284d0b\" xlink:actuate=\"onRequest\" xlink:href=\"psysml:41147f3b-680c-4b19-9ea9-1ad0d7284d0b\" xlink:show=\"new\" xlink:title=\"psysml:41147f3b-680c-4b19-9ea9-1ad0d7284d0b\" xlink:type=\"simple\"><path d=\"M75.25,102.24 C75.25,102.24 75.25,148.84 75.25,148.84 \" fill=\"none\" id=\"E9-backto-E11\" style=\"stroke:#181818;stroke-width:1.0;\"/><polygon fill=\"none\" points=\"75.25,89.24,71.25,95.24,75.25,101.24,79.25,95.24,75.25,89.24\" style=\"stroke:#181818;stroke-width:1.0;\"/></a></g><!--MD5=[0517f1ce58c4d5483948f93845c45e26]\n",
       "link E11 to E3--><g id=\"link_E11_E3\"><a href=\"psysml:86cba12c-5c0b-4cb2-8a0f-652783ee7e3b\" target=\"_top\" title=\"psysml:86cba12c-5c0b-4cb2-8a0f-652783ee7e3b\" xlink:actuate=\"onRequest\" xlink:href=\"psysml:86cba12c-5c0b-4cb2-8a0f-652783ee7e3b\" xlink:show=\"new\" xlink:title=\"psysml:86cba12c-5c0b-4cb2-8a0f-652783ee7e3b\" xlink:type=\"simple\"><path d=\"M81.79,173 C95.98,173 111,173 111,173 C111,173 111,236.76 111,236.76 \" fill=\"none\" id=\"E11-to-E3\" style=\"stroke:#181818;stroke-width:1.0;\"/><polygon fill=\"#FFFFFF\" points=\"111,256.76,104,237.76,118,237.76,111,256.76\" style=\"stroke:#181818;stroke-width:1.0;\"/><ellipse cx=\"106\" cy=\"232.06\" fill=\"#181818\" rx=\"2\" ry=\"2\" style=\"stroke:#181818;stroke-width:1.0;\"/><ellipse cx=\"116\" cy=\"232.06\" fill=\"#181818\" rx=\"2\" ry=\"2\" style=\"stroke:#181818;stroke-width:1.0;\"/></a></g><!--MD5=[76e12543804041616012f718a55c9a04]\n",
       "@startuml\r\n",
       "skin sysmlbw\r\n",
       "skinparam monochrome true\r\n",
       "skinparam wrapWidth 300\r\n",
       "hide circle\r\n",
       "skinparam linetype ortho\r\n",
       "\r\n",
       "package \"ItemTest\" as E1  [[psysml:b50080a1-e82f-4c80-9a3f-5d66ab4e7e23 ]]  {\r\n",
       "comp usage \"f: A  \" as E2  <<(T,blue) item>> [[psysml:4d36820e-7c5e-46bd-9de5-e346cea54837 ]] {\r\n",
       "}\r\n",
       "comp def \"A\" as E3  <<(T,blue) item  def>> [[psysml:90a9c46f-1bc9-4470-bf4e-8ae555dfcfc9 ]] {\r\n",
       "}\r\n",
       "comp usage \"b: B  \" as E4  <<(T,blue) item>> [[psysml:d394e1d7-ba50-4340-ad50-ece704d14a42 ]] {\r\n",
       "}\r\n",
       "comp usage \"c: C  \" as E5  <<(T,blue) part>> [[psysml:af047218-2074-4cd5-be73-a9bc4fd53c73 ]] {\r\n",
       "}\r\n",
       "comp def \"<i>B</i>\" as E6  <<(T,blue) item  def>> [[psysml:24ac0b44-19f7-4e7e-9d8c-29217623109a ]] {\r\n",
       "}\r\n",
       "comp usage \"<i>a</i>: A  \" as E7  <<(T,blue) part>> [[psysml:f97762a5-be4a-40f0-b15f-ded6f9a0a2bf ]] {\r\n",
       "}\r\n",
       "comp def \"C\" as E8  <<(T,blue) part  def>> [[psysml:2119f9fa-e703-4679-adcc-c9e3fda7136e ]] {\r\n",
       "}\r\n",
       "comp def \"P\" as E9  <<(T,blue) port  def>> [[psysml:f9be0f9f-7828-47af-b676-a3098923450b ]] {\r\n",
       "}\r\n",
       "comp usage \"a1: A  \" as E10  <<(T,blue) item>> [[psysml:bdd21edf-ffb1-47e0-8301-b129ba721304 ]] {\r\n",
       "}\r\n",
       "comp usage \"a2: A  \" as E11  <<(T,blue) item>> [[psysml:ea86bb80-7fc3-4478-bdc0-15728142c0fa ]] {\r\n",
       "}\r\n",
       "}\r\n",
       "E2 - -:|> E3 [[psysml:358bd963-d6cf-4c51-9d97-dc29b520688f ]] \r\n",
       "E3 *- - E4 [[psysml:724ffe94-cfbf-4ea2-b315-6baf1a587f0c ]] \r\n",
       "E3 o- - E5 [[psysml:9c72d63b-be6b-487b-af19-53b3ed2c634b ]] \r\n",
       "E4 - -:|> E6 [[psysml:c1d845e5-90b4-4786-9172-2f85f48f902a ]] \r\n",
       "E6 *- - E7 [[psysml:ee76f7ce-c996-4988-9b1a-5ac16ad8d066 ]] \r\n",
       "E7 - -:|> E3 [[psysml:1cb41c8a-3888-4a6d-b592-33957295a7ee ]] \r\n",
       "E5 - -:|> E8 [[psysml:b2862137-6a73-49a4-ad0f-48652eafb24c ]] \r\n",
       "E8 o- - E3 [[psysml:764dcc5f-c791-44bd-8fe4-0cc6162433fb ]] : y\r\n",
       "E8 o- - E6 [[psysml:764dcc5f-c791-44bd-8fe4-0cc6162433fb ]] : y\r\n",
       "E9 o- - E10 [[psysml:1f369bef-866d-4201-85d0-19625ffb0bd4 ]] \r\n",
       "E10 - -:|> E3 [[psysml:0dc69dec-387f-4606-9efc-6b8567a081cf ]] \r\n",
       "E9 o- - E11 [[psysml:41147f3b-680c-4b19-9ea9-1ad0d7284d0b ]] \r\n",
       "E11 - -:|> E3 [[psysml:86cba12c-5c0b-4cb2-8a0f-652783ee7e3b ]] \r\n",
       "@enduml\r\n",
       "\n",
       "PlantUML version 1.2022.7(Mon Aug 22 17:01:30 UTC 2022)\n",
       "(EPL source distribution)\n",
       "Java Runtime: OpenJDK Runtime Environment\n",
       "JVM: OpenJDK 64-Bit Server VM\n",
       "Default Encoding: UTF-8\n",
       "Language: en\n",
       "Country: null\n",
       "--></g></svg>"
      ]
     },
     "execution_count": 51,
     "metadata": {},
     "output_type": "execute_result"
    }
   ],
   "source": [
    "%viz --style=\"ORTHOLINE\" --view=\"Default\" \"ItemTest\""
   ]
  },
  {
   "cell_type": "code",
   "execution_count": 52,
   "id": "c7eb80c2",
   "metadata": {
    "execution": {
     "iopub.execute_input": "2024-12-16T03:22:56.670565Z",
     "iopub.status.busy": "2024-12-16T03:22:56.670367Z",
     "iopub.status.idle": "2024-12-16T03:22:56.691206Z",
     "shell.execute_reply": "2024-12-16T03:22:56.690050Z"
    }
   },
   "outputs": [
    {
     "data": {
      "image/svg+xml": [
       "<?xml version=\"1.0\" encoding=\"UTF-8\" standalone=\"no\"?><svg xmlns=\"http://www.w3.org/2000/svg\" xmlns:xlink=\"http://www.w3.org/1999/xlink\" contentStyleType=\"text/css\" height=\"760px\" preserveAspectRatio=\"none\" style=\"width:277px;height:760px;background:#FFFFFF;\" version=\"1.1\" viewBox=\"0 0 277 760\" width=\"277px\" zoomAndPan=\"magnify\"><defs/><g><!--MD5=[fbc87193dbaf4d95561dea2c320d4a47]\n",
       "cluster E1--><g id=\"cluster_E1\"><a href=\"psysml:b50080a1-e82f-4c80-9a3f-5d66ab4e7e23\" target=\"_top\" title=\"psysml:b50080a1-e82f-4c80-9a3f-5d66ab4e7e23\" xlink:actuate=\"onRequest\" xlink:href=\"psysml:b50080a1-e82f-4c80-9a3f-5d66ab4e7e23\" xlink:show=\"new\" xlink:title=\"psysml:b50080a1-e82f-4c80-9a3f-5d66ab4e7e23\" xlink:type=\"simple\"><polygon fill=\"none\" points=\"16,6,86.5,6,93.5,28.2969,260,28.2969,260,753,16,753,16,6\" style=\"stroke:#000000;stroke-width:1.5;\"/><line style=\"stroke:#000000;stroke-width:1.5;\" x1=\"16\" x2=\"93.5\" y1=\"28.2969\" y2=\"28.2969\"/><text fill=\"#000000\" font-family=\"sans-serif\" font-size=\"14\" font-weight=\"bold\" lengthAdjust=\"spacing\" textLength=\"64.5\" x=\"20\" y=\"20.9951\">ItemTest</text></a></g><!--MD5=[b4997ac47864f28c2f74865a473b2911]\n",
       "class E2--><a href=\"psysml:4d36820e-7c5e-46bd-9de5-e346cea54837\" target=\"_top\" title=\"psysml:4d36820e-7c5e-46bd-9de5-e346cea54837\" xlink:actuate=\"onRequest\" xlink:href=\"psysml:4d36820e-7c5e-46bd-9de5-e346cea54837\" xlink:show=\"new\" xlink:title=\"psysml:4d36820e-7c5e-46bd-9de5-e346cea54837\" xlink:type=\"simple\"><g id=\"elem_E2\"><rect fill=\"#FFFFFF\" height=\"48.2656\" id=\"E2\" rx=\"10\" ry=\"10\" style=\"stroke:#181818;stroke-width:0.5;\" width=\"43\" x=\"200.5\" y=\"149\"/><text fill=\"#000000\" font-family=\"sans-serif\" font-size=\"12\" font-style=\"italic\" lengthAdjust=\"spacing\" textLength=\"41\" x=\"201.5\" y=\"165.1387\">«item»</text><text fill=\"#000000\" font-family=\"sans-serif\" font-size=\"14\" lengthAdjust=\"spacing\" textLength=\"22\" x=\"207\" y=\"180.9639\">f: A</text><line style=\"stroke:#181818;stroke-width:0.5;\" x1=\"201.5\" x2=\"242.5\" y1=\"189.2656\" y2=\"189.2656\"/></g></a><!--MD5=[09b614a08d8cba4a07c9adeb5e0fee81]\n",
       "class E3--><a href=\"psysml:90a9c46f-1bc9-4470-bf4e-8ae555dfcfc9\" target=\"_top\" title=\"psysml:90a9c46f-1bc9-4470-bf4e-8ae555dfcfc9\" xlink:actuate=\"onRequest\" xlink:href=\"psysml:90a9c46f-1bc9-4470-bf4e-8ae555dfcfc9\" xlink:show=\"new\" xlink:title=\"psysml:90a9c46f-1bc9-4470-bf4e-8ae555dfcfc9\" xlink:type=\"simple\"><g id=\"elem_E3\"><rect fill=\"#FFFFFF\" height=\"48.2656\" id=\"E3\" style=\"stroke:#181818;stroke-width:0.5;\" width=\"71\" x=\"105.5\" y=\"257\"/><text fill=\"#000000\" font-family=\"sans-serif\" font-size=\"12\" font-style=\"italic\" lengthAdjust=\"spacing\" textLength=\"69\" x=\"106.5\" y=\"273.1387\">«item  def»</text><text fill=\"#000000\" font-family=\"sans-serif\" font-size=\"14\" lengthAdjust=\"spacing\" textLength=\"9\" x=\"136.5\" y=\"288.9639\">A</text><line style=\"stroke:#181818;stroke-width:0.5;\" x1=\"106.5\" x2=\"175.5\" y1=\"297.2656\" y2=\"297.2656\"/></g></a><!--MD5=[ebbe1d658d1005bcc118a6aa81145e00]\n",
       "class E4--><a href=\"psysml:d394e1d7-ba50-4340-ad50-ece704d14a42\" target=\"_top\" title=\"psysml:d394e1d7-ba50-4340-ad50-ece704d14a42\" xlink:actuate=\"onRequest\" xlink:href=\"psysml:d394e1d7-ba50-4340-ad50-ece704d14a42\" xlink:show=\"new\" xlink:title=\"psysml:d394e1d7-ba50-4340-ad50-ece704d14a42\" xlink:type=\"simple\"><g id=\"elem_E4\"><rect fill=\"#FFFFFF\" height=\"48.2656\" id=\"E4\" rx=\"10\" ry=\"10\" style=\"stroke:#181818;stroke-width:0.5;\" width=\"43\" x=\"45.5\" y=\"473\"/><text fill=\"#000000\" font-family=\"sans-serif\" font-size=\"12\" font-style=\"italic\" lengthAdjust=\"spacing\" textLength=\"41\" x=\"46.5\" y=\"489.1387\">«item»</text><text fill=\"#000000\" font-family=\"sans-serif\" font-size=\"14\" lengthAdjust=\"spacing\" textLength=\"28\" x=\"49\" y=\"504.9639\">b: B</text><line style=\"stroke:#181818;stroke-width:0.5;\" x1=\"46.5\" x2=\"87.5\" y1=\"513.2656\" y2=\"513.2656\"/></g></a><!--MD5=[270fce915f116d4de14055a7c1d9a0f3]\n",
       "class E5--><a href=\"psysml:af047218-2074-4cd5-be73-a9bc4fd53c73\" target=\"_top\" title=\"psysml:af047218-2074-4cd5-be73-a9bc4fd53c73\" xlink:actuate=\"onRequest\" xlink:href=\"psysml:af047218-2074-4cd5-be73-a9bc4fd53c73\" xlink:show=\"new\" xlink:title=\"psysml:af047218-2074-4cd5-be73-a9bc4fd53c73\" xlink:type=\"simple\"><g id=\"elem_E5\"><rect fill=\"#FFFFFF\" height=\"48.2656\" id=\"E5\" rx=\"10\" ry=\"10\" style=\"stroke:#181818;stroke-width:0.5;\" width=\"42\" x=\"146\" y=\"365\"/><text fill=\"#000000\" font-family=\"sans-serif\" font-size=\"12\" font-style=\"italic\" lengthAdjust=\"spacing\" textLength=\"40\" x=\"147\" y=\"381.1387\">«part»</text><text fill=\"#000000\" font-family=\"sans-serif\" font-size=\"14\" lengthAdjust=\"spacing\" textLength=\"27\" x=\"149.5\" y=\"396.9639\">c: C</text><line style=\"stroke:#181818;stroke-width:0.5;\" x1=\"147\" x2=\"187\" y1=\"405.2656\" y2=\"405.2656\"/></g></a><!--MD5=[60a26617385b1d2d0262a64233df1f8d]\n",
       "class E6--><a href=\"psysml:24ac0b44-19f7-4e7e-9d8c-29217623109a\" target=\"_top\" title=\"psysml:24ac0b44-19f7-4e7e-9d8c-29217623109a\" xlink:actuate=\"onRequest\" xlink:href=\"psysml:24ac0b44-19f7-4e7e-9d8c-29217623109a\" xlink:show=\"new\" xlink:title=\"psysml:24ac0b44-19f7-4e7e-9d8c-29217623109a\" xlink:type=\"simple\"><g id=\"elem_E6\"><rect fill=\"#FFFFFF\" height=\"48.2656\" id=\"E6\" style=\"stroke:#181818;stroke-width:0.5;\" width=\"71\" x=\"122.5\" y=\"581\"/><text fill=\"#000000\" font-family=\"sans-serif\" font-size=\"12\" font-style=\"italic\" lengthAdjust=\"spacing\" textLength=\"69\" x=\"123.5\" y=\"597.1387\">«item  def»</text><text fill=\"#000000\" font-family=\"sans-serif\" font-size=\"14\" font-style=\"italic\" lengthAdjust=\"spacing\" textLength=\"10\" x=\"153\" y=\"612.9639\">B</text><line style=\"stroke:#181818;stroke-width:0.5;\" x1=\"123.5\" x2=\"192.5\" y1=\"621.2656\" y2=\"621.2656\"/></g></a><!--MD5=[2156ba9850f5573cc1fc38a6a4b2f02b]\n",
       "class E7--><a href=\"psysml:f97762a5-be4a-40f0-b15f-ded6f9a0a2bf\" target=\"_top\" title=\"psysml:f97762a5-be4a-40f0-b15f-ded6f9a0a2bf\" xlink:actuate=\"onRequest\" xlink:href=\"psysml:f97762a5-be4a-40f0-b15f-ded6f9a0a2bf\" xlink:show=\"new\" xlink:title=\"psysml:f97762a5-be4a-40f0-b15f-ded6f9a0a2bf\" xlink:type=\"simple\"><g id=\"elem_E7\"><rect fill=\"#FFFFFF\" height=\"48.2656\" id=\"E7\" rx=\"10\" ry=\"10\" style=\"stroke:#181818;stroke-width:0.5;\" width=\"42\" x=\"169\" y=\"689\"/><text fill=\"#000000\" font-family=\"sans-serif\" font-size=\"12\" font-style=\"italic\" lengthAdjust=\"spacing\" textLength=\"40\" x=\"170\" y=\"705.1387\">«part»</text><text fill=\"#000000\" font-family=\"sans-serif\" font-size=\"14\" font-style=\"italic\" lengthAdjust=\"spacing\" textLength=\"8\" x=\"173\" y=\"720.9639\">a</text><text fill=\"#000000\" font-family=\"sans-serif\" font-size=\"14\" lengthAdjust=\"spacing\" textLength=\"18\" x=\"181\" y=\"720.9639\">: A</text><line style=\"stroke:#181818;stroke-width:0.5;\" x1=\"170\" x2=\"210\" y1=\"729.2656\" y2=\"729.2656\"/></g></a><!--MD5=[b9389687b975829384b498ac4b7476b2]\n",
       "class E8--><a href=\"psysml:2119f9fa-e703-4679-adcc-c9e3fda7136e\" target=\"_top\" title=\"psysml:2119f9fa-e703-4679-adcc-c9e3fda7136e\" xlink:actuate=\"onRequest\" xlink:href=\"psysml:2119f9fa-e703-4679-adcc-c9e3fda7136e\" xlink:show=\"new\" xlink:title=\"psysml:2119f9fa-e703-4679-adcc-c9e3fda7136e\" xlink:type=\"simple\"><g id=\"elem_E8\"><rect fill=\"#FFFFFF\" height=\"48.2656\" id=\"E8\" style=\"stroke:#181818;stroke-width:0.5;\" width=\"70\" x=\"124\" y=\"473\"/><text fill=\"#000000\" font-family=\"sans-serif\" font-size=\"12\" font-style=\"italic\" lengthAdjust=\"spacing\" textLength=\"68\" x=\"125\" y=\"489.1387\">«part  def»</text><text fill=\"#000000\" font-family=\"sans-serif\" font-size=\"14\" lengthAdjust=\"spacing\" textLength=\"10\" x=\"154\" y=\"504.9639\">C</text><line style=\"stroke:#181818;stroke-width:0.5;\" x1=\"125\" x2=\"193\" y1=\"513.2656\" y2=\"513.2656\"/></g></a><!--MD5=[fd4143e9d270a159db93a4ea2a975926]\n",
       "class E9--><a href=\"psysml:f9be0f9f-7828-47af-b676-a3098923450b\" target=\"_top\" title=\"psysml:f9be0f9f-7828-47af-b676-a3098923450b\" xlink:actuate=\"onRequest\" xlink:href=\"psysml:f9be0f9f-7828-47af-b676-a3098923450b\" xlink:show=\"new\" xlink:title=\"psysml:f9be0f9f-7828-47af-b676-a3098923450b\" xlink:type=\"simple\"><g id=\"elem_E9\"><rect fill=\"#FFFFFF\" height=\"48.2656\" id=\"E9\" style=\"stroke:#181818;stroke-width:0.5;\" width=\"70\" x=\"69\" y=\"41\"/><text fill=\"#000000\" font-family=\"sans-serif\" font-size=\"12\" font-style=\"italic\" lengthAdjust=\"spacing\" textLength=\"68\" x=\"70\" y=\"57.1387\">«port  def»</text><text fill=\"#000000\" font-family=\"sans-serif\" font-size=\"14\" lengthAdjust=\"spacing\" textLength=\"9\" x=\"99.5\" y=\"72.9639\">P</text><line style=\"stroke:#181818;stroke-width:0.5;\" x1=\"70\" x2=\"138\" y1=\"81.2656\" y2=\"81.2656\"/></g></a><!--MD5=[96f4274e9e20536e775497830990834d]\n",
       "class E10--><a href=\"psysml:bdd21edf-ffb1-47e0-8301-b129ba721304\" target=\"_top\" title=\"psysml:bdd21edf-ffb1-47e0-8301-b129ba721304\" xlink:actuate=\"onRequest\" xlink:href=\"psysml:bdd21edf-ffb1-47e0-8301-b129ba721304\" xlink:show=\"new\" xlink:title=\"psysml:bdd21edf-ffb1-47e0-8301-b129ba721304\" xlink:type=\"simple\"><g id=\"elem_E10\"><rect fill=\"#FFFFFF\" height=\"48.2656\" id=\"E10\" rx=\"10\" ry=\"10\" style=\"stroke:#181818;stroke-width:0.5;\" width=\"49\" x=\"116.5\" y=\"149\"/><text fill=\"#000000\" font-family=\"sans-serif\" font-size=\"12\" font-style=\"italic\" lengthAdjust=\"spacing\" textLength=\"41\" x=\"120.5\" y=\"165.1387\">«item»</text><text fill=\"#000000\" font-family=\"sans-serif\" font-size=\"14\" lengthAdjust=\"spacing\" textLength=\"35\" x=\"119.5\" y=\"180.9639\">a1: A</text><line style=\"stroke:#181818;stroke-width:0.5;\" x1=\"117.5\" x2=\"164.5\" y1=\"189.2656\" y2=\"189.2656\"/></g></a><!--MD5=[1dd1bfd58a279cf63c5f349dbc8fc6a1]\n",
       "class E11--><a href=\"psysml:ea86bb80-7fc3-4478-bdc0-15728142c0fa\" target=\"_top\" title=\"psysml:ea86bb80-7fc3-4478-bdc0-15728142c0fa\" xlink:actuate=\"onRequest\" xlink:href=\"psysml:ea86bb80-7fc3-4478-bdc0-15728142c0fa\" xlink:show=\"new\" xlink:title=\"psysml:ea86bb80-7fc3-4478-bdc0-15728142c0fa\" xlink:type=\"simple\"><g id=\"elem_E11\"><rect fill=\"#FFFFFF\" height=\"48.2656\" id=\"E11\" rx=\"10\" ry=\"10\" style=\"stroke:#181818;stroke-width:0.5;\" width=\"49\" x=\"32.5\" y=\"149\"/><text fill=\"#000000\" font-family=\"sans-serif\" font-size=\"12\" font-style=\"italic\" lengthAdjust=\"spacing\" textLength=\"41\" x=\"36.5\" y=\"165.1387\">«item»</text><text fill=\"#000000\" font-family=\"sans-serif\" font-size=\"14\" lengthAdjust=\"spacing\" textLength=\"35\" x=\"35.5\" y=\"180.9639\">a2: A</text><line style=\"stroke:#181818;stroke-width:0.5;\" x1=\"33.5\" x2=\"80.5\" y1=\"189.2656\" y2=\"189.2656\"/></g></a><!--MD5=[2720a5a1f2c3fca2055b230370638851]\n",
       "link E2 to E3--><g id=\"link_E2_E3\"><a href=\"psysml:358bd963-d6cf-4c51-9d97-dc29b520688f\" target=\"_top\" title=\"psysml:358bd963-d6cf-4c51-9d97-dc29b520688f\" xlink:actuate=\"onRequest\" xlink:href=\"psysml:358bd963-d6cf-4c51-9d97-dc29b520688f\" xlink:show=\"new\" xlink:title=\"psysml:358bd963-d6cf-4c51-9d97-dc29b520688f\" xlink:type=\"simple\"><path d=\"M207.5,197.21 C207.5,226.8 207.5,273 207.5,273 C207.5,273 196.59,273 196.59,273 \" fill=\"none\" id=\"E2-to-E3\" style=\"stroke:#181818;stroke-width:1.0;\"/><polygon fill=\"#FFFFFF\" points=\"176.59,273,195.59,266,195.59,280,176.59,273\" style=\"stroke:#181818;stroke-width:1.0;\"/><ellipse cx=\"201.29\" cy=\"268\" fill=\"#181818\" rx=\"2\" ry=\"2\" style=\"stroke:#181818;stroke-width:1.0;\"/><ellipse cx=\"201.29\" cy=\"278\" fill=\"#181818\" rx=\"2\" ry=\"2\" style=\"stroke:#181818;stroke-width:1.0;\"/></a></g><!--MD5=[4672eba38e49728da53d11aeb285b987]\n",
       "reverse link E3 to E4--><g id=\"link_E3_E4\"><a href=\"psysml:724ffe94-cfbf-4ea2-b315-6baf1a587f0c\" target=\"_top\" title=\"psysml:724ffe94-cfbf-4ea2-b315-6baf1a587f0c\" xlink:actuate=\"onRequest\" xlink:href=\"psysml:724ffe94-cfbf-4ea2-b315-6baf1a587f0c\" xlink:show=\"new\" xlink:title=\"psysml:724ffe94-cfbf-4ea2-b315-6baf1a587f0c\" xlink:type=\"simple\"><path d=\"M92.22,281 C92.22,281 85,281 85,281 C85,281 85,416.15 85,472.64 \" fill=\"none\" id=\"E3-backto-E4\" style=\"stroke:#181818;stroke-width:1.0;\"/><polygon fill=\"#181818\" points=\"105.22,281,99.22,277,93.22,281,99.22,285,105.22,281\" style=\"stroke:#181818;stroke-width:1.0;\"/></a></g><!--MD5=[191cde3d490a3f6d7bb551fe3ddca469]\n",
       "reverse link E3 to E5--><g id=\"link_E3_E5\"><a href=\"psysml:9c72d63b-be6b-487b-af19-53b3ed2c634b\" target=\"_top\" title=\"psysml:9c72d63b-be6b-487b-af19-53b3ed2c634b\" xlink:actuate=\"onRequest\" xlink:href=\"psysml:9c72d63b-be6b-487b-af19-53b3ed2c634b\" xlink:show=\"new\" xlink:title=\"psysml:9c72d63b-be6b-487b-af19-53b3ed2c634b\" xlink:type=\"simple\"><path d=\"M161.25,318.24 C161.25,318.24 161.25,364.84 161.25,364.84 \" fill=\"none\" id=\"E3-backto-E5\" style=\"stroke:#181818;stroke-width:1.0;\"/><polygon fill=\"none\" points=\"161.25,305.24,157.25,311.24,161.25,317.24,165.25,311.24,161.25,305.24\" style=\"stroke:#181818;stroke-width:1.0;\"/></a></g><!--MD5=[79568f1e445c3877b6a54524624ccc7d]\n",
       "link E4 to E6--><g id=\"link_E4_E6\"><a href=\"psysml:c1d845e5-90b4-4786-9172-2f85f48f902a\" target=\"_top\" title=\"psysml:c1d845e5-90b4-4786-9172-2f85f48f902a\" xlink:actuate=\"onRequest\" xlink:href=\"psysml:c1d845e5-90b4-4786-9172-2f85f48f902a\" xlink:show=\"new\" xlink:title=\"psysml:c1d845e5-90b4-4786-9172-2f85f48f902a\" xlink:type=\"simple\"><path d=\"M67,521.24 C67,553.08 67,605 67,605 C67,605 102.3,605 102.3,605 \" fill=\"none\" id=\"E4-to-E6\" style=\"stroke:#181818;stroke-width:1.0;\"/><polygon fill=\"#FFFFFF\" points=\"122.3,605,103.3,612,103.3,598,122.3,605\" style=\"stroke:#181818;stroke-width:1.0;\"/><ellipse cx=\"97.6\" cy=\"610\" fill=\"#181818\" rx=\"2\" ry=\"2\" style=\"stroke:#181818;stroke-width:1.0;\"/><ellipse cx=\"97.6\" cy=\"600\" fill=\"#181818\" rx=\"2\" ry=\"2\" style=\"stroke:#181818;stroke-width:1.0;\"/></a></g><!--MD5=[3f50a3473f1dfb74d3f76443e03635af]\n",
       "reverse link E6 to E7--><g id=\"link_E6_E7\"><a href=\"psysml:ee76f7ce-c996-4988-9b1a-5ac16ad8d066\" target=\"_top\" title=\"psysml:ee76f7ce-c996-4988-9b1a-5ac16ad8d066\" xlink:actuate=\"onRequest\" xlink:href=\"psysml:ee76f7ce-c996-4988-9b1a-5ac16ad8d066\" xlink:show=\"new\" xlink:title=\"psysml:ee76f7ce-c996-4988-9b1a-5ac16ad8d066\" xlink:type=\"simple\"><path d=\"M181.25,642.24 C181.25,642.24 181.25,688.84 181.25,688.84 \" fill=\"none\" id=\"E6-backto-E7\" style=\"stroke:#181818;stroke-width:1.0;\"/><polygon fill=\"#181818\" points=\"181.25,629.24,177.25,635.24,181.25,641.24,185.25,635.24,181.25,629.24\" style=\"stroke:#181818;stroke-width:1.0;\"/></a></g><!--MD5=[14ccda38c055a5c0da953d572bc50960]\n",
       "link E7 to E3--><g id=\"link_E7_E3\"><a href=\"psysml:1cb41c8a-3888-4a6d-b592-33957295a7ee\" target=\"_top\" title=\"psysml:1cb41c8a-3888-4a6d-b592-33957295a7ee\" xlink:actuate=\"onRequest\" xlink:href=\"psysml:1cb41c8a-3888-4a6d-b592-33957295a7ee\" xlink:show=\"new\" xlink:title=\"psysml:1cb41c8a-3888-4a6d-b592-33957295a7ee\" xlink:type=\"simple\"><path d=\"M204,688.99 C204,599.29 204,289 204,289 C204,289 196.55,289 196.55,289 \" fill=\"none\" id=\"E7-to-E3\" style=\"stroke:#181818;stroke-width:1.0;\"/><polygon fill=\"#FFFFFF\" points=\"176.55,289,195.55,282,195.55,296,176.55,289\" style=\"stroke:#181818;stroke-width:1.0;\"/><ellipse cx=\"201.25\" cy=\"284\" fill=\"#181818\" rx=\"2\" ry=\"2\" style=\"stroke:#181818;stroke-width:1.0;\"/><ellipse cx=\"201.25\" cy=\"294\" fill=\"#181818\" rx=\"2\" ry=\"2\" style=\"stroke:#181818;stroke-width:1.0;\"/></a></g><!--MD5=[dfaffb906826c3e5aca635516100ff21]\n",
       "link E5 to E8--><g id=\"link_E5_E8\"><a href=\"psysml:b2862137-6a73-49a4-ad0f-48652eafb24c\" target=\"_top\" title=\"psysml:b2862137-6a73-49a4-ad0f-48652eafb24c\" xlink:actuate=\"onRequest\" xlink:href=\"psysml:b2862137-6a73-49a4-ad0f-48652eafb24c\" xlink:show=\"new\" xlink:title=\"psysml:b2862137-6a73-49a4-ad0f-48652eafb24c\" xlink:type=\"simple\"><path d=\"M167,413.24 C167,413.24 167,452.84 167,452.84 \" fill=\"none\" id=\"E5-to-E8\" style=\"stroke:#181818;stroke-width:1.0;\"/><polygon fill=\"#FFFFFF\" points=\"167,472.84,160,453.84,174,453.84,167,472.84\" style=\"stroke:#181818;stroke-width:1.0;\"/><ellipse cx=\"162\" cy=\"448.14\" fill=\"#181818\" rx=\"2\" ry=\"2\" style=\"stroke:#181818;stroke-width:1.0;\"/><ellipse cx=\"172\" cy=\"448.14\" fill=\"#181818\" rx=\"2\" ry=\"2\" style=\"stroke:#181818;stroke-width:1.0;\"/></a></g><!--MD5=[03c8294790d3c57651a1993cecff665f]\n",
       "reverse link E8 to E3--><g id=\"link_E8_E3\"><a href=\"psysml:764dcc5f-c791-44bd-8fe4-0cc6162433fb\" target=\"_top\" title=\"psysml:764dcc5f-c791-44bd-8fe4-0cc6162433fb\" xlink:actuate=\"onRequest\" xlink:href=\"psysml:764dcc5f-c791-44bd-8fe4-0cc6162433fb\" xlink:show=\"new\" xlink:title=\"psysml:764dcc5f-c791-44bd-8fe4-0cc6162433fb\" xlink:type=\"simple\"><path d=\"M135,459.64 C135,459.64 135,305.27 135,305.27 \" fill=\"none\" id=\"E8-backto-E3\" style=\"stroke:#181818;stroke-width:1.0;\"/><polygon fill=\"none\" points=\"135,472.64,139,466.64,135,460.64,131,466.64,135,472.64\" style=\"stroke:#181818;stroke-width:1.0;\"/><text fill=\"#000000\" font-family=\"sans-serif\" font-size=\"13\" lengthAdjust=\"spacing\" textLength=\"7\" x=\"127\" y=\"378.5269\">y</text></a></g><!--MD5=[0d75d2178373a6a4568e5dc728f58aef]\n",
       "reverse link E8 to E6--><g id=\"link_E8_E6\"><a href=\"psysml:764dcc5f-c791-44bd-8fe4-0cc6162433fb\" target=\"_top\" title=\"psysml:764dcc5f-c791-44bd-8fe4-0cc6162433fb\" xlink:actuate=\"onRequest\" xlink:href=\"psysml:764dcc5f-c791-44bd-8fe4-0cc6162433fb\" xlink:show=\"new\" xlink:title=\"psysml:764dcc5f-c791-44bd-8fe4-0cc6162433fb\" xlink:type=\"simple\"><path d=\"M158.75,534.24 C158.75,534.24 158.75,580.84 158.75,580.84 \" fill=\"none\" id=\"E8-backto-E6\" style=\"stroke:#181818;stroke-width:1.0;\"/><polygon fill=\"none\" points=\"158.75,521.24,154.75,527.24,158.75,533.24,162.75,527.24,158.75,521.24\" style=\"stroke:#181818;stroke-width:1.0;\"/><text fill=\"#000000\" font-family=\"sans-serif\" font-size=\"13\" lengthAdjust=\"spacing\" textLength=\"7\" x=\"150.75\" y=\"553.6069\">y</text></a></g><!--MD5=[23ac544a70576c3e717098101004234c]\n",
       "reverse link E9 to E10--><g id=\"link_E9_E10\"><a href=\"psysml:1f369bef-866d-4201-85d0-19625ffb0bd4\" target=\"_top\" title=\"psysml:1f369bef-866d-4201-85d0-19625ffb0bd4\" xlink:actuate=\"onRequest\" xlink:href=\"psysml:1f369bef-866d-4201-85d0-19625ffb0bd4\" xlink:show=\"new\" xlink:title=\"psysml:1f369bef-866d-4201-85d0-19625ffb0bd4\" xlink:type=\"simple\"><path d=\"M127.75,102.24 C127.75,102.24 127.75,148.84 127.75,148.84 \" fill=\"none\" id=\"E9-backto-E10\" style=\"stroke:#181818;stroke-width:1.0;\"/><polygon fill=\"none\" points=\"127.75,89.24,123.75,95.24,127.75,101.24,131.75,95.24,127.75,89.24\" style=\"stroke:#181818;stroke-width:1.0;\"/></a></g><!--MD5=[feeac5eb423634930294aa81f2d25a4c]\n",
       "link E10 to E3--><g id=\"link_E10_E3\"><a href=\"psysml:0dc69dec-387f-4606-9efc-6b8567a081cf\" target=\"_top\" title=\"psysml:0dc69dec-387f-4606-9efc-6b8567a081cf\" xlink:actuate=\"onRequest\" xlink:href=\"psysml:0dc69dec-387f-4606-9efc-6b8567a081cf\" xlink:show=\"new\" xlink:title=\"psysml:0dc69dec-387f-4606-9efc-6b8567a081cf\" xlink:type=\"simple\"><path d=\"M141,197.24 C141,197.24 141,236.84 141,236.84 \" fill=\"none\" id=\"E10-to-E3\" style=\"stroke:#181818;stroke-width:1.0;\"/><polygon fill=\"#FFFFFF\" points=\"141,256.84,134,237.84,148,237.84,141,256.84\" style=\"stroke:#181818;stroke-width:1.0;\"/><ellipse cx=\"136\" cy=\"232.14\" fill=\"#181818\" rx=\"2\" ry=\"2\" style=\"stroke:#181818;stroke-width:1.0;\"/><ellipse cx=\"146\" cy=\"232.14\" fill=\"#181818\" rx=\"2\" ry=\"2\" style=\"stroke:#181818;stroke-width:1.0;\"/></a></g><!--MD5=[1fc04a95fd77ad5ce46c1a3027516051]\n",
       "reverse link E9 to E11--><g id=\"link_E9_E11\"><a href=\"psysml:41147f3b-680c-4b19-9ea9-1ad0d7284d0b\" target=\"_top\" title=\"psysml:41147f3b-680c-4b19-9ea9-1ad0d7284d0b\" xlink:actuate=\"onRequest\" xlink:href=\"psysml:41147f3b-680c-4b19-9ea9-1ad0d7284d0b\" xlink:show=\"new\" xlink:title=\"psysml:41147f3b-680c-4b19-9ea9-1ad0d7284d0b\" xlink:type=\"simple\"><path d=\"M75.25,102.24 C75.25,102.24 75.25,148.84 75.25,148.84 \" fill=\"none\" id=\"E9-backto-E11\" style=\"stroke:#181818;stroke-width:1.0;\"/><polygon fill=\"none\" points=\"75.25,89.24,71.25,95.24,75.25,101.24,79.25,95.24,75.25,89.24\" style=\"stroke:#181818;stroke-width:1.0;\"/></a></g><!--MD5=[0517f1ce58c4d5483948f93845c45e26]\n",
       "link E11 to E3--><g id=\"link_E11_E3\"><a href=\"psysml:86cba12c-5c0b-4cb2-8a0f-652783ee7e3b\" target=\"_top\" title=\"psysml:86cba12c-5c0b-4cb2-8a0f-652783ee7e3b\" xlink:actuate=\"onRequest\" xlink:href=\"psysml:86cba12c-5c0b-4cb2-8a0f-652783ee7e3b\" xlink:show=\"new\" xlink:title=\"psysml:86cba12c-5c0b-4cb2-8a0f-652783ee7e3b\" xlink:type=\"simple\"><path d=\"M81.79,173 C95.98,173 111,173 111,173 C111,173 111,236.76 111,236.76 \" fill=\"none\" id=\"E11-to-E3\" style=\"stroke:#181818;stroke-width:1.0;\"/><polygon fill=\"#FFFFFF\" points=\"111,256.76,104,237.76,118,237.76,111,256.76\" style=\"stroke:#181818;stroke-width:1.0;\"/><ellipse cx=\"106\" cy=\"232.06\" fill=\"#181818\" rx=\"2\" ry=\"2\" style=\"stroke:#181818;stroke-width:1.0;\"/><ellipse cx=\"116\" cy=\"232.06\" fill=\"#181818\" rx=\"2\" ry=\"2\" style=\"stroke:#181818;stroke-width:1.0;\"/></a></g><!--MD5=[76e12543804041616012f718a55c9a04]\n",
       "@startuml\r\n",
       "skin sysmlbw\r\n",
       "skinparam monochrome true\r\n",
       "skinparam wrapWidth 300\r\n",
       "hide circle\r\n",
       "skinparam linetype ortho\r\n",
       "\r\n",
       "package \"ItemTest\" as E1  [[psysml:b50080a1-e82f-4c80-9a3f-5d66ab4e7e23 ]]  {\r\n",
       "comp usage \"f: A  \" as E2  <<(T,blue) item>> [[psysml:4d36820e-7c5e-46bd-9de5-e346cea54837 ]] {\r\n",
       "}\r\n",
       "comp def \"A\" as E3  <<(T,blue) item  def>> [[psysml:90a9c46f-1bc9-4470-bf4e-8ae555dfcfc9 ]] {\r\n",
       "}\r\n",
       "comp usage \"b: B  \" as E4  <<(T,blue) item>> [[psysml:d394e1d7-ba50-4340-ad50-ece704d14a42 ]] {\r\n",
       "}\r\n",
       "comp usage \"c: C  \" as E5  <<(T,blue) part>> [[psysml:af047218-2074-4cd5-be73-a9bc4fd53c73 ]] {\r\n",
       "}\r\n",
       "comp def \"<i>B</i>\" as E6  <<(T,blue) item  def>> [[psysml:24ac0b44-19f7-4e7e-9d8c-29217623109a ]] {\r\n",
       "}\r\n",
       "comp usage \"<i>a</i>: A  \" as E7  <<(T,blue) part>> [[psysml:f97762a5-be4a-40f0-b15f-ded6f9a0a2bf ]] {\r\n",
       "}\r\n",
       "comp def \"C\" as E8  <<(T,blue) part  def>> [[psysml:2119f9fa-e703-4679-adcc-c9e3fda7136e ]] {\r\n",
       "}\r\n",
       "comp def \"P\" as E9  <<(T,blue) port  def>> [[psysml:f9be0f9f-7828-47af-b676-a3098923450b ]] {\r\n",
       "}\r\n",
       "comp usage \"a1: A  \" as E10  <<(T,blue) item>> [[psysml:bdd21edf-ffb1-47e0-8301-b129ba721304 ]] {\r\n",
       "}\r\n",
       "comp usage \"a2: A  \" as E11  <<(T,blue) item>> [[psysml:ea86bb80-7fc3-4478-bdc0-15728142c0fa ]] {\r\n",
       "}\r\n",
       "}\r\n",
       "E2 - -:|> E3 [[psysml:358bd963-d6cf-4c51-9d97-dc29b520688f ]] \r\n",
       "E3 *- - E4 [[psysml:724ffe94-cfbf-4ea2-b315-6baf1a587f0c ]] \r\n",
       "E3 o- - E5 [[psysml:9c72d63b-be6b-487b-af19-53b3ed2c634b ]] \r\n",
       "E4 - -:|> E6 [[psysml:c1d845e5-90b4-4786-9172-2f85f48f902a ]] \r\n",
       "E6 *- - E7 [[psysml:ee76f7ce-c996-4988-9b1a-5ac16ad8d066 ]] \r\n",
       "E7 - -:|> E3 [[psysml:1cb41c8a-3888-4a6d-b592-33957295a7ee ]] \r\n",
       "E5 - -:|> E8 [[psysml:b2862137-6a73-49a4-ad0f-48652eafb24c ]] \r\n",
       "E8 o- - E3 [[psysml:764dcc5f-c791-44bd-8fe4-0cc6162433fb ]] : y\r\n",
       "E8 o- - E6 [[psysml:764dcc5f-c791-44bd-8fe4-0cc6162433fb ]] : y\r\n",
       "E9 o- - E10 [[psysml:1f369bef-866d-4201-85d0-19625ffb0bd4 ]] \r\n",
       "E10 - -:|> E3 [[psysml:0dc69dec-387f-4606-9efc-6b8567a081cf ]] \r\n",
       "E9 o- - E11 [[psysml:41147f3b-680c-4b19-9ea9-1ad0d7284d0b ]] \r\n",
       "E11 - -:|> E3 [[psysml:86cba12c-5c0b-4cb2-8a0f-652783ee7e3b ]] \r\n",
       "@enduml\r\n",
       "\n",
       "PlantUML version 1.2022.7(Mon Aug 22 17:01:30 UTC 2022)\n",
       "(EPL source distribution)\n",
       "Java Runtime: OpenJDK Runtime Environment\n",
       "JVM: OpenJDK 64-Bit Server VM\n",
       "Default Encoding: UTF-8\n",
       "Language: en\n",
       "Country: null\n",
       "--></g></svg>"
      ]
     },
     "execution_count": 52,
     "metadata": {},
     "output_type": "execute_result"
    }
   ],
   "source": [
    "%viz --style=\"ORTHOLINE\" --view=\"Tree\" \"ItemTest\""
   ]
  },
  {
   "cell_type": "code",
   "execution_count": 53,
   "id": "514b593f",
   "metadata": {
    "execution": {
     "iopub.execute_input": "2024-12-16T03:22:56.746660Z",
     "iopub.status.busy": "2024-12-16T03:22:56.746448Z",
     "iopub.status.idle": "2024-12-16T03:22:56.751229Z",
     "shell.execute_reply": "2024-12-16T03:22:56.751034Z"
    }
   },
   "outputs": [
    {
     "data": {
      "image/svg+xml": [
       "<?xml version=\"1.0\" encoding=\"UTF-8\" standalone=\"no\"?><svg xmlns=\"http://www.w3.org/2000/svg\" xmlns:xlink=\"http://www.w3.org/1999/xlink\" contentStyleType=\"text/css\" height=\"10px\" preserveAspectRatio=\"none\" style=\"width:10px;height:10px;background:#FFFFFF;\" version=\"1.1\" viewBox=\"0 0 10 10\" width=\"10px\" zoomAndPan=\"magnify\"><defs/><g><!--MD5=[db5337d1ba6fd3a35e07e04988169323]\n",
       "@startuml\r\n",
       "skin sysmlbw\r\n",
       "skinparam monochrome true\r\n",
       "skinparam wrapWidth 300\r\n",
       "hide circle\r\n",
       "skinparam linetype ortho\r\n",
       "\r\n",
       "@enduml\r\n",
       "\n",
       "PlantUML version 1.2022.7(Mon Aug 22 17:01:30 UTC 2022)\n",
       "(EPL source distribution)\n",
       "Java Runtime: OpenJDK Runtime Environment\n",
       "JVM: OpenJDK 64-Bit Server VM\n",
       "Default Encoding: UTF-8\n",
       "Language: en\n",
       "Country: null\n",
       "--></g></svg>"
      ]
     },
     "execution_count": 53,
     "metadata": {},
     "output_type": "execute_result"
    }
   ],
   "source": [
    "%viz --style=\"ORTHOLINE\" --view=\"State\" \"ItemTest\""
   ]
  },
  {
   "cell_type": "code",
   "execution_count": 54,
   "id": "77fc5982",
   "metadata": {
    "execution": {
     "iopub.execute_input": "2024-12-16T03:22:56.807130Z",
     "iopub.status.busy": "2024-12-16T03:22:56.806875Z",
     "iopub.status.idle": "2024-12-16T03:22:56.823894Z",
     "shell.execute_reply": "2024-12-16T03:22:56.823029Z"
    }
   },
   "outputs": [
    {
     "data": {
      "image/svg+xml": [
       "<?xml version=\"1.0\" encoding=\"UTF-8\" standalone=\"no\"?><svg xmlns=\"http://www.w3.org/2000/svg\" xmlns:xlink=\"http://www.w3.org/1999/xlink\" contentStyleType=\"text/css\" height=\"245px\" preserveAspectRatio=\"none\" style=\"width:478px;height:245px;background:#FFFFFF;\" version=\"1.1\" viewBox=\"0 0 478 245\" width=\"478px\" zoomAndPan=\"magnify\"><defs/><g><!--MD5=[fbc87193dbaf4d95561dea2c320d4a47]\n",
       "cluster E1--><g id=\"cluster_E1\"><a href=\"psysml:b50080a1-e82f-4c80-9a3f-5d66ab4e7e23\" target=\"_top\" title=\"psysml:b50080a1-e82f-4c80-9a3f-5d66ab4e7e23\" xlink:actuate=\"onRequest\" xlink:href=\"psysml:b50080a1-e82f-4c80-9a3f-5d66ab4e7e23\" xlink:show=\"new\" xlink:title=\"psysml:b50080a1-e82f-4c80-9a3f-5d66ab4e7e23\" xlink:type=\"simple\"><polygon fill=\"none\" points=\"16,6,86.5,6,93.5,28.2969,461,28.2969,461,238,16,238,16,6\" style=\"stroke:#000000;stroke-width:1.5;\"/><line style=\"stroke:#000000;stroke-width:1.5;\" x1=\"16\" x2=\"93.5\" y1=\"28.2969\" y2=\"28.2969\"/><text fill=\"#000000\" font-family=\"sans-serif\" font-size=\"14\" font-weight=\"bold\" lengthAdjust=\"spacing\" textLength=\"64.5\" x=\"20\" y=\"20.9951\">ItemTest</text></a></g><!--MD5=[de5ec2e2e8f62f467e546659f5068c88]\n",
       "cluster E5--><g id=\"cluster_E5\"><a href=\"psysml:2119f9fa-e703-4679-adcc-c9e3fda7136e\" target=\"_top\" title=\"psysml:2119f9fa-e703-4679-adcc-c9e3fda7136e\" xlink:actuate=\"onRequest\" xlink:href=\"psysml:2119f9fa-e703-4679-adcc-c9e3fda7136e\" xlink:show=\"new\" xlink:title=\"psysml:2119f9fa-e703-4679-adcc-c9e3fda7136e\" xlink:type=\"simple\"><rect fill=\"#FFFFFF\" height=\"112\" id=\"E5\" style=\"stroke:#383838;stroke-width:1.5;\" width=\"114\" x=\"323\" y=\"49\"/><text fill=\"#000000\" font-family=\"sans-serif\" font-size=\"12\" font-style=\"italic\" lengthAdjust=\"spacing\" textLength=\"68\" x=\"346\" y=\"65.1387\">«part  def»</text><text fill=\"#000000\" font-family=\"sans-serif\" font-size=\"14\" lengthAdjust=\"spacing\" textLength=\"10\" x=\"375\" y=\"80.9639\">C</text><line style=\"stroke:#383838;stroke-width:1.0;\" x1=\"323\" x2=\"437\" y1=\"89.2656\" y2=\"89.2656\"/></a></g><g><a href=\"psysml:90a9c46f-1bc9-4470-bf4e-8ae555dfcfc9\" target=\"_top\" title=\"psysml:90a9c46f-1bc9-4470-bf4e-8ae555dfcfc9\" xlink:actuate=\"onRequest\" xlink:href=\"psysml:90a9c46f-1bc9-4470-bf4e-8ae555dfcfc9\" xlink:show=\"new\" xlink:title=\"psysml:90a9c46f-1bc9-4470-bf4e-8ae555dfcfc9\" xlink:type=\"simple\"><rect fill=\"#FFFFFF\" height=\"45.2656\" id=\"E3\" style=\"stroke:#383838;stroke-width:1.5;\" width=\"76\" x=\"32\" y=\"177\"/><text fill=\"#000000\" font-family=\"sans-serif\" font-size=\"12\" font-style=\"italic\" lengthAdjust=\"spacing\" textLength=\"69\" x=\"35.5\" y=\"193.1387\">«item  def»</text><text fill=\"#000000\" font-family=\"sans-serif\" font-size=\"14\" lengthAdjust=\"spacing\" textLength=\"9\" x=\"65.5\" y=\"208.9639\">A</text></a></g><g><a href=\"psysml:24ac0b44-19f7-4e7e-9d8c-29217623109a\" target=\"_top\" title=\"psysml:24ac0b44-19f7-4e7e-9d8c-29217623109a\" xlink:actuate=\"onRequest\" xlink:href=\"psysml:24ac0b44-19f7-4e7e-9d8c-29217623109a\" xlink:show=\"new\" xlink:title=\"psysml:24ac0b44-19f7-4e7e-9d8c-29217623109a\" xlink:type=\"simple\"><rect fill=\"#FFFFFF\" height=\"45.2656\" id=\"E4\" style=\"stroke:#383838;stroke-width:1.5;\" width=\"76\" x=\"228\" y=\"100\"/><text fill=\"#000000\" font-family=\"sans-serif\" font-size=\"12\" font-style=\"italic\" lengthAdjust=\"spacing\" textLength=\"69\" x=\"231.5\" y=\"116.1387\">«item  def»</text><text fill=\"#000000\" font-family=\"sans-serif\" font-size=\"14\" font-style=\"italic\" lengthAdjust=\"spacing\" textLength=\"10\" x=\"261\" y=\"131.9639\">B</text></a></g><g><a href=\"psysml:f9be0f9f-7828-47af-b676-a3098923450b\" target=\"_top\" title=\"psysml:f9be0f9f-7828-47af-b676-a3098923450b\" xlink:actuate=\"onRequest\" xlink:href=\"psysml:f9be0f9f-7828-47af-b676-a3098923450b\" xlink:show=\"new\" xlink:title=\"psysml:f9be0f9f-7828-47af-b676-a3098923450b\" xlink:type=\"simple\"><rect fill=\"#FFFFFF\" height=\"45.2656\" id=\"E7\" style=\"stroke:#383838;stroke-width:1.5;\" width=\"75\" x=\"117.5\" y=\"100\"/><text fill=\"#000000\" font-family=\"sans-serif\" font-size=\"12\" font-style=\"italic\" lengthAdjust=\"spacing\" textLength=\"68\" x=\"121\" y=\"116.1387\">«port  def»</text><text fill=\"#000000\" font-family=\"sans-serif\" font-size=\"14\" lengthAdjust=\"spacing\" textLength=\"9\" x=\"150.5\" y=\"131.9639\">P</text></a></g><g><a href=\"psysml:4d36820e-7c5e-46bd-9de5-e346cea54837\" target=\"_top\" title=\"psysml:4d36820e-7c5e-46bd-9de5-e346cea54837\" xlink:actuate=\"onRequest\" xlink:href=\"psysml:4d36820e-7c5e-46bd-9de5-e346cea54837\" xlink:show=\"new\" xlink:title=\"psysml:4d36820e-7c5e-46bd-9de5-e346cea54837\" xlink:type=\"simple\"><rect fill=\"#FFFFFF\" height=\"45.2656\" id=\"E2\" rx=\"10\" ry=\"10\" style=\"stroke:#383838;stroke-width:1.5;\" width=\"50\" x=\"32\" y=\"100\"/><text fill=\"#000000\" font-family=\"sans-serif\" font-size=\"12\" font-style=\"italic\" lengthAdjust=\"spacing\" textLength=\"41\" x=\"36.5\" y=\"116.1387\">«item»</text><text fill=\"#000000\" font-family=\"sans-serif\" font-size=\"14\" lengthAdjust=\"spacing\" textLength=\"22\" x=\"46\" y=\"131.9639\">f: A</text></a></g><g><a href=\"psysml:764dcc5f-c791-44bd-8fe4-0cc6162433fb\" target=\"_top\" title=\"psysml:764dcc5f-c791-44bd-8fe4-0cc6162433fb\" xlink:actuate=\"onRequest\" xlink:href=\"psysml:764dcc5f-c791-44bd-8fe4-0cc6162433fb\" xlink:show=\"new\" xlink:title=\"psysml:764dcc5f-c791-44bd-8fe4-0cc6162433fb\" xlink:type=\"simple\"><rect fill=\"#FFFFFF\" height=\"45.2656\" id=\"E6\" rx=\"10\" ry=\"10\" style=\"stroke:#383838;stroke-width:1.5;\" width=\"82\" x=\"339\" y=\"100\"/><text fill=\"#000000\" font-family=\"sans-serif\" font-size=\"12\" font-style=\"italic\" lengthAdjust=\"spacing\" textLength=\"75\" x=\"342.5\" y=\"116.1387\">«reference»</text><text fill=\"#000000\" font-family=\"sans-serif\" font-size=\"14\" lengthAdjust=\"spacing\" textLength=\"43\" x=\"354.5\" y=\"131.9639\">y: A, B</text></a></g><!--MD5=[2720a5a1f2c3fca2055b230370638851]\n",
       "link E2 to E3--><g id=\"link_E2_E3\"><a href=\"psysml:358bd963-d6cf-4c51-9d97-dc29b520688f\" target=\"_top\" title=\"psysml:358bd963-d6cf-4c51-9d97-dc29b520688f\" xlink:actuate=\"onRequest\" xlink:href=\"psysml:358bd963-d6cf-4c51-9d97-dc29b520688f\" xlink:show=\"new\" xlink:title=\"psysml:358bd963-d6cf-4c51-9d97-dc29b520688f\" xlink:type=\"simple\"><path d=\"M57,145.19 C57,145.19 57,156.98 57,156.98 \" fill=\"none\" id=\"E2-to-E3\" style=\"stroke:#181818;stroke-width:1.0;\"/><polygon fill=\"#FFFFFF\" points=\"57,176.98,50,157.98,64,157.98,57,176.98\" style=\"stroke:#181818;stroke-width:1.0;\"/><ellipse cx=\"52\" cy=\"152.28\" fill=\"#181818\" rx=\"2\" ry=\"2\" style=\"stroke:#181818;stroke-width:1.0;\"/><ellipse cx=\"62\" cy=\"152.28\" fill=\"#181818\" rx=\"2\" ry=\"2\" style=\"stroke:#181818;stroke-width:1.0;\"/></a></g><!--MD5=[213671c6f04d4e2c452d04603efbd16e]\n",
       "@startuml\r\n",
       "skin sysmlbw\r\n",
       "skinparam monochrome true\r\n",
       "skinparam wrapWidth 300\r\n",
       "hide circle\r\n",
       "skinparam linetype ortho\r\n",
       "skinparam ranksep 10\r\n",
       "skinparam rectangle {\r\n",
       " backgroundColor<<block>> LightGreen\r\n",
       "}\r\n",
       "\r\n",
       "package \"ItemTest\" as E1  [[psysml:b50080a1-e82f-4c80-9a3f-5d66ab4e7e23 ]]  {\r\n",
       "rec usage \"f: A\" as E2  <<(T,blue) item>> [[psysml:4d36820e-7c5e-46bd-9de5-e346cea54837 ]] {\r\n",
       "}\r\n",
       "def \"A\" as E3  <<(T,blue) item  def>> [[psysml:90a9c46f-1bc9-4470-bf4e-8ae555dfcfc9 ]] \r\n",
       "def \"<i>B</i>\" as E4  <<(T,blue) item  def>> [[psysml:24ac0b44-19f7-4e7e-9d8c-29217623109a ]] \r\n",
       "rec def \"C\" as E5  <<(T,blue) part  def>> [[psysml:2119f9fa-e703-4679-adcc-c9e3fda7136e ]] {\r\n",
       "rec usage \"y: A, B  \" as E6  <<(T,blue) reference>> [[psysml:764dcc5f-c791-44bd-8fe4-0cc6162433fb ]] {\r\n",
       "}\r\n",
       "\r\n",
       "}\r\n",
       "def \"P\" as E7  <<(T,blue) port  def>> [[psysml:f9be0f9f-7828-47af-b676-a3098923450b ]] \r\n",
       "}\r\n",
       "E2 - -:|> E3 [[psysml:358bd963-d6cf-4c51-9d97-dc29b520688f ]] \r\n",
       "@enduml\r\n",
       "\n",
       "PlantUML version 1.2022.7(Mon Aug 22 17:01:30 UTC 2022)\n",
       "(EPL source distribution)\n",
       "Java Runtime: OpenJDK Runtime Environment\n",
       "JVM: OpenJDK 64-Bit Server VM\n",
       "Default Encoding: UTF-8\n",
       "Language: en\n",
       "Country: null\n",
       "--></g></svg>"
      ]
     },
     "execution_count": 54,
     "metadata": {},
     "output_type": "execute_result"
    }
   ],
   "source": [
    "%viz --style=\"ORTHOLINE\" --view=\"Interconnection\" \"ItemTest\""
   ]
  },
  {
   "cell_type": "code",
   "execution_count": 55,
   "id": "4d6f3a72",
   "metadata": {
    "execution": {
     "iopub.execute_input": "2024-12-16T03:22:56.878383Z",
     "iopub.status.busy": "2024-12-16T03:22:56.878152Z",
     "iopub.status.idle": "2024-12-16T03:22:56.882247Z",
     "shell.execute_reply": "2024-12-16T03:22:56.882071Z"
    }
   },
   "outputs": [
    {
     "data": {
      "image/svg+xml": [
       "<?xml version=\"1.0\" encoding=\"UTF-8\" standalone=\"no\"?><svg xmlns=\"http://www.w3.org/2000/svg\" xmlns:xlink=\"http://www.w3.org/1999/xlink\" contentStyleType=\"text/css\" height=\"10px\" preserveAspectRatio=\"none\" style=\"width:10px;height:10px;background:#FFFFFF;\" version=\"1.1\" viewBox=\"0 0 10 10\" width=\"10px\" zoomAndPan=\"magnify\"><defs/><g><!--MD5=[13654d10b9e2b79db36f00fd31e63fb2]\n",
       "@startuml\r\n",
       "skin sysmlbw\r\n",
       "skinparam monochrome true\r\n",
       "skinparam wrapWidth 300\r\n",
       "hide circle\r\n",
       "skinparam linetype ortho\r\n",
       "skinparam ranksep 8\r\n",
       "\r\n",
       "@enduml\r\n",
       "\n",
       "PlantUML version 1.2022.7(Mon Aug 22 17:01:30 UTC 2022)\n",
       "(EPL source distribution)\n",
       "Java Runtime: OpenJDK Runtime Environment\n",
       "JVM: OpenJDK 64-Bit Server VM\n",
       "Default Encoding: UTF-8\n",
       "Language: en\n",
       "Country: null\n",
       "--></g></svg>"
      ]
     },
     "execution_count": 55,
     "metadata": {},
     "output_type": "execute_result"
    }
   ],
   "source": [
    "%viz --style=\"ORTHOLINE\" --view=\"Action\" \"ItemTest\""
   ]
  },
  {
   "cell_type": "code",
   "execution_count": 56,
   "id": "e7dfc0e0",
   "metadata": {
    "execution": {
     "iopub.execute_input": "2024-12-16T03:22:56.938960Z",
     "iopub.status.busy": "2024-12-16T03:22:56.938747Z",
     "iopub.status.idle": "2024-12-16T03:22:56.942882Z",
     "shell.execute_reply": "2024-12-16T03:22:56.942599Z"
    }
   },
   "outputs": [
    {
     "data": {
      "image/svg+xml": [
       "<?xml version=\"1.0\" encoding=\"UTF-8\" standalone=\"no\"?><svg xmlns=\"http://www.w3.org/2000/svg\" xmlns:xlink=\"http://www.w3.org/1999/xlink\" contentStyleType=\"text/css\" height=\"10px\" preserveAspectRatio=\"none\" style=\"width:10px;height:10px;background:#FFFFFF;\" version=\"1.1\" viewBox=\"0 0 10 10\" width=\"10px\" zoomAndPan=\"magnify\"><defs/><g><!--MD5=[5b6eb85285460e34b0e63326afe72cc5]\n",
       "@startuml\r\n",
       "skin sysmlbw\r\n",
       "skinparam monochrome true\r\n",
       "skinparam wrapWidth 300\r\n",
       "hide circle\r\n",
       "skinparam linetype ortho\r\n",
       "skinparam roundcorner 20\r\n",
       "skinparam BoxPadding 20\r\n",
       "skinparam SequenceBoxBackgroundColor #white\r\n",
       "skinparam style strictuml\r\n",
       "skinparam maxMessageSize 100\r\n",
       "\r\n",
       "@enduml\r\n",
       "\n",
       "PlantUML version 1.2022.7(Mon Aug 22 17:01:30 UTC 2022)\n",
       "(EPL source distribution)\n",
       "Java Runtime: OpenJDK Runtime Environment\n",
       "JVM: OpenJDK 64-Bit Server VM\n",
       "Default Encoding: UTF-8\n",
       "Language: en\n",
       "Country: null\n",
       "--></g></svg>"
      ]
     },
     "execution_count": 56,
     "metadata": {},
     "output_type": "execute_result"
    }
   ],
   "source": [
    "%viz --style=\"ORTHOLINE\" --view=\"Sequence\" \"ItemTest\""
   ]
  },
  {
   "cell_type": "code",
   "execution_count": 57,
   "id": "1149f8f3",
   "metadata": {
    "execution": {
     "iopub.execute_input": "2024-12-16T03:22:56.998540Z",
     "iopub.status.busy": "2024-12-16T03:22:56.998345Z",
     "iopub.status.idle": "2024-12-16T03:22:57.019024Z",
     "shell.execute_reply": "2024-12-16T03:22:57.018845Z"
    }
   },
   "outputs": [
    {
     "data": {
      "image/svg+xml": [
       "<?xml version=\"1.0\" encoding=\"UTF-8\" standalone=\"no\"?><svg xmlns=\"http://www.w3.org/2000/svg\" xmlns:xlink=\"http://www.w3.org/1999/xlink\" contentStyleType=\"text/css\" height=\"760px\" preserveAspectRatio=\"none\" style=\"width:277px;height:760px;background:#FFFFFF;\" version=\"1.1\" viewBox=\"0 0 277 760\" width=\"277px\" zoomAndPan=\"magnify\"><defs/><g><!--MD5=[fbc87193dbaf4d95561dea2c320d4a47]\n",
       "cluster E1--><g id=\"cluster_E1\"><a href=\"psysml:b50080a1-e82f-4c80-9a3f-5d66ab4e7e23\" target=\"_top\" title=\"psysml:b50080a1-e82f-4c80-9a3f-5d66ab4e7e23\" xlink:actuate=\"onRequest\" xlink:href=\"psysml:b50080a1-e82f-4c80-9a3f-5d66ab4e7e23\" xlink:show=\"new\" xlink:title=\"psysml:b50080a1-e82f-4c80-9a3f-5d66ab4e7e23\" xlink:type=\"simple\"><polygon fill=\"none\" points=\"16,6,86.5,6,93.5,28.2969,260,28.2969,260,753,16,753,16,6\" style=\"stroke:#000000;stroke-width:1.5;\"/><line style=\"stroke:#000000;stroke-width:1.5;\" x1=\"16\" x2=\"93.5\" y1=\"28.2969\" y2=\"28.2969\"/><text fill=\"#000000\" font-family=\"sans-serif\" font-size=\"14\" font-weight=\"bold\" lengthAdjust=\"spacing\" textLength=\"64.5\" x=\"20\" y=\"20.9951\">ItemTest</text></a></g><!--MD5=[b4997ac47864f28c2f74865a473b2911]\n",
       "class E2--><a href=\"psysml:4d36820e-7c5e-46bd-9de5-e346cea54837\" target=\"_top\" title=\"psysml:4d36820e-7c5e-46bd-9de5-e346cea54837\" xlink:actuate=\"onRequest\" xlink:href=\"psysml:4d36820e-7c5e-46bd-9de5-e346cea54837\" xlink:show=\"new\" xlink:title=\"psysml:4d36820e-7c5e-46bd-9de5-e346cea54837\" xlink:type=\"simple\"><g id=\"elem_E2\"><rect fill=\"#FFFFFF\" height=\"48.2656\" id=\"E2\" rx=\"10\" ry=\"10\" style=\"stroke:#181818;stroke-width:0.5;\" width=\"43\" x=\"200.5\" y=\"149\"/><text fill=\"#000000\" font-family=\"sans-serif\" font-size=\"12\" font-style=\"italic\" lengthAdjust=\"spacing\" textLength=\"41\" x=\"201.5\" y=\"165.1387\">«item»</text><text fill=\"#000000\" font-family=\"sans-serif\" font-size=\"14\" lengthAdjust=\"spacing\" textLength=\"22\" x=\"207\" y=\"180.9639\">f: A</text><line style=\"stroke:#181818;stroke-width:0.5;\" x1=\"201.5\" x2=\"242.5\" y1=\"189.2656\" y2=\"189.2656\"/></g></a><!--MD5=[09b614a08d8cba4a07c9adeb5e0fee81]\n",
       "class E3--><a href=\"psysml:90a9c46f-1bc9-4470-bf4e-8ae555dfcfc9\" target=\"_top\" title=\"psysml:90a9c46f-1bc9-4470-bf4e-8ae555dfcfc9\" xlink:actuate=\"onRequest\" xlink:href=\"psysml:90a9c46f-1bc9-4470-bf4e-8ae555dfcfc9\" xlink:show=\"new\" xlink:title=\"psysml:90a9c46f-1bc9-4470-bf4e-8ae555dfcfc9\" xlink:type=\"simple\"><g id=\"elem_E3\"><rect fill=\"#FFFFFF\" height=\"48.2656\" id=\"E3\" style=\"stroke:#181818;stroke-width:0.5;\" width=\"71\" x=\"105.5\" y=\"257\"/><text fill=\"#000000\" font-family=\"sans-serif\" font-size=\"12\" font-style=\"italic\" lengthAdjust=\"spacing\" textLength=\"69\" x=\"106.5\" y=\"273.1387\">«item  def»</text><text fill=\"#000000\" font-family=\"sans-serif\" font-size=\"14\" lengthAdjust=\"spacing\" textLength=\"9\" x=\"136.5\" y=\"288.9639\">A</text><line style=\"stroke:#181818;stroke-width:0.5;\" x1=\"106.5\" x2=\"175.5\" y1=\"297.2656\" y2=\"297.2656\"/></g></a><!--MD5=[ebbe1d658d1005bcc118a6aa81145e00]\n",
       "class E4--><a href=\"psysml:d394e1d7-ba50-4340-ad50-ece704d14a42\" target=\"_top\" title=\"psysml:d394e1d7-ba50-4340-ad50-ece704d14a42\" xlink:actuate=\"onRequest\" xlink:href=\"psysml:d394e1d7-ba50-4340-ad50-ece704d14a42\" xlink:show=\"new\" xlink:title=\"psysml:d394e1d7-ba50-4340-ad50-ece704d14a42\" xlink:type=\"simple\"><g id=\"elem_E4\"><rect fill=\"#FFFFFF\" height=\"48.2656\" id=\"E4\" rx=\"10\" ry=\"10\" style=\"stroke:#181818;stroke-width:0.5;\" width=\"43\" x=\"45.5\" y=\"473\"/><text fill=\"#000000\" font-family=\"sans-serif\" font-size=\"12\" font-style=\"italic\" lengthAdjust=\"spacing\" textLength=\"41\" x=\"46.5\" y=\"489.1387\">«item»</text><text fill=\"#000000\" font-family=\"sans-serif\" font-size=\"14\" lengthAdjust=\"spacing\" textLength=\"28\" x=\"49\" y=\"504.9639\">b: B</text><line style=\"stroke:#181818;stroke-width:0.5;\" x1=\"46.5\" x2=\"87.5\" y1=\"513.2656\" y2=\"513.2656\"/></g></a><!--MD5=[270fce915f116d4de14055a7c1d9a0f3]\n",
       "class E5--><a href=\"psysml:af047218-2074-4cd5-be73-a9bc4fd53c73\" target=\"_top\" title=\"psysml:af047218-2074-4cd5-be73-a9bc4fd53c73\" xlink:actuate=\"onRequest\" xlink:href=\"psysml:af047218-2074-4cd5-be73-a9bc4fd53c73\" xlink:show=\"new\" xlink:title=\"psysml:af047218-2074-4cd5-be73-a9bc4fd53c73\" xlink:type=\"simple\"><g id=\"elem_E5\"><rect fill=\"#FFFFFF\" height=\"48.2656\" id=\"E5\" rx=\"10\" ry=\"10\" style=\"stroke:#181818;stroke-width:0.5;\" width=\"42\" x=\"146\" y=\"365\"/><text fill=\"#000000\" font-family=\"sans-serif\" font-size=\"12\" font-style=\"italic\" lengthAdjust=\"spacing\" textLength=\"40\" x=\"147\" y=\"381.1387\">«part»</text><text fill=\"#000000\" font-family=\"sans-serif\" font-size=\"14\" lengthAdjust=\"spacing\" textLength=\"27\" x=\"149.5\" y=\"396.9639\">c: C</text><line style=\"stroke:#181818;stroke-width:0.5;\" x1=\"147\" x2=\"187\" y1=\"405.2656\" y2=\"405.2656\"/></g></a><!--MD5=[60a26617385b1d2d0262a64233df1f8d]\n",
       "class E6--><a href=\"psysml:24ac0b44-19f7-4e7e-9d8c-29217623109a\" target=\"_top\" title=\"psysml:24ac0b44-19f7-4e7e-9d8c-29217623109a\" xlink:actuate=\"onRequest\" xlink:href=\"psysml:24ac0b44-19f7-4e7e-9d8c-29217623109a\" xlink:show=\"new\" xlink:title=\"psysml:24ac0b44-19f7-4e7e-9d8c-29217623109a\" xlink:type=\"simple\"><g id=\"elem_E6\"><rect fill=\"#FFFFFF\" height=\"48.2656\" id=\"E6\" style=\"stroke:#181818;stroke-width:0.5;\" width=\"71\" x=\"122.5\" y=\"581\"/><text fill=\"#000000\" font-family=\"sans-serif\" font-size=\"12\" font-style=\"italic\" lengthAdjust=\"spacing\" textLength=\"69\" x=\"123.5\" y=\"597.1387\">«item  def»</text><text fill=\"#000000\" font-family=\"sans-serif\" font-size=\"14\" font-style=\"italic\" lengthAdjust=\"spacing\" textLength=\"10\" x=\"153\" y=\"612.9639\">B</text><line style=\"stroke:#181818;stroke-width:0.5;\" x1=\"123.5\" x2=\"192.5\" y1=\"621.2656\" y2=\"621.2656\"/></g></a><!--MD5=[2156ba9850f5573cc1fc38a6a4b2f02b]\n",
       "class E7--><a href=\"psysml:f97762a5-be4a-40f0-b15f-ded6f9a0a2bf\" target=\"_top\" title=\"psysml:f97762a5-be4a-40f0-b15f-ded6f9a0a2bf\" xlink:actuate=\"onRequest\" xlink:href=\"psysml:f97762a5-be4a-40f0-b15f-ded6f9a0a2bf\" xlink:show=\"new\" xlink:title=\"psysml:f97762a5-be4a-40f0-b15f-ded6f9a0a2bf\" xlink:type=\"simple\"><g id=\"elem_E7\"><rect fill=\"#FFFFFF\" height=\"48.2656\" id=\"E7\" rx=\"10\" ry=\"10\" style=\"stroke:#181818;stroke-width:0.5;\" width=\"42\" x=\"169\" y=\"689\"/><text fill=\"#000000\" font-family=\"sans-serif\" font-size=\"12\" font-style=\"italic\" lengthAdjust=\"spacing\" textLength=\"40\" x=\"170\" y=\"705.1387\">«part»</text><text fill=\"#000000\" font-family=\"sans-serif\" font-size=\"14\" font-style=\"italic\" lengthAdjust=\"spacing\" textLength=\"8\" x=\"173\" y=\"720.9639\">a</text><text fill=\"#000000\" font-family=\"sans-serif\" font-size=\"14\" lengthAdjust=\"spacing\" textLength=\"18\" x=\"181\" y=\"720.9639\">: A</text><line style=\"stroke:#181818;stroke-width:0.5;\" x1=\"170\" x2=\"210\" y1=\"729.2656\" y2=\"729.2656\"/></g></a><!--MD5=[b9389687b975829384b498ac4b7476b2]\n",
       "class E8--><a href=\"psysml:2119f9fa-e703-4679-adcc-c9e3fda7136e\" target=\"_top\" title=\"psysml:2119f9fa-e703-4679-adcc-c9e3fda7136e\" xlink:actuate=\"onRequest\" xlink:href=\"psysml:2119f9fa-e703-4679-adcc-c9e3fda7136e\" xlink:show=\"new\" xlink:title=\"psysml:2119f9fa-e703-4679-adcc-c9e3fda7136e\" xlink:type=\"simple\"><g id=\"elem_E8\"><rect fill=\"#FFFFFF\" height=\"48.2656\" id=\"E8\" style=\"stroke:#181818;stroke-width:0.5;\" width=\"70\" x=\"124\" y=\"473\"/><text fill=\"#000000\" font-family=\"sans-serif\" font-size=\"12\" font-style=\"italic\" lengthAdjust=\"spacing\" textLength=\"68\" x=\"125\" y=\"489.1387\">«part  def»</text><text fill=\"#000000\" font-family=\"sans-serif\" font-size=\"14\" lengthAdjust=\"spacing\" textLength=\"10\" x=\"154\" y=\"504.9639\">C</text><line style=\"stroke:#181818;stroke-width:0.5;\" x1=\"125\" x2=\"193\" y1=\"513.2656\" y2=\"513.2656\"/></g></a><!--MD5=[fd4143e9d270a159db93a4ea2a975926]\n",
       "class E9--><a href=\"psysml:f9be0f9f-7828-47af-b676-a3098923450b\" target=\"_top\" title=\"psysml:f9be0f9f-7828-47af-b676-a3098923450b\" xlink:actuate=\"onRequest\" xlink:href=\"psysml:f9be0f9f-7828-47af-b676-a3098923450b\" xlink:show=\"new\" xlink:title=\"psysml:f9be0f9f-7828-47af-b676-a3098923450b\" xlink:type=\"simple\"><g id=\"elem_E9\"><rect fill=\"#FFFFFF\" height=\"48.2656\" id=\"E9\" style=\"stroke:#181818;stroke-width:0.5;\" width=\"70\" x=\"69\" y=\"41\"/><text fill=\"#000000\" font-family=\"sans-serif\" font-size=\"12\" font-style=\"italic\" lengthAdjust=\"spacing\" textLength=\"68\" x=\"70\" y=\"57.1387\">«port  def»</text><text fill=\"#000000\" font-family=\"sans-serif\" font-size=\"14\" lengthAdjust=\"spacing\" textLength=\"9\" x=\"99.5\" y=\"72.9639\">P</text><line style=\"stroke:#181818;stroke-width:0.5;\" x1=\"70\" x2=\"138\" y1=\"81.2656\" y2=\"81.2656\"/></g></a><!--MD5=[96f4274e9e20536e775497830990834d]\n",
       "class E10--><a href=\"psysml:bdd21edf-ffb1-47e0-8301-b129ba721304\" target=\"_top\" title=\"psysml:bdd21edf-ffb1-47e0-8301-b129ba721304\" xlink:actuate=\"onRequest\" xlink:href=\"psysml:bdd21edf-ffb1-47e0-8301-b129ba721304\" xlink:show=\"new\" xlink:title=\"psysml:bdd21edf-ffb1-47e0-8301-b129ba721304\" xlink:type=\"simple\"><g id=\"elem_E10\"><rect fill=\"#FFFFFF\" height=\"48.2656\" id=\"E10\" rx=\"10\" ry=\"10\" style=\"stroke:#181818;stroke-width:0.5;\" width=\"49\" x=\"116.5\" y=\"149\"/><text fill=\"#000000\" font-family=\"sans-serif\" font-size=\"12\" font-style=\"italic\" lengthAdjust=\"spacing\" textLength=\"41\" x=\"120.5\" y=\"165.1387\">«item»</text><text fill=\"#000000\" font-family=\"sans-serif\" font-size=\"14\" lengthAdjust=\"spacing\" textLength=\"35\" x=\"119.5\" y=\"180.9639\">a1: A</text><line style=\"stroke:#181818;stroke-width:0.5;\" x1=\"117.5\" x2=\"164.5\" y1=\"189.2656\" y2=\"189.2656\"/></g></a><!--MD5=[1dd1bfd58a279cf63c5f349dbc8fc6a1]\n",
       "class E11--><a href=\"psysml:ea86bb80-7fc3-4478-bdc0-15728142c0fa\" target=\"_top\" title=\"psysml:ea86bb80-7fc3-4478-bdc0-15728142c0fa\" xlink:actuate=\"onRequest\" xlink:href=\"psysml:ea86bb80-7fc3-4478-bdc0-15728142c0fa\" xlink:show=\"new\" xlink:title=\"psysml:ea86bb80-7fc3-4478-bdc0-15728142c0fa\" xlink:type=\"simple\"><g id=\"elem_E11\"><rect fill=\"#FFFFFF\" height=\"48.2656\" id=\"E11\" rx=\"10\" ry=\"10\" style=\"stroke:#181818;stroke-width:0.5;\" width=\"49\" x=\"32.5\" y=\"149\"/><text fill=\"#000000\" font-family=\"sans-serif\" font-size=\"12\" font-style=\"italic\" lengthAdjust=\"spacing\" textLength=\"41\" x=\"36.5\" y=\"165.1387\">«item»</text><text fill=\"#000000\" font-family=\"sans-serif\" font-size=\"14\" lengthAdjust=\"spacing\" textLength=\"35\" x=\"35.5\" y=\"180.9639\">a2: A</text><line style=\"stroke:#181818;stroke-width:0.5;\" x1=\"33.5\" x2=\"80.5\" y1=\"189.2656\" y2=\"189.2656\"/></g></a><!--MD5=[2720a5a1f2c3fca2055b230370638851]\n",
       "link E2 to E3--><g id=\"link_E2_E3\"><a href=\"psysml:358bd963-d6cf-4c51-9d97-dc29b520688f\" target=\"_top\" title=\"psysml:358bd963-d6cf-4c51-9d97-dc29b520688f\" xlink:actuate=\"onRequest\" xlink:href=\"psysml:358bd963-d6cf-4c51-9d97-dc29b520688f\" xlink:show=\"new\" xlink:title=\"psysml:358bd963-d6cf-4c51-9d97-dc29b520688f\" xlink:type=\"simple\"><path d=\"M207.5,197.21 C207.5,226.8 207.5,273 207.5,273 C207.5,273 196.59,273 196.59,273 \" fill=\"none\" id=\"E2-to-E3\" style=\"stroke:#181818;stroke-width:1.0;\"/><polygon fill=\"#FFFFFF\" points=\"176.59,273,195.59,266,195.59,280,176.59,273\" style=\"stroke:#181818;stroke-width:1.0;\"/><ellipse cx=\"201.29\" cy=\"268\" fill=\"#181818\" rx=\"2\" ry=\"2\" style=\"stroke:#181818;stroke-width:1.0;\"/><ellipse cx=\"201.29\" cy=\"278\" fill=\"#181818\" rx=\"2\" ry=\"2\" style=\"stroke:#181818;stroke-width:1.0;\"/></a></g><!--MD5=[4672eba38e49728da53d11aeb285b987]\n",
       "reverse link E3 to E4--><g id=\"link_E3_E4\"><a href=\"psysml:724ffe94-cfbf-4ea2-b315-6baf1a587f0c\" target=\"_top\" title=\"psysml:724ffe94-cfbf-4ea2-b315-6baf1a587f0c\" xlink:actuate=\"onRequest\" xlink:href=\"psysml:724ffe94-cfbf-4ea2-b315-6baf1a587f0c\" xlink:show=\"new\" xlink:title=\"psysml:724ffe94-cfbf-4ea2-b315-6baf1a587f0c\" xlink:type=\"simple\"><path d=\"M92.22,281 C92.22,281 85,281 85,281 C85,281 85,416.15 85,472.64 \" fill=\"none\" id=\"E3-backto-E4\" style=\"stroke:#181818;stroke-width:1.0;\"/><polygon fill=\"#181818\" points=\"105.22,281,99.22,277,93.22,281,99.22,285,105.22,281\" style=\"stroke:#181818;stroke-width:1.0;\"/></a></g><!--MD5=[191cde3d490a3f6d7bb551fe3ddca469]\n",
       "reverse link E3 to E5--><g id=\"link_E3_E5\"><a href=\"psysml:9c72d63b-be6b-487b-af19-53b3ed2c634b\" target=\"_top\" title=\"psysml:9c72d63b-be6b-487b-af19-53b3ed2c634b\" xlink:actuate=\"onRequest\" xlink:href=\"psysml:9c72d63b-be6b-487b-af19-53b3ed2c634b\" xlink:show=\"new\" xlink:title=\"psysml:9c72d63b-be6b-487b-af19-53b3ed2c634b\" xlink:type=\"simple\"><path d=\"M161.25,318.24 C161.25,318.24 161.25,364.84 161.25,364.84 \" fill=\"none\" id=\"E3-backto-E5\" style=\"stroke:#181818;stroke-width:1.0;\"/><polygon fill=\"none\" points=\"161.25,305.24,157.25,311.24,161.25,317.24,165.25,311.24,161.25,305.24\" style=\"stroke:#181818;stroke-width:1.0;\"/></a></g><!--MD5=[79568f1e445c3877b6a54524624ccc7d]\n",
       "link E4 to E6--><g id=\"link_E4_E6\"><a href=\"psysml:c1d845e5-90b4-4786-9172-2f85f48f902a\" target=\"_top\" title=\"psysml:c1d845e5-90b4-4786-9172-2f85f48f902a\" xlink:actuate=\"onRequest\" xlink:href=\"psysml:c1d845e5-90b4-4786-9172-2f85f48f902a\" xlink:show=\"new\" xlink:title=\"psysml:c1d845e5-90b4-4786-9172-2f85f48f902a\" xlink:type=\"simple\"><path d=\"M67,521.24 C67,553.08 67,605 67,605 C67,605 102.3,605 102.3,605 \" fill=\"none\" id=\"E4-to-E6\" style=\"stroke:#181818;stroke-width:1.0;\"/><polygon fill=\"#FFFFFF\" points=\"122.3,605,103.3,612,103.3,598,122.3,605\" style=\"stroke:#181818;stroke-width:1.0;\"/><ellipse cx=\"97.6\" cy=\"610\" fill=\"#181818\" rx=\"2\" ry=\"2\" style=\"stroke:#181818;stroke-width:1.0;\"/><ellipse cx=\"97.6\" cy=\"600\" fill=\"#181818\" rx=\"2\" ry=\"2\" style=\"stroke:#181818;stroke-width:1.0;\"/></a></g><!--MD5=[3f50a3473f1dfb74d3f76443e03635af]\n",
       "reverse link E6 to E7--><g id=\"link_E6_E7\"><a href=\"psysml:ee76f7ce-c996-4988-9b1a-5ac16ad8d066\" target=\"_top\" title=\"psysml:ee76f7ce-c996-4988-9b1a-5ac16ad8d066\" xlink:actuate=\"onRequest\" xlink:href=\"psysml:ee76f7ce-c996-4988-9b1a-5ac16ad8d066\" xlink:show=\"new\" xlink:title=\"psysml:ee76f7ce-c996-4988-9b1a-5ac16ad8d066\" xlink:type=\"simple\"><path d=\"M181.25,642.24 C181.25,642.24 181.25,688.84 181.25,688.84 \" fill=\"none\" id=\"E6-backto-E7\" style=\"stroke:#181818;stroke-width:1.0;\"/><polygon fill=\"#181818\" points=\"181.25,629.24,177.25,635.24,181.25,641.24,185.25,635.24,181.25,629.24\" style=\"stroke:#181818;stroke-width:1.0;\"/></a></g><!--MD5=[14ccda38c055a5c0da953d572bc50960]\n",
       "link E7 to E3--><g id=\"link_E7_E3\"><a href=\"psysml:1cb41c8a-3888-4a6d-b592-33957295a7ee\" target=\"_top\" title=\"psysml:1cb41c8a-3888-4a6d-b592-33957295a7ee\" xlink:actuate=\"onRequest\" xlink:href=\"psysml:1cb41c8a-3888-4a6d-b592-33957295a7ee\" xlink:show=\"new\" xlink:title=\"psysml:1cb41c8a-3888-4a6d-b592-33957295a7ee\" xlink:type=\"simple\"><path d=\"M204,688.99 C204,599.29 204,289 204,289 C204,289 196.55,289 196.55,289 \" fill=\"none\" id=\"E7-to-E3\" style=\"stroke:#181818;stroke-width:1.0;\"/><polygon fill=\"#FFFFFF\" points=\"176.55,289,195.55,282,195.55,296,176.55,289\" style=\"stroke:#181818;stroke-width:1.0;\"/><ellipse cx=\"201.25\" cy=\"284\" fill=\"#181818\" rx=\"2\" ry=\"2\" style=\"stroke:#181818;stroke-width:1.0;\"/><ellipse cx=\"201.25\" cy=\"294\" fill=\"#181818\" rx=\"2\" ry=\"2\" style=\"stroke:#181818;stroke-width:1.0;\"/></a></g><!--MD5=[dfaffb906826c3e5aca635516100ff21]\n",
       "link E5 to E8--><g id=\"link_E5_E8\"><a href=\"psysml:b2862137-6a73-49a4-ad0f-48652eafb24c\" target=\"_top\" title=\"psysml:b2862137-6a73-49a4-ad0f-48652eafb24c\" xlink:actuate=\"onRequest\" xlink:href=\"psysml:b2862137-6a73-49a4-ad0f-48652eafb24c\" xlink:show=\"new\" xlink:title=\"psysml:b2862137-6a73-49a4-ad0f-48652eafb24c\" xlink:type=\"simple\"><path d=\"M167,413.24 C167,413.24 167,452.84 167,452.84 \" fill=\"none\" id=\"E5-to-E8\" style=\"stroke:#181818;stroke-width:1.0;\"/><polygon fill=\"#FFFFFF\" points=\"167,472.84,160,453.84,174,453.84,167,472.84\" style=\"stroke:#181818;stroke-width:1.0;\"/><ellipse cx=\"162\" cy=\"448.14\" fill=\"#181818\" rx=\"2\" ry=\"2\" style=\"stroke:#181818;stroke-width:1.0;\"/><ellipse cx=\"172\" cy=\"448.14\" fill=\"#181818\" rx=\"2\" ry=\"2\" style=\"stroke:#181818;stroke-width:1.0;\"/></a></g><!--MD5=[03c8294790d3c57651a1993cecff665f]\n",
       "reverse link E8 to E3--><g id=\"link_E8_E3\"><a href=\"psysml:764dcc5f-c791-44bd-8fe4-0cc6162433fb\" target=\"_top\" title=\"psysml:764dcc5f-c791-44bd-8fe4-0cc6162433fb\" xlink:actuate=\"onRequest\" xlink:href=\"psysml:764dcc5f-c791-44bd-8fe4-0cc6162433fb\" xlink:show=\"new\" xlink:title=\"psysml:764dcc5f-c791-44bd-8fe4-0cc6162433fb\" xlink:type=\"simple\"><path d=\"M135,459.64 C135,459.64 135,305.27 135,305.27 \" fill=\"none\" id=\"E8-backto-E3\" style=\"stroke:#181818;stroke-width:1.0;\"/><polygon fill=\"none\" points=\"135,472.64,139,466.64,135,460.64,131,466.64,135,472.64\" style=\"stroke:#181818;stroke-width:1.0;\"/><text fill=\"#000000\" font-family=\"sans-serif\" font-size=\"13\" lengthAdjust=\"spacing\" textLength=\"7\" x=\"127\" y=\"378.5269\">y</text></a></g><!--MD5=[0d75d2178373a6a4568e5dc728f58aef]\n",
       "reverse link E8 to E6--><g id=\"link_E8_E6\"><a href=\"psysml:764dcc5f-c791-44bd-8fe4-0cc6162433fb\" target=\"_top\" title=\"psysml:764dcc5f-c791-44bd-8fe4-0cc6162433fb\" xlink:actuate=\"onRequest\" xlink:href=\"psysml:764dcc5f-c791-44bd-8fe4-0cc6162433fb\" xlink:show=\"new\" xlink:title=\"psysml:764dcc5f-c791-44bd-8fe4-0cc6162433fb\" xlink:type=\"simple\"><path d=\"M158.75,534.24 C158.75,534.24 158.75,580.84 158.75,580.84 \" fill=\"none\" id=\"E8-backto-E6\" style=\"stroke:#181818;stroke-width:1.0;\"/><polygon fill=\"none\" points=\"158.75,521.24,154.75,527.24,158.75,533.24,162.75,527.24,158.75,521.24\" style=\"stroke:#181818;stroke-width:1.0;\"/><text fill=\"#000000\" font-family=\"sans-serif\" font-size=\"13\" lengthAdjust=\"spacing\" textLength=\"7\" x=\"150.75\" y=\"553.6069\">y</text></a></g><!--MD5=[23ac544a70576c3e717098101004234c]\n",
       "reverse link E9 to E10--><g id=\"link_E9_E10\"><a href=\"psysml:1f369bef-866d-4201-85d0-19625ffb0bd4\" target=\"_top\" title=\"psysml:1f369bef-866d-4201-85d0-19625ffb0bd4\" xlink:actuate=\"onRequest\" xlink:href=\"psysml:1f369bef-866d-4201-85d0-19625ffb0bd4\" xlink:show=\"new\" xlink:title=\"psysml:1f369bef-866d-4201-85d0-19625ffb0bd4\" xlink:type=\"simple\"><path d=\"M127.75,102.24 C127.75,102.24 127.75,148.84 127.75,148.84 \" fill=\"none\" id=\"E9-backto-E10\" style=\"stroke:#181818;stroke-width:1.0;\"/><polygon fill=\"none\" points=\"127.75,89.24,123.75,95.24,127.75,101.24,131.75,95.24,127.75,89.24\" style=\"stroke:#181818;stroke-width:1.0;\"/></a></g><!--MD5=[feeac5eb423634930294aa81f2d25a4c]\n",
       "link E10 to E3--><g id=\"link_E10_E3\"><a href=\"psysml:0dc69dec-387f-4606-9efc-6b8567a081cf\" target=\"_top\" title=\"psysml:0dc69dec-387f-4606-9efc-6b8567a081cf\" xlink:actuate=\"onRequest\" xlink:href=\"psysml:0dc69dec-387f-4606-9efc-6b8567a081cf\" xlink:show=\"new\" xlink:title=\"psysml:0dc69dec-387f-4606-9efc-6b8567a081cf\" xlink:type=\"simple\"><path d=\"M141,197.24 C141,197.24 141,236.84 141,236.84 \" fill=\"none\" id=\"E10-to-E3\" style=\"stroke:#181818;stroke-width:1.0;\"/><polygon fill=\"#FFFFFF\" points=\"141,256.84,134,237.84,148,237.84,141,256.84\" style=\"stroke:#181818;stroke-width:1.0;\"/><ellipse cx=\"136\" cy=\"232.14\" fill=\"#181818\" rx=\"2\" ry=\"2\" style=\"stroke:#181818;stroke-width:1.0;\"/><ellipse cx=\"146\" cy=\"232.14\" fill=\"#181818\" rx=\"2\" ry=\"2\" style=\"stroke:#181818;stroke-width:1.0;\"/></a></g><!--MD5=[1fc04a95fd77ad5ce46c1a3027516051]\n",
       "reverse link E9 to E11--><g id=\"link_E9_E11\"><a href=\"psysml:41147f3b-680c-4b19-9ea9-1ad0d7284d0b\" target=\"_top\" title=\"psysml:41147f3b-680c-4b19-9ea9-1ad0d7284d0b\" xlink:actuate=\"onRequest\" xlink:href=\"psysml:41147f3b-680c-4b19-9ea9-1ad0d7284d0b\" xlink:show=\"new\" xlink:title=\"psysml:41147f3b-680c-4b19-9ea9-1ad0d7284d0b\" xlink:type=\"simple\"><path d=\"M75.25,102.24 C75.25,102.24 75.25,148.84 75.25,148.84 \" fill=\"none\" id=\"E9-backto-E11\" style=\"stroke:#181818;stroke-width:1.0;\"/><polygon fill=\"none\" points=\"75.25,89.24,71.25,95.24,75.25,101.24,79.25,95.24,75.25,89.24\" style=\"stroke:#181818;stroke-width:1.0;\"/></a></g><!--MD5=[0517f1ce58c4d5483948f93845c45e26]\n",
       "link E11 to E3--><g id=\"link_E11_E3\"><a href=\"psysml:86cba12c-5c0b-4cb2-8a0f-652783ee7e3b\" target=\"_top\" title=\"psysml:86cba12c-5c0b-4cb2-8a0f-652783ee7e3b\" xlink:actuate=\"onRequest\" xlink:href=\"psysml:86cba12c-5c0b-4cb2-8a0f-652783ee7e3b\" xlink:show=\"new\" xlink:title=\"psysml:86cba12c-5c0b-4cb2-8a0f-652783ee7e3b\" xlink:type=\"simple\"><path d=\"M81.79,173 C95.98,173 111,173 111,173 C111,173 111,236.76 111,236.76 \" fill=\"none\" id=\"E11-to-E3\" style=\"stroke:#181818;stroke-width:1.0;\"/><polygon fill=\"#FFFFFF\" points=\"111,256.76,104,237.76,118,237.76,111,256.76\" style=\"stroke:#181818;stroke-width:1.0;\"/><ellipse cx=\"106\" cy=\"232.06\" fill=\"#181818\" rx=\"2\" ry=\"2\" style=\"stroke:#181818;stroke-width:1.0;\"/><ellipse cx=\"116\" cy=\"232.06\" fill=\"#181818\" rx=\"2\" ry=\"2\" style=\"stroke:#181818;stroke-width:1.0;\"/></a></g><!--MD5=[76e12543804041616012f718a55c9a04]\n",
       "@startuml\r\n",
       "skin sysmlbw\r\n",
       "skinparam monochrome true\r\n",
       "skinparam wrapWidth 300\r\n",
       "hide circle\r\n",
       "skinparam linetype ortho\r\n",
       "\r\n",
       "package \"ItemTest\" as E1  [[psysml:b50080a1-e82f-4c80-9a3f-5d66ab4e7e23 ]]  {\r\n",
       "comp usage \"f: A  \" as E2  <<(T,blue) item>> [[psysml:4d36820e-7c5e-46bd-9de5-e346cea54837 ]] {\r\n",
       "}\r\n",
       "comp def \"A\" as E3  <<(T,blue) item  def>> [[psysml:90a9c46f-1bc9-4470-bf4e-8ae555dfcfc9 ]] {\r\n",
       "}\r\n",
       "comp usage \"b: B  \" as E4  <<(T,blue) item>> [[psysml:d394e1d7-ba50-4340-ad50-ece704d14a42 ]] {\r\n",
       "}\r\n",
       "comp usage \"c: C  \" as E5  <<(T,blue) part>> [[psysml:af047218-2074-4cd5-be73-a9bc4fd53c73 ]] {\r\n",
       "}\r\n",
       "comp def \"<i>B</i>\" as E6  <<(T,blue) item  def>> [[psysml:24ac0b44-19f7-4e7e-9d8c-29217623109a ]] {\r\n",
       "}\r\n",
       "comp usage \"<i>a</i>: A  \" as E7  <<(T,blue) part>> [[psysml:f97762a5-be4a-40f0-b15f-ded6f9a0a2bf ]] {\r\n",
       "}\r\n",
       "comp def \"C\" as E8  <<(T,blue) part  def>> [[psysml:2119f9fa-e703-4679-adcc-c9e3fda7136e ]] {\r\n",
       "}\r\n",
       "comp def \"P\" as E9  <<(T,blue) port  def>> [[psysml:f9be0f9f-7828-47af-b676-a3098923450b ]] {\r\n",
       "}\r\n",
       "comp usage \"a1: A  \" as E10  <<(T,blue) item>> [[psysml:bdd21edf-ffb1-47e0-8301-b129ba721304 ]] {\r\n",
       "}\r\n",
       "comp usage \"a2: A  \" as E11  <<(T,blue) item>> [[psysml:ea86bb80-7fc3-4478-bdc0-15728142c0fa ]] {\r\n",
       "}\r\n",
       "}\r\n",
       "E2 - -:|> E3 [[psysml:358bd963-d6cf-4c51-9d97-dc29b520688f ]] \r\n",
       "E3 *- - E4 [[psysml:724ffe94-cfbf-4ea2-b315-6baf1a587f0c ]] \r\n",
       "E3 o- - E5 [[psysml:9c72d63b-be6b-487b-af19-53b3ed2c634b ]] \r\n",
       "E4 - -:|> E6 [[psysml:c1d845e5-90b4-4786-9172-2f85f48f902a ]] \r\n",
       "E6 *- - E7 [[psysml:ee76f7ce-c996-4988-9b1a-5ac16ad8d066 ]] \r\n",
       "E7 - -:|> E3 [[psysml:1cb41c8a-3888-4a6d-b592-33957295a7ee ]] \r\n",
       "E5 - -:|> E8 [[psysml:b2862137-6a73-49a4-ad0f-48652eafb24c ]] \r\n",
       "E8 o- - E3 [[psysml:764dcc5f-c791-44bd-8fe4-0cc6162433fb ]] : y\r\n",
       "E8 o- - E6 [[psysml:764dcc5f-c791-44bd-8fe4-0cc6162433fb ]] : y\r\n",
       "E9 o- - E10 [[psysml:1f369bef-866d-4201-85d0-19625ffb0bd4 ]] \r\n",
       "E10 - -:|> E3 [[psysml:0dc69dec-387f-4606-9efc-6b8567a081cf ]] \r\n",
       "E9 o- - E11 [[psysml:41147f3b-680c-4b19-9ea9-1ad0d7284d0b ]] \r\n",
       "E11 - -:|> E3 [[psysml:86cba12c-5c0b-4cb2-8a0f-652783ee7e3b ]] \r\n",
       "@enduml\r\n",
       "\n",
       "PlantUML version 1.2022.7(Mon Aug 22 17:01:30 UTC 2022)\n",
       "(EPL source distribution)\n",
       "Java Runtime: OpenJDK Runtime Environment\n",
       "JVM: OpenJDK 64-Bit Server VM\n",
       "Default Encoding: UTF-8\n",
       "Language: en\n",
       "Country: null\n",
       "--></g></svg>"
      ]
     },
     "execution_count": 57,
     "metadata": {},
     "output_type": "execute_result"
    }
   ],
   "source": [
    "%viz --style=\"ORTHOLINE\" --view=\"MIXED\" \"ItemTest\""
   ]
  }
 ],
 "metadata": {
  "kernelspec": {
   "display_name": "SysML",
   "language": "sysml",
   "name": "sysml"
  },
  "language_info": {
   "codemirror_mode": "sysml",
   "file_extension": ".sysml",
   "mimetype": "text/x-sysml",
   "name": "SysML",
   "pygments_lexer": "java",
   "version": "1.0.0"
  }
 },
 "nbformat": 4,
 "nbformat_minor": 5
}
