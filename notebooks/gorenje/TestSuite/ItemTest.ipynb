{
 "cells": [
  {
   "cell_type": "markdown",
   "id": "bf98349a",
   "metadata": {},
   "source": [
    "# SysML v2 Test Suite\n",
    "\n",
    "This can notebook can be cleared using menu `Edit --> Clear All Outputs` and then all cells can be\n",
    "run using menu `Run --> Run All Cells`.\n",
    "\n",
    "**WARNING**: This file is generated, all modifications here will be ignored.\n"
   ]
  },
  {
   "cell_type": "markdown",
   "id": "e1241d4f",
   "metadata": {},
   "source": [
    "## File: ../../sysml/src/examples/Simple Tests/ItemTest.sysml"
   ]
  },
  {
   "cell_type": "code",
   "execution_count": 1,
   "id": "26c2125d",
   "metadata": {
    "execution": {
     "iopub.execute_input": "2024-12-16T14:15:14.675293Z",
     "iopub.status.busy": "2024-12-16T14:15:14.674261Z",
     "iopub.status.idle": "2024-12-16T14:15:14.938601Z",
     "shell.execute_reply": "2024-12-16T14:15:14.938367Z"
    }
   },
   "outputs": [
    {
     "data": {
      "text/plain": [
       "Package ItemTest (cd87d2b7-4fa1-4c1b-a4f6-af691b0dec58)\n"
      ]
     },
     "execution_count": 1,
     "metadata": {},
     "output_type": "execute_result"
    }
   ],
   "source": [
    "package ItemTest {\n",
    "\t\n",
    "\titem f: A;\n",
    "\n",
    "\tpublic item def A {\n",
    "\t\titem b: B;\n",
    "\t\tprotected ref part c: C;\n",
    "\t}\n",
    "\t\n",
    "\tabstract item def B {\n",
    "\t\tpublic abstract part a: A;\n",
    "\t}\n",
    "\t\n",
    "\tprivate part def C {\n",
    "\t\tprivate in ref y: A, B;\n",
    "\t}\n",
    "\t\n",
    "\tport def P {\n",
    "\t\tin item a1: A;\n",
    "\t\tout item a2: A;\n",
    "\t}\n",
    "\t\n",
    "}"
   ]
  },
  {
   "cell_type": "code",
   "execution_count": 2,
   "id": "f70559f6",
   "metadata": {
    "execution": {
     "iopub.execute_input": "2024-12-16T14:15:14.995955Z",
     "iopub.status.busy": "2024-12-16T14:15:14.995739Z",
     "iopub.status.idle": "2024-12-16T14:15:15.424279Z",
     "shell.execute_reply": "2024-12-16T14:15:15.424108Z"
    }
   },
   "outputs": [
    {
     "data": {
      "image/svg+xml": [
       "<?xml version=\"1.0\" encoding=\"UTF-8\" standalone=\"no\"?><svg xmlns=\"http://www.w3.org/2000/svg\" xmlns:xlink=\"http://www.w3.org/1999/xlink\" contentStyleType=\"text/css\" height=\"829px\" preserveAspectRatio=\"none\" style=\"width:277px;height:829px;background:#FFFFFF;\" version=\"1.1\" viewBox=\"0 0 277 829\" width=\"277px\" zoomAndPan=\"magnify\"><defs/><g><!--MD5=[fbc87193dbaf4d95561dea2c320d4a47]\n",
       "cluster E1--><g id=\"cluster_E1\"><a href=\"psysml:cd87d2b7-4fa1-4c1b-a4f6-af691b0dec58\" target=\"_top\" title=\"psysml:cd87d2b7-4fa1-4c1b-a4f6-af691b0dec58\" xlink:actuate=\"onRequest\" xlink:href=\"psysml:cd87d2b7-4fa1-4c1b-a4f6-af691b0dec58\" xlink:show=\"new\" xlink:title=\"psysml:cd87d2b7-4fa1-4c1b-a4f6-af691b0dec58\" xlink:type=\"simple\"><polygon fill=\"none\" points=\"16,6,86.5,6,93.5,28.2969,260,28.2969,260,822,16,822,16,6\" style=\"stroke:#000000;stroke-width:1.5;\"/><line style=\"stroke:#000000;stroke-width:1.5;\" x1=\"16\" x2=\"93.5\" y1=\"28.2969\" y2=\"28.2969\"/><text fill=\"#000000\" font-family=\"sans-serif\" font-size=\"14\" font-weight=\"bold\" lengthAdjust=\"spacing\" textLength=\"64.5\" x=\"20\" y=\"20.9951\">ItemTest</text></a></g><!--MD5=[b4997ac47864f28c2f74865a473b2911]\n",
       "class E2--><a href=\"psysml:a6e7d788-746b-466d-b844-23a78300b1ae\" target=\"_top\" title=\"psysml:a6e7d788-746b-466d-b844-23a78300b1ae\" xlink:actuate=\"onRequest\" xlink:href=\"psysml:a6e7d788-746b-466d-b844-23a78300b1ae\" xlink:show=\"new\" xlink:title=\"psysml:a6e7d788-746b-466d-b844-23a78300b1ae\" xlink:type=\"simple\"><g id=\"elem_E2\"><rect fill=\"#FFFFFF\" height=\"48.2656\" id=\"E2\" rx=\"10\" ry=\"10\" style=\"stroke:#181818;stroke-width:0.5;\" width=\"43\" x=\"200.5\" y=\"150\"/><text fill=\"#000000\" font-family=\"sans-serif\" font-size=\"12\" font-style=\"italic\" lengthAdjust=\"spacing\" textLength=\"41\" x=\"201.5\" y=\"166.1387\">«item»</text><text fill=\"#000000\" font-family=\"sans-serif\" font-size=\"14\" lengthAdjust=\"spacing\" textLength=\"22\" x=\"207\" y=\"181.9639\">f: A</text><line style=\"stroke:#181818;stroke-width:0.5;\" x1=\"201.5\" x2=\"242.5\" y1=\"190.2656\" y2=\"190.2656\"/></g></a><!--MD5=[09b614a08d8cba4a07c9adeb5e0fee81]\n",
       "class E3--><a href=\"psysml:7645df02-ea24-41fb-927b-82e0988a44f2\" target=\"_top\" title=\"psysml:7645df02-ea24-41fb-927b-82e0988a44f2\" xlink:actuate=\"onRequest\" xlink:href=\"psysml:7645df02-ea24-41fb-927b-82e0988a44f2\" xlink:show=\"new\" xlink:title=\"psysml:7645df02-ea24-41fb-927b-82e0988a44f2\" xlink:type=\"simple\"><g id=\"elem_E3\"><rect fill=\"#FFFFFF\" height=\"48.2656\" id=\"E3\" style=\"stroke:#181818;stroke-width:0.5;\" width=\"71\" x=\"105.5\" y=\"259\"/><text fill=\"#000000\" font-family=\"sans-serif\" font-size=\"12\" font-style=\"italic\" lengthAdjust=\"spacing\" textLength=\"69\" x=\"106.5\" y=\"275.1387\">«item  def»</text><text fill=\"#000000\" font-family=\"sans-serif\" font-size=\"14\" lengthAdjust=\"spacing\" textLength=\"9\" x=\"136.5\" y=\"290.9639\">A</text><line style=\"stroke:#181818;stroke-width:0.5;\" x1=\"106.5\" x2=\"175.5\" y1=\"299.2656\" y2=\"299.2656\"/></g></a><!--MD5=[ebbe1d658d1005bcc118a6aa81145e00]\n",
       "class E4--><a href=\"psysml:426ed2e2-6591-4c8f-a505-52d546190911\" target=\"_top\" title=\"psysml:426ed2e2-6591-4c8f-a505-52d546190911\" xlink:actuate=\"onRequest\" xlink:href=\"psysml:426ed2e2-6591-4c8f-a505-52d546190911\" xlink:show=\"new\" xlink:title=\"psysml:426ed2e2-6591-4c8f-a505-52d546190911\" xlink:type=\"simple\"><g id=\"elem_E4\"><rect fill=\"#FFFFFF\" height=\"48.2656\" id=\"E4\" rx=\"10\" ry=\"10\" style=\"stroke:#181818;stroke-width:0.5;\" width=\"43\" x=\"48.5\" y=\"446\"/><text fill=\"#000000\" font-family=\"sans-serif\" font-size=\"12\" font-style=\"italic\" lengthAdjust=\"spacing\" textLength=\"41\" x=\"49.5\" y=\"462.1387\">«item»</text><text fill=\"#000000\" font-family=\"sans-serif\" font-size=\"14\" lengthAdjust=\"spacing\" textLength=\"28\" x=\"52\" y=\"477.9639\">b: B</text><line style=\"stroke:#181818;stroke-width:0.5;\" x1=\"49.5\" x2=\"90.5\" y1=\"486.2656\" y2=\"486.2656\"/></g></a><!--MD5=[270fce915f116d4de14055a7c1d9a0f3]\n",
       "class E5--><a href=\"psysml:331ec08e-03d4-4ef2-9768-da2cb6dfa326\" target=\"_top\" title=\"psysml:331ec08e-03d4-4ef2-9768-da2cb6dfa326\" xlink:actuate=\"onRequest\" xlink:href=\"psysml:331ec08e-03d4-4ef2-9768-da2cb6dfa326\" xlink:show=\"new\" xlink:title=\"psysml:331ec08e-03d4-4ef2-9768-da2cb6dfa326\" xlink:type=\"simple\"><g id=\"elem_E5\"><rect fill=\"#FFFFFF\" height=\"48.2656\" id=\"E5\" rx=\"10\" ry=\"10\" style=\"stroke:#181818;stroke-width:0.5;\" width=\"42\" x=\"157\" y=\"368\"/><text fill=\"#000000\" font-family=\"sans-serif\" font-size=\"12\" font-style=\"italic\" lengthAdjust=\"spacing\" textLength=\"40\" x=\"158\" y=\"384.1387\">«part»</text><text fill=\"#000000\" font-family=\"sans-serif\" font-size=\"14\" lengthAdjust=\"spacing\" textLength=\"27\" x=\"160.5\" y=\"399.9639\">c: C</text><line style=\"stroke:#181818;stroke-width:0.5;\" x1=\"158\" x2=\"198\" y1=\"408.2656\" y2=\"408.2656\"/></g></a><!--MD5=[60a26617385b1d2d0262a64233df1f8d]\n",
       "class E6--><a href=\"psysml:1c5a109b-6d3b-4425-b763-85184515822e\" target=\"_top\" title=\"psysml:1c5a109b-6d3b-4425-b763-85184515822e\" xlink:actuate=\"onRequest\" xlink:href=\"psysml:1c5a109b-6d3b-4425-b763-85184515822e\" xlink:show=\"new\" xlink:title=\"psysml:1c5a109b-6d3b-4425-b763-85184515822e\" xlink:type=\"simple\"><g id=\"elem_E6\"><rect fill=\"#FFFFFF\" height=\"48.2656\" id=\"E6\" style=\"stroke:#181818;stroke-width:0.5;\" width=\"71\" x=\"116.5\" y=\"649\"/><text fill=\"#000000\" font-family=\"sans-serif\" font-size=\"12\" font-style=\"italic\" lengthAdjust=\"spacing\" textLength=\"69\" x=\"117.5\" y=\"665.1387\">«item  def»</text><text fill=\"#000000\" font-family=\"sans-serif\" font-size=\"14\" font-style=\"italic\" lengthAdjust=\"spacing\" textLength=\"10\" x=\"147\" y=\"680.9639\">B</text><line style=\"stroke:#181818;stroke-width:0.5;\" x1=\"117.5\" x2=\"186.5\" y1=\"689.2656\" y2=\"689.2656\"/></g></a><!--MD5=[2156ba9850f5573cc1fc38a6a4b2f02b]\n",
       "class E7--><a href=\"psysml:3d3f18ff-1114-439a-91a9-78796a10458c\" target=\"_top\" title=\"psysml:3d3f18ff-1114-439a-91a9-78796a10458c\" xlink:actuate=\"onRequest\" xlink:href=\"psysml:3d3f18ff-1114-439a-91a9-78796a10458c\" xlink:show=\"new\" xlink:title=\"psysml:3d3f18ff-1114-439a-91a9-78796a10458c\" xlink:type=\"simple\"><g id=\"elem_E7\"><rect fill=\"#FFFFFF\" height=\"48.2656\" id=\"E7\" rx=\"10\" ry=\"10\" style=\"stroke:#181818;stroke-width:0.5;\" width=\"42\" x=\"167\" y=\"758\"/><text fill=\"#000000\" font-family=\"sans-serif\" font-size=\"12\" font-style=\"italic\" lengthAdjust=\"spacing\" textLength=\"40\" x=\"168\" y=\"774.1387\">«part»</text><text fill=\"#000000\" font-family=\"sans-serif\" font-size=\"14\" font-style=\"italic\" lengthAdjust=\"spacing\" textLength=\"8\" x=\"171\" y=\"789.9639\">a</text><text fill=\"#000000\" font-family=\"sans-serif\" font-size=\"14\" lengthAdjust=\"spacing\" textLength=\"18\" x=\"179\" y=\"789.9639\">: A</text><line style=\"stroke:#181818;stroke-width:0.5;\" x1=\"168\" x2=\"208\" y1=\"798.2656\" y2=\"798.2656\"/></g></a><!--MD5=[b9389687b975829384b498ac4b7476b2]\n",
       "class E8--><a href=\"psysml:1568c6af-b382-4c7f-b02a-0d87dd86c0f5\" target=\"_top\" title=\"psysml:1568c6af-b382-4c7f-b02a-0d87dd86c0f5\" xlink:actuate=\"onRequest\" xlink:href=\"psysml:1568c6af-b382-4c7f-b02a-0d87dd86c0f5\" xlink:show=\"new\" xlink:title=\"psysml:1568c6af-b382-4c7f-b02a-0d87dd86c0f5\" xlink:type=\"simple\"><g id=\"elem_E8\"><rect fill=\"#FFFFFF\" height=\"48.2656\" id=\"E8\" style=\"stroke:#181818;stroke-width:0.5;\" width=\"70\" x=\"117\" y=\"524\"/><text fill=\"#000000\" font-family=\"sans-serif\" font-size=\"12\" font-style=\"italic\" lengthAdjust=\"spacing\" textLength=\"68\" x=\"118\" y=\"540.1387\">«part  def»</text><text fill=\"#000000\" font-family=\"sans-serif\" font-size=\"14\" lengthAdjust=\"spacing\" textLength=\"10\" x=\"147\" y=\"555.9639\">C</text><line style=\"stroke:#181818;stroke-width:0.5;\" x1=\"118\" x2=\"186\" y1=\"564.2656\" y2=\"564.2656\"/></g></a><!--MD5=[fd4143e9d270a159db93a4ea2a975926]\n",
       "class E9--><a href=\"psysml:7b3481ba-f47b-4c12-87df-4d6f620e6d00\" target=\"_top\" title=\"psysml:7b3481ba-f47b-4c12-87df-4d6f620e6d00\" xlink:actuate=\"onRequest\" xlink:href=\"psysml:7b3481ba-f47b-4c12-87df-4d6f620e6d00\" xlink:show=\"new\" xlink:title=\"psysml:7b3481ba-f47b-4c12-87df-4d6f620e6d00\" xlink:type=\"simple\"><g id=\"elem_E9\"><rect fill=\"#FFFFFF\" height=\"48.2656\" id=\"E9\" style=\"stroke:#181818;stroke-width:0.5;\" width=\"70\" x=\"69\" y=\"41\"/><text fill=\"#000000\" font-family=\"sans-serif\" font-size=\"12\" font-style=\"italic\" lengthAdjust=\"spacing\" textLength=\"68\" x=\"70\" y=\"57.1387\">«port  def»</text><text fill=\"#000000\" font-family=\"sans-serif\" font-size=\"14\" lengthAdjust=\"spacing\" textLength=\"9\" x=\"99.5\" y=\"72.9639\">P</text><line style=\"stroke:#181818;stroke-width:0.5;\" x1=\"70\" x2=\"138\" y1=\"81.2656\" y2=\"81.2656\"/></g></a><!--MD5=[96f4274e9e20536e775497830990834d]\n",
       "class E10--><a href=\"psysml:116f794f-fd18-4d42-8d94-9abf783d43f0\" target=\"_top\" title=\"psysml:116f794f-fd18-4d42-8d94-9abf783d43f0\" xlink:actuate=\"onRequest\" xlink:href=\"psysml:116f794f-fd18-4d42-8d94-9abf783d43f0\" xlink:show=\"new\" xlink:title=\"psysml:116f794f-fd18-4d42-8d94-9abf783d43f0\" xlink:type=\"simple\"><g id=\"elem_E10\"><rect fill=\"#FFFFFF\" height=\"48.2656\" id=\"E10\" rx=\"10\" ry=\"10\" style=\"stroke:#181818;stroke-width:0.5;\" width=\"49\" x=\"32.5\" y=\"150\"/><text fill=\"#000000\" font-family=\"sans-serif\" font-size=\"12\" font-style=\"italic\" lengthAdjust=\"spacing\" textLength=\"41\" x=\"36.5\" y=\"166.1387\">«item»</text><text fill=\"#000000\" font-family=\"sans-serif\" font-size=\"14\" lengthAdjust=\"spacing\" textLength=\"35\" x=\"35.5\" y=\"181.9639\">a1: A</text><line style=\"stroke:#181818;stroke-width:0.5;\" x1=\"33.5\" x2=\"80.5\" y1=\"190.2656\" y2=\"190.2656\"/></g></a><!--MD5=[1dd1bfd58a279cf63c5f349dbc8fc6a1]\n",
       "class E11--><a href=\"psysml:16572df6-eec3-489a-80d1-3b65de425cbd\" target=\"_top\" title=\"psysml:16572df6-eec3-489a-80d1-3b65de425cbd\" xlink:actuate=\"onRequest\" xlink:href=\"psysml:16572df6-eec3-489a-80d1-3b65de425cbd\" xlink:show=\"new\" xlink:title=\"psysml:16572df6-eec3-489a-80d1-3b65de425cbd\" xlink:type=\"simple\"><g id=\"elem_E11\"><rect fill=\"#FFFFFF\" height=\"48.2656\" id=\"E11\" rx=\"10\" ry=\"10\" style=\"stroke:#181818;stroke-width:0.5;\" width=\"49\" x=\"116.5\" y=\"150\"/><text fill=\"#000000\" font-family=\"sans-serif\" font-size=\"12\" font-style=\"italic\" lengthAdjust=\"spacing\" textLength=\"41\" x=\"120.5\" y=\"166.1387\">«item»</text><text fill=\"#000000\" font-family=\"sans-serif\" font-size=\"14\" lengthAdjust=\"spacing\" textLength=\"35\" x=\"119.5\" y=\"181.9639\">a2: A</text><line style=\"stroke:#181818;stroke-width:0.5;\" x1=\"117.5\" x2=\"164.5\" y1=\"190.2656\" y2=\"190.2656\"/></g></a><!--MD5=[2720a5a1f2c3fca2055b230370638851]\n",
       "link E2 to E3--><g id=\"link_E2_E3\"><a href=\"psysml:70c9c3cf-ded5-4fad-940c-650d810049d2\" target=\"_top\" title=\"psysml:70c9c3cf-ded5-4fad-940c-650d810049d2\" xlink:actuate=\"onRequest\" xlink:href=\"psysml:70c9c3cf-ded5-4fad-940c-650d810049d2\" xlink:show=\"new\" xlink:title=\"psysml:70c9c3cf-ded5-4fad-940c-650d810049d2\" xlink:type=\"simple\"><path d=\"M204.42,198.22 C194.55,211.26 181.97,227.88 170.62,242.87 \" fill=\"none\" id=\"E2-to-E3\" style=\"stroke:#181818;stroke-width:1.0;\"/><polygon fill=\"#FFFFFF\" points=\"158.54,258.83,164.4286,239.4567,175.5901,247.9078,158.54,258.83\" style=\"stroke:#181818;stroke-width:1.0;\"/><ellipse cx=\"169.4639\" cy=\"236.1197\" fill=\"#181818\" rx=\"2\" ry=\"2\" style=\"stroke:#181818;stroke-width:1.0;\"/><ellipse cx=\"177.4364\" cy=\"242.1562\" fill=\"#181818\" rx=\"2\" ry=\"2\" style=\"stroke:#181818;stroke-width:1.0;\"/></a></g><!--MD5=[4672eba38e49728da53d11aeb285b987]\n",
       "reverse link E3 to E4--><g id=\"link_E3_E4\"><a href=\"psysml:1e28e0ed-b5c0-4fac-98b2-855fbe266c1f\" target=\"_top\" title=\"psysml:1e28e0ed-b5c0-4fac-98b2-855fbe266c1f\" xlink:actuate=\"onRequest\" xlink:href=\"psysml:1e28e0ed-b5c0-4fac-98b2-855fbe266c1f\" xlink:show=\"new\" xlink:title=\"psysml:1e28e0ed-b5c0-4fac-98b2-855fbe266c1f\" xlink:type=\"simple\"><path d=\"M104.38,316.32 C90.85,330.64 77.09,348.62 70,368 C60.72,393.36 62.6,424.76 65.58,445.75 \" fill=\"none\" id=\"E3-backto-E4\" style=\"stroke:#181818;stroke-width:1.0;\"/><polygon fill=\"#181818\" points=\"113.62,307.02,106.5522,308.4507,105.1545,315.525,112.2223,314.0943,113.62,307.02\" style=\"stroke:#181818;stroke-width:1.0;\"/></a></g><!--MD5=[191cde3d490a3f6d7bb551fe3ddca469]\n",
       "reverse link E3 to E5--><g id=\"link_E3_E5\"><a href=\"psysml:b5974af5-b28c-458b-89e4-95d46de68236\" target=\"_top\" title=\"psysml:b5974af5-b28c-458b-89e4-95d46de68236\" xlink:actuate=\"onRequest\" xlink:href=\"psysml:b5974af5-b28c-458b-89e4-95d46de68236\" xlink:show=\"new\" xlink:title=\"psysml:b5974af5-b28c-458b-89e4-95d46de68236\" xlink:type=\"simple\"><path d=\"M153.39,319.83 C158.86,335.66 165.14,353.82 169.99,367.83 \" fill=\"none\" id=\"E3-backto-E5\" style=\"stroke:#181818;stroke-width:1.0;\"/><polygon fill=\"none\" points=\"149.03,307.22,147.2077,314.1971,152.9472,318.5627,154.7695,311.5856,149.03,307.22\" style=\"stroke:#181818;stroke-width:1.0;\"/></a></g><!--MD5=[79568f1e445c3877b6a54524624ccc7d]\n",
       "link E4 to E6--><g id=\"link_E4_E6\"><a href=\"psysml:83940360-bfcd-4ab6-95b9-9006ad1a30a4\" target=\"_top\" title=\"psysml:83940360-bfcd-4ab6-95b9-9006ad1a30a4\" xlink:actuate=\"onRequest\" xlink:href=\"psysml:83940360-bfcd-4ab6-95b9-9006ad1a30a4\" xlink:show=\"new\" xlink:title=\"psysml:83940360-bfcd-4ab6-95b9-9006ad1a30a4\" xlink:type=\"simple\"><path d=\"M75.57,494.29 C80.84,515.04 89.51,546.05 100,572 C108.08,591.98 118.83,613.29 128.46,631.07 \" fill=\"none\" id=\"E4-to-E6\" style=\"stroke:#181818;stroke-width:1.0;\"/><polygon fill=\"#FFFFFF\" points=\"138.29,648.76,122.9437,635.5505,135.1819,628.7515,138.29,648.76\" style=\"stroke:#181818;stroke-width:1.0;\"/><ellipse cx=\"121.9238\" cy=\"629.5965\" fill=\"#181818\" rx=\"2\" ry=\"2\" style=\"stroke:#181818;stroke-width:1.0;\"/><ellipse cx=\"130.6654\" cy=\"624.7401\" fill=\"#181818\" rx=\"2\" ry=\"2\" style=\"stroke:#181818;stroke-width:1.0;\"/></a></g><!--MD5=[3f50a3473f1dfb74d3f76443e03635af]\n",
       "reverse link E6 to E7--><g id=\"link_E6_E7\"><a href=\"psysml:c7c30ff0-7abe-445a-9147-4c620b104f3e\" target=\"_top\" title=\"psysml:c7c30ff0-7abe-445a-9147-4c620b104f3e\" xlink:actuate=\"onRequest\" xlink:href=\"psysml:c7c30ff0-7abe-445a-9147-4c620b104f3e\" xlink:show=\"new\" xlink:title=\"psysml:c7c30ff0-7abe-445a-9147-4c620b104f3e\" xlink:type=\"simple\"><path d=\"M164.05,709.83 C169.38,725.66 175.49,743.82 180.2,757.83 \" fill=\"none\" id=\"E6-backto-E7\" style=\"stroke:#181818;stroke-width:1.0;\"/><polygon fill=\"#181818\" points=\"159.81,697.22,157.9296,704.1816,163.6324,708.5949,165.5128,701.6333,159.81,697.22\" style=\"stroke:#181818;stroke-width:1.0;\"/></a></g><!--MD5=[14ccda38c055a5c0da953d572bc50960]\n",
       "link E7 to E3--><g id=\"link_E7_E3\"><a href=\"psysml:4a79bdb3-77e8-4e9c-befa-ce9a0c7716db\" target=\"_top\" title=\"psysml:4a79bdb3-77e8-4e9c-befa-ce9a0c7716db\" xlink:actuate=\"onRequest\" xlink:href=\"psysml:4a79bdb3-77e8-4e9c-befa-ce9a0c7716db\" xlink:show=\"new\" xlink:title=\"psysml:4a79bdb3-77e8-4e9c-befa-ce9a0c7716db\" xlink:type=\"simple\"><path d=\"M204.97,757.64 C218.43,736.78 235,704.84 235,674 C235,391 235,391 235,391 C235,361.35 214.38,336.01 192.46,317.43 \" fill=\"none\" id=\"E7-to-E3\" style=\"stroke:#181818;stroke-width:1.0;\"/><polygon fill=\"#FFFFFF\" points=\"176.54,305.14,195.8578,311.2081,187.3035,322.2907,176.54,305.14\" style=\"stroke:#181818;stroke-width:1.0;\"/><ellipse cx=\"199.148\" cy=\"316.2741\" fill=\"#181818\" rx=\"2\" ry=\"2\" style=\"stroke:#181818;stroke-width:1.0;\"/><ellipse cx=\"193.0378\" cy=\"324.1903\" fill=\"#181818\" rx=\"2\" ry=\"2\" style=\"stroke:#181818;stroke-width:1.0;\"/></a></g><!--MD5=[dfaffb906826c3e5aca635516100ff21]\n",
       "link E5 to E8--><g id=\"link_E5_E8\"><a href=\"psysml:d776694e-c79b-404c-b561-ae1c1a2e3f3d\" target=\"_top\" title=\"psysml:d776694e-c79b-404c-b561-ae1c1a2e3f3d\" xlink:actuate=\"onRequest\" xlink:href=\"psysml:d776694e-c79b-404c-b561-ae1c1a2e3f3d\" xlink:show=\"new\" xlink:title=\"psysml:d776694e-c79b-404c-b561-ae1c1a2e3f3d\" xlink:type=\"simple\"><path d=\"M174.11,416.06 C170.2,439.19 164.09,475.38 159.28,503.86 \" fill=\"none\" id=\"E5-to-E8\" style=\"stroke:#181818;stroke-width:1.0;\"/><polygon fill=\"#FFFFFF\" points=\"155.92,523.79,152.1809,503.8898,165.9855,506.2206,155.92,523.79\" style=\"stroke:#181818;stroke-width:1.0;\"/><ellipse cx=\"155.1019\" cy=\"498.6023\" fill=\"#181818\" rx=\"2\" ry=\"2\" style=\"stroke:#181818;stroke-width:1.0;\"/><ellipse cx=\"164.9624\" cy=\"500.2671\" fill=\"#181818\" rx=\"2\" ry=\"2\" style=\"stroke:#181818;stroke-width:1.0;\"/></a></g><!--MD5=[03c8294790d3c57651a1993cecff665f]\n",
       "reverse link E8 to E3--><g id=\"link_E8_E3\"><a href=\"psysml:c4551329-8b56-4fd0-9fbf-f2d280f6b39b\" target=\"_top\" title=\"psysml:c4551329-8b56-4fd0-9fbf-f2d280f6b39b\" xlink:actuate=\"onRequest\" xlink:href=\"psysml:c4551329-8b56-4fd0-9fbf-f2d280f6b39b\" xlink:show=\"new\" xlink:title=\"psysml:c4551329-8b56-4fd0-9fbf-f2d280f6b39b\" xlink:type=\"simple\"><path d=\"M144.62,510.88 C139.66,484.68 133.57,448.31 131,416 C129.31,394.73 129.74,389.3 131,368 C132.23,347.33 135.14,323.95 137.5,307.11 \" fill=\"none\" id=\"E8-backto-E3\" style=\"stroke:#181818;stroke-width:1.0;\"/><polygon fill=\"none\" points=\"147.16,523.94,149.9387,517.2857,144.865,512.1615,142.0863,518.8158,147.16,523.94\" style=\"stroke:#181818;stroke-width:1.0;\"/><text fill=\"#000000\" font-family=\"sans-serif\" font-size=\"13\" lengthAdjust=\"spacing\" textLength=\"7\" x=\"132\" y=\"396.5669\">y</text></a></g><!--MD5=[0d75d2178373a6a4568e5dc728f58aef]\n",
       "reverse link E8 to E6--><g id=\"link_E8_E6\"><a href=\"psysml:c4551329-8b56-4fd0-9fbf-f2d280f6b39b\" target=\"_top\" title=\"psysml:c4551329-8b56-4fd0-9fbf-f2d280f6b39b\" xlink:actuate=\"onRequest\" xlink:href=\"psysml:c4551329-8b56-4fd0-9fbf-f2d280f6b39b\" xlink:show=\"new\" xlink:title=\"psysml:c4551329-8b56-4fd0-9fbf-f2d280f6b39b\" xlink:type=\"simple\"><path d=\"M152,585.21 C152,605.83 152,631.04 152,648.97 \" fill=\"none\" id=\"E8-backto-E6\" style=\"stroke:#181818;stroke-width:1.0;\"/><polygon fill=\"none\" points=\"152,572.14,148,578.14,152,584.14,156,578.14,152,572.14\" style=\"stroke:#181818;stroke-width:1.0;\"/><text fill=\"#000000\" font-family=\"sans-serif\" font-size=\"13\" lengthAdjust=\"spacing\" textLength=\"7\" x=\"153\" y=\"615.0669\">y</text></a></g><!--MD5=[23ac544a70576c3e717098101004234c]\n",
       "reverse link E9 to E10--><g id=\"link_E9_E10\"><a href=\"psysml:5a5abb4f-4a57-47f4-8d13-1f5dca85ed3b\" target=\"_top\" title=\"psysml:5a5abb4f-4a57-47f4-8d13-1f5dca85ed3b\" xlink:actuate=\"onRequest\" xlink:href=\"psysml:5a5abb4f-4a57-47f4-8d13-1f5dca85ed3b\" xlink:show=\"new\" xlink:title=\"psysml:5a5abb4f-4a57-47f4-8d13-1f5dca85ed3b\" xlink:type=\"simple\"><path d=\"M88.47,101.35 C81.47,117.29 73.39,135.68 67.18,149.83 \" fill=\"none\" id=\"E9-backto-E10\" style=\"stroke:#181818;stroke-width:1.0;\"/><polygon fill=\"none\" points=\"93.8,89.22,87.7243,93.1041,88.9729,100.2063,95.0485,96.3222,93.8,89.22\" style=\"stroke:#181818;stroke-width:1.0;\"/></a></g><!--MD5=[feeac5eb423634930294aa81f2d25a4c]\n",
       "link E10 to E3--><g id=\"link_E10_E3\"><a href=\"psysml:d7f66802-941a-4496-884a-36d82493c03e\" target=\"_top\" title=\"psysml:d7f66802-941a-4496-884a-36d82493c03e\" xlink:actuate=\"onRequest\" xlink:href=\"psysml:d7f66802-941a-4496-884a-36d82493c03e\" xlink:show=\"new\" xlink:title=\"psysml:d7f66802-941a-4496-884a-36d82493c03e\" xlink:type=\"simple\"><path d=\"M75.23,198.22 C85.46,211.26 98.51,227.88 110.28,242.87 \" fill=\"none\" id=\"E10-to-E3\" style=\"stroke:#181818;stroke-width:1.0;\"/><polygon fill=\"#FFFFFF\" points=\"122.81,258.83,105.5676,248.214,116.5764,239.565,122.81,258.83\" style=\"stroke:#181818;stroke-width:1.0;\"/><ellipse cx=\"103.6189\" cy=\"242.4963\" fill=\"#181818\" rx=\"2\" ry=\"2\" style=\"stroke:#181818;stroke-width:1.0;\"/><ellipse cx=\"111.4823\" cy=\"236.3184\" fill=\"#181818\" rx=\"2\" ry=\"2\" style=\"stroke:#181818;stroke-width:1.0;\"/></a></g><!--MD5=[1fc04a95fd77ad5ce46c1a3027516051]\n",
       "reverse link E9 to E11--><g id=\"link_E9_E11\"><a href=\"psysml:8187499b-9a51-4939-bbf5-c8a0ee670e5b\" target=\"_top\" title=\"psysml:8187499b-9a51-4939-bbf5-c8a0ee670e5b\" xlink:actuate=\"onRequest\" xlink:href=\"psysml:8187499b-9a51-4939-bbf5-c8a0ee670e5b\" xlink:show=\"new\" xlink:title=\"psysml:8187499b-9a51-4939-bbf5-c8a0ee670e5b\" xlink:type=\"simple\"><path d=\"M116.39,101.83 C121.86,117.66 128.14,135.82 132.99,149.83 \" fill=\"none\" id=\"E9-backto-E11\" style=\"stroke:#181818;stroke-width:1.0;\"/><polygon fill=\"none\" points=\"112.03,89.22,110.2077,96.1971,115.9472,100.5627,117.7695,93.5856,112.03,89.22\" style=\"stroke:#181818;stroke-width:1.0;\"/></a></g><!--MD5=[0517f1ce58c4d5483948f93845c45e26]\n",
       "link E11 to E3--><g id=\"link_E11_E3\"><a href=\"psysml:ca7307c2-0235-4c1e-8766-bbb66b330e4f\" target=\"_top\" title=\"psysml:ca7307c2-0235-4c1e-8766-bbb66b330e4f\" xlink:actuate=\"onRequest\" xlink:href=\"psysml:ca7307c2-0235-4c1e-8766-bbb66b330e4f\" xlink:show=\"new\" xlink:title=\"psysml:ca7307c2-0235-4c1e-8766-bbb66b330e4f\" xlink:type=\"simple\"><path d=\"M141,198.22 C141,210 141,224.69 141,238.48 \" fill=\"none\" id=\"E11-to-E3\" style=\"stroke:#181818;stroke-width:1.0;\"/><polygon fill=\"#FFFFFF\" points=\"141,258.83,134,239.83,148,239.83,141,258.83\" style=\"stroke:#181818;stroke-width:1.0;\"/><ellipse cx=\"136\" cy=\"234.13\" fill=\"#181818\" rx=\"2\" ry=\"2\" style=\"stroke:#181818;stroke-width:1.0;\"/><ellipse cx=\"146\" cy=\"234.13\" fill=\"#181818\" rx=\"2\" ry=\"2\" style=\"stroke:#181818;stroke-width:1.0;\"/></a></g><!--MD5=[ce1f4d11a0bbf6d928efee3d783e9c5e]\n",
       "@startuml\r\n",
       "skin sysmlbw\r\n",
       "skinparam monochrome true\r\n",
       "skinparam wrapWidth 300\r\n",
       "hide circle\r\n",
       " \r\n",
       "package \"ItemTest\" as E1  [[psysml:cd87d2b7-4fa1-4c1b-a4f6-af691b0dec58 ]]  {\r\n",
       "comp usage \"f: A  \" as E2  <<(T,blue) item>> [[psysml:a6e7d788-746b-466d-b844-23a78300b1ae ]] {\r\n",
       "}\r\n",
       "comp def \"A\" as E3  <<(T,blue) item  def>> [[psysml:7645df02-ea24-41fb-927b-82e0988a44f2 ]] {\r\n",
       "}\r\n",
       "comp usage \"b: B  \" as E4  <<(T,blue) item>> [[psysml:426ed2e2-6591-4c8f-a505-52d546190911 ]] {\r\n",
       "}\r\n",
       "comp usage \"c: C  \" as E5  <<(T,blue) part>> [[psysml:331ec08e-03d4-4ef2-9768-da2cb6dfa326 ]] {\r\n",
       "}\r\n",
       "comp def \"<i>B</i>\" as E6  <<(T,blue) item  def>> [[psysml:1c5a109b-6d3b-4425-b763-85184515822e ]] {\r\n",
       "}\r\n",
       "comp usage \"<i>a</i>: A  \" as E7  <<(T,blue) part>> [[psysml:3d3f18ff-1114-439a-91a9-78796a10458c ]] {\r\n",
       "}\r\n",
       "comp def \"C\" as E8  <<(T,blue) part  def>> [[psysml:1568c6af-b382-4c7f-b02a-0d87dd86c0f5 ]] {\r\n",
       "}\r\n",
       "comp def \"P\" as E9  <<(T,blue) port  def>> [[psysml:7b3481ba-f47b-4c12-87df-4d6f620e6d00 ]] {\r\n",
       "}\r\n",
       "comp usage \"a1: A  \" as E10  <<(T,blue) item>> [[psysml:116f794f-fd18-4d42-8d94-9abf783d43f0 ]] {\r\n",
       "}\r\n",
       "comp usage \"a2: A  \" as E11  <<(T,blue) item>> [[psysml:16572df6-eec3-489a-80d1-3b65de425cbd ]] {\r\n",
       "}\r\n",
       "}\r\n",
       "E2 - -:|> E3 [[psysml:70c9c3cf-ded5-4fad-940c-650d810049d2 ]] \r\n",
       "E3 *- - E4 [[psysml:1e28e0ed-b5c0-4fac-98b2-855fbe266c1f ]] \r\n",
       "E3 o- - E5 [[psysml:b5974af5-b28c-458b-89e4-95d46de68236 ]] \r\n",
       "E4 - -:|> E6 [[psysml:83940360-bfcd-4ab6-95b9-9006ad1a30a4 ]] \r\n",
       "E6 *- - E7 [[psysml:c7c30ff0-7abe-445a-9147-4c620b104f3e ]] \r\n",
       "E7 - -:|> E3 [[psysml:4a79bdb3-77e8-4e9c-befa-ce9a0c7716db ]] \r\n",
       "E5 - -:|> E8 [[psysml:d776694e-c79b-404c-b561-ae1c1a2e3f3d ]] \r\n",
       "E8 o- - E3 [[psysml:c4551329-8b56-4fd0-9fbf-f2d280f6b39b ]] : y\r\n",
       "E8 o- - E6 [[psysml:c4551329-8b56-4fd0-9fbf-f2d280f6b39b ]] : y\r\n",
       "E9 o- - E10 [[psysml:5a5abb4f-4a57-47f4-8d13-1f5dca85ed3b ]] \r\n",
       "E10 - -:|> E3 [[psysml:d7f66802-941a-4496-884a-36d82493c03e ]] \r\n",
       "E9 o- - E11 [[psysml:8187499b-9a51-4939-bbf5-c8a0ee670e5b ]] \r\n",
       "E11 - -:|> E3 [[psysml:ca7307c2-0235-4c1e-8766-bbb66b330e4f ]] \r\n",
       "@enduml\r\n",
       "\n",
       "PlantUML version 1.2022.7(Mon Aug 22 17:01:30 UTC 2022)\n",
       "(EPL source distribution)\n",
       "Java Runtime: OpenJDK Runtime Environment\n",
       "JVM: OpenJDK 64-Bit Server VM\n",
       "Default Encoding: UTF-8\n",
       "Language: en\n",
       "Country: null\n",
       "--></g></svg>"
      ]
     },
     "execution_count": 2,
     "metadata": {},
     "output_type": "execute_result"
    }
   ],
   "source": [
    "%viz --style=\"COMPTREE\" --view=\"Default\" \"ItemTest\""
   ]
  },
  {
   "cell_type": "code",
   "execution_count": 3,
   "id": "14c4aa29",
   "metadata": {
    "execution": {
     "iopub.execute_input": "2024-12-16T14:15:15.477132Z",
     "iopub.status.busy": "2024-12-16T14:15:15.476878Z",
     "iopub.status.idle": "2024-12-16T14:15:15.528020Z",
     "shell.execute_reply": "2024-12-16T14:15:15.527840Z"
    }
   },
   "outputs": [
    {
     "data": {
      "image/svg+xml": [
       "<?xml version=\"1.0\" encoding=\"UTF-8\" standalone=\"no\"?><svg xmlns=\"http://www.w3.org/2000/svg\" xmlns:xlink=\"http://www.w3.org/1999/xlink\" contentStyleType=\"text/css\" height=\"829px\" preserveAspectRatio=\"none\" style=\"width:277px;height:829px;background:#FFFFFF;\" version=\"1.1\" viewBox=\"0 0 277 829\" width=\"277px\" zoomAndPan=\"magnify\"><defs/><g><!--MD5=[fbc87193dbaf4d95561dea2c320d4a47]\n",
       "cluster E1--><g id=\"cluster_E1\"><a href=\"psysml:cd87d2b7-4fa1-4c1b-a4f6-af691b0dec58\" target=\"_top\" title=\"psysml:cd87d2b7-4fa1-4c1b-a4f6-af691b0dec58\" xlink:actuate=\"onRequest\" xlink:href=\"psysml:cd87d2b7-4fa1-4c1b-a4f6-af691b0dec58\" xlink:show=\"new\" xlink:title=\"psysml:cd87d2b7-4fa1-4c1b-a4f6-af691b0dec58\" xlink:type=\"simple\"><polygon fill=\"none\" points=\"16,6,86.5,6,93.5,28.2969,260,28.2969,260,822,16,822,16,6\" style=\"stroke:#000000;stroke-width:1.5;\"/><line style=\"stroke:#000000;stroke-width:1.5;\" x1=\"16\" x2=\"93.5\" y1=\"28.2969\" y2=\"28.2969\"/><text fill=\"#000000\" font-family=\"sans-serif\" font-size=\"14\" font-weight=\"bold\" lengthAdjust=\"spacing\" textLength=\"64.5\" x=\"20\" y=\"20.9951\">ItemTest</text></a></g><!--MD5=[b4997ac47864f28c2f74865a473b2911]\n",
       "class E2--><a href=\"psysml:a6e7d788-746b-466d-b844-23a78300b1ae\" target=\"_top\" title=\"psysml:a6e7d788-746b-466d-b844-23a78300b1ae\" xlink:actuate=\"onRequest\" xlink:href=\"psysml:a6e7d788-746b-466d-b844-23a78300b1ae\" xlink:show=\"new\" xlink:title=\"psysml:a6e7d788-746b-466d-b844-23a78300b1ae\" xlink:type=\"simple\"><g id=\"elem_E2\"><rect fill=\"#FFFFFF\" height=\"48.2656\" id=\"E2\" rx=\"10\" ry=\"10\" style=\"stroke:#181818;stroke-width:0.5;\" width=\"43\" x=\"200.5\" y=\"150\"/><text fill=\"#000000\" font-family=\"sans-serif\" font-size=\"12\" font-style=\"italic\" lengthAdjust=\"spacing\" textLength=\"41\" x=\"201.5\" y=\"166.1387\">«item»</text><text fill=\"#000000\" font-family=\"sans-serif\" font-size=\"14\" lengthAdjust=\"spacing\" textLength=\"22\" x=\"207\" y=\"181.9639\">f: A</text><line style=\"stroke:#181818;stroke-width:0.5;\" x1=\"201.5\" x2=\"242.5\" y1=\"190.2656\" y2=\"190.2656\"/></g></a><!--MD5=[09b614a08d8cba4a07c9adeb5e0fee81]\n",
       "class E3--><a href=\"psysml:7645df02-ea24-41fb-927b-82e0988a44f2\" target=\"_top\" title=\"psysml:7645df02-ea24-41fb-927b-82e0988a44f2\" xlink:actuate=\"onRequest\" xlink:href=\"psysml:7645df02-ea24-41fb-927b-82e0988a44f2\" xlink:show=\"new\" xlink:title=\"psysml:7645df02-ea24-41fb-927b-82e0988a44f2\" xlink:type=\"simple\"><g id=\"elem_E3\"><rect fill=\"#FFFFFF\" height=\"48.2656\" id=\"E3\" style=\"stroke:#181818;stroke-width:0.5;\" width=\"71\" x=\"105.5\" y=\"259\"/><text fill=\"#000000\" font-family=\"sans-serif\" font-size=\"12\" font-style=\"italic\" lengthAdjust=\"spacing\" textLength=\"69\" x=\"106.5\" y=\"275.1387\">«item  def»</text><text fill=\"#000000\" font-family=\"sans-serif\" font-size=\"14\" lengthAdjust=\"spacing\" textLength=\"9\" x=\"136.5\" y=\"290.9639\">A</text><line style=\"stroke:#181818;stroke-width:0.5;\" x1=\"106.5\" x2=\"175.5\" y1=\"299.2656\" y2=\"299.2656\"/></g></a><!--MD5=[ebbe1d658d1005bcc118a6aa81145e00]\n",
       "class E4--><a href=\"psysml:426ed2e2-6591-4c8f-a505-52d546190911\" target=\"_top\" title=\"psysml:426ed2e2-6591-4c8f-a505-52d546190911\" xlink:actuate=\"onRequest\" xlink:href=\"psysml:426ed2e2-6591-4c8f-a505-52d546190911\" xlink:show=\"new\" xlink:title=\"psysml:426ed2e2-6591-4c8f-a505-52d546190911\" xlink:type=\"simple\"><g id=\"elem_E4\"><rect fill=\"#FFFFFF\" height=\"48.2656\" id=\"E4\" rx=\"10\" ry=\"10\" style=\"stroke:#181818;stroke-width:0.5;\" width=\"43\" x=\"48.5\" y=\"446\"/><text fill=\"#000000\" font-family=\"sans-serif\" font-size=\"12\" font-style=\"italic\" lengthAdjust=\"spacing\" textLength=\"41\" x=\"49.5\" y=\"462.1387\">«item»</text><text fill=\"#000000\" font-family=\"sans-serif\" font-size=\"14\" lengthAdjust=\"spacing\" textLength=\"28\" x=\"52\" y=\"477.9639\">b: B</text><line style=\"stroke:#181818;stroke-width:0.5;\" x1=\"49.5\" x2=\"90.5\" y1=\"486.2656\" y2=\"486.2656\"/></g></a><!--MD5=[270fce915f116d4de14055a7c1d9a0f3]\n",
       "class E5--><a href=\"psysml:331ec08e-03d4-4ef2-9768-da2cb6dfa326\" target=\"_top\" title=\"psysml:331ec08e-03d4-4ef2-9768-da2cb6dfa326\" xlink:actuate=\"onRequest\" xlink:href=\"psysml:331ec08e-03d4-4ef2-9768-da2cb6dfa326\" xlink:show=\"new\" xlink:title=\"psysml:331ec08e-03d4-4ef2-9768-da2cb6dfa326\" xlink:type=\"simple\"><g id=\"elem_E5\"><rect fill=\"#FFFFFF\" height=\"48.2656\" id=\"E5\" rx=\"10\" ry=\"10\" style=\"stroke:#181818;stroke-width:0.5;\" width=\"42\" x=\"157\" y=\"368\"/><text fill=\"#000000\" font-family=\"sans-serif\" font-size=\"12\" font-style=\"italic\" lengthAdjust=\"spacing\" textLength=\"40\" x=\"158\" y=\"384.1387\">«part»</text><text fill=\"#000000\" font-family=\"sans-serif\" font-size=\"14\" lengthAdjust=\"spacing\" textLength=\"27\" x=\"160.5\" y=\"399.9639\">c: C</text><line style=\"stroke:#181818;stroke-width:0.5;\" x1=\"158\" x2=\"198\" y1=\"408.2656\" y2=\"408.2656\"/></g></a><!--MD5=[60a26617385b1d2d0262a64233df1f8d]\n",
       "class E6--><a href=\"psysml:1c5a109b-6d3b-4425-b763-85184515822e\" target=\"_top\" title=\"psysml:1c5a109b-6d3b-4425-b763-85184515822e\" xlink:actuate=\"onRequest\" xlink:href=\"psysml:1c5a109b-6d3b-4425-b763-85184515822e\" xlink:show=\"new\" xlink:title=\"psysml:1c5a109b-6d3b-4425-b763-85184515822e\" xlink:type=\"simple\"><g id=\"elem_E6\"><rect fill=\"#FFFFFF\" height=\"48.2656\" id=\"E6\" style=\"stroke:#181818;stroke-width:0.5;\" width=\"71\" x=\"116.5\" y=\"649\"/><text fill=\"#000000\" font-family=\"sans-serif\" font-size=\"12\" font-style=\"italic\" lengthAdjust=\"spacing\" textLength=\"69\" x=\"117.5\" y=\"665.1387\">«item  def»</text><text fill=\"#000000\" font-family=\"sans-serif\" font-size=\"14\" font-style=\"italic\" lengthAdjust=\"spacing\" textLength=\"10\" x=\"147\" y=\"680.9639\">B</text><line style=\"stroke:#181818;stroke-width:0.5;\" x1=\"117.5\" x2=\"186.5\" y1=\"689.2656\" y2=\"689.2656\"/></g></a><!--MD5=[2156ba9850f5573cc1fc38a6a4b2f02b]\n",
       "class E7--><a href=\"psysml:3d3f18ff-1114-439a-91a9-78796a10458c\" target=\"_top\" title=\"psysml:3d3f18ff-1114-439a-91a9-78796a10458c\" xlink:actuate=\"onRequest\" xlink:href=\"psysml:3d3f18ff-1114-439a-91a9-78796a10458c\" xlink:show=\"new\" xlink:title=\"psysml:3d3f18ff-1114-439a-91a9-78796a10458c\" xlink:type=\"simple\"><g id=\"elem_E7\"><rect fill=\"#FFFFFF\" height=\"48.2656\" id=\"E7\" rx=\"10\" ry=\"10\" style=\"stroke:#181818;stroke-width:0.5;\" width=\"42\" x=\"167\" y=\"758\"/><text fill=\"#000000\" font-family=\"sans-serif\" font-size=\"12\" font-style=\"italic\" lengthAdjust=\"spacing\" textLength=\"40\" x=\"168\" y=\"774.1387\">«part»</text><text fill=\"#000000\" font-family=\"sans-serif\" font-size=\"14\" font-style=\"italic\" lengthAdjust=\"spacing\" textLength=\"8\" x=\"171\" y=\"789.9639\">a</text><text fill=\"#000000\" font-family=\"sans-serif\" font-size=\"14\" lengthAdjust=\"spacing\" textLength=\"18\" x=\"179\" y=\"789.9639\">: A</text><line style=\"stroke:#181818;stroke-width:0.5;\" x1=\"168\" x2=\"208\" y1=\"798.2656\" y2=\"798.2656\"/></g></a><!--MD5=[b9389687b975829384b498ac4b7476b2]\n",
       "class E8--><a href=\"psysml:1568c6af-b382-4c7f-b02a-0d87dd86c0f5\" target=\"_top\" title=\"psysml:1568c6af-b382-4c7f-b02a-0d87dd86c0f5\" xlink:actuate=\"onRequest\" xlink:href=\"psysml:1568c6af-b382-4c7f-b02a-0d87dd86c0f5\" xlink:show=\"new\" xlink:title=\"psysml:1568c6af-b382-4c7f-b02a-0d87dd86c0f5\" xlink:type=\"simple\"><g id=\"elem_E8\"><rect fill=\"#FFFFFF\" height=\"48.2656\" id=\"E8\" style=\"stroke:#181818;stroke-width:0.5;\" width=\"70\" x=\"117\" y=\"524\"/><text fill=\"#000000\" font-family=\"sans-serif\" font-size=\"12\" font-style=\"italic\" lengthAdjust=\"spacing\" textLength=\"68\" x=\"118\" y=\"540.1387\">«part  def»</text><text fill=\"#000000\" font-family=\"sans-serif\" font-size=\"14\" lengthAdjust=\"spacing\" textLength=\"10\" x=\"147\" y=\"555.9639\">C</text><line style=\"stroke:#181818;stroke-width:0.5;\" x1=\"118\" x2=\"186\" y1=\"564.2656\" y2=\"564.2656\"/></g></a><!--MD5=[fd4143e9d270a159db93a4ea2a975926]\n",
       "class E9--><a href=\"psysml:7b3481ba-f47b-4c12-87df-4d6f620e6d00\" target=\"_top\" title=\"psysml:7b3481ba-f47b-4c12-87df-4d6f620e6d00\" xlink:actuate=\"onRequest\" xlink:href=\"psysml:7b3481ba-f47b-4c12-87df-4d6f620e6d00\" xlink:show=\"new\" xlink:title=\"psysml:7b3481ba-f47b-4c12-87df-4d6f620e6d00\" xlink:type=\"simple\"><g id=\"elem_E9\"><rect fill=\"#FFFFFF\" height=\"48.2656\" id=\"E9\" style=\"stroke:#181818;stroke-width:0.5;\" width=\"70\" x=\"69\" y=\"41\"/><text fill=\"#000000\" font-family=\"sans-serif\" font-size=\"12\" font-style=\"italic\" lengthAdjust=\"spacing\" textLength=\"68\" x=\"70\" y=\"57.1387\">«port  def»</text><text fill=\"#000000\" font-family=\"sans-serif\" font-size=\"14\" lengthAdjust=\"spacing\" textLength=\"9\" x=\"99.5\" y=\"72.9639\">P</text><line style=\"stroke:#181818;stroke-width:0.5;\" x1=\"70\" x2=\"138\" y1=\"81.2656\" y2=\"81.2656\"/></g></a><!--MD5=[96f4274e9e20536e775497830990834d]\n",
       "class E10--><a href=\"psysml:116f794f-fd18-4d42-8d94-9abf783d43f0\" target=\"_top\" title=\"psysml:116f794f-fd18-4d42-8d94-9abf783d43f0\" xlink:actuate=\"onRequest\" xlink:href=\"psysml:116f794f-fd18-4d42-8d94-9abf783d43f0\" xlink:show=\"new\" xlink:title=\"psysml:116f794f-fd18-4d42-8d94-9abf783d43f0\" xlink:type=\"simple\"><g id=\"elem_E10\"><rect fill=\"#FFFFFF\" height=\"48.2656\" id=\"E10\" rx=\"10\" ry=\"10\" style=\"stroke:#181818;stroke-width:0.5;\" width=\"49\" x=\"32.5\" y=\"150\"/><text fill=\"#000000\" font-family=\"sans-serif\" font-size=\"12\" font-style=\"italic\" lengthAdjust=\"spacing\" textLength=\"41\" x=\"36.5\" y=\"166.1387\">«item»</text><text fill=\"#000000\" font-family=\"sans-serif\" font-size=\"14\" lengthAdjust=\"spacing\" textLength=\"35\" x=\"35.5\" y=\"181.9639\">a1: A</text><line style=\"stroke:#181818;stroke-width:0.5;\" x1=\"33.5\" x2=\"80.5\" y1=\"190.2656\" y2=\"190.2656\"/></g></a><!--MD5=[1dd1bfd58a279cf63c5f349dbc8fc6a1]\n",
       "class E11--><a href=\"psysml:16572df6-eec3-489a-80d1-3b65de425cbd\" target=\"_top\" title=\"psysml:16572df6-eec3-489a-80d1-3b65de425cbd\" xlink:actuate=\"onRequest\" xlink:href=\"psysml:16572df6-eec3-489a-80d1-3b65de425cbd\" xlink:show=\"new\" xlink:title=\"psysml:16572df6-eec3-489a-80d1-3b65de425cbd\" xlink:type=\"simple\"><g id=\"elem_E11\"><rect fill=\"#FFFFFF\" height=\"48.2656\" id=\"E11\" rx=\"10\" ry=\"10\" style=\"stroke:#181818;stroke-width:0.5;\" width=\"49\" x=\"116.5\" y=\"150\"/><text fill=\"#000000\" font-family=\"sans-serif\" font-size=\"12\" font-style=\"italic\" lengthAdjust=\"spacing\" textLength=\"41\" x=\"120.5\" y=\"166.1387\">«item»</text><text fill=\"#000000\" font-family=\"sans-serif\" font-size=\"14\" lengthAdjust=\"spacing\" textLength=\"35\" x=\"119.5\" y=\"181.9639\">a2: A</text><line style=\"stroke:#181818;stroke-width:0.5;\" x1=\"117.5\" x2=\"164.5\" y1=\"190.2656\" y2=\"190.2656\"/></g></a><!--MD5=[2720a5a1f2c3fca2055b230370638851]\n",
       "link E2 to E3--><g id=\"link_E2_E3\"><a href=\"psysml:70c9c3cf-ded5-4fad-940c-650d810049d2\" target=\"_top\" title=\"psysml:70c9c3cf-ded5-4fad-940c-650d810049d2\" xlink:actuate=\"onRequest\" xlink:href=\"psysml:70c9c3cf-ded5-4fad-940c-650d810049d2\" xlink:show=\"new\" xlink:title=\"psysml:70c9c3cf-ded5-4fad-940c-650d810049d2\" xlink:type=\"simple\"><path d=\"M204.42,198.22 C194.55,211.26 181.97,227.88 170.62,242.87 \" fill=\"none\" id=\"E2-to-E3\" style=\"stroke:#181818;stroke-width:1.0;\"/><polygon fill=\"#FFFFFF\" points=\"158.54,258.83,164.4286,239.4567,175.5901,247.9078,158.54,258.83\" style=\"stroke:#181818;stroke-width:1.0;\"/><ellipse cx=\"169.4639\" cy=\"236.1197\" fill=\"#181818\" rx=\"2\" ry=\"2\" style=\"stroke:#181818;stroke-width:1.0;\"/><ellipse cx=\"177.4364\" cy=\"242.1562\" fill=\"#181818\" rx=\"2\" ry=\"2\" style=\"stroke:#181818;stroke-width:1.0;\"/></a></g><!--MD5=[4672eba38e49728da53d11aeb285b987]\n",
       "reverse link E3 to E4--><g id=\"link_E3_E4\"><a href=\"psysml:1e28e0ed-b5c0-4fac-98b2-855fbe266c1f\" target=\"_top\" title=\"psysml:1e28e0ed-b5c0-4fac-98b2-855fbe266c1f\" xlink:actuate=\"onRequest\" xlink:href=\"psysml:1e28e0ed-b5c0-4fac-98b2-855fbe266c1f\" xlink:show=\"new\" xlink:title=\"psysml:1e28e0ed-b5c0-4fac-98b2-855fbe266c1f\" xlink:type=\"simple\"><path d=\"M104.38,316.32 C90.85,330.64 77.09,348.62 70,368 C60.72,393.36 62.6,424.76 65.58,445.75 \" fill=\"none\" id=\"E3-backto-E4\" style=\"stroke:#181818;stroke-width:1.0;\"/><polygon fill=\"#181818\" points=\"113.62,307.02,106.5522,308.4507,105.1545,315.525,112.2223,314.0943,113.62,307.02\" style=\"stroke:#181818;stroke-width:1.0;\"/></a></g><!--MD5=[191cde3d490a3f6d7bb551fe3ddca469]\n",
       "reverse link E3 to E5--><g id=\"link_E3_E5\"><a href=\"psysml:b5974af5-b28c-458b-89e4-95d46de68236\" target=\"_top\" title=\"psysml:b5974af5-b28c-458b-89e4-95d46de68236\" xlink:actuate=\"onRequest\" xlink:href=\"psysml:b5974af5-b28c-458b-89e4-95d46de68236\" xlink:show=\"new\" xlink:title=\"psysml:b5974af5-b28c-458b-89e4-95d46de68236\" xlink:type=\"simple\"><path d=\"M153.39,319.83 C158.86,335.66 165.14,353.82 169.99,367.83 \" fill=\"none\" id=\"E3-backto-E5\" style=\"stroke:#181818;stroke-width:1.0;\"/><polygon fill=\"none\" points=\"149.03,307.22,147.2077,314.1971,152.9472,318.5627,154.7695,311.5856,149.03,307.22\" style=\"stroke:#181818;stroke-width:1.0;\"/></a></g><!--MD5=[79568f1e445c3877b6a54524624ccc7d]\n",
       "link E4 to E6--><g id=\"link_E4_E6\"><a href=\"psysml:83940360-bfcd-4ab6-95b9-9006ad1a30a4\" target=\"_top\" title=\"psysml:83940360-bfcd-4ab6-95b9-9006ad1a30a4\" xlink:actuate=\"onRequest\" xlink:href=\"psysml:83940360-bfcd-4ab6-95b9-9006ad1a30a4\" xlink:show=\"new\" xlink:title=\"psysml:83940360-bfcd-4ab6-95b9-9006ad1a30a4\" xlink:type=\"simple\"><path d=\"M75.57,494.29 C80.84,515.04 89.51,546.05 100,572 C108.08,591.98 118.83,613.29 128.46,631.07 \" fill=\"none\" id=\"E4-to-E6\" style=\"stroke:#181818;stroke-width:1.0;\"/><polygon fill=\"#FFFFFF\" points=\"138.29,648.76,122.9437,635.5505,135.1819,628.7515,138.29,648.76\" style=\"stroke:#181818;stroke-width:1.0;\"/><ellipse cx=\"121.9238\" cy=\"629.5965\" fill=\"#181818\" rx=\"2\" ry=\"2\" style=\"stroke:#181818;stroke-width:1.0;\"/><ellipse cx=\"130.6654\" cy=\"624.7401\" fill=\"#181818\" rx=\"2\" ry=\"2\" style=\"stroke:#181818;stroke-width:1.0;\"/></a></g><!--MD5=[3f50a3473f1dfb74d3f76443e03635af]\n",
       "reverse link E6 to E7--><g id=\"link_E6_E7\"><a href=\"psysml:c7c30ff0-7abe-445a-9147-4c620b104f3e\" target=\"_top\" title=\"psysml:c7c30ff0-7abe-445a-9147-4c620b104f3e\" xlink:actuate=\"onRequest\" xlink:href=\"psysml:c7c30ff0-7abe-445a-9147-4c620b104f3e\" xlink:show=\"new\" xlink:title=\"psysml:c7c30ff0-7abe-445a-9147-4c620b104f3e\" xlink:type=\"simple\"><path d=\"M164.05,709.83 C169.38,725.66 175.49,743.82 180.2,757.83 \" fill=\"none\" id=\"E6-backto-E7\" style=\"stroke:#181818;stroke-width:1.0;\"/><polygon fill=\"#181818\" points=\"159.81,697.22,157.9296,704.1816,163.6324,708.5949,165.5128,701.6333,159.81,697.22\" style=\"stroke:#181818;stroke-width:1.0;\"/></a></g><!--MD5=[14ccda38c055a5c0da953d572bc50960]\n",
       "link E7 to E3--><g id=\"link_E7_E3\"><a href=\"psysml:4a79bdb3-77e8-4e9c-befa-ce9a0c7716db\" target=\"_top\" title=\"psysml:4a79bdb3-77e8-4e9c-befa-ce9a0c7716db\" xlink:actuate=\"onRequest\" xlink:href=\"psysml:4a79bdb3-77e8-4e9c-befa-ce9a0c7716db\" xlink:show=\"new\" xlink:title=\"psysml:4a79bdb3-77e8-4e9c-befa-ce9a0c7716db\" xlink:type=\"simple\"><path d=\"M204.97,757.64 C218.43,736.78 235,704.84 235,674 C235,391 235,391 235,391 C235,361.35 214.38,336.01 192.46,317.43 \" fill=\"none\" id=\"E7-to-E3\" style=\"stroke:#181818;stroke-width:1.0;\"/><polygon fill=\"#FFFFFF\" points=\"176.54,305.14,195.8578,311.2081,187.3035,322.2907,176.54,305.14\" style=\"stroke:#181818;stroke-width:1.0;\"/><ellipse cx=\"199.148\" cy=\"316.2741\" fill=\"#181818\" rx=\"2\" ry=\"2\" style=\"stroke:#181818;stroke-width:1.0;\"/><ellipse cx=\"193.0378\" cy=\"324.1903\" fill=\"#181818\" rx=\"2\" ry=\"2\" style=\"stroke:#181818;stroke-width:1.0;\"/></a></g><!--MD5=[dfaffb906826c3e5aca635516100ff21]\n",
       "link E5 to E8--><g id=\"link_E5_E8\"><a href=\"psysml:d776694e-c79b-404c-b561-ae1c1a2e3f3d\" target=\"_top\" title=\"psysml:d776694e-c79b-404c-b561-ae1c1a2e3f3d\" xlink:actuate=\"onRequest\" xlink:href=\"psysml:d776694e-c79b-404c-b561-ae1c1a2e3f3d\" xlink:show=\"new\" xlink:title=\"psysml:d776694e-c79b-404c-b561-ae1c1a2e3f3d\" xlink:type=\"simple\"><path d=\"M174.11,416.06 C170.2,439.19 164.09,475.38 159.28,503.86 \" fill=\"none\" id=\"E5-to-E8\" style=\"stroke:#181818;stroke-width:1.0;\"/><polygon fill=\"#FFFFFF\" points=\"155.92,523.79,152.1809,503.8898,165.9855,506.2206,155.92,523.79\" style=\"stroke:#181818;stroke-width:1.0;\"/><ellipse cx=\"155.1019\" cy=\"498.6023\" fill=\"#181818\" rx=\"2\" ry=\"2\" style=\"stroke:#181818;stroke-width:1.0;\"/><ellipse cx=\"164.9624\" cy=\"500.2671\" fill=\"#181818\" rx=\"2\" ry=\"2\" style=\"stroke:#181818;stroke-width:1.0;\"/></a></g><!--MD5=[03c8294790d3c57651a1993cecff665f]\n",
       "reverse link E8 to E3--><g id=\"link_E8_E3\"><a href=\"psysml:c4551329-8b56-4fd0-9fbf-f2d280f6b39b\" target=\"_top\" title=\"psysml:c4551329-8b56-4fd0-9fbf-f2d280f6b39b\" xlink:actuate=\"onRequest\" xlink:href=\"psysml:c4551329-8b56-4fd0-9fbf-f2d280f6b39b\" xlink:show=\"new\" xlink:title=\"psysml:c4551329-8b56-4fd0-9fbf-f2d280f6b39b\" xlink:type=\"simple\"><path d=\"M144.62,510.88 C139.66,484.68 133.57,448.31 131,416 C129.31,394.73 129.74,389.3 131,368 C132.23,347.33 135.14,323.95 137.5,307.11 \" fill=\"none\" id=\"E8-backto-E3\" style=\"stroke:#181818;stroke-width:1.0;\"/><polygon fill=\"none\" points=\"147.16,523.94,149.9387,517.2857,144.865,512.1615,142.0863,518.8158,147.16,523.94\" style=\"stroke:#181818;stroke-width:1.0;\"/><text fill=\"#000000\" font-family=\"sans-serif\" font-size=\"13\" lengthAdjust=\"spacing\" textLength=\"7\" x=\"132\" y=\"396.5669\">y</text></a></g><!--MD5=[0d75d2178373a6a4568e5dc728f58aef]\n",
       "reverse link E8 to E6--><g id=\"link_E8_E6\"><a href=\"psysml:c4551329-8b56-4fd0-9fbf-f2d280f6b39b\" target=\"_top\" title=\"psysml:c4551329-8b56-4fd0-9fbf-f2d280f6b39b\" xlink:actuate=\"onRequest\" xlink:href=\"psysml:c4551329-8b56-4fd0-9fbf-f2d280f6b39b\" xlink:show=\"new\" xlink:title=\"psysml:c4551329-8b56-4fd0-9fbf-f2d280f6b39b\" xlink:type=\"simple\"><path d=\"M152,585.21 C152,605.83 152,631.04 152,648.97 \" fill=\"none\" id=\"E8-backto-E6\" style=\"stroke:#181818;stroke-width:1.0;\"/><polygon fill=\"none\" points=\"152,572.14,148,578.14,152,584.14,156,578.14,152,572.14\" style=\"stroke:#181818;stroke-width:1.0;\"/><text fill=\"#000000\" font-family=\"sans-serif\" font-size=\"13\" lengthAdjust=\"spacing\" textLength=\"7\" x=\"153\" y=\"615.0669\">y</text></a></g><!--MD5=[23ac544a70576c3e717098101004234c]\n",
       "reverse link E9 to E10--><g id=\"link_E9_E10\"><a href=\"psysml:5a5abb4f-4a57-47f4-8d13-1f5dca85ed3b\" target=\"_top\" title=\"psysml:5a5abb4f-4a57-47f4-8d13-1f5dca85ed3b\" xlink:actuate=\"onRequest\" xlink:href=\"psysml:5a5abb4f-4a57-47f4-8d13-1f5dca85ed3b\" xlink:show=\"new\" xlink:title=\"psysml:5a5abb4f-4a57-47f4-8d13-1f5dca85ed3b\" xlink:type=\"simple\"><path d=\"M88.47,101.35 C81.47,117.29 73.39,135.68 67.18,149.83 \" fill=\"none\" id=\"E9-backto-E10\" style=\"stroke:#181818;stroke-width:1.0;\"/><polygon fill=\"none\" points=\"93.8,89.22,87.7243,93.1041,88.9729,100.2063,95.0485,96.3222,93.8,89.22\" style=\"stroke:#181818;stroke-width:1.0;\"/></a></g><!--MD5=[feeac5eb423634930294aa81f2d25a4c]\n",
       "link E10 to E3--><g id=\"link_E10_E3\"><a href=\"psysml:d7f66802-941a-4496-884a-36d82493c03e\" target=\"_top\" title=\"psysml:d7f66802-941a-4496-884a-36d82493c03e\" xlink:actuate=\"onRequest\" xlink:href=\"psysml:d7f66802-941a-4496-884a-36d82493c03e\" xlink:show=\"new\" xlink:title=\"psysml:d7f66802-941a-4496-884a-36d82493c03e\" xlink:type=\"simple\"><path d=\"M75.23,198.22 C85.46,211.26 98.51,227.88 110.28,242.87 \" fill=\"none\" id=\"E10-to-E3\" style=\"stroke:#181818;stroke-width:1.0;\"/><polygon fill=\"#FFFFFF\" points=\"122.81,258.83,105.5676,248.214,116.5764,239.565,122.81,258.83\" style=\"stroke:#181818;stroke-width:1.0;\"/><ellipse cx=\"103.6189\" cy=\"242.4963\" fill=\"#181818\" rx=\"2\" ry=\"2\" style=\"stroke:#181818;stroke-width:1.0;\"/><ellipse cx=\"111.4823\" cy=\"236.3184\" fill=\"#181818\" rx=\"2\" ry=\"2\" style=\"stroke:#181818;stroke-width:1.0;\"/></a></g><!--MD5=[1fc04a95fd77ad5ce46c1a3027516051]\n",
       "reverse link E9 to E11--><g id=\"link_E9_E11\"><a href=\"psysml:8187499b-9a51-4939-bbf5-c8a0ee670e5b\" target=\"_top\" title=\"psysml:8187499b-9a51-4939-bbf5-c8a0ee670e5b\" xlink:actuate=\"onRequest\" xlink:href=\"psysml:8187499b-9a51-4939-bbf5-c8a0ee670e5b\" xlink:show=\"new\" xlink:title=\"psysml:8187499b-9a51-4939-bbf5-c8a0ee670e5b\" xlink:type=\"simple\"><path d=\"M116.39,101.83 C121.86,117.66 128.14,135.82 132.99,149.83 \" fill=\"none\" id=\"E9-backto-E11\" style=\"stroke:#181818;stroke-width:1.0;\"/><polygon fill=\"none\" points=\"112.03,89.22,110.2077,96.1971,115.9472,100.5627,117.7695,93.5856,112.03,89.22\" style=\"stroke:#181818;stroke-width:1.0;\"/></a></g><!--MD5=[0517f1ce58c4d5483948f93845c45e26]\n",
       "link E11 to E3--><g id=\"link_E11_E3\"><a href=\"psysml:ca7307c2-0235-4c1e-8766-bbb66b330e4f\" target=\"_top\" title=\"psysml:ca7307c2-0235-4c1e-8766-bbb66b330e4f\" xlink:actuate=\"onRequest\" xlink:href=\"psysml:ca7307c2-0235-4c1e-8766-bbb66b330e4f\" xlink:show=\"new\" xlink:title=\"psysml:ca7307c2-0235-4c1e-8766-bbb66b330e4f\" xlink:type=\"simple\"><path d=\"M141,198.22 C141,210 141,224.69 141,238.48 \" fill=\"none\" id=\"E11-to-E3\" style=\"stroke:#181818;stroke-width:1.0;\"/><polygon fill=\"#FFFFFF\" points=\"141,258.83,134,239.83,148,239.83,141,258.83\" style=\"stroke:#181818;stroke-width:1.0;\"/><ellipse cx=\"136\" cy=\"234.13\" fill=\"#181818\" rx=\"2\" ry=\"2\" style=\"stroke:#181818;stroke-width:1.0;\"/><ellipse cx=\"146\" cy=\"234.13\" fill=\"#181818\" rx=\"2\" ry=\"2\" style=\"stroke:#181818;stroke-width:1.0;\"/></a></g><!--MD5=[ce1f4d11a0bbf6d928efee3d783e9c5e]\n",
       "@startuml\r\n",
       "skin sysmlbw\r\n",
       "skinparam monochrome true\r\n",
       "skinparam wrapWidth 300\r\n",
       "hide circle\r\n",
       " \r\n",
       "package \"ItemTest\" as E1  [[psysml:cd87d2b7-4fa1-4c1b-a4f6-af691b0dec58 ]]  {\r\n",
       "comp usage \"f: A  \" as E2  <<(T,blue) item>> [[psysml:a6e7d788-746b-466d-b844-23a78300b1ae ]] {\r\n",
       "}\r\n",
       "comp def \"A\" as E3  <<(T,blue) item  def>> [[psysml:7645df02-ea24-41fb-927b-82e0988a44f2 ]] {\r\n",
       "}\r\n",
       "comp usage \"b: B  \" as E4  <<(T,blue) item>> [[psysml:426ed2e2-6591-4c8f-a505-52d546190911 ]] {\r\n",
       "}\r\n",
       "comp usage \"c: C  \" as E5  <<(T,blue) part>> [[psysml:331ec08e-03d4-4ef2-9768-da2cb6dfa326 ]] {\r\n",
       "}\r\n",
       "comp def \"<i>B</i>\" as E6  <<(T,blue) item  def>> [[psysml:1c5a109b-6d3b-4425-b763-85184515822e ]] {\r\n",
       "}\r\n",
       "comp usage \"<i>a</i>: A  \" as E7  <<(T,blue) part>> [[psysml:3d3f18ff-1114-439a-91a9-78796a10458c ]] {\r\n",
       "}\r\n",
       "comp def \"C\" as E8  <<(T,blue) part  def>> [[psysml:1568c6af-b382-4c7f-b02a-0d87dd86c0f5 ]] {\r\n",
       "}\r\n",
       "comp def \"P\" as E9  <<(T,blue) port  def>> [[psysml:7b3481ba-f47b-4c12-87df-4d6f620e6d00 ]] {\r\n",
       "}\r\n",
       "comp usage \"a1: A  \" as E10  <<(T,blue) item>> [[psysml:116f794f-fd18-4d42-8d94-9abf783d43f0 ]] {\r\n",
       "}\r\n",
       "comp usage \"a2: A  \" as E11  <<(T,blue) item>> [[psysml:16572df6-eec3-489a-80d1-3b65de425cbd ]] {\r\n",
       "}\r\n",
       "}\r\n",
       "E2 - -:|> E3 [[psysml:70c9c3cf-ded5-4fad-940c-650d810049d2 ]] \r\n",
       "E3 *- - E4 [[psysml:1e28e0ed-b5c0-4fac-98b2-855fbe266c1f ]] \r\n",
       "E3 o- - E5 [[psysml:b5974af5-b28c-458b-89e4-95d46de68236 ]] \r\n",
       "E4 - -:|> E6 [[psysml:83940360-bfcd-4ab6-95b9-9006ad1a30a4 ]] \r\n",
       "E6 *- - E7 [[psysml:c7c30ff0-7abe-445a-9147-4c620b104f3e ]] \r\n",
       "E7 - -:|> E3 [[psysml:4a79bdb3-77e8-4e9c-befa-ce9a0c7716db ]] \r\n",
       "E5 - -:|> E8 [[psysml:d776694e-c79b-404c-b561-ae1c1a2e3f3d ]] \r\n",
       "E8 o- - E3 [[psysml:c4551329-8b56-4fd0-9fbf-f2d280f6b39b ]] : y\r\n",
       "E8 o- - E6 [[psysml:c4551329-8b56-4fd0-9fbf-f2d280f6b39b ]] : y\r\n",
       "E9 o- - E10 [[psysml:5a5abb4f-4a57-47f4-8d13-1f5dca85ed3b ]] \r\n",
       "E10 - -:|> E3 [[psysml:d7f66802-941a-4496-884a-36d82493c03e ]] \r\n",
       "E9 o- - E11 [[psysml:8187499b-9a51-4939-bbf5-c8a0ee670e5b ]] \r\n",
       "E11 - -:|> E3 [[psysml:ca7307c2-0235-4c1e-8766-bbb66b330e4f ]] \r\n",
       "@enduml\r\n",
       "\n",
       "PlantUML version 1.2022.7(Mon Aug 22 17:01:30 UTC 2022)\n",
       "(EPL source distribution)\n",
       "Java Runtime: OpenJDK Runtime Environment\n",
       "JVM: OpenJDK 64-Bit Server VM\n",
       "Default Encoding: UTF-8\n",
       "Language: en\n",
       "Country: null\n",
       "--></g></svg>"
      ]
     },
     "execution_count": 3,
     "metadata": {},
     "output_type": "execute_result"
    }
   ],
   "source": [
    "%viz --style=\"COMPTREE\" --view=\"Tree\" \"ItemTest\""
   ]
  },
  {
   "cell_type": "code",
   "execution_count": 4,
   "id": "0cbf8f5f",
   "metadata": {
    "execution": {
     "iopub.execute_input": "2024-12-16T14:15:15.579800Z",
     "iopub.status.busy": "2024-12-16T14:15:15.579580Z",
     "iopub.status.idle": "2024-12-16T14:15:15.586938Z",
     "shell.execute_reply": "2024-12-16T14:15:15.587064Z"
    }
   },
   "outputs": [
    {
     "data": {
      "image/svg+xml": [
       "<?xml version=\"1.0\" encoding=\"UTF-8\" standalone=\"no\"?><svg xmlns=\"http://www.w3.org/2000/svg\" xmlns:xlink=\"http://www.w3.org/1999/xlink\" contentStyleType=\"text/css\" height=\"10px\" preserveAspectRatio=\"none\" style=\"width:10px;height:10px;background:#FFFFFF;\" version=\"1.1\" viewBox=\"0 0 10 10\" width=\"10px\" zoomAndPan=\"magnify\"><defs/><g><!--MD5=[ee07d3037018df61283447c7fdb4a44f]\n",
       "@startuml\r\n",
       "skin sysmlbw\r\n",
       "skinparam monochrome true\r\n",
       "skinparam wrapWidth 300\r\n",
       "hide circle\r\n",
       " \r\n",
       "@enduml\r\n",
       "\n",
       "PlantUML version 1.2022.7(Mon Aug 22 17:01:30 UTC 2022)\n",
       "(EPL source distribution)\n",
       "Java Runtime: OpenJDK Runtime Environment\n",
       "JVM: OpenJDK 64-Bit Server VM\n",
       "Default Encoding: UTF-8\n",
       "Language: en\n",
       "Country: null\n",
       "--></g></svg>"
      ]
     },
     "execution_count": 4,
     "metadata": {},
     "output_type": "execute_result"
    }
   ],
   "source": [
    "%viz --style=\"COMPTREE\" --view=\"State\" \"ItemTest\""
   ]
  },
  {
   "cell_type": "code",
   "execution_count": 5,
   "id": "910e8644",
   "metadata": {
    "execution": {
     "iopub.execute_input": "2024-12-16T14:15:15.641814Z",
     "iopub.status.busy": "2024-12-16T14:15:15.641573Z",
     "iopub.status.idle": "2024-12-16T14:15:15.669770Z",
     "shell.execute_reply": "2024-12-16T14:15:15.669582Z"
    }
   },
   "outputs": [
    {
     "data": {
      "image/svg+xml": [
       "<?xml version=\"1.0\" encoding=\"UTF-8\" standalone=\"no\"?><svg xmlns=\"http://www.w3.org/2000/svg\" xmlns:xlink=\"http://www.w3.org/1999/xlink\" contentStyleType=\"text/css\" height=\"245px\" preserveAspectRatio=\"none\" style=\"width:478px;height:245px;background:#FFFFFF;\" version=\"1.1\" viewBox=\"0 0 478 245\" width=\"478px\" zoomAndPan=\"magnify\"><defs/><g><!--MD5=[fbc87193dbaf4d95561dea2c320d4a47]\n",
       "cluster E1--><g id=\"cluster_E1\"><a href=\"psysml:cd87d2b7-4fa1-4c1b-a4f6-af691b0dec58\" target=\"_top\" title=\"psysml:cd87d2b7-4fa1-4c1b-a4f6-af691b0dec58\" xlink:actuate=\"onRequest\" xlink:href=\"psysml:cd87d2b7-4fa1-4c1b-a4f6-af691b0dec58\" xlink:show=\"new\" xlink:title=\"psysml:cd87d2b7-4fa1-4c1b-a4f6-af691b0dec58\" xlink:type=\"simple\"><polygon fill=\"none\" points=\"16,6,86.5,6,93.5,28.2969,461,28.2969,461,238,16,238,16,6\" style=\"stroke:#000000;stroke-width:1.5;\"/><line style=\"stroke:#000000;stroke-width:1.5;\" x1=\"16\" x2=\"93.5\" y1=\"28.2969\" y2=\"28.2969\"/><text fill=\"#000000\" font-family=\"sans-serif\" font-size=\"14\" font-weight=\"bold\" lengthAdjust=\"spacing\" textLength=\"64.5\" x=\"20\" y=\"20.9951\">ItemTest</text></a></g><!--MD5=[de5ec2e2e8f62f467e546659f5068c88]\n",
       "cluster E5--><g id=\"cluster_E5\"><a href=\"psysml:1568c6af-b382-4c7f-b02a-0d87dd86c0f5\" target=\"_top\" title=\"psysml:1568c6af-b382-4c7f-b02a-0d87dd86c0f5\" xlink:actuate=\"onRequest\" xlink:href=\"psysml:1568c6af-b382-4c7f-b02a-0d87dd86c0f5\" xlink:show=\"new\" xlink:title=\"psysml:1568c6af-b382-4c7f-b02a-0d87dd86c0f5\" xlink:type=\"simple\"><rect fill=\"#FFFFFF\" height=\"112\" id=\"E5\" style=\"stroke:#383838;stroke-width:1.5;\" width=\"114\" x=\"323\" y=\"49\"/><text fill=\"#000000\" font-family=\"sans-serif\" font-size=\"12\" font-style=\"italic\" lengthAdjust=\"spacing\" textLength=\"68\" x=\"346\" y=\"65.1387\">«part  def»</text><text fill=\"#000000\" font-family=\"sans-serif\" font-size=\"14\" lengthAdjust=\"spacing\" textLength=\"10\" x=\"375\" y=\"80.9639\">C</text><line style=\"stroke:#383838;stroke-width:1.0;\" x1=\"323\" x2=\"437\" y1=\"89.2656\" y2=\"89.2656\"/></a></g><g><a href=\"psysml:7645df02-ea24-41fb-927b-82e0988a44f2\" target=\"_top\" title=\"psysml:7645df02-ea24-41fb-927b-82e0988a44f2\" xlink:actuate=\"onRequest\" xlink:href=\"psysml:7645df02-ea24-41fb-927b-82e0988a44f2\" xlink:show=\"new\" xlink:title=\"psysml:7645df02-ea24-41fb-927b-82e0988a44f2\" xlink:type=\"simple\"><rect fill=\"#FFFFFF\" height=\"45.2656\" id=\"E3\" style=\"stroke:#383838;stroke-width:1.5;\" width=\"76\" x=\"32\" y=\"177\"/><text fill=\"#000000\" font-family=\"sans-serif\" font-size=\"12\" font-style=\"italic\" lengthAdjust=\"spacing\" textLength=\"69\" x=\"35.5\" y=\"193.1387\">«item  def»</text><text fill=\"#000000\" font-family=\"sans-serif\" font-size=\"14\" lengthAdjust=\"spacing\" textLength=\"9\" x=\"65.5\" y=\"208.9639\">A</text></a></g><g><a href=\"psysml:1c5a109b-6d3b-4425-b763-85184515822e\" target=\"_top\" title=\"psysml:1c5a109b-6d3b-4425-b763-85184515822e\" xlink:actuate=\"onRequest\" xlink:href=\"psysml:1c5a109b-6d3b-4425-b763-85184515822e\" xlink:show=\"new\" xlink:title=\"psysml:1c5a109b-6d3b-4425-b763-85184515822e\" xlink:type=\"simple\"><rect fill=\"#FFFFFF\" height=\"45.2656\" id=\"E4\" style=\"stroke:#383838;stroke-width:1.5;\" width=\"76\" x=\"228\" y=\"100\"/><text fill=\"#000000\" font-family=\"sans-serif\" font-size=\"12\" font-style=\"italic\" lengthAdjust=\"spacing\" textLength=\"69\" x=\"231.5\" y=\"116.1387\">«item  def»</text><text fill=\"#000000\" font-family=\"sans-serif\" font-size=\"14\" font-style=\"italic\" lengthAdjust=\"spacing\" textLength=\"10\" x=\"261\" y=\"131.9639\">B</text></a></g><g><a href=\"psysml:7b3481ba-f47b-4c12-87df-4d6f620e6d00\" target=\"_top\" title=\"psysml:7b3481ba-f47b-4c12-87df-4d6f620e6d00\" xlink:actuate=\"onRequest\" xlink:href=\"psysml:7b3481ba-f47b-4c12-87df-4d6f620e6d00\" xlink:show=\"new\" xlink:title=\"psysml:7b3481ba-f47b-4c12-87df-4d6f620e6d00\" xlink:type=\"simple\"><rect fill=\"#FFFFFF\" height=\"45.2656\" id=\"E7\" style=\"stroke:#383838;stroke-width:1.5;\" width=\"75\" x=\"117.5\" y=\"100\"/><text fill=\"#000000\" font-family=\"sans-serif\" font-size=\"12\" font-style=\"italic\" lengthAdjust=\"spacing\" textLength=\"68\" x=\"121\" y=\"116.1387\">«port  def»</text><text fill=\"#000000\" font-family=\"sans-serif\" font-size=\"14\" lengthAdjust=\"spacing\" textLength=\"9\" x=\"150.5\" y=\"131.9639\">P</text></a></g><g><a href=\"psysml:a6e7d788-746b-466d-b844-23a78300b1ae\" target=\"_top\" title=\"psysml:a6e7d788-746b-466d-b844-23a78300b1ae\" xlink:actuate=\"onRequest\" xlink:href=\"psysml:a6e7d788-746b-466d-b844-23a78300b1ae\" xlink:show=\"new\" xlink:title=\"psysml:a6e7d788-746b-466d-b844-23a78300b1ae\" xlink:type=\"simple\"><rect fill=\"#FFFFFF\" height=\"45.2656\" id=\"E2\" rx=\"10\" ry=\"10\" style=\"stroke:#383838;stroke-width:1.5;\" width=\"50\" x=\"32\" y=\"100\"/><text fill=\"#000000\" font-family=\"sans-serif\" font-size=\"12\" font-style=\"italic\" lengthAdjust=\"spacing\" textLength=\"41\" x=\"36.5\" y=\"116.1387\">«item»</text><text fill=\"#000000\" font-family=\"sans-serif\" font-size=\"14\" lengthAdjust=\"spacing\" textLength=\"22\" x=\"46\" y=\"131.9639\">f: A</text></a></g><g><a href=\"psysml:c4551329-8b56-4fd0-9fbf-f2d280f6b39b\" target=\"_top\" title=\"psysml:c4551329-8b56-4fd0-9fbf-f2d280f6b39b\" xlink:actuate=\"onRequest\" xlink:href=\"psysml:c4551329-8b56-4fd0-9fbf-f2d280f6b39b\" xlink:show=\"new\" xlink:title=\"psysml:c4551329-8b56-4fd0-9fbf-f2d280f6b39b\" xlink:type=\"simple\"><rect fill=\"#FFFFFF\" height=\"45.2656\" id=\"E6\" rx=\"10\" ry=\"10\" style=\"stroke:#383838;stroke-width:1.5;\" width=\"82\" x=\"339\" y=\"100\"/><text fill=\"#000000\" font-family=\"sans-serif\" font-size=\"12\" font-style=\"italic\" lengthAdjust=\"spacing\" textLength=\"75\" x=\"342.5\" y=\"116.1387\">«reference»</text><text fill=\"#000000\" font-family=\"sans-serif\" font-size=\"14\" lengthAdjust=\"spacing\" textLength=\"43\" x=\"354.5\" y=\"131.9639\">y: A, B</text></a></g><!--MD5=[2720a5a1f2c3fca2055b230370638851]\n",
       "link E2 to E3--><g id=\"link_E2_E3\"><a href=\"psysml:70c9c3cf-ded5-4fad-940c-650d810049d2\" target=\"_top\" title=\"psysml:70c9c3cf-ded5-4fad-940c-650d810049d2\" xlink:actuate=\"onRequest\" xlink:href=\"psysml:70c9c3cf-ded5-4fad-940c-650d810049d2\" xlink:show=\"new\" xlink:title=\"psysml:70c9c3cf-ded5-4fad-940c-650d810049d2\" xlink:type=\"simple\"><path d=\"M60.76,145.19 C61.41,148.92 62.1,152.91 62.8,156.96 \" fill=\"none\" id=\"E2-to-E3\" style=\"stroke:#181818;stroke-width:1.0;\"/><polygon fill=\"#FFFFFF\" points=\"66.25,176.86,56.0959,159.3416,69.8886,156.9411,66.25,176.86\" style=\"stroke:#181818;stroke-width:1.0;\"/><ellipse cx=\"57.0889\" cy=\"153.3831\" fill=\"#181818\" rx=\"2\" ry=\"2\" style=\"stroke:#181818;stroke-width:1.0;\"/><ellipse cx=\"66.9408\" cy=\"151.6685\" fill=\"#181818\" rx=\"2\" ry=\"2\" style=\"stroke:#181818;stroke-width:1.0;\"/></a></g><!--MD5=[0e9b806b77b9664d896f12e987567dee]\n",
       "@startuml\r\n",
       "skin sysmlbw\r\n",
       "skinparam monochrome true\r\n",
       "skinparam wrapWidth 300\r\n",
       "hide circle\r\n",
       " skinparam ranksep 10\r\n",
       "skinparam rectangle {\r\n",
       " backgroundColor<<block>> LightGreen\r\n",
       "}\r\n",
       "\r\n",
       "package \"ItemTest\" as E1  [[psysml:cd87d2b7-4fa1-4c1b-a4f6-af691b0dec58 ]]  {\r\n",
       "rec usage \"f: A\" as E2  <<(T,blue) item>> [[psysml:a6e7d788-746b-466d-b844-23a78300b1ae ]] {\r\n",
       "}\r\n",
       "def \"A\" as E3  <<(T,blue) item  def>> [[psysml:7645df02-ea24-41fb-927b-82e0988a44f2 ]] \r\n",
       "def \"<i>B</i>\" as E4  <<(T,blue) item  def>> [[psysml:1c5a109b-6d3b-4425-b763-85184515822e ]] \r\n",
       "rec def \"C\" as E5  <<(T,blue) part  def>> [[psysml:1568c6af-b382-4c7f-b02a-0d87dd86c0f5 ]] {\r\n",
       "rec usage \"y: A, B  \" as E6  <<(T,blue) reference>> [[psysml:c4551329-8b56-4fd0-9fbf-f2d280f6b39b ]] {\r\n",
       "}\r\n",
       "\r\n",
       "}\r\n",
       "def \"P\" as E7  <<(T,blue) port  def>> [[psysml:7b3481ba-f47b-4c12-87df-4d6f620e6d00 ]] \r\n",
       "}\r\n",
       "E2 - -:|> E3 [[psysml:70c9c3cf-ded5-4fad-940c-650d810049d2 ]] \r\n",
       "@enduml\r\n",
       "\n",
       "PlantUML version 1.2022.7(Mon Aug 22 17:01:30 UTC 2022)\n",
       "(EPL source distribution)\n",
       "Java Runtime: OpenJDK Runtime Environment\n",
       "JVM: OpenJDK 64-Bit Server VM\n",
       "Default Encoding: UTF-8\n",
       "Language: en\n",
       "Country: null\n",
       "--></g></svg>"
      ]
     },
     "execution_count": 5,
     "metadata": {},
     "output_type": "execute_result"
    }
   ],
   "source": [
    "%viz --style=\"COMPTREE\" --view=\"Interconnection\" \"ItemTest\""
   ]
  },
  {
   "cell_type": "code",
   "execution_count": 6,
   "id": "1c9c876c",
   "metadata": {
    "execution": {
     "iopub.execute_input": "2024-12-16T14:15:15.725744Z",
     "iopub.status.busy": "2024-12-16T14:15:15.725506Z",
     "iopub.status.idle": "2024-12-16T14:15:15.731851Z",
     "shell.execute_reply": "2024-12-16T14:15:15.731689Z"
    }
   },
   "outputs": [
    {
     "data": {
      "image/svg+xml": [
       "<?xml version=\"1.0\" encoding=\"UTF-8\" standalone=\"no\"?><svg xmlns=\"http://www.w3.org/2000/svg\" xmlns:xlink=\"http://www.w3.org/1999/xlink\" contentStyleType=\"text/css\" height=\"10px\" preserveAspectRatio=\"none\" style=\"width:10px;height:10px;background:#FFFFFF;\" version=\"1.1\" viewBox=\"0 0 10 10\" width=\"10px\" zoomAndPan=\"magnify\"><defs/><g><!--MD5=[042b5323e4810735e2315f6f99dad39e]\n",
       "@startuml\r\n",
       "skin sysmlbw\r\n",
       "skinparam monochrome true\r\n",
       "skinparam wrapWidth 300\r\n",
       "hide circle\r\n",
       " skinparam ranksep 8\r\n",
       "\r\n",
       "@enduml\r\n",
       "\n",
       "PlantUML version 1.2022.7(Mon Aug 22 17:01:30 UTC 2022)\n",
       "(EPL source distribution)\n",
       "Java Runtime: OpenJDK Runtime Environment\n",
       "JVM: OpenJDK 64-Bit Server VM\n",
       "Default Encoding: UTF-8\n",
       "Language: en\n",
       "Country: null\n",
       "--></g></svg>"
      ]
     },
     "execution_count": 6,
     "metadata": {},
     "output_type": "execute_result"
    }
   ],
   "source": [
    "%viz --style=\"COMPTREE\" --view=\"Action\" \"ItemTest\""
   ]
  },
  {
   "cell_type": "code",
   "execution_count": 7,
   "id": "323486f1",
   "metadata": {
    "execution": {
     "iopub.execute_input": "2024-12-16T14:15:15.785774Z",
     "iopub.status.busy": "2024-12-16T14:15:15.785559Z",
     "iopub.status.idle": "2024-12-16T14:15:15.798577Z",
     "shell.execute_reply": "2024-12-16T14:15:15.798376Z"
    }
   },
   "outputs": [
    {
     "data": {
      "image/svg+xml": [
       "<?xml version=\"1.0\" encoding=\"UTF-8\" standalone=\"no\"?><svg xmlns=\"http://www.w3.org/2000/svg\" xmlns:xlink=\"http://www.w3.org/1999/xlink\" contentStyleType=\"text/css\" height=\"10px\" preserveAspectRatio=\"none\" style=\"width:10px;height:10px;background:#FFFFFF;\" version=\"1.1\" viewBox=\"0 0 10 10\" width=\"10px\" zoomAndPan=\"magnify\"><defs/><g><!--MD5=[f5e9abf0a6c8dccaf40d0172f495ca0b]\n",
       "@startuml\r\n",
       "skin sysmlbw\r\n",
       "skinparam monochrome true\r\n",
       "skinparam wrapWidth 300\r\n",
       "hide circle\r\n",
       " skinparam roundcorner 20\r\n",
       "skinparam BoxPadding 20\r\n",
       "skinparam SequenceBoxBackgroundColor #white\r\n",
       "skinparam style strictuml\r\n",
       "skinparam maxMessageSize 100\r\n",
       "\r\n",
       "@enduml\r\n",
       "\n",
       "PlantUML version 1.2022.7(Mon Aug 22 17:01:30 UTC 2022)\n",
       "(EPL source distribution)\n",
       "Java Runtime: OpenJDK Runtime Environment\n",
       "JVM: OpenJDK 64-Bit Server VM\n",
       "Default Encoding: UTF-8\n",
       "Language: en\n",
       "Country: null\n",
       "--></g></svg>"
      ]
     },
     "execution_count": 7,
     "metadata": {},
     "output_type": "execute_result"
    }
   ],
   "source": [
    "%viz --style=\"COMPTREE\" --view=\"Sequence\" \"ItemTest\""
   ]
  },
  {
   "cell_type": "code",
   "execution_count": 8,
   "id": "e1bb8ace",
   "metadata": {
    "execution": {
     "iopub.execute_input": "2024-12-16T14:15:15.854516Z",
     "iopub.status.busy": "2024-12-16T14:15:15.854305Z",
     "iopub.status.idle": "2024-12-16T14:15:15.893658Z",
     "shell.execute_reply": "2024-12-16T14:15:15.893791Z"
    }
   },
   "outputs": [
    {
     "data": {
      "image/svg+xml": [
       "<?xml version=\"1.0\" encoding=\"UTF-8\" standalone=\"no\"?><svg xmlns=\"http://www.w3.org/2000/svg\" xmlns:xlink=\"http://www.w3.org/1999/xlink\" contentStyleType=\"text/css\" height=\"829px\" preserveAspectRatio=\"none\" style=\"width:277px;height:829px;background:#FFFFFF;\" version=\"1.1\" viewBox=\"0 0 277 829\" width=\"277px\" zoomAndPan=\"magnify\"><defs/><g><!--MD5=[fbc87193dbaf4d95561dea2c320d4a47]\n",
       "cluster E1--><g id=\"cluster_E1\"><a href=\"psysml:cd87d2b7-4fa1-4c1b-a4f6-af691b0dec58\" target=\"_top\" title=\"psysml:cd87d2b7-4fa1-4c1b-a4f6-af691b0dec58\" xlink:actuate=\"onRequest\" xlink:href=\"psysml:cd87d2b7-4fa1-4c1b-a4f6-af691b0dec58\" xlink:show=\"new\" xlink:title=\"psysml:cd87d2b7-4fa1-4c1b-a4f6-af691b0dec58\" xlink:type=\"simple\"><polygon fill=\"none\" points=\"16,6,86.5,6,93.5,28.2969,260,28.2969,260,822,16,822,16,6\" style=\"stroke:#000000;stroke-width:1.5;\"/><line style=\"stroke:#000000;stroke-width:1.5;\" x1=\"16\" x2=\"93.5\" y1=\"28.2969\" y2=\"28.2969\"/><text fill=\"#000000\" font-family=\"sans-serif\" font-size=\"14\" font-weight=\"bold\" lengthAdjust=\"spacing\" textLength=\"64.5\" x=\"20\" y=\"20.9951\">ItemTest</text></a></g><!--MD5=[b4997ac47864f28c2f74865a473b2911]\n",
       "class E2--><a href=\"psysml:a6e7d788-746b-466d-b844-23a78300b1ae\" target=\"_top\" title=\"psysml:a6e7d788-746b-466d-b844-23a78300b1ae\" xlink:actuate=\"onRequest\" xlink:href=\"psysml:a6e7d788-746b-466d-b844-23a78300b1ae\" xlink:show=\"new\" xlink:title=\"psysml:a6e7d788-746b-466d-b844-23a78300b1ae\" xlink:type=\"simple\"><g id=\"elem_E2\"><rect fill=\"#FFFFFF\" height=\"48.2656\" id=\"E2\" rx=\"10\" ry=\"10\" style=\"stroke:#181818;stroke-width:0.5;\" width=\"43\" x=\"200.5\" y=\"150\"/><text fill=\"#000000\" font-family=\"sans-serif\" font-size=\"12\" font-style=\"italic\" lengthAdjust=\"spacing\" textLength=\"41\" x=\"201.5\" y=\"166.1387\">«item»</text><text fill=\"#000000\" font-family=\"sans-serif\" font-size=\"14\" lengthAdjust=\"spacing\" textLength=\"22\" x=\"207\" y=\"181.9639\">f: A</text><line style=\"stroke:#181818;stroke-width:0.5;\" x1=\"201.5\" x2=\"242.5\" y1=\"190.2656\" y2=\"190.2656\"/></g></a><!--MD5=[09b614a08d8cba4a07c9adeb5e0fee81]\n",
       "class E3--><a href=\"psysml:7645df02-ea24-41fb-927b-82e0988a44f2\" target=\"_top\" title=\"psysml:7645df02-ea24-41fb-927b-82e0988a44f2\" xlink:actuate=\"onRequest\" xlink:href=\"psysml:7645df02-ea24-41fb-927b-82e0988a44f2\" xlink:show=\"new\" xlink:title=\"psysml:7645df02-ea24-41fb-927b-82e0988a44f2\" xlink:type=\"simple\"><g id=\"elem_E3\"><rect fill=\"#FFFFFF\" height=\"48.2656\" id=\"E3\" style=\"stroke:#181818;stroke-width:0.5;\" width=\"71\" x=\"105.5\" y=\"259\"/><text fill=\"#000000\" font-family=\"sans-serif\" font-size=\"12\" font-style=\"italic\" lengthAdjust=\"spacing\" textLength=\"69\" x=\"106.5\" y=\"275.1387\">«item  def»</text><text fill=\"#000000\" font-family=\"sans-serif\" font-size=\"14\" lengthAdjust=\"spacing\" textLength=\"9\" x=\"136.5\" y=\"290.9639\">A</text><line style=\"stroke:#181818;stroke-width:0.5;\" x1=\"106.5\" x2=\"175.5\" y1=\"299.2656\" y2=\"299.2656\"/></g></a><!--MD5=[ebbe1d658d1005bcc118a6aa81145e00]\n",
       "class E4--><a href=\"psysml:426ed2e2-6591-4c8f-a505-52d546190911\" target=\"_top\" title=\"psysml:426ed2e2-6591-4c8f-a505-52d546190911\" xlink:actuate=\"onRequest\" xlink:href=\"psysml:426ed2e2-6591-4c8f-a505-52d546190911\" xlink:show=\"new\" xlink:title=\"psysml:426ed2e2-6591-4c8f-a505-52d546190911\" xlink:type=\"simple\"><g id=\"elem_E4\"><rect fill=\"#FFFFFF\" height=\"48.2656\" id=\"E4\" rx=\"10\" ry=\"10\" style=\"stroke:#181818;stroke-width:0.5;\" width=\"43\" x=\"48.5\" y=\"446\"/><text fill=\"#000000\" font-family=\"sans-serif\" font-size=\"12\" font-style=\"italic\" lengthAdjust=\"spacing\" textLength=\"41\" x=\"49.5\" y=\"462.1387\">«item»</text><text fill=\"#000000\" font-family=\"sans-serif\" font-size=\"14\" lengthAdjust=\"spacing\" textLength=\"28\" x=\"52\" y=\"477.9639\">b: B</text><line style=\"stroke:#181818;stroke-width:0.5;\" x1=\"49.5\" x2=\"90.5\" y1=\"486.2656\" y2=\"486.2656\"/></g></a><!--MD5=[270fce915f116d4de14055a7c1d9a0f3]\n",
       "class E5--><a href=\"psysml:331ec08e-03d4-4ef2-9768-da2cb6dfa326\" target=\"_top\" title=\"psysml:331ec08e-03d4-4ef2-9768-da2cb6dfa326\" xlink:actuate=\"onRequest\" xlink:href=\"psysml:331ec08e-03d4-4ef2-9768-da2cb6dfa326\" xlink:show=\"new\" xlink:title=\"psysml:331ec08e-03d4-4ef2-9768-da2cb6dfa326\" xlink:type=\"simple\"><g id=\"elem_E5\"><rect fill=\"#FFFFFF\" height=\"48.2656\" id=\"E5\" rx=\"10\" ry=\"10\" style=\"stroke:#181818;stroke-width:0.5;\" width=\"42\" x=\"157\" y=\"368\"/><text fill=\"#000000\" font-family=\"sans-serif\" font-size=\"12\" font-style=\"italic\" lengthAdjust=\"spacing\" textLength=\"40\" x=\"158\" y=\"384.1387\">«part»</text><text fill=\"#000000\" font-family=\"sans-serif\" font-size=\"14\" lengthAdjust=\"spacing\" textLength=\"27\" x=\"160.5\" y=\"399.9639\">c: C</text><line style=\"stroke:#181818;stroke-width:0.5;\" x1=\"158\" x2=\"198\" y1=\"408.2656\" y2=\"408.2656\"/></g></a><!--MD5=[60a26617385b1d2d0262a64233df1f8d]\n",
       "class E6--><a href=\"psysml:1c5a109b-6d3b-4425-b763-85184515822e\" target=\"_top\" title=\"psysml:1c5a109b-6d3b-4425-b763-85184515822e\" xlink:actuate=\"onRequest\" xlink:href=\"psysml:1c5a109b-6d3b-4425-b763-85184515822e\" xlink:show=\"new\" xlink:title=\"psysml:1c5a109b-6d3b-4425-b763-85184515822e\" xlink:type=\"simple\"><g id=\"elem_E6\"><rect fill=\"#FFFFFF\" height=\"48.2656\" id=\"E6\" style=\"stroke:#181818;stroke-width:0.5;\" width=\"71\" x=\"116.5\" y=\"649\"/><text fill=\"#000000\" font-family=\"sans-serif\" font-size=\"12\" font-style=\"italic\" lengthAdjust=\"spacing\" textLength=\"69\" x=\"117.5\" y=\"665.1387\">«item  def»</text><text fill=\"#000000\" font-family=\"sans-serif\" font-size=\"14\" font-style=\"italic\" lengthAdjust=\"spacing\" textLength=\"10\" x=\"147\" y=\"680.9639\">B</text><line style=\"stroke:#181818;stroke-width:0.5;\" x1=\"117.5\" x2=\"186.5\" y1=\"689.2656\" y2=\"689.2656\"/></g></a><!--MD5=[2156ba9850f5573cc1fc38a6a4b2f02b]\n",
       "class E7--><a href=\"psysml:3d3f18ff-1114-439a-91a9-78796a10458c\" target=\"_top\" title=\"psysml:3d3f18ff-1114-439a-91a9-78796a10458c\" xlink:actuate=\"onRequest\" xlink:href=\"psysml:3d3f18ff-1114-439a-91a9-78796a10458c\" xlink:show=\"new\" xlink:title=\"psysml:3d3f18ff-1114-439a-91a9-78796a10458c\" xlink:type=\"simple\"><g id=\"elem_E7\"><rect fill=\"#FFFFFF\" height=\"48.2656\" id=\"E7\" rx=\"10\" ry=\"10\" style=\"stroke:#181818;stroke-width:0.5;\" width=\"42\" x=\"167\" y=\"758\"/><text fill=\"#000000\" font-family=\"sans-serif\" font-size=\"12\" font-style=\"italic\" lengthAdjust=\"spacing\" textLength=\"40\" x=\"168\" y=\"774.1387\">«part»</text><text fill=\"#000000\" font-family=\"sans-serif\" font-size=\"14\" font-style=\"italic\" lengthAdjust=\"spacing\" textLength=\"8\" x=\"171\" y=\"789.9639\">a</text><text fill=\"#000000\" font-family=\"sans-serif\" font-size=\"14\" lengthAdjust=\"spacing\" textLength=\"18\" x=\"179\" y=\"789.9639\">: A</text><line style=\"stroke:#181818;stroke-width:0.5;\" x1=\"168\" x2=\"208\" y1=\"798.2656\" y2=\"798.2656\"/></g></a><!--MD5=[b9389687b975829384b498ac4b7476b2]\n",
       "class E8--><a href=\"psysml:1568c6af-b382-4c7f-b02a-0d87dd86c0f5\" target=\"_top\" title=\"psysml:1568c6af-b382-4c7f-b02a-0d87dd86c0f5\" xlink:actuate=\"onRequest\" xlink:href=\"psysml:1568c6af-b382-4c7f-b02a-0d87dd86c0f5\" xlink:show=\"new\" xlink:title=\"psysml:1568c6af-b382-4c7f-b02a-0d87dd86c0f5\" xlink:type=\"simple\"><g id=\"elem_E8\"><rect fill=\"#FFFFFF\" height=\"48.2656\" id=\"E8\" style=\"stroke:#181818;stroke-width:0.5;\" width=\"70\" x=\"117\" y=\"524\"/><text fill=\"#000000\" font-family=\"sans-serif\" font-size=\"12\" font-style=\"italic\" lengthAdjust=\"spacing\" textLength=\"68\" x=\"118\" y=\"540.1387\">«part  def»</text><text fill=\"#000000\" font-family=\"sans-serif\" font-size=\"14\" lengthAdjust=\"spacing\" textLength=\"10\" x=\"147\" y=\"555.9639\">C</text><line style=\"stroke:#181818;stroke-width:0.5;\" x1=\"118\" x2=\"186\" y1=\"564.2656\" y2=\"564.2656\"/></g></a><!--MD5=[fd4143e9d270a159db93a4ea2a975926]\n",
       "class E9--><a href=\"psysml:7b3481ba-f47b-4c12-87df-4d6f620e6d00\" target=\"_top\" title=\"psysml:7b3481ba-f47b-4c12-87df-4d6f620e6d00\" xlink:actuate=\"onRequest\" xlink:href=\"psysml:7b3481ba-f47b-4c12-87df-4d6f620e6d00\" xlink:show=\"new\" xlink:title=\"psysml:7b3481ba-f47b-4c12-87df-4d6f620e6d00\" xlink:type=\"simple\"><g id=\"elem_E9\"><rect fill=\"#FFFFFF\" height=\"48.2656\" id=\"E9\" style=\"stroke:#181818;stroke-width:0.5;\" width=\"70\" x=\"69\" y=\"41\"/><text fill=\"#000000\" font-family=\"sans-serif\" font-size=\"12\" font-style=\"italic\" lengthAdjust=\"spacing\" textLength=\"68\" x=\"70\" y=\"57.1387\">«port  def»</text><text fill=\"#000000\" font-family=\"sans-serif\" font-size=\"14\" lengthAdjust=\"spacing\" textLength=\"9\" x=\"99.5\" y=\"72.9639\">P</text><line style=\"stroke:#181818;stroke-width:0.5;\" x1=\"70\" x2=\"138\" y1=\"81.2656\" y2=\"81.2656\"/></g></a><!--MD5=[96f4274e9e20536e775497830990834d]\n",
       "class E10--><a href=\"psysml:116f794f-fd18-4d42-8d94-9abf783d43f0\" target=\"_top\" title=\"psysml:116f794f-fd18-4d42-8d94-9abf783d43f0\" xlink:actuate=\"onRequest\" xlink:href=\"psysml:116f794f-fd18-4d42-8d94-9abf783d43f0\" xlink:show=\"new\" xlink:title=\"psysml:116f794f-fd18-4d42-8d94-9abf783d43f0\" xlink:type=\"simple\"><g id=\"elem_E10\"><rect fill=\"#FFFFFF\" height=\"48.2656\" id=\"E10\" rx=\"10\" ry=\"10\" style=\"stroke:#181818;stroke-width:0.5;\" width=\"49\" x=\"32.5\" y=\"150\"/><text fill=\"#000000\" font-family=\"sans-serif\" font-size=\"12\" font-style=\"italic\" lengthAdjust=\"spacing\" textLength=\"41\" x=\"36.5\" y=\"166.1387\">«item»</text><text fill=\"#000000\" font-family=\"sans-serif\" font-size=\"14\" lengthAdjust=\"spacing\" textLength=\"35\" x=\"35.5\" y=\"181.9639\">a1: A</text><line style=\"stroke:#181818;stroke-width:0.5;\" x1=\"33.5\" x2=\"80.5\" y1=\"190.2656\" y2=\"190.2656\"/></g></a><!--MD5=[1dd1bfd58a279cf63c5f349dbc8fc6a1]\n",
       "class E11--><a href=\"psysml:16572df6-eec3-489a-80d1-3b65de425cbd\" target=\"_top\" title=\"psysml:16572df6-eec3-489a-80d1-3b65de425cbd\" xlink:actuate=\"onRequest\" xlink:href=\"psysml:16572df6-eec3-489a-80d1-3b65de425cbd\" xlink:show=\"new\" xlink:title=\"psysml:16572df6-eec3-489a-80d1-3b65de425cbd\" xlink:type=\"simple\"><g id=\"elem_E11\"><rect fill=\"#FFFFFF\" height=\"48.2656\" id=\"E11\" rx=\"10\" ry=\"10\" style=\"stroke:#181818;stroke-width:0.5;\" width=\"49\" x=\"116.5\" y=\"150\"/><text fill=\"#000000\" font-family=\"sans-serif\" font-size=\"12\" font-style=\"italic\" lengthAdjust=\"spacing\" textLength=\"41\" x=\"120.5\" y=\"166.1387\">«item»</text><text fill=\"#000000\" font-family=\"sans-serif\" font-size=\"14\" lengthAdjust=\"spacing\" textLength=\"35\" x=\"119.5\" y=\"181.9639\">a2: A</text><line style=\"stroke:#181818;stroke-width:0.5;\" x1=\"117.5\" x2=\"164.5\" y1=\"190.2656\" y2=\"190.2656\"/></g></a><!--MD5=[2720a5a1f2c3fca2055b230370638851]\n",
       "link E2 to E3--><g id=\"link_E2_E3\"><a href=\"psysml:70c9c3cf-ded5-4fad-940c-650d810049d2\" target=\"_top\" title=\"psysml:70c9c3cf-ded5-4fad-940c-650d810049d2\" xlink:actuate=\"onRequest\" xlink:href=\"psysml:70c9c3cf-ded5-4fad-940c-650d810049d2\" xlink:show=\"new\" xlink:title=\"psysml:70c9c3cf-ded5-4fad-940c-650d810049d2\" xlink:type=\"simple\"><path d=\"M204.42,198.22 C194.55,211.26 181.97,227.88 170.62,242.87 \" fill=\"none\" id=\"E2-to-E3\" style=\"stroke:#181818;stroke-width:1.0;\"/><polygon fill=\"#FFFFFF\" points=\"158.54,258.83,164.4286,239.4567,175.5901,247.9078,158.54,258.83\" style=\"stroke:#181818;stroke-width:1.0;\"/><ellipse cx=\"169.4639\" cy=\"236.1197\" fill=\"#181818\" rx=\"2\" ry=\"2\" style=\"stroke:#181818;stroke-width:1.0;\"/><ellipse cx=\"177.4364\" cy=\"242.1562\" fill=\"#181818\" rx=\"2\" ry=\"2\" style=\"stroke:#181818;stroke-width:1.0;\"/></a></g><!--MD5=[4672eba38e49728da53d11aeb285b987]\n",
       "reverse link E3 to E4--><g id=\"link_E3_E4\"><a href=\"psysml:1e28e0ed-b5c0-4fac-98b2-855fbe266c1f\" target=\"_top\" title=\"psysml:1e28e0ed-b5c0-4fac-98b2-855fbe266c1f\" xlink:actuate=\"onRequest\" xlink:href=\"psysml:1e28e0ed-b5c0-4fac-98b2-855fbe266c1f\" xlink:show=\"new\" xlink:title=\"psysml:1e28e0ed-b5c0-4fac-98b2-855fbe266c1f\" xlink:type=\"simple\"><path d=\"M104.38,316.32 C90.85,330.64 77.09,348.62 70,368 C60.72,393.36 62.6,424.76 65.58,445.75 \" fill=\"none\" id=\"E3-backto-E4\" style=\"stroke:#181818;stroke-width:1.0;\"/><polygon fill=\"#181818\" points=\"113.62,307.02,106.5522,308.4507,105.1545,315.525,112.2223,314.0943,113.62,307.02\" style=\"stroke:#181818;stroke-width:1.0;\"/></a></g><!--MD5=[191cde3d490a3f6d7bb551fe3ddca469]\n",
       "reverse link E3 to E5--><g id=\"link_E3_E5\"><a href=\"psysml:b5974af5-b28c-458b-89e4-95d46de68236\" target=\"_top\" title=\"psysml:b5974af5-b28c-458b-89e4-95d46de68236\" xlink:actuate=\"onRequest\" xlink:href=\"psysml:b5974af5-b28c-458b-89e4-95d46de68236\" xlink:show=\"new\" xlink:title=\"psysml:b5974af5-b28c-458b-89e4-95d46de68236\" xlink:type=\"simple\"><path d=\"M153.39,319.83 C158.86,335.66 165.14,353.82 169.99,367.83 \" fill=\"none\" id=\"E3-backto-E5\" style=\"stroke:#181818;stroke-width:1.0;\"/><polygon fill=\"none\" points=\"149.03,307.22,147.2077,314.1971,152.9472,318.5627,154.7695,311.5856,149.03,307.22\" style=\"stroke:#181818;stroke-width:1.0;\"/></a></g><!--MD5=[79568f1e445c3877b6a54524624ccc7d]\n",
       "link E4 to E6--><g id=\"link_E4_E6\"><a href=\"psysml:83940360-bfcd-4ab6-95b9-9006ad1a30a4\" target=\"_top\" title=\"psysml:83940360-bfcd-4ab6-95b9-9006ad1a30a4\" xlink:actuate=\"onRequest\" xlink:href=\"psysml:83940360-bfcd-4ab6-95b9-9006ad1a30a4\" xlink:show=\"new\" xlink:title=\"psysml:83940360-bfcd-4ab6-95b9-9006ad1a30a4\" xlink:type=\"simple\"><path d=\"M75.57,494.29 C80.84,515.04 89.51,546.05 100,572 C108.08,591.98 118.83,613.29 128.46,631.07 \" fill=\"none\" id=\"E4-to-E6\" style=\"stroke:#181818;stroke-width:1.0;\"/><polygon fill=\"#FFFFFF\" points=\"138.29,648.76,122.9437,635.5505,135.1819,628.7515,138.29,648.76\" style=\"stroke:#181818;stroke-width:1.0;\"/><ellipse cx=\"121.9238\" cy=\"629.5965\" fill=\"#181818\" rx=\"2\" ry=\"2\" style=\"stroke:#181818;stroke-width:1.0;\"/><ellipse cx=\"130.6654\" cy=\"624.7401\" fill=\"#181818\" rx=\"2\" ry=\"2\" style=\"stroke:#181818;stroke-width:1.0;\"/></a></g><!--MD5=[3f50a3473f1dfb74d3f76443e03635af]\n",
       "reverse link E6 to E7--><g id=\"link_E6_E7\"><a href=\"psysml:c7c30ff0-7abe-445a-9147-4c620b104f3e\" target=\"_top\" title=\"psysml:c7c30ff0-7abe-445a-9147-4c620b104f3e\" xlink:actuate=\"onRequest\" xlink:href=\"psysml:c7c30ff0-7abe-445a-9147-4c620b104f3e\" xlink:show=\"new\" xlink:title=\"psysml:c7c30ff0-7abe-445a-9147-4c620b104f3e\" xlink:type=\"simple\"><path d=\"M164.05,709.83 C169.38,725.66 175.49,743.82 180.2,757.83 \" fill=\"none\" id=\"E6-backto-E7\" style=\"stroke:#181818;stroke-width:1.0;\"/><polygon fill=\"#181818\" points=\"159.81,697.22,157.9296,704.1816,163.6324,708.5949,165.5128,701.6333,159.81,697.22\" style=\"stroke:#181818;stroke-width:1.0;\"/></a></g><!--MD5=[14ccda38c055a5c0da953d572bc50960]\n",
       "link E7 to E3--><g id=\"link_E7_E3\"><a href=\"psysml:4a79bdb3-77e8-4e9c-befa-ce9a0c7716db\" target=\"_top\" title=\"psysml:4a79bdb3-77e8-4e9c-befa-ce9a0c7716db\" xlink:actuate=\"onRequest\" xlink:href=\"psysml:4a79bdb3-77e8-4e9c-befa-ce9a0c7716db\" xlink:show=\"new\" xlink:title=\"psysml:4a79bdb3-77e8-4e9c-befa-ce9a0c7716db\" xlink:type=\"simple\"><path d=\"M204.97,757.64 C218.43,736.78 235,704.84 235,674 C235,391 235,391 235,391 C235,361.35 214.38,336.01 192.46,317.43 \" fill=\"none\" id=\"E7-to-E3\" style=\"stroke:#181818;stroke-width:1.0;\"/><polygon fill=\"#FFFFFF\" points=\"176.54,305.14,195.8578,311.2081,187.3035,322.2907,176.54,305.14\" style=\"stroke:#181818;stroke-width:1.0;\"/><ellipse cx=\"199.148\" cy=\"316.2741\" fill=\"#181818\" rx=\"2\" ry=\"2\" style=\"stroke:#181818;stroke-width:1.0;\"/><ellipse cx=\"193.0378\" cy=\"324.1903\" fill=\"#181818\" rx=\"2\" ry=\"2\" style=\"stroke:#181818;stroke-width:1.0;\"/></a></g><!--MD5=[dfaffb906826c3e5aca635516100ff21]\n",
       "link E5 to E8--><g id=\"link_E5_E8\"><a href=\"psysml:d776694e-c79b-404c-b561-ae1c1a2e3f3d\" target=\"_top\" title=\"psysml:d776694e-c79b-404c-b561-ae1c1a2e3f3d\" xlink:actuate=\"onRequest\" xlink:href=\"psysml:d776694e-c79b-404c-b561-ae1c1a2e3f3d\" xlink:show=\"new\" xlink:title=\"psysml:d776694e-c79b-404c-b561-ae1c1a2e3f3d\" xlink:type=\"simple\"><path d=\"M174.11,416.06 C170.2,439.19 164.09,475.38 159.28,503.86 \" fill=\"none\" id=\"E5-to-E8\" style=\"stroke:#181818;stroke-width:1.0;\"/><polygon fill=\"#FFFFFF\" points=\"155.92,523.79,152.1809,503.8898,165.9855,506.2206,155.92,523.79\" style=\"stroke:#181818;stroke-width:1.0;\"/><ellipse cx=\"155.1019\" cy=\"498.6023\" fill=\"#181818\" rx=\"2\" ry=\"2\" style=\"stroke:#181818;stroke-width:1.0;\"/><ellipse cx=\"164.9624\" cy=\"500.2671\" fill=\"#181818\" rx=\"2\" ry=\"2\" style=\"stroke:#181818;stroke-width:1.0;\"/></a></g><!--MD5=[03c8294790d3c57651a1993cecff665f]\n",
       "reverse link E8 to E3--><g id=\"link_E8_E3\"><a href=\"psysml:c4551329-8b56-4fd0-9fbf-f2d280f6b39b\" target=\"_top\" title=\"psysml:c4551329-8b56-4fd0-9fbf-f2d280f6b39b\" xlink:actuate=\"onRequest\" xlink:href=\"psysml:c4551329-8b56-4fd0-9fbf-f2d280f6b39b\" xlink:show=\"new\" xlink:title=\"psysml:c4551329-8b56-4fd0-9fbf-f2d280f6b39b\" xlink:type=\"simple\"><path d=\"M144.62,510.88 C139.66,484.68 133.57,448.31 131,416 C129.31,394.73 129.74,389.3 131,368 C132.23,347.33 135.14,323.95 137.5,307.11 \" fill=\"none\" id=\"E8-backto-E3\" style=\"stroke:#181818;stroke-width:1.0;\"/><polygon fill=\"none\" points=\"147.16,523.94,149.9387,517.2857,144.865,512.1615,142.0863,518.8158,147.16,523.94\" style=\"stroke:#181818;stroke-width:1.0;\"/><text fill=\"#000000\" font-family=\"sans-serif\" font-size=\"13\" lengthAdjust=\"spacing\" textLength=\"7\" x=\"132\" y=\"396.5669\">y</text></a></g><!--MD5=[0d75d2178373a6a4568e5dc728f58aef]\n",
       "reverse link E8 to E6--><g id=\"link_E8_E6\"><a href=\"psysml:c4551329-8b56-4fd0-9fbf-f2d280f6b39b\" target=\"_top\" title=\"psysml:c4551329-8b56-4fd0-9fbf-f2d280f6b39b\" xlink:actuate=\"onRequest\" xlink:href=\"psysml:c4551329-8b56-4fd0-9fbf-f2d280f6b39b\" xlink:show=\"new\" xlink:title=\"psysml:c4551329-8b56-4fd0-9fbf-f2d280f6b39b\" xlink:type=\"simple\"><path d=\"M152,585.21 C152,605.83 152,631.04 152,648.97 \" fill=\"none\" id=\"E8-backto-E6\" style=\"stroke:#181818;stroke-width:1.0;\"/><polygon fill=\"none\" points=\"152,572.14,148,578.14,152,584.14,156,578.14,152,572.14\" style=\"stroke:#181818;stroke-width:1.0;\"/><text fill=\"#000000\" font-family=\"sans-serif\" font-size=\"13\" lengthAdjust=\"spacing\" textLength=\"7\" x=\"153\" y=\"615.0669\">y</text></a></g><!--MD5=[23ac544a70576c3e717098101004234c]\n",
       "reverse link E9 to E10--><g id=\"link_E9_E10\"><a href=\"psysml:5a5abb4f-4a57-47f4-8d13-1f5dca85ed3b\" target=\"_top\" title=\"psysml:5a5abb4f-4a57-47f4-8d13-1f5dca85ed3b\" xlink:actuate=\"onRequest\" xlink:href=\"psysml:5a5abb4f-4a57-47f4-8d13-1f5dca85ed3b\" xlink:show=\"new\" xlink:title=\"psysml:5a5abb4f-4a57-47f4-8d13-1f5dca85ed3b\" xlink:type=\"simple\"><path d=\"M88.47,101.35 C81.47,117.29 73.39,135.68 67.18,149.83 \" fill=\"none\" id=\"E9-backto-E10\" style=\"stroke:#181818;stroke-width:1.0;\"/><polygon fill=\"none\" points=\"93.8,89.22,87.7243,93.1041,88.9729,100.2063,95.0485,96.3222,93.8,89.22\" style=\"stroke:#181818;stroke-width:1.0;\"/></a></g><!--MD5=[feeac5eb423634930294aa81f2d25a4c]\n",
       "link E10 to E3--><g id=\"link_E10_E3\"><a href=\"psysml:d7f66802-941a-4496-884a-36d82493c03e\" target=\"_top\" title=\"psysml:d7f66802-941a-4496-884a-36d82493c03e\" xlink:actuate=\"onRequest\" xlink:href=\"psysml:d7f66802-941a-4496-884a-36d82493c03e\" xlink:show=\"new\" xlink:title=\"psysml:d7f66802-941a-4496-884a-36d82493c03e\" xlink:type=\"simple\"><path d=\"M75.23,198.22 C85.46,211.26 98.51,227.88 110.28,242.87 \" fill=\"none\" id=\"E10-to-E3\" style=\"stroke:#181818;stroke-width:1.0;\"/><polygon fill=\"#FFFFFF\" points=\"122.81,258.83,105.5676,248.214,116.5764,239.565,122.81,258.83\" style=\"stroke:#181818;stroke-width:1.0;\"/><ellipse cx=\"103.6189\" cy=\"242.4963\" fill=\"#181818\" rx=\"2\" ry=\"2\" style=\"stroke:#181818;stroke-width:1.0;\"/><ellipse cx=\"111.4823\" cy=\"236.3184\" fill=\"#181818\" rx=\"2\" ry=\"2\" style=\"stroke:#181818;stroke-width:1.0;\"/></a></g><!--MD5=[1fc04a95fd77ad5ce46c1a3027516051]\n",
       "reverse link E9 to E11--><g id=\"link_E9_E11\"><a href=\"psysml:8187499b-9a51-4939-bbf5-c8a0ee670e5b\" target=\"_top\" title=\"psysml:8187499b-9a51-4939-bbf5-c8a0ee670e5b\" xlink:actuate=\"onRequest\" xlink:href=\"psysml:8187499b-9a51-4939-bbf5-c8a0ee670e5b\" xlink:show=\"new\" xlink:title=\"psysml:8187499b-9a51-4939-bbf5-c8a0ee670e5b\" xlink:type=\"simple\"><path d=\"M116.39,101.83 C121.86,117.66 128.14,135.82 132.99,149.83 \" fill=\"none\" id=\"E9-backto-E11\" style=\"stroke:#181818;stroke-width:1.0;\"/><polygon fill=\"none\" points=\"112.03,89.22,110.2077,96.1971,115.9472,100.5627,117.7695,93.5856,112.03,89.22\" style=\"stroke:#181818;stroke-width:1.0;\"/></a></g><!--MD5=[0517f1ce58c4d5483948f93845c45e26]\n",
       "link E11 to E3--><g id=\"link_E11_E3\"><a href=\"psysml:ca7307c2-0235-4c1e-8766-bbb66b330e4f\" target=\"_top\" title=\"psysml:ca7307c2-0235-4c1e-8766-bbb66b330e4f\" xlink:actuate=\"onRequest\" xlink:href=\"psysml:ca7307c2-0235-4c1e-8766-bbb66b330e4f\" xlink:show=\"new\" xlink:title=\"psysml:ca7307c2-0235-4c1e-8766-bbb66b330e4f\" xlink:type=\"simple\"><path d=\"M141,198.22 C141,210 141,224.69 141,238.48 \" fill=\"none\" id=\"E11-to-E3\" style=\"stroke:#181818;stroke-width:1.0;\"/><polygon fill=\"#FFFFFF\" points=\"141,258.83,134,239.83,148,239.83,141,258.83\" style=\"stroke:#181818;stroke-width:1.0;\"/><ellipse cx=\"136\" cy=\"234.13\" fill=\"#181818\" rx=\"2\" ry=\"2\" style=\"stroke:#181818;stroke-width:1.0;\"/><ellipse cx=\"146\" cy=\"234.13\" fill=\"#181818\" rx=\"2\" ry=\"2\" style=\"stroke:#181818;stroke-width:1.0;\"/></a></g><!--MD5=[ce1f4d11a0bbf6d928efee3d783e9c5e]\n",
       "@startuml\r\n",
       "skin sysmlbw\r\n",
       "skinparam monochrome true\r\n",
       "skinparam wrapWidth 300\r\n",
       "hide circle\r\n",
       " \r\n",
       "package \"ItemTest\" as E1  [[psysml:cd87d2b7-4fa1-4c1b-a4f6-af691b0dec58 ]]  {\r\n",
       "comp usage \"f: A  \" as E2  <<(T,blue) item>> [[psysml:a6e7d788-746b-466d-b844-23a78300b1ae ]] {\r\n",
       "}\r\n",
       "comp def \"A\" as E3  <<(T,blue) item  def>> [[psysml:7645df02-ea24-41fb-927b-82e0988a44f2 ]] {\r\n",
       "}\r\n",
       "comp usage \"b: B  \" as E4  <<(T,blue) item>> [[psysml:426ed2e2-6591-4c8f-a505-52d546190911 ]] {\r\n",
       "}\r\n",
       "comp usage \"c: C  \" as E5  <<(T,blue) part>> [[psysml:331ec08e-03d4-4ef2-9768-da2cb6dfa326 ]] {\r\n",
       "}\r\n",
       "comp def \"<i>B</i>\" as E6  <<(T,blue) item  def>> [[psysml:1c5a109b-6d3b-4425-b763-85184515822e ]] {\r\n",
       "}\r\n",
       "comp usage \"<i>a</i>: A  \" as E7  <<(T,blue) part>> [[psysml:3d3f18ff-1114-439a-91a9-78796a10458c ]] {\r\n",
       "}\r\n",
       "comp def \"C\" as E8  <<(T,blue) part  def>> [[psysml:1568c6af-b382-4c7f-b02a-0d87dd86c0f5 ]] {\r\n",
       "}\r\n",
       "comp def \"P\" as E9  <<(T,blue) port  def>> [[psysml:7b3481ba-f47b-4c12-87df-4d6f620e6d00 ]] {\r\n",
       "}\r\n",
       "comp usage \"a1: A  \" as E10  <<(T,blue) item>> [[psysml:116f794f-fd18-4d42-8d94-9abf783d43f0 ]] {\r\n",
       "}\r\n",
       "comp usage \"a2: A  \" as E11  <<(T,blue) item>> [[psysml:16572df6-eec3-489a-80d1-3b65de425cbd ]] {\r\n",
       "}\r\n",
       "}\r\n",
       "E2 - -:|> E3 [[psysml:70c9c3cf-ded5-4fad-940c-650d810049d2 ]] \r\n",
       "E3 *- - E4 [[psysml:1e28e0ed-b5c0-4fac-98b2-855fbe266c1f ]] \r\n",
       "E3 o- - E5 [[psysml:b5974af5-b28c-458b-89e4-95d46de68236 ]] \r\n",
       "E4 - -:|> E6 [[psysml:83940360-bfcd-4ab6-95b9-9006ad1a30a4 ]] \r\n",
       "E6 *- - E7 [[psysml:c7c30ff0-7abe-445a-9147-4c620b104f3e ]] \r\n",
       "E7 - -:|> E3 [[psysml:4a79bdb3-77e8-4e9c-befa-ce9a0c7716db ]] \r\n",
       "E5 - -:|> E8 [[psysml:d776694e-c79b-404c-b561-ae1c1a2e3f3d ]] \r\n",
       "E8 o- - E3 [[psysml:c4551329-8b56-4fd0-9fbf-f2d280f6b39b ]] : y\r\n",
       "E8 o- - E6 [[psysml:c4551329-8b56-4fd0-9fbf-f2d280f6b39b ]] : y\r\n",
       "E9 o- - E10 [[psysml:5a5abb4f-4a57-47f4-8d13-1f5dca85ed3b ]] \r\n",
       "E10 - -:|> E3 [[psysml:d7f66802-941a-4496-884a-36d82493c03e ]] \r\n",
       "E9 o- - E11 [[psysml:8187499b-9a51-4939-bbf5-c8a0ee670e5b ]] \r\n",
       "E11 - -:|> E3 [[psysml:ca7307c2-0235-4c1e-8766-bbb66b330e4f ]] \r\n",
       "@enduml\r\n",
       "\n",
       "PlantUML version 1.2022.7(Mon Aug 22 17:01:30 UTC 2022)\n",
       "(EPL source distribution)\n",
       "Java Runtime: OpenJDK Runtime Environment\n",
       "JVM: OpenJDK 64-Bit Server VM\n",
       "Default Encoding: UTF-8\n",
       "Language: en\n",
       "Country: null\n",
       "--></g></svg>"
      ]
     },
     "execution_count": 8,
     "metadata": {},
     "output_type": "execute_result"
    }
   ],
   "source": [
    "%viz --style=\"COMPTREE\" --view=\"MIXED\" \"ItemTest\""
   ]
  },
  {
   "cell_type": "code",
   "execution_count": 9,
   "id": "b58af198",
   "metadata": {
    "execution": {
     "iopub.execute_input": "2024-12-16T14:15:15.946335Z",
     "iopub.status.busy": "2024-12-16T14:15:15.946090Z",
     "iopub.status.idle": "2024-12-16T14:15:15.985791Z",
     "shell.execute_reply": "2024-12-16T14:15:15.985932Z"
    }
   },
   "outputs": [
    {
     "data": {
      "image/svg+xml": [
       "<?xml version=\"1.0\" encoding=\"UTF-8\" standalone=\"no\"?><svg xmlns=\"http://www.w3.org/2000/svg\" xmlns:xlink=\"http://www.w3.org/1999/xlink\" contentStyleType=\"text/css\" height=\"829px\" preserveAspectRatio=\"none\" style=\"width:277px;height:829px;background:#FFFFFF;\" version=\"1.1\" viewBox=\"0 0 277 829\" width=\"277px\" zoomAndPan=\"magnify\"><defs/><g><!--MD5=[fbc87193dbaf4d95561dea2c320d4a47]\n",
       "cluster E1--><g id=\"cluster_E1\"><a href=\"psysml:cd87d2b7-4fa1-4c1b-a4f6-af691b0dec58\" target=\"_top\" title=\"psysml:cd87d2b7-4fa1-4c1b-a4f6-af691b0dec58\" xlink:actuate=\"onRequest\" xlink:href=\"psysml:cd87d2b7-4fa1-4c1b-a4f6-af691b0dec58\" xlink:show=\"new\" xlink:title=\"psysml:cd87d2b7-4fa1-4c1b-a4f6-af691b0dec58\" xlink:type=\"simple\"><polygon fill=\"none\" points=\"16,6,86.5,6,93.5,28.2969,260,28.2969,260,822,16,822,16,6\" style=\"stroke:#000000;stroke-width:1.5;\"/><line style=\"stroke:#000000;stroke-width:1.5;\" x1=\"16\" x2=\"93.5\" y1=\"28.2969\" y2=\"28.2969\"/><text fill=\"#000000\" font-family=\"sans-serif\" font-size=\"14\" font-weight=\"bold\" lengthAdjust=\"spacing\" textLength=\"64.5\" x=\"20\" y=\"20.9951\">ItemTest</text></a></g><!--MD5=[b4997ac47864f28c2f74865a473b2911]\n",
       "class E2--><a href=\"psysml:a6e7d788-746b-466d-b844-23a78300b1ae\" target=\"_top\" title=\"psysml:a6e7d788-746b-466d-b844-23a78300b1ae\" xlink:actuate=\"onRequest\" xlink:href=\"psysml:a6e7d788-746b-466d-b844-23a78300b1ae\" xlink:show=\"new\" xlink:title=\"psysml:a6e7d788-746b-466d-b844-23a78300b1ae\" xlink:type=\"simple\"><g id=\"elem_E2\"><rect fill=\"#FFFFFF\" height=\"48.2656\" id=\"E2\" rx=\"10\" ry=\"10\" style=\"stroke:#181818;stroke-width:0.5;\" width=\"43\" x=\"200.5\" y=\"150\"/><text fill=\"#000000\" font-family=\"sans-serif\" font-size=\"12\" font-style=\"italic\" lengthAdjust=\"spacing\" textLength=\"41\" x=\"201.5\" y=\"166.1387\">«item»</text><text fill=\"#000000\" font-family=\"sans-serif\" font-size=\"14\" lengthAdjust=\"spacing\" textLength=\"22\" x=\"207\" y=\"181.9639\">f: A</text><line style=\"stroke:#181818;stroke-width:0.5;\" x1=\"201.5\" x2=\"242.5\" y1=\"190.2656\" y2=\"190.2656\"/></g></a><!--MD5=[09b614a08d8cba4a07c9adeb5e0fee81]\n",
       "class E3--><a href=\"psysml:7645df02-ea24-41fb-927b-82e0988a44f2\" target=\"_top\" title=\"psysml:7645df02-ea24-41fb-927b-82e0988a44f2\" xlink:actuate=\"onRequest\" xlink:href=\"psysml:7645df02-ea24-41fb-927b-82e0988a44f2\" xlink:show=\"new\" xlink:title=\"psysml:7645df02-ea24-41fb-927b-82e0988a44f2\" xlink:type=\"simple\"><g id=\"elem_E3\"><rect fill=\"#FFFFFF\" height=\"48.2656\" id=\"E3\" style=\"stroke:#181818;stroke-width:0.5;\" width=\"71\" x=\"105.5\" y=\"259\"/><text fill=\"#000000\" font-family=\"sans-serif\" font-size=\"12\" font-style=\"italic\" lengthAdjust=\"spacing\" textLength=\"69\" x=\"106.5\" y=\"275.1387\">«item  def»</text><text fill=\"#000000\" font-family=\"sans-serif\" font-size=\"14\" lengthAdjust=\"spacing\" textLength=\"9\" x=\"136.5\" y=\"290.9639\">A</text><line style=\"stroke:#181818;stroke-width:0.5;\" x1=\"106.5\" x2=\"175.5\" y1=\"299.2656\" y2=\"299.2656\"/></g></a><!--MD5=[ebbe1d658d1005bcc118a6aa81145e00]\n",
       "class E4--><a href=\"psysml:426ed2e2-6591-4c8f-a505-52d546190911\" target=\"_top\" title=\"psysml:426ed2e2-6591-4c8f-a505-52d546190911\" xlink:actuate=\"onRequest\" xlink:href=\"psysml:426ed2e2-6591-4c8f-a505-52d546190911\" xlink:show=\"new\" xlink:title=\"psysml:426ed2e2-6591-4c8f-a505-52d546190911\" xlink:type=\"simple\"><g id=\"elem_E4\"><rect fill=\"#FFFFFF\" height=\"48.2656\" id=\"E4\" rx=\"10\" ry=\"10\" style=\"stroke:#181818;stroke-width:0.5;\" width=\"43\" x=\"48.5\" y=\"446\"/><text fill=\"#000000\" font-family=\"sans-serif\" font-size=\"12\" font-style=\"italic\" lengthAdjust=\"spacing\" textLength=\"41\" x=\"49.5\" y=\"462.1387\">«item»</text><text fill=\"#000000\" font-family=\"sans-serif\" font-size=\"14\" lengthAdjust=\"spacing\" textLength=\"28\" x=\"52\" y=\"477.9639\">b: B</text><line style=\"stroke:#181818;stroke-width:0.5;\" x1=\"49.5\" x2=\"90.5\" y1=\"486.2656\" y2=\"486.2656\"/></g></a><!--MD5=[270fce915f116d4de14055a7c1d9a0f3]\n",
       "class E5--><a href=\"psysml:331ec08e-03d4-4ef2-9768-da2cb6dfa326\" target=\"_top\" title=\"psysml:331ec08e-03d4-4ef2-9768-da2cb6dfa326\" xlink:actuate=\"onRequest\" xlink:href=\"psysml:331ec08e-03d4-4ef2-9768-da2cb6dfa326\" xlink:show=\"new\" xlink:title=\"psysml:331ec08e-03d4-4ef2-9768-da2cb6dfa326\" xlink:type=\"simple\"><g id=\"elem_E5\"><rect fill=\"#FFFFFF\" height=\"48.2656\" id=\"E5\" rx=\"10\" ry=\"10\" style=\"stroke:#181818;stroke-width:0.5;\" width=\"42\" x=\"157\" y=\"368\"/><text fill=\"#000000\" font-family=\"sans-serif\" font-size=\"12\" font-style=\"italic\" lengthAdjust=\"spacing\" textLength=\"40\" x=\"158\" y=\"384.1387\">«part»</text><text fill=\"#000000\" font-family=\"sans-serif\" font-size=\"14\" lengthAdjust=\"spacing\" textLength=\"27\" x=\"160.5\" y=\"399.9639\">c: C</text><line style=\"stroke:#181818;stroke-width:0.5;\" x1=\"158\" x2=\"198\" y1=\"408.2656\" y2=\"408.2656\"/></g></a><!--MD5=[60a26617385b1d2d0262a64233df1f8d]\n",
       "class E6--><a href=\"psysml:1c5a109b-6d3b-4425-b763-85184515822e\" target=\"_top\" title=\"psysml:1c5a109b-6d3b-4425-b763-85184515822e\" xlink:actuate=\"onRequest\" xlink:href=\"psysml:1c5a109b-6d3b-4425-b763-85184515822e\" xlink:show=\"new\" xlink:title=\"psysml:1c5a109b-6d3b-4425-b763-85184515822e\" xlink:type=\"simple\"><g id=\"elem_E6\"><rect fill=\"#FFFFFF\" height=\"48.2656\" id=\"E6\" style=\"stroke:#181818;stroke-width:0.5;\" width=\"71\" x=\"116.5\" y=\"649\"/><text fill=\"#000000\" font-family=\"sans-serif\" font-size=\"12\" font-style=\"italic\" lengthAdjust=\"spacing\" textLength=\"69\" x=\"117.5\" y=\"665.1387\">«item  def»</text><text fill=\"#000000\" font-family=\"sans-serif\" font-size=\"14\" font-style=\"italic\" lengthAdjust=\"spacing\" textLength=\"10\" x=\"147\" y=\"680.9639\">B</text><line style=\"stroke:#181818;stroke-width:0.5;\" x1=\"117.5\" x2=\"186.5\" y1=\"689.2656\" y2=\"689.2656\"/></g></a><!--MD5=[2156ba9850f5573cc1fc38a6a4b2f02b]\n",
       "class E7--><a href=\"psysml:3d3f18ff-1114-439a-91a9-78796a10458c\" target=\"_top\" title=\"psysml:3d3f18ff-1114-439a-91a9-78796a10458c\" xlink:actuate=\"onRequest\" xlink:href=\"psysml:3d3f18ff-1114-439a-91a9-78796a10458c\" xlink:show=\"new\" xlink:title=\"psysml:3d3f18ff-1114-439a-91a9-78796a10458c\" xlink:type=\"simple\"><g id=\"elem_E7\"><rect fill=\"#FFFFFF\" height=\"48.2656\" id=\"E7\" rx=\"10\" ry=\"10\" style=\"stroke:#181818;stroke-width:0.5;\" width=\"42\" x=\"167\" y=\"758\"/><text fill=\"#000000\" font-family=\"sans-serif\" font-size=\"12\" font-style=\"italic\" lengthAdjust=\"spacing\" textLength=\"40\" x=\"168\" y=\"774.1387\">«part»</text><text fill=\"#000000\" font-family=\"sans-serif\" font-size=\"14\" font-style=\"italic\" lengthAdjust=\"spacing\" textLength=\"8\" x=\"171\" y=\"789.9639\">a</text><text fill=\"#000000\" font-family=\"sans-serif\" font-size=\"14\" lengthAdjust=\"spacing\" textLength=\"18\" x=\"179\" y=\"789.9639\">: A</text><line style=\"stroke:#181818;stroke-width:0.5;\" x1=\"168\" x2=\"208\" y1=\"798.2656\" y2=\"798.2656\"/></g></a><!--MD5=[b9389687b975829384b498ac4b7476b2]\n",
       "class E8--><a href=\"psysml:1568c6af-b382-4c7f-b02a-0d87dd86c0f5\" target=\"_top\" title=\"psysml:1568c6af-b382-4c7f-b02a-0d87dd86c0f5\" xlink:actuate=\"onRequest\" xlink:href=\"psysml:1568c6af-b382-4c7f-b02a-0d87dd86c0f5\" xlink:show=\"new\" xlink:title=\"psysml:1568c6af-b382-4c7f-b02a-0d87dd86c0f5\" xlink:type=\"simple\"><g id=\"elem_E8\"><rect fill=\"#FFFFFF\" height=\"48.2656\" id=\"E8\" style=\"stroke:#181818;stroke-width:0.5;\" width=\"70\" x=\"117\" y=\"524\"/><text fill=\"#000000\" font-family=\"sans-serif\" font-size=\"12\" font-style=\"italic\" lengthAdjust=\"spacing\" textLength=\"68\" x=\"118\" y=\"540.1387\">«part  def»</text><text fill=\"#000000\" font-family=\"sans-serif\" font-size=\"14\" lengthAdjust=\"spacing\" textLength=\"10\" x=\"147\" y=\"555.9639\">C</text><line style=\"stroke:#181818;stroke-width:0.5;\" x1=\"118\" x2=\"186\" y1=\"564.2656\" y2=\"564.2656\"/></g></a><!--MD5=[fd4143e9d270a159db93a4ea2a975926]\n",
       "class E9--><a href=\"psysml:7b3481ba-f47b-4c12-87df-4d6f620e6d00\" target=\"_top\" title=\"psysml:7b3481ba-f47b-4c12-87df-4d6f620e6d00\" xlink:actuate=\"onRequest\" xlink:href=\"psysml:7b3481ba-f47b-4c12-87df-4d6f620e6d00\" xlink:show=\"new\" xlink:title=\"psysml:7b3481ba-f47b-4c12-87df-4d6f620e6d00\" xlink:type=\"simple\"><g id=\"elem_E9\"><rect fill=\"#FFFFFF\" height=\"48.2656\" id=\"E9\" style=\"stroke:#181818;stroke-width:0.5;\" width=\"70\" x=\"69\" y=\"41\"/><text fill=\"#000000\" font-family=\"sans-serif\" font-size=\"12\" font-style=\"italic\" lengthAdjust=\"spacing\" textLength=\"68\" x=\"70\" y=\"57.1387\">«port  def»</text><text fill=\"#000000\" font-family=\"sans-serif\" font-size=\"14\" lengthAdjust=\"spacing\" textLength=\"9\" x=\"99.5\" y=\"72.9639\">P</text><line style=\"stroke:#181818;stroke-width:0.5;\" x1=\"70\" x2=\"138\" y1=\"81.2656\" y2=\"81.2656\"/></g></a><!--MD5=[96f4274e9e20536e775497830990834d]\n",
       "class E10--><a href=\"psysml:116f794f-fd18-4d42-8d94-9abf783d43f0\" target=\"_top\" title=\"psysml:116f794f-fd18-4d42-8d94-9abf783d43f0\" xlink:actuate=\"onRequest\" xlink:href=\"psysml:116f794f-fd18-4d42-8d94-9abf783d43f0\" xlink:show=\"new\" xlink:title=\"psysml:116f794f-fd18-4d42-8d94-9abf783d43f0\" xlink:type=\"simple\"><g id=\"elem_E10\"><rect fill=\"#FFFFFF\" height=\"48.2656\" id=\"E10\" rx=\"10\" ry=\"10\" style=\"stroke:#181818;stroke-width:0.5;\" width=\"49\" x=\"32.5\" y=\"150\"/><text fill=\"#000000\" font-family=\"sans-serif\" font-size=\"12\" font-style=\"italic\" lengthAdjust=\"spacing\" textLength=\"41\" x=\"36.5\" y=\"166.1387\">«item»</text><text fill=\"#000000\" font-family=\"sans-serif\" font-size=\"14\" lengthAdjust=\"spacing\" textLength=\"35\" x=\"35.5\" y=\"181.9639\">a1: A</text><line style=\"stroke:#181818;stroke-width:0.5;\" x1=\"33.5\" x2=\"80.5\" y1=\"190.2656\" y2=\"190.2656\"/></g></a><!--MD5=[1dd1bfd58a279cf63c5f349dbc8fc6a1]\n",
       "class E11--><a href=\"psysml:16572df6-eec3-489a-80d1-3b65de425cbd\" target=\"_top\" title=\"psysml:16572df6-eec3-489a-80d1-3b65de425cbd\" xlink:actuate=\"onRequest\" xlink:href=\"psysml:16572df6-eec3-489a-80d1-3b65de425cbd\" xlink:show=\"new\" xlink:title=\"psysml:16572df6-eec3-489a-80d1-3b65de425cbd\" xlink:type=\"simple\"><g id=\"elem_E11\"><rect fill=\"#FFFFFF\" height=\"48.2656\" id=\"E11\" rx=\"10\" ry=\"10\" style=\"stroke:#181818;stroke-width:0.5;\" width=\"49\" x=\"116.5\" y=\"150\"/><text fill=\"#000000\" font-family=\"sans-serif\" font-size=\"12\" font-style=\"italic\" lengthAdjust=\"spacing\" textLength=\"41\" x=\"120.5\" y=\"166.1387\">«item»</text><text fill=\"#000000\" font-family=\"sans-serif\" font-size=\"14\" lengthAdjust=\"spacing\" textLength=\"35\" x=\"119.5\" y=\"181.9639\">a2: A</text><line style=\"stroke:#181818;stroke-width:0.5;\" x1=\"117.5\" x2=\"164.5\" y1=\"190.2656\" y2=\"190.2656\"/></g></a><!--MD5=[2720a5a1f2c3fca2055b230370638851]\n",
       "link E2 to E3--><g id=\"link_E2_E3\"><a href=\"psysml:70c9c3cf-ded5-4fad-940c-650d810049d2\" target=\"_top\" title=\"psysml:70c9c3cf-ded5-4fad-940c-650d810049d2\" xlink:actuate=\"onRequest\" xlink:href=\"psysml:70c9c3cf-ded5-4fad-940c-650d810049d2\" xlink:show=\"new\" xlink:title=\"psysml:70c9c3cf-ded5-4fad-940c-650d810049d2\" xlink:type=\"simple\"><path d=\"M204.42,198.22 C194.55,211.26 181.97,227.88 170.62,242.87 \" fill=\"none\" id=\"E2-to-E3\" style=\"stroke:#181818;stroke-width:1.0;\"/><polygon fill=\"#FFFFFF\" points=\"158.54,258.83,164.4286,239.4567,175.5901,247.9078,158.54,258.83\" style=\"stroke:#181818;stroke-width:1.0;\"/><ellipse cx=\"169.4639\" cy=\"236.1197\" fill=\"#181818\" rx=\"2\" ry=\"2\" style=\"stroke:#181818;stroke-width:1.0;\"/><ellipse cx=\"177.4364\" cy=\"242.1562\" fill=\"#181818\" rx=\"2\" ry=\"2\" style=\"stroke:#181818;stroke-width:1.0;\"/></a></g><!--MD5=[4672eba38e49728da53d11aeb285b987]\n",
       "reverse link E3 to E4--><g id=\"link_E3_E4\"><a href=\"psysml:1e28e0ed-b5c0-4fac-98b2-855fbe266c1f\" target=\"_top\" title=\"psysml:1e28e0ed-b5c0-4fac-98b2-855fbe266c1f\" xlink:actuate=\"onRequest\" xlink:href=\"psysml:1e28e0ed-b5c0-4fac-98b2-855fbe266c1f\" xlink:show=\"new\" xlink:title=\"psysml:1e28e0ed-b5c0-4fac-98b2-855fbe266c1f\" xlink:type=\"simple\"><path d=\"M112.72,317.45 C92.93,340.88 70,368 70,368 C70,368 70,416.01 70,445.83 \" fill=\"none\" id=\"E3-backto-E4\" style=\"stroke:#181818;stroke-width:1.0;\"/><polygon fill=\"#181818\" points=\"121.22,307.4,114.2926,309.4028,113.477,316.5676,120.4044,314.5648,121.22,307.4\" style=\"stroke:#181818;stroke-width:1.0;\"/></a></g><!--MD5=[191cde3d490a3f6d7bb551fe3ddca469]\n",
       "reverse link E3 to E5--><g id=\"link_E3_E5\"><a href=\"psysml:b5974af5-b28c-458b-89e4-95d46de68236\" target=\"_top\" title=\"psysml:b5974af5-b28c-458b-89e4-95d46de68236\" xlink:actuate=\"onRequest\" xlink:href=\"psysml:b5974af5-b28c-458b-89e4-95d46de68236\" xlink:show=\"new\" xlink:title=\"psysml:b5974af5-b28c-458b-89e4-95d46de68236\" xlink:type=\"simple\"><path d=\"M153.39,319.83 C158.86,335.66 165.14,353.82 169.99,367.83 \" fill=\"none\" id=\"E3-backto-E5\" style=\"stroke:#181818;stroke-width:1.0;\"/><polygon fill=\"none\" points=\"149.03,307.22,147.2077,314.1971,152.9472,318.5627,154.7695,311.5856,149.03,307.22\" style=\"stroke:#181818;stroke-width:1.0;\"/></a></g><!--MD5=[79568f1e445c3877b6a54524624ccc7d]\n",
       "link E4 to E6--><g id=\"link_E4_E6\"><a href=\"psysml:83940360-bfcd-4ab6-95b9-9006ad1a30a4\" target=\"_top\" title=\"psysml:83940360-bfcd-4ab6-95b9-9006ad1a30a4\" xlink:actuate=\"onRequest\" xlink:href=\"psysml:83940360-bfcd-4ab6-95b9-9006ad1a30a4\" xlink:show=\"new\" xlink:title=\"psysml:83940360-bfcd-4ab6-95b9-9006ad1a30a4\" xlink:type=\"simple\"><path d=\"M76.88,494.17 C85.74,523.99 100,572 100,572 C100,572 116.23,603.2 130.55,630.75 \" fill=\"none\" id=\"E4-to-E6\" style=\"stroke:#181818;stroke-width:1.0;\"/><polygon fill=\"#FFFFFF\" points=\"139.94,648.81,124.9624,635.1839,137.3828,628.7237,139.94,648.81\" style=\"stroke:#181818;stroke-width:1.0;\"/><ellipse cx=\"124.1065\" cy=\"629.2041\" fill=\"#181818\" rx=\"2\" ry=\"2\" style=\"stroke:#181818;stroke-width:1.0;\"/><ellipse cx=\"132.9782\" cy=\"624.5897\" fill=\"#181818\" rx=\"2\" ry=\"2\" style=\"stroke:#181818;stroke-width:1.0;\"/></a></g><!--MD5=[3f50a3473f1dfb74d3f76443e03635af]\n",
       "reverse link E6 to E7--><g id=\"link_E6_E7\"><a href=\"psysml:c7c30ff0-7abe-445a-9147-4c620b104f3e\" target=\"_top\" title=\"psysml:c7c30ff0-7abe-445a-9147-4c620b104f3e\" xlink:actuate=\"onRequest\" xlink:href=\"psysml:c7c30ff0-7abe-445a-9147-4c620b104f3e\" xlink:show=\"new\" xlink:title=\"psysml:c7c30ff0-7abe-445a-9147-4c620b104f3e\" xlink:type=\"simple\"><path d=\"M164.05,709.83 C169.38,725.66 175.49,743.82 180.2,757.83 \" fill=\"none\" id=\"E6-backto-E7\" style=\"stroke:#181818;stroke-width:1.0;\"/><polygon fill=\"#181818\" points=\"159.81,697.22,157.9296,704.1816,163.6324,708.5949,165.5128,701.6333,159.81,697.22\" style=\"stroke:#181818;stroke-width:1.0;\"/></a></g><!--MD5=[14ccda38c055a5c0da953d572bc50960]\n",
       "link E7 to E3--><g id=\"link_E7_E3\"><a href=\"psysml:4a79bdb3-77e8-4e9c-befa-ce9a0c7716db\" target=\"_top\" title=\"psysml:4a79bdb3-77e8-4e9c-befa-ce9a0c7716db\" xlink:actuate=\"onRequest\" xlink:href=\"psysml:4a79bdb3-77e8-4e9c-befa-ce9a0c7716db\" xlink:show=\"new\" xlink:title=\"psysml:4a79bdb3-77e8-4e9c-befa-ce9a0c7716db\" xlink:type=\"simple\"><path d=\"M198.2,757.78 C212.02,726.31 235,674 235,674 C235,391 235,391 235,391 C235,391 217,368 217,368 C217,368 195.85,344.63 175.87,322.54 \" fill=\"none\" id=\"E7-to-E3\" style=\"stroke:#181818;stroke-width:1.0;\"/><polygon fill=\"#FFFFFF\" points=\"162.17,307.4,180.1124,316.7846,169.7351,326.1821,162.17,307.4\" style=\"stroke:#181818;stroke-width:1.0;\"/><ellipse cx=\"182.456\" cy=\"322.3522\" fill=\"#181818\" rx=\"2\" ry=\"2\" style=\"stroke:#181818;stroke-width:1.0;\"/><ellipse cx=\"175.0437\" cy=\"329.0647\" fill=\"#181818\" rx=\"2\" ry=\"2\" style=\"stroke:#181818;stroke-width:1.0;\"/></a></g><!--MD5=[dfaffb906826c3e5aca635516100ff21]\n",
       "link E5 to E8--><g id=\"link_E5_E8\"><a href=\"psysml:d776694e-c79b-404c-b561-ae1c1a2e3f3d\" target=\"_top\" title=\"psysml:d776694e-c79b-404c-b561-ae1c1a2e3f3d\" xlink:actuate=\"onRequest\" xlink:href=\"psysml:d776694e-c79b-404c-b561-ae1c1a2e3f3d\" xlink:show=\"new\" xlink:title=\"psysml:d776694e-c79b-404c-b561-ae1c1a2e3f3d\" xlink:type=\"simple\"><path d=\"M174.11,416.06 C170.2,439.19 164.09,475.38 159.28,503.86 \" fill=\"none\" id=\"E5-to-E8\" style=\"stroke:#181818;stroke-width:1.0;\"/><polygon fill=\"#FFFFFF\" points=\"155.92,523.79,152.1809,503.8898,165.9855,506.2206,155.92,523.79\" style=\"stroke:#181818;stroke-width:1.0;\"/><ellipse cx=\"155.1019\" cy=\"498.6023\" fill=\"#181818\" rx=\"2\" ry=\"2\" style=\"stroke:#181818;stroke-width:1.0;\"/><ellipse cx=\"164.9624\" cy=\"500.2671\" fill=\"#181818\" rx=\"2\" ry=\"2\" style=\"stroke:#181818;stroke-width:1.0;\"/></a></g><!--MD5=[03c8294790d3c57651a1993cecff665f]\n",
       "reverse link E8 to E3--><g id=\"link_E8_E3\"><a href=\"psysml:c4551329-8b56-4fd0-9fbf-f2d280f6b39b\" target=\"_top\" title=\"psysml:c4551329-8b56-4fd0-9fbf-f2d280f6b39b\" xlink:actuate=\"onRequest\" xlink:href=\"psysml:c4551329-8b56-4fd0-9fbf-f2d280f6b39b\" xlink:show=\"new\" xlink:title=\"psysml:c4551329-8b56-4fd0-9fbf-f2d280f6b39b\" xlink:type=\"simple\"><path d=\"M146.23,511.01 C140.01,472.23 131,416 131,416 C131,416 131,368 131,368 C131,368 135.26,332.25 138.21,307.4 \" fill=\"none\" id=\"E8-backto-E3\" style=\"stroke:#181818;stroke-width:1.0;\"/><polygon fill=\"none\" points=\"148.29,523.88,151.2907,517.3229,146.3921,512.031,143.3914,518.5882,148.29,523.88\" style=\"stroke:#181818;stroke-width:1.0;\"/><text fill=\"#000000\" font-family=\"sans-serif\" font-size=\"13\" lengthAdjust=\"spacing\" textLength=\"7\" x=\"132\" y=\"396.5669\">y</text></a></g><!--MD5=[0d75d2178373a6a4568e5dc728f58aef]\n",
       "reverse link E8 to E6--><g id=\"link_E8_E6\"><a href=\"psysml:c4551329-8b56-4fd0-9fbf-f2d280f6b39b\" target=\"_top\" title=\"psysml:c4551329-8b56-4fd0-9fbf-f2d280f6b39b\" xlink:actuate=\"onRequest\" xlink:href=\"psysml:c4551329-8b56-4fd0-9fbf-f2d280f6b39b\" xlink:show=\"new\" xlink:title=\"psysml:c4551329-8b56-4fd0-9fbf-f2d280f6b39b\" xlink:type=\"simple\"><path d=\"M152,585.21 C152,605.83 152,631.04 152,648.97 \" fill=\"none\" id=\"E8-backto-E6\" style=\"stroke:#181818;stroke-width:1.0;\"/><polygon fill=\"none\" points=\"152,572.14,148,578.14,152,584.14,156,578.14,152,572.14\" style=\"stroke:#181818;stroke-width:1.0;\"/><text fill=\"#000000\" font-family=\"sans-serif\" font-size=\"13\" lengthAdjust=\"spacing\" textLength=\"7\" x=\"153\" y=\"615.0669\">y</text></a></g><!--MD5=[23ac544a70576c3e717098101004234c]\n",
       "reverse link E9 to E10--><g id=\"link_E9_E10\"><a href=\"psysml:5a5abb4f-4a57-47f4-8d13-1f5dca85ed3b\" target=\"_top\" title=\"psysml:5a5abb4f-4a57-47f4-8d13-1f5dca85ed3b\" xlink:actuate=\"onRequest\" xlink:href=\"psysml:5a5abb4f-4a57-47f4-8d13-1f5dca85ed3b\" xlink:show=\"new\" xlink:title=\"psysml:5a5abb4f-4a57-47f4-8d13-1f5dca85ed3b\" xlink:type=\"simple\"><path d=\"M88.47,101.35 C81.47,117.29 73.39,135.68 67.18,149.83 \" fill=\"none\" id=\"E9-backto-E10\" style=\"stroke:#181818;stroke-width:1.0;\"/><polygon fill=\"none\" points=\"93.8,89.22,87.7243,93.1041,88.9729,100.2063,95.0485,96.3222,93.8,89.22\" style=\"stroke:#181818;stroke-width:1.0;\"/></a></g><!--MD5=[feeac5eb423634930294aa81f2d25a4c]\n",
       "link E10 to E3--><g id=\"link_E10_E3\"><a href=\"psysml:d7f66802-941a-4496-884a-36d82493c03e\" target=\"_top\" title=\"psysml:d7f66802-941a-4496-884a-36d82493c03e\" xlink:actuate=\"onRequest\" xlink:href=\"psysml:d7f66802-941a-4496-884a-36d82493c03e\" xlink:show=\"new\" xlink:title=\"psysml:d7f66802-941a-4496-884a-36d82493c03e\" xlink:type=\"simple\"><path d=\"M75.23,198.22 C85.46,211.26 98.51,227.88 110.28,242.87 \" fill=\"none\" id=\"E10-to-E3\" style=\"stroke:#181818;stroke-width:1.0;\"/><polygon fill=\"#FFFFFF\" points=\"122.81,258.83,105.5676,248.214,116.5764,239.565,122.81,258.83\" style=\"stroke:#181818;stroke-width:1.0;\"/><ellipse cx=\"103.6189\" cy=\"242.4963\" fill=\"#181818\" rx=\"2\" ry=\"2\" style=\"stroke:#181818;stroke-width:1.0;\"/><ellipse cx=\"111.4823\" cy=\"236.3184\" fill=\"#181818\" rx=\"2\" ry=\"2\" style=\"stroke:#181818;stroke-width:1.0;\"/></a></g><!--MD5=[1fc04a95fd77ad5ce46c1a3027516051]\n",
       "reverse link E9 to E11--><g id=\"link_E9_E11\"><a href=\"psysml:8187499b-9a51-4939-bbf5-c8a0ee670e5b\" target=\"_top\" title=\"psysml:8187499b-9a51-4939-bbf5-c8a0ee670e5b\" xlink:actuate=\"onRequest\" xlink:href=\"psysml:8187499b-9a51-4939-bbf5-c8a0ee670e5b\" xlink:show=\"new\" xlink:title=\"psysml:8187499b-9a51-4939-bbf5-c8a0ee670e5b\" xlink:type=\"simple\"><path d=\"M116.39,101.83 C121.86,117.66 128.14,135.82 132.99,149.83 \" fill=\"none\" id=\"E9-backto-E11\" style=\"stroke:#181818;stroke-width:1.0;\"/><polygon fill=\"none\" points=\"112.03,89.22,110.2077,96.1971,115.9472,100.5627,117.7695,93.5856,112.03,89.22\" style=\"stroke:#181818;stroke-width:1.0;\"/></a></g><!--MD5=[0517f1ce58c4d5483948f93845c45e26]\n",
       "link E11 to E3--><g id=\"link_E11_E3\"><a href=\"psysml:ca7307c2-0235-4c1e-8766-bbb66b330e4f\" target=\"_top\" title=\"psysml:ca7307c2-0235-4c1e-8766-bbb66b330e4f\" xlink:actuate=\"onRequest\" xlink:href=\"psysml:ca7307c2-0235-4c1e-8766-bbb66b330e4f\" xlink:show=\"new\" xlink:title=\"psysml:ca7307c2-0235-4c1e-8766-bbb66b330e4f\" xlink:type=\"simple\"><path d=\"M141,198.22 C141,210 141,224.69 141,238.48 \" fill=\"none\" id=\"E11-to-E3\" style=\"stroke:#181818;stroke-width:1.0;\"/><polygon fill=\"#FFFFFF\" points=\"141,258.83,134,239.83,148,239.83,141,258.83\" style=\"stroke:#181818;stroke-width:1.0;\"/><ellipse cx=\"136\" cy=\"234.13\" fill=\"#181818\" rx=\"2\" ry=\"2\" style=\"stroke:#181818;stroke-width:1.0;\"/><ellipse cx=\"146\" cy=\"234.13\" fill=\"#181818\" rx=\"2\" ry=\"2\" style=\"stroke:#181818;stroke-width:1.0;\"/></a></g><!--MD5=[747379a0d354850628a6cb0ecfcfa820]\n",
       "@startuml\r\n",
       "skin sysmlbw\r\n",
       "skinparam monochrome true\r\n",
       "skinparam wrapWidth 300\r\n",
       "hide circle\r\n",
       "skinparam linetype polyline\r\n",
       "\r\n",
       "package \"ItemTest\" as E1  [[psysml:cd87d2b7-4fa1-4c1b-a4f6-af691b0dec58 ]]  {\r\n",
       "comp usage \"f: A  \" as E2  <<(T,blue) item>> [[psysml:a6e7d788-746b-466d-b844-23a78300b1ae ]] {\r\n",
       "}\r\n",
       "comp def \"A\" as E3  <<(T,blue) item  def>> [[psysml:7645df02-ea24-41fb-927b-82e0988a44f2 ]] {\r\n",
       "}\r\n",
       "comp usage \"b: B  \" as E4  <<(T,blue) item>> [[psysml:426ed2e2-6591-4c8f-a505-52d546190911 ]] {\r\n",
       "}\r\n",
       "comp usage \"c: C  \" as E5  <<(T,blue) part>> [[psysml:331ec08e-03d4-4ef2-9768-da2cb6dfa326 ]] {\r\n",
       "}\r\n",
       "comp def \"<i>B</i>\" as E6  <<(T,blue) item  def>> [[psysml:1c5a109b-6d3b-4425-b763-85184515822e ]] {\r\n",
       "}\r\n",
       "comp usage \"<i>a</i>: A  \" as E7  <<(T,blue) part>> [[psysml:3d3f18ff-1114-439a-91a9-78796a10458c ]] {\r\n",
       "}\r\n",
       "comp def \"C\" as E8  <<(T,blue) part  def>> [[psysml:1568c6af-b382-4c7f-b02a-0d87dd86c0f5 ]] {\r\n",
       "}\r\n",
       "comp def \"P\" as E9  <<(T,blue) port  def>> [[psysml:7b3481ba-f47b-4c12-87df-4d6f620e6d00 ]] {\r\n",
       "}\r\n",
       "comp usage \"a1: A  \" as E10  <<(T,blue) item>> [[psysml:116f794f-fd18-4d42-8d94-9abf783d43f0 ]] {\r\n",
       "}\r\n",
       "comp usage \"a2: A  \" as E11  <<(T,blue) item>> [[psysml:16572df6-eec3-489a-80d1-3b65de425cbd ]] {\r\n",
       "}\r\n",
       "}\r\n",
       "E2 - -:|> E3 [[psysml:70c9c3cf-ded5-4fad-940c-650d810049d2 ]] \r\n",
       "E3 *- - E4 [[psysml:1e28e0ed-b5c0-4fac-98b2-855fbe266c1f ]] \r\n",
       "E3 o- - E5 [[psysml:b5974af5-b28c-458b-89e4-95d46de68236 ]] \r\n",
       "E4 - -:|> E6 [[psysml:83940360-bfcd-4ab6-95b9-9006ad1a30a4 ]] \r\n",
       "E6 *- - E7 [[psysml:c7c30ff0-7abe-445a-9147-4c620b104f3e ]] \r\n",
       "E7 - -:|> E3 [[psysml:4a79bdb3-77e8-4e9c-befa-ce9a0c7716db ]] \r\n",
       "E5 - -:|> E8 [[psysml:d776694e-c79b-404c-b561-ae1c1a2e3f3d ]] \r\n",
       "E8 o- - E3 [[psysml:c4551329-8b56-4fd0-9fbf-f2d280f6b39b ]] : y\r\n",
       "E8 o- - E6 [[psysml:c4551329-8b56-4fd0-9fbf-f2d280f6b39b ]] : y\r\n",
       "E9 o- - E10 [[psysml:5a5abb4f-4a57-47f4-8d13-1f5dca85ed3b ]] \r\n",
       "E10 - -:|> E3 [[psysml:d7f66802-941a-4496-884a-36d82493c03e ]] \r\n",
       "E9 o- - E11 [[psysml:8187499b-9a51-4939-bbf5-c8a0ee670e5b ]] \r\n",
       "E11 - -:|> E3 [[psysml:ca7307c2-0235-4c1e-8766-bbb66b330e4f ]] \r\n",
       "@enduml\r\n",
       "\n",
       "PlantUML version 1.2022.7(Mon Aug 22 17:01:30 UTC 2022)\n",
       "(EPL source distribution)\n",
       "Java Runtime: OpenJDK Runtime Environment\n",
       "JVM: OpenJDK 64-Bit Server VM\n",
       "Default Encoding: UTF-8\n",
       "Language: en\n",
       "Country: null\n",
       "--></g></svg>"
      ]
     },
     "execution_count": 9,
     "metadata": {},
     "output_type": "execute_result"
    }
   ],
   "source": [
    "%viz --style=\"POLYLINE\" --view=\"Default\" \"ItemTest\""
   ]
  },
  {
   "cell_type": "code",
   "execution_count": 10,
   "id": "4a5c121c",
   "metadata": {
    "execution": {
     "iopub.execute_input": "2024-12-16T14:15:16.037348Z",
     "iopub.status.busy": "2024-12-16T14:15:16.037117Z",
     "iopub.status.idle": "2024-12-16T14:15:16.081379Z",
     "shell.execute_reply": "2024-12-16T14:15:16.081516Z"
    }
   },
   "outputs": [
    {
     "data": {
      "image/svg+xml": [
       "<?xml version=\"1.0\" encoding=\"UTF-8\" standalone=\"no\"?><svg xmlns=\"http://www.w3.org/2000/svg\" xmlns:xlink=\"http://www.w3.org/1999/xlink\" contentStyleType=\"text/css\" height=\"829px\" preserveAspectRatio=\"none\" style=\"width:277px;height:829px;background:#FFFFFF;\" version=\"1.1\" viewBox=\"0 0 277 829\" width=\"277px\" zoomAndPan=\"magnify\"><defs/><g><!--MD5=[fbc87193dbaf4d95561dea2c320d4a47]\n",
       "cluster E1--><g id=\"cluster_E1\"><a href=\"psysml:cd87d2b7-4fa1-4c1b-a4f6-af691b0dec58\" target=\"_top\" title=\"psysml:cd87d2b7-4fa1-4c1b-a4f6-af691b0dec58\" xlink:actuate=\"onRequest\" xlink:href=\"psysml:cd87d2b7-4fa1-4c1b-a4f6-af691b0dec58\" xlink:show=\"new\" xlink:title=\"psysml:cd87d2b7-4fa1-4c1b-a4f6-af691b0dec58\" xlink:type=\"simple\"><polygon fill=\"none\" points=\"16,6,86.5,6,93.5,28.2969,260,28.2969,260,822,16,822,16,6\" style=\"stroke:#000000;stroke-width:1.5;\"/><line style=\"stroke:#000000;stroke-width:1.5;\" x1=\"16\" x2=\"93.5\" y1=\"28.2969\" y2=\"28.2969\"/><text fill=\"#000000\" font-family=\"sans-serif\" font-size=\"14\" font-weight=\"bold\" lengthAdjust=\"spacing\" textLength=\"64.5\" x=\"20\" y=\"20.9951\">ItemTest</text></a></g><!--MD5=[b4997ac47864f28c2f74865a473b2911]\n",
       "class E2--><a href=\"psysml:a6e7d788-746b-466d-b844-23a78300b1ae\" target=\"_top\" title=\"psysml:a6e7d788-746b-466d-b844-23a78300b1ae\" xlink:actuate=\"onRequest\" xlink:href=\"psysml:a6e7d788-746b-466d-b844-23a78300b1ae\" xlink:show=\"new\" xlink:title=\"psysml:a6e7d788-746b-466d-b844-23a78300b1ae\" xlink:type=\"simple\"><g id=\"elem_E2\"><rect fill=\"#FFFFFF\" height=\"48.2656\" id=\"E2\" rx=\"10\" ry=\"10\" style=\"stroke:#181818;stroke-width:0.5;\" width=\"43\" x=\"200.5\" y=\"150\"/><text fill=\"#000000\" font-family=\"sans-serif\" font-size=\"12\" font-style=\"italic\" lengthAdjust=\"spacing\" textLength=\"41\" x=\"201.5\" y=\"166.1387\">«item»</text><text fill=\"#000000\" font-family=\"sans-serif\" font-size=\"14\" lengthAdjust=\"spacing\" textLength=\"22\" x=\"207\" y=\"181.9639\">f: A</text><line style=\"stroke:#181818;stroke-width:0.5;\" x1=\"201.5\" x2=\"242.5\" y1=\"190.2656\" y2=\"190.2656\"/></g></a><!--MD5=[09b614a08d8cba4a07c9adeb5e0fee81]\n",
       "class E3--><a href=\"psysml:7645df02-ea24-41fb-927b-82e0988a44f2\" target=\"_top\" title=\"psysml:7645df02-ea24-41fb-927b-82e0988a44f2\" xlink:actuate=\"onRequest\" xlink:href=\"psysml:7645df02-ea24-41fb-927b-82e0988a44f2\" xlink:show=\"new\" xlink:title=\"psysml:7645df02-ea24-41fb-927b-82e0988a44f2\" xlink:type=\"simple\"><g id=\"elem_E3\"><rect fill=\"#FFFFFF\" height=\"48.2656\" id=\"E3\" style=\"stroke:#181818;stroke-width:0.5;\" width=\"71\" x=\"105.5\" y=\"259\"/><text fill=\"#000000\" font-family=\"sans-serif\" font-size=\"12\" font-style=\"italic\" lengthAdjust=\"spacing\" textLength=\"69\" x=\"106.5\" y=\"275.1387\">«item  def»</text><text fill=\"#000000\" font-family=\"sans-serif\" font-size=\"14\" lengthAdjust=\"spacing\" textLength=\"9\" x=\"136.5\" y=\"290.9639\">A</text><line style=\"stroke:#181818;stroke-width:0.5;\" x1=\"106.5\" x2=\"175.5\" y1=\"299.2656\" y2=\"299.2656\"/></g></a><!--MD5=[ebbe1d658d1005bcc118a6aa81145e00]\n",
       "class E4--><a href=\"psysml:426ed2e2-6591-4c8f-a505-52d546190911\" target=\"_top\" title=\"psysml:426ed2e2-6591-4c8f-a505-52d546190911\" xlink:actuate=\"onRequest\" xlink:href=\"psysml:426ed2e2-6591-4c8f-a505-52d546190911\" xlink:show=\"new\" xlink:title=\"psysml:426ed2e2-6591-4c8f-a505-52d546190911\" xlink:type=\"simple\"><g id=\"elem_E4\"><rect fill=\"#FFFFFF\" height=\"48.2656\" id=\"E4\" rx=\"10\" ry=\"10\" style=\"stroke:#181818;stroke-width:0.5;\" width=\"43\" x=\"48.5\" y=\"446\"/><text fill=\"#000000\" font-family=\"sans-serif\" font-size=\"12\" font-style=\"italic\" lengthAdjust=\"spacing\" textLength=\"41\" x=\"49.5\" y=\"462.1387\">«item»</text><text fill=\"#000000\" font-family=\"sans-serif\" font-size=\"14\" lengthAdjust=\"spacing\" textLength=\"28\" x=\"52\" y=\"477.9639\">b: B</text><line style=\"stroke:#181818;stroke-width:0.5;\" x1=\"49.5\" x2=\"90.5\" y1=\"486.2656\" y2=\"486.2656\"/></g></a><!--MD5=[270fce915f116d4de14055a7c1d9a0f3]\n",
       "class E5--><a href=\"psysml:331ec08e-03d4-4ef2-9768-da2cb6dfa326\" target=\"_top\" title=\"psysml:331ec08e-03d4-4ef2-9768-da2cb6dfa326\" xlink:actuate=\"onRequest\" xlink:href=\"psysml:331ec08e-03d4-4ef2-9768-da2cb6dfa326\" xlink:show=\"new\" xlink:title=\"psysml:331ec08e-03d4-4ef2-9768-da2cb6dfa326\" xlink:type=\"simple\"><g id=\"elem_E5\"><rect fill=\"#FFFFFF\" height=\"48.2656\" id=\"E5\" rx=\"10\" ry=\"10\" style=\"stroke:#181818;stroke-width:0.5;\" width=\"42\" x=\"157\" y=\"368\"/><text fill=\"#000000\" font-family=\"sans-serif\" font-size=\"12\" font-style=\"italic\" lengthAdjust=\"spacing\" textLength=\"40\" x=\"158\" y=\"384.1387\">«part»</text><text fill=\"#000000\" font-family=\"sans-serif\" font-size=\"14\" lengthAdjust=\"spacing\" textLength=\"27\" x=\"160.5\" y=\"399.9639\">c: C</text><line style=\"stroke:#181818;stroke-width:0.5;\" x1=\"158\" x2=\"198\" y1=\"408.2656\" y2=\"408.2656\"/></g></a><!--MD5=[60a26617385b1d2d0262a64233df1f8d]\n",
       "class E6--><a href=\"psysml:1c5a109b-6d3b-4425-b763-85184515822e\" target=\"_top\" title=\"psysml:1c5a109b-6d3b-4425-b763-85184515822e\" xlink:actuate=\"onRequest\" xlink:href=\"psysml:1c5a109b-6d3b-4425-b763-85184515822e\" xlink:show=\"new\" xlink:title=\"psysml:1c5a109b-6d3b-4425-b763-85184515822e\" xlink:type=\"simple\"><g id=\"elem_E6\"><rect fill=\"#FFFFFF\" height=\"48.2656\" id=\"E6\" style=\"stroke:#181818;stroke-width:0.5;\" width=\"71\" x=\"116.5\" y=\"649\"/><text fill=\"#000000\" font-family=\"sans-serif\" font-size=\"12\" font-style=\"italic\" lengthAdjust=\"spacing\" textLength=\"69\" x=\"117.5\" y=\"665.1387\">«item  def»</text><text fill=\"#000000\" font-family=\"sans-serif\" font-size=\"14\" font-style=\"italic\" lengthAdjust=\"spacing\" textLength=\"10\" x=\"147\" y=\"680.9639\">B</text><line style=\"stroke:#181818;stroke-width:0.5;\" x1=\"117.5\" x2=\"186.5\" y1=\"689.2656\" y2=\"689.2656\"/></g></a><!--MD5=[2156ba9850f5573cc1fc38a6a4b2f02b]\n",
       "class E7--><a href=\"psysml:3d3f18ff-1114-439a-91a9-78796a10458c\" target=\"_top\" title=\"psysml:3d3f18ff-1114-439a-91a9-78796a10458c\" xlink:actuate=\"onRequest\" xlink:href=\"psysml:3d3f18ff-1114-439a-91a9-78796a10458c\" xlink:show=\"new\" xlink:title=\"psysml:3d3f18ff-1114-439a-91a9-78796a10458c\" xlink:type=\"simple\"><g id=\"elem_E7\"><rect fill=\"#FFFFFF\" height=\"48.2656\" id=\"E7\" rx=\"10\" ry=\"10\" style=\"stroke:#181818;stroke-width:0.5;\" width=\"42\" x=\"167\" y=\"758\"/><text fill=\"#000000\" font-family=\"sans-serif\" font-size=\"12\" font-style=\"italic\" lengthAdjust=\"spacing\" textLength=\"40\" x=\"168\" y=\"774.1387\">«part»</text><text fill=\"#000000\" font-family=\"sans-serif\" font-size=\"14\" font-style=\"italic\" lengthAdjust=\"spacing\" textLength=\"8\" x=\"171\" y=\"789.9639\">a</text><text fill=\"#000000\" font-family=\"sans-serif\" font-size=\"14\" lengthAdjust=\"spacing\" textLength=\"18\" x=\"179\" y=\"789.9639\">: A</text><line style=\"stroke:#181818;stroke-width:0.5;\" x1=\"168\" x2=\"208\" y1=\"798.2656\" y2=\"798.2656\"/></g></a><!--MD5=[b9389687b975829384b498ac4b7476b2]\n",
       "class E8--><a href=\"psysml:1568c6af-b382-4c7f-b02a-0d87dd86c0f5\" target=\"_top\" title=\"psysml:1568c6af-b382-4c7f-b02a-0d87dd86c0f5\" xlink:actuate=\"onRequest\" xlink:href=\"psysml:1568c6af-b382-4c7f-b02a-0d87dd86c0f5\" xlink:show=\"new\" xlink:title=\"psysml:1568c6af-b382-4c7f-b02a-0d87dd86c0f5\" xlink:type=\"simple\"><g id=\"elem_E8\"><rect fill=\"#FFFFFF\" height=\"48.2656\" id=\"E8\" style=\"stroke:#181818;stroke-width:0.5;\" width=\"70\" x=\"117\" y=\"524\"/><text fill=\"#000000\" font-family=\"sans-serif\" font-size=\"12\" font-style=\"italic\" lengthAdjust=\"spacing\" textLength=\"68\" x=\"118\" y=\"540.1387\">«part  def»</text><text fill=\"#000000\" font-family=\"sans-serif\" font-size=\"14\" lengthAdjust=\"spacing\" textLength=\"10\" x=\"147\" y=\"555.9639\">C</text><line style=\"stroke:#181818;stroke-width:0.5;\" x1=\"118\" x2=\"186\" y1=\"564.2656\" y2=\"564.2656\"/></g></a><!--MD5=[fd4143e9d270a159db93a4ea2a975926]\n",
       "class E9--><a href=\"psysml:7b3481ba-f47b-4c12-87df-4d6f620e6d00\" target=\"_top\" title=\"psysml:7b3481ba-f47b-4c12-87df-4d6f620e6d00\" xlink:actuate=\"onRequest\" xlink:href=\"psysml:7b3481ba-f47b-4c12-87df-4d6f620e6d00\" xlink:show=\"new\" xlink:title=\"psysml:7b3481ba-f47b-4c12-87df-4d6f620e6d00\" xlink:type=\"simple\"><g id=\"elem_E9\"><rect fill=\"#FFFFFF\" height=\"48.2656\" id=\"E9\" style=\"stroke:#181818;stroke-width:0.5;\" width=\"70\" x=\"69\" y=\"41\"/><text fill=\"#000000\" font-family=\"sans-serif\" font-size=\"12\" font-style=\"italic\" lengthAdjust=\"spacing\" textLength=\"68\" x=\"70\" y=\"57.1387\">«port  def»</text><text fill=\"#000000\" font-family=\"sans-serif\" font-size=\"14\" lengthAdjust=\"spacing\" textLength=\"9\" x=\"99.5\" y=\"72.9639\">P</text><line style=\"stroke:#181818;stroke-width:0.5;\" x1=\"70\" x2=\"138\" y1=\"81.2656\" y2=\"81.2656\"/></g></a><!--MD5=[96f4274e9e20536e775497830990834d]\n",
       "class E10--><a href=\"psysml:116f794f-fd18-4d42-8d94-9abf783d43f0\" target=\"_top\" title=\"psysml:116f794f-fd18-4d42-8d94-9abf783d43f0\" xlink:actuate=\"onRequest\" xlink:href=\"psysml:116f794f-fd18-4d42-8d94-9abf783d43f0\" xlink:show=\"new\" xlink:title=\"psysml:116f794f-fd18-4d42-8d94-9abf783d43f0\" xlink:type=\"simple\"><g id=\"elem_E10\"><rect fill=\"#FFFFFF\" height=\"48.2656\" id=\"E10\" rx=\"10\" ry=\"10\" style=\"stroke:#181818;stroke-width:0.5;\" width=\"49\" x=\"32.5\" y=\"150\"/><text fill=\"#000000\" font-family=\"sans-serif\" font-size=\"12\" font-style=\"italic\" lengthAdjust=\"spacing\" textLength=\"41\" x=\"36.5\" y=\"166.1387\">«item»</text><text fill=\"#000000\" font-family=\"sans-serif\" font-size=\"14\" lengthAdjust=\"spacing\" textLength=\"35\" x=\"35.5\" y=\"181.9639\">a1: A</text><line style=\"stroke:#181818;stroke-width:0.5;\" x1=\"33.5\" x2=\"80.5\" y1=\"190.2656\" y2=\"190.2656\"/></g></a><!--MD5=[1dd1bfd58a279cf63c5f349dbc8fc6a1]\n",
       "class E11--><a href=\"psysml:16572df6-eec3-489a-80d1-3b65de425cbd\" target=\"_top\" title=\"psysml:16572df6-eec3-489a-80d1-3b65de425cbd\" xlink:actuate=\"onRequest\" xlink:href=\"psysml:16572df6-eec3-489a-80d1-3b65de425cbd\" xlink:show=\"new\" xlink:title=\"psysml:16572df6-eec3-489a-80d1-3b65de425cbd\" xlink:type=\"simple\"><g id=\"elem_E11\"><rect fill=\"#FFFFFF\" height=\"48.2656\" id=\"E11\" rx=\"10\" ry=\"10\" style=\"stroke:#181818;stroke-width:0.5;\" width=\"49\" x=\"116.5\" y=\"150\"/><text fill=\"#000000\" font-family=\"sans-serif\" font-size=\"12\" font-style=\"italic\" lengthAdjust=\"spacing\" textLength=\"41\" x=\"120.5\" y=\"166.1387\">«item»</text><text fill=\"#000000\" font-family=\"sans-serif\" font-size=\"14\" lengthAdjust=\"spacing\" textLength=\"35\" x=\"119.5\" y=\"181.9639\">a2: A</text><line style=\"stroke:#181818;stroke-width:0.5;\" x1=\"117.5\" x2=\"164.5\" y1=\"190.2656\" y2=\"190.2656\"/></g></a><!--MD5=[2720a5a1f2c3fca2055b230370638851]\n",
       "link E2 to E3--><g id=\"link_E2_E3\"><a href=\"psysml:70c9c3cf-ded5-4fad-940c-650d810049d2\" target=\"_top\" title=\"psysml:70c9c3cf-ded5-4fad-940c-650d810049d2\" xlink:actuate=\"onRequest\" xlink:href=\"psysml:70c9c3cf-ded5-4fad-940c-650d810049d2\" xlink:show=\"new\" xlink:title=\"psysml:70c9c3cf-ded5-4fad-940c-650d810049d2\" xlink:type=\"simple\"><path d=\"M204.42,198.22 C194.55,211.26 181.97,227.88 170.62,242.87 \" fill=\"none\" id=\"E2-to-E3\" style=\"stroke:#181818;stroke-width:1.0;\"/><polygon fill=\"#FFFFFF\" points=\"158.54,258.83,164.4286,239.4567,175.5901,247.9078,158.54,258.83\" style=\"stroke:#181818;stroke-width:1.0;\"/><ellipse cx=\"169.4639\" cy=\"236.1197\" fill=\"#181818\" rx=\"2\" ry=\"2\" style=\"stroke:#181818;stroke-width:1.0;\"/><ellipse cx=\"177.4364\" cy=\"242.1562\" fill=\"#181818\" rx=\"2\" ry=\"2\" style=\"stroke:#181818;stroke-width:1.0;\"/></a></g><!--MD5=[4672eba38e49728da53d11aeb285b987]\n",
       "reverse link E3 to E4--><g id=\"link_E3_E4\"><a href=\"psysml:1e28e0ed-b5c0-4fac-98b2-855fbe266c1f\" target=\"_top\" title=\"psysml:1e28e0ed-b5c0-4fac-98b2-855fbe266c1f\" xlink:actuate=\"onRequest\" xlink:href=\"psysml:1e28e0ed-b5c0-4fac-98b2-855fbe266c1f\" xlink:show=\"new\" xlink:title=\"psysml:1e28e0ed-b5c0-4fac-98b2-855fbe266c1f\" xlink:type=\"simple\"><path d=\"M112.72,317.45 C92.93,340.88 70,368 70,368 C70,368 70,416.01 70,445.83 \" fill=\"none\" id=\"E3-backto-E4\" style=\"stroke:#181818;stroke-width:1.0;\"/><polygon fill=\"#181818\" points=\"121.22,307.4,114.2926,309.4028,113.477,316.5676,120.4044,314.5648,121.22,307.4\" style=\"stroke:#181818;stroke-width:1.0;\"/></a></g><!--MD5=[191cde3d490a3f6d7bb551fe3ddca469]\n",
       "reverse link E3 to E5--><g id=\"link_E3_E5\"><a href=\"psysml:b5974af5-b28c-458b-89e4-95d46de68236\" target=\"_top\" title=\"psysml:b5974af5-b28c-458b-89e4-95d46de68236\" xlink:actuate=\"onRequest\" xlink:href=\"psysml:b5974af5-b28c-458b-89e4-95d46de68236\" xlink:show=\"new\" xlink:title=\"psysml:b5974af5-b28c-458b-89e4-95d46de68236\" xlink:type=\"simple\"><path d=\"M153.39,319.83 C158.86,335.66 165.14,353.82 169.99,367.83 \" fill=\"none\" id=\"E3-backto-E5\" style=\"stroke:#181818;stroke-width:1.0;\"/><polygon fill=\"none\" points=\"149.03,307.22,147.2077,314.1971,152.9472,318.5627,154.7695,311.5856,149.03,307.22\" style=\"stroke:#181818;stroke-width:1.0;\"/></a></g><!--MD5=[79568f1e445c3877b6a54524624ccc7d]\n",
       "link E4 to E6--><g id=\"link_E4_E6\"><a href=\"psysml:83940360-bfcd-4ab6-95b9-9006ad1a30a4\" target=\"_top\" title=\"psysml:83940360-bfcd-4ab6-95b9-9006ad1a30a4\" xlink:actuate=\"onRequest\" xlink:href=\"psysml:83940360-bfcd-4ab6-95b9-9006ad1a30a4\" xlink:show=\"new\" xlink:title=\"psysml:83940360-bfcd-4ab6-95b9-9006ad1a30a4\" xlink:type=\"simple\"><path d=\"M76.88,494.17 C85.74,523.99 100,572 100,572 C100,572 116.23,603.2 130.55,630.75 \" fill=\"none\" id=\"E4-to-E6\" style=\"stroke:#181818;stroke-width:1.0;\"/><polygon fill=\"#FFFFFF\" points=\"139.94,648.81,124.9624,635.1839,137.3828,628.7237,139.94,648.81\" style=\"stroke:#181818;stroke-width:1.0;\"/><ellipse cx=\"124.1065\" cy=\"629.2041\" fill=\"#181818\" rx=\"2\" ry=\"2\" style=\"stroke:#181818;stroke-width:1.0;\"/><ellipse cx=\"132.9782\" cy=\"624.5897\" fill=\"#181818\" rx=\"2\" ry=\"2\" style=\"stroke:#181818;stroke-width:1.0;\"/></a></g><!--MD5=[3f50a3473f1dfb74d3f76443e03635af]\n",
       "reverse link E6 to E7--><g id=\"link_E6_E7\"><a href=\"psysml:c7c30ff0-7abe-445a-9147-4c620b104f3e\" target=\"_top\" title=\"psysml:c7c30ff0-7abe-445a-9147-4c620b104f3e\" xlink:actuate=\"onRequest\" xlink:href=\"psysml:c7c30ff0-7abe-445a-9147-4c620b104f3e\" xlink:show=\"new\" xlink:title=\"psysml:c7c30ff0-7abe-445a-9147-4c620b104f3e\" xlink:type=\"simple\"><path d=\"M164.05,709.83 C169.38,725.66 175.49,743.82 180.2,757.83 \" fill=\"none\" id=\"E6-backto-E7\" style=\"stroke:#181818;stroke-width:1.0;\"/><polygon fill=\"#181818\" points=\"159.81,697.22,157.9296,704.1816,163.6324,708.5949,165.5128,701.6333,159.81,697.22\" style=\"stroke:#181818;stroke-width:1.0;\"/></a></g><!--MD5=[14ccda38c055a5c0da953d572bc50960]\n",
       "link E7 to E3--><g id=\"link_E7_E3\"><a href=\"psysml:4a79bdb3-77e8-4e9c-befa-ce9a0c7716db\" target=\"_top\" title=\"psysml:4a79bdb3-77e8-4e9c-befa-ce9a0c7716db\" xlink:actuate=\"onRequest\" xlink:href=\"psysml:4a79bdb3-77e8-4e9c-befa-ce9a0c7716db\" xlink:show=\"new\" xlink:title=\"psysml:4a79bdb3-77e8-4e9c-befa-ce9a0c7716db\" xlink:type=\"simple\"><path d=\"M198.2,757.78 C212.02,726.31 235,674 235,674 C235,391 235,391 235,391 C235,391 217,368 217,368 C217,368 195.85,344.63 175.87,322.54 \" fill=\"none\" id=\"E7-to-E3\" style=\"stroke:#181818;stroke-width:1.0;\"/><polygon fill=\"#FFFFFF\" points=\"162.17,307.4,180.1124,316.7846,169.7351,326.1821,162.17,307.4\" style=\"stroke:#181818;stroke-width:1.0;\"/><ellipse cx=\"182.456\" cy=\"322.3522\" fill=\"#181818\" rx=\"2\" ry=\"2\" style=\"stroke:#181818;stroke-width:1.0;\"/><ellipse cx=\"175.0437\" cy=\"329.0647\" fill=\"#181818\" rx=\"2\" ry=\"2\" style=\"stroke:#181818;stroke-width:1.0;\"/></a></g><!--MD5=[dfaffb906826c3e5aca635516100ff21]\n",
       "link E5 to E8--><g id=\"link_E5_E8\"><a href=\"psysml:d776694e-c79b-404c-b561-ae1c1a2e3f3d\" target=\"_top\" title=\"psysml:d776694e-c79b-404c-b561-ae1c1a2e3f3d\" xlink:actuate=\"onRequest\" xlink:href=\"psysml:d776694e-c79b-404c-b561-ae1c1a2e3f3d\" xlink:show=\"new\" xlink:title=\"psysml:d776694e-c79b-404c-b561-ae1c1a2e3f3d\" xlink:type=\"simple\"><path d=\"M174.11,416.06 C170.2,439.19 164.09,475.38 159.28,503.86 \" fill=\"none\" id=\"E5-to-E8\" style=\"stroke:#181818;stroke-width:1.0;\"/><polygon fill=\"#FFFFFF\" points=\"155.92,523.79,152.1809,503.8898,165.9855,506.2206,155.92,523.79\" style=\"stroke:#181818;stroke-width:1.0;\"/><ellipse cx=\"155.1019\" cy=\"498.6023\" fill=\"#181818\" rx=\"2\" ry=\"2\" style=\"stroke:#181818;stroke-width:1.0;\"/><ellipse cx=\"164.9624\" cy=\"500.2671\" fill=\"#181818\" rx=\"2\" ry=\"2\" style=\"stroke:#181818;stroke-width:1.0;\"/></a></g><!--MD5=[03c8294790d3c57651a1993cecff665f]\n",
       "reverse link E8 to E3--><g id=\"link_E8_E3\"><a href=\"psysml:c4551329-8b56-4fd0-9fbf-f2d280f6b39b\" target=\"_top\" title=\"psysml:c4551329-8b56-4fd0-9fbf-f2d280f6b39b\" xlink:actuate=\"onRequest\" xlink:href=\"psysml:c4551329-8b56-4fd0-9fbf-f2d280f6b39b\" xlink:show=\"new\" xlink:title=\"psysml:c4551329-8b56-4fd0-9fbf-f2d280f6b39b\" xlink:type=\"simple\"><path d=\"M146.23,511.01 C140.01,472.23 131,416 131,416 C131,416 131,368 131,368 C131,368 135.26,332.25 138.21,307.4 \" fill=\"none\" id=\"E8-backto-E3\" style=\"stroke:#181818;stroke-width:1.0;\"/><polygon fill=\"none\" points=\"148.29,523.88,151.2907,517.3229,146.3921,512.031,143.3914,518.5882,148.29,523.88\" style=\"stroke:#181818;stroke-width:1.0;\"/><text fill=\"#000000\" font-family=\"sans-serif\" font-size=\"13\" lengthAdjust=\"spacing\" textLength=\"7\" x=\"132\" y=\"396.5669\">y</text></a></g><!--MD5=[0d75d2178373a6a4568e5dc728f58aef]\n",
       "reverse link E8 to E6--><g id=\"link_E8_E6\"><a href=\"psysml:c4551329-8b56-4fd0-9fbf-f2d280f6b39b\" target=\"_top\" title=\"psysml:c4551329-8b56-4fd0-9fbf-f2d280f6b39b\" xlink:actuate=\"onRequest\" xlink:href=\"psysml:c4551329-8b56-4fd0-9fbf-f2d280f6b39b\" xlink:show=\"new\" xlink:title=\"psysml:c4551329-8b56-4fd0-9fbf-f2d280f6b39b\" xlink:type=\"simple\"><path d=\"M152,585.21 C152,605.83 152,631.04 152,648.97 \" fill=\"none\" id=\"E8-backto-E6\" style=\"stroke:#181818;stroke-width:1.0;\"/><polygon fill=\"none\" points=\"152,572.14,148,578.14,152,584.14,156,578.14,152,572.14\" style=\"stroke:#181818;stroke-width:1.0;\"/><text fill=\"#000000\" font-family=\"sans-serif\" font-size=\"13\" lengthAdjust=\"spacing\" textLength=\"7\" x=\"153\" y=\"615.0669\">y</text></a></g><!--MD5=[23ac544a70576c3e717098101004234c]\n",
       "reverse link E9 to E10--><g id=\"link_E9_E10\"><a href=\"psysml:5a5abb4f-4a57-47f4-8d13-1f5dca85ed3b\" target=\"_top\" title=\"psysml:5a5abb4f-4a57-47f4-8d13-1f5dca85ed3b\" xlink:actuate=\"onRequest\" xlink:href=\"psysml:5a5abb4f-4a57-47f4-8d13-1f5dca85ed3b\" xlink:show=\"new\" xlink:title=\"psysml:5a5abb4f-4a57-47f4-8d13-1f5dca85ed3b\" xlink:type=\"simple\"><path d=\"M88.47,101.35 C81.47,117.29 73.39,135.68 67.18,149.83 \" fill=\"none\" id=\"E9-backto-E10\" style=\"stroke:#181818;stroke-width:1.0;\"/><polygon fill=\"none\" points=\"93.8,89.22,87.7243,93.1041,88.9729,100.2063,95.0485,96.3222,93.8,89.22\" style=\"stroke:#181818;stroke-width:1.0;\"/></a></g><!--MD5=[feeac5eb423634930294aa81f2d25a4c]\n",
       "link E10 to E3--><g id=\"link_E10_E3\"><a href=\"psysml:d7f66802-941a-4496-884a-36d82493c03e\" target=\"_top\" title=\"psysml:d7f66802-941a-4496-884a-36d82493c03e\" xlink:actuate=\"onRequest\" xlink:href=\"psysml:d7f66802-941a-4496-884a-36d82493c03e\" xlink:show=\"new\" xlink:title=\"psysml:d7f66802-941a-4496-884a-36d82493c03e\" xlink:type=\"simple\"><path d=\"M75.23,198.22 C85.46,211.26 98.51,227.88 110.28,242.87 \" fill=\"none\" id=\"E10-to-E3\" style=\"stroke:#181818;stroke-width:1.0;\"/><polygon fill=\"#FFFFFF\" points=\"122.81,258.83,105.5676,248.214,116.5764,239.565,122.81,258.83\" style=\"stroke:#181818;stroke-width:1.0;\"/><ellipse cx=\"103.6189\" cy=\"242.4963\" fill=\"#181818\" rx=\"2\" ry=\"2\" style=\"stroke:#181818;stroke-width:1.0;\"/><ellipse cx=\"111.4823\" cy=\"236.3184\" fill=\"#181818\" rx=\"2\" ry=\"2\" style=\"stroke:#181818;stroke-width:1.0;\"/></a></g><!--MD5=[1fc04a95fd77ad5ce46c1a3027516051]\n",
       "reverse link E9 to E11--><g id=\"link_E9_E11\"><a href=\"psysml:8187499b-9a51-4939-bbf5-c8a0ee670e5b\" target=\"_top\" title=\"psysml:8187499b-9a51-4939-bbf5-c8a0ee670e5b\" xlink:actuate=\"onRequest\" xlink:href=\"psysml:8187499b-9a51-4939-bbf5-c8a0ee670e5b\" xlink:show=\"new\" xlink:title=\"psysml:8187499b-9a51-4939-bbf5-c8a0ee670e5b\" xlink:type=\"simple\"><path d=\"M116.39,101.83 C121.86,117.66 128.14,135.82 132.99,149.83 \" fill=\"none\" id=\"E9-backto-E11\" style=\"stroke:#181818;stroke-width:1.0;\"/><polygon fill=\"none\" points=\"112.03,89.22,110.2077,96.1971,115.9472,100.5627,117.7695,93.5856,112.03,89.22\" style=\"stroke:#181818;stroke-width:1.0;\"/></a></g><!--MD5=[0517f1ce58c4d5483948f93845c45e26]\n",
       "link E11 to E3--><g id=\"link_E11_E3\"><a href=\"psysml:ca7307c2-0235-4c1e-8766-bbb66b330e4f\" target=\"_top\" title=\"psysml:ca7307c2-0235-4c1e-8766-bbb66b330e4f\" xlink:actuate=\"onRequest\" xlink:href=\"psysml:ca7307c2-0235-4c1e-8766-bbb66b330e4f\" xlink:show=\"new\" xlink:title=\"psysml:ca7307c2-0235-4c1e-8766-bbb66b330e4f\" xlink:type=\"simple\"><path d=\"M141,198.22 C141,210 141,224.69 141,238.48 \" fill=\"none\" id=\"E11-to-E3\" style=\"stroke:#181818;stroke-width:1.0;\"/><polygon fill=\"#FFFFFF\" points=\"141,258.83,134,239.83,148,239.83,141,258.83\" style=\"stroke:#181818;stroke-width:1.0;\"/><ellipse cx=\"136\" cy=\"234.13\" fill=\"#181818\" rx=\"2\" ry=\"2\" style=\"stroke:#181818;stroke-width:1.0;\"/><ellipse cx=\"146\" cy=\"234.13\" fill=\"#181818\" rx=\"2\" ry=\"2\" style=\"stroke:#181818;stroke-width:1.0;\"/></a></g><!--MD5=[747379a0d354850628a6cb0ecfcfa820]\n",
       "@startuml\r\n",
       "skin sysmlbw\r\n",
       "skinparam monochrome true\r\n",
       "skinparam wrapWidth 300\r\n",
       "hide circle\r\n",
       "skinparam linetype polyline\r\n",
       "\r\n",
       "package \"ItemTest\" as E1  [[psysml:cd87d2b7-4fa1-4c1b-a4f6-af691b0dec58 ]]  {\r\n",
       "comp usage \"f: A  \" as E2  <<(T,blue) item>> [[psysml:a6e7d788-746b-466d-b844-23a78300b1ae ]] {\r\n",
       "}\r\n",
       "comp def \"A\" as E3  <<(T,blue) item  def>> [[psysml:7645df02-ea24-41fb-927b-82e0988a44f2 ]] {\r\n",
       "}\r\n",
       "comp usage \"b: B  \" as E4  <<(T,blue) item>> [[psysml:426ed2e2-6591-4c8f-a505-52d546190911 ]] {\r\n",
       "}\r\n",
       "comp usage \"c: C  \" as E5  <<(T,blue) part>> [[psysml:331ec08e-03d4-4ef2-9768-da2cb6dfa326 ]] {\r\n",
       "}\r\n",
       "comp def \"<i>B</i>\" as E6  <<(T,blue) item  def>> [[psysml:1c5a109b-6d3b-4425-b763-85184515822e ]] {\r\n",
       "}\r\n",
       "comp usage \"<i>a</i>: A  \" as E7  <<(T,blue) part>> [[psysml:3d3f18ff-1114-439a-91a9-78796a10458c ]] {\r\n",
       "}\r\n",
       "comp def \"C\" as E8  <<(T,blue) part  def>> [[psysml:1568c6af-b382-4c7f-b02a-0d87dd86c0f5 ]] {\r\n",
       "}\r\n",
       "comp def \"P\" as E9  <<(T,blue) port  def>> [[psysml:7b3481ba-f47b-4c12-87df-4d6f620e6d00 ]] {\r\n",
       "}\r\n",
       "comp usage \"a1: A  \" as E10  <<(T,blue) item>> [[psysml:116f794f-fd18-4d42-8d94-9abf783d43f0 ]] {\r\n",
       "}\r\n",
       "comp usage \"a2: A  \" as E11  <<(T,blue) item>> [[psysml:16572df6-eec3-489a-80d1-3b65de425cbd ]] {\r\n",
       "}\r\n",
       "}\r\n",
       "E2 - -:|> E3 [[psysml:70c9c3cf-ded5-4fad-940c-650d810049d2 ]] \r\n",
       "E3 *- - E4 [[psysml:1e28e0ed-b5c0-4fac-98b2-855fbe266c1f ]] \r\n",
       "E3 o- - E5 [[psysml:b5974af5-b28c-458b-89e4-95d46de68236 ]] \r\n",
       "E4 - -:|> E6 [[psysml:83940360-bfcd-4ab6-95b9-9006ad1a30a4 ]] \r\n",
       "E6 *- - E7 [[psysml:c7c30ff0-7abe-445a-9147-4c620b104f3e ]] \r\n",
       "E7 - -:|> E3 [[psysml:4a79bdb3-77e8-4e9c-befa-ce9a0c7716db ]] \r\n",
       "E5 - -:|> E8 [[psysml:d776694e-c79b-404c-b561-ae1c1a2e3f3d ]] \r\n",
       "E8 o- - E3 [[psysml:c4551329-8b56-4fd0-9fbf-f2d280f6b39b ]] : y\r\n",
       "E8 o- - E6 [[psysml:c4551329-8b56-4fd0-9fbf-f2d280f6b39b ]] : y\r\n",
       "E9 o- - E10 [[psysml:5a5abb4f-4a57-47f4-8d13-1f5dca85ed3b ]] \r\n",
       "E10 - -:|> E3 [[psysml:d7f66802-941a-4496-884a-36d82493c03e ]] \r\n",
       "E9 o- - E11 [[psysml:8187499b-9a51-4939-bbf5-c8a0ee670e5b ]] \r\n",
       "E11 - -:|> E3 [[psysml:ca7307c2-0235-4c1e-8766-bbb66b330e4f ]] \r\n",
       "@enduml\r\n",
       "\n",
       "PlantUML version 1.2022.7(Mon Aug 22 17:01:30 UTC 2022)\n",
       "(EPL source distribution)\n",
       "Java Runtime: OpenJDK Runtime Environment\n",
       "JVM: OpenJDK 64-Bit Server VM\n",
       "Default Encoding: UTF-8\n",
       "Language: en\n",
       "Country: null\n",
       "--></g></svg>"
      ]
     },
     "execution_count": 10,
     "metadata": {},
     "output_type": "execute_result"
    }
   ],
   "source": [
    "%viz --style=\"POLYLINE\" --view=\"Tree\" \"ItemTest\""
   ]
  },
  {
   "cell_type": "code",
   "execution_count": 11,
   "id": "e4725121",
   "metadata": {
    "execution": {
     "iopub.execute_input": "2024-12-16T14:15:16.137506Z",
     "iopub.status.busy": "2024-12-16T14:15:16.137238Z",
     "iopub.status.idle": "2024-12-16T14:15:16.143928Z",
     "shell.execute_reply": "2024-12-16T14:15:16.143765Z"
    }
   },
   "outputs": [
    {
     "data": {
      "image/svg+xml": [
       "<?xml version=\"1.0\" encoding=\"UTF-8\" standalone=\"no\"?><svg xmlns=\"http://www.w3.org/2000/svg\" xmlns:xlink=\"http://www.w3.org/1999/xlink\" contentStyleType=\"text/css\" height=\"10px\" preserveAspectRatio=\"none\" style=\"width:10px;height:10px;background:#FFFFFF;\" version=\"1.1\" viewBox=\"0 0 10 10\" width=\"10px\" zoomAndPan=\"magnify\"><defs/><g><!--MD5=[20bed88d98f2aabbefdc8661420d403d]\n",
       "@startuml\r\n",
       "skin sysmlbw\r\n",
       "skinparam monochrome true\r\n",
       "skinparam wrapWidth 300\r\n",
       "hide circle\r\n",
       "skinparam linetype polyline\r\n",
       "\r\n",
       "@enduml\r\n",
       "\n",
       "PlantUML version 1.2022.7(Mon Aug 22 17:01:30 UTC 2022)\n",
       "(EPL source distribution)\n",
       "Java Runtime: OpenJDK Runtime Environment\n",
       "JVM: OpenJDK 64-Bit Server VM\n",
       "Default Encoding: UTF-8\n",
       "Language: en\n",
       "Country: null\n",
       "--></g></svg>"
      ]
     },
     "execution_count": 11,
     "metadata": {},
     "output_type": "execute_result"
    }
   ],
   "source": [
    "%viz --style=\"POLYLINE\" --view=\"State\" \"ItemTest\""
   ]
  },
  {
   "cell_type": "code",
   "execution_count": 12,
   "id": "ca90a7a0",
   "metadata": {
    "execution": {
     "iopub.execute_input": "2024-12-16T14:15:16.195978Z",
     "iopub.status.busy": "2024-12-16T14:15:16.195731Z",
     "iopub.status.idle": "2024-12-16T14:15:16.216178Z",
     "shell.execute_reply": "2024-12-16T14:15:16.215405Z"
    }
   },
   "outputs": [
    {
     "data": {
      "image/svg+xml": [
       "<?xml version=\"1.0\" encoding=\"UTF-8\" standalone=\"no\"?><svg xmlns=\"http://www.w3.org/2000/svg\" xmlns:xlink=\"http://www.w3.org/1999/xlink\" contentStyleType=\"text/css\" height=\"245px\" preserveAspectRatio=\"none\" style=\"width:478px;height:245px;background:#FFFFFF;\" version=\"1.1\" viewBox=\"0 0 478 245\" width=\"478px\" zoomAndPan=\"magnify\"><defs/><g><!--MD5=[fbc87193dbaf4d95561dea2c320d4a47]\n",
       "cluster E1--><g id=\"cluster_E1\"><a href=\"psysml:cd87d2b7-4fa1-4c1b-a4f6-af691b0dec58\" target=\"_top\" title=\"psysml:cd87d2b7-4fa1-4c1b-a4f6-af691b0dec58\" xlink:actuate=\"onRequest\" xlink:href=\"psysml:cd87d2b7-4fa1-4c1b-a4f6-af691b0dec58\" xlink:show=\"new\" xlink:title=\"psysml:cd87d2b7-4fa1-4c1b-a4f6-af691b0dec58\" xlink:type=\"simple\"><polygon fill=\"none\" points=\"16,6,86.5,6,93.5,28.2969,461,28.2969,461,238,16,238,16,6\" style=\"stroke:#000000;stroke-width:1.5;\"/><line style=\"stroke:#000000;stroke-width:1.5;\" x1=\"16\" x2=\"93.5\" y1=\"28.2969\" y2=\"28.2969\"/><text fill=\"#000000\" font-family=\"sans-serif\" font-size=\"14\" font-weight=\"bold\" lengthAdjust=\"spacing\" textLength=\"64.5\" x=\"20\" y=\"20.9951\">ItemTest</text></a></g><!--MD5=[de5ec2e2e8f62f467e546659f5068c88]\n",
       "cluster E5--><g id=\"cluster_E5\"><a href=\"psysml:1568c6af-b382-4c7f-b02a-0d87dd86c0f5\" target=\"_top\" title=\"psysml:1568c6af-b382-4c7f-b02a-0d87dd86c0f5\" xlink:actuate=\"onRequest\" xlink:href=\"psysml:1568c6af-b382-4c7f-b02a-0d87dd86c0f5\" xlink:show=\"new\" xlink:title=\"psysml:1568c6af-b382-4c7f-b02a-0d87dd86c0f5\" xlink:type=\"simple\"><rect fill=\"#FFFFFF\" height=\"112\" id=\"E5\" style=\"stroke:#383838;stroke-width:1.5;\" width=\"114\" x=\"323\" y=\"49\"/><text fill=\"#000000\" font-family=\"sans-serif\" font-size=\"12\" font-style=\"italic\" lengthAdjust=\"spacing\" textLength=\"68\" x=\"346\" y=\"65.1387\">«part  def»</text><text fill=\"#000000\" font-family=\"sans-serif\" font-size=\"14\" lengthAdjust=\"spacing\" textLength=\"10\" x=\"375\" y=\"80.9639\">C</text><line style=\"stroke:#383838;stroke-width:1.0;\" x1=\"323\" x2=\"437\" y1=\"89.2656\" y2=\"89.2656\"/></a></g><g><a href=\"psysml:7645df02-ea24-41fb-927b-82e0988a44f2\" target=\"_top\" title=\"psysml:7645df02-ea24-41fb-927b-82e0988a44f2\" xlink:actuate=\"onRequest\" xlink:href=\"psysml:7645df02-ea24-41fb-927b-82e0988a44f2\" xlink:show=\"new\" xlink:title=\"psysml:7645df02-ea24-41fb-927b-82e0988a44f2\" xlink:type=\"simple\"><rect fill=\"#FFFFFF\" height=\"45.2656\" id=\"E3\" style=\"stroke:#383838;stroke-width:1.5;\" width=\"76\" x=\"32\" y=\"177\"/><text fill=\"#000000\" font-family=\"sans-serif\" font-size=\"12\" font-style=\"italic\" lengthAdjust=\"spacing\" textLength=\"69\" x=\"35.5\" y=\"193.1387\">«item  def»</text><text fill=\"#000000\" font-family=\"sans-serif\" font-size=\"14\" lengthAdjust=\"spacing\" textLength=\"9\" x=\"65.5\" y=\"208.9639\">A</text></a></g><g><a href=\"psysml:1c5a109b-6d3b-4425-b763-85184515822e\" target=\"_top\" title=\"psysml:1c5a109b-6d3b-4425-b763-85184515822e\" xlink:actuate=\"onRequest\" xlink:href=\"psysml:1c5a109b-6d3b-4425-b763-85184515822e\" xlink:show=\"new\" xlink:title=\"psysml:1c5a109b-6d3b-4425-b763-85184515822e\" xlink:type=\"simple\"><rect fill=\"#FFFFFF\" height=\"45.2656\" id=\"E4\" style=\"stroke:#383838;stroke-width:1.5;\" width=\"76\" x=\"228\" y=\"100\"/><text fill=\"#000000\" font-family=\"sans-serif\" font-size=\"12\" font-style=\"italic\" lengthAdjust=\"spacing\" textLength=\"69\" x=\"231.5\" y=\"116.1387\">«item  def»</text><text fill=\"#000000\" font-family=\"sans-serif\" font-size=\"14\" font-style=\"italic\" lengthAdjust=\"spacing\" textLength=\"10\" x=\"261\" y=\"131.9639\">B</text></a></g><g><a href=\"psysml:7b3481ba-f47b-4c12-87df-4d6f620e6d00\" target=\"_top\" title=\"psysml:7b3481ba-f47b-4c12-87df-4d6f620e6d00\" xlink:actuate=\"onRequest\" xlink:href=\"psysml:7b3481ba-f47b-4c12-87df-4d6f620e6d00\" xlink:show=\"new\" xlink:title=\"psysml:7b3481ba-f47b-4c12-87df-4d6f620e6d00\" xlink:type=\"simple\"><rect fill=\"#FFFFFF\" height=\"45.2656\" id=\"E7\" style=\"stroke:#383838;stroke-width:1.5;\" width=\"75\" x=\"117.5\" y=\"100\"/><text fill=\"#000000\" font-family=\"sans-serif\" font-size=\"12\" font-style=\"italic\" lengthAdjust=\"spacing\" textLength=\"68\" x=\"121\" y=\"116.1387\">«port  def»</text><text fill=\"#000000\" font-family=\"sans-serif\" font-size=\"14\" lengthAdjust=\"spacing\" textLength=\"9\" x=\"150.5\" y=\"131.9639\">P</text></a></g><g><a href=\"psysml:a6e7d788-746b-466d-b844-23a78300b1ae\" target=\"_top\" title=\"psysml:a6e7d788-746b-466d-b844-23a78300b1ae\" xlink:actuate=\"onRequest\" xlink:href=\"psysml:a6e7d788-746b-466d-b844-23a78300b1ae\" xlink:show=\"new\" xlink:title=\"psysml:a6e7d788-746b-466d-b844-23a78300b1ae\" xlink:type=\"simple\"><rect fill=\"#FFFFFF\" height=\"45.2656\" id=\"E2\" rx=\"10\" ry=\"10\" style=\"stroke:#383838;stroke-width:1.5;\" width=\"50\" x=\"32\" y=\"100\"/><text fill=\"#000000\" font-family=\"sans-serif\" font-size=\"12\" font-style=\"italic\" lengthAdjust=\"spacing\" textLength=\"41\" x=\"36.5\" y=\"116.1387\">«item»</text><text fill=\"#000000\" font-family=\"sans-serif\" font-size=\"14\" lengthAdjust=\"spacing\" textLength=\"22\" x=\"46\" y=\"131.9639\">f: A</text></a></g><g><a href=\"psysml:c4551329-8b56-4fd0-9fbf-f2d280f6b39b\" target=\"_top\" title=\"psysml:c4551329-8b56-4fd0-9fbf-f2d280f6b39b\" xlink:actuate=\"onRequest\" xlink:href=\"psysml:c4551329-8b56-4fd0-9fbf-f2d280f6b39b\" xlink:show=\"new\" xlink:title=\"psysml:c4551329-8b56-4fd0-9fbf-f2d280f6b39b\" xlink:type=\"simple\"><rect fill=\"#FFFFFF\" height=\"45.2656\" id=\"E6\" rx=\"10\" ry=\"10\" style=\"stroke:#383838;stroke-width:1.5;\" width=\"82\" x=\"339\" y=\"100\"/><text fill=\"#000000\" font-family=\"sans-serif\" font-size=\"12\" font-style=\"italic\" lengthAdjust=\"spacing\" textLength=\"75\" x=\"342.5\" y=\"116.1387\">«reference»</text><text fill=\"#000000\" font-family=\"sans-serif\" font-size=\"14\" lengthAdjust=\"spacing\" textLength=\"43\" x=\"354.5\" y=\"131.9639\">y: A, B</text></a></g><!--MD5=[2720a5a1f2c3fca2055b230370638851]\n",
       "link E2 to E3--><g id=\"link_E2_E3\"><a href=\"psysml:70c9c3cf-ded5-4fad-940c-650d810049d2\" target=\"_top\" title=\"psysml:70c9c3cf-ded5-4fad-940c-650d810049d2\" xlink:actuate=\"onRequest\" xlink:href=\"psysml:70c9c3cf-ded5-4fad-940c-650d810049d2\" xlink:show=\"new\" xlink:title=\"psysml:70c9c3cf-ded5-4fad-940c-650d810049d2\" xlink:type=\"simple\"><path d=\"M60.76,145.19 C61.41,148.92 62.1,152.91 62.8,156.96 \" fill=\"none\" id=\"E2-to-E3\" style=\"stroke:#181818;stroke-width:1.0;\"/><polygon fill=\"#FFFFFF\" points=\"66.25,176.86,56.0959,159.3416,69.8886,156.9411,66.25,176.86\" style=\"stroke:#181818;stroke-width:1.0;\"/><ellipse cx=\"57.0889\" cy=\"153.3831\" fill=\"#181818\" rx=\"2\" ry=\"2\" style=\"stroke:#181818;stroke-width:1.0;\"/><ellipse cx=\"66.9408\" cy=\"151.6685\" fill=\"#181818\" rx=\"2\" ry=\"2\" style=\"stroke:#181818;stroke-width:1.0;\"/></a></g><!--MD5=[99b1267496935c27e350b354eba448de]\n",
       "@startuml\r\n",
       "skin sysmlbw\r\n",
       "skinparam monochrome true\r\n",
       "skinparam wrapWidth 300\r\n",
       "hide circle\r\n",
       "skinparam linetype polyline\r\n",
       "skinparam ranksep 10\r\n",
       "skinparam rectangle {\r\n",
       " backgroundColor<<block>> LightGreen\r\n",
       "}\r\n",
       "\r\n",
       "package \"ItemTest\" as E1  [[psysml:cd87d2b7-4fa1-4c1b-a4f6-af691b0dec58 ]]  {\r\n",
       "rec usage \"f: A\" as E2  <<(T,blue) item>> [[psysml:a6e7d788-746b-466d-b844-23a78300b1ae ]] {\r\n",
       "}\r\n",
       "def \"A\" as E3  <<(T,blue) item  def>> [[psysml:7645df02-ea24-41fb-927b-82e0988a44f2 ]] \r\n",
       "def \"<i>B</i>\" as E4  <<(T,blue) item  def>> [[psysml:1c5a109b-6d3b-4425-b763-85184515822e ]] \r\n",
       "rec def \"C\" as E5  <<(T,blue) part  def>> [[psysml:1568c6af-b382-4c7f-b02a-0d87dd86c0f5 ]] {\r\n",
       "rec usage \"y: A, B  \" as E6  <<(T,blue) reference>> [[psysml:c4551329-8b56-4fd0-9fbf-f2d280f6b39b ]] {\r\n",
       "}\r\n",
       "\r\n",
       "}\r\n",
       "def \"P\" as E7  <<(T,blue) port  def>> [[psysml:7b3481ba-f47b-4c12-87df-4d6f620e6d00 ]] \r\n",
       "}\r\n",
       "E2 - -:|> E3 [[psysml:70c9c3cf-ded5-4fad-940c-650d810049d2 ]] \r\n",
       "@enduml\r\n",
       "\n",
       "PlantUML version 1.2022.7(Mon Aug 22 17:01:30 UTC 2022)\n",
       "(EPL source distribution)\n",
       "Java Runtime: OpenJDK Runtime Environment\n",
       "JVM: OpenJDK 64-Bit Server VM\n",
       "Default Encoding: UTF-8\n",
       "Language: en\n",
       "Country: null\n",
       "--></g></svg>"
      ]
     },
     "execution_count": 12,
     "metadata": {},
     "output_type": "execute_result"
    }
   ],
   "source": [
    "%viz --style=\"POLYLINE\" --view=\"Interconnection\" \"ItemTest\""
   ]
  },
  {
   "cell_type": "code",
   "execution_count": 13,
   "id": "e62a4184",
   "metadata": {
    "execution": {
     "iopub.execute_input": "2024-12-16T14:15:16.268769Z",
     "iopub.status.busy": "2024-12-16T14:15:16.268455Z",
     "iopub.status.idle": "2024-12-16T14:15:16.273916Z",
     "shell.execute_reply": "2024-12-16T14:15:16.273751Z"
    }
   },
   "outputs": [
    {
     "data": {
      "image/svg+xml": [
       "<?xml version=\"1.0\" encoding=\"UTF-8\" standalone=\"no\"?><svg xmlns=\"http://www.w3.org/2000/svg\" xmlns:xlink=\"http://www.w3.org/1999/xlink\" contentStyleType=\"text/css\" height=\"10px\" preserveAspectRatio=\"none\" style=\"width:10px;height:10px;background:#FFFFFF;\" version=\"1.1\" viewBox=\"0 0 10 10\" width=\"10px\" zoomAndPan=\"magnify\"><defs/><g><!--MD5=[ff8e7c24accf200c4355ceeab022c402]\n",
       "@startuml\r\n",
       "skin sysmlbw\r\n",
       "skinparam monochrome true\r\n",
       "skinparam wrapWidth 300\r\n",
       "hide circle\r\n",
       "skinparam linetype polyline\r\n",
       "skinparam ranksep 8\r\n",
       "\r\n",
       "@enduml\r\n",
       "\n",
       "PlantUML version 1.2022.7(Mon Aug 22 17:01:30 UTC 2022)\n",
       "(EPL source distribution)\n",
       "Java Runtime: OpenJDK Runtime Environment\n",
       "JVM: OpenJDK 64-Bit Server VM\n",
       "Default Encoding: UTF-8\n",
       "Language: en\n",
       "Country: null\n",
       "--></g></svg>"
      ]
     },
     "execution_count": 13,
     "metadata": {},
     "output_type": "execute_result"
    }
   ],
   "source": [
    "%viz --style=\"POLYLINE\" --view=\"Action\" \"ItemTest\""
   ]
  },
  {
   "cell_type": "code",
   "execution_count": 14,
   "id": "5157259c",
   "metadata": {
    "execution": {
     "iopub.execute_input": "2024-12-16T14:15:16.329622Z",
     "iopub.status.busy": "2024-12-16T14:15:16.329408Z",
     "iopub.status.idle": "2024-12-16T14:15:16.334673Z",
     "shell.execute_reply": "2024-12-16T14:15:16.334491Z"
    }
   },
   "outputs": [
    {
     "data": {
      "image/svg+xml": [
       "<?xml version=\"1.0\" encoding=\"UTF-8\" standalone=\"no\"?><svg xmlns=\"http://www.w3.org/2000/svg\" xmlns:xlink=\"http://www.w3.org/1999/xlink\" contentStyleType=\"text/css\" height=\"10px\" preserveAspectRatio=\"none\" style=\"width:10px;height:10px;background:#FFFFFF;\" version=\"1.1\" viewBox=\"0 0 10 10\" width=\"10px\" zoomAndPan=\"magnify\"><defs/><g><!--MD5=[efefafbf36b45173e0355713d9054f90]\n",
       "@startuml\r\n",
       "skin sysmlbw\r\n",
       "skinparam monochrome true\r\n",
       "skinparam wrapWidth 300\r\n",
       "hide circle\r\n",
       "skinparam linetype polyline\r\n",
       "skinparam roundcorner 20\r\n",
       "skinparam BoxPadding 20\r\n",
       "skinparam SequenceBoxBackgroundColor #white\r\n",
       "skinparam style strictuml\r\n",
       "skinparam maxMessageSize 100\r\n",
       "\r\n",
       "@enduml\r\n",
       "\n",
       "PlantUML version 1.2022.7(Mon Aug 22 17:01:30 UTC 2022)\n",
       "(EPL source distribution)\n",
       "Java Runtime: OpenJDK Runtime Environment\n",
       "JVM: OpenJDK 64-Bit Server VM\n",
       "Default Encoding: UTF-8\n",
       "Language: en\n",
       "Country: null\n",
       "--></g></svg>"
      ]
     },
     "execution_count": 14,
     "metadata": {},
     "output_type": "execute_result"
    }
   ],
   "source": [
    "%viz --style=\"POLYLINE\" --view=\"Sequence\" \"ItemTest\""
   ]
  },
  {
   "cell_type": "code",
   "execution_count": 15,
   "id": "1ebe2388",
   "metadata": {
    "execution": {
     "iopub.execute_input": "2024-12-16T14:15:16.390706Z",
     "iopub.status.busy": "2024-12-16T14:15:16.390481Z",
     "iopub.status.idle": "2024-12-16T14:15:16.418673Z",
     "shell.execute_reply": "2024-12-16T14:15:16.418476Z"
    }
   },
   "outputs": [
    {
     "data": {
      "image/svg+xml": [
       "<?xml version=\"1.0\" encoding=\"UTF-8\" standalone=\"no\"?><svg xmlns=\"http://www.w3.org/2000/svg\" xmlns:xlink=\"http://www.w3.org/1999/xlink\" contentStyleType=\"text/css\" height=\"829px\" preserveAspectRatio=\"none\" style=\"width:277px;height:829px;background:#FFFFFF;\" version=\"1.1\" viewBox=\"0 0 277 829\" width=\"277px\" zoomAndPan=\"magnify\"><defs/><g><!--MD5=[fbc87193dbaf4d95561dea2c320d4a47]\n",
       "cluster E1--><g id=\"cluster_E1\"><a href=\"psysml:cd87d2b7-4fa1-4c1b-a4f6-af691b0dec58\" target=\"_top\" title=\"psysml:cd87d2b7-4fa1-4c1b-a4f6-af691b0dec58\" xlink:actuate=\"onRequest\" xlink:href=\"psysml:cd87d2b7-4fa1-4c1b-a4f6-af691b0dec58\" xlink:show=\"new\" xlink:title=\"psysml:cd87d2b7-4fa1-4c1b-a4f6-af691b0dec58\" xlink:type=\"simple\"><polygon fill=\"none\" points=\"16,6,86.5,6,93.5,28.2969,260,28.2969,260,822,16,822,16,6\" style=\"stroke:#000000;stroke-width:1.5;\"/><line style=\"stroke:#000000;stroke-width:1.5;\" x1=\"16\" x2=\"93.5\" y1=\"28.2969\" y2=\"28.2969\"/><text fill=\"#000000\" font-family=\"sans-serif\" font-size=\"14\" font-weight=\"bold\" lengthAdjust=\"spacing\" textLength=\"64.5\" x=\"20\" y=\"20.9951\">ItemTest</text></a></g><!--MD5=[b4997ac47864f28c2f74865a473b2911]\n",
       "class E2--><a href=\"psysml:a6e7d788-746b-466d-b844-23a78300b1ae\" target=\"_top\" title=\"psysml:a6e7d788-746b-466d-b844-23a78300b1ae\" xlink:actuate=\"onRequest\" xlink:href=\"psysml:a6e7d788-746b-466d-b844-23a78300b1ae\" xlink:show=\"new\" xlink:title=\"psysml:a6e7d788-746b-466d-b844-23a78300b1ae\" xlink:type=\"simple\"><g id=\"elem_E2\"><rect fill=\"#FFFFFF\" height=\"48.2656\" id=\"E2\" rx=\"10\" ry=\"10\" style=\"stroke:#181818;stroke-width:0.5;\" width=\"43\" x=\"200.5\" y=\"150\"/><text fill=\"#000000\" font-family=\"sans-serif\" font-size=\"12\" font-style=\"italic\" lengthAdjust=\"spacing\" textLength=\"41\" x=\"201.5\" y=\"166.1387\">«item»</text><text fill=\"#000000\" font-family=\"sans-serif\" font-size=\"14\" lengthAdjust=\"spacing\" textLength=\"22\" x=\"207\" y=\"181.9639\">f: A</text><line style=\"stroke:#181818;stroke-width:0.5;\" x1=\"201.5\" x2=\"242.5\" y1=\"190.2656\" y2=\"190.2656\"/></g></a><!--MD5=[09b614a08d8cba4a07c9adeb5e0fee81]\n",
       "class E3--><a href=\"psysml:7645df02-ea24-41fb-927b-82e0988a44f2\" target=\"_top\" title=\"psysml:7645df02-ea24-41fb-927b-82e0988a44f2\" xlink:actuate=\"onRequest\" xlink:href=\"psysml:7645df02-ea24-41fb-927b-82e0988a44f2\" xlink:show=\"new\" xlink:title=\"psysml:7645df02-ea24-41fb-927b-82e0988a44f2\" xlink:type=\"simple\"><g id=\"elem_E3\"><rect fill=\"#FFFFFF\" height=\"48.2656\" id=\"E3\" style=\"stroke:#181818;stroke-width:0.5;\" width=\"71\" x=\"105.5\" y=\"259\"/><text fill=\"#000000\" font-family=\"sans-serif\" font-size=\"12\" font-style=\"italic\" lengthAdjust=\"spacing\" textLength=\"69\" x=\"106.5\" y=\"275.1387\">«item  def»</text><text fill=\"#000000\" font-family=\"sans-serif\" font-size=\"14\" lengthAdjust=\"spacing\" textLength=\"9\" x=\"136.5\" y=\"290.9639\">A</text><line style=\"stroke:#181818;stroke-width:0.5;\" x1=\"106.5\" x2=\"175.5\" y1=\"299.2656\" y2=\"299.2656\"/></g></a><!--MD5=[ebbe1d658d1005bcc118a6aa81145e00]\n",
       "class E4--><a href=\"psysml:426ed2e2-6591-4c8f-a505-52d546190911\" target=\"_top\" title=\"psysml:426ed2e2-6591-4c8f-a505-52d546190911\" xlink:actuate=\"onRequest\" xlink:href=\"psysml:426ed2e2-6591-4c8f-a505-52d546190911\" xlink:show=\"new\" xlink:title=\"psysml:426ed2e2-6591-4c8f-a505-52d546190911\" xlink:type=\"simple\"><g id=\"elem_E4\"><rect fill=\"#FFFFFF\" height=\"48.2656\" id=\"E4\" rx=\"10\" ry=\"10\" style=\"stroke:#181818;stroke-width:0.5;\" width=\"43\" x=\"48.5\" y=\"446\"/><text fill=\"#000000\" font-family=\"sans-serif\" font-size=\"12\" font-style=\"italic\" lengthAdjust=\"spacing\" textLength=\"41\" x=\"49.5\" y=\"462.1387\">«item»</text><text fill=\"#000000\" font-family=\"sans-serif\" font-size=\"14\" lengthAdjust=\"spacing\" textLength=\"28\" x=\"52\" y=\"477.9639\">b: B</text><line style=\"stroke:#181818;stroke-width:0.5;\" x1=\"49.5\" x2=\"90.5\" y1=\"486.2656\" y2=\"486.2656\"/></g></a><!--MD5=[270fce915f116d4de14055a7c1d9a0f3]\n",
       "class E5--><a href=\"psysml:331ec08e-03d4-4ef2-9768-da2cb6dfa326\" target=\"_top\" title=\"psysml:331ec08e-03d4-4ef2-9768-da2cb6dfa326\" xlink:actuate=\"onRequest\" xlink:href=\"psysml:331ec08e-03d4-4ef2-9768-da2cb6dfa326\" xlink:show=\"new\" xlink:title=\"psysml:331ec08e-03d4-4ef2-9768-da2cb6dfa326\" xlink:type=\"simple\"><g id=\"elem_E5\"><rect fill=\"#FFFFFF\" height=\"48.2656\" id=\"E5\" rx=\"10\" ry=\"10\" style=\"stroke:#181818;stroke-width:0.5;\" width=\"42\" x=\"157\" y=\"368\"/><text fill=\"#000000\" font-family=\"sans-serif\" font-size=\"12\" font-style=\"italic\" lengthAdjust=\"spacing\" textLength=\"40\" x=\"158\" y=\"384.1387\">«part»</text><text fill=\"#000000\" font-family=\"sans-serif\" font-size=\"14\" lengthAdjust=\"spacing\" textLength=\"27\" x=\"160.5\" y=\"399.9639\">c: C</text><line style=\"stroke:#181818;stroke-width:0.5;\" x1=\"158\" x2=\"198\" y1=\"408.2656\" y2=\"408.2656\"/></g></a><!--MD5=[60a26617385b1d2d0262a64233df1f8d]\n",
       "class E6--><a href=\"psysml:1c5a109b-6d3b-4425-b763-85184515822e\" target=\"_top\" title=\"psysml:1c5a109b-6d3b-4425-b763-85184515822e\" xlink:actuate=\"onRequest\" xlink:href=\"psysml:1c5a109b-6d3b-4425-b763-85184515822e\" xlink:show=\"new\" xlink:title=\"psysml:1c5a109b-6d3b-4425-b763-85184515822e\" xlink:type=\"simple\"><g id=\"elem_E6\"><rect fill=\"#FFFFFF\" height=\"48.2656\" id=\"E6\" style=\"stroke:#181818;stroke-width:0.5;\" width=\"71\" x=\"116.5\" y=\"649\"/><text fill=\"#000000\" font-family=\"sans-serif\" font-size=\"12\" font-style=\"italic\" lengthAdjust=\"spacing\" textLength=\"69\" x=\"117.5\" y=\"665.1387\">«item  def»</text><text fill=\"#000000\" font-family=\"sans-serif\" font-size=\"14\" font-style=\"italic\" lengthAdjust=\"spacing\" textLength=\"10\" x=\"147\" y=\"680.9639\">B</text><line style=\"stroke:#181818;stroke-width:0.5;\" x1=\"117.5\" x2=\"186.5\" y1=\"689.2656\" y2=\"689.2656\"/></g></a><!--MD5=[2156ba9850f5573cc1fc38a6a4b2f02b]\n",
       "class E7--><a href=\"psysml:3d3f18ff-1114-439a-91a9-78796a10458c\" target=\"_top\" title=\"psysml:3d3f18ff-1114-439a-91a9-78796a10458c\" xlink:actuate=\"onRequest\" xlink:href=\"psysml:3d3f18ff-1114-439a-91a9-78796a10458c\" xlink:show=\"new\" xlink:title=\"psysml:3d3f18ff-1114-439a-91a9-78796a10458c\" xlink:type=\"simple\"><g id=\"elem_E7\"><rect fill=\"#FFFFFF\" height=\"48.2656\" id=\"E7\" rx=\"10\" ry=\"10\" style=\"stroke:#181818;stroke-width:0.5;\" width=\"42\" x=\"167\" y=\"758\"/><text fill=\"#000000\" font-family=\"sans-serif\" font-size=\"12\" font-style=\"italic\" lengthAdjust=\"spacing\" textLength=\"40\" x=\"168\" y=\"774.1387\">«part»</text><text fill=\"#000000\" font-family=\"sans-serif\" font-size=\"14\" font-style=\"italic\" lengthAdjust=\"spacing\" textLength=\"8\" x=\"171\" y=\"789.9639\">a</text><text fill=\"#000000\" font-family=\"sans-serif\" font-size=\"14\" lengthAdjust=\"spacing\" textLength=\"18\" x=\"179\" y=\"789.9639\">: A</text><line style=\"stroke:#181818;stroke-width:0.5;\" x1=\"168\" x2=\"208\" y1=\"798.2656\" y2=\"798.2656\"/></g></a><!--MD5=[b9389687b975829384b498ac4b7476b2]\n",
       "class E8--><a href=\"psysml:1568c6af-b382-4c7f-b02a-0d87dd86c0f5\" target=\"_top\" title=\"psysml:1568c6af-b382-4c7f-b02a-0d87dd86c0f5\" xlink:actuate=\"onRequest\" xlink:href=\"psysml:1568c6af-b382-4c7f-b02a-0d87dd86c0f5\" xlink:show=\"new\" xlink:title=\"psysml:1568c6af-b382-4c7f-b02a-0d87dd86c0f5\" xlink:type=\"simple\"><g id=\"elem_E8\"><rect fill=\"#FFFFFF\" height=\"48.2656\" id=\"E8\" style=\"stroke:#181818;stroke-width:0.5;\" width=\"70\" x=\"117\" y=\"524\"/><text fill=\"#000000\" font-family=\"sans-serif\" font-size=\"12\" font-style=\"italic\" lengthAdjust=\"spacing\" textLength=\"68\" x=\"118\" y=\"540.1387\">«part  def»</text><text fill=\"#000000\" font-family=\"sans-serif\" font-size=\"14\" lengthAdjust=\"spacing\" textLength=\"10\" x=\"147\" y=\"555.9639\">C</text><line style=\"stroke:#181818;stroke-width:0.5;\" x1=\"118\" x2=\"186\" y1=\"564.2656\" y2=\"564.2656\"/></g></a><!--MD5=[fd4143e9d270a159db93a4ea2a975926]\n",
       "class E9--><a href=\"psysml:7b3481ba-f47b-4c12-87df-4d6f620e6d00\" target=\"_top\" title=\"psysml:7b3481ba-f47b-4c12-87df-4d6f620e6d00\" xlink:actuate=\"onRequest\" xlink:href=\"psysml:7b3481ba-f47b-4c12-87df-4d6f620e6d00\" xlink:show=\"new\" xlink:title=\"psysml:7b3481ba-f47b-4c12-87df-4d6f620e6d00\" xlink:type=\"simple\"><g id=\"elem_E9\"><rect fill=\"#FFFFFF\" height=\"48.2656\" id=\"E9\" style=\"stroke:#181818;stroke-width:0.5;\" width=\"70\" x=\"69\" y=\"41\"/><text fill=\"#000000\" font-family=\"sans-serif\" font-size=\"12\" font-style=\"italic\" lengthAdjust=\"spacing\" textLength=\"68\" x=\"70\" y=\"57.1387\">«port  def»</text><text fill=\"#000000\" font-family=\"sans-serif\" font-size=\"14\" lengthAdjust=\"spacing\" textLength=\"9\" x=\"99.5\" y=\"72.9639\">P</text><line style=\"stroke:#181818;stroke-width:0.5;\" x1=\"70\" x2=\"138\" y1=\"81.2656\" y2=\"81.2656\"/></g></a><!--MD5=[96f4274e9e20536e775497830990834d]\n",
       "class E10--><a href=\"psysml:116f794f-fd18-4d42-8d94-9abf783d43f0\" target=\"_top\" title=\"psysml:116f794f-fd18-4d42-8d94-9abf783d43f0\" xlink:actuate=\"onRequest\" xlink:href=\"psysml:116f794f-fd18-4d42-8d94-9abf783d43f0\" xlink:show=\"new\" xlink:title=\"psysml:116f794f-fd18-4d42-8d94-9abf783d43f0\" xlink:type=\"simple\"><g id=\"elem_E10\"><rect fill=\"#FFFFFF\" height=\"48.2656\" id=\"E10\" rx=\"10\" ry=\"10\" style=\"stroke:#181818;stroke-width:0.5;\" width=\"49\" x=\"32.5\" y=\"150\"/><text fill=\"#000000\" font-family=\"sans-serif\" font-size=\"12\" font-style=\"italic\" lengthAdjust=\"spacing\" textLength=\"41\" x=\"36.5\" y=\"166.1387\">«item»</text><text fill=\"#000000\" font-family=\"sans-serif\" font-size=\"14\" lengthAdjust=\"spacing\" textLength=\"35\" x=\"35.5\" y=\"181.9639\">a1: A</text><line style=\"stroke:#181818;stroke-width:0.5;\" x1=\"33.5\" x2=\"80.5\" y1=\"190.2656\" y2=\"190.2656\"/></g></a><!--MD5=[1dd1bfd58a279cf63c5f349dbc8fc6a1]\n",
       "class E11--><a href=\"psysml:16572df6-eec3-489a-80d1-3b65de425cbd\" target=\"_top\" title=\"psysml:16572df6-eec3-489a-80d1-3b65de425cbd\" xlink:actuate=\"onRequest\" xlink:href=\"psysml:16572df6-eec3-489a-80d1-3b65de425cbd\" xlink:show=\"new\" xlink:title=\"psysml:16572df6-eec3-489a-80d1-3b65de425cbd\" xlink:type=\"simple\"><g id=\"elem_E11\"><rect fill=\"#FFFFFF\" height=\"48.2656\" id=\"E11\" rx=\"10\" ry=\"10\" style=\"stroke:#181818;stroke-width:0.5;\" width=\"49\" x=\"116.5\" y=\"150\"/><text fill=\"#000000\" font-family=\"sans-serif\" font-size=\"12\" font-style=\"italic\" lengthAdjust=\"spacing\" textLength=\"41\" x=\"120.5\" y=\"166.1387\">«item»</text><text fill=\"#000000\" font-family=\"sans-serif\" font-size=\"14\" lengthAdjust=\"spacing\" textLength=\"35\" x=\"119.5\" y=\"181.9639\">a2: A</text><line style=\"stroke:#181818;stroke-width:0.5;\" x1=\"117.5\" x2=\"164.5\" y1=\"190.2656\" y2=\"190.2656\"/></g></a><!--MD5=[2720a5a1f2c3fca2055b230370638851]\n",
       "link E2 to E3--><g id=\"link_E2_E3\"><a href=\"psysml:70c9c3cf-ded5-4fad-940c-650d810049d2\" target=\"_top\" title=\"psysml:70c9c3cf-ded5-4fad-940c-650d810049d2\" xlink:actuate=\"onRequest\" xlink:href=\"psysml:70c9c3cf-ded5-4fad-940c-650d810049d2\" xlink:show=\"new\" xlink:title=\"psysml:70c9c3cf-ded5-4fad-940c-650d810049d2\" xlink:type=\"simple\"><path d=\"M204.42,198.22 C194.55,211.26 181.97,227.88 170.62,242.87 \" fill=\"none\" id=\"E2-to-E3\" style=\"stroke:#181818;stroke-width:1.0;\"/><polygon fill=\"#FFFFFF\" points=\"158.54,258.83,164.4286,239.4567,175.5901,247.9078,158.54,258.83\" style=\"stroke:#181818;stroke-width:1.0;\"/><ellipse cx=\"169.4639\" cy=\"236.1197\" fill=\"#181818\" rx=\"2\" ry=\"2\" style=\"stroke:#181818;stroke-width:1.0;\"/><ellipse cx=\"177.4364\" cy=\"242.1562\" fill=\"#181818\" rx=\"2\" ry=\"2\" style=\"stroke:#181818;stroke-width:1.0;\"/></a></g><!--MD5=[4672eba38e49728da53d11aeb285b987]\n",
       "reverse link E3 to E4--><g id=\"link_E3_E4\"><a href=\"psysml:1e28e0ed-b5c0-4fac-98b2-855fbe266c1f\" target=\"_top\" title=\"psysml:1e28e0ed-b5c0-4fac-98b2-855fbe266c1f\" xlink:actuate=\"onRequest\" xlink:href=\"psysml:1e28e0ed-b5c0-4fac-98b2-855fbe266c1f\" xlink:show=\"new\" xlink:title=\"psysml:1e28e0ed-b5c0-4fac-98b2-855fbe266c1f\" xlink:type=\"simple\"><path d=\"M112.72,317.45 C92.93,340.88 70,368 70,368 C70,368 70,416.01 70,445.83 \" fill=\"none\" id=\"E3-backto-E4\" style=\"stroke:#181818;stroke-width:1.0;\"/><polygon fill=\"#181818\" points=\"121.22,307.4,114.2926,309.4028,113.477,316.5676,120.4044,314.5648,121.22,307.4\" style=\"stroke:#181818;stroke-width:1.0;\"/></a></g><!--MD5=[191cde3d490a3f6d7bb551fe3ddca469]\n",
       "reverse link E3 to E5--><g id=\"link_E3_E5\"><a href=\"psysml:b5974af5-b28c-458b-89e4-95d46de68236\" target=\"_top\" title=\"psysml:b5974af5-b28c-458b-89e4-95d46de68236\" xlink:actuate=\"onRequest\" xlink:href=\"psysml:b5974af5-b28c-458b-89e4-95d46de68236\" xlink:show=\"new\" xlink:title=\"psysml:b5974af5-b28c-458b-89e4-95d46de68236\" xlink:type=\"simple\"><path d=\"M153.39,319.83 C158.86,335.66 165.14,353.82 169.99,367.83 \" fill=\"none\" id=\"E3-backto-E5\" style=\"stroke:#181818;stroke-width:1.0;\"/><polygon fill=\"none\" points=\"149.03,307.22,147.2077,314.1971,152.9472,318.5627,154.7695,311.5856,149.03,307.22\" style=\"stroke:#181818;stroke-width:1.0;\"/></a></g><!--MD5=[79568f1e445c3877b6a54524624ccc7d]\n",
       "link E4 to E6--><g id=\"link_E4_E6\"><a href=\"psysml:83940360-bfcd-4ab6-95b9-9006ad1a30a4\" target=\"_top\" title=\"psysml:83940360-bfcd-4ab6-95b9-9006ad1a30a4\" xlink:actuate=\"onRequest\" xlink:href=\"psysml:83940360-bfcd-4ab6-95b9-9006ad1a30a4\" xlink:show=\"new\" xlink:title=\"psysml:83940360-bfcd-4ab6-95b9-9006ad1a30a4\" xlink:type=\"simple\"><path d=\"M76.88,494.17 C85.74,523.99 100,572 100,572 C100,572 116.23,603.2 130.55,630.75 \" fill=\"none\" id=\"E4-to-E6\" style=\"stroke:#181818;stroke-width:1.0;\"/><polygon fill=\"#FFFFFF\" points=\"139.94,648.81,124.9624,635.1839,137.3828,628.7237,139.94,648.81\" style=\"stroke:#181818;stroke-width:1.0;\"/><ellipse cx=\"124.1065\" cy=\"629.2041\" fill=\"#181818\" rx=\"2\" ry=\"2\" style=\"stroke:#181818;stroke-width:1.0;\"/><ellipse cx=\"132.9782\" cy=\"624.5897\" fill=\"#181818\" rx=\"2\" ry=\"2\" style=\"stroke:#181818;stroke-width:1.0;\"/></a></g><!--MD5=[3f50a3473f1dfb74d3f76443e03635af]\n",
       "reverse link E6 to E7--><g id=\"link_E6_E7\"><a href=\"psysml:c7c30ff0-7abe-445a-9147-4c620b104f3e\" target=\"_top\" title=\"psysml:c7c30ff0-7abe-445a-9147-4c620b104f3e\" xlink:actuate=\"onRequest\" xlink:href=\"psysml:c7c30ff0-7abe-445a-9147-4c620b104f3e\" xlink:show=\"new\" xlink:title=\"psysml:c7c30ff0-7abe-445a-9147-4c620b104f3e\" xlink:type=\"simple\"><path d=\"M164.05,709.83 C169.38,725.66 175.49,743.82 180.2,757.83 \" fill=\"none\" id=\"E6-backto-E7\" style=\"stroke:#181818;stroke-width:1.0;\"/><polygon fill=\"#181818\" points=\"159.81,697.22,157.9296,704.1816,163.6324,708.5949,165.5128,701.6333,159.81,697.22\" style=\"stroke:#181818;stroke-width:1.0;\"/></a></g><!--MD5=[14ccda38c055a5c0da953d572bc50960]\n",
       "link E7 to E3--><g id=\"link_E7_E3\"><a href=\"psysml:4a79bdb3-77e8-4e9c-befa-ce9a0c7716db\" target=\"_top\" title=\"psysml:4a79bdb3-77e8-4e9c-befa-ce9a0c7716db\" xlink:actuate=\"onRequest\" xlink:href=\"psysml:4a79bdb3-77e8-4e9c-befa-ce9a0c7716db\" xlink:show=\"new\" xlink:title=\"psysml:4a79bdb3-77e8-4e9c-befa-ce9a0c7716db\" xlink:type=\"simple\"><path d=\"M198.2,757.78 C212.02,726.31 235,674 235,674 C235,391 235,391 235,391 C235,391 217,368 217,368 C217,368 195.85,344.63 175.87,322.54 \" fill=\"none\" id=\"E7-to-E3\" style=\"stroke:#181818;stroke-width:1.0;\"/><polygon fill=\"#FFFFFF\" points=\"162.17,307.4,180.1124,316.7846,169.7351,326.1821,162.17,307.4\" style=\"stroke:#181818;stroke-width:1.0;\"/><ellipse cx=\"182.456\" cy=\"322.3522\" fill=\"#181818\" rx=\"2\" ry=\"2\" style=\"stroke:#181818;stroke-width:1.0;\"/><ellipse cx=\"175.0437\" cy=\"329.0647\" fill=\"#181818\" rx=\"2\" ry=\"2\" style=\"stroke:#181818;stroke-width:1.0;\"/></a></g><!--MD5=[dfaffb906826c3e5aca635516100ff21]\n",
       "link E5 to E8--><g id=\"link_E5_E8\"><a href=\"psysml:d776694e-c79b-404c-b561-ae1c1a2e3f3d\" target=\"_top\" title=\"psysml:d776694e-c79b-404c-b561-ae1c1a2e3f3d\" xlink:actuate=\"onRequest\" xlink:href=\"psysml:d776694e-c79b-404c-b561-ae1c1a2e3f3d\" xlink:show=\"new\" xlink:title=\"psysml:d776694e-c79b-404c-b561-ae1c1a2e3f3d\" xlink:type=\"simple\"><path d=\"M174.11,416.06 C170.2,439.19 164.09,475.38 159.28,503.86 \" fill=\"none\" id=\"E5-to-E8\" style=\"stroke:#181818;stroke-width:1.0;\"/><polygon fill=\"#FFFFFF\" points=\"155.92,523.79,152.1809,503.8898,165.9855,506.2206,155.92,523.79\" style=\"stroke:#181818;stroke-width:1.0;\"/><ellipse cx=\"155.1019\" cy=\"498.6023\" fill=\"#181818\" rx=\"2\" ry=\"2\" style=\"stroke:#181818;stroke-width:1.0;\"/><ellipse cx=\"164.9624\" cy=\"500.2671\" fill=\"#181818\" rx=\"2\" ry=\"2\" style=\"stroke:#181818;stroke-width:1.0;\"/></a></g><!--MD5=[03c8294790d3c57651a1993cecff665f]\n",
       "reverse link E8 to E3--><g id=\"link_E8_E3\"><a href=\"psysml:c4551329-8b56-4fd0-9fbf-f2d280f6b39b\" target=\"_top\" title=\"psysml:c4551329-8b56-4fd0-9fbf-f2d280f6b39b\" xlink:actuate=\"onRequest\" xlink:href=\"psysml:c4551329-8b56-4fd0-9fbf-f2d280f6b39b\" xlink:show=\"new\" xlink:title=\"psysml:c4551329-8b56-4fd0-9fbf-f2d280f6b39b\" xlink:type=\"simple\"><path d=\"M146.23,511.01 C140.01,472.23 131,416 131,416 C131,416 131,368 131,368 C131,368 135.26,332.25 138.21,307.4 \" fill=\"none\" id=\"E8-backto-E3\" style=\"stroke:#181818;stroke-width:1.0;\"/><polygon fill=\"none\" points=\"148.29,523.88,151.2907,517.3229,146.3921,512.031,143.3914,518.5882,148.29,523.88\" style=\"stroke:#181818;stroke-width:1.0;\"/><text fill=\"#000000\" font-family=\"sans-serif\" font-size=\"13\" lengthAdjust=\"spacing\" textLength=\"7\" x=\"132\" y=\"396.5669\">y</text></a></g><!--MD5=[0d75d2178373a6a4568e5dc728f58aef]\n",
       "reverse link E8 to E6--><g id=\"link_E8_E6\"><a href=\"psysml:c4551329-8b56-4fd0-9fbf-f2d280f6b39b\" target=\"_top\" title=\"psysml:c4551329-8b56-4fd0-9fbf-f2d280f6b39b\" xlink:actuate=\"onRequest\" xlink:href=\"psysml:c4551329-8b56-4fd0-9fbf-f2d280f6b39b\" xlink:show=\"new\" xlink:title=\"psysml:c4551329-8b56-4fd0-9fbf-f2d280f6b39b\" xlink:type=\"simple\"><path d=\"M152,585.21 C152,605.83 152,631.04 152,648.97 \" fill=\"none\" id=\"E8-backto-E6\" style=\"stroke:#181818;stroke-width:1.0;\"/><polygon fill=\"none\" points=\"152,572.14,148,578.14,152,584.14,156,578.14,152,572.14\" style=\"stroke:#181818;stroke-width:1.0;\"/><text fill=\"#000000\" font-family=\"sans-serif\" font-size=\"13\" lengthAdjust=\"spacing\" textLength=\"7\" x=\"153\" y=\"615.0669\">y</text></a></g><!--MD5=[23ac544a70576c3e717098101004234c]\n",
       "reverse link E9 to E10--><g id=\"link_E9_E10\"><a href=\"psysml:5a5abb4f-4a57-47f4-8d13-1f5dca85ed3b\" target=\"_top\" title=\"psysml:5a5abb4f-4a57-47f4-8d13-1f5dca85ed3b\" xlink:actuate=\"onRequest\" xlink:href=\"psysml:5a5abb4f-4a57-47f4-8d13-1f5dca85ed3b\" xlink:show=\"new\" xlink:title=\"psysml:5a5abb4f-4a57-47f4-8d13-1f5dca85ed3b\" xlink:type=\"simple\"><path d=\"M88.47,101.35 C81.47,117.29 73.39,135.68 67.18,149.83 \" fill=\"none\" id=\"E9-backto-E10\" style=\"stroke:#181818;stroke-width:1.0;\"/><polygon fill=\"none\" points=\"93.8,89.22,87.7243,93.1041,88.9729,100.2063,95.0485,96.3222,93.8,89.22\" style=\"stroke:#181818;stroke-width:1.0;\"/></a></g><!--MD5=[feeac5eb423634930294aa81f2d25a4c]\n",
       "link E10 to E3--><g id=\"link_E10_E3\"><a href=\"psysml:d7f66802-941a-4496-884a-36d82493c03e\" target=\"_top\" title=\"psysml:d7f66802-941a-4496-884a-36d82493c03e\" xlink:actuate=\"onRequest\" xlink:href=\"psysml:d7f66802-941a-4496-884a-36d82493c03e\" xlink:show=\"new\" xlink:title=\"psysml:d7f66802-941a-4496-884a-36d82493c03e\" xlink:type=\"simple\"><path d=\"M75.23,198.22 C85.46,211.26 98.51,227.88 110.28,242.87 \" fill=\"none\" id=\"E10-to-E3\" style=\"stroke:#181818;stroke-width:1.0;\"/><polygon fill=\"#FFFFFF\" points=\"122.81,258.83,105.5676,248.214,116.5764,239.565,122.81,258.83\" style=\"stroke:#181818;stroke-width:1.0;\"/><ellipse cx=\"103.6189\" cy=\"242.4963\" fill=\"#181818\" rx=\"2\" ry=\"2\" style=\"stroke:#181818;stroke-width:1.0;\"/><ellipse cx=\"111.4823\" cy=\"236.3184\" fill=\"#181818\" rx=\"2\" ry=\"2\" style=\"stroke:#181818;stroke-width:1.0;\"/></a></g><!--MD5=[1fc04a95fd77ad5ce46c1a3027516051]\n",
       "reverse link E9 to E11--><g id=\"link_E9_E11\"><a href=\"psysml:8187499b-9a51-4939-bbf5-c8a0ee670e5b\" target=\"_top\" title=\"psysml:8187499b-9a51-4939-bbf5-c8a0ee670e5b\" xlink:actuate=\"onRequest\" xlink:href=\"psysml:8187499b-9a51-4939-bbf5-c8a0ee670e5b\" xlink:show=\"new\" xlink:title=\"psysml:8187499b-9a51-4939-bbf5-c8a0ee670e5b\" xlink:type=\"simple\"><path d=\"M116.39,101.83 C121.86,117.66 128.14,135.82 132.99,149.83 \" fill=\"none\" id=\"E9-backto-E11\" style=\"stroke:#181818;stroke-width:1.0;\"/><polygon fill=\"none\" points=\"112.03,89.22,110.2077,96.1971,115.9472,100.5627,117.7695,93.5856,112.03,89.22\" style=\"stroke:#181818;stroke-width:1.0;\"/></a></g><!--MD5=[0517f1ce58c4d5483948f93845c45e26]\n",
       "link E11 to E3--><g id=\"link_E11_E3\"><a href=\"psysml:ca7307c2-0235-4c1e-8766-bbb66b330e4f\" target=\"_top\" title=\"psysml:ca7307c2-0235-4c1e-8766-bbb66b330e4f\" xlink:actuate=\"onRequest\" xlink:href=\"psysml:ca7307c2-0235-4c1e-8766-bbb66b330e4f\" xlink:show=\"new\" xlink:title=\"psysml:ca7307c2-0235-4c1e-8766-bbb66b330e4f\" xlink:type=\"simple\"><path d=\"M141,198.22 C141,210 141,224.69 141,238.48 \" fill=\"none\" id=\"E11-to-E3\" style=\"stroke:#181818;stroke-width:1.0;\"/><polygon fill=\"#FFFFFF\" points=\"141,258.83,134,239.83,148,239.83,141,258.83\" style=\"stroke:#181818;stroke-width:1.0;\"/><ellipse cx=\"136\" cy=\"234.13\" fill=\"#181818\" rx=\"2\" ry=\"2\" style=\"stroke:#181818;stroke-width:1.0;\"/><ellipse cx=\"146\" cy=\"234.13\" fill=\"#181818\" rx=\"2\" ry=\"2\" style=\"stroke:#181818;stroke-width:1.0;\"/></a></g><!--MD5=[747379a0d354850628a6cb0ecfcfa820]\n",
       "@startuml\r\n",
       "skin sysmlbw\r\n",
       "skinparam monochrome true\r\n",
       "skinparam wrapWidth 300\r\n",
       "hide circle\r\n",
       "skinparam linetype polyline\r\n",
       "\r\n",
       "package \"ItemTest\" as E1  [[psysml:cd87d2b7-4fa1-4c1b-a4f6-af691b0dec58 ]]  {\r\n",
       "comp usage \"f: A  \" as E2  <<(T,blue) item>> [[psysml:a6e7d788-746b-466d-b844-23a78300b1ae ]] {\r\n",
       "}\r\n",
       "comp def \"A\" as E3  <<(T,blue) item  def>> [[psysml:7645df02-ea24-41fb-927b-82e0988a44f2 ]] {\r\n",
       "}\r\n",
       "comp usage \"b: B  \" as E4  <<(T,blue) item>> [[psysml:426ed2e2-6591-4c8f-a505-52d546190911 ]] {\r\n",
       "}\r\n",
       "comp usage \"c: C  \" as E5  <<(T,blue) part>> [[psysml:331ec08e-03d4-4ef2-9768-da2cb6dfa326 ]] {\r\n",
       "}\r\n",
       "comp def \"<i>B</i>\" as E6  <<(T,blue) item  def>> [[psysml:1c5a109b-6d3b-4425-b763-85184515822e ]] {\r\n",
       "}\r\n",
       "comp usage \"<i>a</i>: A  \" as E7  <<(T,blue) part>> [[psysml:3d3f18ff-1114-439a-91a9-78796a10458c ]] {\r\n",
       "}\r\n",
       "comp def \"C\" as E8  <<(T,blue) part  def>> [[psysml:1568c6af-b382-4c7f-b02a-0d87dd86c0f5 ]] {\r\n",
       "}\r\n",
       "comp def \"P\" as E9  <<(T,blue) port  def>> [[psysml:7b3481ba-f47b-4c12-87df-4d6f620e6d00 ]] {\r\n",
       "}\r\n",
       "comp usage \"a1: A  \" as E10  <<(T,blue) item>> [[psysml:116f794f-fd18-4d42-8d94-9abf783d43f0 ]] {\r\n",
       "}\r\n",
       "comp usage \"a2: A  \" as E11  <<(T,blue) item>> [[psysml:16572df6-eec3-489a-80d1-3b65de425cbd ]] {\r\n",
       "}\r\n",
       "}\r\n",
       "E2 - -:|> E3 [[psysml:70c9c3cf-ded5-4fad-940c-650d810049d2 ]] \r\n",
       "E3 *- - E4 [[psysml:1e28e0ed-b5c0-4fac-98b2-855fbe266c1f ]] \r\n",
       "E3 o- - E5 [[psysml:b5974af5-b28c-458b-89e4-95d46de68236 ]] \r\n",
       "E4 - -:|> E6 [[psysml:83940360-bfcd-4ab6-95b9-9006ad1a30a4 ]] \r\n",
       "E6 *- - E7 [[psysml:c7c30ff0-7abe-445a-9147-4c620b104f3e ]] \r\n",
       "E7 - -:|> E3 [[psysml:4a79bdb3-77e8-4e9c-befa-ce9a0c7716db ]] \r\n",
       "E5 - -:|> E8 [[psysml:d776694e-c79b-404c-b561-ae1c1a2e3f3d ]] \r\n",
       "E8 o- - E3 [[psysml:c4551329-8b56-4fd0-9fbf-f2d280f6b39b ]] : y\r\n",
       "E8 o- - E6 [[psysml:c4551329-8b56-4fd0-9fbf-f2d280f6b39b ]] : y\r\n",
       "E9 o- - E10 [[psysml:5a5abb4f-4a57-47f4-8d13-1f5dca85ed3b ]] \r\n",
       "E10 - -:|> E3 [[psysml:d7f66802-941a-4496-884a-36d82493c03e ]] \r\n",
       "E9 o- - E11 [[psysml:8187499b-9a51-4939-bbf5-c8a0ee670e5b ]] \r\n",
       "E11 - -:|> E3 [[psysml:ca7307c2-0235-4c1e-8766-bbb66b330e4f ]] \r\n",
       "@enduml\r\n",
       "\n",
       "PlantUML version 1.2022.7(Mon Aug 22 17:01:30 UTC 2022)\n",
       "(EPL source distribution)\n",
       "Java Runtime: OpenJDK Runtime Environment\n",
       "JVM: OpenJDK 64-Bit Server VM\n",
       "Default Encoding: UTF-8\n",
       "Language: en\n",
       "Country: null\n",
       "--></g></svg>"
      ]
     },
     "execution_count": 15,
     "metadata": {},
     "output_type": "execute_result"
    }
   ],
   "source": [
    "%viz --style=\"POLYLINE\" --view=\"MIXED\" \"ItemTest\""
   ]
  },
  {
   "cell_type": "code",
   "execution_count": 16,
   "id": "48cad770",
   "metadata": {
    "execution": {
     "iopub.execute_input": "2024-12-16T14:15:16.472464Z",
     "iopub.status.busy": "2024-12-16T14:15:16.472235Z",
     "iopub.status.idle": "2024-12-16T14:15:16.509549Z",
     "shell.execute_reply": "2024-12-16T14:15:16.508535Z"
    }
   },
   "outputs": [
    {
     "data": {
      "image/svg+xml": [
       "<?xml version=\"1.0\" encoding=\"UTF-8\" standalone=\"no\"?><svg xmlns=\"http://www.w3.org/2000/svg\" xmlns:xlink=\"http://www.w3.org/1999/xlink\" contentStyleType=\"text/css\" height=\"278px\" preserveAspectRatio=\"none\" style=\"width:896px;height:278px;background:#FFFFFF;\" version=\"1.1\" viewBox=\"0 0 896 278\" width=\"896px\" zoomAndPan=\"magnify\"><defs/><g><!--MD5=[fbc87193dbaf4d95561dea2c320d4a47]\n",
       "cluster E1--><g id=\"cluster_E1\"><a href=\"psysml:cd87d2b7-4fa1-4c1b-a4f6-af691b0dec58\" target=\"_top\" title=\"psysml:cd87d2b7-4fa1-4c1b-a4f6-af691b0dec58\" xlink:actuate=\"onRequest\" xlink:href=\"psysml:cd87d2b7-4fa1-4c1b-a4f6-af691b0dec58\" xlink:show=\"new\" xlink:title=\"psysml:cd87d2b7-4fa1-4c1b-a4f6-af691b0dec58\" xlink:type=\"simple\"><polygon fill=\"none\" points=\"16,6,86.5,6,93.5,28.2969,879,28.2969,879,271,16,271,16,6\" style=\"stroke:#000000;stroke-width:1.5;\"/><line style=\"stroke:#000000;stroke-width:1.5;\" x1=\"16\" x2=\"93.5\" y1=\"28.2969\" y2=\"28.2969\"/><text fill=\"#000000\" font-family=\"sans-serif\" font-size=\"14\" font-weight=\"bold\" lengthAdjust=\"spacing\" textLength=\"64.5\" x=\"20\" y=\"20.9951\">ItemTest</text></a></g><!--MD5=[b4997ac47864f28c2f74865a473b2911]\n",
       "class E2--><a href=\"psysml:a6e7d788-746b-466d-b844-23a78300b1ae\" target=\"_top\" title=\"psysml:a6e7d788-746b-466d-b844-23a78300b1ae\" xlink:actuate=\"onRequest\" xlink:href=\"psysml:a6e7d788-746b-466d-b844-23a78300b1ae\" xlink:show=\"new\" xlink:title=\"psysml:a6e7d788-746b-466d-b844-23a78300b1ae\" xlink:type=\"simple\"><g id=\"elem_E2\"><rect fill=\"#FFFFFF\" height=\"48.2656\" id=\"E2\" rx=\"10\" ry=\"10\" style=\"stroke:#181818;stroke-width:0.5;\" width=\"43\" x=\"166\" y=\"41\"/><text fill=\"#000000\" font-family=\"sans-serif\" font-size=\"12\" font-style=\"italic\" lengthAdjust=\"spacing\" textLength=\"41\" x=\"167\" y=\"57.1387\">«item»</text><text fill=\"#000000\" font-family=\"sans-serif\" font-size=\"14\" lengthAdjust=\"spacing\" textLength=\"22\" x=\"172.5\" y=\"72.9639\">f: A</text><line style=\"stroke:#181818;stroke-width:0.5;\" x1=\"167\" x2=\"208\" y1=\"81.2656\" y2=\"81.2656\"/></g></a><!--MD5=[09b614a08d8cba4a07c9adeb5e0fee81]\n",
       "class E3--><a href=\"psysml:7645df02-ea24-41fb-927b-82e0988a44f2\" target=\"_top\" title=\"psysml:7645df02-ea24-41fb-927b-82e0988a44f2\" xlink:actuate=\"onRequest\" xlink:href=\"psysml:7645df02-ea24-41fb-927b-82e0988a44f2\" xlink:show=\"new\" xlink:title=\"psysml:7645df02-ea24-41fb-927b-82e0988a44f2\" xlink:type=\"simple\"><g id=\"elem_E3\"><rect fill=\"#FFFFFF\" height=\"48.2656\" id=\"E3\" style=\"stroke:#181818;stroke-width:0.5;\" width=\"71\" x=\"273\" y=\"124\"/><text fill=\"#000000\" font-family=\"sans-serif\" font-size=\"12\" font-style=\"italic\" lengthAdjust=\"spacing\" textLength=\"69\" x=\"274\" y=\"140.1387\">«item  def»</text><text fill=\"#000000\" font-family=\"sans-serif\" font-size=\"14\" lengthAdjust=\"spacing\" textLength=\"9\" x=\"304\" y=\"155.9639\">A</text><line style=\"stroke:#181818;stroke-width:0.5;\" x1=\"274\" x2=\"343\" y1=\"164.2656\" y2=\"164.2656\"/></g></a><!--MD5=[ebbe1d658d1005bcc118a6aa81145e00]\n",
       "class E4--><a href=\"psysml:426ed2e2-6591-4c8f-a505-52d546190911\" target=\"_top\" title=\"psysml:426ed2e2-6591-4c8f-a505-52d546190911\" xlink:actuate=\"onRequest\" xlink:href=\"psysml:426ed2e2-6591-4c8f-a505-52d546190911\" xlink:show=\"new\" xlink:title=\"psysml:426ed2e2-6591-4c8f-a505-52d546190911\" xlink:type=\"simple\"><g id=\"elem_E4\"><rect fill=\"#FFFFFF\" height=\"48.2656\" id=\"E4\" rx=\"10\" ry=\"10\" style=\"stroke:#181818;stroke-width:0.5;\" width=\"43\" x=\"477\" y=\"196\"/><text fill=\"#000000\" font-family=\"sans-serif\" font-size=\"12\" font-style=\"italic\" lengthAdjust=\"spacing\" textLength=\"41\" x=\"478\" y=\"212.1387\">«item»</text><text fill=\"#000000\" font-family=\"sans-serif\" font-size=\"14\" lengthAdjust=\"spacing\" textLength=\"28\" x=\"480.5\" y=\"227.9639\">b: B</text><line style=\"stroke:#181818;stroke-width:0.5;\" x1=\"478\" x2=\"519\" y1=\"236.2656\" y2=\"236.2656\"/></g></a><!--MD5=[270fce915f116d4de14055a7c1d9a0f3]\n",
       "class E5--><a href=\"psysml:331ec08e-03d4-4ef2-9768-da2cb6dfa326\" target=\"_top\" title=\"psysml:331ec08e-03d4-4ef2-9768-da2cb6dfa326\" xlink:actuate=\"onRequest\" xlink:href=\"psysml:331ec08e-03d4-4ef2-9768-da2cb6dfa326\" xlink:show=\"new\" xlink:title=\"psysml:331ec08e-03d4-4ef2-9768-da2cb6dfa326\" xlink:type=\"simple\"><g id=\"elem_E5\"><rect fill=\"#FFFFFF\" height=\"48.2656\" id=\"E5\" rx=\"10\" ry=\"10\" style=\"stroke:#181818;stroke-width:0.5;\" width=\"42\" x=\"405\" y=\"80\"/><text fill=\"#000000\" font-family=\"sans-serif\" font-size=\"12\" font-style=\"italic\" lengthAdjust=\"spacing\" textLength=\"40\" x=\"406\" y=\"96.1387\">«part»</text><text fill=\"#000000\" font-family=\"sans-serif\" font-size=\"14\" lengthAdjust=\"spacing\" textLength=\"27\" x=\"408.5\" y=\"111.9639\">c: C</text><line style=\"stroke:#181818;stroke-width:0.5;\" x1=\"406\" x2=\"446\" y1=\"120.2656\" y2=\"120.2656\"/></g></a><!--MD5=[60a26617385b1d2d0262a64233df1f8d]\n",
       "class E6--><a href=\"psysml:1c5a109b-6d3b-4425-b763-85184515822e\" target=\"_top\" title=\"psysml:1c5a109b-6d3b-4425-b763-85184515822e\" xlink:actuate=\"onRequest\" xlink:href=\"psysml:1c5a109b-6d3b-4425-b763-85184515822e\" xlink:show=\"new\" xlink:title=\"psysml:1c5a109b-6d3b-4425-b763-85184515822e\" xlink:type=\"simple\"><g id=\"elem_E6\"><rect fill=\"#FFFFFF\" height=\"48.2656\" id=\"E6\" style=\"stroke:#181818;stroke-width:0.5;\" width=\"71\" x=\"689\" y=\"108\"/><text fill=\"#000000\" font-family=\"sans-serif\" font-size=\"12\" font-style=\"italic\" lengthAdjust=\"spacing\" textLength=\"69\" x=\"690\" y=\"124.1387\">«item  def»</text><text fill=\"#000000\" font-family=\"sans-serif\" font-size=\"14\" font-style=\"italic\" lengthAdjust=\"spacing\" textLength=\"10\" x=\"719.5\" y=\"139.9639\">B</text><line style=\"stroke:#181818;stroke-width:0.5;\" x1=\"690\" x2=\"759\" y1=\"148.2656\" y2=\"148.2656\"/></g></a><!--MD5=[2156ba9850f5573cc1fc38a6a4b2f02b]\n",
       "class E7--><a href=\"psysml:3d3f18ff-1114-439a-91a9-78796a10458c\" target=\"_top\" title=\"psysml:3d3f18ff-1114-439a-91a9-78796a10458c\" xlink:actuate=\"onRequest\" xlink:href=\"psysml:3d3f18ff-1114-439a-91a9-78796a10458c\" xlink:show=\"new\" xlink:title=\"psysml:3d3f18ff-1114-439a-91a9-78796a10458c\" xlink:type=\"simple\"><g id=\"elem_E7\"><rect fill=\"#FFFFFF\" height=\"48.2656\" id=\"E7\" rx=\"10\" ry=\"10\" style=\"stroke:#181818;stroke-width:0.5;\" width=\"42\" x=\"821\" y=\"74\"/><text fill=\"#000000\" font-family=\"sans-serif\" font-size=\"12\" font-style=\"italic\" lengthAdjust=\"spacing\" textLength=\"40\" x=\"822\" y=\"90.1387\">«part»</text><text fill=\"#000000\" font-family=\"sans-serif\" font-size=\"14\" font-style=\"italic\" lengthAdjust=\"spacing\" textLength=\"8\" x=\"825\" y=\"105.9639\">a</text><text fill=\"#000000\" font-family=\"sans-serif\" font-size=\"14\" lengthAdjust=\"spacing\" textLength=\"18\" x=\"833\" y=\"105.9639\">: A</text><line style=\"stroke:#181818;stroke-width:0.5;\" x1=\"822\" x2=\"862\" y1=\"114.2656\" y2=\"114.2656\"/></g></a><!--MD5=[b9389687b975829384b498ac4b7476b2]\n",
       "class E8--><a href=\"psysml:1568c6af-b382-4c7f-b02a-0d87dd86c0f5\" target=\"_top\" title=\"psysml:1568c6af-b382-4c7f-b02a-0d87dd86c0f5\" xlink:actuate=\"onRequest\" xlink:href=\"psysml:1568c6af-b382-4c7f-b02a-0d87dd86c0f5\" xlink:show=\"new\" xlink:title=\"psysml:1568c6af-b382-4c7f-b02a-0d87dd86c0f5\" xlink:type=\"simple\"><g id=\"elem_E8\"><rect fill=\"#FFFFFF\" height=\"48.2656\" id=\"E8\" style=\"stroke:#181818;stroke-width:0.5;\" width=\"70\" x=\"550\" y=\"108\"/><text fill=\"#000000\" font-family=\"sans-serif\" font-size=\"12\" font-style=\"italic\" lengthAdjust=\"spacing\" textLength=\"68\" x=\"551\" y=\"124.1387\">«part  def»</text><text fill=\"#000000\" font-family=\"sans-serif\" font-size=\"14\" lengthAdjust=\"spacing\" textLength=\"10\" x=\"580\" y=\"139.9639\">C</text><line style=\"stroke:#181818;stroke-width:0.5;\" x1=\"551\" x2=\"619\" y1=\"148.2656\" y2=\"148.2656\"/></g></a><!--MD5=[fd4143e9d270a159db93a4ea2a975926]\n",
       "class E9--><a href=\"psysml:7b3481ba-f47b-4c12-87df-4d6f620e6d00\" target=\"_top\" title=\"psysml:7b3481ba-f47b-4c12-87df-4d6f620e6d00\" xlink:actuate=\"onRequest\" xlink:href=\"psysml:7b3481ba-f47b-4c12-87df-4d6f620e6d00\" xlink:show=\"new\" xlink:title=\"psysml:7b3481ba-f47b-4c12-87df-4d6f620e6d00\" xlink:type=\"simple\"><g id=\"elem_E9\"><rect fill=\"#FFFFFF\" height=\"48.2656\" id=\"E9\" style=\"stroke:#181818;stroke-width:0.5;\" width=\"70\" x=\"32\" y=\"165\"/><text fill=\"#000000\" font-family=\"sans-serif\" font-size=\"12\" font-style=\"italic\" lengthAdjust=\"spacing\" textLength=\"68\" x=\"33\" y=\"181.1387\">«port  def»</text><text fill=\"#000000\" font-family=\"sans-serif\" font-size=\"14\" lengthAdjust=\"spacing\" textLength=\"9\" x=\"62.5\" y=\"196.9639\">P</text><line style=\"stroke:#181818;stroke-width:0.5;\" x1=\"33\" x2=\"101\" y1=\"205.2656\" y2=\"205.2656\"/></g></a><!--MD5=[96f4274e9e20536e775497830990834d]\n",
       "class E10--><a href=\"psysml:116f794f-fd18-4d42-8d94-9abf783d43f0\" target=\"_top\" title=\"psysml:116f794f-fd18-4d42-8d94-9abf783d43f0\" xlink:actuate=\"onRequest\" xlink:href=\"psysml:116f794f-fd18-4d42-8d94-9abf783d43f0\" xlink:show=\"new\" xlink:title=\"psysml:116f794f-fd18-4d42-8d94-9abf783d43f0\" xlink:type=\"simple\"><g id=\"elem_E10\"><rect fill=\"#FFFFFF\" height=\"48.2656\" id=\"E10\" rx=\"10\" ry=\"10\" style=\"stroke:#181818;stroke-width:0.5;\" width=\"49\" x=\"163\" y=\"207\"/><text fill=\"#000000\" font-family=\"sans-serif\" font-size=\"12\" font-style=\"italic\" lengthAdjust=\"spacing\" textLength=\"41\" x=\"167\" y=\"223.1387\">«item»</text><text fill=\"#000000\" font-family=\"sans-serif\" font-size=\"14\" lengthAdjust=\"spacing\" textLength=\"35\" x=\"166\" y=\"238.9639\">a1: A</text><line style=\"stroke:#181818;stroke-width:0.5;\" x1=\"164\" x2=\"211\" y1=\"247.2656\" y2=\"247.2656\"/></g></a><!--MD5=[1dd1bfd58a279cf63c5f349dbc8fc6a1]\n",
       "class E11--><a href=\"psysml:16572df6-eec3-489a-80d1-3b65de425cbd\" target=\"_top\" title=\"psysml:16572df6-eec3-489a-80d1-3b65de425cbd\" xlink:actuate=\"onRequest\" xlink:href=\"psysml:16572df6-eec3-489a-80d1-3b65de425cbd\" xlink:show=\"new\" xlink:title=\"psysml:16572df6-eec3-489a-80d1-3b65de425cbd\" xlink:type=\"simple\"><g id=\"elem_E11\"><rect fill=\"#FFFFFF\" height=\"48.2656\" id=\"E11\" rx=\"10\" ry=\"10\" style=\"stroke:#181818;stroke-width:0.5;\" width=\"49\" x=\"163\" y=\"124\"/><text fill=\"#000000\" font-family=\"sans-serif\" font-size=\"12\" font-style=\"italic\" lengthAdjust=\"spacing\" textLength=\"41\" x=\"167\" y=\"140.1387\">«item»</text><text fill=\"#000000\" font-family=\"sans-serif\" font-size=\"14\" lengthAdjust=\"spacing\" textLength=\"35\" x=\"166\" y=\"155.9639\">a2: A</text><line style=\"stroke:#181818;stroke-width:0.5;\" x1=\"164\" x2=\"211\" y1=\"164.2656\" y2=\"164.2656\"/></g></a><!--MD5=[2720a5a1f2c3fca2055b230370638851]\n",
       "link E2 to E3--><g id=\"link_E2_E3\"><a href=\"psysml:70c9c3cf-ded5-4fad-940c-650d810049d2\" target=\"_top\" title=\"psysml:70c9c3cf-ded5-4fad-940c-650d810049d2\" xlink:actuate=\"onRequest\" xlink:href=\"psysml:70c9c3cf-ded5-4fad-940c-650d810049d2\" xlink:show=\"new\" xlink:title=\"psysml:70c9c3cf-ded5-4fad-940c-650d810049d2\" xlink:type=\"simple\"><path d=\"M209.23,79.46 C222.34,88.61 239.91,100.86 256.57,112.48 \" fill=\"none\" id=\"E2-to-E3\" style=\"stroke:#181818;stroke-width:1.0;\"/><polygon fill=\"#FFFFFF\" points=\"273.04,123.97,253.4504,118.8466,261.4568,107.3619,273.04,123.97\" style=\"stroke:#181818;stroke-width:1.0;\"/><ellipse cx=\"249.9183\" cy=\"113.9462\" fill=\"#181818\" rx=\"2\" ry=\"2\" style=\"stroke:#181818;stroke-width:1.0;\"/><ellipse cx=\"255.6371\" cy=\"105.7429\" fill=\"#181818\" rx=\"2\" ry=\"2\" style=\"stroke:#181818;stroke-width:1.0;\"/></a></g><!--MD5=[4672eba38e49728da53d11aeb285b987]\n",
       "reverse link E3 to E4--><g id=\"link_E3_E4\"><a href=\"psysml:1e28e0ed-b5c0-4fac-98b2-855fbe266c1f\" target=\"_top\" title=\"psysml:1e28e0ed-b5c0-4fac-98b2-855fbe266c1f\" xlink:actuate=\"onRequest\" xlink:href=\"psysml:1e28e0ed-b5c0-4fac-98b2-855fbe266c1f\" xlink:show=\"new\" xlink:title=\"psysml:1e28e0ed-b5c0-4fac-98b2-855fbe266c1f\" xlink:type=\"simple\"><path d=\"M340.61,181.21 C357.85,197.16 380.68,214.59 405,223 C428.54,231.14 457.48,228.32 476.66,224.83 \" fill=\"none\" id=\"E3-backto-E4\" style=\"stroke:#181818;stroke-width:1.0;\"/><polygon fill=\"#181818\" points=\"331.13,172.07,332.6703,179.1147,339.7655,180.4023,338.2252,173.3576,331.13,172.07\" style=\"stroke:#181818;stroke-width:1.0;\"/></a></g><!--MD5=[191cde3d490a3f6d7bb551fe3ddca469]\n",
       "reverse link E3 to E5--><g id=\"link_E3_E5\"><a href=\"psysml:b5974af5-b28c-458b-89e4-95d46de68236\" target=\"_top\" title=\"psysml:b5974af5-b28c-458b-89e4-95d46de68236\" xlink:actuate=\"onRequest\" xlink:href=\"psysml:b5974af5-b28c-458b-89e4-95d46de68236\" xlink:show=\"new\" xlink:title=\"psysml:b5974af5-b28c-458b-89e4-95d46de68236\" xlink:type=\"simple\"><path d=\"M356.66,130.03 C373.46,123.64 391.49,116.77 404.81,111.69 \" fill=\"none\" id=\"E3-backto-E5\" style=\"stroke:#181818;stroke-width:1.0;\"/><polygon fill=\"none\" points=\"344.15,134.8,351.1812,136.4006,355.363,130.5259,348.3318,128.9253,344.15,134.8\" style=\"stroke:#181818;stroke-width:1.0;\"/></a></g><!--MD5=[79568f1e445c3877b6a54524624ccc7d]\n",
       "link E4 to E6--><g id=\"link_E4_E6\"><a href=\"psysml:83940360-bfcd-4ab6-95b9-9006ad1a30a4\" target=\"_top\" title=\"psysml:83940360-bfcd-4ab6-95b9-9006ad1a30a4\" xlink:actuate=\"onRequest\" xlink:href=\"psysml:83940360-bfcd-4ab6-95b9-9006ad1a30a4\" xlink:show=\"new\" xlink:title=\"psysml:83940360-bfcd-4ab6-95b9-9006ad1a30a4\" xlink:type=\"simple\"><path d=\"M520.41,211.88 C544.45,202.54 585.1,186.72 620,173 C636.15,166.65 653.71,159.71 669.69,153.38 \" fill=\"none\" id=\"E4-to-E6\" style=\"stroke:#181818;stroke-width:1.0;\"/><polygon fill=\"#FFFFFF\" points=\"688.55,145.9,673.4781,159.4218,668.308,146.4114,688.55,145.9\" style=\"stroke:#181818;stroke-width:1.0;\"/><ellipse cx=\"667.4425\" cy=\"159.6682\" fill=\"#181818\" rx=\"2\" ry=\"2\" style=\"stroke:#181818;stroke-width:1.0;\"/><ellipse cx=\"663.7495\" cy=\"150.3751\" fill=\"#181818\" rx=\"2\" ry=\"2\" style=\"stroke:#181818;stroke-width:1.0;\"/></a></g><!--MD5=[3f50a3473f1dfb74d3f76443e03635af]\n",
       "reverse link E6 to E7--><g id=\"link_E6_E7\"><a href=\"psysml:c7c30ff0-7abe-445a-9147-4c620b104f3e\" target=\"_top\" title=\"psysml:c7c30ff0-7abe-445a-9147-4c620b104f3e\" xlink:actuate=\"onRequest\" xlink:href=\"psysml:c7c30ff0-7abe-445a-9147-4c620b104f3e\" xlink:show=\"new\" xlink:title=\"psysml:c7c30ff0-7abe-445a-9147-4c620b104f3e\" xlink:type=\"simple\"><path d=\"M772.66,118.12 C789.46,113.17 807.49,107.86 820.81,103.94 \" fill=\"none\" id=\"E6-backto-E7\" style=\"stroke:#181818;stroke-width:1.0;\"/><polygon fill=\"#181818\" points=\"760.15,121.8,767.0354,123.9428,771.6615,118.4111,764.7762,116.2684,760.15,121.8\" style=\"stroke:#181818;stroke-width:1.0;\"/></a></g><!--MD5=[14ccda38c055a5c0da953d572bc50960]\n",
       "link E7 to E3--><g id=\"link_E7_E3\"><a href=\"psysml:4a79bdb3-77e8-4e9c-befa-ce9a0c7716db\" target=\"_top\" title=\"psysml:4a79bdb3-77e8-4e9c-befa-ce9a0c7716db\" xlink:actuate=\"onRequest\" xlink:href=\"psysml:4a79bdb3-77e8-4e9c-befa-ce9a0c7716db\" xlink:show=\"new\" xlink:title=\"psysml:4a79bdb3-77e8-4e9c-befa-ce9a0c7716db\" xlink:type=\"simple\"><path d=\"M820.63,81.8 C798.54,65.89 761.58,44 725.5,44 C425,44 425,44 425,44 C385.67,44 353.69,77.71 333.43,106.75 \" fill=\"none\" id=\"E7-to-E3\" style=\"stroke:#181818;stroke-width:1.0;\"/><polygon fill=\"#FFFFFF\" points=\"322.38,123.88,326.8018,104.1202,338.5646,111.7121,322.38,123.88\" style=\"stroke:#181818;stroke-width:1.0;\"/><ellipse cx=\"331.5731\" cy=\"100.4156\" fill=\"#181818\" rx=\"2\" ry=\"2\" style=\"stroke:#181818;stroke-width:1.0;\"/><ellipse cx=\"339.9752\" cy=\"105.8384\" fill=\"#181818\" rx=\"2\" ry=\"2\" style=\"stroke:#181818;stroke-width:1.0;\"/></a></g><!--MD5=[dfaffb906826c3e5aca635516100ff21]\n",
       "link E5 to E8--><g id=\"link_E5_E8\"><a href=\"psysml:d776694e-c79b-404c-b561-ae1c1a2e3f3d\" target=\"_top\" title=\"psysml:d776694e-c79b-404c-b561-ae1c1a2e3f3d\" xlink:actuate=\"onRequest\" xlink:href=\"psysml:d776694e-c79b-404c-b561-ae1c1a2e3f3d\" xlink:show=\"new\" xlink:title=\"psysml:d776694e-c79b-404c-b561-ae1c1a2e3f3d\" xlink:type=\"simple\"><path d=\"M447.2,107.6 C468.06,111.32 501.5,117.29 530.1,122.39 \" fill=\"none\" id=\"E5-to-E8\" style=\"stroke:#181818;stroke-width:1.0;\"/><polygon fill=\"#FFFFFF\" points=\"549.82,125.9,529.8855,129.452,532.3459,115.6699,549.82,125.9\" style=\"stroke:#181818;stroke-width:1.0;\"/><ellipse cx=\"524.6257\" cy=\"126.4814\" fill=\"#181818\" rx=\"2\" ry=\"2\" style=\"stroke:#181818;stroke-width:1.0;\"/><ellipse cx=\"526.3831\" cy=\"116.637\" fill=\"#181818\" rx=\"2\" ry=\"2\" style=\"stroke:#181818;stroke-width:1.0;\"/></a></g><!--MD5=[03c8294790d3c57651a1993cecff665f]\n",
       "reverse link E8 to E3--><g id=\"link_E8_E3\"><a href=\"psysml:c4551329-8b56-4fd0-9fbf-f2d280f6b39b\" target=\"_top\" title=\"psysml:c4551329-8b56-4fd0-9fbf-f2d280f6b39b\" xlink:actuate=\"onRequest\" xlink:href=\"psysml:c4551329-8b56-4fd0-9fbf-f2d280f6b39b\" xlink:show=\"new\" xlink:title=\"psysml:c4551329-8b56-4fd0-9fbf-f2d280f6b39b\" xlink:type=\"simple\"><path d=\"M537.34,144.84 C511.03,151.41 477.44,158.71 447,162 C428.44,164.01 423.62,163.36 405,162 C384.78,160.53 362.34,157.32 344.29,154.34 \" fill=\"none\" id=\"E8-backto-E3\" style=\"stroke:#181818;stroke-width:1.0;\"/><polygon fill=\"none\" points=\"549.99,141.59,543.1849,139.2045,538.3655,144.5686,545.1706,146.9541,549.99,141.59\" style=\"stroke:#181818;stroke-width:1.0;\"/><text fill=\"#000000\" font-family=\"sans-serif\" font-size=\"13\" lengthAdjust=\"spacing\" textLength=\"7\" x=\"422.5\" y=\"158.0669\">y</text></a></g><!--MD5=[0d75d2178373a6a4568e5dc728f58aef]\n",
       "reverse link E8 to E6--><g id=\"link_E8_E6\"><a href=\"psysml:c4551329-8b56-4fd0-9fbf-f2d280f6b39b\" target=\"_top\" title=\"psysml:c4551329-8b56-4fd0-9fbf-f2d280f6b39b\" xlink:actuate=\"onRequest\" xlink:href=\"psysml:c4551329-8b56-4fd0-9fbf-f2d280f6b39b\" xlink:show=\"new\" xlink:title=\"psysml:c4551329-8b56-4fd0-9fbf-f2d280f6b39b\" xlink:type=\"simple\"><path d=\"M633.39,132 C651.53,132 671.88,132 688.64,132 \" fill=\"none\" id=\"E8-backto-E6\" style=\"stroke:#181818;stroke-width:1.0;\"/><polygon fill=\"none\" points=\"620.34,132,626.34,136,632.34,132,626.34,128,620.34,132\" style=\"stroke:#181818;stroke-width:1.0;\"/><text fill=\"#000000\" font-family=\"sans-serif\" font-size=\"13\" lengthAdjust=\"spacing\" textLength=\"7\" x=\"651\" y=\"128.0669\">y</text></a></g><!--MD5=[23ac544a70576c3e717098101004234c]\n",
       "reverse link E9 to E10--><g id=\"link_E9_E10\"><a href=\"psysml:5a5abb4f-4a57-47f4-8d13-1f5dca85ed3b\" target=\"_top\" title=\"psysml:5a5abb4f-4a57-47f4-8d13-1f5dca85ed3b\" xlink:actuate=\"onRequest\" xlink:href=\"psysml:5a5abb4f-4a57-47f4-8d13-1f5dca85ed3b\" xlink:show=\"new\" xlink:title=\"psysml:5a5abb4f-4a57-47f4-8d13-1f5dca85ed3b\" xlink:type=\"simple\"><path d=\"M114.56,205.5 C131.09,211.36 149,217.71 162.82,222.61 \" fill=\"none\" id=\"E9-backto-E10\" style=\"stroke:#181818;stroke-width:1.0;\"/><polygon fill=\"none\" points=\"102.28,201.15,106.5996,206.9242,113.591,205.1576,109.2714,199.3835,102.28,201.15\" style=\"stroke:#181818;stroke-width:1.0;\"/></a></g><!--MD5=[feeac5eb423634930294aa81f2d25a4c]\n",
       "link E10 to E3--><g id=\"link_E10_E3\"><a href=\"psysml:d7f66802-941a-4496-884a-36d82493c03e\" target=\"_top\" title=\"psysml:d7f66802-941a-4496-884a-36d82493c03e\" xlink:actuate=\"onRequest\" xlink:href=\"psysml:d7f66802-941a-4496-884a-36d82493c03e\" xlink:show=\"new\" xlink:title=\"psysml:d7f66802-941a-4496-884a-36d82493c03e\" xlink:type=\"simple\"><path d=\"M212.01,214.6 C224.61,205.81 240.66,194.62 255.98,183.93 \" fill=\"none\" id=\"E10-to-E3\" style=\"stroke:#181818;stroke-width:1.0;\"/><polygon fill=\"#FFFFFF\" points=\"272.76,172.23,261.1835,188.8428,253.1725,177.3614,272.76,172.23\" style=\"stroke:#181818;stroke-width:1.0;\"/><ellipse cx=\"255.3645\" cy=\"190.4642\" fill=\"#181818\" rx=\"2\" ry=\"2\" style=\"stroke:#181818;stroke-width:1.0;\"/><ellipse cx=\"249.6424\" cy=\"182.2632\" fill=\"#181818\" rx=\"2\" ry=\"2\" style=\"stroke:#181818;stroke-width:1.0;\"/></a></g><!--MD5=[1fc04a95fd77ad5ce46c1a3027516051]\n",
       "reverse link E9 to E11--><g id=\"link_E9_E11\"><a href=\"psysml:8187499b-9a51-4939-bbf5-c8a0ee670e5b\" target=\"_top\" title=\"psysml:8187499b-9a51-4939-bbf5-c8a0ee670e5b\" xlink:actuate=\"onRequest\" xlink:href=\"psysml:8187499b-9a51-4939-bbf5-c8a0ee670e5b\" xlink:show=\"new\" xlink:title=\"psysml:8187499b-9a51-4939-bbf5-c8a0ee670e5b\" xlink:type=\"simple\"><path d=\"M115.04,172.72 C131.44,167.05 149.14,160.93 162.82,156.19 \" fill=\"none\" id=\"E9-backto-E11\" style=\"stroke:#181818;stroke-width:1.0;\"/><polygon fill=\"none\" points=\"102.28,177.14,109.2589,178.9551,113.6186,173.2111,106.6396,171.396,102.28,177.14\" style=\"stroke:#181818;stroke-width:1.0;\"/></a></g><!--MD5=[0517f1ce58c4d5483948f93845c45e26]\n",
       "link E11 to E3--><g id=\"link_E11_E3\"><a href=\"psysml:ca7307c2-0235-4c1e-8766-bbb66b330e4f\" target=\"_top\" title=\"psysml:ca7307c2-0235-4c1e-8766-bbb66b330e4f\" xlink:actuate=\"onRequest\" xlink:href=\"psysml:ca7307c2-0235-4c1e-8766-bbb66b330e4f\" xlink:show=\"new\" xlink:title=\"psysml:ca7307c2-0235-4c1e-8766-bbb66b330e4f\" xlink:type=\"simple\"><path d=\"M212.01,148 C223.66,148 238.26,148 252.51,148 \" fill=\"none\" id=\"E11-to-E3\" style=\"stroke:#181818;stroke-width:1.0;\"/><polygon fill=\"#FFFFFF\" points=\"272.76,148,253.76,155,253.76,141,272.76,148\" style=\"stroke:#181818;stroke-width:1.0;\"/><ellipse cx=\"248.06\" cy=\"153\" fill=\"#181818\" rx=\"2\" ry=\"2\" style=\"stroke:#181818;stroke-width:1.0;\"/><ellipse cx=\"248.06\" cy=\"143\" fill=\"#181818\" rx=\"2\" ry=\"2\" style=\"stroke:#181818;stroke-width:1.0;\"/></a></g><!--MD5=[946112f663b740a2d143fb0855a85cf6]\n",
       "@startuml\r\n",
       "skin sysmlbw\r\n",
       "skinparam monochrome true\r\n",
       "skinparam wrapWidth 300\r\n",
       "hide circle\r\n",
       "left to right direction\r\n",
       "\r\n",
       "package \"ItemTest\" as E1  [[psysml:cd87d2b7-4fa1-4c1b-a4f6-af691b0dec58 ]]  {\r\n",
       "comp usage \"f: A  \" as E2  <<(T,blue) item>> [[psysml:a6e7d788-746b-466d-b844-23a78300b1ae ]] {\r\n",
       "}\r\n",
       "comp def \"A\" as E3  <<(T,blue) item  def>> [[psysml:7645df02-ea24-41fb-927b-82e0988a44f2 ]] {\r\n",
       "}\r\n",
       "comp usage \"b: B  \" as E4  <<(T,blue) item>> [[psysml:426ed2e2-6591-4c8f-a505-52d546190911 ]] {\r\n",
       "}\r\n",
       "comp usage \"c: C  \" as E5  <<(T,blue) part>> [[psysml:331ec08e-03d4-4ef2-9768-da2cb6dfa326 ]] {\r\n",
       "}\r\n",
       "comp def \"<i>B</i>\" as E6  <<(T,blue) item  def>> [[psysml:1c5a109b-6d3b-4425-b763-85184515822e ]] {\r\n",
       "}\r\n",
       "comp usage \"<i>a</i>: A  \" as E7  <<(T,blue) part>> [[psysml:3d3f18ff-1114-439a-91a9-78796a10458c ]] {\r\n",
       "}\r\n",
       "comp def \"C\" as E8  <<(T,blue) part  def>> [[psysml:1568c6af-b382-4c7f-b02a-0d87dd86c0f5 ]] {\r\n",
       "}\r\n",
       "comp def \"P\" as E9  <<(T,blue) port  def>> [[psysml:7b3481ba-f47b-4c12-87df-4d6f620e6d00 ]] {\r\n",
       "}\r\n",
       "comp usage \"a1: A  \" as E10  <<(T,blue) item>> [[psysml:116f794f-fd18-4d42-8d94-9abf783d43f0 ]] {\r\n",
       "}\r\n",
       "comp usage \"a2: A  \" as E11  <<(T,blue) item>> [[psysml:16572df6-eec3-489a-80d1-3b65de425cbd ]] {\r\n",
       "}\r\n",
       "}\r\n",
       "E2 - -:|> E3 [[psysml:70c9c3cf-ded5-4fad-940c-650d810049d2 ]] \r\n",
       "E3 *- - E4 [[psysml:1e28e0ed-b5c0-4fac-98b2-855fbe266c1f ]] \r\n",
       "E3 o- - E5 [[psysml:b5974af5-b28c-458b-89e4-95d46de68236 ]] \r\n",
       "E4 - -:|> E6 [[psysml:83940360-bfcd-4ab6-95b9-9006ad1a30a4 ]] \r\n",
       "E6 *- - E7 [[psysml:c7c30ff0-7abe-445a-9147-4c620b104f3e ]] \r\n",
       "E7 - -:|> E3 [[psysml:4a79bdb3-77e8-4e9c-befa-ce9a0c7716db ]] \r\n",
       "E5 - -:|> E8 [[psysml:d776694e-c79b-404c-b561-ae1c1a2e3f3d ]] \r\n",
       "E8 o- - E3 [[psysml:c4551329-8b56-4fd0-9fbf-f2d280f6b39b ]] : y\r\n",
       "E8 o- - E6 [[psysml:c4551329-8b56-4fd0-9fbf-f2d280f6b39b ]] : y\r\n",
       "E9 o- - E10 [[psysml:5a5abb4f-4a57-47f4-8d13-1f5dca85ed3b ]] \r\n",
       "E10 - -:|> E3 [[psysml:d7f66802-941a-4496-884a-36d82493c03e ]] \r\n",
       "E9 o- - E11 [[psysml:8187499b-9a51-4939-bbf5-c8a0ee670e5b ]] \r\n",
       "E11 - -:|> E3 [[psysml:ca7307c2-0235-4c1e-8766-bbb66b330e4f ]] \r\n",
       "@enduml\r\n",
       "\n",
       "PlantUML version 1.2022.7(Mon Aug 22 17:01:30 UTC 2022)\n",
       "(EPL source distribution)\n",
       "Java Runtime: OpenJDK Runtime Environment\n",
       "JVM: OpenJDK 64-Bit Server VM\n",
       "Default Encoding: UTF-8\n",
       "Language: en\n",
       "Country: null\n",
       "--></g></svg>"
      ]
     },
     "execution_count": 16,
     "metadata": {},
     "output_type": "execute_result"
    }
   ],
   "source": [
    "%viz --style=\"LR\" --view=\"Default\" \"ItemTest\""
   ]
  },
  {
   "cell_type": "code",
   "execution_count": 17,
   "id": "6570d518",
   "metadata": {
    "execution": {
     "iopub.execute_input": "2024-12-16T14:15:16.564629Z",
     "iopub.status.busy": "2024-12-16T14:15:16.564391Z",
     "iopub.status.idle": "2024-12-16T14:15:16.589552Z",
     "shell.execute_reply": "2024-12-16T14:15:16.588644Z"
    }
   },
   "outputs": [
    {
     "data": {
      "image/svg+xml": [
       "<?xml version=\"1.0\" encoding=\"UTF-8\" standalone=\"no\"?><svg xmlns=\"http://www.w3.org/2000/svg\" xmlns:xlink=\"http://www.w3.org/1999/xlink\" contentStyleType=\"text/css\" height=\"278px\" preserveAspectRatio=\"none\" style=\"width:896px;height:278px;background:#FFFFFF;\" version=\"1.1\" viewBox=\"0 0 896 278\" width=\"896px\" zoomAndPan=\"magnify\"><defs/><g><!--MD5=[fbc87193dbaf4d95561dea2c320d4a47]\n",
       "cluster E1--><g id=\"cluster_E1\"><a href=\"psysml:cd87d2b7-4fa1-4c1b-a4f6-af691b0dec58\" target=\"_top\" title=\"psysml:cd87d2b7-4fa1-4c1b-a4f6-af691b0dec58\" xlink:actuate=\"onRequest\" xlink:href=\"psysml:cd87d2b7-4fa1-4c1b-a4f6-af691b0dec58\" xlink:show=\"new\" xlink:title=\"psysml:cd87d2b7-4fa1-4c1b-a4f6-af691b0dec58\" xlink:type=\"simple\"><polygon fill=\"none\" points=\"16,6,86.5,6,93.5,28.2969,879,28.2969,879,271,16,271,16,6\" style=\"stroke:#000000;stroke-width:1.5;\"/><line style=\"stroke:#000000;stroke-width:1.5;\" x1=\"16\" x2=\"93.5\" y1=\"28.2969\" y2=\"28.2969\"/><text fill=\"#000000\" font-family=\"sans-serif\" font-size=\"14\" font-weight=\"bold\" lengthAdjust=\"spacing\" textLength=\"64.5\" x=\"20\" y=\"20.9951\">ItemTest</text></a></g><!--MD5=[b4997ac47864f28c2f74865a473b2911]\n",
       "class E2--><a href=\"psysml:a6e7d788-746b-466d-b844-23a78300b1ae\" target=\"_top\" title=\"psysml:a6e7d788-746b-466d-b844-23a78300b1ae\" xlink:actuate=\"onRequest\" xlink:href=\"psysml:a6e7d788-746b-466d-b844-23a78300b1ae\" xlink:show=\"new\" xlink:title=\"psysml:a6e7d788-746b-466d-b844-23a78300b1ae\" xlink:type=\"simple\"><g id=\"elem_E2\"><rect fill=\"#FFFFFF\" height=\"48.2656\" id=\"E2\" rx=\"10\" ry=\"10\" style=\"stroke:#181818;stroke-width:0.5;\" width=\"43\" x=\"166\" y=\"41\"/><text fill=\"#000000\" font-family=\"sans-serif\" font-size=\"12\" font-style=\"italic\" lengthAdjust=\"spacing\" textLength=\"41\" x=\"167\" y=\"57.1387\">«item»</text><text fill=\"#000000\" font-family=\"sans-serif\" font-size=\"14\" lengthAdjust=\"spacing\" textLength=\"22\" x=\"172.5\" y=\"72.9639\">f: A</text><line style=\"stroke:#181818;stroke-width:0.5;\" x1=\"167\" x2=\"208\" y1=\"81.2656\" y2=\"81.2656\"/></g></a><!--MD5=[09b614a08d8cba4a07c9adeb5e0fee81]\n",
       "class E3--><a href=\"psysml:7645df02-ea24-41fb-927b-82e0988a44f2\" target=\"_top\" title=\"psysml:7645df02-ea24-41fb-927b-82e0988a44f2\" xlink:actuate=\"onRequest\" xlink:href=\"psysml:7645df02-ea24-41fb-927b-82e0988a44f2\" xlink:show=\"new\" xlink:title=\"psysml:7645df02-ea24-41fb-927b-82e0988a44f2\" xlink:type=\"simple\"><g id=\"elem_E3\"><rect fill=\"#FFFFFF\" height=\"48.2656\" id=\"E3\" style=\"stroke:#181818;stroke-width:0.5;\" width=\"71\" x=\"273\" y=\"124\"/><text fill=\"#000000\" font-family=\"sans-serif\" font-size=\"12\" font-style=\"italic\" lengthAdjust=\"spacing\" textLength=\"69\" x=\"274\" y=\"140.1387\">«item  def»</text><text fill=\"#000000\" font-family=\"sans-serif\" font-size=\"14\" lengthAdjust=\"spacing\" textLength=\"9\" x=\"304\" y=\"155.9639\">A</text><line style=\"stroke:#181818;stroke-width:0.5;\" x1=\"274\" x2=\"343\" y1=\"164.2656\" y2=\"164.2656\"/></g></a><!--MD5=[ebbe1d658d1005bcc118a6aa81145e00]\n",
       "class E4--><a href=\"psysml:426ed2e2-6591-4c8f-a505-52d546190911\" target=\"_top\" title=\"psysml:426ed2e2-6591-4c8f-a505-52d546190911\" xlink:actuate=\"onRequest\" xlink:href=\"psysml:426ed2e2-6591-4c8f-a505-52d546190911\" xlink:show=\"new\" xlink:title=\"psysml:426ed2e2-6591-4c8f-a505-52d546190911\" xlink:type=\"simple\"><g id=\"elem_E4\"><rect fill=\"#FFFFFF\" height=\"48.2656\" id=\"E4\" rx=\"10\" ry=\"10\" style=\"stroke:#181818;stroke-width:0.5;\" width=\"43\" x=\"477\" y=\"196\"/><text fill=\"#000000\" font-family=\"sans-serif\" font-size=\"12\" font-style=\"italic\" lengthAdjust=\"spacing\" textLength=\"41\" x=\"478\" y=\"212.1387\">«item»</text><text fill=\"#000000\" font-family=\"sans-serif\" font-size=\"14\" lengthAdjust=\"spacing\" textLength=\"28\" x=\"480.5\" y=\"227.9639\">b: B</text><line style=\"stroke:#181818;stroke-width:0.5;\" x1=\"478\" x2=\"519\" y1=\"236.2656\" y2=\"236.2656\"/></g></a><!--MD5=[270fce915f116d4de14055a7c1d9a0f3]\n",
       "class E5--><a href=\"psysml:331ec08e-03d4-4ef2-9768-da2cb6dfa326\" target=\"_top\" title=\"psysml:331ec08e-03d4-4ef2-9768-da2cb6dfa326\" xlink:actuate=\"onRequest\" xlink:href=\"psysml:331ec08e-03d4-4ef2-9768-da2cb6dfa326\" xlink:show=\"new\" xlink:title=\"psysml:331ec08e-03d4-4ef2-9768-da2cb6dfa326\" xlink:type=\"simple\"><g id=\"elem_E5\"><rect fill=\"#FFFFFF\" height=\"48.2656\" id=\"E5\" rx=\"10\" ry=\"10\" style=\"stroke:#181818;stroke-width:0.5;\" width=\"42\" x=\"405\" y=\"80\"/><text fill=\"#000000\" font-family=\"sans-serif\" font-size=\"12\" font-style=\"italic\" lengthAdjust=\"spacing\" textLength=\"40\" x=\"406\" y=\"96.1387\">«part»</text><text fill=\"#000000\" font-family=\"sans-serif\" font-size=\"14\" lengthAdjust=\"spacing\" textLength=\"27\" x=\"408.5\" y=\"111.9639\">c: C</text><line style=\"stroke:#181818;stroke-width:0.5;\" x1=\"406\" x2=\"446\" y1=\"120.2656\" y2=\"120.2656\"/></g></a><!--MD5=[60a26617385b1d2d0262a64233df1f8d]\n",
       "class E6--><a href=\"psysml:1c5a109b-6d3b-4425-b763-85184515822e\" target=\"_top\" title=\"psysml:1c5a109b-6d3b-4425-b763-85184515822e\" xlink:actuate=\"onRequest\" xlink:href=\"psysml:1c5a109b-6d3b-4425-b763-85184515822e\" xlink:show=\"new\" xlink:title=\"psysml:1c5a109b-6d3b-4425-b763-85184515822e\" xlink:type=\"simple\"><g id=\"elem_E6\"><rect fill=\"#FFFFFF\" height=\"48.2656\" id=\"E6\" style=\"stroke:#181818;stroke-width:0.5;\" width=\"71\" x=\"689\" y=\"108\"/><text fill=\"#000000\" font-family=\"sans-serif\" font-size=\"12\" font-style=\"italic\" lengthAdjust=\"spacing\" textLength=\"69\" x=\"690\" y=\"124.1387\">«item  def»</text><text fill=\"#000000\" font-family=\"sans-serif\" font-size=\"14\" font-style=\"italic\" lengthAdjust=\"spacing\" textLength=\"10\" x=\"719.5\" y=\"139.9639\">B</text><line style=\"stroke:#181818;stroke-width:0.5;\" x1=\"690\" x2=\"759\" y1=\"148.2656\" y2=\"148.2656\"/></g></a><!--MD5=[2156ba9850f5573cc1fc38a6a4b2f02b]\n",
       "class E7--><a href=\"psysml:3d3f18ff-1114-439a-91a9-78796a10458c\" target=\"_top\" title=\"psysml:3d3f18ff-1114-439a-91a9-78796a10458c\" xlink:actuate=\"onRequest\" xlink:href=\"psysml:3d3f18ff-1114-439a-91a9-78796a10458c\" xlink:show=\"new\" xlink:title=\"psysml:3d3f18ff-1114-439a-91a9-78796a10458c\" xlink:type=\"simple\"><g id=\"elem_E7\"><rect fill=\"#FFFFFF\" height=\"48.2656\" id=\"E7\" rx=\"10\" ry=\"10\" style=\"stroke:#181818;stroke-width:0.5;\" width=\"42\" x=\"821\" y=\"74\"/><text fill=\"#000000\" font-family=\"sans-serif\" font-size=\"12\" font-style=\"italic\" lengthAdjust=\"spacing\" textLength=\"40\" x=\"822\" y=\"90.1387\">«part»</text><text fill=\"#000000\" font-family=\"sans-serif\" font-size=\"14\" font-style=\"italic\" lengthAdjust=\"spacing\" textLength=\"8\" x=\"825\" y=\"105.9639\">a</text><text fill=\"#000000\" font-family=\"sans-serif\" font-size=\"14\" lengthAdjust=\"spacing\" textLength=\"18\" x=\"833\" y=\"105.9639\">: A</text><line style=\"stroke:#181818;stroke-width:0.5;\" x1=\"822\" x2=\"862\" y1=\"114.2656\" y2=\"114.2656\"/></g></a><!--MD5=[b9389687b975829384b498ac4b7476b2]\n",
       "class E8--><a href=\"psysml:1568c6af-b382-4c7f-b02a-0d87dd86c0f5\" target=\"_top\" title=\"psysml:1568c6af-b382-4c7f-b02a-0d87dd86c0f5\" xlink:actuate=\"onRequest\" xlink:href=\"psysml:1568c6af-b382-4c7f-b02a-0d87dd86c0f5\" xlink:show=\"new\" xlink:title=\"psysml:1568c6af-b382-4c7f-b02a-0d87dd86c0f5\" xlink:type=\"simple\"><g id=\"elem_E8\"><rect fill=\"#FFFFFF\" height=\"48.2656\" id=\"E8\" style=\"stroke:#181818;stroke-width:0.5;\" width=\"70\" x=\"550\" y=\"108\"/><text fill=\"#000000\" font-family=\"sans-serif\" font-size=\"12\" font-style=\"italic\" lengthAdjust=\"spacing\" textLength=\"68\" x=\"551\" y=\"124.1387\">«part  def»</text><text fill=\"#000000\" font-family=\"sans-serif\" font-size=\"14\" lengthAdjust=\"spacing\" textLength=\"10\" x=\"580\" y=\"139.9639\">C</text><line style=\"stroke:#181818;stroke-width:0.5;\" x1=\"551\" x2=\"619\" y1=\"148.2656\" y2=\"148.2656\"/></g></a><!--MD5=[fd4143e9d270a159db93a4ea2a975926]\n",
       "class E9--><a href=\"psysml:7b3481ba-f47b-4c12-87df-4d6f620e6d00\" target=\"_top\" title=\"psysml:7b3481ba-f47b-4c12-87df-4d6f620e6d00\" xlink:actuate=\"onRequest\" xlink:href=\"psysml:7b3481ba-f47b-4c12-87df-4d6f620e6d00\" xlink:show=\"new\" xlink:title=\"psysml:7b3481ba-f47b-4c12-87df-4d6f620e6d00\" xlink:type=\"simple\"><g id=\"elem_E9\"><rect fill=\"#FFFFFF\" height=\"48.2656\" id=\"E9\" style=\"stroke:#181818;stroke-width:0.5;\" width=\"70\" x=\"32\" y=\"165\"/><text fill=\"#000000\" font-family=\"sans-serif\" font-size=\"12\" font-style=\"italic\" lengthAdjust=\"spacing\" textLength=\"68\" x=\"33\" y=\"181.1387\">«port  def»</text><text fill=\"#000000\" font-family=\"sans-serif\" font-size=\"14\" lengthAdjust=\"spacing\" textLength=\"9\" x=\"62.5\" y=\"196.9639\">P</text><line style=\"stroke:#181818;stroke-width:0.5;\" x1=\"33\" x2=\"101\" y1=\"205.2656\" y2=\"205.2656\"/></g></a><!--MD5=[96f4274e9e20536e775497830990834d]\n",
       "class E10--><a href=\"psysml:116f794f-fd18-4d42-8d94-9abf783d43f0\" target=\"_top\" title=\"psysml:116f794f-fd18-4d42-8d94-9abf783d43f0\" xlink:actuate=\"onRequest\" xlink:href=\"psysml:116f794f-fd18-4d42-8d94-9abf783d43f0\" xlink:show=\"new\" xlink:title=\"psysml:116f794f-fd18-4d42-8d94-9abf783d43f0\" xlink:type=\"simple\"><g id=\"elem_E10\"><rect fill=\"#FFFFFF\" height=\"48.2656\" id=\"E10\" rx=\"10\" ry=\"10\" style=\"stroke:#181818;stroke-width:0.5;\" width=\"49\" x=\"163\" y=\"207\"/><text fill=\"#000000\" font-family=\"sans-serif\" font-size=\"12\" font-style=\"italic\" lengthAdjust=\"spacing\" textLength=\"41\" x=\"167\" y=\"223.1387\">«item»</text><text fill=\"#000000\" font-family=\"sans-serif\" font-size=\"14\" lengthAdjust=\"spacing\" textLength=\"35\" x=\"166\" y=\"238.9639\">a1: A</text><line style=\"stroke:#181818;stroke-width:0.5;\" x1=\"164\" x2=\"211\" y1=\"247.2656\" y2=\"247.2656\"/></g></a><!--MD5=[1dd1bfd58a279cf63c5f349dbc8fc6a1]\n",
       "class E11--><a href=\"psysml:16572df6-eec3-489a-80d1-3b65de425cbd\" target=\"_top\" title=\"psysml:16572df6-eec3-489a-80d1-3b65de425cbd\" xlink:actuate=\"onRequest\" xlink:href=\"psysml:16572df6-eec3-489a-80d1-3b65de425cbd\" xlink:show=\"new\" xlink:title=\"psysml:16572df6-eec3-489a-80d1-3b65de425cbd\" xlink:type=\"simple\"><g id=\"elem_E11\"><rect fill=\"#FFFFFF\" height=\"48.2656\" id=\"E11\" rx=\"10\" ry=\"10\" style=\"stroke:#181818;stroke-width:0.5;\" width=\"49\" x=\"163\" y=\"124\"/><text fill=\"#000000\" font-family=\"sans-serif\" font-size=\"12\" font-style=\"italic\" lengthAdjust=\"spacing\" textLength=\"41\" x=\"167\" y=\"140.1387\">«item»</text><text fill=\"#000000\" font-family=\"sans-serif\" font-size=\"14\" lengthAdjust=\"spacing\" textLength=\"35\" x=\"166\" y=\"155.9639\">a2: A</text><line style=\"stroke:#181818;stroke-width:0.5;\" x1=\"164\" x2=\"211\" y1=\"164.2656\" y2=\"164.2656\"/></g></a><!--MD5=[2720a5a1f2c3fca2055b230370638851]\n",
       "link E2 to E3--><g id=\"link_E2_E3\"><a href=\"psysml:70c9c3cf-ded5-4fad-940c-650d810049d2\" target=\"_top\" title=\"psysml:70c9c3cf-ded5-4fad-940c-650d810049d2\" xlink:actuate=\"onRequest\" xlink:href=\"psysml:70c9c3cf-ded5-4fad-940c-650d810049d2\" xlink:show=\"new\" xlink:title=\"psysml:70c9c3cf-ded5-4fad-940c-650d810049d2\" xlink:type=\"simple\"><path d=\"M209.23,79.46 C222.34,88.61 239.91,100.86 256.57,112.48 \" fill=\"none\" id=\"E2-to-E3\" style=\"stroke:#181818;stroke-width:1.0;\"/><polygon fill=\"#FFFFFF\" points=\"273.04,123.97,253.4504,118.8466,261.4568,107.3619,273.04,123.97\" style=\"stroke:#181818;stroke-width:1.0;\"/><ellipse cx=\"249.9183\" cy=\"113.9462\" fill=\"#181818\" rx=\"2\" ry=\"2\" style=\"stroke:#181818;stroke-width:1.0;\"/><ellipse cx=\"255.6371\" cy=\"105.7429\" fill=\"#181818\" rx=\"2\" ry=\"2\" style=\"stroke:#181818;stroke-width:1.0;\"/></a></g><!--MD5=[4672eba38e49728da53d11aeb285b987]\n",
       "reverse link E3 to E4--><g id=\"link_E3_E4\"><a href=\"psysml:1e28e0ed-b5c0-4fac-98b2-855fbe266c1f\" target=\"_top\" title=\"psysml:1e28e0ed-b5c0-4fac-98b2-855fbe266c1f\" xlink:actuate=\"onRequest\" xlink:href=\"psysml:1e28e0ed-b5c0-4fac-98b2-855fbe266c1f\" xlink:show=\"new\" xlink:title=\"psysml:1e28e0ed-b5c0-4fac-98b2-855fbe266c1f\" xlink:type=\"simple\"><path d=\"M340.61,181.21 C357.85,197.16 380.68,214.59 405,223 C428.54,231.14 457.48,228.32 476.66,224.83 \" fill=\"none\" id=\"E3-backto-E4\" style=\"stroke:#181818;stroke-width:1.0;\"/><polygon fill=\"#181818\" points=\"331.13,172.07,332.6703,179.1147,339.7655,180.4023,338.2252,173.3576,331.13,172.07\" style=\"stroke:#181818;stroke-width:1.0;\"/></a></g><!--MD5=[191cde3d490a3f6d7bb551fe3ddca469]\n",
       "reverse link E3 to E5--><g id=\"link_E3_E5\"><a href=\"psysml:b5974af5-b28c-458b-89e4-95d46de68236\" target=\"_top\" title=\"psysml:b5974af5-b28c-458b-89e4-95d46de68236\" xlink:actuate=\"onRequest\" xlink:href=\"psysml:b5974af5-b28c-458b-89e4-95d46de68236\" xlink:show=\"new\" xlink:title=\"psysml:b5974af5-b28c-458b-89e4-95d46de68236\" xlink:type=\"simple\"><path d=\"M356.66,130.03 C373.46,123.64 391.49,116.77 404.81,111.69 \" fill=\"none\" id=\"E3-backto-E5\" style=\"stroke:#181818;stroke-width:1.0;\"/><polygon fill=\"none\" points=\"344.15,134.8,351.1812,136.4006,355.363,130.5259,348.3318,128.9253,344.15,134.8\" style=\"stroke:#181818;stroke-width:1.0;\"/></a></g><!--MD5=[79568f1e445c3877b6a54524624ccc7d]\n",
       "link E4 to E6--><g id=\"link_E4_E6\"><a href=\"psysml:83940360-bfcd-4ab6-95b9-9006ad1a30a4\" target=\"_top\" title=\"psysml:83940360-bfcd-4ab6-95b9-9006ad1a30a4\" xlink:actuate=\"onRequest\" xlink:href=\"psysml:83940360-bfcd-4ab6-95b9-9006ad1a30a4\" xlink:show=\"new\" xlink:title=\"psysml:83940360-bfcd-4ab6-95b9-9006ad1a30a4\" xlink:type=\"simple\"><path d=\"M520.41,211.88 C544.45,202.54 585.1,186.72 620,173 C636.15,166.65 653.71,159.71 669.69,153.38 \" fill=\"none\" id=\"E4-to-E6\" style=\"stroke:#181818;stroke-width:1.0;\"/><polygon fill=\"#FFFFFF\" points=\"688.55,145.9,673.4781,159.4218,668.308,146.4114,688.55,145.9\" style=\"stroke:#181818;stroke-width:1.0;\"/><ellipse cx=\"667.4425\" cy=\"159.6682\" fill=\"#181818\" rx=\"2\" ry=\"2\" style=\"stroke:#181818;stroke-width:1.0;\"/><ellipse cx=\"663.7495\" cy=\"150.3751\" fill=\"#181818\" rx=\"2\" ry=\"2\" style=\"stroke:#181818;stroke-width:1.0;\"/></a></g><!--MD5=[3f50a3473f1dfb74d3f76443e03635af]\n",
       "reverse link E6 to E7--><g id=\"link_E6_E7\"><a href=\"psysml:c7c30ff0-7abe-445a-9147-4c620b104f3e\" target=\"_top\" title=\"psysml:c7c30ff0-7abe-445a-9147-4c620b104f3e\" xlink:actuate=\"onRequest\" xlink:href=\"psysml:c7c30ff0-7abe-445a-9147-4c620b104f3e\" xlink:show=\"new\" xlink:title=\"psysml:c7c30ff0-7abe-445a-9147-4c620b104f3e\" xlink:type=\"simple\"><path d=\"M772.66,118.12 C789.46,113.17 807.49,107.86 820.81,103.94 \" fill=\"none\" id=\"E6-backto-E7\" style=\"stroke:#181818;stroke-width:1.0;\"/><polygon fill=\"#181818\" points=\"760.15,121.8,767.0354,123.9428,771.6615,118.4111,764.7762,116.2684,760.15,121.8\" style=\"stroke:#181818;stroke-width:1.0;\"/></a></g><!--MD5=[14ccda38c055a5c0da953d572bc50960]\n",
       "link E7 to E3--><g id=\"link_E7_E3\"><a href=\"psysml:4a79bdb3-77e8-4e9c-befa-ce9a0c7716db\" target=\"_top\" title=\"psysml:4a79bdb3-77e8-4e9c-befa-ce9a0c7716db\" xlink:actuate=\"onRequest\" xlink:href=\"psysml:4a79bdb3-77e8-4e9c-befa-ce9a0c7716db\" xlink:show=\"new\" xlink:title=\"psysml:4a79bdb3-77e8-4e9c-befa-ce9a0c7716db\" xlink:type=\"simple\"><path d=\"M820.63,81.8 C798.54,65.89 761.58,44 725.5,44 C425,44 425,44 425,44 C385.67,44 353.69,77.71 333.43,106.75 \" fill=\"none\" id=\"E7-to-E3\" style=\"stroke:#181818;stroke-width:1.0;\"/><polygon fill=\"#FFFFFF\" points=\"322.38,123.88,326.8018,104.1202,338.5646,111.7121,322.38,123.88\" style=\"stroke:#181818;stroke-width:1.0;\"/><ellipse cx=\"331.5731\" cy=\"100.4156\" fill=\"#181818\" rx=\"2\" ry=\"2\" style=\"stroke:#181818;stroke-width:1.0;\"/><ellipse cx=\"339.9752\" cy=\"105.8384\" fill=\"#181818\" rx=\"2\" ry=\"2\" style=\"stroke:#181818;stroke-width:1.0;\"/></a></g><!--MD5=[dfaffb906826c3e5aca635516100ff21]\n",
       "link E5 to E8--><g id=\"link_E5_E8\"><a href=\"psysml:d776694e-c79b-404c-b561-ae1c1a2e3f3d\" target=\"_top\" title=\"psysml:d776694e-c79b-404c-b561-ae1c1a2e3f3d\" xlink:actuate=\"onRequest\" xlink:href=\"psysml:d776694e-c79b-404c-b561-ae1c1a2e3f3d\" xlink:show=\"new\" xlink:title=\"psysml:d776694e-c79b-404c-b561-ae1c1a2e3f3d\" xlink:type=\"simple\"><path d=\"M447.2,107.6 C468.06,111.32 501.5,117.29 530.1,122.39 \" fill=\"none\" id=\"E5-to-E8\" style=\"stroke:#181818;stroke-width:1.0;\"/><polygon fill=\"#FFFFFF\" points=\"549.82,125.9,529.8855,129.452,532.3459,115.6699,549.82,125.9\" style=\"stroke:#181818;stroke-width:1.0;\"/><ellipse cx=\"524.6257\" cy=\"126.4814\" fill=\"#181818\" rx=\"2\" ry=\"2\" style=\"stroke:#181818;stroke-width:1.0;\"/><ellipse cx=\"526.3831\" cy=\"116.637\" fill=\"#181818\" rx=\"2\" ry=\"2\" style=\"stroke:#181818;stroke-width:1.0;\"/></a></g><!--MD5=[03c8294790d3c57651a1993cecff665f]\n",
       "reverse link E8 to E3--><g id=\"link_E8_E3\"><a href=\"psysml:c4551329-8b56-4fd0-9fbf-f2d280f6b39b\" target=\"_top\" title=\"psysml:c4551329-8b56-4fd0-9fbf-f2d280f6b39b\" xlink:actuate=\"onRequest\" xlink:href=\"psysml:c4551329-8b56-4fd0-9fbf-f2d280f6b39b\" xlink:show=\"new\" xlink:title=\"psysml:c4551329-8b56-4fd0-9fbf-f2d280f6b39b\" xlink:type=\"simple\"><path d=\"M537.34,144.84 C511.03,151.41 477.44,158.71 447,162 C428.44,164.01 423.62,163.36 405,162 C384.78,160.53 362.34,157.32 344.29,154.34 \" fill=\"none\" id=\"E8-backto-E3\" style=\"stroke:#181818;stroke-width:1.0;\"/><polygon fill=\"none\" points=\"549.99,141.59,543.1849,139.2045,538.3655,144.5686,545.1706,146.9541,549.99,141.59\" style=\"stroke:#181818;stroke-width:1.0;\"/><text fill=\"#000000\" font-family=\"sans-serif\" font-size=\"13\" lengthAdjust=\"spacing\" textLength=\"7\" x=\"422.5\" y=\"158.0669\">y</text></a></g><!--MD5=[0d75d2178373a6a4568e5dc728f58aef]\n",
       "reverse link E8 to E6--><g id=\"link_E8_E6\"><a href=\"psysml:c4551329-8b56-4fd0-9fbf-f2d280f6b39b\" target=\"_top\" title=\"psysml:c4551329-8b56-4fd0-9fbf-f2d280f6b39b\" xlink:actuate=\"onRequest\" xlink:href=\"psysml:c4551329-8b56-4fd0-9fbf-f2d280f6b39b\" xlink:show=\"new\" xlink:title=\"psysml:c4551329-8b56-4fd0-9fbf-f2d280f6b39b\" xlink:type=\"simple\"><path d=\"M633.39,132 C651.53,132 671.88,132 688.64,132 \" fill=\"none\" id=\"E8-backto-E6\" style=\"stroke:#181818;stroke-width:1.0;\"/><polygon fill=\"none\" points=\"620.34,132,626.34,136,632.34,132,626.34,128,620.34,132\" style=\"stroke:#181818;stroke-width:1.0;\"/><text fill=\"#000000\" font-family=\"sans-serif\" font-size=\"13\" lengthAdjust=\"spacing\" textLength=\"7\" x=\"651\" y=\"128.0669\">y</text></a></g><!--MD5=[23ac544a70576c3e717098101004234c]\n",
       "reverse link E9 to E10--><g id=\"link_E9_E10\"><a href=\"psysml:5a5abb4f-4a57-47f4-8d13-1f5dca85ed3b\" target=\"_top\" title=\"psysml:5a5abb4f-4a57-47f4-8d13-1f5dca85ed3b\" xlink:actuate=\"onRequest\" xlink:href=\"psysml:5a5abb4f-4a57-47f4-8d13-1f5dca85ed3b\" xlink:show=\"new\" xlink:title=\"psysml:5a5abb4f-4a57-47f4-8d13-1f5dca85ed3b\" xlink:type=\"simple\"><path d=\"M114.56,205.5 C131.09,211.36 149,217.71 162.82,222.61 \" fill=\"none\" id=\"E9-backto-E10\" style=\"stroke:#181818;stroke-width:1.0;\"/><polygon fill=\"none\" points=\"102.28,201.15,106.5996,206.9242,113.591,205.1576,109.2714,199.3835,102.28,201.15\" style=\"stroke:#181818;stroke-width:1.0;\"/></a></g><!--MD5=[feeac5eb423634930294aa81f2d25a4c]\n",
       "link E10 to E3--><g id=\"link_E10_E3\"><a href=\"psysml:d7f66802-941a-4496-884a-36d82493c03e\" target=\"_top\" title=\"psysml:d7f66802-941a-4496-884a-36d82493c03e\" xlink:actuate=\"onRequest\" xlink:href=\"psysml:d7f66802-941a-4496-884a-36d82493c03e\" xlink:show=\"new\" xlink:title=\"psysml:d7f66802-941a-4496-884a-36d82493c03e\" xlink:type=\"simple\"><path d=\"M212.01,214.6 C224.61,205.81 240.66,194.62 255.98,183.93 \" fill=\"none\" id=\"E10-to-E3\" style=\"stroke:#181818;stroke-width:1.0;\"/><polygon fill=\"#FFFFFF\" points=\"272.76,172.23,261.1835,188.8428,253.1725,177.3614,272.76,172.23\" style=\"stroke:#181818;stroke-width:1.0;\"/><ellipse cx=\"255.3645\" cy=\"190.4642\" fill=\"#181818\" rx=\"2\" ry=\"2\" style=\"stroke:#181818;stroke-width:1.0;\"/><ellipse cx=\"249.6424\" cy=\"182.2632\" fill=\"#181818\" rx=\"2\" ry=\"2\" style=\"stroke:#181818;stroke-width:1.0;\"/></a></g><!--MD5=[1fc04a95fd77ad5ce46c1a3027516051]\n",
       "reverse link E9 to E11--><g id=\"link_E9_E11\"><a href=\"psysml:8187499b-9a51-4939-bbf5-c8a0ee670e5b\" target=\"_top\" title=\"psysml:8187499b-9a51-4939-bbf5-c8a0ee670e5b\" xlink:actuate=\"onRequest\" xlink:href=\"psysml:8187499b-9a51-4939-bbf5-c8a0ee670e5b\" xlink:show=\"new\" xlink:title=\"psysml:8187499b-9a51-4939-bbf5-c8a0ee670e5b\" xlink:type=\"simple\"><path d=\"M115.04,172.72 C131.44,167.05 149.14,160.93 162.82,156.19 \" fill=\"none\" id=\"E9-backto-E11\" style=\"stroke:#181818;stroke-width:1.0;\"/><polygon fill=\"none\" points=\"102.28,177.14,109.2589,178.9551,113.6186,173.2111,106.6396,171.396,102.28,177.14\" style=\"stroke:#181818;stroke-width:1.0;\"/></a></g><!--MD5=[0517f1ce58c4d5483948f93845c45e26]\n",
       "link E11 to E3--><g id=\"link_E11_E3\"><a href=\"psysml:ca7307c2-0235-4c1e-8766-bbb66b330e4f\" target=\"_top\" title=\"psysml:ca7307c2-0235-4c1e-8766-bbb66b330e4f\" xlink:actuate=\"onRequest\" xlink:href=\"psysml:ca7307c2-0235-4c1e-8766-bbb66b330e4f\" xlink:show=\"new\" xlink:title=\"psysml:ca7307c2-0235-4c1e-8766-bbb66b330e4f\" xlink:type=\"simple\"><path d=\"M212.01,148 C223.66,148 238.26,148 252.51,148 \" fill=\"none\" id=\"E11-to-E3\" style=\"stroke:#181818;stroke-width:1.0;\"/><polygon fill=\"#FFFFFF\" points=\"272.76,148,253.76,155,253.76,141,272.76,148\" style=\"stroke:#181818;stroke-width:1.0;\"/><ellipse cx=\"248.06\" cy=\"153\" fill=\"#181818\" rx=\"2\" ry=\"2\" style=\"stroke:#181818;stroke-width:1.0;\"/><ellipse cx=\"248.06\" cy=\"143\" fill=\"#181818\" rx=\"2\" ry=\"2\" style=\"stroke:#181818;stroke-width:1.0;\"/></a></g><!--MD5=[946112f663b740a2d143fb0855a85cf6]\n",
       "@startuml\r\n",
       "skin sysmlbw\r\n",
       "skinparam monochrome true\r\n",
       "skinparam wrapWidth 300\r\n",
       "hide circle\r\n",
       "left to right direction\r\n",
       "\r\n",
       "package \"ItemTest\" as E1  [[psysml:cd87d2b7-4fa1-4c1b-a4f6-af691b0dec58 ]]  {\r\n",
       "comp usage \"f: A  \" as E2  <<(T,blue) item>> [[psysml:a6e7d788-746b-466d-b844-23a78300b1ae ]] {\r\n",
       "}\r\n",
       "comp def \"A\" as E3  <<(T,blue) item  def>> [[psysml:7645df02-ea24-41fb-927b-82e0988a44f2 ]] {\r\n",
       "}\r\n",
       "comp usage \"b: B  \" as E4  <<(T,blue) item>> [[psysml:426ed2e2-6591-4c8f-a505-52d546190911 ]] {\r\n",
       "}\r\n",
       "comp usage \"c: C  \" as E5  <<(T,blue) part>> [[psysml:331ec08e-03d4-4ef2-9768-da2cb6dfa326 ]] {\r\n",
       "}\r\n",
       "comp def \"<i>B</i>\" as E6  <<(T,blue) item  def>> [[psysml:1c5a109b-6d3b-4425-b763-85184515822e ]] {\r\n",
       "}\r\n",
       "comp usage \"<i>a</i>: A  \" as E7  <<(T,blue) part>> [[psysml:3d3f18ff-1114-439a-91a9-78796a10458c ]] {\r\n",
       "}\r\n",
       "comp def \"C\" as E8  <<(T,blue) part  def>> [[psysml:1568c6af-b382-4c7f-b02a-0d87dd86c0f5 ]] {\r\n",
       "}\r\n",
       "comp def \"P\" as E9  <<(T,blue) port  def>> [[psysml:7b3481ba-f47b-4c12-87df-4d6f620e6d00 ]] {\r\n",
       "}\r\n",
       "comp usage \"a1: A  \" as E10  <<(T,blue) item>> [[psysml:116f794f-fd18-4d42-8d94-9abf783d43f0 ]] {\r\n",
       "}\r\n",
       "comp usage \"a2: A  \" as E11  <<(T,blue) item>> [[psysml:16572df6-eec3-489a-80d1-3b65de425cbd ]] {\r\n",
       "}\r\n",
       "}\r\n",
       "E2 - -:|> E3 [[psysml:70c9c3cf-ded5-4fad-940c-650d810049d2 ]] \r\n",
       "E3 *- - E4 [[psysml:1e28e0ed-b5c0-4fac-98b2-855fbe266c1f ]] \r\n",
       "E3 o- - E5 [[psysml:b5974af5-b28c-458b-89e4-95d46de68236 ]] \r\n",
       "E4 - -:|> E6 [[psysml:83940360-bfcd-4ab6-95b9-9006ad1a30a4 ]] \r\n",
       "E6 *- - E7 [[psysml:c7c30ff0-7abe-445a-9147-4c620b104f3e ]] \r\n",
       "E7 - -:|> E3 [[psysml:4a79bdb3-77e8-4e9c-befa-ce9a0c7716db ]] \r\n",
       "E5 - -:|> E8 [[psysml:d776694e-c79b-404c-b561-ae1c1a2e3f3d ]] \r\n",
       "E8 o- - E3 [[psysml:c4551329-8b56-4fd0-9fbf-f2d280f6b39b ]] : y\r\n",
       "E8 o- - E6 [[psysml:c4551329-8b56-4fd0-9fbf-f2d280f6b39b ]] : y\r\n",
       "E9 o- - E10 [[psysml:5a5abb4f-4a57-47f4-8d13-1f5dca85ed3b ]] \r\n",
       "E10 - -:|> E3 [[psysml:d7f66802-941a-4496-884a-36d82493c03e ]] \r\n",
       "E9 o- - E11 [[psysml:8187499b-9a51-4939-bbf5-c8a0ee670e5b ]] \r\n",
       "E11 - -:|> E3 [[psysml:ca7307c2-0235-4c1e-8766-bbb66b330e4f ]] \r\n",
       "@enduml\r\n",
       "\n",
       "PlantUML version 1.2022.7(Mon Aug 22 17:01:30 UTC 2022)\n",
       "(EPL source distribution)\n",
       "Java Runtime: OpenJDK Runtime Environment\n",
       "JVM: OpenJDK 64-Bit Server VM\n",
       "Default Encoding: UTF-8\n",
       "Language: en\n",
       "Country: null\n",
       "--></g></svg>"
      ]
     },
     "execution_count": 17,
     "metadata": {},
     "output_type": "execute_result"
    }
   ],
   "source": [
    "%viz --style=\"LR\" --view=\"Tree\" \"ItemTest\""
   ]
  },
  {
   "cell_type": "code",
   "execution_count": 18,
   "id": "7444cc82",
   "metadata": {
    "execution": {
     "iopub.execute_input": "2024-12-16T14:15:16.643858Z",
     "iopub.status.busy": "2024-12-16T14:15:16.643633Z",
     "iopub.status.idle": "2024-12-16T14:15:16.648408Z",
     "shell.execute_reply": "2024-12-16T14:15:16.648228Z"
    }
   },
   "outputs": [
    {
     "data": {
      "image/svg+xml": [
       "<?xml version=\"1.0\" encoding=\"UTF-8\" standalone=\"no\"?><svg xmlns=\"http://www.w3.org/2000/svg\" xmlns:xlink=\"http://www.w3.org/1999/xlink\" contentStyleType=\"text/css\" height=\"10px\" preserveAspectRatio=\"none\" style=\"width:10px;height:10px;background:#FFFFFF;\" version=\"1.1\" viewBox=\"0 0 10 10\" width=\"10px\" zoomAndPan=\"magnify\"><defs/><g><!--MD5=[fb420fbd7a91d32138f4344b927a323c]\n",
       "@startuml\r\n",
       "skin sysmlbw\r\n",
       "skinparam monochrome true\r\n",
       "skinparam wrapWidth 300\r\n",
       "hide circle\r\n",
       "left to right direction\r\n",
       "\r\n",
       "@enduml\r\n",
       "\n",
       "PlantUML version 1.2022.7(Mon Aug 22 17:01:30 UTC 2022)\n",
       "(EPL source distribution)\n",
       "Java Runtime: OpenJDK Runtime Environment\n",
       "JVM: OpenJDK 64-Bit Server VM\n",
       "Default Encoding: UTF-8\n",
       "Language: en\n",
       "Country: null\n",
       "--></g></svg>"
      ]
     },
     "execution_count": 18,
     "metadata": {},
     "output_type": "execute_result"
    }
   ],
   "source": [
    "%viz --style=\"LR\" --view=\"State\" \"ItemTest\""
   ]
  },
  {
   "cell_type": "code",
   "execution_count": 19,
   "id": "e14d8570",
   "metadata": {
    "execution": {
     "iopub.execute_input": "2024-12-16T14:15:16.701964Z",
     "iopub.status.busy": "2024-12-16T14:15:16.701737Z",
     "iopub.status.idle": "2024-12-16T14:15:16.724521Z",
     "shell.execute_reply": "2024-12-16T14:15:16.723689Z"
    }
   },
   "outputs": [
    {
     "data": {
      "image/svg+xml": [
       "<?xml version=\"1.0\" encoding=\"UTF-8\" standalone=\"no\"?><svg xmlns=\"http://www.w3.org/2000/svg\" xmlns:xlink=\"http://www.w3.org/1999/xlink\" contentStyleType=\"text/css\" height=\"409px\" preserveAspectRatio=\"none\" style=\"width:279px;height:409px;background:#FFFFFF;\" version=\"1.1\" viewBox=\"0 0 279 409\" width=\"279px\" zoomAndPan=\"magnify\"><defs/><g><!--MD5=[fbc87193dbaf4d95561dea2c320d4a47]\n",
       "cluster E1--><g id=\"cluster_E1\"><a href=\"psysml:cd87d2b7-4fa1-4c1b-a4f6-af691b0dec58\" target=\"_top\" title=\"psysml:cd87d2b7-4fa1-4c1b-a4f6-af691b0dec58\" xlink:actuate=\"onRequest\" xlink:href=\"psysml:cd87d2b7-4fa1-4c1b-a4f6-af691b0dec58\" xlink:show=\"new\" xlink:title=\"psysml:cd87d2b7-4fa1-4c1b-a4f6-af691b0dec58\" xlink:type=\"simple\"><polygon fill=\"none\" points=\"16,6,86.5,6,93.5,28.2969,262,28.2969,262,402,16,402,16,6\" style=\"stroke:#000000;stroke-width:1.5;\"/><line style=\"stroke:#000000;stroke-width:1.5;\" x1=\"16\" x2=\"93.5\" y1=\"28.2969\" y2=\"28.2969\"/><text fill=\"#000000\" font-family=\"sans-serif\" font-size=\"14\" font-weight=\"bold\" lengthAdjust=\"spacing\" textLength=\"64.5\" x=\"20\" y=\"20.9951\">ItemTest</text></a></g><!--MD5=[de5ec2e2e8f62f467e546659f5068c88]\n",
       "cluster E5--><g id=\"cluster_E5\"><a href=\"psysml:1568c6af-b382-4c7f-b02a-0d87dd86c0f5\" target=\"_top\" title=\"psysml:1568c6af-b382-4c7f-b02a-0d87dd86c0f5\" xlink:actuate=\"onRequest\" xlink:href=\"psysml:1568c6af-b382-4c7f-b02a-0d87dd86c0f5\" xlink:show=\"new\" xlink:title=\"psysml:1568c6af-b382-4c7f-b02a-0d87dd86c0f5\" xlink:type=\"simple\"><rect fill=\"#FFFFFF\" height=\"113\" id=\"E5\" style=\"stroke:#383838;stroke-width:1.5;\" width=\"114\" x=\"40\" y=\"49\"/><text fill=\"#000000\" font-family=\"sans-serif\" font-size=\"12\" font-style=\"italic\" lengthAdjust=\"spacing\" textLength=\"68\" x=\"63\" y=\"65.1387\">«part  def»</text><text fill=\"#000000\" font-family=\"sans-serif\" font-size=\"14\" lengthAdjust=\"spacing\" textLength=\"10\" x=\"92\" y=\"80.9639\">C</text><line style=\"stroke:#383838;stroke-width:1.0;\" x1=\"40\" x2=\"154\" y1=\"89.2656\" y2=\"89.2656\"/></a></g><g><a href=\"psysml:7645df02-ea24-41fb-927b-82e0988a44f2\" target=\"_top\" title=\"psysml:7645df02-ea24-41fb-927b-82e0988a44f2\" xlink:actuate=\"onRequest\" xlink:href=\"psysml:7645df02-ea24-41fb-927b-82e0988a44f2\" xlink:show=\"new\" xlink:title=\"psysml:7645df02-ea24-41fb-927b-82e0988a44f2\" xlink:type=\"simple\"><rect fill=\"#FFFFFF\" height=\"45.2656\" id=\"E3\" style=\"stroke:#383838;stroke-width:1.5;\" width=\"76\" x=\"170\" y=\"340.5\"/><text fill=\"#000000\" font-family=\"sans-serif\" font-size=\"12\" font-style=\"italic\" lengthAdjust=\"spacing\" textLength=\"69\" x=\"173.5\" y=\"356.6387\">«item  def»</text><text fill=\"#000000\" font-family=\"sans-serif\" font-size=\"14\" lengthAdjust=\"spacing\" textLength=\"9\" x=\"203.5\" y=\"372.4639\">A</text></a></g><g><a href=\"psysml:1c5a109b-6d3b-4425-b763-85184515822e\" target=\"_top\" title=\"psysml:1c5a109b-6d3b-4425-b763-85184515822e\" xlink:actuate=\"onRequest\" xlink:href=\"psysml:1c5a109b-6d3b-4425-b763-85184515822e\" xlink:show=\"new\" xlink:title=\"psysml:1c5a109b-6d3b-4425-b763-85184515822e\" xlink:type=\"simple\"><rect fill=\"#FFFFFF\" height=\"45.2656\" id=\"E4\" style=\"stroke:#383838;stroke-width:1.5;\" width=\"76\" x=\"59\" y=\"180.5\"/><text fill=\"#000000\" font-family=\"sans-serif\" font-size=\"12\" font-style=\"italic\" lengthAdjust=\"spacing\" textLength=\"69\" x=\"62.5\" y=\"196.6387\">«item  def»</text><text fill=\"#000000\" font-family=\"sans-serif\" font-size=\"14\" font-style=\"italic\" lengthAdjust=\"spacing\" textLength=\"10\" x=\"92\" y=\"212.4639\">B</text></a></g><g><a href=\"psysml:7b3481ba-f47b-4c12-87df-4d6f620e6d00\" target=\"_top\" title=\"psysml:7b3481ba-f47b-4c12-87df-4d6f620e6d00\" xlink:actuate=\"onRequest\" xlink:href=\"psysml:7b3481ba-f47b-4c12-87df-4d6f620e6d00\" xlink:show=\"new\" xlink:title=\"psysml:7b3481ba-f47b-4c12-87df-4d6f620e6d00\" xlink:type=\"simple\"><rect fill=\"#FFFFFF\" height=\"45.2656\" id=\"E7\" style=\"stroke:#383838;stroke-width:1.5;\" width=\"75\" x=\"59.5\" y=\"260.5\"/><text fill=\"#000000\" font-family=\"sans-serif\" font-size=\"12\" font-style=\"italic\" lengthAdjust=\"spacing\" textLength=\"68\" x=\"63\" y=\"276.6387\">«port  def»</text><text fill=\"#000000\" font-family=\"sans-serif\" font-size=\"14\" lengthAdjust=\"spacing\" textLength=\"9\" x=\"92.5\" y=\"292.4639\">P</text></a></g><g><a href=\"psysml:a6e7d788-746b-466d-b844-23a78300b1ae\" target=\"_top\" title=\"psysml:a6e7d788-746b-466d-b844-23a78300b1ae\" xlink:actuate=\"onRequest\" xlink:href=\"psysml:a6e7d788-746b-466d-b844-23a78300b1ae\" xlink:show=\"new\" xlink:title=\"psysml:a6e7d788-746b-466d-b844-23a78300b1ae\" xlink:type=\"simple\"><rect fill=\"#FFFFFF\" height=\"45.2656\" id=\"E2\" rx=\"10\" ry=\"10\" style=\"stroke:#383838;stroke-width:1.5;\" width=\"50\" x=\"72\" y=\"340.5\"/><text fill=\"#000000\" font-family=\"sans-serif\" font-size=\"12\" font-style=\"italic\" lengthAdjust=\"spacing\" textLength=\"41\" x=\"76.5\" y=\"356.6387\">«item»</text><text fill=\"#000000\" font-family=\"sans-serif\" font-size=\"14\" lengthAdjust=\"spacing\" textLength=\"22\" x=\"86\" y=\"372.4639\">f: A</text></a></g><g><a href=\"psysml:c4551329-8b56-4fd0-9fbf-f2d280f6b39b\" target=\"_top\" title=\"psysml:c4551329-8b56-4fd0-9fbf-f2d280f6b39b\" xlink:actuate=\"onRequest\" xlink:href=\"psysml:c4551329-8b56-4fd0-9fbf-f2d280f6b39b\" xlink:show=\"new\" xlink:title=\"psysml:c4551329-8b56-4fd0-9fbf-f2d280f6b39b\" xlink:type=\"simple\"><rect fill=\"#FFFFFF\" height=\"45.2656\" id=\"E6\" rx=\"10\" ry=\"10\" style=\"stroke:#383838;stroke-width:1.5;\" width=\"82\" x=\"56\" y=\"100.5\"/><text fill=\"#000000\" font-family=\"sans-serif\" font-size=\"12\" font-style=\"italic\" lengthAdjust=\"spacing\" textLength=\"75\" x=\"59.5\" y=\"116.6387\">«reference»</text><text fill=\"#000000\" font-family=\"sans-serif\" font-size=\"14\" lengthAdjust=\"spacing\" textLength=\"43\" x=\"71.5\" y=\"132.4639\">y: A, B</text></a></g><!--MD5=[2720a5a1f2c3fca2055b230370638851]\n",
       "link E2 to E3--><g id=\"link_E2_E3\"><a href=\"psysml:70c9c3cf-ded5-4fad-940c-650d810049d2\" target=\"_top\" title=\"psysml:70c9c3cf-ded5-4fad-940c-650d810049d2\" xlink:actuate=\"onRequest\" xlink:href=\"psysml:70c9c3cf-ded5-4fad-940c-650d810049d2\" xlink:show=\"new\" xlink:title=\"psysml:70c9c3cf-ded5-4fad-940c-650d810049d2\" xlink:type=\"simple\"><path d=\"M122.19,363 C130.35,363 139.84,363 149.45,363 \" fill=\"none\" id=\"E2-to-E3\" style=\"stroke:#181818;stroke-width:1.0;\"/><polygon fill=\"#FFFFFF\" points=\"169.6,363,150.6,370,150.6,356,169.6,363\" style=\"stroke:#181818;stroke-width:1.0;\"/><ellipse cx=\"144.9\" cy=\"368\" fill=\"#181818\" rx=\"2\" ry=\"2\" style=\"stroke:#181818;stroke-width:1.0;\"/><ellipse cx=\"144.9\" cy=\"358\" fill=\"#181818\" rx=\"2\" ry=\"2\" style=\"stroke:#181818;stroke-width:1.0;\"/></a></g><!--MD5=[193a91f40baf25fcc487927a61da4c10]\n",
       "@startuml\r\n",
       "skin sysmlbw\r\n",
       "skinparam monochrome true\r\n",
       "skinparam wrapWidth 300\r\n",
       "hide circle\r\n",
       "left to right direction\r\n",
       "skinparam ranksep 10\r\n",
       "skinparam rectangle {\r\n",
       " backgroundColor<<block>> LightGreen\r\n",
       "}\r\n",
       "\r\n",
       "package \"ItemTest\" as E1  [[psysml:cd87d2b7-4fa1-4c1b-a4f6-af691b0dec58 ]]  {\r\n",
       "rec usage \"f: A\" as E2  <<(T,blue) item>> [[psysml:a6e7d788-746b-466d-b844-23a78300b1ae ]] {\r\n",
       "}\r\n",
       "def \"A\" as E3  <<(T,blue) item  def>> [[psysml:7645df02-ea24-41fb-927b-82e0988a44f2 ]] \r\n",
       "def \"<i>B</i>\" as E4  <<(T,blue) item  def>> [[psysml:1c5a109b-6d3b-4425-b763-85184515822e ]] \r\n",
       "rec def \"C\" as E5  <<(T,blue) part  def>> [[psysml:1568c6af-b382-4c7f-b02a-0d87dd86c0f5 ]] {\r\n",
       "rec usage \"y: A, B  \" as E6  <<(T,blue) reference>> [[psysml:c4551329-8b56-4fd0-9fbf-f2d280f6b39b ]] {\r\n",
       "}\r\n",
       "\r\n",
       "}\r\n",
       "def \"P\" as E7  <<(T,blue) port  def>> [[psysml:7b3481ba-f47b-4c12-87df-4d6f620e6d00 ]] \r\n",
       "}\r\n",
       "E2 - -:|> E3 [[psysml:70c9c3cf-ded5-4fad-940c-650d810049d2 ]] \r\n",
       "@enduml\r\n",
       "\n",
       "PlantUML version 1.2022.7(Mon Aug 22 17:01:30 UTC 2022)\n",
       "(EPL source distribution)\n",
       "Java Runtime: OpenJDK Runtime Environment\n",
       "JVM: OpenJDK 64-Bit Server VM\n",
       "Default Encoding: UTF-8\n",
       "Language: en\n",
       "Country: null\n",
       "--></g></svg>"
      ]
     },
     "execution_count": 19,
     "metadata": {},
     "output_type": "execute_result"
    }
   ],
   "source": [
    "%viz --style=\"LR\" --view=\"Interconnection\" \"ItemTest\""
   ]
  },
  {
   "cell_type": "code",
   "execution_count": 20,
   "id": "4d99f5ce",
   "metadata": {
    "execution": {
     "iopub.execute_input": "2024-12-16T14:15:16.780261Z",
     "iopub.status.busy": "2024-12-16T14:15:16.779978Z",
     "iopub.status.idle": "2024-12-16T14:15:16.785412Z",
     "shell.execute_reply": "2024-12-16T14:15:16.785222Z"
    }
   },
   "outputs": [
    {
     "data": {
      "image/svg+xml": [
       "<?xml version=\"1.0\" encoding=\"UTF-8\" standalone=\"no\"?><svg xmlns=\"http://www.w3.org/2000/svg\" xmlns:xlink=\"http://www.w3.org/1999/xlink\" contentStyleType=\"text/css\" height=\"10px\" preserveAspectRatio=\"none\" style=\"width:10px;height:10px;background:#FFFFFF;\" version=\"1.1\" viewBox=\"0 0 10 10\" width=\"10px\" zoomAndPan=\"magnify\"><defs/><g><!--MD5=[a45826aa31d3f335355a0e6fe4d8f867]\n",
       "@startuml\r\n",
       "skin sysmlbw\r\n",
       "skinparam monochrome true\r\n",
       "skinparam wrapWidth 300\r\n",
       "hide circle\r\n",
       "left to right direction\r\n",
       "skinparam ranksep 8\r\n",
       "\r\n",
       "@enduml\r\n",
       "\n",
       "PlantUML version 1.2022.7(Mon Aug 22 17:01:30 UTC 2022)\n",
       "(EPL source distribution)\n",
       "Java Runtime: OpenJDK Runtime Environment\n",
       "JVM: OpenJDK 64-Bit Server VM\n",
       "Default Encoding: UTF-8\n",
       "Language: en\n",
       "Country: null\n",
       "--></g></svg>"
      ]
     },
     "execution_count": 20,
     "metadata": {},
     "output_type": "execute_result"
    }
   ],
   "source": [
    "%viz --style=\"LR\" --view=\"Action\" \"ItemTest\""
   ]
  },
  {
   "cell_type": "code",
   "execution_count": 21,
   "id": "ea4415f3",
   "metadata": {
    "execution": {
     "iopub.execute_input": "2024-12-16T14:15:16.842588Z",
     "iopub.status.busy": "2024-12-16T14:15:16.842263Z",
     "iopub.status.idle": "2024-12-16T14:15:16.848722Z",
     "shell.execute_reply": "2024-12-16T14:15:16.848519Z"
    }
   },
   "outputs": [
    {
     "data": {
      "image/svg+xml": [
       "<?xml version=\"1.0\" encoding=\"UTF-8\" standalone=\"no\"?><svg xmlns=\"http://www.w3.org/2000/svg\" xmlns:xlink=\"http://www.w3.org/1999/xlink\" contentStyleType=\"text/css\" height=\"10px\" preserveAspectRatio=\"none\" style=\"width:10px;height:10px;background:#FFFFFF;\" version=\"1.1\" viewBox=\"0 0 10 10\" width=\"10px\" zoomAndPan=\"magnify\"><defs/><g><!--MD5=[3d7abb46b795db4c9d99c7acf425de78]\n",
       "@startuml\r\n",
       "skin sysmlbw\r\n",
       "skinparam monochrome true\r\n",
       "skinparam wrapWidth 300\r\n",
       "hide circle\r\n",
       "left to right direction\r\n",
       "skinparam roundcorner 20\r\n",
       "skinparam BoxPadding 20\r\n",
       "skinparam SequenceBoxBackgroundColor #white\r\n",
       "skinparam style strictuml\r\n",
       "skinparam maxMessageSize 100\r\n",
       "\r\n",
       "@enduml\r\n",
       "\n",
       "PlantUML version 1.2022.7(Mon Aug 22 17:01:30 UTC 2022)\n",
       "(EPL source distribution)\n",
       "Java Runtime: OpenJDK Runtime Environment\n",
       "JVM: OpenJDK 64-Bit Server VM\n",
       "Default Encoding: UTF-8\n",
       "Language: en\n",
       "Country: null\n",
       "--></g></svg>"
      ]
     },
     "execution_count": 21,
     "metadata": {},
     "output_type": "execute_result"
    }
   ],
   "source": [
    "%viz --style=\"LR\" --view=\"Sequence\" \"ItemTest\""
   ]
  },
  {
   "cell_type": "code",
   "execution_count": 22,
   "id": "52b6b1d2",
   "metadata": {
    "execution": {
     "iopub.execute_input": "2024-12-16T14:15:16.904043Z",
     "iopub.status.busy": "2024-12-16T14:15:16.903811Z",
     "iopub.status.idle": "2024-12-16T14:15:16.943623Z",
     "shell.execute_reply": "2024-12-16T14:15:16.942288Z"
    }
   },
   "outputs": [
    {
     "data": {
      "image/svg+xml": [
       "<?xml version=\"1.0\" encoding=\"UTF-8\" standalone=\"no\"?><svg xmlns=\"http://www.w3.org/2000/svg\" xmlns:xlink=\"http://www.w3.org/1999/xlink\" contentStyleType=\"text/css\" height=\"278px\" preserveAspectRatio=\"none\" style=\"width:896px;height:278px;background:#FFFFFF;\" version=\"1.1\" viewBox=\"0 0 896 278\" width=\"896px\" zoomAndPan=\"magnify\"><defs/><g><!--MD5=[fbc87193dbaf4d95561dea2c320d4a47]\n",
       "cluster E1--><g id=\"cluster_E1\"><a href=\"psysml:cd87d2b7-4fa1-4c1b-a4f6-af691b0dec58\" target=\"_top\" title=\"psysml:cd87d2b7-4fa1-4c1b-a4f6-af691b0dec58\" xlink:actuate=\"onRequest\" xlink:href=\"psysml:cd87d2b7-4fa1-4c1b-a4f6-af691b0dec58\" xlink:show=\"new\" xlink:title=\"psysml:cd87d2b7-4fa1-4c1b-a4f6-af691b0dec58\" xlink:type=\"simple\"><polygon fill=\"none\" points=\"16,6,86.5,6,93.5,28.2969,879,28.2969,879,271,16,271,16,6\" style=\"stroke:#000000;stroke-width:1.5;\"/><line style=\"stroke:#000000;stroke-width:1.5;\" x1=\"16\" x2=\"93.5\" y1=\"28.2969\" y2=\"28.2969\"/><text fill=\"#000000\" font-family=\"sans-serif\" font-size=\"14\" font-weight=\"bold\" lengthAdjust=\"spacing\" textLength=\"64.5\" x=\"20\" y=\"20.9951\">ItemTest</text></a></g><!--MD5=[b4997ac47864f28c2f74865a473b2911]\n",
       "class E2--><a href=\"psysml:a6e7d788-746b-466d-b844-23a78300b1ae\" target=\"_top\" title=\"psysml:a6e7d788-746b-466d-b844-23a78300b1ae\" xlink:actuate=\"onRequest\" xlink:href=\"psysml:a6e7d788-746b-466d-b844-23a78300b1ae\" xlink:show=\"new\" xlink:title=\"psysml:a6e7d788-746b-466d-b844-23a78300b1ae\" xlink:type=\"simple\"><g id=\"elem_E2\"><rect fill=\"#FFFFFF\" height=\"48.2656\" id=\"E2\" rx=\"10\" ry=\"10\" style=\"stroke:#181818;stroke-width:0.5;\" width=\"43\" x=\"166\" y=\"41\"/><text fill=\"#000000\" font-family=\"sans-serif\" font-size=\"12\" font-style=\"italic\" lengthAdjust=\"spacing\" textLength=\"41\" x=\"167\" y=\"57.1387\">«item»</text><text fill=\"#000000\" font-family=\"sans-serif\" font-size=\"14\" lengthAdjust=\"spacing\" textLength=\"22\" x=\"172.5\" y=\"72.9639\">f: A</text><line style=\"stroke:#181818;stroke-width:0.5;\" x1=\"167\" x2=\"208\" y1=\"81.2656\" y2=\"81.2656\"/></g></a><!--MD5=[09b614a08d8cba4a07c9adeb5e0fee81]\n",
       "class E3--><a href=\"psysml:7645df02-ea24-41fb-927b-82e0988a44f2\" target=\"_top\" title=\"psysml:7645df02-ea24-41fb-927b-82e0988a44f2\" xlink:actuate=\"onRequest\" xlink:href=\"psysml:7645df02-ea24-41fb-927b-82e0988a44f2\" xlink:show=\"new\" xlink:title=\"psysml:7645df02-ea24-41fb-927b-82e0988a44f2\" xlink:type=\"simple\"><g id=\"elem_E3\"><rect fill=\"#FFFFFF\" height=\"48.2656\" id=\"E3\" style=\"stroke:#181818;stroke-width:0.5;\" width=\"71\" x=\"273\" y=\"124\"/><text fill=\"#000000\" font-family=\"sans-serif\" font-size=\"12\" font-style=\"italic\" lengthAdjust=\"spacing\" textLength=\"69\" x=\"274\" y=\"140.1387\">«item  def»</text><text fill=\"#000000\" font-family=\"sans-serif\" font-size=\"14\" lengthAdjust=\"spacing\" textLength=\"9\" x=\"304\" y=\"155.9639\">A</text><line style=\"stroke:#181818;stroke-width:0.5;\" x1=\"274\" x2=\"343\" y1=\"164.2656\" y2=\"164.2656\"/></g></a><!--MD5=[ebbe1d658d1005bcc118a6aa81145e00]\n",
       "class E4--><a href=\"psysml:426ed2e2-6591-4c8f-a505-52d546190911\" target=\"_top\" title=\"psysml:426ed2e2-6591-4c8f-a505-52d546190911\" xlink:actuate=\"onRequest\" xlink:href=\"psysml:426ed2e2-6591-4c8f-a505-52d546190911\" xlink:show=\"new\" xlink:title=\"psysml:426ed2e2-6591-4c8f-a505-52d546190911\" xlink:type=\"simple\"><g id=\"elem_E4\"><rect fill=\"#FFFFFF\" height=\"48.2656\" id=\"E4\" rx=\"10\" ry=\"10\" style=\"stroke:#181818;stroke-width:0.5;\" width=\"43\" x=\"477\" y=\"196\"/><text fill=\"#000000\" font-family=\"sans-serif\" font-size=\"12\" font-style=\"italic\" lengthAdjust=\"spacing\" textLength=\"41\" x=\"478\" y=\"212.1387\">«item»</text><text fill=\"#000000\" font-family=\"sans-serif\" font-size=\"14\" lengthAdjust=\"spacing\" textLength=\"28\" x=\"480.5\" y=\"227.9639\">b: B</text><line style=\"stroke:#181818;stroke-width:0.5;\" x1=\"478\" x2=\"519\" y1=\"236.2656\" y2=\"236.2656\"/></g></a><!--MD5=[270fce915f116d4de14055a7c1d9a0f3]\n",
       "class E5--><a href=\"psysml:331ec08e-03d4-4ef2-9768-da2cb6dfa326\" target=\"_top\" title=\"psysml:331ec08e-03d4-4ef2-9768-da2cb6dfa326\" xlink:actuate=\"onRequest\" xlink:href=\"psysml:331ec08e-03d4-4ef2-9768-da2cb6dfa326\" xlink:show=\"new\" xlink:title=\"psysml:331ec08e-03d4-4ef2-9768-da2cb6dfa326\" xlink:type=\"simple\"><g id=\"elem_E5\"><rect fill=\"#FFFFFF\" height=\"48.2656\" id=\"E5\" rx=\"10\" ry=\"10\" style=\"stroke:#181818;stroke-width:0.5;\" width=\"42\" x=\"405\" y=\"80\"/><text fill=\"#000000\" font-family=\"sans-serif\" font-size=\"12\" font-style=\"italic\" lengthAdjust=\"spacing\" textLength=\"40\" x=\"406\" y=\"96.1387\">«part»</text><text fill=\"#000000\" font-family=\"sans-serif\" font-size=\"14\" lengthAdjust=\"spacing\" textLength=\"27\" x=\"408.5\" y=\"111.9639\">c: C</text><line style=\"stroke:#181818;stroke-width:0.5;\" x1=\"406\" x2=\"446\" y1=\"120.2656\" y2=\"120.2656\"/></g></a><!--MD5=[60a26617385b1d2d0262a64233df1f8d]\n",
       "class E6--><a href=\"psysml:1c5a109b-6d3b-4425-b763-85184515822e\" target=\"_top\" title=\"psysml:1c5a109b-6d3b-4425-b763-85184515822e\" xlink:actuate=\"onRequest\" xlink:href=\"psysml:1c5a109b-6d3b-4425-b763-85184515822e\" xlink:show=\"new\" xlink:title=\"psysml:1c5a109b-6d3b-4425-b763-85184515822e\" xlink:type=\"simple\"><g id=\"elem_E6\"><rect fill=\"#FFFFFF\" height=\"48.2656\" id=\"E6\" style=\"stroke:#181818;stroke-width:0.5;\" width=\"71\" x=\"689\" y=\"108\"/><text fill=\"#000000\" font-family=\"sans-serif\" font-size=\"12\" font-style=\"italic\" lengthAdjust=\"spacing\" textLength=\"69\" x=\"690\" y=\"124.1387\">«item  def»</text><text fill=\"#000000\" font-family=\"sans-serif\" font-size=\"14\" font-style=\"italic\" lengthAdjust=\"spacing\" textLength=\"10\" x=\"719.5\" y=\"139.9639\">B</text><line style=\"stroke:#181818;stroke-width:0.5;\" x1=\"690\" x2=\"759\" y1=\"148.2656\" y2=\"148.2656\"/></g></a><!--MD5=[2156ba9850f5573cc1fc38a6a4b2f02b]\n",
       "class E7--><a href=\"psysml:3d3f18ff-1114-439a-91a9-78796a10458c\" target=\"_top\" title=\"psysml:3d3f18ff-1114-439a-91a9-78796a10458c\" xlink:actuate=\"onRequest\" xlink:href=\"psysml:3d3f18ff-1114-439a-91a9-78796a10458c\" xlink:show=\"new\" xlink:title=\"psysml:3d3f18ff-1114-439a-91a9-78796a10458c\" xlink:type=\"simple\"><g id=\"elem_E7\"><rect fill=\"#FFFFFF\" height=\"48.2656\" id=\"E7\" rx=\"10\" ry=\"10\" style=\"stroke:#181818;stroke-width:0.5;\" width=\"42\" x=\"821\" y=\"74\"/><text fill=\"#000000\" font-family=\"sans-serif\" font-size=\"12\" font-style=\"italic\" lengthAdjust=\"spacing\" textLength=\"40\" x=\"822\" y=\"90.1387\">«part»</text><text fill=\"#000000\" font-family=\"sans-serif\" font-size=\"14\" font-style=\"italic\" lengthAdjust=\"spacing\" textLength=\"8\" x=\"825\" y=\"105.9639\">a</text><text fill=\"#000000\" font-family=\"sans-serif\" font-size=\"14\" lengthAdjust=\"spacing\" textLength=\"18\" x=\"833\" y=\"105.9639\">: A</text><line style=\"stroke:#181818;stroke-width:0.5;\" x1=\"822\" x2=\"862\" y1=\"114.2656\" y2=\"114.2656\"/></g></a><!--MD5=[b9389687b975829384b498ac4b7476b2]\n",
       "class E8--><a href=\"psysml:1568c6af-b382-4c7f-b02a-0d87dd86c0f5\" target=\"_top\" title=\"psysml:1568c6af-b382-4c7f-b02a-0d87dd86c0f5\" xlink:actuate=\"onRequest\" xlink:href=\"psysml:1568c6af-b382-4c7f-b02a-0d87dd86c0f5\" xlink:show=\"new\" xlink:title=\"psysml:1568c6af-b382-4c7f-b02a-0d87dd86c0f5\" xlink:type=\"simple\"><g id=\"elem_E8\"><rect fill=\"#FFFFFF\" height=\"48.2656\" id=\"E8\" style=\"stroke:#181818;stroke-width:0.5;\" width=\"70\" x=\"550\" y=\"108\"/><text fill=\"#000000\" font-family=\"sans-serif\" font-size=\"12\" font-style=\"italic\" lengthAdjust=\"spacing\" textLength=\"68\" x=\"551\" y=\"124.1387\">«part  def»</text><text fill=\"#000000\" font-family=\"sans-serif\" font-size=\"14\" lengthAdjust=\"spacing\" textLength=\"10\" x=\"580\" y=\"139.9639\">C</text><line style=\"stroke:#181818;stroke-width:0.5;\" x1=\"551\" x2=\"619\" y1=\"148.2656\" y2=\"148.2656\"/></g></a><!--MD5=[fd4143e9d270a159db93a4ea2a975926]\n",
       "class E9--><a href=\"psysml:7b3481ba-f47b-4c12-87df-4d6f620e6d00\" target=\"_top\" title=\"psysml:7b3481ba-f47b-4c12-87df-4d6f620e6d00\" xlink:actuate=\"onRequest\" xlink:href=\"psysml:7b3481ba-f47b-4c12-87df-4d6f620e6d00\" xlink:show=\"new\" xlink:title=\"psysml:7b3481ba-f47b-4c12-87df-4d6f620e6d00\" xlink:type=\"simple\"><g id=\"elem_E9\"><rect fill=\"#FFFFFF\" height=\"48.2656\" id=\"E9\" style=\"stroke:#181818;stroke-width:0.5;\" width=\"70\" x=\"32\" y=\"165\"/><text fill=\"#000000\" font-family=\"sans-serif\" font-size=\"12\" font-style=\"italic\" lengthAdjust=\"spacing\" textLength=\"68\" x=\"33\" y=\"181.1387\">«port  def»</text><text fill=\"#000000\" font-family=\"sans-serif\" font-size=\"14\" lengthAdjust=\"spacing\" textLength=\"9\" x=\"62.5\" y=\"196.9639\">P</text><line style=\"stroke:#181818;stroke-width:0.5;\" x1=\"33\" x2=\"101\" y1=\"205.2656\" y2=\"205.2656\"/></g></a><!--MD5=[96f4274e9e20536e775497830990834d]\n",
       "class E10--><a href=\"psysml:116f794f-fd18-4d42-8d94-9abf783d43f0\" target=\"_top\" title=\"psysml:116f794f-fd18-4d42-8d94-9abf783d43f0\" xlink:actuate=\"onRequest\" xlink:href=\"psysml:116f794f-fd18-4d42-8d94-9abf783d43f0\" xlink:show=\"new\" xlink:title=\"psysml:116f794f-fd18-4d42-8d94-9abf783d43f0\" xlink:type=\"simple\"><g id=\"elem_E10\"><rect fill=\"#FFFFFF\" height=\"48.2656\" id=\"E10\" rx=\"10\" ry=\"10\" style=\"stroke:#181818;stroke-width:0.5;\" width=\"49\" x=\"163\" y=\"207\"/><text fill=\"#000000\" font-family=\"sans-serif\" font-size=\"12\" font-style=\"italic\" lengthAdjust=\"spacing\" textLength=\"41\" x=\"167\" y=\"223.1387\">«item»</text><text fill=\"#000000\" font-family=\"sans-serif\" font-size=\"14\" lengthAdjust=\"spacing\" textLength=\"35\" x=\"166\" y=\"238.9639\">a1: A</text><line style=\"stroke:#181818;stroke-width:0.5;\" x1=\"164\" x2=\"211\" y1=\"247.2656\" y2=\"247.2656\"/></g></a><!--MD5=[1dd1bfd58a279cf63c5f349dbc8fc6a1]\n",
       "class E11--><a href=\"psysml:16572df6-eec3-489a-80d1-3b65de425cbd\" target=\"_top\" title=\"psysml:16572df6-eec3-489a-80d1-3b65de425cbd\" xlink:actuate=\"onRequest\" xlink:href=\"psysml:16572df6-eec3-489a-80d1-3b65de425cbd\" xlink:show=\"new\" xlink:title=\"psysml:16572df6-eec3-489a-80d1-3b65de425cbd\" xlink:type=\"simple\"><g id=\"elem_E11\"><rect fill=\"#FFFFFF\" height=\"48.2656\" id=\"E11\" rx=\"10\" ry=\"10\" style=\"stroke:#181818;stroke-width:0.5;\" width=\"49\" x=\"163\" y=\"124\"/><text fill=\"#000000\" font-family=\"sans-serif\" font-size=\"12\" font-style=\"italic\" lengthAdjust=\"spacing\" textLength=\"41\" x=\"167\" y=\"140.1387\">«item»</text><text fill=\"#000000\" font-family=\"sans-serif\" font-size=\"14\" lengthAdjust=\"spacing\" textLength=\"35\" x=\"166\" y=\"155.9639\">a2: A</text><line style=\"stroke:#181818;stroke-width:0.5;\" x1=\"164\" x2=\"211\" y1=\"164.2656\" y2=\"164.2656\"/></g></a><!--MD5=[2720a5a1f2c3fca2055b230370638851]\n",
       "link E2 to E3--><g id=\"link_E2_E3\"><a href=\"psysml:70c9c3cf-ded5-4fad-940c-650d810049d2\" target=\"_top\" title=\"psysml:70c9c3cf-ded5-4fad-940c-650d810049d2\" xlink:actuate=\"onRequest\" xlink:href=\"psysml:70c9c3cf-ded5-4fad-940c-650d810049d2\" xlink:show=\"new\" xlink:title=\"psysml:70c9c3cf-ded5-4fad-940c-650d810049d2\" xlink:type=\"simple\"><path d=\"M209.23,79.46 C222.34,88.61 239.91,100.86 256.57,112.48 \" fill=\"none\" id=\"E2-to-E3\" style=\"stroke:#181818;stroke-width:1.0;\"/><polygon fill=\"#FFFFFF\" points=\"273.04,123.97,253.4504,118.8466,261.4568,107.3619,273.04,123.97\" style=\"stroke:#181818;stroke-width:1.0;\"/><ellipse cx=\"249.9183\" cy=\"113.9462\" fill=\"#181818\" rx=\"2\" ry=\"2\" style=\"stroke:#181818;stroke-width:1.0;\"/><ellipse cx=\"255.6371\" cy=\"105.7429\" fill=\"#181818\" rx=\"2\" ry=\"2\" style=\"stroke:#181818;stroke-width:1.0;\"/></a></g><!--MD5=[4672eba38e49728da53d11aeb285b987]\n",
       "reverse link E3 to E4--><g id=\"link_E3_E4\"><a href=\"psysml:1e28e0ed-b5c0-4fac-98b2-855fbe266c1f\" target=\"_top\" title=\"psysml:1e28e0ed-b5c0-4fac-98b2-855fbe266c1f\" xlink:actuate=\"onRequest\" xlink:href=\"psysml:1e28e0ed-b5c0-4fac-98b2-855fbe266c1f\" xlink:show=\"new\" xlink:title=\"psysml:1e28e0ed-b5c0-4fac-98b2-855fbe266c1f\" xlink:type=\"simple\"><path d=\"M340.61,181.21 C357.85,197.16 380.68,214.59 405,223 C428.54,231.14 457.48,228.32 476.66,224.83 \" fill=\"none\" id=\"E3-backto-E4\" style=\"stroke:#181818;stroke-width:1.0;\"/><polygon fill=\"#181818\" points=\"331.13,172.07,332.6703,179.1147,339.7655,180.4023,338.2252,173.3576,331.13,172.07\" style=\"stroke:#181818;stroke-width:1.0;\"/></a></g><!--MD5=[191cde3d490a3f6d7bb551fe3ddca469]\n",
       "reverse link E3 to E5--><g id=\"link_E3_E5\"><a href=\"psysml:b5974af5-b28c-458b-89e4-95d46de68236\" target=\"_top\" title=\"psysml:b5974af5-b28c-458b-89e4-95d46de68236\" xlink:actuate=\"onRequest\" xlink:href=\"psysml:b5974af5-b28c-458b-89e4-95d46de68236\" xlink:show=\"new\" xlink:title=\"psysml:b5974af5-b28c-458b-89e4-95d46de68236\" xlink:type=\"simple\"><path d=\"M356.66,130.03 C373.46,123.64 391.49,116.77 404.81,111.69 \" fill=\"none\" id=\"E3-backto-E5\" style=\"stroke:#181818;stroke-width:1.0;\"/><polygon fill=\"none\" points=\"344.15,134.8,351.1812,136.4006,355.363,130.5259,348.3318,128.9253,344.15,134.8\" style=\"stroke:#181818;stroke-width:1.0;\"/></a></g><!--MD5=[79568f1e445c3877b6a54524624ccc7d]\n",
       "link E4 to E6--><g id=\"link_E4_E6\"><a href=\"psysml:83940360-bfcd-4ab6-95b9-9006ad1a30a4\" target=\"_top\" title=\"psysml:83940360-bfcd-4ab6-95b9-9006ad1a30a4\" xlink:actuate=\"onRequest\" xlink:href=\"psysml:83940360-bfcd-4ab6-95b9-9006ad1a30a4\" xlink:show=\"new\" xlink:title=\"psysml:83940360-bfcd-4ab6-95b9-9006ad1a30a4\" xlink:type=\"simple\"><path d=\"M520.41,211.88 C544.45,202.54 585.1,186.72 620,173 C636.15,166.65 653.71,159.71 669.69,153.38 \" fill=\"none\" id=\"E4-to-E6\" style=\"stroke:#181818;stroke-width:1.0;\"/><polygon fill=\"#FFFFFF\" points=\"688.55,145.9,673.4781,159.4218,668.308,146.4114,688.55,145.9\" style=\"stroke:#181818;stroke-width:1.0;\"/><ellipse cx=\"667.4425\" cy=\"159.6682\" fill=\"#181818\" rx=\"2\" ry=\"2\" style=\"stroke:#181818;stroke-width:1.0;\"/><ellipse cx=\"663.7495\" cy=\"150.3751\" fill=\"#181818\" rx=\"2\" ry=\"2\" style=\"stroke:#181818;stroke-width:1.0;\"/></a></g><!--MD5=[3f50a3473f1dfb74d3f76443e03635af]\n",
       "reverse link E6 to E7--><g id=\"link_E6_E7\"><a href=\"psysml:c7c30ff0-7abe-445a-9147-4c620b104f3e\" target=\"_top\" title=\"psysml:c7c30ff0-7abe-445a-9147-4c620b104f3e\" xlink:actuate=\"onRequest\" xlink:href=\"psysml:c7c30ff0-7abe-445a-9147-4c620b104f3e\" xlink:show=\"new\" xlink:title=\"psysml:c7c30ff0-7abe-445a-9147-4c620b104f3e\" xlink:type=\"simple\"><path d=\"M772.66,118.12 C789.46,113.17 807.49,107.86 820.81,103.94 \" fill=\"none\" id=\"E6-backto-E7\" style=\"stroke:#181818;stroke-width:1.0;\"/><polygon fill=\"#181818\" points=\"760.15,121.8,767.0354,123.9428,771.6615,118.4111,764.7762,116.2684,760.15,121.8\" style=\"stroke:#181818;stroke-width:1.0;\"/></a></g><!--MD5=[14ccda38c055a5c0da953d572bc50960]\n",
       "link E7 to E3--><g id=\"link_E7_E3\"><a href=\"psysml:4a79bdb3-77e8-4e9c-befa-ce9a0c7716db\" target=\"_top\" title=\"psysml:4a79bdb3-77e8-4e9c-befa-ce9a0c7716db\" xlink:actuate=\"onRequest\" xlink:href=\"psysml:4a79bdb3-77e8-4e9c-befa-ce9a0c7716db\" xlink:show=\"new\" xlink:title=\"psysml:4a79bdb3-77e8-4e9c-befa-ce9a0c7716db\" xlink:type=\"simple\"><path d=\"M820.63,81.8 C798.54,65.89 761.58,44 725.5,44 C425,44 425,44 425,44 C385.67,44 353.69,77.71 333.43,106.75 \" fill=\"none\" id=\"E7-to-E3\" style=\"stroke:#181818;stroke-width:1.0;\"/><polygon fill=\"#FFFFFF\" points=\"322.38,123.88,326.8018,104.1202,338.5646,111.7121,322.38,123.88\" style=\"stroke:#181818;stroke-width:1.0;\"/><ellipse cx=\"331.5731\" cy=\"100.4156\" fill=\"#181818\" rx=\"2\" ry=\"2\" style=\"stroke:#181818;stroke-width:1.0;\"/><ellipse cx=\"339.9752\" cy=\"105.8384\" fill=\"#181818\" rx=\"2\" ry=\"2\" style=\"stroke:#181818;stroke-width:1.0;\"/></a></g><!--MD5=[dfaffb906826c3e5aca635516100ff21]\n",
       "link E5 to E8--><g id=\"link_E5_E8\"><a href=\"psysml:d776694e-c79b-404c-b561-ae1c1a2e3f3d\" target=\"_top\" title=\"psysml:d776694e-c79b-404c-b561-ae1c1a2e3f3d\" xlink:actuate=\"onRequest\" xlink:href=\"psysml:d776694e-c79b-404c-b561-ae1c1a2e3f3d\" xlink:show=\"new\" xlink:title=\"psysml:d776694e-c79b-404c-b561-ae1c1a2e3f3d\" xlink:type=\"simple\"><path d=\"M447.2,107.6 C468.06,111.32 501.5,117.29 530.1,122.39 \" fill=\"none\" id=\"E5-to-E8\" style=\"stroke:#181818;stroke-width:1.0;\"/><polygon fill=\"#FFFFFF\" points=\"549.82,125.9,529.8855,129.452,532.3459,115.6699,549.82,125.9\" style=\"stroke:#181818;stroke-width:1.0;\"/><ellipse cx=\"524.6257\" cy=\"126.4814\" fill=\"#181818\" rx=\"2\" ry=\"2\" style=\"stroke:#181818;stroke-width:1.0;\"/><ellipse cx=\"526.3831\" cy=\"116.637\" fill=\"#181818\" rx=\"2\" ry=\"2\" style=\"stroke:#181818;stroke-width:1.0;\"/></a></g><!--MD5=[03c8294790d3c57651a1993cecff665f]\n",
       "reverse link E8 to E3--><g id=\"link_E8_E3\"><a href=\"psysml:c4551329-8b56-4fd0-9fbf-f2d280f6b39b\" target=\"_top\" title=\"psysml:c4551329-8b56-4fd0-9fbf-f2d280f6b39b\" xlink:actuate=\"onRequest\" xlink:href=\"psysml:c4551329-8b56-4fd0-9fbf-f2d280f6b39b\" xlink:show=\"new\" xlink:title=\"psysml:c4551329-8b56-4fd0-9fbf-f2d280f6b39b\" xlink:type=\"simple\"><path d=\"M537.34,144.84 C511.03,151.41 477.44,158.71 447,162 C428.44,164.01 423.62,163.36 405,162 C384.78,160.53 362.34,157.32 344.29,154.34 \" fill=\"none\" id=\"E8-backto-E3\" style=\"stroke:#181818;stroke-width:1.0;\"/><polygon fill=\"none\" points=\"549.99,141.59,543.1849,139.2045,538.3655,144.5686,545.1706,146.9541,549.99,141.59\" style=\"stroke:#181818;stroke-width:1.0;\"/><text fill=\"#000000\" font-family=\"sans-serif\" font-size=\"13\" lengthAdjust=\"spacing\" textLength=\"7\" x=\"422.5\" y=\"158.0669\">y</text></a></g><!--MD5=[0d75d2178373a6a4568e5dc728f58aef]\n",
       "reverse link E8 to E6--><g id=\"link_E8_E6\"><a href=\"psysml:c4551329-8b56-4fd0-9fbf-f2d280f6b39b\" target=\"_top\" title=\"psysml:c4551329-8b56-4fd0-9fbf-f2d280f6b39b\" xlink:actuate=\"onRequest\" xlink:href=\"psysml:c4551329-8b56-4fd0-9fbf-f2d280f6b39b\" xlink:show=\"new\" xlink:title=\"psysml:c4551329-8b56-4fd0-9fbf-f2d280f6b39b\" xlink:type=\"simple\"><path d=\"M633.39,132 C651.53,132 671.88,132 688.64,132 \" fill=\"none\" id=\"E8-backto-E6\" style=\"stroke:#181818;stroke-width:1.0;\"/><polygon fill=\"none\" points=\"620.34,132,626.34,136,632.34,132,626.34,128,620.34,132\" style=\"stroke:#181818;stroke-width:1.0;\"/><text fill=\"#000000\" font-family=\"sans-serif\" font-size=\"13\" lengthAdjust=\"spacing\" textLength=\"7\" x=\"651\" y=\"128.0669\">y</text></a></g><!--MD5=[23ac544a70576c3e717098101004234c]\n",
       "reverse link E9 to E10--><g id=\"link_E9_E10\"><a href=\"psysml:5a5abb4f-4a57-47f4-8d13-1f5dca85ed3b\" target=\"_top\" title=\"psysml:5a5abb4f-4a57-47f4-8d13-1f5dca85ed3b\" xlink:actuate=\"onRequest\" xlink:href=\"psysml:5a5abb4f-4a57-47f4-8d13-1f5dca85ed3b\" xlink:show=\"new\" xlink:title=\"psysml:5a5abb4f-4a57-47f4-8d13-1f5dca85ed3b\" xlink:type=\"simple\"><path d=\"M114.56,205.5 C131.09,211.36 149,217.71 162.82,222.61 \" fill=\"none\" id=\"E9-backto-E10\" style=\"stroke:#181818;stroke-width:1.0;\"/><polygon fill=\"none\" points=\"102.28,201.15,106.5996,206.9242,113.591,205.1576,109.2714,199.3835,102.28,201.15\" style=\"stroke:#181818;stroke-width:1.0;\"/></a></g><!--MD5=[feeac5eb423634930294aa81f2d25a4c]\n",
       "link E10 to E3--><g id=\"link_E10_E3\"><a href=\"psysml:d7f66802-941a-4496-884a-36d82493c03e\" target=\"_top\" title=\"psysml:d7f66802-941a-4496-884a-36d82493c03e\" xlink:actuate=\"onRequest\" xlink:href=\"psysml:d7f66802-941a-4496-884a-36d82493c03e\" xlink:show=\"new\" xlink:title=\"psysml:d7f66802-941a-4496-884a-36d82493c03e\" xlink:type=\"simple\"><path d=\"M212.01,214.6 C224.61,205.81 240.66,194.62 255.98,183.93 \" fill=\"none\" id=\"E10-to-E3\" style=\"stroke:#181818;stroke-width:1.0;\"/><polygon fill=\"#FFFFFF\" points=\"272.76,172.23,261.1835,188.8428,253.1725,177.3614,272.76,172.23\" style=\"stroke:#181818;stroke-width:1.0;\"/><ellipse cx=\"255.3645\" cy=\"190.4642\" fill=\"#181818\" rx=\"2\" ry=\"2\" style=\"stroke:#181818;stroke-width:1.0;\"/><ellipse cx=\"249.6424\" cy=\"182.2632\" fill=\"#181818\" rx=\"2\" ry=\"2\" style=\"stroke:#181818;stroke-width:1.0;\"/></a></g><!--MD5=[1fc04a95fd77ad5ce46c1a3027516051]\n",
       "reverse link E9 to E11--><g id=\"link_E9_E11\"><a href=\"psysml:8187499b-9a51-4939-bbf5-c8a0ee670e5b\" target=\"_top\" title=\"psysml:8187499b-9a51-4939-bbf5-c8a0ee670e5b\" xlink:actuate=\"onRequest\" xlink:href=\"psysml:8187499b-9a51-4939-bbf5-c8a0ee670e5b\" xlink:show=\"new\" xlink:title=\"psysml:8187499b-9a51-4939-bbf5-c8a0ee670e5b\" xlink:type=\"simple\"><path d=\"M115.04,172.72 C131.44,167.05 149.14,160.93 162.82,156.19 \" fill=\"none\" id=\"E9-backto-E11\" style=\"stroke:#181818;stroke-width:1.0;\"/><polygon fill=\"none\" points=\"102.28,177.14,109.2589,178.9551,113.6186,173.2111,106.6396,171.396,102.28,177.14\" style=\"stroke:#181818;stroke-width:1.0;\"/></a></g><!--MD5=[0517f1ce58c4d5483948f93845c45e26]\n",
       "link E11 to E3--><g id=\"link_E11_E3\"><a href=\"psysml:ca7307c2-0235-4c1e-8766-bbb66b330e4f\" target=\"_top\" title=\"psysml:ca7307c2-0235-4c1e-8766-bbb66b330e4f\" xlink:actuate=\"onRequest\" xlink:href=\"psysml:ca7307c2-0235-4c1e-8766-bbb66b330e4f\" xlink:show=\"new\" xlink:title=\"psysml:ca7307c2-0235-4c1e-8766-bbb66b330e4f\" xlink:type=\"simple\"><path d=\"M212.01,148 C223.66,148 238.26,148 252.51,148 \" fill=\"none\" id=\"E11-to-E3\" style=\"stroke:#181818;stroke-width:1.0;\"/><polygon fill=\"#FFFFFF\" points=\"272.76,148,253.76,155,253.76,141,272.76,148\" style=\"stroke:#181818;stroke-width:1.0;\"/><ellipse cx=\"248.06\" cy=\"153\" fill=\"#181818\" rx=\"2\" ry=\"2\" style=\"stroke:#181818;stroke-width:1.0;\"/><ellipse cx=\"248.06\" cy=\"143\" fill=\"#181818\" rx=\"2\" ry=\"2\" style=\"stroke:#181818;stroke-width:1.0;\"/></a></g><!--MD5=[946112f663b740a2d143fb0855a85cf6]\n",
       "@startuml\r\n",
       "skin sysmlbw\r\n",
       "skinparam monochrome true\r\n",
       "skinparam wrapWidth 300\r\n",
       "hide circle\r\n",
       "left to right direction\r\n",
       "\r\n",
       "package \"ItemTest\" as E1  [[psysml:cd87d2b7-4fa1-4c1b-a4f6-af691b0dec58 ]]  {\r\n",
       "comp usage \"f: A  \" as E2  <<(T,blue) item>> [[psysml:a6e7d788-746b-466d-b844-23a78300b1ae ]] {\r\n",
       "}\r\n",
       "comp def \"A\" as E3  <<(T,blue) item  def>> [[psysml:7645df02-ea24-41fb-927b-82e0988a44f2 ]] {\r\n",
       "}\r\n",
       "comp usage \"b: B  \" as E4  <<(T,blue) item>> [[psysml:426ed2e2-6591-4c8f-a505-52d546190911 ]] {\r\n",
       "}\r\n",
       "comp usage \"c: C  \" as E5  <<(T,blue) part>> [[psysml:331ec08e-03d4-4ef2-9768-da2cb6dfa326 ]] {\r\n",
       "}\r\n",
       "comp def \"<i>B</i>\" as E6  <<(T,blue) item  def>> [[psysml:1c5a109b-6d3b-4425-b763-85184515822e ]] {\r\n",
       "}\r\n",
       "comp usage \"<i>a</i>: A  \" as E7  <<(T,blue) part>> [[psysml:3d3f18ff-1114-439a-91a9-78796a10458c ]] {\r\n",
       "}\r\n",
       "comp def \"C\" as E8  <<(T,blue) part  def>> [[psysml:1568c6af-b382-4c7f-b02a-0d87dd86c0f5 ]] {\r\n",
       "}\r\n",
       "comp def \"P\" as E9  <<(T,blue) port  def>> [[psysml:7b3481ba-f47b-4c12-87df-4d6f620e6d00 ]] {\r\n",
       "}\r\n",
       "comp usage \"a1: A  \" as E10  <<(T,blue) item>> [[psysml:116f794f-fd18-4d42-8d94-9abf783d43f0 ]] {\r\n",
       "}\r\n",
       "comp usage \"a2: A  \" as E11  <<(T,blue) item>> [[psysml:16572df6-eec3-489a-80d1-3b65de425cbd ]] {\r\n",
       "}\r\n",
       "}\r\n",
       "E2 - -:|> E3 [[psysml:70c9c3cf-ded5-4fad-940c-650d810049d2 ]] \r\n",
       "E3 *- - E4 [[psysml:1e28e0ed-b5c0-4fac-98b2-855fbe266c1f ]] \r\n",
       "E3 o- - E5 [[psysml:b5974af5-b28c-458b-89e4-95d46de68236 ]] \r\n",
       "E4 - -:|> E6 [[psysml:83940360-bfcd-4ab6-95b9-9006ad1a30a4 ]] \r\n",
       "E6 *- - E7 [[psysml:c7c30ff0-7abe-445a-9147-4c620b104f3e ]] \r\n",
       "E7 - -:|> E3 [[psysml:4a79bdb3-77e8-4e9c-befa-ce9a0c7716db ]] \r\n",
       "E5 - -:|> E8 [[psysml:d776694e-c79b-404c-b561-ae1c1a2e3f3d ]] \r\n",
       "E8 o- - E3 [[psysml:c4551329-8b56-4fd0-9fbf-f2d280f6b39b ]] : y\r\n",
       "E8 o- - E6 [[psysml:c4551329-8b56-4fd0-9fbf-f2d280f6b39b ]] : y\r\n",
       "E9 o- - E10 [[psysml:5a5abb4f-4a57-47f4-8d13-1f5dca85ed3b ]] \r\n",
       "E10 - -:|> E3 [[psysml:d7f66802-941a-4496-884a-36d82493c03e ]] \r\n",
       "E9 o- - E11 [[psysml:8187499b-9a51-4939-bbf5-c8a0ee670e5b ]] \r\n",
       "E11 - -:|> E3 [[psysml:ca7307c2-0235-4c1e-8766-bbb66b330e4f ]] \r\n",
       "@enduml\r\n",
       "\n",
       "PlantUML version 1.2022.7(Mon Aug 22 17:01:30 UTC 2022)\n",
       "(EPL source distribution)\n",
       "Java Runtime: OpenJDK Runtime Environment\n",
       "JVM: OpenJDK 64-Bit Server VM\n",
       "Default Encoding: UTF-8\n",
       "Language: en\n",
       "Country: null\n",
       "--></g></svg>"
      ]
     },
     "execution_count": 22,
     "metadata": {},
     "output_type": "execute_result"
    }
   ],
   "source": [
    "%viz --style=\"LR\" --view=\"MIXED\" \"ItemTest\""
   ]
  },
  {
   "cell_type": "code",
   "execution_count": 23,
   "id": "b4847c1e",
   "metadata": {
    "execution": {
     "iopub.execute_input": "2024-12-16T14:15:16.995566Z",
     "iopub.status.busy": "2024-12-16T14:15:16.995341Z",
     "iopub.status.idle": "2024-12-16T14:15:17.028695Z",
     "shell.execute_reply": "2024-12-16T14:15:17.027777Z"
    }
   },
   "outputs": [
    {
     "data": {
      "image/svg+xml": [
       "<?xml version=\"1.0\" encoding=\"UTF-8\" standalone=\"no\"?><svg xmlns=\"http://www.w3.org/2000/svg\" xmlns:xlink=\"http://www.w3.org/1999/xlink\" contentStyleType=\"text/css\" height=\"829px\" preserveAspectRatio=\"none\" style=\"width:277px;height:829px;background:#FFFFFF;\" version=\"1.1\" viewBox=\"0 0 277 829\" width=\"277px\" zoomAndPan=\"magnify\"><defs><filter height=\"300%\" id=\"f1av7v4z99q1gd\" width=\"300%\" x=\"-1\" y=\"-1\"><feGaussianBlur result=\"blurOut\" stdDeviation=\"2.0\"/><feColorMatrix in=\"blurOut\" result=\"blurOut2\" type=\"matrix\" values=\"0 0 0 0 0 0 0 0 0 0 0 0 0 0 0 0 0 0 .4 0\"/><feOffset dx=\"4.0\" dy=\"4.0\" in=\"blurOut2\" result=\"blurOut3\"/><feBlend in=\"SourceGraphic\" in2=\"blurOut3\" mode=\"normal\"/></filter></defs><g><!--MD5=[fbc87193dbaf4d95561dea2c320d4a47]\n",
       "cluster E1--><g id=\"cluster_E1\"><a href=\"psysml:cd87d2b7-4fa1-4c1b-a4f6-af691b0dec58\" target=\"_top\" title=\"psysml:cd87d2b7-4fa1-4c1b-a4f6-af691b0dec58\" xlink:actuate=\"onRequest\" xlink:href=\"psysml:cd87d2b7-4fa1-4c1b-a4f6-af691b0dec58\" xlink:show=\"new\" xlink:title=\"psysml:cd87d2b7-4fa1-4c1b-a4f6-af691b0dec58\" xlink:type=\"simple\"><polygon fill=\"none\" filter=\"url(#f1av7v4z99q1gd)\" points=\"16,6,86.5,6,93.5,28.2969,260,28.2969,260,822,16,822,16,6\" style=\"stroke:#000000;stroke-width:1.5;\"/><line style=\"stroke:#000000;stroke-width:1.5;\" x1=\"16\" x2=\"93.5\" y1=\"28.2969\" y2=\"28.2969\"/><text fill=\"#000000\" font-family=\"sans-serif\" font-size=\"14\" font-weight=\"bold\" lengthAdjust=\"spacing\" textLength=\"64.5\" x=\"20\" y=\"20.9951\">ItemTest</text></a></g><!--MD5=[b4997ac47864f28c2f74865a473b2911]\n",
       "class E2--><a href=\"psysml:a6e7d788-746b-466d-b844-23a78300b1ae\" target=\"_top\" title=\"psysml:a6e7d788-746b-466d-b844-23a78300b1ae\" xlink:actuate=\"onRequest\" xlink:href=\"psysml:a6e7d788-746b-466d-b844-23a78300b1ae\" xlink:show=\"new\" xlink:title=\"psysml:a6e7d788-746b-466d-b844-23a78300b1ae\" xlink:type=\"simple\"><g id=\"elem_E2\"><rect fill=\"#FFFACD\" filter=\"url(#f1av7v4z99q1gd)\" height=\"48.2656\" id=\"E2\" rx=\"10\" ry=\"10\" style=\"stroke:#181818;stroke-width:0.5;\" width=\"43\" x=\"200.5\" y=\"150\"/><text fill=\"#000000\" font-family=\"sans-serif\" font-size=\"12\" font-style=\"italic\" lengthAdjust=\"spacing\" textLength=\"41\" x=\"201.5\" y=\"166.1387\">«item»</text><text fill=\"#000000\" font-family=\"sans-serif\" font-size=\"14\" lengthAdjust=\"spacing\" textLength=\"22\" x=\"207\" y=\"181.9639\">f: A</text><line style=\"stroke:#181818;stroke-width:0.5;\" x1=\"201.5\" x2=\"242.5\" y1=\"190.2656\" y2=\"190.2656\"/></g></a><!--MD5=[09b614a08d8cba4a07c9adeb5e0fee81]\n",
       "class E3--><a href=\"psysml:7645df02-ea24-41fb-927b-82e0988a44f2\" target=\"_top\" title=\"psysml:7645df02-ea24-41fb-927b-82e0988a44f2\" xlink:actuate=\"onRequest\" xlink:href=\"psysml:7645df02-ea24-41fb-927b-82e0988a44f2\" xlink:show=\"new\" xlink:title=\"psysml:7645df02-ea24-41fb-927b-82e0988a44f2\" xlink:type=\"simple\"><g id=\"elem_E3\"><rect fill=\"#FFFACD\" filter=\"url(#f1av7v4z99q1gd)\" height=\"48.2656\" id=\"E3\" style=\"stroke:#181818;stroke-width:0.5;\" width=\"71\" x=\"105.5\" y=\"259\"/><text fill=\"#000000\" font-family=\"sans-serif\" font-size=\"12\" font-style=\"italic\" lengthAdjust=\"spacing\" textLength=\"69\" x=\"106.5\" y=\"275.1387\">«item  def»</text><text fill=\"#000000\" font-family=\"sans-serif\" font-size=\"14\" lengthAdjust=\"spacing\" textLength=\"9\" x=\"136.5\" y=\"290.9639\">A</text><line style=\"stroke:#181818;stroke-width:0.5;\" x1=\"106.5\" x2=\"175.5\" y1=\"299.2656\" y2=\"299.2656\"/></g></a><!--MD5=[ebbe1d658d1005bcc118a6aa81145e00]\n",
       "class E4--><a href=\"psysml:426ed2e2-6591-4c8f-a505-52d546190911\" target=\"_top\" title=\"psysml:426ed2e2-6591-4c8f-a505-52d546190911\" xlink:actuate=\"onRequest\" xlink:href=\"psysml:426ed2e2-6591-4c8f-a505-52d546190911\" xlink:show=\"new\" xlink:title=\"psysml:426ed2e2-6591-4c8f-a505-52d546190911\" xlink:type=\"simple\"><g id=\"elem_E4\"><rect fill=\"#FFFACD\" filter=\"url(#f1av7v4z99q1gd)\" height=\"48.2656\" id=\"E4\" rx=\"10\" ry=\"10\" style=\"stroke:#181818;stroke-width:0.5;\" width=\"43\" x=\"48.5\" y=\"446\"/><text fill=\"#000000\" font-family=\"sans-serif\" font-size=\"12\" font-style=\"italic\" lengthAdjust=\"spacing\" textLength=\"41\" x=\"49.5\" y=\"462.1387\">«item»</text><text fill=\"#000000\" font-family=\"sans-serif\" font-size=\"14\" lengthAdjust=\"spacing\" textLength=\"28\" x=\"52\" y=\"477.9639\">b: B</text><line style=\"stroke:#181818;stroke-width:0.5;\" x1=\"49.5\" x2=\"90.5\" y1=\"486.2656\" y2=\"486.2656\"/></g></a><!--MD5=[270fce915f116d4de14055a7c1d9a0f3]\n",
       "class E5--><a href=\"psysml:331ec08e-03d4-4ef2-9768-da2cb6dfa326\" target=\"_top\" title=\"psysml:331ec08e-03d4-4ef2-9768-da2cb6dfa326\" xlink:actuate=\"onRequest\" xlink:href=\"psysml:331ec08e-03d4-4ef2-9768-da2cb6dfa326\" xlink:show=\"new\" xlink:title=\"psysml:331ec08e-03d4-4ef2-9768-da2cb6dfa326\" xlink:type=\"simple\"><g id=\"elem_E5\"><rect fill=\"#FFFACD\" filter=\"url(#f1av7v4z99q1gd)\" height=\"48.2656\" id=\"E5\" rx=\"10\" ry=\"10\" style=\"stroke:#181818;stroke-width:0.5;\" width=\"42\" x=\"157\" y=\"368\"/><text fill=\"#000000\" font-family=\"sans-serif\" font-size=\"12\" font-style=\"italic\" lengthAdjust=\"spacing\" textLength=\"40\" x=\"158\" y=\"384.1387\">«part»</text><text fill=\"#000000\" font-family=\"sans-serif\" font-size=\"14\" lengthAdjust=\"spacing\" textLength=\"27\" x=\"160.5\" y=\"399.9639\">c: C</text><line style=\"stroke:#181818;stroke-width:0.5;\" x1=\"158\" x2=\"198\" y1=\"408.2656\" y2=\"408.2656\"/></g></a><!--MD5=[60a26617385b1d2d0262a64233df1f8d]\n",
       "class E6--><a href=\"psysml:1c5a109b-6d3b-4425-b763-85184515822e\" target=\"_top\" title=\"psysml:1c5a109b-6d3b-4425-b763-85184515822e\" xlink:actuate=\"onRequest\" xlink:href=\"psysml:1c5a109b-6d3b-4425-b763-85184515822e\" xlink:show=\"new\" xlink:title=\"psysml:1c5a109b-6d3b-4425-b763-85184515822e\" xlink:type=\"simple\"><g id=\"elem_E6\"><rect fill=\"#FFFACD\" filter=\"url(#f1av7v4z99q1gd)\" height=\"48.2656\" id=\"E6\" style=\"stroke:#181818;stroke-width:0.5;\" width=\"71\" x=\"116.5\" y=\"649\"/><text fill=\"#000000\" font-family=\"sans-serif\" font-size=\"12\" font-style=\"italic\" lengthAdjust=\"spacing\" textLength=\"69\" x=\"117.5\" y=\"665.1387\">«item  def»</text><text fill=\"#000000\" font-family=\"sans-serif\" font-size=\"14\" font-style=\"italic\" lengthAdjust=\"spacing\" textLength=\"10\" x=\"147\" y=\"680.9639\">B</text><line style=\"stroke:#181818;stroke-width:0.5;\" x1=\"117.5\" x2=\"186.5\" y1=\"689.2656\" y2=\"689.2656\"/></g></a><!--MD5=[2156ba9850f5573cc1fc38a6a4b2f02b]\n",
       "class E7--><a href=\"psysml:3d3f18ff-1114-439a-91a9-78796a10458c\" target=\"_top\" title=\"psysml:3d3f18ff-1114-439a-91a9-78796a10458c\" xlink:actuate=\"onRequest\" xlink:href=\"psysml:3d3f18ff-1114-439a-91a9-78796a10458c\" xlink:show=\"new\" xlink:title=\"psysml:3d3f18ff-1114-439a-91a9-78796a10458c\" xlink:type=\"simple\"><g id=\"elem_E7\"><rect fill=\"#FFFACD\" filter=\"url(#f1av7v4z99q1gd)\" height=\"48.2656\" id=\"E7\" rx=\"10\" ry=\"10\" style=\"stroke:#181818;stroke-width:0.5;\" width=\"42\" x=\"167\" y=\"758\"/><text fill=\"#000000\" font-family=\"sans-serif\" font-size=\"12\" font-style=\"italic\" lengthAdjust=\"spacing\" textLength=\"40\" x=\"168\" y=\"774.1387\">«part»</text><text fill=\"#000000\" font-family=\"sans-serif\" font-size=\"14\" font-style=\"italic\" lengthAdjust=\"spacing\" textLength=\"8\" x=\"171\" y=\"789.9639\">a</text><text fill=\"#000000\" font-family=\"sans-serif\" font-size=\"14\" lengthAdjust=\"spacing\" textLength=\"18\" x=\"179\" y=\"789.9639\">: A</text><line style=\"stroke:#181818;stroke-width:0.5;\" x1=\"168\" x2=\"208\" y1=\"798.2656\" y2=\"798.2656\"/></g></a><!--MD5=[b9389687b975829384b498ac4b7476b2]\n",
       "class E8--><a href=\"psysml:1568c6af-b382-4c7f-b02a-0d87dd86c0f5\" target=\"_top\" title=\"psysml:1568c6af-b382-4c7f-b02a-0d87dd86c0f5\" xlink:actuate=\"onRequest\" xlink:href=\"psysml:1568c6af-b382-4c7f-b02a-0d87dd86c0f5\" xlink:show=\"new\" xlink:title=\"psysml:1568c6af-b382-4c7f-b02a-0d87dd86c0f5\" xlink:type=\"simple\"><g id=\"elem_E8\"><rect fill=\"#FFFACD\" filter=\"url(#f1av7v4z99q1gd)\" height=\"48.2656\" id=\"E8\" style=\"stroke:#181818;stroke-width:0.5;\" width=\"70\" x=\"117\" y=\"524\"/><text fill=\"#000000\" font-family=\"sans-serif\" font-size=\"12\" font-style=\"italic\" lengthAdjust=\"spacing\" textLength=\"68\" x=\"118\" y=\"540.1387\">«part  def»</text><text fill=\"#000000\" font-family=\"sans-serif\" font-size=\"14\" lengthAdjust=\"spacing\" textLength=\"10\" x=\"147\" y=\"555.9639\">C</text><line style=\"stroke:#181818;stroke-width:0.5;\" x1=\"118\" x2=\"186\" y1=\"564.2656\" y2=\"564.2656\"/></g></a><!--MD5=[fd4143e9d270a159db93a4ea2a975926]\n",
       "class E9--><a href=\"psysml:7b3481ba-f47b-4c12-87df-4d6f620e6d00\" target=\"_top\" title=\"psysml:7b3481ba-f47b-4c12-87df-4d6f620e6d00\" xlink:actuate=\"onRequest\" xlink:href=\"psysml:7b3481ba-f47b-4c12-87df-4d6f620e6d00\" xlink:show=\"new\" xlink:title=\"psysml:7b3481ba-f47b-4c12-87df-4d6f620e6d00\" xlink:type=\"simple\"><g id=\"elem_E9\"><rect fill=\"#FFFACD\" filter=\"url(#f1av7v4z99q1gd)\" height=\"48.2656\" id=\"E9\" style=\"stroke:#181818;stroke-width:0.5;\" width=\"70\" x=\"69\" y=\"41\"/><text fill=\"#000000\" font-family=\"sans-serif\" font-size=\"12\" font-style=\"italic\" lengthAdjust=\"spacing\" textLength=\"68\" x=\"70\" y=\"57.1387\">«port  def»</text><text fill=\"#000000\" font-family=\"sans-serif\" font-size=\"14\" lengthAdjust=\"spacing\" textLength=\"9\" x=\"99.5\" y=\"72.9639\">P</text><line style=\"stroke:#181818;stroke-width:0.5;\" x1=\"70\" x2=\"138\" y1=\"81.2656\" y2=\"81.2656\"/></g></a><!--MD5=[96f4274e9e20536e775497830990834d]\n",
       "class E10--><a href=\"psysml:116f794f-fd18-4d42-8d94-9abf783d43f0\" target=\"_top\" title=\"psysml:116f794f-fd18-4d42-8d94-9abf783d43f0\" xlink:actuate=\"onRequest\" xlink:href=\"psysml:116f794f-fd18-4d42-8d94-9abf783d43f0\" xlink:show=\"new\" xlink:title=\"psysml:116f794f-fd18-4d42-8d94-9abf783d43f0\" xlink:type=\"simple\"><g id=\"elem_E10\"><rect fill=\"#FFFACD\" filter=\"url(#f1av7v4z99q1gd)\" height=\"48.2656\" id=\"E10\" rx=\"10\" ry=\"10\" style=\"stroke:#181818;stroke-width:0.5;\" width=\"49\" x=\"32.5\" y=\"150\"/><text fill=\"#000000\" font-family=\"sans-serif\" font-size=\"12\" font-style=\"italic\" lengthAdjust=\"spacing\" textLength=\"41\" x=\"36.5\" y=\"166.1387\">«item»</text><text fill=\"#000000\" font-family=\"sans-serif\" font-size=\"14\" lengthAdjust=\"spacing\" textLength=\"35\" x=\"35.5\" y=\"181.9639\">a1: A</text><line style=\"stroke:#181818;stroke-width:0.5;\" x1=\"33.5\" x2=\"80.5\" y1=\"190.2656\" y2=\"190.2656\"/></g></a><!--MD5=[1dd1bfd58a279cf63c5f349dbc8fc6a1]\n",
       "class E11--><a href=\"psysml:16572df6-eec3-489a-80d1-3b65de425cbd\" target=\"_top\" title=\"psysml:16572df6-eec3-489a-80d1-3b65de425cbd\" xlink:actuate=\"onRequest\" xlink:href=\"psysml:16572df6-eec3-489a-80d1-3b65de425cbd\" xlink:show=\"new\" xlink:title=\"psysml:16572df6-eec3-489a-80d1-3b65de425cbd\" xlink:type=\"simple\"><g id=\"elem_E11\"><rect fill=\"#FFFACD\" filter=\"url(#f1av7v4z99q1gd)\" height=\"48.2656\" id=\"E11\" rx=\"10\" ry=\"10\" style=\"stroke:#181818;stroke-width:0.5;\" width=\"49\" x=\"116.5\" y=\"150\"/><text fill=\"#000000\" font-family=\"sans-serif\" font-size=\"12\" font-style=\"italic\" lengthAdjust=\"spacing\" textLength=\"41\" x=\"120.5\" y=\"166.1387\">«item»</text><text fill=\"#000000\" font-family=\"sans-serif\" font-size=\"14\" lengthAdjust=\"spacing\" textLength=\"35\" x=\"119.5\" y=\"181.9639\">a2: A</text><line style=\"stroke:#181818;stroke-width:0.5;\" x1=\"117.5\" x2=\"164.5\" y1=\"190.2656\" y2=\"190.2656\"/></g></a><!--MD5=[2720a5a1f2c3fca2055b230370638851]\n",
       "link E2 to E3--><g id=\"link_E2_E3\"><a href=\"psysml:70c9c3cf-ded5-4fad-940c-650d810049d2\" target=\"_top\" title=\"psysml:70c9c3cf-ded5-4fad-940c-650d810049d2\" xlink:actuate=\"onRequest\" xlink:href=\"psysml:70c9c3cf-ded5-4fad-940c-650d810049d2\" xlink:show=\"new\" xlink:title=\"psysml:70c9c3cf-ded5-4fad-940c-650d810049d2\" xlink:type=\"simple\"><path d=\"M204.42,198.22 C194.55,211.26 181.97,227.88 170.62,242.87 \" fill=\"none\" id=\"E2-to-E3\" style=\"stroke:#181818;stroke-width:1.0;\"/><polygon fill=\"#FFFFFF\" points=\"158.54,258.83,164.4286,239.4567,175.5901,247.9078,158.54,258.83\" style=\"stroke:#181818;stroke-width:1.0;\"/><ellipse cx=\"169.4639\" cy=\"236.1197\" fill=\"#181818\" rx=\"2\" ry=\"2\" style=\"stroke:#181818;stroke-width:1.0;\"/><ellipse cx=\"177.4364\" cy=\"242.1562\" fill=\"#181818\" rx=\"2\" ry=\"2\" style=\"stroke:#181818;stroke-width:1.0;\"/></a></g><!--MD5=[4672eba38e49728da53d11aeb285b987]\n",
       "reverse link E3 to E4--><g id=\"link_E3_E4\"><a href=\"psysml:1e28e0ed-b5c0-4fac-98b2-855fbe266c1f\" target=\"_top\" title=\"psysml:1e28e0ed-b5c0-4fac-98b2-855fbe266c1f\" xlink:actuate=\"onRequest\" xlink:href=\"psysml:1e28e0ed-b5c0-4fac-98b2-855fbe266c1f\" xlink:show=\"new\" xlink:title=\"psysml:1e28e0ed-b5c0-4fac-98b2-855fbe266c1f\" xlink:type=\"simple\"><path d=\"M104.38,316.32 C90.85,330.64 77.09,348.62 70,368 C60.72,393.36 62.6,424.76 65.58,445.75 \" fill=\"none\" id=\"E3-backto-E4\" style=\"stroke:#181818;stroke-width:1.0;\"/><polygon fill=\"#181818\" points=\"113.62,307.02,106.5522,308.4507,105.1545,315.525,112.2223,314.0943,113.62,307.02\" style=\"stroke:#181818;stroke-width:1.0;\"/></a></g><!--MD5=[191cde3d490a3f6d7bb551fe3ddca469]\n",
       "reverse link E3 to E5--><g id=\"link_E3_E5\"><a href=\"psysml:b5974af5-b28c-458b-89e4-95d46de68236\" target=\"_top\" title=\"psysml:b5974af5-b28c-458b-89e4-95d46de68236\" xlink:actuate=\"onRequest\" xlink:href=\"psysml:b5974af5-b28c-458b-89e4-95d46de68236\" xlink:show=\"new\" xlink:title=\"psysml:b5974af5-b28c-458b-89e4-95d46de68236\" xlink:type=\"simple\"><path d=\"M153.39,319.83 C158.86,335.66 165.14,353.82 169.99,367.83 \" fill=\"none\" id=\"E3-backto-E5\" style=\"stroke:#181818;stroke-width:1.0;\"/><polygon fill=\"none\" points=\"149.03,307.22,147.2077,314.1971,152.9472,318.5627,154.7695,311.5856,149.03,307.22\" style=\"stroke:#181818;stroke-width:1.0;\"/></a></g><!--MD5=[79568f1e445c3877b6a54524624ccc7d]\n",
       "link E4 to E6--><g id=\"link_E4_E6\"><a href=\"psysml:83940360-bfcd-4ab6-95b9-9006ad1a30a4\" target=\"_top\" title=\"psysml:83940360-bfcd-4ab6-95b9-9006ad1a30a4\" xlink:actuate=\"onRequest\" xlink:href=\"psysml:83940360-bfcd-4ab6-95b9-9006ad1a30a4\" xlink:show=\"new\" xlink:title=\"psysml:83940360-bfcd-4ab6-95b9-9006ad1a30a4\" xlink:type=\"simple\"><path d=\"M75.57,494.29 C80.84,515.04 89.51,546.05 100,572 C108.08,591.98 118.83,613.29 128.46,631.07 \" fill=\"none\" id=\"E4-to-E6\" style=\"stroke:#181818;stroke-width:1.0;\"/><polygon fill=\"#FFFFFF\" points=\"138.29,648.76,122.9437,635.5505,135.1819,628.7515,138.29,648.76\" style=\"stroke:#181818;stroke-width:1.0;\"/><ellipse cx=\"121.9238\" cy=\"629.5965\" fill=\"#181818\" rx=\"2\" ry=\"2\" style=\"stroke:#181818;stroke-width:1.0;\"/><ellipse cx=\"130.6654\" cy=\"624.7401\" fill=\"#181818\" rx=\"2\" ry=\"2\" style=\"stroke:#181818;stroke-width:1.0;\"/></a></g><!--MD5=[3f50a3473f1dfb74d3f76443e03635af]\n",
       "reverse link E6 to E7--><g id=\"link_E6_E7\"><a href=\"psysml:c7c30ff0-7abe-445a-9147-4c620b104f3e\" target=\"_top\" title=\"psysml:c7c30ff0-7abe-445a-9147-4c620b104f3e\" xlink:actuate=\"onRequest\" xlink:href=\"psysml:c7c30ff0-7abe-445a-9147-4c620b104f3e\" xlink:show=\"new\" xlink:title=\"psysml:c7c30ff0-7abe-445a-9147-4c620b104f3e\" xlink:type=\"simple\"><path d=\"M164.05,709.83 C169.38,725.66 175.49,743.82 180.2,757.83 \" fill=\"none\" id=\"E6-backto-E7\" style=\"stroke:#181818;stroke-width:1.0;\"/><polygon fill=\"#181818\" points=\"159.81,697.22,157.9296,704.1816,163.6324,708.5949,165.5128,701.6333,159.81,697.22\" style=\"stroke:#181818;stroke-width:1.0;\"/></a></g><!--MD5=[14ccda38c055a5c0da953d572bc50960]\n",
       "link E7 to E3--><g id=\"link_E7_E3\"><a href=\"psysml:4a79bdb3-77e8-4e9c-befa-ce9a0c7716db\" target=\"_top\" title=\"psysml:4a79bdb3-77e8-4e9c-befa-ce9a0c7716db\" xlink:actuate=\"onRequest\" xlink:href=\"psysml:4a79bdb3-77e8-4e9c-befa-ce9a0c7716db\" xlink:show=\"new\" xlink:title=\"psysml:4a79bdb3-77e8-4e9c-befa-ce9a0c7716db\" xlink:type=\"simple\"><path d=\"M204.97,757.64 C218.43,736.78 235,704.84 235,674 C235,391 235,391 235,391 C235,361.35 214.38,336.01 192.46,317.43 \" fill=\"none\" id=\"E7-to-E3\" style=\"stroke:#181818;stroke-width:1.0;\"/><polygon fill=\"#FFFFFF\" points=\"176.54,305.14,195.8578,311.2081,187.3035,322.2907,176.54,305.14\" style=\"stroke:#181818;stroke-width:1.0;\"/><ellipse cx=\"199.148\" cy=\"316.2741\" fill=\"#181818\" rx=\"2\" ry=\"2\" style=\"stroke:#181818;stroke-width:1.0;\"/><ellipse cx=\"193.0378\" cy=\"324.1903\" fill=\"#181818\" rx=\"2\" ry=\"2\" style=\"stroke:#181818;stroke-width:1.0;\"/></a></g><!--MD5=[dfaffb906826c3e5aca635516100ff21]\n",
       "link E5 to E8--><g id=\"link_E5_E8\"><a href=\"psysml:d776694e-c79b-404c-b561-ae1c1a2e3f3d\" target=\"_top\" title=\"psysml:d776694e-c79b-404c-b561-ae1c1a2e3f3d\" xlink:actuate=\"onRequest\" xlink:href=\"psysml:d776694e-c79b-404c-b561-ae1c1a2e3f3d\" xlink:show=\"new\" xlink:title=\"psysml:d776694e-c79b-404c-b561-ae1c1a2e3f3d\" xlink:type=\"simple\"><path d=\"M174.11,416.06 C170.2,439.19 164.09,475.38 159.28,503.86 \" fill=\"none\" id=\"E5-to-E8\" style=\"stroke:#181818;stroke-width:1.0;\"/><polygon fill=\"#FFFFFF\" points=\"155.92,523.79,152.1809,503.8898,165.9855,506.2206,155.92,523.79\" style=\"stroke:#181818;stroke-width:1.0;\"/><ellipse cx=\"155.1019\" cy=\"498.6023\" fill=\"#181818\" rx=\"2\" ry=\"2\" style=\"stroke:#181818;stroke-width:1.0;\"/><ellipse cx=\"164.9624\" cy=\"500.2671\" fill=\"#181818\" rx=\"2\" ry=\"2\" style=\"stroke:#181818;stroke-width:1.0;\"/></a></g><!--MD5=[03c8294790d3c57651a1993cecff665f]\n",
       "reverse link E8 to E3--><g id=\"link_E8_E3\"><a href=\"psysml:c4551329-8b56-4fd0-9fbf-f2d280f6b39b\" target=\"_top\" title=\"psysml:c4551329-8b56-4fd0-9fbf-f2d280f6b39b\" xlink:actuate=\"onRequest\" xlink:href=\"psysml:c4551329-8b56-4fd0-9fbf-f2d280f6b39b\" xlink:show=\"new\" xlink:title=\"psysml:c4551329-8b56-4fd0-9fbf-f2d280f6b39b\" xlink:type=\"simple\"><path d=\"M144.62,510.88 C139.66,484.68 133.57,448.31 131,416 C129.31,394.73 129.74,389.3 131,368 C132.23,347.33 135.14,323.95 137.5,307.11 \" fill=\"none\" id=\"E8-backto-E3\" style=\"stroke:#181818;stroke-width:1.0;\"/><polygon fill=\"none\" points=\"147.16,523.94,149.9387,517.2857,144.865,512.1615,142.0863,518.8158,147.16,523.94\" style=\"stroke:#181818;stroke-width:1.0;\"/><text fill=\"#000000\" font-family=\"sans-serif\" font-size=\"13\" lengthAdjust=\"spacing\" textLength=\"7\" x=\"132\" y=\"396.5669\">y</text></a></g><!--MD5=[0d75d2178373a6a4568e5dc728f58aef]\n",
       "reverse link E8 to E6--><g id=\"link_E8_E6\"><a href=\"psysml:c4551329-8b56-4fd0-9fbf-f2d280f6b39b\" target=\"_top\" title=\"psysml:c4551329-8b56-4fd0-9fbf-f2d280f6b39b\" xlink:actuate=\"onRequest\" xlink:href=\"psysml:c4551329-8b56-4fd0-9fbf-f2d280f6b39b\" xlink:show=\"new\" xlink:title=\"psysml:c4551329-8b56-4fd0-9fbf-f2d280f6b39b\" xlink:type=\"simple\"><path d=\"M152,585.21 C152,605.83 152,631.04 152,648.97 \" fill=\"none\" id=\"E8-backto-E6\" style=\"stroke:#181818;stroke-width:1.0;\"/><polygon fill=\"none\" points=\"152,572.14,148,578.14,152,584.14,156,578.14,152,572.14\" style=\"stroke:#181818;stroke-width:1.0;\"/><text fill=\"#000000\" font-family=\"sans-serif\" font-size=\"13\" lengthAdjust=\"spacing\" textLength=\"7\" x=\"153\" y=\"615.0669\">y</text></a></g><!--MD5=[23ac544a70576c3e717098101004234c]\n",
       "reverse link E9 to E10--><g id=\"link_E9_E10\"><a href=\"psysml:5a5abb4f-4a57-47f4-8d13-1f5dca85ed3b\" target=\"_top\" title=\"psysml:5a5abb4f-4a57-47f4-8d13-1f5dca85ed3b\" xlink:actuate=\"onRequest\" xlink:href=\"psysml:5a5abb4f-4a57-47f4-8d13-1f5dca85ed3b\" xlink:show=\"new\" xlink:title=\"psysml:5a5abb4f-4a57-47f4-8d13-1f5dca85ed3b\" xlink:type=\"simple\"><path d=\"M88.47,101.35 C81.47,117.29 73.39,135.68 67.18,149.83 \" fill=\"none\" id=\"E9-backto-E10\" style=\"stroke:#181818;stroke-width:1.0;\"/><polygon fill=\"none\" points=\"93.8,89.22,87.7243,93.1041,88.9729,100.2063,95.0485,96.3222,93.8,89.22\" style=\"stroke:#181818;stroke-width:1.0;\"/></a></g><!--MD5=[feeac5eb423634930294aa81f2d25a4c]\n",
       "link E10 to E3--><g id=\"link_E10_E3\"><a href=\"psysml:d7f66802-941a-4496-884a-36d82493c03e\" target=\"_top\" title=\"psysml:d7f66802-941a-4496-884a-36d82493c03e\" xlink:actuate=\"onRequest\" xlink:href=\"psysml:d7f66802-941a-4496-884a-36d82493c03e\" xlink:show=\"new\" xlink:title=\"psysml:d7f66802-941a-4496-884a-36d82493c03e\" xlink:type=\"simple\"><path d=\"M75.23,198.22 C85.46,211.26 98.51,227.88 110.28,242.87 \" fill=\"none\" id=\"E10-to-E3\" style=\"stroke:#181818;stroke-width:1.0;\"/><polygon fill=\"#FFFFFF\" points=\"122.81,258.83,105.5676,248.214,116.5764,239.565,122.81,258.83\" style=\"stroke:#181818;stroke-width:1.0;\"/><ellipse cx=\"103.6189\" cy=\"242.4963\" fill=\"#181818\" rx=\"2\" ry=\"2\" style=\"stroke:#181818;stroke-width:1.0;\"/><ellipse cx=\"111.4823\" cy=\"236.3184\" fill=\"#181818\" rx=\"2\" ry=\"2\" style=\"stroke:#181818;stroke-width:1.0;\"/></a></g><!--MD5=[1fc04a95fd77ad5ce46c1a3027516051]\n",
       "reverse link E9 to E11--><g id=\"link_E9_E11\"><a href=\"psysml:8187499b-9a51-4939-bbf5-c8a0ee670e5b\" target=\"_top\" title=\"psysml:8187499b-9a51-4939-bbf5-c8a0ee670e5b\" xlink:actuate=\"onRequest\" xlink:href=\"psysml:8187499b-9a51-4939-bbf5-c8a0ee670e5b\" xlink:show=\"new\" xlink:title=\"psysml:8187499b-9a51-4939-bbf5-c8a0ee670e5b\" xlink:type=\"simple\"><path d=\"M116.39,101.83 C121.86,117.66 128.14,135.82 132.99,149.83 \" fill=\"none\" id=\"E9-backto-E11\" style=\"stroke:#181818;stroke-width:1.0;\"/><polygon fill=\"none\" points=\"112.03,89.22,110.2077,96.1971,115.9472,100.5627,117.7695,93.5856,112.03,89.22\" style=\"stroke:#181818;stroke-width:1.0;\"/></a></g><!--MD5=[0517f1ce58c4d5483948f93845c45e26]\n",
       "link E11 to E3--><g id=\"link_E11_E3\"><a href=\"psysml:ca7307c2-0235-4c1e-8766-bbb66b330e4f\" target=\"_top\" title=\"psysml:ca7307c2-0235-4c1e-8766-bbb66b330e4f\" xlink:actuate=\"onRequest\" xlink:href=\"psysml:ca7307c2-0235-4c1e-8766-bbb66b330e4f\" xlink:show=\"new\" xlink:title=\"psysml:ca7307c2-0235-4c1e-8766-bbb66b330e4f\" xlink:type=\"simple\"><path d=\"M141,198.22 C141,210 141,224.69 141,238.48 \" fill=\"none\" id=\"E11-to-E3\" style=\"stroke:#181818;stroke-width:1.0;\"/><polygon fill=\"#FFFFFF\" points=\"141,258.83,134,239.83,148,239.83,141,258.83\" style=\"stroke:#181818;stroke-width:1.0;\"/><ellipse cx=\"136\" cy=\"234.13\" fill=\"#181818\" rx=\"2\" ry=\"2\" style=\"stroke:#181818;stroke-width:1.0;\"/><ellipse cx=\"146\" cy=\"234.13\" fill=\"#181818\" rx=\"2\" ry=\"2\" style=\"stroke:#181818;stroke-width:1.0;\"/></a></g><!--MD5=[dd4a773e813091cad2f38e5ccc559635]\n",
       "@startuml\r\n",
       "skin sysmlc\r\n",
       "skinparam wrapWidth 300\r\n",
       "hide circle\r\n",
       "\r\n",
       "package \"ItemTest\" as E1  [[psysml:cd87d2b7-4fa1-4c1b-a4f6-af691b0dec58 ]]  {\r\n",
       "comp usage \"f: A  \" as E2  <<(T,blue) item>> [[psysml:a6e7d788-746b-466d-b844-23a78300b1ae ]] {\r\n",
       "}\r\n",
       "comp def \"A\" as E3  <<(T,blue) item  def>> [[psysml:7645df02-ea24-41fb-927b-82e0988a44f2 ]] {\r\n",
       "}\r\n",
       "comp usage \"b: B  \" as E4  <<(T,blue) item>> [[psysml:426ed2e2-6591-4c8f-a505-52d546190911 ]] {\r\n",
       "}\r\n",
       "comp usage \"c: C  \" as E5  <<(T,blue) part>> [[psysml:331ec08e-03d4-4ef2-9768-da2cb6dfa326 ]] {\r\n",
       "}\r\n",
       "comp def \"<i>B</i>\" as E6  <<(T,blue) item  def>> [[psysml:1c5a109b-6d3b-4425-b763-85184515822e ]] {\r\n",
       "}\r\n",
       "comp usage \"<i>a</i>: A  \" as E7  <<(T,blue) part>> [[psysml:3d3f18ff-1114-439a-91a9-78796a10458c ]] {\r\n",
       "}\r\n",
       "comp def \"C\" as E8  <<(T,blue) part  def>> [[psysml:1568c6af-b382-4c7f-b02a-0d87dd86c0f5 ]] {\r\n",
       "}\r\n",
       "comp def \"P\" as E9  <<(T,blue) port  def>> [[psysml:7b3481ba-f47b-4c12-87df-4d6f620e6d00 ]] {\r\n",
       "}\r\n",
       "comp usage \"a1: A  \" as E10  <<(T,blue) item>> [[psysml:116f794f-fd18-4d42-8d94-9abf783d43f0 ]] {\r\n",
       "}\r\n",
       "comp usage \"a2: A  \" as E11  <<(T,blue) item>> [[psysml:16572df6-eec3-489a-80d1-3b65de425cbd ]] {\r\n",
       "}\r\n",
       "}\r\n",
       "E2 - -:|> E3 [[psysml:70c9c3cf-ded5-4fad-940c-650d810049d2 ]] \r\n",
       "E3 *- - E4 [[psysml:1e28e0ed-b5c0-4fac-98b2-855fbe266c1f ]] \r\n",
       "E3 o- - E5 [[psysml:b5974af5-b28c-458b-89e4-95d46de68236 ]] \r\n",
       "E4 - -:|> E6 [[psysml:83940360-bfcd-4ab6-95b9-9006ad1a30a4 ]] \r\n",
       "E6 *- - E7 [[psysml:c7c30ff0-7abe-445a-9147-4c620b104f3e ]] \r\n",
       "E7 - -:|> E3 [[psysml:4a79bdb3-77e8-4e9c-befa-ce9a0c7716db ]] \r\n",
       "E5 - -:|> E8 [[psysml:d776694e-c79b-404c-b561-ae1c1a2e3f3d ]] \r\n",
       "E8 o- - E3 [[psysml:c4551329-8b56-4fd0-9fbf-f2d280f6b39b ]] : y\r\n",
       "E8 o- - E6 [[psysml:c4551329-8b56-4fd0-9fbf-f2d280f6b39b ]] : y\r\n",
       "E9 o- - E10 [[psysml:5a5abb4f-4a57-47f4-8d13-1f5dca85ed3b ]] \r\n",
       "E10 - -:|> E3 [[psysml:d7f66802-941a-4496-884a-36d82493c03e ]] \r\n",
       "E9 o- - E11 [[psysml:8187499b-9a51-4939-bbf5-c8a0ee670e5b ]] \r\n",
       "E11 - -:|> E3 [[psysml:ca7307c2-0235-4c1e-8766-bbb66b330e4f ]] \r\n",
       "@enduml\r\n",
       "\n",
       "PlantUML version 1.2022.7(Mon Aug 22 17:01:30 UTC 2022)\n",
       "(EPL source distribution)\n",
       "Java Runtime: OpenJDK Runtime Environment\n",
       "JVM: OpenJDK 64-Bit Server VM\n",
       "Default Encoding: UTF-8\n",
       "Language: en\n",
       "Country: null\n",
       "--></g></svg>"
      ]
     },
     "execution_count": 23,
     "metadata": {},
     "output_type": "execute_result"
    }
   ],
   "source": [
    "%viz --style=\"STDCOLOR\" --view=\"Default\" \"ItemTest\""
   ]
  },
  {
   "cell_type": "code",
   "execution_count": 24,
   "id": "0a3145d6",
   "metadata": {
    "execution": {
     "iopub.execute_input": "2024-12-16T14:15:17.080318Z",
     "iopub.status.busy": "2024-12-16T14:15:17.080055Z",
     "iopub.status.idle": "2024-12-16T14:15:17.107958Z",
     "shell.execute_reply": "2024-12-16T14:15:17.106742Z"
    }
   },
   "outputs": [
    {
     "data": {
      "image/svg+xml": [
       "<?xml version=\"1.0\" encoding=\"UTF-8\" standalone=\"no\"?><svg xmlns=\"http://www.w3.org/2000/svg\" xmlns:xlink=\"http://www.w3.org/1999/xlink\" contentStyleType=\"text/css\" height=\"829px\" preserveAspectRatio=\"none\" style=\"width:277px;height:829px;background:#FFFFFF;\" version=\"1.1\" viewBox=\"0 0 277 829\" width=\"277px\" zoomAndPan=\"magnify\"><defs><filter height=\"300%\" id=\"f1av7v4z99q1gd\" width=\"300%\" x=\"-1\" y=\"-1\"><feGaussianBlur result=\"blurOut\" stdDeviation=\"2.0\"/><feColorMatrix in=\"blurOut\" result=\"blurOut2\" type=\"matrix\" values=\"0 0 0 0 0 0 0 0 0 0 0 0 0 0 0 0 0 0 .4 0\"/><feOffset dx=\"4.0\" dy=\"4.0\" in=\"blurOut2\" result=\"blurOut3\"/><feBlend in=\"SourceGraphic\" in2=\"blurOut3\" mode=\"normal\"/></filter></defs><g><!--MD5=[fbc87193dbaf4d95561dea2c320d4a47]\n",
       "cluster E1--><g id=\"cluster_E1\"><a href=\"psysml:cd87d2b7-4fa1-4c1b-a4f6-af691b0dec58\" target=\"_top\" title=\"psysml:cd87d2b7-4fa1-4c1b-a4f6-af691b0dec58\" xlink:actuate=\"onRequest\" xlink:href=\"psysml:cd87d2b7-4fa1-4c1b-a4f6-af691b0dec58\" xlink:show=\"new\" xlink:title=\"psysml:cd87d2b7-4fa1-4c1b-a4f6-af691b0dec58\" xlink:type=\"simple\"><polygon fill=\"none\" filter=\"url(#f1av7v4z99q1gd)\" points=\"16,6,86.5,6,93.5,28.2969,260,28.2969,260,822,16,822,16,6\" style=\"stroke:#000000;stroke-width:1.5;\"/><line style=\"stroke:#000000;stroke-width:1.5;\" x1=\"16\" x2=\"93.5\" y1=\"28.2969\" y2=\"28.2969\"/><text fill=\"#000000\" font-family=\"sans-serif\" font-size=\"14\" font-weight=\"bold\" lengthAdjust=\"spacing\" textLength=\"64.5\" x=\"20\" y=\"20.9951\">ItemTest</text></a></g><!--MD5=[b4997ac47864f28c2f74865a473b2911]\n",
       "class E2--><a href=\"psysml:a6e7d788-746b-466d-b844-23a78300b1ae\" target=\"_top\" title=\"psysml:a6e7d788-746b-466d-b844-23a78300b1ae\" xlink:actuate=\"onRequest\" xlink:href=\"psysml:a6e7d788-746b-466d-b844-23a78300b1ae\" xlink:show=\"new\" xlink:title=\"psysml:a6e7d788-746b-466d-b844-23a78300b1ae\" xlink:type=\"simple\"><g id=\"elem_E2\"><rect fill=\"#FFFACD\" filter=\"url(#f1av7v4z99q1gd)\" height=\"48.2656\" id=\"E2\" rx=\"10\" ry=\"10\" style=\"stroke:#181818;stroke-width:0.5;\" width=\"43\" x=\"200.5\" y=\"150\"/><text fill=\"#000000\" font-family=\"sans-serif\" font-size=\"12\" font-style=\"italic\" lengthAdjust=\"spacing\" textLength=\"41\" x=\"201.5\" y=\"166.1387\">«item»</text><text fill=\"#000000\" font-family=\"sans-serif\" font-size=\"14\" lengthAdjust=\"spacing\" textLength=\"22\" x=\"207\" y=\"181.9639\">f: A</text><line style=\"stroke:#181818;stroke-width:0.5;\" x1=\"201.5\" x2=\"242.5\" y1=\"190.2656\" y2=\"190.2656\"/></g></a><!--MD5=[09b614a08d8cba4a07c9adeb5e0fee81]\n",
       "class E3--><a href=\"psysml:7645df02-ea24-41fb-927b-82e0988a44f2\" target=\"_top\" title=\"psysml:7645df02-ea24-41fb-927b-82e0988a44f2\" xlink:actuate=\"onRequest\" xlink:href=\"psysml:7645df02-ea24-41fb-927b-82e0988a44f2\" xlink:show=\"new\" xlink:title=\"psysml:7645df02-ea24-41fb-927b-82e0988a44f2\" xlink:type=\"simple\"><g id=\"elem_E3\"><rect fill=\"#FFFACD\" filter=\"url(#f1av7v4z99q1gd)\" height=\"48.2656\" id=\"E3\" style=\"stroke:#181818;stroke-width:0.5;\" width=\"71\" x=\"105.5\" y=\"259\"/><text fill=\"#000000\" font-family=\"sans-serif\" font-size=\"12\" font-style=\"italic\" lengthAdjust=\"spacing\" textLength=\"69\" x=\"106.5\" y=\"275.1387\">«item  def»</text><text fill=\"#000000\" font-family=\"sans-serif\" font-size=\"14\" lengthAdjust=\"spacing\" textLength=\"9\" x=\"136.5\" y=\"290.9639\">A</text><line style=\"stroke:#181818;stroke-width:0.5;\" x1=\"106.5\" x2=\"175.5\" y1=\"299.2656\" y2=\"299.2656\"/></g></a><!--MD5=[ebbe1d658d1005bcc118a6aa81145e00]\n",
       "class E4--><a href=\"psysml:426ed2e2-6591-4c8f-a505-52d546190911\" target=\"_top\" title=\"psysml:426ed2e2-6591-4c8f-a505-52d546190911\" xlink:actuate=\"onRequest\" xlink:href=\"psysml:426ed2e2-6591-4c8f-a505-52d546190911\" xlink:show=\"new\" xlink:title=\"psysml:426ed2e2-6591-4c8f-a505-52d546190911\" xlink:type=\"simple\"><g id=\"elem_E4\"><rect fill=\"#FFFACD\" filter=\"url(#f1av7v4z99q1gd)\" height=\"48.2656\" id=\"E4\" rx=\"10\" ry=\"10\" style=\"stroke:#181818;stroke-width:0.5;\" width=\"43\" x=\"48.5\" y=\"446\"/><text fill=\"#000000\" font-family=\"sans-serif\" font-size=\"12\" font-style=\"italic\" lengthAdjust=\"spacing\" textLength=\"41\" x=\"49.5\" y=\"462.1387\">«item»</text><text fill=\"#000000\" font-family=\"sans-serif\" font-size=\"14\" lengthAdjust=\"spacing\" textLength=\"28\" x=\"52\" y=\"477.9639\">b: B</text><line style=\"stroke:#181818;stroke-width:0.5;\" x1=\"49.5\" x2=\"90.5\" y1=\"486.2656\" y2=\"486.2656\"/></g></a><!--MD5=[270fce915f116d4de14055a7c1d9a0f3]\n",
       "class E5--><a href=\"psysml:331ec08e-03d4-4ef2-9768-da2cb6dfa326\" target=\"_top\" title=\"psysml:331ec08e-03d4-4ef2-9768-da2cb6dfa326\" xlink:actuate=\"onRequest\" xlink:href=\"psysml:331ec08e-03d4-4ef2-9768-da2cb6dfa326\" xlink:show=\"new\" xlink:title=\"psysml:331ec08e-03d4-4ef2-9768-da2cb6dfa326\" xlink:type=\"simple\"><g id=\"elem_E5\"><rect fill=\"#FFFACD\" filter=\"url(#f1av7v4z99q1gd)\" height=\"48.2656\" id=\"E5\" rx=\"10\" ry=\"10\" style=\"stroke:#181818;stroke-width:0.5;\" width=\"42\" x=\"157\" y=\"368\"/><text fill=\"#000000\" font-family=\"sans-serif\" font-size=\"12\" font-style=\"italic\" lengthAdjust=\"spacing\" textLength=\"40\" x=\"158\" y=\"384.1387\">«part»</text><text fill=\"#000000\" font-family=\"sans-serif\" font-size=\"14\" lengthAdjust=\"spacing\" textLength=\"27\" x=\"160.5\" y=\"399.9639\">c: C</text><line style=\"stroke:#181818;stroke-width:0.5;\" x1=\"158\" x2=\"198\" y1=\"408.2656\" y2=\"408.2656\"/></g></a><!--MD5=[60a26617385b1d2d0262a64233df1f8d]\n",
       "class E6--><a href=\"psysml:1c5a109b-6d3b-4425-b763-85184515822e\" target=\"_top\" title=\"psysml:1c5a109b-6d3b-4425-b763-85184515822e\" xlink:actuate=\"onRequest\" xlink:href=\"psysml:1c5a109b-6d3b-4425-b763-85184515822e\" xlink:show=\"new\" xlink:title=\"psysml:1c5a109b-6d3b-4425-b763-85184515822e\" xlink:type=\"simple\"><g id=\"elem_E6\"><rect fill=\"#FFFACD\" filter=\"url(#f1av7v4z99q1gd)\" height=\"48.2656\" id=\"E6\" style=\"stroke:#181818;stroke-width:0.5;\" width=\"71\" x=\"116.5\" y=\"649\"/><text fill=\"#000000\" font-family=\"sans-serif\" font-size=\"12\" font-style=\"italic\" lengthAdjust=\"spacing\" textLength=\"69\" x=\"117.5\" y=\"665.1387\">«item  def»</text><text fill=\"#000000\" font-family=\"sans-serif\" font-size=\"14\" font-style=\"italic\" lengthAdjust=\"spacing\" textLength=\"10\" x=\"147\" y=\"680.9639\">B</text><line style=\"stroke:#181818;stroke-width:0.5;\" x1=\"117.5\" x2=\"186.5\" y1=\"689.2656\" y2=\"689.2656\"/></g></a><!--MD5=[2156ba9850f5573cc1fc38a6a4b2f02b]\n",
       "class E7--><a href=\"psysml:3d3f18ff-1114-439a-91a9-78796a10458c\" target=\"_top\" title=\"psysml:3d3f18ff-1114-439a-91a9-78796a10458c\" xlink:actuate=\"onRequest\" xlink:href=\"psysml:3d3f18ff-1114-439a-91a9-78796a10458c\" xlink:show=\"new\" xlink:title=\"psysml:3d3f18ff-1114-439a-91a9-78796a10458c\" xlink:type=\"simple\"><g id=\"elem_E7\"><rect fill=\"#FFFACD\" filter=\"url(#f1av7v4z99q1gd)\" height=\"48.2656\" id=\"E7\" rx=\"10\" ry=\"10\" style=\"stroke:#181818;stroke-width:0.5;\" width=\"42\" x=\"167\" y=\"758\"/><text fill=\"#000000\" font-family=\"sans-serif\" font-size=\"12\" font-style=\"italic\" lengthAdjust=\"spacing\" textLength=\"40\" x=\"168\" y=\"774.1387\">«part»</text><text fill=\"#000000\" font-family=\"sans-serif\" font-size=\"14\" font-style=\"italic\" lengthAdjust=\"spacing\" textLength=\"8\" x=\"171\" y=\"789.9639\">a</text><text fill=\"#000000\" font-family=\"sans-serif\" font-size=\"14\" lengthAdjust=\"spacing\" textLength=\"18\" x=\"179\" y=\"789.9639\">: A</text><line style=\"stroke:#181818;stroke-width:0.5;\" x1=\"168\" x2=\"208\" y1=\"798.2656\" y2=\"798.2656\"/></g></a><!--MD5=[b9389687b975829384b498ac4b7476b2]\n",
       "class E8--><a href=\"psysml:1568c6af-b382-4c7f-b02a-0d87dd86c0f5\" target=\"_top\" title=\"psysml:1568c6af-b382-4c7f-b02a-0d87dd86c0f5\" xlink:actuate=\"onRequest\" xlink:href=\"psysml:1568c6af-b382-4c7f-b02a-0d87dd86c0f5\" xlink:show=\"new\" xlink:title=\"psysml:1568c6af-b382-4c7f-b02a-0d87dd86c0f5\" xlink:type=\"simple\"><g id=\"elem_E8\"><rect fill=\"#FFFACD\" filter=\"url(#f1av7v4z99q1gd)\" height=\"48.2656\" id=\"E8\" style=\"stroke:#181818;stroke-width:0.5;\" width=\"70\" x=\"117\" y=\"524\"/><text fill=\"#000000\" font-family=\"sans-serif\" font-size=\"12\" font-style=\"italic\" lengthAdjust=\"spacing\" textLength=\"68\" x=\"118\" y=\"540.1387\">«part  def»</text><text fill=\"#000000\" font-family=\"sans-serif\" font-size=\"14\" lengthAdjust=\"spacing\" textLength=\"10\" x=\"147\" y=\"555.9639\">C</text><line style=\"stroke:#181818;stroke-width:0.5;\" x1=\"118\" x2=\"186\" y1=\"564.2656\" y2=\"564.2656\"/></g></a><!--MD5=[fd4143e9d270a159db93a4ea2a975926]\n",
       "class E9--><a href=\"psysml:7b3481ba-f47b-4c12-87df-4d6f620e6d00\" target=\"_top\" title=\"psysml:7b3481ba-f47b-4c12-87df-4d6f620e6d00\" xlink:actuate=\"onRequest\" xlink:href=\"psysml:7b3481ba-f47b-4c12-87df-4d6f620e6d00\" xlink:show=\"new\" xlink:title=\"psysml:7b3481ba-f47b-4c12-87df-4d6f620e6d00\" xlink:type=\"simple\"><g id=\"elem_E9\"><rect fill=\"#FFFACD\" filter=\"url(#f1av7v4z99q1gd)\" height=\"48.2656\" id=\"E9\" style=\"stroke:#181818;stroke-width:0.5;\" width=\"70\" x=\"69\" y=\"41\"/><text fill=\"#000000\" font-family=\"sans-serif\" font-size=\"12\" font-style=\"italic\" lengthAdjust=\"spacing\" textLength=\"68\" x=\"70\" y=\"57.1387\">«port  def»</text><text fill=\"#000000\" font-family=\"sans-serif\" font-size=\"14\" lengthAdjust=\"spacing\" textLength=\"9\" x=\"99.5\" y=\"72.9639\">P</text><line style=\"stroke:#181818;stroke-width:0.5;\" x1=\"70\" x2=\"138\" y1=\"81.2656\" y2=\"81.2656\"/></g></a><!--MD5=[96f4274e9e20536e775497830990834d]\n",
       "class E10--><a href=\"psysml:116f794f-fd18-4d42-8d94-9abf783d43f0\" target=\"_top\" title=\"psysml:116f794f-fd18-4d42-8d94-9abf783d43f0\" xlink:actuate=\"onRequest\" xlink:href=\"psysml:116f794f-fd18-4d42-8d94-9abf783d43f0\" xlink:show=\"new\" xlink:title=\"psysml:116f794f-fd18-4d42-8d94-9abf783d43f0\" xlink:type=\"simple\"><g id=\"elem_E10\"><rect fill=\"#FFFACD\" filter=\"url(#f1av7v4z99q1gd)\" height=\"48.2656\" id=\"E10\" rx=\"10\" ry=\"10\" style=\"stroke:#181818;stroke-width:0.5;\" width=\"49\" x=\"32.5\" y=\"150\"/><text fill=\"#000000\" font-family=\"sans-serif\" font-size=\"12\" font-style=\"italic\" lengthAdjust=\"spacing\" textLength=\"41\" x=\"36.5\" y=\"166.1387\">«item»</text><text fill=\"#000000\" font-family=\"sans-serif\" font-size=\"14\" lengthAdjust=\"spacing\" textLength=\"35\" x=\"35.5\" y=\"181.9639\">a1: A</text><line style=\"stroke:#181818;stroke-width:0.5;\" x1=\"33.5\" x2=\"80.5\" y1=\"190.2656\" y2=\"190.2656\"/></g></a><!--MD5=[1dd1bfd58a279cf63c5f349dbc8fc6a1]\n",
       "class E11--><a href=\"psysml:16572df6-eec3-489a-80d1-3b65de425cbd\" target=\"_top\" title=\"psysml:16572df6-eec3-489a-80d1-3b65de425cbd\" xlink:actuate=\"onRequest\" xlink:href=\"psysml:16572df6-eec3-489a-80d1-3b65de425cbd\" xlink:show=\"new\" xlink:title=\"psysml:16572df6-eec3-489a-80d1-3b65de425cbd\" xlink:type=\"simple\"><g id=\"elem_E11\"><rect fill=\"#FFFACD\" filter=\"url(#f1av7v4z99q1gd)\" height=\"48.2656\" id=\"E11\" rx=\"10\" ry=\"10\" style=\"stroke:#181818;stroke-width:0.5;\" width=\"49\" x=\"116.5\" y=\"150\"/><text fill=\"#000000\" font-family=\"sans-serif\" font-size=\"12\" font-style=\"italic\" lengthAdjust=\"spacing\" textLength=\"41\" x=\"120.5\" y=\"166.1387\">«item»</text><text fill=\"#000000\" font-family=\"sans-serif\" font-size=\"14\" lengthAdjust=\"spacing\" textLength=\"35\" x=\"119.5\" y=\"181.9639\">a2: A</text><line style=\"stroke:#181818;stroke-width:0.5;\" x1=\"117.5\" x2=\"164.5\" y1=\"190.2656\" y2=\"190.2656\"/></g></a><!--MD5=[2720a5a1f2c3fca2055b230370638851]\n",
       "link E2 to E3--><g id=\"link_E2_E3\"><a href=\"psysml:70c9c3cf-ded5-4fad-940c-650d810049d2\" target=\"_top\" title=\"psysml:70c9c3cf-ded5-4fad-940c-650d810049d2\" xlink:actuate=\"onRequest\" xlink:href=\"psysml:70c9c3cf-ded5-4fad-940c-650d810049d2\" xlink:show=\"new\" xlink:title=\"psysml:70c9c3cf-ded5-4fad-940c-650d810049d2\" xlink:type=\"simple\"><path d=\"M204.42,198.22 C194.55,211.26 181.97,227.88 170.62,242.87 \" fill=\"none\" id=\"E2-to-E3\" style=\"stroke:#181818;stroke-width:1.0;\"/><polygon fill=\"#FFFFFF\" points=\"158.54,258.83,164.4286,239.4567,175.5901,247.9078,158.54,258.83\" style=\"stroke:#181818;stroke-width:1.0;\"/><ellipse cx=\"169.4639\" cy=\"236.1197\" fill=\"#181818\" rx=\"2\" ry=\"2\" style=\"stroke:#181818;stroke-width:1.0;\"/><ellipse cx=\"177.4364\" cy=\"242.1562\" fill=\"#181818\" rx=\"2\" ry=\"2\" style=\"stroke:#181818;stroke-width:1.0;\"/></a></g><!--MD5=[4672eba38e49728da53d11aeb285b987]\n",
       "reverse link E3 to E4--><g id=\"link_E3_E4\"><a href=\"psysml:1e28e0ed-b5c0-4fac-98b2-855fbe266c1f\" target=\"_top\" title=\"psysml:1e28e0ed-b5c0-4fac-98b2-855fbe266c1f\" xlink:actuate=\"onRequest\" xlink:href=\"psysml:1e28e0ed-b5c0-4fac-98b2-855fbe266c1f\" xlink:show=\"new\" xlink:title=\"psysml:1e28e0ed-b5c0-4fac-98b2-855fbe266c1f\" xlink:type=\"simple\"><path d=\"M104.38,316.32 C90.85,330.64 77.09,348.62 70,368 C60.72,393.36 62.6,424.76 65.58,445.75 \" fill=\"none\" id=\"E3-backto-E4\" style=\"stroke:#181818;stroke-width:1.0;\"/><polygon fill=\"#181818\" points=\"113.62,307.02,106.5522,308.4507,105.1545,315.525,112.2223,314.0943,113.62,307.02\" style=\"stroke:#181818;stroke-width:1.0;\"/></a></g><!--MD5=[191cde3d490a3f6d7bb551fe3ddca469]\n",
       "reverse link E3 to E5--><g id=\"link_E3_E5\"><a href=\"psysml:b5974af5-b28c-458b-89e4-95d46de68236\" target=\"_top\" title=\"psysml:b5974af5-b28c-458b-89e4-95d46de68236\" xlink:actuate=\"onRequest\" xlink:href=\"psysml:b5974af5-b28c-458b-89e4-95d46de68236\" xlink:show=\"new\" xlink:title=\"psysml:b5974af5-b28c-458b-89e4-95d46de68236\" xlink:type=\"simple\"><path d=\"M153.39,319.83 C158.86,335.66 165.14,353.82 169.99,367.83 \" fill=\"none\" id=\"E3-backto-E5\" style=\"stroke:#181818;stroke-width:1.0;\"/><polygon fill=\"none\" points=\"149.03,307.22,147.2077,314.1971,152.9472,318.5627,154.7695,311.5856,149.03,307.22\" style=\"stroke:#181818;stroke-width:1.0;\"/></a></g><!--MD5=[79568f1e445c3877b6a54524624ccc7d]\n",
       "link E4 to E6--><g id=\"link_E4_E6\"><a href=\"psysml:83940360-bfcd-4ab6-95b9-9006ad1a30a4\" target=\"_top\" title=\"psysml:83940360-bfcd-4ab6-95b9-9006ad1a30a4\" xlink:actuate=\"onRequest\" xlink:href=\"psysml:83940360-bfcd-4ab6-95b9-9006ad1a30a4\" xlink:show=\"new\" xlink:title=\"psysml:83940360-bfcd-4ab6-95b9-9006ad1a30a4\" xlink:type=\"simple\"><path d=\"M75.57,494.29 C80.84,515.04 89.51,546.05 100,572 C108.08,591.98 118.83,613.29 128.46,631.07 \" fill=\"none\" id=\"E4-to-E6\" style=\"stroke:#181818;stroke-width:1.0;\"/><polygon fill=\"#FFFFFF\" points=\"138.29,648.76,122.9437,635.5505,135.1819,628.7515,138.29,648.76\" style=\"stroke:#181818;stroke-width:1.0;\"/><ellipse cx=\"121.9238\" cy=\"629.5965\" fill=\"#181818\" rx=\"2\" ry=\"2\" style=\"stroke:#181818;stroke-width:1.0;\"/><ellipse cx=\"130.6654\" cy=\"624.7401\" fill=\"#181818\" rx=\"2\" ry=\"2\" style=\"stroke:#181818;stroke-width:1.0;\"/></a></g><!--MD5=[3f50a3473f1dfb74d3f76443e03635af]\n",
       "reverse link E6 to E7--><g id=\"link_E6_E7\"><a href=\"psysml:c7c30ff0-7abe-445a-9147-4c620b104f3e\" target=\"_top\" title=\"psysml:c7c30ff0-7abe-445a-9147-4c620b104f3e\" xlink:actuate=\"onRequest\" xlink:href=\"psysml:c7c30ff0-7abe-445a-9147-4c620b104f3e\" xlink:show=\"new\" xlink:title=\"psysml:c7c30ff0-7abe-445a-9147-4c620b104f3e\" xlink:type=\"simple\"><path d=\"M164.05,709.83 C169.38,725.66 175.49,743.82 180.2,757.83 \" fill=\"none\" id=\"E6-backto-E7\" style=\"stroke:#181818;stroke-width:1.0;\"/><polygon fill=\"#181818\" points=\"159.81,697.22,157.9296,704.1816,163.6324,708.5949,165.5128,701.6333,159.81,697.22\" style=\"stroke:#181818;stroke-width:1.0;\"/></a></g><!--MD5=[14ccda38c055a5c0da953d572bc50960]\n",
       "link E7 to E3--><g id=\"link_E7_E3\"><a href=\"psysml:4a79bdb3-77e8-4e9c-befa-ce9a0c7716db\" target=\"_top\" title=\"psysml:4a79bdb3-77e8-4e9c-befa-ce9a0c7716db\" xlink:actuate=\"onRequest\" xlink:href=\"psysml:4a79bdb3-77e8-4e9c-befa-ce9a0c7716db\" xlink:show=\"new\" xlink:title=\"psysml:4a79bdb3-77e8-4e9c-befa-ce9a0c7716db\" xlink:type=\"simple\"><path d=\"M204.97,757.64 C218.43,736.78 235,704.84 235,674 C235,391 235,391 235,391 C235,361.35 214.38,336.01 192.46,317.43 \" fill=\"none\" id=\"E7-to-E3\" style=\"stroke:#181818;stroke-width:1.0;\"/><polygon fill=\"#FFFFFF\" points=\"176.54,305.14,195.8578,311.2081,187.3035,322.2907,176.54,305.14\" style=\"stroke:#181818;stroke-width:1.0;\"/><ellipse cx=\"199.148\" cy=\"316.2741\" fill=\"#181818\" rx=\"2\" ry=\"2\" style=\"stroke:#181818;stroke-width:1.0;\"/><ellipse cx=\"193.0378\" cy=\"324.1903\" fill=\"#181818\" rx=\"2\" ry=\"2\" style=\"stroke:#181818;stroke-width:1.0;\"/></a></g><!--MD5=[dfaffb906826c3e5aca635516100ff21]\n",
       "link E5 to E8--><g id=\"link_E5_E8\"><a href=\"psysml:d776694e-c79b-404c-b561-ae1c1a2e3f3d\" target=\"_top\" title=\"psysml:d776694e-c79b-404c-b561-ae1c1a2e3f3d\" xlink:actuate=\"onRequest\" xlink:href=\"psysml:d776694e-c79b-404c-b561-ae1c1a2e3f3d\" xlink:show=\"new\" xlink:title=\"psysml:d776694e-c79b-404c-b561-ae1c1a2e3f3d\" xlink:type=\"simple\"><path d=\"M174.11,416.06 C170.2,439.19 164.09,475.38 159.28,503.86 \" fill=\"none\" id=\"E5-to-E8\" style=\"stroke:#181818;stroke-width:1.0;\"/><polygon fill=\"#FFFFFF\" points=\"155.92,523.79,152.1809,503.8898,165.9855,506.2206,155.92,523.79\" style=\"stroke:#181818;stroke-width:1.0;\"/><ellipse cx=\"155.1019\" cy=\"498.6023\" fill=\"#181818\" rx=\"2\" ry=\"2\" style=\"stroke:#181818;stroke-width:1.0;\"/><ellipse cx=\"164.9624\" cy=\"500.2671\" fill=\"#181818\" rx=\"2\" ry=\"2\" style=\"stroke:#181818;stroke-width:1.0;\"/></a></g><!--MD5=[03c8294790d3c57651a1993cecff665f]\n",
       "reverse link E8 to E3--><g id=\"link_E8_E3\"><a href=\"psysml:c4551329-8b56-4fd0-9fbf-f2d280f6b39b\" target=\"_top\" title=\"psysml:c4551329-8b56-4fd0-9fbf-f2d280f6b39b\" xlink:actuate=\"onRequest\" xlink:href=\"psysml:c4551329-8b56-4fd0-9fbf-f2d280f6b39b\" xlink:show=\"new\" xlink:title=\"psysml:c4551329-8b56-4fd0-9fbf-f2d280f6b39b\" xlink:type=\"simple\"><path d=\"M144.62,510.88 C139.66,484.68 133.57,448.31 131,416 C129.31,394.73 129.74,389.3 131,368 C132.23,347.33 135.14,323.95 137.5,307.11 \" fill=\"none\" id=\"E8-backto-E3\" style=\"stroke:#181818;stroke-width:1.0;\"/><polygon fill=\"none\" points=\"147.16,523.94,149.9387,517.2857,144.865,512.1615,142.0863,518.8158,147.16,523.94\" style=\"stroke:#181818;stroke-width:1.0;\"/><text fill=\"#000000\" font-family=\"sans-serif\" font-size=\"13\" lengthAdjust=\"spacing\" textLength=\"7\" x=\"132\" y=\"396.5669\">y</text></a></g><!--MD5=[0d75d2178373a6a4568e5dc728f58aef]\n",
       "reverse link E8 to E6--><g id=\"link_E8_E6\"><a href=\"psysml:c4551329-8b56-4fd0-9fbf-f2d280f6b39b\" target=\"_top\" title=\"psysml:c4551329-8b56-4fd0-9fbf-f2d280f6b39b\" xlink:actuate=\"onRequest\" xlink:href=\"psysml:c4551329-8b56-4fd0-9fbf-f2d280f6b39b\" xlink:show=\"new\" xlink:title=\"psysml:c4551329-8b56-4fd0-9fbf-f2d280f6b39b\" xlink:type=\"simple\"><path d=\"M152,585.21 C152,605.83 152,631.04 152,648.97 \" fill=\"none\" id=\"E8-backto-E6\" style=\"stroke:#181818;stroke-width:1.0;\"/><polygon fill=\"none\" points=\"152,572.14,148,578.14,152,584.14,156,578.14,152,572.14\" style=\"stroke:#181818;stroke-width:1.0;\"/><text fill=\"#000000\" font-family=\"sans-serif\" font-size=\"13\" lengthAdjust=\"spacing\" textLength=\"7\" x=\"153\" y=\"615.0669\">y</text></a></g><!--MD5=[23ac544a70576c3e717098101004234c]\n",
       "reverse link E9 to E10--><g id=\"link_E9_E10\"><a href=\"psysml:5a5abb4f-4a57-47f4-8d13-1f5dca85ed3b\" target=\"_top\" title=\"psysml:5a5abb4f-4a57-47f4-8d13-1f5dca85ed3b\" xlink:actuate=\"onRequest\" xlink:href=\"psysml:5a5abb4f-4a57-47f4-8d13-1f5dca85ed3b\" xlink:show=\"new\" xlink:title=\"psysml:5a5abb4f-4a57-47f4-8d13-1f5dca85ed3b\" xlink:type=\"simple\"><path d=\"M88.47,101.35 C81.47,117.29 73.39,135.68 67.18,149.83 \" fill=\"none\" id=\"E9-backto-E10\" style=\"stroke:#181818;stroke-width:1.0;\"/><polygon fill=\"none\" points=\"93.8,89.22,87.7243,93.1041,88.9729,100.2063,95.0485,96.3222,93.8,89.22\" style=\"stroke:#181818;stroke-width:1.0;\"/></a></g><!--MD5=[feeac5eb423634930294aa81f2d25a4c]\n",
       "link E10 to E3--><g id=\"link_E10_E3\"><a href=\"psysml:d7f66802-941a-4496-884a-36d82493c03e\" target=\"_top\" title=\"psysml:d7f66802-941a-4496-884a-36d82493c03e\" xlink:actuate=\"onRequest\" xlink:href=\"psysml:d7f66802-941a-4496-884a-36d82493c03e\" xlink:show=\"new\" xlink:title=\"psysml:d7f66802-941a-4496-884a-36d82493c03e\" xlink:type=\"simple\"><path d=\"M75.23,198.22 C85.46,211.26 98.51,227.88 110.28,242.87 \" fill=\"none\" id=\"E10-to-E3\" style=\"stroke:#181818;stroke-width:1.0;\"/><polygon fill=\"#FFFFFF\" points=\"122.81,258.83,105.5676,248.214,116.5764,239.565,122.81,258.83\" style=\"stroke:#181818;stroke-width:1.0;\"/><ellipse cx=\"103.6189\" cy=\"242.4963\" fill=\"#181818\" rx=\"2\" ry=\"2\" style=\"stroke:#181818;stroke-width:1.0;\"/><ellipse cx=\"111.4823\" cy=\"236.3184\" fill=\"#181818\" rx=\"2\" ry=\"2\" style=\"stroke:#181818;stroke-width:1.0;\"/></a></g><!--MD5=[1fc04a95fd77ad5ce46c1a3027516051]\n",
       "reverse link E9 to E11--><g id=\"link_E9_E11\"><a href=\"psysml:8187499b-9a51-4939-bbf5-c8a0ee670e5b\" target=\"_top\" title=\"psysml:8187499b-9a51-4939-bbf5-c8a0ee670e5b\" xlink:actuate=\"onRequest\" xlink:href=\"psysml:8187499b-9a51-4939-bbf5-c8a0ee670e5b\" xlink:show=\"new\" xlink:title=\"psysml:8187499b-9a51-4939-bbf5-c8a0ee670e5b\" xlink:type=\"simple\"><path d=\"M116.39,101.83 C121.86,117.66 128.14,135.82 132.99,149.83 \" fill=\"none\" id=\"E9-backto-E11\" style=\"stroke:#181818;stroke-width:1.0;\"/><polygon fill=\"none\" points=\"112.03,89.22,110.2077,96.1971,115.9472,100.5627,117.7695,93.5856,112.03,89.22\" style=\"stroke:#181818;stroke-width:1.0;\"/></a></g><!--MD5=[0517f1ce58c4d5483948f93845c45e26]\n",
       "link E11 to E3--><g id=\"link_E11_E3\"><a href=\"psysml:ca7307c2-0235-4c1e-8766-bbb66b330e4f\" target=\"_top\" title=\"psysml:ca7307c2-0235-4c1e-8766-bbb66b330e4f\" xlink:actuate=\"onRequest\" xlink:href=\"psysml:ca7307c2-0235-4c1e-8766-bbb66b330e4f\" xlink:show=\"new\" xlink:title=\"psysml:ca7307c2-0235-4c1e-8766-bbb66b330e4f\" xlink:type=\"simple\"><path d=\"M141,198.22 C141,210 141,224.69 141,238.48 \" fill=\"none\" id=\"E11-to-E3\" style=\"stroke:#181818;stroke-width:1.0;\"/><polygon fill=\"#FFFFFF\" points=\"141,258.83,134,239.83,148,239.83,141,258.83\" style=\"stroke:#181818;stroke-width:1.0;\"/><ellipse cx=\"136\" cy=\"234.13\" fill=\"#181818\" rx=\"2\" ry=\"2\" style=\"stroke:#181818;stroke-width:1.0;\"/><ellipse cx=\"146\" cy=\"234.13\" fill=\"#181818\" rx=\"2\" ry=\"2\" style=\"stroke:#181818;stroke-width:1.0;\"/></a></g><!--MD5=[dd4a773e813091cad2f38e5ccc559635]\n",
       "@startuml\r\n",
       "skin sysmlc\r\n",
       "skinparam wrapWidth 300\r\n",
       "hide circle\r\n",
       "\r\n",
       "package \"ItemTest\" as E1  [[psysml:cd87d2b7-4fa1-4c1b-a4f6-af691b0dec58 ]]  {\r\n",
       "comp usage \"f: A  \" as E2  <<(T,blue) item>> [[psysml:a6e7d788-746b-466d-b844-23a78300b1ae ]] {\r\n",
       "}\r\n",
       "comp def \"A\" as E3  <<(T,blue) item  def>> [[psysml:7645df02-ea24-41fb-927b-82e0988a44f2 ]] {\r\n",
       "}\r\n",
       "comp usage \"b: B  \" as E4  <<(T,blue) item>> [[psysml:426ed2e2-6591-4c8f-a505-52d546190911 ]] {\r\n",
       "}\r\n",
       "comp usage \"c: C  \" as E5  <<(T,blue) part>> [[psysml:331ec08e-03d4-4ef2-9768-da2cb6dfa326 ]] {\r\n",
       "}\r\n",
       "comp def \"<i>B</i>\" as E6  <<(T,blue) item  def>> [[psysml:1c5a109b-6d3b-4425-b763-85184515822e ]] {\r\n",
       "}\r\n",
       "comp usage \"<i>a</i>: A  \" as E7  <<(T,blue) part>> [[psysml:3d3f18ff-1114-439a-91a9-78796a10458c ]] {\r\n",
       "}\r\n",
       "comp def \"C\" as E8  <<(T,blue) part  def>> [[psysml:1568c6af-b382-4c7f-b02a-0d87dd86c0f5 ]] {\r\n",
       "}\r\n",
       "comp def \"P\" as E9  <<(T,blue) port  def>> [[psysml:7b3481ba-f47b-4c12-87df-4d6f620e6d00 ]] {\r\n",
       "}\r\n",
       "comp usage \"a1: A  \" as E10  <<(T,blue) item>> [[psysml:116f794f-fd18-4d42-8d94-9abf783d43f0 ]] {\r\n",
       "}\r\n",
       "comp usage \"a2: A  \" as E11  <<(T,blue) item>> [[psysml:16572df6-eec3-489a-80d1-3b65de425cbd ]] {\r\n",
       "}\r\n",
       "}\r\n",
       "E2 - -:|> E3 [[psysml:70c9c3cf-ded5-4fad-940c-650d810049d2 ]] \r\n",
       "E3 *- - E4 [[psysml:1e28e0ed-b5c0-4fac-98b2-855fbe266c1f ]] \r\n",
       "E3 o- - E5 [[psysml:b5974af5-b28c-458b-89e4-95d46de68236 ]] \r\n",
       "E4 - -:|> E6 [[psysml:83940360-bfcd-4ab6-95b9-9006ad1a30a4 ]] \r\n",
       "E6 *- - E7 [[psysml:c7c30ff0-7abe-445a-9147-4c620b104f3e ]] \r\n",
       "E7 - -:|> E3 [[psysml:4a79bdb3-77e8-4e9c-befa-ce9a0c7716db ]] \r\n",
       "E5 - -:|> E8 [[psysml:d776694e-c79b-404c-b561-ae1c1a2e3f3d ]] \r\n",
       "E8 o- - E3 [[psysml:c4551329-8b56-4fd0-9fbf-f2d280f6b39b ]] : y\r\n",
       "E8 o- - E6 [[psysml:c4551329-8b56-4fd0-9fbf-f2d280f6b39b ]] : y\r\n",
       "E9 o- - E10 [[psysml:5a5abb4f-4a57-47f4-8d13-1f5dca85ed3b ]] \r\n",
       "E10 - -:|> E3 [[psysml:d7f66802-941a-4496-884a-36d82493c03e ]] \r\n",
       "E9 o- - E11 [[psysml:8187499b-9a51-4939-bbf5-c8a0ee670e5b ]] \r\n",
       "E11 - -:|> E3 [[psysml:ca7307c2-0235-4c1e-8766-bbb66b330e4f ]] \r\n",
       "@enduml\r\n",
       "\n",
       "PlantUML version 1.2022.7(Mon Aug 22 17:01:30 UTC 2022)\n",
       "(EPL source distribution)\n",
       "Java Runtime: OpenJDK Runtime Environment\n",
       "JVM: OpenJDK 64-Bit Server VM\n",
       "Default Encoding: UTF-8\n",
       "Language: en\n",
       "Country: null\n",
       "--></g></svg>"
      ]
     },
     "execution_count": 24,
     "metadata": {},
     "output_type": "execute_result"
    }
   ],
   "source": [
    "%viz --style=\"STDCOLOR\" --view=\"Tree\" \"ItemTest\""
   ]
  },
  {
   "cell_type": "code",
   "execution_count": 25,
   "id": "8c96e3e5",
   "metadata": {
    "execution": {
     "iopub.execute_input": "2024-12-16T14:15:17.163769Z",
     "iopub.status.busy": "2024-12-16T14:15:17.163523Z",
     "iopub.status.idle": "2024-12-16T14:15:17.168390Z",
     "shell.execute_reply": "2024-12-16T14:15:17.168225Z"
    }
   },
   "outputs": [
    {
     "data": {
      "image/svg+xml": [
       "<?xml version=\"1.0\" encoding=\"UTF-8\" standalone=\"no\"?><svg xmlns=\"http://www.w3.org/2000/svg\" xmlns:xlink=\"http://www.w3.org/1999/xlink\" contentStyleType=\"text/css\" height=\"10px\" preserveAspectRatio=\"none\" style=\"width:10px;height:10px;background:#FFFFFF;\" version=\"1.1\" viewBox=\"0 0 10 10\" width=\"10px\" zoomAndPan=\"magnify\"><defs/><g><!--MD5=[a1048f16c75022af837d4b7065e6f600]\n",
       "@startuml\r\n",
       "skin sysmlc\r\n",
       "skinparam wrapWidth 300\r\n",
       "hide circle\r\n",
       "\r\n",
       "@enduml\r\n",
       "\n",
       "PlantUML version 1.2022.7(Mon Aug 22 17:01:30 UTC 2022)\n",
       "(EPL source distribution)\n",
       "Java Runtime: OpenJDK Runtime Environment\n",
       "JVM: OpenJDK 64-Bit Server VM\n",
       "Default Encoding: UTF-8\n",
       "Language: en\n",
       "Country: null\n",
       "--></g></svg>"
      ]
     },
     "execution_count": 25,
     "metadata": {},
     "output_type": "execute_result"
    }
   ],
   "source": [
    "%viz --style=\"STDCOLOR\" --view=\"State\" \"ItemTest\""
   ]
  },
  {
   "cell_type": "code",
   "execution_count": 26,
   "id": "549fe56b",
   "metadata": {
    "execution": {
     "iopub.execute_input": "2024-12-16T14:15:17.220804Z",
     "iopub.status.busy": "2024-12-16T14:15:17.220539Z",
     "iopub.status.idle": "2024-12-16T14:15:17.241529Z",
     "shell.execute_reply": "2024-12-16T14:15:17.240672Z"
    }
   },
   "outputs": [
    {
     "data": {
      "image/svg+xml": [
       "<?xml version=\"1.0\" encoding=\"UTF-8\" standalone=\"no\"?><svg xmlns=\"http://www.w3.org/2000/svg\" xmlns:xlink=\"http://www.w3.org/1999/xlink\" contentStyleType=\"text/css\" height=\"245px\" preserveAspectRatio=\"none\" style=\"width:478px;height:245px;background:#FFFFFF;\" version=\"1.1\" viewBox=\"0 0 478 245\" width=\"478px\" zoomAndPan=\"magnify\"><defs><filter height=\"300%\" id=\"f77bfja1vts4w\" width=\"300%\" x=\"-1\" y=\"-1\"><feGaussianBlur result=\"blurOut\" stdDeviation=\"2.0\"/><feColorMatrix in=\"blurOut\" result=\"blurOut2\" type=\"matrix\" values=\"0 0 0 0 0 0 0 0 0 0 0 0 0 0 0 0 0 0 .4 0\"/><feOffset dx=\"4.0\" dy=\"4.0\" in=\"blurOut2\" result=\"blurOut3\"/><feBlend in=\"SourceGraphic\" in2=\"blurOut3\" mode=\"normal\"/></filter></defs><g><!--MD5=[fbc87193dbaf4d95561dea2c320d4a47]\n",
       "cluster E1--><g id=\"cluster_E1\"><a href=\"psysml:cd87d2b7-4fa1-4c1b-a4f6-af691b0dec58\" target=\"_top\" title=\"psysml:cd87d2b7-4fa1-4c1b-a4f6-af691b0dec58\" xlink:actuate=\"onRequest\" xlink:href=\"psysml:cd87d2b7-4fa1-4c1b-a4f6-af691b0dec58\" xlink:show=\"new\" xlink:title=\"psysml:cd87d2b7-4fa1-4c1b-a4f6-af691b0dec58\" xlink:type=\"simple\"><polygon fill=\"none\" filter=\"url(#f77bfja1vts4w)\" points=\"16,6,86.5,6,93.5,28.2969,461,28.2969,461,238,16,238,16,6\" style=\"stroke:#000000;stroke-width:1.5;\"/><line style=\"stroke:#000000;stroke-width:1.5;\" x1=\"16\" x2=\"93.5\" y1=\"28.2969\" y2=\"28.2969\"/><text fill=\"#000000\" font-family=\"sans-serif\" font-size=\"14\" font-weight=\"bold\" lengthAdjust=\"spacing\" textLength=\"64.5\" x=\"20\" y=\"20.9951\">ItemTest</text></a></g><!--MD5=[de5ec2e2e8f62f467e546659f5068c88]\n",
       "cluster E5--><g id=\"cluster_E5\"><a href=\"psysml:1568c6af-b382-4c7f-b02a-0d87dd86c0f5\" target=\"_top\" title=\"psysml:1568c6af-b382-4c7f-b02a-0d87dd86c0f5\" xlink:actuate=\"onRequest\" xlink:href=\"psysml:1568c6af-b382-4c7f-b02a-0d87dd86c0f5\" xlink:show=\"new\" xlink:title=\"psysml:1568c6af-b382-4c7f-b02a-0d87dd86c0f5\" xlink:type=\"simple\"><rect fill=\"#FFFFFF\" filter=\"url(#f77bfja1vts4w)\" height=\"112\" id=\"E5\" style=\"stroke:#A80036;stroke-width:1.5;\" width=\"114\" x=\"323\" y=\"49\"/><rect fill=\"#FFFACD\" height=\"40.2656\" style=\"stroke:#A80036;stroke-width:1.5;\" width=\"114\" x=\"323\" y=\"49\"/><text fill=\"#000000\" font-family=\"sans-serif\" font-size=\"12\" font-style=\"italic\" lengthAdjust=\"spacing\" textLength=\"68\" x=\"346\" y=\"65.1387\">«part  def»</text><text fill=\"#000000\" font-family=\"sans-serif\" font-size=\"14\" lengthAdjust=\"spacing\" textLength=\"10\" x=\"375\" y=\"80.9639\">C</text></a></g><g><a href=\"psysml:7645df02-ea24-41fb-927b-82e0988a44f2\" target=\"_top\" title=\"psysml:7645df02-ea24-41fb-927b-82e0988a44f2\" xlink:actuate=\"onRequest\" xlink:href=\"psysml:7645df02-ea24-41fb-927b-82e0988a44f2\" xlink:show=\"new\" xlink:title=\"psysml:7645df02-ea24-41fb-927b-82e0988a44f2\" xlink:type=\"simple\"><rect fill=\"#FFFACD\" filter=\"url(#f77bfja1vts4w)\" height=\"45.2656\" id=\"E3\" style=\"stroke:#A80036;stroke-width:1.5;\" width=\"76\" x=\"32\" y=\"177\"/><text fill=\"#000000\" font-family=\"sans-serif\" font-size=\"12\" font-style=\"italic\" lengthAdjust=\"spacing\" textLength=\"69\" x=\"35.5\" y=\"193.1387\">«item  def»</text><text fill=\"#000000\" font-family=\"sans-serif\" font-size=\"14\" lengthAdjust=\"spacing\" textLength=\"9\" x=\"65.5\" y=\"208.9639\">A</text></a></g><g><a href=\"psysml:1c5a109b-6d3b-4425-b763-85184515822e\" target=\"_top\" title=\"psysml:1c5a109b-6d3b-4425-b763-85184515822e\" xlink:actuate=\"onRequest\" xlink:href=\"psysml:1c5a109b-6d3b-4425-b763-85184515822e\" xlink:show=\"new\" xlink:title=\"psysml:1c5a109b-6d3b-4425-b763-85184515822e\" xlink:type=\"simple\"><rect fill=\"#FFFACD\" filter=\"url(#f77bfja1vts4w)\" height=\"45.2656\" id=\"E4\" style=\"stroke:#A80036;stroke-width:1.5;\" width=\"76\" x=\"228\" y=\"100\"/><text fill=\"#000000\" font-family=\"sans-serif\" font-size=\"12\" font-style=\"italic\" lengthAdjust=\"spacing\" textLength=\"69\" x=\"231.5\" y=\"116.1387\">«item  def»</text><text fill=\"#000000\" font-family=\"sans-serif\" font-size=\"14\" font-style=\"italic\" lengthAdjust=\"spacing\" textLength=\"10\" x=\"261\" y=\"131.9639\">B</text></a></g><g><a href=\"psysml:7b3481ba-f47b-4c12-87df-4d6f620e6d00\" target=\"_top\" title=\"psysml:7b3481ba-f47b-4c12-87df-4d6f620e6d00\" xlink:actuate=\"onRequest\" xlink:href=\"psysml:7b3481ba-f47b-4c12-87df-4d6f620e6d00\" xlink:show=\"new\" xlink:title=\"psysml:7b3481ba-f47b-4c12-87df-4d6f620e6d00\" xlink:type=\"simple\"><rect fill=\"#FFFACD\" filter=\"url(#f77bfja1vts4w)\" height=\"45.2656\" id=\"E7\" style=\"stroke:#A80036;stroke-width:1.5;\" width=\"75\" x=\"117.5\" y=\"100\"/><text fill=\"#000000\" font-family=\"sans-serif\" font-size=\"12\" font-style=\"italic\" lengthAdjust=\"spacing\" textLength=\"68\" x=\"121\" y=\"116.1387\">«port  def»</text><text fill=\"#000000\" font-family=\"sans-serif\" font-size=\"14\" lengthAdjust=\"spacing\" textLength=\"9\" x=\"150.5\" y=\"131.9639\">P</text></a></g><g><a href=\"psysml:a6e7d788-746b-466d-b844-23a78300b1ae\" target=\"_top\" title=\"psysml:a6e7d788-746b-466d-b844-23a78300b1ae\" xlink:actuate=\"onRequest\" xlink:href=\"psysml:a6e7d788-746b-466d-b844-23a78300b1ae\" xlink:show=\"new\" xlink:title=\"psysml:a6e7d788-746b-466d-b844-23a78300b1ae\" xlink:type=\"simple\"><rect fill=\"#FFFACD\" filter=\"url(#f77bfja1vts4w)\" height=\"45.2656\" id=\"E2\" rx=\"10\" ry=\"10\" style=\"stroke:#A80036;stroke-width:1.5;\" width=\"50\" x=\"32\" y=\"100\"/><text fill=\"#000000\" font-family=\"sans-serif\" font-size=\"12\" font-style=\"italic\" lengthAdjust=\"spacing\" textLength=\"41\" x=\"36.5\" y=\"116.1387\">«item»</text><text fill=\"#000000\" font-family=\"sans-serif\" font-size=\"14\" lengthAdjust=\"spacing\" textLength=\"22\" x=\"46\" y=\"131.9639\">f: A</text></a></g><g><a href=\"psysml:c4551329-8b56-4fd0-9fbf-f2d280f6b39b\" target=\"_top\" title=\"psysml:c4551329-8b56-4fd0-9fbf-f2d280f6b39b\" xlink:actuate=\"onRequest\" xlink:href=\"psysml:c4551329-8b56-4fd0-9fbf-f2d280f6b39b\" xlink:show=\"new\" xlink:title=\"psysml:c4551329-8b56-4fd0-9fbf-f2d280f6b39b\" xlink:type=\"simple\"><rect fill=\"#FFFACD\" filter=\"url(#f77bfja1vts4w)\" height=\"45.2656\" id=\"E6\" rx=\"10\" ry=\"10\" style=\"stroke:#A80036;stroke-width:1.5;\" width=\"82\" x=\"339\" y=\"100\"/><text fill=\"#000000\" font-family=\"sans-serif\" font-size=\"12\" font-style=\"italic\" lengthAdjust=\"spacing\" textLength=\"75\" x=\"342.5\" y=\"116.1387\">«reference»</text><text fill=\"#000000\" font-family=\"sans-serif\" font-size=\"14\" lengthAdjust=\"spacing\" textLength=\"43\" x=\"354.5\" y=\"131.9639\">y: A, B</text></a></g><!--MD5=[2720a5a1f2c3fca2055b230370638851]\n",
       "link E2 to E3--><g id=\"link_E2_E3\"><a href=\"psysml:70c9c3cf-ded5-4fad-940c-650d810049d2\" target=\"_top\" title=\"psysml:70c9c3cf-ded5-4fad-940c-650d810049d2\" xlink:actuate=\"onRequest\" xlink:href=\"psysml:70c9c3cf-ded5-4fad-940c-650d810049d2\" xlink:show=\"new\" xlink:title=\"psysml:70c9c3cf-ded5-4fad-940c-650d810049d2\" xlink:type=\"simple\"><path d=\"M60.76,145.19 C61.41,148.92 62.1,152.91 62.8,156.96 \" fill=\"none\" id=\"E2-to-E3\" style=\"stroke:#181818;stroke-width:1.0;\"/><polygon fill=\"#FFFFFF\" points=\"66.25,176.86,56.0959,159.3416,69.8886,156.9411,66.25,176.86\" style=\"stroke:#181818;stroke-width:1.0;\"/><ellipse cx=\"57.0889\" cy=\"153.3831\" fill=\"#181818\" rx=\"2\" ry=\"2\" style=\"stroke:#181818;stroke-width:1.0;\"/><ellipse cx=\"66.9408\" cy=\"151.6685\" fill=\"#181818\" rx=\"2\" ry=\"2\" style=\"stroke:#181818;stroke-width:1.0;\"/></a></g><!--MD5=[742870b78874d5a41d1b93cbf9f98958]\n",
       "@startuml\r\n",
       "skin sysmlc\r\n",
       "skinparam wrapWidth 300\r\n",
       "hide circle\r\n",
       "skinparam ranksep 10\r\n",
       "skinparam rectangle {\r\n",
       " backgroundColor<<block>> LightGreen\r\n",
       "}\r\n",
       "\r\n",
       "package \"ItemTest\" as E1  [[psysml:cd87d2b7-4fa1-4c1b-a4f6-af691b0dec58 ]]  {\r\n",
       "rec usage \"f: A\" as E2  <<(T,blue) item>> [[psysml:a6e7d788-746b-466d-b844-23a78300b1ae ]] {\r\n",
       "}\r\n",
       "def \"A\" as E3  <<(T,blue) item  def>> [[psysml:7645df02-ea24-41fb-927b-82e0988a44f2 ]] \r\n",
       "def \"<i>B</i>\" as E4  <<(T,blue) item  def>> [[psysml:1c5a109b-6d3b-4425-b763-85184515822e ]] \r\n",
       "rec def \"C\" as E5  <<(T,blue) part  def>> [[psysml:1568c6af-b382-4c7f-b02a-0d87dd86c0f5 ]] {\r\n",
       "rec usage \"y: A, B  \" as E6  <<(T,blue) reference>> [[psysml:c4551329-8b56-4fd0-9fbf-f2d280f6b39b ]] {\r\n",
       "}\r\n",
       "\r\n",
       "}\r\n",
       "def \"P\" as E7  <<(T,blue) port  def>> [[psysml:7b3481ba-f47b-4c12-87df-4d6f620e6d00 ]] \r\n",
       "}\r\n",
       "E2 - -:|> E3 [[psysml:70c9c3cf-ded5-4fad-940c-650d810049d2 ]] \r\n",
       "@enduml\r\n",
       "\n",
       "PlantUML version 1.2022.7(Mon Aug 22 17:01:30 UTC 2022)\n",
       "(EPL source distribution)\n",
       "Java Runtime: OpenJDK Runtime Environment\n",
       "JVM: OpenJDK 64-Bit Server VM\n",
       "Default Encoding: UTF-8\n",
       "Language: en\n",
       "Country: null\n",
       "--></g></svg>"
      ]
     },
     "execution_count": 26,
     "metadata": {},
     "output_type": "execute_result"
    }
   ],
   "source": [
    "%viz --style=\"STDCOLOR\" --view=\"Interconnection\" \"ItemTest\""
   ]
  },
  {
   "cell_type": "code",
   "execution_count": 27,
   "id": "500f0aac",
   "metadata": {
    "execution": {
     "iopub.execute_input": "2024-12-16T14:15:17.296939Z",
     "iopub.status.busy": "2024-12-16T14:15:17.296704Z",
     "iopub.status.idle": "2024-12-16T14:15:17.302478Z",
     "shell.execute_reply": "2024-12-16T14:15:17.302285Z"
    }
   },
   "outputs": [
    {
     "data": {
      "image/svg+xml": [
       "<?xml version=\"1.0\" encoding=\"UTF-8\" standalone=\"no\"?><svg xmlns=\"http://www.w3.org/2000/svg\" xmlns:xlink=\"http://www.w3.org/1999/xlink\" contentStyleType=\"text/css\" height=\"10px\" preserveAspectRatio=\"none\" style=\"width:10px;height:10px;background:#FFFFFF;\" version=\"1.1\" viewBox=\"0 0 10 10\" width=\"10px\" zoomAndPan=\"magnify\"><defs/><g><!--MD5=[f1e15a62785563bad28e840d677c8e75]\n",
       "@startuml\r\n",
       "skin sysmlc\r\n",
       "skinparam wrapWidth 300\r\n",
       "hide circle\r\n",
       "skinparam ranksep 8\r\n",
       "\r\n",
       "@enduml\r\n",
       "\n",
       "PlantUML version 1.2022.7(Mon Aug 22 17:01:30 UTC 2022)\n",
       "(EPL source distribution)\n",
       "Java Runtime: OpenJDK Runtime Environment\n",
       "JVM: OpenJDK 64-Bit Server VM\n",
       "Default Encoding: UTF-8\n",
       "Language: en\n",
       "Country: null\n",
       "--></g></svg>"
      ]
     },
     "execution_count": 27,
     "metadata": {},
     "output_type": "execute_result"
    }
   ],
   "source": [
    "%viz --style=\"STDCOLOR\" --view=\"Action\" \"ItemTest\""
   ]
  },
  {
   "cell_type": "code",
   "execution_count": 28,
   "id": "61208ce9",
   "metadata": {
    "execution": {
     "iopub.execute_input": "2024-12-16T14:15:17.357434Z",
     "iopub.status.busy": "2024-12-16T14:15:17.357167Z",
     "iopub.status.idle": "2024-12-16T14:15:17.362600Z",
     "shell.execute_reply": "2024-12-16T14:15:17.362065Z"
    }
   },
   "outputs": [
    {
     "data": {
      "image/svg+xml": [
       "<?xml version=\"1.0\" encoding=\"UTF-8\" standalone=\"no\"?><svg xmlns=\"http://www.w3.org/2000/svg\" xmlns:xlink=\"http://www.w3.org/1999/xlink\" contentStyleType=\"text/css\" height=\"10px\" preserveAspectRatio=\"none\" style=\"width:10px;height:10px;background:#FFFFFF;\" version=\"1.1\" viewBox=\"0 0 10 10\" width=\"10px\" zoomAndPan=\"magnify\"><defs/><g><!--MD5=[e54413e611bf323face5c486cd3a32bb]\n",
       "@startuml\r\n",
       "skin sysmlc\r\n",
       "skinparam wrapWidth 300\r\n",
       "hide circle\r\n",
       "skinparam roundcorner 20\r\n",
       "skinparam BoxPadding 20\r\n",
       "skinparam SequenceBoxBackgroundColor #white\r\n",
       "skinparam style strictuml\r\n",
       "skinparam maxMessageSize 100\r\n",
       "\r\n",
       "@enduml\r\n",
       "\n",
       "PlantUML version 1.2022.7(Mon Aug 22 17:01:30 UTC 2022)\n",
       "(EPL source distribution)\n",
       "Java Runtime: OpenJDK Runtime Environment\n",
       "JVM: OpenJDK 64-Bit Server VM\n",
       "Default Encoding: UTF-8\n",
       "Language: en\n",
       "Country: null\n",
       "--></g></svg>"
      ]
     },
     "execution_count": 28,
     "metadata": {},
     "output_type": "execute_result"
    }
   ],
   "source": [
    "%viz --style=\"STDCOLOR\" --view=\"Sequence\" \"ItemTest\""
   ]
  },
  {
   "cell_type": "code",
   "execution_count": 29,
   "id": "aa408b2c",
   "metadata": {
    "execution": {
     "iopub.execute_input": "2024-12-16T14:15:17.415475Z",
     "iopub.status.busy": "2024-12-16T14:15:17.415234Z",
     "iopub.status.idle": "2024-12-16T14:15:17.443545Z",
     "shell.execute_reply": "2024-12-16T14:15:17.443361Z"
    }
   },
   "outputs": [
    {
     "data": {
      "image/svg+xml": [
       "<?xml version=\"1.0\" encoding=\"UTF-8\" standalone=\"no\"?><svg xmlns=\"http://www.w3.org/2000/svg\" xmlns:xlink=\"http://www.w3.org/1999/xlink\" contentStyleType=\"text/css\" height=\"829px\" preserveAspectRatio=\"none\" style=\"width:277px;height:829px;background:#FFFFFF;\" version=\"1.1\" viewBox=\"0 0 277 829\" width=\"277px\" zoomAndPan=\"magnify\"><defs><filter height=\"300%\" id=\"f1av7v4z99q1gd\" width=\"300%\" x=\"-1\" y=\"-1\"><feGaussianBlur result=\"blurOut\" stdDeviation=\"2.0\"/><feColorMatrix in=\"blurOut\" result=\"blurOut2\" type=\"matrix\" values=\"0 0 0 0 0 0 0 0 0 0 0 0 0 0 0 0 0 0 .4 0\"/><feOffset dx=\"4.0\" dy=\"4.0\" in=\"blurOut2\" result=\"blurOut3\"/><feBlend in=\"SourceGraphic\" in2=\"blurOut3\" mode=\"normal\"/></filter></defs><g><!--MD5=[fbc87193dbaf4d95561dea2c320d4a47]\n",
       "cluster E1--><g id=\"cluster_E1\"><a href=\"psysml:cd87d2b7-4fa1-4c1b-a4f6-af691b0dec58\" target=\"_top\" title=\"psysml:cd87d2b7-4fa1-4c1b-a4f6-af691b0dec58\" xlink:actuate=\"onRequest\" xlink:href=\"psysml:cd87d2b7-4fa1-4c1b-a4f6-af691b0dec58\" xlink:show=\"new\" xlink:title=\"psysml:cd87d2b7-4fa1-4c1b-a4f6-af691b0dec58\" xlink:type=\"simple\"><polygon fill=\"none\" filter=\"url(#f1av7v4z99q1gd)\" points=\"16,6,86.5,6,93.5,28.2969,260,28.2969,260,822,16,822,16,6\" style=\"stroke:#000000;stroke-width:1.5;\"/><line style=\"stroke:#000000;stroke-width:1.5;\" x1=\"16\" x2=\"93.5\" y1=\"28.2969\" y2=\"28.2969\"/><text fill=\"#000000\" font-family=\"sans-serif\" font-size=\"14\" font-weight=\"bold\" lengthAdjust=\"spacing\" textLength=\"64.5\" x=\"20\" y=\"20.9951\">ItemTest</text></a></g><!--MD5=[b4997ac47864f28c2f74865a473b2911]\n",
       "class E2--><a href=\"psysml:a6e7d788-746b-466d-b844-23a78300b1ae\" target=\"_top\" title=\"psysml:a6e7d788-746b-466d-b844-23a78300b1ae\" xlink:actuate=\"onRequest\" xlink:href=\"psysml:a6e7d788-746b-466d-b844-23a78300b1ae\" xlink:show=\"new\" xlink:title=\"psysml:a6e7d788-746b-466d-b844-23a78300b1ae\" xlink:type=\"simple\"><g id=\"elem_E2\"><rect fill=\"#FFFACD\" filter=\"url(#f1av7v4z99q1gd)\" height=\"48.2656\" id=\"E2\" rx=\"10\" ry=\"10\" style=\"stroke:#181818;stroke-width:0.5;\" width=\"43\" x=\"200.5\" y=\"150\"/><text fill=\"#000000\" font-family=\"sans-serif\" font-size=\"12\" font-style=\"italic\" lengthAdjust=\"spacing\" textLength=\"41\" x=\"201.5\" y=\"166.1387\">«item»</text><text fill=\"#000000\" font-family=\"sans-serif\" font-size=\"14\" lengthAdjust=\"spacing\" textLength=\"22\" x=\"207\" y=\"181.9639\">f: A</text><line style=\"stroke:#181818;stroke-width:0.5;\" x1=\"201.5\" x2=\"242.5\" y1=\"190.2656\" y2=\"190.2656\"/></g></a><!--MD5=[09b614a08d8cba4a07c9adeb5e0fee81]\n",
       "class E3--><a href=\"psysml:7645df02-ea24-41fb-927b-82e0988a44f2\" target=\"_top\" title=\"psysml:7645df02-ea24-41fb-927b-82e0988a44f2\" xlink:actuate=\"onRequest\" xlink:href=\"psysml:7645df02-ea24-41fb-927b-82e0988a44f2\" xlink:show=\"new\" xlink:title=\"psysml:7645df02-ea24-41fb-927b-82e0988a44f2\" xlink:type=\"simple\"><g id=\"elem_E3\"><rect fill=\"#FFFACD\" filter=\"url(#f1av7v4z99q1gd)\" height=\"48.2656\" id=\"E3\" style=\"stroke:#181818;stroke-width:0.5;\" width=\"71\" x=\"105.5\" y=\"259\"/><text fill=\"#000000\" font-family=\"sans-serif\" font-size=\"12\" font-style=\"italic\" lengthAdjust=\"spacing\" textLength=\"69\" x=\"106.5\" y=\"275.1387\">«item  def»</text><text fill=\"#000000\" font-family=\"sans-serif\" font-size=\"14\" lengthAdjust=\"spacing\" textLength=\"9\" x=\"136.5\" y=\"290.9639\">A</text><line style=\"stroke:#181818;stroke-width:0.5;\" x1=\"106.5\" x2=\"175.5\" y1=\"299.2656\" y2=\"299.2656\"/></g></a><!--MD5=[ebbe1d658d1005bcc118a6aa81145e00]\n",
       "class E4--><a href=\"psysml:426ed2e2-6591-4c8f-a505-52d546190911\" target=\"_top\" title=\"psysml:426ed2e2-6591-4c8f-a505-52d546190911\" xlink:actuate=\"onRequest\" xlink:href=\"psysml:426ed2e2-6591-4c8f-a505-52d546190911\" xlink:show=\"new\" xlink:title=\"psysml:426ed2e2-6591-4c8f-a505-52d546190911\" xlink:type=\"simple\"><g id=\"elem_E4\"><rect fill=\"#FFFACD\" filter=\"url(#f1av7v4z99q1gd)\" height=\"48.2656\" id=\"E4\" rx=\"10\" ry=\"10\" style=\"stroke:#181818;stroke-width:0.5;\" width=\"43\" x=\"48.5\" y=\"446\"/><text fill=\"#000000\" font-family=\"sans-serif\" font-size=\"12\" font-style=\"italic\" lengthAdjust=\"spacing\" textLength=\"41\" x=\"49.5\" y=\"462.1387\">«item»</text><text fill=\"#000000\" font-family=\"sans-serif\" font-size=\"14\" lengthAdjust=\"spacing\" textLength=\"28\" x=\"52\" y=\"477.9639\">b: B</text><line style=\"stroke:#181818;stroke-width:0.5;\" x1=\"49.5\" x2=\"90.5\" y1=\"486.2656\" y2=\"486.2656\"/></g></a><!--MD5=[270fce915f116d4de14055a7c1d9a0f3]\n",
       "class E5--><a href=\"psysml:331ec08e-03d4-4ef2-9768-da2cb6dfa326\" target=\"_top\" title=\"psysml:331ec08e-03d4-4ef2-9768-da2cb6dfa326\" xlink:actuate=\"onRequest\" xlink:href=\"psysml:331ec08e-03d4-4ef2-9768-da2cb6dfa326\" xlink:show=\"new\" xlink:title=\"psysml:331ec08e-03d4-4ef2-9768-da2cb6dfa326\" xlink:type=\"simple\"><g id=\"elem_E5\"><rect fill=\"#FFFACD\" filter=\"url(#f1av7v4z99q1gd)\" height=\"48.2656\" id=\"E5\" rx=\"10\" ry=\"10\" style=\"stroke:#181818;stroke-width:0.5;\" width=\"42\" x=\"157\" y=\"368\"/><text fill=\"#000000\" font-family=\"sans-serif\" font-size=\"12\" font-style=\"italic\" lengthAdjust=\"spacing\" textLength=\"40\" x=\"158\" y=\"384.1387\">«part»</text><text fill=\"#000000\" font-family=\"sans-serif\" font-size=\"14\" lengthAdjust=\"spacing\" textLength=\"27\" x=\"160.5\" y=\"399.9639\">c: C</text><line style=\"stroke:#181818;stroke-width:0.5;\" x1=\"158\" x2=\"198\" y1=\"408.2656\" y2=\"408.2656\"/></g></a><!--MD5=[60a26617385b1d2d0262a64233df1f8d]\n",
       "class E6--><a href=\"psysml:1c5a109b-6d3b-4425-b763-85184515822e\" target=\"_top\" title=\"psysml:1c5a109b-6d3b-4425-b763-85184515822e\" xlink:actuate=\"onRequest\" xlink:href=\"psysml:1c5a109b-6d3b-4425-b763-85184515822e\" xlink:show=\"new\" xlink:title=\"psysml:1c5a109b-6d3b-4425-b763-85184515822e\" xlink:type=\"simple\"><g id=\"elem_E6\"><rect fill=\"#FFFACD\" filter=\"url(#f1av7v4z99q1gd)\" height=\"48.2656\" id=\"E6\" style=\"stroke:#181818;stroke-width:0.5;\" width=\"71\" x=\"116.5\" y=\"649\"/><text fill=\"#000000\" font-family=\"sans-serif\" font-size=\"12\" font-style=\"italic\" lengthAdjust=\"spacing\" textLength=\"69\" x=\"117.5\" y=\"665.1387\">«item  def»</text><text fill=\"#000000\" font-family=\"sans-serif\" font-size=\"14\" font-style=\"italic\" lengthAdjust=\"spacing\" textLength=\"10\" x=\"147\" y=\"680.9639\">B</text><line style=\"stroke:#181818;stroke-width:0.5;\" x1=\"117.5\" x2=\"186.5\" y1=\"689.2656\" y2=\"689.2656\"/></g></a><!--MD5=[2156ba9850f5573cc1fc38a6a4b2f02b]\n",
       "class E7--><a href=\"psysml:3d3f18ff-1114-439a-91a9-78796a10458c\" target=\"_top\" title=\"psysml:3d3f18ff-1114-439a-91a9-78796a10458c\" xlink:actuate=\"onRequest\" xlink:href=\"psysml:3d3f18ff-1114-439a-91a9-78796a10458c\" xlink:show=\"new\" xlink:title=\"psysml:3d3f18ff-1114-439a-91a9-78796a10458c\" xlink:type=\"simple\"><g id=\"elem_E7\"><rect fill=\"#FFFACD\" filter=\"url(#f1av7v4z99q1gd)\" height=\"48.2656\" id=\"E7\" rx=\"10\" ry=\"10\" style=\"stroke:#181818;stroke-width:0.5;\" width=\"42\" x=\"167\" y=\"758\"/><text fill=\"#000000\" font-family=\"sans-serif\" font-size=\"12\" font-style=\"italic\" lengthAdjust=\"spacing\" textLength=\"40\" x=\"168\" y=\"774.1387\">«part»</text><text fill=\"#000000\" font-family=\"sans-serif\" font-size=\"14\" font-style=\"italic\" lengthAdjust=\"spacing\" textLength=\"8\" x=\"171\" y=\"789.9639\">a</text><text fill=\"#000000\" font-family=\"sans-serif\" font-size=\"14\" lengthAdjust=\"spacing\" textLength=\"18\" x=\"179\" y=\"789.9639\">: A</text><line style=\"stroke:#181818;stroke-width:0.5;\" x1=\"168\" x2=\"208\" y1=\"798.2656\" y2=\"798.2656\"/></g></a><!--MD5=[b9389687b975829384b498ac4b7476b2]\n",
       "class E8--><a href=\"psysml:1568c6af-b382-4c7f-b02a-0d87dd86c0f5\" target=\"_top\" title=\"psysml:1568c6af-b382-4c7f-b02a-0d87dd86c0f5\" xlink:actuate=\"onRequest\" xlink:href=\"psysml:1568c6af-b382-4c7f-b02a-0d87dd86c0f5\" xlink:show=\"new\" xlink:title=\"psysml:1568c6af-b382-4c7f-b02a-0d87dd86c0f5\" xlink:type=\"simple\"><g id=\"elem_E8\"><rect fill=\"#FFFACD\" filter=\"url(#f1av7v4z99q1gd)\" height=\"48.2656\" id=\"E8\" style=\"stroke:#181818;stroke-width:0.5;\" width=\"70\" x=\"117\" y=\"524\"/><text fill=\"#000000\" font-family=\"sans-serif\" font-size=\"12\" font-style=\"italic\" lengthAdjust=\"spacing\" textLength=\"68\" x=\"118\" y=\"540.1387\">«part  def»</text><text fill=\"#000000\" font-family=\"sans-serif\" font-size=\"14\" lengthAdjust=\"spacing\" textLength=\"10\" x=\"147\" y=\"555.9639\">C</text><line style=\"stroke:#181818;stroke-width:0.5;\" x1=\"118\" x2=\"186\" y1=\"564.2656\" y2=\"564.2656\"/></g></a><!--MD5=[fd4143e9d270a159db93a4ea2a975926]\n",
       "class E9--><a href=\"psysml:7b3481ba-f47b-4c12-87df-4d6f620e6d00\" target=\"_top\" title=\"psysml:7b3481ba-f47b-4c12-87df-4d6f620e6d00\" xlink:actuate=\"onRequest\" xlink:href=\"psysml:7b3481ba-f47b-4c12-87df-4d6f620e6d00\" xlink:show=\"new\" xlink:title=\"psysml:7b3481ba-f47b-4c12-87df-4d6f620e6d00\" xlink:type=\"simple\"><g id=\"elem_E9\"><rect fill=\"#FFFACD\" filter=\"url(#f1av7v4z99q1gd)\" height=\"48.2656\" id=\"E9\" style=\"stroke:#181818;stroke-width:0.5;\" width=\"70\" x=\"69\" y=\"41\"/><text fill=\"#000000\" font-family=\"sans-serif\" font-size=\"12\" font-style=\"italic\" lengthAdjust=\"spacing\" textLength=\"68\" x=\"70\" y=\"57.1387\">«port  def»</text><text fill=\"#000000\" font-family=\"sans-serif\" font-size=\"14\" lengthAdjust=\"spacing\" textLength=\"9\" x=\"99.5\" y=\"72.9639\">P</text><line style=\"stroke:#181818;stroke-width:0.5;\" x1=\"70\" x2=\"138\" y1=\"81.2656\" y2=\"81.2656\"/></g></a><!--MD5=[96f4274e9e20536e775497830990834d]\n",
       "class E10--><a href=\"psysml:116f794f-fd18-4d42-8d94-9abf783d43f0\" target=\"_top\" title=\"psysml:116f794f-fd18-4d42-8d94-9abf783d43f0\" xlink:actuate=\"onRequest\" xlink:href=\"psysml:116f794f-fd18-4d42-8d94-9abf783d43f0\" xlink:show=\"new\" xlink:title=\"psysml:116f794f-fd18-4d42-8d94-9abf783d43f0\" xlink:type=\"simple\"><g id=\"elem_E10\"><rect fill=\"#FFFACD\" filter=\"url(#f1av7v4z99q1gd)\" height=\"48.2656\" id=\"E10\" rx=\"10\" ry=\"10\" style=\"stroke:#181818;stroke-width:0.5;\" width=\"49\" x=\"32.5\" y=\"150\"/><text fill=\"#000000\" font-family=\"sans-serif\" font-size=\"12\" font-style=\"italic\" lengthAdjust=\"spacing\" textLength=\"41\" x=\"36.5\" y=\"166.1387\">«item»</text><text fill=\"#000000\" font-family=\"sans-serif\" font-size=\"14\" lengthAdjust=\"spacing\" textLength=\"35\" x=\"35.5\" y=\"181.9639\">a1: A</text><line style=\"stroke:#181818;stroke-width:0.5;\" x1=\"33.5\" x2=\"80.5\" y1=\"190.2656\" y2=\"190.2656\"/></g></a><!--MD5=[1dd1bfd58a279cf63c5f349dbc8fc6a1]\n",
       "class E11--><a href=\"psysml:16572df6-eec3-489a-80d1-3b65de425cbd\" target=\"_top\" title=\"psysml:16572df6-eec3-489a-80d1-3b65de425cbd\" xlink:actuate=\"onRequest\" xlink:href=\"psysml:16572df6-eec3-489a-80d1-3b65de425cbd\" xlink:show=\"new\" xlink:title=\"psysml:16572df6-eec3-489a-80d1-3b65de425cbd\" xlink:type=\"simple\"><g id=\"elem_E11\"><rect fill=\"#FFFACD\" filter=\"url(#f1av7v4z99q1gd)\" height=\"48.2656\" id=\"E11\" rx=\"10\" ry=\"10\" style=\"stroke:#181818;stroke-width:0.5;\" width=\"49\" x=\"116.5\" y=\"150\"/><text fill=\"#000000\" font-family=\"sans-serif\" font-size=\"12\" font-style=\"italic\" lengthAdjust=\"spacing\" textLength=\"41\" x=\"120.5\" y=\"166.1387\">«item»</text><text fill=\"#000000\" font-family=\"sans-serif\" font-size=\"14\" lengthAdjust=\"spacing\" textLength=\"35\" x=\"119.5\" y=\"181.9639\">a2: A</text><line style=\"stroke:#181818;stroke-width:0.5;\" x1=\"117.5\" x2=\"164.5\" y1=\"190.2656\" y2=\"190.2656\"/></g></a><!--MD5=[2720a5a1f2c3fca2055b230370638851]\n",
       "link E2 to E3--><g id=\"link_E2_E3\"><a href=\"psysml:70c9c3cf-ded5-4fad-940c-650d810049d2\" target=\"_top\" title=\"psysml:70c9c3cf-ded5-4fad-940c-650d810049d2\" xlink:actuate=\"onRequest\" xlink:href=\"psysml:70c9c3cf-ded5-4fad-940c-650d810049d2\" xlink:show=\"new\" xlink:title=\"psysml:70c9c3cf-ded5-4fad-940c-650d810049d2\" xlink:type=\"simple\"><path d=\"M204.42,198.22 C194.55,211.26 181.97,227.88 170.62,242.87 \" fill=\"none\" id=\"E2-to-E3\" style=\"stroke:#181818;stroke-width:1.0;\"/><polygon fill=\"#FFFFFF\" points=\"158.54,258.83,164.4286,239.4567,175.5901,247.9078,158.54,258.83\" style=\"stroke:#181818;stroke-width:1.0;\"/><ellipse cx=\"169.4639\" cy=\"236.1197\" fill=\"#181818\" rx=\"2\" ry=\"2\" style=\"stroke:#181818;stroke-width:1.0;\"/><ellipse cx=\"177.4364\" cy=\"242.1562\" fill=\"#181818\" rx=\"2\" ry=\"2\" style=\"stroke:#181818;stroke-width:1.0;\"/></a></g><!--MD5=[4672eba38e49728da53d11aeb285b987]\n",
       "reverse link E3 to E4--><g id=\"link_E3_E4\"><a href=\"psysml:1e28e0ed-b5c0-4fac-98b2-855fbe266c1f\" target=\"_top\" title=\"psysml:1e28e0ed-b5c0-4fac-98b2-855fbe266c1f\" xlink:actuate=\"onRequest\" xlink:href=\"psysml:1e28e0ed-b5c0-4fac-98b2-855fbe266c1f\" xlink:show=\"new\" xlink:title=\"psysml:1e28e0ed-b5c0-4fac-98b2-855fbe266c1f\" xlink:type=\"simple\"><path d=\"M104.38,316.32 C90.85,330.64 77.09,348.62 70,368 C60.72,393.36 62.6,424.76 65.58,445.75 \" fill=\"none\" id=\"E3-backto-E4\" style=\"stroke:#181818;stroke-width:1.0;\"/><polygon fill=\"#181818\" points=\"113.62,307.02,106.5522,308.4507,105.1545,315.525,112.2223,314.0943,113.62,307.02\" style=\"stroke:#181818;stroke-width:1.0;\"/></a></g><!--MD5=[191cde3d490a3f6d7bb551fe3ddca469]\n",
       "reverse link E3 to E5--><g id=\"link_E3_E5\"><a href=\"psysml:b5974af5-b28c-458b-89e4-95d46de68236\" target=\"_top\" title=\"psysml:b5974af5-b28c-458b-89e4-95d46de68236\" xlink:actuate=\"onRequest\" xlink:href=\"psysml:b5974af5-b28c-458b-89e4-95d46de68236\" xlink:show=\"new\" xlink:title=\"psysml:b5974af5-b28c-458b-89e4-95d46de68236\" xlink:type=\"simple\"><path d=\"M153.39,319.83 C158.86,335.66 165.14,353.82 169.99,367.83 \" fill=\"none\" id=\"E3-backto-E5\" style=\"stroke:#181818;stroke-width:1.0;\"/><polygon fill=\"none\" points=\"149.03,307.22,147.2077,314.1971,152.9472,318.5627,154.7695,311.5856,149.03,307.22\" style=\"stroke:#181818;stroke-width:1.0;\"/></a></g><!--MD5=[79568f1e445c3877b6a54524624ccc7d]\n",
       "link E4 to E6--><g id=\"link_E4_E6\"><a href=\"psysml:83940360-bfcd-4ab6-95b9-9006ad1a30a4\" target=\"_top\" title=\"psysml:83940360-bfcd-4ab6-95b9-9006ad1a30a4\" xlink:actuate=\"onRequest\" xlink:href=\"psysml:83940360-bfcd-4ab6-95b9-9006ad1a30a4\" xlink:show=\"new\" xlink:title=\"psysml:83940360-bfcd-4ab6-95b9-9006ad1a30a4\" xlink:type=\"simple\"><path d=\"M75.57,494.29 C80.84,515.04 89.51,546.05 100,572 C108.08,591.98 118.83,613.29 128.46,631.07 \" fill=\"none\" id=\"E4-to-E6\" style=\"stroke:#181818;stroke-width:1.0;\"/><polygon fill=\"#FFFFFF\" points=\"138.29,648.76,122.9437,635.5505,135.1819,628.7515,138.29,648.76\" style=\"stroke:#181818;stroke-width:1.0;\"/><ellipse cx=\"121.9238\" cy=\"629.5965\" fill=\"#181818\" rx=\"2\" ry=\"2\" style=\"stroke:#181818;stroke-width:1.0;\"/><ellipse cx=\"130.6654\" cy=\"624.7401\" fill=\"#181818\" rx=\"2\" ry=\"2\" style=\"stroke:#181818;stroke-width:1.0;\"/></a></g><!--MD5=[3f50a3473f1dfb74d3f76443e03635af]\n",
       "reverse link E6 to E7--><g id=\"link_E6_E7\"><a href=\"psysml:c7c30ff0-7abe-445a-9147-4c620b104f3e\" target=\"_top\" title=\"psysml:c7c30ff0-7abe-445a-9147-4c620b104f3e\" xlink:actuate=\"onRequest\" xlink:href=\"psysml:c7c30ff0-7abe-445a-9147-4c620b104f3e\" xlink:show=\"new\" xlink:title=\"psysml:c7c30ff0-7abe-445a-9147-4c620b104f3e\" xlink:type=\"simple\"><path d=\"M164.05,709.83 C169.38,725.66 175.49,743.82 180.2,757.83 \" fill=\"none\" id=\"E6-backto-E7\" style=\"stroke:#181818;stroke-width:1.0;\"/><polygon fill=\"#181818\" points=\"159.81,697.22,157.9296,704.1816,163.6324,708.5949,165.5128,701.6333,159.81,697.22\" style=\"stroke:#181818;stroke-width:1.0;\"/></a></g><!--MD5=[14ccda38c055a5c0da953d572bc50960]\n",
       "link E7 to E3--><g id=\"link_E7_E3\"><a href=\"psysml:4a79bdb3-77e8-4e9c-befa-ce9a0c7716db\" target=\"_top\" title=\"psysml:4a79bdb3-77e8-4e9c-befa-ce9a0c7716db\" xlink:actuate=\"onRequest\" xlink:href=\"psysml:4a79bdb3-77e8-4e9c-befa-ce9a0c7716db\" xlink:show=\"new\" xlink:title=\"psysml:4a79bdb3-77e8-4e9c-befa-ce9a0c7716db\" xlink:type=\"simple\"><path d=\"M204.97,757.64 C218.43,736.78 235,704.84 235,674 C235,391 235,391 235,391 C235,361.35 214.38,336.01 192.46,317.43 \" fill=\"none\" id=\"E7-to-E3\" style=\"stroke:#181818;stroke-width:1.0;\"/><polygon fill=\"#FFFFFF\" points=\"176.54,305.14,195.8578,311.2081,187.3035,322.2907,176.54,305.14\" style=\"stroke:#181818;stroke-width:1.0;\"/><ellipse cx=\"199.148\" cy=\"316.2741\" fill=\"#181818\" rx=\"2\" ry=\"2\" style=\"stroke:#181818;stroke-width:1.0;\"/><ellipse cx=\"193.0378\" cy=\"324.1903\" fill=\"#181818\" rx=\"2\" ry=\"2\" style=\"stroke:#181818;stroke-width:1.0;\"/></a></g><!--MD5=[dfaffb906826c3e5aca635516100ff21]\n",
       "link E5 to E8--><g id=\"link_E5_E8\"><a href=\"psysml:d776694e-c79b-404c-b561-ae1c1a2e3f3d\" target=\"_top\" title=\"psysml:d776694e-c79b-404c-b561-ae1c1a2e3f3d\" xlink:actuate=\"onRequest\" xlink:href=\"psysml:d776694e-c79b-404c-b561-ae1c1a2e3f3d\" xlink:show=\"new\" xlink:title=\"psysml:d776694e-c79b-404c-b561-ae1c1a2e3f3d\" xlink:type=\"simple\"><path d=\"M174.11,416.06 C170.2,439.19 164.09,475.38 159.28,503.86 \" fill=\"none\" id=\"E5-to-E8\" style=\"stroke:#181818;stroke-width:1.0;\"/><polygon fill=\"#FFFFFF\" points=\"155.92,523.79,152.1809,503.8898,165.9855,506.2206,155.92,523.79\" style=\"stroke:#181818;stroke-width:1.0;\"/><ellipse cx=\"155.1019\" cy=\"498.6023\" fill=\"#181818\" rx=\"2\" ry=\"2\" style=\"stroke:#181818;stroke-width:1.0;\"/><ellipse cx=\"164.9624\" cy=\"500.2671\" fill=\"#181818\" rx=\"2\" ry=\"2\" style=\"stroke:#181818;stroke-width:1.0;\"/></a></g><!--MD5=[03c8294790d3c57651a1993cecff665f]\n",
       "reverse link E8 to E3--><g id=\"link_E8_E3\"><a href=\"psysml:c4551329-8b56-4fd0-9fbf-f2d280f6b39b\" target=\"_top\" title=\"psysml:c4551329-8b56-4fd0-9fbf-f2d280f6b39b\" xlink:actuate=\"onRequest\" xlink:href=\"psysml:c4551329-8b56-4fd0-9fbf-f2d280f6b39b\" xlink:show=\"new\" xlink:title=\"psysml:c4551329-8b56-4fd0-9fbf-f2d280f6b39b\" xlink:type=\"simple\"><path d=\"M144.62,510.88 C139.66,484.68 133.57,448.31 131,416 C129.31,394.73 129.74,389.3 131,368 C132.23,347.33 135.14,323.95 137.5,307.11 \" fill=\"none\" id=\"E8-backto-E3\" style=\"stroke:#181818;stroke-width:1.0;\"/><polygon fill=\"none\" points=\"147.16,523.94,149.9387,517.2857,144.865,512.1615,142.0863,518.8158,147.16,523.94\" style=\"stroke:#181818;stroke-width:1.0;\"/><text fill=\"#000000\" font-family=\"sans-serif\" font-size=\"13\" lengthAdjust=\"spacing\" textLength=\"7\" x=\"132\" y=\"396.5669\">y</text></a></g><!--MD5=[0d75d2178373a6a4568e5dc728f58aef]\n",
       "reverse link E8 to E6--><g id=\"link_E8_E6\"><a href=\"psysml:c4551329-8b56-4fd0-9fbf-f2d280f6b39b\" target=\"_top\" title=\"psysml:c4551329-8b56-4fd0-9fbf-f2d280f6b39b\" xlink:actuate=\"onRequest\" xlink:href=\"psysml:c4551329-8b56-4fd0-9fbf-f2d280f6b39b\" xlink:show=\"new\" xlink:title=\"psysml:c4551329-8b56-4fd0-9fbf-f2d280f6b39b\" xlink:type=\"simple\"><path d=\"M152,585.21 C152,605.83 152,631.04 152,648.97 \" fill=\"none\" id=\"E8-backto-E6\" style=\"stroke:#181818;stroke-width:1.0;\"/><polygon fill=\"none\" points=\"152,572.14,148,578.14,152,584.14,156,578.14,152,572.14\" style=\"stroke:#181818;stroke-width:1.0;\"/><text fill=\"#000000\" font-family=\"sans-serif\" font-size=\"13\" lengthAdjust=\"spacing\" textLength=\"7\" x=\"153\" y=\"615.0669\">y</text></a></g><!--MD5=[23ac544a70576c3e717098101004234c]\n",
       "reverse link E9 to E10--><g id=\"link_E9_E10\"><a href=\"psysml:5a5abb4f-4a57-47f4-8d13-1f5dca85ed3b\" target=\"_top\" title=\"psysml:5a5abb4f-4a57-47f4-8d13-1f5dca85ed3b\" xlink:actuate=\"onRequest\" xlink:href=\"psysml:5a5abb4f-4a57-47f4-8d13-1f5dca85ed3b\" xlink:show=\"new\" xlink:title=\"psysml:5a5abb4f-4a57-47f4-8d13-1f5dca85ed3b\" xlink:type=\"simple\"><path d=\"M88.47,101.35 C81.47,117.29 73.39,135.68 67.18,149.83 \" fill=\"none\" id=\"E9-backto-E10\" style=\"stroke:#181818;stroke-width:1.0;\"/><polygon fill=\"none\" points=\"93.8,89.22,87.7243,93.1041,88.9729,100.2063,95.0485,96.3222,93.8,89.22\" style=\"stroke:#181818;stroke-width:1.0;\"/></a></g><!--MD5=[feeac5eb423634930294aa81f2d25a4c]\n",
       "link E10 to E3--><g id=\"link_E10_E3\"><a href=\"psysml:d7f66802-941a-4496-884a-36d82493c03e\" target=\"_top\" title=\"psysml:d7f66802-941a-4496-884a-36d82493c03e\" xlink:actuate=\"onRequest\" xlink:href=\"psysml:d7f66802-941a-4496-884a-36d82493c03e\" xlink:show=\"new\" xlink:title=\"psysml:d7f66802-941a-4496-884a-36d82493c03e\" xlink:type=\"simple\"><path d=\"M75.23,198.22 C85.46,211.26 98.51,227.88 110.28,242.87 \" fill=\"none\" id=\"E10-to-E3\" style=\"stroke:#181818;stroke-width:1.0;\"/><polygon fill=\"#FFFFFF\" points=\"122.81,258.83,105.5676,248.214,116.5764,239.565,122.81,258.83\" style=\"stroke:#181818;stroke-width:1.0;\"/><ellipse cx=\"103.6189\" cy=\"242.4963\" fill=\"#181818\" rx=\"2\" ry=\"2\" style=\"stroke:#181818;stroke-width:1.0;\"/><ellipse cx=\"111.4823\" cy=\"236.3184\" fill=\"#181818\" rx=\"2\" ry=\"2\" style=\"stroke:#181818;stroke-width:1.0;\"/></a></g><!--MD5=[1fc04a95fd77ad5ce46c1a3027516051]\n",
       "reverse link E9 to E11--><g id=\"link_E9_E11\"><a href=\"psysml:8187499b-9a51-4939-bbf5-c8a0ee670e5b\" target=\"_top\" title=\"psysml:8187499b-9a51-4939-bbf5-c8a0ee670e5b\" xlink:actuate=\"onRequest\" xlink:href=\"psysml:8187499b-9a51-4939-bbf5-c8a0ee670e5b\" xlink:show=\"new\" xlink:title=\"psysml:8187499b-9a51-4939-bbf5-c8a0ee670e5b\" xlink:type=\"simple\"><path d=\"M116.39,101.83 C121.86,117.66 128.14,135.82 132.99,149.83 \" fill=\"none\" id=\"E9-backto-E11\" style=\"stroke:#181818;stroke-width:1.0;\"/><polygon fill=\"none\" points=\"112.03,89.22,110.2077,96.1971,115.9472,100.5627,117.7695,93.5856,112.03,89.22\" style=\"stroke:#181818;stroke-width:1.0;\"/></a></g><!--MD5=[0517f1ce58c4d5483948f93845c45e26]\n",
       "link E11 to E3--><g id=\"link_E11_E3\"><a href=\"psysml:ca7307c2-0235-4c1e-8766-bbb66b330e4f\" target=\"_top\" title=\"psysml:ca7307c2-0235-4c1e-8766-bbb66b330e4f\" xlink:actuate=\"onRequest\" xlink:href=\"psysml:ca7307c2-0235-4c1e-8766-bbb66b330e4f\" xlink:show=\"new\" xlink:title=\"psysml:ca7307c2-0235-4c1e-8766-bbb66b330e4f\" xlink:type=\"simple\"><path d=\"M141,198.22 C141,210 141,224.69 141,238.48 \" fill=\"none\" id=\"E11-to-E3\" style=\"stroke:#181818;stroke-width:1.0;\"/><polygon fill=\"#FFFFFF\" points=\"141,258.83,134,239.83,148,239.83,141,258.83\" style=\"stroke:#181818;stroke-width:1.0;\"/><ellipse cx=\"136\" cy=\"234.13\" fill=\"#181818\" rx=\"2\" ry=\"2\" style=\"stroke:#181818;stroke-width:1.0;\"/><ellipse cx=\"146\" cy=\"234.13\" fill=\"#181818\" rx=\"2\" ry=\"2\" style=\"stroke:#181818;stroke-width:1.0;\"/></a></g><!--MD5=[dd4a773e813091cad2f38e5ccc559635]\n",
       "@startuml\r\n",
       "skin sysmlc\r\n",
       "skinparam wrapWidth 300\r\n",
       "hide circle\r\n",
       "\r\n",
       "package \"ItemTest\" as E1  [[psysml:cd87d2b7-4fa1-4c1b-a4f6-af691b0dec58 ]]  {\r\n",
       "comp usage \"f: A  \" as E2  <<(T,blue) item>> [[psysml:a6e7d788-746b-466d-b844-23a78300b1ae ]] {\r\n",
       "}\r\n",
       "comp def \"A\" as E3  <<(T,blue) item  def>> [[psysml:7645df02-ea24-41fb-927b-82e0988a44f2 ]] {\r\n",
       "}\r\n",
       "comp usage \"b: B  \" as E4  <<(T,blue) item>> [[psysml:426ed2e2-6591-4c8f-a505-52d546190911 ]] {\r\n",
       "}\r\n",
       "comp usage \"c: C  \" as E5  <<(T,blue) part>> [[psysml:331ec08e-03d4-4ef2-9768-da2cb6dfa326 ]] {\r\n",
       "}\r\n",
       "comp def \"<i>B</i>\" as E6  <<(T,blue) item  def>> [[psysml:1c5a109b-6d3b-4425-b763-85184515822e ]] {\r\n",
       "}\r\n",
       "comp usage \"<i>a</i>: A  \" as E7  <<(T,blue) part>> [[psysml:3d3f18ff-1114-439a-91a9-78796a10458c ]] {\r\n",
       "}\r\n",
       "comp def \"C\" as E8  <<(T,blue) part  def>> [[psysml:1568c6af-b382-4c7f-b02a-0d87dd86c0f5 ]] {\r\n",
       "}\r\n",
       "comp def \"P\" as E9  <<(T,blue) port  def>> [[psysml:7b3481ba-f47b-4c12-87df-4d6f620e6d00 ]] {\r\n",
       "}\r\n",
       "comp usage \"a1: A  \" as E10  <<(T,blue) item>> [[psysml:116f794f-fd18-4d42-8d94-9abf783d43f0 ]] {\r\n",
       "}\r\n",
       "comp usage \"a2: A  \" as E11  <<(T,blue) item>> [[psysml:16572df6-eec3-489a-80d1-3b65de425cbd ]] {\r\n",
       "}\r\n",
       "}\r\n",
       "E2 - -:|> E3 [[psysml:70c9c3cf-ded5-4fad-940c-650d810049d2 ]] \r\n",
       "E3 *- - E4 [[psysml:1e28e0ed-b5c0-4fac-98b2-855fbe266c1f ]] \r\n",
       "E3 o- - E5 [[psysml:b5974af5-b28c-458b-89e4-95d46de68236 ]] \r\n",
       "E4 - -:|> E6 [[psysml:83940360-bfcd-4ab6-95b9-9006ad1a30a4 ]] \r\n",
       "E6 *- - E7 [[psysml:c7c30ff0-7abe-445a-9147-4c620b104f3e ]] \r\n",
       "E7 - -:|> E3 [[psysml:4a79bdb3-77e8-4e9c-befa-ce9a0c7716db ]] \r\n",
       "E5 - -:|> E8 [[psysml:d776694e-c79b-404c-b561-ae1c1a2e3f3d ]] \r\n",
       "E8 o- - E3 [[psysml:c4551329-8b56-4fd0-9fbf-f2d280f6b39b ]] : y\r\n",
       "E8 o- - E6 [[psysml:c4551329-8b56-4fd0-9fbf-f2d280f6b39b ]] : y\r\n",
       "E9 o- - E10 [[psysml:5a5abb4f-4a57-47f4-8d13-1f5dca85ed3b ]] \r\n",
       "E10 - -:|> E3 [[psysml:d7f66802-941a-4496-884a-36d82493c03e ]] \r\n",
       "E9 o- - E11 [[psysml:8187499b-9a51-4939-bbf5-c8a0ee670e5b ]] \r\n",
       "E11 - -:|> E3 [[psysml:ca7307c2-0235-4c1e-8766-bbb66b330e4f ]] \r\n",
       "@enduml\r\n",
       "\n",
       "PlantUML version 1.2022.7(Mon Aug 22 17:01:30 UTC 2022)\n",
       "(EPL source distribution)\n",
       "Java Runtime: OpenJDK Runtime Environment\n",
       "JVM: OpenJDK 64-Bit Server VM\n",
       "Default Encoding: UTF-8\n",
       "Language: en\n",
       "Country: null\n",
       "--></g></svg>"
      ]
     },
     "execution_count": 29,
     "metadata": {},
     "output_type": "execute_result"
    }
   ],
   "source": [
    "%viz --style=\"STDCOLOR\" --view=\"MIXED\" \"ItemTest\""
   ]
  },
  {
   "cell_type": "code",
   "execution_count": 30,
   "id": "9226e1fd",
   "metadata": {
    "execution": {
     "iopub.execute_input": "2024-12-16T14:15:17.495183Z",
     "iopub.status.busy": "2024-12-16T14:15:17.494848Z",
     "iopub.status.idle": "2024-12-16T14:15:17.634988Z",
     "shell.execute_reply": "2024-12-16T14:15:17.634010Z"
    }
   },
   "outputs": [
    {
     "data": {
      "image/svg+xml": [
       "<?xml version=\"1.0\" encoding=\"UTF-8\" standalone=\"no\"?><svg xmlns=\"http://www.w3.org/2000/svg\" xmlns:xlink=\"http://www.w3.org/1999/xlink\" contentStyleType=\"text/css\" height=\"789px\" preserveAspectRatio=\"none\" style=\"width:327px;height:789px;background:#FFFFFF;\" version=\"1.1\" viewBox=\"0 0 327 789\" width=\"327px\" zoomAndPan=\"magnify\"><defs/><g><!--MD5=[fbc87193dbaf4d95561dea2c320d4a47]\n",
       "cluster E1--><g id=\"cluster_E1\"><a href=\"psysml:cd87d2b7-4fa1-4c1b-a4f6-af691b0dec58\" target=\"_top\" title=\"psysml:cd87d2b7-4fa1-4c1b-a4f6-af691b0dec58\" xlink:actuate=\"onRequest\" xlink:href=\"psysml:cd87d2b7-4fa1-4c1b-a4f6-af691b0dec58\" xlink:show=\"new\" xlink:title=\"psysml:cd87d2b7-4fa1-4c1b-a4f6-af691b0dec58\" xlink:type=\"simple\"><path d=\"M8.5,6 L74,6 A3.75,3.75 0 0 1 76.5,8.5 L83.5,28.2969 L317.5,28.2969 A2.5,2.5 0 0 1 320,30.7969 L320,779.5 A2.5,2.5 0 0 1 317.5,782 L8.5,782 A2.5,2.5 0 0 1 6,779.5 L6,8.5 A2.5,2.5 0 0 1 8.5,6 \" fill=\"none\" style=\"stroke:#000000;stroke-width:1.5;\"/><line style=\"stroke:#000000;stroke-width:1.5;\" x1=\"6\" x2=\"83.5\" y1=\"28.2969\" y2=\"28.2969\"/><text fill=\"#000000\" font-family=\"sans-serif\" font-size=\"14\" font-weight=\"bold\" lengthAdjust=\"spacing\" textLength=\"64.5\" x=\"10\" y=\"20.9951\">ItemTest</text></a></g><!--MD5=[b4997ac47864f28c2f74865a473b2911]\n",
       "class E2--><a href=\"psysml:a6e7d788-746b-466d-b844-23a78300b1ae\" target=\"_top\" title=\"psysml:a6e7d788-746b-466d-b844-23a78300b1ae\" xlink:actuate=\"onRequest\" xlink:href=\"psysml:a6e7d788-746b-466d-b844-23a78300b1ae\" xlink:show=\"new\" xlink:title=\"psysml:a6e7d788-746b-466d-b844-23a78300b1ae\" xlink:type=\"simple\"><g id=\"elem_E2\"><rect fill=\"#F1F1F1\" height=\"40\" id=\"E2\" rx=\"10\" ry=\"10\" style=\"stroke:#181818;stroke-width:0.5;\" width=\"62\" x=\"242\" y=\"150\"/><ellipse cx=\"257\" cy=\"166\" fill=\"#32CD32\" rx=\"11\" ry=\"11\" style=\"stroke:#181818;stroke-width:1.0;\"/><path d=\"M253.8594,172.5 L253.8594,160.3594 L257.8906,160.3594 Q259.9844,160.3594 261,161.3438 Q262.0156,162.3125 262.0156,164.1406 Q262.0156,165.3438 261.5781,166.25 Q261.1563,167.1563 260.2031,167.6719 Q259.2656,168.1875 257.7344,168.1875 L256.2344,168.1875 L256.2344,172.5 L253.8594,172.5 Z M257.4844,166.0938 Q258.5313,166.0938 259.0469,165.6094 Q259.5781,165.125 259.5781,164.2344 Q259.5781,163.3438 259.1406,162.9063 Q258.7188,162.4531 257.7969,162.4531 L256.2344,162.4531 L256.2344,166.0938 L257.4844,166.0938 Z \" fill=\"#000000\"/><text fill=\"#000000\" font-family=\"sans-serif\" font-size=\"14\" lengthAdjust=\"spacing\" textLength=\"22\" x=\"271\" y=\"170.8467\">f: A</text><line style=\"stroke:#181818;stroke-width:0.5;\" x1=\"243\" x2=\"303\" y1=\"182\" y2=\"182\"/></g></a><!--MD5=[09b614a08d8cba4a07c9adeb5e0fee81]\n",
       "class E3--><a href=\"psysml:7645df02-ea24-41fb-927b-82e0988a44f2\" target=\"_top\" title=\"psysml:7645df02-ea24-41fb-927b-82e0988a44f2\" xlink:actuate=\"onRequest\" xlink:href=\"psysml:7645df02-ea24-41fb-927b-82e0988a44f2\" xlink:show=\"new\" xlink:title=\"psysml:7645df02-ea24-41fb-927b-82e0988a44f2\" xlink:type=\"simple\"><g id=\"elem_E3\"><rect fill=\"#F1F1F1\" height=\"40\" id=\"E3\" rx=\"2.5\" ry=\"2.5\" style=\"stroke:#181818;stroke-width:0.5;\" width=\"41\" x=\"148.5\" y=\"251\"/><ellipse cx=\"163.5\" cy=\"267\" fill=\"#008000\" rx=\"11\" ry=\"11\" style=\"stroke:#181818;stroke-width:1.0;\"/><path d=\"M160.3594,273.5 L160.3594,261.3594 L164.1563,261.3594 Q166.1563,261.3594 167.2031,262.0625 Q168.2656,262.7656 168.2656,264.3438 Q168.2656,265.4375 167.7656,266.1563 Q167.2813,266.875 166.4531,267.0625 L166.4531,267.1406 Q167.375,267.3594 167.9375,268.0313 Q168.5156,268.6875 168.5156,269.9531 Q168.5156,271.6094 167.4688,272.5625 Q166.4219,273.5 164.5625,273.5 L160.3594,273.5 Z M164.1406,266.1406 Q165.0313,266.1406 165.3906,265.8125 Q165.7656,265.4688 165.7656,264.7656 Q165.7656,264.0313 165.375,263.7188 Q164.9844,263.3906 164.0469,263.3906 L162.6563,263.3906 L162.6563,266.1406 L164.1406,266.1406 Z M164.3281,271.4844 Q165.2344,271.4844 165.5938,271.0469 Q165.9531,270.5938 165.9531,269.8125 Q165.9531,269.0313 165.5781,268.6406 Q165.2188,268.2344 164.2344,268.2344 L162.6563,268.2344 L162.6563,271.4844 L164.3281,271.4844 Z \" fill=\"#000000\"/><text fill=\"#000000\" font-family=\"sans-serif\" font-size=\"14\" lengthAdjust=\"spacing\" textLength=\"9\" x=\"177.5\" y=\"271.8467\">A</text><line style=\"stroke:#181818;stroke-width:0.5;\" x1=\"149.5\" x2=\"188.5\" y1=\"283\" y2=\"283\"/></g></a><!--MD5=[ebbe1d658d1005bcc118a6aa81145e00]\n",
       "class E4--><a href=\"psysml:426ed2e2-6591-4c8f-a505-52d546190911\" target=\"_top\" title=\"psysml:426ed2e2-6591-4c8f-a505-52d546190911\" xlink:actuate=\"onRequest\" xlink:href=\"psysml:426ed2e2-6591-4c8f-a505-52d546190911\" xlink:show=\"new\" xlink:title=\"psysml:426ed2e2-6591-4c8f-a505-52d546190911\" xlink:type=\"simple\"><g id=\"elem_E4\"><rect fill=\"#F1F1F1\" height=\"40\" id=\"E4\" rx=\"10\" ry=\"10\" style=\"stroke:#181818;stroke-width:0.5;\" width=\"68\" x=\"50\" y=\"430\"/><ellipse cx=\"65\" cy=\"446\" fill=\"#32CD32\" rx=\"11\" ry=\"11\" style=\"stroke:#181818;stroke-width:1.0;\"/><path d=\"M61.8594,452.5 L61.8594,440.3594 L65.8906,440.3594 Q67.9844,440.3594 69,441.3438 Q70.0156,442.3125 70.0156,444.1406 Q70.0156,445.3438 69.5781,446.25 Q69.1563,447.1563 68.2031,447.6719 Q67.2656,448.1875 65.7344,448.1875 L64.2344,448.1875 L64.2344,452.5 L61.8594,452.5 Z M65.4844,446.0938 Q66.5313,446.0938 67.0469,445.6094 Q67.5781,445.125 67.5781,444.2344 Q67.5781,443.3438 67.1406,442.9063 Q66.7188,442.4531 65.7969,442.4531 L64.2344,442.4531 L64.2344,446.0938 L65.4844,446.0938 Z \" fill=\"#000000\"/><text fill=\"#000000\" font-family=\"sans-serif\" font-size=\"14\" lengthAdjust=\"spacing\" textLength=\"28\" x=\"79\" y=\"450.8467\">b: B</text><line style=\"stroke:#181818;stroke-width:0.5;\" x1=\"51\" x2=\"117\" y1=\"462\" y2=\"462\"/></g></a><!--MD5=[270fce915f116d4de14055a7c1d9a0f3]\n",
       "class E5--><a href=\"psysml:331ec08e-03d4-4ef2-9768-da2cb6dfa326\" target=\"_top\" title=\"psysml:331ec08e-03d4-4ef2-9768-da2cb6dfa326\" xlink:actuate=\"onRequest\" xlink:href=\"psysml:331ec08e-03d4-4ef2-9768-da2cb6dfa326\" xlink:show=\"new\" xlink:title=\"psysml:331ec08e-03d4-4ef2-9768-da2cb6dfa326\" xlink:type=\"simple\"><g id=\"elem_E5\"><rect fill=\"#F1F1F1\" height=\"48.2656\" id=\"E5\" rx=\"10\" ry=\"10\" style=\"stroke:#181818;stroke-width:0.5;\" width=\"68\" x=\"183\" y=\"352\"/><ellipse cx=\"198\" cy=\"372.1328\" fill=\"#32CD32\" rx=\"11\" ry=\"11\" style=\"stroke:#181818;stroke-width:1.0;\"/><path d=\"M194.8594,378.6328 L194.8594,366.4922 L198.8906,366.4922 Q200.9844,366.4922 202,367.4766 Q203.0156,368.4453 203.0156,370.2734 Q203.0156,371.4766 202.5781,372.3828 Q202.1563,373.2891 201.2031,373.8047 Q200.2656,374.3203 198.7344,374.3203 L197.2344,374.3203 L197.2344,378.6328 L194.8594,378.6328 Z M198.4844,372.2266 Q199.5313,372.2266 200.0469,371.7422 Q200.5781,371.2578 200.5781,370.3672 Q200.5781,369.4766 200.1406,369.0391 Q199.7188,368.5859 198.7969,368.5859 L197.2344,368.5859 L197.2344,372.2266 L198.4844,372.2266 Z \" fill=\"#000000\"/><text fill=\"#000000\" font-family=\"sans-serif\" font-size=\"12\" font-style=\"italic\" lengthAdjust=\"spacing\" textLength=\"40\" x=\"210\" y=\"368.1387\">«part»</text><text fill=\"#000000\" font-family=\"sans-serif\" font-size=\"14\" lengthAdjust=\"spacing\" textLength=\"27\" x=\"212.5\" y=\"383.9639\">c: C</text><line style=\"stroke:#181818;stroke-width:0.5;\" x1=\"184\" x2=\"250\" y1=\"392.2656\" y2=\"392.2656\"/></g></a><!--MD5=[60a26617385b1d2d0262a64233df1f8d]\n",
       "class E6--><a href=\"psysml:1c5a109b-6d3b-4425-b763-85184515822e\" target=\"_top\" title=\"psysml:1c5a109b-6d3b-4425-b763-85184515822e\" xlink:actuate=\"onRequest\" xlink:href=\"psysml:1c5a109b-6d3b-4425-b763-85184515822e\" xlink:show=\"new\" xlink:title=\"psysml:1c5a109b-6d3b-4425-b763-85184515822e\" xlink:type=\"simple\"><g id=\"elem_E6\"><rect fill=\"#F1F1F1\" height=\"40\" id=\"E6\" rx=\"2.5\" ry=\"2.5\" style=\"stroke:#181818;stroke-width:0.5;\" width=\"42\" x=\"139\" y=\"617\"/><ellipse cx=\"154\" cy=\"633\" fill=\"#008000\" rx=\"11\" ry=\"11\" style=\"stroke:#181818;stroke-width:1.0;\"/><path d=\"M150.8594,639.5 L150.8594,627.3594 L154.6563,627.3594 Q156.6563,627.3594 157.7031,628.0625 Q158.7656,628.7656 158.7656,630.3438 Q158.7656,631.4375 158.2656,632.1563 Q157.7813,632.875 156.9531,633.0625 L156.9531,633.1406 Q157.875,633.3594 158.4375,634.0313 Q159.0156,634.6875 159.0156,635.9531 Q159.0156,637.6094 157.9688,638.5625 Q156.9219,639.5 155.0625,639.5 L150.8594,639.5 Z M154.6406,632.1406 Q155.5313,632.1406 155.8906,631.8125 Q156.2656,631.4688 156.2656,630.7656 Q156.2656,630.0313 155.875,629.7188 Q155.4844,629.3906 154.5469,629.3906 L153.1563,629.3906 L153.1563,632.1406 L154.6406,632.1406 Z M154.8281,637.4844 Q155.7344,637.4844 156.0938,637.0469 Q156.4531,636.5938 156.4531,635.8125 Q156.4531,635.0313 156.0781,634.6406 Q155.7188,634.2344 154.7344,634.2344 L153.1563,634.2344 L153.1563,637.4844 L154.8281,637.4844 Z \" fill=\"#000000\"/><text fill=\"#000000\" font-family=\"sans-serif\" font-size=\"14\" font-style=\"italic\" lengthAdjust=\"spacing\" textLength=\"10\" x=\"168\" y=\"637.8467\">B</text><line style=\"stroke:#181818;stroke-width:0.5;\" x1=\"140\" x2=\"180\" y1=\"649\" y2=\"649\"/></g></a><!--MD5=[2156ba9850f5573cc1fc38a6a4b2f02b]\n",
       "class E7--><a href=\"psysml:3d3f18ff-1114-439a-91a9-78796a10458c\" target=\"_top\" title=\"psysml:3d3f18ff-1114-439a-91a9-78796a10458c\" xlink:actuate=\"onRequest\" xlink:href=\"psysml:3d3f18ff-1114-439a-91a9-78796a10458c\" xlink:show=\"new\" xlink:title=\"psysml:3d3f18ff-1114-439a-91a9-78796a10458c\" xlink:type=\"simple\"><g id=\"elem_E7\"><rect fill=\"#F1F1F1\" height=\"48.2656\" id=\"E7\" rx=\"10\" ry=\"10\" style=\"stroke:#181818;stroke-width:0.5;\" width=\"68\" x=\"218\" y=\"718\"/><ellipse cx=\"233\" cy=\"738.1328\" fill=\"#32CD32\" rx=\"11\" ry=\"11\" style=\"stroke:#181818;stroke-width:1.0;\"/><path d=\"M229.8594,744.6328 L229.8594,732.4922 L233.8906,732.4922 Q235.9844,732.4922 237,733.4766 Q238.0156,734.4453 238.0156,736.2734 Q238.0156,737.4766 237.5781,738.3828 Q237.1563,739.2891 236.2031,739.8047 Q235.2656,740.3203 233.7344,740.3203 L232.2344,740.3203 L232.2344,744.6328 L229.8594,744.6328 Z M233.4844,738.2266 Q234.5313,738.2266 235.0469,737.7422 Q235.5781,737.2578 235.5781,736.3672 Q235.5781,735.4766 235.1406,735.0391 Q234.7188,734.5859 233.7969,734.5859 L232.2344,734.5859 L232.2344,738.2266 L233.4844,738.2266 Z \" fill=\"#000000\"/><text fill=\"#000000\" font-family=\"sans-serif\" font-size=\"12\" font-style=\"italic\" lengthAdjust=\"spacing\" textLength=\"40\" x=\"245\" y=\"734.1387\">«part»</text><text fill=\"#000000\" font-family=\"sans-serif\" font-size=\"14\" font-style=\"italic\" lengthAdjust=\"spacing\" textLength=\"8\" x=\"248\" y=\"749.9639\">a</text><text fill=\"#000000\" font-family=\"sans-serif\" font-size=\"14\" lengthAdjust=\"spacing\" textLength=\"18\" x=\"256\" y=\"749.9639\">: A</text><line style=\"stroke:#181818;stroke-width:0.5;\" x1=\"219\" x2=\"285\" y1=\"758.2656\" y2=\"758.2656\"/></g></a><!--MD5=[b9389687b975829384b498ac4b7476b2]\n",
       "class E8--><a href=\"psysml:1568c6af-b382-4c7f-b02a-0d87dd86c0f5\" target=\"_top\" title=\"psysml:1568c6af-b382-4c7f-b02a-0d87dd86c0f5\" xlink:actuate=\"onRequest\" xlink:href=\"psysml:1568c6af-b382-4c7f-b02a-0d87dd86c0f5\" xlink:show=\"new\" xlink:title=\"psysml:1568c6af-b382-4c7f-b02a-0d87dd86c0f5\" xlink:type=\"simple\"><g id=\"elem_E8\"><rect fill=\"#F1F1F1\" height=\"40\" id=\"E8\" rx=\"2.5\" ry=\"2.5\" style=\"stroke:#181818;stroke-width:0.5;\" width=\"42\" x=\"139\" y=\"500\"/><ellipse cx=\"154\" cy=\"516\" fill=\"#008000\" rx=\"11\" ry=\"11\" style=\"stroke:#181818;stroke-width:1.0;\"/><path d=\"M150.8594,522.5 L150.8594,510.3594 L154.6563,510.3594 Q156.6563,510.3594 157.7031,511.0625 Q158.7656,511.7656 158.7656,513.3438 Q158.7656,514.4375 158.2656,515.1563 Q157.7813,515.875 156.9531,516.0625 L156.9531,516.1406 Q157.875,516.3594 158.4375,517.0313 Q159.0156,517.6875 159.0156,518.9531 Q159.0156,520.6094 157.9688,521.5625 Q156.9219,522.5 155.0625,522.5 L150.8594,522.5 Z M154.6406,515.1406 Q155.5313,515.1406 155.8906,514.8125 Q156.2656,514.4688 156.2656,513.7656 Q156.2656,513.0313 155.875,512.7188 Q155.4844,512.3906 154.5469,512.3906 L153.1563,512.3906 L153.1563,515.1406 L154.6406,515.1406 Z M154.8281,520.4844 Q155.7344,520.4844 156.0938,520.0469 Q156.4531,519.5938 156.4531,518.8125 Q156.4531,518.0313 156.0781,517.6406 Q155.7188,517.2344 154.7344,517.2344 L153.1563,517.2344 L153.1563,520.4844 L154.8281,520.4844 Z \" fill=\"#000000\"/><text fill=\"#000000\" font-family=\"sans-serif\" font-size=\"14\" lengthAdjust=\"spacing\" textLength=\"10\" x=\"168\" y=\"520.8467\">C</text><line style=\"stroke:#181818;stroke-width:0.5;\" x1=\"140\" x2=\"180\" y1=\"532\" y2=\"532\"/></g></a><!--MD5=[fd4143e9d270a159db93a4ea2a975926]\n",
       "class E9--><a href=\"psysml:7b3481ba-f47b-4c12-87df-4d6f620e6d00\" target=\"_top\" title=\"psysml:7b3481ba-f47b-4c12-87df-4d6f620e6d00\" xlink:actuate=\"onRequest\" xlink:href=\"psysml:7b3481ba-f47b-4c12-87df-4d6f620e6d00\" xlink:show=\"new\" xlink:title=\"psysml:7b3481ba-f47b-4c12-87df-4d6f620e6d00\" xlink:type=\"simple\"><g id=\"elem_E9\"><rect fill=\"#F1F1F1\" height=\"48.2656\" id=\"E9\" rx=\"2.5\" ry=\"2.5\" style=\"stroke:#181818;stroke-width:0.5;\" width=\"96\" x=\"71\" y=\"41\"/><ellipse cx=\"86\" cy=\"61.1328\" fill=\"#A52A2A\" rx=\"11\" ry=\"11\" style=\"stroke:#181818;stroke-width:1.0;\"/><path d=\"M82.7656,67.6328 L82.7656,55.4922 L86.5156,55.4922 Q88.8906,55.4922 90.2813,57.0078 Q91.6875,58.5078 91.6875,61.4609 Q91.6875,64.4297 90.25,66.0391 Q88.8125,67.6328 86.3281,67.6328 L82.7656,67.6328 Z M86.2031,65.5391 Q87.75,65.5391 88.4688,64.5391 Q89.1875,63.5391 89.1875,61.4766 Q89.1875,59.4453 88.4844,58.5234 Q87.7969,57.5859 86.4063,57.5859 L85.2031,57.5859 L85.2031,65.5391 L86.2031,65.5391 Z \" fill=\"#000000\"/><text fill=\"#000000\" font-family=\"sans-serif\" font-size=\"12\" font-style=\"italic\" lengthAdjust=\"spacing\" textLength=\"68\" x=\"98\" y=\"57.1387\">«port  def»</text><text fill=\"#000000\" font-family=\"sans-serif\" font-size=\"14\" lengthAdjust=\"spacing\" textLength=\"9\" x=\"127.5\" y=\"72.9639\">P</text><line style=\"stroke:#181818;stroke-width:0.5;\" x1=\"72\" x2=\"166\" y1=\"81.2656\" y2=\"81.2656\"/></g></a><!--MD5=[96f4274e9e20536e775497830990834d]\n",
       "class E10--><a href=\"psysml:116f794f-fd18-4d42-8d94-9abf783d43f0\" target=\"_top\" title=\"psysml:116f794f-fd18-4d42-8d94-9abf783d43f0\" xlink:actuate=\"onRequest\" xlink:href=\"psysml:116f794f-fd18-4d42-8d94-9abf783d43f0\" xlink:show=\"new\" xlink:title=\"psysml:116f794f-fd18-4d42-8d94-9abf783d43f0\" xlink:type=\"simple\"><g id=\"elem_E10\"><rect fill=\"#F1F1F1\" height=\"40\" id=\"E10\" rx=\"10\" ry=\"10\" style=\"stroke:#181818;stroke-width:0.5;\" width=\"75\" x=\"21.5\" y=\"150\"/><ellipse cx=\"36.5\" cy=\"166\" fill=\"#32CD32\" rx=\"11\" ry=\"11\" style=\"stroke:#181818;stroke-width:1.0;\"/><path d=\"M33.3594,172.5 L33.3594,160.3594 L37.3906,160.3594 Q39.4844,160.3594 40.5,161.3438 Q41.5156,162.3125 41.5156,164.1406 Q41.5156,165.3438 41.0781,166.25 Q40.6563,167.1563 39.7031,167.6719 Q38.7656,168.1875 37.2344,168.1875 L35.7344,168.1875 L35.7344,172.5 L33.3594,172.5 Z M36.9844,166.0938 Q38.0313,166.0938 38.5469,165.6094 Q39.0781,165.125 39.0781,164.2344 Q39.0781,163.3438 38.6406,162.9063 Q38.2188,162.4531 37.2969,162.4531 L35.7344,162.4531 L35.7344,166.0938 L36.9844,166.0938 Z \" fill=\"#000000\"/><text fill=\"#000000\" font-family=\"sans-serif\" font-size=\"14\" lengthAdjust=\"spacing\" textLength=\"35\" x=\"50.5\" y=\"170.8467\">a1: A</text><line style=\"stroke:#181818;stroke-width:0.5;\" x1=\"22.5\" x2=\"95.5\" y1=\"182\" y2=\"182\"/></g></a><!--MD5=[1dd1bfd58a279cf63c5f349dbc8fc6a1]\n",
       "class E11--><a href=\"psysml:16572df6-eec3-489a-80d1-3b65de425cbd\" target=\"_top\" title=\"psysml:16572df6-eec3-489a-80d1-3b65de425cbd\" xlink:actuate=\"onRequest\" xlink:href=\"psysml:16572df6-eec3-489a-80d1-3b65de425cbd\" xlink:show=\"new\" xlink:title=\"psysml:16572df6-eec3-489a-80d1-3b65de425cbd\" xlink:type=\"simple\"><g id=\"elem_E11\"><rect fill=\"#F1F1F1\" height=\"40\" id=\"E11\" rx=\"10\" ry=\"10\" style=\"stroke:#181818;stroke-width:0.5;\" width=\"75\" x=\"131.5\" y=\"150\"/><ellipse cx=\"146.5\" cy=\"166\" fill=\"#32CD32\" rx=\"11\" ry=\"11\" style=\"stroke:#181818;stroke-width:1.0;\"/><path d=\"M143.3594,172.5 L143.3594,160.3594 L147.3906,160.3594 Q149.4844,160.3594 150.5,161.3438 Q151.5156,162.3125 151.5156,164.1406 Q151.5156,165.3438 151.0781,166.25 Q150.6563,167.1563 149.7031,167.6719 Q148.7656,168.1875 147.2344,168.1875 L145.7344,168.1875 L145.7344,172.5 L143.3594,172.5 Z M146.9844,166.0938 Q148.0313,166.0938 148.5469,165.6094 Q149.0781,165.125 149.0781,164.2344 Q149.0781,163.3438 148.6406,162.9063 Q148.2188,162.4531 147.2969,162.4531 L145.7344,162.4531 L145.7344,166.0938 L146.9844,166.0938 Z \" fill=\"#000000\"/><text fill=\"#000000\" font-family=\"sans-serif\" font-size=\"14\" lengthAdjust=\"spacing\" textLength=\"35\" x=\"160.5\" y=\"170.8467\">a2: A</text><line style=\"stroke:#181818;stroke-width:0.5;\" x1=\"132.5\" x2=\"205.5\" y1=\"182\" y2=\"182\"/></g></a><!--MD5=[2720a5a1f2c3fca2055b230370638851]\n",
       "link E2 to E3--><g id=\"link_E2_E3\"><a href=\"psysml:70c9c3cf-ded5-4fad-940c-650d810049d2\" target=\"_top\" title=\"psysml:70c9c3cf-ded5-4fad-940c-650d810049d2\" xlink:actuate=\"onRequest\" xlink:href=\"psysml:70c9c3cf-ded5-4fad-940c-650d810049d2\" xlink:show=\"new\" xlink:title=\"psysml:70c9c3cf-ded5-4fad-940c-650d810049d2\" xlink:type=\"simple\"><path d=\"M252.95,190.09 C238.99,203.37 220.02,221.43 203.65,237.02 \" fill=\"none\" id=\"E2-to-E3\" style=\"stroke:#181818;stroke-width:1.0;\"/><polygon fill=\"#FFFFFF\" points=\"188.99,250.97,197.9277,232.8009,207.5792,242.9424,188.99,250.97\" style=\"stroke:#181818;stroke-width:1.0;\"/><ellipse cx=\"203.4356\" cy=\"230.3202\" fill=\"#181818\" rx=\"2\" ry=\"2\" style=\"stroke:#181818;stroke-width:1.0;\"/><ellipse cx=\"210.3294\" cy=\"237.5641\" fill=\"#181818\" rx=\"2\" ry=\"2\" style=\"stroke:#181818;stroke-width:1.0;\"/></a></g><!--MD5=[4672eba38e49728da53d11aeb285b987]\n",
       "reverse link E3 to E4--><g id=\"link_E3_E4\"><a href=\"psysml:1e28e0ed-b5c0-4fac-98b2-855fbe266c1f\" target=\"_top\" title=\"psysml:1e28e0ed-b5c0-4fac-98b2-855fbe266c1f\" xlink:actuate=\"onRequest\" xlink:href=\"psysml:1e28e0ed-b5c0-4fac-98b2-855fbe266c1f\" xlink:show=\"new\" xlink:title=\"psysml:1e28e0ed-b5c0-4fac-98b2-855fbe266c1f\" xlink:type=\"simple\"><path d=\"M138.52,297.03 C123.14,311.43 105.74,330.84 96,352 C84.44,377.13 82.73,409.58 83.02,429.84 \" fill=\"none\" id=\"E3-backto-E4\" style=\"stroke:#181818;stroke-width:1.0;\"/><polygon fill=\"#181818\" points=\"148.22,288.32,141.0825,289.3478,139.2861,296.3315,146.4236,295.3038,148.22,288.32\" style=\"stroke:#181818;stroke-width:1.0;\"/></a></g><!--MD5=[191cde3d490a3f6d7bb551fe3ddca469]\n",
       "reverse link E3 to E5--><g id=\"link_E3_E5\"><a href=\"psysml:b5974af5-b28c-458b-89e4-95d46de68236\" target=\"_top\" title=\"psysml:b5974af5-b28c-458b-89e4-95d46de68236\" xlink:actuate=\"onRequest\" xlink:href=\"psysml:b5974af5-b28c-458b-89e4-95d46de68236\" xlink:show=\"new\" xlink:title=\"psysml:b5974af5-b28c-458b-89e4-95d46de68236\" xlink:type=\"simple\"><path d=\"M183.72,303.6 C190.96,319.13 199.53,337.52 206.16,351.75 \" fill=\"none\" id=\"E3-backto-E5\" style=\"stroke:#181818;stroke-width:1.0;\"/><polygon fill=\"none\" points=\"178.03,291.37,176.9459,298.4991,183.1097,302.2418,184.1938,295.1127,178.03,291.37\" style=\"stroke:#181818;stroke-width:1.0;\"/></a></g><!--MD5=[79568f1e445c3877b6a54524624ccc7d]\n",
       "link E4 to E6--><g id=\"link_E4_E6\"><a href=\"psysml:83940360-bfcd-4ab6-95b9-9006ad1a30a4\" target=\"_top\" title=\"psysml:83940360-bfcd-4ab6-95b9-9006ad1a30a4\" xlink:actuate=\"onRequest\" xlink:href=\"psysml:83940360-bfcd-4ab6-95b9-9006ad1a30a4\" xlink:show=\"new\" xlink:title=\"psysml:83940360-bfcd-4ab6-95b9-9006ad1a30a4\" xlink:type=\"simple\"><path d=\"M91.85,470.1 C104.19,500.15 128.39,559.04 144.37,597.96 \" fill=\"none\" id=\"E4-to-E6\" style=\"stroke:#181818;stroke-width:1.0;\"/><polygon fill=\"#FFFFFF\" points=\"152.08,616.73,138.3852,601.8152,151.335,596.4953,152.08,616.73\" style=\"stroke:#181818;stroke-width:1.0;\"/><ellipse cx=\"138.0692\" cy=\"595.7828\" fill=\"#181818\" rx=\"2\" ry=\"2\" style=\"stroke:#181818;stroke-width:1.0;\"/><ellipse cx=\"147.3191\" cy=\"591.9828\" fill=\"#181818\" rx=\"2\" ry=\"2\" style=\"stroke:#181818;stroke-width:1.0;\"/></a></g><!--MD5=[3f50a3473f1dfb74d3f76443e03635af]\n",
       "reverse link E6 to E7--><g id=\"link_E6_E7\"><a href=\"psysml:c7c30ff0-7abe-445a-9147-4c620b104f3e\" target=\"_top\" title=\"psysml:c7c30ff0-7abe-445a-9147-4c620b104f3e\" xlink:actuate=\"onRequest\" xlink:href=\"psysml:c7c30ff0-7abe-445a-9147-4c620b104f3e\" xlink:show=\"new\" xlink:title=\"psysml:c7c30ff0-7abe-445a-9147-4c620b104f3e\" xlink:type=\"simple\"><path d=\"M186.16,667.29 C200.45,683.28 217.89,702.81 231.23,717.75 \" fill=\"none\" id=\"E6-backto-E7\" style=\"stroke:#181818;stroke-width:1.0;\"/><polygon fill=\"#181818\" points=\"177.3,657.37,178.3109,664.5099,185.2904,666.3229,184.2795,659.183,177.3,657.37\" style=\"stroke:#181818;stroke-width:1.0;\"/></a></g><!--MD5=[14ccda38c055a5c0da953d572bc50960]\n",
       "link E7 to E3--><g id=\"link_E7_E3\"><a href=\"psysml:4a79bdb3-77e8-4e9c-befa-ce9a0c7716db\" target=\"_top\" title=\"psysml:4a79bdb3-77e8-4e9c-befa-ce9a0c7716db\" xlink:actuate=\"onRequest\" xlink:href=\"psysml:4a79bdb3-77e8-4e9c-befa-ce9a0c7716db\" xlink:show=\"new\" xlink:title=\"psysml:4a79bdb3-77e8-4e9c-befa-ce9a0c7716db\" xlink:type=\"simple\"><path d=\"M264.83,717.62 C274.82,697.23 287,666.52 287,638 C287,375 287,375 287,375 C287,332.26 242.53,303.18 208.19,287.1 \" fill=\"none\" id=\"E7-to-E3\" style=\"stroke:#181818;stroke-width:1.0;\"/><polygon fill=\"#FFFFFF\" points=\"189.55,279.12,209.7716,280.1629,204.2615,293.033,189.55,279.12\" style=\"stroke:#181818;stroke-width:1.0;\"/><ellipse cx=\"214.2244\" cy=\"284.2448\" fill=\"#181818\" rx=\"2\" ry=\"2\" style=\"stroke:#181818;stroke-width:1.0;\"/><ellipse cx=\"210.2887\" cy=\"293.4378\" fill=\"#181818\" rx=\"2\" ry=\"2\" style=\"stroke:#181818;stroke-width:1.0;\"/></a></g><!--MD5=[dfaffb906826c3e5aca635516100ff21]\n",
       "link E5 to E8--><g id=\"link_E5_E8\"><a href=\"psysml:d776694e-c79b-404c-b561-ae1c1a2e3f3d\" target=\"_top\" title=\"psysml:d776694e-c79b-404c-b561-ae1c1a2e3f3d\" xlink:actuate=\"onRequest\" xlink:href=\"psysml:d776694e-c79b-404c-b561-ae1c1a2e3f3d\" xlink:show=\"new\" xlink:title=\"psysml:d776694e-c79b-404c-b561-ae1c1a2e3f3d\" xlink:type=\"simple\"><path d=\"M207.72,400.13 C198.9,422.08 185.5,455.46 175.15,481.27 \" fill=\"none\" id=\"E5-to-E8\" style=\"stroke:#181818;stroke-width:1.0;\"/><polygon fill=\"#FFFFFF\" points=\"167.64,499.97,168.2159,479.7297,181.2097,484.9413,167.64,499.97\" style=\"stroke:#181818;stroke-width:1.0;\"/><ellipse cx=\"172.194\" cy=\"475.1839\" fill=\"#181818\" rx=\"2\" ry=\"2\" style=\"stroke:#181818;stroke-width:1.0;\"/><ellipse cx=\"181.4753\" cy=\"478.9064\" fill=\"#181818\" rx=\"2\" ry=\"2\" style=\"stroke:#181818;stroke-width:1.0;\"/></a></g><!--MD5=[03c8294790d3c57651a1993cecff665f]\n",
       "reverse link E8 to E3--><g id=\"link_E8_E3\"><a href=\"psysml:c4551329-8b56-4fd0-9fbf-f2d280f6b39b\" target=\"_top\" title=\"psysml:c4551329-8b56-4fd0-9fbf-f2d280f6b39b\" xlink:actuate=\"onRequest\" xlink:href=\"psysml:c4551329-8b56-4fd0-9fbf-f2d280f6b39b\" xlink:show=\"new\" xlink:title=\"psysml:c4551329-8b56-4fd0-9fbf-f2d280f6b39b\" xlink:type=\"simple\"><path d=\"M157.67,486.86 C155.63,453.19 153.51,398.81 157,352 C158.56,331.13 162.37,307.45 165.28,291.31 \" fill=\"none\" id=\"E8-backto-E3\" style=\"stroke:#181818;stroke-width:1.0;\"/><polygon fill=\"none\" points=\"158.52,499.93,162.1225,493.6833,157.7419,487.9553,154.1394,494.202,158.52,499.93\" style=\"stroke:#181818;stroke-width:1.0;\"/><text fill=\"#000000\" font-family=\"sans-serif\" font-size=\"13\" lengthAdjust=\"spacing\" textLength=\"7\" x=\"158\" y=\"380.5669\">y</text></a></g><!--MD5=[0d75d2178373a6a4568e5dc728f58aef]\n",
       "reverse link E8 to E6--><g id=\"link_E8_E6\"><a href=\"psysml:c4551329-8b56-4fd0-9fbf-f2d280f6b39b\" target=\"_top\" title=\"psysml:c4551329-8b56-4fd0-9fbf-f2d280f6b39b\" xlink:actuate=\"onRequest\" xlink:href=\"psysml:c4551329-8b56-4fd0-9fbf-f2d280f6b39b\" xlink:show=\"new\" xlink:title=\"psysml:c4551329-8b56-4fd0-9fbf-f2d280f6b39b\" xlink:type=\"simple\"><path d=\"M160,553.36 C160,573.76 160,599.42 160,616.69 \" fill=\"none\" id=\"E8-backto-E6\" style=\"stroke:#181818;stroke-width:1.0;\"/><polygon fill=\"none\" points=\"160,540.25,156,546.25,160,552.25,164,546.25,160,540.25\" style=\"stroke:#181818;stroke-width:1.0;\"/><text fill=\"#000000\" font-family=\"sans-serif\" font-size=\"13\" lengthAdjust=\"spacing\" textLength=\"7\" x=\"161\" y=\"583.0669\">y</text></a></g><!--MD5=[23ac544a70576c3e717098101004234c]\n",
       "reverse link E9 to E10--><g id=\"link_E9_E10\"><a href=\"psysml:5a5abb4f-4a57-47f4-8d13-1f5dca85ed3b\" target=\"_top\" title=\"psysml:5a5abb4f-4a57-47f4-8d13-1f5dca85ed3b\" xlink:actuate=\"onRequest\" xlink:href=\"psysml:5a5abb4f-4a57-47f4-8d13-1f5dca85ed3b\" xlink:show=\"new\" xlink:title=\"psysml:5a5abb4f-4a57-47f4-8d13-1f5dca85ed3b\" xlink:type=\"simple\"><path d=\"M98.9,100.5 C89.34,116.92 78.26,135.94 70.21,149.76 \" fill=\"none\" id=\"E9-backto-E10\" style=\"stroke:#181818;stroke-width:1.0;\"/><polygon fill=\"none\" points=\"105.53,89.12,99.0532,92.2903,99.4885,99.4882,105.9653,96.318,105.53,89.12\" style=\"stroke:#181818;stroke-width:1.0;\"/></a></g><!--MD5=[feeac5eb423634930294aa81f2d25a4c]\n",
       "link E10 to E3--><g id=\"link_E10_E3\"><a href=\"psysml:d7f66802-941a-4496-884a-36d82493c03e\" target=\"_top\" title=\"psysml:d7f66802-941a-4496-884a-36d82493c03e\" xlink:actuate=\"onRequest\" xlink:href=\"psysml:d7f66802-941a-4496-884a-36d82493c03e\" xlink:show=\"new\" xlink:title=\"psysml:d7f66802-941a-4496-884a-36d82493c03e\" xlink:type=\"simple\"><path d=\"M80.21,190.09 C95.22,203.6 115.71,222.04 133.22,237.8 \" fill=\"none\" id=\"E10-to-E3\" style=\"stroke:#181818;stroke-width:1.0;\"/><polygon fill=\"#FFFFFF\" points=\"148.23,251.31,129.4251,243.8017,138.7911,233.3961,148.23,251.31\" style=\"stroke:#181818;stroke-width:1.0;\"/><ellipse cx=\"126.5265\" cy=\"238.5019\" fill=\"#181818\" rx=\"2\" ry=\"2\" style=\"stroke:#181818;stroke-width:1.0;\"/><ellipse cx=\"133.2165\" cy=\"231.0693\" fill=\"#181818\" rx=\"2\" ry=\"2\" style=\"stroke:#181818;stroke-width:1.0;\"/></a></g><!--MD5=[1fc04a95fd77ad5ce46c1a3027516051]\n",
       "reverse link E9 to E11--><g id=\"link_E9_E11\"><a href=\"psysml:8187499b-9a51-4939-bbf5-c8a0ee670e5b\" target=\"_top\" title=\"psysml:8187499b-9a51-4939-bbf5-c8a0ee670e5b\" xlink:actuate=\"onRequest\" xlink:href=\"psysml:8187499b-9a51-4939-bbf5-c8a0ee670e5b\" xlink:show=\"new\" xlink:title=\"psysml:8187499b-9a51-4939-bbf5-c8a0ee670e5b\" xlink:type=\"simple\"><path d=\"M135.98,100.98 C143.9,117.29 153.01,136.07 159.66,149.76 \" fill=\"none\" id=\"E9-backto-E11\" style=\"stroke:#181818;stroke-width:1.0;\"/><polygon fill=\"none\" points=\"130.22,89.12,129.2448,96.2649,135.465,99.9131,136.4402,92.7682,130.22,89.12\" style=\"stroke:#181818;stroke-width:1.0;\"/></a></g><!--MD5=[0517f1ce58c4d5483948f93845c45e26]\n",
       "link E11 to E3--><g id=\"link_E11_E3\"><a href=\"psysml:ca7307c2-0235-4c1e-8766-bbb66b330e4f\" target=\"_top\" title=\"psysml:ca7307c2-0235-4c1e-8766-bbb66b330e4f\" xlink:actuate=\"onRequest\" xlink:href=\"psysml:ca7307c2-0235-4c1e-8766-bbb66b330e4f\" xlink:show=\"new\" xlink:title=\"psysml:ca7307c2-0235-4c1e-8766-bbb66b330e4f\" xlink:type=\"simple\"><path d=\"M169,190.09 C169,201.59 169,216.68 169,230.63 \" fill=\"none\" id=\"E11-to-E3\" style=\"stroke:#181818;stroke-width:1.0;\"/><polygon fill=\"#FFFFFF\" points=\"169,250.97,162,231.97,176,231.97,169,250.97\" style=\"stroke:#181818;stroke-width:1.0;\"/><ellipse cx=\"164\" cy=\"226.27\" fill=\"#181818\" rx=\"2\" ry=\"2\" style=\"stroke:#181818;stroke-width:1.0;\"/><ellipse cx=\"174\" cy=\"226.27\" fill=\"#181818\" rx=\"2\" ry=\"2\" style=\"stroke:#181818;stroke-width:1.0;\"/></a></g><!--MD5=[63b1f2fa620d0cc56950902e3f368596]\n",
       "@startuml\r\n",
       " \r\n",
       "package \"ItemTest\" as E1  [[psysml:cd87d2b7-4fa1-4c1b-a4f6-af691b0dec58 ]]  {\r\n",
       "comp usage \"f: A  \" as E2  << << (P,limegreen) >> [[psysml:a6e7d788-746b-466d-b844-23a78300b1ae ]] {\r\n",
       "}\r\n",
       "comp def \"A\" as E3  << << (B,green) >> [[psysml:7645df02-ea24-41fb-927b-82e0988a44f2 ]] {\r\n",
       "}\r\n",
       "comp usage \"b: B  \" as E4  << << (P,limegreen) >> [[psysml:426ed2e2-6591-4c8f-a505-52d546190911 ]] {\r\n",
       "}\r\n",
       "comp usage \"c: C  \" as E5  << << (P,limegreen) part>> [[psysml:331ec08e-03d4-4ef2-9768-da2cb6dfa326 ]] {\r\n",
       "}\r\n",
       "comp def \"<i>B</i>\" as E6  << << (B,green) >> [[psysml:1c5a109b-6d3b-4425-b763-85184515822e ]] {\r\n",
       "}\r\n",
       "comp usage \"<i>a</i>: A  \" as E7  << << (P,limegreen) part>> [[psysml:3d3f18ff-1114-439a-91a9-78796a10458c ]] {\r\n",
       "}\r\n",
       "comp def \"C\" as E8  << << (B,green) >> [[psysml:1568c6af-b382-4c7f-b02a-0d87dd86c0f5 ]] {\r\n",
       "}\r\n",
       "comp def \"P\" as E9  << <<(D,brown) port  def>> [[psysml:7b3481ba-f47b-4c12-87df-4d6f620e6d00 ]] {\r\n",
       "}\r\n",
       "comp usage \"a1: A  \" as E10  << << (P,limegreen) >> [[psysml:116f794f-fd18-4d42-8d94-9abf783d43f0 ]] {\r\n",
       "}\r\n",
       "comp usage \"a2: A  \" as E11  << << (P,limegreen) >> [[psysml:16572df6-eec3-489a-80d1-3b65de425cbd ]] {\r\n",
       "}\r\n",
       "}\r\n",
       "E2 - -:|> E3 [[psysml:70c9c3cf-ded5-4fad-940c-650d810049d2 ]] \r\n",
       "E3 *- - E4 [[psysml:1e28e0ed-b5c0-4fac-98b2-855fbe266c1f ]] \r\n",
       "E3 o- - E5 [[psysml:b5974af5-b28c-458b-89e4-95d46de68236 ]] \r\n",
       "E4 - -:|> E6 [[psysml:83940360-bfcd-4ab6-95b9-9006ad1a30a4 ]] \r\n",
       "E6 *- - E7 [[psysml:c7c30ff0-7abe-445a-9147-4c620b104f3e ]] \r\n",
       "E7 - -:|> E3 [[psysml:4a79bdb3-77e8-4e9c-befa-ce9a0c7716db ]] \r\n",
       "E5 - -:|> E8 [[psysml:d776694e-c79b-404c-b561-ae1c1a2e3f3d ]] \r\n",
       "E8 o- - E3 [[psysml:c4551329-8b56-4fd0-9fbf-f2d280f6b39b ]] : y\r\n",
       "E8 o- - E6 [[psysml:c4551329-8b56-4fd0-9fbf-f2d280f6b39b ]] : y\r\n",
       "E9 o- - E10 [[psysml:5a5abb4f-4a57-47f4-8d13-1f5dca85ed3b ]] \r\n",
       "E10 - -:|> E3 [[psysml:d7f66802-941a-4496-884a-36d82493c03e ]] \r\n",
       "E9 o- - E11 [[psysml:8187499b-9a51-4939-bbf5-c8a0ee670e5b ]] \r\n",
       "E11 - -:|> E3 [[psysml:ca7307c2-0235-4c1e-8766-bbb66b330e4f ]] \r\n",
       "@enduml\r\n",
       "\n",
       "PlantUML version 1.2022.7(Mon Aug 22 17:01:30 UTC 2022)\n",
       "(EPL source distribution)\n",
       "Java Runtime: OpenJDK Runtime Environment\n",
       "JVM: OpenJDK 64-Bit Server VM\n",
       "Default Encoding: UTF-8\n",
       "Language: en\n",
       "Country: null\n",
       "--></g></svg>"
      ]
     },
     "execution_count": 30,
     "metadata": {},
     "output_type": "execute_result"
    }
   ],
   "source": [
    "%viz --style=\"PLANTUML\" --view=\"Default\" \"ItemTest\""
   ]
  },
  {
   "cell_type": "code",
   "execution_count": 31,
   "id": "418f6f8a",
   "metadata": {
    "execution": {
     "iopub.execute_input": "2024-12-16T14:15:17.690617Z",
     "iopub.status.busy": "2024-12-16T14:15:17.690342Z",
     "iopub.status.idle": "2024-12-16T14:15:17.715766Z",
     "shell.execute_reply": "2024-12-16T14:15:17.714787Z"
    }
   },
   "outputs": [
    {
     "data": {
      "image/svg+xml": [
       "<?xml version=\"1.0\" encoding=\"UTF-8\" standalone=\"no\"?><svg xmlns=\"http://www.w3.org/2000/svg\" xmlns:xlink=\"http://www.w3.org/1999/xlink\" contentStyleType=\"text/css\" height=\"789px\" preserveAspectRatio=\"none\" style=\"width:327px;height:789px;background:#FFFFFF;\" version=\"1.1\" viewBox=\"0 0 327 789\" width=\"327px\" zoomAndPan=\"magnify\"><defs/><g><!--MD5=[fbc87193dbaf4d95561dea2c320d4a47]\n",
       "cluster E1--><g id=\"cluster_E1\"><a href=\"psysml:cd87d2b7-4fa1-4c1b-a4f6-af691b0dec58\" target=\"_top\" title=\"psysml:cd87d2b7-4fa1-4c1b-a4f6-af691b0dec58\" xlink:actuate=\"onRequest\" xlink:href=\"psysml:cd87d2b7-4fa1-4c1b-a4f6-af691b0dec58\" xlink:show=\"new\" xlink:title=\"psysml:cd87d2b7-4fa1-4c1b-a4f6-af691b0dec58\" xlink:type=\"simple\"><path d=\"M8.5,6 L74,6 A3.75,3.75 0 0 1 76.5,8.5 L83.5,28.2969 L317.5,28.2969 A2.5,2.5 0 0 1 320,30.7969 L320,779.5 A2.5,2.5 0 0 1 317.5,782 L8.5,782 A2.5,2.5 0 0 1 6,779.5 L6,8.5 A2.5,2.5 0 0 1 8.5,6 \" fill=\"none\" style=\"stroke:#000000;stroke-width:1.5;\"/><line style=\"stroke:#000000;stroke-width:1.5;\" x1=\"6\" x2=\"83.5\" y1=\"28.2969\" y2=\"28.2969\"/><text fill=\"#000000\" font-family=\"sans-serif\" font-size=\"14\" font-weight=\"bold\" lengthAdjust=\"spacing\" textLength=\"64.5\" x=\"10\" y=\"20.9951\">ItemTest</text></a></g><!--MD5=[b4997ac47864f28c2f74865a473b2911]\n",
       "class E2--><a href=\"psysml:a6e7d788-746b-466d-b844-23a78300b1ae\" target=\"_top\" title=\"psysml:a6e7d788-746b-466d-b844-23a78300b1ae\" xlink:actuate=\"onRequest\" xlink:href=\"psysml:a6e7d788-746b-466d-b844-23a78300b1ae\" xlink:show=\"new\" xlink:title=\"psysml:a6e7d788-746b-466d-b844-23a78300b1ae\" xlink:type=\"simple\"><g id=\"elem_E2\"><rect fill=\"#F1F1F1\" height=\"40\" id=\"E2\" rx=\"10\" ry=\"10\" style=\"stroke:#181818;stroke-width:0.5;\" width=\"62\" x=\"242\" y=\"150\"/><ellipse cx=\"257\" cy=\"166\" fill=\"#32CD32\" rx=\"11\" ry=\"11\" style=\"stroke:#181818;stroke-width:1.0;\"/><path d=\"M253.8594,172.5 L253.8594,160.3594 L257.8906,160.3594 Q259.9844,160.3594 261,161.3438 Q262.0156,162.3125 262.0156,164.1406 Q262.0156,165.3438 261.5781,166.25 Q261.1563,167.1563 260.2031,167.6719 Q259.2656,168.1875 257.7344,168.1875 L256.2344,168.1875 L256.2344,172.5 L253.8594,172.5 Z M257.4844,166.0938 Q258.5313,166.0938 259.0469,165.6094 Q259.5781,165.125 259.5781,164.2344 Q259.5781,163.3438 259.1406,162.9063 Q258.7188,162.4531 257.7969,162.4531 L256.2344,162.4531 L256.2344,166.0938 L257.4844,166.0938 Z \" fill=\"#000000\"/><text fill=\"#000000\" font-family=\"sans-serif\" font-size=\"14\" lengthAdjust=\"spacing\" textLength=\"22\" x=\"271\" y=\"170.8467\">f: A</text><line style=\"stroke:#181818;stroke-width:0.5;\" x1=\"243\" x2=\"303\" y1=\"182\" y2=\"182\"/></g></a><!--MD5=[09b614a08d8cba4a07c9adeb5e0fee81]\n",
       "class E3--><a href=\"psysml:7645df02-ea24-41fb-927b-82e0988a44f2\" target=\"_top\" title=\"psysml:7645df02-ea24-41fb-927b-82e0988a44f2\" xlink:actuate=\"onRequest\" xlink:href=\"psysml:7645df02-ea24-41fb-927b-82e0988a44f2\" xlink:show=\"new\" xlink:title=\"psysml:7645df02-ea24-41fb-927b-82e0988a44f2\" xlink:type=\"simple\"><g id=\"elem_E3\"><rect fill=\"#F1F1F1\" height=\"40\" id=\"E3\" rx=\"2.5\" ry=\"2.5\" style=\"stroke:#181818;stroke-width:0.5;\" width=\"41\" x=\"148.5\" y=\"251\"/><ellipse cx=\"163.5\" cy=\"267\" fill=\"#008000\" rx=\"11\" ry=\"11\" style=\"stroke:#181818;stroke-width:1.0;\"/><path d=\"M160.3594,273.5 L160.3594,261.3594 L164.1563,261.3594 Q166.1563,261.3594 167.2031,262.0625 Q168.2656,262.7656 168.2656,264.3438 Q168.2656,265.4375 167.7656,266.1563 Q167.2813,266.875 166.4531,267.0625 L166.4531,267.1406 Q167.375,267.3594 167.9375,268.0313 Q168.5156,268.6875 168.5156,269.9531 Q168.5156,271.6094 167.4688,272.5625 Q166.4219,273.5 164.5625,273.5 L160.3594,273.5 Z M164.1406,266.1406 Q165.0313,266.1406 165.3906,265.8125 Q165.7656,265.4688 165.7656,264.7656 Q165.7656,264.0313 165.375,263.7188 Q164.9844,263.3906 164.0469,263.3906 L162.6563,263.3906 L162.6563,266.1406 L164.1406,266.1406 Z M164.3281,271.4844 Q165.2344,271.4844 165.5938,271.0469 Q165.9531,270.5938 165.9531,269.8125 Q165.9531,269.0313 165.5781,268.6406 Q165.2188,268.2344 164.2344,268.2344 L162.6563,268.2344 L162.6563,271.4844 L164.3281,271.4844 Z \" fill=\"#000000\"/><text fill=\"#000000\" font-family=\"sans-serif\" font-size=\"14\" lengthAdjust=\"spacing\" textLength=\"9\" x=\"177.5\" y=\"271.8467\">A</text><line style=\"stroke:#181818;stroke-width:0.5;\" x1=\"149.5\" x2=\"188.5\" y1=\"283\" y2=\"283\"/></g></a><!--MD5=[ebbe1d658d1005bcc118a6aa81145e00]\n",
       "class E4--><a href=\"psysml:426ed2e2-6591-4c8f-a505-52d546190911\" target=\"_top\" title=\"psysml:426ed2e2-6591-4c8f-a505-52d546190911\" xlink:actuate=\"onRequest\" xlink:href=\"psysml:426ed2e2-6591-4c8f-a505-52d546190911\" xlink:show=\"new\" xlink:title=\"psysml:426ed2e2-6591-4c8f-a505-52d546190911\" xlink:type=\"simple\"><g id=\"elem_E4\"><rect fill=\"#F1F1F1\" height=\"40\" id=\"E4\" rx=\"10\" ry=\"10\" style=\"stroke:#181818;stroke-width:0.5;\" width=\"68\" x=\"50\" y=\"430\"/><ellipse cx=\"65\" cy=\"446\" fill=\"#32CD32\" rx=\"11\" ry=\"11\" style=\"stroke:#181818;stroke-width:1.0;\"/><path d=\"M61.8594,452.5 L61.8594,440.3594 L65.8906,440.3594 Q67.9844,440.3594 69,441.3438 Q70.0156,442.3125 70.0156,444.1406 Q70.0156,445.3438 69.5781,446.25 Q69.1563,447.1563 68.2031,447.6719 Q67.2656,448.1875 65.7344,448.1875 L64.2344,448.1875 L64.2344,452.5 L61.8594,452.5 Z M65.4844,446.0938 Q66.5313,446.0938 67.0469,445.6094 Q67.5781,445.125 67.5781,444.2344 Q67.5781,443.3438 67.1406,442.9063 Q66.7188,442.4531 65.7969,442.4531 L64.2344,442.4531 L64.2344,446.0938 L65.4844,446.0938 Z \" fill=\"#000000\"/><text fill=\"#000000\" font-family=\"sans-serif\" font-size=\"14\" lengthAdjust=\"spacing\" textLength=\"28\" x=\"79\" y=\"450.8467\">b: B</text><line style=\"stroke:#181818;stroke-width:0.5;\" x1=\"51\" x2=\"117\" y1=\"462\" y2=\"462\"/></g></a><!--MD5=[270fce915f116d4de14055a7c1d9a0f3]\n",
       "class E5--><a href=\"psysml:331ec08e-03d4-4ef2-9768-da2cb6dfa326\" target=\"_top\" title=\"psysml:331ec08e-03d4-4ef2-9768-da2cb6dfa326\" xlink:actuate=\"onRequest\" xlink:href=\"psysml:331ec08e-03d4-4ef2-9768-da2cb6dfa326\" xlink:show=\"new\" xlink:title=\"psysml:331ec08e-03d4-4ef2-9768-da2cb6dfa326\" xlink:type=\"simple\"><g id=\"elem_E5\"><rect fill=\"#F1F1F1\" height=\"48.2656\" id=\"E5\" rx=\"10\" ry=\"10\" style=\"stroke:#181818;stroke-width:0.5;\" width=\"68\" x=\"183\" y=\"352\"/><ellipse cx=\"198\" cy=\"372.1328\" fill=\"#32CD32\" rx=\"11\" ry=\"11\" style=\"stroke:#181818;stroke-width:1.0;\"/><path d=\"M194.8594,378.6328 L194.8594,366.4922 L198.8906,366.4922 Q200.9844,366.4922 202,367.4766 Q203.0156,368.4453 203.0156,370.2734 Q203.0156,371.4766 202.5781,372.3828 Q202.1563,373.2891 201.2031,373.8047 Q200.2656,374.3203 198.7344,374.3203 L197.2344,374.3203 L197.2344,378.6328 L194.8594,378.6328 Z M198.4844,372.2266 Q199.5313,372.2266 200.0469,371.7422 Q200.5781,371.2578 200.5781,370.3672 Q200.5781,369.4766 200.1406,369.0391 Q199.7188,368.5859 198.7969,368.5859 L197.2344,368.5859 L197.2344,372.2266 L198.4844,372.2266 Z \" fill=\"#000000\"/><text fill=\"#000000\" font-family=\"sans-serif\" font-size=\"12\" font-style=\"italic\" lengthAdjust=\"spacing\" textLength=\"40\" x=\"210\" y=\"368.1387\">«part»</text><text fill=\"#000000\" font-family=\"sans-serif\" font-size=\"14\" lengthAdjust=\"spacing\" textLength=\"27\" x=\"212.5\" y=\"383.9639\">c: C</text><line style=\"stroke:#181818;stroke-width:0.5;\" x1=\"184\" x2=\"250\" y1=\"392.2656\" y2=\"392.2656\"/></g></a><!--MD5=[60a26617385b1d2d0262a64233df1f8d]\n",
       "class E6--><a href=\"psysml:1c5a109b-6d3b-4425-b763-85184515822e\" target=\"_top\" title=\"psysml:1c5a109b-6d3b-4425-b763-85184515822e\" xlink:actuate=\"onRequest\" xlink:href=\"psysml:1c5a109b-6d3b-4425-b763-85184515822e\" xlink:show=\"new\" xlink:title=\"psysml:1c5a109b-6d3b-4425-b763-85184515822e\" xlink:type=\"simple\"><g id=\"elem_E6\"><rect fill=\"#F1F1F1\" height=\"40\" id=\"E6\" rx=\"2.5\" ry=\"2.5\" style=\"stroke:#181818;stroke-width:0.5;\" width=\"42\" x=\"139\" y=\"617\"/><ellipse cx=\"154\" cy=\"633\" fill=\"#008000\" rx=\"11\" ry=\"11\" style=\"stroke:#181818;stroke-width:1.0;\"/><path d=\"M150.8594,639.5 L150.8594,627.3594 L154.6563,627.3594 Q156.6563,627.3594 157.7031,628.0625 Q158.7656,628.7656 158.7656,630.3438 Q158.7656,631.4375 158.2656,632.1563 Q157.7813,632.875 156.9531,633.0625 L156.9531,633.1406 Q157.875,633.3594 158.4375,634.0313 Q159.0156,634.6875 159.0156,635.9531 Q159.0156,637.6094 157.9688,638.5625 Q156.9219,639.5 155.0625,639.5 L150.8594,639.5 Z M154.6406,632.1406 Q155.5313,632.1406 155.8906,631.8125 Q156.2656,631.4688 156.2656,630.7656 Q156.2656,630.0313 155.875,629.7188 Q155.4844,629.3906 154.5469,629.3906 L153.1563,629.3906 L153.1563,632.1406 L154.6406,632.1406 Z M154.8281,637.4844 Q155.7344,637.4844 156.0938,637.0469 Q156.4531,636.5938 156.4531,635.8125 Q156.4531,635.0313 156.0781,634.6406 Q155.7188,634.2344 154.7344,634.2344 L153.1563,634.2344 L153.1563,637.4844 L154.8281,637.4844 Z \" fill=\"#000000\"/><text fill=\"#000000\" font-family=\"sans-serif\" font-size=\"14\" font-style=\"italic\" lengthAdjust=\"spacing\" textLength=\"10\" x=\"168\" y=\"637.8467\">B</text><line style=\"stroke:#181818;stroke-width:0.5;\" x1=\"140\" x2=\"180\" y1=\"649\" y2=\"649\"/></g></a><!--MD5=[2156ba9850f5573cc1fc38a6a4b2f02b]\n",
       "class E7--><a href=\"psysml:3d3f18ff-1114-439a-91a9-78796a10458c\" target=\"_top\" title=\"psysml:3d3f18ff-1114-439a-91a9-78796a10458c\" xlink:actuate=\"onRequest\" xlink:href=\"psysml:3d3f18ff-1114-439a-91a9-78796a10458c\" xlink:show=\"new\" xlink:title=\"psysml:3d3f18ff-1114-439a-91a9-78796a10458c\" xlink:type=\"simple\"><g id=\"elem_E7\"><rect fill=\"#F1F1F1\" height=\"48.2656\" id=\"E7\" rx=\"10\" ry=\"10\" style=\"stroke:#181818;stroke-width:0.5;\" width=\"68\" x=\"218\" y=\"718\"/><ellipse cx=\"233\" cy=\"738.1328\" fill=\"#32CD32\" rx=\"11\" ry=\"11\" style=\"stroke:#181818;stroke-width:1.0;\"/><path d=\"M229.8594,744.6328 L229.8594,732.4922 L233.8906,732.4922 Q235.9844,732.4922 237,733.4766 Q238.0156,734.4453 238.0156,736.2734 Q238.0156,737.4766 237.5781,738.3828 Q237.1563,739.2891 236.2031,739.8047 Q235.2656,740.3203 233.7344,740.3203 L232.2344,740.3203 L232.2344,744.6328 L229.8594,744.6328 Z M233.4844,738.2266 Q234.5313,738.2266 235.0469,737.7422 Q235.5781,737.2578 235.5781,736.3672 Q235.5781,735.4766 235.1406,735.0391 Q234.7188,734.5859 233.7969,734.5859 L232.2344,734.5859 L232.2344,738.2266 L233.4844,738.2266 Z \" fill=\"#000000\"/><text fill=\"#000000\" font-family=\"sans-serif\" font-size=\"12\" font-style=\"italic\" lengthAdjust=\"spacing\" textLength=\"40\" x=\"245\" y=\"734.1387\">«part»</text><text fill=\"#000000\" font-family=\"sans-serif\" font-size=\"14\" font-style=\"italic\" lengthAdjust=\"spacing\" textLength=\"8\" x=\"248\" y=\"749.9639\">a</text><text fill=\"#000000\" font-family=\"sans-serif\" font-size=\"14\" lengthAdjust=\"spacing\" textLength=\"18\" x=\"256\" y=\"749.9639\">: A</text><line style=\"stroke:#181818;stroke-width:0.5;\" x1=\"219\" x2=\"285\" y1=\"758.2656\" y2=\"758.2656\"/></g></a><!--MD5=[b9389687b975829384b498ac4b7476b2]\n",
       "class E8--><a href=\"psysml:1568c6af-b382-4c7f-b02a-0d87dd86c0f5\" target=\"_top\" title=\"psysml:1568c6af-b382-4c7f-b02a-0d87dd86c0f5\" xlink:actuate=\"onRequest\" xlink:href=\"psysml:1568c6af-b382-4c7f-b02a-0d87dd86c0f5\" xlink:show=\"new\" xlink:title=\"psysml:1568c6af-b382-4c7f-b02a-0d87dd86c0f5\" xlink:type=\"simple\"><g id=\"elem_E8\"><rect fill=\"#F1F1F1\" height=\"40\" id=\"E8\" rx=\"2.5\" ry=\"2.5\" style=\"stroke:#181818;stroke-width:0.5;\" width=\"42\" x=\"139\" y=\"500\"/><ellipse cx=\"154\" cy=\"516\" fill=\"#008000\" rx=\"11\" ry=\"11\" style=\"stroke:#181818;stroke-width:1.0;\"/><path d=\"M150.8594,522.5 L150.8594,510.3594 L154.6563,510.3594 Q156.6563,510.3594 157.7031,511.0625 Q158.7656,511.7656 158.7656,513.3438 Q158.7656,514.4375 158.2656,515.1563 Q157.7813,515.875 156.9531,516.0625 L156.9531,516.1406 Q157.875,516.3594 158.4375,517.0313 Q159.0156,517.6875 159.0156,518.9531 Q159.0156,520.6094 157.9688,521.5625 Q156.9219,522.5 155.0625,522.5 L150.8594,522.5 Z M154.6406,515.1406 Q155.5313,515.1406 155.8906,514.8125 Q156.2656,514.4688 156.2656,513.7656 Q156.2656,513.0313 155.875,512.7188 Q155.4844,512.3906 154.5469,512.3906 L153.1563,512.3906 L153.1563,515.1406 L154.6406,515.1406 Z M154.8281,520.4844 Q155.7344,520.4844 156.0938,520.0469 Q156.4531,519.5938 156.4531,518.8125 Q156.4531,518.0313 156.0781,517.6406 Q155.7188,517.2344 154.7344,517.2344 L153.1563,517.2344 L153.1563,520.4844 L154.8281,520.4844 Z \" fill=\"#000000\"/><text fill=\"#000000\" font-family=\"sans-serif\" font-size=\"14\" lengthAdjust=\"spacing\" textLength=\"10\" x=\"168\" y=\"520.8467\">C</text><line style=\"stroke:#181818;stroke-width:0.5;\" x1=\"140\" x2=\"180\" y1=\"532\" y2=\"532\"/></g></a><!--MD5=[fd4143e9d270a159db93a4ea2a975926]\n",
       "class E9--><a href=\"psysml:7b3481ba-f47b-4c12-87df-4d6f620e6d00\" target=\"_top\" title=\"psysml:7b3481ba-f47b-4c12-87df-4d6f620e6d00\" xlink:actuate=\"onRequest\" xlink:href=\"psysml:7b3481ba-f47b-4c12-87df-4d6f620e6d00\" xlink:show=\"new\" xlink:title=\"psysml:7b3481ba-f47b-4c12-87df-4d6f620e6d00\" xlink:type=\"simple\"><g id=\"elem_E9\"><rect fill=\"#F1F1F1\" height=\"48.2656\" id=\"E9\" rx=\"2.5\" ry=\"2.5\" style=\"stroke:#181818;stroke-width:0.5;\" width=\"96\" x=\"71\" y=\"41\"/><ellipse cx=\"86\" cy=\"61.1328\" fill=\"#A52A2A\" rx=\"11\" ry=\"11\" style=\"stroke:#181818;stroke-width:1.0;\"/><path d=\"M82.7656,67.6328 L82.7656,55.4922 L86.5156,55.4922 Q88.8906,55.4922 90.2813,57.0078 Q91.6875,58.5078 91.6875,61.4609 Q91.6875,64.4297 90.25,66.0391 Q88.8125,67.6328 86.3281,67.6328 L82.7656,67.6328 Z M86.2031,65.5391 Q87.75,65.5391 88.4688,64.5391 Q89.1875,63.5391 89.1875,61.4766 Q89.1875,59.4453 88.4844,58.5234 Q87.7969,57.5859 86.4063,57.5859 L85.2031,57.5859 L85.2031,65.5391 L86.2031,65.5391 Z \" fill=\"#000000\"/><text fill=\"#000000\" font-family=\"sans-serif\" font-size=\"12\" font-style=\"italic\" lengthAdjust=\"spacing\" textLength=\"68\" x=\"98\" y=\"57.1387\">«port  def»</text><text fill=\"#000000\" font-family=\"sans-serif\" font-size=\"14\" lengthAdjust=\"spacing\" textLength=\"9\" x=\"127.5\" y=\"72.9639\">P</text><line style=\"stroke:#181818;stroke-width:0.5;\" x1=\"72\" x2=\"166\" y1=\"81.2656\" y2=\"81.2656\"/></g></a><!--MD5=[96f4274e9e20536e775497830990834d]\n",
       "class E10--><a href=\"psysml:116f794f-fd18-4d42-8d94-9abf783d43f0\" target=\"_top\" title=\"psysml:116f794f-fd18-4d42-8d94-9abf783d43f0\" xlink:actuate=\"onRequest\" xlink:href=\"psysml:116f794f-fd18-4d42-8d94-9abf783d43f0\" xlink:show=\"new\" xlink:title=\"psysml:116f794f-fd18-4d42-8d94-9abf783d43f0\" xlink:type=\"simple\"><g id=\"elem_E10\"><rect fill=\"#F1F1F1\" height=\"40\" id=\"E10\" rx=\"10\" ry=\"10\" style=\"stroke:#181818;stroke-width:0.5;\" width=\"75\" x=\"21.5\" y=\"150\"/><ellipse cx=\"36.5\" cy=\"166\" fill=\"#32CD32\" rx=\"11\" ry=\"11\" style=\"stroke:#181818;stroke-width:1.0;\"/><path d=\"M33.3594,172.5 L33.3594,160.3594 L37.3906,160.3594 Q39.4844,160.3594 40.5,161.3438 Q41.5156,162.3125 41.5156,164.1406 Q41.5156,165.3438 41.0781,166.25 Q40.6563,167.1563 39.7031,167.6719 Q38.7656,168.1875 37.2344,168.1875 L35.7344,168.1875 L35.7344,172.5 L33.3594,172.5 Z M36.9844,166.0938 Q38.0313,166.0938 38.5469,165.6094 Q39.0781,165.125 39.0781,164.2344 Q39.0781,163.3438 38.6406,162.9063 Q38.2188,162.4531 37.2969,162.4531 L35.7344,162.4531 L35.7344,166.0938 L36.9844,166.0938 Z \" fill=\"#000000\"/><text fill=\"#000000\" font-family=\"sans-serif\" font-size=\"14\" lengthAdjust=\"spacing\" textLength=\"35\" x=\"50.5\" y=\"170.8467\">a1: A</text><line style=\"stroke:#181818;stroke-width:0.5;\" x1=\"22.5\" x2=\"95.5\" y1=\"182\" y2=\"182\"/></g></a><!--MD5=[1dd1bfd58a279cf63c5f349dbc8fc6a1]\n",
       "class E11--><a href=\"psysml:16572df6-eec3-489a-80d1-3b65de425cbd\" target=\"_top\" title=\"psysml:16572df6-eec3-489a-80d1-3b65de425cbd\" xlink:actuate=\"onRequest\" xlink:href=\"psysml:16572df6-eec3-489a-80d1-3b65de425cbd\" xlink:show=\"new\" xlink:title=\"psysml:16572df6-eec3-489a-80d1-3b65de425cbd\" xlink:type=\"simple\"><g id=\"elem_E11\"><rect fill=\"#F1F1F1\" height=\"40\" id=\"E11\" rx=\"10\" ry=\"10\" style=\"stroke:#181818;stroke-width:0.5;\" width=\"75\" x=\"131.5\" y=\"150\"/><ellipse cx=\"146.5\" cy=\"166\" fill=\"#32CD32\" rx=\"11\" ry=\"11\" style=\"stroke:#181818;stroke-width:1.0;\"/><path d=\"M143.3594,172.5 L143.3594,160.3594 L147.3906,160.3594 Q149.4844,160.3594 150.5,161.3438 Q151.5156,162.3125 151.5156,164.1406 Q151.5156,165.3438 151.0781,166.25 Q150.6563,167.1563 149.7031,167.6719 Q148.7656,168.1875 147.2344,168.1875 L145.7344,168.1875 L145.7344,172.5 L143.3594,172.5 Z M146.9844,166.0938 Q148.0313,166.0938 148.5469,165.6094 Q149.0781,165.125 149.0781,164.2344 Q149.0781,163.3438 148.6406,162.9063 Q148.2188,162.4531 147.2969,162.4531 L145.7344,162.4531 L145.7344,166.0938 L146.9844,166.0938 Z \" fill=\"#000000\"/><text fill=\"#000000\" font-family=\"sans-serif\" font-size=\"14\" lengthAdjust=\"spacing\" textLength=\"35\" x=\"160.5\" y=\"170.8467\">a2: A</text><line style=\"stroke:#181818;stroke-width:0.5;\" x1=\"132.5\" x2=\"205.5\" y1=\"182\" y2=\"182\"/></g></a><!--MD5=[2720a5a1f2c3fca2055b230370638851]\n",
       "link E2 to E3--><g id=\"link_E2_E3\"><a href=\"psysml:70c9c3cf-ded5-4fad-940c-650d810049d2\" target=\"_top\" title=\"psysml:70c9c3cf-ded5-4fad-940c-650d810049d2\" xlink:actuate=\"onRequest\" xlink:href=\"psysml:70c9c3cf-ded5-4fad-940c-650d810049d2\" xlink:show=\"new\" xlink:title=\"psysml:70c9c3cf-ded5-4fad-940c-650d810049d2\" xlink:type=\"simple\"><path d=\"M252.95,190.09 C238.99,203.37 220.02,221.43 203.65,237.02 \" fill=\"none\" id=\"E2-to-E3\" style=\"stroke:#181818;stroke-width:1.0;\"/><polygon fill=\"#FFFFFF\" points=\"188.99,250.97,197.9277,232.8009,207.5792,242.9424,188.99,250.97\" style=\"stroke:#181818;stroke-width:1.0;\"/><ellipse cx=\"203.4356\" cy=\"230.3202\" fill=\"#181818\" rx=\"2\" ry=\"2\" style=\"stroke:#181818;stroke-width:1.0;\"/><ellipse cx=\"210.3294\" cy=\"237.5641\" fill=\"#181818\" rx=\"2\" ry=\"2\" style=\"stroke:#181818;stroke-width:1.0;\"/></a></g><!--MD5=[4672eba38e49728da53d11aeb285b987]\n",
       "reverse link E3 to E4--><g id=\"link_E3_E4\"><a href=\"psysml:1e28e0ed-b5c0-4fac-98b2-855fbe266c1f\" target=\"_top\" title=\"psysml:1e28e0ed-b5c0-4fac-98b2-855fbe266c1f\" xlink:actuate=\"onRequest\" xlink:href=\"psysml:1e28e0ed-b5c0-4fac-98b2-855fbe266c1f\" xlink:show=\"new\" xlink:title=\"psysml:1e28e0ed-b5c0-4fac-98b2-855fbe266c1f\" xlink:type=\"simple\"><path d=\"M138.52,297.03 C123.14,311.43 105.74,330.84 96,352 C84.44,377.13 82.73,409.58 83.02,429.84 \" fill=\"none\" id=\"E3-backto-E4\" style=\"stroke:#181818;stroke-width:1.0;\"/><polygon fill=\"#181818\" points=\"148.22,288.32,141.0825,289.3478,139.2861,296.3315,146.4236,295.3038,148.22,288.32\" style=\"stroke:#181818;stroke-width:1.0;\"/></a></g><!--MD5=[191cde3d490a3f6d7bb551fe3ddca469]\n",
       "reverse link E3 to E5--><g id=\"link_E3_E5\"><a href=\"psysml:b5974af5-b28c-458b-89e4-95d46de68236\" target=\"_top\" title=\"psysml:b5974af5-b28c-458b-89e4-95d46de68236\" xlink:actuate=\"onRequest\" xlink:href=\"psysml:b5974af5-b28c-458b-89e4-95d46de68236\" xlink:show=\"new\" xlink:title=\"psysml:b5974af5-b28c-458b-89e4-95d46de68236\" xlink:type=\"simple\"><path d=\"M183.72,303.6 C190.96,319.13 199.53,337.52 206.16,351.75 \" fill=\"none\" id=\"E3-backto-E5\" style=\"stroke:#181818;stroke-width:1.0;\"/><polygon fill=\"none\" points=\"178.03,291.37,176.9459,298.4991,183.1097,302.2418,184.1938,295.1127,178.03,291.37\" style=\"stroke:#181818;stroke-width:1.0;\"/></a></g><!--MD5=[79568f1e445c3877b6a54524624ccc7d]\n",
       "link E4 to E6--><g id=\"link_E4_E6\"><a href=\"psysml:83940360-bfcd-4ab6-95b9-9006ad1a30a4\" target=\"_top\" title=\"psysml:83940360-bfcd-4ab6-95b9-9006ad1a30a4\" xlink:actuate=\"onRequest\" xlink:href=\"psysml:83940360-bfcd-4ab6-95b9-9006ad1a30a4\" xlink:show=\"new\" xlink:title=\"psysml:83940360-bfcd-4ab6-95b9-9006ad1a30a4\" xlink:type=\"simple\"><path d=\"M91.85,470.1 C104.19,500.15 128.39,559.04 144.37,597.96 \" fill=\"none\" id=\"E4-to-E6\" style=\"stroke:#181818;stroke-width:1.0;\"/><polygon fill=\"#FFFFFF\" points=\"152.08,616.73,138.3852,601.8152,151.335,596.4953,152.08,616.73\" style=\"stroke:#181818;stroke-width:1.0;\"/><ellipse cx=\"138.0692\" cy=\"595.7828\" fill=\"#181818\" rx=\"2\" ry=\"2\" style=\"stroke:#181818;stroke-width:1.0;\"/><ellipse cx=\"147.3191\" cy=\"591.9828\" fill=\"#181818\" rx=\"2\" ry=\"2\" style=\"stroke:#181818;stroke-width:1.0;\"/></a></g><!--MD5=[3f50a3473f1dfb74d3f76443e03635af]\n",
       "reverse link E6 to E7--><g id=\"link_E6_E7\"><a href=\"psysml:c7c30ff0-7abe-445a-9147-4c620b104f3e\" target=\"_top\" title=\"psysml:c7c30ff0-7abe-445a-9147-4c620b104f3e\" xlink:actuate=\"onRequest\" xlink:href=\"psysml:c7c30ff0-7abe-445a-9147-4c620b104f3e\" xlink:show=\"new\" xlink:title=\"psysml:c7c30ff0-7abe-445a-9147-4c620b104f3e\" xlink:type=\"simple\"><path d=\"M186.16,667.29 C200.45,683.28 217.89,702.81 231.23,717.75 \" fill=\"none\" id=\"E6-backto-E7\" style=\"stroke:#181818;stroke-width:1.0;\"/><polygon fill=\"#181818\" points=\"177.3,657.37,178.3109,664.5099,185.2904,666.3229,184.2795,659.183,177.3,657.37\" style=\"stroke:#181818;stroke-width:1.0;\"/></a></g><!--MD5=[14ccda38c055a5c0da953d572bc50960]\n",
       "link E7 to E3--><g id=\"link_E7_E3\"><a href=\"psysml:4a79bdb3-77e8-4e9c-befa-ce9a0c7716db\" target=\"_top\" title=\"psysml:4a79bdb3-77e8-4e9c-befa-ce9a0c7716db\" xlink:actuate=\"onRequest\" xlink:href=\"psysml:4a79bdb3-77e8-4e9c-befa-ce9a0c7716db\" xlink:show=\"new\" xlink:title=\"psysml:4a79bdb3-77e8-4e9c-befa-ce9a0c7716db\" xlink:type=\"simple\"><path d=\"M264.83,717.62 C274.82,697.23 287,666.52 287,638 C287,375 287,375 287,375 C287,332.26 242.53,303.18 208.19,287.1 \" fill=\"none\" id=\"E7-to-E3\" style=\"stroke:#181818;stroke-width:1.0;\"/><polygon fill=\"#FFFFFF\" points=\"189.55,279.12,209.7716,280.1629,204.2615,293.033,189.55,279.12\" style=\"stroke:#181818;stroke-width:1.0;\"/><ellipse cx=\"214.2244\" cy=\"284.2448\" fill=\"#181818\" rx=\"2\" ry=\"2\" style=\"stroke:#181818;stroke-width:1.0;\"/><ellipse cx=\"210.2887\" cy=\"293.4378\" fill=\"#181818\" rx=\"2\" ry=\"2\" style=\"stroke:#181818;stroke-width:1.0;\"/></a></g><!--MD5=[dfaffb906826c3e5aca635516100ff21]\n",
       "link E5 to E8--><g id=\"link_E5_E8\"><a href=\"psysml:d776694e-c79b-404c-b561-ae1c1a2e3f3d\" target=\"_top\" title=\"psysml:d776694e-c79b-404c-b561-ae1c1a2e3f3d\" xlink:actuate=\"onRequest\" xlink:href=\"psysml:d776694e-c79b-404c-b561-ae1c1a2e3f3d\" xlink:show=\"new\" xlink:title=\"psysml:d776694e-c79b-404c-b561-ae1c1a2e3f3d\" xlink:type=\"simple\"><path d=\"M207.72,400.13 C198.9,422.08 185.5,455.46 175.15,481.27 \" fill=\"none\" id=\"E5-to-E8\" style=\"stroke:#181818;stroke-width:1.0;\"/><polygon fill=\"#FFFFFF\" points=\"167.64,499.97,168.2159,479.7297,181.2097,484.9413,167.64,499.97\" style=\"stroke:#181818;stroke-width:1.0;\"/><ellipse cx=\"172.194\" cy=\"475.1839\" fill=\"#181818\" rx=\"2\" ry=\"2\" style=\"stroke:#181818;stroke-width:1.0;\"/><ellipse cx=\"181.4753\" cy=\"478.9064\" fill=\"#181818\" rx=\"2\" ry=\"2\" style=\"stroke:#181818;stroke-width:1.0;\"/></a></g><!--MD5=[03c8294790d3c57651a1993cecff665f]\n",
       "reverse link E8 to E3--><g id=\"link_E8_E3\"><a href=\"psysml:c4551329-8b56-4fd0-9fbf-f2d280f6b39b\" target=\"_top\" title=\"psysml:c4551329-8b56-4fd0-9fbf-f2d280f6b39b\" xlink:actuate=\"onRequest\" xlink:href=\"psysml:c4551329-8b56-4fd0-9fbf-f2d280f6b39b\" xlink:show=\"new\" xlink:title=\"psysml:c4551329-8b56-4fd0-9fbf-f2d280f6b39b\" xlink:type=\"simple\"><path d=\"M157.67,486.86 C155.63,453.19 153.51,398.81 157,352 C158.56,331.13 162.37,307.45 165.28,291.31 \" fill=\"none\" id=\"E8-backto-E3\" style=\"stroke:#181818;stroke-width:1.0;\"/><polygon fill=\"none\" points=\"158.52,499.93,162.1225,493.6833,157.7419,487.9553,154.1394,494.202,158.52,499.93\" style=\"stroke:#181818;stroke-width:1.0;\"/><text fill=\"#000000\" font-family=\"sans-serif\" font-size=\"13\" lengthAdjust=\"spacing\" textLength=\"7\" x=\"158\" y=\"380.5669\">y</text></a></g><!--MD5=[0d75d2178373a6a4568e5dc728f58aef]\n",
       "reverse link E8 to E6--><g id=\"link_E8_E6\"><a href=\"psysml:c4551329-8b56-4fd0-9fbf-f2d280f6b39b\" target=\"_top\" title=\"psysml:c4551329-8b56-4fd0-9fbf-f2d280f6b39b\" xlink:actuate=\"onRequest\" xlink:href=\"psysml:c4551329-8b56-4fd0-9fbf-f2d280f6b39b\" xlink:show=\"new\" xlink:title=\"psysml:c4551329-8b56-4fd0-9fbf-f2d280f6b39b\" xlink:type=\"simple\"><path d=\"M160,553.36 C160,573.76 160,599.42 160,616.69 \" fill=\"none\" id=\"E8-backto-E6\" style=\"stroke:#181818;stroke-width:1.0;\"/><polygon fill=\"none\" points=\"160,540.25,156,546.25,160,552.25,164,546.25,160,540.25\" style=\"stroke:#181818;stroke-width:1.0;\"/><text fill=\"#000000\" font-family=\"sans-serif\" font-size=\"13\" lengthAdjust=\"spacing\" textLength=\"7\" x=\"161\" y=\"583.0669\">y</text></a></g><!--MD5=[23ac544a70576c3e717098101004234c]\n",
       "reverse link E9 to E10--><g id=\"link_E9_E10\"><a href=\"psysml:5a5abb4f-4a57-47f4-8d13-1f5dca85ed3b\" target=\"_top\" title=\"psysml:5a5abb4f-4a57-47f4-8d13-1f5dca85ed3b\" xlink:actuate=\"onRequest\" xlink:href=\"psysml:5a5abb4f-4a57-47f4-8d13-1f5dca85ed3b\" xlink:show=\"new\" xlink:title=\"psysml:5a5abb4f-4a57-47f4-8d13-1f5dca85ed3b\" xlink:type=\"simple\"><path d=\"M98.9,100.5 C89.34,116.92 78.26,135.94 70.21,149.76 \" fill=\"none\" id=\"E9-backto-E10\" style=\"stroke:#181818;stroke-width:1.0;\"/><polygon fill=\"none\" points=\"105.53,89.12,99.0532,92.2903,99.4885,99.4882,105.9653,96.318,105.53,89.12\" style=\"stroke:#181818;stroke-width:1.0;\"/></a></g><!--MD5=[feeac5eb423634930294aa81f2d25a4c]\n",
       "link E10 to E3--><g id=\"link_E10_E3\"><a href=\"psysml:d7f66802-941a-4496-884a-36d82493c03e\" target=\"_top\" title=\"psysml:d7f66802-941a-4496-884a-36d82493c03e\" xlink:actuate=\"onRequest\" xlink:href=\"psysml:d7f66802-941a-4496-884a-36d82493c03e\" xlink:show=\"new\" xlink:title=\"psysml:d7f66802-941a-4496-884a-36d82493c03e\" xlink:type=\"simple\"><path d=\"M80.21,190.09 C95.22,203.6 115.71,222.04 133.22,237.8 \" fill=\"none\" id=\"E10-to-E3\" style=\"stroke:#181818;stroke-width:1.0;\"/><polygon fill=\"#FFFFFF\" points=\"148.23,251.31,129.4251,243.8017,138.7911,233.3961,148.23,251.31\" style=\"stroke:#181818;stroke-width:1.0;\"/><ellipse cx=\"126.5265\" cy=\"238.5019\" fill=\"#181818\" rx=\"2\" ry=\"2\" style=\"stroke:#181818;stroke-width:1.0;\"/><ellipse cx=\"133.2165\" cy=\"231.0693\" fill=\"#181818\" rx=\"2\" ry=\"2\" style=\"stroke:#181818;stroke-width:1.0;\"/></a></g><!--MD5=[1fc04a95fd77ad5ce46c1a3027516051]\n",
       "reverse link E9 to E11--><g id=\"link_E9_E11\"><a href=\"psysml:8187499b-9a51-4939-bbf5-c8a0ee670e5b\" target=\"_top\" title=\"psysml:8187499b-9a51-4939-bbf5-c8a0ee670e5b\" xlink:actuate=\"onRequest\" xlink:href=\"psysml:8187499b-9a51-4939-bbf5-c8a0ee670e5b\" xlink:show=\"new\" xlink:title=\"psysml:8187499b-9a51-4939-bbf5-c8a0ee670e5b\" xlink:type=\"simple\"><path d=\"M135.98,100.98 C143.9,117.29 153.01,136.07 159.66,149.76 \" fill=\"none\" id=\"E9-backto-E11\" style=\"stroke:#181818;stroke-width:1.0;\"/><polygon fill=\"none\" points=\"130.22,89.12,129.2448,96.2649,135.465,99.9131,136.4402,92.7682,130.22,89.12\" style=\"stroke:#181818;stroke-width:1.0;\"/></a></g><!--MD5=[0517f1ce58c4d5483948f93845c45e26]\n",
       "link E11 to E3--><g id=\"link_E11_E3\"><a href=\"psysml:ca7307c2-0235-4c1e-8766-bbb66b330e4f\" target=\"_top\" title=\"psysml:ca7307c2-0235-4c1e-8766-bbb66b330e4f\" xlink:actuate=\"onRequest\" xlink:href=\"psysml:ca7307c2-0235-4c1e-8766-bbb66b330e4f\" xlink:show=\"new\" xlink:title=\"psysml:ca7307c2-0235-4c1e-8766-bbb66b330e4f\" xlink:type=\"simple\"><path d=\"M169,190.09 C169,201.59 169,216.68 169,230.63 \" fill=\"none\" id=\"E11-to-E3\" style=\"stroke:#181818;stroke-width:1.0;\"/><polygon fill=\"#FFFFFF\" points=\"169,250.97,162,231.97,176,231.97,169,250.97\" style=\"stroke:#181818;stroke-width:1.0;\"/><ellipse cx=\"164\" cy=\"226.27\" fill=\"#181818\" rx=\"2\" ry=\"2\" style=\"stroke:#181818;stroke-width:1.0;\"/><ellipse cx=\"174\" cy=\"226.27\" fill=\"#181818\" rx=\"2\" ry=\"2\" style=\"stroke:#181818;stroke-width:1.0;\"/></a></g><!--MD5=[63b1f2fa620d0cc56950902e3f368596]\n",
       "@startuml\r\n",
       " \r\n",
       "package \"ItemTest\" as E1  [[psysml:cd87d2b7-4fa1-4c1b-a4f6-af691b0dec58 ]]  {\r\n",
       "comp usage \"f: A  \" as E2  << << (P,limegreen) >> [[psysml:a6e7d788-746b-466d-b844-23a78300b1ae ]] {\r\n",
       "}\r\n",
       "comp def \"A\" as E3  << << (B,green) >> [[psysml:7645df02-ea24-41fb-927b-82e0988a44f2 ]] {\r\n",
       "}\r\n",
       "comp usage \"b: B  \" as E4  << << (P,limegreen) >> [[psysml:426ed2e2-6591-4c8f-a505-52d546190911 ]] {\r\n",
       "}\r\n",
       "comp usage \"c: C  \" as E5  << << (P,limegreen) part>> [[psysml:331ec08e-03d4-4ef2-9768-da2cb6dfa326 ]] {\r\n",
       "}\r\n",
       "comp def \"<i>B</i>\" as E6  << << (B,green) >> [[psysml:1c5a109b-6d3b-4425-b763-85184515822e ]] {\r\n",
       "}\r\n",
       "comp usage \"<i>a</i>: A  \" as E7  << << (P,limegreen) part>> [[psysml:3d3f18ff-1114-439a-91a9-78796a10458c ]] {\r\n",
       "}\r\n",
       "comp def \"C\" as E8  << << (B,green) >> [[psysml:1568c6af-b382-4c7f-b02a-0d87dd86c0f5 ]] {\r\n",
       "}\r\n",
       "comp def \"P\" as E9  << <<(D,brown) port  def>> [[psysml:7b3481ba-f47b-4c12-87df-4d6f620e6d00 ]] {\r\n",
       "}\r\n",
       "comp usage \"a1: A  \" as E10  << << (P,limegreen) >> [[psysml:116f794f-fd18-4d42-8d94-9abf783d43f0 ]] {\r\n",
       "}\r\n",
       "comp usage \"a2: A  \" as E11  << << (P,limegreen) >> [[psysml:16572df6-eec3-489a-80d1-3b65de425cbd ]] {\r\n",
       "}\r\n",
       "}\r\n",
       "E2 - -:|> E3 [[psysml:70c9c3cf-ded5-4fad-940c-650d810049d2 ]] \r\n",
       "E3 *- - E4 [[psysml:1e28e0ed-b5c0-4fac-98b2-855fbe266c1f ]] \r\n",
       "E3 o- - E5 [[psysml:b5974af5-b28c-458b-89e4-95d46de68236 ]] \r\n",
       "E4 - -:|> E6 [[psysml:83940360-bfcd-4ab6-95b9-9006ad1a30a4 ]] \r\n",
       "E6 *- - E7 [[psysml:c7c30ff0-7abe-445a-9147-4c620b104f3e ]] \r\n",
       "E7 - -:|> E3 [[psysml:4a79bdb3-77e8-4e9c-befa-ce9a0c7716db ]] \r\n",
       "E5 - -:|> E8 [[psysml:d776694e-c79b-404c-b561-ae1c1a2e3f3d ]] \r\n",
       "E8 o- - E3 [[psysml:c4551329-8b56-4fd0-9fbf-f2d280f6b39b ]] : y\r\n",
       "E8 o- - E6 [[psysml:c4551329-8b56-4fd0-9fbf-f2d280f6b39b ]] : y\r\n",
       "E9 o- - E10 [[psysml:5a5abb4f-4a57-47f4-8d13-1f5dca85ed3b ]] \r\n",
       "E10 - -:|> E3 [[psysml:d7f66802-941a-4496-884a-36d82493c03e ]] \r\n",
       "E9 o- - E11 [[psysml:8187499b-9a51-4939-bbf5-c8a0ee670e5b ]] \r\n",
       "E11 - -:|> E3 [[psysml:ca7307c2-0235-4c1e-8766-bbb66b330e4f ]] \r\n",
       "@enduml\r\n",
       "\n",
       "PlantUML version 1.2022.7(Mon Aug 22 17:01:30 UTC 2022)\n",
       "(EPL source distribution)\n",
       "Java Runtime: OpenJDK Runtime Environment\n",
       "JVM: OpenJDK 64-Bit Server VM\n",
       "Default Encoding: UTF-8\n",
       "Language: en\n",
       "Country: null\n",
       "--></g></svg>"
      ]
     },
     "execution_count": 31,
     "metadata": {},
     "output_type": "execute_result"
    }
   ],
   "source": [
    "%viz --style=\"PLANTUML\" --view=\"Tree\" \"ItemTest\""
   ]
  },
  {
   "cell_type": "code",
   "execution_count": 32,
   "id": "a8c58501",
   "metadata": {
    "execution": {
     "iopub.execute_input": "2024-12-16T14:15:17.767619Z",
     "iopub.status.busy": "2024-12-16T14:15:17.767418Z",
     "iopub.status.idle": "2024-12-16T14:15:17.829430Z",
     "shell.execute_reply": "2024-12-16T14:15:17.828606Z"
    }
   },
   "outputs": [
    {
     "data": {
      "image/svg+xml": [
       "<?xml version=\"1.0\" encoding=\"UTF-8\" standalone=\"no\"?><svg xmlns=\"http://www.w3.org/2000/svg\" xmlns:xlink=\"http://www.w3.org/1999/xlink\" contentStyleType=\"text/css\" height=\"505px\" preserveAspectRatio=\"none\" style=\"width:603px;height:505px;background:#000000;\" version=\"1.1\" viewBox=\"0 0 603 505\" width=\"603px\" zoomAndPan=\"magnify\"><defs/><g><rect fill=\"#240107\" height=\"1\" style=\"stroke:#240107;stroke-width:1.0;\" width=\"1\" x=\"0\" y=\"0\"/><rect fill=\"#F6C914\" height=\"58\" style=\"stroke:#F6C914;stroke-width:1.0;\" width=\"602\" x=\"0\" y=\"0\"/><image height=\"58\" width=\"454\" x=\"1\" xlink:href=\"data:image/png;base64,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\" y=\"1\"/><rect fill=\"#FFFFFF\" height=\"226.6573\" style=\"stroke:#FFFFFF;stroke-width:1.0;\" width=\"602\" x=\"0\" y=\"58\"/><text fill=\"#000000\" font-family=\"sans-serif\" font-size=\"12\" font-weight=\"bold\" lengthAdjust=\"spacing\" textLength=\"145.75\" x=\"5\" y=\"74.1387\">Welcome to PlantUML!</text><text fill=\"#000000\" font-family=\"sans-serif\" font-size=\"12\" lengthAdjust=\"spacing\" textLength=\"4\" x=\"5\" y=\"88.1074\"> </text><text fill=\"#000000\" font-family=\"sans-serif\" font-size=\"12\" lengthAdjust=\"spacing\" textLength=\"283\" x=\"5\" y=\"102.0762\">You can start with a simple UML Diagram like:</text><text fill=\"#000000\" font-family=\"sans-serif\" font-size=\"12\" lengthAdjust=\"spacing\" textLength=\"4\" x=\"5\" y=\"116.0449\"> </text><text fill=\"#000000\" font-family=\"monospace\" font-size=\"12\" lengthAdjust=\"spacing\" textLength=\"119\" x=\"5\" y=\"131.7031\">Bob-&gt;Alice: Hello</text><text fill=\"#000000\" font-family=\"sans-serif\" font-size=\"12\" lengthAdjust=\"spacing\" textLength=\"4\" x=\"5\" y=\"146.3578\"> </text><text fill=\"#000000\" font-family=\"sans-serif\" font-size=\"12\" lengthAdjust=\"spacing\" textLength=\"14\" x=\"5\" y=\"160.3265\">Or</text><text fill=\"#000000\" font-family=\"sans-serif\" font-size=\"12\" lengthAdjust=\"spacing\" textLength=\"4\" x=\"5\" y=\"174.2953\"> </text><text fill=\"#000000\" font-family=\"monospace\" font-size=\"12\" lengthAdjust=\"spacing\" textLength=\"91\" x=\"5\" y=\"189.9535\">class Example</text><text fill=\"#000000\" font-family=\"sans-serif\" font-size=\"12\" lengthAdjust=\"spacing\" textLength=\"4\" x=\"5\" y=\"204.6082\"> </text><text fill=\"#000000\" font-family=\"sans-serif\" font-size=\"12\" lengthAdjust=\"spacing\" textLength=\"349\" x=\"5\" y=\"218.5769\">You will find more information about PlantUML syntax on</text><text fill=\"#000000\" font-family=\"sans-serif\" font-size=\"12\" lengthAdjust=\"spacing\" text-decoration=\"underline\" textLength=\"129\" x=\"358\" y=\"218.5769\">https://plantuml.com</text><text fill=\"#000000\" font-family=\"sans-serif\" font-size=\"12\" lengthAdjust=\"spacing\" textLength=\"4\" x=\"5\" y=\"232.5457\"> </text><text fill=\"#000000\" font-family=\"sans-serif\" font-size=\"12\" lengthAdjust=\"spacing\" textLength=\"299\" x=\"5\" y=\"246.5144\">(If you use this software, you accept its license)</text><text fill=\"#000000\" font-family=\"sans-serif\" font-size=\"12\" lengthAdjust=\"spacing\" textLength=\"108\" x=\"5\" y=\"262.8585\">(Details by typing</text><text fill=\"#000000\" font-family=\"monospace\" font-size=\"12\" lengthAdjust=\"spacing\" textLength=\"49\" x=\"117\" y=\"262.1726\">license</text><text fill=\"#000000\" font-family=\"sans-serif\" font-size=\"12\" lengthAdjust=\"spacing\" textLength=\"56\" x=\"170\" y=\"262.8585\">keyword)</text><text fill=\"#000000\" font-family=\"sans-serif\" font-size=\"12\" lengthAdjust=\"spacing\" textLength=\"4\" x=\"5\" y=\"276.8273\"> </text><image height=\"71\" width=\"80\" x=\"516\" xlink:href=\"data:image/png;base64,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\" y=\"64\"/><rect fill=\"#000000\" height=\"160.3594\" style=\"stroke:#000000;stroke-width:1.0;\" width=\"602\" x=\"0\" y=\"284.6573\"/><text fill=\"#33FF02\" font-family=\"sans-serif\" font-size=\"12\" font-style=\"italic\" font-weight=\"bold\" lengthAdjust=\"spacing\" textLength=\"123\" x=\"5\" y=\"301.6573\">PlantUML 1.2022.7</text><text fill=\"#33FF02\" font-family=\"sans-serif\" font-size=\"12\" font-style=\"italic\" font-weight=\"bold\" lengthAdjust=\"spacing\" textLength=\"4\" x=\"5\" y=\"315.6261\"> </text><text fill=\"#33FF02\" font-family=\"sans-serif\" font-size=\"12\" font-style=\"italic\" font-weight=\"bold\" lengthAdjust=\"spacing\" textLength=\"390\" x=\"5\" y=\"329.5948\">&lt;b&gt;This version of PlantUML is 846 days old, so you should</text><text fill=\"#33FF02\" font-family=\"sans-serif\" font-size=\"12\" font-style=\"italic\" font-weight=\"bold\" lengthAdjust=\"spacing\" textLength=\"398.875\" x=\"5\" y=\"343.5636\">&lt;b&gt;consider upgrading from https://plantuml.com/download</text><rect fill=\"#33FF02\" height=\"21.2969\" style=\"stroke:#33FF02;stroke-width:1.0;\" width=\"153.3125\" x=\"5\" y=\"353.5323\"/><text fill=\"#000000\" font-family=\"sans-serif\" font-size=\"14\" font-weight=\"bold\" lengthAdjust=\"spacing\" textLength=\"151.3125\" x=\"6\" y=\"368.5323\">[From string (line 2) ]</text><text fill=\"#33FF02\" font-family=\"sans-serif\" font-size=\"14\" font-weight=\"bold\" lengthAdjust=\"spacing\" textLength=\"4\" x=\"5\" y=\"388.8292\"> </text><text fill=\"#33FF02\" font-family=\"sans-serif\" font-size=\"14\" font-weight=\"bold\" lengthAdjust=\"spacing\" textLength=\"73.9375\" x=\"5\" y=\"405.1261\">@startuml</text><text fill=\"#33FF02\" font-family=\"sans-serif\" font-size=\"14\" font-weight=\"bold\" lengthAdjust=\"spacing\" text-decoration=\"wavy underline\" textLength=\"4\" x=\"5\" y=\"421.423\"> </text><text fill=\"#FF0000\" font-family=\"sans-serif\" font-size=\"14\" font-weight=\"bold\" lengthAdjust=\"spacing\" textLength=\"131\" x=\"9\" y=\"437.7198\">Empty description</text><rect fill=\"#F6C914\" height=\"58\" style=\"stroke:#F6C914;stroke-width:1.0;\" width=\"602\" x=\"0\" y=\"445.0167\"/><image height=\"58\" width=\"454\" x=\"1\" xlink:href=\"data:image/png;base64,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\" y=\"446.0167\"/><!--MD5=[5b6570bdd48fecdb4121f0162c378f28]\n",
       "@startuml\r\n",
       " \r\n",
       "@enduml\r\n",
       "\n",
       "PlantUML version 1.2022.7(Mon Aug 22 17:01:30 UTC 2022)\n",
       "(EPL source distribution)\n",
       "Java Runtime: OpenJDK Runtime Environment\n",
       "JVM: OpenJDK 64-Bit Server VM\n",
       "Default Encoding: UTF-8\n",
       "Language: en\n",
       "Country: null\n",
       "--></g></svg>"
      ]
     },
     "execution_count": 32,
     "metadata": {},
     "output_type": "execute_result"
    }
   ],
   "source": [
    "%viz --style=\"PLANTUML\" --view=\"State\" \"ItemTest\""
   ]
  },
  {
   "cell_type": "code",
   "execution_count": 33,
   "id": "ce45ff38",
   "metadata": {
    "execution": {
     "iopub.execute_input": "2024-12-16T14:15:17.881040Z",
     "iopub.status.busy": "2024-12-16T14:15:17.880802Z",
     "iopub.status.idle": "2024-12-16T14:15:17.899837Z",
     "shell.execute_reply": "2024-12-16T14:15:17.899074Z"
    }
   },
   "outputs": [
    {
     "data": {
      "image/svg+xml": [
       "<?xml version=\"1.0\" encoding=\"UTF-8\" standalone=\"no\"?><svg xmlns=\"http://www.w3.org/2000/svg\" xmlns:xlink=\"http://www.w3.org/1999/xlink\" contentStyleType=\"text/css\" height=\"224px\" preserveAspectRatio=\"none\" style=\"width:493px;height:224px;background:#FFFFFF;\" version=\"1.1\" viewBox=\"0 0 493 224\" width=\"493px\" zoomAndPan=\"magnify\"><defs/><g><!--MD5=[fbc87193dbaf4d95561dea2c320d4a47]\n",
       "cluster E1--><g id=\"cluster_E1\"><a href=\"psysml:cd87d2b7-4fa1-4c1b-a4f6-af691b0dec58\" target=\"_top\" title=\"psysml:cd87d2b7-4fa1-4c1b-a4f6-af691b0dec58\" xlink:actuate=\"onRequest\" xlink:href=\"psysml:cd87d2b7-4fa1-4c1b-a4f6-af691b0dec58\" xlink:show=\"new\" xlink:title=\"psysml:cd87d2b7-4fa1-4c1b-a4f6-af691b0dec58\" xlink:type=\"simple\"><path d=\"M8.5,6 L74,6 A3.75,3.75 0 0 1 76.5,8.5 L83.5,28.2969 L483.5,28.2969 A2.5,2.5 0 0 1 486,30.7969 L486,214.5 A2.5,2.5 0 0 1 483.5,217 L8.5,217 A2.5,2.5 0 0 1 6,214.5 L6,8.5 A2.5,2.5 0 0 1 8.5,6 \" fill=\"none\" style=\"stroke:#000000;stroke-width:1.5;\"/><line style=\"stroke:#000000;stroke-width:1.5;\" x1=\"6\" x2=\"83.5\" y1=\"28.2969\" y2=\"28.2969\"/><text fill=\"#000000\" font-family=\"sans-serif\" font-size=\"14\" font-weight=\"bold\" lengthAdjust=\"spacing\" textLength=\"64.5\" x=\"10\" y=\"20.9951\">ItemTest</text></a></g><!--MD5=[de5ec2e2e8f62f467e546659f5068c88]\n",
       "cluster E5--><g id=\"cluster_E5\"><a href=\"psysml:1568c6af-b382-4c7f-b02a-0d87dd86c0f5\" target=\"_top\" title=\"psysml:1568c6af-b382-4c7f-b02a-0d87dd86c0f5\" xlink:actuate=\"onRequest\" xlink:href=\"psysml:1568c6af-b382-4c7f-b02a-0d87dd86c0f5\" xlink:show=\"new\" xlink:title=\"psysml:1568c6af-b382-4c7f-b02a-0d87dd86c0f5\" xlink:type=\"simple\"><rect fill=\"#FFFFFF\" height=\"96\" id=\"E5\" style=\"stroke:#A80036;stroke-width:1.5;\" width=\"140\" x=\"322\" y=\"49\"/><rect fill=\"#F1F1F1\" height=\"26.2969\" style=\"stroke:#A80036;stroke-width:1.5;\" width=\"140\" x=\"322\" y=\"49\"/><text fill=\"#000000\" font-family=\"sans-serif\" font-size=\"14\" lengthAdjust=\"spacing\" textLength=\"10\" x=\"387\" y=\"66.9951\">C</text></a></g><g><a href=\"psysml:7645df02-ea24-41fb-927b-82e0988a44f2\" target=\"_top\" title=\"psysml:7645df02-ea24-41fb-927b-82e0988a44f2\" xlink:actuate=\"onRequest\" xlink:href=\"psysml:7645df02-ea24-41fb-927b-82e0988a44f2\" xlink:show=\"new\" xlink:title=\"psysml:7645df02-ea24-41fb-927b-82e0988a44f2\" xlink:type=\"simple\"><rect fill=\"#F1F1F1\" height=\"40\" id=\"E3\" style=\"stroke:#A80036;stroke-width:1.5;\" width=\"50\" x=\"27\" y=\"161\"/><ellipse cx=\"46.05\" cy=\"177\" fill=\"#008000\" rx=\"11\" ry=\"11\" style=\"stroke:#181818;stroke-width:1.0;\"/><path d=\"M42.9094,183.5 L42.9094,171.3594 L46.7063,171.3594 Q48.7063,171.3594 49.7531,172.0625 Q50.8156,172.7656 50.8156,174.3438 Q50.8156,175.4375 50.3156,176.1563 Q49.8313,176.875 49.0031,177.0625 L49.0031,177.1406 Q49.925,177.3594 50.4875,178.0313 Q51.0656,178.6875 51.0656,179.9531 Q51.0656,181.6094 50.0188,182.5625 Q48.9719,183.5 47.1125,183.5 L42.9094,183.5 Z M46.6906,176.1406 Q47.5813,176.1406 47.9406,175.8125 Q48.3156,175.4688 48.3156,174.7656 Q48.3156,174.0313 47.925,173.7188 Q47.5344,173.3906 46.5969,173.3906 L45.2063,173.3906 L45.2063,176.1406 L46.6906,176.1406 Z M46.8781,181.4844 Q47.7844,181.4844 48.1438,181.0469 Q48.5031,180.5938 48.5031,179.8125 Q48.5031,179.0313 48.1281,178.6406 Q47.7688,178.2344 46.7844,178.2344 L45.2063,178.2344 L45.2063,181.4844 L46.8781,181.4844 Z \" fill=\"#000000\"/><text fill=\"#000000\" font-family=\"sans-serif\" font-size=\"14\" lengthAdjust=\"spacing\" textLength=\"9\" x=\"60.95\" y=\"181.8467\">A</text></a></g><g><a href=\"psysml:1c5a109b-6d3b-4425-b763-85184515822e\" target=\"_top\" title=\"psysml:1c5a109b-6d3b-4425-b763-85184515822e\" xlink:actuate=\"onRequest\" xlink:href=\"psysml:1c5a109b-6d3b-4425-b763-85184515822e\" xlink:show=\"new\" xlink:title=\"psysml:1c5a109b-6d3b-4425-b763-85184515822e\" xlink:type=\"simple\"><rect fill=\"#F1F1F1\" height=\"40\" id=\"E4\" style=\"stroke:#A80036;stroke-width:1.5;\" width=\"50\" x=\"253\" y=\"86.5\"/><ellipse cx=\"271.6\" cy=\"102.5\" fill=\"#008000\" rx=\"11\" ry=\"11\" style=\"stroke:#181818;stroke-width:1.0;\"/><path d=\"M268.4594,109 L268.4594,96.8594 L272.2563,96.8594 Q274.2563,96.8594 275.3031,97.5625 Q276.3656,98.2656 276.3656,99.8438 Q276.3656,100.9375 275.8656,101.6563 Q275.3813,102.375 274.5531,102.5625 L274.5531,102.6406 Q275.475,102.8594 276.0375,103.5313 Q276.6156,104.1875 276.6156,105.4531 Q276.6156,107.1094 275.5688,108.0625 Q274.5219,109 272.6625,109 L268.4594,109 Z M272.2406,101.6406 Q273.1313,101.6406 273.4906,101.3125 Q273.8656,100.9688 273.8656,100.2656 Q273.8656,99.5313 273.475,99.2188 Q273.0844,98.8906 272.1469,98.8906 L270.7563,98.8906 L270.7563,101.6406 L272.2406,101.6406 Z M272.4281,106.9844 Q273.3344,106.9844 273.6938,106.5469 Q274.0531,106.0938 274.0531,105.3125 Q274.0531,104.5313 273.6781,104.1406 Q273.3188,103.7344 272.3344,103.7344 L270.7563,103.7344 L270.7563,106.9844 L272.4281,106.9844 Z \" fill=\"#000000\"/><text fill=\"#000000\" font-family=\"sans-serif\" font-size=\"14\" font-style=\"italic\" lengthAdjust=\"spacing\" textLength=\"10\" x=\"286.4\" y=\"107.3467\">B</text></a></g><g><a href=\"psysml:7b3481ba-f47b-4c12-87df-4d6f620e6d00\" target=\"_top\" title=\"psysml:7b3481ba-f47b-4c12-87df-4d6f620e6d00\" xlink:actuate=\"onRequest\" xlink:href=\"psysml:7b3481ba-f47b-4c12-87df-4d6f620e6d00\" xlink:show=\"new\" xlink:title=\"psysml:7b3481ba-f47b-4c12-87df-4d6f620e6d00\" xlink:type=\"simple\"><rect fill=\"#F1F1F1\" height=\"45.2656\" id=\"E7\" style=\"stroke:#A80036;stroke-width:1.5;\" width=\"101\" x=\"116.5\" y=\"84\"/><ellipse cx=\"133.75\" cy=\"104.1328\" fill=\"#A52A2A\" rx=\"11\" ry=\"11\" style=\"stroke:#181818;stroke-width:1.0;\"/><path d=\"M130.5156,110.6328 L130.5156,98.4922 L134.2656,98.4922 Q136.6406,98.4922 138.0313,100.0078 Q139.4375,101.5078 139.4375,104.4609 Q139.4375,107.4297 138,109.0391 Q136.5625,110.6328 134.0781,110.6328 L130.5156,110.6328 Z M133.9531,108.5391 Q135.5,108.5391 136.2188,107.5391 Q136.9375,106.5391 136.9375,104.4766 Q136.9375,102.4453 136.2344,101.5234 Q135.5469,100.5859 134.1563,100.5859 L132.9531,100.5859 L132.9531,108.5391 L133.9531,108.5391 Z \" fill=\"#000000\"/><text fill=\"#000000\" font-family=\"sans-serif\" font-size=\"12\" font-style=\"italic\" lengthAdjust=\"spacing\" textLength=\"68\" x=\"146.25\" y=\"100.1387\">«port  def»</text><text fill=\"#000000\" font-family=\"sans-serif\" font-size=\"14\" lengthAdjust=\"spacing\" textLength=\"9\" x=\"175.75\" y=\"115.9639\">P</text></a></g><g><a href=\"psysml:a6e7d788-746b-466d-b844-23a78300b1ae\" target=\"_top\" title=\"psysml:a6e7d788-746b-466d-b844-23a78300b1ae\" xlink:actuate=\"onRequest\" xlink:href=\"psysml:a6e7d788-746b-466d-b844-23a78300b1ae\" xlink:show=\"new\" xlink:title=\"psysml:a6e7d788-746b-466d-b844-23a78300b1ae\" xlink:type=\"simple\"><rect fill=\"#F1F1F1\" height=\"40\" id=\"E2\" rx=\"10\" ry=\"10\" style=\"stroke:#A80036;stroke-width:1.5;\" width=\"59\" x=\"22.5\" y=\"86.5\"/><ellipse cx=\"39.75\" cy=\"102.5\" fill=\"#32CD32\" rx=\"11\" ry=\"11\" style=\"stroke:#181818;stroke-width:1.0;\"/><path d=\"M36.6094,109 L36.6094,96.8594 L40.6406,96.8594 Q42.7344,96.8594 43.75,97.8438 Q44.7656,98.8125 44.7656,100.6406 Q44.7656,101.8438 44.3281,102.75 Q43.9063,103.6563 42.9531,104.1719 Q42.0156,104.6875 40.4844,104.6875 L38.9844,104.6875 L38.9844,109 L36.6094,109 Z M40.2344,102.5938 Q41.2813,102.5938 41.7969,102.1094 Q42.3281,101.625 42.3281,100.7344 Q42.3281,99.8438 41.8906,99.4063 Q41.4688,98.9531 40.5469,98.9531 L38.9844,98.9531 L38.9844,102.5938 L40.2344,102.5938 Z \" fill=\"#000000\"/><text fill=\"#000000\" font-family=\"sans-serif\" font-size=\"14\" lengthAdjust=\"spacing\" textLength=\"22\" x=\"54.25\" y=\"107.3467\">f: A</text></a></g><g><a href=\"psysml:c4551329-8b56-4fd0-9fbf-f2d280f6b39b\" target=\"_top\" title=\"psysml:c4551329-8b56-4fd0-9fbf-f2d280f6b39b\" xlink:actuate=\"onRequest\" xlink:href=\"psysml:c4551329-8b56-4fd0-9fbf-f2d280f6b39b\" xlink:show=\"new\" xlink:title=\"psysml:c4551329-8b56-4fd0-9fbf-f2d280f6b39b\" xlink:type=\"simple\"><rect fill=\"#F1F1F1\" height=\"45.2656\" id=\"E6\" rx=\"10\" ry=\"10\" style=\"stroke:#A80036;stroke-width:1.5;\" width=\"108\" x=\"338\" y=\"84\"/><ellipse cx=\"355.25\" cy=\"104.1328\" fill=\"#FFA500\" rx=\"11\" ry=\"11\" style=\"stroke:#181818;stroke-width:1.0;\"/><path d=\"M355.3125,111.3047 Q353.2031,111.3047 352.1094,110.1797 Q351.0156,109.0547 351.0156,107.0078 L351.0156,98.9922 L353.4844,98.9922 L353.4844,106.5703 Q353.4844,108.0078 353.9375,108.6016 Q354.3906,109.1797 355.3438,109.1797 Q356.3594,109.1797 356.7813,108.5703 Q357.2188,107.9609 357.2188,106.5547 L357.2188,98.9922 L359.6875,98.9922 L359.6875,106.9922 Q359.6875,108.9766 358.5938,110.1484 Q357.5156,111.3047 355.3125,111.3047 Z \" fill=\"#000000\"/><text fill=\"#000000\" font-family=\"sans-serif\" font-size=\"12\" font-style=\"italic\" lengthAdjust=\"spacing\" textLength=\"75\" x=\"367.75\" y=\"100.1387\">«reference»</text><text fill=\"#000000\" font-family=\"sans-serif\" font-size=\"14\" lengthAdjust=\"spacing\" textLength=\"43\" x=\"379.75\" y=\"115.9639\">y: A, B</text></a></g><!--MD5=[2720a5a1f2c3fca2055b230370638851]\n",
       "link E2 to E3--><g id=\"link_E2_E3\"><a href=\"psysml:70c9c3cf-ded5-4fad-940c-650d810049d2\" target=\"_top\" title=\"psysml:70c9c3cf-ded5-4fad-940c-650d810049d2\" xlink:actuate=\"onRequest\" xlink:href=\"psysml:70c9c3cf-ded5-4fad-940c-650d810049d2\" xlink:show=\"new\" xlink:title=\"psysml:70c9c3cf-ded5-4fad-940c-650d810049d2\" xlink:type=\"simple\"><path d=\"M52,126.55 C52,130.93 52,135.74 52,140.63 \" fill=\"none\" id=\"E2-to-E3\" style=\"stroke:#181818;stroke-width:1.0;\"/><polygon fill=\"#FFFFFF\" points=\"52,160.83,45,141.83,59,141.83,52,160.83\" style=\"stroke:#181818;stroke-width:1.0;\"/><ellipse cx=\"47\" cy=\"136.13\" fill=\"#181818\" rx=\"2\" ry=\"2\" style=\"stroke:#181818;stroke-width:1.0;\"/><ellipse cx=\"57\" cy=\"136.13\" fill=\"#181818\" rx=\"2\" ry=\"2\" style=\"stroke:#181818;stroke-width:1.0;\"/></a></g><!--MD5=[985c96b03be85786ff8b72c83bb5ed9f]\n",
       "@startuml\r\n",
       " skinparam ranksep 10\r\n",
       "skinparam rectangle {\r\n",
       " backgroundColor<<block>> LightGreen\r\n",
       "}\r\n",
       "\r\n",
       "package \"ItemTest\" as E1  [[psysml:cd87d2b7-4fa1-4c1b-a4f6-af691b0dec58 ]]  {\r\n",
       "rec usage \"f: A\" as E2  << << (P,limegreen) >> [[psysml:a6e7d788-746b-466d-b844-23a78300b1ae ]] {\r\n",
       "}\r\n",
       "def \"A\" as E3  << << (B,green) >> [[psysml:7645df02-ea24-41fb-927b-82e0988a44f2 ]] \r\n",
       "def \"<i>B</i>\" as E4  << << (B,green) >> [[psysml:1c5a109b-6d3b-4425-b763-85184515822e ]] \r\n",
       "rec def \"C\" as E5  << << (B,green) >> [[psysml:1568c6af-b382-4c7f-b02a-0d87dd86c0f5 ]] {\r\n",
       "rec usage \"y: A, B  \" as E6  << <<(U,orange) reference>> [[psysml:c4551329-8b56-4fd0-9fbf-f2d280f6b39b ]] {\r\n",
       "}\r\n",
       "\r\n",
       "}\r\n",
       "def \"P\" as E7  << <<(D,brown) port  def>> [[psysml:7b3481ba-f47b-4c12-87df-4d6f620e6d00 ]] \r\n",
       "}\r\n",
       "E2 - -:|> E3 [[psysml:70c9c3cf-ded5-4fad-940c-650d810049d2 ]] \r\n",
       "@enduml\r\n",
       "\n",
       "PlantUML version 1.2022.7(Mon Aug 22 17:01:30 UTC 2022)\n",
       "(EPL source distribution)\n",
       "Java Runtime: OpenJDK Runtime Environment\n",
       "JVM: OpenJDK 64-Bit Server VM\n",
       "Default Encoding: UTF-8\n",
       "Language: en\n",
       "Country: null\n",
       "--></g></svg>"
      ]
     },
     "execution_count": 33,
     "metadata": {},
     "output_type": "execute_result"
    }
   ],
   "source": [
    "%viz --style=\"PLANTUML\" --view=\"Interconnection\" \"ItemTest\""
   ]
  },
  {
   "cell_type": "code",
   "execution_count": 34,
   "id": "a768fb47",
   "metadata": {
    "execution": {
     "iopub.execute_input": "2024-12-16T14:15:17.950959Z",
     "iopub.status.busy": "2024-12-16T14:15:17.950728Z",
     "iopub.status.idle": "2024-12-16T14:15:17.955470Z",
     "shell.execute_reply": "2024-12-16T14:15:17.955294Z"
    }
   },
   "outputs": [
    {
     "data": {
      "image/svg+xml": [
       "<?xml version=\"1.0\" encoding=\"UTF-8\" standalone=\"no\"?><svg xmlns=\"http://www.w3.org/2000/svg\" xmlns:xlink=\"http://www.w3.org/1999/xlink\" contentStyleType=\"text/css\" height=\"10px\" preserveAspectRatio=\"none\" style=\"width:10px;height:10px;background:#FFFFFF;\" version=\"1.1\" viewBox=\"0 0 10 10\" width=\"10px\" zoomAndPan=\"magnify\"><defs/><g><!--MD5=[5b85ed15c012f432344d03f88cdcf85b]\n",
       "@startuml\r\n",
       " skinparam ranksep 8\r\n",
       "\r\n",
       "@enduml\r\n",
       "\n",
       "PlantUML version 1.2022.7(Mon Aug 22 17:01:30 UTC 2022)\n",
       "(EPL source distribution)\n",
       "Java Runtime: OpenJDK Runtime Environment\n",
       "JVM: OpenJDK 64-Bit Server VM\n",
       "Default Encoding: UTF-8\n",
       "Language: en\n",
       "Country: null\n",
       "--></g></svg>"
      ]
     },
     "execution_count": 34,
     "metadata": {},
     "output_type": "execute_result"
    }
   ],
   "source": [
    "%viz --style=\"PLANTUML\" --view=\"Action\" \"ItemTest\""
   ]
  },
  {
   "cell_type": "code",
   "execution_count": 35,
   "id": "0d1cd9e9",
   "metadata": {
    "execution": {
     "iopub.execute_input": "2024-12-16T14:15:18.008937Z",
     "iopub.status.busy": "2024-12-16T14:15:18.008695Z",
     "iopub.status.idle": "2024-12-16T14:15:18.014008Z",
     "shell.execute_reply": "2024-12-16T14:15:18.014172Z"
    }
   },
   "outputs": [
    {
     "data": {
      "image/svg+xml": [
       "<?xml version=\"1.0\" encoding=\"UTF-8\" standalone=\"no\"?><svg xmlns=\"http://www.w3.org/2000/svg\" xmlns:xlink=\"http://www.w3.org/1999/xlink\" contentStyleType=\"text/css\" height=\"10px\" preserveAspectRatio=\"none\" style=\"width:10px;height:10px;background:#FFFFFF;\" version=\"1.1\" viewBox=\"0 0 10 10\" width=\"10px\" zoomAndPan=\"magnify\"><defs/><g><!--MD5=[395e82ba475bd2e80052467b56fa0251]\n",
       "@startuml\r\n",
       " skinparam roundcorner 20\r\n",
       "skinparam BoxPadding 20\r\n",
       "skinparam SequenceBoxBackgroundColor #white\r\n",
       "skinparam style strictuml\r\n",
       "skinparam maxMessageSize 100\r\n",
       "\r\n",
       "@enduml\r\n",
       "\n",
       "PlantUML version 1.2022.7(Mon Aug 22 17:01:30 UTC 2022)\n",
       "(EPL source distribution)\n",
       "Java Runtime: OpenJDK Runtime Environment\n",
       "JVM: OpenJDK 64-Bit Server VM\n",
       "Default Encoding: UTF-8\n",
       "Language: en\n",
       "Country: null\n",
       "--></g></svg>"
      ]
     },
     "execution_count": 35,
     "metadata": {},
     "output_type": "execute_result"
    }
   ],
   "source": [
    "%viz --style=\"PLANTUML\" --view=\"Sequence\" \"ItemTest\""
   ]
  },
  {
   "cell_type": "code",
   "execution_count": 36,
   "id": "4fb16bd5",
   "metadata": {
    "execution": {
     "iopub.execute_input": "2024-12-16T14:15:18.071785Z",
     "iopub.status.busy": "2024-12-16T14:15:18.071431Z",
     "iopub.status.idle": "2024-12-16T14:15:18.104812Z",
     "shell.execute_reply": "2024-12-16T14:15:18.103703Z"
    }
   },
   "outputs": [
    {
     "data": {
      "image/svg+xml": [
       "<?xml version=\"1.0\" encoding=\"UTF-8\" standalone=\"no\"?><svg xmlns=\"http://www.w3.org/2000/svg\" xmlns:xlink=\"http://www.w3.org/1999/xlink\" contentStyleType=\"text/css\" height=\"789px\" preserveAspectRatio=\"none\" style=\"width:327px;height:789px;background:#FFFFFF;\" version=\"1.1\" viewBox=\"0 0 327 789\" width=\"327px\" zoomAndPan=\"magnify\"><defs/><g><!--MD5=[fbc87193dbaf4d95561dea2c320d4a47]\n",
       "cluster E1--><g id=\"cluster_E1\"><a href=\"psysml:cd87d2b7-4fa1-4c1b-a4f6-af691b0dec58\" target=\"_top\" title=\"psysml:cd87d2b7-4fa1-4c1b-a4f6-af691b0dec58\" xlink:actuate=\"onRequest\" xlink:href=\"psysml:cd87d2b7-4fa1-4c1b-a4f6-af691b0dec58\" xlink:show=\"new\" xlink:title=\"psysml:cd87d2b7-4fa1-4c1b-a4f6-af691b0dec58\" xlink:type=\"simple\"><path d=\"M8.5,6 L74,6 A3.75,3.75 0 0 1 76.5,8.5 L83.5,28.2969 L317.5,28.2969 A2.5,2.5 0 0 1 320,30.7969 L320,779.5 A2.5,2.5 0 0 1 317.5,782 L8.5,782 A2.5,2.5 0 0 1 6,779.5 L6,8.5 A2.5,2.5 0 0 1 8.5,6 \" fill=\"none\" style=\"stroke:#000000;stroke-width:1.5;\"/><line style=\"stroke:#000000;stroke-width:1.5;\" x1=\"6\" x2=\"83.5\" y1=\"28.2969\" y2=\"28.2969\"/><text fill=\"#000000\" font-family=\"sans-serif\" font-size=\"14\" font-weight=\"bold\" lengthAdjust=\"spacing\" textLength=\"64.5\" x=\"10\" y=\"20.9951\">ItemTest</text></a></g><!--MD5=[b4997ac47864f28c2f74865a473b2911]\n",
       "class E2--><a href=\"psysml:a6e7d788-746b-466d-b844-23a78300b1ae\" target=\"_top\" title=\"psysml:a6e7d788-746b-466d-b844-23a78300b1ae\" xlink:actuate=\"onRequest\" xlink:href=\"psysml:a6e7d788-746b-466d-b844-23a78300b1ae\" xlink:show=\"new\" xlink:title=\"psysml:a6e7d788-746b-466d-b844-23a78300b1ae\" xlink:type=\"simple\"><g id=\"elem_E2\"><rect fill=\"#F1F1F1\" height=\"40\" id=\"E2\" rx=\"10\" ry=\"10\" style=\"stroke:#181818;stroke-width:0.5;\" width=\"62\" x=\"242\" y=\"150\"/><ellipse cx=\"257\" cy=\"166\" fill=\"#32CD32\" rx=\"11\" ry=\"11\" style=\"stroke:#181818;stroke-width:1.0;\"/><path d=\"M253.8594,172.5 L253.8594,160.3594 L257.8906,160.3594 Q259.9844,160.3594 261,161.3438 Q262.0156,162.3125 262.0156,164.1406 Q262.0156,165.3438 261.5781,166.25 Q261.1563,167.1563 260.2031,167.6719 Q259.2656,168.1875 257.7344,168.1875 L256.2344,168.1875 L256.2344,172.5 L253.8594,172.5 Z M257.4844,166.0938 Q258.5313,166.0938 259.0469,165.6094 Q259.5781,165.125 259.5781,164.2344 Q259.5781,163.3438 259.1406,162.9063 Q258.7188,162.4531 257.7969,162.4531 L256.2344,162.4531 L256.2344,166.0938 L257.4844,166.0938 Z \" fill=\"#000000\"/><text fill=\"#000000\" font-family=\"sans-serif\" font-size=\"14\" lengthAdjust=\"spacing\" textLength=\"22\" x=\"271\" y=\"170.8467\">f: A</text><line style=\"stroke:#181818;stroke-width:0.5;\" x1=\"243\" x2=\"303\" y1=\"182\" y2=\"182\"/></g></a><!--MD5=[09b614a08d8cba4a07c9adeb5e0fee81]\n",
       "class E3--><a href=\"psysml:7645df02-ea24-41fb-927b-82e0988a44f2\" target=\"_top\" title=\"psysml:7645df02-ea24-41fb-927b-82e0988a44f2\" xlink:actuate=\"onRequest\" xlink:href=\"psysml:7645df02-ea24-41fb-927b-82e0988a44f2\" xlink:show=\"new\" xlink:title=\"psysml:7645df02-ea24-41fb-927b-82e0988a44f2\" xlink:type=\"simple\"><g id=\"elem_E3\"><rect fill=\"#F1F1F1\" height=\"40\" id=\"E3\" rx=\"2.5\" ry=\"2.5\" style=\"stroke:#181818;stroke-width:0.5;\" width=\"41\" x=\"148.5\" y=\"251\"/><ellipse cx=\"163.5\" cy=\"267\" fill=\"#008000\" rx=\"11\" ry=\"11\" style=\"stroke:#181818;stroke-width:1.0;\"/><path d=\"M160.3594,273.5 L160.3594,261.3594 L164.1563,261.3594 Q166.1563,261.3594 167.2031,262.0625 Q168.2656,262.7656 168.2656,264.3438 Q168.2656,265.4375 167.7656,266.1563 Q167.2813,266.875 166.4531,267.0625 L166.4531,267.1406 Q167.375,267.3594 167.9375,268.0313 Q168.5156,268.6875 168.5156,269.9531 Q168.5156,271.6094 167.4688,272.5625 Q166.4219,273.5 164.5625,273.5 L160.3594,273.5 Z M164.1406,266.1406 Q165.0313,266.1406 165.3906,265.8125 Q165.7656,265.4688 165.7656,264.7656 Q165.7656,264.0313 165.375,263.7188 Q164.9844,263.3906 164.0469,263.3906 L162.6563,263.3906 L162.6563,266.1406 L164.1406,266.1406 Z M164.3281,271.4844 Q165.2344,271.4844 165.5938,271.0469 Q165.9531,270.5938 165.9531,269.8125 Q165.9531,269.0313 165.5781,268.6406 Q165.2188,268.2344 164.2344,268.2344 L162.6563,268.2344 L162.6563,271.4844 L164.3281,271.4844 Z \" fill=\"#000000\"/><text fill=\"#000000\" font-family=\"sans-serif\" font-size=\"14\" lengthAdjust=\"spacing\" textLength=\"9\" x=\"177.5\" y=\"271.8467\">A</text><line style=\"stroke:#181818;stroke-width:0.5;\" x1=\"149.5\" x2=\"188.5\" y1=\"283\" y2=\"283\"/></g></a><!--MD5=[ebbe1d658d1005bcc118a6aa81145e00]\n",
       "class E4--><a href=\"psysml:426ed2e2-6591-4c8f-a505-52d546190911\" target=\"_top\" title=\"psysml:426ed2e2-6591-4c8f-a505-52d546190911\" xlink:actuate=\"onRequest\" xlink:href=\"psysml:426ed2e2-6591-4c8f-a505-52d546190911\" xlink:show=\"new\" xlink:title=\"psysml:426ed2e2-6591-4c8f-a505-52d546190911\" xlink:type=\"simple\"><g id=\"elem_E4\"><rect fill=\"#F1F1F1\" height=\"40\" id=\"E4\" rx=\"10\" ry=\"10\" style=\"stroke:#181818;stroke-width:0.5;\" width=\"68\" x=\"50\" y=\"430\"/><ellipse cx=\"65\" cy=\"446\" fill=\"#32CD32\" rx=\"11\" ry=\"11\" style=\"stroke:#181818;stroke-width:1.0;\"/><path d=\"M61.8594,452.5 L61.8594,440.3594 L65.8906,440.3594 Q67.9844,440.3594 69,441.3438 Q70.0156,442.3125 70.0156,444.1406 Q70.0156,445.3438 69.5781,446.25 Q69.1563,447.1563 68.2031,447.6719 Q67.2656,448.1875 65.7344,448.1875 L64.2344,448.1875 L64.2344,452.5 L61.8594,452.5 Z M65.4844,446.0938 Q66.5313,446.0938 67.0469,445.6094 Q67.5781,445.125 67.5781,444.2344 Q67.5781,443.3438 67.1406,442.9063 Q66.7188,442.4531 65.7969,442.4531 L64.2344,442.4531 L64.2344,446.0938 L65.4844,446.0938 Z \" fill=\"#000000\"/><text fill=\"#000000\" font-family=\"sans-serif\" font-size=\"14\" lengthAdjust=\"spacing\" textLength=\"28\" x=\"79\" y=\"450.8467\">b: B</text><line style=\"stroke:#181818;stroke-width:0.5;\" x1=\"51\" x2=\"117\" y1=\"462\" y2=\"462\"/></g></a><!--MD5=[270fce915f116d4de14055a7c1d9a0f3]\n",
       "class E5--><a href=\"psysml:331ec08e-03d4-4ef2-9768-da2cb6dfa326\" target=\"_top\" title=\"psysml:331ec08e-03d4-4ef2-9768-da2cb6dfa326\" xlink:actuate=\"onRequest\" xlink:href=\"psysml:331ec08e-03d4-4ef2-9768-da2cb6dfa326\" xlink:show=\"new\" xlink:title=\"psysml:331ec08e-03d4-4ef2-9768-da2cb6dfa326\" xlink:type=\"simple\"><g id=\"elem_E5\"><rect fill=\"#F1F1F1\" height=\"48.2656\" id=\"E5\" rx=\"10\" ry=\"10\" style=\"stroke:#181818;stroke-width:0.5;\" width=\"68\" x=\"183\" y=\"352\"/><ellipse cx=\"198\" cy=\"372.1328\" fill=\"#32CD32\" rx=\"11\" ry=\"11\" style=\"stroke:#181818;stroke-width:1.0;\"/><path d=\"M194.8594,378.6328 L194.8594,366.4922 L198.8906,366.4922 Q200.9844,366.4922 202,367.4766 Q203.0156,368.4453 203.0156,370.2734 Q203.0156,371.4766 202.5781,372.3828 Q202.1563,373.2891 201.2031,373.8047 Q200.2656,374.3203 198.7344,374.3203 L197.2344,374.3203 L197.2344,378.6328 L194.8594,378.6328 Z M198.4844,372.2266 Q199.5313,372.2266 200.0469,371.7422 Q200.5781,371.2578 200.5781,370.3672 Q200.5781,369.4766 200.1406,369.0391 Q199.7188,368.5859 198.7969,368.5859 L197.2344,368.5859 L197.2344,372.2266 L198.4844,372.2266 Z \" fill=\"#000000\"/><text fill=\"#000000\" font-family=\"sans-serif\" font-size=\"12\" font-style=\"italic\" lengthAdjust=\"spacing\" textLength=\"40\" x=\"210\" y=\"368.1387\">«part»</text><text fill=\"#000000\" font-family=\"sans-serif\" font-size=\"14\" lengthAdjust=\"spacing\" textLength=\"27\" x=\"212.5\" y=\"383.9639\">c: C</text><line style=\"stroke:#181818;stroke-width:0.5;\" x1=\"184\" x2=\"250\" y1=\"392.2656\" y2=\"392.2656\"/></g></a><!--MD5=[60a26617385b1d2d0262a64233df1f8d]\n",
       "class E6--><a href=\"psysml:1c5a109b-6d3b-4425-b763-85184515822e\" target=\"_top\" title=\"psysml:1c5a109b-6d3b-4425-b763-85184515822e\" xlink:actuate=\"onRequest\" xlink:href=\"psysml:1c5a109b-6d3b-4425-b763-85184515822e\" xlink:show=\"new\" xlink:title=\"psysml:1c5a109b-6d3b-4425-b763-85184515822e\" xlink:type=\"simple\"><g id=\"elem_E6\"><rect fill=\"#F1F1F1\" height=\"40\" id=\"E6\" rx=\"2.5\" ry=\"2.5\" style=\"stroke:#181818;stroke-width:0.5;\" width=\"42\" x=\"139\" y=\"617\"/><ellipse cx=\"154\" cy=\"633\" fill=\"#008000\" rx=\"11\" ry=\"11\" style=\"stroke:#181818;stroke-width:1.0;\"/><path d=\"M150.8594,639.5 L150.8594,627.3594 L154.6563,627.3594 Q156.6563,627.3594 157.7031,628.0625 Q158.7656,628.7656 158.7656,630.3438 Q158.7656,631.4375 158.2656,632.1563 Q157.7813,632.875 156.9531,633.0625 L156.9531,633.1406 Q157.875,633.3594 158.4375,634.0313 Q159.0156,634.6875 159.0156,635.9531 Q159.0156,637.6094 157.9688,638.5625 Q156.9219,639.5 155.0625,639.5 L150.8594,639.5 Z M154.6406,632.1406 Q155.5313,632.1406 155.8906,631.8125 Q156.2656,631.4688 156.2656,630.7656 Q156.2656,630.0313 155.875,629.7188 Q155.4844,629.3906 154.5469,629.3906 L153.1563,629.3906 L153.1563,632.1406 L154.6406,632.1406 Z M154.8281,637.4844 Q155.7344,637.4844 156.0938,637.0469 Q156.4531,636.5938 156.4531,635.8125 Q156.4531,635.0313 156.0781,634.6406 Q155.7188,634.2344 154.7344,634.2344 L153.1563,634.2344 L153.1563,637.4844 L154.8281,637.4844 Z \" fill=\"#000000\"/><text fill=\"#000000\" font-family=\"sans-serif\" font-size=\"14\" font-style=\"italic\" lengthAdjust=\"spacing\" textLength=\"10\" x=\"168\" y=\"637.8467\">B</text><line style=\"stroke:#181818;stroke-width:0.5;\" x1=\"140\" x2=\"180\" y1=\"649\" y2=\"649\"/></g></a><!--MD5=[2156ba9850f5573cc1fc38a6a4b2f02b]\n",
       "class E7--><a href=\"psysml:3d3f18ff-1114-439a-91a9-78796a10458c\" target=\"_top\" title=\"psysml:3d3f18ff-1114-439a-91a9-78796a10458c\" xlink:actuate=\"onRequest\" xlink:href=\"psysml:3d3f18ff-1114-439a-91a9-78796a10458c\" xlink:show=\"new\" xlink:title=\"psysml:3d3f18ff-1114-439a-91a9-78796a10458c\" xlink:type=\"simple\"><g id=\"elem_E7\"><rect fill=\"#F1F1F1\" height=\"48.2656\" id=\"E7\" rx=\"10\" ry=\"10\" style=\"stroke:#181818;stroke-width:0.5;\" width=\"68\" x=\"218\" y=\"718\"/><ellipse cx=\"233\" cy=\"738.1328\" fill=\"#32CD32\" rx=\"11\" ry=\"11\" style=\"stroke:#181818;stroke-width:1.0;\"/><path d=\"M229.8594,744.6328 L229.8594,732.4922 L233.8906,732.4922 Q235.9844,732.4922 237,733.4766 Q238.0156,734.4453 238.0156,736.2734 Q238.0156,737.4766 237.5781,738.3828 Q237.1563,739.2891 236.2031,739.8047 Q235.2656,740.3203 233.7344,740.3203 L232.2344,740.3203 L232.2344,744.6328 L229.8594,744.6328 Z M233.4844,738.2266 Q234.5313,738.2266 235.0469,737.7422 Q235.5781,737.2578 235.5781,736.3672 Q235.5781,735.4766 235.1406,735.0391 Q234.7188,734.5859 233.7969,734.5859 L232.2344,734.5859 L232.2344,738.2266 L233.4844,738.2266 Z \" fill=\"#000000\"/><text fill=\"#000000\" font-family=\"sans-serif\" font-size=\"12\" font-style=\"italic\" lengthAdjust=\"spacing\" textLength=\"40\" x=\"245\" y=\"734.1387\">«part»</text><text fill=\"#000000\" font-family=\"sans-serif\" font-size=\"14\" font-style=\"italic\" lengthAdjust=\"spacing\" textLength=\"8\" x=\"248\" y=\"749.9639\">a</text><text fill=\"#000000\" font-family=\"sans-serif\" font-size=\"14\" lengthAdjust=\"spacing\" textLength=\"18\" x=\"256\" y=\"749.9639\">: A</text><line style=\"stroke:#181818;stroke-width:0.5;\" x1=\"219\" x2=\"285\" y1=\"758.2656\" y2=\"758.2656\"/></g></a><!--MD5=[b9389687b975829384b498ac4b7476b2]\n",
       "class E8--><a href=\"psysml:1568c6af-b382-4c7f-b02a-0d87dd86c0f5\" target=\"_top\" title=\"psysml:1568c6af-b382-4c7f-b02a-0d87dd86c0f5\" xlink:actuate=\"onRequest\" xlink:href=\"psysml:1568c6af-b382-4c7f-b02a-0d87dd86c0f5\" xlink:show=\"new\" xlink:title=\"psysml:1568c6af-b382-4c7f-b02a-0d87dd86c0f5\" xlink:type=\"simple\"><g id=\"elem_E8\"><rect fill=\"#F1F1F1\" height=\"40\" id=\"E8\" rx=\"2.5\" ry=\"2.5\" style=\"stroke:#181818;stroke-width:0.5;\" width=\"42\" x=\"139\" y=\"500\"/><ellipse cx=\"154\" cy=\"516\" fill=\"#008000\" rx=\"11\" ry=\"11\" style=\"stroke:#181818;stroke-width:1.0;\"/><path d=\"M150.8594,522.5 L150.8594,510.3594 L154.6563,510.3594 Q156.6563,510.3594 157.7031,511.0625 Q158.7656,511.7656 158.7656,513.3438 Q158.7656,514.4375 158.2656,515.1563 Q157.7813,515.875 156.9531,516.0625 L156.9531,516.1406 Q157.875,516.3594 158.4375,517.0313 Q159.0156,517.6875 159.0156,518.9531 Q159.0156,520.6094 157.9688,521.5625 Q156.9219,522.5 155.0625,522.5 L150.8594,522.5 Z M154.6406,515.1406 Q155.5313,515.1406 155.8906,514.8125 Q156.2656,514.4688 156.2656,513.7656 Q156.2656,513.0313 155.875,512.7188 Q155.4844,512.3906 154.5469,512.3906 L153.1563,512.3906 L153.1563,515.1406 L154.6406,515.1406 Z M154.8281,520.4844 Q155.7344,520.4844 156.0938,520.0469 Q156.4531,519.5938 156.4531,518.8125 Q156.4531,518.0313 156.0781,517.6406 Q155.7188,517.2344 154.7344,517.2344 L153.1563,517.2344 L153.1563,520.4844 L154.8281,520.4844 Z \" fill=\"#000000\"/><text fill=\"#000000\" font-family=\"sans-serif\" font-size=\"14\" lengthAdjust=\"spacing\" textLength=\"10\" x=\"168\" y=\"520.8467\">C</text><line style=\"stroke:#181818;stroke-width:0.5;\" x1=\"140\" x2=\"180\" y1=\"532\" y2=\"532\"/></g></a><!--MD5=[fd4143e9d270a159db93a4ea2a975926]\n",
       "class E9--><a href=\"psysml:7b3481ba-f47b-4c12-87df-4d6f620e6d00\" target=\"_top\" title=\"psysml:7b3481ba-f47b-4c12-87df-4d6f620e6d00\" xlink:actuate=\"onRequest\" xlink:href=\"psysml:7b3481ba-f47b-4c12-87df-4d6f620e6d00\" xlink:show=\"new\" xlink:title=\"psysml:7b3481ba-f47b-4c12-87df-4d6f620e6d00\" xlink:type=\"simple\"><g id=\"elem_E9\"><rect fill=\"#F1F1F1\" height=\"48.2656\" id=\"E9\" rx=\"2.5\" ry=\"2.5\" style=\"stroke:#181818;stroke-width:0.5;\" width=\"96\" x=\"71\" y=\"41\"/><ellipse cx=\"86\" cy=\"61.1328\" fill=\"#A52A2A\" rx=\"11\" ry=\"11\" style=\"stroke:#181818;stroke-width:1.0;\"/><path d=\"M82.7656,67.6328 L82.7656,55.4922 L86.5156,55.4922 Q88.8906,55.4922 90.2813,57.0078 Q91.6875,58.5078 91.6875,61.4609 Q91.6875,64.4297 90.25,66.0391 Q88.8125,67.6328 86.3281,67.6328 L82.7656,67.6328 Z M86.2031,65.5391 Q87.75,65.5391 88.4688,64.5391 Q89.1875,63.5391 89.1875,61.4766 Q89.1875,59.4453 88.4844,58.5234 Q87.7969,57.5859 86.4063,57.5859 L85.2031,57.5859 L85.2031,65.5391 L86.2031,65.5391 Z \" fill=\"#000000\"/><text fill=\"#000000\" font-family=\"sans-serif\" font-size=\"12\" font-style=\"italic\" lengthAdjust=\"spacing\" textLength=\"68\" x=\"98\" y=\"57.1387\">«port  def»</text><text fill=\"#000000\" font-family=\"sans-serif\" font-size=\"14\" lengthAdjust=\"spacing\" textLength=\"9\" x=\"127.5\" y=\"72.9639\">P</text><line style=\"stroke:#181818;stroke-width:0.5;\" x1=\"72\" x2=\"166\" y1=\"81.2656\" y2=\"81.2656\"/></g></a><!--MD5=[96f4274e9e20536e775497830990834d]\n",
       "class E10--><a href=\"psysml:116f794f-fd18-4d42-8d94-9abf783d43f0\" target=\"_top\" title=\"psysml:116f794f-fd18-4d42-8d94-9abf783d43f0\" xlink:actuate=\"onRequest\" xlink:href=\"psysml:116f794f-fd18-4d42-8d94-9abf783d43f0\" xlink:show=\"new\" xlink:title=\"psysml:116f794f-fd18-4d42-8d94-9abf783d43f0\" xlink:type=\"simple\"><g id=\"elem_E10\"><rect fill=\"#F1F1F1\" height=\"40\" id=\"E10\" rx=\"10\" ry=\"10\" style=\"stroke:#181818;stroke-width:0.5;\" width=\"75\" x=\"21.5\" y=\"150\"/><ellipse cx=\"36.5\" cy=\"166\" fill=\"#32CD32\" rx=\"11\" ry=\"11\" style=\"stroke:#181818;stroke-width:1.0;\"/><path d=\"M33.3594,172.5 L33.3594,160.3594 L37.3906,160.3594 Q39.4844,160.3594 40.5,161.3438 Q41.5156,162.3125 41.5156,164.1406 Q41.5156,165.3438 41.0781,166.25 Q40.6563,167.1563 39.7031,167.6719 Q38.7656,168.1875 37.2344,168.1875 L35.7344,168.1875 L35.7344,172.5 L33.3594,172.5 Z M36.9844,166.0938 Q38.0313,166.0938 38.5469,165.6094 Q39.0781,165.125 39.0781,164.2344 Q39.0781,163.3438 38.6406,162.9063 Q38.2188,162.4531 37.2969,162.4531 L35.7344,162.4531 L35.7344,166.0938 L36.9844,166.0938 Z \" fill=\"#000000\"/><text fill=\"#000000\" font-family=\"sans-serif\" font-size=\"14\" lengthAdjust=\"spacing\" textLength=\"35\" x=\"50.5\" y=\"170.8467\">a1: A</text><line style=\"stroke:#181818;stroke-width:0.5;\" x1=\"22.5\" x2=\"95.5\" y1=\"182\" y2=\"182\"/></g></a><!--MD5=[1dd1bfd58a279cf63c5f349dbc8fc6a1]\n",
       "class E11--><a href=\"psysml:16572df6-eec3-489a-80d1-3b65de425cbd\" target=\"_top\" title=\"psysml:16572df6-eec3-489a-80d1-3b65de425cbd\" xlink:actuate=\"onRequest\" xlink:href=\"psysml:16572df6-eec3-489a-80d1-3b65de425cbd\" xlink:show=\"new\" xlink:title=\"psysml:16572df6-eec3-489a-80d1-3b65de425cbd\" xlink:type=\"simple\"><g id=\"elem_E11\"><rect fill=\"#F1F1F1\" height=\"40\" id=\"E11\" rx=\"10\" ry=\"10\" style=\"stroke:#181818;stroke-width:0.5;\" width=\"75\" x=\"131.5\" y=\"150\"/><ellipse cx=\"146.5\" cy=\"166\" fill=\"#32CD32\" rx=\"11\" ry=\"11\" style=\"stroke:#181818;stroke-width:1.0;\"/><path d=\"M143.3594,172.5 L143.3594,160.3594 L147.3906,160.3594 Q149.4844,160.3594 150.5,161.3438 Q151.5156,162.3125 151.5156,164.1406 Q151.5156,165.3438 151.0781,166.25 Q150.6563,167.1563 149.7031,167.6719 Q148.7656,168.1875 147.2344,168.1875 L145.7344,168.1875 L145.7344,172.5 L143.3594,172.5 Z M146.9844,166.0938 Q148.0313,166.0938 148.5469,165.6094 Q149.0781,165.125 149.0781,164.2344 Q149.0781,163.3438 148.6406,162.9063 Q148.2188,162.4531 147.2969,162.4531 L145.7344,162.4531 L145.7344,166.0938 L146.9844,166.0938 Z \" fill=\"#000000\"/><text fill=\"#000000\" font-family=\"sans-serif\" font-size=\"14\" lengthAdjust=\"spacing\" textLength=\"35\" x=\"160.5\" y=\"170.8467\">a2: A</text><line style=\"stroke:#181818;stroke-width:0.5;\" x1=\"132.5\" x2=\"205.5\" y1=\"182\" y2=\"182\"/></g></a><!--MD5=[2720a5a1f2c3fca2055b230370638851]\n",
       "link E2 to E3--><g id=\"link_E2_E3\"><a href=\"psysml:70c9c3cf-ded5-4fad-940c-650d810049d2\" target=\"_top\" title=\"psysml:70c9c3cf-ded5-4fad-940c-650d810049d2\" xlink:actuate=\"onRequest\" xlink:href=\"psysml:70c9c3cf-ded5-4fad-940c-650d810049d2\" xlink:show=\"new\" xlink:title=\"psysml:70c9c3cf-ded5-4fad-940c-650d810049d2\" xlink:type=\"simple\"><path d=\"M252.95,190.09 C238.99,203.37 220.02,221.43 203.65,237.02 \" fill=\"none\" id=\"E2-to-E3\" style=\"stroke:#181818;stroke-width:1.0;\"/><polygon fill=\"#FFFFFF\" points=\"188.99,250.97,197.9277,232.8009,207.5792,242.9424,188.99,250.97\" style=\"stroke:#181818;stroke-width:1.0;\"/><ellipse cx=\"203.4356\" cy=\"230.3202\" fill=\"#181818\" rx=\"2\" ry=\"2\" style=\"stroke:#181818;stroke-width:1.0;\"/><ellipse cx=\"210.3294\" cy=\"237.5641\" fill=\"#181818\" rx=\"2\" ry=\"2\" style=\"stroke:#181818;stroke-width:1.0;\"/></a></g><!--MD5=[4672eba38e49728da53d11aeb285b987]\n",
       "reverse link E3 to E4--><g id=\"link_E3_E4\"><a href=\"psysml:1e28e0ed-b5c0-4fac-98b2-855fbe266c1f\" target=\"_top\" title=\"psysml:1e28e0ed-b5c0-4fac-98b2-855fbe266c1f\" xlink:actuate=\"onRequest\" xlink:href=\"psysml:1e28e0ed-b5c0-4fac-98b2-855fbe266c1f\" xlink:show=\"new\" xlink:title=\"psysml:1e28e0ed-b5c0-4fac-98b2-855fbe266c1f\" xlink:type=\"simple\"><path d=\"M138.52,297.03 C123.14,311.43 105.74,330.84 96,352 C84.44,377.13 82.73,409.58 83.02,429.84 \" fill=\"none\" id=\"E3-backto-E4\" style=\"stroke:#181818;stroke-width:1.0;\"/><polygon fill=\"#181818\" points=\"148.22,288.32,141.0825,289.3478,139.2861,296.3315,146.4236,295.3038,148.22,288.32\" style=\"stroke:#181818;stroke-width:1.0;\"/></a></g><!--MD5=[191cde3d490a3f6d7bb551fe3ddca469]\n",
       "reverse link E3 to E5--><g id=\"link_E3_E5\"><a href=\"psysml:b5974af5-b28c-458b-89e4-95d46de68236\" target=\"_top\" title=\"psysml:b5974af5-b28c-458b-89e4-95d46de68236\" xlink:actuate=\"onRequest\" xlink:href=\"psysml:b5974af5-b28c-458b-89e4-95d46de68236\" xlink:show=\"new\" xlink:title=\"psysml:b5974af5-b28c-458b-89e4-95d46de68236\" xlink:type=\"simple\"><path d=\"M183.72,303.6 C190.96,319.13 199.53,337.52 206.16,351.75 \" fill=\"none\" id=\"E3-backto-E5\" style=\"stroke:#181818;stroke-width:1.0;\"/><polygon fill=\"none\" points=\"178.03,291.37,176.9459,298.4991,183.1097,302.2418,184.1938,295.1127,178.03,291.37\" style=\"stroke:#181818;stroke-width:1.0;\"/></a></g><!--MD5=[79568f1e445c3877b6a54524624ccc7d]\n",
       "link E4 to E6--><g id=\"link_E4_E6\"><a href=\"psysml:83940360-bfcd-4ab6-95b9-9006ad1a30a4\" target=\"_top\" title=\"psysml:83940360-bfcd-4ab6-95b9-9006ad1a30a4\" xlink:actuate=\"onRequest\" xlink:href=\"psysml:83940360-bfcd-4ab6-95b9-9006ad1a30a4\" xlink:show=\"new\" xlink:title=\"psysml:83940360-bfcd-4ab6-95b9-9006ad1a30a4\" xlink:type=\"simple\"><path d=\"M91.85,470.1 C104.19,500.15 128.39,559.04 144.37,597.96 \" fill=\"none\" id=\"E4-to-E6\" style=\"stroke:#181818;stroke-width:1.0;\"/><polygon fill=\"#FFFFFF\" points=\"152.08,616.73,138.3852,601.8152,151.335,596.4953,152.08,616.73\" style=\"stroke:#181818;stroke-width:1.0;\"/><ellipse cx=\"138.0692\" cy=\"595.7828\" fill=\"#181818\" rx=\"2\" ry=\"2\" style=\"stroke:#181818;stroke-width:1.0;\"/><ellipse cx=\"147.3191\" cy=\"591.9828\" fill=\"#181818\" rx=\"2\" ry=\"2\" style=\"stroke:#181818;stroke-width:1.0;\"/></a></g><!--MD5=[3f50a3473f1dfb74d3f76443e03635af]\n",
       "reverse link E6 to E7--><g id=\"link_E6_E7\"><a href=\"psysml:c7c30ff0-7abe-445a-9147-4c620b104f3e\" target=\"_top\" title=\"psysml:c7c30ff0-7abe-445a-9147-4c620b104f3e\" xlink:actuate=\"onRequest\" xlink:href=\"psysml:c7c30ff0-7abe-445a-9147-4c620b104f3e\" xlink:show=\"new\" xlink:title=\"psysml:c7c30ff0-7abe-445a-9147-4c620b104f3e\" xlink:type=\"simple\"><path d=\"M186.16,667.29 C200.45,683.28 217.89,702.81 231.23,717.75 \" fill=\"none\" id=\"E6-backto-E7\" style=\"stroke:#181818;stroke-width:1.0;\"/><polygon fill=\"#181818\" points=\"177.3,657.37,178.3109,664.5099,185.2904,666.3229,184.2795,659.183,177.3,657.37\" style=\"stroke:#181818;stroke-width:1.0;\"/></a></g><!--MD5=[14ccda38c055a5c0da953d572bc50960]\n",
       "link E7 to E3--><g id=\"link_E7_E3\"><a href=\"psysml:4a79bdb3-77e8-4e9c-befa-ce9a0c7716db\" target=\"_top\" title=\"psysml:4a79bdb3-77e8-4e9c-befa-ce9a0c7716db\" xlink:actuate=\"onRequest\" xlink:href=\"psysml:4a79bdb3-77e8-4e9c-befa-ce9a0c7716db\" xlink:show=\"new\" xlink:title=\"psysml:4a79bdb3-77e8-4e9c-befa-ce9a0c7716db\" xlink:type=\"simple\"><path d=\"M264.83,717.62 C274.82,697.23 287,666.52 287,638 C287,375 287,375 287,375 C287,332.26 242.53,303.18 208.19,287.1 \" fill=\"none\" id=\"E7-to-E3\" style=\"stroke:#181818;stroke-width:1.0;\"/><polygon fill=\"#FFFFFF\" points=\"189.55,279.12,209.7716,280.1629,204.2615,293.033,189.55,279.12\" style=\"stroke:#181818;stroke-width:1.0;\"/><ellipse cx=\"214.2244\" cy=\"284.2448\" fill=\"#181818\" rx=\"2\" ry=\"2\" style=\"stroke:#181818;stroke-width:1.0;\"/><ellipse cx=\"210.2887\" cy=\"293.4378\" fill=\"#181818\" rx=\"2\" ry=\"2\" style=\"stroke:#181818;stroke-width:1.0;\"/></a></g><!--MD5=[dfaffb906826c3e5aca635516100ff21]\n",
       "link E5 to E8--><g id=\"link_E5_E8\"><a href=\"psysml:d776694e-c79b-404c-b561-ae1c1a2e3f3d\" target=\"_top\" title=\"psysml:d776694e-c79b-404c-b561-ae1c1a2e3f3d\" xlink:actuate=\"onRequest\" xlink:href=\"psysml:d776694e-c79b-404c-b561-ae1c1a2e3f3d\" xlink:show=\"new\" xlink:title=\"psysml:d776694e-c79b-404c-b561-ae1c1a2e3f3d\" xlink:type=\"simple\"><path d=\"M207.72,400.13 C198.9,422.08 185.5,455.46 175.15,481.27 \" fill=\"none\" id=\"E5-to-E8\" style=\"stroke:#181818;stroke-width:1.0;\"/><polygon fill=\"#FFFFFF\" points=\"167.64,499.97,168.2159,479.7297,181.2097,484.9413,167.64,499.97\" style=\"stroke:#181818;stroke-width:1.0;\"/><ellipse cx=\"172.194\" cy=\"475.1839\" fill=\"#181818\" rx=\"2\" ry=\"2\" style=\"stroke:#181818;stroke-width:1.0;\"/><ellipse cx=\"181.4753\" cy=\"478.9064\" fill=\"#181818\" rx=\"2\" ry=\"2\" style=\"stroke:#181818;stroke-width:1.0;\"/></a></g><!--MD5=[03c8294790d3c57651a1993cecff665f]\n",
       "reverse link E8 to E3--><g id=\"link_E8_E3\"><a href=\"psysml:c4551329-8b56-4fd0-9fbf-f2d280f6b39b\" target=\"_top\" title=\"psysml:c4551329-8b56-4fd0-9fbf-f2d280f6b39b\" xlink:actuate=\"onRequest\" xlink:href=\"psysml:c4551329-8b56-4fd0-9fbf-f2d280f6b39b\" xlink:show=\"new\" xlink:title=\"psysml:c4551329-8b56-4fd0-9fbf-f2d280f6b39b\" xlink:type=\"simple\"><path d=\"M157.67,486.86 C155.63,453.19 153.51,398.81 157,352 C158.56,331.13 162.37,307.45 165.28,291.31 \" fill=\"none\" id=\"E8-backto-E3\" style=\"stroke:#181818;stroke-width:1.0;\"/><polygon fill=\"none\" points=\"158.52,499.93,162.1225,493.6833,157.7419,487.9553,154.1394,494.202,158.52,499.93\" style=\"stroke:#181818;stroke-width:1.0;\"/><text fill=\"#000000\" font-family=\"sans-serif\" font-size=\"13\" lengthAdjust=\"spacing\" textLength=\"7\" x=\"158\" y=\"380.5669\">y</text></a></g><!--MD5=[0d75d2178373a6a4568e5dc728f58aef]\n",
       "reverse link E8 to E6--><g id=\"link_E8_E6\"><a href=\"psysml:c4551329-8b56-4fd0-9fbf-f2d280f6b39b\" target=\"_top\" title=\"psysml:c4551329-8b56-4fd0-9fbf-f2d280f6b39b\" xlink:actuate=\"onRequest\" xlink:href=\"psysml:c4551329-8b56-4fd0-9fbf-f2d280f6b39b\" xlink:show=\"new\" xlink:title=\"psysml:c4551329-8b56-4fd0-9fbf-f2d280f6b39b\" xlink:type=\"simple\"><path d=\"M160,553.36 C160,573.76 160,599.42 160,616.69 \" fill=\"none\" id=\"E8-backto-E6\" style=\"stroke:#181818;stroke-width:1.0;\"/><polygon fill=\"none\" points=\"160,540.25,156,546.25,160,552.25,164,546.25,160,540.25\" style=\"stroke:#181818;stroke-width:1.0;\"/><text fill=\"#000000\" font-family=\"sans-serif\" font-size=\"13\" lengthAdjust=\"spacing\" textLength=\"7\" x=\"161\" y=\"583.0669\">y</text></a></g><!--MD5=[23ac544a70576c3e717098101004234c]\n",
       "reverse link E9 to E10--><g id=\"link_E9_E10\"><a href=\"psysml:5a5abb4f-4a57-47f4-8d13-1f5dca85ed3b\" target=\"_top\" title=\"psysml:5a5abb4f-4a57-47f4-8d13-1f5dca85ed3b\" xlink:actuate=\"onRequest\" xlink:href=\"psysml:5a5abb4f-4a57-47f4-8d13-1f5dca85ed3b\" xlink:show=\"new\" xlink:title=\"psysml:5a5abb4f-4a57-47f4-8d13-1f5dca85ed3b\" xlink:type=\"simple\"><path d=\"M98.9,100.5 C89.34,116.92 78.26,135.94 70.21,149.76 \" fill=\"none\" id=\"E9-backto-E10\" style=\"stroke:#181818;stroke-width:1.0;\"/><polygon fill=\"none\" points=\"105.53,89.12,99.0532,92.2903,99.4885,99.4882,105.9653,96.318,105.53,89.12\" style=\"stroke:#181818;stroke-width:1.0;\"/></a></g><!--MD5=[feeac5eb423634930294aa81f2d25a4c]\n",
       "link E10 to E3--><g id=\"link_E10_E3\"><a href=\"psysml:d7f66802-941a-4496-884a-36d82493c03e\" target=\"_top\" title=\"psysml:d7f66802-941a-4496-884a-36d82493c03e\" xlink:actuate=\"onRequest\" xlink:href=\"psysml:d7f66802-941a-4496-884a-36d82493c03e\" xlink:show=\"new\" xlink:title=\"psysml:d7f66802-941a-4496-884a-36d82493c03e\" xlink:type=\"simple\"><path d=\"M80.21,190.09 C95.22,203.6 115.71,222.04 133.22,237.8 \" fill=\"none\" id=\"E10-to-E3\" style=\"stroke:#181818;stroke-width:1.0;\"/><polygon fill=\"#FFFFFF\" points=\"148.23,251.31,129.4251,243.8017,138.7911,233.3961,148.23,251.31\" style=\"stroke:#181818;stroke-width:1.0;\"/><ellipse cx=\"126.5265\" cy=\"238.5019\" fill=\"#181818\" rx=\"2\" ry=\"2\" style=\"stroke:#181818;stroke-width:1.0;\"/><ellipse cx=\"133.2165\" cy=\"231.0693\" fill=\"#181818\" rx=\"2\" ry=\"2\" style=\"stroke:#181818;stroke-width:1.0;\"/></a></g><!--MD5=[1fc04a95fd77ad5ce46c1a3027516051]\n",
       "reverse link E9 to E11--><g id=\"link_E9_E11\"><a href=\"psysml:8187499b-9a51-4939-bbf5-c8a0ee670e5b\" target=\"_top\" title=\"psysml:8187499b-9a51-4939-bbf5-c8a0ee670e5b\" xlink:actuate=\"onRequest\" xlink:href=\"psysml:8187499b-9a51-4939-bbf5-c8a0ee670e5b\" xlink:show=\"new\" xlink:title=\"psysml:8187499b-9a51-4939-bbf5-c8a0ee670e5b\" xlink:type=\"simple\"><path d=\"M135.98,100.98 C143.9,117.29 153.01,136.07 159.66,149.76 \" fill=\"none\" id=\"E9-backto-E11\" style=\"stroke:#181818;stroke-width:1.0;\"/><polygon fill=\"none\" points=\"130.22,89.12,129.2448,96.2649,135.465,99.9131,136.4402,92.7682,130.22,89.12\" style=\"stroke:#181818;stroke-width:1.0;\"/></a></g><!--MD5=[0517f1ce58c4d5483948f93845c45e26]\n",
       "link E11 to E3--><g id=\"link_E11_E3\"><a href=\"psysml:ca7307c2-0235-4c1e-8766-bbb66b330e4f\" target=\"_top\" title=\"psysml:ca7307c2-0235-4c1e-8766-bbb66b330e4f\" xlink:actuate=\"onRequest\" xlink:href=\"psysml:ca7307c2-0235-4c1e-8766-bbb66b330e4f\" xlink:show=\"new\" xlink:title=\"psysml:ca7307c2-0235-4c1e-8766-bbb66b330e4f\" xlink:type=\"simple\"><path d=\"M169,190.09 C169,201.59 169,216.68 169,230.63 \" fill=\"none\" id=\"E11-to-E3\" style=\"stroke:#181818;stroke-width:1.0;\"/><polygon fill=\"#FFFFFF\" points=\"169,250.97,162,231.97,176,231.97,169,250.97\" style=\"stroke:#181818;stroke-width:1.0;\"/><ellipse cx=\"164\" cy=\"226.27\" fill=\"#181818\" rx=\"2\" ry=\"2\" style=\"stroke:#181818;stroke-width:1.0;\"/><ellipse cx=\"174\" cy=\"226.27\" fill=\"#181818\" rx=\"2\" ry=\"2\" style=\"stroke:#181818;stroke-width:1.0;\"/></a></g><!--MD5=[63b1f2fa620d0cc56950902e3f368596]\n",
       "@startuml\r\n",
       " \r\n",
       "package \"ItemTest\" as E1  [[psysml:cd87d2b7-4fa1-4c1b-a4f6-af691b0dec58 ]]  {\r\n",
       "comp usage \"f: A  \" as E2  << << (P,limegreen) >> [[psysml:a6e7d788-746b-466d-b844-23a78300b1ae ]] {\r\n",
       "}\r\n",
       "comp def \"A\" as E3  << << (B,green) >> [[psysml:7645df02-ea24-41fb-927b-82e0988a44f2 ]] {\r\n",
       "}\r\n",
       "comp usage \"b: B  \" as E4  << << (P,limegreen) >> [[psysml:426ed2e2-6591-4c8f-a505-52d546190911 ]] {\r\n",
       "}\r\n",
       "comp usage \"c: C  \" as E5  << << (P,limegreen) part>> [[psysml:331ec08e-03d4-4ef2-9768-da2cb6dfa326 ]] {\r\n",
       "}\r\n",
       "comp def \"<i>B</i>\" as E6  << << (B,green) >> [[psysml:1c5a109b-6d3b-4425-b763-85184515822e ]] {\r\n",
       "}\r\n",
       "comp usage \"<i>a</i>: A  \" as E7  << << (P,limegreen) part>> [[psysml:3d3f18ff-1114-439a-91a9-78796a10458c ]] {\r\n",
       "}\r\n",
       "comp def \"C\" as E8  << << (B,green) >> [[psysml:1568c6af-b382-4c7f-b02a-0d87dd86c0f5 ]] {\r\n",
       "}\r\n",
       "comp def \"P\" as E9  << <<(D,brown) port  def>> [[psysml:7b3481ba-f47b-4c12-87df-4d6f620e6d00 ]] {\r\n",
       "}\r\n",
       "comp usage \"a1: A  \" as E10  << << (P,limegreen) >> [[psysml:116f794f-fd18-4d42-8d94-9abf783d43f0 ]] {\r\n",
       "}\r\n",
       "comp usage \"a2: A  \" as E11  << << (P,limegreen) >> [[psysml:16572df6-eec3-489a-80d1-3b65de425cbd ]] {\r\n",
       "}\r\n",
       "}\r\n",
       "E2 - -:|> E3 [[psysml:70c9c3cf-ded5-4fad-940c-650d810049d2 ]] \r\n",
       "E3 *- - E4 [[psysml:1e28e0ed-b5c0-4fac-98b2-855fbe266c1f ]] \r\n",
       "E3 o- - E5 [[psysml:b5974af5-b28c-458b-89e4-95d46de68236 ]] \r\n",
       "E4 - -:|> E6 [[psysml:83940360-bfcd-4ab6-95b9-9006ad1a30a4 ]] \r\n",
       "E6 *- - E7 [[psysml:c7c30ff0-7abe-445a-9147-4c620b104f3e ]] \r\n",
       "E7 - -:|> E3 [[psysml:4a79bdb3-77e8-4e9c-befa-ce9a0c7716db ]] \r\n",
       "E5 - -:|> E8 [[psysml:d776694e-c79b-404c-b561-ae1c1a2e3f3d ]] \r\n",
       "E8 o- - E3 [[psysml:c4551329-8b56-4fd0-9fbf-f2d280f6b39b ]] : y\r\n",
       "E8 o- - E6 [[psysml:c4551329-8b56-4fd0-9fbf-f2d280f6b39b ]] : y\r\n",
       "E9 o- - E10 [[psysml:5a5abb4f-4a57-47f4-8d13-1f5dca85ed3b ]] \r\n",
       "E10 - -:|> E3 [[psysml:d7f66802-941a-4496-884a-36d82493c03e ]] \r\n",
       "E9 o- - E11 [[psysml:8187499b-9a51-4939-bbf5-c8a0ee670e5b ]] \r\n",
       "E11 - -:|> E3 [[psysml:ca7307c2-0235-4c1e-8766-bbb66b330e4f ]] \r\n",
       "@enduml\r\n",
       "\n",
       "PlantUML version 1.2022.7(Mon Aug 22 17:01:30 UTC 2022)\n",
       "(EPL source distribution)\n",
       "Java Runtime: OpenJDK Runtime Environment\n",
       "JVM: OpenJDK 64-Bit Server VM\n",
       "Default Encoding: UTF-8\n",
       "Language: en\n",
       "Country: null\n",
       "--></g></svg>"
      ]
     },
     "execution_count": 36,
     "metadata": {},
     "output_type": "execute_result"
    }
   ],
   "source": [
    "%viz --style=\"PLANTUML\" --view=\"MIXED\" \"ItemTest\""
   ]
  },
  {
   "cell_type": "code",
   "execution_count": 37,
   "id": "3d2123dd",
   "metadata": {
    "execution": {
     "iopub.execute_input": "2024-12-16T14:15:18.158690Z",
     "iopub.status.busy": "2024-12-16T14:15:18.158462Z",
     "iopub.status.idle": "2024-12-16T14:15:18.179340Z",
     "shell.execute_reply": "2024-12-16T14:15:18.178425Z"
    }
   },
   "outputs": [
    {
     "data": {
      "image/svg+xml": [
       "<?xml version=\"1.0\" encoding=\"UTF-8\" standalone=\"no\"?><svg xmlns=\"http://www.w3.org/2000/svg\" xmlns:xlink=\"http://www.w3.org/1999/xlink\" contentStyleType=\"text/css\" height=\"829px\" preserveAspectRatio=\"none\" style=\"width:277px;height:829px;background:#FFFFFF;\" version=\"1.1\" viewBox=\"0 0 277 829\" width=\"277px\" zoomAndPan=\"magnify\"><defs/><g><!--MD5=[fbc87193dbaf4d95561dea2c320d4a47]\n",
       "cluster E1--><g id=\"cluster_E1\"><a href=\"psysml:cd87d2b7-4fa1-4c1b-a4f6-af691b0dec58\" target=\"_top\" title=\"psysml:cd87d2b7-4fa1-4c1b-a4f6-af691b0dec58\" xlink:actuate=\"onRequest\" xlink:href=\"psysml:cd87d2b7-4fa1-4c1b-a4f6-af691b0dec58\" xlink:show=\"new\" xlink:title=\"psysml:cd87d2b7-4fa1-4c1b-a4f6-af691b0dec58\" xlink:type=\"simple\"><polygon fill=\"none\" points=\"16,6,86.5,6,93.5,28.2969,260,28.2969,260,822,16,822,16,6\" style=\"stroke:#000000;stroke-width:1.5;\"/><line style=\"stroke:#000000;stroke-width:1.5;\" x1=\"16\" x2=\"93.5\" y1=\"28.2969\" y2=\"28.2969\"/><text fill=\"#000000\" font-family=\"sans-serif\" font-size=\"14\" font-weight=\"bold\" lengthAdjust=\"spacing\" textLength=\"64.5\" x=\"20\" y=\"20.9951\">ItemTest</text></a></g><!--MD5=[b4997ac47864f28c2f74865a473b2911]\n",
       "class E2--><a href=\"psysml:a6e7d788-746b-466d-b844-23a78300b1ae\" target=\"_top\" title=\"psysml:a6e7d788-746b-466d-b844-23a78300b1ae\" xlink:actuate=\"onRequest\" xlink:href=\"psysml:a6e7d788-746b-466d-b844-23a78300b1ae\" xlink:show=\"new\" xlink:title=\"psysml:a6e7d788-746b-466d-b844-23a78300b1ae\" xlink:type=\"simple\"><g id=\"elem_E2\"><rect fill=\"#FFFFFF\" height=\"48.2656\" id=\"E2\" rx=\"10\" ry=\"10\" style=\"stroke:#181818;stroke-width:0.5;\" width=\"43\" x=\"200.5\" y=\"150\"/><text fill=\"#000000\" font-family=\"sans-serif\" font-size=\"12\" font-style=\"italic\" lengthAdjust=\"spacing\" textLength=\"41\" x=\"201.5\" y=\"166.1387\">«item»</text><text fill=\"#000000\" font-family=\"sans-serif\" font-size=\"14\" lengthAdjust=\"spacing\" textLength=\"22\" x=\"207\" y=\"181.9639\">f: A</text><line style=\"stroke:#181818;stroke-width:0.5;\" x1=\"201.5\" x2=\"242.5\" y1=\"190.2656\" y2=\"190.2656\"/></g></a><!--MD5=[09b614a08d8cba4a07c9adeb5e0fee81]\n",
       "class E3--><a href=\"psysml:7645df02-ea24-41fb-927b-82e0988a44f2\" target=\"_top\" title=\"psysml:7645df02-ea24-41fb-927b-82e0988a44f2\" xlink:actuate=\"onRequest\" xlink:href=\"psysml:7645df02-ea24-41fb-927b-82e0988a44f2\" xlink:show=\"new\" xlink:title=\"psysml:7645df02-ea24-41fb-927b-82e0988a44f2\" xlink:type=\"simple\"><g id=\"elem_E3\"><rect fill=\"#FFFFFF\" height=\"48.2656\" id=\"E3\" style=\"stroke:#181818;stroke-width:0.5;\" width=\"71\" x=\"105.5\" y=\"259\"/><text fill=\"#000000\" font-family=\"sans-serif\" font-size=\"12\" font-style=\"italic\" lengthAdjust=\"spacing\" textLength=\"69\" x=\"106.5\" y=\"275.1387\">«item  def»</text><text fill=\"#000000\" font-family=\"sans-serif\" font-size=\"14\" lengthAdjust=\"spacing\" textLength=\"9\" x=\"136.5\" y=\"290.9639\">A</text><line style=\"stroke:#181818;stroke-width:0.5;\" x1=\"106.5\" x2=\"175.5\" y1=\"299.2656\" y2=\"299.2656\"/></g></a><!--MD5=[ebbe1d658d1005bcc118a6aa81145e00]\n",
       "class E4--><a href=\"psysml:426ed2e2-6591-4c8f-a505-52d546190911\" target=\"_top\" title=\"psysml:426ed2e2-6591-4c8f-a505-52d546190911\" xlink:actuate=\"onRequest\" xlink:href=\"psysml:426ed2e2-6591-4c8f-a505-52d546190911\" xlink:show=\"new\" xlink:title=\"psysml:426ed2e2-6591-4c8f-a505-52d546190911\" xlink:type=\"simple\"><g id=\"elem_E4\"><rect fill=\"#FFFFFF\" height=\"48.2656\" id=\"E4\" rx=\"10\" ry=\"10\" style=\"stroke:#181818;stroke-width:0.5;\" width=\"43\" x=\"48.5\" y=\"446\"/><text fill=\"#000000\" font-family=\"sans-serif\" font-size=\"12\" font-style=\"italic\" lengthAdjust=\"spacing\" textLength=\"41\" x=\"49.5\" y=\"462.1387\">«item»</text><text fill=\"#000000\" font-family=\"sans-serif\" font-size=\"14\" lengthAdjust=\"spacing\" textLength=\"28\" x=\"52\" y=\"477.9639\">b: B</text><line style=\"stroke:#181818;stroke-width:0.5;\" x1=\"49.5\" x2=\"90.5\" y1=\"486.2656\" y2=\"486.2656\"/></g></a><!--MD5=[270fce915f116d4de14055a7c1d9a0f3]\n",
       "class E5--><a href=\"psysml:331ec08e-03d4-4ef2-9768-da2cb6dfa326\" target=\"_top\" title=\"psysml:331ec08e-03d4-4ef2-9768-da2cb6dfa326\" xlink:actuate=\"onRequest\" xlink:href=\"psysml:331ec08e-03d4-4ef2-9768-da2cb6dfa326\" xlink:show=\"new\" xlink:title=\"psysml:331ec08e-03d4-4ef2-9768-da2cb6dfa326\" xlink:type=\"simple\"><g id=\"elem_E5\"><rect fill=\"#FFFFFF\" height=\"48.2656\" id=\"E5\" rx=\"10\" ry=\"10\" style=\"stroke:#181818;stroke-width:0.5;\" width=\"42\" x=\"157\" y=\"368\"/><text fill=\"#000000\" font-family=\"sans-serif\" font-size=\"12\" font-style=\"italic\" lengthAdjust=\"spacing\" textLength=\"40\" x=\"158\" y=\"384.1387\">«part»</text><text fill=\"#000000\" font-family=\"sans-serif\" font-size=\"14\" lengthAdjust=\"spacing\" textLength=\"27\" x=\"160.5\" y=\"399.9639\">c: C</text><line style=\"stroke:#181818;stroke-width:0.5;\" x1=\"158\" x2=\"198\" y1=\"408.2656\" y2=\"408.2656\"/></g></a><!--MD5=[60a26617385b1d2d0262a64233df1f8d]\n",
       "class E6--><a href=\"psysml:1c5a109b-6d3b-4425-b763-85184515822e\" target=\"_top\" title=\"psysml:1c5a109b-6d3b-4425-b763-85184515822e\" xlink:actuate=\"onRequest\" xlink:href=\"psysml:1c5a109b-6d3b-4425-b763-85184515822e\" xlink:show=\"new\" xlink:title=\"psysml:1c5a109b-6d3b-4425-b763-85184515822e\" xlink:type=\"simple\"><g id=\"elem_E6\"><rect fill=\"#FFFFFF\" height=\"48.2656\" id=\"E6\" style=\"stroke:#181818;stroke-width:0.5;\" width=\"71\" x=\"116.5\" y=\"649\"/><text fill=\"#000000\" font-family=\"sans-serif\" font-size=\"12\" font-style=\"italic\" lengthAdjust=\"spacing\" textLength=\"69\" x=\"117.5\" y=\"665.1387\">«item  def»</text><text fill=\"#000000\" font-family=\"sans-serif\" font-size=\"14\" font-style=\"italic\" lengthAdjust=\"spacing\" textLength=\"10\" x=\"147\" y=\"680.9639\">B</text><line style=\"stroke:#181818;stroke-width:0.5;\" x1=\"117.5\" x2=\"186.5\" y1=\"689.2656\" y2=\"689.2656\"/></g></a><!--MD5=[2156ba9850f5573cc1fc38a6a4b2f02b]\n",
       "class E7--><a href=\"psysml:3d3f18ff-1114-439a-91a9-78796a10458c\" target=\"_top\" title=\"psysml:3d3f18ff-1114-439a-91a9-78796a10458c\" xlink:actuate=\"onRequest\" xlink:href=\"psysml:3d3f18ff-1114-439a-91a9-78796a10458c\" xlink:show=\"new\" xlink:title=\"psysml:3d3f18ff-1114-439a-91a9-78796a10458c\" xlink:type=\"simple\"><g id=\"elem_E7\"><rect fill=\"#FFFFFF\" height=\"48.2656\" id=\"E7\" rx=\"10\" ry=\"10\" style=\"stroke:#181818;stroke-width:0.5;\" width=\"42\" x=\"167\" y=\"758\"/><text fill=\"#000000\" font-family=\"sans-serif\" font-size=\"12\" font-style=\"italic\" lengthAdjust=\"spacing\" textLength=\"40\" x=\"168\" y=\"774.1387\">«part»</text><text fill=\"#000000\" font-family=\"sans-serif\" font-size=\"14\" font-style=\"italic\" lengthAdjust=\"spacing\" textLength=\"8\" x=\"171\" y=\"789.9639\">a</text><text fill=\"#000000\" font-family=\"sans-serif\" font-size=\"14\" lengthAdjust=\"spacing\" textLength=\"18\" x=\"179\" y=\"789.9639\">: A</text><line style=\"stroke:#181818;stroke-width:0.5;\" x1=\"168\" x2=\"208\" y1=\"798.2656\" y2=\"798.2656\"/></g></a><!--MD5=[b9389687b975829384b498ac4b7476b2]\n",
       "class E8--><a href=\"psysml:1568c6af-b382-4c7f-b02a-0d87dd86c0f5\" target=\"_top\" title=\"psysml:1568c6af-b382-4c7f-b02a-0d87dd86c0f5\" xlink:actuate=\"onRequest\" xlink:href=\"psysml:1568c6af-b382-4c7f-b02a-0d87dd86c0f5\" xlink:show=\"new\" xlink:title=\"psysml:1568c6af-b382-4c7f-b02a-0d87dd86c0f5\" xlink:type=\"simple\"><g id=\"elem_E8\"><rect fill=\"#FFFFFF\" height=\"48.2656\" id=\"E8\" style=\"stroke:#181818;stroke-width:0.5;\" width=\"70\" x=\"117\" y=\"524\"/><text fill=\"#000000\" font-family=\"sans-serif\" font-size=\"12\" font-style=\"italic\" lengthAdjust=\"spacing\" textLength=\"68\" x=\"118\" y=\"540.1387\">«part  def»</text><text fill=\"#000000\" font-family=\"sans-serif\" font-size=\"14\" lengthAdjust=\"spacing\" textLength=\"10\" x=\"147\" y=\"555.9639\">C</text><line style=\"stroke:#181818;stroke-width:0.5;\" x1=\"118\" x2=\"186\" y1=\"564.2656\" y2=\"564.2656\"/></g></a><!--MD5=[fd4143e9d270a159db93a4ea2a975926]\n",
       "class E9--><a href=\"psysml:7b3481ba-f47b-4c12-87df-4d6f620e6d00\" target=\"_top\" title=\"psysml:7b3481ba-f47b-4c12-87df-4d6f620e6d00\" xlink:actuate=\"onRequest\" xlink:href=\"psysml:7b3481ba-f47b-4c12-87df-4d6f620e6d00\" xlink:show=\"new\" xlink:title=\"psysml:7b3481ba-f47b-4c12-87df-4d6f620e6d00\" xlink:type=\"simple\"><g id=\"elem_E9\"><rect fill=\"#FFFFFF\" height=\"48.2656\" id=\"E9\" style=\"stroke:#181818;stroke-width:0.5;\" width=\"70\" x=\"69\" y=\"41\"/><text fill=\"#000000\" font-family=\"sans-serif\" font-size=\"12\" font-style=\"italic\" lengthAdjust=\"spacing\" textLength=\"68\" x=\"70\" y=\"57.1387\">«port  def»</text><text fill=\"#000000\" font-family=\"sans-serif\" font-size=\"14\" lengthAdjust=\"spacing\" textLength=\"9\" x=\"99.5\" y=\"72.9639\">P</text><line style=\"stroke:#181818;stroke-width:0.5;\" x1=\"70\" x2=\"138\" y1=\"81.2656\" y2=\"81.2656\"/></g></a><!--MD5=[96f4274e9e20536e775497830990834d]\n",
       "class E10--><a href=\"psysml:116f794f-fd18-4d42-8d94-9abf783d43f0\" target=\"_top\" title=\"psysml:116f794f-fd18-4d42-8d94-9abf783d43f0\" xlink:actuate=\"onRequest\" xlink:href=\"psysml:116f794f-fd18-4d42-8d94-9abf783d43f0\" xlink:show=\"new\" xlink:title=\"psysml:116f794f-fd18-4d42-8d94-9abf783d43f0\" xlink:type=\"simple\"><g id=\"elem_E10\"><rect fill=\"#FFFFFF\" height=\"48.2656\" id=\"E10\" rx=\"10\" ry=\"10\" style=\"stroke:#181818;stroke-width:0.5;\" width=\"49\" x=\"32.5\" y=\"150\"/><text fill=\"#000000\" font-family=\"sans-serif\" font-size=\"12\" font-style=\"italic\" lengthAdjust=\"spacing\" textLength=\"41\" x=\"36.5\" y=\"166.1387\">«item»</text><text fill=\"#000000\" font-family=\"sans-serif\" font-size=\"14\" lengthAdjust=\"spacing\" textLength=\"35\" x=\"35.5\" y=\"181.9639\">a1: A</text><line style=\"stroke:#181818;stroke-width:0.5;\" x1=\"33.5\" x2=\"80.5\" y1=\"190.2656\" y2=\"190.2656\"/></g></a><!--MD5=[1dd1bfd58a279cf63c5f349dbc8fc6a1]\n",
       "class E11--><a href=\"psysml:16572df6-eec3-489a-80d1-3b65de425cbd\" target=\"_top\" title=\"psysml:16572df6-eec3-489a-80d1-3b65de425cbd\" xlink:actuate=\"onRequest\" xlink:href=\"psysml:16572df6-eec3-489a-80d1-3b65de425cbd\" xlink:show=\"new\" xlink:title=\"psysml:16572df6-eec3-489a-80d1-3b65de425cbd\" xlink:type=\"simple\"><g id=\"elem_E11\"><rect fill=\"#FFFFFF\" height=\"48.2656\" id=\"E11\" rx=\"10\" ry=\"10\" style=\"stroke:#181818;stroke-width:0.5;\" width=\"49\" x=\"116.5\" y=\"150\"/><text fill=\"#000000\" font-family=\"sans-serif\" font-size=\"12\" font-style=\"italic\" lengthAdjust=\"spacing\" textLength=\"41\" x=\"120.5\" y=\"166.1387\">«item»</text><text fill=\"#000000\" font-family=\"sans-serif\" font-size=\"14\" lengthAdjust=\"spacing\" textLength=\"35\" x=\"119.5\" y=\"181.9639\">a2: A</text><line style=\"stroke:#181818;stroke-width:0.5;\" x1=\"117.5\" x2=\"164.5\" y1=\"190.2656\" y2=\"190.2656\"/></g></a><!--MD5=[2720a5a1f2c3fca2055b230370638851]\n",
       "link E2 to E3--><g id=\"link_E2_E3\"><a href=\"psysml:70c9c3cf-ded5-4fad-940c-650d810049d2\" target=\"_top\" title=\"psysml:70c9c3cf-ded5-4fad-940c-650d810049d2\" xlink:actuate=\"onRequest\" xlink:href=\"psysml:70c9c3cf-ded5-4fad-940c-650d810049d2\" xlink:show=\"new\" xlink:title=\"psysml:70c9c3cf-ded5-4fad-940c-650d810049d2\" xlink:type=\"simple\"><path d=\"M204.42,198.22 C194.55,211.26 181.97,227.88 170.62,242.87 \" fill=\"none\" id=\"E2-to-E3\" style=\"stroke:#181818;stroke-width:1.0;\"/><polygon fill=\"#FFFFFF\" points=\"158.54,258.83,164.4286,239.4567,175.5901,247.9078,158.54,258.83\" style=\"stroke:#181818;stroke-width:1.0;\"/><ellipse cx=\"169.4639\" cy=\"236.1197\" fill=\"#181818\" rx=\"2\" ry=\"2\" style=\"stroke:#181818;stroke-width:1.0;\"/><ellipse cx=\"177.4364\" cy=\"242.1562\" fill=\"#181818\" rx=\"2\" ry=\"2\" style=\"stroke:#181818;stroke-width:1.0;\"/></a></g><!--MD5=[4672eba38e49728da53d11aeb285b987]\n",
       "reverse link E3 to E4--><g id=\"link_E3_E4\"><a href=\"psysml:1e28e0ed-b5c0-4fac-98b2-855fbe266c1f\" target=\"_top\" title=\"psysml:1e28e0ed-b5c0-4fac-98b2-855fbe266c1f\" xlink:actuate=\"onRequest\" xlink:href=\"psysml:1e28e0ed-b5c0-4fac-98b2-855fbe266c1f\" xlink:show=\"new\" xlink:title=\"psysml:1e28e0ed-b5c0-4fac-98b2-855fbe266c1f\" xlink:type=\"simple\"><path d=\"M104.38,316.32 C90.85,330.64 77.09,348.62 70,368 C60.72,393.36 62.6,424.76 65.58,445.75 \" fill=\"none\" id=\"E3-backto-E4\" style=\"stroke:#181818;stroke-width:1.0;\"/><polygon fill=\"#181818\" points=\"113.62,307.02,106.5522,308.4507,105.1545,315.525,112.2223,314.0943,113.62,307.02\" style=\"stroke:#181818;stroke-width:1.0;\"/></a></g><!--MD5=[191cde3d490a3f6d7bb551fe3ddca469]\n",
       "reverse link E3 to E5--><g id=\"link_E3_E5\"><a href=\"psysml:b5974af5-b28c-458b-89e4-95d46de68236\" target=\"_top\" title=\"psysml:b5974af5-b28c-458b-89e4-95d46de68236\" xlink:actuate=\"onRequest\" xlink:href=\"psysml:b5974af5-b28c-458b-89e4-95d46de68236\" xlink:show=\"new\" xlink:title=\"psysml:b5974af5-b28c-458b-89e4-95d46de68236\" xlink:type=\"simple\"><path d=\"M153.39,319.83 C158.86,335.66 165.14,353.82 169.99,367.83 \" fill=\"none\" id=\"E3-backto-E5\" style=\"stroke:#181818;stroke-width:1.0;\"/><polygon fill=\"none\" points=\"149.03,307.22,147.2077,314.1971,152.9472,318.5627,154.7695,311.5856,149.03,307.22\" style=\"stroke:#181818;stroke-width:1.0;\"/></a></g><!--MD5=[79568f1e445c3877b6a54524624ccc7d]\n",
       "link E4 to E6--><g id=\"link_E4_E6\"><a href=\"psysml:83940360-bfcd-4ab6-95b9-9006ad1a30a4\" target=\"_top\" title=\"psysml:83940360-bfcd-4ab6-95b9-9006ad1a30a4\" xlink:actuate=\"onRequest\" xlink:href=\"psysml:83940360-bfcd-4ab6-95b9-9006ad1a30a4\" xlink:show=\"new\" xlink:title=\"psysml:83940360-bfcd-4ab6-95b9-9006ad1a30a4\" xlink:type=\"simple\"><path d=\"M75.57,494.29 C80.84,515.04 89.51,546.05 100,572 C108.08,591.98 118.83,613.29 128.46,631.07 \" fill=\"none\" id=\"E4-to-E6\" style=\"stroke:#181818;stroke-width:1.0;\"/><polygon fill=\"#FFFFFF\" points=\"138.29,648.76,122.9437,635.5505,135.1819,628.7515,138.29,648.76\" style=\"stroke:#181818;stroke-width:1.0;\"/><ellipse cx=\"121.9238\" cy=\"629.5965\" fill=\"#181818\" rx=\"2\" ry=\"2\" style=\"stroke:#181818;stroke-width:1.0;\"/><ellipse cx=\"130.6654\" cy=\"624.7401\" fill=\"#181818\" rx=\"2\" ry=\"2\" style=\"stroke:#181818;stroke-width:1.0;\"/></a></g><!--MD5=[3f50a3473f1dfb74d3f76443e03635af]\n",
       "reverse link E6 to E7--><g id=\"link_E6_E7\"><a href=\"psysml:c7c30ff0-7abe-445a-9147-4c620b104f3e\" target=\"_top\" title=\"psysml:c7c30ff0-7abe-445a-9147-4c620b104f3e\" xlink:actuate=\"onRequest\" xlink:href=\"psysml:c7c30ff0-7abe-445a-9147-4c620b104f3e\" xlink:show=\"new\" xlink:title=\"psysml:c7c30ff0-7abe-445a-9147-4c620b104f3e\" xlink:type=\"simple\"><path d=\"M164.05,709.83 C169.38,725.66 175.49,743.82 180.2,757.83 \" fill=\"none\" id=\"E6-backto-E7\" style=\"stroke:#181818;stroke-width:1.0;\"/><polygon fill=\"#181818\" points=\"159.81,697.22,157.9296,704.1816,163.6324,708.5949,165.5128,701.6333,159.81,697.22\" style=\"stroke:#181818;stroke-width:1.0;\"/></a></g><!--MD5=[14ccda38c055a5c0da953d572bc50960]\n",
       "link E7 to E3--><g id=\"link_E7_E3\"><a href=\"psysml:4a79bdb3-77e8-4e9c-befa-ce9a0c7716db\" target=\"_top\" title=\"psysml:4a79bdb3-77e8-4e9c-befa-ce9a0c7716db\" xlink:actuate=\"onRequest\" xlink:href=\"psysml:4a79bdb3-77e8-4e9c-befa-ce9a0c7716db\" xlink:show=\"new\" xlink:title=\"psysml:4a79bdb3-77e8-4e9c-befa-ce9a0c7716db\" xlink:type=\"simple\"><path d=\"M204.97,757.64 C218.43,736.78 235,704.84 235,674 C235,391 235,391 235,391 C235,361.35 214.38,336.01 192.46,317.43 \" fill=\"none\" id=\"E7-to-E3\" style=\"stroke:#181818;stroke-width:1.0;\"/><polygon fill=\"#FFFFFF\" points=\"176.54,305.14,195.8578,311.2081,187.3035,322.2907,176.54,305.14\" style=\"stroke:#181818;stroke-width:1.0;\"/><ellipse cx=\"199.148\" cy=\"316.2741\" fill=\"#181818\" rx=\"2\" ry=\"2\" style=\"stroke:#181818;stroke-width:1.0;\"/><ellipse cx=\"193.0378\" cy=\"324.1903\" fill=\"#181818\" rx=\"2\" ry=\"2\" style=\"stroke:#181818;stroke-width:1.0;\"/></a></g><!--MD5=[dfaffb906826c3e5aca635516100ff21]\n",
       "link E5 to E8--><g id=\"link_E5_E8\"><a href=\"psysml:d776694e-c79b-404c-b561-ae1c1a2e3f3d\" target=\"_top\" title=\"psysml:d776694e-c79b-404c-b561-ae1c1a2e3f3d\" xlink:actuate=\"onRequest\" xlink:href=\"psysml:d776694e-c79b-404c-b561-ae1c1a2e3f3d\" xlink:show=\"new\" xlink:title=\"psysml:d776694e-c79b-404c-b561-ae1c1a2e3f3d\" xlink:type=\"simple\"><path d=\"M174.11,416.06 C170.2,439.19 164.09,475.38 159.28,503.86 \" fill=\"none\" id=\"E5-to-E8\" style=\"stroke:#181818;stroke-width:1.0;\"/><polygon fill=\"#FFFFFF\" points=\"155.92,523.79,152.1809,503.8898,165.9855,506.2206,155.92,523.79\" style=\"stroke:#181818;stroke-width:1.0;\"/><ellipse cx=\"155.1019\" cy=\"498.6023\" fill=\"#181818\" rx=\"2\" ry=\"2\" style=\"stroke:#181818;stroke-width:1.0;\"/><ellipse cx=\"164.9624\" cy=\"500.2671\" fill=\"#181818\" rx=\"2\" ry=\"2\" style=\"stroke:#181818;stroke-width:1.0;\"/></a></g><!--MD5=[03c8294790d3c57651a1993cecff665f]\n",
       "reverse link E8 to E3--><g id=\"link_E8_E3\"><a href=\"psysml:c4551329-8b56-4fd0-9fbf-f2d280f6b39b\" target=\"_top\" title=\"psysml:c4551329-8b56-4fd0-9fbf-f2d280f6b39b\" xlink:actuate=\"onRequest\" xlink:href=\"psysml:c4551329-8b56-4fd0-9fbf-f2d280f6b39b\" xlink:show=\"new\" xlink:title=\"psysml:c4551329-8b56-4fd0-9fbf-f2d280f6b39b\" xlink:type=\"simple\"><path d=\"M144.62,510.88 C139.66,484.68 133.57,448.31 131,416 C129.31,394.73 129.74,389.3 131,368 C132.23,347.33 135.14,323.95 137.5,307.11 \" fill=\"none\" id=\"E8-backto-E3\" style=\"stroke:#181818;stroke-width:1.0;\"/><polygon fill=\"none\" points=\"147.16,523.94,149.9387,517.2857,144.865,512.1615,142.0863,518.8158,147.16,523.94\" style=\"stroke:#181818;stroke-width:1.0;\"/><text fill=\"#000000\" font-family=\"sans-serif\" font-size=\"13\" lengthAdjust=\"spacing\" textLength=\"7\" x=\"132\" y=\"396.5669\">y</text></a></g><!--MD5=[0d75d2178373a6a4568e5dc728f58aef]\n",
       "reverse link E8 to E6--><g id=\"link_E8_E6\"><a href=\"psysml:c4551329-8b56-4fd0-9fbf-f2d280f6b39b\" target=\"_top\" title=\"psysml:c4551329-8b56-4fd0-9fbf-f2d280f6b39b\" xlink:actuate=\"onRequest\" xlink:href=\"psysml:c4551329-8b56-4fd0-9fbf-f2d280f6b39b\" xlink:show=\"new\" xlink:title=\"psysml:c4551329-8b56-4fd0-9fbf-f2d280f6b39b\" xlink:type=\"simple\"><path d=\"M152,585.21 C152,605.83 152,631.04 152,648.97 \" fill=\"none\" id=\"E8-backto-E6\" style=\"stroke:#181818;stroke-width:1.0;\"/><polygon fill=\"none\" points=\"152,572.14,148,578.14,152,584.14,156,578.14,152,572.14\" style=\"stroke:#181818;stroke-width:1.0;\"/><text fill=\"#000000\" font-family=\"sans-serif\" font-size=\"13\" lengthAdjust=\"spacing\" textLength=\"7\" x=\"153\" y=\"615.0669\">y</text></a></g><!--MD5=[23ac544a70576c3e717098101004234c]\n",
       "reverse link E9 to E10--><g id=\"link_E9_E10\"><a href=\"psysml:5a5abb4f-4a57-47f4-8d13-1f5dca85ed3b\" target=\"_top\" title=\"psysml:5a5abb4f-4a57-47f4-8d13-1f5dca85ed3b\" xlink:actuate=\"onRequest\" xlink:href=\"psysml:5a5abb4f-4a57-47f4-8d13-1f5dca85ed3b\" xlink:show=\"new\" xlink:title=\"psysml:5a5abb4f-4a57-47f4-8d13-1f5dca85ed3b\" xlink:type=\"simple\"><path d=\"M88.47,101.35 C81.47,117.29 73.39,135.68 67.18,149.83 \" fill=\"none\" id=\"E9-backto-E10\" style=\"stroke:#181818;stroke-width:1.0;\"/><polygon fill=\"none\" points=\"93.8,89.22,87.7243,93.1041,88.9729,100.2063,95.0485,96.3222,93.8,89.22\" style=\"stroke:#181818;stroke-width:1.0;\"/></a></g><!--MD5=[feeac5eb423634930294aa81f2d25a4c]\n",
       "link E10 to E3--><g id=\"link_E10_E3\"><a href=\"psysml:d7f66802-941a-4496-884a-36d82493c03e\" target=\"_top\" title=\"psysml:d7f66802-941a-4496-884a-36d82493c03e\" xlink:actuate=\"onRequest\" xlink:href=\"psysml:d7f66802-941a-4496-884a-36d82493c03e\" xlink:show=\"new\" xlink:title=\"psysml:d7f66802-941a-4496-884a-36d82493c03e\" xlink:type=\"simple\"><path d=\"M75.23,198.22 C85.46,211.26 98.51,227.88 110.28,242.87 \" fill=\"none\" id=\"E10-to-E3\" style=\"stroke:#181818;stroke-width:1.0;\"/><polygon fill=\"#FFFFFF\" points=\"122.81,258.83,105.5676,248.214,116.5764,239.565,122.81,258.83\" style=\"stroke:#181818;stroke-width:1.0;\"/><ellipse cx=\"103.6189\" cy=\"242.4963\" fill=\"#181818\" rx=\"2\" ry=\"2\" style=\"stroke:#181818;stroke-width:1.0;\"/><ellipse cx=\"111.4823\" cy=\"236.3184\" fill=\"#181818\" rx=\"2\" ry=\"2\" style=\"stroke:#181818;stroke-width:1.0;\"/></a></g><!--MD5=[1fc04a95fd77ad5ce46c1a3027516051]\n",
       "reverse link E9 to E11--><g id=\"link_E9_E11\"><a href=\"psysml:8187499b-9a51-4939-bbf5-c8a0ee670e5b\" target=\"_top\" title=\"psysml:8187499b-9a51-4939-bbf5-c8a0ee670e5b\" xlink:actuate=\"onRequest\" xlink:href=\"psysml:8187499b-9a51-4939-bbf5-c8a0ee670e5b\" xlink:show=\"new\" xlink:title=\"psysml:8187499b-9a51-4939-bbf5-c8a0ee670e5b\" xlink:type=\"simple\"><path d=\"M116.39,101.83 C121.86,117.66 128.14,135.82 132.99,149.83 \" fill=\"none\" id=\"E9-backto-E11\" style=\"stroke:#181818;stroke-width:1.0;\"/><polygon fill=\"none\" points=\"112.03,89.22,110.2077,96.1971,115.9472,100.5627,117.7695,93.5856,112.03,89.22\" style=\"stroke:#181818;stroke-width:1.0;\"/></a></g><!--MD5=[0517f1ce58c4d5483948f93845c45e26]\n",
       "link E11 to E3--><g id=\"link_E11_E3\"><a href=\"psysml:ca7307c2-0235-4c1e-8766-bbb66b330e4f\" target=\"_top\" title=\"psysml:ca7307c2-0235-4c1e-8766-bbb66b330e4f\" xlink:actuate=\"onRequest\" xlink:href=\"psysml:ca7307c2-0235-4c1e-8766-bbb66b330e4f\" xlink:show=\"new\" xlink:title=\"psysml:ca7307c2-0235-4c1e-8766-bbb66b330e4f\" xlink:type=\"simple\"><path d=\"M141,198.22 C141,210 141,224.69 141,238.48 \" fill=\"none\" id=\"E11-to-E3\" style=\"stroke:#181818;stroke-width:1.0;\"/><polygon fill=\"#FFFFFF\" points=\"141,258.83,134,239.83,148,239.83,141,258.83\" style=\"stroke:#181818;stroke-width:1.0;\"/><ellipse cx=\"136\" cy=\"234.13\" fill=\"#181818\" rx=\"2\" ry=\"2\" style=\"stroke:#181818;stroke-width:1.0;\"/><ellipse cx=\"146\" cy=\"234.13\" fill=\"#181818\" rx=\"2\" ry=\"2\" style=\"stroke:#181818;stroke-width:1.0;\"/></a></g><!--MD5=[697a39c91afcff33f4fccb8518c80bb5]\n",
       "@startuml\r\n",
       "skin sysmlbw\r\n",
       "skinparam monochrome true\r\n",
       "skinparam wrapWidth 300\r\n",
       "hide circle\r\n",
       "\r\n",
       "package \"ItemTest\" as E1  [[psysml:cd87d2b7-4fa1-4c1b-a4f6-af691b0dec58 ]]  {\r\n",
       "comp usage \"f: A  \" as E2  <<(T,blue) item>> [[psysml:a6e7d788-746b-466d-b844-23a78300b1ae ]] {\r\n",
       "}\r\n",
       "comp def \"A\" as E3  <<(T,blue) item  def>> [[psysml:7645df02-ea24-41fb-927b-82e0988a44f2 ]] {\r\n",
       "}\r\n",
       "comp usage \"b: B  \" as E4  <<(T,blue) item>> [[psysml:426ed2e2-6591-4c8f-a505-52d546190911 ]] {\r\n",
       "}\r\n",
       "comp usage \"c: C  \" as E5  <<(T,blue) part>> [[psysml:331ec08e-03d4-4ef2-9768-da2cb6dfa326 ]] {\r\n",
       "}\r\n",
       "comp def \"<i>B</i>\" as E6  <<(T,blue) item  def>> [[psysml:1c5a109b-6d3b-4425-b763-85184515822e ]] {\r\n",
       "}\r\n",
       "comp usage \"<i>a</i>: A  \" as E7  <<(T,blue) part>> [[psysml:3d3f18ff-1114-439a-91a9-78796a10458c ]] {\r\n",
       "}\r\n",
       "comp def \"C\" as E8  <<(T,blue) part  def>> [[psysml:1568c6af-b382-4c7f-b02a-0d87dd86c0f5 ]] {\r\n",
       "}\r\n",
       "comp def \"P\" as E9  <<(T,blue) port  def>> [[psysml:7b3481ba-f47b-4c12-87df-4d6f620e6d00 ]] {\r\n",
       "}\r\n",
       "comp usage \"a1: A  \" as E10  <<(T,blue) item>> [[psysml:116f794f-fd18-4d42-8d94-9abf783d43f0 ]] {\r\n",
       "}\r\n",
       "comp usage \"a2: A  \" as E11  <<(T,blue) item>> [[psysml:16572df6-eec3-489a-80d1-3b65de425cbd ]] {\r\n",
       "}\r\n",
       "}\r\n",
       "E2 - -:|> E3 [[psysml:70c9c3cf-ded5-4fad-940c-650d810049d2 ]] \r\n",
       "E3 *- - E4 [[psysml:1e28e0ed-b5c0-4fac-98b2-855fbe266c1f ]] \r\n",
       "E3 o- - E5 [[psysml:b5974af5-b28c-458b-89e4-95d46de68236 ]] \r\n",
       "E4 - -:|> E6 [[psysml:83940360-bfcd-4ab6-95b9-9006ad1a30a4 ]] \r\n",
       "E6 *- - E7 [[psysml:c7c30ff0-7abe-445a-9147-4c620b104f3e ]] \r\n",
       "E7 - -:|> E3 [[psysml:4a79bdb3-77e8-4e9c-befa-ce9a0c7716db ]] \r\n",
       "E5 - -:|> E8 [[psysml:d776694e-c79b-404c-b561-ae1c1a2e3f3d ]] \r\n",
       "E8 o- - E3 [[psysml:c4551329-8b56-4fd0-9fbf-f2d280f6b39b ]] : y\r\n",
       "E8 o- - E6 [[psysml:c4551329-8b56-4fd0-9fbf-f2d280f6b39b ]] : y\r\n",
       "E9 o- - E10 [[psysml:5a5abb4f-4a57-47f4-8d13-1f5dca85ed3b ]] \r\n",
       "E10 - -:|> E3 [[psysml:d7f66802-941a-4496-884a-36d82493c03e ]] \r\n",
       "E9 o- - E11 [[psysml:8187499b-9a51-4939-bbf5-c8a0ee670e5b ]] \r\n",
       "E11 - -:|> E3 [[psysml:ca7307c2-0235-4c1e-8766-bbb66b330e4f ]] \r\n",
       "@enduml\r\n",
       "\n",
       "PlantUML version 1.2022.7(Mon Aug 22 17:01:30 UTC 2022)\n",
       "(EPL source distribution)\n",
       "Java Runtime: OpenJDK Runtime Environment\n",
       "JVM: OpenJDK 64-Bit Server VM\n",
       "Default Encoding: UTF-8\n",
       "Language: en\n",
       "Country: null\n",
       "--></g></svg>"
      ]
     },
     "execution_count": 37,
     "metadata": {},
     "output_type": "execute_result"
    }
   ],
   "source": [
    "%viz --style=\"DEFAULT\" --view=\"Default\" \"ItemTest\""
   ]
  },
  {
   "cell_type": "code",
   "execution_count": 38,
   "id": "2de6444f",
   "metadata": {
    "execution": {
     "iopub.execute_input": "2024-12-16T14:15:18.230365Z",
     "iopub.status.busy": "2024-12-16T14:15:18.230079Z",
     "iopub.status.idle": "2024-12-16T14:15:18.253909Z",
     "shell.execute_reply": "2024-12-16T14:15:18.252835Z"
    }
   },
   "outputs": [
    {
     "data": {
      "image/svg+xml": [
       "<?xml version=\"1.0\" encoding=\"UTF-8\" standalone=\"no\"?><svg xmlns=\"http://www.w3.org/2000/svg\" xmlns:xlink=\"http://www.w3.org/1999/xlink\" contentStyleType=\"text/css\" height=\"829px\" preserveAspectRatio=\"none\" style=\"width:277px;height:829px;background:#FFFFFF;\" version=\"1.1\" viewBox=\"0 0 277 829\" width=\"277px\" zoomAndPan=\"magnify\"><defs/><g><!--MD5=[fbc87193dbaf4d95561dea2c320d4a47]\n",
       "cluster E1--><g id=\"cluster_E1\"><a href=\"psysml:cd87d2b7-4fa1-4c1b-a4f6-af691b0dec58\" target=\"_top\" title=\"psysml:cd87d2b7-4fa1-4c1b-a4f6-af691b0dec58\" xlink:actuate=\"onRequest\" xlink:href=\"psysml:cd87d2b7-4fa1-4c1b-a4f6-af691b0dec58\" xlink:show=\"new\" xlink:title=\"psysml:cd87d2b7-4fa1-4c1b-a4f6-af691b0dec58\" xlink:type=\"simple\"><polygon fill=\"none\" points=\"16,6,86.5,6,93.5,28.2969,260,28.2969,260,822,16,822,16,6\" style=\"stroke:#000000;stroke-width:1.5;\"/><line style=\"stroke:#000000;stroke-width:1.5;\" x1=\"16\" x2=\"93.5\" y1=\"28.2969\" y2=\"28.2969\"/><text fill=\"#000000\" font-family=\"sans-serif\" font-size=\"14\" font-weight=\"bold\" lengthAdjust=\"spacing\" textLength=\"64.5\" x=\"20\" y=\"20.9951\">ItemTest</text></a></g><!--MD5=[b4997ac47864f28c2f74865a473b2911]\n",
       "class E2--><a href=\"psysml:a6e7d788-746b-466d-b844-23a78300b1ae\" target=\"_top\" title=\"psysml:a6e7d788-746b-466d-b844-23a78300b1ae\" xlink:actuate=\"onRequest\" xlink:href=\"psysml:a6e7d788-746b-466d-b844-23a78300b1ae\" xlink:show=\"new\" xlink:title=\"psysml:a6e7d788-746b-466d-b844-23a78300b1ae\" xlink:type=\"simple\"><g id=\"elem_E2\"><rect fill=\"#FFFFFF\" height=\"48.2656\" id=\"E2\" rx=\"10\" ry=\"10\" style=\"stroke:#181818;stroke-width:0.5;\" width=\"43\" x=\"200.5\" y=\"150\"/><text fill=\"#000000\" font-family=\"sans-serif\" font-size=\"12\" font-style=\"italic\" lengthAdjust=\"spacing\" textLength=\"41\" x=\"201.5\" y=\"166.1387\">«item»</text><text fill=\"#000000\" font-family=\"sans-serif\" font-size=\"14\" lengthAdjust=\"spacing\" textLength=\"22\" x=\"207\" y=\"181.9639\">f: A</text><line style=\"stroke:#181818;stroke-width:0.5;\" x1=\"201.5\" x2=\"242.5\" y1=\"190.2656\" y2=\"190.2656\"/></g></a><!--MD5=[09b614a08d8cba4a07c9adeb5e0fee81]\n",
       "class E3--><a href=\"psysml:7645df02-ea24-41fb-927b-82e0988a44f2\" target=\"_top\" title=\"psysml:7645df02-ea24-41fb-927b-82e0988a44f2\" xlink:actuate=\"onRequest\" xlink:href=\"psysml:7645df02-ea24-41fb-927b-82e0988a44f2\" xlink:show=\"new\" xlink:title=\"psysml:7645df02-ea24-41fb-927b-82e0988a44f2\" xlink:type=\"simple\"><g id=\"elem_E3\"><rect fill=\"#FFFFFF\" height=\"48.2656\" id=\"E3\" style=\"stroke:#181818;stroke-width:0.5;\" width=\"71\" x=\"105.5\" y=\"259\"/><text fill=\"#000000\" font-family=\"sans-serif\" font-size=\"12\" font-style=\"italic\" lengthAdjust=\"spacing\" textLength=\"69\" x=\"106.5\" y=\"275.1387\">«item  def»</text><text fill=\"#000000\" font-family=\"sans-serif\" font-size=\"14\" lengthAdjust=\"spacing\" textLength=\"9\" x=\"136.5\" y=\"290.9639\">A</text><line style=\"stroke:#181818;stroke-width:0.5;\" x1=\"106.5\" x2=\"175.5\" y1=\"299.2656\" y2=\"299.2656\"/></g></a><!--MD5=[ebbe1d658d1005bcc118a6aa81145e00]\n",
       "class E4--><a href=\"psysml:426ed2e2-6591-4c8f-a505-52d546190911\" target=\"_top\" title=\"psysml:426ed2e2-6591-4c8f-a505-52d546190911\" xlink:actuate=\"onRequest\" xlink:href=\"psysml:426ed2e2-6591-4c8f-a505-52d546190911\" xlink:show=\"new\" xlink:title=\"psysml:426ed2e2-6591-4c8f-a505-52d546190911\" xlink:type=\"simple\"><g id=\"elem_E4\"><rect fill=\"#FFFFFF\" height=\"48.2656\" id=\"E4\" rx=\"10\" ry=\"10\" style=\"stroke:#181818;stroke-width:0.5;\" width=\"43\" x=\"48.5\" y=\"446\"/><text fill=\"#000000\" font-family=\"sans-serif\" font-size=\"12\" font-style=\"italic\" lengthAdjust=\"spacing\" textLength=\"41\" x=\"49.5\" y=\"462.1387\">«item»</text><text fill=\"#000000\" font-family=\"sans-serif\" font-size=\"14\" lengthAdjust=\"spacing\" textLength=\"28\" x=\"52\" y=\"477.9639\">b: B</text><line style=\"stroke:#181818;stroke-width:0.5;\" x1=\"49.5\" x2=\"90.5\" y1=\"486.2656\" y2=\"486.2656\"/></g></a><!--MD5=[270fce915f116d4de14055a7c1d9a0f3]\n",
       "class E5--><a href=\"psysml:331ec08e-03d4-4ef2-9768-da2cb6dfa326\" target=\"_top\" title=\"psysml:331ec08e-03d4-4ef2-9768-da2cb6dfa326\" xlink:actuate=\"onRequest\" xlink:href=\"psysml:331ec08e-03d4-4ef2-9768-da2cb6dfa326\" xlink:show=\"new\" xlink:title=\"psysml:331ec08e-03d4-4ef2-9768-da2cb6dfa326\" xlink:type=\"simple\"><g id=\"elem_E5\"><rect fill=\"#FFFFFF\" height=\"48.2656\" id=\"E5\" rx=\"10\" ry=\"10\" style=\"stroke:#181818;stroke-width:0.5;\" width=\"42\" x=\"157\" y=\"368\"/><text fill=\"#000000\" font-family=\"sans-serif\" font-size=\"12\" font-style=\"italic\" lengthAdjust=\"spacing\" textLength=\"40\" x=\"158\" y=\"384.1387\">«part»</text><text fill=\"#000000\" font-family=\"sans-serif\" font-size=\"14\" lengthAdjust=\"spacing\" textLength=\"27\" x=\"160.5\" y=\"399.9639\">c: C</text><line style=\"stroke:#181818;stroke-width:0.5;\" x1=\"158\" x2=\"198\" y1=\"408.2656\" y2=\"408.2656\"/></g></a><!--MD5=[60a26617385b1d2d0262a64233df1f8d]\n",
       "class E6--><a href=\"psysml:1c5a109b-6d3b-4425-b763-85184515822e\" target=\"_top\" title=\"psysml:1c5a109b-6d3b-4425-b763-85184515822e\" xlink:actuate=\"onRequest\" xlink:href=\"psysml:1c5a109b-6d3b-4425-b763-85184515822e\" xlink:show=\"new\" xlink:title=\"psysml:1c5a109b-6d3b-4425-b763-85184515822e\" xlink:type=\"simple\"><g id=\"elem_E6\"><rect fill=\"#FFFFFF\" height=\"48.2656\" id=\"E6\" style=\"stroke:#181818;stroke-width:0.5;\" width=\"71\" x=\"116.5\" y=\"649\"/><text fill=\"#000000\" font-family=\"sans-serif\" font-size=\"12\" font-style=\"italic\" lengthAdjust=\"spacing\" textLength=\"69\" x=\"117.5\" y=\"665.1387\">«item  def»</text><text fill=\"#000000\" font-family=\"sans-serif\" font-size=\"14\" font-style=\"italic\" lengthAdjust=\"spacing\" textLength=\"10\" x=\"147\" y=\"680.9639\">B</text><line style=\"stroke:#181818;stroke-width:0.5;\" x1=\"117.5\" x2=\"186.5\" y1=\"689.2656\" y2=\"689.2656\"/></g></a><!--MD5=[2156ba9850f5573cc1fc38a6a4b2f02b]\n",
       "class E7--><a href=\"psysml:3d3f18ff-1114-439a-91a9-78796a10458c\" target=\"_top\" title=\"psysml:3d3f18ff-1114-439a-91a9-78796a10458c\" xlink:actuate=\"onRequest\" xlink:href=\"psysml:3d3f18ff-1114-439a-91a9-78796a10458c\" xlink:show=\"new\" xlink:title=\"psysml:3d3f18ff-1114-439a-91a9-78796a10458c\" xlink:type=\"simple\"><g id=\"elem_E7\"><rect fill=\"#FFFFFF\" height=\"48.2656\" id=\"E7\" rx=\"10\" ry=\"10\" style=\"stroke:#181818;stroke-width:0.5;\" width=\"42\" x=\"167\" y=\"758\"/><text fill=\"#000000\" font-family=\"sans-serif\" font-size=\"12\" font-style=\"italic\" lengthAdjust=\"spacing\" textLength=\"40\" x=\"168\" y=\"774.1387\">«part»</text><text fill=\"#000000\" font-family=\"sans-serif\" font-size=\"14\" font-style=\"italic\" lengthAdjust=\"spacing\" textLength=\"8\" x=\"171\" y=\"789.9639\">a</text><text fill=\"#000000\" font-family=\"sans-serif\" font-size=\"14\" lengthAdjust=\"spacing\" textLength=\"18\" x=\"179\" y=\"789.9639\">: A</text><line style=\"stroke:#181818;stroke-width:0.5;\" x1=\"168\" x2=\"208\" y1=\"798.2656\" y2=\"798.2656\"/></g></a><!--MD5=[b9389687b975829384b498ac4b7476b2]\n",
       "class E8--><a href=\"psysml:1568c6af-b382-4c7f-b02a-0d87dd86c0f5\" target=\"_top\" title=\"psysml:1568c6af-b382-4c7f-b02a-0d87dd86c0f5\" xlink:actuate=\"onRequest\" xlink:href=\"psysml:1568c6af-b382-4c7f-b02a-0d87dd86c0f5\" xlink:show=\"new\" xlink:title=\"psysml:1568c6af-b382-4c7f-b02a-0d87dd86c0f5\" xlink:type=\"simple\"><g id=\"elem_E8\"><rect fill=\"#FFFFFF\" height=\"48.2656\" id=\"E8\" style=\"stroke:#181818;stroke-width:0.5;\" width=\"70\" x=\"117\" y=\"524\"/><text fill=\"#000000\" font-family=\"sans-serif\" font-size=\"12\" font-style=\"italic\" lengthAdjust=\"spacing\" textLength=\"68\" x=\"118\" y=\"540.1387\">«part  def»</text><text fill=\"#000000\" font-family=\"sans-serif\" font-size=\"14\" lengthAdjust=\"spacing\" textLength=\"10\" x=\"147\" y=\"555.9639\">C</text><line style=\"stroke:#181818;stroke-width:0.5;\" x1=\"118\" x2=\"186\" y1=\"564.2656\" y2=\"564.2656\"/></g></a><!--MD5=[fd4143e9d270a159db93a4ea2a975926]\n",
       "class E9--><a href=\"psysml:7b3481ba-f47b-4c12-87df-4d6f620e6d00\" target=\"_top\" title=\"psysml:7b3481ba-f47b-4c12-87df-4d6f620e6d00\" xlink:actuate=\"onRequest\" xlink:href=\"psysml:7b3481ba-f47b-4c12-87df-4d6f620e6d00\" xlink:show=\"new\" xlink:title=\"psysml:7b3481ba-f47b-4c12-87df-4d6f620e6d00\" xlink:type=\"simple\"><g id=\"elem_E9\"><rect fill=\"#FFFFFF\" height=\"48.2656\" id=\"E9\" style=\"stroke:#181818;stroke-width:0.5;\" width=\"70\" x=\"69\" y=\"41\"/><text fill=\"#000000\" font-family=\"sans-serif\" font-size=\"12\" font-style=\"italic\" lengthAdjust=\"spacing\" textLength=\"68\" x=\"70\" y=\"57.1387\">«port  def»</text><text fill=\"#000000\" font-family=\"sans-serif\" font-size=\"14\" lengthAdjust=\"spacing\" textLength=\"9\" x=\"99.5\" y=\"72.9639\">P</text><line style=\"stroke:#181818;stroke-width:0.5;\" x1=\"70\" x2=\"138\" y1=\"81.2656\" y2=\"81.2656\"/></g></a><!--MD5=[96f4274e9e20536e775497830990834d]\n",
       "class E10--><a href=\"psysml:116f794f-fd18-4d42-8d94-9abf783d43f0\" target=\"_top\" title=\"psysml:116f794f-fd18-4d42-8d94-9abf783d43f0\" xlink:actuate=\"onRequest\" xlink:href=\"psysml:116f794f-fd18-4d42-8d94-9abf783d43f0\" xlink:show=\"new\" xlink:title=\"psysml:116f794f-fd18-4d42-8d94-9abf783d43f0\" xlink:type=\"simple\"><g id=\"elem_E10\"><rect fill=\"#FFFFFF\" height=\"48.2656\" id=\"E10\" rx=\"10\" ry=\"10\" style=\"stroke:#181818;stroke-width:0.5;\" width=\"49\" x=\"32.5\" y=\"150\"/><text fill=\"#000000\" font-family=\"sans-serif\" font-size=\"12\" font-style=\"italic\" lengthAdjust=\"spacing\" textLength=\"41\" x=\"36.5\" y=\"166.1387\">«item»</text><text fill=\"#000000\" font-family=\"sans-serif\" font-size=\"14\" lengthAdjust=\"spacing\" textLength=\"35\" x=\"35.5\" y=\"181.9639\">a1: A</text><line style=\"stroke:#181818;stroke-width:0.5;\" x1=\"33.5\" x2=\"80.5\" y1=\"190.2656\" y2=\"190.2656\"/></g></a><!--MD5=[1dd1bfd58a279cf63c5f349dbc8fc6a1]\n",
       "class E11--><a href=\"psysml:16572df6-eec3-489a-80d1-3b65de425cbd\" target=\"_top\" title=\"psysml:16572df6-eec3-489a-80d1-3b65de425cbd\" xlink:actuate=\"onRequest\" xlink:href=\"psysml:16572df6-eec3-489a-80d1-3b65de425cbd\" xlink:show=\"new\" xlink:title=\"psysml:16572df6-eec3-489a-80d1-3b65de425cbd\" xlink:type=\"simple\"><g id=\"elem_E11\"><rect fill=\"#FFFFFF\" height=\"48.2656\" id=\"E11\" rx=\"10\" ry=\"10\" style=\"stroke:#181818;stroke-width:0.5;\" width=\"49\" x=\"116.5\" y=\"150\"/><text fill=\"#000000\" font-family=\"sans-serif\" font-size=\"12\" font-style=\"italic\" lengthAdjust=\"spacing\" textLength=\"41\" x=\"120.5\" y=\"166.1387\">«item»</text><text fill=\"#000000\" font-family=\"sans-serif\" font-size=\"14\" lengthAdjust=\"spacing\" textLength=\"35\" x=\"119.5\" y=\"181.9639\">a2: A</text><line style=\"stroke:#181818;stroke-width:0.5;\" x1=\"117.5\" x2=\"164.5\" y1=\"190.2656\" y2=\"190.2656\"/></g></a><!--MD5=[2720a5a1f2c3fca2055b230370638851]\n",
       "link E2 to E3--><g id=\"link_E2_E3\"><a href=\"psysml:70c9c3cf-ded5-4fad-940c-650d810049d2\" target=\"_top\" title=\"psysml:70c9c3cf-ded5-4fad-940c-650d810049d2\" xlink:actuate=\"onRequest\" xlink:href=\"psysml:70c9c3cf-ded5-4fad-940c-650d810049d2\" xlink:show=\"new\" xlink:title=\"psysml:70c9c3cf-ded5-4fad-940c-650d810049d2\" xlink:type=\"simple\"><path d=\"M204.42,198.22 C194.55,211.26 181.97,227.88 170.62,242.87 \" fill=\"none\" id=\"E2-to-E3\" style=\"stroke:#181818;stroke-width:1.0;\"/><polygon fill=\"#FFFFFF\" points=\"158.54,258.83,164.4286,239.4567,175.5901,247.9078,158.54,258.83\" style=\"stroke:#181818;stroke-width:1.0;\"/><ellipse cx=\"169.4639\" cy=\"236.1197\" fill=\"#181818\" rx=\"2\" ry=\"2\" style=\"stroke:#181818;stroke-width:1.0;\"/><ellipse cx=\"177.4364\" cy=\"242.1562\" fill=\"#181818\" rx=\"2\" ry=\"2\" style=\"stroke:#181818;stroke-width:1.0;\"/></a></g><!--MD5=[4672eba38e49728da53d11aeb285b987]\n",
       "reverse link E3 to E4--><g id=\"link_E3_E4\"><a href=\"psysml:1e28e0ed-b5c0-4fac-98b2-855fbe266c1f\" target=\"_top\" title=\"psysml:1e28e0ed-b5c0-4fac-98b2-855fbe266c1f\" xlink:actuate=\"onRequest\" xlink:href=\"psysml:1e28e0ed-b5c0-4fac-98b2-855fbe266c1f\" xlink:show=\"new\" xlink:title=\"psysml:1e28e0ed-b5c0-4fac-98b2-855fbe266c1f\" xlink:type=\"simple\"><path d=\"M104.38,316.32 C90.85,330.64 77.09,348.62 70,368 C60.72,393.36 62.6,424.76 65.58,445.75 \" fill=\"none\" id=\"E3-backto-E4\" style=\"stroke:#181818;stroke-width:1.0;\"/><polygon fill=\"#181818\" points=\"113.62,307.02,106.5522,308.4507,105.1545,315.525,112.2223,314.0943,113.62,307.02\" style=\"stroke:#181818;stroke-width:1.0;\"/></a></g><!--MD5=[191cde3d490a3f6d7bb551fe3ddca469]\n",
       "reverse link E3 to E5--><g id=\"link_E3_E5\"><a href=\"psysml:b5974af5-b28c-458b-89e4-95d46de68236\" target=\"_top\" title=\"psysml:b5974af5-b28c-458b-89e4-95d46de68236\" xlink:actuate=\"onRequest\" xlink:href=\"psysml:b5974af5-b28c-458b-89e4-95d46de68236\" xlink:show=\"new\" xlink:title=\"psysml:b5974af5-b28c-458b-89e4-95d46de68236\" xlink:type=\"simple\"><path d=\"M153.39,319.83 C158.86,335.66 165.14,353.82 169.99,367.83 \" fill=\"none\" id=\"E3-backto-E5\" style=\"stroke:#181818;stroke-width:1.0;\"/><polygon fill=\"none\" points=\"149.03,307.22,147.2077,314.1971,152.9472,318.5627,154.7695,311.5856,149.03,307.22\" style=\"stroke:#181818;stroke-width:1.0;\"/></a></g><!--MD5=[79568f1e445c3877b6a54524624ccc7d]\n",
       "link E4 to E6--><g id=\"link_E4_E6\"><a href=\"psysml:83940360-bfcd-4ab6-95b9-9006ad1a30a4\" target=\"_top\" title=\"psysml:83940360-bfcd-4ab6-95b9-9006ad1a30a4\" xlink:actuate=\"onRequest\" xlink:href=\"psysml:83940360-bfcd-4ab6-95b9-9006ad1a30a4\" xlink:show=\"new\" xlink:title=\"psysml:83940360-bfcd-4ab6-95b9-9006ad1a30a4\" xlink:type=\"simple\"><path d=\"M75.57,494.29 C80.84,515.04 89.51,546.05 100,572 C108.08,591.98 118.83,613.29 128.46,631.07 \" fill=\"none\" id=\"E4-to-E6\" style=\"stroke:#181818;stroke-width:1.0;\"/><polygon fill=\"#FFFFFF\" points=\"138.29,648.76,122.9437,635.5505,135.1819,628.7515,138.29,648.76\" style=\"stroke:#181818;stroke-width:1.0;\"/><ellipse cx=\"121.9238\" cy=\"629.5965\" fill=\"#181818\" rx=\"2\" ry=\"2\" style=\"stroke:#181818;stroke-width:1.0;\"/><ellipse cx=\"130.6654\" cy=\"624.7401\" fill=\"#181818\" rx=\"2\" ry=\"2\" style=\"stroke:#181818;stroke-width:1.0;\"/></a></g><!--MD5=[3f50a3473f1dfb74d3f76443e03635af]\n",
       "reverse link E6 to E7--><g id=\"link_E6_E7\"><a href=\"psysml:c7c30ff0-7abe-445a-9147-4c620b104f3e\" target=\"_top\" title=\"psysml:c7c30ff0-7abe-445a-9147-4c620b104f3e\" xlink:actuate=\"onRequest\" xlink:href=\"psysml:c7c30ff0-7abe-445a-9147-4c620b104f3e\" xlink:show=\"new\" xlink:title=\"psysml:c7c30ff0-7abe-445a-9147-4c620b104f3e\" xlink:type=\"simple\"><path d=\"M164.05,709.83 C169.38,725.66 175.49,743.82 180.2,757.83 \" fill=\"none\" id=\"E6-backto-E7\" style=\"stroke:#181818;stroke-width:1.0;\"/><polygon fill=\"#181818\" points=\"159.81,697.22,157.9296,704.1816,163.6324,708.5949,165.5128,701.6333,159.81,697.22\" style=\"stroke:#181818;stroke-width:1.0;\"/></a></g><!--MD5=[14ccda38c055a5c0da953d572bc50960]\n",
       "link E7 to E3--><g id=\"link_E7_E3\"><a href=\"psysml:4a79bdb3-77e8-4e9c-befa-ce9a0c7716db\" target=\"_top\" title=\"psysml:4a79bdb3-77e8-4e9c-befa-ce9a0c7716db\" xlink:actuate=\"onRequest\" xlink:href=\"psysml:4a79bdb3-77e8-4e9c-befa-ce9a0c7716db\" xlink:show=\"new\" xlink:title=\"psysml:4a79bdb3-77e8-4e9c-befa-ce9a0c7716db\" xlink:type=\"simple\"><path d=\"M204.97,757.64 C218.43,736.78 235,704.84 235,674 C235,391 235,391 235,391 C235,361.35 214.38,336.01 192.46,317.43 \" fill=\"none\" id=\"E7-to-E3\" style=\"stroke:#181818;stroke-width:1.0;\"/><polygon fill=\"#FFFFFF\" points=\"176.54,305.14,195.8578,311.2081,187.3035,322.2907,176.54,305.14\" style=\"stroke:#181818;stroke-width:1.0;\"/><ellipse cx=\"199.148\" cy=\"316.2741\" fill=\"#181818\" rx=\"2\" ry=\"2\" style=\"stroke:#181818;stroke-width:1.0;\"/><ellipse cx=\"193.0378\" cy=\"324.1903\" fill=\"#181818\" rx=\"2\" ry=\"2\" style=\"stroke:#181818;stroke-width:1.0;\"/></a></g><!--MD5=[dfaffb906826c3e5aca635516100ff21]\n",
       "link E5 to E8--><g id=\"link_E5_E8\"><a href=\"psysml:d776694e-c79b-404c-b561-ae1c1a2e3f3d\" target=\"_top\" title=\"psysml:d776694e-c79b-404c-b561-ae1c1a2e3f3d\" xlink:actuate=\"onRequest\" xlink:href=\"psysml:d776694e-c79b-404c-b561-ae1c1a2e3f3d\" xlink:show=\"new\" xlink:title=\"psysml:d776694e-c79b-404c-b561-ae1c1a2e3f3d\" xlink:type=\"simple\"><path d=\"M174.11,416.06 C170.2,439.19 164.09,475.38 159.28,503.86 \" fill=\"none\" id=\"E5-to-E8\" style=\"stroke:#181818;stroke-width:1.0;\"/><polygon fill=\"#FFFFFF\" points=\"155.92,523.79,152.1809,503.8898,165.9855,506.2206,155.92,523.79\" style=\"stroke:#181818;stroke-width:1.0;\"/><ellipse cx=\"155.1019\" cy=\"498.6023\" fill=\"#181818\" rx=\"2\" ry=\"2\" style=\"stroke:#181818;stroke-width:1.0;\"/><ellipse cx=\"164.9624\" cy=\"500.2671\" fill=\"#181818\" rx=\"2\" ry=\"2\" style=\"stroke:#181818;stroke-width:1.0;\"/></a></g><!--MD5=[03c8294790d3c57651a1993cecff665f]\n",
       "reverse link E8 to E3--><g id=\"link_E8_E3\"><a href=\"psysml:c4551329-8b56-4fd0-9fbf-f2d280f6b39b\" target=\"_top\" title=\"psysml:c4551329-8b56-4fd0-9fbf-f2d280f6b39b\" xlink:actuate=\"onRequest\" xlink:href=\"psysml:c4551329-8b56-4fd0-9fbf-f2d280f6b39b\" xlink:show=\"new\" xlink:title=\"psysml:c4551329-8b56-4fd0-9fbf-f2d280f6b39b\" xlink:type=\"simple\"><path d=\"M144.62,510.88 C139.66,484.68 133.57,448.31 131,416 C129.31,394.73 129.74,389.3 131,368 C132.23,347.33 135.14,323.95 137.5,307.11 \" fill=\"none\" id=\"E8-backto-E3\" style=\"stroke:#181818;stroke-width:1.0;\"/><polygon fill=\"none\" points=\"147.16,523.94,149.9387,517.2857,144.865,512.1615,142.0863,518.8158,147.16,523.94\" style=\"stroke:#181818;stroke-width:1.0;\"/><text fill=\"#000000\" font-family=\"sans-serif\" font-size=\"13\" lengthAdjust=\"spacing\" textLength=\"7\" x=\"132\" y=\"396.5669\">y</text></a></g><!--MD5=[0d75d2178373a6a4568e5dc728f58aef]\n",
       "reverse link E8 to E6--><g id=\"link_E8_E6\"><a href=\"psysml:c4551329-8b56-4fd0-9fbf-f2d280f6b39b\" target=\"_top\" title=\"psysml:c4551329-8b56-4fd0-9fbf-f2d280f6b39b\" xlink:actuate=\"onRequest\" xlink:href=\"psysml:c4551329-8b56-4fd0-9fbf-f2d280f6b39b\" xlink:show=\"new\" xlink:title=\"psysml:c4551329-8b56-4fd0-9fbf-f2d280f6b39b\" xlink:type=\"simple\"><path d=\"M152,585.21 C152,605.83 152,631.04 152,648.97 \" fill=\"none\" id=\"E8-backto-E6\" style=\"stroke:#181818;stroke-width:1.0;\"/><polygon fill=\"none\" points=\"152,572.14,148,578.14,152,584.14,156,578.14,152,572.14\" style=\"stroke:#181818;stroke-width:1.0;\"/><text fill=\"#000000\" font-family=\"sans-serif\" font-size=\"13\" lengthAdjust=\"spacing\" textLength=\"7\" x=\"153\" y=\"615.0669\">y</text></a></g><!--MD5=[23ac544a70576c3e717098101004234c]\n",
       "reverse link E9 to E10--><g id=\"link_E9_E10\"><a href=\"psysml:5a5abb4f-4a57-47f4-8d13-1f5dca85ed3b\" target=\"_top\" title=\"psysml:5a5abb4f-4a57-47f4-8d13-1f5dca85ed3b\" xlink:actuate=\"onRequest\" xlink:href=\"psysml:5a5abb4f-4a57-47f4-8d13-1f5dca85ed3b\" xlink:show=\"new\" xlink:title=\"psysml:5a5abb4f-4a57-47f4-8d13-1f5dca85ed3b\" xlink:type=\"simple\"><path d=\"M88.47,101.35 C81.47,117.29 73.39,135.68 67.18,149.83 \" fill=\"none\" id=\"E9-backto-E10\" style=\"stroke:#181818;stroke-width:1.0;\"/><polygon fill=\"none\" points=\"93.8,89.22,87.7243,93.1041,88.9729,100.2063,95.0485,96.3222,93.8,89.22\" style=\"stroke:#181818;stroke-width:1.0;\"/></a></g><!--MD5=[feeac5eb423634930294aa81f2d25a4c]\n",
       "link E10 to E3--><g id=\"link_E10_E3\"><a href=\"psysml:d7f66802-941a-4496-884a-36d82493c03e\" target=\"_top\" title=\"psysml:d7f66802-941a-4496-884a-36d82493c03e\" xlink:actuate=\"onRequest\" xlink:href=\"psysml:d7f66802-941a-4496-884a-36d82493c03e\" xlink:show=\"new\" xlink:title=\"psysml:d7f66802-941a-4496-884a-36d82493c03e\" xlink:type=\"simple\"><path d=\"M75.23,198.22 C85.46,211.26 98.51,227.88 110.28,242.87 \" fill=\"none\" id=\"E10-to-E3\" style=\"stroke:#181818;stroke-width:1.0;\"/><polygon fill=\"#FFFFFF\" points=\"122.81,258.83,105.5676,248.214,116.5764,239.565,122.81,258.83\" style=\"stroke:#181818;stroke-width:1.0;\"/><ellipse cx=\"103.6189\" cy=\"242.4963\" fill=\"#181818\" rx=\"2\" ry=\"2\" style=\"stroke:#181818;stroke-width:1.0;\"/><ellipse cx=\"111.4823\" cy=\"236.3184\" fill=\"#181818\" rx=\"2\" ry=\"2\" style=\"stroke:#181818;stroke-width:1.0;\"/></a></g><!--MD5=[1fc04a95fd77ad5ce46c1a3027516051]\n",
       "reverse link E9 to E11--><g id=\"link_E9_E11\"><a href=\"psysml:8187499b-9a51-4939-bbf5-c8a0ee670e5b\" target=\"_top\" title=\"psysml:8187499b-9a51-4939-bbf5-c8a0ee670e5b\" xlink:actuate=\"onRequest\" xlink:href=\"psysml:8187499b-9a51-4939-bbf5-c8a0ee670e5b\" xlink:show=\"new\" xlink:title=\"psysml:8187499b-9a51-4939-bbf5-c8a0ee670e5b\" xlink:type=\"simple\"><path d=\"M116.39,101.83 C121.86,117.66 128.14,135.82 132.99,149.83 \" fill=\"none\" id=\"E9-backto-E11\" style=\"stroke:#181818;stroke-width:1.0;\"/><polygon fill=\"none\" points=\"112.03,89.22,110.2077,96.1971,115.9472,100.5627,117.7695,93.5856,112.03,89.22\" style=\"stroke:#181818;stroke-width:1.0;\"/></a></g><!--MD5=[0517f1ce58c4d5483948f93845c45e26]\n",
       "link E11 to E3--><g id=\"link_E11_E3\"><a href=\"psysml:ca7307c2-0235-4c1e-8766-bbb66b330e4f\" target=\"_top\" title=\"psysml:ca7307c2-0235-4c1e-8766-bbb66b330e4f\" xlink:actuate=\"onRequest\" xlink:href=\"psysml:ca7307c2-0235-4c1e-8766-bbb66b330e4f\" xlink:show=\"new\" xlink:title=\"psysml:ca7307c2-0235-4c1e-8766-bbb66b330e4f\" xlink:type=\"simple\"><path d=\"M141,198.22 C141,210 141,224.69 141,238.48 \" fill=\"none\" id=\"E11-to-E3\" style=\"stroke:#181818;stroke-width:1.0;\"/><polygon fill=\"#FFFFFF\" points=\"141,258.83,134,239.83,148,239.83,141,258.83\" style=\"stroke:#181818;stroke-width:1.0;\"/><ellipse cx=\"136\" cy=\"234.13\" fill=\"#181818\" rx=\"2\" ry=\"2\" style=\"stroke:#181818;stroke-width:1.0;\"/><ellipse cx=\"146\" cy=\"234.13\" fill=\"#181818\" rx=\"2\" ry=\"2\" style=\"stroke:#181818;stroke-width:1.0;\"/></a></g><!--MD5=[697a39c91afcff33f4fccb8518c80bb5]\n",
       "@startuml\r\n",
       "skin sysmlbw\r\n",
       "skinparam monochrome true\r\n",
       "skinparam wrapWidth 300\r\n",
       "hide circle\r\n",
       "\r\n",
       "package \"ItemTest\" as E1  [[psysml:cd87d2b7-4fa1-4c1b-a4f6-af691b0dec58 ]]  {\r\n",
       "comp usage \"f: A  \" as E2  <<(T,blue) item>> [[psysml:a6e7d788-746b-466d-b844-23a78300b1ae ]] {\r\n",
       "}\r\n",
       "comp def \"A\" as E3  <<(T,blue) item  def>> [[psysml:7645df02-ea24-41fb-927b-82e0988a44f2 ]] {\r\n",
       "}\r\n",
       "comp usage \"b: B  \" as E4  <<(T,blue) item>> [[psysml:426ed2e2-6591-4c8f-a505-52d546190911 ]] {\r\n",
       "}\r\n",
       "comp usage \"c: C  \" as E5  <<(T,blue) part>> [[psysml:331ec08e-03d4-4ef2-9768-da2cb6dfa326 ]] {\r\n",
       "}\r\n",
       "comp def \"<i>B</i>\" as E6  <<(T,blue) item  def>> [[psysml:1c5a109b-6d3b-4425-b763-85184515822e ]] {\r\n",
       "}\r\n",
       "comp usage \"<i>a</i>: A  \" as E7  <<(T,blue) part>> [[psysml:3d3f18ff-1114-439a-91a9-78796a10458c ]] {\r\n",
       "}\r\n",
       "comp def \"C\" as E8  <<(T,blue) part  def>> [[psysml:1568c6af-b382-4c7f-b02a-0d87dd86c0f5 ]] {\r\n",
       "}\r\n",
       "comp def \"P\" as E9  <<(T,blue) port  def>> [[psysml:7b3481ba-f47b-4c12-87df-4d6f620e6d00 ]] {\r\n",
       "}\r\n",
       "comp usage \"a1: A  \" as E10  <<(T,blue) item>> [[psysml:116f794f-fd18-4d42-8d94-9abf783d43f0 ]] {\r\n",
       "}\r\n",
       "comp usage \"a2: A  \" as E11  <<(T,blue) item>> [[psysml:16572df6-eec3-489a-80d1-3b65de425cbd ]] {\r\n",
       "}\r\n",
       "}\r\n",
       "E2 - -:|> E3 [[psysml:70c9c3cf-ded5-4fad-940c-650d810049d2 ]] \r\n",
       "E3 *- - E4 [[psysml:1e28e0ed-b5c0-4fac-98b2-855fbe266c1f ]] \r\n",
       "E3 o- - E5 [[psysml:b5974af5-b28c-458b-89e4-95d46de68236 ]] \r\n",
       "E4 - -:|> E6 [[psysml:83940360-bfcd-4ab6-95b9-9006ad1a30a4 ]] \r\n",
       "E6 *- - E7 [[psysml:c7c30ff0-7abe-445a-9147-4c620b104f3e ]] \r\n",
       "E7 - -:|> E3 [[psysml:4a79bdb3-77e8-4e9c-befa-ce9a0c7716db ]] \r\n",
       "E5 - -:|> E8 [[psysml:d776694e-c79b-404c-b561-ae1c1a2e3f3d ]] \r\n",
       "E8 o- - E3 [[psysml:c4551329-8b56-4fd0-9fbf-f2d280f6b39b ]] : y\r\n",
       "E8 o- - E6 [[psysml:c4551329-8b56-4fd0-9fbf-f2d280f6b39b ]] : y\r\n",
       "E9 o- - E10 [[psysml:5a5abb4f-4a57-47f4-8d13-1f5dca85ed3b ]] \r\n",
       "E10 - -:|> E3 [[psysml:d7f66802-941a-4496-884a-36d82493c03e ]] \r\n",
       "E9 o- - E11 [[psysml:8187499b-9a51-4939-bbf5-c8a0ee670e5b ]] \r\n",
       "E11 - -:|> E3 [[psysml:ca7307c2-0235-4c1e-8766-bbb66b330e4f ]] \r\n",
       "@enduml\r\n",
       "\n",
       "PlantUML version 1.2022.7(Mon Aug 22 17:01:30 UTC 2022)\n",
       "(EPL source distribution)\n",
       "Java Runtime: OpenJDK Runtime Environment\n",
       "JVM: OpenJDK 64-Bit Server VM\n",
       "Default Encoding: UTF-8\n",
       "Language: en\n",
       "Country: null\n",
       "--></g></svg>"
      ]
     },
     "execution_count": 38,
     "metadata": {},
     "output_type": "execute_result"
    }
   ],
   "source": [
    "%viz --style=\"DEFAULT\" --view=\"Tree\" \"ItemTest\""
   ]
  },
  {
   "cell_type": "code",
   "execution_count": 39,
   "id": "dda68fe1",
   "metadata": {
    "execution": {
     "iopub.execute_input": "2024-12-16T14:15:18.310292Z",
     "iopub.status.busy": "2024-12-16T14:15:18.310034Z",
     "iopub.status.idle": "2024-12-16T14:15:18.318908Z",
     "shell.execute_reply": "2024-12-16T14:15:18.318683Z"
    }
   },
   "outputs": [
    {
     "data": {
      "image/svg+xml": [
       "<?xml version=\"1.0\" encoding=\"UTF-8\" standalone=\"no\"?><svg xmlns=\"http://www.w3.org/2000/svg\" xmlns:xlink=\"http://www.w3.org/1999/xlink\" contentStyleType=\"text/css\" height=\"10px\" preserveAspectRatio=\"none\" style=\"width:10px;height:10px;background:#FFFFFF;\" version=\"1.1\" viewBox=\"0 0 10 10\" width=\"10px\" zoomAndPan=\"magnify\"><defs/><g><!--MD5=[ac12e6954f3af68464267ee74ddf8a9f]\n",
       "@startuml\r\n",
       "skin sysmlbw\r\n",
       "skinparam monochrome true\r\n",
       "skinparam wrapWidth 300\r\n",
       "hide circle\r\n",
       "\r\n",
       "@enduml\r\n",
       "\n",
       "PlantUML version 1.2022.7(Mon Aug 22 17:01:30 UTC 2022)\n",
       "(EPL source distribution)\n",
       "Java Runtime: OpenJDK Runtime Environment\n",
       "JVM: OpenJDK 64-Bit Server VM\n",
       "Default Encoding: UTF-8\n",
       "Language: en\n",
       "Country: null\n",
       "--></g></svg>"
      ]
     },
     "execution_count": 39,
     "metadata": {},
     "output_type": "execute_result"
    }
   ],
   "source": [
    "%viz --style=\"DEFAULT\" --view=\"State\" \"ItemTest\""
   ]
  },
  {
   "cell_type": "code",
   "execution_count": 40,
   "id": "697e2584",
   "metadata": {
    "execution": {
     "iopub.execute_input": "2024-12-16T14:15:18.375057Z",
     "iopub.status.busy": "2024-12-16T14:15:18.374826Z",
     "iopub.status.idle": "2024-12-16T14:15:18.391871Z",
     "shell.execute_reply": "2024-12-16T14:15:18.391037Z"
    }
   },
   "outputs": [
    {
     "data": {
      "image/svg+xml": [
       "<?xml version=\"1.0\" encoding=\"UTF-8\" standalone=\"no\"?><svg xmlns=\"http://www.w3.org/2000/svg\" xmlns:xlink=\"http://www.w3.org/1999/xlink\" contentStyleType=\"text/css\" height=\"245px\" preserveAspectRatio=\"none\" style=\"width:478px;height:245px;background:#FFFFFF;\" version=\"1.1\" viewBox=\"0 0 478 245\" width=\"478px\" zoomAndPan=\"magnify\"><defs/><g><!--MD5=[fbc87193dbaf4d95561dea2c320d4a47]\n",
       "cluster E1--><g id=\"cluster_E1\"><a href=\"psysml:cd87d2b7-4fa1-4c1b-a4f6-af691b0dec58\" target=\"_top\" title=\"psysml:cd87d2b7-4fa1-4c1b-a4f6-af691b0dec58\" xlink:actuate=\"onRequest\" xlink:href=\"psysml:cd87d2b7-4fa1-4c1b-a4f6-af691b0dec58\" xlink:show=\"new\" xlink:title=\"psysml:cd87d2b7-4fa1-4c1b-a4f6-af691b0dec58\" xlink:type=\"simple\"><polygon fill=\"none\" points=\"16,6,86.5,6,93.5,28.2969,461,28.2969,461,238,16,238,16,6\" style=\"stroke:#000000;stroke-width:1.5;\"/><line style=\"stroke:#000000;stroke-width:1.5;\" x1=\"16\" x2=\"93.5\" y1=\"28.2969\" y2=\"28.2969\"/><text fill=\"#000000\" font-family=\"sans-serif\" font-size=\"14\" font-weight=\"bold\" lengthAdjust=\"spacing\" textLength=\"64.5\" x=\"20\" y=\"20.9951\">ItemTest</text></a></g><!--MD5=[de5ec2e2e8f62f467e546659f5068c88]\n",
       "cluster E5--><g id=\"cluster_E5\"><a href=\"psysml:1568c6af-b382-4c7f-b02a-0d87dd86c0f5\" target=\"_top\" title=\"psysml:1568c6af-b382-4c7f-b02a-0d87dd86c0f5\" xlink:actuate=\"onRequest\" xlink:href=\"psysml:1568c6af-b382-4c7f-b02a-0d87dd86c0f5\" xlink:show=\"new\" xlink:title=\"psysml:1568c6af-b382-4c7f-b02a-0d87dd86c0f5\" xlink:type=\"simple\"><rect fill=\"#FFFFFF\" height=\"112\" id=\"E5\" style=\"stroke:#383838;stroke-width:1.5;\" width=\"114\" x=\"323\" y=\"49\"/><text fill=\"#000000\" font-family=\"sans-serif\" font-size=\"12\" font-style=\"italic\" lengthAdjust=\"spacing\" textLength=\"68\" x=\"346\" y=\"65.1387\">«part  def»</text><text fill=\"#000000\" font-family=\"sans-serif\" font-size=\"14\" lengthAdjust=\"spacing\" textLength=\"10\" x=\"375\" y=\"80.9639\">C</text><line style=\"stroke:#383838;stroke-width:1.0;\" x1=\"323\" x2=\"437\" y1=\"89.2656\" y2=\"89.2656\"/></a></g><g><a href=\"psysml:7645df02-ea24-41fb-927b-82e0988a44f2\" target=\"_top\" title=\"psysml:7645df02-ea24-41fb-927b-82e0988a44f2\" xlink:actuate=\"onRequest\" xlink:href=\"psysml:7645df02-ea24-41fb-927b-82e0988a44f2\" xlink:show=\"new\" xlink:title=\"psysml:7645df02-ea24-41fb-927b-82e0988a44f2\" xlink:type=\"simple\"><rect fill=\"#FFFFFF\" height=\"45.2656\" id=\"E3\" style=\"stroke:#383838;stroke-width:1.5;\" width=\"76\" x=\"32\" y=\"177\"/><text fill=\"#000000\" font-family=\"sans-serif\" font-size=\"12\" font-style=\"italic\" lengthAdjust=\"spacing\" textLength=\"69\" x=\"35.5\" y=\"193.1387\">«item  def»</text><text fill=\"#000000\" font-family=\"sans-serif\" font-size=\"14\" lengthAdjust=\"spacing\" textLength=\"9\" x=\"65.5\" y=\"208.9639\">A</text></a></g><g><a href=\"psysml:1c5a109b-6d3b-4425-b763-85184515822e\" target=\"_top\" title=\"psysml:1c5a109b-6d3b-4425-b763-85184515822e\" xlink:actuate=\"onRequest\" xlink:href=\"psysml:1c5a109b-6d3b-4425-b763-85184515822e\" xlink:show=\"new\" xlink:title=\"psysml:1c5a109b-6d3b-4425-b763-85184515822e\" xlink:type=\"simple\"><rect fill=\"#FFFFFF\" height=\"45.2656\" id=\"E4\" style=\"stroke:#383838;stroke-width:1.5;\" width=\"76\" x=\"228\" y=\"100\"/><text fill=\"#000000\" font-family=\"sans-serif\" font-size=\"12\" font-style=\"italic\" lengthAdjust=\"spacing\" textLength=\"69\" x=\"231.5\" y=\"116.1387\">«item  def»</text><text fill=\"#000000\" font-family=\"sans-serif\" font-size=\"14\" font-style=\"italic\" lengthAdjust=\"spacing\" textLength=\"10\" x=\"261\" y=\"131.9639\">B</text></a></g><g><a href=\"psysml:7b3481ba-f47b-4c12-87df-4d6f620e6d00\" target=\"_top\" title=\"psysml:7b3481ba-f47b-4c12-87df-4d6f620e6d00\" xlink:actuate=\"onRequest\" xlink:href=\"psysml:7b3481ba-f47b-4c12-87df-4d6f620e6d00\" xlink:show=\"new\" xlink:title=\"psysml:7b3481ba-f47b-4c12-87df-4d6f620e6d00\" xlink:type=\"simple\"><rect fill=\"#FFFFFF\" height=\"45.2656\" id=\"E7\" style=\"stroke:#383838;stroke-width:1.5;\" width=\"75\" x=\"117.5\" y=\"100\"/><text fill=\"#000000\" font-family=\"sans-serif\" font-size=\"12\" font-style=\"italic\" lengthAdjust=\"spacing\" textLength=\"68\" x=\"121\" y=\"116.1387\">«port  def»</text><text fill=\"#000000\" font-family=\"sans-serif\" font-size=\"14\" lengthAdjust=\"spacing\" textLength=\"9\" x=\"150.5\" y=\"131.9639\">P</text></a></g><g><a href=\"psysml:a6e7d788-746b-466d-b844-23a78300b1ae\" target=\"_top\" title=\"psysml:a6e7d788-746b-466d-b844-23a78300b1ae\" xlink:actuate=\"onRequest\" xlink:href=\"psysml:a6e7d788-746b-466d-b844-23a78300b1ae\" xlink:show=\"new\" xlink:title=\"psysml:a6e7d788-746b-466d-b844-23a78300b1ae\" xlink:type=\"simple\"><rect fill=\"#FFFFFF\" height=\"45.2656\" id=\"E2\" rx=\"10\" ry=\"10\" style=\"stroke:#383838;stroke-width:1.5;\" width=\"50\" x=\"32\" y=\"100\"/><text fill=\"#000000\" font-family=\"sans-serif\" font-size=\"12\" font-style=\"italic\" lengthAdjust=\"spacing\" textLength=\"41\" x=\"36.5\" y=\"116.1387\">«item»</text><text fill=\"#000000\" font-family=\"sans-serif\" font-size=\"14\" lengthAdjust=\"spacing\" textLength=\"22\" x=\"46\" y=\"131.9639\">f: A</text></a></g><g><a href=\"psysml:c4551329-8b56-4fd0-9fbf-f2d280f6b39b\" target=\"_top\" title=\"psysml:c4551329-8b56-4fd0-9fbf-f2d280f6b39b\" xlink:actuate=\"onRequest\" xlink:href=\"psysml:c4551329-8b56-4fd0-9fbf-f2d280f6b39b\" xlink:show=\"new\" xlink:title=\"psysml:c4551329-8b56-4fd0-9fbf-f2d280f6b39b\" xlink:type=\"simple\"><rect fill=\"#FFFFFF\" height=\"45.2656\" id=\"E6\" rx=\"10\" ry=\"10\" style=\"stroke:#383838;stroke-width:1.5;\" width=\"82\" x=\"339\" y=\"100\"/><text fill=\"#000000\" font-family=\"sans-serif\" font-size=\"12\" font-style=\"italic\" lengthAdjust=\"spacing\" textLength=\"75\" x=\"342.5\" y=\"116.1387\">«reference»</text><text fill=\"#000000\" font-family=\"sans-serif\" font-size=\"14\" lengthAdjust=\"spacing\" textLength=\"43\" x=\"354.5\" y=\"131.9639\">y: A, B</text></a></g><!--MD5=[2720a5a1f2c3fca2055b230370638851]\n",
       "link E2 to E3--><g id=\"link_E2_E3\"><a href=\"psysml:70c9c3cf-ded5-4fad-940c-650d810049d2\" target=\"_top\" title=\"psysml:70c9c3cf-ded5-4fad-940c-650d810049d2\" xlink:actuate=\"onRequest\" xlink:href=\"psysml:70c9c3cf-ded5-4fad-940c-650d810049d2\" xlink:show=\"new\" xlink:title=\"psysml:70c9c3cf-ded5-4fad-940c-650d810049d2\" xlink:type=\"simple\"><path d=\"M60.76,145.19 C61.41,148.92 62.1,152.91 62.8,156.96 \" fill=\"none\" id=\"E2-to-E3\" style=\"stroke:#181818;stroke-width:1.0;\"/><polygon fill=\"#FFFFFF\" points=\"66.25,176.86,56.0959,159.3416,69.8886,156.9411,66.25,176.86\" style=\"stroke:#181818;stroke-width:1.0;\"/><ellipse cx=\"57.0889\" cy=\"153.3831\" fill=\"#181818\" rx=\"2\" ry=\"2\" style=\"stroke:#181818;stroke-width:1.0;\"/><ellipse cx=\"66.9408\" cy=\"151.6685\" fill=\"#181818\" rx=\"2\" ry=\"2\" style=\"stroke:#181818;stroke-width:1.0;\"/></a></g><!--MD5=[f59a09fdbe7f2e3516ae7dbb3a862eec]\n",
       "@startuml\r\n",
       "skin sysmlbw\r\n",
       "skinparam monochrome true\r\n",
       "skinparam wrapWidth 300\r\n",
       "hide circle\r\n",
       "skinparam ranksep 10\r\n",
       "skinparam rectangle {\r\n",
       " backgroundColor<<block>> LightGreen\r\n",
       "}\r\n",
       "\r\n",
       "package \"ItemTest\" as E1  [[psysml:cd87d2b7-4fa1-4c1b-a4f6-af691b0dec58 ]]  {\r\n",
       "rec usage \"f: A\" as E2  <<(T,blue) item>> [[psysml:a6e7d788-746b-466d-b844-23a78300b1ae ]] {\r\n",
       "}\r\n",
       "def \"A\" as E3  <<(T,blue) item  def>> [[psysml:7645df02-ea24-41fb-927b-82e0988a44f2 ]] \r\n",
       "def \"<i>B</i>\" as E4  <<(T,blue) item  def>> [[psysml:1c5a109b-6d3b-4425-b763-85184515822e ]] \r\n",
       "rec def \"C\" as E5  <<(T,blue) part  def>> [[psysml:1568c6af-b382-4c7f-b02a-0d87dd86c0f5 ]] {\r\n",
       "rec usage \"y: A, B  \" as E6  <<(T,blue) reference>> [[psysml:c4551329-8b56-4fd0-9fbf-f2d280f6b39b ]] {\r\n",
       "}\r\n",
       "\r\n",
       "}\r\n",
       "def \"P\" as E7  <<(T,blue) port  def>> [[psysml:7b3481ba-f47b-4c12-87df-4d6f620e6d00 ]] \r\n",
       "}\r\n",
       "E2 - -:|> E3 [[psysml:70c9c3cf-ded5-4fad-940c-650d810049d2 ]] \r\n",
       "@enduml\r\n",
       "\n",
       "PlantUML version 1.2022.7(Mon Aug 22 17:01:30 UTC 2022)\n",
       "(EPL source distribution)\n",
       "Java Runtime: OpenJDK Runtime Environment\n",
       "JVM: OpenJDK 64-Bit Server VM\n",
       "Default Encoding: UTF-8\n",
       "Language: en\n",
       "Country: null\n",
       "--></g></svg>"
      ]
     },
     "execution_count": 40,
     "metadata": {},
     "output_type": "execute_result"
    }
   ],
   "source": [
    "%viz --style=\"DEFAULT\" --view=\"Interconnection\" \"ItemTest\""
   ]
  },
  {
   "cell_type": "code",
   "execution_count": 41,
   "id": "f2306fe0",
   "metadata": {
    "execution": {
     "iopub.execute_input": "2024-12-16T14:15:18.447549Z",
     "iopub.status.busy": "2024-12-16T14:15:18.447332Z",
     "iopub.status.idle": "2024-12-16T14:15:18.452491Z",
     "shell.execute_reply": "2024-12-16T14:15:18.452286Z"
    }
   },
   "outputs": [
    {
     "data": {
      "image/svg+xml": [
       "<?xml version=\"1.0\" encoding=\"UTF-8\" standalone=\"no\"?><svg xmlns=\"http://www.w3.org/2000/svg\" xmlns:xlink=\"http://www.w3.org/1999/xlink\" contentStyleType=\"text/css\" height=\"10px\" preserveAspectRatio=\"none\" style=\"width:10px;height:10px;background:#FFFFFF;\" version=\"1.1\" viewBox=\"0 0 10 10\" width=\"10px\" zoomAndPan=\"magnify\"><defs/><g><!--MD5=[3d9597b1575ffc4802b0d6ba40297a8d]\n",
       "@startuml\r\n",
       "skin sysmlbw\r\n",
       "skinparam monochrome true\r\n",
       "skinparam wrapWidth 300\r\n",
       "hide circle\r\n",
       "skinparam ranksep 8\r\n",
       "\r\n",
       "@enduml\r\n",
       "\n",
       "PlantUML version 1.2022.7(Mon Aug 22 17:01:30 UTC 2022)\n",
       "(EPL source distribution)\n",
       "Java Runtime: OpenJDK Runtime Environment\n",
       "JVM: OpenJDK 64-Bit Server VM\n",
       "Default Encoding: UTF-8\n",
       "Language: en\n",
       "Country: null\n",
       "--></g></svg>"
      ]
     },
     "execution_count": 41,
     "metadata": {},
     "output_type": "execute_result"
    }
   ],
   "source": [
    "%viz --style=\"DEFAULT\" --view=\"Action\" \"ItemTest\""
   ]
  },
  {
   "cell_type": "code",
   "execution_count": 42,
   "id": "87aee7a9",
   "metadata": {
    "execution": {
     "iopub.execute_input": "2024-12-16T14:15:18.508168Z",
     "iopub.status.busy": "2024-12-16T14:15:18.507922Z",
     "iopub.status.idle": "2024-12-16T14:15:18.513929Z",
     "shell.execute_reply": "2024-12-16T14:15:18.513722Z"
    }
   },
   "outputs": [
    {
     "data": {
      "image/svg+xml": [
       "<?xml version=\"1.0\" encoding=\"UTF-8\" standalone=\"no\"?><svg xmlns=\"http://www.w3.org/2000/svg\" xmlns:xlink=\"http://www.w3.org/1999/xlink\" contentStyleType=\"text/css\" height=\"10px\" preserveAspectRatio=\"none\" style=\"width:10px;height:10px;background:#FFFFFF;\" version=\"1.1\" viewBox=\"0 0 10 10\" width=\"10px\" zoomAndPan=\"magnify\"><defs/><g><!--MD5=[075159388321915a295a256e9638f934]\n",
       "@startuml\r\n",
       "skin sysmlbw\r\n",
       "skinparam monochrome true\r\n",
       "skinparam wrapWidth 300\r\n",
       "hide circle\r\n",
       "skinparam roundcorner 20\r\n",
       "skinparam BoxPadding 20\r\n",
       "skinparam SequenceBoxBackgroundColor #white\r\n",
       "skinparam style strictuml\r\n",
       "skinparam maxMessageSize 100\r\n",
       "\r\n",
       "@enduml\r\n",
       "\n",
       "PlantUML version 1.2022.7(Mon Aug 22 17:01:30 UTC 2022)\n",
       "(EPL source distribution)\n",
       "Java Runtime: OpenJDK Runtime Environment\n",
       "JVM: OpenJDK 64-Bit Server VM\n",
       "Default Encoding: UTF-8\n",
       "Language: en\n",
       "Country: null\n",
       "--></g></svg>"
      ]
     },
     "execution_count": 42,
     "metadata": {},
     "output_type": "execute_result"
    }
   ],
   "source": [
    "%viz --style=\"DEFAULT\" --view=\"Sequence\" \"ItemTest\""
   ]
  },
  {
   "cell_type": "code",
   "execution_count": 43,
   "id": "72422b68",
   "metadata": {
    "execution": {
     "iopub.execute_input": "2024-12-16T14:15:18.566550Z",
     "iopub.status.busy": "2024-12-16T14:15:18.566290Z",
     "iopub.status.idle": "2024-12-16T14:15:18.590959Z",
     "shell.execute_reply": "2024-12-16T14:15:18.589855Z"
    }
   },
   "outputs": [
    {
     "data": {
      "image/svg+xml": [
       "<?xml version=\"1.0\" encoding=\"UTF-8\" standalone=\"no\"?><svg xmlns=\"http://www.w3.org/2000/svg\" xmlns:xlink=\"http://www.w3.org/1999/xlink\" contentStyleType=\"text/css\" height=\"829px\" preserveAspectRatio=\"none\" style=\"width:277px;height:829px;background:#FFFFFF;\" version=\"1.1\" viewBox=\"0 0 277 829\" width=\"277px\" zoomAndPan=\"magnify\"><defs/><g><!--MD5=[fbc87193dbaf4d95561dea2c320d4a47]\n",
       "cluster E1--><g id=\"cluster_E1\"><a href=\"psysml:cd87d2b7-4fa1-4c1b-a4f6-af691b0dec58\" target=\"_top\" title=\"psysml:cd87d2b7-4fa1-4c1b-a4f6-af691b0dec58\" xlink:actuate=\"onRequest\" xlink:href=\"psysml:cd87d2b7-4fa1-4c1b-a4f6-af691b0dec58\" xlink:show=\"new\" xlink:title=\"psysml:cd87d2b7-4fa1-4c1b-a4f6-af691b0dec58\" xlink:type=\"simple\"><polygon fill=\"none\" points=\"16,6,86.5,6,93.5,28.2969,260,28.2969,260,822,16,822,16,6\" style=\"stroke:#000000;stroke-width:1.5;\"/><line style=\"stroke:#000000;stroke-width:1.5;\" x1=\"16\" x2=\"93.5\" y1=\"28.2969\" y2=\"28.2969\"/><text fill=\"#000000\" font-family=\"sans-serif\" font-size=\"14\" font-weight=\"bold\" lengthAdjust=\"spacing\" textLength=\"64.5\" x=\"20\" y=\"20.9951\">ItemTest</text></a></g><!--MD5=[b4997ac47864f28c2f74865a473b2911]\n",
       "class E2--><a href=\"psysml:a6e7d788-746b-466d-b844-23a78300b1ae\" target=\"_top\" title=\"psysml:a6e7d788-746b-466d-b844-23a78300b1ae\" xlink:actuate=\"onRequest\" xlink:href=\"psysml:a6e7d788-746b-466d-b844-23a78300b1ae\" xlink:show=\"new\" xlink:title=\"psysml:a6e7d788-746b-466d-b844-23a78300b1ae\" xlink:type=\"simple\"><g id=\"elem_E2\"><rect fill=\"#FFFFFF\" height=\"48.2656\" id=\"E2\" rx=\"10\" ry=\"10\" style=\"stroke:#181818;stroke-width:0.5;\" width=\"43\" x=\"200.5\" y=\"150\"/><text fill=\"#000000\" font-family=\"sans-serif\" font-size=\"12\" font-style=\"italic\" lengthAdjust=\"spacing\" textLength=\"41\" x=\"201.5\" y=\"166.1387\">«item»</text><text fill=\"#000000\" font-family=\"sans-serif\" font-size=\"14\" lengthAdjust=\"spacing\" textLength=\"22\" x=\"207\" y=\"181.9639\">f: A</text><line style=\"stroke:#181818;stroke-width:0.5;\" x1=\"201.5\" x2=\"242.5\" y1=\"190.2656\" y2=\"190.2656\"/></g></a><!--MD5=[09b614a08d8cba4a07c9adeb5e0fee81]\n",
       "class E3--><a href=\"psysml:7645df02-ea24-41fb-927b-82e0988a44f2\" target=\"_top\" title=\"psysml:7645df02-ea24-41fb-927b-82e0988a44f2\" xlink:actuate=\"onRequest\" xlink:href=\"psysml:7645df02-ea24-41fb-927b-82e0988a44f2\" xlink:show=\"new\" xlink:title=\"psysml:7645df02-ea24-41fb-927b-82e0988a44f2\" xlink:type=\"simple\"><g id=\"elem_E3\"><rect fill=\"#FFFFFF\" height=\"48.2656\" id=\"E3\" style=\"stroke:#181818;stroke-width:0.5;\" width=\"71\" x=\"105.5\" y=\"259\"/><text fill=\"#000000\" font-family=\"sans-serif\" font-size=\"12\" font-style=\"italic\" lengthAdjust=\"spacing\" textLength=\"69\" x=\"106.5\" y=\"275.1387\">«item  def»</text><text fill=\"#000000\" font-family=\"sans-serif\" font-size=\"14\" lengthAdjust=\"spacing\" textLength=\"9\" x=\"136.5\" y=\"290.9639\">A</text><line style=\"stroke:#181818;stroke-width:0.5;\" x1=\"106.5\" x2=\"175.5\" y1=\"299.2656\" y2=\"299.2656\"/></g></a><!--MD5=[ebbe1d658d1005bcc118a6aa81145e00]\n",
       "class E4--><a href=\"psysml:426ed2e2-6591-4c8f-a505-52d546190911\" target=\"_top\" title=\"psysml:426ed2e2-6591-4c8f-a505-52d546190911\" xlink:actuate=\"onRequest\" xlink:href=\"psysml:426ed2e2-6591-4c8f-a505-52d546190911\" xlink:show=\"new\" xlink:title=\"psysml:426ed2e2-6591-4c8f-a505-52d546190911\" xlink:type=\"simple\"><g id=\"elem_E4\"><rect fill=\"#FFFFFF\" height=\"48.2656\" id=\"E4\" rx=\"10\" ry=\"10\" style=\"stroke:#181818;stroke-width:0.5;\" width=\"43\" x=\"48.5\" y=\"446\"/><text fill=\"#000000\" font-family=\"sans-serif\" font-size=\"12\" font-style=\"italic\" lengthAdjust=\"spacing\" textLength=\"41\" x=\"49.5\" y=\"462.1387\">«item»</text><text fill=\"#000000\" font-family=\"sans-serif\" font-size=\"14\" lengthAdjust=\"spacing\" textLength=\"28\" x=\"52\" y=\"477.9639\">b: B</text><line style=\"stroke:#181818;stroke-width:0.5;\" x1=\"49.5\" x2=\"90.5\" y1=\"486.2656\" y2=\"486.2656\"/></g></a><!--MD5=[270fce915f116d4de14055a7c1d9a0f3]\n",
       "class E5--><a href=\"psysml:331ec08e-03d4-4ef2-9768-da2cb6dfa326\" target=\"_top\" title=\"psysml:331ec08e-03d4-4ef2-9768-da2cb6dfa326\" xlink:actuate=\"onRequest\" xlink:href=\"psysml:331ec08e-03d4-4ef2-9768-da2cb6dfa326\" xlink:show=\"new\" xlink:title=\"psysml:331ec08e-03d4-4ef2-9768-da2cb6dfa326\" xlink:type=\"simple\"><g id=\"elem_E5\"><rect fill=\"#FFFFFF\" height=\"48.2656\" id=\"E5\" rx=\"10\" ry=\"10\" style=\"stroke:#181818;stroke-width:0.5;\" width=\"42\" x=\"157\" y=\"368\"/><text fill=\"#000000\" font-family=\"sans-serif\" font-size=\"12\" font-style=\"italic\" lengthAdjust=\"spacing\" textLength=\"40\" x=\"158\" y=\"384.1387\">«part»</text><text fill=\"#000000\" font-family=\"sans-serif\" font-size=\"14\" lengthAdjust=\"spacing\" textLength=\"27\" x=\"160.5\" y=\"399.9639\">c: C</text><line style=\"stroke:#181818;stroke-width:0.5;\" x1=\"158\" x2=\"198\" y1=\"408.2656\" y2=\"408.2656\"/></g></a><!--MD5=[60a26617385b1d2d0262a64233df1f8d]\n",
       "class E6--><a href=\"psysml:1c5a109b-6d3b-4425-b763-85184515822e\" target=\"_top\" title=\"psysml:1c5a109b-6d3b-4425-b763-85184515822e\" xlink:actuate=\"onRequest\" xlink:href=\"psysml:1c5a109b-6d3b-4425-b763-85184515822e\" xlink:show=\"new\" xlink:title=\"psysml:1c5a109b-6d3b-4425-b763-85184515822e\" xlink:type=\"simple\"><g id=\"elem_E6\"><rect fill=\"#FFFFFF\" height=\"48.2656\" id=\"E6\" style=\"stroke:#181818;stroke-width:0.5;\" width=\"71\" x=\"116.5\" y=\"649\"/><text fill=\"#000000\" font-family=\"sans-serif\" font-size=\"12\" font-style=\"italic\" lengthAdjust=\"spacing\" textLength=\"69\" x=\"117.5\" y=\"665.1387\">«item  def»</text><text fill=\"#000000\" font-family=\"sans-serif\" font-size=\"14\" font-style=\"italic\" lengthAdjust=\"spacing\" textLength=\"10\" x=\"147\" y=\"680.9639\">B</text><line style=\"stroke:#181818;stroke-width:0.5;\" x1=\"117.5\" x2=\"186.5\" y1=\"689.2656\" y2=\"689.2656\"/></g></a><!--MD5=[2156ba9850f5573cc1fc38a6a4b2f02b]\n",
       "class E7--><a href=\"psysml:3d3f18ff-1114-439a-91a9-78796a10458c\" target=\"_top\" title=\"psysml:3d3f18ff-1114-439a-91a9-78796a10458c\" xlink:actuate=\"onRequest\" xlink:href=\"psysml:3d3f18ff-1114-439a-91a9-78796a10458c\" xlink:show=\"new\" xlink:title=\"psysml:3d3f18ff-1114-439a-91a9-78796a10458c\" xlink:type=\"simple\"><g id=\"elem_E7\"><rect fill=\"#FFFFFF\" height=\"48.2656\" id=\"E7\" rx=\"10\" ry=\"10\" style=\"stroke:#181818;stroke-width:0.5;\" width=\"42\" x=\"167\" y=\"758\"/><text fill=\"#000000\" font-family=\"sans-serif\" font-size=\"12\" font-style=\"italic\" lengthAdjust=\"spacing\" textLength=\"40\" x=\"168\" y=\"774.1387\">«part»</text><text fill=\"#000000\" font-family=\"sans-serif\" font-size=\"14\" font-style=\"italic\" lengthAdjust=\"spacing\" textLength=\"8\" x=\"171\" y=\"789.9639\">a</text><text fill=\"#000000\" font-family=\"sans-serif\" font-size=\"14\" lengthAdjust=\"spacing\" textLength=\"18\" x=\"179\" y=\"789.9639\">: A</text><line style=\"stroke:#181818;stroke-width:0.5;\" x1=\"168\" x2=\"208\" y1=\"798.2656\" y2=\"798.2656\"/></g></a><!--MD5=[b9389687b975829384b498ac4b7476b2]\n",
       "class E8--><a href=\"psysml:1568c6af-b382-4c7f-b02a-0d87dd86c0f5\" target=\"_top\" title=\"psysml:1568c6af-b382-4c7f-b02a-0d87dd86c0f5\" xlink:actuate=\"onRequest\" xlink:href=\"psysml:1568c6af-b382-4c7f-b02a-0d87dd86c0f5\" xlink:show=\"new\" xlink:title=\"psysml:1568c6af-b382-4c7f-b02a-0d87dd86c0f5\" xlink:type=\"simple\"><g id=\"elem_E8\"><rect fill=\"#FFFFFF\" height=\"48.2656\" id=\"E8\" style=\"stroke:#181818;stroke-width:0.5;\" width=\"70\" x=\"117\" y=\"524\"/><text fill=\"#000000\" font-family=\"sans-serif\" font-size=\"12\" font-style=\"italic\" lengthAdjust=\"spacing\" textLength=\"68\" x=\"118\" y=\"540.1387\">«part  def»</text><text fill=\"#000000\" font-family=\"sans-serif\" font-size=\"14\" lengthAdjust=\"spacing\" textLength=\"10\" x=\"147\" y=\"555.9639\">C</text><line style=\"stroke:#181818;stroke-width:0.5;\" x1=\"118\" x2=\"186\" y1=\"564.2656\" y2=\"564.2656\"/></g></a><!--MD5=[fd4143e9d270a159db93a4ea2a975926]\n",
       "class E9--><a href=\"psysml:7b3481ba-f47b-4c12-87df-4d6f620e6d00\" target=\"_top\" title=\"psysml:7b3481ba-f47b-4c12-87df-4d6f620e6d00\" xlink:actuate=\"onRequest\" xlink:href=\"psysml:7b3481ba-f47b-4c12-87df-4d6f620e6d00\" xlink:show=\"new\" xlink:title=\"psysml:7b3481ba-f47b-4c12-87df-4d6f620e6d00\" xlink:type=\"simple\"><g id=\"elem_E9\"><rect fill=\"#FFFFFF\" height=\"48.2656\" id=\"E9\" style=\"stroke:#181818;stroke-width:0.5;\" width=\"70\" x=\"69\" y=\"41\"/><text fill=\"#000000\" font-family=\"sans-serif\" font-size=\"12\" font-style=\"italic\" lengthAdjust=\"spacing\" textLength=\"68\" x=\"70\" y=\"57.1387\">«port  def»</text><text fill=\"#000000\" font-family=\"sans-serif\" font-size=\"14\" lengthAdjust=\"spacing\" textLength=\"9\" x=\"99.5\" y=\"72.9639\">P</text><line style=\"stroke:#181818;stroke-width:0.5;\" x1=\"70\" x2=\"138\" y1=\"81.2656\" y2=\"81.2656\"/></g></a><!--MD5=[96f4274e9e20536e775497830990834d]\n",
       "class E10--><a href=\"psysml:116f794f-fd18-4d42-8d94-9abf783d43f0\" target=\"_top\" title=\"psysml:116f794f-fd18-4d42-8d94-9abf783d43f0\" xlink:actuate=\"onRequest\" xlink:href=\"psysml:116f794f-fd18-4d42-8d94-9abf783d43f0\" xlink:show=\"new\" xlink:title=\"psysml:116f794f-fd18-4d42-8d94-9abf783d43f0\" xlink:type=\"simple\"><g id=\"elem_E10\"><rect fill=\"#FFFFFF\" height=\"48.2656\" id=\"E10\" rx=\"10\" ry=\"10\" style=\"stroke:#181818;stroke-width:0.5;\" width=\"49\" x=\"32.5\" y=\"150\"/><text fill=\"#000000\" font-family=\"sans-serif\" font-size=\"12\" font-style=\"italic\" lengthAdjust=\"spacing\" textLength=\"41\" x=\"36.5\" y=\"166.1387\">«item»</text><text fill=\"#000000\" font-family=\"sans-serif\" font-size=\"14\" lengthAdjust=\"spacing\" textLength=\"35\" x=\"35.5\" y=\"181.9639\">a1: A</text><line style=\"stroke:#181818;stroke-width:0.5;\" x1=\"33.5\" x2=\"80.5\" y1=\"190.2656\" y2=\"190.2656\"/></g></a><!--MD5=[1dd1bfd58a279cf63c5f349dbc8fc6a1]\n",
       "class E11--><a href=\"psysml:16572df6-eec3-489a-80d1-3b65de425cbd\" target=\"_top\" title=\"psysml:16572df6-eec3-489a-80d1-3b65de425cbd\" xlink:actuate=\"onRequest\" xlink:href=\"psysml:16572df6-eec3-489a-80d1-3b65de425cbd\" xlink:show=\"new\" xlink:title=\"psysml:16572df6-eec3-489a-80d1-3b65de425cbd\" xlink:type=\"simple\"><g id=\"elem_E11\"><rect fill=\"#FFFFFF\" height=\"48.2656\" id=\"E11\" rx=\"10\" ry=\"10\" style=\"stroke:#181818;stroke-width:0.5;\" width=\"49\" x=\"116.5\" y=\"150\"/><text fill=\"#000000\" font-family=\"sans-serif\" font-size=\"12\" font-style=\"italic\" lengthAdjust=\"spacing\" textLength=\"41\" x=\"120.5\" y=\"166.1387\">«item»</text><text fill=\"#000000\" font-family=\"sans-serif\" font-size=\"14\" lengthAdjust=\"spacing\" textLength=\"35\" x=\"119.5\" y=\"181.9639\">a2: A</text><line style=\"stroke:#181818;stroke-width:0.5;\" x1=\"117.5\" x2=\"164.5\" y1=\"190.2656\" y2=\"190.2656\"/></g></a><!--MD5=[2720a5a1f2c3fca2055b230370638851]\n",
       "link E2 to E3--><g id=\"link_E2_E3\"><a href=\"psysml:70c9c3cf-ded5-4fad-940c-650d810049d2\" target=\"_top\" title=\"psysml:70c9c3cf-ded5-4fad-940c-650d810049d2\" xlink:actuate=\"onRequest\" xlink:href=\"psysml:70c9c3cf-ded5-4fad-940c-650d810049d2\" xlink:show=\"new\" xlink:title=\"psysml:70c9c3cf-ded5-4fad-940c-650d810049d2\" xlink:type=\"simple\"><path d=\"M204.42,198.22 C194.55,211.26 181.97,227.88 170.62,242.87 \" fill=\"none\" id=\"E2-to-E3\" style=\"stroke:#181818;stroke-width:1.0;\"/><polygon fill=\"#FFFFFF\" points=\"158.54,258.83,164.4286,239.4567,175.5901,247.9078,158.54,258.83\" style=\"stroke:#181818;stroke-width:1.0;\"/><ellipse cx=\"169.4639\" cy=\"236.1197\" fill=\"#181818\" rx=\"2\" ry=\"2\" style=\"stroke:#181818;stroke-width:1.0;\"/><ellipse cx=\"177.4364\" cy=\"242.1562\" fill=\"#181818\" rx=\"2\" ry=\"2\" style=\"stroke:#181818;stroke-width:1.0;\"/></a></g><!--MD5=[4672eba38e49728da53d11aeb285b987]\n",
       "reverse link E3 to E4--><g id=\"link_E3_E4\"><a href=\"psysml:1e28e0ed-b5c0-4fac-98b2-855fbe266c1f\" target=\"_top\" title=\"psysml:1e28e0ed-b5c0-4fac-98b2-855fbe266c1f\" xlink:actuate=\"onRequest\" xlink:href=\"psysml:1e28e0ed-b5c0-4fac-98b2-855fbe266c1f\" xlink:show=\"new\" xlink:title=\"psysml:1e28e0ed-b5c0-4fac-98b2-855fbe266c1f\" xlink:type=\"simple\"><path d=\"M104.38,316.32 C90.85,330.64 77.09,348.62 70,368 C60.72,393.36 62.6,424.76 65.58,445.75 \" fill=\"none\" id=\"E3-backto-E4\" style=\"stroke:#181818;stroke-width:1.0;\"/><polygon fill=\"#181818\" points=\"113.62,307.02,106.5522,308.4507,105.1545,315.525,112.2223,314.0943,113.62,307.02\" style=\"stroke:#181818;stroke-width:1.0;\"/></a></g><!--MD5=[191cde3d490a3f6d7bb551fe3ddca469]\n",
       "reverse link E3 to E5--><g id=\"link_E3_E5\"><a href=\"psysml:b5974af5-b28c-458b-89e4-95d46de68236\" target=\"_top\" title=\"psysml:b5974af5-b28c-458b-89e4-95d46de68236\" xlink:actuate=\"onRequest\" xlink:href=\"psysml:b5974af5-b28c-458b-89e4-95d46de68236\" xlink:show=\"new\" xlink:title=\"psysml:b5974af5-b28c-458b-89e4-95d46de68236\" xlink:type=\"simple\"><path d=\"M153.39,319.83 C158.86,335.66 165.14,353.82 169.99,367.83 \" fill=\"none\" id=\"E3-backto-E5\" style=\"stroke:#181818;stroke-width:1.0;\"/><polygon fill=\"none\" points=\"149.03,307.22,147.2077,314.1971,152.9472,318.5627,154.7695,311.5856,149.03,307.22\" style=\"stroke:#181818;stroke-width:1.0;\"/></a></g><!--MD5=[79568f1e445c3877b6a54524624ccc7d]\n",
       "link E4 to E6--><g id=\"link_E4_E6\"><a href=\"psysml:83940360-bfcd-4ab6-95b9-9006ad1a30a4\" target=\"_top\" title=\"psysml:83940360-bfcd-4ab6-95b9-9006ad1a30a4\" xlink:actuate=\"onRequest\" xlink:href=\"psysml:83940360-bfcd-4ab6-95b9-9006ad1a30a4\" xlink:show=\"new\" xlink:title=\"psysml:83940360-bfcd-4ab6-95b9-9006ad1a30a4\" xlink:type=\"simple\"><path d=\"M75.57,494.29 C80.84,515.04 89.51,546.05 100,572 C108.08,591.98 118.83,613.29 128.46,631.07 \" fill=\"none\" id=\"E4-to-E6\" style=\"stroke:#181818;stroke-width:1.0;\"/><polygon fill=\"#FFFFFF\" points=\"138.29,648.76,122.9437,635.5505,135.1819,628.7515,138.29,648.76\" style=\"stroke:#181818;stroke-width:1.0;\"/><ellipse cx=\"121.9238\" cy=\"629.5965\" fill=\"#181818\" rx=\"2\" ry=\"2\" style=\"stroke:#181818;stroke-width:1.0;\"/><ellipse cx=\"130.6654\" cy=\"624.7401\" fill=\"#181818\" rx=\"2\" ry=\"2\" style=\"stroke:#181818;stroke-width:1.0;\"/></a></g><!--MD5=[3f50a3473f1dfb74d3f76443e03635af]\n",
       "reverse link E6 to E7--><g id=\"link_E6_E7\"><a href=\"psysml:c7c30ff0-7abe-445a-9147-4c620b104f3e\" target=\"_top\" title=\"psysml:c7c30ff0-7abe-445a-9147-4c620b104f3e\" xlink:actuate=\"onRequest\" xlink:href=\"psysml:c7c30ff0-7abe-445a-9147-4c620b104f3e\" xlink:show=\"new\" xlink:title=\"psysml:c7c30ff0-7abe-445a-9147-4c620b104f3e\" xlink:type=\"simple\"><path d=\"M164.05,709.83 C169.38,725.66 175.49,743.82 180.2,757.83 \" fill=\"none\" id=\"E6-backto-E7\" style=\"stroke:#181818;stroke-width:1.0;\"/><polygon fill=\"#181818\" points=\"159.81,697.22,157.9296,704.1816,163.6324,708.5949,165.5128,701.6333,159.81,697.22\" style=\"stroke:#181818;stroke-width:1.0;\"/></a></g><!--MD5=[14ccda38c055a5c0da953d572bc50960]\n",
       "link E7 to E3--><g id=\"link_E7_E3\"><a href=\"psysml:4a79bdb3-77e8-4e9c-befa-ce9a0c7716db\" target=\"_top\" title=\"psysml:4a79bdb3-77e8-4e9c-befa-ce9a0c7716db\" xlink:actuate=\"onRequest\" xlink:href=\"psysml:4a79bdb3-77e8-4e9c-befa-ce9a0c7716db\" xlink:show=\"new\" xlink:title=\"psysml:4a79bdb3-77e8-4e9c-befa-ce9a0c7716db\" xlink:type=\"simple\"><path d=\"M204.97,757.64 C218.43,736.78 235,704.84 235,674 C235,391 235,391 235,391 C235,361.35 214.38,336.01 192.46,317.43 \" fill=\"none\" id=\"E7-to-E3\" style=\"stroke:#181818;stroke-width:1.0;\"/><polygon fill=\"#FFFFFF\" points=\"176.54,305.14,195.8578,311.2081,187.3035,322.2907,176.54,305.14\" style=\"stroke:#181818;stroke-width:1.0;\"/><ellipse cx=\"199.148\" cy=\"316.2741\" fill=\"#181818\" rx=\"2\" ry=\"2\" style=\"stroke:#181818;stroke-width:1.0;\"/><ellipse cx=\"193.0378\" cy=\"324.1903\" fill=\"#181818\" rx=\"2\" ry=\"2\" style=\"stroke:#181818;stroke-width:1.0;\"/></a></g><!--MD5=[dfaffb906826c3e5aca635516100ff21]\n",
       "link E5 to E8--><g id=\"link_E5_E8\"><a href=\"psysml:d776694e-c79b-404c-b561-ae1c1a2e3f3d\" target=\"_top\" title=\"psysml:d776694e-c79b-404c-b561-ae1c1a2e3f3d\" xlink:actuate=\"onRequest\" xlink:href=\"psysml:d776694e-c79b-404c-b561-ae1c1a2e3f3d\" xlink:show=\"new\" xlink:title=\"psysml:d776694e-c79b-404c-b561-ae1c1a2e3f3d\" xlink:type=\"simple\"><path d=\"M174.11,416.06 C170.2,439.19 164.09,475.38 159.28,503.86 \" fill=\"none\" id=\"E5-to-E8\" style=\"stroke:#181818;stroke-width:1.0;\"/><polygon fill=\"#FFFFFF\" points=\"155.92,523.79,152.1809,503.8898,165.9855,506.2206,155.92,523.79\" style=\"stroke:#181818;stroke-width:1.0;\"/><ellipse cx=\"155.1019\" cy=\"498.6023\" fill=\"#181818\" rx=\"2\" ry=\"2\" style=\"stroke:#181818;stroke-width:1.0;\"/><ellipse cx=\"164.9624\" cy=\"500.2671\" fill=\"#181818\" rx=\"2\" ry=\"2\" style=\"stroke:#181818;stroke-width:1.0;\"/></a></g><!--MD5=[03c8294790d3c57651a1993cecff665f]\n",
       "reverse link E8 to E3--><g id=\"link_E8_E3\"><a href=\"psysml:c4551329-8b56-4fd0-9fbf-f2d280f6b39b\" target=\"_top\" title=\"psysml:c4551329-8b56-4fd0-9fbf-f2d280f6b39b\" xlink:actuate=\"onRequest\" xlink:href=\"psysml:c4551329-8b56-4fd0-9fbf-f2d280f6b39b\" xlink:show=\"new\" xlink:title=\"psysml:c4551329-8b56-4fd0-9fbf-f2d280f6b39b\" xlink:type=\"simple\"><path d=\"M144.62,510.88 C139.66,484.68 133.57,448.31 131,416 C129.31,394.73 129.74,389.3 131,368 C132.23,347.33 135.14,323.95 137.5,307.11 \" fill=\"none\" id=\"E8-backto-E3\" style=\"stroke:#181818;stroke-width:1.0;\"/><polygon fill=\"none\" points=\"147.16,523.94,149.9387,517.2857,144.865,512.1615,142.0863,518.8158,147.16,523.94\" style=\"stroke:#181818;stroke-width:1.0;\"/><text fill=\"#000000\" font-family=\"sans-serif\" font-size=\"13\" lengthAdjust=\"spacing\" textLength=\"7\" x=\"132\" y=\"396.5669\">y</text></a></g><!--MD5=[0d75d2178373a6a4568e5dc728f58aef]\n",
       "reverse link E8 to E6--><g id=\"link_E8_E6\"><a href=\"psysml:c4551329-8b56-4fd0-9fbf-f2d280f6b39b\" target=\"_top\" title=\"psysml:c4551329-8b56-4fd0-9fbf-f2d280f6b39b\" xlink:actuate=\"onRequest\" xlink:href=\"psysml:c4551329-8b56-4fd0-9fbf-f2d280f6b39b\" xlink:show=\"new\" xlink:title=\"psysml:c4551329-8b56-4fd0-9fbf-f2d280f6b39b\" xlink:type=\"simple\"><path d=\"M152,585.21 C152,605.83 152,631.04 152,648.97 \" fill=\"none\" id=\"E8-backto-E6\" style=\"stroke:#181818;stroke-width:1.0;\"/><polygon fill=\"none\" points=\"152,572.14,148,578.14,152,584.14,156,578.14,152,572.14\" style=\"stroke:#181818;stroke-width:1.0;\"/><text fill=\"#000000\" font-family=\"sans-serif\" font-size=\"13\" lengthAdjust=\"spacing\" textLength=\"7\" x=\"153\" y=\"615.0669\">y</text></a></g><!--MD5=[23ac544a70576c3e717098101004234c]\n",
       "reverse link E9 to E10--><g id=\"link_E9_E10\"><a href=\"psysml:5a5abb4f-4a57-47f4-8d13-1f5dca85ed3b\" target=\"_top\" title=\"psysml:5a5abb4f-4a57-47f4-8d13-1f5dca85ed3b\" xlink:actuate=\"onRequest\" xlink:href=\"psysml:5a5abb4f-4a57-47f4-8d13-1f5dca85ed3b\" xlink:show=\"new\" xlink:title=\"psysml:5a5abb4f-4a57-47f4-8d13-1f5dca85ed3b\" xlink:type=\"simple\"><path d=\"M88.47,101.35 C81.47,117.29 73.39,135.68 67.18,149.83 \" fill=\"none\" id=\"E9-backto-E10\" style=\"stroke:#181818;stroke-width:1.0;\"/><polygon fill=\"none\" points=\"93.8,89.22,87.7243,93.1041,88.9729,100.2063,95.0485,96.3222,93.8,89.22\" style=\"stroke:#181818;stroke-width:1.0;\"/></a></g><!--MD5=[feeac5eb423634930294aa81f2d25a4c]\n",
       "link E10 to E3--><g id=\"link_E10_E3\"><a href=\"psysml:d7f66802-941a-4496-884a-36d82493c03e\" target=\"_top\" title=\"psysml:d7f66802-941a-4496-884a-36d82493c03e\" xlink:actuate=\"onRequest\" xlink:href=\"psysml:d7f66802-941a-4496-884a-36d82493c03e\" xlink:show=\"new\" xlink:title=\"psysml:d7f66802-941a-4496-884a-36d82493c03e\" xlink:type=\"simple\"><path d=\"M75.23,198.22 C85.46,211.26 98.51,227.88 110.28,242.87 \" fill=\"none\" id=\"E10-to-E3\" style=\"stroke:#181818;stroke-width:1.0;\"/><polygon fill=\"#FFFFFF\" points=\"122.81,258.83,105.5676,248.214,116.5764,239.565,122.81,258.83\" style=\"stroke:#181818;stroke-width:1.0;\"/><ellipse cx=\"103.6189\" cy=\"242.4963\" fill=\"#181818\" rx=\"2\" ry=\"2\" style=\"stroke:#181818;stroke-width:1.0;\"/><ellipse cx=\"111.4823\" cy=\"236.3184\" fill=\"#181818\" rx=\"2\" ry=\"2\" style=\"stroke:#181818;stroke-width:1.0;\"/></a></g><!--MD5=[1fc04a95fd77ad5ce46c1a3027516051]\n",
       "reverse link E9 to E11--><g id=\"link_E9_E11\"><a href=\"psysml:8187499b-9a51-4939-bbf5-c8a0ee670e5b\" target=\"_top\" title=\"psysml:8187499b-9a51-4939-bbf5-c8a0ee670e5b\" xlink:actuate=\"onRequest\" xlink:href=\"psysml:8187499b-9a51-4939-bbf5-c8a0ee670e5b\" xlink:show=\"new\" xlink:title=\"psysml:8187499b-9a51-4939-bbf5-c8a0ee670e5b\" xlink:type=\"simple\"><path d=\"M116.39,101.83 C121.86,117.66 128.14,135.82 132.99,149.83 \" fill=\"none\" id=\"E9-backto-E11\" style=\"stroke:#181818;stroke-width:1.0;\"/><polygon fill=\"none\" points=\"112.03,89.22,110.2077,96.1971,115.9472,100.5627,117.7695,93.5856,112.03,89.22\" style=\"stroke:#181818;stroke-width:1.0;\"/></a></g><!--MD5=[0517f1ce58c4d5483948f93845c45e26]\n",
       "link E11 to E3--><g id=\"link_E11_E3\"><a href=\"psysml:ca7307c2-0235-4c1e-8766-bbb66b330e4f\" target=\"_top\" title=\"psysml:ca7307c2-0235-4c1e-8766-bbb66b330e4f\" xlink:actuate=\"onRequest\" xlink:href=\"psysml:ca7307c2-0235-4c1e-8766-bbb66b330e4f\" xlink:show=\"new\" xlink:title=\"psysml:ca7307c2-0235-4c1e-8766-bbb66b330e4f\" xlink:type=\"simple\"><path d=\"M141,198.22 C141,210 141,224.69 141,238.48 \" fill=\"none\" id=\"E11-to-E3\" style=\"stroke:#181818;stroke-width:1.0;\"/><polygon fill=\"#FFFFFF\" points=\"141,258.83,134,239.83,148,239.83,141,258.83\" style=\"stroke:#181818;stroke-width:1.0;\"/><ellipse cx=\"136\" cy=\"234.13\" fill=\"#181818\" rx=\"2\" ry=\"2\" style=\"stroke:#181818;stroke-width:1.0;\"/><ellipse cx=\"146\" cy=\"234.13\" fill=\"#181818\" rx=\"2\" ry=\"2\" style=\"stroke:#181818;stroke-width:1.0;\"/></a></g><!--MD5=[697a39c91afcff33f4fccb8518c80bb5]\n",
       "@startuml\r\n",
       "skin sysmlbw\r\n",
       "skinparam monochrome true\r\n",
       "skinparam wrapWidth 300\r\n",
       "hide circle\r\n",
       "\r\n",
       "package \"ItemTest\" as E1  [[psysml:cd87d2b7-4fa1-4c1b-a4f6-af691b0dec58 ]]  {\r\n",
       "comp usage \"f: A  \" as E2  <<(T,blue) item>> [[psysml:a6e7d788-746b-466d-b844-23a78300b1ae ]] {\r\n",
       "}\r\n",
       "comp def \"A\" as E3  <<(T,blue) item  def>> [[psysml:7645df02-ea24-41fb-927b-82e0988a44f2 ]] {\r\n",
       "}\r\n",
       "comp usage \"b: B  \" as E4  <<(T,blue) item>> [[psysml:426ed2e2-6591-4c8f-a505-52d546190911 ]] {\r\n",
       "}\r\n",
       "comp usage \"c: C  \" as E5  <<(T,blue) part>> [[psysml:331ec08e-03d4-4ef2-9768-da2cb6dfa326 ]] {\r\n",
       "}\r\n",
       "comp def \"<i>B</i>\" as E6  <<(T,blue) item  def>> [[psysml:1c5a109b-6d3b-4425-b763-85184515822e ]] {\r\n",
       "}\r\n",
       "comp usage \"<i>a</i>: A  \" as E7  <<(T,blue) part>> [[psysml:3d3f18ff-1114-439a-91a9-78796a10458c ]] {\r\n",
       "}\r\n",
       "comp def \"C\" as E8  <<(T,blue) part  def>> [[psysml:1568c6af-b382-4c7f-b02a-0d87dd86c0f5 ]] {\r\n",
       "}\r\n",
       "comp def \"P\" as E9  <<(T,blue) port  def>> [[psysml:7b3481ba-f47b-4c12-87df-4d6f620e6d00 ]] {\r\n",
       "}\r\n",
       "comp usage \"a1: A  \" as E10  <<(T,blue) item>> [[psysml:116f794f-fd18-4d42-8d94-9abf783d43f0 ]] {\r\n",
       "}\r\n",
       "comp usage \"a2: A  \" as E11  <<(T,blue) item>> [[psysml:16572df6-eec3-489a-80d1-3b65de425cbd ]] {\r\n",
       "}\r\n",
       "}\r\n",
       "E2 - -:|> E3 [[psysml:70c9c3cf-ded5-4fad-940c-650d810049d2 ]] \r\n",
       "E3 *- - E4 [[psysml:1e28e0ed-b5c0-4fac-98b2-855fbe266c1f ]] \r\n",
       "E3 o- - E5 [[psysml:b5974af5-b28c-458b-89e4-95d46de68236 ]] \r\n",
       "E4 - -:|> E6 [[psysml:83940360-bfcd-4ab6-95b9-9006ad1a30a4 ]] \r\n",
       "E6 *- - E7 [[psysml:c7c30ff0-7abe-445a-9147-4c620b104f3e ]] \r\n",
       "E7 - -:|> E3 [[psysml:4a79bdb3-77e8-4e9c-befa-ce9a0c7716db ]] \r\n",
       "E5 - -:|> E8 [[psysml:d776694e-c79b-404c-b561-ae1c1a2e3f3d ]] \r\n",
       "E8 o- - E3 [[psysml:c4551329-8b56-4fd0-9fbf-f2d280f6b39b ]] : y\r\n",
       "E8 o- - E6 [[psysml:c4551329-8b56-4fd0-9fbf-f2d280f6b39b ]] : y\r\n",
       "E9 o- - E10 [[psysml:5a5abb4f-4a57-47f4-8d13-1f5dca85ed3b ]] \r\n",
       "E10 - -:|> E3 [[psysml:d7f66802-941a-4496-884a-36d82493c03e ]] \r\n",
       "E9 o- - E11 [[psysml:8187499b-9a51-4939-bbf5-c8a0ee670e5b ]] \r\n",
       "E11 - -:|> E3 [[psysml:ca7307c2-0235-4c1e-8766-bbb66b330e4f ]] \r\n",
       "@enduml\r\n",
       "\n",
       "PlantUML version 1.2022.7(Mon Aug 22 17:01:30 UTC 2022)\n",
       "(EPL source distribution)\n",
       "Java Runtime: OpenJDK Runtime Environment\n",
       "JVM: OpenJDK 64-Bit Server VM\n",
       "Default Encoding: UTF-8\n",
       "Language: en\n",
       "Country: null\n",
       "--></g></svg>"
      ]
     },
     "execution_count": 43,
     "metadata": {},
     "output_type": "execute_result"
    }
   ],
   "source": [
    "%viz --style=\"DEFAULT\" --view=\"MIXED\" \"ItemTest\""
   ]
  },
  {
   "cell_type": "code",
   "execution_count": 44,
   "id": "4acb4e11",
   "metadata": {
    "execution": {
     "iopub.execute_input": "2024-12-16T14:15:18.642843Z",
     "iopub.status.busy": "2024-12-16T14:15:18.642538Z",
     "iopub.status.idle": "2024-12-16T14:15:18.663752Z",
     "shell.execute_reply": "2024-12-16T14:15:18.662616Z"
    }
   },
   "outputs": [
    {
     "data": {
      "image/svg+xml": [
       "<?xml version=\"1.0\" encoding=\"UTF-8\" standalone=\"no\"?><svg xmlns=\"http://www.w3.org/2000/svg\" xmlns:xlink=\"http://www.w3.org/1999/xlink\" contentStyleType=\"text/css\" height=\"829px\" preserveAspectRatio=\"none\" style=\"width:277px;height:829px;background:#FFFFFF;\" version=\"1.1\" viewBox=\"0 0 277 829\" width=\"277px\" zoomAndPan=\"magnify\"><defs/><g><!--MD5=[fbc87193dbaf4d95561dea2c320d4a47]\n",
       "cluster E1--><g id=\"cluster_E1\"><a href=\"psysml:cd87d2b7-4fa1-4c1b-a4f6-af691b0dec58\" target=\"_top\" title=\"psysml:cd87d2b7-4fa1-4c1b-a4f6-af691b0dec58\" xlink:actuate=\"onRequest\" xlink:href=\"psysml:cd87d2b7-4fa1-4c1b-a4f6-af691b0dec58\" xlink:show=\"new\" xlink:title=\"psysml:cd87d2b7-4fa1-4c1b-a4f6-af691b0dec58\" xlink:type=\"simple\"><polygon fill=\"none\" points=\"16,6,86.5,6,93.5,28.2969,260,28.2969,260,822,16,822,16,6\" style=\"stroke:#000000;stroke-width:1.5;\"/><line style=\"stroke:#000000;stroke-width:1.5;\" x1=\"16\" x2=\"93.5\" y1=\"28.2969\" y2=\"28.2969\"/><text fill=\"#000000\" font-family=\"sans-serif\" font-size=\"14\" font-weight=\"bold\" lengthAdjust=\"spacing\" textLength=\"64.5\" x=\"20\" y=\"20.9951\">ItemTest</text></a></g><!--MD5=[b4997ac47864f28c2f74865a473b2911]\n",
       "class E2--><a href=\"psysml:a6e7d788-746b-466d-b844-23a78300b1ae\" target=\"_top\" title=\"psysml:a6e7d788-746b-466d-b844-23a78300b1ae\" xlink:actuate=\"onRequest\" xlink:href=\"psysml:a6e7d788-746b-466d-b844-23a78300b1ae\" xlink:show=\"new\" xlink:title=\"psysml:a6e7d788-746b-466d-b844-23a78300b1ae\" xlink:type=\"simple\"><g id=\"elem_E2\"><rect fill=\"#FFFFFF\" height=\"48.2656\" id=\"E2\" rx=\"10\" ry=\"10\" style=\"stroke:#181818;stroke-width:0.5;\" width=\"43\" x=\"200.5\" y=\"150\"/><text fill=\"#000000\" font-family=\"sans-serif\" font-size=\"12\" font-style=\"italic\" lengthAdjust=\"spacing\" textLength=\"41\" x=\"201.5\" y=\"166.1387\">«item»</text><text fill=\"#000000\" font-family=\"sans-serif\" font-size=\"14\" lengthAdjust=\"spacing\" textLength=\"22\" x=\"207\" y=\"181.9639\">f: A</text><line style=\"stroke:#181818;stroke-width:0.5;\" x1=\"201.5\" x2=\"242.5\" y1=\"190.2656\" y2=\"190.2656\"/></g></a><!--MD5=[09b614a08d8cba4a07c9adeb5e0fee81]\n",
       "class E3--><a href=\"psysml:7645df02-ea24-41fb-927b-82e0988a44f2\" target=\"_top\" title=\"psysml:7645df02-ea24-41fb-927b-82e0988a44f2\" xlink:actuate=\"onRequest\" xlink:href=\"psysml:7645df02-ea24-41fb-927b-82e0988a44f2\" xlink:show=\"new\" xlink:title=\"psysml:7645df02-ea24-41fb-927b-82e0988a44f2\" xlink:type=\"simple\"><g id=\"elem_E3\"><rect fill=\"#FFFFFF\" height=\"48.2656\" id=\"E3\" style=\"stroke:#181818;stroke-width:0.5;\" width=\"71\" x=\"105.5\" y=\"259\"/><text fill=\"#000000\" font-family=\"sans-serif\" font-size=\"12\" font-style=\"italic\" lengthAdjust=\"spacing\" textLength=\"69\" x=\"106.5\" y=\"275.1387\">«item  def»</text><text fill=\"#000000\" font-family=\"sans-serif\" font-size=\"14\" lengthAdjust=\"spacing\" textLength=\"9\" x=\"136.5\" y=\"290.9639\">A</text><line style=\"stroke:#181818;stroke-width:0.5;\" x1=\"106.5\" x2=\"175.5\" y1=\"299.2656\" y2=\"299.2656\"/></g></a><!--MD5=[ebbe1d658d1005bcc118a6aa81145e00]\n",
       "class E4--><a href=\"psysml:426ed2e2-6591-4c8f-a505-52d546190911\" target=\"_top\" title=\"psysml:426ed2e2-6591-4c8f-a505-52d546190911\" xlink:actuate=\"onRequest\" xlink:href=\"psysml:426ed2e2-6591-4c8f-a505-52d546190911\" xlink:show=\"new\" xlink:title=\"psysml:426ed2e2-6591-4c8f-a505-52d546190911\" xlink:type=\"simple\"><g id=\"elem_E4\"><rect fill=\"#FFFFFF\" height=\"48.2656\" id=\"E4\" rx=\"10\" ry=\"10\" style=\"stroke:#181818;stroke-width:0.5;\" width=\"43\" x=\"48.5\" y=\"446\"/><text fill=\"#000000\" font-family=\"sans-serif\" font-size=\"12\" font-style=\"italic\" lengthAdjust=\"spacing\" textLength=\"41\" x=\"49.5\" y=\"462.1387\">«item»</text><text fill=\"#000000\" font-family=\"sans-serif\" font-size=\"14\" lengthAdjust=\"spacing\" textLength=\"28\" x=\"52\" y=\"477.9639\">b: B</text><line style=\"stroke:#181818;stroke-width:0.5;\" x1=\"49.5\" x2=\"90.5\" y1=\"486.2656\" y2=\"486.2656\"/></g></a><!--MD5=[270fce915f116d4de14055a7c1d9a0f3]\n",
       "class E5--><a href=\"psysml:331ec08e-03d4-4ef2-9768-da2cb6dfa326\" target=\"_top\" title=\"psysml:331ec08e-03d4-4ef2-9768-da2cb6dfa326\" xlink:actuate=\"onRequest\" xlink:href=\"psysml:331ec08e-03d4-4ef2-9768-da2cb6dfa326\" xlink:show=\"new\" xlink:title=\"psysml:331ec08e-03d4-4ef2-9768-da2cb6dfa326\" xlink:type=\"simple\"><g id=\"elem_E5\"><rect fill=\"#FFFFFF\" height=\"48.2656\" id=\"E5\" rx=\"10\" ry=\"10\" style=\"stroke:#181818;stroke-width:0.5;\" width=\"42\" x=\"157\" y=\"368\"/><text fill=\"#000000\" font-family=\"sans-serif\" font-size=\"12\" font-style=\"italic\" lengthAdjust=\"spacing\" textLength=\"40\" x=\"158\" y=\"384.1387\">«part»</text><text fill=\"#000000\" font-family=\"sans-serif\" font-size=\"14\" lengthAdjust=\"spacing\" textLength=\"27\" x=\"160.5\" y=\"399.9639\">c: C</text><line style=\"stroke:#181818;stroke-width:0.5;\" x1=\"158\" x2=\"198\" y1=\"408.2656\" y2=\"408.2656\"/></g></a><!--MD5=[60a26617385b1d2d0262a64233df1f8d]\n",
       "class E6--><a href=\"psysml:1c5a109b-6d3b-4425-b763-85184515822e\" target=\"_top\" title=\"psysml:1c5a109b-6d3b-4425-b763-85184515822e\" xlink:actuate=\"onRequest\" xlink:href=\"psysml:1c5a109b-6d3b-4425-b763-85184515822e\" xlink:show=\"new\" xlink:title=\"psysml:1c5a109b-6d3b-4425-b763-85184515822e\" xlink:type=\"simple\"><g id=\"elem_E6\"><rect fill=\"#FFFFFF\" height=\"48.2656\" id=\"E6\" style=\"stroke:#181818;stroke-width:0.5;\" width=\"71\" x=\"116.5\" y=\"649\"/><text fill=\"#000000\" font-family=\"sans-serif\" font-size=\"12\" font-style=\"italic\" lengthAdjust=\"spacing\" textLength=\"69\" x=\"117.5\" y=\"665.1387\">«item  def»</text><text fill=\"#000000\" font-family=\"sans-serif\" font-size=\"14\" font-style=\"italic\" lengthAdjust=\"spacing\" textLength=\"10\" x=\"147\" y=\"680.9639\">B</text><line style=\"stroke:#181818;stroke-width:0.5;\" x1=\"117.5\" x2=\"186.5\" y1=\"689.2656\" y2=\"689.2656\"/></g></a><!--MD5=[2156ba9850f5573cc1fc38a6a4b2f02b]\n",
       "class E7--><a href=\"psysml:3d3f18ff-1114-439a-91a9-78796a10458c\" target=\"_top\" title=\"psysml:3d3f18ff-1114-439a-91a9-78796a10458c\" xlink:actuate=\"onRequest\" xlink:href=\"psysml:3d3f18ff-1114-439a-91a9-78796a10458c\" xlink:show=\"new\" xlink:title=\"psysml:3d3f18ff-1114-439a-91a9-78796a10458c\" xlink:type=\"simple\"><g id=\"elem_E7\"><rect fill=\"#FFFFFF\" height=\"48.2656\" id=\"E7\" rx=\"10\" ry=\"10\" style=\"stroke:#181818;stroke-width:0.5;\" width=\"42\" x=\"167\" y=\"758\"/><text fill=\"#000000\" font-family=\"sans-serif\" font-size=\"12\" font-style=\"italic\" lengthAdjust=\"spacing\" textLength=\"40\" x=\"168\" y=\"774.1387\">«part»</text><text fill=\"#000000\" font-family=\"sans-serif\" font-size=\"14\" font-style=\"italic\" lengthAdjust=\"spacing\" textLength=\"8\" x=\"171\" y=\"789.9639\">a</text><text fill=\"#000000\" font-family=\"sans-serif\" font-size=\"14\" lengthAdjust=\"spacing\" textLength=\"18\" x=\"179\" y=\"789.9639\">: A</text><line style=\"stroke:#181818;stroke-width:0.5;\" x1=\"168\" x2=\"208\" y1=\"798.2656\" y2=\"798.2656\"/></g></a><!--MD5=[b9389687b975829384b498ac4b7476b2]\n",
       "class E8--><a href=\"psysml:1568c6af-b382-4c7f-b02a-0d87dd86c0f5\" target=\"_top\" title=\"psysml:1568c6af-b382-4c7f-b02a-0d87dd86c0f5\" xlink:actuate=\"onRequest\" xlink:href=\"psysml:1568c6af-b382-4c7f-b02a-0d87dd86c0f5\" xlink:show=\"new\" xlink:title=\"psysml:1568c6af-b382-4c7f-b02a-0d87dd86c0f5\" xlink:type=\"simple\"><g id=\"elem_E8\"><rect fill=\"#FFFFFF\" height=\"48.2656\" id=\"E8\" style=\"stroke:#181818;stroke-width:0.5;\" width=\"70\" x=\"117\" y=\"524\"/><text fill=\"#000000\" font-family=\"sans-serif\" font-size=\"12\" font-style=\"italic\" lengthAdjust=\"spacing\" textLength=\"68\" x=\"118\" y=\"540.1387\">«part  def»</text><text fill=\"#000000\" font-family=\"sans-serif\" font-size=\"14\" lengthAdjust=\"spacing\" textLength=\"10\" x=\"147\" y=\"555.9639\">C</text><line style=\"stroke:#181818;stroke-width:0.5;\" x1=\"118\" x2=\"186\" y1=\"564.2656\" y2=\"564.2656\"/></g></a><!--MD5=[fd4143e9d270a159db93a4ea2a975926]\n",
       "class E9--><a href=\"psysml:7b3481ba-f47b-4c12-87df-4d6f620e6d00\" target=\"_top\" title=\"psysml:7b3481ba-f47b-4c12-87df-4d6f620e6d00\" xlink:actuate=\"onRequest\" xlink:href=\"psysml:7b3481ba-f47b-4c12-87df-4d6f620e6d00\" xlink:show=\"new\" xlink:title=\"psysml:7b3481ba-f47b-4c12-87df-4d6f620e6d00\" xlink:type=\"simple\"><g id=\"elem_E9\"><rect fill=\"#FFFFFF\" height=\"48.2656\" id=\"E9\" style=\"stroke:#181818;stroke-width:0.5;\" width=\"70\" x=\"69\" y=\"41\"/><text fill=\"#000000\" font-family=\"sans-serif\" font-size=\"12\" font-style=\"italic\" lengthAdjust=\"spacing\" textLength=\"68\" x=\"70\" y=\"57.1387\">«port  def»</text><text fill=\"#000000\" font-family=\"sans-serif\" font-size=\"14\" lengthAdjust=\"spacing\" textLength=\"9\" x=\"99.5\" y=\"72.9639\">P</text><line style=\"stroke:#181818;stroke-width:0.5;\" x1=\"70\" x2=\"138\" y1=\"81.2656\" y2=\"81.2656\"/></g></a><!--MD5=[96f4274e9e20536e775497830990834d]\n",
       "class E10--><a href=\"psysml:116f794f-fd18-4d42-8d94-9abf783d43f0\" target=\"_top\" title=\"psysml:116f794f-fd18-4d42-8d94-9abf783d43f0\" xlink:actuate=\"onRequest\" xlink:href=\"psysml:116f794f-fd18-4d42-8d94-9abf783d43f0\" xlink:show=\"new\" xlink:title=\"psysml:116f794f-fd18-4d42-8d94-9abf783d43f0\" xlink:type=\"simple\"><g id=\"elem_E10\"><rect fill=\"#FFFFFF\" height=\"48.2656\" id=\"E10\" rx=\"10\" ry=\"10\" style=\"stroke:#181818;stroke-width:0.5;\" width=\"49\" x=\"32.5\" y=\"150\"/><text fill=\"#000000\" font-family=\"sans-serif\" font-size=\"12\" font-style=\"italic\" lengthAdjust=\"spacing\" textLength=\"41\" x=\"36.5\" y=\"166.1387\">«item»</text><text fill=\"#000000\" font-family=\"sans-serif\" font-size=\"14\" lengthAdjust=\"spacing\" textLength=\"35\" x=\"35.5\" y=\"181.9639\">a1: A</text><line style=\"stroke:#181818;stroke-width:0.5;\" x1=\"33.5\" x2=\"80.5\" y1=\"190.2656\" y2=\"190.2656\"/></g></a><!--MD5=[1dd1bfd58a279cf63c5f349dbc8fc6a1]\n",
       "class E11--><a href=\"psysml:16572df6-eec3-489a-80d1-3b65de425cbd\" target=\"_top\" title=\"psysml:16572df6-eec3-489a-80d1-3b65de425cbd\" xlink:actuate=\"onRequest\" xlink:href=\"psysml:16572df6-eec3-489a-80d1-3b65de425cbd\" xlink:show=\"new\" xlink:title=\"psysml:16572df6-eec3-489a-80d1-3b65de425cbd\" xlink:type=\"simple\"><g id=\"elem_E11\"><rect fill=\"#FFFFFF\" height=\"48.2656\" id=\"E11\" rx=\"10\" ry=\"10\" style=\"stroke:#181818;stroke-width:0.5;\" width=\"49\" x=\"116.5\" y=\"150\"/><text fill=\"#000000\" font-family=\"sans-serif\" font-size=\"12\" font-style=\"italic\" lengthAdjust=\"spacing\" textLength=\"41\" x=\"120.5\" y=\"166.1387\">«item»</text><text fill=\"#000000\" font-family=\"sans-serif\" font-size=\"14\" lengthAdjust=\"spacing\" textLength=\"35\" x=\"119.5\" y=\"181.9639\">a2: A</text><line style=\"stroke:#181818;stroke-width:0.5;\" x1=\"117.5\" x2=\"164.5\" y1=\"190.2656\" y2=\"190.2656\"/></g></a><!--MD5=[2720a5a1f2c3fca2055b230370638851]\n",
       "link E2 to E3--><g id=\"link_E2_E3\"><a href=\"psysml:70c9c3cf-ded5-4fad-940c-650d810049d2\" target=\"_top\" title=\"psysml:70c9c3cf-ded5-4fad-940c-650d810049d2\" xlink:actuate=\"onRequest\" xlink:href=\"psysml:70c9c3cf-ded5-4fad-940c-650d810049d2\" xlink:show=\"new\" xlink:title=\"psysml:70c9c3cf-ded5-4fad-940c-650d810049d2\" xlink:type=\"simple\"><path d=\"M204.42,198.22 C194.55,211.26 181.97,227.88 170.62,242.87 \" fill=\"none\" id=\"E2-to-E3\" style=\"stroke:#181818;stroke-width:1.0;\"/><polygon fill=\"#FFFFFF\" points=\"158.54,258.83,164.4286,239.4567,175.5901,247.9078,158.54,258.83\" style=\"stroke:#181818;stroke-width:1.0;\"/><ellipse cx=\"169.4639\" cy=\"236.1197\" fill=\"#181818\" rx=\"2\" ry=\"2\" style=\"stroke:#181818;stroke-width:1.0;\"/><ellipse cx=\"177.4364\" cy=\"242.1562\" fill=\"#181818\" rx=\"2\" ry=\"2\" style=\"stroke:#181818;stroke-width:1.0;\"/></a></g><!--MD5=[4672eba38e49728da53d11aeb285b987]\n",
       "reverse link E3 to E4--><g id=\"link_E3_E4\"><a href=\"psysml:1e28e0ed-b5c0-4fac-98b2-855fbe266c1f\" target=\"_top\" title=\"psysml:1e28e0ed-b5c0-4fac-98b2-855fbe266c1f\" xlink:actuate=\"onRequest\" xlink:href=\"psysml:1e28e0ed-b5c0-4fac-98b2-855fbe266c1f\" xlink:show=\"new\" xlink:title=\"psysml:1e28e0ed-b5c0-4fac-98b2-855fbe266c1f\" xlink:type=\"simple\"><path d=\"M104.38,316.32 C90.85,330.64 77.09,348.62 70,368 C60.72,393.36 62.6,424.76 65.58,445.75 \" fill=\"none\" id=\"E3-backto-E4\" style=\"stroke:#181818;stroke-width:1.0;\"/><polygon fill=\"#181818\" points=\"113.62,307.02,106.5522,308.4507,105.1545,315.525,112.2223,314.0943,113.62,307.02\" style=\"stroke:#181818;stroke-width:1.0;\"/></a></g><!--MD5=[191cde3d490a3f6d7bb551fe3ddca469]\n",
       "reverse link E3 to E5--><g id=\"link_E3_E5\"><a href=\"psysml:b5974af5-b28c-458b-89e4-95d46de68236\" target=\"_top\" title=\"psysml:b5974af5-b28c-458b-89e4-95d46de68236\" xlink:actuate=\"onRequest\" xlink:href=\"psysml:b5974af5-b28c-458b-89e4-95d46de68236\" xlink:show=\"new\" xlink:title=\"psysml:b5974af5-b28c-458b-89e4-95d46de68236\" xlink:type=\"simple\"><path d=\"M153.39,319.83 C158.86,335.66 165.14,353.82 169.99,367.83 \" fill=\"none\" id=\"E3-backto-E5\" style=\"stroke:#181818;stroke-width:1.0;\"/><polygon fill=\"none\" points=\"149.03,307.22,147.2077,314.1971,152.9472,318.5627,154.7695,311.5856,149.03,307.22\" style=\"stroke:#181818;stroke-width:1.0;\"/></a></g><!--MD5=[79568f1e445c3877b6a54524624ccc7d]\n",
       "link E4 to E6--><g id=\"link_E4_E6\"><a href=\"psysml:83940360-bfcd-4ab6-95b9-9006ad1a30a4\" target=\"_top\" title=\"psysml:83940360-bfcd-4ab6-95b9-9006ad1a30a4\" xlink:actuate=\"onRequest\" xlink:href=\"psysml:83940360-bfcd-4ab6-95b9-9006ad1a30a4\" xlink:show=\"new\" xlink:title=\"psysml:83940360-bfcd-4ab6-95b9-9006ad1a30a4\" xlink:type=\"simple\"><path d=\"M75.57,494.29 C80.84,515.04 89.51,546.05 100,572 C108.08,591.98 118.83,613.29 128.46,631.07 \" fill=\"none\" id=\"E4-to-E6\" style=\"stroke:#181818;stroke-width:1.0;\"/><polygon fill=\"#FFFFFF\" points=\"138.29,648.76,122.9437,635.5505,135.1819,628.7515,138.29,648.76\" style=\"stroke:#181818;stroke-width:1.0;\"/><ellipse cx=\"121.9238\" cy=\"629.5965\" fill=\"#181818\" rx=\"2\" ry=\"2\" style=\"stroke:#181818;stroke-width:1.0;\"/><ellipse cx=\"130.6654\" cy=\"624.7401\" fill=\"#181818\" rx=\"2\" ry=\"2\" style=\"stroke:#181818;stroke-width:1.0;\"/></a></g><!--MD5=[3f50a3473f1dfb74d3f76443e03635af]\n",
       "reverse link E6 to E7--><g id=\"link_E6_E7\"><a href=\"psysml:c7c30ff0-7abe-445a-9147-4c620b104f3e\" target=\"_top\" title=\"psysml:c7c30ff0-7abe-445a-9147-4c620b104f3e\" xlink:actuate=\"onRequest\" xlink:href=\"psysml:c7c30ff0-7abe-445a-9147-4c620b104f3e\" xlink:show=\"new\" xlink:title=\"psysml:c7c30ff0-7abe-445a-9147-4c620b104f3e\" xlink:type=\"simple\"><path d=\"M164.05,709.83 C169.38,725.66 175.49,743.82 180.2,757.83 \" fill=\"none\" id=\"E6-backto-E7\" style=\"stroke:#181818;stroke-width:1.0;\"/><polygon fill=\"#181818\" points=\"159.81,697.22,157.9296,704.1816,163.6324,708.5949,165.5128,701.6333,159.81,697.22\" style=\"stroke:#181818;stroke-width:1.0;\"/></a></g><!--MD5=[14ccda38c055a5c0da953d572bc50960]\n",
       "link E7 to E3--><g id=\"link_E7_E3\"><a href=\"psysml:4a79bdb3-77e8-4e9c-befa-ce9a0c7716db\" target=\"_top\" title=\"psysml:4a79bdb3-77e8-4e9c-befa-ce9a0c7716db\" xlink:actuate=\"onRequest\" xlink:href=\"psysml:4a79bdb3-77e8-4e9c-befa-ce9a0c7716db\" xlink:show=\"new\" xlink:title=\"psysml:4a79bdb3-77e8-4e9c-befa-ce9a0c7716db\" xlink:type=\"simple\"><path d=\"M204.97,757.64 C218.43,736.78 235,704.84 235,674 C235,391 235,391 235,391 C235,361.35 214.38,336.01 192.46,317.43 \" fill=\"none\" id=\"E7-to-E3\" style=\"stroke:#181818;stroke-width:1.0;\"/><polygon fill=\"#FFFFFF\" points=\"176.54,305.14,195.8578,311.2081,187.3035,322.2907,176.54,305.14\" style=\"stroke:#181818;stroke-width:1.0;\"/><ellipse cx=\"199.148\" cy=\"316.2741\" fill=\"#181818\" rx=\"2\" ry=\"2\" style=\"stroke:#181818;stroke-width:1.0;\"/><ellipse cx=\"193.0378\" cy=\"324.1903\" fill=\"#181818\" rx=\"2\" ry=\"2\" style=\"stroke:#181818;stroke-width:1.0;\"/></a></g><!--MD5=[dfaffb906826c3e5aca635516100ff21]\n",
       "link E5 to E8--><g id=\"link_E5_E8\"><a href=\"psysml:d776694e-c79b-404c-b561-ae1c1a2e3f3d\" target=\"_top\" title=\"psysml:d776694e-c79b-404c-b561-ae1c1a2e3f3d\" xlink:actuate=\"onRequest\" xlink:href=\"psysml:d776694e-c79b-404c-b561-ae1c1a2e3f3d\" xlink:show=\"new\" xlink:title=\"psysml:d776694e-c79b-404c-b561-ae1c1a2e3f3d\" xlink:type=\"simple\"><path d=\"M174.11,416.06 C170.2,439.19 164.09,475.38 159.28,503.86 \" fill=\"none\" id=\"E5-to-E8\" style=\"stroke:#181818;stroke-width:1.0;\"/><polygon fill=\"#FFFFFF\" points=\"155.92,523.79,152.1809,503.8898,165.9855,506.2206,155.92,523.79\" style=\"stroke:#181818;stroke-width:1.0;\"/><ellipse cx=\"155.1019\" cy=\"498.6023\" fill=\"#181818\" rx=\"2\" ry=\"2\" style=\"stroke:#181818;stroke-width:1.0;\"/><ellipse cx=\"164.9624\" cy=\"500.2671\" fill=\"#181818\" rx=\"2\" ry=\"2\" style=\"stroke:#181818;stroke-width:1.0;\"/></a></g><!--MD5=[03c8294790d3c57651a1993cecff665f]\n",
       "reverse link E8 to E3--><g id=\"link_E8_E3\"><a href=\"psysml:c4551329-8b56-4fd0-9fbf-f2d280f6b39b\" target=\"_top\" title=\"psysml:c4551329-8b56-4fd0-9fbf-f2d280f6b39b\" xlink:actuate=\"onRequest\" xlink:href=\"psysml:c4551329-8b56-4fd0-9fbf-f2d280f6b39b\" xlink:show=\"new\" xlink:title=\"psysml:c4551329-8b56-4fd0-9fbf-f2d280f6b39b\" xlink:type=\"simple\"><path d=\"M144.62,510.88 C139.66,484.68 133.57,448.31 131,416 C129.31,394.73 129.74,389.3 131,368 C132.23,347.33 135.14,323.95 137.5,307.11 \" fill=\"none\" id=\"E8-backto-E3\" style=\"stroke:#181818;stroke-width:1.0;\"/><polygon fill=\"none\" points=\"147.16,523.94,149.9387,517.2857,144.865,512.1615,142.0863,518.8158,147.16,523.94\" style=\"stroke:#181818;stroke-width:1.0;\"/><text fill=\"#000000\" font-family=\"sans-serif\" font-size=\"13\" lengthAdjust=\"spacing\" textLength=\"7\" x=\"132\" y=\"396.5669\">y</text></a></g><!--MD5=[0d75d2178373a6a4568e5dc728f58aef]\n",
       "reverse link E8 to E6--><g id=\"link_E8_E6\"><a href=\"psysml:c4551329-8b56-4fd0-9fbf-f2d280f6b39b\" target=\"_top\" title=\"psysml:c4551329-8b56-4fd0-9fbf-f2d280f6b39b\" xlink:actuate=\"onRequest\" xlink:href=\"psysml:c4551329-8b56-4fd0-9fbf-f2d280f6b39b\" xlink:show=\"new\" xlink:title=\"psysml:c4551329-8b56-4fd0-9fbf-f2d280f6b39b\" xlink:type=\"simple\"><path d=\"M152,585.21 C152,605.83 152,631.04 152,648.97 \" fill=\"none\" id=\"E8-backto-E6\" style=\"stroke:#181818;stroke-width:1.0;\"/><polygon fill=\"none\" points=\"152,572.14,148,578.14,152,584.14,156,578.14,152,572.14\" style=\"stroke:#181818;stroke-width:1.0;\"/><text fill=\"#000000\" font-family=\"sans-serif\" font-size=\"13\" lengthAdjust=\"spacing\" textLength=\"7\" x=\"153\" y=\"615.0669\">y</text></a></g><!--MD5=[23ac544a70576c3e717098101004234c]\n",
       "reverse link E9 to E10--><g id=\"link_E9_E10\"><a href=\"psysml:5a5abb4f-4a57-47f4-8d13-1f5dca85ed3b\" target=\"_top\" title=\"psysml:5a5abb4f-4a57-47f4-8d13-1f5dca85ed3b\" xlink:actuate=\"onRequest\" xlink:href=\"psysml:5a5abb4f-4a57-47f4-8d13-1f5dca85ed3b\" xlink:show=\"new\" xlink:title=\"psysml:5a5abb4f-4a57-47f4-8d13-1f5dca85ed3b\" xlink:type=\"simple\"><path d=\"M88.47,101.35 C81.47,117.29 73.39,135.68 67.18,149.83 \" fill=\"none\" id=\"E9-backto-E10\" style=\"stroke:#181818;stroke-width:1.0;\"/><polygon fill=\"none\" points=\"93.8,89.22,87.7243,93.1041,88.9729,100.2063,95.0485,96.3222,93.8,89.22\" style=\"stroke:#181818;stroke-width:1.0;\"/></a></g><!--MD5=[feeac5eb423634930294aa81f2d25a4c]\n",
       "link E10 to E3--><g id=\"link_E10_E3\"><a href=\"psysml:d7f66802-941a-4496-884a-36d82493c03e\" target=\"_top\" title=\"psysml:d7f66802-941a-4496-884a-36d82493c03e\" xlink:actuate=\"onRequest\" xlink:href=\"psysml:d7f66802-941a-4496-884a-36d82493c03e\" xlink:show=\"new\" xlink:title=\"psysml:d7f66802-941a-4496-884a-36d82493c03e\" xlink:type=\"simple\"><path d=\"M75.23,198.22 C85.46,211.26 98.51,227.88 110.28,242.87 \" fill=\"none\" id=\"E10-to-E3\" style=\"stroke:#181818;stroke-width:1.0;\"/><polygon fill=\"#FFFFFF\" points=\"122.81,258.83,105.5676,248.214,116.5764,239.565,122.81,258.83\" style=\"stroke:#181818;stroke-width:1.0;\"/><ellipse cx=\"103.6189\" cy=\"242.4963\" fill=\"#181818\" rx=\"2\" ry=\"2\" style=\"stroke:#181818;stroke-width:1.0;\"/><ellipse cx=\"111.4823\" cy=\"236.3184\" fill=\"#181818\" rx=\"2\" ry=\"2\" style=\"stroke:#181818;stroke-width:1.0;\"/></a></g><!--MD5=[1fc04a95fd77ad5ce46c1a3027516051]\n",
       "reverse link E9 to E11--><g id=\"link_E9_E11\"><a href=\"psysml:8187499b-9a51-4939-bbf5-c8a0ee670e5b\" target=\"_top\" title=\"psysml:8187499b-9a51-4939-bbf5-c8a0ee670e5b\" xlink:actuate=\"onRequest\" xlink:href=\"psysml:8187499b-9a51-4939-bbf5-c8a0ee670e5b\" xlink:show=\"new\" xlink:title=\"psysml:8187499b-9a51-4939-bbf5-c8a0ee670e5b\" xlink:type=\"simple\"><path d=\"M116.39,101.83 C121.86,117.66 128.14,135.82 132.99,149.83 \" fill=\"none\" id=\"E9-backto-E11\" style=\"stroke:#181818;stroke-width:1.0;\"/><polygon fill=\"none\" points=\"112.03,89.22,110.2077,96.1971,115.9472,100.5627,117.7695,93.5856,112.03,89.22\" style=\"stroke:#181818;stroke-width:1.0;\"/></a></g><!--MD5=[0517f1ce58c4d5483948f93845c45e26]\n",
       "link E11 to E3--><g id=\"link_E11_E3\"><a href=\"psysml:ca7307c2-0235-4c1e-8766-bbb66b330e4f\" target=\"_top\" title=\"psysml:ca7307c2-0235-4c1e-8766-bbb66b330e4f\" xlink:actuate=\"onRequest\" xlink:href=\"psysml:ca7307c2-0235-4c1e-8766-bbb66b330e4f\" xlink:show=\"new\" xlink:title=\"psysml:ca7307c2-0235-4c1e-8766-bbb66b330e4f\" xlink:type=\"simple\"><path d=\"M141,198.22 C141,210 141,224.69 141,238.48 \" fill=\"none\" id=\"E11-to-E3\" style=\"stroke:#181818;stroke-width:1.0;\"/><polygon fill=\"#FFFFFF\" points=\"141,258.83,134,239.83,148,239.83,141,258.83\" style=\"stroke:#181818;stroke-width:1.0;\"/><ellipse cx=\"136\" cy=\"234.13\" fill=\"#181818\" rx=\"2\" ry=\"2\" style=\"stroke:#181818;stroke-width:1.0;\"/><ellipse cx=\"146\" cy=\"234.13\" fill=\"#181818\" rx=\"2\" ry=\"2\" style=\"stroke:#181818;stroke-width:1.0;\"/></a></g><!--MD5=[4b4a8daa1eae5e338caf0d76bc944e4b]\n",
       "@startuml\r\n",
       "skin sysmlbw\r\n",
       "skinparam monochrome true\r\n",
       "skinparam wrapWidth 300\r\n",
       "hide circle\r\n",
       "top to bottom direction\r\n",
       "\r\n",
       "package \"ItemTest\" as E1  [[psysml:cd87d2b7-4fa1-4c1b-a4f6-af691b0dec58 ]]  {\r\n",
       "comp usage \"f: A  \" as E2  <<(T,blue) item>> [[psysml:a6e7d788-746b-466d-b844-23a78300b1ae ]] {\r\n",
       "}\r\n",
       "comp def \"A\" as E3  <<(T,blue) item  def>> [[psysml:7645df02-ea24-41fb-927b-82e0988a44f2 ]] {\r\n",
       "}\r\n",
       "comp usage \"b: B  \" as E4  <<(T,blue) item>> [[psysml:426ed2e2-6591-4c8f-a505-52d546190911 ]] {\r\n",
       "}\r\n",
       "comp usage \"c: C  \" as E5  <<(T,blue) part>> [[psysml:331ec08e-03d4-4ef2-9768-da2cb6dfa326 ]] {\r\n",
       "}\r\n",
       "comp def \"<i>B</i>\" as E6  <<(T,blue) item  def>> [[psysml:1c5a109b-6d3b-4425-b763-85184515822e ]] {\r\n",
       "}\r\n",
       "comp usage \"<i>a</i>: A  \" as E7  <<(T,blue) part>> [[psysml:3d3f18ff-1114-439a-91a9-78796a10458c ]] {\r\n",
       "}\r\n",
       "comp def \"C\" as E8  <<(T,blue) part  def>> [[psysml:1568c6af-b382-4c7f-b02a-0d87dd86c0f5 ]] {\r\n",
       "}\r\n",
       "comp def \"P\" as E9  <<(T,blue) port  def>> [[psysml:7b3481ba-f47b-4c12-87df-4d6f620e6d00 ]] {\r\n",
       "}\r\n",
       "comp usage \"a1: A  \" as E10  <<(T,blue) item>> [[psysml:116f794f-fd18-4d42-8d94-9abf783d43f0 ]] {\r\n",
       "}\r\n",
       "comp usage \"a2: A  \" as E11  <<(T,blue) item>> [[psysml:16572df6-eec3-489a-80d1-3b65de425cbd ]] {\r\n",
       "}\r\n",
       "}\r\n",
       "E2 - -:|> E3 [[psysml:70c9c3cf-ded5-4fad-940c-650d810049d2 ]] \r\n",
       "E3 *- - E4 [[psysml:1e28e0ed-b5c0-4fac-98b2-855fbe266c1f ]] \r\n",
       "E3 o- - E5 [[psysml:b5974af5-b28c-458b-89e4-95d46de68236 ]] \r\n",
       "E4 - -:|> E6 [[psysml:83940360-bfcd-4ab6-95b9-9006ad1a30a4 ]] \r\n",
       "E6 *- - E7 [[psysml:c7c30ff0-7abe-445a-9147-4c620b104f3e ]] \r\n",
       "E7 - -:|> E3 [[psysml:4a79bdb3-77e8-4e9c-befa-ce9a0c7716db ]] \r\n",
       "E5 - -:|> E8 [[psysml:d776694e-c79b-404c-b561-ae1c1a2e3f3d ]] \r\n",
       "E8 o- - E3 [[psysml:c4551329-8b56-4fd0-9fbf-f2d280f6b39b ]] : y\r\n",
       "E8 o- - E6 [[psysml:c4551329-8b56-4fd0-9fbf-f2d280f6b39b ]] : y\r\n",
       "E9 o- - E10 [[psysml:5a5abb4f-4a57-47f4-8d13-1f5dca85ed3b ]] \r\n",
       "E10 - -:|> E3 [[psysml:d7f66802-941a-4496-884a-36d82493c03e ]] \r\n",
       "E9 o- - E11 [[psysml:8187499b-9a51-4939-bbf5-c8a0ee670e5b ]] \r\n",
       "E11 - -:|> E3 [[psysml:ca7307c2-0235-4c1e-8766-bbb66b330e4f ]] \r\n",
       "@enduml\r\n",
       "\n",
       "PlantUML version 1.2022.7(Mon Aug 22 17:01:30 UTC 2022)\n",
       "(EPL source distribution)\n",
       "Java Runtime: OpenJDK Runtime Environment\n",
       "JVM: OpenJDK 64-Bit Server VM\n",
       "Default Encoding: UTF-8\n",
       "Language: en\n",
       "Country: null\n",
       "--></g></svg>"
      ]
     },
     "execution_count": 44,
     "metadata": {},
     "output_type": "execute_result"
    }
   ],
   "source": [
    "%viz --style=\"TB\" --view=\"Default\" \"ItemTest\""
   ]
  },
  {
   "cell_type": "code",
   "execution_count": 45,
   "id": "dfb7ab9d",
   "metadata": {
    "execution": {
     "iopub.execute_input": "2024-12-16T14:15:18.716602Z",
     "iopub.status.busy": "2024-12-16T14:15:18.716366Z",
     "iopub.status.idle": "2024-12-16T14:15:18.741681Z",
     "shell.execute_reply": "2024-12-16T14:15:18.740656Z"
    }
   },
   "outputs": [
    {
     "data": {
      "image/svg+xml": [
       "<?xml version=\"1.0\" encoding=\"UTF-8\" standalone=\"no\"?><svg xmlns=\"http://www.w3.org/2000/svg\" xmlns:xlink=\"http://www.w3.org/1999/xlink\" contentStyleType=\"text/css\" height=\"829px\" preserveAspectRatio=\"none\" style=\"width:277px;height:829px;background:#FFFFFF;\" version=\"1.1\" viewBox=\"0 0 277 829\" width=\"277px\" zoomAndPan=\"magnify\"><defs/><g><!--MD5=[fbc87193dbaf4d95561dea2c320d4a47]\n",
       "cluster E1--><g id=\"cluster_E1\"><a href=\"psysml:cd87d2b7-4fa1-4c1b-a4f6-af691b0dec58\" target=\"_top\" title=\"psysml:cd87d2b7-4fa1-4c1b-a4f6-af691b0dec58\" xlink:actuate=\"onRequest\" xlink:href=\"psysml:cd87d2b7-4fa1-4c1b-a4f6-af691b0dec58\" xlink:show=\"new\" xlink:title=\"psysml:cd87d2b7-4fa1-4c1b-a4f6-af691b0dec58\" xlink:type=\"simple\"><polygon fill=\"none\" points=\"16,6,86.5,6,93.5,28.2969,260,28.2969,260,822,16,822,16,6\" style=\"stroke:#000000;stroke-width:1.5;\"/><line style=\"stroke:#000000;stroke-width:1.5;\" x1=\"16\" x2=\"93.5\" y1=\"28.2969\" y2=\"28.2969\"/><text fill=\"#000000\" font-family=\"sans-serif\" font-size=\"14\" font-weight=\"bold\" lengthAdjust=\"spacing\" textLength=\"64.5\" x=\"20\" y=\"20.9951\">ItemTest</text></a></g><!--MD5=[b4997ac47864f28c2f74865a473b2911]\n",
       "class E2--><a href=\"psysml:a6e7d788-746b-466d-b844-23a78300b1ae\" target=\"_top\" title=\"psysml:a6e7d788-746b-466d-b844-23a78300b1ae\" xlink:actuate=\"onRequest\" xlink:href=\"psysml:a6e7d788-746b-466d-b844-23a78300b1ae\" xlink:show=\"new\" xlink:title=\"psysml:a6e7d788-746b-466d-b844-23a78300b1ae\" xlink:type=\"simple\"><g id=\"elem_E2\"><rect fill=\"#FFFFFF\" height=\"48.2656\" id=\"E2\" rx=\"10\" ry=\"10\" style=\"stroke:#181818;stroke-width:0.5;\" width=\"43\" x=\"200.5\" y=\"150\"/><text fill=\"#000000\" font-family=\"sans-serif\" font-size=\"12\" font-style=\"italic\" lengthAdjust=\"spacing\" textLength=\"41\" x=\"201.5\" y=\"166.1387\">«item»</text><text fill=\"#000000\" font-family=\"sans-serif\" font-size=\"14\" lengthAdjust=\"spacing\" textLength=\"22\" x=\"207\" y=\"181.9639\">f: A</text><line style=\"stroke:#181818;stroke-width:0.5;\" x1=\"201.5\" x2=\"242.5\" y1=\"190.2656\" y2=\"190.2656\"/></g></a><!--MD5=[09b614a08d8cba4a07c9adeb5e0fee81]\n",
       "class E3--><a href=\"psysml:7645df02-ea24-41fb-927b-82e0988a44f2\" target=\"_top\" title=\"psysml:7645df02-ea24-41fb-927b-82e0988a44f2\" xlink:actuate=\"onRequest\" xlink:href=\"psysml:7645df02-ea24-41fb-927b-82e0988a44f2\" xlink:show=\"new\" xlink:title=\"psysml:7645df02-ea24-41fb-927b-82e0988a44f2\" xlink:type=\"simple\"><g id=\"elem_E3\"><rect fill=\"#FFFFFF\" height=\"48.2656\" id=\"E3\" style=\"stroke:#181818;stroke-width:0.5;\" width=\"71\" x=\"105.5\" y=\"259\"/><text fill=\"#000000\" font-family=\"sans-serif\" font-size=\"12\" font-style=\"italic\" lengthAdjust=\"spacing\" textLength=\"69\" x=\"106.5\" y=\"275.1387\">«item  def»</text><text fill=\"#000000\" font-family=\"sans-serif\" font-size=\"14\" lengthAdjust=\"spacing\" textLength=\"9\" x=\"136.5\" y=\"290.9639\">A</text><line style=\"stroke:#181818;stroke-width:0.5;\" x1=\"106.5\" x2=\"175.5\" y1=\"299.2656\" y2=\"299.2656\"/></g></a><!--MD5=[ebbe1d658d1005bcc118a6aa81145e00]\n",
       "class E4--><a href=\"psysml:426ed2e2-6591-4c8f-a505-52d546190911\" target=\"_top\" title=\"psysml:426ed2e2-6591-4c8f-a505-52d546190911\" xlink:actuate=\"onRequest\" xlink:href=\"psysml:426ed2e2-6591-4c8f-a505-52d546190911\" xlink:show=\"new\" xlink:title=\"psysml:426ed2e2-6591-4c8f-a505-52d546190911\" xlink:type=\"simple\"><g id=\"elem_E4\"><rect fill=\"#FFFFFF\" height=\"48.2656\" id=\"E4\" rx=\"10\" ry=\"10\" style=\"stroke:#181818;stroke-width:0.5;\" width=\"43\" x=\"48.5\" y=\"446\"/><text fill=\"#000000\" font-family=\"sans-serif\" font-size=\"12\" font-style=\"italic\" lengthAdjust=\"spacing\" textLength=\"41\" x=\"49.5\" y=\"462.1387\">«item»</text><text fill=\"#000000\" font-family=\"sans-serif\" font-size=\"14\" lengthAdjust=\"spacing\" textLength=\"28\" x=\"52\" y=\"477.9639\">b: B</text><line style=\"stroke:#181818;stroke-width:0.5;\" x1=\"49.5\" x2=\"90.5\" y1=\"486.2656\" y2=\"486.2656\"/></g></a><!--MD5=[270fce915f116d4de14055a7c1d9a0f3]\n",
       "class E5--><a href=\"psysml:331ec08e-03d4-4ef2-9768-da2cb6dfa326\" target=\"_top\" title=\"psysml:331ec08e-03d4-4ef2-9768-da2cb6dfa326\" xlink:actuate=\"onRequest\" xlink:href=\"psysml:331ec08e-03d4-4ef2-9768-da2cb6dfa326\" xlink:show=\"new\" xlink:title=\"psysml:331ec08e-03d4-4ef2-9768-da2cb6dfa326\" xlink:type=\"simple\"><g id=\"elem_E5\"><rect fill=\"#FFFFFF\" height=\"48.2656\" id=\"E5\" rx=\"10\" ry=\"10\" style=\"stroke:#181818;stroke-width:0.5;\" width=\"42\" x=\"157\" y=\"368\"/><text fill=\"#000000\" font-family=\"sans-serif\" font-size=\"12\" font-style=\"italic\" lengthAdjust=\"spacing\" textLength=\"40\" x=\"158\" y=\"384.1387\">«part»</text><text fill=\"#000000\" font-family=\"sans-serif\" font-size=\"14\" lengthAdjust=\"spacing\" textLength=\"27\" x=\"160.5\" y=\"399.9639\">c: C</text><line style=\"stroke:#181818;stroke-width:0.5;\" x1=\"158\" x2=\"198\" y1=\"408.2656\" y2=\"408.2656\"/></g></a><!--MD5=[60a26617385b1d2d0262a64233df1f8d]\n",
       "class E6--><a href=\"psysml:1c5a109b-6d3b-4425-b763-85184515822e\" target=\"_top\" title=\"psysml:1c5a109b-6d3b-4425-b763-85184515822e\" xlink:actuate=\"onRequest\" xlink:href=\"psysml:1c5a109b-6d3b-4425-b763-85184515822e\" xlink:show=\"new\" xlink:title=\"psysml:1c5a109b-6d3b-4425-b763-85184515822e\" xlink:type=\"simple\"><g id=\"elem_E6\"><rect fill=\"#FFFFFF\" height=\"48.2656\" id=\"E6\" style=\"stroke:#181818;stroke-width:0.5;\" width=\"71\" x=\"116.5\" y=\"649\"/><text fill=\"#000000\" font-family=\"sans-serif\" font-size=\"12\" font-style=\"italic\" lengthAdjust=\"spacing\" textLength=\"69\" x=\"117.5\" y=\"665.1387\">«item  def»</text><text fill=\"#000000\" font-family=\"sans-serif\" font-size=\"14\" font-style=\"italic\" lengthAdjust=\"spacing\" textLength=\"10\" x=\"147\" y=\"680.9639\">B</text><line style=\"stroke:#181818;stroke-width:0.5;\" x1=\"117.5\" x2=\"186.5\" y1=\"689.2656\" y2=\"689.2656\"/></g></a><!--MD5=[2156ba9850f5573cc1fc38a6a4b2f02b]\n",
       "class E7--><a href=\"psysml:3d3f18ff-1114-439a-91a9-78796a10458c\" target=\"_top\" title=\"psysml:3d3f18ff-1114-439a-91a9-78796a10458c\" xlink:actuate=\"onRequest\" xlink:href=\"psysml:3d3f18ff-1114-439a-91a9-78796a10458c\" xlink:show=\"new\" xlink:title=\"psysml:3d3f18ff-1114-439a-91a9-78796a10458c\" xlink:type=\"simple\"><g id=\"elem_E7\"><rect fill=\"#FFFFFF\" height=\"48.2656\" id=\"E7\" rx=\"10\" ry=\"10\" style=\"stroke:#181818;stroke-width:0.5;\" width=\"42\" x=\"167\" y=\"758\"/><text fill=\"#000000\" font-family=\"sans-serif\" font-size=\"12\" font-style=\"italic\" lengthAdjust=\"spacing\" textLength=\"40\" x=\"168\" y=\"774.1387\">«part»</text><text fill=\"#000000\" font-family=\"sans-serif\" font-size=\"14\" font-style=\"italic\" lengthAdjust=\"spacing\" textLength=\"8\" x=\"171\" y=\"789.9639\">a</text><text fill=\"#000000\" font-family=\"sans-serif\" font-size=\"14\" lengthAdjust=\"spacing\" textLength=\"18\" x=\"179\" y=\"789.9639\">: A</text><line style=\"stroke:#181818;stroke-width:0.5;\" x1=\"168\" x2=\"208\" y1=\"798.2656\" y2=\"798.2656\"/></g></a><!--MD5=[b9389687b975829384b498ac4b7476b2]\n",
       "class E8--><a href=\"psysml:1568c6af-b382-4c7f-b02a-0d87dd86c0f5\" target=\"_top\" title=\"psysml:1568c6af-b382-4c7f-b02a-0d87dd86c0f5\" xlink:actuate=\"onRequest\" xlink:href=\"psysml:1568c6af-b382-4c7f-b02a-0d87dd86c0f5\" xlink:show=\"new\" xlink:title=\"psysml:1568c6af-b382-4c7f-b02a-0d87dd86c0f5\" xlink:type=\"simple\"><g id=\"elem_E8\"><rect fill=\"#FFFFFF\" height=\"48.2656\" id=\"E8\" style=\"stroke:#181818;stroke-width:0.5;\" width=\"70\" x=\"117\" y=\"524\"/><text fill=\"#000000\" font-family=\"sans-serif\" font-size=\"12\" font-style=\"italic\" lengthAdjust=\"spacing\" textLength=\"68\" x=\"118\" y=\"540.1387\">«part  def»</text><text fill=\"#000000\" font-family=\"sans-serif\" font-size=\"14\" lengthAdjust=\"spacing\" textLength=\"10\" x=\"147\" y=\"555.9639\">C</text><line style=\"stroke:#181818;stroke-width:0.5;\" x1=\"118\" x2=\"186\" y1=\"564.2656\" y2=\"564.2656\"/></g></a><!--MD5=[fd4143e9d270a159db93a4ea2a975926]\n",
       "class E9--><a href=\"psysml:7b3481ba-f47b-4c12-87df-4d6f620e6d00\" target=\"_top\" title=\"psysml:7b3481ba-f47b-4c12-87df-4d6f620e6d00\" xlink:actuate=\"onRequest\" xlink:href=\"psysml:7b3481ba-f47b-4c12-87df-4d6f620e6d00\" xlink:show=\"new\" xlink:title=\"psysml:7b3481ba-f47b-4c12-87df-4d6f620e6d00\" xlink:type=\"simple\"><g id=\"elem_E9\"><rect fill=\"#FFFFFF\" height=\"48.2656\" id=\"E9\" style=\"stroke:#181818;stroke-width:0.5;\" width=\"70\" x=\"69\" y=\"41\"/><text fill=\"#000000\" font-family=\"sans-serif\" font-size=\"12\" font-style=\"italic\" lengthAdjust=\"spacing\" textLength=\"68\" x=\"70\" y=\"57.1387\">«port  def»</text><text fill=\"#000000\" font-family=\"sans-serif\" font-size=\"14\" lengthAdjust=\"spacing\" textLength=\"9\" x=\"99.5\" y=\"72.9639\">P</text><line style=\"stroke:#181818;stroke-width:0.5;\" x1=\"70\" x2=\"138\" y1=\"81.2656\" y2=\"81.2656\"/></g></a><!--MD5=[96f4274e9e20536e775497830990834d]\n",
       "class E10--><a href=\"psysml:116f794f-fd18-4d42-8d94-9abf783d43f0\" target=\"_top\" title=\"psysml:116f794f-fd18-4d42-8d94-9abf783d43f0\" xlink:actuate=\"onRequest\" xlink:href=\"psysml:116f794f-fd18-4d42-8d94-9abf783d43f0\" xlink:show=\"new\" xlink:title=\"psysml:116f794f-fd18-4d42-8d94-9abf783d43f0\" xlink:type=\"simple\"><g id=\"elem_E10\"><rect fill=\"#FFFFFF\" height=\"48.2656\" id=\"E10\" rx=\"10\" ry=\"10\" style=\"stroke:#181818;stroke-width:0.5;\" width=\"49\" x=\"32.5\" y=\"150\"/><text fill=\"#000000\" font-family=\"sans-serif\" font-size=\"12\" font-style=\"italic\" lengthAdjust=\"spacing\" textLength=\"41\" x=\"36.5\" y=\"166.1387\">«item»</text><text fill=\"#000000\" font-family=\"sans-serif\" font-size=\"14\" lengthAdjust=\"spacing\" textLength=\"35\" x=\"35.5\" y=\"181.9639\">a1: A</text><line style=\"stroke:#181818;stroke-width:0.5;\" x1=\"33.5\" x2=\"80.5\" y1=\"190.2656\" y2=\"190.2656\"/></g></a><!--MD5=[1dd1bfd58a279cf63c5f349dbc8fc6a1]\n",
       "class E11--><a href=\"psysml:16572df6-eec3-489a-80d1-3b65de425cbd\" target=\"_top\" title=\"psysml:16572df6-eec3-489a-80d1-3b65de425cbd\" xlink:actuate=\"onRequest\" xlink:href=\"psysml:16572df6-eec3-489a-80d1-3b65de425cbd\" xlink:show=\"new\" xlink:title=\"psysml:16572df6-eec3-489a-80d1-3b65de425cbd\" xlink:type=\"simple\"><g id=\"elem_E11\"><rect fill=\"#FFFFFF\" height=\"48.2656\" id=\"E11\" rx=\"10\" ry=\"10\" style=\"stroke:#181818;stroke-width:0.5;\" width=\"49\" x=\"116.5\" y=\"150\"/><text fill=\"#000000\" font-family=\"sans-serif\" font-size=\"12\" font-style=\"italic\" lengthAdjust=\"spacing\" textLength=\"41\" x=\"120.5\" y=\"166.1387\">«item»</text><text fill=\"#000000\" font-family=\"sans-serif\" font-size=\"14\" lengthAdjust=\"spacing\" textLength=\"35\" x=\"119.5\" y=\"181.9639\">a2: A</text><line style=\"stroke:#181818;stroke-width:0.5;\" x1=\"117.5\" x2=\"164.5\" y1=\"190.2656\" y2=\"190.2656\"/></g></a><!--MD5=[2720a5a1f2c3fca2055b230370638851]\n",
       "link E2 to E3--><g id=\"link_E2_E3\"><a href=\"psysml:70c9c3cf-ded5-4fad-940c-650d810049d2\" target=\"_top\" title=\"psysml:70c9c3cf-ded5-4fad-940c-650d810049d2\" xlink:actuate=\"onRequest\" xlink:href=\"psysml:70c9c3cf-ded5-4fad-940c-650d810049d2\" xlink:show=\"new\" xlink:title=\"psysml:70c9c3cf-ded5-4fad-940c-650d810049d2\" xlink:type=\"simple\"><path d=\"M204.42,198.22 C194.55,211.26 181.97,227.88 170.62,242.87 \" fill=\"none\" id=\"E2-to-E3\" style=\"stroke:#181818;stroke-width:1.0;\"/><polygon fill=\"#FFFFFF\" points=\"158.54,258.83,164.4286,239.4567,175.5901,247.9078,158.54,258.83\" style=\"stroke:#181818;stroke-width:1.0;\"/><ellipse cx=\"169.4639\" cy=\"236.1197\" fill=\"#181818\" rx=\"2\" ry=\"2\" style=\"stroke:#181818;stroke-width:1.0;\"/><ellipse cx=\"177.4364\" cy=\"242.1562\" fill=\"#181818\" rx=\"2\" ry=\"2\" style=\"stroke:#181818;stroke-width:1.0;\"/></a></g><!--MD5=[4672eba38e49728da53d11aeb285b987]\n",
       "reverse link E3 to E4--><g id=\"link_E3_E4\"><a href=\"psysml:1e28e0ed-b5c0-4fac-98b2-855fbe266c1f\" target=\"_top\" title=\"psysml:1e28e0ed-b5c0-4fac-98b2-855fbe266c1f\" xlink:actuate=\"onRequest\" xlink:href=\"psysml:1e28e0ed-b5c0-4fac-98b2-855fbe266c1f\" xlink:show=\"new\" xlink:title=\"psysml:1e28e0ed-b5c0-4fac-98b2-855fbe266c1f\" xlink:type=\"simple\"><path d=\"M104.38,316.32 C90.85,330.64 77.09,348.62 70,368 C60.72,393.36 62.6,424.76 65.58,445.75 \" fill=\"none\" id=\"E3-backto-E4\" style=\"stroke:#181818;stroke-width:1.0;\"/><polygon fill=\"#181818\" points=\"113.62,307.02,106.5522,308.4507,105.1545,315.525,112.2223,314.0943,113.62,307.02\" style=\"stroke:#181818;stroke-width:1.0;\"/></a></g><!--MD5=[191cde3d490a3f6d7bb551fe3ddca469]\n",
       "reverse link E3 to E5--><g id=\"link_E3_E5\"><a href=\"psysml:b5974af5-b28c-458b-89e4-95d46de68236\" target=\"_top\" title=\"psysml:b5974af5-b28c-458b-89e4-95d46de68236\" xlink:actuate=\"onRequest\" xlink:href=\"psysml:b5974af5-b28c-458b-89e4-95d46de68236\" xlink:show=\"new\" xlink:title=\"psysml:b5974af5-b28c-458b-89e4-95d46de68236\" xlink:type=\"simple\"><path d=\"M153.39,319.83 C158.86,335.66 165.14,353.82 169.99,367.83 \" fill=\"none\" id=\"E3-backto-E5\" style=\"stroke:#181818;stroke-width:1.0;\"/><polygon fill=\"none\" points=\"149.03,307.22,147.2077,314.1971,152.9472,318.5627,154.7695,311.5856,149.03,307.22\" style=\"stroke:#181818;stroke-width:1.0;\"/></a></g><!--MD5=[79568f1e445c3877b6a54524624ccc7d]\n",
       "link E4 to E6--><g id=\"link_E4_E6\"><a href=\"psysml:83940360-bfcd-4ab6-95b9-9006ad1a30a4\" target=\"_top\" title=\"psysml:83940360-bfcd-4ab6-95b9-9006ad1a30a4\" xlink:actuate=\"onRequest\" xlink:href=\"psysml:83940360-bfcd-4ab6-95b9-9006ad1a30a4\" xlink:show=\"new\" xlink:title=\"psysml:83940360-bfcd-4ab6-95b9-9006ad1a30a4\" xlink:type=\"simple\"><path d=\"M75.57,494.29 C80.84,515.04 89.51,546.05 100,572 C108.08,591.98 118.83,613.29 128.46,631.07 \" fill=\"none\" id=\"E4-to-E6\" style=\"stroke:#181818;stroke-width:1.0;\"/><polygon fill=\"#FFFFFF\" points=\"138.29,648.76,122.9437,635.5505,135.1819,628.7515,138.29,648.76\" style=\"stroke:#181818;stroke-width:1.0;\"/><ellipse cx=\"121.9238\" cy=\"629.5965\" fill=\"#181818\" rx=\"2\" ry=\"2\" style=\"stroke:#181818;stroke-width:1.0;\"/><ellipse cx=\"130.6654\" cy=\"624.7401\" fill=\"#181818\" rx=\"2\" ry=\"2\" style=\"stroke:#181818;stroke-width:1.0;\"/></a></g><!--MD5=[3f50a3473f1dfb74d3f76443e03635af]\n",
       "reverse link E6 to E7--><g id=\"link_E6_E7\"><a href=\"psysml:c7c30ff0-7abe-445a-9147-4c620b104f3e\" target=\"_top\" title=\"psysml:c7c30ff0-7abe-445a-9147-4c620b104f3e\" xlink:actuate=\"onRequest\" xlink:href=\"psysml:c7c30ff0-7abe-445a-9147-4c620b104f3e\" xlink:show=\"new\" xlink:title=\"psysml:c7c30ff0-7abe-445a-9147-4c620b104f3e\" xlink:type=\"simple\"><path d=\"M164.05,709.83 C169.38,725.66 175.49,743.82 180.2,757.83 \" fill=\"none\" id=\"E6-backto-E7\" style=\"stroke:#181818;stroke-width:1.0;\"/><polygon fill=\"#181818\" points=\"159.81,697.22,157.9296,704.1816,163.6324,708.5949,165.5128,701.6333,159.81,697.22\" style=\"stroke:#181818;stroke-width:1.0;\"/></a></g><!--MD5=[14ccda38c055a5c0da953d572bc50960]\n",
       "link E7 to E3--><g id=\"link_E7_E3\"><a href=\"psysml:4a79bdb3-77e8-4e9c-befa-ce9a0c7716db\" target=\"_top\" title=\"psysml:4a79bdb3-77e8-4e9c-befa-ce9a0c7716db\" xlink:actuate=\"onRequest\" xlink:href=\"psysml:4a79bdb3-77e8-4e9c-befa-ce9a0c7716db\" xlink:show=\"new\" xlink:title=\"psysml:4a79bdb3-77e8-4e9c-befa-ce9a0c7716db\" xlink:type=\"simple\"><path d=\"M204.97,757.64 C218.43,736.78 235,704.84 235,674 C235,391 235,391 235,391 C235,361.35 214.38,336.01 192.46,317.43 \" fill=\"none\" id=\"E7-to-E3\" style=\"stroke:#181818;stroke-width:1.0;\"/><polygon fill=\"#FFFFFF\" points=\"176.54,305.14,195.8578,311.2081,187.3035,322.2907,176.54,305.14\" style=\"stroke:#181818;stroke-width:1.0;\"/><ellipse cx=\"199.148\" cy=\"316.2741\" fill=\"#181818\" rx=\"2\" ry=\"2\" style=\"stroke:#181818;stroke-width:1.0;\"/><ellipse cx=\"193.0378\" cy=\"324.1903\" fill=\"#181818\" rx=\"2\" ry=\"2\" style=\"stroke:#181818;stroke-width:1.0;\"/></a></g><!--MD5=[dfaffb906826c3e5aca635516100ff21]\n",
       "link E5 to E8--><g id=\"link_E5_E8\"><a href=\"psysml:d776694e-c79b-404c-b561-ae1c1a2e3f3d\" target=\"_top\" title=\"psysml:d776694e-c79b-404c-b561-ae1c1a2e3f3d\" xlink:actuate=\"onRequest\" xlink:href=\"psysml:d776694e-c79b-404c-b561-ae1c1a2e3f3d\" xlink:show=\"new\" xlink:title=\"psysml:d776694e-c79b-404c-b561-ae1c1a2e3f3d\" xlink:type=\"simple\"><path d=\"M174.11,416.06 C170.2,439.19 164.09,475.38 159.28,503.86 \" fill=\"none\" id=\"E5-to-E8\" style=\"stroke:#181818;stroke-width:1.0;\"/><polygon fill=\"#FFFFFF\" points=\"155.92,523.79,152.1809,503.8898,165.9855,506.2206,155.92,523.79\" style=\"stroke:#181818;stroke-width:1.0;\"/><ellipse cx=\"155.1019\" cy=\"498.6023\" fill=\"#181818\" rx=\"2\" ry=\"2\" style=\"stroke:#181818;stroke-width:1.0;\"/><ellipse cx=\"164.9624\" cy=\"500.2671\" fill=\"#181818\" rx=\"2\" ry=\"2\" style=\"stroke:#181818;stroke-width:1.0;\"/></a></g><!--MD5=[03c8294790d3c57651a1993cecff665f]\n",
       "reverse link E8 to E3--><g id=\"link_E8_E3\"><a href=\"psysml:c4551329-8b56-4fd0-9fbf-f2d280f6b39b\" target=\"_top\" title=\"psysml:c4551329-8b56-4fd0-9fbf-f2d280f6b39b\" xlink:actuate=\"onRequest\" xlink:href=\"psysml:c4551329-8b56-4fd0-9fbf-f2d280f6b39b\" xlink:show=\"new\" xlink:title=\"psysml:c4551329-8b56-4fd0-9fbf-f2d280f6b39b\" xlink:type=\"simple\"><path d=\"M144.62,510.88 C139.66,484.68 133.57,448.31 131,416 C129.31,394.73 129.74,389.3 131,368 C132.23,347.33 135.14,323.95 137.5,307.11 \" fill=\"none\" id=\"E8-backto-E3\" style=\"stroke:#181818;stroke-width:1.0;\"/><polygon fill=\"none\" points=\"147.16,523.94,149.9387,517.2857,144.865,512.1615,142.0863,518.8158,147.16,523.94\" style=\"stroke:#181818;stroke-width:1.0;\"/><text fill=\"#000000\" font-family=\"sans-serif\" font-size=\"13\" lengthAdjust=\"spacing\" textLength=\"7\" x=\"132\" y=\"396.5669\">y</text></a></g><!--MD5=[0d75d2178373a6a4568e5dc728f58aef]\n",
       "reverse link E8 to E6--><g id=\"link_E8_E6\"><a href=\"psysml:c4551329-8b56-4fd0-9fbf-f2d280f6b39b\" target=\"_top\" title=\"psysml:c4551329-8b56-4fd0-9fbf-f2d280f6b39b\" xlink:actuate=\"onRequest\" xlink:href=\"psysml:c4551329-8b56-4fd0-9fbf-f2d280f6b39b\" xlink:show=\"new\" xlink:title=\"psysml:c4551329-8b56-4fd0-9fbf-f2d280f6b39b\" xlink:type=\"simple\"><path d=\"M152,585.21 C152,605.83 152,631.04 152,648.97 \" fill=\"none\" id=\"E8-backto-E6\" style=\"stroke:#181818;stroke-width:1.0;\"/><polygon fill=\"none\" points=\"152,572.14,148,578.14,152,584.14,156,578.14,152,572.14\" style=\"stroke:#181818;stroke-width:1.0;\"/><text fill=\"#000000\" font-family=\"sans-serif\" font-size=\"13\" lengthAdjust=\"spacing\" textLength=\"7\" x=\"153\" y=\"615.0669\">y</text></a></g><!--MD5=[23ac544a70576c3e717098101004234c]\n",
       "reverse link E9 to E10--><g id=\"link_E9_E10\"><a href=\"psysml:5a5abb4f-4a57-47f4-8d13-1f5dca85ed3b\" target=\"_top\" title=\"psysml:5a5abb4f-4a57-47f4-8d13-1f5dca85ed3b\" xlink:actuate=\"onRequest\" xlink:href=\"psysml:5a5abb4f-4a57-47f4-8d13-1f5dca85ed3b\" xlink:show=\"new\" xlink:title=\"psysml:5a5abb4f-4a57-47f4-8d13-1f5dca85ed3b\" xlink:type=\"simple\"><path d=\"M88.47,101.35 C81.47,117.29 73.39,135.68 67.18,149.83 \" fill=\"none\" id=\"E9-backto-E10\" style=\"stroke:#181818;stroke-width:1.0;\"/><polygon fill=\"none\" points=\"93.8,89.22,87.7243,93.1041,88.9729,100.2063,95.0485,96.3222,93.8,89.22\" style=\"stroke:#181818;stroke-width:1.0;\"/></a></g><!--MD5=[feeac5eb423634930294aa81f2d25a4c]\n",
       "link E10 to E3--><g id=\"link_E10_E3\"><a href=\"psysml:d7f66802-941a-4496-884a-36d82493c03e\" target=\"_top\" title=\"psysml:d7f66802-941a-4496-884a-36d82493c03e\" xlink:actuate=\"onRequest\" xlink:href=\"psysml:d7f66802-941a-4496-884a-36d82493c03e\" xlink:show=\"new\" xlink:title=\"psysml:d7f66802-941a-4496-884a-36d82493c03e\" xlink:type=\"simple\"><path d=\"M75.23,198.22 C85.46,211.26 98.51,227.88 110.28,242.87 \" fill=\"none\" id=\"E10-to-E3\" style=\"stroke:#181818;stroke-width:1.0;\"/><polygon fill=\"#FFFFFF\" points=\"122.81,258.83,105.5676,248.214,116.5764,239.565,122.81,258.83\" style=\"stroke:#181818;stroke-width:1.0;\"/><ellipse cx=\"103.6189\" cy=\"242.4963\" fill=\"#181818\" rx=\"2\" ry=\"2\" style=\"stroke:#181818;stroke-width:1.0;\"/><ellipse cx=\"111.4823\" cy=\"236.3184\" fill=\"#181818\" rx=\"2\" ry=\"2\" style=\"stroke:#181818;stroke-width:1.0;\"/></a></g><!--MD5=[1fc04a95fd77ad5ce46c1a3027516051]\n",
       "reverse link E9 to E11--><g id=\"link_E9_E11\"><a href=\"psysml:8187499b-9a51-4939-bbf5-c8a0ee670e5b\" target=\"_top\" title=\"psysml:8187499b-9a51-4939-bbf5-c8a0ee670e5b\" xlink:actuate=\"onRequest\" xlink:href=\"psysml:8187499b-9a51-4939-bbf5-c8a0ee670e5b\" xlink:show=\"new\" xlink:title=\"psysml:8187499b-9a51-4939-bbf5-c8a0ee670e5b\" xlink:type=\"simple\"><path d=\"M116.39,101.83 C121.86,117.66 128.14,135.82 132.99,149.83 \" fill=\"none\" id=\"E9-backto-E11\" style=\"stroke:#181818;stroke-width:1.0;\"/><polygon fill=\"none\" points=\"112.03,89.22,110.2077,96.1971,115.9472,100.5627,117.7695,93.5856,112.03,89.22\" style=\"stroke:#181818;stroke-width:1.0;\"/></a></g><!--MD5=[0517f1ce58c4d5483948f93845c45e26]\n",
       "link E11 to E3--><g id=\"link_E11_E3\"><a href=\"psysml:ca7307c2-0235-4c1e-8766-bbb66b330e4f\" target=\"_top\" title=\"psysml:ca7307c2-0235-4c1e-8766-bbb66b330e4f\" xlink:actuate=\"onRequest\" xlink:href=\"psysml:ca7307c2-0235-4c1e-8766-bbb66b330e4f\" xlink:show=\"new\" xlink:title=\"psysml:ca7307c2-0235-4c1e-8766-bbb66b330e4f\" xlink:type=\"simple\"><path d=\"M141,198.22 C141,210 141,224.69 141,238.48 \" fill=\"none\" id=\"E11-to-E3\" style=\"stroke:#181818;stroke-width:1.0;\"/><polygon fill=\"#FFFFFF\" points=\"141,258.83,134,239.83,148,239.83,141,258.83\" style=\"stroke:#181818;stroke-width:1.0;\"/><ellipse cx=\"136\" cy=\"234.13\" fill=\"#181818\" rx=\"2\" ry=\"2\" style=\"stroke:#181818;stroke-width:1.0;\"/><ellipse cx=\"146\" cy=\"234.13\" fill=\"#181818\" rx=\"2\" ry=\"2\" style=\"stroke:#181818;stroke-width:1.0;\"/></a></g><!--MD5=[4b4a8daa1eae5e338caf0d76bc944e4b]\n",
       "@startuml\r\n",
       "skin sysmlbw\r\n",
       "skinparam monochrome true\r\n",
       "skinparam wrapWidth 300\r\n",
       "hide circle\r\n",
       "top to bottom direction\r\n",
       "\r\n",
       "package \"ItemTest\" as E1  [[psysml:cd87d2b7-4fa1-4c1b-a4f6-af691b0dec58 ]]  {\r\n",
       "comp usage \"f: A  \" as E2  <<(T,blue) item>> [[psysml:a6e7d788-746b-466d-b844-23a78300b1ae ]] {\r\n",
       "}\r\n",
       "comp def \"A\" as E3  <<(T,blue) item  def>> [[psysml:7645df02-ea24-41fb-927b-82e0988a44f2 ]] {\r\n",
       "}\r\n",
       "comp usage \"b: B  \" as E4  <<(T,blue) item>> [[psysml:426ed2e2-6591-4c8f-a505-52d546190911 ]] {\r\n",
       "}\r\n",
       "comp usage \"c: C  \" as E5  <<(T,blue) part>> [[psysml:331ec08e-03d4-4ef2-9768-da2cb6dfa326 ]] {\r\n",
       "}\r\n",
       "comp def \"<i>B</i>\" as E6  <<(T,blue) item  def>> [[psysml:1c5a109b-6d3b-4425-b763-85184515822e ]] {\r\n",
       "}\r\n",
       "comp usage \"<i>a</i>: A  \" as E7  <<(T,blue) part>> [[psysml:3d3f18ff-1114-439a-91a9-78796a10458c ]] {\r\n",
       "}\r\n",
       "comp def \"C\" as E8  <<(T,blue) part  def>> [[psysml:1568c6af-b382-4c7f-b02a-0d87dd86c0f5 ]] {\r\n",
       "}\r\n",
       "comp def \"P\" as E9  <<(T,blue) port  def>> [[psysml:7b3481ba-f47b-4c12-87df-4d6f620e6d00 ]] {\r\n",
       "}\r\n",
       "comp usage \"a1: A  \" as E10  <<(T,blue) item>> [[psysml:116f794f-fd18-4d42-8d94-9abf783d43f0 ]] {\r\n",
       "}\r\n",
       "comp usage \"a2: A  \" as E11  <<(T,blue) item>> [[psysml:16572df6-eec3-489a-80d1-3b65de425cbd ]] {\r\n",
       "}\r\n",
       "}\r\n",
       "E2 - -:|> E3 [[psysml:70c9c3cf-ded5-4fad-940c-650d810049d2 ]] \r\n",
       "E3 *- - E4 [[psysml:1e28e0ed-b5c0-4fac-98b2-855fbe266c1f ]] \r\n",
       "E3 o- - E5 [[psysml:b5974af5-b28c-458b-89e4-95d46de68236 ]] \r\n",
       "E4 - -:|> E6 [[psysml:83940360-bfcd-4ab6-95b9-9006ad1a30a4 ]] \r\n",
       "E6 *- - E7 [[psysml:c7c30ff0-7abe-445a-9147-4c620b104f3e ]] \r\n",
       "E7 - -:|> E3 [[psysml:4a79bdb3-77e8-4e9c-befa-ce9a0c7716db ]] \r\n",
       "E5 - -:|> E8 [[psysml:d776694e-c79b-404c-b561-ae1c1a2e3f3d ]] \r\n",
       "E8 o- - E3 [[psysml:c4551329-8b56-4fd0-9fbf-f2d280f6b39b ]] : y\r\n",
       "E8 o- - E6 [[psysml:c4551329-8b56-4fd0-9fbf-f2d280f6b39b ]] : y\r\n",
       "E9 o- - E10 [[psysml:5a5abb4f-4a57-47f4-8d13-1f5dca85ed3b ]] \r\n",
       "E10 - -:|> E3 [[psysml:d7f66802-941a-4496-884a-36d82493c03e ]] \r\n",
       "E9 o- - E11 [[psysml:8187499b-9a51-4939-bbf5-c8a0ee670e5b ]] \r\n",
       "E11 - -:|> E3 [[psysml:ca7307c2-0235-4c1e-8766-bbb66b330e4f ]] \r\n",
       "@enduml\r\n",
       "\n",
       "PlantUML version 1.2022.7(Mon Aug 22 17:01:30 UTC 2022)\n",
       "(EPL source distribution)\n",
       "Java Runtime: OpenJDK Runtime Environment\n",
       "JVM: OpenJDK 64-Bit Server VM\n",
       "Default Encoding: UTF-8\n",
       "Language: en\n",
       "Country: null\n",
       "--></g></svg>"
      ]
     },
     "execution_count": 45,
     "metadata": {},
     "output_type": "execute_result"
    }
   ],
   "source": [
    "%viz --style=\"TB\" --view=\"Tree\" \"ItemTest\""
   ]
  },
  {
   "cell_type": "code",
   "execution_count": 46,
   "id": "a4acb898",
   "metadata": {
    "execution": {
     "iopub.execute_input": "2024-12-16T14:15:18.797530Z",
     "iopub.status.busy": "2024-12-16T14:15:18.797299Z",
     "iopub.status.idle": "2024-12-16T14:15:18.801449Z",
     "shell.execute_reply": "2024-12-16T14:15:18.801264Z"
    }
   },
   "outputs": [
    {
     "data": {
      "image/svg+xml": [
       "<?xml version=\"1.0\" encoding=\"UTF-8\" standalone=\"no\"?><svg xmlns=\"http://www.w3.org/2000/svg\" xmlns:xlink=\"http://www.w3.org/1999/xlink\" contentStyleType=\"text/css\" height=\"10px\" preserveAspectRatio=\"none\" style=\"width:10px;height:10px;background:#FFFFFF;\" version=\"1.1\" viewBox=\"0 0 10 10\" width=\"10px\" zoomAndPan=\"magnify\"><defs/><g><!--MD5=[457d54036ad86991b1ebb71db2c9a3b1]\n",
       "@startuml\r\n",
       "skin sysmlbw\r\n",
       "skinparam monochrome true\r\n",
       "skinparam wrapWidth 300\r\n",
       "hide circle\r\n",
       "top to bottom direction\r\n",
       "\r\n",
       "@enduml\r\n",
       "\n",
       "PlantUML version 1.2022.7(Mon Aug 22 17:01:30 UTC 2022)\n",
       "(EPL source distribution)\n",
       "Java Runtime: OpenJDK Runtime Environment\n",
       "JVM: OpenJDK 64-Bit Server VM\n",
       "Default Encoding: UTF-8\n",
       "Language: en\n",
       "Country: null\n",
       "--></g></svg>"
      ]
     },
     "execution_count": 46,
     "metadata": {},
     "output_type": "execute_result"
    }
   ],
   "source": [
    "%viz --style=\"TB\" --view=\"State\" \"ItemTest\""
   ]
  },
  {
   "cell_type": "code",
   "execution_count": 47,
   "id": "d558e47a",
   "metadata": {
    "execution": {
     "iopub.execute_input": "2024-12-16T14:15:18.857936Z",
     "iopub.status.busy": "2024-12-16T14:15:18.857699Z",
     "iopub.status.idle": "2024-12-16T14:15:18.875787Z",
     "shell.execute_reply": "2024-12-16T14:15:18.875601Z"
    }
   },
   "outputs": [
    {
     "data": {
      "image/svg+xml": [
       "<?xml version=\"1.0\" encoding=\"UTF-8\" standalone=\"no\"?><svg xmlns=\"http://www.w3.org/2000/svg\" xmlns:xlink=\"http://www.w3.org/1999/xlink\" contentStyleType=\"text/css\" height=\"245px\" preserveAspectRatio=\"none\" style=\"width:478px;height:245px;background:#FFFFFF;\" version=\"1.1\" viewBox=\"0 0 478 245\" width=\"478px\" zoomAndPan=\"magnify\"><defs/><g><!--MD5=[fbc87193dbaf4d95561dea2c320d4a47]\n",
       "cluster E1--><g id=\"cluster_E1\"><a href=\"psysml:cd87d2b7-4fa1-4c1b-a4f6-af691b0dec58\" target=\"_top\" title=\"psysml:cd87d2b7-4fa1-4c1b-a4f6-af691b0dec58\" xlink:actuate=\"onRequest\" xlink:href=\"psysml:cd87d2b7-4fa1-4c1b-a4f6-af691b0dec58\" xlink:show=\"new\" xlink:title=\"psysml:cd87d2b7-4fa1-4c1b-a4f6-af691b0dec58\" xlink:type=\"simple\"><polygon fill=\"none\" points=\"16,6,86.5,6,93.5,28.2969,461,28.2969,461,238,16,238,16,6\" style=\"stroke:#000000;stroke-width:1.5;\"/><line style=\"stroke:#000000;stroke-width:1.5;\" x1=\"16\" x2=\"93.5\" y1=\"28.2969\" y2=\"28.2969\"/><text fill=\"#000000\" font-family=\"sans-serif\" font-size=\"14\" font-weight=\"bold\" lengthAdjust=\"spacing\" textLength=\"64.5\" x=\"20\" y=\"20.9951\">ItemTest</text></a></g><!--MD5=[de5ec2e2e8f62f467e546659f5068c88]\n",
       "cluster E5--><g id=\"cluster_E5\"><a href=\"psysml:1568c6af-b382-4c7f-b02a-0d87dd86c0f5\" target=\"_top\" title=\"psysml:1568c6af-b382-4c7f-b02a-0d87dd86c0f5\" xlink:actuate=\"onRequest\" xlink:href=\"psysml:1568c6af-b382-4c7f-b02a-0d87dd86c0f5\" xlink:show=\"new\" xlink:title=\"psysml:1568c6af-b382-4c7f-b02a-0d87dd86c0f5\" xlink:type=\"simple\"><rect fill=\"#FFFFFF\" height=\"112\" id=\"E5\" style=\"stroke:#383838;stroke-width:1.5;\" width=\"114\" x=\"323\" y=\"49\"/><text fill=\"#000000\" font-family=\"sans-serif\" font-size=\"12\" font-style=\"italic\" lengthAdjust=\"spacing\" textLength=\"68\" x=\"346\" y=\"65.1387\">«part  def»</text><text fill=\"#000000\" font-family=\"sans-serif\" font-size=\"14\" lengthAdjust=\"spacing\" textLength=\"10\" x=\"375\" y=\"80.9639\">C</text><line style=\"stroke:#383838;stroke-width:1.0;\" x1=\"323\" x2=\"437\" y1=\"89.2656\" y2=\"89.2656\"/></a></g><g><a href=\"psysml:7645df02-ea24-41fb-927b-82e0988a44f2\" target=\"_top\" title=\"psysml:7645df02-ea24-41fb-927b-82e0988a44f2\" xlink:actuate=\"onRequest\" xlink:href=\"psysml:7645df02-ea24-41fb-927b-82e0988a44f2\" xlink:show=\"new\" xlink:title=\"psysml:7645df02-ea24-41fb-927b-82e0988a44f2\" xlink:type=\"simple\"><rect fill=\"#FFFFFF\" height=\"45.2656\" id=\"E3\" style=\"stroke:#383838;stroke-width:1.5;\" width=\"76\" x=\"32\" y=\"177\"/><text fill=\"#000000\" font-family=\"sans-serif\" font-size=\"12\" font-style=\"italic\" lengthAdjust=\"spacing\" textLength=\"69\" x=\"35.5\" y=\"193.1387\">«item  def»</text><text fill=\"#000000\" font-family=\"sans-serif\" font-size=\"14\" lengthAdjust=\"spacing\" textLength=\"9\" x=\"65.5\" y=\"208.9639\">A</text></a></g><g><a href=\"psysml:1c5a109b-6d3b-4425-b763-85184515822e\" target=\"_top\" title=\"psysml:1c5a109b-6d3b-4425-b763-85184515822e\" xlink:actuate=\"onRequest\" xlink:href=\"psysml:1c5a109b-6d3b-4425-b763-85184515822e\" xlink:show=\"new\" xlink:title=\"psysml:1c5a109b-6d3b-4425-b763-85184515822e\" xlink:type=\"simple\"><rect fill=\"#FFFFFF\" height=\"45.2656\" id=\"E4\" style=\"stroke:#383838;stroke-width:1.5;\" width=\"76\" x=\"228\" y=\"100\"/><text fill=\"#000000\" font-family=\"sans-serif\" font-size=\"12\" font-style=\"italic\" lengthAdjust=\"spacing\" textLength=\"69\" x=\"231.5\" y=\"116.1387\">«item  def»</text><text fill=\"#000000\" font-family=\"sans-serif\" font-size=\"14\" font-style=\"italic\" lengthAdjust=\"spacing\" textLength=\"10\" x=\"261\" y=\"131.9639\">B</text></a></g><g><a href=\"psysml:7b3481ba-f47b-4c12-87df-4d6f620e6d00\" target=\"_top\" title=\"psysml:7b3481ba-f47b-4c12-87df-4d6f620e6d00\" xlink:actuate=\"onRequest\" xlink:href=\"psysml:7b3481ba-f47b-4c12-87df-4d6f620e6d00\" xlink:show=\"new\" xlink:title=\"psysml:7b3481ba-f47b-4c12-87df-4d6f620e6d00\" xlink:type=\"simple\"><rect fill=\"#FFFFFF\" height=\"45.2656\" id=\"E7\" style=\"stroke:#383838;stroke-width:1.5;\" width=\"75\" x=\"117.5\" y=\"100\"/><text fill=\"#000000\" font-family=\"sans-serif\" font-size=\"12\" font-style=\"italic\" lengthAdjust=\"spacing\" textLength=\"68\" x=\"121\" y=\"116.1387\">«port  def»</text><text fill=\"#000000\" font-family=\"sans-serif\" font-size=\"14\" lengthAdjust=\"spacing\" textLength=\"9\" x=\"150.5\" y=\"131.9639\">P</text></a></g><g><a href=\"psysml:a6e7d788-746b-466d-b844-23a78300b1ae\" target=\"_top\" title=\"psysml:a6e7d788-746b-466d-b844-23a78300b1ae\" xlink:actuate=\"onRequest\" xlink:href=\"psysml:a6e7d788-746b-466d-b844-23a78300b1ae\" xlink:show=\"new\" xlink:title=\"psysml:a6e7d788-746b-466d-b844-23a78300b1ae\" xlink:type=\"simple\"><rect fill=\"#FFFFFF\" height=\"45.2656\" id=\"E2\" rx=\"10\" ry=\"10\" style=\"stroke:#383838;stroke-width:1.5;\" width=\"50\" x=\"32\" y=\"100\"/><text fill=\"#000000\" font-family=\"sans-serif\" font-size=\"12\" font-style=\"italic\" lengthAdjust=\"spacing\" textLength=\"41\" x=\"36.5\" y=\"116.1387\">«item»</text><text fill=\"#000000\" font-family=\"sans-serif\" font-size=\"14\" lengthAdjust=\"spacing\" textLength=\"22\" x=\"46\" y=\"131.9639\">f: A</text></a></g><g><a href=\"psysml:c4551329-8b56-4fd0-9fbf-f2d280f6b39b\" target=\"_top\" title=\"psysml:c4551329-8b56-4fd0-9fbf-f2d280f6b39b\" xlink:actuate=\"onRequest\" xlink:href=\"psysml:c4551329-8b56-4fd0-9fbf-f2d280f6b39b\" xlink:show=\"new\" xlink:title=\"psysml:c4551329-8b56-4fd0-9fbf-f2d280f6b39b\" xlink:type=\"simple\"><rect fill=\"#FFFFFF\" height=\"45.2656\" id=\"E6\" rx=\"10\" ry=\"10\" style=\"stroke:#383838;stroke-width:1.5;\" width=\"82\" x=\"339\" y=\"100\"/><text fill=\"#000000\" font-family=\"sans-serif\" font-size=\"12\" font-style=\"italic\" lengthAdjust=\"spacing\" textLength=\"75\" x=\"342.5\" y=\"116.1387\">«reference»</text><text fill=\"#000000\" font-family=\"sans-serif\" font-size=\"14\" lengthAdjust=\"spacing\" textLength=\"43\" x=\"354.5\" y=\"131.9639\">y: A, B</text></a></g><!--MD5=[2720a5a1f2c3fca2055b230370638851]\n",
       "link E2 to E3--><g id=\"link_E2_E3\"><a href=\"psysml:70c9c3cf-ded5-4fad-940c-650d810049d2\" target=\"_top\" title=\"psysml:70c9c3cf-ded5-4fad-940c-650d810049d2\" xlink:actuate=\"onRequest\" xlink:href=\"psysml:70c9c3cf-ded5-4fad-940c-650d810049d2\" xlink:show=\"new\" xlink:title=\"psysml:70c9c3cf-ded5-4fad-940c-650d810049d2\" xlink:type=\"simple\"><path d=\"M60.76,145.19 C61.41,148.92 62.1,152.91 62.8,156.96 \" fill=\"none\" id=\"E2-to-E3\" style=\"stroke:#181818;stroke-width:1.0;\"/><polygon fill=\"#FFFFFF\" points=\"66.25,176.86,56.0959,159.3416,69.8886,156.9411,66.25,176.86\" style=\"stroke:#181818;stroke-width:1.0;\"/><ellipse cx=\"57.0889\" cy=\"153.3831\" fill=\"#181818\" rx=\"2\" ry=\"2\" style=\"stroke:#181818;stroke-width:1.0;\"/><ellipse cx=\"66.9408\" cy=\"151.6685\" fill=\"#181818\" rx=\"2\" ry=\"2\" style=\"stroke:#181818;stroke-width:1.0;\"/></a></g><!--MD5=[cb518b9c78bc95694e623d9a24e47235]\n",
       "@startuml\r\n",
       "skin sysmlbw\r\n",
       "skinparam monochrome true\r\n",
       "skinparam wrapWidth 300\r\n",
       "hide circle\r\n",
       "top to bottom direction\r\n",
       "skinparam ranksep 10\r\n",
       "skinparam rectangle {\r\n",
       " backgroundColor<<block>> LightGreen\r\n",
       "}\r\n",
       "\r\n",
       "package \"ItemTest\" as E1  [[psysml:cd87d2b7-4fa1-4c1b-a4f6-af691b0dec58 ]]  {\r\n",
       "rec usage \"f: A\" as E2  <<(T,blue) item>> [[psysml:a6e7d788-746b-466d-b844-23a78300b1ae ]] {\r\n",
       "}\r\n",
       "def \"A\" as E3  <<(T,blue) item  def>> [[psysml:7645df02-ea24-41fb-927b-82e0988a44f2 ]] \r\n",
       "def \"<i>B</i>\" as E4  <<(T,blue) item  def>> [[psysml:1c5a109b-6d3b-4425-b763-85184515822e ]] \r\n",
       "rec def \"C\" as E5  <<(T,blue) part  def>> [[psysml:1568c6af-b382-4c7f-b02a-0d87dd86c0f5 ]] {\r\n",
       "rec usage \"y: A, B  \" as E6  <<(T,blue) reference>> [[psysml:c4551329-8b56-4fd0-9fbf-f2d280f6b39b ]] {\r\n",
       "}\r\n",
       "\r\n",
       "}\r\n",
       "def \"P\" as E7  <<(T,blue) port  def>> [[psysml:7b3481ba-f47b-4c12-87df-4d6f620e6d00 ]] \r\n",
       "}\r\n",
       "E2 - -:|> E3 [[psysml:70c9c3cf-ded5-4fad-940c-650d810049d2 ]] \r\n",
       "@enduml\r\n",
       "\n",
       "PlantUML version 1.2022.7(Mon Aug 22 17:01:30 UTC 2022)\n",
       "(EPL source distribution)\n",
       "Java Runtime: OpenJDK Runtime Environment\n",
       "JVM: OpenJDK 64-Bit Server VM\n",
       "Default Encoding: UTF-8\n",
       "Language: en\n",
       "Country: null\n",
       "--></g></svg>"
      ]
     },
     "execution_count": 47,
     "metadata": {},
     "output_type": "execute_result"
    }
   ],
   "source": [
    "%viz --style=\"TB\" --view=\"Interconnection\" \"ItemTest\""
   ]
  },
  {
   "cell_type": "code",
   "execution_count": 48,
   "id": "6bb8b6bf",
   "metadata": {
    "execution": {
     "iopub.execute_input": "2024-12-16T14:15:18.931725Z",
     "iopub.status.busy": "2024-12-16T14:15:18.931492Z",
     "iopub.status.idle": "2024-12-16T14:15:18.936551Z",
     "shell.execute_reply": "2024-12-16T14:15:18.936690Z"
    }
   },
   "outputs": [
    {
     "data": {
      "image/svg+xml": [
       "<?xml version=\"1.0\" encoding=\"UTF-8\" standalone=\"no\"?><svg xmlns=\"http://www.w3.org/2000/svg\" xmlns:xlink=\"http://www.w3.org/1999/xlink\" contentStyleType=\"text/css\" height=\"10px\" preserveAspectRatio=\"none\" style=\"width:10px;height:10px;background:#FFFFFF;\" version=\"1.1\" viewBox=\"0 0 10 10\" width=\"10px\" zoomAndPan=\"magnify\"><defs/><g><!--MD5=[c8dde5d066d102a500cd081cce1d9948]\n",
       "@startuml\r\n",
       "skin sysmlbw\r\n",
       "skinparam monochrome true\r\n",
       "skinparam wrapWidth 300\r\n",
       "hide circle\r\n",
       "top to bottom direction\r\n",
       "skinparam ranksep 8\r\n",
       "\r\n",
       "@enduml\r\n",
       "\n",
       "PlantUML version 1.2022.7(Mon Aug 22 17:01:30 UTC 2022)\n",
       "(EPL source distribution)\n",
       "Java Runtime: OpenJDK Runtime Environment\n",
       "JVM: OpenJDK 64-Bit Server VM\n",
       "Default Encoding: UTF-8\n",
       "Language: en\n",
       "Country: null\n",
       "--></g></svg>"
      ]
     },
     "execution_count": 48,
     "metadata": {},
     "output_type": "execute_result"
    }
   ],
   "source": [
    "%viz --style=\"TB\" --view=\"Action\" \"ItemTest\""
   ]
  },
  {
   "cell_type": "code",
   "execution_count": 49,
   "id": "1fe1c328",
   "metadata": {
    "execution": {
     "iopub.execute_input": "2024-12-16T14:15:18.992618Z",
     "iopub.status.busy": "2024-12-16T14:15:18.992384Z",
     "iopub.status.idle": "2024-12-16T14:15:18.997087Z",
     "shell.execute_reply": "2024-12-16T14:15:18.996899Z"
    }
   },
   "outputs": [
    {
     "data": {
      "image/svg+xml": [
       "<?xml version=\"1.0\" encoding=\"UTF-8\" standalone=\"no\"?><svg xmlns=\"http://www.w3.org/2000/svg\" xmlns:xlink=\"http://www.w3.org/1999/xlink\" contentStyleType=\"text/css\" height=\"10px\" preserveAspectRatio=\"none\" style=\"width:10px;height:10px;background:#FFFFFF;\" version=\"1.1\" viewBox=\"0 0 10 10\" width=\"10px\" zoomAndPan=\"magnify\"><defs/><g><!--MD5=[228a58293b408a2cee091b1559da5a28]\n",
       "@startuml\r\n",
       "skin sysmlbw\r\n",
       "skinparam monochrome true\r\n",
       "skinparam wrapWidth 300\r\n",
       "hide circle\r\n",
       "top to bottom direction\r\n",
       "skinparam roundcorner 20\r\n",
       "skinparam BoxPadding 20\r\n",
       "skinparam SequenceBoxBackgroundColor #white\r\n",
       "skinparam style strictuml\r\n",
       "skinparam maxMessageSize 100\r\n",
       "\r\n",
       "@enduml\r\n",
       "\n",
       "PlantUML version 1.2022.7(Mon Aug 22 17:01:30 UTC 2022)\n",
       "(EPL source distribution)\n",
       "Java Runtime: OpenJDK Runtime Environment\n",
       "JVM: OpenJDK 64-Bit Server VM\n",
       "Default Encoding: UTF-8\n",
       "Language: en\n",
       "Country: null\n",
       "--></g></svg>"
      ]
     },
     "execution_count": 49,
     "metadata": {},
     "output_type": "execute_result"
    }
   ],
   "source": [
    "%viz --style=\"TB\" --view=\"Sequence\" \"ItemTest\""
   ]
  },
  {
   "cell_type": "code",
   "execution_count": 50,
   "id": "78ca8839",
   "metadata": {
    "execution": {
     "iopub.execute_input": "2024-12-16T14:15:19.053148Z",
     "iopub.status.busy": "2024-12-16T14:15:19.052894Z",
     "iopub.status.idle": "2024-12-16T14:15:19.076988Z",
     "shell.execute_reply": "2024-12-16T14:15:19.075968Z"
    }
   },
   "outputs": [
    {
     "data": {
      "image/svg+xml": [
       "<?xml version=\"1.0\" encoding=\"UTF-8\" standalone=\"no\"?><svg xmlns=\"http://www.w3.org/2000/svg\" xmlns:xlink=\"http://www.w3.org/1999/xlink\" contentStyleType=\"text/css\" height=\"829px\" preserveAspectRatio=\"none\" style=\"width:277px;height:829px;background:#FFFFFF;\" version=\"1.1\" viewBox=\"0 0 277 829\" width=\"277px\" zoomAndPan=\"magnify\"><defs/><g><!--MD5=[fbc87193dbaf4d95561dea2c320d4a47]\n",
       "cluster E1--><g id=\"cluster_E1\"><a href=\"psysml:cd87d2b7-4fa1-4c1b-a4f6-af691b0dec58\" target=\"_top\" title=\"psysml:cd87d2b7-4fa1-4c1b-a4f6-af691b0dec58\" xlink:actuate=\"onRequest\" xlink:href=\"psysml:cd87d2b7-4fa1-4c1b-a4f6-af691b0dec58\" xlink:show=\"new\" xlink:title=\"psysml:cd87d2b7-4fa1-4c1b-a4f6-af691b0dec58\" xlink:type=\"simple\"><polygon fill=\"none\" points=\"16,6,86.5,6,93.5,28.2969,260,28.2969,260,822,16,822,16,6\" style=\"stroke:#000000;stroke-width:1.5;\"/><line style=\"stroke:#000000;stroke-width:1.5;\" x1=\"16\" x2=\"93.5\" y1=\"28.2969\" y2=\"28.2969\"/><text fill=\"#000000\" font-family=\"sans-serif\" font-size=\"14\" font-weight=\"bold\" lengthAdjust=\"spacing\" textLength=\"64.5\" x=\"20\" y=\"20.9951\">ItemTest</text></a></g><!--MD5=[b4997ac47864f28c2f74865a473b2911]\n",
       "class E2--><a href=\"psysml:a6e7d788-746b-466d-b844-23a78300b1ae\" target=\"_top\" title=\"psysml:a6e7d788-746b-466d-b844-23a78300b1ae\" xlink:actuate=\"onRequest\" xlink:href=\"psysml:a6e7d788-746b-466d-b844-23a78300b1ae\" xlink:show=\"new\" xlink:title=\"psysml:a6e7d788-746b-466d-b844-23a78300b1ae\" xlink:type=\"simple\"><g id=\"elem_E2\"><rect fill=\"#FFFFFF\" height=\"48.2656\" id=\"E2\" rx=\"10\" ry=\"10\" style=\"stroke:#181818;stroke-width:0.5;\" width=\"43\" x=\"200.5\" y=\"150\"/><text fill=\"#000000\" font-family=\"sans-serif\" font-size=\"12\" font-style=\"italic\" lengthAdjust=\"spacing\" textLength=\"41\" x=\"201.5\" y=\"166.1387\">«item»</text><text fill=\"#000000\" font-family=\"sans-serif\" font-size=\"14\" lengthAdjust=\"spacing\" textLength=\"22\" x=\"207\" y=\"181.9639\">f: A</text><line style=\"stroke:#181818;stroke-width:0.5;\" x1=\"201.5\" x2=\"242.5\" y1=\"190.2656\" y2=\"190.2656\"/></g></a><!--MD5=[09b614a08d8cba4a07c9adeb5e0fee81]\n",
       "class E3--><a href=\"psysml:7645df02-ea24-41fb-927b-82e0988a44f2\" target=\"_top\" title=\"psysml:7645df02-ea24-41fb-927b-82e0988a44f2\" xlink:actuate=\"onRequest\" xlink:href=\"psysml:7645df02-ea24-41fb-927b-82e0988a44f2\" xlink:show=\"new\" xlink:title=\"psysml:7645df02-ea24-41fb-927b-82e0988a44f2\" xlink:type=\"simple\"><g id=\"elem_E3\"><rect fill=\"#FFFFFF\" height=\"48.2656\" id=\"E3\" style=\"stroke:#181818;stroke-width:0.5;\" width=\"71\" x=\"105.5\" y=\"259\"/><text fill=\"#000000\" font-family=\"sans-serif\" font-size=\"12\" font-style=\"italic\" lengthAdjust=\"spacing\" textLength=\"69\" x=\"106.5\" y=\"275.1387\">«item  def»</text><text fill=\"#000000\" font-family=\"sans-serif\" font-size=\"14\" lengthAdjust=\"spacing\" textLength=\"9\" x=\"136.5\" y=\"290.9639\">A</text><line style=\"stroke:#181818;stroke-width:0.5;\" x1=\"106.5\" x2=\"175.5\" y1=\"299.2656\" y2=\"299.2656\"/></g></a><!--MD5=[ebbe1d658d1005bcc118a6aa81145e00]\n",
       "class E4--><a href=\"psysml:426ed2e2-6591-4c8f-a505-52d546190911\" target=\"_top\" title=\"psysml:426ed2e2-6591-4c8f-a505-52d546190911\" xlink:actuate=\"onRequest\" xlink:href=\"psysml:426ed2e2-6591-4c8f-a505-52d546190911\" xlink:show=\"new\" xlink:title=\"psysml:426ed2e2-6591-4c8f-a505-52d546190911\" xlink:type=\"simple\"><g id=\"elem_E4\"><rect fill=\"#FFFFFF\" height=\"48.2656\" id=\"E4\" rx=\"10\" ry=\"10\" style=\"stroke:#181818;stroke-width:0.5;\" width=\"43\" x=\"48.5\" y=\"446\"/><text fill=\"#000000\" font-family=\"sans-serif\" font-size=\"12\" font-style=\"italic\" lengthAdjust=\"spacing\" textLength=\"41\" x=\"49.5\" y=\"462.1387\">«item»</text><text fill=\"#000000\" font-family=\"sans-serif\" font-size=\"14\" lengthAdjust=\"spacing\" textLength=\"28\" x=\"52\" y=\"477.9639\">b: B</text><line style=\"stroke:#181818;stroke-width:0.5;\" x1=\"49.5\" x2=\"90.5\" y1=\"486.2656\" y2=\"486.2656\"/></g></a><!--MD5=[270fce915f116d4de14055a7c1d9a0f3]\n",
       "class E5--><a href=\"psysml:331ec08e-03d4-4ef2-9768-da2cb6dfa326\" target=\"_top\" title=\"psysml:331ec08e-03d4-4ef2-9768-da2cb6dfa326\" xlink:actuate=\"onRequest\" xlink:href=\"psysml:331ec08e-03d4-4ef2-9768-da2cb6dfa326\" xlink:show=\"new\" xlink:title=\"psysml:331ec08e-03d4-4ef2-9768-da2cb6dfa326\" xlink:type=\"simple\"><g id=\"elem_E5\"><rect fill=\"#FFFFFF\" height=\"48.2656\" id=\"E5\" rx=\"10\" ry=\"10\" style=\"stroke:#181818;stroke-width:0.5;\" width=\"42\" x=\"157\" y=\"368\"/><text fill=\"#000000\" font-family=\"sans-serif\" font-size=\"12\" font-style=\"italic\" lengthAdjust=\"spacing\" textLength=\"40\" x=\"158\" y=\"384.1387\">«part»</text><text fill=\"#000000\" font-family=\"sans-serif\" font-size=\"14\" lengthAdjust=\"spacing\" textLength=\"27\" x=\"160.5\" y=\"399.9639\">c: C</text><line style=\"stroke:#181818;stroke-width:0.5;\" x1=\"158\" x2=\"198\" y1=\"408.2656\" y2=\"408.2656\"/></g></a><!--MD5=[60a26617385b1d2d0262a64233df1f8d]\n",
       "class E6--><a href=\"psysml:1c5a109b-6d3b-4425-b763-85184515822e\" target=\"_top\" title=\"psysml:1c5a109b-6d3b-4425-b763-85184515822e\" xlink:actuate=\"onRequest\" xlink:href=\"psysml:1c5a109b-6d3b-4425-b763-85184515822e\" xlink:show=\"new\" xlink:title=\"psysml:1c5a109b-6d3b-4425-b763-85184515822e\" xlink:type=\"simple\"><g id=\"elem_E6\"><rect fill=\"#FFFFFF\" height=\"48.2656\" id=\"E6\" style=\"stroke:#181818;stroke-width:0.5;\" width=\"71\" x=\"116.5\" y=\"649\"/><text fill=\"#000000\" font-family=\"sans-serif\" font-size=\"12\" font-style=\"italic\" lengthAdjust=\"spacing\" textLength=\"69\" x=\"117.5\" y=\"665.1387\">«item  def»</text><text fill=\"#000000\" font-family=\"sans-serif\" font-size=\"14\" font-style=\"italic\" lengthAdjust=\"spacing\" textLength=\"10\" x=\"147\" y=\"680.9639\">B</text><line style=\"stroke:#181818;stroke-width:0.5;\" x1=\"117.5\" x2=\"186.5\" y1=\"689.2656\" y2=\"689.2656\"/></g></a><!--MD5=[2156ba9850f5573cc1fc38a6a4b2f02b]\n",
       "class E7--><a href=\"psysml:3d3f18ff-1114-439a-91a9-78796a10458c\" target=\"_top\" title=\"psysml:3d3f18ff-1114-439a-91a9-78796a10458c\" xlink:actuate=\"onRequest\" xlink:href=\"psysml:3d3f18ff-1114-439a-91a9-78796a10458c\" xlink:show=\"new\" xlink:title=\"psysml:3d3f18ff-1114-439a-91a9-78796a10458c\" xlink:type=\"simple\"><g id=\"elem_E7\"><rect fill=\"#FFFFFF\" height=\"48.2656\" id=\"E7\" rx=\"10\" ry=\"10\" style=\"stroke:#181818;stroke-width:0.5;\" width=\"42\" x=\"167\" y=\"758\"/><text fill=\"#000000\" font-family=\"sans-serif\" font-size=\"12\" font-style=\"italic\" lengthAdjust=\"spacing\" textLength=\"40\" x=\"168\" y=\"774.1387\">«part»</text><text fill=\"#000000\" font-family=\"sans-serif\" font-size=\"14\" font-style=\"italic\" lengthAdjust=\"spacing\" textLength=\"8\" x=\"171\" y=\"789.9639\">a</text><text fill=\"#000000\" font-family=\"sans-serif\" font-size=\"14\" lengthAdjust=\"spacing\" textLength=\"18\" x=\"179\" y=\"789.9639\">: A</text><line style=\"stroke:#181818;stroke-width:0.5;\" x1=\"168\" x2=\"208\" y1=\"798.2656\" y2=\"798.2656\"/></g></a><!--MD5=[b9389687b975829384b498ac4b7476b2]\n",
       "class E8--><a href=\"psysml:1568c6af-b382-4c7f-b02a-0d87dd86c0f5\" target=\"_top\" title=\"psysml:1568c6af-b382-4c7f-b02a-0d87dd86c0f5\" xlink:actuate=\"onRequest\" xlink:href=\"psysml:1568c6af-b382-4c7f-b02a-0d87dd86c0f5\" xlink:show=\"new\" xlink:title=\"psysml:1568c6af-b382-4c7f-b02a-0d87dd86c0f5\" xlink:type=\"simple\"><g id=\"elem_E8\"><rect fill=\"#FFFFFF\" height=\"48.2656\" id=\"E8\" style=\"stroke:#181818;stroke-width:0.5;\" width=\"70\" x=\"117\" y=\"524\"/><text fill=\"#000000\" font-family=\"sans-serif\" font-size=\"12\" font-style=\"italic\" lengthAdjust=\"spacing\" textLength=\"68\" x=\"118\" y=\"540.1387\">«part  def»</text><text fill=\"#000000\" font-family=\"sans-serif\" font-size=\"14\" lengthAdjust=\"spacing\" textLength=\"10\" x=\"147\" y=\"555.9639\">C</text><line style=\"stroke:#181818;stroke-width:0.5;\" x1=\"118\" x2=\"186\" y1=\"564.2656\" y2=\"564.2656\"/></g></a><!--MD5=[fd4143e9d270a159db93a4ea2a975926]\n",
       "class E9--><a href=\"psysml:7b3481ba-f47b-4c12-87df-4d6f620e6d00\" target=\"_top\" title=\"psysml:7b3481ba-f47b-4c12-87df-4d6f620e6d00\" xlink:actuate=\"onRequest\" xlink:href=\"psysml:7b3481ba-f47b-4c12-87df-4d6f620e6d00\" xlink:show=\"new\" xlink:title=\"psysml:7b3481ba-f47b-4c12-87df-4d6f620e6d00\" xlink:type=\"simple\"><g id=\"elem_E9\"><rect fill=\"#FFFFFF\" height=\"48.2656\" id=\"E9\" style=\"stroke:#181818;stroke-width:0.5;\" width=\"70\" x=\"69\" y=\"41\"/><text fill=\"#000000\" font-family=\"sans-serif\" font-size=\"12\" font-style=\"italic\" lengthAdjust=\"spacing\" textLength=\"68\" x=\"70\" y=\"57.1387\">«port  def»</text><text fill=\"#000000\" font-family=\"sans-serif\" font-size=\"14\" lengthAdjust=\"spacing\" textLength=\"9\" x=\"99.5\" y=\"72.9639\">P</text><line style=\"stroke:#181818;stroke-width:0.5;\" x1=\"70\" x2=\"138\" y1=\"81.2656\" y2=\"81.2656\"/></g></a><!--MD5=[96f4274e9e20536e775497830990834d]\n",
       "class E10--><a href=\"psysml:116f794f-fd18-4d42-8d94-9abf783d43f0\" target=\"_top\" title=\"psysml:116f794f-fd18-4d42-8d94-9abf783d43f0\" xlink:actuate=\"onRequest\" xlink:href=\"psysml:116f794f-fd18-4d42-8d94-9abf783d43f0\" xlink:show=\"new\" xlink:title=\"psysml:116f794f-fd18-4d42-8d94-9abf783d43f0\" xlink:type=\"simple\"><g id=\"elem_E10\"><rect fill=\"#FFFFFF\" height=\"48.2656\" id=\"E10\" rx=\"10\" ry=\"10\" style=\"stroke:#181818;stroke-width:0.5;\" width=\"49\" x=\"32.5\" y=\"150\"/><text fill=\"#000000\" font-family=\"sans-serif\" font-size=\"12\" font-style=\"italic\" lengthAdjust=\"spacing\" textLength=\"41\" x=\"36.5\" y=\"166.1387\">«item»</text><text fill=\"#000000\" font-family=\"sans-serif\" font-size=\"14\" lengthAdjust=\"spacing\" textLength=\"35\" x=\"35.5\" y=\"181.9639\">a1: A</text><line style=\"stroke:#181818;stroke-width:0.5;\" x1=\"33.5\" x2=\"80.5\" y1=\"190.2656\" y2=\"190.2656\"/></g></a><!--MD5=[1dd1bfd58a279cf63c5f349dbc8fc6a1]\n",
       "class E11--><a href=\"psysml:16572df6-eec3-489a-80d1-3b65de425cbd\" target=\"_top\" title=\"psysml:16572df6-eec3-489a-80d1-3b65de425cbd\" xlink:actuate=\"onRequest\" xlink:href=\"psysml:16572df6-eec3-489a-80d1-3b65de425cbd\" xlink:show=\"new\" xlink:title=\"psysml:16572df6-eec3-489a-80d1-3b65de425cbd\" xlink:type=\"simple\"><g id=\"elem_E11\"><rect fill=\"#FFFFFF\" height=\"48.2656\" id=\"E11\" rx=\"10\" ry=\"10\" style=\"stroke:#181818;stroke-width:0.5;\" width=\"49\" x=\"116.5\" y=\"150\"/><text fill=\"#000000\" font-family=\"sans-serif\" font-size=\"12\" font-style=\"italic\" lengthAdjust=\"spacing\" textLength=\"41\" x=\"120.5\" y=\"166.1387\">«item»</text><text fill=\"#000000\" font-family=\"sans-serif\" font-size=\"14\" lengthAdjust=\"spacing\" textLength=\"35\" x=\"119.5\" y=\"181.9639\">a2: A</text><line style=\"stroke:#181818;stroke-width:0.5;\" x1=\"117.5\" x2=\"164.5\" y1=\"190.2656\" y2=\"190.2656\"/></g></a><!--MD5=[2720a5a1f2c3fca2055b230370638851]\n",
       "link E2 to E3--><g id=\"link_E2_E3\"><a href=\"psysml:70c9c3cf-ded5-4fad-940c-650d810049d2\" target=\"_top\" title=\"psysml:70c9c3cf-ded5-4fad-940c-650d810049d2\" xlink:actuate=\"onRequest\" xlink:href=\"psysml:70c9c3cf-ded5-4fad-940c-650d810049d2\" xlink:show=\"new\" xlink:title=\"psysml:70c9c3cf-ded5-4fad-940c-650d810049d2\" xlink:type=\"simple\"><path d=\"M204.42,198.22 C194.55,211.26 181.97,227.88 170.62,242.87 \" fill=\"none\" id=\"E2-to-E3\" style=\"stroke:#181818;stroke-width:1.0;\"/><polygon fill=\"#FFFFFF\" points=\"158.54,258.83,164.4286,239.4567,175.5901,247.9078,158.54,258.83\" style=\"stroke:#181818;stroke-width:1.0;\"/><ellipse cx=\"169.4639\" cy=\"236.1197\" fill=\"#181818\" rx=\"2\" ry=\"2\" style=\"stroke:#181818;stroke-width:1.0;\"/><ellipse cx=\"177.4364\" cy=\"242.1562\" fill=\"#181818\" rx=\"2\" ry=\"2\" style=\"stroke:#181818;stroke-width:1.0;\"/></a></g><!--MD5=[4672eba38e49728da53d11aeb285b987]\n",
       "reverse link E3 to E4--><g id=\"link_E3_E4\"><a href=\"psysml:1e28e0ed-b5c0-4fac-98b2-855fbe266c1f\" target=\"_top\" title=\"psysml:1e28e0ed-b5c0-4fac-98b2-855fbe266c1f\" xlink:actuate=\"onRequest\" xlink:href=\"psysml:1e28e0ed-b5c0-4fac-98b2-855fbe266c1f\" xlink:show=\"new\" xlink:title=\"psysml:1e28e0ed-b5c0-4fac-98b2-855fbe266c1f\" xlink:type=\"simple\"><path d=\"M104.38,316.32 C90.85,330.64 77.09,348.62 70,368 C60.72,393.36 62.6,424.76 65.58,445.75 \" fill=\"none\" id=\"E3-backto-E4\" style=\"stroke:#181818;stroke-width:1.0;\"/><polygon fill=\"#181818\" points=\"113.62,307.02,106.5522,308.4507,105.1545,315.525,112.2223,314.0943,113.62,307.02\" style=\"stroke:#181818;stroke-width:1.0;\"/></a></g><!--MD5=[191cde3d490a3f6d7bb551fe3ddca469]\n",
       "reverse link E3 to E5--><g id=\"link_E3_E5\"><a href=\"psysml:b5974af5-b28c-458b-89e4-95d46de68236\" target=\"_top\" title=\"psysml:b5974af5-b28c-458b-89e4-95d46de68236\" xlink:actuate=\"onRequest\" xlink:href=\"psysml:b5974af5-b28c-458b-89e4-95d46de68236\" xlink:show=\"new\" xlink:title=\"psysml:b5974af5-b28c-458b-89e4-95d46de68236\" xlink:type=\"simple\"><path d=\"M153.39,319.83 C158.86,335.66 165.14,353.82 169.99,367.83 \" fill=\"none\" id=\"E3-backto-E5\" style=\"stroke:#181818;stroke-width:1.0;\"/><polygon fill=\"none\" points=\"149.03,307.22,147.2077,314.1971,152.9472,318.5627,154.7695,311.5856,149.03,307.22\" style=\"stroke:#181818;stroke-width:1.0;\"/></a></g><!--MD5=[79568f1e445c3877b6a54524624ccc7d]\n",
       "link E4 to E6--><g id=\"link_E4_E6\"><a href=\"psysml:83940360-bfcd-4ab6-95b9-9006ad1a30a4\" target=\"_top\" title=\"psysml:83940360-bfcd-4ab6-95b9-9006ad1a30a4\" xlink:actuate=\"onRequest\" xlink:href=\"psysml:83940360-bfcd-4ab6-95b9-9006ad1a30a4\" xlink:show=\"new\" xlink:title=\"psysml:83940360-bfcd-4ab6-95b9-9006ad1a30a4\" xlink:type=\"simple\"><path d=\"M75.57,494.29 C80.84,515.04 89.51,546.05 100,572 C108.08,591.98 118.83,613.29 128.46,631.07 \" fill=\"none\" id=\"E4-to-E6\" style=\"stroke:#181818;stroke-width:1.0;\"/><polygon fill=\"#FFFFFF\" points=\"138.29,648.76,122.9437,635.5505,135.1819,628.7515,138.29,648.76\" style=\"stroke:#181818;stroke-width:1.0;\"/><ellipse cx=\"121.9238\" cy=\"629.5965\" fill=\"#181818\" rx=\"2\" ry=\"2\" style=\"stroke:#181818;stroke-width:1.0;\"/><ellipse cx=\"130.6654\" cy=\"624.7401\" fill=\"#181818\" rx=\"2\" ry=\"2\" style=\"stroke:#181818;stroke-width:1.0;\"/></a></g><!--MD5=[3f50a3473f1dfb74d3f76443e03635af]\n",
       "reverse link E6 to E7--><g id=\"link_E6_E7\"><a href=\"psysml:c7c30ff0-7abe-445a-9147-4c620b104f3e\" target=\"_top\" title=\"psysml:c7c30ff0-7abe-445a-9147-4c620b104f3e\" xlink:actuate=\"onRequest\" xlink:href=\"psysml:c7c30ff0-7abe-445a-9147-4c620b104f3e\" xlink:show=\"new\" xlink:title=\"psysml:c7c30ff0-7abe-445a-9147-4c620b104f3e\" xlink:type=\"simple\"><path d=\"M164.05,709.83 C169.38,725.66 175.49,743.82 180.2,757.83 \" fill=\"none\" id=\"E6-backto-E7\" style=\"stroke:#181818;stroke-width:1.0;\"/><polygon fill=\"#181818\" points=\"159.81,697.22,157.9296,704.1816,163.6324,708.5949,165.5128,701.6333,159.81,697.22\" style=\"stroke:#181818;stroke-width:1.0;\"/></a></g><!--MD5=[14ccda38c055a5c0da953d572bc50960]\n",
       "link E7 to E3--><g id=\"link_E7_E3\"><a href=\"psysml:4a79bdb3-77e8-4e9c-befa-ce9a0c7716db\" target=\"_top\" title=\"psysml:4a79bdb3-77e8-4e9c-befa-ce9a0c7716db\" xlink:actuate=\"onRequest\" xlink:href=\"psysml:4a79bdb3-77e8-4e9c-befa-ce9a0c7716db\" xlink:show=\"new\" xlink:title=\"psysml:4a79bdb3-77e8-4e9c-befa-ce9a0c7716db\" xlink:type=\"simple\"><path d=\"M204.97,757.64 C218.43,736.78 235,704.84 235,674 C235,391 235,391 235,391 C235,361.35 214.38,336.01 192.46,317.43 \" fill=\"none\" id=\"E7-to-E3\" style=\"stroke:#181818;stroke-width:1.0;\"/><polygon fill=\"#FFFFFF\" points=\"176.54,305.14,195.8578,311.2081,187.3035,322.2907,176.54,305.14\" style=\"stroke:#181818;stroke-width:1.0;\"/><ellipse cx=\"199.148\" cy=\"316.2741\" fill=\"#181818\" rx=\"2\" ry=\"2\" style=\"stroke:#181818;stroke-width:1.0;\"/><ellipse cx=\"193.0378\" cy=\"324.1903\" fill=\"#181818\" rx=\"2\" ry=\"2\" style=\"stroke:#181818;stroke-width:1.0;\"/></a></g><!--MD5=[dfaffb906826c3e5aca635516100ff21]\n",
       "link E5 to E8--><g id=\"link_E5_E8\"><a href=\"psysml:d776694e-c79b-404c-b561-ae1c1a2e3f3d\" target=\"_top\" title=\"psysml:d776694e-c79b-404c-b561-ae1c1a2e3f3d\" xlink:actuate=\"onRequest\" xlink:href=\"psysml:d776694e-c79b-404c-b561-ae1c1a2e3f3d\" xlink:show=\"new\" xlink:title=\"psysml:d776694e-c79b-404c-b561-ae1c1a2e3f3d\" xlink:type=\"simple\"><path d=\"M174.11,416.06 C170.2,439.19 164.09,475.38 159.28,503.86 \" fill=\"none\" id=\"E5-to-E8\" style=\"stroke:#181818;stroke-width:1.0;\"/><polygon fill=\"#FFFFFF\" points=\"155.92,523.79,152.1809,503.8898,165.9855,506.2206,155.92,523.79\" style=\"stroke:#181818;stroke-width:1.0;\"/><ellipse cx=\"155.1019\" cy=\"498.6023\" fill=\"#181818\" rx=\"2\" ry=\"2\" style=\"stroke:#181818;stroke-width:1.0;\"/><ellipse cx=\"164.9624\" cy=\"500.2671\" fill=\"#181818\" rx=\"2\" ry=\"2\" style=\"stroke:#181818;stroke-width:1.0;\"/></a></g><!--MD5=[03c8294790d3c57651a1993cecff665f]\n",
       "reverse link E8 to E3--><g id=\"link_E8_E3\"><a href=\"psysml:c4551329-8b56-4fd0-9fbf-f2d280f6b39b\" target=\"_top\" title=\"psysml:c4551329-8b56-4fd0-9fbf-f2d280f6b39b\" xlink:actuate=\"onRequest\" xlink:href=\"psysml:c4551329-8b56-4fd0-9fbf-f2d280f6b39b\" xlink:show=\"new\" xlink:title=\"psysml:c4551329-8b56-4fd0-9fbf-f2d280f6b39b\" xlink:type=\"simple\"><path d=\"M144.62,510.88 C139.66,484.68 133.57,448.31 131,416 C129.31,394.73 129.74,389.3 131,368 C132.23,347.33 135.14,323.95 137.5,307.11 \" fill=\"none\" id=\"E8-backto-E3\" style=\"stroke:#181818;stroke-width:1.0;\"/><polygon fill=\"none\" points=\"147.16,523.94,149.9387,517.2857,144.865,512.1615,142.0863,518.8158,147.16,523.94\" style=\"stroke:#181818;stroke-width:1.0;\"/><text fill=\"#000000\" font-family=\"sans-serif\" font-size=\"13\" lengthAdjust=\"spacing\" textLength=\"7\" x=\"132\" y=\"396.5669\">y</text></a></g><!--MD5=[0d75d2178373a6a4568e5dc728f58aef]\n",
       "reverse link E8 to E6--><g id=\"link_E8_E6\"><a href=\"psysml:c4551329-8b56-4fd0-9fbf-f2d280f6b39b\" target=\"_top\" title=\"psysml:c4551329-8b56-4fd0-9fbf-f2d280f6b39b\" xlink:actuate=\"onRequest\" xlink:href=\"psysml:c4551329-8b56-4fd0-9fbf-f2d280f6b39b\" xlink:show=\"new\" xlink:title=\"psysml:c4551329-8b56-4fd0-9fbf-f2d280f6b39b\" xlink:type=\"simple\"><path d=\"M152,585.21 C152,605.83 152,631.04 152,648.97 \" fill=\"none\" id=\"E8-backto-E6\" style=\"stroke:#181818;stroke-width:1.0;\"/><polygon fill=\"none\" points=\"152,572.14,148,578.14,152,584.14,156,578.14,152,572.14\" style=\"stroke:#181818;stroke-width:1.0;\"/><text fill=\"#000000\" font-family=\"sans-serif\" font-size=\"13\" lengthAdjust=\"spacing\" textLength=\"7\" x=\"153\" y=\"615.0669\">y</text></a></g><!--MD5=[23ac544a70576c3e717098101004234c]\n",
       "reverse link E9 to E10--><g id=\"link_E9_E10\"><a href=\"psysml:5a5abb4f-4a57-47f4-8d13-1f5dca85ed3b\" target=\"_top\" title=\"psysml:5a5abb4f-4a57-47f4-8d13-1f5dca85ed3b\" xlink:actuate=\"onRequest\" xlink:href=\"psysml:5a5abb4f-4a57-47f4-8d13-1f5dca85ed3b\" xlink:show=\"new\" xlink:title=\"psysml:5a5abb4f-4a57-47f4-8d13-1f5dca85ed3b\" xlink:type=\"simple\"><path d=\"M88.47,101.35 C81.47,117.29 73.39,135.68 67.18,149.83 \" fill=\"none\" id=\"E9-backto-E10\" style=\"stroke:#181818;stroke-width:1.0;\"/><polygon fill=\"none\" points=\"93.8,89.22,87.7243,93.1041,88.9729,100.2063,95.0485,96.3222,93.8,89.22\" style=\"stroke:#181818;stroke-width:1.0;\"/></a></g><!--MD5=[feeac5eb423634930294aa81f2d25a4c]\n",
       "link E10 to E3--><g id=\"link_E10_E3\"><a href=\"psysml:d7f66802-941a-4496-884a-36d82493c03e\" target=\"_top\" title=\"psysml:d7f66802-941a-4496-884a-36d82493c03e\" xlink:actuate=\"onRequest\" xlink:href=\"psysml:d7f66802-941a-4496-884a-36d82493c03e\" xlink:show=\"new\" xlink:title=\"psysml:d7f66802-941a-4496-884a-36d82493c03e\" xlink:type=\"simple\"><path d=\"M75.23,198.22 C85.46,211.26 98.51,227.88 110.28,242.87 \" fill=\"none\" id=\"E10-to-E3\" style=\"stroke:#181818;stroke-width:1.0;\"/><polygon fill=\"#FFFFFF\" points=\"122.81,258.83,105.5676,248.214,116.5764,239.565,122.81,258.83\" style=\"stroke:#181818;stroke-width:1.0;\"/><ellipse cx=\"103.6189\" cy=\"242.4963\" fill=\"#181818\" rx=\"2\" ry=\"2\" style=\"stroke:#181818;stroke-width:1.0;\"/><ellipse cx=\"111.4823\" cy=\"236.3184\" fill=\"#181818\" rx=\"2\" ry=\"2\" style=\"stroke:#181818;stroke-width:1.0;\"/></a></g><!--MD5=[1fc04a95fd77ad5ce46c1a3027516051]\n",
       "reverse link E9 to E11--><g id=\"link_E9_E11\"><a href=\"psysml:8187499b-9a51-4939-bbf5-c8a0ee670e5b\" target=\"_top\" title=\"psysml:8187499b-9a51-4939-bbf5-c8a0ee670e5b\" xlink:actuate=\"onRequest\" xlink:href=\"psysml:8187499b-9a51-4939-bbf5-c8a0ee670e5b\" xlink:show=\"new\" xlink:title=\"psysml:8187499b-9a51-4939-bbf5-c8a0ee670e5b\" xlink:type=\"simple\"><path d=\"M116.39,101.83 C121.86,117.66 128.14,135.82 132.99,149.83 \" fill=\"none\" id=\"E9-backto-E11\" style=\"stroke:#181818;stroke-width:1.0;\"/><polygon fill=\"none\" points=\"112.03,89.22,110.2077,96.1971,115.9472,100.5627,117.7695,93.5856,112.03,89.22\" style=\"stroke:#181818;stroke-width:1.0;\"/></a></g><!--MD5=[0517f1ce58c4d5483948f93845c45e26]\n",
       "link E11 to E3--><g id=\"link_E11_E3\"><a href=\"psysml:ca7307c2-0235-4c1e-8766-bbb66b330e4f\" target=\"_top\" title=\"psysml:ca7307c2-0235-4c1e-8766-bbb66b330e4f\" xlink:actuate=\"onRequest\" xlink:href=\"psysml:ca7307c2-0235-4c1e-8766-bbb66b330e4f\" xlink:show=\"new\" xlink:title=\"psysml:ca7307c2-0235-4c1e-8766-bbb66b330e4f\" xlink:type=\"simple\"><path d=\"M141,198.22 C141,210 141,224.69 141,238.48 \" fill=\"none\" id=\"E11-to-E3\" style=\"stroke:#181818;stroke-width:1.0;\"/><polygon fill=\"#FFFFFF\" points=\"141,258.83,134,239.83,148,239.83,141,258.83\" style=\"stroke:#181818;stroke-width:1.0;\"/><ellipse cx=\"136\" cy=\"234.13\" fill=\"#181818\" rx=\"2\" ry=\"2\" style=\"stroke:#181818;stroke-width:1.0;\"/><ellipse cx=\"146\" cy=\"234.13\" fill=\"#181818\" rx=\"2\" ry=\"2\" style=\"stroke:#181818;stroke-width:1.0;\"/></a></g><!--MD5=[4b4a8daa1eae5e338caf0d76bc944e4b]\n",
       "@startuml\r\n",
       "skin sysmlbw\r\n",
       "skinparam monochrome true\r\n",
       "skinparam wrapWidth 300\r\n",
       "hide circle\r\n",
       "top to bottom direction\r\n",
       "\r\n",
       "package \"ItemTest\" as E1  [[psysml:cd87d2b7-4fa1-4c1b-a4f6-af691b0dec58 ]]  {\r\n",
       "comp usage \"f: A  \" as E2  <<(T,blue) item>> [[psysml:a6e7d788-746b-466d-b844-23a78300b1ae ]] {\r\n",
       "}\r\n",
       "comp def \"A\" as E3  <<(T,blue) item  def>> [[psysml:7645df02-ea24-41fb-927b-82e0988a44f2 ]] {\r\n",
       "}\r\n",
       "comp usage \"b: B  \" as E4  <<(T,blue) item>> [[psysml:426ed2e2-6591-4c8f-a505-52d546190911 ]] {\r\n",
       "}\r\n",
       "comp usage \"c: C  \" as E5  <<(T,blue) part>> [[psysml:331ec08e-03d4-4ef2-9768-da2cb6dfa326 ]] {\r\n",
       "}\r\n",
       "comp def \"<i>B</i>\" as E6  <<(T,blue) item  def>> [[psysml:1c5a109b-6d3b-4425-b763-85184515822e ]] {\r\n",
       "}\r\n",
       "comp usage \"<i>a</i>: A  \" as E7  <<(T,blue) part>> [[psysml:3d3f18ff-1114-439a-91a9-78796a10458c ]] {\r\n",
       "}\r\n",
       "comp def \"C\" as E8  <<(T,blue) part  def>> [[psysml:1568c6af-b382-4c7f-b02a-0d87dd86c0f5 ]] {\r\n",
       "}\r\n",
       "comp def \"P\" as E9  <<(T,blue) port  def>> [[psysml:7b3481ba-f47b-4c12-87df-4d6f620e6d00 ]] {\r\n",
       "}\r\n",
       "comp usage \"a1: A  \" as E10  <<(T,blue) item>> [[psysml:116f794f-fd18-4d42-8d94-9abf783d43f0 ]] {\r\n",
       "}\r\n",
       "comp usage \"a2: A  \" as E11  <<(T,blue) item>> [[psysml:16572df6-eec3-489a-80d1-3b65de425cbd ]] {\r\n",
       "}\r\n",
       "}\r\n",
       "E2 - -:|> E3 [[psysml:70c9c3cf-ded5-4fad-940c-650d810049d2 ]] \r\n",
       "E3 *- - E4 [[psysml:1e28e0ed-b5c0-4fac-98b2-855fbe266c1f ]] \r\n",
       "E3 o- - E5 [[psysml:b5974af5-b28c-458b-89e4-95d46de68236 ]] \r\n",
       "E4 - -:|> E6 [[psysml:83940360-bfcd-4ab6-95b9-9006ad1a30a4 ]] \r\n",
       "E6 *- - E7 [[psysml:c7c30ff0-7abe-445a-9147-4c620b104f3e ]] \r\n",
       "E7 - -:|> E3 [[psysml:4a79bdb3-77e8-4e9c-befa-ce9a0c7716db ]] \r\n",
       "E5 - -:|> E8 [[psysml:d776694e-c79b-404c-b561-ae1c1a2e3f3d ]] \r\n",
       "E8 o- - E3 [[psysml:c4551329-8b56-4fd0-9fbf-f2d280f6b39b ]] : y\r\n",
       "E8 o- - E6 [[psysml:c4551329-8b56-4fd0-9fbf-f2d280f6b39b ]] : y\r\n",
       "E9 o- - E10 [[psysml:5a5abb4f-4a57-47f4-8d13-1f5dca85ed3b ]] \r\n",
       "E10 - -:|> E3 [[psysml:d7f66802-941a-4496-884a-36d82493c03e ]] \r\n",
       "E9 o- - E11 [[psysml:8187499b-9a51-4939-bbf5-c8a0ee670e5b ]] \r\n",
       "E11 - -:|> E3 [[psysml:ca7307c2-0235-4c1e-8766-bbb66b330e4f ]] \r\n",
       "@enduml\r\n",
       "\n",
       "PlantUML version 1.2022.7(Mon Aug 22 17:01:30 UTC 2022)\n",
       "(EPL source distribution)\n",
       "Java Runtime: OpenJDK Runtime Environment\n",
       "JVM: OpenJDK 64-Bit Server VM\n",
       "Default Encoding: UTF-8\n",
       "Language: en\n",
       "Country: null\n",
       "--></g></svg>"
      ]
     },
     "execution_count": 50,
     "metadata": {},
     "output_type": "execute_result"
    }
   ],
   "source": [
    "%viz --style=\"TB\" --view=\"MIXED\" \"ItemTest\""
   ]
  },
  {
   "cell_type": "code",
   "execution_count": 51,
   "id": "23e08bce",
   "metadata": {
    "execution": {
     "iopub.execute_input": "2024-12-16T14:15:19.132801Z",
     "iopub.status.busy": "2024-12-16T14:15:19.132542Z",
     "iopub.status.idle": "2024-12-16T14:15:19.157803Z",
     "shell.execute_reply": "2024-12-16T14:15:19.157613Z"
    }
   },
   "outputs": [
    {
     "data": {
      "image/svg+xml": [
       "<?xml version=\"1.0\" encoding=\"UTF-8\" standalone=\"no\"?><svg xmlns=\"http://www.w3.org/2000/svg\" xmlns:xlink=\"http://www.w3.org/1999/xlink\" contentStyleType=\"text/css\" height=\"760px\" preserveAspectRatio=\"none\" style=\"width:277px;height:760px;background:#FFFFFF;\" version=\"1.1\" viewBox=\"0 0 277 760\" width=\"277px\" zoomAndPan=\"magnify\"><defs/><g><!--MD5=[fbc87193dbaf4d95561dea2c320d4a47]\n",
       "cluster E1--><g id=\"cluster_E1\"><a href=\"psysml:cd87d2b7-4fa1-4c1b-a4f6-af691b0dec58\" target=\"_top\" title=\"psysml:cd87d2b7-4fa1-4c1b-a4f6-af691b0dec58\" xlink:actuate=\"onRequest\" xlink:href=\"psysml:cd87d2b7-4fa1-4c1b-a4f6-af691b0dec58\" xlink:show=\"new\" xlink:title=\"psysml:cd87d2b7-4fa1-4c1b-a4f6-af691b0dec58\" xlink:type=\"simple\"><polygon fill=\"none\" points=\"16,6,86.5,6,93.5,28.2969,260,28.2969,260,753,16,753,16,6\" style=\"stroke:#000000;stroke-width:1.5;\"/><line style=\"stroke:#000000;stroke-width:1.5;\" x1=\"16\" x2=\"93.5\" y1=\"28.2969\" y2=\"28.2969\"/><text fill=\"#000000\" font-family=\"sans-serif\" font-size=\"14\" font-weight=\"bold\" lengthAdjust=\"spacing\" textLength=\"64.5\" x=\"20\" y=\"20.9951\">ItemTest</text></a></g><!--MD5=[b4997ac47864f28c2f74865a473b2911]\n",
       "class E2--><a href=\"psysml:a6e7d788-746b-466d-b844-23a78300b1ae\" target=\"_top\" title=\"psysml:a6e7d788-746b-466d-b844-23a78300b1ae\" xlink:actuate=\"onRequest\" xlink:href=\"psysml:a6e7d788-746b-466d-b844-23a78300b1ae\" xlink:show=\"new\" xlink:title=\"psysml:a6e7d788-746b-466d-b844-23a78300b1ae\" xlink:type=\"simple\"><g id=\"elem_E2\"><rect fill=\"#FFFFFF\" height=\"48.2656\" id=\"E2\" rx=\"10\" ry=\"10\" style=\"stroke:#181818;stroke-width:0.5;\" width=\"43\" x=\"200.5\" y=\"149\"/><text fill=\"#000000\" font-family=\"sans-serif\" font-size=\"12\" font-style=\"italic\" lengthAdjust=\"spacing\" textLength=\"41\" x=\"201.5\" y=\"165.1387\">«item»</text><text fill=\"#000000\" font-family=\"sans-serif\" font-size=\"14\" lengthAdjust=\"spacing\" textLength=\"22\" x=\"207\" y=\"180.9639\">f: A</text><line style=\"stroke:#181818;stroke-width:0.5;\" x1=\"201.5\" x2=\"242.5\" y1=\"189.2656\" y2=\"189.2656\"/></g></a><!--MD5=[09b614a08d8cba4a07c9adeb5e0fee81]\n",
       "class E3--><a href=\"psysml:7645df02-ea24-41fb-927b-82e0988a44f2\" target=\"_top\" title=\"psysml:7645df02-ea24-41fb-927b-82e0988a44f2\" xlink:actuate=\"onRequest\" xlink:href=\"psysml:7645df02-ea24-41fb-927b-82e0988a44f2\" xlink:show=\"new\" xlink:title=\"psysml:7645df02-ea24-41fb-927b-82e0988a44f2\" xlink:type=\"simple\"><g id=\"elem_E3\"><rect fill=\"#FFFFFF\" height=\"48.2656\" id=\"E3\" style=\"stroke:#181818;stroke-width:0.5;\" width=\"71\" x=\"105.5\" y=\"257\"/><text fill=\"#000000\" font-family=\"sans-serif\" font-size=\"12\" font-style=\"italic\" lengthAdjust=\"spacing\" textLength=\"69\" x=\"106.5\" y=\"273.1387\">«item  def»</text><text fill=\"#000000\" font-family=\"sans-serif\" font-size=\"14\" lengthAdjust=\"spacing\" textLength=\"9\" x=\"136.5\" y=\"288.9639\">A</text><line style=\"stroke:#181818;stroke-width:0.5;\" x1=\"106.5\" x2=\"175.5\" y1=\"297.2656\" y2=\"297.2656\"/></g></a><!--MD5=[ebbe1d658d1005bcc118a6aa81145e00]\n",
       "class E4--><a href=\"psysml:426ed2e2-6591-4c8f-a505-52d546190911\" target=\"_top\" title=\"psysml:426ed2e2-6591-4c8f-a505-52d546190911\" xlink:actuate=\"onRequest\" xlink:href=\"psysml:426ed2e2-6591-4c8f-a505-52d546190911\" xlink:show=\"new\" xlink:title=\"psysml:426ed2e2-6591-4c8f-a505-52d546190911\" xlink:type=\"simple\"><g id=\"elem_E4\"><rect fill=\"#FFFFFF\" height=\"48.2656\" id=\"E4\" rx=\"10\" ry=\"10\" style=\"stroke:#181818;stroke-width:0.5;\" width=\"43\" x=\"45.5\" y=\"473\"/><text fill=\"#000000\" font-family=\"sans-serif\" font-size=\"12\" font-style=\"italic\" lengthAdjust=\"spacing\" textLength=\"41\" x=\"46.5\" y=\"489.1387\">«item»</text><text fill=\"#000000\" font-family=\"sans-serif\" font-size=\"14\" lengthAdjust=\"spacing\" textLength=\"28\" x=\"49\" y=\"504.9639\">b: B</text><line style=\"stroke:#181818;stroke-width:0.5;\" x1=\"46.5\" x2=\"87.5\" y1=\"513.2656\" y2=\"513.2656\"/></g></a><!--MD5=[270fce915f116d4de14055a7c1d9a0f3]\n",
       "class E5--><a href=\"psysml:331ec08e-03d4-4ef2-9768-da2cb6dfa326\" target=\"_top\" title=\"psysml:331ec08e-03d4-4ef2-9768-da2cb6dfa326\" xlink:actuate=\"onRequest\" xlink:href=\"psysml:331ec08e-03d4-4ef2-9768-da2cb6dfa326\" xlink:show=\"new\" xlink:title=\"psysml:331ec08e-03d4-4ef2-9768-da2cb6dfa326\" xlink:type=\"simple\"><g id=\"elem_E5\"><rect fill=\"#FFFFFF\" height=\"48.2656\" id=\"E5\" rx=\"10\" ry=\"10\" style=\"stroke:#181818;stroke-width:0.5;\" width=\"42\" x=\"146\" y=\"365\"/><text fill=\"#000000\" font-family=\"sans-serif\" font-size=\"12\" font-style=\"italic\" lengthAdjust=\"spacing\" textLength=\"40\" x=\"147\" y=\"381.1387\">«part»</text><text fill=\"#000000\" font-family=\"sans-serif\" font-size=\"14\" lengthAdjust=\"spacing\" textLength=\"27\" x=\"149.5\" y=\"396.9639\">c: C</text><line style=\"stroke:#181818;stroke-width:0.5;\" x1=\"147\" x2=\"187\" y1=\"405.2656\" y2=\"405.2656\"/></g></a><!--MD5=[60a26617385b1d2d0262a64233df1f8d]\n",
       "class E6--><a href=\"psysml:1c5a109b-6d3b-4425-b763-85184515822e\" target=\"_top\" title=\"psysml:1c5a109b-6d3b-4425-b763-85184515822e\" xlink:actuate=\"onRequest\" xlink:href=\"psysml:1c5a109b-6d3b-4425-b763-85184515822e\" xlink:show=\"new\" xlink:title=\"psysml:1c5a109b-6d3b-4425-b763-85184515822e\" xlink:type=\"simple\"><g id=\"elem_E6\"><rect fill=\"#FFFFFF\" height=\"48.2656\" id=\"E6\" style=\"stroke:#181818;stroke-width:0.5;\" width=\"71\" x=\"122.5\" y=\"581\"/><text fill=\"#000000\" font-family=\"sans-serif\" font-size=\"12\" font-style=\"italic\" lengthAdjust=\"spacing\" textLength=\"69\" x=\"123.5\" y=\"597.1387\">«item  def»</text><text fill=\"#000000\" font-family=\"sans-serif\" font-size=\"14\" font-style=\"italic\" lengthAdjust=\"spacing\" textLength=\"10\" x=\"153\" y=\"612.9639\">B</text><line style=\"stroke:#181818;stroke-width:0.5;\" x1=\"123.5\" x2=\"192.5\" y1=\"621.2656\" y2=\"621.2656\"/></g></a><!--MD5=[2156ba9850f5573cc1fc38a6a4b2f02b]\n",
       "class E7--><a href=\"psysml:3d3f18ff-1114-439a-91a9-78796a10458c\" target=\"_top\" title=\"psysml:3d3f18ff-1114-439a-91a9-78796a10458c\" xlink:actuate=\"onRequest\" xlink:href=\"psysml:3d3f18ff-1114-439a-91a9-78796a10458c\" xlink:show=\"new\" xlink:title=\"psysml:3d3f18ff-1114-439a-91a9-78796a10458c\" xlink:type=\"simple\"><g id=\"elem_E7\"><rect fill=\"#FFFFFF\" height=\"48.2656\" id=\"E7\" rx=\"10\" ry=\"10\" style=\"stroke:#181818;stroke-width:0.5;\" width=\"42\" x=\"169\" y=\"689\"/><text fill=\"#000000\" font-family=\"sans-serif\" font-size=\"12\" font-style=\"italic\" lengthAdjust=\"spacing\" textLength=\"40\" x=\"170\" y=\"705.1387\">«part»</text><text fill=\"#000000\" font-family=\"sans-serif\" font-size=\"14\" font-style=\"italic\" lengthAdjust=\"spacing\" textLength=\"8\" x=\"173\" y=\"720.9639\">a</text><text fill=\"#000000\" font-family=\"sans-serif\" font-size=\"14\" lengthAdjust=\"spacing\" textLength=\"18\" x=\"181\" y=\"720.9639\">: A</text><line style=\"stroke:#181818;stroke-width:0.5;\" x1=\"170\" x2=\"210\" y1=\"729.2656\" y2=\"729.2656\"/></g></a><!--MD5=[b9389687b975829384b498ac4b7476b2]\n",
       "class E8--><a href=\"psysml:1568c6af-b382-4c7f-b02a-0d87dd86c0f5\" target=\"_top\" title=\"psysml:1568c6af-b382-4c7f-b02a-0d87dd86c0f5\" xlink:actuate=\"onRequest\" xlink:href=\"psysml:1568c6af-b382-4c7f-b02a-0d87dd86c0f5\" xlink:show=\"new\" xlink:title=\"psysml:1568c6af-b382-4c7f-b02a-0d87dd86c0f5\" xlink:type=\"simple\"><g id=\"elem_E8\"><rect fill=\"#FFFFFF\" height=\"48.2656\" id=\"E8\" style=\"stroke:#181818;stroke-width:0.5;\" width=\"70\" x=\"124\" y=\"473\"/><text fill=\"#000000\" font-family=\"sans-serif\" font-size=\"12\" font-style=\"italic\" lengthAdjust=\"spacing\" textLength=\"68\" x=\"125\" y=\"489.1387\">«part  def»</text><text fill=\"#000000\" font-family=\"sans-serif\" font-size=\"14\" lengthAdjust=\"spacing\" textLength=\"10\" x=\"154\" y=\"504.9639\">C</text><line style=\"stroke:#181818;stroke-width:0.5;\" x1=\"125\" x2=\"193\" y1=\"513.2656\" y2=\"513.2656\"/></g></a><!--MD5=[fd4143e9d270a159db93a4ea2a975926]\n",
       "class E9--><a href=\"psysml:7b3481ba-f47b-4c12-87df-4d6f620e6d00\" target=\"_top\" title=\"psysml:7b3481ba-f47b-4c12-87df-4d6f620e6d00\" xlink:actuate=\"onRequest\" xlink:href=\"psysml:7b3481ba-f47b-4c12-87df-4d6f620e6d00\" xlink:show=\"new\" xlink:title=\"psysml:7b3481ba-f47b-4c12-87df-4d6f620e6d00\" xlink:type=\"simple\"><g id=\"elem_E9\"><rect fill=\"#FFFFFF\" height=\"48.2656\" id=\"E9\" style=\"stroke:#181818;stroke-width:0.5;\" width=\"70\" x=\"69\" y=\"41\"/><text fill=\"#000000\" font-family=\"sans-serif\" font-size=\"12\" font-style=\"italic\" lengthAdjust=\"spacing\" textLength=\"68\" x=\"70\" y=\"57.1387\">«port  def»</text><text fill=\"#000000\" font-family=\"sans-serif\" font-size=\"14\" lengthAdjust=\"spacing\" textLength=\"9\" x=\"99.5\" y=\"72.9639\">P</text><line style=\"stroke:#181818;stroke-width:0.5;\" x1=\"70\" x2=\"138\" y1=\"81.2656\" y2=\"81.2656\"/></g></a><!--MD5=[96f4274e9e20536e775497830990834d]\n",
       "class E10--><a href=\"psysml:116f794f-fd18-4d42-8d94-9abf783d43f0\" target=\"_top\" title=\"psysml:116f794f-fd18-4d42-8d94-9abf783d43f0\" xlink:actuate=\"onRequest\" xlink:href=\"psysml:116f794f-fd18-4d42-8d94-9abf783d43f0\" xlink:show=\"new\" xlink:title=\"psysml:116f794f-fd18-4d42-8d94-9abf783d43f0\" xlink:type=\"simple\"><g id=\"elem_E10\"><rect fill=\"#FFFFFF\" height=\"48.2656\" id=\"E10\" rx=\"10\" ry=\"10\" style=\"stroke:#181818;stroke-width:0.5;\" width=\"49\" x=\"116.5\" y=\"149\"/><text fill=\"#000000\" font-family=\"sans-serif\" font-size=\"12\" font-style=\"italic\" lengthAdjust=\"spacing\" textLength=\"41\" x=\"120.5\" y=\"165.1387\">«item»</text><text fill=\"#000000\" font-family=\"sans-serif\" font-size=\"14\" lengthAdjust=\"spacing\" textLength=\"35\" x=\"119.5\" y=\"180.9639\">a1: A</text><line style=\"stroke:#181818;stroke-width:0.5;\" x1=\"117.5\" x2=\"164.5\" y1=\"189.2656\" y2=\"189.2656\"/></g></a><!--MD5=[1dd1bfd58a279cf63c5f349dbc8fc6a1]\n",
       "class E11--><a href=\"psysml:16572df6-eec3-489a-80d1-3b65de425cbd\" target=\"_top\" title=\"psysml:16572df6-eec3-489a-80d1-3b65de425cbd\" xlink:actuate=\"onRequest\" xlink:href=\"psysml:16572df6-eec3-489a-80d1-3b65de425cbd\" xlink:show=\"new\" xlink:title=\"psysml:16572df6-eec3-489a-80d1-3b65de425cbd\" xlink:type=\"simple\"><g id=\"elem_E11\"><rect fill=\"#FFFFFF\" height=\"48.2656\" id=\"E11\" rx=\"10\" ry=\"10\" style=\"stroke:#181818;stroke-width:0.5;\" width=\"49\" x=\"32.5\" y=\"149\"/><text fill=\"#000000\" font-family=\"sans-serif\" font-size=\"12\" font-style=\"italic\" lengthAdjust=\"spacing\" textLength=\"41\" x=\"36.5\" y=\"165.1387\">«item»</text><text fill=\"#000000\" font-family=\"sans-serif\" font-size=\"14\" lengthAdjust=\"spacing\" textLength=\"35\" x=\"35.5\" y=\"180.9639\">a2: A</text><line style=\"stroke:#181818;stroke-width:0.5;\" x1=\"33.5\" x2=\"80.5\" y1=\"189.2656\" y2=\"189.2656\"/></g></a><!--MD5=[2720a5a1f2c3fca2055b230370638851]\n",
       "link E2 to E3--><g id=\"link_E2_E3\"><a href=\"psysml:70c9c3cf-ded5-4fad-940c-650d810049d2\" target=\"_top\" title=\"psysml:70c9c3cf-ded5-4fad-940c-650d810049d2\" xlink:actuate=\"onRequest\" xlink:href=\"psysml:70c9c3cf-ded5-4fad-940c-650d810049d2\" xlink:show=\"new\" xlink:title=\"psysml:70c9c3cf-ded5-4fad-940c-650d810049d2\" xlink:type=\"simple\"><path d=\"M207.5,197.21 C207.5,226.8 207.5,273 207.5,273 C207.5,273 196.59,273 196.59,273 \" fill=\"none\" id=\"E2-to-E3\" style=\"stroke:#181818;stroke-width:1.0;\"/><polygon fill=\"#FFFFFF\" points=\"176.59,273,195.59,266,195.59,280,176.59,273\" style=\"stroke:#181818;stroke-width:1.0;\"/><ellipse cx=\"201.29\" cy=\"268\" fill=\"#181818\" rx=\"2\" ry=\"2\" style=\"stroke:#181818;stroke-width:1.0;\"/><ellipse cx=\"201.29\" cy=\"278\" fill=\"#181818\" rx=\"2\" ry=\"2\" style=\"stroke:#181818;stroke-width:1.0;\"/></a></g><!--MD5=[4672eba38e49728da53d11aeb285b987]\n",
       "reverse link E3 to E4--><g id=\"link_E3_E4\"><a href=\"psysml:1e28e0ed-b5c0-4fac-98b2-855fbe266c1f\" target=\"_top\" title=\"psysml:1e28e0ed-b5c0-4fac-98b2-855fbe266c1f\" xlink:actuate=\"onRequest\" xlink:href=\"psysml:1e28e0ed-b5c0-4fac-98b2-855fbe266c1f\" xlink:show=\"new\" xlink:title=\"psysml:1e28e0ed-b5c0-4fac-98b2-855fbe266c1f\" xlink:type=\"simple\"><path d=\"M92.22,281 C92.22,281 85,281 85,281 C85,281 85,416.15 85,472.64 \" fill=\"none\" id=\"E3-backto-E4\" style=\"stroke:#181818;stroke-width:1.0;\"/><polygon fill=\"#181818\" points=\"105.22,281,99.22,277,93.22,281,99.22,285,105.22,281\" style=\"stroke:#181818;stroke-width:1.0;\"/></a></g><!--MD5=[191cde3d490a3f6d7bb551fe3ddca469]\n",
       "reverse link E3 to E5--><g id=\"link_E3_E5\"><a href=\"psysml:b5974af5-b28c-458b-89e4-95d46de68236\" target=\"_top\" title=\"psysml:b5974af5-b28c-458b-89e4-95d46de68236\" xlink:actuate=\"onRequest\" xlink:href=\"psysml:b5974af5-b28c-458b-89e4-95d46de68236\" xlink:show=\"new\" xlink:title=\"psysml:b5974af5-b28c-458b-89e4-95d46de68236\" xlink:type=\"simple\"><path d=\"M161.25,318.24 C161.25,318.24 161.25,364.84 161.25,364.84 \" fill=\"none\" id=\"E3-backto-E5\" style=\"stroke:#181818;stroke-width:1.0;\"/><polygon fill=\"none\" points=\"161.25,305.24,157.25,311.24,161.25,317.24,165.25,311.24,161.25,305.24\" style=\"stroke:#181818;stroke-width:1.0;\"/></a></g><!--MD5=[79568f1e445c3877b6a54524624ccc7d]\n",
       "link E4 to E6--><g id=\"link_E4_E6\"><a href=\"psysml:83940360-bfcd-4ab6-95b9-9006ad1a30a4\" target=\"_top\" title=\"psysml:83940360-bfcd-4ab6-95b9-9006ad1a30a4\" xlink:actuate=\"onRequest\" xlink:href=\"psysml:83940360-bfcd-4ab6-95b9-9006ad1a30a4\" xlink:show=\"new\" xlink:title=\"psysml:83940360-bfcd-4ab6-95b9-9006ad1a30a4\" xlink:type=\"simple\"><path d=\"M67,521.24 C67,553.08 67,605 67,605 C67,605 102.3,605 102.3,605 \" fill=\"none\" id=\"E4-to-E6\" style=\"stroke:#181818;stroke-width:1.0;\"/><polygon fill=\"#FFFFFF\" points=\"122.3,605,103.3,612,103.3,598,122.3,605\" style=\"stroke:#181818;stroke-width:1.0;\"/><ellipse cx=\"97.6\" cy=\"610\" fill=\"#181818\" rx=\"2\" ry=\"2\" style=\"stroke:#181818;stroke-width:1.0;\"/><ellipse cx=\"97.6\" cy=\"600\" fill=\"#181818\" rx=\"2\" ry=\"2\" style=\"stroke:#181818;stroke-width:1.0;\"/></a></g><!--MD5=[3f50a3473f1dfb74d3f76443e03635af]\n",
       "reverse link E6 to E7--><g id=\"link_E6_E7\"><a href=\"psysml:c7c30ff0-7abe-445a-9147-4c620b104f3e\" target=\"_top\" title=\"psysml:c7c30ff0-7abe-445a-9147-4c620b104f3e\" xlink:actuate=\"onRequest\" xlink:href=\"psysml:c7c30ff0-7abe-445a-9147-4c620b104f3e\" xlink:show=\"new\" xlink:title=\"psysml:c7c30ff0-7abe-445a-9147-4c620b104f3e\" xlink:type=\"simple\"><path d=\"M181.25,642.24 C181.25,642.24 181.25,688.84 181.25,688.84 \" fill=\"none\" id=\"E6-backto-E7\" style=\"stroke:#181818;stroke-width:1.0;\"/><polygon fill=\"#181818\" points=\"181.25,629.24,177.25,635.24,181.25,641.24,185.25,635.24,181.25,629.24\" style=\"stroke:#181818;stroke-width:1.0;\"/></a></g><!--MD5=[14ccda38c055a5c0da953d572bc50960]\n",
       "link E7 to E3--><g id=\"link_E7_E3\"><a href=\"psysml:4a79bdb3-77e8-4e9c-befa-ce9a0c7716db\" target=\"_top\" title=\"psysml:4a79bdb3-77e8-4e9c-befa-ce9a0c7716db\" xlink:actuate=\"onRequest\" xlink:href=\"psysml:4a79bdb3-77e8-4e9c-befa-ce9a0c7716db\" xlink:show=\"new\" xlink:title=\"psysml:4a79bdb3-77e8-4e9c-befa-ce9a0c7716db\" xlink:type=\"simple\"><path d=\"M204,688.99 C204,599.29 204,289 204,289 C204,289 196.55,289 196.55,289 \" fill=\"none\" id=\"E7-to-E3\" style=\"stroke:#181818;stroke-width:1.0;\"/><polygon fill=\"#FFFFFF\" points=\"176.55,289,195.55,282,195.55,296,176.55,289\" style=\"stroke:#181818;stroke-width:1.0;\"/><ellipse cx=\"201.25\" cy=\"284\" fill=\"#181818\" rx=\"2\" ry=\"2\" style=\"stroke:#181818;stroke-width:1.0;\"/><ellipse cx=\"201.25\" cy=\"294\" fill=\"#181818\" rx=\"2\" ry=\"2\" style=\"stroke:#181818;stroke-width:1.0;\"/></a></g><!--MD5=[dfaffb906826c3e5aca635516100ff21]\n",
       "link E5 to E8--><g id=\"link_E5_E8\"><a href=\"psysml:d776694e-c79b-404c-b561-ae1c1a2e3f3d\" target=\"_top\" title=\"psysml:d776694e-c79b-404c-b561-ae1c1a2e3f3d\" xlink:actuate=\"onRequest\" xlink:href=\"psysml:d776694e-c79b-404c-b561-ae1c1a2e3f3d\" xlink:show=\"new\" xlink:title=\"psysml:d776694e-c79b-404c-b561-ae1c1a2e3f3d\" xlink:type=\"simple\"><path d=\"M167,413.24 C167,413.24 167,452.84 167,452.84 \" fill=\"none\" id=\"E5-to-E8\" style=\"stroke:#181818;stroke-width:1.0;\"/><polygon fill=\"#FFFFFF\" points=\"167,472.84,160,453.84,174,453.84,167,472.84\" style=\"stroke:#181818;stroke-width:1.0;\"/><ellipse cx=\"162\" cy=\"448.14\" fill=\"#181818\" rx=\"2\" ry=\"2\" style=\"stroke:#181818;stroke-width:1.0;\"/><ellipse cx=\"172\" cy=\"448.14\" fill=\"#181818\" rx=\"2\" ry=\"2\" style=\"stroke:#181818;stroke-width:1.0;\"/></a></g><!--MD5=[03c8294790d3c57651a1993cecff665f]\n",
       "reverse link E8 to E3--><g id=\"link_E8_E3\"><a href=\"psysml:c4551329-8b56-4fd0-9fbf-f2d280f6b39b\" target=\"_top\" title=\"psysml:c4551329-8b56-4fd0-9fbf-f2d280f6b39b\" xlink:actuate=\"onRequest\" xlink:href=\"psysml:c4551329-8b56-4fd0-9fbf-f2d280f6b39b\" xlink:show=\"new\" xlink:title=\"psysml:c4551329-8b56-4fd0-9fbf-f2d280f6b39b\" xlink:type=\"simple\"><path d=\"M135,459.64 C135,459.64 135,305.27 135,305.27 \" fill=\"none\" id=\"E8-backto-E3\" style=\"stroke:#181818;stroke-width:1.0;\"/><polygon fill=\"none\" points=\"135,472.64,139,466.64,135,460.64,131,466.64,135,472.64\" style=\"stroke:#181818;stroke-width:1.0;\"/><text fill=\"#000000\" font-family=\"sans-serif\" font-size=\"13\" lengthAdjust=\"spacing\" textLength=\"7\" x=\"127\" y=\"378.5269\">y</text></a></g><!--MD5=[0d75d2178373a6a4568e5dc728f58aef]\n",
       "reverse link E8 to E6--><g id=\"link_E8_E6\"><a href=\"psysml:c4551329-8b56-4fd0-9fbf-f2d280f6b39b\" target=\"_top\" title=\"psysml:c4551329-8b56-4fd0-9fbf-f2d280f6b39b\" xlink:actuate=\"onRequest\" xlink:href=\"psysml:c4551329-8b56-4fd0-9fbf-f2d280f6b39b\" xlink:show=\"new\" xlink:title=\"psysml:c4551329-8b56-4fd0-9fbf-f2d280f6b39b\" xlink:type=\"simple\"><path d=\"M158.75,534.24 C158.75,534.24 158.75,580.84 158.75,580.84 \" fill=\"none\" id=\"E8-backto-E6\" style=\"stroke:#181818;stroke-width:1.0;\"/><polygon fill=\"none\" points=\"158.75,521.24,154.75,527.24,158.75,533.24,162.75,527.24,158.75,521.24\" style=\"stroke:#181818;stroke-width:1.0;\"/><text fill=\"#000000\" font-family=\"sans-serif\" font-size=\"13\" lengthAdjust=\"spacing\" textLength=\"7\" x=\"150.75\" y=\"553.6069\">y</text></a></g><!--MD5=[23ac544a70576c3e717098101004234c]\n",
       "reverse link E9 to E10--><g id=\"link_E9_E10\"><a href=\"psysml:5a5abb4f-4a57-47f4-8d13-1f5dca85ed3b\" target=\"_top\" title=\"psysml:5a5abb4f-4a57-47f4-8d13-1f5dca85ed3b\" xlink:actuate=\"onRequest\" xlink:href=\"psysml:5a5abb4f-4a57-47f4-8d13-1f5dca85ed3b\" xlink:show=\"new\" xlink:title=\"psysml:5a5abb4f-4a57-47f4-8d13-1f5dca85ed3b\" xlink:type=\"simple\"><path d=\"M127.75,102.24 C127.75,102.24 127.75,148.84 127.75,148.84 \" fill=\"none\" id=\"E9-backto-E10\" style=\"stroke:#181818;stroke-width:1.0;\"/><polygon fill=\"none\" points=\"127.75,89.24,123.75,95.24,127.75,101.24,131.75,95.24,127.75,89.24\" style=\"stroke:#181818;stroke-width:1.0;\"/></a></g><!--MD5=[feeac5eb423634930294aa81f2d25a4c]\n",
       "link E10 to E3--><g id=\"link_E10_E3\"><a href=\"psysml:d7f66802-941a-4496-884a-36d82493c03e\" target=\"_top\" title=\"psysml:d7f66802-941a-4496-884a-36d82493c03e\" xlink:actuate=\"onRequest\" xlink:href=\"psysml:d7f66802-941a-4496-884a-36d82493c03e\" xlink:show=\"new\" xlink:title=\"psysml:d7f66802-941a-4496-884a-36d82493c03e\" xlink:type=\"simple\"><path d=\"M141,197.24 C141,197.24 141,236.84 141,236.84 \" fill=\"none\" id=\"E10-to-E3\" style=\"stroke:#181818;stroke-width:1.0;\"/><polygon fill=\"#FFFFFF\" points=\"141,256.84,134,237.84,148,237.84,141,256.84\" style=\"stroke:#181818;stroke-width:1.0;\"/><ellipse cx=\"136\" cy=\"232.14\" fill=\"#181818\" rx=\"2\" ry=\"2\" style=\"stroke:#181818;stroke-width:1.0;\"/><ellipse cx=\"146\" cy=\"232.14\" fill=\"#181818\" rx=\"2\" ry=\"2\" style=\"stroke:#181818;stroke-width:1.0;\"/></a></g><!--MD5=[1fc04a95fd77ad5ce46c1a3027516051]\n",
       "reverse link E9 to E11--><g id=\"link_E9_E11\"><a href=\"psysml:8187499b-9a51-4939-bbf5-c8a0ee670e5b\" target=\"_top\" title=\"psysml:8187499b-9a51-4939-bbf5-c8a0ee670e5b\" xlink:actuate=\"onRequest\" xlink:href=\"psysml:8187499b-9a51-4939-bbf5-c8a0ee670e5b\" xlink:show=\"new\" xlink:title=\"psysml:8187499b-9a51-4939-bbf5-c8a0ee670e5b\" xlink:type=\"simple\"><path d=\"M75.25,102.24 C75.25,102.24 75.25,148.84 75.25,148.84 \" fill=\"none\" id=\"E9-backto-E11\" style=\"stroke:#181818;stroke-width:1.0;\"/><polygon fill=\"none\" points=\"75.25,89.24,71.25,95.24,75.25,101.24,79.25,95.24,75.25,89.24\" style=\"stroke:#181818;stroke-width:1.0;\"/></a></g><!--MD5=[0517f1ce58c4d5483948f93845c45e26]\n",
       "link E11 to E3--><g id=\"link_E11_E3\"><a href=\"psysml:ca7307c2-0235-4c1e-8766-bbb66b330e4f\" target=\"_top\" title=\"psysml:ca7307c2-0235-4c1e-8766-bbb66b330e4f\" xlink:actuate=\"onRequest\" xlink:href=\"psysml:ca7307c2-0235-4c1e-8766-bbb66b330e4f\" xlink:show=\"new\" xlink:title=\"psysml:ca7307c2-0235-4c1e-8766-bbb66b330e4f\" xlink:type=\"simple\"><path d=\"M81.79,173 C95.98,173 111,173 111,173 C111,173 111,236.76 111,236.76 \" fill=\"none\" id=\"E11-to-E3\" style=\"stroke:#181818;stroke-width:1.0;\"/><polygon fill=\"#FFFFFF\" points=\"111,256.76,104,237.76,118,237.76,111,256.76\" style=\"stroke:#181818;stroke-width:1.0;\"/><ellipse cx=\"106\" cy=\"232.06\" fill=\"#181818\" rx=\"2\" ry=\"2\" style=\"stroke:#181818;stroke-width:1.0;\"/><ellipse cx=\"116\" cy=\"232.06\" fill=\"#181818\" rx=\"2\" ry=\"2\" style=\"stroke:#181818;stroke-width:1.0;\"/></a></g><!--MD5=[a82d2c2810c47b6a1ce4ca0e5fafc171]\n",
       "@startuml\r\n",
       "skin sysmlbw\r\n",
       "skinparam monochrome true\r\n",
       "skinparam wrapWidth 300\r\n",
       "hide circle\r\n",
       "skinparam linetype ortho\r\n",
       "\r\n",
       "package \"ItemTest\" as E1  [[psysml:cd87d2b7-4fa1-4c1b-a4f6-af691b0dec58 ]]  {\r\n",
       "comp usage \"f: A  \" as E2  <<(T,blue) item>> [[psysml:a6e7d788-746b-466d-b844-23a78300b1ae ]] {\r\n",
       "}\r\n",
       "comp def \"A\" as E3  <<(T,blue) item  def>> [[psysml:7645df02-ea24-41fb-927b-82e0988a44f2 ]] {\r\n",
       "}\r\n",
       "comp usage \"b: B  \" as E4  <<(T,blue) item>> [[psysml:426ed2e2-6591-4c8f-a505-52d546190911 ]] {\r\n",
       "}\r\n",
       "comp usage \"c: C  \" as E5  <<(T,blue) part>> [[psysml:331ec08e-03d4-4ef2-9768-da2cb6dfa326 ]] {\r\n",
       "}\r\n",
       "comp def \"<i>B</i>\" as E6  <<(T,blue) item  def>> [[psysml:1c5a109b-6d3b-4425-b763-85184515822e ]] {\r\n",
       "}\r\n",
       "comp usage \"<i>a</i>: A  \" as E7  <<(T,blue) part>> [[psysml:3d3f18ff-1114-439a-91a9-78796a10458c ]] {\r\n",
       "}\r\n",
       "comp def \"C\" as E8  <<(T,blue) part  def>> [[psysml:1568c6af-b382-4c7f-b02a-0d87dd86c0f5 ]] {\r\n",
       "}\r\n",
       "comp def \"P\" as E9  <<(T,blue) port  def>> [[psysml:7b3481ba-f47b-4c12-87df-4d6f620e6d00 ]] {\r\n",
       "}\r\n",
       "comp usage \"a1: A  \" as E10  <<(T,blue) item>> [[psysml:116f794f-fd18-4d42-8d94-9abf783d43f0 ]] {\r\n",
       "}\r\n",
       "comp usage \"a2: A  \" as E11  <<(T,blue) item>> [[psysml:16572df6-eec3-489a-80d1-3b65de425cbd ]] {\r\n",
       "}\r\n",
       "}\r\n",
       "E2 - -:|> E3 [[psysml:70c9c3cf-ded5-4fad-940c-650d810049d2 ]] \r\n",
       "E3 *- - E4 [[psysml:1e28e0ed-b5c0-4fac-98b2-855fbe266c1f ]] \r\n",
       "E3 o- - E5 [[psysml:b5974af5-b28c-458b-89e4-95d46de68236 ]] \r\n",
       "E4 - -:|> E6 [[psysml:83940360-bfcd-4ab6-95b9-9006ad1a30a4 ]] \r\n",
       "E6 *- - E7 [[psysml:c7c30ff0-7abe-445a-9147-4c620b104f3e ]] \r\n",
       "E7 - -:|> E3 [[psysml:4a79bdb3-77e8-4e9c-befa-ce9a0c7716db ]] \r\n",
       "E5 - -:|> E8 [[psysml:d776694e-c79b-404c-b561-ae1c1a2e3f3d ]] \r\n",
       "E8 o- - E3 [[psysml:c4551329-8b56-4fd0-9fbf-f2d280f6b39b ]] : y\r\n",
       "E8 o- - E6 [[psysml:c4551329-8b56-4fd0-9fbf-f2d280f6b39b ]] : y\r\n",
       "E9 o- - E10 [[psysml:5a5abb4f-4a57-47f4-8d13-1f5dca85ed3b ]] \r\n",
       "E10 - -:|> E3 [[psysml:d7f66802-941a-4496-884a-36d82493c03e ]] \r\n",
       "E9 o- - E11 [[psysml:8187499b-9a51-4939-bbf5-c8a0ee670e5b ]] \r\n",
       "E11 - -:|> E3 [[psysml:ca7307c2-0235-4c1e-8766-bbb66b330e4f ]] \r\n",
       "@enduml\r\n",
       "\n",
       "PlantUML version 1.2022.7(Mon Aug 22 17:01:30 UTC 2022)\n",
       "(EPL source distribution)\n",
       "Java Runtime: OpenJDK Runtime Environment\n",
       "JVM: OpenJDK 64-Bit Server VM\n",
       "Default Encoding: UTF-8\n",
       "Language: en\n",
       "Country: null\n",
       "--></g></svg>"
      ]
     },
     "execution_count": 51,
     "metadata": {},
     "output_type": "execute_result"
    }
   ],
   "source": [
    "%viz --style=\"ORTHOLINE\" --view=\"Default\" \"ItemTest\""
   ]
  },
  {
   "cell_type": "code",
   "execution_count": 52,
   "id": "7a5e2207",
   "metadata": {
    "execution": {
     "iopub.execute_input": "2024-12-16T14:15:19.209581Z",
     "iopub.status.busy": "2024-12-16T14:15:19.209345Z",
     "iopub.status.idle": "2024-12-16T14:15:19.235934Z",
     "shell.execute_reply": "2024-12-16T14:15:19.235020Z"
    }
   },
   "outputs": [
    {
     "data": {
      "image/svg+xml": [
       "<?xml version=\"1.0\" encoding=\"UTF-8\" standalone=\"no\"?><svg xmlns=\"http://www.w3.org/2000/svg\" xmlns:xlink=\"http://www.w3.org/1999/xlink\" contentStyleType=\"text/css\" height=\"760px\" preserveAspectRatio=\"none\" style=\"width:277px;height:760px;background:#FFFFFF;\" version=\"1.1\" viewBox=\"0 0 277 760\" width=\"277px\" zoomAndPan=\"magnify\"><defs/><g><!--MD5=[fbc87193dbaf4d95561dea2c320d4a47]\n",
       "cluster E1--><g id=\"cluster_E1\"><a href=\"psysml:cd87d2b7-4fa1-4c1b-a4f6-af691b0dec58\" target=\"_top\" title=\"psysml:cd87d2b7-4fa1-4c1b-a4f6-af691b0dec58\" xlink:actuate=\"onRequest\" xlink:href=\"psysml:cd87d2b7-4fa1-4c1b-a4f6-af691b0dec58\" xlink:show=\"new\" xlink:title=\"psysml:cd87d2b7-4fa1-4c1b-a4f6-af691b0dec58\" xlink:type=\"simple\"><polygon fill=\"none\" points=\"16,6,86.5,6,93.5,28.2969,260,28.2969,260,753,16,753,16,6\" style=\"stroke:#000000;stroke-width:1.5;\"/><line style=\"stroke:#000000;stroke-width:1.5;\" x1=\"16\" x2=\"93.5\" y1=\"28.2969\" y2=\"28.2969\"/><text fill=\"#000000\" font-family=\"sans-serif\" font-size=\"14\" font-weight=\"bold\" lengthAdjust=\"spacing\" textLength=\"64.5\" x=\"20\" y=\"20.9951\">ItemTest</text></a></g><!--MD5=[b4997ac47864f28c2f74865a473b2911]\n",
       "class E2--><a href=\"psysml:a6e7d788-746b-466d-b844-23a78300b1ae\" target=\"_top\" title=\"psysml:a6e7d788-746b-466d-b844-23a78300b1ae\" xlink:actuate=\"onRequest\" xlink:href=\"psysml:a6e7d788-746b-466d-b844-23a78300b1ae\" xlink:show=\"new\" xlink:title=\"psysml:a6e7d788-746b-466d-b844-23a78300b1ae\" xlink:type=\"simple\"><g id=\"elem_E2\"><rect fill=\"#FFFFFF\" height=\"48.2656\" id=\"E2\" rx=\"10\" ry=\"10\" style=\"stroke:#181818;stroke-width:0.5;\" width=\"43\" x=\"200.5\" y=\"149\"/><text fill=\"#000000\" font-family=\"sans-serif\" font-size=\"12\" font-style=\"italic\" lengthAdjust=\"spacing\" textLength=\"41\" x=\"201.5\" y=\"165.1387\">«item»</text><text fill=\"#000000\" font-family=\"sans-serif\" font-size=\"14\" lengthAdjust=\"spacing\" textLength=\"22\" x=\"207\" y=\"180.9639\">f: A</text><line style=\"stroke:#181818;stroke-width:0.5;\" x1=\"201.5\" x2=\"242.5\" y1=\"189.2656\" y2=\"189.2656\"/></g></a><!--MD5=[09b614a08d8cba4a07c9adeb5e0fee81]\n",
       "class E3--><a href=\"psysml:7645df02-ea24-41fb-927b-82e0988a44f2\" target=\"_top\" title=\"psysml:7645df02-ea24-41fb-927b-82e0988a44f2\" xlink:actuate=\"onRequest\" xlink:href=\"psysml:7645df02-ea24-41fb-927b-82e0988a44f2\" xlink:show=\"new\" xlink:title=\"psysml:7645df02-ea24-41fb-927b-82e0988a44f2\" xlink:type=\"simple\"><g id=\"elem_E3\"><rect fill=\"#FFFFFF\" height=\"48.2656\" id=\"E3\" style=\"stroke:#181818;stroke-width:0.5;\" width=\"71\" x=\"105.5\" y=\"257\"/><text fill=\"#000000\" font-family=\"sans-serif\" font-size=\"12\" font-style=\"italic\" lengthAdjust=\"spacing\" textLength=\"69\" x=\"106.5\" y=\"273.1387\">«item  def»</text><text fill=\"#000000\" font-family=\"sans-serif\" font-size=\"14\" lengthAdjust=\"spacing\" textLength=\"9\" x=\"136.5\" y=\"288.9639\">A</text><line style=\"stroke:#181818;stroke-width:0.5;\" x1=\"106.5\" x2=\"175.5\" y1=\"297.2656\" y2=\"297.2656\"/></g></a><!--MD5=[ebbe1d658d1005bcc118a6aa81145e00]\n",
       "class E4--><a href=\"psysml:426ed2e2-6591-4c8f-a505-52d546190911\" target=\"_top\" title=\"psysml:426ed2e2-6591-4c8f-a505-52d546190911\" xlink:actuate=\"onRequest\" xlink:href=\"psysml:426ed2e2-6591-4c8f-a505-52d546190911\" xlink:show=\"new\" xlink:title=\"psysml:426ed2e2-6591-4c8f-a505-52d546190911\" xlink:type=\"simple\"><g id=\"elem_E4\"><rect fill=\"#FFFFFF\" height=\"48.2656\" id=\"E4\" rx=\"10\" ry=\"10\" style=\"stroke:#181818;stroke-width:0.5;\" width=\"43\" x=\"45.5\" y=\"473\"/><text fill=\"#000000\" font-family=\"sans-serif\" font-size=\"12\" font-style=\"italic\" lengthAdjust=\"spacing\" textLength=\"41\" x=\"46.5\" y=\"489.1387\">«item»</text><text fill=\"#000000\" font-family=\"sans-serif\" font-size=\"14\" lengthAdjust=\"spacing\" textLength=\"28\" x=\"49\" y=\"504.9639\">b: B</text><line style=\"stroke:#181818;stroke-width:0.5;\" x1=\"46.5\" x2=\"87.5\" y1=\"513.2656\" y2=\"513.2656\"/></g></a><!--MD5=[270fce915f116d4de14055a7c1d9a0f3]\n",
       "class E5--><a href=\"psysml:331ec08e-03d4-4ef2-9768-da2cb6dfa326\" target=\"_top\" title=\"psysml:331ec08e-03d4-4ef2-9768-da2cb6dfa326\" xlink:actuate=\"onRequest\" xlink:href=\"psysml:331ec08e-03d4-4ef2-9768-da2cb6dfa326\" xlink:show=\"new\" xlink:title=\"psysml:331ec08e-03d4-4ef2-9768-da2cb6dfa326\" xlink:type=\"simple\"><g id=\"elem_E5\"><rect fill=\"#FFFFFF\" height=\"48.2656\" id=\"E5\" rx=\"10\" ry=\"10\" style=\"stroke:#181818;stroke-width:0.5;\" width=\"42\" x=\"146\" y=\"365\"/><text fill=\"#000000\" font-family=\"sans-serif\" font-size=\"12\" font-style=\"italic\" lengthAdjust=\"spacing\" textLength=\"40\" x=\"147\" y=\"381.1387\">«part»</text><text fill=\"#000000\" font-family=\"sans-serif\" font-size=\"14\" lengthAdjust=\"spacing\" textLength=\"27\" x=\"149.5\" y=\"396.9639\">c: C</text><line style=\"stroke:#181818;stroke-width:0.5;\" x1=\"147\" x2=\"187\" y1=\"405.2656\" y2=\"405.2656\"/></g></a><!--MD5=[60a26617385b1d2d0262a64233df1f8d]\n",
       "class E6--><a href=\"psysml:1c5a109b-6d3b-4425-b763-85184515822e\" target=\"_top\" title=\"psysml:1c5a109b-6d3b-4425-b763-85184515822e\" xlink:actuate=\"onRequest\" xlink:href=\"psysml:1c5a109b-6d3b-4425-b763-85184515822e\" xlink:show=\"new\" xlink:title=\"psysml:1c5a109b-6d3b-4425-b763-85184515822e\" xlink:type=\"simple\"><g id=\"elem_E6\"><rect fill=\"#FFFFFF\" height=\"48.2656\" id=\"E6\" style=\"stroke:#181818;stroke-width:0.5;\" width=\"71\" x=\"122.5\" y=\"581\"/><text fill=\"#000000\" font-family=\"sans-serif\" font-size=\"12\" font-style=\"italic\" lengthAdjust=\"spacing\" textLength=\"69\" x=\"123.5\" y=\"597.1387\">«item  def»</text><text fill=\"#000000\" font-family=\"sans-serif\" font-size=\"14\" font-style=\"italic\" lengthAdjust=\"spacing\" textLength=\"10\" x=\"153\" y=\"612.9639\">B</text><line style=\"stroke:#181818;stroke-width:0.5;\" x1=\"123.5\" x2=\"192.5\" y1=\"621.2656\" y2=\"621.2656\"/></g></a><!--MD5=[2156ba9850f5573cc1fc38a6a4b2f02b]\n",
       "class E7--><a href=\"psysml:3d3f18ff-1114-439a-91a9-78796a10458c\" target=\"_top\" title=\"psysml:3d3f18ff-1114-439a-91a9-78796a10458c\" xlink:actuate=\"onRequest\" xlink:href=\"psysml:3d3f18ff-1114-439a-91a9-78796a10458c\" xlink:show=\"new\" xlink:title=\"psysml:3d3f18ff-1114-439a-91a9-78796a10458c\" xlink:type=\"simple\"><g id=\"elem_E7\"><rect fill=\"#FFFFFF\" height=\"48.2656\" id=\"E7\" rx=\"10\" ry=\"10\" style=\"stroke:#181818;stroke-width:0.5;\" width=\"42\" x=\"169\" y=\"689\"/><text fill=\"#000000\" font-family=\"sans-serif\" font-size=\"12\" font-style=\"italic\" lengthAdjust=\"spacing\" textLength=\"40\" x=\"170\" y=\"705.1387\">«part»</text><text fill=\"#000000\" font-family=\"sans-serif\" font-size=\"14\" font-style=\"italic\" lengthAdjust=\"spacing\" textLength=\"8\" x=\"173\" y=\"720.9639\">a</text><text fill=\"#000000\" font-family=\"sans-serif\" font-size=\"14\" lengthAdjust=\"spacing\" textLength=\"18\" x=\"181\" y=\"720.9639\">: A</text><line style=\"stroke:#181818;stroke-width:0.5;\" x1=\"170\" x2=\"210\" y1=\"729.2656\" y2=\"729.2656\"/></g></a><!--MD5=[b9389687b975829384b498ac4b7476b2]\n",
       "class E8--><a href=\"psysml:1568c6af-b382-4c7f-b02a-0d87dd86c0f5\" target=\"_top\" title=\"psysml:1568c6af-b382-4c7f-b02a-0d87dd86c0f5\" xlink:actuate=\"onRequest\" xlink:href=\"psysml:1568c6af-b382-4c7f-b02a-0d87dd86c0f5\" xlink:show=\"new\" xlink:title=\"psysml:1568c6af-b382-4c7f-b02a-0d87dd86c0f5\" xlink:type=\"simple\"><g id=\"elem_E8\"><rect fill=\"#FFFFFF\" height=\"48.2656\" id=\"E8\" style=\"stroke:#181818;stroke-width:0.5;\" width=\"70\" x=\"124\" y=\"473\"/><text fill=\"#000000\" font-family=\"sans-serif\" font-size=\"12\" font-style=\"italic\" lengthAdjust=\"spacing\" textLength=\"68\" x=\"125\" y=\"489.1387\">«part  def»</text><text fill=\"#000000\" font-family=\"sans-serif\" font-size=\"14\" lengthAdjust=\"spacing\" textLength=\"10\" x=\"154\" y=\"504.9639\">C</text><line style=\"stroke:#181818;stroke-width:0.5;\" x1=\"125\" x2=\"193\" y1=\"513.2656\" y2=\"513.2656\"/></g></a><!--MD5=[fd4143e9d270a159db93a4ea2a975926]\n",
       "class E9--><a href=\"psysml:7b3481ba-f47b-4c12-87df-4d6f620e6d00\" target=\"_top\" title=\"psysml:7b3481ba-f47b-4c12-87df-4d6f620e6d00\" xlink:actuate=\"onRequest\" xlink:href=\"psysml:7b3481ba-f47b-4c12-87df-4d6f620e6d00\" xlink:show=\"new\" xlink:title=\"psysml:7b3481ba-f47b-4c12-87df-4d6f620e6d00\" xlink:type=\"simple\"><g id=\"elem_E9\"><rect fill=\"#FFFFFF\" height=\"48.2656\" id=\"E9\" style=\"stroke:#181818;stroke-width:0.5;\" width=\"70\" x=\"69\" y=\"41\"/><text fill=\"#000000\" font-family=\"sans-serif\" font-size=\"12\" font-style=\"italic\" lengthAdjust=\"spacing\" textLength=\"68\" x=\"70\" y=\"57.1387\">«port  def»</text><text fill=\"#000000\" font-family=\"sans-serif\" font-size=\"14\" lengthAdjust=\"spacing\" textLength=\"9\" x=\"99.5\" y=\"72.9639\">P</text><line style=\"stroke:#181818;stroke-width:0.5;\" x1=\"70\" x2=\"138\" y1=\"81.2656\" y2=\"81.2656\"/></g></a><!--MD5=[96f4274e9e20536e775497830990834d]\n",
       "class E10--><a href=\"psysml:116f794f-fd18-4d42-8d94-9abf783d43f0\" target=\"_top\" title=\"psysml:116f794f-fd18-4d42-8d94-9abf783d43f0\" xlink:actuate=\"onRequest\" xlink:href=\"psysml:116f794f-fd18-4d42-8d94-9abf783d43f0\" xlink:show=\"new\" xlink:title=\"psysml:116f794f-fd18-4d42-8d94-9abf783d43f0\" xlink:type=\"simple\"><g id=\"elem_E10\"><rect fill=\"#FFFFFF\" height=\"48.2656\" id=\"E10\" rx=\"10\" ry=\"10\" style=\"stroke:#181818;stroke-width:0.5;\" width=\"49\" x=\"116.5\" y=\"149\"/><text fill=\"#000000\" font-family=\"sans-serif\" font-size=\"12\" font-style=\"italic\" lengthAdjust=\"spacing\" textLength=\"41\" x=\"120.5\" y=\"165.1387\">«item»</text><text fill=\"#000000\" font-family=\"sans-serif\" font-size=\"14\" lengthAdjust=\"spacing\" textLength=\"35\" x=\"119.5\" y=\"180.9639\">a1: A</text><line style=\"stroke:#181818;stroke-width:0.5;\" x1=\"117.5\" x2=\"164.5\" y1=\"189.2656\" y2=\"189.2656\"/></g></a><!--MD5=[1dd1bfd58a279cf63c5f349dbc8fc6a1]\n",
       "class E11--><a href=\"psysml:16572df6-eec3-489a-80d1-3b65de425cbd\" target=\"_top\" title=\"psysml:16572df6-eec3-489a-80d1-3b65de425cbd\" xlink:actuate=\"onRequest\" xlink:href=\"psysml:16572df6-eec3-489a-80d1-3b65de425cbd\" xlink:show=\"new\" xlink:title=\"psysml:16572df6-eec3-489a-80d1-3b65de425cbd\" xlink:type=\"simple\"><g id=\"elem_E11\"><rect fill=\"#FFFFFF\" height=\"48.2656\" id=\"E11\" rx=\"10\" ry=\"10\" style=\"stroke:#181818;stroke-width:0.5;\" width=\"49\" x=\"32.5\" y=\"149\"/><text fill=\"#000000\" font-family=\"sans-serif\" font-size=\"12\" font-style=\"italic\" lengthAdjust=\"spacing\" textLength=\"41\" x=\"36.5\" y=\"165.1387\">«item»</text><text fill=\"#000000\" font-family=\"sans-serif\" font-size=\"14\" lengthAdjust=\"spacing\" textLength=\"35\" x=\"35.5\" y=\"180.9639\">a2: A</text><line style=\"stroke:#181818;stroke-width:0.5;\" x1=\"33.5\" x2=\"80.5\" y1=\"189.2656\" y2=\"189.2656\"/></g></a><!--MD5=[2720a5a1f2c3fca2055b230370638851]\n",
       "link E2 to E3--><g id=\"link_E2_E3\"><a href=\"psysml:70c9c3cf-ded5-4fad-940c-650d810049d2\" target=\"_top\" title=\"psysml:70c9c3cf-ded5-4fad-940c-650d810049d2\" xlink:actuate=\"onRequest\" xlink:href=\"psysml:70c9c3cf-ded5-4fad-940c-650d810049d2\" xlink:show=\"new\" xlink:title=\"psysml:70c9c3cf-ded5-4fad-940c-650d810049d2\" xlink:type=\"simple\"><path d=\"M207.5,197.21 C207.5,226.8 207.5,273 207.5,273 C207.5,273 196.59,273 196.59,273 \" fill=\"none\" id=\"E2-to-E3\" style=\"stroke:#181818;stroke-width:1.0;\"/><polygon fill=\"#FFFFFF\" points=\"176.59,273,195.59,266,195.59,280,176.59,273\" style=\"stroke:#181818;stroke-width:1.0;\"/><ellipse cx=\"201.29\" cy=\"268\" fill=\"#181818\" rx=\"2\" ry=\"2\" style=\"stroke:#181818;stroke-width:1.0;\"/><ellipse cx=\"201.29\" cy=\"278\" fill=\"#181818\" rx=\"2\" ry=\"2\" style=\"stroke:#181818;stroke-width:1.0;\"/></a></g><!--MD5=[4672eba38e49728da53d11aeb285b987]\n",
       "reverse link E3 to E4--><g id=\"link_E3_E4\"><a href=\"psysml:1e28e0ed-b5c0-4fac-98b2-855fbe266c1f\" target=\"_top\" title=\"psysml:1e28e0ed-b5c0-4fac-98b2-855fbe266c1f\" xlink:actuate=\"onRequest\" xlink:href=\"psysml:1e28e0ed-b5c0-4fac-98b2-855fbe266c1f\" xlink:show=\"new\" xlink:title=\"psysml:1e28e0ed-b5c0-4fac-98b2-855fbe266c1f\" xlink:type=\"simple\"><path d=\"M92.22,281 C92.22,281 85,281 85,281 C85,281 85,416.15 85,472.64 \" fill=\"none\" id=\"E3-backto-E4\" style=\"stroke:#181818;stroke-width:1.0;\"/><polygon fill=\"#181818\" points=\"105.22,281,99.22,277,93.22,281,99.22,285,105.22,281\" style=\"stroke:#181818;stroke-width:1.0;\"/></a></g><!--MD5=[191cde3d490a3f6d7bb551fe3ddca469]\n",
       "reverse link E3 to E5--><g id=\"link_E3_E5\"><a href=\"psysml:b5974af5-b28c-458b-89e4-95d46de68236\" target=\"_top\" title=\"psysml:b5974af5-b28c-458b-89e4-95d46de68236\" xlink:actuate=\"onRequest\" xlink:href=\"psysml:b5974af5-b28c-458b-89e4-95d46de68236\" xlink:show=\"new\" xlink:title=\"psysml:b5974af5-b28c-458b-89e4-95d46de68236\" xlink:type=\"simple\"><path d=\"M161.25,318.24 C161.25,318.24 161.25,364.84 161.25,364.84 \" fill=\"none\" id=\"E3-backto-E5\" style=\"stroke:#181818;stroke-width:1.0;\"/><polygon fill=\"none\" points=\"161.25,305.24,157.25,311.24,161.25,317.24,165.25,311.24,161.25,305.24\" style=\"stroke:#181818;stroke-width:1.0;\"/></a></g><!--MD5=[79568f1e445c3877b6a54524624ccc7d]\n",
       "link E4 to E6--><g id=\"link_E4_E6\"><a href=\"psysml:83940360-bfcd-4ab6-95b9-9006ad1a30a4\" target=\"_top\" title=\"psysml:83940360-bfcd-4ab6-95b9-9006ad1a30a4\" xlink:actuate=\"onRequest\" xlink:href=\"psysml:83940360-bfcd-4ab6-95b9-9006ad1a30a4\" xlink:show=\"new\" xlink:title=\"psysml:83940360-bfcd-4ab6-95b9-9006ad1a30a4\" xlink:type=\"simple\"><path d=\"M67,521.24 C67,553.08 67,605 67,605 C67,605 102.3,605 102.3,605 \" fill=\"none\" id=\"E4-to-E6\" style=\"stroke:#181818;stroke-width:1.0;\"/><polygon fill=\"#FFFFFF\" points=\"122.3,605,103.3,612,103.3,598,122.3,605\" style=\"stroke:#181818;stroke-width:1.0;\"/><ellipse cx=\"97.6\" cy=\"610\" fill=\"#181818\" rx=\"2\" ry=\"2\" style=\"stroke:#181818;stroke-width:1.0;\"/><ellipse cx=\"97.6\" cy=\"600\" fill=\"#181818\" rx=\"2\" ry=\"2\" style=\"stroke:#181818;stroke-width:1.0;\"/></a></g><!--MD5=[3f50a3473f1dfb74d3f76443e03635af]\n",
       "reverse link E6 to E7--><g id=\"link_E6_E7\"><a href=\"psysml:c7c30ff0-7abe-445a-9147-4c620b104f3e\" target=\"_top\" title=\"psysml:c7c30ff0-7abe-445a-9147-4c620b104f3e\" xlink:actuate=\"onRequest\" xlink:href=\"psysml:c7c30ff0-7abe-445a-9147-4c620b104f3e\" xlink:show=\"new\" xlink:title=\"psysml:c7c30ff0-7abe-445a-9147-4c620b104f3e\" xlink:type=\"simple\"><path d=\"M181.25,642.24 C181.25,642.24 181.25,688.84 181.25,688.84 \" fill=\"none\" id=\"E6-backto-E7\" style=\"stroke:#181818;stroke-width:1.0;\"/><polygon fill=\"#181818\" points=\"181.25,629.24,177.25,635.24,181.25,641.24,185.25,635.24,181.25,629.24\" style=\"stroke:#181818;stroke-width:1.0;\"/></a></g><!--MD5=[14ccda38c055a5c0da953d572bc50960]\n",
       "link E7 to E3--><g id=\"link_E7_E3\"><a href=\"psysml:4a79bdb3-77e8-4e9c-befa-ce9a0c7716db\" target=\"_top\" title=\"psysml:4a79bdb3-77e8-4e9c-befa-ce9a0c7716db\" xlink:actuate=\"onRequest\" xlink:href=\"psysml:4a79bdb3-77e8-4e9c-befa-ce9a0c7716db\" xlink:show=\"new\" xlink:title=\"psysml:4a79bdb3-77e8-4e9c-befa-ce9a0c7716db\" xlink:type=\"simple\"><path d=\"M204,688.99 C204,599.29 204,289 204,289 C204,289 196.55,289 196.55,289 \" fill=\"none\" id=\"E7-to-E3\" style=\"stroke:#181818;stroke-width:1.0;\"/><polygon fill=\"#FFFFFF\" points=\"176.55,289,195.55,282,195.55,296,176.55,289\" style=\"stroke:#181818;stroke-width:1.0;\"/><ellipse cx=\"201.25\" cy=\"284\" fill=\"#181818\" rx=\"2\" ry=\"2\" style=\"stroke:#181818;stroke-width:1.0;\"/><ellipse cx=\"201.25\" cy=\"294\" fill=\"#181818\" rx=\"2\" ry=\"2\" style=\"stroke:#181818;stroke-width:1.0;\"/></a></g><!--MD5=[dfaffb906826c3e5aca635516100ff21]\n",
       "link E5 to E8--><g id=\"link_E5_E8\"><a href=\"psysml:d776694e-c79b-404c-b561-ae1c1a2e3f3d\" target=\"_top\" title=\"psysml:d776694e-c79b-404c-b561-ae1c1a2e3f3d\" xlink:actuate=\"onRequest\" xlink:href=\"psysml:d776694e-c79b-404c-b561-ae1c1a2e3f3d\" xlink:show=\"new\" xlink:title=\"psysml:d776694e-c79b-404c-b561-ae1c1a2e3f3d\" xlink:type=\"simple\"><path d=\"M167,413.24 C167,413.24 167,452.84 167,452.84 \" fill=\"none\" id=\"E5-to-E8\" style=\"stroke:#181818;stroke-width:1.0;\"/><polygon fill=\"#FFFFFF\" points=\"167,472.84,160,453.84,174,453.84,167,472.84\" style=\"stroke:#181818;stroke-width:1.0;\"/><ellipse cx=\"162\" cy=\"448.14\" fill=\"#181818\" rx=\"2\" ry=\"2\" style=\"stroke:#181818;stroke-width:1.0;\"/><ellipse cx=\"172\" cy=\"448.14\" fill=\"#181818\" rx=\"2\" ry=\"2\" style=\"stroke:#181818;stroke-width:1.0;\"/></a></g><!--MD5=[03c8294790d3c57651a1993cecff665f]\n",
       "reverse link E8 to E3--><g id=\"link_E8_E3\"><a href=\"psysml:c4551329-8b56-4fd0-9fbf-f2d280f6b39b\" target=\"_top\" title=\"psysml:c4551329-8b56-4fd0-9fbf-f2d280f6b39b\" xlink:actuate=\"onRequest\" xlink:href=\"psysml:c4551329-8b56-4fd0-9fbf-f2d280f6b39b\" xlink:show=\"new\" xlink:title=\"psysml:c4551329-8b56-4fd0-9fbf-f2d280f6b39b\" xlink:type=\"simple\"><path d=\"M135,459.64 C135,459.64 135,305.27 135,305.27 \" fill=\"none\" id=\"E8-backto-E3\" style=\"stroke:#181818;stroke-width:1.0;\"/><polygon fill=\"none\" points=\"135,472.64,139,466.64,135,460.64,131,466.64,135,472.64\" style=\"stroke:#181818;stroke-width:1.0;\"/><text fill=\"#000000\" font-family=\"sans-serif\" font-size=\"13\" lengthAdjust=\"spacing\" textLength=\"7\" x=\"127\" y=\"378.5269\">y</text></a></g><!--MD5=[0d75d2178373a6a4568e5dc728f58aef]\n",
       "reverse link E8 to E6--><g id=\"link_E8_E6\"><a href=\"psysml:c4551329-8b56-4fd0-9fbf-f2d280f6b39b\" target=\"_top\" title=\"psysml:c4551329-8b56-4fd0-9fbf-f2d280f6b39b\" xlink:actuate=\"onRequest\" xlink:href=\"psysml:c4551329-8b56-4fd0-9fbf-f2d280f6b39b\" xlink:show=\"new\" xlink:title=\"psysml:c4551329-8b56-4fd0-9fbf-f2d280f6b39b\" xlink:type=\"simple\"><path d=\"M158.75,534.24 C158.75,534.24 158.75,580.84 158.75,580.84 \" fill=\"none\" id=\"E8-backto-E6\" style=\"stroke:#181818;stroke-width:1.0;\"/><polygon fill=\"none\" points=\"158.75,521.24,154.75,527.24,158.75,533.24,162.75,527.24,158.75,521.24\" style=\"stroke:#181818;stroke-width:1.0;\"/><text fill=\"#000000\" font-family=\"sans-serif\" font-size=\"13\" lengthAdjust=\"spacing\" textLength=\"7\" x=\"150.75\" y=\"553.6069\">y</text></a></g><!--MD5=[23ac544a70576c3e717098101004234c]\n",
       "reverse link E9 to E10--><g id=\"link_E9_E10\"><a href=\"psysml:5a5abb4f-4a57-47f4-8d13-1f5dca85ed3b\" target=\"_top\" title=\"psysml:5a5abb4f-4a57-47f4-8d13-1f5dca85ed3b\" xlink:actuate=\"onRequest\" xlink:href=\"psysml:5a5abb4f-4a57-47f4-8d13-1f5dca85ed3b\" xlink:show=\"new\" xlink:title=\"psysml:5a5abb4f-4a57-47f4-8d13-1f5dca85ed3b\" xlink:type=\"simple\"><path d=\"M127.75,102.24 C127.75,102.24 127.75,148.84 127.75,148.84 \" fill=\"none\" id=\"E9-backto-E10\" style=\"stroke:#181818;stroke-width:1.0;\"/><polygon fill=\"none\" points=\"127.75,89.24,123.75,95.24,127.75,101.24,131.75,95.24,127.75,89.24\" style=\"stroke:#181818;stroke-width:1.0;\"/></a></g><!--MD5=[feeac5eb423634930294aa81f2d25a4c]\n",
       "link E10 to E3--><g id=\"link_E10_E3\"><a href=\"psysml:d7f66802-941a-4496-884a-36d82493c03e\" target=\"_top\" title=\"psysml:d7f66802-941a-4496-884a-36d82493c03e\" xlink:actuate=\"onRequest\" xlink:href=\"psysml:d7f66802-941a-4496-884a-36d82493c03e\" xlink:show=\"new\" xlink:title=\"psysml:d7f66802-941a-4496-884a-36d82493c03e\" xlink:type=\"simple\"><path d=\"M141,197.24 C141,197.24 141,236.84 141,236.84 \" fill=\"none\" id=\"E10-to-E3\" style=\"stroke:#181818;stroke-width:1.0;\"/><polygon fill=\"#FFFFFF\" points=\"141,256.84,134,237.84,148,237.84,141,256.84\" style=\"stroke:#181818;stroke-width:1.0;\"/><ellipse cx=\"136\" cy=\"232.14\" fill=\"#181818\" rx=\"2\" ry=\"2\" style=\"stroke:#181818;stroke-width:1.0;\"/><ellipse cx=\"146\" cy=\"232.14\" fill=\"#181818\" rx=\"2\" ry=\"2\" style=\"stroke:#181818;stroke-width:1.0;\"/></a></g><!--MD5=[1fc04a95fd77ad5ce46c1a3027516051]\n",
       "reverse link E9 to E11--><g id=\"link_E9_E11\"><a href=\"psysml:8187499b-9a51-4939-bbf5-c8a0ee670e5b\" target=\"_top\" title=\"psysml:8187499b-9a51-4939-bbf5-c8a0ee670e5b\" xlink:actuate=\"onRequest\" xlink:href=\"psysml:8187499b-9a51-4939-bbf5-c8a0ee670e5b\" xlink:show=\"new\" xlink:title=\"psysml:8187499b-9a51-4939-bbf5-c8a0ee670e5b\" xlink:type=\"simple\"><path d=\"M75.25,102.24 C75.25,102.24 75.25,148.84 75.25,148.84 \" fill=\"none\" id=\"E9-backto-E11\" style=\"stroke:#181818;stroke-width:1.0;\"/><polygon fill=\"none\" points=\"75.25,89.24,71.25,95.24,75.25,101.24,79.25,95.24,75.25,89.24\" style=\"stroke:#181818;stroke-width:1.0;\"/></a></g><!--MD5=[0517f1ce58c4d5483948f93845c45e26]\n",
       "link E11 to E3--><g id=\"link_E11_E3\"><a href=\"psysml:ca7307c2-0235-4c1e-8766-bbb66b330e4f\" target=\"_top\" title=\"psysml:ca7307c2-0235-4c1e-8766-bbb66b330e4f\" xlink:actuate=\"onRequest\" xlink:href=\"psysml:ca7307c2-0235-4c1e-8766-bbb66b330e4f\" xlink:show=\"new\" xlink:title=\"psysml:ca7307c2-0235-4c1e-8766-bbb66b330e4f\" xlink:type=\"simple\"><path d=\"M81.79,173 C95.98,173 111,173 111,173 C111,173 111,236.76 111,236.76 \" fill=\"none\" id=\"E11-to-E3\" style=\"stroke:#181818;stroke-width:1.0;\"/><polygon fill=\"#FFFFFF\" points=\"111,256.76,104,237.76,118,237.76,111,256.76\" style=\"stroke:#181818;stroke-width:1.0;\"/><ellipse cx=\"106\" cy=\"232.06\" fill=\"#181818\" rx=\"2\" ry=\"2\" style=\"stroke:#181818;stroke-width:1.0;\"/><ellipse cx=\"116\" cy=\"232.06\" fill=\"#181818\" rx=\"2\" ry=\"2\" style=\"stroke:#181818;stroke-width:1.0;\"/></a></g><!--MD5=[a82d2c2810c47b6a1ce4ca0e5fafc171]\n",
       "@startuml\r\n",
       "skin sysmlbw\r\n",
       "skinparam monochrome true\r\n",
       "skinparam wrapWidth 300\r\n",
       "hide circle\r\n",
       "skinparam linetype ortho\r\n",
       "\r\n",
       "package \"ItemTest\" as E1  [[psysml:cd87d2b7-4fa1-4c1b-a4f6-af691b0dec58 ]]  {\r\n",
       "comp usage \"f: A  \" as E2  <<(T,blue) item>> [[psysml:a6e7d788-746b-466d-b844-23a78300b1ae ]] {\r\n",
       "}\r\n",
       "comp def \"A\" as E3  <<(T,blue) item  def>> [[psysml:7645df02-ea24-41fb-927b-82e0988a44f2 ]] {\r\n",
       "}\r\n",
       "comp usage \"b: B  \" as E4  <<(T,blue) item>> [[psysml:426ed2e2-6591-4c8f-a505-52d546190911 ]] {\r\n",
       "}\r\n",
       "comp usage \"c: C  \" as E5  <<(T,blue) part>> [[psysml:331ec08e-03d4-4ef2-9768-da2cb6dfa326 ]] {\r\n",
       "}\r\n",
       "comp def \"<i>B</i>\" as E6  <<(T,blue) item  def>> [[psysml:1c5a109b-6d3b-4425-b763-85184515822e ]] {\r\n",
       "}\r\n",
       "comp usage \"<i>a</i>: A  \" as E7  <<(T,blue) part>> [[psysml:3d3f18ff-1114-439a-91a9-78796a10458c ]] {\r\n",
       "}\r\n",
       "comp def \"C\" as E8  <<(T,blue) part  def>> [[psysml:1568c6af-b382-4c7f-b02a-0d87dd86c0f5 ]] {\r\n",
       "}\r\n",
       "comp def \"P\" as E9  <<(T,blue) port  def>> [[psysml:7b3481ba-f47b-4c12-87df-4d6f620e6d00 ]] {\r\n",
       "}\r\n",
       "comp usage \"a1: A  \" as E10  <<(T,blue) item>> [[psysml:116f794f-fd18-4d42-8d94-9abf783d43f0 ]] {\r\n",
       "}\r\n",
       "comp usage \"a2: A  \" as E11  <<(T,blue) item>> [[psysml:16572df6-eec3-489a-80d1-3b65de425cbd ]] {\r\n",
       "}\r\n",
       "}\r\n",
       "E2 - -:|> E3 [[psysml:70c9c3cf-ded5-4fad-940c-650d810049d2 ]] \r\n",
       "E3 *- - E4 [[psysml:1e28e0ed-b5c0-4fac-98b2-855fbe266c1f ]] \r\n",
       "E3 o- - E5 [[psysml:b5974af5-b28c-458b-89e4-95d46de68236 ]] \r\n",
       "E4 - -:|> E6 [[psysml:83940360-bfcd-4ab6-95b9-9006ad1a30a4 ]] \r\n",
       "E6 *- - E7 [[psysml:c7c30ff0-7abe-445a-9147-4c620b104f3e ]] \r\n",
       "E7 - -:|> E3 [[psysml:4a79bdb3-77e8-4e9c-befa-ce9a0c7716db ]] \r\n",
       "E5 - -:|> E8 [[psysml:d776694e-c79b-404c-b561-ae1c1a2e3f3d ]] \r\n",
       "E8 o- - E3 [[psysml:c4551329-8b56-4fd0-9fbf-f2d280f6b39b ]] : y\r\n",
       "E8 o- - E6 [[psysml:c4551329-8b56-4fd0-9fbf-f2d280f6b39b ]] : y\r\n",
       "E9 o- - E10 [[psysml:5a5abb4f-4a57-47f4-8d13-1f5dca85ed3b ]] \r\n",
       "E10 - -:|> E3 [[psysml:d7f66802-941a-4496-884a-36d82493c03e ]] \r\n",
       "E9 o- - E11 [[psysml:8187499b-9a51-4939-bbf5-c8a0ee670e5b ]] \r\n",
       "E11 - -:|> E3 [[psysml:ca7307c2-0235-4c1e-8766-bbb66b330e4f ]] \r\n",
       "@enduml\r\n",
       "\n",
       "PlantUML version 1.2022.7(Mon Aug 22 17:01:30 UTC 2022)\n",
       "(EPL source distribution)\n",
       "Java Runtime: OpenJDK Runtime Environment\n",
       "JVM: OpenJDK 64-Bit Server VM\n",
       "Default Encoding: UTF-8\n",
       "Language: en\n",
       "Country: null\n",
       "--></g></svg>"
      ]
     },
     "execution_count": 52,
     "metadata": {},
     "output_type": "execute_result"
    }
   ],
   "source": [
    "%viz --style=\"ORTHOLINE\" --view=\"Tree\" \"ItemTest\""
   ]
  },
  {
   "cell_type": "code",
   "execution_count": 53,
   "id": "b75941ad",
   "metadata": {
    "execution": {
     "iopub.execute_input": "2024-12-16T14:15:19.286981Z",
     "iopub.status.busy": "2024-12-16T14:15:19.286752Z",
     "iopub.status.idle": "2024-12-16T14:15:19.291144Z",
     "shell.execute_reply": "2024-12-16T14:15:19.290958Z"
    }
   },
   "outputs": [
    {
     "data": {
      "image/svg+xml": [
       "<?xml version=\"1.0\" encoding=\"UTF-8\" standalone=\"no\"?><svg xmlns=\"http://www.w3.org/2000/svg\" xmlns:xlink=\"http://www.w3.org/1999/xlink\" contentStyleType=\"text/css\" height=\"10px\" preserveAspectRatio=\"none\" style=\"width:10px;height:10px;background:#FFFFFF;\" version=\"1.1\" viewBox=\"0 0 10 10\" width=\"10px\" zoomAndPan=\"magnify\"><defs/><g><!--MD5=[db5337d1ba6fd3a35e07e04988169323]\n",
       "@startuml\r\n",
       "skin sysmlbw\r\n",
       "skinparam monochrome true\r\n",
       "skinparam wrapWidth 300\r\n",
       "hide circle\r\n",
       "skinparam linetype ortho\r\n",
       "\r\n",
       "@enduml\r\n",
       "\n",
       "PlantUML version 1.2022.7(Mon Aug 22 17:01:30 UTC 2022)\n",
       "(EPL source distribution)\n",
       "Java Runtime: OpenJDK Runtime Environment\n",
       "JVM: OpenJDK 64-Bit Server VM\n",
       "Default Encoding: UTF-8\n",
       "Language: en\n",
       "Country: null\n",
       "--></g></svg>"
      ]
     },
     "execution_count": 53,
     "metadata": {},
     "output_type": "execute_result"
    }
   ],
   "source": [
    "%viz --style=\"ORTHOLINE\" --view=\"State\" \"ItemTest\""
   ]
  },
  {
   "cell_type": "code",
   "execution_count": 54,
   "id": "9eaff9b1",
   "metadata": {
    "execution": {
     "iopub.execute_input": "2024-12-16T14:15:19.343036Z",
     "iopub.status.busy": "2024-12-16T14:15:19.342811Z",
     "iopub.status.idle": "2024-12-16T14:15:19.358404Z",
     "shell.execute_reply": "2024-12-16T14:15:19.357602Z"
    }
   },
   "outputs": [
    {
     "data": {
      "image/svg+xml": [
       "<?xml version=\"1.0\" encoding=\"UTF-8\" standalone=\"no\"?><svg xmlns=\"http://www.w3.org/2000/svg\" xmlns:xlink=\"http://www.w3.org/1999/xlink\" contentStyleType=\"text/css\" height=\"245px\" preserveAspectRatio=\"none\" style=\"width:478px;height:245px;background:#FFFFFF;\" version=\"1.1\" viewBox=\"0 0 478 245\" width=\"478px\" zoomAndPan=\"magnify\"><defs/><g><!--MD5=[fbc87193dbaf4d95561dea2c320d4a47]\n",
       "cluster E1--><g id=\"cluster_E1\"><a href=\"psysml:cd87d2b7-4fa1-4c1b-a4f6-af691b0dec58\" target=\"_top\" title=\"psysml:cd87d2b7-4fa1-4c1b-a4f6-af691b0dec58\" xlink:actuate=\"onRequest\" xlink:href=\"psysml:cd87d2b7-4fa1-4c1b-a4f6-af691b0dec58\" xlink:show=\"new\" xlink:title=\"psysml:cd87d2b7-4fa1-4c1b-a4f6-af691b0dec58\" xlink:type=\"simple\"><polygon fill=\"none\" points=\"16,6,86.5,6,93.5,28.2969,461,28.2969,461,238,16,238,16,6\" style=\"stroke:#000000;stroke-width:1.5;\"/><line style=\"stroke:#000000;stroke-width:1.5;\" x1=\"16\" x2=\"93.5\" y1=\"28.2969\" y2=\"28.2969\"/><text fill=\"#000000\" font-family=\"sans-serif\" font-size=\"14\" font-weight=\"bold\" lengthAdjust=\"spacing\" textLength=\"64.5\" x=\"20\" y=\"20.9951\">ItemTest</text></a></g><!--MD5=[de5ec2e2e8f62f467e546659f5068c88]\n",
       "cluster E5--><g id=\"cluster_E5\"><a href=\"psysml:1568c6af-b382-4c7f-b02a-0d87dd86c0f5\" target=\"_top\" title=\"psysml:1568c6af-b382-4c7f-b02a-0d87dd86c0f5\" xlink:actuate=\"onRequest\" xlink:href=\"psysml:1568c6af-b382-4c7f-b02a-0d87dd86c0f5\" xlink:show=\"new\" xlink:title=\"psysml:1568c6af-b382-4c7f-b02a-0d87dd86c0f5\" xlink:type=\"simple\"><rect fill=\"#FFFFFF\" height=\"112\" id=\"E5\" style=\"stroke:#383838;stroke-width:1.5;\" width=\"114\" x=\"323\" y=\"49\"/><text fill=\"#000000\" font-family=\"sans-serif\" font-size=\"12\" font-style=\"italic\" lengthAdjust=\"spacing\" textLength=\"68\" x=\"346\" y=\"65.1387\">«part  def»</text><text fill=\"#000000\" font-family=\"sans-serif\" font-size=\"14\" lengthAdjust=\"spacing\" textLength=\"10\" x=\"375\" y=\"80.9639\">C</text><line style=\"stroke:#383838;stroke-width:1.0;\" x1=\"323\" x2=\"437\" y1=\"89.2656\" y2=\"89.2656\"/></a></g><g><a href=\"psysml:7645df02-ea24-41fb-927b-82e0988a44f2\" target=\"_top\" title=\"psysml:7645df02-ea24-41fb-927b-82e0988a44f2\" xlink:actuate=\"onRequest\" xlink:href=\"psysml:7645df02-ea24-41fb-927b-82e0988a44f2\" xlink:show=\"new\" xlink:title=\"psysml:7645df02-ea24-41fb-927b-82e0988a44f2\" xlink:type=\"simple\"><rect fill=\"#FFFFFF\" height=\"45.2656\" id=\"E3\" style=\"stroke:#383838;stroke-width:1.5;\" width=\"76\" x=\"32\" y=\"177\"/><text fill=\"#000000\" font-family=\"sans-serif\" font-size=\"12\" font-style=\"italic\" lengthAdjust=\"spacing\" textLength=\"69\" x=\"35.5\" y=\"193.1387\">«item  def»</text><text fill=\"#000000\" font-family=\"sans-serif\" font-size=\"14\" lengthAdjust=\"spacing\" textLength=\"9\" x=\"65.5\" y=\"208.9639\">A</text></a></g><g><a href=\"psysml:1c5a109b-6d3b-4425-b763-85184515822e\" target=\"_top\" title=\"psysml:1c5a109b-6d3b-4425-b763-85184515822e\" xlink:actuate=\"onRequest\" xlink:href=\"psysml:1c5a109b-6d3b-4425-b763-85184515822e\" xlink:show=\"new\" xlink:title=\"psysml:1c5a109b-6d3b-4425-b763-85184515822e\" xlink:type=\"simple\"><rect fill=\"#FFFFFF\" height=\"45.2656\" id=\"E4\" style=\"stroke:#383838;stroke-width:1.5;\" width=\"76\" x=\"228\" y=\"100\"/><text fill=\"#000000\" font-family=\"sans-serif\" font-size=\"12\" font-style=\"italic\" lengthAdjust=\"spacing\" textLength=\"69\" x=\"231.5\" y=\"116.1387\">«item  def»</text><text fill=\"#000000\" font-family=\"sans-serif\" font-size=\"14\" font-style=\"italic\" lengthAdjust=\"spacing\" textLength=\"10\" x=\"261\" y=\"131.9639\">B</text></a></g><g><a href=\"psysml:7b3481ba-f47b-4c12-87df-4d6f620e6d00\" target=\"_top\" title=\"psysml:7b3481ba-f47b-4c12-87df-4d6f620e6d00\" xlink:actuate=\"onRequest\" xlink:href=\"psysml:7b3481ba-f47b-4c12-87df-4d6f620e6d00\" xlink:show=\"new\" xlink:title=\"psysml:7b3481ba-f47b-4c12-87df-4d6f620e6d00\" xlink:type=\"simple\"><rect fill=\"#FFFFFF\" height=\"45.2656\" id=\"E7\" style=\"stroke:#383838;stroke-width:1.5;\" width=\"75\" x=\"117.5\" y=\"100\"/><text fill=\"#000000\" font-family=\"sans-serif\" font-size=\"12\" font-style=\"italic\" lengthAdjust=\"spacing\" textLength=\"68\" x=\"121\" y=\"116.1387\">«port  def»</text><text fill=\"#000000\" font-family=\"sans-serif\" font-size=\"14\" lengthAdjust=\"spacing\" textLength=\"9\" x=\"150.5\" y=\"131.9639\">P</text></a></g><g><a href=\"psysml:a6e7d788-746b-466d-b844-23a78300b1ae\" target=\"_top\" title=\"psysml:a6e7d788-746b-466d-b844-23a78300b1ae\" xlink:actuate=\"onRequest\" xlink:href=\"psysml:a6e7d788-746b-466d-b844-23a78300b1ae\" xlink:show=\"new\" xlink:title=\"psysml:a6e7d788-746b-466d-b844-23a78300b1ae\" xlink:type=\"simple\"><rect fill=\"#FFFFFF\" height=\"45.2656\" id=\"E2\" rx=\"10\" ry=\"10\" style=\"stroke:#383838;stroke-width:1.5;\" width=\"50\" x=\"32\" y=\"100\"/><text fill=\"#000000\" font-family=\"sans-serif\" font-size=\"12\" font-style=\"italic\" lengthAdjust=\"spacing\" textLength=\"41\" x=\"36.5\" y=\"116.1387\">«item»</text><text fill=\"#000000\" font-family=\"sans-serif\" font-size=\"14\" lengthAdjust=\"spacing\" textLength=\"22\" x=\"46\" y=\"131.9639\">f: A</text></a></g><g><a href=\"psysml:c4551329-8b56-4fd0-9fbf-f2d280f6b39b\" target=\"_top\" title=\"psysml:c4551329-8b56-4fd0-9fbf-f2d280f6b39b\" xlink:actuate=\"onRequest\" xlink:href=\"psysml:c4551329-8b56-4fd0-9fbf-f2d280f6b39b\" xlink:show=\"new\" xlink:title=\"psysml:c4551329-8b56-4fd0-9fbf-f2d280f6b39b\" xlink:type=\"simple\"><rect fill=\"#FFFFFF\" height=\"45.2656\" id=\"E6\" rx=\"10\" ry=\"10\" style=\"stroke:#383838;stroke-width:1.5;\" width=\"82\" x=\"339\" y=\"100\"/><text fill=\"#000000\" font-family=\"sans-serif\" font-size=\"12\" font-style=\"italic\" lengthAdjust=\"spacing\" textLength=\"75\" x=\"342.5\" y=\"116.1387\">«reference»</text><text fill=\"#000000\" font-family=\"sans-serif\" font-size=\"14\" lengthAdjust=\"spacing\" textLength=\"43\" x=\"354.5\" y=\"131.9639\">y: A, B</text></a></g><!--MD5=[2720a5a1f2c3fca2055b230370638851]\n",
       "link E2 to E3--><g id=\"link_E2_E3\"><a href=\"psysml:70c9c3cf-ded5-4fad-940c-650d810049d2\" target=\"_top\" title=\"psysml:70c9c3cf-ded5-4fad-940c-650d810049d2\" xlink:actuate=\"onRequest\" xlink:href=\"psysml:70c9c3cf-ded5-4fad-940c-650d810049d2\" xlink:show=\"new\" xlink:title=\"psysml:70c9c3cf-ded5-4fad-940c-650d810049d2\" xlink:type=\"simple\"><path d=\"M57,145.19 C57,145.19 57,156.98 57,156.98 \" fill=\"none\" id=\"E2-to-E3\" style=\"stroke:#181818;stroke-width:1.0;\"/><polygon fill=\"#FFFFFF\" points=\"57,176.98,50,157.98,64,157.98,57,176.98\" style=\"stroke:#181818;stroke-width:1.0;\"/><ellipse cx=\"52\" cy=\"152.28\" fill=\"#181818\" rx=\"2\" ry=\"2\" style=\"stroke:#181818;stroke-width:1.0;\"/><ellipse cx=\"62\" cy=\"152.28\" fill=\"#181818\" rx=\"2\" ry=\"2\" style=\"stroke:#181818;stroke-width:1.0;\"/></a></g><!--MD5=[5681d69b527d6c6fe305aaa1a1085f7b]\n",
       "@startuml\r\n",
       "skin sysmlbw\r\n",
       "skinparam monochrome true\r\n",
       "skinparam wrapWidth 300\r\n",
       "hide circle\r\n",
       "skinparam linetype ortho\r\n",
       "skinparam ranksep 10\r\n",
       "skinparam rectangle {\r\n",
       " backgroundColor<<block>> LightGreen\r\n",
       "}\r\n",
       "\r\n",
       "package \"ItemTest\" as E1  [[psysml:cd87d2b7-4fa1-4c1b-a4f6-af691b0dec58 ]]  {\r\n",
       "rec usage \"f: A\" as E2  <<(T,blue) item>> [[psysml:a6e7d788-746b-466d-b844-23a78300b1ae ]] {\r\n",
       "}\r\n",
       "def \"A\" as E3  <<(T,blue) item  def>> [[psysml:7645df02-ea24-41fb-927b-82e0988a44f2 ]] \r\n",
       "def \"<i>B</i>\" as E4  <<(T,blue) item  def>> [[psysml:1c5a109b-6d3b-4425-b763-85184515822e ]] \r\n",
       "rec def \"C\" as E5  <<(T,blue) part  def>> [[psysml:1568c6af-b382-4c7f-b02a-0d87dd86c0f5 ]] {\r\n",
       "rec usage \"y: A, B  \" as E6  <<(T,blue) reference>> [[psysml:c4551329-8b56-4fd0-9fbf-f2d280f6b39b ]] {\r\n",
       "}\r\n",
       "\r\n",
       "}\r\n",
       "def \"P\" as E7  <<(T,blue) port  def>> [[psysml:7b3481ba-f47b-4c12-87df-4d6f620e6d00 ]] \r\n",
       "}\r\n",
       "E2 - -:|> E3 [[psysml:70c9c3cf-ded5-4fad-940c-650d810049d2 ]] \r\n",
       "@enduml\r\n",
       "\n",
       "PlantUML version 1.2022.7(Mon Aug 22 17:01:30 UTC 2022)\n",
       "(EPL source distribution)\n",
       "Java Runtime: OpenJDK Runtime Environment\n",
       "JVM: OpenJDK 64-Bit Server VM\n",
       "Default Encoding: UTF-8\n",
       "Language: en\n",
       "Country: null\n",
       "--></g></svg>"
      ]
     },
     "execution_count": 54,
     "metadata": {},
     "output_type": "execute_result"
    }
   ],
   "source": [
    "%viz --style=\"ORTHOLINE\" --view=\"Interconnection\" \"ItemTest\""
   ]
  },
  {
   "cell_type": "code",
   "execution_count": 55,
   "id": "d64ac364",
   "metadata": {
    "execution": {
     "iopub.execute_input": "2024-12-16T14:15:19.409898Z",
     "iopub.status.busy": "2024-12-16T14:15:19.409664Z",
     "iopub.status.idle": "2024-12-16T14:15:19.414080Z",
     "shell.execute_reply": "2024-12-16T14:15:19.413898Z"
    }
   },
   "outputs": [
    {
     "data": {
      "image/svg+xml": [
       "<?xml version=\"1.0\" encoding=\"UTF-8\" standalone=\"no\"?><svg xmlns=\"http://www.w3.org/2000/svg\" xmlns:xlink=\"http://www.w3.org/1999/xlink\" contentStyleType=\"text/css\" height=\"10px\" preserveAspectRatio=\"none\" style=\"width:10px;height:10px;background:#FFFFFF;\" version=\"1.1\" viewBox=\"0 0 10 10\" width=\"10px\" zoomAndPan=\"magnify\"><defs/><g><!--MD5=[13654d10b9e2b79db36f00fd31e63fb2]\n",
       "@startuml\r\n",
       "skin sysmlbw\r\n",
       "skinparam monochrome true\r\n",
       "skinparam wrapWidth 300\r\n",
       "hide circle\r\n",
       "skinparam linetype ortho\r\n",
       "skinparam ranksep 8\r\n",
       "\r\n",
       "@enduml\r\n",
       "\n",
       "PlantUML version 1.2022.7(Mon Aug 22 17:01:30 UTC 2022)\n",
       "(EPL source distribution)\n",
       "Java Runtime: OpenJDK Runtime Environment\n",
       "JVM: OpenJDK 64-Bit Server VM\n",
       "Default Encoding: UTF-8\n",
       "Language: en\n",
       "Country: null\n",
       "--></g></svg>"
      ]
     },
     "execution_count": 55,
     "metadata": {},
     "output_type": "execute_result"
    }
   ],
   "source": [
    "%viz --style=\"ORTHOLINE\" --view=\"Action\" \"ItemTest\""
   ]
  },
  {
   "cell_type": "code",
   "execution_count": 56,
   "id": "3b1224d9",
   "metadata": {
    "execution": {
     "iopub.execute_input": "2024-12-16T14:15:19.468369Z",
     "iopub.status.busy": "2024-12-16T14:15:19.468051Z",
     "iopub.status.idle": "2024-12-16T14:15:19.473548Z",
     "shell.execute_reply": "2024-12-16T14:15:19.473351Z"
    }
   },
   "outputs": [
    {
     "data": {
      "image/svg+xml": [
       "<?xml version=\"1.0\" encoding=\"UTF-8\" standalone=\"no\"?><svg xmlns=\"http://www.w3.org/2000/svg\" xmlns:xlink=\"http://www.w3.org/1999/xlink\" contentStyleType=\"text/css\" height=\"10px\" preserveAspectRatio=\"none\" style=\"width:10px;height:10px;background:#FFFFFF;\" version=\"1.1\" viewBox=\"0 0 10 10\" width=\"10px\" zoomAndPan=\"magnify\"><defs/><g><!--MD5=[5b6eb85285460e34b0e63326afe72cc5]\n",
       "@startuml\r\n",
       "skin sysmlbw\r\n",
       "skinparam monochrome true\r\n",
       "skinparam wrapWidth 300\r\n",
       "hide circle\r\n",
       "skinparam linetype ortho\r\n",
       "skinparam roundcorner 20\r\n",
       "skinparam BoxPadding 20\r\n",
       "skinparam SequenceBoxBackgroundColor #white\r\n",
       "skinparam style strictuml\r\n",
       "skinparam maxMessageSize 100\r\n",
       "\r\n",
       "@enduml\r\n",
       "\n",
       "PlantUML version 1.2022.7(Mon Aug 22 17:01:30 UTC 2022)\n",
       "(EPL source distribution)\n",
       "Java Runtime: OpenJDK Runtime Environment\n",
       "JVM: OpenJDK 64-Bit Server VM\n",
       "Default Encoding: UTF-8\n",
       "Language: en\n",
       "Country: null\n",
       "--></g></svg>"
      ]
     },
     "execution_count": 56,
     "metadata": {},
     "output_type": "execute_result"
    }
   ],
   "source": [
    "%viz --style=\"ORTHOLINE\" --view=\"Sequence\" \"ItemTest\""
   ]
  },
  {
   "cell_type": "code",
   "execution_count": 57,
   "id": "d2779e36",
   "metadata": {
    "execution": {
     "iopub.execute_input": "2024-12-16T14:15:19.530698Z",
     "iopub.status.busy": "2024-12-16T14:15:19.530418Z",
     "iopub.status.idle": "2024-12-16T14:15:19.553699Z",
     "shell.execute_reply": "2024-12-16T14:15:19.552711Z"
    }
   },
   "outputs": [
    {
     "data": {
      "image/svg+xml": [
       "<?xml version=\"1.0\" encoding=\"UTF-8\" standalone=\"no\"?><svg xmlns=\"http://www.w3.org/2000/svg\" xmlns:xlink=\"http://www.w3.org/1999/xlink\" contentStyleType=\"text/css\" height=\"760px\" preserveAspectRatio=\"none\" style=\"width:277px;height:760px;background:#FFFFFF;\" version=\"1.1\" viewBox=\"0 0 277 760\" width=\"277px\" zoomAndPan=\"magnify\"><defs/><g><!--MD5=[fbc87193dbaf4d95561dea2c320d4a47]\n",
       "cluster E1--><g id=\"cluster_E1\"><a href=\"psysml:cd87d2b7-4fa1-4c1b-a4f6-af691b0dec58\" target=\"_top\" title=\"psysml:cd87d2b7-4fa1-4c1b-a4f6-af691b0dec58\" xlink:actuate=\"onRequest\" xlink:href=\"psysml:cd87d2b7-4fa1-4c1b-a4f6-af691b0dec58\" xlink:show=\"new\" xlink:title=\"psysml:cd87d2b7-4fa1-4c1b-a4f6-af691b0dec58\" xlink:type=\"simple\"><polygon fill=\"none\" points=\"16,6,86.5,6,93.5,28.2969,260,28.2969,260,753,16,753,16,6\" style=\"stroke:#000000;stroke-width:1.5;\"/><line style=\"stroke:#000000;stroke-width:1.5;\" x1=\"16\" x2=\"93.5\" y1=\"28.2969\" y2=\"28.2969\"/><text fill=\"#000000\" font-family=\"sans-serif\" font-size=\"14\" font-weight=\"bold\" lengthAdjust=\"spacing\" textLength=\"64.5\" x=\"20\" y=\"20.9951\">ItemTest</text></a></g><!--MD5=[b4997ac47864f28c2f74865a473b2911]\n",
       "class E2--><a href=\"psysml:a6e7d788-746b-466d-b844-23a78300b1ae\" target=\"_top\" title=\"psysml:a6e7d788-746b-466d-b844-23a78300b1ae\" xlink:actuate=\"onRequest\" xlink:href=\"psysml:a6e7d788-746b-466d-b844-23a78300b1ae\" xlink:show=\"new\" xlink:title=\"psysml:a6e7d788-746b-466d-b844-23a78300b1ae\" xlink:type=\"simple\"><g id=\"elem_E2\"><rect fill=\"#FFFFFF\" height=\"48.2656\" id=\"E2\" rx=\"10\" ry=\"10\" style=\"stroke:#181818;stroke-width:0.5;\" width=\"43\" x=\"200.5\" y=\"149\"/><text fill=\"#000000\" font-family=\"sans-serif\" font-size=\"12\" font-style=\"italic\" lengthAdjust=\"spacing\" textLength=\"41\" x=\"201.5\" y=\"165.1387\">«item»</text><text fill=\"#000000\" font-family=\"sans-serif\" font-size=\"14\" lengthAdjust=\"spacing\" textLength=\"22\" x=\"207\" y=\"180.9639\">f: A</text><line style=\"stroke:#181818;stroke-width:0.5;\" x1=\"201.5\" x2=\"242.5\" y1=\"189.2656\" y2=\"189.2656\"/></g></a><!--MD5=[09b614a08d8cba4a07c9adeb5e0fee81]\n",
       "class E3--><a href=\"psysml:7645df02-ea24-41fb-927b-82e0988a44f2\" target=\"_top\" title=\"psysml:7645df02-ea24-41fb-927b-82e0988a44f2\" xlink:actuate=\"onRequest\" xlink:href=\"psysml:7645df02-ea24-41fb-927b-82e0988a44f2\" xlink:show=\"new\" xlink:title=\"psysml:7645df02-ea24-41fb-927b-82e0988a44f2\" xlink:type=\"simple\"><g id=\"elem_E3\"><rect fill=\"#FFFFFF\" height=\"48.2656\" id=\"E3\" style=\"stroke:#181818;stroke-width:0.5;\" width=\"71\" x=\"105.5\" y=\"257\"/><text fill=\"#000000\" font-family=\"sans-serif\" font-size=\"12\" font-style=\"italic\" lengthAdjust=\"spacing\" textLength=\"69\" x=\"106.5\" y=\"273.1387\">«item  def»</text><text fill=\"#000000\" font-family=\"sans-serif\" font-size=\"14\" lengthAdjust=\"spacing\" textLength=\"9\" x=\"136.5\" y=\"288.9639\">A</text><line style=\"stroke:#181818;stroke-width:0.5;\" x1=\"106.5\" x2=\"175.5\" y1=\"297.2656\" y2=\"297.2656\"/></g></a><!--MD5=[ebbe1d658d1005bcc118a6aa81145e00]\n",
       "class E4--><a href=\"psysml:426ed2e2-6591-4c8f-a505-52d546190911\" target=\"_top\" title=\"psysml:426ed2e2-6591-4c8f-a505-52d546190911\" xlink:actuate=\"onRequest\" xlink:href=\"psysml:426ed2e2-6591-4c8f-a505-52d546190911\" xlink:show=\"new\" xlink:title=\"psysml:426ed2e2-6591-4c8f-a505-52d546190911\" xlink:type=\"simple\"><g id=\"elem_E4\"><rect fill=\"#FFFFFF\" height=\"48.2656\" id=\"E4\" rx=\"10\" ry=\"10\" style=\"stroke:#181818;stroke-width:0.5;\" width=\"43\" x=\"45.5\" y=\"473\"/><text fill=\"#000000\" font-family=\"sans-serif\" font-size=\"12\" font-style=\"italic\" lengthAdjust=\"spacing\" textLength=\"41\" x=\"46.5\" y=\"489.1387\">«item»</text><text fill=\"#000000\" font-family=\"sans-serif\" font-size=\"14\" lengthAdjust=\"spacing\" textLength=\"28\" x=\"49\" y=\"504.9639\">b: B</text><line style=\"stroke:#181818;stroke-width:0.5;\" x1=\"46.5\" x2=\"87.5\" y1=\"513.2656\" y2=\"513.2656\"/></g></a><!--MD5=[270fce915f116d4de14055a7c1d9a0f3]\n",
       "class E5--><a href=\"psysml:331ec08e-03d4-4ef2-9768-da2cb6dfa326\" target=\"_top\" title=\"psysml:331ec08e-03d4-4ef2-9768-da2cb6dfa326\" xlink:actuate=\"onRequest\" xlink:href=\"psysml:331ec08e-03d4-4ef2-9768-da2cb6dfa326\" xlink:show=\"new\" xlink:title=\"psysml:331ec08e-03d4-4ef2-9768-da2cb6dfa326\" xlink:type=\"simple\"><g id=\"elem_E5\"><rect fill=\"#FFFFFF\" height=\"48.2656\" id=\"E5\" rx=\"10\" ry=\"10\" style=\"stroke:#181818;stroke-width:0.5;\" width=\"42\" x=\"146\" y=\"365\"/><text fill=\"#000000\" font-family=\"sans-serif\" font-size=\"12\" font-style=\"italic\" lengthAdjust=\"spacing\" textLength=\"40\" x=\"147\" y=\"381.1387\">«part»</text><text fill=\"#000000\" font-family=\"sans-serif\" font-size=\"14\" lengthAdjust=\"spacing\" textLength=\"27\" x=\"149.5\" y=\"396.9639\">c: C</text><line style=\"stroke:#181818;stroke-width:0.5;\" x1=\"147\" x2=\"187\" y1=\"405.2656\" y2=\"405.2656\"/></g></a><!--MD5=[60a26617385b1d2d0262a64233df1f8d]\n",
       "class E6--><a href=\"psysml:1c5a109b-6d3b-4425-b763-85184515822e\" target=\"_top\" title=\"psysml:1c5a109b-6d3b-4425-b763-85184515822e\" xlink:actuate=\"onRequest\" xlink:href=\"psysml:1c5a109b-6d3b-4425-b763-85184515822e\" xlink:show=\"new\" xlink:title=\"psysml:1c5a109b-6d3b-4425-b763-85184515822e\" xlink:type=\"simple\"><g id=\"elem_E6\"><rect fill=\"#FFFFFF\" height=\"48.2656\" id=\"E6\" style=\"stroke:#181818;stroke-width:0.5;\" width=\"71\" x=\"122.5\" y=\"581\"/><text fill=\"#000000\" font-family=\"sans-serif\" font-size=\"12\" font-style=\"italic\" lengthAdjust=\"spacing\" textLength=\"69\" x=\"123.5\" y=\"597.1387\">«item  def»</text><text fill=\"#000000\" font-family=\"sans-serif\" font-size=\"14\" font-style=\"italic\" lengthAdjust=\"spacing\" textLength=\"10\" x=\"153\" y=\"612.9639\">B</text><line style=\"stroke:#181818;stroke-width:0.5;\" x1=\"123.5\" x2=\"192.5\" y1=\"621.2656\" y2=\"621.2656\"/></g></a><!--MD5=[2156ba9850f5573cc1fc38a6a4b2f02b]\n",
       "class E7--><a href=\"psysml:3d3f18ff-1114-439a-91a9-78796a10458c\" target=\"_top\" title=\"psysml:3d3f18ff-1114-439a-91a9-78796a10458c\" xlink:actuate=\"onRequest\" xlink:href=\"psysml:3d3f18ff-1114-439a-91a9-78796a10458c\" xlink:show=\"new\" xlink:title=\"psysml:3d3f18ff-1114-439a-91a9-78796a10458c\" xlink:type=\"simple\"><g id=\"elem_E7\"><rect fill=\"#FFFFFF\" height=\"48.2656\" id=\"E7\" rx=\"10\" ry=\"10\" style=\"stroke:#181818;stroke-width:0.5;\" width=\"42\" x=\"169\" y=\"689\"/><text fill=\"#000000\" font-family=\"sans-serif\" font-size=\"12\" font-style=\"italic\" lengthAdjust=\"spacing\" textLength=\"40\" x=\"170\" y=\"705.1387\">«part»</text><text fill=\"#000000\" font-family=\"sans-serif\" font-size=\"14\" font-style=\"italic\" lengthAdjust=\"spacing\" textLength=\"8\" x=\"173\" y=\"720.9639\">a</text><text fill=\"#000000\" font-family=\"sans-serif\" font-size=\"14\" lengthAdjust=\"spacing\" textLength=\"18\" x=\"181\" y=\"720.9639\">: A</text><line style=\"stroke:#181818;stroke-width:0.5;\" x1=\"170\" x2=\"210\" y1=\"729.2656\" y2=\"729.2656\"/></g></a><!--MD5=[b9389687b975829384b498ac4b7476b2]\n",
       "class E8--><a href=\"psysml:1568c6af-b382-4c7f-b02a-0d87dd86c0f5\" target=\"_top\" title=\"psysml:1568c6af-b382-4c7f-b02a-0d87dd86c0f5\" xlink:actuate=\"onRequest\" xlink:href=\"psysml:1568c6af-b382-4c7f-b02a-0d87dd86c0f5\" xlink:show=\"new\" xlink:title=\"psysml:1568c6af-b382-4c7f-b02a-0d87dd86c0f5\" xlink:type=\"simple\"><g id=\"elem_E8\"><rect fill=\"#FFFFFF\" height=\"48.2656\" id=\"E8\" style=\"stroke:#181818;stroke-width:0.5;\" width=\"70\" x=\"124\" y=\"473\"/><text fill=\"#000000\" font-family=\"sans-serif\" font-size=\"12\" font-style=\"italic\" lengthAdjust=\"spacing\" textLength=\"68\" x=\"125\" y=\"489.1387\">«part  def»</text><text fill=\"#000000\" font-family=\"sans-serif\" font-size=\"14\" lengthAdjust=\"spacing\" textLength=\"10\" x=\"154\" y=\"504.9639\">C</text><line style=\"stroke:#181818;stroke-width:0.5;\" x1=\"125\" x2=\"193\" y1=\"513.2656\" y2=\"513.2656\"/></g></a><!--MD5=[fd4143e9d270a159db93a4ea2a975926]\n",
       "class E9--><a href=\"psysml:7b3481ba-f47b-4c12-87df-4d6f620e6d00\" target=\"_top\" title=\"psysml:7b3481ba-f47b-4c12-87df-4d6f620e6d00\" xlink:actuate=\"onRequest\" xlink:href=\"psysml:7b3481ba-f47b-4c12-87df-4d6f620e6d00\" xlink:show=\"new\" xlink:title=\"psysml:7b3481ba-f47b-4c12-87df-4d6f620e6d00\" xlink:type=\"simple\"><g id=\"elem_E9\"><rect fill=\"#FFFFFF\" height=\"48.2656\" id=\"E9\" style=\"stroke:#181818;stroke-width:0.5;\" width=\"70\" x=\"69\" y=\"41\"/><text fill=\"#000000\" font-family=\"sans-serif\" font-size=\"12\" font-style=\"italic\" lengthAdjust=\"spacing\" textLength=\"68\" x=\"70\" y=\"57.1387\">«port  def»</text><text fill=\"#000000\" font-family=\"sans-serif\" font-size=\"14\" lengthAdjust=\"spacing\" textLength=\"9\" x=\"99.5\" y=\"72.9639\">P</text><line style=\"stroke:#181818;stroke-width:0.5;\" x1=\"70\" x2=\"138\" y1=\"81.2656\" y2=\"81.2656\"/></g></a><!--MD5=[96f4274e9e20536e775497830990834d]\n",
       "class E10--><a href=\"psysml:116f794f-fd18-4d42-8d94-9abf783d43f0\" target=\"_top\" title=\"psysml:116f794f-fd18-4d42-8d94-9abf783d43f0\" xlink:actuate=\"onRequest\" xlink:href=\"psysml:116f794f-fd18-4d42-8d94-9abf783d43f0\" xlink:show=\"new\" xlink:title=\"psysml:116f794f-fd18-4d42-8d94-9abf783d43f0\" xlink:type=\"simple\"><g id=\"elem_E10\"><rect fill=\"#FFFFFF\" height=\"48.2656\" id=\"E10\" rx=\"10\" ry=\"10\" style=\"stroke:#181818;stroke-width:0.5;\" width=\"49\" x=\"116.5\" y=\"149\"/><text fill=\"#000000\" font-family=\"sans-serif\" font-size=\"12\" font-style=\"italic\" lengthAdjust=\"spacing\" textLength=\"41\" x=\"120.5\" y=\"165.1387\">«item»</text><text fill=\"#000000\" font-family=\"sans-serif\" font-size=\"14\" lengthAdjust=\"spacing\" textLength=\"35\" x=\"119.5\" y=\"180.9639\">a1: A</text><line style=\"stroke:#181818;stroke-width:0.5;\" x1=\"117.5\" x2=\"164.5\" y1=\"189.2656\" y2=\"189.2656\"/></g></a><!--MD5=[1dd1bfd58a279cf63c5f349dbc8fc6a1]\n",
       "class E11--><a href=\"psysml:16572df6-eec3-489a-80d1-3b65de425cbd\" target=\"_top\" title=\"psysml:16572df6-eec3-489a-80d1-3b65de425cbd\" xlink:actuate=\"onRequest\" xlink:href=\"psysml:16572df6-eec3-489a-80d1-3b65de425cbd\" xlink:show=\"new\" xlink:title=\"psysml:16572df6-eec3-489a-80d1-3b65de425cbd\" xlink:type=\"simple\"><g id=\"elem_E11\"><rect fill=\"#FFFFFF\" height=\"48.2656\" id=\"E11\" rx=\"10\" ry=\"10\" style=\"stroke:#181818;stroke-width:0.5;\" width=\"49\" x=\"32.5\" y=\"149\"/><text fill=\"#000000\" font-family=\"sans-serif\" font-size=\"12\" font-style=\"italic\" lengthAdjust=\"spacing\" textLength=\"41\" x=\"36.5\" y=\"165.1387\">«item»</text><text fill=\"#000000\" font-family=\"sans-serif\" font-size=\"14\" lengthAdjust=\"spacing\" textLength=\"35\" x=\"35.5\" y=\"180.9639\">a2: A</text><line style=\"stroke:#181818;stroke-width:0.5;\" x1=\"33.5\" x2=\"80.5\" y1=\"189.2656\" y2=\"189.2656\"/></g></a><!--MD5=[2720a5a1f2c3fca2055b230370638851]\n",
       "link E2 to E3--><g id=\"link_E2_E3\"><a href=\"psysml:70c9c3cf-ded5-4fad-940c-650d810049d2\" target=\"_top\" title=\"psysml:70c9c3cf-ded5-4fad-940c-650d810049d2\" xlink:actuate=\"onRequest\" xlink:href=\"psysml:70c9c3cf-ded5-4fad-940c-650d810049d2\" xlink:show=\"new\" xlink:title=\"psysml:70c9c3cf-ded5-4fad-940c-650d810049d2\" xlink:type=\"simple\"><path d=\"M207.5,197.21 C207.5,226.8 207.5,273 207.5,273 C207.5,273 196.59,273 196.59,273 \" fill=\"none\" id=\"E2-to-E3\" style=\"stroke:#181818;stroke-width:1.0;\"/><polygon fill=\"#FFFFFF\" points=\"176.59,273,195.59,266,195.59,280,176.59,273\" style=\"stroke:#181818;stroke-width:1.0;\"/><ellipse cx=\"201.29\" cy=\"268\" fill=\"#181818\" rx=\"2\" ry=\"2\" style=\"stroke:#181818;stroke-width:1.0;\"/><ellipse cx=\"201.29\" cy=\"278\" fill=\"#181818\" rx=\"2\" ry=\"2\" style=\"stroke:#181818;stroke-width:1.0;\"/></a></g><!--MD5=[4672eba38e49728da53d11aeb285b987]\n",
       "reverse link E3 to E4--><g id=\"link_E3_E4\"><a href=\"psysml:1e28e0ed-b5c0-4fac-98b2-855fbe266c1f\" target=\"_top\" title=\"psysml:1e28e0ed-b5c0-4fac-98b2-855fbe266c1f\" xlink:actuate=\"onRequest\" xlink:href=\"psysml:1e28e0ed-b5c0-4fac-98b2-855fbe266c1f\" xlink:show=\"new\" xlink:title=\"psysml:1e28e0ed-b5c0-4fac-98b2-855fbe266c1f\" xlink:type=\"simple\"><path d=\"M92.22,281 C92.22,281 85,281 85,281 C85,281 85,416.15 85,472.64 \" fill=\"none\" id=\"E3-backto-E4\" style=\"stroke:#181818;stroke-width:1.0;\"/><polygon fill=\"#181818\" points=\"105.22,281,99.22,277,93.22,281,99.22,285,105.22,281\" style=\"stroke:#181818;stroke-width:1.0;\"/></a></g><!--MD5=[191cde3d490a3f6d7bb551fe3ddca469]\n",
       "reverse link E3 to E5--><g id=\"link_E3_E5\"><a href=\"psysml:b5974af5-b28c-458b-89e4-95d46de68236\" target=\"_top\" title=\"psysml:b5974af5-b28c-458b-89e4-95d46de68236\" xlink:actuate=\"onRequest\" xlink:href=\"psysml:b5974af5-b28c-458b-89e4-95d46de68236\" xlink:show=\"new\" xlink:title=\"psysml:b5974af5-b28c-458b-89e4-95d46de68236\" xlink:type=\"simple\"><path d=\"M161.25,318.24 C161.25,318.24 161.25,364.84 161.25,364.84 \" fill=\"none\" id=\"E3-backto-E5\" style=\"stroke:#181818;stroke-width:1.0;\"/><polygon fill=\"none\" points=\"161.25,305.24,157.25,311.24,161.25,317.24,165.25,311.24,161.25,305.24\" style=\"stroke:#181818;stroke-width:1.0;\"/></a></g><!--MD5=[79568f1e445c3877b6a54524624ccc7d]\n",
       "link E4 to E6--><g id=\"link_E4_E6\"><a href=\"psysml:83940360-bfcd-4ab6-95b9-9006ad1a30a4\" target=\"_top\" title=\"psysml:83940360-bfcd-4ab6-95b9-9006ad1a30a4\" xlink:actuate=\"onRequest\" xlink:href=\"psysml:83940360-bfcd-4ab6-95b9-9006ad1a30a4\" xlink:show=\"new\" xlink:title=\"psysml:83940360-bfcd-4ab6-95b9-9006ad1a30a4\" xlink:type=\"simple\"><path d=\"M67,521.24 C67,553.08 67,605 67,605 C67,605 102.3,605 102.3,605 \" fill=\"none\" id=\"E4-to-E6\" style=\"stroke:#181818;stroke-width:1.0;\"/><polygon fill=\"#FFFFFF\" points=\"122.3,605,103.3,612,103.3,598,122.3,605\" style=\"stroke:#181818;stroke-width:1.0;\"/><ellipse cx=\"97.6\" cy=\"610\" fill=\"#181818\" rx=\"2\" ry=\"2\" style=\"stroke:#181818;stroke-width:1.0;\"/><ellipse cx=\"97.6\" cy=\"600\" fill=\"#181818\" rx=\"2\" ry=\"2\" style=\"stroke:#181818;stroke-width:1.0;\"/></a></g><!--MD5=[3f50a3473f1dfb74d3f76443e03635af]\n",
       "reverse link E6 to E7--><g id=\"link_E6_E7\"><a href=\"psysml:c7c30ff0-7abe-445a-9147-4c620b104f3e\" target=\"_top\" title=\"psysml:c7c30ff0-7abe-445a-9147-4c620b104f3e\" xlink:actuate=\"onRequest\" xlink:href=\"psysml:c7c30ff0-7abe-445a-9147-4c620b104f3e\" xlink:show=\"new\" xlink:title=\"psysml:c7c30ff0-7abe-445a-9147-4c620b104f3e\" xlink:type=\"simple\"><path d=\"M181.25,642.24 C181.25,642.24 181.25,688.84 181.25,688.84 \" fill=\"none\" id=\"E6-backto-E7\" style=\"stroke:#181818;stroke-width:1.0;\"/><polygon fill=\"#181818\" points=\"181.25,629.24,177.25,635.24,181.25,641.24,185.25,635.24,181.25,629.24\" style=\"stroke:#181818;stroke-width:1.0;\"/></a></g><!--MD5=[14ccda38c055a5c0da953d572bc50960]\n",
       "link E7 to E3--><g id=\"link_E7_E3\"><a href=\"psysml:4a79bdb3-77e8-4e9c-befa-ce9a0c7716db\" target=\"_top\" title=\"psysml:4a79bdb3-77e8-4e9c-befa-ce9a0c7716db\" xlink:actuate=\"onRequest\" xlink:href=\"psysml:4a79bdb3-77e8-4e9c-befa-ce9a0c7716db\" xlink:show=\"new\" xlink:title=\"psysml:4a79bdb3-77e8-4e9c-befa-ce9a0c7716db\" xlink:type=\"simple\"><path d=\"M204,688.99 C204,599.29 204,289 204,289 C204,289 196.55,289 196.55,289 \" fill=\"none\" id=\"E7-to-E3\" style=\"stroke:#181818;stroke-width:1.0;\"/><polygon fill=\"#FFFFFF\" points=\"176.55,289,195.55,282,195.55,296,176.55,289\" style=\"stroke:#181818;stroke-width:1.0;\"/><ellipse cx=\"201.25\" cy=\"284\" fill=\"#181818\" rx=\"2\" ry=\"2\" style=\"stroke:#181818;stroke-width:1.0;\"/><ellipse cx=\"201.25\" cy=\"294\" fill=\"#181818\" rx=\"2\" ry=\"2\" style=\"stroke:#181818;stroke-width:1.0;\"/></a></g><!--MD5=[dfaffb906826c3e5aca635516100ff21]\n",
       "link E5 to E8--><g id=\"link_E5_E8\"><a href=\"psysml:d776694e-c79b-404c-b561-ae1c1a2e3f3d\" target=\"_top\" title=\"psysml:d776694e-c79b-404c-b561-ae1c1a2e3f3d\" xlink:actuate=\"onRequest\" xlink:href=\"psysml:d776694e-c79b-404c-b561-ae1c1a2e3f3d\" xlink:show=\"new\" xlink:title=\"psysml:d776694e-c79b-404c-b561-ae1c1a2e3f3d\" xlink:type=\"simple\"><path d=\"M167,413.24 C167,413.24 167,452.84 167,452.84 \" fill=\"none\" id=\"E5-to-E8\" style=\"stroke:#181818;stroke-width:1.0;\"/><polygon fill=\"#FFFFFF\" points=\"167,472.84,160,453.84,174,453.84,167,472.84\" style=\"stroke:#181818;stroke-width:1.0;\"/><ellipse cx=\"162\" cy=\"448.14\" fill=\"#181818\" rx=\"2\" ry=\"2\" style=\"stroke:#181818;stroke-width:1.0;\"/><ellipse cx=\"172\" cy=\"448.14\" fill=\"#181818\" rx=\"2\" ry=\"2\" style=\"stroke:#181818;stroke-width:1.0;\"/></a></g><!--MD5=[03c8294790d3c57651a1993cecff665f]\n",
       "reverse link E8 to E3--><g id=\"link_E8_E3\"><a href=\"psysml:c4551329-8b56-4fd0-9fbf-f2d280f6b39b\" target=\"_top\" title=\"psysml:c4551329-8b56-4fd0-9fbf-f2d280f6b39b\" xlink:actuate=\"onRequest\" xlink:href=\"psysml:c4551329-8b56-4fd0-9fbf-f2d280f6b39b\" xlink:show=\"new\" xlink:title=\"psysml:c4551329-8b56-4fd0-9fbf-f2d280f6b39b\" xlink:type=\"simple\"><path d=\"M135,459.64 C135,459.64 135,305.27 135,305.27 \" fill=\"none\" id=\"E8-backto-E3\" style=\"stroke:#181818;stroke-width:1.0;\"/><polygon fill=\"none\" points=\"135,472.64,139,466.64,135,460.64,131,466.64,135,472.64\" style=\"stroke:#181818;stroke-width:1.0;\"/><text fill=\"#000000\" font-family=\"sans-serif\" font-size=\"13\" lengthAdjust=\"spacing\" textLength=\"7\" x=\"127\" y=\"378.5269\">y</text></a></g><!--MD5=[0d75d2178373a6a4568e5dc728f58aef]\n",
       "reverse link E8 to E6--><g id=\"link_E8_E6\"><a href=\"psysml:c4551329-8b56-4fd0-9fbf-f2d280f6b39b\" target=\"_top\" title=\"psysml:c4551329-8b56-4fd0-9fbf-f2d280f6b39b\" xlink:actuate=\"onRequest\" xlink:href=\"psysml:c4551329-8b56-4fd0-9fbf-f2d280f6b39b\" xlink:show=\"new\" xlink:title=\"psysml:c4551329-8b56-4fd0-9fbf-f2d280f6b39b\" xlink:type=\"simple\"><path d=\"M158.75,534.24 C158.75,534.24 158.75,580.84 158.75,580.84 \" fill=\"none\" id=\"E8-backto-E6\" style=\"stroke:#181818;stroke-width:1.0;\"/><polygon fill=\"none\" points=\"158.75,521.24,154.75,527.24,158.75,533.24,162.75,527.24,158.75,521.24\" style=\"stroke:#181818;stroke-width:1.0;\"/><text fill=\"#000000\" font-family=\"sans-serif\" font-size=\"13\" lengthAdjust=\"spacing\" textLength=\"7\" x=\"150.75\" y=\"553.6069\">y</text></a></g><!--MD5=[23ac544a70576c3e717098101004234c]\n",
       "reverse link E9 to E10--><g id=\"link_E9_E10\"><a href=\"psysml:5a5abb4f-4a57-47f4-8d13-1f5dca85ed3b\" target=\"_top\" title=\"psysml:5a5abb4f-4a57-47f4-8d13-1f5dca85ed3b\" xlink:actuate=\"onRequest\" xlink:href=\"psysml:5a5abb4f-4a57-47f4-8d13-1f5dca85ed3b\" xlink:show=\"new\" xlink:title=\"psysml:5a5abb4f-4a57-47f4-8d13-1f5dca85ed3b\" xlink:type=\"simple\"><path d=\"M127.75,102.24 C127.75,102.24 127.75,148.84 127.75,148.84 \" fill=\"none\" id=\"E9-backto-E10\" style=\"stroke:#181818;stroke-width:1.0;\"/><polygon fill=\"none\" points=\"127.75,89.24,123.75,95.24,127.75,101.24,131.75,95.24,127.75,89.24\" style=\"stroke:#181818;stroke-width:1.0;\"/></a></g><!--MD5=[feeac5eb423634930294aa81f2d25a4c]\n",
       "link E10 to E3--><g id=\"link_E10_E3\"><a href=\"psysml:d7f66802-941a-4496-884a-36d82493c03e\" target=\"_top\" title=\"psysml:d7f66802-941a-4496-884a-36d82493c03e\" xlink:actuate=\"onRequest\" xlink:href=\"psysml:d7f66802-941a-4496-884a-36d82493c03e\" xlink:show=\"new\" xlink:title=\"psysml:d7f66802-941a-4496-884a-36d82493c03e\" xlink:type=\"simple\"><path d=\"M141,197.24 C141,197.24 141,236.84 141,236.84 \" fill=\"none\" id=\"E10-to-E3\" style=\"stroke:#181818;stroke-width:1.0;\"/><polygon fill=\"#FFFFFF\" points=\"141,256.84,134,237.84,148,237.84,141,256.84\" style=\"stroke:#181818;stroke-width:1.0;\"/><ellipse cx=\"136\" cy=\"232.14\" fill=\"#181818\" rx=\"2\" ry=\"2\" style=\"stroke:#181818;stroke-width:1.0;\"/><ellipse cx=\"146\" cy=\"232.14\" fill=\"#181818\" rx=\"2\" ry=\"2\" style=\"stroke:#181818;stroke-width:1.0;\"/></a></g><!--MD5=[1fc04a95fd77ad5ce46c1a3027516051]\n",
       "reverse link E9 to E11--><g id=\"link_E9_E11\"><a href=\"psysml:8187499b-9a51-4939-bbf5-c8a0ee670e5b\" target=\"_top\" title=\"psysml:8187499b-9a51-4939-bbf5-c8a0ee670e5b\" xlink:actuate=\"onRequest\" xlink:href=\"psysml:8187499b-9a51-4939-bbf5-c8a0ee670e5b\" xlink:show=\"new\" xlink:title=\"psysml:8187499b-9a51-4939-bbf5-c8a0ee670e5b\" xlink:type=\"simple\"><path d=\"M75.25,102.24 C75.25,102.24 75.25,148.84 75.25,148.84 \" fill=\"none\" id=\"E9-backto-E11\" style=\"stroke:#181818;stroke-width:1.0;\"/><polygon fill=\"none\" points=\"75.25,89.24,71.25,95.24,75.25,101.24,79.25,95.24,75.25,89.24\" style=\"stroke:#181818;stroke-width:1.0;\"/></a></g><!--MD5=[0517f1ce58c4d5483948f93845c45e26]\n",
       "link E11 to E3--><g id=\"link_E11_E3\"><a href=\"psysml:ca7307c2-0235-4c1e-8766-bbb66b330e4f\" target=\"_top\" title=\"psysml:ca7307c2-0235-4c1e-8766-bbb66b330e4f\" xlink:actuate=\"onRequest\" xlink:href=\"psysml:ca7307c2-0235-4c1e-8766-bbb66b330e4f\" xlink:show=\"new\" xlink:title=\"psysml:ca7307c2-0235-4c1e-8766-bbb66b330e4f\" xlink:type=\"simple\"><path d=\"M81.79,173 C95.98,173 111,173 111,173 C111,173 111,236.76 111,236.76 \" fill=\"none\" id=\"E11-to-E3\" style=\"stroke:#181818;stroke-width:1.0;\"/><polygon fill=\"#FFFFFF\" points=\"111,256.76,104,237.76,118,237.76,111,256.76\" style=\"stroke:#181818;stroke-width:1.0;\"/><ellipse cx=\"106\" cy=\"232.06\" fill=\"#181818\" rx=\"2\" ry=\"2\" style=\"stroke:#181818;stroke-width:1.0;\"/><ellipse cx=\"116\" cy=\"232.06\" fill=\"#181818\" rx=\"2\" ry=\"2\" style=\"stroke:#181818;stroke-width:1.0;\"/></a></g><!--MD5=[a82d2c2810c47b6a1ce4ca0e5fafc171]\n",
       "@startuml\r\n",
       "skin sysmlbw\r\n",
       "skinparam monochrome true\r\n",
       "skinparam wrapWidth 300\r\n",
       "hide circle\r\n",
       "skinparam linetype ortho\r\n",
       "\r\n",
       "package \"ItemTest\" as E1  [[psysml:cd87d2b7-4fa1-4c1b-a4f6-af691b0dec58 ]]  {\r\n",
       "comp usage \"f: A  \" as E2  <<(T,blue) item>> [[psysml:a6e7d788-746b-466d-b844-23a78300b1ae ]] {\r\n",
       "}\r\n",
       "comp def \"A\" as E3  <<(T,blue) item  def>> [[psysml:7645df02-ea24-41fb-927b-82e0988a44f2 ]] {\r\n",
       "}\r\n",
       "comp usage \"b: B  \" as E4  <<(T,blue) item>> [[psysml:426ed2e2-6591-4c8f-a505-52d546190911 ]] {\r\n",
       "}\r\n",
       "comp usage \"c: C  \" as E5  <<(T,blue) part>> [[psysml:331ec08e-03d4-4ef2-9768-da2cb6dfa326 ]] {\r\n",
       "}\r\n",
       "comp def \"<i>B</i>\" as E6  <<(T,blue) item  def>> [[psysml:1c5a109b-6d3b-4425-b763-85184515822e ]] {\r\n",
       "}\r\n",
       "comp usage \"<i>a</i>: A  \" as E7  <<(T,blue) part>> [[psysml:3d3f18ff-1114-439a-91a9-78796a10458c ]] {\r\n",
       "}\r\n",
       "comp def \"C\" as E8  <<(T,blue) part  def>> [[psysml:1568c6af-b382-4c7f-b02a-0d87dd86c0f5 ]] {\r\n",
       "}\r\n",
       "comp def \"P\" as E9  <<(T,blue) port  def>> [[psysml:7b3481ba-f47b-4c12-87df-4d6f620e6d00 ]] {\r\n",
       "}\r\n",
       "comp usage \"a1: A  \" as E10  <<(T,blue) item>> [[psysml:116f794f-fd18-4d42-8d94-9abf783d43f0 ]] {\r\n",
       "}\r\n",
       "comp usage \"a2: A  \" as E11  <<(T,blue) item>> [[psysml:16572df6-eec3-489a-80d1-3b65de425cbd ]] {\r\n",
       "}\r\n",
       "}\r\n",
       "E2 - -:|> E3 [[psysml:70c9c3cf-ded5-4fad-940c-650d810049d2 ]] \r\n",
       "E3 *- - E4 [[psysml:1e28e0ed-b5c0-4fac-98b2-855fbe266c1f ]] \r\n",
       "E3 o- - E5 [[psysml:b5974af5-b28c-458b-89e4-95d46de68236 ]] \r\n",
       "E4 - -:|> E6 [[psysml:83940360-bfcd-4ab6-95b9-9006ad1a30a4 ]] \r\n",
       "E6 *- - E7 [[psysml:c7c30ff0-7abe-445a-9147-4c620b104f3e ]] \r\n",
       "E7 - -:|> E3 [[psysml:4a79bdb3-77e8-4e9c-befa-ce9a0c7716db ]] \r\n",
       "E5 - -:|> E8 [[psysml:d776694e-c79b-404c-b561-ae1c1a2e3f3d ]] \r\n",
       "E8 o- - E3 [[psysml:c4551329-8b56-4fd0-9fbf-f2d280f6b39b ]] : y\r\n",
       "E8 o- - E6 [[psysml:c4551329-8b56-4fd0-9fbf-f2d280f6b39b ]] : y\r\n",
       "E9 o- - E10 [[psysml:5a5abb4f-4a57-47f4-8d13-1f5dca85ed3b ]] \r\n",
       "E10 - -:|> E3 [[psysml:d7f66802-941a-4496-884a-36d82493c03e ]] \r\n",
       "E9 o- - E11 [[psysml:8187499b-9a51-4939-bbf5-c8a0ee670e5b ]] \r\n",
       "E11 - -:|> E3 [[psysml:ca7307c2-0235-4c1e-8766-bbb66b330e4f ]] \r\n",
       "@enduml\r\n",
       "\n",
       "PlantUML version 1.2022.7(Mon Aug 22 17:01:30 UTC 2022)\n",
       "(EPL source distribution)\n",
       "Java Runtime: OpenJDK Runtime Environment\n",
       "JVM: OpenJDK 64-Bit Server VM\n",
       "Default Encoding: UTF-8\n",
       "Language: en\n",
       "Country: null\n",
       "--></g></svg>"
      ]
     },
     "execution_count": 57,
     "metadata": {},
     "output_type": "execute_result"
    }
   ],
   "source": [
    "%viz --style=\"ORTHOLINE\" --view=\"MIXED\" \"ItemTest\""
   ]
  }
 ],
 "metadata": {
  "kernelspec": {
   "display_name": "SysML",
   "language": "sysml",
   "name": "sysml"
  },
  "language_info": {
   "codemirror_mode": "sysml",
   "file_extension": ".sysml",
   "mimetype": "text/x-sysml",
   "name": "SysML",
   "pygments_lexer": "java",
   "version": "1.0.0"
  }
 },
 "nbformat": 4,
 "nbformat_minor": 5
}
