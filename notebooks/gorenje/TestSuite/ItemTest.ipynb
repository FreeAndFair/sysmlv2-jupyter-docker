{
 "cells": [
  {
   "cell_type": "markdown",
   "id": "dimensional-drill",
   "metadata": {},
   "source": [
    "# SysML v2 Test Suite\n",
    "\n",
    "This can notebook can be cleared using menu `Edit --> Clear All Outputs` and then all cells can be\n",
    "run using menu `Run --> Run All Cells`.\n",
    "\n",
    "**WARNING**: This file is generated, all modifications here will be ignored.\n"
   ]
  },
  {
   "cell_type": "markdown",
   "id": "senior-commons",
   "metadata": {},
   "source": [
    "## File: ../../sysml/src/examples/Simple Tests/ItemTest.sysml"
   ]
  },
  {
   "cell_type": "code",
   "execution_count": 1,
   "id": "vulnerable-roller",
   "metadata": {
    "execution": {
     "iopub.execute_input": "2021-03-25T15:10:14.995465Z",
     "iopub.status.busy": "2021-03-25T15:10:14.994586Z",
     "iopub.status.idle": "2021-03-25T15:10:15.158504Z",
     "shell.execute_reply": "2021-03-25T15:10:15.157435Z"
    }
   },
   "outputs": [
    {
     "data": {
      "text/plain": [
       "Package ItemTest (1141fea2-77a5-45f3-a4bb-5c621f503265)\n"
      ]
     },
     "execution_count": 1,
     "metadata": {},
     "output_type": "execute_result"
    }
   ],
   "source": [
    "package ItemTest {\n",
    "\t\n",
    "\titem f: A;\n",
    "\n",
    "\tpublic item def A {\n",
    "\t\titem b: B;\n",
    "\t\tprotected ref part c: C;\n",
    "\t}\n",
    "\t\n",
    "\tabstract item def B {\n",
    "\t\tpublic abstract part a: A;\n",
    "\t}\n",
    "\t\n",
    "\tprivate part def C {\n",
    "\t\tprivate in ref y: A, B;\n",
    "\t}\n",
    "\t\n",
    "\tport def P {\n",
    "\t\tin item a1: A;\n",
    "\t\tout item a2: A;\n",
    "\t}\n",
    "\t\n",
    "}"
   ]
  },
  {
   "cell_type": "code",
   "execution_count": 2,
   "id": "continuing-interview",
   "metadata": {
    "execution": {
     "iopub.execute_input": "2021-03-25T15:10:15.209973Z",
     "iopub.status.busy": "2021-03-25T15:10:15.209559Z",
     "iopub.status.idle": "2021-03-25T15:10:16.257359Z",
     "shell.execute_reply": "2021-03-25T15:10:16.257056Z"
    }
   },
   "outputs": [
    {
     "data": {
      "image/svg+xml": [
       "<?xml version=\"1.0\" encoding=\"UTF-8\" standalone=\"no\"?><svg xmlns=\"http://www.w3.org/2000/svg\" xmlns:xlink=\"http://www.w3.org/1999/xlink\" contentScriptType=\"application/ecmascript\" contentStyleType=\"text/css\" height=\"738px\" preserveAspectRatio=\"none\" style=\"width:267px;height:738px;\" version=\"1.1\" viewBox=\"0 0 267 738\" width=\"267px\" zoomAndPan=\"magnify\"><defs><filter height=\"300%\" id=\"f8yq3i85pa28z\" width=\"300%\" x=\"-1\" y=\"-1\"><feGaussianBlur result=\"blurOut\" stdDeviation=\"2.0\"/><feColorMatrix in=\"blurOut\" result=\"blurOut2\" type=\"matrix\" values=\"0 0 0 0 0 0 0 0 0 0 0 0 0 0 0 0 0 0 .4 0\"/><feOffset dx=\"4.0\" dy=\"4.0\" in=\"blurOut2\" result=\"blurOut3\"/><feBlend in=\"SourceGraphic\" in2=\"blurOut3\" mode=\"normal\"/></filter></defs><g><!--MD5=[fbc87193dbaf4d95561dea2c320d4a47]\n",
       "cluster E1--><a href=\"psysml:ffb2e2dc-9c37-4787-be7c-ae8a88a6d943\" target=\"_top\" title=\"psysml:ffb2e2dc-9c37-4787-be7c-ae8a88a6d943\" xlink:actuate=\"onRequest\" xlink:href=\"psysml:ffb2e2dc-9c37-4787-be7c-ae8a88a6d943\" xlink:show=\"new\" xlink:title=\"psysml:ffb2e2dc-9c37-4787-be7c-ae8a88a6d943\" xlink:type=\"simple\"><polygon fill=\"#FFFFFF\" filter=\"url(#f8yq3i85pa28z)\" points=\"16,6,91,6,98,28.2969,245,28.2969,245,726,16,726,16,6\" style=\"stroke: #000000; stroke-width: 1.5;\"/><line style=\"stroke: #000000; stroke-width: 1.5;\" x1=\"16\" x2=\"98\" y1=\"28.2969\" y2=\"28.2969\"/><text fill=\"#000000\" font-family=\"sans-serif\" font-size=\"14\" font-weight=\"bold\" lengthAdjust=\"spacingAndGlyphs\" textLength=\"69\" x=\"20\" y=\"20.9951\">ItemTest</text></a><!--MD5=[b4997ac47864f28c2f74865a473b2911]\n",
       "class E2--><a href=\"psysml:cf4d7795-98ee-4d9f-9cbf-a98072608f6d\" target=\"_top\" title=\"psysml:cf4d7795-98ee-4d9f-9cbf-a98072608f6d\" xlink:actuate=\"onRequest\" xlink:href=\"psysml:cf4d7795-98ee-4d9f-9cbf-a98072608f6d\" xlink:show=\"new\" xlink:title=\"psysml:cf4d7795-98ee-4d9f-9cbf-a98072608f6d\" xlink:type=\"simple\"><rect fill=\"#FEFECE\" filter=\"url(#f8yq3i85pa28z)\" height=\"45.9375\" id=\"E2\" rx=\"10\" ry=\"10\" style=\"stroke: #A80036; stroke-width: 1.5;\" width=\"69\" x=\"159.5\" y=\"62\"/><ellipse cx=\"174.5\" cy=\"80.9688\" fill=\"#0000FF\" rx=\"11\" ry=\"11\" style=\"stroke: #A80036; stroke-width: 1.0;\"/><path d=\"M175.3438,87.7188 L172.8906,87.7188 L172.8906,77.4688 L169.75,77.4688 L169.75,75.3281 L178.4844,75.3281 L178.4844,77.4688 L175.3438,77.4688 L175.3438,87.7188 Z \"/><text fill=\"#000000\" font-family=\"sans-serif\" font-size=\"12\" font-style=\"italic\" lengthAdjust=\"spacingAndGlyphs\" textLength=\"41\" x=\"186.5\" y=\"78.1387\">«item»</text><text fill=\"#000000\" font-family=\"sans-serif\" font-size=\"12\" lengthAdjust=\"spacingAndGlyphs\" textLength=\"20\" x=\"197\" y=\"92.1074\">f: A</text><line style=\"stroke: #A80036; stroke-width: 1.5;\" x1=\"160.5\" x2=\"227.5\" y1=\"99.9375\" y2=\"99.9375\"/></a><!--MD5=[09b614a08d8cba4a07c9adeb5e0fee81]\n",
       "class E3--><a href=\"psysml:be14fc81-3f83-42fd-a525-71826c91787f\" target=\"_top\" title=\"psysml:be14fc81-3f83-42fd-a525-71826c91787f\" xlink:actuate=\"onRequest\" xlink:href=\"psysml:be14fc81-3f83-42fd-a525-71826c91787f\" xlink:show=\"new\" xlink:title=\"psysml:be14fc81-3f83-42fd-a525-71826c91787f\" xlink:type=\"simple\"><rect fill=\"#FEFECE\" filter=\"url(#f8yq3i85pa28z)\" height=\"75.5469\" id=\"E3\" style=\"stroke: #A80036; stroke-width: 1.5;\" width=\"93\" x=\"136.5\" y=\"190\"/><ellipse cx=\"151.5\" cy=\"208.9688\" fill=\"#0000FF\" rx=\"11\" ry=\"11\" style=\"stroke: #A80036; stroke-width: 1.0;\"/><path d=\"M152.3438,215.7188 L149.8906,215.7188 L149.8906,205.4688 L146.75,205.4688 L146.75,203.3281 L155.4844,203.3281 L155.4844,205.4688 L152.3438,205.4688 L152.3438,215.7188 Z \"/><text fill=\"#000000\" font-family=\"sans-serif\" font-size=\"12\" font-style=\"italic\" lengthAdjust=\"spacingAndGlyphs\" textLength=\"65\" x=\"163.5\" y=\"206.1387\">«item def»</text><text fill=\"#000000\" font-family=\"sans-serif\" font-size=\"12\" lengthAdjust=\"spacingAndGlyphs\" textLength=\"8\" x=\"192\" y=\"220.1074\">A</text><line style=\"stroke: #A80036; stroke-width: 1.5;\" x1=\"137.5\" x2=\"228.5\" y1=\"227.9375\" y2=\"227.9375\"/><text fill=\"#000000\" font-family=\"sans-serif\" font-size=\"11\" lengthAdjust=\"spacingAndGlyphs\" textLength=\"23\" x=\"142.5\" y=\"258.9526\">b: B</text><line style=\"stroke: #A80036; stroke-width: 1.0;\" x1=\"137.5\" x2=\"167\" y1=\"242.3398\" y2=\"242.3398\"/><text fill=\"#000000\" font-family=\"sans-serif\" font-size=\"11\" lengthAdjust=\"spacingAndGlyphs\" textLength=\"32\" x=\"167\" y=\"245.6479\">items</text><line style=\"stroke: #A80036; stroke-width: 1.0;\" x1=\"199\" x2=\"228.5\" y1=\"242.3398\" y2=\"242.3398\"/></a><!--MD5=[270fce915f116d4de14055a7c1d9a0f3]\n",
       "class E5--><a href=\"psysml:77af57f1-340c-421d-9a30-1a49108711b3\" target=\"_top\" title=\"psysml:77af57f1-340c-421d-9a30-1a49108711b3\" xlink:actuate=\"onRequest\" xlink:href=\"psysml:77af57f1-340c-421d-9a30-1a49108711b3\" xlink:show=\"new\" xlink:title=\"psysml:77af57f1-340c-421d-9a30-1a49108711b3\" xlink:type=\"simple\"><rect fill=\"#FEFECE\" filter=\"url(#f8yq3i85pa28z)\" height=\"45.9375\" id=\"E5\" rx=\"10\" ry=\"10\" style=\"stroke: #A80036; stroke-width: 1.5;\" width=\"68\" x=\"45\" y=\"327\"/><ellipse cx=\"60\" cy=\"345.9688\" fill=\"#0000FF\" rx=\"11\" ry=\"11\" style=\"stroke: #A80036; stroke-width: 1.0;\"/><path d=\"M60.8438,352.7188 L58.3906,352.7188 L58.3906,342.4688 L55.25,342.4688 L55.25,340.3281 L63.9844,340.3281 L63.9844,342.4688 L60.8438,342.4688 L60.8438,352.7188 Z \"/><text fill=\"#000000\" font-family=\"sans-serif\" font-size=\"12\" font-style=\"italic\" lengthAdjust=\"spacingAndGlyphs\" textLength=\"40\" x=\"72\" y=\"343.1387\">«part»</text><text fill=\"#000000\" font-family=\"sans-serif\" font-size=\"12\" lengthAdjust=\"spacingAndGlyphs\" textLength=\"23\" x=\"80.5\" y=\"357.1074\">c: C</text><line style=\"stroke: #A80036; stroke-width: 1.5;\" x1=\"46\" x2=\"112\" y1=\"364.9375\" y2=\"364.9375\"/></a><!--MD5=[60a26617385b1d2d0262a64233df1f8d]\n",
       "class E6--><a href=\"psysml:41f55b44-de87-42d8-a9cd-035ede31bd10\" target=\"_top\" title=\"psysml:41f55b44-de87-42d8-a9cd-035ede31bd10\" xlink:actuate=\"onRequest\" xlink:href=\"psysml:41f55b44-de87-42d8-a9cd-035ede31bd10\" xlink:show=\"new\" xlink:title=\"psysml:41f55b44-de87-42d8-a9cd-035ede31bd10\" xlink:type=\"simple\"><rect fill=\"#FEFECE\" filter=\"url(#f8yq3i85pa28z)\" height=\"45.9375\" id=\"E6\" style=\"stroke: #A80036; stroke-width: 1.5;\" width=\"93\" x=\"98.5\" y=\"557\"/><ellipse cx=\"113.5\" cy=\"575.9688\" fill=\"#0000FF\" rx=\"11\" ry=\"11\" style=\"stroke: #A80036; stroke-width: 1.0;\"/><path d=\"M114.3438,582.7188 L111.8906,582.7188 L111.8906,572.4688 L108.75,572.4688 L108.75,570.3281 L117.4844,570.3281 L117.4844,572.4688 L114.3438,572.4688 L114.3438,582.7188 Z \"/><text fill=\"#000000\" font-family=\"sans-serif\" font-size=\"12\" font-style=\"italic\" lengthAdjust=\"spacingAndGlyphs\" textLength=\"65\" x=\"125.5\" y=\"573.1387\">«item def»</text><text fill=\"#000000\" font-family=\"sans-serif\" font-size=\"12\" lengthAdjust=\"spacingAndGlyphs\" textLength=\"8\" x=\"154\" y=\"587.1074\">B</text><line style=\"stroke: #A80036; stroke-width: 1.5;\" x1=\"99.5\" x2=\"190.5\" y1=\"594.9375\" y2=\"594.9375\"/></a><!--MD5=[2156ba9850f5573cc1fc38a6a4b2f02b]\n",
       "class E7--><a href=\"psysml:4ca48e5a-78fa-40b6-ad88-229f08c03677\" target=\"_top\" title=\"psysml:4ca48e5a-78fa-40b6-ad88-229f08c03677\" xlink:actuate=\"onRequest\" xlink:href=\"psysml:4ca48e5a-78fa-40b6-ad88-229f08c03677\" xlink:show=\"new\" xlink:title=\"psysml:4ca48e5a-78fa-40b6-ad88-229f08c03677\" xlink:type=\"simple\"><rect fill=\"#FEFECE\" filter=\"url(#f8yq3i85pa28z)\" height=\"45.9375\" id=\"E7\" rx=\"10\" ry=\"10\" style=\"stroke: #A80036; stroke-width: 1.5;\" width=\"68\" x=\"136\" y=\"664\"/><ellipse cx=\"151\" cy=\"682.9688\" fill=\"#0000FF\" rx=\"11\" ry=\"11\" style=\"stroke: #A80036; stroke-width: 1.0;\"/><path d=\"M151.8438,689.7188 L149.3906,689.7188 L149.3906,679.4688 L146.25,679.4688 L146.25,677.3281 L154.9844,677.3281 L154.9844,679.4688 L151.8438,679.4688 L151.8438,689.7188 Z \"/><text fill=\"#000000\" font-family=\"sans-serif\" font-size=\"12\" font-style=\"italic\" lengthAdjust=\"spacingAndGlyphs\" textLength=\"40\" x=\"163\" y=\"680.1387\">«part»</text><text fill=\"#000000\" font-family=\"sans-serif\" font-size=\"12\" lengthAdjust=\"spacingAndGlyphs\" textLength=\"24\" x=\"171\" y=\"694.1074\">a: A</text><line style=\"stroke: #A80036; stroke-width: 1.5;\" x1=\"137\" x2=\"203\" y1=\"701.9375\" y2=\"701.9375\"/></a><!--MD5=[b9389687b975829384b498ac4b7476b2]\n",
       "class E8--><a href=\"psysml:e612b3f8-fad7-4b05-bdfc-52877d32f7f2\" target=\"_top\" title=\"psysml:e612b3f8-fad7-4b05-bdfc-52877d32f7f2\" xlink:actuate=\"onRequest\" xlink:href=\"psysml:e612b3f8-fad7-4b05-bdfc-52877d32f7f2\" xlink:show=\"new\" xlink:title=\"psysml:e612b3f8-fad7-4b05-bdfc-52877d32f7f2\" xlink:type=\"simple\"><rect fill=\"#FEFECE\" filter=\"url(#f8yq3i85pa28z)\" height=\"45.9375\" id=\"E8\" style=\"stroke: #A80036; stroke-width: 1.5;\" width=\"92\" x=\"99\" y=\"434\"/><ellipse cx=\"114\" cy=\"452.9688\" fill=\"#0000FF\" rx=\"11\" ry=\"11\" style=\"stroke: #A80036; stroke-width: 1.0;\"/><path d=\"M114.8438,459.7188 L112.3906,459.7188 L112.3906,449.4688 L109.25,449.4688 L109.25,447.3281 L117.9844,447.3281 L117.9844,449.4688 L114.8438,449.4688 L114.8438,459.7188 Z \"/><text fill=\"#000000\" font-family=\"sans-serif\" font-size=\"12\" font-style=\"italic\" lengthAdjust=\"spacingAndGlyphs\" textLength=\"64\" x=\"126\" y=\"450.1387\">«part def»</text><text fill=\"#000000\" font-family=\"sans-serif\" font-size=\"12\" lengthAdjust=\"spacingAndGlyphs\" textLength=\"8\" x=\"154\" y=\"464.1074\">C</text><line style=\"stroke: #A80036; stroke-width: 1.5;\" x1=\"100\" x2=\"190\" y1=\"471.9375\" y2=\"471.9375\"/></a><!--MD5=[fd4143e9d270a159db93a4ea2a975926]\n",
       "class E9--><a href=\"psysml:b51b1cf2-e677-402d-bf05-bb2fae798694\" target=\"_top\" title=\"psysml:b51b1cf2-e677-402d-bf05-bb2fae798694\" xlink:actuate=\"onRequest\" xlink:href=\"psysml:b51b1cf2-e677-402d-bf05-bb2fae798694\" xlink:show=\"new\" xlink:title=\"psysml:b51b1cf2-e677-402d-bf05-bb2fae798694\" xlink:type=\"simple\"><rect fill=\"#FEFECE\" filter=\"url(#f8yq3i85pa28z)\" height=\"88.3516\" id=\"E9\" style=\"stroke: #A80036; stroke-width: 1.5;\" width=\"92\" x=\"32\" y=\"41\"/><ellipse cx=\"47\" cy=\"59.9688\" fill=\"#0000FF\" rx=\"11\" ry=\"11\" style=\"stroke: #A80036; stroke-width: 1.0;\"/><path d=\"M47.8438,66.7188 L45.3906,66.7188 L45.3906,56.4688 L42.25,56.4688 L42.25,54.3281 L50.9844,54.3281 L50.9844,56.4688 L47.8438,56.4688 L47.8438,66.7188 Z \"/><text fill=\"#000000\" font-family=\"sans-serif\" font-size=\"12\" font-style=\"italic\" lengthAdjust=\"spacingAndGlyphs\" textLength=\"64\" x=\"59\" y=\"57.1387\">«port def»</text><text fill=\"#000000\" font-family=\"sans-serif\" font-size=\"12\" lengthAdjust=\"spacingAndGlyphs\" textLength=\"8\" x=\"87\" y=\"71.1074\">P</text><line style=\"stroke: #A80036; stroke-width: 1.5;\" x1=\"33\" x2=\"123\" y1=\"78.9375\" y2=\"78.9375\"/><text fill=\"#000000\" font-family=\"sans-serif\" font-size=\"11\" lengthAdjust=\"spacingAndGlyphs\" textLength=\"29\" x=\"38\" y=\"109.9526\">a1: A</text><text fill=\"#000000\" font-family=\"sans-serif\" font-size=\"11\" lengthAdjust=\"spacingAndGlyphs\" textLength=\"29\" x=\"38\" y=\"122.7573\">a2: A</text><line style=\"stroke: #A80036; stroke-width: 1.0;\" x1=\"33\" x2=\"62\" y1=\"93.3398\" y2=\"93.3398\"/><text fill=\"#000000\" font-family=\"sans-serif\" font-size=\"11\" lengthAdjust=\"spacingAndGlyphs\" textLength=\"32\" x=\"62\" y=\"96.6479\">items</text><line style=\"stroke: #A80036; stroke-width: 1.0;\" x1=\"94\" x2=\"123\" y1=\"93.3398\" y2=\"93.3398\"/></a><!--MD5=[2720a5a1f2c3fca2055b230370638851]\n",
       "link E2 to E3--><a href=\"psysml:5c778f2f-9d99-44f7-9cbe-495e6850b493\" target=\"_top\" title=\"psysml:5c778f2f-9d99-44f7-9cbe-495e6850b493\" xlink:actuate=\"onRequest\" xlink:href=\"psysml:5c778f2f-9d99-44f7-9cbe-495e6850b493\" xlink:show=\"new\" xlink:title=\"psysml:5c778f2f-9d99-44f7-9cbe-495e6850b493\" xlink:type=\"simple\"><path d=\"M192.28,108.03 C190.99,124.58 189.16,148.04 187.47,169.76 \" fill=\"none\" id=\"E2-&gt;E3\" style=\"stroke: #A80036; stroke-width: 1.0;\"/><polygon fill=\"#FFFFFF\" points=\"185.9,189.77,180.3864,170.2867,194.3447,171.3665,185.9,189.77\" style=\"stroke: #A80036; stroke-width: 1.0;\"/><ellipse cx=\"182.8201\" cy=\"164.7579\" fill=\"#A80036\" rx=\"2\" ry=\"2\" style=\"stroke: #A80036; stroke-width: 1.0;\"/><ellipse cx=\"192.7903\" cy=\"165.5293\" fill=\"#A80036\" rx=\"2\" ry=\"2\" style=\"stroke: #A80036; stroke-width: 1.0;\"/></a><!--MD5=[191cde3d490a3f6d7bb551fe3ddca469]\n",
       "reverse link E3 to E5--><a href=\"psysml:77af57f1-340c-421d-9a30-1a49108711b3\" target=\"_top\" title=\"psysml:77af57f1-340c-421d-9a30-1a49108711b3\" xlink:actuate=\"onRequest\" xlink:href=\"psysml:77af57f1-340c-421d-9a30-1a49108711b3\" xlink:show=\"new\" xlink:title=\"psysml:77af57f1-340c-421d-9a30-1a49108711b3\" xlink:type=\"simple\"><path d=\"M141.98,276.33 C126.91,293.72 110.56,312.59 98.29,326.75 \" fill=\"none\" id=\"E3&lt;-E5\" style=\"stroke: #A80036; stroke-width: 1.0;\"/><polygon fill=\"#FFFFFF\" points=\"150.66,266.31,143.7081,268.226,142.8028,275.38,149.7548,273.4641,150.66,266.31\" style=\"stroke: #A80036; stroke-width: 1.0;\"/></a><!--MD5=[14ccda38c055a5c0da953d572bc50960]\n",
       "link E7 to E3--><a href=\"psysml:8bb447da-4a21-4000-9a04-f9f9c4ed48f1\" target=\"_top\" title=\"psysml:8bb447da-4a21-4000-9a04-f9f9c4ed48f1\" xlink:actuate=\"onRequest\" xlink:href=\"psysml:8bb447da-4a21-4000-9a04-f9f9c4ed48f1\" xlink:show=\"new\" xlink:title=\"psysml:8bb447da-4a21-4000-9a04-f9f9c4ed48f1\" xlink:type=\"simple\"><path d=\"M190.94,663.77 C207.55,643.74 228,612.65 228,581 C228,349 228,349 228,349 C228,327.03 221.3,304.15 213.08,284.33 \" fill=\"none\" id=\"E7-&gt;E3\" style=\"stroke: #A80036; stroke-width: 1.0;\"/><polygon fill=\"#FFFFFF\" points=\"204.71,266.04,218.9763,280.4092,206.2439,286.2303,204.71,266.04\" style=\"stroke: #A80036; stroke-width: 1.0;\"/><ellipse cx=\"219.5274\" cy=\"286.4247\" fill=\"#A80036\" rx=\"2\" ry=\"2\" style=\"stroke: #A80036; stroke-width: 1.0;\"/><ellipse cx=\"210.4328\" cy=\"290.5826\" fill=\"#A80036\" rx=\"2\" ry=\"2\" style=\"stroke: #A80036; stroke-width: 1.0;\"/></a><!--MD5=[3f50a3473f1dfb74d3f76443e03635af]\n",
       "reverse link E6 to E7--><a href=\"psysml:4ca48e5a-78fa-40b6-ad88-229f08c03677\" target=\"_top\" title=\"psysml:4ca48e5a-78fa-40b6-ad88-229f08c03677\" xlink:actuate=\"onRequest\" xlink:href=\"psysml:4ca48e5a-78fa-40b6-ad88-229f08c03677\" xlink:show=\"new\" xlink:title=\"psysml:4ca48e5a-78fa-40b6-ad88-229f08c03677\" xlink:type=\"simple\"><path d=\"M153.34,616.05 C157.08,631.76 161.39,649.82 164.68,663.66 \" fill=\"none\" id=\"E6&lt;-E7\" style=\"stroke: #A80036; stroke-width: 1.0;\"/><polygon fill=\"#A80036\" points=\"150.24,603.01,147.7406,609.7741,153.023,614.6828,155.5224,607.9187,150.24,603.01\" style=\"stroke: #A80036; stroke-width: 1.0;\"/></a><!--MD5=[dfaffb906826c3e5aca635516100ff21]\n",
       "link E5 to E8--><a href=\"psysml:6ff88c17-8c2d-42a4-af32-a2455d6f0acf\" target=\"_top\" title=\"psysml:6ff88c17-8c2d-42a4-af32-a2455d6f0acf\" xlink:actuate=\"onRequest\" xlink:href=\"psysml:6ff88c17-8c2d-42a4-af32-a2455d6f0acf\" xlink:show=\"new\" xlink:title=\"psysml:6ff88c17-8c2d-42a4-af32-a2455d6f0acf\" xlink:type=\"simple\"><path d=\"M92.84,373.01 C100.79,385.67 111.02,401.94 120.31,416.72 \" fill=\"none\" id=\"E5-&gt;E8\" style=\"stroke: #A80036; stroke-width: 1.0;\"/><polygon fill=\"#FFFFFF\" points=\"130.96,433.66,114.9212,421.3005,126.7735,413.8491,130.96,433.66\" style=\"stroke: #A80036; stroke-width: 1.0;\"/><ellipse cx=\"113.5806\" cy=\"415.4104\" fill=\"#A80036\" rx=\"2\" ry=\"2\" style=\"stroke: #A80036; stroke-width: 1.0;\"/><ellipse cx=\"122.0465\" cy=\"410.088\" fill=\"#A80036\" rx=\"2\" ry=\"2\" style=\"stroke: #A80036; stroke-width: 1.0;\"/></a><!--MD5=[03c8294790d3c57651a1993cecff665f]\n",
       "reverse link E8 to E3--><a href=\"psysml:83dfbdb9-73af-4dff-b5ad-52a21a738594\" target=\"_top\" title=\"psysml:83dfbdb9-73af-4dff-b5ad-52a21a738594\" xlink:actuate=\"onRequest\" xlink:href=\"psysml:83dfbdb9-73af-4dff-b5ad-52a21a738594\" xlink:show=\"new\" xlink:title=\"psysml:83dfbdb9-73af-4dff-b5ad-52a21a738594\" xlink:type=\"simple\"><path d=\"M150.89,420.81 C157.91,378.86 169.6,309.06 176.77,266.23 \" fill=\"none\" id=\"E8&lt;-E3\" style=\"stroke: #A80036; stroke-width: 1.0;\"/><polygon fill=\"#FFFFFF\" points=\"148.7,433.89,153.6396,428.6364,150.6899,422.0561,145.7503,427.3098,148.7,433.89\" style=\"stroke: #A80036; stroke-width: 1.0;\"/><text fill=\"#000000\" font-family=\"sans-serif\" font-size=\"13\" lengthAdjust=\"spacingAndGlyphs\" textLength=\"7\" x=\"167\" y=\"354.5669\">y</text></a><!--MD5=[0d75d2178373a6a4568e5dc728f58aef]\n",
       "reverse link E8 to E6--><a href=\"psysml:83dfbdb9-73af-4dff-b5ad-52a21a738594\" target=\"_top\" title=\"psysml:83dfbdb9-73af-4dff-b5ad-52a21a738594\" xlink:actuate=\"onRequest\" xlink:href=\"psysml:83dfbdb9-73af-4dff-b5ad-52a21a738594\" xlink:show=\"new\" xlink:title=\"psysml:83dfbdb9-73af-4dff-b5ad-52a21a738594\" xlink:type=\"simple\"><path d=\"M145,493.22 C145,513.81 145,539.16 145,556.95 \" fill=\"none\" id=\"E8&lt;-E6\" style=\"stroke: #A80036; stroke-width: 1.0;\"/><polygon fill=\"#FFFFFF\" points=\"145,480.19,141,486.19,145,492.19,149,486.19,145,480.19\" style=\"stroke: #A80036; stroke-width: 1.0;\"/><text fill=\"#000000\" font-family=\"sans-serif\" font-size=\"13\" lengthAdjust=\"spacingAndGlyphs\" textLength=\"7\" x=\"146\" y=\"523.0669\">y</text></a><!--MD5=[521bc38bf983f2e802cdbf025189936d]\n",
       "@startuml\r\n",
       " \r\n",
       "package \"ItemTest\" as E1  [[psysml:ffb2e2dc-9c37-4787-be7c-ae8a88a6d943 ]]  {\r\n",
       "comp usage \"f: A\" as E2  <<(T,blue)item>> [[psysml:cf4d7795-98ee-4d9f-9cbf-a98072608f6d ]] {\r\n",
       "}\r\n",
       "comp def \"A\" as E3  <<(T,blue)item def>> [[psysml:be14fc81-3f83-42fd-a525-71826c91787f ]] {\r\n",
       "- - items - -\r\n",
       "b: B\r\n",
       "}\r\n",
       "comp usage \"c: C\" as E5  <<(T,blue)part>> [[psysml:77af57f1-340c-421d-9a30-1a49108711b3 ]] {\r\n",
       "}\r\n",
       "comp def \"B\" as E6  <<(T,blue)item def>> [[psysml:41f55b44-de87-42d8-a9cd-035ede31bd10 ]] {\r\n",
       "}\r\n",
       "comp usage \"a: A\" as E7  <<(T,blue)part>> [[psysml:4ca48e5a-78fa-40b6-ad88-229f08c03677 ]] {\r\n",
       "}\r\n",
       "comp def \"C\" as E8  <<(T,blue)part def>> [[psysml:e612b3f8-fad7-4b05-bdfc-52877d32f7f2 ]] {\r\n",
       "}\r\n",
       "comp def \"P\" as E9  <<(T,blue)port def>> [[psysml:b51b1cf2-e677-402d-bf05-bb2fae798694 ]] {\r\n",
       "- - items - -\r\n",
       "a1: A\r\n",
       "a2: A\r\n",
       "}\r\n",
       "E2 - -:|> E3 [[psysml:5c778f2f-9d99-44f7-9cbe-495e6850b493 ]] \r\n",
       "E3 o- - E5 [[psysml:77af57f1-340c-421d-9a30-1a49108711b3 ]] \r\n",
       "E7 - -:|> E3 [[psysml:8bb447da-4a21-4000-9a04-f9f9c4ed48f1 ]] \r\n",
       "E6 *- - E7 [[psysml:4ca48e5a-78fa-40b6-ad88-229f08c03677 ]] \r\n",
       "E5 - -:|> E8 [[psysml:6ff88c17-8c2d-42a4-af32-a2455d6f0acf ]] \r\n",
       "E8 o- - E3 [[psysml:83dfbdb9-73af-4dff-b5ad-52a21a738594 ]] : y\r\n",
       "E8 o- - E6 [[psysml:83dfbdb9-73af-4dff-b5ad-52a21a738594 ]] : y\r\n",
       "}\r\n",
       "@enduml\r\n",
       "\n",
       "PlantUML version 1.2020.13(Sat Jun 13 12:26:38 UTC 2020)\n",
       "(EPL source distribution)\n",
       "Java Runtime: OpenJDK Runtime Environment\n",
       "JVM: OpenJDK 64-Bit Server VM\n",
       "Default Encoding: UTF-8\n",
       "Language: en\n",
       "Country: null\n",
       "--></g></svg>"
      ]
     },
     "execution_count": 2,
     "metadata": {},
     "output_type": "execute_result"
    }
   ],
   "source": [
    "%viz --style=\"COMPTREE\" --view=\"Default\" \"ItemTest\""
   ]
  },
  {
   "cell_type": "code",
   "execution_count": 3,
   "id": "accredited-hypothetical",
   "metadata": {
    "execution": {
     "iopub.execute_input": "2021-03-25T15:10:16.308369Z",
     "iopub.status.busy": "2021-03-25T15:10:16.307587Z",
     "iopub.status.idle": "2021-03-25T15:10:16.650850Z",
     "shell.execute_reply": "2021-03-25T15:10:16.650493Z"
    }
   },
   "outputs": [
    {
     "data": {
      "image/svg+xml": [
       "<?xml version=\"1.0\" encoding=\"UTF-8\" standalone=\"no\"?><svg xmlns=\"http://www.w3.org/2000/svg\" xmlns:xlink=\"http://www.w3.org/1999/xlink\" contentScriptType=\"application/ecmascript\" contentStyleType=\"text/css\" height=\"738px\" preserveAspectRatio=\"none\" style=\"width:267px;height:738px;\" version=\"1.1\" viewBox=\"0 0 267 738\" width=\"267px\" zoomAndPan=\"magnify\"><defs><filter height=\"300%\" id=\"f8yq3i85pa28z\" width=\"300%\" x=\"-1\" y=\"-1\"><feGaussianBlur result=\"blurOut\" stdDeviation=\"2.0\"/><feColorMatrix in=\"blurOut\" result=\"blurOut2\" type=\"matrix\" values=\"0 0 0 0 0 0 0 0 0 0 0 0 0 0 0 0 0 0 .4 0\"/><feOffset dx=\"4.0\" dy=\"4.0\" in=\"blurOut2\" result=\"blurOut3\"/><feBlend in=\"SourceGraphic\" in2=\"blurOut3\" mode=\"normal\"/></filter></defs><g><!--MD5=[fbc87193dbaf4d95561dea2c320d4a47]\n",
       "cluster E1--><a href=\"psysml:ffb2e2dc-9c37-4787-be7c-ae8a88a6d943\" target=\"_top\" title=\"psysml:ffb2e2dc-9c37-4787-be7c-ae8a88a6d943\" xlink:actuate=\"onRequest\" xlink:href=\"psysml:ffb2e2dc-9c37-4787-be7c-ae8a88a6d943\" xlink:show=\"new\" xlink:title=\"psysml:ffb2e2dc-9c37-4787-be7c-ae8a88a6d943\" xlink:type=\"simple\"><polygon fill=\"#FFFFFF\" filter=\"url(#f8yq3i85pa28z)\" points=\"16,6,91,6,98,28.2969,245,28.2969,245,726,16,726,16,6\" style=\"stroke: #000000; stroke-width: 1.5;\"/><line style=\"stroke: #000000; stroke-width: 1.5;\" x1=\"16\" x2=\"98\" y1=\"28.2969\" y2=\"28.2969\"/><text fill=\"#000000\" font-family=\"sans-serif\" font-size=\"14\" font-weight=\"bold\" lengthAdjust=\"spacingAndGlyphs\" textLength=\"69\" x=\"20\" y=\"20.9951\">ItemTest</text></a><!--MD5=[b4997ac47864f28c2f74865a473b2911]\n",
       "class E2--><a href=\"psysml:cf4d7795-98ee-4d9f-9cbf-a98072608f6d\" target=\"_top\" title=\"psysml:cf4d7795-98ee-4d9f-9cbf-a98072608f6d\" xlink:actuate=\"onRequest\" xlink:href=\"psysml:cf4d7795-98ee-4d9f-9cbf-a98072608f6d\" xlink:show=\"new\" xlink:title=\"psysml:cf4d7795-98ee-4d9f-9cbf-a98072608f6d\" xlink:type=\"simple\"><rect fill=\"#FEFECE\" filter=\"url(#f8yq3i85pa28z)\" height=\"45.9375\" id=\"E2\" rx=\"10\" ry=\"10\" style=\"stroke: #A80036; stroke-width: 1.5;\" width=\"69\" x=\"159.5\" y=\"62\"/><ellipse cx=\"174.5\" cy=\"80.9688\" fill=\"#0000FF\" rx=\"11\" ry=\"11\" style=\"stroke: #A80036; stroke-width: 1.0;\"/><path d=\"M175.3438,87.7188 L172.8906,87.7188 L172.8906,77.4688 L169.75,77.4688 L169.75,75.3281 L178.4844,75.3281 L178.4844,77.4688 L175.3438,77.4688 L175.3438,87.7188 Z \"/><text fill=\"#000000\" font-family=\"sans-serif\" font-size=\"12\" font-style=\"italic\" lengthAdjust=\"spacingAndGlyphs\" textLength=\"41\" x=\"186.5\" y=\"78.1387\">«item»</text><text fill=\"#000000\" font-family=\"sans-serif\" font-size=\"12\" lengthAdjust=\"spacingAndGlyphs\" textLength=\"20\" x=\"197\" y=\"92.1074\">f: A</text><line style=\"stroke: #A80036; stroke-width: 1.5;\" x1=\"160.5\" x2=\"227.5\" y1=\"99.9375\" y2=\"99.9375\"/></a><!--MD5=[09b614a08d8cba4a07c9adeb5e0fee81]\n",
       "class E3--><a href=\"psysml:be14fc81-3f83-42fd-a525-71826c91787f\" target=\"_top\" title=\"psysml:be14fc81-3f83-42fd-a525-71826c91787f\" xlink:actuate=\"onRequest\" xlink:href=\"psysml:be14fc81-3f83-42fd-a525-71826c91787f\" xlink:show=\"new\" xlink:title=\"psysml:be14fc81-3f83-42fd-a525-71826c91787f\" xlink:type=\"simple\"><rect fill=\"#FEFECE\" filter=\"url(#f8yq3i85pa28z)\" height=\"75.5469\" id=\"E3\" style=\"stroke: #A80036; stroke-width: 1.5;\" width=\"93\" x=\"136.5\" y=\"190\"/><ellipse cx=\"151.5\" cy=\"208.9688\" fill=\"#0000FF\" rx=\"11\" ry=\"11\" style=\"stroke: #A80036; stroke-width: 1.0;\"/><path d=\"M152.3438,215.7188 L149.8906,215.7188 L149.8906,205.4688 L146.75,205.4688 L146.75,203.3281 L155.4844,203.3281 L155.4844,205.4688 L152.3438,205.4688 L152.3438,215.7188 Z \"/><text fill=\"#000000\" font-family=\"sans-serif\" font-size=\"12\" font-style=\"italic\" lengthAdjust=\"spacingAndGlyphs\" textLength=\"65\" x=\"163.5\" y=\"206.1387\">«item def»</text><text fill=\"#000000\" font-family=\"sans-serif\" font-size=\"12\" lengthAdjust=\"spacingAndGlyphs\" textLength=\"8\" x=\"192\" y=\"220.1074\">A</text><line style=\"stroke: #A80036; stroke-width: 1.5;\" x1=\"137.5\" x2=\"228.5\" y1=\"227.9375\" y2=\"227.9375\"/><text fill=\"#000000\" font-family=\"sans-serif\" font-size=\"11\" lengthAdjust=\"spacingAndGlyphs\" textLength=\"23\" x=\"142.5\" y=\"258.9526\">b: B</text><line style=\"stroke: #A80036; stroke-width: 1.0;\" x1=\"137.5\" x2=\"167\" y1=\"242.3398\" y2=\"242.3398\"/><text fill=\"#000000\" font-family=\"sans-serif\" font-size=\"11\" lengthAdjust=\"spacingAndGlyphs\" textLength=\"32\" x=\"167\" y=\"245.6479\">items</text><line style=\"stroke: #A80036; stroke-width: 1.0;\" x1=\"199\" x2=\"228.5\" y1=\"242.3398\" y2=\"242.3398\"/></a><!--MD5=[270fce915f116d4de14055a7c1d9a0f3]\n",
       "class E5--><a href=\"psysml:77af57f1-340c-421d-9a30-1a49108711b3\" target=\"_top\" title=\"psysml:77af57f1-340c-421d-9a30-1a49108711b3\" xlink:actuate=\"onRequest\" xlink:href=\"psysml:77af57f1-340c-421d-9a30-1a49108711b3\" xlink:show=\"new\" xlink:title=\"psysml:77af57f1-340c-421d-9a30-1a49108711b3\" xlink:type=\"simple\"><rect fill=\"#FEFECE\" filter=\"url(#f8yq3i85pa28z)\" height=\"45.9375\" id=\"E5\" rx=\"10\" ry=\"10\" style=\"stroke: #A80036; stroke-width: 1.5;\" width=\"68\" x=\"45\" y=\"327\"/><ellipse cx=\"60\" cy=\"345.9688\" fill=\"#0000FF\" rx=\"11\" ry=\"11\" style=\"stroke: #A80036; stroke-width: 1.0;\"/><path d=\"M60.8438,352.7188 L58.3906,352.7188 L58.3906,342.4688 L55.25,342.4688 L55.25,340.3281 L63.9844,340.3281 L63.9844,342.4688 L60.8438,342.4688 L60.8438,352.7188 Z \"/><text fill=\"#000000\" font-family=\"sans-serif\" font-size=\"12\" font-style=\"italic\" lengthAdjust=\"spacingAndGlyphs\" textLength=\"40\" x=\"72\" y=\"343.1387\">«part»</text><text fill=\"#000000\" font-family=\"sans-serif\" font-size=\"12\" lengthAdjust=\"spacingAndGlyphs\" textLength=\"23\" x=\"80.5\" y=\"357.1074\">c: C</text><line style=\"stroke: #A80036; stroke-width: 1.5;\" x1=\"46\" x2=\"112\" y1=\"364.9375\" y2=\"364.9375\"/></a><!--MD5=[60a26617385b1d2d0262a64233df1f8d]\n",
       "class E6--><a href=\"psysml:41f55b44-de87-42d8-a9cd-035ede31bd10\" target=\"_top\" title=\"psysml:41f55b44-de87-42d8-a9cd-035ede31bd10\" xlink:actuate=\"onRequest\" xlink:href=\"psysml:41f55b44-de87-42d8-a9cd-035ede31bd10\" xlink:show=\"new\" xlink:title=\"psysml:41f55b44-de87-42d8-a9cd-035ede31bd10\" xlink:type=\"simple\"><rect fill=\"#FEFECE\" filter=\"url(#f8yq3i85pa28z)\" height=\"45.9375\" id=\"E6\" style=\"stroke: #A80036; stroke-width: 1.5;\" width=\"93\" x=\"98.5\" y=\"557\"/><ellipse cx=\"113.5\" cy=\"575.9688\" fill=\"#0000FF\" rx=\"11\" ry=\"11\" style=\"stroke: #A80036; stroke-width: 1.0;\"/><path d=\"M114.3438,582.7188 L111.8906,582.7188 L111.8906,572.4688 L108.75,572.4688 L108.75,570.3281 L117.4844,570.3281 L117.4844,572.4688 L114.3438,572.4688 L114.3438,582.7188 Z \"/><text fill=\"#000000\" font-family=\"sans-serif\" font-size=\"12\" font-style=\"italic\" lengthAdjust=\"spacingAndGlyphs\" textLength=\"65\" x=\"125.5\" y=\"573.1387\">«item def»</text><text fill=\"#000000\" font-family=\"sans-serif\" font-size=\"12\" lengthAdjust=\"spacingAndGlyphs\" textLength=\"8\" x=\"154\" y=\"587.1074\">B</text><line style=\"stroke: #A80036; stroke-width: 1.5;\" x1=\"99.5\" x2=\"190.5\" y1=\"594.9375\" y2=\"594.9375\"/></a><!--MD5=[2156ba9850f5573cc1fc38a6a4b2f02b]\n",
       "class E7--><a href=\"psysml:4ca48e5a-78fa-40b6-ad88-229f08c03677\" target=\"_top\" title=\"psysml:4ca48e5a-78fa-40b6-ad88-229f08c03677\" xlink:actuate=\"onRequest\" xlink:href=\"psysml:4ca48e5a-78fa-40b6-ad88-229f08c03677\" xlink:show=\"new\" xlink:title=\"psysml:4ca48e5a-78fa-40b6-ad88-229f08c03677\" xlink:type=\"simple\"><rect fill=\"#FEFECE\" filter=\"url(#f8yq3i85pa28z)\" height=\"45.9375\" id=\"E7\" rx=\"10\" ry=\"10\" style=\"stroke: #A80036; stroke-width: 1.5;\" width=\"68\" x=\"136\" y=\"664\"/><ellipse cx=\"151\" cy=\"682.9688\" fill=\"#0000FF\" rx=\"11\" ry=\"11\" style=\"stroke: #A80036; stroke-width: 1.0;\"/><path d=\"M151.8438,689.7188 L149.3906,689.7188 L149.3906,679.4688 L146.25,679.4688 L146.25,677.3281 L154.9844,677.3281 L154.9844,679.4688 L151.8438,679.4688 L151.8438,689.7188 Z \"/><text fill=\"#000000\" font-family=\"sans-serif\" font-size=\"12\" font-style=\"italic\" lengthAdjust=\"spacingAndGlyphs\" textLength=\"40\" x=\"163\" y=\"680.1387\">«part»</text><text fill=\"#000000\" font-family=\"sans-serif\" font-size=\"12\" lengthAdjust=\"spacingAndGlyphs\" textLength=\"24\" x=\"171\" y=\"694.1074\">a: A</text><line style=\"stroke: #A80036; stroke-width: 1.5;\" x1=\"137\" x2=\"203\" y1=\"701.9375\" y2=\"701.9375\"/></a><!--MD5=[b9389687b975829384b498ac4b7476b2]\n",
       "class E8--><a href=\"psysml:e612b3f8-fad7-4b05-bdfc-52877d32f7f2\" target=\"_top\" title=\"psysml:e612b3f8-fad7-4b05-bdfc-52877d32f7f2\" xlink:actuate=\"onRequest\" xlink:href=\"psysml:e612b3f8-fad7-4b05-bdfc-52877d32f7f2\" xlink:show=\"new\" xlink:title=\"psysml:e612b3f8-fad7-4b05-bdfc-52877d32f7f2\" xlink:type=\"simple\"><rect fill=\"#FEFECE\" filter=\"url(#f8yq3i85pa28z)\" height=\"45.9375\" id=\"E8\" style=\"stroke: #A80036; stroke-width: 1.5;\" width=\"92\" x=\"99\" y=\"434\"/><ellipse cx=\"114\" cy=\"452.9688\" fill=\"#0000FF\" rx=\"11\" ry=\"11\" style=\"stroke: #A80036; stroke-width: 1.0;\"/><path d=\"M114.8438,459.7188 L112.3906,459.7188 L112.3906,449.4688 L109.25,449.4688 L109.25,447.3281 L117.9844,447.3281 L117.9844,449.4688 L114.8438,449.4688 L114.8438,459.7188 Z \"/><text fill=\"#000000\" font-family=\"sans-serif\" font-size=\"12\" font-style=\"italic\" lengthAdjust=\"spacingAndGlyphs\" textLength=\"64\" x=\"126\" y=\"450.1387\">«part def»</text><text fill=\"#000000\" font-family=\"sans-serif\" font-size=\"12\" lengthAdjust=\"spacingAndGlyphs\" textLength=\"8\" x=\"154\" y=\"464.1074\">C</text><line style=\"stroke: #A80036; stroke-width: 1.5;\" x1=\"100\" x2=\"190\" y1=\"471.9375\" y2=\"471.9375\"/></a><!--MD5=[fd4143e9d270a159db93a4ea2a975926]\n",
       "class E9--><a href=\"psysml:b51b1cf2-e677-402d-bf05-bb2fae798694\" target=\"_top\" title=\"psysml:b51b1cf2-e677-402d-bf05-bb2fae798694\" xlink:actuate=\"onRequest\" xlink:href=\"psysml:b51b1cf2-e677-402d-bf05-bb2fae798694\" xlink:show=\"new\" xlink:title=\"psysml:b51b1cf2-e677-402d-bf05-bb2fae798694\" xlink:type=\"simple\"><rect fill=\"#FEFECE\" filter=\"url(#f8yq3i85pa28z)\" height=\"88.3516\" id=\"E9\" style=\"stroke: #A80036; stroke-width: 1.5;\" width=\"92\" x=\"32\" y=\"41\"/><ellipse cx=\"47\" cy=\"59.9688\" fill=\"#0000FF\" rx=\"11\" ry=\"11\" style=\"stroke: #A80036; stroke-width: 1.0;\"/><path d=\"M47.8438,66.7188 L45.3906,66.7188 L45.3906,56.4688 L42.25,56.4688 L42.25,54.3281 L50.9844,54.3281 L50.9844,56.4688 L47.8438,56.4688 L47.8438,66.7188 Z \"/><text fill=\"#000000\" font-family=\"sans-serif\" font-size=\"12\" font-style=\"italic\" lengthAdjust=\"spacingAndGlyphs\" textLength=\"64\" x=\"59\" y=\"57.1387\">«port def»</text><text fill=\"#000000\" font-family=\"sans-serif\" font-size=\"12\" lengthAdjust=\"spacingAndGlyphs\" textLength=\"8\" x=\"87\" y=\"71.1074\">P</text><line style=\"stroke: #A80036; stroke-width: 1.5;\" x1=\"33\" x2=\"123\" y1=\"78.9375\" y2=\"78.9375\"/><text fill=\"#000000\" font-family=\"sans-serif\" font-size=\"11\" lengthAdjust=\"spacingAndGlyphs\" textLength=\"29\" x=\"38\" y=\"109.9526\">a1: A</text><text fill=\"#000000\" font-family=\"sans-serif\" font-size=\"11\" lengthAdjust=\"spacingAndGlyphs\" textLength=\"29\" x=\"38\" y=\"122.7573\">a2: A</text><line style=\"stroke: #A80036; stroke-width: 1.0;\" x1=\"33\" x2=\"62\" y1=\"93.3398\" y2=\"93.3398\"/><text fill=\"#000000\" font-family=\"sans-serif\" font-size=\"11\" lengthAdjust=\"spacingAndGlyphs\" textLength=\"32\" x=\"62\" y=\"96.6479\">items</text><line style=\"stroke: #A80036; stroke-width: 1.0;\" x1=\"94\" x2=\"123\" y1=\"93.3398\" y2=\"93.3398\"/></a><!--MD5=[2720a5a1f2c3fca2055b230370638851]\n",
       "link E2 to E3--><a href=\"psysml:5c778f2f-9d99-44f7-9cbe-495e6850b493\" target=\"_top\" title=\"psysml:5c778f2f-9d99-44f7-9cbe-495e6850b493\" xlink:actuate=\"onRequest\" xlink:href=\"psysml:5c778f2f-9d99-44f7-9cbe-495e6850b493\" xlink:show=\"new\" xlink:title=\"psysml:5c778f2f-9d99-44f7-9cbe-495e6850b493\" xlink:type=\"simple\"><path d=\"M192.28,108.03 C190.99,124.58 189.16,148.04 187.47,169.76 \" fill=\"none\" id=\"E2-&gt;E3\" style=\"stroke: #A80036; stroke-width: 1.0;\"/><polygon fill=\"#FFFFFF\" points=\"185.9,189.77,180.3864,170.2867,194.3447,171.3665,185.9,189.77\" style=\"stroke: #A80036; stroke-width: 1.0;\"/><ellipse cx=\"182.8201\" cy=\"164.7579\" fill=\"#A80036\" rx=\"2\" ry=\"2\" style=\"stroke: #A80036; stroke-width: 1.0;\"/><ellipse cx=\"192.7903\" cy=\"165.5293\" fill=\"#A80036\" rx=\"2\" ry=\"2\" style=\"stroke: #A80036; stroke-width: 1.0;\"/></a><!--MD5=[191cde3d490a3f6d7bb551fe3ddca469]\n",
       "reverse link E3 to E5--><a href=\"psysml:77af57f1-340c-421d-9a30-1a49108711b3\" target=\"_top\" title=\"psysml:77af57f1-340c-421d-9a30-1a49108711b3\" xlink:actuate=\"onRequest\" xlink:href=\"psysml:77af57f1-340c-421d-9a30-1a49108711b3\" xlink:show=\"new\" xlink:title=\"psysml:77af57f1-340c-421d-9a30-1a49108711b3\" xlink:type=\"simple\"><path d=\"M141.98,276.33 C126.91,293.72 110.56,312.59 98.29,326.75 \" fill=\"none\" id=\"E3&lt;-E5\" style=\"stroke: #A80036; stroke-width: 1.0;\"/><polygon fill=\"#FFFFFF\" points=\"150.66,266.31,143.7081,268.226,142.8028,275.38,149.7548,273.4641,150.66,266.31\" style=\"stroke: #A80036; stroke-width: 1.0;\"/></a><!--MD5=[14ccda38c055a5c0da953d572bc50960]\n",
       "link E7 to E3--><a href=\"psysml:8bb447da-4a21-4000-9a04-f9f9c4ed48f1\" target=\"_top\" title=\"psysml:8bb447da-4a21-4000-9a04-f9f9c4ed48f1\" xlink:actuate=\"onRequest\" xlink:href=\"psysml:8bb447da-4a21-4000-9a04-f9f9c4ed48f1\" xlink:show=\"new\" xlink:title=\"psysml:8bb447da-4a21-4000-9a04-f9f9c4ed48f1\" xlink:type=\"simple\"><path d=\"M190.94,663.77 C207.55,643.74 228,612.65 228,581 C228,349 228,349 228,349 C228,327.03 221.3,304.15 213.08,284.33 \" fill=\"none\" id=\"E7-&gt;E3\" style=\"stroke: #A80036; stroke-width: 1.0;\"/><polygon fill=\"#FFFFFF\" points=\"204.71,266.04,218.9763,280.4092,206.2439,286.2303,204.71,266.04\" style=\"stroke: #A80036; stroke-width: 1.0;\"/><ellipse cx=\"219.5274\" cy=\"286.4247\" fill=\"#A80036\" rx=\"2\" ry=\"2\" style=\"stroke: #A80036; stroke-width: 1.0;\"/><ellipse cx=\"210.4328\" cy=\"290.5826\" fill=\"#A80036\" rx=\"2\" ry=\"2\" style=\"stroke: #A80036; stroke-width: 1.0;\"/></a><!--MD5=[3f50a3473f1dfb74d3f76443e03635af]\n",
       "reverse link E6 to E7--><a href=\"psysml:4ca48e5a-78fa-40b6-ad88-229f08c03677\" target=\"_top\" title=\"psysml:4ca48e5a-78fa-40b6-ad88-229f08c03677\" xlink:actuate=\"onRequest\" xlink:href=\"psysml:4ca48e5a-78fa-40b6-ad88-229f08c03677\" xlink:show=\"new\" xlink:title=\"psysml:4ca48e5a-78fa-40b6-ad88-229f08c03677\" xlink:type=\"simple\"><path d=\"M153.34,616.05 C157.08,631.76 161.39,649.82 164.68,663.66 \" fill=\"none\" id=\"E6&lt;-E7\" style=\"stroke: #A80036; stroke-width: 1.0;\"/><polygon fill=\"#A80036\" points=\"150.24,603.01,147.7406,609.7741,153.023,614.6828,155.5224,607.9187,150.24,603.01\" style=\"stroke: #A80036; stroke-width: 1.0;\"/></a><!--MD5=[dfaffb906826c3e5aca635516100ff21]\n",
       "link E5 to E8--><a href=\"psysml:6ff88c17-8c2d-42a4-af32-a2455d6f0acf\" target=\"_top\" title=\"psysml:6ff88c17-8c2d-42a4-af32-a2455d6f0acf\" xlink:actuate=\"onRequest\" xlink:href=\"psysml:6ff88c17-8c2d-42a4-af32-a2455d6f0acf\" xlink:show=\"new\" xlink:title=\"psysml:6ff88c17-8c2d-42a4-af32-a2455d6f0acf\" xlink:type=\"simple\"><path d=\"M92.84,373.01 C100.79,385.67 111.02,401.94 120.31,416.72 \" fill=\"none\" id=\"E5-&gt;E8\" style=\"stroke: #A80036; stroke-width: 1.0;\"/><polygon fill=\"#FFFFFF\" points=\"130.96,433.66,114.9212,421.3005,126.7735,413.8491,130.96,433.66\" style=\"stroke: #A80036; stroke-width: 1.0;\"/><ellipse cx=\"113.5806\" cy=\"415.4104\" fill=\"#A80036\" rx=\"2\" ry=\"2\" style=\"stroke: #A80036; stroke-width: 1.0;\"/><ellipse cx=\"122.0465\" cy=\"410.088\" fill=\"#A80036\" rx=\"2\" ry=\"2\" style=\"stroke: #A80036; stroke-width: 1.0;\"/></a><!--MD5=[03c8294790d3c57651a1993cecff665f]\n",
       "reverse link E8 to E3--><a href=\"psysml:83dfbdb9-73af-4dff-b5ad-52a21a738594\" target=\"_top\" title=\"psysml:83dfbdb9-73af-4dff-b5ad-52a21a738594\" xlink:actuate=\"onRequest\" xlink:href=\"psysml:83dfbdb9-73af-4dff-b5ad-52a21a738594\" xlink:show=\"new\" xlink:title=\"psysml:83dfbdb9-73af-4dff-b5ad-52a21a738594\" xlink:type=\"simple\"><path d=\"M150.89,420.81 C157.91,378.86 169.6,309.06 176.77,266.23 \" fill=\"none\" id=\"E8&lt;-E3\" style=\"stroke: #A80036; stroke-width: 1.0;\"/><polygon fill=\"#FFFFFF\" points=\"148.7,433.89,153.6396,428.6364,150.6899,422.0561,145.7503,427.3098,148.7,433.89\" style=\"stroke: #A80036; stroke-width: 1.0;\"/><text fill=\"#000000\" font-family=\"sans-serif\" font-size=\"13\" lengthAdjust=\"spacingAndGlyphs\" textLength=\"7\" x=\"167\" y=\"354.5669\">y</text></a><!--MD5=[0d75d2178373a6a4568e5dc728f58aef]\n",
       "reverse link E8 to E6--><a href=\"psysml:83dfbdb9-73af-4dff-b5ad-52a21a738594\" target=\"_top\" title=\"psysml:83dfbdb9-73af-4dff-b5ad-52a21a738594\" xlink:actuate=\"onRequest\" xlink:href=\"psysml:83dfbdb9-73af-4dff-b5ad-52a21a738594\" xlink:show=\"new\" xlink:title=\"psysml:83dfbdb9-73af-4dff-b5ad-52a21a738594\" xlink:type=\"simple\"><path d=\"M145,493.22 C145,513.81 145,539.16 145,556.95 \" fill=\"none\" id=\"E8&lt;-E6\" style=\"stroke: #A80036; stroke-width: 1.0;\"/><polygon fill=\"#FFFFFF\" points=\"145,480.19,141,486.19,145,492.19,149,486.19,145,480.19\" style=\"stroke: #A80036; stroke-width: 1.0;\"/><text fill=\"#000000\" font-family=\"sans-serif\" font-size=\"13\" lengthAdjust=\"spacingAndGlyphs\" textLength=\"7\" x=\"146\" y=\"523.0669\">y</text></a><!--MD5=[521bc38bf983f2e802cdbf025189936d]\n",
       "@startuml\r\n",
       " \r\n",
       "package \"ItemTest\" as E1  [[psysml:ffb2e2dc-9c37-4787-be7c-ae8a88a6d943 ]]  {\r\n",
       "comp usage \"f: A\" as E2  <<(T,blue)item>> [[psysml:cf4d7795-98ee-4d9f-9cbf-a98072608f6d ]] {\r\n",
       "}\r\n",
       "comp def \"A\" as E3  <<(T,blue)item def>> [[psysml:be14fc81-3f83-42fd-a525-71826c91787f ]] {\r\n",
       "- - items - -\r\n",
       "b: B\r\n",
       "}\r\n",
       "comp usage \"c: C\" as E5  <<(T,blue)part>> [[psysml:77af57f1-340c-421d-9a30-1a49108711b3 ]] {\r\n",
       "}\r\n",
       "comp def \"B\" as E6  <<(T,blue)item def>> [[psysml:41f55b44-de87-42d8-a9cd-035ede31bd10 ]] {\r\n",
       "}\r\n",
       "comp usage \"a: A\" as E7  <<(T,blue)part>> [[psysml:4ca48e5a-78fa-40b6-ad88-229f08c03677 ]] {\r\n",
       "}\r\n",
       "comp def \"C\" as E8  <<(T,blue)part def>> [[psysml:e612b3f8-fad7-4b05-bdfc-52877d32f7f2 ]] {\r\n",
       "}\r\n",
       "comp def \"P\" as E9  <<(T,blue)port def>> [[psysml:b51b1cf2-e677-402d-bf05-bb2fae798694 ]] {\r\n",
       "- - items - -\r\n",
       "a1: A\r\n",
       "a2: A\r\n",
       "}\r\n",
       "E2 - -:|> E3 [[psysml:5c778f2f-9d99-44f7-9cbe-495e6850b493 ]] \r\n",
       "E3 o- - E5 [[psysml:77af57f1-340c-421d-9a30-1a49108711b3 ]] \r\n",
       "E7 - -:|> E3 [[psysml:8bb447da-4a21-4000-9a04-f9f9c4ed48f1 ]] \r\n",
       "E6 *- - E7 [[psysml:4ca48e5a-78fa-40b6-ad88-229f08c03677 ]] \r\n",
       "E5 - -:|> E8 [[psysml:6ff88c17-8c2d-42a4-af32-a2455d6f0acf ]] \r\n",
       "E8 o- - E3 [[psysml:83dfbdb9-73af-4dff-b5ad-52a21a738594 ]] : y\r\n",
       "E8 o- - E6 [[psysml:83dfbdb9-73af-4dff-b5ad-52a21a738594 ]] : y\r\n",
       "}\r\n",
       "@enduml\r\n",
       "\n",
       "PlantUML version 1.2020.13(Sat Jun 13 12:26:38 UTC 2020)\n",
       "(EPL source distribution)\n",
       "Java Runtime: OpenJDK Runtime Environment\n",
       "JVM: OpenJDK 64-Bit Server VM\n",
       "Default Encoding: UTF-8\n",
       "Language: en\n",
       "Country: null\n",
       "--></g></svg>"
      ]
     },
     "execution_count": 3,
     "metadata": {},
     "output_type": "execute_result"
    }
   ],
   "source": [
    "%viz --style=\"COMPTREE\" --view=\"Tree\" \"ItemTest\""
   ]
  },
  {
   "cell_type": "code",
   "execution_count": 4,
   "id": "dedicated-possession",
   "metadata": {
    "execution": {
     "iopub.execute_input": "2021-03-25T15:10:16.701891Z",
     "iopub.status.busy": "2021-03-25T15:10:16.700880Z",
     "iopub.status.idle": "2021-03-25T15:10:17.599071Z",
     "shell.execute_reply": "2021-03-25T15:10:17.598726Z"
    }
   },
   "outputs": [
    {
     "data": {
      "image/svg+xml": [
       "<?xml version=\"1.0\" encoding=\"UTF-8\" standalone=\"no\"?><svg xmlns=\"http://www.w3.org/2000/svg\" xmlns:xlink=\"http://www.w3.org/1999/xlink\" contentScriptType=\"application/ecmascript\" contentStyleType=\"text/css\" height=\"303px\" preserveAspectRatio=\"none\" style=\"width:603px;height:303px;background:#000000;\" version=\"1.1\" viewBox=\"0 0 603 303\" width=\"603px\" zoomAndPan=\"magnify\"><defs/><g><rect fill=\"#252027\" height=\"1\" style=\"stroke: #252027; stroke-width: 1.0;\" width=\"1\" x=\"0\" y=\"0\"/><rect fill=\"#FFFFFF\" height=\"205.5625\" style=\"stroke: #FFFFFF; stroke-width: 1.0;\" width=\"602\" x=\"0\" y=\"0\"/><text fill=\"#000000\" font-family=\"sans-serif\" font-size=\"12\" font-weight=\"bold\" lengthAdjust=\"spacingAndGlyphs\" textLength=\"159\" x=\"5\" y=\"16.1387\">Welcome to PlantUML!</text><text fill=\"#000000\" font-family=\"sans-serif\" font-size=\"12\" lengthAdjust=\"spacingAndGlyphs\" textLength=\"0\" x=\"9\" y=\"30.1074\"/><text fill=\"#000000\" font-family=\"sans-serif\" font-size=\"12\" lengthAdjust=\"spacingAndGlyphs\" textLength=\"293\" x=\"5\" y=\"44.0762\">If you use this software, you accept its license.</text><text fill=\"#000000\" font-family=\"sans-serif\" font-size=\"12\" lengthAdjust=\"spacingAndGlyphs\" textLength=\"107\" x=\"5\" y=\"58.0449\">(details by typing</text><text fill=\"#000000\" font-family=\"monospace\" font-size=\"12\" lengthAdjust=\"spacingAndGlyphs\" textLength=\"49\" x=\"116\" y=\"58.0449\">license</text><text fill=\"#000000\" font-family=\"sans-serif\" font-size=\"12\" lengthAdjust=\"spacingAndGlyphs\" textLength=\"56\" x=\"169\" y=\"58.0449\">keyword)</text><text fill=\"#000000\" font-family=\"sans-serif\" font-size=\"12\" lengthAdjust=\"spacingAndGlyphs\" textLength=\"0\" x=\"9\" y=\"72.0137\"/><text fill=\"#000000\" font-family=\"sans-serif\" font-size=\"12\" lengthAdjust=\"spacingAndGlyphs\" textLength=\"283\" x=\"5\" y=\"85.9824\">You can start with a simple UML Diagram like:</text><text fill=\"#000000\" font-family=\"sans-serif\" font-size=\"12\" lengthAdjust=\"spacingAndGlyphs\" textLength=\"0\" x=\"9\" y=\"99.9512\"/><text fill=\"#000000\" font-family=\"monospace\" font-size=\"12\" lengthAdjust=\"spacingAndGlyphs\" textLength=\"119\" x=\"5\" y=\"113.9199\">Bob-&gt;Alice: Hello</text><text fill=\"#000000\" font-family=\"sans-serif\" font-size=\"12\" lengthAdjust=\"spacingAndGlyphs\" textLength=\"0\" x=\"9\" y=\"127.8887\"/><text fill=\"#000000\" font-family=\"sans-serif\" font-size=\"12\" lengthAdjust=\"spacingAndGlyphs\" textLength=\"14\" x=\"5\" y=\"141.8574\">Or</text><text fill=\"#000000\" font-family=\"sans-serif\" font-size=\"12\" lengthAdjust=\"spacingAndGlyphs\" textLength=\"0\" x=\"9\" y=\"155.8262\"/><text fill=\"#000000\" font-family=\"monospace\" font-size=\"12\" lengthAdjust=\"spacingAndGlyphs\" textLength=\"91\" x=\"5\" y=\"169.7949\">class Example</text><text fill=\"#000000\" font-family=\"sans-serif\" font-size=\"12\" lengthAdjust=\"spacingAndGlyphs\" textLength=\"0\" x=\"9\" y=\"183.7637\"/><text fill=\"#000000\" font-family=\"sans-serif\" font-size=\"12\" lengthAdjust=\"spacingAndGlyphs\" textLength=\"349\" x=\"5\" y=\"197.7324\">You will find more information about PlantUML syntax on</text><text fill=\"#000000\" font-family=\"sans-serif\" font-size=\"12\" lengthAdjust=\"spacingAndGlyphs\" text-decoration=\"underline\" textLength=\"129\" x=\"358\" y=\"197.7324\">https://plantuml.com</text><image height=\"71\" width=\"80\" x=\"516\" xlink:href=\"data:image/png;base64,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\" y=\"6\"/><rect fill=\"#000000\" height=\"96.4844\" style=\"stroke: #000000; stroke-width: 1.0;\" width=\"602\" x=\"0\" y=\"205.5625\"/><rect fill=\"#33FF02\" height=\"21.2969\" style=\"stroke: #33FF02; stroke-width: 1.0;\" width=\"170\" x=\"5\" y=\"210.5625\"/><text fill=\"#000000\" font-family=\"sans-serif\" font-size=\"14\" font-weight=\"bold\" lengthAdjust=\"spacingAndGlyphs\" textLength=\"168\" x=\"6\" y=\"225.5625\">[From string (line 2) ]</text><text fill=\"#33FF02\" font-family=\"sans-serif\" font-size=\"14\" font-weight=\"bold\" lengthAdjust=\"spacingAndGlyphs\" textLength=\"0\" x=\"10\" y=\"245.8594\"/><text fill=\"#33FF02\" font-family=\"sans-serif\" font-size=\"14\" font-weight=\"bold\" lengthAdjust=\"spacingAndGlyphs\" textLength=\"79\" x=\"5\" y=\"262.1563\">@startuml</text><text fill=\"#33FF02\" font-family=\"sans-serif\" font-size=\"14\" font-weight=\"bold\" lengthAdjust=\"spacingAndGlyphs\" textLength=\"0\" x=\"10\" y=\"278.4531\"/><text fill=\"#FF0000\" font-family=\"sans-serif\" font-size=\"14\" font-weight=\"bold\" lengthAdjust=\"spacingAndGlyphs\" textLength=\"142\" x=\"10\" y=\"294.75\">Empty description</text><!--MD5=[f59edd8218d337f74d0c332fc6737304]\n",
       "@startuml\r\n",
       " \r\n",
       "@enduml\r\n",
       "\n",
       "PlantUML version 1.2020.13(Sat Jun 13 12:26:38 UTC 2020)\n",
       "(EPL source distribution)\n",
       "Java Runtime: OpenJDK Runtime Environment\n",
       "JVM: OpenJDK 64-Bit Server VM\n",
       "Default Encoding: UTF-8\n",
       "Language: en\n",
       "Country: null\n",
       "--></g></svg>"
      ]
     },
     "execution_count": 4,
     "metadata": {},
     "output_type": "execute_result"
    }
   ],
   "source": [
    "%viz --style=\"COMPTREE\" --view=\"State\" \"ItemTest\""
   ]
  },
  {
   "cell_type": "code",
   "execution_count": 5,
   "id": "essential-huntington",
   "metadata": {
    "execution": {
     "iopub.execute_input": "2021-03-25T15:10:17.649967Z",
     "iopub.status.busy": "2021-03-25T15:10:17.649502Z",
     "iopub.status.idle": "2021-03-25T15:10:17.783890Z",
     "shell.execute_reply": "2021-03-25T15:10:17.784161Z"
    }
   },
   "outputs": [
    {
     "data": {
      "image/svg+xml": [
       "<?xml version=\"1.0\" encoding=\"UTF-8\" standalone=\"no\"?><svg xmlns=\"http://www.w3.org/2000/svg\" xmlns:xlink=\"http://www.w3.org/1999/xlink\" contentScriptType=\"application/ecmascript\" contentStyleType=\"text/css\" height=\"195px\" preserveAspectRatio=\"none\" style=\"width:839px;height:195px;\" version=\"1.1\" viewBox=\"0 0 839 195\" width=\"839px\" zoomAndPan=\"magnify\"><defs><filter height=\"300%\" id=\"f9mr8u7fz1o9z\" width=\"300%\" x=\"-1\" y=\"-1\"><feGaussianBlur result=\"blurOut\" stdDeviation=\"2.0\"/><feColorMatrix in=\"blurOut\" result=\"blurOut2\" type=\"matrix\" values=\"0 0 0 0 0 0 0 0 0 0 0 0 0 0 0 0 0 0 .4 0\"/><feOffset dx=\"4.0\" dy=\"4.0\" in=\"blurOut2\" result=\"blurOut3\"/><feBlend in=\"SourceGraphic\" in2=\"blurOut3\" mode=\"normal\"/></filter></defs><g><!--MD5=[fbc87193dbaf4d95561dea2c320d4a47]\n",
       "cluster E1--><a href=\"psysml:ffb2e2dc-9c37-4787-be7c-ae8a88a6d943\" target=\"_top\" title=\"psysml:ffb2e2dc-9c37-4787-be7c-ae8a88a6d943\" xlink:actuate=\"onRequest\" xlink:href=\"psysml:ffb2e2dc-9c37-4787-be7c-ae8a88a6d943\" xlink:show=\"new\" xlink:title=\"psysml:ffb2e2dc-9c37-4787-be7c-ae8a88a6d943\" xlink:type=\"simple\"><polygon fill=\"#FFFFFF\" filter=\"url(#f9mr8u7fz1o9z)\" points=\"16,6,91,6,98,28.2969,817,28.2969,817,183,16,183,16,6\" style=\"stroke: #000000; stroke-width: 1.5;\"/><line style=\"stroke: #000000; stroke-width: 1.5;\" x1=\"16\" x2=\"98\" y1=\"28.2969\" y2=\"28.2969\"/><text fill=\"#000000\" font-family=\"sans-serif\" font-size=\"14\" font-weight=\"bold\" lengthAdjust=\"spacingAndGlyphs\" textLength=\"69\" x=\"20\" y=\"20.9951\">ItemTest</text></a><!--MD5=[de5ec2e2e8f62f467e546659f5068c88]\n",
       "cluster E5--><a href=\"psysml:e612b3f8-fad7-4b05-bdfc-52877d32f7f2\" target=\"_top\" title=\"psysml:e612b3f8-fad7-4b05-bdfc-52877d32f7f2\" xlink:actuate=\"onRequest\" xlink:href=\"psysml:e612b3f8-fad7-4b05-bdfc-52877d32f7f2\" xlink:show=\"new\" xlink:title=\"psysml:e612b3f8-fad7-4b05-bdfc-52877d32f7f2\" xlink:type=\"simple\"><rect fill=\"#FFFFFF\" filter=\"url(#f9mr8u7fz1o9z)\" height=\"110\" id=\"E5\" style=\"stroke: #A80036; stroke-width: 1.5;\" width=\"140\" x=\"653\" y=\"49\"/><rect fill=\"#FEFECE\" height=\"37.9375\" style=\"stroke: #A80036; stroke-width: 1.5;\" width=\"140\" x=\"653\" y=\"49\"/><text fill=\"#000000\" font-family=\"sans-serif\" font-size=\"12\" font-style=\"italic\" lengthAdjust=\"spacingAndGlyphs\" textLength=\"64\" x=\"691\" y=\"65.1387\">«part def»</text><text fill=\"#000000\" font-family=\"sans-serif\" font-size=\"12\" lengthAdjust=\"spacingAndGlyphs\" textLength=\"8\" x=\"719\" y=\"79.1074\">C</text></a><!--MD5=[09b614a08d8cba4a07c9adeb5e0fee81]\n",
       "class E3--><a href=\"psysml:be14fc81-3f83-42fd-a525-71826c91787f\" target=\"_top\" title=\"psysml:be14fc81-3f83-42fd-a525-71826c91787f\" xlink:actuate=\"onRequest\" xlink:href=\"psysml:be14fc81-3f83-42fd-a525-71826c91787f\" xlink:show=\"new\" xlink:title=\"psysml:be14fc81-3f83-42fd-a525-71826c91787f\" xlink:type=\"simple\"><rect fill=\"#FEFECE\" filter=\"url(#f9mr8u7fz1o9z)\" height=\"53.9375\" id=\"E3\" style=\"stroke: #A80036; stroke-width: 1.5;\" width=\"141\" x=\"492.5\" y=\"94.5\"/><ellipse cx=\"507.5\" cy=\"113.4688\" fill=\"#ADD1B2\" rx=\"11\" ry=\"11\" style=\"stroke: #A80036; stroke-width: 1.0;\"/><path d=\"M510.4688,119.1094 Q509.8906,119.4063 509.25,119.5469 Q508.6094,119.7031 507.9063,119.7031 Q505.4063,119.7031 504.0781,118.0625 Q502.7656,116.4063 502.7656,113.2813 Q502.7656,110.1563 504.0781,108.5 Q505.4063,106.8438 507.9063,106.8438 Q508.6094,106.8438 509.25,107 Q509.9063,107.1563 510.4688,107.4531 L510.4688,110.1719 Q509.8438,109.5938 509.25,109.3281 Q508.6563,109.0469 508.0313,109.0469 Q506.6875,109.0469 506,110.125 Q505.3125,111.1875 505.3125,113.2813 Q505.3125,115.375 506,116.4531 Q506.6875,117.5156 508.0313,117.5156 Q508.6563,117.5156 509.25,117.25 Q509.8438,116.9688 510.4688,116.3906 L510.4688,119.1094 Z \"/><text fill=\"#000000\" font-family=\"sans-serif\" font-size=\"12\" font-style=\"italic\" lengthAdjust=\"spacingAndGlyphs\" textLength=\"113\" x=\"519.5\" y=\"110.6387\">«(T,blue)item def»</text><text fill=\"#000000\" font-family=\"sans-serif\" font-size=\"12\" lengthAdjust=\"spacingAndGlyphs\" textLength=\"8\" x=\"572\" y=\"124.6074\">A</text><line style=\"stroke: #A80036; stroke-width: 1.5;\" x1=\"493.5\" x2=\"632.5\" y1=\"132.4375\" y2=\"132.4375\"/><line style=\"stroke: #A80036; stroke-width: 1.5;\" x1=\"493.5\" x2=\"632.5\" y1=\"140.4375\" y2=\"140.4375\"/></a><!--MD5=[ebbe1d658d1005bcc118a6aa81145e00]\n",
       "class E4--><a href=\"psysml:41f55b44-de87-42d8-a9cd-035ede31bd10\" target=\"_top\" title=\"psysml:41f55b44-de87-42d8-a9cd-035ede31bd10\" xlink:actuate=\"onRequest\" xlink:href=\"psysml:41f55b44-de87-42d8-a9cd-035ede31bd10\" xlink:show=\"new\" xlink:title=\"psysml:41f55b44-de87-42d8-a9cd-035ede31bd10\" xlink:type=\"simple\"><rect fill=\"#FEFECE\" filter=\"url(#f9mr8u7fz1o9z)\" height=\"53.9375\" id=\"E4\" style=\"stroke: #A80036; stroke-width: 1.5;\" width=\"141\" x=\"316.5\" y=\"94.5\"/><ellipse cx=\"331.5\" cy=\"113.4688\" fill=\"#ADD1B2\" rx=\"11\" ry=\"11\" style=\"stroke: #A80036; stroke-width: 1.0;\"/><path d=\"M334.4688,119.1094 Q333.8906,119.4063 333.25,119.5469 Q332.6094,119.7031 331.9063,119.7031 Q329.4063,119.7031 328.0781,118.0625 Q326.7656,116.4063 326.7656,113.2813 Q326.7656,110.1563 328.0781,108.5 Q329.4063,106.8438 331.9063,106.8438 Q332.6094,106.8438 333.25,107 Q333.9063,107.1563 334.4688,107.4531 L334.4688,110.1719 Q333.8438,109.5938 333.25,109.3281 Q332.6563,109.0469 332.0313,109.0469 Q330.6875,109.0469 330,110.125 Q329.3125,111.1875 329.3125,113.2813 Q329.3125,115.375 330,116.4531 Q330.6875,117.5156 332.0313,117.5156 Q332.6563,117.5156 333.25,117.25 Q333.8438,116.9688 334.4688,116.3906 L334.4688,119.1094 Z \"/><text fill=\"#000000\" font-family=\"sans-serif\" font-size=\"12\" font-style=\"italic\" lengthAdjust=\"spacingAndGlyphs\" textLength=\"113\" x=\"343.5\" y=\"110.6387\">«(T,blue)item def»</text><text fill=\"#000000\" font-family=\"sans-serif\" font-size=\"12\" lengthAdjust=\"spacingAndGlyphs\" textLength=\"8\" x=\"396\" y=\"124.6074\">B</text><line style=\"stroke: #A80036; stroke-width: 1.5;\" x1=\"317.5\" x2=\"456.5\" y1=\"132.4375\" y2=\"132.4375\"/><line style=\"stroke: #A80036; stroke-width: 1.5;\" x1=\"317.5\" x2=\"456.5\" y1=\"140.4375\" y2=\"140.4375\"/></a><!--MD5=[2156ba9850f5573cc1fc38a6a4b2f02b]\n",
       "class E7--><a href=\"psysml:b51b1cf2-e677-402d-bf05-bb2fae798694\" target=\"_top\" title=\"psysml:b51b1cf2-e677-402d-bf05-bb2fae798694\" xlink:actuate=\"onRequest\" xlink:href=\"psysml:b51b1cf2-e677-402d-bf05-bb2fae798694\" xlink:show=\"new\" xlink:title=\"psysml:b51b1cf2-e677-402d-bf05-bb2fae798694\" xlink:type=\"simple\"><rect fill=\"#FEFECE\" filter=\"url(#f9mr8u7fz1o9z)\" height=\"53.9375\" id=\"E7\" style=\"stroke: #A80036; stroke-width: 1.5;\" width=\"140\" x=\"141\" y=\"94.5\"/><ellipse cx=\"156\" cy=\"113.4688\" fill=\"#ADD1B2\" rx=\"11\" ry=\"11\" style=\"stroke: #A80036; stroke-width: 1.0;\"/><path d=\"M158.9688,119.1094 Q158.3906,119.4063 157.75,119.5469 Q157.1094,119.7031 156.4063,119.7031 Q153.9063,119.7031 152.5781,118.0625 Q151.2656,116.4063 151.2656,113.2813 Q151.2656,110.1563 152.5781,108.5 Q153.9063,106.8438 156.4063,106.8438 Q157.1094,106.8438 157.75,107 Q158.4063,107.1563 158.9688,107.4531 L158.9688,110.1719 Q158.3438,109.5938 157.75,109.3281 Q157.1563,109.0469 156.5313,109.0469 Q155.1875,109.0469 154.5,110.125 Q153.8125,111.1875 153.8125,113.2813 Q153.8125,115.375 154.5,116.4531 Q155.1875,117.5156 156.5313,117.5156 Q157.1563,117.5156 157.75,117.25 Q158.3438,116.9688 158.9688,116.3906 L158.9688,119.1094 Z \"/><text fill=\"#000000\" font-family=\"sans-serif\" font-size=\"12\" font-style=\"italic\" lengthAdjust=\"spacingAndGlyphs\" textLength=\"112\" x=\"168\" y=\"110.6387\">«(T,blue)port def»</text><text fill=\"#000000\" font-family=\"sans-serif\" font-size=\"12\" lengthAdjust=\"spacingAndGlyphs\" textLength=\"8\" x=\"220\" y=\"124.6074\">P</text><line style=\"stroke: #A80036; stroke-width: 1.5;\" x1=\"142\" x2=\"280\" y1=\"132.4375\" y2=\"132.4375\"/><line style=\"stroke: #A80036; stroke-width: 1.5;\" x1=\"142\" x2=\"280\" y1=\"140.4375\" y2=\"140.4375\"/></a><g id=\"E1.E2\"><a href=\"psysml:cf4d7795-98ee-4d9f-9cbf-a98072608f6d\" target=\"_top\" title=\"psysml:cf4d7795-98ee-4d9f-9cbf-a98072608f6d\" xlink:actuate=\"onRequest\" xlink:href=\"psysml:cf4d7795-98ee-4d9f-9cbf-a98072608f6d\" xlink:show=\"new\" xlink:title=\"psysml:cf4d7795-98ee-4d9f-9cbf-a98072608f6d\" xlink:type=\"simple\"><rect fill=\"#FEFECE\" filter=\"url(#f9mr8u7fz1o9z)\" height=\"42.9375\" id=\"E2\" rx=\"10\" ry=\"10\" style=\"stroke: #A80036; stroke-width: 1.5;\" width=\"74\" x=\"32\" y=\"100\"/><ellipse cx=\"49.25\" cy=\"118.9688\" fill=\"#0000FF\" rx=\"11\" ry=\"11\" style=\"stroke: #A80036; stroke-width: 1.0;\"/><path d=\"M50.0938,125.7188 L47.6406,125.7188 L47.6406,115.4688 L44.5,115.4688 L44.5,113.3281 L53.2344,113.3281 L53.2344,115.4688 L50.0938,115.4688 L50.0938,125.7188 Z \"/><text fill=\"#000000\" font-family=\"sans-serif\" font-size=\"12\" font-style=\"italic\" lengthAdjust=\"spacingAndGlyphs\" textLength=\"41\" x=\"61.75\" y=\"116.1387\">«item»</text><text fill=\"#000000\" font-family=\"sans-serif\" font-size=\"12\" lengthAdjust=\"spacingAndGlyphs\" textLength=\"20\" x=\"72.25\" y=\"130.1074\">f: A</text></a></g><g id=\"E1.E5.E6\"><a href=\"psysml:83dfbdb9-73af-4dff-b5ad-52a21a738594\" target=\"_top\" title=\"psysml:83dfbdb9-73af-4dff-b5ad-52a21a738594\" xlink:actuate=\"onRequest\" xlink:href=\"psysml:83dfbdb9-73af-4dff-b5ad-52a21a738594\" xlink:show=\"new\" xlink:title=\"psysml:83dfbdb9-73af-4dff-b5ad-52a21a738594\" xlink:type=\"simple\"><rect fill=\"#FEFECE\" filter=\"url(#f9mr8u7fz1o9z)\" height=\"42.9375\" id=\"E6\" rx=\"10\" ry=\"10\" style=\"stroke: #A80036; stroke-width: 1.5;\" width=\"108\" x=\"669\" y=\"100\"/><ellipse cx=\"686.25\" cy=\"118.9688\" fill=\"#0000FF\" rx=\"11\" ry=\"11\" style=\"stroke: #A80036; stroke-width: 1.0;\"/><path d=\"M687.0938,125.7188 L684.6406,125.7188 L684.6406,115.4688 L681.5,115.4688 L681.5,113.3281 L690.2344,113.3281 L690.2344,115.4688 L687.0938,115.4688 L687.0938,125.7188 Z \"/><text fill=\"#000000\" font-family=\"sans-serif\" font-size=\"12\" font-style=\"italic\" lengthAdjust=\"spacingAndGlyphs\" textLength=\"75\" x=\"698.75\" y=\"116.1387\">«reference»</text><text fill=\"#000000\" font-family=\"sans-serif\" font-size=\"12\" lengthAdjust=\"spacingAndGlyphs\" textLength=\"38\" x=\"717.25\" y=\"130.1074\">y: A, B</text></a></g><!--MD5=[c9a86a5b8ea8547fcd2ab65de039bf38]\n",
       "@startuml\r\n",
       "skinparam ranksep 8\r\n",
       "skinparam rectangle {\r\n",
       " backgroundColor<<block>> LightGreen\r\n",
       "}\r\n",
       " \r\n",
       "package \"ItemTest\" as E1  [[psysml:ffb2e2dc-9c37-4787-be7c-ae8a88a6d943 ]]  {\r\n",
       "rec usage \"f: A\" as E2  <<(T,blue)item>> [[psysml:cf4d7795-98ee-4d9f-9cbf-a98072608f6d ]] {\r\n",
       "}\r\n",
       "def \"A\" as E3  <<(T,blue)item def>> [[psysml:be14fc81-3f83-42fd-a525-71826c91787f ]] \r\n",
       "def \"B\" as E4  <<(T,blue)item def>> [[psysml:41f55b44-de87-42d8-a9cd-035ede31bd10 ]] \r\n",
       "rec def \"C\" as E5  <<(T,blue)part def>> [[psysml:e612b3f8-fad7-4b05-bdfc-52877d32f7f2 ]] {\r\n",
       "rec usage \"y: A, B\" as E6  <<(T,blue)reference>> [[psysml:83dfbdb9-73af-4dff-b5ad-52a21a738594 ]] {\r\n",
       "}\r\n",
       "}\r\n",
       "def \"P\" as E7  <<(T,blue)port def>> [[psysml:b51b1cf2-e677-402d-bf05-bb2fae798694 ]] \r\n",
       "}\r\n",
       "@enduml\r\n",
       "\n",
       "PlantUML version 1.2020.13(Sat Jun 13 12:26:38 UTC 2020)\n",
       "(EPL source distribution)\n",
       "Java Runtime: OpenJDK Runtime Environment\n",
       "JVM: OpenJDK 64-Bit Server VM\n",
       "Default Encoding: UTF-8\n",
       "Language: en\n",
       "Country: null\n",
       "--></g></svg>"
      ]
     },
     "execution_count": 5,
     "metadata": {},
     "output_type": "execute_result"
    }
   ],
   "source": [
    "%viz --style=\"COMPTREE\" --view=\"Interconnection\" \"ItemTest\""
   ]
  },
  {
   "cell_type": "code",
   "execution_count": 6,
   "id": "distinguished-patio",
   "metadata": {
    "execution": {
     "iopub.execute_input": "2021-03-25T15:10:17.834719Z",
     "iopub.status.busy": "2021-03-25T15:10:17.834223Z",
     "iopub.status.idle": "2021-03-25T15:10:17.841915Z",
     "shell.execute_reply": "2021-03-25T15:10:17.841514Z"
    }
   },
   "outputs": [
    {
     "data": {
      "image/svg+xml": [
       "<?xml version=\"1.0\" encoding=\"UTF-8\" standalone=\"no\"?><svg xmlns=\"http://www.w3.org/2000/svg\" xmlns:xlink=\"http://www.w3.org/1999/xlink\" contentScriptType=\"application/ecmascript\" contentStyleType=\"text/css\" height=\"12px\" preserveAspectRatio=\"none\" style=\"width:12px;height:12px;\" version=\"1.1\" viewBox=\"0 0 12 12\" width=\"12px\" zoomAndPan=\"magnify\"><defs/><g><!--MD5=[6a4cb978cab31700e1ce5529f947a75d]\n",
       "@startuml\r\n",
       "skinparam ranksep 8\r\n",
       " \r\n",
       "@enduml\r\n",
       "\n",
       "PlantUML version 1.2020.13(Sat Jun 13 12:26:38 UTC 2020)\n",
       "(EPL source distribution)\n",
       "Java Runtime: OpenJDK Runtime Environment\n",
       "JVM: OpenJDK 64-Bit Server VM\n",
       "Default Encoding: UTF-8\n",
       "Language: en\n",
       "Country: null\n",
       "--></g></svg>"
      ]
     },
     "execution_count": 6,
     "metadata": {},
     "output_type": "execute_result"
    }
   ],
   "source": [
    "%viz --style=\"COMPTREE\" --view=\"Action\" \"ItemTest\""
   ]
  },
  {
   "cell_type": "code",
   "execution_count": 7,
   "id": "appointed-spread",
   "metadata": {
    "execution": {
     "iopub.execute_input": "2021-03-25T15:10:17.894288Z",
     "iopub.status.busy": "2021-03-25T15:10:17.893400Z",
     "iopub.status.idle": "2021-03-25T15:10:18.198157Z",
     "shell.execute_reply": "2021-03-25T15:10:18.196349Z"
    }
   },
   "outputs": [
    {
     "data": {
      "image/svg+xml": [
       "<?xml version=\"1.0\" encoding=\"UTF-8\" standalone=\"no\"?><svg xmlns=\"http://www.w3.org/2000/svg\" xmlns:xlink=\"http://www.w3.org/1999/xlink\" contentScriptType=\"application/ecmascript\" contentStyleType=\"text/css\" height=\"738px\" preserveAspectRatio=\"none\" style=\"width:267px;height:738px;\" version=\"1.1\" viewBox=\"0 0 267 738\" width=\"267px\" zoomAndPan=\"magnify\"><defs><filter height=\"300%\" id=\"f8yq3i85pa28z\" width=\"300%\" x=\"-1\" y=\"-1\"><feGaussianBlur result=\"blurOut\" stdDeviation=\"2.0\"/><feColorMatrix in=\"blurOut\" result=\"blurOut2\" type=\"matrix\" values=\"0 0 0 0 0 0 0 0 0 0 0 0 0 0 0 0 0 0 .4 0\"/><feOffset dx=\"4.0\" dy=\"4.0\" in=\"blurOut2\" result=\"blurOut3\"/><feBlend in=\"SourceGraphic\" in2=\"blurOut3\" mode=\"normal\"/></filter></defs><g><!--MD5=[fbc87193dbaf4d95561dea2c320d4a47]\n",
       "cluster E1--><a href=\"psysml:ffb2e2dc-9c37-4787-be7c-ae8a88a6d943\" target=\"_top\" title=\"psysml:ffb2e2dc-9c37-4787-be7c-ae8a88a6d943\" xlink:actuate=\"onRequest\" xlink:href=\"psysml:ffb2e2dc-9c37-4787-be7c-ae8a88a6d943\" xlink:show=\"new\" xlink:title=\"psysml:ffb2e2dc-9c37-4787-be7c-ae8a88a6d943\" xlink:type=\"simple\"><polygon fill=\"#FFFFFF\" filter=\"url(#f8yq3i85pa28z)\" points=\"16,6,91,6,98,28.2969,245,28.2969,245,726,16,726,16,6\" style=\"stroke: #000000; stroke-width: 1.5;\"/><line style=\"stroke: #000000; stroke-width: 1.5;\" x1=\"16\" x2=\"98\" y1=\"28.2969\" y2=\"28.2969\"/><text fill=\"#000000\" font-family=\"sans-serif\" font-size=\"14\" font-weight=\"bold\" lengthAdjust=\"spacingAndGlyphs\" textLength=\"69\" x=\"20\" y=\"20.9951\">ItemTest</text></a><!--MD5=[b4997ac47864f28c2f74865a473b2911]\n",
       "class E2--><a href=\"psysml:cf4d7795-98ee-4d9f-9cbf-a98072608f6d\" target=\"_top\" title=\"psysml:cf4d7795-98ee-4d9f-9cbf-a98072608f6d\" xlink:actuate=\"onRequest\" xlink:href=\"psysml:cf4d7795-98ee-4d9f-9cbf-a98072608f6d\" xlink:show=\"new\" xlink:title=\"psysml:cf4d7795-98ee-4d9f-9cbf-a98072608f6d\" xlink:type=\"simple\"><rect fill=\"#FEFECE\" filter=\"url(#f8yq3i85pa28z)\" height=\"45.9375\" id=\"E2\" rx=\"10\" ry=\"10\" style=\"stroke: #A80036; stroke-width: 1.5;\" width=\"69\" x=\"159.5\" y=\"62\"/><ellipse cx=\"174.5\" cy=\"80.9688\" fill=\"#0000FF\" rx=\"11\" ry=\"11\" style=\"stroke: #A80036; stroke-width: 1.0;\"/><path d=\"M175.3438,87.7188 L172.8906,87.7188 L172.8906,77.4688 L169.75,77.4688 L169.75,75.3281 L178.4844,75.3281 L178.4844,77.4688 L175.3438,77.4688 L175.3438,87.7188 Z \"/><text fill=\"#000000\" font-family=\"sans-serif\" font-size=\"12\" font-style=\"italic\" lengthAdjust=\"spacingAndGlyphs\" textLength=\"41\" x=\"186.5\" y=\"78.1387\">«item»</text><text fill=\"#000000\" font-family=\"sans-serif\" font-size=\"12\" lengthAdjust=\"spacingAndGlyphs\" textLength=\"20\" x=\"197\" y=\"92.1074\">f: A</text><line style=\"stroke: #A80036; stroke-width: 1.5;\" x1=\"160.5\" x2=\"227.5\" y1=\"99.9375\" y2=\"99.9375\"/></a><!--MD5=[09b614a08d8cba4a07c9adeb5e0fee81]\n",
       "class E3--><a href=\"psysml:be14fc81-3f83-42fd-a525-71826c91787f\" target=\"_top\" title=\"psysml:be14fc81-3f83-42fd-a525-71826c91787f\" xlink:actuate=\"onRequest\" xlink:href=\"psysml:be14fc81-3f83-42fd-a525-71826c91787f\" xlink:show=\"new\" xlink:title=\"psysml:be14fc81-3f83-42fd-a525-71826c91787f\" xlink:type=\"simple\"><rect fill=\"#FEFECE\" filter=\"url(#f8yq3i85pa28z)\" height=\"75.5469\" id=\"E3\" style=\"stroke: #A80036; stroke-width: 1.5;\" width=\"93\" x=\"136.5\" y=\"190\"/><ellipse cx=\"151.5\" cy=\"208.9688\" fill=\"#0000FF\" rx=\"11\" ry=\"11\" style=\"stroke: #A80036; stroke-width: 1.0;\"/><path d=\"M152.3438,215.7188 L149.8906,215.7188 L149.8906,205.4688 L146.75,205.4688 L146.75,203.3281 L155.4844,203.3281 L155.4844,205.4688 L152.3438,205.4688 L152.3438,215.7188 Z \"/><text fill=\"#000000\" font-family=\"sans-serif\" font-size=\"12\" font-style=\"italic\" lengthAdjust=\"spacingAndGlyphs\" textLength=\"65\" x=\"163.5\" y=\"206.1387\">«item def»</text><text fill=\"#000000\" font-family=\"sans-serif\" font-size=\"12\" lengthAdjust=\"spacingAndGlyphs\" textLength=\"8\" x=\"192\" y=\"220.1074\">A</text><line style=\"stroke: #A80036; stroke-width: 1.5;\" x1=\"137.5\" x2=\"228.5\" y1=\"227.9375\" y2=\"227.9375\"/><text fill=\"#000000\" font-family=\"sans-serif\" font-size=\"11\" lengthAdjust=\"spacingAndGlyphs\" textLength=\"23\" x=\"142.5\" y=\"258.9526\">b: B</text><line style=\"stroke: #A80036; stroke-width: 1.0;\" x1=\"137.5\" x2=\"167\" y1=\"242.3398\" y2=\"242.3398\"/><text fill=\"#000000\" font-family=\"sans-serif\" font-size=\"11\" lengthAdjust=\"spacingAndGlyphs\" textLength=\"32\" x=\"167\" y=\"245.6479\">items</text><line style=\"stroke: #A80036; stroke-width: 1.0;\" x1=\"199\" x2=\"228.5\" y1=\"242.3398\" y2=\"242.3398\"/></a><!--MD5=[270fce915f116d4de14055a7c1d9a0f3]\n",
       "class E5--><a href=\"psysml:77af57f1-340c-421d-9a30-1a49108711b3\" target=\"_top\" title=\"psysml:77af57f1-340c-421d-9a30-1a49108711b3\" xlink:actuate=\"onRequest\" xlink:href=\"psysml:77af57f1-340c-421d-9a30-1a49108711b3\" xlink:show=\"new\" xlink:title=\"psysml:77af57f1-340c-421d-9a30-1a49108711b3\" xlink:type=\"simple\"><rect fill=\"#FEFECE\" filter=\"url(#f8yq3i85pa28z)\" height=\"45.9375\" id=\"E5\" rx=\"10\" ry=\"10\" style=\"stroke: #A80036; stroke-width: 1.5;\" width=\"68\" x=\"45\" y=\"327\"/><ellipse cx=\"60\" cy=\"345.9688\" fill=\"#0000FF\" rx=\"11\" ry=\"11\" style=\"stroke: #A80036; stroke-width: 1.0;\"/><path d=\"M60.8438,352.7188 L58.3906,352.7188 L58.3906,342.4688 L55.25,342.4688 L55.25,340.3281 L63.9844,340.3281 L63.9844,342.4688 L60.8438,342.4688 L60.8438,352.7188 Z \"/><text fill=\"#000000\" font-family=\"sans-serif\" font-size=\"12\" font-style=\"italic\" lengthAdjust=\"spacingAndGlyphs\" textLength=\"40\" x=\"72\" y=\"343.1387\">«part»</text><text fill=\"#000000\" font-family=\"sans-serif\" font-size=\"12\" lengthAdjust=\"spacingAndGlyphs\" textLength=\"23\" x=\"80.5\" y=\"357.1074\">c: C</text><line style=\"stroke: #A80036; stroke-width: 1.5;\" x1=\"46\" x2=\"112\" y1=\"364.9375\" y2=\"364.9375\"/></a><!--MD5=[60a26617385b1d2d0262a64233df1f8d]\n",
       "class E6--><a href=\"psysml:41f55b44-de87-42d8-a9cd-035ede31bd10\" target=\"_top\" title=\"psysml:41f55b44-de87-42d8-a9cd-035ede31bd10\" xlink:actuate=\"onRequest\" xlink:href=\"psysml:41f55b44-de87-42d8-a9cd-035ede31bd10\" xlink:show=\"new\" xlink:title=\"psysml:41f55b44-de87-42d8-a9cd-035ede31bd10\" xlink:type=\"simple\"><rect fill=\"#FEFECE\" filter=\"url(#f8yq3i85pa28z)\" height=\"45.9375\" id=\"E6\" style=\"stroke: #A80036; stroke-width: 1.5;\" width=\"93\" x=\"98.5\" y=\"557\"/><ellipse cx=\"113.5\" cy=\"575.9688\" fill=\"#0000FF\" rx=\"11\" ry=\"11\" style=\"stroke: #A80036; stroke-width: 1.0;\"/><path d=\"M114.3438,582.7188 L111.8906,582.7188 L111.8906,572.4688 L108.75,572.4688 L108.75,570.3281 L117.4844,570.3281 L117.4844,572.4688 L114.3438,572.4688 L114.3438,582.7188 Z \"/><text fill=\"#000000\" font-family=\"sans-serif\" font-size=\"12\" font-style=\"italic\" lengthAdjust=\"spacingAndGlyphs\" textLength=\"65\" x=\"125.5\" y=\"573.1387\">«item def»</text><text fill=\"#000000\" font-family=\"sans-serif\" font-size=\"12\" lengthAdjust=\"spacingAndGlyphs\" textLength=\"8\" x=\"154\" y=\"587.1074\">B</text><line style=\"stroke: #A80036; stroke-width: 1.5;\" x1=\"99.5\" x2=\"190.5\" y1=\"594.9375\" y2=\"594.9375\"/></a><!--MD5=[2156ba9850f5573cc1fc38a6a4b2f02b]\n",
       "class E7--><a href=\"psysml:4ca48e5a-78fa-40b6-ad88-229f08c03677\" target=\"_top\" title=\"psysml:4ca48e5a-78fa-40b6-ad88-229f08c03677\" xlink:actuate=\"onRequest\" xlink:href=\"psysml:4ca48e5a-78fa-40b6-ad88-229f08c03677\" xlink:show=\"new\" xlink:title=\"psysml:4ca48e5a-78fa-40b6-ad88-229f08c03677\" xlink:type=\"simple\"><rect fill=\"#FEFECE\" filter=\"url(#f8yq3i85pa28z)\" height=\"45.9375\" id=\"E7\" rx=\"10\" ry=\"10\" style=\"stroke: #A80036; stroke-width: 1.5;\" width=\"68\" x=\"136\" y=\"664\"/><ellipse cx=\"151\" cy=\"682.9688\" fill=\"#0000FF\" rx=\"11\" ry=\"11\" style=\"stroke: #A80036; stroke-width: 1.0;\"/><path d=\"M151.8438,689.7188 L149.3906,689.7188 L149.3906,679.4688 L146.25,679.4688 L146.25,677.3281 L154.9844,677.3281 L154.9844,679.4688 L151.8438,679.4688 L151.8438,689.7188 Z \"/><text fill=\"#000000\" font-family=\"sans-serif\" font-size=\"12\" font-style=\"italic\" lengthAdjust=\"spacingAndGlyphs\" textLength=\"40\" x=\"163\" y=\"680.1387\">«part»</text><text fill=\"#000000\" font-family=\"sans-serif\" font-size=\"12\" lengthAdjust=\"spacingAndGlyphs\" textLength=\"24\" x=\"171\" y=\"694.1074\">a: A</text><line style=\"stroke: #A80036; stroke-width: 1.5;\" x1=\"137\" x2=\"203\" y1=\"701.9375\" y2=\"701.9375\"/></a><!--MD5=[b9389687b975829384b498ac4b7476b2]\n",
       "class E8--><a href=\"psysml:e612b3f8-fad7-4b05-bdfc-52877d32f7f2\" target=\"_top\" title=\"psysml:e612b3f8-fad7-4b05-bdfc-52877d32f7f2\" xlink:actuate=\"onRequest\" xlink:href=\"psysml:e612b3f8-fad7-4b05-bdfc-52877d32f7f2\" xlink:show=\"new\" xlink:title=\"psysml:e612b3f8-fad7-4b05-bdfc-52877d32f7f2\" xlink:type=\"simple\"><rect fill=\"#FEFECE\" filter=\"url(#f8yq3i85pa28z)\" height=\"45.9375\" id=\"E8\" style=\"stroke: #A80036; stroke-width: 1.5;\" width=\"92\" x=\"99\" y=\"434\"/><ellipse cx=\"114\" cy=\"452.9688\" fill=\"#0000FF\" rx=\"11\" ry=\"11\" style=\"stroke: #A80036; stroke-width: 1.0;\"/><path d=\"M114.8438,459.7188 L112.3906,459.7188 L112.3906,449.4688 L109.25,449.4688 L109.25,447.3281 L117.9844,447.3281 L117.9844,449.4688 L114.8438,449.4688 L114.8438,459.7188 Z \"/><text fill=\"#000000\" font-family=\"sans-serif\" font-size=\"12\" font-style=\"italic\" lengthAdjust=\"spacingAndGlyphs\" textLength=\"64\" x=\"126\" y=\"450.1387\">«part def»</text><text fill=\"#000000\" font-family=\"sans-serif\" font-size=\"12\" lengthAdjust=\"spacingAndGlyphs\" textLength=\"8\" x=\"154\" y=\"464.1074\">C</text><line style=\"stroke: #A80036; stroke-width: 1.5;\" x1=\"100\" x2=\"190\" y1=\"471.9375\" y2=\"471.9375\"/></a><!--MD5=[fd4143e9d270a159db93a4ea2a975926]\n",
       "class E9--><a href=\"psysml:b51b1cf2-e677-402d-bf05-bb2fae798694\" target=\"_top\" title=\"psysml:b51b1cf2-e677-402d-bf05-bb2fae798694\" xlink:actuate=\"onRequest\" xlink:href=\"psysml:b51b1cf2-e677-402d-bf05-bb2fae798694\" xlink:show=\"new\" xlink:title=\"psysml:b51b1cf2-e677-402d-bf05-bb2fae798694\" xlink:type=\"simple\"><rect fill=\"#FEFECE\" filter=\"url(#f8yq3i85pa28z)\" height=\"88.3516\" id=\"E9\" style=\"stroke: #A80036; stroke-width: 1.5;\" width=\"92\" x=\"32\" y=\"41\"/><ellipse cx=\"47\" cy=\"59.9688\" fill=\"#0000FF\" rx=\"11\" ry=\"11\" style=\"stroke: #A80036; stroke-width: 1.0;\"/><path d=\"M47.8438,66.7188 L45.3906,66.7188 L45.3906,56.4688 L42.25,56.4688 L42.25,54.3281 L50.9844,54.3281 L50.9844,56.4688 L47.8438,56.4688 L47.8438,66.7188 Z \"/><text fill=\"#000000\" font-family=\"sans-serif\" font-size=\"12\" font-style=\"italic\" lengthAdjust=\"spacingAndGlyphs\" textLength=\"64\" x=\"59\" y=\"57.1387\">«port def»</text><text fill=\"#000000\" font-family=\"sans-serif\" font-size=\"12\" lengthAdjust=\"spacingAndGlyphs\" textLength=\"8\" x=\"87\" y=\"71.1074\">P</text><line style=\"stroke: #A80036; stroke-width: 1.5;\" x1=\"33\" x2=\"123\" y1=\"78.9375\" y2=\"78.9375\"/><text fill=\"#000000\" font-family=\"sans-serif\" font-size=\"11\" lengthAdjust=\"spacingAndGlyphs\" textLength=\"29\" x=\"38\" y=\"109.9526\">a1: A</text><text fill=\"#000000\" font-family=\"sans-serif\" font-size=\"11\" lengthAdjust=\"spacingAndGlyphs\" textLength=\"29\" x=\"38\" y=\"122.7573\">a2: A</text><line style=\"stroke: #A80036; stroke-width: 1.0;\" x1=\"33\" x2=\"62\" y1=\"93.3398\" y2=\"93.3398\"/><text fill=\"#000000\" font-family=\"sans-serif\" font-size=\"11\" lengthAdjust=\"spacingAndGlyphs\" textLength=\"32\" x=\"62\" y=\"96.6479\">items</text><line style=\"stroke: #A80036; stroke-width: 1.0;\" x1=\"94\" x2=\"123\" y1=\"93.3398\" y2=\"93.3398\"/></a><!--MD5=[2720a5a1f2c3fca2055b230370638851]\n",
       "link E2 to E3--><a href=\"psysml:5c778f2f-9d99-44f7-9cbe-495e6850b493\" target=\"_top\" title=\"psysml:5c778f2f-9d99-44f7-9cbe-495e6850b493\" xlink:actuate=\"onRequest\" xlink:href=\"psysml:5c778f2f-9d99-44f7-9cbe-495e6850b493\" xlink:show=\"new\" xlink:title=\"psysml:5c778f2f-9d99-44f7-9cbe-495e6850b493\" xlink:type=\"simple\"><path d=\"M192.28,108.03 C190.99,124.58 189.16,148.04 187.47,169.76 \" fill=\"none\" id=\"E2-&gt;E3\" style=\"stroke: #A80036; stroke-width: 1.0;\"/><polygon fill=\"#FFFFFF\" points=\"185.9,189.77,180.3864,170.2867,194.3447,171.3665,185.9,189.77\" style=\"stroke: #A80036; stroke-width: 1.0;\"/><ellipse cx=\"182.8201\" cy=\"164.7579\" fill=\"#A80036\" rx=\"2\" ry=\"2\" style=\"stroke: #A80036; stroke-width: 1.0;\"/><ellipse cx=\"192.7903\" cy=\"165.5293\" fill=\"#A80036\" rx=\"2\" ry=\"2\" style=\"stroke: #A80036; stroke-width: 1.0;\"/></a><!--MD5=[191cde3d490a3f6d7bb551fe3ddca469]\n",
       "reverse link E3 to E5--><a href=\"psysml:77af57f1-340c-421d-9a30-1a49108711b3\" target=\"_top\" title=\"psysml:77af57f1-340c-421d-9a30-1a49108711b3\" xlink:actuate=\"onRequest\" xlink:href=\"psysml:77af57f1-340c-421d-9a30-1a49108711b3\" xlink:show=\"new\" xlink:title=\"psysml:77af57f1-340c-421d-9a30-1a49108711b3\" xlink:type=\"simple\"><path d=\"M141.98,276.33 C126.91,293.72 110.56,312.59 98.29,326.75 \" fill=\"none\" id=\"E3&lt;-E5\" style=\"stroke: #A80036; stroke-width: 1.0;\"/><polygon fill=\"#FFFFFF\" points=\"150.66,266.31,143.7081,268.226,142.8028,275.38,149.7548,273.4641,150.66,266.31\" style=\"stroke: #A80036; stroke-width: 1.0;\"/></a><!--MD5=[14ccda38c055a5c0da953d572bc50960]\n",
       "link E7 to E3--><a href=\"psysml:8bb447da-4a21-4000-9a04-f9f9c4ed48f1\" target=\"_top\" title=\"psysml:8bb447da-4a21-4000-9a04-f9f9c4ed48f1\" xlink:actuate=\"onRequest\" xlink:href=\"psysml:8bb447da-4a21-4000-9a04-f9f9c4ed48f1\" xlink:show=\"new\" xlink:title=\"psysml:8bb447da-4a21-4000-9a04-f9f9c4ed48f1\" xlink:type=\"simple\"><path d=\"M190.94,663.77 C207.55,643.74 228,612.65 228,581 C228,349 228,349 228,349 C228,327.03 221.3,304.15 213.08,284.33 \" fill=\"none\" id=\"E7-&gt;E3\" style=\"stroke: #A80036; stroke-width: 1.0;\"/><polygon fill=\"#FFFFFF\" points=\"204.71,266.04,218.9763,280.4092,206.2439,286.2303,204.71,266.04\" style=\"stroke: #A80036; stroke-width: 1.0;\"/><ellipse cx=\"219.5274\" cy=\"286.4247\" fill=\"#A80036\" rx=\"2\" ry=\"2\" style=\"stroke: #A80036; stroke-width: 1.0;\"/><ellipse cx=\"210.4328\" cy=\"290.5826\" fill=\"#A80036\" rx=\"2\" ry=\"2\" style=\"stroke: #A80036; stroke-width: 1.0;\"/></a><!--MD5=[3f50a3473f1dfb74d3f76443e03635af]\n",
       "reverse link E6 to E7--><a href=\"psysml:4ca48e5a-78fa-40b6-ad88-229f08c03677\" target=\"_top\" title=\"psysml:4ca48e5a-78fa-40b6-ad88-229f08c03677\" xlink:actuate=\"onRequest\" xlink:href=\"psysml:4ca48e5a-78fa-40b6-ad88-229f08c03677\" xlink:show=\"new\" xlink:title=\"psysml:4ca48e5a-78fa-40b6-ad88-229f08c03677\" xlink:type=\"simple\"><path d=\"M153.34,616.05 C157.08,631.76 161.39,649.82 164.68,663.66 \" fill=\"none\" id=\"E6&lt;-E7\" style=\"stroke: #A80036; stroke-width: 1.0;\"/><polygon fill=\"#A80036\" points=\"150.24,603.01,147.7406,609.7741,153.023,614.6828,155.5224,607.9187,150.24,603.01\" style=\"stroke: #A80036; stroke-width: 1.0;\"/></a><!--MD5=[dfaffb906826c3e5aca635516100ff21]\n",
       "link E5 to E8--><a href=\"psysml:6ff88c17-8c2d-42a4-af32-a2455d6f0acf\" target=\"_top\" title=\"psysml:6ff88c17-8c2d-42a4-af32-a2455d6f0acf\" xlink:actuate=\"onRequest\" xlink:href=\"psysml:6ff88c17-8c2d-42a4-af32-a2455d6f0acf\" xlink:show=\"new\" xlink:title=\"psysml:6ff88c17-8c2d-42a4-af32-a2455d6f0acf\" xlink:type=\"simple\"><path d=\"M92.84,373.01 C100.79,385.67 111.02,401.94 120.31,416.72 \" fill=\"none\" id=\"E5-&gt;E8\" style=\"stroke: #A80036; stroke-width: 1.0;\"/><polygon fill=\"#FFFFFF\" points=\"130.96,433.66,114.9212,421.3005,126.7735,413.8491,130.96,433.66\" style=\"stroke: #A80036; stroke-width: 1.0;\"/><ellipse cx=\"113.5806\" cy=\"415.4104\" fill=\"#A80036\" rx=\"2\" ry=\"2\" style=\"stroke: #A80036; stroke-width: 1.0;\"/><ellipse cx=\"122.0465\" cy=\"410.088\" fill=\"#A80036\" rx=\"2\" ry=\"2\" style=\"stroke: #A80036; stroke-width: 1.0;\"/></a><!--MD5=[03c8294790d3c57651a1993cecff665f]\n",
       "reverse link E8 to E3--><a href=\"psysml:83dfbdb9-73af-4dff-b5ad-52a21a738594\" target=\"_top\" title=\"psysml:83dfbdb9-73af-4dff-b5ad-52a21a738594\" xlink:actuate=\"onRequest\" xlink:href=\"psysml:83dfbdb9-73af-4dff-b5ad-52a21a738594\" xlink:show=\"new\" xlink:title=\"psysml:83dfbdb9-73af-4dff-b5ad-52a21a738594\" xlink:type=\"simple\"><path d=\"M150.89,420.81 C157.91,378.86 169.6,309.06 176.77,266.23 \" fill=\"none\" id=\"E8&lt;-E3\" style=\"stroke: #A80036; stroke-width: 1.0;\"/><polygon fill=\"#FFFFFF\" points=\"148.7,433.89,153.6396,428.6364,150.6899,422.0561,145.7503,427.3098,148.7,433.89\" style=\"stroke: #A80036; stroke-width: 1.0;\"/><text fill=\"#000000\" font-family=\"sans-serif\" font-size=\"13\" lengthAdjust=\"spacingAndGlyphs\" textLength=\"7\" x=\"167\" y=\"354.5669\">y</text></a><!--MD5=[0d75d2178373a6a4568e5dc728f58aef]\n",
       "reverse link E8 to E6--><a href=\"psysml:83dfbdb9-73af-4dff-b5ad-52a21a738594\" target=\"_top\" title=\"psysml:83dfbdb9-73af-4dff-b5ad-52a21a738594\" xlink:actuate=\"onRequest\" xlink:href=\"psysml:83dfbdb9-73af-4dff-b5ad-52a21a738594\" xlink:show=\"new\" xlink:title=\"psysml:83dfbdb9-73af-4dff-b5ad-52a21a738594\" xlink:type=\"simple\"><path d=\"M145,493.22 C145,513.81 145,539.16 145,556.95 \" fill=\"none\" id=\"E8&lt;-E6\" style=\"stroke: #A80036; stroke-width: 1.0;\"/><polygon fill=\"#FFFFFF\" points=\"145,480.19,141,486.19,145,492.19,149,486.19,145,480.19\" style=\"stroke: #A80036; stroke-width: 1.0;\"/><text fill=\"#000000\" font-family=\"sans-serif\" font-size=\"13\" lengthAdjust=\"spacingAndGlyphs\" textLength=\"7\" x=\"146\" y=\"523.0669\">y</text></a><!--MD5=[521bc38bf983f2e802cdbf025189936d]\n",
       "@startuml\r\n",
       " \r\n",
       "package \"ItemTest\" as E1  [[psysml:ffb2e2dc-9c37-4787-be7c-ae8a88a6d943 ]]  {\r\n",
       "comp usage \"f: A\" as E2  <<(T,blue)item>> [[psysml:cf4d7795-98ee-4d9f-9cbf-a98072608f6d ]] {\r\n",
       "}\r\n",
       "comp def \"A\" as E3  <<(T,blue)item def>> [[psysml:be14fc81-3f83-42fd-a525-71826c91787f ]] {\r\n",
       "- - items - -\r\n",
       "b: B\r\n",
       "}\r\n",
       "comp usage \"c: C\" as E5  <<(T,blue)part>> [[psysml:77af57f1-340c-421d-9a30-1a49108711b3 ]] {\r\n",
       "}\r\n",
       "comp def \"B\" as E6  <<(T,blue)item def>> [[psysml:41f55b44-de87-42d8-a9cd-035ede31bd10 ]] {\r\n",
       "}\r\n",
       "comp usage \"a: A\" as E7  <<(T,blue)part>> [[psysml:4ca48e5a-78fa-40b6-ad88-229f08c03677 ]] {\r\n",
       "}\r\n",
       "comp def \"C\" as E8  <<(T,blue)part def>> [[psysml:e612b3f8-fad7-4b05-bdfc-52877d32f7f2 ]] {\r\n",
       "}\r\n",
       "comp def \"P\" as E9  <<(T,blue)port def>> [[psysml:b51b1cf2-e677-402d-bf05-bb2fae798694 ]] {\r\n",
       "- - items - -\r\n",
       "a1: A\r\n",
       "a2: A\r\n",
       "}\r\n",
       "E2 - -:|> E3 [[psysml:5c778f2f-9d99-44f7-9cbe-495e6850b493 ]] \r\n",
       "E3 o- - E5 [[psysml:77af57f1-340c-421d-9a30-1a49108711b3 ]] \r\n",
       "E7 - -:|> E3 [[psysml:8bb447da-4a21-4000-9a04-f9f9c4ed48f1 ]] \r\n",
       "E6 *- - E7 [[psysml:4ca48e5a-78fa-40b6-ad88-229f08c03677 ]] \r\n",
       "E5 - -:|> E8 [[psysml:6ff88c17-8c2d-42a4-af32-a2455d6f0acf ]] \r\n",
       "E8 o- - E3 [[psysml:83dfbdb9-73af-4dff-b5ad-52a21a738594 ]] : y\r\n",
       "E8 o- - E6 [[psysml:83dfbdb9-73af-4dff-b5ad-52a21a738594 ]] : y\r\n",
       "}\r\n",
       "@enduml\r\n",
       "\n",
       "PlantUML version 1.2020.13(Sat Jun 13 12:26:38 UTC 2020)\n",
       "(EPL source distribution)\n",
       "Java Runtime: OpenJDK Runtime Environment\n",
       "JVM: OpenJDK 64-Bit Server VM\n",
       "Default Encoding: UTF-8\n",
       "Language: en\n",
       "Country: null\n",
       "--></g></svg>"
      ]
     },
     "execution_count": 7,
     "metadata": {},
     "output_type": "execute_result"
    }
   ],
   "source": [
    "%viz --style=\"COMPTREE\" --view=\"Sequence\" \"ItemTest\""
   ]
  },
  {
   "cell_type": "code",
   "execution_count": 8,
   "id": "equal-israel",
   "metadata": {
    "execution": {
     "iopub.execute_input": "2021-03-25T15:10:18.249301Z",
     "iopub.status.busy": "2021-03-25T15:10:18.248297Z",
     "iopub.status.idle": "2021-03-25T15:10:18.542222Z",
     "shell.execute_reply": "2021-03-25T15:10:18.539663Z"
    }
   },
   "outputs": [
    {
     "data": {
      "image/svg+xml": [
       "<?xml version=\"1.0\" encoding=\"UTF-8\" standalone=\"no\"?><svg xmlns=\"http://www.w3.org/2000/svg\" xmlns:xlink=\"http://www.w3.org/1999/xlink\" contentScriptType=\"application/ecmascript\" contentStyleType=\"text/css\" height=\"738px\" preserveAspectRatio=\"none\" style=\"width:267px;height:738px;\" version=\"1.1\" viewBox=\"0 0 267 738\" width=\"267px\" zoomAndPan=\"magnify\"><defs><filter height=\"300%\" id=\"f8yq3i85pa28z\" width=\"300%\" x=\"-1\" y=\"-1\"><feGaussianBlur result=\"blurOut\" stdDeviation=\"2.0\"/><feColorMatrix in=\"blurOut\" result=\"blurOut2\" type=\"matrix\" values=\"0 0 0 0 0 0 0 0 0 0 0 0 0 0 0 0 0 0 .4 0\"/><feOffset dx=\"4.0\" dy=\"4.0\" in=\"blurOut2\" result=\"blurOut3\"/><feBlend in=\"SourceGraphic\" in2=\"blurOut3\" mode=\"normal\"/></filter></defs><g><!--MD5=[fbc87193dbaf4d95561dea2c320d4a47]\n",
       "cluster E1--><a href=\"psysml:ffb2e2dc-9c37-4787-be7c-ae8a88a6d943\" target=\"_top\" title=\"psysml:ffb2e2dc-9c37-4787-be7c-ae8a88a6d943\" xlink:actuate=\"onRequest\" xlink:href=\"psysml:ffb2e2dc-9c37-4787-be7c-ae8a88a6d943\" xlink:show=\"new\" xlink:title=\"psysml:ffb2e2dc-9c37-4787-be7c-ae8a88a6d943\" xlink:type=\"simple\"><polygon fill=\"#FFFFFF\" filter=\"url(#f8yq3i85pa28z)\" points=\"16,6,91,6,98,28.2969,245,28.2969,245,726,16,726,16,6\" style=\"stroke: #000000; stroke-width: 1.5;\"/><line style=\"stroke: #000000; stroke-width: 1.5;\" x1=\"16\" x2=\"98\" y1=\"28.2969\" y2=\"28.2969\"/><text fill=\"#000000\" font-family=\"sans-serif\" font-size=\"14\" font-weight=\"bold\" lengthAdjust=\"spacingAndGlyphs\" textLength=\"69\" x=\"20\" y=\"20.9951\">ItemTest</text></a><!--MD5=[b4997ac47864f28c2f74865a473b2911]\n",
       "class E2--><a href=\"psysml:cf4d7795-98ee-4d9f-9cbf-a98072608f6d\" target=\"_top\" title=\"psysml:cf4d7795-98ee-4d9f-9cbf-a98072608f6d\" xlink:actuate=\"onRequest\" xlink:href=\"psysml:cf4d7795-98ee-4d9f-9cbf-a98072608f6d\" xlink:show=\"new\" xlink:title=\"psysml:cf4d7795-98ee-4d9f-9cbf-a98072608f6d\" xlink:type=\"simple\"><rect fill=\"#FEFECE\" filter=\"url(#f8yq3i85pa28z)\" height=\"45.9375\" id=\"E2\" rx=\"10\" ry=\"10\" style=\"stroke: #A80036; stroke-width: 1.5;\" width=\"69\" x=\"159.5\" y=\"62\"/><ellipse cx=\"174.5\" cy=\"80.9688\" fill=\"#0000FF\" rx=\"11\" ry=\"11\" style=\"stroke: #A80036; stroke-width: 1.0;\"/><path d=\"M175.3438,87.7188 L172.8906,87.7188 L172.8906,77.4688 L169.75,77.4688 L169.75,75.3281 L178.4844,75.3281 L178.4844,77.4688 L175.3438,77.4688 L175.3438,87.7188 Z \"/><text fill=\"#000000\" font-family=\"sans-serif\" font-size=\"12\" font-style=\"italic\" lengthAdjust=\"spacingAndGlyphs\" textLength=\"41\" x=\"186.5\" y=\"78.1387\">«item»</text><text fill=\"#000000\" font-family=\"sans-serif\" font-size=\"12\" lengthAdjust=\"spacingAndGlyphs\" textLength=\"20\" x=\"197\" y=\"92.1074\">f: A</text><line style=\"stroke: #A80036; stroke-width: 1.5;\" x1=\"160.5\" x2=\"227.5\" y1=\"99.9375\" y2=\"99.9375\"/></a><!--MD5=[09b614a08d8cba4a07c9adeb5e0fee81]\n",
       "class E3--><a href=\"psysml:be14fc81-3f83-42fd-a525-71826c91787f\" target=\"_top\" title=\"psysml:be14fc81-3f83-42fd-a525-71826c91787f\" xlink:actuate=\"onRequest\" xlink:href=\"psysml:be14fc81-3f83-42fd-a525-71826c91787f\" xlink:show=\"new\" xlink:title=\"psysml:be14fc81-3f83-42fd-a525-71826c91787f\" xlink:type=\"simple\"><rect fill=\"#FEFECE\" filter=\"url(#f8yq3i85pa28z)\" height=\"75.5469\" id=\"E3\" style=\"stroke: #A80036; stroke-width: 1.5;\" width=\"93\" x=\"136.5\" y=\"190\"/><ellipse cx=\"151.5\" cy=\"208.9688\" fill=\"#0000FF\" rx=\"11\" ry=\"11\" style=\"stroke: #A80036; stroke-width: 1.0;\"/><path d=\"M152.3438,215.7188 L149.8906,215.7188 L149.8906,205.4688 L146.75,205.4688 L146.75,203.3281 L155.4844,203.3281 L155.4844,205.4688 L152.3438,205.4688 L152.3438,215.7188 Z \"/><text fill=\"#000000\" font-family=\"sans-serif\" font-size=\"12\" font-style=\"italic\" lengthAdjust=\"spacingAndGlyphs\" textLength=\"65\" x=\"163.5\" y=\"206.1387\">«item def»</text><text fill=\"#000000\" font-family=\"sans-serif\" font-size=\"12\" lengthAdjust=\"spacingAndGlyphs\" textLength=\"8\" x=\"192\" y=\"220.1074\">A</text><line style=\"stroke: #A80036; stroke-width: 1.5;\" x1=\"137.5\" x2=\"228.5\" y1=\"227.9375\" y2=\"227.9375\"/><text fill=\"#000000\" font-family=\"sans-serif\" font-size=\"11\" lengthAdjust=\"spacingAndGlyphs\" textLength=\"23\" x=\"142.5\" y=\"258.9526\">b: B</text><line style=\"stroke: #A80036; stroke-width: 1.0;\" x1=\"137.5\" x2=\"167\" y1=\"242.3398\" y2=\"242.3398\"/><text fill=\"#000000\" font-family=\"sans-serif\" font-size=\"11\" lengthAdjust=\"spacingAndGlyphs\" textLength=\"32\" x=\"167\" y=\"245.6479\">items</text><line style=\"stroke: #A80036; stroke-width: 1.0;\" x1=\"199\" x2=\"228.5\" y1=\"242.3398\" y2=\"242.3398\"/></a><!--MD5=[270fce915f116d4de14055a7c1d9a0f3]\n",
       "class E5--><a href=\"psysml:77af57f1-340c-421d-9a30-1a49108711b3\" target=\"_top\" title=\"psysml:77af57f1-340c-421d-9a30-1a49108711b3\" xlink:actuate=\"onRequest\" xlink:href=\"psysml:77af57f1-340c-421d-9a30-1a49108711b3\" xlink:show=\"new\" xlink:title=\"psysml:77af57f1-340c-421d-9a30-1a49108711b3\" xlink:type=\"simple\"><rect fill=\"#FEFECE\" filter=\"url(#f8yq3i85pa28z)\" height=\"45.9375\" id=\"E5\" rx=\"10\" ry=\"10\" style=\"stroke: #A80036; stroke-width: 1.5;\" width=\"68\" x=\"45\" y=\"327\"/><ellipse cx=\"60\" cy=\"345.9688\" fill=\"#0000FF\" rx=\"11\" ry=\"11\" style=\"stroke: #A80036; stroke-width: 1.0;\"/><path d=\"M60.8438,352.7188 L58.3906,352.7188 L58.3906,342.4688 L55.25,342.4688 L55.25,340.3281 L63.9844,340.3281 L63.9844,342.4688 L60.8438,342.4688 L60.8438,352.7188 Z \"/><text fill=\"#000000\" font-family=\"sans-serif\" font-size=\"12\" font-style=\"italic\" lengthAdjust=\"spacingAndGlyphs\" textLength=\"40\" x=\"72\" y=\"343.1387\">«part»</text><text fill=\"#000000\" font-family=\"sans-serif\" font-size=\"12\" lengthAdjust=\"spacingAndGlyphs\" textLength=\"23\" x=\"80.5\" y=\"357.1074\">c: C</text><line style=\"stroke: #A80036; stroke-width: 1.5;\" x1=\"46\" x2=\"112\" y1=\"364.9375\" y2=\"364.9375\"/></a><!--MD5=[60a26617385b1d2d0262a64233df1f8d]\n",
       "class E6--><a href=\"psysml:41f55b44-de87-42d8-a9cd-035ede31bd10\" target=\"_top\" title=\"psysml:41f55b44-de87-42d8-a9cd-035ede31bd10\" xlink:actuate=\"onRequest\" xlink:href=\"psysml:41f55b44-de87-42d8-a9cd-035ede31bd10\" xlink:show=\"new\" xlink:title=\"psysml:41f55b44-de87-42d8-a9cd-035ede31bd10\" xlink:type=\"simple\"><rect fill=\"#FEFECE\" filter=\"url(#f8yq3i85pa28z)\" height=\"45.9375\" id=\"E6\" style=\"stroke: #A80036; stroke-width: 1.5;\" width=\"93\" x=\"98.5\" y=\"557\"/><ellipse cx=\"113.5\" cy=\"575.9688\" fill=\"#0000FF\" rx=\"11\" ry=\"11\" style=\"stroke: #A80036; stroke-width: 1.0;\"/><path d=\"M114.3438,582.7188 L111.8906,582.7188 L111.8906,572.4688 L108.75,572.4688 L108.75,570.3281 L117.4844,570.3281 L117.4844,572.4688 L114.3438,572.4688 L114.3438,582.7188 Z \"/><text fill=\"#000000\" font-family=\"sans-serif\" font-size=\"12\" font-style=\"italic\" lengthAdjust=\"spacingAndGlyphs\" textLength=\"65\" x=\"125.5\" y=\"573.1387\">«item def»</text><text fill=\"#000000\" font-family=\"sans-serif\" font-size=\"12\" lengthAdjust=\"spacingAndGlyphs\" textLength=\"8\" x=\"154\" y=\"587.1074\">B</text><line style=\"stroke: #A80036; stroke-width: 1.5;\" x1=\"99.5\" x2=\"190.5\" y1=\"594.9375\" y2=\"594.9375\"/></a><!--MD5=[2156ba9850f5573cc1fc38a6a4b2f02b]\n",
       "class E7--><a href=\"psysml:4ca48e5a-78fa-40b6-ad88-229f08c03677\" target=\"_top\" title=\"psysml:4ca48e5a-78fa-40b6-ad88-229f08c03677\" xlink:actuate=\"onRequest\" xlink:href=\"psysml:4ca48e5a-78fa-40b6-ad88-229f08c03677\" xlink:show=\"new\" xlink:title=\"psysml:4ca48e5a-78fa-40b6-ad88-229f08c03677\" xlink:type=\"simple\"><rect fill=\"#FEFECE\" filter=\"url(#f8yq3i85pa28z)\" height=\"45.9375\" id=\"E7\" rx=\"10\" ry=\"10\" style=\"stroke: #A80036; stroke-width: 1.5;\" width=\"68\" x=\"136\" y=\"664\"/><ellipse cx=\"151\" cy=\"682.9688\" fill=\"#0000FF\" rx=\"11\" ry=\"11\" style=\"stroke: #A80036; stroke-width: 1.0;\"/><path d=\"M151.8438,689.7188 L149.3906,689.7188 L149.3906,679.4688 L146.25,679.4688 L146.25,677.3281 L154.9844,677.3281 L154.9844,679.4688 L151.8438,679.4688 L151.8438,689.7188 Z \"/><text fill=\"#000000\" font-family=\"sans-serif\" font-size=\"12\" font-style=\"italic\" lengthAdjust=\"spacingAndGlyphs\" textLength=\"40\" x=\"163\" y=\"680.1387\">«part»</text><text fill=\"#000000\" font-family=\"sans-serif\" font-size=\"12\" lengthAdjust=\"spacingAndGlyphs\" textLength=\"24\" x=\"171\" y=\"694.1074\">a: A</text><line style=\"stroke: #A80036; stroke-width: 1.5;\" x1=\"137\" x2=\"203\" y1=\"701.9375\" y2=\"701.9375\"/></a><!--MD5=[b9389687b975829384b498ac4b7476b2]\n",
       "class E8--><a href=\"psysml:e612b3f8-fad7-4b05-bdfc-52877d32f7f2\" target=\"_top\" title=\"psysml:e612b3f8-fad7-4b05-bdfc-52877d32f7f2\" xlink:actuate=\"onRequest\" xlink:href=\"psysml:e612b3f8-fad7-4b05-bdfc-52877d32f7f2\" xlink:show=\"new\" xlink:title=\"psysml:e612b3f8-fad7-4b05-bdfc-52877d32f7f2\" xlink:type=\"simple\"><rect fill=\"#FEFECE\" filter=\"url(#f8yq3i85pa28z)\" height=\"45.9375\" id=\"E8\" style=\"stroke: #A80036; stroke-width: 1.5;\" width=\"92\" x=\"99\" y=\"434\"/><ellipse cx=\"114\" cy=\"452.9688\" fill=\"#0000FF\" rx=\"11\" ry=\"11\" style=\"stroke: #A80036; stroke-width: 1.0;\"/><path d=\"M114.8438,459.7188 L112.3906,459.7188 L112.3906,449.4688 L109.25,449.4688 L109.25,447.3281 L117.9844,447.3281 L117.9844,449.4688 L114.8438,449.4688 L114.8438,459.7188 Z \"/><text fill=\"#000000\" font-family=\"sans-serif\" font-size=\"12\" font-style=\"italic\" lengthAdjust=\"spacingAndGlyphs\" textLength=\"64\" x=\"126\" y=\"450.1387\">«part def»</text><text fill=\"#000000\" font-family=\"sans-serif\" font-size=\"12\" lengthAdjust=\"spacingAndGlyphs\" textLength=\"8\" x=\"154\" y=\"464.1074\">C</text><line style=\"stroke: #A80036; stroke-width: 1.5;\" x1=\"100\" x2=\"190\" y1=\"471.9375\" y2=\"471.9375\"/></a><!--MD5=[fd4143e9d270a159db93a4ea2a975926]\n",
       "class E9--><a href=\"psysml:b51b1cf2-e677-402d-bf05-bb2fae798694\" target=\"_top\" title=\"psysml:b51b1cf2-e677-402d-bf05-bb2fae798694\" xlink:actuate=\"onRequest\" xlink:href=\"psysml:b51b1cf2-e677-402d-bf05-bb2fae798694\" xlink:show=\"new\" xlink:title=\"psysml:b51b1cf2-e677-402d-bf05-bb2fae798694\" xlink:type=\"simple\"><rect fill=\"#FEFECE\" filter=\"url(#f8yq3i85pa28z)\" height=\"88.3516\" id=\"E9\" style=\"stroke: #A80036; stroke-width: 1.5;\" width=\"92\" x=\"32\" y=\"41\"/><ellipse cx=\"47\" cy=\"59.9688\" fill=\"#0000FF\" rx=\"11\" ry=\"11\" style=\"stroke: #A80036; stroke-width: 1.0;\"/><path d=\"M47.8438,66.7188 L45.3906,66.7188 L45.3906,56.4688 L42.25,56.4688 L42.25,54.3281 L50.9844,54.3281 L50.9844,56.4688 L47.8438,56.4688 L47.8438,66.7188 Z \"/><text fill=\"#000000\" font-family=\"sans-serif\" font-size=\"12\" font-style=\"italic\" lengthAdjust=\"spacingAndGlyphs\" textLength=\"64\" x=\"59\" y=\"57.1387\">«port def»</text><text fill=\"#000000\" font-family=\"sans-serif\" font-size=\"12\" lengthAdjust=\"spacingAndGlyphs\" textLength=\"8\" x=\"87\" y=\"71.1074\">P</text><line style=\"stroke: #A80036; stroke-width: 1.5;\" x1=\"33\" x2=\"123\" y1=\"78.9375\" y2=\"78.9375\"/><text fill=\"#000000\" font-family=\"sans-serif\" font-size=\"11\" lengthAdjust=\"spacingAndGlyphs\" textLength=\"29\" x=\"38\" y=\"109.9526\">a1: A</text><text fill=\"#000000\" font-family=\"sans-serif\" font-size=\"11\" lengthAdjust=\"spacingAndGlyphs\" textLength=\"29\" x=\"38\" y=\"122.7573\">a2: A</text><line style=\"stroke: #A80036; stroke-width: 1.0;\" x1=\"33\" x2=\"62\" y1=\"93.3398\" y2=\"93.3398\"/><text fill=\"#000000\" font-family=\"sans-serif\" font-size=\"11\" lengthAdjust=\"spacingAndGlyphs\" textLength=\"32\" x=\"62\" y=\"96.6479\">items</text><line style=\"stroke: #A80036; stroke-width: 1.0;\" x1=\"94\" x2=\"123\" y1=\"93.3398\" y2=\"93.3398\"/></a><!--MD5=[2720a5a1f2c3fca2055b230370638851]\n",
       "link E2 to E3--><a href=\"psysml:5c778f2f-9d99-44f7-9cbe-495e6850b493\" target=\"_top\" title=\"psysml:5c778f2f-9d99-44f7-9cbe-495e6850b493\" xlink:actuate=\"onRequest\" xlink:href=\"psysml:5c778f2f-9d99-44f7-9cbe-495e6850b493\" xlink:show=\"new\" xlink:title=\"psysml:5c778f2f-9d99-44f7-9cbe-495e6850b493\" xlink:type=\"simple\"><path d=\"M192.28,108.03 C190.99,124.58 189.16,148.04 187.47,169.76 \" fill=\"none\" id=\"E2-&gt;E3\" style=\"stroke: #A80036; stroke-width: 1.0;\"/><polygon fill=\"#FFFFFF\" points=\"185.9,189.77,180.3864,170.2867,194.3447,171.3665,185.9,189.77\" style=\"stroke: #A80036; stroke-width: 1.0;\"/><ellipse cx=\"182.8201\" cy=\"164.7579\" fill=\"#A80036\" rx=\"2\" ry=\"2\" style=\"stroke: #A80036; stroke-width: 1.0;\"/><ellipse cx=\"192.7903\" cy=\"165.5293\" fill=\"#A80036\" rx=\"2\" ry=\"2\" style=\"stroke: #A80036; stroke-width: 1.0;\"/></a><!--MD5=[191cde3d490a3f6d7bb551fe3ddca469]\n",
       "reverse link E3 to E5--><a href=\"psysml:77af57f1-340c-421d-9a30-1a49108711b3\" target=\"_top\" title=\"psysml:77af57f1-340c-421d-9a30-1a49108711b3\" xlink:actuate=\"onRequest\" xlink:href=\"psysml:77af57f1-340c-421d-9a30-1a49108711b3\" xlink:show=\"new\" xlink:title=\"psysml:77af57f1-340c-421d-9a30-1a49108711b3\" xlink:type=\"simple\"><path d=\"M141.98,276.33 C126.91,293.72 110.56,312.59 98.29,326.75 \" fill=\"none\" id=\"E3&lt;-E5\" style=\"stroke: #A80036; stroke-width: 1.0;\"/><polygon fill=\"#FFFFFF\" points=\"150.66,266.31,143.7081,268.226,142.8028,275.38,149.7548,273.4641,150.66,266.31\" style=\"stroke: #A80036; stroke-width: 1.0;\"/></a><!--MD5=[14ccda38c055a5c0da953d572bc50960]\n",
       "link E7 to E3--><a href=\"psysml:8bb447da-4a21-4000-9a04-f9f9c4ed48f1\" target=\"_top\" title=\"psysml:8bb447da-4a21-4000-9a04-f9f9c4ed48f1\" xlink:actuate=\"onRequest\" xlink:href=\"psysml:8bb447da-4a21-4000-9a04-f9f9c4ed48f1\" xlink:show=\"new\" xlink:title=\"psysml:8bb447da-4a21-4000-9a04-f9f9c4ed48f1\" xlink:type=\"simple\"><path d=\"M190.94,663.77 C207.55,643.74 228,612.65 228,581 C228,349 228,349 228,349 C228,327.03 221.3,304.15 213.08,284.33 \" fill=\"none\" id=\"E7-&gt;E3\" style=\"stroke: #A80036; stroke-width: 1.0;\"/><polygon fill=\"#FFFFFF\" points=\"204.71,266.04,218.9763,280.4092,206.2439,286.2303,204.71,266.04\" style=\"stroke: #A80036; stroke-width: 1.0;\"/><ellipse cx=\"219.5274\" cy=\"286.4247\" fill=\"#A80036\" rx=\"2\" ry=\"2\" style=\"stroke: #A80036; stroke-width: 1.0;\"/><ellipse cx=\"210.4328\" cy=\"290.5826\" fill=\"#A80036\" rx=\"2\" ry=\"2\" style=\"stroke: #A80036; stroke-width: 1.0;\"/></a><!--MD5=[3f50a3473f1dfb74d3f76443e03635af]\n",
       "reverse link E6 to E7--><a href=\"psysml:4ca48e5a-78fa-40b6-ad88-229f08c03677\" target=\"_top\" title=\"psysml:4ca48e5a-78fa-40b6-ad88-229f08c03677\" xlink:actuate=\"onRequest\" xlink:href=\"psysml:4ca48e5a-78fa-40b6-ad88-229f08c03677\" xlink:show=\"new\" xlink:title=\"psysml:4ca48e5a-78fa-40b6-ad88-229f08c03677\" xlink:type=\"simple\"><path d=\"M153.34,616.05 C157.08,631.76 161.39,649.82 164.68,663.66 \" fill=\"none\" id=\"E6&lt;-E7\" style=\"stroke: #A80036; stroke-width: 1.0;\"/><polygon fill=\"#A80036\" points=\"150.24,603.01,147.7406,609.7741,153.023,614.6828,155.5224,607.9187,150.24,603.01\" style=\"stroke: #A80036; stroke-width: 1.0;\"/></a><!--MD5=[dfaffb906826c3e5aca635516100ff21]\n",
       "link E5 to E8--><a href=\"psysml:6ff88c17-8c2d-42a4-af32-a2455d6f0acf\" target=\"_top\" title=\"psysml:6ff88c17-8c2d-42a4-af32-a2455d6f0acf\" xlink:actuate=\"onRequest\" xlink:href=\"psysml:6ff88c17-8c2d-42a4-af32-a2455d6f0acf\" xlink:show=\"new\" xlink:title=\"psysml:6ff88c17-8c2d-42a4-af32-a2455d6f0acf\" xlink:type=\"simple\"><path d=\"M92.84,373.01 C100.79,385.67 111.02,401.94 120.31,416.72 \" fill=\"none\" id=\"E5-&gt;E8\" style=\"stroke: #A80036; stroke-width: 1.0;\"/><polygon fill=\"#FFFFFF\" points=\"130.96,433.66,114.9212,421.3005,126.7735,413.8491,130.96,433.66\" style=\"stroke: #A80036; stroke-width: 1.0;\"/><ellipse cx=\"113.5806\" cy=\"415.4104\" fill=\"#A80036\" rx=\"2\" ry=\"2\" style=\"stroke: #A80036; stroke-width: 1.0;\"/><ellipse cx=\"122.0465\" cy=\"410.088\" fill=\"#A80036\" rx=\"2\" ry=\"2\" style=\"stroke: #A80036; stroke-width: 1.0;\"/></a><!--MD5=[03c8294790d3c57651a1993cecff665f]\n",
       "reverse link E8 to E3--><a href=\"psysml:83dfbdb9-73af-4dff-b5ad-52a21a738594\" target=\"_top\" title=\"psysml:83dfbdb9-73af-4dff-b5ad-52a21a738594\" xlink:actuate=\"onRequest\" xlink:href=\"psysml:83dfbdb9-73af-4dff-b5ad-52a21a738594\" xlink:show=\"new\" xlink:title=\"psysml:83dfbdb9-73af-4dff-b5ad-52a21a738594\" xlink:type=\"simple\"><path d=\"M150.89,420.81 C157.91,378.86 169.6,309.06 176.77,266.23 \" fill=\"none\" id=\"E8&lt;-E3\" style=\"stroke: #A80036; stroke-width: 1.0;\"/><polygon fill=\"#FFFFFF\" points=\"148.7,433.89,153.6396,428.6364,150.6899,422.0561,145.7503,427.3098,148.7,433.89\" style=\"stroke: #A80036; stroke-width: 1.0;\"/><text fill=\"#000000\" font-family=\"sans-serif\" font-size=\"13\" lengthAdjust=\"spacingAndGlyphs\" textLength=\"7\" x=\"167\" y=\"354.5669\">y</text></a><!--MD5=[0d75d2178373a6a4568e5dc728f58aef]\n",
       "reverse link E8 to E6--><a href=\"psysml:83dfbdb9-73af-4dff-b5ad-52a21a738594\" target=\"_top\" title=\"psysml:83dfbdb9-73af-4dff-b5ad-52a21a738594\" xlink:actuate=\"onRequest\" xlink:href=\"psysml:83dfbdb9-73af-4dff-b5ad-52a21a738594\" xlink:show=\"new\" xlink:title=\"psysml:83dfbdb9-73af-4dff-b5ad-52a21a738594\" xlink:type=\"simple\"><path d=\"M145,493.22 C145,513.81 145,539.16 145,556.95 \" fill=\"none\" id=\"E8&lt;-E6\" style=\"stroke: #A80036; stroke-width: 1.0;\"/><polygon fill=\"#FFFFFF\" points=\"145,480.19,141,486.19,145,492.19,149,486.19,145,480.19\" style=\"stroke: #A80036; stroke-width: 1.0;\"/><text fill=\"#000000\" font-family=\"sans-serif\" font-size=\"13\" lengthAdjust=\"spacingAndGlyphs\" textLength=\"7\" x=\"146\" y=\"523.0669\">y</text></a><!--MD5=[521bc38bf983f2e802cdbf025189936d]\n",
       "@startuml\r\n",
       " \r\n",
       "package \"ItemTest\" as E1  [[psysml:ffb2e2dc-9c37-4787-be7c-ae8a88a6d943 ]]  {\r\n",
       "comp usage \"f: A\" as E2  <<(T,blue)item>> [[psysml:cf4d7795-98ee-4d9f-9cbf-a98072608f6d ]] {\r\n",
       "}\r\n",
       "comp def \"A\" as E3  <<(T,blue)item def>> [[psysml:be14fc81-3f83-42fd-a525-71826c91787f ]] {\r\n",
       "- - items - -\r\n",
       "b: B\r\n",
       "}\r\n",
       "comp usage \"c: C\" as E5  <<(T,blue)part>> [[psysml:77af57f1-340c-421d-9a30-1a49108711b3 ]] {\r\n",
       "}\r\n",
       "comp def \"B\" as E6  <<(T,blue)item def>> [[psysml:41f55b44-de87-42d8-a9cd-035ede31bd10 ]] {\r\n",
       "}\r\n",
       "comp usage \"a: A\" as E7  <<(T,blue)part>> [[psysml:4ca48e5a-78fa-40b6-ad88-229f08c03677 ]] {\r\n",
       "}\r\n",
       "comp def \"C\" as E8  <<(T,blue)part def>> [[psysml:e612b3f8-fad7-4b05-bdfc-52877d32f7f2 ]] {\r\n",
       "}\r\n",
       "comp def \"P\" as E9  <<(T,blue)port def>> [[psysml:b51b1cf2-e677-402d-bf05-bb2fae798694 ]] {\r\n",
       "- - items - -\r\n",
       "a1: A\r\n",
       "a2: A\r\n",
       "}\r\n",
       "E2 - -:|> E3 [[psysml:5c778f2f-9d99-44f7-9cbe-495e6850b493 ]] \r\n",
       "E3 o- - E5 [[psysml:77af57f1-340c-421d-9a30-1a49108711b3 ]] \r\n",
       "E7 - -:|> E3 [[psysml:8bb447da-4a21-4000-9a04-f9f9c4ed48f1 ]] \r\n",
       "E6 *- - E7 [[psysml:4ca48e5a-78fa-40b6-ad88-229f08c03677 ]] \r\n",
       "E5 - -:|> E8 [[psysml:6ff88c17-8c2d-42a4-af32-a2455d6f0acf ]] \r\n",
       "E8 o- - E3 [[psysml:83dfbdb9-73af-4dff-b5ad-52a21a738594 ]] : y\r\n",
       "E8 o- - E6 [[psysml:83dfbdb9-73af-4dff-b5ad-52a21a738594 ]] : y\r\n",
       "}\r\n",
       "@enduml\r\n",
       "\n",
       "PlantUML version 1.2020.13(Sat Jun 13 12:26:38 UTC 2020)\n",
       "(EPL source distribution)\n",
       "Java Runtime: OpenJDK Runtime Environment\n",
       "JVM: OpenJDK 64-Bit Server VM\n",
       "Default Encoding: UTF-8\n",
       "Language: en\n",
       "Country: null\n",
       "--></g></svg>"
      ]
     },
     "execution_count": 8,
     "metadata": {},
     "output_type": "execute_result"
    }
   ],
   "source": [
    "%viz --style=\"COMPTREE\" --view=\"MIXED\" \"ItemTest\""
   ]
  },
  {
   "cell_type": "code",
   "execution_count": 9,
   "id": "considered-egyptian",
   "metadata": {
    "execution": {
     "iopub.execute_input": "2021-03-25T15:10:18.595018Z",
     "iopub.status.busy": "2021-03-25T15:10:18.594300Z",
     "iopub.status.idle": "2021-03-25T15:10:18.895815Z",
     "shell.execute_reply": "2021-03-25T15:10:18.894283Z"
    }
   },
   "outputs": [
    {
     "data": {
      "image/svg+xml": [
       "<?xml version=\"1.0\" encoding=\"UTF-8\" standalone=\"no\"?><svg xmlns=\"http://www.w3.org/2000/svg\" xmlns:xlink=\"http://www.w3.org/1999/xlink\" contentScriptType=\"application/ecmascript\" contentStyleType=\"text/css\" height=\"738px\" preserveAspectRatio=\"none\" style=\"width:228px;height:738px;\" version=\"1.1\" viewBox=\"0 0 228 738\" width=\"228px\" zoomAndPan=\"magnify\"><defs/><g><!--MD5=[fbc87193dbaf4d95561dea2c320d4a47]\n",
       "cluster E1--><a href=\"psysml:ffb2e2dc-9c37-4787-be7c-ae8a88a6d943\" target=\"_top\" title=\"psysml:ffb2e2dc-9c37-4787-be7c-ae8a88a6d943\" xlink:actuate=\"onRequest\" xlink:href=\"psysml:ffb2e2dc-9c37-4787-be7c-ae8a88a6d943\" xlink:show=\"new\" xlink:title=\"psysml:ffb2e2dc-9c37-4787-be7c-ae8a88a6d943\" xlink:type=\"simple\"><polygon fill=\"#FFFFFF\" points=\"16,6,91,6,98,28.2969,206,28.2969,206,726,16,726,16,6\" style=\"stroke: #000000; stroke-width: 1.5;\"/><line style=\"stroke: #000000; stroke-width: 1.5;\" x1=\"16\" x2=\"98\" y1=\"28.2969\" y2=\"28.2969\"/><text fill=\"#000000\" font-family=\"sans-serif\" font-size=\"14\" font-weight=\"bold\" lengthAdjust=\"spacingAndGlyphs\" textLength=\"69\" x=\"20\" y=\"20.9951\">ItemTest</text></a><!--MD5=[b4997ac47864f28c2f74865a473b2911]\n",
       "class E2--><a href=\"psysml:cf4d7795-98ee-4d9f-9cbf-a98072608f6d\" target=\"_top\" title=\"psysml:cf4d7795-98ee-4d9f-9cbf-a98072608f6d\" xlink:actuate=\"onRequest\" xlink:href=\"psysml:cf4d7795-98ee-4d9f-9cbf-a98072608f6d\" xlink:show=\"new\" xlink:title=\"psysml:cf4d7795-98ee-4d9f-9cbf-a98072608f6d\" xlink:type=\"simple\"><rect fill=\"#FFFFFF\" height=\"45.9375\" id=\"E2\" rx=\"10\" ry=\"10\" style=\"stroke: #383838; stroke-width: 1.5;\" width=\"43\" x=\"133.5\" y=\"62\"/><text fill=\"#000000\" font-family=\"sans-serif\" font-size=\"12\" font-style=\"italic\" lengthAdjust=\"spacingAndGlyphs\" textLength=\"41\" x=\"134.5\" y=\"78.1387\">«item»</text><text fill=\"#000000\" font-family=\"sans-serif\" font-size=\"12\" lengthAdjust=\"spacingAndGlyphs\" textLength=\"20\" x=\"145\" y=\"92.1074\">f: A</text><line style=\"stroke: #383838; stroke-width: 1.5;\" x1=\"134.5\" x2=\"175.5\" y1=\"99.9375\" y2=\"99.9375\"/></a><!--MD5=[09b614a08d8cba4a07c9adeb5e0fee81]\n",
       "class E3--><a href=\"psysml:be14fc81-3f83-42fd-a525-71826c91787f\" target=\"_top\" title=\"psysml:be14fc81-3f83-42fd-a525-71826c91787f\" xlink:actuate=\"onRequest\" xlink:href=\"psysml:be14fc81-3f83-42fd-a525-71826c91787f\" xlink:show=\"new\" xlink:title=\"psysml:be14fc81-3f83-42fd-a525-71826c91787f\" xlink:type=\"simple\"><rect fill=\"#FFFFFF\" height=\"75.5469\" id=\"E3\" style=\"stroke: #383838; stroke-width: 1.5;\" width=\"67\" x=\"115.5\" y=\"190\"/><text fill=\"#000000\" font-family=\"sans-serif\" font-size=\"12\" font-style=\"italic\" lengthAdjust=\"spacingAndGlyphs\" textLength=\"65\" x=\"116.5\" y=\"206.1387\">«item def»</text><text fill=\"#000000\" font-family=\"sans-serif\" font-size=\"12\" lengthAdjust=\"spacingAndGlyphs\" textLength=\"8\" x=\"145\" y=\"220.1074\">A</text><line style=\"stroke: #383838; stroke-width: 1.5;\" x1=\"116.5\" x2=\"181.5\" y1=\"227.9375\" y2=\"227.9375\"/><text fill=\"#000000\" font-family=\"sans-serif\" font-size=\"11\" lengthAdjust=\"spacingAndGlyphs\" textLength=\"23\" x=\"121.5\" y=\"258.9526\">b: B</text><line style=\"stroke: #383838; stroke-width: 1.0;\" x1=\"116.5\" x2=\"133\" y1=\"242.3398\" y2=\"242.3398\"/><text fill=\"#000000\" font-family=\"sans-serif\" font-size=\"11\" lengthAdjust=\"spacingAndGlyphs\" textLength=\"32\" x=\"133\" y=\"245.6479\">items</text><line style=\"stroke: #383838; stroke-width: 1.0;\" x1=\"165\" x2=\"181.5\" y1=\"242.3398\" y2=\"242.3398\"/></a><!--MD5=[270fce915f116d4de14055a7c1d9a0f3]\n",
       "class E5--><a href=\"psysml:77af57f1-340c-421d-9a30-1a49108711b3\" target=\"_top\" title=\"psysml:77af57f1-340c-421d-9a30-1a49108711b3\" xlink:actuate=\"onRequest\" xlink:href=\"psysml:77af57f1-340c-421d-9a30-1a49108711b3\" xlink:show=\"new\" xlink:title=\"psysml:77af57f1-340c-421d-9a30-1a49108711b3\" xlink:type=\"simple\"><rect fill=\"#FFFFFF\" height=\"45.9375\" id=\"E5\" rx=\"10\" ry=\"10\" style=\"stroke: #383838; stroke-width: 1.5;\" width=\"42\" x=\"32\" y=\"327\"/><text fill=\"#000000\" font-family=\"sans-serif\" font-size=\"12\" font-style=\"italic\" lengthAdjust=\"spacingAndGlyphs\" textLength=\"40\" x=\"33\" y=\"343.1387\">«part»</text><text fill=\"#000000\" font-family=\"sans-serif\" font-size=\"12\" lengthAdjust=\"spacingAndGlyphs\" textLength=\"23\" x=\"41.5\" y=\"357.1074\">c: C</text><line style=\"stroke: #383838; stroke-width: 1.5;\" x1=\"33\" x2=\"73\" y1=\"364.9375\" y2=\"364.9375\"/></a><!--MD5=[60a26617385b1d2d0262a64233df1f8d]\n",
       "class E6--><a href=\"psysml:41f55b44-de87-42d8-a9cd-035ede31bd10\" target=\"_top\" title=\"psysml:41f55b44-de87-42d8-a9cd-035ede31bd10\" xlink:actuate=\"onRequest\" xlink:href=\"psysml:41f55b44-de87-42d8-a9cd-035ede31bd10\" xlink:show=\"new\" xlink:title=\"psysml:41f55b44-de87-42d8-a9cd-035ede31bd10\" xlink:type=\"simple\"><rect fill=\"#FFFFFF\" height=\"45.9375\" id=\"E6\" style=\"stroke: #383838; stroke-width: 1.5;\" width=\"67\" x=\"85.5\" y=\"557\"/><text fill=\"#000000\" font-family=\"sans-serif\" font-size=\"12\" font-style=\"italic\" lengthAdjust=\"spacingAndGlyphs\" textLength=\"65\" x=\"86.5\" y=\"573.1387\">«item def»</text><text fill=\"#000000\" font-family=\"sans-serif\" font-size=\"12\" lengthAdjust=\"spacingAndGlyphs\" textLength=\"8\" x=\"115\" y=\"587.1074\">B</text><line style=\"stroke: #383838; stroke-width: 1.5;\" x1=\"86.5\" x2=\"151.5\" y1=\"594.9375\" y2=\"594.9375\"/></a><!--MD5=[2156ba9850f5573cc1fc38a6a4b2f02b]\n",
       "class E7--><a href=\"psysml:4ca48e5a-78fa-40b6-ad88-229f08c03677\" target=\"_top\" title=\"psysml:4ca48e5a-78fa-40b6-ad88-229f08c03677\" xlink:actuate=\"onRequest\" xlink:href=\"psysml:4ca48e5a-78fa-40b6-ad88-229f08c03677\" xlink:show=\"new\" xlink:title=\"psysml:4ca48e5a-78fa-40b6-ad88-229f08c03677\" xlink:type=\"simple\"><rect fill=\"#FFFFFF\" height=\"45.9375\" id=\"E7\" rx=\"10\" ry=\"10\" style=\"stroke: #383838; stroke-width: 1.5;\" width=\"42\" x=\"123\" y=\"664\"/><text fill=\"#000000\" font-family=\"sans-serif\" font-size=\"12\" font-style=\"italic\" lengthAdjust=\"spacingAndGlyphs\" textLength=\"40\" x=\"124\" y=\"680.1387\">«part»</text><text fill=\"#000000\" font-family=\"sans-serif\" font-size=\"12\" lengthAdjust=\"spacingAndGlyphs\" textLength=\"24\" x=\"132\" y=\"694.1074\">a: A</text><line style=\"stroke: #383838; stroke-width: 1.5;\" x1=\"124\" x2=\"164\" y1=\"701.9375\" y2=\"701.9375\"/></a><!--MD5=[b9389687b975829384b498ac4b7476b2]\n",
       "class E8--><a href=\"psysml:e612b3f8-fad7-4b05-bdfc-52877d32f7f2\" target=\"_top\" title=\"psysml:e612b3f8-fad7-4b05-bdfc-52877d32f7f2\" xlink:actuate=\"onRequest\" xlink:href=\"psysml:e612b3f8-fad7-4b05-bdfc-52877d32f7f2\" xlink:show=\"new\" xlink:title=\"psysml:e612b3f8-fad7-4b05-bdfc-52877d32f7f2\" xlink:type=\"simple\"><rect fill=\"#FFFFFF\" height=\"45.9375\" id=\"E8\" style=\"stroke: #383838; stroke-width: 1.5;\" width=\"66\" x=\"86\" y=\"434\"/><text fill=\"#000000\" font-family=\"sans-serif\" font-size=\"12\" font-style=\"italic\" lengthAdjust=\"spacingAndGlyphs\" textLength=\"64\" x=\"87\" y=\"450.1387\">«part def»</text><text fill=\"#000000\" font-family=\"sans-serif\" font-size=\"12\" lengthAdjust=\"spacingAndGlyphs\" textLength=\"8\" x=\"115\" y=\"464.1074\">C</text><line style=\"stroke: #383838; stroke-width: 1.5;\" x1=\"87\" x2=\"151\" y1=\"471.9375\" y2=\"471.9375\"/></a><!--MD5=[fd4143e9d270a159db93a4ea2a975926]\n",
       "class E9--><a href=\"psysml:b51b1cf2-e677-402d-bf05-bb2fae798694\" target=\"_top\" title=\"psysml:b51b1cf2-e677-402d-bf05-bb2fae798694\" xlink:actuate=\"onRequest\" xlink:href=\"psysml:b51b1cf2-e677-402d-bf05-bb2fae798694\" xlink:show=\"new\" xlink:title=\"psysml:b51b1cf2-e677-402d-bf05-bb2fae798694\" xlink:type=\"simple\"><rect fill=\"#FFFFFF\" height=\"88.3516\" id=\"E9\" style=\"stroke: #383838; stroke-width: 1.5;\" width=\"66\" x=\"32\" y=\"41\"/><text fill=\"#000000\" font-family=\"sans-serif\" font-size=\"12\" font-style=\"italic\" lengthAdjust=\"spacingAndGlyphs\" textLength=\"64\" x=\"33\" y=\"57.1387\">«port def»</text><text fill=\"#000000\" font-family=\"sans-serif\" font-size=\"12\" lengthAdjust=\"spacingAndGlyphs\" textLength=\"8\" x=\"61\" y=\"71.1074\">P</text><line style=\"stroke: #383838; stroke-width: 1.5;\" x1=\"33\" x2=\"97\" y1=\"78.9375\" y2=\"78.9375\"/><text fill=\"#000000\" font-family=\"sans-serif\" font-size=\"11\" lengthAdjust=\"spacingAndGlyphs\" textLength=\"29\" x=\"38\" y=\"109.9526\">a1: A</text><text fill=\"#000000\" font-family=\"sans-serif\" font-size=\"11\" lengthAdjust=\"spacingAndGlyphs\" textLength=\"29\" x=\"38\" y=\"122.7573\">a2: A</text><line style=\"stroke: #383838; stroke-width: 1.0;\" x1=\"33\" x2=\"49\" y1=\"93.3398\" y2=\"93.3398\"/><text fill=\"#000000\" font-family=\"sans-serif\" font-size=\"11\" lengthAdjust=\"spacingAndGlyphs\" textLength=\"32\" x=\"49\" y=\"96.6479\">items</text><line style=\"stroke: #383838; stroke-width: 1.0;\" x1=\"81\" x2=\"97\" y1=\"93.3398\" y2=\"93.3398\"/></a><!--MD5=[2720a5a1f2c3fca2055b230370638851]\n",
       "link E2 to E3--><a href=\"psysml:5c778f2f-9d99-44f7-9cbe-495e6850b493\" target=\"_top\" title=\"psysml:5c778f2f-9d99-44f7-9cbe-495e6850b493\" xlink:actuate=\"onRequest\" xlink:href=\"psysml:5c778f2f-9d99-44f7-9cbe-495e6850b493\" xlink:show=\"new\" xlink:title=\"psysml:5c778f2f-9d99-44f7-9cbe-495e6850b493\" xlink:type=\"simple\"><path d=\"M154.06,108.03 C153.36,124.58 152.36,148.04 151.44,169.76 \" fill=\"none\" id=\"E2-&gt;E3\" style=\"stroke: #383838; stroke-width: 1.0;\"/><polygon fill=\"#FFFFFF\" points=\"150.58,189.77,144.4005,170.4875,158.3877,171.0874,150.58,189.77\" style=\"stroke: #383838; stroke-width: 1.0;\"/><ellipse cx=\"146.6429\" cy=\"164.8784\" fill=\"#383838\" rx=\"2\" ry=\"2\" style=\"stroke: #383838; stroke-width: 1.0;\"/><ellipse cx=\"156.6338\" cy=\"165.3069\" fill=\"#383838\" rx=\"2\" ry=\"2\" style=\"stroke: #383838; stroke-width: 1.0;\"/></a><!--MD5=[191cde3d490a3f6d7bb551fe3ddca469]\n",
       "reverse link E3 to E5--><a href=\"psysml:77af57f1-340c-421d-9a30-1a49108711b3\" target=\"_top\" title=\"psysml:77af57f1-340c-421d-9a30-1a49108711b3\" xlink:actuate=\"onRequest\" xlink:href=\"psysml:77af57f1-340c-421d-9a30-1a49108711b3\" xlink:show=\"new\" xlink:title=\"psysml:77af57f1-340c-421d-9a30-1a49108711b3\" xlink:type=\"simple\"><path d=\"M110.75,276.82 C96.95,294.07 82.02,312.72 70.8,326.75 \" fill=\"none\" id=\"E3&lt;-E5\" style=\"stroke: #383838; stroke-width: 1.0;\"/><polygon fill=\"#FFFFFF\" points=\"119.15,266.31,112.2784,268.4964,111.6537,275.6804,118.5253,273.494,119.15,266.31\" style=\"stroke: #383838; stroke-width: 1.0;\"/></a><!--MD5=[14ccda38c055a5c0da953d572bc50960]\n",
       "link E7 to E3--><a href=\"psysml:8bb447da-4a21-4000-9a04-f9f9c4ed48f1\" target=\"_top\" title=\"psysml:8bb447da-4a21-4000-9a04-f9f9c4ed48f1\" xlink:actuate=\"onRequest\" xlink:href=\"psysml:8bb447da-4a21-4000-9a04-f9f9c4ed48f1\" xlink:show=\"new\" xlink:title=\"psysml:8bb447da-4a21-4000-9a04-f9f9c4ed48f1\" xlink:type=\"simple\"><path d=\"M153.43,663.99 C166.63,633.2 189,581 189,581 C189,349 189,349 189,349 C189,349 178.25,316.76 167.9,285.7 \" fill=\"none\" id=\"E7-&gt;E3\" style=\"stroke: #383838; stroke-width: 1.0;\"/><polygon fill=\"#FFFFFF\" points=\"161.44,266.31,174.0927,282.1185,160.8121,286.5487,161.44,266.31\" style=\"stroke: #383838; stroke-width: 1.0;\"/><ellipse cx=\"173.9992\" cy=\"288.1585\" fill=\"#383838\" rx=\"2\" ry=\"2\" style=\"stroke: #383838; stroke-width: 1.0;\"/><ellipse cx=\"164.5131\" cy=\"291.3229\" fill=\"#383838\" rx=\"2\" ry=\"2\" style=\"stroke: #383838; stroke-width: 1.0;\"/></a><!--MD5=[3f50a3473f1dfb74d3f76443e03635af]\n",
       "reverse link E6 to E7--><a href=\"psysml:4ca48e5a-78fa-40b6-ad88-229f08c03677\" target=\"_top\" title=\"psysml:4ca48e5a-78fa-40b6-ad88-229f08c03677\" xlink:actuate=\"onRequest\" xlink:href=\"psysml:4ca48e5a-78fa-40b6-ad88-229f08c03677\" xlink:show=\"new\" xlink:title=\"psysml:4ca48e5a-78fa-40b6-ad88-229f08c03677\" xlink:type=\"simple\"><path d=\"M127.34,616.05 C131.08,631.76 135.39,649.82 138.68,663.66 \" fill=\"none\" id=\"E6&lt;-E7\" style=\"stroke: #383838; stroke-width: 1.0;\"/><polygon fill=\"#383838\" points=\"124.24,603.01,121.7406,609.7741,127.023,614.6828,129.5224,607.9187,124.24,603.01\" style=\"stroke: #383838; stroke-width: 1.0;\"/></a><!--MD5=[dfaffb906826c3e5aca635516100ff21]\n",
       "link E5 to E8--><a href=\"psysml:6ff88c17-8c2d-42a4-af32-a2455d6f0acf\" target=\"_top\" title=\"psysml:6ff88c17-8c2d-42a4-af32-a2455d6f0acf\" xlink:actuate=\"onRequest\" xlink:href=\"psysml:6ff88c17-8c2d-42a4-af32-a2455d6f0acf\" xlink:show=\"new\" xlink:title=\"psysml:6ff88c17-8c2d-42a4-af32-a2455d6f0acf\" xlink:type=\"simple\"><path d=\"M66.84,373.01 C74.79,385.67 85.02,401.94 94.31,416.72 \" fill=\"none\" id=\"E5-&gt;E8\" style=\"stroke: #383838; stroke-width: 1.0;\"/><polygon fill=\"#FFFFFF\" points=\"104.96,433.66,88.9212,421.3005,100.7735,413.8491,104.96,433.66\" style=\"stroke: #383838; stroke-width: 1.0;\"/><ellipse cx=\"87.5806\" cy=\"415.4104\" fill=\"#383838\" rx=\"2\" ry=\"2\" style=\"stroke: #383838; stroke-width: 1.0;\"/><ellipse cx=\"96.0465\" cy=\"410.088\" fill=\"#383838\" rx=\"2\" ry=\"2\" style=\"stroke: #383838; stroke-width: 1.0;\"/></a><!--MD5=[03c8294790d3c57651a1993cecff665f]\n",
       "reverse link E8 to E3--><a href=\"psysml:83dfbdb9-73af-4dff-b5ad-52a21a738594\" target=\"_top\" title=\"psysml:83dfbdb9-73af-4dff-b5ad-52a21a738594\" xlink:actuate=\"onRequest\" xlink:href=\"psysml:83dfbdb9-73af-4dff-b5ad-52a21a738594\" xlink:show=\"new\" xlink:title=\"psysml:83dfbdb9-73af-4dff-b5ad-52a21a738594\" xlink:type=\"simple\"><path d=\"M123.65,420.81 C129.2,378.86 138.42,309.06 144.08,266.23 \" fill=\"none\" id=\"E8&lt;-E3\" style=\"stroke: #383838; stroke-width: 1.0;\"/><polygon fill=\"#FFFFFF\" points=\"121.92,433.89,126.6755,428.4692,123.5008,421.9946,118.7453,427.4154,121.92,433.89\" style=\"stroke: #383838; stroke-width: 1.0;\"/><text fill=\"#000000\" font-family=\"sans-serif\" font-size=\"13\" lengthAdjust=\"spacingAndGlyphs\" textLength=\"7\" x=\"136\" y=\"354.5669\">y</text></a><!--MD5=[0d75d2178373a6a4568e5dc728f58aef]\n",
       "reverse link E8 to E6--><a href=\"psysml:83dfbdb9-73af-4dff-b5ad-52a21a738594\" target=\"_top\" title=\"psysml:83dfbdb9-73af-4dff-b5ad-52a21a738594\" xlink:actuate=\"onRequest\" xlink:href=\"psysml:83dfbdb9-73af-4dff-b5ad-52a21a738594\" xlink:show=\"new\" xlink:title=\"psysml:83dfbdb9-73af-4dff-b5ad-52a21a738594\" xlink:type=\"simple\"><path d=\"M119,493.22 C119,513.81 119,539.16 119,556.95 \" fill=\"none\" id=\"E8&lt;-E6\" style=\"stroke: #383838; stroke-width: 1.0;\"/><polygon fill=\"#FFFFFF\" points=\"119,480.19,115,486.19,119,492.19,123,486.19,119,480.19\" style=\"stroke: #383838; stroke-width: 1.0;\"/><text fill=\"#000000\" font-family=\"sans-serif\" font-size=\"13\" lengthAdjust=\"spacingAndGlyphs\" textLength=\"7\" x=\"120\" y=\"523.0669\">y</text></a><!--MD5=[b7e90a687d5e61e64bfabf38335f7f3f]\n",
       "@startuml\r\n",
       "skinparam linetype polyline\r\n",
       "skinparam monochrome true\r\n",
       "skinparam classbackgroundcolor white\r\n",
       "skinparam shadowing false\r\n",
       "skinparam wrapWidth 300\r\n",
       "hide circle\r\n",
       "\r\n",
       "package \"ItemTest\" as E1  [[psysml:ffb2e2dc-9c37-4787-be7c-ae8a88a6d943 ]]  {\r\n",
       "comp usage \"f: A\" as E2  <<(T,blue)item>> [[psysml:cf4d7795-98ee-4d9f-9cbf-a98072608f6d ]] {\r\n",
       "}\r\n",
       "comp def \"A\" as E3  <<(T,blue)item def>> [[psysml:be14fc81-3f83-42fd-a525-71826c91787f ]] {\r\n",
       "- - items - -\r\n",
       "b: B\r\n",
       "}\r\n",
       "comp usage \"c: C\" as E5  <<(T,blue)part>> [[psysml:77af57f1-340c-421d-9a30-1a49108711b3 ]] {\r\n",
       "}\r\n",
       "comp def \"B\" as E6  <<(T,blue)item def>> [[psysml:41f55b44-de87-42d8-a9cd-035ede31bd10 ]] {\r\n",
       "}\r\n",
       "comp usage \"a: A\" as E7  <<(T,blue)part>> [[psysml:4ca48e5a-78fa-40b6-ad88-229f08c03677 ]] {\r\n",
       "}\r\n",
       "comp def \"C\" as E8  <<(T,blue)part def>> [[psysml:e612b3f8-fad7-4b05-bdfc-52877d32f7f2 ]] {\r\n",
       "}\r\n",
       "comp def \"P\" as E9  <<(T,blue)port def>> [[psysml:b51b1cf2-e677-402d-bf05-bb2fae798694 ]] {\r\n",
       "- - items - -\r\n",
       "a1: A\r\n",
       "a2: A\r\n",
       "}\r\n",
       "E2 - -:|> E3 [[psysml:5c778f2f-9d99-44f7-9cbe-495e6850b493 ]] \r\n",
       "E3 o- - E5 [[psysml:77af57f1-340c-421d-9a30-1a49108711b3 ]] \r\n",
       "E7 - -:|> E3 [[psysml:8bb447da-4a21-4000-9a04-f9f9c4ed48f1 ]] \r\n",
       "E6 *- - E7 [[psysml:4ca48e5a-78fa-40b6-ad88-229f08c03677 ]] \r\n",
       "E5 - -:|> E8 [[psysml:6ff88c17-8c2d-42a4-af32-a2455d6f0acf ]] \r\n",
       "E8 o- - E3 [[psysml:83dfbdb9-73af-4dff-b5ad-52a21a738594 ]] : y\r\n",
       "E8 o- - E6 [[psysml:83dfbdb9-73af-4dff-b5ad-52a21a738594 ]] : y\r\n",
       "}\r\n",
       "@enduml\r\n",
       "\n",
       "PlantUML version 1.2020.13(Sat Jun 13 12:26:38 UTC 2020)\n",
       "(EPL source distribution)\n",
       "Java Runtime: OpenJDK Runtime Environment\n",
       "JVM: OpenJDK 64-Bit Server VM\n",
       "Default Encoding: UTF-8\n",
       "Language: en\n",
       "Country: null\n",
       "--></g></svg>"
      ]
     },
     "execution_count": 9,
     "metadata": {},
     "output_type": "execute_result"
    }
   ],
   "source": [
    "%viz --style=\"POLYLINE\" --view=\"Default\" \"ItemTest\""
   ]
  },
  {
   "cell_type": "code",
   "execution_count": 10,
   "id": "asian-terminology",
   "metadata": {
    "execution": {
     "iopub.execute_input": "2021-03-25T15:10:18.948292Z",
     "iopub.status.busy": "2021-03-25T15:10:18.947636Z",
     "iopub.status.idle": "2021-03-25T15:10:19.240856Z",
     "shell.execute_reply": "2021-03-25T15:10:19.239064Z"
    }
   },
   "outputs": [
    {
     "data": {
      "image/svg+xml": [
       "<?xml version=\"1.0\" encoding=\"UTF-8\" standalone=\"no\"?><svg xmlns=\"http://www.w3.org/2000/svg\" xmlns:xlink=\"http://www.w3.org/1999/xlink\" contentScriptType=\"application/ecmascript\" contentStyleType=\"text/css\" height=\"738px\" preserveAspectRatio=\"none\" style=\"width:228px;height:738px;\" version=\"1.1\" viewBox=\"0 0 228 738\" width=\"228px\" zoomAndPan=\"magnify\"><defs/><g><!--MD5=[fbc87193dbaf4d95561dea2c320d4a47]\n",
       "cluster E1--><a href=\"psysml:ffb2e2dc-9c37-4787-be7c-ae8a88a6d943\" target=\"_top\" title=\"psysml:ffb2e2dc-9c37-4787-be7c-ae8a88a6d943\" xlink:actuate=\"onRequest\" xlink:href=\"psysml:ffb2e2dc-9c37-4787-be7c-ae8a88a6d943\" xlink:show=\"new\" xlink:title=\"psysml:ffb2e2dc-9c37-4787-be7c-ae8a88a6d943\" xlink:type=\"simple\"><polygon fill=\"#FFFFFF\" points=\"16,6,91,6,98,28.2969,206,28.2969,206,726,16,726,16,6\" style=\"stroke: #000000; stroke-width: 1.5;\"/><line style=\"stroke: #000000; stroke-width: 1.5;\" x1=\"16\" x2=\"98\" y1=\"28.2969\" y2=\"28.2969\"/><text fill=\"#000000\" font-family=\"sans-serif\" font-size=\"14\" font-weight=\"bold\" lengthAdjust=\"spacingAndGlyphs\" textLength=\"69\" x=\"20\" y=\"20.9951\">ItemTest</text></a><!--MD5=[b4997ac47864f28c2f74865a473b2911]\n",
       "class E2--><a href=\"psysml:cf4d7795-98ee-4d9f-9cbf-a98072608f6d\" target=\"_top\" title=\"psysml:cf4d7795-98ee-4d9f-9cbf-a98072608f6d\" xlink:actuate=\"onRequest\" xlink:href=\"psysml:cf4d7795-98ee-4d9f-9cbf-a98072608f6d\" xlink:show=\"new\" xlink:title=\"psysml:cf4d7795-98ee-4d9f-9cbf-a98072608f6d\" xlink:type=\"simple\"><rect fill=\"#FFFFFF\" height=\"45.9375\" id=\"E2\" rx=\"10\" ry=\"10\" style=\"stroke: #383838; stroke-width: 1.5;\" width=\"43\" x=\"133.5\" y=\"62\"/><text fill=\"#000000\" font-family=\"sans-serif\" font-size=\"12\" font-style=\"italic\" lengthAdjust=\"spacingAndGlyphs\" textLength=\"41\" x=\"134.5\" y=\"78.1387\">«item»</text><text fill=\"#000000\" font-family=\"sans-serif\" font-size=\"12\" lengthAdjust=\"spacingAndGlyphs\" textLength=\"20\" x=\"145\" y=\"92.1074\">f: A</text><line style=\"stroke: #383838; stroke-width: 1.5;\" x1=\"134.5\" x2=\"175.5\" y1=\"99.9375\" y2=\"99.9375\"/></a><!--MD5=[09b614a08d8cba4a07c9adeb5e0fee81]\n",
       "class E3--><a href=\"psysml:be14fc81-3f83-42fd-a525-71826c91787f\" target=\"_top\" title=\"psysml:be14fc81-3f83-42fd-a525-71826c91787f\" xlink:actuate=\"onRequest\" xlink:href=\"psysml:be14fc81-3f83-42fd-a525-71826c91787f\" xlink:show=\"new\" xlink:title=\"psysml:be14fc81-3f83-42fd-a525-71826c91787f\" xlink:type=\"simple\"><rect fill=\"#FFFFFF\" height=\"75.5469\" id=\"E3\" style=\"stroke: #383838; stroke-width: 1.5;\" width=\"67\" x=\"115.5\" y=\"190\"/><text fill=\"#000000\" font-family=\"sans-serif\" font-size=\"12\" font-style=\"italic\" lengthAdjust=\"spacingAndGlyphs\" textLength=\"65\" x=\"116.5\" y=\"206.1387\">«item def»</text><text fill=\"#000000\" font-family=\"sans-serif\" font-size=\"12\" lengthAdjust=\"spacingAndGlyphs\" textLength=\"8\" x=\"145\" y=\"220.1074\">A</text><line style=\"stroke: #383838; stroke-width: 1.5;\" x1=\"116.5\" x2=\"181.5\" y1=\"227.9375\" y2=\"227.9375\"/><text fill=\"#000000\" font-family=\"sans-serif\" font-size=\"11\" lengthAdjust=\"spacingAndGlyphs\" textLength=\"23\" x=\"121.5\" y=\"258.9526\">b: B</text><line style=\"stroke: #383838; stroke-width: 1.0;\" x1=\"116.5\" x2=\"133\" y1=\"242.3398\" y2=\"242.3398\"/><text fill=\"#000000\" font-family=\"sans-serif\" font-size=\"11\" lengthAdjust=\"spacingAndGlyphs\" textLength=\"32\" x=\"133\" y=\"245.6479\">items</text><line style=\"stroke: #383838; stroke-width: 1.0;\" x1=\"165\" x2=\"181.5\" y1=\"242.3398\" y2=\"242.3398\"/></a><!--MD5=[270fce915f116d4de14055a7c1d9a0f3]\n",
       "class E5--><a href=\"psysml:77af57f1-340c-421d-9a30-1a49108711b3\" target=\"_top\" title=\"psysml:77af57f1-340c-421d-9a30-1a49108711b3\" xlink:actuate=\"onRequest\" xlink:href=\"psysml:77af57f1-340c-421d-9a30-1a49108711b3\" xlink:show=\"new\" xlink:title=\"psysml:77af57f1-340c-421d-9a30-1a49108711b3\" xlink:type=\"simple\"><rect fill=\"#FFFFFF\" height=\"45.9375\" id=\"E5\" rx=\"10\" ry=\"10\" style=\"stroke: #383838; stroke-width: 1.5;\" width=\"42\" x=\"32\" y=\"327\"/><text fill=\"#000000\" font-family=\"sans-serif\" font-size=\"12\" font-style=\"italic\" lengthAdjust=\"spacingAndGlyphs\" textLength=\"40\" x=\"33\" y=\"343.1387\">«part»</text><text fill=\"#000000\" font-family=\"sans-serif\" font-size=\"12\" lengthAdjust=\"spacingAndGlyphs\" textLength=\"23\" x=\"41.5\" y=\"357.1074\">c: C</text><line style=\"stroke: #383838; stroke-width: 1.5;\" x1=\"33\" x2=\"73\" y1=\"364.9375\" y2=\"364.9375\"/></a><!--MD5=[60a26617385b1d2d0262a64233df1f8d]\n",
       "class E6--><a href=\"psysml:41f55b44-de87-42d8-a9cd-035ede31bd10\" target=\"_top\" title=\"psysml:41f55b44-de87-42d8-a9cd-035ede31bd10\" xlink:actuate=\"onRequest\" xlink:href=\"psysml:41f55b44-de87-42d8-a9cd-035ede31bd10\" xlink:show=\"new\" xlink:title=\"psysml:41f55b44-de87-42d8-a9cd-035ede31bd10\" xlink:type=\"simple\"><rect fill=\"#FFFFFF\" height=\"45.9375\" id=\"E6\" style=\"stroke: #383838; stroke-width: 1.5;\" width=\"67\" x=\"85.5\" y=\"557\"/><text fill=\"#000000\" font-family=\"sans-serif\" font-size=\"12\" font-style=\"italic\" lengthAdjust=\"spacingAndGlyphs\" textLength=\"65\" x=\"86.5\" y=\"573.1387\">«item def»</text><text fill=\"#000000\" font-family=\"sans-serif\" font-size=\"12\" lengthAdjust=\"spacingAndGlyphs\" textLength=\"8\" x=\"115\" y=\"587.1074\">B</text><line style=\"stroke: #383838; stroke-width: 1.5;\" x1=\"86.5\" x2=\"151.5\" y1=\"594.9375\" y2=\"594.9375\"/></a><!--MD5=[2156ba9850f5573cc1fc38a6a4b2f02b]\n",
       "class E7--><a href=\"psysml:4ca48e5a-78fa-40b6-ad88-229f08c03677\" target=\"_top\" title=\"psysml:4ca48e5a-78fa-40b6-ad88-229f08c03677\" xlink:actuate=\"onRequest\" xlink:href=\"psysml:4ca48e5a-78fa-40b6-ad88-229f08c03677\" xlink:show=\"new\" xlink:title=\"psysml:4ca48e5a-78fa-40b6-ad88-229f08c03677\" xlink:type=\"simple\"><rect fill=\"#FFFFFF\" height=\"45.9375\" id=\"E7\" rx=\"10\" ry=\"10\" style=\"stroke: #383838; stroke-width: 1.5;\" width=\"42\" x=\"123\" y=\"664\"/><text fill=\"#000000\" font-family=\"sans-serif\" font-size=\"12\" font-style=\"italic\" lengthAdjust=\"spacingAndGlyphs\" textLength=\"40\" x=\"124\" y=\"680.1387\">«part»</text><text fill=\"#000000\" font-family=\"sans-serif\" font-size=\"12\" lengthAdjust=\"spacingAndGlyphs\" textLength=\"24\" x=\"132\" y=\"694.1074\">a: A</text><line style=\"stroke: #383838; stroke-width: 1.5;\" x1=\"124\" x2=\"164\" y1=\"701.9375\" y2=\"701.9375\"/></a><!--MD5=[b9389687b975829384b498ac4b7476b2]\n",
       "class E8--><a href=\"psysml:e612b3f8-fad7-4b05-bdfc-52877d32f7f2\" target=\"_top\" title=\"psysml:e612b3f8-fad7-4b05-bdfc-52877d32f7f2\" xlink:actuate=\"onRequest\" xlink:href=\"psysml:e612b3f8-fad7-4b05-bdfc-52877d32f7f2\" xlink:show=\"new\" xlink:title=\"psysml:e612b3f8-fad7-4b05-bdfc-52877d32f7f2\" xlink:type=\"simple\"><rect fill=\"#FFFFFF\" height=\"45.9375\" id=\"E8\" style=\"stroke: #383838; stroke-width: 1.5;\" width=\"66\" x=\"86\" y=\"434\"/><text fill=\"#000000\" font-family=\"sans-serif\" font-size=\"12\" font-style=\"italic\" lengthAdjust=\"spacingAndGlyphs\" textLength=\"64\" x=\"87\" y=\"450.1387\">«part def»</text><text fill=\"#000000\" font-family=\"sans-serif\" font-size=\"12\" lengthAdjust=\"spacingAndGlyphs\" textLength=\"8\" x=\"115\" y=\"464.1074\">C</text><line style=\"stroke: #383838; stroke-width: 1.5;\" x1=\"87\" x2=\"151\" y1=\"471.9375\" y2=\"471.9375\"/></a><!--MD5=[fd4143e9d270a159db93a4ea2a975926]\n",
       "class E9--><a href=\"psysml:b51b1cf2-e677-402d-bf05-bb2fae798694\" target=\"_top\" title=\"psysml:b51b1cf2-e677-402d-bf05-bb2fae798694\" xlink:actuate=\"onRequest\" xlink:href=\"psysml:b51b1cf2-e677-402d-bf05-bb2fae798694\" xlink:show=\"new\" xlink:title=\"psysml:b51b1cf2-e677-402d-bf05-bb2fae798694\" xlink:type=\"simple\"><rect fill=\"#FFFFFF\" height=\"88.3516\" id=\"E9\" style=\"stroke: #383838; stroke-width: 1.5;\" width=\"66\" x=\"32\" y=\"41\"/><text fill=\"#000000\" font-family=\"sans-serif\" font-size=\"12\" font-style=\"italic\" lengthAdjust=\"spacingAndGlyphs\" textLength=\"64\" x=\"33\" y=\"57.1387\">«port def»</text><text fill=\"#000000\" font-family=\"sans-serif\" font-size=\"12\" lengthAdjust=\"spacingAndGlyphs\" textLength=\"8\" x=\"61\" y=\"71.1074\">P</text><line style=\"stroke: #383838; stroke-width: 1.5;\" x1=\"33\" x2=\"97\" y1=\"78.9375\" y2=\"78.9375\"/><text fill=\"#000000\" font-family=\"sans-serif\" font-size=\"11\" lengthAdjust=\"spacingAndGlyphs\" textLength=\"29\" x=\"38\" y=\"109.9526\">a1: A</text><text fill=\"#000000\" font-family=\"sans-serif\" font-size=\"11\" lengthAdjust=\"spacingAndGlyphs\" textLength=\"29\" x=\"38\" y=\"122.7573\">a2: A</text><line style=\"stroke: #383838; stroke-width: 1.0;\" x1=\"33\" x2=\"49\" y1=\"93.3398\" y2=\"93.3398\"/><text fill=\"#000000\" font-family=\"sans-serif\" font-size=\"11\" lengthAdjust=\"spacingAndGlyphs\" textLength=\"32\" x=\"49\" y=\"96.6479\">items</text><line style=\"stroke: #383838; stroke-width: 1.0;\" x1=\"81\" x2=\"97\" y1=\"93.3398\" y2=\"93.3398\"/></a><!--MD5=[2720a5a1f2c3fca2055b230370638851]\n",
       "link E2 to E3--><a href=\"psysml:5c778f2f-9d99-44f7-9cbe-495e6850b493\" target=\"_top\" title=\"psysml:5c778f2f-9d99-44f7-9cbe-495e6850b493\" xlink:actuate=\"onRequest\" xlink:href=\"psysml:5c778f2f-9d99-44f7-9cbe-495e6850b493\" xlink:show=\"new\" xlink:title=\"psysml:5c778f2f-9d99-44f7-9cbe-495e6850b493\" xlink:type=\"simple\"><path d=\"M154.06,108.03 C153.36,124.58 152.36,148.04 151.44,169.76 \" fill=\"none\" id=\"E2-&gt;E3\" style=\"stroke: #383838; stroke-width: 1.0;\"/><polygon fill=\"#FFFFFF\" points=\"150.58,189.77,144.4005,170.4875,158.3877,171.0874,150.58,189.77\" style=\"stroke: #383838; stroke-width: 1.0;\"/><ellipse cx=\"146.6429\" cy=\"164.8784\" fill=\"#383838\" rx=\"2\" ry=\"2\" style=\"stroke: #383838; stroke-width: 1.0;\"/><ellipse cx=\"156.6338\" cy=\"165.3069\" fill=\"#383838\" rx=\"2\" ry=\"2\" style=\"stroke: #383838; stroke-width: 1.0;\"/></a><!--MD5=[191cde3d490a3f6d7bb551fe3ddca469]\n",
       "reverse link E3 to E5--><a href=\"psysml:77af57f1-340c-421d-9a30-1a49108711b3\" target=\"_top\" title=\"psysml:77af57f1-340c-421d-9a30-1a49108711b3\" xlink:actuate=\"onRequest\" xlink:href=\"psysml:77af57f1-340c-421d-9a30-1a49108711b3\" xlink:show=\"new\" xlink:title=\"psysml:77af57f1-340c-421d-9a30-1a49108711b3\" xlink:type=\"simple\"><path d=\"M110.75,276.82 C96.95,294.07 82.02,312.72 70.8,326.75 \" fill=\"none\" id=\"E3&lt;-E5\" style=\"stroke: #383838; stroke-width: 1.0;\"/><polygon fill=\"#FFFFFF\" points=\"119.15,266.31,112.2784,268.4964,111.6537,275.6804,118.5253,273.494,119.15,266.31\" style=\"stroke: #383838; stroke-width: 1.0;\"/></a><!--MD5=[14ccda38c055a5c0da953d572bc50960]\n",
       "link E7 to E3--><a href=\"psysml:8bb447da-4a21-4000-9a04-f9f9c4ed48f1\" target=\"_top\" title=\"psysml:8bb447da-4a21-4000-9a04-f9f9c4ed48f1\" xlink:actuate=\"onRequest\" xlink:href=\"psysml:8bb447da-4a21-4000-9a04-f9f9c4ed48f1\" xlink:show=\"new\" xlink:title=\"psysml:8bb447da-4a21-4000-9a04-f9f9c4ed48f1\" xlink:type=\"simple\"><path d=\"M153.43,663.99 C166.63,633.2 189,581 189,581 C189,349 189,349 189,349 C189,349 178.25,316.76 167.9,285.7 \" fill=\"none\" id=\"E7-&gt;E3\" style=\"stroke: #383838; stroke-width: 1.0;\"/><polygon fill=\"#FFFFFF\" points=\"161.44,266.31,174.0927,282.1185,160.8121,286.5487,161.44,266.31\" style=\"stroke: #383838; stroke-width: 1.0;\"/><ellipse cx=\"173.9992\" cy=\"288.1585\" fill=\"#383838\" rx=\"2\" ry=\"2\" style=\"stroke: #383838; stroke-width: 1.0;\"/><ellipse cx=\"164.5131\" cy=\"291.3229\" fill=\"#383838\" rx=\"2\" ry=\"2\" style=\"stroke: #383838; stroke-width: 1.0;\"/></a><!--MD5=[3f50a3473f1dfb74d3f76443e03635af]\n",
       "reverse link E6 to E7--><a href=\"psysml:4ca48e5a-78fa-40b6-ad88-229f08c03677\" target=\"_top\" title=\"psysml:4ca48e5a-78fa-40b6-ad88-229f08c03677\" xlink:actuate=\"onRequest\" xlink:href=\"psysml:4ca48e5a-78fa-40b6-ad88-229f08c03677\" xlink:show=\"new\" xlink:title=\"psysml:4ca48e5a-78fa-40b6-ad88-229f08c03677\" xlink:type=\"simple\"><path d=\"M127.34,616.05 C131.08,631.76 135.39,649.82 138.68,663.66 \" fill=\"none\" id=\"E6&lt;-E7\" style=\"stroke: #383838; stroke-width: 1.0;\"/><polygon fill=\"#383838\" points=\"124.24,603.01,121.7406,609.7741,127.023,614.6828,129.5224,607.9187,124.24,603.01\" style=\"stroke: #383838; stroke-width: 1.0;\"/></a><!--MD5=[dfaffb906826c3e5aca635516100ff21]\n",
       "link E5 to E8--><a href=\"psysml:6ff88c17-8c2d-42a4-af32-a2455d6f0acf\" target=\"_top\" title=\"psysml:6ff88c17-8c2d-42a4-af32-a2455d6f0acf\" xlink:actuate=\"onRequest\" xlink:href=\"psysml:6ff88c17-8c2d-42a4-af32-a2455d6f0acf\" xlink:show=\"new\" xlink:title=\"psysml:6ff88c17-8c2d-42a4-af32-a2455d6f0acf\" xlink:type=\"simple\"><path d=\"M66.84,373.01 C74.79,385.67 85.02,401.94 94.31,416.72 \" fill=\"none\" id=\"E5-&gt;E8\" style=\"stroke: #383838; stroke-width: 1.0;\"/><polygon fill=\"#FFFFFF\" points=\"104.96,433.66,88.9212,421.3005,100.7735,413.8491,104.96,433.66\" style=\"stroke: #383838; stroke-width: 1.0;\"/><ellipse cx=\"87.5806\" cy=\"415.4104\" fill=\"#383838\" rx=\"2\" ry=\"2\" style=\"stroke: #383838; stroke-width: 1.0;\"/><ellipse cx=\"96.0465\" cy=\"410.088\" fill=\"#383838\" rx=\"2\" ry=\"2\" style=\"stroke: #383838; stroke-width: 1.0;\"/></a><!--MD5=[03c8294790d3c57651a1993cecff665f]\n",
       "reverse link E8 to E3--><a href=\"psysml:83dfbdb9-73af-4dff-b5ad-52a21a738594\" target=\"_top\" title=\"psysml:83dfbdb9-73af-4dff-b5ad-52a21a738594\" xlink:actuate=\"onRequest\" xlink:href=\"psysml:83dfbdb9-73af-4dff-b5ad-52a21a738594\" xlink:show=\"new\" xlink:title=\"psysml:83dfbdb9-73af-4dff-b5ad-52a21a738594\" xlink:type=\"simple\"><path d=\"M123.65,420.81 C129.2,378.86 138.42,309.06 144.08,266.23 \" fill=\"none\" id=\"E8&lt;-E3\" style=\"stroke: #383838; stroke-width: 1.0;\"/><polygon fill=\"#FFFFFF\" points=\"121.92,433.89,126.6755,428.4692,123.5008,421.9946,118.7453,427.4154,121.92,433.89\" style=\"stroke: #383838; stroke-width: 1.0;\"/><text fill=\"#000000\" font-family=\"sans-serif\" font-size=\"13\" lengthAdjust=\"spacingAndGlyphs\" textLength=\"7\" x=\"136\" y=\"354.5669\">y</text></a><!--MD5=[0d75d2178373a6a4568e5dc728f58aef]\n",
       "reverse link E8 to E6--><a href=\"psysml:83dfbdb9-73af-4dff-b5ad-52a21a738594\" target=\"_top\" title=\"psysml:83dfbdb9-73af-4dff-b5ad-52a21a738594\" xlink:actuate=\"onRequest\" xlink:href=\"psysml:83dfbdb9-73af-4dff-b5ad-52a21a738594\" xlink:show=\"new\" xlink:title=\"psysml:83dfbdb9-73af-4dff-b5ad-52a21a738594\" xlink:type=\"simple\"><path d=\"M119,493.22 C119,513.81 119,539.16 119,556.95 \" fill=\"none\" id=\"E8&lt;-E6\" style=\"stroke: #383838; stroke-width: 1.0;\"/><polygon fill=\"#FFFFFF\" points=\"119,480.19,115,486.19,119,492.19,123,486.19,119,480.19\" style=\"stroke: #383838; stroke-width: 1.0;\"/><text fill=\"#000000\" font-family=\"sans-serif\" font-size=\"13\" lengthAdjust=\"spacingAndGlyphs\" textLength=\"7\" x=\"120\" y=\"523.0669\">y</text></a><!--MD5=[b7e90a687d5e61e64bfabf38335f7f3f]\n",
       "@startuml\r\n",
       "skinparam linetype polyline\r\n",
       "skinparam monochrome true\r\n",
       "skinparam classbackgroundcolor white\r\n",
       "skinparam shadowing false\r\n",
       "skinparam wrapWidth 300\r\n",
       "hide circle\r\n",
       "\r\n",
       "package \"ItemTest\" as E1  [[psysml:ffb2e2dc-9c37-4787-be7c-ae8a88a6d943 ]]  {\r\n",
       "comp usage \"f: A\" as E2  <<(T,blue)item>> [[psysml:cf4d7795-98ee-4d9f-9cbf-a98072608f6d ]] {\r\n",
       "}\r\n",
       "comp def \"A\" as E3  <<(T,blue)item def>> [[psysml:be14fc81-3f83-42fd-a525-71826c91787f ]] {\r\n",
       "- - items - -\r\n",
       "b: B\r\n",
       "}\r\n",
       "comp usage \"c: C\" as E5  <<(T,blue)part>> [[psysml:77af57f1-340c-421d-9a30-1a49108711b3 ]] {\r\n",
       "}\r\n",
       "comp def \"B\" as E6  <<(T,blue)item def>> [[psysml:41f55b44-de87-42d8-a9cd-035ede31bd10 ]] {\r\n",
       "}\r\n",
       "comp usage \"a: A\" as E7  <<(T,blue)part>> [[psysml:4ca48e5a-78fa-40b6-ad88-229f08c03677 ]] {\r\n",
       "}\r\n",
       "comp def \"C\" as E8  <<(T,blue)part def>> [[psysml:e612b3f8-fad7-4b05-bdfc-52877d32f7f2 ]] {\r\n",
       "}\r\n",
       "comp def \"P\" as E9  <<(T,blue)port def>> [[psysml:b51b1cf2-e677-402d-bf05-bb2fae798694 ]] {\r\n",
       "- - items - -\r\n",
       "a1: A\r\n",
       "a2: A\r\n",
       "}\r\n",
       "E2 - -:|> E3 [[psysml:5c778f2f-9d99-44f7-9cbe-495e6850b493 ]] \r\n",
       "E3 o- - E5 [[psysml:77af57f1-340c-421d-9a30-1a49108711b3 ]] \r\n",
       "E7 - -:|> E3 [[psysml:8bb447da-4a21-4000-9a04-f9f9c4ed48f1 ]] \r\n",
       "E6 *- - E7 [[psysml:4ca48e5a-78fa-40b6-ad88-229f08c03677 ]] \r\n",
       "E5 - -:|> E8 [[psysml:6ff88c17-8c2d-42a4-af32-a2455d6f0acf ]] \r\n",
       "E8 o- - E3 [[psysml:83dfbdb9-73af-4dff-b5ad-52a21a738594 ]] : y\r\n",
       "E8 o- - E6 [[psysml:83dfbdb9-73af-4dff-b5ad-52a21a738594 ]] : y\r\n",
       "}\r\n",
       "@enduml\r\n",
       "\n",
       "PlantUML version 1.2020.13(Sat Jun 13 12:26:38 UTC 2020)\n",
       "(EPL source distribution)\n",
       "Java Runtime: OpenJDK Runtime Environment\n",
       "JVM: OpenJDK 64-Bit Server VM\n",
       "Default Encoding: UTF-8\n",
       "Language: en\n",
       "Country: null\n",
       "--></g></svg>"
      ]
     },
     "execution_count": 10,
     "metadata": {},
     "output_type": "execute_result"
    }
   ],
   "source": [
    "%viz --style=\"POLYLINE\" --view=\"Tree\" \"ItemTest\""
   ]
  },
  {
   "cell_type": "code",
   "execution_count": 11,
   "id": "posted-charm",
   "metadata": {
    "execution": {
     "iopub.execute_input": "2021-03-25T15:10:19.292835Z",
     "iopub.status.busy": "2021-03-25T15:10:19.292109Z",
     "iopub.status.idle": "2021-03-25T15:10:19.303361Z",
     "shell.execute_reply": "2021-03-25T15:10:19.302954Z"
    }
   },
   "outputs": [
    {
     "data": {
      "image/svg+xml": [
       "<?xml version=\"1.0\" encoding=\"UTF-8\" standalone=\"no\"?><svg xmlns=\"http://www.w3.org/2000/svg\" xmlns:xlink=\"http://www.w3.org/1999/xlink\" contentScriptType=\"application/ecmascript\" contentStyleType=\"text/css\" height=\"12px\" preserveAspectRatio=\"none\" style=\"width:12px;height:12px;\" version=\"1.1\" viewBox=\"0 0 12 12\" width=\"12px\" zoomAndPan=\"magnify\"><defs/><g><!--MD5=[896ac0e7a515d8dd7765a661cb4ee08b]\n",
       "@startuml\r\n",
       "skinparam linetype polyline\r\n",
       "skinparam monochrome true\r\n",
       "skinparam classbackgroundcolor white\r\n",
       "skinparam shadowing false\r\n",
       "skinparam wrapWidth 300\r\n",
       "hide circle\r\n",
       "\r\n",
       "@enduml\r\n",
       "\n",
       "PlantUML version 1.2020.13(Sat Jun 13 12:26:38 UTC 2020)\n",
       "(EPL source distribution)\n",
       "Java Runtime: OpenJDK Runtime Environment\n",
       "JVM: OpenJDK 64-Bit Server VM\n",
       "Default Encoding: UTF-8\n",
       "Language: en\n",
       "Country: null\n",
       "--></g></svg>"
      ]
     },
     "execution_count": 11,
     "metadata": {},
     "output_type": "execute_result"
    }
   ],
   "source": [
    "%viz --style=\"POLYLINE\" --view=\"State\" \"ItemTest\""
   ]
  },
  {
   "cell_type": "code",
   "execution_count": 12,
   "id": "reflected-ordinance",
   "metadata": {
    "execution": {
     "iopub.execute_input": "2021-03-25T15:10:19.354275Z",
     "iopub.status.busy": "2021-03-25T15:10:19.353813Z",
     "iopub.status.idle": "2021-03-25T15:10:19.466068Z",
     "shell.execute_reply": "2021-03-25T15:10:19.463619Z"
    }
   },
   "outputs": [
    {
     "data": {
      "image/svg+xml": [
       "<?xml version=\"1.0\" encoding=\"UTF-8\" standalone=\"no\"?><svg xmlns=\"http://www.w3.org/2000/svg\" xmlns:xlink=\"http://www.w3.org/1999/xlink\" contentScriptType=\"application/ecmascript\" contentStyleType=\"text/css\" height=\"195px\" preserveAspectRatio=\"none\" style=\"width:711px;height:195px;\" version=\"1.1\" viewBox=\"0 0 711 195\" width=\"711px\" zoomAndPan=\"magnify\"><defs/><g><!--MD5=[fbc87193dbaf4d95561dea2c320d4a47]\n",
       "cluster E1--><a href=\"psysml:ffb2e2dc-9c37-4787-be7c-ae8a88a6d943\" target=\"_top\" title=\"psysml:ffb2e2dc-9c37-4787-be7c-ae8a88a6d943\" xlink:actuate=\"onRequest\" xlink:href=\"psysml:ffb2e2dc-9c37-4787-be7c-ae8a88a6d943\" xlink:show=\"new\" xlink:title=\"psysml:ffb2e2dc-9c37-4787-be7c-ae8a88a6d943\" xlink:type=\"simple\"><polygon fill=\"#FFFFFF\" points=\"16,6,91,6,98,28.2969,689,28.2969,689,183,16,183,16,6\" style=\"stroke: #000000; stroke-width: 1.5;\"/><line style=\"stroke: #000000; stroke-width: 1.5;\" x1=\"16\" x2=\"98\" y1=\"28.2969\" y2=\"28.2969\"/><text fill=\"#000000\" font-family=\"sans-serif\" font-size=\"14\" font-weight=\"bold\" lengthAdjust=\"spacingAndGlyphs\" textLength=\"69\" x=\"20\" y=\"20.9951\">ItemTest</text></a><!--MD5=[de5ec2e2e8f62f467e546659f5068c88]\n",
       "cluster E5--><a href=\"psysml:e612b3f8-fad7-4b05-bdfc-52877d32f7f2\" target=\"_top\" title=\"psysml:e612b3f8-fad7-4b05-bdfc-52877d32f7f2\" xlink:actuate=\"onRequest\" xlink:href=\"psysml:e612b3f8-fad7-4b05-bdfc-52877d32f7f2\" xlink:show=\"new\" xlink:title=\"psysml:e612b3f8-fad7-4b05-bdfc-52877d32f7f2\" xlink:type=\"simple\"><rect fill=\"#FFFFFF\" height=\"110\" id=\"E5\" style=\"stroke: #383838; stroke-width: 1.5;\" width=\"114\" x=\"551\" y=\"49\"/><rect fill=\"#F8F8F8\" height=\"37.9375\" style=\"stroke: #383838; stroke-width: 1.5;\" width=\"114\" x=\"551\" y=\"49\"/><text fill=\"#000000\" font-family=\"sans-serif\" font-size=\"12\" font-style=\"italic\" lengthAdjust=\"spacingAndGlyphs\" textLength=\"64\" x=\"576\" y=\"65.1387\">«part def»</text><text fill=\"#000000\" font-family=\"sans-serif\" font-size=\"12\" lengthAdjust=\"spacingAndGlyphs\" textLength=\"8\" x=\"604\" y=\"79.1074\">C</text></a><!--MD5=[09b614a08d8cba4a07c9adeb5e0fee81]\n",
       "class E3--><a href=\"psysml:be14fc81-3f83-42fd-a525-71826c91787f\" target=\"_top\" title=\"psysml:be14fc81-3f83-42fd-a525-71826c91787f\" xlink:actuate=\"onRequest\" xlink:href=\"psysml:be14fc81-3f83-42fd-a525-71826c91787f\" xlink:show=\"new\" xlink:title=\"psysml:be14fc81-3f83-42fd-a525-71826c91787f\" xlink:type=\"simple\"><rect fill=\"#FFFFFF\" height=\"53.9375\" id=\"E3\" style=\"stroke: #383838; stroke-width: 1.5;\" width=\"115\" x=\"416.5\" y=\"94.5\"/><text fill=\"#000000\" font-family=\"sans-serif\" font-size=\"12\" font-style=\"italic\" lengthAdjust=\"spacingAndGlyphs\" textLength=\"113\" x=\"417.5\" y=\"110.6387\">«(T,blue)item def»</text><text fill=\"#000000\" font-family=\"sans-serif\" font-size=\"12\" lengthAdjust=\"spacingAndGlyphs\" textLength=\"8\" x=\"470\" y=\"124.6074\">A</text><line style=\"stroke: #383838; stroke-width: 1.5;\" x1=\"417.5\" x2=\"530.5\" y1=\"132.4375\" y2=\"132.4375\"/><line style=\"stroke: #383838; stroke-width: 1.5;\" x1=\"417.5\" x2=\"530.5\" y1=\"140.4375\" y2=\"140.4375\"/></a><!--MD5=[ebbe1d658d1005bcc118a6aa81145e00]\n",
       "class E4--><a href=\"psysml:41f55b44-de87-42d8-a9cd-035ede31bd10\" target=\"_top\" title=\"psysml:41f55b44-de87-42d8-a9cd-035ede31bd10\" xlink:actuate=\"onRequest\" xlink:href=\"psysml:41f55b44-de87-42d8-a9cd-035ede31bd10\" xlink:show=\"new\" xlink:title=\"psysml:41f55b44-de87-42d8-a9cd-035ede31bd10\" xlink:type=\"simple\"><rect fill=\"#FFFFFF\" height=\"53.9375\" id=\"E4\" style=\"stroke: #383838; stroke-width: 1.5;\" width=\"115\" x=\"266.5\" y=\"94.5\"/><text fill=\"#000000\" font-family=\"sans-serif\" font-size=\"12\" font-style=\"italic\" lengthAdjust=\"spacingAndGlyphs\" textLength=\"113\" x=\"267.5\" y=\"110.6387\">«(T,blue)item def»</text><text fill=\"#000000\" font-family=\"sans-serif\" font-size=\"12\" lengthAdjust=\"spacingAndGlyphs\" textLength=\"8\" x=\"320\" y=\"124.6074\">B</text><line style=\"stroke: #383838; stroke-width: 1.5;\" x1=\"267.5\" x2=\"380.5\" y1=\"132.4375\" y2=\"132.4375\"/><line style=\"stroke: #383838; stroke-width: 1.5;\" x1=\"267.5\" x2=\"380.5\" y1=\"140.4375\" y2=\"140.4375\"/></a><!--MD5=[2156ba9850f5573cc1fc38a6a4b2f02b]\n",
       "class E7--><a href=\"psysml:b51b1cf2-e677-402d-bf05-bb2fae798694\" target=\"_top\" title=\"psysml:b51b1cf2-e677-402d-bf05-bb2fae798694\" xlink:actuate=\"onRequest\" xlink:href=\"psysml:b51b1cf2-e677-402d-bf05-bb2fae798694\" xlink:show=\"new\" xlink:title=\"psysml:b51b1cf2-e677-402d-bf05-bb2fae798694\" xlink:type=\"simple\"><rect fill=\"#FFFFFF\" height=\"53.9375\" id=\"E7\" style=\"stroke: #383838; stroke-width: 1.5;\" width=\"114\" x=\"117\" y=\"94.5\"/><text fill=\"#000000\" font-family=\"sans-serif\" font-size=\"12\" font-style=\"italic\" lengthAdjust=\"spacingAndGlyphs\" textLength=\"112\" x=\"118\" y=\"110.6387\">«(T,blue)port def»</text><text fill=\"#000000\" font-family=\"sans-serif\" font-size=\"12\" lengthAdjust=\"spacingAndGlyphs\" textLength=\"8\" x=\"170\" y=\"124.6074\">P</text><line style=\"stroke: #383838; stroke-width: 1.5;\" x1=\"118\" x2=\"230\" y1=\"132.4375\" y2=\"132.4375\"/><line style=\"stroke: #383838; stroke-width: 1.5;\" x1=\"118\" x2=\"230\" y1=\"140.4375\" y2=\"140.4375\"/></a><g id=\"E1.E2\"><a href=\"psysml:cf4d7795-98ee-4d9f-9cbf-a98072608f6d\" target=\"_top\" title=\"psysml:cf4d7795-98ee-4d9f-9cbf-a98072608f6d\" xlink:actuate=\"onRequest\" xlink:href=\"psysml:cf4d7795-98ee-4d9f-9cbf-a98072608f6d\" xlink:show=\"new\" xlink:title=\"psysml:cf4d7795-98ee-4d9f-9cbf-a98072608f6d\" xlink:type=\"simple\"><rect fill=\"#FFFFFF\" height=\"42.9375\" id=\"E2\" rx=\"10\" ry=\"10\" style=\"stroke: #383838; stroke-width: 1.5;\" width=\"50\" x=\"32\" y=\"100\"/><rect fill=\"#F8F8F8\" height=\"37.9375\" rx=\"10\" ry=\"10\" style=\"stroke: #F8F8F8; stroke-width: 1.5;\" width=\"50\" x=\"32\" y=\"100\"/><rect fill=\"#F8F8F8\" height=\"10\" style=\"stroke: #F8F8F8; stroke-width: 1.5;\" width=\"50\" x=\"32\" y=\"127.9375\"/><rect fill=\"none\" height=\"42.9375\" id=\"E2\" rx=\"10\" ry=\"10\" style=\"stroke: #383838; stroke-width: 1.5;\" width=\"50\" x=\"32\" y=\"100\"/><text fill=\"#000000\" font-family=\"sans-serif\" font-size=\"12\" font-style=\"italic\" lengthAdjust=\"spacingAndGlyphs\" textLength=\"41\" x=\"36.5\" y=\"116.1387\">«item»</text><text fill=\"#000000\" font-family=\"sans-serif\" font-size=\"12\" lengthAdjust=\"spacingAndGlyphs\" textLength=\"20\" x=\"47\" y=\"130.1074\">f: A</text></a></g><g id=\"E1.E5.E6\"><a href=\"psysml:83dfbdb9-73af-4dff-b5ad-52a21a738594\" target=\"_top\" title=\"psysml:83dfbdb9-73af-4dff-b5ad-52a21a738594\" xlink:actuate=\"onRequest\" xlink:href=\"psysml:83dfbdb9-73af-4dff-b5ad-52a21a738594\" xlink:show=\"new\" xlink:title=\"psysml:83dfbdb9-73af-4dff-b5ad-52a21a738594\" xlink:type=\"simple\"><rect fill=\"#FFFFFF\" height=\"42.9375\" id=\"E6\" rx=\"10\" ry=\"10\" style=\"stroke: #383838; stroke-width: 1.5;\" width=\"82\" x=\"567\" y=\"100\"/><rect fill=\"#F8F8F8\" height=\"37.9375\" rx=\"10\" ry=\"10\" style=\"stroke: #F8F8F8; stroke-width: 1.5;\" width=\"82\" x=\"567\" y=\"100\"/><rect fill=\"#F8F8F8\" height=\"10\" style=\"stroke: #F8F8F8; stroke-width: 1.5;\" width=\"82\" x=\"567\" y=\"127.9375\"/><rect fill=\"none\" height=\"42.9375\" id=\"E6\" rx=\"10\" ry=\"10\" style=\"stroke: #383838; stroke-width: 1.5;\" width=\"82\" x=\"567\" y=\"100\"/><text fill=\"#000000\" font-family=\"sans-serif\" font-size=\"12\" font-style=\"italic\" lengthAdjust=\"spacingAndGlyphs\" textLength=\"75\" x=\"570.5\" y=\"116.1387\">«reference»</text><text fill=\"#000000\" font-family=\"sans-serif\" font-size=\"12\" lengthAdjust=\"spacingAndGlyphs\" textLength=\"38\" x=\"589\" y=\"130.1074\">y: A, B</text></a></g><!--MD5=[43da31c31f79f1a3a575b4c3d682d480]\n",
       "@startuml\r\n",
       "skinparam ranksep 8\r\n",
       "skinparam rectangle {\r\n",
       " backgroundColor<<block>> LightGreen\r\n",
       "}\r\n",
       "skinparam linetype polyline\r\n",
       "skinparam monochrome true\r\n",
       "skinparam classbackgroundcolor white\r\n",
       "skinparam shadowing false\r\n",
       "skinparam wrapWidth 300\r\n",
       "hide circle\r\n",
       "\r\n",
       "package \"ItemTest\" as E1  [[psysml:ffb2e2dc-9c37-4787-be7c-ae8a88a6d943 ]]  {\r\n",
       "rec usage \"f: A\" as E2  <<(T,blue)item>> [[psysml:cf4d7795-98ee-4d9f-9cbf-a98072608f6d ]] {\r\n",
       "}\r\n",
       "def \"A\" as E3  <<(T,blue)item def>> [[psysml:be14fc81-3f83-42fd-a525-71826c91787f ]] \r\n",
       "def \"B\" as E4  <<(T,blue)item def>> [[psysml:41f55b44-de87-42d8-a9cd-035ede31bd10 ]] \r\n",
       "rec def \"C\" as E5  <<(T,blue)part def>> [[psysml:e612b3f8-fad7-4b05-bdfc-52877d32f7f2 ]] {\r\n",
       "rec usage \"y: A, B\" as E6  <<(T,blue)reference>> [[psysml:83dfbdb9-73af-4dff-b5ad-52a21a738594 ]] {\r\n",
       "}\r\n",
       "}\r\n",
       "def \"P\" as E7  <<(T,blue)port def>> [[psysml:b51b1cf2-e677-402d-bf05-bb2fae798694 ]] \r\n",
       "}\r\n",
       "@enduml\r\n",
       "\n",
       "PlantUML version 1.2020.13(Sat Jun 13 12:26:38 UTC 2020)\n",
       "(EPL source distribution)\n",
       "Java Runtime: OpenJDK Runtime Environment\n",
       "JVM: OpenJDK 64-Bit Server VM\n",
       "Default Encoding: UTF-8\n",
       "Language: en\n",
       "Country: null\n",
       "--></g></svg>"
      ]
     },
     "execution_count": 12,
     "metadata": {},
     "output_type": "execute_result"
    }
   ],
   "source": [
    "%viz --style=\"POLYLINE\" --view=\"Interconnection\" \"ItemTest\""
   ]
  },
  {
   "cell_type": "code",
   "execution_count": 13,
   "id": "eligible-reduction",
   "metadata": {
    "execution": {
     "iopub.execute_input": "2021-03-25T15:10:19.514904Z",
     "iopub.status.busy": "2021-03-25T15:10:19.514185Z",
     "iopub.status.idle": "2021-03-25T15:10:19.523081Z",
     "shell.execute_reply": "2021-03-25T15:10:19.522737Z"
    }
   },
   "outputs": [
    {
     "data": {
      "image/svg+xml": [
       "<?xml version=\"1.0\" encoding=\"UTF-8\" standalone=\"no\"?><svg xmlns=\"http://www.w3.org/2000/svg\" xmlns:xlink=\"http://www.w3.org/1999/xlink\" contentScriptType=\"application/ecmascript\" contentStyleType=\"text/css\" height=\"12px\" preserveAspectRatio=\"none\" style=\"width:12px;height:12px;\" version=\"1.1\" viewBox=\"0 0 12 12\" width=\"12px\" zoomAndPan=\"magnify\"><defs/><g><!--MD5=[97bbf32f66ccd50cbc40d92ea8f5a65e]\n",
       "@startuml\r\n",
       "skinparam ranksep 8\r\n",
       "skinparam linetype polyline\r\n",
       "skinparam monochrome true\r\n",
       "skinparam classbackgroundcolor white\r\n",
       "skinparam shadowing false\r\n",
       "skinparam wrapWidth 300\r\n",
       "hide circle\r\n",
       "\r\n",
       "@enduml\r\n",
       "\n",
       "PlantUML version 1.2020.13(Sat Jun 13 12:26:38 UTC 2020)\n",
       "(EPL source distribution)\n",
       "Java Runtime: OpenJDK Runtime Environment\n",
       "JVM: OpenJDK 64-Bit Server VM\n",
       "Default Encoding: UTF-8\n",
       "Language: en\n",
       "Country: null\n",
       "--></g></svg>"
      ]
     },
     "execution_count": 13,
     "metadata": {},
     "output_type": "execute_result"
    }
   ],
   "source": [
    "%viz --style=\"POLYLINE\" --view=\"Action\" \"ItemTest\""
   ]
  },
  {
   "cell_type": "code",
   "execution_count": 14,
   "id": "copyrighted-entrance",
   "metadata": {
    "execution": {
     "iopub.execute_input": "2021-03-25T15:10:19.574386Z",
     "iopub.status.busy": "2021-03-25T15:10:19.574018Z",
     "iopub.status.idle": "2021-03-25T15:10:19.862453Z",
     "shell.execute_reply": "2021-03-25T15:10:19.860970Z"
    }
   },
   "outputs": [
    {
     "data": {
      "image/svg+xml": [
       "<?xml version=\"1.0\" encoding=\"UTF-8\" standalone=\"no\"?><svg xmlns=\"http://www.w3.org/2000/svg\" xmlns:xlink=\"http://www.w3.org/1999/xlink\" contentScriptType=\"application/ecmascript\" contentStyleType=\"text/css\" height=\"738px\" preserveAspectRatio=\"none\" style=\"width:228px;height:738px;\" version=\"1.1\" viewBox=\"0 0 228 738\" width=\"228px\" zoomAndPan=\"magnify\"><defs/><g><!--MD5=[fbc87193dbaf4d95561dea2c320d4a47]\n",
       "cluster E1--><a href=\"psysml:ffb2e2dc-9c37-4787-be7c-ae8a88a6d943\" target=\"_top\" title=\"psysml:ffb2e2dc-9c37-4787-be7c-ae8a88a6d943\" xlink:actuate=\"onRequest\" xlink:href=\"psysml:ffb2e2dc-9c37-4787-be7c-ae8a88a6d943\" xlink:show=\"new\" xlink:title=\"psysml:ffb2e2dc-9c37-4787-be7c-ae8a88a6d943\" xlink:type=\"simple\"><polygon fill=\"#FFFFFF\" points=\"16,6,91,6,98,28.2969,206,28.2969,206,726,16,726,16,6\" style=\"stroke: #000000; stroke-width: 1.5;\"/><line style=\"stroke: #000000; stroke-width: 1.5;\" x1=\"16\" x2=\"98\" y1=\"28.2969\" y2=\"28.2969\"/><text fill=\"#000000\" font-family=\"sans-serif\" font-size=\"14\" font-weight=\"bold\" lengthAdjust=\"spacingAndGlyphs\" textLength=\"69\" x=\"20\" y=\"20.9951\">ItemTest</text></a><!--MD5=[b4997ac47864f28c2f74865a473b2911]\n",
       "class E2--><a href=\"psysml:cf4d7795-98ee-4d9f-9cbf-a98072608f6d\" target=\"_top\" title=\"psysml:cf4d7795-98ee-4d9f-9cbf-a98072608f6d\" xlink:actuate=\"onRequest\" xlink:href=\"psysml:cf4d7795-98ee-4d9f-9cbf-a98072608f6d\" xlink:show=\"new\" xlink:title=\"psysml:cf4d7795-98ee-4d9f-9cbf-a98072608f6d\" xlink:type=\"simple\"><rect fill=\"#FFFFFF\" height=\"45.9375\" id=\"E2\" rx=\"10\" ry=\"10\" style=\"stroke: #383838; stroke-width: 1.5;\" width=\"43\" x=\"133.5\" y=\"62\"/><text fill=\"#000000\" font-family=\"sans-serif\" font-size=\"12\" font-style=\"italic\" lengthAdjust=\"spacingAndGlyphs\" textLength=\"41\" x=\"134.5\" y=\"78.1387\">«item»</text><text fill=\"#000000\" font-family=\"sans-serif\" font-size=\"12\" lengthAdjust=\"spacingAndGlyphs\" textLength=\"20\" x=\"145\" y=\"92.1074\">f: A</text><line style=\"stroke: #383838; stroke-width: 1.5;\" x1=\"134.5\" x2=\"175.5\" y1=\"99.9375\" y2=\"99.9375\"/></a><!--MD5=[09b614a08d8cba4a07c9adeb5e0fee81]\n",
       "class E3--><a href=\"psysml:be14fc81-3f83-42fd-a525-71826c91787f\" target=\"_top\" title=\"psysml:be14fc81-3f83-42fd-a525-71826c91787f\" xlink:actuate=\"onRequest\" xlink:href=\"psysml:be14fc81-3f83-42fd-a525-71826c91787f\" xlink:show=\"new\" xlink:title=\"psysml:be14fc81-3f83-42fd-a525-71826c91787f\" xlink:type=\"simple\"><rect fill=\"#FFFFFF\" height=\"75.5469\" id=\"E3\" style=\"stroke: #383838; stroke-width: 1.5;\" width=\"67\" x=\"115.5\" y=\"190\"/><text fill=\"#000000\" font-family=\"sans-serif\" font-size=\"12\" font-style=\"italic\" lengthAdjust=\"spacingAndGlyphs\" textLength=\"65\" x=\"116.5\" y=\"206.1387\">«item def»</text><text fill=\"#000000\" font-family=\"sans-serif\" font-size=\"12\" lengthAdjust=\"spacingAndGlyphs\" textLength=\"8\" x=\"145\" y=\"220.1074\">A</text><line style=\"stroke: #383838; stroke-width: 1.5;\" x1=\"116.5\" x2=\"181.5\" y1=\"227.9375\" y2=\"227.9375\"/><text fill=\"#000000\" font-family=\"sans-serif\" font-size=\"11\" lengthAdjust=\"spacingAndGlyphs\" textLength=\"23\" x=\"121.5\" y=\"258.9526\">b: B</text><line style=\"stroke: #383838; stroke-width: 1.0;\" x1=\"116.5\" x2=\"133\" y1=\"242.3398\" y2=\"242.3398\"/><text fill=\"#000000\" font-family=\"sans-serif\" font-size=\"11\" lengthAdjust=\"spacingAndGlyphs\" textLength=\"32\" x=\"133\" y=\"245.6479\">items</text><line style=\"stroke: #383838; stroke-width: 1.0;\" x1=\"165\" x2=\"181.5\" y1=\"242.3398\" y2=\"242.3398\"/></a><!--MD5=[270fce915f116d4de14055a7c1d9a0f3]\n",
       "class E5--><a href=\"psysml:77af57f1-340c-421d-9a30-1a49108711b3\" target=\"_top\" title=\"psysml:77af57f1-340c-421d-9a30-1a49108711b3\" xlink:actuate=\"onRequest\" xlink:href=\"psysml:77af57f1-340c-421d-9a30-1a49108711b3\" xlink:show=\"new\" xlink:title=\"psysml:77af57f1-340c-421d-9a30-1a49108711b3\" xlink:type=\"simple\"><rect fill=\"#FFFFFF\" height=\"45.9375\" id=\"E5\" rx=\"10\" ry=\"10\" style=\"stroke: #383838; stroke-width: 1.5;\" width=\"42\" x=\"32\" y=\"327\"/><text fill=\"#000000\" font-family=\"sans-serif\" font-size=\"12\" font-style=\"italic\" lengthAdjust=\"spacingAndGlyphs\" textLength=\"40\" x=\"33\" y=\"343.1387\">«part»</text><text fill=\"#000000\" font-family=\"sans-serif\" font-size=\"12\" lengthAdjust=\"spacingAndGlyphs\" textLength=\"23\" x=\"41.5\" y=\"357.1074\">c: C</text><line style=\"stroke: #383838; stroke-width: 1.5;\" x1=\"33\" x2=\"73\" y1=\"364.9375\" y2=\"364.9375\"/></a><!--MD5=[60a26617385b1d2d0262a64233df1f8d]\n",
       "class E6--><a href=\"psysml:41f55b44-de87-42d8-a9cd-035ede31bd10\" target=\"_top\" title=\"psysml:41f55b44-de87-42d8-a9cd-035ede31bd10\" xlink:actuate=\"onRequest\" xlink:href=\"psysml:41f55b44-de87-42d8-a9cd-035ede31bd10\" xlink:show=\"new\" xlink:title=\"psysml:41f55b44-de87-42d8-a9cd-035ede31bd10\" xlink:type=\"simple\"><rect fill=\"#FFFFFF\" height=\"45.9375\" id=\"E6\" style=\"stroke: #383838; stroke-width: 1.5;\" width=\"67\" x=\"85.5\" y=\"557\"/><text fill=\"#000000\" font-family=\"sans-serif\" font-size=\"12\" font-style=\"italic\" lengthAdjust=\"spacingAndGlyphs\" textLength=\"65\" x=\"86.5\" y=\"573.1387\">«item def»</text><text fill=\"#000000\" font-family=\"sans-serif\" font-size=\"12\" lengthAdjust=\"spacingAndGlyphs\" textLength=\"8\" x=\"115\" y=\"587.1074\">B</text><line style=\"stroke: #383838; stroke-width: 1.5;\" x1=\"86.5\" x2=\"151.5\" y1=\"594.9375\" y2=\"594.9375\"/></a><!--MD5=[2156ba9850f5573cc1fc38a6a4b2f02b]\n",
       "class E7--><a href=\"psysml:4ca48e5a-78fa-40b6-ad88-229f08c03677\" target=\"_top\" title=\"psysml:4ca48e5a-78fa-40b6-ad88-229f08c03677\" xlink:actuate=\"onRequest\" xlink:href=\"psysml:4ca48e5a-78fa-40b6-ad88-229f08c03677\" xlink:show=\"new\" xlink:title=\"psysml:4ca48e5a-78fa-40b6-ad88-229f08c03677\" xlink:type=\"simple\"><rect fill=\"#FFFFFF\" height=\"45.9375\" id=\"E7\" rx=\"10\" ry=\"10\" style=\"stroke: #383838; stroke-width: 1.5;\" width=\"42\" x=\"123\" y=\"664\"/><text fill=\"#000000\" font-family=\"sans-serif\" font-size=\"12\" font-style=\"italic\" lengthAdjust=\"spacingAndGlyphs\" textLength=\"40\" x=\"124\" y=\"680.1387\">«part»</text><text fill=\"#000000\" font-family=\"sans-serif\" font-size=\"12\" lengthAdjust=\"spacingAndGlyphs\" textLength=\"24\" x=\"132\" y=\"694.1074\">a: A</text><line style=\"stroke: #383838; stroke-width: 1.5;\" x1=\"124\" x2=\"164\" y1=\"701.9375\" y2=\"701.9375\"/></a><!--MD5=[b9389687b975829384b498ac4b7476b2]\n",
       "class E8--><a href=\"psysml:e612b3f8-fad7-4b05-bdfc-52877d32f7f2\" target=\"_top\" title=\"psysml:e612b3f8-fad7-4b05-bdfc-52877d32f7f2\" xlink:actuate=\"onRequest\" xlink:href=\"psysml:e612b3f8-fad7-4b05-bdfc-52877d32f7f2\" xlink:show=\"new\" xlink:title=\"psysml:e612b3f8-fad7-4b05-bdfc-52877d32f7f2\" xlink:type=\"simple\"><rect fill=\"#FFFFFF\" height=\"45.9375\" id=\"E8\" style=\"stroke: #383838; stroke-width: 1.5;\" width=\"66\" x=\"86\" y=\"434\"/><text fill=\"#000000\" font-family=\"sans-serif\" font-size=\"12\" font-style=\"italic\" lengthAdjust=\"spacingAndGlyphs\" textLength=\"64\" x=\"87\" y=\"450.1387\">«part def»</text><text fill=\"#000000\" font-family=\"sans-serif\" font-size=\"12\" lengthAdjust=\"spacingAndGlyphs\" textLength=\"8\" x=\"115\" y=\"464.1074\">C</text><line style=\"stroke: #383838; stroke-width: 1.5;\" x1=\"87\" x2=\"151\" y1=\"471.9375\" y2=\"471.9375\"/></a><!--MD5=[fd4143e9d270a159db93a4ea2a975926]\n",
       "class E9--><a href=\"psysml:b51b1cf2-e677-402d-bf05-bb2fae798694\" target=\"_top\" title=\"psysml:b51b1cf2-e677-402d-bf05-bb2fae798694\" xlink:actuate=\"onRequest\" xlink:href=\"psysml:b51b1cf2-e677-402d-bf05-bb2fae798694\" xlink:show=\"new\" xlink:title=\"psysml:b51b1cf2-e677-402d-bf05-bb2fae798694\" xlink:type=\"simple\"><rect fill=\"#FFFFFF\" height=\"88.3516\" id=\"E9\" style=\"stroke: #383838; stroke-width: 1.5;\" width=\"66\" x=\"32\" y=\"41\"/><text fill=\"#000000\" font-family=\"sans-serif\" font-size=\"12\" font-style=\"italic\" lengthAdjust=\"spacingAndGlyphs\" textLength=\"64\" x=\"33\" y=\"57.1387\">«port def»</text><text fill=\"#000000\" font-family=\"sans-serif\" font-size=\"12\" lengthAdjust=\"spacingAndGlyphs\" textLength=\"8\" x=\"61\" y=\"71.1074\">P</text><line style=\"stroke: #383838; stroke-width: 1.5;\" x1=\"33\" x2=\"97\" y1=\"78.9375\" y2=\"78.9375\"/><text fill=\"#000000\" font-family=\"sans-serif\" font-size=\"11\" lengthAdjust=\"spacingAndGlyphs\" textLength=\"29\" x=\"38\" y=\"109.9526\">a1: A</text><text fill=\"#000000\" font-family=\"sans-serif\" font-size=\"11\" lengthAdjust=\"spacingAndGlyphs\" textLength=\"29\" x=\"38\" y=\"122.7573\">a2: A</text><line style=\"stroke: #383838; stroke-width: 1.0;\" x1=\"33\" x2=\"49\" y1=\"93.3398\" y2=\"93.3398\"/><text fill=\"#000000\" font-family=\"sans-serif\" font-size=\"11\" lengthAdjust=\"spacingAndGlyphs\" textLength=\"32\" x=\"49\" y=\"96.6479\">items</text><line style=\"stroke: #383838; stroke-width: 1.0;\" x1=\"81\" x2=\"97\" y1=\"93.3398\" y2=\"93.3398\"/></a><!--MD5=[2720a5a1f2c3fca2055b230370638851]\n",
       "link E2 to E3--><a href=\"psysml:5c778f2f-9d99-44f7-9cbe-495e6850b493\" target=\"_top\" title=\"psysml:5c778f2f-9d99-44f7-9cbe-495e6850b493\" xlink:actuate=\"onRequest\" xlink:href=\"psysml:5c778f2f-9d99-44f7-9cbe-495e6850b493\" xlink:show=\"new\" xlink:title=\"psysml:5c778f2f-9d99-44f7-9cbe-495e6850b493\" xlink:type=\"simple\"><path d=\"M154.06,108.03 C153.36,124.58 152.36,148.04 151.44,169.76 \" fill=\"none\" id=\"E2-&gt;E3\" style=\"stroke: #383838; stroke-width: 1.0;\"/><polygon fill=\"#FFFFFF\" points=\"150.58,189.77,144.4005,170.4875,158.3877,171.0874,150.58,189.77\" style=\"stroke: #383838; stroke-width: 1.0;\"/><ellipse cx=\"146.6429\" cy=\"164.8784\" fill=\"#383838\" rx=\"2\" ry=\"2\" style=\"stroke: #383838; stroke-width: 1.0;\"/><ellipse cx=\"156.6338\" cy=\"165.3069\" fill=\"#383838\" rx=\"2\" ry=\"2\" style=\"stroke: #383838; stroke-width: 1.0;\"/></a><!--MD5=[191cde3d490a3f6d7bb551fe3ddca469]\n",
       "reverse link E3 to E5--><a href=\"psysml:77af57f1-340c-421d-9a30-1a49108711b3\" target=\"_top\" title=\"psysml:77af57f1-340c-421d-9a30-1a49108711b3\" xlink:actuate=\"onRequest\" xlink:href=\"psysml:77af57f1-340c-421d-9a30-1a49108711b3\" xlink:show=\"new\" xlink:title=\"psysml:77af57f1-340c-421d-9a30-1a49108711b3\" xlink:type=\"simple\"><path d=\"M110.75,276.82 C96.95,294.07 82.02,312.72 70.8,326.75 \" fill=\"none\" id=\"E3&lt;-E5\" style=\"stroke: #383838; stroke-width: 1.0;\"/><polygon fill=\"#FFFFFF\" points=\"119.15,266.31,112.2784,268.4964,111.6537,275.6804,118.5253,273.494,119.15,266.31\" style=\"stroke: #383838; stroke-width: 1.0;\"/></a><!--MD5=[14ccda38c055a5c0da953d572bc50960]\n",
       "link E7 to E3--><a href=\"psysml:8bb447da-4a21-4000-9a04-f9f9c4ed48f1\" target=\"_top\" title=\"psysml:8bb447da-4a21-4000-9a04-f9f9c4ed48f1\" xlink:actuate=\"onRequest\" xlink:href=\"psysml:8bb447da-4a21-4000-9a04-f9f9c4ed48f1\" xlink:show=\"new\" xlink:title=\"psysml:8bb447da-4a21-4000-9a04-f9f9c4ed48f1\" xlink:type=\"simple\"><path d=\"M153.43,663.99 C166.63,633.2 189,581 189,581 C189,349 189,349 189,349 C189,349 178.25,316.76 167.9,285.7 \" fill=\"none\" id=\"E7-&gt;E3\" style=\"stroke: #383838; stroke-width: 1.0;\"/><polygon fill=\"#FFFFFF\" points=\"161.44,266.31,174.0927,282.1185,160.8121,286.5487,161.44,266.31\" style=\"stroke: #383838; stroke-width: 1.0;\"/><ellipse cx=\"173.9992\" cy=\"288.1585\" fill=\"#383838\" rx=\"2\" ry=\"2\" style=\"stroke: #383838; stroke-width: 1.0;\"/><ellipse cx=\"164.5131\" cy=\"291.3229\" fill=\"#383838\" rx=\"2\" ry=\"2\" style=\"stroke: #383838; stroke-width: 1.0;\"/></a><!--MD5=[3f50a3473f1dfb74d3f76443e03635af]\n",
       "reverse link E6 to E7--><a href=\"psysml:4ca48e5a-78fa-40b6-ad88-229f08c03677\" target=\"_top\" title=\"psysml:4ca48e5a-78fa-40b6-ad88-229f08c03677\" xlink:actuate=\"onRequest\" xlink:href=\"psysml:4ca48e5a-78fa-40b6-ad88-229f08c03677\" xlink:show=\"new\" xlink:title=\"psysml:4ca48e5a-78fa-40b6-ad88-229f08c03677\" xlink:type=\"simple\"><path d=\"M127.34,616.05 C131.08,631.76 135.39,649.82 138.68,663.66 \" fill=\"none\" id=\"E6&lt;-E7\" style=\"stroke: #383838; stroke-width: 1.0;\"/><polygon fill=\"#383838\" points=\"124.24,603.01,121.7406,609.7741,127.023,614.6828,129.5224,607.9187,124.24,603.01\" style=\"stroke: #383838; stroke-width: 1.0;\"/></a><!--MD5=[dfaffb906826c3e5aca635516100ff21]\n",
       "link E5 to E8--><a href=\"psysml:6ff88c17-8c2d-42a4-af32-a2455d6f0acf\" target=\"_top\" title=\"psysml:6ff88c17-8c2d-42a4-af32-a2455d6f0acf\" xlink:actuate=\"onRequest\" xlink:href=\"psysml:6ff88c17-8c2d-42a4-af32-a2455d6f0acf\" xlink:show=\"new\" xlink:title=\"psysml:6ff88c17-8c2d-42a4-af32-a2455d6f0acf\" xlink:type=\"simple\"><path d=\"M66.84,373.01 C74.79,385.67 85.02,401.94 94.31,416.72 \" fill=\"none\" id=\"E5-&gt;E8\" style=\"stroke: #383838; stroke-width: 1.0;\"/><polygon fill=\"#FFFFFF\" points=\"104.96,433.66,88.9212,421.3005,100.7735,413.8491,104.96,433.66\" style=\"stroke: #383838; stroke-width: 1.0;\"/><ellipse cx=\"87.5806\" cy=\"415.4104\" fill=\"#383838\" rx=\"2\" ry=\"2\" style=\"stroke: #383838; stroke-width: 1.0;\"/><ellipse cx=\"96.0465\" cy=\"410.088\" fill=\"#383838\" rx=\"2\" ry=\"2\" style=\"stroke: #383838; stroke-width: 1.0;\"/></a><!--MD5=[03c8294790d3c57651a1993cecff665f]\n",
       "reverse link E8 to E3--><a href=\"psysml:83dfbdb9-73af-4dff-b5ad-52a21a738594\" target=\"_top\" title=\"psysml:83dfbdb9-73af-4dff-b5ad-52a21a738594\" xlink:actuate=\"onRequest\" xlink:href=\"psysml:83dfbdb9-73af-4dff-b5ad-52a21a738594\" xlink:show=\"new\" xlink:title=\"psysml:83dfbdb9-73af-4dff-b5ad-52a21a738594\" xlink:type=\"simple\"><path d=\"M123.65,420.81 C129.2,378.86 138.42,309.06 144.08,266.23 \" fill=\"none\" id=\"E8&lt;-E3\" style=\"stroke: #383838; stroke-width: 1.0;\"/><polygon fill=\"#FFFFFF\" points=\"121.92,433.89,126.6755,428.4692,123.5008,421.9946,118.7453,427.4154,121.92,433.89\" style=\"stroke: #383838; stroke-width: 1.0;\"/><text fill=\"#000000\" font-family=\"sans-serif\" font-size=\"13\" lengthAdjust=\"spacingAndGlyphs\" textLength=\"7\" x=\"136\" y=\"354.5669\">y</text></a><!--MD5=[0d75d2178373a6a4568e5dc728f58aef]\n",
       "reverse link E8 to E6--><a href=\"psysml:83dfbdb9-73af-4dff-b5ad-52a21a738594\" target=\"_top\" title=\"psysml:83dfbdb9-73af-4dff-b5ad-52a21a738594\" xlink:actuate=\"onRequest\" xlink:href=\"psysml:83dfbdb9-73af-4dff-b5ad-52a21a738594\" xlink:show=\"new\" xlink:title=\"psysml:83dfbdb9-73af-4dff-b5ad-52a21a738594\" xlink:type=\"simple\"><path d=\"M119,493.22 C119,513.81 119,539.16 119,556.95 \" fill=\"none\" id=\"E8&lt;-E6\" style=\"stroke: #383838; stroke-width: 1.0;\"/><polygon fill=\"#FFFFFF\" points=\"119,480.19,115,486.19,119,492.19,123,486.19,119,480.19\" style=\"stroke: #383838; stroke-width: 1.0;\"/><text fill=\"#000000\" font-family=\"sans-serif\" font-size=\"13\" lengthAdjust=\"spacingAndGlyphs\" textLength=\"7\" x=\"120\" y=\"523.0669\">y</text></a><!--MD5=[b7e90a687d5e61e64bfabf38335f7f3f]\n",
       "@startuml\r\n",
       "skinparam linetype polyline\r\n",
       "skinparam monochrome true\r\n",
       "skinparam classbackgroundcolor white\r\n",
       "skinparam shadowing false\r\n",
       "skinparam wrapWidth 300\r\n",
       "hide circle\r\n",
       "\r\n",
       "package \"ItemTest\" as E1  [[psysml:ffb2e2dc-9c37-4787-be7c-ae8a88a6d943 ]]  {\r\n",
       "comp usage \"f: A\" as E2  <<(T,blue)item>> [[psysml:cf4d7795-98ee-4d9f-9cbf-a98072608f6d ]] {\r\n",
       "}\r\n",
       "comp def \"A\" as E3  <<(T,blue)item def>> [[psysml:be14fc81-3f83-42fd-a525-71826c91787f ]] {\r\n",
       "- - items - -\r\n",
       "b: B\r\n",
       "}\r\n",
       "comp usage \"c: C\" as E5  <<(T,blue)part>> [[psysml:77af57f1-340c-421d-9a30-1a49108711b3 ]] {\r\n",
       "}\r\n",
       "comp def \"B\" as E6  <<(T,blue)item def>> [[psysml:41f55b44-de87-42d8-a9cd-035ede31bd10 ]] {\r\n",
       "}\r\n",
       "comp usage \"a: A\" as E7  <<(T,blue)part>> [[psysml:4ca48e5a-78fa-40b6-ad88-229f08c03677 ]] {\r\n",
       "}\r\n",
       "comp def \"C\" as E8  <<(T,blue)part def>> [[psysml:e612b3f8-fad7-4b05-bdfc-52877d32f7f2 ]] {\r\n",
       "}\r\n",
       "comp def \"P\" as E9  <<(T,blue)port def>> [[psysml:b51b1cf2-e677-402d-bf05-bb2fae798694 ]] {\r\n",
       "- - items - -\r\n",
       "a1: A\r\n",
       "a2: A\r\n",
       "}\r\n",
       "E2 - -:|> E3 [[psysml:5c778f2f-9d99-44f7-9cbe-495e6850b493 ]] \r\n",
       "E3 o- - E5 [[psysml:77af57f1-340c-421d-9a30-1a49108711b3 ]] \r\n",
       "E7 - -:|> E3 [[psysml:8bb447da-4a21-4000-9a04-f9f9c4ed48f1 ]] \r\n",
       "E6 *- - E7 [[psysml:4ca48e5a-78fa-40b6-ad88-229f08c03677 ]] \r\n",
       "E5 - -:|> E8 [[psysml:6ff88c17-8c2d-42a4-af32-a2455d6f0acf ]] \r\n",
       "E8 o- - E3 [[psysml:83dfbdb9-73af-4dff-b5ad-52a21a738594 ]] : y\r\n",
       "E8 o- - E6 [[psysml:83dfbdb9-73af-4dff-b5ad-52a21a738594 ]] : y\r\n",
       "}\r\n",
       "@enduml\r\n",
       "\n",
       "PlantUML version 1.2020.13(Sat Jun 13 12:26:38 UTC 2020)\n",
       "(EPL source distribution)\n",
       "Java Runtime: OpenJDK Runtime Environment\n",
       "JVM: OpenJDK 64-Bit Server VM\n",
       "Default Encoding: UTF-8\n",
       "Language: en\n",
       "Country: null\n",
       "--></g></svg>"
      ]
     },
     "execution_count": 14,
     "metadata": {},
     "output_type": "execute_result"
    }
   ],
   "source": [
    "%viz --style=\"POLYLINE\" --view=\"Sequence\" \"ItemTest\""
   ]
  },
  {
   "cell_type": "code",
   "execution_count": 15,
   "id": "japanese-willow",
   "metadata": {
    "execution": {
     "iopub.execute_input": "2021-03-25T15:10:19.913283Z",
     "iopub.status.busy": "2021-03-25T15:10:19.912662Z",
     "iopub.status.idle": "2021-03-25T15:10:20.231906Z",
     "shell.execute_reply": "2021-03-25T15:10:20.229783Z"
    }
   },
   "outputs": [
    {
     "data": {
      "image/svg+xml": [
       "<?xml version=\"1.0\" encoding=\"UTF-8\" standalone=\"no\"?><svg xmlns=\"http://www.w3.org/2000/svg\" xmlns:xlink=\"http://www.w3.org/1999/xlink\" contentScriptType=\"application/ecmascript\" contentStyleType=\"text/css\" height=\"738px\" preserveAspectRatio=\"none\" style=\"width:228px;height:738px;\" version=\"1.1\" viewBox=\"0 0 228 738\" width=\"228px\" zoomAndPan=\"magnify\"><defs/><g><!--MD5=[fbc87193dbaf4d95561dea2c320d4a47]\n",
       "cluster E1--><a href=\"psysml:ffb2e2dc-9c37-4787-be7c-ae8a88a6d943\" target=\"_top\" title=\"psysml:ffb2e2dc-9c37-4787-be7c-ae8a88a6d943\" xlink:actuate=\"onRequest\" xlink:href=\"psysml:ffb2e2dc-9c37-4787-be7c-ae8a88a6d943\" xlink:show=\"new\" xlink:title=\"psysml:ffb2e2dc-9c37-4787-be7c-ae8a88a6d943\" xlink:type=\"simple\"><polygon fill=\"#FFFFFF\" points=\"16,6,91,6,98,28.2969,206,28.2969,206,726,16,726,16,6\" style=\"stroke: #000000; stroke-width: 1.5;\"/><line style=\"stroke: #000000; stroke-width: 1.5;\" x1=\"16\" x2=\"98\" y1=\"28.2969\" y2=\"28.2969\"/><text fill=\"#000000\" font-family=\"sans-serif\" font-size=\"14\" font-weight=\"bold\" lengthAdjust=\"spacingAndGlyphs\" textLength=\"69\" x=\"20\" y=\"20.9951\">ItemTest</text></a><!--MD5=[b4997ac47864f28c2f74865a473b2911]\n",
       "class E2--><a href=\"psysml:cf4d7795-98ee-4d9f-9cbf-a98072608f6d\" target=\"_top\" title=\"psysml:cf4d7795-98ee-4d9f-9cbf-a98072608f6d\" xlink:actuate=\"onRequest\" xlink:href=\"psysml:cf4d7795-98ee-4d9f-9cbf-a98072608f6d\" xlink:show=\"new\" xlink:title=\"psysml:cf4d7795-98ee-4d9f-9cbf-a98072608f6d\" xlink:type=\"simple\"><rect fill=\"#FFFFFF\" height=\"45.9375\" id=\"E2\" rx=\"10\" ry=\"10\" style=\"stroke: #383838; stroke-width: 1.5;\" width=\"43\" x=\"133.5\" y=\"62\"/><text fill=\"#000000\" font-family=\"sans-serif\" font-size=\"12\" font-style=\"italic\" lengthAdjust=\"spacingAndGlyphs\" textLength=\"41\" x=\"134.5\" y=\"78.1387\">«item»</text><text fill=\"#000000\" font-family=\"sans-serif\" font-size=\"12\" lengthAdjust=\"spacingAndGlyphs\" textLength=\"20\" x=\"145\" y=\"92.1074\">f: A</text><line style=\"stroke: #383838; stroke-width: 1.5;\" x1=\"134.5\" x2=\"175.5\" y1=\"99.9375\" y2=\"99.9375\"/></a><!--MD5=[09b614a08d8cba4a07c9adeb5e0fee81]\n",
       "class E3--><a href=\"psysml:be14fc81-3f83-42fd-a525-71826c91787f\" target=\"_top\" title=\"psysml:be14fc81-3f83-42fd-a525-71826c91787f\" xlink:actuate=\"onRequest\" xlink:href=\"psysml:be14fc81-3f83-42fd-a525-71826c91787f\" xlink:show=\"new\" xlink:title=\"psysml:be14fc81-3f83-42fd-a525-71826c91787f\" xlink:type=\"simple\"><rect fill=\"#FFFFFF\" height=\"75.5469\" id=\"E3\" style=\"stroke: #383838; stroke-width: 1.5;\" width=\"67\" x=\"115.5\" y=\"190\"/><text fill=\"#000000\" font-family=\"sans-serif\" font-size=\"12\" font-style=\"italic\" lengthAdjust=\"spacingAndGlyphs\" textLength=\"65\" x=\"116.5\" y=\"206.1387\">«item def»</text><text fill=\"#000000\" font-family=\"sans-serif\" font-size=\"12\" lengthAdjust=\"spacingAndGlyphs\" textLength=\"8\" x=\"145\" y=\"220.1074\">A</text><line style=\"stroke: #383838; stroke-width: 1.5;\" x1=\"116.5\" x2=\"181.5\" y1=\"227.9375\" y2=\"227.9375\"/><text fill=\"#000000\" font-family=\"sans-serif\" font-size=\"11\" lengthAdjust=\"spacingAndGlyphs\" textLength=\"23\" x=\"121.5\" y=\"258.9526\">b: B</text><line style=\"stroke: #383838; stroke-width: 1.0;\" x1=\"116.5\" x2=\"133\" y1=\"242.3398\" y2=\"242.3398\"/><text fill=\"#000000\" font-family=\"sans-serif\" font-size=\"11\" lengthAdjust=\"spacingAndGlyphs\" textLength=\"32\" x=\"133\" y=\"245.6479\">items</text><line style=\"stroke: #383838; stroke-width: 1.0;\" x1=\"165\" x2=\"181.5\" y1=\"242.3398\" y2=\"242.3398\"/></a><!--MD5=[270fce915f116d4de14055a7c1d9a0f3]\n",
       "class E5--><a href=\"psysml:77af57f1-340c-421d-9a30-1a49108711b3\" target=\"_top\" title=\"psysml:77af57f1-340c-421d-9a30-1a49108711b3\" xlink:actuate=\"onRequest\" xlink:href=\"psysml:77af57f1-340c-421d-9a30-1a49108711b3\" xlink:show=\"new\" xlink:title=\"psysml:77af57f1-340c-421d-9a30-1a49108711b3\" xlink:type=\"simple\"><rect fill=\"#FFFFFF\" height=\"45.9375\" id=\"E5\" rx=\"10\" ry=\"10\" style=\"stroke: #383838; stroke-width: 1.5;\" width=\"42\" x=\"32\" y=\"327\"/><text fill=\"#000000\" font-family=\"sans-serif\" font-size=\"12\" font-style=\"italic\" lengthAdjust=\"spacingAndGlyphs\" textLength=\"40\" x=\"33\" y=\"343.1387\">«part»</text><text fill=\"#000000\" font-family=\"sans-serif\" font-size=\"12\" lengthAdjust=\"spacingAndGlyphs\" textLength=\"23\" x=\"41.5\" y=\"357.1074\">c: C</text><line style=\"stroke: #383838; stroke-width: 1.5;\" x1=\"33\" x2=\"73\" y1=\"364.9375\" y2=\"364.9375\"/></a><!--MD5=[60a26617385b1d2d0262a64233df1f8d]\n",
       "class E6--><a href=\"psysml:41f55b44-de87-42d8-a9cd-035ede31bd10\" target=\"_top\" title=\"psysml:41f55b44-de87-42d8-a9cd-035ede31bd10\" xlink:actuate=\"onRequest\" xlink:href=\"psysml:41f55b44-de87-42d8-a9cd-035ede31bd10\" xlink:show=\"new\" xlink:title=\"psysml:41f55b44-de87-42d8-a9cd-035ede31bd10\" xlink:type=\"simple\"><rect fill=\"#FFFFFF\" height=\"45.9375\" id=\"E6\" style=\"stroke: #383838; stroke-width: 1.5;\" width=\"67\" x=\"85.5\" y=\"557\"/><text fill=\"#000000\" font-family=\"sans-serif\" font-size=\"12\" font-style=\"italic\" lengthAdjust=\"spacingAndGlyphs\" textLength=\"65\" x=\"86.5\" y=\"573.1387\">«item def»</text><text fill=\"#000000\" font-family=\"sans-serif\" font-size=\"12\" lengthAdjust=\"spacingAndGlyphs\" textLength=\"8\" x=\"115\" y=\"587.1074\">B</text><line style=\"stroke: #383838; stroke-width: 1.5;\" x1=\"86.5\" x2=\"151.5\" y1=\"594.9375\" y2=\"594.9375\"/></a><!--MD5=[2156ba9850f5573cc1fc38a6a4b2f02b]\n",
       "class E7--><a href=\"psysml:4ca48e5a-78fa-40b6-ad88-229f08c03677\" target=\"_top\" title=\"psysml:4ca48e5a-78fa-40b6-ad88-229f08c03677\" xlink:actuate=\"onRequest\" xlink:href=\"psysml:4ca48e5a-78fa-40b6-ad88-229f08c03677\" xlink:show=\"new\" xlink:title=\"psysml:4ca48e5a-78fa-40b6-ad88-229f08c03677\" xlink:type=\"simple\"><rect fill=\"#FFFFFF\" height=\"45.9375\" id=\"E7\" rx=\"10\" ry=\"10\" style=\"stroke: #383838; stroke-width: 1.5;\" width=\"42\" x=\"123\" y=\"664\"/><text fill=\"#000000\" font-family=\"sans-serif\" font-size=\"12\" font-style=\"italic\" lengthAdjust=\"spacingAndGlyphs\" textLength=\"40\" x=\"124\" y=\"680.1387\">«part»</text><text fill=\"#000000\" font-family=\"sans-serif\" font-size=\"12\" lengthAdjust=\"spacingAndGlyphs\" textLength=\"24\" x=\"132\" y=\"694.1074\">a: A</text><line style=\"stroke: #383838; stroke-width: 1.5;\" x1=\"124\" x2=\"164\" y1=\"701.9375\" y2=\"701.9375\"/></a><!--MD5=[b9389687b975829384b498ac4b7476b2]\n",
       "class E8--><a href=\"psysml:e612b3f8-fad7-4b05-bdfc-52877d32f7f2\" target=\"_top\" title=\"psysml:e612b3f8-fad7-4b05-bdfc-52877d32f7f2\" xlink:actuate=\"onRequest\" xlink:href=\"psysml:e612b3f8-fad7-4b05-bdfc-52877d32f7f2\" xlink:show=\"new\" xlink:title=\"psysml:e612b3f8-fad7-4b05-bdfc-52877d32f7f2\" xlink:type=\"simple\"><rect fill=\"#FFFFFF\" height=\"45.9375\" id=\"E8\" style=\"stroke: #383838; stroke-width: 1.5;\" width=\"66\" x=\"86\" y=\"434\"/><text fill=\"#000000\" font-family=\"sans-serif\" font-size=\"12\" font-style=\"italic\" lengthAdjust=\"spacingAndGlyphs\" textLength=\"64\" x=\"87\" y=\"450.1387\">«part def»</text><text fill=\"#000000\" font-family=\"sans-serif\" font-size=\"12\" lengthAdjust=\"spacingAndGlyphs\" textLength=\"8\" x=\"115\" y=\"464.1074\">C</text><line style=\"stroke: #383838; stroke-width: 1.5;\" x1=\"87\" x2=\"151\" y1=\"471.9375\" y2=\"471.9375\"/></a><!--MD5=[fd4143e9d270a159db93a4ea2a975926]\n",
       "class E9--><a href=\"psysml:b51b1cf2-e677-402d-bf05-bb2fae798694\" target=\"_top\" title=\"psysml:b51b1cf2-e677-402d-bf05-bb2fae798694\" xlink:actuate=\"onRequest\" xlink:href=\"psysml:b51b1cf2-e677-402d-bf05-bb2fae798694\" xlink:show=\"new\" xlink:title=\"psysml:b51b1cf2-e677-402d-bf05-bb2fae798694\" xlink:type=\"simple\"><rect fill=\"#FFFFFF\" height=\"88.3516\" id=\"E9\" style=\"stroke: #383838; stroke-width: 1.5;\" width=\"66\" x=\"32\" y=\"41\"/><text fill=\"#000000\" font-family=\"sans-serif\" font-size=\"12\" font-style=\"italic\" lengthAdjust=\"spacingAndGlyphs\" textLength=\"64\" x=\"33\" y=\"57.1387\">«port def»</text><text fill=\"#000000\" font-family=\"sans-serif\" font-size=\"12\" lengthAdjust=\"spacingAndGlyphs\" textLength=\"8\" x=\"61\" y=\"71.1074\">P</text><line style=\"stroke: #383838; stroke-width: 1.5;\" x1=\"33\" x2=\"97\" y1=\"78.9375\" y2=\"78.9375\"/><text fill=\"#000000\" font-family=\"sans-serif\" font-size=\"11\" lengthAdjust=\"spacingAndGlyphs\" textLength=\"29\" x=\"38\" y=\"109.9526\">a1: A</text><text fill=\"#000000\" font-family=\"sans-serif\" font-size=\"11\" lengthAdjust=\"spacingAndGlyphs\" textLength=\"29\" x=\"38\" y=\"122.7573\">a2: A</text><line style=\"stroke: #383838; stroke-width: 1.0;\" x1=\"33\" x2=\"49\" y1=\"93.3398\" y2=\"93.3398\"/><text fill=\"#000000\" font-family=\"sans-serif\" font-size=\"11\" lengthAdjust=\"spacingAndGlyphs\" textLength=\"32\" x=\"49\" y=\"96.6479\">items</text><line style=\"stroke: #383838; stroke-width: 1.0;\" x1=\"81\" x2=\"97\" y1=\"93.3398\" y2=\"93.3398\"/></a><!--MD5=[2720a5a1f2c3fca2055b230370638851]\n",
       "link E2 to E3--><a href=\"psysml:5c778f2f-9d99-44f7-9cbe-495e6850b493\" target=\"_top\" title=\"psysml:5c778f2f-9d99-44f7-9cbe-495e6850b493\" xlink:actuate=\"onRequest\" xlink:href=\"psysml:5c778f2f-9d99-44f7-9cbe-495e6850b493\" xlink:show=\"new\" xlink:title=\"psysml:5c778f2f-9d99-44f7-9cbe-495e6850b493\" xlink:type=\"simple\"><path d=\"M154.06,108.03 C153.36,124.58 152.36,148.04 151.44,169.76 \" fill=\"none\" id=\"E2-&gt;E3\" style=\"stroke: #383838; stroke-width: 1.0;\"/><polygon fill=\"#FFFFFF\" points=\"150.58,189.77,144.4005,170.4875,158.3877,171.0874,150.58,189.77\" style=\"stroke: #383838; stroke-width: 1.0;\"/><ellipse cx=\"146.6429\" cy=\"164.8784\" fill=\"#383838\" rx=\"2\" ry=\"2\" style=\"stroke: #383838; stroke-width: 1.0;\"/><ellipse cx=\"156.6338\" cy=\"165.3069\" fill=\"#383838\" rx=\"2\" ry=\"2\" style=\"stroke: #383838; stroke-width: 1.0;\"/></a><!--MD5=[191cde3d490a3f6d7bb551fe3ddca469]\n",
       "reverse link E3 to E5--><a href=\"psysml:77af57f1-340c-421d-9a30-1a49108711b3\" target=\"_top\" title=\"psysml:77af57f1-340c-421d-9a30-1a49108711b3\" xlink:actuate=\"onRequest\" xlink:href=\"psysml:77af57f1-340c-421d-9a30-1a49108711b3\" xlink:show=\"new\" xlink:title=\"psysml:77af57f1-340c-421d-9a30-1a49108711b3\" xlink:type=\"simple\"><path d=\"M110.75,276.82 C96.95,294.07 82.02,312.72 70.8,326.75 \" fill=\"none\" id=\"E3&lt;-E5\" style=\"stroke: #383838; stroke-width: 1.0;\"/><polygon fill=\"#FFFFFF\" points=\"119.15,266.31,112.2784,268.4964,111.6537,275.6804,118.5253,273.494,119.15,266.31\" style=\"stroke: #383838; stroke-width: 1.0;\"/></a><!--MD5=[14ccda38c055a5c0da953d572bc50960]\n",
       "link E7 to E3--><a href=\"psysml:8bb447da-4a21-4000-9a04-f9f9c4ed48f1\" target=\"_top\" title=\"psysml:8bb447da-4a21-4000-9a04-f9f9c4ed48f1\" xlink:actuate=\"onRequest\" xlink:href=\"psysml:8bb447da-4a21-4000-9a04-f9f9c4ed48f1\" xlink:show=\"new\" xlink:title=\"psysml:8bb447da-4a21-4000-9a04-f9f9c4ed48f1\" xlink:type=\"simple\"><path d=\"M153.43,663.99 C166.63,633.2 189,581 189,581 C189,349 189,349 189,349 C189,349 178.25,316.76 167.9,285.7 \" fill=\"none\" id=\"E7-&gt;E3\" style=\"stroke: #383838; stroke-width: 1.0;\"/><polygon fill=\"#FFFFFF\" points=\"161.44,266.31,174.0927,282.1185,160.8121,286.5487,161.44,266.31\" style=\"stroke: #383838; stroke-width: 1.0;\"/><ellipse cx=\"173.9992\" cy=\"288.1585\" fill=\"#383838\" rx=\"2\" ry=\"2\" style=\"stroke: #383838; stroke-width: 1.0;\"/><ellipse cx=\"164.5131\" cy=\"291.3229\" fill=\"#383838\" rx=\"2\" ry=\"2\" style=\"stroke: #383838; stroke-width: 1.0;\"/></a><!--MD5=[3f50a3473f1dfb74d3f76443e03635af]\n",
       "reverse link E6 to E7--><a href=\"psysml:4ca48e5a-78fa-40b6-ad88-229f08c03677\" target=\"_top\" title=\"psysml:4ca48e5a-78fa-40b6-ad88-229f08c03677\" xlink:actuate=\"onRequest\" xlink:href=\"psysml:4ca48e5a-78fa-40b6-ad88-229f08c03677\" xlink:show=\"new\" xlink:title=\"psysml:4ca48e5a-78fa-40b6-ad88-229f08c03677\" xlink:type=\"simple\"><path d=\"M127.34,616.05 C131.08,631.76 135.39,649.82 138.68,663.66 \" fill=\"none\" id=\"E6&lt;-E7\" style=\"stroke: #383838; stroke-width: 1.0;\"/><polygon fill=\"#383838\" points=\"124.24,603.01,121.7406,609.7741,127.023,614.6828,129.5224,607.9187,124.24,603.01\" style=\"stroke: #383838; stroke-width: 1.0;\"/></a><!--MD5=[dfaffb906826c3e5aca635516100ff21]\n",
       "link E5 to E8--><a href=\"psysml:6ff88c17-8c2d-42a4-af32-a2455d6f0acf\" target=\"_top\" title=\"psysml:6ff88c17-8c2d-42a4-af32-a2455d6f0acf\" xlink:actuate=\"onRequest\" xlink:href=\"psysml:6ff88c17-8c2d-42a4-af32-a2455d6f0acf\" xlink:show=\"new\" xlink:title=\"psysml:6ff88c17-8c2d-42a4-af32-a2455d6f0acf\" xlink:type=\"simple\"><path d=\"M66.84,373.01 C74.79,385.67 85.02,401.94 94.31,416.72 \" fill=\"none\" id=\"E5-&gt;E8\" style=\"stroke: #383838; stroke-width: 1.0;\"/><polygon fill=\"#FFFFFF\" points=\"104.96,433.66,88.9212,421.3005,100.7735,413.8491,104.96,433.66\" style=\"stroke: #383838; stroke-width: 1.0;\"/><ellipse cx=\"87.5806\" cy=\"415.4104\" fill=\"#383838\" rx=\"2\" ry=\"2\" style=\"stroke: #383838; stroke-width: 1.0;\"/><ellipse cx=\"96.0465\" cy=\"410.088\" fill=\"#383838\" rx=\"2\" ry=\"2\" style=\"stroke: #383838; stroke-width: 1.0;\"/></a><!--MD5=[03c8294790d3c57651a1993cecff665f]\n",
       "reverse link E8 to E3--><a href=\"psysml:83dfbdb9-73af-4dff-b5ad-52a21a738594\" target=\"_top\" title=\"psysml:83dfbdb9-73af-4dff-b5ad-52a21a738594\" xlink:actuate=\"onRequest\" xlink:href=\"psysml:83dfbdb9-73af-4dff-b5ad-52a21a738594\" xlink:show=\"new\" xlink:title=\"psysml:83dfbdb9-73af-4dff-b5ad-52a21a738594\" xlink:type=\"simple\"><path d=\"M123.65,420.81 C129.2,378.86 138.42,309.06 144.08,266.23 \" fill=\"none\" id=\"E8&lt;-E3\" style=\"stroke: #383838; stroke-width: 1.0;\"/><polygon fill=\"#FFFFFF\" points=\"121.92,433.89,126.6755,428.4692,123.5008,421.9946,118.7453,427.4154,121.92,433.89\" style=\"stroke: #383838; stroke-width: 1.0;\"/><text fill=\"#000000\" font-family=\"sans-serif\" font-size=\"13\" lengthAdjust=\"spacingAndGlyphs\" textLength=\"7\" x=\"136\" y=\"354.5669\">y</text></a><!--MD5=[0d75d2178373a6a4568e5dc728f58aef]\n",
       "reverse link E8 to E6--><a href=\"psysml:83dfbdb9-73af-4dff-b5ad-52a21a738594\" target=\"_top\" title=\"psysml:83dfbdb9-73af-4dff-b5ad-52a21a738594\" xlink:actuate=\"onRequest\" xlink:href=\"psysml:83dfbdb9-73af-4dff-b5ad-52a21a738594\" xlink:show=\"new\" xlink:title=\"psysml:83dfbdb9-73af-4dff-b5ad-52a21a738594\" xlink:type=\"simple\"><path d=\"M119,493.22 C119,513.81 119,539.16 119,556.95 \" fill=\"none\" id=\"E8&lt;-E6\" style=\"stroke: #383838; stroke-width: 1.0;\"/><polygon fill=\"#FFFFFF\" points=\"119,480.19,115,486.19,119,492.19,123,486.19,119,480.19\" style=\"stroke: #383838; stroke-width: 1.0;\"/><text fill=\"#000000\" font-family=\"sans-serif\" font-size=\"13\" lengthAdjust=\"spacingAndGlyphs\" textLength=\"7\" x=\"120\" y=\"523.0669\">y</text></a><!--MD5=[b7e90a687d5e61e64bfabf38335f7f3f]\n",
       "@startuml\r\n",
       "skinparam linetype polyline\r\n",
       "skinparam monochrome true\r\n",
       "skinparam classbackgroundcolor white\r\n",
       "skinparam shadowing false\r\n",
       "skinparam wrapWidth 300\r\n",
       "hide circle\r\n",
       "\r\n",
       "package \"ItemTest\" as E1  [[psysml:ffb2e2dc-9c37-4787-be7c-ae8a88a6d943 ]]  {\r\n",
       "comp usage \"f: A\" as E2  <<(T,blue)item>> [[psysml:cf4d7795-98ee-4d9f-9cbf-a98072608f6d ]] {\r\n",
       "}\r\n",
       "comp def \"A\" as E3  <<(T,blue)item def>> [[psysml:be14fc81-3f83-42fd-a525-71826c91787f ]] {\r\n",
       "- - items - -\r\n",
       "b: B\r\n",
       "}\r\n",
       "comp usage \"c: C\" as E5  <<(T,blue)part>> [[psysml:77af57f1-340c-421d-9a30-1a49108711b3 ]] {\r\n",
       "}\r\n",
       "comp def \"B\" as E6  <<(T,blue)item def>> [[psysml:41f55b44-de87-42d8-a9cd-035ede31bd10 ]] {\r\n",
       "}\r\n",
       "comp usage \"a: A\" as E7  <<(T,blue)part>> [[psysml:4ca48e5a-78fa-40b6-ad88-229f08c03677 ]] {\r\n",
       "}\r\n",
       "comp def \"C\" as E8  <<(T,blue)part def>> [[psysml:e612b3f8-fad7-4b05-bdfc-52877d32f7f2 ]] {\r\n",
       "}\r\n",
       "comp def \"P\" as E9  <<(T,blue)port def>> [[psysml:b51b1cf2-e677-402d-bf05-bb2fae798694 ]] {\r\n",
       "- - items - -\r\n",
       "a1: A\r\n",
       "a2: A\r\n",
       "}\r\n",
       "E2 - -:|> E3 [[psysml:5c778f2f-9d99-44f7-9cbe-495e6850b493 ]] \r\n",
       "E3 o- - E5 [[psysml:77af57f1-340c-421d-9a30-1a49108711b3 ]] \r\n",
       "E7 - -:|> E3 [[psysml:8bb447da-4a21-4000-9a04-f9f9c4ed48f1 ]] \r\n",
       "E6 *- - E7 [[psysml:4ca48e5a-78fa-40b6-ad88-229f08c03677 ]] \r\n",
       "E5 - -:|> E8 [[psysml:6ff88c17-8c2d-42a4-af32-a2455d6f0acf ]] \r\n",
       "E8 o- - E3 [[psysml:83dfbdb9-73af-4dff-b5ad-52a21a738594 ]] : y\r\n",
       "E8 o- - E6 [[psysml:83dfbdb9-73af-4dff-b5ad-52a21a738594 ]] : y\r\n",
       "}\r\n",
       "@enduml\r\n",
       "\n",
       "PlantUML version 1.2020.13(Sat Jun 13 12:26:38 UTC 2020)\n",
       "(EPL source distribution)\n",
       "Java Runtime: OpenJDK Runtime Environment\n",
       "JVM: OpenJDK 64-Bit Server VM\n",
       "Default Encoding: UTF-8\n",
       "Language: en\n",
       "Country: null\n",
       "--></g></svg>"
      ]
     },
     "execution_count": 15,
     "metadata": {},
     "output_type": "execute_result"
    }
   ],
   "source": [
    "%viz --style=\"POLYLINE\" --view=\"MIXED\" \"ItemTest\""
   ]
  },
  {
   "cell_type": "code",
   "execution_count": 16,
   "id": "hybrid-holmes",
   "metadata": {
    "execution": {
     "iopub.execute_input": "2021-03-25T15:10:20.285486Z",
     "iopub.status.busy": "2021-03-25T15:10:20.283572Z",
     "iopub.status.idle": "2021-03-25T15:10:20.599695Z",
     "shell.execute_reply": "2021-03-25T15:10:20.598251Z"
    }
   },
   "outputs": [
    {
     "data": {
      "image/svg+xml": [
       "<?xml version=\"1.0\" encoding=\"UTF-8\" standalone=\"no\"?><svg xmlns=\"http://www.w3.org/2000/svg\" xmlns:xlink=\"http://www.w3.org/1999/xlink\" contentScriptType=\"application/ecmascript\" contentStyleType=\"text/css\" height=\"239px\" preserveAspectRatio=\"none\" style=\"width:733px;height:239px;\" version=\"1.1\" viewBox=\"0 0 733 239\" width=\"733px\" zoomAndPan=\"magnify\"><defs/><g><!--MD5=[fbc87193dbaf4d95561dea2c320d4a47]\n",
       "cluster E1--><a href=\"psysml:ffb2e2dc-9c37-4787-be7c-ae8a88a6d943\" target=\"_top\" title=\"psysml:ffb2e2dc-9c37-4787-be7c-ae8a88a6d943\" xlink:actuate=\"onRequest\" xlink:href=\"psysml:ffb2e2dc-9c37-4787-be7c-ae8a88a6d943\" xlink:show=\"new\" xlink:title=\"psysml:ffb2e2dc-9c37-4787-be7c-ae8a88a6d943\" xlink:type=\"simple\"><polygon fill=\"#FFFFFF\" points=\"16,6,91,6,98,28.2969,711,28.2969,711,227,16,227,16,6\" style=\"stroke: #000000; stroke-width: 1.5;\"/><line style=\"stroke: #000000; stroke-width: 1.5;\" x1=\"16\" x2=\"98\" y1=\"28.2969\" y2=\"28.2969\"/><text fill=\"#000000\" font-family=\"sans-serif\" font-size=\"14\" font-weight=\"bold\" lengthAdjust=\"spacingAndGlyphs\" textLength=\"69\" x=\"20\" y=\"20.9951\">ItemTest</text></a><!--MD5=[b4997ac47864f28c2f74865a473b2911]\n",
       "class E2--><a href=\"psysml:cf4d7795-98ee-4d9f-9cbf-a98072608f6d\" target=\"_top\" title=\"psysml:cf4d7795-98ee-4d9f-9cbf-a98072608f6d\" xlink:actuate=\"onRequest\" xlink:href=\"psysml:cf4d7795-98ee-4d9f-9cbf-a98072608f6d\" xlink:show=\"new\" xlink:title=\"psysml:cf4d7795-98ee-4d9f-9cbf-a98072608f6d\" xlink:type=\"simple\"><rect fill=\"#FFFFFF\" height=\"45.9375\" id=\"E2\" rx=\"10\" ry=\"10\" style=\"stroke: #383838; stroke-width: 1.5;\" width=\"43\" x=\"43.5\" y=\"42\"/><text fill=\"#000000\" font-family=\"sans-serif\" font-size=\"12\" font-style=\"italic\" lengthAdjust=\"spacingAndGlyphs\" textLength=\"41\" x=\"44.5\" y=\"58.1387\">«item»</text><text fill=\"#000000\" font-family=\"sans-serif\" font-size=\"12\" lengthAdjust=\"spacingAndGlyphs\" textLength=\"20\" x=\"55\" y=\"72.1074\">f: A</text><line style=\"stroke: #383838; stroke-width: 1.5;\" x1=\"44.5\" x2=\"85.5\" y1=\"79.9375\" y2=\"79.9375\"/></a><!--MD5=[09b614a08d8cba4a07c9adeb5e0fee81]\n",
       "class E3--><a href=\"psysml:be14fc81-3f83-42fd-a525-71826c91787f\" target=\"_top\" title=\"psysml:be14fc81-3f83-42fd-a525-71826c91787f\" xlink:actuate=\"onRequest\" xlink:href=\"psysml:be14fc81-3f83-42fd-a525-71826c91787f\" xlink:show=\"new\" xlink:title=\"psysml:be14fc81-3f83-42fd-a525-71826c91787f\" xlink:type=\"simple\"><rect fill=\"#FFFFFF\" height=\"75.5469\" id=\"E3\" style=\"stroke: #383838; stroke-width: 1.5;\" width=\"67\" x=\"159\" y=\"50\"/><text fill=\"#000000\" font-family=\"sans-serif\" font-size=\"12\" font-style=\"italic\" lengthAdjust=\"spacingAndGlyphs\" textLength=\"65\" x=\"160\" y=\"66.1387\">«item def»</text><text fill=\"#000000\" font-family=\"sans-serif\" font-size=\"12\" lengthAdjust=\"spacingAndGlyphs\" textLength=\"8\" x=\"188.5\" y=\"80.1074\">A</text><line style=\"stroke: #383838; stroke-width: 1.5;\" x1=\"160\" x2=\"225\" y1=\"87.9375\" y2=\"87.9375\"/><text fill=\"#000000\" font-family=\"sans-serif\" font-size=\"11\" lengthAdjust=\"spacingAndGlyphs\" textLength=\"23\" x=\"165\" y=\"118.9526\">b: B</text><line style=\"stroke: #383838; stroke-width: 1.0;\" x1=\"160\" x2=\"176.5\" y1=\"102.3398\" y2=\"102.3398\"/><text fill=\"#000000\" font-family=\"sans-serif\" font-size=\"11\" lengthAdjust=\"spacingAndGlyphs\" textLength=\"32\" x=\"176.5\" y=\"105.6479\">items</text><line style=\"stroke: #383838; stroke-width: 1.0;\" x1=\"208.5\" x2=\"225\" y1=\"102.3398\" y2=\"102.3398\"/></a><!--MD5=[270fce915f116d4de14055a7c1d9a0f3]\n",
       "class E5--><a href=\"psysml:77af57f1-340c-421d-9a30-1a49108711b3\" target=\"_top\" title=\"psysml:77af57f1-340c-421d-9a30-1a49108711b3\" xlink:actuate=\"onRequest\" xlink:href=\"psysml:77af57f1-340c-421d-9a30-1a49108711b3\" xlink:show=\"new\" xlink:title=\"psysml:77af57f1-340c-421d-9a30-1a49108711b3\" xlink:type=\"simple\"><rect fill=\"#FFFFFF\" height=\"45.9375\" id=\"E5\" rx=\"10\" ry=\"10\" style=\"stroke: #383838; stroke-width: 1.5;\" width=\"42\" x=\"287\" y=\"165\"/><text fill=\"#000000\" font-family=\"sans-serif\" font-size=\"12\" font-style=\"italic\" lengthAdjust=\"spacingAndGlyphs\" textLength=\"40\" x=\"288\" y=\"181.1387\">«part»</text><text fill=\"#000000\" font-family=\"sans-serif\" font-size=\"12\" lengthAdjust=\"spacingAndGlyphs\" textLength=\"23\" x=\"296.5\" y=\"195.1074\">c: C</text><line style=\"stroke: #383838; stroke-width: 1.5;\" x1=\"288\" x2=\"328\" y1=\"202.9375\" y2=\"202.9375\"/></a><!--MD5=[60a26617385b1d2d0262a64233df1f8d]\n",
       "class E6--><a href=\"psysml:41f55b44-de87-42d8-a9cd-035ede31bd10\" target=\"_top\" title=\"psysml:41f55b44-de87-42d8-a9cd-035ede31bd10\" xlink:actuate=\"onRequest\" xlink:href=\"psysml:41f55b44-de87-42d8-a9cd-035ede31bd10\" xlink:show=\"new\" xlink:title=\"psysml:41f55b44-de87-42d8-a9cd-035ede31bd10\" xlink:type=\"simple\"><rect fill=\"#FFFFFF\" height=\"45.9375\" id=\"E6\" style=\"stroke: #383838; stroke-width: 1.5;\" width=\"67\" x=\"525\" y=\"78\"/><text fill=\"#000000\" font-family=\"sans-serif\" font-size=\"12\" font-style=\"italic\" lengthAdjust=\"spacingAndGlyphs\" textLength=\"65\" x=\"526\" y=\"94.1387\">«item def»</text><text fill=\"#000000\" font-family=\"sans-serif\" font-size=\"12\" lengthAdjust=\"spacingAndGlyphs\" textLength=\"8\" x=\"554.5\" y=\"108.1074\">B</text><line style=\"stroke: #383838; stroke-width: 1.5;\" x1=\"526\" x2=\"591\" y1=\"115.9375\" y2=\"115.9375\"/></a><!--MD5=[2156ba9850f5573cc1fc38a6a4b2f02b]\n",
       "class E7--><a href=\"psysml:4ca48e5a-78fa-40b6-ad88-229f08c03677\" target=\"_top\" title=\"psysml:4ca48e5a-78fa-40b6-ad88-229f08c03677\" xlink:actuate=\"onRequest\" xlink:href=\"psysml:4ca48e5a-78fa-40b6-ad88-229f08c03677\" xlink:show=\"new\" xlink:title=\"psysml:4ca48e5a-78fa-40b6-ad88-229f08c03677\" xlink:type=\"simple\"><rect fill=\"#FFFFFF\" height=\"45.9375\" id=\"E7\" rx=\"10\" ry=\"10\" style=\"stroke: #383838; stroke-width: 1.5;\" width=\"42\" x=\"653\" y=\"59\"/><text fill=\"#000000\" font-family=\"sans-serif\" font-size=\"12\" font-style=\"italic\" lengthAdjust=\"spacingAndGlyphs\" textLength=\"40\" x=\"654\" y=\"75.1387\">«part»</text><text fill=\"#000000\" font-family=\"sans-serif\" font-size=\"12\" lengthAdjust=\"spacingAndGlyphs\" textLength=\"24\" x=\"662\" y=\"89.1074\">a: A</text><line style=\"stroke: #383838; stroke-width: 1.5;\" x1=\"654\" x2=\"694\" y1=\"96.9375\" y2=\"96.9375\"/></a><!--MD5=[b9389687b975829384b498ac4b7476b2]\n",
       "class E8--><a href=\"psysml:e612b3f8-fad7-4b05-bdfc-52877d32f7f2\" target=\"_top\" title=\"psysml:e612b3f8-fad7-4b05-bdfc-52877d32f7f2\" xlink:actuate=\"onRequest\" xlink:href=\"psysml:e612b3f8-fad7-4b05-bdfc-52877d32f7f2\" xlink:show=\"new\" xlink:title=\"psysml:e612b3f8-fad7-4b05-bdfc-52877d32f7f2\" xlink:type=\"simple\"><rect fill=\"#FFFFFF\" height=\"45.9375\" id=\"E8\" style=\"stroke: #383838; stroke-width: 1.5;\" width=\"66\" x=\"390\" y=\"78\"/><text fill=\"#000000\" font-family=\"sans-serif\" font-size=\"12\" font-style=\"italic\" lengthAdjust=\"spacingAndGlyphs\" textLength=\"64\" x=\"391\" y=\"94.1387\">«part def»</text><text fill=\"#000000\" font-family=\"sans-serif\" font-size=\"12\" lengthAdjust=\"spacingAndGlyphs\" textLength=\"8\" x=\"419\" y=\"108.1074\">C</text><line style=\"stroke: #383838; stroke-width: 1.5;\" x1=\"391\" x2=\"455\" y1=\"115.9375\" y2=\"115.9375\"/></a><!--MD5=[fd4143e9d270a159db93a4ea2a975926]\n",
       "class E9--><a href=\"psysml:b51b1cf2-e677-402d-bf05-bb2fae798694\" target=\"_top\" title=\"psysml:b51b1cf2-e677-402d-bf05-bb2fae798694\" xlink:actuate=\"onRequest\" xlink:href=\"psysml:b51b1cf2-e677-402d-bf05-bb2fae798694\" xlink:show=\"new\" xlink:title=\"psysml:b51b1cf2-e677-402d-bf05-bb2fae798694\" xlink:type=\"simple\"><rect fill=\"#FFFFFF\" height=\"88.3516\" id=\"E9\" style=\"stroke: #383838; stroke-width: 1.5;\" width=\"66\" x=\"32\" y=\"123\"/><text fill=\"#000000\" font-family=\"sans-serif\" font-size=\"12\" font-style=\"italic\" lengthAdjust=\"spacingAndGlyphs\" textLength=\"64\" x=\"33\" y=\"139.1387\">«port def»</text><text fill=\"#000000\" font-family=\"sans-serif\" font-size=\"12\" lengthAdjust=\"spacingAndGlyphs\" textLength=\"8\" x=\"61\" y=\"153.1074\">P</text><line style=\"stroke: #383838; stroke-width: 1.5;\" x1=\"33\" x2=\"97\" y1=\"160.9375\" y2=\"160.9375\"/><text fill=\"#000000\" font-family=\"sans-serif\" font-size=\"11\" lengthAdjust=\"spacingAndGlyphs\" textLength=\"29\" x=\"38\" y=\"191.9526\">a1: A</text><text fill=\"#000000\" font-family=\"sans-serif\" font-size=\"11\" lengthAdjust=\"spacingAndGlyphs\" textLength=\"29\" x=\"38\" y=\"204.7573\">a2: A</text><line style=\"stroke: #383838; stroke-width: 1.0;\" x1=\"33\" x2=\"49\" y1=\"175.3398\" y2=\"175.3398\"/><text fill=\"#000000\" font-family=\"sans-serif\" font-size=\"11\" lengthAdjust=\"spacingAndGlyphs\" textLength=\"32\" x=\"49\" y=\"178.6479\">items</text><line style=\"stroke: #383838; stroke-width: 1.0;\" x1=\"81\" x2=\"97\" y1=\"175.3398\" y2=\"175.3398\"/></a><!--MD5=[2720a5a1f2c3fca2055b230370638851]\n",
       "link E2 to E3--><a href=\"psysml:5c778f2f-9d99-44f7-9cbe-495e6850b493\" target=\"_top\" title=\"psysml:5c778f2f-9d99-44f7-9cbe-495e6850b493\" xlink:actuate=\"onRequest\" xlink:href=\"psysml:5c778f2f-9d99-44f7-9cbe-495e6850b493\" xlink:show=\"new\" xlink:title=\"psysml:5c778f2f-9d99-44f7-9cbe-495e6850b493\" xlink:type=\"simple\"><path d=\"M86.72,68.8 C100.99,71.41 120.62,75.01 139.03,78.38 \" fill=\"none\" id=\"E2-&gt;E3\" style=\"stroke: #383838; stroke-width: 1.0;\"/><polygon fill=\"#FFFFFF\" points=\"158.95,82.03,139.0003,85.4953,141.5205,71.724,158.95,82.03\" style=\"stroke: #383838; stroke-width: 1.0;\"/><ellipse cx=\"133.7534\" cy=\"82.5019\" fill=\"#383838\" rx=\"2\" ry=\"2\" style=\"stroke: #383838; stroke-width: 1.0;\"/><ellipse cx=\"135.5536\" cy=\"72.6653\" fill=\"#383838\" rx=\"2\" ry=\"2\" style=\"stroke: #383838; stroke-width: 1.0;\"/></a><!--MD5=[191cde3d490a3f6d7bb551fe3ddca469]\n",
       "reverse link E3 to E5--><a href=\"psysml:77af57f1-340c-421d-9a30-1a49108711b3\" target=\"_top\" title=\"psysml:77af57f1-340c-421d-9a30-1a49108711b3\" xlink:actuate=\"onRequest\" xlink:href=\"psysml:77af57f1-340c-421d-9a30-1a49108711b3\" xlink:show=\"new\" xlink:title=\"psysml:77af57f1-340c-421d-9a30-1a49108711b3\" xlink:type=\"simple\"><path d=\"M236.03,125.47 C253.49,140.85 272.86,157.92 286.96,170.34 \" fill=\"none\" id=\"E3&lt;-E5\" style=\"stroke: #383838; stroke-width: 1.0;\"/><polygon fill=\"#FFFFFF\" points=\"226.02,116.66,227.8712,123.6294,235.0165,124.6012,233.1653,117.6318,226.02,116.66\" style=\"stroke: #383838; stroke-width: 1.0;\"/></a><!--MD5=[14ccda38c055a5c0da953d572bc50960]\n",
       "link E7 to E3--><a href=\"psysml:8bb447da-4a21-4000-9a04-f9f9c4ed48f1\" target=\"_top\" title=\"psysml:8bb447da-4a21-4000-9a04-f9f9c4ed48f1\" xlink:actuate=\"onRequest\" xlink:href=\"psysml:8bb447da-4a21-4000-9a04-f9f9c4ed48f1\" xlink:show=\"new\" xlink:title=\"psysml:8bb447da-4a21-4000-9a04-f9f9c4ed48f1\" xlink:type=\"simple\"><path d=\"M652.84,70.22 C630.71,58.42 593.76,42 559.5,42 C307,42 307,42 307,42 C285.58,42 263.45,49.12 244.48,57.76 \" fill=\"none\" id=\"E7-&gt;E3\" style=\"stroke: #383838; stroke-width: 1.0;\"/><polygon fill=\"#FFFFFF\" points=\"226.36,66.88,240.1858,52.0866,246.4788,64.5925,226.36,66.88\" style=\"stroke: #383838; stroke-width: 1.0;\"/><ellipse cx=\"246.1765\" cy=\"51.311\" fill=\"#383838\" rx=\"2\" ry=\"2\" style=\"stroke: #383838; stroke-width: 1.0;\"/><ellipse cx=\"250.6715\" cy=\"60.2438\" fill=\"#383838\" rx=\"2\" ry=\"2\" style=\"stroke: #383838; stroke-width: 1.0;\"/></a><!--MD5=[3f50a3473f1dfb74d3f76443e03635af]\n",
       "reverse link E6 to E7--><a href=\"psysml:4ca48e5a-78fa-40b6-ad88-229f08c03677\" target=\"_top\" title=\"psysml:4ca48e5a-78fa-40b6-ad88-229f08c03677\" xlink:actuate=\"onRequest\" xlink:href=\"psysml:4ca48e5a-78fa-40b6-ad88-229f08c03677\" xlink:show=\"new\" xlink:title=\"psysml:4ca48e5a-78fa-40b6-ad88-229f08c03677\" xlink:type=\"simple\"><path d=\"M604.98,93.39 C621.64,90.6 639.65,87.58 652.96,85.36 \" fill=\"none\" id=\"E6&lt;-E7\" style=\"stroke: #383838; stroke-width: 1.0;\"/><polygon fill=\"#383838\" points=\"592.02,95.56,598.6002,98.5097,603.8539,93.5701,597.2736,90.6204,592.02,95.56\" style=\"stroke: #383838; stroke-width: 1.0;\"/></a><!--MD5=[dfaffb906826c3e5aca635516100ff21]\n",
       "link E5 to E8--><a href=\"psysml:6ff88c17-8c2d-42a4-af32-a2455d6f0acf\" target=\"_top\" title=\"psysml:6ff88c17-8c2d-42a4-af32-a2455d6f0acf\" xlink:actuate=\"onRequest\" xlink:href=\"psysml:6ff88c17-8c2d-42a4-af32-a2455d6f0acf\" xlink:show=\"new\" xlink:title=\"psysml:6ff88c17-8c2d-42a4-af32-a2455d6f0acf\" xlink:type=\"simple\"><path d=\"M329.2,172.45 C342.18,162.45 359.59,149.05 375.82,136.55 \" fill=\"none\" id=\"E5-&gt;E8\" style=\"stroke: #383838; stroke-width: 1.0;\"/><polygon fill=\"#FFFFFF\" points=\"391.76,124.28,380.9793,141.4199,372.4361,130.3288,391.76,124.28\" style=\"stroke: #383838; stroke-width: 1.0;\"/><ellipse cx=\"375.2432\" cy=\"143.3138\" fill=\"#383838\" rx=\"2\" ry=\"2\" style=\"stroke: #383838; stroke-width: 1.0;\"/><ellipse cx=\"369.1409\" cy=\"135.3915\" fill=\"#383838\" rx=\"2\" ry=\"2\" style=\"stroke: #383838; stroke-width: 1.0;\"/></a><!--MD5=[03c8294790d3c57651a1993cecff665f]\n",
       "reverse link E8 to E3--><a href=\"psysml:83dfbdb9-73af-4dff-b5ad-52a21a738594\" target=\"_top\" title=\"psysml:83dfbdb9-73af-4dff-b5ad-52a21a738594\" xlink:actuate=\"onRequest\" xlink:href=\"psysml:83dfbdb9-73af-4dff-b5ad-52a21a738594\" xlink:show=\"new\" xlink:title=\"psysml:83dfbdb9-73af-4dff-b5ad-52a21a738594\" xlink:type=\"simple\"><path d=\"M376.68,98.42 C332.29,95.9 265.72,92.11 226.24,89.86 \" fill=\"none\" id=\"E8&lt;-E3\" style=\"stroke: #383838; stroke-width: 1.0;\"/><polygon fill=\"#FFFFFF\" points=\"389.69,99.16,383.9282,94.8239,377.7096,98.4747,383.4713,102.8108,389.69,99.16\" style=\"stroke: #383838; stroke-width: 1.0;\"/><text fill=\"#000000\" font-family=\"sans-serif\" font-size=\"13\" lengthAdjust=\"spacingAndGlyphs\" textLength=\"7\" x=\"304.5\" y=\"90.0669\">y</text></a><!--MD5=[0d75d2178373a6a4568e5dc728f58aef]\n",
       "reverse link E8 to E6--><a href=\"psysml:83dfbdb9-73af-4dff-b5ad-52a21a738594\" target=\"_top\" title=\"psysml:83dfbdb9-73af-4dff-b5ad-52a21a738594\" xlink:actuate=\"onRequest\" xlink:href=\"psysml:83dfbdb9-73af-4dff-b5ad-52a21a738594\" xlink:show=\"new\" xlink:title=\"psysml:83dfbdb9-73af-4dff-b5ad-52a21a738594\" xlink:type=\"simple\"><path d=\"M469.57,101 C487.62,101 507.98,101 524.55,101 \" fill=\"none\" id=\"E8&lt;-E6\" style=\"stroke: #383838; stroke-width: 1.0;\"/><polygon fill=\"#FFFFFF\" points=\"456.32,101,462.32,105,468.32,101,462.32,97,456.32,101\" style=\"stroke: #383838; stroke-width: 1.0;\"/><text fill=\"#000000\" font-family=\"sans-serif\" font-size=\"13\" lengthAdjust=\"spacingAndGlyphs\" textLength=\"7\" x=\"487\" y=\"97.0669\">y</text></a><!--MD5=[17cddc0da788454d01668fa979b95c16]\n",
       "@startuml\r\n",
       "left to right direction\r\n",
       "skinparam monochrome true\r\n",
       "skinparam classbackgroundcolor white\r\n",
       "skinparam shadowing false\r\n",
       "skinparam wrapWidth 300\r\n",
       "hide circle\r\n",
       "\r\n",
       "package \"ItemTest\" as E1  [[psysml:ffb2e2dc-9c37-4787-be7c-ae8a88a6d943 ]]  {\r\n",
       "comp usage \"f: A\" as E2  <<(T,blue)item>> [[psysml:cf4d7795-98ee-4d9f-9cbf-a98072608f6d ]] {\r\n",
       "}\r\n",
       "comp def \"A\" as E3  <<(T,blue)item def>> [[psysml:be14fc81-3f83-42fd-a525-71826c91787f ]] {\r\n",
       "- - items - -\r\n",
       "b: B\r\n",
       "}\r\n",
       "comp usage \"c: C\" as E5  <<(T,blue)part>> [[psysml:77af57f1-340c-421d-9a30-1a49108711b3 ]] {\r\n",
       "}\r\n",
       "comp def \"B\" as E6  <<(T,blue)item def>> [[psysml:41f55b44-de87-42d8-a9cd-035ede31bd10 ]] {\r\n",
       "}\r\n",
       "comp usage \"a: A\" as E7  <<(T,blue)part>> [[psysml:4ca48e5a-78fa-40b6-ad88-229f08c03677 ]] {\r\n",
       "}\r\n",
       "comp def \"C\" as E8  <<(T,blue)part def>> [[psysml:e612b3f8-fad7-4b05-bdfc-52877d32f7f2 ]] {\r\n",
       "}\r\n",
       "comp def \"P\" as E9  <<(T,blue)port def>> [[psysml:b51b1cf2-e677-402d-bf05-bb2fae798694 ]] {\r\n",
       "- - items - -\r\n",
       "a1: A\r\n",
       "a2: A\r\n",
       "}\r\n",
       "E2 - -:|> E3 [[psysml:5c778f2f-9d99-44f7-9cbe-495e6850b493 ]] \r\n",
       "E3 o- - E5 [[psysml:77af57f1-340c-421d-9a30-1a49108711b3 ]] \r\n",
       "E7 - -:|> E3 [[psysml:8bb447da-4a21-4000-9a04-f9f9c4ed48f1 ]] \r\n",
       "E6 *- - E7 [[psysml:4ca48e5a-78fa-40b6-ad88-229f08c03677 ]] \r\n",
       "E5 - -:|> E8 [[psysml:6ff88c17-8c2d-42a4-af32-a2455d6f0acf ]] \r\n",
       "E8 o- - E3 [[psysml:83dfbdb9-73af-4dff-b5ad-52a21a738594 ]] : y\r\n",
       "E8 o- - E6 [[psysml:83dfbdb9-73af-4dff-b5ad-52a21a738594 ]] : y\r\n",
       "}\r\n",
       "@enduml\r\n",
       "\n",
       "PlantUML version 1.2020.13(Sat Jun 13 12:26:38 UTC 2020)\n",
       "(EPL source distribution)\n",
       "Java Runtime: OpenJDK Runtime Environment\n",
       "JVM: OpenJDK 64-Bit Server VM\n",
       "Default Encoding: UTF-8\n",
       "Language: en\n",
       "Country: null\n",
       "--></g></svg>"
      ]
     },
     "execution_count": 16,
     "metadata": {},
     "output_type": "execute_result"
    }
   ],
   "source": [
    "%viz --style=\"LR\" --view=\"Default\" \"ItemTest\""
   ]
  },
  {
   "cell_type": "code",
   "execution_count": 17,
   "id": "realistic-drink",
   "metadata": {
    "execution": {
     "iopub.execute_input": "2021-03-25T15:10:20.650271Z",
     "iopub.status.busy": "2021-03-25T15:10:20.649710Z",
     "iopub.status.idle": "2021-03-25T15:10:20.959797Z",
     "shell.execute_reply": "2021-03-25T15:10:20.958421Z"
    }
   },
   "outputs": [
    {
     "data": {
      "image/svg+xml": [
       "<?xml version=\"1.0\" encoding=\"UTF-8\" standalone=\"no\"?><svg xmlns=\"http://www.w3.org/2000/svg\" xmlns:xlink=\"http://www.w3.org/1999/xlink\" contentScriptType=\"application/ecmascript\" contentStyleType=\"text/css\" height=\"239px\" preserveAspectRatio=\"none\" style=\"width:733px;height:239px;\" version=\"1.1\" viewBox=\"0 0 733 239\" width=\"733px\" zoomAndPan=\"magnify\"><defs/><g><!--MD5=[fbc87193dbaf4d95561dea2c320d4a47]\n",
       "cluster E1--><a href=\"psysml:ffb2e2dc-9c37-4787-be7c-ae8a88a6d943\" target=\"_top\" title=\"psysml:ffb2e2dc-9c37-4787-be7c-ae8a88a6d943\" xlink:actuate=\"onRequest\" xlink:href=\"psysml:ffb2e2dc-9c37-4787-be7c-ae8a88a6d943\" xlink:show=\"new\" xlink:title=\"psysml:ffb2e2dc-9c37-4787-be7c-ae8a88a6d943\" xlink:type=\"simple\"><polygon fill=\"#FFFFFF\" points=\"16,6,91,6,98,28.2969,711,28.2969,711,227,16,227,16,6\" style=\"stroke: #000000; stroke-width: 1.5;\"/><line style=\"stroke: #000000; stroke-width: 1.5;\" x1=\"16\" x2=\"98\" y1=\"28.2969\" y2=\"28.2969\"/><text fill=\"#000000\" font-family=\"sans-serif\" font-size=\"14\" font-weight=\"bold\" lengthAdjust=\"spacingAndGlyphs\" textLength=\"69\" x=\"20\" y=\"20.9951\">ItemTest</text></a><!--MD5=[b4997ac47864f28c2f74865a473b2911]\n",
       "class E2--><a href=\"psysml:cf4d7795-98ee-4d9f-9cbf-a98072608f6d\" target=\"_top\" title=\"psysml:cf4d7795-98ee-4d9f-9cbf-a98072608f6d\" xlink:actuate=\"onRequest\" xlink:href=\"psysml:cf4d7795-98ee-4d9f-9cbf-a98072608f6d\" xlink:show=\"new\" xlink:title=\"psysml:cf4d7795-98ee-4d9f-9cbf-a98072608f6d\" xlink:type=\"simple\"><rect fill=\"#FFFFFF\" height=\"45.9375\" id=\"E2\" rx=\"10\" ry=\"10\" style=\"stroke: #383838; stroke-width: 1.5;\" width=\"43\" x=\"43.5\" y=\"42\"/><text fill=\"#000000\" font-family=\"sans-serif\" font-size=\"12\" font-style=\"italic\" lengthAdjust=\"spacingAndGlyphs\" textLength=\"41\" x=\"44.5\" y=\"58.1387\">«item»</text><text fill=\"#000000\" font-family=\"sans-serif\" font-size=\"12\" lengthAdjust=\"spacingAndGlyphs\" textLength=\"20\" x=\"55\" y=\"72.1074\">f: A</text><line style=\"stroke: #383838; stroke-width: 1.5;\" x1=\"44.5\" x2=\"85.5\" y1=\"79.9375\" y2=\"79.9375\"/></a><!--MD5=[09b614a08d8cba4a07c9adeb5e0fee81]\n",
       "class E3--><a href=\"psysml:be14fc81-3f83-42fd-a525-71826c91787f\" target=\"_top\" title=\"psysml:be14fc81-3f83-42fd-a525-71826c91787f\" xlink:actuate=\"onRequest\" xlink:href=\"psysml:be14fc81-3f83-42fd-a525-71826c91787f\" xlink:show=\"new\" xlink:title=\"psysml:be14fc81-3f83-42fd-a525-71826c91787f\" xlink:type=\"simple\"><rect fill=\"#FFFFFF\" height=\"75.5469\" id=\"E3\" style=\"stroke: #383838; stroke-width: 1.5;\" width=\"67\" x=\"159\" y=\"50\"/><text fill=\"#000000\" font-family=\"sans-serif\" font-size=\"12\" font-style=\"italic\" lengthAdjust=\"spacingAndGlyphs\" textLength=\"65\" x=\"160\" y=\"66.1387\">«item def»</text><text fill=\"#000000\" font-family=\"sans-serif\" font-size=\"12\" lengthAdjust=\"spacingAndGlyphs\" textLength=\"8\" x=\"188.5\" y=\"80.1074\">A</text><line style=\"stroke: #383838; stroke-width: 1.5;\" x1=\"160\" x2=\"225\" y1=\"87.9375\" y2=\"87.9375\"/><text fill=\"#000000\" font-family=\"sans-serif\" font-size=\"11\" lengthAdjust=\"spacingAndGlyphs\" textLength=\"23\" x=\"165\" y=\"118.9526\">b: B</text><line style=\"stroke: #383838; stroke-width: 1.0;\" x1=\"160\" x2=\"176.5\" y1=\"102.3398\" y2=\"102.3398\"/><text fill=\"#000000\" font-family=\"sans-serif\" font-size=\"11\" lengthAdjust=\"spacingAndGlyphs\" textLength=\"32\" x=\"176.5\" y=\"105.6479\">items</text><line style=\"stroke: #383838; stroke-width: 1.0;\" x1=\"208.5\" x2=\"225\" y1=\"102.3398\" y2=\"102.3398\"/></a><!--MD5=[270fce915f116d4de14055a7c1d9a0f3]\n",
       "class E5--><a href=\"psysml:77af57f1-340c-421d-9a30-1a49108711b3\" target=\"_top\" title=\"psysml:77af57f1-340c-421d-9a30-1a49108711b3\" xlink:actuate=\"onRequest\" xlink:href=\"psysml:77af57f1-340c-421d-9a30-1a49108711b3\" xlink:show=\"new\" xlink:title=\"psysml:77af57f1-340c-421d-9a30-1a49108711b3\" xlink:type=\"simple\"><rect fill=\"#FFFFFF\" height=\"45.9375\" id=\"E5\" rx=\"10\" ry=\"10\" style=\"stroke: #383838; stroke-width: 1.5;\" width=\"42\" x=\"287\" y=\"165\"/><text fill=\"#000000\" font-family=\"sans-serif\" font-size=\"12\" font-style=\"italic\" lengthAdjust=\"spacingAndGlyphs\" textLength=\"40\" x=\"288\" y=\"181.1387\">«part»</text><text fill=\"#000000\" font-family=\"sans-serif\" font-size=\"12\" lengthAdjust=\"spacingAndGlyphs\" textLength=\"23\" x=\"296.5\" y=\"195.1074\">c: C</text><line style=\"stroke: #383838; stroke-width: 1.5;\" x1=\"288\" x2=\"328\" y1=\"202.9375\" y2=\"202.9375\"/></a><!--MD5=[60a26617385b1d2d0262a64233df1f8d]\n",
       "class E6--><a href=\"psysml:41f55b44-de87-42d8-a9cd-035ede31bd10\" target=\"_top\" title=\"psysml:41f55b44-de87-42d8-a9cd-035ede31bd10\" xlink:actuate=\"onRequest\" xlink:href=\"psysml:41f55b44-de87-42d8-a9cd-035ede31bd10\" xlink:show=\"new\" xlink:title=\"psysml:41f55b44-de87-42d8-a9cd-035ede31bd10\" xlink:type=\"simple\"><rect fill=\"#FFFFFF\" height=\"45.9375\" id=\"E6\" style=\"stroke: #383838; stroke-width: 1.5;\" width=\"67\" x=\"525\" y=\"78\"/><text fill=\"#000000\" font-family=\"sans-serif\" font-size=\"12\" font-style=\"italic\" lengthAdjust=\"spacingAndGlyphs\" textLength=\"65\" x=\"526\" y=\"94.1387\">«item def»</text><text fill=\"#000000\" font-family=\"sans-serif\" font-size=\"12\" lengthAdjust=\"spacingAndGlyphs\" textLength=\"8\" x=\"554.5\" y=\"108.1074\">B</text><line style=\"stroke: #383838; stroke-width: 1.5;\" x1=\"526\" x2=\"591\" y1=\"115.9375\" y2=\"115.9375\"/></a><!--MD5=[2156ba9850f5573cc1fc38a6a4b2f02b]\n",
       "class E7--><a href=\"psysml:4ca48e5a-78fa-40b6-ad88-229f08c03677\" target=\"_top\" title=\"psysml:4ca48e5a-78fa-40b6-ad88-229f08c03677\" xlink:actuate=\"onRequest\" xlink:href=\"psysml:4ca48e5a-78fa-40b6-ad88-229f08c03677\" xlink:show=\"new\" xlink:title=\"psysml:4ca48e5a-78fa-40b6-ad88-229f08c03677\" xlink:type=\"simple\"><rect fill=\"#FFFFFF\" height=\"45.9375\" id=\"E7\" rx=\"10\" ry=\"10\" style=\"stroke: #383838; stroke-width: 1.5;\" width=\"42\" x=\"653\" y=\"59\"/><text fill=\"#000000\" font-family=\"sans-serif\" font-size=\"12\" font-style=\"italic\" lengthAdjust=\"spacingAndGlyphs\" textLength=\"40\" x=\"654\" y=\"75.1387\">«part»</text><text fill=\"#000000\" font-family=\"sans-serif\" font-size=\"12\" lengthAdjust=\"spacingAndGlyphs\" textLength=\"24\" x=\"662\" y=\"89.1074\">a: A</text><line style=\"stroke: #383838; stroke-width: 1.5;\" x1=\"654\" x2=\"694\" y1=\"96.9375\" y2=\"96.9375\"/></a><!--MD5=[b9389687b975829384b498ac4b7476b2]\n",
       "class E8--><a href=\"psysml:e612b3f8-fad7-4b05-bdfc-52877d32f7f2\" target=\"_top\" title=\"psysml:e612b3f8-fad7-4b05-bdfc-52877d32f7f2\" xlink:actuate=\"onRequest\" xlink:href=\"psysml:e612b3f8-fad7-4b05-bdfc-52877d32f7f2\" xlink:show=\"new\" xlink:title=\"psysml:e612b3f8-fad7-4b05-bdfc-52877d32f7f2\" xlink:type=\"simple\"><rect fill=\"#FFFFFF\" height=\"45.9375\" id=\"E8\" style=\"stroke: #383838; stroke-width: 1.5;\" width=\"66\" x=\"390\" y=\"78\"/><text fill=\"#000000\" font-family=\"sans-serif\" font-size=\"12\" font-style=\"italic\" lengthAdjust=\"spacingAndGlyphs\" textLength=\"64\" x=\"391\" y=\"94.1387\">«part def»</text><text fill=\"#000000\" font-family=\"sans-serif\" font-size=\"12\" lengthAdjust=\"spacingAndGlyphs\" textLength=\"8\" x=\"419\" y=\"108.1074\">C</text><line style=\"stroke: #383838; stroke-width: 1.5;\" x1=\"391\" x2=\"455\" y1=\"115.9375\" y2=\"115.9375\"/></a><!--MD5=[fd4143e9d270a159db93a4ea2a975926]\n",
       "class E9--><a href=\"psysml:b51b1cf2-e677-402d-bf05-bb2fae798694\" target=\"_top\" title=\"psysml:b51b1cf2-e677-402d-bf05-bb2fae798694\" xlink:actuate=\"onRequest\" xlink:href=\"psysml:b51b1cf2-e677-402d-bf05-bb2fae798694\" xlink:show=\"new\" xlink:title=\"psysml:b51b1cf2-e677-402d-bf05-bb2fae798694\" xlink:type=\"simple\"><rect fill=\"#FFFFFF\" height=\"88.3516\" id=\"E9\" style=\"stroke: #383838; stroke-width: 1.5;\" width=\"66\" x=\"32\" y=\"123\"/><text fill=\"#000000\" font-family=\"sans-serif\" font-size=\"12\" font-style=\"italic\" lengthAdjust=\"spacingAndGlyphs\" textLength=\"64\" x=\"33\" y=\"139.1387\">«port def»</text><text fill=\"#000000\" font-family=\"sans-serif\" font-size=\"12\" lengthAdjust=\"spacingAndGlyphs\" textLength=\"8\" x=\"61\" y=\"153.1074\">P</text><line style=\"stroke: #383838; stroke-width: 1.5;\" x1=\"33\" x2=\"97\" y1=\"160.9375\" y2=\"160.9375\"/><text fill=\"#000000\" font-family=\"sans-serif\" font-size=\"11\" lengthAdjust=\"spacingAndGlyphs\" textLength=\"29\" x=\"38\" y=\"191.9526\">a1: A</text><text fill=\"#000000\" font-family=\"sans-serif\" font-size=\"11\" lengthAdjust=\"spacingAndGlyphs\" textLength=\"29\" x=\"38\" y=\"204.7573\">a2: A</text><line style=\"stroke: #383838; stroke-width: 1.0;\" x1=\"33\" x2=\"49\" y1=\"175.3398\" y2=\"175.3398\"/><text fill=\"#000000\" font-family=\"sans-serif\" font-size=\"11\" lengthAdjust=\"spacingAndGlyphs\" textLength=\"32\" x=\"49\" y=\"178.6479\">items</text><line style=\"stroke: #383838; stroke-width: 1.0;\" x1=\"81\" x2=\"97\" y1=\"175.3398\" y2=\"175.3398\"/></a><!--MD5=[2720a5a1f2c3fca2055b230370638851]\n",
       "link E2 to E3--><a href=\"psysml:5c778f2f-9d99-44f7-9cbe-495e6850b493\" target=\"_top\" title=\"psysml:5c778f2f-9d99-44f7-9cbe-495e6850b493\" xlink:actuate=\"onRequest\" xlink:href=\"psysml:5c778f2f-9d99-44f7-9cbe-495e6850b493\" xlink:show=\"new\" xlink:title=\"psysml:5c778f2f-9d99-44f7-9cbe-495e6850b493\" xlink:type=\"simple\"><path d=\"M86.72,68.8 C100.99,71.41 120.62,75.01 139.03,78.38 \" fill=\"none\" id=\"E2-&gt;E3\" style=\"stroke: #383838; stroke-width: 1.0;\"/><polygon fill=\"#FFFFFF\" points=\"158.95,82.03,139.0003,85.4953,141.5205,71.724,158.95,82.03\" style=\"stroke: #383838; stroke-width: 1.0;\"/><ellipse cx=\"133.7534\" cy=\"82.5019\" fill=\"#383838\" rx=\"2\" ry=\"2\" style=\"stroke: #383838; stroke-width: 1.0;\"/><ellipse cx=\"135.5536\" cy=\"72.6653\" fill=\"#383838\" rx=\"2\" ry=\"2\" style=\"stroke: #383838; stroke-width: 1.0;\"/></a><!--MD5=[191cde3d490a3f6d7bb551fe3ddca469]\n",
       "reverse link E3 to E5--><a href=\"psysml:77af57f1-340c-421d-9a30-1a49108711b3\" target=\"_top\" title=\"psysml:77af57f1-340c-421d-9a30-1a49108711b3\" xlink:actuate=\"onRequest\" xlink:href=\"psysml:77af57f1-340c-421d-9a30-1a49108711b3\" xlink:show=\"new\" xlink:title=\"psysml:77af57f1-340c-421d-9a30-1a49108711b3\" xlink:type=\"simple\"><path d=\"M236.03,125.47 C253.49,140.85 272.86,157.92 286.96,170.34 \" fill=\"none\" id=\"E3&lt;-E5\" style=\"stroke: #383838; stroke-width: 1.0;\"/><polygon fill=\"#FFFFFF\" points=\"226.02,116.66,227.8712,123.6294,235.0165,124.6012,233.1653,117.6318,226.02,116.66\" style=\"stroke: #383838; stroke-width: 1.0;\"/></a><!--MD5=[14ccda38c055a5c0da953d572bc50960]\n",
       "link E7 to E3--><a href=\"psysml:8bb447da-4a21-4000-9a04-f9f9c4ed48f1\" target=\"_top\" title=\"psysml:8bb447da-4a21-4000-9a04-f9f9c4ed48f1\" xlink:actuate=\"onRequest\" xlink:href=\"psysml:8bb447da-4a21-4000-9a04-f9f9c4ed48f1\" xlink:show=\"new\" xlink:title=\"psysml:8bb447da-4a21-4000-9a04-f9f9c4ed48f1\" xlink:type=\"simple\"><path d=\"M652.84,70.22 C630.71,58.42 593.76,42 559.5,42 C307,42 307,42 307,42 C285.58,42 263.45,49.12 244.48,57.76 \" fill=\"none\" id=\"E7-&gt;E3\" style=\"stroke: #383838; stroke-width: 1.0;\"/><polygon fill=\"#FFFFFF\" points=\"226.36,66.88,240.1858,52.0866,246.4788,64.5925,226.36,66.88\" style=\"stroke: #383838; stroke-width: 1.0;\"/><ellipse cx=\"246.1765\" cy=\"51.311\" fill=\"#383838\" rx=\"2\" ry=\"2\" style=\"stroke: #383838; stroke-width: 1.0;\"/><ellipse cx=\"250.6715\" cy=\"60.2438\" fill=\"#383838\" rx=\"2\" ry=\"2\" style=\"stroke: #383838; stroke-width: 1.0;\"/></a><!--MD5=[3f50a3473f1dfb74d3f76443e03635af]\n",
       "reverse link E6 to E7--><a href=\"psysml:4ca48e5a-78fa-40b6-ad88-229f08c03677\" target=\"_top\" title=\"psysml:4ca48e5a-78fa-40b6-ad88-229f08c03677\" xlink:actuate=\"onRequest\" xlink:href=\"psysml:4ca48e5a-78fa-40b6-ad88-229f08c03677\" xlink:show=\"new\" xlink:title=\"psysml:4ca48e5a-78fa-40b6-ad88-229f08c03677\" xlink:type=\"simple\"><path d=\"M604.98,93.39 C621.64,90.6 639.65,87.58 652.96,85.36 \" fill=\"none\" id=\"E6&lt;-E7\" style=\"stroke: #383838; stroke-width: 1.0;\"/><polygon fill=\"#383838\" points=\"592.02,95.56,598.6002,98.5097,603.8539,93.5701,597.2736,90.6204,592.02,95.56\" style=\"stroke: #383838; stroke-width: 1.0;\"/></a><!--MD5=[dfaffb906826c3e5aca635516100ff21]\n",
       "link E5 to E8--><a href=\"psysml:6ff88c17-8c2d-42a4-af32-a2455d6f0acf\" target=\"_top\" title=\"psysml:6ff88c17-8c2d-42a4-af32-a2455d6f0acf\" xlink:actuate=\"onRequest\" xlink:href=\"psysml:6ff88c17-8c2d-42a4-af32-a2455d6f0acf\" xlink:show=\"new\" xlink:title=\"psysml:6ff88c17-8c2d-42a4-af32-a2455d6f0acf\" xlink:type=\"simple\"><path d=\"M329.2,172.45 C342.18,162.45 359.59,149.05 375.82,136.55 \" fill=\"none\" id=\"E5-&gt;E8\" style=\"stroke: #383838; stroke-width: 1.0;\"/><polygon fill=\"#FFFFFF\" points=\"391.76,124.28,380.9793,141.4199,372.4361,130.3288,391.76,124.28\" style=\"stroke: #383838; stroke-width: 1.0;\"/><ellipse cx=\"375.2432\" cy=\"143.3138\" fill=\"#383838\" rx=\"2\" ry=\"2\" style=\"stroke: #383838; stroke-width: 1.0;\"/><ellipse cx=\"369.1409\" cy=\"135.3915\" fill=\"#383838\" rx=\"2\" ry=\"2\" style=\"stroke: #383838; stroke-width: 1.0;\"/></a><!--MD5=[03c8294790d3c57651a1993cecff665f]\n",
       "reverse link E8 to E3--><a href=\"psysml:83dfbdb9-73af-4dff-b5ad-52a21a738594\" target=\"_top\" title=\"psysml:83dfbdb9-73af-4dff-b5ad-52a21a738594\" xlink:actuate=\"onRequest\" xlink:href=\"psysml:83dfbdb9-73af-4dff-b5ad-52a21a738594\" xlink:show=\"new\" xlink:title=\"psysml:83dfbdb9-73af-4dff-b5ad-52a21a738594\" xlink:type=\"simple\"><path d=\"M376.68,98.42 C332.29,95.9 265.72,92.11 226.24,89.86 \" fill=\"none\" id=\"E8&lt;-E3\" style=\"stroke: #383838; stroke-width: 1.0;\"/><polygon fill=\"#FFFFFF\" points=\"389.69,99.16,383.9282,94.8239,377.7096,98.4747,383.4713,102.8108,389.69,99.16\" style=\"stroke: #383838; stroke-width: 1.0;\"/><text fill=\"#000000\" font-family=\"sans-serif\" font-size=\"13\" lengthAdjust=\"spacingAndGlyphs\" textLength=\"7\" x=\"304.5\" y=\"90.0669\">y</text></a><!--MD5=[0d75d2178373a6a4568e5dc728f58aef]\n",
       "reverse link E8 to E6--><a href=\"psysml:83dfbdb9-73af-4dff-b5ad-52a21a738594\" target=\"_top\" title=\"psysml:83dfbdb9-73af-4dff-b5ad-52a21a738594\" xlink:actuate=\"onRequest\" xlink:href=\"psysml:83dfbdb9-73af-4dff-b5ad-52a21a738594\" xlink:show=\"new\" xlink:title=\"psysml:83dfbdb9-73af-4dff-b5ad-52a21a738594\" xlink:type=\"simple\"><path d=\"M469.57,101 C487.62,101 507.98,101 524.55,101 \" fill=\"none\" id=\"E8&lt;-E6\" style=\"stroke: #383838; stroke-width: 1.0;\"/><polygon fill=\"#FFFFFF\" points=\"456.32,101,462.32,105,468.32,101,462.32,97,456.32,101\" style=\"stroke: #383838; stroke-width: 1.0;\"/><text fill=\"#000000\" font-family=\"sans-serif\" font-size=\"13\" lengthAdjust=\"spacingAndGlyphs\" textLength=\"7\" x=\"487\" y=\"97.0669\">y</text></a><!--MD5=[17cddc0da788454d01668fa979b95c16]\n",
       "@startuml\r\n",
       "left to right direction\r\n",
       "skinparam monochrome true\r\n",
       "skinparam classbackgroundcolor white\r\n",
       "skinparam shadowing false\r\n",
       "skinparam wrapWidth 300\r\n",
       "hide circle\r\n",
       "\r\n",
       "package \"ItemTest\" as E1  [[psysml:ffb2e2dc-9c37-4787-be7c-ae8a88a6d943 ]]  {\r\n",
       "comp usage \"f: A\" as E2  <<(T,blue)item>> [[psysml:cf4d7795-98ee-4d9f-9cbf-a98072608f6d ]] {\r\n",
       "}\r\n",
       "comp def \"A\" as E3  <<(T,blue)item def>> [[psysml:be14fc81-3f83-42fd-a525-71826c91787f ]] {\r\n",
       "- - items - -\r\n",
       "b: B\r\n",
       "}\r\n",
       "comp usage \"c: C\" as E5  <<(T,blue)part>> [[psysml:77af57f1-340c-421d-9a30-1a49108711b3 ]] {\r\n",
       "}\r\n",
       "comp def \"B\" as E6  <<(T,blue)item def>> [[psysml:41f55b44-de87-42d8-a9cd-035ede31bd10 ]] {\r\n",
       "}\r\n",
       "comp usage \"a: A\" as E7  <<(T,blue)part>> [[psysml:4ca48e5a-78fa-40b6-ad88-229f08c03677 ]] {\r\n",
       "}\r\n",
       "comp def \"C\" as E8  <<(T,blue)part def>> [[psysml:e612b3f8-fad7-4b05-bdfc-52877d32f7f2 ]] {\r\n",
       "}\r\n",
       "comp def \"P\" as E9  <<(T,blue)port def>> [[psysml:b51b1cf2-e677-402d-bf05-bb2fae798694 ]] {\r\n",
       "- - items - -\r\n",
       "a1: A\r\n",
       "a2: A\r\n",
       "}\r\n",
       "E2 - -:|> E3 [[psysml:5c778f2f-9d99-44f7-9cbe-495e6850b493 ]] \r\n",
       "E3 o- - E5 [[psysml:77af57f1-340c-421d-9a30-1a49108711b3 ]] \r\n",
       "E7 - -:|> E3 [[psysml:8bb447da-4a21-4000-9a04-f9f9c4ed48f1 ]] \r\n",
       "E6 *- - E7 [[psysml:4ca48e5a-78fa-40b6-ad88-229f08c03677 ]] \r\n",
       "E5 - -:|> E8 [[psysml:6ff88c17-8c2d-42a4-af32-a2455d6f0acf ]] \r\n",
       "E8 o- - E3 [[psysml:83dfbdb9-73af-4dff-b5ad-52a21a738594 ]] : y\r\n",
       "E8 o- - E6 [[psysml:83dfbdb9-73af-4dff-b5ad-52a21a738594 ]] : y\r\n",
       "}\r\n",
       "@enduml\r\n",
       "\n",
       "PlantUML version 1.2020.13(Sat Jun 13 12:26:38 UTC 2020)\n",
       "(EPL source distribution)\n",
       "Java Runtime: OpenJDK Runtime Environment\n",
       "JVM: OpenJDK 64-Bit Server VM\n",
       "Default Encoding: UTF-8\n",
       "Language: en\n",
       "Country: null\n",
       "--></g></svg>"
      ]
     },
     "execution_count": 17,
     "metadata": {},
     "output_type": "execute_result"
    }
   ],
   "source": [
    "%viz --style=\"LR\" --view=\"Tree\" \"ItemTest\""
   ]
  },
  {
   "cell_type": "code",
   "execution_count": 18,
   "id": "honey-sheriff",
   "metadata": {
    "execution": {
     "iopub.execute_input": "2021-03-25T15:10:21.011512Z",
     "iopub.status.busy": "2021-03-25T15:10:21.010941Z",
     "iopub.status.idle": "2021-03-25T15:10:21.018894Z",
     "shell.execute_reply": "2021-03-25T15:10:21.018461Z"
    }
   },
   "outputs": [
    {
     "data": {
      "image/svg+xml": [
       "<?xml version=\"1.0\" encoding=\"UTF-8\" standalone=\"no\"?><svg xmlns=\"http://www.w3.org/2000/svg\" xmlns:xlink=\"http://www.w3.org/1999/xlink\" contentScriptType=\"application/ecmascript\" contentStyleType=\"text/css\" height=\"12px\" preserveAspectRatio=\"none\" style=\"width:12px;height:12px;\" version=\"1.1\" viewBox=\"0 0 12 12\" width=\"12px\" zoomAndPan=\"magnify\"><defs/><g><!--MD5=[19d285c9d72a204eba4e2cd117d745e8]\n",
       "@startuml\r\n",
       "left to right direction\r\n",
       "skinparam monochrome true\r\n",
       "skinparam classbackgroundcolor white\r\n",
       "skinparam shadowing false\r\n",
       "skinparam wrapWidth 300\r\n",
       "hide circle\r\n",
       "\r\n",
       "@enduml\r\n",
       "\n",
       "PlantUML version 1.2020.13(Sat Jun 13 12:26:38 UTC 2020)\n",
       "(EPL source distribution)\n",
       "Java Runtime: OpenJDK Runtime Environment\n",
       "JVM: OpenJDK 64-Bit Server VM\n",
       "Default Encoding: UTF-8\n",
       "Language: en\n",
       "Country: null\n",
       "--></g></svg>"
      ]
     },
     "execution_count": 18,
     "metadata": {},
     "output_type": "execute_result"
    }
   ],
   "source": [
    "%viz --style=\"LR\" --view=\"State\" \"ItemTest\""
   ]
  },
  {
   "cell_type": "code",
   "execution_count": 19,
   "id": "cathedral-paste",
   "metadata": {
    "execution": {
     "iopub.execute_input": "2021-03-25T15:10:21.071694Z",
     "iopub.status.busy": "2021-03-25T15:10:21.071143Z",
     "iopub.status.idle": "2021-03-25T15:10:21.173933Z",
     "shell.execute_reply": "2021-03-25T15:10:21.172260Z"
    }
   },
   "outputs": [
    {
     "data": {
      "image/svg+xml": [
       "<?xml version=\"1.0\" encoding=\"UTF-8\" standalone=\"no\"?><svg xmlns=\"http://www.w3.org/2000/svg\" xmlns:xlink=\"http://www.w3.org/1999/xlink\" contentScriptType=\"application/ecmascript\" contentStyleType=\"text/css\" height=\"518px\" preserveAspectRatio=\"none\" style=\"width:200px;height:518px;\" version=\"1.1\" viewBox=\"0 0 200 518\" width=\"200px\" zoomAndPan=\"magnify\"><defs/><g><!--MD5=[fbc87193dbaf4d95561dea2c320d4a47]\n",
       "cluster E1--><a href=\"psysml:ffb2e2dc-9c37-4787-be7c-ae8a88a6d943\" target=\"_top\" title=\"psysml:ffb2e2dc-9c37-4787-be7c-ae8a88a6d943\" xlink:actuate=\"onRequest\" xlink:href=\"psysml:ffb2e2dc-9c37-4787-be7c-ae8a88a6d943\" xlink:show=\"new\" xlink:title=\"psysml:ffb2e2dc-9c37-4787-be7c-ae8a88a6d943\" xlink:type=\"simple\"><polygon fill=\"#FFFFFF\" points=\"16,6,91,6,98,28.2969,178,28.2969,178,506,16,506,16,6\" style=\"stroke: #000000; stroke-width: 1.5;\"/><line style=\"stroke: #000000; stroke-width: 1.5;\" x1=\"16\" x2=\"98\" y1=\"28.2969\" y2=\"28.2969\"/><text fill=\"#000000\" font-family=\"sans-serif\" font-size=\"14\" font-weight=\"bold\" lengthAdjust=\"spacingAndGlyphs\" textLength=\"69\" x=\"20\" y=\"20.9951\">ItemTest</text></a><!--MD5=[de5ec2e2e8f62f467e546659f5068c88]\n",
       "cluster E5--><a href=\"psysml:e612b3f8-fad7-4b05-bdfc-52877d32f7f2\" target=\"_top\" title=\"psysml:e612b3f8-fad7-4b05-bdfc-52877d32f7f2\" xlink:actuate=\"onRequest\" xlink:href=\"psysml:e612b3f8-fad7-4b05-bdfc-52877d32f7f2\" xlink:show=\"new\" xlink:title=\"psysml:e612b3f8-fad7-4b05-bdfc-52877d32f7f2\" xlink:type=\"simple\"><rect fill=\"#FFFFFF\" height=\"111\" id=\"E5\" style=\"stroke: #383838; stroke-width: 1.5;\" width=\"114\" x=\"40\" y=\"49\"/><rect fill=\"#F8F8F8\" height=\"37.9375\" style=\"stroke: #383838; stroke-width: 1.5;\" width=\"114\" x=\"40\" y=\"49\"/><text fill=\"#000000\" font-family=\"sans-serif\" font-size=\"12\" font-style=\"italic\" lengthAdjust=\"spacingAndGlyphs\" textLength=\"64\" x=\"65\" y=\"65.1387\">«part def»</text><text fill=\"#000000\" font-family=\"sans-serif\" font-size=\"12\" lengthAdjust=\"spacingAndGlyphs\" textLength=\"8\" x=\"93\" y=\"79.1074\">C</text></a><!--MD5=[09b614a08d8cba4a07c9adeb5e0fee81]\n",
       "class E3--><a href=\"psysml:be14fc81-3f83-42fd-a525-71826c91787f\" target=\"_top\" title=\"psysml:be14fc81-3f83-42fd-a525-71826c91787f\" xlink:actuate=\"onRequest\" xlink:href=\"psysml:be14fc81-3f83-42fd-a525-71826c91787f\" xlink:show=\"new\" xlink:title=\"psysml:be14fc81-3f83-42fd-a525-71826c91787f\" xlink:type=\"simple\"><rect fill=\"#FFFFFF\" height=\"53.9375\" id=\"E3\" style=\"stroke: #383838; stroke-width: 1.5;\" width=\"115\" x=\"39.5\" y=\"179\"/><text fill=\"#000000\" font-family=\"sans-serif\" font-size=\"12\" font-style=\"italic\" lengthAdjust=\"spacingAndGlyphs\" textLength=\"113\" x=\"40.5\" y=\"195.1387\">«(T,blue)item def»</text><text fill=\"#000000\" font-family=\"sans-serif\" font-size=\"12\" lengthAdjust=\"spacingAndGlyphs\" textLength=\"8\" x=\"93\" y=\"209.1074\">A</text><line style=\"stroke: #383838; stroke-width: 1.5;\" x1=\"40.5\" x2=\"153.5\" y1=\"216.9375\" y2=\"216.9375\"/><line style=\"stroke: #383838; stroke-width: 1.5;\" x1=\"40.5\" x2=\"153.5\" y1=\"224.9375\" y2=\"224.9375\"/></a><!--MD5=[ebbe1d658d1005bcc118a6aa81145e00]\n",
       "class E4--><a href=\"psysml:41f55b44-de87-42d8-a9cd-035ede31bd10\" target=\"_top\" title=\"psysml:41f55b44-de87-42d8-a9cd-035ede31bd10\" xlink:actuate=\"onRequest\" xlink:href=\"psysml:41f55b44-de87-42d8-a9cd-035ede31bd10\" xlink:show=\"new\" xlink:title=\"psysml:41f55b44-de87-42d8-a9cd-035ede31bd10\" xlink:type=\"simple\"><rect fill=\"#FFFFFF\" height=\"53.9375\" id=\"E4\" style=\"stroke: #383838; stroke-width: 1.5;\" width=\"115\" x=\"39.5\" y=\"268\"/><text fill=\"#000000\" font-family=\"sans-serif\" font-size=\"12\" font-style=\"italic\" lengthAdjust=\"spacingAndGlyphs\" textLength=\"113\" x=\"40.5\" y=\"284.1387\">«(T,blue)item def»</text><text fill=\"#000000\" font-family=\"sans-serif\" font-size=\"12\" lengthAdjust=\"spacingAndGlyphs\" textLength=\"8\" x=\"93\" y=\"298.1074\">B</text><line style=\"stroke: #383838; stroke-width: 1.5;\" x1=\"40.5\" x2=\"153.5\" y1=\"305.9375\" y2=\"305.9375\"/><line style=\"stroke: #383838; stroke-width: 1.5;\" x1=\"40.5\" x2=\"153.5\" y1=\"313.9375\" y2=\"313.9375\"/></a><!--MD5=[2156ba9850f5573cc1fc38a6a4b2f02b]\n",
       "class E7--><a href=\"psysml:b51b1cf2-e677-402d-bf05-bb2fae798694\" target=\"_top\" title=\"psysml:b51b1cf2-e677-402d-bf05-bb2fae798694\" xlink:actuate=\"onRequest\" xlink:href=\"psysml:b51b1cf2-e677-402d-bf05-bb2fae798694\" xlink:show=\"new\" xlink:title=\"psysml:b51b1cf2-e677-402d-bf05-bb2fae798694\" xlink:type=\"simple\"><rect fill=\"#FFFFFF\" height=\"53.9375\" id=\"E7\" style=\"stroke: #383838; stroke-width: 1.5;\" width=\"114\" x=\"40\" y=\"357\"/><text fill=\"#000000\" font-family=\"sans-serif\" font-size=\"12\" font-style=\"italic\" lengthAdjust=\"spacingAndGlyphs\" textLength=\"112\" x=\"41\" y=\"373.1387\">«(T,blue)port def»</text><text fill=\"#000000\" font-family=\"sans-serif\" font-size=\"12\" lengthAdjust=\"spacingAndGlyphs\" textLength=\"8\" x=\"93\" y=\"387.1074\">P</text><line style=\"stroke: #383838; stroke-width: 1.5;\" x1=\"41\" x2=\"153\" y1=\"394.9375\" y2=\"394.9375\"/><line style=\"stroke: #383838; stroke-width: 1.5;\" x1=\"41\" x2=\"153\" y1=\"402.9375\" y2=\"402.9375\"/></a><g id=\"E1.E2\"><a href=\"psysml:cf4d7795-98ee-4d9f-9cbf-a98072608f6d\" target=\"_top\" title=\"psysml:cf4d7795-98ee-4d9f-9cbf-a98072608f6d\" xlink:actuate=\"onRequest\" xlink:href=\"psysml:cf4d7795-98ee-4d9f-9cbf-a98072608f6d\" xlink:show=\"new\" xlink:title=\"psysml:cf4d7795-98ee-4d9f-9cbf-a98072608f6d\" xlink:type=\"simple\"><rect fill=\"#FFFFFF\" height=\"42.9375\" id=\"E2\" rx=\"10\" ry=\"10\" style=\"stroke: #383838; stroke-width: 1.5;\" width=\"50\" x=\"72\" y=\"446.5\"/><rect fill=\"#F8F8F8\" height=\"37.9375\" rx=\"10\" ry=\"10\" style=\"stroke: #F8F8F8; stroke-width: 1.5;\" width=\"50\" x=\"72\" y=\"446.5\"/><rect fill=\"#F8F8F8\" height=\"10\" style=\"stroke: #F8F8F8; stroke-width: 1.5;\" width=\"50\" x=\"72\" y=\"474.4375\"/><rect fill=\"none\" height=\"42.9375\" id=\"E2\" rx=\"10\" ry=\"10\" style=\"stroke: #383838; stroke-width: 1.5;\" width=\"50\" x=\"72\" y=\"446.5\"/><text fill=\"#000000\" font-family=\"sans-serif\" font-size=\"12\" font-style=\"italic\" lengthAdjust=\"spacingAndGlyphs\" textLength=\"41\" x=\"76.5\" y=\"462.6387\">«item»</text><text fill=\"#000000\" font-family=\"sans-serif\" font-size=\"12\" lengthAdjust=\"spacingAndGlyphs\" textLength=\"20\" x=\"87\" y=\"476.6074\">f: A</text></a></g><g id=\"E1.E5.E6\"><a href=\"psysml:83dfbdb9-73af-4dff-b5ad-52a21a738594\" target=\"_top\" title=\"psysml:83dfbdb9-73af-4dff-b5ad-52a21a738594\" xlink:actuate=\"onRequest\" xlink:href=\"psysml:83dfbdb9-73af-4dff-b5ad-52a21a738594\" xlink:show=\"new\" xlink:title=\"psysml:83dfbdb9-73af-4dff-b5ad-52a21a738594\" xlink:type=\"simple\"><rect fill=\"#FFFFFF\" height=\"42.9375\" id=\"E6\" rx=\"10\" ry=\"10\" style=\"stroke: #383838; stroke-width: 1.5;\" width=\"82\" x=\"56\" y=\"100.5\"/><rect fill=\"#F8F8F8\" height=\"37.9375\" rx=\"10\" ry=\"10\" style=\"stroke: #F8F8F8; stroke-width: 1.5;\" width=\"82\" x=\"56\" y=\"100.5\"/><rect fill=\"#F8F8F8\" height=\"10\" style=\"stroke: #F8F8F8; stroke-width: 1.5;\" width=\"82\" x=\"56\" y=\"128.4375\"/><rect fill=\"none\" height=\"42.9375\" id=\"E6\" rx=\"10\" ry=\"10\" style=\"stroke: #383838; stroke-width: 1.5;\" width=\"82\" x=\"56\" y=\"100.5\"/><text fill=\"#000000\" font-family=\"sans-serif\" font-size=\"12\" font-style=\"italic\" lengthAdjust=\"spacingAndGlyphs\" textLength=\"75\" x=\"59.5\" y=\"116.6387\">«reference»</text><text fill=\"#000000\" font-family=\"sans-serif\" font-size=\"12\" lengthAdjust=\"spacingAndGlyphs\" textLength=\"38\" x=\"78\" y=\"130.6074\">y: A, B</text></a></g><!--MD5=[740347378da6510d61778da40f4d3b35]\n",
       "@startuml\r\n",
       "skinparam ranksep 8\r\n",
       "skinparam rectangle {\r\n",
       " backgroundColor<<block>> LightGreen\r\n",
       "}\r\n",
       "left to right direction\r\n",
       "skinparam monochrome true\r\n",
       "skinparam classbackgroundcolor white\r\n",
       "skinparam shadowing false\r\n",
       "skinparam wrapWidth 300\r\n",
       "hide circle\r\n",
       "\r\n",
       "package \"ItemTest\" as E1  [[psysml:ffb2e2dc-9c37-4787-be7c-ae8a88a6d943 ]]  {\r\n",
       "rec usage \"f: A\" as E2  <<(T,blue)item>> [[psysml:cf4d7795-98ee-4d9f-9cbf-a98072608f6d ]] {\r\n",
       "}\r\n",
       "def \"A\" as E3  <<(T,blue)item def>> [[psysml:be14fc81-3f83-42fd-a525-71826c91787f ]] \r\n",
       "def \"B\" as E4  <<(T,blue)item def>> [[psysml:41f55b44-de87-42d8-a9cd-035ede31bd10 ]] \r\n",
       "rec def \"C\" as E5  <<(T,blue)part def>> [[psysml:e612b3f8-fad7-4b05-bdfc-52877d32f7f2 ]] {\r\n",
       "rec usage \"y: A, B\" as E6  <<(T,blue)reference>> [[psysml:83dfbdb9-73af-4dff-b5ad-52a21a738594 ]] {\r\n",
       "}\r\n",
       "}\r\n",
       "def \"P\" as E7  <<(T,blue)port def>> [[psysml:b51b1cf2-e677-402d-bf05-bb2fae798694 ]] \r\n",
       "}\r\n",
       "@enduml\r\n",
       "\n",
       "PlantUML version 1.2020.13(Sat Jun 13 12:26:38 UTC 2020)\n",
       "(EPL source distribution)\n",
       "Java Runtime: OpenJDK Runtime Environment\n",
       "JVM: OpenJDK 64-Bit Server VM\n",
       "Default Encoding: UTF-8\n",
       "Language: en\n",
       "Country: null\n",
       "--></g></svg>"
      ]
     },
     "execution_count": 19,
     "metadata": {},
     "output_type": "execute_result"
    }
   ],
   "source": [
    "%viz --style=\"LR\" --view=\"Interconnection\" \"ItemTest\""
   ]
  },
  {
   "cell_type": "code",
   "execution_count": 20,
   "id": "compound-scholarship",
   "metadata": {
    "execution": {
     "iopub.execute_input": "2021-03-25T15:10:21.226217Z",
     "iopub.status.busy": "2021-03-25T15:10:21.225716Z",
     "iopub.status.idle": "2021-03-25T15:10:21.233895Z",
     "shell.execute_reply": "2021-03-25T15:10:21.233550Z"
    }
   },
   "outputs": [
    {
     "data": {
      "image/svg+xml": [
       "<?xml version=\"1.0\" encoding=\"UTF-8\" standalone=\"no\"?><svg xmlns=\"http://www.w3.org/2000/svg\" xmlns:xlink=\"http://www.w3.org/1999/xlink\" contentScriptType=\"application/ecmascript\" contentStyleType=\"text/css\" height=\"12px\" preserveAspectRatio=\"none\" style=\"width:12px;height:12px;\" version=\"1.1\" viewBox=\"0 0 12 12\" width=\"12px\" zoomAndPan=\"magnify\"><defs/><g><!--MD5=[7aeb398939421629f6affaa4a1a7b125]\n",
       "@startuml\r\n",
       "skinparam ranksep 8\r\n",
       "left to right direction\r\n",
       "skinparam monochrome true\r\n",
       "skinparam classbackgroundcolor white\r\n",
       "skinparam shadowing false\r\n",
       "skinparam wrapWidth 300\r\n",
       "hide circle\r\n",
       "\r\n",
       "@enduml\r\n",
       "\n",
       "PlantUML version 1.2020.13(Sat Jun 13 12:26:38 UTC 2020)\n",
       "(EPL source distribution)\n",
       "Java Runtime: OpenJDK Runtime Environment\n",
       "JVM: OpenJDK 64-Bit Server VM\n",
       "Default Encoding: UTF-8\n",
       "Language: en\n",
       "Country: null\n",
       "--></g></svg>"
      ]
     },
     "execution_count": 20,
     "metadata": {},
     "output_type": "execute_result"
    }
   ],
   "source": [
    "%viz --style=\"LR\" --view=\"Action\" \"ItemTest\""
   ]
  },
  {
   "cell_type": "code",
   "execution_count": 21,
   "id": "atlantic-whole",
   "metadata": {
    "execution": {
     "iopub.execute_input": "2021-03-25T15:10:21.286839Z",
     "iopub.status.busy": "2021-03-25T15:10:21.286086Z",
     "iopub.status.idle": "2021-03-25T15:10:21.577733Z",
     "shell.execute_reply": "2021-03-25T15:10:21.576270Z"
    }
   },
   "outputs": [
    {
     "data": {
      "image/svg+xml": [
       "<?xml version=\"1.0\" encoding=\"UTF-8\" standalone=\"no\"?><svg xmlns=\"http://www.w3.org/2000/svg\" xmlns:xlink=\"http://www.w3.org/1999/xlink\" contentScriptType=\"application/ecmascript\" contentStyleType=\"text/css\" height=\"239px\" preserveAspectRatio=\"none\" style=\"width:733px;height:239px;\" version=\"1.1\" viewBox=\"0 0 733 239\" width=\"733px\" zoomAndPan=\"magnify\"><defs/><g><!--MD5=[fbc87193dbaf4d95561dea2c320d4a47]\n",
       "cluster E1--><a href=\"psysml:ffb2e2dc-9c37-4787-be7c-ae8a88a6d943\" target=\"_top\" title=\"psysml:ffb2e2dc-9c37-4787-be7c-ae8a88a6d943\" xlink:actuate=\"onRequest\" xlink:href=\"psysml:ffb2e2dc-9c37-4787-be7c-ae8a88a6d943\" xlink:show=\"new\" xlink:title=\"psysml:ffb2e2dc-9c37-4787-be7c-ae8a88a6d943\" xlink:type=\"simple\"><polygon fill=\"#FFFFFF\" points=\"16,6,91,6,98,28.2969,711,28.2969,711,227,16,227,16,6\" style=\"stroke: #000000; stroke-width: 1.5;\"/><line style=\"stroke: #000000; stroke-width: 1.5;\" x1=\"16\" x2=\"98\" y1=\"28.2969\" y2=\"28.2969\"/><text fill=\"#000000\" font-family=\"sans-serif\" font-size=\"14\" font-weight=\"bold\" lengthAdjust=\"spacingAndGlyphs\" textLength=\"69\" x=\"20\" y=\"20.9951\">ItemTest</text></a><!--MD5=[b4997ac47864f28c2f74865a473b2911]\n",
       "class E2--><a href=\"psysml:cf4d7795-98ee-4d9f-9cbf-a98072608f6d\" target=\"_top\" title=\"psysml:cf4d7795-98ee-4d9f-9cbf-a98072608f6d\" xlink:actuate=\"onRequest\" xlink:href=\"psysml:cf4d7795-98ee-4d9f-9cbf-a98072608f6d\" xlink:show=\"new\" xlink:title=\"psysml:cf4d7795-98ee-4d9f-9cbf-a98072608f6d\" xlink:type=\"simple\"><rect fill=\"#FFFFFF\" height=\"45.9375\" id=\"E2\" rx=\"10\" ry=\"10\" style=\"stroke: #383838; stroke-width: 1.5;\" width=\"43\" x=\"43.5\" y=\"42\"/><text fill=\"#000000\" font-family=\"sans-serif\" font-size=\"12\" font-style=\"italic\" lengthAdjust=\"spacingAndGlyphs\" textLength=\"41\" x=\"44.5\" y=\"58.1387\">«item»</text><text fill=\"#000000\" font-family=\"sans-serif\" font-size=\"12\" lengthAdjust=\"spacingAndGlyphs\" textLength=\"20\" x=\"55\" y=\"72.1074\">f: A</text><line style=\"stroke: #383838; stroke-width: 1.5;\" x1=\"44.5\" x2=\"85.5\" y1=\"79.9375\" y2=\"79.9375\"/></a><!--MD5=[09b614a08d8cba4a07c9adeb5e0fee81]\n",
       "class E3--><a href=\"psysml:be14fc81-3f83-42fd-a525-71826c91787f\" target=\"_top\" title=\"psysml:be14fc81-3f83-42fd-a525-71826c91787f\" xlink:actuate=\"onRequest\" xlink:href=\"psysml:be14fc81-3f83-42fd-a525-71826c91787f\" xlink:show=\"new\" xlink:title=\"psysml:be14fc81-3f83-42fd-a525-71826c91787f\" xlink:type=\"simple\"><rect fill=\"#FFFFFF\" height=\"75.5469\" id=\"E3\" style=\"stroke: #383838; stroke-width: 1.5;\" width=\"67\" x=\"159\" y=\"50\"/><text fill=\"#000000\" font-family=\"sans-serif\" font-size=\"12\" font-style=\"italic\" lengthAdjust=\"spacingAndGlyphs\" textLength=\"65\" x=\"160\" y=\"66.1387\">«item def»</text><text fill=\"#000000\" font-family=\"sans-serif\" font-size=\"12\" lengthAdjust=\"spacingAndGlyphs\" textLength=\"8\" x=\"188.5\" y=\"80.1074\">A</text><line style=\"stroke: #383838; stroke-width: 1.5;\" x1=\"160\" x2=\"225\" y1=\"87.9375\" y2=\"87.9375\"/><text fill=\"#000000\" font-family=\"sans-serif\" font-size=\"11\" lengthAdjust=\"spacingAndGlyphs\" textLength=\"23\" x=\"165\" y=\"118.9526\">b: B</text><line style=\"stroke: #383838; stroke-width: 1.0;\" x1=\"160\" x2=\"176.5\" y1=\"102.3398\" y2=\"102.3398\"/><text fill=\"#000000\" font-family=\"sans-serif\" font-size=\"11\" lengthAdjust=\"spacingAndGlyphs\" textLength=\"32\" x=\"176.5\" y=\"105.6479\">items</text><line style=\"stroke: #383838; stroke-width: 1.0;\" x1=\"208.5\" x2=\"225\" y1=\"102.3398\" y2=\"102.3398\"/></a><!--MD5=[270fce915f116d4de14055a7c1d9a0f3]\n",
       "class E5--><a href=\"psysml:77af57f1-340c-421d-9a30-1a49108711b3\" target=\"_top\" title=\"psysml:77af57f1-340c-421d-9a30-1a49108711b3\" xlink:actuate=\"onRequest\" xlink:href=\"psysml:77af57f1-340c-421d-9a30-1a49108711b3\" xlink:show=\"new\" xlink:title=\"psysml:77af57f1-340c-421d-9a30-1a49108711b3\" xlink:type=\"simple\"><rect fill=\"#FFFFFF\" height=\"45.9375\" id=\"E5\" rx=\"10\" ry=\"10\" style=\"stroke: #383838; stroke-width: 1.5;\" width=\"42\" x=\"287\" y=\"165\"/><text fill=\"#000000\" font-family=\"sans-serif\" font-size=\"12\" font-style=\"italic\" lengthAdjust=\"spacingAndGlyphs\" textLength=\"40\" x=\"288\" y=\"181.1387\">«part»</text><text fill=\"#000000\" font-family=\"sans-serif\" font-size=\"12\" lengthAdjust=\"spacingAndGlyphs\" textLength=\"23\" x=\"296.5\" y=\"195.1074\">c: C</text><line style=\"stroke: #383838; stroke-width: 1.5;\" x1=\"288\" x2=\"328\" y1=\"202.9375\" y2=\"202.9375\"/></a><!--MD5=[60a26617385b1d2d0262a64233df1f8d]\n",
       "class E6--><a href=\"psysml:41f55b44-de87-42d8-a9cd-035ede31bd10\" target=\"_top\" title=\"psysml:41f55b44-de87-42d8-a9cd-035ede31bd10\" xlink:actuate=\"onRequest\" xlink:href=\"psysml:41f55b44-de87-42d8-a9cd-035ede31bd10\" xlink:show=\"new\" xlink:title=\"psysml:41f55b44-de87-42d8-a9cd-035ede31bd10\" xlink:type=\"simple\"><rect fill=\"#FFFFFF\" height=\"45.9375\" id=\"E6\" style=\"stroke: #383838; stroke-width: 1.5;\" width=\"67\" x=\"525\" y=\"78\"/><text fill=\"#000000\" font-family=\"sans-serif\" font-size=\"12\" font-style=\"italic\" lengthAdjust=\"spacingAndGlyphs\" textLength=\"65\" x=\"526\" y=\"94.1387\">«item def»</text><text fill=\"#000000\" font-family=\"sans-serif\" font-size=\"12\" lengthAdjust=\"spacingAndGlyphs\" textLength=\"8\" x=\"554.5\" y=\"108.1074\">B</text><line style=\"stroke: #383838; stroke-width: 1.5;\" x1=\"526\" x2=\"591\" y1=\"115.9375\" y2=\"115.9375\"/></a><!--MD5=[2156ba9850f5573cc1fc38a6a4b2f02b]\n",
       "class E7--><a href=\"psysml:4ca48e5a-78fa-40b6-ad88-229f08c03677\" target=\"_top\" title=\"psysml:4ca48e5a-78fa-40b6-ad88-229f08c03677\" xlink:actuate=\"onRequest\" xlink:href=\"psysml:4ca48e5a-78fa-40b6-ad88-229f08c03677\" xlink:show=\"new\" xlink:title=\"psysml:4ca48e5a-78fa-40b6-ad88-229f08c03677\" xlink:type=\"simple\"><rect fill=\"#FFFFFF\" height=\"45.9375\" id=\"E7\" rx=\"10\" ry=\"10\" style=\"stroke: #383838; stroke-width: 1.5;\" width=\"42\" x=\"653\" y=\"59\"/><text fill=\"#000000\" font-family=\"sans-serif\" font-size=\"12\" font-style=\"italic\" lengthAdjust=\"spacingAndGlyphs\" textLength=\"40\" x=\"654\" y=\"75.1387\">«part»</text><text fill=\"#000000\" font-family=\"sans-serif\" font-size=\"12\" lengthAdjust=\"spacingAndGlyphs\" textLength=\"24\" x=\"662\" y=\"89.1074\">a: A</text><line style=\"stroke: #383838; stroke-width: 1.5;\" x1=\"654\" x2=\"694\" y1=\"96.9375\" y2=\"96.9375\"/></a><!--MD5=[b9389687b975829384b498ac4b7476b2]\n",
       "class E8--><a href=\"psysml:e612b3f8-fad7-4b05-bdfc-52877d32f7f2\" target=\"_top\" title=\"psysml:e612b3f8-fad7-4b05-bdfc-52877d32f7f2\" xlink:actuate=\"onRequest\" xlink:href=\"psysml:e612b3f8-fad7-4b05-bdfc-52877d32f7f2\" xlink:show=\"new\" xlink:title=\"psysml:e612b3f8-fad7-4b05-bdfc-52877d32f7f2\" xlink:type=\"simple\"><rect fill=\"#FFFFFF\" height=\"45.9375\" id=\"E8\" style=\"stroke: #383838; stroke-width: 1.5;\" width=\"66\" x=\"390\" y=\"78\"/><text fill=\"#000000\" font-family=\"sans-serif\" font-size=\"12\" font-style=\"italic\" lengthAdjust=\"spacingAndGlyphs\" textLength=\"64\" x=\"391\" y=\"94.1387\">«part def»</text><text fill=\"#000000\" font-family=\"sans-serif\" font-size=\"12\" lengthAdjust=\"spacingAndGlyphs\" textLength=\"8\" x=\"419\" y=\"108.1074\">C</text><line style=\"stroke: #383838; stroke-width: 1.5;\" x1=\"391\" x2=\"455\" y1=\"115.9375\" y2=\"115.9375\"/></a><!--MD5=[fd4143e9d270a159db93a4ea2a975926]\n",
       "class E9--><a href=\"psysml:b51b1cf2-e677-402d-bf05-bb2fae798694\" target=\"_top\" title=\"psysml:b51b1cf2-e677-402d-bf05-bb2fae798694\" xlink:actuate=\"onRequest\" xlink:href=\"psysml:b51b1cf2-e677-402d-bf05-bb2fae798694\" xlink:show=\"new\" xlink:title=\"psysml:b51b1cf2-e677-402d-bf05-bb2fae798694\" xlink:type=\"simple\"><rect fill=\"#FFFFFF\" height=\"88.3516\" id=\"E9\" style=\"stroke: #383838; stroke-width: 1.5;\" width=\"66\" x=\"32\" y=\"123\"/><text fill=\"#000000\" font-family=\"sans-serif\" font-size=\"12\" font-style=\"italic\" lengthAdjust=\"spacingAndGlyphs\" textLength=\"64\" x=\"33\" y=\"139.1387\">«port def»</text><text fill=\"#000000\" font-family=\"sans-serif\" font-size=\"12\" lengthAdjust=\"spacingAndGlyphs\" textLength=\"8\" x=\"61\" y=\"153.1074\">P</text><line style=\"stroke: #383838; stroke-width: 1.5;\" x1=\"33\" x2=\"97\" y1=\"160.9375\" y2=\"160.9375\"/><text fill=\"#000000\" font-family=\"sans-serif\" font-size=\"11\" lengthAdjust=\"spacingAndGlyphs\" textLength=\"29\" x=\"38\" y=\"191.9526\">a1: A</text><text fill=\"#000000\" font-family=\"sans-serif\" font-size=\"11\" lengthAdjust=\"spacingAndGlyphs\" textLength=\"29\" x=\"38\" y=\"204.7573\">a2: A</text><line style=\"stroke: #383838; stroke-width: 1.0;\" x1=\"33\" x2=\"49\" y1=\"175.3398\" y2=\"175.3398\"/><text fill=\"#000000\" font-family=\"sans-serif\" font-size=\"11\" lengthAdjust=\"spacingAndGlyphs\" textLength=\"32\" x=\"49\" y=\"178.6479\">items</text><line style=\"stroke: #383838; stroke-width: 1.0;\" x1=\"81\" x2=\"97\" y1=\"175.3398\" y2=\"175.3398\"/></a><!--MD5=[2720a5a1f2c3fca2055b230370638851]\n",
       "link E2 to E3--><a href=\"psysml:5c778f2f-9d99-44f7-9cbe-495e6850b493\" target=\"_top\" title=\"psysml:5c778f2f-9d99-44f7-9cbe-495e6850b493\" xlink:actuate=\"onRequest\" xlink:href=\"psysml:5c778f2f-9d99-44f7-9cbe-495e6850b493\" xlink:show=\"new\" xlink:title=\"psysml:5c778f2f-9d99-44f7-9cbe-495e6850b493\" xlink:type=\"simple\"><path d=\"M86.72,68.8 C100.99,71.41 120.62,75.01 139.03,78.38 \" fill=\"none\" id=\"E2-&gt;E3\" style=\"stroke: #383838; stroke-width: 1.0;\"/><polygon fill=\"#FFFFFF\" points=\"158.95,82.03,139.0003,85.4953,141.5205,71.724,158.95,82.03\" style=\"stroke: #383838; stroke-width: 1.0;\"/><ellipse cx=\"133.7534\" cy=\"82.5019\" fill=\"#383838\" rx=\"2\" ry=\"2\" style=\"stroke: #383838; stroke-width: 1.0;\"/><ellipse cx=\"135.5536\" cy=\"72.6653\" fill=\"#383838\" rx=\"2\" ry=\"2\" style=\"stroke: #383838; stroke-width: 1.0;\"/></a><!--MD5=[191cde3d490a3f6d7bb551fe3ddca469]\n",
       "reverse link E3 to E5--><a href=\"psysml:77af57f1-340c-421d-9a30-1a49108711b3\" target=\"_top\" title=\"psysml:77af57f1-340c-421d-9a30-1a49108711b3\" xlink:actuate=\"onRequest\" xlink:href=\"psysml:77af57f1-340c-421d-9a30-1a49108711b3\" xlink:show=\"new\" xlink:title=\"psysml:77af57f1-340c-421d-9a30-1a49108711b3\" xlink:type=\"simple\"><path d=\"M236.03,125.47 C253.49,140.85 272.86,157.92 286.96,170.34 \" fill=\"none\" id=\"E3&lt;-E5\" style=\"stroke: #383838; stroke-width: 1.0;\"/><polygon fill=\"#FFFFFF\" points=\"226.02,116.66,227.8712,123.6294,235.0165,124.6012,233.1653,117.6318,226.02,116.66\" style=\"stroke: #383838; stroke-width: 1.0;\"/></a><!--MD5=[14ccda38c055a5c0da953d572bc50960]\n",
       "link E7 to E3--><a href=\"psysml:8bb447da-4a21-4000-9a04-f9f9c4ed48f1\" target=\"_top\" title=\"psysml:8bb447da-4a21-4000-9a04-f9f9c4ed48f1\" xlink:actuate=\"onRequest\" xlink:href=\"psysml:8bb447da-4a21-4000-9a04-f9f9c4ed48f1\" xlink:show=\"new\" xlink:title=\"psysml:8bb447da-4a21-4000-9a04-f9f9c4ed48f1\" xlink:type=\"simple\"><path d=\"M652.84,70.22 C630.71,58.42 593.76,42 559.5,42 C307,42 307,42 307,42 C285.58,42 263.45,49.12 244.48,57.76 \" fill=\"none\" id=\"E7-&gt;E3\" style=\"stroke: #383838; stroke-width: 1.0;\"/><polygon fill=\"#FFFFFF\" points=\"226.36,66.88,240.1858,52.0866,246.4788,64.5925,226.36,66.88\" style=\"stroke: #383838; stroke-width: 1.0;\"/><ellipse cx=\"246.1765\" cy=\"51.311\" fill=\"#383838\" rx=\"2\" ry=\"2\" style=\"stroke: #383838; stroke-width: 1.0;\"/><ellipse cx=\"250.6715\" cy=\"60.2438\" fill=\"#383838\" rx=\"2\" ry=\"2\" style=\"stroke: #383838; stroke-width: 1.0;\"/></a><!--MD5=[3f50a3473f1dfb74d3f76443e03635af]\n",
       "reverse link E6 to E7--><a href=\"psysml:4ca48e5a-78fa-40b6-ad88-229f08c03677\" target=\"_top\" title=\"psysml:4ca48e5a-78fa-40b6-ad88-229f08c03677\" xlink:actuate=\"onRequest\" xlink:href=\"psysml:4ca48e5a-78fa-40b6-ad88-229f08c03677\" xlink:show=\"new\" xlink:title=\"psysml:4ca48e5a-78fa-40b6-ad88-229f08c03677\" xlink:type=\"simple\"><path d=\"M604.98,93.39 C621.64,90.6 639.65,87.58 652.96,85.36 \" fill=\"none\" id=\"E6&lt;-E7\" style=\"stroke: #383838; stroke-width: 1.0;\"/><polygon fill=\"#383838\" points=\"592.02,95.56,598.6002,98.5097,603.8539,93.5701,597.2736,90.6204,592.02,95.56\" style=\"stroke: #383838; stroke-width: 1.0;\"/></a><!--MD5=[dfaffb906826c3e5aca635516100ff21]\n",
       "link E5 to E8--><a href=\"psysml:6ff88c17-8c2d-42a4-af32-a2455d6f0acf\" target=\"_top\" title=\"psysml:6ff88c17-8c2d-42a4-af32-a2455d6f0acf\" xlink:actuate=\"onRequest\" xlink:href=\"psysml:6ff88c17-8c2d-42a4-af32-a2455d6f0acf\" xlink:show=\"new\" xlink:title=\"psysml:6ff88c17-8c2d-42a4-af32-a2455d6f0acf\" xlink:type=\"simple\"><path d=\"M329.2,172.45 C342.18,162.45 359.59,149.05 375.82,136.55 \" fill=\"none\" id=\"E5-&gt;E8\" style=\"stroke: #383838; stroke-width: 1.0;\"/><polygon fill=\"#FFFFFF\" points=\"391.76,124.28,380.9793,141.4199,372.4361,130.3288,391.76,124.28\" style=\"stroke: #383838; stroke-width: 1.0;\"/><ellipse cx=\"375.2432\" cy=\"143.3138\" fill=\"#383838\" rx=\"2\" ry=\"2\" style=\"stroke: #383838; stroke-width: 1.0;\"/><ellipse cx=\"369.1409\" cy=\"135.3915\" fill=\"#383838\" rx=\"2\" ry=\"2\" style=\"stroke: #383838; stroke-width: 1.0;\"/></a><!--MD5=[03c8294790d3c57651a1993cecff665f]\n",
       "reverse link E8 to E3--><a href=\"psysml:83dfbdb9-73af-4dff-b5ad-52a21a738594\" target=\"_top\" title=\"psysml:83dfbdb9-73af-4dff-b5ad-52a21a738594\" xlink:actuate=\"onRequest\" xlink:href=\"psysml:83dfbdb9-73af-4dff-b5ad-52a21a738594\" xlink:show=\"new\" xlink:title=\"psysml:83dfbdb9-73af-4dff-b5ad-52a21a738594\" xlink:type=\"simple\"><path d=\"M376.68,98.42 C332.29,95.9 265.72,92.11 226.24,89.86 \" fill=\"none\" id=\"E8&lt;-E3\" style=\"stroke: #383838; stroke-width: 1.0;\"/><polygon fill=\"#FFFFFF\" points=\"389.69,99.16,383.9282,94.8239,377.7096,98.4747,383.4713,102.8108,389.69,99.16\" style=\"stroke: #383838; stroke-width: 1.0;\"/><text fill=\"#000000\" font-family=\"sans-serif\" font-size=\"13\" lengthAdjust=\"spacingAndGlyphs\" textLength=\"7\" x=\"304.5\" y=\"90.0669\">y</text></a><!--MD5=[0d75d2178373a6a4568e5dc728f58aef]\n",
       "reverse link E8 to E6--><a href=\"psysml:83dfbdb9-73af-4dff-b5ad-52a21a738594\" target=\"_top\" title=\"psysml:83dfbdb9-73af-4dff-b5ad-52a21a738594\" xlink:actuate=\"onRequest\" xlink:href=\"psysml:83dfbdb9-73af-4dff-b5ad-52a21a738594\" xlink:show=\"new\" xlink:title=\"psysml:83dfbdb9-73af-4dff-b5ad-52a21a738594\" xlink:type=\"simple\"><path d=\"M469.57,101 C487.62,101 507.98,101 524.55,101 \" fill=\"none\" id=\"E8&lt;-E6\" style=\"stroke: #383838; stroke-width: 1.0;\"/><polygon fill=\"#FFFFFF\" points=\"456.32,101,462.32,105,468.32,101,462.32,97,456.32,101\" style=\"stroke: #383838; stroke-width: 1.0;\"/><text fill=\"#000000\" font-family=\"sans-serif\" font-size=\"13\" lengthAdjust=\"spacingAndGlyphs\" textLength=\"7\" x=\"487\" y=\"97.0669\">y</text></a><!--MD5=[17cddc0da788454d01668fa979b95c16]\n",
       "@startuml\r\n",
       "left to right direction\r\n",
       "skinparam monochrome true\r\n",
       "skinparam classbackgroundcolor white\r\n",
       "skinparam shadowing false\r\n",
       "skinparam wrapWidth 300\r\n",
       "hide circle\r\n",
       "\r\n",
       "package \"ItemTest\" as E1  [[psysml:ffb2e2dc-9c37-4787-be7c-ae8a88a6d943 ]]  {\r\n",
       "comp usage \"f: A\" as E2  <<(T,blue)item>> [[psysml:cf4d7795-98ee-4d9f-9cbf-a98072608f6d ]] {\r\n",
       "}\r\n",
       "comp def \"A\" as E3  <<(T,blue)item def>> [[psysml:be14fc81-3f83-42fd-a525-71826c91787f ]] {\r\n",
       "- - items - -\r\n",
       "b: B\r\n",
       "}\r\n",
       "comp usage \"c: C\" as E5  <<(T,blue)part>> [[psysml:77af57f1-340c-421d-9a30-1a49108711b3 ]] {\r\n",
       "}\r\n",
       "comp def \"B\" as E6  <<(T,blue)item def>> [[psysml:41f55b44-de87-42d8-a9cd-035ede31bd10 ]] {\r\n",
       "}\r\n",
       "comp usage \"a: A\" as E7  <<(T,blue)part>> [[psysml:4ca48e5a-78fa-40b6-ad88-229f08c03677 ]] {\r\n",
       "}\r\n",
       "comp def \"C\" as E8  <<(T,blue)part def>> [[psysml:e612b3f8-fad7-4b05-bdfc-52877d32f7f2 ]] {\r\n",
       "}\r\n",
       "comp def \"P\" as E9  <<(T,blue)port def>> [[psysml:b51b1cf2-e677-402d-bf05-bb2fae798694 ]] {\r\n",
       "- - items - -\r\n",
       "a1: A\r\n",
       "a2: A\r\n",
       "}\r\n",
       "E2 - -:|> E3 [[psysml:5c778f2f-9d99-44f7-9cbe-495e6850b493 ]] \r\n",
       "E3 o- - E5 [[psysml:77af57f1-340c-421d-9a30-1a49108711b3 ]] \r\n",
       "E7 - -:|> E3 [[psysml:8bb447da-4a21-4000-9a04-f9f9c4ed48f1 ]] \r\n",
       "E6 *- - E7 [[psysml:4ca48e5a-78fa-40b6-ad88-229f08c03677 ]] \r\n",
       "E5 - -:|> E8 [[psysml:6ff88c17-8c2d-42a4-af32-a2455d6f0acf ]] \r\n",
       "E8 o- - E3 [[psysml:83dfbdb9-73af-4dff-b5ad-52a21a738594 ]] : y\r\n",
       "E8 o- - E6 [[psysml:83dfbdb9-73af-4dff-b5ad-52a21a738594 ]] : y\r\n",
       "}\r\n",
       "@enduml\r\n",
       "\n",
       "PlantUML version 1.2020.13(Sat Jun 13 12:26:38 UTC 2020)\n",
       "(EPL source distribution)\n",
       "Java Runtime: OpenJDK Runtime Environment\n",
       "JVM: OpenJDK 64-Bit Server VM\n",
       "Default Encoding: UTF-8\n",
       "Language: en\n",
       "Country: null\n",
       "--></g></svg>"
      ]
     },
     "execution_count": 21,
     "metadata": {},
     "output_type": "execute_result"
    }
   ],
   "source": [
    "%viz --style=\"LR\" --view=\"Sequence\" \"ItemTest\""
   ]
  },
  {
   "cell_type": "code",
   "execution_count": 22,
   "id": "southeast-circuit",
   "metadata": {
    "execution": {
     "iopub.execute_input": "2021-03-25T15:10:21.628049Z",
     "iopub.status.busy": "2021-03-25T15:10:21.627686Z",
     "iopub.status.idle": "2021-03-25T15:10:21.911193Z",
     "shell.execute_reply": "2021-03-25T15:10:21.910859Z"
    }
   },
   "outputs": [
    {
     "data": {
      "image/svg+xml": [
       "<?xml version=\"1.0\" encoding=\"UTF-8\" standalone=\"no\"?><svg xmlns=\"http://www.w3.org/2000/svg\" xmlns:xlink=\"http://www.w3.org/1999/xlink\" contentScriptType=\"application/ecmascript\" contentStyleType=\"text/css\" height=\"239px\" preserveAspectRatio=\"none\" style=\"width:733px;height:239px;\" version=\"1.1\" viewBox=\"0 0 733 239\" width=\"733px\" zoomAndPan=\"magnify\"><defs/><g><!--MD5=[fbc87193dbaf4d95561dea2c320d4a47]\n",
       "cluster E1--><a href=\"psysml:ffb2e2dc-9c37-4787-be7c-ae8a88a6d943\" target=\"_top\" title=\"psysml:ffb2e2dc-9c37-4787-be7c-ae8a88a6d943\" xlink:actuate=\"onRequest\" xlink:href=\"psysml:ffb2e2dc-9c37-4787-be7c-ae8a88a6d943\" xlink:show=\"new\" xlink:title=\"psysml:ffb2e2dc-9c37-4787-be7c-ae8a88a6d943\" xlink:type=\"simple\"><polygon fill=\"#FFFFFF\" points=\"16,6,91,6,98,28.2969,711,28.2969,711,227,16,227,16,6\" style=\"stroke: #000000; stroke-width: 1.5;\"/><line style=\"stroke: #000000; stroke-width: 1.5;\" x1=\"16\" x2=\"98\" y1=\"28.2969\" y2=\"28.2969\"/><text fill=\"#000000\" font-family=\"sans-serif\" font-size=\"14\" font-weight=\"bold\" lengthAdjust=\"spacingAndGlyphs\" textLength=\"69\" x=\"20\" y=\"20.9951\">ItemTest</text></a><!--MD5=[b4997ac47864f28c2f74865a473b2911]\n",
       "class E2--><a href=\"psysml:cf4d7795-98ee-4d9f-9cbf-a98072608f6d\" target=\"_top\" title=\"psysml:cf4d7795-98ee-4d9f-9cbf-a98072608f6d\" xlink:actuate=\"onRequest\" xlink:href=\"psysml:cf4d7795-98ee-4d9f-9cbf-a98072608f6d\" xlink:show=\"new\" xlink:title=\"psysml:cf4d7795-98ee-4d9f-9cbf-a98072608f6d\" xlink:type=\"simple\"><rect fill=\"#FFFFFF\" height=\"45.9375\" id=\"E2\" rx=\"10\" ry=\"10\" style=\"stroke: #383838; stroke-width: 1.5;\" width=\"43\" x=\"43.5\" y=\"42\"/><text fill=\"#000000\" font-family=\"sans-serif\" font-size=\"12\" font-style=\"italic\" lengthAdjust=\"spacingAndGlyphs\" textLength=\"41\" x=\"44.5\" y=\"58.1387\">«item»</text><text fill=\"#000000\" font-family=\"sans-serif\" font-size=\"12\" lengthAdjust=\"spacingAndGlyphs\" textLength=\"20\" x=\"55\" y=\"72.1074\">f: A</text><line style=\"stroke: #383838; stroke-width: 1.5;\" x1=\"44.5\" x2=\"85.5\" y1=\"79.9375\" y2=\"79.9375\"/></a><!--MD5=[09b614a08d8cba4a07c9adeb5e0fee81]\n",
       "class E3--><a href=\"psysml:be14fc81-3f83-42fd-a525-71826c91787f\" target=\"_top\" title=\"psysml:be14fc81-3f83-42fd-a525-71826c91787f\" xlink:actuate=\"onRequest\" xlink:href=\"psysml:be14fc81-3f83-42fd-a525-71826c91787f\" xlink:show=\"new\" xlink:title=\"psysml:be14fc81-3f83-42fd-a525-71826c91787f\" xlink:type=\"simple\"><rect fill=\"#FFFFFF\" height=\"75.5469\" id=\"E3\" style=\"stroke: #383838; stroke-width: 1.5;\" width=\"67\" x=\"159\" y=\"50\"/><text fill=\"#000000\" font-family=\"sans-serif\" font-size=\"12\" font-style=\"italic\" lengthAdjust=\"spacingAndGlyphs\" textLength=\"65\" x=\"160\" y=\"66.1387\">«item def»</text><text fill=\"#000000\" font-family=\"sans-serif\" font-size=\"12\" lengthAdjust=\"spacingAndGlyphs\" textLength=\"8\" x=\"188.5\" y=\"80.1074\">A</text><line style=\"stroke: #383838; stroke-width: 1.5;\" x1=\"160\" x2=\"225\" y1=\"87.9375\" y2=\"87.9375\"/><text fill=\"#000000\" font-family=\"sans-serif\" font-size=\"11\" lengthAdjust=\"spacingAndGlyphs\" textLength=\"23\" x=\"165\" y=\"118.9526\">b: B</text><line style=\"stroke: #383838; stroke-width: 1.0;\" x1=\"160\" x2=\"176.5\" y1=\"102.3398\" y2=\"102.3398\"/><text fill=\"#000000\" font-family=\"sans-serif\" font-size=\"11\" lengthAdjust=\"spacingAndGlyphs\" textLength=\"32\" x=\"176.5\" y=\"105.6479\">items</text><line style=\"stroke: #383838; stroke-width: 1.0;\" x1=\"208.5\" x2=\"225\" y1=\"102.3398\" y2=\"102.3398\"/></a><!--MD5=[270fce915f116d4de14055a7c1d9a0f3]\n",
       "class E5--><a href=\"psysml:77af57f1-340c-421d-9a30-1a49108711b3\" target=\"_top\" title=\"psysml:77af57f1-340c-421d-9a30-1a49108711b3\" xlink:actuate=\"onRequest\" xlink:href=\"psysml:77af57f1-340c-421d-9a30-1a49108711b3\" xlink:show=\"new\" xlink:title=\"psysml:77af57f1-340c-421d-9a30-1a49108711b3\" xlink:type=\"simple\"><rect fill=\"#FFFFFF\" height=\"45.9375\" id=\"E5\" rx=\"10\" ry=\"10\" style=\"stroke: #383838; stroke-width: 1.5;\" width=\"42\" x=\"287\" y=\"165\"/><text fill=\"#000000\" font-family=\"sans-serif\" font-size=\"12\" font-style=\"italic\" lengthAdjust=\"spacingAndGlyphs\" textLength=\"40\" x=\"288\" y=\"181.1387\">«part»</text><text fill=\"#000000\" font-family=\"sans-serif\" font-size=\"12\" lengthAdjust=\"spacingAndGlyphs\" textLength=\"23\" x=\"296.5\" y=\"195.1074\">c: C</text><line style=\"stroke: #383838; stroke-width: 1.5;\" x1=\"288\" x2=\"328\" y1=\"202.9375\" y2=\"202.9375\"/></a><!--MD5=[60a26617385b1d2d0262a64233df1f8d]\n",
       "class E6--><a href=\"psysml:41f55b44-de87-42d8-a9cd-035ede31bd10\" target=\"_top\" title=\"psysml:41f55b44-de87-42d8-a9cd-035ede31bd10\" xlink:actuate=\"onRequest\" xlink:href=\"psysml:41f55b44-de87-42d8-a9cd-035ede31bd10\" xlink:show=\"new\" xlink:title=\"psysml:41f55b44-de87-42d8-a9cd-035ede31bd10\" xlink:type=\"simple\"><rect fill=\"#FFFFFF\" height=\"45.9375\" id=\"E6\" style=\"stroke: #383838; stroke-width: 1.5;\" width=\"67\" x=\"525\" y=\"78\"/><text fill=\"#000000\" font-family=\"sans-serif\" font-size=\"12\" font-style=\"italic\" lengthAdjust=\"spacingAndGlyphs\" textLength=\"65\" x=\"526\" y=\"94.1387\">«item def»</text><text fill=\"#000000\" font-family=\"sans-serif\" font-size=\"12\" lengthAdjust=\"spacingAndGlyphs\" textLength=\"8\" x=\"554.5\" y=\"108.1074\">B</text><line style=\"stroke: #383838; stroke-width: 1.5;\" x1=\"526\" x2=\"591\" y1=\"115.9375\" y2=\"115.9375\"/></a><!--MD5=[2156ba9850f5573cc1fc38a6a4b2f02b]\n",
       "class E7--><a href=\"psysml:4ca48e5a-78fa-40b6-ad88-229f08c03677\" target=\"_top\" title=\"psysml:4ca48e5a-78fa-40b6-ad88-229f08c03677\" xlink:actuate=\"onRequest\" xlink:href=\"psysml:4ca48e5a-78fa-40b6-ad88-229f08c03677\" xlink:show=\"new\" xlink:title=\"psysml:4ca48e5a-78fa-40b6-ad88-229f08c03677\" xlink:type=\"simple\"><rect fill=\"#FFFFFF\" height=\"45.9375\" id=\"E7\" rx=\"10\" ry=\"10\" style=\"stroke: #383838; stroke-width: 1.5;\" width=\"42\" x=\"653\" y=\"59\"/><text fill=\"#000000\" font-family=\"sans-serif\" font-size=\"12\" font-style=\"italic\" lengthAdjust=\"spacingAndGlyphs\" textLength=\"40\" x=\"654\" y=\"75.1387\">«part»</text><text fill=\"#000000\" font-family=\"sans-serif\" font-size=\"12\" lengthAdjust=\"spacingAndGlyphs\" textLength=\"24\" x=\"662\" y=\"89.1074\">a: A</text><line style=\"stroke: #383838; stroke-width: 1.5;\" x1=\"654\" x2=\"694\" y1=\"96.9375\" y2=\"96.9375\"/></a><!--MD5=[b9389687b975829384b498ac4b7476b2]\n",
       "class E8--><a href=\"psysml:e612b3f8-fad7-4b05-bdfc-52877d32f7f2\" target=\"_top\" title=\"psysml:e612b3f8-fad7-4b05-bdfc-52877d32f7f2\" xlink:actuate=\"onRequest\" xlink:href=\"psysml:e612b3f8-fad7-4b05-bdfc-52877d32f7f2\" xlink:show=\"new\" xlink:title=\"psysml:e612b3f8-fad7-4b05-bdfc-52877d32f7f2\" xlink:type=\"simple\"><rect fill=\"#FFFFFF\" height=\"45.9375\" id=\"E8\" style=\"stroke: #383838; stroke-width: 1.5;\" width=\"66\" x=\"390\" y=\"78\"/><text fill=\"#000000\" font-family=\"sans-serif\" font-size=\"12\" font-style=\"italic\" lengthAdjust=\"spacingAndGlyphs\" textLength=\"64\" x=\"391\" y=\"94.1387\">«part def»</text><text fill=\"#000000\" font-family=\"sans-serif\" font-size=\"12\" lengthAdjust=\"spacingAndGlyphs\" textLength=\"8\" x=\"419\" y=\"108.1074\">C</text><line style=\"stroke: #383838; stroke-width: 1.5;\" x1=\"391\" x2=\"455\" y1=\"115.9375\" y2=\"115.9375\"/></a><!--MD5=[fd4143e9d270a159db93a4ea2a975926]\n",
       "class E9--><a href=\"psysml:b51b1cf2-e677-402d-bf05-bb2fae798694\" target=\"_top\" title=\"psysml:b51b1cf2-e677-402d-bf05-bb2fae798694\" xlink:actuate=\"onRequest\" xlink:href=\"psysml:b51b1cf2-e677-402d-bf05-bb2fae798694\" xlink:show=\"new\" xlink:title=\"psysml:b51b1cf2-e677-402d-bf05-bb2fae798694\" xlink:type=\"simple\"><rect fill=\"#FFFFFF\" height=\"88.3516\" id=\"E9\" style=\"stroke: #383838; stroke-width: 1.5;\" width=\"66\" x=\"32\" y=\"123\"/><text fill=\"#000000\" font-family=\"sans-serif\" font-size=\"12\" font-style=\"italic\" lengthAdjust=\"spacingAndGlyphs\" textLength=\"64\" x=\"33\" y=\"139.1387\">«port def»</text><text fill=\"#000000\" font-family=\"sans-serif\" font-size=\"12\" lengthAdjust=\"spacingAndGlyphs\" textLength=\"8\" x=\"61\" y=\"153.1074\">P</text><line style=\"stroke: #383838; stroke-width: 1.5;\" x1=\"33\" x2=\"97\" y1=\"160.9375\" y2=\"160.9375\"/><text fill=\"#000000\" font-family=\"sans-serif\" font-size=\"11\" lengthAdjust=\"spacingAndGlyphs\" textLength=\"29\" x=\"38\" y=\"191.9526\">a1: A</text><text fill=\"#000000\" font-family=\"sans-serif\" font-size=\"11\" lengthAdjust=\"spacingAndGlyphs\" textLength=\"29\" x=\"38\" y=\"204.7573\">a2: A</text><line style=\"stroke: #383838; stroke-width: 1.0;\" x1=\"33\" x2=\"49\" y1=\"175.3398\" y2=\"175.3398\"/><text fill=\"#000000\" font-family=\"sans-serif\" font-size=\"11\" lengthAdjust=\"spacingAndGlyphs\" textLength=\"32\" x=\"49\" y=\"178.6479\">items</text><line style=\"stroke: #383838; stroke-width: 1.0;\" x1=\"81\" x2=\"97\" y1=\"175.3398\" y2=\"175.3398\"/></a><!--MD5=[2720a5a1f2c3fca2055b230370638851]\n",
       "link E2 to E3--><a href=\"psysml:5c778f2f-9d99-44f7-9cbe-495e6850b493\" target=\"_top\" title=\"psysml:5c778f2f-9d99-44f7-9cbe-495e6850b493\" xlink:actuate=\"onRequest\" xlink:href=\"psysml:5c778f2f-9d99-44f7-9cbe-495e6850b493\" xlink:show=\"new\" xlink:title=\"psysml:5c778f2f-9d99-44f7-9cbe-495e6850b493\" xlink:type=\"simple\"><path d=\"M86.72,68.8 C100.99,71.41 120.62,75.01 139.03,78.38 \" fill=\"none\" id=\"E2-&gt;E3\" style=\"stroke: #383838; stroke-width: 1.0;\"/><polygon fill=\"#FFFFFF\" points=\"158.95,82.03,139.0003,85.4953,141.5205,71.724,158.95,82.03\" style=\"stroke: #383838; stroke-width: 1.0;\"/><ellipse cx=\"133.7534\" cy=\"82.5019\" fill=\"#383838\" rx=\"2\" ry=\"2\" style=\"stroke: #383838; stroke-width: 1.0;\"/><ellipse cx=\"135.5536\" cy=\"72.6653\" fill=\"#383838\" rx=\"2\" ry=\"2\" style=\"stroke: #383838; stroke-width: 1.0;\"/></a><!--MD5=[191cde3d490a3f6d7bb551fe3ddca469]\n",
       "reverse link E3 to E5--><a href=\"psysml:77af57f1-340c-421d-9a30-1a49108711b3\" target=\"_top\" title=\"psysml:77af57f1-340c-421d-9a30-1a49108711b3\" xlink:actuate=\"onRequest\" xlink:href=\"psysml:77af57f1-340c-421d-9a30-1a49108711b3\" xlink:show=\"new\" xlink:title=\"psysml:77af57f1-340c-421d-9a30-1a49108711b3\" xlink:type=\"simple\"><path d=\"M236.03,125.47 C253.49,140.85 272.86,157.92 286.96,170.34 \" fill=\"none\" id=\"E3&lt;-E5\" style=\"stroke: #383838; stroke-width: 1.0;\"/><polygon fill=\"#FFFFFF\" points=\"226.02,116.66,227.8712,123.6294,235.0165,124.6012,233.1653,117.6318,226.02,116.66\" style=\"stroke: #383838; stroke-width: 1.0;\"/></a><!--MD5=[14ccda38c055a5c0da953d572bc50960]\n",
       "link E7 to E3--><a href=\"psysml:8bb447da-4a21-4000-9a04-f9f9c4ed48f1\" target=\"_top\" title=\"psysml:8bb447da-4a21-4000-9a04-f9f9c4ed48f1\" xlink:actuate=\"onRequest\" xlink:href=\"psysml:8bb447da-4a21-4000-9a04-f9f9c4ed48f1\" xlink:show=\"new\" xlink:title=\"psysml:8bb447da-4a21-4000-9a04-f9f9c4ed48f1\" xlink:type=\"simple\"><path d=\"M652.84,70.22 C630.71,58.42 593.76,42 559.5,42 C307,42 307,42 307,42 C285.58,42 263.45,49.12 244.48,57.76 \" fill=\"none\" id=\"E7-&gt;E3\" style=\"stroke: #383838; stroke-width: 1.0;\"/><polygon fill=\"#FFFFFF\" points=\"226.36,66.88,240.1858,52.0866,246.4788,64.5925,226.36,66.88\" style=\"stroke: #383838; stroke-width: 1.0;\"/><ellipse cx=\"246.1765\" cy=\"51.311\" fill=\"#383838\" rx=\"2\" ry=\"2\" style=\"stroke: #383838; stroke-width: 1.0;\"/><ellipse cx=\"250.6715\" cy=\"60.2438\" fill=\"#383838\" rx=\"2\" ry=\"2\" style=\"stroke: #383838; stroke-width: 1.0;\"/></a><!--MD5=[3f50a3473f1dfb74d3f76443e03635af]\n",
       "reverse link E6 to E7--><a href=\"psysml:4ca48e5a-78fa-40b6-ad88-229f08c03677\" target=\"_top\" title=\"psysml:4ca48e5a-78fa-40b6-ad88-229f08c03677\" xlink:actuate=\"onRequest\" xlink:href=\"psysml:4ca48e5a-78fa-40b6-ad88-229f08c03677\" xlink:show=\"new\" xlink:title=\"psysml:4ca48e5a-78fa-40b6-ad88-229f08c03677\" xlink:type=\"simple\"><path d=\"M604.98,93.39 C621.64,90.6 639.65,87.58 652.96,85.36 \" fill=\"none\" id=\"E6&lt;-E7\" style=\"stroke: #383838; stroke-width: 1.0;\"/><polygon fill=\"#383838\" points=\"592.02,95.56,598.6002,98.5097,603.8539,93.5701,597.2736,90.6204,592.02,95.56\" style=\"stroke: #383838; stroke-width: 1.0;\"/></a><!--MD5=[dfaffb906826c3e5aca635516100ff21]\n",
       "link E5 to E8--><a href=\"psysml:6ff88c17-8c2d-42a4-af32-a2455d6f0acf\" target=\"_top\" title=\"psysml:6ff88c17-8c2d-42a4-af32-a2455d6f0acf\" xlink:actuate=\"onRequest\" xlink:href=\"psysml:6ff88c17-8c2d-42a4-af32-a2455d6f0acf\" xlink:show=\"new\" xlink:title=\"psysml:6ff88c17-8c2d-42a4-af32-a2455d6f0acf\" xlink:type=\"simple\"><path d=\"M329.2,172.45 C342.18,162.45 359.59,149.05 375.82,136.55 \" fill=\"none\" id=\"E5-&gt;E8\" style=\"stroke: #383838; stroke-width: 1.0;\"/><polygon fill=\"#FFFFFF\" points=\"391.76,124.28,380.9793,141.4199,372.4361,130.3288,391.76,124.28\" style=\"stroke: #383838; stroke-width: 1.0;\"/><ellipse cx=\"375.2432\" cy=\"143.3138\" fill=\"#383838\" rx=\"2\" ry=\"2\" style=\"stroke: #383838; stroke-width: 1.0;\"/><ellipse cx=\"369.1409\" cy=\"135.3915\" fill=\"#383838\" rx=\"2\" ry=\"2\" style=\"stroke: #383838; stroke-width: 1.0;\"/></a><!--MD5=[03c8294790d3c57651a1993cecff665f]\n",
       "reverse link E8 to E3--><a href=\"psysml:83dfbdb9-73af-4dff-b5ad-52a21a738594\" target=\"_top\" title=\"psysml:83dfbdb9-73af-4dff-b5ad-52a21a738594\" xlink:actuate=\"onRequest\" xlink:href=\"psysml:83dfbdb9-73af-4dff-b5ad-52a21a738594\" xlink:show=\"new\" xlink:title=\"psysml:83dfbdb9-73af-4dff-b5ad-52a21a738594\" xlink:type=\"simple\"><path d=\"M376.68,98.42 C332.29,95.9 265.72,92.11 226.24,89.86 \" fill=\"none\" id=\"E8&lt;-E3\" style=\"stroke: #383838; stroke-width: 1.0;\"/><polygon fill=\"#FFFFFF\" points=\"389.69,99.16,383.9282,94.8239,377.7096,98.4747,383.4713,102.8108,389.69,99.16\" style=\"stroke: #383838; stroke-width: 1.0;\"/><text fill=\"#000000\" font-family=\"sans-serif\" font-size=\"13\" lengthAdjust=\"spacingAndGlyphs\" textLength=\"7\" x=\"304.5\" y=\"90.0669\">y</text></a><!--MD5=[0d75d2178373a6a4568e5dc728f58aef]\n",
       "reverse link E8 to E6--><a href=\"psysml:83dfbdb9-73af-4dff-b5ad-52a21a738594\" target=\"_top\" title=\"psysml:83dfbdb9-73af-4dff-b5ad-52a21a738594\" xlink:actuate=\"onRequest\" xlink:href=\"psysml:83dfbdb9-73af-4dff-b5ad-52a21a738594\" xlink:show=\"new\" xlink:title=\"psysml:83dfbdb9-73af-4dff-b5ad-52a21a738594\" xlink:type=\"simple\"><path d=\"M469.57,101 C487.62,101 507.98,101 524.55,101 \" fill=\"none\" id=\"E8&lt;-E6\" style=\"stroke: #383838; stroke-width: 1.0;\"/><polygon fill=\"#FFFFFF\" points=\"456.32,101,462.32,105,468.32,101,462.32,97,456.32,101\" style=\"stroke: #383838; stroke-width: 1.0;\"/><text fill=\"#000000\" font-family=\"sans-serif\" font-size=\"13\" lengthAdjust=\"spacingAndGlyphs\" textLength=\"7\" x=\"487\" y=\"97.0669\">y</text></a><!--MD5=[17cddc0da788454d01668fa979b95c16]\n",
       "@startuml\r\n",
       "left to right direction\r\n",
       "skinparam monochrome true\r\n",
       "skinparam classbackgroundcolor white\r\n",
       "skinparam shadowing false\r\n",
       "skinparam wrapWidth 300\r\n",
       "hide circle\r\n",
       "\r\n",
       "package \"ItemTest\" as E1  [[psysml:ffb2e2dc-9c37-4787-be7c-ae8a88a6d943 ]]  {\r\n",
       "comp usage \"f: A\" as E2  <<(T,blue)item>> [[psysml:cf4d7795-98ee-4d9f-9cbf-a98072608f6d ]] {\r\n",
       "}\r\n",
       "comp def \"A\" as E3  <<(T,blue)item def>> [[psysml:be14fc81-3f83-42fd-a525-71826c91787f ]] {\r\n",
       "- - items - -\r\n",
       "b: B\r\n",
       "}\r\n",
       "comp usage \"c: C\" as E5  <<(T,blue)part>> [[psysml:77af57f1-340c-421d-9a30-1a49108711b3 ]] {\r\n",
       "}\r\n",
       "comp def \"B\" as E6  <<(T,blue)item def>> [[psysml:41f55b44-de87-42d8-a9cd-035ede31bd10 ]] {\r\n",
       "}\r\n",
       "comp usage \"a: A\" as E7  <<(T,blue)part>> [[psysml:4ca48e5a-78fa-40b6-ad88-229f08c03677 ]] {\r\n",
       "}\r\n",
       "comp def \"C\" as E8  <<(T,blue)part def>> [[psysml:e612b3f8-fad7-4b05-bdfc-52877d32f7f2 ]] {\r\n",
       "}\r\n",
       "comp def \"P\" as E9  <<(T,blue)port def>> [[psysml:b51b1cf2-e677-402d-bf05-bb2fae798694 ]] {\r\n",
       "- - items - -\r\n",
       "a1: A\r\n",
       "a2: A\r\n",
       "}\r\n",
       "E2 - -:|> E3 [[psysml:5c778f2f-9d99-44f7-9cbe-495e6850b493 ]] \r\n",
       "E3 o- - E5 [[psysml:77af57f1-340c-421d-9a30-1a49108711b3 ]] \r\n",
       "E7 - -:|> E3 [[psysml:8bb447da-4a21-4000-9a04-f9f9c4ed48f1 ]] \r\n",
       "E6 *- - E7 [[psysml:4ca48e5a-78fa-40b6-ad88-229f08c03677 ]] \r\n",
       "E5 - -:|> E8 [[psysml:6ff88c17-8c2d-42a4-af32-a2455d6f0acf ]] \r\n",
       "E8 o- - E3 [[psysml:83dfbdb9-73af-4dff-b5ad-52a21a738594 ]] : y\r\n",
       "E8 o- - E6 [[psysml:83dfbdb9-73af-4dff-b5ad-52a21a738594 ]] : y\r\n",
       "}\r\n",
       "@enduml\r\n",
       "\n",
       "PlantUML version 1.2020.13(Sat Jun 13 12:26:38 UTC 2020)\n",
       "(EPL source distribution)\n",
       "Java Runtime: OpenJDK Runtime Environment\n",
       "JVM: OpenJDK 64-Bit Server VM\n",
       "Default Encoding: UTF-8\n",
       "Language: en\n",
       "Country: null\n",
       "--></g></svg>"
      ]
     },
     "execution_count": 22,
     "metadata": {},
     "output_type": "execute_result"
    }
   ],
   "source": [
    "%viz --style=\"LR\" --view=\"MIXED\" \"ItemTest\""
   ]
  },
  {
   "cell_type": "code",
   "execution_count": 23,
   "id": "stuck-column",
   "metadata": {
    "execution": {
     "iopub.execute_input": "2021-03-25T15:10:21.961129Z",
     "iopub.status.busy": "2021-03-25T15:10:21.960755Z",
     "iopub.status.idle": "2021-03-25T15:10:22.276605Z",
     "shell.execute_reply": "2021-03-25T15:10:22.277720Z"
    }
   },
   "outputs": [
    {
     "data": {
      "image/svg+xml": [
       "<?xml version=\"1.0\" encoding=\"UTF-8\" standalone=\"no\"?><svg xmlns=\"http://www.w3.org/2000/svg\" xmlns:xlink=\"http://www.w3.org/1999/xlink\" contentScriptType=\"application/ecmascript\" contentStyleType=\"text/css\" height=\"738px\" preserveAspectRatio=\"none\" style=\"width:228px;height:738px;\" version=\"1.1\" viewBox=\"0 0 228 738\" width=\"228px\" zoomAndPan=\"magnify\"><defs><filter height=\"300%\" id=\"f1lfgx7d6a3o80\" width=\"300%\" x=\"-1\" y=\"-1\"><feGaussianBlur result=\"blurOut\" stdDeviation=\"2.0\"/><feColorMatrix in=\"blurOut\" result=\"blurOut2\" type=\"matrix\" values=\"0 0 0 0 0 0 0 0 0 0 0 0 0 0 0 0 0 0 .4 0\"/><feOffset dx=\"4.0\" dy=\"4.0\" in=\"blurOut2\" result=\"blurOut3\"/><feBlend in=\"SourceGraphic\" in2=\"blurOut3\" mode=\"normal\"/></filter></defs><g><!--MD5=[fbc87193dbaf4d95561dea2c320d4a47]\n",
       "cluster E1--><a href=\"psysml:ffb2e2dc-9c37-4787-be7c-ae8a88a6d943\" target=\"_top\" title=\"psysml:ffb2e2dc-9c37-4787-be7c-ae8a88a6d943\" xlink:actuate=\"onRequest\" xlink:href=\"psysml:ffb2e2dc-9c37-4787-be7c-ae8a88a6d943\" xlink:show=\"new\" xlink:title=\"psysml:ffb2e2dc-9c37-4787-be7c-ae8a88a6d943\" xlink:type=\"simple\"><polygon fill=\"#FFFFFF\" filter=\"url(#f1lfgx7d6a3o80)\" points=\"16,6,91,6,98,28.2969,206,28.2969,206,726,16,726,16,6\" style=\"stroke: #000000; stroke-width: 1.5;\"/><line style=\"stroke: #000000; stroke-width: 1.5;\" x1=\"16\" x2=\"98\" y1=\"28.2969\" y2=\"28.2969\"/><text fill=\"#000000\" font-family=\"sans-serif\" font-size=\"14\" font-weight=\"bold\" lengthAdjust=\"spacingAndGlyphs\" textLength=\"69\" x=\"20\" y=\"20.9951\">ItemTest</text></a><!--MD5=[b4997ac47864f28c2f74865a473b2911]\n",
       "class E2--><a href=\"psysml:cf4d7795-98ee-4d9f-9cbf-a98072608f6d\" target=\"_top\" title=\"psysml:cf4d7795-98ee-4d9f-9cbf-a98072608f6d\" xlink:actuate=\"onRequest\" xlink:href=\"psysml:cf4d7795-98ee-4d9f-9cbf-a98072608f6d\" xlink:show=\"new\" xlink:title=\"psysml:cf4d7795-98ee-4d9f-9cbf-a98072608f6d\" xlink:type=\"simple\"><rect fill=\"#FEFECE\" filter=\"url(#f1lfgx7d6a3o80)\" height=\"45.9375\" id=\"E2\" rx=\"10\" ry=\"10\" style=\"stroke: #A80036; stroke-width: 1.5;\" width=\"43\" x=\"133.5\" y=\"62\"/><text fill=\"#000000\" font-family=\"sans-serif\" font-size=\"12\" font-style=\"italic\" lengthAdjust=\"spacingAndGlyphs\" textLength=\"41\" x=\"134.5\" y=\"78.1387\">«item»</text><text fill=\"#000000\" font-family=\"sans-serif\" font-size=\"12\" lengthAdjust=\"spacingAndGlyphs\" textLength=\"20\" x=\"145\" y=\"92.1074\">f: A</text><line style=\"stroke: #A80036; stroke-width: 1.5;\" x1=\"134.5\" x2=\"175.5\" y1=\"99.9375\" y2=\"99.9375\"/></a><!--MD5=[09b614a08d8cba4a07c9adeb5e0fee81]\n",
       "class E3--><a href=\"psysml:be14fc81-3f83-42fd-a525-71826c91787f\" target=\"_top\" title=\"psysml:be14fc81-3f83-42fd-a525-71826c91787f\" xlink:actuate=\"onRequest\" xlink:href=\"psysml:be14fc81-3f83-42fd-a525-71826c91787f\" xlink:show=\"new\" xlink:title=\"psysml:be14fc81-3f83-42fd-a525-71826c91787f\" xlink:type=\"simple\"><rect fill=\"#FEFECE\" filter=\"url(#f1lfgx7d6a3o80)\" height=\"75.5469\" id=\"E3\" style=\"stroke: #A80036; stroke-width: 1.5;\" width=\"67\" x=\"115.5\" y=\"190\"/><text fill=\"#000000\" font-family=\"sans-serif\" font-size=\"12\" font-style=\"italic\" lengthAdjust=\"spacingAndGlyphs\" textLength=\"65\" x=\"116.5\" y=\"206.1387\">«item def»</text><text fill=\"#000000\" font-family=\"sans-serif\" font-size=\"12\" lengthAdjust=\"spacingAndGlyphs\" textLength=\"8\" x=\"145\" y=\"220.1074\">A</text><line style=\"stroke: #A80036; stroke-width: 1.5;\" x1=\"116.5\" x2=\"181.5\" y1=\"227.9375\" y2=\"227.9375\"/><text fill=\"#000000\" font-family=\"sans-serif\" font-size=\"11\" lengthAdjust=\"spacingAndGlyphs\" textLength=\"23\" x=\"121.5\" y=\"258.9526\">b: B</text><line style=\"stroke: #A80036; stroke-width: 1.0;\" x1=\"116.5\" x2=\"133\" y1=\"242.3398\" y2=\"242.3398\"/><text fill=\"#000000\" font-family=\"sans-serif\" font-size=\"11\" lengthAdjust=\"spacingAndGlyphs\" textLength=\"32\" x=\"133\" y=\"245.6479\">items</text><line style=\"stroke: #A80036; stroke-width: 1.0;\" x1=\"165\" x2=\"181.5\" y1=\"242.3398\" y2=\"242.3398\"/></a><!--MD5=[270fce915f116d4de14055a7c1d9a0f3]\n",
       "class E5--><a href=\"psysml:77af57f1-340c-421d-9a30-1a49108711b3\" target=\"_top\" title=\"psysml:77af57f1-340c-421d-9a30-1a49108711b3\" xlink:actuate=\"onRequest\" xlink:href=\"psysml:77af57f1-340c-421d-9a30-1a49108711b3\" xlink:show=\"new\" xlink:title=\"psysml:77af57f1-340c-421d-9a30-1a49108711b3\" xlink:type=\"simple\"><rect fill=\"#FEFECE\" filter=\"url(#f1lfgx7d6a3o80)\" height=\"45.9375\" id=\"E5\" rx=\"10\" ry=\"10\" style=\"stroke: #A80036; stroke-width: 1.5;\" width=\"42\" x=\"32\" y=\"327\"/><text fill=\"#000000\" font-family=\"sans-serif\" font-size=\"12\" font-style=\"italic\" lengthAdjust=\"spacingAndGlyphs\" textLength=\"40\" x=\"33\" y=\"343.1387\">«part»</text><text fill=\"#000000\" font-family=\"sans-serif\" font-size=\"12\" lengthAdjust=\"spacingAndGlyphs\" textLength=\"23\" x=\"41.5\" y=\"357.1074\">c: C</text><line style=\"stroke: #A80036; stroke-width: 1.5;\" x1=\"33\" x2=\"73\" y1=\"364.9375\" y2=\"364.9375\"/></a><!--MD5=[60a26617385b1d2d0262a64233df1f8d]\n",
       "class E6--><a href=\"psysml:41f55b44-de87-42d8-a9cd-035ede31bd10\" target=\"_top\" title=\"psysml:41f55b44-de87-42d8-a9cd-035ede31bd10\" xlink:actuate=\"onRequest\" xlink:href=\"psysml:41f55b44-de87-42d8-a9cd-035ede31bd10\" xlink:show=\"new\" xlink:title=\"psysml:41f55b44-de87-42d8-a9cd-035ede31bd10\" xlink:type=\"simple\"><rect fill=\"#FEFECE\" filter=\"url(#f1lfgx7d6a3o80)\" height=\"45.9375\" id=\"E6\" style=\"stroke: #A80036; stroke-width: 1.5;\" width=\"67\" x=\"85.5\" y=\"557\"/><text fill=\"#000000\" font-family=\"sans-serif\" font-size=\"12\" font-style=\"italic\" lengthAdjust=\"spacingAndGlyphs\" textLength=\"65\" x=\"86.5\" y=\"573.1387\">«item def»</text><text fill=\"#000000\" font-family=\"sans-serif\" font-size=\"12\" lengthAdjust=\"spacingAndGlyphs\" textLength=\"8\" x=\"115\" y=\"587.1074\">B</text><line style=\"stroke: #A80036; stroke-width: 1.5;\" x1=\"86.5\" x2=\"151.5\" y1=\"594.9375\" y2=\"594.9375\"/></a><!--MD5=[2156ba9850f5573cc1fc38a6a4b2f02b]\n",
       "class E7--><a href=\"psysml:4ca48e5a-78fa-40b6-ad88-229f08c03677\" target=\"_top\" title=\"psysml:4ca48e5a-78fa-40b6-ad88-229f08c03677\" xlink:actuate=\"onRequest\" xlink:href=\"psysml:4ca48e5a-78fa-40b6-ad88-229f08c03677\" xlink:show=\"new\" xlink:title=\"psysml:4ca48e5a-78fa-40b6-ad88-229f08c03677\" xlink:type=\"simple\"><rect fill=\"#FEFECE\" filter=\"url(#f1lfgx7d6a3o80)\" height=\"45.9375\" id=\"E7\" rx=\"10\" ry=\"10\" style=\"stroke: #A80036; stroke-width: 1.5;\" width=\"42\" x=\"123\" y=\"664\"/><text fill=\"#000000\" font-family=\"sans-serif\" font-size=\"12\" font-style=\"italic\" lengthAdjust=\"spacingAndGlyphs\" textLength=\"40\" x=\"124\" y=\"680.1387\">«part»</text><text fill=\"#000000\" font-family=\"sans-serif\" font-size=\"12\" lengthAdjust=\"spacingAndGlyphs\" textLength=\"24\" x=\"132\" y=\"694.1074\">a: A</text><line style=\"stroke: #A80036; stroke-width: 1.5;\" x1=\"124\" x2=\"164\" y1=\"701.9375\" y2=\"701.9375\"/></a><!--MD5=[b9389687b975829384b498ac4b7476b2]\n",
       "class E8--><a href=\"psysml:e612b3f8-fad7-4b05-bdfc-52877d32f7f2\" target=\"_top\" title=\"psysml:e612b3f8-fad7-4b05-bdfc-52877d32f7f2\" xlink:actuate=\"onRequest\" xlink:href=\"psysml:e612b3f8-fad7-4b05-bdfc-52877d32f7f2\" xlink:show=\"new\" xlink:title=\"psysml:e612b3f8-fad7-4b05-bdfc-52877d32f7f2\" xlink:type=\"simple\"><rect fill=\"#FEFECE\" filter=\"url(#f1lfgx7d6a3o80)\" height=\"45.9375\" id=\"E8\" style=\"stroke: #A80036; stroke-width: 1.5;\" width=\"66\" x=\"86\" y=\"434\"/><text fill=\"#000000\" font-family=\"sans-serif\" font-size=\"12\" font-style=\"italic\" lengthAdjust=\"spacingAndGlyphs\" textLength=\"64\" x=\"87\" y=\"450.1387\">«part def»</text><text fill=\"#000000\" font-family=\"sans-serif\" font-size=\"12\" lengthAdjust=\"spacingAndGlyphs\" textLength=\"8\" x=\"115\" y=\"464.1074\">C</text><line style=\"stroke: #A80036; stroke-width: 1.5;\" x1=\"87\" x2=\"151\" y1=\"471.9375\" y2=\"471.9375\"/></a><!--MD5=[fd4143e9d270a159db93a4ea2a975926]\n",
       "class E9--><a href=\"psysml:b51b1cf2-e677-402d-bf05-bb2fae798694\" target=\"_top\" title=\"psysml:b51b1cf2-e677-402d-bf05-bb2fae798694\" xlink:actuate=\"onRequest\" xlink:href=\"psysml:b51b1cf2-e677-402d-bf05-bb2fae798694\" xlink:show=\"new\" xlink:title=\"psysml:b51b1cf2-e677-402d-bf05-bb2fae798694\" xlink:type=\"simple\"><rect fill=\"#FEFECE\" filter=\"url(#f1lfgx7d6a3o80)\" height=\"88.3516\" id=\"E9\" style=\"stroke: #A80036; stroke-width: 1.5;\" width=\"66\" x=\"32\" y=\"41\"/><text fill=\"#000000\" font-family=\"sans-serif\" font-size=\"12\" font-style=\"italic\" lengthAdjust=\"spacingAndGlyphs\" textLength=\"64\" x=\"33\" y=\"57.1387\">«port def»</text><text fill=\"#000000\" font-family=\"sans-serif\" font-size=\"12\" lengthAdjust=\"spacingAndGlyphs\" textLength=\"8\" x=\"61\" y=\"71.1074\">P</text><line style=\"stroke: #A80036; stroke-width: 1.5;\" x1=\"33\" x2=\"97\" y1=\"78.9375\" y2=\"78.9375\"/><text fill=\"#000000\" font-family=\"sans-serif\" font-size=\"11\" lengthAdjust=\"spacingAndGlyphs\" textLength=\"29\" x=\"38\" y=\"109.9526\">a1: A</text><text fill=\"#000000\" font-family=\"sans-serif\" font-size=\"11\" lengthAdjust=\"spacingAndGlyphs\" textLength=\"29\" x=\"38\" y=\"122.7573\">a2: A</text><line style=\"stroke: #A80036; stroke-width: 1.0;\" x1=\"33\" x2=\"49\" y1=\"93.3398\" y2=\"93.3398\"/><text fill=\"#000000\" font-family=\"sans-serif\" font-size=\"11\" lengthAdjust=\"spacingAndGlyphs\" textLength=\"32\" x=\"49\" y=\"96.6479\">items</text><line style=\"stroke: #A80036; stroke-width: 1.0;\" x1=\"81\" x2=\"97\" y1=\"93.3398\" y2=\"93.3398\"/></a><!--MD5=[2720a5a1f2c3fca2055b230370638851]\n",
       "link E2 to E3--><a href=\"psysml:5c778f2f-9d99-44f7-9cbe-495e6850b493\" target=\"_top\" title=\"psysml:5c778f2f-9d99-44f7-9cbe-495e6850b493\" xlink:actuate=\"onRequest\" xlink:href=\"psysml:5c778f2f-9d99-44f7-9cbe-495e6850b493\" xlink:show=\"new\" xlink:title=\"psysml:5c778f2f-9d99-44f7-9cbe-495e6850b493\" xlink:type=\"simple\"><path d=\"M154.06,108.03 C153.36,124.58 152.36,148.04 151.44,169.76 \" fill=\"none\" id=\"E2-&gt;E3\" style=\"stroke: #A80036; stroke-width: 1.0;\"/><polygon fill=\"#FFFFFF\" points=\"150.58,189.77,144.4005,170.4875,158.3877,171.0874,150.58,189.77\" style=\"stroke: #A80036; stroke-width: 1.0;\"/><ellipse cx=\"146.6429\" cy=\"164.8784\" fill=\"#A80036\" rx=\"2\" ry=\"2\" style=\"stroke: #A80036; stroke-width: 1.0;\"/><ellipse cx=\"156.6338\" cy=\"165.3069\" fill=\"#A80036\" rx=\"2\" ry=\"2\" style=\"stroke: #A80036; stroke-width: 1.0;\"/></a><!--MD5=[191cde3d490a3f6d7bb551fe3ddca469]\n",
       "reverse link E3 to E5--><a href=\"psysml:77af57f1-340c-421d-9a30-1a49108711b3\" target=\"_top\" title=\"psysml:77af57f1-340c-421d-9a30-1a49108711b3\" xlink:actuate=\"onRequest\" xlink:href=\"psysml:77af57f1-340c-421d-9a30-1a49108711b3\" xlink:show=\"new\" xlink:title=\"psysml:77af57f1-340c-421d-9a30-1a49108711b3\" xlink:type=\"simple\"><path d=\"M110.75,276.82 C96.95,294.07 82.02,312.72 70.8,326.75 \" fill=\"none\" id=\"E3&lt;-E5\" style=\"stroke: #A80036; stroke-width: 1.0;\"/><polygon fill=\"#FFFFFF\" points=\"119.15,266.31,112.2784,268.4964,111.6537,275.6804,118.5253,273.494,119.15,266.31\" style=\"stroke: #A80036; stroke-width: 1.0;\"/></a><!--MD5=[14ccda38c055a5c0da953d572bc50960]\n",
       "link E7 to E3--><a href=\"psysml:8bb447da-4a21-4000-9a04-f9f9c4ed48f1\" target=\"_top\" title=\"psysml:8bb447da-4a21-4000-9a04-f9f9c4ed48f1\" xlink:actuate=\"onRequest\" xlink:href=\"psysml:8bb447da-4a21-4000-9a04-f9f9c4ed48f1\" xlink:show=\"new\" xlink:title=\"psysml:8bb447da-4a21-4000-9a04-f9f9c4ed48f1\" xlink:type=\"simple\"><path d=\"M159.74,663.82 C172.72,643.34 189,611.54 189,581 C189,349 189,349 189,349 C189,327.34 183.06,304.56 175.76,284.74 \" fill=\"none\" id=\"E7-&gt;E3\" style=\"stroke: #A80036; stroke-width: 1.0;\"/><polygon fill=\"#FFFFFF\" points=\"168.18,266.05,181.8034,281.0301,168.8283,286.2881,168.18,266.05\" style=\"stroke: #A80036; stroke-width: 1.0;\"/><ellipse cx=\"182.0906\" cy=\"287.0639\" fill=\"#A80036\" rx=\"2\" ry=\"2\" style=\"stroke: #A80036; stroke-width: 1.0;\"/><ellipse cx=\"172.8227\" cy=\"290.8196\" fill=\"#A80036\" rx=\"2\" ry=\"2\" style=\"stroke: #A80036; stroke-width: 1.0;\"/></a><!--MD5=[3f50a3473f1dfb74d3f76443e03635af]\n",
       "reverse link E6 to E7--><a href=\"psysml:4ca48e5a-78fa-40b6-ad88-229f08c03677\" target=\"_top\" title=\"psysml:4ca48e5a-78fa-40b6-ad88-229f08c03677\" xlink:actuate=\"onRequest\" xlink:href=\"psysml:4ca48e5a-78fa-40b6-ad88-229f08c03677\" xlink:show=\"new\" xlink:title=\"psysml:4ca48e5a-78fa-40b6-ad88-229f08c03677\" xlink:type=\"simple\"><path d=\"M127.34,616.05 C131.08,631.76 135.39,649.82 138.68,663.66 \" fill=\"none\" id=\"E6&lt;-E7\" style=\"stroke: #A80036; stroke-width: 1.0;\"/><polygon fill=\"#A80036\" points=\"124.24,603.01,121.7406,609.7741,127.023,614.6828,129.5224,607.9187,124.24,603.01\" style=\"stroke: #A80036; stroke-width: 1.0;\"/></a><!--MD5=[dfaffb906826c3e5aca635516100ff21]\n",
       "link E5 to E8--><a href=\"psysml:6ff88c17-8c2d-42a4-af32-a2455d6f0acf\" target=\"_top\" title=\"psysml:6ff88c17-8c2d-42a4-af32-a2455d6f0acf\" xlink:actuate=\"onRequest\" xlink:href=\"psysml:6ff88c17-8c2d-42a4-af32-a2455d6f0acf\" xlink:show=\"new\" xlink:title=\"psysml:6ff88c17-8c2d-42a4-af32-a2455d6f0acf\" xlink:type=\"simple\"><path d=\"M66.84,373.01 C74.79,385.67 85.02,401.94 94.31,416.72 \" fill=\"none\" id=\"E5-&gt;E8\" style=\"stroke: #A80036; stroke-width: 1.0;\"/><polygon fill=\"#FFFFFF\" points=\"104.96,433.66,88.9212,421.3005,100.7735,413.8491,104.96,433.66\" style=\"stroke: #A80036; stroke-width: 1.0;\"/><ellipse cx=\"87.5806\" cy=\"415.4104\" fill=\"#A80036\" rx=\"2\" ry=\"2\" style=\"stroke: #A80036; stroke-width: 1.0;\"/><ellipse cx=\"96.0465\" cy=\"410.088\" fill=\"#A80036\" rx=\"2\" ry=\"2\" style=\"stroke: #A80036; stroke-width: 1.0;\"/></a><!--MD5=[03c8294790d3c57651a1993cecff665f]\n",
       "reverse link E8 to E3--><a href=\"psysml:83dfbdb9-73af-4dff-b5ad-52a21a738594\" target=\"_top\" title=\"psysml:83dfbdb9-73af-4dff-b5ad-52a21a738594\" xlink:actuate=\"onRequest\" xlink:href=\"psysml:83dfbdb9-73af-4dff-b5ad-52a21a738594\" xlink:show=\"new\" xlink:title=\"psysml:83dfbdb9-73af-4dff-b5ad-52a21a738594\" xlink:type=\"simple\"><path d=\"M123.65,420.81 C129.2,378.86 138.42,309.06 144.08,266.23 \" fill=\"none\" id=\"E8&lt;-E3\" style=\"stroke: #A80036; stroke-width: 1.0;\"/><polygon fill=\"#FFFFFF\" points=\"121.92,433.89,126.6755,428.4692,123.5008,421.9946,118.7453,427.4154,121.92,433.89\" style=\"stroke: #A80036; stroke-width: 1.0;\"/><text fill=\"#000000\" font-family=\"sans-serif\" font-size=\"13\" lengthAdjust=\"spacingAndGlyphs\" textLength=\"7\" x=\"136\" y=\"354.5669\">y</text></a><!--MD5=[0d75d2178373a6a4568e5dc728f58aef]\n",
       "reverse link E8 to E6--><a href=\"psysml:83dfbdb9-73af-4dff-b5ad-52a21a738594\" target=\"_top\" title=\"psysml:83dfbdb9-73af-4dff-b5ad-52a21a738594\" xlink:actuate=\"onRequest\" xlink:href=\"psysml:83dfbdb9-73af-4dff-b5ad-52a21a738594\" xlink:show=\"new\" xlink:title=\"psysml:83dfbdb9-73af-4dff-b5ad-52a21a738594\" xlink:type=\"simple\"><path d=\"M119,493.22 C119,513.81 119,539.16 119,556.95 \" fill=\"none\" id=\"E8&lt;-E6\" style=\"stroke: #A80036; stroke-width: 1.0;\"/><polygon fill=\"#FFFFFF\" points=\"119,480.19,115,486.19,119,492.19,123,486.19,119,480.19\" style=\"stroke: #A80036; stroke-width: 1.0;\"/><text fill=\"#000000\" font-family=\"sans-serif\" font-size=\"13\" lengthAdjust=\"spacingAndGlyphs\" textLength=\"7\" x=\"120\" y=\"523.0669\">y</text></a><!--MD5=[a01fa8f36f4510b2da7a5ffa9d5147cf]\n",
       "@startuml\r\n",
       "skinparam wrapWidth 300\r\n",
       "hide circle\r\n",
       "\r\n",
       "package \"ItemTest\" as E1  [[psysml:ffb2e2dc-9c37-4787-be7c-ae8a88a6d943 ]]  {\r\n",
       "comp usage \"f: A\" as E2  <<(T,blue)item>> [[psysml:cf4d7795-98ee-4d9f-9cbf-a98072608f6d ]] {\r\n",
       "}\r\n",
       "comp def \"A\" as E3  <<(T,blue)item def>> [[psysml:be14fc81-3f83-42fd-a525-71826c91787f ]] {\r\n",
       "- - items - -\r\n",
       "b: B\r\n",
       "}\r\n",
       "comp usage \"c: C\" as E5  <<(T,blue)part>> [[psysml:77af57f1-340c-421d-9a30-1a49108711b3 ]] {\r\n",
       "}\r\n",
       "comp def \"B\" as E6  <<(T,blue)item def>> [[psysml:41f55b44-de87-42d8-a9cd-035ede31bd10 ]] {\r\n",
       "}\r\n",
       "comp usage \"a: A\" as E7  <<(T,blue)part>> [[psysml:4ca48e5a-78fa-40b6-ad88-229f08c03677 ]] {\r\n",
       "}\r\n",
       "comp def \"C\" as E8  <<(T,blue)part def>> [[psysml:e612b3f8-fad7-4b05-bdfc-52877d32f7f2 ]] {\r\n",
       "}\r\n",
       "comp def \"P\" as E9  <<(T,blue)port def>> [[psysml:b51b1cf2-e677-402d-bf05-bb2fae798694 ]] {\r\n",
       "- - items - -\r\n",
       "a1: A\r\n",
       "a2: A\r\n",
       "}\r\n",
       "E2 - -:|> E3 [[psysml:5c778f2f-9d99-44f7-9cbe-495e6850b493 ]] \r\n",
       "E3 o- - E5 [[psysml:77af57f1-340c-421d-9a30-1a49108711b3 ]] \r\n",
       "E7 - -:|> E3 [[psysml:8bb447da-4a21-4000-9a04-f9f9c4ed48f1 ]] \r\n",
       "E6 *- - E7 [[psysml:4ca48e5a-78fa-40b6-ad88-229f08c03677 ]] \r\n",
       "E5 - -:|> E8 [[psysml:6ff88c17-8c2d-42a4-af32-a2455d6f0acf ]] \r\n",
       "E8 o- - E3 [[psysml:83dfbdb9-73af-4dff-b5ad-52a21a738594 ]] : y\r\n",
       "E8 o- - E6 [[psysml:83dfbdb9-73af-4dff-b5ad-52a21a738594 ]] : y\r\n",
       "}\r\n",
       "@enduml\r\n",
       "\n",
       "PlantUML version 1.2020.13(Sat Jun 13 12:26:38 UTC 2020)\n",
       "(EPL source distribution)\n",
       "Java Runtime: OpenJDK Runtime Environment\n",
       "JVM: OpenJDK 64-Bit Server VM\n",
       "Default Encoding: UTF-8\n",
       "Language: en\n",
       "Country: null\n",
       "--></g></svg>"
      ]
     },
     "execution_count": 23,
     "metadata": {},
     "output_type": "execute_result"
    }
   ],
   "source": [
    "%viz --style=\"STDCOLOR\" --view=\"Default\" \"ItemTest\""
   ]
  },
  {
   "cell_type": "code",
   "execution_count": 24,
   "id": "confidential-trigger",
   "metadata": {
    "execution": {
     "iopub.execute_input": "2021-03-25T15:10:22.331455Z",
     "iopub.status.busy": "2021-03-25T15:10:22.330187Z",
     "iopub.status.idle": "2021-03-25T15:10:22.622606Z",
     "shell.execute_reply": "2021-03-25T15:10:22.621081Z"
    }
   },
   "outputs": [
    {
     "data": {
      "image/svg+xml": [
       "<?xml version=\"1.0\" encoding=\"UTF-8\" standalone=\"no\"?><svg xmlns=\"http://www.w3.org/2000/svg\" xmlns:xlink=\"http://www.w3.org/1999/xlink\" contentScriptType=\"application/ecmascript\" contentStyleType=\"text/css\" height=\"738px\" preserveAspectRatio=\"none\" style=\"width:228px;height:738px;\" version=\"1.1\" viewBox=\"0 0 228 738\" width=\"228px\" zoomAndPan=\"magnify\"><defs><filter height=\"300%\" id=\"f1lfgx7d6a3o80\" width=\"300%\" x=\"-1\" y=\"-1\"><feGaussianBlur result=\"blurOut\" stdDeviation=\"2.0\"/><feColorMatrix in=\"blurOut\" result=\"blurOut2\" type=\"matrix\" values=\"0 0 0 0 0 0 0 0 0 0 0 0 0 0 0 0 0 0 .4 0\"/><feOffset dx=\"4.0\" dy=\"4.0\" in=\"blurOut2\" result=\"blurOut3\"/><feBlend in=\"SourceGraphic\" in2=\"blurOut3\" mode=\"normal\"/></filter></defs><g><!--MD5=[fbc87193dbaf4d95561dea2c320d4a47]\n",
       "cluster E1--><a href=\"psysml:ffb2e2dc-9c37-4787-be7c-ae8a88a6d943\" target=\"_top\" title=\"psysml:ffb2e2dc-9c37-4787-be7c-ae8a88a6d943\" xlink:actuate=\"onRequest\" xlink:href=\"psysml:ffb2e2dc-9c37-4787-be7c-ae8a88a6d943\" xlink:show=\"new\" xlink:title=\"psysml:ffb2e2dc-9c37-4787-be7c-ae8a88a6d943\" xlink:type=\"simple\"><polygon fill=\"#FFFFFF\" filter=\"url(#f1lfgx7d6a3o80)\" points=\"16,6,91,6,98,28.2969,206,28.2969,206,726,16,726,16,6\" style=\"stroke: #000000; stroke-width: 1.5;\"/><line style=\"stroke: #000000; stroke-width: 1.5;\" x1=\"16\" x2=\"98\" y1=\"28.2969\" y2=\"28.2969\"/><text fill=\"#000000\" font-family=\"sans-serif\" font-size=\"14\" font-weight=\"bold\" lengthAdjust=\"spacingAndGlyphs\" textLength=\"69\" x=\"20\" y=\"20.9951\">ItemTest</text></a><!--MD5=[b4997ac47864f28c2f74865a473b2911]\n",
       "class E2--><a href=\"psysml:cf4d7795-98ee-4d9f-9cbf-a98072608f6d\" target=\"_top\" title=\"psysml:cf4d7795-98ee-4d9f-9cbf-a98072608f6d\" xlink:actuate=\"onRequest\" xlink:href=\"psysml:cf4d7795-98ee-4d9f-9cbf-a98072608f6d\" xlink:show=\"new\" xlink:title=\"psysml:cf4d7795-98ee-4d9f-9cbf-a98072608f6d\" xlink:type=\"simple\"><rect fill=\"#FEFECE\" filter=\"url(#f1lfgx7d6a3o80)\" height=\"45.9375\" id=\"E2\" rx=\"10\" ry=\"10\" style=\"stroke: #A80036; stroke-width: 1.5;\" width=\"43\" x=\"133.5\" y=\"62\"/><text fill=\"#000000\" font-family=\"sans-serif\" font-size=\"12\" font-style=\"italic\" lengthAdjust=\"spacingAndGlyphs\" textLength=\"41\" x=\"134.5\" y=\"78.1387\">«item»</text><text fill=\"#000000\" font-family=\"sans-serif\" font-size=\"12\" lengthAdjust=\"spacingAndGlyphs\" textLength=\"20\" x=\"145\" y=\"92.1074\">f: A</text><line style=\"stroke: #A80036; stroke-width: 1.5;\" x1=\"134.5\" x2=\"175.5\" y1=\"99.9375\" y2=\"99.9375\"/></a><!--MD5=[09b614a08d8cba4a07c9adeb5e0fee81]\n",
       "class E3--><a href=\"psysml:be14fc81-3f83-42fd-a525-71826c91787f\" target=\"_top\" title=\"psysml:be14fc81-3f83-42fd-a525-71826c91787f\" xlink:actuate=\"onRequest\" xlink:href=\"psysml:be14fc81-3f83-42fd-a525-71826c91787f\" xlink:show=\"new\" xlink:title=\"psysml:be14fc81-3f83-42fd-a525-71826c91787f\" xlink:type=\"simple\"><rect fill=\"#FEFECE\" filter=\"url(#f1lfgx7d6a3o80)\" height=\"75.5469\" id=\"E3\" style=\"stroke: #A80036; stroke-width: 1.5;\" width=\"67\" x=\"115.5\" y=\"190\"/><text fill=\"#000000\" font-family=\"sans-serif\" font-size=\"12\" font-style=\"italic\" lengthAdjust=\"spacingAndGlyphs\" textLength=\"65\" x=\"116.5\" y=\"206.1387\">«item def»</text><text fill=\"#000000\" font-family=\"sans-serif\" font-size=\"12\" lengthAdjust=\"spacingAndGlyphs\" textLength=\"8\" x=\"145\" y=\"220.1074\">A</text><line style=\"stroke: #A80036; stroke-width: 1.5;\" x1=\"116.5\" x2=\"181.5\" y1=\"227.9375\" y2=\"227.9375\"/><text fill=\"#000000\" font-family=\"sans-serif\" font-size=\"11\" lengthAdjust=\"spacingAndGlyphs\" textLength=\"23\" x=\"121.5\" y=\"258.9526\">b: B</text><line style=\"stroke: #A80036; stroke-width: 1.0;\" x1=\"116.5\" x2=\"133\" y1=\"242.3398\" y2=\"242.3398\"/><text fill=\"#000000\" font-family=\"sans-serif\" font-size=\"11\" lengthAdjust=\"spacingAndGlyphs\" textLength=\"32\" x=\"133\" y=\"245.6479\">items</text><line style=\"stroke: #A80036; stroke-width: 1.0;\" x1=\"165\" x2=\"181.5\" y1=\"242.3398\" y2=\"242.3398\"/></a><!--MD5=[270fce915f116d4de14055a7c1d9a0f3]\n",
       "class E5--><a href=\"psysml:77af57f1-340c-421d-9a30-1a49108711b3\" target=\"_top\" title=\"psysml:77af57f1-340c-421d-9a30-1a49108711b3\" xlink:actuate=\"onRequest\" xlink:href=\"psysml:77af57f1-340c-421d-9a30-1a49108711b3\" xlink:show=\"new\" xlink:title=\"psysml:77af57f1-340c-421d-9a30-1a49108711b3\" xlink:type=\"simple\"><rect fill=\"#FEFECE\" filter=\"url(#f1lfgx7d6a3o80)\" height=\"45.9375\" id=\"E5\" rx=\"10\" ry=\"10\" style=\"stroke: #A80036; stroke-width: 1.5;\" width=\"42\" x=\"32\" y=\"327\"/><text fill=\"#000000\" font-family=\"sans-serif\" font-size=\"12\" font-style=\"italic\" lengthAdjust=\"spacingAndGlyphs\" textLength=\"40\" x=\"33\" y=\"343.1387\">«part»</text><text fill=\"#000000\" font-family=\"sans-serif\" font-size=\"12\" lengthAdjust=\"spacingAndGlyphs\" textLength=\"23\" x=\"41.5\" y=\"357.1074\">c: C</text><line style=\"stroke: #A80036; stroke-width: 1.5;\" x1=\"33\" x2=\"73\" y1=\"364.9375\" y2=\"364.9375\"/></a><!--MD5=[60a26617385b1d2d0262a64233df1f8d]\n",
       "class E6--><a href=\"psysml:41f55b44-de87-42d8-a9cd-035ede31bd10\" target=\"_top\" title=\"psysml:41f55b44-de87-42d8-a9cd-035ede31bd10\" xlink:actuate=\"onRequest\" xlink:href=\"psysml:41f55b44-de87-42d8-a9cd-035ede31bd10\" xlink:show=\"new\" xlink:title=\"psysml:41f55b44-de87-42d8-a9cd-035ede31bd10\" xlink:type=\"simple\"><rect fill=\"#FEFECE\" filter=\"url(#f1lfgx7d6a3o80)\" height=\"45.9375\" id=\"E6\" style=\"stroke: #A80036; stroke-width: 1.5;\" width=\"67\" x=\"85.5\" y=\"557\"/><text fill=\"#000000\" font-family=\"sans-serif\" font-size=\"12\" font-style=\"italic\" lengthAdjust=\"spacingAndGlyphs\" textLength=\"65\" x=\"86.5\" y=\"573.1387\">«item def»</text><text fill=\"#000000\" font-family=\"sans-serif\" font-size=\"12\" lengthAdjust=\"spacingAndGlyphs\" textLength=\"8\" x=\"115\" y=\"587.1074\">B</text><line style=\"stroke: #A80036; stroke-width: 1.5;\" x1=\"86.5\" x2=\"151.5\" y1=\"594.9375\" y2=\"594.9375\"/></a><!--MD5=[2156ba9850f5573cc1fc38a6a4b2f02b]\n",
       "class E7--><a href=\"psysml:4ca48e5a-78fa-40b6-ad88-229f08c03677\" target=\"_top\" title=\"psysml:4ca48e5a-78fa-40b6-ad88-229f08c03677\" xlink:actuate=\"onRequest\" xlink:href=\"psysml:4ca48e5a-78fa-40b6-ad88-229f08c03677\" xlink:show=\"new\" xlink:title=\"psysml:4ca48e5a-78fa-40b6-ad88-229f08c03677\" xlink:type=\"simple\"><rect fill=\"#FEFECE\" filter=\"url(#f1lfgx7d6a3o80)\" height=\"45.9375\" id=\"E7\" rx=\"10\" ry=\"10\" style=\"stroke: #A80036; stroke-width: 1.5;\" width=\"42\" x=\"123\" y=\"664\"/><text fill=\"#000000\" font-family=\"sans-serif\" font-size=\"12\" font-style=\"italic\" lengthAdjust=\"spacingAndGlyphs\" textLength=\"40\" x=\"124\" y=\"680.1387\">«part»</text><text fill=\"#000000\" font-family=\"sans-serif\" font-size=\"12\" lengthAdjust=\"spacingAndGlyphs\" textLength=\"24\" x=\"132\" y=\"694.1074\">a: A</text><line style=\"stroke: #A80036; stroke-width: 1.5;\" x1=\"124\" x2=\"164\" y1=\"701.9375\" y2=\"701.9375\"/></a><!--MD5=[b9389687b975829384b498ac4b7476b2]\n",
       "class E8--><a href=\"psysml:e612b3f8-fad7-4b05-bdfc-52877d32f7f2\" target=\"_top\" title=\"psysml:e612b3f8-fad7-4b05-bdfc-52877d32f7f2\" xlink:actuate=\"onRequest\" xlink:href=\"psysml:e612b3f8-fad7-4b05-bdfc-52877d32f7f2\" xlink:show=\"new\" xlink:title=\"psysml:e612b3f8-fad7-4b05-bdfc-52877d32f7f2\" xlink:type=\"simple\"><rect fill=\"#FEFECE\" filter=\"url(#f1lfgx7d6a3o80)\" height=\"45.9375\" id=\"E8\" style=\"stroke: #A80036; stroke-width: 1.5;\" width=\"66\" x=\"86\" y=\"434\"/><text fill=\"#000000\" font-family=\"sans-serif\" font-size=\"12\" font-style=\"italic\" lengthAdjust=\"spacingAndGlyphs\" textLength=\"64\" x=\"87\" y=\"450.1387\">«part def»</text><text fill=\"#000000\" font-family=\"sans-serif\" font-size=\"12\" lengthAdjust=\"spacingAndGlyphs\" textLength=\"8\" x=\"115\" y=\"464.1074\">C</text><line style=\"stroke: #A80036; stroke-width: 1.5;\" x1=\"87\" x2=\"151\" y1=\"471.9375\" y2=\"471.9375\"/></a><!--MD5=[fd4143e9d270a159db93a4ea2a975926]\n",
       "class E9--><a href=\"psysml:b51b1cf2-e677-402d-bf05-bb2fae798694\" target=\"_top\" title=\"psysml:b51b1cf2-e677-402d-bf05-bb2fae798694\" xlink:actuate=\"onRequest\" xlink:href=\"psysml:b51b1cf2-e677-402d-bf05-bb2fae798694\" xlink:show=\"new\" xlink:title=\"psysml:b51b1cf2-e677-402d-bf05-bb2fae798694\" xlink:type=\"simple\"><rect fill=\"#FEFECE\" filter=\"url(#f1lfgx7d6a3o80)\" height=\"88.3516\" id=\"E9\" style=\"stroke: #A80036; stroke-width: 1.5;\" width=\"66\" x=\"32\" y=\"41\"/><text fill=\"#000000\" font-family=\"sans-serif\" font-size=\"12\" font-style=\"italic\" lengthAdjust=\"spacingAndGlyphs\" textLength=\"64\" x=\"33\" y=\"57.1387\">«port def»</text><text fill=\"#000000\" font-family=\"sans-serif\" font-size=\"12\" lengthAdjust=\"spacingAndGlyphs\" textLength=\"8\" x=\"61\" y=\"71.1074\">P</text><line style=\"stroke: #A80036; stroke-width: 1.5;\" x1=\"33\" x2=\"97\" y1=\"78.9375\" y2=\"78.9375\"/><text fill=\"#000000\" font-family=\"sans-serif\" font-size=\"11\" lengthAdjust=\"spacingAndGlyphs\" textLength=\"29\" x=\"38\" y=\"109.9526\">a1: A</text><text fill=\"#000000\" font-family=\"sans-serif\" font-size=\"11\" lengthAdjust=\"spacingAndGlyphs\" textLength=\"29\" x=\"38\" y=\"122.7573\">a2: A</text><line style=\"stroke: #A80036; stroke-width: 1.0;\" x1=\"33\" x2=\"49\" y1=\"93.3398\" y2=\"93.3398\"/><text fill=\"#000000\" font-family=\"sans-serif\" font-size=\"11\" lengthAdjust=\"spacingAndGlyphs\" textLength=\"32\" x=\"49\" y=\"96.6479\">items</text><line style=\"stroke: #A80036; stroke-width: 1.0;\" x1=\"81\" x2=\"97\" y1=\"93.3398\" y2=\"93.3398\"/></a><!--MD5=[2720a5a1f2c3fca2055b230370638851]\n",
       "link E2 to E3--><a href=\"psysml:5c778f2f-9d99-44f7-9cbe-495e6850b493\" target=\"_top\" title=\"psysml:5c778f2f-9d99-44f7-9cbe-495e6850b493\" xlink:actuate=\"onRequest\" xlink:href=\"psysml:5c778f2f-9d99-44f7-9cbe-495e6850b493\" xlink:show=\"new\" xlink:title=\"psysml:5c778f2f-9d99-44f7-9cbe-495e6850b493\" xlink:type=\"simple\"><path d=\"M154.06,108.03 C153.36,124.58 152.36,148.04 151.44,169.76 \" fill=\"none\" id=\"E2-&gt;E3\" style=\"stroke: #A80036; stroke-width: 1.0;\"/><polygon fill=\"#FFFFFF\" points=\"150.58,189.77,144.4005,170.4875,158.3877,171.0874,150.58,189.77\" style=\"stroke: #A80036; stroke-width: 1.0;\"/><ellipse cx=\"146.6429\" cy=\"164.8784\" fill=\"#A80036\" rx=\"2\" ry=\"2\" style=\"stroke: #A80036; stroke-width: 1.0;\"/><ellipse cx=\"156.6338\" cy=\"165.3069\" fill=\"#A80036\" rx=\"2\" ry=\"2\" style=\"stroke: #A80036; stroke-width: 1.0;\"/></a><!--MD5=[191cde3d490a3f6d7bb551fe3ddca469]\n",
       "reverse link E3 to E5--><a href=\"psysml:77af57f1-340c-421d-9a30-1a49108711b3\" target=\"_top\" title=\"psysml:77af57f1-340c-421d-9a30-1a49108711b3\" xlink:actuate=\"onRequest\" xlink:href=\"psysml:77af57f1-340c-421d-9a30-1a49108711b3\" xlink:show=\"new\" xlink:title=\"psysml:77af57f1-340c-421d-9a30-1a49108711b3\" xlink:type=\"simple\"><path d=\"M110.75,276.82 C96.95,294.07 82.02,312.72 70.8,326.75 \" fill=\"none\" id=\"E3&lt;-E5\" style=\"stroke: #A80036; stroke-width: 1.0;\"/><polygon fill=\"#FFFFFF\" points=\"119.15,266.31,112.2784,268.4964,111.6537,275.6804,118.5253,273.494,119.15,266.31\" style=\"stroke: #A80036; stroke-width: 1.0;\"/></a><!--MD5=[14ccda38c055a5c0da953d572bc50960]\n",
       "link E7 to E3--><a href=\"psysml:8bb447da-4a21-4000-9a04-f9f9c4ed48f1\" target=\"_top\" title=\"psysml:8bb447da-4a21-4000-9a04-f9f9c4ed48f1\" xlink:actuate=\"onRequest\" xlink:href=\"psysml:8bb447da-4a21-4000-9a04-f9f9c4ed48f1\" xlink:show=\"new\" xlink:title=\"psysml:8bb447da-4a21-4000-9a04-f9f9c4ed48f1\" xlink:type=\"simple\"><path d=\"M159.74,663.82 C172.72,643.34 189,611.54 189,581 C189,349 189,349 189,349 C189,327.34 183.06,304.56 175.76,284.74 \" fill=\"none\" id=\"E7-&gt;E3\" style=\"stroke: #A80036; stroke-width: 1.0;\"/><polygon fill=\"#FFFFFF\" points=\"168.18,266.05,181.8034,281.0301,168.8283,286.2881,168.18,266.05\" style=\"stroke: #A80036; stroke-width: 1.0;\"/><ellipse cx=\"182.0906\" cy=\"287.0639\" fill=\"#A80036\" rx=\"2\" ry=\"2\" style=\"stroke: #A80036; stroke-width: 1.0;\"/><ellipse cx=\"172.8227\" cy=\"290.8196\" fill=\"#A80036\" rx=\"2\" ry=\"2\" style=\"stroke: #A80036; stroke-width: 1.0;\"/></a><!--MD5=[3f50a3473f1dfb74d3f76443e03635af]\n",
       "reverse link E6 to E7--><a href=\"psysml:4ca48e5a-78fa-40b6-ad88-229f08c03677\" target=\"_top\" title=\"psysml:4ca48e5a-78fa-40b6-ad88-229f08c03677\" xlink:actuate=\"onRequest\" xlink:href=\"psysml:4ca48e5a-78fa-40b6-ad88-229f08c03677\" xlink:show=\"new\" xlink:title=\"psysml:4ca48e5a-78fa-40b6-ad88-229f08c03677\" xlink:type=\"simple\"><path d=\"M127.34,616.05 C131.08,631.76 135.39,649.82 138.68,663.66 \" fill=\"none\" id=\"E6&lt;-E7\" style=\"stroke: #A80036; stroke-width: 1.0;\"/><polygon fill=\"#A80036\" points=\"124.24,603.01,121.7406,609.7741,127.023,614.6828,129.5224,607.9187,124.24,603.01\" style=\"stroke: #A80036; stroke-width: 1.0;\"/></a><!--MD5=[dfaffb906826c3e5aca635516100ff21]\n",
       "link E5 to E8--><a href=\"psysml:6ff88c17-8c2d-42a4-af32-a2455d6f0acf\" target=\"_top\" title=\"psysml:6ff88c17-8c2d-42a4-af32-a2455d6f0acf\" xlink:actuate=\"onRequest\" xlink:href=\"psysml:6ff88c17-8c2d-42a4-af32-a2455d6f0acf\" xlink:show=\"new\" xlink:title=\"psysml:6ff88c17-8c2d-42a4-af32-a2455d6f0acf\" xlink:type=\"simple\"><path d=\"M66.84,373.01 C74.79,385.67 85.02,401.94 94.31,416.72 \" fill=\"none\" id=\"E5-&gt;E8\" style=\"stroke: #A80036; stroke-width: 1.0;\"/><polygon fill=\"#FFFFFF\" points=\"104.96,433.66,88.9212,421.3005,100.7735,413.8491,104.96,433.66\" style=\"stroke: #A80036; stroke-width: 1.0;\"/><ellipse cx=\"87.5806\" cy=\"415.4104\" fill=\"#A80036\" rx=\"2\" ry=\"2\" style=\"stroke: #A80036; stroke-width: 1.0;\"/><ellipse cx=\"96.0465\" cy=\"410.088\" fill=\"#A80036\" rx=\"2\" ry=\"2\" style=\"stroke: #A80036; stroke-width: 1.0;\"/></a><!--MD5=[03c8294790d3c57651a1993cecff665f]\n",
       "reverse link E8 to E3--><a href=\"psysml:83dfbdb9-73af-4dff-b5ad-52a21a738594\" target=\"_top\" title=\"psysml:83dfbdb9-73af-4dff-b5ad-52a21a738594\" xlink:actuate=\"onRequest\" xlink:href=\"psysml:83dfbdb9-73af-4dff-b5ad-52a21a738594\" xlink:show=\"new\" xlink:title=\"psysml:83dfbdb9-73af-4dff-b5ad-52a21a738594\" xlink:type=\"simple\"><path d=\"M123.65,420.81 C129.2,378.86 138.42,309.06 144.08,266.23 \" fill=\"none\" id=\"E8&lt;-E3\" style=\"stroke: #A80036; stroke-width: 1.0;\"/><polygon fill=\"#FFFFFF\" points=\"121.92,433.89,126.6755,428.4692,123.5008,421.9946,118.7453,427.4154,121.92,433.89\" style=\"stroke: #A80036; stroke-width: 1.0;\"/><text fill=\"#000000\" font-family=\"sans-serif\" font-size=\"13\" lengthAdjust=\"spacingAndGlyphs\" textLength=\"7\" x=\"136\" y=\"354.5669\">y</text></a><!--MD5=[0d75d2178373a6a4568e5dc728f58aef]\n",
       "reverse link E8 to E6--><a href=\"psysml:83dfbdb9-73af-4dff-b5ad-52a21a738594\" target=\"_top\" title=\"psysml:83dfbdb9-73af-4dff-b5ad-52a21a738594\" xlink:actuate=\"onRequest\" xlink:href=\"psysml:83dfbdb9-73af-4dff-b5ad-52a21a738594\" xlink:show=\"new\" xlink:title=\"psysml:83dfbdb9-73af-4dff-b5ad-52a21a738594\" xlink:type=\"simple\"><path d=\"M119,493.22 C119,513.81 119,539.16 119,556.95 \" fill=\"none\" id=\"E8&lt;-E6\" style=\"stroke: #A80036; stroke-width: 1.0;\"/><polygon fill=\"#FFFFFF\" points=\"119,480.19,115,486.19,119,492.19,123,486.19,119,480.19\" style=\"stroke: #A80036; stroke-width: 1.0;\"/><text fill=\"#000000\" font-family=\"sans-serif\" font-size=\"13\" lengthAdjust=\"spacingAndGlyphs\" textLength=\"7\" x=\"120\" y=\"523.0669\">y</text></a><!--MD5=[a01fa8f36f4510b2da7a5ffa9d5147cf]\n",
       "@startuml\r\n",
       "skinparam wrapWidth 300\r\n",
       "hide circle\r\n",
       "\r\n",
       "package \"ItemTest\" as E1  [[psysml:ffb2e2dc-9c37-4787-be7c-ae8a88a6d943 ]]  {\r\n",
       "comp usage \"f: A\" as E2  <<(T,blue)item>> [[psysml:cf4d7795-98ee-4d9f-9cbf-a98072608f6d ]] {\r\n",
       "}\r\n",
       "comp def \"A\" as E3  <<(T,blue)item def>> [[psysml:be14fc81-3f83-42fd-a525-71826c91787f ]] {\r\n",
       "- - items - -\r\n",
       "b: B\r\n",
       "}\r\n",
       "comp usage \"c: C\" as E5  <<(T,blue)part>> [[psysml:77af57f1-340c-421d-9a30-1a49108711b3 ]] {\r\n",
       "}\r\n",
       "comp def \"B\" as E6  <<(T,blue)item def>> [[psysml:41f55b44-de87-42d8-a9cd-035ede31bd10 ]] {\r\n",
       "}\r\n",
       "comp usage \"a: A\" as E7  <<(T,blue)part>> [[psysml:4ca48e5a-78fa-40b6-ad88-229f08c03677 ]] {\r\n",
       "}\r\n",
       "comp def \"C\" as E8  <<(T,blue)part def>> [[psysml:e612b3f8-fad7-4b05-bdfc-52877d32f7f2 ]] {\r\n",
       "}\r\n",
       "comp def \"P\" as E9  <<(T,blue)port def>> [[psysml:b51b1cf2-e677-402d-bf05-bb2fae798694 ]] {\r\n",
       "- - items - -\r\n",
       "a1: A\r\n",
       "a2: A\r\n",
       "}\r\n",
       "E2 - -:|> E3 [[psysml:5c778f2f-9d99-44f7-9cbe-495e6850b493 ]] \r\n",
       "E3 o- - E5 [[psysml:77af57f1-340c-421d-9a30-1a49108711b3 ]] \r\n",
       "E7 - -:|> E3 [[psysml:8bb447da-4a21-4000-9a04-f9f9c4ed48f1 ]] \r\n",
       "E6 *- - E7 [[psysml:4ca48e5a-78fa-40b6-ad88-229f08c03677 ]] \r\n",
       "E5 - -:|> E8 [[psysml:6ff88c17-8c2d-42a4-af32-a2455d6f0acf ]] \r\n",
       "E8 o- - E3 [[psysml:83dfbdb9-73af-4dff-b5ad-52a21a738594 ]] : y\r\n",
       "E8 o- - E6 [[psysml:83dfbdb9-73af-4dff-b5ad-52a21a738594 ]] : y\r\n",
       "}\r\n",
       "@enduml\r\n",
       "\n",
       "PlantUML version 1.2020.13(Sat Jun 13 12:26:38 UTC 2020)\n",
       "(EPL source distribution)\n",
       "Java Runtime: OpenJDK Runtime Environment\n",
       "JVM: OpenJDK 64-Bit Server VM\n",
       "Default Encoding: UTF-8\n",
       "Language: en\n",
       "Country: null\n",
       "--></g></svg>"
      ]
     },
     "execution_count": 24,
     "metadata": {},
     "output_type": "execute_result"
    }
   ],
   "source": [
    "%viz --style=\"STDCOLOR\" --view=\"Tree\" \"ItemTest\""
   ]
  },
  {
   "cell_type": "code",
   "execution_count": 25,
   "id": "electric-queen",
   "metadata": {
    "execution": {
     "iopub.execute_input": "2021-03-25T15:10:22.673165Z",
     "iopub.status.busy": "2021-03-25T15:10:22.672546Z",
     "iopub.status.idle": "2021-03-25T15:10:22.680753Z",
     "shell.execute_reply": "2021-03-25T15:10:22.680340Z"
    }
   },
   "outputs": [
    {
     "data": {
      "image/svg+xml": [
       "<?xml version=\"1.0\" encoding=\"UTF-8\" standalone=\"no\"?><svg xmlns=\"http://www.w3.org/2000/svg\" xmlns:xlink=\"http://www.w3.org/1999/xlink\" contentScriptType=\"application/ecmascript\" contentStyleType=\"text/css\" height=\"12px\" preserveAspectRatio=\"none\" style=\"width:12px;height:12px;\" version=\"1.1\" viewBox=\"0 0 12 12\" width=\"12px\" zoomAndPan=\"magnify\"><defs/><g><!--MD5=[aeeef50f102b80d730deb6443d14f702]\n",
       "@startuml\r\n",
       "skinparam wrapWidth 300\r\n",
       "hide circle\r\n",
       "\r\n",
       "@enduml\r\n",
       "\n",
       "PlantUML version 1.2020.13(Sat Jun 13 12:26:38 UTC 2020)\n",
       "(EPL source distribution)\n",
       "Java Runtime: OpenJDK Runtime Environment\n",
       "JVM: OpenJDK 64-Bit Server VM\n",
       "Default Encoding: UTF-8\n",
       "Language: en\n",
       "Country: null\n",
       "--></g></svg>"
      ]
     },
     "execution_count": 25,
     "metadata": {},
     "output_type": "execute_result"
    }
   ],
   "source": [
    "%viz --style=\"STDCOLOR\" --view=\"State\" \"ItemTest\""
   ]
  },
  {
   "cell_type": "code",
   "execution_count": 26,
   "id": "documented-administrator",
   "metadata": {
    "execution": {
     "iopub.execute_input": "2021-03-25T15:10:22.730901Z",
     "iopub.status.busy": "2021-03-25T15:10:22.730426Z",
     "iopub.status.idle": "2021-03-25T15:10:22.828954Z",
     "shell.execute_reply": "2021-03-25T15:10:22.826851Z"
    }
   },
   "outputs": [
    {
     "data": {
      "image/svg+xml": [
       "<?xml version=\"1.0\" encoding=\"UTF-8\" standalone=\"no\"?><svg xmlns=\"http://www.w3.org/2000/svg\" xmlns:xlink=\"http://www.w3.org/1999/xlink\" contentScriptType=\"application/ecmascript\" contentStyleType=\"text/css\" height=\"195px\" preserveAspectRatio=\"none\" style=\"width:711px;height:195px;\" version=\"1.1\" viewBox=\"0 0 711 195\" width=\"711px\" zoomAndPan=\"magnify\"><defs><filter height=\"300%\" id=\"f1jz3im5zgpupw\" width=\"300%\" x=\"-1\" y=\"-1\"><feGaussianBlur result=\"blurOut\" stdDeviation=\"2.0\"/><feColorMatrix in=\"blurOut\" result=\"blurOut2\" type=\"matrix\" values=\"0 0 0 0 0 0 0 0 0 0 0 0 0 0 0 0 0 0 .4 0\"/><feOffset dx=\"4.0\" dy=\"4.0\" in=\"blurOut2\" result=\"blurOut3\"/><feBlend in=\"SourceGraphic\" in2=\"blurOut3\" mode=\"normal\"/></filter></defs><g><!--MD5=[fbc87193dbaf4d95561dea2c320d4a47]\n",
       "cluster E1--><a href=\"psysml:ffb2e2dc-9c37-4787-be7c-ae8a88a6d943\" target=\"_top\" title=\"psysml:ffb2e2dc-9c37-4787-be7c-ae8a88a6d943\" xlink:actuate=\"onRequest\" xlink:href=\"psysml:ffb2e2dc-9c37-4787-be7c-ae8a88a6d943\" xlink:show=\"new\" xlink:title=\"psysml:ffb2e2dc-9c37-4787-be7c-ae8a88a6d943\" xlink:type=\"simple\"><polygon fill=\"#FFFFFF\" filter=\"url(#f1jz3im5zgpupw)\" points=\"16,6,91,6,98,28.2969,689,28.2969,689,183,16,183,16,6\" style=\"stroke: #000000; stroke-width: 1.5;\"/><line style=\"stroke: #000000; stroke-width: 1.5;\" x1=\"16\" x2=\"98\" y1=\"28.2969\" y2=\"28.2969\"/><text fill=\"#000000\" font-family=\"sans-serif\" font-size=\"14\" font-weight=\"bold\" lengthAdjust=\"spacingAndGlyphs\" textLength=\"69\" x=\"20\" y=\"20.9951\">ItemTest</text></a><!--MD5=[de5ec2e2e8f62f467e546659f5068c88]\n",
       "cluster E5--><a href=\"psysml:e612b3f8-fad7-4b05-bdfc-52877d32f7f2\" target=\"_top\" title=\"psysml:e612b3f8-fad7-4b05-bdfc-52877d32f7f2\" xlink:actuate=\"onRequest\" xlink:href=\"psysml:e612b3f8-fad7-4b05-bdfc-52877d32f7f2\" xlink:show=\"new\" xlink:title=\"psysml:e612b3f8-fad7-4b05-bdfc-52877d32f7f2\" xlink:type=\"simple\"><rect fill=\"#FFFFFF\" filter=\"url(#f1jz3im5zgpupw)\" height=\"110\" id=\"E5\" style=\"stroke: #A80036; stroke-width: 1.5;\" width=\"114\" x=\"551\" y=\"49\"/><rect fill=\"#FEFECE\" height=\"37.9375\" style=\"stroke: #A80036; stroke-width: 1.5;\" width=\"114\" x=\"551\" y=\"49\"/><text fill=\"#000000\" font-family=\"sans-serif\" font-size=\"12\" font-style=\"italic\" lengthAdjust=\"spacingAndGlyphs\" textLength=\"64\" x=\"576\" y=\"65.1387\">«part def»</text><text fill=\"#000000\" font-family=\"sans-serif\" font-size=\"12\" lengthAdjust=\"spacingAndGlyphs\" textLength=\"8\" x=\"604\" y=\"79.1074\">C</text></a><!--MD5=[09b614a08d8cba4a07c9adeb5e0fee81]\n",
       "class E3--><a href=\"psysml:be14fc81-3f83-42fd-a525-71826c91787f\" target=\"_top\" title=\"psysml:be14fc81-3f83-42fd-a525-71826c91787f\" xlink:actuate=\"onRequest\" xlink:href=\"psysml:be14fc81-3f83-42fd-a525-71826c91787f\" xlink:show=\"new\" xlink:title=\"psysml:be14fc81-3f83-42fd-a525-71826c91787f\" xlink:type=\"simple\"><rect fill=\"#FEFECE\" filter=\"url(#f1jz3im5zgpupw)\" height=\"53.9375\" id=\"E3\" style=\"stroke: #A80036; stroke-width: 1.5;\" width=\"115\" x=\"416.5\" y=\"94.5\"/><text fill=\"#000000\" font-family=\"sans-serif\" font-size=\"12\" font-style=\"italic\" lengthAdjust=\"spacingAndGlyphs\" textLength=\"113\" x=\"417.5\" y=\"110.6387\">«(T,blue)item def»</text><text fill=\"#000000\" font-family=\"sans-serif\" font-size=\"12\" lengthAdjust=\"spacingAndGlyphs\" textLength=\"8\" x=\"470\" y=\"124.6074\">A</text><line style=\"stroke: #A80036; stroke-width: 1.5;\" x1=\"417.5\" x2=\"530.5\" y1=\"132.4375\" y2=\"132.4375\"/><line style=\"stroke: #A80036; stroke-width: 1.5;\" x1=\"417.5\" x2=\"530.5\" y1=\"140.4375\" y2=\"140.4375\"/></a><!--MD5=[ebbe1d658d1005bcc118a6aa81145e00]\n",
       "class E4--><a href=\"psysml:41f55b44-de87-42d8-a9cd-035ede31bd10\" target=\"_top\" title=\"psysml:41f55b44-de87-42d8-a9cd-035ede31bd10\" xlink:actuate=\"onRequest\" xlink:href=\"psysml:41f55b44-de87-42d8-a9cd-035ede31bd10\" xlink:show=\"new\" xlink:title=\"psysml:41f55b44-de87-42d8-a9cd-035ede31bd10\" xlink:type=\"simple\"><rect fill=\"#FEFECE\" filter=\"url(#f1jz3im5zgpupw)\" height=\"53.9375\" id=\"E4\" style=\"stroke: #A80036; stroke-width: 1.5;\" width=\"115\" x=\"266.5\" y=\"94.5\"/><text fill=\"#000000\" font-family=\"sans-serif\" font-size=\"12\" font-style=\"italic\" lengthAdjust=\"spacingAndGlyphs\" textLength=\"113\" x=\"267.5\" y=\"110.6387\">«(T,blue)item def»</text><text fill=\"#000000\" font-family=\"sans-serif\" font-size=\"12\" lengthAdjust=\"spacingAndGlyphs\" textLength=\"8\" x=\"320\" y=\"124.6074\">B</text><line style=\"stroke: #A80036; stroke-width: 1.5;\" x1=\"267.5\" x2=\"380.5\" y1=\"132.4375\" y2=\"132.4375\"/><line style=\"stroke: #A80036; stroke-width: 1.5;\" x1=\"267.5\" x2=\"380.5\" y1=\"140.4375\" y2=\"140.4375\"/></a><!--MD5=[2156ba9850f5573cc1fc38a6a4b2f02b]\n",
       "class E7--><a href=\"psysml:b51b1cf2-e677-402d-bf05-bb2fae798694\" target=\"_top\" title=\"psysml:b51b1cf2-e677-402d-bf05-bb2fae798694\" xlink:actuate=\"onRequest\" xlink:href=\"psysml:b51b1cf2-e677-402d-bf05-bb2fae798694\" xlink:show=\"new\" xlink:title=\"psysml:b51b1cf2-e677-402d-bf05-bb2fae798694\" xlink:type=\"simple\"><rect fill=\"#FEFECE\" filter=\"url(#f1jz3im5zgpupw)\" height=\"53.9375\" id=\"E7\" style=\"stroke: #A80036; stroke-width: 1.5;\" width=\"114\" x=\"117\" y=\"94.5\"/><text fill=\"#000000\" font-family=\"sans-serif\" font-size=\"12\" font-style=\"italic\" lengthAdjust=\"spacingAndGlyphs\" textLength=\"112\" x=\"118\" y=\"110.6387\">«(T,blue)port def»</text><text fill=\"#000000\" font-family=\"sans-serif\" font-size=\"12\" lengthAdjust=\"spacingAndGlyphs\" textLength=\"8\" x=\"170\" y=\"124.6074\">P</text><line style=\"stroke: #A80036; stroke-width: 1.5;\" x1=\"118\" x2=\"230\" y1=\"132.4375\" y2=\"132.4375\"/><line style=\"stroke: #A80036; stroke-width: 1.5;\" x1=\"118\" x2=\"230\" y1=\"140.4375\" y2=\"140.4375\"/></a><g id=\"E1.E2\"><a href=\"psysml:cf4d7795-98ee-4d9f-9cbf-a98072608f6d\" target=\"_top\" title=\"psysml:cf4d7795-98ee-4d9f-9cbf-a98072608f6d\" xlink:actuate=\"onRequest\" xlink:href=\"psysml:cf4d7795-98ee-4d9f-9cbf-a98072608f6d\" xlink:show=\"new\" xlink:title=\"psysml:cf4d7795-98ee-4d9f-9cbf-a98072608f6d\" xlink:type=\"simple\"><rect fill=\"#FEFECE\" filter=\"url(#f1jz3im5zgpupw)\" height=\"42.9375\" id=\"E2\" rx=\"10\" ry=\"10\" style=\"stroke: #A80036; stroke-width: 1.5;\" width=\"50\" x=\"32\" y=\"100\"/><text fill=\"#000000\" font-family=\"sans-serif\" font-size=\"12\" font-style=\"italic\" lengthAdjust=\"spacingAndGlyphs\" textLength=\"41\" x=\"36.5\" y=\"116.1387\">«item»</text><text fill=\"#000000\" font-family=\"sans-serif\" font-size=\"12\" lengthAdjust=\"spacingAndGlyphs\" textLength=\"20\" x=\"47\" y=\"130.1074\">f: A</text></a></g><g id=\"E1.E5.E6\"><a href=\"psysml:83dfbdb9-73af-4dff-b5ad-52a21a738594\" target=\"_top\" title=\"psysml:83dfbdb9-73af-4dff-b5ad-52a21a738594\" xlink:actuate=\"onRequest\" xlink:href=\"psysml:83dfbdb9-73af-4dff-b5ad-52a21a738594\" xlink:show=\"new\" xlink:title=\"psysml:83dfbdb9-73af-4dff-b5ad-52a21a738594\" xlink:type=\"simple\"><rect fill=\"#FEFECE\" filter=\"url(#f1jz3im5zgpupw)\" height=\"42.9375\" id=\"E6\" rx=\"10\" ry=\"10\" style=\"stroke: #A80036; stroke-width: 1.5;\" width=\"82\" x=\"567\" y=\"100\"/><text fill=\"#000000\" font-family=\"sans-serif\" font-size=\"12\" font-style=\"italic\" lengthAdjust=\"spacingAndGlyphs\" textLength=\"75\" x=\"570.5\" y=\"116.1387\">«reference»</text><text fill=\"#000000\" font-family=\"sans-serif\" font-size=\"12\" lengthAdjust=\"spacingAndGlyphs\" textLength=\"38\" x=\"589\" y=\"130.1074\">y: A, B</text></a></g><!--MD5=[82e7c2776b5f2051768e655a466c1f9d]\n",
       "@startuml\r\n",
       "skinparam ranksep 8\r\n",
       "skinparam rectangle {\r\n",
       " backgroundColor<<block>> LightGreen\r\n",
       "}\r\n",
       "skinparam wrapWidth 300\r\n",
       "hide circle\r\n",
       "\r\n",
       "package \"ItemTest\" as E1  [[psysml:ffb2e2dc-9c37-4787-be7c-ae8a88a6d943 ]]  {\r\n",
       "rec usage \"f: A\" as E2  <<(T,blue)item>> [[psysml:cf4d7795-98ee-4d9f-9cbf-a98072608f6d ]] {\r\n",
       "}\r\n",
       "def \"A\" as E3  <<(T,blue)item def>> [[psysml:be14fc81-3f83-42fd-a525-71826c91787f ]] \r\n",
       "def \"B\" as E4  <<(T,blue)item def>> [[psysml:41f55b44-de87-42d8-a9cd-035ede31bd10 ]] \r\n",
       "rec def \"C\" as E5  <<(T,blue)part def>> [[psysml:e612b3f8-fad7-4b05-bdfc-52877d32f7f2 ]] {\r\n",
       "rec usage \"y: A, B\" as E6  <<(T,blue)reference>> [[psysml:83dfbdb9-73af-4dff-b5ad-52a21a738594 ]] {\r\n",
       "}\r\n",
       "}\r\n",
       "def \"P\" as E7  <<(T,blue)port def>> [[psysml:b51b1cf2-e677-402d-bf05-bb2fae798694 ]] \r\n",
       "}\r\n",
       "@enduml\r\n",
       "\n",
       "PlantUML version 1.2020.13(Sat Jun 13 12:26:38 UTC 2020)\n",
       "(EPL source distribution)\n",
       "Java Runtime: OpenJDK Runtime Environment\n",
       "JVM: OpenJDK 64-Bit Server VM\n",
       "Default Encoding: UTF-8\n",
       "Language: en\n",
       "Country: null\n",
       "--></g></svg>"
      ]
     },
     "execution_count": 26,
     "metadata": {},
     "output_type": "execute_result"
    }
   ],
   "source": [
    "%viz --style=\"STDCOLOR\" --view=\"Interconnection\" \"ItemTest\""
   ]
  },
  {
   "cell_type": "code",
   "execution_count": 27,
   "id": "separated-mobile",
   "metadata": {
    "execution": {
     "iopub.execute_input": "2021-03-25T15:10:22.879141Z",
     "iopub.status.busy": "2021-03-25T15:10:22.878683Z",
     "iopub.status.idle": "2021-03-25T15:10:22.885705Z",
     "shell.execute_reply": "2021-03-25T15:10:22.885264Z"
    }
   },
   "outputs": [
    {
     "data": {
      "image/svg+xml": [
       "<?xml version=\"1.0\" encoding=\"UTF-8\" standalone=\"no\"?><svg xmlns=\"http://www.w3.org/2000/svg\" xmlns:xlink=\"http://www.w3.org/1999/xlink\" contentScriptType=\"application/ecmascript\" contentStyleType=\"text/css\" height=\"12px\" preserveAspectRatio=\"none\" style=\"width:12px;height:12px;\" version=\"1.1\" viewBox=\"0 0 12 12\" width=\"12px\" zoomAndPan=\"magnify\"><defs/><g><!--MD5=[9863325348a96a77dacc89509d8ee65e]\n",
       "@startuml\r\n",
       "skinparam ranksep 8\r\n",
       "skinparam wrapWidth 300\r\n",
       "hide circle\r\n",
       "\r\n",
       "@enduml\r\n",
       "\n",
       "PlantUML version 1.2020.13(Sat Jun 13 12:26:38 UTC 2020)\n",
       "(EPL source distribution)\n",
       "Java Runtime: OpenJDK Runtime Environment\n",
       "JVM: OpenJDK 64-Bit Server VM\n",
       "Default Encoding: UTF-8\n",
       "Language: en\n",
       "Country: null\n",
       "--></g></svg>"
      ]
     },
     "execution_count": 27,
     "metadata": {},
     "output_type": "execute_result"
    }
   ],
   "source": [
    "%viz --style=\"STDCOLOR\" --view=\"Action\" \"ItemTest\""
   ]
  },
  {
   "cell_type": "code",
   "execution_count": 28,
   "id": "comfortable-turning",
   "metadata": {
    "execution": {
     "iopub.execute_input": "2021-03-25T15:10:22.936601Z",
     "iopub.status.busy": "2021-03-25T15:10:22.936095Z",
     "iopub.status.idle": "2021-03-25T15:10:23.205790Z",
     "shell.execute_reply": "2021-03-25T15:10:23.206241Z"
    }
   },
   "outputs": [
    {
     "data": {
      "image/svg+xml": [
       "<?xml version=\"1.0\" encoding=\"UTF-8\" standalone=\"no\"?><svg xmlns=\"http://www.w3.org/2000/svg\" xmlns:xlink=\"http://www.w3.org/1999/xlink\" contentScriptType=\"application/ecmascript\" contentStyleType=\"text/css\" height=\"738px\" preserveAspectRatio=\"none\" style=\"width:228px;height:738px;\" version=\"1.1\" viewBox=\"0 0 228 738\" width=\"228px\" zoomAndPan=\"magnify\"><defs><filter height=\"300%\" id=\"f1lfgx7d6a3o80\" width=\"300%\" x=\"-1\" y=\"-1\"><feGaussianBlur result=\"blurOut\" stdDeviation=\"2.0\"/><feColorMatrix in=\"blurOut\" result=\"blurOut2\" type=\"matrix\" values=\"0 0 0 0 0 0 0 0 0 0 0 0 0 0 0 0 0 0 .4 0\"/><feOffset dx=\"4.0\" dy=\"4.0\" in=\"blurOut2\" result=\"blurOut3\"/><feBlend in=\"SourceGraphic\" in2=\"blurOut3\" mode=\"normal\"/></filter></defs><g><!--MD5=[fbc87193dbaf4d95561dea2c320d4a47]\n",
       "cluster E1--><a href=\"psysml:ffb2e2dc-9c37-4787-be7c-ae8a88a6d943\" target=\"_top\" title=\"psysml:ffb2e2dc-9c37-4787-be7c-ae8a88a6d943\" xlink:actuate=\"onRequest\" xlink:href=\"psysml:ffb2e2dc-9c37-4787-be7c-ae8a88a6d943\" xlink:show=\"new\" xlink:title=\"psysml:ffb2e2dc-9c37-4787-be7c-ae8a88a6d943\" xlink:type=\"simple\"><polygon fill=\"#FFFFFF\" filter=\"url(#f1lfgx7d6a3o80)\" points=\"16,6,91,6,98,28.2969,206,28.2969,206,726,16,726,16,6\" style=\"stroke: #000000; stroke-width: 1.5;\"/><line style=\"stroke: #000000; stroke-width: 1.5;\" x1=\"16\" x2=\"98\" y1=\"28.2969\" y2=\"28.2969\"/><text fill=\"#000000\" font-family=\"sans-serif\" font-size=\"14\" font-weight=\"bold\" lengthAdjust=\"spacingAndGlyphs\" textLength=\"69\" x=\"20\" y=\"20.9951\">ItemTest</text></a><!--MD5=[b4997ac47864f28c2f74865a473b2911]\n",
       "class E2--><a href=\"psysml:cf4d7795-98ee-4d9f-9cbf-a98072608f6d\" target=\"_top\" title=\"psysml:cf4d7795-98ee-4d9f-9cbf-a98072608f6d\" xlink:actuate=\"onRequest\" xlink:href=\"psysml:cf4d7795-98ee-4d9f-9cbf-a98072608f6d\" xlink:show=\"new\" xlink:title=\"psysml:cf4d7795-98ee-4d9f-9cbf-a98072608f6d\" xlink:type=\"simple\"><rect fill=\"#FEFECE\" filter=\"url(#f1lfgx7d6a3o80)\" height=\"45.9375\" id=\"E2\" rx=\"10\" ry=\"10\" style=\"stroke: #A80036; stroke-width: 1.5;\" width=\"43\" x=\"133.5\" y=\"62\"/><text fill=\"#000000\" font-family=\"sans-serif\" font-size=\"12\" font-style=\"italic\" lengthAdjust=\"spacingAndGlyphs\" textLength=\"41\" x=\"134.5\" y=\"78.1387\">«item»</text><text fill=\"#000000\" font-family=\"sans-serif\" font-size=\"12\" lengthAdjust=\"spacingAndGlyphs\" textLength=\"20\" x=\"145\" y=\"92.1074\">f: A</text><line style=\"stroke: #A80036; stroke-width: 1.5;\" x1=\"134.5\" x2=\"175.5\" y1=\"99.9375\" y2=\"99.9375\"/></a><!--MD5=[09b614a08d8cba4a07c9adeb5e0fee81]\n",
       "class E3--><a href=\"psysml:be14fc81-3f83-42fd-a525-71826c91787f\" target=\"_top\" title=\"psysml:be14fc81-3f83-42fd-a525-71826c91787f\" xlink:actuate=\"onRequest\" xlink:href=\"psysml:be14fc81-3f83-42fd-a525-71826c91787f\" xlink:show=\"new\" xlink:title=\"psysml:be14fc81-3f83-42fd-a525-71826c91787f\" xlink:type=\"simple\"><rect fill=\"#FEFECE\" filter=\"url(#f1lfgx7d6a3o80)\" height=\"75.5469\" id=\"E3\" style=\"stroke: #A80036; stroke-width: 1.5;\" width=\"67\" x=\"115.5\" y=\"190\"/><text fill=\"#000000\" font-family=\"sans-serif\" font-size=\"12\" font-style=\"italic\" lengthAdjust=\"spacingAndGlyphs\" textLength=\"65\" x=\"116.5\" y=\"206.1387\">«item def»</text><text fill=\"#000000\" font-family=\"sans-serif\" font-size=\"12\" lengthAdjust=\"spacingAndGlyphs\" textLength=\"8\" x=\"145\" y=\"220.1074\">A</text><line style=\"stroke: #A80036; stroke-width: 1.5;\" x1=\"116.5\" x2=\"181.5\" y1=\"227.9375\" y2=\"227.9375\"/><text fill=\"#000000\" font-family=\"sans-serif\" font-size=\"11\" lengthAdjust=\"spacingAndGlyphs\" textLength=\"23\" x=\"121.5\" y=\"258.9526\">b: B</text><line style=\"stroke: #A80036; stroke-width: 1.0;\" x1=\"116.5\" x2=\"133\" y1=\"242.3398\" y2=\"242.3398\"/><text fill=\"#000000\" font-family=\"sans-serif\" font-size=\"11\" lengthAdjust=\"spacingAndGlyphs\" textLength=\"32\" x=\"133\" y=\"245.6479\">items</text><line style=\"stroke: #A80036; stroke-width: 1.0;\" x1=\"165\" x2=\"181.5\" y1=\"242.3398\" y2=\"242.3398\"/></a><!--MD5=[270fce915f116d4de14055a7c1d9a0f3]\n",
       "class E5--><a href=\"psysml:77af57f1-340c-421d-9a30-1a49108711b3\" target=\"_top\" title=\"psysml:77af57f1-340c-421d-9a30-1a49108711b3\" xlink:actuate=\"onRequest\" xlink:href=\"psysml:77af57f1-340c-421d-9a30-1a49108711b3\" xlink:show=\"new\" xlink:title=\"psysml:77af57f1-340c-421d-9a30-1a49108711b3\" xlink:type=\"simple\"><rect fill=\"#FEFECE\" filter=\"url(#f1lfgx7d6a3o80)\" height=\"45.9375\" id=\"E5\" rx=\"10\" ry=\"10\" style=\"stroke: #A80036; stroke-width: 1.5;\" width=\"42\" x=\"32\" y=\"327\"/><text fill=\"#000000\" font-family=\"sans-serif\" font-size=\"12\" font-style=\"italic\" lengthAdjust=\"spacingAndGlyphs\" textLength=\"40\" x=\"33\" y=\"343.1387\">«part»</text><text fill=\"#000000\" font-family=\"sans-serif\" font-size=\"12\" lengthAdjust=\"spacingAndGlyphs\" textLength=\"23\" x=\"41.5\" y=\"357.1074\">c: C</text><line style=\"stroke: #A80036; stroke-width: 1.5;\" x1=\"33\" x2=\"73\" y1=\"364.9375\" y2=\"364.9375\"/></a><!--MD5=[60a26617385b1d2d0262a64233df1f8d]\n",
       "class E6--><a href=\"psysml:41f55b44-de87-42d8-a9cd-035ede31bd10\" target=\"_top\" title=\"psysml:41f55b44-de87-42d8-a9cd-035ede31bd10\" xlink:actuate=\"onRequest\" xlink:href=\"psysml:41f55b44-de87-42d8-a9cd-035ede31bd10\" xlink:show=\"new\" xlink:title=\"psysml:41f55b44-de87-42d8-a9cd-035ede31bd10\" xlink:type=\"simple\"><rect fill=\"#FEFECE\" filter=\"url(#f1lfgx7d6a3o80)\" height=\"45.9375\" id=\"E6\" style=\"stroke: #A80036; stroke-width: 1.5;\" width=\"67\" x=\"85.5\" y=\"557\"/><text fill=\"#000000\" font-family=\"sans-serif\" font-size=\"12\" font-style=\"italic\" lengthAdjust=\"spacingAndGlyphs\" textLength=\"65\" x=\"86.5\" y=\"573.1387\">«item def»</text><text fill=\"#000000\" font-family=\"sans-serif\" font-size=\"12\" lengthAdjust=\"spacingAndGlyphs\" textLength=\"8\" x=\"115\" y=\"587.1074\">B</text><line style=\"stroke: #A80036; stroke-width: 1.5;\" x1=\"86.5\" x2=\"151.5\" y1=\"594.9375\" y2=\"594.9375\"/></a><!--MD5=[2156ba9850f5573cc1fc38a6a4b2f02b]\n",
       "class E7--><a href=\"psysml:4ca48e5a-78fa-40b6-ad88-229f08c03677\" target=\"_top\" title=\"psysml:4ca48e5a-78fa-40b6-ad88-229f08c03677\" xlink:actuate=\"onRequest\" xlink:href=\"psysml:4ca48e5a-78fa-40b6-ad88-229f08c03677\" xlink:show=\"new\" xlink:title=\"psysml:4ca48e5a-78fa-40b6-ad88-229f08c03677\" xlink:type=\"simple\"><rect fill=\"#FEFECE\" filter=\"url(#f1lfgx7d6a3o80)\" height=\"45.9375\" id=\"E7\" rx=\"10\" ry=\"10\" style=\"stroke: #A80036; stroke-width: 1.5;\" width=\"42\" x=\"123\" y=\"664\"/><text fill=\"#000000\" font-family=\"sans-serif\" font-size=\"12\" font-style=\"italic\" lengthAdjust=\"spacingAndGlyphs\" textLength=\"40\" x=\"124\" y=\"680.1387\">«part»</text><text fill=\"#000000\" font-family=\"sans-serif\" font-size=\"12\" lengthAdjust=\"spacingAndGlyphs\" textLength=\"24\" x=\"132\" y=\"694.1074\">a: A</text><line style=\"stroke: #A80036; stroke-width: 1.5;\" x1=\"124\" x2=\"164\" y1=\"701.9375\" y2=\"701.9375\"/></a><!--MD5=[b9389687b975829384b498ac4b7476b2]\n",
       "class E8--><a href=\"psysml:e612b3f8-fad7-4b05-bdfc-52877d32f7f2\" target=\"_top\" title=\"psysml:e612b3f8-fad7-4b05-bdfc-52877d32f7f2\" xlink:actuate=\"onRequest\" xlink:href=\"psysml:e612b3f8-fad7-4b05-bdfc-52877d32f7f2\" xlink:show=\"new\" xlink:title=\"psysml:e612b3f8-fad7-4b05-bdfc-52877d32f7f2\" xlink:type=\"simple\"><rect fill=\"#FEFECE\" filter=\"url(#f1lfgx7d6a3o80)\" height=\"45.9375\" id=\"E8\" style=\"stroke: #A80036; stroke-width: 1.5;\" width=\"66\" x=\"86\" y=\"434\"/><text fill=\"#000000\" font-family=\"sans-serif\" font-size=\"12\" font-style=\"italic\" lengthAdjust=\"spacingAndGlyphs\" textLength=\"64\" x=\"87\" y=\"450.1387\">«part def»</text><text fill=\"#000000\" font-family=\"sans-serif\" font-size=\"12\" lengthAdjust=\"spacingAndGlyphs\" textLength=\"8\" x=\"115\" y=\"464.1074\">C</text><line style=\"stroke: #A80036; stroke-width: 1.5;\" x1=\"87\" x2=\"151\" y1=\"471.9375\" y2=\"471.9375\"/></a><!--MD5=[fd4143e9d270a159db93a4ea2a975926]\n",
       "class E9--><a href=\"psysml:b51b1cf2-e677-402d-bf05-bb2fae798694\" target=\"_top\" title=\"psysml:b51b1cf2-e677-402d-bf05-bb2fae798694\" xlink:actuate=\"onRequest\" xlink:href=\"psysml:b51b1cf2-e677-402d-bf05-bb2fae798694\" xlink:show=\"new\" xlink:title=\"psysml:b51b1cf2-e677-402d-bf05-bb2fae798694\" xlink:type=\"simple\"><rect fill=\"#FEFECE\" filter=\"url(#f1lfgx7d6a3o80)\" height=\"88.3516\" id=\"E9\" style=\"stroke: #A80036; stroke-width: 1.5;\" width=\"66\" x=\"32\" y=\"41\"/><text fill=\"#000000\" font-family=\"sans-serif\" font-size=\"12\" font-style=\"italic\" lengthAdjust=\"spacingAndGlyphs\" textLength=\"64\" x=\"33\" y=\"57.1387\">«port def»</text><text fill=\"#000000\" font-family=\"sans-serif\" font-size=\"12\" lengthAdjust=\"spacingAndGlyphs\" textLength=\"8\" x=\"61\" y=\"71.1074\">P</text><line style=\"stroke: #A80036; stroke-width: 1.5;\" x1=\"33\" x2=\"97\" y1=\"78.9375\" y2=\"78.9375\"/><text fill=\"#000000\" font-family=\"sans-serif\" font-size=\"11\" lengthAdjust=\"spacingAndGlyphs\" textLength=\"29\" x=\"38\" y=\"109.9526\">a1: A</text><text fill=\"#000000\" font-family=\"sans-serif\" font-size=\"11\" lengthAdjust=\"spacingAndGlyphs\" textLength=\"29\" x=\"38\" y=\"122.7573\">a2: A</text><line style=\"stroke: #A80036; stroke-width: 1.0;\" x1=\"33\" x2=\"49\" y1=\"93.3398\" y2=\"93.3398\"/><text fill=\"#000000\" font-family=\"sans-serif\" font-size=\"11\" lengthAdjust=\"spacingAndGlyphs\" textLength=\"32\" x=\"49\" y=\"96.6479\">items</text><line style=\"stroke: #A80036; stroke-width: 1.0;\" x1=\"81\" x2=\"97\" y1=\"93.3398\" y2=\"93.3398\"/></a><!--MD5=[2720a5a1f2c3fca2055b230370638851]\n",
       "link E2 to E3--><a href=\"psysml:5c778f2f-9d99-44f7-9cbe-495e6850b493\" target=\"_top\" title=\"psysml:5c778f2f-9d99-44f7-9cbe-495e6850b493\" xlink:actuate=\"onRequest\" xlink:href=\"psysml:5c778f2f-9d99-44f7-9cbe-495e6850b493\" xlink:show=\"new\" xlink:title=\"psysml:5c778f2f-9d99-44f7-9cbe-495e6850b493\" xlink:type=\"simple\"><path d=\"M154.06,108.03 C153.36,124.58 152.36,148.04 151.44,169.76 \" fill=\"none\" id=\"E2-&gt;E3\" style=\"stroke: #A80036; stroke-width: 1.0;\"/><polygon fill=\"#FFFFFF\" points=\"150.58,189.77,144.4005,170.4875,158.3877,171.0874,150.58,189.77\" style=\"stroke: #A80036; stroke-width: 1.0;\"/><ellipse cx=\"146.6429\" cy=\"164.8784\" fill=\"#A80036\" rx=\"2\" ry=\"2\" style=\"stroke: #A80036; stroke-width: 1.0;\"/><ellipse cx=\"156.6338\" cy=\"165.3069\" fill=\"#A80036\" rx=\"2\" ry=\"2\" style=\"stroke: #A80036; stroke-width: 1.0;\"/></a><!--MD5=[191cde3d490a3f6d7bb551fe3ddca469]\n",
       "reverse link E3 to E5--><a href=\"psysml:77af57f1-340c-421d-9a30-1a49108711b3\" target=\"_top\" title=\"psysml:77af57f1-340c-421d-9a30-1a49108711b3\" xlink:actuate=\"onRequest\" xlink:href=\"psysml:77af57f1-340c-421d-9a30-1a49108711b3\" xlink:show=\"new\" xlink:title=\"psysml:77af57f1-340c-421d-9a30-1a49108711b3\" xlink:type=\"simple\"><path d=\"M110.75,276.82 C96.95,294.07 82.02,312.72 70.8,326.75 \" fill=\"none\" id=\"E3&lt;-E5\" style=\"stroke: #A80036; stroke-width: 1.0;\"/><polygon fill=\"#FFFFFF\" points=\"119.15,266.31,112.2784,268.4964,111.6537,275.6804,118.5253,273.494,119.15,266.31\" style=\"stroke: #A80036; stroke-width: 1.0;\"/></a><!--MD5=[14ccda38c055a5c0da953d572bc50960]\n",
       "link E7 to E3--><a href=\"psysml:8bb447da-4a21-4000-9a04-f9f9c4ed48f1\" target=\"_top\" title=\"psysml:8bb447da-4a21-4000-9a04-f9f9c4ed48f1\" xlink:actuate=\"onRequest\" xlink:href=\"psysml:8bb447da-4a21-4000-9a04-f9f9c4ed48f1\" xlink:show=\"new\" xlink:title=\"psysml:8bb447da-4a21-4000-9a04-f9f9c4ed48f1\" xlink:type=\"simple\"><path d=\"M159.74,663.82 C172.72,643.34 189,611.54 189,581 C189,349 189,349 189,349 C189,327.34 183.06,304.56 175.76,284.74 \" fill=\"none\" id=\"E7-&gt;E3\" style=\"stroke: #A80036; stroke-width: 1.0;\"/><polygon fill=\"#FFFFFF\" points=\"168.18,266.05,181.8034,281.0301,168.8283,286.2881,168.18,266.05\" style=\"stroke: #A80036; stroke-width: 1.0;\"/><ellipse cx=\"182.0906\" cy=\"287.0639\" fill=\"#A80036\" rx=\"2\" ry=\"2\" style=\"stroke: #A80036; stroke-width: 1.0;\"/><ellipse cx=\"172.8227\" cy=\"290.8196\" fill=\"#A80036\" rx=\"2\" ry=\"2\" style=\"stroke: #A80036; stroke-width: 1.0;\"/></a><!--MD5=[3f50a3473f1dfb74d3f76443e03635af]\n",
       "reverse link E6 to E7--><a href=\"psysml:4ca48e5a-78fa-40b6-ad88-229f08c03677\" target=\"_top\" title=\"psysml:4ca48e5a-78fa-40b6-ad88-229f08c03677\" xlink:actuate=\"onRequest\" xlink:href=\"psysml:4ca48e5a-78fa-40b6-ad88-229f08c03677\" xlink:show=\"new\" xlink:title=\"psysml:4ca48e5a-78fa-40b6-ad88-229f08c03677\" xlink:type=\"simple\"><path d=\"M127.34,616.05 C131.08,631.76 135.39,649.82 138.68,663.66 \" fill=\"none\" id=\"E6&lt;-E7\" style=\"stroke: #A80036; stroke-width: 1.0;\"/><polygon fill=\"#A80036\" points=\"124.24,603.01,121.7406,609.7741,127.023,614.6828,129.5224,607.9187,124.24,603.01\" style=\"stroke: #A80036; stroke-width: 1.0;\"/></a><!--MD5=[dfaffb906826c3e5aca635516100ff21]\n",
       "link E5 to E8--><a href=\"psysml:6ff88c17-8c2d-42a4-af32-a2455d6f0acf\" target=\"_top\" title=\"psysml:6ff88c17-8c2d-42a4-af32-a2455d6f0acf\" xlink:actuate=\"onRequest\" xlink:href=\"psysml:6ff88c17-8c2d-42a4-af32-a2455d6f0acf\" xlink:show=\"new\" xlink:title=\"psysml:6ff88c17-8c2d-42a4-af32-a2455d6f0acf\" xlink:type=\"simple\"><path d=\"M66.84,373.01 C74.79,385.67 85.02,401.94 94.31,416.72 \" fill=\"none\" id=\"E5-&gt;E8\" style=\"stroke: #A80036; stroke-width: 1.0;\"/><polygon fill=\"#FFFFFF\" points=\"104.96,433.66,88.9212,421.3005,100.7735,413.8491,104.96,433.66\" style=\"stroke: #A80036; stroke-width: 1.0;\"/><ellipse cx=\"87.5806\" cy=\"415.4104\" fill=\"#A80036\" rx=\"2\" ry=\"2\" style=\"stroke: #A80036; stroke-width: 1.0;\"/><ellipse cx=\"96.0465\" cy=\"410.088\" fill=\"#A80036\" rx=\"2\" ry=\"2\" style=\"stroke: #A80036; stroke-width: 1.0;\"/></a><!--MD5=[03c8294790d3c57651a1993cecff665f]\n",
       "reverse link E8 to E3--><a href=\"psysml:83dfbdb9-73af-4dff-b5ad-52a21a738594\" target=\"_top\" title=\"psysml:83dfbdb9-73af-4dff-b5ad-52a21a738594\" xlink:actuate=\"onRequest\" xlink:href=\"psysml:83dfbdb9-73af-4dff-b5ad-52a21a738594\" xlink:show=\"new\" xlink:title=\"psysml:83dfbdb9-73af-4dff-b5ad-52a21a738594\" xlink:type=\"simple\"><path d=\"M123.65,420.81 C129.2,378.86 138.42,309.06 144.08,266.23 \" fill=\"none\" id=\"E8&lt;-E3\" style=\"stroke: #A80036; stroke-width: 1.0;\"/><polygon fill=\"#FFFFFF\" points=\"121.92,433.89,126.6755,428.4692,123.5008,421.9946,118.7453,427.4154,121.92,433.89\" style=\"stroke: #A80036; stroke-width: 1.0;\"/><text fill=\"#000000\" font-family=\"sans-serif\" font-size=\"13\" lengthAdjust=\"spacingAndGlyphs\" textLength=\"7\" x=\"136\" y=\"354.5669\">y</text></a><!--MD5=[0d75d2178373a6a4568e5dc728f58aef]\n",
       "reverse link E8 to E6--><a href=\"psysml:83dfbdb9-73af-4dff-b5ad-52a21a738594\" target=\"_top\" title=\"psysml:83dfbdb9-73af-4dff-b5ad-52a21a738594\" xlink:actuate=\"onRequest\" xlink:href=\"psysml:83dfbdb9-73af-4dff-b5ad-52a21a738594\" xlink:show=\"new\" xlink:title=\"psysml:83dfbdb9-73af-4dff-b5ad-52a21a738594\" xlink:type=\"simple\"><path d=\"M119,493.22 C119,513.81 119,539.16 119,556.95 \" fill=\"none\" id=\"E8&lt;-E6\" style=\"stroke: #A80036; stroke-width: 1.0;\"/><polygon fill=\"#FFFFFF\" points=\"119,480.19,115,486.19,119,492.19,123,486.19,119,480.19\" style=\"stroke: #A80036; stroke-width: 1.0;\"/><text fill=\"#000000\" font-family=\"sans-serif\" font-size=\"13\" lengthAdjust=\"spacingAndGlyphs\" textLength=\"7\" x=\"120\" y=\"523.0669\">y</text></a><!--MD5=[a01fa8f36f4510b2da7a5ffa9d5147cf]\n",
       "@startuml\r\n",
       "skinparam wrapWidth 300\r\n",
       "hide circle\r\n",
       "\r\n",
       "package \"ItemTest\" as E1  [[psysml:ffb2e2dc-9c37-4787-be7c-ae8a88a6d943 ]]  {\r\n",
       "comp usage \"f: A\" as E2  <<(T,blue)item>> [[psysml:cf4d7795-98ee-4d9f-9cbf-a98072608f6d ]] {\r\n",
       "}\r\n",
       "comp def \"A\" as E3  <<(T,blue)item def>> [[psysml:be14fc81-3f83-42fd-a525-71826c91787f ]] {\r\n",
       "- - items - -\r\n",
       "b: B\r\n",
       "}\r\n",
       "comp usage \"c: C\" as E5  <<(T,blue)part>> [[psysml:77af57f1-340c-421d-9a30-1a49108711b3 ]] {\r\n",
       "}\r\n",
       "comp def \"B\" as E6  <<(T,blue)item def>> [[psysml:41f55b44-de87-42d8-a9cd-035ede31bd10 ]] {\r\n",
       "}\r\n",
       "comp usage \"a: A\" as E7  <<(T,blue)part>> [[psysml:4ca48e5a-78fa-40b6-ad88-229f08c03677 ]] {\r\n",
       "}\r\n",
       "comp def \"C\" as E8  <<(T,blue)part def>> [[psysml:e612b3f8-fad7-4b05-bdfc-52877d32f7f2 ]] {\r\n",
       "}\r\n",
       "comp def \"P\" as E9  <<(T,blue)port def>> [[psysml:b51b1cf2-e677-402d-bf05-bb2fae798694 ]] {\r\n",
       "- - items - -\r\n",
       "a1: A\r\n",
       "a2: A\r\n",
       "}\r\n",
       "E2 - -:|> E3 [[psysml:5c778f2f-9d99-44f7-9cbe-495e6850b493 ]] \r\n",
       "E3 o- - E5 [[psysml:77af57f1-340c-421d-9a30-1a49108711b3 ]] \r\n",
       "E7 - -:|> E3 [[psysml:8bb447da-4a21-4000-9a04-f9f9c4ed48f1 ]] \r\n",
       "E6 *- - E7 [[psysml:4ca48e5a-78fa-40b6-ad88-229f08c03677 ]] \r\n",
       "E5 - -:|> E8 [[psysml:6ff88c17-8c2d-42a4-af32-a2455d6f0acf ]] \r\n",
       "E8 o- - E3 [[psysml:83dfbdb9-73af-4dff-b5ad-52a21a738594 ]] : y\r\n",
       "E8 o- - E6 [[psysml:83dfbdb9-73af-4dff-b5ad-52a21a738594 ]] : y\r\n",
       "}\r\n",
       "@enduml\r\n",
       "\n",
       "PlantUML version 1.2020.13(Sat Jun 13 12:26:38 UTC 2020)\n",
       "(EPL source distribution)\n",
       "Java Runtime: OpenJDK Runtime Environment\n",
       "JVM: OpenJDK 64-Bit Server VM\n",
       "Default Encoding: UTF-8\n",
       "Language: en\n",
       "Country: null\n",
       "--></g></svg>"
      ]
     },
     "execution_count": 28,
     "metadata": {},
     "output_type": "execute_result"
    }
   ],
   "source": [
    "%viz --style=\"STDCOLOR\" --view=\"Sequence\" \"ItemTest\""
   ]
  },
  {
   "cell_type": "code",
   "execution_count": 29,
   "id": "stuck-racing",
   "metadata": {
    "execution": {
     "iopub.execute_input": "2021-03-25T15:10:23.256326Z",
     "iopub.status.busy": "2021-03-25T15:10:23.255911Z",
     "iopub.status.idle": "2021-03-25T15:10:23.540141Z",
     "shell.execute_reply": "2021-03-25T15:10:23.538578Z"
    }
   },
   "outputs": [
    {
     "data": {
      "image/svg+xml": [
       "<?xml version=\"1.0\" encoding=\"UTF-8\" standalone=\"no\"?><svg xmlns=\"http://www.w3.org/2000/svg\" xmlns:xlink=\"http://www.w3.org/1999/xlink\" contentScriptType=\"application/ecmascript\" contentStyleType=\"text/css\" height=\"738px\" preserveAspectRatio=\"none\" style=\"width:228px;height:738px;\" version=\"1.1\" viewBox=\"0 0 228 738\" width=\"228px\" zoomAndPan=\"magnify\"><defs><filter height=\"300%\" id=\"f1lfgx7d6a3o80\" width=\"300%\" x=\"-1\" y=\"-1\"><feGaussianBlur result=\"blurOut\" stdDeviation=\"2.0\"/><feColorMatrix in=\"blurOut\" result=\"blurOut2\" type=\"matrix\" values=\"0 0 0 0 0 0 0 0 0 0 0 0 0 0 0 0 0 0 .4 0\"/><feOffset dx=\"4.0\" dy=\"4.0\" in=\"blurOut2\" result=\"blurOut3\"/><feBlend in=\"SourceGraphic\" in2=\"blurOut3\" mode=\"normal\"/></filter></defs><g><!--MD5=[fbc87193dbaf4d95561dea2c320d4a47]\n",
       "cluster E1--><a href=\"psysml:ffb2e2dc-9c37-4787-be7c-ae8a88a6d943\" target=\"_top\" title=\"psysml:ffb2e2dc-9c37-4787-be7c-ae8a88a6d943\" xlink:actuate=\"onRequest\" xlink:href=\"psysml:ffb2e2dc-9c37-4787-be7c-ae8a88a6d943\" xlink:show=\"new\" xlink:title=\"psysml:ffb2e2dc-9c37-4787-be7c-ae8a88a6d943\" xlink:type=\"simple\"><polygon fill=\"#FFFFFF\" filter=\"url(#f1lfgx7d6a3o80)\" points=\"16,6,91,6,98,28.2969,206,28.2969,206,726,16,726,16,6\" style=\"stroke: #000000; stroke-width: 1.5;\"/><line style=\"stroke: #000000; stroke-width: 1.5;\" x1=\"16\" x2=\"98\" y1=\"28.2969\" y2=\"28.2969\"/><text fill=\"#000000\" font-family=\"sans-serif\" font-size=\"14\" font-weight=\"bold\" lengthAdjust=\"spacingAndGlyphs\" textLength=\"69\" x=\"20\" y=\"20.9951\">ItemTest</text></a><!--MD5=[b4997ac47864f28c2f74865a473b2911]\n",
       "class E2--><a href=\"psysml:cf4d7795-98ee-4d9f-9cbf-a98072608f6d\" target=\"_top\" title=\"psysml:cf4d7795-98ee-4d9f-9cbf-a98072608f6d\" xlink:actuate=\"onRequest\" xlink:href=\"psysml:cf4d7795-98ee-4d9f-9cbf-a98072608f6d\" xlink:show=\"new\" xlink:title=\"psysml:cf4d7795-98ee-4d9f-9cbf-a98072608f6d\" xlink:type=\"simple\"><rect fill=\"#FEFECE\" filter=\"url(#f1lfgx7d6a3o80)\" height=\"45.9375\" id=\"E2\" rx=\"10\" ry=\"10\" style=\"stroke: #A80036; stroke-width: 1.5;\" width=\"43\" x=\"133.5\" y=\"62\"/><text fill=\"#000000\" font-family=\"sans-serif\" font-size=\"12\" font-style=\"italic\" lengthAdjust=\"spacingAndGlyphs\" textLength=\"41\" x=\"134.5\" y=\"78.1387\">«item»</text><text fill=\"#000000\" font-family=\"sans-serif\" font-size=\"12\" lengthAdjust=\"spacingAndGlyphs\" textLength=\"20\" x=\"145\" y=\"92.1074\">f: A</text><line style=\"stroke: #A80036; stroke-width: 1.5;\" x1=\"134.5\" x2=\"175.5\" y1=\"99.9375\" y2=\"99.9375\"/></a><!--MD5=[09b614a08d8cba4a07c9adeb5e0fee81]\n",
       "class E3--><a href=\"psysml:be14fc81-3f83-42fd-a525-71826c91787f\" target=\"_top\" title=\"psysml:be14fc81-3f83-42fd-a525-71826c91787f\" xlink:actuate=\"onRequest\" xlink:href=\"psysml:be14fc81-3f83-42fd-a525-71826c91787f\" xlink:show=\"new\" xlink:title=\"psysml:be14fc81-3f83-42fd-a525-71826c91787f\" xlink:type=\"simple\"><rect fill=\"#FEFECE\" filter=\"url(#f1lfgx7d6a3o80)\" height=\"75.5469\" id=\"E3\" style=\"stroke: #A80036; stroke-width: 1.5;\" width=\"67\" x=\"115.5\" y=\"190\"/><text fill=\"#000000\" font-family=\"sans-serif\" font-size=\"12\" font-style=\"italic\" lengthAdjust=\"spacingAndGlyphs\" textLength=\"65\" x=\"116.5\" y=\"206.1387\">«item def»</text><text fill=\"#000000\" font-family=\"sans-serif\" font-size=\"12\" lengthAdjust=\"spacingAndGlyphs\" textLength=\"8\" x=\"145\" y=\"220.1074\">A</text><line style=\"stroke: #A80036; stroke-width: 1.5;\" x1=\"116.5\" x2=\"181.5\" y1=\"227.9375\" y2=\"227.9375\"/><text fill=\"#000000\" font-family=\"sans-serif\" font-size=\"11\" lengthAdjust=\"spacingAndGlyphs\" textLength=\"23\" x=\"121.5\" y=\"258.9526\">b: B</text><line style=\"stroke: #A80036; stroke-width: 1.0;\" x1=\"116.5\" x2=\"133\" y1=\"242.3398\" y2=\"242.3398\"/><text fill=\"#000000\" font-family=\"sans-serif\" font-size=\"11\" lengthAdjust=\"spacingAndGlyphs\" textLength=\"32\" x=\"133\" y=\"245.6479\">items</text><line style=\"stroke: #A80036; stroke-width: 1.0;\" x1=\"165\" x2=\"181.5\" y1=\"242.3398\" y2=\"242.3398\"/></a><!--MD5=[270fce915f116d4de14055a7c1d9a0f3]\n",
       "class E5--><a href=\"psysml:77af57f1-340c-421d-9a30-1a49108711b3\" target=\"_top\" title=\"psysml:77af57f1-340c-421d-9a30-1a49108711b3\" xlink:actuate=\"onRequest\" xlink:href=\"psysml:77af57f1-340c-421d-9a30-1a49108711b3\" xlink:show=\"new\" xlink:title=\"psysml:77af57f1-340c-421d-9a30-1a49108711b3\" xlink:type=\"simple\"><rect fill=\"#FEFECE\" filter=\"url(#f1lfgx7d6a3o80)\" height=\"45.9375\" id=\"E5\" rx=\"10\" ry=\"10\" style=\"stroke: #A80036; stroke-width: 1.5;\" width=\"42\" x=\"32\" y=\"327\"/><text fill=\"#000000\" font-family=\"sans-serif\" font-size=\"12\" font-style=\"italic\" lengthAdjust=\"spacingAndGlyphs\" textLength=\"40\" x=\"33\" y=\"343.1387\">«part»</text><text fill=\"#000000\" font-family=\"sans-serif\" font-size=\"12\" lengthAdjust=\"spacingAndGlyphs\" textLength=\"23\" x=\"41.5\" y=\"357.1074\">c: C</text><line style=\"stroke: #A80036; stroke-width: 1.5;\" x1=\"33\" x2=\"73\" y1=\"364.9375\" y2=\"364.9375\"/></a><!--MD5=[60a26617385b1d2d0262a64233df1f8d]\n",
       "class E6--><a href=\"psysml:41f55b44-de87-42d8-a9cd-035ede31bd10\" target=\"_top\" title=\"psysml:41f55b44-de87-42d8-a9cd-035ede31bd10\" xlink:actuate=\"onRequest\" xlink:href=\"psysml:41f55b44-de87-42d8-a9cd-035ede31bd10\" xlink:show=\"new\" xlink:title=\"psysml:41f55b44-de87-42d8-a9cd-035ede31bd10\" xlink:type=\"simple\"><rect fill=\"#FEFECE\" filter=\"url(#f1lfgx7d6a3o80)\" height=\"45.9375\" id=\"E6\" style=\"stroke: #A80036; stroke-width: 1.5;\" width=\"67\" x=\"85.5\" y=\"557\"/><text fill=\"#000000\" font-family=\"sans-serif\" font-size=\"12\" font-style=\"italic\" lengthAdjust=\"spacingAndGlyphs\" textLength=\"65\" x=\"86.5\" y=\"573.1387\">«item def»</text><text fill=\"#000000\" font-family=\"sans-serif\" font-size=\"12\" lengthAdjust=\"spacingAndGlyphs\" textLength=\"8\" x=\"115\" y=\"587.1074\">B</text><line style=\"stroke: #A80036; stroke-width: 1.5;\" x1=\"86.5\" x2=\"151.5\" y1=\"594.9375\" y2=\"594.9375\"/></a><!--MD5=[2156ba9850f5573cc1fc38a6a4b2f02b]\n",
       "class E7--><a href=\"psysml:4ca48e5a-78fa-40b6-ad88-229f08c03677\" target=\"_top\" title=\"psysml:4ca48e5a-78fa-40b6-ad88-229f08c03677\" xlink:actuate=\"onRequest\" xlink:href=\"psysml:4ca48e5a-78fa-40b6-ad88-229f08c03677\" xlink:show=\"new\" xlink:title=\"psysml:4ca48e5a-78fa-40b6-ad88-229f08c03677\" xlink:type=\"simple\"><rect fill=\"#FEFECE\" filter=\"url(#f1lfgx7d6a3o80)\" height=\"45.9375\" id=\"E7\" rx=\"10\" ry=\"10\" style=\"stroke: #A80036; stroke-width: 1.5;\" width=\"42\" x=\"123\" y=\"664\"/><text fill=\"#000000\" font-family=\"sans-serif\" font-size=\"12\" font-style=\"italic\" lengthAdjust=\"spacingAndGlyphs\" textLength=\"40\" x=\"124\" y=\"680.1387\">«part»</text><text fill=\"#000000\" font-family=\"sans-serif\" font-size=\"12\" lengthAdjust=\"spacingAndGlyphs\" textLength=\"24\" x=\"132\" y=\"694.1074\">a: A</text><line style=\"stroke: #A80036; stroke-width: 1.5;\" x1=\"124\" x2=\"164\" y1=\"701.9375\" y2=\"701.9375\"/></a><!--MD5=[b9389687b975829384b498ac4b7476b2]\n",
       "class E8--><a href=\"psysml:e612b3f8-fad7-4b05-bdfc-52877d32f7f2\" target=\"_top\" title=\"psysml:e612b3f8-fad7-4b05-bdfc-52877d32f7f2\" xlink:actuate=\"onRequest\" xlink:href=\"psysml:e612b3f8-fad7-4b05-bdfc-52877d32f7f2\" xlink:show=\"new\" xlink:title=\"psysml:e612b3f8-fad7-4b05-bdfc-52877d32f7f2\" xlink:type=\"simple\"><rect fill=\"#FEFECE\" filter=\"url(#f1lfgx7d6a3o80)\" height=\"45.9375\" id=\"E8\" style=\"stroke: #A80036; stroke-width: 1.5;\" width=\"66\" x=\"86\" y=\"434\"/><text fill=\"#000000\" font-family=\"sans-serif\" font-size=\"12\" font-style=\"italic\" lengthAdjust=\"spacingAndGlyphs\" textLength=\"64\" x=\"87\" y=\"450.1387\">«part def»</text><text fill=\"#000000\" font-family=\"sans-serif\" font-size=\"12\" lengthAdjust=\"spacingAndGlyphs\" textLength=\"8\" x=\"115\" y=\"464.1074\">C</text><line style=\"stroke: #A80036; stroke-width: 1.5;\" x1=\"87\" x2=\"151\" y1=\"471.9375\" y2=\"471.9375\"/></a><!--MD5=[fd4143e9d270a159db93a4ea2a975926]\n",
       "class E9--><a href=\"psysml:b51b1cf2-e677-402d-bf05-bb2fae798694\" target=\"_top\" title=\"psysml:b51b1cf2-e677-402d-bf05-bb2fae798694\" xlink:actuate=\"onRequest\" xlink:href=\"psysml:b51b1cf2-e677-402d-bf05-bb2fae798694\" xlink:show=\"new\" xlink:title=\"psysml:b51b1cf2-e677-402d-bf05-bb2fae798694\" xlink:type=\"simple\"><rect fill=\"#FEFECE\" filter=\"url(#f1lfgx7d6a3o80)\" height=\"88.3516\" id=\"E9\" style=\"stroke: #A80036; stroke-width: 1.5;\" width=\"66\" x=\"32\" y=\"41\"/><text fill=\"#000000\" font-family=\"sans-serif\" font-size=\"12\" font-style=\"italic\" lengthAdjust=\"spacingAndGlyphs\" textLength=\"64\" x=\"33\" y=\"57.1387\">«port def»</text><text fill=\"#000000\" font-family=\"sans-serif\" font-size=\"12\" lengthAdjust=\"spacingAndGlyphs\" textLength=\"8\" x=\"61\" y=\"71.1074\">P</text><line style=\"stroke: #A80036; stroke-width: 1.5;\" x1=\"33\" x2=\"97\" y1=\"78.9375\" y2=\"78.9375\"/><text fill=\"#000000\" font-family=\"sans-serif\" font-size=\"11\" lengthAdjust=\"spacingAndGlyphs\" textLength=\"29\" x=\"38\" y=\"109.9526\">a1: A</text><text fill=\"#000000\" font-family=\"sans-serif\" font-size=\"11\" lengthAdjust=\"spacingAndGlyphs\" textLength=\"29\" x=\"38\" y=\"122.7573\">a2: A</text><line style=\"stroke: #A80036; stroke-width: 1.0;\" x1=\"33\" x2=\"49\" y1=\"93.3398\" y2=\"93.3398\"/><text fill=\"#000000\" font-family=\"sans-serif\" font-size=\"11\" lengthAdjust=\"spacingAndGlyphs\" textLength=\"32\" x=\"49\" y=\"96.6479\">items</text><line style=\"stroke: #A80036; stroke-width: 1.0;\" x1=\"81\" x2=\"97\" y1=\"93.3398\" y2=\"93.3398\"/></a><!--MD5=[2720a5a1f2c3fca2055b230370638851]\n",
       "link E2 to E3--><a href=\"psysml:5c778f2f-9d99-44f7-9cbe-495e6850b493\" target=\"_top\" title=\"psysml:5c778f2f-9d99-44f7-9cbe-495e6850b493\" xlink:actuate=\"onRequest\" xlink:href=\"psysml:5c778f2f-9d99-44f7-9cbe-495e6850b493\" xlink:show=\"new\" xlink:title=\"psysml:5c778f2f-9d99-44f7-9cbe-495e6850b493\" xlink:type=\"simple\"><path d=\"M154.06,108.03 C153.36,124.58 152.36,148.04 151.44,169.76 \" fill=\"none\" id=\"E2-&gt;E3\" style=\"stroke: #A80036; stroke-width: 1.0;\"/><polygon fill=\"#FFFFFF\" points=\"150.58,189.77,144.4005,170.4875,158.3877,171.0874,150.58,189.77\" style=\"stroke: #A80036; stroke-width: 1.0;\"/><ellipse cx=\"146.6429\" cy=\"164.8784\" fill=\"#A80036\" rx=\"2\" ry=\"2\" style=\"stroke: #A80036; stroke-width: 1.0;\"/><ellipse cx=\"156.6338\" cy=\"165.3069\" fill=\"#A80036\" rx=\"2\" ry=\"2\" style=\"stroke: #A80036; stroke-width: 1.0;\"/></a><!--MD5=[191cde3d490a3f6d7bb551fe3ddca469]\n",
       "reverse link E3 to E5--><a href=\"psysml:77af57f1-340c-421d-9a30-1a49108711b3\" target=\"_top\" title=\"psysml:77af57f1-340c-421d-9a30-1a49108711b3\" xlink:actuate=\"onRequest\" xlink:href=\"psysml:77af57f1-340c-421d-9a30-1a49108711b3\" xlink:show=\"new\" xlink:title=\"psysml:77af57f1-340c-421d-9a30-1a49108711b3\" xlink:type=\"simple\"><path d=\"M110.75,276.82 C96.95,294.07 82.02,312.72 70.8,326.75 \" fill=\"none\" id=\"E3&lt;-E5\" style=\"stroke: #A80036; stroke-width: 1.0;\"/><polygon fill=\"#FFFFFF\" points=\"119.15,266.31,112.2784,268.4964,111.6537,275.6804,118.5253,273.494,119.15,266.31\" style=\"stroke: #A80036; stroke-width: 1.0;\"/></a><!--MD5=[14ccda38c055a5c0da953d572bc50960]\n",
       "link E7 to E3--><a href=\"psysml:8bb447da-4a21-4000-9a04-f9f9c4ed48f1\" target=\"_top\" title=\"psysml:8bb447da-4a21-4000-9a04-f9f9c4ed48f1\" xlink:actuate=\"onRequest\" xlink:href=\"psysml:8bb447da-4a21-4000-9a04-f9f9c4ed48f1\" xlink:show=\"new\" xlink:title=\"psysml:8bb447da-4a21-4000-9a04-f9f9c4ed48f1\" xlink:type=\"simple\"><path d=\"M159.74,663.82 C172.72,643.34 189,611.54 189,581 C189,349 189,349 189,349 C189,327.34 183.06,304.56 175.76,284.74 \" fill=\"none\" id=\"E7-&gt;E3\" style=\"stroke: #A80036; stroke-width: 1.0;\"/><polygon fill=\"#FFFFFF\" points=\"168.18,266.05,181.8034,281.0301,168.8283,286.2881,168.18,266.05\" style=\"stroke: #A80036; stroke-width: 1.0;\"/><ellipse cx=\"182.0906\" cy=\"287.0639\" fill=\"#A80036\" rx=\"2\" ry=\"2\" style=\"stroke: #A80036; stroke-width: 1.0;\"/><ellipse cx=\"172.8227\" cy=\"290.8196\" fill=\"#A80036\" rx=\"2\" ry=\"2\" style=\"stroke: #A80036; stroke-width: 1.0;\"/></a><!--MD5=[3f50a3473f1dfb74d3f76443e03635af]\n",
       "reverse link E6 to E7--><a href=\"psysml:4ca48e5a-78fa-40b6-ad88-229f08c03677\" target=\"_top\" title=\"psysml:4ca48e5a-78fa-40b6-ad88-229f08c03677\" xlink:actuate=\"onRequest\" xlink:href=\"psysml:4ca48e5a-78fa-40b6-ad88-229f08c03677\" xlink:show=\"new\" xlink:title=\"psysml:4ca48e5a-78fa-40b6-ad88-229f08c03677\" xlink:type=\"simple\"><path d=\"M127.34,616.05 C131.08,631.76 135.39,649.82 138.68,663.66 \" fill=\"none\" id=\"E6&lt;-E7\" style=\"stroke: #A80036; stroke-width: 1.0;\"/><polygon fill=\"#A80036\" points=\"124.24,603.01,121.7406,609.7741,127.023,614.6828,129.5224,607.9187,124.24,603.01\" style=\"stroke: #A80036; stroke-width: 1.0;\"/></a><!--MD5=[dfaffb906826c3e5aca635516100ff21]\n",
       "link E5 to E8--><a href=\"psysml:6ff88c17-8c2d-42a4-af32-a2455d6f0acf\" target=\"_top\" title=\"psysml:6ff88c17-8c2d-42a4-af32-a2455d6f0acf\" xlink:actuate=\"onRequest\" xlink:href=\"psysml:6ff88c17-8c2d-42a4-af32-a2455d6f0acf\" xlink:show=\"new\" xlink:title=\"psysml:6ff88c17-8c2d-42a4-af32-a2455d6f0acf\" xlink:type=\"simple\"><path d=\"M66.84,373.01 C74.79,385.67 85.02,401.94 94.31,416.72 \" fill=\"none\" id=\"E5-&gt;E8\" style=\"stroke: #A80036; stroke-width: 1.0;\"/><polygon fill=\"#FFFFFF\" points=\"104.96,433.66,88.9212,421.3005,100.7735,413.8491,104.96,433.66\" style=\"stroke: #A80036; stroke-width: 1.0;\"/><ellipse cx=\"87.5806\" cy=\"415.4104\" fill=\"#A80036\" rx=\"2\" ry=\"2\" style=\"stroke: #A80036; stroke-width: 1.0;\"/><ellipse cx=\"96.0465\" cy=\"410.088\" fill=\"#A80036\" rx=\"2\" ry=\"2\" style=\"stroke: #A80036; stroke-width: 1.0;\"/></a><!--MD5=[03c8294790d3c57651a1993cecff665f]\n",
       "reverse link E8 to E3--><a href=\"psysml:83dfbdb9-73af-4dff-b5ad-52a21a738594\" target=\"_top\" title=\"psysml:83dfbdb9-73af-4dff-b5ad-52a21a738594\" xlink:actuate=\"onRequest\" xlink:href=\"psysml:83dfbdb9-73af-4dff-b5ad-52a21a738594\" xlink:show=\"new\" xlink:title=\"psysml:83dfbdb9-73af-4dff-b5ad-52a21a738594\" xlink:type=\"simple\"><path d=\"M123.65,420.81 C129.2,378.86 138.42,309.06 144.08,266.23 \" fill=\"none\" id=\"E8&lt;-E3\" style=\"stroke: #A80036; stroke-width: 1.0;\"/><polygon fill=\"#FFFFFF\" points=\"121.92,433.89,126.6755,428.4692,123.5008,421.9946,118.7453,427.4154,121.92,433.89\" style=\"stroke: #A80036; stroke-width: 1.0;\"/><text fill=\"#000000\" font-family=\"sans-serif\" font-size=\"13\" lengthAdjust=\"spacingAndGlyphs\" textLength=\"7\" x=\"136\" y=\"354.5669\">y</text></a><!--MD5=[0d75d2178373a6a4568e5dc728f58aef]\n",
       "reverse link E8 to E6--><a href=\"psysml:83dfbdb9-73af-4dff-b5ad-52a21a738594\" target=\"_top\" title=\"psysml:83dfbdb9-73af-4dff-b5ad-52a21a738594\" xlink:actuate=\"onRequest\" xlink:href=\"psysml:83dfbdb9-73af-4dff-b5ad-52a21a738594\" xlink:show=\"new\" xlink:title=\"psysml:83dfbdb9-73af-4dff-b5ad-52a21a738594\" xlink:type=\"simple\"><path d=\"M119,493.22 C119,513.81 119,539.16 119,556.95 \" fill=\"none\" id=\"E8&lt;-E6\" style=\"stroke: #A80036; stroke-width: 1.0;\"/><polygon fill=\"#FFFFFF\" points=\"119,480.19,115,486.19,119,492.19,123,486.19,119,480.19\" style=\"stroke: #A80036; stroke-width: 1.0;\"/><text fill=\"#000000\" font-family=\"sans-serif\" font-size=\"13\" lengthAdjust=\"spacingAndGlyphs\" textLength=\"7\" x=\"120\" y=\"523.0669\">y</text></a><!--MD5=[a01fa8f36f4510b2da7a5ffa9d5147cf]\n",
       "@startuml\r\n",
       "skinparam wrapWidth 300\r\n",
       "hide circle\r\n",
       "\r\n",
       "package \"ItemTest\" as E1  [[psysml:ffb2e2dc-9c37-4787-be7c-ae8a88a6d943 ]]  {\r\n",
       "comp usage \"f: A\" as E2  <<(T,blue)item>> [[psysml:cf4d7795-98ee-4d9f-9cbf-a98072608f6d ]] {\r\n",
       "}\r\n",
       "comp def \"A\" as E3  <<(T,blue)item def>> [[psysml:be14fc81-3f83-42fd-a525-71826c91787f ]] {\r\n",
       "- - items - -\r\n",
       "b: B\r\n",
       "}\r\n",
       "comp usage \"c: C\" as E5  <<(T,blue)part>> [[psysml:77af57f1-340c-421d-9a30-1a49108711b3 ]] {\r\n",
       "}\r\n",
       "comp def \"B\" as E6  <<(T,blue)item def>> [[psysml:41f55b44-de87-42d8-a9cd-035ede31bd10 ]] {\r\n",
       "}\r\n",
       "comp usage \"a: A\" as E7  <<(T,blue)part>> [[psysml:4ca48e5a-78fa-40b6-ad88-229f08c03677 ]] {\r\n",
       "}\r\n",
       "comp def \"C\" as E8  <<(T,blue)part def>> [[psysml:e612b3f8-fad7-4b05-bdfc-52877d32f7f2 ]] {\r\n",
       "}\r\n",
       "comp def \"P\" as E9  <<(T,blue)port def>> [[psysml:b51b1cf2-e677-402d-bf05-bb2fae798694 ]] {\r\n",
       "- - items - -\r\n",
       "a1: A\r\n",
       "a2: A\r\n",
       "}\r\n",
       "E2 - -:|> E3 [[psysml:5c778f2f-9d99-44f7-9cbe-495e6850b493 ]] \r\n",
       "E3 o- - E5 [[psysml:77af57f1-340c-421d-9a30-1a49108711b3 ]] \r\n",
       "E7 - -:|> E3 [[psysml:8bb447da-4a21-4000-9a04-f9f9c4ed48f1 ]] \r\n",
       "E6 *- - E7 [[psysml:4ca48e5a-78fa-40b6-ad88-229f08c03677 ]] \r\n",
       "E5 - -:|> E8 [[psysml:6ff88c17-8c2d-42a4-af32-a2455d6f0acf ]] \r\n",
       "E8 o- - E3 [[psysml:83dfbdb9-73af-4dff-b5ad-52a21a738594 ]] : y\r\n",
       "E8 o- - E6 [[psysml:83dfbdb9-73af-4dff-b5ad-52a21a738594 ]] : y\r\n",
       "}\r\n",
       "@enduml\r\n",
       "\n",
       "PlantUML version 1.2020.13(Sat Jun 13 12:26:38 UTC 2020)\n",
       "(EPL source distribution)\n",
       "Java Runtime: OpenJDK Runtime Environment\n",
       "JVM: OpenJDK 64-Bit Server VM\n",
       "Default Encoding: UTF-8\n",
       "Language: en\n",
       "Country: null\n",
       "--></g></svg>"
      ]
     },
     "execution_count": 29,
     "metadata": {},
     "output_type": "execute_result"
    }
   ],
   "source": [
    "%viz --style=\"STDCOLOR\" --view=\"MIXED\" \"ItemTest\""
   ]
  },
  {
   "cell_type": "code",
   "execution_count": 30,
   "id": "junior-franklin",
   "metadata": {
    "execution": {
     "iopub.execute_input": "2021-03-25T15:10:23.590680Z",
     "iopub.status.busy": "2021-03-25T15:10:23.590155Z",
     "iopub.status.idle": "2021-03-25T15:10:23.848247Z",
     "shell.execute_reply": "2021-03-25T15:10:23.846890Z"
    }
   },
   "outputs": [
    {
     "data": {
      "image/svg+xml": [
       "<?xml version=\"1.0\" encoding=\"UTF-8\" standalone=\"no\"?><svg xmlns=\"http://www.w3.org/2000/svg\" xmlns:xlink=\"http://www.w3.org/1999/xlink\" contentScriptType=\"application/ecmascript\" contentStyleType=\"text/css\" height=\"720px\" preserveAspectRatio=\"none\" style=\"width:254px;height:720px;\" version=\"1.1\" viewBox=\"0 0 254 720\" width=\"254px\" zoomAndPan=\"magnify\"><defs><filter height=\"300%\" id=\"f3a5crcpuxhlz\" width=\"300%\" x=\"-1\" y=\"-1\"><feGaussianBlur result=\"blurOut\" stdDeviation=\"2.0\"/><feColorMatrix in=\"blurOut\" result=\"blurOut2\" type=\"matrix\" values=\"0 0 0 0 0 0 0 0 0 0 0 0 0 0 0 0 0 0 .4 0\"/><feOffset dx=\"4.0\" dy=\"4.0\" in=\"blurOut2\" result=\"blurOut3\"/><feBlend in=\"SourceGraphic\" in2=\"blurOut3\" mode=\"normal\"/></filter></defs><g><!--MD5=[fbc87193dbaf4d95561dea2c320d4a47]\n",
       "cluster E1--><a href=\"psysml:ffb2e2dc-9c37-4787-be7c-ae8a88a6d943\" target=\"_top\" title=\"psysml:ffb2e2dc-9c37-4787-be7c-ae8a88a6d943\" xlink:actuate=\"onRequest\" xlink:href=\"psysml:ffb2e2dc-9c37-4787-be7c-ae8a88a6d943\" xlink:show=\"new\" xlink:title=\"psysml:ffb2e2dc-9c37-4787-be7c-ae8a88a6d943\" xlink:type=\"simple\"><polygon fill=\"#FFFFFF\" filter=\"url(#f3a5crcpuxhlz)\" points=\"16,6,91,6,98,28.2969,232,28.2969,232,708,16,708,16,6\" style=\"stroke: #000000; stroke-width: 1.5;\"/><line style=\"stroke: #000000; stroke-width: 1.5;\" x1=\"16\" x2=\"98\" y1=\"28.2969\" y2=\"28.2969\"/><text fill=\"#000000\" font-family=\"sans-serif\" font-size=\"14\" font-weight=\"bold\" lengthAdjust=\"spacingAndGlyphs\" textLength=\"69\" x=\"20\" y=\"20.9951\">ItemTest</text></a><!--MD5=[b4997ac47864f28c2f74865a473b2911]\n",
       "class E2--><a href=\"psysml:cf4d7795-98ee-4d9f-9cbf-a98072608f6d\" target=\"_top\" title=\"psysml:cf4d7795-98ee-4d9f-9cbf-a98072608f6d\" xlink:actuate=\"onRequest\" xlink:href=\"psysml:cf4d7795-98ee-4d9f-9cbf-a98072608f6d\" xlink:show=\"new\" xlink:title=\"psysml:cf4d7795-98ee-4d9f-9cbf-a98072608f6d\" xlink:type=\"simple\"><rect fill=\"#FEFECE\" filter=\"url(#f3a5crcpuxhlz)\" height=\"40\" id=\"E2\" rx=\"10\" ry=\"10\" style=\"stroke: #A80036; stroke-width: 1.5;\" width=\"52\" x=\"159\" y=\"65\"/><ellipse cx=\"174\" cy=\"81\" fill=\"#32CD32\" rx=\"11\" ry=\"11\" style=\"stroke: #A80036; stroke-width: 1.0;\"/><path d=\"M173.7969,76.6719 L173.7969,80.2969 L174.7969,80.2969 Q176,80.2969 176.4844,79.8906 Q176.9688,79.4844 176.9688,78.4844 Q176.9688,77.4844 176.4844,77.0781 Q176,76.6719 174.7969,76.6719 L173.7969,76.6719 Z M171.3438,74.6094 L174.7031,74.6094 Q177.2656,74.6094 178.3906,75.5313 Q179.5156,76.4375 179.5156,78.4844 Q179.5156,80.5313 178.3906,81.4531 Q177.2656,82.3594 174.7031,82.3594 L173.7969,82.3594 L173.7969,87 L171.3438,87 L171.3438,74.6094 Z \"/><text fill=\"#000000\" font-family=\"sans-serif\" font-size=\"12\" lengthAdjust=\"spacingAndGlyphs\" textLength=\"20\" x=\"188\" y=\"85.1543\">f: A</text><line style=\"stroke: #A80036; stroke-width: 1.5;\" x1=\"160\" x2=\"210\" y1=\"97\" y2=\"97\"/></a><!--MD5=[09b614a08d8cba4a07c9adeb5e0fee81]\n",
       "class E3--><a href=\"psysml:be14fc81-3f83-42fd-a525-71826c91787f\" target=\"_top\" title=\"psysml:be14fc81-3f83-42fd-a525-71826c91787f\" xlink:actuate=\"onRequest\" xlink:href=\"psysml:be14fc81-3f83-42fd-a525-71826c91787f\" xlink:show=\"new\" xlink:title=\"psysml:be14fc81-3f83-42fd-a525-71826c91787f\" xlink:type=\"simple\"><rect fill=\"#FEFECE\" filter=\"url(#f3a5crcpuxhlz)\" height=\"69.6094\" id=\"E3\" style=\"stroke: #A80036; stroke-width: 1.5;\" width=\"40\" x=\"154\" y=\"190\"/><ellipse cx=\"169\" cy=\"206\" fill=\"#008000\" rx=\"11\" ry=\"11\" style=\"stroke: #A80036; stroke-width: 1.0;\"/><path d=\"M167.9063,206.375 L167.9063,210.0469 L169.5313,210.0469 Q170.7031,210.0469 171.1719,209.6563 Q171.6406,209.25 171.6406,208.25 Q171.6406,207.25 171.1406,206.8125 Q170.6563,206.375 169.5313,206.375 L167.9063,206.375 Z M167.9063,201.5469 L167.9063,204.4219 L169.5313,204.4219 Q170.4531,204.4219 170.8438,204.0938 Q171.25,203.75 171.25,203 Q171.25,202.2344 170.8438,201.8906 Q170.4375,201.5469 169.5313,201.5469 L167.9063,201.5469 Z M165.5313,199.5938 L169.5313,199.5938 Q171.5938,199.5938 172.6406,200.375 Q173.6875,201.1563 173.6875,202.7188 Q173.6875,203.9219 173.0625,204.5938 Q172.4531,205.2656 171.2656,205.375 Q172.6875,205.5156 173.4063,206.3281 Q174.125,207.1406 174.125,208.5938 Q174.125,210.3906 173.0469,211.2031 Q171.9688,212 169.5313,212 L165.5313,212 L165.5313,199.5938 Z \"/><text fill=\"#000000\" font-family=\"sans-serif\" font-size=\"12\" lengthAdjust=\"spacingAndGlyphs\" textLength=\"8\" x=\"183\" y=\"210.1543\">A</text><line style=\"stroke: #A80036; stroke-width: 1.5;\" x1=\"155\" x2=\"193\" y1=\"222\" y2=\"222\"/><text fill=\"#000000\" font-family=\"sans-serif\" font-size=\"11\" lengthAdjust=\"spacingAndGlyphs\" textLength=\"23\" x=\"160\" y=\"253.0151\">b: B</text><line style=\"stroke: #A80036; stroke-width: 1.0;\" x1=\"155\" x2=\"158\" y1=\"236.4023\" y2=\"236.4023\"/><text fill=\"#000000\" font-family=\"sans-serif\" font-size=\"11\" lengthAdjust=\"spacingAndGlyphs\" textLength=\"32\" x=\"158\" y=\"239.7104\">items</text><line style=\"stroke: #A80036; stroke-width: 1.0;\" x1=\"190\" x2=\"193\" y1=\"236.4023\" y2=\"236.4023\"/></a><!--MD5=[270fce915f116d4de14055a7c1d9a0f3]\n",
       "class E5--><a href=\"psysml:77af57f1-340c-421d-9a30-1a49108711b3\" target=\"_top\" title=\"psysml:77af57f1-340c-421d-9a30-1a49108711b3\" xlink:actuate=\"onRequest\" xlink:href=\"psysml:77af57f1-340c-421d-9a30-1a49108711b3\" xlink:show=\"new\" xlink:title=\"psysml:77af57f1-340c-421d-9a30-1a49108711b3\" xlink:type=\"simple\"><rect fill=\"#FEFECE\" filter=\"url(#f3a5crcpuxhlz)\" height=\"45.9375\" id=\"E5\" rx=\"10\" ry=\"10\" style=\"stroke: #A80036; stroke-width: 1.5;\" width=\"68\" x=\"32\" y=\"321\"/><ellipse cx=\"47\" cy=\"339.9688\" fill=\"#32CD32\" rx=\"11\" ry=\"11\" style=\"stroke: #A80036; stroke-width: 1.0;\"/><path d=\"M46.7969,335.6406 L46.7969,339.2656 L47.7969,339.2656 Q49,339.2656 49.4844,338.8594 Q49.9688,338.4531 49.9688,337.4531 Q49.9688,336.4531 49.4844,336.0469 Q49,335.6406 47.7969,335.6406 L46.7969,335.6406 Z M44.3438,333.5781 L47.7031,333.5781 Q50.2656,333.5781 51.3906,334.5 Q52.5156,335.4063 52.5156,337.4531 Q52.5156,339.5 51.3906,340.4219 Q50.2656,341.3281 47.7031,341.3281 L46.7969,341.3281 L46.7969,345.9688 L44.3438,345.9688 L44.3438,333.5781 Z \"/><text fill=\"#000000\" font-family=\"sans-serif\" font-size=\"12\" font-style=\"italic\" lengthAdjust=\"spacingAndGlyphs\" textLength=\"40\" x=\"59\" y=\"337.1387\">«part»</text><text fill=\"#000000\" font-family=\"sans-serif\" font-size=\"12\" lengthAdjust=\"spacingAndGlyphs\" textLength=\"23\" x=\"67.5\" y=\"351.1074\">c: C</text><line style=\"stroke: #A80036; stroke-width: 1.5;\" x1=\"33\" x2=\"99\" y1=\"358.9375\" y2=\"358.9375\"/></a><!--MD5=[60a26617385b1d2d0262a64233df1f8d]\n",
       "class E6--><a href=\"psysml:41f55b44-de87-42d8-a9cd-035ede31bd10\" target=\"_top\" title=\"psysml:41f55b44-de87-42d8-a9cd-035ede31bd10\" xlink:actuate=\"onRequest\" xlink:href=\"psysml:41f55b44-de87-42d8-a9cd-035ede31bd10\" xlink:show=\"new\" xlink:title=\"psysml:41f55b44-de87-42d8-a9cd-035ede31bd10\" xlink:type=\"simple\"><rect fill=\"#FEFECE\" filter=\"url(#f3a5crcpuxhlz)\" height=\"40\" id=\"E6\" style=\"stroke: #A80036; stroke-width: 1.5;\" width=\"40\" x=\"139\" y=\"545\"/><ellipse cx=\"154\" cy=\"561\" fill=\"#008000\" rx=\"11\" ry=\"11\" style=\"stroke: #A80036; stroke-width: 1.0;\"/><path d=\"M152.9063,561.375 L152.9063,565.0469 L154.5313,565.0469 Q155.7031,565.0469 156.1719,564.6563 Q156.6406,564.25 156.6406,563.25 Q156.6406,562.25 156.1406,561.8125 Q155.6563,561.375 154.5313,561.375 L152.9063,561.375 Z M152.9063,556.5469 L152.9063,559.4219 L154.5313,559.4219 Q155.4531,559.4219 155.8438,559.0938 Q156.25,558.75 156.25,558 Q156.25,557.2344 155.8438,556.8906 Q155.4375,556.5469 154.5313,556.5469 L152.9063,556.5469 Z M150.5313,554.5938 L154.5313,554.5938 Q156.5938,554.5938 157.6406,555.375 Q158.6875,556.1563 158.6875,557.7188 Q158.6875,558.9219 158.0625,559.5938 Q157.4531,560.2656 156.2656,560.375 Q157.6875,560.5156 158.4063,561.3281 Q159.125,562.1406 159.125,563.5938 Q159.125,565.3906 158.0469,566.2031 Q156.9688,567 154.5313,567 L150.5313,567 L150.5313,554.5938 Z \"/><text fill=\"#000000\" font-family=\"sans-serif\" font-size=\"12\" lengthAdjust=\"spacingAndGlyphs\" textLength=\"8\" x=\"168\" y=\"565.1543\">B</text><line style=\"stroke: #A80036; stroke-width: 1.5;\" x1=\"140\" x2=\"178\" y1=\"577\" y2=\"577\"/></a><!--MD5=[2156ba9850f5573cc1fc38a6a4b2f02b]\n",
       "class E7--><a href=\"psysml:4ca48e5a-78fa-40b6-ad88-229f08c03677\" target=\"_top\" title=\"psysml:4ca48e5a-78fa-40b6-ad88-229f08c03677\" xlink:actuate=\"onRequest\" xlink:href=\"psysml:4ca48e5a-78fa-40b6-ad88-229f08c03677\" xlink:show=\"new\" xlink:title=\"psysml:4ca48e5a-78fa-40b6-ad88-229f08c03677\" xlink:type=\"simple\"><rect fill=\"#FEFECE\" filter=\"url(#f3a5crcpuxhlz)\" height=\"45.9375\" id=\"E7\" rx=\"10\" ry=\"10\" style=\"stroke: #A80036; stroke-width: 1.5;\" width=\"68\" x=\"137\" y=\"646\"/><ellipse cx=\"152\" cy=\"664.9688\" fill=\"#32CD32\" rx=\"11\" ry=\"11\" style=\"stroke: #A80036; stroke-width: 1.0;\"/><path d=\"M151.7969,660.6406 L151.7969,664.2656 L152.7969,664.2656 Q154,664.2656 154.4844,663.8594 Q154.9688,663.4531 154.9688,662.4531 Q154.9688,661.4531 154.4844,661.0469 Q154,660.6406 152.7969,660.6406 L151.7969,660.6406 Z M149.3438,658.5781 L152.7031,658.5781 Q155.2656,658.5781 156.3906,659.5 Q157.5156,660.4063 157.5156,662.4531 Q157.5156,664.5 156.3906,665.4219 Q155.2656,666.3281 152.7031,666.3281 L151.7969,666.3281 L151.7969,670.9688 L149.3438,670.9688 L149.3438,658.5781 Z \"/><text fill=\"#000000\" font-family=\"sans-serif\" font-size=\"12\" font-style=\"italic\" lengthAdjust=\"spacingAndGlyphs\" textLength=\"40\" x=\"164\" y=\"662.1387\">«part»</text><text fill=\"#000000\" font-family=\"sans-serif\" font-size=\"12\" lengthAdjust=\"spacingAndGlyphs\" textLength=\"24\" x=\"172\" y=\"676.1074\">a: A</text><line style=\"stroke: #A80036; stroke-width: 1.5;\" x1=\"138\" x2=\"204\" y1=\"683.9375\" y2=\"683.9375\"/></a><!--MD5=[b9389687b975829384b498ac4b7476b2]\n",
       "class E8--><a href=\"psysml:e612b3f8-fad7-4b05-bdfc-52877d32f7f2\" target=\"_top\" title=\"psysml:e612b3f8-fad7-4b05-bdfc-52877d32f7f2\" xlink:actuate=\"onRequest\" xlink:href=\"psysml:e612b3f8-fad7-4b05-bdfc-52877d32f7f2\" xlink:show=\"new\" xlink:title=\"psysml:e612b3f8-fad7-4b05-bdfc-52877d32f7f2\" xlink:type=\"simple\"><rect fill=\"#FEFECE\" filter=\"url(#f3a5crcpuxhlz)\" height=\"40\" id=\"E8\" style=\"stroke: #A80036; stroke-width: 1.5;\" width=\"40\" x=\"139\" y=\"428\"/><ellipse cx=\"154\" cy=\"444\" fill=\"#008000\" rx=\"11\" ry=\"11\" style=\"stroke: #A80036; stroke-width: 1.0;\"/><path d=\"M152.9063,444.375 L152.9063,448.0469 L154.5313,448.0469 Q155.7031,448.0469 156.1719,447.6563 Q156.6406,447.25 156.6406,446.25 Q156.6406,445.25 156.1406,444.8125 Q155.6563,444.375 154.5313,444.375 L152.9063,444.375 Z M152.9063,439.5469 L152.9063,442.4219 L154.5313,442.4219 Q155.4531,442.4219 155.8438,442.0938 Q156.25,441.75 156.25,441 Q156.25,440.2344 155.8438,439.8906 Q155.4375,439.5469 154.5313,439.5469 L152.9063,439.5469 Z M150.5313,437.5938 L154.5313,437.5938 Q156.5938,437.5938 157.6406,438.375 Q158.6875,439.1563 158.6875,440.7188 Q158.6875,441.9219 158.0625,442.5938 Q157.4531,443.2656 156.2656,443.375 Q157.6875,443.5156 158.4063,444.3281 Q159.125,445.1406 159.125,446.5938 Q159.125,448.3906 158.0469,449.2031 Q156.9688,450 154.5313,450 L150.5313,450 L150.5313,437.5938 Z \"/><text fill=\"#000000\" font-family=\"sans-serif\" font-size=\"12\" lengthAdjust=\"spacingAndGlyphs\" textLength=\"8\" x=\"168\" y=\"448.1543\">C</text><line style=\"stroke: #A80036; stroke-width: 1.5;\" x1=\"140\" x2=\"178\" y1=\"460\" y2=\"460\"/></a><!--MD5=[fd4143e9d270a159db93a4ea2a975926]\n",
       "class E9--><a href=\"psysml:b51b1cf2-e677-402d-bf05-bb2fae798694\" target=\"_top\" title=\"psysml:b51b1cf2-e677-402d-bf05-bb2fae798694\" xlink:actuate=\"onRequest\" xlink:href=\"psysml:b51b1cf2-e677-402d-bf05-bb2fae798694\" xlink:show=\"new\" xlink:title=\"psysml:b51b1cf2-e677-402d-bf05-bb2fae798694\" xlink:type=\"simple\"><rect fill=\"#FEFECE\" filter=\"url(#f3a5crcpuxhlz)\" height=\"88.3516\" id=\"E9\" style=\"stroke: #A80036; stroke-width: 1.5;\" width=\"92\" x=\"32\" y=\"41\"/><ellipse cx=\"47\" cy=\"59.9688\" fill=\"#A52A2A\" rx=\"11\" ry=\"11\" style=\"stroke: #A80036; stroke-width: 1.0;\"/><path d=\"M46.5938,55.7813 L46.5938,63.7656 L47.25,63.7656 Q48.6875,63.7656 49.2969,62.8594 Q49.9219,61.9375 49.9219,59.7656 Q49.9219,57.5938 49.2969,56.6875 Q48.6875,55.7813 47.25,55.7813 L46.5938,55.7813 Z M44.1406,53.5781 L46.7656,53.5781 Q49.7969,53.5781 51.125,55.0313 Q52.4688,56.4688 52.4688,59.7656 Q52.4688,63.0625 51.125,64.5156 Q49.7969,65.9688 46.7656,65.9688 L44.1406,65.9688 L44.1406,53.5781 Z \"/><text fill=\"#000000\" font-family=\"sans-serif\" font-size=\"12\" font-style=\"italic\" lengthAdjust=\"spacingAndGlyphs\" textLength=\"64\" x=\"59\" y=\"57.1387\">«port def»</text><text fill=\"#000000\" font-family=\"sans-serif\" font-size=\"12\" lengthAdjust=\"spacingAndGlyphs\" textLength=\"8\" x=\"87\" y=\"71.1074\">P</text><line style=\"stroke: #A80036; stroke-width: 1.5;\" x1=\"33\" x2=\"123\" y1=\"78.9375\" y2=\"78.9375\"/><text fill=\"#000000\" font-family=\"sans-serif\" font-size=\"11\" lengthAdjust=\"spacingAndGlyphs\" textLength=\"29\" x=\"38\" y=\"109.9526\">a1: A</text><text fill=\"#000000\" font-family=\"sans-serif\" font-size=\"11\" lengthAdjust=\"spacingAndGlyphs\" textLength=\"29\" x=\"38\" y=\"122.7573\">a2: A</text><line style=\"stroke: #A80036; stroke-width: 1.0;\" x1=\"33\" x2=\"62\" y1=\"93.3398\" y2=\"93.3398\"/><text fill=\"#000000\" font-family=\"sans-serif\" font-size=\"11\" lengthAdjust=\"spacingAndGlyphs\" textLength=\"32\" x=\"62\" y=\"96.6479\">items</text><line style=\"stroke: #A80036; stroke-width: 1.0;\" x1=\"94\" x2=\"123\" y1=\"93.3398\" y2=\"93.3398\"/></a><!--MD5=[2720a5a1f2c3fca2055b230370638851]\n",
       "link E2 to E3--><a href=\"psysml:5c778f2f-9d99-44f7-9cbe-495e6850b493\" target=\"_top\" title=\"psysml:5c778f2f-9d99-44f7-9cbe-495e6850b493\" xlink:actuate=\"onRequest\" xlink:href=\"psysml:5c778f2f-9d99-44f7-9cbe-495e6850b493\" xlink:show=\"new\" xlink:title=\"psysml:5c778f2f-9d99-44f7-9cbe-495e6850b493\" xlink:type=\"simple\"><path d=\"M183.47,105.19 C182.14,121.92 180.14,147.01 178.32,169.82 \" fill=\"none\" id=\"E2-&gt;E3\" style=\"stroke: #A80036; stroke-width: 1.0;\"/><polygon fill=\"#FFFFFF\" points=\"176.72,189.84,171.2619,170.341,185.2171,171.4607,176.72,189.84\" style=\"stroke: #A80036; stroke-width: 1.0;\"/><ellipse cx=\"173.7113\" cy=\"164.8193\" fill=\"#A80036\" rx=\"2\" ry=\"2\" style=\"stroke: #A80036; stroke-width: 1.0;\"/><ellipse cx=\"183.6793\" cy=\"165.619\" fill=\"#A80036\" rx=\"2\" ry=\"2\" style=\"stroke: #A80036; stroke-width: 1.0;\"/></a><!--MD5=[191cde3d490a3f6d7bb551fe3ddca469]\n",
       "reverse link E3 to E5--><a href=\"psysml:77af57f1-340c-421d-9a30-1a49108711b3\" target=\"_top\" title=\"psysml:77af57f1-340c-421d-9a30-1a49108711b3\" xlink:actuate=\"onRequest\" xlink:href=\"psysml:77af57f1-340c-421d-9a30-1a49108711b3\" xlink:show=\"new\" xlink:title=\"psysml:77af57f1-340c-421d-9a30-1a49108711b3\" xlink:type=\"simple\"><path d=\"M145.03,257.38 C126.49,277.47 102.88,303.04 86.32,320.99 \" fill=\"none\" id=\"E3&lt;-E5\" style=\"stroke: #A80036; stroke-width: 1.0;\"/><polygon fill=\"#FFFFFF\" points=\"153.94,247.73,146.9306,249.4235,145.7979,256.5451,152.8073,254.8516,153.94,247.73\" style=\"stroke: #A80036; stroke-width: 1.0;\"/></a><!--MD5=[14ccda38c055a5c0da953d572bc50960]\n",
       "link E7 to E3--><a href=\"psysml:8bb447da-4a21-4000-9a04-f9f9c4ed48f1\" target=\"_top\" title=\"psysml:8bb447da-4a21-4000-9a04-f9f9c4ed48f1\" xlink:actuate=\"onRequest\" xlink:href=\"psysml:8bb447da-4a21-4000-9a04-f9f9c4ed48f1\" xlink:show=\"new\" xlink:title=\"psysml:8bb447da-4a21-4000-9a04-f9f9c4ed48f1\" xlink:type=\"simple\"><path d=\"M186.89,645.69 C199.49,625.78 215,595.31 215,566 C215,343 215,343 215,343 C215,321.21 208.59,298.35 200.83,278.68 \" fill=\"none\" id=\"E7-&gt;E3\" style=\"stroke: #A80036; stroke-width: 1.0;\"/><polygon fill=\"#FFFFFF\" points=\"192.82,260.23,206.8032,274.8748,193.9596,280.4464,192.82,260.23\" style=\"stroke: #A80036; stroke-width: 1.0;\"/><ellipse cx=\"207.2368\" cy=\"280.8999\" fill=\"#A80036\" rx=\"2\" ry=\"2\" style=\"stroke: #A80036; stroke-width: 1.0;\"/><ellipse cx=\"198.0628\" cy=\"284.8796\" fill=\"#A80036\" rx=\"2\" ry=\"2\" style=\"stroke: #A80036; stroke-width: 1.0;\"/></a><!--MD5=[3f50a3473f1dfb74d3f76443e03635af]\n",
       "reverse link E6 to E7--><a href=\"psysml:4ca48e5a-78fa-40b6-ad88-229f08c03677\" target=\"_top\" title=\"psysml:4ca48e5a-78fa-40b6-ad88-229f08c03677\" xlink:actuate=\"onRequest\" xlink:href=\"psysml:4ca48e5a-78fa-40b6-ad88-229f08c03677\" xlink:show=\"new\" xlink:title=\"psysml:4ca48e5a-78fa-40b6-ad88-229f08c03677\" xlink:type=\"simple\"><path d=\"M162.81,598.41 C164.63,613.82 166.75,631.86 168.38,645.7 \" fill=\"none\" id=\"E6&lt;-E7\" style=\"stroke: #A80036; stroke-width: 1.0;\"/><polygon fill=\"#A80036\" points=\"161.26,585.19,157.9938,591.619,162.672,597.1066,165.9382,590.6776,161.26,585.19\" style=\"stroke: #A80036; stroke-width: 1.0;\"/></a><!--MD5=[dfaffb906826c3e5aca635516100ff21]\n",
       "link E5 to E8--><a href=\"psysml:6ff88c17-8c2d-42a4-af32-a2455d6f0acf\" target=\"_top\" title=\"psysml:6ff88c17-8c2d-42a4-af32-a2455d6f0acf\" xlink:actuate=\"onRequest\" xlink:href=\"psysml:6ff88c17-8c2d-42a4-af32-a2455d6f0acf\" xlink:show=\"new\" xlink:title=\"psysml:6ff88c17-8c2d-42a4-af32-a2455d6f0acf\" xlink:type=\"simple\"><path d=\"M86.18,367.13 C98.34,380.47 114.08,397.74 127.82,412.8 \" fill=\"none\" id=\"E5-&gt;E8\" style=\"stroke: #A80036; stroke-width: 1.0;\"/><polygon fill=\"#FFFFFF\" points=\"141.67,428,123.6993,418.6697,134.0481,409.2408,141.67,428\" style=\"stroke: #A80036; stroke-width: 1.0;\"/><ellipse cx=\"121.3388\" cy=\"413.1093\" fill=\"#A80036\" rx=\"2\" ry=\"2\" style=\"stroke: #A80036; stroke-width: 1.0;\"/><ellipse cx=\"128.7308\" cy=\"406.3744\" fill=\"#A80036\" rx=\"2\" ry=\"2\" style=\"stroke: #A80036; stroke-width: 1.0;\"/></a><!--MD5=[03c8294790d3c57651a1993cecff665f]\n",
       "reverse link E8 to E3--><a href=\"psysml:83dfbdb9-73af-4dff-b5ad-52a21a738594\" target=\"_top\" title=\"psysml:83dfbdb9-73af-4dff-b5ad-52a21a738594\" xlink:actuate=\"onRequest\" xlink:href=\"psysml:83dfbdb9-73af-4dff-b5ad-52a21a738594\" xlink:show=\"new\" xlink:title=\"psysml:83dfbdb9-73af-4dff-b5ad-52a21a738594\" xlink:type=\"simple\"><path d=\"M161.17,414.97 C163.97,373.71 168.82,302.27 171.69,260.05 \" fill=\"none\" id=\"E8&lt;-E3\" style=\"stroke: #A80036; stroke-width: 1.0;\"/><polygon fill=\"#FFFFFF\" points=\"160.29,427.97,164.6894,422.2564,161.1075,415.9979,156.708,421.7114,160.29,427.97\" style=\"stroke: #A80036; stroke-width: 1.0;\"/><text fill=\"#000000\" font-family=\"sans-serif\" font-size=\"13\" lengthAdjust=\"spacingAndGlyphs\" textLength=\"7\" x=\"168\" y=\"348.5669\">y</text></a><!--MD5=[0d75d2178373a6a4568e5dc728f58aef]\n",
       "reverse link E8 to E6--><a href=\"psysml:83dfbdb9-73af-4dff-b5ad-52a21a738594\" target=\"_top\" title=\"psysml:83dfbdb9-73af-4dff-b5ad-52a21a738594\" xlink:actuate=\"onRequest\" xlink:href=\"psysml:83dfbdb9-73af-4dff-b5ad-52a21a738594\" xlink:show=\"new\" xlink:title=\"psysml:83dfbdb9-73af-4dff-b5ad-52a21a738594\" xlink:type=\"simple\"><path d=\"M159,481.36 C159,501.76 159,527.42 159,544.69 \" fill=\"none\" id=\"E8&lt;-E6\" style=\"stroke: #A80036; stroke-width: 1.0;\"/><polygon fill=\"#FFFFFF\" points=\"159,468.25,155,474.25,159,480.25,163,474.25,159,468.25\" style=\"stroke: #A80036; stroke-width: 1.0;\"/><text fill=\"#000000\" font-family=\"sans-serif\" font-size=\"13\" lengthAdjust=\"spacingAndGlyphs\" textLength=\"7\" x=\"160\" y=\"511.0669\">y</text></a><!--MD5=[d8820d5aacd6da8c975b616eb20960fe]\n",
       "@startuml\r\n",
       " \r\n",
       "package \"ItemTest\" as E1  [[psysml:ffb2e2dc-9c37-4787-be7c-ae8a88a6d943 ]]  {\r\n",
       "comp usage \"f: A\" as E2  << (P,limegreen) >> [[psysml:cf4d7795-98ee-4d9f-9cbf-a98072608f6d ]] {\r\n",
       "}\r\n",
       "comp def \"A\" as E3  << (B,green) >> [[psysml:be14fc81-3f83-42fd-a525-71826c91787f ]] {\r\n",
       "- - items - -\r\n",
       "b: B\r\n",
       "}\r\n",
       "comp usage \"c: C\" as E5  << (P,limegreen) part>> [[psysml:77af57f1-340c-421d-9a30-1a49108711b3 ]] {\r\n",
       "}\r\n",
       "comp def \"B\" as E6  << (B,green) >> [[psysml:41f55b44-de87-42d8-a9cd-035ede31bd10 ]] {\r\n",
       "}\r\n",
       "comp usage \"a: A\" as E7  << (P,limegreen) part>> [[psysml:4ca48e5a-78fa-40b6-ad88-229f08c03677 ]] {\r\n",
       "}\r\n",
       "comp def \"C\" as E8  << (B,green) >> [[psysml:e612b3f8-fad7-4b05-bdfc-52877d32f7f2 ]] {\r\n",
       "}\r\n",
       "comp def \"P\" as E9  <<(D,brown)port def>> [[psysml:b51b1cf2-e677-402d-bf05-bb2fae798694 ]] {\r\n",
       "- - items - -\r\n",
       "a1: A\r\n",
       "a2: A\r\n",
       "}\r\n",
       "E2 - -:|> E3 [[psysml:5c778f2f-9d99-44f7-9cbe-495e6850b493 ]] \r\n",
       "E3 o- - E5 [[psysml:77af57f1-340c-421d-9a30-1a49108711b3 ]] \r\n",
       "E7 - -:|> E3 [[psysml:8bb447da-4a21-4000-9a04-f9f9c4ed48f1 ]] \r\n",
       "E6 *- - E7 [[psysml:4ca48e5a-78fa-40b6-ad88-229f08c03677 ]] \r\n",
       "E5 - -:|> E8 [[psysml:6ff88c17-8c2d-42a4-af32-a2455d6f0acf ]] \r\n",
       "E8 o- - E3 [[psysml:83dfbdb9-73af-4dff-b5ad-52a21a738594 ]] : y\r\n",
       "E8 o- - E6 [[psysml:83dfbdb9-73af-4dff-b5ad-52a21a738594 ]] : y\r\n",
       "}\r\n",
       "@enduml\r\n",
       "\n",
       "PlantUML version 1.2020.13(Sat Jun 13 12:26:38 UTC 2020)\n",
       "(EPL source distribution)\n",
       "Java Runtime: OpenJDK Runtime Environment\n",
       "JVM: OpenJDK 64-Bit Server VM\n",
       "Default Encoding: UTF-8\n",
       "Language: en\n",
       "Country: null\n",
       "--></g></svg>"
      ]
     },
     "execution_count": 30,
     "metadata": {},
     "output_type": "execute_result"
    }
   ],
   "source": [
    "%viz --style=\"PLANTUML\" --view=\"Default\" \"ItemTest\""
   ]
  },
  {
   "cell_type": "code",
   "execution_count": 31,
   "id": "confused-fancy",
   "metadata": {
    "execution": {
     "iopub.execute_input": "2021-03-25T15:10:23.899300Z",
     "iopub.status.busy": "2021-03-25T15:10:23.898665Z",
     "iopub.status.idle": "2021-03-25T15:10:24.151578Z",
     "shell.execute_reply": "2021-03-25T15:10:24.150149Z"
    }
   },
   "outputs": [
    {
     "data": {
      "image/svg+xml": [
       "<?xml version=\"1.0\" encoding=\"UTF-8\" standalone=\"no\"?><svg xmlns=\"http://www.w3.org/2000/svg\" xmlns:xlink=\"http://www.w3.org/1999/xlink\" contentScriptType=\"application/ecmascript\" contentStyleType=\"text/css\" height=\"720px\" preserveAspectRatio=\"none\" style=\"width:254px;height:720px;\" version=\"1.1\" viewBox=\"0 0 254 720\" width=\"254px\" zoomAndPan=\"magnify\"><defs><filter height=\"300%\" id=\"f3a5crcpuxhlz\" width=\"300%\" x=\"-1\" y=\"-1\"><feGaussianBlur result=\"blurOut\" stdDeviation=\"2.0\"/><feColorMatrix in=\"blurOut\" result=\"blurOut2\" type=\"matrix\" values=\"0 0 0 0 0 0 0 0 0 0 0 0 0 0 0 0 0 0 .4 0\"/><feOffset dx=\"4.0\" dy=\"4.0\" in=\"blurOut2\" result=\"blurOut3\"/><feBlend in=\"SourceGraphic\" in2=\"blurOut3\" mode=\"normal\"/></filter></defs><g><!--MD5=[fbc87193dbaf4d95561dea2c320d4a47]\n",
       "cluster E1--><a href=\"psysml:ffb2e2dc-9c37-4787-be7c-ae8a88a6d943\" target=\"_top\" title=\"psysml:ffb2e2dc-9c37-4787-be7c-ae8a88a6d943\" xlink:actuate=\"onRequest\" xlink:href=\"psysml:ffb2e2dc-9c37-4787-be7c-ae8a88a6d943\" xlink:show=\"new\" xlink:title=\"psysml:ffb2e2dc-9c37-4787-be7c-ae8a88a6d943\" xlink:type=\"simple\"><polygon fill=\"#FFFFFF\" filter=\"url(#f3a5crcpuxhlz)\" points=\"16,6,91,6,98,28.2969,232,28.2969,232,708,16,708,16,6\" style=\"stroke: #000000; stroke-width: 1.5;\"/><line style=\"stroke: #000000; stroke-width: 1.5;\" x1=\"16\" x2=\"98\" y1=\"28.2969\" y2=\"28.2969\"/><text fill=\"#000000\" font-family=\"sans-serif\" font-size=\"14\" font-weight=\"bold\" lengthAdjust=\"spacingAndGlyphs\" textLength=\"69\" x=\"20\" y=\"20.9951\">ItemTest</text></a><!--MD5=[b4997ac47864f28c2f74865a473b2911]\n",
       "class E2--><a href=\"psysml:cf4d7795-98ee-4d9f-9cbf-a98072608f6d\" target=\"_top\" title=\"psysml:cf4d7795-98ee-4d9f-9cbf-a98072608f6d\" xlink:actuate=\"onRequest\" xlink:href=\"psysml:cf4d7795-98ee-4d9f-9cbf-a98072608f6d\" xlink:show=\"new\" xlink:title=\"psysml:cf4d7795-98ee-4d9f-9cbf-a98072608f6d\" xlink:type=\"simple\"><rect fill=\"#FEFECE\" filter=\"url(#f3a5crcpuxhlz)\" height=\"40\" id=\"E2\" rx=\"10\" ry=\"10\" style=\"stroke: #A80036; stroke-width: 1.5;\" width=\"52\" x=\"159\" y=\"65\"/><ellipse cx=\"174\" cy=\"81\" fill=\"#32CD32\" rx=\"11\" ry=\"11\" style=\"stroke: #A80036; stroke-width: 1.0;\"/><path d=\"M173.7969,76.6719 L173.7969,80.2969 L174.7969,80.2969 Q176,80.2969 176.4844,79.8906 Q176.9688,79.4844 176.9688,78.4844 Q176.9688,77.4844 176.4844,77.0781 Q176,76.6719 174.7969,76.6719 L173.7969,76.6719 Z M171.3438,74.6094 L174.7031,74.6094 Q177.2656,74.6094 178.3906,75.5313 Q179.5156,76.4375 179.5156,78.4844 Q179.5156,80.5313 178.3906,81.4531 Q177.2656,82.3594 174.7031,82.3594 L173.7969,82.3594 L173.7969,87 L171.3438,87 L171.3438,74.6094 Z \"/><text fill=\"#000000\" font-family=\"sans-serif\" font-size=\"12\" lengthAdjust=\"spacingAndGlyphs\" textLength=\"20\" x=\"188\" y=\"85.1543\">f: A</text><line style=\"stroke: #A80036; stroke-width: 1.5;\" x1=\"160\" x2=\"210\" y1=\"97\" y2=\"97\"/></a><!--MD5=[09b614a08d8cba4a07c9adeb5e0fee81]\n",
       "class E3--><a href=\"psysml:be14fc81-3f83-42fd-a525-71826c91787f\" target=\"_top\" title=\"psysml:be14fc81-3f83-42fd-a525-71826c91787f\" xlink:actuate=\"onRequest\" xlink:href=\"psysml:be14fc81-3f83-42fd-a525-71826c91787f\" xlink:show=\"new\" xlink:title=\"psysml:be14fc81-3f83-42fd-a525-71826c91787f\" xlink:type=\"simple\"><rect fill=\"#FEFECE\" filter=\"url(#f3a5crcpuxhlz)\" height=\"69.6094\" id=\"E3\" style=\"stroke: #A80036; stroke-width: 1.5;\" width=\"40\" x=\"154\" y=\"190\"/><ellipse cx=\"169\" cy=\"206\" fill=\"#008000\" rx=\"11\" ry=\"11\" style=\"stroke: #A80036; stroke-width: 1.0;\"/><path d=\"M167.9063,206.375 L167.9063,210.0469 L169.5313,210.0469 Q170.7031,210.0469 171.1719,209.6563 Q171.6406,209.25 171.6406,208.25 Q171.6406,207.25 171.1406,206.8125 Q170.6563,206.375 169.5313,206.375 L167.9063,206.375 Z M167.9063,201.5469 L167.9063,204.4219 L169.5313,204.4219 Q170.4531,204.4219 170.8438,204.0938 Q171.25,203.75 171.25,203 Q171.25,202.2344 170.8438,201.8906 Q170.4375,201.5469 169.5313,201.5469 L167.9063,201.5469 Z M165.5313,199.5938 L169.5313,199.5938 Q171.5938,199.5938 172.6406,200.375 Q173.6875,201.1563 173.6875,202.7188 Q173.6875,203.9219 173.0625,204.5938 Q172.4531,205.2656 171.2656,205.375 Q172.6875,205.5156 173.4063,206.3281 Q174.125,207.1406 174.125,208.5938 Q174.125,210.3906 173.0469,211.2031 Q171.9688,212 169.5313,212 L165.5313,212 L165.5313,199.5938 Z \"/><text fill=\"#000000\" font-family=\"sans-serif\" font-size=\"12\" lengthAdjust=\"spacingAndGlyphs\" textLength=\"8\" x=\"183\" y=\"210.1543\">A</text><line style=\"stroke: #A80036; stroke-width: 1.5;\" x1=\"155\" x2=\"193\" y1=\"222\" y2=\"222\"/><text fill=\"#000000\" font-family=\"sans-serif\" font-size=\"11\" lengthAdjust=\"spacingAndGlyphs\" textLength=\"23\" x=\"160\" y=\"253.0151\">b: B</text><line style=\"stroke: #A80036; stroke-width: 1.0;\" x1=\"155\" x2=\"158\" y1=\"236.4023\" y2=\"236.4023\"/><text fill=\"#000000\" font-family=\"sans-serif\" font-size=\"11\" lengthAdjust=\"spacingAndGlyphs\" textLength=\"32\" x=\"158\" y=\"239.7104\">items</text><line style=\"stroke: #A80036; stroke-width: 1.0;\" x1=\"190\" x2=\"193\" y1=\"236.4023\" y2=\"236.4023\"/></a><!--MD5=[270fce915f116d4de14055a7c1d9a0f3]\n",
       "class E5--><a href=\"psysml:77af57f1-340c-421d-9a30-1a49108711b3\" target=\"_top\" title=\"psysml:77af57f1-340c-421d-9a30-1a49108711b3\" xlink:actuate=\"onRequest\" xlink:href=\"psysml:77af57f1-340c-421d-9a30-1a49108711b3\" xlink:show=\"new\" xlink:title=\"psysml:77af57f1-340c-421d-9a30-1a49108711b3\" xlink:type=\"simple\"><rect fill=\"#FEFECE\" filter=\"url(#f3a5crcpuxhlz)\" height=\"45.9375\" id=\"E5\" rx=\"10\" ry=\"10\" style=\"stroke: #A80036; stroke-width: 1.5;\" width=\"68\" x=\"32\" y=\"321\"/><ellipse cx=\"47\" cy=\"339.9688\" fill=\"#32CD32\" rx=\"11\" ry=\"11\" style=\"stroke: #A80036; stroke-width: 1.0;\"/><path d=\"M46.7969,335.6406 L46.7969,339.2656 L47.7969,339.2656 Q49,339.2656 49.4844,338.8594 Q49.9688,338.4531 49.9688,337.4531 Q49.9688,336.4531 49.4844,336.0469 Q49,335.6406 47.7969,335.6406 L46.7969,335.6406 Z M44.3438,333.5781 L47.7031,333.5781 Q50.2656,333.5781 51.3906,334.5 Q52.5156,335.4063 52.5156,337.4531 Q52.5156,339.5 51.3906,340.4219 Q50.2656,341.3281 47.7031,341.3281 L46.7969,341.3281 L46.7969,345.9688 L44.3438,345.9688 L44.3438,333.5781 Z \"/><text fill=\"#000000\" font-family=\"sans-serif\" font-size=\"12\" font-style=\"italic\" lengthAdjust=\"spacingAndGlyphs\" textLength=\"40\" x=\"59\" y=\"337.1387\">«part»</text><text fill=\"#000000\" font-family=\"sans-serif\" font-size=\"12\" lengthAdjust=\"spacingAndGlyphs\" textLength=\"23\" x=\"67.5\" y=\"351.1074\">c: C</text><line style=\"stroke: #A80036; stroke-width: 1.5;\" x1=\"33\" x2=\"99\" y1=\"358.9375\" y2=\"358.9375\"/></a><!--MD5=[60a26617385b1d2d0262a64233df1f8d]\n",
       "class E6--><a href=\"psysml:41f55b44-de87-42d8-a9cd-035ede31bd10\" target=\"_top\" title=\"psysml:41f55b44-de87-42d8-a9cd-035ede31bd10\" xlink:actuate=\"onRequest\" xlink:href=\"psysml:41f55b44-de87-42d8-a9cd-035ede31bd10\" xlink:show=\"new\" xlink:title=\"psysml:41f55b44-de87-42d8-a9cd-035ede31bd10\" xlink:type=\"simple\"><rect fill=\"#FEFECE\" filter=\"url(#f3a5crcpuxhlz)\" height=\"40\" id=\"E6\" style=\"stroke: #A80036; stroke-width: 1.5;\" width=\"40\" x=\"139\" y=\"545\"/><ellipse cx=\"154\" cy=\"561\" fill=\"#008000\" rx=\"11\" ry=\"11\" style=\"stroke: #A80036; stroke-width: 1.0;\"/><path d=\"M152.9063,561.375 L152.9063,565.0469 L154.5313,565.0469 Q155.7031,565.0469 156.1719,564.6563 Q156.6406,564.25 156.6406,563.25 Q156.6406,562.25 156.1406,561.8125 Q155.6563,561.375 154.5313,561.375 L152.9063,561.375 Z M152.9063,556.5469 L152.9063,559.4219 L154.5313,559.4219 Q155.4531,559.4219 155.8438,559.0938 Q156.25,558.75 156.25,558 Q156.25,557.2344 155.8438,556.8906 Q155.4375,556.5469 154.5313,556.5469 L152.9063,556.5469 Z M150.5313,554.5938 L154.5313,554.5938 Q156.5938,554.5938 157.6406,555.375 Q158.6875,556.1563 158.6875,557.7188 Q158.6875,558.9219 158.0625,559.5938 Q157.4531,560.2656 156.2656,560.375 Q157.6875,560.5156 158.4063,561.3281 Q159.125,562.1406 159.125,563.5938 Q159.125,565.3906 158.0469,566.2031 Q156.9688,567 154.5313,567 L150.5313,567 L150.5313,554.5938 Z \"/><text fill=\"#000000\" font-family=\"sans-serif\" font-size=\"12\" lengthAdjust=\"spacingAndGlyphs\" textLength=\"8\" x=\"168\" y=\"565.1543\">B</text><line style=\"stroke: #A80036; stroke-width: 1.5;\" x1=\"140\" x2=\"178\" y1=\"577\" y2=\"577\"/></a><!--MD5=[2156ba9850f5573cc1fc38a6a4b2f02b]\n",
       "class E7--><a href=\"psysml:4ca48e5a-78fa-40b6-ad88-229f08c03677\" target=\"_top\" title=\"psysml:4ca48e5a-78fa-40b6-ad88-229f08c03677\" xlink:actuate=\"onRequest\" xlink:href=\"psysml:4ca48e5a-78fa-40b6-ad88-229f08c03677\" xlink:show=\"new\" xlink:title=\"psysml:4ca48e5a-78fa-40b6-ad88-229f08c03677\" xlink:type=\"simple\"><rect fill=\"#FEFECE\" filter=\"url(#f3a5crcpuxhlz)\" height=\"45.9375\" id=\"E7\" rx=\"10\" ry=\"10\" style=\"stroke: #A80036; stroke-width: 1.5;\" width=\"68\" x=\"137\" y=\"646\"/><ellipse cx=\"152\" cy=\"664.9688\" fill=\"#32CD32\" rx=\"11\" ry=\"11\" style=\"stroke: #A80036; stroke-width: 1.0;\"/><path d=\"M151.7969,660.6406 L151.7969,664.2656 L152.7969,664.2656 Q154,664.2656 154.4844,663.8594 Q154.9688,663.4531 154.9688,662.4531 Q154.9688,661.4531 154.4844,661.0469 Q154,660.6406 152.7969,660.6406 L151.7969,660.6406 Z M149.3438,658.5781 L152.7031,658.5781 Q155.2656,658.5781 156.3906,659.5 Q157.5156,660.4063 157.5156,662.4531 Q157.5156,664.5 156.3906,665.4219 Q155.2656,666.3281 152.7031,666.3281 L151.7969,666.3281 L151.7969,670.9688 L149.3438,670.9688 L149.3438,658.5781 Z \"/><text fill=\"#000000\" font-family=\"sans-serif\" font-size=\"12\" font-style=\"italic\" lengthAdjust=\"spacingAndGlyphs\" textLength=\"40\" x=\"164\" y=\"662.1387\">«part»</text><text fill=\"#000000\" font-family=\"sans-serif\" font-size=\"12\" lengthAdjust=\"spacingAndGlyphs\" textLength=\"24\" x=\"172\" y=\"676.1074\">a: A</text><line style=\"stroke: #A80036; stroke-width: 1.5;\" x1=\"138\" x2=\"204\" y1=\"683.9375\" y2=\"683.9375\"/></a><!--MD5=[b9389687b975829384b498ac4b7476b2]\n",
       "class E8--><a href=\"psysml:e612b3f8-fad7-4b05-bdfc-52877d32f7f2\" target=\"_top\" title=\"psysml:e612b3f8-fad7-4b05-bdfc-52877d32f7f2\" xlink:actuate=\"onRequest\" xlink:href=\"psysml:e612b3f8-fad7-4b05-bdfc-52877d32f7f2\" xlink:show=\"new\" xlink:title=\"psysml:e612b3f8-fad7-4b05-bdfc-52877d32f7f2\" xlink:type=\"simple\"><rect fill=\"#FEFECE\" filter=\"url(#f3a5crcpuxhlz)\" height=\"40\" id=\"E8\" style=\"stroke: #A80036; stroke-width: 1.5;\" width=\"40\" x=\"139\" y=\"428\"/><ellipse cx=\"154\" cy=\"444\" fill=\"#008000\" rx=\"11\" ry=\"11\" style=\"stroke: #A80036; stroke-width: 1.0;\"/><path d=\"M152.9063,444.375 L152.9063,448.0469 L154.5313,448.0469 Q155.7031,448.0469 156.1719,447.6563 Q156.6406,447.25 156.6406,446.25 Q156.6406,445.25 156.1406,444.8125 Q155.6563,444.375 154.5313,444.375 L152.9063,444.375 Z M152.9063,439.5469 L152.9063,442.4219 L154.5313,442.4219 Q155.4531,442.4219 155.8438,442.0938 Q156.25,441.75 156.25,441 Q156.25,440.2344 155.8438,439.8906 Q155.4375,439.5469 154.5313,439.5469 L152.9063,439.5469 Z M150.5313,437.5938 L154.5313,437.5938 Q156.5938,437.5938 157.6406,438.375 Q158.6875,439.1563 158.6875,440.7188 Q158.6875,441.9219 158.0625,442.5938 Q157.4531,443.2656 156.2656,443.375 Q157.6875,443.5156 158.4063,444.3281 Q159.125,445.1406 159.125,446.5938 Q159.125,448.3906 158.0469,449.2031 Q156.9688,450 154.5313,450 L150.5313,450 L150.5313,437.5938 Z \"/><text fill=\"#000000\" font-family=\"sans-serif\" font-size=\"12\" lengthAdjust=\"spacingAndGlyphs\" textLength=\"8\" x=\"168\" y=\"448.1543\">C</text><line style=\"stroke: #A80036; stroke-width: 1.5;\" x1=\"140\" x2=\"178\" y1=\"460\" y2=\"460\"/></a><!--MD5=[fd4143e9d270a159db93a4ea2a975926]\n",
       "class E9--><a href=\"psysml:b51b1cf2-e677-402d-bf05-bb2fae798694\" target=\"_top\" title=\"psysml:b51b1cf2-e677-402d-bf05-bb2fae798694\" xlink:actuate=\"onRequest\" xlink:href=\"psysml:b51b1cf2-e677-402d-bf05-bb2fae798694\" xlink:show=\"new\" xlink:title=\"psysml:b51b1cf2-e677-402d-bf05-bb2fae798694\" xlink:type=\"simple\"><rect fill=\"#FEFECE\" filter=\"url(#f3a5crcpuxhlz)\" height=\"88.3516\" id=\"E9\" style=\"stroke: #A80036; stroke-width: 1.5;\" width=\"92\" x=\"32\" y=\"41\"/><ellipse cx=\"47\" cy=\"59.9688\" fill=\"#A52A2A\" rx=\"11\" ry=\"11\" style=\"stroke: #A80036; stroke-width: 1.0;\"/><path d=\"M46.5938,55.7813 L46.5938,63.7656 L47.25,63.7656 Q48.6875,63.7656 49.2969,62.8594 Q49.9219,61.9375 49.9219,59.7656 Q49.9219,57.5938 49.2969,56.6875 Q48.6875,55.7813 47.25,55.7813 L46.5938,55.7813 Z M44.1406,53.5781 L46.7656,53.5781 Q49.7969,53.5781 51.125,55.0313 Q52.4688,56.4688 52.4688,59.7656 Q52.4688,63.0625 51.125,64.5156 Q49.7969,65.9688 46.7656,65.9688 L44.1406,65.9688 L44.1406,53.5781 Z \"/><text fill=\"#000000\" font-family=\"sans-serif\" font-size=\"12\" font-style=\"italic\" lengthAdjust=\"spacingAndGlyphs\" textLength=\"64\" x=\"59\" y=\"57.1387\">«port def»</text><text fill=\"#000000\" font-family=\"sans-serif\" font-size=\"12\" lengthAdjust=\"spacingAndGlyphs\" textLength=\"8\" x=\"87\" y=\"71.1074\">P</text><line style=\"stroke: #A80036; stroke-width: 1.5;\" x1=\"33\" x2=\"123\" y1=\"78.9375\" y2=\"78.9375\"/><text fill=\"#000000\" font-family=\"sans-serif\" font-size=\"11\" lengthAdjust=\"spacingAndGlyphs\" textLength=\"29\" x=\"38\" y=\"109.9526\">a1: A</text><text fill=\"#000000\" font-family=\"sans-serif\" font-size=\"11\" lengthAdjust=\"spacingAndGlyphs\" textLength=\"29\" x=\"38\" y=\"122.7573\">a2: A</text><line style=\"stroke: #A80036; stroke-width: 1.0;\" x1=\"33\" x2=\"62\" y1=\"93.3398\" y2=\"93.3398\"/><text fill=\"#000000\" font-family=\"sans-serif\" font-size=\"11\" lengthAdjust=\"spacingAndGlyphs\" textLength=\"32\" x=\"62\" y=\"96.6479\">items</text><line style=\"stroke: #A80036; stroke-width: 1.0;\" x1=\"94\" x2=\"123\" y1=\"93.3398\" y2=\"93.3398\"/></a><!--MD5=[2720a5a1f2c3fca2055b230370638851]\n",
       "link E2 to E3--><a href=\"psysml:5c778f2f-9d99-44f7-9cbe-495e6850b493\" target=\"_top\" title=\"psysml:5c778f2f-9d99-44f7-9cbe-495e6850b493\" xlink:actuate=\"onRequest\" xlink:href=\"psysml:5c778f2f-9d99-44f7-9cbe-495e6850b493\" xlink:show=\"new\" xlink:title=\"psysml:5c778f2f-9d99-44f7-9cbe-495e6850b493\" xlink:type=\"simple\"><path d=\"M183.47,105.19 C182.14,121.92 180.14,147.01 178.32,169.82 \" fill=\"none\" id=\"E2-&gt;E3\" style=\"stroke: #A80036; stroke-width: 1.0;\"/><polygon fill=\"#FFFFFF\" points=\"176.72,189.84,171.2619,170.341,185.2171,171.4607,176.72,189.84\" style=\"stroke: #A80036; stroke-width: 1.0;\"/><ellipse cx=\"173.7113\" cy=\"164.8193\" fill=\"#A80036\" rx=\"2\" ry=\"2\" style=\"stroke: #A80036; stroke-width: 1.0;\"/><ellipse cx=\"183.6793\" cy=\"165.619\" fill=\"#A80036\" rx=\"2\" ry=\"2\" style=\"stroke: #A80036; stroke-width: 1.0;\"/></a><!--MD5=[191cde3d490a3f6d7bb551fe3ddca469]\n",
       "reverse link E3 to E5--><a href=\"psysml:77af57f1-340c-421d-9a30-1a49108711b3\" target=\"_top\" title=\"psysml:77af57f1-340c-421d-9a30-1a49108711b3\" xlink:actuate=\"onRequest\" xlink:href=\"psysml:77af57f1-340c-421d-9a30-1a49108711b3\" xlink:show=\"new\" xlink:title=\"psysml:77af57f1-340c-421d-9a30-1a49108711b3\" xlink:type=\"simple\"><path d=\"M145.03,257.38 C126.49,277.47 102.88,303.04 86.32,320.99 \" fill=\"none\" id=\"E3&lt;-E5\" style=\"stroke: #A80036; stroke-width: 1.0;\"/><polygon fill=\"#FFFFFF\" points=\"153.94,247.73,146.9306,249.4235,145.7979,256.5451,152.8073,254.8516,153.94,247.73\" style=\"stroke: #A80036; stroke-width: 1.0;\"/></a><!--MD5=[14ccda38c055a5c0da953d572bc50960]\n",
       "link E7 to E3--><a href=\"psysml:8bb447da-4a21-4000-9a04-f9f9c4ed48f1\" target=\"_top\" title=\"psysml:8bb447da-4a21-4000-9a04-f9f9c4ed48f1\" xlink:actuate=\"onRequest\" xlink:href=\"psysml:8bb447da-4a21-4000-9a04-f9f9c4ed48f1\" xlink:show=\"new\" xlink:title=\"psysml:8bb447da-4a21-4000-9a04-f9f9c4ed48f1\" xlink:type=\"simple\"><path d=\"M186.89,645.69 C199.49,625.78 215,595.31 215,566 C215,343 215,343 215,343 C215,321.21 208.59,298.35 200.83,278.68 \" fill=\"none\" id=\"E7-&gt;E3\" style=\"stroke: #A80036; stroke-width: 1.0;\"/><polygon fill=\"#FFFFFF\" points=\"192.82,260.23,206.8032,274.8748,193.9596,280.4464,192.82,260.23\" style=\"stroke: #A80036; stroke-width: 1.0;\"/><ellipse cx=\"207.2368\" cy=\"280.8999\" fill=\"#A80036\" rx=\"2\" ry=\"2\" style=\"stroke: #A80036; stroke-width: 1.0;\"/><ellipse cx=\"198.0628\" cy=\"284.8796\" fill=\"#A80036\" rx=\"2\" ry=\"2\" style=\"stroke: #A80036; stroke-width: 1.0;\"/></a><!--MD5=[3f50a3473f1dfb74d3f76443e03635af]\n",
       "reverse link E6 to E7--><a href=\"psysml:4ca48e5a-78fa-40b6-ad88-229f08c03677\" target=\"_top\" title=\"psysml:4ca48e5a-78fa-40b6-ad88-229f08c03677\" xlink:actuate=\"onRequest\" xlink:href=\"psysml:4ca48e5a-78fa-40b6-ad88-229f08c03677\" xlink:show=\"new\" xlink:title=\"psysml:4ca48e5a-78fa-40b6-ad88-229f08c03677\" xlink:type=\"simple\"><path d=\"M162.81,598.41 C164.63,613.82 166.75,631.86 168.38,645.7 \" fill=\"none\" id=\"E6&lt;-E7\" style=\"stroke: #A80036; stroke-width: 1.0;\"/><polygon fill=\"#A80036\" points=\"161.26,585.19,157.9938,591.619,162.672,597.1066,165.9382,590.6776,161.26,585.19\" style=\"stroke: #A80036; stroke-width: 1.0;\"/></a><!--MD5=[dfaffb906826c3e5aca635516100ff21]\n",
       "link E5 to E8--><a href=\"psysml:6ff88c17-8c2d-42a4-af32-a2455d6f0acf\" target=\"_top\" title=\"psysml:6ff88c17-8c2d-42a4-af32-a2455d6f0acf\" xlink:actuate=\"onRequest\" xlink:href=\"psysml:6ff88c17-8c2d-42a4-af32-a2455d6f0acf\" xlink:show=\"new\" xlink:title=\"psysml:6ff88c17-8c2d-42a4-af32-a2455d6f0acf\" xlink:type=\"simple\"><path d=\"M86.18,367.13 C98.34,380.47 114.08,397.74 127.82,412.8 \" fill=\"none\" id=\"E5-&gt;E8\" style=\"stroke: #A80036; stroke-width: 1.0;\"/><polygon fill=\"#FFFFFF\" points=\"141.67,428,123.6993,418.6697,134.0481,409.2408,141.67,428\" style=\"stroke: #A80036; stroke-width: 1.0;\"/><ellipse cx=\"121.3388\" cy=\"413.1093\" fill=\"#A80036\" rx=\"2\" ry=\"2\" style=\"stroke: #A80036; stroke-width: 1.0;\"/><ellipse cx=\"128.7308\" cy=\"406.3744\" fill=\"#A80036\" rx=\"2\" ry=\"2\" style=\"stroke: #A80036; stroke-width: 1.0;\"/></a><!--MD5=[03c8294790d3c57651a1993cecff665f]\n",
       "reverse link E8 to E3--><a href=\"psysml:83dfbdb9-73af-4dff-b5ad-52a21a738594\" target=\"_top\" title=\"psysml:83dfbdb9-73af-4dff-b5ad-52a21a738594\" xlink:actuate=\"onRequest\" xlink:href=\"psysml:83dfbdb9-73af-4dff-b5ad-52a21a738594\" xlink:show=\"new\" xlink:title=\"psysml:83dfbdb9-73af-4dff-b5ad-52a21a738594\" xlink:type=\"simple\"><path d=\"M161.17,414.97 C163.97,373.71 168.82,302.27 171.69,260.05 \" fill=\"none\" id=\"E8&lt;-E3\" style=\"stroke: #A80036; stroke-width: 1.0;\"/><polygon fill=\"#FFFFFF\" points=\"160.29,427.97,164.6894,422.2564,161.1075,415.9979,156.708,421.7114,160.29,427.97\" style=\"stroke: #A80036; stroke-width: 1.0;\"/><text fill=\"#000000\" font-family=\"sans-serif\" font-size=\"13\" lengthAdjust=\"spacingAndGlyphs\" textLength=\"7\" x=\"168\" y=\"348.5669\">y</text></a><!--MD5=[0d75d2178373a6a4568e5dc728f58aef]\n",
       "reverse link E8 to E6--><a href=\"psysml:83dfbdb9-73af-4dff-b5ad-52a21a738594\" target=\"_top\" title=\"psysml:83dfbdb9-73af-4dff-b5ad-52a21a738594\" xlink:actuate=\"onRequest\" xlink:href=\"psysml:83dfbdb9-73af-4dff-b5ad-52a21a738594\" xlink:show=\"new\" xlink:title=\"psysml:83dfbdb9-73af-4dff-b5ad-52a21a738594\" xlink:type=\"simple\"><path d=\"M159,481.36 C159,501.76 159,527.42 159,544.69 \" fill=\"none\" id=\"E8&lt;-E6\" style=\"stroke: #A80036; stroke-width: 1.0;\"/><polygon fill=\"#FFFFFF\" points=\"159,468.25,155,474.25,159,480.25,163,474.25,159,468.25\" style=\"stroke: #A80036; stroke-width: 1.0;\"/><text fill=\"#000000\" font-family=\"sans-serif\" font-size=\"13\" lengthAdjust=\"spacingAndGlyphs\" textLength=\"7\" x=\"160\" y=\"511.0669\">y</text></a><!--MD5=[d8820d5aacd6da8c975b616eb20960fe]\n",
       "@startuml\r\n",
       " \r\n",
       "package \"ItemTest\" as E1  [[psysml:ffb2e2dc-9c37-4787-be7c-ae8a88a6d943 ]]  {\r\n",
       "comp usage \"f: A\" as E2  << (P,limegreen) >> [[psysml:cf4d7795-98ee-4d9f-9cbf-a98072608f6d ]] {\r\n",
       "}\r\n",
       "comp def \"A\" as E3  << (B,green) >> [[psysml:be14fc81-3f83-42fd-a525-71826c91787f ]] {\r\n",
       "- - items - -\r\n",
       "b: B\r\n",
       "}\r\n",
       "comp usage \"c: C\" as E5  << (P,limegreen) part>> [[psysml:77af57f1-340c-421d-9a30-1a49108711b3 ]] {\r\n",
       "}\r\n",
       "comp def \"B\" as E6  << (B,green) >> [[psysml:41f55b44-de87-42d8-a9cd-035ede31bd10 ]] {\r\n",
       "}\r\n",
       "comp usage \"a: A\" as E7  << (P,limegreen) part>> [[psysml:4ca48e5a-78fa-40b6-ad88-229f08c03677 ]] {\r\n",
       "}\r\n",
       "comp def \"C\" as E8  << (B,green) >> [[psysml:e612b3f8-fad7-4b05-bdfc-52877d32f7f2 ]] {\r\n",
       "}\r\n",
       "comp def \"P\" as E9  <<(D,brown)port def>> [[psysml:b51b1cf2-e677-402d-bf05-bb2fae798694 ]] {\r\n",
       "- - items - -\r\n",
       "a1: A\r\n",
       "a2: A\r\n",
       "}\r\n",
       "E2 - -:|> E3 [[psysml:5c778f2f-9d99-44f7-9cbe-495e6850b493 ]] \r\n",
       "E3 o- - E5 [[psysml:77af57f1-340c-421d-9a30-1a49108711b3 ]] \r\n",
       "E7 - -:|> E3 [[psysml:8bb447da-4a21-4000-9a04-f9f9c4ed48f1 ]] \r\n",
       "E6 *- - E7 [[psysml:4ca48e5a-78fa-40b6-ad88-229f08c03677 ]] \r\n",
       "E5 - -:|> E8 [[psysml:6ff88c17-8c2d-42a4-af32-a2455d6f0acf ]] \r\n",
       "E8 o- - E3 [[psysml:83dfbdb9-73af-4dff-b5ad-52a21a738594 ]] : y\r\n",
       "E8 o- - E6 [[psysml:83dfbdb9-73af-4dff-b5ad-52a21a738594 ]] : y\r\n",
       "}\r\n",
       "@enduml\r\n",
       "\n",
       "PlantUML version 1.2020.13(Sat Jun 13 12:26:38 UTC 2020)\n",
       "(EPL source distribution)\n",
       "Java Runtime: OpenJDK Runtime Environment\n",
       "JVM: OpenJDK 64-Bit Server VM\n",
       "Default Encoding: UTF-8\n",
       "Language: en\n",
       "Country: null\n",
       "--></g></svg>"
      ]
     },
     "execution_count": 31,
     "metadata": {},
     "output_type": "execute_result"
    }
   ],
   "source": [
    "%viz --style=\"PLANTUML\" --view=\"Tree\" \"ItemTest\""
   ]
  },
  {
   "cell_type": "code",
   "execution_count": 32,
   "id": "sound-adaptation",
   "metadata": {
    "execution": {
     "iopub.execute_input": "2021-03-25T15:10:24.202685Z",
     "iopub.status.busy": "2021-03-25T15:10:24.202016Z",
     "iopub.status.idle": "2021-03-25T15:10:25.095071Z",
     "shell.execute_reply": "2021-03-25T15:10:25.093641Z"
    }
   },
   "outputs": [
    {
     "data": {
      "image/svg+xml": [
       "<?xml version=\"1.0\" encoding=\"UTF-8\" standalone=\"no\"?><svg xmlns=\"http://www.w3.org/2000/svg\" xmlns:xlink=\"http://www.w3.org/1999/xlink\" contentScriptType=\"application/ecmascript\" contentStyleType=\"text/css\" height=\"303px\" preserveAspectRatio=\"none\" style=\"width:603px;height:303px;background:#000000;\" version=\"1.1\" viewBox=\"0 0 603 303\" width=\"603px\" zoomAndPan=\"magnify\"><defs/><g><rect fill=\"#1A0800\" height=\"1\" style=\"stroke: #1A0800; stroke-width: 1.0;\" width=\"1\" x=\"0\" y=\"0\"/><rect fill=\"#FFFFFF\" height=\"205.5625\" style=\"stroke: #FFFFFF; stroke-width: 1.0;\" width=\"602\" x=\"0\" y=\"0\"/><text fill=\"#000000\" font-family=\"sans-serif\" font-size=\"12\" font-weight=\"bold\" lengthAdjust=\"spacingAndGlyphs\" textLength=\"159\" x=\"5\" y=\"16.1387\">Welcome to PlantUML!</text><text fill=\"#000000\" font-family=\"sans-serif\" font-size=\"12\" lengthAdjust=\"spacingAndGlyphs\" textLength=\"0\" x=\"9\" y=\"30.1074\"/><text fill=\"#000000\" font-family=\"sans-serif\" font-size=\"12\" lengthAdjust=\"spacingAndGlyphs\" textLength=\"293\" x=\"5\" y=\"44.0762\">If you use this software, you accept its license.</text><text fill=\"#000000\" font-family=\"sans-serif\" font-size=\"12\" lengthAdjust=\"spacingAndGlyphs\" textLength=\"107\" x=\"5\" y=\"58.0449\">(details by typing</text><text fill=\"#000000\" font-family=\"monospace\" font-size=\"12\" lengthAdjust=\"spacingAndGlyphs\" textLength=\"49\" x=\"116\" y=\"58.0449\">license</text><text fill=\"#000000\" font-family=\"sans-serif\" font-size=\"12\" lengthAdjust=\"spacingAndGlyphs\" textLength=\"56\" x=\"169\" y=\"58.0449\">keyword)</text><text fill=\"#000000\" font-family=\"sans-serif\" font-size=\"12\" lengthAdjust=\"spacingAndGlyphs\" textLength=\"0\" x=\"9\" y=\"72.0137\"/><text fill=\"#000000\" font-family=\"sans-serif\" font-size=\"12\" lengthAdjust=\"spacingAndGlyphs\" textLength=\"283\" x=\"5\" y=\"85.9824\">You can start with a simple UML Diagram like:</text><text fill=\"#000000\" font-family=\"sans-serif\" font-size=\"12\" lengthAdjust=\"spacingAndGlyphs\" textLength=\"0\" x=\"9\" y=\"99.9512\"/><text fill=\"#000000\" font-family=\"monospace\" font-size=\"12\" lengthAdjust=\"spacingAndGlyphs\" textLength=\"119\" x=\"5\" y=\"113.9199\">Bob-&gt;Alice: Hello</text><text fill=\"#000000\" font-family=\"sans-serif\" font-size=\"12\" lengthAdjust=\"spacingAndGlyphs\" textLength=\"0\" x=\"9\" y=\"127.8887\"/><text fill=\"#000000\" font-family=\"sans-serif\" font-size=\"12\" lengthAdjust=\"spacingAndGlyphs\" textLength=\"14\" x=\"5\" y=\"141.8574\">Or</text><text fill=\"#000000\" font-family=\"sans-serif\" font-size=\"12\" lengthAdjust=\"spacingAndGlyphs\" textLength=\"0\" x=\"9\" y=\"155.8262\"/><text fill=\"#000000\" font-family=\"monospace\" font-size=\"12\" lengthAdjust=\"spacingAndGlyphs\" textLength=\"91\" x=\"5\" y=\"169.7949\">class Example</text><text fill=\"#000000\" font-family=\"sans-serif\" font-size=\"12\" lengthAdjust=\"spacingAndGlyphs\" textLength=\"0\" x=\"9\" y=\"183.7637\"/><text fill=\"#000000\" font-family=\"sans-serif\" font-size=\"12\" lengthAdjust=\"spacingAndGlyphs\" textLength=\"349\" x=\"5\" y=\"197.7324\">You will find more information about PlantUML syntax on</text><text fill=\"#000000\" font-family=\"sans-serif\" font-size=\"12\" lengthAdjust=\"spacingAndGlyphs\" text-decoration=\"underline\" textLength=\"129\" x=\"358\" y=\"197.7324\">https://plantuml.com</text><image height=\"71\" width=\"80\" x=\"516\" xlink:href=\"data:image/png;base64,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\" y=\"6\"/><rect fill=\"#000000\" height=\"96.4844\" style=\"stroke: #000000; stroke-width: 1.0;\" width=\"602\" x=\"0\" y=\"205.5625\"/><rect fill=\"#33FF02\" height=\"21.2969\" style=\"stroke: #33FF02; stroke-width: 1.0;\" width=\"170\" x=\"5\" y=\"210.5625\"/><text fill=\"#000000\" font-family=\"sans-serif\" font-size=\"14\" font-weight=\"bold\" lengthAdjust=\"spacingAndGlyphs\" textLength=\"168\" x=\"6\" y=\"225.5625\">[From string (line 2) ]</text><text fill=\"#33FF02\" font-family=\"sans-serif\" font-size=\"14\" font-weight=\"bold\" lengthAdjust=\"spacingAndGlyphs\" textLength=\"0\" x=\"10\" y=\"245.8594\"/><text fill=\"#33FF02\" font-family=\"sans-serif\" font-size=\"14\" font-weight=\"bold\" lengthAdjust=\"spacingAndGlyphs\" textLength=\"79\" x=\"5\" y=\"262.1563\">@startuml</text><text fill=\"#33FF02\" font-family=\"sans-serif\" font-size=\"14\" font-weight=\"bold\" lengthAdjust=\"spacingAndGlyphs\" textLength=\"0\" x=\"10\" y=\"278.4531\"/><text fill=\"#FF0000\" font-family=\"sans-serif\" font-size=\"14\" font-weight=\"bold\" lengthAdjust=\"spacingAndGlyphs\" textLength=\"142\" x=\"10\" y=\"294.75\">Empty description</text><!--MD5=[f59edd8218d337f74d0c332fc6737304]\n",
       "@startuml\r\n",
       " \r\n",
       "@enduml\r\n",
       "\n",
       "PlantUML version 1.2020.13(Sat Jun 13 12:26:38 UTC 2020)\n",
       "(EPL source distribution)\n",
       "Java Runtime: OpenJDK Runtime Environment\n",
       "JVM: OpenJDK 64-Bit Server VM\n",
       "Default Encoding: UTF-8\n",
       "Language: en\n",
       "Country: null\n",
       "--></g></svg>"
      ]
     },
     "execution_count": 32,
     "metadata": {},
     "output_type": "execute_result"
    }
   ],
   "source": [
    "%viz --style=\"PLANTUML\" --view=\"State\" \"ItemTest\""
   ]
  },
  {
   "cell_type": "code",
   "execution_count": 33,
   "id": "monetary-words",
   "metadata": {
    "execution": {
     "iopub.execute_input": "2021-03-25T15:10:25.145927Z",
     "iopub.status.busy": "2021-03-25T15:10:25.145144Z",
     "iopub.status.idle": "2021-03-25T15:10:25.215222Z",
     "shell.execute_reply": "2021-03-25T15:10:25.213911Z"
    }
   },
   "outputs": [
    {
     "data": {
      "image/svg+xml": [
       "<?xml version=\"1.0\" encoding=\"UTF-8\" standalone=\"no\"?><svg xmlns=\"http://www.w3.org/2000/svg\" xmlns:xlink=\"http://www.w3.org/1999/xlink\" contentScriptType=\"application/ecmascript\" contentStyleType=\"text/css\" height=\"179px\" preserveAspectRatio=\"none\" style=\"width:755px;height:179px;\" version=\"1.1\" viewBox=\"0 0 755 179\" width=\"755px\" zoomAndPan=\"magnify\"><defs><filter height=\"300%\" id=\"f12ejow9m6e3so\" width=\"300%\" x=\"-1\" y=\"-1\"><feGaussianBlur result=\"blurOut\" stdDeviation=\"2.0\"/><feColorMatrix in=\"blurOut\" result=\"blurOut2\" type=\"matrix\" values=\"0 0 0 0 0 0 0 0 0 0 0 0 0 0 0 0 0 0 .4 0\"/><feOffset dx=\"4.0\" dy=\"4.0\" in=\"blurOut2\" result=\"blurOut3\"/><feBlend in=\"SourceGraphic\" in2=\"blurOut3\" mode=\"normal\"/></filter></defs><g><!--MD5=[fbc87193dbaf4d95561dea2c320d4a47]\n",
       "cluster E1--><a href=\"psysml:ffb2e2dc-9c37-4787-be7c-ae8a88a6d943\" target=\"_top\" title=\"psysml:ffb2e2dc-9c37-4787-be7c-ae8a88a6d943\" xlink:actuate=\"onRequest\" xlink:href=\"psysml:ffb2e2dc-9c37-4787-be7c-ae8a88a6d943\" xlink:show=\"new\" xlink:title=\"psysml:ffb2e2dc-9c37-4787-be7c-ae8a88a6d943\" xlink:type=\"simple\"><polygon fill=\"#FFFFFF\" filter=\"url(#f12ejow9m6e3so)\" points=\"16,6,91,6,98,28.2969,733,28.2969,733,167,16,167,16,6\" style=\"stroke: #000000; stroke-width: 1.5;\"/><line style=\"stroke: #000000; stroke-width: 1.5;\" x1=\"16\" x2=\"98\" y1=\"28.2969\" y2=\"28.2969\"/><text fill=\"#000000\" font-family=\"sans-serif\" font-size=\"14\" font-weight=\"bold\" lengthAdjust=\"spacingAndGlyphs\" textLength=\"69\" x=\"20\" y=\"20.9951\">ItemTest</text></a><!--MD5=[de5ec2e2e8f62f467e546659f5068c88]\n",
       "cluster E5--><a href=\"psysml:e612b3f8-fad7-4b05-bdfc-52877d32f7f2\" target=\"_top\" title=\"psysml:e612b3f8-fad7-4b05-bdfc-52877d32f7f2\" xlink:actuate=\"onRequest\" xlink:href=\"psysml:e612b3f8-fad7-4b05-bdfc-52877d32f7f2\" xlink:show=\"new\" xlink:title=\"psysml:e612b3f8-fad7-4b05-bdfc-52877d32f7f2\" xlink:type=\"simple\"><rect fill=\"#FFFFFF\" filter=\"url(#f12ejow9m6e3so)\" height=\"94\" id=\"E5\" style=\"stroke: #A80036; stroke-width: 1.5;\" width=\"140\" x=\"569\" y=\"49\"/><rect fill=\"#FEFECE\" height=\"23.9688\" style=\"stroke: #A80036; stroke-width: 1.5;\" width=\"140\" x=\"569\" y=\"49\"/><text fill=\"#000000\" font-family=\"sans-serif\" font-size=\"12\" lengthAdjust=\"spacingAndGlyphs\" textLength=\"8\" x=\"635\" y=\"65.1387\">C</text></a><!--MD5=[09b614a08d8cba4a07c9adeb5e0fee81]\n",
       "class E3--><a href=\"psysml:be14fc81-3f83-42fd-a525-71826c91787f\" target=\"_top\" title=\"psysml:be14fc81-3f83-42fd-a525-71826c91787f\" xlink:actuate=\"onRequest\" xlink:href=\"psysml:be14fc81-3f83-42fd-a525-71826c91787f\" xlink:show=\"new\" xlink:title=\"psysml:be14fc81-3f83-42fd-a525-71826c91787f\" xlink:type=\"simple\"><rect fill=\"#FEFECE\" filter=\"url(#f12ejow9m6e3so)\" height=\"53.9375\" id=\"E3\" style=\"stroke: #A80036; stroke-width: 1.5;\" width=\"101\" x=\"448.5\" y=\"78.5\"/><ellipse cx=\"463.5\" cy=\"97.4688\" fill=\"#ADD1B2\" rx=\"11\" ry=\"11\" style=\"stroke: #A80036; stroke-width: 1.0;\"/><path d=\"M466.4688,103.1094 Q465.8906,103.4063 465.25,103.5469 Q464.6094,103.7031 463.9063,103.7031 Q461.4063,103.7031 460.0781,102.0625 Q458.7656,100.4063 458.7656,97.2813 Q458.7656,94.1563 460.0781,92.5 Q461.4063,90.8438 463.9063,90.8438 Q464.6094,90.8438 465.25,91 Q465.9063,91.1563 466.4688,91.4531 L466.4688,94.1719 Q465.8438,93.5938 465.25,93.3281 Q464.6563,93.0469 464.0313,93.0469 Q462.6875,93.0469 462,94.125 Q461.3125,95.1875 461.3125,97.2813 Q461.3125,99.375 462,100.4531 Q462.6875,101.5156 464.0313,101.5156 Q464.6563,101.5156 465.25,101.25 Q465.8438,100.9688 466.4688,100.3906 L466.4688,103.1094 Z \"/><text fill=\"#000000\" font-family=\"sans-serif\" font-size=\"12\" font-style=\"italic\" lengthAdjust=\"spacingAndGlyphs\" textLength=\"73\" x=\"475.5\" y=\"94.6387\">«(B,green)»</text><text fill=\"#000000\" font-family=\"sans-serif\" font-size=\"12\" lengthAdjust=\"spacingAndGlyphs\" textLength=\"8\" x=\"508\" y=\"108.6074\">A</text><line style=\"stroke: #A80036; stroke-width: 1.5;\" x1=\"449.5\" x2=\"548.5\" y1=\"116.4375\" y2=\"116.4375\"/><line style=\"stroke: #A80036; stroke-width: 1.5;\" x1=\"449.5\" x2=\"548.5\" y1=\"124.4375\" y2=\"124.4375\"/></a><!--MD5=[ebbe1d658d1005bcc118a6aa81145e00]\n",
       "class E4--><a href=\"psysml:41f55b44-de87-42d8-a9cd-035ede31bd10\" target=\"_top\" title=\"psysml:41f55b44-de87-42d8-a9cd-035ede31bd10\" xlink:actuate=\"onRequest\" xlink:href=\"psysml:41f55b44-de87-42d8-a9cd-035ede31bd10\" xlink:show=\"new\" xlink:title=\"psysml:41f55b44-de87-42d8-a9cd-035ede31bd10\" xlink:type=\"simple\"><rect fill=\"#FEFECE\" filter=\"url(#f12ejow9m6e3so)\" height=\"53.9375\" id=\"E4\" style=\"stroke: #A80036; stroke-width: 1.5;\" width=\"101\" x=\"312.5\" y=\"78.5\"/><ellipse cx=\"327.5\" cy=\"97.4688\" fill=\"#ADD1B2\" rx=\"11\" ry=\"11\" style=\"stroke: #A80036; stroke-width: 1.0;\"/><path d=\"M330.4688,103.1094 Q329.8906,103.4063 329.25,103.5469 Q328.6094,103.7031 327.9063,103.7031 Q325.4063,103.7031 324.0781,102.0625 Q322.7656,100.4063 322.7656,97.2813 Q322.7656,94.1563 324.0781,92.5 Q325.4063,90.8438 327.9063,90.8438 Q328.6094,90.8438 329.25,91 Q329.9063,91.1563 330.4688,91.4531 L330.4688,94.1719 Q329.8438,93.5938 329.25,93.3281 Q328.6563,93.0469 328.0313,93.0469 Q326.6875,93.0469 326,94.125 Q325.3125,95.1875 325.3125,97.2813 Q325.3125,99.375 326,100.4531 Q326.6875,101.5156 328.0313,101.5156 Q328.6563,101.5156 329.25,101.25 Q329.8438,100.9688 330.4688,100.3906 L330.4688,103.1094 Z \"/><text fill=\"#000000\" font-family=\"sans-serif\" font-size=\"12\" font-style=\"italic\" lengthAdjust=\"spacingAndGlyphs\" textLength=\"73\" x=\"339.5\" y=\"94.6387\">«(B,green)»</text><text fill=\"#000000\" font-family=\"sans-serif\" font-size=\"12\" lengthAdjust=\"spacingAndGlyphs\" textLength=\"8\" x=\"372\" y=\"108.6074\">B</text><line style=\"stroke: #A80036; stroke-width: 1.5;\" x1=\"313.5\" x2=\"412.5\" y1=\"116.4375\" y2=\"116.4375\"/><line style=\"stroke: #A80036; stroke-width: 1.5;\" x1=\"313.5\" x2=\"412.5\" y1=\"124.4375\" y2=\"124.4375\"/></a><!--MD5=[2156ba9850f5573cc1fc38a6a4b2f02b]\n",
       "class E7--><a href=\"psysml:b51b1cf2-e677-402d-bf05-bb2fae798694\" target=\"_top\" title=\"psysml:b51b1cf2-e677-402d-bf05-bb2fae798694\" xlink:actuate=\"onRequest\" xlink:href=\"psysml:b51b1cf2-e677-402d-bf05-bb2fae798694\" xlink:show=\"new\" xlink:title=\"psysml:b51b1cf2-e677-402d-bf05-bb2fae798694\" xlink:type=\"simple\"><rect fill=\"#FEFECE\" filter=\"url(#f12ejow9m6e3so)\" height=\"53.9375\" id=\"E7\" style=\"stroke: #A80036; stroke-width: 1.5;\" width=\"153\" x=\"124.5\" y=\"78.5\"/><ellipse cx=\"139.5\" cy=\"97.4688\" fill=\"#ADD1B2\" rx=\"11\" ry=\"11\" style=\"stroke: #A80036; stroke-width: 1.0;\"/><path d=\"M142.4688,103.1094 Q141.8906,103.4063 141.25,103.5469 Q140.6094,103.7031 139.9063,103.7031 Q137.4063,103.7031 136.0781,102.0625 Q134.7656,100.4063 134.7656,97.2813 Q134.7656,94.1563 136.0781,92.5 Q137.4063,90.8438 139.9063,90.8438 Q140.6094,90.8438 141.25,91 Q141.9063,91.1563 142.4688,91.4531 L142.4688,94.1719 Q141.8438,93.5938 141.25,93.3281 Q140.6563,93.0469 140.0313,93.0469 Q138.6875,93.0469 138,94.125 Q137.3125,95.1875 137.3125,97.2813 Q137.3125,99.375 138,100.4531 Q138.6875,101.5156 140.0313,101.5156 Q140.6563,101.5156 141.25,101.25 Q141.8438,100.9688 142.4688,100.3906 L142.4688,103.1094 Z \"/><text fill=\"#000000\" font-family=\"sans-serif\" font-size=\"12\" font-style=\"italic\" lengthAdjust=\"spacingAndGlyphs\" textLength=\"125\" x=\"151.5\" y=\"94.6387\">«(D,brown)port def»</text><text fill=\"#000000\" font-family=\"sans-serif\" font-size=\"12\" lengthAdjust=\"spacingAndGlyphs\" textLength=\"8\" x=\"210\" y=\"108.6074\">P</text><line style=\"stroke: #A80036; stroke-width: 1.5;\" x1=\"125.5\" x2=\"276.5\" y1=\"116.4375\" y2=\"116.4375\"/><line style=\"stroke: #A80036; stroke-width: 1.5;\" x1=\"125.5\" x2=\"276.5\" y1=\"124.4375\" y2=\"124.4375\"/></a><g id=\"E1.E2\"><a href=\"psysml:cf4d7795-98ee-4d9f-9cbf-a98072608f6d\" target=\"_top\" title=\"psysml:cf4d7795-98ee-4d9f-9cbf-a98072608f6d\" xlink:actuate=\"onRequest\" xlink:href=\"psysml:cf4d7795-98ee-4d9f-9cbf-a98072608f6d\" xlink:show=\"new\" xlink:title=\"psysml:cf4d7795-98ee-4d9f-9cbf-a98072608f6d\" xlink:type=\"simple\"><rect fill=\"#FEFECE\" filter=\"url(#f12ejow9m6e3so)\" height=\"40\" id=\"E2\" rx=\"10\" ry=\"10\" style=\"stroke: #A80036; stroke-width: 1.5;\" width=\"57\" x=\"32.5\" y=\"85.5\"/><ellipse cx=\"49.75\" cy=\"101.5\" fill=\"#32CD32\" rx=\"11\" ry=\"11\" style=\"stroke: #A80036; stroke-width: 1.0;\"/><path d=\"M49.5469,97.1719 L49.5469,100.7969 L50.5469,100.7969 Q51.75,100.7969 52.2344,100.3906 Q52.7188,99.9844 52.7188,98.9844 Q52.7188,97.9844 52.2344,97.5781 Q51.75,97.1719 50.5469,97.1719 L49.5469,97.1719 Z M47.0938,95.1094 L50.4531,95.1094 Q53.0156,95.1094 54.1406,96.0313 Q55.2656,96.9375 55.2656,98.9844 Q55.2656,101.0313 54.1406,101.9531 Q53.0156,102.8594 50.4531,102.8594 L49.5469,102.8594 L49.5469,107.5 L47.0938,107.5 L47.0938,95.1094 Z \"/><text fill=\"#000000\" font-family=\"sans-serif\" font-size=\"12\" lengthAdjust=\"spacingAndGlyphs\" textLength=\"20\" x=\"64.25\" y=\"105.6543\">f: A</text></a></g><g id=\"E1.E5.E6\"><a href=\"psysml:83dfbdb9-73af-4dff-b5ad-52a21a738594\" target=\"_top\" title=\"psysml:83dfbdb9-73af-4dff-b5ad-52a21a738594\" xlink:actuate=\"onRequest\" xlink:href=\"psysml:83dfbdb9-73af-4dff-b5ad-52a21a738594\" xlink:show=\"new\" xlink:title=\"psysml:83dfbdb9-73af-4dff-b5ad-52a21a738594\" xlink:type=\"simple\"><rect fill=\"#FEFECE\" filter=\"url(#f12ejow9m6e3so)\" height=\"42.9375\" id=\"E6\" rx=\"10\" ry=\"10\" style=\"stroke: #A80036; stroke-width: 1.5;\" width=\"108\" x=\"585\" y=\"84\"/><ellipse cx=\"602.25\" cy=\"102.9688\" fill=\"#FFA500\" rx=\"11\" ry=\"11\" style=\"stroke: #A80036; stroke-width: 1.0;\"/><path d=\"M598.125,104.8906 L598.125,97.0781 L600.5781,97.0781 L600.5781,105.5156 Q600.5781,106.4375 601.0469,106.9688 Q601.5313,107.5 602.3594,107.5 Q603.2031,107.5 603.6719,106.9688 Q604.1406,106.4375 604.1406,105.5156 L604.1406,97.0781 L606.5938,97.0781 L606.5938,104.8906 Q606.5938,107.4219 605.5938,108.5625 Q604.5938,109.7031 602.3594,109.7031 Q600.1406,109.7031 599.125,108.5625 Q598.125,107.4219 598.125,104.8906 Z \"/><text fill=\"#000000\" font-family=\"sans-serif\" font-size=\"12\" font-style=\"italic\" lengthAdjust=\"spacingAndGlyphs\" textLength=\"75\" x=\"614.75\" y=\"100.1387\">«reference»</text><text fill=\"#000000\" font-family=\"sans-serif\" font-size=\"12\" lengthAdjust=\"spacingAndGlyphs\" textLength=\"38\" x=\"633.25\" y=\"114.1074\">y: A, B</text></a></g><!--MD5=[54f229ad12161f2042bc188fb2deca46]\n",
       "@startuml\r\n",
       "skinparam ranksep 8\r\n",
       "skinparam rectangle {\r\n",
       " backgroundColor<<block>> LightGreen\r\n",
       "}\r\n",
       " \r\n",
       "package \"ItemTest\" as E1  [[psysml:ffb2e2dc-9c37-4787-be7c-ae8a88a6d943 ]]  {\r\n",
       "rec usage \"f: A\" as E2  << (P,limegreen) >> [[psysml:cf4d7795-98ee-4d9f-9cbf-a98072608f6d ]] {\r\n",
       "}\r\n",
       "def \"A\" as E3  << (B,green) >> [[psysml:be14fc81-3f83-42fd-a525-71826c91787f ]] \r\n",
       "def \"B\" as E4  << (B,green) >> [[psysml:41f55b44-de87-42d8-a9cd-035ede31bd10 ]] \r\n",
       "rec def \"C\" as E5  << (B,green) >> [[psysml:e612b3f8-fad7-4b05-bdfc-52877d32f7f2 ]] {\r\n",
       "rec usage \"y: A, B\" as E6  <<(U,orange)reference>> [[psysml:83dfbdb9-73af-4dff-b5ad-52a21a738594 ]] {\r\n",
       "}\r\n",
       "}\r\n",
       "def \"P\" as E7  <<(D,brown)port def>> [[psysml:b51b1cf2-e677-402d-bf05-bb2fae798694 ]] \r\n",
       "}\r\n",
       "@enduml\r\n",
       "\n",
       "PlantUML version 1.2020.13(Sat Jun 13 12:26:38 UTC 2020)\n",
       "(EPL source distribution)\n",
       "Java Runtime: OpenJDK Runtime Environment\n",
       "JVM: OpenJDK 64-Bit Server VM\n",
       "Default Encoding: UTF-8\n",
       "Language: en\n",
       "Country: null\n",
       "--></g></svg>"
      ]
     },
     "execution_count": 33,
     "metadata": {},
     "output_type": "execute_result"
    }
   ],
   "source": [
    "%viz --style=\"PLANTUML\" --view=\"Interconnection\" \"ItemTest\""
   ]
  },
  {
   "cell_type": "code",
   "execution_count": 34,
   "id": "golden-sitting",
   "metadata": {
    "execution": {
     "iopub.execute_input": "2021-03-25T15:10:25.265944Z",
     "iopub.status.busy": "2021-03-25T15:10:25.265440Z",
     "iopub.status.idle": "2021-03-25T15:10:25.271353Z",
     "shell.execute_reply": "2021-03-25T15:10:25.271001Z"
    }
   },
   "outputs": [
    {
     "data": {
      "image/svg+xml": [
       "<?xml version=\"1.0\" encoding=\"UTF-8\" standalone=\"no\"?><svg xmlns=\"http://www.w3.org/2000/svg\" xmlns:xlink=\"http://www.w3.org/1999/xlink\" contentScriptType=\"application/ecmascript\" contentStyleType=\"text/css\" height=\"12px\" preserveAspectRatio=\"none\" style=\"width:12px;height:12px;\" version=\"1.1\" viewBox=\"0 0 12 12\" width=\"12px\" zoomAndPan=\"magnify\"><defs/><g><!--MD5=[6a4cb978cab31700e1ce5529f947a75d]\n",
       "@startuml\r\n",
       "skinparam ranksep 8\r\n",
       " \r\n",
       "@enduml\r\n",
       "\n",
       "PlantUML version 1.2020.13(Sat Jun 13 12:26:38 UTC 2020)\n",
       "(EPL source distribution)\n",
       "Java Runtime: OpenJDK Runtime Environment\n",
       "JVM: OpenJDK 64-Bit Server VM\n",
       "Default Encoding: UTF-8\n",
       "Language: en\n",
       "Country: null\n",
       "--></g></svg>"
      ]
     },
     "execution_count": 34,
     "metadata": {},
     "output_type": "execute_result"
    }
   ],
   "source": [
    "%viz --style=\"PLANTUML\" --view=\"Action\" \"ItemTest\""
   ]
  },
  {
   "cell_type": "code",
   "execution_count": 35,
   "id": "utility-mayor",
   "metadata": {
    "execution": {
     "iopub.execute_input": "2021-03-25T15:10:25.324415Z",
     "iopub.status.busy": "2021-03-25T15:10:25.323685Z",
     "iopub.status.idle": "2021-03-25T15:10:25.579382Z",
     "shell.execute_reply": "2021-03-25T15:10:25.577833Z"
    }
   },
   "outputs": [
    {
     "data": {
      "image/svg+xml": [
       "<?xml version=\"1.0\" encoding=\"UTF-8\" standalone=\"no\"?><svg xmlns=\"http://www.w3.org/2000/svg\" xmlns:xlink=\"http://www.w3.org/1999/xlink\" contentScriptType=\"application/ecmascript\" contentStyleType=\"text/css\" height=\"720px\" preserveAspectRatio=\"none\" style=\"width:254px;height:720px;\" version=\"1.1\" viewBox=\"0 0 254 720\" width=\"254px\" zoomAndPan=\"magnify\"><defs><filter height=\"300%\" id=\"f3a5crcpuxhlz\" width=\"300%\" x=\"-1\" y=\"-1\"><feGaussianBlur result=\"blurOut\" stdDeviation=\"2.0\"/><feColorMatrix in=\"blurOut\" result=\"blurOut2\" type=\"matrix\" values=\"0 0 0 0 0 0 0 0 0 0 0 0 0 0 0 0 0 0 .4 0\"/><feOffset dx=\"4.0\" dy=\"4.0\" in=\"blurOut2\" result=\"blurOut3\"/><feBlend in=\"SourceGraphic\" in2=\"blurOut3\" mode=\"normal\"/></filter></defs><g><!--MD5=[fbc87193dbaf4d95561dea2c320d4a47]\n",
       "cluster E1--><a href=\"psysml:ffb2e2dc-9c37-4787-be7c-ae8a88a6d943\" target=\"_top\" title=\"psysml:ffb2e2dc-9c37-4787-be7c-ae8a88a6d943\" xlink:actuate=\"onRequest\" xlink:href=\"psysml:ffb2e2dc-9c37-4787-be7c-ae8a88a6d943\" xlink:show=\"new\" xlink:title=\"psysml:ffb2e2dc-9c37-4787-be7c-ae8a88a6d943\" xlink:type=\"simple\"><polygon fill=\"#FFFFFF\" filter=\"url(#f3a5crcpuxhlz)\" points=\"16,6,91,6,98,28.2969,232,28.2969,232,708,16,708,16,6\" style=\"stroke: #000000; stroke-width: 1.5;\"/><line style=\"stroke: #000000; stroke-width: 1.5;\" x1=\"16\" x2=\"98\" y1=\"28.2969\" y2=\"28.2969\"/><text fill=\"#000000\" font-family=\"sans-serif\" font-size=\"14\" font-weight=\"bold\" lengthAdjust=\"spacingAndGlyphs\" textLength=\"69\" x=\"20\" y=\"20.9951\">ItemTest</text></a><!--MD5=[b4997ac47864f28c2f74865a473b2911]\n",
       "class E2--><a href=\"psysml:cf4d7795-98ee-4d9f-9cbf-a98072608f6d\" target=\"_top\" title=\"psysml:cf4d7795-98ee-4d9f-9cbf-a98072608f6d\" xlink:actuate=\"onRequest\" xlink:href=\"psysml:cf4d7795-98ee-4d9f-9cbf-a98072608f6d\" xlink:show=\"new\" xlink:title=\"psysml:cf4d7795-98ee-4d9f-9cbf-a98072608f6d\" xlink:type=\"simple\"><rect fill=\"#FEFECE\" filter=\"url(#f3a5crcpuxhlz)\" height=\"40\" id=\"E2\" rx=\"10\" ry=\"10\" style=\"stroke: #A80036; stroke-width: 1.5;\" width=\"52\" x=\"159\" y=\"65\"/><ellipse cx=\"174\" cy=\"81\" fill=\"#32CD32\" rx=\"11\" ry=\"11\" style=\"stroke: #A80036; stroke-width: 1.0;\"/><path d=\"M173.7969,76.6719 L173.7969,80.2969 L174.7969,80.2969 Q176,80.2969 176.4844,79.8906 Q176.9688,79.4844 176.9688,78.4844 Q176.9688,77.4844 176.4844,77.0781 Q176,76.6719 174.7969,76.6719 L173.7969,76.6719 Z M171.3438,74.6094 L174.7031,74.6094 Q177.2656,74.6094 178.3906,75.5313 Q179.5156,76.4375 179.5156,78.4844 Q179.5156,80.5313 178.3906,81.4531 Q177.2656,82.3594 174.7031,82.3594 L173.7969,82.3594 L173.7969,87 L171.3438,87 L171.3438,74.6094 Z \"/><text fill=\"#000000\" font-family=\"sans-serif\" font-size=\"12\" lengthAdjust=\"spacingAndGlyphs\" textLength=\"20\" x=\"188\" y=\"85.1543\">f: A</text><line style=\"stroke: #A80036; stroke-width: 1.5;\" x1=\"160\" x2=\"210\" y1=\"97\" y2=\"97\"/></a><!--MD5=[09b614a08d8cba4a07c9adeb5e0fee81]\n",
       "class E3--><a href=\"psysml:be14fc81-3f83-42fd-a525-71826c91787f\" target=\"_top\" title=\"psysml:be14fc81-3f83-42fd-a525-71826c91787f\" xlink:actuate=\"onRequest\" xlink:href=\"psysml:be14fc81-3f83-42fd-a525-71826c91787f\" xlink:show=\"new\" xlink:title=\"psysml:be14fc81-3f83-42fd-a525-71826c91787f\" xlink:type=\"simple\"><rect fill=\"#FEFECE\" filter=\"url(#f3a5crcpuxhlz)\" height=\"69.6094\" id=\"E3\" style=\"stroke: #A80036; stroke-width: 1.5;\" width=\"40\" x=\"154\" y=\"190\"/><ellipse cx=\"169\" cy=\"206\" fill=\"#008000\" rx=\"11\" ry=\"11\" style=\"stroke: #A80036; stroke-width: 1.0;\"/><path d=\"M167.9063,206.375 L167.9063,210.0469 L169.5313,210.0469 Q170.7031,210.0469 171.1719,209.6563 Q171.6406,209.25 171.6406,208.25 Q171.6406,207.25 171.1406,206.8125 Q170.6563,206.375 169.5313,206.375 L167.9063,206.375 Z M167.9063,201.5469 L167.9063,204.4219 L169.5313,204.4219 Q170.4531,204.4219 170.8438,204.0938 Q171.25,203.75 171.25,203 Q171.25,202.2344 170.8438,201.8906 Q170.4375,201.5469 169.5313,201.5469 L167.9063,201.5469 Z M165.5313,199.5938 L169.5313,199.5938 Q171.5938,199.5938 172.6406,200.375 Q173.6875,201.1563 173.6875,202.7188 Q173.6875,203.9219 173.0625,204.5938 Q172.4531,205.2656 171.2656,205.375 Q172.6875,205.5156 173.4063,206.3281 Q174.125,207.1406 174.125,208.5938 Q174.125,210.3906 173.0469,211.2031 Q171.9688,212 169.5313,212 L165.5313,212 L165.5313,199.5938 Z \"/><text fill=\"#000000\" font-family=\"sans-serif\" font-size=\"12\" lengthAdjust=\"spacingAndGlyphs\" textLength=\"8\" x=\"183\" y=\"210.1543\">A</text><line style=\"stroke: #A80036; stroke-width: 1.5;\" x1=\"155\" x2=\"193\" y1=\"222\" y2=\"222\"/><text fill=\"#000000\" font-family=\"sans-serif\" font-size=\"11\" lengthAdjust=\"spacingAndGlyphs\" textLength=\"23\" x=\"160\" y=\"253.0151\">b: B</text><line style=\"stroke: #A80036; stroke-width: 1.0;\" x1=\"155\" x2=\"158\" y1=\"236.4023\" y2=\"236.4023\"/><text fill=\"#000000\" font-family=\"sans-serif\" font-size=\"11\" lengthAdjust=\"spacingAndGlyphs\" textLength=\"32\" x=\"158\" y=\"239.7104\">items</text><line style=\"stroke: #A80036; stroke-width: 1.0;\" x1=\"190\" x2=\"193\" y1=\"236.4023\" y2=\"236.4023\"/></a><!--MD5=[270fce915f116d4de14055a7c1d9a0f3]\n",
       "class E5--><a href=\"psysml:77af57f1-340c-421d-9a30-1a49108711b3\" target=\"_top\" title=\"psysml:77af57f1-340c-421d-9a30-1a49108711b3\" xlink:actuate=\"onRequest\" xlink:href=\"psysml:77af57f1-340c-421d-9a30-1a49108711b3\" xlink:show=\"new\" xlink:title=\"psysml:77af57f1-340c-421d-9a30-1a49108711b3\" xlink:type=\"simple\"><rect fill=\"#FEFECE\" filter=\"url(#f3a5crcpuxhlz)\" height=\"45.9375\" id=\"E5\" rx=\"10\" ry=\"10\" style=\"stroke: #A80036; stroke-width: 1.5;\" width=\"68\" x=\"32\" y=\"321\"/><ellipse cx=\"47\" cy=\"339.9688\" fill=\"#32CD32\" rx=\"11\" ry=\"11\" style=\"stroke: #A80036; stroke-width: 1.0;\"/><path d=\"M46.7969,335.6406 L46.7969,339.2656 L47.7969,339.2656 Q49,339.2656 49.4844,338.8594 Q49.9688,338.4531 49.9688,337.4531 Q49.9688,336.4531 49.4844,336.0469 Q49,335.6406 47.7969,335.6406 L46.7969,335.6406 Z M44.3438,333.5781 L47.7031,333.5781 Q50.2656,333.5781 51.3906,334.5 Q52.5156,335.4063 52.5156,337.4531 Q52.5156,339.5 51.3906,340.4219 Q50.2656,341.3281 47.7031,341.3281 L46.7969,341.3281 L46.7969,345.9688 L44.3438,345.9688 L44.3438,333.5781 Z \"/><text fill=\"#000000\" font-family=\"sans-serif\" font-size=\"12\" font-style=\"italic\" lengthAdjust=\"spacingAndGlyphs\" textLength=\"40\" x=\"59\" y=\"337.1387\">«part»</text><text fill=\"#000000\" font-family=\"sans-serif\" font-size=\"12\" lengthAdjust=\"spacingAndGlyphs\" textLength=\"23\" x=\"67.5\" y=\"351.1074\">c: C</text><line style=\"stroke: #A80036; stroke-width: 1.5;\" x1=\"33\" x2=\"99\" y1=\"358.9375\" y2=\"358.9375\"/></a><!--MD5=[60a26617385b1d2d0262a64233df1f8d]\n",
       "class E6--><a href=\"psysml:41f55b44-de87-42d8-a9cd-035ede31bd10\" target=\"_top\" title=\"psysml:41f55b44-de87-42d8-a9cd-035ede31bd10\" xlink:actuate=\"onRequest\" xlink:href=\"psysml:41f55b44-de87-42d8-a9cd-035ede31bd10\" xlink:show=\"new\" xlink:title=\"psysml:41f55b44-de87-42d8-a9cd-035ede31bd10\" xlink:type=\"simple\"><rect fill=\"#FEFECE\" filter=\"url(#f3a5crcpuxhlz)\" height=\"40\" id=\"E6\" style=\"stroke: #A80036; stroke-width: 1.5;\" width=\"40\" x=\"139\" y=\"545\"/><ellipse cx=\"154\" cy=\"561\" fill=\"#008000\" rx=\"11\" ry=\"11\" style=\"stroke: #A80036; stroke-width: 1.0;\"/><path d=\"M152.9063,561.375 L152.9063,565.0469 L154.5313,565.0469 Q155.7031,565.0469 156.1719,564.6563 Q156.6406,564.25 156.6406,563.25 Q156.6406,562.25 156.1406,561.8125 Q155.6563,561.375 154.5313,561.375 L152.9063,561.375 Z M152.9063,556.5469 L152.9063,559.4219 L154.5313,559.4219 Q155.4531,559.4219 155.8438,559.0938 Q156.25,558.75 156.25,558 Q156.25,557.2344 155.8438,556.8906 Q155.4375,556.5469 154.5313,556.5469 L152.9063,556.5469 Z M150.5313,554.5938 L154.5313,554.5938 Q156.5938,554.5938 157.6406,555.375 Q158.6875,556.1563 158.6875,557.7188 Q158.6875,558.9219 158.0625,559.5938 Q157.4531,560.2656 156.2656,560.375 Q157.6875,560.5156 158.4063,561.3281 Q159.125,562.1406 159.125,563.5938 Q159.125,565.3906 158.0469,566.2031 Q156.9688,567 154.5313,567 L150.5313,567 L150.5313,554.5938 Z \"/><text fill=\"#000000\" font-family=\"sans-serif\" font-size=\"12\" lengthAdjust=\"spacingAndGlyphs\" textLength=\"8\" x=\"168\" y=\"565.1543\">B</text><line style=\"stroke: #A80036; stroke-width: 1.5;\" x1=\"140\" x2=\"178\" y1=\"577\" y2=\"577\"/></a><!--MD5=[2156ba9850f5573cc1fc38a6a4b2f02b]\n",
       "class E7--><a href=\"psysml:4ca48e5a-78fa-40b6-ad88-229f08c03677\" target=\"_top\" title=\"psysml:4ca48e5a-78fa-40b6-ad88-229f08c03677\" xlink:actuate=\"onRequest\" xlink:href=\"psysml:4ca48e5a-78fa-40b6-ad88-229f08c03677\" xlink:show=\"new\" xlink:title=\"psysml:4ca48e5a-78fa-40b6-ad88-229f08c03677\" xlink:type=\"simple\"><rect fill=\"#FEFECE\" filter=\"url(#f3a5crcpuxhlz)\" height=\"45.9375\" id=\"E7\" rx=\"10\" ry=\"10\" style=\"stroke: #A80036; stroke-width: 1.5;\" width=\"68\" x=\"137\" y=\"646\"/><ellipse cx=\"152\" cy=\"664.9688\" fill=\"#32CD32\" rx=\"11\" ry=\"11\" style=\"stroke: #A80036; stroke-width: 1.0;\"/><path d=\"M151.7969,660.6406 L151.7969,664.2656 L152.7969,664.2656 Q154,664.2656 154.4844,663.8594 Q154.9688,663.4531 154.9688,662.4531 Q154.9688,661.4531 154.4844,661.0469 Q154,660.6406 152.7969,660.6406 L151.7969,660.6406 Z M149.3438,658.5781 L152.7031,658.5781 Q155.2656,658.5781 156.3906,659.5 Q157.5156,660.4063 157.5156,662.4531 Q157.5156,664.5 156.3906,665.4219 Q155.2656,666.3281 152.7031,666.3281 L151.7969,666.3281 L151.7969,670.9688 L149.3438,670.9688 L149.3438,658.5781 Z \"/><text fill=\"#000000\" font-family=\"sans-serif\" font-size=\"12\" font-style=\"italic\" lengthAdjust=\"spacingAndGlyphs\" textLength=\"40\" x=\"164\" y=\"662.1387\">«part»</text><text fill=\"#000000\" font-family=\"sans-serif\" font-size=\"12\" lengthAdjust=\"spacingAndGlyphs\" textLength=\"24\" x=\"172\" y=\"676.1074\">a: A</text><line style=\"stroke: #A80036; stroke-width: 1.5;\" x1=\"138\" x2=\"204\" y1=\"683.9375\" y2=\"683.9375\"/></a><!--MD5=[b9389687b975829384b498ac4b7476b2]\n",
       "class E8--><a href=\"psysml:e612b3f8-fad7-4b05-bdfc-52877d32f7f2\" target=\"_top\" title=\"psysml:e612b3f8-fad7-4b05-bdfc-52877d32f7f2\" xlink:actuate=\"onRequest\" xlink:href=\"psysml:e612b3f8-fad7-4b05-bdfc-52877d32f7f2\" xlink:show=\"new\" xlink:title=\"psysml:e612b3f8-fad7-4b05-bdfc-52877d32f7f2\" xlink:type=\"simple\"><rect fill=\"#FEFECE\" filter=\"url(#f3a5crcpuxhlz)\" height=\"40\" id=\"E8\" style=\"stroke: #A80036; stroke-width: 1.5;\" width=\"40\" x=\"139\" y=\"428\"/><ellipse cx=\"154\" cy=\"444\" fill=\"#008000\" rx=\"11\" ry=\"11\" style=\"stroke: #A80036; stroke-width: 1.0;\"/><path d=\"M152.9063,444.375 L152.9063,448.0469 L154.5313,448.0469 Q155.7031,448.0469 156.1719,447.6563 Q156.6406,447.25 156.6406,446.25 Q156.6406,445.25 156.1406,444.8125 Q155.6563,444.375 154.5313,444.375 L152.9063,444.375 Z M152.9063,439.5469 L152.9063,442.4219 L154.5313,442.4219 Q155.4531,442.4219 155.8438,442.0938 Q156.25,441.75 156.25,441 Q156.25,440.2344 155.8438,439.8906 Q155.4375,439.5469 154.5313,439.5469 L152.9063,439.5469 Z M150.5313,437.5938 L154.5313,437.5938 Q156.5938,437.5938 157.6406,438.375 Q158.6875,439.1563 158.6875,440.7188 Q158.6875,441.9219 158.0625,442.5938 Q157.4531,443.2656 156.2656,443.375 Q157.6875,443.5156 158.4063,444.3281 Q159.125,445.1406 159.125,446.5938 Q159.125,448.3906 158.0469,449.2031 Q156.9688,450 154.5313,450 L150.5313,450 L150.5313,437.5938 Z \"/><text fill=\"#000000\" font-family=\"sans-serif\" font-size=\"12\" lengthAdjust=\"spacingAndGlyphs\" textLength=\"8\" x=\"168\" y=\"448.1543\">C</text><line style=\"stroke: #A80036; stroke-width: 1.5;\" x1=\"140\" x2=\"178\" y1=\"460\" y2=\"460\"/></a><!--MD5=[fd4143e9d270a159db93a4ea2a975926]\n",
       "class E9--><a href=\"psysml:b51b1cf2-e677-402d-bf05-bb2fae798694\" target=\"_top\" title=\"psysml:b51b1cf2-e677-402d-bf05-bb2fae798694\" xlink:actuate=\"onRequest\" xlink:href=\"psysml:b51b1cf2-e677-402d-bf05-bb2fae798694\" xlink:show=\"new\" xlink:title=\"psysml:b51b1cf2-e677-402d-bf05-bb2fae798694\" xlink:type=\"simple\"><rect fill=\"#FEFECE\" filter=\"url(#f3a5crcpuxhlz)\" height=\"88.3516\" id=\"E9\" style=\"stroke: #A80036; stroke-width: 1.5;\" width=\"92\" x=\"32\" y=\"41\"/><ellipse cx=\"47\" cy=\"59.9688\" fill=\"#A52A2A\" rx=\"11\" ry=\"11\" style=\"stroke: #A80036; stroke-width: 1.0;\"/><path d=\"M46.5938,55.7813 L46.5938,63.7656 L47.25,63.7656 Q48.6875,63.7656 49.2969,62.8594 Q49.9219,61.9375 49.9219,59.7656 Q49.9219,57.5938 49.2969,56.6875 Q48.6875,55.7813 47.25,55.7813 L46.5938,55.7813 Z M44.1406,53.5781 L46.7656,53.5781 Q49.7969,53.5781 51.125,55.0313 Q52.4688,56.4688 52.4688,59.7656 Q52.4688,63.0625 51.125,64.5156 Q49.7969,65.9688 46.7656,65.9688 L44.1406,65.9688 L44.1406,53.5781 Z \"/><text fill=\"#000000\" font-family=\"sans-serif\" font-size=\"12\" font-style=\"italic\" lengthAdjust=\"spacingAndGlyphs\" textLength=\"64\" x=\"59\" y=\"57.1387\">«port def»</text><text fill=\"#000000\" font-family=\"sans-serif\" font-size=\"12\" lengthAdjust=\"spacingAndGlyphs\" textLength=\"8\" x=\"87\" y=\"71.1074\">P</text><line style=\"stroke: #A80036; stroke-width: 1.5;\" x1=\"33\" x2=\"123\" y1=\"78.9375\" y2=\"78.9375\"/><text fill=\"#000000\" font-family=\"sans-serif\" font-size=\"11\" lengthAdjust=\"spacingAndGlyphs\" textLength=\"29\" x=\"38\" y=\"109.9526\">a1: A</text><text fill=\"#000000\" font-family=\"sans-serif\" font-size=\"11\" lengthAdjust=\"spacingAndGlyphs\" textLength=\"29\" x=\"38\" y=\"122.7573\">a2: A</text><line style=\"stroke: #A80036; stroke-width: 1.0;\" x1=\"33\" x2=\"62\" y1=\"93.3398\" y2=\"93.3398\"/><text fill=\"#000000\" font-family=\"sans-serif\" font-size=\"11\" lengthAdjust=\"spacingAndGlyphs\" textLength=\"32\" x=\"62\" y=\"96.6479\">items</text><line style=\"stroke: #A80036; stroke-width: 1.0;\" x1=\"94\" x2=\"123\" y1=\"93.3398\" y2=\"93.3398\"/></a><!--MD5=[2720a5a1f2c3fca2055b230370638851]\n",
       "link E2 to E3--><a href=\"psysml:5c778f2f-9d99-44f7-9cbe-495e6850b493\" target=\"_top\" title=\"psysml:5c778f2f-9d99-44f7-9cbe-495e6850b493\" xlink:actuate=\"onRequest\" xlink:href=\"psysml:5c778f2f-9d99-44f7-9cbe-495e6850b493\" xlink:show=\"new\" xlink:title=\"psysml:5c778f2f-9d99-44f7-9cbe-495e6850b493\" xlink:type=\"simple\"><path d=\"M183.47,105.19 C182.14,121.92 180.14,147.01 178.32,169.82 \" fill=\"none\" id=\"E2-&gt;E3\" style=\"stroke: #A80036; stroke-width: 1.0;\"/><polygon fill=\"#FFFFFF\" points=\"176.72,189.84,171.2619,170.341,185.2171,171.4607,176.72,189.84\" style=\"stroke: #A80036; stroke-width: 1.0;\"/><ellipse cx=\"173.7113\" cy=\"164.8193\" fill=\"#A80036\" rx=\"2\" ry=\"2\" style=\"stroke: #A80036; stroke-width: 1.0;\"/><ellipse cx=\"183.6793\" cy=\"165.619\" fill=\"#A80036\" rx=\"2\" ry=\"2\" style=\"stroke: #A80036; stroke-width: 1.0;\"/></a><!--MD5=[191cde3d490a3f6d7bb551fe3ddca469]\n",
       "reverse link E3 to E5--><a href=\"psysml:77af57f1-340c-421d-9a30-1a49108711b3\" target=\"_top\" title=\"psysml:77af57f1-340c-421d-9a30-1a49108711b3\" xlink:actuate=\"onRequest\" xlink:href=\"psysml:77af57f1-340c-421d-9a30-1a49108711b3\" xlink:show=\"new\" xlink:title=\"psysml:77af57f1-340c-421d-9a30-1a49108711b3\" xlink:type=\"simple\"><path d=\"M145.03,257.38 C126.49,277.47 102.88,303.04 86.32,320.99 \" fill=\"none\" id=\"E3&lt;-E5\" style=\"stroke: #A80036; stroke-width: 1.0;\"/><polygon fill=\"#FFFFFF\" points=\"153.94,247.73,146.9306,249.4235,145.7979,256.5451,152.8073,254.8516,153.94,247.73\" style=\"stroke: #A80036; stroke-width: 1.0;\"/></a><!--MD5=[14ccda38c055a5c0da953d572bc50960]\n",
       "link E7 to E3--><a href=\"psysml:8bb447da-4a21-4000-9a04-f9f9c4ed48f1\" target=\"_top\" title=\"psysml:8bb447da-4a21-4000-9a04-f9f9c4ed48f1\" xlink:actuate=\"onRequest\" xlink:href=\"psysml:8bb447da-4a21-4000-9a04-f9f9c4ed48f1\" xlink:show=\"new\" xlink:title=\"psysml:8bb447da-4a21-4000-9a04-f9f9c4ed48f1\" xlink:type=\"simple\"><path d=\"M186.89,645.69 C199.49,625.78 215,595.31 215,566 C215,343 215,343 215,343 C215,321.21 208.59,298.35 200.83,278.68 \" fill=\"none\" id=\"E7-&gt;E3\" style=\"stroke: #A80036; stroke-width: 1.0;\"/><polygon fill=\"#FFFFFF\" points=\"192.82,260.23,206.8032,274.8748,193.9596,280.4464,192.82,260.23\" style=\"stroke: #A80036; stroke-width: 1.0;\"/><ellipse cx=\"207.2368\" cy=\"280.8999\" fill=\"#A80036\" rx=\"2\" ry=\"2\" style=\"stroke: #A80036; stroke-width: 1.0;\"/><ellipse cx=\"198.0628\" cy=\"284.8796\" fill=\"#A80036\" rx=\"2\" ry=\"2\" style=\"stroke: #A80036; stroke-width: 1.0;\"/></a><!--MD5=[3f50a3473f1dfb74d3f76443e03635af]\n",
       "reverse link E6 to E7--><a href=\"psysml:4ca48e5a-78fa-40b6-ad88-229f08c03677\" target=\"_top\" title=\"psysml:4ca48e5a-78fa-40b6-ad88-229f08c03677\" xlink:actuate=\"onRequest\" xlink:href=\"psysml:4ca48e5a-78fa-40b6-ad88-229f08c03677\" xlink:show=\"new\" xlink:title=\"psysml:4ca48e5a-78fa-40b6-ad88-229f08c03677\" xlink:type=\"simple\"><path d=\"M162.81,598.41 C164.63,613.82 166.75,631.86 168.38,645.7 \" fill=\"none\" id=\"E6&lt;-E7\" style=\"stroke: #A80036; stroke-width: 1.0;\"/><polygon fill=\"#A80036\" points=\"161.26,585.19,157.9938,591.619,162.672,597.1066,165.9382,590.6776,161.26,585.19\" style=\"stroke: #A80036; stroke-width: 1.0;\"/></a><!--MD5=[dfaffb906826c3e5aca635516100ff21]\n",
       "link E5 to E8--><a href=\"psysml:6ff88c17-8c2d-42a4-af32-a2455d6f0acf\" target=\"_top\" title=\"psysml:6ff88c17-8c2d-42a4-af32-a2455d6f0acf\" xlink:actuate=\"onRequest\" xlink:href=\"psysml:6ff88c17-8c2d-42a4-af32-a2455d6f0acf\" xlink:show=\"new\" xlink:title=\"psysml:6ff88c17-8c2d-42a4-af32-a2455d6f0acf\" xlink:type=\"simple\"><path d=\"M86.18,367.13 C98.34,380.47 114.08,397.74 127.82,412.8 \" fill=\"none\" id=\"E5-&gt;E8\" style=\"stroke: #A80036; stroke-width: 1.0;\"/><polygon fill=\"#FFFFFF\" points=\"141.67,428,123.6993,418.6697,134.0481,409.2408,141.67,428\" style=\"stroke: #A80036; stroke-width: 1.0;\"/><ellipse cx=\"121.3388\" cy=\"413.1093\" fill=\"#A80036\" rx=\"2\" ry=\"2\" style=\"stroke: #A80036; stroke-width: 1.0;\"/><ellipse cx=\"128.7308\" cy=\"406.3744\" fill=\"#A80036\" rx=\"2\" ry=\"2\" style=\"stroke: #A80036; stroke-width: 1.0;\"/></a><!--MD5=[03c8294790d3c57651a1993cecff665f]\n",
       "reverse link E8 to E3--><a href=\"psysml:83dfbdb9-73af-4dff-b5ad-52a21a738594\" target=\"_top\" title=\"psysml:83dfbdb9-73af-4dff-b5ad-52a21a738594\" xlink:actuate=\"onRequest\" xlink:href=\"psysml:83dfbdb9-73af-4dff-b5ad-52a21a738594\" xlink:show=\"new\" xlink:title=\"psysml:83dfbdb9-73af-4dff-b5ad-52a21a738594\" xlink:type=\"simple\"><path d=\"M161.17,414.97 C163.97,373.71 168.82,302.27 171.69,260.05 \" fill=\"none\" id=\"E8&lt;-E3\" style=\"stroke: #A80036; stroke-width: 1.0;\"/><polygon fill=\"#FFFFFF\" points=\"160.29,427.97,164.6894,422.2564,161.1075,415.9979,156.708,421.7114,160.29,427.97\" style=\"stroke: #A80036; stroke-width: 1.0;\"/><text fill=\"#000000\" font-family=\"sans-serif\" font-size=\"13\" lengthAdjust=\"spacingAndGlyphs\" textLength=\"7\" x=\"168\" y=\"348.5669\">y</text></a><!--MD5=[0d75d2178373a6a4568e5dc728f58aef]\n",
       "reverse link E8 to E6--><a href=\"psysml:83dfbdb9-73af-4dff-b5ad-52a21a738594\" target=\"_top\" title=\"psysml:83dfbdb9-73af-4dff-b5ad-52a21a738594\" xlink:actuate=\"onRequest\" xlink:href=\"psysml:83dfbdb9-73af-4dff-b5ad-52a21a738594\" xlink:show=\"new\" xlink:title=\"psysml:83dfbdb9-73af-4dff-b5ad-52a21a738594\" xlink:type=\"simple\"><path d=\"M159,481.36 C159,501.76 159,527.42 159,544.69 \" fill=\"none\" id=\"E8&lt;-E6\" style=\"stroke: #A80036; stroke-width: 1.0;\"/><polygon fill=\"#FFFFFF\" points=\"159,468.25,155,474.25,159,480.25,163,474.25,159,468.25\" style=\"stroke: #A80036; stroke-width: 1.0;\"/><text fill=\"#000000\" font-family=\"sans-serif\" font-size=\"13\" lengthAdjust=\"spacingAndGlyphs\" textLength=\"7\" x=\"160\" y=\"511.0669\">y</text></a><!--MD5=[d8820d5aacd6da8c975b616eb20960fe]\n",
       "@startuml\r\n",
       " \r\n",
       "package \"ItemTest\" as E1  [[psysml:ffb2e2dc-9c37-4787-be7c-ae8a88a6d943 ]]  {\r\n",
       "comp usage \"f: A\" as E2  << (P,limegreen) >> [[psysml:cf4d7795-98ee-4d9f-9cbf-a98072608f6d ]] {\r\n",
       "}\r\n",
       "comp def \"A\" as E3  << (B,green) >> [[psysml:be14fc81-3f83-42fd-a525-71826c91787f ]] {\r\n",
       "- - items - -\r\n",
       "b: B\r\n",
       "}\r\n",
       "comp usage \"c: C\" as E5  << (P,limegreen) part>> [[psysml:77af57f1-340c-421d-9a30-1a49108711b3 ]] {\r\n",
       "}\r\n",
       "comp def \"B\" as E6  << (B,green) >> [[psysml:41f55b44-de87-42d8-a9cd-035ede31bd10 ]] {\r\n",
       "}\r\n",
       "comp usage \"a: A\" as E7  << (P,limegreen) part>> [[psysml:4ca48e5a-78fa-40b6-ad88-229f08c03677 ]] {\r\n",
       "}\r\n",
       "comp def \"C\" as E8  << (B,green) >> [[psysml:e612b3f8-fad7-4b05-bdfc-52877d32f7f2 ]] {\r\n",
       "}\r\n",
       "comp def \"P\" as E9  <<(D,brown)port def>> [[psysml:b51b1cf2-e677-402d-bf05-bb2fae798694 ]] {\r\n",
       "- - items - -\r\n",
       "a1: A\r\n",
       "a2: A\r\n",
       "}\r\n",
       "E2 - -:|> E3 [[psysml:5c778f2f-9d99-44f7-9cbe-495e6850b493 ]] \r\n",
       "E3 o- - E5 [[psysml:77af57f1-340c-421d-9a30-1a49108711b3 ]] \r\n",
       "E7 - -:|> E3 [[psysml:8bb447da-4a21-4000-9a04-f9f9c4ed48f1 ]] \r\n",
       "E6 *- - E7 [[psysml:4ca48e5a-78fa-40b6-ad88-229f08c03677 ]] \r\n",
       "E5 - -:|> E8 [[psysml:6ff88c17-8c2d-42a4-af32-a2455d6f0acf ]] \r\n",
       "E8 o- - E3 [[psysml:83dfbdb9-73af-4dff-b5ad-52a21a738594 ]] : y\r\n",
       "E8 o- - E6 [[psysml:83dfbdb9-73af-4dff-b5ad-52a21a738594 ]] : y\r\n",
       "}\r\n",
       "@enduml\r\n",
       "\n",
       "PlantUML version 1.2020.13(Sat Jun 13 12:26:38 UTC 2020)\n",
       "(EPL source distribution)\n",
       "Java Runtime: OpenJDK Runtime Environment\n",
       "JVM: OpenJDK 64-Bit Server VM\n",
       "Default Encoding: UTF-8\n",
       "Language: en\n",
       "Country: null\n",
       "--></g></svg>"
      ]
     },
     "execution_count": 35,
     "metadata": {},
     "output_type": "execute_result"
    }
   ],
   "source": [
    "%viz --style=\"PLANTUML\" --view=\"Sequence\" \"ItemTest\""
   ]
  },
  {
   "cell_type": "code",
   "execution_count": 36,
   "id": "sacred-wayne",
   "metadata": {
    "execution": {
     "iopub.execute_input": "2021-03-25T15:10:25.631708Z",
     "iopub.status.busy": "2021-03-25T15:10:25.631065Z",
     "iopub.status.idle": "2021-03-25T15:10:25.918585Z",
     "shell.execute_reply": "2021-03-25T15:10:25.918226Z"
    }
   },
   "outputs": [
    {
     "data": {
      "image/svg+xml": [
       "<?xml version=\"1.0\" encoding=\"UTF-8\" standalone=\"no\"?><svg xmlns=\"http://www.w3.org/2000/svg\" xmlns:xlink=\"http://www.w3.org/1999/xlink\" contentScriptType=\"application/ecmascript\" contentStyleType=\"text/css\" height=\"720px\" preserveAspectRatio=\"none\" style=\"width:254px;height:720px;\" version=\"1.1\" viewBox=\"0 0 254 720\" width=\"254px\" zoomAndPan=\"magnify\"><defs><filter height=\"300%\" id=\"f3a5crcpuxhlz\" width=\"300%\" x=\"-1\" y=\"-1\"><feGaussianBlur result=\"blurOut\" stdDeviation=\"2.0\"/><feColorMatrix in=\"blurOut\" result=\"blurOut2\" type=\"matrix\" values=\"0 0 0 0 0 0 0 0 0 0 0 0 0 0 0 0 0 0 .4 0\"/><feOffset dx=\"4.0\" dy=\"4.0\" in=\"blurOut2\" result=\"blurOut3\"/><feBlend in=\"SourceGraphic\" in2=\"blurOut3\" mode=\"normal\"/></filter></defs><g><!--MD5=[fbc87193dbaf4d95561dea2c320d4a47]\n",
       "cluster E1--><a href=\"psysml:ffb2e2dc-9c37-4787-be7c-ae8a88a6d943\" target=\"_top\" title=\"psysml:ffb2e2dc-9c37-4787-be7c-ae8a88a6d943\" xlink:actuate=\"onRequest\" xlink:href=\"psysml:ffb2e2dc-9c37-4787-be7c-ae8a88a6d943\" xlink:show=\"new\" xlink:title=\"psysml:ffb2e2dc-9c37-4787-be7c-ae8a88a6d943\" xlink:type=\"simple\"><polygon fill=\"#FFFFFF\" filter=\"url(#f3a5crcpuxhlz)\" points=\"16,6,91,6,98,28.2969,232,28.2969,232,708,16,708,16,6\" style=\"stroke: #000000; stroke-width: 1.5;\"/><line style=\"stroke: #000000; stroke-width: 1.5;\" x1=\"16\" x2=\"98\" y1=\"28.2969\" y2=\"28.2969\"/><text fill=\"#000000\" font-family=\"sans-serif\" font-size=\"14\" font-weight=\"bold\" lengthAdjust=\"spacingAndGlyphs\" textLength=\"69\" x=\"20\" y=\"20.9951\">ItemTest</text></a><!--MD5=[b4997ac47864f28c2f74865a473b2911]\n",
       "class E2--><a href=\"psysml:cf4d7795-98ee-4d9f-9cbf-a98072608f6d\" target=\"_top\" title=\"psysml:cf4d7795-98ee-4d9f-9cbf-a98072608f6d\" xlink:actuate=\"onRequest\" xlink:href=\"psysml:cf4d7795-98ee-4d9f-9cbf-a98072608f6d\" xlink:show=\"new\" xlink:title=\"psysml:cf4d7795-98ee-4d9f-9cbf-a98072608f6d\" xlink:type=\"simple\"><rect fill=\"#FEFECE\" filter=\"url(#f3a5crcpuxhlz)\" height=\"40\" id=\"E2\" rx=\"10\" ry=\"10\" style=\"stroke: #A80036; stroke-width: 1.5;\" width=\"52\" x=\"159\" y=\"65\"/><ellipse cx=\"174\" cy=\"81\" fill=\"#32CD32\" rx=\"11\" ry=\"11\" style=\"stroke: #A80036; stroke-width: 1.0;\"/><path d=\"M173.7969,76.6719 L173.7969,80.2969 L174.7969,80.2969 Q176,80.2969 176.4844,79.8906 Q176.9688,79.4844 176.9688,78.4844 Q176.9688,77.4844 176.4844,77.0781 Q176,76.6719 174.7969,76.6719 L173.7969,76.6719 Z M171.3438,74.6094 L174.7031,74.6094 Q177.2656,74.6094 178.3906,75.5313 Q179.5156,76.4375 179.5156,78.4844 Q179.5156,80.5313 178.3906,81.4531 Q177.2656,82.3594 174.7031,82.3594 L173.7969,82.3594 L173.7969,87 L171.3438,87 L171.3438,74.6094 Z \"/><text fill=\"#000000\" font-family=\"sans-serif\" font-size=\"12\" lengthAdjust=\"spacingAndGlyphs\" textLength=\"20\" x=\"188\" y=\"85.1543\">f: A</text><line style=\"stroke: #A80036; stroke-width: 1.5;\" x1=\"160\" x2=\"210\" y1=\"97\" y2=\"97\"/></a><!--MD5=[09b614a08d8cba4a07c9adeb5e0fee81]\n",
       "class E3--><a href=\"psysml:be14fc81-3f83-42fd-a525-71826c91787f\" target=\"_top\" title=\"psysml:be14fc81-3f83-42fd-a525-71826c91787f\" xlink:actuate=\"onRequest\" xlink:href=\"psysml:be14fc81-3f83-42fd-a525-71826c91787f\" xlink:show=\"new\" xlink:title=\"psysml:be14fc81-3f83-42fd-a525-71826c91787f\" xlink:type=\"simple\"><rect fill=\"#FEFECE\" filter=\"url(#f3a5crcpuxhlz)\" height=\"69.6094\" id=\"E3\" style=\"stroke: #A80036; stroke-width: 1.5;\" width=\"40\" x=\"154\" y=\"190\"/><ellipse cx=\"169\" cy=\"206\" fill=\"#008000\" rx=\"11\" ry=\"11\" style=\"stroke: #A80036; stroke-width: 1.0;\"/><path d=\"M167.9063,206.375 L167.9063,210.0469 L169.5313,210.0469 Q170.7031,210.0469 171.1719,209.6563 Q171.6406,209.25 171.6406,208.25 Q171.6406,207.25 171.1406,206.8125 Q170.6563,206.375 169.5313,206.375 L167.9063,206.375 Z M167.9063,201.5469 L167.9063,204.4219 L169.5313,204.4219 Q170.4531,204.4219 170.8438,204.0938 Q171.25,203.75 171.25,203 Q171.25,202.2344 170.8438,201.8906 Q170.4375,201.5469 169.5313,201.5469 L167.9063,201.5469 Z M165.5313,199.5938 L169.5313,199.5938 Q171.5938,199.5938 172.6406,200.375 Q173.6875,201.1563 173.6875,202.7188 Q173.6875,203.9219 173.0625,204.5938 Q172.4531,205.2656 171.2656,205.375 Q172.6875,205.5156 173.4063,206.3281 Q174.125,207.1406 174.125,208.5938 Q174.125,210.3906 173.0469,211.2031 Q171.9688,212 169.5313,212 L165.5313,212 L165.5313,199.5938 Z \"/><text fill=\"#000000\" font-family=\"sans-serif\" font-size=\"12\" lengthAdjust=\"spacingAndGlyphs\" textLength=\"8\" x=\"183\" y=\"210.1543\">A</text><line style=\"stroke: #A80036; stroke-width: 1.5;\" x1=\"155\" x2=\"193\" y1=\"222\" y2=\"222\"/><text fill=\"#000000\" font-family=\"sans-serif\" font-size=\"11\" lengthAdjust=\"spacingAndGlyphs\" textLength=\"23\" x=\"160\" y=\"253.0151\">b: B</text><line style=\"stroke: #A80036; stroke-width: 1.0;\" x1=\"155\" x2=\"158\" y1=\"236.4023\" y2=\"236.4023\"/><text fill=\"#000000\" font-family=\"sans-serif\" font-size=\"11\" lengthAdjust=\"spacingAndGlyphs\" textLength=\"32\" x=\"158\" y=\"239.7104\">items</text><line style=\"stroke: #A80036; stroke-width: 1.0;\" x1=\"190\" x2=\"193\" y1=\"236.4023\" y2=\"236.4023\"/></a><!--MD5=[270fce915f116d4de14055a7c1d9a0f3]\n",
       "class E5--><a href=\"psysml:77af57f1-340c-421d-9a30-1a49108711b3\" target=\"_top\" title=\"psysml:77af57f1-340c-421d-9a30-1a49108711b3\" xlink:actuate=\"onRequest\" xlink:href=\"psysml:77af57f1-340c-421d-9a30-1a49108711b3\" xlink:show=\"new\" xlink:title=\"psysml:77af57f1-340c-421d-9a30-1a49108711b3\" xlink:type=\"simple\"><rect fill=\"#FEFECE\" filter=\"url(#f3a5crcpuxhlz)\" height=\"45.9375\" id=\"E5\" rx=\"10\" ry=\"10\" style=\"stroke: #A80036; stroke-width: 1.5;\" width=\"68\" x=\"32\" y=\"321\"/><ellipse cx=\"47\" cy=\"339.9688\" fill=\"#32CD32\" rx=\"11\" ry=\"11\" style=\"stroke: #A80036; stroke-width: 1.0;\"/><path d=\"M46.7969,335.6406 L46.7969,339.2656 L47.7969,339.2656 Q49,339.2656 49.4844,338.8594 Q49.9688,338.4531 49.9688,337.4531 Q49.9688,336.4531 49.4844,336.0469 Q49,335.6406 47.7969,335.6406 L46.7969,335.6406 Z M44.3438,333.5781 L47.7031,333.5781 Q50.2656,333.5781 51.3906,334.5 Q52.5156,335.4063 52.5156,337.4531 Q52.5156,339.5 51.3906,340.4219 Q50.2656,341.3281 47.7031,341.3281 L46.7969,341.3281 L46.7969,345.9688 L44.3438,345.9688 L44.3438,333.5781 Z \"/><text fill=\"#000000\" font-family=\"sans-serif\" font-size=\"12\" font-style=\"italic\" lengthAdjust=\"spacingAndGlyphs\" textLength=\"40\" x=\"59\" y=\"337.1387\">«part»</text><text fill=\"#000000\" font-family=\"sans-serif\" font-size=\"12\" lengthAdjust=\"spacingAndGlyphs\" textLength=\"23\" x=\"67.5\" y=\"351.1074\">c: C</text><line style=\"stroke: #A80036; stroke-width: 1.5;\" x1=\"33\" x2=\"99\" y1=\"358.9375\" y2=\"358.9375\"/></a><!--MD5=[60a26617385b1d2d0262a64233df1f8d]\n",
       "class E6--><a href=\"psysml:41f55b44-de87-42d8-a9cd-035ede31bd10\" target=\"_top\" title=\"psysml:41f55b44-de87-42d8-a9cd-035ede31bd10\" xlink:actuate=\"onRequest\" xlink:href=\"psysml:41f55b44-de87-42d8-a9cd-035ede31bd10\" xlink:show=\"new\" xlink:title=\"psysml:41f55b44-de87-42d8-a9cd-035ede31bd10\" xlink:type=\"simple\"><rect fill=\"#FEFECE\" filter=\"url(#f3a5crcpuxhlz)\" height=\"40\" id=\"E6\" style=\"stroke: #A80036; stroke-width: 1.5;\" width=\"40\" x=\"139\" y=\"545\"/><ellipse cx=\"154\" cy=\"561\" fill=\"#008000\" rx=\"11\" ry=\"11\" style=\"stroke: #A80036; stroke-width: 1.0;\"/><path d=\"M152.9063,561.375 L152.9063,565.0469 L154.5313,565.0469 Q155.7031,565.0469 156.1719,564.6563 Q156.6406,564.25 156.6406,563.25 Q156.6406,562.25 156.1406,561.8125 Q155.6563,561.375 154.5313,561.375 L152.9063,561.375 Z M152.9063,556.5469 L152.9063,559.4219 L154.5313,559.4219 Q155.4531,559.4219 155.8438,559.0938 Q156.25,558.75 156.25,558 Q156.25,557.2344 155.8438,556.8906 Q155.4375,556.5469 154.5313,556.5469 L152.9063,556.5469 Z M150.5313,554.5938 L154.5313,554.5938 Q156.5938,554.5938 157.6406,555.375 Q158.6875,556.1563 158.6875,557.7188 Q158.6875,558.9219 158.0625,559.5938 Q157.4531,560.2656 156.2656,560.375 Q157.6875,560.5156 158.4063,561.3281 Q159.125,562.1406 159.125,563.5938 Q159.125,565.3906 158.0469,566.2031 Q156.9688,567 154.5313,567 L150.5313,567 L150.5313,554.5938 Z \"/><text fill=\"#000000\" font-family=\"sans-serif\" font-size=\"12\" lengthAdjust=\"spacingAndGlyphs\" textLength=\"8\" x=\"168\" y=\"565.1543\">B</text><line style=\"stroke: #A80036; stroke-width: 1.5;\" x1=\"140\" x2=\"178\" y1=\"577\" y2=\"577\"/></a><!--MD5=[2156ba9850f5573cc1fc38a6a4b2f02b]\n",
       "class E7--><a href=\"psysml:4ca48e5a-78fa-40b6-ad88-229f08c03677\" target=\"_top\" title=\"psysml:4ca48e5a-78fa-40b6-ad88-229f08c03677\" xlink:actuate=\"onRequest\" xlink:href=\"psysml:4ca48e5a-78fa-40b6-ad88-229f08c03677\" xlink:show=\"new\" xlink:title=\"psysml:4ca48e5a-78fa-40b6-ad88-229f08c03677\" xlink:type=\"simple\"><rect fill=\"#FEFECE\" filter=\"url(#f3a5crcpuxhlz)\" height=\"45.9375\" id=\"E7\" rx=\"10\" ry=\"10\" style=\"stroke: #A80036; stroke-width: 1.5;\" width=\"68\" x=\"137\" y=\"646\"/><ellipse cx=\"152\" cy=\"664.9688\" fill=\"#32CD32\" rx=\"11\" ry=\"11\" style=\"stroke: #A80036; stroke-width: 1.0;\"/><path d=\"M151.7969,660.6406 L151.7969,664.2656 L152.7969,664.2656 Q154,664.2656 154.4844,663.8594 Q154.9688,663.4531 154.9688,662.4531 Q154.9688,661.4531 154.4844,661.0469 Q154,660.6406 152.7969,660.6406 L151.7969,660.6406 Z M149.3438,658.5781 L152.7031,658.5781 Q155.2656,658.5781 156.3906,659.5 Q157.5156,660.4063 157.5156,662.4531 Q157.5156,664.5 156.3906,665.4219 Q155.2656,666.3281 152.7031,666.3281 L151.7969,666.3281 L151.7969,670.9688 L149.3438,670.9688 L149.3438,658.5781 Z \"/><text fill=\"#000000\" font-family=\"sans-serif\" font-size=\"12\" font-style=\"italic\" lengthAdjust=\"spacingAndGlyphs\" textLength=\"40\" x=\"164\" y=\"662.1387\">«part»</text><text fill=\"#000000\" font-family=\"sans-serif\" font-size=\"12\" lengthAdjust=\"spacingAndGlyphs\" textLength=\"24\" x=\"172\" y=\"676.1074\">a: A</text><line style=\"stroke: #A80036; stroke-width: 1.5;\" x1=\"138\" x2=\"204\" y1=\"683.9375\" y2=\"683.9375\"/></a><!--MD5=[b9389687b975829384b498ac4b7476b2]\n",
       "class E8--><a href=\"psysml:e612b3f8-fad7-4b05-bdfc-52877d32f7f2\" target=\"_top\" title=\"psysml:e612b3f8-fad7-4b05-bdfc-52877d32f7f2\" xlink:actuate=\"onRequest\" xlink:href=\"psysml:e612b3f8-fad7-4b05-bdfc-52877d32f7f2\" xlink:show=\"new\" xlink:title=\"psysml:e612b3f8-fad7-4b05-bdfc-52877d32f7f2\" xlink:type=\"simple\"><rect fill=\"#FEFECE\" filter=\"url(#f3a5crcpuxhlz)\" height=\"40\" id=\"E8\" style=\"stroke: #A80036; stroke-width: 1.5;\" width=\"40\" x=\"139\" y=\"428\"/><ellipse cx=\"154\" cy=\"444\" fill=\"#008000\" rx=\"11\" ry=\"11\" style=\"stroke: #A80036; stroke-width: 1.0;\"/><path d=\"M152.9063,444.375 L152.9063,448.0469 L154.5313,448.0469 Q155.7031,448.0469 156.1719,447.6563 Q156.6406,447.25 156.6406,446.25 Q156.6406,445.25 156.1406,444.8125 Q155.6563,444.375 154.5313,444.375 L152.9063,444.375 Z M152.9063,439.5469 L152.9063,442.4219 L154.5313,442.4219 Q155.4531,442.4219 155.8438,442.0938 Q156.25,441.75 156.25,441 Q156.25,440.2344 155.8438,439.8906 Q155.4375,439.5469 154.5313,439.5469 L152.9063,439.5469 Z M150.5313,437.5938 L154.5313,437.5938 Q156.5938,437.5938 157.6406,438.375 Q158.6875,439.1563 158.6875,440.7188 Q158.6875,441.9219 158.0625,442.5938 Q157.4531,443.2656 156.2656,443.375 Q157.6875,443.5156 158.4063,444.3281 Q159.125,445.1406 159.125,446.5938 Q159.125,448.3906 158.0469,449.2031 Q156.9688,450 154.5313,450 L150.5313,450 L150.5313,437.5938 Z \"/><text fill=\"#000000\" font-family=\"sans-serif\" font-size=\"12\" lengthAdjust=\"spacingAndGlyphs\" textLength=\"8\" x=\"168\" y=\"448.1543\">C</text><line style=\"stroke: #A80036; stroke-width: 1.5;\" x1=\"140\" x2=\"178\" y1=\"460\" y2=\"460\"/></a><!--MD5=[fd4143e9d270a159db93a4ea2a975926]\n",
       "class E9--><a href=\"psysml:b51b1cf2-e677-402d-bf05-bb2fae798694\" target=\"_top\" title=\"psysml:b51b1cf2-e677-402d-bf05-bb2fae798694\" xlink:actuate=\"onRequest\" xlink:href=\"psysml:b51b1cf2-e677-402d-bf05-bb2fae798694\" xlink:show=\"new\" xlink:title=\"psysml:b51b1cf2-e677-402d-bf05-bb2fae798694\" xlink:type=\"simple\"><rect fill=\"#FEFECE\" filter=\"url(#f3a5crcpuxhlz)\" height=\"88.3516\" id=\"E9\" style=\"stroke: #A80036; stroke-width: 1.5;\" width=\"92\" x=\"32\" y=\"41\"/><ellipse cx=\"47\" cy=\"59.9688\" fill=\"#A52A2A\" rx=\"11\" ry=\"11\" style=\"stroke: #A80036; stroke-width: 1.0;\"/><path d=\"M46.5938,55.7813 L46.5938,63.7656 L47.25,63.7656 Q48.6875,63.7656 49.2969,62.8594 Q49.9219,61.9375 49.9219,59.7656 Q49.9219,57.5938 49.2969,56.6875 Q48.6875,55.7813 47.25,55.7813 L46.5938,55.7813 Z M44.1406,53.5781 L46.7656,53.5781 Q49.7969,53.5781 51.125,55.0313 Q52.4688,56.4688 52.4688,59.7656 Q52.4688,63.0625 51.125,64.5156 Q49.7969,65.9688 46.7656,65.9688 L44.1406,65.9688 L44.1406,53.5781 Z \"/><text fill=\"#000000\" font-family=\"sans-serif\" font-size=\"12\" font-style=\"italic\" lengthAdjust=\"spacingAndGlyphs\" textLength=\"64\" x=\"59\" y=\"57.1387\">«port def»</text><text fill=\"#000000\" font-family=\"sans-serif\" font-size=\"12\" lengthAdjust=\"spacingAndGlyphs\" textLength=\"8\" x=\"87\" y=\"71.1074\">P</text><line style=\"stroke: #A80036; stroke-width: 1.5;\" x1=\"33\" x2=\"123\" y1=\"78.9375\" y2=\"78.9375\"/><text fill=\"#000000\" font-family=\"sans-serif\" font-size=\"11\" lengthAdjust=\"spacingAndGlyphs\" textLength=\"29\" x=\"38\" y=\"109.9526\">a1: A</text><text fill=\"#000000\" font-family=\"sans-serif\" font-size=\"11\" lengthAdjust=\"spacingAndGlyphs\" textLength=\"29\" x=\"38\" y=\"122.7573\">a2: A</text><line style=\"stroke: #A80036; stroke-width: 1.0;\" x1=\"33\" x2=\"62\" y1=\"93.3398\" y2=\"93.3398\"/><text fill=\"#000000\" font-family=\"sans-serif\" font-size=\"11\" lengthAdjust=\"spacingAndGlyphs\" textLength=\"32\" x=\"62\" y=\"96.6479\">items</text><line style=\"stroke: #A80036; stroke-width: 1.0;\" x1=\"94\" x2=\"123\" y1=\"93.3398\" y2=\"93.3398\"/></a><!--MD5=[2720a5a1f2c3fca2055b230370638851]\n",
       "link E2 to E3--><a href=\"psysml:5c778f2f-9d99-44f7-9cbe-495e6850b493\" target=\"_top\" title=\"psysml:5c778f2f-9d99-44f7-9cbe-495e6850b493\" xlink:actuate=\"onRequest\" xlink:href=\"psysml:5c778f2f-9d99-44f7-9cbe-495e6850b493\" xlink:show=\"new\" xlink:title=\"psysml:5c778f2f-9d99-44f7-9cbe-495e6850b493\" xlink:type=\"simple\"><path d=\"M183.47,105.19 C182.14,121.92 180.14,147.01 178.32,169.82 \" fill=\"none\" id=\"E2-&gt;E3\" style=\"stroke: #A80036; stroke-width: 1.0;\"/><polygon fill=\"#FFFFFF\" points=\"176.72,189.84,171.2619,170.341,185.2171,171.4607,176.72,189.84\" style=\"stroke: #A80036; stroke-width: 1.0;\"/><ellipse cx=\"173.7113\" cy=\"164.8193\" fill=\"#A80036\" rx=\"2\" ry=\"2\" style=\"stroke: #A80036; stroke-width: 1.0;\"/><ellipse cx=\"183.6793\" cy=\"165.619\" fill=\"#A80036\" rx=\"2\" ry=\"2\" style=\"stroke: #A80036; stroke-width: 1.0;\"/></a><!--MD5=[191cde3d490a3f6d7bb551fe3ddca469]\n",
       "reverse link E3 to E5--><a href=\"psysml:77af57f1-340c-421d-9a30-1a49108711b3\" target=\"_top\" title=\"psysml:77af57f1-340c-421d-9a30-1a49108711b3\" xlink:actuate=\"onRequest\" xlink:href=\"psysml:77af57f1-340c-421d-9a30-1a49108711b3\" xlink:show=\"new\" xlink:title=\"psysml:77af57f1-340c-421d-9a30-1a49108711b3\" xlink:type=\"simple\"><path d=\"M145.03,257.38 C126.49,277.47 102.88,303.04 86.32,320.99 \" fill=\"none\" id=\"E3&lt;-E5\" style=\"stroke: #A80036; stroke-width: 1.0;\"/><polygon fill=\"#FFFFFF\" points=\"153.94,247.73,146.9306,249.4235,145.7979,256.5451,152.8073,254.8516,153.94,247.73\" style=\"stroke: #A80036; stroke-width: 1.0;\"/></a><!--MD5=[14ccda38c055a5c0da953d572bc50960]\n",
       "link E7 to E3--><a href=\"psysml:8bb447da-4a21-4000-9a04-f9f9c4ed48f1\" target=\"_top\" title=\"psysml:8bb447da-4a21-4000-9a04-f9f9c4ed48f1\" xlink:actuate=\"onRequest\" xlink:href=\"psysml:8bb447da-4a21-4000-9a04-f9f9c4ed48f1\" xlink:show=\"new\" xlink:title=\"psysml:8bb447da-4a21-4000-9a04-f9f9c4ed48f1\" xlink:type=\"simple\"><path d=\"M186.89,645.69 C199.49,625.78 215,595.31 215,566 C215,343 215,343 215,343 C215,321.21 208.59,298.35 200.83,278.68 \" fill=\"none\" id=\"E7-&gt;E3\" style=\"stroke: #A80036; stroke-width: 1.0;\"/><polygon fill=\"#FFFFFF\" points=\"192.82,260.23,206.8032,274.8748,193.9596,280.4464,192.82,260.23\" style=\"stroke: #A80036; stroke-width: 1.0;\"/><ellipse cx=\"207.2368\" cy=\"280.8999\" fill=\"#A80036\" rx=\"2\" ry=\"2\" style=\"stroke: #A80036; stroke-width: 1.0;\"/><ellipse cx=\"198.0628\" cy=\"284.8796\" fill=\"#A80036\" rx=\"2\" ry=\"2\" style=\"stroke: #A80036; stroke-width: 1.0;\"/></a><!--MD5=[3f50a3473f1dfb74d3f76443e03635af]\n",
       "reverse link E6 to E7--><a href=\"psysml:4ca48e5a-78fa-40b6-ad88-229f08c03677\" target=\"_top\" title=\"psysml:4ca48e5a-78fa-40b6-ad88-229f08c03677\" xlink:actuate=\"onRequest\" xlink:href=\"psysml:4ca48e5a-78fa-40b6-ad88-229f08c03677\" xlink:show=\"new\" xlink:title=\"psysml:4ca48e5a-78fa-40b6-ad88-229f08c03677\" xlink:type=\"simple\"><path d=\"M162.81,598.41 C164.63,613.82 166.75,631.86 168.38,645.7 \" fill=\"none\" id=\"E6&lt;-E7\" style=\"stroke: #A80036; stroke-width: 1.0;\"/><polygon fill=\"#A80036\" points=\"161.26,585.19,157.9938,591.619,162.672,597.1066,165.9382,590.6776,161.26,585.19\" style=\"stroke: #A80036; stroke-width: 1.0;\"/></a><!--MD5=[dfaffb906826c3e5aca635516100ff21]\n",
       "link E5 to E8--><a href=\"psysml:6ff88c17-8c2d-42a4-af32-a2455d6f0acf\" target=\"_top\" title=\"psysml:6ff88c17-8c2d-42a4-af32-a2455d6f0acf\" xlink:actuate=\"onRequest\" xlink:href=\"psysml:6ff88c17-8c2d-42a4-af32-a2455d6f0acf\" xlink:show=\"new\" xlink:title=\"psysml:6ff88c17-8c2d-42a4-af32-a2455d6f0acf\" xlink:type=\"simple\"><path d=\"M86.18,367.13 C98.34,380.47 114.08,397.74 127.82,412.8 \" fill=\"none\" id=\"E5-&gt;E8\" style=\"stroke: #A80036; stroke-width: 1.0;\"/><polygon fill=\"#FFFFFF\" points=\"141.67,428,123.6993,418.6697,134.0481,409.2408,141.67,428\" style=\"stroke: #A80036; stroke-width: 1.0;\"/><ellipse cx=\"121.3388\" cy=\"413.1093\" fill=\"#A80036\" rx=\"2\" ry=\"2\" style=\"stroke: #A80036; stroke-width: 1.0;\"/><ellipse cx=\"128.7308\" cy=\"406.3744\" fill=\"#A80036\" rx=\"2\" ry=\"2\" style=\"stroke: #A80036; stroke-width: 1.0;\"/></a><!--MD5=[03c8294790d3c57651a1993cecff665f]\n",
       "reverse link E8 to E3--><a href=\"psysml:83dfbdb9-73af-4dff-b5ad-52a21a738594\" target=\"_top\" title=\"psysml:83dfbdb9-73af-4dff-b5ad-52a21a738594\" xlink:actuate=\"onRequest\" xlink:href=\"psysml:83dfbdb9-73af-4dff-b5ad-52a21a738594\" xlink:show=\"new\" xlink:title=\"psysml:83dfbdb9-73af-4dff-b5ad-52a21a738594\" xlink:type=\"simple\"><path d=\"M161.17,414.97 C163.97,373.71 168.82,302.27 171.69,260.05 \" fill=\"none\" id=\"E8&lt;-E3\" style=\"stroke: #A80036; stroke-width: 1.0;\"/><polygon fill=\"#FFFFFF\" points=\"160.29,427.97,164.6894,422.2564,161.1075,415.9979,156.708,421.7114,160.29,427.97\" style=\"stroke: #A80036; stroke-width: 1.0;\"/><text fill=\"#000000\" font-family=\"sans-serif\" font-size=\"13\" lengthAdjust=\"spacingAndGlyphs\" textLength=\"7\" x=\"168\" y=\"348.5669\">y</text></a><!--MD5=[0d75d2178373a6a4568e5dc728f58aef]\n",
       "reverse link E8 to E6--><a href=\"psysml:83dfbdb9-73af-4dff-b5ad-52a21a738594\" target=\"_top\" title=\"psysml:83dfbdb9-73af-4dff-b5ad-52a21a738594\" xlink:actuate=\"onRequest\" xlink:href=\"psysml:83dfbdb9-73af-4dff-b5ad-52a21a738594\" xlink:show=\"new\" xlink:title=\"psysml:83dfbdb9-73af-4dff-b5ad-52a21a738594\" xlink:type=\"simple\"><path d=\"M159,481.36 C159,501.76 159,527.42 159,544.69 \" fill=\"none\" id=\"E8&lt;-E6\" style=\"stroke: #A80036; stroke-width: 1.0;\"/><polygon fill=\"#FFFFFF\" points=\"159,468.25,155,474.25,159,480.25,163,474.25,159,468.25\" style=\"stroke: #A80036; stroke-width: 1.0;\"/><text fill=\"#000000\" font-family=\"sans-serif\" font-size=\"13\" lengthAdjust=\"spacingAndGlyphs\" textLength=\"7\" x=\"160\" y=\"511.0669\">y</text></a><!--MD5=[d8820d5aacd6da8c975b616eb20960fe]\n",
       "@startuml\r\n",
       " \r\n",
       "package \"ItemTest\" as E1  [[psysml:ffb2e2dc-9c37-4787-be7c-ae8a88a6d943 ]]  {\r\n",
       "comp usage \"f: A\" as E2  << (P,limegreen) >> [[psysml:cf4d7795-98ee-4d9f-9cbf-a98072608f6d ]] {\r\n",
       "}\r\n",
       "comp def \"A\" as E3  << (B,green) >> [[psysml:be14fc81-3f83-42fd-a525-71826c91787f ]] {\r\n",
       "- - items - -\r\n",
       "b: B\r\n",
       "}\r\n",
       "comp usage \"c: C\" as E5  << (P,limegreen) part>> [[psysml:77af57f1-340c-421d-9a30-1a49108711b3 ]] {\r\n",
       "}\r\n",
       "comp def \"B\" as E6  << (B,green) >> [[psysml:41f55b44-de87-42d8-a9cd-035ede31bd10 ]] {\r\n",
       "}\r\n",
       "comp usage \"a: A\" as E7  << (P,limegreen) part>> [[psysml:4ca48e5a-78fa-40b6-ad88-229f08c03677 ]] {\r\n",
       "}\r\n",
       "comp def \"C\" as E8  << (B,green) >> [[psysml:e612b3f8-fad7-4b05-bdfc-52877d32f7f2 ]] {\r\n",
       "}\r\n",
       "comp def \"P\" as E9  <<(D,brown)port def>> [[psysml:b51b1cf2-e677-402d-bf05-bb2fae798694 ]] {\r\n",
       "- - items - -\r\n",
       "a1: A\r\n",
       "a2: A\r\n",
       "}\r\n",
       "E2 - -:|> E3 [[psysml:5c778f2f-9d99-44f7-9cbe-495e6850b493 ]] \r\n",
       "E3 o- - E5 [[psysml:77af57f1-340c-421d-9a30-1a49108711b3 ]] \r\n",
       "E7 - -:|> E3 [[psysml:8bb447da-4a21-4000-9a04-f9f9c4ed48f1 ]] \r\n",
       "E6 *- - E7 [[psysml:4ca48e5a-78fa-40b6-ad88-229f08c03677 ]] \r\n",
       "E5 - -:|> E8 [[psysml:6ff88c17-8c2d-42a4-af32-a2455d6f0acf ]] \r\n",
       "E8 o- - E3 [[psysml:83dfbdb9-73af-4dff-b5ad-52a21a738594 ]] : y\r\n",
       "E8 o- - E6 [[psysml:83dfbdb9-73af-4dff-b5ad-52a21a738594 ]] : y\r\n",
       "}\r\n",
       "@enduml\r\n",
       "\n",
       "PlantUML version 1.2020.13(Sat Jun 13 12:26:38 UTC 2020)\n",
       "(EPL source distribution)\n",
       "Java Runtime: OpenJDK Runtime Environment\n",
       "JVM: OpenJDK 64-Bit Server VM\n",
       "Default Encoding: UTF-8\n",
       "Language: en\n",
       "Country: null\n",
       "--></g></svg>"
      ]
     },
     "execution_count": 36,
     "metadata": {},
     "output_type": "execute_result"
    }
   ],
   "source": [
    "%viz --style=\"PLANTUML\" --view=\"MIXED\" \"ItemTest\""
   ]
  },
  {
   "cell_type": "code",
   "execution_count": 37,
   "id": "charitable-flash",
   "metadata": {
    "execution": {
     "iopub.execute_input": "2021-03-25T15:10:25.971359Z",
     "iopub.status.busy": "2021-03-25T15:10:25.970143Z",
     "iopub.status.idle": "2021-03-25T15:10:26.244974Z",
     "shell.execute_reply": "2021-03-25T15:10:26.243542Z"
    }
   },
   "outputs": [
    {
     "data": {
      "image/svg+xml": [
       "<?xml version=\"1.0\" encoding=\"UTF-8\" standalone=\"no\"?><svg xmlns=\"http://www.w3.org/2000/svg\" xmlns:xlink=\"http://www.w3.org/1999/xlink\" contentScriptType=\"application/ecmascript\" contentStyleType=\"text/css\" height=\"738px\" preserveAspectRatio=\"none\" style=\"width:228px;height:738px;\" version=\"1.1\" viewBox=\"0 0 228 738\" width=\"228px\" zoomAndPan=\"magnify\"><defs/><g><!--MD5=[fbc87193dbaf4d95561dea2c320d4a47]\n",
       "cluster E1--><a href=\"psysml:ffb2e2dc-9c37-4787-be7c-ae8a88a6d943\" target=\"_top\" title=\"psysml:ffb2e2dc-9c37-4787-be7c-ae8a88a6d943\" xlink:actuate=\"onRequest\" xlink:href=\"psysml:ffb2e2dc-9c37-4787-be7c-ae8a88a6d943\" xlink:show=\"new\" xlink:title=\"psysml:ffb2e2dc-9c37-4787-be7c-ae8a88a6d943\" xlink:type=\"simple\"><polygon fill=\"#FFFFFF\" points=\"16,6,91,6,98,28.2969,206,28.2969,206,726,16,726,16,6\" style=\"stroke: #000000; stroke-width: 1.5;\"/><line style=\"stroke: #000000; stroke-width: 1.5;\" x1=\"16\" x2=\"98\" y1=\"28.2969\" y2=\"28.2969\"/><text fill=\"#000000\" font-family=\"sans-serif\" font-size=\"14\" font-weight=\"bold\" lengthAdjust=\"spacingAndGlyphs\" textLength=\"69\" x=\"20\" y=\"20.9951\">ItemTest</text></a><!--MD5=[b4997ac47864f28c2f74865a473b2911]\n",
       "class E2--><a href=\"psysml:cf4d7795-98ee-4d9f-9cbf-a98072608f6d\" target=\"_top\" title=\"psysml:cf4d7795-98ee-4d9f-9cbf-a98072608f6d\" xlink:actuate=\"onRequest\" xlink:href=\"psysml:cf4d7795-98ee-4d9f-9cbf-a98072608f6d\" xlink:show=\"new\" xlink:title=\"psysml:cf4d7795-98ee-4d9f-9cbf-a98072608f6d\" xlink:type=\"simple\"><rect fill=\"#FFFFFF\" height=\"45.9375\" id=\"E2\" rx=\"10\" ry=\"10\" style=\"stroke: #383838; stroke-width: 1.5;\" width=\"43\" x=\"133.5\" y=\"62\"/><text fill=\"#000000\" font-family=\"sans-serif\" font-size=\"12\" font-style=\"italic\" lengthAdjust=\"spacingAndGlyphs\" textLength=\"41\" x=\"134.5\" y=\"78.1387\">«item»</text><text fill=\"#000000\" font-family=\"sans-serif\" font-size=\"12\" lengthAdjust=\"spacingAndGlyphs\" textLength=\"20\" x=\"145\" y=\"92.1074\">f: A</text><line style=\"stroke: #383838; stroke-width: 1.5;\" x1=\"134.5\" x2=\"175.5\" y1=\"99.9375\" y2=\"99.9375\"/></a><!--MD5=[09b614a08d8cba4a07c9adeb5e0fee81]\n",
       "class E3--><a href=\"psysml:be14fc81-3f83-42fd-a525-71826c91787f\" target=\"_top\" title=\"psysml:be14fc81-3f83-42fd-a525-71826c91787f\" xlink:actuate=\"onRequest\" xlink:href=\"psysml:be14fc81-3f83-42fd-a525-71826c91787f\" xlink:show=\"new\" xlink:title=\"psysml:be14fc81-3f83-42fd-a525-71826c91787f\" xlink:type=\"simple\"><rect fill=\"#FFFFFF\" height=\"75.5469\" id=\"E3\" style=\"stroke: #383838; stroke-width: 1.5;\" width=\"67\" x=\"115.5\" y=\"190\"/><text fill=\"#000000\" font-family=\"sans-serif\" font-size=\"12\" font-style=\"italic\" lengthAdjust=\"spacingAndGlyphs\" textLength=\"65\" x=\"116.5\" y=\"206.1387\">«item def»</text><text fill=\"#000000\" font-family=\"sans-serif\" font-size=\"12\" lengthAdjust=\"spacingAndGlyphs\" textLength=\"8\" x=\"145\" y=\"220.1074\">A</text><line style=\"stroke: #383838; stroke-width: 1.5;\" x1=\"116.5\" x2=\"181.5\" y1=\"227.9375\" y2=\"227.9375\"/><text fill=\"#000000\" font-family=\"sans-serif\" font-size=\"11\" lengthAdjust=\"spacingAndGlyphs\" textLength=\"23\" x=\"121.5\" y=\"258.9526\">b: B</text><line style=\"stroke: #383838; stroke-width: 1.0;\" x1=\"116.5\" x2=\"133\" y1=\"242.3398\" y2=\"242.3398\"/><text fill=\"#000000\" font-family=\"sans-serif\" font-size=\"11\" lengthAdjust=\"spacingAndGlyphs\" textLength=\"32\" x=\"133\" y=\"245.6479\">items</text><line style=\"stroke: #383838; stroke-width: 1.0;\" x1=\"165\" x2=\"181.5\" y1=\"242.3398\" y2=\"242.3398\"/></a><!--MD5=[270fce915f116d4de14055a7c1d9a0f3]\n",
       "class E5--><a href=\"psysml:77af57f1-340c-421d-9a30-1a49108711b3\" target=\"_top\" title=\"psysml:77af57f1-340c-421d-9a30-1a49108711b3\" xlink:actuate=\"onRequest\" xlink:href=\"psysml:77af57f1-340c-421d-9a30-1a49108711b3\" xlink:show=\"new\" xlink:title=\"psysml:77af57f1-340c-421d-9a30-1a49108711b3\" xlink:type=\"simple\"><rect fill=\"#FFFFFF\" height=\"45.9375\" id=\"E5\" rx=\"10\" ry=\"10\" style=\"stroke: #383838; stroke-width: 1.5;\" width=\"42\" x=\"32\" y=\"327\"/><text fill=\"#000000\" font-family=\"sans-serif\" font-size=\"12\" font-style=\"italic\" lengthAdjust=\"spacingAndGlyphs\" textLength=\"40\" x=\"33\" y=\"343.1387\">«part»</text><text fill=\"#000000\" font-family=\"sans-serif\" font-size=\"12\" lengthAdjust=\"spacingAndGlyphs\" textLength=\"23\" x=\"41.5\" y=\"357.1074\">c: C</text><line style=\"stroke: #383838; stroke-width: 1.5;\" x1=\"33\" x2=\"73\" y1=\"364.9375\" y2=\"364.9375\"/></a><!--MD5=[60a26617385b1d2d0262a64233df1f8d]\n",
       "class E6--><a href=\"psysml:41f55b44-de87-42d8-a9cd-035ede31bd10\" target=\"_top\" title=\"psysml:41f55b44-de87-42d8-a9cd-035ede31bd10\" xlink:actuate=\"onRequest\" xlink:href=\"psysml:41f55b44-de87-42d8-a9cd-035ede31bd10\" xlink:show=\"new\" xlink:title=\"psysml:41f55b44-de87-42d8-a9cd-035ede31bd10\" xlink:type=\"simple\"><rect fill=\"#FFFFFF\" height=\"45.9375\" id=\"E6\" style=\"stroke: #383838; stroke-width: 1.5;\" width=\"67\" x=\"85.5\" y=\"557\"/><text fill=\"#000000\" font-family=\"sans-serif\" font-size=\"12\" font-style=\"italic\" lengthAdjust=\"spacingAndGlyphs\" textLength=\"65\" x=\"86.5\" y=\"573.1387\">«item def»</text><text fill=\"#000000\" font-family=\"sans-serif\" font-size=\"12\" lengthAdjust=\"spacingAndGlyphs\" textLength=\"8\" x=\"115\" y=\"587.1074\">B</text><line style=\"stroke: #383838; stroke-width: 1.5;\" x1=\"86.5\" x2=\"151.5\" y1=\"594.9375\" y2=\"594.9375\"/></a><!--MD5=[2156ba9850f5573cc1fc38a6a4b2f02b]\n",
       "class E7--><a href=\"psysml:4ca48e5a-78fa-40b6-ad88-229f08c03677\" target=\"_top\" title=\"psysml:4ca48e5a-78fa-40b6-ad88-229f08c03677\" xlink:actuate=\"onRequest\" xlink:href=\"psysml:4ca48e5a-78fa-40b6-ad88-229f08c03677\" xlink:show=\"new\" xlink:title=\"psysml:4ca48e5a-78fa-40b6-ad88-229f08c03677\" xlink:type=\"simple\"><rect fill=\"#FFFFFF\" height=\"45.9375\" id=\"E7\" rx=\"10\" ry=\"10\" style=\"stroke: #383838; stroke-width: 1.5;\" width=\"42\" x=\"123\" y=\"664\"/><text fill=\"#000000\" font-family=\"sans-serif\" font-size=\"12\" font-style=\"italic\" lengthAdjust=\"spacingAndGlyphs\" textLength=\"40\" x=\"124\" y=\"680.1387\">«part»</text><text fill=\"#000000\" font-family=\"sans-serif\" font-size=\"12\" lengthAdjust=\"spacingAndGlyphs\" textLength=\"24\" x=\"132\" y=\"694.1074\">a: A</text><line style=\"stroke: #383838; stroke-width: 1.5;\" x1=\"124\" x2=\"164\" y1=\"701.9375\" y2=\"701.9375\"/></a><!--MD5=[b9389687b975829384b498ac4b7476b2]\n",
       "class E8--><a href=\"psysml:e612b3f8-fad7-4b05-bdfc-52877d32f7f2\" target=\"_top\" title=\"psysml:e612b3f8-fad7-4b05-bdfc-52877d32f7f2\" xlink:actuate=\"onRequest\" xlink:href=\"psysml:e612b3f8-fad7-4b05-bdfc-52877d32f7f2\" xlink:show=\"new\" xlink:title=\"psysml:e612b3f8-fad7-4b05-bdfc-52877d32f7f2\" xlink:type=\"simple\"><rect fill=\"#FFFFFF\" height=\"45.9375\" id=\"E8\" style=\"stroke: #383838; stroke-width: 1.5;\" width=\"66\" x=\"86\" y=\"434\"/><text fill=\"#000000\" font-family=\"sans-serif\" font-size=\"12\" font-style=\"italic\" lengthAdjust=\"spacingAndGlyphs\" textLength=\"64\" x=\"87\" y=\"450.1387\">«part def»</text><text fill=\"#000000\" font-family=\"sans-serif\" font-size=\"12\" lengthAdjust=\"spacingAndGlyphs\" textLength=\"8\" x=\"115\" y=\"464.1074\">C</text><line style=\"stroke: #383838; stroke-width: 1.5;\" x1=\"87\" x2=\"151\" y1=\"471.9375\" y2=\"471.9375\"/></a><!--MD5=[fd4143e9d270a159db93a4ea2a975926]\n",
       "class E9--><a href=\"psysml:b51b1cf2-e677-402d-bf05-bb2fae798694\" target=\"_top\" title=\"psysml:b51b1cf2-e677-402d-bf05-bb2fae798694\" xlink:actuate=\"onRequest\" xlink:href=\"psysml:b51b1cf2-e677-402d-bf05-bb2fae798694\" xlink:show=\"new\" xlink:title=\"psysml:b51b1cf2-e677-402d-bf05-bb2fae798694\" xlink:type=\"simple\"><rect fill=\"#FFFFFF\" height=\"88.3516\" id=\"E9\" style=\"stroke: #383838; stroke-width: 1.5;\" width=\"66\" x=\"32\" y=\"41\"/><text fill=\"#000000\" font-family=\"sans-serif\" font-size=\"12\" font-style=\"italic\" lengthAdjust=\"spacingAndGlyphs\" textLength=\"64\" x=\"33\" y=\"57.1387\">«port def»</text><text fill=\"#000000\" font-family=\"sans-serif\" font-size=\"12\" lengthAdjust=\"spacingAndGlyphs\" textLength=\"8\" x=\"61\" y=\"71.1074\">P</text><line style=\"stroke: #383838; stroke-width: 1.5;\" x1=\"33\" x2=\"97\" y1=\"78.9375\" y2=\"78.9375\"/><text fill=\"#000000\" font-family=\"sans-serif\" font-size=\"11\" lengthAdjust=\"spacingAndGlyphs\" textLength=\"29\" x=\"38\" y=\"109.9526\">a1: A</text><text fill=\"#000000\" font-family=\"sans-serif\" font-size=\"11\" lengthAdjust=\"spacingAndGlyphs\" textLength=\"29\" x=\"38\" y=\"122.7573\">a2: A</text><line style=\"stroke: #383838; stroke-width: 1.0;\" x1=\"33\" x2=\"49\" y1=\"93.3398\" y2=\"93.3398\"/><text fill=\"#000000\" font-family=\"sans-serif\" font-size=\"11\" lengthAdjust=\"spacingAndGlyphs\" textLength=\"32\" x=\"49\" y=\"96.6479\">items</text><line style=\"stroke: #383838; stroke-width: 1.0;\" x1=\"81\" x2=\"97\" y1=\"93.3398\" y2=\"93.3398\"/></a><!--MD5=[2720a5a1f2c3fca2055b230370638851]\n",
       "link E2 to E3--><a href=\"psysml:5c778f2f-9d99-44f7-9cbe-495e6850b493\" target=\"_top\" title=\"psysml:5c778f2f-9d99-44f7-9cbe-495e6850b493\" xlink:actuate=\"onRequest\" xlink:href=\"psysml:5c778f2f-9d99-44f7-9cbe-495e6850b493\" xlink:show=\"new\" xlink:title=\"psysml:5c778f2f-9d99-44f7-9cbe-495e6850b493\" xlink:type=\"simple\"><path d=\"M154.06,108.03 C153.36,124.58 152.36,148.04 151.44,169.76 \" fill=\"none\" id=\"E2-&gt;E3\" style=\"stroke: #383838; stroke-width: 1.0;\"/><polygon fill=\"#FFFFFF\" points=\"150.58,189.77,144.4005,170.4875,158.3877,171.0874,150.58,189.77\" style=\"stroke: #383838; stroke-width: 1.0;\"/><ellipse cx=\"146.6429\" cy=\"164.8784\" fill=\"#383838\" rx=\"2\" ry=\"2\" style=\"stroke: #383838; stroke-width: 1.0;\"/><ellipse cx=\"156.6338\" cy=\"165.3069\" fill=\"#383838\" rx=\"2\" ry=\"2\" style=\"stroke: #383838; stroke-width: 1.0;\"/></a><!--MD5=[191cde3d490a3f6d7bb551fe3ddca469]\n",
       "reverse link E3 to E5--><a href=\"psysml:77af57f1-340c-421d-9a30-1a49108711b3\" target=\"_top\" title=\"psysml:77af57f1-340c-421d-9a30-1a49108711b3\" xlink:actuate=\"onRequest\" xlink:href=\"psysml:77af57f1-340c-421d-9a30-1a49108711b3\" xlink:show=\"new\" xlink:title=\"psysml:77af57f1-340c-421d-9a30-1a49108711b3\" xlink:type=\"simple\"><path d=\"M110.75,276.82 C96.95,294.07 82.02,312.72 70.8,326.75 \" fill=\"none\" id=\"E3&lt;-E5\" style=\"stroke: #383838; stroke-width: 1.0;\"/><polygon fill=\"#FFFFFF\" points=\"119.15,266.31,112.2784,268.4964,111.6537,275.6804,118.5253,273.494,119.15,266.31\" style=\"stroke: #383838; stroke-width: 1.0;\"/></a><!--MD5=[14ccda38c055a5c0da953d572bc50960]\n",
       "link E7 to E3--><a href=\"psysml:8bb447da-4a21-4000-9a04-f9f9c4ed48f1\" target=\"_top\" title=\"psysml:8bb447da-4a21-4000-9a04-f9f9c4ed48f1\" xlink:actuate=\"onRequest\" xlink:href=\"psysml:8bb447da-4a21-4000-9a04-f9f9c4ed48f1\" xlink:show=\"new\" xlink:title=\"psysml:8bb447da-4a21-4000-9a04-f9f9c4ed48f1\" xlink:type=\"simple\"><path d=\"M159.74,663.82 C172.72,643.34 189,611.54 189,581 C189,349 189,349 189,349 C189,327.34 183.06,304.56 175.76,284.74 \" fill=\"none\" id=\"E7-&gt;E3\" style=\"stroke: #383838; stroke-width: 1.0;\"/><polygon fill=\"#FFFFFF\" points=\"168.18,266.05,181.8034,281.0301,168.8283,286.2881,168.18,266.05\" style=\"stroke: #383838; stroke-width: 1.0;\"/><ellipse cx=\"182.0906\" cy=\"287.0639\" fill=\"#383838\" rx=\"2\" ry=\"2\" style=\"stroke: #383838; stroke-width: 1.0;\"/><ellipse cx=\"172.8227\" cy=\"290.8196\" fill=\"#383838\" rx=\"2\" ry=\"2\" style=\"stroke: #383838; stroke-width: 1.0;\"/></a><!--MD5=[3f50a3473f1dfb74d3f76443e03635af]\n",
       "reverse link E6 to E7--><a href=\"psysml:4ca48e5a-78fa-40b6-ad88-229f08c03677\" target=\"_top\" title=\"psysml:4ca48e5a-78fa-40b6-ad88-229f08c03677\" xlink:actuate=\"onRequest\" xlink:href=\"psysml:4ca48e5a-78fa-40b6-ad88-229f08c03677\" xlink:show=\"new\" xlink:title=\"psysml:4ca48e5a-78fa-40b6-ad88-229f08c03677\" xlink:type=\"simple\"><path d=\"M127.34,616.05 C131.08,631.76 135.39,649.82 138.68,663.66 \" fill=\"none\" id=\"E6&lt;-E7\" style=\"stroke: #383838; stroke-width: 1.0;\"/><polygon fill=\"#383838\" points=\"124.24,603.01,121.7406,609.7741,127.023,614.6828,129.5224,607.9187,124.24,603.01\" style=\"stroke: #383838; stroke-width: 1.0;\"/></a><!--MD5=[dfaffb906826c3e5aca635516100ff21]\n",
       "link E5 to E8--><a href=\"psysml:6ff88c17-8c2d-42a4-af32-a2455d6f0acf\" target=\"_top\" title=\"psysml:6ff88c17-8c2d-42a4-af32-a2455d6f0acf\" xlink:actuate=\"onRequest\" xlink:href=\"psysml:6ff88c17-8c2d-42a4-af32-a2455d6f0acf\" xlink:show=\"new\" xlink:title=\"psysml:6ff88c17-8c2d-42a4-af32-a2455d6f0acf\" xlink:type=\"simple\"><path d=\"M66.84,373.01 C74.79,385.67 85.02,401.94 94.31,416.72 \" fill=\"none\" id=\"E5-&gt;E8\" style=\"stroke: #383838; stroke-width: 1.0;\"/><polygon fill=\"#FFFFFF\" points=\"104.96,433.66,88.9212,421.3005,100.7735,413.8491,104.96,433.66\" style=\"stroke: #383838; stroke-width: 1.0;\"/><ellipse cx=\"87.5806\" cy=\"415.4104\" fill=\"#383838\" rx=\"2\" ry=\"2\" style=\"stroke: #383838; stroke-width: 1.0;\"/><ellipse cx=\"96.0465\" cy=\"410.088\" fill=\"#383838\" rx=\"2\" ry=\"2\" style=\"stroke: #383838; stroke-width: 1.0;\"/></a><!--MD5=[03c8294790d3c57651a1993cecff665f]\n",
       "reverse link E8 to E3--><a href=\"psysml:83dfbdb9-73af-4dff-b5ad-52a21a738594\" target=\"_top\" title=\"psysml:83dfbdb9-73af-4dff-b5ad-52a21a738594\" xlink:actuate=\"onRequest\" xlink:href=\"psysml:83dfbdb9-73af-4dff-b5ad-52a21a738594\" xlink:show=\"new\" xlink:title=\"psysml:83dfbdb9-73af-4dff-b5ad-52a21a738594\" xlink:type=\"simple\"><path d=\"M123.65,420.81 C129.2,378.86 138.42,309.06 144.08,266.23 \" fill=\"none\" id=\"E8&lt;-E3\" style=\"stroke: #383838; stroke-width: 1.0;\"/><polygon fill=\"#FFFFFF\" points=\"121.92,433.89,126.6755,428.4692,123.5008,421.9946,118.7453,427.4154,121.92,433.89\" style=\"stroke: #383838; stroke-width: 1.0;\"/><text fill=\"#000000\" font-family=\"sans-serif\" font-size=\"13\" lengthAdjust=\"spacingAndGlyphs\" textLength=\"7\" x=\"136\" y=\"354.5669\">y</text></a><!--MD5=[0d75d2178373a6a4568e5dc728f58aef]\n",
       "reverse link E8 to E6--><a href=\"psysml:83dfbdb9-73af-4dff-b5ad-52a21a738594\" target=\"_top\" title=\"psysml:83dfbdb9-73af-4dff-b5ad-52a21a738594\" xlink:actuate=\"onRequest\" xlink:href=\"psysml:83dfbdb9-73af-4dff-b5ad-52a21a738594\" xlink:show=\"new\" xlink:title=\"psysml:83dfbdb9-73af-4dff-b5ad-52a21a738594\" xlink:type=\"simple\"><path d=\"M119,493.22 C119,513.81 119,539.16 119,556.95 \" fill=\"none\" id=\"E8&lt;-E6\" style=\"stroke: #383838; stroke-width: 1.0;\"/><polygon fill=\"#FFFFFF\" points=\"119,480.19,115,486.19,119,492.19,123,486.19,119,480.19\" style=\"stroke: #383838; stroke-width: 1.0;\"/><text fill=\"#000000\" font-family=\"sans-serif\" font-size=\"13\" lengthAdjust=\"spacingAndGlyphs\" textLength=\"7\" x=\"120\" y=\"523.0669\">y</text></a><!--MD5=[2a29c946dcf9560fae6159dcc5d394d9]\n",
       "@startuml\r\n",
       "skinparam monochrome true\r\n",
       "skinparam classbackgroundcolor white\r\n",
       "skinparam shadowing false\r\n",
       "skinparam wrapWidth 300\r\n",
       "hide circle\r\n",
       "\r\n",
       "package \"ItemTest\" as E1  [[psysml:ffb2e2dc-9c37-4787-be7c-ae8a88a6d943 ]]  {\r\n",
       "comp usage \"f: A\" as E2  <<(T,blue)item>> [[psysml:cf4d7795-98ee-4d9f-9cbf-a98072608f6d ]] {\r\n",
       "}\r\n",
       "comp def \"A\" as E3  <<(T,blue)item def>> [[psysml:be14fc81-3f83-42fd-a525-71826c91787f ]] {\r\n",
       "- - items - -\r\n",
       "b: B\r\n",
       "}\r\n",
       "comp usage \"c: C\" as E5  <<(T,blue)part>> [[psysml:77af57f1-340c-421d-9a30-1a49108711b3 ]] {\r\n",
       "}\r\n",
       "comp def \"B\" as E6  <<(T,blue)item def>> [[psysml:41f55b44-de87-42d8-a9cd-035ede31bd10 ]] {\r\n",
       "}\r\n",
       "comp usage \"a: A\" as E7  <<(T,blue)part>> [[psysml:4ca48e5a-78fa-40b6-ad88-229f08c03677 ]] {\r\n",
       "}\r\n",
       "comp def \"C\" as E8  <<(T,blue)part def>> [[psysml:e612b3f8-fad7-4b05-bdfc-52877d32f7f2 ]] {\r\n",
       "}\r\n",
       "comp def \"P\" as E9  <<(T,blue)port def>> [[psysml:b51b1cf2-e677-402d-bf05-bb2fae798694 ]] {\r\n",
       "- - items - -\r\n",
       "a1: A\r\n",
       "a2: A\r\n",
       "}\r\n",
       "E2 - -:|> E3 [[psysml:5c778f2f-9d99-44f7-9cbe-495e6850b493 ]] \r\n",
       "E3 o- - E5 [[psysml:77af57f1-340c-421d-9a30-1a49108711b3 ]] \r\n",
       "E7 - -:|> E3 [[psysml:8bb447da-4a21-4000-9a04-f9f9c4ed48f1 ]] \r\n",
       "E6 *- - E7 [[psysml:4ca48e5a-78fa-40b6-ad88-229f08c03677 ]] \r\n",
       "E5 - -:|> E8 [[psysml:6ff88c17-8c2d-42a4-af32-a2455d6f0acf ]] \r\n",
       "E8 o- - E3 [[psysml:83dfbdb9-73af-4dff-b5ad-52a21a738594 ]] : y\r\n",
       "E8 o- - E6 [[psysml:83dfbdb9-73af-4dff-b5ad-52a21a738594 ]] : y\r\n",
       "}\r\n",
       "@enduml\r\n",
       "\n",
       "PlantUML version 1.2020.13(Sat Jun 13 12:26:38 UTC 2020)\n",
       "(EPL source distribution)\n",
       "Java Runtime: OpenJDK Runtime Environment\n",
       "JVM: OpenJDK 64-Bit Server VM\n",
       "Default Encoding: UTF-8\n",
       "Language: en\n",
       "Country: null\n",
       "--></g></svg>"
      ]
     },
     "execution_count": 37,
     "metadata": {},
     "output_type": "execute_result"
    }
   ],
   "source": [
    "%viz --style=\"DEFAULT\" --view=\"Default\" \"ItemTest\""
   ]
  },
  {
   "cell_type": "code",
   "execution_count": 38,
   "id": "drawn-liechtenstein",
   "metadata": {
    "execution": {
     "iopub.execute_input": "2021-03-25T15:10:26.295977Z",
     "iopub.status.busy": "2021-03-25T15:10:26.295282Z",
     "iopub.status.idle": "2021-03-25T15:10:26.578873Z",
     "shell.execute_reply": "2021-03-25T15:10:26.577163Z"
    }
   },
   "outputs": [
    {
     "data": {
      "image/svg+xml": [
       "<?xml version=\"1.0\" encoding=\"UTF-8\" standalone=\"no\"?><svg xmlns=\"http://www.w3.org/2000/svg\" xmlns:xlink=\"http://www.w3.org/1999/xlink\" contentScriptType=\"application/ecmascript\" contentStyleType=\"text/css\" height=\"738px\" preserveAspectRatio=\"none\" style=\"width:228px;height:738px;\" version=\"1.1\" viewBox=\"0 0 228 738\" width=\"228px\" zoomAndPan=\"magnify\"><defs/><g><!--MD5=[fbc87193dbaf4d95561dea2c320d4a47]\n",
       "cluster E1--><a href=\"psysml:ffb2e2dc-9c37-4787-be7c-ae8a88a6d943\" target=\"_top\" title=\"psysml:ffb2e2dc-9c37-4787-be7c-ae8a88a6d943\" xlink:actuate=\"onRequest\" xlink:href=\"psysml:ffb2e2dc-9c37-4787-be7c-ae8a88a6d943\" xlink:show=\"new\" xlink:title=\"psysml:ffb2e2dc-9c37-4787-be7c-ae8a88a6d943\" xlink:type=\"simple\"><polygon fill=\"#FFFFFF\" points=\"16,6,91,6,98,28.2969,206,28.2969,206,726,16,726,16,6\" style=\"stroke: #000000; stroke-width: 1.5;\"/><line style=\"stroke: #000000; stroke-width: 1.5;\" x1=\"16\" x2=\"98\" y1=\"28.2969\" y2=\"28.2969\"/><text fill=\"#000000\" font-family=\"sans-serif\" font-size=\"14\" font-weight=\"bold\" lengthAdjust=\"spacingAndGlyphs\" textLength=\"69\" x=\"20\" y=\"20.9951\">ItemTest</text></a><!--MD5=[b4997ac47864f28c2f74865a473b2911]\n",
       "class E2--><a href=\"psysml:cf4d7795-98ee-4d9f-9cbf-a98072608f6d\" target=\"_top\" title=\"psysml:cf4d7795-98ee-4d9f-9cbf-a98072608f6d\" xlink:actuate=\"onRequest\" xlink:href=\"psysml:cf4d7795-98ee-4d9f-9cbf-a98072608f6d\" xlink:show=\"new\" xlink:title=\"psysml:cf4d7795-98ee-4d9f-9cbf-a98072608f6d\" xlink:type=\"simple\"><rect fill=\"#FFFFFF\" height=\"45.9375\" id=\"E2\" rx=\"10\" ry=\"10\" style=\"stroke: #383838; stroke-width: 1.5;\" width=\"43\" x=\"133.5\" y=\"62\"/><text fill=\"#000000\" font-family=\"sans-serif\" font-size=\"12\" font-style=\"italic\" lengthAdjust=\"spacingAndGlyphs\" textLength=\"41\" x=\"134.5\" y=\"78.1387\">«item»</text><text fill=\"#000000\" font-family=\"sans-serif\" font-size=\"12\" lengthAdjust=\"spacingAndGlyphs\" textLength=\"20\" x=\"145\" y=\"92.1074\">f: A</text><line style=\"stroke: #383838; stroke-width: 1.5;\" x1=\"134.5\" x2=\"175.5\" y1=\"99.9375\" y2=\"99.9375\"/></a><!--MD5=[09b614a08d8cba4a07c9adeb5e0fee81]\n",
       "class E3--><a href=\"psysml:be14fc81-3f83-42fd-a525-71826c91787f\" target=\"_top\" title=\"psysml:be14fc81-3f83-42fd-a525-71826c91787f\" xlink:actuate=\"onRequest\" xlink:href=\"psysml:be14fc81-3f83-42fd-a525-71826c91787f\" xlink:show=\"new\" xlink:title=\"psysml:be14fc81-3f83-42fd-a525-71826c91787f\" xlink:type=\"simple\"><rect fill=\"#FFFFFF\" height=\"75.5469\" id=\"E3\" style=\"stroke: #383838; stroke-width: 1.5;\" width=\"67\" x=\"115.5\" y=\"190\"/><text fill=\"#000000\" font-family=\"sans-serif\" font-size=\"12\" font-style=\"italic\" lengthAdjust=\"spacingAndGlyphs\" textLength=\"65\" x=\"116.5\" y=\"206.1387\">«item def»</text><text fill=\"#000000\" font-family=\"sans-serif\" font-size=\"12\" lengthAdjust=\"spacingAndGlyphs\" textLength=\"8\" x=\"145\" y=\"220.1074\">A</text><line style=\"stroke: #383838; stroke-width: 1.5;\" x1=\"116.5\" x2=\"181.5\" y1=\"227.9375\" y2=\"227.9375\"/><text fill=\"#000000\" font-family=\"sans-serif\" font-size=\"11\" lengthAdjust=\"spacingAndGlyphs\" textLength=\"23\" x=\"121.5\" y=\"258.9526\">b: B</text><line style=\"stroke: #383838; stroke-width: 1.0;\" x1=\"116.5\" x2=\"133\" y1=\"242.3398\" y2=\"242.3398\"/><text fill=\"#000000\" font-family=\"sans-serif\" font-size=\"11\" lengthAdjust=\"spacingAndGlyphs\" textLength=\"32\" x=\"133\" y=\"245.6479\">items</text><line style=\"stroke: #383838; stroke-width: 1.0;\" x1=\"165\" x2=\"181.5\" y1=\"242.3398\" y2=\"242.3398\"/></a><!--MD5=[270fce915f116d4de14055a7c1d9a0f3]\n",
       "class E5--><a href=\"psysml:77af57f1-340c-421d-9a30-1a49108711b3\" target=\"_top\" title=\"psysml:77af57f1-340c-421d-9a30-1a49108711b3\" xlink:actuate=\"onRequest\" xlink:href=\"psysml:77af57f1-340c-421d-9a30-1a49108711b3\" xlink:show=\"new\" xlink:title=\"psysml:77af57f1-340c-421d-9a30-1a49108711b3\" xlink:type=\"simple\"><rect fill=\"#FFFFFF\" height=\"45.9375\" id=\"E5\" rx=\"10\" ry=\"10\" style=\"stroke: #383838; stroke-width: 1.5;\" width=\"42\" x=\"32\" y=\"327\"/><text fill=\"#000000\" font-family=\"sans-serif\" font-size=\"12\" font-style=\"italic\" lengthAdjust=\"spacingAndGlyphs\" textLength=\"40\" x=\"33\" y=\"343.1387\">«part»</text><text fill=\"#000000\" font-family=\"sans-serif\" font-size=\"12\" lengthAdjust=\"spacingAndGlyphs\" textLength=\"23\" x=\"41.5\" y=\"357.1074\">c: C</text><line style=\"stroke: #383838; stroke-width: 1.5;\" x1=\"33\" x2=\"73\" y1=\"364.9375\" y2=\"364.9375\"/></a><!--MD5=[60a26617385b1d2d0262a64233df1f8d]\n",
       "class E6--><a href=\"psysml:41f55b44-de87-42d8-a9cd-035ede31bd10\" target=\"_top\" title=\"psysml:41f55b44-de87-42d8-a9cd-035ede31bd10\" xlink:actuate=\"onRequest\" xlink:href=\"psysml:41f55b44-de87-42d8-a9cd-035ede31bd10\" xlink:show=\"new\" xlink:title=\"psysml:41f55b44-de87-42d8-a9cd-035ede31bd10\" xlink:type=\"simple\"><rect fill=\"#FFFFFF\" height=\"45.9375\" id=\"E6\" style=\"stroke: #383838; stroke-width: 1.5;\" width=\"67\" x=\"85.5\" y=\"557\"/><text fill=\"#000000\" font-family=\"sans-serif\" font-size=\"12\" font-style=\"italic\" lengthAdjust=\"spacingAndGlyphs\" textLength=\"65\" x=\"86.5\" y=\"573.1387\">«item def»</text><text fill=\"#000000\" font-family=\"sans-serif\" font-size=\"12\" lengthAdjust=\"spacingAndGlyphs\" textLength=\"8\" x=\"115\" y=\"587.1074\">B</text><line style=\"stroke: #383838; stroke-width: 1.5;\" x1=\"86.5\" x2=\"151.5\" y1=\"594.9375\" y2=\"594.9375\"/></a><!--MD5=[2156ba9850f5573cc1fc38a6a4b2f02b]\n",
       "class E7--><a href=\"psysml:4ca48e5a-78fa-40b6-ad88-229f08c03677\" target=\"_top\" title=\"psysml:4ca48e5a-78fa-40b6-ad88-229f08c03677\" xlink:actuate=\"onRequest\" xlink:href=\"psysml:4ca48e5a-78fa-40b6-ad88-229f08c03677\" xlink:show=\"new\" xlink:title=\"psysml:4ca48e5a-78fa-40b6-ad88-229f08c03677\" xlink:type=\"simple\"><rect fill=\"#FFFFFF\" height=\"45.9375\" id=\"E7\" rx=\"10\" ry=\"10\" style=\"stroke: #383838; stroke-width: 1.5;\" width=\"42\" x=\"123\" y=\"664\"/><text fill=\"#000000\" font-family=\"sans-serif\" font-size=\"12\" font-style=\"italic\" lengthAdjust=\"spacingAndGlyphs\" textLength=\"40\" x=\"124\" y=\"680.1387\">«part»</text><text fill=\"#000000\" font-family=\"sans-serif\" font-size=\"12\" lengthAdjust=\"spacingAndGlyphs\" textLength=\"24\" x=\"132\" y=\"694.1074\">a: A</text><line style=\"stroke: #383838; stroke-width: 1.5;\" x1=\"124\" x2=\"164\" y1=\"701.9375\" y2=\"701.9375\"/></a><!--MD5=[b9389687b975829384b498ac4b7476b2]\n",
       "class E8--><a href=\"psysml:e612b3f8-fad7-4b05-bdfc-52877d32f7f2\" target=\"_top\" title=\"psysml:e612b3f8-fad7-4b05-bdfc-52877d32f7f2\" xlink:actuate=\"onRequest\" xlink:href=\"psysml:e612b3f8-fad7-4b05-bdfc-52877d32f7f2\" xlink:show=\"new\" xlink:title=\"psysml:e612b3f8-fad7-4b05-bdfc-52877d32f7f2\" xlink:type=\"simple\"><rect fill=\"#FFFFFF\" height=\"45.9375\" id=\"E8\" style=\"stroke: #383838; stroke-width: 1.5;\" width=\"66\" x=\"86\" y=\"434\"/><text fill=\"#000000\" font-family=\"sans-serif\" font-size=\"12\" font-style=\"italic\" lengthAdjust=\"spacingAndGlyphs\" textLength=\"64\" x=\"87\" y=\"450.1387\">«part def»</text><text fill=\"#000000\" font-family=\"sans-serif\" font-size=\"12\" lengthAdjust=\"spacingAndGlyphs\" textLength=\"8\" x=\"115\" y=\"464.1074\">C</text><line style=\"stroke: #383838; stroke-width: 1.5;\" x1=\"87\" x2=\"151\" y1=\"471.9375\" y2=\"471.9375\"/></a><!--MD5=[fd4143e9d270a159db93a4ea2a975926]\n",
       "class E9--><a href=\"psysml:b51b1cf2-e677-402d-bf05-bb2fae798694\" target=\"_top\" title=\"psysml:b51b1cf2-e677-402d-bf05-bb2fae798694\" xlink:actuate=\"onRequest\" xlink:href=\"psysml:b51b1cf2-e677-402d-bf05-bb2fae798694\" xlink:show=\"new\" xlink:title=\"psysml:b51b1cf2-e677-402d-bf05-bb2fae798694\" xlink:type=\"simple\"><rect fill=\"#FFFFFF\" height=\"88.3516\" id=\"E9\" style=\"stroke: #383838; stroke-width: 1.5;\" width=\"66\" x=\"32\" y=\"41\"/><text fill=\"#000000\" font-family=\"sans-serif\" font-size=\"12\" font-style=\"italic\" lengthAdjust=\"spacingAndGlyphs\" textLength=\"64\" x=\"33\" y=\"57.1387\">«port def»</text><text fill=\"#000000\" font-family=\"sans-serif\" font-size=\"12\" lengthAdjust=\"spacingAndGlyphs\" textLength=\"8\" x=\"61\" y=\"71.1074\">P</text><line style=\"stroke: #383838; stroke-width: 1.5;\" x1=\"33\" x2=\"97\" y1=\"78.9375\" y2=\"78.9375\"/><text fill=\"#000000\" font-family=\"sans-serif\" font-size=\"11\" lengthAdjust=\"spacingAndGlyphs\" textLength=\"29\" x=\"38\" y=\"109.9526\">a1: A</text><text fill=\"#000000\" font-family=\"sans-serif\" font-size=\"11\" lengthAdjust=\"spacingAndGlyphs\" textLength=\"29\" x=\"38\" y=\"122.7573\">a2: A</text><line style=\"stroke: #383838; stroke-width: 1.0;\" x1=\"33\" x2=\"49\" y1=\"93.3398\" y2=\"93.3398\"/><text fill=\"#000000\" font-family=\"sans-serif\" font-size=\"11\" lengthAdjust=\"spacingAndGlyphs\" textLength=\"32\" x=\"49\" y=\"96.6479\">items</text><line style=\"stroke: #383838; stroke-width: 1.0;\" x1=\"81\" x2=\"97\" y1=\"93.3398\" y2=\"93.3398\"/></a><!--MD5=[2720a5a1f2c3fca2055b230370638851]\n",
       "link E2 to E3--><a href=\"psysml:5c778f2f-9d99-44f7-9cbe-495e6850b493\" target=\"_top\" title=\"psysml:5c778f2f-9d99-44f7-9cbe-495e6850b493\" xlink:actuate=\"onRequest\" xlink:href=\"psysml:5c778f2f-9d99-44f7-9cbe-495e6850b493\" xlink:show=\"new\" xlink:title=\"psysml:5c778f2f-9d99-44f7-9cbe-495e6850b493\" xlink:type=\"simple\"><path d=\"M154.06,108.03 C153.36,124.58 152.36,148.04 151.44,169.76 \" fill=\"none\" id=\"E2-&gt;E3\" style=\"stroke: #383838; stroke-width: 1.0;\"/><polygon fill=\"#FFFFFF\" points=\"150.58,189.77,144.4005,170.4875,158.3877,171.0874,150.58,189.77\" style=\"stroke: #383838; stroke-width: 1.0;\"/><ellipse cx=\"146.6429\" cy=\"164.8784\" fill=\"#383838\" rx=\"2\" ry=\"2\" style=\"stroke: #383838; stroke-width: 1.0;\"/><ellipse cx=\"156.6338\" cy=\"165.3069\" fill=\"#383838\" rx=\"2\" ry=\"2\" style=\"stroke: #383838; stroke-width: 1.0;\"/></a><!--MD5=[191cde3d490a3f6d7bb551fe3ddca469]\n",
       "reverse link E3 to E5--><a href=\"psysml:77af57f1-340c-421d-9a30-1a49108711b3\" target=\"_top\" title=\"psysml:77af57f1-340c-421d-9a30-1a49108711b3\" xlink:actuate=\"onRequest\" xlink:href=\"psysml:77af57f1-340c-421d-9a30-1a49108711b3\" xlink:show=\"new\" xlink:title=\"psysml:77af57f1-340c-421d-9a30-1a49108711b3\" xlink:type=\"simple\"><path d=\"M110.75,276.82 C96.95,294.07 82.02,312.72 70.8,326.75 \" fill=\"none\" id=\"E3&lt;-E5\" style=\"stroke: #383838; stroke-width: 1.0;\"/><polygon fill=\"#FFFFFF\" points=\"119.15,266.31,112.2784,268.4964,111.6537,275.6804,118.5253,273.494,119.15,266.31\" style=\"stroke: #383838; stroke-width: 1.0;\"/></a><!--MD5=[14ccda38c055a5c0da953d572bc50960]\n",
       "link E7 to E3--><a href=\"psysml:8bb447da-4a21-4000-9a04-f9f9c4ed48f1\" target=\"_top\" title=\"psysml:8bb447da-4a21-4000-9a04-f9f9c4ed48f1\" xlink:actuate=\"onRequest\" xlink:href=\"psysml:8bb447da-4a21-4000-9a04-f9f9c4ed48f1\" xlink:show=\"new\" xlink:title=\"psysml:8bb447da-4a21-4000-9a04-f9f9c4ed48f1\" xlink:type=\"simple\"><path d=\"M159.74,663.82 C172.72,643.34 189,611.54 189,581 C189,349 189,349 189,349 C189,327.34 183.06,304.56 175.76,284.74 \" fill=\"none\" id=\"E7-&gt;E3\" style=\"stroke: #383838; stroke-width: 1.0;\"/><polygon fill=\"#FFFFFF\" points=\"168.18,266.05,181.8034,281.0301,168.8283,286.2881,168.18,266.05\" style=\"stroke: #383838; stroke-width: 1.0;\"/><ellipse cx=\"182.0906\" cy=\"287.0639\" fill=\"#383838\" rx=\"2\" ry=\"2\" style=\"stroke: #383838; stroke-width: 1.0;\"/><ellipse cx=\"172.8227\" cy=\"290.8196\" fill=\"#383838\" rx=\"2\" ry=\"2\" style=\"stroke: #383838; stroke-width: 1.0;\"/></a><!--MD5=[3f50a3473f1dfb74d3f76443e03635af]\n",
       "reverse link E6 to E7--><a href=\"psysml:4ca48e5a-78fa-40b6-ad88-229f08c03677\" target=\"_top\" title=\"psysml:4ca48e5a-78fa-40b6-ad88-229f08c03677\" xlink:actuate=\"onRequest\" xlink:href=\"psysml:4ca48e5a-78fa-40b6-ad88-229f08c03677\" xlink:show=\"new\" xlink:title=\"psysml:4ca48e5a-78fa-40b6-ad88-229f08c03677\" xlink:type=\"simple\"><path d=\"M127.34,616.05 C131.08,631.76 135.39,649.82 138.68,663.66 \" fill=\"none\" id=\"E6&lt;-E7\" style=\"stroke: #383838; stroke-width: 1.0;\"/><polygon fill=\"#383838\" points=\"124.24,603.01,121.7406,609.7741,127.023,614.6828,129.5224,607.9187,124.24,603.01\" style=\"stroke: #383838; stroke-width: 1.0;\"/></a><!--MD5=[dfaffb906826c3e5aca635516100ff21]\n",
       "link E5 to E8--><a href=\"psysml:6ff88c17-8c2d-42a4-af32-a2455d6f0acf\" target=\"_top\" title=\"psysml:6ff88c17-8c2d-42a4-af32-a2455d6f0acf\" xlink:actuate=\"onRequest\" xlink:href=\"psysml:6ff88c17-8c2d-42a4-af32-a2455d6f0acf\" xlink:show=\"new\" xlink:title=\"psysml:6ff88c17-8c2d-42a4-af32-a2455d6f0acf\" xlink:type=\"simple\"><path d=\"M66.84,373.01 C74.79,385.67 85.02,401.94 94.31,416.72 \" fill=\"none\" id=\"E5-&gt;E8\" style=\"stroke: #383838; stroke-width: 1.0;\"/><polygon fill=\"#FFFFFF\" points=\"104.96,433.66,88.9212,421.3005,100.7735,413.8491,104.96,433.66\" style=\"stroke: #383838; stroke-width: 1.0;\"/><ellipse cx=\"87.5806\" cy=\"415.4104\" fill=\"#383838\" rx=\"2\" ry=\"2\" style=\"stroke: #383838; stroke-width: 1.0;\"/><ellipse cx=\"96.0465\" cy=\"410.088\" fill=\"#383838\" rx=\"2\" ry=\"2\" style=\"stroke: #383838; stroke-width: 1.0;\"/></a><!--MD5=[03c8294790d3c57651a1993cecff665f]\n",
       "reverse link E8 to E3--><a href=\"psysml:83dfbdb9-73af-4dff-b5ad-52a21a738594\" target=\"_top\" title=\"psysml:83dfbdb9-73af-4dff-b5ad-52a21a738594\" xlink:actuate=\"onRequest\" xlink:href=\"psysml:83dfbdb9-73af-4dff-b5ad-52a21a738594\" xlink:show=\"new\" xlink:title=\"psysml:83dfbdb9-73af-4dff-b5ad-52a21a738594\" xlink:type=\"simple\"><path d=\"M123.65,420.81 C129.2,378.86 138.42,309.06 144.08,266.23 \" fill=\"none\" id=\"E8&lt;-E3\" style=\"stroke: #383838; stroke-width: 1.0;\"/><polygon fill=\"#FFFFFF\" points=\"121.92,433.89,126.6755,428.4692,123.5008,421.9946,118.7453,427.4154,121.92,433.89\" style=\"stroke: #383838; stroke-width: 1.0;\"/><text fill=\"#000000\" font-family=\"sans-serif\" font-size=\"13\" lengthAdjust=\"spacingAndGlyphs\" textLength=\"7\" x=\"136\" y=\"354.5669\">y</text></a><!--MD5=[0d75d2178373a6a4568e5dc728f58aef]\n",
       "reverse link E8 to E6--><a href=\"psysml:83dfbdb9-73af-4dff-b5ad-52a21a738594\" target=\"_top\" title=\"psysml:83dfbdb9-73af-4dff-b5ad-52a21a738594\" xlink:actuate=\"onRequest\" xlink:href=\"psysml:83dfbdb9-73af-4dff-b5ad-52a21a738594\" xlink:show=\"new\" xlink:title=\"psysml:83dfbdb9-73af-4dff-b5ad-52a21a738594\" xlink:type=\"simple\"><path d=\"M119,493.22 C119,513.81 119,539.16 119,556.95 \" fill=\"none\" id=\"E8&lt;-E6\" style=\"stroke: #383838; stroke-width: 1.0;\"/><polygon fill=\"#FFFFFF\" points=\"119,480.19,115,486.19,119,492.19,123,486.19,119,480.19\" style=\"stroke: #383838; stroke-width: 1.0;\"/><text fill=\"#000000\" font-family=\"sans-serif\" font-size=\"13\" lengthAdjust=\"spacingAndGlyphs\" textLength=\"7\" x=\"120\" y=\"523.0669\">y</text></a><!--MD5=[2a29c946dcf9560fae6159dcc5d394d9]\n",
       "@startuml\r\n",
       "skinparam monochrome true\r\n",
       "skinparam classbackgroundcolor white\r\n",
       "skinparam shadowing false\r\n",
       "skinparam wrapWidth 300\r\n",
       "hide circle\r\n",
       "\r\n",
       "package \"ItemTest\" as E1  [[psysml:ffb2e2dc-9c37-4787-be7c-ae8a88a6d943 ]]  {\r\n",
       "comp usage \"f: A\" as E2  <<(T,blue)item>> [[psysml:cf4d7795-98ee-4d9f-9cbf-a98072608f6d ]] {\r\n",
       "}\r\n",
       "comp def \"A\" as E3  <<(T,blue)item def>> [[psysml:be14fc81-3f83-42fd-a525-71826c91787f ]] {\r\n",
       "- - items - -\r\n",
       "b: B\r\n",
       "}\r\n",
       "comp usage \"c: C\" as E5  <<(T,blue)part>> [[psysml:77af57f1-340c-421d-9a30-1a49108711b3 ]] {\r\n",
       "}\r\n",
       "comp def \"B\" as E6  <<(T,blue)item def>> [[psysml:41f55b44-de87-42d8-a9cd-035ede31bd10 ]] {\r\n",
       "}\r\n",
       "comp usage \"a: A\" as E7  <<(T,blue)part>> [[psysml:4ca48e5a-78fa-40b6-ad88-229f08c03677 ]] {\r\n",
       "}\r\n",
       "comp def \"C\" as E8  <<(T,blue)part def>> [[psysml:e612b3f8-fad7-4b05-bdfc-52877d32f7f2 ]] {\r\n",
       "}\r\n",
       "comp def \"P\" as E9  <<(T,blue)port def>> [[psysml:b51b1cf2-e677-402d-bf05-bb2fae798694 ]] {\r\n",
       "- - items - -\r\n",
       "a1: A\r\n",
       "a2: A\r\n",
       "}\r\n",
       "E2 - -:|> E3 [[psysml:5c778f2f-9d99-44f7-9cbe-495e6850b493 ]] \r\n",
       "E3 o- - E5 [[psysml:77af57f1-340c-421d-9a30-1a49108711b3 ]] \r\n",
       "E7 - -:|> E3 [[psysml:8bb447da-4a21-4000-9a04-f9f9c4ed48f1 ]] \r\n",
       "E6 *- - E7 [[psysml:4ca48e5a-78fa-40b6-ad88-229f08c03677 ]] \r\n",
       "E5 - -:|> E8 [[psysml:6ff88c17-8c2d-42a4-af32-a2455d6f0acf ]] \r\n",
       "E8 o- - E3 [[psysml:83dfbdb9-73af-4dff-b5ad-52a21a738594 ]] : y\r\n",
       "E8 o- - E6 [[psysml:83dfbdb9-73af-4dff-b5ad-52a21a738594 ]] : y\r\n",
       "}\r\n",
       "@enduml\r\n",
       "\n",
       "PlantUML version 1.2020.13(Sat Jun 13 12:26:38 UTC 2020)\n",
       "(EPL source distribution)\n",
       "Java Runtime: OpenJDK Runtime Environment\n",
       "JVM: OpenJDK 64-Bit Server VM\n",
       "Default Encoding: UTF-8\n",
       "Language: en\n",
       "Country: null\n",
       "--></g></svg>"
      ]
     },
     "execution_count": 38,
     "metadata": {},
     "output_type": "execute_result"
    }
   ],
   "source": [
    "%viz --style=\"DEFAULT\" --view=\"Tree\" \"ItemTest\""
   ]
  },
  {
   "cell_type": "code",
   "execution_count": 39,
   "id": "dressed-separation",
   "metadata": {
    "execution": {
     "iopub.execute_input": "2021-03-25T15:10:26.628940Z",
     "iopub.status.busy": "2021-03-25T15:10:26.628281Z",
     "iopub.status.idle": "2021-03-25T15:10:26.635903Z",
     "shell.execute_reply": "2021-03-25T15:10:26.635567Z"
    }
   },
   "outputs": [
    {
     "data": {
      "image/svg+xml": [
       "<?xml version=\"1.0\" encoding=\"UTF-8\" standalone=\"no\"?><svg xmlns=\"http://www.w3.org/2000/svg\" xmlns:xlink=\"http://www.w3.org/1999/xlink\" contentScriptType=\"application/ecmascript\" contentStyleType=\"text/css\" height=\"12px\" preserveAspectRatio=\"none\" style=\"width:12px;height:12px;\" version=\"1.1\" viewBox=\"0 0 12 12\" width=\"12px\" zoomAndPan=\"magnify\"><defs/><g><!--MD5=[c5f280e076d0d61ccf4b0f27871bda1d]\n",
       "@startuml\r\n",
       "skinparam monochrome true\r\n",
       "skinparam classbackgroundcolor white\r\n",
       "skinparam shadowing false\r\n",
       "skinparam wrapWidth 300\r\n",
       "hide circle\r\n",
       "\r\n",
       "@enduml\r\n",
       "\n",
       "PlantUML version 1.2020.13(Sat Jun 13 12:26:38 UTC 2020)\n",
       "(EPL source distribution)\n",
       "Java Runtime: OpenJDK Runtime Environment\n",
       "JVM: OpenJDK 64-Bit Server VM\n",
       "Default Encoding: UTF-8\n",
       "Language: en\n",
       "Country: null\n",
       "--></g></svg>"
      ]
     },
     "execution_count": 39,
     "metadata": {},
     "output_type": "execute_result"
    }
   ],
   "source": [
    "%viz --style=\"DEFAULT\" --view=\"State\" \"ItemTest\""
   ]
  },
  {
   "cell_type": "code",
   "execution_count": 40,
   "id": "ultimate-simple",
   "metadata": {
    "execution": {
     "iopub.execute_input": "2021-03-25T15:10:26.686410Z",
     "iopub.status.busy": "2021-03-25T15:10:26.685739Z",
     "iopub.status.idle": "2021-03-25T15:10:26.785982Z",
     "shell.execute_reply": "2021-03-25T15:10:26.785684Z"
    }
   },
   "outputs": [
    {
     "data": {
      "image/svg+xml": [
       "<?xml version=\"1.0\" encoding=\"UTF-8\" standalone=\"no\"?><svg xmlns=\"http://www.w3.org/2000/svg\" xmlns:xlink=\"http://www.w3.org/1999/xlink\" contentScriptType=\"application/ecmascript\" contentStyleType=\"text/css\" height=\"195px\" preserveAspectRatio=\"none\" style=\"width:711px;height:195px;\" version=\"1.1\" viewBox=\"0 0 711 195\" width=\"711px\" zoomAndPan=\"magnify\"><defs/><g><!--MD5=[fbc87193dbaf4d95561dea2c320d4a47]\n",
       "cluster E1--><a href=\"psysml:ffb2e2dc-9c37-4787-be7c-ae8a88a6d943\" target=\"_top\" title=\"psysml:ffb2e2dc-9c37-4787-be7c-ae8a88a6d943\" xlink:actuate=\"onRequest\" xlink:href=\"psysml:ffb2e2dc-9c37-4787-be7c-ae8a88a6d943\" xlink:show=\"new\" xlink:title=\"psysml:ffb2e2dc-9c37-4787-be7c-ae8a88a6d943\" xlink:type=\"simple\"><polygon fill=\"#FFFFFF\" points=\"16,6,91,6,98,28.2969,689,28.2969,689,183,16,183,16,6\" style=\"stroke: #000000; stroke-width: 1.5;\"/><line style=\"stroke: #000000; stroke-width: 1.5;\" x1=\"16\" x2=\"98\" y1=\"28.2969\" y2=\"28.2969\"/><text fill=\"#000000\" font-family=\"sans-serif\" font-size=\"14\" font-weight=\"bold\" lengthAdjust=\"spacingAndGlyphs\" textLength=\"69\" x=\"20\" y=\"20.9951\">ItemTest</text></a><!--MD5=[de5ec2e2e8f62f467e546659f5068c88]\n",
       "cluster E5--><a href=\"psysml:e612b3f8-fad7-4b05-bdfc-52877d32f7f2\" target=\"_top\" title=\"psysml:e612b3f8-fad7-4b05-bdfc-52877d32f7f2\" xlink:actuate=\"onRequest\" xlink:href=\"psysml:e612b3f8-fad7-4b05-bdfc-52877d32f7f2\" xlink:show=\"new\" xlink:title=\"psysml:e612b3f8-fad7-4b05-bdfc-52877d32f7f2\" xlink:type=\"simple\"><rect fill=\"#FFFFFF\" height=\"110\" id=\"E5\" style=\"stroke: #383838; stroke-width: 1.5;\" width=\"114\" x=\"551\" y=\"49\"/><rect fill=\"#F8F8F8\" height=\"37.9375\" style=\"stroke: #383838; stroke-width: 1.5;\" width=\"114\" x=\"551\" y=\"49\"/><text fill=\"#000000\" font-family=\"sans-serif\" font-size=\"12\" font-style=\"italic\" lengthAdjust=\"spacingAndGlyphs\" textLength=\"64\" x=\"576\" y=\"65.1387\">«part def»</text><text fill=\"#000000\" font-family=\"sans-serif\" font-size=\"12\" lengthAdjust=\"spacingAndGlyphs\" textLength=\"8\" x=\"604\" y=\"79.1074\">C</text></a><!--MD5=[09b614a08d8cba4a07c9adeb5e0fee81]\n",
       "class E3--><a href=\"psysml:be14fc81-3f83-42fd-a525-71826c91787f\" target=\"_top\" title=\"psysml:be14fc81-3f83-42fd-a525-71826c91787f\" xlink:actuate=\"onRequest\" xlink:href=\"psysml:be14fc81-3f83-42fd-a525-71826c91787f\" xlink:show=\"new\" xlink:title=\"psysml:be14fc81-3f83-42fd-a525-71826c91787f\" xlink:type=\"simple\"><rect fill=\"#FFFFFF\" height=\"53.9375\" id=\"E3\" style=\"stroke: #383838; stroke-width: 1.5;\" width=\"115\" x=\"416.5\" y=\"94.5\"/><text fill=\"#000000\" font-family=\"sans-serif\" font-size=\"12\" font-style=\"italic\" lengthAdjust=\"spacingAndGlyphs\" textLength=\"113\" x=\"417.5\" y=\"110.6387\">«(T,blue)item def»</text><text fill=\"#000000\" font-family=\"sans-serif\" font-size=\"12\" lengthAdjust=\"spacingAndGlyphs\" textLength=\"8\" x=\"470\" y=\"124.6074\">A</text><line style=\"stroke: #383838; stroke-width: 1.5;\" x1=\"417.5\" x2=\"530.5\" y1=\"132.4375\" y2=\"132.4375\"/><line style=\"stroke: #383838; stroke-width: 1.5;\" x1=\"417.5\" x2=\"530.5\" y1=\"140.4375\" y2=\"140.4375\"/></a><!--MD5=[ebbe1d658d1005bcc118a6aa81145e00]\n",
       "class E4--><a href=\"psysml:41f55b44-de87-42d8-a9cd-035ede31bd10\" target=\"_top\" title=\"psysml:41f55b44-de87-42d8-a9cd-035ede31bd10\" xlink:actuate=\"onRequest\" xlink:href=\"psysml:41f55b44-de87-42d8-a9cd-035ede31bd10\" xlink:show=\"new\" xlink:title=\"psysml:41f55b44-de87-42d8-a9cd-035ede31bd10\" xlink:type=\"simple\"><rect fill=\"#FFFFFF\" height=\"53.9375\" id=\"E4\" style=\"stroke: #383838; stroke-width: 1.5;\" width=\"115\" x=\"266.5\" y=\"94.5\"/><text fill=\"#000000\" font-family=\"sans-serif\" font-size=\"12\" font-style=\"italic\" lengthAdjust=\"spacingAndGlyphs\" textLength=\"113\" x=\"267.5\" y=\"110.6387\">«(T,blue)item def»</text><text fill=\"#000000\" font-family=\"sans-serif\" font-size=\"12\" lengthAdjust=\"spacingAndGlyphs\" textLength=\"8\" x=\"320\" y=\"124.6074\">B</text><line style=\"stroke: #383838; stroke-width: 1.5;\" x1=\"267.5\" x2=\"380.5\" y1=\"132.4375\" y2=\"132.4375\"/><line style=\"stroke: #383838; stroke-width: 1.5;\" x1=\"267.5\" x2=\"380.5\" y1=\"140.4375\" y2=\"140.4375\"/></a><!--MD5=[2156ba9850f5573cc1fc38a6a4b2f02b]\n",
       "class E7--><a href=\"psysml:b51b1cf2-e677-402d-bf05-bb2fae798694\" target=\"_top\" title=\"psysml:b51b1cf2-e677-402d-bf05-bb2fae798694\" xlink:actuate=\"onRequest\" xlink:href=\"psysml:b51b1cf2-e677-402d-bf05-bb2fae798694\" xlink:show=\"new\" xlink:title=\"psysml:b51b1cf2-e677-402d-bf05-bb2fae798694\" xlink:type=\"simple\"><rect fill=\"#FFFFFF\" height=\"53.9375\" id=\"E7\" style=\"stroke: #383838; stroke-width: 1.5;\" width=\"114\" x=\"117\" y=\"94.5\"/><text fill=\"#000000\" font-family=\"sans-serif\" font-size=\"12\" font-style=\"italic\" lengthAdjust=\"spacingAndGlyphs\" textLength=\"112\" x=\"118\" y=\"110.6387\">«(T,blue)port def»</text><text fill=\"#000000\" font-family=\"sans-serif\" font-size=\"12\" lengthAdjust=\"spacingAndGlyphs\" textLength=\"8\" x=\"170\" y=\"124.6074\">P</text><line style=\"stroke: #383838; stroke-width: 1.5;\" x1=\"118\" x2=\"230\" y1=\"132.4375\" y2=\"132.4375\"/><line style=\"stroke: #383838; stroke-width: 1.5;\" x1=\"118\" x2=\"230\" y1=\"140.4375\" y2=\"140.4375\"/></a><g id=\"E1.E2\"><a href=\"psysml:cf4d7795-98ee-4d9f-9cbf-a98072608f6d\" target=\"_top\" title=\"psysml:cf4d7795-98ee-4d9f-9cbf-a98072608f6d\" xlink:actuate=\"onRequest\" xlink:href=\"psysml:cf4d7795-98ee-4d9f-9cbf-a98072608f6d\" xlink:show=\"new\" xlink:title=\"psysml:cf4d7795-98ee-4d9f-9cbf-a98072608f6d\" xlink:type=\"simple\"><rect fill=\"#FFFFFF\" height=\"42.9375\" id=\"E2\" rx=\"10\" ry=\"10\" style=\"stroke: #383838; stroke-width: 1.5;\" width=\"50\" x=\"32\" y=\"100\"/><rect fill=\"#F8F8F8\" height=\"37.9375\" rx=\"10\" ry=\"10\" style=\"stroke: #F8F8F8; stroke-width: 1.5;\" width=\"50\" x=\"32\" y=\"100\"/><rect fill=\"#F8F8F8\" height=\"10\" style=\"stroke: #F8F8F8; stroke-width: 1.5;\" width=\"50\" x=\"32\" y=\"127.9375\"/><rect fill=\"none\" height=\"42.9375\" id=\"E2\" rx=\"10\" ry=\"10\" style=\"stroke: #383838; stroke-width: 1.5;\" width=\"50\" x=\"32\" y=\"100\"/><text fill=\"#000000\" font-family=\"sans-serif\" font-size=\"12\" font-style=\"italic\" lengthAdjust=\"spacingAndGlyphs\" textLength=\"41\" x=\"36.5\" y=\"116.1387\">«item»</text><text fill=\"#000000\" font-family=\"sans-serif\" font-size=\"12\" lengthAdjust=\"spacingAndGlyphs\" textLength=\"20\" x=\"47\" y=\"130.1074\">f: A</text></a></g><g id=\"E1.E5.E6\"><a href=\"psysml:83dfbdb9-73af-4dff-b5ad-52a21a738594\" target=\"_top\" title=\"psysml:83dfbdb9-73af-4dff-b5ad-52a21a738594\" xlink:actuate=\"onRequest\" xlink:href=\"psysml:83dfbdb9-73af-4dff-b5ad-52a21a738594\" xlink:show=\"new\" xlink:title=\"psysml:83dfbdb9-73af-4dff-b5ad-52a21a738594\" xlink:type=\"simple\"><rect fill=\"#FFFFFF\" height=\"42.9375\" id=\"E6\" rx=\"10\" ry=\"10\" style=\"stroke: #383838; stroke-width: 1.5;\" width=\"82\" x=\"567\" y=\"100\"/><rect fill=\"#F8F8F8\" height=\"37.9375\" rx=\"10\" ry=\"10\" style=\"stroke: #F8F8F8; stroke-width: 1.5;\" width=\"82\" x=\"567\" y=\"100\"/><rect fill=\"#F8F8F8\" height=\"10\" style=\"stroke: #F8F8F8; stroke-width: 1.5;\" width=\"82\" x=\"567\" y=\"127.9375\"/><rect fill=\"none\" height=\"42.9375\" id=\"E6\" rx=\"10\" ry=\"10\" style=\"stroke: #383838; stroke-width: 1.5;\" width=\"82\" x=\"567\" y=\"100\"/><text fill=\"#000000\" font-family=\"sans-serif\" font-size=\"12\" font-style=\"italic\" lengthAdjust=\"spacingAndGlyphs\" textLength=\"75\" x=\"570.5\" y=\"116.1387\">«reference»</text><text fill=\"#000000\" font-family=\"sans-serif\" font-size=\"12\" lengthAdjust=\"spacingAndGlyphs\" textLength=\"38\" x=\"589\" y=\"130.1074\">y: A, B</text></a></g><!--MD5=[2ec894e233f653b4e4d7b7b96c085ac5]\n",
       "@startuml\r\n",
       "skinparam ranksep 8\r\n",
       "skinparam rectangle {\r\n",
       " backgroundColor<<block>> LightGreen\r\n",
       "}\r\n",
       "skinparam monochrome true\r\n",
       "skinparam classbackgroundcolor white\r\n",
       "skinparam shadowing false\r\n",
       "skinparam wrapWidth 300\r\n",
       "hide circle\r\n",
       "\r\n",
       "package \"ItemTest\" as E1  [[psysml:ffb2e2dc-9c37-4787-be7c-ae8a88a6d943 ]]  {\r\n",
       "rec usage \"f: A\" as E2  <<(T,blue)item>> [[psysml:cf4d7795-98ee-4d9f-9cbf-a98072608f6d ]] {\r\n",
       "}\r\n",
       "def \"A\" as E3  <<(T,blue)item def>> [[psysml:be14fc81-3f83-42fd-a525-71826c91787f ]] \r\n",
       "def \"B\" as E4  <<(T,blue)item def>> [[psysml:41f55b44-de87-42d8-a9cd-035ede31bd10 ]] \r\n",
       "rec def \"C\" as E5  <<(T,blue)part def>> [[psysml:e612b3f8-fad7-4b05-bdfc-52877d32f7f2 ]] {\r\n",
       "rec usage \"y: A, B\" as E6  <<(T,blue)reference>> [[psysml:83dfbdb9-73af-4dff-b5ad-52a21a738594 ]] {\r\n",
       "}\r\n",
       "}\r\n",
       "def \"P\" as E7  <<(T,blue)port def>> [[psysml:b51b1cf2-e677-402d-bf05-bb2fae798694 ]] \r\n",
       "}\r\n",
       "@enduml\r\n",
       "\n",
       "PlantUML version 1.2020.13(Sat Jun 13 12:26:38 UTC 2020)\n",
       "(EPL source distribution)\n",
       "Java Runtime: OpenJDK Runtime Environment\n",
       "JVM: OpenJDK 64-Bit Server VM\n",
       "Default Encoding: UTF-8\n",
       "Language: en\n",
       "Country: null\n",
       "--></g></svg>"
      ]
     },
     "execution_count": 40,
     "metadata": {},
     "output_type": "execute_result"
    }
   ],
   "source": [
    "%viz --style=\"DEFAULT\" --view=\"Interconnection\" \"ItemTest\""
   ]
  },
  {
   "cell_type": "code",
   "execution_count": 41,
   "id": "pursuant-zambia",
   "metadata": {
    "execution": {
     "iopub.execute_input": "2021-03-25T15:10:26.837558Z",
     "iopub.status.busy": "2021-03-25T15:10:26.836833Z",
     "iopub.status.idle": "2021-03-25T15:10:26.845660Z",
     "shell.execute_reply": "2021-03-25T15:10:26.845251Z"
    }
   },
   "outputs": [
    {
     "data": {
      "image/svg+xml": [
       "<?xml version=\"1.0\" encoding=\"UTF-8\" standalone=\"no\"?><svg xmlns=\"http://www.w3.org/2000/svg\" xmlns:xlink=\"http://www.w3.org/1999/xlink\" contentScriptType=\"application/ecmascript\" contentStyleType=\"text/css\" height=\"12px\" preserveAspectRatio=\"none\" style=\"width:12px;height:12px;\" version=\"1.1\" viewBox=\"0 0 12 12\" width=\"12px\" zoomAndPan=\"magnify\"><defs/><g><!--MD5=[388f21188e31bfdd97050473b19af356]\n",
       "@startuml\r\n",
       "skinparam ranksep 8\r\n",
       "skinparam monochrome true\r\n",
       "skinparam classbackgroundcolor white\r\n",
       "skinparam shadowing false\r\n",
       "skinparam wrapWidth 300\r\n",
       "hide circle\r\n",
       "\r\n",
       "@enduml\r\n",
       "\n",
       "PlantUML version 1.2020.13(Sat Jun 13 12:26:38 UTC 2020)\n",
       "(EPL source distribution)\n",
       "Java Runtime: OpenJDK Runtime Environment\n",
       "JVM: OpenJDK 64-Bit Server VM\n",
       "Default Encoding: UTF-8\n",
       "Language: en\n",
       "Country: null\n",
       "--></g></svg>"
      ]
     },
     "execution_count": 41,
     "metadata": {},
     "output_type": "execute_result"
    }
   ],
   "source": [
    "%viz --style=\"DEFAULT\" --view=\"Action\" \"ItemTest\""
   ]
  },
  {
   "cell_type": "code",
   "execution_count": 42,
   "id": "incredible-arnold",
   "metadata": {
    "execution": {
     "iopub.execute_input": "2021-03-25T15:10:26.896516Z",
     "iopub.status.busy": "2021-03-25T15:10:26.896004Z",
     "iopub.status.idle": "2021-03-25T15:10:27.169791Z",
     "shell.execute_reply": "2021-03-25T15:10:27.167589Z"
    }
   },
   "outputs": [
    {
     "data": {
      "image/svg+xml": [
       "<?xml version=\"1.0\" encoding=\"UTF-8\" standalone=\"no\"?><svg xmlns=\"http://www.w3.org/2000/svg\" xmlns:xlink=\"http://www.w3.org/1999/xlink\" contentScriptType=\"application/ecmascript\" contentStyleType=\"text/css\" height=\"738px\" preserveAspectRatio=\"none\" style=\"width:228px;height:738px;\" version=\"1.1\" viewBox=\"0 0 228 738\" width=\"228px\" zoomAndPan=\"magnify\"><defs/><g><!--MD5=[fbc87193dbaf4d95561dea2c320d4a47]\n",
       "cluster E1--><a href=\"psysml:ffb2e2dc-9c37-4787-be7c-ae8a88a6d943\" target=\"_top\" title=\"psysml:ffb2e2dc-9c37-4787-be7c-ae8a88a6d943\" xlink:actuate=\"onRequest\" xlink:href=\"psysml:ffb2e2dc-9c37-4787-be7c-ae8a88a6d943\" xlink:show=\"new\" xlink:title=\"psysml:ffb2e2dc-9c37-4787-be7c-ae8a88a6d943\" xlink:type=\"simple\"><polygon fill=\"#FFFFFF\" points=\"16,6,91,6,98,28.2969,206,28.2969,206,726,16,726,16,6\" style=\"stroke: #000000; stroke-width: 1.5;\"/><line style=\"stroke: #000000; stroke-width: 1.5;\" x1=\"16\" x2=\"98\" y1=\"28.2969\" y2=\"28.2969\"/><text fill=\"#000000\" font-family=\"sans-serif\" font-size=\"14\" font-weight=\"bold\" lengthAdjust=\"spacingAndGlyphs\" textLength=\"69\" x=\"20\" y=\"20.9951\">ItemTest</text></a><!--MD5=[b4997ac47864f28c2f74865a473b2911]\n",
       "class E2--><a href=\"psysml:cf4d7795-98ee-4d9f-9cbf-a98072608f6d\" target=\"_top\" title=\"psysml:cf4d7795-98ee-4d9f-9cbf-a98072608f6d\" xlink:actuate=\"onRequest\" xlink:href=\"psysml:cf4d7795-98ee-4d9f-9cbf-a98072608f6d\" xlink:show=\"new\" xlink:title=\"psysml:cf4d7795-98ee-4d9f-9cbf-a98072608f6d\" xlink:type=\"simple\"><rect fill=\"#FFFFFF\" height=\"45.9375\" id=\"E2\" rx=\"10\" ry=\"10\" style=\"stroke: #383838; stroke-width: 1.5;\" width=\"43\" x=\"133.5\" y=\"62\"/><text fill=\"#000000\" font-family=\"sans-serif\" font-size=\"12\" font-style=\"italic\" lengthAdjust=\"spacingAndGlyphs\" textLength=\"41\" x=\"134.5\" y=\"78.1387\">«item»</text><text fill=\"#000000\" font-family=\"sans-serif\" font-size=\"12\" lengthAdjust=\"spacingAndGlyphs\" textLength=\"20\" x=\"145\" y=\"92.1074\">f: A</text><line style=\"stroke: #383838; stroke-width: 1.5;\" x1=\"134.5\" x2=\"175.5\" y1=\"99.9375\" y2=\"99.9375\"/></a><!--MD5=[09b614a08d8cba4a07c9adeb5e0fee81]\n",
       "class E3--><a href=\"psysml:be14fc81-3f83-42fd-a525-71826c91787f\" target=\"_top\" title=\"psysml:be14fc81-3f83-42fd-a525-71826c91787f\" xlink:actuate=\"onRequest\" xlink:href=\"psysml:be14fc81-3f83-42fd-a525-71826c91787f\" xlink:show=\"new\" xlink:title=\"psysml:be14fc81-3f83-42fd-a525-71826c91787f\" xlink:type=\"simple\"><rect fill=\"#FFFFFF\" height=\"75.5469\" id=\"E3\" style=\"stroke: #383838; stroke-width: 1.5;\" width=\"67\" x=\"115.5\" y=\"190\"/><text fill=\"#000000\" font-family=\"sans-serif\" font-size=\"12\" font-style=\"italic\" lengthAdjust=\"spacingAndGlyphs\" textLength=\"65\" x=\"116.5\" y=\"206.1387\">«item def»</text><text fill=\"#000000\" font-family=\"sans-serif\" font-size=\"12\" lengthAdjust=\"spacingAndGlyphs\" textLength=\"8\" x=\"145\" y=\"220.1074\">A</text><line style=\"stroke: #383838; stroke-width: 1.5;\" x1=\"116.5\" x2=\"181.5\" y1=\"227.9375\" y2=\"227.9375\"/><text fill=\"#000000\" font-family=\"sans-serif\" font-size=\"11\" lengthAdjust=\"spacingAndGlyphs\" textLength=\"23\" x=\"121.5\" y=\"258.9526\">b: B</text><line style=\"stroke: #383838; stroke-width: 1.0;\" x1=\"116.5\" x2=\"133\" y1=\"242.3398\" y2=\"242.3398\"/><text fill=\"#000000\" font-family=\"sans-serif\" font-size=\"11\" lengthAdjust=\"spacingAndGlyphs\" textLength=\"32\" x=\"133\" y=\"245.6479\">items</text><line style=\"stroke: #383838; stroke-width: 1.0;\" x1=\"165\" x2=\"181.5\" y1=\"242.3398\" y2=\"242.3398\"/></a><!--MD5=[270fce915f116d4de14055a7c1d9a0f3]\n",
       "class E5--><a href=\"psysml:77af57f1-340c-421d-9a30-1a49108711b3\" target=\"_top\" title=\"psysml:77af57f1-340c-421d-9a30-1a49108711b3\" xlink:actuate=\"onRequest\" xlink:href=\"psysml:77af57f1-340c-421d-9a30-1a49108711b3\" xlink:show=\"new\" xlink:title=\"psysml:77af57f1-340c-421d-9a30-1a49108711b3\" xlink:type=\"simple\"><rect fill=\"#FFFFFF\" height=\"45.9375\" id=\"E5\" rx=\"10\" ry=\"10\" style=\"stroke: #383838; stroke-width: 1.5;\" width=\"42\" x=\"32\" y=\"327\"/><text fill=\"#000000\" font-family=\"sans-serif\" font-size=\"12\" font-style=\"italic\" lengthAdjust=\"spacingAndGlyphs\" textLength=\"40\" x=\"33\" y=\"343.1387\">«part»</text><text fill=\"#000000\" font-family=\"sans-serif\" font-size=\"12\" lengthAdjust=\"spacingAndGlyphs\" textLength=\"23\" x=\"41.5\" y=\"357.1074\">c: C</text><line style=\"stroke: #383838; stroke-width: 1.5;\" x1=\"33\" x2=\"73\" y1=\"364.9375\" y2=\"364.9375\"/></a><!--MD5=[60a26617385b1d2d0262a64233df1f8d]\n",
       "class E6--><a href=\"psysml:41f55b44-de87-42d8-a9cd-035ede31bd10\" target=\"_top\" title=\"psysml:41f55b44-de87-42d8-a9cd-035ede31bd10\" xlink:actuate=\"onRequest\" xlink:href=\"psysml:41f55b44-de87-42d8-a9cd-035ede31bd10\" xlink:show=\"new\" xlink:title=\"psysml:41f55b44-de87-42d8-a9cd-035ede31bd10\" xlink:type=\"simple\"><rect fill=\"#FFFFFF\" height=\"45.9375\" id=\"E6\" style=\"stroke: #383838; stroke-width: 1.5;\" width=\"67\" x=\"85.5\" y=\"557\"/><text fill=\"#000000\" font-family=\"sans-serif\" font-size=\"12\" font-style=\"italic\" lengthAdjust=\"spacingAndGlyphs\" textLength=\"65\" x=\"86.5\" y=\"573.1387\">«item def»</text><text fill=\"#000000\" font-family=\"sans-serif\" font-size=\"12\" lengthAdjust=\"spacingAndGlyphs\" textLength=\"8\" x=\"115\" y=\"587.1074\">B</text><line style=\"stroke: #383838; stroke-width: 1.5;\" x1=\"86.5\" x2=\"151.5\" y1=\"594.9375\" y2=\"594.9375\"/></a><!--MD5=[2156ba9850f5573cc1fc38a6a4b2f02b]\n",
       "class E7--><a href=\"psysml:4ca48e5a-78fa-40b6-ad88-229f08c03677\" target=\"_top\" title=\"psysml:4ca48e5a-78fa-40b6-ad88-229f08c03677\" xlink:actuate=\"onRequest\" xlink:href=\"psysml:4ca48e5a-78fa-40b6-ad88-229f08c03677\" xlink:show=\"new\" xlink:title=\"psysml:4ca48e5a-78fa-40b6-ad88-229f08c03677\" xlink:type=\"simple\"><rect fill=\"#FFFFFF\" height=\"45.9375\" id=\"E7\" rx=\"10\" ry=\"10\" style=\"stroke: #383838; stroke-width: 1.5;\" width=\"42\" x=\"123\" y=\"664\"/><text fill=\"#000000\" font-family=\"sans-serif\" font-size=\"12\" font-style=\"italic\" lengthAdjust=\"spacingAndGlyphs\" textLength=\"40\" x=\"124\" y=\"680.1387\">«part»</text><text fill=\"#000000\" font-family=\"sans-serif\" font-size=\"12\" lengthAdjust=\"spacingAndGlyphs\" textLength=\"24\" x=\"132\" y=\"694.1074\">a: A</text><line style=\"stroke: #383838; stroke-width: 1.5;\" x1=\"124\" x2=\"164\" y1=\"701.9375\" y2=\"701.9375\"/></a><!--MD5=[b9389687b975829384b498ac4b7476b2]\n",
       "class E8--><a href=\"psysml:e612b3f8-fad7-4b05-bdfc-52877d32f7f2\" target=\"_top\" title=\"psysml:e612b3f8-fad7-4b05-bdfc-52877d32f7f2\" xlink:actuate=\"onRequest\" xlink:href=\"psysml:e612b3f8-fad7-4b05-bdfc-52877d32f7f2\" xlink:show=\"new\" xlink:title=\"psysml:e612b3f8-fad7-4b05-bdfc-52877d32f7f2\" xlink:type=\"simple\"><rect fill=\"#FFFFFF\" height=\"45.9375\" id=\"E8\" style=\"stroke: #383838; stroke-width: 1.5;\" width=\"66\" x=\"86\" y=\"434\"/><text fill=\"#000000\" font-family=\"sans-serif\" font-size=\"12\" font-style=\"italic\" lengthAdjust=\"spacingAndGlyphs\" textLength=\"64\" x=\"87\" y=\"450.1387\">«part def»</text><text fill=\"#000000\" font-family=\"sans-serif\" font-size=\"12\" lengthAdjust=\"spacingAndGlyphs\" textLength=\"8\" x=\"115\" y=\"464.1074\">C</text><line style=\"stroke: #383838; stroke-width: 1.5;\" x1=\"87\" x2=\"151\" y1=\"471.9375\" y2=\"471.9375\"/></a><!--MD5=[fd4143e9d270a159db93a4ea2a975926]\n",
       "class E9--><a href=\"psysml:b51b1cf2-e677-402d-bf05-bb2fae798694\" target=\"_top\" title=\"psysml:b51b1cf2-e677-402d-bf05-bb2fae798694\" xlink:actuate=\"onRequest\" xlink:href=\"psysml:b51b1cf2-e677-402d-bf05-bb2fae798694\" xlink:show=\"new\" xlink:title=\"psysml:b51b1cf2-e677-402d-bf05-bb2fae798694\" xlink:type=\"simple\"><rect fill=\"#FFFFFF\" height=\"88.3516\" id=\"E9\" style=\"stroke: #383838; stroke-width: 1.5;\" width=\"66\" x=\"32\" y=\"41\"/><text fill=\"#000000\" font-family=\"sans-serif\" font-size=\"12\" font-style=\"italic\" lengthAdjust=\"spacingAndGlyphs\" textLength=\"64\" x=\"33\" y=\"57.1387\">«port def»</text><text fill=\"#000000\" font-family=\"sans-serif\" font-size=\"12\" lengthAdjust=\"spacingAndGlyphs\" textLength=\"8\" x=\"61\" y=\"71.1074\">P</text><line style=\"stroke: #383838; stroke-width: 1.5;\" x1=\"33\" x2=\"97\" y1=\"78.9375\" y2=\"78.9375\"/><text fill=\"#000000\" font-family=\"sans-serif\" font-size=\"11\" lengthAdjust=\"spacingAndGlyphs\" textLength=\"29\" x=\"38\" y=\"109.9526\">a1: A</text><text fill=\"#000000\" font-family=\"sans-serif\" font-size=\"11\" lengthAdjust=\"spacingAndGlyphs\" textLength=\"29\" x=\"38\" y=\"122.7573\">a2: A</text><line style=\"stroke: #383838; stroke-width: 1.0;\" x1=\"33\" x2=\"49\" y1=\"93.3398\" y2=\"93.3398\"/><text fill=\"#000000\" font-family=\"sans-serif\" font-size=\"11\" lengthAdjust=\"spacingAndGlyphs\" textLength=\"32\" x=\"49\" y=\"96.6479\">items</text><line style=\"stroke: #383838; stroke-width: 1.0;\" x1=\"81\" x2=\"97\" y1=\"93.3398\" y2=\"93.3398\"/></a><!--MD5=[2720a5a1f2c3fca2055b230370638851]\n",
       "link E2 to E3--><a href=\"psysml:5c778f2f-9d99-44f7-9cbe-495e6850b493\" target=\"_top\" title=\"psysml:5c778f2f-9d99-44f7-9cbe-495e6850b493\" xlink:actuate=\"onRequest\" xlink:href=\"psysml:5c778f2f-9d99-44f7-9cbe-495e6850b493\" xlink:show=\"new\" xlink:title=\"psysml:5c778f2f-9d99-44f7-9cbe-495e6850b493\" xlink:type=\"simple\"><path d=\"M154.06,108.03 C153.36,124.58 152.36,148.04 151.44,169.76 \" fill=\"none\" id=\"E2-&gt;E3\" style=\"stroke: #383838; stroke-width: 1.0;\"/><polygon fill=\"#FFFFFF\" points=\"150.58,189.77,144.4005,170.4875,158.3877,171.0874,150.58,189.77\" style=\"stroke: #383838; stroke-width: 1.0;\"/><ellipse cx=\"146.6429\" cy=\"164.8784\" fill=\"#383838\" rx=\"2\" ry=\"2\" style=\"stroke: #383838; stroke-width: 1.0;\"/><ellipse cx=\"156.6338\" cy=\"165.3069\" fill=\"#383838\" rx=\"2\" ry=\"2\" style=\"stroke: #383838; stroke-width: 1.0;\"/></a><!--MD5=[191cde3d490a3f6d7bb551fe3ddca469]\n",
       "reverse link E3 to E5--><a href=\"psysml:77af57f1-340c-421d-9a30-1a49108711b3\" target=\"_top\" title=\"psysml:77af57f1-340c-421d-9a30-1a49108711b3\" xlink:actuate=\"onRequest\" xlink:href=\"psysml:77af57f1-340c-421d-9a30-1a49108711b3\" xlink:show=\"new\" xlink:title=\"psysml:77af57f1-340c-421d-9a30-1a49108711b3\" xlink:type=\"simple\"><path d=\"M110.75,276.82 C96.95,294.07 82.02,312.72 70.8,326.75 \" fill=\"none\" id=\"E3&lt;-E5\" style=\"stroke: #383838; stroke-width: 1.0;\"/><polygon fill=\"#FFFFFF\" points=\"119.15,266.31,112.2784,268.4964,111.6537,275.6804,118.5253,273.494,119.15,266.31\" style=\"stroke: #383838; stroke-width: 1.0;\"/></a><!--MD5=[14ccda38c055a5c0da953d572bc50960]\n",
       "link E7 to E3--><a href=\"psysml:8bb447da-4a21-4000-9a04-f9f9c4ed48f1\" target=\"_top\" title=\"psysml:8bb447da-4a21-4000-9a04-f9f9c4ed48f1\" xlink:actuate=\"onRequest\" xlink:href=\"psysml:8bb447da-4a21-4000-9a04-f9f9c4ed48f1\" xlink:show=\"new\" xlink:title=\"psysml:8bb447da-4a21-4000-9a04-f9f9c4ed48f1\" xlink:type=\"simple\"><path d=\"M159.74,663.82 C172.72,643.34 189,611.54 189,581 C189,349 189,349 189,349 C189,327.34 183.06,304.56 175.76,284.74 \" fill=\"none\" id=\"E7-&gt;E3\" style=\"stroke: #383838; stroke-width: 1.0;\"/><polygon fill=\"#FFFFFF\" points=\"168.18,266.05,181.8034,281.0301,168.8283,286.2881,168.18,266.05\" style=\"stroke: #383838; stroke-width: 1.0;\"/><ellipse cx=\"182.0906\" cy=\"287.0639\" fill=\"#383838\" rx=\"2\" ry=\"2\" style=\"stroke: #383838; stroke-width: 1.0;\"/><ellipse cx=\"172.8227\" cy=\"290.8196\" fill=\"#383838\" rx=\"2\" ry=\"2\" style=\"stroke: #383838; stroke-width: 1.0;\"/></a><!--MD5=[3f50a3473f1dfb74d3f76443e03635af]\n",
       "reverse link E6 to E7--><a href=\"psysml:4ca48e5a-78fa-40b6-ad88-229f08c03677\" target=\"_top\" title=\"psysml:4ca48e5a-78fa-40b6-ad88-229f08c03677\" xlink:actuate=\"onRequest\" xlink:href=\"psysml:4ca48e5a-78fa-40b6-ad88-229f08c03677\" xlink:show=\"new\" xlink:title=\"psysml:4ca48e5a-78fa-40b6-ad88-229f08c03677\" xlink:type=\"simple\"><path d=\"M127.34,616.05 C131.08,631.76 135.39,649.82 138.68,663.66 \" fill=\"none\" id=\"E6&lt;-E7\" style=\"stroke: #383838; stroke-width: 1.0;\"/><polygon fill=\"#383838\" points=\"124.24,603.01,121.7406,609.7741,127.023,614.6828,129.5224,607.9187,124.24,603.01\" style=\"stroke: #383838; stroke-width: 1.0;\"/></a><!--MD5=[dfaffb906826c3e5aca635516100ff21]\n",
       "link E5 to E8--><a href=\"psysml:6ff88c17-8c2d-42a4-af32-a2455d6f0acf\" target=\"_top\" title=\"psysml:6ff88c17-8c2d-42a4-af32-a2455d6f0acf\" xlink:actuate=\"onRequest\" xlink:href=\"psysml:6ff88c17-8c2d-42a4-af32-a2455d6f0acf\" xlink:show=\"new\" xlink:title=\"psysml:6ff88c17-8c2d-42a4-af32-a2455d6f0acf\" xlink:type=\"simple\"><path d=\"M66.84,373.01 C74.79,385.67 85.02,401.94 94.31,416.72 \" fill=\"none\" id=\"E5-&gt;E8\" style=\"stroke: #383838; stroke-width: 1.0;\"/><polygon fill=\"#FFFFFF\" points=\"104.96,433.66,88.9212,421.3005,100.7735,413.8491,104.96,433.66\" style=\"stroke: #383838; stroke-width: 1.0;\"/><ellipse cx=\"87.5806\" cy=\"415.4104\" fill=\"#383838\" rx=\"2\" ry=\"2\" style=\"stroke: #383838; stroke-width: 1.0;\"/><ellipse cx=\"96.0465\" cy=\"410.088\" fill=\"#383838\" rx=\"2\" ry=\"2\" style=\"stroke: #383838; stroke-width: 1.0;\"/></a><!--MD5=[03c8294790d3c57651a1993cecff665f]\n",
       "reverse link E8 to E3--><a href=\"psysml:83dfbdb9-73af-4dff-b5ad-52a21a738594\" target=\"_top\" title=\"psysml:83dfbdb9-73af-4dff-b5ad-52a21a738594\" xlink:actuate=\"onRequest\" xlink:href=\"psysml:83dfbdb9-73af-4dff-b5ad-52a21a738594\" xlink:show=\"new\" xlink:title=\"psysml:83dfbdb9-73af-4dff-b5ad-52a21a738594\" xlink:type=\"simple\"><path d=\"M123.65,420.81 C129.2,378.86 138.42,309.06 144.08,266.23 \" fill=\"none\" id=\"E8&lt;-E3\" style=\"stroke: #383838; stroke-width: 1.0;\"/><polygon fill=\"#FFFFFF\" points=\"121.92,433.89,126.6755,428.4692,123.5008,421.9946,118.7453,427.4154,121.92,433.89\" style=\"stroke: #383838; stroke-width: 1.0;\"/><text fill=\"#000000\" font-family=\"sans-serif\" font-size=\"13\" lengthAdjust=\"spacingAndGlyphs\" textLength=\"7\" x=\"136\" y=\"354.5669\">y</text></a><!--MD5=[0d75d2178373a6a4568e5dc728f58aef]\n",
       "reverse link E8 to E6--><a href=\"psysml:83dfbdb9-73af-4dff-b5ad-52a21a738594\" target=\"_top\" title=\"psysml:83dfbdb9-73af-4dff-b5ad-52a21a738594\" xlink:actuate=\"onRequest\" xlink:href=\"psysml:83dfbdb9-73af-4dff-b5ad-52a21a738594\" xlink:show=\"new\" xlink:title=\"psysml:83dfbdb9-73af-4dff-b5ad-52a21a738594\" xlink:type=\"simple\"><path d=\"M119,493.22 C119,513.81 119,539.16 119,556.95 \" fill=\"none\" id=\"E8&lt;-E6\" style=\"stroke: #383838; stroke-width: 1.0;\"/><polygon fill=\"#FFFFFF\" points=\"119,480.19,115,486.19,119,492.19,123,486.19,119,480.19\" style=\"stroke: #383838; stroke-width: 1.0;\"/><text fill=\"#000000\" font-family=\"sans-serif\" font-size=\"13\" lengthAdjust=\"spacingAndGlyphs\" textLength=\"7\" x=\"120\" y=\"523.0669\">y</text></a><!--MD5=[2a29c946dcf9560fae6159dcc5d394d9]\n",
       "@startuml\r\n",
       "skinparam monochrome true\r\n",
       "skinparam classbackgroundcolor white\r\n",
       "skinparam shadowing false\r\n",
       "skinparam wrapWidth 300\r\n",
       "hide circle\r\n",
       "\r\n",
       "package \"ItemTest\" as E1  [[psysml:ffb2e2dc-9c37-4787-be7c-ae8a88a6d943 ]]  {\r\n",
       "comp usage \"f: A\" as E2  <<(T,blue)item>> [[psysml:cf4d7795-98ee-4d9f-9cbf-a98072608f6d ]] {\r\n",
       "}\r\n",
       "comp def \"A\" as E3  <<(T,blue)item def>> [[psysml:be14fc81-3f83-42fd-a525-71826c91787f ]] {\r\n",
       "- - items - -\r\n",
       "b: B\r\n",
       "}\r\n",
       "comp usage \"c: C\" as E5  <<(T,blue)part>> [[psysml:77af57f1-340c-421d-9a30-1a49108711b3 ]] {\r\n",
       "}\r\n",
       "comp def \"B\" as E6  <<(T,blue)item def>> [[psysml:41f55b44-de87-42d8-a9cd-035ede31bd10 ]] {\r\n",
       "}\r\n",
       "comp usage \"a: A\" as E7  <<(T,blue)part>> [[psysml:4ca48e5a-78fa-40b6-ad88-229f08c03677 ]] {\r\n",
       "}\r\n",
       "comp def \"C\" as E8  <<(T,blue)part def>> [[psysml:e612b3f8-fad7-4b05-bdfc-52877d32f7f2 ]] {\r\n",
       "}\r\n",
       "comp def \"P\" as E9  <<(T,blue)port def>> [[psysml:b51b1cf2-e677-402d-bf05-bb2fae798694 ]] {\r\n",
       "- - items - -\r\n",
       "a1: A\r\n",
       "a2: A\r\n",
       "}\r\n",
       "E2 - -:|> E3 [[psysml:5c778f2f-9d99-44f7-9cbe-495e6850b493 ]] \r\n",
       "E3 o- - E5 [[psysml:77af57f1-340c-421d-9a30-1a49108711b3 ]] \r\n",
       "E7 - -:|> E3 [[psysml:8bb447da-4a21-4000-9a04-f9f9c4ed48f1 ]] \r\n",
       "E6 *- - E7 [[psysml:4ca48e5a-78fa-40b6-ad88-229f08c03677 ]] \r\n",
       "E5 - -:|> E8 [[psysml:6ff88c17-8c2d-42a4-af32-a2455d6f0acf ]] \r\n",
       "E8 o- - E3 [[psysml:83dfbdb9-73af-4dff-b5ad-52a21a738594 ]] : y\r\n",
       "E8 o- - E6 [[psysml:83dfbdb9-73af-4dff-b5ad-52a21a738594 ]] : y\r\n",
       "}\r\n",
       "@enduml\r\n",
       "\n",
       "PlantUML version 1.2020.13(Sat Jun 13 12:26:38 UTC 2020)\n",
       "(EPL source distribution)\n",
       "Java Runtime: OpenJDK Runtime Environment\n",
       "JVM: OpenJDK 64-Bit Server VM\n",
       "Default Encoding: UTF-8\n",
       "Language: en\n",
       "Country: null\n",
       "--></g></svg>"
      ]
     },
     "execution_count": 42,
     "metadata": {},
     "output_type": "execute_result"
    }
   ],
   "source": [
    "%viz --style=\"DEFAULT\" --view=\"Sequence\" \"ItemTest\""
   ]
  },
  {
   "cell_type": "code",
   "execution_count": 43,
   "id": "deluxe-calgary",
   "metadata": {
    "execution": {
     "iopub.execute_input": "2021-03-25T15:10:27.220088Z",
     "iopub.status.busy": "2021-03-25T15:10:27.219340Z",
     "iopub.status.idle": "2021-03-25T15:10:27.496252Z",
     "shell.execute_reply": "2021-03-25T15:10:27.494834Z"
    }
   },
   "outputs": [
    {
     "data": {
      "image/svg+xml": [
       "<?xml version=\"1.0\" encoding=\"UTF-8\" standalone=\"no\"?><svg xmlns=\"http://www.w3.org/2000/svg\" xmlns:xlink=\"http://www.w3.org/1999/xlink\" contentScriptType=\"application/ecmascript\" contentStyleType=\"text/css\" height=\"738px\" preserveAspectRatio=\"none\" style=\"width:228px;height:738px;\" version=\"1.1\" viewBox=\"0 0 228 738\" width=\"228px\" zoomAndPan=\"magnify\"><defs/><g><!--MD5=[fbc87193dbaf4d95561dea2c320d4a47]\n",
       "cluster E1--><a href=\"psysml:ffb2e2dc-9c37-4787-be7c-ae8a88a6d943\" target=\"_top\" title=\"psysml:ffb2e2dc-9c37-4787-be7c-ae8a88a6d943\" xlink:actuate=\"onRequest\" xlink:href=\"psysml:ffb2e2dc-9c37-4787-be7c-ae8a88a6d943\" xlink:show=\"new\" xlink:title=\"psysml:ffb2e2dc-9c37-4787-be7c-ae8a88a6d943\" xlink:type=\"simple\"><polygon fill=\"#FFFFFF\" points=\"16,6,91,6,98,28.2969,206,28.2969,206,726,16,726,16,6\" style=\"stroke: #000000; stroke-width: 1.5;\"/><line style=\"stroke: #000000; stroke-width: 1.5;\" x1=\"16\" x2=\"98\" y1=\"28.2969\" y2=\"28.2969\"/><text fill=\"#000000\" font-family=\"sans-serif\" font-size=\"14\" font-weight=\"bold\" lengthAdjust=\"spacingAndGlyphs\" textLength=\"69\" x=\"20\" y=\"20.9951\">ItemTest</text></a><!--MD5=[b4997ac47864f28c2f74865a473b2911]\n",
       "class E2--><a href=\"psysml:cf4d7795-98ee-4d9f-9cbf-a98072608f6d\" target=\"_top\" title=\"psysml:cf4d7795-98ee-4d9f-9cbf-a98072608f6d\" xlink:actuate=\"onRequest\" xlink:href=\"psysml:cf4d7795-98ee-4d9f-9cbf-a98072608f6d\" xlink:show=\"new\" xlink:title=\"psysml:cf4d7795-98ee-4d9f-9cbf-a98072608f6d\" xlink:type=\"simple\"><rect fill=\"#FFFFFF\" height=\"45.9375\" id=\"E2\" rx=\"10\" ry=\"10\" style=\"stroke: #383838; stroke-width: 1.5;\" width=\"43\" x=\"133.5\" y=\"62\"/><text fill=\"#000000\" font-family=\"sans-serif\" font-size=\"12\" font-style=\"italic\" lengthAdjust=\"spacingAndGlyphs\" textLength=\"41\" x=\"134.5\" y=\"78.1387\">«item»</text><text fill=\"#000000\" font-family=\"sans-serif\" font-size=\"12\" lengthAdjust=\"spacingAndGlyphs\" textLength=\"20\" x=\"145\" y=\"92.1074\">f: A</text><line style=\"stroke: #383838; stroke-width: 1.5;\" x1=\"134.5\" x2=\"175.5\" y1=\"99.9375\" y2=\"99.9375\"/></a><!--MD5=[09b614a08d8cba4a07c9adeb5e0fee81]\n",
       "class E3--><a href=\"psysml:be14fc81-3f83-42fd-a525-71826c91787f\" target=\"_top\" title=\"psysml:be14fc81-3f83-42fd-a525-71826c91787f\" xlink:actuate=\"onRequest\" xlink:href=\"psysml:be14fc81-3f83-42fd-a525-71826c91787f\" xlink:show=\"new\" xlink:title=\"psysml:be14fc81-3f83-42fd-a525-71826c91787f\" xlink:type=\"simple\"><rect fill=\"#FFFFFF\" height=\"75.5469\" id=\"E3\" style=\"stroke: #383838; stroke-width: 1.5;\" width=\"67\" x=\"115.5\" y=\"190\"/><text fill=\"#000000\" font-family=\"sans-serif\" font-size=\"12\" font-style=\"italic\" lengthAdjust=\"spacingAndGlyphs\" textLength=\"65\" x=\"116.5\" y=\"206.1387\">«item def»</text><text fill=\"#000000\" font-family=\"sans-serif\" font-size=\"12\" lengthAdjust=\"spacingAndGlyphs\" textLength=\"8\" x=\"145\" y=\"220.1074\">A</text><line style=\"stroke: #383838; stroke-width: 1.5;\" x1=\"116.5\" x2=\"181.5\" y1=\"227.9375\" y2=\"227.9375\"/><text fill=\"#000000\" font-family=\"sans-serif\" font-size=\"11\" lengthAdjust=\"spacingAndGlyphs\" textLength=\"23\" x=\"121.5\" y=\"258.9526\">b: B</text><line style=\"stroke: #383838; stroke-width: 1.0;\" x1=\"116.5\" x2=\"133\" y1=\"242.3398\" y2=\"242.3398\"/><text fill=\"#000000\" font-family=\"sans-serif\" font-size=\"11\" lengthAdjust=\"spacingAndGlyphs\" textLength=\"32\" x=\"133\" y=\"245.6479\">items</text><line style=\"stroke: #383838; stroke-width: 1.0;\" x1=\"165\" x2=\"181.5\" y1=\"242.3398\" y2=\"242.3398\"/></a><!--MD5=[270fce915f116d4de14055a7c1d9a0f3]\n",
       "class E5--><a href=\"psysml:77af57f1-340c-421d-9a30-1a49108711b3\" target=\"_top\" title=\"psysml:77af57f1-340c-421d-9a30-1a49108711b3\" xlink:actuate=\"onRequest\" xlink:href=\"psysml:77af57f1-340c-421d-9a30-1a49108711b3\" xlink:show=\"new\" xlink:title=\"psysml:77af57f1-340c-421d-9a30-1a49108711b3\" xlink:type=\"simple\"><rect fill=\"#FFFFFF\" height=\"45.9375\" id=\"E5\" rx=\"10\" ry=\"10\" style=\"stroke: #383838; stroke-width: 1.5;\" width=\"42\" x=\"32\" y=\"327\"/><text fill=\"#000000\" font-family=\"sans-serif\" font-size=\"12\" font-style=\"italic\" lengthAdjust=\"spacingAndGlyphs\" textLength=\"40\" x=\"33\" y=\"343.1387\">«part»</text><text fill=\"#000000\" font-family=\"sans-serif\" font-size=\"12\" lengthAdjust=\"spacingAndGlyphs\" textLength=\"23\" x=\"41.5\" y=\"357.1074\">c: C</text><line style=\"stroke: #383838; stroke-width: 1.5;\" x1=\"33\" x2=\"73\" y1=\"364.9375\" y2=\"364.9375\"/></a><!--MD5=[60a26617385b1d2d0262a64233df1f8d]\n",
       "class E6--><a href=\"psysml:41f55b44-de87-42d8-a9cd-035ede31bd10\" target=\"_top\" title=\"psysml:41f55b44-de87-42d8-a9cd-035ede31bd10\" xlink:actuate=\"onRequest\" xlink:href=\"psysml:41f55b44-de87-42d8-a9cd-035ede31bd10\" xlink:show=\"new\" xlink:title=\"psysml:41f55b44-de87-42d8-a9cd-035ede31bd10\" xlink:type=\"simple\"><rect fill=\"#FFFFFF\" height=\"45.9375\" id=\"E6\" style=\"stroke: #383838; stroke-width: 1.5;\" width=\"67\" x=\"85.5\" y=\"557\"/><text fill=\"#000000\" font-family=\"sans-serif\" font-size=\"12\" font-style=\"italic\" lengthAdjust=\"spacingAndGlyphs\" textLength=\"65\" x=\"86.5\" y=\"573.1387\">«item def»</text><text fill=\"#000000\" font-family=\"sans-serif\" font-size=\"12\" lengthAdjust=\"spacingAndGlyphs\" textLength=\"8\" x=\"115\" y=\"587.1074\">B</text><line style=\"stroke: #383838; stroke-width: 1.5;\" x1=\"86.5\" x2=\"151.5\" y1=\"594.9375\" y2=\"594.9375\"/></a><!--MD5=[2156ba9850f5573cc1fc38a6a4b2f02b]\n",
       "class E7--><a href=\"psysml:4ca48e5a-78fa-40b6-ad88-229f08c03677\" target=\"_top\" title=\"psysml:4ca48e5a-78fa-40b6-ad88-229f08c03677\" xlink:actuate=\"onRequest\" xlink:href=\"psysml:4ca48e5a-78fa-40b6-ad88-229f08c03677\" xlink:show=\"new\" xlink:title=\"psysml:4ca48e5a-78fa-40b6-ad88-229f08c03677\" xlink:type=\"simple\"><rect fill=\"#FFFFFF\" height=\"45.9375\" id=\"E7\" rx=\"10\" ry=\"10\" style=\"stroke: #383838; stroke-width: 1.5;\" width=\"42\" x=\"123\" y=\"664\"/><text fill=\"#000000\" font-family=\"sans-serif\" font-size=\"12\" font-style=\"italic\" lengthAdjust=\"spacingAndGlyphs\" textLength=\"40\" x=\"124\" y=\"680.1387\">«part»</text><text fill=\"#000000\" font-family=\"sans-serif\" font-size=\"12\" lengthAdjust=\"spacingAndGlyphs\" textLength=\"24\" x=\"132\" y=\"694.1074\">a: A</text><line style=\"stroke: #383838; stroke-width: 1.5;\" x1=\"124\" x2=\"164\" y1=\"701.9375\" y2=\"701.9375\"/></a><!--MD5=[b9389687b975829384b498ac4b7476b2]\n",
       "class E8--><a href=\"psysml:e612b3f8-fad7-4b05-bdfc-52877d32f7f2\" target=\"_top\" title=\"psysml:e612b3f8-fad7-4b05-bdfc-52877d32f7f2\" xlink:actuate=\"onRequest\" xlink:href=\"psysml:e612b3f8-fad7-4b05-bdfc-52877d32f7f2\" xlink:show=\"new\" xlink:title=\"psysml:e612b3f8-fad7-4b05-bdfc-52877d32f7f2\" xlink:type=\"simple\"><rect fill=\"#FFFFFF\" height=\"45.9375\" id=\"E8\" style=\"stroke: #383838; stroke-width: 1.5;\" width=\"66\" x=\"86\" y=\"434\"/><text fill=\"#000000\" font-family=\"sans-serif\" font-size=\"12\" font-style=\"italic\" lengthAdjust=\"spacingAndGlyphs\" textLength=\"64\" x=\"87\" y=\"450.1387\">«part def»</text><text fill=\"#000000\" font-family=\"sans-serif\" font-size=\"12\" lengthAdjust=\"spacingAndGlyphs\" textLength=\"8\" x=\"115\" y=\"464.1074\">C</text><line style=\"stroke: #383838; stroke-width: 1.5;\" x1=\"87\" x2=\"151\" y1=\"471.9375\" y2=\"471.9375\"/></a><!--MD5=[fd4143e9d270a159db93a4ea2a975926]\n",
       "class E9--><a href=\"psysml:b51b1cf2-e677-402d-bf05-bb2fae798694\" target=\"_top\" title=\"psysml:b51b1cf2-e677-402d-bf05-bb2fae798694\" xlink:actuate=\"onRequest\" xlink:href=\"psysml:b51b1cf2-e677-402d-bf05-bb2fae798694\" xlink:show=\"new\" xlink:title=\"psysml:b51b1cf2-e677-402d-bf05-bb2fae798694\" xlink:type=\"simple\"><rect fill=\"#FFFFFF\" height=\"88.3516\" id=\"E9\" style=\"stroke: #383838; stroke-width: 1.5;\" width=\"66\" x=\"32\" y=\"41\"/><text fill=\"#000000\" font-family=\"sans-serif\" font-size=\"12\" font-style=\"italic\" lengthAdjust=\"spacingAndGlyphs\" textLength=\"64\" x=\"33\" y=\"57.1387\">«port def»</text><text fill=\"#000000\" font-family=\"sans-serif\" font-size=\"12\" lengthAdjust=\"spacingAndGlyphs\" textLength=\"8\" x=\"61\" y=\"71.1074\">P</text><line style=\"stroke: #383838; stroke-width: 1.5;\" x1=\"33\" x2=\"97\" y1=\"78.9375\" y2=\"78.9375\"/><text fill=\"#000000\" font-family=\"sans-serif\" font-size=\"11\" lengthAdjust=\"spacingAndGlyphs\" textLength=\"29\" x=\"38\" y=\"109.9526\">a1: A</text><text fill=\"#000000\" font-family=\"sans-serif\" font-size=\"11\" lengthAdjust=\"spacingAndGlyphs\" textLength=\"29\" x=\"38\" y=\"122.7573\">a2: A</text><line style=\"stroke: #383838; stroke-width: 1.0;\" x1=\"33\" x2=\"49\" y1=\"93.3398\" y2=\"93.3398\"/><text fill=\"#000000\" font-family=\"sans-serif\" font-size=\"11\" lengthAdjust=\"spacingAndGlyphs\" textLength=\"32\" x=\"49\" y=\"96.6479\">items</text><line style=\"stroke: #383838; stroke-width: 1.0;\" x1=\"81\" x2=\"97\" y1=\"93.3398\" y2=\"93.3398\"/></a><!--MD5=[2720a5a1f2c3fca2055b230370638851]\n",
       "link E2 to E3--><a href=\"psysml:5c778f2f-9d99-44f7-9cbe-495e6850b493\" target=\"_top\" title=\"psysml:5c778f2f-9d99-44f7-9cbe-495e6850b493\" xlink:actuate=\"onRequest\" xlink:href=\"psysml:5c778f2f-9d99-44f7-9cbe-495e6850b493\" xlink:show=\"new\" xlink:title=\"psysml:5c778f2f-9d99-44f7-9cbe-495e6850b493\" xlink:type=\"simple\"><path d=\"M154.06,108.03 C153.36,124.58 152.36,148.04 151.44,169.76 \" fill=\"none\" id=\"E2-&gt;E3\" style=\"stroke: #383838; stroke-width: 1.0;\"/><polygon fill=\"#FFFFFF\" points=\"150.58,189.77,144.4005,170.4875,158.3877,171.0874,150.58,189.77\" style=\"stroke: #383838; stroke-width: 1.0;\"/><ellipse cx=\"146.6429\" cy=\"164.8784\" fill=\"#383838\" rx=\"2\" ry=\"2\" style=\"stroke: #383838; stroke-width: 1.0;\"/><ellipse cx=\"156.6338\" cy=\"165.3069\" fill=\"#383838\" rx=\"2\" ry=\"2\" style=\"stroke: #383838; stroke-width: 1.0;\"/></a><!--MD5=[191cde3d490a3f6d7bb551fe3ddca469]\n",
       "reverse link E3 to E5--><a href=\"psysml:77af57f1-340c-421d-9a30-1a49108711b3\" target=\"_top\" title=\"psysml:77af57f1-340c-421d-9a30-1a49108711b3\" xlink:actuate=\"onRequest\" xlink:href=\"psysml:77af57f1-340c-421d-9a30-1a49108711b3\" xlink:show=\"new\" xlink:title=\"psysml:77af57f1-340c-421d-9a30-1a49108711b3\" xlink:type=\"simple\"><path d=\"M110.75,276.82 C96.95,294.07 82.02,312.72 70.8,326.75 \" fill=\"none\" id=\"E3&lt;-E5\" style=\"stroke: #383838; stroke-width: 1.0;\"/><polygon fill=\"#FFFFFF\" points=\"119.15,266.31,112.2784,268.4964,111.6537,275.6804,118.5253,273.494,119.15,266.31\" style=\"stroke: #383838; stroke-width: 1.0;\"/></a><!--MD5=[14ccda38c055a5c0da953d572bc50960]\n",
       "link E7 to E3--><a href=\"psysml:8bb447da-4a21-4000-9a04-f9f9c4ed48f1\" target=\"_top\" title=\"psysml:8bb447da-4a21-4000-9a04-f9f9c4ed48f1\" xlink:actuate=\"onRequest\" xlink:href=\"psysml:8bb447da-4a21-4000-9a04-f9f9c4ed48f1\" xlink:show=\"new\" xlink:title=\"psysml:8bb447da-4a21-4000-9a04-f9f9c4ed48f1\" xlink:type=\"simple\"><path d=\"M159.74,663.82 C172.72,643.34 189,611.54 189,581 C189,349 189,349 189,349 C189,327.34 183.06,304.56 175.76,284.74 \" fill=\"none\" id=\"E7-&gt;E3\" style=\"stroke: #383838; stroke-width: 1.0;\"/><polygon fill=\"#FFFFFF\" points=\"168.18,266.05,181.8034,281.0301,168.8283,286.2881,168.18,266.05\" style=\"stroke: #383838; stroke-width: 1.0;\"/><ellipse cx=\"182.0906\" cy=\"287.0639\" fill=\"#383838\" rx=\"2\" ry=\"2\" style=\"stroke: #383838; stroke-width: 1.0;\"/><ellipse cx=\"172.8227\" cy=\"290.8196\" fill=\"#383838\" rx=\"2\" ry=\"2\" style=\"stroke: #383838; stroke-width: 1.0;\"/></a><!--MD5=[3f50a3473f1dfb74d3f76443e03635af]\n",
       "reverse link E6 to E7--><a href=\"psysml:4ca48e5a-78fa-40b6-ad88-229f08c03677\" target=\"_top\" title=\"psysml:4ca48e5a-78fa-40b6-ad88-229f08c03677\" xlink:actuate=\"onRequest\" xlink:href=\"psysml:4ca48e5a-78fa-40b6-ad88-229f08c03677\" xlink:show=\"new\" xlink:title=\"psysml:4ca48e5a-78fa-40b6-ad88-229f08c03677\" xlink:type=\"simple\"><path d=\"M127.34,616.05 C131.08,631.76 135.39,649.82 138.68,663.66 \" fill=\"none\" id=\"E6&lt;-E7\" style=\"stroke: #383838; stroke-width: 1.0;\"/><polygon fill=\"#383838\" points=\"124.24,603.01,121.7406,609.7741,127.023,614.6828,129.5224,607.9187,124.24,603.01\" style=\"stroke: #383838; stroke-width: 1.0;\"/></a><!--MD5=[dfaffb906826c3e5aca635516100ff21]\n",
       "link E5 to E8--><a href=\"psysml:6ff88c17-8c2d-42a4-af32-a2455d6f0acf\" target=\"_top\" title=\"psysml:6ff88c17-8c2d-42a4-af32-a2455d6f0acf\" xlink:actuate=\"onRequest\" xlink:href=\"psysml:6ff88c17-8c2d-42a4-af32-a2455d6f0acf\" xlink:show=\"new\" xlink:title=\"psysml:6ff88c17-8c2d-42a4-af32-a2455d6f0acf\" xlink:type=\"simple\"><path d=\"M66.84,373.01 C74.79,385.67 85.02,401.94 94.31,416.72 \" fill=\"none\" id=\"E5-&gt;E8\" style=\"stroke: #383838; stroke-width: 1.0;\"/><polygon fill=\"#FFFFFF\" points=\"104.96,433.66,88.9212,421.3005,100.7735,413.8491,104.96,433.66\" style=\"stroke: #383838; stroke-width: 1.0;\"/><ellipse cx=\"87.5806\" cy=\"415.4104\" fill=\"#383838\" rx=\"2\" ry=\"2\" style=\"stroke: #383838; stroke-width: 1.0;\"/><ellipse cx=\"96.0465\" cy=\"410.088\" fill=\"#383838\" rx=\"2\" ry=\"2\" style=\"stroke: #383838; stroke-width: 1.0;\"/></a><!--MD5=[03c8294790d3c57651a1993cecff665f]\n",
       "reverse link E8 to E3--><a href=\"psysml:83dfbdb9-73af-4dff-b5ad-52a21a738594\" target=\"_top\" title=\"psysml:83dfbdb9-73af-4dff-b5ad-52a21a738594\" xlink:actuate=\"onRequest\" xlink:href=\"psysml:83dfbdb9-73af-4dff-b5ad-52a21a738594\" xlink:show=\"new\" xlink:title=\"psysml:83dfbdb9-73af-4dff-b5ad-52a21a738594\" xlink:type=\"simple\"><path d=\"M123.65,420.81 C129.2,378.86 138.42,309.06 144.08,266.23 \" fill=\"none\" id=\"E8&lt;-E3\" style=\"stroke: #383838; stroke-width: 1.0;\"/><polygon fill=\"#FFFFFF\" points=\"121.92,433.89,126.6755,428.4692,123.5008,421.9946,118.7453,427.4154,121.92,433.89\" style=\"stroke: #383838; stroke-width: 1.0;\"/><text fill=\"#000000\" font-family=\"sans-serif\" font-size=\"13\" lengthAdjust=\"spacingAndGlyphs\" textLength=\"7\" x=\"136\" y=\"354.5669\">y</text></a><!--MD5=[0d75d2178373a6a4568e5dc728f58aef]\n",
       "reverse link E8 to E6--><a href=\"psysml:83dfbdb9-73af-4dff-b5ad-52a21a738594\" target=\"_top\" title=\"psysml:83dfbdb9-73af-4dff-b5ad-52a21a738594\" xlink:actuate=\"onRequest\" xlink:href=\"psysml:83dfbdb9-73af-4dff-b5ad-52a21a738594\" xlink:show=\"new\" xlink:title=\"psysml:83dfbdb9-73af-4dff-b5ad-52a21a738594\" xlink:type=\"simple\"><path d=\"M119,493.22 C119,513.81 119,539.16 119,556.95 \" fill=\"none\" id=\"E8&lt;-E6\" style=\"stroke: #383838; stroke-width: 1.0;\"/><polygon fill=\"#FFFFFF\" points=\"119,480.19,115,486.19,119,492.19,123,486.19,119,480.19\" style=\"stroke: #383838; stroke-width: 1.0;\"/><text fill=\"#000000\" font-family=\"sans-serif\" font-size=\"13\" lengthAdjust=\"spacingAndGlyphs\" textLength=\"7\" x=\"120\" y=\"523.0669\">y</text></a><!--MD5=[2a29c946dcf9560fae6159dcc5d394d9]\n",
       "@startuml\r\n",
       "skinparam monochrome true\r\n",
       "skinparam classbackgroundcolor white\r\n",
       "skinparam shadowing false\r\n",
       "skinparam wrapWidth 300\r\n",
       "hide circle\r\n",
       "\r\n",
       "package \"ItemTest\" as E1  [[psysml:ffb2e2dc-9c37-4787-be7c-ae8a88a6d943 ]]  {\r\n",
       "comp usage \"f: A\" as E2  <<(T,blue)item>> [[psysml:cf4d7795-98ee-4d9f-9cbf-a98072608f6d ]] {\r\n",
       "}\r\n",
       "comp def \"A\" as E3  <<(T,blue)item def>> [[psysml:be14fc81-3f83-42fd-a525-71826c91787f ]] {\r\n",
       "- - items - -\r\n",
       "b: B\r\n",
       "}\r\n",
       "comp usage \"c: C\" as E5  <<(T,blue)part>> [[psysml:77af57f1-340c-421d-9a30-1a49108711b3 ]] {\r\n",
       "}\r\n",
       "comp def \"B\" as E6  <<(T,blue)item def>> [[psysml:41f55b44-de87-42d8-a9cd-035ede31bd10 ]] {\r\n",
       "}\r\n",
       "comp usage \"a: A\" as E7  <<(T,blue)part>> [[psysml:4ca48e5a-78fa-40b6-ad88-229f08c03677 ]] {\r\n",
       "}\r\n",
       "comp def \"C\" as E8  <<(T,blue)part def>> [[psysml:e612b3f8-fad7-4b05-bdfc-52877d32f7f2 ]] {\r\n",
       "}\r\n",
       "comp def \"P\" as E9  <<(T,blue)port def>> [[psysml:b51b1cf2-e677-402d-bf05-bb2fae798694 ]] {\r\n",
       "- - items - -\r\n",
       "a1: A\r\n",
       "a2: A\r\n",
       "}\r\n",
       "E2 - -:|> E3 [[psysml:5c778f2f-9d99-44f7-9cbe-495e6850b493 ]] \r\n",
       "E3 o- - E5 [[psysml:77af57f1-340c-421d-9a30-1a49108711b3 ]] \r\n",
       "E7 - -:|> E3 [[psysml:8bb447da-4a21-4000-9a04-f9f9c4ed48f1 ]] \r\n",
       "E6 *- - E7 [[psysml:4ca48e5a-78fa-40b6-ad88-229f08c03677 ]] \r\n",
       "E5 - -:|> E8 [[psysml:6ff88c17-8c2d-42a4-af32-a2455d6f0acf ]] \r\n",
       "E8 o- - E3 [[psysml:83dfbdb9-73af-4dff-b5ad-52a21a738594 ]] : y\r\n",
       "E8 o- - E6 [[psysml:83dfbdb9-73af-4dff-b5ad-52a21a738594 ]] : y\r\n",
       "}\r\n",
       "@enduml\r\n",
       "\n",
       "PlantUML version 1.2020.13(Sat Jun 13 12:26:38 UTC 2020)\n",
       "(EPL source distribution)\n",
       "Java Runtime: OpenJDK Runtime Environment\n",
       "JVM: OpenJDK 64-Bit Server VM\n",
       "Default Encoding: UTF-8\n",
       "Language: en\n",
       "Country: null\n",
       "--></g></svg>"
      ]
     },
     "execution_count": 43,
     "metadata": {},
     "output_type": "execute_result"
    }
   ],
   "source": [
    "%viz --style=\"DEFAULT\" --view=\"MIXED\" \"ItemTest\""
   ]
  },
  {
   "cell_type": "code",
   "execution_count": 44,
   "id": "junior-layout",
   "metadata": {
    "execution": {
     "iopub.execute_input": "2021-03-25T15:10:27.546627Z",
     "iopub.status.busy": "2021-03-25T15:10:27.546173Z",
     "iopub.status.idle": "2021-03-25T15:10:27.826165Z",
     "shell.execute_reply": "2021-03-25T15:10:27.826829Z"
    }
   },
   "outputs": [
    {
     "data": {
      "image/svg+xml": [
       "<?xml version=\"1.0\" encoding=\"UTF-8\" standalone=\"no\"?><svg xmlns=\"http://www.w3.org/2000/svg\" xmlns:xlink=\"http://www.w3.org/1999/xlink\" contentScriptType=\"application/ecmascript\" contentStyleType=\"text/css\" height=\"738px\" preserveAspectRatio=\"none\" style=\"width:228px;height:738px;\" version=\"1.1\" viewBox=\"0 0 228 738\" width=\"228px\" zoomAndPan=\"magnify\"><defs/><g><!--MD5=[fbc87193dbaf4d95561dea2c320d4a47]\n",
       "cluster E1--><a href=\"psysml:ffb2e2dc-9c37-4787-be7c-ae8a88a6d943\" target=\"_top\" title=\"psysml:ffb2e2dc-9c37-4787-be7c-ae8a88a6d943\" xlink:actuate=\"onRequest\" xlink:href=\"psysml:ffb2e2dc-9c37-4787-be7c-ae8a88a6d943\" xlink:show=\"new\" xlink:title=\"psysml:ffb2e2dc-9c37-4787-be7c-ae8a88a6d943\" xlink:type=\"simple\"><polygon fill=\"#FFFFFF\" points=\"16,6,91,6,98,28.2969,206,28.2969,206,726,16,726,16,6\" style=\"stroke: #000000; stroke-width: 1.5;\"/><line style=\"stroke: #000000; stroke-width: 1.5;\" x1=\"16\" x2=\"98\" y1=\"28.2969\" y2=\"28.2969\"/><text fill=\"#000000\" font-family=\"sans-serif\" font-size=\"14\" font-weight=\"bold\" lengthAdjust=\"spacingAndGlyphs\" textLength=\"69\" x=\"20\" y=\"20.9951\">ItemTest</text></a><!--MD5=[b4997ac47864f28c2f74865a473b2911]\n",
       "class E2--><a href=\"psysml:cf4d7795-98ee-4d9f-9cbf-a98072608f6d\" target=\"_top\" title=\"psysml:cf4d7795-98ee-4d9f-9cbf-a98072608f6d\" xlink:actuate=\"onRequest\" xlink:href=\"psysml:cf4d7795-98ee-4d9f-9cbf-a98072608f6d\" xlink:show=\"new\" xlink:title=\"psysml:cf4d7795-98ee-4d9f-9cbf-a98072608f6d\" xlink:type=\"simple\"><rect fill=\"#FFFFFF\" height=\"45.9375\" id=\"E2\" rx=\"10\" ry=\"10\" style=\"stroke: #383838; stroke-width: 1.5;\" width=\"43\" x=\"133.5\" y=\"62\"/><text fill=\"#000000\" font-family=\"sans-serif\" font-size=\"12\" font-style=\"italic\" lengthAdjust=\"spacingAndGlyphs\" textLength=\"41\" x=\"134.5\" y=\"78.1387\">«item»</text><text fill=\"#000000\" font-family=\"sans-serif\" font-size=\"12\" lengthAdjust=\"spacingAndGlyphs\" textLength=\"20\" x=\"145\" y=\"92.1074\">f: A</text><line style=\"stroke: #383838; stroke-width: 1.5;\" x1=\"134.5\" x2=\"175.5\" y1=\"99.9375\" y2=\"99.9375\"/></a><!--MD5=[09b614a08d8cba4a07c9adeb5e0fee81]\n",
       "class E3--><a href=\"psysml:be14fc81-3f83-42fd-a525-71826c91787f\" target=\"_top\" title=\"psysml:be14fc81-3f83-42fd-a525-71826c91787f\" xlink:actuate=\"onRequest\" xlink:href=\"psysml:be14fc81-3f83-42fd-a525-71826c91787f\" xlink:show=\"new\" xlink:title=\"psysml:be14fc81-3f83-42fd-a525-71826c91787f\" xlink:type=\"simple\"><rect fill=\"#FFFFFF\" height=\"75.5469\" id=\"E3\" style=\"stroke: #383838; stroke-width: 1.5;\" width=\"67\" x=\"115.5\" y=\"190\"/><text fill=\"#000000\" font-family=\"sans-serif\" font-size=\"12\" font-style=\"italic\" lengthAdjust=\"spacingAndGlyphs\" textLength=\"65\" x=\"116.5\" y=\"206.1387\">«item def»</text><text fill=\"#000000\" font-family=\"sans-serif\" font-size=\"12\" lengthAdjust=\"spacingAndGlyphs\" textLength=\"8\" x=\"145\" y=\"220.1074\">A</text><line style=\"stroke: #383838; stroke-width: 1.5;\" x1=\"116.5\" x2=\"181.5\" y1=\"227.9375\" y2=\"227.9375\"/><text fill=\"#000000\" font-family=\"sans-serif\" font-size=\"11\" lengthAdjust=\"spacingAndGlyphs\" textLength=\"23\" x=\"121.5\" y=\"258.9526\">b: B</text><line style=\"stroke: #383838; stroke-width: 1.0;\" x1=\"116.5\" x2=\"133\" y1=\"242.3398\" y2=\"242.3398\"/><text fill=\"#000000\" font-family=\"sans-serif\" font-size=\"11\" lengthAdjust=\"spacingAndGlyphs\" textLength=\"32\" x=\"133\" y=\"245.6479\">items</text><line style=\"stroke: #383838; stroke-width: 1.0;\" x1=\"165\" x2=\"181.5\" y1=\"242.3398\" y2=\"242.3398\"/></a><!--MD5=[270fce915f116d4de14055a7c1d9a0f3]\n",
       "class E5--><a href=\"psysml:77af57f1-340c-421d-9a30-1a49108711b3\" target=\"_top\" title=\"psysml:77af57f1-340c-421d-9a30-1a49108711b3\" xlink:actuate=\"onRequest\" xlink:href=\"psysml:77af57f1-340c-421d-9a30-1a49108711b3\" xlink:show=\"new\" xlink:title=\"psysml:77af57f1-340c-421d-9a30-1a49108711b3\" xlink:type=\"simple\"><rect fill=\"#FFFFFF\" height=\"45.9375\" id=\"E5\" rx=\"10\" ry=\"10\" style=\"stroke: #383838; stroke-width: 1.5;\" width=\"42\" x=\"32\" y=\"327\"/><text fill=\"#000000\" font-family=\"sans-serif\" font-size=\"12\" font-style=\"italic\" lengthAdjust=\"spacingAndGlyphs\" textLength=\"40\" x=\"33\" y=\"343.1387\">«part»</text><text fill=\"#000000\" font-family=\"sans-serif\" font-size=\"12\" lengthAdjust=\"spacingAndGlyphs\" textLength=\"23\" x=\"41.5\" y=\"357.1074\">c: C</text><line style=\"stroke: #383838; stroke-width: 1.5;\" x1=\"33\" x2=\"73\" y1=\"364.9375\" y2=\"364.9375\"/></a><!--MD5=[60a26617385b1d2d0262a64233df1f8d]\n",
       "class E6--><a href=\"psysml:41f55b44-de87-42d8-a9cd-035ede31bd10\" target=\"_top\" title=\"psysml:41f55b44-de87-42d8-a9cd-035ede31bd10\" xlink:actuate=\"onRequest\" xlink:href=\"psysml:41f55b44-de87-42d8-a9cd-035ede31bd10\" xlink:show=\"new\" xlink:title=\"psysml:41f55b44-de87-42d8-a9cd-035ede31bd10\" xlink:type=\"simple\"><rect fill=\"#FFFFFF\" height=\"45.9375\" id=\"E6\" style=\"stroke: #383838; stroke-width: 1.5;\" width=\"67\" x=\"85.5\" y=\"557\"/><text fill=\"#000000\" font-family=\"sans-serif\" font-size=\"12\" font-style=\"italic\" lengthAdjust=\"spacingAndGlyphs\" textLength=\"65\" x=\"86.5\" y=\"573.1387\">«item def»</text><text fill=\"#000000\" font-family=\"sans-serif\" font-size=\"12\" lengthAdjust=\"spacingAndGlyphs\" textLength=\"8\" x=\"115\" y=\"587.1074\">B</text><line style=\"stroke: #383838; stroke-width: 1.5;\" x1=\"86.5\" x2=\"151.5\" y1=\"594.9375\" y2=\"594.9375\"/></a><!--MD5=[2156ba9850f5573cc1fc38a6a4b2f02b]\n",
       "class E7--><a href=\"psysml:4ca48e5a-78fa-40b6-ad88-229f08c03677\" target=\"_top\" title=\"psysml:4ca48e5a-78fa-40b6-ad88-229f08c03677\" xlink:actuate=\"onRequest\" xlink:href=\"psysml:4ca48e5a-78fa-40b6-ad88-229f08c03677\" xlink:show=\"new\" xlink:title=\"psysml:4ca48e5a-78fa-40b6-ad88-229f08c03677\" xlink:type=\"simple\"><rect fill=\"#FFFFFF\" height=\"45.9375\" id=\"E7\" rx=\"10\" ry=\"10\" style=\"stroke: #383838; stroke-width: 1.5;\" width=\"42\" x=\"123\" y=\"664\"/><text fill=\"#000000\" font-family=\"sans-serif\" font-size=\"12\" font-style=\"italic\" lengthAdjust=\"spacingAndGlyphs\" textLength=\"40\" x=\"124\" y=\"680.1387\">«part»</text><text fill=\"#000000\" font-family=\"sans-serif\" font-size=\"12\" lengthAdjust=\"spacingAndGlyphs\" textLength=\"24\" x=\"132\" y=\"694.1074\">a: A</text><line style=\"stroke: #383838; stroke-width: 1.5;\" x1=\"124\" x2=\"164\" y1=\"701.9375\" y2=\"701.9375\"/></a><!--MD5=[b9389687b975829384b498ac4b7476b2]\n",
       "class E8--><a href=\"psysml:e612b3f8-fad7-4b05-bdfc-52877d32f7f2\" target=\"_top\" title=\"psysml:e612b3f8-fad7-4b05-bdfc-52877d32f7f2\" xlink:actuate=\"onRequest\" xlink:href=\"psysml:e612b3f8-fad7-4b05-bdfc-52877d32f7f2\" xlink:show=\"new\" xlink:title=\"psysml:e612b3f8-fad7-4b05-bdfc-52877d32f7f2\" xlink:type=\"simple\"><rect fill=\"#FFFFFF\" height=\"45.9375\" id=\"E8\" style=\"stroke: #383838; stroke-width: 1.5;\" width=\"66\" x=\"86\" y=\"434\"/><text fill=\"#000000\" font-family=\"sans-serif\" font-size=\"12\" font-style=\"italic\" lengthAdjust=\"spacingAndGlyphs\" textLength=\"64\" x=\"87\" y=\"450.1387\">«part def»</text><text fill=\"#000000\" font-family=\"sans-serif\" font-size=\"12\" lengthAdjust=\"spacingAndGlyphs\" textLength=\"8\" x=\"115\" y=\"464.1074\">C</text><line style=\"stroke: #383838; stroke-width: 1.5;\" x1=\"87\" x2=\"151\" y1=\"471.9375\" y2=\"471.9375\"/></a><!--MD5=[fd4143e9d270a159db93a4ea2a975926]\n",
       "class E9--><a href=\"psysml:b51b1cf2-e677-402d-bf05-bb2fae798694\" target=\"_top\" title=\"psysml:b51b1cf2-e677-402d-bf05-bb2fae798694\" xlink:actuate=\"onRequest\" xlink:href=\"psysml:b51b1cf2-e677-402d-bf05-bb2fae798694\" xlink:show=\"new\" xlink:title=\"psysml:b51b1cf2-e677-402d-bf05-bb2fae798694\" xlink:type=\"simple\"><rect fill=\"#FFFFFF\" height=\"88.3516\" id=\"E9\" style=\"stroke: #383838; stroke-width: 1.5;\" width=\"66\" x=\"32\" y=\"41\"/><text fill=\"#000000\" font-family=\"sans-serif\" font-size=\"12\" font-style=\"italic\" lengthAdjust=\"spacingAndGlyphs\" textLength=\"64\" x=\"33\" y=\"57.1387\">«port def»</text><text fill=\"#000000\" font-family=\"sans-serif\" font-size=\"12\" lengthAdjust=\"spacingAndGlyphs\" textLength=\"8\" x=\"61\" y=\"71.1074\">P</text><line style=\"stroke: #383838; stroke-width: 1.5;\" x1=\"33\" x2=\"97\" y1=\"78.9375\" y2=\"78.9375\"/><text fill=\"#000000\" font-family=\"sans-serif\" font-size=\"11\" lengthAdjust=\"spacingAndGlyphs\" textLength=\"29\" x=\"38\" y=\"109.9526\">a1: A</text><text fill=\"#000000\" font-family=\"sans-serif\" font-size=\"11\" lengthAdjust=\"spacingAndGlyphs\" textLength=\"29\" x=\"38\" y=\"122.7573\">a2: A</text><line style=\"stroke: #383838; stroke-width: 1.0;\" x1=\"33\" x2=\"49\" y1=\"93.3398\" y2=\"93.3398\"/><text fill=\"#000000\" font-family=\"sans-serif\" font-size=\"11\" lengthAdjust=\"spacingAndGlyphs\" textLength=\"32\" x=\"49\" y=\"96.6479\">items</text><line style=\"stroke: #383838; stroke-width: 1.0;\" x1=\"81\" x2=\"97\" y1=\"93.3398\" y2=\"93.3398\"/></a><!--MD5=[2720a5a1f2c3fca2055b230370638851]\n",
       "link E2 to E3--><a href=\"psysml:5c778f2f-9d99-44f7-9cbe-495e6850b493\" target=\"_top\" title=\"psysml:5c778f2f-9d99-44f7-9cbe-495e6850b493\" xlink:actuate=\"onRequest\" xlink:href=\"psysml:5c778f2f-9d99-44f7-9cbe-495e6850b493\" xlink:show=\"new\" xlink:title=\"psysml:5c778f2f-9d99-44f7-9cbe-495e6850b493\" xlink:type=\"simple\"><path d=\"M154.06,108.03 C153.36,124.58 152.36,148.04 151.44,169.76 \" fill=\"none\" id=\"E2-&gt;E3\" style=\"stroke: #383838; stroke-width: 1.0;\"/><polygon fill=\"#FFFFFF\" points=\"150.58,189.77,144.4005,170.4875,158.3877,171.0874,150.58,189.77\" style=\"stroke: #383838; stroke-width: 1.0;\"/><ellipse cx=\"146.6429\" cy=\"164.8784\" fill=\"#383838\" rx=\"2\" ry=\"2\" style=\"stroke: #383838; stroke-width: 1.0;\"/><ellipse cx=\"156.6338\" cy=\"165.3069\" fill=\"#383838\" rx=\"2\" ry=\"2\" style=\"stroke: #383838; stroke-width: 1.0;\"/></a><!--MD5=[191cde3d490a3f6d7bb551fe3ddca469]\n",
       "reverse link E3 to E5--><a href=\"psysml:77af57f1-340c-421d-9a30-1a49108711b3\" target=\"_top\" title=\"psysml:77af57f1-340c-421d-9a30-1a49108711b3\" xlink:actuate=\"onRequest\" xlink:href=\"psysml:77af57f1-340c-421d-9a30-1a49108711b3\" xlink:show=\"new\" xlink:title=\"psysml:77af57f1-340c-421d-9a30-1a49108711b3\" xlink:type=\"simple\"><path d=\"M110.75,276.82 C96.95,294.07 82.02,312.72 70.8,326.75 \" fill=\"none\" id=\"E3&lt;-E5\" style=\"stroke: #383838; stroke-width: 1.0;\"/><polygon fill=\"#FFFFFF\" points=\"119.15,266.31,112.2784,268.4964,111.6537,275.6804,118.5253,273.494,119.15,266.31\" style=\"stroke: #383838; stroke-width: 1.0;\"/></a><!--MD5=[14ccda38c055a5c0da953d572bc50960]\n",
       "link E7 to E3--><a href=\"psysml:8bb447da-4a21-4000-9a04-f9f9c4ed48f1\" target=\"_top\" title=\"psysml:8bb447da-4a21-4000-9a04-f9f9c4ed48f1\" xlink:actuate=\"onRequest\" xlink:href=\"psysml:8bb447da-4a21-4000-9a04-f9f9c4ed48f1\" xlink:show=\"new\" xlink:title=\"psysml:8bb447da-4a21-4000-9a04-f9f9c4ed48f1\" xlink:type=\"simple\"><path d=\"M159.74,663.82 C172.72,643.34 189,611.54 189,581 C189,349 189,349 189,349 C189,327.34 183.06,304.56 175.76,284.74 \" fill=\"none\" id=\"E7-&gt;E3\" style=\"stroke: #383838; stroke-width: 1.0;\"/><polygon fill=\"#FFFFFF\" points=\"168.18,266.05,181.8034,281.0301,168.8283,286.2881,168.18,266.05\" style=\"stroke: #383838; stroke-width: 1.0;\"/><ellipse cx=\"182.0906\" cy=\"287.0639\" fill=\"#383838\" rx=\"2\" ry=\"2\" style=\"stroke: #383838; stroke-width: 1.0;\"/><ellipse cx=\"172.8227\" cy=\"290.8196\" fill=\"#383838\" rx=\"2\" ry=\"2\" style=\"stroke: #383838; stroke-width: 1.0;\"/></a><!--MD5=[3f50a3473f1dfb74d3f76443e03635af]\n",
       "reverse link E6 to E7--><a href=\"psysml:4ca48e5a-78fa-40b6-ad88-229f08c03677\" target=\"_top\" title=\"psysml:4ca48e5a-78fa-40b6-ad88-229f08c03677\" xlink:actuate=\"onRequest\" xlink:href=\"psysml:4ca48e5a-78fa-40b6-ad88-229f08c03677\" xlink:show=\"new\" xlink:title=\"psysml:4ca48e5a-78fa-40b6-ad88-229f08c03677\" xlink:type=\"simple\"><path d=\"M127.34,616.05 C131.08,631.76 135.39,649.82 138.68,663.66 \" fill=\"none\" id=\"E6&lt;-E7\" style=\"stroke: #383838; stroke-width: 1.0;\"/><polygon fill=\"#383838\" points=\"124.24,603.01,121.7406,609.7741,127.023,614.6828,129.5224,607.9187,124.24,603.01\" style=\"stroke: #383838; stroke-width: 1.0;\"/></a><!--MD5=[dfaffb906826c3e5aca635516100ff21]\n",
       "link E5 to E8--><a href=\"psysml:6ff88c17-8c2d-42a4-af32-a2455d6f0acf\" target=\"_top\" title=\"psysml:6ff88c17-8c2d-42a4-af32-a2455d6f0acf\" xlink:actuate=\"onRequest\" xlink:href=\"psysml:6ff88c17-8c2d-42a4-af32-a2455d6f0acf\" xlink:show=\"new\" xlink:title=\"psysml:6ff88c17-8c2d-42a4-af32-a2455d6f0acf\" xlink:type=\"simple\"><path d=\"M66.84,373.01 C74.79,385.67 85.02,401.94 94.31,416.72 \" fill=\"none\" id=\"E5-&gt;E8\" style=\"stroke: #383838; stroke-width: 1.0;\"/><polygon fill=\"#FFFFFF\" points=\"104.96,433.66,88.9212,421.3005,100.7735,413.8491,104.96,433.66\" style=\"stroke: #383838; stroke-width: 1.0;\"/><ellipse cx=\"87.5806\" cy=\"415.4104\" fill=\"#383838\" rx=\"2\" ry=\"2\" style=\"stroke: #383838; stroke-width: 1.0;\"/><ellipse cx=\"96.0465\" cy=\"410.088\" fill=\"#383838\" rx=\"2\" ry=\"2\" style=\"stroke: #383838; stroke-width: 1.0;\"/></a><!--MD5=[03c8294790d3c57651a1993cecff665f]\n",
       "reverse link E8 to E3--><a href=\"psysml:83dfbdb9-73af-4dff-b5ad-52a21a738594\" target=\"_top\" title=\"psysml:83dfbdb9-73af-4dff-b5ad-52a21a738594\" xlink:actuate=\"onRequest\" xlink:href=\"psysml:83dfbdb9-73af-4dff-b5ad-52a21a738594\" xlink:show=\"new\" xlink:title=\"psysml:83dfbdb9-73af-4dff-b5ad-52a21a738594\" xlink:type=\"simple\"><path d=\"M123.65,420.81 C129.2,378.86 138.42,309.06 144.08,266.23 \" fill=\"none\" id=\"E8&lt;-E3\" style=\"stroke: #383838; stroke-width: 1.0;\"/><polygon fill=\"#FFFFFF\" points=\"121.92,433.89,126.6755,428.4692,123.5008,421.9946,118.7453,427.4154,121.92,433.89\" style=\"stroke: #383838; stroke-width: 1.0;\"/><text fill=\"#000000\" font-family=\"sans-serif\" font-size=\"13\" lengthAdjust=\"spacingAndGlyphs\" textLength=\"7\" x=\"136\" y=\"354.5669\">y</text></a><!--MD5=[0d75d2178373a6a4568e5dc728f58aef]\n",
       "reverse link E8 to E6--><a href=\"psysml:83dfbdb9-73af-4dff-b5ad-52a21a738594\" target=\"_top\" title=\"psysml:83dfbdb9-73af-4dff-b5ad-52a21a738594\" xlink:actuate=\"onRequest\" xlink:href=\"psysml:83dfbdb9-73af-4dff-b5ad-52a21a738594\" xlink:show=\"new\" xlink:title=\"psysml:83dfbdb9-73af-4dff-b5ad-52a21a738594\" xlink:type=\"simple\"><path d=\"M119,493.22 C119,513.81 119,539.16 119,556.95 \" fill=\"none\" id=\"E8&lt;-E6\" style=\"stroke: #383838; stroke-width: 1.0;\"/><polygon fill=\"#FFFFFF\" points=\"119,480.19,115,486.19,119,492.19,123,486.19,119,480.19\" style=\"stroke: #383838; stroke-width: 1.0;\"/><text fill=\"#000000\" font-family=\"sans-serif\" font-size=\"13\" lengthAdjust=\"spacingAndGlyphs\" textLength=\"7\" x=\"120\" y=\"523.0669\">y</text></a><!--MD5=[427ea60b178e7d773fb232adaa179886]\n",
       "@startuml\r\n",
       "top to bottom direction\r\n",
       "skinparam monochrome true\r\n",
       "skinparam classbackgroundcolor white\r\n",
       "skinparam shadowing false\r\n",
       "skinparam wrapWidth 300\r\n",
       "hide circle\r\n",
       "\r\n",
       "package \"ItemTest\" as E1  [[psysml:ffb2e2dc-9c37-4787-be7c-ae8a88a6d943 ]]  {\r\n",
       "comp usage \"f: A\" as E2  <<(T,blue)item>> [[psysml:cf4d7795-98ee-4d9f-9cbf-a98072608f6d ]] {\r\n",
       "}\r\n",
       "comp def \"A\" as E3  <<(T,blue)item def>> [[psysml:be14fc81-3f83-42fd-a525-71826c91787f ]] {\r\n",
       "- - items - -\r\n",
       "b: B\r\n",
       "}\r\n",
       "comp usage \"c: C\" as E5  <<(T,blue)part>> [[psysml:77af57f1-340c-421d-9a30-1a49108711b3 ]] {\r\n",
       "}\r\n",
       "comp def \"B\" as E6  <<(T,blue)item def>> [[psysml:41f55b44-de87-42d8-a9cd-035ede31bd10 ]] {\r\n",
       "}\r\n",
       "comp usage \"a: A\" as E7  <<(T,blue)part>> [[psysml:4ca48e5a-78fa-40b6-ad88-229f08c03677 ]] {\r\n",
       "}\r\n",
       "comp def \"C\" as E8  <<(T,blue)part def>> [[psysml:e612b3f8-fad7-4b05-bdfc-52877d32f7f2 ]] {\r\n",
       "}\r\n",
       "comp def \"P\" as E9  <<(T,blue)port def>> [[psysml:b51b1cf2-e677-402d-bf05-bb2fae798694 ]] {\r\n",
       "- - items - -\r\n",
       "a1: A\r\n",
       "a2: A\r\n",
       "}\r\n",
       "E2 - -:|> E3 [[psysml:5c778f2f-9d99-44f7-9cbe-495e6850b493 ]] \r\n",
       "E3 o- - E5 [[psysml:77af57f1-340c-421d-9a30-1a49108711b3 ]] \r\n",
       "E7 - -:|> E3 [[psysml:8bb447da-4a21-4000-9a04-f9f9c4ed48f1 ]] \r\n",
       "E6 *- - E7 [[psysml:4ca48e5a-78fa-40b6-ad88-229f08c03677 ]] \r\n",
       "E5 - -:|> E8 [[psysml:6ff88c17-8c2d-42a4-af32-a2455d6f0acf ]] \r\n",
       "E8 o- - E3 [[psysml:83dfbdb9-73af-4dff-b5ad-52a21a738594 ]] : y\r\n",
       "E8 o- - E6 [[psysml:83dfbdb9-73af-4dff-b5ad-52a21a738594 ]] : y\r\n",
       "}\r\n",
       "@enduml\r\n",
       "\n",
       "PlantUML version 1.2020.13(Sat Jun 13 12:26:38 UTC 2020)\n",
       "(EPL source distribution)\n",
       "Java Runtime: OpenJDK Runtime Environment\n",
       "JVM: OpenJDK 64-Bit Server VM\n",
       "Default Encoding: UTF-8\n",
       "Language: en\n",
       "Country: null\n",
       "--></g></svg>"
      ]
     },
     "execution_count": 44,
     "metadata": {},
     "output_type": "execute_result"
    }
   ],
   "source": [
    "%viz --style=\"TB\" --view=\"Default\" \"ItemTest\""
   ]
  },
  {
   "cell_type": "code",
   "execution_count": 45,
   "id": "sublime-malawi",
   "metadata": {
    "execution": {
     "iopub.execute_input": "2021-03-25T15:10:27.877986Z",
     "iopub.status.busy": "2021-03-25T15:10:27.877447Z",
     "iopub.status.idle": "2021-03-25T15:10:28.150862Z",
     "shell.execute_reply": "2021-03-25T15:10:28.149526Z"
    }
   },
   "outputs": [
    {
     "data": {
      "image/svg+xml": [
       "<?xml version=\"1.0\" encoding=\"UTF-8\" standalone=\"no\"?><svg xmlns=\"http://www.w3.org/2000/svg\" xmlns:xlink=\"http://www.w3.org/1999/xlink\" contentScriptType=\"application/ecmascript\" contentStyleType=\"text/css\" height=\"738px\" preserveAspectRatio=\"none\" style=\"width:228px;height:738px;\" version=\"1.1\" viewBox=\"0 0 228 738\" width=\"228px\" zoomAndPan=\"magnify\"><defs/><g><!--MD5=[fbc87193dbaf4d95561dea2c320d4a47]\n",
       "cluster E1--><a href=\"psysml:ffb2e2dc-9c37-4787-be7c-ae8a88a6d943\" target=\"_top\" title=\"psysml:ffb2e2dc-9c37-4787-be7c-ae8a88a6d943\" xlink:actuate=\"onRequest\" xlink:href=\"psysml:ffb2e2dc-9c37-4787-be7c-ae8a88a6d943\" xlink:show=\"new\" xlink:title=\"psysml:ffb2e2dc-9c37-4787-be7c-ae8a88a6d943\" xlink:type=\"simple\"><polygon fill=\"#FFFFFF\" points=\"16,6,91,6,98,28.2969,206,28.2969,206,726,16,726,16,6\" style=\"stroke: #000000; stroke-width: 1.5;\"/><line style=\"stroke: #000000; stroke-width: 1.5;\" x1=\"16\" x2=\"98\" y1=\"28.2969\" y2=\"28.2969\"/><text fill=\"#000000\" font-family=\"sans-serif\" font-size=\"14\" font-weight=\"bold\" lengthAdjust=\"spacingAndGlyphs\" textLength=\"69\" x=\"20\" y=\"20.9951\">ItemTest</text></a><!--MD5=[b4997ac47864f28c2f74865a473b2911]\n",
       "class E2--><a href=\"psysml:cf4d7795-98ee-4d9f-9cbf-a98072608f6d\" target=\"_top\" title=\"psysml:cf4d7795-98ee-4d9f-9cbf-a98072608f6d\" xlink:actuate=\"onRequest\" xlink:href=\"psysml:cf4d7795-98ee-4d9f-9cbf-a98072608f6d\" xlink:show=\"new\" xlink:title=\"psysml:cf4d7795-98ee-4d9f-9cbf-a98072608f6d\" xlink:type=\"simple\"><rect fill=\"#FFFFFF\" height=\"45.9375\" id=\"E2\" rx=\"10\" ry=\"10\" style=\"stroke: #383838; stroke-width: 1.5;\" width=\"43\" x=\"133.5\" y=\"62\"/><text fill=\"#000000\" font-family=\"sans-serif\" font-size=\"12\" font-style=\"italic\" lengthAdjust=\"spacingAndGlyphs\" textLength=\"41\" x=\"134.5\" y=\"78.1387\">«item»</text><text fill=\"#000000\" font-family=\"sans-serif\" font-size=\"12\" lengthAdjust=\"spacingAndGlyphs\" textLength=\"20\" x=\"145\" y=\"92.1074\">f: A</text><line style=\"stroke: #383838; stroke-width: 1.5;\" x1=\"134.5\" x2=\"175.5\" y1=\"99.9375\" y2=\"99.9375\"/></a><!--MD5=[09b614a08d8cba4a07c9adeb5e0fee81]\n",
       "class E3--><a href=\"psysml:be14fc81-3f83-42fd-a525-71826c91787f\" target=\"_top\" title=\"psysml:be14fc81-3f83-42fd-a525-71826c91787f\" xlink:actuate=\"onRequest\" xlink:href=\"psysml:be14fc81-3f83-42fd-a525-71826c91787f\" xlink:show=\"new\" xlink:title=\"psysml:be14fc81-3f83-42fd-a525-71826c91787f\" xlink:type=\"simple\"><rect fill=\"#FFFFFF\" height=\"75.5469\" id=\"E3\" style=\"stroke: #383838; stroke-width: 1.5;\" width=\"67\" x=\"115.5\" y=\"190\"/><text fill=\"#000000\" font-family=\"sans-serif\" font-size=\"12\" font-style=\"italic\" lengthAdjust=\"spacingAndGlyphs\" textLength=\"65\" x=\"116.5\" y=\"206.1387\">«item def»</text><text fill=\"#000000\" font-family=\"sans-serif\" font-size=\"12\" lengthAdjust=\"spacingAndGlyphs\" textLength=\"8\" x=\"145\" y=\"220.1074\">A</text><line style=\"stroke: #383838; stroke-width: 1.5;\" x1=\"116.5\" x2=\"181.5\" y1=\"227.9375\" y2=\"227.9375\"/><text fill=\"#000000\" font-family=\"sans-serif\" font-size=\"11\" lengthAdjust=\"spacingAndGlyphs\" textLength=\"23\" x=\"121.5\" y=\"258.9526\">b: B</text><line style=\"stroke: #383838; stroke-width: 1.0;\" x1=\"116.5\" x2=\"133\" y1=\"242.3398\" y2=\"242.3398\"/><text fill=\"#000000\" font-family=\"sans-serif\" font-size=\"11\" lengthAdjust=\"spacingAndGlyphs\" textLength=\"32\" x=\"133\" y=\"245.6479\">items</text><line style=\"stroke: #383838; stroke-width: 1.0;\" x1=\"165\" x2=\"181.5\" y1=\"242.3398\" y2=\"242.3398\"/></a><!--MD5=[270fce915f116d4de14055a7c1d9a0f3]\n",
       "class E5--><a href=\"psysml:77af57f1-340c-421d-9a30-1a49108711b3\" target=\"_top\" title=\"psysml:77af57f1-340c-421d-9a30-1a49108711b3\" xlink:actuate=\"onRequest\" xlink:href=\"psysml:77af57f1-340c-421d-9a30-1a49108711b3\" xlink:show=\"new\" xlink:title=\"psysml:77af57f1-340c-421d-9a30-1a49108711b3\" xlink:type=\"simple\"><rect fill=\"#FFFFFF\" height=\"45.9375\" id=\"E5\" rx=\"10\" ry=\"10\" style=\"stroke: #383838; stroke-width: 1.5;\" width=\"42\" x=\"32\" y=\"327\"/><text fill=\"#000000\" font-family=\"sans-serif\" font-size=\"12\" font-style=\"italic\" lengthAdjust=\"spacingAndGlyphs\" textLength=\"40\" x=\"33\" y=\"343.1387\">«part»</text><text fill=\"#000000\" font-family=\"sans-serif\" font-size=\"12\" lengthAdjust=\"spacingAndGlyphs\" textLength=\"23\" x=\"41.5\" y=\"357.1074\">c: C</text><line style=\"stroke: #383838; stroke-width: 1.5;\" x1=\"33\" x2=\"73\" y1=\"364.9375\" y2=\"364.9375\"/></a><!--MD5=[60a26617385b1d2d0262a64233df1f8d]\n",
       "class E6--><a href=\"psysml:41f55b44-de87-42d8-a9cd-035ede31bd10\" target=\"_top\" title=\"psysml:41f55b44-de87-42d8-a9cd-035ede31bd10\" xlink:actuate=\"onRequest\" xlink:href=\"psysml:41f55b44-de87-42d8-a9cd-035ede31bd10\" xlink:show=\"new\" xlink:title=\"psysml:41f55b44-de87-42d8-a9cd-035ede31bd10\" xlink:type=\"simple\"><rect fill=\"#FFFFFF\" height=\"45.9375\" id=\"E6\" style=\"stroke: #383838; stroke-width: 1.5;\" width=\"67\" x=\"85.5\" y=\"557\"/><text fill=\"#000000\" font-family=\"sans-serif\" font-size=\"12\" font-style=\"italic\" lengthAdjust=\"spacingAndGlyphs\" textLength=\"65\" x=\"86.5\" y=\"573.1387\">«item def»</text><text fill=\"#000000\" font-family=\"sans-serif\" font-size=\"12\" lengthAdjust=\"spacingAndGlyphs\" textLength=\"8\" x=\"115\" y=\"587.1074\">B</text><line style=\"stroke: #383838; stroke-width: 1.5;\" x1=\"86.5\" x2=\"151.5\" y1=\"594.9375\" y2=\"594.9375\"/></a><!--MD5=[2156ba9850f5573cc1fc38a6a4b2f02b]\n",
       "class E7--><a href=\"psysml:4ca48e5a-78fa-40b6-ad88-229f08c03677\" target=\"_top\" title=\"psysml:4ca48e5a-78fa-40b6-ad88-229f08c03677\" xlink:actuate=\"onRequest\" xlink:href=\"psysml:4ca48e5a-78fa-40b6-ad88-229f08c03677\" xlink:show=\"new\" xlink:title=\"psysml:4ca48e5a-78fa-40b6-ad88-229f08c03677\" xlink:type=\"simple\"><rect fill=\"#FFFFFF\" height=\"45.9375\" id=\"E7\" rx=\"10\" ry=\"10\" style=\"stroke: #383838; stroke-width: 1.5;\" width=\"42\" x=\"123\" y=\"664\"/><text fill=\"#000000\" font-family=\"sans-serif\" font-size=\"12\" font-style=\"italic\" lengthAdjust=\"spacingAndGlyphs\" textLength=\"40\" x=\"124\" y=\"680.1387\">«part»</text><text fill=\"#000000\" font-family=\"sans-serif\" font-size=\"12\" lengthAdjust=\"spacingAndGlyphs\" textLength=\"24\" x=\"132\" y=\"694.1074\">a: A</text><line style=\"stroke: #383838; stroke-width: 1.5;\" x1=\"124\" x2=\"164\" y1=\"701.9375\" y2=\"701.9375\"/></a><!--MD5=[b9389687b975829384b498ac4b7476b2]\n",
       "class E8--><a href=\"psysml:e612b3f8-fad7-4b05-bdfc-52877d32f7f2\" target=\"_top\" title=\"psysml:e612b3f8-fad7-4b05-bdfc-52877d32f7f2\" xlink:actuate=\"onRequest\" xlink:href=\"psysml:e612b3f8-fad7-4b05-bdfc-52877d32f7f2\" xlink:show=\"new\" xlink:title=\"psysml:e612b3f8-fad7-4b05-bdfc-52877d32f7f2\" xlink:type=\"simple\"><rect fill=\"#FFFFFF\" height=\"45.9375\" id=\"E8\" style=\"stroke: #383838; stroke-width: 1.5;\" width=\"66\" x=\"86\" y=\"434\"/><text fill=\"#000000\" font-family=\"sans-serif\" font-size=\"12\" font-style=\"italic\" lengthAdjust=\"spacingAndGlyphs\" textLength=\"64\" x=\"87\" y=\"450.1387\">«part def»</text><text fill=\"#000000\" font-family=\"sans-serif\" font-size=\"12\" lengthAdjust=\"spacingAndGlyphs\" textLength=\"8\" x=\"115\" y=\"464.1074\">C</text><line style=\"stroke: #383838; stroke-width: 1.5;\" x1=\"87\" x2=\"151\" y1=\"471.9375\" y2=\"471.9375\"/></a><!--MD5=[fd4143e9d270a159db93a4ea2a975926]\n",
       "class E9--><a href=\"psysml:b51b1cf2-e677-402d-bf05-bb2fae798694\" target=\"_top\" title=\"psysml:b51b1cf2-e677-402d-bf05-bb2fae798694\" xlink:actuate=\"onRequest\" xlink:href=\"psysml:b51b1cf2-e677-402d-bf05-bb2fae798694\" xlink:show=\"new\" xlink:title=\"psysml:b51b1cf2-e677-402d-bf05-bb2fae798694\" xlink:type=\"simple\"><rect fill=\"#FFFFFF\" height=\"88.3516\" id=\"E9\" style=\"stroke: #383838; stroke-width: 1.5;\" width=\"66\" x=\"32\" y=\"41\"/><text fill=\"#000000\" font-family=\"sans-serif\" font-size=\"12\" font-style=\"italic\" lengthAdjust=\"spacingAndGlyphs\" textLength=\"64\" x=\"33\" y=\"57.1387\">«port def»</text><text fill=\"#000000\" font-family=\"sans-serif\" font-size=\"12\" lengthAdjust=\"spacingAndGlyphs\" textLength=\"8\" x=\"61\" y=\"71.1074\">P</text><line style=\"stroke: #383838; stroke-width: 1.5;\" x1=\"33\" x2=\"97\" y1=\"78.9375\" y2=\"78.9375\"/><text fill=\"#000000\" font-family=\"sans-serif\" font-size=\"11\" lengthAdjust=\"spacingAndGlyphs\" textLength=\"29\" x=\"38\" y=\"109.9526\">a1: A</text><text fill=\"#000000\" font-family=\"sans-serif\" font-size=\"11\" lengthAdjust=\"spacingAndGlyphs\" textLength=\"29\" x=\"38\" y=\"122.7573\">a2: A</text><line style=\"stroke: #383838; stroke-width: 1.0;\" x1=\"33\" x2=\"49\" y1=\"93.3398\" y2=\"93.3398\"/><text fill=\"#000000\" font-family=\"sans-serif\" font-size=\"11\" lengthAdjust=\"spacingAndGlyphs\" textLength=\"32\" x=\"49\" y=\"96.6479\">items</text><line style=\"stroke: #383838; stroke-width: 1.0;\" x1=\"81\" x2=\"97\" y1=\"93.3398\" y2=\"93.3398\"/></a><!--MD5=[2720a5a1f2c3fca2055b230370638851]\n",
       "link E2 to E3--><a href=\"psysml:5c778f2f-9d99-44f7-9cbe-495e6850b493\" target=\"_top\" title=\"psysml:5c778f2f-9d99-44f7-9cbe-495e6850b493\" xlink:actuate=\"onRequest\" xlink:href=\"psysml:5c778f2f-9d99-44f7-9cbe-495e6850b493\" xlink:show=\"new\" xlink:title=\"psysml:5c778f2f-9d99-44f7-9cbe-495e6850b493\" xlink:type=\"simple\"><path d=\"M154.06,108.03 C153.36,124.58 152.36,148.04 151.44,169.76 \" fill=\"none\" id=\"E2-&gt;E3\" style=\"stroke: #383838; stroke-width: 1.0;\"/><polygon fill=\"#FFFFFF\" points=\"150.58,189.77,144.4005,170.4875,158.3877,171.0874,150.58,189.77\" style=\"stroke: #383838; stroke-width: 1.0;\"/><ellipse cx=\"146.6429\" cy=\"164.8784\" fill=\"#383838\" rx=\"2\" ry=\"2\" style=\"stroke: #383838; stroke-width: 1.0;\"/><ellipse cx=\"156.6338\" cy=\"165.3069\" fill=\"#383838\" rx=\"2\" ry=\"2\" style=\"stroke: #383838; stroke-width: 1.0;\"/></a><!--MD5=[191cde3d490a3f6d7bb551fe3ddca469]\n",
       "reverse link E3 to E5--><a href=\"psysml:77af57f1-340c-421d-9a30-1a49108711b3\" target=\"_top\" title=\"psysml:77af57f1-340c-421d-9a30-1a49108711b3\" xlink:actuate=\"onRequest\" xlink:href=\"psysml:77af57f1-340c-421d-9a30-1a49108711b3\" xlink:show=\"new\" xlink:title=\"psysml:77af57f1-340c-421d-9a30-1a49108711b3\" xlink:type=\"simple\"><path d=\"M110.75,276.82 C96.95,294.07 82.02,312.72 70.8,326.75 \" fill=\"none\" id=\"E3&lt;-E5\" style=\"stroke: #383838; stroke-width: 1.0;\"/><polygon fill=\"#FFFFFF\" points=\"119.15,266.31,112.2784,268.4964,111.6537,275.6804,118.5253,273.494,119.15,266.31\" style=\"stroke: #383838; stroke-width: 1.0;\"/></a><!--MD5=[14ccda38c055a5c0da953d572bc50960]\n",
       "link E7 to E3--><a href=\"psysml:8bb447da-4a21-4000-9a04-f9f9c4ed48f1\" target=\"_top\" title=\"psysml:8bb447da-4a21-4000-9a04-f9f9c4ed48f1\" xlink:actuate=\"onRequest\" xlink:href=\"psysml:8bb447da-4a21-4000-9a04-f9f9c4ed48f1\" xlink:show=\"new\" xlink:title=\"psysml:8bb447da-4a21-4000-9a04-f9f9c4ed48f1\" xlink:type=\"simple\"><path d=\"M159.74,663.82 C172.72,643.34 189,611.54 189,581 C189,349 189,349 189,349 C189,327.34 183.06,304.56 175.76,284.74 \" fill=\"none\" id=\"E7-&gt;E3\" style=\"stroke: #383838; stroke-width: 1.0;\"/><polygon fill=\"#FFFFFF\" points=\"168.18,266.05,181.8034,281.0301,168.8283,286.2881,168.18,266.05\" style=\"stroke: #383838; stroke-width: 1.0;\"/><ellipse cx=\"182.0906\" cy=\"287.0639\" fill=\"#383838\" rx=\"2\" ry=\"2\" style=\"stroke: #383838; stroke-width: 1.0;\"/><ellipse cx=\"172.8227\" cy=\"290.8196\" fill=\"#383838\" rx=\"2\" ry=\"2\" style=\"stroke: #383838; stroke-width: 1.0;\"/></a><!--MD5=[3f50a3473f1dfb74d3f76443e03635af]\n",
       "reverse link E6 to E7--><a href=\"psysml:4ca48e5a-78fa-40b6-ad88-229f08c03677\" target=\"_top\" title=\"psysml:4ca48e5a-78fa-40b6-ad88-229f08c03677\" xlink:actuate=\"onRequest\" xlink:href=\"psysml:4ca48e5a-78fa-40b6-ad88-229f08c03677\" xlink:show=\"new\" xlink:title=\"psysml:4ca48e5a-78fa-40b6-ad88-229f08c03677\" xlink:type=\"simple\"><path d=\"M127.34,616.05 C131.08,631.76 135.39,649.82 138.68,663.66 \" fill=\"none\" id=\"E6&lt;-E7\" style=\"stroke: #383838; stroke-width: 1.0;\"/><polygon fill=\"#383838\" points=\"124.24,603.01,121.7406,609.7741,127.023,614.6828,129.5224,607.9187,124.24,603.01\" style=\"stroke: #383838; stroke-width: 1.0;\"/></a><!--MD5=[dfaffb906826c3e5aca635516100ff21]\n",
       "link E5 to E8--><a href=\"psysml:6ff88c17-8c2d-42a4-af32-a2455d6f0acf\" target=\"_top\" title=\"psysml:6ff88c17-8c2d-42a4-af32-a2455d6f0acf\" xlink:actuate=\"onRequest\" xlink:href=\"psysml:6ff88c17-8c2d-42a4-af32-a2455d6f0acf\" xlink:show=\"new\" xlink:title=\"psysml:6ff88c17-8c2d-42a4-af32-a2455d6f0acf\" xlink:type=\"simple\"><path d=\"M66.84,373.01 C74.79,385.67 85.02,401.94 94.31,416.72 \" fill=\"none\" id=\"E5-&gt;E8\" style=\"stroke: #383838; stroke-width: 1.0;\"/><polygon fill=\"#FFFFFF\" points=\"104.96,433.66,88.9212,421.3005,100.7735,413.8491,104.96,433.66\" style=\"stroke: #383838; stroke-width: 1.0;\"/><ellipse cx=\"87.5806\" cy=\"415.4104\" fill=\"#383838\" rx=\"2\" ry=\"2\" style=\"stroke: #383838; stroke-width: 1.0;\"/><ellipse cx=\"96.0465\" cy=\"410.088\" fill=\"#383838\" rx=\"2\" ry=\"2\" style=\"stroke: #383838; stroke-width: 1.0;\"/></a><!--MD5=[03c8294790d3c57651a1993cecff665f]\n",
       "reverse link E8 to E3--><a href=\"psysml:83dfbdb9-73af-4dff-b5ad-52a21a738594\" target=\"_top\" title=\"psysml:83dfbdb9-73af-4dff-b5ad-52a21a738594\" xlink:actuate=\"onRequest\" xlink:href=\"psysml:83dfbdb9-73af-4dff-b5ad-52a21a738594\" xlink:show=\"new\" xlink:title=\"psysml:83dfbdb9-73af-4dff-b5ad-52a21a738594\" xlink:type=\"simple\"><path d=\"M123.65,420.81 C129.2,378.86 138.42,309.06 144.08,266.23 \" fill=\"none\" id=\"E8&lt;-E3\" style=\"stroke: #383838; stroke-width: 1.0;\"/><polygon fill=\"#FFFFFF\" points=\"121.92,433.89,126.6755,428.4692,123.5008,421.9946,118.7453,427.4154,121.92,433.89\" style=\"stroke: #383838; stroke-width: 1.0;\"/><text fill=\"#000000\" font-family=\"sans-serif\" font-size=\"13\" lengthAdjust=\"spacingAndGlyphs\" textLength=\"7\" x=\"136\" y=\"354.5669\">y</text></a><!--MD5=[0d75d2178373a6a4568e5dc728f58aef]\n",
       "reverse link E8 to E6--><a href=\"psysml:83dfbdb9-73af-4dff-b5ad-52a21a738594\" target=\"_top\" title=\"psysml:83dfbdb9-73af-4dff-b5ad-52a21a738594\" xlink:actuate=\"onRequest\" xlink:href=\"psysml:83dfbdb9-73af-4dff-b5ad-52a21a738594\" xlink:show=\"new\" xlink:title=\"psysml:83dfbdb9-73af-4dff-b5ad-52a21a738594\" xlink:type=\"simple\"><path d=\"M119,493.22 C119,513.81 119,539.16 119,556.95 \" fill=\"none\" id=\"E8&lt;-E6\" style=\"stroke: #383838; stroke-width: 1.0;\"/><polygon fill=\"#FFFFFF\" points=\"119,480.19,115,486.19,119,492.19,123,486.19,119,480.19\" style=\"stroke: #383838; stroke-width: 1.0;\"/><text fill=\"#000000\" font-family=\"sans-serif\" font-size=\"13\" lengthAdjust=\"spacingAndGlyphs\" textLength=\"7\" x=\"120\" y=\"523.0669\">y</text></a><!--MD5=[427ea60b178e7d773fb232adaa179886]\n",
       "@startuml\r\n",
       "top to bottom direction\r\n",
       "skinparam monochrome true\r\n",
       "skinparam classbackgroundcolor white\r\n",
       "skinparam shadowing false\r\n",
       "skinparam wrapWidth 300\r\n",
       "hide circle\r\n",
       "\r\n",
       "package \"ItemTest\" as E1  [[psysml:ffb2e2dc-9c37-4787-be7c-ae8a88a6d943 ]]  {\r\n",
       "comp usage \"f: A\" as E2  <<(T,blue)item>> [[psysml:cf4d7795-98ee-4d9f-9cbf-a98072608f6d ]] {\r\n",
       "}\r\n",
       "comp def \"A\" as E3  <<(T,blue)item def>> [[psysml:be14fc81-3f83-42fd-a525-71826c91787f ]] {\r\n",
       "- - items - -\r\n",
       "b: B\r\n",
       "}\r\n",
       "comp usage \"c: C\" as E5  <<(T,blue)part>> [[psysml:77af57f1-340c-421d-9a30-1a49108711b3 ]] {\r\n",
       "}\r\n",
       "comp def \"B\" as E6  <<(T,blue)item def>> [[psysml:41f55b44-de87-42d8-a9cd-035ede31bd10 ]] {\r\n",
       "}\r\n",
       "comp usage \"a: A\" as E7  <<(T,blue)part>> [[psysml:4ca48e5a-78fa-40b6-ad88-229f08c03677 ]] {\r\n",
       "}\r\n",
       "comp def \"C\" as E8  <<(T,blue)part def>> [[psysml:e612b3f8-fad7-4b05-bdfc-52877d32f7f2 ]] {\r\n",
       "}\r\n",
       "comp def \"P\" as E9  <<(T,blue)port def>> [[psysml:b51b1cf2-e677-402d-bf05-bb2fae798694 ]] {\r\n",
       "- - items - -\r\n",
       "a1: A\r\n",
       "a2: A\r\n",
       "}\r\n",
       "E2 - -:|> E3 [[psysml:5c778f2f-9d99-44f7-9cbe-495e6850b493 ]] \r\n",
       "E3 o- - E5 [[psysml:77af57f1-340c-421d-9a30-1a49108711b3 ]] \r\n",
       "E7 - -:|> E3 [[psysml:8bb447da-4a21-4000-9a04-f9f9c4ed48f1 ]] \r\n",
       "E6 *- - E7 [[psysml:4ca48e5a-78fa-40b6-ad88-229f08c03677 ]] \r\n",
       "E5 - -:|> E8 [[psysml:6ff88c17-8c2d-42a4-af32-a2455d6f0acf ]] \r\n",
       "E8 o- - E3 [[psysml:83dfbdb9-73af-4dff-b5ad-52a21a738594 ]] : y\r\n",
       "E8 o- - E6 [[psysml:83dfbdb9-73af-4dff-b5ad-52a21a738594 ]] : y\r\n",
       "}\r\n",
       "@enduml\r\n",
       "\n",
       "PlantUML version 1.2020.13(Sat Jun 13 12:26:38 UTC 2020)\n",
       "(EPL source distribution)\n",
       "Java Runtime: OpenJDK Runtime Environment\n",
       "JVM: OpenJDK 64-Bit Server VM\n",
       "Default Encoding: UTF-8\n",
       "Language: en\n",
       "Country: null\n",
       "--></g></svg>"
      ]
     },
     "execution_count": 45,
     "metadata": {},
     "output_type": "execute_result"
    }
   ],
   "source": [
    "%viz --style=\"TB\" --view=\"Tree\" \"ItemTest\""
   ]
  },
  {
   "cell_type": "code",
   "execution_count": 46,
   "id": "alleged-science",
   "metadata": {
    "execution": {
     "iopub.execute_input": "2021-03-25T15:10:28.201547Z",
     "iopub.status.busy": "2021-03-25T15:10:28.201016Z",
     "iopub.status.idle": "2021-03-25T15:10:28.207777Z",
     "shell.execute_reply": "2021-03-25T15:10:28.207382Z"
    }
   },
   "outputs": [
    {
     "data": {
      "image/svg+xml": [
       "<?xml version=\"1.0\" encoding=\"UTF-8\" standalone=\"no\"?><svg xmlns=\"http://www.w3.org/2000/svg\" xmlns:xlink=\"http://www.w3.org/1999/xlink\" contentScriptType=\"application/ecmascript\" contentStyleType=\"text/css\" height=\"12px\" preserveAspectRatio=\"none\" style=\"width:12px;height:12px;\" version=\"1.1\" viewBox=\"0 0 12 12\" width=\"12px\" zoomAndPan=\"magnify\"><defs/><g><!--MD5=[f4ee21bc66e489b5061b7c3e9601fdef]\n",
       "@startuml\r\n",
       "top to bottom direction\r\n",
       "skinparam monochrome true\r\n",
       "skinparam classbackgroundcolor white\r\n",
       "skinparam shadowing false\r\n",
       "skinparam wrapWidth 300\r\n",
       "hide circle\r\n",
       "\r\n",
       "@enduml\r\n",
       "\n",
       "PlantUML version 1.2020.13(Sat Jun 13 12:26:38 UTC 2020)\n",
       "(EPL source distribution)\n",
       "Java Runtime: OpenJDK Runtime Environment\n",
       "JVM: OpenJDK 64-Bit Server VM\n",
       "Default Encoding: UTF-8\n",
       "Language: en\n",
       "Country: null\n",
       "--></g></svg>"
      ]
     },
     "execution_count": 46,
     "metadata": {},
     "output_type": "execute_result"
    }
   ],
   "source": [
    "%viz --style=\"TB\" --view=\"State\" \"ItemTest\""
   ]
  },
  {
   "cell_type": "code",
   "execution_count": 47,
   "id": "inclusive-latitude",
   "metadata": {
    "execution": {
     "iopub.execute_input": "2021-03-25T15:10:28.259163Z",
     "iopub.status.busy": "2021-03-25T15:10:28.258606Z",
     "iopub.status.idle": "2021-03-25T15:10:28.355024Z",
     "shell.execute_reply": "2021-03-25T15:10:28.353821Z"
    }
   },
   "outputs": [
    {
     "data": {
      "image/svg+xml": [
       "<?xml version=\"1.0\" encoding=\"UTF-8\" standalone=\"no\"?><svg xmlns=\"http://www.w3.org/2000/svg\" xmlns:xlink=\"http://www.w3.org/1999/xlink\" contentScriptType=\"application/ecmascript\" contentStyleType=\"text/css\" height=\"195px\" preserveAspectRatio=\"none\" style=\"width:711px;height:195px;\" version=\"1.1\" viewBox=\"0 0 711 195\" width=\"711px\" zoomAndPan=\"magnify\"><defs/><g><!--MD5=[fbc87193dbaf4d95561dea2c320d4a47]\n",
       "cluster E1--><a href=\"psysml:ffb2e2dc-9c37-4787-be7c-ae8a88a6d943\" target=\"_top\" title=\"psysml:ffb2e2dc-9c37-4787-be7c-ae8a88a6d943\" xlink:actuate=\"onRequest\" xlink:href=\"psysml:ffb2e2dc-9c37-4787-be7c-ae8a88a6d943\" xlink:show=\"new\" xlink:title=\"psysml:ffb2e2dc-9c37-4787-be7c-ae8a88a6d943\" xlink:type=\"simple\"><polygon fill=\"#FFFFFF\" points=\"16,6,91,6,98,28.2969,689,28.2969,689,183,16,183,16,6\" style=\"stroke: #000000; stroke-width: 1.5;\"/><line style=\"stroke: #000000; stroke-width: 1.5;\" x1=\"16\" x2=\"98\" y1=\"28.2969\" y2=\"28.2969\"/><text fill=\"#000000\" font-family=\"sans-serif\" font-size=\"14\" font-weight=\"bold\" lengthAdjust=\"spacingAndGlyphs\" textLength=\"69\" x=\"20\" y=\"20.9951\">ItemTest</text></a><!--MD5=[de5ec2e2e8f62f467e546659f5068c88]\n",
       "cluster E5--><a href=\"psysml:e612b3f8-fad7-4b05-bdfc-52877d32f7f2\" target=\"_top\" title=\"psysml:e612b3f8-fad7-4b05-bdfc-52877d32f7f2\" xlink:actuate=\"onRequest\" xlink:href=\"psysml:e612b3f8-fad7-4b05-bdfc-52877d32f7f2\" xlink:show=\"new\" xlink:title=\"psysml:e612b3f8-fad7-4b05-bdfc-52877d32f7f2\" xlink:type=\"simple\"><rect fill=\"#FFFFFF\" height=\"110\" id=\"E5\" style=\"stroke: #383838; stroke-width: 1.5;\" width=\"114\" x=\"551\" y=\"49\"/><rect fill=\"#F8F8F8\" height=\"37.9375\" style=\"stroke: #383838; stroke-width: 1.5;\" width=\"114\" x=\"551\" y=\"49\"/><text fill=\"#000000\" font-family=\"sans-serif\" font-size=\"12\" font-style=\"italic\" lengthAdjust=\"spacingAndGlyphs\" textLength=\"64\" x=\"576\" y=\"65.1387\">«part def»</text><text fill=\"#000000\" font-family=\"sans-serif\" font-size=\"12\" lengthAdjust=\"spacingAndGlyphs\" textLength=\"8\" x=\"604\" y=\"79.1074\">C</text></a><!--MD5=[09b614a08d8cba4a07c9adeb5e0fee81]\n",
       "class E3--><a href=\"psysml:be14fc81-3f83-42fd-a525-71826c91787f\" target=\"_top\" title=\"psysml:be14fc81-3f83-42fd-a525-71826c91787f\" xlink:actuate=\"onRequest\" xlink:href=\"psysml:be14fc81-3f83-42fd-a525-71826c91787f\" xlink:show=\"new\" xlink:title=\"psysml:be14fc81-3f83-42fd-a525-71826c91787f\" xlink:type=\"simple\"><rect fill=\"#FFFFFF\" height=\"53.9375\" id=\"E3\" style=\"stroke: #383838; stroke-width: 1.5;\" width=\"115\" x=\"416.5\" y=\"94.5\"/><text fill=\"#000000\" font-family=\"sans-serif\" font-size=\"12\" font-style=\"italic\" lengthAdjust=\"spacingAndGlyphs\" textLength=\"113\" x=\"417.5\" y=\"110.6387\">«(T,blue)item def»</text><text fill=\"#000000\" font-family=\"sans-serif\" font-size=\"12\" lengthAdjust=\"spacingAndGlyphs\" textLength=\"8\" x=\"470\" y=\"124.6074\">A</text><line style=\"stroke: #383838; stroke-width: 1.5;\" x1=\"417.5\" x2=\"530.5\" y1=\"132.4375\" y2=\"132.4375\"/><line style=\"stroke: #383838; stroke-width: 1.5;\" x1=\"417.5\" x2=\"530.5\" y1=\"140.4375\" y2=\"140.4375\"/></a><!--MD5=[ebbe1d658d1005bcc118a6aa81145e00]\n",
       "class E4--><a href=\"psysml:41f55b44-de87-42d8-a9cd-035ede31bd10\" target=\"_top\" title=\"psysml:41f55b44-de87-42d8-a9cd-035ede31bd10\" xlink:actuate=\"onRequest\" xlink:href=\"psysml:41f55b44-de87-42d8-a9cd-035ede31bd10\" xlink:show=\"new\" xlink:title=\"psysml:41f55b44-de87-42d8-a9cd-035ede31bd10\" xlink:type=\"simple\"><rect fill=\"#FFFFFF\" height=\"53.9375\" id=\"E4\" style=\"stroke: #383838; stroke-width: 1.5;\" width=\"115\" x=\"266.5\" y=\"94.5\"/><text fill=\"#000000\" font-family=\"sans-serif\" font-size=\"12\" font-style=\"italic\" lengthAdjust=\"spacingAndGlyphs\" textLength=\"113\" x=\"267.5\" y=\"110.6387\">«(T,blue)item def»</text><text fill=\"#000000\" font-family=\"sans-serif\" font-size=\"12\" lengthAdjust=\"spacingAndGlyphs\" textLength=\"8\" x=\"320\" y=\"124.6074\">B</text><line style=\"stroke: #383838; stroke-width: 1.5;\" x1=\"267.5\" x2=\"380.5\" y1=\"132.4375\" y2=\"132.4375\"/><line style=\"stroke: #383838; stroke-width: 1.5;\" x1=\"267.5\" x2=\"380.5\" y1=\"140.4375\" y2=\"140.4375\"/></a><!--MD5=[2156ba9850f5573cc1fc38a6a4b2f02b]\n",
       "class E7--><a href=\"psysml:b51b1cf2-e677-402d-bf05-bb2fae798694\" target=\"_top\" title=\"psysml:b51b1cf2-e677-402d-bf05-bb2fae798694\" xlink:actuate=\"onRequest\" xlink:href=\"psysml:b51b1cf2-e677-402d-bf05-bb2fae798694\" xlink:show=\"new\" xlink:title=\"psysml:b51b1cf2-e677-402d-bf05-bb2fae798694\" xlink:type=\"simple\"><rect fill=\"#FFFFFF\" height=\"53.9375\" id=\"E7\" style=\"stroke: #383838; stroke-width: 1.5;\" width=\"114\" x=\"117\" y=\"94.5\"/><text fill=\"#000000\" font-family=\"sans-serif\" font-size=\"12\" font-style=\"italic\" lengthAdjust=\"spacingAndGlyphs\" textLength=\"112\" x=\"118\" y=\"110.6387\">«(T,blue)port def»</text><text fill=\"#000000\" font-family=\"sans-serif\" font-size=\"12\" lengthAdjust=\"spacingAndGlyphs\" textLength=\"8\" x=\"170\" y=\"124.6074\">P</text><line style=\"stroke: #383838; stroke-width: 1.5;\" x1=\"118\" x2=\"230\" y1=\"132.4375\" y2=\"132.4375\"/><line style=\"stroke: #383838; stroke-width: 1.5;\" x1=\"118\" x2=\"230\" y1=\"140.4375\" y2=\"140.4375\"/></a><g id=\"E1.E2\"><a href=\"psysml:cf4d7795-98ee-4d9f-9cbf-a98072608f6d\" target=\"_top\" title=\"psysml:cf4d7795-98ee-4d9f-9cbf-a98072608f6d\" xlink:actuate=\"onRequest\" xlink:href=\"psysml:cf4d7795-98ee-4d9f-9cbf-a98072608f6d\" xlink:show=\"new\" xlink:title=\"psysml:cf4d7795-98ee-4d9f-9cbf-a98072608f6d\" xlink:type=\"simple\"><rect fill=\"#FFFFFF\" height=\"42.9375\" id=\"E2\" rx=\"10\" ry=\"10\" style=\"stroke: #383838; stroke-width: 1.5;\" width=\"50\" x=\"32\" y=\"100\"/><rect fill=\"#F8F8F8\" height=\"37.9375\" rx=\"10\" ry=\"10\" style=\"stroke: #F8F8F8; stroke-width: 1.5;\" width=\"50\" x=\"32\" y=\"100\"/><rect fill=\"#F8F8F8\" height=\"10\" style=\"stroke: #F8F8F8; stroke-width: 1.5;\" width=\"50\" x=\"32\" y=\"127.9375\"/><rect fill=\"none\" height=\"42.9375\" id=\"E2\" rx=\"10\" ry=\"10\" style=\"stroke: #383838; stroke-width: 1.5;\" width=\"50\" x=\"32\" y=\"100\"/><text fill=\"#000000\" font-family=\"sans-serif\" font-size=\"12\" font-style=\"italic\" lengthAdjust=\"spacingAndGlyphs\" textLength=\"41\" x=\"36.5\" y=\"116.1387\">«item»</text><text fill=\"#000000\" font-family=\"sans-serif\" font-size=\"12\" lengthAdjust=\"spacingAndGlyphs\" textLength=\"20\" x=\"47\" y=\"130.1074\">f: A</text></a></g><g id=\"E1.E5.E6\"><a href=\"psysml:83dfbdb9-73af-4dff-b5ad-52a21a738594\" target=\"_top\" title=\"psysml:83dfbdb9-73af-4dff-b5ad-52a21a738594\" xlink:actuate=\"onRequest\" xlink:href=\"psysml:83dfbdb9-73af-4dff-b5ad-52a21a738594\" xlink:show=\"new\" xlink:title=\"psysml:83dfbdb9-73af-4dff-b5ad-52a21a738594\" xlink:type=\"simple\"><rect fill=\"#FFFFFF\" height=\"42.9375\" id=\"E6\" rx=\"10\" ry=\"10\" style=\"stroke: #383838; stroke-width: 1.5;\" width=\"82\" x=\"567\" y=\"100\"/><rect fill=\"#F8F8F8\" height=\"37.9375\" rx=\"10\" ry=\"10\" style=\"stroke: #F8F8F8; stroke-width: 1.5;\" width=\"82\" x=\"567\" y=\"100\"/><rect fill=\"#F8F8F8\" height=\"10\" style=\"stroke: #F8F8F8; stroke-width: 1.5;\" width=\"82\" x=\"567\" y=\"127.9375\"/><rect fill=\"none\" height=\"42.9375\" id=\"E6\" rx=\"10\" ry=\"10\" style=\"stroke: #383838; stroke-width: 1.5;\" width=\"82\" x=\"567\" y=\"100\"/><text fill=\"#000000\" font-family=\"sans-serif\" font-size=\"12\" font-style=\"italic\" lengthAdjust=\"spacingAndGlyphs\" textLength=\"75\" x=\"570.5\" y=\"116.1387\">«reference»</text><text fill=\"#000000\" font-family=\"sans-serif\" font-size=\"12\" lengthAdjust=\"spacingAndGlyphs\" textLength=\"38\" x=\"589\" y=\"130.1074\">y: A, B</text></a></g><!--MD5=[8f5682c68f78452a336c816ee94fbbd7]\n",
       "@startuml\r\n",
       "skinparam ranksep 8\r\n",
       "skinparam rectangle {\r\n",
       " backgroundColor<<block>> LightGreen\r\n",
       "}\r\n",
       "top to bottom direction\r\n",
       "skinparam monochrome true\r\n",
       "skinparam classbackgroundcolor white\r\n",
       "skinparam shadowing false\r\n",
       "skinparam wrapWidth 300\r\n",
       "hide circle\r\n",
       "\r\n",
       "package \"ItemTest\" as E1  [[psysml:ffb2e2dc-9c37-4787-be7c-ae8a88a6d943 ]]  {\r\n",
       "rec usage \"f: A\" as E2  <<(T,blue)item>> [[psysml:cf4d7795-98ee-4d9f-9cbf-a98072608f6d ]] {\r\n",
       "}\r\n",
       "def \"A\" as E3  <<(T,blue)item def>> [[psysml:be14fc81-3f83-42fd-a525-71826c91787f ]] \r\n",
       "def \"B\" as E4  <<(T,blue)item def>> [[psysml:41f55b44-de87-42d8-a9cd-035ede31bd10 ]] \r\n",
       "rec def \"C\" as E5  <<(T,blue)part def>> [[psysml:e612b3f8-fad7-4b05-bdfc-52877d32f7f2 ]] {\r\n",
       "rec usage \"y: A, B\" as E6  <<(T,blue)reference>> [[psysml:83dfbdb9-73af-4dff-b5ad-52a21a738594 ]] {\r\n",
       "}\r\n",
       "}\r\n",
       "def \"P\" as E7  <<(T,blue)port def>> [[psysml:b51b1cf2-e677-402d-bf05-bb2fae798694 ]] \r\n",
       "}\r\n",
       "@enduml\r\n",
       "\n",
       "PlantUML version 1.2020.13(Sat Jun 13 12:26:38 UTC 2020)\n",
       "(EPL source distribution)\n",
       "Java Runtime: OpenJDK Runtime Environment\n",
       "JVM: OpenJDK 64-Bit Server VM\n",
       "Default Encoding: UTF-8\n",
       "Language: en\n",
       "Country: null\n",
       "--></g></svg>"
      ]
     },
     "execution_count": 47,
     "metadata": {},
     "output_type": "execute_result"
    }
   ],
   "source": [
    "%viz --style=\"TB\" --view=\"Interconnection\" \"ItemTest\""
   ]
  },
  {
   "cell_type": "code",
   "execution_count": 48,
   "id": "collected-palace",
   "metadata": {
    "execution": {
     "iopub.execute_input": "2021-03-25T15:10:28.407824Z",
     "iopub.status.busy": "2021-03-25T15:10:28.406989Z",
     "iopub.status.idle": "2021-03-25T15:10:28.414245Z",
     "shell.execute_reply": "2021-03-25T15:10:28.414663Z"
    }
   },
   "outputs": [
    {
     "data": {
      "image/svg+xml": [
       "<?xml version=\"1.0\" encoding=\"UTF-8\" standalone=\"no\"?><svg xmlns=\"http://www.w3.org/2000/svg\" xmlns:xlink=\"http://www.w3.org/1999/xlink\" contentScriptType=\"application/ecmascript\" contentStyleType=\"text/css\" height=\"12px\" preserveAspectRatio=\"none\" style=\"width:12px;height:12px;\" version=\"1.1\" viewBox=\"0 0 12 12\" width=\"12px\" zoomAndPan=\"magnify\"><defs/><g><!--MD5=[06afc254b03ac5e9d9fb7773b07d0800]\n",
       "@startuml\r\n",
       "skinparam ranksep 8\r\n",
       "top to bottom direction\r\n",
       "skinparam monochrome true\r\n",
       "skinparam classbackgroundcolor white\r\n",
       "skinparam shadowing false\r\n",
       "skinparam wrapWidth 300\r\n",
       "hide circle\r\n",
       "\r\n",
       "@enduml\r\n",
       "\n",
       "PlantUML version 1.2020.13(Sat Jun 13 12:26:38 UTC 2020)\n",
       "(EPL source distribution)\n",
       "Java Runtime: OpenJDK Runtime Environment\n",
       "JVM: OpenJDK 64-Bit Server VM\n",
       "Default Encoding: UTF-8\n",
       "Language: en\n",
       "Country: null\n",
       "--></g></svg>"
      ]
     },
     "execution_count": 48,
     "metadata": {},
     "output_type": "execute_result"
    }
   ],
   "source": [
    "%viz --style=\"TB\" --view=\"Action\" \"ItemTest\""
   ]
  },
  {
   "cell_type": "code",
   "execution_count": 49,
   "id": "joined-attitude",
   "metadata": {
    "execution": {
     "iopub.execute_input": "2021-03-25T15:10:28.466122Z",
     "iopub.status.busy": "2021-03-25T15:10:28.465392Z",
     "iopub.status.idle": "2021-03-25T15:10:28.748287Z",
     "shell.execute_reply": "2021-03-25T15:10:28.746958Z"
    }
   },
   "outputs": [
    {
     "data": {
      "image/svg+xml": [
       "<?xml version=\"1.0\" encoding=\"UTF-8\" standalone=\"no\"?><svg xmlns=\"http://www.w3.org/2000/svg\" xmlns:xlink=\"http://www.w3.org/1999/xlink\" contentScriptType=\"application/ecmascript\" contentStyleType=\"text/css\" height=\"738px\" preserveAspectRatio=\"none\" style=\"width:228px;height:738px;\" version=\"1.1\" viewBox=\"0 0 228 738\" width=\"228px\" zoomAndPan=\"magnify\"><defs/><g><!--MD5=[fbc87193dbaf4d95561dea2c320d4a47]\n",
       "cluster E1--><a href=\"psysml:ffb2e2dc-9c37-4787-be7c-ae8a88a6d943\" target=\"_top\" title=\"psysml:ffb2e2dc-9c37-4787-be7c-ae8a88a6d943\" xlink:actuate=\"onRequest\" xlink:href=\"psysml:ffb2e2dc-9c37-4787-be7c-ae8a88a6d943\" xlink:show=\"new\" xlink:title=\"psysml:ffb2e2dc-9c37-4787-be7c-ae8a88a6d943\" xlink:type=\"simple\"><polygon fill=\"#FFFFFF\" points=\"16,6,91,6,98,28.2969,206,28.2969,206,726,16,726,16,6\" style=\"stroke: #000000; stroke-width: 1.5;\"/><line style=\"stroke: #000000; stroke-width: 1.5;\" x1=\"16\" x2=\"98\" y1=\"28.2969\" y2=\"28.2969\"/><text fill=\"#000000\" font-family=\"sans-serif\" font-size=\"14\" font-weight=\"bold\" lengthAdjust=\"spacingAndGlyphs\" textLength=\"69\" x=\"20\" y=\"20.9951\">ItemTest</text></a><!--MD5=[b4997ac47864f28c2f74865a473b2911]\n",
       "class E2--><a href=\"psysml:cf4d7795-98ee-4d9f-9cbf-a98072608f6d\" target=\"_top\" title=\"psysml:cf4d7795-98ee-4d9f-9cbf-a98072608f6d\" xlink:actuate=\"onRequest\" xlink:href=\"psysml:cf4d7795-98ee-4d9f-9cbf-a98072608f6d\" xlink:show=\"new\" xlink:title=\"psysml:cf4d7795-98ee-4d9f-9cbf-a98072608f6d\" xlink:type=\"simple\"><rect fill=\"#FFFFFF\" height=\"45.9375\" id=\"E2\" rx=\"10\" ry=\"10\" style=\"stroke: #383838; stroke-width: 1.5;\" width=\"43\" x=\"133.5\" y=\"62\"/><text fill=\"#000000\" font-family=\"sans-serif\" font-size=\"12\" font-style=\"italic\" lengthAdjust=\"spacingAndGlyphs\" textLength=\"41\" x=\"134.5\" y=\"78.1387\">«item»</text><text fill=\"#000000\" font-family=\"sans-serif\" font-size=\"12\" lengthAdjust=\"spacingAndGlyphs\" textLength=\"20\" x=\"145\" y=\"92.1074\">f: A</text><line style=\"stroke: #383838; stroke-width: 1.5;\" x1=\"134.5\" x2=\"175.5\" y1=\"99.9375\" y2=\"99.9375\"/></a><!--MD5=[09b614a08d8cba4a07c9adeb5e0fee81]\n",
       "class E3--><a href=\"psysml:be14fc81-3f83-42fd-a525-71826c91787f\" target=\"_top\" title=\"psysml:be14fc81-3f83-42fd-a525-71826c91787f\" xlink:actuate=\"onRequest\" xlink:href=\"psysml:be14fc81-3f83-42fd-a525-71826c91787f\" xlink:show=\"new\" xlink:title=\"psysml:be14fc81-3f83-42fd-a525-71826c91787f\" xlink:type=\"simple\"><rect fill=\"#FFFFFF\" height=\"75.5469\" id=\"E3\" style=\"stroke: #383838; stroke-width: 1.5;\" width=\"67\" x=\"115.5\" y=\"190\"/><text fill=\"#000000\" font-family=\"sans-serif\" font-size=\"12\" font-style=\"italic\" lengthAdjust=\"spacingAndGlyphs\" textLength=\"65\" x=\"116.5\" y=\"206.1387\">«item def»</text><text fill=\"#000000\" font-family=\"sans-serif\" font-size=\"12\" lengthAdjust=\"spacingAndGlyphs\" textLength=\"8\" x=\"145\" y=\"220.1074\">A</text><line style=\"stroke: #383838; stroke-width: 1.5;\" x1=\"116.5\" x2=\"181.5\" y1=\"227.9375\" y2=\"227.9375\"/><text fill=\"#000000\" font-family=\"sans-serif\" font-size=\"11\" lengthAdjust=\"spacingAndGlyphs\" textLength=\"23\" x=\"121.5\" y=\"258.9526\">b: B</text><line style=\"stroke: #383838; stroke-width: 1.0;\" x1=\"116.5\" x2=\"133\" y1=\"242.3398\" y2=\"242.3398\"/><text fill=\"#000000\" font-family=\"sans-serif\" font-size=\"11\" lengthAdjust=\"spacingAndGlyphs\" textLength=\"32\" x=\"133\" y=\"245.6479\">items</text><line style=\"stroke: #383838; stroke-width: 1.0;\" x1=\"165\" x2=\"181.5\" y1=\"242.3398\" y2=\"242.3398\"/></a><!--MD5=[270fce915f116d4de14055a7c1d9a0f3]\n",
       "class E5--><a href=\"psysml:77af57f1-340c-421d-9a30-1a49108711b3\" target=\"_top\" title=\"psysml:77af57f1-340c-421d-9a30-1a49108711b3\" xlink:actuate=\"onRequest\" xlink:href=\"psysml:77af57f1-340c-421d-9a30-1a49108711b3\" xlink:show=\"new\" xlink:title=\"psysml:77af57f1-340c-421d-9a30-1a49108711b3\" xlink:type=\"simple\"><rect fill=\"#FFFFFF\" height=\"45.9375\" id=\"E5\" rx=\"10\" ry=\"10\" style=\"stroke: #383838; stroke-width: 1.5;\" width=\"42\" x=\"32\" y=\"327\"/><text fill=\"#000000\" font-family=\"sans-serif\" font-size=\"12\" font-style=\"italic\" lengthAdjust=\"spacingAndGlyphs\" textLength=\"40\" x=\"33\" y=\"343.1387\">«part»</text><text fill=\"#000000\" font-family=\"sans-serif\" font-size=\"12\" lengthAdjust=\"spacingAndGlyphs\" textLength=\"23\" x=\"41.5\" y=\"357.1074\">c: C</text><line style=\"stroke: #383838; stroke-width: 1.5;\" x1=\"33\" x2=\"73\" y1=\"364.9375\" y2=\"364.9375\"/></a><!--MD5=[60a26617385b1d2d0262a64233df1f8d]\n",
       "class E6--><a href=\"psysml:41f55b44-de87-42d8-a9cd-035ede31bd10\" target=\"_top\" title=\"psysml:41f55b44-de87-42d8-a9cd-035ede31bd10\" xlink:actuate=\"onRequest\" xlink:href=\"psysml:41f55b44-de87-42d8-a9cd-035ede31bd10\" xlink:show=\"new\" xlink:title=\"psysml:41f55b44-de87-42d8-a9cd-035ede31bd10\" xlink:type=\"simple\"><rect fill=\"#FFFFFF\" height=\"45.9375\" id=\"E6\" style=\"stroke: #383838; stroke-width: 1.5;\" width=\"67\" x=\"85.5\" y=\"557\"/><text fill=\"#000000\" font-family=\"sans-serif\" font-size=\"12\" font-style=\"italic\" lengthAdjust=\"spacingAndGlyphs\" textLength=\"65\" x=\"86.5\" y=\"573.1387\">«item def»</text><text fill=\"#000000\" font-family=\"sans-serif\" font-size=\"12\" lengthAdjust=\"spacingAndGlyphs\" textLength=\"8\" x=\"115\" y=\"587.1074\">B</text><line style=\"stroke: #383838; stroke-width: 1.5;\" x1=\"86.5\" x2=\"151.5\" y1=\"594.9375\" y2=\"594.9375\"/></a><!--MD5=[2156ba9850f5573cc1fc38a6a4b2f02b]\n",
       "class E7--><a href=\"psysml:4ca48e5a-78fa-40b6-ad88-229f08c03677\" target=\"_top\" title=\"psysml:4ca48e5a-78fa-40b6-ad88-229f08c03677\" xlink:actuate=\"onRequest\" xlink:href=\"psysml:4ca48e5a-78fa-40b6-ad88-229f08c03677\" xlink:show=\"new\" xlink:title=\"psysml:4ca48e5a-78fa-40b6-ad88-229f08c03677\" xlink:type=\"simple\"><rect fill=\"#FFFFFF\" height=\"45.9375\" id=\"E7\" rx=\"10\" ry=\"10\" style=\"stroke: #383838; stroke-width: 1.5;\" width=\"42\" x=\"123\" y=\"664\"/><text fill=\"#000000\" font-family=\"sans-serif\" font-size=\"12\" font-style=\"italic\" lengthAdjust=\"spacingAndGlyphs\" textLength=\"40\" x=\"124\" y=\"680.1387\">«part»</text><text fill=\"#000000\" font-family=\"sans-serif\" font-size=\"12\" lengthAdjust=\"spacingAndGlyphs\" textLength=\"24\" x=\"132\" y=\"694.1074\">a: A</text><line style=\"stroke: #383838; stroke-width: 1.5;\" x1=\"124\" x2=\"164\" y1=\"701.9375\" y2=\"701.9375\"/></a><!--MD5=[b9389687b975829384b498ac4b7476b2]\n",
       "class E8--><a href=\"psysml:e612b3f8-fad7-4b05-bdfc-52877d32f7f2\" target=\"_top\" title=\"psysml:e612b3f8-fad7-4b05-bdfc-52877d32f7f2\" xlink:actuate=\"onRequest\" xlink:href=\"psysml:e612b3f8-fad7-4b05-bdfc-52877d32f7f2\" xlink:show=\"new\" xlink:title=\"psysml:e612b3f8-fad7-4b05-bdfc-52877d32f7f2\" xlink:type=\"simple\"><rect fill=\"#FFFFFF\" height=\"45.9375\" id=\"E8\" style=\"stroke: #383838; stroke-width: 1.5;\" width=\"66\" x=\"86\" y=\"434\"/><text fill=\"#000000\" font-family=\"sans-serif\" font-size=\"12\" font-style=\"italic\" lengthAdjust=\"spacingAndGlyphs\" textLength=\"64\" x=\"87\" y=\"450.1387\">«part def»</text><text fill=\"#000000\" font-family=\"sans-serif\" font-size=\"12\" lengthAdjust=\"spacingAndGlyphs\" textLength=\"8\" x=\"115\" y=\"464.1074\">C</text><line style=\"stroke: #383838; stroke-width: 1.5;\" x1=\"87\" x2=\"151\" y1=\"471.9375\" y2=\"471.9375\"/></a><!--MD5=[fd4143e9d270a159db93a4ea2a975926]\n",
       "class E9--><a href=\"psysml:b51b1cf2-e677-402d-bf05-bb2fae798694\" target=\"_top\" title=\"psysml:b51b1cf2-e677-402d-bf05-bb2fae798694\" xlink:actuate=\"onRequest\" xlink:href=\"psysml:b51b1cf2-e677-402d-bf05-bb2fae798694\" xlink:show=\"new\" xlink:title=\"psysml:b51b1cf2-e677-402d-bf05-bb2fae798694\" xlink:type=\"simple\"><rect fill=\"#FFFFFF\" height=\"88.3516\" id=\"E9\" style=\"stroke: #383838; stroke-width: 1.5;\" width=\"66\" x=\"32\" y=\"41\"/><text fill=\"#000000\" font-family=\"sans-serif\" font-size=\"12\" font-style=\"italic\" lengthAdjust=\"spacingAndGlyphs\" textLength=\"64\" x=\"33\" y=\"57.1387\">«port def»</text><text fill=\"#000000\" font-family=\"sans-serif\" font-size=\"12\" lengthAdjust=\"spacingAndGlyphs\" textLength=\"8\" x=\"61\" y=\"71.1074\">P</text><line style=\"stroke: #383838; stroke-width: 1.5;\" x1=\"33\" x2=\"97\" y1=\"78.9375\" y2=\"78.9375\"/><text fill=\"#000000\" font-family=\"sans-serif\" font-size=\"11\" lengthAdjust=\"spacingAndGlyphs\" textLength=\"29\" x=\"38\" y=\"109.9526\">a1: A</text><text fill=\"#000000\" font-family=\"sans-serif\" font-size=\"11\" lengthAdjust=\"spacingAndGlyphs\" textLength=\"29\" x=\"38\" y=\"122.7573\">a2: A</text><line style=\"stroke: #383838; stroke-width: 1.0;\" x1=\"33\" x2=\"49\" y1=\"93.3398\" y2=\"93.3398\"/><text fill=\"#000000\" font-family=\"sans-serif\" font-size=\"11\" lengthAdjust=\"spacingAndGlyphs\" textLength=\"32\" x=\"49\" y=\"96.6479\">items</text><line style=\"stroke: #383838; stroke-width: 1.0;\" x1=\"81\" x2=\"97\" y1=\"93.3398\" y2=\"93.3398\"/></a><!--MD5=[2720a5a1f2c3fca2055b230370638851]\n",
       "link E2 to E3--><a href=\"psysml:5c778f2f-9d99-44f7-9cbe-495e6850b493\" target=\"_top\" title=\"psysml:5c778f2f-9d99-44f7-9cbe-495e6850b493\" xlink:actuate=\"onRequest\" xlink:href=\"psysml:5c778f2f-9d99-44f7-9cbe-495e6850b493\" xlink:show=\"new\" xlink:title=\"psysml:5c778f2f-9d99-44f7-9cbe-495e6850b493\" xlink:type=\"simple\"><path d=\"M154.06,108.03 C153.36,124.58 152.36,148.04 151.44,169.76 \" fill=\"none\" id=\"E2-&gt;E3\" style=\"stroke: #383838; stroke-width: 1.0;\"/><polygon fill=\"#FFFFFF\" points=\"150.58,189.77,144.4005,170.4875,158.3877,171.0874,150.58,189.77\" style=\"stroke: #383838; stroke-width: 1.0;\"/><ellipse cx=\"146.6429\" cy=\"164.8784\" fill=\"#383838\" rx=\"2\" ry=\"2\" style=\"stroke: #383838; stroke-width: 1.0;\"/><ellipse cx=\"156.6338\" cy=\"165.3069\" fill=\"#383838\" rx=\"2\" ry=\"2\" style=\"stroke: #383838; stroke-width: 1.0;\"/></a><!--MD5=[191cde3d490a3f6d7bb551fe3ddca469]\n",
       "reverse link E3 to E5--><a href=\"psysml:77af57f1-340c-421d-9a30-1a49108711b3\" target=\"_top\" title=\"psysml:77af57f1-340c-421d-9a30-1a49108711b3\" xlink:actuate=\"onRequest\" xlink:href=\"psysml:77af57f1-340c-421d-9a30-1a49108711b3\" xlink:show=\"new\" xlink:title=\"psysml:77af57f1-340c-421d-9a30-1a49108711b3\" xlink:type=\"simple\"><path d=\"M110.75,276.82 C96.95,294.07 82.02,312.72 70.8,326.75 \" fill=\"none\" id=\"E3&lt;-E5\" style=\"stroke: #383838; stroke-width: 1.0;\"/><polygon fill=\"#FFFFFF\" points=\"119.15,266.31,112.2784,268.4964,111.6537,275.6804,118.5253,273.494,119.15,266.31\" style=\"stroke: #383838; stroke-width: 1.0;\"/></a><!--MD5=[14ccda38c055a5c0da953d572bc50960]\n",
       "link E7 to E3--><a href=\"psysml:8bb447da-4a21-4000-9a04-f9f9c4ed48f1\" target=\"_top\" title=\"psysml:8bb447da-4a21-4000-9a04-f9f9c4ed48f1\" xlink:actuate=\"onRequest\" xlink:href=\"psysml:8bb447da-4a21-4000-9a04-f9f9c4ed48f1\" xlink:show=\"new\" xlink:title=\"psysml:8bb447da-4a21-4000-9a04-f9f9c4ed48f1\" xlink:type=\"simple\"><path d=\"M159.74,663.82 C172.72,643.34 189,611.54 189,581 C189,349 189,349 189,349 C189,327.34 183.06,304.56 175.76,284.74 \" fill=\"none\" id=\"E7-&gt;E3\" style=\"stroke: #383838; stroke-width: 1.0;\"/><polygon fill=\"#FFFFFF\" points=\"168.18,266.05,181.8034,281.0301,168.8283,286.2881,168.18,266.05\" style=\"stroke: #383838; stroke-width: 1.0;\"/><ellipse cx=\"182.0906\" cy=\"287.0639\" fill=\"#383838\" rx=\"2\" ry=\"2\" style=\"stroke: #383838; stroke-width: 1.0;\"/><ellipse cx=\"172.8227\" cy=\"290.8196\" fill=\"#383838\" rx=\"2\" ry=\"2\" style=\"stroke: #383838; stroke-width: 1.0;\"/></a><!--MD5=[3f50a3473f1dfb74d3f76443e03635af]\n",
       "reverse link E6 to E7--><a href=\"psysml:4ca48e5a-78fa-40b6-ad88-229f08c03677\" target=\"_top\" title=\"psysml:4ca48e5a-78fa-40b6-ad88-229f08c03677\" xlink:actuate=\"onRequest\" xlink:href=\"psysml:4ca48e5a-78fa-40b6-ad88-229f08c03677\" xlink:show=\"new\" xlink:title=\"psysml:4ca48e5a-78fa-40b6-ad88-229f08c03677\" xlink:type=\"simple\"><path d=\"M127.34,616.05 C131.08,631.76 135.39,649.82 138.68,663.66 \" fill=\"none\" id=\"E6&lt;-E7\" style=\"stroke: #383838; stroke-width: 1.0;\"/><polygon fill=\"#383838\" points=\"124.24,603.01,121.7406,609.7741,127.023,614.6828,129.5224,607.9187,124.24,603.01\" style=\"stroke: #383838; stroke-width: 1.0;\"/></a><!--MD5=[dfaffb906826c3e5aca635516100ff21]\n",
       "link E5 to E8--><a href=\"psysml:6ff88c17-8c2d-42a4-af32-a2455d6f0acf\" target=\"_top\" title=\"psysml:6ff88c17-8c2d-42a4-af32-a2455d6f0acf\" xlink:actuate=\"onRequest\" xlink:href=\"psysml:6ff88c17-8c2d-42a4-af32-a2455d6f0acf\" xlink:show=\"new\" xlink:title=\"psysml:6ff88c17-8c2d-42a4-af32-a2455d6f0acf\" xlink:type=\"simple\"><path d=\"M66.84,373.01 C74.79,385.67 85.02,401.94 94.31,416.72 \" fill=\"none\" id=\"E5-&gt;E8\" style=\"stroke: #383838; stroke-width: 1.0;\"/><polygon fill=\"#FFFFFF\" points=\"104.96,433.66,88.9212,421.3005,100.7735,413.8491,104.96,433.66\" style=\"stroke: #383838; stroke-width: 1.0;\"/><ellipse cx=\"87.5806\" cy=\"415.4104\" fill=\"#383838\" rx=\"2\" ry=\"2\" style=\"stroke: #383838; stroke-width: 1.0;\"/><ellipse cx=\"96.0465\" cy=\"410.088\" fill=\"#383838\" rx=\"2\" ry=\"2\" style=\"stroke: #383838; stroke-width: 1.0;\"/></a><!--MD5=[03c8294790d3c57651a1993cecff665f]\n",
       "reverse link E8 to E3--><a href=\"psysml:83dfbdb9-73af-4dff-b5ad-52a21a738594\" target=\"_top\" title=\"psysml:83dfbdb9-73af-4dff-b5ad-52a21a738594\" xlink:actuate=\"onRequest\" xlink:href=\"psysml:83dfbdb9-73af-4dff-b5ad-52a21a738594\" xlink:show=\"new\" xlink:title=\"psysml:83dfbdb9-73af-4dff-b5ad-52a21a738594\" xlink:type=\"simple\"><path d=\"M123.65,420.81 C129.2,378.86 138.42,309.06 144.08,266.23 \" fill=\"none\" id=\"E8&lt;-E3\" style=\"stroke: #383838; stroke-width: 1.0;\"/><polygon fill=\"#FFFFFF\" points=\"121.92,433.89,126.6755,428.4692,123.5008,421.9946,118.7453,427.4154,121.92,433.89\" style=\"stroke: #383838; stroke-width: 1.0;\"/><text fill=\"#000000\" font-family=\"sans-serif\" font-size=\"13\" lengthAdjust=\"spacingAndGlyphs\" textLength=\"7\" x=\"136\" y=\"354.5669\">y</text></a><!--MD5=[0d75d2178373a6a4568e5dc728f58aef]\n",
       "reverse link E8 to E6--><a href=\"psysml:83dfbdb9-73af-4dff-b5ad-52a21a738594\" target=\"_top\" title=\"psysml:83dfbdb9-73af-4dff-b5ad-52a21a738594\" xlink:actuate=\"onRequest\" xlink:href=\"psysml:83dfbdb9-73af-4dff-b5ad-52a21a738594\" xlink:show=\"new\" xlink:title=\"psysml:83dfbdb9-73af-4dff-b5ad-52a21a738594\" xlink:type=\"simple\"><path d=\"M119,493.22 C119,513.81 119,539.16 119,556.95 \" fill=\"none\" id=\"E8&lt;-E6\" style=\"stroke: #383838; stroke-width: 1.0;\"/><polygon fill=\"#FFFFFF\" points=\"119,480.19,115,486.19,119,492.19,123,486.19,119,480.19\" style=\"stroke: #383838; stroke-width: 1.0;\"/><text fill=\"#000000\" font-family=\"sans-serif\" font-size=\"13\" lengthAdjust=\"spacingAndGlyphs\" textLength=\"7\" x=\"120\" y=\"523.0669\">y</text></a><!--MD5=[427ea60b178e7d773fb232adaa179886]\n",
       "@startuml\r\n",
       "top to bottom direction\r\n",
       "skinparam monochrome true\r\n",
       "skinparam classbackgroundcolor white\r\n",
       "skinparam shadowing false\r\n",
       "skinparam wrapWidth 300\r\n",
       "hide circle\r\n",
       "\r\n",
       "package \"ItemTest\" as E1  [[psysml:ffb2e2dc-9c37-4787-be7c-ae8a88a6d943 ]]  {\r\n",
       "comp usage \"f: A\" as E2  <<(T,blue)item>> [[psysml:cf4d7795-98ee-4d9f-9cbf-a98072608f6d ]] {\r\n",
       "}\r\n",
       "comp def \"A\" as E3  <<(T,blue)item def>> [[psysml:be14fc81-3f83-42fd-a525-71826c91787f ]] {\r\n",
       "- - items - -\r\n",
       "b: B\r\n",
       "}\r\n",
       "comp usage \"c: C\" as E5  <<(T,blue)part>> [[psysml:77af57f1-340c-421d-9a30-1a49108711b3 ]] {\r\n",
       "}\r\n",
       "comp def \"B\" as E6  <<(T,blue)item def>> [[psysml:41f55b44-de87-42d8-a9cd-035ede31bd10 ]] {\r\n",
       "}\r\n",
       "comp usage \"a: A\" as E7  <<(T,blue)part>> [[psysml:4ca48e5a-78fa-40b6-ad88-229f08c03677 ]] {\r\n",
       "}\r\n",
       "comp def \"C\" as E8  <<(T,blue)part def>> [[psysml:e612b3f8-fad7-4b05-bdfc-52877d32f7f2 ]] {\r\n",
       "}\r\n",
       "comp def \"P\" as E9  <<(T,blue)port def>> [[psysml:b51b1cf2-e677-402d-bf05-bb2fae798694 ]] {\r\n",
       "- - items - -\r\n",
       "a1: A\r\n",
       "a2: A\r\n",
       "}\r\n",
       "E2 - -:|> E3 [[psysml:5c778f2f-9d99-44f7-9cbe-495e6850b493 ]] \r\n",
       "E3 o- - E5 [[psysml:77af57f1-340c-421d-9a30-1a49108711b3 ]] \r\n",
       "E7 - -:|> E3 [[psysml:8bb447da-4a21-4000-9a04-f9f9c4ed48f1 ]] \r\n",
       "E6 *- - E7 [[psysml:4ca48e5a-78fa-40b6-ad88-229f08c03677 ]] \r\n",
       "E5 - -:|> E8 [[psysml:6ff88c17-8c2d-42a4-af32-a2455d6f0acf ]] \r\n",
       "E8 o- - E3 [[psysml:83dfbdb9-73af-4dff-b5ad-52a21a738594 ]] : y\r\n",
       "E8 o- - E6 [[psysml:83dfbdb9-73af-4dff-b5ad-52a21a738594 ]] : y\r\n",
       "}\r\n",
       "@enduml\r\n",
       "\n",
       "PlantUML version 1.2020.13(Sat Jun 13 12:26:38 UTC 2020)\n",
       "(EPL source distribution)\n",
       "Java Runtime: OpenJDK Runtime Environment\n",
       "JVM: OpenJDK 64-Bit Server VM\n",
       "Default Encoding: UTF-8\n",
       "Language: en\n",
       "Country: null\n",
       "--></g></svg>"
      ]
     },
     "execution_count": 49,
     "metadata": {},
     "output_type": "execute_result"
    }
   ],
   "source": [
    "%viz --style=\"TB\" --view=\"Sequence\" \"ItemTest\""
   ]
  },
  {
   "cell_type": "code",
   "execution_count": 50,
   "id": "viral-street",
   "metadata": {
    "execution": {
     "iopub.execute_input": "2021-03-25T15:10:28.798636Z",
     "iopub.status.busy": "2021-03-25T15:10:28.798111Z",
     "iopub.status.idle": "2021-03-25T15:10:29.074701Z",
     "shell.execute_reply": "2021-03-25T15:10:29.075087Z"
    }
   },
   "outputs": [
    {
     "data": {
      "image/svg+xml": [
       "<?xml version=\"1.0\" encoding=\"UTF-8\" standalone=\"no\"?><svg xmlns=\"http://www.w3.org/2000/svg\" xmlns:xlink=\"http://www.w3.org/1999/xlink\" contentScriptType=\"application/ecmascript\" contentStyleType=\"text/css\" height=\"738px\" preserveAspectRatio=\"none\" style=\"width:228px;height:738px;\" version=\"1.1\" viewBox=\"0 0 228 738\" width=\"228px\" zoomAndPan=\"magnify\"><defs/><g><!--MD5=[fbc87193dbaf4d95561dea2c320d4a47]\n",
       "cluster E1--><a href=\"psysml:ffb2e2dc-9c37-4787-be7c-ae8a88a6d943\" target=\"_top\" title=\"psysml:ffb2e2dc-9c37-4787-be7c-ae8a88a6d943\" xlink:actuate=\"onRequest\" xlink:href=\"psysml:ffb2e2dc-9c37-4787-be7c-ae8a88a6d943\" xlink:show=\"new\" xlink:title=\"psysml:ffb2e2dc-9c37-4787-be7c-ae8a88a6d943\" xlink:type=\"simple\"><polygon fill=\"#FFFFFF\" points=\"16,6,91,6,98,28.2969,206,28.2969,206,726,16,726,16,6\" style=\"stroke: #000000; stroke-width: 1.5;\"/><line style=\"stroke: #000000; stroke-width: 1.5;\" x1=\"16\" x2=\"98\" y1=\"28.2969\" y2=\"28.2969\"/><text fill=\"#000000\" font-family=\"sans-serif\" font-size=\"14\" font-weight=\"bold\" lengthAdjust=\"spacingAndGlyphs\" textLength=\"69\" x=\"20\" y=\"20.9951\">ItemTest</text></a><!--MD5=[b4997ac47864f28c2f74865a473b2911]\n",
       "class E2--><a href=\"psysml:cf4d7795-98ee-4d9f-9cbf-a98072608f6d\" target=\"_top\" title=\"psysml:cf4d7795-98ee-4d9f-9cbf-a98072608f6d\" xlink:actuate=\"onRequest\" xlink:href=\"psysml:cf4d7795-98ee-4d9f-9cbf-a98072608f6d\" xlink:show=\"new\" xlink:title=\"psysml:cf4d7795-98ee-4d9f-9cbf-a98072608f6d\" xlink:type=\"simple\"><rect fill=\"#FFFFFF\" height=\"45.9375\" id=\"E2\" rx=\"10\" ry=\"10\" style=\"stroke: #383838; stroke-width: 1.5;\" width=\"43\" x=\"133.5\" y=\"62\"/><text fill=\"#000000\" font-family=\"sans-serif\" font-size=\"12\" font-style=\"italic\" lengthAdjust=\"spacingAndGlyphs\" textLength=\"41\" x=\"134.5\" y=\"78.1387\">«item»</text><text fill=\"#000000\" font-family=\"sans-serif\" font-size=\"12\" lengthAdjust=\"spacingAndGlyphs\" textLength=\"20\" x=\"145\" y=\"92.1074\">f: A</text><line style=\"stroke: #383838; stroke-width: 1.5;\" x1=\"134.5\" x2=\"175.5\" y1=\"99.9375\" y2=\"99.9375\"/></a><!--MD5=[09b614a08d8cba4a07c9adeb5e0fee81]\n",
       "class E3--><a href=\"psysml:be14fc81-3f83-42fd-a525-71826c91787f\" target=\"_top\" title=\"psysml:be14fc81-3f83-42fd-a525-71826c91787f\" xlink:actuate=\"onRequest\" xlink:href=\"psysml:be14fc81-3f83-42fd-a525-71826c91787f\" xlink:show=\"new\" xlink:title=\"psysml:be14fc81-3f83-42fd-a525-71826c91787f\" xlink:type=\"simple\"><rect fill=\"#FFFFFF\" height=\"75.5469\" id=\"E3\" style=\"stroke: #383838; stroke-width: 1.5;\" width=\"67\" x=\"115.5\" y=\"190\"/><text fill=\"#000000\" font-family=\"sans-serif\" font-size=\"12\" font-style=\"italic\" lengthAdjust=\"spacingAndGlyphs\" textLength=\"65\" x=\"116.5\" y=\"206.1387\">«item def»</text><text fill=\"#000000\" font-family=\"sans-serif\" font-size=\"12\" lengthAdjust=\"spacingAndGlyphs\" textLength=\"8\" x=\"145\" y=\"220.1074\">A</text><line style=\"stroke: #383838; stroke-width: 1.5;\" x1=\"116.5\" x2=\"181.5\" y1=\"227.9375\" y2=\"227.9375\"/><text fill=\"#000000\" font-family=\"sans-serif\" font-size=\"11\" lengthAdjust=\"spacingAndGlyphs\" textLength=\"23\" x=\"121.5\" y=\"258.9526\">b: B</text><line style=\"stroke: #383838; stroke-width: 1.0;\" x1=\"116.5\" x2=\"133\" y1=\"242.3398\" y2=\"242.3398\"/><text fill=\"#000000\" font-family=\"sans-serif\" font-size=\"11\" lengthAdjust=\"spacingAndGlyphs\" textLength=\"32\" x=\"133\" y=\"245.6479\">items</text><line style=\"stroke: #383838; stroke-width: 1.0;\" x1=\"165\" x2=\"181.5\" y1=\"242.3398\" y2=\"242.3398\"/></a><!--MD5=[270fce915f116d4de14055a7c1d9a0f3]\n",
       "class E5--><a href=\"psysml:77af57f1-340c-421d-9a30-1a49108711b3\" target=\"_top\" title=\"psysml:77af57f1-340c-421d-9a30-1a49108711b3\" xlink:actuate=\"onRequest\" xlink:href=\"psysml:77af57f1-340c-421d-9a30-1a49108711b3\" xlink:show=\"new\" xlink:title=\"psysml:77af57f1-340c-421d-9a30-1a49108711b3\" xlink:type=\"simple\"><rect fill=\"#FFFFFF\" height=\"45.9375\" id=\"E5\" rx=\"10\" ry=\"10\" style=\"stroke: #383838; stroke-width: 1.5;\" width=\"42\" x=\"32\" y=\"327\"/><text fill=\"#000000\" font-family=\"sans-serif\" font-size=\"12\" font-style=\"italic\" lengthAdjust=\"spacingAndGlyphs\" textLength=\"40\" x=\"33\" y=\"343.1387\">«part»</text><text fill=\"#000000\" font-family=\"sans-serif\" font-size=\"12\" lengthAdjust=\"spacingAndGlyphs\" textLength=\"23\" x=\"41.5\" y=\"357.1074\">c: C</text><line style=\"stroke: #383838; stroke-width: 1.5;\" x1=\"33\" x2=\"73\" y1=\"364.9375\" y2=\"364.9375\"/></a><!--MD5=[60a26617385b1d2d0262a64233df1f8d]\n",
       "class E6--><a href=\"psysml:41f55b44-de87-42d8-a9cd-035ede31bd10\" target=\"_top\" title=\"psysml:41f55b44-de87-42d8-a9cd-035ede31bd10\" xlink:actuate=\"onRequest\" xlink:href=\"psysml:41f55b44-de87-42d8-a9cd-035ede31bd10\" xlink:show=\"new\" xlink:title=\"psysml:41f55b44-de87-42d8-a9cd-035ede31bd10\" xlink:type=\"simple\"><rect fill=\"#FFFFFF\" height=\"45.9375\" id=\"E6\" style=\"stroke: #383838; stroke-width: 1.5;\" width=\"67\" x=\"85.5\" y=\"557\"/><text fill=\"#000000\" font-family=\"sans-serif\" font-size=\"12\" font-style=\"italic\" lengthAdjust=\"spacingAndGlyphs\" textLength=\"65\" x=\"86.5\" y=\"573.1387\">«item def»</text><text fill=\"#000000\" font-family=\"sans-serif\" font-size=\"12\" lengthAdjust=\"spacingAndGlyphs\" textLength=\"8\" x=\"115\" y=\"587.1074\">B</text><line style=\"stroke: #383838; stroke-width: 1.5;\" x1=\"86.5\" x2=\"151.5\" y1=\"594.9375\" y2=\"594.9375\"/></a><!--MD5=[2156ba9850f5573cc1fc38a6a4b2f02b]\n",
       "class E7--><a href=\"psysml:4ca48e5a-78fa-40b6-ad88-229f08c03677\" target=\"_top\" title=\"psysml:4ca48e5a-78fa-40b6-ad88-229f08c03677\" xlink:actuate=\"onRequest\" xlink:href=\"psysml:4ca48e5a-78fa-40b6-ad88-229f08c03677\" xlink:show=\"new\" xlink:title=\"psysml:4ca48e5a-78fa-40b6-ad88-229f08c03677\" xlink:type=\"simple\"><rect fill=\"#FFFFFF\" height=\"45.9375\" id=\"E7\" rx=\"10\" ry=\"10\" style=\"stroke: #383838; stroke-width: 1.5;\" width=\"42\" x=\"123\" y=\"664\"/><text fill=\"#000000\" font-family=\"sans-serif\" font-size=\"12\" font-style=\"italic\" lengthAdjust=\"spacingAndGlyphs\" textLength=\"40\" x=\"124\" y=\"680.1387\">«part»</text><text fill=\"#000000\" font-family=\"sans-serif\" font-size=\"12\" lengthAdjust=\"spacingAndGlyphs\" textLength=\"24\" x=\"132\" y=\"694.1074\">a: A</text><line style=\"stroke: #383838; stroke-width: 1.5;\" x1=\"124\" x2=\"164\" y1=\"701.9375\" y2=\"701.9375\"/></a><!--MD5=[b9389687b975829384b498ac4b7476b2]\n",
       "class E8--><a href=\"psysml:e612b3f8-fad7-4b05-bdfc-52877d32f7f2\" target=\"_top\" title=\"psysml:e612b3f8-fad7-4b05-bdfc-52877d32f7f2\" xlink:actuate=\"onRequest\" xlink:href=\"psysml:e612b3f8-fad7-4b05-bdfc-52877d32f7f2\" xlink:show=\"new\" xlink:title=\"psysml:e612b3f8-fad7-4b05-bdfc-52877d32f7f2\" xlink:type=\"simple\"><rect fill=\"#FFFFFF\" height=\"45.9375\" id=\"E8\" style=\"stroke: #383838; stroke-width: 1.5;\" width=\"66\" x=\"86\" y=\"434\"/><text fill=\"#000000\" font-family=\"sans-serif\" font-size=\"12\" font-style=\"italic\" lengthAdjust=\"spacingAndGlyphs\" textLength=\"64\" x=\"87\" y=\"450.1387\">«part def»</text><text fill=\"#000000\" font-family=\"sans-serif\" font-size=\"12\" lengthAdjust=\"spacingAndGlyphs\" textLength=\"8\" x=\"115\" y=\"464.1074\">C</text><line style=\"stroke: #383838; stroke-width: 1.5;\" x1=\"87\" x2=\"151\" y1=\"471.9375\" y2=\"471.9375\"/></a><!--MD5=[fd4143e9d270a159db93a4ea2a975926]\n",
       "class E9--><a href=\"psysml:b51b1cf2-e677-402d-bf05-bb2fae798694\" target=\"_top\" title=\"psysml:b51b1cf2-e677-402d-bf05-bb2fae798694\" xlink:actuate=\"onRequest\" xlink:href=\"psysml:b51b1cf2-e677-402d-bf05-bb2fae798694\" xlink:show=\"new\" xlink:title=\"psysml:b51b1cf2-e677-402d-bf05-bb2fae798694\" xlink:type=\"simple\"><rect fill=\"#FFFFFF\" height=\"88.3516\" id=\"E9\" style=\"stroke: #383838; stroke-width: 1.5;\" width=\"66\" x=\"32\" y=\"41\"/><text fill=\"#000000\" font-family=\"sans-serif\" font-size=\"12\" font-style=\"italic\" lengthAdjust=\"spacingAndGlyphs\" textLength=\"64\" x=\"33\" y=\"57.1387\">«port def»</text><text fill=\"#000000\" font-family=\"sans-serif\" font-size=\"12\" lengthAdjust=\"spacingAndGlyphs\" textLength=\"8\" x=\"61\" y=\"71.1074\">P</text><line style=\"stroke: #383838; stroke-width: 1.5;\" x1=\"33\" x2=\"97\" y1=\"78.9375\" y2=\"78.9375\"/><text fill=\"#000000\" font-family=\"sans-serif\" font-size=\"11\" lengthAdjust=\"spacingAndGlyphs\" textLength=\"29\" x=\"38\" y=\"109.9526\">a1: A</text><text fill=\"#000000\" font-family=\"sans-serif\" font-size=\"11\" lengthAdjust=\"spacingAndGlyphs\" textLength=\"29\" x=\"38\" y=\"122.7573\">a2: A</text><line style=\"stroke: #383838; stroke-width: 1.0;\" x1=\"33\" x2=\"49\" y1=\"93.3398\" y2=\"93.3398\"/><text fill=\"#000000\" font-family=\"sans-serif\" font-size=\"11\" lengthAdjust=\"spacingAndGlyphs\" textLength=\"32\" x=\"49\" y=\"96.6479\">items</text><line style=\"stroke: #383838; stroke-width: 1.0;\" x1=\"81\" x2=\"97\" y1=\"93.3398\" y2=\"93.3398\"/></a><!--MD5=[2720a5a1f2c3fca2055b230370638851]\n",
       "link E2 to E3--><a href=\"psysml:5c778f2f-9d99-44f7-9cbe-495e6850b493\" target=\"_top\" title=\"psysml:5c778f2f-9d99-44f7-9cbe-495e6850b493\" xlink:actuate=\"onRequest\" xlink:href=\"psysml:5c778f2f-9d99-44f7-9cbe-495e6850b493\" xlink:show=\"new\" xlink:title=\"psysml:5c778f2f-9d99-44f7-9cbe-495e6850b493\" xlink:type=\"simple\"><path d=\"M154.06,108.03 C153.36,124.58 152.36,148.04 151.44,169.76 \" fill=\"none\" id=\"E2-&gt;E3\" style=\"stroke: #383838; stroke-width: 1.0;\"/><polygon fill=\"#FFFFFF\" points=\"150.58,189.77,144.4005,170.4875,158.3877,171.0874,150.58,189.77\" style=\"stroke: #383838; stroke-width: 1.0;\"/><ellipse cx=\"146.6429\" cy=\"164.8784\" fill=\"#383838\" rx=\"2\" ry=\"2\" style=\"stroke: #383838; stroke-width: 1.0;\"/><ellipse cx=\"156.6338\" cy=\"165.3069\" fill=\"#383838\" rx=\"2\" ry=\"2\" style=\"stroke: #383838; stroke-width: 1.0;\"/></a><!--MD5=[191cde3d490a3f6d7bb551fe3ddca469]\n",
       "reverse link E3 to E5--><a href=\"psysml:77af57f1-340c-421d-9a30-1a49108711b3\" target=\"_top\" title=\"psysml:77af57f1-340c-421d-9a30-1a49108711b3\" xlink:actuate=\"onRequest\" xlink:href=\"psysml:77af57f1-340c-421d-9a30-1a49108711b3\" xlink:show=\"new\" xlink:title=\"psysml:77af57f1-340c-421d-9a30-1a49108711b3\" xlink:type=\"simple\"><path d=\"M110.75,276.82 C96.95,294.07 82.02,312.72 70.8,326.75 \" fill=\"none\" id=\"E3&lt;-E5\" style=\"stroke: #383838; stroke-width: 1.0;\"/><polygon fill=\"#FFFFFF\" points=\"119.15,266.31,112.2784,268.4964,111.6537,275.6804,118.5253,273.494,119.15,266.31\" style=\"stroke: #383838; stroke-width: 1.0;\"/></a><!--MD5=[14ccda38c055a5c0da953d572bc50960]\n",
       "link E7 to E3--><a href=\"psysml:8bb447da-4a21-4000-9a04-f9f9c4ed48f1\" target=\"_top\" title=\"psysml:8bb447da-4a21-4000-9a04-f9f9c4ed48f1\" xlink:actuate=\"onRequest\" xlink:href=\"psysml:8bb447da-4a21-4000-9a04-f9f9c4ed48f1\" xlink:show=\"new\" xlink:title=\"psysml:8bb447da-4a21-4000-9a04-f9f9c4ed48f1\" xlink:type=\"simple\"><path d=\"M159.74,663.82 C172.72,643.34 189,611.54 189,581 C189,349 189,349 189,349 C189,327.34 183.06,304.56 175.76,284.74 \" fill=\"none\" id=\"E7-&gt;E3\" style=\"stroke: #383838; stroke-width: 1.0;\"/><polygon fill=\"#FFFFFF\" points=\"168.18,266.05,181.8034,281.0301,168.8283,286.2881,168.18,266.05\" style=\"stroke: #383838; stroke-width: 1.0;\"/><ellipse cx=\"182.0906\" cy=\"287.0639\" fill=\"#383838\" rx=\"2\" ry=\"2\" style=\"stroke: #383838; stroke-width: 1.0;\"/><ellipse cx=\"172.8227\" cy=\"290.8196\" fill=\"#383838\" rx=\"2\" ry=\"2\" style=\"stroke: #383838; stroke-width: 1.0;\"/></a><!--MD5=[3f50a3473f1dfb74d3f76443e03635af]\n",
       "reverse link E6 to E7--><a href=\"psysml:4ca48e5a-78fa-40b6-ad88-229f08c03677\" target=\"_top\" title=\"psysml:4ca48e5a-78fa-40b6-ad88-229f08c03677\" xlink:actuate=\"onRequest\" xlink:href=\"psysml:4ca48e5a-78fa-40b6-ad88-229f08c03677\" xlink:show=\"new\" xlink:title=\"psysml:4ca48e5a-78fa-40b6-ad88-229f08c03677\" xlink:type=\"simple\"><path d=\"M127.34,616.05 C131.08,631.76 135.39,649.82 138.68,663.66 \" fill=\"none\" id=\"E6&lt;-E7\" style=\"stroke: #383838; stroke-width: 1.0;\"/><polygon fill=\"#383838\" points=\"124.24,603.01,121.7406,609.7741,127.023,614.6828,129.5224,607.9187,124.24,603.01\" style=\"stroke: #383838; stroke-width: 1.0;\"/></a><!--MD5=[dfaffb906826c3e5aca635516100ff21]\n",
       "link E5 to E8--><a href=\"psysml:6ff88c17-8c2d-42a4-af32-a2455d6f0acf\" target=\"_top\" title=\"psysml:6ff88c17-8c2d-42a4-af32-a2455d6f0acf\" xlink:actuate=\"onRequest\" xlink:href=\"psysml:6ff88c17-8c2d-42a4-af32-a2455d6f0acf\" xlink:show=\"new\" xlink:title=\"psysml:6ff88c17-8c2d-42a4-af32-a2455d6f0acf\" xlink:type=\"simple\"><path d=\"M66.84,373.01 C74.79,385.67 85.02,401.94 94.31,416.72 \" fill=\"none\" id=\"E5-&gt;E8\" style=\"stroke: #383838; stroke-width: 1.0;\"/><polygon fill=\"#FFFFFF\" points=\"104.96,433.66,88.9212,421.3005,100.7735,413.8491,104.96,433.66\" style=\"stroke: #383838; stroke-width: 1.0;\"/><ellipse cx=\"87.5806\" cy=\"415.4104\" fill=\"#383838\" rx=\"2\" ry=\"2\" style=\"stroke: #383838; stroke-width: 1.0;\"/><ellipse cx=\"96.0465\" cy=\"410.088\" fill=\"#383838\" rx=\"2\" ry=\"2\" style=\"stroke: #383838; stroke-width: 1.0;\"/></a><!--MD5=[03c8294790d3c57651a1993cecff665f]\n",
       "reverse link E8 to E3--><a href=\"psysml:83dfbdb9-73af-4dff-b5ad-52a21a738594\" target=\"_top\" title=\"psysml:83dfbdb9-73af-4dff-b5ad-52a21a738594\" xlink:actuate=\"onRequest\" xlink:href=\"psysml:83dfbdb9-73af-4dff-b5ad-52a21a738594\" xlink:show=\"new\" xlink:title=\"psysml:83dfbdb9-73af-4dff-b5ad-52a21a738594\" xlink:type=\"simple\"><path d=\"M123.65,420.81 C129.2,378.86 138.42,309.06 144.08,266.23 \" fill=\"none\" id=\"E8&lt;-E3\" style=\"stroke: #383838; stroke-width: 1.0;\"/><polygon fill=\"#FFFFFF\" points=\"121.92,433.89,126.6755,428.4692,123.5008,421.9946,118.7453,427.4154,121.92,433.89\" style=\"stroke: #383838; stroke-width: 1.0;\"/><text fill=\"#000000\" font-family=\"sans-serif\" font-size=\"13\" lengthAdjust=\"spacingAndGlyphs\" textLength=\"7\" x=\"136\" y=\"354.5669\">y</text></a><!--MD5=[0d75d2178373a6a4568e5dc728f58aef]\n",
       "reverse link E8 to E6--><a href=\"psysml:83dfbdb9-73af-4dff-b5ad-52a21a738594\" target=\"_top\" title=\"psysml:83dfbdb9-73af-4dff-b5ad-52a21a738594\" xlink:actuate=\"onRequest\" xlink:href=\"psysml:83dfbdb9-73af-4dff-b5ad-52a21a738594\" xlink:show=\"new\" xlink:title=\"psysml:83dfbdb9-73af-4dff-b5ad-52a21a738594\" xlink:type=\"simple\"><path d=\"M119,493.22 C119,513.81 119,539.16 119,556.95 \" fill=\"none\" id=\"E8&lt;-E6\" style=\"stroke: #383838; stroke-width: 1.0;\"/><polygon fill=\"#FFFFFF\" points=\"119,480.19,115,486.19,119,492.19,123,486.19,119,480.19\" style=\"stroke: #383838; stroke-width: 1.0;\"/><text fill=\"#000000\" font-family=\"sans-serif\" font-size=\"13\" lengthAdjust=\"spacingAndGlyphs\" textLength=\"7\" x=\"120\" y=\"523.0669\">y</text></a><!--MD5=[427ea60b178e7d773fb232adaa179886]\n",
       "@startuml\r\n",
       "top to bottom direction\r\n",
       "skinparam monochrome true\r\n",
       "skinparam classbackgroundcolor white\r\n",
       "skinparam shadowing false\r\n",
       "skinparam wrapWidth 300\r\n",
       "hide circle\r\n",
       "\r\n",
       "package \"ItemTest\" as E1  [[psysml:ffb2e2dc-9c37-4787-be7c-ae8a88a6d943 ]]  {\r\n",
       "comp usage \"f: A\" as E2  <<(T,blue)item>> [[psysml:cf4d7795-98ee-4d9f-9cbf-a98072608f6d ]] {\r\n",
       "}\r\n",
       "comp def \"A\" as E3  <<(T,blue)item def>> [[psysml:be14fc81-3f83-42fd-a525-71826c91787f ]] {\r\n",
       "- - items - -\r\n",
       "b: B\r\n",
       "}\r\n",
       "comp usage \"c: C\" as E5  <<(T,blue)part>> [[psysml:77af57f1-340c-421d-9a30-1a49108711b3 ]] {\r\n",
       "}\r\n",
       "comp def \"B\" as E6  <<(T,blue)item def>> [[psysml:41f55b44-de87-42d8-a9cd-035ede31bd10 ]] {\r\n",
       "}\r\n",
       "comp usage \"a: A\" as E7  <<(T,blue)part>> [[psysml:4ca48e5a-78fa-40b6-ad88-229f08c03677 ]] {\r\n",
       "}\r\n",
       "comp def \"C\" as E8  <<(T,blue)part def>> [[psysml:e612b3f8-fad7-4b05-bdfc-52877d32f7f2 ]] {\r\n",
       "}\r\n",
       "comp def \"P\" as E9  <<(T,blue)port def>> [[psysml:b51b1cf2-e677-402d-bf05-bb2fae798694 ]] {\r\n",
       "- - items - -\r\n",
       "a1: A\r\n",
       "a2: A\r\n",
       "}\r\n",
       "E2 - -:|> E3 [[psysml:5c778f2f-9d99-44f7-9cbe-495e6850b493 ]] \r\n",
       "E3 o- - E5 [[psysml:77af57f1-340c-421d-9a30-1a49108711b3 ]] \r\n",
       "E7 - -:|> E3 [[psysml:8bb447da-4a21-4000-9a04-f9f9c4ed48f1 ]] \r\n",
       "E6 *- - E7 [[psysml:4ca48e5a-78fa-40b6-ad88-229f08c03677 ]] \r\n",
       "E5 - -:|> E8 [[psysml:6ff88c17-8c2d-42a4-af32-a2455d6f0acf ]] \r\n",
       "E8 o- - E3 [[psysml:83dfbdb9-73af-4dff-b5ad-52a21a738594 ]] : y\r\n",
       "E8 o- - E6 [[psysml:83dfbdb9-73af-4dff-b5ad-52a21a738594 ]] : y\r\n",
       "}\r\n",
       "@enduml\r\n",
       "\n",
       "PlantUML version 1.2020.13(Sat Jun 13 12:26:38 UTC 2020)\n",
       "(EPL source distribution)\n",
       "Java Runtime: OpenJDK Runtime Environment\n",
       "JVM: OpenJDK 64-Bit Server VM\n",
       "Default Encoding: UTF-8\n",
       "Language: en\n",
       "Country: null\n",
       "--></g></svg>"
      ]
     },
     "execution_count": 50,
     "metadata": {},
     "output_type": "execute_result"
    }
   ],
   "source": [
    "%viz --style=\"TB\" --view=\"MIXED\" \"ItemTest\""
   ]
  },
  {
   "cell_type": "code",
   "execution_count": 51,
   "id": "domestic-installation",
   "metadata": {
    "execution": {
     "iopub.execute_input": "2021-03-25T15:10:29.127764Z",
     "iopub.status.busy": "2021-03-25T15:10:29.125809Z",
     "iopub.status.idle": "2021-03-25T15:10:29.444889Z",
     "shell.execute_reply": "2021-03-25T15:10:29.445534Z"
    }
   },
   "outputs": [
    {
     "data": {
      "image/svg+xml": [
       "<?xml version=\"1.0\" encoding=\"UTF-8\" standalone=\"no\"?><svg xmlns=\"http://www.w3.org/2000/svg\" xmlns:xlink=\"http://www.w3.org/1999/xlink\" contentScriptType=\"application/ecmascript\" contentStyleType=\"text/css\" height=\"738px\" preserveAspectRatio=\"none\" style=\"width:228px;height:738px;\" version=\"1.1\" viewBox=\"0 0 228 738\" width=\"228px\" zoomAndPan=\"magnify\"><defs/><g><!--MD5=[fbc87193dbaf4d95561dea2c320d4a47]\n",
       "cluster E1--><a href=\"psysml:ffb2e2dc-9c37-4787-be7c-ae8a88a6d943\" target=\"_top\" title=\"psysml:ffb2e2dc-9c37-4787-be7c-ae8a88a6d943\" xlink:actuate=\"onRequest\" xlink:href=\"psysml:ffb2e2dc-9c37-4787-be7c-ae8a88a6d943\" xlink:show=\"new\" xlink:title=\"psysml:ffb2e2dc-9c37-4787-be7c-ae8a88a6d943\" xlink:type=\"simple\"><polygon fill=\"#FFFFFF\" points=\"16,6,91,6,98,28.2969,206,28.2969,206,726,16,726,16,6\" style=\"stroke: #000000; stroke-width: 1.5;\"/><line style=\"stroke: #000000; stroke-width: 1.5;\" x1=\"16\" x2=\"98\" y1=\"28.2969\" y2=\"28.2969\"/><text fill=\"#000000\" font-family=\"sans-serif\" font-size=\"14\" font-weight=\"bold\" lengthAdjust=\"spacingAndGlyphs\" textLength=\"69\" x=\"20\" y=\"20.9951\">ItemTest</text></a><!--MD5=[b4997ac47864f28c2f74865a473b2911]\n",
       "class E2--><a href=\"psysml:cf4d7795-98ee-4d9f-9cbf-a98072608f6d\" target=\"_top\" title=\"psysml:cf4d7795-98ee-4d9f-9cbf-a98072608f6d\" xlink:actuate=\"onRequest\" xlink:href=\"psysml:cf4d7795-98ee-4d9f-9cbf-a98072608f6d\" xlink:show=\"new\" xlink:title=\"psysml:cf4d7795-98ee-4d9f-9cbf-a98072608f6d\" xlink:type=\"simple\"><rect fill=\"#FFFFFF\" height=\"45.9375\" id=\"E2\" rx=\"10\" ry=\"10\" style=\"stroke: #383838; stroke-width: 1.5;\" width=\"43\" x=\"133.5\" y=\"62\"/><text fill=\"#000000\" font-family=\"sans-serif\" font-size=\"12\" font-style=\"italic\" lengthAdjust=\"spacingAndGlyphs\" textLength=\"41\" x=\"134.5\" y=\"78.1387\">«item»</text><text fill=\"#000000\" font-family=\"sans-serif\" font-size=\"12\" lengthAdjust=\"spacingAndGlyphs\" textLength=\"20\" x=\"145\" y=\"92.1074\">f: A</text><line style=\"stroke: #383838; stroke-width: 1.5;\" x1=\"134.5\" x2=\"175.5\" y1=\"99.9375\" y2=\"99.9375\"/></a><!--MD5=[09b614a08d8cba4a07c9adeb5e0fee81]\n",
       "class E3--><a href=\"psysml:be14fc81-3f83-42fd-a525-71826c91787f\" target=\"_top\" title=\"psysml:be14fc81-3f83-42fd-a525-71826c91787f\" xlink:actuate=\"onRequest\" xlink:href=\"psysml:be14fc81-3f83-42fd-a525-71826c91787f\" xlink:show=\"new\" xlink:title=\"psysml:be14fc81-3f83-42fd-a525-71826c91787f\" xlink:type=\"simple\"><rect fill=\"#FFFFFF\" height=\"75.5469\" id=\"E3\" style=\"stroke: #383838; stroke-width: 1.5;\" width=\"67\" x=\"115.5\" y=\"190\"/><text fill=\"#000000\" font-family=\"sans-serif\" font-size=\"12\" font-style=\"italic\" lengthAdjust=\"spacingAndGlyphs\" textLength=\"65\" x=\"116.5\" y=\"206.1387\">«item def»</text><text fill=\"#000000\" font-family=\"sans-serif\" font-size=\"12\" lengthAdjust=\"spacingAndGlyphs\" textLength=\"8\" x=\"145\" y=\"220.1074\">A</text><line style=\"stroke: #383838; stroke-width: 1.5;\" x1=\"116.5\" x2=\"181.5\" y1=\"227.9375\" y2=\"227.9375\"/><text fill=\"#000000\" font-family=\"sans-serif\" font-size=\"11\" lengthAdjust=\"spacingAndGlyphs\" textLength=\"23\" x=\"121.5\" y=\"258.9526\">b: B</text><line style=\"stroke: #383838; stroke-width: 1.0;\" x1=\"116.5\" x2=\"133\" y1=\"242.3398\" y2=\"242.3398\"/><text fill=\"#000000\" font-family=\"sans-serif\" font-size=\"11\" lengthAdjust=\"spacingAndGlyphs\" textLength=\"32\" x=\"133\" y=\"245.6479\">items</text><line style=\"stroke: #383838; stroke-width: 1.0;\" x1=\"165\" x2=\"181.5\" y1=\"242.3398\" y2=\"242.3398\"/></a><!--MD5=[270fce915f116d4de14055a7c1d9a0f3]\n",
       "class E5--><a href=\"psysml:77af57f1-340c-421d-9a30-1a49108711b3\" target=\"_top\" title=\"psysml:77af57f1-340c-421d-9a30-1a49108711b3\" xlink:actuate=\"onRequest\" xlink:href=\"psysml:77af57f1-340c-421d-9a30-1a49108711b3\" xlink:show=\"new\" xlink:title=\"psysml:77af57f1-340c-421d-9a30-1a49108711b3\" xlink:type=\"simple\"><rect fill=\"#FFFFFF\" height=\"45.9375\" id=\"E5\" rx=\"10\" ry=\"10\" style=\"stroke: #383838; stroke-width: 1.5;\" width=\"42\" x=\"32\" y=\"327\"/><text fill=\"#000000\" font-family=\"sans-serif\" font-size=\"12\" font-style=\"italic\" lengthAdjust=\"spacingAndGlyphs\" textLength=\"40\" x=\"33\" y=\"343.1387\">«part»</text><text fill=\"#000000\" font-family=\"sans-serif\" font-size=\"12\" lengthAdjust=\"spacingAndGlyphs\" textLength=\"23\" x=\"41.5\" y=\"357.1074\">c: C</text><line style=\"stroke: #383838; stroke-width: 1.5;\" x1=\"33\" x2=\"73\" y1=\"364.9375\" y2=\"364.9375\"/></a><!--MD5=[60a26617385b1d2d0262a64233df1f8d]\n",
       "class E6--><a href=\"psysml:41f55b44-de87-42d8-a9cd-035ede31bd10\" target=\"_top\" title=\"psysml:41f55b44-de87-42d8-a9cd-035ede31bd10\" xlink:actuate=\"onRequest\" xlink:href=\"psysml:41f55b44-de87-42d8-a9cd-035ede31bd10\" xlink:show=\"new\" xlink:title=\"psysml:41f55b44-de87-42d8-a9cd-035ede31bd10\" xlink:type=\"simple\"><rect fill=\"#FFFFFF\" height=\"45.9375\" id=\"E6\" style=\"stroke: #383838; stroke-width: 1.5;\" width=\"67\" x=\"85.5\" y=\"557\"/><text fill=\"#000000\" font-family=\"sans-serif\" font-size=\"12\" font-style=\"italic\" lengthAdjust=\"spacingAndGlyphs\" textLength=\"65\" x=\"86.5\" y=\"573.1387\">«item def»</text><text fill=\"#000000\" font-family=\"sans-serif\" font-size=\"12\" lengthAdjust=\"spacingAndGlyphs\" textLength=\"8\" x=\"115\" y=\"587.1074\">B</text><line style=\"stroke: #383838; stroke-width: 1.5;\" x1=\"86.5\" x2=\"151.5\" y1=\"594.9375\" y2=\"594.9375\"/></a><!--MD5=[2156ba9850f5573cc1fc38a6a4b2f02b]\n",
       "class E7--><a href=\"psysml:4ca48e5a-78fa-40b6-ad88-229f08c03677\" target=\"_top\" title=\"psysml:4ca48e5a-78fa-40b6-ad88-229f08c03677\" xlink:actuate=\"onRequest\" xlink:href=\"psysml:4ca48e5a-78fa-40b6-ad88-229f08c03677\" xlink:show=\"new\" xlink:title=\"psysml:4ca48e5a-78fa-40b6-ad88-229f08c03677\" xlink:type=\"simple\"><rect fill=\"#FFFFFF\" height=\"45.9375\" id=\"E7\" rx=\"10\" ry=\"10\" style=\"stroke: #383838; stroke-width: 1.5;\" width=\"42\" x=\"123\" y=\"664\"/><text fill=\"#000000\" font-family=\"sans-serif\" font-size=\"12\" font-style=\"italic\" lengthAdjust=\"spacingAndGlyphs\" textLength=\"40\" x=\"124\" y=\"680.1387\">«part»</text><text fill=\"#000000\" font-family=\"sans-serif\" font-size=\"12\" lengthAdjust=\"spacingAndGlyphs\" textLength=\"24\" x=\"132\" y=\"694.1074\">a: A</text><line style=\"stroke: #383838; stroke-width: 1.5;\" x1=\"124\" x2=\"164\" y1=\"701.9375\" y2=\"701.9375\"/></a><!--MD5=[b9389687b975829384b498ac4b7476b2]\n",
       "class E8--><a href=\"psysml:e612b3f8-fad7-4b05-bdfc-52877d32f7f2\" target=\"_top\" title=\"psysml:e612b3f8-fad7-4b05-bdfc-52877d32f7f2\" xlink:actuate=\"onRequest\" xlink:href=\"psysml:e612b3f8-fad7-4b05-bdfc-52877d32f7f2\" xlink:show=\"new\" xlink:title=\"psysml:e612b3f8-fad7-4b05-bdfc-52877d32f7f2\" xlink:type=\"simple\"><rect fill=\"#FFFFFF\" height=\"45.9375\" id=\"E8\" style=\"stroke: #383838; stroke-width: 1.5;\" width=\"66\" x=\"86\" y=\"434\"/><text fill=\"#000000\" font-family=\"sans-serif\" font-size=\"12\" font-style=\"italic\" lengthAdjust=\"spacingAndGlyphs\" textLength=\"64\" x=\"87\" y=\"450.1387\">«part def»</text><text fill=\"#000000\" font-family=\"sans-serif\" font-size=\"12\" lengthAdjust=\"spacingAndGlyphs\" textLength=\"8\" x=\"115\" y=\"464.1074\">C</text><line style=\"stroke: #383838; stroke-width: 1.5;\" x1=\"87\" x2=\"151\" y1=\"471.9375\" y2=\"471.9375\"/></a><!--MD5=[fd4143e9d270a159db93a4ea2a975926]\n",
       "class E9--><a href=\"psysml:b51b1cf2-e677-402d-bf05-bb2fae798694\" target=\"_top\" title=\"psysml:b51b1cf2-e677-402d-bf05-bb2fae798694\" xlink:actuate=\"onRequest\" xlink:href=\"psysml:b51b1cf2-e677-402d-bf05-bb2fae798694\" xlink:show=\"new\" xlink:title=\"psysml:b51b1cf2-e677-402d-bf05-bb2fae798694\" xlink:type=\"simple\"><rect fill=\"#FFFFFF\" height=\"88.3516\" id=\"E9\" style=\"stroke: #383838; stroke-width: 1.5;\" width=\"66\" x=\"32\" y=\"41\"/><text fill=\"#000000\" font-family=\"sans-serif\" font-size=\"12\" font-style=\"italic\" lengthAdjust=\"spacingAndGlyphs\" textLength=\"64\" x=\"33\" y=\"57.1387\">«port def»</text><text fill=\"#000000\" font-family=\"sans-serif\" font-size=\"12\" lengthAdjust=\"spacingAndGlyphs\" textLength=\"8\" x=\"61\" y=\"71.1074\">P</text><line style=\"stroke: #383838; stroke-width: 1.5;\" x1=\"33\" x2=\"97\" y1=\"78.9375\" y2=\"78.9375\"/><text fill=\"#000000\" font-family=\"sans-serif\" font-size=\"11\" lengthAdjust=\"spacingAndGlyphs\" textLength=\"29\" x=\"38\" y=\"109.9526\">a1: A</text><text fill=\"#000000\" font-family=\"sans-serif\" font-size=\"11\" lengthAdjust=\"spacingAndGlyphs\" textLength=\"29\" x=\"38\" y=\"122.7573\">a2: A</text><line style=\"stroke: #383838; stroke-width: 1.0;\" x1=\"33\" x2=\"49\" y1=\"93.3398\" y2=\"93.3398\"/><text fill=\"#000000\" font-family=\"sans-serif\" font-size=\"11\" lengthAdjust=\"spacingAndGlyphs\" textLength=\"32\" x=\"49\" y=\"96.6479\">items</text><line style=\"stroke: #383838; stroke-width: 1.0;\" x1=\"81\" x2=\"97\" y1=\"93.3398\" y2=\"93.3398\"/></a><!--MD5=[2720a5a1f2c3fca2055b230370638851]\n",
       "link E2 to E3--><a href=\"psysml:5c778f2f-9d99-44f7-9cbe-495e6850b493\" target=\"_top\" title=\"psysml:5c778f2f-9d99-44f7-9cbe-495e6850b493\" xlink:actuate=\"onRequest\" xlink:href=\"psysml:5c778f2f-9d99-44f7-9cbe-495e6850b493\" xlink:show=\"new\" xlink:title=\"psysml:5c778f2f-9d99-44f7-9cbe-495e6850b493\" xlink:type=\"simple\"><path d=\"M155,108.29 C155,108.29 155,169.91 155,169.91 \" fill=\"none\" id=\"E2-&gt;E3\" style=\"stroke: #383838; stroke-width: 1.0;\"/><polygon fill=\"#FFFFFF\" points=\"155,189.91,148,170.91,162,170.91,155,189.91\" style=\"stroke: #383838; stroke-width: 1.0;\"/><ellipse cx=\"150\" cy=\"165.21\" fill=\"#383838\" rx=\"2\" ry=\"2\" style=\"stroke: #383838; stroke-width: 1.0;\"/><ellipse cx=\"160\" cy=\"165.21\" fill=\"#383838\" rx=\"2\" ry=\"2\" style=\"stroke: #383838; stroke-width: 1.0;\"/></a><!--MD5=[191cde3d490a3f6d7bb551fe3ddca469]\n",
       "reverse link E3 to E5--><a href=\"psysml:77af57f1-340c-421d-9a30-1a49108711b3\" target=\"_top\" title=\"psysml:77af57f1-340c-421d-9a30-1a49108711b3\" xlink:actuate=\"onRequest\" xlink:href=\"psysml:77af57f1-340c-421d-9a30-1a49108711b3\" xlink:show=\"new\" xlink:title=\"psysml:77af57f1-340c-421d-9a30-1a49108711b3\" xlink:type=\"simple\"><path d=\"M127.67,279.29 C127.67,279.29 127.67,343 127.67,343 C127.67,343 96.27,343 74.2,343 \" fill=\"none\" id=\"E3&lt;-E5\" style=\"stroke: #383838; stroke-width: 1.0;\"/><polygon fill=\"#FFFFFF\" points=\"127.67,266.29,123.67,272.29,127.67,278.29,131.67,272.29,127.67,266.29\" style=\"stroke: #383838; stroke-width: 1.0;\"/></a><!--MD5=[14ccda38c055a5c0da953d572bc50960]\n",
       "link E7 to E3--><a href=\"psysml:8bb447da-4a21-4000-9a04-f9f9c4ed48f1\" target=\"_top\" title=\"psysml:8bb447da-4a21-4000-9a04-f9f9c4ed48f1\" xlink:actuate=\"onRequest\" xlink:href=\"psysml:8bb447da-4a21-4000-9a04-f9f9c4ed48f1\" xlink:show=\"new\" xlink:title=\"psysml:8bb447da-4a21-4000-9a04-f9f9c4ed48f1\" xlink:type=\"simple\"><path d=\"M158.75,663.92 C158.75,663.92 158.75,286.15 158.75,286.15 \" fill=\"none\" id=\"E7-&gt;E3\" style=\"stroke: #383838; stroke-width: 1.0;\"/><polygon fill=\"#FFFFFF\" points=\"158.75,266.15,165.75,285.15,151.75,285.15,158.75,266.15\" style=\"stroke: #383838; stroke-width: 1.0;\"/><ellipse cx=\"163.75\" cy=\"290.85\" fill=\"#383838\" rx=\"2\" ry=\"2\" style=\"stroke: #383838; stroke-width: 1.0;\"/><ellipse cx=\"153.75\" cy=\"290.85\" fill=\"#383838\" rx=\"2\" ry=\"2\" style=\"stroke: #383838; stroke-width: 1.0;\"/></a><!--MD5=[3f50a3473f1dfb74d3f76443e03635af]\n",
       "reverse link E6 to E7--><a href=\"psysml:4ca48e5a-78fa-40b6-ad88-229f08c03677\" target=\"_top\" title=\"psysml:4ca48e5a-78fa-40b6-ad88-229f08c03677\" xlink:actuate=\"onRequest\" xlink:href=\"psysml:4ca48e5a-78fa-40b6-ad88-229f08c03677\" xlink:show=\"new\" xlink:title=\"psysml:4ca48e5a-78fa-40b6-ad88-229f08c03677\" xlink:type=\"simple\"><path d=\"M137.75,616.22 C137.75,616.22 137.75,663.83 137.75,663.83 \" fill=\"none\" id=\"E6&lt;-E7\" style=\"stroke: #383838; stroke-width: 1.0;\"/><polygon fill=\"#383838\" points=\"137.75,603.22,133.75,609.22,137.75,615.22,141.75,609.22,137.75,603.22\" style=\"stroke: #383838; stroke-width: 1.0;\"/></a><!--MD5=[dfaffb906826c3e5aca635516100ff21]\n",
       "link E5 to E8--><a href=\"psysml:6ff88c17-8c2d-42a4-af32-a2455d6f0acf\" target=\"_top\" title=\"psysml:6ff88c17-8c2d-42a4-af32-a2455d6f0acf\" xlink:actuate=\"onRequest\" xlink:href=\"psysml:6ff88c17-8c2d-42a4-af32-a2455d6f0acf\" xlink:show=\"new\" xlink:title=\"psysml:6ff88c17-8c2d-42a4-af32-a2455d6f0acf\" xlink:type=\"simple\"><path d=\"M74.33,358 C83.43,358 92,358 92,358 C92,358 92,413.79 92,413.79 \" fill=\"none\" id=\"E5-&gt;E8\" style=\"stroke: #383838; stroke-width: 1.0;\"/><polygon fill=\"#FFFFFF\" points=\"92,433.79,85,414.79,99,414.79,92,433.79\" style=\"stroke: #383838; stroke-width: 1.0;\"/><ellipse cx=\"87\" cy=\"409.09\" fill=\"#383838\" rx=\"2\" ry=\"2\" style=\"stroke: #383838; stroke-width: 1.0;\"/><ellipse cx=\"97\" cy=\"409.09\" fill=\"#383838\" rx=\"2\" ry=\"2\" style=\"stroke: #383838; stroke-width: 1.0;\"/></a><!--MD5=[03c8294790d3c57651a1993cecff665f]\n",
       "reverse link E8 to E3--><a href=\"psysml:83dfbdb9-73af-4dff-b5ad-52a21a738594\" target=\"_top\" title=\"psysml:83dfbdb9-73af-4dff-b5ad-52a21a738594\" xlink:actuate=\"onRequest\" xlink:href=\"psysml:83dfbdb9-73af-4dff-b5ad-52a21a738594\" xlink:show=\"new\" xlink:title=\"psysml:83dfbdb9-73af-4dff-b5ad-52a21a738594\" xlink:type=\"simple\"><path d=\"M139.83,420.78 C139.83,420.78 139.83,266.05 139.83,266.05 \" fill=\"none\" id=\"E8&lt;-E3\" style=\"stroke: #383838; stroke-width: 1.0;\"/><polygon fill=\"#FFFFFF\" points=\"139.83,433.78,143.83,427.78,139.83,421.78,135.83,427.78,139.83,433.78\" style=\"stroke: #383838; stroke-width: 1.0;\"/><text fill=\"#000000\" font-family=\"sans-serif\" font-size=\"13\" lengthAdjust=\"spacingAndGlyphs\" textLength=\"7\" x=\"145\" y=\"354.5669\">y</text></a><!--MD5=[0d75d2178373a6a4568e5dc728f58aef]\n",
       "reverse link E8 to E6--><a href=\"psysml:83dfbdb9-73af-4dff-b5ad-52a21a738594\" target=\"_top\" title=\"psysml:83dfbdb9-73af-4dff-b5ad-52a21a738594\" xlink:actuate=\"onRequest\" xlink:href=\"psysml:83dfbdb9-73af-4dff-b5ad-52a21a738594\" xlink:show=\"new\" xlink:title=\"psysml:83dfbdb9-73af-4dff-b5ad-52a21a738594\" xlink:type=\"simple\"><path d=\"M119,493.14 C119,493.14 119,556.97 119,556.97 \" fill=\"none\" id=\"E8&lt;-E6\" style=\"stroke: #383838; stroke-width: 1.0;\"/><polygon fill=\"#FFFFFF\" points=\"119,480.14,115,486.14,119,492.14,123,486.14,119,480.14\" style=\"stroke: #383838; stroke-width: 1.0;\"/><text fill=\"#000000\" font-family=\"sans-serif\" font-size=\"13\" lengthAdjust=\"spacingAndGlyphs\" textLength=\"7\" x=\"120\" y=\"523.0669\">y</text></a><!--MD5=[b96ef9e19b0cc2938ba6dc7caf4b66d5]\n",
       "@startuml\r\n",
       "skinparam linetype ortho\r\n",
       "skinparam monochrome true\r\n",
       "skinparam classbackgroundcolor white\r\n",
       "skinparam shadowing false\r\n",
       "skinparam wrapWidth 300\r\n",
       "hide circle\r\n",
       "\r\n",
       "package \"ItemTest\" as E1  [[psysml:ffb2e2dc-9c37-4787-be7c-ae8a88a6d943 ]]  {\r\n",
       "comp usage \"f: A\" as E2  <<(T,blue)item>> [[psysml:cf4d7795-98ee-4d9f-9cbf-a98072608f6d ]] {\r\n",
       "}\r\n",
       "comp def \"A\" as E3  <<(T,blue)item def>> [[psysml:be14fc81-3f83-42fd-a525-71826c91787f ]] {\r\n",
       "- - items - -\r\n",
       "b: B\r\n",
       "}\r\n",
       "comp usage \"c: C\" as E5  <<(T,blue)part>> [[psysml:77af57f1-340c-421d-9a30-1a49108711b3 ]] {\r\n",
       "}\r\n",
       "comp def \"B\" as E6  <<(T,blue)item def>> [[psysml:41f55b44-de87-42d8-a9cd-035ede31bd10 ]] {\r\n",
       "}\r\n",
       "comp usage \"a: A\" as E7  <<(T,blue)part>> [[psysml:4ca48e5a-78fa-40b6-ad88-229f08c03677 ]] {\r\n",
       "}\r\n",
       "comp def \"C\" as E8  <<(T,blue)part def>> [[psysml:e612b3f8-fad7-4b05-bdfc-52877d32f7f2 ]] {\r\n",
       "}\r\n",
       "comp def \"P\" as E9  <<(T,blue)port def>> [[psysml:b51b1cf2-e677-402d-bf05-bb2fae798694 ]] {\r\n",
       "- - items - -\r\n",
       "a1: A\r\n",
       "a2: A\r\n",
       "}\r\n",
       "E2 - -:|> E3 [[psysml:5c778f2f-9d99-44f7-9cbe-495e6850b493 ]] \r\n",
       "E3 o- - E5 [[psysml:77af57f1-340c-421d-9a30-1a49108711b3 ]] \r\n",
       "E7 - -:|> E3 [[psysml:8bb447da-4a21-4000-9a04-f9f9c4ed48f1 ]] \r\n",
       "E6 *- - E7 [[psysml:4ca48e5a-78fa-40b6-ad88-229f08c03677 ]] \r\n",
       "E5 - -:|> E8 [[psysml:6ff88c17-8c2d-42a4-af32-a2455d6f0acf ]] \r\n",
       "E8 o- - E3 [[psysml:83dfbdb9-73af-4dff-b5ad-52a21a738594 ]] : y\r\n",
       "E8 o- - E6 [[psysml:83dfbdb9-73af-4dff-b5ad-52a21a738594 ]] : y\r\n",
       "}\r\n",
       "@enduml\r\n",
       "\n",
       "PlantUML version 1.2020.13(Sat Jun 13 12:26:38 UTC 2020)\n",
       "(EPL source distribution)\n",
       "Java Runtime: OpenJDK Runtime Environment\n",
       "JVM: OpenJDK 64-Bit Server VM\n",
       "Default Encoding: UTF-8\n",
       "Language: en\n",
       "Country: null\n",
       "--></g></svg>"
      ]
     },
     "execution_count": 51,
     "metadata": {},
     "output_type": "execute_result"
    }
   ],
   "source": [
    "%viz --style=\"ORTHOLINE\" --view=\"Default\" \"ItemTest\""
   ]
  },
  {
   "cell_type": "code",
   "execution_count": 52,
   "id": "precious-cassette",
   "metadata": {
    "execution": {
     "iopub.execute_input": "2021-03-25T15:10:29.496297Z",
     "iopub.status.busy": "2021-03-25T15:10:29.495683Z",
     "iopub.status.idle": "2021-03-25T15:10:29.783872Z",
     "shell.execute_reply": "2021-03-25T15:10:29.782176Z"
    }
   },
   "outputs": [
    {
     "data": {
      "image/svg+xml": [
       "<?xml version=\"1.0\" encoding=\"UTF-8\" standalone=\"no\"?><svg xmlns=\"http://www.w3.org/2000/svg\" xmlns:xlink=\"http://www.w3.org/1999/xlink\" contentScriptType=\"application/ecmascript\" contentStyleType=\"text/css\" height=\"738px\" preserveAspectRatio=\"none\" style=\"width:228px;height:738px;\" version=\"1.1\" viewBox=\"0 0 228 738\" width=\"228px\" zoomAndPan=\"magnify\"><defs/><g><!--MD5=[fbc87193dbaf4d95561dea2c320d4a47]\n",
       "cluster E1--><a href=\"psysml:ffb2e2dc-9c37-4787-be7c-ae8a88a6d943\" target=\"_top\" title=\"psysml:ffb2e2dc-9c37-4787-be7c-ae8a88a6d943\" xlink:actuate=\"onRequest\" xlink:href=\"psysml:ffb2e2dc-9c37-4787-be7c-ae8a88a6d943\" xlink:show=\"new\" xlink:title=\"psysml:ffb2e2dc-9c37-4787-be7c-ae8a88a6d943\" xlink:type=\"simple\"><polygon fill=\"#FFFFFF\" points=\"16,6,91,6,98,28.2969,206,28.2969,206,726,16,726,16,6\" style=\"stroke: #000000; stroke-width: 1.5;\"/><line style=\"stroke: #000000; stroke-width: 1.5;\" x1=\"16\" x2=\"98\" y1=\"28.2969\" y2=\"28.2969\"/><text fill=\"#000000\" font-family=\"sans-serif\" font-size=\"14\" font-weight=\"bold\" lengthAdjust=\"spacingAndGlyphs\" textLength=\"69\" x=\"20\" y=\"20.9951\">ItemTest</text></a><!--MD5=[b4997ac47864f28c2f74865a473b2911]\n",
       "class E2--><a href=\"psysml:cf4d7795-98ee-4d9f-9cbf-a98072608f6d\" target=\"_top\" title=\"psysml:cf4d7795-98ee-4d9f-9cbf-a98072608f6d\" xlink:actuate=\"onRequest\" xlink:href=\"psysml:cf4d7795-98ee-4d9f-9cbf-a98072608f6d\" xlink:show=\"new\" xlink:title=\"psysml:cf4d7795-98ee-4d9f-9cbf-a98072608f6d\" xlink:type=\"simple\"><rect fill=\"#FFFFFF\" height=\"45.9375\" id=\"E2\" rx=\"10\" ry=\"10\" style=\"stroke: #383838; stroke-width: 1.5;\" width=\"43\" x=\"133.5\" y=\"62\"/><text fill=\"#000000\" font-family=\"sans-serif\" font-size=\"12\" font-style=\"italic\" lengthAdjust=\"spacingAndGlyphs\" textLength=\"41\" x=\"134.5\" y=\"78.1387\">«item»</text><text fill=\"#000000\" font-family=\"sans-serif\" font-size=\"12\" lengthAdjust=\"spacingAndGlyphs\" textLength=\"20\" x=\"145\" y=\"92.1074\">f: A</text><line style=\"stroke: #383838; stroke-width: 1.5;\" x1=\"134.5\" x2=\"175.5\" y1=\"99.9375\" y2=\"99.9375\"/></a><!--MD5=[09b614a08d8cba4a07c9adeb5e0fee81]\n",
       "class E3--><a href=\"psysml:be14fc81-3f83-42fd-a525-71826c91787f\" target=\"_top\" title=\"psysml:be14fc81-3f83-42fd-a525-71826c91787f\" xlink:actuate=\"onRequest\" xlink:href=\"psysml:be14fc81-3f83-42fd-a525-71826c91787f\" xlink:show=\"new\" xlink:title=\"psysml:be14fc81-3f83-42fd-a525-71826c91787f\" xlink:type=\"simple\"><rect fill=\"#FFFFFF\" height=\"75.5469\" id=\"E3\" style=\"stroke: #383838; stroke-width: 1.5;\" width=\"67\" x=\"115.5\" y=\"190\"/><text fill=\"#000000\" font-family=\"sans-serif\" font-size=\"12\" font-style=\"italic\" lengthAdjust=\"spacingAndGlyphs\" textLength=\"65\" x=\"116.5\" y=\"206.1387\">«item def»</text><text fill=\"#000000\" font-family=\"sans-serif\" font-size=\"12\" lengthAdjust=\"spacingAndGlyphs\" textLength=\"8\" x=\"145\" y=\"220.1074\">A</text><line style=\"stroke: #383838; stroke-width: 1.5;\" x1=\"116.5\" x2=\"181.5\" y1=\"227.9375\" y2=\"227.9375\"/><text fill=\"#000000\" font-family=\"sans-serif\" font-size=\"11\" lengthAdjust=\"spacingAndGlyphs\" textLength=\"23\" x=\"121.5\" y=\"258.9526\">b: B</text><line style=\"stroke: #383838; stroke-width: 1.0;\" x1=\"116.5\" x2=\"133\" y1=\"242.3398\" y2=\"242.3398\"/><text fill=\"#000000\" font-family=\"sans-serif\" font-size=\"11\" lengthAdjust=\"spacingAndGlyphs\" textLength=\"32\" x=\"133\" y=\"245.6479\">items</text><line style=\"stroke: #383838; stroke-width: 1.0;\" x1=\"165\" x2=\"181.5\" y1=\"242.3398\" y2=\"242.3398\"/></a><!--MD5=[270fce915f116d4de14055a7c1d9a0f3]\n",
       "class E5--><a href=\"psysml:77af57f1-340c-421d-9a30-1a49108711b3\" target=\"_top\" title=\"psysml:77af57f1-340c-421d-9a30-1a49108711b3\" xlink:actuate=\"onRequest\" xlink:href=\"psysml:77af57f1-340c-421d-9a30-1a49108711b3\" xlink:show=\"new\" xlink:title=\"psysml:77af57f1-340c-421d-9a30-1a49108711b3\" xlink:type=\"simple\"><rect fill=\"#FFFFFF\" height=\"45.9375\" id=\"E5\" rx=\"10\" ry=\"10\" style=\"stroke: #383838; stroke-width: 1.5;\" width=\"42\" x=\"32\" y=\"327\"/><text fill=\"#000000\" font-family=\"sans-serif\" font-size=\"12\" font-style=\"italic\" lengthAdjust=\"spacingAndGlyphs\" textLength=\"40\" x=\"33\" y=\"343.1387\">«part»</text><text fill=\"#000000\" font-family=\"sans-serif\" font-size=\"12\" lengthAdjust=\"spacingAndGlyphs\" textLength=\"23\" x=\"41.5\" y=\"357.1074\">c: C</text><line style=\"stroke: #383838; stroke-width: 1.5;\" x1=\"33\" x2=\"73\" y1=\"364.9375\" y2=\"364.9375\"/></a><!--MD5=[60a26617385b1d2d0262a64233df1f8d]\n",
       "class E6--><a href=\"psysml:41f55b44-de87-42d8-a9cd-035ede31bd10\" target=\"_top\" title=\"psysml:41f55b44-de87-42d8-a9cd-035ede31bd10\" xlink:actuate=\"onRequest\" xlink:href=\"psysml:41f55b44-de87-42d8-a9cd-035ede31bd10\" xlink:show=\"new\" xlink:title=\"psysml:41f55b44-de87-42d8-a9cd-035ede31bd10\" xlink:type=\"simple\"><rect fill=\"#FFFFFF\" height=\"45.9375\" id=\"E6\" style=\"stroke: #383838; stroke-width: 1.5;\" width=\"67\" x=\"85.5\" y=\"557\"/><text fill=\"#000000\" font-family=\"sans-serif\" font-size=\"12\" font-style=\"italic\" lengthAdjust=\"spacingAndGlyphs\" textLength=\"65\" x=\"86.5\" y=\"573.1387\">«item def»</text><text fill=\"#000000\" font-family=\"sans-serif\" font-size=\"12\" lengthAdjust=\"spacingAndGlyphs\" textLength=\"8\" x=\"115\" y=\"587.1074\">B</text><line style=\"stroke: #383838; stroke-width: 1.5;\" x1=\"86.5\" x2=\"151.5\" y1=\"594.9375\" y2=\"594.9375\"/></a><!--MD5=[2156ba9850f5573cc1fc38a6a4b2f02b]\n",
       "class E7--><a href=\"psysml:4ca48e5a-78fa-40b6-ad88-229f08c03677\" target=\"_top\" title=\"psysml:4ca48e5a-78fa-40b6-ad88-229f08c03677\" xlink:actuate=\"onRequest\" xlink:href=\"psysml:4ca48e5a-78fa-40b6-ad88-229f08c03677\" xlink:show=\"new\" xlink:title=\"psysml:4ca48e5a-78fa-40b6-ad88-229f08c03677\" xlink:type=\"simple\"><rect fill=\"#FFFFFF\" height=\"45.9375\" id=\"E7\" rx=\"10\" ry=\"10\" style=\"stroke: #383838; stroke-width: 1.5;\" width=\"42\" x=\"123\" y=\"664\"/><text fill=\"#000000\" font-family=\"sans-serif\" font-size=\"12\" font-style=\"italic\" lengthAdjust=\"spacingAndGlyphs\" textLength=\"40\" x=\"124\" y=\"680.1387\">«part»</text><text fill=\"#000000\" font-family=\"sans-serif\" font-size=\"12\" lengthAdjust=\"spacingAndGlyphs\" textLength=\"24\" x=\"132\" y=\"694.1074\">a: A</text><line style=\"stroke: #383838; stroke-width: 1.5;\" x1=\"124\" x2=\"164\" y1=\"701.9375\" y2=\"701.9375\"/></a><!--MD5=[b9389687b975829384b498ac4b7476b2]\n",
       "class E8--><a href=\"psysml:e612b3f8-fad7-4b05-bdfc-52877d32f7f2\" target=\"_top\" title=\"psysml:e612b3f8-fad7-4b05-bdfc-52877d32f7f2\" xlink:actuate=\"onRequest\" xlink:href=\"psysml:e612b3f8-fad7-4b05-bdfc-52877d32f7f2\" xlink:show=\"new\" xlink:title=\"psysml:e612b3f8-fad7-4b05-bdfc-52877d32f7f2\" xlink:type=\"simple\"><rect fill=\"#FFFFFF\" height=\"45.9375\" id=\"E8\" style=\"stroke: #383838; stroke-width: 1.5;\" width=\"66\" x=\"86\" y=\"434\"/><text fill=\"#000000\" font-family=\"sans-serif\" font-size=\"12\" font-style=\"italic\" lengthAdjust=\"spacingAndGlyphs\" textLength=\"64\" x=\"87\" y=\"450.1387\">«part def»</text><text fill=\"#000000\" font-family=\"sans-serif\" font-size=\"12\" lengthAdjust=\"spacingAndGlyphs\" textLength=\"8\" x=\"115\" y=\"464.1074\">C</text><line style=\"stroke: #383838; stroke-width: 1.5;\" x1=\"87\" x2=\"151\" y1=\"471.9375\" y2=\"471.9375\"/></a><!--MD5=[fd4143e9d270a159db93a4ea2a975926]\n",
       "class E9--><a href=\"psysml:b51b1cf2-e677-402d-bf05-bb2fae798694\" target=\"_top\" title=\"psysml:b51b1cf2-e677-402d-bf05-bb2fae798694\" xlink:actuate=\"onRequest\" xlink:href=\"psysml:b51b1cf2-e677-402d-bf05-bb2fae798694\" xlink:show=\"new\" xlink:title=\"psysml:b51b1cf2-e677-402d-bf05-bb2fae798694\" xlink:type=\"simple\"><rect fill=\"#FFFFFF\" height=\"88.3516\" id=\"E9\" style=\"stroke: #383838; stroke-width: 1.5;\" width=\"66\" x=\"32\" y=\"41\"/><text fill=\"#000000\" font-family=\"sans-serif\" font-size=\"12\" font-style=\"italic\" lengthAdjust=\"spacingAndGlyphs\" textLength=\"64\" x=\"33\" y=\"57.1387\">«port def»</text><text fill=\"#000000\" font-family=\"sans-serif\" font-size=\"12\" lengthAdjust=\"spacingAndGlyphs\" textLength=\"8\" x=\"61\" y=\"71.1074\">P</text><line style=\"stroke: #383838; stroke-width: 1.5;\" x1=\"33\" x2=\"97\" y1=\"78.9375\" y2=\"78.9375\"/><text fill=\"#000000\" font-family=\"sans-serif\" font-size=\"11\" lengthAdjust=\"spacingAndGlyphs\" textLength=\"29\" x=\"38\" y=\"109.9526\">a1: A</text><text fill=\"#000000\" font-family=\"sans-serif\" font-size=\"11\" lengthAdjust=\"spacingAndGlyphs\" textLength=\"29\" x=\"38\" y=\"122.7573\">a2: A</text><line style=\"stroke: #383838; stroke-width: 1.0;\" x1=\"33\" x2=\"49\" y1=\"93.3398\" y2=\"93.3398\"/><text fill=\"#000000\" font-family=\"sans-serif\" font-size=\"11\" lengthAdjust=\"spacingAndGlyphs\" textLength=\"32\" x=\"49\" y=\"96.6479\">items</text><line style=\"stroke: #383838; stroke-width: 1.0;\" x1=\"81\" x2=\"97\" y1=\"93.3398\" y2=\"93.3398\"/></a><!--MD5=[2720a5a1f2c3fca2055b230370638851]\n",
       "link E2 to E3--><a href=\"psysml:5c778f2f-9d99-44f7-9cbe-495e6850b493\" target=\"_top\" title=\"psysml:5c778f2f-9d99-44f7-9cbe-495e6850b493\" xlink:actuate=\"onRequest\" xlink:href=\"psysml:5c778f2f-9d99-44f7-9cbe-495e6850b493\" xlink:show=\"new\" xlink:title=\"psysml:5c778f2f-9d99-44f7-9cbe-495e6850b493\" xlink:type=\"simple\"><path d=\"M155,108.29 C155,108.29 155,169.91 155,169.91 \" fill=\"none\" id=\"E2-&gt;E3\" style=\"stroke: #383838; stroke-width: 1.0;\"/><polygon fill=\"#FFFFFF\" points=\"155,189.91,148,170.91,162,170.91,155,189.91\" style=\"stroke: #383838; stroke-width: 1.0;\"/><ellipse cx=\"150\" cy=\"165.21\" fill=\"#383838\" rx=\"2\" ry=\"2\" style=\"stroke: #383838; stroke-width: 1.0;\"/><ellipse cx=\"160\" cy=\"165.21\" fill=\"#383838\" rx=\"2\" ry=\"2\" style=\"stroke: #383838; stroke-width: 1.0;\"/></a><!--MD5=[191cde3d490a3f6d7bb551fe3ddca469]\n",
       "reverse link E3 to E5--><a href=\"psysml:77af57f1-340c-421d-9a30-1a49108711b3\" target=\"_top\" title=\"psysml:77af57f1-340c-421d-9a30-1a49108711b3\" xlink:actuate=\"onRequest\" xlink:href=\"psysml:77af57f1-340c-421d-9a30-1a49108711b3\" xlink:show=\"new\" xlink:title=\"psysml:77af57f1-340c-421d-9a30-1a49108711b3\" xlink:type=\"simple\"><path d=\"M127.67,279.29 C127.67,279.29 127.67,343 127.67,343 C127.67,343 96.27,343 74.2,343 \" fill=\"none\" id=\"E3&lt;-E5\" style=\"stroke: #383838; stroke-width: 1.0;\"/><polygon fill=\"#FFFFFF\" points=\"127.67,266.29,123.67,272.29,127.67,278.29,131.67,272.29,127.67,266.29\" style=\"stroke: #383838; stroke-width: 1.0;\"/></a><!--MD5=[14ccda38c055a5c0da953d572bc50960]\n",
       "link E7 to E3--><a href=\"psysml:8bb447da-4a21-4000-9a04-f9f9c4ed48f1\" target=\"_top\" title=\"psysml:8bb447da-4a21-4000-9a04-f9f9c4ed48f1\" xlink:actuate=\"onRequest\" xlink:href=\"psysml:8bb447da-4a21-4000-9a04-f9f9c4ed48f1\" xlink:show=\"new\" xlink:title=\"psysml:8bb447da-4a21-4000-9a04-f9f9c4ed48f1\" xlink:type=\"simple\"><path d=\"M158.75,663.92 C158.75,663.92 158.75,286.15 158.75,286.15 \" fill=\"none\" id=\"E7-&gt;E3\" style=\"stroke: #383838; stroke-width: 1.0;\"/><polygon fill=\"#FFFFFF\" points=\"158.75,266.15,165.75,285.15,151.75,285.15,158.75,266.15\" style=\"stroke: #383838; stroke-width: 1.0;\"/><ellipse cx=\"163.75\" cy=\"290.85\" fill=\"#383838\" rx=\"2\" ry=\"2\" style=\"stroke: #383838; stroke-width: 1.0;\"/><ellipse cx=\"153.75\" cy=\"290.85\" fill=\"#383838\" rx=\"2\" ry=\"2\" style=\"stroke: #383838; stroke-width: 1.0;\"/></a><!--MD5=[3f50a3473f1dfb74d3f76443e03635af]\n",
       "reverse link E6 to E7--><a href=\"psysml:4ca48e5a-78fa-40b6-ad88-229f08c03677\" target=\"_top\" title=\"psysml:4ca48e5a-78fa-40b6-ad88-229f08c03677\" xlink:actuate=\"onRequest\" xlink:href=\"psysml:4ca48e5a-78fa-40b6-ad88-229f08c03677\" xlink:show=\"new\" xlink:title=\"psysml:4ca48e5a-78fa-40b6-ad88-229f08c03677\" xlink:type=\"simple\"><path d=\"M137.75,616.22 C137.75,616.22 137.75,663.83 137.75,663.83 \" fill=\"none\" id=\"E6&lt;-E7\" style=\"stroke: #383838; stroke-width: 1.0;\"/><polygon fill=\"#383838\" points=\"137.75,603.22,133.75,609.22,137.75,615.22,141.75,609.22,137.75,603.22\" style=\"stroke: #383838; stroke-width: 1.0;\"/></a><!--MD5=[dfaffb906826c3e5aca635516100ff21]\n",
       "link E5 to E8--><a href=\"psysml:6ff88c17-8c2d-42a4-af32-a2455d6f0acf\" target=\"_top\" title=\"psysml:6ff88c17-8c2d-42a4-af32-a2455d6f0acf\" xlink:actuate=\"onRequest\" xlink:href=\"psysml:6ff88c17-8c2d-42a4-af32-a2455d6f0acf\" xlink:show=\"new\" xlink:title=\"psysml:6ff88c17-8c2d-42a4-af32-a2455d6f0acf\" xlink:type=\"simple\"><path d=\"M74.33,358 C83.43,358 92,358 92,358 C92,358 92,413.79 92,413.79 \" fill=\"none\" id=\"E5-&gt;E8\" style=\"stroke: #383838; stroke-width: 1.0;\"/><polygon fill=\"#FFFFFF\" points=\"92,433.79,85,414.79,99,414.79,92,433.79\" style=\"stroke: #383838; stroke-width: 1.0;\"/><ellipse cx=\"87\" cy=\"409.09\" fill=\"#383838\" rx=\"2\" ry=\"2\" style=\"stroke: #383838; stroke-width: 1.0;\"/><ellipse cx=\"97\" cy=\"409.09\" fill=\"#383838\" rx=\"2\" ry=\"2\" style=\"stroke: #383838; stroke-width: 1.0;\"/></a><!--MD5=[03c8294790d3c57651a1993cecff665f]\n",
       "reverse link E8 to E3--><a href=\"psysml:83dfbdb9-73af-4dff-b5ad-52a21a738594\" target=\"_top\" title=\"psysml:83dfbdb9-73af-4dff-b5ad-52a21a738594\" xlink:actuate=\"onRequest\" xlink:href=\"psysml:83dfbdb9-73af-4dff-b5ad-52a21a738594\" xlink:show=\"new\" xlink:title=\"psysml:83dfbdb9-73af-4dff-b5ad-52a21a738594\" xlink:type=\"simple\"><path d=\"M139.83,420.78 C139.83,420.78 139.83,266.05 139.83,266.05 \" fill=\"none\" id=\"E8&lt;-E3\" style=\"stroke: #383838; stroke-width: 1.0;\"/><polygon fill=\"#FFFFFF\" points=\"139.83,433.78,143.83,427.78,139.83,421.78,135.83,427.78,139.83,433.78\" style=\"stroke: #383838; stroke-width: 1.0;\"/><text fill=\"#000000\" font-family=\"sans-serif\" font-size=\"13\" lengthAdjust=\"spacingAndGlyphs\" textLength=\"7\" x=\"145\" y=\"354.5669\">y</text></a><!--MD5=[0d75d2178373a6a4568e5dc728f58aef]\n",
       "reverse link E8 to E6--><a href=\"psysml:83dfbdb9-73af-4dff-b5ad-52a21a738594\" target=\"_top\" title=\"psysml:83dfbdb9-73af-4dff-b5ad-52a21a738594\" xlink:actuate=\"onRequest\" xlink:href=\"psysml:83dfbdb9-73af-4dff-b5ad-52a21a738594\" xlink:show=\"new\" xlink:title=\"psysml:83dfbdb9-73af-4dff-b5ad-52a21a738594\" xlink:type=\"simple\"><path d=\"M119,493.14 C119,493.14 119,556.97 119,556.97 \" fill=\"none\" id=\"E8&lt;-E6\" style=\"stroke: #383838; stroke-width: 1.0;\"/><polygon fill=\"#FFFFFF\" points=\"119,480.14,115,486.14,119,492.14,123,486.14,119,480.14\" style=\"stroke: #383838; stroke-width: 1.0;\"/><text fill=\"#000000\" font-family=\"sans-serif\" font-size=\"13\" lengthAdjust=\"spacingAndGlyphs\" textLength=\"7\" x=\"120\" y=\"523.0669\">y</text></a><!--MD5=[b96ef9e19b0cc2938ba6dc7caf4b66d5]\n",
       "@startuml\r\n",
       "skinparam linetype ortho\r\n",
       "skinparam monochrome true\r\n",
       "skinparam classbackgroundcolor white\r\n",
       "skinparam shadowing false\r\n",
       "skinparam wrapWidth 300\r\n",
       "hide circle\r\n",
       "\r\n",
       "package \"ItemTest\" as E1  [[psysml:ffb2e2dc-9c37-4787-be7c-ae8a88a6d943 ]]  {\r\n",
       "comp usage \"f: A\" as E2  <<(T,blue)item>> [[psysml:cf4d7795-98ee-4d9f-9cbf-a98072608f6d ]] {\r\n",
       "}\r\n",
       "comp def \"A\" as E3  <<(T,blue)item def>> [[psysml:be14fc81-3f83-42fd-a525-71826c91787f ]] {\r\n",
       "- - items - -\r\n",
       "b: B\r\n",
       "}\r\n",
       "comp usage \"c: C\" as E5  <<(T,blue)part>> [[psysml:77af57f1-340c-421d-9a30-1a49108711b3 ]] {\r\n",
       "}\r\n",
       "comp def \"B\" as E6  <<(T,blue)item def>> [[psysml:41f55b44-de87-42d8-a9cd-035ede31bd10 ]] {\r\n",
       "}\r\n",
       "comp usage \"a: A\" as E7  <<(T,blue)part>> [[psysml:4ca48e5a-78fa-40b6-ad88-229f08c03677 ]] {\r\n",
       "}\r\n",
       "comp def \"C\" as E8  <<(T,blue)part def>> [[psysml:e612b3f8-fad7-4b05-bdfc-52877d32f7f2 ]] {\r\n",
       "}\r\n",
       "comp def \"P\" as E9  <<(T,blue)port def>> [[psysml:b51b1cf2-e677-402d-bf05-bb2fae798694 ]] {\r\n",
       "- - items - -\r\n",
       "a1: A\r\n",
       "a2: A\r\n",
       "}\r\n",
       "E2 - -:|> E3 [[psysml:5c778f2f-9d99-44f7-9cbe-495e6850b493 ]] \r\n",
       "E3 o- - E5 [[psysml:77af57f1-340c-421d-9a30-1a49108711b3 ]] \r\n",
       "E7 - -:|> E3 [[psysml:8bb447da-4a21-4000-9a04-f9f9c4ed48f1 ]] \r\n",
       "E6 *- - E7 [[psysml:4ca48e5a-78fa-40b6-ad88-229f08c03677 ]] \r\n",
       "E5 - -:|> E8 [[psysml:6ff88c17-8c2d-42a4-af32-a2455d6f0acf ]] \r\n",
       "E8 o- - E3 [[psysml:83dfbdb9-73af-4dff-b5ad-52a21a738594 ]] : y\r\n",
       "E8 o- - E6 [[psysml:83dfbdb9-73af-4dff-b5ad-52a21a738594 ]] : y\r\n",
       "}\r\n",
       "@enduml\r\n",
       "\n",
       "PlantUML version 1.2020.13(Sat Jun 13 12:26:38 UTC 2020)\n",
       "(EPL source distribution)\n",
       "Java Runtime: OpenJDK Runtime Environment\n",
       "JVM: OpenJDK 64-Bit Server VM\n",
       "Default Encoding: UTF-8\n",
       "Language: en\n",
       "Country: null\n",
       "--></g></svg>"
      ]
     },
     "execution_count": 52,
     "metadata": {},
     "output_type": "execute_result"
    }
   ],
   "source": [
    "%viz --style=\"ORTHOLINE\" --view=\"Tree\" \"ItemTest\""
   ]
  },
  {
   "cell_type": "code",
   "execution_count": 53,
   "id": "ambient-service",
   "metadata": {
    "execution": {
     "iopub.execute_input": "2021-03-25T15:10:29.834974Z",
     "iopub.status.busy": "2021-03-25T15:10:29.833890Z",
     "iopub.status.idle": "2021-03-25T15:10:29.842470Z",
     "shell.execute_reply": "2021-03-25T15:10:29.841995Z"
    }
   },
   "outputs": [
    {
     "data": {
      "image/svg+xml": [
       "<?xml version=\"1.0\" encoding=\"UTF-8\" standalone=\"no\"?><svg xmlns=\"http://www.w3.org/2000/svg\" xmlns:xlink=\"http://www.w3.org/1999/xlink\" contentScriptType=\"application/ecmascript\" contentStyleType=\"text/css\" height=\"12px\" preserveAspectRatio=\"none\" style=\"width:12px;height:12px;\" version=\"1.1\" viewBox=\"0 0 12 12\" width=\"12px\" zoomAndPan=\"magnify\"><defs/><g><!--MD5=[97d6f38768b311333d388e66b2b27985]\n",
       "@startuml\r\n",
       "skinparam linetype ortho\r\n",
       "skinparam monochrome true\r\n",
       "skinparam classbackgroundcolor white\r\n",
       "skinparam shadowing false\r\n",
       "skinparam wrapWidth 300\r\n",
       "hide circle\r\n",
       "\r\n",
       "@enduml\r\n",
       "\n",
       "PlantUML version 1.2020.13(Sat Jun 13 12:26:38 UTC 2020)\n",
       "(EPL source distribution)\n",
       "Java Runtime: OpenJDK Runtime Environment\n",
       "JVM: OpenJDK 64-Bit Server VM\n",
       "Default Encoding: UTF-8\n",
       "Language: en\n",
       "Country: null\n",
       "--></g></svg>"
      ]
     },
     "execution_count": 53,
     "metadata": {},
     "output_type": "execute_result"
    }
   ],
   "source": [
    "%viz --style=\"ORTHOLINE\" --view=\"State\" \"ItemTest\""
   ]
  },
  {
   "cell_type": "code",
   "execution_count": 54,
   "id": "entitled-objective",
   "metadata": {
    "execution": {
     "iopub.execute_input": "2021-03-25T15:10:29.893596Z",
     "iopub.status.busy": "2021-03-25T15:10:29.893111Z",
     "iopub.status.idle": "2021-03-25T15:10:29.994608Z",
     "shell.execute_reply": "2021-03-25T15:10:29.992992Z"
    }
   },
   "outputs": [
    {
     "data": {
      "image/svg+xml": [
       "<?xml version=\"1.0\" encoding=\"UTF-8\" standalone=\"no\"?><svg xmlns=\"http://www.w3.org/2000/svg\" xmlns:xlink=\"http://www.w3.org/1999/xlink\" contentScriptType=\"application/ecmascript\" contentStyleType=\"text/css\" height=\"195px\" preserveAspectRatio=\"none\" style=\"width:711px;height:195px;\" version=\"1.1\" viewBox=\"0 0 711 195\" width=\"711px\" zoomAndPan=\"magnify\"><defs/><g><!--MD5=[fbc87193dbaf4d95561dea2c320d4a47]\n",
       "cluster E1--><a href=\"psysml:ffb2e2dc-9c37-4787-be7c-ae8a88a6d943\" target=\"_top\" title=\"psysml:ffb2e2dc-9c37-4787-be7c-ae8a88a6d943\" xlink:actuate=\"onRequest\" xlink:href=\"psysml:ffb2e2dc-9c37-4787-be7c-ae8a88a6d943\" xlink:show=\"new\" xlink:title=\"psysml:ffb2e2dc-9c37-4787-be7c-ae8a88a6d943\" xlink:type=\"simple\"><polygon fill=\"#FFFFFF\" points=\"16,6,91,6,98,28.2969,689,28.2969,689,183,16,183,16,6\" style=\"stroke: #000000; stroke-width: 1.5;\"/><line style=\"stroke: #000000; stroke-width: 1.5;\" x1=\"16\" x2=\"98\" y1=\"28.2969\" y2=\"28.2969\"/><text fill=\"#000000\" font-family=\"sans-serif\" font-size=\"14\" font-weight=\"bold\" lengthAdjust=\"spacingAndGlyphs\" textLength=\"69\" x=\"20\" y=\"20.9951\">ItemTest</text></a><!--MD5=[de5ec2e2e8f62f467e546659f5068c88]\n",
       "cluster E5--><a href=\"psysml:e612b3f8-fad7-4b05-bdfc-52877d32f7f2\" target=\"_top\" title=\"psysml:e612b3f8-fad7-4b05-bdfc-52877d32f7f2\" xlink:actuate=\"onRequest\" xlink:href=\"psysml:e612b3f8-fad7-4b05-bdfc-52877d32f7f2\" xlink:show=\"new\" xlink:title=\"psysml:e612b3f8-fad7-4b05-bdfc-52877d32f7f2\" xlink:type=\"simple\"><rect fill=\"#FFFFFF\" height=\"110\" id=\"E5\" style=\"stroke: #383838; stroke-width: 1.5;\" width=\"114\" x=\"551\" y=\"49\"/><rect fill=\"#F8F8F8\" height=\"37.9375\" style=\"stroke: #383838; stroke-width: 1.5;\" width=\"114\" x=\"551\" y=\"49\"/><text fill=\"#000000\" font-family=\"sans-serif\" font-size=\"12\" font-style=\"italic\" lengthAdjust=\"spacingAndGlyphs\" textLength=\"64\" x=\"576\" y=\"65.1387\">«part def»</text><text fill=\"#000000\" font-family=\"sans-serif\" font-size=\"12\" lengthAdjust=\"spacingAndGlyphs\" textLength=\"8\" x=\"604\" y=\"79.1074\">C</text></a><!--MD5=[09b614a08d8cba4a07c9adeb5e0fee81]\n",
       "class E3--><a href=\"psysml:be14fc81-3f83-42fd-a525-71826c91787f\" target=\"_top\" title=\"psysml:be14fc81-3f83-42fd-a525-71826c91787f\" xlink:actuate=\"onRequest\" xlink:href=\"psysml:be14fc81-3f83-42fd-a525-71826c91787f\" xlink:show=\"new\" xlink:title=\"psysml:be14fc81-3f83-42fd-a525-71826c91787f\" xlink:type=\"simple\"><rect fill=\"#FFFFFF\" height=\"53.9375\" id=\"E3\" style=\"stroke: #383838; stroke-width: 1.5;\" width=\"115\" x=\"416.5\" y=\"94.5\"/><text fill=\"#000000\" font-family=\"sans-serif\" font-size=\"12\" font-style=\"italic\" lengthAdjust=\"spacingAndGlyphs\" textLength=\"113\" x=\"417.5\" y=\"110.6387\">«(T,blue)item def»</text><text fill=\"#000000\" font-family=\"sans-serif\" font-size=\"12\" lengthAdjust=\"spacingAndGlyphs\" textLength=\"8\" x=\"470\" y=\"124.6074\">A</text><line style=\"stroke: #383838; stroke-width: 1.5;\" x1=\"417.5\" x2=\"530.5\" y1=\"132.4375\" y2=\"132.4375\"/><line style=\"stroke: #383838; stroke-width: 1.5;\" x1=\"417.5\" x2=\"530.5\" y1=\"140.4375\" y2=\"140.4375\"/></a><!--MD5=[ebbe1d658d1005bcc118a6aa81145e00]\n",
       "class E4--><a href=\"psysml:41f55b44-de87-42d8-a9cd-035ede31bd10\" target=\"_top\" title=\"psysml:41f55b44-de87-42d8-a9cd-035ede31bd10\" xlink:actuate=\"onRequest\" xlink:href=\"psysml:41f55b44-de87-42d8-a9cd-035ede31bd10\" xlink:show=\"new\" xlink:title=\"psysml:41f55b44-de87-42d8-a9cd-035ede31bd10\" xlink:type=\"simple\"><rect fill=\"#FFFFFF\" height=\"53.9375\" id=\"E4\" style=\"stroke: #383838; stroke-width: 1.5;\" width=\"115\" x=\"266.5\" y=\"94.5\"/><text fill=\"#000000\" font-family=\"sans-serif\" font-size=\"12\" font-style=\"italic\" lengthAdjust=\"spacingAndGlyphs\" textLength=\"113\" x=\"267.5\" y=\"110.6387\">«(T,blue)item def»</text><text fill=\"#000000\" font-family=\"sans-serif\" font-size=\"12\" lengthAdjust=\"spacingAndGlyphs\" textLength=\"8\" x=\"320\" y=\"124.6074\">B</text><line style=\"stroke: #383838; stroke-width: 1.5;\" x1=\"267.5\" x2=\"380.5\" y1=\"132.4375\" y2=\"132.4375\"/><line style=\"stroke: #383838; stroke-width: 1.5;\" x1=\"267.5\" x2=\"380.5\" y1=\"140.4375\" y2=\"140.4375\"/></a><!--MD5=[2156ba9850f5573cc1fc38a6a4b2f02b]\n",
       "class E7--><a href=\"psysml:b51b1cf2-e677-402d-bf05-bb2fae798694\" target=\"_top\" title=\"psysml:b51b1cf2-e677-402d-bf05-bb2fae798694\" xlink:actuate=\"onRequest\" xlink:href=\"psysml:b51b1cf2-e677-402d-bf05-bb2fae798694\" xlink:show=\"new\" xlink:title=\"psysml:b51b1cf2-e677-402d-bf05-bb2fae798694\" xlink:type=\"simple\"><rect fill=\"#FFFFFF\" height=\"53.9375\" id=\"E7\" style=\"stroke: #383838; stroke-width: 1.5;\" width=\"114\" x=\"117\" y=\"94.5\"/><text fill=\"#000000\" font-family=\"sans-serif\" font-size=\"12\" font-style=\"italic\" lengthAdjust=\"spacingAndGlyphs\" textLength=\"112\" x=\"118\" y=\"110.6387\">«(T,blue)port def»</text><text fill=\"#000000\" font-family=\"sans-serif\" font-size=\"12\" lengthAdjust=\"spacingAndGlyphs\" textLength=\"8\" x=\"170\" y=\"124.6074\">P</text><line style=\"stroke: #383838; stroke-width: 1.5;\" x1=\"118\" x2=\"230\" y1=\"132.4375\" y2=\"132.4375\"/><line style=\"stroke: #383838; stroke-width: 1.5;\" x1=\"118\" x2=\"230\" y1=\"140.4375\" y2=\"140.4375\"/></a><g id=\"E1.E2\"><a href=\"psysml:cf4d7795-98ee-4d9f-9cbf-a98072608f6d\" target=\"_top\" title=\"psysml:cf4d7795-98ee-4d9f-9cbf-a98072608f6d\" xlink:actuate=\"onRequest\" xlink:href=\"psysml:cf4d7795-98ee-4d9f-9cbf-a98072608f6d\" xlink:show=\"new\" xlink:title=\"psysml:cf4d7795-98ee-4d9f-9cbf-a98072608f6d\" xlink:type=\"simple\"><rect fill=\"#FFFFFF\" height=\"42.9375\" id=\"E2\" rx=\"10\" ry=\"10\" style=\"stroke: #383838; stroke-width: 1.5;\" width=\"50\" x=\"32\" y=\"100\"/><rect fill=\"#F8F8F8\" height=\"37.9375\" rx=\"10\" ry=\"10\" style=\"stroke: #F8F8F8; stroke-width: 1.5;\" width=\"50\" x=\"32\" y=\"100\"/><rect fill=\"#F8F8F8\" height=\"10\" style=\"stroke: #F8F8F8; stroke-width: 1.5;\" width=\"50\" x=\"32\" y=\"127.9375\"/><rect fill=\"none\" height=\"42.9375\" id=\"E2\" rx=\"10\" ry=\"10\" style=\"stroke: #383838; stroke-width: 1.5;\" width=\"50\" x=\"32\" y=\"100\"/><text fill=\"#000000\" font-family=\"sans-serif\" font-size=\"12\" font-style=\"italic\" lengthAdjust=\"spacingAndGlyphs\" textLength=\"41\" x=\"36.5\" y=\"116.1387\">«item»</text><text fill=\"#000000\" font-family=\"sans-serif\" font-size=\"12\" lengthAdjust=\"spacingAndGlyphs\" textLength=\"20\" x=\"47\" y=\"130.1074\">f: A</text></a></g><g id=\"E1.E5.E6\"><a href=\"psysml:83dfbdb9-73af-4dff-b5ad-52a21a738594\" target=\"_top\" title=\"psysml:83dfbdb9-73af-4dff-b5ad-52a21a738594\" xlink:actuate=\"onRequest\" xlink:href=\"psysml:83dfbdb9-73af-4dff-b5ad-52a21a738594\" xlink:show=\"new\" xlink:title=\"psysml:83dfbdb9-73af-4dff-b5ad-52a21a738594\" xlink:type=\"simple\"><rect fill=\"#FFFFFF\" height=\"42.9375\" id=\"E6\" rx=\"10\" ry=\"10\" style=\"stroke: #383838; stroke-width: 1.5;\" width=\"82\" x=\"567\" y=\"100\"/><rect fill=\"#F8F8F8\" height=\"37.9375\" rx=\"10\" ry=\"10\" style=\"stroke: #F8F8F8; stroke-width: 1.5;\" width=\"82\" x=\"567\" y=\"100\"/><rect fill=\"#F8F8F8\" height=\"10\" style=\"stroke: #F8F8F8; stroke-width: 1.5;\" width=\"82\" x=\"567\" y=\"127.9375\"/><rect fill=\"none\" height=\"42.9375\" id=\"E6\" rx=\"10\" ry=\"10\" style=\"stroke: #383838; stroke-width: 1.5;\" width=\"82\" x=\"567\" y=\"100\"/><text fill=\"#000000\" font-family=\"sans-serif\" font-size=\"12\" font-style=\"italic\" lengthAdjust=\"spacingAndGlyphs\" textLength=\"75\" x=\"570.5\" y=\"116.1387\">«reference»</text><text fill=\"#000000\" font-family=\"sans-serif\" font-size=\"12\" lengthAdjust=\"spacingAndGlyphs\" textLength=\"38\" x=\"589\" y=\"130.1074\">y: A, B</text></a></g><!--MD5=[f33f7a240e36fcf672ef6ec4e002d052]\n",
       "@startuml\r\n",
       "skinparam ranksep 8\r\n",
       "skinparam rectangle {\r\n",
       " backgroundColor<<block>> LightGreen\r\n",
       "}\r\n",
       "skinparam linetype ortho\r\n",
       "skinparam monochrome true\r\n",
       "skinparam classbackgroundcolor white\r\n",
       "skinparam shadowing false\r\n",
       "skinparam wrapWidth 300\r\n",
       "hide circle\r\n",
       "\r\n",
       "package \"ItemTest\" as E1  [[psysml:ffb2e2dc-9c37-4787-be7c-ae8a88a6d943 ]]  {\r\n",
       "rec usage \"f: A\" as E2  <<(T,blue)item>> [[psysml:cf4d7795-98ee-4d9f-9cbf-a98072608f6d ]] {\r\n",
       "}\r\n",
       "def \"A\" as E3  <<(T,blue)item def>> [[psysml:be14fc81-3f83-42fd-a525-71826c91787f ]] \r\n",
       "def \"B\" as E4  <<(T,blue)item def>> [[psysml:41f55b44-de87-42d8-a9cd-035ede31bd10 ]] \r\n",
       "rec def \"C\" as E5  <<(T,blue)part def>> [[psysml:e612b3f8-fad7-4b05-bdfc-52877d32f7f2 ]] {\r\n",
       "rec usage \"y: A, B\" as E6  <<(T,blue)reference>> [[psysml:83dfbdb9-73af-4dff-b5ad-52a21a738594 ]] {\r\n",
       "}\r\n",
       "}\r\n",
       "def \"P\" as E7  <<(T,blue)port def>> [[psysml:b51b1cf2-e677-402d-bf05-bb2fae798694 ]] \r\n",
       "}\r\n",
       "@enduml\r\n",
       "\n",
       "PlantUML version 1.2020.13(Sat Jun 13 12:26:38 UTC 2020)\n",
       "(EPL source distribution)\n",
       "Java Runtime: OpenJDK Runtime Environment\n",
       "JVM: OpenJDK 64-Bit Server VM\n",
       "Default Encoding: UTF-8\n",
       "Language: en\n",
       "Country: null\n",
       "--></g></svg>"
      ]
     },
     "execution_count": 54,
     "metadata": {},
     "output_type": "execute_result"
    }
   ],
   "source": [
    "%viz --style=\"ORTHOLINE\" --view=\"Interconnection\" \"ItemTest\""
   ]
  },
  {
   "cell_type": "code",
   "execution_count": 55,
   "id": "fitted-membership",
   "metadata": {
    "execution": {
     "iopub.execute_input": "2021-03-25T15:10:30.046346Z",
     "iopub.status.busy": "2021-03-25T15:10:30.045701Z",
     "iopub.status.idle": "2021-03-25T15:10:30.054575Z",
     "shell.execute_reply": "2021-03-25T15:10:30.055133Z"
    }
   },
   "outputs": [
    {
     "data": {
      "image/svg+xml": [
       "<?xml version=\"1.0\" encoding=\"UTF-8\" standalone=\"no\"?><svg xmlns=\"http://www.w3.org/2000/svg\" xmlns:xlink=\"http://www.w3.org/1999/xlink\" contentScriptType=\"application/ecmascript\" contentStyleType=\"text/css\" height=\"12px\" preserveAspectRatio=\"none\" style=\"width:12px;height:12px;\" version=\"1.1\" viewBox=\"0 0 12 12\" width=\"12px\" zoomAndPan=\"magnify\"><defs/><g><!--MD5=[72934c63077099a26744516a776b4749]\n",
       "@startuml\r\n",
       "skinparam ranksep 8\r\n",
       "skinparam linetype ortho\r\n",
       "skinparam monochrome true\r\n",
       "skinparam classbackgroundcolor white\r\n",
       "skinparam shadowing false\r\n",
       "skinparam wrapWidth 300\r\n",
       "hide circle\r\n",
       "\r\n",
       "@enduml\r\n",
       "\n",
       "PlantUML version 1.2020.13(Sat Jun 13 12:26:38 UTC 2020)\n",
       "(EPL source distribution)\n",
       "Java Runtime: OpenJDK Runtime Environment\n",
       "JVM: OpenJDK 64-Bit Server VM\n",
       "Default Encoding: UTF-8\n",
       "Language: en\n",
       "Country: null\n",
       "--></g></svg>"
      ]
     },
     "execution_count": 55,
     "metadata": {},
     "output_type": "execute_result"
    }
   ],
   "source": [
    "%viz --style=\"ORTHOLINE\" --view=\"Action\" \"ItemTest\""
   ]
  },
  {
   "cell_type": "code",
   "execution_count": 56,
   "id": "backed-handbook",
   "metadata": {
    "execution": {
     "iopub.execute_input": "2021-03-25T15:10:30.105712Z",
     "iopub.status.busy": "2021-03-25T15:10:30.105112Z",
     "iopub.status.idle": "2021-03-25T15:10:30.381814Z",
     "shell.execute_reply": "2021-03-25T15:10:30.380170Z"
    }
   },
   "outputs": [
    {
     "data": {
      "image/svg+xml": [
       "<?xml version=\"1.0\" encoding=\"UTF-8\" standalone=\"no\"?><svg xmlns=\"http://www.w3.org/2000/svg\" xmlns:xlink=\"http://www.w3.org/1999/xlink\" contentScriptType=\"application/ecmascript\" contentStyleType=\"text/css\" height=\"738px\" preserveAspectRatio=\"none\" style=\"width:228px;height:738px;\" version=\"1.1\" viewBox=\"0 0 228 738\" width=\"228px\" zoomAndPan=\"magnify\"><defs/><g><!--MD5=[fbc87193dbaf4d95561dea2c320d4a47]\n",
       "cluster E1--><a href=\"psysml:ffb2e2dc-9c37-4787-be7c-ae8a88a6d943\" target=\"_top\" title=\"psysml:ffb2e2dc-9c37-4787-be7c-ae8a88a6d943\" xlink:actuate=\"onRequest\" xlink:href=\"psysml:ffb2e2dc-9c37-4787-be7c-ae8a88a6d943\" xlink:show=\"new\" xlink:title=\"psysml:ffb2e2dc-9c37-4787-be7c-ae8a88a6d943\" xlink:type=\"simple\"><polygon fill=\"#FFFFFF\" points=\"16,6,91,6,98,28.2969,206,28.2969,206,726,16,726,16,6\" style=\"stroke: #000000; stroke-width: 1.5;\"/><line style=\"stroke: #000000; stroke-width: 1.5;\" x1=\"16\" x2=\"98\" y1=\"28.2969\" y2=\"28.2969\"/><text fill=\"#000000\" font-family=\"sans-serif\" font-size=\"14\" font-weight=\"bold\" lengthAdjust=\"spacingAndGlyphs\" textLength=\"69\" x=\"20\" y=\"20.9951\">ItemTest</text></a><!--MD5=[b4997ac47864f28c2f74865a473b2911]\n",
       "class E2--><a href=\"psysml:cf4d7795-98ee-4d9f-9cbf-a98072608f6d\" target=\"_top\" title=\"psysml:cf4d7795-98ee-4d9f-9cbf-a98072608f6d\" xlink:actuate=\"onRequest\" xlink:href=\"psysml:cf4d7795-98ee-4d9f-9cbf-a98072608f6d\" xlink:show=\"new\" xlink:title=\"psysml:cf4d7795-98ee-4d9f-9cbf-a98072608f6d\" xlink:type=\"simple\"><rect fill=\"#FFFFFF\" height=\"45.9375\" id=\"E2\" rx=\"10\" ry=\"10\" style=\"stroke: #383838; stroke-width: 1.5;\" width=\"43\" x=\"133.5\" y=\"62\"/><text fill=\"#000000\" font-family=\"sans-serif\" font-size=\"12\" font-style=\"italic\" lengthAdjust=\"spacingAndGlyphs\" textLength=\"41\" x=\"134.5\" y=\"78.1387\">«item»</text><text fill=\"#000000\" font-family=\"sans-serif\" font-size=\"12\" lengthAdjust=\"spacingAndGlyphs\" textLength=\"20\" x=\"145\" y=\"92.1074\">f: A</text><line style=\"stroke: #383838; stroke-width: 1.5;\" x1=\"134.5\" x2=\"175.5\" y1=\"99.9375\" y2=\"99.9375\"/></a><!--MD5=[09b614a08d8cba4a07c9adeb5e0fee81]\n",
       "class E3--><a href=\"psysml:be14fc81-3f83-42fd-a525-71826c91787f\" target=\"_top\" title=\"psysml:be14fc81-3f83-42fd-a525-71826c91787f\" xlink:actuate=\"onRequest\" xlink:href=\"psysml:be14fc81-3f83-42fd-a525-71826c91787f\" xlink:show=\"new\" xlink:title=\"psysml:be14fc81-3f83-42fd-a525-71826c91787f\" xlink:type=\"simple\"><rect fill=\"#FFFFFF\" height=\"75.5469\" id=\"E3\" style=\"stroke: #383838; stroke-width: 1.5;\" width=\"67\" x=\"115.5\" y=\"190\"/><text fill=\"#000000\" font-family=\"sans-serif\" font-size=\"12\" font-style=\"italic\" lengthAdjust=\"spacingAndGlyphs\" textLength=\"65\" x=\"116.5\" y=\"206.1387\">«item def»</text><text fill=\"#000000\" font-family=\"sans-serif\" font-size=\"12\" lengthAdjust=\"spacingAndGlyphs\" textLength=\"8\" x=\"145\" y=\"220.1074\">A</text><line style=\"stroke: #383838; stroke-width: 1.5;\" x1=\"116.5\" x2=\"181.5\" y1=\"227.9375\" y2=\"227.9375\"/><text fill=\"#000000\" font-family=\"sans-serif\" font-size=\"11\" lengthAdjust=\"spacingAndGlyphs\" textLength=\"23\" x=\"121.5\" y=\"258.9526\">b: B</text><line style=\"stroke: #383838; stroke-width: 1.0;\" x1=\"116.5\" x2=\"133\" y1=\"242.3398\" y2=\"242.3398\"/><text fill=\"#000000\" font-family=\"sans-serif\" font-size=\"11\" lengthAdjust=\"spacingAndGlyphs\" textLength=\"32\" x=\"133\" y=\"245.6479\">items</text><line style=\"stroke: #383838; stroke-width: 1.0;\" x1=\"165\" x2=\"181.5\" y1=\"242.3398\" y2=\"242.3398\"/></a><!--MD5=[270fce915f116d4de14055a7c1d9a0f3]\n",
       "class E5--><a href=\"psysml:77af57f1-340c-421d-9a30-1a49108711b3\" target=\"_top\" title=\"psysml:77af57f1-340c-421d-9a30-1a49108711b3\" xlink:actuate=\"onRequest\" xlink:href=\"psysml:77af57f1-340c-421d-9a30-1a49108711b3\" xlink:show=\"new\" xlink:title=\"psysml:77af57f1-340c-421d-9a30-1a49108711b3\" xlink:type=\"simple\"><rect fill=\"#FFFFFF\" height=\"45.9375\" id=\"E5\" rx=\"10\" ry=\"10\" style=\"stroke: #383838; stroke-width: 1.5;\" width=\"42\" x=\"32\" y=\"327\"/><text fill=\"#000000\" font-family=\"sans-serif\" font-size=\"12\" font-style=\"italic\" lengthAdjust=\"spacingAndGlyphs\" textLength=\"40\" x=\"33\" y=\"343.1387\">«part»</text><text fill=\"#000000\" font-family=\"sans-serif\" font-size=\"12\" lengthAdjust=\"spacingAndGlyphs\" textLength=\"23\" x=\"41.5\" y=\"357.1074\">c: C</text><line style=\"stroke: #383838; stroke-width: 1.5;\" x1=\"33\" x2=\"73\" y1=\"364.9375\" y2=\"364.9375\"/></a><!--MD5=[60a26617385b1d2d0262a64233df1f8d]\n",
       "class E6--><a href=\"psysml:41f55b44-de87-42d8-a9cd-035ede31bd10\" target=\"_top\" title=\"psysml:41f55b44-de87-42d8-a9cd-035ede31bd10\" xlink:actuate=\"onRequest\" xlink:href=\"psysml:41f55b44-de87-42d8-a9cd-035ede31bd10\" xlink:show=\"new\" xlink:title=\"psysml:41f55b44-de87-42d8-a9cd-035ede31bd10\" xlink:type=\"simple\"><rect fill=\"#FFFFFF\" height=\"45.9375\" id=\"E6\" style=\"stroke: #383838; stroke-width: 1.5;\" width=\"67\" x=\"85.5\" y=\"557\"/><text fill=\"#000000\" font-family=\"sans-serif\" font-size=\"12\" font-style=\"italic\" lengthAdjust=\"spacingAndGlyphs\" textLength=\"65\" x=\"86.5\" y=\"573.1387\">«item def»</text><text fill=\"#000000\" font-family=\"sans-serif\" font-size=\"12\" lengthAdjust=\"spacingAndGlyphs\" textLength=\"8\" x=\"115\" y=\"587.1074\">B</text><line style=\"stroke: #383838; stroke-width: 1.5;\" x1=\"86.5\" x2=\"151.5\" y1=\"594.9375\" y2=\"594.9375\"/></a><!--MD5=[2156ba9850f5573cc1fc38a6a4b2f02b]\n",
       "class E7--><a href=\"psysml:4ca48e5a-78fa-40b6-ad88-229f08c03677\" target=\"_top\" title=\"psysml:4ca48e5a-78fa-40b6-ad88-229f08c03677\" xlink:actuate=\"onRequest\" xlink:href=\"psysml:4ca48e5a-78fa-40b6-ad88-229f08c03677\" xlink:show=\"new\" xlink:title=\"psysml:4ca48e5a-78fa-40b6-ad88-229f08c03677\" xlink:type=\"simple\"><rect fill=\"#FFFFFF\" height=\"45.9375\" id=\"E7\" rx=\"10\" ry=\"10\" style=\"stroke: #383838; stroke-width: 1.5;\" width=\"42\" x=\"123\" y=\"664\"/><text fill=\"#000000\" font-family=\"sans-serif\" font-size=\"12\" font-style=\"italic\" lengthAdjust=\"spacingAndGlyphs\" textLength=\"40\" x=\"124\" y=\"680.1387\">«part»</text><text fill=\"#000000\" font-family=\"sans-serif\" font-size=\"12\" lengthAdjust=\"spacingAndGlyphs\" textLength=\"24\" x=\"132\" y=\"694.1074\">a: A</text><line style=\"stroke: #383838; stroke-width: 1.5;\" x1=\"124\" x2=\"164\" y1=\"701.9375\" y2=\"701.9375\"/></a><!--MD5=[b9389687b975829384b498ac4b7476b2]\n",
       "class E8--><a href=\"psysml:e612b3f8-fad7-4b05-bdfc-52877d32f7f2\" target=\"_top\" title=\"psysml:e612b3f8-fad7-4b05-bdfc-52877d32f7f2\" xlink:actuate=\"onRequest\" xlink:href=\"psysml:e612b3f8-fad7-4b05-bdfc-52877d32f7f2\" xlink:show=\"new\" xlink:title=\"psysml:e612b3f8-fad7-4b05-bdfc-52877d32f7f2\" xlink:type=\"simple\"><rect fill=\"#FFFFFF\" height=\"45.9375\" id=\"E8\" style=\"stroke: #383838; stroke-width: 1.5;\" width=\"66\" x=\"86\" y=\"434\"/><text fill=\"#000000\" font-family=\"sans-serif\" font-size=\"12\" font-style=\"italic\" lengthAdjust=\"spacingAndGlyphs\" textLength=\"64\" x=\"87\" y=\"450.1387\">«part def»</text><text fill=\"#000000\" font-family=\"sans-serif\" font-size=\"12\" lengthAdjust=\"spacingAndGlyphs\" textLength=\"8\" x=\"115\" y=\"464.1074\">C</text><line style=\"stroke: #383838; stroke-width: 1.5;\" x1=\"87\" x2=\"151\" y1=\"471.9375\" y2=\"471.9375\"/></a><!--MD5=[fd4143e9d270a159db93a4ea2a975926]\n",
       "class E9--><a href=\"psysml:b51b1cf2-e677-402d-bf05-bb2fae798694\" target=\"_top\" title=\"psysml:b51b1cf2-e677-402d-bf05-bb2fae798694\" xlink:actuate=\"onRequest\" xlink:href=\"psysml:b51b1cf2-e677-402d-bf05-bb2fae798694\" xlink:show=\"new\" xlink:title=\"psysml:b51b1cf2-e677-402d-bf05-bb2fae798694\" xlink:type=\"simple\"><rect fill=\"#FFFFFF\" height=\"88.3516\" id=\"E9\" style=\"stroke: #383838; stroke-width: 1.5;\" width=\"66\" x=\"32\" y=\"41\"/><text fill=\"#000000\" font-family=\"sans-serif\" font-size=\"12\" font-style=\"italic\" lengthAdjust=\"spacingAndGlyphs\" textLength=\"64\" x=\"33\" y=\"57.1387\">«port def»</text><text fill=\"#000000\" font-family=\"sans-serif\" font-size=\"12\" lengthAdjust=\"spacingAndGlyphs\" textLength=\"8\" x=\"61\" y=\"71.1074\">P</text><line style=\"stroke: #383838; stroke-width: 1.5;\" x1=\"33\" x2=\"97\" y1=\"78.9375\" y2=\"78.9375\"/><text fill=\"#000000\" font-family=\"sans-serif\" font-size=\"11\" lengthAdjust=\"spacingAndGlyphs\" textLength=\"29\" x=\"38\" y=\"109.9526\">a1: A</text><text fill=\"#000000\" font-family=\"sans-serif\" font-size=\"11\" lengthAdjust=\"spacingAndGlyphs\" textLength=\"29\" x=\"38\" y=\"122.7573\">a2: A</text><line style=\"stroke: #383838; stroke-width: 1.0;\" x1=\"33\" x2=\"49\" y1=\"93.3398\" y2=\"93.3398\"/><text fill=\"#000000\" font-family=\"sans-serif\" font-size=\"11\" lengthAdjust=\"spacingAndGlyphs\" textLength=\"32\" x=\"49\" y=\"96.6479\">items</text><line style=\"stroke: #383838; stroke-width: 1.0;\" x1=\"81\" x2=\"97\" y1=\"93.3398\" y2=\"93.3398\"/></a><!--MD5=[2720a5a1f2c3fca2055b230370638851]\n",
       "link E2 to E3--><a href=\"psysml:5c778f2f-9d99-44f7-9cbe-495e6850b493\" target=\"_top\" title=\"psysml:5c778f2f-9d99-44f7-9cbe-495e6850b493\" xlink:actuate=\"onRequest\" xlink:href=\"psysml:5c778f2f-9d99-44f7-9cbe-495e6850b493\" xlink:show=\"new\" xlink:title=\"psysml:5c778f2f-9d99-44f7-9cbe-495e6850b493\" xlink:type=\"simple\"><path d=\"M155,108.29 C155,108.29 155,169.91 155,169.91 \" fill=\"none\" id=\"E2-&gt;E3\" style=\"stroke: #383838; stroke-width: 1.0;\"/><polygon fill=\"#FFFFFF\" points=\"155,189.91,148,170.91,162,170.91,155,189.91\" style=\"stroke: #383838; stroke-width: 1.0;\"/><ellipse cx=\"150\" cy=\"165.21\" fill=\"#383838\" rx=\"2\" ry=\"2\" style=\"stroke: #383838; stroke-width: 1.0;\"/><ellipse cx=\"160\" cy=\"165.21\" fill=\"#383838\" rx=\"2\" ry=\"2\" style=\"stroke: #383838; stroke-width: 1.0;\"/></a><!--MD5=[191cde3d490a3f6d7bb551fe3ddca469]\n",
       "reverse link E3 to E5--><a href=\"psysml:77af57f1-340c-421d-9a30-1a49108711b3\" target=\"_top\" title=\"psysml:77af57f1-340c-421d-9a30-1a49108711b3\" xlink:actuate=\"onRequest\" xlink:href=\"psysml:77af57f1-340c-421d-9a30-1a49108711b3\" xlink:show=\"new\" xlink:title=\"psysml:77af57f1-340c-421d-9a30-1a49108711b3\" xlink:type=\"simple\"><path d=\"M127.67,279.29 C127.67,279.29 127.67,343 127.67,343 C127.67,343 96.27,343 74.2,343 \" fill=\"none\" id=\"E3&lt;-E5\" style=\"stroke: #383838; stroke-width: 1.0;\"/><polygon fill=\"#FFFFFF\" points=\"127.67,266.29,123.67,272.29,127.67,278.29,131.67,272.29,127.67,266.29\" style=\"stroke: #383838; stroke-width: 1.0;\"/></a><!--MD5=[14ccda38c055a5c0da953d572bc50960]\n",
       "link E7 to E3--><a href=\"psysml:8bb447da-4a21-4000-9a04-f9f9c4ed48f1\" target=\"_top\" title=\"psysml:8bb447da-4a21-4000-9a04-f9f9c4ed48f1\" xlink:actuate=\"onRequest\" xlink:href=\"psysml:8bb447da-4a21-4000-9a04-f9f9c4ed48f1\" xlink:show=\"new\" xlink:title=\"psysml:8bb447da-4a21-4000-9a04-f9f9c4ed48f1\" xlink:type=\"simple\"><path d=\"M158.75,663.92 C158.75,663.92 158.75,286.15 158.75,286.15 \" fill=\"none\" id=\"E7-&gt;E3\" style=\"stroke: #383838; stroke-width: 1.0;\"/><polygon fill=\"#FFFFFF\" points=\"158.75,266.15,165.75,285.15,151.75,285.15,158.75,266.15\" style=\"stroke: #383838; stroke-width: 1.0;\"/><ellipse cx=\"163.75\" cy=\"290.85\" fill=\"#383838\" rx=\"2\" ry=\"2\" style=\"stroke: #383838; stroke-width: 1.0;\"/><ellipse cx=\"153.75\" cy=\"290.85\" fill=\"#383838\" rx=\"2\" ry=\"2\" style=\"stroke: #383838; stroke-width: 1.0;\"/></a><!--MD5=[3f50a3473f1dfb74d3f76443e03635af]\n",
       "reverse link E6 to E7--><a href=\"psysml:4ca48e5a-78fa-40b6-ad88-229f08c03677\" target=\"_top\" title=\"psysml:4ca48e5a-78fa-40b6-ad88-229f08c03677\" xlink:actuate=\"onRequest\" xlink:href=\"psysml:4ca48e5a-78fa-40b6-ad88-229f08c03677\" xlink:show=\"new\" xlink:title=\"psysml:4ca48e5a-78fa-40b6-ad88-229f08c03677\" xlink:type=\"simple\"><path d=\"M137.75,616.22 C137.75,616.22 137.75,663.83 137.75,663.83 \" fill=\"none\" id=\"E6&lt;-E7\" style=\"stroke: #383838; stroke-width: 1.0;\"/><polygon fill=\"#383838\" points=\"137.75,603.22,133.75,609.22,137.75,615.22,141.75,609.22,137.75,603.22\" style=\"stroke: #383838; stroke-width: 1.0;\"/></a><!--MD5=[dfaffb906826c3e5aca635516100ff21]\n",
       "link E5 to E8--><a href=\"psysml:6ff88c17-8c2d-42a4-af32-a2455d6f0acf\" target=\"_top\" title=\"psysml:6ff88c17-8c2d-42a4-af32-a2455d6f0acf\" xlink:actuate=\"onRequest\" xlink:href=\"psysml:6ff88c17-8c2d-42a4-af32-a2455d6f0acf\" xlink:show=\"new\" xlink:title=\"psysml:6ff88c17-8c2d-42a4-af32-a2455d6f0acf\" xlink:type=\"simple\"><path d=\"M74.33,358 C83.43,358 92,358 92,358 C92,358 92,413.79 92,413.79 \" fill=\"none\" id=\"E5-&gt;E8\" style=\"stroke: #383838; stroke-width: 1.0;\"/><polygon fill=\"#FFFFFF\" points=\"92,433.79,85,414.79,99,414.79,92,433.79\" style=\"stroke: #383838; stroke-width: 1.0;\"/><ellipse cx=\"87\" cy=\"409.09\" fill=\"#383838\" rx=\"2\" ry=\"2\" style=\"stroke: #383838; stroke-width: 1.0;\"/><ellipse cx=\"97\" cy=\"409.09\" fill=\"#383838\" rx=\"2\" ry=\"2\" style=\"stroke: #383838; stroke-width: 1.0;\"/></a><!--MD5=[03c8294790d3c57651a1993cecff665f]\n",
       "reverse link E8 to E3--><a href=\"psysml:83dfbdb9-73af-4dff-b5ad-52a21a738594\" target=\"_top\" title=\"psysml:83dfbdb9-73af-4dff-b5ad-52a21a738594\" xlink:actuate=\"onRequest\" xlink:href=\"psysml:83dfbdb9-73af-4dff-b5ad-52a21a738594\" xlink:show=\"new\" xlink:title=\"psysml:83dfbdb9-73af-4dff-b5ad-52a21a738594\" xlink:type=\"simple\"><path d=\"M139.83,420.78 C139.83,420.78 139.83,266.05 139.83,266.05 \" fill=\"none\" id=\"E8&lt;-E3\" style=\"stroke: #383838; stroke-width: 1.0;\"/><polygon fill=\"#FFFFFF\" points=\"139.83,433.78,143.83,427.78,139.83,421.78,135.83,427.78,139.83,433.78\" style=\"stroke: #383838; stroke-width: 1.0;\"/><text fill=\"#000000\" font-family=\"sans-serif\" font-size=\"13\" lengthAdjust=\"spacingAndGlyphs\" textLength=\"7\" x=\"145\" y=\"354.5669\">y</text></a><!--MD5=[0d75d2178373a6a4568e5dc728f58aef]\n",
       "reverse link E8 to E6--><a href=\"psysml:83dfbdb9-73af-4dff-b5ad-52a21a738594\" target=\"_top\" title=\"psysml:83dfbdb9-73af-4dff-b5ad-52a21a738594\" xlink:actuate=\"onRequest\" xlink:href=\"psysml:83dfbdb9-73af-4dff-b5ad-52a21a738594\" xlink:show=\"new\" xlink:title=\"psysml:83dfbdb9-73af-4dff-b5ad-52a21a738594\" xlink:type=\"simple\"><path d=\"M119,493.14 C119,493.14 119,556.97 119,556.97 \" fill=\"none\" id=\"E8&lt;-E6\" style=\"stroke: #383838; stroke-width: 1.0;\"/><polygon fill=\"#FFFFFF\" points=\"119,480.14,115,486.14,119,492.14,123,486.14,119,480.14\" style=\"stroke: #383838; stroke-width: 1.0;\"/><text fill=\"#000000\" font-family=\"sans-serif\" font-size=\"13\" lengthAdjust=\"spacingAndGlyphs\" textLength=\"7\" x=\"120\" y=\"523.0669\">y</text></a><!--MD5=[b96ef9e19b0cc2938ba6dc7caf4b66d5]\n",
       "@startuml\r\n",
       "skinparam linetype ortho\r\n",
       "skinparam monochrome true\r\n",
       "skinparam classbackgroundcolor white\r\n",
       "skinparam shadowing false\r\n",
       "skinparam wrapWidth 300\r\n",
       "hide circle\r\n",
       "\r\n",
       "package \"ItemTest\" as E1  [[psysml:ffb2e2dc-9c37-4787-be7c-ae8a88a6d943 ]]  {\r\n",
       "comp usage \"f: A\" as E2  <<(T,blue)item>> [[psysml:cf4d7795-98ee-4d9f-9cbf-a98072608f6d ]] {\r\n",
       "}\r\n",
       "comp def \"A\" as E3  <<(T,blue)item def>> [[psysml:be14fc81-3f83-42fd-a525-71826c91787f ]] {\r\n",
       "- - items - -\r\n",
       "b: B\r\n",
       "}\r\n",
       "comp usage \"c: C\" as E5  <<(T,blue)part>> [[psysml:77af57f1-340c-421d-9a30-1a49108711b3 ]] {\r\n",
       "}\r\n",
       "comp def \"B\" as E6  <<(T,blue)item def>> [[psysml:41f55b44-de87-42d8-a9cd-035ede31bd10 ]] {\r\n",
       "}\r\n",
       "comp usage \"a: A\" as E7  <<(T,blue)part>> [[psysml:4ca48e5a-78fa-40b6-ad88-229f08c03677 ]] {\r\n",
       "}\r\n",
       "comp def \"C\" as E8  <<(T,blue)part def>> [[psysml:e612b3f8-fad7-4b05-bdfc-52877d32f7f2 ]] {\r\n",
       "}\r\n",
       "comp def \"P\" as E9  <<(T,blue)port def>> [[psysml:b51b1cf2-e677-402d-bf05-bb2fae798694 ]] {\r\n",
       "- - items - -\r\n",
       "a1: A\r\n",
       "a2: A\r\n",
       "}\r\n",
       "E2 - -:|> E3 [[psysml:5c778f2f-9d99-44f7-9cbe-495e6850b493 ]] \r\n",
       "E3 o- - E5 [[psysml:77af57f1-340c-421d-9a30-1a49108711b3 ]] \r\n",
       "E7 - -:|> E3 [[psysml:8bb447da-4a21-4000-9a04-f9f9c4ed48f1 ]] \r\n",
       "E6 *- - E7 [[psysml:4ca48e5a-78fa-40b6-ad88-229f08c03677 ]] \r\n",
       "E5 - -:|> E8 [[psysml:6ff88c17-8c2d-42a4-af32-a2455d6f0acf ]] \r\n",
       "E8 o- - E3 [[psysml:83dfbdb9-73af-4dff-b5ad-52a21a738594 ]] : y\r\n",
       "E8 o- - E6 [[psysml:83dfbdb9-73af-4dff-b5ad-52a21a738594 ]] : y\r\n",
       "}\r\n",
       "@enduml\r\n",
       "\n",
       "PlantUML version 1.2020.13(Sat Jun 13 12:26:38 UTC 2020)\n",
       "(EPL source distribution)\n",
       "Java Runtime: OpenJDK Runtime Environment\n",
       "JVM: OpenJDK 64-Bit Server VM\n",
       "Default Encoding: UTF-8\n",
       "Language: en\n",
       "Country: null\n",
       "--></g></svg>"
      ]
     },
     "execution_count": 56,
     "metadata": {},
     "output_type": "execute_result"
    }
   ],
   "source": [
    "%viz --style=\"ORTHOLINE\" --view=\"Sequence\" \"ItemTest\""
   ]
  },
  {
   "cell_type": "code",
   "execution_count": 57,
   "id": "impossible-highlight",
   "metadata": {
    "execution": {
     "iopub.execute_input": "2021-03-25T15:10:30.432892Z",
     "iopub.status.busy": "2021-03-25T15:10:30.432215Z",
     "iopub.status.idle": "2021-03-25T15:10:30.702843Z",
     "shell.execute_reply": "2021-03-25T15:10:30.701448Z"
    }
   },
   "outputs": [
    {
     "data": {
      "image/svg+xml": [
       "<?xml version=\"1.0\" encoding=\"UTF-8\" standalone=\"no\"?><svg xmlns=\"http://www.w3.org/2000/svg\" xmlns:xlink=\"http://www.w3.org/1999/xlink\" contentScriptType=\"application/ecmascript\" contentStyleType=\"text/css\" height=\"738px\" preserveAspectRatio=\"none\" style=\"width:228px;height:738px;\" version=\"1.1\" viewBox=\"0 0 228 738\" width=\"228px\" zoomAndPan=\"magnify\"><defs/><g><!--MD5=[fbc87193dbaf4d95561dea2c320d4a47]\n",
       "cluster E1--><a href=\"psysml:ffb2e2dc-9c37-4787-be7c-ae8a88a6d943\" target=\"_top\" title=\"psysml:ffb2e2dc-9c37-4787-be7c-ae8a88a6d943\" xlink:actuate=\"onRequest\" xlink:href=\"psysml:ffb2e2dc-9c37-4787-be7c-ae8a88a6d943\" xlink:show=\"new\" xlink:title=\"psysml:ffb2e2dc-9c37-4787-be7c-ae8a88a6d943\" xlink:type=\"simple\"><polygon fill=\"#FFFFFF\" points=\"16,6,91,6,98,28.2969,206,28.2969,206,726,16,726,16,6\" style=\"stroke: #000000; stroke-width: 1.5;\"/><line style=\"stroke: #000000; stroke-width: 1.5;\" x1=\"16\" x2=\"98\" y1=\"28.2969\" y2=\"28.2969\"/><text fill=\"#000000\" font-family=\"sans-serif\" font-size=\"14\" font-weight=\"bold\" lengthAdjust=\"spacingAndGlyphs\" textLength=\"69\" x=\"20\" y=\"20.9951\">ItemTest</text></a><!--MD5=[b4997ac47864f28c2f74865a473b2911]\n",
       "class E2--><a href=\"psysml:cf4d7795-98ee-4d9f-9cbf-a98072608f6d\" target=\"_top\" title=\"psysml:cf4d7795-98ee-4d9f-9cbf-a98072608f6d\" xlink:actuate=\"onRequest\" xlink:href=\"psysml:cf4d7795-98ee-4d9f-9cbf-a98072608f6d\" xlink:show=\"new\" xlink:title=\"psysml:cf4d7795-98ee-4d9f-9cbf-a98072608f6d\" xlink:type=\"simple\"><rect fill=\"#FFFFFF\" height=\"45.9375\" id=\"E2\" rx=\"10\" ry=\"10\" style=\"stroke: #383838; stroke-width: 1.5;\" width=\"43\" x=\"133.5\" y=\"62\"/><text fill=\"#000000\" font-family=\"sans-serif\" font-size=\"12\" font-style=\"italic\" lengthAdjust=\"spacingAndGlyphs\" textLength=\"41\" x=\"134.5\" y=\"78.1387\">«item»</text><text fill=\"#000000\" font-family=\"sans-serif\" font-size=\"12\" lengthAdjust=\"spacingAndGlyphs\" textLength=\"20\" x=\"145\" y=\"92.1074\">f: A</text><line style=\"stroke: #383838; stroke-width: 1.5;\" x1=\"134.5\" x2=\"175.5\" y1=\"99.9375\" y2=\"99.9375\"/></a><!--MD5=[09b614a08d8cba4a07c9adeb5e0fee81]\n",
       "class E3--><a href=\"psysml:be14fc81-3f83-42fd-a525-71826c91787f\" target=\"_top\" title=\"psysml:be14fc81-3f83-42fd-a525-71826c91787f\" xlink:actuate=\"onRequest\" xlink:href=\"psysml:be14fc81-3f83-42fd-a525-71826c91787f\" xlink:show=\"new\" xlink:title=\"psysml:be14fc81-3f83-42fd-a525-71826c91787f\" xlink:type=\"simple\"><rect fill=\"#FFFFFF\" height=\"75.5469\" id=\"E3\" style=\"stroke: #383838; stroke-width: 1.5;\" width=\"67\" x=\"115.5\" y=\"190\"/><text fill=\"#000000\" font-family=\"sans-serif\" font-size=\"12\" font-style=\"italic\" lengthAdjust=\"spacingAndGlyphs\" textLength=\"65\" x=\"116.5\" y=\"206.1387\">«item def»</text><text fill=\"#000000\" font-family=\"sans-serif\" font-size=\"12\" lengthAdjust=\"spacingAndGlyphs\" textLength=\"8\" x=\"145\" y=\"220.1074\">A</text><line style=\"stroke: #383838; stroke-width: 1.5;\" x1=\"116.5\" x2=\"181.5\" y1=\"227.9375\" y2=\"227.9375\"/><text fill=\"#000000\" font-family=\"sans-serif\" font-size=\"11\" lengthAdjust=\"spacingAndGlyphs\" textLength=\"23\" x=\"121.5\" y=\"258.9526\">b: B</text><line style=\"stroke: #383838; stroke-width: 1.0;\" x1=\"116.5\" x2=\"133\" y1=\"242.3398\" y2=\"242.3398\"/><text fill=\"#000000\" font-family=\"sans-serif\" font-size=\"11\" lengthAdjust=\"spacingAndGlyphs\" textLength=\"32\" x=\"133\" y=\"245.6479\">items</text><line style=\"stroke: #383838; stroke-width: 1.0;\" x1=\"165\" x2=\"181.5\" y1=\"242.3398\" y2=\"242.3398\"/></a><!--MD5=[270fce915f116d4de14055a7c1d9a0f3]\n",
       "class E5--><a href=\"psysml:77af57f1-340c-421d-9a30-1a49108711b3\" target=\"_top\" title=\"psysml:77af57f1-340c-421d-9a30-1a49108711b3\" xlink:actuate=\"onRequest\" xlink:href=\"psysml:77af57f1-340c-421d-9a30-1a49108711b3\" xlink:show=\"new\" xlink:title=\"psysml:77af57f1-340c-421d-9a30-1a49108711b3\" xlink:type=\"simple\"><rect fill=\"#FFFFFF\" height=\"45.9375\" id=\"E5\" rx=\"10\" ry=\"10\" style=\"stroke: #383838; stroke-width: 1.5;\" width=\"42\" x=\"32\" y=\"327\"/><text fill=\"#000000\" font-family=\"sans-serif\" font-size=\"12\" font-style=\"italic\" lengthAdjust=\"spacingAndGlyphs\" textLength=\"40\" x=\"33\" y=\"343.1387\">«part»</text><text fill=\"#000000\" font-family=\"sans-serif\" font-size=\"12\" lengthAdjust=\"spacingAndGlyphs\" textLength=\"23\" x=\"41.5\" y=\"357.1074\">c: C</text><line style=\"stroke: #383838; stroke-width: 1.5;\" x1=\"33\" x2=\"73\" y1=\"364.9375\" y2=\"364.9375\"/></a><!--MD5=[60a26617385b1d2d0262a64233df1f8d]\n",
       "class E6--><a href=\"psysml:41f55b44-de87-42d8-a9cd-035ede31bd10\" target=\"_top\" title=\"psysml:41f55b44-de87-42d8-a9cd-035ede31bd10\" xlink:actuate=\"onRequest\" xlink:href=\"psysml:41f55b44-de87-42d8-a9cd-035ede31bd10\" xlink:show=\"new\" xlink:title=\"psysml:41f55b44-de87-42d8-a9cd-035ede31bd10\" xlink:type=\"simple\"><rect fill=\"#FFFFFF\" height=\"45.9375\" id=\"E6\" style=\"stroke: #383838; stroke-width: 1.5;\" width=\"67\" x=\"85.5\" y=\"557\"/><text fill=\"#000000\" font-family=\"sans-serif\" font-size=\"12\" font-style=\"italic\" lengthAdjust=\"spacingAndGlyphs\" textLength=\"65\" x=\"86.5\" y=\"573.1387\">«item def»</text><text fill=\"#000000\" font-family=\"sans-serif\" font-size=\"12\" lengthAdjust=\"spacingAndGlyphs\" textLength=\"8\" x=\"115\" y=\"587.1074\">B</text><line style=\"stroke: #383838; stroke-width: 1.5;\" x1=\"86.5\" x2=\"151.5\" y1=\"594.9375\" y2=\"594.9375\"/></a><!--MD5=[2156ba9850f5573cc1fc38a6a4b2f02b]\n",
       "class E7--><a href=\"psysml:4ca48e5a-78fa-40b6-ad88-229f08c03677\" target=\"_top\" title=\"psysml:4ca48e5a-78fa-40b6-ad88-229f08c03677\" xlink:actuate=\"onRequest\" xlink:href=\"psysml:4ca48e5a-78fa-40b6-ad88-229f08c03677\" xlink:show=\"new\" xlink:title=\"psysml:4ca48e5a-78fa-40b6-ad88-229f08c03677\" xlink:type=\"simple\"><rect fill=\"#FFFFFF\" height=\"45.9375\" id=\"E7\" rx=\"10\" ry=\"10\" style=\"stroke: #383838; stroke-width: 1.5;\" width=\"42\" x=\"123\" y=\"664\"/><text fill=\"#000000\" font-family=\"sans-serif\" font-size=\"12\" font-style=\"italic\" lengthAdjust=\"spacingAndGlyphs\" textLength=\"40\" x=\"124\" y=\"680.1387\">«part»</text><text fill=\"#000000\" font-family=\"sans-serif\" font-size=\"12\" lengthAdjust=\"spacingAndGlyphs\" textLength=\"24\" x=\"132\" y=\"694.1074\">a: A</text><line style=\"stroke: #383838; stroke-width: 1.5;\" x1=\"124\" x2=\"164\" y1=\"701.9375\" y2=\"701.9375\"/></a><!--MD5=[b9389687b975829384b498ac4b7476b2]\n",
       "class E8--><a href=\"psysml:e612b3f8-fad7-4b05-bdfc-52877d32f7f2\" target=\"_top\" title=\"psysml:e612b3f8-fad7-4b05-bdfc-52877d32f7f2\" xlink:actuate=\"onRequest\" xlink:href=\"psysml:e612b3f8-fad7-4b05-bdfc-52877d32f7f2\" xlink:show=\"new\" xlink:title=\"psysml:e612b3f8-fad7-4b05-bdfc-52877d32f7f2\" xlink:type=\"simple\"><rect fill=\"#FFFFFF\" height=\"45.9375\" id=\"E8\" style=\"stroke: #383838; stroke-width: 1.5;\" width=\"66\" x=\"86\" y=\"434\"/><text fill=\"#000000\" font-family=\"sans-serif\" font-size=\"12\" font-style=\"italic\" lengthAdjust=\"spacingAndGlyphs\" textLength=\"64\" x=\"87\" y=\"450.1387\">«part def»</text><text fill=\"#000000\" font-family=\"sans-serif\" font-size=\"12\" lengthAdjust=\"spacingAndGlyphs\" textLength=\"8\" x=\"115\" y=\"464.1074\">C</text><line style=\"stroke: #383838; stroke-width: 1.5;\" x1=\"87\" x2=\"151\" y1=\"471.9375\" y2=\"471.9375\"/></a><!--MD5=[fd4143e9d270a159db93a4ea2a975926]\n",
       "class E9--><a href=\"psysml:b51b1cf2-e677-402d-bf05-bb2fae798694\" target=\"_top\" title=\"psysml:b51b1cf2-e677-402d-bf05-bb2fae798694\" xlink:actuate=\"onRequest\" xlink:href=\"psysml:b51b1cf2-e677-402d-bf05-bb2fae798694\" xlink:show=\"new\" xlink:title=\"psysml:b51b1cf2-e677-402d-bf05-bb2fae798694\" xlink:type=\"simple\"><rect fill=\"#FFFFFF\" height=\"88.3516\" id=\"E9\" style=\"stroke: #383838; stroke-width: 1.5;\" width=\"66\" x=\"32\" y=\"41\"/><text fill=\"#000000\" font-family=\"sans-serif\" font-size=\"12\" font-style=\"italic\" lengthAdjust=\"spacingAndGlyphs\" textLength=\"64\" x=\"33\" y=\"57.1387\">«port def»</text><text fill=\"#000000\" font-family=\"sans-serif\" font-size=\"12\" lengthAdjust=\"spacingAndGlyphs\" textLength=\"8\" x=\"61\" y=\"71.1074\">P</text><line style=\"stroke: #383838; stroke-width: 1.5;\" x1=\"33\" x2=\"97\" y1=\"78.9375\" y2=\"78.9375\"/><text fill=\"#000000\" font-family=\"sans-serif\" font-size=\"11\" lengthAdjust=\"spacingAndGlyphs\" textLength=\"29\" x=\"38\" y=\"109.9526\">a1: A</text><text fill=\"#000000\" font-family=\"sans-serif\" font-size=\"11\" lengthAdjust=\"spacingAndGlyphs\" textLength=\"29\" x=\"38\" y=\"122.7573\">a2: A</text><line style=\"stroke: #383838; stroke-width: 1.0;\" x1=\"33\" x2=\"49\" y1=\"93.3398\" y2=\"93.3398\"/><text fill=\"#000000\" font-family=\"sans-serif\" font-size=\"11\" lengthAdjust=\"spacingAndGlyphs\" textLength=\"32\" x=\"49\" y=\"96.6479\">items</text><line style=\"stroke: #383838; stroke-width: 1.0;\" x1=\"81\" x2=\"97\" y1=\"93.3398\" y2=\"93.3398\"/></a><!--MD5=[2720a5a1f2c3fca2055b230370638851]\n",
       "link E2 to E3--><a href=\"psysml:5c778f2f-9d99-44f7-9cbe-495e6850b493\" target=\"_top\" title=\"psysml:5c778f2f-9d99-44f7-9cbe-495e6850b493\" xlink:actuate=\"onRequest\" xlink:href=\"psysml:5c778f2f-9d99-44f7-9cbe-495e6850b493\" xlink:show=\"new\" xlink:title=\"psysml:5c778f2f-9d99-44f7-9cbe-495e6850b493\" xlink:type=\"simple\"><path d=\"M155,108.29 C155,108.29 155,169.91 155,169.91 \" fill=\"none\" id=\"E2-&gt;E3\" style=\"stroke: #383838; stroke-width: 1.0;\"/><polygon fill=\"#FFFFFF\" points=\"155,189.91,148,170.91,162,170.91,155,189.91\" style=\"stroke: #383838; stroke-width: 1.0;\"/><ellipse cx=\"150\" cy=\"165.21\" fill=\"#383838\" rx=\"2\" ry=\"2\" style=\"stroke: #383838; stroke-width: 1.0;\"/><ellipse cx=\"160\" cy=\"165.21\" fill=\"#383838\" rx=\"2\" ry=\"2\" style=\"stroke: #383838; stroke-width: 1.0;\"/></a><!--MD5=[191cde3d490a3f6d7bb551fe3ddca469]\n",
       "reverse link E3 to E5--><a href=\"psysml:77af57f1-340c-421d-9a30-1a49108711b3\" target=\"_top\" title=\"psysml:77af57f1-340c-421d-9a30-1a49108711b3\" xlink:actuate=\"onRequest\" xlink:href=\"psysml:77af57f1-340c-421d-9a30-1a49108711b3\" xlink:show=\"new\" xlink:title=\"psysml:77af57f1-340c-421d-9a30-1a49108711b3\" xlink:type=\"simple\"><path d=\"M127.67,279.29 C127.67,279.29 127.67,343 127.67,343 C127.67,343 96.27,343 74.2,343 \" fill=\"none\" id=\"E3&lt;-E5\" style=\"stroke: #383838; stroke-width: 1.0;\"/><polygon fill=\"#FFFFFF\" points=\"127.67,266.29,123.67,272.29,127.67,278.29,131.67,272.29,127.67,266.29\" style=\"stroke: #383838; stroke-width: 1.0;\"/></a><!--MD5=[14ccda38c055a5c0da953d572bc50960]\n",
       "link E7 to E3--><a href=\"psysml:8bb447da-4a21-4000-9a04-f9f9c4ed48f1\" target=\"_top\" title=\"psysml:8bb447da-4a21-4000-9a04-f9f9c4ed48f1\" xlink:actuate=\"onRequest\" xlink:href=\"psysml:8bb447da-4a21-4000-9a04-f9f9c4ed48f1\" xlink:show=\"new\" xlink:title=\"psysml:8bb447da-4a21-4000-9a04-f9f9c4ed48f1\" xlink:type=\"simple\"><path d=\"M158.75,663.92 C158.75,663.92 158.75,286.15 158.75,286.15 \" fill=\"none\" id=\"E7-&gt;E3\" style=\"stroke: #383838; stroke-width: 1.0;\"/><polygon fill=\"#FFFFFF\" points=\"158.75,266.15,165.75,285.15,151.75,285.15,158.75,266.15\" style=\"stroke: #383838; stroke-width: 1.0;\"/><ellipse cx=\"163.75\" cy=\"290.85\" fill=\"#383838\" rx=\"2\" ry=\"2\" style=\"stroke: #383838; stroke-width: 1.0;\"/><ellipse cx=\"153.75\" cy=\"290.85\" fill=\"#383838\" rx=\"2\" ry=\"2\" style=\"stroke: #383838; stroke-width: 1.0;\"/></a><!--MD5=[3f50a3473f1dfb74d3f76443e03635af]\n",
       "reverse link E6 to E7--><a href=\"psysml:4ca48e5a-78fa-40b6-ad88-229f08c03677\" target=\"_top\" title=\"psysml:4ca48e5a-78fa-40b6-ad88-229f08c03677\" xlink:actuate=\"onRequest\" xlink:href=\"psysml:4ca48e5a-78fa-40b6-ad88-229f08c03677\" xlink:show=\"new\" xlink:title=\"psysml:4ca48e5a-78fa-40b6-ad88-229f08c03677\" xlink:type=\"simple\"><path d=\"M137.75,616.22 C137.75,616.22 137.75,663.83 137.75,663.83 \" fill=\"none\" id=\"E6&lt;-E7\" style=\"stroke: #383838; stroke-width: 1.0;\"/><polygon fill=\"#383838\" points=\"137.75,603.22,133.75,609.22,137.75,615.22,141.75,609.22,137.75,603.22\" style=\"stroke: #383838; stroke-width: 1.0;\"/></a><!--MD5=[dfaffb906826c3e5aca635516100ff21]\n",
       "link E5 to E8--><a href=\"psysml:6ff88c17-8c2d-42a4-af32-a2455d6f0acf\" target=\"_top\" title=\"psysml:6ff88c17-8c2d-42a4-af32-a2455d6f0acf\" xlink:actuate=\"onRequest\" xlink:href=\"psysml:6ff88c17-8c2d-42a4-af32-a2455d6f0acf\" xlink:show=\"new\" xlink:title=\"psysml:6ff88c17-8c2d-42a4-af32-a2455d6f0acf\" xlink:type=\"simple\"><path d=\"M74.33,358 C83.43,358 92,358 92,358 C92,358 92,413.79 92,413.79 \" fill=\"none\" id=\"E5-&gt;E8\" style=\"stroke: #383838; stroke-width: 1.0;\"/><polygon fill=\"#FFFFFF\" points=\"92,433.79,85,414.79,99,414.79,92,433.79\" style=\"stroke: #383838; stroke-width: 1.0;\"/><ellipse cx=\"87\" cy=\"409.09\" fill=\"#383838\" rx=\"2\" ry=\"2\" style=\"stroke: #383838; stroke-width: 1.0;\"/><ellipse cx=\"97\" cy=\"409.09\" fill=\"#383838\" rx=\"2\" ry=\"2\" style=\"stroke: #383838; stroke-width: 1.0;\"/></a><!--MD5=[03c8294790d3c57651a1993cecff665f]\n",
       "reverse link E8 to E3--><a href=\"psysml:83dfbdb9-73af-4dff-b5ad-52a21a738594\" target=\"_top\" title=\"psysml:83dfbdb9-73af-4dff-b5ad-52a21a738594\" xlink:actuate=\"onRequest\" xlink:href=\"psysml:83dfbdb9-73af-4dff-b5ad-52a21a738594\" xlink:show=\"new\" xlink:title=\"psysml:83dfbdb9-73af-4dff-b5ad-52a21a738594\" xlink:type=\"simple\"><path d=\"M139.83,420.78 C139.83,420.78 139.83,266.05 139.83,266.05 \" fill=\"none\" id=\"E8&lt;-E3\" style=\"stroke: #383838; stroke-width: 1.0;\"/><polygon fill=\"#FFFFFF\" points=\"139.83,433.78,143.83,427.78,139.83,421.78,135.83,427.78,139.83,433.78\" style=\"stroke: #383838; stroke-width: 1.0;\"/><text fill=\"#000000\" font-family=\"sans-serif\" font-size=\"13\" lengthAdjust=\"spacingAndGlyphs\" textLength=\"7\" x=\"145\" y=\"354.5669\">y</text></a><!--MD5=[0d75d2178373a6a4568e5dc728f58aef]\n",
       "reverse link E8 to E6--><a href=\"psysml:83dfbdb9-73af-4dff-b5ad-52a21a738594\" target=\"_top\" title=\"psysml:83dfbdb9-73af-4dff-b5ad-52a21a738594\" xlink:actuate=\"onRequest\" xlink:href=\"psysml:83dfbdb9-73af-4dff-b5ad-52a21a738594\" xlink:show=\"new\" xlink:title=\"psysml:83dfbdb9-73af-4dff-b5ad-52a21a738594\" xlink:type=\"simple\"><path d=\"M119,493.14 C119,493.14 119,556.97 119,556.97 \" fill=\"none\" id=\"E8&lt;-E6\" style=\"stroke: #383838; stroke-width: 1.0;\"/><polygon fill=\"#FFFFFF\" points=\"119,480.14,115,486.14,119,492.14,123,486.14,119,480.14\" style=\"stroke: #383838; stroke-width: 1.0;\"/><text fill=\"#000000\" font-family=\"sans-serif\" font-size=\"13\" lengthAdjust=\"spacingAndGlyphs\" textLength=\"7\" x=\"120\" y=\"523.0669\">y</text></a><!--MD5=[b96ef9e19b0cc2938ba6dc7caf4b66d5]\n",
       "@startuml\r\n",
       "skinparam linetype ortho\r\n",
       "skinparam monochrome true\r\n",
       "skinparam classbackgroundcolor white\r\n",
       "skinparam shadowing false\r\n",
       "skinparam wrapWidth 300\r\n",
       "hide circle\r\n",
       "\r\n",
       "package \"ItemTest\" as E1  [[psysml:ffb2e2dc-9c37-4787-be7c-ae8a88a6d943 ]]  {\r\n",
       "comp usage \"f: A\" as E2  <<(T,blue)item>> [[psysml:cf4d7795-98ee-4d9f-9cbf-a98072608f6d ]] {\r\n",
       "}\r\n",
       "comp def \"A\" as E3  <<(T,blue)item def>> [[psysml:be14fc81-3f83-42fd-a525-71826c91787f ]] {\r\n",
       "- - items - -\r\n",
       "b: B\r\n",
       "}\r\n",
       "comp usage \"c: C\" as E5  <<(T,blue)part>> [[psysml:77af57f1-340c-421d-9a30-1a49108711b3 ]] {\r\n",
       "}\r\n",
       "comp def \"B\" as E6  <<(T,blue)item def>> [[psysml:41f55b44-de87-42d8-a9cd-035ede31bd10 ]] {\r\n",
       "}\r\n",
       "comp usage \"a: A\" as E7  <<(T,blue)part>> [[psysml:4ca48e5a-78fa-40b6-ad88-229f08c03677 ]] {\r\n",
       "}\r\n",
       "comp def \"C\" as E8  <<(T,blue)part def>> [[psysml:e612b3f8-fad7-4b05-bdfc-52877d32f7f2 ]] {\r\n",
       "}\r\n",
       "comp def \"P\" as E9  <<(T,blue)port def>> [[psysml:b51b1cf2-e677-402d-bf05-bb2fae798694 ]] {\r\n",
       "- - items - -\r\n",
       "a1: A\r\n",
       "a2: A\r\n",
       "}\r\n",
       "E2 - -:|> E3 [[psysml:5c778f2f-9d99-44f7-9cbe-495e6850b493 ]] \r\n",
       "E3 o- - E5 [[psysml:77af57f1-340c-421d-9a30-1a49108711b3 ]] \r\n",
       "E7 - -:|> E3 [[psysml:8bb447da-4a21-4000-9a04-f9f9c4ed48f1 ]] \r\n",
       "E6 *- - E7 [[psysml:4ca48e5a-78fa-40b6-ad88-229f08c03677 ]] \r\n",
       "E5 - -:|> E8 [[psysml:6ff88c17-8c2d-42a4-af32-a2455d6f0acf ]] \r\n",
       "E8 o- - E3 [[psysml:83dfbdb9-73af-4dff-b5ad-52a21a738594 ]] : y\r\n",
       "E8 o- - E6 [[psysml:83dfbdb9-73af-4dff-b5ad-52a21a738594 ]] : y\r\n",
       "}\r\n",
       "@enduml\r\n",
       "\n",
       "PlantUML version 1.2020.13(Sat Jun 13 12:26:38 UTC 2020)\n",
       "(EPL source distribution)\n",
       "Java Runtime: OpenJDK Runtime Environment\n",
       "JVM: OpenJDK 64-Bit Server VM\n",
       "Default Encoding: UTF-8\n",
       "Language: en\n",
       "Country: null\n",
       "--></g></svg>"
      ]
     },
     "execution_count": 57,
     "metadata": {},
     "output_type": "execute_result"
    }
   ],
   "source": [
    "%viz --style=\"ORTHOLINE\" --view=\"MIXED\" \"ItemTest\""
   ]
  }
 ],
 "metadata": {
  "kernelspec": {
   "display_name": "SysML",
   "language": "sysml",
   "name": "sysml"
  },
  "language_info": {
   "codemirror_mode": "sysml",
   "file_extension": ".sysml",
   "mimetype": "text/x-sysml",
   "name": "SysML",
   "pygments_lexer": "java",
   "version": "1.0.0"
  }
 },
 "nbformat": 4,
 "nbformat_minor": 5
}
