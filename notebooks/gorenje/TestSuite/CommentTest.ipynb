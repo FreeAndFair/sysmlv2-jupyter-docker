{
 "cells": [
  {
   "cell_type": "markdown",
   "id": "4165a572",
   "metadata": {},
   "source": [
    "# SysML v2 Test Suite\n",
    "\n",
    "This can notebook can be cleared using menu `Edit --> Clear All Outputs` and then all cells can be\n",
    "run using menu `Run --> Run All Cells`.\n",
    "\n",
    "**WARNING**: This file is generated, all modifications here will be ignored.\n"
   ]
  },
  {
   "cell_type": "markdown",
   "id": "a3852577",
   "metadata": {},
   "source": [
    "## File: ../../sysml/src/examples/Simple Tests/CommentTest.sysml"
   ]
  },
  {
   "cell_type": "code",
   "execution_count": 1,
   "id": "003e13ee",
   "metadata": {
    "execution": {
     "iopub.execute_input": "2024-12-16T14:19:56.139426Z",
     "iopub.status.busy": "2024-12-16T14:19:56.139077Z",
     "iopub.status.idle": "2024-12-16T14:19:56.313494Z",
     "shell.execute_reply": "2024-12-16T14:19:56.313201Z"
    }
   },
   "outputs": [
    {
     "data": {
      "text/plain": [
       "Comment (3613892c-445c-4ef7-83bd-6bb616586273)\n",
       "Package CommentTest (e143f152-9936-42d3-bf98-b9e295059dfd)\n"
      ]
     },
     "execution_count": 1,
     "metadata": {},
     "output_type": "execute_result"
    }
   ],
   "source": [
    "  /* AAA */\n",
    "  //a lexical comment (\"note\") is not a part of model\n",
    "package CommentTest {\n",
    "\t// inside package\n",
    "\t/*\n",
    "*AAA\n",
    " * BBB*/\t\n",
    " /*\n",
    "    *\n",
    "    *\n",
    "    * AAA  ***   \n",
    "    *BBB\n",
    "    \t\t\t\t\t\t\t\t*/\n",
    "\n",
    "   /*\n",
    " *       AAAA\n",
    " *       BBBB           */\t\n",
    " /* AAAA\n",
    " \n",
    " \n",
    "  * BBBB\n",
    " *\n",
    " * CCCC\n",
    " */\n",
    " locale \"en_US\" /*\n",
    " * AAAA\n",
    " * BBBB\n",
    " *    CCC DDD    \n",
    " */\n",
    "\t\n",
    "\t/* comment inside a package */\n",
    "\tdoc locale \"en_US\" /* Documentation about Package */\n",
    "\tcomment cmt /* Named Comment */\t\n",
    "\tcomment cmt_cmt about cmt /* Comment about Comment */\n",
    "\t\n",
    "\tcomment about C /* Documention Comment about Part Def */\n",
    "\tpart def C {\n",
    "\t\tdoc /* Documentation in Part Def */\n",
    "\t\tcomment /* Comment in Part Def */\n",
    "\t\tcomment about CommentTest locale \"en_US\" /* Comment about Package */\n",
    "\t}\n",
    "\t/* abc */\n",
    "\tpart def A;\n",
    "}"
   ]
  }
 ],
 "metadata": {
  "kernelspec": {
   "display_name": "SysML",
   "language": "sysml",
   "name": "sysml"
  },
  "language_info": {
   "codemirror_mode": "sysml",
   "file_extension": ".sysml",
   "mimetype": "text/x-sysml",
   "name": "SysML",
   "pygments_lexer": "java",
   "version": "1.0.0"
  }
 },
 "nbformat": 4,
 "nbformat_minor": 5
}
