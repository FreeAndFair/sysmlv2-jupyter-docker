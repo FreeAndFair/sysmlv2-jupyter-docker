{
 "cells": [
  {
   "cell_type": "markdown",
   "id": "civil-destination",
   "metadata": {},
   "source": [
    "# SysML v2 Test Suite\n",
    "\n",
    "This can notebook can be cleared using menu `Edit --> Clear All Outputs` and then all cells can be\n",
    "run using menu `Run --> Run All Cells`.\n",
    "\n",
    "**WARNING**: This file is generated, all modifications here will be ignored.\n"
   ]
  },
  {
   "cell_type": "markdown",
   "id": "incorporate-black",
   "metadata": {},
   "source": [
    "## File: ../../sysml/src/examples/Simple Tests/TextualRepresentationTest.sysml"
   ]
  },
  {
   "cell_type": "code",
   "execution_count": 1,
   "id": "cooperative-acquisition",
   "metadata": {
    "execution": {
     "iopub.execute_input": "2021-03-26T15:43:47.042011Z",
     "iopub.status.busy": "2021-03-26T15:43:47.040896Z",
     "iopub.status.idle": "2021-03-26T15:43:47.225854Z",
     "shell.execute_reply": "2021-03-26T15:43:47.225322Z"
    }
   },
   "outputs": [
    {
     "data": {
      "text/plain": [
       "Package TextualRepresentationTest (865aaf8d-9569-4696-97f3-f95e0aa0e368)\n"
      ]
     },
     "execution_count": 1,
     "metadata": {},
     "output_type": "execute_result"
    }
   ],
   "source": [
    "package TextualRepresentationTest {\n",
    "\timport ScalarValues::Real;\n",
    "\t\n",
    "\titem def C {\n",
    "\t    attribute x: Real;\n",
    "\t    assert constraint x_constraint;\n",
    "\t    rep inOCL about x_constraint language \"ocl\" \n",
    "\t        /* self.x > 0.0 */\n",
    "\t}\n",
    "\t\n",
    "\taction def setX(c : C, newX : Real) {\n",
    "\t    language \"alf\" \n",
    "\t        /* c.x = newX;\n",
    "\t         * WriteLine(\"Set new x\");\n",
    "\t         */\n",
    "\t}\n",
    "\t\n",
    "}"
   ]
  },
  {
   "cell_type": "code",
   "execution_count": 2,
   "id": "special-chuck",
   "metadata": {
    "execution": {
     "iopub.execute_input": "2021-03-26T15:43:47.277134Z",
     "iopub.status.busy": "2021-03-26T15:43:47.276787Z",
     "iopub.status.idle": "2021-03-26T15:43:47.866592Z",
     "shell.execute_reply": "2021-03-26T15:43:47.865376Z"
    }
   },
   "outputs": [
    {
     "data": {
      "image/svg+xml": [
       "<?xml version=\"1.0\" encoding=\"UTF-8\" standalone=\"no\"?><svg xmlns=\"http://www.w3.org/2000/svg\" xmlns:xlink=\"http://www.w3.org/1999/xlink\" contentScriptType=\"application/ecmascript\" contentStyleType=\"text/css\" height=\"285px\" preserveAspectRatio=\"none\" style=\"width:432px;height:285px;\" version=\"1.1\" viewBox=\"0 0 432 285\" width=\"432px\" zoomAndPan=\"magnify\"><defs/><g><!--MD5=[fbc87193dbaf4d95561dea2c320d4a47]\n",
       "cluster E1--><a href=\"psysml:13f83e37-e6d2-4a8e-ad71-0c715af430b4\" target=\"_top\" title=\"psysml:13f83e37-e6d2-4a8e-ad71-0c715af430b4\" xlink:actuate=\"onRequest\" xlink:href=\"psysml:13f83e37-e6d2-4a8e-ad71-0c715af430b4\" xlink:show=\"new\" xlink:title=\"psysml:13f83e37-e6d2-4a8e-ad71-0c715af430b4\" xlink:type=\"simple\"><polygon fill=\"#FFFFFF\" points=\"16,6,236,6,243,28.2969,410,28.2969,410,273,16,273,16,6\" style=\"stroke: #000000; stroke-width: 1.5;\"/><line style=\"stroke: #000000; stroke-width: 1.5;\" x1=\"16\" x2=\"243\" y1=\"28.2969\" y2=\"28.2969\"/><text fill=\"#000000\" font-family=\"sans-serif\" font-size=\"14\" font-weight=\"bold\" lengthAdjust=\"spacingAndGlyphs\" textLength=\"214\" x=\"20\" y=\"20.9951\">TextualRepresentationTest</text></a><!--MD5=[de5ec2e2e8f62f467e546659f5068c88]\n",
       "cluster E5--><a href=\"psysml:cbe71c02-e966-4d74-b7c0-f9e238b4431e\" target=\"_top\" title=\"psysml:cbe71c02-e966-4d74-b7c0-f9e238b4431e\" xlink:actuate=\"onRequest\" xlink:href=\"psysml:cbe71c02-e966-4d74-b7c0-f9e238b4431e\" xlink:show=\"new\" xlink:title=\"psysml:cbe71c02-e966-4d74-b7c0-f9e238b4431e\" xlink:type=\"simple\"><rect fill=\"#FFFFFF\" height=\"163.5\" id=\"E5\" style=\"stroke: #383838; stroke-width: 1.5;\" width=\"96\" x=\"268.5\" y=\"93.5\"/><rect fill=\"#F8F8F8\" height=\"37.9375\" style=\"stroke: #383838; stroke-width: 1.5;\" width=\"96\" x=\"268.5\" y=\"93.5\"/><text fill=\"#000000\" font-family=\"sans-serif\" font-size=\"12\" font-style=\"italic\" lengthAdjust=\"spacingAndGlyphs\" textLength=\"77\" x=\"278\" y=\"109.6387\">«action def»</text><text fill=\"#000000\" font-family=\"sans-serif\" font-size=\"12\" lengthAdjust=\"spacingAndGlyphs\" textLength=\"27\" x=\"303\" y=\"123.6074\">setX</text></a><!--MD5=[b4997ac47864f28c2f74865a473b2911]\n",
       "class E2--><a href=\"psysml:168d8746-881d-4018-9dc0-dced1b8b8eb0\" target=\"_top\" title=\"psysml:168d8746-881d-4018-9dc0-dced1b8b8eb0\" xlink:actuate=\"onRequest\" xlink:href=\"psysml:168d8746-881d-4018-9dc0-dced1b8b8eb0\" xlink:show=\"new\" xlink:title=\"psysml:168d8746-881d-4018-9dc0-dced1b8b8eb0\" xlink:type=\"simple\"><rect fill=\"#FFFFFF\" height=\"45.9375\" id=\"E2\" style=\"stroke: #383838; stroke-width: 1.5;\" width=\"74\" x=\"178\" y=\"70.5\"/><text fill=\"#000000\" font-family=\"sans-serif\" font-size=\"12\" font-style=\"italic\" lengthAdjust=\"spacingAndGlyphs\" textLength=\"72\" x=\"179\" y=\"86.6387\">«dataType»</text><text fill=\"#000000\" font-family=\"sans-serif\" font-size=\"12\" lengthAdjust=\"spacingAndGlyphs\" textLength=\"27\" x=\"201.5\" y=\"100.6074\">Real</text><line style=\"stroke: #383838; stroke-width: 1.5;\" x1=\"179\" x2=\"251\" y1=\"108.4375\" y2=\"108.4375\"/></a><!--MD5=[09b614a08d8cba4a07c9adeb5e0fee81]\n",
       "class E3--><a href=\"psysml:fec9e0ab-8313-4a0b-a62a-09c4083c89fd\" target=\"_top\" title=\"psysml:fec9e0ab-8313-4a0b-a62a-09c4083c89fd\" xlink:actuate=\"onRequest\" xlink:href=\"psysml:fec9e0ab-8313-4a0b-a62a-09c4083c89fd\" xlink:show=\"new\" xlink:title=\"psysml:fec9e0ab-8313-4a0b-a62a-09c4083c89fd\" xlink:type=\"simple\"><rect fill=\"#FFFFFF\" height=\"105.1563\" id=\"E3\" style=\"stroke: #383838; stroke-width: 1.5;\" width=\"111\" x=\"31.5\" y=\"41\"/><text fill=\"#000000\" font-family=\"sans-serif\" font-size=\"12\" font-style=\"italic\" lengthAdjust=\"spacingAndGlyphs\" textLength=\"65\" x=\"54.5\" y=\"57.1387\">«item def»</text><text fill=\"#000000\" font-family=\"sans-serif\" font-size=\"12\" lengthAdjust=\"spacingAndGlyphs\" textLength=\"8\" x=\"83\" y=\"71.1074\">C</text><line style=\"stroke: #383838; stroke-width: 1.5;\" x1=\"32.5\" x2=\"141.5\" y1=\"78.9375\" y2=\"78.9375\"/><text fill=\"#000000\" font-family=\"sans-serif\" font-size=\"11\" lengthAdjust=\"spacingAndGlyphs\" textLength=\"38\" x=\"37.5\" y=\"109.9526\">x: Real</text><line style=\"stroke: #383838; stroke-width: 1.0;\" x1=\"32.5\" x2=\"59.5\" y1=\"93.3398\" y2=\"93.3398\"/><text fill=\"#000000\" font-family=\"sans-serif\" font-size=\"11\" lengthAdjust=\"spacingAndGlyphs\" textLength=\"55\" x=\"59.5\" y=\"96.6479\">attributes</text><line style=\"stroke: #383838; stroke-width: 1.0;\" x1=\"114.5\" x2=\"141.5\" y1=\"93.3398\" y2=\"93.3398\"/><text fill=\"#000000\" font-family=\"sans-serif\" font-size=\"11\" lengthAdjust=\"spacingAndGlyphs\" textLength=\"69\" x=\"37.5\" y=\"139.562\">x_constraint</text><line style=\"stroke: #383838; stroke-width: 1.0;\" x1=\"32.5\" x2=\"35.5\" y1=\"122.9492\" y2=\"122.9492\"/><text fill=\"#000000\" font-family=\"sans-serif\" font-size=\"11\" lengthAdjust=\"spacingAndGlyphs\" textLength=\"103\" x=\"35.5\" y=\"126.2573\">assertConstraints</text><line style=\"stroke: #383838; stroke-width: 1.0;\" x1=\"138.5\" x2=\"141.5\" y1=\"122.9492\" y2=\"122.9492\"/></a><text fill=\"#000000\" font-family=\"sans-serif\" font-size=\"14\" lengthAdjust=\"spacingAndGlyphs\" textLength=\"8\" x=\"289\" y=\"72.1982\">c</text><rect fill=\"#383838\" height=\"12\" style=\"stroke: #F8F8F8; stroke-width: 1.5;\" width=\"12\" x=\"287\" y=\"87.5\"/><text fill=\"#000000\" font-family=\"sans-serif\" font-size=\"14\" lengthAdjust=\"spacingAndGlyphs\" textLength=\"38\" x=\"321\" y=\"72.1982\">newX</text><rect fill=\"#383838\" height=\"12\" style=\"stroke: #F8F8F8; stroke-width: 1.5;\" width=\"12\" x=\"334\" y=\"87.5\"/><!--MD5=[5b838c3fc4189728de2306f02fee97e2]\n",
       "@startuml\r\n",
       " skinparam monochrome true\r\n",
       "skinparam classbackgroundcolor white\r\n",
       "skinparam shadowing false\r\n",
       "skinparam wrapWidth 300\r\n",
       "hide circle\r\n",
       "\r\n",
       "package \"TextualRepresentationTest\" as E1  [[psysml:13f83e37-e6d2-4a8e-ad71-0c715af430b4 ]]  {\r\n",
       "comp def \"Real\" as E2  <<(T,blue)dataType>> [[psysml:168d8746-881d-4018-9dc0-dced1b8b8eb0 ]] {\r\n",
       "}\r\n",
       "comp def \"C\" as E3  <<(T,blue)item def>> [[psysml:fec9e0ab-8313-4a0b-a62a-09c4083c89fd ]] {\r\n",
       "- - attributes - -\r\n",
       "x: Real\r\n",
       "- - assertConstraints - -\r\n",
       "x_constraint\r\n",
       "}\r\n",
       "rec def \"setX\" as E5  <<(T,blue)action def>> [[psysml:cbe71c02-e966-4d74-b7c0-f9e238b4431e ]] {\r\n",
       "portin \"c\" as E6  [[psysml:bf3dbcd8-0bef-4e93-82b9-0b5a37397746 ]] \r\n",
       "portin \"newX\" as E7  [[psysml:0934341b-2e16-4f4c-9ea0-e4fb5c660a0a ]] \r\n",
       "}\r\n",
       "\r\n",
       "}\r\n",
       "@enduml\r\n",
       "\n",
       "PlantUML version 1.2020.13(Sat Jun 13 12:26:38 UTC 2020)\n",
       "(EPL source distribution)\n",
       "Java Runtime: OpenJDK Runtime Environment\n",
       "JVM: OpenJDK 64-Bit Server VM\n",
       "Default Encoding: UTF-8\n",
       "Language: en\n",
       "Country: null\n",
       "--></g></svg>"
      ]
     },
     "execution_count": 2,
     "metadata": {},
     "output_type": "execute_result"
    }
   ],
   "source": [
    "%viz --style=\"COMPTREE\" --view=\"Default\" \"TextualRepresentationTest\""
   ]
  },
  {
   "cell_type": "code",
   "execution_count": 3,
   "id": "stuck-chuck",
   "metadata": {
    "execution": {
     "iopub.execute_input": "2021-03-26T15:43:47.918023Z",
     "iopub.status.busy": "2021-03-26T15:43:47.917570Z",
     "iopub.status.idle": "2021-03-26T15:43:48.007809Z",
     "shell.execute_reply": "2021-03-26T15:43:48.006563Z"
    }
   },
   "outputs": [
    {
     "data": {
      "image/svg+xml": [
       "<?xml version=\"1.0\" encoding=\"UTF-8\" standalone=\"no\"?><svg xmlns=\"http://www.w3.org/2000/svg\" xmlns:xlink=\"http://www.w3.org/1999/xlink\" contentScriptType=\"application/ecmascript\" contentStyleType=\"text/css\" height=\"297px\" preserveAspectRatio=\"none\" style=\"width:290px;height:297px;\" version=\"1.1\" viewBox=\"0 0 290 297\" width=\"290px\" zoomAndPan=\"magnify\"><defs/><g><!--MD5=[fbc87193dbaf4d95561dea2c320d4a47]\n",
       "cluster E1--><a href=\"psysml:13f83e37-e6d2-4a8e-ad71-0c715af430b4\" target=\"_top\" title=\"psysml:13f83e37-e6d2-4a8e-ad71-0c715af430b4\" xlink:actuate=\"onRequest\" xlink:href=\"psysml:13f83e37-e6d2-4a8e-ad71-0c715af430b4\" xlink:show=\"new\" xlink:title=\"psysml:13f83e37-e6d2-4a8e-ad71-0c715af430b4\" xlink:type=\"simple\"><polygon fill=\"#FFFFFF\" points=\"16,6,236,6,243,28.2969,268,28.2969,268,285,16,285,16,6\" style=\"stroke: #000000; stroke-width: 1.5;\"/><line style=\"stroke: #000000; stroke-width: 1.5;\" x1=\"16\" x2=\"243\" y1=\"28.2969\" y2=\"28.2969\"/><text fill=\"#000000\" font-family=\"sans-serif\" font-size=\"14\" font-weight=\"bold\" lengthAdjust=\"spacingAndGlyphs\" textLength=\"214\" x=\"20\" y=\"20.9951\">TextualRepresentationTest</text></a><!--MD5=[b4997ac47864f28c2f74865a473b2911]\n",
       "class E2--><a href=\"psysml:168d8746-881d-4018-9dc0-dced1b8b8eb0\" target=\"_top\" title=\"psysml:168d8746-881d-4018-9dc0-dced1b8b8eb0\" xlink:actuate=\"onRequest\" xlink:href=\"psysml:168d8746-881d-4018-9dc0-dced1b8b8eb0\" xlink:show=\"new\" xlink:title=\"psysml:168d8746-881d-4018-9dc0-dced1b8b8eb0\" xlink:type=\"simple\"><rect fill=\"#FFFFFF\" height=\"45.9375\" id=\"E2\" style=\"stroke: #383838; stroke-width: 1.5;\" width=\"74\" x=\"32\" y=\"193.5\"/><text fill=\"#000000\" font-family=\"sans-serif\" font-size=\"12\" font-style=\"italic\" lengthAdjust=\"spacingAndGlyphs\" textLength=\"72\" x=\"33\" y=\"209.6387\">«dataType»</text><text fill=\"#000000\" font-family=\"sans-serif\" font-size=\"12\" lengthAdjust=\"spacingAndGlyphs\" textLength=\"27\" x=\"55.5\" y=\"223.6074\">Real</text><line style=\"stroke: #383838; stroke-width: 1.5;\" x1=\"33\" x2=\"105\" y1=\"231.4375\" y2=\"231.4375\"/></a><!--MD5=[09b614a08d8cba4a07c9adeb5e0fee81]\n",
       "class E3--><a href=\"psysml:fec9e0ab-8313-4a0b-a62a-09c4083c89fd\" target=\"_top\" title=\"psysml:fec9e0ab-8313-4a0b-a62a-09c4083c89fd\" xlink:actuate=\"onRequest\" xlink:href=\"psysml:fec9e0ab-8313-4a0b-a62a-09c4083c89fd\" xlink:show=\"new\" xlink:title=\"psysml:fec9e0ab-8313-4a0b-a62a-09c4083c89fd\" xlink:type=\"simple\"><rect fill=\"#FFFFFF\" height=\"105.1563\" id=\"E3\" style=\"stroke: #383838; stroke-width: 1.5;\" width=\"111\" x=\"141.5\" y=\"164\"/><text fill=\"#000000\" font-family=\"sans-serif\" font-size=\"12\" font-style=\"italic\" lengthAdjust=\"spacingAndGlyphs\" textLength=\"65\" x=\"164.5\" y=\"180.1387\">«item def»</text><text fill=\"#000000\" font-family=\"sans-serif\" font-size=\"12\" lengthAdjust=\"spacingAndGlyphs\" textLength=\"8\" x=\"193\" y=\"194.1074\">C</text><line style=\"stroke: #383838; stroke-width: 1.5;\" x1=\"142.5\" x2=\"251.5\" y1=\"201.9375\" y2=\"201.9375\"/><text fill=\"#000000\" font-family=\"sans-serif\" font-size=\"11\" lengthAdjust=\"spacingAndGlyphs\" textLength=\"38\" x=\"147.5\" y=\"232.9526\">x: Real</text><line style=\"stroke: #383838; stroke-width: 1.0;\" x1=\"142.5\" x2=\"169.5\" y1=\"216.3398\" y2=\"216.3398\"/><text fill=\"#000000\" font-family=\"sans-serif\" font-size=\"11\" lengthAdjust=\"spacingAndGlyphs\" textLength=\"55\" x=\"169.5\" y=\"219.6479\">attributes</text><line style=\"stroke: #383838; stroke-width: 1.0;\" x1=\"224.5\" x2=\"251.5\" y1=\"216.3398\" y2=\"216.3398\"/><text fill=\"#000000\" font-family=\"sans-serif\" font-size=\"11\" lengthAdjust=\"spacingAndGlyphs\" textLength=\"69\" x=\"147.5\" y=\"262.562\">x_constraint</text><line style=\"stroke: #383838; stroke-width: 1.0;\" x1=\"142.5\" x2=\"145.5\" y1=\"245.9492\" y2=\"245.9492\"/><text fill=\"#000000\" font-family=\"sans-serif\" font-size=\"11\" lengthAdjust=\"spacingAndGlyphs\" textLength=\"103\" x=\"145.5\" y=\"249.2573\">assertConstraints</text><line style=\"stroke: #383838; stroke-width: 1.0;\" x1=\"248.5\" x2=\"251.5\" y1=\"245.9492\" y2=\"245.9492\"/></a><!--MD5=[270fce915f116d4de14055a7c1d9a0f3]\n",
       "class E5--><a href=\"psysml:cbe71c02-e966-4d74-b7c0-f9e238b4431e\" target=\"_top\" title=\"psysml:cbe71c02-e966-4d74-b7c0-f9e238b4431e\" xlink:actuate=\"onRequest\" xlink:href=\"psysml:cbe71c02-e966-4d74-b7c0-f9e238b4431e\" xlink:show=\"new\" xlink:title=\"psysml:cbe71c02-e966-4d74-b7c0-f9e238b4431e\" xlink:type=\"simple\"><rect fill=\"#FFFFFF\" height=\"45.9375\" id=\"E5\" style=\"stroke: #383838; stroke-width: 1.5;\" width=\"79\" x=\"67.5\" y=\"41\"/><text fill=\"#000000\" font-family=\"sans-serif\" font-size=\"12\" font-style=\"italic\" lengthAdjust=\"spacingAndGlyphs\" textLength=\"77\" x=\"68.5\" y=\"57.1387\">«action def»</text><text fill=\"#000000\" font-family=\"sans-serif\" font-size=\"12\" lengthAdjust=\"spacingAndGlyphs\" textLength=\"27\" x=\"93.5\" y=\"71.1074\">setX</text><line style=\"stroke: #383838; stroke-width: 1.5;\" x1=\"68.5\" x2=\"145.5\" y1=\"78.9375\" y2=\"78.9375\"/></a><!--MD5=[6f107eb264eda4b26325f39a5516f1f3]\n",
       "reverse link E5 to E3--><a href=\"psysml:bf3dbcd8-0bef-4e93-82b9-0b5a37397746\" target=\"_top\" title=\"psysml:bf3dbcd8-0bef-4e93-82b9-0b5a37397746\" xlink:actuate=\"onRequest\" xlink:href=\"psysml:bf3dbcd8-0bef-4e93-82b9-0b5a37397746\" xlink:show=\"new\" xlink:title=\"psysml:bf3dbcd8-0bef-4e93-82b9-0b5a37397746\" xlink:type=\"simple\"><path d=\"M126.98,98.42 C138.48,117.65 153.18,142.22 166.13,163.88 \" fill=\"none\" id=\"E5&lt;-E3\" style=\"stroke: #383838; stroke-width: 1.0;\"/><polygon fill=\"#FFFFFF\" points=\"120.28,87.21,119.9261,94.4124,126.4384,97.5092,126.7923,90.3068,120.28,87.21\" style=\"stroke: #383838; stroke-width: 1.0;\"/><text fill=\"#000000\" font-family=\"sans-serif\" font-size=\"13\" lengthAdjust=\"spacingAndGlyphs\" textLength=\"7\" x=\"147\" y=\"130.0669\">c</text></a><!--MD5=[f51c6d1f1856fe338ac0413483fb1ccf]\n",
       "reverse link E5 to E2--><a href=\"psysml:0934341b-2e16-4f4c-9ea0-e4fb5c660a0a\" target=\"_top\" title=\"psysml:0934341b-2e16-4f4c-9ea0-e4fb5c660a0a\" xlink:actuate=\"onRequest\" xlink:href=\"psysml:0934341b-2e16-4f4c-9ea0-e4fb5c660a0a\" xlink:show=\"new\" xlink:title=\"psysml:0934341b-2e16-4f4c-9ea0-e4fb5c660a0a\" xlink:type=\"simple\"><path d=\"M98.18,99.93 C90.92,128.69 80.84,168.6 74.63,193.2 \" fill=\"none\" id=\"E5&lt;-E2\" style=\"stroke: #383838; stroke-width: 1.0;\"/><polygon fill=\"#FFFFFF\" points=\"101.39,87.21,96.0413,92.0465,98.4485,98.8439,103.7972,94.0074,101.39,87.21\" style=\"stroke: #383838; stroke-width: 1.0;\"/><text fill=\"#000000\" font-family=\"sans-serif\" font-size=\"13\" lengthAdjust=\"spacingAndGlyphs\" textLength=\"33\" x=\"94\" y=\"130.0669\">newX</text></a><!--MD5=[fa5f86de8970aaed43f0271cb1fa23ab]\n",
       "@startuml\r\n",
       " skinparam monochrome true\r\n",
       "skinparam classbackgroundcolor white\r\n",
       "skinparam shadowing false\r\n",
       "skinparam wrapWidth 300\r\n",
       "hide circle\r\n",
       "\r\n",
       "package \"TextualRepresentationTest\" as E1  [[psysml:13f83e37-e6d2-4a8e-ad71-0c715af430b4 ]]  {\r\n",
       "comp def \"Real\" as E2  <<(T,blue)dataType>> [[psysml:168d8746-881d-4018-9dc0-dced1b8b8eb0 ]] {\r\n",
       "}\r\n",
       "comp def \"C\" as E3  <<(T,blue)item def>> [[psysml:fec9e0ab-8313-4a0b-a62a-09c4083c89fd ]] {\r\n",
       "- - attributes - -\r\n",
       "x: Real\r\n",
       "- - assertConstraints - -\r\n",
       "x_constraint\r\n",
       "}\r\n",
       "comp def \"setX\" as E5  <<(T,blue)action def>> [[psysml:cbe71c02-e966-4d74-b7c0-f9e238b4431e ]] {\r\n",
       "}\r\n",
       "E5 o- - E3 [[psysml:bf3dbcd8-0bef-4e93-82b9-0b5a37397746 ]] : c\r\n",
       "E5 o- - E2 [[psysml:0934341b-2e16-4f4c-9ea0-e4fb5c660a0a ]] : newX\r\n",
       "}\r\n",
       "@enduml\r\n",
       "\n",
       "PlantUML version 1.2020.13(Sat Jun 13 12:26:38 UTC 2020)\n",
       "(EPL source distribution)\n",
       "Java Runtime: OpenJDK Runtime Environment\n",
       "JVM: OpenJDK 64-Bit Server VM\n",
       "Default Encoding: UTF-8\n",
       "Language: en\n",
       "Country: null\n",
       "--></g></svg>"
      ]
     },
     "execution_count": 3,
     "metadata": {},
     "output_type": "execute_result"
    }
   ],
   "source": [
    "%viz --style=\"COMPTREE\" --view=\"Tree\" \"TextualRepresentationTest\""
   ]
  },
  {
   "cell_type": "code",
   "execution_count": 4,
   "id": "structured-curtis",
   "metadata": {
    "execution": {
     "iopub.execute_input": "2021-03-26T15:43:48.060714Z",
     "iopub.status.busy": "2021-03-26T15:43:48.060096Z",
     "iopub.status.idle": "2021-03-26T15:43:48.069883Z",
     "shell.execute_reply": "2021-03-26T15:43:48.070250Z"
    }
   },
   "outputs": [
    {
     "data": {
      "image/svg+xml": [
       "<?xml version=\"1.0\" encoding=\"UTF-8\" standalone=\"no\"?><svg xmlns=\"http://www.w3.org/2000/svg\" xmlns:xlink=\"http://www.w3.org/1999/xlink\" contentScriptType=\"application/ecmascript\" contentStyleType=\"text/css\" height=\"12px\" preserveAspectRatio=\"none\" style=\"width:12px;height:12px;\" version=\"1.1\" viewBox=\"0 0 12 12\" width=\"12px\" zoomAndPan=\"magnify\"><defs/><g><!--MD5=[f19188ef49e11757b5c46753f95d9edc]\n",
       "@startuml\r\n",
       " skinparam monochrome true\r\n",
       "skinparam classbackgroundcolor white\r\n",
       "skinparam shadowing false\r\n",
       "skinparam wrapWidth 300\r\n",
       "hide circle\r\n",
       "\r\n",
       "@enduml\r\n",
       "\n",
       "PlantUML version 1.2020.13(Sat Jun 13 12:26:38 UTC 2020)\n",
       "(EPL source distribution)\n",
       "Java Runtime: OpenJDK Runtime Environment\n",
       "JVM: OpenJDK 64-Bit Server VM\n",
       "Default Encoding: UTF-8\n",
       "Language: en\n",
       "Country: null\n",
       "--></g></svg>"
      ]
     },
     "execution_count": 4,
     "metadata": {},
     "output_type": "execute_result"
    }
   ],
   "source": [
    "%viz --style=\"COMPTREE\" --view=\"State\" \"TextualRepresentationTest\""
   ]
  },
  {
   "cell_type": "code",
   "execution_count": 5,
   "id": "native-english",
   "metadata": {
    "execution": {
     "iopub.execute_input": "2021-03-26T15:43:48.122907Z",
     "iopub.status.busy": "2021-03-26T15:43:48.122229Z",
     "iopub.status.idle": "2021-03-26T15:43:48.172583Z",
     "shell.execute_reply": "2021-03-26T15:43:48.172938Z"
    }
   },
   "outputs": [
    {
     "data": {
      "image/svg+xml": [
       "<?xml version=\"1.0\" encoding=\"UTF-8\" standalone=\"no\"?><svg xmlns=\"http://www.w3.org/2000/svg\" xmlns:xlink=\"http://www.w3.org/1999/xlink\" contentScriptType=\"application/ecmascript\" contentStyleType=\"text/css\" height=\"179px\" preserveAspectRatio=\"none\" style=\"width:398px;height:179px;\" version=\"1.1\" viewBox=\"0 0 398 179\" width=\"398px\" zoomAndPan=\"magnify\"><defs/><g><!--MD5=[fbc87193dbaf4d95561dea2c320d4a47]\n",
       "cluster E1--><a href=\"psysml:13f83e37-e6d2-4a8e-ad71-0c715af430b4\" target=\"_top\" title=\"psysml:13f83e37-e6d2-4a8e-ad71-0c715af430b4\" xlink:actuate=\"onRequest\" xlink:href=\"psysml:13f83e37-e6d2-4a8e-ad71-0c715af430b4\" xlink:show=\"new\" xlink:title=\"psysml:13f83e37-e6d2-4a8e-ad71-0c715af430b4\" xlink:type=\"simple\"><polygon fill=\"#FFFFFF\" points=\"16,6,236,6,243,28.2969,376,28.2969,376,167,16,167,16,6\" style=\"stroke: #000000; stroke-width: 1.5;\"/><line style=\"stroke: #000000; stroke-width: 1.5;\" x1=\"16\" x2=\"243\" y1=\"28.2969\" y2=\"28.2969\"/><text fill=\"#000000\" font-family=\"sans-serif\" font-size=\"14\" font-weight=\"bold\" lengthAdjust=\"spacingAndGlyphs\" textLength=\"214\" x=\"20\" y=\"20.9951\">TextualRepresentationTest</text></a><!--MD5=[f6df4d0ebaf0b5dfb2ced0ae5af7c670]\n",
       "cluster E4--><a href=\"psysml:cbe71c02-e966-4d74-b7c0-f9e238b4431e\" target=\"_top\" title=\"psysml:cbe71c02-e966-4d74-b7c0-f9e238b4431e\" xlink:actuate=\"onRequest\" xlink:href=\"psysml:cbe71c02-e966-4d74-b7c0-f9e238b4431e\" xlink:show=\"new\" xlink:title=\"psysml:cbe71c02-e966-4d74-b7c0-f9e238b4431e\" xlink:type=\"simple\"><rect fill=\"#FFFFFF\" height=\"88.5\" id=\"E4\" style=\"stroke: #383838; stroke-width: 1.5;\" width=\"96\" x=\"235.5\" y=\"62.5\"/><rect fill=\"#F8F8F8\" height=\"37.9375\" style=\"stroke: #383838; stroke-width: 1.5;\" width=\"96\" x=\"235.5\" y=\"62.5\"/><text fill=\"#000000\" font-family=\"sans-serif\" font-size=\"12\" font-style=\"italic\" lengthAdjust=\"spacingAndGlyphs\" textLength=\"77\" x=\"245\" y=\"78.6387\">«action def»</text><text fill=\"#000000\" font-family=\"sans-serif\" font-size=\"12\" lengthAdjust=\"spacingAndGlyphs\" textLength=\"27\" x=\"270\" y=\"92.6074\">setX</text></a><g id=\"E1.E2\"><a href=\"psysml:168d8746-881d-4018-9dc0-dced1b8b8eb0\" target=\"_top\" title=\"psysml:168d8746-881d-4018-9dc0-dced1b8b8eb0\" xlink:actuate=\"onRequest\" xlink:href=\"psysml:168d8746-881d-4018-9dc0-dced1b8b8eb0\" xlink:show=\"new\" xlink:title=\"psysml:168d8746-881d-4018-9dc0-dced1b8b8eb0\" xlink:type=\"simple\"><rect fill=\"#FFFFFF\" height=\"42.9375\" id=\"E2\" style=\"stroke: #383838; stroke-width: 1.5;\" width=\"79\" x=\"139.5\" y=\"41\"/><rect fill=\"#F8F8F8\" height=\"37.9375\" style=\"stroke: #383838; stroke-width: 1.5;\" width=\"79\" x=\"139.5\" y=\"41\"/><text fill=\"#000000\" font-family=\"sans-serif\" font-size=\"12\" font-style=\"italic\" lengthAdjust=\"spacingAndGlyphs\" textLength=\"72\" x=\"143\" y=\"57.1387\">«dataType»</text><text fill=\"#000000\" font-family=\"sans-serif\" font-size=\"12\" lengthAdjust=\"spacingAndGlyphs\" textLength=\"27\" x=\"165.5\" y=\"71.1074\">Real</text></a></g><g id=\"E1.E3\"><a href=\"psysml:fec9e0ab-8313-4a0b-a62a-09c4083c89fd\" target=\"_top\" title=\"psysml:fec9e0ab-8313-4a0b-a62a-09c4083c89fd\" xlink:actuate=\"onRequest\" xlink:href=\"psysml:fec9e0ab-8313-4a0b-a62a-09c4083c89fd\" xlink:show=\"new\" xlink:title=\"psysml:fec9e0ab-8313-4a0b-a62a-09c4083c89fd\" xlink:type=\"simple\"><rect fill=\"#FFFFFF\" height=\"42.9375\" id=\"E3\" style=\"stroke: #383838; stroke-width: 1.5;\" width=\"72\" x=\"32\" y=\"41\"/><rect fill=\"#F8F8F8\" height=\"37.9375\" style=\"stroke: #383838; stroke-width: 1.5;\" width=\"72\" x=\"32\" y=\"41\"/><text fill=\"#000000\" font-family=\"sans-serif\" font-size=\"12\" font-style=\"italic\" lengthAdjust=\"spacingAndGlyphs\" textLength=\"65\" x=\"35.5\" y=\"57.1387\">«item def»</text><text fill=\"#000000\" font-family=\"sans-serif\" font-size=\"12\" lengthAdjust=\"spacingAndGlyphs\" textLength=\"8\" x=\"64\" y=\"71.1074\">C</text></a></g><text fill=\"#000000\" font-family=\"sans-serif\" font-size=\"14\" lengthAdjust=\"spacingAndGlyphs\" textLength=\"8\" x=\"256\" y=\"41.1982\">c</text><rect fill=\"#383838\" height=\"12\" style=\"stroke: #F8F8F8; stroke-width: 1.5;\" width=\"12\" x=\"254\" y=\"56.5\"/><text fill=\"#000000\" font-family=\"sans-serif\" font-size=\"14\" lengthAdjust=\"spacingAndGlyphs\" textLength=\"38\" x=\"288\" y=\"41.1982\">newX</text><rect fill=\"#383838\" height=\"12\" style=\"stroke: #F8F8F8; stroke-width: 1.5;\" width=\"12\" x=\"301\" y=\"56.5\"/><!--MD5=[2fefa66ce6c7aa013125bcbe0e4e1246]\n",
       "@startuml\r\n",
       "skinparam ranksep 10\r\n",
       "skinparam rectangle {\r\n",
       " backgroundColor<<block>> LightGreen\r\n",
       "}\r\n",
       " skinparam monochrome true\r\n",
       "skinparam classbackgroundcolor white\r\n",
       "skinparam shadowing false\r\n",
       "skinparam wrapWidth 300\r\n",
       "hide circle\r\n",
       "\r\n",
       "package \"TextualRepresentationTest\" as E1  [[psysml:13f83e37-e6d2-4a8e-ad71-0c715af430b4 ]]  {\r\n",
       "def \"Real\" as E2  <<(T,blue)dataType>> [[psysml:168d8746-881d-4018-9dc0-dced1b8b8eb0 ]] \r\n",
       "def \"C\" as E3  <<(T,blue)item def>> [[psysml:fec9e0ab-8313-4a0b-a62a-09c4083c89fd ]] \r\n",
       "rec def \"setX\" as E4  <<(T,blue)action def>> [[psysml:cbe71c02-e966-4d74-b7c0-f9e238b4431e ]] {\r\n",
       "portin \"c\" as E5  [[psysml:bf3dbcd8-0bef-4e93-82b9-0b5a37397746 ]] \r\n",
       "portin \"newX\" as E6  [[psysml:0934341b-2e16-4f4c-9ea0-e4fb5c660a0a ]] \r\n",
       "}\r\n",
       "\r\n",
       "}\r\n",
       "@enduml\r\n",
       "\n",
       "PlantUML version 1.2020.13(Sat Jun 13 12:26:38 UTC 2020)\n",
       "(EPL source distribution)\n",
       "Java Runtime: OpenJDK Runtime Environment\n",
       "JVM: OpenJDK 64-Bit Server VM\n",
       "Default Encoding: UTF-8\n",
       "Language: en\n",
       "Country: null\n",
       "--></g></svg>"
      ]
     },
     "execution_count": 5,
     "metadata": {},
     "output_type": "execute_result"
    }
   ],
   "source": [
    "%viz --style=\"COMPTREE\" --view=\"Interconnection\" \"TextualRepresentationTest\""
   ]
  },
  {
   "cell_type": "code",
   "execution_count": 6,
   "id": "stuffed-eagle",
   "metadata": {
    "execution": {
     "iopub.execute_input": "2021-03-26T15:43:48.225296Z",
     "iopub.status.busy": "2021-03-26T15:43:48.224768Z",
     "iopub.status.idle": "2021-03-26T15:43:48.259886Z",
     "shell.execute_reply": "2021-03-26T15:43:48.259557Z"
    }
   },
   "outputs": [
    {
     "data": {
      "image/svg+xml": [
       "<?xml version=\"1.0\" encoding=\"UTF-8\" standalone=\"no\"?><svg xmlns=\"http://www.w3.org/2000/svg\" xmlns:xlink=\"http://www.w3.org/1999/xlink\" contentScriptType=\"application/ecmascript\" contentStyleType=\"text/css\" height=\"126px\" preserveAspectRatio=\"none\" style=\"width:150px;height:126px;\" version=\"1.1\" viewBox=\"0 0 150 126\" width=\"150px\" zoomAndPan=\"magnify\"><defs/><g><!--MD5=[fbc87193dbaf4d95561dea2c320d4a47]\n",
       "cluster E1--><a href=\"psysml:cbe71c02-e966-4d74-b7c0-f9e238b4431e\" target=\"_top\" title=\"psysml:cbe71c02-e966-4d74-b7c0-f9e238b4431e\" xlink:actuate=\"onRequest\" xlink:href=\"psysml:cbe71c02-e966-4d74-b7c0-f9e238b4431e\" xlink:show=\"new\" xlink:title=\"psysml:cbe71c02-e966-4d74-b7c0-f9e238b4431e\" xlink:type=\"simple\"><rect fill=\"#FFFFFF\" height=\"73\" id=\"E1\" style=\"stroke: #383838; stroke-width: 1.5;\" width=\"132\" x=\"7\" y=\"42.0986\"/><rect fill=\"#F8F8F8\" height=\"37.9375\" style=\"stroke: #383838; stroke-width: 1.5;\" width=\"132\" x=\"7\" y=\"42.0986\"/><text fill=\"#000000\" font-family=\"sans-serif\" font-size=\"12\" font-style=\"italic\" lengthAdjust=\"spacingAndGlyphs\" textLength=\"77\" x=\"34.5\" y=\"58.2373\">«action def»</text><text fill=\"#000000\" font-family=\"sans-serif\" font-size=\"12\" lengthAdjust=\"spacingAndGlyphs\" textLength=\"27\" x=\"59.5\" y=\"72.2061\">setX</text></a><text fill=\"#000000\" font-family=\"sans-serif\" font-size=\"14\" lengthAdjust=\"spacingAndGlyphs\" textLength=\"8\" x=\"21\" y=\"20.7969\">c</text><rect fill=\"#383838\" height=\"12\" style=\"stroke: #F8F8F8; stroke-width: 1.5;\" width=\"12\" x=\"19\" y=\"36.0986\"/><text fill=\"#000000\" font-family=\"sans-serif\" font-size=\"14\" lengthAdjust=\"spacingAndGlyphs\" textLength=\"38\" x=\"53\" y=\"20.7969\">newX</text><rect fill=\"#383838\" height=\"12\" style=\"stroke: #F8F8F8; stroke-width: 1.5;\" width=\"12\" x=\"66\" y=\"36.0986\"/><!--MD5=[150099c3e8e204a3aa47c78dd36dafcd]\n",
       "@startuml\r\n",
       "skinparam ranksep 8\r\n",
       " skinparam monochrome true\r\n",
       "skinparam classbackgroundcolor white\r\n",
       "skinparam shadowing false\r\n",
       "skinparam wrapWidth 300\r\n",
       "hide circle\r\n",
       "\r\n",
       "rec def \"setX\" as E1  <<(T,blue)action def>> [[psysml:cbe71c02-e966-4d74-b7c0-f9e238b4431e ]] {\r\n",
       "portin \"c\" as E2  [[psysml:bf3dbcd8-0bef-4e93-82b9-0b5a37397746 ]] \r\n",
       "portin \"newX\" as E3  [[psysml:0934341b-2e16-4f4c-9ea0-e4fb5c660a0a ]] \r\n",
       "}\r\n",
       "\r\n",
       "@enduml\r\n",
       "\n",
       "PlantUML version 1.2020.13(Sat Jun 13 12:26:38 UTC 2020)\n",
       "(EPL source distribution)\n",
       "Java Runtime: OpenJDK Runtime Environment\n",
       "JVM: OpenJDK 64-Bit Server VM\n",
       "Default Encoding: UTF-8\n",
       "Language: en\n",
       "Country: null\n",
       "--></g></svg>"
      ]
     },
     "execution_count": 6,
     "metadata": {},
     "output_type": "execute_result"
    }
   ],
   "source": [
    "%viz --style=\"COMPTREE\" --view=\"Action\" \"TextualRepresentationTest\""
   ]
  },
  {
   "cell_type": "code",
   "execution_count": 7,
   "id": "checked-julian",
   "metadata": {
    "execution": {
     "iopub.execute_input": "2021-03-26T15:43:48.312379Z",
     "iopub.status.busy": "2021-03-26T15:43:48.312025Z",
     "iopub.status.idle": "2021-03-26T15:43:48.384511Z",
     "shell.execute_reply": "2021-03-26T15:43:48.383253Z"
    }
   },
   "outputs": [
    {
     "data": {
      "image/svg+xml": [
       "<?xml version=\"1.0\" encoding=\"UTF-8\" standalone=\"no\"?><svg xmlns=\"http://www.w3.org/2000/svg\" xmlns:xlink=\"http://www.w3.org/1999/xlink\" contentScriptType=\"application/ecmascript\" contentStyleType=\"text/css\" height=\"297px\" preserveAspectRatio=\"none\" style=\"width:290px;height:297px;\" version=\"1.1\" viewBox=\"0 0 290 297\" width=\"290px\" zoomAndPan=\"magnify\"><defs/><g><!--MD5=[fbc87193dbaf4d95561dea2c320d4a47]\n",
       "cluster E1--><a href=\"psysml:13f83e37-e6d2-4a8e-ad71-0c715af430b4\" target=\"_top\" title=\"psysml:13f83e37-e6d2-4a8e-ad71-0c715af430b4\" xlink:actuate=\"onRequest\" xlink:href=\"psysml:13f83e37-e6d2-4a8e-ad71-0c715af430b4\" xlink:show=\"new\" xlink:title=\"psysml:13f83e37-e6d2-4a8e-ad71-0c715af430b4\" xlink:type=\"simple\"><polygon fill=\"#FFFFFF\" points=\"16,6,236,6,243,28.2969,268,28.2969,268,285,16,285,16,6\" style=\"stroke: #000000; stroke-width: 1.5;\"/><line style=\"stroke: #000000; stroke-width: 1.5;\" x1=\"16\" x2=\"243\" y1=\"28.2969\" y2=\"28.2969\"/><text fill=\"#000000\" font-family=\"sans-serif\" font-size=\"14\" font-weight=\"bold\" lengthAdjust=\"spacingAndGlyphs\" textLength=\"214\" x=\"20\" y=\"20.9951\">TextualRepresentationTest</text></a><!--MD5=[b4997ac47864f28c2f74865a473b2911]\n",
       "class E2--><a href=\"psysml:168d8746-881d-4018-9dc0-dced1b8b8eb0\" target=\"_top\" title=\"psysml:168d8746-881d-4018-9dc0-dced1b8b8eb0\" xlink:actuate=\"onRequest\" xlink:href=\"psysml:168d8746-881d-4018-9dc0-dced1b8b8eb0\" xlink:show=\"new\" xlink:title=\"psysml:168d8746-881d-4018-9dc0-dced1b8b8eb0\" xlink:type=\"simple\"><rect fill=\"#FFFFFF\" height=\"45.9375\" id=\"E2\" style=\"stroke: #383838; stroke-width: 1.5;\" width=\"74\" x=\"32\" y=\"193.5\"/><text fill=\"#000000\" font-family=\"sans-serif\" font-size=\"12\" font-style=\"italic\" lengthAdjust=\"spacingAndGlyphs\" textLength=\"72\" x=\"33\" y=\"209.6387\">«dataType»</text><text fill=\"#000000\" font-family=\"sans-serif\" font-size=\"12\" lengthAdjust=\"spacingAndGlyphs\" textLength=\"27\" x=\"55.5\" y=\"223.6074\">Real</text><line style=\"stroke: #383838; stroke-width: 1.5;\" x1=\"33\" x2=\"105\" y1=\"231.4375\" y2=\"231.4375\"/></a><!--MD5=[09b614a08d8cba4a07c9adeb5e0fee81]\n",
       "class E3--><a href=\"psysml:fec9e0ab-8313-4a0b-a62a-09c4083c89fd\" target=\"_top\" title=\"psysml:fec9e0ab-8313-4a0b-a62a-09c4083c89fd\" xlink:actuate=\"onRequest\" xlink:href=\"psysml:fec9e0ab-8313-4a0b-a62a-09c4083c89fd\" xlink:show=\"new\" xlink:title=\"psysml:fec9e0ab-8313-4a0b-a62a-09c4083c89fd\" xlink:type=\"simple\"><rect fill=\"#FFFFFF\" height=\"105.1563\" id=\"E3\" style=\"stroke: #383838; stroke-width: 1.5;\" width=\"111\" x=\"141.5\" y=\"164\"/><text fill=\"#000000\" font-family=\"sans-serif\" font-size=\"12\" font-style=\"italic\" lengthAdjust=\"spacingAndGlyphs\" textLength=\"65\" x=\"164.5\" y=\"180.1387\">«item def»</text><text fill=\"#000000\" font-family=\"sans-serif\" font-size=\"12\" lengthAdjust=\"spacingAndGlyphs\" textLength=\"8\" x=\"193\" y=\"194.1074\">C</text><line style=\"stroke: #383838; stroke-width: 1.5;\" x1=\"142.5\" x2=\"251.5\" y1=\"201.9375\" y2=\"201.9375\"/><text fill=\"#000000\" font-family=\"sans-serif\" font-size=\"11\" lengthAdjust=\"spacingAndGlyphs\" textLength=\"38\" x=\"147.5\" y=\"232.9526\">x: Real</text><line style=\"stroke: #383838; stroke-width: 1.0;\" x1=\"142.5\" x2=\"169.5\" y1=\"216.3398\" y2=\"216.3398\"/><text fill=\"#000000\" font-family=\"sans-serif\" font-size=\"11\" lengthAdjust=\"spacingAndGlyphs\" textLength=\"55\" x=\"169.5\" y=\"219.6479\">attributes</text><line style=\"stroke: #383838; stroke-width: 1.0;\" x1=\"224.5\" x2=\"251.5\" y1=\"216.3398\" y2=\"216.3398\"/><text fill=\"#000000\" font-family=\"sans-serif\" font-size=\"11\" lengthAdjust=\"spacingAndGlyphs\" textLength=\"69\" x=\"147.5\" y=\"262.562\">x_constraint</text><line style=\"stroke: #383838; stroke-width: 1.0;\" x1=\"142.5\" x2=\"145.5\" y1=\"245.9492\" y2=\"245.9492\"/><text fill=\"#000000\" font-family=\"sans-serif\" font-size=\"11\" lengthAdjust=\"spacingAndGlyphs\" textLength=\"103\" x=\"145.5\" y=\"249.2573\">assertConstraints</text><line style=\"stroke: #383838; stroke-width: 1.0;\" x1=\"248.5\" x2=\"251.5\" y1=\"245.9492\" y2=\"245.9492\"/></a><!--MD5=[270fce915f116d4de14055a7c1d9a0f3]\n",
       "class E5--><a href=\"psysml:cbe71c02-e966-4d74-b7c0-f9e238b4431e\" target=\"_top\" title=\"psysml:cbe71c02-e966-4d74-b7c0-f9e238b4431e\" xlink:actuate=\"onRequest\" xlink:href=\"psysml:cbe71c02-e966-4d74-b7c0-f9e238b4431e\" xlink:show=\"new\" xlink:title=\"psysml:cbe71c02-e966-4d74-b7c0-f9e238b4431e\" xlink:type=\"simple\"><rect fill=\"#FFFFFF\" height=\"45.9375\" id=\"E5\" style=\"stroke: #383838; stroke-width: 1.5;\" width=\"79\" x=\"67.5\" y=\"41\"/><text fill=\"#000000\" font-family=\"sans-serif\" font-size=\"12\" font-style=\"italic\" lengthAdjust=\"spacingAndGlyphs\" textLength=\"77\" x=\"68.5\" y=\"57.1387\">«action def»</text><text fill=\"#000000\" font-family=\"sans-serif\" font-size=\"12\" lengthAdjust=\"spacingAndGlyphs\" textLength=\"27\" x=\"93.5\" y=\"71.1074\">setX</text><line style=\"stroke: #383838; stroke-width: 1.5;\" x1=\"68.5\" x2=\"145.5\" y1=\"78.9375\" y2=\"78.9375\"/></a><!--MD5=[6f107eb264eda4b26325f39a5516f1f3]\n",
       "reverse link E5 to E3--><a href=\"psysml:bf3dbcd8-0bef-4e93-82b9-0b5a37397746\" target=\"_top\" title=\"psysml:bf3dbcd8-0bef-4e93-82b9-0b5a37397746\" xlink:actuate=\"onRequest\" xlink:href=\"psysml:bf3dbcd8-0bef-4e93-82b9-0b5a37397746\" xlink:show=\"new\" xlink:title=\"psysml:bf3dbcd8-0bef-4e93-82b9-0b5a37397746\" xlink:type=\"simple\"><path d=\"M126.98,98.42 C138.48,117.65 153.18,142.22 166.13,163.88 \" fill=\"none\" id=\"E5&lt;-E3\" style=\"stroke: #383838; stroke-width: 1.0;\"/><polygon fill=\"#FFFFFF\" points=\"120.28,87.21,119.9261,94.4124,126.4384,97.5092,126.7923,90.3068,120.28,87.21\" style=\"stroke: #383838; stroke-width: 1.0;\"/><text fill=\"#000000\" font-family=\"sans-serif\" font-size=\"13\" lengthAdjust=\"spacingAndGlyphs\" textLength=\"7\" x=\"147\" y=\"130.0669\">c</text></a><!--MD5=[f51c6d1f1856fe338ac0413483fb1ccf]\n",
       "reverse link E5 to E2--><a href=\"psysml:0934341b-2e16-4f4c-9ea0-e4fb5c660a0a\" target=\"_top\" title=\"psysml:0934341b-2e16-4f4c-9ea0-e4fb5c660a0a\" xlink:actuate=\"onRequest\" xlink:href=\"psysml:0934341b-2e16-4f4c-9ea0-e4fb5c660a0a\" xlink:show=\"new\" xlink:title=\"psysml:0934341b-2e16-4f4c-9ea0-e4fb5c660a0a\" xlink:type=\"simple\"><path d=\"M98.18,99.93 C90.92,128.69 80.84,168.6 74.63,193.2 \" fill=\"none\" id=\"E5&lt;-E2\" style=\"stroke: #383838; stroke-width: 1.0;\"/><polygon fill=\"#FFFFFF\" points=\"101.39,87.21,96.0413,92.0465,98.4485,98.8439,103.7972,94.0074,101.39,87.21\" style=\"stroke: #383838; stroke-width: 1.0;\"/><text fill=\"#000000\" font-family=\"sans-serif\" font-size=\"13\" lengthAdjust=\"spacingAndGlyphs\" textLength=\"33\" x=\"94\" y=\"130.0669\">newX</text></a><!--MD5=[fa5f86de8970aaed43f0271cb1fa23ab]\n",
       "@startuml\r\n",
       " skinparam monochrome true\r\n",
       "skinparam classbackgroundcolor white\r\n",
       "skinparam shadowing false\r\n",
       "skinparam wrapWidth 300\r\n",
       "hide circle\r\n",
       "\r\n",
       "package \"TextualRepresentationTest\" as E1  [[psysml:13f83e37-e6d2-4a8e-ad71-0c715af430b4 ]]  {\r\n",
       "comp def \"Real\" as E2  <<(T,blue)dataType>> [[psysml:168d8746-881d-4018-9dc0-dced1b8b8eb0 ]] {\r\n",
       "}\r\n",
       "comp def \"C\" as E3  <<(T,blue)item def>> [[psysml:fec9e0ab-8313-4a0b-a62a-09c4083c89fd ]] {\r\n",
       "- - attributes - -\r\n",
       "x: Real\r\n",
       "- - assertConstraints - -\r\n",
       "x_constraint\r\n",
       "}\r\n",
       "comp def \"setX\" as E5  <<(T,blue)action def>> [[psysml:cbe71c02-e966-4d74-b7c0-f9e238b4431e ]] {\r\n",
       "}\r\n",
       "E5 o- - E3 [[psysml:bf3dbcd8-0bef-4e93-82b9-0b5a37397746 ]] : c\r\n",
       "E5 o- - E2 [[psysml:0934341b-2e16-4f4c-9ea0-e4fb5c660a0a ]] : newX\r\n",
       "}\r\n",
       "@enduml\r\n",
       "\n",
       "PlantUML version 1.2020.13(Sat Jun 13 12:26:38 UTC 2020)\n",
       "(EPL source distribution)\n",
       "Java Runtime: OpenJDK Runtime Environment\n",
       "JVM: OpenJDK 64-Bit Server VM\n",
       "Default Encoding: UTF-8\n",
       "Language: en\n",
       "Country: null\n",
       "--></g></svg>"
      ]
     },
     "execution_count": 7,
     "metadata": {},
     "output_type": "execute_result"
    }
   ],
   "source": [
    "%viz --style=\"COMPTREE\" --view=\"Sequence\" \"TextualRepresentationTest\""
   ]
  },
  {
   "cell_type": "code",
   "execution_count": 8,
   "id": "powered-stomach",
   "metadata": {
    "execution": {
     "iopub.execute_input": "2021-03-26T15:43:48.435791Z",
     "iopub.status.busy": "2021-03-26T15:43:48.435202Z",
     "iopub.status.idle": "2021-03-26T15:43:48.506498Z",
     "shell.execute_reply": "2021-03-26T15:43:48.506890Z"
    }
   },
   "outputs": [
    {
     "data": {
      "image/svg+xml": [
       "<?xml version=\"1.0\" encoding=\"UTF-8\" standalone=\"no\"?><svg xmlns=\"http://www.w3.org/2000/svg\" xmlns:xlink=\"http://www.w3.org/1999/xlink\" contentScriptType=\"application/ecmascript\" contentStyleType=\"text/css\" height=\"285px\" preserveAspectRatio=\"none\" style=\"width:432px;height:285px;\" version=\"1.1\" viewBox=\"0 0 432 285\" width=\"432px\" zoomAndPan=\"magnify\"><defs/><g><!--MD5=[fbc87193dbaf4d95561dea2c320d4a47]\n",
       "cluster E1--><a href=\"psysml:13f83e37-e6d2-4a8e-ad71-0c715af430b4\" target=\"_top\" title=\"psysml:13f83e37-e6d2-4a8e-ad71-0c715af430b4\" xlink:actuate=\"onRequest\" xlink:href=\"psysml:13f83e37-e6d2-4a8e-ad71-0c715af430b4\" xlink:show=\"new\" xlink:title=\"psysml:13f83e37-e6d2-4a8e-ad71-0c715af430b4\" xlink:type=\"simple\"><polygon fill=\"#FFFFFF\" points=\"16,6,236,6,243,28.2969,410,28.2969,410,273,16,273,16,6\" style=\"stroke: #000000; stroke-width: 1.5;\"/><line style=\"stroke: #000000; stroke-width: 1.5;\" x1=\"16\" x2=\"243\" y1=\"28.2969\" y2=\"28.2969\"/><text fill=\"#000000\" font-family=\"sans-serif\" font-size=\"14\" font-weight=\"bold\" lengthAdjust=\"spacingAndGlyphs\" textLength=\"214\" x=\"20\" y=\"20.9951\">TextualRepresentationTest</text></a><!--MD5=[de5ec2e2e8f62f467e546659f5068c88]\n",
       "cluster E5--><a href=\"psysml:cbe71c02-e966-4d74-b7c0-f9e238b4431e\" target=\"_top\" title=\"psysml:cbe71c02-e966-4d74-b7c0-f9e238b4431e\" xlink:actuate=\"onRequest\" xlink:href=\"psysml:cbe71c02-e966-4d74-b7c0-f9e238b4431e\" xlink:show=\"new\" xlink:title=\"psysml:cbe71c02-e966-4d74-b7c0-f9e238b4431e\" xlink:type=\"simple\"><rect fill=\"#FFFFFF\" height=\"163.5\" id=\"E5\" style=\"stroke: #383838; stroke-width: 1.5;\" width=\"96\" x=\"268.5\" y=\"93.5\"/><rect fill=\"#F8F8F8\" height=\"37.9375\" style=\"stroke: #383838; stroke-width: 1.5;\" width=\"96\" x=\"268.5\" y=\"93.5\"/><text fill=\"#000000\" font-family=\"sans-serif\" font-size=\"12\" font-style=\"italic\" lengthAdjust=\"spacingAndGlyphs\" textLength=\"77\" x=\"278\" y=\"109.6387\">«action def»</text><text fill=\"#000000\" font-family=\"sans-serif\" font-size=\"12\" lengthAdjust=\"spacingAndGlyphs\" textLength=\"27\" x=\"303\" y=\"123.6074\">setX</text></a><!--MD5=[b4997ac47864f28c2f74865a473b2911]\n",
       "class E2--><a href=\"psysml:168d8746-881d-4018-9dc0-dced1b8b8eb0\" target=\"_top\" title=\"psysml:168d8746-881d-4018-9dc0-dced1b8b8eb0\" xlink:actuate=\"onRequest\" xlink:href=\"psysml:168d8746-881d-4018-9dc0-dced1b8b8eb0\" xlink:show=\"new\" xlink:title=\"psysml:168d8746-881d-4018-9dc0-dced1b8b8eb0\" xlink:type=\"simple\"><rect fill=\"#FFFFFF\" height=\"45.9375\" id=\"E2\" style=\"stroke: #383838; stroke-width: 1.5;\" width=\"74\" x=\"178\" y=\"70.5\"/><text fill=\"#000000\" font-family=\"sans-serif\" font-size=\"12\" font-style=\"italic\" lengthAdjust=\"spacingAndGlyphs\" textLength=\"72\" x=\"179\" y=\"86.6387\">«dataType»</text><text fill=\"#000000\" font-family=\"sans-serif\" font-size=\"12\" lengthAdjust=\"spacingAndGlyphs\" textLength=\"27\" x=\"201.5\" y=\"100.6074\">Real</text><line style=\"stroke: #383838; stroke-width: 1.5;\" x1=\"179\" x2=\"251\" y1=\"108.4375\" y2=\"108.4375\"/></a><!--MD5=[09b614a08d8cba4a07c9adeb5e0fee81]\n",
       "class E3--><a href=\"psysml:fec9e0ab-8313-4a0b-a62a-09c4083c89fd\" target=\"_top\" title=\"psysml:fec9e0ab-8313-4a0b-a62a-09c4083c89fd\" xlink:actuate=\"onRequest\" xlink:href=\"psysml:fec9e0ab-8313-4a0b-a62a-09c4083c89fd\" xlink:show=\"new\" xlink:title=\"psysml:fec9e0ab-8313-4a0b-a62a-09c4083c89fd\" xlink:type=\"simple\"><rect fill=\"#FFFFFF\" height=\"105.1563\" id=\"E3\" style=\"stroke: #383838; stroke-width: 1.5;\" width=\"111\" x=\"31.5\" y=\"41\"/><text fill=\"#000000\" font-family=\"sans-serif\" font-size=\"12\" font-style=\"italic\" lengthAdjust=\"spacingAndGlyphs\" textLength=\"65\" x=\"54.5\" y=\"57.1387\">«item def»</text><text fill=\"#000000\" font-family=\"sans-serif\" font-size=\"12\" lengthAdjust=\"spacingAndGlyphs\" textLength=\"8\" x=\"83\" y=\"71.1074\">C</text><line style=\"stroke: #383838; stroke-width: 1.5;\" x1=\"32.5\" x2=\"141.5\" y1=\"78.9375\" y2=\"78.9375\"/><text fill=\"#000000\" font-family=\"sans-serif\" font-size=\"11\" lengthAdjust=\"spacingAndGlyphs\" textLength=\"38\" x=\"37.5\" y=\"109.9526\">x: Real</text><line style=\"stroke: #383838; stroke-width: 1.0;\" x1=\"32.5\" x2=\"59.5\" y1=\"93.3398\" y2=\"93.3398\"/><text fill=\"#000000\" font-family=\"sans-serif\" font-size=\"11\" lengthAdjust=\"spacingAndGlyphs\" textLength=\"55\" x=\"59.5\" y=\"96.6479\">attributes</text><line style=\"stroke: #383838; stroke-width: 1.0;\" x1=\"114.5\" x2=\"141.5\" y1=\"93.3398\" y2=\"93.3398\"/><text fill=\"#000000\" font-family=\"sans-serif\" font-size=\"11\" lengthAdjust=\"spacingAndGlyphs\" textLength=\"69\" x=\"37.5\" y=\"139.562\">x_constraint</text><line style=\"stroke: #383838; stroke-width: 1.0;\" x1=\"32.5\" x2=\"35.5\" y1=\"122.9492\" y2=\"122.9492\"/><text fill=\"#000000\" font-family=\"sans-serif\" font-size=\"11\" lengthAdjust=\"spacingAndGlyphs\" textLength=\"103\" x=\"35.5\" y=\"126.2573\">assertConstraints</text><line style=\"stroke: #383838; stroke-width: 1.0;\" x1=\"138.5\" x2=\"141.5\" y1=\"122.9492\" y2=\"122.9492\"/></a><text fill=\"#000000\" font-family=\"sans-serif\" font-size=\"14\" lengthAdjust=\"spacingAndGlyphs\" textLength=\"8\" x=\"289\" y=\"72.1982\">c</text><rect fill=\"#383838\" height=\"12\" style=\"stroke: #F8F8F8; stroke-width: 1.5;\" width=\"12\" x=\"287\" y=\"87.5\"/><text fill=\"#000000\" font-family=\"sans-serif\" font-size=\"14\" lengthAdjust=\"spacingAndGlyphs\" textLength=\"38\" x=\"321\" y=\"72.1982\">newX</text><rect fill=\"#383838\" height=\"12\" style=\"stroke: #F8F8F8; stroke-width: 1.5;\" width=\"12\" x=\"334\" y=\"87.5\"/><!--MD5=[5b838c3fc4189728de2306f02fee97e2]\n",
       "@startuml\r\n",
       " skinparam monochrome true\r\n",
       "skinparam classbackgroundcolor white\r\n",
       "skinparam shadowing false\r\n",
       "skinparam wrapWidth 300\r\n",
       "hide circle\r\n",
       "\r\n",
       "package \"TextualRepresentationTest\" as E1  [[psysml:13f83e37-e6d2-4a8e-ad71-0c715af430b4 ]]  {\r\n",
       "comp def \"Real\" as E2  <<(T,blue)dataType>> [[psysml:168d8746-881d-4018-9dc0-dced1b8b8eb0 ]] {\r\n",
       "}\r\n",
       "comp def \"C\" as E3  <<(T,blue)item def>> [[psysml:fec9e0ab-8313-4a0b-a62a-09c4083c89fd ]] {\r\n",
       "- - attributes - -\r\n",
       "x: Real\r\n",
       "- - assertConstraints - -\r\n",
       "x_constraint\r\n",
       "}\r\n",
       "rec def \"setX\" as E5  <<(T,blue)action def>> [[psysml:cbe71c02-e966-4d74-b7c0-f9e238b4431e ]] {\r\n",
       "portin \"c\" as E6  [[psysml:bf3dbcd8-0bef-4e93-82b9-0b5a37397746 ]] \r\n",
       "portin \"newX\" as E7  [[psysml:0934341b-2e16-4f4c-9ea0-e4fb5c660a0a ]] \r\n",
       "}\r\n",
       "\r\n",
       "}\r\n",
       "@enduml\r\n",
       "\n",
       "PlantUML version 1.2020.13(Sat Jun 13 12:26:38 UTC 2020)\n",
       "(EPL source distribution)\n",
       "Java Runtime: OpenJDK Runtime Environment\n",
       "JVM: OpenJDK 64-Bit Server VM\n",
       "Default Encoding: UTF-8\n",
       "Language: en\n",
       "Country: null\n",
       "--></g></svg>"
      ]
     },
     "execution_count": 8,
     "metadata": {},
     "output_type": "execute_result"
    }
   ],
   "source": [
    "%viz --style=\"COMPTREE\" --view=\"MIXED\" \"TextualRepresentationTest\""
   ]
  },
  {
   "cell_type": "code",
   "execution_count": 9,
   "id": "clear-clark",
   "metadata": {
    "execution": {
     "iopub.execute_input": "2021-03-26T15:43:48.557261Z",
     "iopub.status.busy": "2021-03-26T15:43:48.556811Z",
     "iopub.status.idle": "2021-03-26T15:43:48.620486Z",
     "shell.execute_reply": "2021-03-26T15:43:48.619166Z"
    }
   },
   "outputs": [
    {
     "data": {
      "image/svg+xml": [
       "<?xml version=\"1.0\" encoding=\"UTF-8\" standalone=\"no\"?><svg xmlns=\"http://www.w3.org/2000/svg\" xmlns:xlink=\"http://www.w3.org/1999/xlink\" contentScriptType=\"application/ecmascript\" contentStyleType=\"text/css\" height=\"285px\" preserveAspectRatio=\"none\" style=\"width:432px;height:285px;\" version=\"1.1\" viewBox=\"0 0 432 285\" width=\"432px\" zoomAndPan=\"magnify\"><defs/><g><!--MD5=[fbc87193dbaf4d95561dea2c320d4a47]\n",
       "cluster E1--><a href=\"psysml:13f83e37-e6d2-4a8e-ad71-0c715af430b4\" target=\"_top\" title=\"psysml:13f83e37-e6d2-4a8e-ad71-0c715af430b4\" xlink:actuate=\"onRequest\" xlink:href=\"psysml:13f83e37-e6d2-4a8e-ad71-0c715af430b4\" xlink:show=\"new\" xlink:title=\"psysml:13f83e37-e6d2-4a8e-ad71-0c715af430b4\" xlink:type=\"simple\"><polygon fill=\"#FFFFFF\" points=\"16,6,236,6,243,28.2969,410,28.2969,410,273,16,273,16,6\" style=\"stroke: #000000; stroke-width: 1.5;\"/><line style=\"stroke: #000000; stroke-width: 1.5;\" x1=\"16\" x2=\"243\" y1=\"28.2969\" y2=\"28.2969\"/><text fill=\"#000000\" font-family=\"sans-serif\" font-size=\"14\" font-weight=\"bold\" lengthAdjust=\"spacingAndGlyphs\" textLength=\"214\" x=\"20\" y=\"20.9951\">TextualRepresentationTest</text></a><!--MD5=[de5ec2e2e8f62f467e546659f5068c88]\n",
       "cluster E5--><a href=\"psysml:cbe71c02-e966-4d74-b7c0-f9e238b4431e\" target=\"_top\" title=\"psysml:cbe71c02-e966-4d74-b7c0-f9e238b4431e\" xlink:actuate=\"onRequest\" xlink:href=\"psysml:cbe71c02-e966-4d74-b7c0-f9e238b4431e\" xlink:show=\"new\" xlink:title=\"psysml:cbe71c02-e966-4d74-b7c0-f9e238b4431e\" xlink:type=\"simple\"><rect fill=\"#FFFFFF\" height=\"163.5\" id=\"E5\" style=\"stroke: #383838; stroke-width: 1.5;\" width=\"96\" x=\"268.5\" y=\"93.5\"/><rect fill=\"#F8F8F8\" height=\"37.9375\" style=\"stroke: #383838; stroke-width: 1.5;\" width=\"96\" x=\"268.5\" y=\"93.5\"/><text fill=\"#000000\" font-family=\"sans-serif\" font-size=\"12\" font-style=\"italic\" lengthAdjust=\"spacingAndGlyphs\" textLength=\"77\" x=\"278\" y=\"109.6387\">«action def»</text><text fill=\"#000000\" font-family=\"sans-serif\" font-size=\"12\" lengthAdjust=\"spacingAndGlyphs\" textLength=\"27\" x=\"303\" y=\"123.6074\">setX</text></a><!--MD5=[b4997ac47864f28c2f74865a473b2911]\n",
       "class E2--><a href=\"psysml:168d8746-881d-4018-9dc0-dced1b8b8eb0\" target=\"_top\" title=\"psysml:168d8746-881d-4018-9dc0-dced1b8b8eb0\" xlink:actuate=\"onRequest\" xlink:href=\"psysml:168d8746-881d-4018-9dc0-dced1b8b8eb0\" xlink:show=\"new\" xlink:title=\"psysml:168d8746-881d-4018-9dc0-dced1b8b8eb0\" xlink:type=\"simple\"><rect fill=\"#FFFFFF\" height=\"45.9375\" id=\"E2\" style=\"stroke: #383838; stroke-width: 1.5;\" width=\"74\" x=\"178\" y=\"70.5\"/><text fill=\"#000000\" font-family=\"sans-serif\" font-size=\"12\" font-style=\"italic\" lengthAdjust=\"spacingAndGlyphs\" textLength=\"72\" x=\"179\" y=\"86.6387\">«dataType»</text><text fill=\"#000000\" font-family=\"sans-serif\" font-size=\"12\" lengthAdjust=\"spacingAndGlyphs\" textLength=\"27\" x=\"201.5\" y=\"100.6074\">Real</text><line style=\"stroke: #383838; stroke-width: 1.5;\" x1=\"179\" x2=\"251\" y1=\"108.4375\" y2=\"108.4375\"/></a><!--MD5=[09b614a08d8cba4a07c9adeb5e0fee81]\n",
       "class E3--><a href=\"psysml:fec9e0ab-8313-4a0b-a62a-09c4083c89fd\" target=\"_top\" title=\"psysml:fec9e0ab-8313-4a0b-a62a-09c4083c89fd\" xlink:actuate=\"onRequest\" xlink:href=\"psysml:fec9e0ab-8313-4a0b-a62a-09c4083c89fd\" xlink:show=\"new\" xlink:title=\"psysml:fec9e0ab-8313-4a0b-a62a-09c4083c89fd\" xlink:type=\"simple\"><rect fill=\"#FFFFFF\" height=\"105.1563\" id=\"E3\" style=\"stroke: #383838; stroke-width: 1.5;\" width=\"111\" x=\"31.5\" y=\"41\"/><text fill=\"#000000\" font-family=\"sans-serif\" font-size=\"12\" font-style=\"italic\" lengthAdjust=\"spacingAndGlyphs\" textLength=\"65\" x=\"54.5\" y=\"57.1387\">«item def»</text><text fill=\"#000000\" font-family=\"sans-serif\" font-size=\"12\" lengthAdjust=\"spacingAndGlyphs\" textLength=\"8\" x=\"83\" y=\"71.1074\">C</text><line style=\"stroke: #383838; stroke-width: 1.5;\" x1=\"32.5\" x2=\"141.5\" y1=\"78.9375\" y2=\"78.9375\"/><text fill=\"#000000\" font-family=\"sans-serif\" font-size=\"11\" lengthAdjust=\"spacingAndGlyphs\" textLength=\"38\" x=\"37.5\" y=\"109.9526\">x: Real</text><line style=\"stroke: #383838; stroke-width: 1.0;\" x1=\"32.5\" x2=\"59.5\" y1=\"93.3398\" y2=\"93.3398\"/><text fill=\"#000000\" font-family=\"sans-serif\" font-size=\"11\" lengthAdjust=\"spacingAndGlyphs\" textLength=\"55\" x=\"59.5\" y=\"96.6479\">attributes</text><line style=\"stroke: #383838; stroke-width: 1.0;\" x1=\"114.5\" x2=\"141.5\" y1=\"93.3398\" y2=\"93.3398\"/><text fill=\"#000000\" font-family=\"sans-serif\" font-size=\"11\" lengthAdjust=\"spacingAndGlyphs\" textLength=\"69\" x=\"37.5\" y=\"139.562\">x_constraint</text><line style=\"stroke: #383838; stroke-width: 1.0;\" x1=\"32.5\" x2=\"35.5\" y1=\"122.9492\" y2=\"122.9492\"/><text fill=\"#000000\" font-family=\"sans-serif\" font-size=\"11\" lengthAdjust=\"spacingAndGlyphs\" textLength=\"103\" x=\"35.5\" y=\"126.2573\">assertConstraints</text><line style=\"stroke: #383838; stroke-width: 1.0;\" x1=\"138.5\" x2=\"141.5\" y1=\"122.9492\" y2=\"122.9492\"/></a><text fill=\"#000000\" font-family=\"sans-serif\" font-size=\"14\" lengthAdjust=\"spacingAndGlyphs\" textLength=\"8\" x=\"289\" y=\"72.1982\">c</text><rect fill=\"#383838\" height=\"12\" style=\"stroke: #F8F8F8; stroke-width: 1.5;\" width=\"12\" x=\"287\" y=\"87.5\"/><text fill=\"#000000\" font-family=\"sans-serif\" font-size=\"14\" lengthAdjust=\"spacingAndGlyphs\" textLength=\"38\" x=\"321\" y=\"72.1982\">newX</text><rect fill=\"#383838\" height=\"12\" style=\"stroke: #F8F8F8; stroke-width: 1.5;\" width=\"12\" x=\"334\" y=\"87.5\"/><!--MD5=[67ced6d6c336e77d9fb9c221fd8d4633]\n",
       "@startuml\r\n",
       "skinparam linetype polyline\r\n",
       "skinparam monochrome true\r\n",
       "skinparam classbackgroundcolor white\r\n",
       "skinparam shadowing false\r\n",
       "skinparam wrapWidth 300\r\n",
       "hide circle\r\n",
       "\r\n",
       "package \"TextualRepresentationTest\" as E1  [[psysml:13f83e37-e6d2-4a8e-ad71-0c715af430b4 ]]  {\r\n",
       "comp def \"Real\" as E2  <<(T,blue)dataType>> [[psysml:168d8746-881d-4018-9dc0-dced1b8b8eb0 ]] {\r\n",
       "}\r\n",
       "comp def \"C\" as E3  <<(T,blue)item def>> [[psysml:fec9e0ab-8313-4a0b-a62a-09c4083c89fd ]] {\r\n",
       "- - attributes - -\r\n",
       "x: Real\r\n",
       "- - assertConstraints - -\r\n",
       "x_constraint\r\n",
       "}\r\n",
       "rec def \"setX\" as E5  <<(T,blue)action def>> [[psysml:cbe71c02-e966-4d74-b7c0-f9e238b4431e ]] {\r\n",
       "portin \"c\" as E6  [[psysml:bf3dbcd8-0bef-4e93-82b9-0b5a37397746 ]] \r\n",
       "portin \"newX\" as E7  [[psysml:0934341b-2e16-4f4c-9ea0-e4fb5c660a0a ]] \r\n",
       "}\r\n",
       "\r\n",
       "}\r\n",
       "@enduml\r\n",
       "\n",
       "PlantUML version 1.2020.13(Sat Jun 13 12:26:38 UTC 2020)\n",
       "(EPL source distribution)\n",
       "Java Runtime: OpenJDK Runtime Environment\n",
       "JVM: OpenJDK 64-Bit Server VM\n",
       "Default Encoding: UTF-8\n",
       "Language: en\n",
       "Country: null\n",
       "--></g></svg>"
      ]
     },
     "execution_count": 9,
     "metadata": {},
     "output_type": "execute_result"
    }
   ],
   "source": [
    "%viz --style=\"POLYLINE\" --view=\"Default\" \"TextualRepresentationTest\""
   ]
  },
  {
   "cell_type": "code",
   "execution_count": 10,
   "id": "banned-invitation",
   "metadata": {
    "execution": {
     "iopub.execute_input": "2021-03-26T15:43:48.672292Z",
     "iopub.status.busy": "2021-03-26T15:43:48.671847Z",
     "iopub.status.idle": "2021-03-26T15:43:48.747392Z",
     "shell.execute_reply": "2021-03-26T15:43:48.746478Z"
    }
   },
   "outputs": [
    {
     "data": {
      "image/svg+xml": [
       "<?xml version=\"1.0\" encoding=\"UTF-8\" standalone=\"no\"?><svg xmlns=\"http://www.w3.org/2000/svg\" xmlns:xlink=\"http://www.w3.org/1999/xlink\" contentScriptType=\"application/ecmascript\" contentStyleType=\"text/css\" height=\"297px\" preserveAspectRatio=\"none\" style=\"width:290px;height:297px;\" version=\"1.1\" viewBox=\"0 0 290 297\" width=\"290px\" zoomAndPan=\"magnify\"><defs/><g><!--MD5=[fbc87193dbaf4d95561dea2c320d4a47]\n",
       "cluster E1--><a href=\"psysml:13f83e37-e6d2-4a8e-ad71-0c715af430b4\" target=\"_top\" title=\"psysml:13f83e37-e6d2-4a8e-ad71-0c715af430b4\" xlink:actuate=\"onRequest\" xlink:href=\"psysml:13f83e37-e6d2-4a8e-ad71-0c715af430b4\" xlink:show=\"new\" xlink:title=\"psysml:13f83e37-e6d2-4a8e-ad71-0c715af430b4\" xlink:type=\"simple\"><polygon fill=\"#FFFFFF\" points=\"16,6,236,6,243,28.2969,268,28.2969,268,285,16,285,16,6\" style=\"stroke: #000000; stroke-width: 1.5;\"/><line style=\"stroke: #000000; stroke-width: 1.5;\" x1=\"16\" x2=\"243\" y1=\"28.2969\" y2=\"28.2969\"/><text fill=\"#000000\" font-family=\"sans-serif\" font-size=\"14\" font-weight=\"bold\" lengthAdjust=\"spacingAndGlyphs\" textLength=\"214\" x=\"20\" y=\"20.9951\">TextualRepresentationTest</text></a><!--MD5=[b4997ac47864f28c2f74865a473b2911]\n",
       "class E2--><a href=\"psysml:168d8746-881d-4018-9dc0-dced1b8b8eb0\" target=\"_top\" title=\"psysml:168d8746-881d-4018-9dc0-dced1b8b8eb0\" xlink:actuate=\"onRequest\" xlink:href=\"psysml:168d8746-881d-4018-9dc0-dced1b8b8eb0\" xlink:show=\"new\" xlink:title=\"psysml:168d8746-881d-4018-9dc0-dced1b8b8eb0\" xlink:type=\"simple\"><rect fill=\"#FFFFFF\" height=\"45.9375\" id=\"E2\" style=\"stroke: #383838; stroke-width: 1.5;\" width=\"74\" x=\"32\" y=\"193.5\"/><text fill=\"#000000\" font-family=\"sans-serif\" font-size=\"12\" font-style=\"italic\" lengthAdjust=\"spacingAndGlyphs\" textLength=\"72\" x=\"33\" y=\"209.6387\">«dataType»</text><text fill=\"#000000\" font-family=\"sans-serif\" font-size=\"12\" lengthAdjust=\"spacingAndGlyphs\" textLength=\"27\" x=\"55.5\" y=\"223.6074\">Real</text><line style=\"stroke: #383838; stroke-width: 1.5;\" x1=\"33\" x2=\"105\" y1=\"231.4375\" y2=\"231.4375\"/></a><!--MD5=[09b614a08d8cba4a07c9adeb5e0fee81]\n",
       "class E3--><a href=\"psysml:fec9e0ab-8313-4a0b-a62a-09c4083c89fd\" target=\"_top\" title=\"psysml:fec9e0ab-8313-4a0b-a62a-09c4083c89fd\" xlink:actuate=\"onRequest\" xlink:href=\"psysml:fec9e0ab-8313-4a0b-a62a-09c4083c89fd\" xlink:show=\"new\" xlink:title=\"psysml:fec9e0ab-8313-4a0b-a62a-09c4083c89fd\" xlink:type=\"simple\"><rect fill=\"#FFFFFF\" height=\"105.1563\" id=\"E3\" style=\"stroke: #383838; stroke-width: 1.5;\" width=\"111\" x=\"141.5\" y=\"164\"/><text fill=\"#000000\" font-family=\"sans-serif\" font-size=\"12\" font-style=\"italic\" lengthAdjust=\"spacingAndGlyphs\" textLength=\"65\" x=\"164.5\" y=\"180.1387\">«item def»</text><text fill=\"#000000\" font-family=\"sans-serif\" font-size=\"12\" lengthAdjust=\"spacingAndGlyphs\" textLength=\"8\" x=\"193\" y=\"194.1074\">C</text><line style=\"stroke: #383838; stroke-width: 1.5;\" x1=\"142.5\" x2=\"251.5\" y1=\"201.9375\" y2=\"201.9375\"/><text fill=\"#000000\" font-family=\"sans-serif\" font-size=\"11\" lengthAdjust=\"spacingAndGlyphs\" textLength=\"38\" x=\"147.5\" y=\"232.9526\">x: Real</text><line style=\"stroke: #383838; stroke-width: 1.0;\" x1=\"142.5\" x2=\"169.5\" y1=\"216.3398\" y2=\"216.3398\"/><text fill=\"#000000\" font-family=\"sans-serif\" font-size=\"11\" lengthAdjust=\"spacingAndGlyphs\" textLength=\"55\" x=\"169.5\" y=\"219.6479\">attributes</text><line style=\"stroke: #383838; stroke-width: 1.0;\" x1=\"224.5\" x2=\"251.5\" y1=\"216.3398\" y2=\"216.3398\"/><text fill=\"#000000\" font-family=\"sans-serif\" font-size=\"11\" lengthAdjust=\"spacingAndGlyphs\" textLength=\"69\" x=\"147.5\" y=\"262.562\">x_constraint</text><line style=\"stroke: #383838; stroke-width: 1.0;\" x1=\"142.5\" x2=\"145.5\" y1=\"245.9492\" y2=\"245.9492\"/><text fill=\"#000000\" font-family=\"sans-serif\" font-size=\"11\" lengthAdjust=\"spacingAndGlyphs\" textLength=\"103\" x=\"145.5\" y=\"249.2573\">assertConstraints</text><line style=\"stroke: #383838; stroke-width: 1.0;\" x1=\"248.5\" x2=\"251.5\" y1=\"245.9492\" y2=\"245.9492\"/></a><!--MD5=[270fce915f116d4de14055a7c1d9a0f3]\n",
       "class E5--><a href=\"psysml:cbe71c02-e966-4d74-b7c0-f9e238b4431e\" target=\"_top\" title=\"psysml:cbe71c02-e966-4d74-b7c0-f9e238b4431e\" xlink:actuate=\"onRequest\" xlink:href=\"psysml:cbe71c02-e966-4d74-b7c0-f9e238b4431e\" xlink:show=\"new\" xlink:title=\"psysml:cbe71c02-e966-4d74-b7c0-f9e238b4431e\" xlink:type=\"simple\"><rect fill=\"#FFFFFF\" height=\"45.9375\" id=\"E5\" style=\"stroke: #383838; stroke-width: 1.5;\" width=\"79\" x=\"67.5\" y=\"41\"/><text fill=\"#000000\" font-family=\"sans-serif\" font-size=\"12\" font-style=\"italic\" lengthAdjust=\"spacingAndGlyphs\" textLength=\"77\" x=\"68.5\" y=\"57.1387\">«action def»</text><text fill=\"#000000\" font-family=\"sans-serif\" font-size=\"12\" lengthAdjust=\"spacingAndGlyphs\" textLength=\"27\" x=\"93.5\" y=\"71.1074\">setX</text><line style=\"stroke: #383838; stroke-width: 1.5;\" x1=\"68.5\" x2=\"145.5\" y1=\"78.9375\" y2=\"78.9375\"/></a><!--MD5=[6f107eb264eda4b26325f39a5516f1f3]\n",
       "reverse link E5 to E3--><a href=\"psysml:bf3dbcd8-0bef-4e93-82b9-0b5a37397746\" target=\"_top\" title=\"psysml:bf3dbcd8-0bef-4e93-82b9-0b5a37397746\" xlink:actuate=\"onRequest\" xlink:href=\"psysml:bf3dbcd8-0bef-4e93-82b9-0b5a37397746\" xlink:show=\"new\" xlink:title=\"psysml:bf3dbcd8-0bef-4e93-82b9-0b5a37397746\" xlink:type=\"simple\"><path d=\"M126.98,98.42 C138.48,117.65 153.18,142.22 166.13,163.88 \" fill=\"none\" id=\"E5&lt;-E3\" style=\"stroke: #383838; stroke-width: 1.0;\"/><polygon fill=\"#FFFFFF\" points=\"120.28,87.21,119.9261,94.4124,126.4384,97.5092,126.7923,90.3068,120.28,87.21\" style=\"stroke: #383838; stroke-width: 1.0;\"/><text fill=\"#000000\" font-family=\"sans-serif\" font-size=\"13\" lengthAdjust=\"spacingAndGlyphs\" textLength=\"7\" x=\"147\" y=\"130.0669\">c</text></a><!--MD5=[f51c6d1f1856fe338ac0413483fb1ccf]\n",
       "reverse link E5 to E2--><a href=\"psysml:0934341b-2e16-4f4c-9ea0-e4fb5c660a0a\" target=\"_top\" title=\"psysml:0934341b-2e16-4f4c-9ea0-e4fb5c660a0a\" xlink:actuate=\"onRequest\" xlink:href=\"psysml:0934341b-2e16-4f4c-9ea0-e4fb5c660a0a\" xlink:show=\"new\" xlink:title=\"psysml:0934341b-2e16-4f4c-9ea0-e4fb5c660a0a\" xlink:type=\"simple\"><path d=\"M98.18,99.93 C90.92,128.69 80.84,168.6 74.63,193.2 \" fill=\"none\" id=\"E5&lt;-E2\" style=\"stroke: #383838; stroke-width: 1.0;\"/><polygon fill=\"#FFFFFF\" points=\"101.39,87.21,96.0413,92.0465,98.4485,98.8439,103.7972,94.0074,101.39,87.21\" style=\"stroke: #383838; stroke-width: 1.0;\"/><text fill=\"#000000\" font-family=\"sans-serif\" font-size=\"13\" lengthAdjust=\"spacingAndGlyphs\" textLength=\"33\" x=\"94\" y=\"130.0669\">newX</text></a><!--MD5=[221cb6d2f3e544f7319a01d779972013]\n",
       "@startuml\r\n",
       "skinparam linetype polyline\r\n",
       "skinparam monochrome true\r\n",
       "skinparam classbackgroundcolor white\r\n",
       "skinparam shadowing false\r\n",
       "skinparam wrapWidth 300\r\n",
       "hide circle\r\n",
       "\r\n",
       "package \"TextualRepresentationTest\" as E1  [[psysml:13f83e37-e6d2-4a8e-ad71-0c715af430b4 ]]  {\r\n",
       "comp def \"Real\" as E2  <<(T,blue)dataType>> [[psysml:168d8746-881d-4018-9dc0-dced1b8b8eb0 ]] {\r\n",
       "}\r\n",
       "comp def \"C\" as E3  <<(T,blue)item def>> [[psysml:fec9e0ab-8313-4a0b-a62a-09c4083c89fd ]] {\r\n",
       "- - attributes - -\r\n",
       "x: Real\r\n",
       "- - assertConstraints - -\r\n",
       "x_constraint\r\n",
       "}\r\n",
       "comp def \"setX\" as E5  <<(T,blue)action def>> [[psysml:cbe71c02-e966-4d74-b7c0-f9e238b4431e ]] {\r\n",
       "}\r\n",
       "E5 o- - E3 [[psysml:bf3dbcd8-0bef-4e93-82b9-0b5a37397746 ]] : c\r\n",
       "E5 o- - E2 [[psysml:0934341b-2e16-4f4c-9ea0-e4fb5c660a0a ]] : newX\r\n",
       "}\r\n",
       "@enduml\r\n",
       "\n",
       "PlantUML version 1.2020.13(Sat Jun 13 12:26:38 UTC 2020)\n",
       "(EPL source distribution)\n",
       "Java Runtime: OpenJDK Runtime Environment\n",
       "JVM: OpenJDK 64-Bit Server VM\n",
       "Default Encoding: UTF-8\n",
       "Language: en\n",
       "Country: null\n",
       "--></g></svg>"
      ]
     },
     "execution_count": 10,
     "metadata": {},
     "output_type": "execute_result"
    }
   ],
   "source": [
    "%viz --style=\"POLYLINE\" --view=\"Tree\" \"TextualRepresentationTest\""
   ]
  },
  {
   "cell_type": "code",
   "execution_count": 11,
   "id": "light-seller",
   "metadata": {
    "execution": {
     "iopub.execute_input": "2021-03-26T15:43:48.801970Z",
     "iopub.status.busy": "2021-03-26T15:43:48.800851Z",
     "iopub.status.idle": "2021-03-26T15:43:48.810202Z",
     "shell.execute_reply": "2021-03-26T15:43:48.810629Z"
    }
   },
   "outputs": [
    {
     "data": {
      "image/svg+xml": [
       "<?xml version=\"1.0\" encoding=\"UTF-8\" standalone=\"no\"?><svg xmlns=\"http://www.w3.org/2000/svg\" xmlns:xlink=\"http://www.w3.org/1999/xlink\" contentScriptType=\"application/ecmascript\" contentStyleType=\"text/css\" height=\"12px\" preserveAspectRatio=\"none\" style=\"width:12px;height:12px;\" version=\"1.1\" viewBox=\"0 0 12 12\" width=\"12px\" zoomAndPan=\"magnify\"><defs/><g><!--MD5=[896ac0e7a515d8dd7765a661cb4ee08b]\n",
       "@startuml\r\n",
       "skinparam linetype polyline\r\n",
       "skinparam monochrome true\r\n",
       "skinparam classbackgroundcolor white\r\n",
       "skinparam shadowing false\r\n",
       "skinparam wrapWidth 300\r\n",
       "hide circle\r\n",
       "\r\n",
       "@enduml\r\n",
       "\n",
       "PlantUML version 1.2020.13(Sat Jun 13 12:26:38 UTC 2020)\n",
       "(EPL source distribution)\n",
       "Java Runtime: OpenJDK Runtime Environment\n",
       "JVM: OpenJDK 64-Bit Server VM\n",
       "Default Encoding: UTF-8\n",
       "Language: en\n",
       "Country: null\n",
       "--></g></svg>"
      ]
     },
     "execution_count": 11,
     "metadata": {},
     "output_type": "execute_result"
    }
   ],
   "source": [
    "%viz --style=\"POLYLINE\" --view=\"State\" \"TextualRepresentationTest\""
   ]
  },
  {
   "cell_type": "code",
   "execution_count": 12,
   "id": "mobile-library",
   "metadata": {
    "execution": {
     "iopub.execute_input": "2021-03-26T15:43:48.863135Z",
     "iopub.status.busy": "2021-03-26T15:43:48.862453Z",
     "iopub.status.idle": "2021-03-26T15:43:48.902708Z",
     "shell.execute_reply": "2021-03-26T15:43:48.903047Z"
    }
   },
   "outputs": [
    {
     "data": {
      "image/svg+xml": [
       "<?xml version=\"1.0\" encoding=\"UTF-8\" standalone=\"no\"?><svg xmlns=\"http://www.w3.org/2000/svg\" xmlns:xlink=\"http://www.w3.org/1999/xlink\" contentScriptType=\"application/ecmascript\" contentStyleType=\"text/css\" height=\"179px\" preserveAspectRatio=\"none\" style=\"width:398px;height:179px;\" version=\"1.1\" viewBox=\"0 0 398 179\" width=\"398px\" zoomAndPan=\"magnify\"><defs/><g><!--MD5=[fbc87193dbaf4d95561dea2c320d4a47]\n",
       "cluster E1--><a href=\"psysml:13f83e37-e6d2-4a8e-ad71-0c715af430b4\" target=\"_top\" title=\"psysml:13f83e37-e6d2-4a8e-ad71-0c715af430b4\" xlink:actuate=\"onRequest\" xlink:href=\"psysml:13f83e37-e6d2-4a8e-ad71-0c715af430b4\" xlink:show=\"new\" xlink:title=\"psysml:13f83e37-e6d2-4a8e-ad71-0c715af430b4\" xlink:type=\"simple\"><polygon fill=\"#FFFFFF\" points=\"16,6,236,6,243,28.2969,376,28.2969,376,167,16,167,16,6\" style=\"stroke: #000000; stroke-width: 1.5;\"/><line style=\"stroke: #000000; stroke-width: 1.5;\" x1=\"16\" x2=\"243\" y1=\"28.2969\" y2=\"28.2969\"/><text fill=\"#000000\" font-family=\"sans-serif\" font-size=\"14\" font-weight=\"bold\" lengthAdjust=\"spacingAndGlyphs\" textLength=\"214\" x=\"20\" y=\"20.9951\">TextualRepresentationTest</text></a><!--MD5=[f6df4d0ebaf0b5dfb2ced0ae5af7c670]\n",
       "cluster E4--><a href=\"psysml:cbe71c02-e966-4d74-b7c0-f9e238b4431e\" target=\"_top\" title=\"psysml:cbe71c02-e966-4d74-b7c0-f9e238b4431e\" xlink:actuate=\"onRequest\" xlink:href=\"psysml:cbe71c02-e966-4d74-b7c0-f9e238b4431e\" xlink:show=\"new\" xlink:title=\"psysml:cbe71c02-e966-4d74-b7c0-f9e238b4431e\" xlink:type=\"simple\"><rect fill=\"#FFFFFF\" height=\"88.5\" id=\"E4\" style=\"stroke: #383838; stroke-width: 1.5;\" width=\"96\" x=\"235.5\" y=\"62.5\"/><rect fill=\"#F8F8F8\" height=\"37.9375\" style=\"stroke: #383838; stroke-width: 1.5;\" width=\"96\" x=\"235.5\" y=\"62.5\"/><text fill=\"#000000\" font-family=\"sans-serif\" font-size=\"12\" font-style=\"italic\" lengthAdjust=\"spacingAndGlyphs\" textLength=\"77\" x=\"245\" y=\"78.6387\">«action def»</text><text fill=\"#000000\" font-family=\"sans-serif\" font-size=\"12\" lengthAdjust=\"spacingAndGlyphs\" textLength=\"27\" x=\"270\" y=\"92.6074\">setX</text></a><g id=\"E1.E2\"><a href=\"psysml:168d8746-881d-4018-9dc0-dced1b8b8eb0\" target=\"_top\" title=\"psysml:168d8746-881d-4018-9dc0-dced1b8b8eb0\" xlink:actuate=\"onRequest\" xlink:href=\"psysml:168d8746-881d-4018-9dc0-dced1b8b8eb0\" xlink:show=\"new\" xlink:title=\"psysml:168d8746-881d-4018-9dc0-dced1b8b8eb0\" xlink:type=\"simple\"><rect fill=\"#FFFFFF\" height=\"42.9375\" id=\"E2\" style=\"stroke: #383838; stroke-width: 1.5;\" width=\"79\" x=\"139.5\" y=\"41\"/><rect fill=\"#F8F8F8\" height=\"37.9375\" style=\"stroke: #383838; stroke-width: 1.5;\" width=\"79\" x=\"139.5\" y=\"41\"/><text fill=\"#000000\" font-family=\"sans-serif\" font-size=\"12\" font-style=\"italic\" lengthAdjust=\"spacingAndGlyphs\" textLength=\"72\" x=\"143\" y=\"57.1387\">«dataType»</text><text fill=\"#000000\" font-family=\"sans-serif\" font-size=\"12\" lengthAdjust=\"spacingAndGlyphs\" textLength=\"27\" x=\"165.5\" y=\"71.1074\">Real</text></a></g><g id=\"E1.E3\"><a href=\"psysml:fec9e0ab-8313-4a0b-a62a-09c4083c89fd\" target=\"_top\" title=\"psysml:fec9e0ab-8313-4a0b-a62a-09c4083c89fd\" xlink:actuate=\"onRequest\" xlink:href=\"psysml:fec9e0ab-8313-4a0b-a62a-09c4083c89fd\" xlink:show=\"new\" xlink:title=\"psysml:fec9e0ab-8313-4a0b-a62a-09c4083c89fd\" xlink:type=\"simple\"><rect fill=\"#FFFFFF\" height=\"42.9375\" id=\"E3\" style=\"stroke: #383838; stroke-width: 1.5;\" width=\"72\" x=\"32\" y=\"41\"/><rect fill=\"#F8F8F8\" height=\"37.9375\" style=\"stroke: #383838; stroke-width: 1.5;\" width=\"72\" x=\"32\" y=\"41\"/><text fill=\"#000000\" font-family=\"sans-serif\" font-size=\"12\" font-style=\"italic\" lengthAdjust=\"spacingAndGlyphs\" textLength=\"65\" x=\"35.5\" y=\"57.1387\">«item def»</text><text fill=\"#000000\" font-family=\"sans-serif\" font-size=\"12\" lengthAdjust=\"spacingAndGlyphs\" textLength=\"8\" x=\"64\" y=\"71.1074\">C</text></a></g><text fill=\"#000000\" font-family=\"sans-serif\" font-size=\"14\" lengthAdjust=\"spacingAndGlyphs\" textLength=\"8\" x=\"256\" y=\"41.1982\">c</text><rect fill=\"#383838\" height=\"12\" style=\"stroke: #F8F8F8; stroke-width: 1.5;\" width=\"12\" x=\"254\" y=\"56.5\"/><text fill=\"#000000\" font-family=\"sans-serif\" font-size=\"14\" lengthAdjust=\"spacingAndGlyphs\" textLength=\"38\" x=\"288\" y=\"41.1982\">newX</text><rect fill=\"#383838\" height=\"12\" style=\"stroke: #F8F8F8; stroke-width: 1.5;\" width=\"12\" x=\"301\" y=\"56.5\"/><!--MD5=[0c07e669b4731940969c5d799fc0852e]\n",
       "@startuml\r\n",
       "skinparam ranksep 10\r\n",
       "skinparam rectangle {\r\n",
       " backgroundColor<<block>> LightGreen\r\n",
       "}\r\n",
       "skinparam linetype polyline\r\n",
       "skinparam monochrome true\r\n",
       "skinparam classbackgroundcolor white\r\n",
       "skinparam shadowing false\r\n",
       "skinparam wrapWidth 300\r\n",
       "hide circle\r\n",
       "\r\n",
       "package \"TextualRepresentationTest\" as E1  [[psysml:13f83e37-e6d2-4a8e-ad71-0c715af430b4 ]]  {\r\n",
       "def \"Real\" as E2  <<(T,blue)dataType>> [[psysml:168d8746-881d-4018-9dc0-dced1b8b8eb0 ]] \r\n",
       "def \"C\" as E3  <<(T,blue)item def>> [[psysml:fec9e0ab-8313-4a0b-a62a-09c4083c89fd ]] \r\n",
       "rec def \"setX\" as E4  <<(T,blue)action def>> [[psysml:cbe71c02-e966-4d74-b7c0-f9e238b4431e ]] {\r\n",
       "portin \"c\" as E5  [[psysml:bf3dbcd8-0bef-4e93-82b9-0b5a37397746 ]] \r\n",
       "portin \"newX\" as E6  [[psysml:0934341b-2e16-4f4c-9ea0-e4fb5c660a0a ]] \r\n",
       "}\r\n",
       "\r\n",
       "}\r\n",
       "@enduml\r\n",
       "\n",
       "PlantUML version 1.2020.13(Sat Jun 13 12:26:38 UTC 2020)\n",
       "(EPL source distribution)\n",
       "Java Runtime: OpenJDK Runtime Environment\n",
       "JVM: OpenJDK 64-Bit Server VM\n",
       "Default Encoding: UTF-8\n",
       "Language: en\n",
       "Country: null\n",
       "--></g></svg>"
      ]
     },
     "execution_count": 12,
     "metadata": {},
     "output_type": "execute_result"
    }
   ],
   "source": [
    "%viz --style=\"POLYLINE\" --view=\"Interconnection\" \"TextualRepresentationTest\""
   ]
  },
  {
   "cell_type": "code",
   "execution_count": 13,
   "id": "monthly-first",
   "metadata": {
    "execution": {
     "iopub.execute_input": "2021-03-26T15:43:48.955628Z",
     "iopub.status.busy": "2021-03-26T15:43:48.954839Z",
     "iopub.status.idle": "2021-03-26T15:43:48.985355Z",
     "shell.execute_reply": "2021-03-26T15:43:48.985038Z"
    }
   },
   "outputs": [
    {
     "data": {
      "image/svg+xml": [
       "<?xml version=\"1.0\" encoding=\"UTF-8\" standalone=\"no\"?><svg xmlns=\"http://www.w3.org/2000/svg\" xmlns:xlink=\"http://www.w3.org/1999/xlink\" contentScriptType=\"application/ecmascript\" contentStyleType=\"text/css\" height=\"126px\" preserveAspectRatio=\"none\" style=\"width:150px;height:126px;\" version=\"1.1\" viewBox=\"0 0 150 126\" width=\"150px\" zoomAndPan=\"magnify\"><defs/><g><!--MD5=[fbc87193dbaf4d95561dea2c320d4a47]\n",
       "cluster E1--><a href=\"psysml:cbe71c02-e966-4d74-b7c0-f9e238b4431e\" target=\"_top\" title=\"psysml:cbe71c02-e966-4d74-b7c0-f9e238b4431e\" xlink:actuate=\"onRequest\" xlink:href=\"psysml:cbe71c02-e966-4d74-b7c0-f9e238b4431e\" xlink:show=\"new\" xlink:title=\"psysml:cbe71c02-e966-4d74-b7c0-f9e238b4431e\" xlink:type=\"simple\"><rect fill=\"#FFFFFF\" height=\"73\" id=\"E1\" style=\"stroke: #383838; stroke-width: 1.5;\" width=\"132\" x=\"7\" y=\"42.0986\"/><rect fill=\"#F8F8F8\" height=\"37.9375\" style=\"stroke: #383838; stroke-width: 1.5;\" width=\"132\" x=\"7\" y=\"42.0986\"/><text fill=\"#000000\" font-family=\"sans-serif\" font-size=\"12\" font-style=\"italic\" lengthAdjust=\"spacingAndGlyphs\" textLength=\"77\" x=\"34.5\" y=\"58.2373\">«action def»</text><text fill=\"#000000\" font-family=\"sans-serif\" font-size=\"12\" lengthAdjust=\"spacingAndGlyphs\" textLength=\"27\" x=\"59.5\" y=\"72.2061\">setX</text></a><text fill=\"#000000\" font-family=\"sans-serif\" font-size=\"14\" lengthAdjust=\"spacingAndGlyphs\" textLength=\"8\" x=\"21\" y=\"20.7969\">c</text><rect fill=\"#383838\" height=\"12\" style=\"stroke: #F8F8F8; stroke-width: 1.5;\" width=\"12\" x=\"19\" y=\"36.0986\"/><text fill=\"#000000\" font-family=\"sans-serif\" font-size=\"14\" lengthAdjust=\"spacingAndGlyphs\" textLength=\"38\" x=\"53\" y=\"20.7969\">newX</text><rect fill=\"#383838\" height=\"12\" style=\"stroke: #F8F8F8; stroke-width: 1.5;\" width=\"12\" x=\"66\" y=\"36.0986\"/><!--MD5=[a4d3ce6e8c7f1478f314b09ce50d507d]\n",
       "@startuml\r\n",
       "skinparam ranksep 8\r\n",
       "skinparam linetype polyline\r\n",
       "skinparam monochrome true\r\n",
       "skinparam classbackgroundcolor white\r\n",
       "skinparam shadowing false\r\n",
       "skinparam wrapWidth 300\r\n",
       "hide circle\r\n",
       "\r\n",
       "rec def \"setX\" as E1  <<(T,blue)action def>> [[psysml:cbe71c02-e966-4d74-b7c0-f9e238b4431e ]] {\r\n",
       "portin \"c\" as E2  [[psysml:bf3dbcd8-0bef-4e93-82b9-0b5a37397746 ]] \r\n",
       "portin \"newX\" as E3  [[psysml:0934341b-2e16-4f4c-9ea0-e4fb5c660a0a ]] \r\n",
       "}\r\n",
       "\r\n",
       "@enduml\r\n",
       "\n",
       "PlantUML version 1.2020.13(Sat Jun 13 12:26:38 UTC 2020)\n",
       "(EPL source distribution)\n",
       "Java Runtime: OpenJDK Runtime Environment\n",
       "JVM: OpenJDK 64-Bit Server VM\n",
       "Default Encoding: UTF-8\n",
       "Language: en\n",
       "Country: null\n",
       "--></g></svg>"
      ]
     },
     "execution_count": 13,
     "metadata": {},
     "output_type": "execute_result"
    }
   ],
   "source": [
    "%viz --style=\"POLYLINE\" --view=\"Action\" \"TextualRepresentationTest\""
   ]
  },
  {
   "cell_type": "code",
   "execution_count": 14,
   "id": "roman-campaign",
   "metadata": {
    "execution": {
     "iopub.execute_input": "2021-03-26T15:43:49.035070Z",
     "iopub.status.busy": "2021-03-26T15:43:49.034456Z",
     "iopub.status.idle": "2021-03-26T15:43:49.111892Z",
     "shell.execute_reply": "2021-03-26T15:43:49.111076Z"
    }
   },
   "outputs": [
    {
     "data": {
      "image/svg+xml": [
       "<?xml version=\"1.0\" encoding=\"UTF-8\" standalone=\"no\"?><svg xmlns=\"http://www.w3.org/2000/svg\" xmlns:xlink=\"http://www.w3.org/1999/xlink\" contentScriptType=\"application/ecmascript\" contentStyleType=\"text/css\" height=\"297px\" preserveAspectRatio=\"none\" style=\"width:290px;height:297px;\" version=\"1.1\" viewBox=\"0 0 290 297\" width=\"290px\" zoomAndPan=\"magnify\"><defs/><g><!--MD5=[fbc87193dbaf4d95561dea2c320d4a47]\n",
       "cluster E1--><a href=\"psysml:13f83e37-e6d2-4a8e-ad71-0c715af430b4\" target=\"_top\" title=\"psysml:13f83e37-e6d2-4a8e-ad71-0c715af430b4\" xlink:actuate=\"onRequest\" xlink:href=\"psysml:13f83e37-e6d2-4a8e-ad71-0c715af430b4\" xlink:show=\"new\" xlink:title=\"psysml:13f83e37-e6d2-4a8e-ad71-0c715af430b4\" xlink:type=\"simple\"><polygon fill=\"#FFFFFF\" points=\"16,6,236,6,243,28.2969,268,28.2969,268,285,16,285,16,6\" style=\"stroke: #000000; stroke-width: 1.5;\"/><line style=\"stroke: #000000; stroke-width: 1.5;\" x1=\"16\" x2=\"243\" y1=\"28.2969\" y2=\"28.2969\"/><text fill=\"#000000\" font-family=\"sans-serif\" font-size=\"14\" font-weight=\"bold\" lengthAdjust=\"spacingAndGlyphs\" textLength=\"214\" x=\"20\" y=\"20.9951\">TextualRepresentationTest</text></a><!--MD5=[b4997ac47864f28c2f74865a473b2911]\n",
       "class E2--><a href=\"psysml:168d8746-881d-4018-9dc0-dced1b8b8eb0\" target=\"_top\" title=\"psysml:168d8746-881d-4018-9dc0-dced1b8b8eb0\" xlink:actuate=\"onRequest\" xlink:href=\"psysml:168d8746-881d-4018-9dc0-dced1b8b8eb0\" xlink:show=\"new\" xlink:title=\"psysml:168d8746-881d-4018-9dc0-dced1b8b8eb0\" xlink:type=\"simple\"><rect fill=\"#FFFFFF\" height=\"45.9375\" id=\"E2\" style=\"stroke: #383838; stroke-width: 1.5;\" width=\"74\" x=\"32\" y=\"193.5\"/><text fill=\"#000000\" font-family=\"sans-serif\" font-size=\"12\" font-style=\"italic\" lengthAdjust=\"spacingAndGlyphs\" textLength=\"72\" x=\"33\" y=\"209.6387\">«dataType»</text><text fill=\"#000000\" font-family=\"sans-serif\" font-size=\"12\" lengthAdjust=\"spacingAndGlyphs\" textLength=\"27\" x=\"55.5\" y=\"223.6074\">Real</text><line style=\"stroke: #383838; stroke-width: 1.5;\" x1=\"33\" x2=\"105\" y1=\"231.4375\" y2=\"231.4375\"/></a><!--MD5=[09b614a08d8cba4a07c9adeb5e0fee81]\n",
       "class E3--><a href=\"psysml:fec9e0ab-8313-4a0b-a62a-09c4083c89fd\" target=\"_top\" title=\"psysml:fec9e0ab-8313-4a0b-a62a-09c4083c89fd\" xlink:actuate=\"onRequest\" xlink:href=\"psysml:fec9e0ab-8313-4a0b-a62a-09c4083c89fd\" xlink:show=\"new\" xlink:title=\"psysml:fec9e0ab-8313-4a0b-a62a-09c4083c89fd\" xlink:type=\"simple\"><rect fill=\"#FFFFFF\" height=\"105.1563\" id=\"E3\" style=\"stroke: #383838; stroke-width: 1.5;\" width=\"111\" x=\"141.5\" y=\"164\"/><text fill=\"#000000\" font-family=\"sans-serif\" font-size=\"12\" font-style=\"italic\" lengthAdjust=\"spacingAndGlyphs\" textLength=\"65\" x=\"164.5\" y=\"180.1387\">«item def»</text><text fill=\"#000000\" font-family=\"sans-serif\" font-size=\"12\" lengthAdjust=\"spacingAndGlyphs\" textLength=\"8\" x=\"193\" y=\"194.1074\">C</text><line style=\"stroke: #383838; stroke-width: 1.5;\" x1=\"142.5\" x2=\"251.5\" y1=\"201.9375\" y2=\"201.9375\"/><text fill=\"#000000\" font-family=\"sans-serif\" font-size=\"11\" lengthAdjust=\"spacingAndGlyphs\" textLength=\"38\" x=\"147.5\" y=\"232.9526\">x: Real</text><line style=\"stroke: #383838; stroke-width: 1.0;\" x1=\"142.5\" x2=\"169.5\" y1=\"216.3398\" y2=\"216.3398\"/><text fill=\"#000000\" font-family=\"sans-serif\" font-size=\"11\" lengthAdjust=\"spacingAndGlyphs\" textLength=\"55\" x=\"169.5\" y=\"219.6479\">attributes</text><line style=\"stroke: #383838; stroke-width: 1.0;\" x1=\"224.5\" x2=\"251.5\" y1=\"216.3398\" y2=\"216.3398\"/><text fill=\"#000000\" font-family=\"sans-serif\" font-size=\"11\" lengthAdjust=\"spacingAndGlyphs\" textLength=\"69\" x=\"147.5\" y=\"262.562\">x_constraint</text><line style=\"stroke: #383838; stroke-width: 1.0;\" x1=\"142.5\" x2=\"145.5\" y1=\"245.9492\" y2=\"245.9492\"/><text fill=\"#000000\" font-family=\"sans-serif\" font-size=\"11\" lengthAdjust=\"spacingAndGlyphs\" textLength=\"103\" x=\"145.5\" y=\"249.2573\">assertConstraints</text><line style=\"stroke: #383838; stroke-width: 1.0;\" x1=\"248.5\" x2=\"251.5\" y1=\"245.9492\" y2=\"245.9492\"/></a><!--MD5=[270fce915f116d4de14055a7c1d9a0f3]\n",
       "class E5--><a href=\"psysml:cbe71c02-e966-4d74-b7c0-f9e238b4431e\" target=\"_top\" title=\"psysml:cbe71c02-e966-4d74-b7c0-f9e238b4431e\" xlink:actuate=\"onRequest\" xlink:href=\"psysml:cbe71c02-e966-4d74-b7c0-f9e238b4431e\" xlink:show=\"new\" xlink:title=\"psysml:cbe71c02-e966-4d74-b7c0-f9e238b4431e\" xlink:type=\"simple\"><rect fill=\"#FFFFFF\" height=\"45.9375\" id=\"E5\" style=\"stroke: #383838; stroke-width: 1.5;\" width=\"79\" x=\"67.5\" y=\"41\"/><text fill=\"#000000\" font-family=\"sans-serif\" font-size=\"12\" font-style=\"italic\" lengthAdjust=\"spacingAndGlyphs\" textLength=\"77\" x=\"68.5\" y=\"57.1387\">«action def»</text><text fill=\"#000000\" font-family=\"sans-serif\" font-size=\"12\" lengthAdjust=\"spacingAndGlyphs\" textLength=\"27\" x=\"93.5\" y=\"71.1074\">setX</text><line style=\"stroke: #383838; stroke-width: 1.5;\" x1=\"68.5\" x2=\"145.5\" y1=\"78.9375\" y2=\"78.9375\"/></a><!--MD5=[6f107eb264eda4b26325f39a5516f1f3]\n",
       "reverse link E5 to E3--><a href=\"psysml:bf3dbcd8-0bef-4e93-82b9-0b5a37397746\" target=\"_top\" title=\"psysml:bf3dbcd8-0bef-4e93-82b9-0b5a37397746\" xlink:actuate=\"onRequest\" xlink:href=\"psysml:bf3dbcd8-0bef-4e93-82b9-0b5a37397746\" xlink:show=\"new\" xlink:title=\"psysml:bf3dbcd8-0bef-4e93-82b9-0b5a37397746\" xlink:type=\"simple\"><path d=\"M126.98,98.42 C138.48,117.65 153.18,142.22 166.13,163.88 \" fill=\"none\" id=\"E5&lt;-E3\" style=\"stroke: #383838; stroke-width: 1.0;\"/><polygon fill=\"#FFFFFF\" points=\"120.28,87.21,119.9261,94.4124,126.4384,97.5092,126.7923,90.3068,120.28,87.21\" style=\"stroke: #383838; stroke-width: 1.0;\"/><text fill=\"#000000\" font-family=\"sans-serif\" font-size=\"13\" lengthAdjust=\"spacingAndGlyphs\" textLength=\"7\" x=\"147\" y=\"130.0669\">c</text></a><!--MD5=[f51c6d1f1856fe338ac0413483fb1ccf]\n",
       "reverse link E5 to E2--><a href=\"psysml:0934341b-2e16-4f4c-9ea0-e4fb5c660a0a\" target=\"_top\" title=\"psysml:0934341b-2e16-4f4c-9ea0-e4fb5c660a0a\" xlink:actuate=\"onRequest\" xlink:href=\"psysml:0934341b-2e16-4f4c-9ea0-e4fb5c660a0a\" xlink:show=\"new\" xlink:title=\"psysml:0934341b-2e16-4f4c-9ea0-e4fb5c660a0a\" xlink:type=\"simple\"><path d=\"M98.18,99.93 C90.92,128.69 80.84,168.6 74.63,193.2 \" fill=\"none\" id=\"E5&lt;-E2\" style=\"stroke: #383838; stroke-width: 1.0;\"/><polygon fill=\"#FFFFFF\" points=\"101.39,87.21,96.0413,92.0465,98.4485,98.8439,103.7972,94.0074,101.39,87.21\" style=\"stroke: #383838; stroke-width: 1.0;\"/><text fill=\"#000000\" font-family=\"sans-serif\" font-size=\"13\" lengthAdjust=\"spacingAndGlyphs\" textLength=\"33\" x=\"94\" y=\"130.0669\">newX</text></a><!--MD5=[221cb6d2f3e544f7319a01d779972013]\n",
       "@startuml\r\n",
       "skinparam linetype polyline\r\n",
       "skinparam monochrome true\r\n",
       "skinparam classbackgroundcolor white\r\n",
       "skinparam shadowing false\r\n",
       "skinparam wrapWidth 300\r\n",
       "hide circle\r\n",
       "\r\n",
       "package \"TextualRepresentationTest\" as E1  [[psysml:13f83e37-e6d2-4a8e-ad71-0c715af430b4 ]]  {\r\n",
       "comp def \"Real\" as E2  <<(T,blue)dataType>> [[psysml:168d8746-881d-4018-9dc0-dced1b8b8eb0 ]] {\r\n",
       "}\r\n",
       "comp def \"C\" as E3  <<(T,blue)item def>> [[psysml:fec9e0ab-8313-4a0b-a62a-09c4083c89fd ]] {\r\n",
       "- - attributes - -\r\n",
       "x: Real\r\n",
       "- - assertConstraints - -\r\n",
       "x_constraint\r\n",
       "}\r\n",
       "comp def \"setX\" as E5  <<(T,blue)action def>> [[psysml:cbe71c02-e966-4d74-b7c0-f9e238b4431e ]] {\r\n",
       "}\r\n",
       "E5 o- - E3 [[psysml:bf3dbcd8-0bef-4e93-82b9-0b5a37397746 ]] : c\r\n",
       "E5 o- - E2 [[psysml:0934341b-2e16-4f4c-9ea0-e4fb5c660a0a ]] : newX\r\n",
       "}\r\n",
       "@enduml\r\n",
       "\n",
       "PlantUML version 1.2020.13(Sat Jun 13 12:26:38 UTC 2020)\n",
       "(EPL source distribution)\n",
       "Java Runtime: OpenJDK Runtime Environment\n",
       "JVM: OpenJDK 64-Bit Server VM\n",
       "Default Encoding: UTF-8\n",
       "Language: en\n",
       "Country: null\n",
       "--></g></svg>"
      ]
     },
     "execution_count": 14,
     "metadata": {},
     "output_type": "execute_result"
    }
   ],
   "source": [
    "%viz --style=\"POLYLINE\" --view=\"Sequence\" \"TextualRepresentationTest\""
   ]
  },
  {
   "cell_type": "code",
   "execution_count": 15,
   "id": "satisfied-firmware",
   "metadata": {
    "execution": {
     "iopub.execute_input": "2021-03-26T15:43:49.165130Z",
     "iopub.status.busy": "2021-03-26T15:43:49.164677Z",
     "iopub.status.idle": "2021-03-26T15:43:49.221536Z",
     "shell.execute_reply": "2021-03-26T15:43:49.221146Z"
    }
   },
   "outputs": [
    {
     "data": {
      "image/svg+xml": [
       "<?xml version=\"1.0\" encoding=\"UTF-8\" standalone=\"no\"?><svg xmlns=\"http://www.w3.org/2000/svg\" xmlns:xlink=\"http://www.w3.org/1999/xlink\" contentScriptType=\"application/ecmascript\" contentStyleType=\"text/css\" height=\"285px\" preserveAspectRatio=\"none\" style=\"width:432px;height:285px;\" version=\"1.1\" viewBox=\"0 0 432 285\" width=\"432px\" zoomAndPan=\"magnify\"><defs/><g><!--MD5=[fbc87193dbaf4d95561dea2c320d4a47]\n",
       "cluster E1--><a href=\"psysml:13f83e37-e6d2-4a8e-ad71-0c715af430b4\" target=\"_top\" title=\"psysml:13f83e37-e6d2-4a8e-ad71-0c715af430b4\" xlink:actuate=\"onRequest\" xlink:href=\"psysml:13f83e37-e6d2-4a8e-ad71-0c715af430b4\" xlink:show=\"new\" xlink:title=\"psysml:13f83e37-e6d2-4a8e-ad71-0c715af430b4\" xlink:type=\"simple\"><polygon fill=\"#FFFFFF\" points=\"16,6,236,6,243,28.2969,410,28.2969,410,273,16,273,16,6\" style=\"stroke: #000000; stroke-width: 1.5;\"/><line style=\"stroke: #000000; stroke-width: 1.5;\" x1=\"16\" x2=\"243\" y1=\"28.2969\" y2=\"28.2969\"/><text fill=\"#000000\" font-family=\"sans-serif\" font-size=\"14\" font-weight=\"bold\" lengthAdjust=\"spacingAndGlyphs\" textLength=\"214\" x=\"20\" y=\"20.9951\">TextualRepresentationTest</text></a><!--MD5=[de5ec2e2e8f62f467e546659f5068c88]\n",
       "cluster E5--><a href=\"psysml:cbe71c02-e966-4d74-b7c0-f9e238b4431e\" target=\"_top\" title=\"psysml:cbe71c02-e966-4d74-b7c0-f9e238b4431e\" xlink:actuate=\"onRequest\" xlink:href=\"psysml:cbe71c02-e966-4d74-b7c0-f9e238b4431e\" xlink:show=\"new\" xlink:title=\"psysml:cbe71c02-e966-4d74-b7c0-f9e238b4431e\" xlink:type=\"simple\"><rect fill=\"#FFFFFF\" height=\"163.5\" id=\"E5\" style=\"stroke: #383838; stroke-width: 1.5;\" width=\"96\" x=\"268.5\" y=\"93.5\"/><rect fill=\"#F8F8F8\" height=\"37.9375\" style=\"stroke: #383838; stroke-width: 1.5;\" width=\"96\" x=\"268.5\" y=\"93.5\"/><text fill=\"#000000\" font-family=\"sans-serif\" font-size=\"12\" font-style=\"italic\" lengthAdjust=\"spacingAndGlyphs\" textLength=\"77\" x=\"278\" y=\"109.6387\">«action def»</text><text fill=\"#000000\" font-family=\"sans-serif\" font-size=\"12\" lengthAdjust=\"spacingAndGlyphs\" textLength=\"27\" x=\"303\" y=\"123.6074\">setX</text></a><!--MD5=[b4997ac47864f28c2f74865a473b2911]\n",
       "class E2--><a href=\"psysml:168d8746-881d-4018-9dc0-dced1b8b8eb0\" target=\"_top\" title=\"psysml:168d8746-881d-4018-9dc0-dced1b8b8eb0\" xlink:actuate=\"onRequest\" xlink:href=\"psysml:168d8746-881d-4018-9dc0-dced1b8b8eb0\" xlink:show=\"new\" xlink:title=\"psysml:168d8746-881d-4018-9dc0-dced1b8b8eb0\" xlink:type=\"simple\"><rect fill=\"#FFFFFF\" height=\"45.9375\" id=\"E2\" style=\"stroke: #383838; stroke-width: 1.5;\" width=\"74\" x=\"178\" y=\"70.5\"/><text fill=\"#000000\" font-family=\"sans-serif\" font-size=\"12\" font-style=\"italic\" lengthAdjust=\"spacingAndGlyphs\" textLength=\"72\" x=\"179\" y=\"86.6387\">«dataType»</text><text fill=\"#000000\" font-family=\"sans-serif\" font-size=\"12\" lengthAdjust=\"spacingAndGlyphs\" textLength=\"27\" x=\"201.5\" y=\"100.6074\">Real</text><line style=\"stroke: #383838; stroke-width: 1.5;\" x1=\"179\" x2=\"251\" y1=\"108.4375\" y2=\"108.4375\"/></a><!--MD5=[09b614a08d8cba4a07c9adeb5e0fee81]\n",
       "class E3--><a href=\"psysml:fec9e0ab-8313-4a0b-a62a-09c4083c89fd\" target=\"_top\" title=\"psysml:fec9e0ab-8313-4a0b-a62a-09c4083c89fd\" xlink:actuate=\"onRequest\" xlink:href=\"psysml:fec9e0ab-8313-4a0b-a62a-09c4083c89fd\" xlink:show=\"new\" xlink:title=\"psysml:fec9e0ab-8313-4a0b-a62a-09c4083c89fd\" xlink:type=\"simple\"><rect fill=\"#FFFFFF\" height=\"105.1563\" id=\"E3\" style=\"stroke: #383838; stroke-width: 1.5;\" width=\"111\" x=\"31.5\" y=\"41\"/><text fill=\"#000000\" font-family=\"sans-serif\" font-size=\"12\" font-style=\"italic\" lengthAdjust=\"spacingAndGlyphs\" textLength=\"65\" x=\"54.5\" y=\"57.1387\">«item def»</text><text fill=\"#000000\" font-family=\"sans-serif\" font-size=\"12\" lengthAdjust=\"spacingAndGlyphs\" textLength=\"8\" x=\"83\" y=\"71.1074\">C</text><line style=\"stroke: #383838; stroke-width: 1.5;\" x1=\"32.5\" x2=\"141.5\" y1=\"78.9375\" y2=\"78.9375\"/><text fill=\"#000000\" font-family=\"sans-serif\" font-size=\"11\" lengthAdjust=\"spacingAndGlyphs\" textLength=\"38\" x=\"37.5\" y=\"109.9526\">x: Real</text><line style=\"stroke: #383838; stroke-width: 1.0;\" x1=\"32.5\" x2=\"59.5\" y1=\"93.3398\" y2=\"93.3398\"/><text fill=\"#000000\" font-family=\"sans-serif\" font-size=\"11\" lengthAdjust=\"spacingAndGlyphs\" textLength=\"55\" x=\"59.5\" y=\"96.6479\">attributes</text><line style=\"stroke: #383838; stroke-width: 1.0;\" x1=\"114.5\" x2=\"141.5\" y1=\"93.3398\" y2=\"93.3398\"/><text fill=\"#000000\" font-family=\"sans-serif\" font-size=\"11\" lengthAdjust=\"spacingAndGlyphs\" textLength=\"69\" x=\"37.5\" y=\"139.562\">x_constraint</text><line style=\"stroke: #383838; stroke-width: 1.0;\" x1=\"32.5\" x2=\"35.5\" y1=\"122.9492\" y2=\"122.9492\"/><text fill=\"#000000\" font-family=\"sans-serif\" font-size=\"11\" lengthAdjust=\"spacingAndGlyphs\" textLength=\"103\" x=\"35.5\" y=\"126.2573\">assertConstraints</text><line style=\"stroke: #383838; stroke-width: 1.0;\" x1=\"138.5\" x2=\"141.5\" y1=\"122.9492\" y2=\"122.9492\"/></a><text fill=\"#000000\" font-family=\"sans-serif\" font-size=\"14\" lengthAdjust=\"spacingAndGlyphs\" textLength=\"8\" x=\"289\" y=\"72.1982\">c</text><rect fill=\"#383838\" height=\"12\" style=\"stroke: #F8F8F8; stroke-width: 1.5;\" width=\"12\" x=\"287\" y=\"87.5\"/><text fill=\"#000000\" font-family=\"sans-serif\" font-size=\"14\" lengthAdjust=\"spacingAndGlyphs\" textLength=\"38\" x=\"321\" y=\"72.1982\">newX</text><rect fill=\"#383838\" height=\"12\" style=\"stroke: #F8F8F8; stroke-width: 1.5;\" width=\"12\" x=\"334\" y=\"87.5\"/><!--MD5=[67ced6d6c336e77d9fb9c221fd8d4633]\n",
       "@startuml\r\n",
       "skinparam linetype polyline\r\n",
       "skinparam monochrome true\r\n",
       "skinparam classbackgroundcolor white\r\n",
       "skinparam shadowing false\r\n",
       "skinparam wrapWidth 300\r\n",
       "hide circle\r\n",
       "\r\n",
       "package \"TextualRepresentationTest\" as E1  [[psysml:13f83e37-e6d2-4a8e-ad71-0c715af430b4 ]]  {\r\n",
       "comp def \"Real\" as E2  <<(T,blue)dataType>> [[psysml:168d8746-881d-4018-9dc0-dced1b8b8eb0 ]] {\r\n",
       "}\r\n",
       "comp def \"C\" as E3  <<(T,blue)item def>> [[psysml:fec9e0ab-8313-4a0b-a62a-09c4083c89fd ]] {\r\n",
       "- - attributes - -\r\n",
       "x: Real\r\n",
       "- - assertConstraints - -\r\n",
       "x_constraint\r\n",
       "}\r\n",
       "rec def \"setX\" as E5  <<(T,blue)action def>> [[psysml:cbe71c02-e966-4d74-b7c0-f9e238b4431e ]] {\r\n",
       "portin \"c\" as E6  [[psysml:bf3dbcd8-0bef-4e93-82b9-0b5a37397746 ]] \r\n",
       "portin \"newX\" as E7  [[psysml:0934341b-2e16-4f4c-9ea0-e4fb5c660a0a ]] \r\n",
       "}\r\n",
       "\r\n",
       "}\r\n",
       "@enduml\r\n",
       "\n",
       "PlantUML version 1.2020.13(Sat Jun 13 12:26:38 UTC 2020)\n",
       "(EPL source distribution)\n",
       "Java Runtime: OpenJDK Runtime Environment\n",
       "JVM: OpenJDK 64-Bit Server VM\n",
       "Default Encoding: UTF-8\n",
       "Language: en\n",
       "Country: null\n",
       "--></g></svg>"
      ]
     },
     "execution_count": 15,
     "metadata": {},
     "output_type": "execute_result"
    }
   ],
   "source": [
    "%viz --style=\"POLYLINE\" --view=\"MIXED\" \"TextualRepresentationTest\""
   ]
  },
  {
   "cell_type": "code",
   "execution_count": 16,
   "id": "cordless-international",
   "metadata": {
    "execution": {
     "iopub.execute_input": "2021-03-26T15:43:49.275598Z",
     "iopub.status.busy": "2021-03-26T15:43:49.274898Z",
     "iopub.status.idle": "2021-03-26T15:43:49.334511Z",
     "shell.execute_reply": "2021-03-26T15:43:49.334928Z"
    }
   },
   "outputs": [
    {
     "data": {
      "image/svg+xml": [
       "<?xml version=\"1.0\" encoding=\"UTF-8\" standalone=\"no\"?><svg xmlns=\"http://www.w3.org/2000/svg\" xmlns:xlink=\"http://www.w3.org/1999/xlink\" contentScriptType=\"application/ecmascript\" contentStyleType=\"text/css\" height=\"358px\" preserveAspectRatio=\"none\" style=\"width:359px;height:358px;\" version=\"1.1\" viewBox=\"0 0 359 358\" width=\"359px\" zoomAndPan=\"magnify\"><defs/><g><!--MD5=[fbc87193dbaf4d95561dea2c320d4a47]\n",
       "cluster E1--><a href=\"psysml:13f83e37-e6d2-4a8e-ad71-0c715af430b4\" target=\"_top\" title=\"psysml:13f83e37-e6d2-4a8e-ad71-0c715af430b4\" xlink:actuate=\"onRequest\" xlink:href=\"psysml:13f83e37-e6d2-4a8e-ad71-0c715af430b4\" xlink:show=\"new\" xlink:title=\"psysml:13f83e37-e6d2-4a8e-ad71-0c715af430b4\" xlink:type=\"simple\"><polygon fill=\"#FFFFFF\" points=\"16,6,236,6,243,28.2969,337,28.2969,337,346,16,346,16,6\" style=\"stroke: #000000; stroke-width: 1.5;\"/><line style=\"stroke: #000000; stroke-width: 1.5;\" x1=\"16\" x2=\"243\" y1=\"28.2969\" y2=\"28.2969\"/><text fill=\"#000000\" font-family=\"sans-serif\" font-size=\"14\" font-weight=\"bold\" lengthAdjust=\"spacingAndGlyphs\" textLength=\"214\" x=\"20\" y=\"20.9951\">TextualRepresentationTest</text></a><!--MD5=[de5ec2e2e8f62f467e546659f5068c88]\n",
       "cluster E5--><a href=\"psysml:cbe71c02-e966-4d74-b7c0-f9e238b4431e\" target=\"_top\" title=\"psysml:cbe71c02-e966-4d74-b7c0-f9e238b4431e\" xlink:actuate=\"onRequest\" xlink:href=\"psysml:cbe71c02-e966-4d74-b7c0-f9e238b4431e\" xlink:show=\"new\" xlink:title=\"psysml:cbe71c02-e966-4d74-b7c0-f9e238b4431e\" xlink:type=\"simple\"><rect fill=\"#FFFFFF\" height=\"47\" id=\"E5\" style=\"stroke: #383838; stroke-width: 1.5;\" width=\"251.5\" x=\"69.5\" y=\"55\"/><rect fill=\"#F8F8F8\" height=\"37.9375\" style=\"stroke: #383838; stroke-width: 1.5;\" width=\"251.5\" x=\"69.5\" y=\"55\"/><text fill=\"#000000\" font-family=\"sans-serif\" font-size=\"12\" font-style=\"italic\" lengthAdjust=\"spacingAndGlyphs\" textLength=\"77\" x=\"156.75\" y=\"71.1387\">«action def»</text><text fill=\"#000000\" font-family=\"sans-serif\" font-size=\"12\" lengthAdjust=\"spacingAndGlyphs\" textLength=\"27\" x=\"181.75\" y=\"85.1074\">setX</text></a><!--MD5=[b4997ac47864f28c2f74865a473b2911]\n",
       "class E2--><a href=\"psysml:168d8746-881d-4018-9dc0-dced1b8b8eb0\" target=\"_top\" title=\"psysml:168d8746-881d-4018-9dc0-dced1b8b8eb0\" xlink:actuate=\"onRequest\" xlink:href=\"psysml:168d8746-881d-4018-9dc0-dced1b8b8eb0\" xlink:show=\"new\" xlink:title=\"psysml:168d8746-881d-4018-9dc0-dced1b8b8eb0\" xlink:type=\"simple\"><rect fill=\"#FFFFFF\" height=\"45.9375\" id=\"E2\" style=\"stroke: #383838; stroke-width: 1.5;\" width=\"74\" x=\"50.5\" y=\"143\"/><text fill=\"#000000\" font-family=\"sans-serif\" font-size=\"12\" font-style=\"italic\" lengthAdjust=\"spacingAndGlyphs\" textLength=\"72\" x=\"51.5\" y=\"159.1387\">«dataType»</text><text fill=\"#000000\" font-family=\"sans-serif\" font-size=\"12\" lengthAdjust=\"spacingAndGlyphs\" textLength=\"27\" x=\"74\" y=\"173.1074\">Real</text><line style=\"stroke: #383838; stroke-width: 1.5;\" x1=\"51.5\" x2=\"123.5\" y1=\"180.9375\" y2=\"180.9375\"/></a><!--MD5=[09b614a08d8cba4a07c9adeb5e0fee81]\n",
       "class E3--><a href=\"psysml:fec9e0ab-8313-4a0b-a62a-09c4083c89fd\" target=\"_top\" title=\"psysml:fec9e0ab-8313-4a0b-a62a-09c4083c89fd\" xlink:actuate=\"onRequest\" xlink:href=\"psysml:fec9e0ab-8313-4a0b-a62a-09c4083c89fd\" xlink:show=\"new\" xlink:title=\"psysml:fec9e0ab-8313-4a0b-a62a-09c4083c89fd\" xlink:type=\"simple\"><rect fill=\"#FFFFFF\" height=\"105.1563\" id=\"E3\" style=\"stroke: #383838; stroke-width: 1.5;\" width=\"111\" x=\"32\" y=\"224.5\"/><text fill=\"#000000\" font-family=\"sans-serif\" font-size=\"12\" font-style=\"italic\" lengthAdjust=\"spacingAndGlyphs\" textLength=\"65\" x=\"55\" y=\"240.6387\">«item def»</text><text fill=\"#000000\" font-family=\"sans-serif\" font-size=\"12\" lengthAdjust=\"spacingAndGlyphs\" textLength=\"8\" x=\"83.5\" y=\"254.6074\">C</text><line style=\"stroke: #383838; stroke-width: 1.5;\" x1=\"33\" x2=\"142\" y1=\"262.4375\" y2=\"262.4375\"/><text fill=\"#000000\" font-family=\"sans-serif\" font-size=\"11\" lengthAdjust=\"spacingAndGlyphs\" textLength=\"38\" x=\"38\" y=\"293.4526\">x: Real</text><line style=\"stroke: #383838; stroke-width: 1.0;\" x1=\"33\" x2=\"60\" y1=\"276.8398\" y2=\"276.8398\"/><text fill=\"#000000\" font-family=\"sans-serif\" font-size=\"11\" lengthAdjust=\"spacingAndGlyphs\" textLength=\"55\" x=\"60\" y=\"280.1479\">attributes</text><line style=\"stroke: #383838; stroke-width: 1.0;\" x1=\"115\" x2=\"142\" y1=\"276.8398\" y2=\"276.8398\"/><text fill=\"#000000\" font-family=\"sans-serif\" font-size=\"11\" lengthAdjust=\"spacingAndGlyphs\" textLength=\"69\" x=\"38\" y=\"323.062\">x_constraint</text><line style=\"stroke: #383838; stroke-width: 1.0;\" x1=\"33\" x2=\"36\" y1=\"306.4492\" y2=\"306.4492\"/><text fill=\"#000000\" font-family=\"sans-serif\" font-size=\"11\" lengthAdjust=\"spacingAndGlyphs\" textLength=\"103\" x=\"36\" y=\"309.7573\">assertConstraints</text><line style=\"stroke: #383838; stroke-width: 1.0;\" x1=\"139\" x2=\"142\" y1=\"306.4492\" y2=\"306.4492\"/></a><text fill=\"#000000\" font-family=\"sans-serif\" font-size=\"14\" lengthAdjust=\"spacingAndGlyphs\" textLength=\"8\" x=\"83.5\" y=\"120.9951\">c</text><rect fill=\"#383838\" height=\"12\" style=\"stroke: #F8F8F8; stroke-width: 1.5;\" width=\"12\" x=\"81.5\" y=\"96\"/><text fill=\"#000000\" font-family=\"sans-serif\" font-size=\"14\" lengthAdjust=\"spacingAndGlyphs\" textLength=\"38\" x=\"68.5\" y=\"33.6982\">newX</text><rect fill=\"#383838\" height=\"12\" style=\"stroke: #F8F8F8; stroke-width: 1.5;\" width=\"12\" x=\"81.5\" y=\"49\"/><!--MD5=[4bd8729513501288411ed625aba9aa92]\n",
       "@startuml\r\n",
       "left to right direction\r\n",
       "skinparam monochrome true\r\n",
       "skinparam classbackgroundcolor white\r\n",
       "skinparam shadowing false\r\n",
       "skinparam wrapWidth 300\r\n",
       "hide circle\r\n",
       "\r\n",
       "package \"TextualRepresentationTest\" as E1  [[psysml:13f83e37-e6d2-4a8e-ad71-0c715af430b4 ]]  {\r\n",
       "comp def \"Real\" as E2  <<(T,blue)dataType>> [[psysml:168d8746-881d-4018-9dc0-dced1b8b8eb0 ]] {\r\n",
       "}\r\n",
       "comp def \"C\" as E3  <<(T,blue)item def>> [[psysml:fec9e0ab-8313-4a0b-a62a-09c4083c89fd ]] {\r\n",
       "- - attributes - -\r\n",
       "x: Real\r\n",
       "- - assertConstraints - -\r\n",
       "x_constraint\r\n",
       "}\r\n",
       "rec def \"setX\" as E5  <<(T,blue)action def>> [[psysml:cbe71c02-e966-4d74-b7c0-f9e238b4431e ]] {\r\n",
       "portin \"c\" as E6  [[psysml:bf3dbcd8-0bef-4e93-82b9-0b5a37397746 ]] \r\n",
       "portin \"newX\" as E7  [[psysml:0934341b-2e16-4f4c-9ea0-e4fb5c660a0a ]] \r\n",
       "}\r\n",
       "\r\n",
       "}\r\n",
       "@enduml\r\n",
       "\n",
       "PlantUML version 1.2020.13(Sat Jun 13 12:26:38 UTC 2020)\n",
       "(EPL source distribution)\n",
       "Java Runtime: OpenJDK Runtime Environment\n",
       "JVM: OpenJDK 64-Bit Server VM\n",
       "Default Encoding: UTF-8\n",
       "Language: en\n",
       "Country: null\n",
       "--></g></svg>"
      ]
     },
     "execution_count": 16,
     "metadata": {},
     "output_type": "execute_result"
    }
   ],
   "source": [
    "%viz --style=\"LR\" --view=\"Default\" \"TextualRepresentationTest\""
   ]
  },
  {
   "cell_type": "code",
   "execution_count": 17,
   "id": "armed-genius",
   "metadata": {
    "execution": {
     "iopub.execute_input": "2021-03-26T15:43:49.386620Z",
     "iopub.status.busy": "2021-03-26T15:43:49.385956Z",
     "iopub.status.idle": "2021-03-26T15:43:49.442103Z",
     "shell.execute_reply": "2021-03-26T15:43:49.442433Z"
    }
   },
   "outputs": [
    {
     "data": {
      "image/svg+xml": [
       "<?xml version=\"1.0\" encoding=\"UTF-8\" standalone=\"no\"?><svg xmlns=\"http://www.w3.org/2000/svg\" xmlns:xlink=\"http://www.w3.org/1999/xlink\" contentScriptType=\"application/ecmascript\" contentStyleType=\"text/css\" height=\"256px\" preserveAspectRatio=\"none\" style=\"width:355px;height:256px;\" version=\"1.1\" viewBox=\"0 0 355 256\" width=\"355px\" zoomAndPan=\"magnify\"><defs/><g><!--MD5=[fbc87193dbaf4d95561dea2c320d4a47]\n",
       "cluster E1--><a href=\"psysml:13f83e37-e6d2-4a8e-ad71-0c715af430b4\" target=\"_top\" title=\"psysml:13f83e37-e6d2-4a8e-ad71-0c715af430b4\" xlink:actuate=\"onRequest\" xlink:href=\"psysml:13f83e37-e6d2-4a8e-ad71-0c715af430b4\" xlink:show=\"new\" xlink:title=\"psysml:13f83e37-e6d2-4a8e-ad71-0c715af430b4\" xlink:type=\"simple\"><polygon fill=\"#FFFFFF\" points=\"16,6,236,6,243,28.2969,333,28.2969,333,244,16,244,16,6\" style=\"stroke: #000000; stroke-width: 1.5;\"/><line style=\"stroke: #000000; stroke-width: 1.5;\" x1=\"16\" x2=\"243\" y1=\"28.2969\" y2=\"28.2969\"/><text fill=\"#000000\" font-family=\"sans-serif\" font-size=\"14\" font-weight=\"bold\" lengthAdjust=\"spacingAndGlyphs\" textLength=\"214\" x=\"20\" y=\"20.9951\">TextualRepresentationTest</text></a><!--MD5=[b4997ac47864f28c2f74865a473b2911]\n",
       "class E2--><a href=\"psysml:168d8746-881d-4018-9dc0-dced1b8b8eb0\" target=\"_top\" title=\"psysml:168d8746-881d-4018-9dc0-dced1b8b8eb0\" xlink:actuate=\"onRequest\" xlink:href=\"psysml:168d8746-881d-4018-9dc0-dced1b8b8eb0\" xlink:show=\"new\" xlink:title=\"psysml:168d8746-881d-4018-9dc0-dced1b8b8eb0\" xlink:type=\"simple\"><rect fill=\"#FFFFFF\" height=\"45.9375\" id=\"E2\" style=\"stroke: #383838; stroke-width: 1.5;\" width=\"74\" x=\"224.5\" y=\"182\"/><text fill=\"#000000\" font-family=\"sans-serif\" font-size=\"12\" font-style=\"italic\" lengthAdjust=\"spacingAndGlyphs\" textLength=\"72\" x=\"225.5\" y=\"198.1387\">«dataType»</text><text fill=\"#000000\" font-family=\"sans-serif\" font-size=\"12\" lengthAdjust=\"spacingAndGlyphs\" textLength=\"27\" x=\"248\" y=\"212.1074\">Real</text><line style=\"stroke: #383838; stroke-width: 1.5;\" x1=\"225.5\" x2=\"297.5\" y1=\"219.9375\" y2=\"219.9375\"/></a><!--MD5=[09b614a08d8cba4a07c9adeb5e0fee81]\n",
       "class E3--><a href=\"psysml:fec9e0ab-8313-4a0b-a62a-09c4083c89fd\" target=\"_top\" title=\"psysml:fec9e0ab-8313-4a0b-a62a-09c4083c89fd\" xlink:actuate=\"onRequest\" xlink:href=\"psysml:fec9e0ab-8313-4a0b-a62a-09c4083c89fd\" xlink:show=\"new\" xlink:title=\"psysml:fec9e0ab-8313-4a0b-a62a-09c4083c89fd\" xlink:type=\"simple\"><rect fill=\"#FFFFFF\" height=\"105.1563\" id=\"E3\" style=\"stroke: #383838; stroke-width: 1.5;\" width=\"111\" x=\"206\" y=\"41.5\"/><text fill=\"#000000\" font-family=\"sans-serif\" font-size=\"12\" font-style=\"italic\" lengthAdjust=\"spacingAndGlyphs\" textLength=\"65\" x=\"229\" y=\"57.6387\">«item def»</text><text fill=\"#000000\" font-family=\"sans-serif\" font-size=\"12\" lengthAdjust=\"spacingAndGlyphs\" textLength=\"8\" x=\"257.5\" y=\"71.6074\">C</text><line style=\"stroke: #383838; stroke-width: 1.5;\" x1=\"207\" x2=\"316\" y1=\"79.4375\" y2=\"79.4375\"/><text fill=\"#000000\" font-family=\"sans-serif\" font-size=\"11\" lengthAdjust=\"spacingAndGlyphs\" textLength=\"38\" x=\"212\" y=\"110.4526\">x: Real</text><line style=\"stroke: #383838; stroke-width: 1.0;\" x1=\"207\" x2=\"234\" y1=\"93.8398\" y2=\"93.8398\"/><text fill=\"#000000\" font-family=\"sans-serif\" font-size=\"11\" lengthAdjust=\"spacingAndGlyphs\" textLength=\"55\" x=\"234\" y=\"97.1479\">attributes</text><line style=\"stroke: #383838; stroke-width: 1.0;\" x1=\"289\" x2=\"316\" y1=\"93.8398\" y2=\"93.8398\"/><text fill=\"#000000\" font-family=\"sans-serif\" font-size=\"11\" lengthAdjust=\"spacingAndGlyphs\" textLength=\"69\" x=\"212\" y=\"140.062\">x_constraint</text><line style=\"stroke: #383838; stroke-width: 1.0;\" x1=\"207\" x2=\"210\" y1=\"123.4492\" y2=\"123.4492\"/><text fill=\"#000000\" font-family=\"sans-serif\" font-size=\"11\" lengthAdjust=\"spacingAndGlyphs\" textLength=\"103\" x=\"210\" y=\"126.7573\">assertConstraints</text><line style=\"stroke: #383838; stroke-width: 1.0;\" x1=\"313\" x2=\"316\" y1=\"123.4492\" y2=\"123.4492\"/></a><!--MD5=[270fce915f116d4de14055a7c1d9a0f3]\n",
       "class E5--><a href=\"psysml:cbe71c02-e966-4d74-b7c0-f9e238b4431e\" target=\"_top\" title=\"psysml:cbe71c02-e966-4d74-b7c0-f9e238b4431e\" xlink:actuate=\"onRequest\" xlink:href=\"psysml:cbe71c02-e966-4d74-b7c0-f9e238b4431e\" xlink:show=\"new\" xlink:title=\"psysml:cbe71c02-e966-4d74-b7c0-f9e238b4431e\" xlink:type=\"simple\"><rect fill=\"#FFFFFF\" height=\"45.9375\" id=\"E5\" style=\"stroke: #383838; stroke-width: 1.5;\" width=\"79\" x=\"32\" y=\"116\"/><text fill=\"#000000\" font-family=\"sans-serif\" font-size=\"12\" font-style=\"italic\" lengthAdjust=\"spacingAndGlyphs\" textLength=\"77\" x=\"33\" y=\"132.1387\">«action def»</text><text fill=\"#000000\" font-family=\"sans-serif\" font-size=\"12\" lengthAdjust=\"spacingAndGlyphs\" textLength=\"27\" x=\"58\" y=\"146.1074\">setX</text><line style=\"stroke: #383838; stroke-width: 1.5;\" x1=\"33\" x2=\"110\" y1=\"153.9375\" y2=\"153.9375\"/></a><!--MD5=[6f107eb264eda4b26325f39a5516f1f3]\n",
       "reverse link E5 to E3--><a href=\"psysml:bf3dbcd8-0bef-4e93-82b9-0b5a37397746\" target=\"_top\" title=\"psysml:bf3dbcd8-0bef-4e93-82b9-0b5a37397746\" xlink:actuate=\"onRequest\" xlink:href=\"psysml:bf3dbcd8-0bef-4e93-82b9-0b5a37397746\" xlink:show=\"new\" xlink:title=\"psysml:bf3dbcd8-0bef-4e93-82b9-0b5a37397746\" xlink:type=\"simple\"><path d=\"M124.2,126.63 C149.58,120.55 180.16,113.23 205.91,107.07 \" fill=\"none\" id=\"E5&lt;-E3\" style=\"stroke: #383838; stroke-width: 1.0;\"/><polygon fill=\"#FFFFFF\" points=\"111.45,129.68,118.2168,132.1722,123.1198,126.8845,116.3531,124.3923,111.45,129.68\" style=\"stroke: #383838; stroke-width: 1.0;\"/><text fill=\"#000000\" font-family=\"sans-serif\" font-size=\"13\" lengthAdjust=\"spacingAndGlyphs\" textLength=\"7\" x=\"155\" y=\"112.0669\">c</text></a><!--MD5=[f51c6d1f1856fe338ac0413483fb1ccf]\n",
       "reverse link E5 to E2--><a href=\"psysml:0934341b-2e16-4f4c-9ea0-e4fb5c660a0a\" target=\"_top\" title=\"psysml:0934341b-2e16-4f4c-9ea0-e4fb5c660a0a\" xlink:actuate=\"onRequest\" xlink:href=\"psysml:0934341b-2e16-4f4c-9ea0-e4fb5c660a0a\" xlink:show=\"new\" xlink:title=\"psysml:0934341b-2e16-4f4c-9ea0-e4fb5c660a0a\" xlink:type=\"simple\"><path d=\"M124.1,157.11 C155.95,168.3 196.01,182.36 224.46,192.35 \" fill=\"none\" id=\"E5&lt;-E2\" style=\"stroke: #383838; stroke-width: 1.0;\"/><polygon fill=\"#FFFFFF\" points=\"111.45,152.68,115.7816,158.4452,122.7693,156.6642,118.4377,150.899,111.45,152.68\" style=\"stroke: #383838; stroke-width: 1.0;\"/><text fill=\"#000000\" font-family=\"sans-serif\" font-size=\"13\" lengthAdjust=\"spacingAndGlyphs\" textLength=\"33\" x=\"142\" y=\"161.0669\">newX</text></a><!--MD5=[0e5b4e63bc7e633ddca691baad95a201]\n",
       "@startuml\r\n",
       "left to right direction\r\n",
       "skinparam monochrome true\r\n",
       "skinparam classbackgroundcolor white\r\n",
       "skinparam shadowing false\r\n",
       "skinparam wrapWidth 300\r\n",
       "hide circle\r\n",
       "\r\n",
       "package \"TextualRepresentationTest\" as E1  [[psysml:13f83e37-e6d2-4a8e-ad71-0c715af430b4 ]]  {\r\n",
       "comp def \"Real\" as E2  <<(T,blue)dataType>> [[psysml:168d8746-881d-4018-9dc0-dced1b8b8eb0 ]] {\r\n",
       "}\r\n",
       "comp def \"C\" as E3  <<(T,blue)item def>> [[psysml:fec9e0ab-8313-4a0b-a62a-09c4083c89fd ]] {\r\n",
       "- - attributes - -\r\n",
       "x: Real\r\n",
       "- - assertConstraints - -\r\n",
       "x_constraint\r\n",
       "}\r\n",
       "comp def \"setX\" as E5  <<(T,blue)action def>> [[psysml:cbe71c02-e966-4d74-b7c0-f9e238b4431e ]] {\r\n",
       "}\r\n",
       "E5 o- - E3 [[psysml:bf3dbcd8-0bef-4e93-82b9-0b5a37397746 ]] : c\r\n",
       "E5 o- - E2 [[psysml:0934341b-2e16-4f4c-9ea0-e4fb5c660a0a ]] : newX\r\n",
       "}\r\n",
       "@enduml\r\n",
       "\n",
       "PlantUML version 1.2020.13(Sat Jun 13 12:26:38 UTC 2020)\n",
       "(EPL source distribution)\n",
       "Java Runtime: OpenJDK Runtime Environment\n",
       "JVM: OpenJDK 64-Bit Server VM\n",
       "Default Encoding: UTF-8\n",
       "Language: en\n",
       "Country: null\n",
       "--></g></svg>"
      ]
     },
     "execution_count": 17,
     "metadata": {},
     "output_type": "execute_result"
    }
   ],
   "source": [
    "%viz --style=\"LR\" --view=\"Tree\" \"TextualRepresentationTest\""
   ]
  },
  {
   "cell_type": "code",
   "execution_count": 18,
   "id": "oriental-anthony",
   "metadata": {
    "execution": {
     "iopub.execute_input": "2021-03-26T15:43:49.493620Z",
     "iopub.status.busy": "2021-03-26T15:43:49.492999Z",
     "iopub.status.idle": "2021-03-26T15:43:49.499118Z",
     "shell.execute_reply": "2021-03-26T15:43:49.498789Z"
    }
   },
   "outputs": [
    {
     "data": {
      "image/svg+xml": [
       "<?xml version=\"1.0\" encoding=\"UTF-8\" standalone=\"no\"?><svg xmlns=\"http://www.w3.org/2000/svg\" xmlns:xlink=\"http://www.w3.org/1999/xlink\" contentScriptType=\"application/ecmascript\" contentStyleType=\"text/css\" height=\"12px\" preserveAspectRatio=\"none\" style=\"width:12px;height:12px;\" version=\"1.1\" viewBox=\"0 0 12 12\" width=\"12px\" zoomAndPan=\"magnify\"><defs/><g><!--MD5=[19d285c9d72a204eba4e2cd117d745e8]\n",
       "@startuml\r\n",
       "left to right direction\r\n",
       "skinparam monochrome true\r\n",
       "skinparam classbackgroundcolor white\r\n",
       "skinparam shadowing false\r\n",
       "skinparam wrapWidth 300\r\n",
       "hide circle\r\n",
       "\r\n",
       "@enduml\r\n",
       "\n",
       "PlantUML version 1.2020.13(Sat Jun 13 12:26:38 UTC 2020)\n",
       "(EPL source distribution)\n",
       "Java Runtime: OpenJDK Runtime Environment\n",
       "JVM: OpenJDK 64-Bit Server VM\n",
       "Default Encoding: UTF-8\n",
       "Language: en\n",
       "Country: null\n",
       "--></g></svg>"
      ]
     },
     "execution_count": 18,
     "metadata": {},
     "output_type": "execute_result"
    }
   ],
   "source": [
    "%viz --style=\"LR\" --view=\"State\" \"TextualRepresentationTest\""
   ]
  },
  {
   "cell_type": "code",
   "execution_count": 19,
   "id": "wicked-madonna",
   "metadata": {
    "execution": {
     "iopub.execute_input": "2021-03-26T15:43:49.551379Z",
     "iopub.status.busy": "2021-03-26T15:43:49.550508Z",
     "iopub.status.idle": "2021-03-26T15:43:49.582300Z",
     "shell.execute_reply": "2021-03-26T15:43:49.581993Z"
    }
   },
   "outputs": [
    {
     "data": {
      "image/svg+xml": [
       "<?xml version=\"1.0\" encoding=\"UTF-8\" standalone=\"no\"?><svg xmlns=\"http://www.w3.org/2000/svg\" xmlns:xlink=\"http://www.w3.org/1999/xlink\" contentScriptType=\"application/ecmascript\" contentStyleType=\"text/css\" height=\"293px\" preserveAspectRatio=\"none\" style=\"width:283px;height:293px;\" version=\"1.1\" viewBox=\"0 0 283 293\" width=\"283px\" zoomAndPan=\"magnify\"><defs/><g><!--MD5=[fbc87193dbaf4d95561dea2c320d4a47]\n",
       "cluster E1--><a href=\"psysml:13f83e37-e6d2-4a8e-ad71-0c715af430b4\" target=\"_top\" title=\"psysml:13f83e37-e6d2-4a8e-ad71-0c715af430b4\" xlink:actuate=\"onRequest\" xlink:href=\"psysml:13f83e37-e6d2-4a8e-ad71-0c715af430b4\" xlink:show=\"new\" xlink:title=\"psysml:13f83e37-e6d2-4a8e-ad71-0c715af430b4\" xlink:type=\"simple\"><polygon fill=\"#FFFFFF\" points=\"16,6,236,6,243,28.2969,261,28.2969,261,281,16,281,16,6\" style=\"stroke: #000000; stroke-width: 1.5;\"/><line style=\"stroke: #000000; stroke-width: 1.5;\" x1=\"16\" x2=\"243\" y1=\"28.2969\" y2=\"28.2969\"/><text fill=\"#000000\" font-family=\"sans-serif\" font-size=\"14\" font-weight=\"bold\" lengthAdjust=\"spacingAndGlyphs\" textLength=\"214\" x=\"20\" y=\"20.9951\">TextualRepresentationTest</text></a><!--MD5=[f6df4d0ebaf0b5dfb2ced0ae5af7c670]\n",
       "cluster E4--><a href=\"psysml:cbe71c02-e966-4d74-b7c0-f9e238b4431e\" target=\"_top\" title=\"psysml:cbe71c02-e966-4d74-b7c0-f9e238b4431e\" xlink:actuate=\"onRequest\" xlink:href=\"psysml:cbe71c02-e966-4d74-b7c0-f9e238b4431e\" xlink:show=\"new\" xlink:title=\"psysml:cbe71c02-e966-4d74-b7c0-f9e238b4431e\" xlink:type=\"simple\"><rect fill=\"#FFFFFF\" height=\"47\" id=\"E4\" style=\"stroke: #383838; stroke-width: 1.5;\" width=\"191.5\" x=\"53.5\" y=\"55\"/><rect fill=\"#F8F8F8\" height=\"37.9375\" style=\"stroke: #383838; stroke-width: 1.5;\" width=\"191.5\" x=\"53.5\" y=\"55\"/><text fill=\"#000000\" font-family=\"sans-serif\" font-size=\"12\" font-style=\"italic\" lengthAdjust=\"spacingAndGlyphs\" textLength=\"77\" x=\"110.75\" y=\"71.1387\">«action def»</text><text fill=\"#000000\" font-family=\"sans-serif\" font-size=\"12\" lengthAdjust=\"spacingAndGlyphs\" textLength=\"27\" x=\"135.75\" y=\"85.1074\">setX</text></a><g id=\"E1.E2\"><a href=\"psysml:168d8746-881d-4018-9dc0-dced1b8b8eb0\" target=\"_top\" title=\"psysml:168d8746-881d-4018-9dc0-dced1b8b8eb0\" xlink:actuate=\"onRequest\" xlink:href=\"psysml:168d8746-881d-4018-9dc0-dced1b8b8eb0\" xlink:show=\"new\" xlink:title=\"psysml:168d8746-881d-4018-9dc0-dced1b8b8eb0\" xlink:type=\"simple\"><rect fill=\"#FFFFFF\" height=\"42.9375\" id=\"E2\" style=\"stroke: #383838; stroke-width: 1.5;\" width=\"79\" x=\"32\" y=\"143.5\"/><rect fill=\"#F8F8F8\" height=\"37.9375\" style=\"stroke: #383838; stroke-width: 1.5;\" width=\"79\" x=\"32\" y=\"143.5\"/><text fill=\"#000000\" font-family=\"sans-serif\" font-size=\"12\" font-style=\"italic\" lengthAdjust=\"spacingAndGlyphs\" textLength=\"72\" x=\"35.5\" y=\"159.6387\">«dataType»</text><text fill=\"#000000\" font-family=\"sans-serif\" font-size=\"12\" lengthAdjust=\"spacingAndGlyphs\" textLength=\"27\" x=\"58\" y=\"173.6074\">Real</text></a></g><g id=\"E1.E3\"><a href=\"psysml:fec9e0ab-8313-4a0b-a62a-09c4083c89fd\" target=\"_top\" title=\"psysml:fec9e0ab-8313-4a0b-a62a-09c4083c89fd\" xlink:actuate=\"onRequest\" xlink:href=\"psysml:fec9e0ab-8313-4a0b-a62a-09c4083c89fd\" xlink:show=\"new\" xlink:title=\"psysml:fec9e0ab-8313-4a0b-a62a-09c4083c89fd\" xlink:type=\"simple\"><rect fill=\"#FFFFFF\" height=\"42.9375\" id=\"E3\" style=\"stroke: #383838; stroke-width: 1.5;\" width=\"72\" x=\"35.5\" y=\"221.5\"/><rect fill=\"#F8F8F8\" height=\"37.9375\" style=\"stroke: #383838; stroke-width: 1.5;\" width=\"72\" x=\"35.5\" y=\"221.5\"/><text fill=\"#000000\" font-family=\"sans-serif\" font-size=\"12\" font-style=\"italic\" lengthAdjust=\"spacingAndGlyphs\" textLength=\"65\" x=\"39\" y=\"237.6387\">«item def»</text><text fill=\"#000000\" font-family=\"sans-serif\" font-size=\"12\" lengthAdjust=\"spacingAndGlyphs\" textLength=\"8\" x=\"67.5\" y=\"251.6074\">C</text></a></g><text fill=\"#000000\" font-family=\"sans-serif\" font-size=\"14\" lengthAdjust=\"spacingAndGlyphs\" textLength=\"8\" x=\"67.5\" y=\"120.9951\">c</text><rect fill=\"#383838\" height=\"12\" style=\"stroke: #F8F8F8; stroke-width: 1.5;\" width=\"12\" x=\"65.5\" y=\"96\"/><text fill=\"#000000\" font-family=\"sans-serif\" font-size=\"14\" lengthAdjust=\"spacingAndGlyphs\" textLength=\"38\" x=\"52.5\" y=\"33.6982\">newX</text><rect fill=\"#383838\" height=\"12\" style=\"stroke: #F8F8F8; stroke-width: 1.5;\" width=\"12\" x=\"65.5\" y=\"49\"/><!--MD5=[141858ac87c6d8404d86e29d97dbf758]\n",
       "@startuml\r\n",
       "skinparam ranksep 10\r\n",
       "skinparam rectangle {\r\n",
       " backgroundColor<<block>> LightGreen\r\n",
       "}\r\n",
       "left to right direction\r\n",
       "skinparam monochrome true\r\n",
       "skinparam classbackgroundcolor white\r\n",
       "skinparam shadowing false\r\n",
       "skinparam wrapWidth 300\r\n",
       "hide circle\r\n",
       "\r\n",
       "package \"TextualRepresentationTest\" as E1  [[psysml:13f83e37-e6d2-4a8e-ad71-0c715af430b4 ]]  {\r\n",
       "def \"Real\" as E2  <<(T,blue)dataType>> [[psysml:168d8746-881d-4018-9dc0-dced1b8b8eb0 ]] \r\n",
       "def \"C\" as E3  <<(T,blue)item def>> [[psysml:fec9e0ab-8313-4a0b-a62a-09c4083c89fd ]] \r\n",
       "rec def \"setX\" as E4  <<(T,blue)action def>> [[psysml:cbe71c02-e966-4d74-b7c0-f9e238b4431e ]] {\r\n",
       "portin \"c\" as E5  [[psysml:bf3dbcd8-0bef-4e93-82b9-0b5a37397746 ]] \r\n",
       "portin \"newX\" as E6  [[psysml:0934341b-2e16-4f4c-9ea0-e4fb5c660a0a ]] \r\n",
       "}\r\n",
       "\r\n",
       "}\r\n",
       "@enduml\r\n",
       "\n",
       "PlantUML version 1.2020.13(Sat Jun 13 12:26:38 UTC 2020)\n",
       "(EPL source distribution)\n",
       "Java Runtime: OpenJDK Runtime Environment\n",
       "JVM: OpenJDK 64-Bit Server VM\n",
       "Default Encoding: UTF-8\n",
       "Language: en\n",
       "Country: null\n",
       "--></g></svg>"
      ]
     },
     "execution_count": 19,
     "metadata": {},
     "output_type": "execute_result"
    }
   ],
   "source": [
    "%viz --style=\"LR\" --view=\"Interconnection\" \"TextualRepresentationTest\""
   ]
  },
  {
   "cell_type": "code",
   "execution_count": 20,
   "id": "proof-terrorism",
   "metadata": {
    "execution": {
     "iopub.execute_input": "2021-03-26T15:43:49.635395Z",
     "iopub.status.busy": "2021-03-26T15:43:49.634830Z",
     "iopub.status.idle": "2021-03-26T15:43:49.661340Z",
     "shell.execute_reply": "2021-03-26T15:43:49.660960Z"
    }
   },
   "outputs": [
    {
     "data": {
      "image/svg+xml": [
       "<?xml version=\"1.0\" encoding=\"UTF-8\" standalone=\"no\"?><svg xmlns=\"http://www.w3.org/2000/svg\" xmlns:xlink=\"http://www.w3.org/1999/xlink\" contentScriptType=\"application/ecmascript\" contentStyleType=\"text/css\" height=\"121px\" preserveAspectRatio=\"none\" style=\"width:176px;height:121px;\" version=\"1.1\" viewBox=\"0 0 176 121\" width=\"176px\" zoomAndPan=\"magnify\"><defs/><g><!--MD5=[fbc87193dbaf4d95561dea2c320d4a47]\n",
       "cluster E1--><a href=\"psysml:cbe71c02-e966-4d74-b7c0-f9e238b4431e\" target=\"_top\" title=\"psysml:cbe71c02-e966-4d74-b7c0-f9e238b4431e\" xlink:actuate=\"onRequest\" xlink:href=\"psysml:cbe71c02-e966-4d74-b7c0-f9e238b4431e\" xlink:show=\"new\" xlink:title=\"psysml:cbe71c02-e966-4d74-b7c0-f9e238b4431e\" xlink:type=\"simple\"><rect fill=\"#FFFFFF\" height=\"47\" id=\"E1\" style=\"stroke: #383838; stroke-width: 1.5;\" width=\"158\" x=\"7\" y=\"42.0986\"/><rect fill=\"#F8F8F8\" height=\"37.9375\" style=\"stroke: #383838; stroke-width: 1.5;\" width=\"158\" x=\"7\" y=\"42.0986\"/><text fill=\"#000000\" font-family=\"sans-serif\" font-size=\"12\" font-style=\"italic\" lengthAdjust=\"spacingAndGlyphs\" textLength=\"77\" x=\"47.5\" y=\"58.2373\">«action def»</text><text fill=\"#000000\" font-family=\"sans-serif\" font-size=\"12\" lengthAdjust=\"spacingAndGlyphs\" textLength=\"27\" x=\"72.5\" y=\"72.2061\">setX</text></a><text fill=\"#000000\" font-family=\"sans-serif\" font-size=\"14\" lengthAdjust=\"spacingAndGlyphs\" textLength=\"8\" x=\"21\" y=\"108.0938\">c</text><rect fill=\"#383838\" height=\"12\" style=\"stroke: #F8F8F8; stroke-width: 1.5;\" width=\"12\" x=\"19\" y=\"83.0986\"/><text fill=\"#000000\" font-family=\"sans-serif\" font-size=\"14\" lengthAdjust=\"spacingAndGlyphs\" textLength=\"38\" x=\"6\" y=\"20.7969\">newX</text><rect fill=\"#383838\" height=\"12\" style=\"stroke: #F8F8F8; stroke-width: 1.5;\" width=\"12\" x=\"19\" y=\"36.0986\"/><!--MD5=[5b3b4e1d98fd7a9d0eca2dd97be12b27]\n",
       "@startuml\r\n",
       "skinparam ranksep 8\r\n",
       "left to right direction\r\n",
       "skinparam monochrome true\r\n",
       "skinparam classbackgroundcolor white\r\n",
       "skinparam shadowing false\r\n",
       "skinparam wrapWidth 300\r\n",
       "hide circle\r\n",
       "\r\n",
       "rec def \"setX\" as E1  <<(T,blue)action def>> [[psysml:cbe71c02-e966-4d74-b7c0-f9e238b4431e ]] {\r\n",
       "portin \"c\" as E2  [[psysml:bf3dbcd8-0bef-4e93-82b9-0b5a37397746 ]] \r\n",
       "portin \"newX\" as E3  [[psysml:0934341b-2e16-4f4c-9ea0-e4fb5c660a0a ]] \r\n",
       "}\r\n",
       "\r\n",
       "@enduml\r\n",
       "\n",
       "PlantUML version 1.2020.13(Sat Jun 13 12:26:38 UTC 2020)\n",
       "(EPL source distribution)\n",
       "Java Runtime: OpenJDK Runtime Environment\n",
       "JVM: OpenJDK 64-Bit Server VM\n",
       "Default Encoding: UTF-8\n",
       "Language: en\n",
       "Country: null\n",
       "--></g></svg>"
      ]
     },
     "execution_count": 20,
     "metadata": {},
     "output_type": "execute_result"
    }
   ],
   "source": [
    "%viz --style=\"LR\" --view=\"Action\" \"TextualRepresentationTest\""
   ]
  },
  {
   "cell_type": "code",
   "execution_count": 21,
   "id": "virtual-scroll",
   "metadata": {
    "execution": {
     "iopub.execute_input": "2021-03-26T15:43:49.713888Z",
     "iopub.status.busy": "2021-03-26T15:43:49.712974Z",
     "iopub.status.idle": "2021-03-26T15:43:49.769951Z",
     "shell.execute_reply": "2021-03-26T15:43:49.768788Z"
    }
   },
   "outputs": [
    {
     "data": {
      "image/svg+xml": [
       "<?xml version=\"1.0\" encoding=\"UTF-8\" standalone=\"no\"?><svg xmlns=\"http://www.w3.org/2000/svg\" xmlns:xlink=\"http://www.w3.org/1999/xlink\" contentScriptType=\"application/ecmascript\" contentStyleType=\"text/css\" height=\"256px\" preserveAspectRatio=\"none\" style=\"width:355px;height:256px;\" version=\"1.1\" viewBox=\"0 0 355 256\" width=\"355px\" zoomAndPan=\"magnify\"><defs/><g><!--MD5=[fbc87193dbaf4d95561dea2c320d4a47]\n",
       "cluster E1--><a href=\"psysml:13f83e37-e6d2-4a8e-ad71-0c715af430b4\" target=\"_top\" title=\"psysml:13f83e37-e6d2-4a8e-ad71-0c715af430b4\" xlink:actuate=\"onRequest\" xlink:href=\"psysml:13f83e37-e6d2-4a8e-ad71-0c715af430b4\" xlink:show=\"new\" xlink:title=\"psysml:13f83e37-e6d2-4a8e-ad71-0c715af430b4\" xlink:type=\"simple\"><polygon fill=\"#FFFFFF\" points=\"16,6,236,6,243,28.2969,333,28.2969,333,244,16,244,16,6\" style=\"stroke: #000000; stroke-width: 1.5;\"/><line style=\"stroke: #000000; stroke-width: 1.5;\" x1=\"16\" x2=\"243\" y1=\"28.2969\" y2=\"28.2969\"/><text fill=\"#000000\" font-family=\"sans-serif\" font-size=\"14\" font-weight=\"bold\" lengthAdjust=\"spacingAndGlyphs\" textLength=\"214\" x=\"20\" y=\"20.9951\">TextualRepresentationTest</text></a><!--MD5=[b4997ac47864f28c2f74865a473b2911]\n",
       "class E2--><a href=\"psysml:168d8746-881d-4018-9dc0-dced1b8b8eb0\" target=\"_top\" title=\"psysml:168d8746-881d-4018-9dc0-dced1b8b8eb0\" xlink:actuate=\"onRequest\" xlink:href=\"psysml:168d8746-881d-4018-9dc0-dced1b8b8eb0\" xlink:show=\"new\" xlink:title=\"psysml:168d8746-881d-4018-9dc0-dced1b8b8eb0\" xlink:type=\"simple\"><rect fill=\"#FFFFFF\" height=\"45.9375\" id=\"E2\" style=\"stroke: #383838; stroke-width: 1.5;\" width=\"74\" x=\"224.5\" y=\"182\"/><text fill=\"#000000\" font-family=\"sans-serif\" font-size=\"12\" font-style=\"italic\" lengthAdjust=\"spacingAndGlyphs\" textLength=\"72\" x=\"225.5\" y=\"198.1387\">«dataType»</text><text fill=\"#000000\" font-family=\"sans-serif\" font-size=\"12\" lengthAdjust=\"spacingAndGlyphs\" textLength=\"27\" x=\"248\" y=\"212.1074\">Real</text><line style=\"stroke: #383838; stroke-width: 1.5;\" x1=\"225.5\" x2=\"297.5\" y1=\"219.9375\" y2=\"219.9375\"/></a><!--MD5=[09b614a08d8cba4a07c9adeb5e0fee81]\n",
       "class E3--><a href=\"psysml:fec9e0ab-8313-4a0b-a62a-09c4083c89fd\" target=\"_top\" title=\"psysml:fec9e0ab-8313-4a0b-a62a-09c4083c89fd\" xlink:actuate=\"onRequest\" xlink:href=\"psysml:fec9e0ab-8313-4a0b-a62a-09c4083c89fd\" xlink:show=\"new\" xlink:title=\"psysml:fec9e0ab-8313-4a0b-a62a-09c4083c89fd\" xlink:type=\"simple\"><rect fill=\"#FFFFFF\" height=\"105.1563\" id=\"E3\" style=\"stroke: #383838; stroke-width: 1.5;\" width=\"111\" x=\"206\" y=\"41.5\"/><text fill=\"#000000\" font-family=\"sans-serif\" font-size=\"12\" font-style=\"italic\" lengthAdjust=\"spacingAndGlyphs\" textLength=\"65\" x=\"229\" y=\"57.6387\">«item def»</text><text fill=\"#000000\" font-family=\"sans-serif\" font-size=\"12\" lengthAdjust=\"spacingAndGlyphs\" textLength=\"8\" x=\"257.5\" y=\"71.6074\">C</text><line style=\"stroke: #383838; stroke-width: 1.5;\" x1=\"207\" x2=\"316\" y1=\"79.4375\" y2=\"79.4375\"/><text fill=\"#000000\" font-family=\"sans-serif\" font-size=\"11\" lengthAdjust=\"spacingAndGlyphs\" textLength=\"38\" x=\"212\" y=\"110.4526\">x: Real</text><line style=\"stroke: #383838; stroke-width: 1.0;\" x1=\"207\" x2=\"234\" y1=\"93.8398\" y2=\"93.8398\"/><text fill=\"#000000\" font-family=\"sans-serif\" font-size=\"11\" lengthAdjust=\"spacingAndGlyphs\" textLength=\"55\" x=\"234\" y=\"97.1479\">attributes</text><line style=\"stroke: #383838; stroke-width: 1.0;\" x1=\"289\" x2=\"316\" y1=\"93.8398\" y2=\"93.8398\"/><text fill=\"#000000\" font-family=\"sans-serif\" font-size=\"11\" lengthAdjust=\"spacingAndGlyphs\" textLength=\"69\" x=\"212\" y=\"140.062\">x_constraint</text><line style=\"stroke: #383838; stroke-width: 1.0;\" x1=\"207\" x2=\"210\" y1=\"123.4492\" y2=\"123.4492\"/><text fill=\"#000000\" font-family=\"sans-serif\" font-size=\"11\" lengthAdjust=\"spacingAndGlyphs\" textLength=\"103\" x=\"210\" y=\"126.7573\">assertConstraints</text><line style=\"stroke: #383838; stroke-width: 1.0;\" x1=\"313\" x2=\"316\" y1=\"123.4492\" y2=\"123.4492\"/></a><!--MD5=[270fce915f116d4de14055a7c1d9a0f3]\n",
       "class E5--><a href=\"psysml:cbe71c02-e966-4d74-b7c0-f9e238b4431e\" target=\"_top\" title=\"psysml:cbe71c02-e966-4d74-b7c0-f9e238b4431e\" xlink:actuate=\"onRequest\" xlink:href=\"psysml:cbe71c02-e966-4d74-b7c0-f9e238b4431e\" xlink:show=\"new\" xlink:title=\"psysml:cbe71c02-e966-4d74-b7c0-f9e238b4431e\" xlink:type=\"simple\"><rect fill=\"#FFFFFF\" height=\"45.9375\" id=\"E5\" style=\"stroke: #383838; stroke-width: 1.5;\" width=\"79\" x=\"32\" y=\"116\"/><text fill=\"#000000\" font-family=\"sans-serif\" font-size=\"12\" font-style=\"italic\" lengthAdjust=\"spacingAndGlyphs\" textLength=\"77\" x=\"33\" y=\"132.1387\">«action def»</text><text fill=\"#000000\" font-family=\"sans-serif\" font-size=\"12\" lengthAdjust=\"spacingAndGlyphs\" textLength=\"27\" x=\"58\" y=\"146.1074\">setX</text><line style=\"stroke: #383838; stroke-width: 1.5;\" x1=\"33\" x2=\"110\" y1=\"153.9375\" y2=\"153.9375\"/></a><!--MD5=[6f107eb264eda4b26325f39a5516f1f3]\n",
       "reverse link E5 to E3--><a href=\"psysml:bf3dbcd8-0bef-4e93-82b9-0b5a37397746\" target=\"_top\" title=\"psysml:bf3dbcd8-0bef-4e93-82b9-0b5a37397746\" xlink:actuate=\"onRequest\" xlink:href=\"psysml:bf3dbcd8-0bef-4e93-82b9-0b5a37397746\" xlink:show=\"new\" xlink:title=\"psysml:bf3dbcd8-0bef-4e93-82b9-0b5a37397746\" xlink:type=\"simple\"><path d=\"M124.2,126.63 C149.58,120.55 180.16,113.23 205.91,107.07 \" fill=\"none\" id=\"E5&lt;-E3\" style=\"stroke: #383838; stroke-width: 1.0;\"/><polygon fill=\"#FFFFFF\" points=\"111.45,129.68,118.2168,132.1722,123.1198,126.8845,116.3531,124.3923,111.45,129.68\" style=\"stroke: #383838; stroke-width: 1.0;\"/><text fill=\"#000000\" font-family=\"sans-serif\" font-size=\"13\" lengthAdjust=\"spacingAndGlyphs\" textLength=\"7\" x=\"155\" y=\"112.0669\">c</text></a><!--MD5=[f51c6d1f1856fe338ac0413483fb1ccf]\n",
       "reverse link E5 to E2--><a href=\"psysml:0934341b-2e16-4f4c-9ea0-e4fb5c660a0a\" target=\"_top\" title=\"psysml:0934341b-2e16-4f4c-9ea0-e4fb5c660a0a\" xlink:actuate=\"onRequest\" xlink:href=\"psysml:0934341b-2e16-4f4c-9ea0-e4fb5c660a0a\" xlink:show=\"new\" xlink:title=\"psysml:0934341b-2e16-4f4c-9ea0-e4fb5c660a0a\" xlink:type=\"simple\"><path d=\"M124.1,157.11 C155.95,168.3 196.01,182.36 224.46,192.35 \" fill=\"none\" id=\"E5&lt;-E2\" style=\"stroke: #383838; stroke-width: 1.0;\"/><polygon fill=\"#FFFFFF\" points=\"111.45,152.68,115.7816,158.4452,122.7693,156.6642,118.4377,150.899,111.45,152.68\" style=\"stroke: #383838; stroke-width: 1.0;\"/><text fill=\"#000000\" font-family=\"sans-serif\" font-size=\"13\" lengthAdjust=\"spacingAndGlyphs\" textLength=\"33\" x=\"142\" y=\"161.0669\">newX</text></a><!--MD5=[0e5b4e63bc7e633ddca691baad95a201]\n",
       "@startuml\r\n",
       "left to right direction\r\n",
       "skinparam monochrome true\r\n",
       "skinparam classbackgroundcolor white\r\n",
       "skinparam shadowing false\r\n",
       "skinparam wrapWidth 300\r\n",
       "hide circle\r\n",
       "\r\n",
       "package \"TextualRepresentationTest\" as E1  [[psysml:13f83e37-e6d2-4a8e-ad71-0c715af430b4 ]]  {\r\n",
       "comp def \"Real\" as E2  <<(T,blue)dataType>> [[psysml:168d8746-881d-4018-9dc0-dced1b8b8eb0 ]] {\r\n",
       "}\r\n",
       "comp def \"C\" as E3  <<(T,blue)item def>> [[psysml:fec9e0ab-8313-4a0b-a62a-09c4083c89fd ]] {\r\n",
       "- - attributes - -\r\n",
       "x: Real\r\n",
       "- - assertConstraints - -\r\n",
       "x_constraint\r\n",
       "}\r\n",
       "comp def \"setX\" as E5  <<(T,blue)action def>> [[psysml:cbe71c02-e966-4d74-b7c0-f9e238b4431e ]] {\r\n",
       "}\r\n",
       "E5 o- - E3 [[psysml:bf3dbcd8-0bef-4e93-82b9-0b5a37397746 ]] : c\r\n",
       "E5 o- - E2 [[psysml:0934341b-2e16-4f4c-9ea0-e4fb5c660a0a ]] : newX\r\n",
       "}\r\n",
       "@enduml\r\n",
       "\n",
       "PlantUML version 1.2020.13(Sat Jun 13 12:26:38 UTC 2020)\n",
       "(EPL source distribution)\n",
       "Java Runtime: OpenJDK Runtime Environment\n",
       "JVM: OpenJDK 64-Bit Server VM\n",
       "Default Encoding: UTF-8\n",
       "Language: en\n",
       "Country: null\n",
       "--></g></svg>"
      ]
     },
     "execution_count": 21,
     "metadata": {},
     "output_type": "execute_result"
    }
   ],
   "source": [
    "%viz --style=\"LR\" --view=\"Sequence\" \"TextualRepresentationTest\""
   ]
  },
  {
   "cell_type": "code",
   "execution_count": 22,
   "id": "limiting-salem",
   "metadata": {
    "execution": {
     "iopub.execute_input": "2021-03-26T15:43:49.823387Z",
     "iopub.status.busy": "2021-03-26T15:43:49.822922Z",
     "iopub.status.idle": "2021-03-26T15:43:49.877863Z",
     "shell.execute_reply": "2021-03-26T15:43:49.877309Z"
    }
   },
   "outputs": [
    {
     "data": {
      "image/svg+xml": [
       "<?xml version=\"1.0\" encoding=\"UTF-8\" standalone=\"no\"?><svg xmlns=\"http://www.w3.org/2000/svg\" xmlns:xlink=\"http://www.w3.org/1999/xlink\" contentScriptType=\"application/ecmascript\" contentStyleType=\"text/css\" height=\"358px\" preserveAspectRatio=\"none\" style=\"width:359px;height:358px;\" version=\"1.1\" viewBox=\"0 0 359 358\" width=\"359px\" zoomAndPan=\"magnify\"><defs/><g><!--MD5=[fbc87193dbaf4d95561dea2c320d4a47]\n",
       "cluster E1--><a href=\"psysml:13f83e37-e6d2-4a8e-ad71-0c715af430b4\" target=\"_top\" title=\"psysml:13f83e37-e6d2-4a8e-ad71-0c715af430b4\" xlink:actuate=\"onRequest\" xlink:href=\"psysml:13f83e37-e6d2-4a8e-ad71-0c715af430b4\" xlink:show=\"new\" xlink:title=\"psysml:13f83e37-e6d2-4a8e-ad71-0c715af430b4\" xlink:type=\"simple\"><polygon fill=\"#FFFFFF\" points=\"16,6,236,6,243,28.2969,337,28.2969,337,346,16,346,16,6\" style=\"stroke: #000000; stroke-width: 1.5;\"/><line style=\"stroke: #000000; stroke-width: 1.5;\" x1=\"16\" x2=\"243\" y1=\"28.2969\" y2=\"28.2969\"/><text fill=\"#000000\" font-family=\"sans-serif\" font-size=\"14\" font-weight=\"bold\" lengthAdjust=\"spacingAndGlyphs\" textLength=\"214\" x=\"20\" y=\"20.9951\">TextualRepresentationTest</text></a><!--MD5=[de5ec2e2e8f62f467e546659f5068c88]\n",
       "cluster E5--><a href=\"psysml:cbe71c02-e966-4d74-b7c0-f9e238b4431e\" target=\"_top\" title=\"psysml:cbe71c02-e966-4d74-b7c0-f9e238b4431e\" xlink:actuate=\"onRequest\" xlink:href=\"psysml:cbe71c02-e966-4d74-b7c0-f9e238b4431e\" xlink:show=\"new\" xlink:title=\"psysml:cbe71c02-e966-4d74-b7c0-f9e238b4431e\" xlink:type=\"simple\"><rect fill=\"#FFFFFF\" height=\"47\" id=\"E5\" style=\"stroke: #383838; stroke-width: 1.5;\" width=\"251.5\" x=\"69.5\" y=\"55\"/><rect fill=\"#F8F8F8\" height=\"37.9375\" style=\"stroke: #383838; stroke-width: 1.5;\" width=\"251.5\" x=\"69.5\" y=\"55\"/><text fill=\"#000000\" font-family=\"sans-serif\" font-size=\"12\" font-style=\"italic\" lengthAdjust=\"spacingAndGlyphs\" textLength=\"77\" x=\"156.75\" y=\"71.1387\">«action def»</text><text fill=\"#000000\" font-family=\"sans-serif\" font-size=\"12\" lengthAdjust=\"spacingAndGlyphs\" textLength=\"27\" x=\"181.75\" y=\"85.1074\">setX</text></a><!--MD5=[b4997ac47864f28c2f74865a473b2911]\n",
       "class E2--><a href=\"psysml:168d8746-881d-4018-9dc0-dced1b8b8eb0\" target=\"_top\" title=\"psysml:168d8746-881d-4018-9dc0-dced1b8b8eb0\" xlink:actuate=\"onRequest\" xlink:href=\"psysml:168d8746-881d-4018-9dc0-dced1b8b8eb0\" xlink:show=\"new\" xlink:title=\"psysml:168d8746-881d-4018-9dc0-dced1b8b8eb0\" xlink:type=\"simple\"><rect fill=\"#FFFFFF\" height=\"45.9375\" id=\"E2\" style=\"stroke: #383838; stroke-width: 1.5;\" width=\"74\" x=\"50.5\" y=\"143\"/><text fill=\"#000000\" font-family=\"sans-serif\" font-size=\"12\" font-style=\"italic\" lengthAdjust=\"spacingAndGlyphs\" textLength=\"72\" x=\"51.5\" y=\"159.1387\">«dataType»</text><text fill=\"#000000\" font-family=\"sans-serif\" font-size=\"12\" lengthAdjust=\"spacingAndGlyphs\" textLength=\"27\" x=\"74\" y=\"173.1074\">Real</text><line style=\"stroke: #383838; stroke-width: 1.5;\" x1=\"51.5\" x2=\"123.5\" y1=\"180.9375\" y2=\"180.9375\"/></a><!--MD5=[09b614a08d8cba4a07c9adeb5e0fee81]\n",
       "class E3--><a href=\"psysml:fec9e0ab-8313-4a0b-a62a-09c4083c89fd\" target=\"_top\" title=\"psysml:fec9e0ab-8313-4a0b-a62a-09c4083c89fd\" xlink:actuate=\"onRequest\" xlink:href=\"psysml:fec9e0ab-8313-4a0b-a62a-09c4083c89fd\" xlink:show=\"new\" xlink:title=\"psysml:fec9e0ab-8313-4a0b-a62a-09c4083c89fd\" xlink:type=\"simple\"><rect fill=\"#FFFFFF\" height=\"105.1563\" id=\"E3\" style=\"stroke: #383838; stroke-width: 1.5;\" width=\"111\" x=\"32\" y=\"224.5\"/><text fill=\"#000000\" font-family=\"sans-serif\" font-size=\"12\" font-style=\"italic\" lengthAdjust=\"spacingAndGlyphs\" textLength=\"65\" x=\"55\" y=\"240.6387\">«item def»</text><text fill=\"#000000\" font-family=\"sans-serif\" font-size=\"12\" lengthAdjust=\"spacingAndGlyphs\" textLength=\"8\" x=\"83.5\" y=\"254.6074\">C</text><line style=\"stroke: #383838; stroke-width: 1.5;\" x1=\"33\" x2=\"142\" y1=\"262.4375\" y2=\"262.4375\"/><text fill=\"#000000\" font-family=\"sans-serif\" font-size=\"11\" lengthAdjust=\"spacingAndGlyphs\" textLength=\"38\" x=\"38\" y=\"293.4526\">x: Real</text><line style=\"stroke: #383838; stroke-width: 1.0;\" x1=\"33\" x2=\"60\" y1=\"276.8398\" y2=\"276.8398\"/><text fill=\"#000000\" font-family=\"sans-serif\" font-size=\"11\" lengthAdjust=\"spacingAndGlyphs\" textLength=\"55\" x=\"60\" y=\"280.1479\">attributes</text><line style=\"stroke: #383838; stroke-width: 1.0;\" x1=\"115\" x2=\"142\" y1=\"276.8398\" y2=\"276.8398\"/><text fill=\"#000000\" font-family=\"sans-serif\" font-size=\"11\" lengthAdjust=\"spacingAndGlyphs\" textLength=\"69\" x=\"38\" y=\"323.062\">x_constraint</text><line style=\"stroke: #383838; stroke-width: 1.0;\" x1=\"33\" x2=\"36\" y1=\"306.4492\" y2=\"306.4492\"/><text fill=\"#000000\" font-family=\"sans-serif\" font-size=\"11\" lengthAdjust=\"spacingAndGlyphs\" textLength=\"103\" x=\"36\" y=\"309.7573\">assertConstraints</text><line style=\"stroke: #383838; stroke-width: 1.0;\" x1=\"139\" x2=\"142\" y1=\"306.4492\" y2=\"306.4492\"/></a><text fill=\"#000000\" font-family=\"sans-serif\" font-size=\"14\" lengthAdjust=\"spacingAndGlyphs\" textLength=\"8\" x=\"83.5\" y=\"120.9951\">c</text><rect fill=\"#383838\" height=\"12\" style=\"stroke: #F8F8F8; stroke-width: 1.5;\" width=\"12\" x=\"81.5\" y=\"96\"/><text fill=\"#000000\" font-family=\"sans-serif\" font-size=\"14\" lengthAdjust=\"spacingAndGlyphs\" textLength=\"38\" x=\"68.5\" y=\"33.6982\">newX</text><rect fill=\"#383838\" height=\"12\" style=\"stroke: #F8F8F8; stroke-width: 1.5;\" width=\"12\" x=\"81.5\" y=\"49\"/><!--MD5=[4bd8729513501288411ed625aba9aa92]\n",
       "@startuml\r\n",
       "left to right direction\r\n",
       "skinparam monochrome true\r\n",
       "skinparam classbackgroundcolor white\r\n",
       "skinparam shadowing false\r\n",
       "skinparam wrapWidth 300\r\n",
       "hide circle\r\n",
       "\r\n",
       "package \"TextualRepresentationTest\" as E1  [[psysml:13f83e37-e6d2-4a8e-ad71-0c715af430b4 ]]  {\r\n",
       "comp def \"Real\" as E2  <<(T,blue)dataType>> [[psysml:168d8746-881d-4018-9dc0-dced1b8b8eb0 ]] {\r\n",
       "}\r\n",
       "comp def \"C\" as E3  <<(T,blue)item def>> [[psysml:fec9e0ab-8313-4a0b-a62a-09c4083c89fd ]] {\r\n",
       "- - attributes - -\r\n",
       "x: Real\r\n",
       "- - assertConstraints - -\r\n",
       "x_constraint\r\n",
       "}\r\n",
       "rec def \"setX\" as E5  <<(T,blue)action def>> [[psysml:cbe71c02-e966-4d74-b7c0-f9e238b4431e ]] {\r\n",
       "portin \"c\" as E6  [[psysml:bf3dbcd8-0bef-4e93-82b9-0b5a37397746 ]] \r\n",
       "portin \"newX\" as E7  [[psysml:0934341b-2e16-4f4c-9ea0-e4fb5c660a0a ]] \r\n",
       "}\r\n",
       "\r\n",
       "}\r\n",
       "@enduml\r\n",
       "\n",
       "PlantUML version 1.2020.13(Sat Jun 13 12:26:38 UTC 2020)\n",
       "(EPL source distribution)\n",
       "Java Runtime: OpenJDK Runtime Environment\n",
       "JVM: OpenJDK 64-Bit Server VM\n",
       "Default Encoding: UTF-8\n",
       "Language: en\n",
       "Country: null\n",
       "--></g></svg>"
      ]
     },
     "execution_count": 22,
     "metadata": {},
     "output_type": "execute_result"
    }
   ],
   "source": [
    "%viz --style=\"LR\" --view=\"MIXED\" \"TextualRepresentationTest\""
   ]
  },
  {
   "cell_type": "code",
   "execution_count": 23,
   "id": "moderate-bidding",
   "metadata": {
    "execution": {
     "iopub.execute_input": "2021-03-26T15:43:49.932061Z",
     "iopub.status.busy": "2021-03-26T15:43:49.931599Z",
     "iopub.status.idle": "2021-03-26T15:43:49.986820Z",
     "shell.execute_reply": "2021-03-26T15:43:49.987197Z"
    }
   },
   "outputs": [
    {
     "data": {
      "image/svg+xml": [
       "<?xml version=\"1.0\" encoding=\"UTF-8\" standalone=\"no\"?><svg xmlns=\"http://www.w3.org/2000/svg\" xmlns:xlink=\"http://www.w3.org/1999/xlink\" contentScriptType=\"application/ecmascript\" contentStyleType=\"text/css\" height=\"268px\" preserveAspectRatio=\"none\" style=\"width:432px;height:268px;\" version=\"1.1\" viewBox=\"0 0 432 268\" width=\"432px\" zoomAndPan=\"magnify\"><defs><filter height=\"300%\" id=\"f1nujgh1fokcfb\" width=\"300%\" x=\"-1\" y=\"-1\"><feGaussianBlur result=\"blurOut\" stdDeviation=\"2.0\"/><feColorMatrix in=\"blurOut\" result=\"blurOut2\" type=\"matrix\" values=\"0 0 0 0 0 0 0 0 0 0 0 0 0 0 0 0 0 0 .4 0\"/><feOffset dx=\"4.0\" dy=\"4.0\" in=\"blurOut2\" result=\"blurOut3\"/><feBlend in=\"SourceGraphic\" in2=\"blurOut3\" mode=\"normal\"/></filter></defs><g><!--MD5=[fbc87193dbaf4d95561dea2c320d4a47]\n",
       "cluster E1--><a href=\"psysml:13f83e37-e6d2-4a8e-ad71-0c715af430b4\" target=\"_top\" title=\"psysml:13f83e37-e6d2-4a8e-ad71-0c715af430b4\" xlink:actuate=\"onRequest\" xlink:href=\"psysml:13f83e37-e6d2-4a8e-ad71-0c715af430b4\" xlink:show=\"new\" xlink:title=\"psysml:13f83e37-e6d2-4a8e-ad71-0c715af430b4\" xlink:type=\"simple\"><polygon fill=\"#FFFFFF\" filter=\"url(#f1nujgh1fokcfb)\" points=\"16,6,236,6,243,28.2969,410,28.2969,410,256,16,256,16,6\" style=\"stroke: #000000; stroke-width: 1.5;\"/><line style=\"stroke: #000000; stroke-width: 1.5;\" x1=\"16\" x2=\"243\" y1=\"28.2969\" y2=\"28.2969\"/><text fill=\"#000000\" font-family=\"sans-serif\" font-size=\"14\" font-weight=\"bold\" lengthAdjust=\"spacingAndGlyphs\" textLength=\"214\" x=\"20\" y=\"20.9951\">TextualRepresentationTest</text></a><!--MD5=[de5ec2e2e8f62f467e546659f5068c88]\n",
       "cluster E5--><a href=\"psysml:cbe71c02-e966-4d74-b7c0-f9e238b4431e\" target=\"_top\" title=\"psysml:cbe71c02-e966-4d74-b7c0-f9e238b4431e\" xlink:actuate=\"onRequest\" xlink:href=\"psysml:cbe71c02-e966-4d74-b7c0-f9e238b4431e\" xlink:show=\"new\" xlink:title=\"psysml:cbe71c02-e966-4d74-b7c0-f9e238b4431e\" xlink:type=\"simple\"><rect fill=\"#FFFFFF\" filter=\"url(#f1nujgh1fokcfb)\" height=\"155\" id=\"E5\" style=\"stroke: #A80036; stroke-width: 1.5;\" width=\"96\" x=\"268.5\" y=\"85\"/><rect fill=\"#FEFECE\" height=\"37.9375\" style=\"stroke: #A80036; stroke-width: 1.5;\" width=\"96\" x=\"268.5\" y=\"85\"/><text fill=\"#000000\" font-family=\"sans-serif\" font-size=\"12\" font-style=\"italic\" lengthAdjust=\"spacingAndGlyphs\" textLength=\"77\" x=\"278\" y=\"101.1387\">«action def»</text><text fill=\"#000000\" font-family=\"sans-serif\" font-size=\"12\" lengthAdjust=\"spacingAndGlyphs\" textLength=\"27\" x=\"303\" y=\"115.1074\">setX</text></a><!--MD5=[b4997ac47864f28c2f74865a473b2911]\n",
       "class E2--><a href=\"psysml:168d8746-881d-4018-9dc0-dced1b8b8eb0\" target=\"_top\" title=\"psysml:168d8746-881d-4018-9dc0-dced1b8b8eb0\" xlink:actuate=\"onRequest\" xlink:href=\"psysml:168d8746-881d-4018-9dc0-dced1b8b8eb0\" xlink:show=\"new\" xlink:title=\"psysml:168d8746-881d-4018-9dc0-dced1b8b8eb0\" xlink:type=\"simple\"><rect fill=\"#FEFECE\" filter=\"url(#f1nujgh1fokcfb)\" height=\"45.9375\" id=\"E2\" style=\"stroke: #A80036; stroke-width: 1.5;\" width=\"74\" x=\"178\" y=\"62\"/><text fill=\"#000000\" font-family=\"sans-serif\" font-size=\"12\" font-style=\"italic\" lengthAdjust=\"spacingAndGlyphs\" textLength=\"72\" x=\"179\" y=\"78.1387\">«dataType»</text><text fill=\"#000000\" font-family=\"sans-serif\" font-size=\"12\" lengthAdjust=\"spacingAndGlyphs\" textLength=\"27\" x=\"201.5\" y=\"92.1074\">Real</text><line style=\"stroke: #A80036; stroke-width: 1.5;\" x1=\"179\" x2=\"251\" y1=\"99.9375\" y2=\"99.9375\"/></a><!--MD5=[09b614a08d8cba4a07c9adeb5e0fee81]\n",
       "class E3--><a href=\"psysml:fec9e0ab-8313-4a0b-a62a-09c4083c89fd\" target=\"_top\" title=\"psysml:fec9e0ab-8313-4a0b-a62a-09c4083c89fd\" xlink:actuate=\"onRequest\" xlink:href=\"psysml:fec9e0ab-8313-4a0b-a62a-09c4083c89fd\" xlink:show=\"new\" xlink:title=\"psysml:fec9e0ab-8313-4a0b-a62a-09c4083c89fd\" xlink:type=\"simple\"><rect fill=\"#FEFECE\" filter=\"url(#f1nujgh1fokcfb)\" height=\"88.3516\" id=\"E3\" style=\"stroke: #A80036; stroke-width: 1.5;\" width=\"111\" x=\"31.5\" y=\"41\"/><text fill=\"#000000\" font-family=\"sans-serif\" font-size=\"12\" font-style=\"italic\" lengthAdjust=\"spacingAndGlyphs\" textLength=\"65\" x=\"54.5\" y=\"57.1387\">«item def»</text><text fill=\"#000000\" font-family=\"sans-serif\" font-size=\"12\" lengthAdjust=\"spacingAndGlyphs\" textLength=\"8\" x=\"83\" y=\"71.1074\">C</text><line style=\"stroke: #A80036; stroke-width: 1.5;\" x1=\"32.5\" x2=\"141.5\" y1=\"78.9375\" y2=\"78.9375\"/><text fill=\"#000000\" font-family=\"sans-serif\" font-size=\"11\" lengthAdjust=\"spacingAndGlyphs\" textLength=\"38\" x=\"37.5\" y=\"93.1479\">x: Real</text><text fill=\"#000000\" font-family=\"sans-serif\" font-size=\"11\" lengthAdjust=\"spacingAndGlyphs\" textLength=\"69\" x=\"37.5\" y=\"122.7573\">x_constraint</text><line style=\"stroke: #A80036; stroke-width: 1.0;\" x1=\"32.5\" x2=\"35.5\" y1=\"106.1445\" y2=\"106.1445\"/><text fill=\"#000000\" font-family=\"sans-serif\" font-size=\"11\" lengthAdjust=\"spacingAndGlyphs\" textLength=\"103\" x=\"35.5\" y=\"109.4526\">assertConstraints</text><line style=\"stroke: #A80036; stroke-width: 1.0;\" x1=\"138.5\" x2=\"141.5\" y1=\"106.1445\" y2=\"106.1445\"/></a><text fill=\"#000000\" font-family=\"sans-serif\" font-size=\"14\" lengthAdjust=\"spacingAndGlyphs\" textLength=\"8\" x=\"289\" y=\"63.6982\">c</text><rect fill=\"#A80036\" height=\"12\" style=\"stroke: #FEFECE; stroke-width: 1.5;\" width=\"12\" x=\"287\" y=\"79\"/><text fill=\"#000000\" font-family=\"sans-serif\" font-size=\"14\" lengthAdjust=\"spacingAndGlyphs\" textLength=\"38\" x=\"321\" y=\"63.6982\">newX</text><rect fill=\"#A80036\" height=\"12\" style=\"stroke: #FEFECE; stroke-width: 1.5;\" width=\"12\" x=\"334\" y=\"79\"/><!--MD5=[58bebe8c6f2174b3092c995dda82d07c]\n",
       "@startuml\r\n",
       "skinparam wrapWidth 300\r\n",
       "hide circle\r\n",
       "\r\n",
       "package \"TextualRepresentationTest\" as E1  [[psysml:13f83e37-e6d2-4a8e-ad71-0c715af430b4 ]]  {\r\n",
       "comp def \"Real\" as E2  <<(T,blue)dataType>> [[psysml:168d8746-881d-4018-9dc0-dced1b8b8eb0 ]] {\r\n",
       "}\r\n",
       "comp def \"C\" as E3  <<(T,blue)item def>> [[psysml:fec9e0ab-8313-4a0b-a62a-09c4083c89fd ]] {\r\n",
       "x: Real\r\n",
       "- - assertConstraints - -\r\n",
       "x_constraint\r\n",
       "}\r\n",
       "rec def \"setX\" as E5  <<(T,blue)action def>> [[psysml:cbe71c02-e966-4d74-b7c0-f9e238b4431e ]] {\r\n",
       "portin \"c\" as E6  [[psysml:bf3dbcd8-0bef-4e93-82b9-0b5a37397746 ]] \r\n",
       "portin \"newX\" as E7  [[psysml:0934341b-2e16-4f4c-9ea0-e4fb5c660a0a ]] \r\n",
       "}\r\n",
       "\r\n",
       "}\r\n",
       "@enduml\r\n",
       "\n",
       "PlantUML version 1.2020.13(Sat Jun 13 12:26:38 UTC 2020)\n",
       "(EPL source distribution)\n",
       "Java Runtime: OpenJDK Runtime Environment\n",
       "JVM: OpenJDK 64-Bit Server VM\n",
       "Default Encoding: UTF-8\n",
       "Language: en\n",
       "Country: null\n",
       "--></g></svg>"
      ]
     },
     "execution_count": 23,
     "metadata": {},
     "output_type": "execute_result"
    }
   ],
   "source": [
    "%viz --style=\"STDCOLOR\" --view=\"Default\" \"TextualRepresentationTest\""
   ]
  },
  {
   "cell_type": "code",
   "execution_count": 24,
   "id": "effective-delta",
   "metadata": {
    "execution": {
     "iopub.execute_input": "2021-03-26T15:43:50.041274Z",
     "iopub.status.busy": "2021-03-26T15:43:50.040666Z",
     "iopub.status.idle": "2021-03-26T15:43:50.099152Z",
     "shell.execute_reply": "2021-03-26T15:43:50.097940Z"
    }
   },
   "outputs": [
    {
     "data": {
      "image/svg+xml": [
       "<?xml version=\"1.0\" encoding=\"UTF-8\" standalone=\"no\"?><svg xmlns=\"http://www.w3.org/2000/svg\" xmlns:xlink=\"http://www.w3.org/1999/xlink\" contentScriptType=\"application/ecmascript\" contentStyleType=\"text/css\" height=\"280px\" preserveAspectRatio=\"none\" style=\"width:290px;height:280px;\" version=\"1.1\" viewBox=\"0 0 290 280\" width=\"290px\" zoomAndPan=\"magnify\"><defs><filter height=\"300%\" id=\"ftcjbo0l0lddl\" width=\"300%\" x=\"-1\" y=\"-1\"><feGaussianBlur result=\"blurOut\" stdDeviation=\"2.0\"/><feColorMatrix in=\"blurOut\" result=\"blurOut2\" type=\"matrix\" values=\"0 0 0 0 0 0 0 0 0 0 0 0 0 0 0 0 0 0 .4 0\"/><feOffset dx=\"4.0\" dy=\"4.0\" in=\"blurOut2\" result=\"blurOut3\"/><feBlend in=\"SourceGraphic\" in2=\"blurOut3\" mode=\"normal\"/></filter></defs><g><!--MD5=[fbc87193dbaf4d95561dea2c320d4a47]\n",
       "cluster E1--><a href=\"psysml:13f83e37-e6d2-4a8e-ad71-0c715af430b4\" target=\"_top\" title=\"psysml:13f83e37-e6d2-4a8e-ad71-0c715af430b4\" xlink:actuate=\"onRequest\" xlink:href=\"psysml:13f83e37-e6d2-4a8e-ad71-0c715af430b4\" xlink:show=\"new\" xlink:title=\"psysml:13f83e37-e6d2-4a8e-ad71-0c715af430b4\" xlink:type=\"simple\"><polygon fill=\"#FFFFFF\" filter=\"url(#ftcjbo0l0lddl)\" points=\"16,6,236,6,243,28.2969,268,28.2969,268,268,16,268,16,6\" style=\"stroke: #000000; stroke-width: 1.5;\"/><line style=\"stroke: #000000; stroke-width: 1.5;\" x1=\"16\" x2=\"243\" y1=\"28.2969\" y2=\"28.2969\"/><text fill=\"#000000\" font-family=\"sans-serif\" font-size=\"14\" font-weight=\"bold\" lengthAdjust=\"spacingAndGlyphs\" textLength=\"214\" x=\"20\" y=\"20.9951\">TextualRepresentationTest</text></a><!--MD5=[b4997ac47864f28c2f74865a473b2911]\n",
       "class E2--><a href=\"psysml:168d8746-881d-4018-9dc0-dced1b8b8eb0\" target=\"_top\" title=\"psysml:168d8746-881d-4018-9dc0-dced1b8b8eb0\" xlink:actuate=\"onRequest\" xlink:href=\"psysml:168d8746-881d-4018-9dc0-dced1b8b8eb0\" xlink:show=\"new\" xlink:title=\"psysml:168d8746-881d-4018-9dc0-dced1b8b8eb0\" xlink:type=\"simple\"><rect fill=\"#FEFECE\" filter=\"url(#ftcjbo0l0lddl)\" height=\"45.9375\" id=\"E2\" style=\"stroke: #A80036; stroke-width: 1.5;\" width=\"74\" x=\"32\" y=\"185\"/><text fill=\"#000000\" font-family=\"sans-serif\" font-size=\"12\" font-style=\"italic\" lengthAdjust=\"spacingAndGlyphs\" textLength=\"72\" x=\"33\" y=\"201.1387\">«dataType»</text><text fill=\"#000000\" font-family=\"sans-serif\" font-size=\"12\" lengthAdjust=\"spacingAndGlyphs\" textLength=\"27\" x=\"55.5\" y=\"215.1074\">Real</text><line style=\"stroke: #A80036; stroke-width: 1.5;\" x1=\"33\" x2=\"105\" y1=\"222.9375\" y2=\"222.9375\"/></a><!--MD5=[09b614a08d8cba4a07c9adeb5e0fee81]\n",
       "class E3--><a href=\"psysml:fec9e0ab-8313-4a0b-a62a-09c4083c89fd\" target=\"_top\" title=\"psysml:fec9e0ab-8313-4a0b-a62a-09c4083c89fd\" xlink:actuate=\"onRequest\" xlink:href=\"psysml:fec9e0ab-8313-4a0b-a62a-09c4083c89fd\" xlink:show=\"new\" xlink:title=\"psysml:fec9e0ab-8313-4a0b-a62a-09c4083c89fd\" xlink:type=\"simple\"><rect fill=\"#FEFECE\" filter=\"url(#ftcjbo0l0lddl)\" height=\"88.3516\" id=\"E3\" style=\"stroke: #A80036; stroke-width: 1.5;\" width=\"111\" x=\"141.5\" y=\"164\"/><text fill=\"#000000\" font-family=\"sans-serif\" font-size=\"12\" font-style=\"italic\" lengthAdjust=\"spacingAndGlyphs\" textLength=\"65\" x=\"164.5\" y=\"180.1387\">«item def»</text><text fill=\"#000000\" font-family=\"sans-serif\" font-size=\"12\" lengthAdjust=\"spacingAndGlyphs\" textLength=\"8\" x=\"193\" y=\"194.1074\">C</text><line style=\"stroke: #A80036; stroke-width: 1.5;\" x1=\"142.5\" x2=\"251.5\" y1=\"201.9375\" y2=\"201.9375\"/><text fill=\"#000000\" font-family=\"sans-serif\" font-size=\"11\" lengthAdjust=\"spacingAndGlyphs\" textLength=\"38\" x=\"147.5\" y=\"216.1479\">x: Real</text><text fill=\"#000000\" font-family=\"sans-serif\" font-size=\"11\" lengthAdjust=\"spacingAndGlyphs\" textLength=\"69\" x=\"147.5\" y=\"245.7573\">x_constraint</text><line style=\"stroke: #A80036; stroke-width: 1.0;\" x1=\"142.5\" x2=\"145.5\" y1=\"229.1445\" y2=\"229.1445\"/><text fill=\"#000000\" font-family=\"sans-serif\" font-size=\"11\" lengthAdjust=\"spacingAndGlyphs\" textLength=\"103\" x=\"145.5\" y=\"232.4526\">assertConstraints</text><line style=\"stroke: #A80036; stroke-width: 1.0;\" x1=\"248.5\" x2=\"251.5\" y1=\"229.1445\" y2=\"229.1445\"/></a><!--MD5=[270fce915f116d4de14055a7c1d9a0f3]\n",
       "class E5--><a href=\"psysml:cbe71c02-e966-4d74-b7c0-f9e238b4431e\" target=\"_top\" title=\"psysml:cbe71c02-e966-4d74-b7c0-f9e238b4431e\" xlink:actuate=\"onRequest\" xlink:href=\"psysml:cbe71c02-e966-4d74-b7c0-f9e238b4431e\" xlink:show=\"new\" xlink:title=\"psysml:cbe71c02-e966-4d74-b7c0-f9e238b4431e\" xlink:type=\"simple\"><rect fill=\"#FEFECE\" filter=\"url(#ftcjbo0l0lddl)\" height=\"45.9375\" id=\"E5\" style=\"stroke: #A80036; stroke-width: 1.5;\" width=\"79\" x=\"67.5\" y=\"41\"/><text fill=\"#000000\" font-family=\"sans-serif\" font-size=\"12\" font-style=\"italic\" lengthAdjust=\"spacingAndGlyphs\" textLength=\"77\" x=\"68.5\" y=\"57.1387\">«action def»</text><text fill=\"#000000\" font-family=\"sans-serif\" font-size=\"12\" lengthAdjust=\"spacingAndGlyphs\" textLength=\"27\" x=\"93.5\" y=\"71.1074\">setX</text><line style=\"stroke: #A80036; stroke-width: 1.5;\" x1=\"68.5\" x2=\"145.5\" y1=\"78.9375\" y2=\"78.9375\"/></a><!--MD5=[6f107eb264eda4b26325f39a5516f1f3]\n",
       "reverse link E5 to E3--><a href=\"psysml:bf3dbcd8-0bef-4e93-82b9-0b5a37397746\" target=\"_top\" title=\"psysml:bf3dbcd8-0bef-4e93-82b9-0b5a37397746\" xlink:actuate=\"onRequest\" xlink:href=\"psysml:bf3dbcd8-0bef-4e93-82b9-0b5a37397746\" xlink:show=\"new\" xlink:title=\"psysml:bf3dbcd8-0bef-4e93-82b9-0b5a37397746\" xlink:type=\"simple\"><path d=\"M128.1,98.29 C140.49,117.85 156.29,142.77 169.63,163.82 \" fill=\"none\" id=\"E5&lt;-E3\" style=\"stroke: #A80036; stroke-width: 1.0;\"/><polygon fill=\"#FFFFFF\" points=\"121.06,87.19,120.8908,94.3991,127.4803,97.328,127.6495,90.1189,121.06,87.19\" style=\"stroke: #A80036; stroke-width: 1.0;\"/><text fill=\"#000000\" font-family=\"sans-serif\" font-size=\"13\" lengthAdjust=\"spacingAndGlyphs\" textLength=\"7\" x=\"150\" y=\"130.0669\">c</text></a><!--MD5=[f51c6d1f1856fe338ac0413483fb1ccf]\n",
       "reverse link E5 to E2--><a href=\"psysml:0934341b-2e16-4f4c-9ea0-e4fb5c660a0a\" target=\"_top\" title=\"psysml:0934341b-2e16-4f4c-9ea0-e4fb5c660a0a\" xlink:actuate=\"onRequest\" xlink:href=\"psysml:0934341b-2e16-4f4c-9ea0-e4fb5c660a0a\" xlink:show=\"new\" xlink:title=\"psysml:0934341b-2e16-4f4c-9ea0-e4fb5c660a0a\" xlink:type=\"simple\"><path d=\"M97.7,99.76 C90.58,126.35 80.99,162.21 74.9,184.97 \" fill=\"none\" id=\"E5&lt;-E2\" style=\"stroke: #A80036; stroke-width: 1.0;\"/><polygon fill=\"#FFFFFF\" points=\"101.06,87.19,95.646,91.9533,97.9607,98.7828,103.3746,94.0195,101.06,87.19\" style=\"stroke: #A80036; stroke-width: 1.0;\"/><text fill=\"#000000\" font-family=\"sans-serif\" font-size=\"13\" lengthAdjust=\"spacingAndGlyphs\" textLength=\"33\" x=\"93\" y=\"130.0669\">newX</text></a><!--MD5=[47f736159d15b490bdaaaf9dc3a7a9f6]\n",
       "@startuml\r\n",
       "skinparam wrapWidth 300\r\n",
       "hide circle\r\n",
       "\r\n",
       "package \"TextualRepresentationTest\" as E1  [[psysml:13f83e37-e6d2-4a8e-ad71-0c715af430b4 ]]  {\r\n",
       "comp def \"Real\" as E2  <<(T,blue)dataType>> [[psysml:168d8746-881d-4018-9dc0-dced1b8b8eb0 ]] {\r\n",
       "}\r\n",
       "comp def \"C\" as E3  <<(T,blue)item def>> [[psysml:fec9e0ab-8313-4a0b-a62a-09c4083c89fd ]] {\r\n",
       "x: Real\r\n",
       "- - assertConstraints - -\r\n",
       "x_constraint\r\n",
       "}\r\n",
       "comp def \"setX\" as E5  <<(T,blue)action def>> [[psysml:cbe71c02-e966-4d74-b7c0-f9e238b4431e ]] {\r\n",
       "}\r\n",
       "E5 o- - E3 [[psysml:bf3dbcd8-0bef-4e93-82b9-0b5a37397746 ]] : c\r\n",
       "E5 o- - E2 [[psysml:0934341b-2e16-4f4c-9ea0-e4fb5c660a0a ]] : newX\r\n",
       "}\r\n",
       "@enduml\r\n",
       "\n",
       "PlantUML version 1.2020.13(Sat Jun 13 12:26:38 UTC 2020)\n",
       "(EPL source distribution)\n",
       "Java Runtime: OpenJDK Runtime Environment\n",
       "JVM: OpenJDK 64-Bit Server VM\n",
       "Default Encoding: UTF-8\n",
       "Language: en\n",
       "Country: null\n",
       "--></g></svg>"
      ]
     },
     "execution_count": 24,
     "metadata": {},
     "output_type": "execute_result"
    }
   ],
   "source": [
    "%viz --style=\"STDCOLOR\" --view=\"Tree\" \"TextualRepresentationTest\""
   ]
  },
  {
   "cell_type": "code",
   "execution_count": 25,
   "id": "athletic-shareware",
   "metadata": {
    "execution": {
     "iopub.execute_input": "2021-03-26T15:43:50.152843Z",
     "iopub.status.busy": "2021-03-26T15:43:50.152229Z",
     "iopub.status.idle": "2021-03-26T15:43:50.157340Z",
     "shell.execute_reply": "2021-03-26T15:43:50.157779Z"
    }
   },
   "outputs": [
    {
     "data": {
      "image/svg+xml": [
       "<?xml version=\"1.0\" encoding=\"UTF-8\" standalone=\"no\"?><svg xmlns=\"http://www.w3.org/2000/svg\" xmlns:xlink=\"http://www.w3.org/1999/xlink\" contentScriptType=\"application/ecmascript\" contentStyleType=\"text/css\" height=\"12px\" preserveAspectRatio=\"none\" style=\"width:12px;height:12px;\" version=\"1.1\" viewBox=\"0 0 12 12\" width=\"12px\" zoomAndPan=\"magnify\"><defs/><g><!--MD5=[aeeef50f102b80d730deb6443d14f702]\n",
       "@startuml\r\n",
       "skinparam wrapWidth 300\r\n",
       "hide circle\r\n",
       "\r\n",
       "@enduml\r\n",
       "\n",
       "PlantUML version 1.2020.13(Sat Jun 13 12:26:38 UTC 2020)\n",
       "(EPL source distribution)\n",
       "Java Runtime: OpenJDK Runtime Environment\n",
       "JVM: OpenJDK 64-Bit Server VM\n",
       "Default Encoding: UTF-8\n",
       "Language: en\n",
       "Country: null\n",
       "--></g></svg>"
      ]
     },
     "execution_count": 25,
     "metadata": {},
     "output_type": "execute_result"
    }
   ],
   "source": [
    "%viz --style=\"STDCOLOR\" --view=\"State\" \"TextualRepresentationTest\""
   ]
  },
  {
   "cell_type": "code",
   "execution_count": 26,
   "id": "literary-carroll",
   "metadata": {
    "execution": {
     "iopub.execute_input": "2021-03-26T15:43:50.213154Z",
     "iopub.status.busy": "2021-03-26T15:43:50.212525Z",
     "iopub.status.idle": "2021-03-26T15:43:50.242751Z",
     "shell.execute_reply": "2021-03-26T15:43:50.242412Z"
    }
   },
   "outputs": [
    {
     "data": {
      "image/svg+xml": [
       "<?xml version=\"1.0\" encoding=\"UTF-8\" standalone=\"no\"?><svg xmlns=\"http://www.w3.org/2000/svg\" xmlns:xlink=\"http://www.w3.org/1999/xlink\" contentScriptType=\"application/ecmascript\" contentStyleType=\"text/css\" height=\"179px\" preserveAspectRatio=\"none\" style=\"width:398px;height:179px;\" version=\"1.1\" viewBox=\"0 0 398 179\" width=\"398px\" zoomAndPan=\"magnify\"><defs><filter height=\"300%\" id=\"f6m9y6wkdy9la\" width=\"300%\" x=\"-1\" y=\"-1\"><feGaussianBlur result=\"blurOut\" stdDeviation=\"2.0\"/><feColorMatrix in=\"blurOut\" result=\"blurOut2\" type=\"matrix\" values=\"0 0 0 0 0 0 0 0 0 0 0 0 0 0 0 0 0 0 .4 0\"/><feOffset dx=\"4.0\" dy=\"4.0\" in=\"blurOut2\" result=\"blurOut3\"/><feBlend in=\"SourceGraphic\" in2=\"blurOut3\" mode=\"normal\"/></filter></defs><g><!--MD5=[fbc87193dbaf4d95561dea2c320d4a47]\n",
       "cluster E1--><a href=\"psysml:13f83e37-e6d2-4a8e-ad71-0c715af430b4\" target=\"_top\" title=\"psysml:13f83e37-e6d2-4a8e-ad71-0c715af430b4\" xlink:actuate=\"onRequest\" xlink:href=\"psysml:13f83e37-e6d2-4a8e-ad71-0c715af430b4\" xlink:show=\"new\" xlink:title=\"psysml:13f83e37-e6d2-4a8e-ad71-0c715af430b4\" xlink:type=\"simple\"><polygon fill=\"#FFFFFF\" filter=\"url(#f6m9y6wkdy9la)\" points=\"16,6,236,6,243,28.2969,376,28.2969,376,167,16,167,16,6\" style=\"stroke: #000000; stroke-width: 1.5;\"/><line style=\"stroke: #000000; stroke-width: 1.5;\" x1=\"16\" x2=\"243\" y1=\"28.2969\" y2=\"28.2969\"/><text fill=\"#000000\" font-family=\"sans-serif\" font-size=\"14\" font-weight=\"bold\" lengthAdjust=\"spacingAndGlyphs\" textLength=\"214\" x=\"20\" y=\"20.9951\">TextualRepresentationTest</text></a><!--MD5=[f6df4d0ebaf0b5dfb2ced0ae5af7c670]\n",
       "cluster E4--><a href=\"psysml:cbe71c02-e966-4d74-b7c0-f9e238b4431e\" target=\"_top\" title=\"psysml:cbe71c02-e966-4d74-b7c0-f9e238b4431e\" xlink:actuate=\"onRequest\" xlink:href=\"psysml:cbe71c02-e966-4d74-b7c0-f9e238b4431e\" xlink:show=\"new\" xlink:title=\"psysml:cbe71c02-e966-4d74-b7c0-f9e238b4431e\" xlink:type=\"simple\"><rect fill=\"#FFFFFF\" filter=\"url(#f6m9y6wkdy9la)\" height=\"88.5\" id=\"E4\" style=\"stroke: #A80036; stroke-width: 1.5;\" width=\"96\" x=\"235.5\" y=\"62.5\"/><rect fill=\"#FEFECE\" height=\"37.9375\" style=\"stroke: #A80036; stroke-width: 1.5;\" width=\"96\" x=\"235.5\" y=\"62.5\"/><text fill=\"#000000\" font-family=\"sans-serif\" font-size=\"12\" font-style=\"italic\" lengthAdjust=\"spacingAndGlyphs\" textLength=\"77\" x=\"245\" y=\"78.6387\">«action def»</text><text fill=\"#000000\" font-family=\"sans-serif\" font-size=\"12\" lengthAdjust=\"spacingAndGlyphs\" textLength=\"27\" x=\"270\" y=\"92.6074\">setX</text></a><g id=\"E1.E2\"><a href=\"psysml:168d8746-881d-4018-9dc0-dced1b8b8eb0\" target=\"_top\" title=\"psysml:168d8746-881d-4018-9dc0-dced1b8b8eb0\" xlink:actuate=\"onRequest\" xlink:href=\"psysml:168d8746-881d-4018-9dc0-dced1b8b8eb0\" xlink:show=\"new\" xlink:title=\"psysml:168d8746-881d-4018-9dc0-dced1b8b8eb0\" xlink:type=\"simple\"><rect fill=\"#FEFECE\" filter=\"url(#f6m9y6wkdy9la)\" height=\"42.9375\" id=\"E2\" style=\"stroke: #A80036; stroke-width: 1.5;\" width=\"79\" x=\"139.5\" y=\"41\"/><text fill=\"#000000\" font-family=\"sans-serif\" font-size=\"12\" font-style=\"italic\" lengthAdjust=\"spacingAndGlyphs\" textLength=\"72\" x=\"143\" y=\"57.1387\">«dataType»</text><text fill=\"#000000\" font-family=\"sans-serif\" font-size=\"12\" lengthAdjust=\"spacingAndGlyphs\" textLength=\"27\" x=\"165.5\" y=\"71.1074\">Real</text></a></g><g id=\"E1.E3\"><a href=\"psysml:fec9e0ab-8313-4a0b-a62a-09c4083c89fd\" target=\"_top\" title=\"psysml:fec9e0ab-8313-4a0b-a62a-09c4083c89fd\" xlink:actuate=\"onRequest\" xlink:href=\"psysml:fec9e0ab-8313-4a0b-a62a-09c4083c89fd\" xlink:show=\"new\" xlink:title=\"psysml:fec9e0ab-8313-4a0b-a62a-09c4083c89fd\" xlink:type=\"simple\"><rect fill=\"#FEFECE\" filter=\"url(#f6m9y6wkdy9la)\" height=\"42.9375\" id=\"E3\" style=\"stroke: #A80036; stroke-width: 1.5;\" width=\"72\" x=\"32\" y=\"41\"/><text fill=\"#000000\" font-family=\"sans-serif\" font-size=\"12\" font-style=\"italic\" lengthAdjust=\"spacingAndGlyphs\" textLength=\"65\" x=\"35.5\" y=\"57.1387\">«item def»</text><text fill=\"#000000\" font-family=\"sans-serif\" font-size=\"12\" lengthAdjust=\"spacingAndGlyphs\" textLength=\"8\" x=\"64\" y=\"71.1074\">C</text></a></g><text fill=\"#000000\" font-family=\"sans-serif\" font-size=\"14\" lengthAdjust=\"spacingAndGlyphs\" textLength=\"8\" x=\"256\" y=\"41.1982\">c</text><rect fill=\"#A80036\" height=\"12\" style=\"stroke: #FEFECE; stroke-width: 1.5;\" width=\"12\" x=\"254\" y=\"56.5\"/><text fill=\"#000000\" font-family=\"sans-serif\" font-size=\"14\" lengthAdjust=\"spacingAndGlyphs\" textLength=\"38\" x=\"288\" y=\"41.1982\">newX</text><rect fill=\"#A80036\" height=\"12\" style=\"stroke: #FEFECE; stroke-width: 1.5;\" width=\"12\" x=\"301\" y=\"56.5\"/><!--MD5=[b6266345110ef75d02cab8ce4f9a8fcc]\n",
       "@startuml\r\n",
       "skinparam ranksep 10\r\n",
       "skinparam rectangle {\r\n",
       " backgroundColor<<block>> LightGreen\r\n",
       "}\r\n",
       "skinparam wrapWidth 300\r\n",
       "hide circle\r\n",
       "\r\n",
       "package \"TextualRepresentationTest\" as E1  [[psysml:13f83e37-e6d2-4a8e-ad71-0c715af430b4 ]]  {\r\n",
       "def \"Real\" as E2  <<(T,blue)dataType>> [[psysml:168d8746-881d-4018-9dc0-dced1b8b8eb0 ]] \r\n",
       "def \"C\" as E3  <<(T,blue)item def>> [[psysml:fec9e0ab-8313-4a0b-a62a-09c4083c89fd ]] \r\n",
       "rec def \"setX\" as E4  <<(T,blue)action def>> [[psysml:cbe71c02-e966-4d74-b7c0-f9e238b4431e ]] {\r\n",
       "portin \"c\" as E5  [[psysml:bf3dbcd8-0bef-4e93-82b9-0b5a37397746 ]] \r\n",
       "portin \"newX\" as E6  [[psysml:0934341b-2e16-4f4c-9ea0-e4fb5c660a0a ]] \r\n",
       "}\r\n",
       "\r\n",
       "}\r\n",
       "@enduml\r\n",
       "\n",
       "PlantUML version 1.2020.13(Sat Jun 13 12:26:38 UTC 2020)\n",
       "(EPL source distribution)\n",
       "Java Runtime: OpenJDK Runtime Environment\n",
       "JVM: OpenJDK 64-Bit Server VM\n",
       "Default Encoding: UTF-8\n",
       "Language: en\n",
       "Country: null\n",
       "--></g></svg>"
      ]
     },
     "execution_count": 26,
     "metadata": {},
     "output_type": "execute_result"
    }
   ],
   "source": [
    "%viz --style=\"STDCOLOR\" --view=\"Interconnection\" \"TextualRepresentationTest\""
   ]
  },
  {
   "cell_type": "code",
   "execution_count": 27,
   "id": "pharmaceutical-cleaner",
   "metadata": {
    "execution": {
     "iopub.execute_input": "2021-03-26T15:43:50.295770Z",
     "iopub.status.busy": "2021-03-26T15:43:50.295196Z",
     "iopub.status.idle": "2021-03-26T15:43:50.316567Z",
     "shell.execute_reply": "2021-03-26T15:43:50.316271Z"
    }
   },
   "outputs": [
    {
     "data": {
      "image/svg+xml": [
       "<?xml version=\"1.0\" encoding=\"UTF-8\" standalone=\"no\"?><svg xmlns=\"http://www.w3.org/2000/svg\" xmlns:xlink=\"http://www.w3.org/1999/xlink\" contentScriptType=\"application/ecmascript\" contentStyleType=\"text/css\" height=\"134px\" preserveAspectRatio=\"none\" style=\"width:158px;height:134px;\" version=\"1.1\" viewBox=\"0 0 158 134\" width=\"158px\" zoomAndPan=\"magnify\"><defs><filter height=\"300%\" id=\"fstvzazqyip77\" width=\"300%\" x=\"-1\" y=\"-1\"><feGaussianBlur result=\"blurOut\" stdDeviation=\"2.0\"/><feColorMatrix in=\"blurOut\" result=\"blurOut2\" type=\"matrix\" values=\"0 0 0 0 0 0 0 0 0 0 0 0 0 0 0 0 0 0 .4 0\"/><feOffset dx=\"4.0\" dy=\"4.0\" in=\"blurOut2\" result=\"blurOut3\"/><feBlend in=\"SourceGraphic\" in2=\"blurOut3\" mode=\"normal\"/></filter></defs><g><!--MD5=[fbc87193dbaf4d95561dea2c320d4a47]\n",
       "cluster E1--><a href=\"psysml:cbe71c02-e966-4d74-b7c0-f9e238b4431e\" target=\"_top\" title=\"psysml:cbe71c02-e966-4d74-b7c0-f9e238b4431e\" xlink:actuate=\"onRequest\" xlink:href=\"psysml:cbe71c02-e966-4d74-b7c0-f9e238b4431e\" xlink:show=\"new\" xlink:title=\"psysml:cbe71c02-e966-4d74-b7c0-f9e238b4431e\" xlink:type=\"simple\"><rect fill=\"#FFFFFF\" filter=\"url(#fstvzazqyip77)\" height=\"73\" id=\"E1\" style=\"stroke: #A80036; stroke-width: 1.5;\" width=\"132\" x=\"7\" y=\"42.0986\"/><rect fill=\"#FEFECE\" height=\"37.9375\" style=\"stroke: #A80036; stroke-width: 1.5;\" width=\"132\" x=\"7\" y=\"42.0986\"/><text fill=\"#000000\" font-family=\"sans-serif\" font-size=\"12\" font-style=\"italic\" lengthAdjust=\"spacingAndGlyphs\" textLength=\"77\" x=\"34.5\" y=\"58.2373\">«action def»</text><text fill=\"#000000\" font-family=\"sans-serif\" font-size=\"12\" lengthAdjust=\"spacingAndGlyphs\" textLength=\"27\" x=\"59.5\" y=\"72.2061\">setX</text></a><text fill=\"#000000\" font-family=\"sans-serif\" font-size=\"14\" lengthAdjust=\"spacingAndGlyphs\" textLength=\"8\" x=\"21\" y=\"20.7969\">c</text><rect fill=\"#A80036\" height=\"12\" style=\"stroke: #FEFECE; stroke-width: 1.5;\" width=\"12\" x=\"19\" y=\"36.0986\"/><text fill=\"#000000\" font-family=\"sans-serif\" font-size=\"14\" lengthAdjust=\"spacingAndGlyphs\" textLength=\"38\" x=\"53\" y=\"20.7969\">newX</text><rect fill=\"#A80036\" height=\"12\" style=\"stroke: #FEFECE; stroke-width: 1.5;\" width=\"12\" x=\"66\" y=\"36.0986\"/><!--MD5=[39059814a9d9087281c368b9a6d95eff]\n",
       "@startuml\r\n",
       "skinparam ranksep 8\r\n",
       "skinparam wrapWidth 300\r\n",
       "hide circle\r\n",
       "\r\n",
       "rec def \"setX\" as E1  <<(T,blue)action def>> [[psysml:cbe71c02-e966-4d74-b7c0-f9e238b4431e ]] {\r\n",
       "portin \"c\" as E2  [[psysml:bf3dbcd8-0bef-4e93-82b9-0b5a37397746 ]] \r\n",
       "portin \"newX\" as E3  [[psysml:0934341b-2e16-4f4c-9ea0-e4fb5c660a0a ]] \r\n",
       "}\r\n",
       "\r\n",
       "@enduml\r\n",
       "\n",
       "PlantUML version 1.2020.13(Sat Jun 13 12:26:38 UTC 2020)\n",
       "(EPL source distribution)\n",
       "Java Runtime: OpenJDK Runtime Environment\n",
       "JVM: OpenJDK 64-Bit Server VM\n",
       "Default Encoding: UTF-8\n",
       "Language: en\n",
       "Country: null\n",
       "--></g></svg>"
      ]
     },
     "execution_count": 27,
     "metadata": {},
     "output_type": "execute_result"
    }
   ],
   "source": [
    "%viz --style=\"STDCOLOR\" --view=\"Action\" \"TextualRepresentationTest\""
   ]
  },
  {
   "cell_type": "code",
   "execution_count": 28,
   "id": "administrative-luxembourg",
   "metadata": {
    "execution": {
     "iopub.execute_input": "2021-03-26T15:43:50.371112Z",
     "iopub.status.busy": "2021-03-26T15:43:50.369230Z",
     "iopub.status.idle": "2021-03-26T15:43:50.418382Z",
     "shell.execute_reply": "2021-03-26T15:43:50.417686Z"
    }
   },
   "outputs": [
    {
     "data": {
      "image/svg+xml": [
       "<?xml version=\"1.0\" encoding=\"UTF-8\" standalone=\"no\"?><svg xmlns=\"http://www.w3.org/2000/svg\" xmlns:xlink=\"http://www.w3.org/1999/xlink\" contentScriptType=\"application/ecmascript\" contentStyleType=\"text/css\" height=\"280px\" preserveAspectRatio=\"none\" style=\"width:290px;height:280px;\" version=\"1.1\" viewBox=\"0 0 290 280\" width=\"290px\" zoomAndPan=\"magnify\"><defs><filter height=\"300%\" id=\"ftcjbo0l0lddl\" width=\"300%\" x=\"-1\" y=\"-1\"><feGaussianBlur result=\"blurOut\" stdDeviation=\"2.0\"/><feColorMatrix in=\"blurOut\" result=\"blurOut2\" type=\"matrix\" values=\"0 0 0 0 0 0 0 0 0 0 0 0 0 0 0 0 0 0 .4 0\"/><feOffset dx=\"4.0\" dy=\"4.0\" in=\"blurOut2\" result=\"blurOut3\"/><feBlend in=\"SourceGraphic\" in2=\"blurOut3\" mode=\"normal\"/></filter></defs><g><!--MD5=[fbc87193dbaf4d95561dea2c320d4a47]\n",
       "cluster E1--><a href=\"psysml:13f83e37-e6d2-4a8e-ad71-0c715af430b4\" target=\"_top\" title=\"psysml:13f83e37-e6d2-4a8e-ad71-0c715af430b4\" xlink:actuate=\"onRequest\" xlink:href=\"psysml:13f83e37-e6d2-4a8e-ad71-0c715af430b4\" xlink:show=\"new\" xlink:title=\"psysml:13f83e37-e6d2-4a8e-ad71-0c715af430b4\" xlink:type=\"simple\"><polygon fill=\"#FFFFFF\" filter=\"url(#ftcjbo0l0lddl)\" points=\"16,6,236,6,243,28.2969,268,28.2969,268,268,16,268,16,6\" style=\"stroke: #000000; stroke-width: 1.5;\"/><line style=\"stroke: #000000; stroke-width: 1.5;\" x1=\"16\" x2=\"243\" y1=\"28.2969\" y2=\"28.2969\"/><text fill=\"#000000\" font-family=\"sans-serif\" font-size=\"14\" font-weight=\"bold\" lengthAdjust=\"spacingAndGlyphs\" textLength=\"214\" x=\"20\" y=\"20.9951\">TextualRepresentationTest</text></a><!--MD5=[b4997ac47864f28c2f74865a473b2911]\n",
       "class E2--><a href=\"psysml:168d8746-881d-4018-9dc0-dced1b8b8eb0\" target=\"_top\" title=\"psysml:168d8746-881d-4018-9dc0-dced1b8b8eb0\" xlink:actuate=\"onRequest\" xlink:href=\"psysml:168d8746-881d-4018-9dc0-dced1b8b8eb0\" xlink:show=\"new\" xlink:title=\"psysml:168d8746-881d-4018-9dc0-dced1b8b8eb0\" xlink:type=\"simple\"><rect fill=\"#FEFECE\" filter=\"url(#ftcjbo0l0lddl)\" height=\"45.9375\" id=\"E2\" style=\"stroke: #A80036; stroke-width: 1.5;\" width=\"74\" x=\"32\" y=\"185\"/><text fill=\"#000000\" font-family=\"sans-serif\" font-size=\"12\" font-style=\"italic\" lengthAdjust=\"spacingAndGlyphs\" textLength=\"72\" x=\"33\" y=\"201.1387\">«dataType»</text><text fill=\"#000000\" font-family=\"sans-serif\" font-size=\"12\" lengthAdjust=\"spacingAndGlyphs\" textLength=\"27\" x=\"55.5\" y=\"215.1074\">Real</text><line style=\"stroke: #A80036; stroke-width: 1.5;\" x1=\"33\" x2=\"105\" y1=\"222.9375\" y2=\"222.9375\"/></a><!--MD5=[09b614a08d8cba4a07c9adeb5e0fee81]\n",
       "class E3--><a href=\"psysml:fec9e0ab-8313-4a0b-a62a-09c4083c89fd\" target=\"_top\" title=\"psysml:fec9e0ab-8313-4a0b-a62a-09c4083c89fd\" xlink:actuate=\"onRequest\" xlink:href=\"psysml:fec9e0ab-8313-4a0b-a62a-09c4083c89fd\" xlink:show=\"new\" xlink:title=\"psysml:fec9e0ab-8313-4a0b-a62a-09c4083c89fd\" xlink:type=\"simple\"><rect fill=\"#FEFECE\" filter=\"url(#ftcjbo0l0lddl)\" height=\"88.3516\" id=\"E3\" style=\"stroke: #A80036; stroke-width: 1.5;\" width=\"111\" x=\"141.5\" y=\"164\"/><text fill=\"#000000\" font-family=\"sans-serif\" font-size=\"12\" font-style=\"italic\" lengthAdjust=\"spacingAndGlyphs\" textLength=\"65\" x=\"164.5\" y=\"180.1387\">«item def»</text><text fill=\"#000000\" font-family=\"sans-serif\" font-size=\"12\" lengthAdjust=\"spacingAndGlyphs\" textLength=\"8\" x=\"193\" y=\"194.1074\">C</text><line style=\"stroke: #A80036; stroke-width: 1.5;\" x1=\"142.5\" x2=\"251.5\" y1=\"201.9375\" y2=\"201.9375\"/><text fill=\"#000000\" font-family=\"sans-serif\" font-size=\"11\" lengthAdjust=\"spacingAndGlyphs\" textLength=\"38\" x=\"147.5\" y=\"216.1479\">x: Real</text><text fill=\"#000000\" font-family=\"sans-serif\" font-size=\"11\" lengthAdjust=\"spacingAndGlyphs\" textLength=\"69\" x=\"147.5\" y=\"245.7573\">x_constraint</text><line style=\"stroke: #A80036; stroke-width: 1.0;\" x1=\"142.5\" x2=\"145.5\" y1=\"229.1445\" y2=\"229.1445\"/><text fill=\"#000000\" font-family=\"sans-serif\" font-size=\"11\" lengthAdjust=\"spacingAndGlyphs\" textLength=\"103\" x=\"145.5\" y=\"232.4526\">assertConstraints</text><line style=\"stroke: #A80036; stroke-width: 1.0;\" x1=\"248.5\" x2=\"251.5\" y1=\"229.1445\" y2=\"229.1445\"/></a><!--MD5=[270fce915f116d4de14055a7c1d9a0f3]\n",
       "class E5--><a href=\"psysml:cbe71c02-e966-4d74-b7c0-f9e238b4431e\" target=\"_top\" title=\"psysml:cbe71c02-e966-4d74-b7c0-f9e238b4431e\" xlink:actuate=\"onRequest\" xlink:href=\"psysml:cbe71c02-e966-4d74-b7c0-f9e238b4431e\" xlink:show=\"new\" xlink:title=\"psysml:cbe71c02-e966-4d74-b7c0-f9e238b4431e\" xlink:type=\"simple\"><rect fill=\"#FEFECE\" filter=\"url(#ftcjbo0l0lddl)\" height=\"45.9375\" id=\"E5\" style=\"stroke: #A80036; stroke-width: 1.5;\" width=\"79\" x=\"67.5\" y=\"41\"/><text fill=\"#000000\" font-family=\"sans-serif\" font-size=\"12\" font-style=\"italic\" lengthAdjust=\"spacingAndGlyphs\" textLength=\"77\" x=\"68.5\" y=\"57.1387\">«action def»</text><text fill=\"#000000\" font-family=\"sans-serif\" font-size=\"12\" lengthAdjust=\"spacingAndGlyphs\" textLength=\"27\" x=\"93.5\" y=\"71.1074\">setX</text><line style=\"stroke: #A80036; stroke-width: 1.5;\" x1=\"68.5\" x2=\"145.5\" y1=\"78.9375\" y2=\"78.9375\"/></a><!--MD5=[6f107eb264eda4b26325f39a5516f1f3]\n",
       "reverse link E5 to E3--><a href=\"psysml:bf3dbcd8-0bef-4e93-82b9-0b5a37397746\" target=\"_top\" title=\"psysml:bf3dbcd8-0bef-4e93-82b9-0b5a37397746\" xlink:actuate=\"onRequest\" xlink:href=\"psysml:bf3dbcd8-0bef-4e93-82b9-0b5a37397746\" xlink:show=\"new\" xlink:title=\"psysml:bf3dbcd8-0bef-4e93-82b9-0b5a37397746\" xlink:type=\"simple\"><path d=\"M128.1,98.29 C140.49,117.85 156.29,142.77 169.63,163.82 \" fill=\"none\" id=\"E5&lt;-E3\" style=\"stroke: #A80036; stroke-width: 1.0;\"/><polygon fill=\"#FFFFFF\" points=\"121.06,87.19,120.8908,94.3991,127.4803,97.328,127.6495,90.1189,121.06,87.19\" style=\"stroke: #A80036; stroke-width: 1.0;\"/><text fill=\"#000000\" font-family=\"sans-serif\" font-size=\"13\" lengthAdjust=\"spacingAndGlyphs\" textLength=\"7\" x=\"150\" y=\"130.0669\">c</text></a><!--MD5=[f51c6d1f1856fe338ac0413483fb1ccf]\n",
       "reverse link E5 to E2--><a href=\"psysml:0934341b-2e16-4f4c-9ea0-e4fb5c660a0a\" target=\"_top\" title=\"psysml:0934341b-2e16-4f4c-9ea0-e4fb5c660a0a\" xlink:actuate=\"onRequest\" xlink:href=\"psysml:0934341b-2e16-4f4c-9ea0-e4fb5c660a0a\" xlink:show=\"new\" xlink:title=\"psysml:0934341b-2e16-4f4c-9ea0-e4fb5c660a0a\" xlink:type=\"simple\"><path d=\"M97.7,99.76 C90.58,126.35 80.99,162.21 74.9,184.97 \" fill=\"none\" id=\"E5&lt;-E2\" style=\"stroke: #A80036; stroke-width: 1.0;\"/><polygon fill=\"#FFFFFF\" points=\"101.06,87.19,95.646,91.9533,97.9607,98.7828,103.3746,94.0195,101.06,87.19\" style=\"stroke: #A80036; stroke-width: 1.0;\"/><text fill=\"#000000\" font-family=\"sans-serif\" font-size=\"13\" lengthAdjust=\"spacingAndGlyphs\" textLength=\"33\" x=\"93\" y=\"130.0669\">newX</text></a><!--MD5=[47f736159d15b490bdaaaf9dc3a7a9f6]\n",
       "@startuml\r\n",
       "skinparam wrapWidth 300\r\n",
       "hide circle\r\n",
       "\r\n",
       "package \"TextualRepresentationTest\" as E1  [[psysml:13f83e37-e6d2-4a8e-ad71-0c715af430b4 ]]  {\r\n",
       "comp def \"Real\" as E2  <<(T,blue)dataType>> [[psysml:168d8746-881d-4018-9dc0-dced1b8b8eb0 ]] {\r\n",
       "}\r\n",
       "comp def \"C\" as E3  <<(T,blue)item def>> [[psysml:fec9e0ab-8313-4a0b-a62a-09c4083c89fd ]] {\r\n",
       "x: Real\r\n",
       "- - assertConstraints - -\r\n",
       "x_constraint\r\n",
       "}\r\n",
       "comp def \"setX\" as E5  <<(T,blue)action def>> [[psysml:cbe71c02-e966-4d74-b7c0-f9e238b4431e ]] {\r\n",
       "}\r\n",
       "E5 o- - E3 [[psysml:bf3dbcd8-0bef-4e93-82b9-0b5a37397746 ]] : c\r\n",
       "E5 o- - E2 [[psysml:0934341b-2e16-4f4c-9ea0-e4fb5c660a0a ]] : newX\r\n",
       "}\r\n",
       "@enduml\r\n",
       "\n",
       "PlantUML version 1.2020.13(Sat Jun 13 12:26:38 UTC 2020)\n",
       "(EPL source distribution)\n",
       "Java Runtime: OpenJDK Runtime Environment\n",
       "JVM: OpenJDK 64-Bit Server VM\n",
       "Default Encoding: UTF-8\n",
       "Language: en\n",
       "Country: null\n",
       "--></g></svg>"
      ]
     },
     "execution_count": 28,
     "metadata": {},
     "output_type": "execute_result"
    }
   ],
   "source": [
    "%viz --style=\"STDCOLOR\" --view=\"Sequence\" \"TextualRepresentationTest\""
   ]
  },
  {
   "cell_type": "code",
   "execution_count": 29,
   "id": "regional-timer",
   "metadata": {
    "execution": {
     "iopub.execute_input": "2021-03-26T15:43:50.471711Z",
     "iopub.status.busy": "2021-03-26T15:43:50.470848Z",
     "iopub.status.idle": "2021-03-26T15:43:50.516890Z",
     "shell.execute_reply": "2021-03-26T15:43:50.515263Z"
    }
   },
   "outputs": [
    {
     "data": {
      "image/svg+xml": [
       "<?xml version=\"1.0\" encoding=\"UTF-8\" standalone=\"no\"?><svg xmlns=\"http://www.w3.org/2000/svg\" xmlns:xlink=\"http://www.w3.org/1999/xlink\" contentScriptType=\"application/ecmascript\" contentStyleType=\"text/css\" height=\"268px\" preserveAspectRatio=\"none\" style=\"width:432px;height:268px;\" version=\"1.1\" viewBox=\"0 0 432 268\" width=\"432px\" zoomAndPan=\"magnify\"><defs><filter height=\"300%\" id=\"f1nujgh1fokcfb\" width=\"300%\" x=\"-1\" y=\"-1\"><feGaussianBlur result=\"blurOut\" stdDeviation=\"2.0\"/><feColorMatrix in=\"blurOut\" result=\"blurOut2\" type=\"matrix\" values=\"0 0 0 0 0 0 0 0 0 0 0 0 0 0 0 0 0 0 .4 0\"/><feOffset dx=\"4.0\" dy=\"4.0\" in=\"blurOut2\" result=\"blurOut3\"/><feBlend in=\"SourceGraphic\" in2=\"blurOut3\" mode=\"normal\"/></filter></defs><g><!--MD5=[fbc87193dbaf4d95561dea2c320d4a47]\n",
       "cluster E1--><a href=\"psysml:13f83e37-e6d2-4a8e-ad71-0c715af430b4\" target=\"_top\" title=\"psysml:13f83e37-e6d2-4a8e-ad71-0c715af430b4\" xlink:actuate=\"onRequest\" xlink:href=\"psysml:13f83e37-e6d2-4a8e-ad71-0c715af430b4\" xlink:show=\"new\" xlink:title=\"psysml:13f83e37-e6d2-4a8e-ad71-0c715af430b4\" xlink:type=\"simple\"><polygon fill=\"#FFFFFF\" filter=\"url(#f1nujgh1fokcfb)\" points=\"16,6,236,6,243,28.2969,410,28.2969,410,256,16,256,16,6\" style=\"stroke: #000000; stroke-width: 1.5;\"/><line style=\"stroke: #000000; stroke-width: 1.5;\" x1=\"16\" x2=\"243\" y1=\"28.2969\" y2=\"28.2969\"/><text fill=\"#000000\" font-family=\"sans-serif\" font-size=\"14\" font-weight=\"bold\" lengthAdjust=\"spacingAndGlyphs\" textLength=\"214\" x=\"20\" y=\"20.9951\">TextualRepresentationTest</text></a><!--MD5=[de5ec2e2e8f62f467e546659f5068c88]\n",
       "cluster E5--><a href=\"psysml:cbe71c02-e966-4d74-b7c0-f9e238b4431e\" target=\"_top\" title=\"psysml:cbe71c02-e966-4d74-b7c0-f9e238b4431e\" xlink:actuate=\"onRequest\" xlink:href=\"psysml:cbe71c02-e966-4d74-b7c0-f9e238b4431e\" xlink:show=\"new\" xlink:title=\"psysml:cbe71c02-e966-4d74-b7c0-f9e238b4431e\" xlink:type=\"simple\"><rect fill=\"#FFFFFF\" filter=\"url(#f1nujgh1fokcfb)\" height=\"155\" id=\"E5\" style=\"stroke: #A80036; stroke-width: 1.5;\" width=\"96\" x=\"268.5\" y=\"85\"/><rect fill=\"#FEFECE\" height=\"37.9375\" style=\"stroke: #A80036; stroke-width: 1.5;\" width=\"96\" x=\"268.5\" y=\"85\"/><text fill=\"#000000\" font-family=\"sans-serif\" font-size=\"12\" font-style=\"italic\" lengthAdjust=\"spacingAndGlyphs\" textLength=\"77\" x=\"278\" y=\"101.1387\">«action def»</text><text fill=\"#000000\" font-family=\"sans-serif\" font-size=\"12\" lengthAdjust=\"spacingAndGlyphs\" textLength=\"27\" x=\"303\" y=\"115.1074\">setX</text></a><!--MD5=[b4997ac47864f28c2f74865a473b2911]\n",
       "class E2--><a href=\"psysml:168d8746-881d-4018-9dc0-dced1b8b8eb0\" target=\"_top\" title=\"psysml:168d8746-881d-4018-9dc0-dced1b8b8eb0\" xlink:actuate=\"onRequest\" xlink:href=\"psysml:168d8746-881d-4018-9dc0-dced1b8b8eb0\" xlink:show=\"new\" xlink:title=\"psysml:168d8746-881d-4018-9dc0-dced1b8b8eb0\" xlink:type=\"simple\"><rect fill=\"#FEFECE\" filter=\"url(#f1nujgh1fokcfb)\" height=\"45.9375\" id=\"E2\" style=\"stroke: #A80036; stroke-width: 1.5;\" width=\"74\" x=\"178\" y=\"62\"/><text fill=\"#000000\" font-family=\"sans-serif\" font-size=\"12\" font-style=\"italic\" lengthAdjust=\"spacingAndGlyphs\" textLength=\"72\" x=\"179\" y=\"78.1387\">«dataType»</text><text fill=\"#000000\" font-family=\"sans-serif\" font-size=\"12\" lengthAdjust=\"spacingAndGlyphs\" textLength=\"27\" x=\"201.5\" y=\"92.1074\">Real</text><line style=\"stroke: #A80036; stroke-width: 1.5;\" x1=\"179\" x2=\"251\" y1=\"99.9375\" y2=\"99.9375\"/></a><!--MD5=[09b614a08d8cba4a07c9adeb5e0fee81]\n",
       "class E3--><a href=\"psysml:fec9e0ab-8313-4a0b-a62a-09c4083c89fd\" target=\"_top\" title=\"psysml:fec9e0ab-8313-4a0b-a62a-09c4083c89fd\" xlink:actuate=\"onRequest\" xlink:href=\"psysml:fec9e0ab-8313-4a0b-a62a-09c4083c89fd\" xlink:show=\"new\" xlink:title=\"psysml:fec9e0ab-8313-4a0b-a62a-09c4083c89fd\" xlink:type=\"simple\"><rect fill=\"#FEFECE\" filter=\"url(#f1nujgh1fokcfb)\" height=\"88.3516\" id=\"E3\" style=\"stroke: #A80036; stroke-width: 1.5;\" width=\"111\" x=\"31.5\" y=\"41\"/><text fill=\"#000000\" font-family=\"sans-serif\" font-size=\"12\" font-style=\"italic\" lengthAdjust=\"spacingAndGlyphs\" textLength=\"65\" x=\"54.5\" y=\"57.1387\">«item def»</text><text fill=\"#000000\" font-family=\"sans-serif\" font-size=\"12\" lengthAdjust=\"spacingAndGlyphs\" textLength=\"8\" x=\"83\" y=\"71.1074\">C</text><line style=\"stroke: #A80036; stroke-width: 1.5;\" x1=\"32.5\" x2=\"141.5\" y1=\"78.9375\" y2=\"78.9375\"/><text fill=\"#000000\" font-family=\"sans-serif\" font-size=\"11\" lengthAdjust=\"spacingAndGlyphs\" textLength=\"38\" x=\"37.5\" y=\"93.1479\">x: Real</text><text fill=\"#000000\" font-family=\"sans-serif\" font-size=\"11\" lengthAdjust=\"spacingAndGlyphs\" textLength=\"69\" x=\"37.5\" y=\"122.7573\">x_constraint</text><line style=\"stroke: #A80036; stroke-width: 1.0;\" x1=\"32.5\" x2=\"35.5\" y1=\"106.1445\" y2=\"106.1445\"/><text fill=\"#000000\" font-family=\"sans-serif\" font-size=\"11\" lengthAdjust=\"spacingAndGlyphs\" textLength=\"103\" x=\"35.5\" y=\"109.4526\">assertConstraints</text><line style=\"stroke: #A80036; stroke-width: 1.0;\" x1=\"138.5\" x2=\"141.5\" y1=\"106.1445\" y2=\"106.1445\"/></a><text fill=\"#000000\" font-family=\"sans-serif\" font-size=\"14\" lengthAdjust=\"spacingAndGlyphs\" textLength=\"8\" x=\"289\" y=\"63.6982\">c</text><rect fill=\"#A80036\" height=\"12\" style=\"stroke: #FEFECE; stroke-width: 1.5;\" width=\"12\" x=\"287\" y=\"79\"/><text fill=\"#000000\" font-family=\"sans-serif\" font-size=\"14\" lengthAdjust=\"spacingAndGlyphs\" textLength=\"38\" x=\"321\" y=\"63.6982\">newX</text><rect fill=\"#A80036\" height=\"12\" style=\"stroke: #FEFECE; stroke-width: 1.5;\" width=\"12\" x=\"334\" y=\"79\"/><!--MD5=[58bebe8c6f2174b3092c995dda82d07c]\n",
       "@startuml\r\n",
       "skinparam wrapWidth 300\r\n",
       "hide circle\r\n",
       "\r\n",
       "package \"TextualRepresentationTest\" as E1  [[psysml:13f83e37-e6d2-4a8e-ad71-0c715af430b4 ]]  {\r\n",
       "comp def \"Real\" as E2  <<(T,blue)dataType>> [[psysml:168d8746-881d-4018-9dc0-dced1b8b8eb0 ]] {\r\n",
       "}\r\n",
       "comp def \"C\" as E3  <<(T,blue)item def>> [[psysml:fec9e0ab-8313-4a0b-a62a-09c4083c89fd ]] {\r\n",
       "x: Real\r\n",
       "- - assertConstraints - -\r\n",
       "x_constraint\r\n",
       "}\r\n",
       "rec def \"setX\" as E5  <<(T,blue)action def>> [[psysml:cbe71c02-e966-4d74-b7c0-f9e238b4431e ]] {\r\n",
       "portin \"c\" as E6  [[psysml:bf3dbcd8-0bef-4e93-82b9-0b5a37397746 ]] \r\n",
       "portin \"newX\" as E7  [[psysml:0934341b-2e16-4f4c-9ea0-e4fb5c660a0a ]] \r\n",
       "}\r\n",
       "\r\n",
       "}\r\n",
       "@enduml\r\n",
       "\n",
       "PlantUML version 1.2020.13(Sat Jun 13 12:26:38 UTC 2020)\n",
       "(EPL source distribution)\n",
       "Java Runtime: OpenJDK Runtime Environment\n",
       "JVM: OpenJDK 64-Bit Server VM\n",
       "Default Encoding: UTF-8\n",
       "Language: en\n",
       "Country: null\n",
       "--></g></svg>"
      ]
     },
     "execution_count": 29,
     "metadata": {},
     "output_type": "execute_result"
    }
   ],
   "source": [
    "%viz --style=\"STDCOLOR\" --view=\"MIXED\" \"TextualRepresentationTest\""
   ]
  },
  {
   "cell_type": "code",
   "execution_count": 30,
   "id": "acting-chester",
   "metadata": {
    "execution": {
     "iopub.execute_input": "2021-03-26T15:43:50.569004Z",
     "iopub.status.busy": "2021-03-26T15:43:50.568162Z",
     "iopub.status.idle": "2021-03-26T15:43:50.645783Z",
     "shell.execute_reply": "2021-03-26T15:43:50.645213Z"
    }
   },
   "outputs": [
    {
     "data": {
      "image/svg+xml": [
       "<?xml version=\"1.0\" encoding=\"UTF-8\" standalone=\"no\"?><svg xmlns=\"http://www.w3.org/2000/svg\" xmlns:xlink=\"http://www.w3.org/1999/xlink\" contentScriptType=\"application/ecmascript\" contentStyleType=\"text/css\" height=\"262px\" preserveAspectRatio=\"none\" style=\"width:458px;height:262px;\" version=\"1.1\" viewBox=\"0 0 458 262\" width=\"458px\" zoomAndPan=\"magnify\"><defs><filter height=\"300%\" id=\"fcr3z1dgvin0b\" width=\"300%\" x=\"-1\" y=\"-1\"><feGaussianBlur result=\"blurOut\" stdDeviation=\"2.0\"/><feColorMatrix in=\"blurOut\" result=\"blurOut2\" type=\"matrix\" values=\"0 0 0 0 0 0 0 0 0 0 0 0 0 0 0 0 0 0 .4 0\"/><feOffset dx=\"4.0\" dy=\"4.0\" in=\"blurOut2\" result=\"blurOut3\"/><feBlend in=\"SourceGraphic\" in2=\"blurOut3\" mode=\"normal\"/></filter></defs><g><!--MD5=[fbc87193dbaf4d95561dea2c320d4a47]\n",
       "cluster E1--><a href=\"psysml:13f83e37-e6d2-4a8e-ad71-0c715af430b4\" target=\"_top\" title=\"psysml:13f83e37-e6d2-4a8e-ad71-0c715af430b4\" xlink:actuate=\"onRequest\" xlink:href=\"psysml:13f83e37-e6d2-4a8e-ad71-0c715af430b4\" xlink:show=\"new\" xlink:title=\"psysml:13f83e37-e6d2-4a8e-ad71-0c715af430b4\" xlink:type=\"simple\"><polygon fill=\"#FFFFFF\" filter=\"url(#fcr3z1dgvin0b)\" points=\"16,6,236,6,243,28.2969,436,28.2969,436,250,16,250,16,6\" style=\"stroke: #000000; stroke-width: 1.5;\"/><line style=\"stroke: #000000; stroke-width: 1.5;\" x1=\"16\" x2=\"243\" y1=\"28.2969\" y2=\"28.2969\"/><text fill=\"#000000\" font-family=\"sans-serif\" font-size=\"14\" font-weight=\"bold\" lengthAdjust=\"spacingAndGlyphs\" textLength=\"214\" x=\"20\" y=\"20.9951\">TextualRepresentationTest</text></a><!--MD5=[de5ec2e2e8f62f467e546659f5068c88]\n",
       "cluster E5--><a href=\"psysml:cbe71c02-e966-4d74-b7c0-f9e238b4431e\" target=\"_top\" title=\"psysml:cbe71c02-e966-4d74-b7c0-f9e238b4431e\" xlink:actuate=\"onRequest\" xlink:href=\"psysml:cbe71c02-e966-4d74-b7c0-f9e238b4431e\" xlink:show=\"new\" xlink:title=\"psysml:cbe71c02-e966-4d74-b7c0-f9e238b4431e\" xlink:type=\"simple\"><rect fill=\"#FFFFFF\" filter=\"url(#fcr3z1dgvin0b)\" height=\"152\" id=\"E5\" style=\"stroke: #A80036; stroke-width: 1.5;\" width=\"96\" x=\"294.5\" y=\"82\"/><rect fill=\"#FEFECE\" height=\"37.9375\" style=\"stroke: #A80036; stroke-width: 1.5;\" width=\"96\" x=\"294.5\" y=\"82\"/><text fill=\"#000000\" font-family=\"sans-serif\" font-size=\"12\" font-style=\"italic\" lengthAdjust=\"spacingAndGlyphs\" textLength=\"77\" x=\"304\" y=\"98.1387\">«action def»</text><text fill=\"#000000\" font-family=\"sans-serif\" font-size=\"12\" lengthAdjust=\"spacingAndGlyphs\" textLength=\"27\" x=\"329\" y=\"112.1074\">setX</text></a><!--MD5=[b4997ac47864f28c2f74865a473b2911]\n",
       "class E2--><a href=\"psysml:168d8746-881d-4018-9dc0-dced1b8b8eb0\" target=\"_top\" title=\"psysml:168d8746-881d-4018-9dc0-dced1b8b8eb0\" xlink:actuate=\"onRequest\" xlink:href=\"psysml:168d8746-881d-4018-9dc0-dced1b8b8eb0\" xlink:show=\"new\" xlink:title=\"psysml:168d8746-881d-4018-9dc0-dced1b8b8eb0\" xlink:type=\"simple\"><rect fill=\"#FEFECE\" filter=\"url(#fcr3z1dgvin0b)\" height=\"45.9375\" id=\"E2\" style=\"stroke: #A80036; stroke-width: 1.5;\" width=\"100\" x=\"178\" y=\"59\"/><ellipse cx=\"193\" cy=\"77.9688\" fill=\"#0000FF\" rx=\"11\" ry=\"11\" style=\"stroke: #A80036; stroke-width: 1.0;\"/><path d=\"M193.8438,84.7188 L191.3906,84.7188 L191.3906,74.4688 L188.25,74.4688 L188.25,72.3281 L196.9844,72.3281 L196.9844,74.4688 L193.8438,74.4688 L193.8438,84.7188 Z \"/><text fill=\"#000000\" font-family=\"sans-serif\" font-size=\"12\" font-style=\"italic\" lengthAdjust=\"spacingAndGlyphs\" textLength=\"72\" x=\"205\" y=\"75.1387\">«dataType»</text><text fill=\"#000000\" font-family=\"sans-serif\" font-size=\"12\" lengthAdjust=\"spacingAndGlyphs\" textLength=\"27\" x=\"227.5\" y=\"89.1074\">Real</text><line style=\"stroke: #A80036; stroke-width: 1.5;\" x1=\"179\" x2=\"277\" y1=\"96.9375\" y2=\"96.9375\"/></a><!--MD5=[09b614a08d8cba4a07c9adeb5e0fee81]\n",
       "class E3--><a href=\"psysml:fec9e0ab-8313-4a0b-a62a-09c4083c89fd\" target=\"_top\" title=\"psysml:fec9e0ab-8313-4a0b-a62a-09c4083c89fd\" xlink:actuate=\"onRequest\" xlink:href=\"psysml:fec9e0ab-8313-4a0b-a62a-09c4083c89fd\" xlink:show=\"new\" xlink:title=\"psysml:fec9e0ab-8313-4a0b-a62a-09c4083c89fd\" xlink:type=\"simple\"><rect fill=\"#FEFECE\" filter=\"url(#fcr3z1dgvin0b)\" height=\"82.4141\" id=\"E3\" style=\"stroke: #A80036; stroke-width: 1.5;\" width=\"111\" x=\"31.5\" y=\"41\"/><ellipse cx=\"78.75\" cy=\"57\" fill=\"#008000\" rx=\"11\" ry=\"11\" style=\"stroke: #A80036; stroke-width: 1.0;\"/><path d=\"M77.6563,57.375 L77.6563,61.0469 L79.2813,61.0469 Q80.4531,61.0469 80.9219,60.6563 Q81.3906,60.25 81.3906,59.25 Q81.3906,58.25 80.8906,57.8125 Q80.4063,57.375 79.2813,57.375 L77.6563,57.375 Z M77.6563,52.5469 L77.6563,55.4219 L79.2813,55.4219 Q80.2031,55.4219 80.5938,55.0938 Q81,54.75 81,54 Q81,53.2344 80.5938,52.8906 Q80.1875,52.5469 79.2813,52.5469 L77.6563,52.5469 Z M75.2813,50.5938 L79.2813,50.5938 Q81.3438,50.5938 82.3906,51.375 Q83.4375,52.1563 83.4375,53.7188 Q83.4375,54.9219 82.8125,55.5938 Q82.2031,56.2656 81.0156,56.375 Q82.4375,56.5156 83.1563,57.3281 Q83.875,58.1406 83.875,59.5938 Q83.875,61.3906 82.7969,62.2031 Q81.7188,63 79.2813,63 L75.2813,63 L75.2813,50.5938 Z \"/><text fill=\"#000000\" font-family=\"sans-serif\" font-size=\"12\" lengthAdjust=\"spacingAndGlyphs\" textLength=\"8\" x=\"99.25\" y=\"61.1543\">C</text><line style=\"stroke: #A80036; stroke-width: 1.5;\" x1=\"32.5\" x2=\"141.5\" y1=\"73\" y2=\"73\"/><text fill=\"#000000\" font-family=\"sans-serif\" font-size=\"11\" lengthAdjust=\"spacingAndGlyphs\" textLength=\"38\" x=\"37.5\" y=\"87.2104\">x: Real</text><text fill=\"#000000\" font-family=\"sans-serif\" font-size=\"11\" lengthAdjust=\"spacingAndGlyphs\" textLength=\"69\" x=\"37.5\" y=\"116.8198\">x_constraint</text><line style=\"stroke: #A80036; stroke-width: 1.0;\" x1=\"32.5\" x2=\"35.5\" y1=\"100.207\" y2=\"100.207\"/><text fill=\"#000000\" font-family=\"sans-serif\" font-size=\"11\" lengthAdjust=\"spacingAndGlyphs\" textLength=\"103\" x=\"35.5\" y=\"103.5151\">assertConstraints</text><line style=\"stroke: #A80036; stroke-width: 1.0;\" x1=\"138.5\" x2=\"141.5\" y1=\"100.207\" y2=\"100.207\"/></a><text fill=\"#000000\" font-family=\"sans-serif\" font-size=\"14\" lengthAdjust=\"spacingAndGlyphs\" textLength=\"8\" x=\"315\" y=\"60.6982\">c</text><rect fill=\"#A80036\" height=\"12\" style=\"stroke: #FEFECE; stroke-width: 1.5;\" width=\"12\" x=\"313\" y=\"76\"/><text fill=\"#000000\" font-family=\"sans-serif\" font-size=\"14\" lengthAdjust=\"spacingAndGlyphs\" textLength=\"38\" x=\"347\" y=\"60.6982\">newX</text><rect fill=\"#A80036\" height=\"12\" style=\"stroke: #FEFECE; stroke-width: 1.5;\" width=\"12\" x=\"360\" y=\"76\"/><!--MD5=[324cf1ca85bb82817f91dab6f5d4cc75]\n",
       "@startuml\r\n",
       " \r\n",
       "package \"TextualRepresentationTest\" as E1  [[psysml:13f83e37-e6d2-4a8e-ad71-0c715af430b4 ]]  {\r\n",
       "comp def \"Real\" as E2  <<(T,blue)dataType>> [[psysml:168d8746-881d-4018-9dc0-dced1b8b8eb0 ]] {\r\n",
       "}\r\n",
       "comp def \"C\" as E3  << (B,green) >> [[psysml:fec9e0ab-8313-4a0b-a62a-09c4083c89fd ]] {\r\n",
       "x: Real\r\n",
       "- - assertConstraints - -\r\n",
       "x_constraint\r\n",
       "}\r\n",
       "rec def \"setX\" as E5  <<(D,brown)action def>> [[psysml:cbe71c02-e966-4d74-b7c0-f9e238b4431e ]] {\r\n",
       "portin \"c\" as E6  [[psysml:bf3dbcd8-0bef-4e93-82b9-0b5a37397746 ]] \r\n",
       "portin \"newX\" as E7  [[psysml:0934341b-2e16-4f4c-9ea0-e4fb5c660a0a ]] \r\n",
       "}\r\n",
       "\r\n",
       "}\r\n",
       "@enduml\r\n",
       "\n",
       "PlantUML version 1.2020.13(Sat Jun 13 12:26:38 UTC 2020)\n",
       "(EPL source distribution)\n",
       "Java Runtime: OpenJDK Runtime Environment\n",
       "JVM: OpenJDK 64-Bit Server VM\n",
       "Default Encoding: UTF-8\n",
       "Language: en\n",
       "Country: null\n",
       "--></g></svg>"
      ]
     },
     "execution_count": 30,
     "metadata": {},
     "output_type": "execute_result"
    }
   ],
   "source": [
    "%viz --style=\"PLANTUML\" --view=\"Default\" \"TextualRepresentationTest\""
   ]
  },
  {
   "cell_type": "code",
   "execution_count": 31,
   "id": "virtual-orientation",
   "metadata": {
    "execution": {
     "iopub.execute_input": "2021-03-26T15:43:50.696215Z",
     "iopub.status.busy": "2021-03-26T15:43:50.695880Z",
     "iopub.status.idle": "2021-03-26T15:43:50.741539Z",
     "shell.execute_reply": "2021-03-26T15:43:50.740028Z"
    }
   },
   "outputs": [
    {
     "data": {
      "image/svg+xml": [
       "<?xml version=\"1.0\" encoding=\"UTF-8\" standalone=\"no\"?><svg xmlns=\"http://www.w3.org/2000/svg\" xmlns:xlink=\"http://www.w3.org/1999/xlink\" contentScriptType=\"application/ecmascript\" contentStyleType=\"text/css\" height=\"274px\" preserveAspectRatio=\"none\" style=\"width:316px;height:274px;\" version=\"1.1\" viewBox=\"0 0 316 274\" width=\"316px\" zoomAndPan=\"magnify\"><defs><filter height=\"300%\" id=\"f1fngrxt99mrpj\" width=\"300%\" x=\"-1\" y=\"-1\"><feGaussianBlur result=\"blurOut\" stdDeviation=\"2.0\"/><feColorMatrix in=\"blurOut\" result=\"blurOut2\" type=\"matrix\" values=\"0 0 0 0 0 0 0 0 0 0 0 0 0 0 0 0 0 0 .4 0\"/><feOffset dx=\"4.0\" dy=\"4.0\" in=\"blurOut2\" result=\"blurOut3\"/><feBlend in=\"SourceGraphic\" in2=\"blurOut3\" mode=\"normal\"/></filter></defs><g><!--MD5=[fbc87193dbaf4d95561dea2c320d4a47]\n",
       "cluster E1--><a href=\"psysml:13f83e37-e6d2-4a8e-ad71-0c715af430b4\" target=\"_top\" title=\"psysml:13f83e37-e6d2-4a8e-ad71-0c715af430b4\" xlink:actuate=\"onRequest\" xlink:href=\"psysml:13f83e37-e6d2-4a8e-ad71-0c715af430b4\" xlink:show=\"new\" xlink:title=\"psysml:13f83e37-e6d2-4a8e-ad71-0c715af430b4\" xlink:type=\"simple\"><polygon fill=\"#FFFFFF\" filter=\"url(#f1fngrxt99mrpj)\" points=\"16,6,236,6,243,28.2969,294,28.2969,294,262,16,262,16,6\" style=\"stroke: #000000; stroke-width: 1.5;\"/><line style=\"stroke: #000000; stroke-width: 1.5;\" x1=\"16\" x2=\"243\" y1=\"28.2969\" y2=\"28.2969\"/><text fill=\"#000000\" font-family=\"sans-serif\" font-size=\"14\" font-weight=\"bold\" lengthAdjust=\"spacingAndGlyphs\" textLength=\"214\" x=\"20\" y=\"20.9951\">TextualRepresentationTest</text></a><!--MD5=[b4997ac47864f28c2f74865a473b2911]\n",
       "class E2--><a href=\"psysml:168d8746-881d-4018-9dc0-dced1b8b8eb0\" target=\"_top\" title=\"psysml:168d8746-881d-4018-9dc0-dced1b8b8eb0\" xlink:actuate=\"onRequest\" xlink:href=\"psysml:168d8746-881d-4018-9dc0-dced1b8b8eb0\" xlink:show=\"new\" xlink:title=\"psysml:168d8746-881d-4018-9dc0-dced1b8b8eb0\" xlink:type=\"simple\"><rect fill=\"#FEFECE\" filter=\"url(#f1fngrxt99mrpj)\" height=\"45.9375\" id=\"E2\" style=\"stroke: #A80036; stroke-width: 1.5;\" width=\"100\" x=\"32\" y=\"182\"/><ellipse cx=\"47\" cy=\"200.9688\" fill=\"#0000FF\" rx=\"11\" ry=\"11\" style=\"stroke: #A80036; stroke-width: 1.0;\"/><path d=\"M47.8438,207.7188 L45.3906,207.7188 L45.3906,197.4688 L42.25,197.4688 L42.25,195.3281 L50.9844,195.3281 L50.9844,197.4688 L47.8438,197.4688 L47.8438,207.7188 Z \"/><text fill=\"#000000\" font-family=\"sans-serif\" font-size=\"12\" font-style=\"italic\" lengthAdjust=\"spacingAndGlyphs\" textLength=\"72\" x=\"59\" y=\"198.1387\">«dataType»</text><text fill=\"#000000\" font-family=\"sans-serif\" font-size=\"12\" lengthAdjust=\"spacingAndGlyphs\" textLength=\"27\" x=\"81.5\" y=\"212.1074\">Real</text><line style=\"stroke: #A80036; stroke-width: 1.5;\" x1=\"33\" x2=\"131\" y1=\"219.9375\" y2=\"219.9375\"/></a><!--MD5=[09b614a08d8cba4a07c9adeb5e0fee81]\n",
       "class E3--><a href=\"psysml:fec9e0ab-8313-4a0b-a62a-09c4083c89fd\" target=\"_top\" title=\"psysml:fec9e0ab-8313-4a0b-a62a-09c4083c89fd\" xlink:actuate=\"onRequest\" xlink:href=\"psysml:fec9e0ab-8313-4a0b-a62a-09c4083c89fd\" xlink:show=\"new\" xlink:title=\"psysml:fec9e0ab-8313-4a0b-a62a-09c4083c89fd\" xlink:type=\"simple\"><rect fill=\"#FEFECE\" filter=\"url(#f1fngrxt99mrpj)\" height=\"82.4141\" id=\"E3\" style=\"stroke: #A80036; stroke-width: 1.5;\" width=\"111\" x=\"167.5\" y=\"164\"/><ellipse cx=\"214.75\" cy=\"180\" fill=\"#008000\" rx=\"11\" ry=\"11\" style=\"stroke: #A80036; stroke-width: 1.0;\"/><path d=\"M213.6563,180.375 L213.6563,184.0469 L215.2813,184.0469 Q216.4531,184.0469 216.9219,183.6563 Q217.3906,183.25 217.3906,182.25 Q217.3906,181.25 216.8906,180.8125 Q216.4063,180.375 215.2813,180.375 L213.6563,180.375 Z M213.6563,175.5469 L213.6563,178.4219 L215.2813,178.4219 Q216.2031,178.4219 216.5938,178.0938 Q217,177.75 217,177 Q217,176.2344 216.5938,175.8906 Q216.1875,175.5469 215.2813,175.5469 L213.6563,175.5469 Z M211.2813,173.5938 L215.2813,173.5938 Q217.3438,173.5938 218.3906,174.375 Q219.4375,175.1563 219.4375,176.7188 Q219.4375,177.9219 218.8125,178.5938 Q218.2031,179.2656 217.0156,179.375 Q218.4375,179.5156 219.1563,180.3281 Q219.875,181.1406 219.875,182.5938 Q219.875,184.3906 218.7969,185.2031 Q217.7188,186 215.2813,186 L211.2813,186 L211.2813,173.5938 Z \"/><text fill=\"#000000\" font-family=\"sans-serif\" font-size=\"12\" lengthAdjust=\"spacingAndGlyphs\" textLength=\"8\" x=\"235.25\" y=\"184.1543\">C</text><line style=\"stroke: #A80036; stroke-width: 1.5;\" x1=\"168.5\" x2=\"277.5\" y1=\"196\" y2=\"196\"/><text fill=\"#000000\" font-family=\"sans-serif\" font-size=\"11\" lengthAdjust=\"spacingAndGlyphs\" textLength=\"38\" x=\"173.5\" y=\"210.2104\">x: Real</text><text fill=\"#000000\" font-family=\"sans-serif\" font-size=\"11\" lengthAdjust=\"spacingAndGlyphs\" textLength=\"69\" x=\"173.5\" y=\"239.8198\">x_constraint</text><line style=\"stroke: #A80036; stroke-width: 1.0;\" x1=\"168.5\" x2=\"171.5\" y1=\"223.207\" y2=\"223.207\"/><text fill=\"#000000\" font-family=\"sans-serif\" font-size=\"11\" lengthAdjust=\"spacingAndGlyphs\" textLength=\"103\" x=\"171.5\" y=\"226.5151\">assertConstraints</text><line style=\"stroke: #A80036; stroke-width: 1.0;\" x1=\"274.5\" x2=\"277.5\" y1=\"223.207\" y2=\"223.207\"/></a><!--MD5=[270fce915f116d4de14055a7c1d9a0f3]\n",
       "class E5--><a href=\"psysml:cbe71c02-e966-4d74-b7c0-f9e238b4431e\" target=\"_top\" title=\"psysml:cbe71c02-e966-4d74-b7c0-f9e238b4431e\" xlink:actuate=\"onRequest\" xlink:href=\"psysml:cbe71c02-e966-4d74-b7c0-f9e238b4431e\" xlink:show=\"new\" xlink:title=\"psysml:cbe71c02-e966-4d74-b7c0-f9e238b4431e\" xlink:type=\"simple\"><rect fill=\"#FEFECE\" filter=\"url(#f1fngrxt99mrpj)\" height=\"45.9375\" id=\"E5\" style=\"stroke: #A80036; stroke-width: 1.5;\" width=\"105\" x=\"68.5\" y=\"41\"/><ellipse cx=\"83.5\" cy=\"59.9688\" fill=\"#A52A2A\" rx=\"11\" ry=\"11\" style=\"stroke: #A80036; stroke-width: 1.0;\"/><path d=\"M83.0938,55.7813 L83.0938,63.7656 L83.75,63.7656 Q85.1875,63.7656 85.7969,62.8594 Q86.4219,61.9375 86.4219,59.7656 Q86.4219,57.5938 85.7969,56.6875 Q85.1875,55.7813 83.75,55.7813 L83.0938,55.7813 Z M80.6406,53.5781 L83.2656,53.5781 Q86.2969,53.5781 87.625,55.0313 Q88.9688,56.4688 88.9688,59.7656 Q88.9688,63.0625 87.625,64.5156 Q86.2969,65.9688 83.2656,65.9688 L80.6406,65.9688 L80.6406,53.5781 Z \"/><text fill=\"#000000\" font-family=\"sans-serif\" font-size=\"12\" font-style=\"italic\" lengthAdjust=\"spacingAndGlyphs\" textLength=\"77\" x=\"95.5\" y=\"57.1387\">«action def»</text><text fill=\"#000000\" font-family=\"sans-serif\" font-size=\"12\" lengthAdjust=\"spacingAndGlyphs\" textLength=\"27\" x=\"120.5\" y=\"71.1074\">setX</text><line style=\"stroke: #A80036; stroke-width: 1.5;\" x1=\"69.5\" x2=\"172.5\" y1=\"78.9375\" y2=\"78.9375\"/></a><!--MD5=[6f107eb264eda4b26325f39a5516f1f3]\n",
       "reverse link E5 to E3--><a href=\"psysml:bf3dbcd8-0bef-4e93-82b9-0b5a37397746\" target=\"_top\" title=\"psysml:bf3dbcd8-0bef-4e93-82b9-0b5a37397746\" xlink:actuate=\"onRequest\" xlink:href=\"psysml:bf3dbcd8-0bef-4e93-82b9-0b5a37397746\" xlink:show=\"new\" xlink:title=\"psysml:bf3dbcd8-0bef-4e93-82b9-0b5a37397746\" xlink:type=\"simple\"><path d=\"M144.97,97.67 C159.5,117.47 178.14,142.87 193.56,163.88 \" fill=\"none\" id=\"E5&lt;-E3\" style=\"stroke: #A80036; stroke-width: 1.0;\"/><polygon fill=\"#FFFFFF\" points=\"137.16,87.02,137.4872,94.2237,144.2626,96.6922,143.9354,89.4886,137.16,87.02\" style=\"stroke: #A80036; stroke-width: 1.0;\"/><text fill=\"#000000\" font-family=\"sans-serif\" font-size=\"13\" lengthAdjust=\"spacingAndGlyphs\" textLength=\"7\" x=\"169\" y=\"130.0669\">c</text></a><!--MD5=[f51c6d1f1856fe338ac0413483fb1ccf]\n",
       "reverse link E5 to E2--><a href=\"psysml:0934341b-2e16-4f4c-9ea0-e4fb5c660a0a\" target=\"_top\" title=\"psysml:0934341b-2e16-4f4c-9ea0-e4fb5c660a0a\" xlink:actuate=\"onRequest\" xlink:href=\"psysml:0934341b-2e16-4f4c-9ea0-e4fb5c660a0a\" xlink:show=\"new\" xlink:title=\"psysml:0934341b-2e16-4f4c-9ea0-e4fb5c660a0a\" xlink:type=\"simple\"><path d=\"M111.31,99.55 C104.11,125.21 94.5,159.45 88.28,181.62 \" fill=\"none\" id=\"E5&lt;-E2\" style=\"stroke: #A80036; stroke-width: 1.0;\"/><polygon fill=\"#FFFFFF\" points=\"114.82,87.02,109.3468,91.7151,111.5756,98.5731,117.0489,93.878,114.82,87.02\" style=\"stroke: #A80036; stroke-width: 1.0;\"/><text fill=\"#000000\" font-family=\"sans-serif\" font-size=\"13\" lengthAdjust=\"spacingAndGlyphs\" textLength=\"33\" x=\"107\" y=\"130.0669\">newX</text></a><!--MD5=[ccfc52d312260dedb03749ffe5434171]\n",
       "@startuml\r\n",
       " \r\n",
       "package \"TextualRepresentationTest\" as E1  [[psysml:13f83e37-e6d2-4a8e-ad71-0c715af430b4 ]]  {\r\n",
       "comp def \"Real\" as E2  <<(T,blue)dataType>> [[psysml:168d8746-881d-4018-9dc0-dced1b8b8eb0 ]] {\r\n",
       "}\r\n",
       "comp def \"C\" as E3  << (B,green) >> [[psysml:fec9e0ab-8313-4a0b-a62a-09c4083c89fd ]] {\r\n",
       "x: Real\r\n",
       "- - assertConstraints - -\r\n",
       "x_constraint\r\n",
       "}\r\n",
       "comp def \"setX\" as E5  <<(D,brown)action def>> [[psysml:cbe71c02-e966-4d74-b7c0-f9e238b4431e ]] {\r\n",
       "}\r\n",
       "E5 o- - E3 [[psysml:bf3dbcd8-0bef-4e93-82b9-0b5a37397746 ]] : c\r\n",
       "E5 o- - E2 [[psysml:0934341b-2e16-4f4c-9ea0-e4fb5c660a0a ]] : newX\r\n",
       "}\r\n",
       "@enduml\r\n",
       "\n",
       "PlantUML version 1.2020.13(Sat Jun 13 12:26:38 UTC 2020)\n",
       "(EPL source distribution)\n",
       "Java Runtime: OpenJDK Runtime Environment\n",
       "JVM: OpenJDK 64-Bit Server VM\n",
       "Default Encoding: UTF-8\n",
       "Language: en\n",
       "Country: null\n",
       "--></g></svg>"
      ]
     },
     "execution_count": 31,
     "metadata": {},
     "output_type": "execute_result"
    }
   ],
   "source": [
    "%viz --style=\"PLANTUML\" --view=\"Tree\" \"TextualRepresentationTest\""
   ]
  },
  {
   "cell_type": "code",
   "execution_count": 32,
   "id": "supreme-throat",
   "metadata": {
    "execution": {
     "iopub.execute_input": "2021-03-26T15:43:50.791577Z",
     "iopub.status.busy": "2021-03-26T15:43:50.791150Z",
     "iopub.status.idle": "2021-03-26T15:43:50.864514Z",
     "shell.execute_reply": "2021-03-26T15:43:50.862868Z"
    }
   },
   "outputs": [
    {
     "data": {
      "image/svg+xml": [
       "<?xml version=\"1.0\" encoding=\"UTF-8\" standalone=\"no\"?><svg xmlns=\"http://www.w3.org/2000/svg\" xmlns:xlink=\"http://www.w3.org/1999/xlink\" contentScriptType=\"application/ecmascript\" contentStyleType=\"text/css\" height=\"303px\" preserveAspectRatio=\"none\" style=\"width:603px;height:303px;background:#000000;\" version=\"1.1\" viewBox=\"0 0 603 303\" width=\"603px\" zoomAndPan=\"magnify\"><defs/><g><rect fill=\"#15200A\" height=\"1\" style=\"stroke: #15200A; stroke-width: 1.0;\" width=\"1\" x=\"0\" y=\"0\"/><rect fill=\"#FFFFFF\" height=\"205.5625\" style=\"stroke: #FFFFFF; stroke-width: 1.0;\" width=\"602\" x=\"0\" y=\"0\"/><text fill=\"#000000\" font-family=\"sans-serif\" font-size=\"12\" font-weight=\"bold\" lengthAdjust=\"spacingAndGlyphs\" textLength=\"159\" x=\"5\" y=\"16.1387\">Welcome to PlantUML!</text><text fill=\"#000000\" font-family=\"sans-serif\" font-size=\"12\" lengthAdjust=\"spacingAndGlyphs\" textLength=\"0\" x=\"9\" y=\"30.1074\"/><text fill=\"#000000\" font-family=\"sans-serif\" font-size=\"12\" lengthAdjust=\"spacingAndGlyphs\" textLength=\"293\" x=\"5\" y=\"44.0762\">If you use this software, you accept its license.</text><text fill=\"#000000\" font-family=\"sans-serif\" font-size=\"12\" lengthAdjust=\"spacingAndGlyphs\" textLength=\"107\" x=\"5\" y=\"58.0449\">(details by typing</text><text fill=\"#000000\" font-family=\"monospace\" font-size=\"12\" lengthAdjust=\"spacingAndGlyphs\" textLength=\"49\" x=\"116\" y=\"58.0449\">license</text><text fill=\"#000000\" font-family=\"sans-serif\" font-size=\"12\" lengthAdjust=\"spacingAndGlyphs\" textLength=\"56\" x=\"169\" y=\"58.0449\">keyword)</text><text fill=\"#000000\" font-family=\"sans-serif\" font-size=\"12\" lengthAdjust=\"spacingAndGlyphs\" textLength=\"0\" x=\"9\" y=\"72.0137\"/><text fill=\"#000000\" font-family=\"sans-serif\" font-size=\"12\" lengthAdjust=\"spacingAndGlyphs\" textLength=\"283\" x=\"5\" y=\"85.9824\">You can start with a simple UML Diagram like:</text><text fill=\"#000000\" font-family=\"sans-serif\" font-size=\"12\" lengthAdjust=\"spacingAndGlyphs\" textLength=\"0\" x=\"9\" y=\"99.9512\"/><text fill=\"#000000\" font-family=\"monospace\" font-size=\"12\" lengthAdjust=\"spacingAndGlyphs\" textLength=\"119\" x=\"5\" y=\"113.9199\">Bob-&gt;Alice: Hello</text><text fill=\"#000000\" font-family=\"sans-serif\" font-size=\"12\" lengthAdjust=\"spacingAndGlyphs\" textLength=\"0\" x=\"9\" y=\"127.8887\"/><text fill=\"#000000\" font-family=\"sans-serif\" font-size=\"12\" lengthAdjust=\"spacingAndGlyphs\" textLength=\"14\" x=\"5\" y=\"141.8574\">Or</text><text fill=\"#000000\" font-family=\"sans-serif\" font-size=\"12\" lengthAdjust=\"spacingAndGlyphs\" textLength=\"0\" x=\"9\" y=\"155.8262\"/><text fill=\"#000000\" font-family=\"monospace\" font-size=\"12\" lengthAdjust=\"spacingAndGlyphs\" textLength=\"91\" x=\"5\" y=\"169.7949\">class Example</text><text fill=\"#000000\" font-family=\"sans-serif\" font-size=\"12\" lengthAdjust=\"spacingAndGlyphs\" textLength=\"0\" x=\"9\" y=\"183.7637\"/><text fill=\"#000000\" font-family=\"sans-serif\" font-size=\"12\" lengthAdjust=\"spacingAndGlyphs\" textLength=\"349\" x=\"5\" y=\"197.7324\">You will find more information about PlantUML syntax on</text><text fill=\"#000000\" font-family=\"sans-serif\" font-size=\"12\" lengthAdjust=\"spacingAndGlyphs\" text-decoration=\"underline\" textLength=\"129\" x=\"358\" y=\"197.7324\">https://plantuml.com</text><image height=\"71\" width=\"80\" x=\"516\" xlink:href=\"data:image/png;base64,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\" y=\"6\"/><rect fill=\"#000000\" height=\"96.4844\" style=\"stroke: #000000; stroke-width: 1.0;\" width=\"602\" x=\"0\" y=\"205.5625\"/><rect fill=\"#33FF02\" height=\"21.2969\" style=\"stroke: #33FF02; stroke-width: 1.0;\" width=\"170\" x=\"5\" y=\"210.5625\"/><text fill=\"#000000\" font-family=\"sans-serif\" font-size=\"14\" font-weight=\"bold\" lengthAdjust=\"spacingAndGlyphs\" textLength=\"168\" x=\"6\" y=\"225.5625\">[From string (line 2) ]</text><text fill=\"#33FF02\" font-family=\"sans-serif\" font-size=\"14\" font-weight=\"bold\" lengthAdjust=\"spacingAndGlyphs\" textLength=\"0\" x=\"10\" y=\"245.8594\"/><text fill=\"#33FF02\" font-family=\"sans-serif\" font-size=\"14\" font-weight=\"bold\" lengthAdjust=\"spacingAndGlyphs\" textLength=\"79\" x=\"5\" y=\"262.1563\">@startuml</text><text fill=\"#33FF02\" font-family=\"sans-serif\" font-size=\"14\" font-weight=\"bold\" lengthAdjust=\"spacingAndGlyphs\" textLength=\"0\" x=\"10\" y=\"278.4531\"/><text fill=\"#FF0000\" font-family=\"sans-serif\" font-size=\"14\" font-weight=\"bold\" lengthAdjust=\"spacingAndGlyphs\" textLength=\"142\" x=\"10\" y=\"294.75\">Empty description</text><!--MD5=[f59edd8218d337f74d0c332fc6737304]\n",
       "@startuml\r\n",
       " \r\n",
       "@enduml\r\n",
       "\n",
       "PlantUML version 1.2020.13(Sat Jun 13 12:26:38 UTC 2020)\n",
       "(EPL source distribution)\n",
       "Java Runtime: OpenJDK Runtime Environment\n",
       "JVM: OpenJDK 64-Bit Server VM\n",
       "Default Encoding: UTF-8\n",
       "Language: en\n",
       "Country: null\n",
       "--></g></svg>"
      ]
     },
     "execution_count": 32,
     "metadata": {},
     "output_type": "execute_result"
    }
   ],
   "source": [
    "%viz --style=\"PLANTUML\" --view=\"State\" \"TextualRepresentationTest\""
   ]
  },
  {
   "cell_type": "code",
   "execution_count": 33,
   "id": "continuous-cream",
   "metadata": {
    "execution": {
     "iopub.execute_input": "2021-03-26T15:43:50.916033Z",
     "iopub.status.busy": "2021-03-26T15:43:50.914986Z",
     "iopub.status.idle": "2021-03-26T15:43:50.942037Z",
     "shell.execute_reply": "2021-03-26T15:43:50.942468Z"
    }
   },
   "outputs": [
    {
     "data": {
      "image/svg+xml": [
       "<?xml version=\"1.0\" encoding=\"UTF-8\" standalone=\"no\"?><svg xmlns=\"http://www.w3.org/2000/svg\" xmlns:xlink=\"http://www.w3.org/1999/xlink\" contentScriptType=\"application/ecmascript\" contentStyleType=\"text/css\" height=\"179px\" preserveAspectRatio=\"none\" style=\"width:403px;height:179px;\" version=\"1.1\" viewBox=\"0 0 403 179\" width=\"403px\" zoomAndPan=\"magnify\"><defs><filter height=\"300%\" id=\"fge8ydttevsuu\" width=\"300%\" x=\"-1\" y=\"-1\"><feGaussianBlur result=\"blurOut\" stdDeviation=\"2.0\"/><feColorMatrix in=\"blurOut\" result=\"blurOut2\" type=\"matrix\" values=\"0 0 0 0 0 0 0 0 0 0 0 0 0 0 0 0 0 0 .4 0\"/><feOffset dx=\"4.0\" dy=\"4.0\" in=\"blurOut2\" result=\"blurOut3\"/><feBlend in=\"SourceGraphic\" in2=\"blurOut3\" mode=\"normal\"/></filter></defs><g><!--MD5=[fbc87193dbaf4d95561dea2c320d4a47]\n",
       "cluster E1--><a href=\"psysml:13f83e37-e6d2-4a8e-ad71-0c715af430b4\" target=\"_top\" title=\"psysml:13f83e37-e6d2-4a8e-ad71-0c715af430b4\" xlink:actuate=\"onRequest\" xlink:href=\"psysml:13f83e37-e6d2-4a8e-ad71-0c715af430b4\" xlink:show=\"new\" xlink:title=\"psysml:13f83e37-e6d2-4a8e-ad71-0c715af430b4\" xlink:type=\"simple\"><polygon fill=\"#FFFFFF\" filter=\"url(#fge8ydttevsuu)\" points=\"16,6,236,6,243,28.2969,381,28.2969,381,167,16,167,16,6\" style=\"stroke: #000000; stroke-width: 1.5;\"/><line style=\"stroke: #000000; stroke-width: 1.5;\" x1=\"16\" x2=\"243\" y1=\"28.2969\" y2=\"28.2969\"/><text fill=\"#000000\" font-family=\"sans-serif\" font-size=\"14\" font-weight=\"bold\" lengthAdjust=\"spacingAndGlyphs\" textLength=\"214\" x=\"20\" y=\"20.9951\">TextualRepresentationTest</text></a><!--MD5=[f6df4d0ebaf0b5dfb2ced0ae5af7c670]\n",
       "cluster E4--><a href=\"psysml:cbe71c02-e966-4d74-b7c0-f9e238b4431e\" target=\"_top\" title=\"psysml:cbe71c02-e966-4d74-b7c0-f9e238b4431e\" xlink:actuate=\"onRequest\" xlink:href=\"psysml:cbe71c02-e966-4d74-b7c0-f9e238b4431e\" xlink:show=\"new\" xlink:title=\"psysml:cbe71c02-e966-4d74-b7c0-f9e238b4431e\" xlink:type=\"simple\"><rect fill=\"#FFFFFF\" filter=\"url(#fge8ydttevsuu)\" height=\"88.5\" id=\"E4\" style=\"stroke: #A80036; stroke-width: 1.5;\" width=\"96\" x=\"239.5\" y=\"62.5\"/><rect fill=\"#FEFECE\" height=\"37.9375\" style=\"stroke: #A80036; stroke-width: 1.5;\" width=\"96\" x=\"239.5\" y=\"62.5\"/><text fill=\"#000000\" font-family=\"sans-serif\" font-size=\"12\" font-style=\"italic\" lengthAdjust=\"spacingAndGlyphs\" textLength=\"77\" x=\"249\" y=\"78.6387\">«action def»</text><text fill=\"#000000\" font-family=\"sans-serif\" font-size=\"12\" lengthAdjust=\"spacingAndGlyphs\" textLength=\"27\" x=\"274\" y=\"92.6074\">setX</text></a><g id=\"E1.E2\"><a href=\"psysml:168d8746-881d-4018-9dc0-dced1b8b8eb0\" target=\"_top\" title=\"psysml:168d8746-881d-4018-9dc0-dced1b8b8eb0\" xlink:actuate=\"onRequest\" xlink:href=\"psysml:168d8746-881d-4018-9dc0-dced1b8b8eb0\" xlink:show=\"new\" xlink:title=\"psysml:168d8746-881d-4018-9dc0-dced1b8b8eb0\" xlink:type=\"simple\"><rect fill=\"#FEFECE\" filter=\"url(#fge8ydttevsuu)\" height=\"42.9375\" id=\"E2\" style=\"stroke: #A80036; stroke-width: 1.5;\" width=\"105\" x=\"117.5\" y=\"41\"/><ellipse cx=\"134.75\" cy=\"59.9688\" fill=\"#0000FF\" rx=\"11\" ry=\"11\" style=\"stroke: #A80036; stroke-width: 1.0;\"/><path d=\"M135.5938,66.7188 L133.1406,66.7188 L133.1406,56.4688 L130,56.4688 L130,54.3281 L138.7344,54.3281 L138.7344,56.4688 L135.5938,56.4688 L135.5938,66.7188 Z \"/><text fill=\"#000000\" font-family=\"sans-serif\" font-size=\"12\" font-style=\"italic\" lengthAdjust=\"spacingAndGlyphs\" textLength=\"72\" x=\"147.25\" y=\"57.1387\">«dataType»</text><text fill=\"#000000\" font-family=\"sans-serif\" font-size=\"12\" lengthAdjust=\"spacingAndGlyphs\" textLength=\"27\" x=\"169.75\" y=\"71.1074\">Real</text></a></g><g id=\"E1.E3\"><a href=\"psysml:fec9e0ab-8313-4a0b-a62a-09c4083c89fd\" target=\"_top\" title=\"psysml:fec9e0ab-8313-4a0b-a62a-09c4083c89fd\" xlink:actuate=\"onRequest\" xlink:href=\"psysml:fec9e0ab-8313-4a0b-a62a-09c4083c89fd\" xlink:show=\"new\" xlink:title=\"psysml:fec9e0ab-8313-4a0b-a62a-09c4083c89fd\" xlink:type=\"simple\"><rect fill=\"#FEFECE\" filter=\"url(#fge8ydttevsuu)\" height=\"40\" id=\"E3\" style=\"stroke: #A80036; stroke-width: 1.5;\" width=\"50\" x=\"32\" y=\"42.5\"/><ellipse cx=\"51.5\" cy=\"58.5\" fill=\"#008000\" rx=\"11\" ry=\"11\" style=\"stroke: #A80036; stroke-width: 1.0;\"/><path d=\"M50.4063,58.875 L50.4063,62.5469 L52.0313,62.5469 Q53.2031,62.5469 53.6719,62.1563 Q54.1406,61.75 54.1406,60.75 Q54.1406,59.75 53.6406,59.3125 Q53.1563,58.875 52.0313,58.875 L50.4063,58.875 Z M50.4063,54.0469 L50.4063,56.9219 L52.0313,56.9219 Q52.9531,56.9219 53.3438,56.5938 Q53.75,56.25 53.75,55.5 Q53.75,54.7344 53.3438,54.3906 Q52.9375,54.0469 52.0313,54.0469 L50.4063,54.0469 Z M48.0313,52.0938 L52.0313,52.0938 Q54.0938,52.0938 55.1406,52.875 Q56.1875,53.6563 56.1875,55.2188 Q56.1875,56.4219 55.5625,57.0938 Q54.9531,57.7656 53.7656,57.875 Q55.1875,58.0156 55.9063,58.8281 Q56.625,59.6406 56.625,61.0938 Q56.625,62.8906 55.5469,63.7031 Q54.4688,64.5 52.0313,64.5 L48.0313,64.5 L48.0313,52.0938 Z \"/><text fill=\"#000000\" font-family=\"sans-serif\" font-size=\"12\" lengthAdjust=\"spacingAndGlyphs\" textLength=\"8\" x=\"66.5\" y=\"62.6543\">C</text></a></g><text fill=\"#000000\" font-family=\"sans-serif\" font-size=\"14\" lengthAdjust=\"spacingAndGlyphs\" textLength=\"8\" x=\"260\" y=\"41.1982\">c</text><rect fill=\"#A80036\" height=\"12\" style=\"stroke: #FEFECE; stroke-width: 1.5;\" width=\"12\" x=\"258\" y=\"56.5\"/><text fill=\"#000000\" font-family=\"sans-serif\" font-size=\"14\" lengthAdjust=\"spacingAndGlyphs\" textLength=\"38\" x=\"292\" y=\"41.1982\">newX</text><rect fill=\"#A80036\" height=\"12\" style=\"stroke: #FEFECE; stroke-width: 1.5;\" width=\"12\" x=\"305\" y=\"56.5\"/><!--MD5=[332b6769a70b2488ee2658df0bc1fdf5]\n",
       "@startuml\r\n",
       "skinparam ranksep 10\r\n",
       "skinparam rectangle {\r\n",
       " backgroundColor<<block>> LightGreen\r\n",
       "}\r\n",
       " \r\n",
       "package \"TextualRepresentationTest\" as E1  [[psysml:13f83e37-e6d2-4a8e-ad71-0c715af430b4 ]]  {\r\n",
       "def \"Real\" as E2  <<(T,blue)dataType>> [[psysml:168d8746-881d-4018-9dc0-dced1b8b8eb0 ]] \r\n",
       "def \"C\" as E3  << (B,green) >> [[psysml:fec9e0ab-8313-4a0b-a62a-09c4083c89fd ]] \r\n",
       "rec def \"setX\" as E4  <<(D,brown)action def>> [[psysml:cbe71c02-e966-4d74-b7c0-f9e238b4431e ]] {\r\n",
       "portin \"c\" as E5  [[psysml:bf3dbcd8-0bef-4e93-82b9-0b5a37397746 ]] \r\n",
       "portin \"newX\" as E6  [[psysml:0934341b-2e16-4f4c-9ea0-e4fb5c660a0a ]] \r\n",
       "}\r\n",
       "\r\n",
       "}\r\n",
       "@enduml\r\n",
       "\n",
       "PlantUML version 1.2020.13(Sat Jun 13 12:26:38 UTC 2020)\n",
       "(EPL source distribution)\n",
       "Java Runtime: OpenJDK Runtime Environment\n",
       "JVM: OpenJDK 64-Bit Server VM\n",
       "Default Encoding: UTF-8\n",
       "Language: en\n",
       "Country: null\n",
       "--></g></svg>"
      ]
     },
     "execution_count": 33,
     "metadata": {},
     "output_type": "execute_result"
    }
   ],
   "source": [
    "%viz --style=\"PLANTUML\" --view=\"Interconnection\" \"TextualRepresentationTest\""
   ]
  },
  {
   "cell_type": "code",
   "execution_count": 34,
   "id": "under-sandwich",
   "metadata": {
    "execution": {
     "iopub.execute_input": "2021-03-26T15:43:50.992404Z",
     "iopub.status.busy": "2021-03-26T15:43:50.992031Z",
     "iopub.status.idle": "2021-03-26T15:43:51.015711Z",
     "shell.execute_reply": "2021-03-26T15:43:51.015307Z"
    }
   },
   "outputs": [
    {
     "data": {
      "image/svg+xml": [
       "<?xml version=\"1.0\" encoding=\"UTF-8\" standalone=\"no\"?><svg xmlns=\"http://www.w3.org/2000/svg\" xmlns:xlink=\"http://www.w3.org/1999/xlink\" contentScriptType=\"application/ecmascript\" contentStyleType=\"text/css\" height=\"134px\" preserveAspectRatio=\"none\" style=\"width:158px;height:134px;\" version=\"1.1\" viewBox=\"0 0 158 134\" width=\"158px\" zoomAndPan=\"magnify\"><defs><filter height=\"300%\" id=\"f4yux6dv1gh0g\" width=\"300%\" x=\"-1\" y=\"-1\"><feGaussianBlur result=\"blurOut\" stdDeviation=\"2.0\"/><feColorMatrix in=\"blurOut\" result=\"blurOut2\" type=\"matrix\" values=\"0 0 0 0 0 0 0 0 0 0 0 0 0 0 0 0 0 0 .4 0\"/><feOffset dx=\"4.0\" dy=\"4.0\" in=\"blurOut2\" result=\"blurOut3\"/><feBlend in=\"SourceGraphic\" in2=\"blurOut3\" mode=\"normal\"/></filter></defs><g><!--MD5=[fbc87193dbaf4d95561dea2c320d4a47]\n",
       "cluster E1--><a href=\"psysml:cbe71c02-e966-4d74-b7c0-f9e238b4431e\" target=\"_top\" title=\"psysml:cbe71c02-e966-4d74-b7c0-f9e238b4431e\" xlink:actuate=\"onRequest\" xlink:href=\"psysml:cbe71c02-e966-4d74-b7c0-f9e238b4431e\" xlink:show=\"new\" xlink:title=\"psysml:cbe71c02-e966-4d74-b7c0-f9e238b4431e\" xlink:type=\"simple\"><rect fill=\"#FFFFFF\" filter=\"url(#f4yux6dv1gh0g)\" height=\"73\" id=\"E1\" style=\"stroke: #A80036; stroke-width: 1.5;\" width=\"132\" x=\"7\" y=\"42.0986\"/><rect fill=\"#FEFECE\" height=\"37.9375\" style=\"stroke: #A80036; stroke-width: 1.5;\" width=\"132\" x=\"7\" y=\"42.0986\"/><text fill=\"#000000\" font-family=\"sans-serif\" font-size=\"12\" font-style=\"italic\" lengthAdjust=\"spacingAndGlyphs\" textLength=\"77\" x=\"34.5\" y=\"58.2373\">«action def»</text><text fill=\"#000000\" font-family=\"sans-serif\" font-size=\"12\" lengthAdjust=\"spacingAndGlyphs\" textLength=\"27\" x=\"59.5\" y=\"72.2061\">setX</text></a><text fill=\"#000000\" font-family=\"sans-serif\" font-size=\"14\" lengthAdjust=\"spacingAndGlyphs\" textLength=\"8\" x=\"21\" y=\"20.7969\">c</text><rect fill=\"#A80036\" height=\"12\" style=\"stroke: #FEFECE; stroke-width: 1.5;\" width=\"12\" x=\"19\" y=\"36.0986\"/><text fill=\"#000000\" font-family=\"sans-serif\" font-size=\"14\" lengthAdjust=\"spacingAndGlyphs\" textLength=\"38\" x=\"53\" y=\"20.7969\">newX</text><rect fill=\"#A80036\" height=\"12\" style=\"stroke: #FEFECE; stroke-width: 1.5;\" width=\"12\" x=\"66\" y=\"36.0986\"/><!--MD5=[5b77b2101937d7cf45606c3f9966b333]\n",
       "@startuml\r\n",
       "skinparam ranksep 8\r\n",
       " \r\n",
       "rec def \"setX\" as E1  <<(D,brown)action def>> [[psysml:cbe71c02-e966-4d74-b7c0-f9e238b4431e ]] {\r\n",
       "portin \"c\" as E2  [[psysml:bf3dbcd8-0bef-4e93-82b9-0b5a37397746 ]] \r\n",
       "portin \"newX\" as E3  [[psysml:0934341b-2e16-4f4c-9ea0-e4fb5c660a0a ]] \r\n",
       "}\r\n",
       "\r\n",
       "@enduml\r\n",
       "\n",
       "PlantUML version 1.2020.13(Sat Jun 13 12:26:38 UTC 2020)\n",
       "(EPL source distribution)\n",
       "Java Runtime: OpenJDK Runtime Environment\n",
       "JVM: OpenJDK 64-Bit Server VM\n",
       "Default Encoding: UTF-8\n",
       "Language: en\n",
       "Country: null\n",
       "--></g></svg>"
      ]
     },
     "execution_count": 34,
     "metadata": {},
     "output_type": "execute_result"
    }
   ],
   "source": [
    "%viz --style=\"PLANTUML\" --view=\"Action\" \"TextualRepresentationTest\""
   ]
  },
  {
   "cell_type": "code",
   "execution_count": 35,
   "id": "adverse-lithuania",
   "metadata": {
    "execution": {
     "iopub.execute_input": "2021-03-26T15:43:51.068042Z",
     "iopub.status.busy": "2021-03-26T15:43:51.067475Z",
     "iopub.status.idle": "2021-03-26T15:43:51.114742Z",
     "shell.execute_reply": "2021-03-26T15:43:51.112524Z"
    }
   },
   "outputs": [
    {
     "data": {
      "image/svg+xml": [
       "<?xml version=\"1.0\" encoding=\"UTF-8\" standalone=\"no\"?><svg xmlns=\"http://www.w3.org/2000/svg\" xmlns:xlink=\"http://www.w3.org/1999/xlink\" contentScriptType=\"application/ecmascript\" contentStyleType=\"text/css\" height=\"274px\" preserveAspectRatio=\"none\" style=\"width:316px;height:274px;\" version=\"1.1\" viewBox=\"0 0 316 274\" width=\"316px\" zoomAndPan=\"magnify\"><defs><filter height=\"300%\" id=\"f1fngrxt99mrpj\" width=\"300%\" x=\"-1\" y=\"-1\"><feGaussianBlur result=\"blurOut\" stdDeviation=\"2.0\"/><feColorMatrix in=\"blurOut\" result=\"blurOut2\" type=\"matrix\" values=\"0 0 0 0 0 0 0 0 0 0 0 0 0 0 0 0 0 0 .4 0\"/><feOffset dx=\"4.0\" dy=\"4.0\" in=\"blurOut2\" result=\"blurOut3\"/><feBlend in=\"SourceGraphic\" in2=\"blurOut3\" mode=\"normal\"/></filter></defs><g><!--MD5=[fbc87193dbaf4d95561dea2c320d4a47]\n",
       "cluster E1--><a href=\"psysml:13f83e37-e6d2-4a8e-ad71-0c715af430b4\" target=\"_top\" title=\"psysml:13f83e37-e6d2-4a8e-ad71-0c715af430b4\" xlink:actuate=\"onRequest\" xlink:href=\"psysml:13f83e37-e6d2-4a8e-ad71-0c715af430b4\" xlink:show=\"new\" xlink:title=\"psysml:13f83e37-e6d2-4a8e-ad71-0c715af430b4\" xlink:type=\"simple\"><polygon fill=\"#FFFFFF\" filter=\"url(#f1fngrxt99mrpj)\" points=\"16,6,236,6,243,28.2969,294,28.2969,294,262,16,262,16,6\" style=\"stroke: #000000; stroke-width: 1.5;\"/><line style=\"stroke: #000000; stroke-width: 1.5;\" x1=\"16\" x2=\"243\" y1=\"28.2969\" y2=\"28.2969\"/><text fill=\"#000000\" font-family=\"sans-serif\" font-size=\"14\" font-weight=\"bold\" lengthAdjust=\"spacingAndGlyphs\" textLength=\"214\" x=\"20\" y=\"20.9951\">TextualRepresentationTest</text></a><!--MD5=[b4997ac47864f28c2f74865a473b2911]\n",
       "class E2--><a href=\"psysml:168d8746-881d-4018-9dc0-dced1b8b8eb0\" target=\"_top\" title=\"psysml:168d8746-881d-4018-9dc0-dced1b8b8eb0\" xlink:actuate=\"onRequest\" xlink:href=\"psysml:168d8746-881d-4018-9dc0-dced1b8b8eb0\" xlink:show=\"new\" xlink:title=\"psysml:168d8746-881d-4018-9dc0-dced1b8b8eb0\" xlink:type=\"simple\"><rect fill=\"#FEFECE\" filter=\"url(#f1fngrxt99mrpj)\" height=\"45.9375\" id=\"E2\" style=\"stroke: #A80036; stroke-width: 1.5;\" width=\"100\" x=\"32\" y=\"182\"/><ellipse cx=\"47\" cy=\"200.9688\" fill=\"#0000FF\" rx=\"11\" ry=\"11\" style=\"stroke: #A80036; stroke-width: 1.0;\"/><path d=\"M47.8438,207.7188 L45.3906,207.7188 L45.3906,197.4688 L42.25,197.4688 L42.25,195.3281 L50.9844,195.3281 L50.9844,197.4688 L47.8438,197.4688 L47.8438,207.7188 Z \"/><text fill=\"#000000\" font-family=\"sans-serif\" font-size=\"12\" font-style=\"italic\" lengthAdjust=\"spacingAndGlyphs\" textLength=\"72\" x=\"59\" y=\"198.1387\">«dataType»</text><text fill=\"#000000\" font-family=\"sans-serif\" font-size=\"12\" lengthAdjust=\"spacingAndGlyphs\" textLength=\"27\" x=\"81.5\" y=\"212.1074\">Real</text><line style=\"stroke: #A80036; stroke-width: 1.5;\" x1=\"33\" x2=\"131\" y1=\"219.9375\" y2=\"219.9375\"/></a><!--MD5=[09b614a08d8cba4a07c9adeb5e0fee81]\n",
       "class E3--><a href=\"psysml:fec9e0ab-8313-4a0b-a62a-09c4083c89fd\" target=\"_top\" title=\"psysml:fec9e0ab-8313-4a0b-a62a-09c4083c89fd\" xlink:actuate=\"onRequest\" xlink:href=\"psysml:fec9e0ab-8313-4a0b-a62a-09c4083c89fd\" xlink:show=\"new\" xlink:title=\"psysml:fec9e0ab-8313-4a0b-a62a-09c4083c89fd\" xlink:type=\"simple\"><rect fill=\"#FEFECE\" filter=\"url(#f1fngrxt99mrpj)\" height=\"82.4141\" id=\"E3\" style=\"stroke: #A80036; stroke-width: 1.5;\" width=\"111\" x=\"167.5\" y=\"164\"/><ellipse cx=\"214.75\" cy=\"180\" fill=\"#008000\" rx=\"11\" ry=\"11\" style=\"stroke: #A80036; stroke-width: 1.0;\"/><path d=\"M213.6563,180.375 L213.6563,184.0469 L215.2813,184.0469 Q216.4531,184.0469 216.9219,183.6563 Q217.3906,183.25 217.3906,182.25 Q217.3906,181.25 216.8906,180.8125 Q216.4063,180.375 215.2813,180.375 L213.6563,180.375 Z M213.6563,175.5469 L213.6563,178.4219 L215.2813,178.4219 Q216.2031,178.4219 216.5938,178.0938 Q217,177.75 217,177 Q217,176.2344 216.5938,175.8906 Q216.1875,175.5469 215.2813,175.5469 L213.6563,175.5469 Z M211.2813,173.5938 L215.2813,173.5938 Q217.3438,173.5938 218.3906,174.375 Q219.4375,175.1563 219.4375,176.7188 Q219.4375,177.9219 218.8125,178.5938 Q218.2031,179.2656 217.0156,179.375 Q218.4375,179.5156 219.1563,180.3281 Q219.875,181.1406 219.875,182.5938 Q219.875,184.3906 218.7969,185.2031 Q217.7188,186 215.2813,186 L211.2813,186 L211.2813,173.5938 Z \"/><text fill=\"#000000\" font-family=\"sans-serif\" font-size=\"12\" lengthAdjust=\"spacingAndGlyphs\" textLength=\"8\" x=\"235.25\" y=\"184.1543\">C</text><line style=\"stroke: #A80036; stroke-width: 1.5;\" x1=\"168.5\" x2=\"277.5\" y1=\"196\" y2=\"196\"/><text fill=\"#000000\" font-family=\"sans-serif\" font-size=\"11\" lengthAdjust=\"spacingAndGlyphs\" textLength=\"38\" x=\"173.5\" y=\"210.2104\">x: Real</text><text fill=\"#000000\" font-family=\"sans-serif\" font-size=\"11\" lengthAdjust=\"spacingAndGlyphs\" textLength=\"69\" x=\"173.5\" y=\"239.8198\">x_constraint</text><line style=\"stroke: #A80036; stroke-width: 1.0;\" x1=\"168.5\" x2=\"171.5\" y1=\"223.207\" y2=\"223.207\"/><text fill=\"#000000\" font-family=\"sans-serif\" font-size=\"11\" lengthAdjust=\"spacingAndGlyphs\" textLength=\"103\" x=\"171.5\" y=\"226.5151\">assertConstraints</text><line style=\"stroke: #A80036; stroke-width: 1.0;\" x1=\"274.5\" x2=\"277.5\" y1=\"223.207\" y2=\"223.207\"/></a><!--MD5=[270fce915f116d4de14055a7c1d9a0f3]\n",
       "class E5--><a href=\"psysml:cbe71c02-e966-4d74-b7c0-f9e238b4431e\" target=\"_top\" title=\"psysml:cbe71c02-e966-4d74-b7c0-f9e238b4431e\" xlink:actuate=\"onRequest\" xlink:href=\"psysml:cbe71c02-e966-4d74-b7c0-f9e238b4431e\" xlink:show=\"new\" xlink:title=\"psysml:cbe71c02-e966-4d74-b7c0-f9e238b4431e\" xlink:type=\"simple\"><rect fill=\"#FEFECE\" filter=\"url(#f1fngrxt99mrpj)\" height=\"45.9375\" id=\"E5\" style=\"stroke: #A80036; stroke-width: 1.5;\" width=\"105\" x=\"68.5\" y=\"41\"/><ellipse cx=\"83.5\" cy=\"59.9688\" fill=\"#A52A2A\" rx=\"11\" ry=\"11\" style=\"stroke: #A80036; stroke-width: 1.0;\"/><path d=\"M83.0938,55.7813 L83.0938,63.7656 L83.75,63.7656 Q85.1875,63.7656 85.7969,62.8594 Q86.4219,61.9375 86.4219,59.7656 Q86.4219,57.5938 85.7969,56.6875 Q85.1875,55.7813 83.75,55.7813 L83.0938,55.7813 Z M80.6406,53.5781 L83.2656,53.5781 Q86.2969,53.5781 87.625,55.0313 Q88.9688,56.4688 88.9688,59.7656 Q88.9688,63.0625 87.625,64.5156 Q86.2969,65.9688 83.2656,65.9688 L80.6406,65.9688 L80.6406,53.5781 Z \"/><text fill=\"#000000\" font-family=\"sans-serif\" font-size=\"12\" font-style=\"italic\" lengthAdjust=\"spacingAndGlyphs\" textLength=\"77\" x=\"95.5\" y=\"57.1387\">«action def»</text><text fill=\"#000000\" font-family=\"sans-serif\" font-size=\"12\" lengthAdjust=\"spacingAndGlyphs\" textLength=\"27\" x=\"120.5\" y=\"71.1074\">setX</text><line style=\"stroke: #A80036; stroke-width: 1.5;\" x1=\"69.5\" x2=\"172.5\" y1=\"78.9375\" y2=\"78.9375\"/></a><!--MD5=[6f107eb264eda4b26325f39a5516f1f3]\n",
       "reverse link E5 to E3--><a href=\"psysml:bf3dbcd8-0bef-4e93-82b9-0b5a37397746\" target=\"_top\" title=\"psysml:bf3dbcd8-0bef-4e93-82b9-0b5a37397746\" xlink:actuate=\"onRequest\" xlink:href=\"psysml:bf3dbcd8-0bef-4e93-82b9-0b5a37397746\" xlink:show=\"new\" xlink:title=\"psysml:bf3dbcd8-0bef-4e93-82b9-0b5a37397746\" xlink:type=\"simple\"><path d=\"M144.97,97.67 C159.5,117.47 178.14,142.87 193.56,163.88 \" fill=\"none\" id=\"E5&lt;-E3\" style=\"stroke: #A80036; stroke-width: 1.0;\"/><polygon fill=\"#FFFFFF\" points=\"137.16,87.02,137.4872,94.2237,144.2626,96.6922,143.9354,89.4886,137.16,87.02\" style=\"stroke: #A80036; stroke-width: 1.0;\"/><text fill=\"#000000\" font-family=\"sans-serif\" font-size=\"13\" lengthAdjust=\"spacingAndGlyphs\" textLength=\"7\" x=\"169\" y=\"130.0669\">c</text></a><!--MD5=[f51c6d1f1856fe338ac0413483fb1ccf]\n",
       "reverse link E5 to E2--><a href=\"psysml:0934341b-2e16-4f4c-9ea0-e4fb5c660a0a\" target=\"_top\" title=\"psysml:0934341b-2e16-4f4c-9ea0-e4fb5c660a0a\" xlink:actuate=\"onRequest\" xlink:href=\"psysml:0934341b-2e16-4f4c-9ea0-e4fb5c660a0a\" xlink:show=\"new\" xlink:title=\"psysml:0934341b-2e16-4f4c-9ea0-e4fb5c660a0a\" xlink:type=\"simple\"><path d=\"M111.31,99.55 C104.11,125.21 94.5,159.45 88.28,181.62 \" fill=\"none\" id=\"E5&lt;-E2\" style=\"stroke: #A80036; stroke-width: 1.0;\"/><polygon fill=\"#FFFFFF\" points=\"114.82,87.02,109.3468,91.7151,111.5756,98.5731,117.0489,93.878,114.82,87.02\" style=\"stroke: #A80036; stroke-width: 1.0;\"/><text fill=\"#000000\" font-family=\"sans-serif\" font-size=\"13\" lengthAdjust=\"spacingAndGlyphs\" textLength=\"33\" x=\"107\" y=\"130.0669\">newX</text></a><!--MD5=[ccfc52d312260dedb03749ffe5434171]\n",
       "@startuml\r\n",
       " \r\n",
       "package \"TextualRepresentationTest\" as E1  [[psysml:13f83e37-e6d2-4a8e-ad71-0c715af430b4 ]]  {\r\n",
       "comp def \"Real\" as E2  <<(T,blue)dataType>> [[psysml:168d8746-881d-4018-9dc0-dced1b8b8eb0 ]] {\r\n",
       "}\r\n",
       "comp def \"C\" as E3  << (B,green) >> [[psysml:fec9e0ab-8313-4a0b-a62a-09c4083c89fd ]] {\r\n",
       "x: Real\r\n",
       "- - assertConstraints - -\r\n",
       "x_constraint\r\n",
       "}\r\n",
       "comp def \"setX\" as E5  <<(D,brown)action def>> [[psysml:cbe71c02-e966-4d74-b7c0-f9e238b4431e ]] {\r\n",
       "}\r\n",
       "E5 o- - E3 [[psysml:bf3dbcd8-0bef-4e93-82b9-0b5a37397746 ]] : c\r\n",
       "E5 o- - E2 [[psysml:0934341b-2e16-4f4c-9ea0-e4fb5c660a0a ]] : newX\r\n",
       "}\r\n",
       "@enduml\r\n",
       "\n",
       "PlantUML version 1.2020.13(Sat Jun 13 12:26:38 UTC 2020)\n",
       "(EPL source distribution)\n",
       "Java Runtime: OpenJDK Runtime Environment\n",
       "JVM: OpenJDK 64-Bit Server VM\n",
       "Default Encoding: UTF-8\n",
       "Language: en\n",
       "Country: null\n",
       "--></g></svg>"
      ]
     },
     "execution_count": 35,
     "metadata": {},
     "output_type": "execute_result"
    }
   ],
   "source": [
    "%viz --style=\"PLANTUML\" --view=\"Sequence\" \"TextualRepresentationTest\""
   ]
  },
  {
   "cell_type": "code",
   "execution_count": 36,
   "id": "transparent-friday",
   "metadata": {
    "execution": {
     "iopub.execute_input": "2021-03-26T15:43:51.164032Z",
     "iopub.status.busy": "2021-03-26T15:43:51.163712Z",
     "iopub.status.idle": "2021-03-26T15:43:51.204798Z",
     "shell.execute_reply": "2021-03-26T15:43:51.204375Z"
    }
   },
   "outputs": [
    {
     "data": {
      "image/svg+xml": [
       "<?xml version=\"1.0\" encoding=\"UTF-8\" standalone=\"no\"?><svg xmlns=\"http://www.w3.org/2000/svg\" xmlns:xlink=\"http://www.w3.org/1999/xlink\" contentScriptType=\"application/ecmascript\" contentStyleType=\"text/css\" height=\"262px\" preserveAspectRatio=\"none\" style=\"width:458px;height:262px;\" version=\"1.1\" viewBox=\"0 0 458 262\" width=\"458px\" zoomAndPan=\"magnify\"><defs><filter height=\"300%\" id=\"fcr3z1dgvin0b\" width=\"300%\" x=\"-1\" y=\"-1\"><feGaussianBlur result=\"blurOut\" stdDeviation=\"2.0\"/><feColorMatrix in=\"blurOut\" result=\"blurOut2\" type=\"matrix\" values=\"0 0 0 0 0 0 0 0 0 0 0 0 0 0 0 0 0 0 .4 0\"/><feOffset dx=\"4.0\" dy=\"4.0\" in=\"blurOut2\" result=\"blurOut3\"/><feBlend in=\"SourceGraphic\" in2=\"blurOut3\" mode=\"normal\"/></filter></defs><g><!--MD5=[fbc87193dbaf4d95561dea2c320d4a47]\n",
       "cluster E1--><a href=\"psysml:13f83e37-e6d2-4a8e-ad71-0c715af430b4\" target=\"_top\" title=\"psysml:13f83e37-e6d2-4a8e-ad71-0c715af430b4\" xlink:actuate=\"onRequest\" xlink:href=\"psysml:13f83e37-e6d2-4a8e-ad71-0c715af430b4\" xlink:show=\"new\" xlink:title=\"psysml:13f83e37-e6d2-4a8e-ad71-0c715af430b4\" xlink:type=\"simple\"><polygon fill=\"#FFFFFF\" filter=\"url(#fcr3z1dgvin0b)\" points=\"16,6,236,6,243,28.2969,436,28.2969,436,250,16,250,16,6\" style=\"stroke: #000000; stroke-width: 1.5;\"/><line style=\"stroke: #000000; stroke-width: 1.5;\" x1=\"16\" x2=\"243\" y1=\"28.2969\" y2=\"28.2969\"/><text fill=\"#000000\" font-family=\"sans-serif\" font-size=\"14\" font-weight=\"bold\" lengthAdjust=\"spacingAndGlyphs\" textLength=\"214\" x=\"20\" y=\"20.9951\">TextualRepresentationTest</text></a><!--MD5=[de5ec2e2e8f62f467e546659f5068c88]\n",
       "cluster E5--><a href=\"psysml:cbe71c02-e966-4d74-b7c0-f9e238b4431e\" target=\"_top\" title=\"psysml:cbe71c02-e966-4d74-b7c0-f9e238b4431e\" xlink:actuate=\"onRequest\" xlink:href=\"psysml:cbe71c02-e966-4d74-b7c0-f9e238b4431e\" xlink:show=\"new\" xlink:title=\"psysml:cbe71c02-e966-4d74-b7c0-f9e238b4431e\" xlink:type=\"simple\"><rect fill=\"#FFFFFF\" filter=\"url(#fcr3z1dgvin0b)\" height=\"152\" id=\"E5\" style=\"stroke: #A80036; stroke-width: 1.5;\" width=\"96\" x=\"294.5\" y=\"82\"/><rect fill=\"#FEFECE\" height=\"37.9375\" style=\"stroke: #A80036; stroke-width: 1.5;\" width=\"96\" x=\"294.5\" y=\"82\"/><text fill=\"#000000\" font-family=\"sans-serif\" font-size=\"12\" font-style=\"italic\" lengthAdjust=\"spacingAndGlyphs\" textLength=\"77\" x=\"304\" y=\"98.1387\">«action def»</text><text fill=\"#000000\" font-family=\"sans-serif\" font-size=\"12\" lengthAdjust=\"spacingAndGlyphs\" textLength=\"27\" x=\"329\" y=\"112.1074\">setX</text></a><!--MD5=[b4997ac47864f28c2f74865a473b2911]\n",
       "class E2--><a href=\"psysml:168d8746-881d-4018-9dc0-dced1b8b8eb0\" target=\"_top\" title=\"psysml:168d8746-881d-4018-9dc0-dced1b8b8eb0\" xlink:actuate=\"onRequest\" xlink:href=\"psysml:168d8746-881d-4018-9dc0-dced1b8b8eb0\" xlink:show=\"new\" xlink:title=\"psysml:168d8746-881d-4018-9dc0-dced1b8b8eb0\" xlink:type=\"simple\"><rect fill=\"#FEFECE\" filter=\"url(#fcr3z1dgvin0b)\" height=\"45.9375\" id=\"E2\" style=\"stroke: #A80036; stroke-width: 1.5;\" width=\"100\" x=\"178\" y=\"59\"/><ellipse cx=\"193\" cy=\"77.9688\" fill=\"#0000FF\" rx=\"11\" ry=\"11\" style=\"stroke: #A80036; stroke-width: 1.0;\"/><path d=\"M193.8438,84.7188 L191.3906,84.7188 L191.3906,74.4688 L188.25,74.4688 L188.25,72.3281 L196.9844,72.3281 L196.9844,74.4688 L193.8438,74.4688 L193.8438,84.7188 Z \"/><text fill=\"#000000\" font-family=\"sans-serif\" font-size=\"12\" font-style=\"italic\" lengthAdjust=\"spacingAndGlyphs\" textLength=\"72\" x=\"205\" y=\"75.1387\">«dataType»</text><text fill=\"#000000\" font-family=\"sans-serif\" font-size=\"12\" lengthAdjust=\"spacingAndGlyphs\" textLength=\"27\" x=\"227.5\" y=\"89.1074\">Real</text><line style=\"stroke: #A80036; stroke-width: 1.5;\" x1=\"179\" x2=\"277\" y1=\"96.9375\" y2=\"96.9375\"/></a><!--MD5=[09b614a08d8cba4a07c9adeb5e0fee81]\n",
       "class E3--><a href=\"psysml:fec9e0ab-8313-4a0b-a62a-09c4083c89fd\" target=\"_top\" title=\"psysml:fec9e0ab-8313-4a0b-a62a-09c4083c89fd\" xlink:actuate=\"onRequest\" xlink:href=\"psysml:fec9e0ab-8313-4a0b-a62a-09c4083c89fd\" xlink:show=\"new\" xlink:title=\"psysml:fec9e0ab-8313-4a0b-a62a-09c4083c89fd\" xlink:type=\"simple\"><rect fill=\"#FEFECE\" filter=\"url(#fcr3z1dgvin0b)\" height=\"82.4141\" id=\"E3\" style=\"stroke: #A80036; stroke-width: 1.5;\" width=\"111\" x=\"31.5\" y=\"41\"/><ellipse cx=\"78.75\" cy=\"57\" fill=\"#008000\" rx=\"11\" ry=\"11\" style=\"stroke: #A80036; stroke-width: 1.0;\"/><path d=\"M77.6563,57.375 L77.6563,61.0469 L79.2813,61.0469 Q80.4531,61.0469 80.9219,60.6563 Q81.3906,60.25 81.3906,59.25 Q81.3906,58.25 80.8906,57.8125 Q80.4063,57.375 79.2813,57.375 L77.6563,57.375 Z M77.6563,52.5469 L77.6563,55.4219 L79.2813,55.4219 Q80.2031,55.4219 80.5938,55.0938 Q81,54.75 81,54 Q81,53.2344 80.5938,52.8906 Q80.1875,52.5469 79.2813,52.5469 L77.6563,52.5469 Z M75.2813,50.5938 L79.2813,50.5938 Q81.3438,50.5938 82.3906,51.375 Q83.4375,52.1563 83.4375,53.7188 Q83.4375,54.9219 82.8125,55.5938 Q82.2031,56.2656 81.0156,56.375 Q82.4375,56.5156 83.1563,57.3281 Q83.875,58.1406 83.875,59.5938 Q83.875,61.3906 82.7969,62.2031 Q81.7188,63 79.2813,63 L75.2813,63 L75.2813,50.5938 Z \"/><text fill=\"#000000\" font-family=\"sans-serif\" font-size=\"12\" lengthAdjust=\"spacingAndGlyphs\" textLength=\"8\" x=\"99.25\" y=\"61.1543\">C</text><line style=\"stroke: #A80036; stroke-width: 1.5;\" x1=\"32.5\" x2=\"141.5\" y1=\"73\" y2=\"73\"/><text fill=\"#000000\" font-family=\"sans-serif\" font-size=\"11\" lengthAdjust=\"spacingAndGlyphs\" textLength=\"38\" x=\"37.5\" y=\"87.2104\">x: Real</text><text fill=\"#000000\" font-family=\"sans-serif\" font-size=\"11\" lengthAdjust=\"spacingAndGlyphs\" textLength=\"69\" x=\"37.5\" y=\"116.8198\">x_constraint</text><line style=\"stroke: #A80036; stroke-width: 1.0;\" x1=\"32.5\" x2=\"35.5\" y1=\"100.207\" y2=\"100.207\"/><text fill=\"#000000\" font-family=\"sans-serif\" font-size=\"11\" lengthAdjust=\"spacingAndGlyphs\" textLength=\"103\" x=\"35.5\" y=\"103.5151\">assertConstraints</text><line style=\"stroke: #A80036; stroke-width: 1.0;\" x1=\"138.5\" x2=\"141.5\" y1=\"100.207\" y2=\"100.207\"/></a><text fill=\"#000000\" font-family=\"sans-serif\" font-size=\"14\" lengthAdjust=\"spacingAndGlyphs\" textLength=\"8\" x=\"315\" y=\"60.6982\">c</text><rect fill=\"#A80036\" height=\"12\" style=\"stroke: #FEFECE; stroke-width: 1.5;\" width=\"12\" x=\"313\" y=\"76\"/><text fill=\"#000000\" font-family=\"sans-serif\" font-size=\"14\" lengthAdjust=\"spacingAndGlyphs\" textLength=\"38\" x=\"347\" y=\"60.6982\">newX</text><rect fill=\"#A80036\" height=\"12\" style=\"stroke: #FEFECE; stroke-width: 1.5;\" width=\"12\" x=\"360\" y=\"76\"/><!--MD5=[324cf1ca85bb82817f91dab6f5d4cc75]\n",
       "@startuml\r\n",
       " \r\n",
       "package \"TextualRepresentationTest\" as E1  [[psysml:13f83e37-e6d2-4a8e-ad71-0c715af430b4 ]]  {\r\n",
       "comp def \"Real\" as E2  <<(T,blue)dataType>> [[psysml:168d8746-881d-4018-9dc0-dced1b8b8eb0 ]] {\r\n",
       "}\r\n",
       "comp def \"C\" as E3  << (B,green) >> [[psysml:fec9e0ab-8313-4a0b-a62a-09c4083c89fd ]] {\r\n",
       "x: Real\r\n",
       "- - assertConstraints - -\r\n",
       "x_constraint\r\n",
       "}\r\n",
       "rec def \"setX\" as E5  <<(D,brown)action def>> [[psysml:cbe71c02-e966-4d74-b7c0-f9e238b4431e ]] {\r\n",
       "portin \"c\" as E6  [[psysml:bf3dbcd8-0bef-4e93-82b9-0b5a37397746 ]] \r\n",
       "portin \"newX\" as E7  [[psysml:0934341b-2e16-4f4c-9ea0-e4fb5c660a0a ]] \r\n",
       "}\r\n",
       "\r\n",
       "}\r\n",
       "@enduml\r\n",
       "\n",
       "PlantUML version 1.2020.13(Sat Jun 13 12:26:38 UTC 2020)\n",
       "(EPL source distribution)\n",
       "Java Runtime: OpenJDK Runtime Environment\n",
       "JVM: OpenJDK 64-Bit Server VM\n",
       "Default Encoding: UTF-8\n",
       "Language: en\n",
       "Country: null\n",
       "--></g></svg>"
      ]
     },
     "execution_count": 36,
     "metadata": {},
     "output_type": "execute_result"
    }
   ],
   "source": [
    "%viz --style=\"PLANTUML\" --view=\"MIXED\" \"TextualRepresentationTest\""
   ]
  },
  {
   "cell_type": "code",
   "execution_count": 37,
   "id": "recovered-hollow",
   "metadata": {
    "execution": {
     "iopub.execute_input": "2021-03-26T15:43:51.256168Z",
     "iopub.status.busy": "2021-03-26T15:43:51.255372Z",
     "iopub.status.idle": "2021-03-26T15:43:51.317610Z",
     "shell.execute_reply": "2021-03-26T15:43:51.316989Z"
    }
   },
   "outputs": [
    {
     "data": {
      "image/svg+xml": [
       "<?xml version=\"1.0\" encoding=\"UTF-8\" standalone=\"no\"?><svg xmlns=\"http://www.w3.org/2000/svg\" xmlns:xlink=\"http://www.w3.org/1999/xlink\" contentScriptType=\"application/ecmascript\" contentStyleType=\"text/css\" height=\"285px\" preserveAspectRatio=\"none\" style=\"width:432px;height:285px;\" version=\"1.1\" viewBox=\"0 0 432 285\" width=\"432px\" zoomAndPan=\"magnify\"><defs/><g><!--MD5=[fbc87193dbaf4d95561dea2c320d4a47]\n",
       "cluster E1--><a href=\"psysml:13f83e37-e6d2-4a8e-ad71-0c715af430b4\" target=\"_top\" title=\"psysml:13f83e37-e6d2-4a8e-ad71-0c715af430b4\" xlink:actuate=\"onRequest\" xlink:href=\"psysml:13f83e37-e6d2-4a8e-ad71-0c715af430b4\" xlink:show=\"new\" xlink:title=\"psysml:13f83e37-e6d2-4a8e-ad71-0c715af430b4\" xlink:type=\"simple\"><polygon fill=\"#FFFFFF\" points=\"16,6,236,6,243,28.2969,410,28.2969,410,273,16,273,16,6\" style=\"stroke: #000000; stroke-width: 1.5;\"/><line style=\"stroke: #000000; stroke-width: 1.5;\" x1=\"16\" x2=\"243\" y1=\"28.2969\" y2=\"28.2969\"/><text fill=\"#000000\" font-family=\"sans-serif\" font-size=\"14\" font-weight=\"bold\" lengthAdjust=\"spacingAndGlyphs\" textLength=\"214\" x=\"20\" y=\"20.9951\">TextualRepresentationTest</text></a><!--MD5=[de5ec2e2e8f62f467e546659f5068c88]\n",
       "cluster E5--><a href=\"psysml:cbe71c02-e966-4d74-b7c0-f9e238b4431e\" target=\"_top\" title=\"psysml:cbe71c02-e966-4d74-b7c0-f9e238b4431e\" xlink:actuate=\"onRequest\" xlink:href=\"psysml:cbe71c02-e966-4d74-b7c0-f9e238b4431e\" xlink:show=\"new\" xlink:title=\"psysml:cbe71c02-e966-4d74-b7c0-f9e238b4431e\" xlink:type=\"simple\"><rect fill=\"#FFFFFF\" height=\"163.5\" id=\"E5\" style=\"stroke: #383838; stroke-width: 1.5;\" width=\"96\" x=\"268.5\" y=\"93.5\"/><rect fill=\"#F8F8F8\" height=\"37.9375\" style=\"stroke: #383838; stroke-width: 1.5;\" width=\"96\" x=\"268.5\" y=\"93.5\"/><text fill=\"#000000\" font-family=\"sans-serif\" font-size=\"12\" font-style=\"italic\" lengthAdjust=\"spacingAndGlyphs\" textLength=\"77\" x=\"278\" y=\"109.6387\">«action def»</text><text fill=\"#000000\" font-family=\"sans-serif\" font-size=\"12\" lengthAdjust=\"spacingAndGlyphs\" textLength=\"27\" x=\"303\" y=\"123.6074\">setX</text></a><!--MD5=[b4997ac47864f28c2f74865a473b2911]\n",
       "class E2--><a href=\"psysml:168d8746-881d-4018-9dc0-dced1b8b8eb0\" target=\"_top\" title=\"psysml:168d8746-881d-4018-9dc0-dced1b8b8eb0\" xlink:actuate=\"onRequest\" xlink:href=\"psysml:168d8746-881d-4018-9dc0-dced1b8b8eb0\" xlink:show=\"new\" xlink:title=\"psysml:168d8746-881d-4018-9dc0-dced1b8b8eb0\" xlink:type=\"simple\"><rect fill=\"#FFFFFF\" height=\"45.9375\" id=\"E2\" style=\"stroke: #383838; stroke-width: 1.5;\" width=\"74\" x=\"178\" y=\"70.5\"/><text fill=\"#000000\" font-family=\"sans-serif\" font-size=\"12\" font-style=\"italic\" lengthAdjust=\"spacingAndGlyphs\" textLength=\"72\" x=\"179\" y=\"86.6387\">«dataType»</text><text fill=\"#000000\" font-family=\"sans-serif\" font-size=\"12\" lengthAdjust=\"spacingAndGlyphs\" textLength=\"27\" x=\"201.5\" y=\"100.6074\">Real</text><line style=\"stroke: #383838; stroke-width: 1.5;\" x1=\"179\" x2=\"251\" y1=\"108.4375\" y2=\"108.4375\"/></a><!--MD5=[09b614a08d8cba4a07c9adeb5e0fee81]\n",
       "class E3--><a href=\"psysml:fec9e0ab-8313-4a0b-a62a-09c4083c89fd\" target=\"_top\" title=\"psysml:fec9e0ab-8313-4a0b-a62a-09c4083c89fd\" xlink:actuate=\"onRequest\" xlink:href=\"psysml:fec9e0ab-8313-4a0b-a62a-09c4083c89fd\" xlink:show=\"new\" xlink:title=\"psysml:fec9e0ab-8313-4a0b-a62a-09c4083c89fd\" xlink:type=\"simple\"><rect fill=\"#FFFFFF\" height=\"105.1563\" id=\"E3\" style=\"stroke: #383838; stroke-width: 1.5;\" width=\"111\" x=\"31.5\" y=\"41\"/><text fill=\"#000000\" font-family=\"sans-serif\" font-size=\"12\" font-style=\"italic\" lengthAdjust=\"spacingAndGlyphs\" textLength=\"65\" x=\"54.5\" y=\"57.1387\">«item def»</text><text fill=\"#000000\" font-family=\"sans-serif\" font-size=\"12\" lengthAdjust=\"spacingAndGlyphs\" textLength=\"8\" x=\"83\" y=\"71.1074\">C</text><line style=\"stroke: #383838; stroke-width: 1.5;\" x1=\"32.5\" x2=\"141.5\" y1=\"78.9375\" y2=\"78.9375\"/><text fill=\"#000000\" font-family=\"sans-serif\" font-size=\"11\" lengthAdjust=\"spacingAndGlyphs\" textLength=\"38\" x=\"37.5\" y=\"109.9526\">x: Real</text><line style=\"stroke: #383838; stroke-width: 1.0;\" x1=\"32.5\" x2=\"59.5\" y1=\"93.3398\" y2=\"93.3398\"/><text fill=\"#000000\" font-family=\"sans-serif\" font-size=\"11\" lengthAdjust=\"spacingAndGlyphs\" textLength=\"55\" x=\"59.5\" y=\"96.6479\">attributes</text><line style=\"stroke: #383838; stroke-width: 1.0;\" x1=\"114.5\" x2=\"141.5\" y1=\"93.3398\" y2=\"93.3398\"/><text fill=\"#000000\" font-family=\"sans-serif\" font-size=\"11\" lengthAdjust=\"spacingAndGlyphs\" textLength=\"69\" x=\"37.5\" y=\"139.562\">x_constraint</text><line style=\"stroke: #383838; stroke-width: 1.0;\" x1=\"32.5\" x2=\"35.5\" y1=\"122.9492\" y2=\"122.9492\"/><text fill=\"#000000\" font-family=\"sans-serif\" font-size=\"11\" lengthAdjust=\"spacingAndGlyphs\" textLength=\"103\" x=\"35.5\" y=\"126.2573\">assertConstraints</text><line style=\"stroke: #383838; stroke-width: 1.0;\" x1=\"138.5\" x2=\"141.5\" y1=\"122.9492\" y2=\"122.9492\"/></a><text fill=\"#000000\" font-family=\"sans-serif\" font-size=\"14\" lengthAdjust=\"spacingAndGlyphs\" textLength=\"8\" x=\"289\" y=\"72.1982\">c</text><rect fill=\"#383838\" height=\"12\" style=\"stroke: #F8F8F8; stroke-width: 1.5;\" width=\"12\" x=\"287\" y=\"87.5\"/><text fill=\"#000000\" font-family=\"sans-serif\" font-size=\"14\" lengthAdjust=\"spacingAndGlyphs\" textLength=\"38\" x=\"321\" y=\"72.1982\">newX</text><rect fill=\"#383838\" height=\"12\" style=\"stroke: #F8F8F8; stroke-width: 1.5;\" width=\"12\" x=\"334\" y=\"87.5\"/><!--MD5=[d4c237b28482d2a0b59f8341a101d78d]\n",
       "@startuml\r\n",
       "skinparam monochrome true\r\n",
       "skinparam classbackgroundcolor white\r\n",
       "skinparam shadowing false\r\n",
       "skinparam wrapWidth 300\r\n",
       "hide circle\r\n",
       "\r\n",
       "package \"TextualRepresentationTest\" as E1  [[psysml:13f83e37-e6d2-4a8e-ad71-0c715af430b4 ]]  {\r\n",
       "comp def \"Real\" as E2  <<(T,blue)dataType>> [[psysml:168d8746-881d-4018-9dc0-dced1b8b8eb0 ]] {\r\n",
       "}\r\n",
       "comp def \"C\" as E3  <<(T,blue)item def>> [[psysml:fec9e0ab-8313-4a0b-a62a-09c4083c89fd ]] {\r\n",
       "- - attributes - -\r\n",
       "x: Real\r\n",
       "- - assertConstraints - -\r\n",
       "x_constraint\r\n",
       "}\r\n",
       "rec def \"setX\" as E5  <<(T,blue)action def>> [[psysml:cbe71c02-e966-4d74-b7c0-f9e238b4431e ]] {\r\n",
       "portin \"c\" as E6  [[psysml:bf3dbcd8-0bef-4e93-82b9-0b5a37397746 ]] \r\n",
       "portin \"newX\" as E7  [[psysml:0934341b-2e16-4f4c-9ea0-e4fb5c660a0a ]] \r\n",
       "}\r\n",
       "\r\n",
       "}\r\n",
       "@enduml\r\n",
       "\n",
       "PlantUML version 1.2020.13(Sat Jun 13 12:26:38 UTC 2020)\n",
       "(EPL source distribution)\n",
       "Java Runtime: OpenJDK Runtime Environment\n",
       "JVM: OpenJDK 64-Bit Server VM\n",
       "Default Encoding: UTF-8\n",
       "Language: en\n",
       "Country: null\n",
       "--></g></svg>"
      ]
     },
     "execution_count": 37,
     "metadata": {},
     "output_type": "execute_result"
    }
   ],
   "source": [
    "%viz --style=\"DEFAULT\" --view=\"Default\" \"TextualRepresentationTest\""
   ]
  },
  {
   "cell_type": "code",
   "execution_count": 38,
   "id": "liquid-hawaii",
   "metadata": {
    "execution": {
     "iopub.execute_input": "2021-03-26T15:43:51.373203Z",
     "iopub.status.busy": "2021-03-26T15:43:51.372527Z",
     "iopub.status.idle": "2021-03-26T15:43:51.448248Z",
     "shell.execute_reply": "2021-03-26T15:43:51.446988Z"
    }
   },
   "outputs": [
    {
     "data": {
      "image/svg+xml": [
       "<?xml version=\"1.0\" encoding=\"UTF-8\" standalone=\"no\"?><svg xmlns=\"http://www.w3.org/2000/svg\" xmlns:xlink=\"http://www.w3.org/1999/xlink\" contentScriptType=\"application/ecmascript\" contentStyleType=\"text/css\" height=\"297px\" preserveAspectRatio=\"none\" style=\"width:290px;height:297px;\" version=\"1.1\" viewBox=\"0 0 290 297\" width=\"290px\" zoomAndPan=\"magnify\"><defs/><g><!--MD5=[fbc87193dbaf4d95561dea2c320d4a47]\n",
       "cluster E1--><a href=\"psysml:13f83e37-e6d2-4a8e-ad71-0c715af430b4\" target=\"_top\" title=\"psysml:13f83e37-e6d2-4a8e-ad71-0c715af430b4\" xlink:actuate=\"onRequest\" xlink:href=\"psysml:13f83e37-e6d2-4a8e-ad71-0c715af430b4\" xlink:show=\"new\" xlink:title=\"psysml:13f83e37-e6d2-4a8e-ad71-0c715af430b4\" xlink:type=\"simple\"><polygon fill=\"#FFFFFF\" points=\"16,6,236,6,243,28.2969,268,28.2969,268,285,16,285,16,6\" style=\"stroke: #000000; stroke-width: 1.5;\"/><line style=\"stroke: #000000; stroke-width: 1.5;\" x1=\"16\" x2=\"243\" y1=\"28.2969\" y2=\"28.2969\"/><text fill=\"#000000\" font-family=\"sans-serif\" font-size=\"14\" font-weight=\"bold\" lengthAdjust=\"spacingAndGlyphs\" textLength=\"214\" x=\"20\" y=\"20.9951\">TextualRepresentationTest</text></a><!--MD5=[b4997ac47864f28c2f74865a473b2911]\n",
       "class E2--><a href=\"psysml:168d8746-881d-4018-9dc0-dced1b8b8eb0\" target=\"_top\" title=\"psysml:168d8746-881d-4018-9dc0-dced1b8b8eb0\" xlink:actuate=\"onRequest\" xlink:href=\"psysml:168d8746-881d-4018-9dc0-dced1b8b8eb0\" xlink:show=\"new\" xlink:title=\"psysml:168d8746-881d-4018-9dc0-dced1b8b8eb0\" xlink:type=\"simple\"><rect fill=\"#FFFFFF\" height=\"45.9375\" id=\"E2\" style=\"stroke: #383838; stroke-width: 1.5;\" width=\"74\" x=\"32\" y=\"193.5\"/><text fill=\"#000000\" font-family=\"sans-serif\" font-size=\"12\" font-style=\"italic\" lengthAdjust=\"spacingAndGlyphs\" textLength=\"72\" x=\"33\" y=\"209.6387\">«dataType»</text><text fill=\"#000000\" font-family=\"sans-serif\" font-size=\"12\" lengthAdjust=\"spacingAndGlyphs\" textLength=\"27\" x=\"55.5\" y=\"223.6074\">Real</text><line style=\"stroke: #383838; stroke-width: 1.5;\" x1=\"33\" x2=\"105\" y1=\"231.4375\" y2=\"231.4375\"/></a><!--MD5=[09b614a08d8cba4a07c9adeb5e0fee81]\n",
       "class E3--><a href=\"psysml:fec9e0ab-8313-4a0b-a62a-09c4083c89fd\" target=\"_top\" title=\"psysml:fec9e0ab-8313-4a0b-a62a-09c4083c89fd\" xlink:actuate=\"onRequest\" xlink:href=\"psysml:fec9e0ab-8313-4a0b-a62a-09c4083c89fd\" xlink:show=\"new\" xlink:title=\"psysml:fec9e0ab-8313-4a0b-a62a-09c4083c89fd\" xlink:type=\"simple\"><rect fill=\"#FFFFFF\" height=\"105.1563\" id=\"E3\" style=\"stroke: #383838; stroke-width: 1.5;\" width=\"111\" x=\"141.5\" y=\"164\"/><text fill=\"#000000\" font-family=\"sans-serif\" font-size=\"12\" font-style=\"italic\" lengthAdjust=\"spacingAndGlyphs\" textLength=\"65\" x=\"164.5\" y=\"180.1387\">«item def»</text><text fill=\"#000000\" font-family=\"sans-serif\" font-size=\"12\" lengthAdjust=\"spacingAndGlyphs\" textLength=\"8\" x=\"193\" y=\"194.1074\">C</text><line style=\"stroke: #383838; stroke-width: 1.5;\" x1=\"142.5\" x2=\"251.5\" y1=\"201.9375\" y2=\"201.9375\"/><text fill=\"#000000\" font-family=\"sans-serif\" font-size=\"11\" lengthAdjust=\"spacingAndGlyphs\" textLength=\"38\" x=\"147.5\" y=\"232.9526\">x: Real</text><line style=\"stroke: #383838; stroke-width: 1.0;\" x1=\"142.5\" x2=\"169.5\" y1=\"216.3398\" y2=\"216.3398\"/><text fill=\"#000000\" font-family=\"sans-serif\" font-size=\"11\" lengthAdjust=\"spacingAndGlyphs\" textLength=\"55\" x=\"169.5\" y=\"219.6479\">attributes</text><line style=\"stroke: #383838; stroke-width: 1.0;\" x1=\"224.5\" x2=\"251.5\" y1=\"216.3398\" y2=\"216.3398\"/><text fill=\"#000000\" font-family=\"sans-serif\" font-size=\"11\" lengthAdjust=\"spacingAndGlyphs\" textLength=\"69\" x=\"147.5\" y=\"262.562\">x_constraint</text><line style=\"stroke: #383838; stroke-width: 1.0;\" x1=\"142.5\" x2=\"145.5\" y1=\"245.9492\" y2=\"245.9492\"/><text fill=\"#000000\" font-family=\"sans-serif\" font-size=\"11\" lengthAdjust=\"spacingAndGlyphs\" textLength=\"103\" x=\"145.5\" y=\"249.2573\">assertConstraints</text><line style=\"stroke: #383838; stroke-width: 1.0;\" x1=\"248.5\" x2=\"251.5\" y1=\"245.9492\" y2=\"245.9492\"/></a><!--MD5=[270fce915f116d4de14055a7c1d9a0f3]\n",
       "class E5--><a href=\"psysml:cbe71c02-e966-4d74-b7c0-f9e238b4431e\" target=\"_top\" title=\"psysml:cbe71c02-e966-4d74-b7c0-f9e238b4431e\" xlink:actuate=\"onRequest\" xlink:href=\"psysml:cbe71c02-e966-4d74-b7c0-f9e238b4431e\" xlink:show=\"new\" xlink:title=\"psysml:cbe71c02-e966-4d74-b7c0-f9e238b4431e\" xlink:type=\"simple\"><rect fill=\"#FFFFFF\" height=\"45.9375\" id=\"E5\" style=\"stroke: #383838; stroke-width: 1.5;\" width=\"79\" x=\"67.5\" y=\"41\"/><text fill=\"#000000\" font-family=\"sans-serif\" font-size=\"12\" font-style=\"italic\" lengthAdjust=\"spacingAndGlyphs\" textLength=\"77\" x=\"68.5\" y=\"57.1387\">«action def»</text><text fill=\"#000000\" font-family=\"sans-serif\" font-size=\"12\" lengthAdjust=\"spacingAndGlyphs\" textLength=\"27\" x=\"93.5\" y=\"71.1074\">setX</text><line style=\"stroke: #383838; stroke-width: 1.5;\" x1=\"68.5\" x2=\"145.5\" y1=\"78.9375\" y2=\"78.9375\"/></a><!--MD5=[6f107eb264eda4b26325f39a5516f1f3]\n",
       "reverse link E5 to E3--><a href=\"psysml:bf3dbcd8-0bef-4e93-82b9-0b5a37397746\" target=\"_top\" title=\"psysml:bf3dbcd8-0bef-4e93-82b9-0b5a37397746\" xlink:actuate=\"onRequest\" xlink:href=\"psysml:bf3dbcd8-0bef-4e93-82b9-0b5a37397746\" xlink:show=\"new\" xlink:title=\"psysml:bf3dbcd8-0bef-4e93-82b9-0b5a37397746\" xlink:type=\"simple\"><path d=\"M126.98,98.42 C138.48,117.65 153.18,142.22 166.13,163.88 \" fill=\"none\" id=\"E5&lt;-E3\" style=\"stroke: #383838; stroke-width: 1.0;\"/><polygon fill=\"#FFFFFF\" points=\"120.28,87.21,119.9261,94.4124,126.4384,97.5092,126.7923,90.3068,120.28,87.21\" style=\"stroke: #383838; stroke-width: 1.0;\"/><text fill=\"#000000\" font-family=\"sans-serif\" font-size=\"13\" lengthAdjust=\"spacingAndGlyphs\" textLength=\"7\" x=\"147\" y=\"130.0669\">c</text></a><!--MD5=[f51c6d1f1856fe338ac0413483fb1ccf]\n",
       "reverse link E5 to E2--><a href=\"psysml:0934341b-2e16-4f4c-9ea0-e4fb5c660a0a\" target=\"_top\" title=\"psysml:0934341b-2e16-4f4c-9ea0-e4fb5c660a0a\" xlink:actuate=\"onRequest\" xlink:href=\"psysml:0934341b-2e16-4f4c-9ea0-e4fb5c660a0a\" xlink:show=\"new\" xlink:title=\"psysml:0934341b-2e16-4f4c-9ea0-e4fb5c660a0a\" xlink:type=\"simple\"><path d=\"M98.18,99.93 C90.92,128.69 80.84,168.6 74.63,193.2 \" fill=\"none\" id=\"E5&lt;-E2\" style=\"stroke: #383838; stroke-width: 1.0;\"/><polygon fill=\"#FFFFFF\" points=\"101.39,87.21,96.0413,92.0465,98.4485,98.8439,103.7972,94.0074,101.39,87.21\" style=\"stroke: #383838; stroke-width: 1.0;\"/><text fill=\"#000000\" font-family=\"sans-serif\" font-size=\"13\" lengthAdjust=\"spacingAndGlyphs\" textLength=\"33\" x=\"94\" y=\"130.0669\">newX</text></a><!--MD5=[c730e1649efe5b6b995bd3c0e9c08cc2]\n",
       "@startuml\r\n",
       "skinparam monochrome true\r\n",
       "skinparam classbackgroundcolor white\r\n",
       "skinparam shadowing false\r\n",
       "skinparam wrapWidth 300\r\n",
       "hide circle\r\n",
       "\r\n",
       "package \"TextualRepresentationTest\" as E1  [[psysml:13f83e37-e6d2-4a8e-ad71-0c715af430b4 ]]  {\r\n",
       "comp def \"Real\" as E2  <<(T,blue)dataType>> [[psysml:168d8746-881d-4018-9dc0-dced1b8b8eb0 ]] {\r\n",
       "}\r\n",
       "comp def \"C\" as E3  <<(T,blue)item def>> [[psysml:fec9e0ab-8313-4a0b-a62a-09c4083c89fd ]] {\r\n",
       "- - attributes - -\r\n",
       "x: Real\r\n",
       "- - assertConstraints - -\r\n",
       "x_constraint\r\n",
       "}\r\n",
       "comp def \"setX\" as E5  <<(T,blue)action def>> [[psysml:cbe71c02-e966-4d74-b7c0-f9e238b4431e ]] {\r\n",
       "}\r\n",
       "E5 o- - E3 [[psysml:bf3dbcd8-0bef-4e93-82b9-0b5a37397746 ]] : c\r\n",
       "E5 o- - E2 [[psysml:0934341b-2e16-4f4c-9ea0-e4fb5c660a0a ]] : newX\r\n",
       "}\r\n",
       "@enduml\r\n",
       "\n",
       "PlantUML version 1.2020.13(Sat Jun 13 12:26:38 UTC 2020)\n",
       "(EPL source distribution)\n",
       "Java Runtime: OpenJDK Runtime Environment\n",
       "JVM: OpenJDK 64-Bit Server VM\n",
       "Default Encoding: UTF-8\n",
       "Language: en\n",
       "Country: null\n",
       "--></g></svg>"
      ]
     },
     "execution_count": 38,
     "metadata": {},
     "output_type": "execute_result"
    }
   ],
   "source": [
    "%viz --style=\"DEFAULT\" --view=\"Tree\" \"TextualRepresentationTest\""
   ]
  },
  {
   "cell_type": "code",
   "execution_count": 39,
   "id": "needed-motor",
   "metadata": {
    "execution": {
     "iopub.execute_input": "2021-03-26T15:43:51.498942Z",
     "iopub.status.busy": "2021-03-26T15:43:51.498281Z",
     "iopub.status.idle": "2021-03-26T15:43:51.502905Z",
     "shell.execute_reply": "2021-03-26T15:43:51.502313Z"
    }
   },
   "outputs": [
    {
     "data": {
      "image/svg+xml": [
       "<?xml version=\"1.0\" encoding=\"UTF-8\" standalone=\"no\"?><svg xmlns=\"http://www.w3.org/2000/svg\" xmlns:xlink=\"http://www.w3.org/1999/xlink\" contentScriptType=\"application/ecmascript\" contentStyleType=\"text/css\" height=\"12px\" preserveAspectRatio=\"none\" style=\"width:12px;height:12px;\" version=\"1.1\" viewBox=\"0 0 12 12\" width=\"12px\" zoomAndPan=\"magnify\"><defs/><g><!--MD5=[c5f280e076d0d61ccf4b0f27871bda1d]\n",
       "@startuml\r\n",
       "skinparam monochrome true\r\n",
       "skinparam classbackgroundcolor white\r\n",
       "skinparam shadowing false\r\n",
       "skinparam wrapWidth 300\r\n",
       "hide circle\r\n",
       "\r\n",
       "@enduml\r\n",
       "\n",
       "PlantUML version 1.2020.13(Sat Jun 13 12:26:38 UTC 2020)\n",
       "(EPL source distribution)\n",
       "Java Runtime: OpenJDK Runtime Environment\n",
       "JVM: OpenJDK 64-Bit Server VM\n",
       "Default Encoding: UTF-8\n",
       "Language: en\n",
       "Country: null\n",
       "--></g></svg>"
      ]
     },
     "execution_count": 39,
     "metadata": {},
     "output_type": "execute_result"
    }
   ],
   "source": [
    "%viz --style=\"DEFAULT\" --view=\"State\" \"TextualRepresentationTest\""
   ]
  },
  {
   "cell_type": "code",
   "execution_count": 40,
   "id": "wireless-central",
   "metadata": {
    "execution": {
     "iopub.execute_input": "2021-03-26T15:43:51.557255Z",
     "iopub.status.busy": "2021-03-26T15:43:51.555836Z",
     "iopub.status.idle": "2021-03-26T15:43:51.582434Z",
     "shell.execute_reply": "2021-03-26T15:43:51.582163Z"
    }
   },
   "outputs": [
    {
     "data": {
      "image/svg+xml": [
       "<?xml version=\"1.0\" encoding=\"UTF-8\" standalone=\"no\"?><svg xmlns=\"http://www.w3.org/2000/svg\" xmlns:xlink=\"http://www.w3.org/1999/xlink\" contentScriptType=\"application/ecmascript\" contentStyleType=\"text/css\" height=\"179px\" preserveAspectRatio=\"none\" style=\"width:398px;height:179px;\" version=\"1.1\" viewBox=\"0 0 398 179\" width=\"398px\" zoomAndPan=\"magnify\"><defs/><g><!--MD5=[fbc87193dbaf4d95561dea2c320d4a47]\n",
       "cluster E1--><a href=\"psysml:13f83e37-e6d2-4a8e-ad71-0c715af430b4\" target=\"_top\" title=\"psysml:13f83e37-e6d2-4a8e-ad71-0c715af430b4\" xlink:actuate=\"onRequest\" xlink:href=\"psysml:13f83e37-e6d2-4a8e-ad71-0c715af430b4\" xlink:show=\"new\" xlink:title=\"psysml:13f83e37-e6d2-4a8e-ad71-0c715af430b4\" xlink:type=\"simple\"><polygon fill=\"#FFFFFF\" points=\"16,6,236,6,243,28.2969,376,28.2969,376,167,16,167,16,6\" style=\"stroke: #000000; stroke-width: 1.5;\"/><line style=\"stroke: #000000; stroke-width: 1.5;\" x1=\"16\" x2=\"243\" y1=\"28.2969\" y2=\"28.2969\"/><text fill=\"#000000\" font-family=\"sans-serif\" font-size=\"14\" font-weight=\"bold\" lengthAdjust=\"spacingAndGlyphs\" textLength=\"214\" x=\"20\" y=\"20.9951\">TextualRepresentationTest</text></a><!--MD5=[f6df4d0ebaf0b5dfb2ced0ae5af7c670]\n",
       "cluster E4--><a href=\"psysml:cbe71c02-e966-4d74-b7c0-f9e238b4431e\" target=\"_top\" title=\"psysml:cbe71c02-e966-4d74-b7c0-f9e238b4431e\" xlink:actuate=\"onRequest\" xlink:href=\"psysml:cbe71c02-e966-4d74-b7c0-f9e238b4431e\" xlink:show=\"new\" xlink:title=\"psysml:cbe71c02-e966-4d74-b7c0-f9e238b4431e\" xlink:type=\"simple\"><rect fill=\"#FFFFFF\" height=\"88.5\" id=\"E4\" style=\"stroke: #383838; stroke-width: 1.5;\" width=\"96\" x=\"235.5\" y=\"62.5\"/><rect fill=\"#F8F8F8\" height=\"37.9375\" style=\"stroke: #383838; stroke-width: 1.5;\" width=\"96\" x=\"235.5\" y=\"62.5\"/><text fill=\"#000000\" font-family=\"sans-serif\" font-size=\"12\" font-style=\"italic\" lengthAdjust=\"spacingAndGlyphs\" textLength=\"77\" x=\"245\" y=\"78.6387\">«action def»</text><text fill=\"#000000\" font-family=\"sans-serif\" font-size=\"12\" lengthAdjust=\"spacingAndGlyphs\" textLength=\"27\" x=\"270\" y=\"92.6074\">setX</text></a><g id=\"E1.E2\"><a href=\"psysml:168d8746-881d-4018-9dc0-dced1b8b8eb0\" target=\"_top\" title=\"psysml:168d8746-881d-4018-9dc0-dced1b8b8eb0\" xlink:actuate=\"onRequest\" xlink:href=\"psysml:168d8746-881d-4018-9dc0-dced1b8b8eb0\" xlink:show=\"new\" xlink:title=\"psysml:168d8746-881d-4018-9dc0-dced1b8b8eb0\" xlink:type=\"simple\"><rect fill=\"#FFFFFF\" height=\"42.9375\" id=\"E2\" style=\"stroke: #383838; stroke-width: 1.5;\" width=\"79\" x=\"139.5\" y=\"41\"/><rect fill=\"#F8F8F8\" height=\"37.9375\" style=\"stroke: #383838; stroke-width: 1.5;\" width=\"79\" x=\"139.5\" y=\"41\"/><text fill=\"#000000\" font-family=\"sans-serif\" font-size=\"12\" font-style=\"italic\" lengthAdjust=\"spacingAndGlyphs\" textLength=\"72\" x=\"143\" y=\"57.1387\">«dataType»</text><text fill=\"#000000\" font-family=\"sans-serif\" font-size=\"12\" lengthAdjust=\"spacingAndGlyphs\" textLength=\"27\" x=\"165.5\" y=\"71.1074\">Real</text></a></g><g id=\"E1.E3\"><a href=\"psysml:fec9e0ab-8313-4a0b-a62a-09c4083c89fd\" target=\"_top\" title=\"psysml:fec9e0ab-8313-4a0b-a62a-09c4083c89fd\" xlink:actuate=\"onRequest\" xlink:href=\"psysml:fec9e0ab-8313-4a0b-a62a-09c4083c89fd\" xlink:show=\"new\" xlink:title=\"psysml:fec9e0ab-8313-4a0b-a62a-09c4083c89fd\" xlink:type=\"simple\"><rect fill=\"#FFFFFF\" height=\"42.9375\" id=\"E3\" style=\"stroke: #383838; stroke-width: 1.5;\" width=\"72\" x=\"32\" y=\"41\"/><rect fill=\"#F8F8F8\" height=\"37.9375\" style=\"stroke: #383838; stroke-width: 1.5;\" width=\"72\" x=\"32\" y=\"41\"/><text fill=\"#000000\" font-family=\"sans-serif\" font-size=\"12\" font-style=\"italic\" lengthAdjust=\"spacingAndGlyphs\" textLength=\"65\" x=\"35.5\" y=\"57.1387\">«item def»</text><text fill=\"#000000\" font-family=\"sans-serif\" font-size=\"12\" lengthAdjust=\"spacingAndGlyphs\" textLength=\"8\" x=\"64\" y=\"71.1074\">C</text></a></g><text fill=\"#000000\" font-family=\"sans-serif\" font-size=\"14\" lengthAdjust=\"spacingAndGlyphs\" textLength=\"8\" x=\"256\" y=\"41.1982\">c</text><rect fill=\"#383838\" height=\"12\" style=\"stroke: #F8F8F8; stroke-width: 1.5;\" width=\"12\" x=\"254\" y=\"56.5\"/><text fill=\"#000000\" font-family=\"sans-serif\" font-size=\"14\" lengthAdjust=\"spacingAndGlyphs\" textLength=\"38\" x=\"288\" y=\"41.1982\">newX</text><rect fill=\"#383838\" height=\"12\" style=\"stroke: #F8F8F8; stroke-width: 1.5;\" width=\"12\" x=\"301\" y=\"56.5\"/><!--MD5=[b4d45b4af45f73122cafc56d6494e044]\n",
       "@startuml\r\n",
       "skinparam ranksep 10\r\n",
       "skinparam rectangle {\r\n",
       " backgroundColor<<block>> LightGreen\r\n",
       "}\r\n",
       "skinparam monochrome true\r\n",
       "skinparam classbackgroundcolor white\r\n",
       "skinparam shadowing false\r\n",
       "skinparam wrapWidth 300\r\n",
       "hide circle\r\n",
       "\r\n",
       "package \"TextualRepresentationTest\" as E1  [[psysml:13f83e37-e6d2-4a8e-ad71-0c715af430b4 ]]  {\r\n",
       "def \"Real\" as E2  <<(T,blue)dataType>> [[psysml:168d8746-881d-4018-9dc0-dced1b8b8eb0 ]] \r\n",
       "def \"C\" as E3  <<(T,blue)item def>> [[psysml:fec9e0ab-8313-4a0b-a62a-09c4083c89fd ]] \r\n",
       "rec def \"setX\" as E4  <<(T,blue)action def>> [[psysml:cbe71c02-e966-4d74-b7c0-f9e238b4431e ]] {\r\n",
       "portin \"c\" as E5  [[psysml:bf3dbcd8-0bef-4e93-82b9-0b5a37397746 ]] \r\n",
       "portin \"newX\" as E6  [[psysml:0934341b-2e16-4f4c-9ea0-e4fb5c660a0a ]] \r\n",
       "}\r\n",
       "\r\n",
       "}\r\n",
       "@enduml\r\n",
       "\n",
       "PlantUML version 1.2020.13(Sat Jun 13 12:26:38 UTC 2020)\n",
       "(EPL source distribution)\n",
       "Java Runtime: OpenJDK Runtime Environment\n",
       "JVM: OpenJDK 64-Bit Server VM\n",
       "Default Encoding: UTF-8\n",
       "Language: en\n",
       "Country: null\n",
       "--></g></svg>"
      ]
     },
     "execution_count": 40,
     "metadata": {},
     "output_type": "execute_result"
    }
   ],
   "source": [
    "%viz --style=\"DEFAULT\" --view=\"Interconnection\" \"TextualRepresentationTest\""
   ]
  },
  {
   "cell_type": "code",
   "execution_count": 41,
   "id": "offensive-turning",
   "metadata": {
    "execution": {
     "iopub.execute_input": "2021-03-26T15:43:51.633007Z",
     "iopub.status.busy": "2021-03-26T15:43:51.632477Z",
     "iopub.status.idle": "2021-03-26T15:43:51.654439Z",
     "shell.execute_reply": "2021-03-26T15:43:51.653930Z"
    }
   },
   "outputs": [
    {
     "data": {
      "image/svg+xml": [
       "<?xml version=\"1.0\" encoding=\"UTF-8\" standalone=\"no\"?><svg xmlns=\"http://www.w3.org/2000/svg\" xmlns:xlink=\"http://www.w3.org/1999/xlink\" contentScriptType=\"application/ecmascript\" contentStyleType=\"text/css\" height=\"126px\" preserveAspectRatio=\"none\" style=\"width:150px;height:126px;\" version=\"1.1\" viewBox=\"0 0 150 126\" width=\"150px\" zoomAndPan=\"magnify\"><defs/><g><!--MD5=[fbc87193dbaf4d95561dea2c320d4a47]\n",
       "cluster E1--><a href=\"psysml:cbe71c02-e966-4d74-b7c0-f9e238b4431e\" target=\"_top\" title=\"psysml:cbe71c02-e966-4d74-b7c0-f9e238b4431e\" xlink:actuate=\"onRequest\" xlink:href=\"psysml:cbe71c02-e966-4d74-b7c0-f9e238b4431e\" xlink:show=\"new\" xlink:title=\"psysml:cbe71c02-e966-4d74-b7c0-f9e238b4431e\" xlink:type=\"simple\"><rect fill=\"#FFFFFF\" height=\"73\" id=\"E1\" style=\"stroke: #383838; stroke-width: 1.5;\" width=\"132\" x=\"7\" y=\"42.0986\"/><rect fill=\"#F8F8F8\" height=\"37.9375\" style=\"stroke: #383838; stroke-width: 1.5;\" width=\"132\" x=\"7\" y=\"42.0986\"/><text fill=\"#000000\" font-family=\"sans-serif\" font-size=\"12\" font-style=\"italic\" lengthAdjust=\"spacingAndGlyphs\" textLength=\"77\" x=\"34.5\" y=\"58.2373\">«action def»</text><text fill=\"#000000\" font-family=\"sans-serif\" font-size=\"12\" lengthAdjust=\"spacingAndGlyphs\" textLength=\"27\" x=\"59.5\" y=\"72.2061\">setX</text></a><text fill=\"#000000\" font-family=\"sans-serif\" font-size=\"14\" lengthAdjust=\"spacingAndGlyphs\" textLength=\"8\" x=\"21\" y=\"20.7969\">c</text><rect fill=\"#383838\" height=\"12\" style=\"stroke: #F8F8F8; stroke-width: 1.5;\" width=\"12\" x=\"19\" y=\"36.0986\"/><text fill=\"#000000\" font-family=\"sans-serif\" font-size=\"14\" lengthAdjust=\"spacingAndGlyphs\" textLength=\"38\" x=\"53\" y=\"20.7969\">newX</text><rect fill=\"#383838\" height=\"12\" style=\"stroke: #F8F8F8; stroke-width: 1.5;\" width=\"12\" x=\"66\" y=\"36.0986\"/><!--MD5=[38e8b5dc5d83471de69af5b72e967c0a]\n",
       "@startuml\r\n",
       "skinparam ranksep 8\r\n",
       "skinparam monochrome true\r\n",
       "skinparam classbackgroundcolor white\r\n",
       "skinparam shadowing false\r\n",
       "skinparam wrapWidth 300\r\n",
       "hide circle\r\n",
       "\r\n",
       "rec def \"setX\" as E1  <<(T,blue)action def>> [[psysml:cbe71c02-e966-4d74-b7c0-f9e238b4431e ]] {\r\n",
       "portin \"c\" as E2  [[psysml:bf3dbcd8-0bef-4e93-82b9-0b5a37397746 ]] \r\n",
       "portin \"newX\" as E3  [[psysml:0934341b-2e16-4f4c-9ea0-e4fb5c660a0a ]] \r\n",
       "}\r\n",
       "\r\n",
       "@enduml\r\n",
       "\n",
       "PlantUML version 1.2020.13(Sat Jun 13 12:26:38 UTC 2020)\n",
       "(EPL source distribution)\n",
       "Java Runtime: OpenJDK Runtime Environment\n",
       "JVM: OpenJDK 64-Bit Server VM\n",
       "Default Encoding: UTF-8\n",
       "Language: en\n",
       "Country: null\n",
       "--></g></svg>"
      ]
     },
     "execution_count": 41,
     "metadata": {},
     "output_type": "execute_result"
    }
   ],
   "source": [
    "%viz --style=\"DEFAULT\" --view=\"Action\" \"TextualRepresentationTest\""
   ]
  },
  {
   "cell_type": "code",
   "execution_count": 42,
   "id": "accessory-mineral",
   "metadata": {
    "execution": {
     "iopub.execute_input": "2021-03-26T15:43:51.704519Z",
     "iopub.status.busy": "2021-03-26T15:43:51.704174Z",
     "iopub.status.idle": "2021-03-26T15:43:51.750063Z",
     "shell.execute_reply": "2021-03-26T15:43:51.748521Z"
    }
   },
   "outputs": [
    {
     "data": {
      "image/svg+xml": [
       "<?xml version=\"1.0\" encoding=\"UTF-8\" standalone=\"no\"?><svg xmlns=\"http://www.w3.org/2000/svg\" xmlns:xlink=\"http://www.w3.org/1999/xlink\" contentScriptType=\"application/ecmascript\" contentStyleType=\"text/css\" height=\"297px\" preserveAspectRatio=\"none\" style=\"width:290px;height:297px;\" version=\"1.1\" viewBox=\"0 0 290 297\" width=\"290px\" zoomAndPan=\"magnify\"><defs/><g><!--MD5=[fbc87193dbaf4d95561dea2c320d4a47]\n",
       "cluster E1--><a href=\"psysml:13f83e37-e6d2-4a8e-ad71-0c715af430b4\" target=\"_top\" title=\"psysml:13f83e37-e6d2-4a8e-ad71-0c715af430b4\" xlink:actuate=\"onRequest\" xlink:href=\"psysml:13f83e37-e6d2-4a8e-ad71-0c715af430b4\" xlink:show=\"new\" xlink:title=\"psysml:13f83e37-e6d2-4a8e-ad71-0c715af430b4\" xlink:type=\"simple\"><polygon fill=\"#FFFFFF\" points=\"16,6,236,6,243,28.2969,268,28.2969,268,285,16,285,16,6\" style=\"stroke: #000000; stroke-width: 1.5;\"/><line style=\"stroke: #000000; stroke-width: 1.5;\" x1=\"16\" x2=\"243\" y1=\"28.2969\" y2=\"28.2969\"/><text fill=\"#000000\" font-family=\"sans-serif\" font-size=\"14\" font-weight=\"bold\" lengthAdjust=\"spacingAndGlyphs\" textLength=\"214\" x=\"20\" y=\"20.9951\">TextualRepresentationTest</text></a><!--MD5=[b4997ac47864f28c2f74865a473b2911]\n",
       "class E2--><a href=\"psysml:168d8746-881d-4018-9dc0-dced1b8b8eb0\" target=\"_top\" title=\"psysml:168d8746-881d-4018-9dc0-dced1b8b8eb0\" xlink:actuate=\"onRequest\" xlink:href=\"psysml:168d8746-881d-4018-9dc0-dced1b8b8eb0\" xlink:show=\"new\" xlink:title=\"psysml:168d8746-881d-4018-9dc0-dced1b8b8eb0\" xlink:type=\"simple\"><rect fill=\"#FFFFFF\" height=\"45.9375\" id=\"E2\" style=\"stroke: #383838; stroke-width: 1.5;\" width=\"74\" x=\"32\" y=\"193.5\"/><text fill=\"#000000\" font-family=\"sans-serif\" font-size=\"12\" font-style=\"italic\" lengthAdjust=\"spacingAndGlyphs\" textLength=\"72\" x=\"33\" y=\"209.6387\">«dataType»</text><text fill=\"#000000\" font-family=\"sans-serif\" font-size=\"12\" lengthAdjust=\"spacingAndGlyphs\" textLength=\"27\" x=\"55.5\" y=\"223.6074\">Real</text><line style=\"stroke: #383838; stroke-width: 1.5;\" x1=\"33\" x2=\"105\" y1=\"231.4375\" y2=\"231.4375\"/></a><!--MD5=[09b614a08d8cba4a07c9adeb5e0fee81]\n",
       "class E3--><a href=\"psysml:fec9e0ab-8313-4a0b-a62a-09c4083c89fd\" target=\"_top\" title=\"psysml:fec9e0ab-8313-4a0b-a62a-09c4083c89fd\" xlink:actuate=\"onRequest\" xlink:href=\"psysml:fec9e0ab-8313-4a0b-a62a-09c4083c89fd\" xlink:show=\"new\" xlink:title=\"psysml:fec9e0ab-8313-4a0b-a62a-09c4083c89fd\" xlink:type=\"simple\"><rect fill=\"#FFFFFF\" height=\"105.1563\" id=\"E3\" style=\"stroke: #383838; stroke-width: 1.5;\" width=\"111\" x=\"141.5\" y=\"164\"/><text fill=\"#000000\" font-family=\"sans-serif\" font-size=\"12\" font-style=\"italic\" lengthAdjust=\"spacingAndGlyphs\" textLength=\"65\" x=\"164.5\" y=\"180.1387\">«item def»</text><text fill=\"#000000\" font-family=\"sans-serif\" font-size=\"12\" lengthAdjust=\"spacingAndGlyphs\" textLength=\"8\" x=\"193\" y=\"194.1074\">C</text><line style=\"stroke: #383838; stroke-width: 1.5;\" x1=\"142.5\" x2=\"251.5\" y1=\"201.9375\" y2=\"201.9375\"/><text fill=\"#000000\" font-family=\"sans-serif\" font-size=\"11\" lengthAdjust=\"spacingAndGlyphs\" textLength=\"38\" x=\"147.5\" y=\"232.9526\">x: Real</text><line style=\"stroke: #383838; stroke-width: 1.0;\" x1=\"142.5\" x2=\"169.5\" y1=\"216.3398\" y2=\"216.3398\"/><text fill=\"#000000\" font-family=\"sans-serif\" font-size=\"11\" lengthAdjust=\"spacingAndGlyphs\" textLength=\"55\" x=\"169.5\" y=\"219.6479\">attributes</text><line style=\"stroke: #383838; stroke-width: 1.0;\" x1=\"224.5\" x2=\"251.5\" y1=\"216.3398\" y2=\"216.3398\"/><text fill=\"#000000\" font-family=\"sans-serif\" font-size=\"11\" lengthAdjust=\"spacingAndGlyphs\" textLength=\"69\" x=\"147.5\" y=\"262.562\">x_constraint</text><line style=\"stroke: #383838; stroke-width: 1.0;\" x1=\"142.5\" x2=\"145.5\" y1=\"245.9492\" y2=\"245.9492\"/><text fill=\"#000000\" font-family=\"sans-serif\" font-size=\"11\" lengthAdjust=\"spacingAndGlyphs\" textLength=\"103\" x=\"145.5\" y=\"249.2573\">assertConstraints</text><line style=\"stroke: #383838; stroke-width: 1.0;\" x1=\"248.5\" x2=\"251.5\" y1=\"245.9492\" y2=\"245.9492\"/></a><!--MD5=[270fce915f116d4de14055a7c1d9a0f3]\n",
       "class E5--><a href=\"psysml:cbe71c02-e966-4d74-b7c0-f9e238b4431e\" target=\"_top\" title=\"psysml:cbe71c02-e966-4d74-b7c0-f9e238b4431e\" xlink:actuate=\"onRequest\" xlink:href=\"psysml:cbe71c02-e966-4d74-b7c0-f9e238b4431e\" xlink:show=\"new\" xlink:title=\"psysml:cbe71c02-e966-4d74-b7c0-f9e238b4431e\" xlink:type=\"simple\"><rect fill=\"#FFFFFF\" height=\"45.9375\" id=\"E5\" style=\"stroke: #383838; stroke-width: 1.5;\" width=\"79\" x=\"67.5\" y=\"41\"/><text fill=\"#000000\" font-family=\"sans-serif\" font-size=\"12\" font-style=\"italic\" lengthAdjust=\"spacingAndGlyphs\" textLength=\"77\" x=\"68.5\" y=\"57.1387\">«action def»</text><text fill=\"#000000\" font-family=\"sans-serif\" font-size=\"12\" lengthAdjust=\"spacingAndGlyphs\" textLength=\"27\" x=\"93.5\" y=\"71.1074\">setX</text><line style=\"stroke: #383838; stroke-width: 1.5;\" x1=\"68.5\" x2=\"145.5\" y1=\"78.9375\" y2=\"78.9375\"/></a><!--MD5=[6f107eb264eda4b26325f39a5516f1f3]\n",
       "reverse link E5 to E3--><a href=\"psysml:bf3dbcd8-0bef-4e93-82b9-0b5a37397746\" target=\"_top\" title=\"psysml:bf3dbcd8-0bef-4e93-82b9-0b5a37397746\" xlink:actuate=\"onRequest\" xlink:href=\"psysml:bf3dbcd8-0bef-4e93-82b9-0b5a37397746\" xlink:show=\"new\" xlink:title=\"psysml:bf3dbcd8-0bef-4e93-82b9-0b5a37397746\" xlink:type=\"simple\"><path d=\"M126.98,98.42 C138.48,117.65 153.18,142.22 166.13,163.88 \" fill=\"none\" id=\"E5&lt;-E3\" style=\"stroke: #383838; stroke-width: 1.0;\"/><polygon fill=\"#FFFFFF\" points=\"120.28,87.21,119.9261,94.4124,126.4384,97.5092,126.7923,90.3068,120.28,87.21\" style=\"stroke: #383838; stroke-width: 1.0;\"/><text fill=\"#000000\" font-family=\"sans-serif\" font-size=\"13\" lengthAdjust=\"spacingAndGlyphs\" textLength=\"7\" x=\"147\" y=\"130.0669\">c</text></a><!--MD5=[f51c6d1f1856fe338ac0413483fb1ccf]\n",
       "reverse link E5 to E2--><a href=\"psysml:0934341b-2e16-4f4c-9ea0-e4fb5c660a0a\" target=\"_top\" title=\"psysml:0934341b-2e16-4f4c-9ea0-e4fb5c660a0a\" xlink:actuate=\"onRequest\" xlink:href=\"psysml:0934341b-2e16-4f4c-9ea0-e4fb5c660a0a\" xlink:show=\"new\" xlink:title=\"psysml:0934341b-2e16-4f4c-9ea0-e4fb5c660a0a\" xlink:type=\"simple\"><path d=\"M98.18,99.93 C90.92,128.69 80.84,168.6 74.63,193.2 \" fill=\"none\" id=\"E5&lt;-E2\" style=\"stroke: #383838; stroke-width: 1.0;\"/><polygon fill=\"#FFFFFF\" points=\"101.39,87.21,96.0413,92.0465,98.4485,98.8439,103.7972,94.0074,101.39,87.21\" style=\"stroke: #383838; stroke-width: 1.0;\"/><text fill=\"#000000\" font-family=\"sans-serif\" font-size=\"13\" lengthAdjust=\"spacingAndGlyphs\" textLength=\"33\" x=\"94\" y=\"130.0669\">newX</text></a><!--MD5=[c730e1649efe5b6b995bd3c0e9c08cc2]\n",
       "@startuml\r\n",
       "skinparam monochrome true\r\n",
       "skinparam classbackgroundcolor white\r\n",
       "skinparam shadowing false\r\n",
       "skinparam wrapWidth 300\r\n",
       "hide circle\r\n",
       "\r\n",
       "package \"TextualRepresentationTest\" as E1  [[psysml:13f83e37-e6d2-4a8e-ad71-0c715af430b4 ]]  {\r\n",
       "comp def \"Real\" as E2  <<(T,blue)dataType>> [[psysml:168d8746-881d-4018-9dc0-dced1b8b8eb0 ]] {\r\n",
       "}\r\n",
       "comp def \"C\" as E3  <<(T,blue)item def>> [[psysml:fec9e0ab-8313-4a0b-a62a-09c4083c89fd ]] {\r\n",
       "- - attributes - -\r\n",
       "x: Real\r\n",
       "- - assertConstraints - -\r\n",
       "x_constraint\r\n",
       "}\r\n",
       "comp def \"setX\" as E5  <<(T,blue)action def>> [[psysml:cbe71c02-e966-4d74-b7c0-f9e238b4431e ]] {\r\n",
       "}\r\n",
       "E5 o- - E3 [[psysml:bf3dbcd8-0bef-4e93-82b9-0b5a37397746 ]] : c\r\n",
       "E5 o- - E2 [[psysml:0934341b-2e16-4f4c-9ea0-e4fb5c660a0a ]] : newX\r\n",
       "}\r\n",
       "@enduml\r\n",
       "\n",
       "PlantUML version 1.2020.13(Sat Jun 13 12:26:38 UTC 2020)\n",
       "(EPL source distribution)\n",
       "Java Runtime: OpenJDK Runtime Environment\n",
       "JVM: OpenJDK 64-Bit Server VM\n",
       "Default Encoding: UTF-8\n",
       "Language: en\n",
       "Country: null\n",
       "--></g></svg>"
      ]
     },
     "execution_count": 42,
     "metadata": {},
     "output_type": "execute_result"
    }
   ],
   "source": [
    "%viz --style=\"DEFAULT\" --view=\"Sequence\" \"TextualRepresentationTest\""
   ]
  },
  {
   "cell_type": "code",
   "execution_count": 43,
   "id": "russian-planner",
   "metadata": {
    "execution": {
     "iopub.execute_input": "2021-03-26T15:43:51.799848Z",
     "iopub.status.busy": "2021-03-26T15:43:51.799446Z",
     "iopub.status.idle": "2021-03-26T15:43:51.861970Z",
     "shell.execute_reply": "2021-03-26T15:43:51.860712Z"
    }
   },
   "outputs": [
    {
     "data": {
      "image/svg+xml": [
       "<?xml version=\"1.0\" encoding=\"UTF-8\" standalone=\"no\"?><svg xmlns=\"http://www.w3.org/2000/svg\" xmlns:xlink=\"http://www.w3.org/1999/xlink\" contentScriptType=\"application/ecmascript\" contentStyleType=\"text/css\" height=\"285px\" preserveAspectRatio=\"none\" style=\"width:432px;height:285px;\" version=\"1.1\" viewBox=\"0 0 432 285\" width=\"432px\" zoomAndPan=\"magnify\"><defs/><g><!--MD5=[fbc87193dbaf4d95561dea2c320d4a47]\n",
       "cluster E1--><a href=\"psysml:13f83e37-e6d2-4a8e-ad71-0c715af430b4\" target=\"_top\" title=\"psysml:13f83e37-e6d2-4a8e-ad71-0c715af430b4\" xlink:actuate=\"onRequest\" xlink:href=\"psysml:13f83e37-e6d2-4a8e-ad71-0c715af430b4\" xlink:show=\"new\" xlink:title=\"psysml:13f83e37-e6d2-4a8e-ad71-0c715af430b4\" xlink:type=\"simple\"><polygon fill=\"#FFFFFF\" points=\"16,6,236,6,243,28.2969,410,28.2969,410,273,16,273,16,6\" style=\"stroke: #000000; stroke-width: 1.5;\"/><line style=\"stroke: #000000; stroke-width: 1.5;\" x1=\"16\" x2=\"243\" y1=\"28.2969\" y2=\"28.2969\"/><text fill=\"#000000\" font-family=\"sans-serif\" font-size=\"14\" font-weight=\"bold\" lengthAdjust=\"spacingAndGlyphs\" textLength=\"214\" x=\"20\" y=\"20.9951\">TextualRepresentationTest</text></a><!--MD5=[de5ec2e2e8f62f467e546659f5068c88]\n",
       "cluster E5--><a href=\"psysml:cbe71c02-e966-4d74-b7c0-f9e238b4431e\" target=\"_top\" title=\"psysml:cbe71c02-e966-4d74-b7c0-f9e238b4431e\" xlink:actuate=\"onRequest\" xlink:href=\"psysml:cbe71c02-e966-4d74-b7c0-f9e238b4431e\" xlink:show=\"new\" xlink:title=\"psysml:cbe71c02-e966-4d74-b7c0-f9e238b4431e\" xlink:type=\"simple\"><rect fill=\"#FFFFFF\" height=\"163.5\" id=\"E5\" style=\"stroke: #383838; stroke-width: 1.5;\" width=\"96\" x=\"268.5\" y=\"93.5\"/><rect fill=\"#F8F8F8\" height=\"37.9375\" style=\"stroke: #383838; stroke-width: 1.5;\" width=\"96\" x=\"268.5\" y=\"93.5\"/><text fill=\"#000000\" font-family=\"sans-serif\" font-size=\"12\" font-style=\"italic\" lengthAdjust=\"spacingAndGlyphs\" textLength=\"77\" x=\"278\" y=\"109.6387\">«action def»</text><text fill=\"#000000\" font-family=\"sans-serif\" font-size=\"12\" lengthAdjust=\"spacingAndGlyphs\" textLength=\"27\" x=\"303\" y=\"123.6074\">setX</text></a><!--MD5=[b4997ac47864f28c2f74865a473b2911]\n",
       "class E2--><a href=\"psysml:168d8746-881d-4018-9dc0-dced1b8b8eb0\" target=\"_top\" title=\"psysml:168d8746-881d-4018-9dc0-dced1b8b8eb0\" xlink:actuate=\"onRequest\" xlink:href=\"psysml:168d8746-881d-4018-9dc0-dced1b8b8eb0\" xlink:show=\"new\" xlink:title=\"psysml:168d8746-881d-4018-9dc0-dced1b8b8eb0\" xlink:type=\"simple\"><rect fill=\"#FFFFFF\" height=\"45.9375\" id=\"E2\" style=\"stroke: #383838; stroke-width: 1.5;\" width=\"74\" x=\"178\" y=\"70.5\"/><text fill=\"#000000\" font-family=\"sans-serif\" font-size=\"12\" font-style=\"italic\" lengthAdjust=\"spacingAndGlyphs\" textLength=\"72\" x=\"179\" y=\"86.6387\">«dataType»</text><text fill=\"#000000\" font-family=\"sans-serif\" font-size=\"12\" lengthAdjust=\"spacingAndGlyphs\" textLength=\"27\" x=\"201.5\" y=\"100.6074\">Real</text><line style=\"stroke: #383838; stroke-width: 1.5;\" x1=\"179\" x2=\"251\" y1=\"108.4375\" y2=\"108.4375\"/></a><!--MD5=[09b614a08d8cba4a07c9adeb5e0fee81]\n",
       "class E3--><a href=\"psysml:fec9e0ab-8313-4a0b-a62a-09c4083c89fd\" target=\"_top\" title=\"psysml:fec9e0ab-8313-4a0b-a62a-09c4083c89fd\" xlink:actuate=\"onRequest\" xlink:href=\"psysml:fec9e0ab-8313-4a0b-a62a-09c4083c89fd\" xlink:show=\"new\" xlink:title=\"psysml:fec9e0ab-8313-4a0b-a62a-09c4083c89fd\" xlink:type=\"simple\"><rect fill=\"#FFFFFF\" height=\"105.1563\" id=\"E3\" style=\"stroke: #383838; stroke-width: 1.5;\" width=\"111\" x=\"31.5\" y=\"41\"/><text fill=\"#000000\" font-family=\"sans-serif\" font-size=\"12\" font-style=\"italic\" lengthAdjust=\"spacingAndGlyphs\" textLength=\"65\" x=\"54.5\" y=\"57.1387\">«item def»</text><text fill=\"#000000\" font-family=\"sans-serif\" font-size=\"12\" lengthAdjust=\"spacingAndGlyphs\" textLength=\"8\" x=\"83\" y=\"71.1074\">C</text><line style=\"stroke: #383838; stroke-width: 1.5;\" x1=\"32.5\" x2=\"141.5\" y1=\"78.9375\" y2=\"78.9375\"/><text fill=\"#000000\" font-family=\"sans-serif\" font-size=\"11\" lengthAdjust=\"spacingAndGlyphs\" textLength=\"38\" x=\"37.5\" y=\"109.9526\">x: Real</text><line style=\"stroke: #383838; stroke-width: 1.0;\" x1=\"32.5\" x2=\"59.5\" y1=\"93.3398\" y2=\"93.3398\"/><text fill=\"#000000\" font-family=\"sans-serif\" font-size=\"11\" lengthAdjust=\"spacingAndGlyphs\" textLength=\"55\" x=\"59.5\" y=\"96.6479\">attributes</text><line style=\"stroke: #383838; stroke-width: 1.0;\" x1=\"114.5\" x2=\"141.5\" y1=\"93.3398\" y2=\"93.3398\"/><text fill=\"#000000\" font-family=\"sans-serif\" font-size=\"11\" lengthAdjust=\"spacingAndGlyphs\" textLength=\"69\" x=\"37.5\" y=\"139.562\">x_constraint</text><line style=\"stroke: #383838; stroke-width: 1.0;\" x1=\"32.5\" x2=\"35.5\" y1=\"122.9492\" y2=\"122.9492\"/><text fill=\"#000000\" font-family=\"sans-serif\" font-size=\"11\" lengthAdjust=\"spacingAndGlyphs\" textLength=\"103\" x=\"35.5\" y=\"126.2573\">assertConstraints</text><line style=\"stroke: #383838; stroke-width: 1.0;\" x1=\"138.5\" x2=\"141.5\" y1=\"122.9492\" y2=\"122.9492\"/></a><text fill=\"#000000\" font-family=\"sans-serif\" font-size=\"14\" lengthAdjust=\"spacingAndGlyphs\" textLength=\"8\" x=\"289\" y=\"72.1982\">c</text><rect fill=\"#383838\" height=\"12\" style=\"stroke: #F8F8F8; stroke-width: 1.5;\" width=\"12\" x=\"287\" y=\"87.5\"/><text fill=\"#000000\" font-family=\"sans-serif\" font-size=\"14\" lengthAdjust=\"spacingAndGlyphs\" textLength=\"38\" x=\"321\" y=\"72.1982\">newX</text><rect fill=\"#383838\" height=\"12\" style=\"stroke: #F8F8F8; stroke-width: 1.5;\" width=\"12\" x=\"334\" y=\"87.5\"/><!--MD5=[d4c237b28482d2a0b59f8341a101d78d]\n",
       "@startuml\r\n",
       "skinparam monochrome true\r\n",
       "skinparam classbackgroundcolor white\r\n",
       "skinparam shadowing false\r\n",
       "skinparam wrapWidth 300\r\n",
       "hide circle\r\n",
       "\r\n",
       "package \"TextualRepresentationTest\" as E1  [[psysml:13f83e37-e6d2-4a8e-ad71-0c715af430b4 ]]  {\r\n",
       "comp def \"Real\" as E2  <<(T,blue)dataType>> [[psysml:168d8746-881d-4018-9dc0-dced1b8b8eb0 ]] {\r\n",
       "}\r\n",
       "comp def \"C\" as E3  <<(T,blue)item def>> [[psysml:fec9e0ab-8313-4a0b-a62a-09c4083c89fd ]] {\r\n",
       "- - attributes - -\r\n",
       "x: Real\r\n",
       "- - assertConstraints - -\r\n",
       "x_constraint\r\n",
       "}\r\n",
       "rec def \"setX\" as E5  <<(T,blue)action def>> [[psysml:cbe71c02-e966-4d74-b7c0-f9e238b4431e ]] {\r\n",
       "portin \"c\" as E6  [[psysml:bf3dbcd8-0bef-4e93-82b9-0b5a37397746 ]] \r\n",
       "portin \"newX\" as E7  [[psysml:0934341b-2e16-4f4c-9ea0-e4fb5c660a0a ]] \r\n",
       "}\r\n",
       "\r\n",
       "}\r\n",
       "@enduml\r\n",
       "\n",
       "PlantUML version 1.2020.13(Sat Jun 13 12:26:38 UTC 2020)\n",
       "(EPL source distribution)\n",
       "Java Runtime: OpenJDK Runtime Environment\n",
       "JVM: OpenJDK 64-Bit Server VM\n",
       "Default Encoding: UTF-8\n",
       "Language: en\n",
       "Country: null\n",
       "--></g></svg>"
      ]
     },
     "execution_count": 43,
     "metadata": {},
     "output_type": "execute_result"
    }
   ],
   "source": [
    "%viz --style=\"DEFAULT\" --view=\"MIXED\" \"TextualRepresentationTest\""
   ]
  },
  {
   "cell_type": "code",
   "execution_count": 44,
   "id": "detected-operator",
   "metadata": {
    "execution": {
     "iopub.execute_input": "2021-03-26T15:43:51.913366Z",
     "iopub.status.busy": "2021-03-26T15:43:51.913012Z",
     "iopub.status.idle": "2021-03-26T15:43:51.973041Z",
     "shell.execute_reply": "2021-03-26T15:43:51.971828Z"
    }
   },
   "outputs": [
    {
     "data": {
      "image/svg+xml": [
       "<?xml version=\"1.0\" encoding=\"UTF-8\" standalone=\"no\"?><svg xmlns=\"http://www.w3.org/2000/svg\" xmlns:xlink=\"http://www.w3.org/1999/xlink\" contentScriptType=\"application/ecmascript\" contentStyleType=\"text/css\" height=\"285px\" preserveAspectRatio=\"none\" style=\"width:432px;height:285px;\" version=\"1.1\" viewBox=\"0 0 432 285\" width=\"432px\" zoomAndPan=\"magnify\"><defs/><g><!--MD5=[fbc87193dbaf4d95561dea2c320d4a47]\n",
       "cluster E1--><a href=\"psysml:13f83e37-e6d2-4a8e-ad71-0c715af430b4\" target=\"_top\" title=\"psysml:13f83e37-e6d2-4a8e-ad71-0c715af430b4\" xlink:actuate=\"onRequest\" xlink:href=\"psysml:13f83e37-e6d2-4a8e-ad71-0c715af430b4\" xlink:show=\"new\" xlink:title=\"psysml:13f83e37-e6d2-4a8e-ad71-0c715af430b4\" xlink:type=\"simple\"><polygon fill=\"#FFFFFF\" points=\"16,6,236,6,243,28.2969,410,28.2969,410,273,16,273,16,6\" style=\"stroke: #000000; stroke-width: 1.5;\"/><line style=\"stroke: #000000; stroke-width: 1.5;\" x1=\"16\" x2=\"243\" y1=\"28.2969\" y2=\"28.2969\"/><text fill=\"#000000\" font-family=\"sans-serif\" font-size=\"14\" font-weight=\"bold\" lengthAdjust=\"spacingAndGlyphs\" textLength=\"214\" x=\"20\" y=\"20.9951\">TextualRepresentationTest</text></a><!--MD5=[de5ec2e2e8f62f467e546659f5068c88]\n",
       "cluster E5--><a href=\"psysml:cbe71c02-e966-4d74-b7c0-f9e238b4431e\" target=\"_top\" title=\"psysml:cbe71c02-e966-4d74-b7c0-f9e238b4431e\" xlink:actuate=\"onRequest\" xlink:href=\"psysml:cbe71c02-e966-4d74-b7c0-f9e238b4431e\" xlink:show=\"new\" xlink:title=\"psysml:cbe71c02-e966-4d74-b7c0-f9e238b4431e\" xlink:type=\"simple\"><rect fill=\"#FFFFFF\" height=\"163.5\" id=\"E5\" style=\"stroke: #383838; stroke-width: 1.5;\" width=\"96\" x=\"268.5\" y=\"93.5\"/><rect fill=\"#F8F8F8\" height=\"37.9375\" style=\"stroke: #383838; stroke-width: 1.5;\" width=\"96\" x=\"268.5\" y=\"93.5\"/><text fill=\"#000000\" font-family=\"sans-serif\" font-size=\"12\" font-style=\"italic\" lengthAdjust=\"spacingAndGlyphs\" textLength=\"77\" x=\"278\" y=\"109.6387\">«action def»</text><text fill=\"#000000\" font-family=\"sans-serif\" font-size=\"12\" lengthAdjust=\"spacingAndGlyphs\" textLength=\"27\" x=\"303\" y=\"123.6074\">setX</text></a><!--MD5=[b4997ac47864f28c2f74865a473b2911]\n",
       "class E2--><a href=\"psysml:168d8746-881d-4018-9dc0-dced1b8b8eb0\" target=\"_top\" title=\"psysml:168d8746-881d-4018-9dc0-dced1b8b8eb0\" xlink:actuate=\"onRequest\" xlink:href=\"psysml:168d8746-881d-4018-9dc0-dced1b8b8eb0\" xlink:show=\"new\" xlink:title=\"psysml:168d8746-881d-4018-9dc0-dced1b8b8eb0\" xlink:type=\"simple\"><rect fill=\"#FFFFFF\" height=\"45.9375\" id=\"E2\" style=\"stroke: #383838; stroke-width: 1.5;\" width=\"74\" x=\"178\" y=\"70.5\"/><text fill=\"#000000\" font-family=\"sans-serif\" font-size=\"12\" font-style=\"italic\" lengthAdjust=\"spacingAndGlyphs\" textLength=\"72\" x=\"179\" y=\"86.6387\">«dataType»</text><text fill=\"#000000\" font-family=\"sans-serif\" font-size=\"12\" lengthAdjust=\"spacingAndGlyphs\" textLength=\"27\" x=\"201.5\" y=\"100.6074\">Real</text><line style=\"stroke: #383838; stroke-width: 1.5;\" x1=\"179\" x2=\"251\" y1=\"108.4375\" y2=\"108.4375\"/></a><!--MD5=[09b614a08d8cba4a07c9adeb5e0fee81]\n",
       "class E3--><a href=\"psysml:fec9e0ab-8313-4a0b-a62a-09c4083c89fd\" target=\"_top\" title=\"psysml:fec9e0ab-8313-4a0b-a62a-09c4083c89fd\" xlink:actuate=\"onRequest\" xlink:href=\"psysml:fec9e0ab-8313-4a0b-a62a-09c4083c89fd\" xlink:show=\"new\" xlink:title=\"psysml:fec9e0ab-8313-4a0b-a62a-09c4083c89fd\" xlink:type=\"simple\"><rect fill=\"#FFFFFF\" height=\"105.1563\" id=\"E3\" style=\"stroke: #383838; stroke-width: 1.5;\" width=\"111\" x=\"31.5\" y=\"41\"/><text fill=\"#000000\" font-family=\"sans-serif\" font-size=\"12\" font-style=\"italic\" lengthAdjust=\"spacingAndGlyphs\" textLength=\"65\" x=\"54.5\" y=\"57.1387\">«item def»</text><text fill=\"#000000\" font-family=\"sans-serif\" font-size=\"12\" lengthAdjust=\"spacingAndGlyphs\" textLength=\"8\" x=\"83\" y=\"71.1074\">C</text><line style=\"stroke: #383838; stroke-width: 1.5;\" x1=\"32.5\" x2=\"141.5\" y1=\"78.9375\" y2=\"78.9375\"/><text fill=\"#000000\" font-family=\"sans-serif\" font-size=\"11\" lengthAdjust=\"spacingAndGlyphs\" textLength=\"38\" x=\"37.5\" y=\"109.9526\">x: Real</text><line style=\"stroke: #383838; stroke-width: 1.0;\" x1=\"32.5\" x2=\"59.5\" y1=\"93.3398\" y2=\"93.3398\"/><text fill=\"#000000\" font-family=\"sans-serif\" font-size=\"11\" lengthAdjust=\"spacingAndGlyphs\" textLength=\"55\" x=\"59.5\" y=\"96.6479\">attributes</text><line style=\"stroke: #383838; stroke-width: 1.0;\" x1=\"114.5\" x2=\"141.5\" y1=\"93.3398\" y2=\"93.3398\"/><text fill=\"#000000\" font-family=\"sans-serif\" font-size=\"11\" lengthAdjust=\"spacingAndGlyphs\" textLength=\"69\" x=\"37.5\" y=\"139.562\">x_constraint</text><line style=\"stroke: #383838; stroke-width: 1.0;\" x1=\"32.5\" x2=\"35.5\" y1=\"122.9492\" y2=\"122.9492\"/><text fill=\"#000000\" font-family=\"sans-serif\" font-size=\"11\" lengthAdjust=\"spacingAndGlyphs\" textLength=\"103\" x=\"35.5\" y=\"126.2573\">assertConstraints</text><line style=\"stroke: #383838; stroke-width: 1.0;\" x1=\"138.5\" x2=\"141.5\" y1=\"122.9492\" y2=\"122.9492\"/></a><text fill=\"#000000\" font-family=\"sans-serif\" font-size=\"14\" lengthAdjust=\"spacingAndGlyphs\" textLength=\"8\" x=\"289\" y=\"72.1982\">c</text><rect fill=\"#383838\" height=\"12\" style=\"stroke: #F8F8F8; stroke-width: 1.5;\" width=\"12\" x=\"287\" y=\"87.5\"/><text fill=\"#000000\" font-family=\"sans-serif\" font-size=\"14\" lengthAdjust=\"spacingAndGlyphs\" textLength=\"38\" x=\"321\" y=\"72.1982\">newX</text><rect fill=\"#383838\" height=\"12\" style=\"stroke: #F8F8F8; stroke-width: 1.5;\" width=\"12\" x=\"334\" y=\"87.5\"/><!--MD5=[91ffae15be96c4c557f6a0bda2889930]\n",
       "@startuml\r\n",
       "top to bottom direction\r\n",
       "skinparam monochrome true\r\n",
       "skinparam classbackgroundcolor white\r\n",
       "skinparam shadowing false\r\n",
       "skinparam wrapWidth 300\r\n",
       "hide circle\r\n",
       "\r\n",
       "package \"TextualRepresentationTest\" as E1  [[psysml:13f83e37-e6d2-4a8e-ad71-0c715af430b4 ]]  {\r\n",
       "comp def \"Real\" as E2  <<(T,blue)dataType>> [[psysml:168d8746-881d-4018-9dc0-dced1b8b8eb0 ]] {\r\n",
       "}\r\n",
       "comp def \"C\" as E3  <<(T,blue)item def>> [[psysml:fec9e0ab-8313-4a0b-a62a-09c4083c89fd ]] {\r\n",
       "- - attributes - -\r\n",
       "x: Real\r\n",
       "- - assertConstraints - -\r\n",
       "x_constraint\r\n",
       "}\r\n",
       "rec def \"setX\" as E5  <<(T,blue)action def>> [[psysml:cbe71c02-e966-4d74-b7c0-f9e238b4431e ]] {\r\n",
       "portin \"c\" as E6  [[psysml:bf3dbcd8-0bef-4e93-82b9-0b5a37397746 ]] \r\n",
       "portin \"newX\" as E7  [[psysml:0934341b-2e16-4f4c-9ea0-e4fb5c660a0a ]] \r\n",
       "}\r\n",
       "\r\n",
       "}\r\n",
       "@enduml\r\n",
       "\n",
       "PlantUML version 1.2020.13(Sat Jun 13 12:26:38 UTC 2020)\n",
       "(EPL source distribution)\n",
       "Java Runtime: OpenJDK Runtime Environment\n",
       "JVM: OpenJDK 64-Bit Server VM\n",
       "Default Encoding: UTF-8\n",
       "Language: en\n",
       "Country: null\n",
       "--></g></svg>"
      ]
     },
     "execution_count": 44,
     "metadata": {},
     "output_type": "execute_result"
    }
   ],
   "source": [
    "%viz --style=\"TB\" --view=\"Default\" \"TextualRepresentationTest\""
   ]
  },
  {
   "cell_type": "code",
   "execution_count": 45,
   "id": "ongoing-primary",
   "metadata": {
    "execution": {
     "iopub.execute_input": "2021-03-26T15:43:52.028282Z",
     "iopub.status.busy": "2021-03-26T15:43:52.027966Z",
     "iopub.status.idle": "2021-03-26T15:43:52.076348Z",
     "shell.execute_reply": "2021-03-26T15:43:52.076692Z"
    }
   },
   "outputs": [
    {
     "data": {
      "image/svg+xml": [
       "<?xml version=\"1.0\" encoding=\"UTF-8\" standalone=\"no\"?><svg xmlns=\"http://www.w3.org/2000/svg\" xmlns:xlink=\"http://www.w3.org/1999/xlink\" contentScriptType=\"application/ecmascript\" contentStyleType=\"text/css\" height=\"297px\" preserveAspectRatio=\"none\" style=\"width:290px;height:297px;\" version=\"1.1\" viewBox=\"0 0 290 297\" width=\"290px\" zoomAndPan=\"magnify\"><defs/><g><!--MD5=[fbc87193dbaf4d95561dea2c320d4a47]\n",
       "cluster E1--><a href=\"psysml:13f83e37-e6d2-4a8e-ad71-0c715af430b4\" target=\"_top\" title=\"psysml:13f83e37-e6d2-4a8e-ad71-0c715af430b4\" xlink:actuate=\"onRequest\" xlink:href=\"psysml:13f83e37-e6d2-4a8e-ad71-0c715af430b4\" xlink:show=\"new\" xlink:title=\"psysml:13f83e37-e6d2-4a8e-ad71-0c715af430b4\" xlink:type=\"simple\"><polygon fill=\"#FFFFFF\" points=\"16,6,236,6,243,28.2969,268,28.2969,268,285,16,285,16,6\" style=\"stroke: #000000; stroke-width: 1.5;\"/><line style=\"stroke: #000000; stroke-width: 1.5;\" x1=\"16\" x2=\"243\" y1=\"28.2969\" y2=\"28.2969\"/><text fill=\"#000000\" font-family=\"sans-serif\" font-size=\"14\" font-weight=\"bold\" lengthAdjust=\"spacingAndGlyphs\" textLength=\"214\" x=\"20\" y=\"20.9951\">TextualRepresentationTest</text></a><!--MD5=[b4997ac47864f28c2f74865a473b2911]\n",
       "class E2--><a href=\"psysml:168d8746-881d-4018-9dc0-dced1b8b8eb0\" target=\"_top\" title=\"psysml:168d8746-881d-4018-9dc0-dced1b8b8eb0\" xlink:actuate=\"onRequest\" xlink:href=\"psysml:168d8746-881d-4018-9dc0-dced1b8b8eb0\" xlink:show=\"new\" xlink:title=\"psysml:168d8746-881d-4018-9dc0-dced1b8b8eb0\" xlink:type=\"simple\"><rect fill=\"#FFFFFF\" height=\"45.9375\" id=\"E2\" style=\"stroke: #383838; stroke-width: 1.5;\" width=\"74\" x=\"32\" y=\"193.5\"/><text fill=\"#000000\" font-family=\"sans-serif\" font-size=\"12\" font-style=\"italic\" lengthAdjust=\"spacingAndGlyphs\" textLength=\"72\" x=\"33\" y=\"209.6387\">«dataType»</text><text fill=\"#000000\" font-family=\"sans-serif\" font-size=\"12\" lengthAdjust=\"spacingAndGlyphs\" textLength=\"27\" x=\"55.5\" y=\"223.6074\">Real</text><line style=\"stroke: #383838; stroke-width: 1.5;\" x1=\"33\" x2=\"105\" y1=\"231.4375\" y2=\"231.4375\"/></a><!--MD5=[09b614a08d8cba4a07c9adeb5e0fee81]\n",
       "class E3--><a href=\"psysml:fec9e0ab-8313-4a0b-a62a-09c4083c89fd\" target=\"_top\" title=\"psysml:fec9e0ab-8313-4a0b-a62a-09c4083c89fd\" xlink:actuate=\"onRequest\" xlink:href=\"psysml:fec9e0ab-8313-4a0b-a62a-09c4083c89fd\" xlink:show=\"new\" xlink:title=\"psysml:fec9e0ab-8313-4a0b-a62a-09c4083c89fd\" xlink:type=\"simple\"><rect fill=\"#FFFFFF\" height=\"105.1563\" id=\"E3\" style=\"stroke: #383838; stroke-width: 1.5;\" width=\"111\" x=\"141.5\" y=\"164\"/><text fill=\"#000000\" font-family=\"sans-serif\" font-size=\"12\" font-style=\"italic\" lengthAdjust=\"spacingAndGlyphs\" textLength=\"65\" x=\"164.5\" y=\"180.1387\">«item def»</text><text fill=\"#000000\" font-family=\"sans-serif\" font-size=\"12\" lengthAdjust=\"spacingAndGlyphs\" textLength=\"8\" x=\"193\" y=\"194.1074\">C</text><line style=\"stroke: #383838; stroke-width: 1.5;\" x1=\"142.5\" x2=\"251.5\" y1=\"201.9375\" y2=\"201.9375\"/><text fill=\"#000000\" font-family=\"sans-serif\" font-size=\"11\" lengthAdjust=\"spacingAndGlyphs\" textLength=\"38\" x=\"147.5\" y=\"232.9526\">x: Real</text><line style=\"stroke: #383838; stroke-width: 1.0;\" x1=\"142.5\" x2=\"169.5\" y1=\"216.3398\" y2=\"216.3398\"/><text fill=\"#000000\" font-family=\"sans-serif\" font-size=\"11\" lengthAdjust=\"spacingAndGlyphs\" textLength=\"55\" x=\"169.5\" y=\"219.6479\">attributes</text><line style=\"stroke: #383838; stroke-width: 1.0;\" x1=\"224.5\" x2=\"251.5\" y1=\"216.3398\" y2=\"216.3398\"/><text fill=\"#000000\" font-family=\"sans-serif\" font-size=\"11\" lengthAdjust=\"spacingAndGlyphs\" textLength=\"69\" x=\"147.5\" y=\"262.562\">x_constraint</text><line style=\"stroke: #383838; stroke-width: 1.0;\" x1=\"142.5\" x2=\"145.5\" y1=\"245.9492\" y2=\"245.9492\"/><text fill=\"#000000\" font-family=\"sans-serif\" font-size=\"11\" lengthAdjust=\"spacingAndGlyphs\" textLength=\"103\" x=\"145.5\" y=\"249.2573\">assertConstraints</text><line style=\"stroke: #383838; stroke-width: 1.0;\" x1=\"248.5\" x2=\"251.5\" y1=\"245.9492\" y2=\"245.9492\"/></a><!--MD5=[270fce915f116d4de14055a7c1d9a0f3]\n",
       "class E5--><a href=\"psysml:cbe71c02-e966-4d74-b7c0-f9e238b4431e\" target=\"_top\" title=\"psysml:cbe71c02-e966-4d74-b7c0-f9e238b4431e\" xlink:actuate=\"onRequest\" xlink:href=\"psysml:cbe71c02-e966-4d74-b7c0-f9e238b4431e\" xlink:show=\"new\" xlink:title=\"psysml:cbe71c02-e966-4d74-b7c0-f9e238b4431e\" xlink:type=\"simple\"><rect fill=\"#FFFFFF\" height=\"45.9375\" id=\"E5\" style=\"stroke: #383838; stroke-width: 1.5;\" width=\"79\" x=\"67.5\" y=\"41\"/><text fill=\"#000000\" font-family=\"sans-serif\" font-size=\"12\" font-style=\"italic\" lengthAdjust=\"spacingAndGlyphs\" textLength=\"77\" x=\"68.5\" y=\"57.1387\">«action def»</text><text fill=\"#000000\" font-family=\"sans-serif\" font-size=\"12\" lengthAdjust=\"spacingAndGlyphs\" textLength=\"27\" x=\"93.5\" y=\"71.1074\">setX</text><line style=\"stroke: #383838; stroke-width: 1.5;\" x1=\"68.5\" x2=\"145.5\" y1=\"78.9375\" y2=\"78.9375\"/></a><!--MD5=[6f107eb264eda4b26325f39a5516f1f3]\n",
       "reverse link E5 to E3--><a href=\"psysml:bf3dbcd8-0bef-4e93-82b9-0b5a37397746\" target=\"_top\" title=\"psysml:bf3dbcd8-0bef-4e93-82b9-0b5a37397746\" xlink:actuate=\"onRequest\" xlink:href=\"psysml:bf3dbcd8-0bef-4e93-82b9-0b5a37397746\" xlink:show=\"new\" xlink:title=\"psysml:bf3dbcd8-0bef-4e93-82b9-0b5a37397746\" xlink:type=\"simple\"><path d=\"M126.98,98.42 C138.48,117.65 153.18,142.22 166.13,163.88 \" fill=\"none\" id=\"E5&lt;-E3\" style=\"stroke: #383838; stroke-width: 1.0;\"/><polygon fill=\"#FFFFFF\" points=\"120.28,87.21,119.9261,94.4124,126.4384,97.5092,126.7923,90.3068,120.28,87.21\" style=\"stroke: #383838; stroke-width: 1.0;\"/><text fill=\"#000000\" font-family=\"sans-serif\" font-size=\"13\" lengthAdjust=\"spacingAndGlyphs\" textLength=\"7\" x=\"147\" y=\"130.0669\">c</text></a><!--MD5=[f51c6d1f1856fe338ac0413483fb1ccf]\n",
       "reverse link E5 to E2--><a href=\"psysml:0934341b-2e16-4f4c-9ea0-e4fb5c660a0a\" target=\"_top\" title=\"psysml:0934341b-2e16-4f4c-9ea0-e4fb5c660a0a\" xlink:actuate=\"onRequest\" xlink:href=\"psysml:0934341b-2e16-4f4c-9ea0-e4fb5c660a0a\" xlink:show=\"new\" xlink:title=\"psysml:0934341b-2e16-4f4c-9ea0-e4fb5c660a0a\" xlink:type=\"simple\"><path d=\"M98.18,99.93 C90.92,128.69 80.84,168.6 74.63,193.2 \" fill=\"none\" id=\"E5&lt;-E2\" style=\"stroke: #383838; stroke-width: 1.0;\"/><polygon fill=\"#FFFFFF\" points=\"101.39,87.21,96.0413,92.0465,98.4485,98.8439,103.7972,94.0074,101.39,87.21\" style=\"stroke: #383838; stroke-width: 1.0;\"/><text fill=\"#000000\" font-family=\"sans-serif\" font-size=\"13\" lengthAdjust=\"spacingAndGlyphs\" textLength=\"33\" x=\"94\" y=\"130.0669\">newX</text></a><!--MD5=[2f0277613fcca9a7bd5d72f65bc19d0c]\n",
       "@startuml\r\n",
       "top to bottom direction\r\n",
       "skinparam monochrome true\r\n",
       "skinparam classbackgroundcolor white\r\n",
       "skinparam shadowing false\r\n",
       "skinparam wrapWidth 300\r\n",
       "hide circle\r\n",
       "\r\n",
       "package \"TextualRepresentationTest\" as E1  [[psysml:13f83e37-e6d2-4a8e-ad71-0c715af430b4 ]]  {\r\n",
       "comp def \"Real\" as E2  <<(T,blue)dataType>> [[psysml:168d8746-881d-4018-9dc0-dced1b8b8eb0 ]] {\r\n",
       "}\r\n",
       "comp def \"C\" as E3  <<(T,blue)item def>> [[psysml:fec9e0ab-8313-4a0b-a62a-09c4083c89fd ]] {\r\n",
       "- - attributes - -\r\n",
       "x: Real\r\n",
       "- - assertConstraints - -\r\n",
       "x_constraint\r\n",
       "}\r\n",
       "comp def \"setX\" as E5  <<(T,blue)action def>> [[psysml:cbe71c02-e966-4d74-b7c0-f9e238b4431e ]] {\r\n",
       "}\r\n",
       "E5 o- - E3 [[psysml:bf3dbcd8-0bef-4e93-82b9-0b5a37397746 ]] : c\r\n",
       "E5 o- - E2 [[psysml:0934341b-2e16-4f4c-9ea0-e4fb5c660a0a ]] : newX\r\n",
       "}\r\n",
       "@enduml\r\n",
       "\n",
       "PlantUML version 1.2020.13(Sat Jun 13 12:26:38 UTC 2020)\n",
       "(EPL source distribution)\n",
       "Java Runtime: OpenJDK Runtime Environment\n",
       "JVM: OpenJDK 64-Bit Server VM\n",
       "Default Encoding: UTF-8\n",
       "Language: en\n",
       "Country: null\n",
       "--></g></svg>"
      ]
     },
     "execution_count": 45,
     "metadata": {},
     "output_type": "execute_result"
    }
   ],
   "source": [
    "%viz --style=\"TB\" --view=\"Tree\" \"TextualRepresentationTest\""
   ]
  },
  {
   "cell_type": "code",
   "execution_count": 46,
   "id": "experimental-omega",
   "metadata": {
    "execution": {
     "iopub.execute_input": "2021-03-26T15:43:52.130332Z",
     "iopub.status.busy": "2021-03-26T15:43:52.129748Z",
     "iopub.status.idle": "2021-03-26T15:43:52.136300Z",
     "shell.execute_reply": "2021-03-26T15:43:52.136705Z"
    }
   },
   "outputs": [
    {
     "data": {
      "image/svg+xml": [
       "<?xml version=\"1.0\" encoding=\"UTF-8\" standalone=\"no\"?><svg xmlns=\"http://www.w3.org/2000/svg\" xmlns:xlink=\"http://www.w3.org/1999/xlink\" contentScriptType=\"application/ecmascript\" contentStyleType=\"text/css\" height=\"12px\" preserveAspectRatio=\"none\" style=\"width:12px;height:12px;\" version=\"1.1\" viewBox=\"0 0 12 12\" width=\"12px\" zoomAndPan=\"magnify\"><defs/><g><!--MD5=[f4ee21bc66e489b5061b7c3e9601fdef]\n",
       "@startuml\r\n",
       "top to bottom direction\r\n",
       "skinparam monochrome true\r\n",
       "skinparam classbackgroundcolor white\r\n",
       "skinparam shadowing false\r\n",
       "skinparam wrapWidth 300\r\n",
       "hide circle\r\n",
       "\r\n",
       "@enduml\r\n",
       "\n",
       "PlantUML version 1.2020.13(Sat Jun 13 12:26:38 UTC 2020)\n",
       "(EPL source distribution)\n",
       "Java Runtime: OpenJDK Runtime Environment\n",
       "JVM: OpenJDK 64-Bit Server VM\n",
       "Default Encoding: UTF-8\n",
       "Language: en\n",
       "Country: null\n",
       "--></g></svg>"
      ]
     },
     "execution_count": 46,
     "metadata": {},
     "output_type": "execute_result"
    }
   ],
   "source": [
    "%viz --style=\"TB\" --view=\"State\" \"TextualRepresentationTest\""
   ]
  },
  {
   "cell_type": "code",
   "execution_count": 47,
   "id": "documented-contact",
   "metadata": {
    "execution": {
     "iopub.execute_input": "2021-03-26T15:43:52.191880Z",
     "iopub.status.busy": "2021-03-26T15:43:52.191337Z",
     "iopub.status.idle": "2021-03-26T15:43:52.217321Z",
     "shell.execute_reply": "2021-03-26T15:43:52.217008Z"
    }
   },
   "outputs": [
    {
     "data": {
      "image/svg+xml": [
       "<?xml version=\"1.0\" encoding=\"UTF-8\" standalone=\"no\"?><svg xmlns=\"http://www.w3.org/2000/svg\" xmlns:xlink=\"http://www.w3.org/1999/xlink\" contentScriptType=\"application/ecmascript\" contentStyleType=\"text/css\" height=\"179px\" preserveAspectRatio=\"none\" style=\"width:398px;height:179px;\" version=\"1.1\" viewBox=\"0 0 398 179\" width=\"398px\" zoomAndPan=\"magnify\"><defs/><g><!--MD5=[fbc87193dbaf4d95561dea2c320d4a47]\n",
       "cluster E1--><a href=\"psysml:13f83e37-e6d2-4a8e-ad71-0c715af430b4\" target=\"_top\" title=\"psysml:13f83e37-e6d2-4a8e-ad71-0c715af430b4\" xlink:actuate=\"onRequest\" xlink:href=\"psysml:13f83e37-e6d2-4a8e-ad71-0c715af430b4\" xlink:show=\"new\" xlink:title=\"psysml:13f83e37-e6d2-4a8e-ad71-0c715af430b4\" xlink:type=\"simple\"><polygon fill=\"#FFFFFF\" points=\"16,6,236,6,243,28.2969,376,28.2969,376,167,16,167,16,6\" style=\"stroke: #000000; stroke-width: 1.5;\"/><line style=\"stroke: #000000; stroke-width: 1.5;\" x1=\"16\" x2=\"243\" y1=\"28.2969\" y2=\"28.2969\"/><text fill=\"#000000\" font-family=\"sans-serif\" font-size=\"14\" font-weight=\"bold\" lengthAdjust=\"spacingAndGlyphs\" textLength=\"214\" x=\"20\" y=\"20.9951\">TextualRepresentationTest</text></a><!--MD5=[f6df4d0ebaf0b5dfb2ced0ae5af7c670]\n",
       "cluster E4--><a href=\"psysml:cbe71c02-e966-4d74-b7c0-f9e238b4431e\" target=\"_top\" title=\"psysml:cbe71c02-e966-4d74-b7c0-f9e238b4431e\" xlink:actuate=\"onRequest\" xlink:href=\"psysml:cbe71c02-e966-4d74-b7c0-f9e238b4431e\" xlink:show=\"new\" xlink:title=\"psysml:cbe71c02-e966-4d74-b7c0-f9e238b4431e\" xlink:type=\"simple\"><rect fill=\"#FFFFFF\" height=\"88.5\" id=\"E4\" style=\"stroke: #383838; stroke-width: 1.5;\" width=\"96\" x=\"235.5\" y=\"62.5\"/><rect fill=\"#F8F8F8\" height=\"37.9375\" style=\"stroke: #383838; stroke-width: 1.5;\" width=\"96\" x=\"235.5\" y=\"62.5\"/><text fill=\"#000000\" font-family=\"sans-serif\" font-size=\"12\" font-style=\"italic\" lengthAdjust=\"spacingAndGlyphs\" textLength=\"77\" x=\"245\" y=\"78.6387\">«action def»</text><text fill=\"#000000\" font-family=\"sans-serif\" font-size=\"12\" lengthAdjust=\"spacingAndGlyphs\" textLength=\"27\" x=\"270\" y=\"92.6074\">setX</text></a><g id=\"E1.E2\"><a href=\"psysml:168d8746-881d-4018-9dc0-dced1b8b8eb0\" target=\"_top\" title=\"psysml:168d8746-881d-4018-9dc0-dced1b8b8eb0\" xlink:actuate=\"onRequest\" xlink:href=\"psysml:168d8746-881d-4018-9dc0-dced1b8b8eb0\" xlink:show=\"new\" xlink:title=\"psysml:168d8746-881d-4018-9dc0-dced1b8b8eb0\" xlink:type=\"simple\"><rect fill=\"#FFFFFF\" height=\"42.9375\" id=\"E2\" style=\"stroke: #383838; stroke-width: 1.5;\" width=\"79\" x=\"139.5\" y=\"41\"/><rect fill=\"#F8F8F8\" height=\"37.9375\" style=\"stroke: #383838; stroke-width: 1.5;\" width=\"79\" x=\"139.5\" y=\"41\"/><text fill=\"#000000\" font-family=\"sans-serif\" font-size=\"12\" font-style=\"italic\" lengthAdjust=\"spacingAndGlyphs\" textLength=\"72\" x=\"143\" y=\"57.1387\">«dataType»</text><text fill=\"#000000\" font-family=\"sans-serif\" font-size=\"12\" lengthAdjust=\"spacingAndGlyphs\" textLength=\"27\" x=\"165.5\" y=\"71.1074\">Real</text></a></g><g id=\"E1.E3\"><a href=\"psysml:fec9e0ab-8313-4a0b-a62a-09c4083c89fd\" target=\"_top\" title=\"psysml:fec9e0ab-8313-4a0b-a62a-09c4083c89fd\" xlink:actuate=\"onRequest\" xlink:href=\"psysml:fec9e0ab-8313-4a0b-a62a-09c4083c89fd\" xlink:show=\"new\" xlink:title=\"psysml:fec9e0ab-8313-4a0b-a62a-09c4083c89fd\" xlink:type=\"simple\"><rect fill=\"#FFFFFF\" height=\"42.9375\" id=\"E3\" style=\"stroke: #383838; stroke-width: 1.5;\" width=\"72\" x=\"32\" y=\"41\"/><rect fill=\"#F8F8F8\" height=\"37.9375\" style=\"stroke: #383838; stroke-width: 1.5;\" width=\"72\" x=\"32\" y=\"41\"/><text fill=\"#000000\" font-family=\"sans-serif\" font-size=\"12\" font-style=\"italic\" lengthAdjust=\"spacingAndGlyphs\" textLength=\"65\" x=\"35.5\" y=\"57.1387\">«item def»</text><text fill=\"#000000\" font-family=\"sans-serif\" font-size=\"12\" lengthAdjust=\"spacingAndGlyphs\" textLength=\"8\" x=\"64\" y=\"71.1074\">C</text></a></g><text fill=\"#000000\" font-family=\"sans-serif\" font-size=\"14\" lengthAdjust=\"spacingAndGlyphs\" textLength=\"8\" x=\"256\" y=\"41.1982\">c</text><rect fill=\"#383838\" height=\"12\" style=\"stroke: #F8F8F8; stroke-width: 1.5;\" width=\"12\" x=\"254\" y=\"56.5\"/><text fill=\"#000000\" font-family=\"sans-serif\" font-size=\"14\" lengthAdjust=\"spacingAndGlyphs\" textLength=\"38\" x=\"288\" y=\"41.1982\">newX</text><rect fill=\"#383838\" height=\"12\" style=\"stroke: #F8F8F8; stroke-width: 1.5;\" width=\"12\" x=\"301\" y=\"56.5\"/><!--MD5=[1ae7a3f987ba61bddc2df6d79cbcb480]\n",
       "@startuml\r\n",
       "skinparam ranksep 10\r\n",
       "skinparam rectangle {\r\n",
       " backgroundColor<<block>> LightGreen\r\n",
       "}\r\n",
       "top to bottom direction\r\n",
       "skinparam monochrome true\r\n",
       "skinparam classbackgroundcolor white\r\n",
       "skinparam shadowing false\r\n",
       "skinparam wrapWidth 300\r\n",
       "hide circle\r\n",
       "\r\n",
       "package \"TextualRepresentationTest\" as E1  [[psysml:13f83e37-e6d2-4a8e-ad71-0c715af430b4 ]]  {\r\n",
       "def \"Real\" as E2  <<(T,blue)dataType>> [[psysml:168d8746-881d-4018-9dc0-dced1b8b8eb0 ]] \r\n",
       "def \"C\" as E3  <<(T,blue)item def>> [[psysml:fec9e0ab-8313-4a0b-a62a-09c4083c89fd ]] \r\n",
       "rec def \"setX\" as E4  <<(T,blue)action def>> [[psysml:cbe71c02-e966-4d74-b7c0-f9e238b4431e ]] {\r\n",
       "portin \"c\" as E5  [[psysml:bf3dbcd8-0bef-4e93-82b9-0b5a37397746 ]] \r\n",
       "portin \"newX\" as E6  [[psysml:0934341b-2e16-4f4c-9ea0-e4fb5c660a0a ]] \r\n",
       "}\r\n",
       "\r\n",
       "}\r\n",
       "@enduml\r\n",
       "\n",
       "PlantUML version 1.2020.13(Sat Jun 13 12:26:38 UTC 2020)\n",
       "(EPL source distribution)\n",
       "Java Runtime: OpenJDK Runtime Environment\n",
       "JVM: OpenJDK 64-Bit Server VM\n",
       "Default Encoding: UTF-8\n",
       "Language: en\n",
       "Country: null\n",
       "--></g></svg>"
      ]
     },
     "execution_count": 47,
     "metadata": {},
     "output_type": "execute_result"
    }
   ],
   "source": [
    "%viz --style=\"TB\" --view=\"Interconnection\" \"TextualRepresentationTest\""
   ]
  },
  {
   "cell_type": "code",
   "execution_count": 48,
   "id": "apparent-chapter",
   "metadata": {
    "execution": {
     "iopub.execute_input": "2021-03-26T15:43:52.269738Z",
     "iopub.status.busy": "2021-03-26T15:43:52.268890Z",
     "iopub.status.idle": "2021-03-26T15:43:52.292252Z",
     "shell.execute_reply": "2021-03-26T15:43:52.291953Z"
    }
   },
   "outputs": [
    {
     "data": {
      "image/svg+xml": [
       "<?xml version=\"1.0\" encoding=\"UTF-8\" standalone=\"no\"?><svg xmlns=\"http://www.w3.org/2000/svg\" xmlns:xlink=\"http://www.w3.org/1999/xlink\" contentScriptType=\"application/ecmascript\" contentStyleType=\"text/css\" height=\"126px\" preserveAspectRatio=\"none\" style=\"width:150px;height:126px;\" version=\"1.1\" viewBox=\"0 0 150 126\" width=\"150px\" zoomAndPan=\"magnify\"><defs/><g><!--MD5=[fbc87193dbaf4d95561dea2c320d4a47]\n",
       "cluster E1--><a href=\"psysml:cbe71c02-e966-4d74-b7c0-f9e238b4431e\" target=\"_top\" title=\"psysml:cbe71c02-e966-4d74-b7c0-f9e238b4431e\" xlink:actuate=\"onRequest\" xlink:href=\"psysml:cbe71c02-e966-4d74-b7c0-f9e238b4431e\" xlink:show=\"new\" xlink:title=\"psysml:cbe71c02-e966-4d74-b7c0-f9e238b4431e\" xlink:type=\"simple\"><rect fill=\"#FFFFFF\" height=\"73\" id=\"E1\" style=\"stroke: #383838; stroke-width: 1.5;\" width=\"132\" x=\"7\" y=\"42.0986\"/><rect fill=\"#F8F8F8\" height=\"37.9375\" style=\"stroke: #383838; stroke-width: 1.5;\" width=\"132\" x=\"7\" y=\"42.0986\"/><text fill=\"#000000\" font-family=\"sans-serif\" font-size=\"12\" font-style=\"italic\" lengthAdjust=\"spacingAndGlyphs\" textLength=\"77\" x=\"34.5\" y=\"58.2373\">«action def»</text><text fill=\"#000000\" font-family=\"sans-serif\" font-size=\"12\" lengthAdjust=\"spacingAndGlyphs\" textLength=\"27\" x=\"59.5\" y=\"72.2061\">setX</text></a><text fill=\"#000000\" font-family=\"sans-serif\" font-size=\"14\" lengthAdjust=\"spacingAndGlyphs\" textLength=\"8\" x=\"21\" y=\"20.7969\">c</text><rect fill=\"#383838\" height=\"12\" style=\"stroke: #F8F8F8; stroke-width: 1.5;\" width=\"12\" x=\"19\" y=\"36.0986\"/><text fill=\"#000000\" font-family=\"sans-serif\" font-size=\"14\" lengthAdjust=\"spacingAndGlyphs\" textLength=\"38\" x=\"53\" y=\"20.7969\">newX</text><rect fill=\"#383838\" height=\"12\" style=\"stroke: #F8F8F8; stroke-width: 1.5;\" width=\"12\" x=\"66\" y=\"36.0986\"/><!--MD5=[1f639ce845c13ed0d813bd28a5f87271]\n",
       "@startuml\r\n",
       "skinparam ranksep 8\r\n",
       "top to bottom direction\r\n",
       "skinparam monochrome true\r\n",
       "skinparam classbackgroundcolor white\r\n",
       "skinparam shadowing false\r\n",
       "skinparam wrapWidth 300\r\n",
       "hide circle\r\n",
       "\r\n",
       "rec def \"setX\" as E1  <<(T,blue)action def>> [[psysml:cbe71c02-e966-4d74-b7c0-f9e238b4431e ]] {\r\n",
       "portin \"c\" as E2  [[psysml:bf3dbcd8-0bef-4e93-82b9-0b5a37397746 ]] \r\n",
       "portin \"newX\" as E3  [[psysml:0934341b-2e16-4f4c-9ea0-e4fb5c660a0a ]] \r\n",
       "}\r\n",
       "\r\n",
       "@enduml\r\n",
       "\n",
       "PlantUML version 1.2020.13(Sat Jun 13 12:26:38 UTC 2020)\n",
       "(EPL source distribution)\n",
       "Java Runtime: OpenJDK Runtime Environment\n",
       "JVM: OpenJDK 64-Bit Server VM\n",
       "Default Encoding: UTF-8\n",
       "Language: en\n",
       "Country: null\n",
       "--></g></svg>"
      ]
     },
     "execution_count": 48,
     "metadata": {},
     "output_type": "execute_result"
    }
   ],
   "source": [
    "%viz --style=\"TB\" --view=\"Action\" \"TextualRepresentationTest\""
   ]
  },
  {
   "cell_type": "code",
   "execution_count": 49,
   "id": "forward-durham",
   "metadata": {
    "execution": {
     "iopub.execute_input": "2021-03-26T15:43:52.342648Z",
     "iopub.status.busy": "2021-03-26T15:43:52.342089Z",
     "iopub.status.idle": "2021-03-26T15:43:52.390657Z",
     "shell.execute_reply": "2021-03-26T15:43:52.389375Z"
    }
   },
   "outputs": [
    {
     "data": {
      "image/svg+xml": [
       "<?xml version=\"1.0\" encoding=\"UTF-8\" standalone=\"no\"?><svg xmlns=\"http://www.w3.org/2000/svg\" xmlns:xlink=\"http://www.w3.org/1999/xlink\" contentScriptType=\"application/ecmascript\" contentStyleType=\"text/css\" height=\"297px\" preserveAspectRatio=\"none\" style=\"width:290px;height:297px;\" version=\"1.1\" viewBox=\"0 0 290 297\" width=\"290px\" zoomAndPan=\"magnify\"><defs/><g><!--MD5=[fbc87193dbaf4d95561dea2c320d4a47]\n",
       "cluster E1--><a href=\"psysml:13f83e37-e6d2-4a8e-ad71-0c715af430b4\" target=\"_top\" title=\"psysml:13f83e37-e6d2-4a8e-ad71-0c715af430b4\" xlink:actuate=\"onRequest\" xlink:href=\"psysml:13f83e37-e6d2-4a8e-ad71-0c715af430b4\" xlink:show=\"new\" xlink:title=\"psysml:13f83e37-e6d2-4a8e-ad71-0c715af430b4\" xlink:type=\"simple\"><polygon fill=\"#FFFFFF\" points=\"16,6,236,6,243,28.2969,268,28.2969,268,285,16,285,16,6\" style=\"stroke: #000000; stroke-width: 1.5;\"/><line style=\"stroke: #000000; stroke-width: 1.5;\" x1=\"16\" x2=\"243\" y1=\"28.2969\" y2=\"28.2969\"/><text fill=\"#000000\" font-family=\"sans-serif\" font-size=\"14\" font-weight=\"bold\" lengthAdjust=\"spacingAndGlyphs\" textLength=\"214\" x=\"20\" y=\"20.9951\">TextualRepresentationTest</text></a><!--MD5=[b4997ac47864f28c2f74865a473b2911]\n",
       "class E2--><a href=\"psysml:168d8746-881d-4018-9dc0-dced1b8b8eb0\" target=\"_top\" title=\"psysml:168d8746-881d-4018-9dc0-dced1b8b8eb0\" xlink:actuate=\"onRequest\" xlink:href=\"psysml:168d8746-881d-4018-9dc0-dced1b8b8eb0\" xlink:show=\"new\" xlink:title=\"psysml:168d8746-881d-4018-9dc0-dced1b8b8eb0\" xlink:type=\"simple\"><rect fill=\"#FFFFFF\" height=\"45.9375\" id=\"E2\" style=\"stroke: #383838; stroke-width: 1.5;\" width=\"74\" x=\"32\" y=\"193.5\"/><text fill=\"#000000\" font-family=\"sans-serif\" font-size=\"12\" font-style=\"italic\" lengthAdjust=\"spacingAndGlyphs\" textLength=\"72\" x=\"33\" y=\"209.6387\">«dataType»</text><text fill=\"#000000\" font-family=\"sans-serif\" font-size=\"12\" lengthAdjust=\"spacingAndGlyphs\" textLength=\"27\" x=\"55.5\" y=\"223.6074\">Real</text><line style=\"stroke: #383838; stroke-width: 1.5;\" x1=\"33\" x2=\"105\" y1=\"231.4375\" y2=\"231.4375\"/></a><!--MD5=[09b614a08d8cba4a07c9adeb5e0fee81]\n",
       "class E3--><a href=\"psysml:fec9e0ab-8313-4a0b-a62a-09c4083c89fd\" target=\"_top\" title=\"psysml:fec9e0ab-8313-4a0b-a62a-09c4083c89fd\" xlink:actuate=\"onRequest\" xlink:href=\"psysml:fec9e0ab-8313-4a0b-a62a-09c4083c89fd\" xlink:show=\"new\" xlink:title=\"psysml:fec9e0ab-8313-4a0b-a62a-09c4083c89fd\" xlink:type=\"simple\"><rect fill=\"#FFFFFF\" height=\"105.1563\" id=\"E3\" style=\"stroke: #383838; stroke-width: 1.5;\" width=\"111\" x=\"141.5\" y=\"164\"/><text fill=\"#000000\" font-family=\"sans-serif\" font-size=\"12\" font-style=\"italic\" lengthAdjust=\"spacingAndGlyphs\" textLength=\"65\" x=\"164.5\" y=\"180.1387\">«item def»</text><text fill=\"#000000\" font-family=\"sans-serif\" font-size=\"12\" lengthAdjust=\"spacingAndGlyphs\" textLength=\"8\" x=\"193\" y=\"194.1074\">C</text><line style=\"stroke: #383838; stroke-width: 1.5;\" x1=\"142.5\" x2=\"251.5\" y1=\"201.9375\" y2=\"201.9375\"/><text fill=\"#000000\" font-family=\"sans-serif\" font-size=\"11\" lengthAdjust=\"spacingAndGlyphs\" textLength=\"38\" x=\"147.5\" y=\"232.9526\">x: Real</text><line style=\"stroke: #383838; stroke-width: 1.0;\" x1=\"142.5\" x2=\"169.5\" y1=\"216.3398\" y2=\"216.3398\"/><text fill=\"#000000\" font-family=\"sans-serif\" font-size=\"11\" lengthAdjust=\"spacingAndGlyphs\" textLength=\"55\" x=\"169.5\" y=\"219.6479\">attributes</text><line style=\"stroke: #383838; stroke-width: 1.0;\" x1=\"224.5\" x2=\"251.5\" y1=\"216.3398\" y2=\"216.3398\"/><text fill=\"#000000\" font-family=\"sans-serif\" font-size=\"11\" lengthAdjust=\"spacingAndGlyphs\" textLength=\"69\" x=\"147.5\" y=\"262.562\">x_constraint</text><line style=\"stroke: #383838; stroke-width: 1.0;\" x1=\"142.5\" x2=\"145.5\" y1=\"245.9492\" y2=\"245.9492\"/><text fill=\"#000000\" font-family=\"sans-serif\" font-size=\"11\" lengthAdjust=\"spacingAndGlyphs\" textLength=\"103\" x=\"145.5\" y=\"249.2573\">assertConstraints</text><line style=\"stroke: #383838; stroke-width: 1.0;\" x1=\"248.5\" x2=\"251.5\" y1=\"245.9492\" y2=\"245.9492\"/></a><!--MD5=[270fce915f116d4de14055a7c1d9a0f3]\n",
       "class E5--><a href=\"psysml:cbe71c02-e966-4d74-b7c0-f9e238b4431e\" target=\"_top\" title=\"psysml:cbe71c02-e966-4d74-b7c0-f9e238b4431e\" xlink:actuate=\"onRequest\" xlink:href=\"psysml:cbe71c02-e966-4d74-b7c0-f9e238b4431e\" xlink:show=\"new\" xlink:title=\"psysml:cbe71c02-e966-4d74-b7c0-f9e238b4431e\" xlink:type=\"simple\"><rect fill=\"#FFFFFF\" height=\"45.9375\" id=\"E5\" style=\"stroke: #383838; stroke-width: 1.5;\" width=\"79\" x=\"67.5\" y=\"41\"/><text fill=\"#000000\" font-family=\"sans-serif\" font-size=\"12\" font-style=\"italic\" lengthAdjust=\"spacingAndGlyphs\" textLength=\"77\" x=\"68.5\" y=\"57.1387\">«action def»</text><text fill=\"#000000\" font-family=\"sans-serif\" font-size=\"12\" lengthAdjust=\"spacingAndGlyphs\" textLength=\"27\" x=\"93.5\" y=\"71.1074\">setX</text><line style=\"stroke: #383838; stroke-width: 1.5;\" x1=\"68.5\" x2=\"145.5\" y1=\"78.9375\" y2=\"78.9375\"/></a><!--MD5=[6f107eb264eda4b26325f39a5516f1f3]\n",
       "reverse link E5 to E3--><a href=\"psysml:bf3dbcd8-0bef-4e93-82b9-0b5a37397746\" target=\"_top\" title=\"psysml:bf3dbcd8-0bef-4e93-82b9-0b5a37397746\" xlink:actuate=\"onRequest\" xlink:href=\"psysml:bf3dbcd8-0bef-4e93-82b9-0b5a37397746\" xlink:show=\"new\" xlink:title=\"psysml:bf3dbcd8-0bef-4e93-82b9-0b5a37397746\" xlink:type=\"simple\"><path d=\"M126.98,98.42 C138.48,117.65 153.18,142.22 166.13,163.88 \" fill=\"none\" id=\"E5&lt;-E3\" style=\"stroke: #383838; stroke-width: 1.0;\"/><polygon fill=\"#FFFFFF\" points=\"120.28,87.21,119.9261,94.4124,126.4384,97.5092,126.7923,90.3068,120.28,87.21\" style=\"stroke: #383838; stroke-width: 1.0;\"/><text fill=\"#000000\" font-family=\"sans-serif\" font-size=\"13\" lengthAdjust=\"spacingAndGlyphs\" textLength=\"7\" x=\"147\" y=\"130.0669\">c</text></a><!--MD5=[f51c6d1f1856fe338ac0413483fb1ccf]\n",
       "reverse link E5 to E2--><a href=\"psysml:0934341b-2e16-4f4c-9ea0-e4fb5c660a0a\" target=\"_top\" title=\"psysml:0934341b-2e16-4f4c-9ea0-e4fb5c660a0a\" xlink:actuate=\"onRequest\" xlink:href=\"psysml:0934341b-2e16-4f4c-9ea0-e4fb5c660a0a\" xlink:show=\"new\" xlink:title=\"psysml:0934341b-2e16-4f4c-9ea0-e4fb5c660a0a\" xlink:type=\"simple\"><path d=\"M98.18,99.93 C90.92,128.69 80.84,168.6 74.63,193.2 \" fill=\"none\" id=\"E5&lt;-E2\" style=\"stroke: #383838; stroke-width: 1.0;\"/><polygon fill=\"#FFFFFF\" points=\"101.39,87.21,96.0413,92.0465,98.4485,98.8439,103.7972,94.0074,101.39,87.21\" style=\"stroke: #383838; stroke-width: 1.0;\"/><text fill=\"#000000\" font-family=\"sans-serif\" font-size=\"13\" lengthAdjust=\"spacingAndGlyphs\" textLength=\"33\" x=\"94\" y=\"130.0669\">newX</text></a><!--MD5=[2f0277613fcca9a7bd5d72f65bc19d0c]\n",
       "@startuml\r\n",
       "top to bottom direction\r\n",
       "skinparam monochrome true\r\n",
       "skinparam classbackgroundcolor white\r\n",
       "skinparam shadowing false\r\n",
       "skinparam wrapWidth 300\r\n",
       "hide circle\r\n",
       "\r\n",
       "package \"TextualRepresentationTest\" as E1  [[psysml:13f83e37-e6d2-4a8e-ad71-0c715af430b4 ]]  {\r\n",
       "comp def \"Real\" as E2  <<(T,blue)dataType>> [[psysml:168d8746-881d-4018-9dc0-dced1b8b8eb0 ]] {\r\n",
       "}\r\n",
       "comp def \"C\" as E3  <<(T,blue)item def>> [[psysml:fec9e0ab-8313-4a0b-a62a-09c4083c89fd ]] {\r\n",
       "- - attributes - -\r\n",
       "x: Real\r\n",
       "- - assertConstraints - -\r\n",
       "x_constraint\r\n",
       "}\r\n",
       "comp def \"setX\" as E5  <<(T,blue)action def>> [[psysml:cbe71c02-e966-4d74-b7c0-f9e238b4431e ]] {\r\n",
       "}\r\n",
       "E5 o- - E3 [[psysml:bf3dbcd8-0bef-4e93-82b9-0b5a37397746 ]] : c\r\n",
       "E5 o- - E2 [[psysml:0934341b-2e16-4f4c-9ea0-e4fb5c660a0a ]] : newX\r\n",
       "}\r\n",
       "@enduml\r\n",
       "\n",
       "PlantUML version 1.2020.13(Sat Jun 13 12:26:38 UTC 2020)\n",
       "(EPL source distribution)\n",
       "Java Runtime: OpenJDK Runtime Environment\n",
       "JVM: OpenJDK 64-Bit Server VM\n",
       "Default Encoding: UTF-8\n",
       "Language: en\n",
       "Country: null\n",
       "--></g></svg>"
      ]
     },
     "execution_count": 49,
     "metadata": {},
     "output_type": "execute_result"
    }
   ],
   "source": [
    "%viz --style=\"TB\" --view=\"Sequence\" \"TextualRepresentationTest\""
   ]
  },
  {
   "cell_type": "code",
   "execution_count": 50,
   "id": "retired-neutral",
   "metadata": {
    "execution": {
     "iopub.execute_input": "2021-03-26T15:43:52.441622Z",
     "iopub.status.busy": "2021-03-26T15:43:52.440912Z",
     "iopub.status.idle": "2021-03-26T15:43:52.487931Z",
     "shell.execute_reply": "2021-03-26T15:43:52.486426Z"
    }
   },
   "outputs": [
    {
     "data": {
      "image/svg+xml": [
       "<?xml version=\"1.0\" encoding=\"UTF-8\" standalone=\"no\"?><svg xmlns=\"http://www.w3.org/2000/svg\" xmlns:xlink=\"http://www.w3.org/1999/xlink\" contentScriptType=\"application/ecmascript\" contentStyleType=\"text/css\" height=\"285px\" preserveAspectRatio=\"none\" style=\"width:432px;height:285px;\" version=\"1.1\" viewBox=\"0 0 432 285\" width=\"432px\" zoomAndPan=\"magnify\"><defs/><g><!--MD5=[fbc87193dbaf4d95561dea2c320d4a47]\n",
       "cluster E1--><a href=\"psysml:13f83e37-e6d2-4a8e-ad71-0c715af430b4\" target=\"_top\" title=\"psysml:13f83e37-e6d2-4a8e-ad71-0c715af430b4\" xlink:actuate=\"onRequest\" xlink:href=\"psysml:13f83e37-e6d2-4a8e-ad71-0c715af430b4\" xlink:show=\"new\" xlink:title=\"psysml:13f83e37-e6d2-4a8e-ad71-0c715af430b4\" xlink:type=\"simple\"><polygon fill=\"#FFFFFF\" points=\"16,6,236,6,243,28.2969,410,28.2969,410,273,16,273,16,6\" style=\"stroke: #000000; stroke-width: 1.5;\"/><line style=\"stroke: #000000; stroke-width: 1.5;\" x1=\"16\" x2=\"243\" y1=\"28.2969\" y2=\"28.2969\"/><text fill=\"#000000\" font-family=\"sans-serif\" font-size=\"14\" font-weight=\"bold\" lengthAdjust=\"spacingAndGlyphs\" textLength=\"214\" x=\"20\" y=\"20.9951\">TextualRepresentationTest</text></a><!--MD5=[de5ec2e2e8f62f467e546659f5068c88]\n",
       "cluster E5--><a href=\"psysml:cbe71c02-e966-4d74-b7c0-f9e238b4431e\" target=\"_top\" title=\"psysml:cbe71c02-e966-4d74-b7c0-f9e238b4431e\" xlink:actuate=\"onRequest\" xlink:href=\"psysml:cbe71c02-e966-4d74-b7c0-f9e238b4431e\" xlink:show=\"new\" xlink:title=\"psysml:cbe71c02-e966-4d74-b7c0-f9e238b4431e\" xlink:type=\"simple\"><rect fill=\"#FFFFFF\" height=\"163.5\" id=\"E5\" style=\"stroke: #383838; stroke-width: 1.5;\" width=\"96\" x=\"268.5\" y=\"93.5\"/><rect fill=\"#F8F8F8\" height=\"37.9375\" style=\"stroke: #383838; stroke-width: 1.5;\" width=\"96\" x=\"268.5\" y=\"93.5\"/><text fill=\"#000000\" font-family=\"sans-serif\" font-size=\"12\" font-style=\"italic\" lengthAdjust=\"spacingAndGlyphs\" textLength=\"77\" x=\"278\" y=\"109.6387\">«action def»</text><text fill=\"#000000\" font-family=\"sans-serif\" font-size=\"12\" lengthAdjust=\"spacingAndGlyphs\" textLength=\"27\" x=\"303\" y=\"123.6074\">setX</text></a><!--MD5=[b4997ac47864f28c2f74865a473b2911]\n",
       "class E2--><a href=\"psysml:168d8746-881d-4018-9dc0-dced1b8b8eb0\" target=\"_top\" title=\"psysml:168d8746-881d-4018-9dc0-dced1b8b8eb0\" xlink:actuate=\"onRequest\" xlink:href=\"psysml:168d8746-881d-4018-9dc0-dced1b8b8eb0\" xlink:show=\"new\" xlink:title=\"psysml:168d8746-881d-4018-9dc0-dced1b8b8eb0\" xlink:type=\"simple\"><rect fill=\"#FFFFFF\" height=\"45.9375\" id=\"E2\" style=\"stroke: #383838; stroke-width: 1.5;\" width=\"74\" x=\"178\" y=\"70.5\"/><text fill=\"#000000\" font-family=\"sans-serif\" font-size=\"12\" font-style=\"italic\" lengthAdjust=\"spacingAndGlyphs\" textLength=\"72\" x=\"179\" y=\"86.6387\">«dataType»</text><text fill=\"#000000\" font-family=\"sans-serif\" font-size=\"12\" lengthAdjust=\"spacingAndGlyphs\" textLength=\"27\" x=\"201.5\" y=\"100.6074\">Real</text><line style=\"stroke: #383838; stroke-width: 1.5;\" x1=\"179\" x2=\"251\" y1=\"108.4375\" y2=\"108.4375\"/></a><!--MD5=[09b614a08d8cba4a07c9adeb5e0fee81]\n",
       "class E3--><a href=\"psysml:fec9e0ab-8313-4a0b-a62a-09c4083c89fd\" target=\"_top\" title=\"psysml:fec9e0ab-8313-4a0b-a62a-09c4083c89fd\" xlink:actuate=\"onRequest\" xlink:href=\"psysml:fec9e0ab-8313-4a0b-a62a-09c4083c89fd\" xlink:show=\"new\" xlink:title=\"psysml:fec9e0ab-8313-4a0b-a62a-09c4083c89fd\" xlink:type=\"simple\"><rect fill=\"#FFFFFF\" height=\"105.1563\" id=\"E3\" style=\"stroke: #383838; stroke-width: 1.5;\" width=\"111\" x=\"31.5\" y=\"41\"/><text fill=\"#000000\" font-family=\"sans-serif\" font-size=\"12\" font-style=\"italic\" lengthAdjust=\"spacingAndGlyphs\" textLength=\"65\" x=\"54.5\" y=\"57.1387\">«item def»</text><text fill=\"#000000\" font-family=\"sans-serif\" font-size=\"12\" lengthAdjust=\"spacingAndGlyphs\" textLength=\"8\" x=\"83\" y=\"71.1074\">C</text><line style=\"stroke: #383838; stroke-width: 1.5;\" x1=\"32.5\" x2=\"141.5\" y1=\"78.9375\" y2=\"78.9375\"/><text fill=\"#000000\" font-family=\"sans-serif\" font-size=\"11\" lengthAdjust=\"spacingAndGlyphs\" textLength=\"38\" x=\"37.5\" y=\"109.9526\">x: Real</text><line style=\"stroke: #383838; stroke-width: 1.0;\" x1=\"32.5\" x2=\"59.5\" y1=\"93.3398\" y2=\"93.3398\"/><text fill=\"#000000\" font-family=\"sans-serif\" font-size=\"11\" lengthAdjust=\"spacingAndGlyphs\" textLength=\"55\" x=\"59.5\" y=\"96.6479\">attributes</text><line style=\"stroke: #383838; stroke-width: 1.0;\" x1=\"114.5\" x2=\"141.5\" y1=\"93.3398\" y2=\"93.3398\"/><text fill=\"#000000\" font-family=\"sans-serif\" font-size=\"11\" lengthAdjust=\"spacingAndGlyphs\" textLength=\"69\" x=\"37.5\" y=\"139.562\">x_constraint</text><line style=\"stroke: #383838; stroke-width: 1.0;\" x1=\"32.5\" x2=\"35.5\" y1=\"122.9492\" y2=\"122.9492\"/><text fill=\"#000000\" font-family=\"sans-serif\" font-size=\"11\" lengthAdjust=\"spacingAndGlyphs\" textLength=\"103\" x=\"35.5\" y=\"126.2573\">assertConstraints</text><line style=\"stroke: #383838; stroke-width: 1.0;\" x1=\"138.5\" x2=\"141.5\" y1=\"122.9492\" y2=\"122.9492\"/></a><text fill=\"#000000\" font-family=\"sans-serif\" font-size=\"14\" lengthAdjust=\"spacingAndGlyphs\" textLength=\"8\" x=\"289\" y=\"72.1982\">c</text><rect fill=\"#383838\" height=\"12\" style=\"stroke: #F8F8F8; stroke-width: 1.5;\" width=\"12\" x=\"287\" y=\"87.5\"/><text fill=\"#000000\" font-family=\"sans-serif\" font-size=\"14\" lengthAdjust=\"spacingAndGlyphs\" textLength=\"38\" x=\"321\" y=\"72.1982\">newX</text><rect fill=\"#383838\" height=\"12\" style=\"stroke: #F8F8F8; stroke-width: 1.5;\" width=\"12\" x=\"334\" y=\"87.5\"/><!--MD5=[91ffae15be96c4c557f6a0bda2889930]\n",
       "@startuml\r\n",
       "top to bottom direction\r\n",
       "skinparam monochrome true\r\n",
       "skinparam classbackgroundcolor white\r\n",
       "skinparam shadowing false\r\n",
       "skinparam wrapWidth 300\r\n",
       "hide circle\r\n",
       "\r\n",
       "package \"TextualRepresentationTest\" as E1  [[psysml:13f83e37-e6d2-4a8e-ad71-0c715af430b4 ]]  {\r\n",
       "comp def \"Real\" as E2  <<(T,blue)dataType>> [[psysml:168d8746-881d-4018-9dc0-dced1b8b8eb0 ]] {\r\n",
       "}\r\n",
       "comp def \"C\" as E3  <<(T,blue)item def>> [[psysml:fec9e0ab-8313-4a0b-a62a-09c4083c89fd ]] {\r\n",
       "- - attributes - -\r\n",
       "x: Real\r\n",
       "- - assertConstraints - -\r\n",
       "x_constraint\r\n",
       "}\r\n",
       "rec def \"setX\" as E5  <<(T,blue)action def>> [[psysml:cbe71c02-e966-4d74-b7c0-f9e238b4431e ]] {\r\n",
       "portin \"c\" as E6  [[psysml:bf3dbcd8-0bef-4e93-82b9-0b5a37397746 ]] \r\n",
       "portin \"newX\" as E7  [[psysml:0934341b-2e16-4f4c-9ea0-e4fb5c660a0a ]] \r\n",
       "}\r\n",
       "\r\n",
       "}\r\n",
       "@enduml\r\n",
       "\n",
       "PlantUML version 1.2020.13(Sat Jun 13 12:26:38 UTC 2020)\n",
       "(EPL source distribution)\n",
       "Java Runtime: OpenJDK Runtime Environment\n",
       "JVM: OpenJDK 64-Bit Server VM\n",
       "Default Encoding: UTF-8\n",
       "Language: en\n",
       "Country: null\n",
       "--></g></svg>"
      ]
     },
     "execution_count": 50,
     "metadata": {},
     "output_type": "execute_result"
    }
   ],
   "source": [
    "%viz --style=\"TB\" --view=\"MIXED\" \"TextualRepresentationTest\""
   ]
  },
  {
   "cell_type": "code",
   "execution_count": 51,
   "id": "dental-integer",
   "metadata": {
    "execution": {
     "iopub.execute_input": "2021-03-26T15:43:52.538789Z",
     "iopub.status.busy": "2021-03-26T15:43:52.538038Z",
     "iopub.status.idle": "2021-03-26T15:43:52.590008Z",
     "shell.execute_reply": "2021-03-26T15:43:52.588729Z"
    }
   },
   "outputs": [
    {
     "data": {
      "image/svg+xml": [
       "<?xml version=\"1.0\" encoding=\"UTF-8\" standalone=\"no\"?><svg xmlns=\"http://www.w3.org/2000/svg\" xmlns:xlink=\"http://www.w3.org/1999/xlink\" contentScriptType=\"application/ecmascript\" contentStyleType=\"text/css\" height=\"285px\" preserveAspectRatio=\"none\" style=\"width:432px;height:285px;\" version=\"1.1\" viewBox=\"0 0 432 285\" width=\"432px\" zoomAndPan=\"magnify\"><defs/><g><!--MD5=[fbc87193dbaf4d95561dea2c320d4a47]\n",
       "cluster E1--><a href=\"psysml:13f83e37-e6d2-4a8e-ad71-0c715af430b4\" target=\"_top\" title=\"psysml:13f83e37-e6d2-4a8e-ad71-0c715af430b4\" xlink:actuate=\"onRequest\" xlink:href=\"psysml:13f83e37-e6d2-4a8e-ad71-0c715af430b4\" xlink:show=\"new\" xlink:title=\"psysml:13f83e37-e6d2-4a8e-ad71-0c715af430b4\" xlink:type=\"simple\"><polygon fill=\"#FFFFFF\" points=\"16,6,236,6,243,28.2969,410,28.2969,410,273,16,273,16,6\" style=\"stroke: #000000; stroke-width: 1.5;\"/><line style=\"stroke: #000000; stroke-width: 1.5;\" x1=\"16\" x2=\"243\" y1=\"28.2969\" y2=\"28.2969\"/><text fill=\"#000000\" font-family=\"sans-serif\" font-size=\"14\" font-weight=\"bold\" lengthAdjust=\"spacingAndGlyphs\" textLength=\"214\" x=\"20\" y=\"20.9951\">TextualRepresentationTest</text></a><!--MD5=[de5ec2e2e8f62f467e546659f5068c88]\n",
       "cluster E5--><a href=\"psysml:cbe71c02-e966-4d74-b7c0-f9e238b4431e\" target=\"_top\" title=\"psysml:cbe71c02-e966-4d74-b7c0-f9e238b4431e\" xlink:actuate=\"onRequest\" xlink:href=\"psysml:cbe71c02-e966-4d74-b7c0-f9e238b4431e\" xlink:show=\"new\" xlink:title=\"psysml:cbe71c02-e966-4d74-b7c0-f9e238b4431e\" xlink:type=\"simple\"><rect fill=\"#FFFFFF\" height=\"163.5\" id=\"E5\" style=\"stroke: #383838; stroke-width: 1.5;\" width=\"96\" x=\"268.5\" y=\"93.5\"/><rect fill=\"#F8F8F8\" height=\"37.9375\" style=\"stroke: #383838; stroke-width: 1.5;\" width=\"96\" x=\"268.5\" y=\"93.5\"/><text fill=\"#000000\" font-family=\"sans-serif\" font-size=\"12\" font-style=\"italic\" lengthAdjust=\"spacingAndGlyphs\" textLength=\"77\" x=\"278\" y=\"109.6387\">«action def»</text><text fill=\"#000000\" font-family=\"sans-serif\" font-size=\"12\" lengthAdjust=\"spacingAndGlyphs\" textLength=\"27\" x=\"303\" y=\"123.6074\">setX</text></a><!--MD5=[b4997ac47864f28c2f74865a473b2911]\n",
       "class E2--><a href=\"psysml:168d8746-881d-4018-9dc0-dced1b8b8eb0\" target=\"_top\" title=\"psysml:168d8746-881d-4018-9dc0-dced1b8b8eb0\" xlink:actuate=\"onRequest\" xlink:href=\"psysml:168d8746-881d-4018-9dc0-dced1b8b8eb0\" xlink:show=\"new\" xlink:title=\"psysml:168d8746-881d-4018-9dc0-dced1b8b8eb0\" xlink:type=\"simple\"><rect fill=\"#FFFFFF\" height=\"45.9375\" id=\"E2\" style=\"stroke: #383838; stroke-width: 1.5;\" width=\"74\" x=\"178\" y=\"70.5\"/><text fill=\"#000000\" font-family=\"sans-serif\" font-size=\"12\" font-style=\"italic\" lengthAdjust=\"spacingAndGlyphs\" textLength=\"72\" x=\"179\" y=\"86.6387\">«dataType»</text><text fill=\"#000000\" font-family=\"sans-serif\" font-size=\"12\" lengthAdjust=\"spacingAndGlyphs\" textLength=\"27\" x=\"201.5\" y=\"100.6074\">Real</text><line style=\"stroke: #383838; stroke-width: 1.5;\" x1=\"179\" x2=\"251\" y1=\"108.4375\" y2=\"108.4375\"/></a><!--MD5=[09b614a08d8cba4a07c9adeb5e0fee81]\n",
       "class E3--><a href=\"psysml:fec9e0ab-8313-4a0b-a62a-09c4083c89fd\" target=\"_top\" title=\"psysml:fec9e0ab-8313-4a0b-a62a-09c4083c89fd\" xlink:actuate=\"onRequest\" xlink:href=\"psysml:fec9e0ab-8313-4a0b-a62a-09c4083c89fd\" xlink:show=\"new\" xlink:title=\"psysml:fec9e0ab-8313-4a0b-a62a-09c4083c89fd\" xlink:type=\"simple\"><rect fill=\"#FFFFFF\" height=\"105.1563\" id=\"E3\" style=\"stroke: #383838; stroke-width: 1.5;\" width=\"111\" x=\"31.5\" y=\"41\"/><text fill=\"#000000\" font-family=\"sans-serif\" font-size=\"12\" font-style=\"italic\" lengthAdjust=\"spacingAndGlyphs\" textLength=\"65\" x=\"54.5\" y=\"57.1387\">«item def»</text><text fill=\"#000000\" font-family=\"sans-serif\" font-size=\"12\" lengthAdjust=\"spacingAndGlyphs\" textLength=\"8\" x=\"83\" y=\"71.1074\">C</text><line style=\"stroke: #383838; stroke-width: 1.5;\" x1=\"32.5\" x2=\"141.5\" y1=\"78.9375\" y2=\"78.9375\"/><text fill=\"#000000\" font-family=\"sans-serif\" font-size=\"11\" lengthAdjust=\"spacingAndGlyphs\" textLength=\"38\" x=\"37.5\" y=\"109.9526\">x: Real</text><line style=\"stroke: #383838; stroke-width: 1.0;\" x1=\"32.5\" x2=\"59.5\" y1=\"93.3398\" y2=\"93.3398\"/><text fill=\"#000000\" font-family=\"sans-serif\" font-size=\"11\" lengthAdjust=\"spacingAndGlyphs\" textLength=\"55\" x=\"59.5\" y=\"96.6479\">attributes</text><line style=\"stroke: #383838; stroke-width: 1.0;\" x1=\"114.5\" x2=\"141.5\" y1=\"93.3398\" y2=\"93.3398\"/><text fill=\"#000000\" font-family=\"sans-serif\" font-size=\"11\" lengthAdjust=\"spacingAndGlyphs\" textLength=\"69\" x=\"37.5\" y=\"139.562\">x_constraint</text><line style=\"stroke: #383838; stroke-width: 1.0;\" x1=\"32.5\" x2=\"35.5\" y1=\"122.9492\" y2=\"122.9492\"/><text fill=\"#000000\" font-family=\"sans-serif\" font-size=\"11\" lengthAdjust=\"spacingAndGlyphs\" textLength=\"103\" x=\"35.5\" y=\"126.2573\">assertConstraints</text><line style=\"stroke: #383838; stroke-width: 1.0;\" x1=\"138.5\" x2=\"141.5\" y1=\"122.9492\" y2=\"122.9492\"/></a><text fill=\"#000000\" font-family=\"sans-serif\" font-size=\"14\" lengthAdjust=\"spacingAndGlyphs\" textLength=\"8\" x=\"289\" y=\"72.1982\">c</text><rect fill=\"#383838\" height=\"12\" style=\"stroke: #F8F8F8; stroke-width: 1.5;\" width=\"12\" x=\"287\" y=\"87.5\"/><text fill=\"#000000\" font-family=\"sans-serif\" font-size=\"14\" lengthAdjust=\"spacingAndGlyphs\" textLength=\"38\" x=\"321\" y=\"72.1982\">newX</text><rect fill=\"#383838\" height=\"12\" style=\"stroke: #F8F8F8; stroke-width: 1.5;\" width=\"12\" x=\"334\" y=\"87.5\"/><!--MD5=[a3217a64fccf7df4d52483877bcfe872]\n",
       "@startuml\r\n",
       "skinparam linetype ortho\r\n",
       "skinparam monochrome true\r\n",
       "skinparam classbackgroundcolor white\r\n",
       "skinparam shadowing false\r\n",
       "skinparam wrapWidth 300\r\n",
       "hide circle\r\n",
       "\r\n",
       "package \"TextualRepresentationTest\" as E1  [[psysml:13f83e37-e6d2-4a8e-ad71-0c715af430b4 ]]  {\r\n",
       "comp def \"Real\" as E2  <<(T,blue)dataType>> [[psysml:168d8746-881d-4018-9dc0-dced1b8b8eb0 ]] {\r\n",
       "}\r\n",
       "comp def \"C\" as E3  <<(T,blue)item def>> [[psysml:fec9e0ab-8313-4a0b-a62a-09c4083c89fd ]] {\r\n",
       "- - attributes - -\r\n",
       "x: Real\r\n",
       "- - assertConstraints - -\r\n",
       "x_constraint\r\n",
       "}\r\n",
       "rec def \"setX\" as E5  <<(T,blue)action def>> [[psysml:cbe71c02-e966-4d74-b7c0-f9e238b4431e ]] {\r\n",
       "portin \"c\" as E6  [[psysml:bf3dbcd8-0bef-4e93-82b9-0b5a37397746 ]] \r\n",
       "portin \"newX\" as E7  [[psysml:0934341b-2e16-4f4c-9ea0-e4fb5c660a0a ]] \r\n",
       "}\r\n",
       "\r\n",
       "}\r\n",
       "@enduml\r\n",
       "\n",
       "PlantUML version 1.2020.13(Sat Jun 13 12:26:38 UTC 2020)\n",
       "(EPL source distribution)\n",
       "Java Runtime: OpenJDK Runtime Environment\n",
       "JVM: OpenJDK 64-Bit Server VM\n",
       "Default Encoding: UTF-8\n",
       "Language: en\n",
       "Country: null\n",
       "--></g></svg>"
      ]
     },
     "execution_count": 51,
     "metadata": {},
     "output_type": "execute_result"
    }
   ],
   "source": [
    "%viz --style=\"ORTHOLINE\" --view=\"Default\" \"TextualRepresentationTest\""
   ]
  },
  {
   "cell_type": "code",
   "execution_count": 52,
   "id": "victorian-embassy",
   "metadata": {
    "execution": {
     "iopub.execute_input": "2021-03-26T15:43:52.640344Z",
     "iopub.status.busy": "2021-03-26T15:43:52.639821Z",
     "iopub.status.idle": "2021-03-26T15:43:52.691026Z",
     "shell.execute_reply": "2021-03-26T15:43:52.689727Z"
    }
   },
   "outputs": [
    {
     "data": {
      "image/svg+xml": [
       "<?xml version=\"1.0\" encoding=\"UTF-8\" standalone=\"no\"?><svg xmlns=\"http://www.w3.org/2000/svg\" xmlns:xlink=\"http://www.w3.org/1999/xlink\" contentScriptType=\"application/ecmascript\" contentStyleType=\"text/css\" height=\"297px\" preserveAspectRatio=\"none\" style=\"width:290px;height:297px;\" version=\"1.1\" viewBox=\"0 0 290 297\" width=\"290px\" zoomAndPan=\"magnify\"><defs/><g><!--MD5=[fbc87193dbaf4d95561dea2c320d4a47]\n",
       "cluster E1--><a href=\"psysml:13f83e37-e6d2-4a8e-ad71-0c715af430b4\" target=\"_top\" title=\"psysml:13f83e37-e6d2-4a8e-ad71-0c715af430b4\" xlink:actuate=\"onRequest\" xlink:href=\"psysml:13f83e37-e6d2-4a8e-ad71-0c715af430b4\" xlink:show=\"new\" xlink:title=\"psysml:13f83e37-e6d2-4a8e-ad71-0c715af430b4\" xlink:type=\"simple\"><polygon fill=\"#FFFFFF\" points=\"16,6,236,6,243,28.2969,268,28.2969,268,285,16,285,16,6\" style=\"stroke: #000000; stroke-width: 1.5;\"/><line style=\"stroke: #000000; stroke-width: 1.5;\" x1=\"16\" x2=\"243\" y1=\"28.2969\" y2=\"28.2969\"/><text fill=\"#000000\" font-family=\"sans-serif\" font-size=\"14\" font-weight=\"bold\" lengthAdjust=\"spacingAndGlyphs\" textLength=\"214\" x=\"20\" y=\"20.9951\">TextualRepresentationTest</text></a><!--MD5=[b4997ac47864f28c2f74865a473b2911]\n",
       "class E2--><a href=\"psysml:168d8746-881d-4018-9dc0-dced1b8b8eb0\" target=\"_top\" title=\"psysml:168d8746-881d-4018-9dc0-dced1b8b8eb0\" xlink:actuate=\"onRequest\" xlink:href=\"psysml:168d8746-881d-4018-9dc0-dced1b8b8eb0\" xlink:show=\"new\" xlink:title=\"psysml:168d8746-881d-4018-9dc0-dced1b8b8eb0\" xlink:type=\"simple\"><rect fill=\"#FFFFFF\" height=\"45.9375\" id=\"E2\" style=\"stroke: #383838; stroke-width: 1.5;\" width=\"74\" x=\"32\" y=\"193.5\"/><text fill=\"#000000\" font-family=\"sans-serif\" font-size=\"12\" font-style=\"italic\" lengthAdjust=\"spacingAndGlyphs\" textLength=\"72\" x=\"33\" y=\"209.6387\">«dataType»</text><text fill=\"#000000\" font-family=\"sans-serif\" font-size=\"12\" lengthAdjust=\"spacingAndGlyphs\" textLength=\"27\" x=\"55.5\" y=\"223.6074\">Real</text><line style=\"stroke: #383838; stroke-width: 1.5;\" x1=\"33\" x2=\"105\" y1=\"231.4375\" y2=\"231.4375\"/></a><!--MD5=[09b614a08d8cba4a07c9adeb5e0fee81]\n",
       "class E3--><a href=\"psysml:fec9e0ab-8313-4a0b-a62a-09c4083c89fd\" target=\"_top\" title=\"psysml:fec9e0ab-8313-4a0b-a62a-09c4083c89fd\" xlink:actuate=\"onRequest\" xlink:href=\"psysml:fec9e0ab-8313-4a0b-a62a-09c4083c89fd\" xlink:show=\"new\" xlink:title=\"psysml:fec9e0ab-8313-4a0b-a62a-09c4083c89fd\" xlink:type=\"simple\"><rect fill=\"#FFFFFF\" height=\"105.1563\" id=\"E3\" style=\"stroke: #383838; stroke-width: 1.5;\" width=\"111\" x=\"141.5\" y=\"164\"/><text fill=\"#000000\" font-family=\"sans-serif\" font-size=\"12\" font-style=\"italic\" lengthAdjust=\"spacingAndGlyphs\" textLength=\"65\" x=\"164.5\" y=\"180.1387\">«item def»</text><text fill=\"#000000\" font-family=\"sans-serif\" font-size=\"12\" lengthAdjust=\"spacingAndGlyphs\" textLength=\"8\" x=\"193\" y=\"194.1074\">C</text><line style=\"stroke: #383838; stroke-width: 1.5;\" x1=\"142.5\" x2=\"251.5\" y1=\"201.9375\" y2=\"201.9375\"/><text fill=\"#000000\" font-family=\"sans-serif\" font-size=\"11\" lengthAdjust=\"spacingAndGlyphs\" textLength=\"38\" x=\"147.5\" y=\"232.9526\">x: Real</text><line style=\"stroke: #383838; stroke-width: 1.0;\" x1=\"142.5\" x2=\"169.5\" y1=\"216.3398\" y2=\"216.3398\"/><text fill=\"#000000\" font-family=\"sans-serif\" font-size=\"11\" lengthAdjust=\"spacingAndGlyphs\" textLength=\"55\" x=\"169.5\" y=\"219.6479\">attributes</text><line style=\"stroke: #383838; stroke-width: 1.0;\" x1=\"224.5\" x2=\"251.5\" y1=\"216.3398\" y2=\"216.3398\"/><text fill=\"#000000\" font-family=\"sans-serif\" font-size=\"11\" lengthAdjust=\"spacingAndGlyphs\" textLength=\"69\" x=\"147.5\" y=\"262.562\">x_constraint</text><line style=\"stroke: #383838; stroke-width: 1.0;\" x1=\"142.5\" x2=\"145.5\" y1=\"245.9492\" y2=\"245.9492\"/><text fill=\"#000000\" font-family=\"sans-serif\" font-size=\"11\" lengthAdjust=\"spacingAndGlyphs\" textLength=\"103\" x=\"145.5\" y=\"249.2573\">assertConstraints</text><line style=\"stroke: #383838; stroke-width: 1.0;\" x1=\"248.5\" x2=\"251.5\" y1=\"245.9492\" y2=\"245.9492\"/></a><!--MD5=[270fce915f116d4de14055a7c1d9a0f3]\n",
       "class E5--><a href=\"psysml:cbe71c02-e966-4d74-b7c0-f9e238b4431e\" target=\"_top\" title=\"psysml:cbe71c02-e966-4d74-b7c0-f9e238b4431e\" xlink:actuate=\"onRequest\" xlink:href=\"psysml:cbe71c02-e966-4d74-b7c0-f9e238b4431e\" xlink:show=\"new\" xlink:title=\"psysml:cbe71c02-e966-4d74-b7c0-f9e238b4431e\" xlink:type=\"simple\"><rect fill=\"#FFFFFF\" height=\"45.9375\" id=\"E5\" style=\"stroke: #383838; stroke-width: 1.5;\" width=\"79\" x=\"67.5\" y=\"41\"/><text fill=\"#000000\" font-family=\"sans-serif\" font-size=\"12\" font-style=\"italic\" lengthAdjust=\"spacingAndGlyphs\" textLength=\"77\" x=\"68.5\" y=\"57.1387\">«action def»</text><text fill=\"#000000\" font-family=\"sans-serif\" font-size=\"12\" lengthAdjust=\"spacingAndGlyphs\" textLength=\"27\" x=\"93.5\" y=\"71.1074\">setX</text><line style=\"stroke: #383838; stroke-width: 1.5;\" x1=\"68.5\" x2=\"145.5\" y1=\"78.9375\" y2=\"78.9375\"/></a><!--MD5=[6f107eb264eda4b26325f39a5516f1f3]\n",
       "reverse link E5 to E3--><a href=\"psysml:bf3dbcd8-0bef-4e93-82b9-0b5a37397746\" target=\"_top\" title=\"psysml:bf3dbcd8-0bef-4e93-82b9-0b5a37397746\" xlink:actuate=\"onRequest\" xlink:href=\"psysml:bf3dbcd8-0bef-4e93-82b9-0b5a37397746\" xlink:show=\"new\" xlink:title=\"psysml:bf3dbcd8-0bef-4e93-82b9-0b5a37397746\" xlink:type=\"simple\"><path d=\"M123.75,100.27 C123.75,100.27 123.75,179 123.75,179 C123.75,179 131.27,179 141.48,179 \" fill=\"none\" id=\"E5&lt;-E3\" style=\"stroke: #383838; stroke-width: 1.0;\"/><polygon fill=\"#FFFFFF\" points=\"123.75,87.27,119.75,93.27,123.75,99.27,127.75,93.27,123.75,87.27\" style=\"stroke: #383838; stroke-width: 1.0;\"/><text fill=\"#000000\" font-family=\"sans-serif\" font-size=\"13\" lengthAdjust=\"spacingAndGlyphs\" textLength=\"7\" x=\"184\" y=\"130.0669\">c</text></a><!--MD5=[f51c6d1f1856fe338ac0413483fb1ccf]\n",
       "reverse link E5 to E2--><a href=\"psysml:0934341b-2e16-4f4c-9ea0-e4fb5c660a0a\" target=\"_top\" title=\"psysml:0934341b-2e16-4f4c-9ea0-e4fb5c660a0a\" xlink:actuate=\"onRequest\" xlink:href=\"psysml:0934341b-2e16-4f4c-9ea0-e4fb5c660a0a\" xlink:show=\"new\" xlink:title=\"psysml:0934341b-2e16-4f4c-9ea0-e4fb5c660a0a\" xlink:type=\"simple\"><path d=\"M86.75,100.16 C86.75,100.16 86.75,193.12 86.75,193.12 \" fill=\"none\" id=\"E5&lt;-E2\" style=\"stroke: #383838; stroke-width: 1.0;\"/><polygon fill=\"#FFFFFF\" points=\"86.75,87.16,82.75,93.16,86.75,99.16,90.75,93.16,86.75,87.16\" style=\"stroke: #383838; stroke-width: 1.0;\"/><text fill=\"#000000\" font-family=\"sans-serif\" font-size=\"13\" lengthAdjust=\"spacingAndGlyphs\" textLength=\"33\" x=\"83\" y=\"130.0669\">newX</text></a><!--MD5=[a7c4783ad16cabaef6020a641c7e013e]\n",
       "@startuml\r\n",
       "skinparam linetype ortho\r\n",
       "skinparam monochrome true\r\n",
       "skinparam classbackgroundcolor white\r\n",
       "skinparam shadowing false\r\n",
       "skinparam wrapWidth 300\r\n",
       "hide circle\r\n",
       "\r\n",
       "package \"TextualRepresentationTest\" as E1  [[psysml:13f83e37-e6d2-4a8e-ad71-0c715af430b4 ]]  {\r\n",
       "comp def \"Real\" as E2  <<(T,blue)dataType>> [[psysml:168d8746-881d-4018-9dc0-dced1b8b8eb0 ]] {\r\n",
       "}\r\n",
       "comp def \"C\" as E3  <<(T,blue)item def>> [[psysml:fec9e0ab-8313-4a0b-a62a-09c4083c89fd ]] {\r\n",
       "- - attributes - -\r\n",
       "x: Real\r\n",
       "- - assertConstraints - -\r\n",
       "x_constraint\r\n",
       "}\r\n",
       "comp def \"setX\" as E5  <<(T,blue)action def>> [[psysml:cbe71c02-e966-4d74-b7c0-f9e238b4431e ]] {\r\n",
       "}\r\n",
       "E5 o- - E3 [[psysml:bf3dbcd8-0bef-4e93-82b9-0b5a37397746 ]] : c\r\n",
       "E5 o- - E2 [[psysml:0934341b-2e16-4f4c-9ea0-e4fb5c660a0a ]] : newX\r\n",
       "}\r\n",
       "@enduml\r\n",
       "\n",
       "PlantUML version 1.2020.13(Sat Jun 13 12:26:38 UTC 2020)\n",
       "(EPL source distribution)\n",
       "Java Runtime: OpenJDK Runtime Environment\n",
       "JVM: OpenJDK 64-Bit Server VM\n",
       "Default Encoding: UTF-8\n",
       "Language: en\n",
       "Country: null\n",
       "--></g></svg>"
      ]
     },
     "execution_count": 52,
     "metadata": {},
     "output_type": "execute_result"
    }
   ],
   "source": [
    "%viz --style=\"ORTHOLINE\" --view=\"Tree\" \"TextualRepresentationTest\""
   ]
  },
  {
   "cell_type": "code",
   "execution_count": 53,
   "id": "common-adult",
   "metadata": {
    "execution": {
     "iopub.execute_input": "2021-03-26T15:43:52.743109Z",
     "iopub.status.busy": "2021-03-26T15:43:52.741686Z",
     "iopub.status.idle": "2021-03-26T15:43:52.747153Z",
     "shell.execute_reply": "2021-03-26T15:43:52.746808Z"
    }
   },
   "outputs": [
    {
     "data": {
      "image/svg+xml": [
       "<?xml version=\"1.0\" encoding=\"UTF-8\" standalone=\"no\"?><svg xmlns=\"http://www.w3.org/2000/svg\" xmlns:xlink=\"http://www.w3.org/1999/xlink\" contentScriptType=\"application/ecmascript\" contentStyleType=\"text/css\" height=\"12px\" preserveAspectRatio=\"none\" style=\"width:12px;height:12px;\" version=\"1.1\" viewBox=\"0 0 12 12\" width=\"12px\" zoomAndPan=\"magnify\"><defs/><g><!--MD5=[97d6f38768b311333d388e66b2b27985]\n",
       "@startuml\r\n",
       "skinparam linetype ortho\r\n",
       "skinparam monochrome true\r\n",
       "skinparam classbackgroundcolor white\r\n",
       "skinparam shadowing false\r\n",
       "skinparam wrapWidth 300\r\n",
       "hide circle\r\n",
       "\r\n",
       "@enduml\r\n",
       "\n",
       "PlantUML version 1.2020.13(Sat Jun 13 12:26:38 UTC 2020)\n",
       "(EPL source distribution)\n",
       "Java Runtime: OpenJDK Runtime Environment\n",
       "JVM: OpenJDK 64-Bit Server VM\n",
       "Default Encoding: UTF-8\n",
       "Language: en\n",
       "Country: null\n",
       "--></g></svg>"
      ]
     },
     "execution_count": 53,
     "metadata": {},
     "output_type": "execute_result"
    }
   ],
   "source": [
    "%viz --style=\"ORTHOLINE\" --view=\"State\" \"TextualRepresentationTest\""
   ]
  },
  {
   "cell_type": "code",
   "execution_count": 54,
   "id": "unnecessary-familiar",
   "metadata": {
    "execution": {
     "iopub.execute_input": "2021-03-26T15:43:52.798499Z",
     "iopub.status.busy": "2021-03-26T15:43:52.798019Z",
     "iopub.status.idle": "2021-03-26T15:43:52.824298Z",
     "shell.execute_reply": "2021-03-26T15:43:52.823617Z"
    }
   },
   "outputs": [
    {
     "data": {
      "image/svg+xml": [
       "<?xml version=\"1.0\" encoding=\"UTF-8\" standalone=\"no\"?><svg xmlns=\"http://www.w3.org/2000/svg\" xmlns:xlink=\"http://www.w3.org/1999/xlink\" contentScriptType=\"application/ecmascript\" contentStyleType=\"text/css\" height=\"179px\" preserveAspectRatio=\"none\" style=\"width:398px;height:179px;\" version=\"1.1\" viewBox=\"0 0 398 179\" width=\"398px\" zoomAndPan=\"magnify\"><defs/><g><!--MD5=[fbc87193dbaf4d95561dea2c320d4a47]\n",
       "cluster E1--><a href=\"psysml:13f83e37-e6d2-4a8e-ad71-0c715af430b4\" target=\"_top\" title=\"psysml:13f83e37-e6d2-4a8e-ad71-0c715af430b4\" xlink:actuate=\"onRequest\" xlink:href=\"psysml:13f83e37-e6d2-4a8e-ad71-0c715af430b4\" xlink:show=\"new\" xlink:title=\"psysml:13f83e37-e6d2-4a8e-ad71-0c715af430b4\" xlink:type=\"simple\"><polygon fill=\"#FFFFFF\" points=\"16,6,236,6,243,28.2969,376,28.2969,376,167,16,167,16,6\" style=\"stroke: #000000; stroke-width: 1.5;\"/><line style=\"stroke: #000000; stroke-width: 1.5;\" x1=\"16\" x2=\"243\" y1=\"28.2969\" y2=\"28.2969\"/><text fill=\"#000000\" font-family=\"sans-serif\" font-size=\"14\" font-weight=\"bold\" lengthAdjust=\"spacingAndGlyphs\" textLength=\"214\" x=\"20\" y=\"20.9951\">TextualRepresentationTest</text></a><!--MD5=[f6df4d0ebaf0b5dfb2ced0ae5af7c670]\n",
       "cluster E4--><a href=\"psysml:cbe71c02-e966-4d74-b7c0-f9e238b4431e\" target=\"_top\" title=\"psysml:cbe71c02-e966-4d74-b7c0-f9e238b4431e\" xlink:actuate=\"onRequest\" xlink:href=\"psysml:cbe71c02-e966-4d74-b7c0-f9e238b4431e\" xlink:show=\"new\" xlink:title=\"psysml:cbe71c02-e966-4d74-b7c0-f9e238b4431e\" xlink:type=\"simple\"><rect fill=\"#FFFFFF\" height=\"88.5\" id=\"E4\" style=\"stroke: #383838; stroke-width: 1.5;\" width=\"96\" x=\"235.5\" y=\"62.5\"/><rect fill=\"#F8F8F8\" height=\"37.9375\" style=\"stroke: #383838; stroke-width: 1.5;\" width=\"96\" x=\"235.5\" y=\"62.5\"/><text fill=\"#000000\" font-family=\"sans-serif\" font-size=\"12\" font-style=\"italic\" lengthAdjust=\"spacingAndGlyphs\" textLength=\"77\" x=\"245\" y=\"78.6387\">«action def»</text><text fill=\"#000000\" font-family=\"sans-serif\" font-size=\"12\" lengthAdjust=\"spacingAndGlyphs\" textLength=\"27\" x=\"270\" y=\"92.6074\">setX</text></a><g id=\"E1.E2\"><a href=\"psysml:168d8746-881d-4018-9dc0-dced1b8b8eb0\" target=\"_top\" title=\"psysml:168d8746-881d-4018-9dc0-dced1b8b8eb0\" xlink:actuate=\"onRequest\" xlink:href=\"psysml:168d8746-881d-4018-9dc0-dced1b8b8eb0\" xlink:show=\"new\" xlink:title=\"psysml:168d8746-881d-4018-9dc0-dced1b8b8eb0\" xlink:type=\"simple\"><rect fill=\"#FFFFFF\" height=\"42.9375\" id=\"E2\" style=\"stroke: #383838; stroke-width: 1.5;\" width=\"79\" x=\"139.5\" y=\"41\"/><rect fill=\"#F8F8F8\" height=\"37.9375\" style=\"stroke: #383838; stroke-width: 1.5;\" width=\"79\" x=\"139.5\" y=\"41\"/><text fill=\"#000000\" font-family=\"sans-serif\" font-size=\"12\" font-style=\"italic\" lengthAdjust=\"spacingAndGlyphs\" textLength=\"72\" x=\"143\" y=\"57.1387\">«dataType»</text><text fill=\"#000000\" font-family=\"sans-serif\" font-size=\"12\" lengthAdjust=\"spacingAndGlyphs\" textLength=\"27\" x=\"165.5\" y=\"71.1074\">Real</text></a></g><g id=\"E1.E3\"><a href=\"psysml:fec9e0ab-8313-4a0b-a62a-09c4083c89fd\" target=\"_top\" title=\"psysml:fec9e0ab-8313-4a0b-a62a-09c4083c89fd\" xlink:actuate=\"onRequest\" xlink:href=\"psysml:fec9e0ab-8313-4a0b-a62a-09c4083c89fd\" xlink:show=\"new\" xlink:title=\"psysml:fec9e0ab-8313-4a0b-a62a-09c4083c89fd\" xlink:type=\"simple\"><rect fill=\"#FFFFFF\" height=\"42.9375\" id=\"E3\" style=\"stroke: #383838; stroke-width: 1.5;\" width=\"72\" x=\"32\" y=\"41\"/><rect fill=\"#F8F8F8\" height=\"37.9375\" style=\"stroke: #383838; stroke-width: 1.5;\" width=\"72\" x=\"32\" y=\"41\"/><text fill=\"#000000\" font-family=\"sans-serif\" font-size=\"12\" font-style=\"italic\" lengthAdjust=\"spacingAndGlyphs\" textLength=\"65\" x=\"35.5\" y=\"57.1387\">«item def»</text><text fill=\"#000000\" font-family=\"sans-serif\" font-size=\"12\" lengthAdjust=\"spacingAndGlyphs\" textLength=\"8\" x=\"64\" y=\"71.1074\">C</text></a></g><text fill=\"#000000\" font-family=\"sans-serif\" font-size=\"14\" lengthAdjust=\"spacingAndGlyphs\" textLength=\"8\" x=\"256\" y=\"41.1982\">c</text><rect fill=\"#383838\" height=\"12\" style=\"stroke: #F8F8F8; stroke-width: 1.5;\" width=\"12\" x=\"254\" y=\"56.5\"/><text fill=\"#000000\" font-family=\"sans-serif\" font-size=\"14\" lengthAdjust=\"spacingAndGlyphs\" textLength=\"38\" x=\"288\" y=\"41.1982\">newX</text><rect fill=\"#383838\" height=\"12\" style=\"stroke: #F8F8F8; stroke-width: 1.5;\" width=\"12\" x=\"301\" y=\"56.5\"/><!--MD5=[8e445f47d406e01be2dedb984d02f8c1]\n",
       "@startuml\r\n",
       "skinparam ranksep 10\r\n",
       "skinparam rectangle {\r\n",
       " backgroundColor<<block>> LightGreen\r\n",
       "}\r\n",
       "skinparam linetype ortho\r\n",
       "skinparam monochrome true\r\n",
       "skinparam classbackgroundcolor white\r\n",
       "skinparam shadowing false\r\n",
       "skinparam wrapWidth 300\r\n",
       "hide circle\r\n",
       "\r\n",
       "package \"TextualRepresentationTest\" as E1  [[psysml:13f83e37-e6d2-4a8e-ad71-0c715af430b4 ]]  {\r\n",
       "def \"Real\" as E2  <<(T,blue)dataType>> [[psysml:168d8746-881d-4018-9dc0-dced1b8b8eb0 ]] \r\n",
       "def \"C\" as E3  <<(T,blue)item def>> [[psysml:fec9e0ab-8313-4a0b-a62a-09c4083c89fd ]] \r\n",
       "rec def \"setX\" as E4  <<(T,blue)action def>> [[psysml:cbe71c02-e966-4d74-b7c0-f9e238b4431e ]] {\r\n",
       "portin \"c\" as E5  [[psysml:bf3dbcd8-0bef-4e93-82b9-0b5a37397746 ]] \r\n",
       "portin \"newX\" as E6  [[psysml:0934341b-2e16-4f4c-9ea0-e4fb5c660a0a ]] \r\n",
       "}\r\n",
       "\r\n",
       "}\r\n",
       "@enduml\r\n",
       "\n",
       "PlantUML version 1.2020.13(Sat Jun 13 12:26:38 UTC 2020)\n",
       "(EPL source distribution)\n",
       "Java Runtime: OpenJDK Runtime Environment\n",
       "JVM: OpenJDK 64-Bit Server VM\n",
       "Default Encoding: UTF-8\n",
       "Language: en\n",
       "Country: null\n",
       "--></g></svg>"
      ]
     },
     "execution_count": 54,
     "metadata": {},
     "output_type": "execute_result"
    }
   ],
   "source": [
    "%viz --style=\"ORTHOLINE\" --view=\"Interconnection\" \"TextualRepresentationTest\""
   ]
  },
  {
   "cell_type": "code",
   "execution_count": 55,
   "id": "entertaining-retro",
   "metadata": {
    "execution": {
     "iopub.execute_input": "2021-03-26T15:43:52.874417Z",
     "iopub.status.busy": "2021-03-26T15:43:52.873959Z",
     "iopub.status.idle": "2021-03-26T15:43:52.895612Z",
     "shell.execute_reply": "2021-03-26T15:43:52.894979Z"
    }
   },
   "outputs": [
    {
     "data": {
      "image/svg+xml": [
       "<?xml version=\"1.0\" encoding=\"UTF-8\" standalone=\"no\"?><svg xmlns=\"http://www.w3.org/2000/svg\" xmlns:xlink=\"http://www.w3.org/1999/xlink\" contentScriptType=\"application/ecmascript\" contentStyleType=\"text/css\" height=\"126px\" preserveAspectRatio=\"none\" style=\"width:150px;height:126px;\" version=\"1.1\" viewBox=\"0 0 150 126\" width=\"150px\" zoomAndPan=\"magnify\"><defs/><g><!--MD5=[fbc87193dbaf4d95561dea2c320d4a47]\n",
       "cluster E1--><a href=\"psysml:cbe71c02-e966-4d74-b7c0-f9e238b4431e\" target=\"_top\" title=\"psysml:cbe71c02-e966-4d74-b7c0-f9e238b4431e\" xlink:actuate=\"onRequest\" xlink:href=\"psysml:cbe71c02-e966-4d74-b7c0-f9e238b4431e\" xlink:show=\"new\" xlink:title=\"psysml:cbe71c02-e966-4d74-b7c0-f9e238b4431e\" xlink:type=\"simple\"><rect fill=\"#FFFFFF\" height=\"73\" id=\"E1\" style=\"stroke: #383838; stroke-width: 1.5;\" width=\"132\" x=\"7\" y=\"42.0986\"/><rect fill=\"#F8F8F8\" height=\"37.9375\" style=\"stroke: #383838; stroke-width: 1.5;\" width=\"132\" x=\"7\" y=\"42.0986\"/><text fill=\"#000000\" font-family=\"sans-serif\" font-size=\"12\" font-style=\"italic\" lengthAdjust=\"spacingAndGlyphs\" textLength=\"77\" x=\"34.5\" y=\"58.2373\">«action def»</text><text fill=\"#000000\" font-family=\"sans-serif\" font-size=\"12\" lengthAdjust=\"spacingAndGlyphs\" textLength=\"27\" x=\"59.5\" y=\"72.2061\">setX</text></a><text fill=\"#000000\" font-family=\"sans-serif\" font-size=\"14\" lengthAdjust=\"spacingAndGlyphs\" textLength=\"8\" x=\"21\" y=\"20.7969\">c</text><rect fill=\"#383838\" height=\"12\" style=\"stroke: #F8F8F8; stroke-width: 1.5;\" width=\"12\" x=\"19\" y=\"36.0986\"/><text fill=\"#000000\" font-family=\"sans-serif\" font-size=\"14\" lengthAdjust=\"spacingAndGlyphs\" textLength=\"38\" x=\"53\" y=\"20.7969\">newX</text><rect fill=\"#383838\" height=\"12\" style=\"stroke: #F8F8F8; stroke-width: 1.5;\" width=\"12\" x=\"66\" y=\"36.0986\"/><!--MD5=[1ac921997084f0d621d7de1a82b61ae9]\n",
       "@startuml\r\n",
       "skinparam ranksep 8\r\n",
       "skinparam linetype ortho\r\n",
       "skinparam monochrome true\r\n",
       "skinparam classbackgroundcolor white\r\n",
       "skinparam shadowing false\r\n",
       "skinparam wrapWidth 300\r\n",
       "hide circle\r\n",
       "\r\n",
       "rec def \"setX\" as E1  <<(T,blue)action def>> [[psysml:cbe71c02-e966-4d74-b7c0-f9e238b4431e ]] {\r\n",
       "portin \"c\" as E2  [[psysml:bf3dbcd8-0bef-4e93-82b9-0b5a37397746 ]] \r\n",
       "portin \"newX\" as E3  [[psysml:0934341b-2e16-4f4c-9ea0-e4fb5c660a0a ]] \r\n",
       "}\r\n",
       "\r\n",
       "@enduml\r\n",
       "\n",
       "PlantUML version 1.2020.13(Sat Jun 13 12:26:38 UTC 2020)\n",
       "(EPL source distribution)\n",
       "Java Runtime: OpenJDK Runtime Environment\n",
       "JVM: OpenJDK 64-Bit Server VM\n",
       "Default Encoding: UTF-8\n",
       "Language: en\n",
       "Country: null\n",
       "--></g></svg>"
      ]
     },
     "execution_count": 55,
     "metadata": {},
     "output_type": "execute_result"
    }
   ],
   "source": [
    "%viz --style=\"ORTHOLINE\" --view=\"Action\" \"TextualRepresentationTest\""
   ]
  },
  {
   "cell_type": "code",
   "execution_count": 56,
   "id": "spiritual-director",
   "metadata": {
    "execution": {
     "iopub.execute_input": "2021-03-26T15:43:52.947520Z",
     "iopub.status.busy": "2021-03-26T15:43:52.946754Z",
     "iopub.status.idle": "2021-03-26T15:43:52.997485Z",
     "shell.execute_reply": "2021-03-26T15:43:52.995979Z"
    }
   },
   "outputs": [
    {
     "data": {
      "image/svg+xml": [
       "<?xml version=\"1.0\" encoding=\"UTF-8\" standalone=\"no\"?><svg xmlns=\"http://www.w3.org/2000/svg\" xmlns:xlink=\"http://www.w3.org/1999/xlink\" contentScriptType=\"application/ecmascript\" contentStyleType=\"text/css\" height=\"297px\" preserveAspectRatio=\"none\" style=\"width:290px;height:297px;\" version=\"1.1\" viewBox=\"0 0 290 297\" width=\"290px\" zoomAndPan=\"magnify\"><defs/><g><!--MD5=[fbc87193dbaf4d95561dea2c320d4a47]\n",
       "cluster E1--><a href=\"psysml:13f83e37-e6d2-4a8e-ad71-0c715af430b4\" target=\"_top\" title=\"psysml:13f83e37-e6d2-4a8e-ad71-0c715af430b4\" xlink:actuate=\"onRequest\" xlink:href=\"psysml:13f83e37-e6d2-4a8e-ad71-0c715af430b4\" xlink:show=\"new\" xlink:title=\"psysml:13f83e37-e6d2-4a8e-ad71-0c715af430b4\" xlink:type=\"simple\"><polygon fill=\"#FFFFFF\" points=\"16,6,236,6,243,28.2969,268,28.2969,268,285,16,285,16,6\" style=\"stroke: #000000; stroke-width: 1.5;\"/><line style=\"stroke: #000000; stroke-width: 1.5;\" x1=\"16\" x2=\"243\" y1=\"28.2969\" y2=\"28.2969\"/><text fill=\"#000000\" font-family=\"sans-serif\" font-size=\"14\" font-weight=\"bold\" lengthAdjust=\"spacingAndGlyphs\" textLength=\"214\" x=\"20\" y=\"20.9951\">TextualRepresentationTest</text></a><!--MD5=[b4997ac47864f28c2f74865a473b2911]\n",
       "class E2--><a href=\"psysml:168d8746-881d-4018-9dc0-dced1b8b8eb0\" target=\"_top\" title=\"psysml:168d8746-881d-4018-9dc0-dced1b8b8eb0\" xlink:actuate=\"onRequest\" xlink:href=\"psysml:168d8746-881d-4018-9dc0-dced1b8b8eb0\" xlink:show=\"new\" xlink:title=\"psysml:168d8746-881d-4018-9dc0-dced1b8b8eb0\" xlink:type=\"simple\"><rect fill=\"#FFFFFF\" height=\"45.9375\" id=\"E2\" style=\"stroke: #383838; stroke-width: 1.5;\" width=\"74\" x=\"32\" y=\"193.5\"/><text fill=\"#000000\" font-family=\"sans-serif\" font-size=\"12\" font-style=\"italic\" lengthAdjust=\"spacingAndGlyphs\" textLength=\"72\" x=\"33\" y=\"209.6387\">«dataType»</text><text fill=\"#000000\" font-family=\"sans-serif\" font-size=\"12\" lengthAdjust=\"spacingAndGlyphs\" textLength=\"27\" x=\"55.5\" y=\"223.6074\">Real</text><line style=\"stroke: #383838; stroke-width: 1.5;\" x1=\"33\" x2=\"105\" y1=\"231.4375\" y2=\"231.4375\"/></a><!--MD5=[09b614a08d8cba4a07c9adeb5e0fee81]\n",
       "class E3--><a href=\"psysml:fec9e0ab-8313-4a0b-a62a-09c4083c89fd\" target=\"_top\" title=\"psysml:fec9e0ab-8313-4a0b-a62a-09c4083c89fd\" xlink:actuate=\"onRequest\" xlink:href=\"psysml:fec9e0ab-8313-4a0b-a62a-09c4083c89fd\" xlink:show=\"new\" xlink:title=\"psysml:fec9e0ab-8313-4a0b-a62a-09c4083c89fd\" xlink:type=\"simple\"><rect fill=\"#FFFFFF\" height=\"105.1563\" id=\"E3\" style=\"stroke: #383838; stroke-width: 1.5;\" width=\"111\" x=\"141.5\" y=\"164\"/><text fill=\"#000000\" font-family=\"sans-serif\" font-size=\"12\" font-style=\"italic\" lengthAdjust=\"spacingAndGlyphs\" textLength=\"65\" x=\"164.5\" y=\"180.1387\">«item def»</text><text fill=\"#000000\" font-family=\"sans-serif\" font-size=\"12\" lengthAdjust=\"spacingAndGlyphs\" textLength=\"8\" x=\"193\" y=\"194.1074\">C</text><line style=\"stroke: #383838; stroke-width: 1.5;\" x1=\"142.5\" x2=\"251.5\" y1=\"201.9375\" y2=\"201.9375\"/><text fill=\"#000000\" font-family=\"sans-serif\" font-size=\"11\" lengthAdjust=\"spacingAndGlyphs\" textLength=\"38\" x=\"147.5\" y=\"232.9526\">x: Real</text><line style=\"stroke: #383838; stroke-width: 1.0;\" x1=\"142.5\" x2=\"169.5\" y1=\"216.3398\" y2=\"216.3398\"/><text fill=\"#000000\" font-family=\"sans-serif\" font-size=\"11\" lengthAdjust=\"spacingAndGlyphs\" textLength=\"55\" x=\"169.5\" y=\"219.6479\">attributes</text><line style=\"stroke: #383838; stroke-width: 1.0;\" x1=\"224.5\" x2=\"251.5\" y1=\"216.3398\" y2=\"216.3398\"/><text fill=\"#000000\" font-family=\"sans-serif\" font-size=\"11\" lengthAdjust=\"spacingAndGlyphs\" textLength=\"69\" x=\"147.5\" y=\"262.562\">x_constraint</text><line style=\"stroke: #383838; stroke-width: 1.0;\" x1=\"142.5\" x2=\"145.5\" y1=\"245.9492\" y2=\"245.9492\"/><text fill=\"#000000\" font-family=\"sans-serif\" font-size=\"11\" lengthAdjust=\"spacingAndGlyphs\" textLength=\"103\" x=\"145.5\" y=\"249.2573\">assertConstraints</text><line style=\"stroke: #383838; stroke-width: 1.0;\" x1=\"248.5\" x2=\"251.5\" y1=\"245.9492\" y2=\"245.9492\"/></a><!--MD5=[270fce915f116d4de14055a7c1d9a0f3]\n",
       "class E5--><a href=\"psysml:cbe71c02-e966-4d74-b7c0-f9e238b4431e\" target=\"_top\" title=\"psysml:cbe71c02-e966-4d74-b7c0-f9e238b4431e\" xlink:actuate=\"onRequest\" xlink:href=\"psysml:cbe71c02-e966-4d74-b7c0-f9e238b4431e\" xlink:show=\"new\" xlink:title=\"psysml:cbe71c02-e966-4d74-b7c0-f9e238b4431e\" xlink:type=\"simple\"><rect fill=\"#FFFFFF\" height=\"45.9375\" id=\"E5\" style=\"stroke: #383838; stroke-width: 1.5;\" width=\"79\" x=\"67.5\" y=\"41\"/><text fill=\"#000000\" font-family=\"sans-serif\" font-size=\"12\" font-style=\"italic\" lengthAdjust=\"spacingAndGlyphs\" textLength=\"77\" x=\"68.5\" y=\"57.1387\">«action def»</text><text fill=\"#000000\" font-family=\"sans-serif\" font-size=\"12\" lengthAdjust=\"spacingAndGlyphs\" textLength=\"27\" x=\"93.5\" y=\"71.1074\">setX</text><line style=\"stroke: #383838; stroke-width: 1.5;\" x1=\"68.5\" x2=\"145.5\" y1=\"78.9375\" y2=\"78.9375\"/></a><!--MD5=[6f107eb264eda4b26325f39a5516f1f3]\n",
       "reverse link E5 to E3--><a href=\"psysml:bf3dbcd8-0bef-4e93-82b9-0b5a37397746\" target=\"_top\" title=\"psysml:bf3dbcd8-0bef-4e93-82b9-0b5a37397746\" xlink:actuate=\"onRequest\" xlink:href=\"psysml:bf3dbcd8-0bef-4e93-82b9-0b5a37397746\" xlink:show=\"new\" xlink:title=\"psysml:bf3dbcd8-0bef-4e93-82b9-0b5a37397746\" xlink:type=\"simple\"><path d=\"M123.75,100.27 C123.75,100.27 123.75,179 123.75,179 C123.75,179 131.27,179 141.48,179 \" fill=\"none\" id=\"E5&lt;-E3\" style=\"stroke: #383838; stroke-width: 1.0;\"/><polygon fill=\"#FFFFFF\" points=\"123.75,87.27,119.75,93.27,123.75,99.27,127.75,93.27,123.75,87.27\" style=\"stroke: #383838; stroke-width: 1.0;\"/><text fill=\"#000000\" font-family=\"sans-serif\" font-size=\"13\" lengthAdjust=\"spacingAndGlyphs\" textLength=\"7\" x=\"184\" y=\"130.0669\">c</text></a><!--MD5=[f51c6d1f1856fe338ac0413483fb1ccf]\n",
       "reverse link E5 to E2--><a href=\"psysml:0934341b-2e16-4f4c-9ea0-e4fb5c660a0a\" target=\"_top\" title=\"psysml:0934341b-2e16-4f4c-9ea0-e4fb5c660a0a\" xlink:actuate=\"onRequest\" xlink:href=\"psysml:0934341b-2e16-4f4c-9ea0-e4fb5c660a0a\" xlink:show=\"new\" xlink:title=\"psysml:0934341b-2e16-4f4c-9ea0-e4fb5c660a0a\" xlink:type=\"simple\"><path d=\"M86.75,100.16 C86.75,100.16 86.75,193.12 86.75,193.12 \" fill=\"none\" id=\"E5&lt;-E2\" style=\"stroke: #383838; stroke-width: 1.0;\"/><polygon fill=\"#FFFFFF\" points=\"86.75,87.16,82.75,93.16,86.75,99.16,90.75,93.16,86.75,87.16\" style=\"stroke: #383838; stroke-width: 1.0;\"/><text fill=\"#000000\" font-family=\"sans-serif\" font-size=\"13\" lengthAdjust=\"spacingAndGlyphs\" textLength=\"33\" x=\"83\" y=\"130.0669\">newX</text></a><!--MD5=[a7c4783ad16cabaef6020a641c7e013e]\n",
       "@startuml\r\n",
       "skinparam linetype ortho\r\n",
       "skinparam monochrome true\r\n",
       "skinparam classbackgroundcolor white\r\n",
       "skinparam shadowing false\r\n",
       "skinparam wrapWidth 300\r\n",
       "hide circle\r\n",
       "\r\n",
       "package \"TextualRepresentationTest\" as E1  [[psysml:13f83e37-e6d2-4a8e-ad71-0c715af430b4 ]]  {\r\n",
       "comp def \"Real\" as E2  <<(T,blue)dataType>> [[psysml:168d8746-881d-4018-9dc0-dced1b8b8eb0 ]] {\r\n",
       "}\r\n",
       "comp def \"C\" as E3  <<(T,blue)item def>> [[psysml:fec9e0ab-8313-4a0b-a62a-09c4083c89fd ]] {\r\n",
       "- - attributes - -\r\n",
       "x: Real\r\n",
       "- - assertConstraints - -\r\n",
       "x_constraint\r\n",
       "}\r\n",
       "comp def \"setX\" as E5  <<(T,blue)action def>> [[psysml:cbe71c02-e966-4d74-b7c0-f9e238b4431e ]] {\r\n",
       "}\r\n",
       "E5 o- - E3 [[psysml:bf3dbcd8-0bef-4e93-82b9-0b5a37397746 ]] : c\r\n",
       "E5 o- - E2 [[psysml:0934341b-2e16-4f4c-9ea0-e4fb5c660a0a ]] : newX\r\n",
       "}\r\n",
       "@enduml\r\n",
       "\n",
       "PlantUML version 1.2020.13(Sat Jun 13 12:26:38 UTC 2020)\n",
       "(EPL source distribution)\n",
       "Java Runtime: OpenJDK Runtime Environment\n",
       "JVM: OpenJDK 64-Bit Server VM\n",
       "Default Encoding: UTF-8\n",
       "Language: en\n",
       "Country: null\n",
       "--></g></svg>"
      ]
     },
     "execution_count": 56,
     "metadata": {},
     "output_type": "execute_result"
    }
   ],
   "source": [
    "%viz --style=\"ORTHOLINE\" --view=\"Sequence\" \"TextualRepresentationTest\""
   ]
  },
  {
   "cell_type": "code",
   "execution_count": 57,
   "id": "daily-address",
   "metadata": {
    "execution": {
     "iopub.execute_input": "2021-03-26T15:43:53.047681Z",
     "iopub.status.busy": "2021-03-26T15:43:53.047155Z",
     "iopub.status.idle": "2021-03-26T15:43:53.093581Z",
     "shell.execute_reply": "2021-03-26T15:43:53.091999Z"
    }
   },
   "outputs": [
    {
     "data": {
      "image/svg+xml": [
       "<?xml version=\"1.0\" encoding=\"UTF-8\" standalone=\"no\"?><svg xmlns=\"http://www.w3.org/2000/svg\" xmlns:xlink=\"http://www.w3.org/1999/xlink\" contentScriptType=\"application/ecmascript\" contentStyleType=\"text/css\" height=\"285px\" preserveAspectRatio=\"none\" style=\"width:432px;height:285px;\" version=\"1.1\" viewBox=\"0 0 432 285\" width=\"432px\" zoomAndPan=\"magnify\"><defs/><g><!--MD5=[fbc87193dbaf4d95561dea2c320d4a47]\n",
       "cluster E1--><a href=\"psysml:13f83e37-e6d2-4a8e-ad71-0c715af430b4\" target=\"_top\" title=\"psysml:13f83e37-e6d2-4a8e-ad71-0c715af430b4\" xlink:actuate=\"onRequest\" xlink:href=\"psysml:13f83e37-e6d2-4a8e-ad71-0c715af430b4\" xlink:show=\"new\" xlink:title=\"psysml:13f83e37-e6d2-4a8e-ad71-0c715af430b4\" xlink:type=\"simple\"><polygon fill=\"#FFFFFF\" points=\"16,6,236,6,243,28.2969,410,28.2969,410,273,16,273,16,6\" style=\"stroke: #000000; stroke-width: 1.5;\"/><line style=\"stroke: #000000; stroke-width: 1.5;\" x1=\"16\" x2=\"243\" y1=\"28.2969\" y2=\"28.2969\"/><text fill=\"#000000\" font-family=\"sans-serif\" font-size=\"14\" font-weight=\"bold\" lengthAdjust=\"spacingAndGlyphs\" textLength=\"214\" x=\"20\" y=\"20.9951\">TextualRepresentationTest</text></a><!--MD5=[de5ec2e2e8f62f467e546659f5068c88]\n",
       "cluster E5--><a href=\"psysml:cbe71c02-e966-4d74-b7c0-f9e238b4431e\" target=\"_top\" title=\"psysml:cbe71c02-e966-4d74-b7c0-f9e238b4431e\" xlink:actuate=\"onRequest\" xlink:href=\"psysml:cbe71c02-e966-4d74-b7c0-f9e238b4431e\" xlink:show=\"new\" xlink:title=\"psysml:cbe71c02-e966-4d74-b7c0-f9e238b4431e\" xlink:type=\"simple\"><rect fill=\"#FFFFFF\" height=\"163.5\" id=\"E5\" style=\"stroke: #383838; stroke-width: 1.5;\" width=\"96\" x=\"268.5\" y=\"93.5\"/><rect fill=\"#F8F8F8\" height=\"37.9375\" style=\"stroke: #383838; stroke-width: 1.5;\" width=\"96\" x=\"268.5\" y=\"93.5\"/><text fill=\"#000000\" font-family=\"sans-serif\" font-size=\"12\" font-style=\"italic\" lengthAdjust=\"spacingAndGlyphs\" textLength=\"77\" x=\"278\" y=\"109.6387\">«action def»</text><text fill=\"#000000\" font-family=\"sans-serif\" font-size=\"12\" lengthAdjust=\"spacingAndGlyphs\" textLength=\"27\" x=\"303\" y=\"123.6074\">setX</text></a><!--MD5=[b4997ac47864f28c2f74865a473b2911]\n",
       "class E2--><a href=\"psysml:168d8746-881d-4018-9dc0-dced1b8b8eb0\" target=\"_top\" title=\"psysml:168d8746-881d-4018-9dc0-dced1b8b8eb0\" xlink:actuate=\"onRequest\" xlink:href=\"psysml:168d8746-881d-4018-9dc0-dced1b8b8eb0\" xlink:show=\"new\" xlink:title=\"psysml:168d8746-881d-4018-9dc0-dced1b8b8eb0\" xlink:type=\"simple\"><rect fill=\"#FFFFFF\" height=\"45.9375\" id=\"E2\" style=\"stroke: #383838; stroke-width: 1.5;\" width=\"74\" x=\"178\" y=\"70.5\"/><text fill=\"#000000\" font-family=\"sans-serif\" font-size=\"12\" font-style=\"italic\" lengthAdjust=\"spacingAndGlyphs\" textLength=\"72\" x=\"179\" y=\"86.6387\">«dataType»</text><text fill=\"#000000\" font-family=\"sans-serif\" font-size=\"12\" lengthAdjust=\"spacingAndGlyphs\" textLength=\"27\" x=\"201.5\" y=\"100.6074\">Real</text><line style=\"stroke: #383838; stroke-width: 1.5;\" x1=\"179\" x2=\"251\" y1=\"108.4375\" y2=\"108.4375\"/></a><!--MD5=[09b614a08d8cba4a07c9adeb5e0fee81]\n",
       "class E3--><a href=\"psysml:fec9e0ab-8313-4a0b-a62a-09c4083c89fd\" target=\"_top\" title=\"psysml:fec9e0ab-8313-4a0b-a62a-09c4083c89fd\" xlink:actuate=\"onRequest\" xlink:href=\"psysml:fec9e0ab-8313-4a0b-a62a-09c4083c89fd\" xlink:show=\"new\" xlink:title=\"psysml:fec9e0ab-8313-4a0b-a62a-09c4083c89fd\" xlink:type=\"simple\"><rect fill=\"#FFFFFF\" height=\"105.1563\" id=\"E3\" style=\"stroke: #383838; stroke-width: 1.5;\" width=\"111\" x=\"31.5\" y=\"41\"/><text fill=\"#000000\" font-family=\"sans-serif\" font-size=\"12\" font-style=\"italic\" lengthAdjust=\"spacingAndGlyphs\" textLength=\"65\" x=\"54.5\" y=\"57.1387\">«item def»</text><text fill=\"#000000\" font-family=\"sans-serif\" font-size=\"12\" lengthAdjust=\"spacingAndGlyphs\" textLength=\"8\" x=\"83\" y=\"71.1074\">C</text><line style=\"stroke: #383838; stroke-width: 1.5;\" x1=\"32.5\" x2=\"141.5\" y1=\"78.9375\" y2=\"78.9375\"/><text fill=\"#000000\" font-family=\"sans-serif\" font-size=\"11\" lengthAdjust=\"spacingAndGlyphs\" textLength=\"38\" x=\"37.5\" y=\"109.9526\">x: Real</text><line style=\"stroke: #383838; stroke-width: 1.0;\" x1=\"32.5\" x2=\"59.5\" y1=\"93.3398\" y2=\"93.3398\"/><text fill=\"#000000\" font-family=\"sans-serif\" font-size=\"11\" lengthAdjust=\"spacingAndGlyphs\" textLength=\"55\" x=\"59.5\" y=\"96.6479\">attributes</text><line style=\"stroke: #383838; stroke-width: 1.0;\" x1=\"114.5\" x2=\"141.5\" y1=\"93.3398\" y2=\"93.3398\"/><text fill=\"#000000\" font-family=\"sans-serif\" font-size=\"11\" lengthAdjust=\"spacingAndGlyphs\" textLength=\"69\" x=\"37.5\" y=\"139.562\">x_constraint</text><line style=\"stroke: #383838; stroke-width: 1.0;\" x1=\"32.5\" x2=\"35.5\" y1=\"122.9492\" y2=\"122.9492\"/><text fill=\"#000000\" font-family=\"sans-serif\" font-size=\"11\" lengthAdjust=\"spacingAndGlyphs\" textLength=\"103\" x=\"35.5\" y=\"126.2573\">assertConstraints</text><line style=\"stroke: #383838; stroke-width: 1.0;\" x1=\"138.5\" x2=\"141.5\" y1=\"122.9492\" y2=\"122.9492\"/></a><text fill=\"#000000\" font-family=\"sans-serif\" font-size=\"14\" lengthAdjust=\"spacingAndGlyphs\" textLength=\"8\" x=\"289\" y=\"72.1982\">c</text><rect fill=\"#383838\" height=\"12\" style=\"stroke: #F8F8F8; stroke-width: 1.5;\" width=\"12\" x=\"287\" y=\"87.5\"/><text fill=\"#000000\" font-family=\"sans-serif\" font-size=\"14\" lengthAdjust=\"spacingAndGlyphs\" textLength=\"38\" x=\"321\" y=\"72.1982\">newX</text><rect fill=\"#383838\" height=\"12\" style=\"stroke: #F8F8F8; stroke-width: 1.5;\" width=\"12\" x=\"334\" y=\"87.5\"/><!--MD5=[a3217a64fccf7df4d52483877bcfe872]\n",
       "@startuml\r\n",
       "skinparam linetype ortho\r\n",
       "skinparam monochrome true\r\n",
       "skinparam classbackgroundcolor white\r\n",
       "skinparam shadowing false\r\n",
       "skinparam wrapWidth 300\r\n",
       "hide circle\r\n",
       "\r\n",
       "package \"TextualRepresentationTest\" as E1  [[psysml:13f83e37-e6d2-4a8e-ad71-0c715af430b4 ]]  {\r\n",
       "comp def \"Real\" as E2  <<(T,blue)dataType>> [[psysml:168d8746-881d-4018-9dc0-dced1b8b8eb0 ]] {\r\n",
       "}\r\n",
       "comp def \"C\" as E3  <<(T,blue)item def>> [[psysml:fec9e0ab-8313-4a0b-a62a-09c4083c89fd ]] {\r\n",
       "- - attributes - -\r\n",
       "x: Real\r\n",
       "- - assertConstraints - -\r\n",
       "x_constraint\r\n",
       "}\r\n",
       "rec def \"setX\" as E5  <<(T,blue)action def>> [[psysml:cbe71c02-e966-4d74-b7c0-f9e238b4431e ]] {\r\n",
       "portin \"c\" as E6  [[psysml:bf3dbcd8-0bef-4e93-82b9-0b5a37397746 ]] \r\n",
       "portin \"newX\" as E7  [[psysml:0934341b-2e16-4f4c-9ea0-e4fb5c660a0a ]] \r\n",
       "}\r\n",
       "\r\n",
       "}\r\n",
       "@enduml\r\n",
       "\n",
       "PlantUML version 1.2020.13(Sat Jun 13 12:26:38 UTC 2020)\n",
       "(EPL source distribution)\n",
       "Java Runtime: OpenJDK Runtime Environment\n",
       "JVM: OpenJDK 64-Bit Server VM\n",
       "Default Encoding: UTF-8\n",
       "Language: en\n",
       "Country: null\n",
       "--></g></svg>"
      ]
     },
     "execution_count": 57,
     "metadata": {},
     "output_type": "execute_result"
    }
   ],
   "source": [
    "%viz --style=\"ORTHOLINE\" --view=\"MIXED\" \"TextualRepresentationTest\""
   ]
  }
 ],
 "metadata": {
  "kernelspec": {
   "display_name": "SysML",
   "language": "sysml",
   "name": "sysml"
  },
  "language_info": {
   "codemirror_mode": "sysml",
   "file_extension": ".sysml",
   "mimetype": "text/x-sysml",
   "name": "SysML",
   "pygments_lexer": "java",
   "version": "1.0.0"
  }
 },
 "nbformat": 4,
 "nbformat_minor": 5
}
