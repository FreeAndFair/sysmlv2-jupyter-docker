{
 "cells": [
  {
   "cell_type": "markdown",
   "id": "general-envelope",
   "metadata": {},
   "source": [
    "# SysML v2 Test Suite\n",
    "\n",
    "This can notebook can be cleared using menu `Edit --> Clear All Outputs` and then all cells can be\n",
    "run using menu `Run --> Run All Cells`.\n",
    "\n",
    "**WARNING**: This file is generated, all modifications here will be ignored.\n"
   ]
  },
  {
   "cell_type": "markdown",
   "id": "graphic-tucson",
   "metadata": {},
   "source": [
    "## File: ../../sysml/src/examples/Simple Tests/TextualRepresentationTest.sysml"
   ]
  },
  {
   "cell_type": "code",
   "execution_count": 1,
   "id": "cosmetic-saskatchewan",
   "metadata": {
    "execution": {
     "iopub.execute_input": "2021-03-25T14:18:49.227643Z",
     "iopub.status.busy": "2021-03-25T14:18:49.227103Z",
     "iopub.status.idle": "2021-03-25T14:18:49.484651Z",
     "shell.execute_reply": "2021-03-25T14:18:49.484135Z"
    }
   },
   "outputs": [
    {
     "data": {
      "text/plain": [
       "Package TextualRepresentationTest (86079da7-ee80-4fd8-bc3e-0a35c67f92ec)\n"
      ]
     },
     "execution_count": 1,
     "metadata": {},
     "output_type": "execute_result"
    }
   ],
   "source": [
    "package TextualRepresentationTest {\n",
    "\timport ScalarValues::Real;\n",
    "\t\n",
    "\titem def C {\n",
    "\t    attribute x: Real;\n",
    "\t    assert constraint x_constraint;\n",
    "\t    rep inOCL about x_constraint language \"ocl\" \n",
    "\t        /* self.x > 0.0 */\n",
    "\t}\n",
    "\t\n",
    "\taction def setX(c : C, newX : Real) {\n",
    "\t    language \"alf\" \n",
    "\t        /* c.x = newX;\n",
    "\t         * WriteLine(\"Set new x\");\n",
    "\t         */\n",
    "\t}\n",
    "\t\n",
    "}"
   ]
  },
  {
   "cell_type": "code",
   "execution_count": 2,
   "id": "according-implementation",
   "metadata": {
    "execution": {
     "iopub.execute_input": "2021-03-25T14:18:49.537279Z",
     "iopub.status.busy": "2021-03-25T14:18:49.536835Z",
     "iopub.status.idle": "2021-03-25T14:18:50.741233Z",
     "shell.execute_reply": "2021-03-25T14:18:50.740464Z"
    }
   },
   "outputs": [
    {
     "data": {
      "image/svg+xml": [
       "<?xml version=\"1.0\" encoding=\"UTF-8\" standalone=\"no\"?><svg xmlns=\"http://www.w3.org/2000/svg\" xmlns:xlink=\"http://www.w3.org/1999/xlink\" contentScriptType=\"application/ecmascript\" contentStyleType=\"text/css\" height=\"285px\" preserveAspectRatio=\"none\" style=\"width:432px;height:285px;\" version=\"1.1\" viewBox=\"0 0 432 285\" width=\"432px\" zoomAndPan=\"magnify\"><defs/><g><!--MD5=[fbc87193dbaf4d95561dea2c320d4a47]\n",
       "cluster E1--><a href=\"psysml:64ccfe85-4fdd-4bf0-b3db-5945cd262e15\" target=\"_top\" title=\"psysml:64ccfe85-4fdd-4bf0-b3db-5945cd262e15\" xlink:actuate=\"onRequest\" xlink:href=\"psysml:64ccfe85-4fdd-4bf0-b3db-5945cd262e15\" xlink:show=\"new\" xlink:title=\"psysml:64ccfe85-4fdd-4bf0-b3db-5945cd262e15\" xlink:type=\"simple\"><polygon fill=\"#FFFFFF\" points=\"16,6,236,6,243,28.2969,410,28.2969,410,273,16,273,16,6\" style=\"stroke: #000000; stroke-width: 1.5;\"/><line style=\"stroke: #000000; stroke-width: 1.5;\" x1=\"16\" x2=\"243\" y1=\"28.2969\" y2=\"28.2969\"/><text fill=\"#000000\" font-family=\"sans-serif\" font-size=\"14\" font-weight=\"bold\" lengthAdjust=\"spacingAndGlyphs\" textLength=\"214\" x=\"20\" y=\"20.9951\">TextualRepresentationTest</text></a><!--MD5=[de5ec2e2e8f62f467e546659f5068c88]\n",
       "cluster E5--><a href=\"psysml:8549a337-017f-4e92-9426-82c63ecb1b1e\" target=\"_top\" title=\"psysml:8549a337-017f-4e92-9426-82c63ecb1b1e\" xlink:actuate=\"onRequest\" xlink:href=\"psysml:8549a337-017f-4e92-9426-82c63ecb1b1e\" xlink:show=\"new\" xlink:title=\"psysml:8549a337-017f-4e92-9426-82c63ecb1b1e\" xlink:type=\"simple\"><rect fill=\"#FFFFFF\" height=\"163.5\" id=\"E5\" style=\"stroke: #383838; stroke-width: 1.5;\" width=\"96\" x=\"268.5\" y=\"93.5\"/><rect fill=\"#F8F8F8\" height=\"37.9375\" style=\"stroke: #383838; stroke-width: 1.5;\" width=\"96\" x=\"268.5\" y=\"93.5\"/><text fill=\"#000000\" font-family=\"sans-serif\" font-size=\"12\" font-style=\"italic\" lengthAdjust=\"spacingAndGlyphs\" textLength=\"77\" x=\"278\" y=\"109.6387\">«action def»</text><text fill=\"#000000\" font-family=\"sans-serif\" font-size=\"12\" lengthAdjust=\"spacingAndGlyphs\" textLength=\"27\" x=\"303\" y=\"123.6074\">setX</text></a><!--MD5=[b4997ac47864f28c2f74865a473b2911]\n",
       "class E2--><a href=\"psysml:06125bd0-acad-496e-b065-61f119a09466\" target=\"_top\" title=\"psysml:06125bd0-acad-496e-b065-61f119a09466\" xlink:actuate=\"onRequest\" xlink:href=\"psysml:06125bd0-acad-496e-b065-61f119a09466\" xlink:show=\"new\" xlink:title=\"psysml:06125bd0-acad-496e-b065-61f119a09466\" xlink:type=\"simple\"><rect fill=\"#FFFFFF\" height=\"45.9375\" id=\"E2\" style=\"stroke: #383838; stroke-width: 1.5;\" width=\"74\" x=\"178\" y=\"70.5\"/><text fill=\"#000000\" font-family=\"sans-serif\" font-size=\"12\" font-style=\"italic\" lengthAdjust=\"spacingAndGlyphs\" textLength=\"72\" x=\"179\" y=\"86.6387\">«dataType»</text><text fill=\"#000000\" font-family=\"sans-serif\" font-size=\"12\" lengthAdjust=\"spacingAndGlyphs\" textLength=\"27\" x=\"201.5\" y=\"100.6074\">Real</text><line style=\"stroke: #383838; stroke-width: 1.5;\" x1=\"179\" x2=\"251\" y1=\"108.4375\" y2=\"108.4375\"/></a><!--MD5=[09b614a08d8cba4a07c9adeb5e0fee81]\n",
       "class E3--><a href=\"psysml:57586f80-7065-4509-85b2-20f5f1ea1e4c\" target=\"_top\" title=\"psysml:57586f80-7065-4509-85b2-20f5f1ea1e4c\" xlink:actuate=\"onRequest\" xlink:href=\"psysml:57586f80-7065-4509-85b2-20f5f1ea1e4c\" xlink:show=\"new\" xlink:title=\"psysml:57586f80-7065-4509-85b2-20f5f1ea1e4c\" xlink:type=\"simple\"><rect fill=\"#FFFFFF\" height=\"105.1563\" id=\"E3\" style=\"stroke: #383838; stroke-width: 1.5;\" width=\"111\" x=\"31.5\" y=\"41\"/><text fill=\"#000000\" font-family=\"sans-serif\" font-size=\"12\" font-style=\"italic\" lengthAdjust=\"spacingAndGlyphs\" textLength=\"65\" x=\"54.5\" y=\"57.1387\">«item def»</text><text fill=\"#000000\" font-family=\"sans-serif\" font-size=\"12\" lengthAdjust=\"spacingAndGlyphs\" textLength=\"8\" x=\"83\" y=\"71.1074\">C</text><line style=\"stroke: #383838; stroke-width: 1.5;\" x1=\"32.5\" x2=\"141.5\" y1=\"78.9375\" y2=\"78.9375\"/><text fill=\"#000000\" font-family=\"sans-serif\" font-size=\"11\" lengthAdjust=\"spacingAndGlyphs\" textLength=\"38\" x=\"37.5\" y=\"109.9526\">x: Real</text><line style=\"stroke: #383838; stroke-width: 1.0;\" x1=\"32.5\" x2=\"59.5\" y1=\"93.3398\" y2=\"93.3398\"/><text fill=\"#000000\" font-family=\"sans-serif\" font-size=\"11\" lengthAdjust=\"spacingAndGlyphs\" textLength=\"55\" x=\"59.5\" y=\"96.6479\">attributes</text><line style=\"stroke: #383838; stroke-width: 1.0;\" x1=\"114.5\" x2=\"141.5\" y1=\"93.3398\" y2=\"93.3398\"/><text fill=\"#000000\" font-family=\"sans-serif\" font-size=\"11\" lengthAdjust=\"spacingAndGlyphs\" textLength=\"69\" x=\"37.5\" y=\"139.562\">x_constraint</text><line style=\"stroke: #383838; stroke-width: 1.0;\" x1=\"32.5\" x2=\"35.5\" y1=\"122.9492\" y2=\"122.9492\"/><text fill=\"#000000\" font-family=\"sans-serif\" font-size=\"11\" lengthAdjust=\"spacingAndGlyphs\" textLength=\"103\" x=\"35.5\" y=\"126.2573\">assertConstraints</text><line style=\"stroke: #383838; stroke-width: 1.0;\" x1=\"138.5\" x2=\"141.5\" y1=\"122.9492\" y2=\"122.9492\"/></a><text fill=\"#000000\" font-family=\"sans-serif\" font-size=\"14\" lengthAdjust=\"spacingAndGlyphs\" textLength=\"8\" x=\"289\" y=\"72.1982\">c</text><rect fill=\"#383838\" height=\"12\" style=\"stroke: #F8F8F8; stroke-width: 1.5;\" width=\"12\" x=\"287\" y=\"87.5\"/><text fill=\"#000000\" font-family=\"sans-serif\" font-size=\"14\" lengthAdjust=\"spacingAndGlyphs\" textLength=\"38\" x=\"321\" y=\"72.1982\">newX</text><rect fill=\"#383838\" height=\"12\" style=\"stroke: #F8F8F8; stroke-width: 1.5;\" width=\"12\" x=\"334\" y=\"87.5\"/><!--MD5=[6c6fd6717e9fb20739c71fdfd92d02d3]\n",
       "@startuml\r\n",
       " skinparam monochrome true\r\n",
       "skinparam classbackgroundcolor white\r\n",
       "skinparam shadowing false\r\n",
       "skinparam wrapWidth 300\r\n",
       "hide circle\r\n",
       "\r\n",
       "package \"TextualRepresentationTest\" as E1  [[psysml:64ccfe85-4fdd-4bf0-b3db-5945cd262e15 ]]  {\r\n",
       "comp def \"Real\" as E2  <<(T,blue)dataType>> [[psysml:06125bd0-acad-496e-b065-61f119a09466 ]] {\r\n",
       "}\r\n",
       "comp def \"C\" as E3  <<(T,blue)item def>> [[psysml:57586f80-7065-4509-85b2-20f5f1ea1e4c ]] {\r\n",
       "- - attributes - -\r\n",
       "x: Real\r\n",
       "- - assertConstraints - -\r\n",
       "x_constraint\r\n",
       "}\r\n",
       "rec def \"setX\" as E5  <<(T,blue)action def>> [[psysml:8549a337-017f-4e92-9426-82c63ecb1b1e ]] {\r\n",
       "portin \"c\" as E6  [[psysml:aa76399d-9e78-4ecc-80de-8099ee5899a9 ]] \r\n",
       "portin \"newX\" as E7  [[psysml:3135ebc1-3d3a-4206-9f67-d8c3ceb18c3a ]] \r\n",
       "}\r\n",
       "\r\n",
       "}\r\n",
       "@enduml\r\n",
       "\n",
       "PlantUML version 1.2020.13(Sat Jun 13 12:26:38 UTC 2020)\n",
       "(EPL source distribution)\n",
       "Java Runtime: OpenJDK Runtime Environment\n",
       "JVM: OpenJDK 64-Bit Server VM\n",
       "Default Encoding: UTF-8\n",
       "Language: en\n",
       "Country: null\n",
       "--></g></svg>"
      ]
     },
     "execution_count": 2,
     "metadata": {},
     "output_type": "execute_result"
    }
   ],
   "source": [
    "%viz --style=\"COMPTREE\" --view=\"Default\" \"TextualRepresentationTest\""
   ]
  },
  {
   "cell_type": "code",
   "execution_count": 3,
   "id": "behavioral-carnival",
   "metadata": {
    "execution": {
     "iopub.execute_input": "2021-03-25T14:18:50.793354Z",
     "iopub.status.busy": "2021-03-25T14:18:50.792859Z",
     "iopub.status.idle": "2021-03-25T14:18:51.284020Z",
     "shell.execute_reply": "2021-03-25T14:18:51.283136Z"
    }
   },
   "outputs": [
    {
     "data": {
      "image/svg+xml": [
       "<?xml version=\"1.0\" encoding=\"UTF-8\" standalone=\"no\"?><svg xmlns=\"http://www.w3.org/2000/svg\" xmlns:xlink=\"http://www.w3.org/1999/xlink\" contentScriptType=\"application/ecmascript\" contentStyleType=\"text/css\" height=\"297px\" preserveAspectRatio=\"none\" style=\"width:290px;height:297px;\" version=\"1.1\" viewBox=\"0 0 290 297\" width=\"290px\" zoomAndPan=\"magnify\"><defs/><g><!--MD5=[fbc87193dbaf4d95561dea2c320d4a47]\n",
       "cluster E1--><a href=\"psysml:64ccfe85-4fdd-4bf0-b3db-5945cd262e15\" target=\"_top\" title=\"psysml:64ccfe85-4fdd-4bf0-b3db-5945cd262e15\" xlink:actuate=\"onRequest\" xlink:href=\"psysml:64ccfe85-4fdd-4bf0-b3db-5945cd262e15\" xlink:show=\"new\" xlink:title=\"psysml:64ccfe85-4fdd-4bf0-b3db-5945cd262e15\" xlink:type=\"simple\"><polygon fill=\"#FFFFFF\" points=\"16,6,236,6,243,28.2969,268,28.2969,268,285,16,285,16,6\" style=\"stroke: #000000; stroke-width: 1.5;\"/><line style=\"stroke: #000000; stroke-width: 1.5;\" x1=\"16\" x2=\"243\" y1=\"28.2969\" y2=\"28.2969\"/><text fill=\"#000000\" font-family=\"sans-serif\" font-size=\"14\" font-weight=\"bold\" lengthAdjust=\"spacingAndGlyphs\" textLength=\"214\" x=\"20\" y=\"20.9951\">TextualRepresentationTest</text></a><!--MD5=[b4997ac47864f28c2f74865a473b2911]\n",
       "class E2--><a href=\"psysml:06125bd0-acad-496e-b065-61f119a09466\" target=\"_top\" title=\"psysml:06125bd0-acad-496e-b065-61f119a09466\" xlink:actuate=\"onRequest\" xlink:href=\"psysml:06125bd0-acad-496e-b065-61f119a09466\" xlink:show=\"new\" xlink:title=\"psysml:06125bd0-acad-496e-b065-61f119a09466\" xlink:type=\"simple\"><rect fill=\"#FFFFFF\" height=\"45.9375\" id=\"E2\" style=\"stroke: #383838; stroke-width: 1.5;\" width=\"74\" x=\"32\" y=\"193.5\"/><text fill=\"#000000\" font-family=\"sans-serif\" font-size=\"12\" font-style=\"italic\" lengthAdjust=\"spacingAndGlyphs\" textLength=\"72\" x=\"33\" y=\"209.6387\">«dataType»</text><text fill=\"#000000\" font-family=\"sans-serif\" font-size=\"12\" lengthAdjust=\"spacingAndGlyphs\" textLength=\"27\" x=\"55.5\" y=\"223.6074\">Real</text><line style=\"stroke: #383838; stroke-width: 1.5;\" x1=\"33\" x2=\"105\" y1=\"231.4375\" y2=\"231.4375\"/></a><!--MD5=[09b614a08d8cba4a07c9adeb5e0fee81]\n",
       "class E3--><a href=\"psysml:57586f80-7065-4509-85b2-20f5f1ea1e4c\" target=\"_top\" title=\"psysml:57586f80-7065-4509-85b2-20f5f1ea1e4c\" xlink:actuate=\"onRequest\" xlink:href=\"psysml:57586f80-7065-4509-85b2-20f5f1ea1e4c\" xlink:show=\"new\" xlink:title=\"psysml:57586f80-7065-4509-85b2-20f5f1ea1e4c\" xlink:type=\"simple\"><rect fill=\"#FFFFFF\" height=\"105.1563\" id=\"E3\" style=\"stroke: #383838; stroke-width: 1.5;\" width=\"111\" x=\"141.5\" y=\"164\"/><text fill=\"#000000\" font-family=\"sans-serif\" font-size=\"12\" font-style=\"italic\" lengthAdjust=\"spacingAndGlyphs\" textLength=\"65\" x=\"164.5\" y=\"180.1387\">«item def»</text><text fill=\"#000000\" font-family=\"sans-serif\" font-size=\"12\" lengthAdjust=\"spacingAndGlyphs\" textLength=\"8\" x=\"193\" y=\"194.1074\">C</text><line style=\"stroke: #383838; stroke-width: 1.5;\" x1=\"142.5\" x2=\"251.5\" y1=\"201.9375\" y2=\"201.9375\"/><text fill=\"#000000\" font-family=\"sans-serif\" font-size=\"11\" lengthAdjust=\"spacingAndGlyphs\" textLength=\"38\" x=\"147.5\" y=\"232.9526\">x: Real</text><line style=\"stroke: #383838; stroke-width: 1.0;\" x1=\"142.5\" x2=\"169.5\" y1=\"216.3398\" y2=\"216.3398\"/><text fill=\"#000000\" font-family=\"sans-serif\" font-size=\"11\" lengthAdjust=\"spacingAndGlyphs\" textLength=\"55\" x=\"169.5\" y=\"219.6479\">attributes</text><line style=\"stroke: #383838; stroke-width: 1.0;\" x1=\"224.5\" x2=\"251.5\" y1=\"216.3398\" y2=\"216.3398\"/><text fill=\"#000000\" font-family=\"sans-serif\" font-size=\"11\" lengthAdjust=\"spacingAndGlyphs\" textLength=\"69\" x=\"147.5\" y=\"262.562\">x_constraint</text><line style=\"stroke: #383838; stroke-width: 1.0;\" x1=\"142.5\" x2=\"145.5\" y1=\"245.9492\" y2=\"245.9492\"/><text fill=\"#000000\" font-family=\"sans-serif\" font-size=\"11\" lengthAdjust=\"spacingAndGlyphs\" textLength=\"103\" x=\"145.5\" y=\"249.2573\">assertConstraints</text><line style=\"stroke: #383838; stroke-width: 1.0;\" x1=\"248.5\" x2=\"251.5\" y1=\"245.9492\" y2=\"245.9492\"/></a><!--MD5=[270fce915f116d4de14055a7c1d9a0f3]\n",
       "class E5--><a href=\"psysml:8549a337-017f-4e92-9426-82c63ecb1b1e\" target=\"_top\" title=\"psysml:8549a337-017f-4e92-9426-82c63ecb1b1e\" xlink:actuate=\"onRequest\" xlink:href=\"psysml:8549a337-017f-4e92-9426-82c63ecb1b1e\" xlink:show=\"new\" xlink:title=\"psysml:8549a337-017f-4e92-9426-82c63ecb1b1e\" xlink:type=\"simple\"><rect fill=\"#FFFFFF\" height=\"45.9375\" id=\"E5\" style=\"stroke: #383838; stroke-width: 1.5;\" width=\"79\" x=\"67.5\" y=\"41\"/><text fill=\"#000000\" font-family=\"sans-serif\" font-size=\"12\" font-style=\"italic\" lengthAdjust=\"spacingAndGlyphs\" textLength=\"77\" x=\"68.5\" y=\"57.1387\">«action def»</text><text fill=\"#000000\" font-family=\"sans-serif\" font-size=\"12\" lengthAdjust=\"spacingAndGlyphs\" textLength=\"27\" x=\"93.5\" y=\"71.1074\">setX</text><line style=\"stroke: #383838; stroke-width: 1.5;\" x1=\"68.5\" x2=\"145.5\" y1=\"78.9375\" y2=\"78.9375\"/></a><!--MD5=[6f107eb264eda4b26325f39a5516f1f3]\n",
       "reverse link E5 to E3--><a href=\"psysml:aa76399d-9e78-4ecc-80de-8099ee5899a9\" target=\"_top\" title=\"psysml:aa76399d-9e78-4ecc-80de-8099ee5899a9\" xlink:actuate=\"onRequest\" xlink:href=\"psysml:aa76399d-9e78-4ecc-80de-8099ee5899a9\" xlink:show=\"new\" xlink:title=\"psysml:aa76399d-9e78-4ecc-80de-8099ee5899a9\" xlink:type=\"simple\"><path d=\"M126.98,98.42 C138.48,117.65 153.18,142.22 166.13,163.88 \" fill=\"none\" id=\"E5&lt;-E3\" style=\"stroke: #383838; stroke-width: 1.0;\"/><polygon fill=\"#FFFFFF\" points=\"120.28,87.21,119.9261,94.4124,126.4384,97.5092,126.7923,90.3068,120.28,87.21\" style=\"stroke: #383838; stroke-width: 1.0;\"/><text fill=\"#000000\" font-family=\"sans-serif\" font-size=\"13\" lengthAdjust=\"spacingAndGlyphs\" textLength=\"7\" x=\"147\" y=\"130.0669\">c</text></a><!--MD5=[f51c6d1f1856fe338ac0413483fb1ccf]\n",
       "reverse link E5 to E2--><a href=\"psysml:3135ebc1-3d3a-4206-9f67-d8c3ceb18c3a\" target=\"_top\" title=\"psysml:3135ebc1-3d3a-4206-9f67-d8c3ceb18c3a\" xlink:actuate=\"onRequest\" xlink:href=\"psysml:3135ebc1-3d3a-4206-9f67-d8c3ceb18c3a\" xlink:show=\"new\" xlink:title=\"psysml:3135ebc1-3d3a-4206-9f67-d8c3ceb18c3a\" xlink:type=\"simple\"><path d=\"M98.18,99.93 C90.92,128.69 80.84,168.6 74.63,193.2 \" fill=\"none\" id=\"E5&lt;-E2\" style=\"stroke: #383838; stroke-width: 1.0;\"/><polygon fill=\"#FFFFFF\" points=\"101.39,87.21,96.0413,92.0465,98.4485,98.8439,103.7972,94.0074,101.39,87.21\" style=\"stroke: #383838; stroke-width: 1.0;\"/><text fill=\"#000000\" font-family=\"sans-serif\" font-size=\"13\" lengthAdjust=\"spacingAndGlyphs\" textLength=\"33\" x=\"94\" y=\"130.0669\">newX</text></a><!--MD5=[9b35cf4e4afa5fdb40bde203a5660f6f]\n",
       "@startuml\r\n",
       " skinparam monochrome true\r\n",
       "skinparam classbackgroundcolor white\r\n",
       "skinparam shadowing false\r\n",
       "skinparam wrapWidth 300\r\n",
       "hide circle\r\n",
       "\r\n",
       "package \"TextualRepresentationTest\" as E1  [[psysml:64ccfe85-4fdd-4bf0-b3db-5945cd262e15 ]]  {\r\n",
       "comp def \"Real\" as E2  <<(T,blue)dataType>> [[psysml:06125bd0-acad-496e-b065-61f119a09466 ]] {\r\n",
       "}\r\n",
       "comp def \"C\" as E3  <<(T,blue)item def>> [[psysml:57586f80-7065-4509-85b2-20f5f1ea1e4c ]] {\r\n",
       "- - attributes - -\r\n",
       "x: Real\r\n",
       "- - assertConstraints - -\r\n",
       "x_constraint\r\n",
       "}\r\n",
       "comp def \"setX\" as E5  <<(T,blue)action def>> [[psysml:8549a337-017f-4e92-9426-82c63ecb1b1e ]] {\r\n",
       "}\r\n",
       "E5 o- - E3 [[psysml:aa76399d-9e78-4ecc-80de-8099ee5899a9 ]] : c\r\n",
       "E5 o- - E2 [[psysml:3135ebc1-3d3a-4206-9f67-d8c3ceb18c3a ]] : newX\r\n",
       "}\r\n",
       "@enduml\r\n",
       "\n",
       "PlantUML version 1.2020.13(Sat Jun 13 12:26:38 UTC 2020)\n",
       "(EPL source distribution)\n",
       "Java Runtime: OpenJDK Runtime Environment\n",
       "JVM: OpenJDK 64-Bit Server VM\n",
       "Default Encoding: UTF-8\n",
       "Language: en\n",
       "Country: null\n",
       "--></g></svg>"
      ]
     },
     "execution_count": 3,
     "metadata": {},
     "output_type": "execute_result"
    }
   ],
   "source": [
    "%viz --style=\"COMPTREE\" --view=\"Tree\" \"TextualRepresentationTest\""
   ]
  },
  {
   "cell_type": "code",
   "execution_count": 4,
   "id": "departmental-campaign",
   "metadata": {
    "execution": {
     "iopub.execute_input": "2021-03-25T14:18:51.337211Z",
     "iopub.status.busy": "2021-03-25T14:18:51.336561Z",
     "iopub.status.idle": "2021-03-25T14:18:51.348427Z",
     "shell.execute_reply": "2021-03-25T14:18:51.349007Z"
    }
   },
   "outputs": [
    {
     "data": {
      "image/svg+xml": [
       "<?xml version=\"1.0\" encoding=\"UTF-8\" standalone=\"no\"?><svg xmlns=\"http://www.w3.org/2000/svg\" xmlns:xlink=\"http://www.w3.org/1999/xlink\" contentScriptType=\"application/ecmascript\" contentStyleType=\"text/css\" height=\"12px\" preserveAspectRatio=\"none\" style=\"width:12px;height:12px;\" version=\"1.1\" viewBox=\"0 0 12 12\" width=\"12px\" zoomAndPan=\"magnify\"><defs/><g><!--MD5=[f19188ef49e11757b5c46753f95d9edc]\n",
       "@startuml\r\n",
       " skinparam monochrome true\r\n",
       "skinparam classbackgroundcolor white\r\n",
       "skinparam shadowing false\r\n",
       "skinparam wrapWidth 300\r\n",
       "hide circle\r\n",
       "\r\n",
       "@enduml\r\n",
       "\n",
       "PlantUML version 1.2020.13(Sat Jun 13 12:26:38 UTC 2020)\n",
       "(EPL source distribution)\n",
       "Java Runtime: OpenJDK Runtime Environment\n",
       "JVM: OpenJDK 64-Bit Server VM\n",
       "Default Encoding: UTF-8\n",
       "Language: en\n",
       "Country: null\n",
       "--></g></svg>"
      ]
     },
     "execution_count": 4,
     "metadata": {},
     "output_type": "execute_result"
    }
   ],
   "source": [
    "%viz --style=\"COMPTREE\" --view=\"State\" \"TextualRepresentationTest\""
   ]
  },
  {
   "cell_type": "code",
   "execution_count": 5,
   "id": "legitimate-thousand",
   "metadata": {
    "execution": {
     "iopub.execute_input": "2021-03-25T14:18:51.401831Z",
     "iopub.status.busy": "2021-03-25T14:18:51.401283Z",
     "iopub.status.idle": "2021-03-25T14:18:51.508977Z",
     "shell.execute_reply": "2021-03-25T14:18:51.509571Z"
    }
   },
   "outputs": [
    {
     "data": {
      "image/svg+xml": [
       "<?xml version=\"1.0\" encoding=\"UTF-8\" standalone=\"no\"?><svg xmlns=\"http://www.w3.org/2000/svg\" xmlns:xlink=\"http://www.w3.org/1999/xlink\" contentScriptType=\"application/ecmascript\" contentStyleType=\"text/css\" height=\"179px\" preserveAspectRatio=\"none\" style=\"width:398px;height:179px;\" version=\"1.1\" viewBox=\"0 0 398 179\" width=\"398px\" zoomAndPan=\"magnify\"><defs/><g><!--MD5=[fbc87193dbaf4d95561dea2c320d4a47]\n",
       "cluster E1--><a href=\"psysml:64ccfe85-4fdd-4bf0-b3db-5945cd262e15\" target=\"_top\" title=\"psysml:64ccfe85-4fdd-4bf0-b3db-5945cd262e15\" xlink:actuate=\"onRequest\" xlink:href=\"psysml:64ccfe85-4fdd-4bf0-b3db-5945cd262e15\" xlink:show=\"new\" xlink:title=\"psysml:64ccfe85-4fdd-4bf0-b3db-5945cd262e15\" xlink:type=\"simple\"><polygon fill=\"#FFFFFF\" points=\"16,6,236,6,243,28.2969,376,28.2969,376,167,16,167,16,6\" style=\"stroke: #000000; stroke-width: 1.5;\"/><line style=\"stroke: #000000; stroke-width: 1.5;\" x1=\"16\" x2=\"243\" y1=\"28.2969\" y2=\"28.2969\"/><text fill=\"#000000\" font-family=\"sans-serif\" font-size=\"14\" font-weight=\"bold\" lengthAdjust=\"spacingAndGlyphs\" textLength=\"214\" x=\"20\" y=\"20.9951\">TextualRepresentationTest</text></a><!--MD5=[f6df4d0ebaf0b5dfb2ced0ae5af7c670]\n",
       "cluster E4--><a href=\"psysml:8549a337-017f-4e92-9426-82c63ecb1b1e\" target=\"_top\" title=\"psysml:8549a337-017f-4e92-9426-82c63ecb1b1e\" xlink:actuate=\"onRequest\" xlink:href=\"psysml:8549a337-017f-4e92-9426-82c63ecb1b1e\" xlink:show=\"new\" xlink:title=\"psysml:8549a337-017f-4e92-9426-82c63ecb1b1e\" xlink:type=\"simple\"><rect fill=\"#FFFFFF\" height=\"88.5\" id=\"E4\" style=\"stroke: #383838; stroke-width: 1.5;\" width=\"96\" x=\"235.5\" y=\"62.5\"/><rect fill=\"#F8F8F8\" height=\"37.9375\" style=\"stroke: #383838; stroke-width: 1.5;\" width=\"96\" x=\"235.5\" y=\"62.5\"/><text fill=\"#000000\" font-family=\"sans-serif\" font-size=\"12\" font-style=\"italic\" lengthAdjust=\"spacingAndGlyphs\" textLength=\"77\" x=\"245\" y=\"78.6387\">«action def»</text><text fill=\"#000000\" font-family=\"sans-serif\" font-size=\"12\" lengthAdjust=\"spacingAndGlyphs\" textLength=\"27\" x=\"270\" y=\"92.6074\">setX</text></a><g id=\"E1.E2\"><a href=\"psysml:06125bd0-acad-496e-b065-61f119a09466\" target=\"_top\" title=\"psysml:06125bd0-acad-496e-b065-61f119a09466\" xlink:actuate=\"onRequest\" xlink:href=\"psysml:06125bd0-acad-496e-b065-61f119a09466\" xlink:show=\"new\" xlink:title=\"psysml:06125bd0-acad-496e-b065-61f119a09466\" xlink:type=\"simple\"><rect fill=\"#FFFFFF\" height=\"42.9375\" id=\"E2\" style=\"stroke: #383838; stroke-width: 1.5;\" width=\"79\" x=\"139.5\" y=\"41\"/><rect fill=\"#F8F8F8\" height=\"37.9375\" style=\"stroke: #383838; stroke-width: 1.5;\" width=\"79\" x=\"139.5\" y=\"41\"/><text fill=\"#000000\" font-family=\"sans-serif\" font-size=\"12\" font-style=\"italic\" lengthAdjust=\"spacingAndGlyphs\" textLength=\"72\" x=\"143\" y=\"57.1387\">«dataType»</text><text fill=\"#000000\" font-family=\"sans-serif\" font-size=\"12\" lengthAdjust=\"spacingAndGlyphs\" textLength=\"27\" x=\"165.5\" y=\"71.1074\">Real</text></a></g><g id=\"E1.E3\"><a href=\"psysml:57586f80-7065-4509-85b2-20f5f1ea1e4c\" target=\"_top\" title=\"psysml:57586f80-7065-4509-85b2-20f5f1ea1e4c\" xlink:actuate=\"onRequest\" xlink:href=\"psysml:57586f80-7065-4509-85b2-20f5f1ea1e4c\" xlink:show=\"new\" xlink:title=\"psysml:57586f80-7065-4509-85b2-20f5f1ea1e4c\" xlink:type=\"simple\"><rect fill=\"#FFFFFF\" height=\"42.9375\" id=\"E3\" style=\"stroke: #383838; stroke-width: 1.5;\" width=\"72\" x=\"32\" y=\"41\"/><rect fill=\"#F8F8F8\" height=\"37.9375\" style=\"stroke: #383838; stroke-width: 1.5;\" width=\"72\" x=\"32\" y=\"41\"/><text fill=\"#000000\" font-family=\"sans-serif\" font-size=\"12\" font-style=\"italic\" lengthAdjust=\"spacingAndGlyphs\" textLength=\"65\" x=\"35.5\" y=\"57.1387\">«item def»</text><text fill=\"#000000\" font-family=\"sans-serif\" font-size=\"12\" lengthAdjust=\"spacingAndGlyphs\" textLength=\"8\" x=\"64\" y=\"71.1074\">C</text></a></g><text fill=\"#000000\" font-family=\"sans-serif\" font-size=\"14\" lengthAdjust=\"spacingAndGlyphs\" textLength=\"8\" x=\"256\" y=\"41.1982\">c</text><rect fill=\"#383838\" height=\"12\" style=\"stroke: #F8F8F8; stroke-width: 1.5;\" width=\"12\" x=\"254\" y=\"56.5\"/><text fill=\"#000000\" font-family=\"sans-serif\" font-size=\"14\" lengthAdjust=\"spacingAndGlyphs\" textLength=\"38\" x=\"288\" y=\"41.1982\">newX</text><rect fill=\"#383838\" height=\"12\" style=\"stroke: #F8F8F8; stroke-width: 1.5;\" width=\"12\" x=\"301\" y=\"56.5\"/><!--MD5=[2694c78f64b7a05f9eab34e7532edf60]\n",
       "@startuml\r\n",
       "skinparam ranksep 10\r\n",
       "skinparam rectangle {\r\n",
       " backgroundColor<<block>> LightGreen\r\n",
       "}\r\n",
       " skinparam monochrome true\r\n",
       "skinparam classbackgroundcolor white\r\n",
       "skinparam shadowing false\r\n",
       "skinparam wrapWidth 300\r\n",
       "hide circle\r\n",
       "\r\n",
       "package \"TextualRepresentationTest\" as E1  [[psysml:64ccfe85-4fdd-4bf0-b3db-5945cd262e15 ]]  {\r\n",
       "def \"Real\" as E2  <<(T,blue)dataType>> [[psysml:06125bd0-acad-496e-b065-61f119a09466 ]] \r\n",
       "def \"C\" as E3  <<(T,blue)item def>> [[psysml:57586f80-7065-4509-85b2-20f5f1ea1e4c ]] \r\n",
       "rec def \"setX\" as E4  <<(T,blue)action def>> [[psysml:8549a337-017f-4e92-9426-82c63ecb1b1e ]] {\r\n",
       "portin \"c\" as E5  [[psysml:aa76399d-9e78-4ecc-80de-8099ee5899a9 ]] \r\n",
       "portin \"newX\" as E6  [[psysml:3135ebc1-3d3a-4206-9f67-d8c3ceb18c3a ]] \r\n",
       "}\r\n",
       "\r\n",
       "}\r\n",
       "@enduml\r\n",
       "\n",
       "PlantUML version 1.2020.13(Sat Jun 13 12:26:38 UTC 2020)\n",
       "(EPL source distribution)\n",
       "Java Runtime: OpenJDK Runtime Environment\n",
       "JVM: OpenJDK 64-Bit Server VM\n",
       "Default Encoding: UTF-8\n",
       "Language: en\n",
       "Country: null\n",
       "--></g></svg>"
      ]
     },
     "execution_count": 5,
     "metadata": {},
     "output_type": "execute_result"
    }
   ],
   "source": [
    "%viz --style=\"COMPTREE\" --view=\"Interconnection\" \"TextualRepresentationTest\""
   ]
  },
  {
   "cell_type": "code",
   "execution_count": 6,
   "id": "first-hearts",
   "metadata": {
    "execution": {
     "iopub.execute_input": "2021-03-25T14:18:51.560866Z",
     "iopub.status.busy": "2021-03-25T14:18:51.560336Z",
     "iopub.status.idle": "2021-03-25T14:18:51.632457Z",
     "shell.execute_reply": "2021-03-25T14:18:51.633437Z"
    }
   },
   "outputs": [
    {
     "data": {
      "image/svg+xml": [
       "<?xml version=\"1.0\" encoding=\"UTF-8\" standalone=\"no\"?><svg xmlns=\"http://www.w3.org/2000/svg\" xmlns:xlink=\"http://www.w3.org/1999/xlink\" contentScriptType=\"application/ecmascript\" contentStyleType=\"text/css\" height=\"126px\" preserveAspectRatio=\"none\" style=\"width:150px;height:126px;\" version=\"1.1\" viewBox=\"0 0 150 126\" width=\"150px\" zoomAndPan=\"magnify\"><defs/><g><!--MD5=[fbc87193dbaf4d95561dea2c320d4a47]\n",
       "cluster E1--><a href=\"psysml:8549a337-017f-4e92-9426-82c63ecb1b1e\" target=\"_top\" title=\"psysml:8549a337-017f-4e92-9426-82c63ecb1b1e\" xlink:actuate=\"onRequest\" xlink:href=\"psysml:8549a337-017f-4e92-9426-82c63ecb1b1e\" xlink:show=\"new\" xlink:title=\"psysml:8549a337-017f-4e92-9426-82c63ecb1b1e\" xlink:type=\"simple\"><rect fill=\"#FFFFFF\" height=\"73\" id=\"E1\" style=\"stroke: #383838; stroke-width: 1.5;\" width=\"132\" x=\"7\" y=\"42.0986\"/><rect fill=\"#F8F8F8\" height=\"37.9375\" style=\"stroke: #383838; stroke-width: 1.5;\" width=\"132\" x=\"7\" y=\"42.0986\"/><text fill=\"#000000\" font-family=\"sans-serif\" font-size=\"12\" font-style=\"italic\" lengthAdjust=\"spacingAndGlyphs\" textLength=\"77\" x=\"34.5\" y=\"58.2373\">«action def»</text><text fill=\"#000000\" font-family=\"sans-serif\" font-size=\"12\" lengthAdjust=\"spacingAndGlyphs\" textLength=\"27\" x=\"59.5\" y=\"72.2061\">setX</text></a><text fill=\"#000000\" font-family=\"sans-serif\" font-size=\"14\" lengthAdjust=\"spacingAndGlyphs\" textLength=\"8\" x=\"21\" y=\"20.7969\">c</text><rect fill=\"#383838\" height=\"12\" style=\"stroke: #F8F8F8; stroke-width: 1.5;\" width=\"12\" x=\"19\" y=\"36.0986\"/><text fill=\"#000000\" font-family=\"sans-serif\" font-size=\"14\" lengthAdjust=\"spacingAndGlyphs\" textLength=\"38\" x=\"53\" y=\"20.7969\">newX</text><rect fill=\"#383838\" height=\"12\" style=\"stroke: #F8F8F8; stroke-width: 1.5;\" width=\"12\" x=\"66\" y=\"36.0986\"/><!--MD5=[1a90eda3fe371443a0e7b0bc9f927809]\n",
       "@startuml\r\n",
       "skinparam ranksep 8\r\n",
       " skinparam monochrome true\r\n",
       "skinparam classbackgroundcolor white\r\n",
       "skinparam shadowing false\r\n",
       "skinparam wrapWidth 300\r\n",
       "hide circle\r\n",
       "\r\n",
       "rec def \"setX\" as E1  <<(T,blue)action def>> [[psysml:8549a337-017f-4e92-9426-82c63ecb1b1e ]] {\r\n",
       "portin \"c\" as E2  [[psysml:aa76399d-9e78-4ecc-80de-8099ee5899a9 ]] \r\n",
       "portin \"newX\" as E3  [[psysml:3135ebc1-3d3a-4206-9f67-d8c3ceb18c3a ]] \r\n",
       "}\r\n",
       "\r\n",
       "@enduml\r\n",
       "\n",
       "PlantUML version 1.2020.13(Sat Jun 13 12:26:38 UTC 2020)\n",
       "(EPL source distribution)\n",
       "Java Runtime: OpenJDK Runtime Environment\n",
       "JVM: OpenJDK 64-Bit Server VM\n",
       "Default Encoding: UTF-8\n",
       "Language: en\n",
       "Country: null\n",
       "--></g></svg>"
      ]
     },
     "execution_count": 6,
     "metadata": {},
     "output_type": "execute_result"
    }
   ],
   "source": [
    "%viz --style=\"COMPTREE\" --view=\"Action\" \"TextualRepresentationTest\""
   ]
  },
  {
   "cell_type": "code",
   "execution_count": 7,
   "id": "analyzed-trailer",
   "metadata": {
    "execution": {
     "iopub.execute_input": "2021-03-25T14:18:51.683369Z",
     "iopub.status.busy": "2021-03-25T14:18:51.682692Z",
     "iopub.status.idle": "2021-03-25T14:18:52.141215Z",
     "shell.execute_reply": "2021-03-25T14:18:52.139922Z"
    }
   },
   "outputs": [
    {
     "data": {
      "image/svg+xml": [
       "<?xml version=\"1.0\" encoding=\"UTF-8\" standalone=\"no\"?><svg xmlns=\"http://www.w3.org/2000/svg\" xmlns:xlink=\"http://www.w3.org/1999/xlink\" contentScriptType=\"application/ecmascript\" contentStyleType=\"text/css\" height=\"297px\" preserveAspectRatio=\"none\" style=\"width:290px;height:297px;\" version=\"1.1\" viewBox=\"0 0 290 297\" width=\"290px\" zoomAndPan=\"magnify\"><defs/><g><!--MD5=[fbc87193dbaf4d95561dea2c320d4a47]\n",
       "cluster E1--><a href=\"psysml:64ccfe85-4fdd-4bf0-b3db-5945cd262e15\" target=\"_top\" title=\"psysml:64ccfe85-4fdd-4bf0-b3db-5945cd262e15\" xlink:actuate=\"onRequest\" xlink:href=\"psysml:64ccfe85-4fdd-4bf0-b3db-5945cd262e15\" xlink:show=\"new\" xlink:title=\"psysml:64ccfe85-4fdd-4bf0-b3db-5945cd262e15\" xlink:type=\"simple\"><polygon fill=\"#FFFFFF\" points=\"16,6,236,6,243,28.2969,268,28.2969,268,285,16,285,16,6\" style=\"stroke: #000000; stroke-width: 1.5;\"/><line style=\"stroke: #000000; stroke-width: 1.5;\" x1=\"16\" x2=\"243\" y1=\"28.2969\" y2=\"28.2969\"/><text fill=\"#000000\" font-family=\"sans-serif\" font-size=\"14\" font-weight=\"bold\" lengthAdjust=\"spacingAndGlyphs\" textLength=\"214\" x=\"20\" y=\"20.9951\">TextualRepresentationTest</text></a><!--MD5=[b4997ac47864f28c2f74865a473b2911]\n",
       "class E2--><a href=\"psysml:06125bd0-acad-496e-b065-61f119a09466\" target=\"_top\" title=\"psysml:06125bd0-acad-496e-b065-61f119a09466\" xlink:actuate=\"onRequest\" xlink:href=\"psysml:06125bd0-acad-496e-b065-61f119a09466\" xlink:show=\"new\" xlink:title=\"psysml:06125bd0-acad-496e-b065-61f119a09466\" xlink:type=\"simple\"><rect fill=\"#FFFFFF\" height=\"45.9375\" id=\"E2\" style=\"stroke: #383838; stroke-width: 1.5;\" width=\"74\" x=\"32\" y=\"193.5\"/><text fill=\"#000000\" font-family=\"sans-serif\" font-size=\"12\" font-style=\"italic\" lengthAdjust=\"spacingAndGlyphs\" textLength=\"72\" x=\"33\" y=\"209.6387\">«dataType»</text><text fill=\"#000000\" font-family=\"sans-serif\" font-size=\"12\" lengthAdjust=\"spacingAndGlyphs\" textLength=\"27\" x=\"55.5\" y=\"223.6074\">Real</text><line style=\"stroke: #383838; stroke-width: 1.5;\" x1=\"33\" x2=\"105\" y1=\"231.4375\" y2=\"231.4375\"/></a><!--MD5=[09b614a08d8cba4a07c9adeb5e0fee81]\n",
       "class E3--><a href=\"psysml:57586f80-7065-4509-85b2-20f5f1ea1e4c\" target=\"_top\" title=\"psysml:57586f80-7065-4509-85b2-20f5f1ea1e4c\" xlink:actuate=\"onRequest\" xlink:href=\"psysml:57586f80-7065-4509-85b2-20f5f1ea1e4c\" xlink:show=\"new\" xlink:title=\"psysml:57586f80-7065-4509-85b2-20f5f1ea1e4c\" xlink:type=\"simple\"><rect fill=\"#FFFFFF\" height=\"105.1563\" id=\"E3\" style=\"stroke: #383838; stroke-width: 1.5;\" width=\"111\" x=\"141.5\" y=\"164\"/><text fill=\"#000000\" font-family=\"sans-serif\" font-size=\"12\" font-style=\"italic\" lengthAdjust=\"spacingAndGlyphs\" textLength=\"65\" x=\"164.5\" y=\"180.1387\">«item def»</text><text fill=\"#000000\" font-family=\"sans-serif\" font-size=\"12\" lengthAdjust=\"spacingAndGlyphs\" textLength=\"8\" x=\"193\" y=\"194.1074\">C</text><line style=\"stroke: #383838; stroke-width: 1.5;\" x1=\"142.5\" x2=\"251.5\" y1=\"201.9375\" y2=\"201.9375\"/><text fill=\"#000000\" font-family=\"sans-serif\" font-size=\"11\" lengthAdjust=\"spacingAndGlyphs\" textLength=\"38\" x=\"147.5\" y=\"232.9526\">x: Real</text><line style=\"stroke: #383838; stroke-width: 1.0;\" x1=\"142.5\" x2=\"169.5\" y1=\"216.3398\" y2=\"216.3398\"/><text fill=\"#000000\" font-family=\"sans-serif\" font-size=\"11\" lengthAdjust=\"spacingAndGlyphs\" textLength=\"55\" x=\"169.5\" y=\"219.6479\">attributes</text><line style=\"stroke: #383838; stroke-width: 1.0;\" x1=\"224.5\" x2=\"251.5\" y1=\"216.3398\" y2=\"216.3398\"/><text fill=\"#000000\" font-family=\"sans-serif\" font-size=\"11\" lengthAdjust=\"spacingAndGlyphs\" textLength=\"69\" x=\"147.5\" y=\"262.562\">x_constraint</text><line style=\"stroke: #383838; stroke-width: 1.0;\" x1=\"142.5\" x2=\"145.5\" y1=\"245.9492\" y2=\"245.9492\"/><text fill=\"#000000\" font-family=\"sans-serif\" font-size=\"11\" lengthAdjust=\"spacingAndGlyphs\" textLength=\"103\" x=\"145.5\" y=\"249.2573\">assertConstraints</text><line style=\"stroke: #383838; stroke-width: 1.0;\" x1=\"248.5\" x2=\"251.5\" y1=\"245.9492\" y2=\"245.9492\"/></a><!--MD5=[270fce915f116d4de14055a7c1d9a0f3]\n",
       "class E5--><a href=\"psysml:8549a337-017f-4e92-9426-82c63ecb1b1e\" target=\"_top\" title=\"psysml:8549a337-017f-4e92-9426-82c63ecb1b1e\" xlink:actuate=\"onRequest\" xlink:href=\"psysml:8549a337-017f-4e92-9426-82c63ecb1b1e\" xlink:show=\"new\" xlink:title=\"psysml:8549a337-017f-4e92-9426-82c63ecb1b1e\" xlink:type=\"simple\"><rect fill=\"#FFFFFF\" height=\"45.9375\" id=\"E5\" style=\"stroke: #383838; stroke-width: 1.5;\" width=\"79\" x=\"67.5\" y=\"41\"/><text fill=\"#000000\" font-family=\"sans-serif\" font-size=\"12\" font-style=\"italic\" lengthAdjust=\"spacingAndGlyphs\" textLength=\"77\" x=\"68.5\" y=\"57.1387\">«action def»</text><text fill=\"#000000\" font-family=\"sans-serif\" font-size=\"12\" lengthAdjust=\"spacingAndGlyphs\" textLength=\"27\" x=\"93.5\" y=\"71.1074\">setX</text><line style=\"stroke: #383838; stroke-width: 1.5;\" x1=\"68.5\" x2=\"145.5\" y1=\"78.9375\" y2=\"78.9375\"/></a><!--MD5=[6f107eb264eda4b26325f39a5516f1f3]\n",
       "reverse link E5 to E3--><a href=\"psysml:aa76399d-9e78-4ecc-80de-8099ee5899a9\" target=\"_top\" title=\"psysml:aa76399d-9e78-4ecc-80de-8099ee5899a9\" xlink:actuate=\"onRequest\" xlink:href=\"psysml:aa76399d-9e78-4ecc-80de-8099ee5899a9\" xlink:show=\"new\" xlink:title=\"psysml:aa76399d-9e78-4ecc-80de-8099ee5899a9\" xlink:type=\"simple\"><path d=\"M126.98,98.42 C138.48,117.65 153.18,142.22 166.13,163.88 \" fill=\"none\" id=\"E5&lt;-E3\" style=\"stroke: #383838; stroke-width: 1.0;\"/><polygon fill=\"#FFFFFF\" points=\"120.28,87.21,119.9261,94.4124,126.4384,97.5092,126.7923,90.3068,120.28,87.21\" style=\"stroke: #383838; stroke-width: 1.0;\"/><text fill=\"#000000\" font-family=\"sans-serif\" font-size=\"13\" lengthAdjust=\"spacingAndGlyphs\" textLength=\"7\" x=\"147\" y=\"130.0669\">c</text></a><!--MD5=[f51c6d1f1856fe338ac0413483fb1ccf]\n",
       "reverse link E5 to E2--><a href=\"psysml:3135ebc1-3d3a-4206-9f67-d8c3ceb18c3a\" target=\"_top\" title=\"psysml:3135ebc1-3d3a-4206-9f67-d8c3ceb18c3a\" xlink:actuate=\"onRequest\" xlink:href=\"psysml:3135ebc1-3d3a-4206-9f67-d8c3ceb18c3a\" xlink:show=\"new\" xlink:title=\"psysml:3135ebc1-3d3a-4206-9f67-d8c3ceb18c3a\" xlink:type=\"simple\"><path d=\"M98.18,99.93 C90.92,128.69 80.84,168.6 74.63,193.2 \" fill=\"none\" id=\"E5&lt;-E2\" style=\"stroke: #383838; stroke-width: 1.0;\"/><polygon fill=\"#FFFFFF\" points=\"101.39,87.21,96.0413,92.0465,98.4485,98.8439,103.7972,94.0074,101.39,87.21\" style=\"stroke: #383838; stroke-width: 1.0;\"/><text fill=\"#000000\" font-family=\"sans-serif\" font-size=\"13\" lengthAdjust=\"spacingAndGlyphs\" textLength=\"33\" x=\"94\" y=\"130.0669\">newX</text></a><!--MD5=[9b35cf4e4afa5fdb40bde203a5660f6f]\n",
       "@startuml\r\n",
       " skinparam monochrome true\r\n",
       "skinparam classbackgroundcolor white\r\n",
       "skinparam shadowing false\r\n",
       "skinparam wrapWidth 300\r\n",
       "hide circle\r\n",
       "\r\n",
       "package \"TextualRepresentationTest\" as E1  [[psysml:64ccfe85-4fdd-4bf0-b3db-5945cd262e15 ]]  {\r\n",
       "comp def \"Real\" as E2  <<(T,blue)dataType>> [[psysml:06125bd0-acad-496e-b065-61f119a09466 ]] {\r\n",
       "}\r\n",
       "comp def \"C\" as E3  <<(T,blue)item def>> [[psysml:57586f80-7065-4509-85b2-20f5f1ea1e4c ]] {\r\n",
       "- - attributes - -\r\n",
       "x: Real\r\n",
       "- - assertConstraints - -\r\n",
       "x_constraint\r\n",
       "}\r\n",
       "comp def \"setX\" as E5  <<(T,blue)action def>> [[psysml:8549a337-017f-4e92-9426-82c63ecb1b1e ]] {\r\n",
       "}\r\n",
       "E5 o- - E3 [[psysml:aa76399d-9e78-4ecc-80de-8099ee5899a9 ]] : c\r\n",
       "E5 o- - E2 [[psysml:3135ebc1-3d3a-4206-9f67-d8c3ceb18c3a ]] : newX\r\n",
       "}\r\n",
       "@enduml\r\n",
       "\n",
       "PlantUML version 1.2020.13(Sat Jun 13 12:26:38 UTC 2020)\n",
       "(EPL source distribution)\n",
       "Java Runtime: OpenJDK Runtime Environment\n",
       "JVM: OpenJDK 64-Bit Server VM\n",
       "Default Encoding: UTF-8\n",
       "Language: en\n",
       "Country: null\n",
       "--></g></svg>"
      ]
     },
     "execution_count": 7,
     "metadata": {},
     "output_type": "execute_result"
    }
   ],
   "source": [
    "%viz --style=\"COMPTREE\" --view=\"Sequence\" \"TextualRepresentationTest\""
   ]
  },
  {
   "cell_type": "code",
   "execution_count": 8,
   "id": "starting-peace",
   "metadata": {
    "execution": {
     "iopub.execute_input": "2021-03-25T14:18:52.193058Z",
     "iopub.status.busy": "2021-03-25T14:18:52.191842Z",
     "iopub.status.idle": "2021-03-25T14:18:52.652274Z",
     "shell.execute_reply": "2021-03-25T14:18:52.652703Z"
    }
   },
   "outputs": [
    {
     "data": {
      "image/svg+xml": [
       "<?xml version=\"1.0\" encoding=\"UTF-8\" standalone=\"no\"?><svg xmlns=\"http://www.w3.org/2000/svg\" xmlns:xlink=\"http://www.w3.org/1999/xlink\" contentScriptType=\"application/ecmascript\" contentStyleType=\"text/css\" height=\"285px\" preserveAspectRatio=\"none\" style=\"width:432px;height:285px;\" version=\"1.1\" viewBox=\"0 0 432 285\" width=\"432px\" zoomAndPan=\"magnify\"><defs/><g><!--MD5=[fbc87193dbaf4d95561dea2c320d4a47]\n",
       "cluster E1--><a href=\"psysml:64ccfe85-4fdd-4bf0-b3db-5945cd262e15\" target=\"_top\" title=\"psysml:64ccfe85-4fdd-4bf0-b3db-5945cd262e15\" xlink:actuate=\"onRequest\" xlink:href=\"psysml:64ccfe85-4fdd-4bf0-b3db-5945cd262e15\" xlink:show=\"new\" xlink:title=\"psysml:64ccfe85-4fdd-4bf0-b3db-5945cd262e15\" xlink:type=\"simple\"><polygon fill=\"#FFFFFF\" points=\"16,6,236,6,243,28.2969,410,28.2969,410,273,16,273,16,6\" style=\"stroke: #000000; stroke-width: 1.5;\"/><line style=\"stroke: #000000; stroke-width: 1.5;\" x1=\"16\" x2=\"243\" y1=\"28.2969\" y2=\"28.2969\"/><text fill=\"#000000\" font-family=\"sans-serif\" font-size=\"14\" font-weight=\"bold\" lengthAdjust=\"spacingAndGlyphs\" textLength=\"214\" x=\"20\" y=\"20.9951\">TextualRepresentationTest</text></a><!--MD5=[de5ec2e2e8f62f467e546659f5068c88]\n",
       "cluster E5--><a href=\"psysml:8549a337-017f-4e92-9426-82c63ecb1b1e\" target=\"_top\" title=\"psysml:8549a337-017f-4e92-9426-82c63ecb1b1e\" xlink:actuate=\"onRequest\" xlink:href=\"psysml:8549a337-017f-4e92-9426-82c63ecb1b1e\" xlink:show=\"new\" xlink:title=\"psysml:8549a337-017f-4e92-9426-82c63ecb1b1e\" xlink:type=\"simple\"><rect fill=\"#FFFFFF\" height=\"163.5\" id=\"E5\" style=\"stroke: #383838; stroke-width: 1.5;\" width=\"96\" x=\"268.5\" y=\"93.5\"/><rect fill=\"#F8F8F8\" height=\"37.9375\" style=\"stroke: #383838; stroke-width: 1.5;\" width=\"96\" x=\"268.5\" y=\"93.5\"/><text fill=\"#000000\" font-family=\"sans-serif\" font-size=\"12\" font-style=\"italic\" lengthAdjust=\"spacingAndGlyphs\" textLength=\"77\" x=\"278\" y=\"109.6387\">«action def»</text><text fill=\"#000000\" font-family=\"sans-serif\" font-size=\"12\" lengthAdjust=\"spacingAndGlyphs\" textLength=\"27\" x=\"303\" y=\"123.6074\">setX</text></a><!--MD5=[b4997ac47864f28c2f74865a473b2911]\n",
       "class E2--><a href=\"psysml:06125bd0-acad-496e-b065-61f119a09466\" target=\"_top\" title=\"psysml:06125bd0-acad-496e-b065-61f119a09466\" xlink:actuate=\"onRequest\" xlink:href=\"psysml:06125bd0-acad-496e-b065-61f119a09466\" xlink:show=\"new\" xlink:title=\"psysml:06125bd0-acad-496e-b065-61f119a09466\" xlink:type=\"simple\"><rect fill=\"#FFFFFF\" height=\"45.9375\" id=\"E2\" style=\"stroke: #383838; stroke-width: 1.5;\" width=\"74\" x=\"178\" y=\"70.5\"/><text fill=\"#000000\" font-family=\"sans-serif\" font-size=\"12\" font-style=\"italic\" lengthAdjust=\"spacingAndGlyphs\" textLength=\"72\" x=\"179\" y=\"86.6387\">«dataType»</text><text fill=\"#000000\" font-family=\"sans-serif\" font-size=\"12\" lengthAdjust=\"spacingAndGlyphs\" textLength=\"27\" x=\"201.5\" y=\"100.6074\">Real</text><line style=\"stroke: #383838; stroke-width: 1.5;\" x1=\"179\" x2=\"251\" y1=\"108.4375\" y2=\"108.4375\"/></a><!--MD5=[09b614a08d8cba4a07c9adeb5e0fee81]\n",
       "class E3--><a href=\"psysml:57586f80-7065-4509-85b2-20f5f1ea1e4c\" target=\"_top\" title=\"psysml:57586f80-7065-4509-85b2-20f5f1ea1e4c\" xlink:actuate=\"onRequest\" xlink:href=\"psysml:57586f80-7065-4509-85b2-20f5f1ea1e4c\" xlink:show=\"new\" xlink:title=\"psysml:57586f80-7065-4509-85b2-20f5f1ea1e4c\" xlink:type=\"simple\"><rect fill=\"#FFFFFF\" height=\"105.1563\" id=\"E3\" style=\"stroke: #383838; stroke-width: 1.5;\" width=\"111\" x=\"31.5\" y=\"41\"/><text fill=\"#000000\" font-family=\"sans-serif\" font-size=\"12\" font-style=\"italic\" lengthAdjust=\"spacingAndGlyphs\" textLength=\"65\" x=\"54.5\" y=\"57.1387\">«item def»</text><text fill=\"#000000\" font-family=\"sans-serif\" font-size=\"12\" lengthAdjust=\"spacingAndGlyphs\" textLength=\"8\" x=\"83\" y=\"71.1074\">C</text><line style=\"stroke: #383838; stroke-width: 1.5;\" x1=\"32.5\" x2=\"141.5\" y1=\"78.9375\" y2=\"78.9375\"/><text fill=\"#000000\" font-family=\"sans-serif\" font-size=\"11\" lengthAdjust=\"spacingAndGlyphs\" textLength=\"38\" x=\"37.5\" y=\"109.9526\">x: Real</text><line style=\"stroke: #383838; stroke-width: 1.0;\" x1=\"32.5\" x2=\"59.5\" y1=\"93.3398\" y2=\"93.3398\"/><text fill=\"#000000\" font-family=\"sans-serif\" font-size=\"11\" lengthAdjust=\"spacingAndGlyphs\" textLength=\"55\" x=\"59.5\" y=\"96.6479\">attributes</text><line style=\"stroke: #383838; stroke-width: 1.0;\" x1=\"114.5\" x2=\"141.5\" y1=\"93.3398\" y2=\"93.3398\"/><text fill=\"#000000\" font-family=\"sans-serif\" font-size=\"11\" lengthAdjust=\"spacingAndGlyphs\" textLength=\"69\" x=\"37.5\" y=\"139.562\">x_constraint</text><line style=\"stroke: #383838; stroke-width: 1.0;\" x1=\"32.5\" x2=\"35.5\" y1=\"122.9492\" y2=\"122.9492\"/><text fill=\"#000000\" font-family=\"sans-serif\" font-size=\"11\" lengthAdjust=\"spacingAndGlyphs\" textLength=\"103\" x=\"35.5\" y=\"126.2573\">assertConstraints</text><line style=\"stroke: #383838; stroke-width: 1.0;\" x1=\"138.5\" x2=\"141.5\" y1=\"122.9492\" y2=\"122.9492\"/></a><text fill=\"#000000\" font-family=\"sans-serif\" font-size=\"14\" lengthAdjust=\"spacingAndGlyphs\" textLength=\"8\" x=\"289\" y=\"72.1982\">c</text><rect fill=\"#383838\" height=\"12\" style=\"stroke: #F8F8F8; stroke-width: 1.5;\" width=\"12\" x=\"287\" y=\"87.5\"/><text fill=\"#000000\" font-family=\"sans-serif\" font-size=\"14\" lengthAdjust=\"spacingAndGlyphs\" textLength=\"38\" x=\"321\" y=\"72.1982\">newX</text><rect fill=\"#383838\" height=\"12\" style=\"stroke: #F8F8F8; stroke-width: 1.5;\" width=\"12\" x=\"334\" y=\"87.5\"/><!--MD5=[6c6fd6717e9fb20739c71fdfd92d02d3]\n",
       "@startuml\r\n",
       " skinparam monochrome true\r\n",
       "skinparam classbackgroundcolor white\r\n",
       "skinparam shadowing false\r\n",
       "skinparam wrapWidth 300\r\n",
       "hide circle\r\n",
       "\r\n",
       "package \"TextualRepresentationTest\" as E1  [[psysml:64ccfe85-4fdd-4bf0-b3db-5945cd262e15 ]]  {\r\n",
       "comp def \"Real\" as E2  <<(T,blue)dataType>> [[psysml:06125bd0-acad-496e-b065-61f119a09466 ]] {\r\n",
       "}\r\n",
       "comp def \"C\" as E3  <<(T,blue)item def>> [[psysml:57586f80-7065-4509-85b2-20f5f1ea1e4c ]] {\r\n",
       "- - attributes - -\r\n",
       "x: Real\r\n",
       "- - assertConstraints - -\r\n",
       "x_constraint\r\n",
       "}\r\n",
       "rec def \"setX\" as E5  <<(T,blue)action def>> [[psysml:8549a337-017f-4e92-9426-82c63ecb1b1e ]] {\r\n",
       "portin \"c\" as E6  [[psysml:aa76399d-9e78-4ecc-80de-8099ee5899a9 ]] \r\n",
       "portin \"newX\" as E7  [[psysml:3135ebc1-3d3a-4206-9f67-d8c3ceb18c3a ]] \r\n",
       "}\r\n",
       "\r\n",
       "}\r\n",
       "@enduml\r\n",
       "\n",
       "PlantUML version 1.2020.13(Sat Jun 13 12:26:38 UTC 2020)\n",
       "(EPL source distribution)\n",
       "Java Runtime: OpenJDK Runtime Environment\n",
       "JVM: OpenJDK 64-Bit Server VM\n",
       "Default Encoding: UTF-8\n",
       "Language: en\n",
       "Country: null\n",
       "--></g></svg>"
      ]
     },
     "execution_count": 8,
     "metadata": {},
     "output_type": "execute_result"
    }
   ],
   "source": [
    "%viz --style=\"COMPTREE\" --view=\"MIXED\" \"TextualRepresentationTest\""
   ]
  },
  {
   "cell_type": "code",
   "execution_count": 9,
   "id": "virtual-removal",
   "metadata": {
    "execution": {
     "iopub.execute_input": "2021-03-25T14:18:52.705377Z",
     "iopub.status.busy": "2021-03-25T14:18:52.704675Z",
     "iopub.status.idle": "2021-03-25T14:18:53.164710Z",
     "shell.execute_reply": "2021-03-25T14:18:53.162752Z"
    }
   },
   "outputs": [
    {
     "data": {
      "image/svg+xml": [
       "<?xml version=\"1.0\" encoding=\"UTF-8\" standalone=\"no\"?><svg xmlns=\"http://www.w3.org/2000/svg\" xmlns:xlink=\"http://www.w3.org/1999/xlink\" contentScriptType=\"application/ecmascript\" contentStyleType=\"text/css\" height=\"285px\" preserveAspectRatio=\"none\" style=\"width:432px;height:285px;\" version=\"1.1\" viewBox=\"0 0 432 285\" width=\"432px\" zoomAndPan=\"magnify\"><defs/><g><!--MD5=[fbc87193dbaf4d95561dea2c320d4a47]\n",
       "cluster E1--><a href=\"psysml:64ccfe85-4fdd-4bf0-b3db-5945cd262e15\" target=\"_top\" title=\"psysml:64ccfe85-4fdd-4bf0-b3db-5945cd262e15\" xlink:actuate=\"onRequest\" xlink:href=\"psysml:64ccfe85-4fdd-4bf0-b3db-5945cd262e15\" xlink:show=\"new\" xlink:title=\"psysml:64ccfe85-4fdd-4bf0-b3db-5945cd262e15\" xlink:type=\"simple\"><polygon fill=\"#FFFFFF\" points=\"16,6,236,6,243,28.2969,410,28.2969,410,273,16,273,16,6\" style=\"stroke: #000000; stroke-width: 1.5;\"/><line style=\"stroke: #000000; stroke-width: 1.5;\" x1=\"16\" x2=\"243\" y1=\"28.2969\" y2=\"28.2969\"/><text fill=\"#000000\" font-family=\"sans-serif\" font-size=\"14\" font-weight=\"bold\" lengthAdjust=\"spacingAndGlyphs\" textLength=\"214\" x=\"20\" y=\"20.9951\">TextualRepresentationTest</text></a><!--MD5=[de5ec2e2e8f62f467e546659f5068c88]\n",
       "cluster E5--><a href=\"psysml:8549a337-017f-4e92-9426-82c63ecb1b1e\" target=\"_top\" title=\"psysml:8549a337-017f-4e92-9426-82c63ecb1b1e\" xlink:actuate=\"onRequest\" xlink:href=\"psysml:8549a337-017f-4e92-9426-82c63ecb1b1e\" xlink:show=\"new\" xlink:title=\"psysml:8549a337-017f-4e92-9426-82c63ecb1b1e\" xlink:type=\"simple\"><rect fill=\"#FFFFFF\" height=\"163.5\" id=\"E5\" style=\"stroke: #383838; stroke-width: 1.5;\" width=\"96\" x=\"268.5\" y=\"93.5\"/><rect fill=\"#F8F8F8\" height=\"37.9375\" style=\"stroke: #383838; stroke-width: 1.5;\" width=\"96\" x=\"268.5\" y=\"93.5\"/><text fill=\"#000000\" font-family=\"sans-serif\" font-size=\"12\" font-style=\"italic\" lengthAdjust=\"spacingAndGlyphs\" textLength=\"77\" x=\"278\" y=\"109.6387\">«action def»</text><text fill=\"#000000\" font-family=\"sans-serif\" font-size=\"12\" lengthAdjust=\"spacingAndGlyphs\" textLength=\"27\" x=\"303\" y=\"123.6074\">setX</text></a><!--MD5=[b4997ac47864f28c2f74865a473b2911]\n",
       "class E2--><a href=\"psysml:06125bd0-acad-496e-b065-61f119a09466\" target=\"_top\" title=\"psysml:06125bd0-acad-496e-b065-61f119a09466\" xlink:actuate=\"onRequest\" xlink:href=\"psysml:06125bd0-acad-496e-b065-61f119a09466\" xlink:show=\"new\" xlink:title=\"psysml:06125bd0-acad-496e-b065-61f119a09466\" xlink:type=\"simple\"><rect fill=\"#FFFFFF\" height=\"45.9375\" id=\"E2\" style=\"stroke: #383838; stroke-width: 1.5;\" width=\"74\" x=\"178\" y=\"70.5\"/><text fill=\"#000000\" font-family=\"sans-serif\" font-size=\"12\" font-style=\"italic\" lengthAdjust=\"spacingAndGlyphs\" textLength=\"72\" x=\"179\" y=\"86.6387\">«dataType»</text><text fill=\"#000000\" font-family=\"sans-serif\" font-size=\"12\" lengthAdjust=\"spacingAndGlyphs\" textLength=\"27\" x=\"201.5\" y=\"100.6074\">Real</text><line style=\"stroke: #383838; stroke-width: 1.5;\" x1=\"179\" x2=\"251\" y1=\"108.4375\" y2=\"108.4375\"/></a><!--MD5=[09b614a08d8cba4a07c9adeb5e0fee81]\n",
       "class E3--><a href=\"psysml:57586f80-7065-4509-85b2-20f5f1ea1e4c\" target=\"_top\" title=\"psysml:57586f80-7065-4509-85b2-20f5f1ea1e4c\" xlink:actuate=\"onRequest\" xlink:href=\"psysml:57586f80-7065-4509-85b2-20f5f1ea1e4c\" xlink:show=\"new\" xlink:title=\"psysml:57586f80-7065-4509-85b2-20f5f1ea1e4c\" xlink:type=\"simple\"><rect fill=\"#FFFFFF\" height=\"105.1563\" id=\"E3\" style=\"stroke: #383838; stroke-width: 1.5;\" width=\"111\" x=\"31.5\" y=\"41\"/><text fill=\"#000000\" font-family=\"sans-serif\" font-size=\"12\" font-style=\"italic\" lengthAdjust=\"spacingAndGlyphs\" textLength=\"65\" x=\"54.5\" y=\"57.1387\">«item def»</text><text fill=\"#000000\" font-family=\"sans-serif\" font-size=\"12\" lengthAdjust=\"spacingAndGlyphs\" textLength=\"8\" x=\"83\" y=\"71.1074\">C</text><line style=\"stroke: #383838; stroke-width: 1.5;\" x1=\"32.5\" x2=\"141.5\" y1=\"78.9375\" y2=\"78.9375\"/><text fill=\"#000000\" font-family=\"sans-serif\" font-size=\"11\" lengthAdjust=\"spacingAndGlyphs\" textLength=\"38\" x=\"37.5\" y=\"109.9526\">x: Real</text><line style=\"stroke: #383838; stroke-width: 1.0;\" x1=\"32.5\" x2=\"59.5\" y1=\"93.3398\" y2=\"93.3398\"/><text fill=\"#000000\" font-family=\"sans-serif\" font-size=\"11\" lengthAdjust=\"spacingAndGlyphs\" textLength=\"55\" x=\"59.5\" y=\"96.6479\">attributes</text><line style=\"stroke: #383838; stroke-width: 1.0;\" x1=\"114.5\" x2=\"141.5\" y1=\"93.3398\" y2=\"93.3398\"/><text fill=\"#000000\" font-family=\"sans-serif\" font-size=\"11\" lengthAdjust=\"spacingAndGlyphs\" textLength=\"69\" x=\"37.5\" y=\"139.562\">x_constraint</text><line style=\"stroke: #383838; stroke-width: 1.0;\" x1=\"32.5\" x2=\"35.5\" y1=\"122.9492\" y2=\"122.9492\"/><text fill=\"#000000\" font-family=\"sans-serif\" font-size=\"11\" lengthAdjust=\"spacingAndGlyphs\" textLength=\"103\" x=\"35.5\" y=\"126.2573\">assertConstraints</text><line style=\"stroke: #383838; stroke-width: 1.0;\" x1=\"138.5\" x2=\"141.5\" y1=\"122.9492\" y2=\"122.9492\"/></a><text fill=\"#000000\" font-family=\"sans-serif\" font-size=\"14\" lengthAdjust=\"spacingAndGlyphs\" textLength=\"8\" x=\"289\" y=\"72.1982\">c</text><rect fill=\"#383838\" height=\"12\" style=\"stroke: #F8F8F8; stroke-width: 1.5;\" width=\"12\" x=\"287\" y=\"87.5\"/><text fill=\"#000000\" font-family=\"sans-serif\" font-size=\"14\" lengthAdjust=\"spacingAndGlyphs\" textLength=\"38\" x=\"321\" y=\"72.1982\">newX</text><rect fill=\"#383838\" height=\"12\" style=\"stroke: #F8F8F8; stroke-width: 1.5;\" width=\"12\" x=\"334\" y=\"87.5\"/><!--MD5=[6d617507f5c423a76f3f27c5ff7c9b6a]\n",
       "@startuml\r\n",
       "skinparam linetype polyline\r\n",
       "skinparam monochrome true\r\n",
       "skinparam classbackgroundcolor white\r\n",
       "skinparam shadowing false\r\n",
       "skinparam wrapWidth 300\r\n",
       "hide circle\r\n",
       "\r\n",
       "package \"TextualRepresentationTest\" as E1  [[psysml:64ccfe85-4fdd-4bf0-b3db-5945cd262e15 ]]  {\r\n",
       "comp def \"Real\" as E2  <<(T,blue)dataType>> [[psysml:06125bd0-acad-496e-b065-61f119a09466 ]] {\r\n",
       "}\r\n",
       "comp def \"C\" as E3  <<(T,blue)item def>> [[psysml:57586f80-7065-4509-85b2-20f5f1ea1e4c ]] {\r\n",
       "- - attributes - -\r\n",
       "x: Real\r\n",
       "- - assertConstraints - -\r\n",
       "x_constraint\r\n",
       "}\r\n",
       "rec def \"setX\" as E5  <<(T,blue)action def>> [[psysml:8549a337-017f-4e92-9426-82c63ecb1b1e ]] {\r\n",
       "portin \"c\" as E6  [[psysml:aa76399d-9e78-4ecc-80de-8099ee5899a9 ]] \r\n",
       "portin \"newX\" as E7  [[psysml:3135ebc1-3d3a-4206-9f67-d8c3ceb18c3a ]] \r\n",
       "}\r\n",
       "\r\n",
       "}\r\n",
       "@enduml\r\n",
       "\n",
       "PlantUML version 1.2020.13(Sat Jun 13 12:26:38 UTC 2020)\n",
       "(EPL source distribution)\n",
       "Java Runtime: OpenJDK Runtime Environment\n",
       "JVM: OpenJDK 64-Bit Server VM\n",
       "Default Encoding: UTF-8\n",
       "Language: en\n",
       "Country: null\n",
       "--></g></svg>"
      ]
     },
     "execution_count": 9,
     "metadata": {},
     "output_type": "execute_result"
    }
   ],
   "source": [
    "%viz --style=\"POLYLINE\" --view=\"Default\" \"TextualRepresentationTest\""
   ]
  },
  {
   "cell_type": "code",
   "execution_count": 10,
   "id": "alive-virginia",
   "metadata": {
    "execution": {
     "iopub.execute_input": "2021-03-25T14:18:53.219518Z",
     "iopub.status.busy": "2021-03-25T14:18:53.218936Z",
     "iopub.status.idle": "2021-03-25T14:18:53.651239Z",
     "shell.execute_reply": "2021-03-25T14:18:53.650729Z"
    }
   },
   "outputs": [
    {
     "data": {
      "image/svg+xml": [
       "<?xml version=\"1.0\" encoding=\"UTF-8\" standalone=\"no\"?><svg xmlns=\"http://www.w3.org/2000/svg\" xmlns:xlink=\"http://www.w3.org/1999/xlink\" contentScriptType=\"application/ecmascript\" contentStyleType=\"text/css\" height=\"297px\" preserveAspectRatio=\"none\" style=\"width:290px;height:297px;\" version=\"1.1\" viewBox=\"0 0 290 297\" width=\"290px\" zoomAndPan=\"magnify\"><defs/><g><!--MD5=[fbc87193dbaf4d95561dea2c320d4a47]\n",
       "cluster E1--><a href=\"psysml:64ccfe85-4fdd-4bf0-b3db-5945cd262e15\" target=\"_top\" title=\"psysml:64ccfe85-4fdd-4bf0-b3db-5945cd262e15\" xlink:actuate=\"onRequest\" xlink:href=\"psysml:64ccfe85-4fdd-4bf0-b3db-5945cd262e15\" xlink:show=\"new\" xlink:title=\"psysml:64ccfe85-4fdd-4bf0-b3db-5945cd262e15\" xlink:type=\"simple\"><polygon fill=\"#FFFFFF\" points=\"16,6,236,6,243,28.2969,268,28.2969,268,285,16,285,16,6\" style=\"stroke: #000000; stroke-width: 1.5;\"/><line style=\"stroke: #000000; stroke-width: 1.5;\" x1=\"16\" x2=\"243\" y1=\"28.2969\" y2=\"28.2969\"/><text fill=\"#000000\" font-family=\"sans-serif\" font-size=\"14\" font-weight=\"bold\" lengthAdjust=\"spacingAndGlyphs\" textLength=\"214\" x=\"20\" y=\"20.9951\">TextualRepresentationTest</text></a><!--MD5=[b4997ac47864f28c2f74865a473b2911]\n",
       "class E2--><a href=\"psysml:06125bd0-acad-496e-b065-61f119a09466\" target=\"_top\" title=\"psysml:06125bd0-acad-496e-b065-61f119a09466\" xlink:actuate=\"onRequest\" xlink:href=\"psysml:06125bd0-acad-496e-b065-61f119a09466\" xlink:show=\"new\" xlink:title=\"psysml:06125bd0-acad-496e-b065-61f119a09466\" xlink:type=\"simple\"><rect fill=\"#FFFFFF\" height=\"45.9375\" id=\"E2\" style=\"stroke: #383838; stroke-width: 1.5;\" width=\"74\" x=\"32\" y=\"193.5\"/><text fill=\"#000000\" font-family=\"sans-serif\" font-size=\"12\" font-style=\"italic\" lengthAdjust=\"spacingAndGlyphs\" textLength=\"72\" x=\"33\" y=\"209.6387\">«dataType»</text><text fill=\"#000000\" font-family=\"sans-serif\" font-size=\"12\" lengthAdjust=\"spacingAndGlyphs\" textLength=\"27\" x=\"55.5\" y=\"223.6074\">Real</text><line style=\"stroke: #383838; stroke-width: 1.5;\" x1=\"33\" x2=\"105\" y1=\"231.4375\" y2=\"231.4375\"/></a><!--MD5=[09b614a08d8cba4a07c9adeb5e0fee81]\n",
       "class E3--><a href=\"psysml:57586f80-7065-4509-85b2-20f5f1ea1e4c\" target=\"_top\" title=\"psysml:57586f80-7065-4509-85b2-20f5f1ea1e4c\" xlink:actuate=\"onRequest\" xlink:href=\"psysml:57586f80-7065-4509-85b2-20f5f1ea1e4c\" xlink:show=\"new\" xlink:title=\"psysml:57586f80-7065-4509-85b2-20f5f1ea1e4c\" xlink:type=\"simple\"><rect fill=\"#FFFFFF\" height=\"105.1563\" id=\"E3\" style=\"stroke: #383838; stroke-width: 1.5;\" width=\"111\" x=\"141.5\" y=\"164\"/><text fill=\"#000000\" font-family=\"sans-serif\" font-size=\"12\" font-style=\"italic\" lengthAdjust=\"spacingAndGlyphs\" textLength=\"65\" x=\"164.5\" y=\"180.1387\">«item def»</text><text fill=\"#000000\" font-family=\"sans-serif\" font-size=\"12\" lengthAdjust=\"spacingAndGlyphs\" textLength=\"8\" x=\"193\" y=\"194.1074\">C</text><line style=\"stroke: #383838; stroke-width: 1.5;\" x1=\"142.5\" x2=\"251.5\" y1=\"201.9375\" y2=\"201.9375\"/><text fill=\"#000000\" font-family=\"sans-serif\" font-size=\"11\" lengthAdjust=\"spacingAndGlyphs\" textLength=\"38\" x=\"147.5\" y=\"232.9526\">x: Real</text><line style=\"stroke: #383838; stroke-width: 1.0;\" x1=\"142.5\" x2=\"169.5\" y1=\"216.3398\" y2=\"216.3398\"/><text fill=\"#000000\" font-family=\"sans-serif\" font-size=\"11\" lengthAdjust=\"spacingAndGlyphs\" textLength=\"55\" x=\"169.5\" y=\"219.6479\">attributes</text><line style=\"stroke: #383838; stroke-width: 1.0;\" x1=\"224.5\" x2=\"251.5\" y1=\"216.3398\" y2=\"216.3398\"/><text fill=\"#000000\" font-family=\"sans-serif\" font-size=\"11\" lengthAdjust=\"spacingAndGlyphs\" textLength=\"69\" x=\"147.5\" y=\"262.562\">x_constraint</text><line style=\"stroke: #383838; stroke-width: 1.0;\" x1=\"142.5\" x2=\"145.5\" y1=\"245.9492\" y2=\"245.9492\"/><text fill=\"#000000\" font-family=\"sans-serif\" font-size=\"11\" lengthAdjust=\"spacingAndGlyphs\" textLength=\"103\" x=\"145.5\" y=\"249.2573\">assertConstraints</text><line style=\"stroke: #383838; stroke-width: 1.0;\" x1=\"248.5\" x2=\"251.5\" y1=\"245.9492\" y2=\"245.9492\"/></a><!--MD5=[270fce915f116d4de14055a7c1d9a0f3]\n",
       "class E5--><a href=\"psysml:8549a337-017f-4e92-9426-82c63ecb1b1e\" target=\"_top\" title=\"psysml:8549a337-017f-4e92-9426-82c63ecb1b1e\" xlink:actuate=\"onRequest\" xlink:href=\"psysml:8549a337-017f-4e92-9426-82c63ecb1b1e\" xlink:show=\"new\" xlink:title=\"psysml:8549a337-017f-4e92-9426-82c63ecb1b1e\" xlink:type=\"simple\"><rect fill=\"#FFFFFF\" height=\"45.9375\" id=\"E5\" style=\"stroke: #383838; stroke-width: 1.5;\" width=\"79\" x=\"67.5\" y=\"41\"/><text fill=\"#000000\" font-family=\"sans-serif\" font-size=\"12\" font-style=\"italic\" lengthAdjust=\"spacingAndGlyphs\" textLength=\"77\" x=\"68.5\" y=\"57.1387\">«action def»</text><text fill=\"#000000\" font-family=\"sans-serif\" font-size=\"12\" lengthAdjust=\"spacingAndGlyphs\" textLength=\"27\" x=\"93.5\" y=\"71.1074\">setX</text><line style=\"stroke: #383838; stroke-width: 1.5;\" x1=\"68.5\" x2=\"145.5\" y1=\"78.9375\" y2=\"78.9375\"/></a><!--MD5=[6f107eb264eda4b26325f39a5516f1f3]\n",
       "reverse link E5 to E3--><a href=\"psysml:aa76399d-9e78-4ecc-80de-8099ee5899a9\" target=\"_top\" title=\"psysml:aa76399d-9e78-4ecc-80de-8099ee5899a9\" xlink:actuate=\"onRequest\" xlink:href=\"psysml:aa76399d-9e78-4ecc-80de-8099ee5899a9\" xlink:show=\"new\" xlink:title=\"psysml:aa76399d-9e78-4ecc-80de-8099ee5899a9\" xlink:type=\"simple\"><path d=\"M126.98,98.42 C138.48,117.65 153.18,142.22 166.13,163.88 \" fill=\"none\" id=\"E5&lt;-E3\" style=\"stroke: #383838; stroke-width: 1.0;\"/><polygon fill=\"#FFFFFF\" points=\"120.28,87.21,119.9261,94.4124,126.4384,97.5092,126.7923,90.3068,120.28,87.21\" style=\"stroke: #383838; stroke-width: 1.0;\"/><text fill=\"#000000\" font-family=\"sans-serif\" font-size=\"13\" lengthAdjust=\"spacingAndGlyphs\" textLength=\"7\" x=\"147\" y=\"130.0669\">c</text></a><!--MD5=[f51c6d1f1856fe338ac0413483fb1ccf]\n",
       "reverse link E5 to E2--><a href=\"psysml:3135ebc1-3d3a-4206-9f67-d8c3ceb18c3a\" target=\"_top\" title=\"psysml:3135ebc1-3d3a-4206-9f67-d8c3ceb18c3a\" xlink:actuate=\"onRequest\" xlink:href=\"psysml:3135ebc1-3d3a-4206-9f67-d8c3ceb18c3a\" xlink:show=\"new\" xlink:title=\"psysml:3135ebc1-3d3a-4206-9f67-d8c3ceb18c3a\" xlink:type=\"simple\"><path d=\"M98.18,99.93 C90.92,128.69 80.84,168.6 74.63,193.2 \" fill=\"none\" id=\"E5&lt;-E2\" style=\"stroke: #383838; stroke-width: 1.0;\"/><polygon fill=\"#FFFFFF\" points=\"101.39,87.21,96.0413,92.0465,98.4485,98.8439,103.7972,94.0074,101.39,87.21\" style=\"stroke: #383838; stroke-width: 1.0;\"/><text fill=\"#000000\" font-family=\"sans-serif\" font-size=\"13\" lengthAdjust=\"spacingAndGlyphs\" textLength=\"33\" x=\"94\" y=\"130.0669\">newX</text></a><!--MD5=[0fce907d199e52f2ff45cfeca341a984]\n",
       "@startuml\r\n",
       "skinparam linetype polyline\r\n",
       "skinparam monochrome true\r\n",
       "skinparam classbackgroundcolor white\r\n",
       "skinparam shadowing false\r\n",
       "skinparam wrapWidth 300\r\n",
       "hide circle\r\n",
       "\r\n",
       "package \"TextualRepresentationTest\" as E1  [[psysml:64ccfe85-4fdd-4bf0-b3db-5945cd262e15 ]]  {\r\n",
       "comp def \"Real\" as E2  <<(T,blue)dataType>> [[psysml:06125bd0-acad-496e-b065-61f119a09466 ]] {\r\n",
       "}\r\n",
       "comp def \"C\" as E3  <<(T,blue)item def>> [[psysml:57586f80-7065-4509-85b2-20f5f1ea1e4c ]] {\r\n",
       "- - attributes - -\r\n",
       "x: Real\r\n",
       "- - assertConstraints - -\r\n",
       "x_constraint\r\n",
       "}\r\n",
       "comp def \"setX\" as E5  <<(T,blue)action def>> [[psysml:8549a337-017f-4e92-9426-82c63ecb1b1e ]] {\r\n",
       "}\r\n",
       "E5 o- - E3 [[psysml:aa76399d-9e78-4ecc-80de-8099ee5899a9 ]] : c\r\n",
       "E5 o- - E2 [[psysml:3135ebc1-3d3a-4206-9f67-d8c3ceb18c3a ]] : newX\r\n",
       "}\r\n",
       "@enduml\r\n",
       "\n",
       "PlantUML version 1.2020.13(Sat Jun 13 12:26:38 UTC 2020)\n",
       "(EPL source distribution)\n",
       "Java Runtime: OpenJDK Runtime Environment\n",
       "JVM: OpenJDK 64-Bit Server VM\n",
       "Default Encoding: UTF-8\n",
       "Language: en\n",
       "Country: null\n",
       "--></g></svg>"
      ]
     },
     "execution_count": 10,
     "metadata": {},
     "output_type": "execute_result"
    }
   ],
   "source": [
    "%viz --style=\"POLYLINE\" --view=\"Tree\" \"TextualRepresentationTest\""
   ]
  },
  {
   "cell_type": "code",
   "execution_count": 11,
   "id": "fitted-gross",
   "metadata": {
    "execution": {
     "iopub.execute_input": "2021-03-25T14:18:53.704050Z",
     "iopub.status.busy": "2021-03-25T14:18:53.703449Z",
     "iopub.status.idle": "2021-03-25T14:18:53.714144Z",
     "shell.execute_reply": "2021-03-25T14:18:53.714546Z"
    }
   },
   "outputs": [
    {
     "data": {
      "image/svg+xml": [
       "<?xml version=\"1.0\" encoding=\"UTF-8\" standalone=\"no\"?><svg xmlns=\"http://www.w3.org/2000/svg\" xmlns:xlink=\"http://www.w3.org/1999/xlink\" contentScriptType=\"application/ecmascript\" contentStyleType=\"text/css\" height=\"12px\" preserveAspectRatio=\"none\" style=\"width:12px;height:12px;\" version=\"1.1\" viewBox=\"0 0 12 12\" width=\"12px\" zoomAndPan=\"magnify\"><defs/><g><!--MD5=[896ac0e7a515d8dd7765a661cb4ee08b]\n",
       "@startuml\r\n",
       "skinparam linetype polyline\r\n",
       "skinparam monochrome true\r\n",
       "skinparam classbackgroundcolor white\r\n",
       "skinparam shadowing false\r\n",
       "skinparam wrapWidth 300\r\n",
       "hide circle\r\n",
       "\r\n",
       "@enduml\r\n",
       "\n",
       "PlantUML version 1.2020.13(Sat Jun 13 12:26:38 UTC 2020)\n",
       "(EPL source distribution)\n",
       "Java Runtime: OpenJDK Runtime Environment\n",
       "JVM: OpenJDK 64-Bit Server VM\n",
       "Default Encoding: UTF-8\n",
       "Language: en\n",
       "Country: null\n",
       "--></g></svg>"
      ]
     },
     "execution_count": 11,
     "metadata": {},
     "output_type": "execute_result"
    }
   ],
   "source": [
    "%viz --style=\"POLYLINE\" --view=\"State\" \"TextualRepresentationTest\""
   ]
  },
  {
   "cell_type": "code",
   "execution_count": 12,
   "id": "actual-superintendent",
   "metadata": {
    "execution": {
     "iopub.execute_input": "2021-03-25T14:18:53.767592Z",
     "iopub.status.busy": "2021-03-25T14:18:53.767016Z",
     "iopub.status.idle": "2021-03-25T14:18:53.860803Z",
     "shell.execute_reply": "2021-03-25T14:18:53.861260Z"
    }
   },
   "outputs": [
    {
     "data": {
      "image/svg+xml": [
       "<?xml version=\"1.0\" encoding=\"UTF-8\" standalone=\"no\"?><svg xmlns=\"http://www.w3.org/2000/svg\" xmlns:xlink=\"http://www.w3.org/1999/xlink\" contentScriptType=\"application/ecmascript\" contentStyleType=\"text/css\" height=\"179px\" preserveAspectRatio=\"none\" style=\"width:398px;height:179px;\" version=\"1.1\" viewBox=\"0 0 398 179\" width=\"398px\" zoomAndPan=\"magnify\"><defs/><g><!--MD5=[fbc87193dbaf4d95561dea2c320d4a47]\n",
       "cluster E1--><a href=\"psysml:64ccfe85-4fdd-4bf0-b3db-5945cd262e15\" target=\"_top\" title=\"psysml:64ccfe85-4fdd-4bf0-b3db-5945cd262e15\" xlink:actuate=\"onRequest\" xlink:href=\"psysml:64ccfe85-4fdd-4bf0-b3db-5945cd262e15\" xlink:show=\"new\" xlink:title=\"psysml:64ccfe85-4fdd-4bf0-b3db-5945cd262e15\" xlink:type=\"simple\"><polygon fill=\"#FFFFFF\" points=\"16,6,236,6,243,28.2969,376,28.2969,376,167,16,167,16,6\" style=\"stroke: #000000; stroke-width: 1.5;\"/><line style=\"stroke: #000000; stroke-width: 1.5;\" x1=\"16\" x2=\"243\" y1=\"28.2969\" y2=\"28.2969\"/><text fill=\"#000000\" font-family=\"sans-serif\" font-size=\"14\" font-weight=\"bold\" lengthAdjust=\"spacingAndGlyphs\" textLength=\"214\" x=\"20\" y=\"20.9951\">TextualRepresentationTest</text></a><!--MD5=[f6df4d0ebaf0b5dfb2ced0ae5af7c670]\n",
       "cluster E4--><a href=\"psysml:8549a337-017f-4e92-9426-82c63ecb1b1e\" target=\"_top\" title=\"psysml:8549a337-017f-4e92-9426-82c63ecb1b1e\" xlink:actuate=\"onRequest\" xlink:href=\"psysml:8549a337-017f-4e92-9426-82c63ecb1b1e\" xlink:show=\"new\" xlink:title=\"psysml:8549a337-017f-4e92-9426-82c63ecb1b1e\" xlink:type=\"simple\"><rect fill=\"#FFFFFF\" height=\"88.5\" id=\"E4\" style=\"stroke: #383838; stroke-width: 1.5;\" width=\"96\" x=\"235.5\" y=\"62.5\"/><rect fill=\"#F8F8F8\" height=\"37.9375\" style=\"stroke: #383838; stroke-width: 1.5;\" width=\"96\" x=\"235.5\" y=\"62.5\"/><text fill=\"#000000\" font-family=\"sans-serif\" font-size=\"12\" font-style=\"italic\" lengthAdjust=\"spacingAndGlyphs\" textLength=\"77\" x=\"245\" y=\"78.6387\">«action def»</text><text fill=\"#000000\" font-family=\"sans-serif\" font-size=\"12\" lengthAdjust=\"spacingAndGlyphs\" textLength=\"27\" x=\"270\" y=\"92.6074\">setX</text></a><g id=\"E1.E2\"><a href=\"psysml:06125bd0-acad-496e-b065-61f119a09466\" target=\"_top\" title=\"psysml:06125bd0-acad-496e-b065-61f119a09466\" xlink:actuate=\"onRequest\" xlink:href=\"psysml:06125bd0-acad-496e-b065-61f119a09466\" xlink:show=\"new\" xlink:title=\"psysml:06125bd0-acad-496e-b065-61f119a09466\" xlink:type=\"simple\"><rect fill=\"#FFFFFF\" height=\"42.9375\" id=\"E2\" style=\"stroke: #383838; stroke-width: 1.5;\" width=\"79\" x=\"139.5\" y=\"41\"/><rect fill=\"#F8F8F8\" height=\"37.9375\" style=\"stroke: #383838; stroke-width: 1.5;\" width=\"79\" x=\"139.5\" y=\"41\"/><text fill=\"#000000\" font-family=\"sans-serif\" font-size=\"12\" font-style=\"italic\" lengthAdjust=\"spacingAndGlyphs\" textLength=\"72\" x=\"143\" y=\"57.1387\">«dataType»</text><text fill=\"#000000\" font-family=\"sans-serif\" font-size=\"12\" lengthAdjust=\"spacingAndGlyphs\" textLength=\"27\" x=\"165.5\" y=\"71.1074\">Real</text></a></g><g id=\"E1.E3\"><a href=\"psysml:57586f80-7065-4509-85b2-20f5f1ea1e4c\" target=\"_top\" title=\"psysml:57586f80-7065-4509-85b2-20f5f1ea1e4c\" xlink:actuate=\"onRequest\" xlink:href=\"psysml:57586f80-7065-4509-85b2-20f5f1ea1e4c\" xlink:show=\"new\" xlink:title=\"psysml:57586f80-7065-4509-85b2-20f5f1ea1e4c\" xlink:type=\"simple\"><rect fill=\"#FFFFFF\" height=\"42.9375\" id=\"E3\" style=\"stroke: #383838; stroke-width: 1.5;\" width=\"72\" x=\"32\" y=\"41\"/><rect fill=\"#F8F8F8\" height=\"37.9375\" style=\"stroke: #383838; stroke-width: 1.5;\" width=\"72\" x=\"32\" y=\"41\"/><text fill=\"#000000\" font-family=\"sans-serif\" font-size=\"12\" font-style=\"italic\" lengthAdjust=\"spacingAndGlyphs\" textLength=\"65\" x=\"35.5\" y=\"57.1387\">«item def»</text><text fill=\"#000000\" font-family=\"sans-serif\" font-size=\"12\" lengthAdjust=\"spacingAndGlyphs\" textLength=\"8\" x=\"64\" y=\"71.1074\">C</text></a></g><text fill=\"#000000\" font-family=\"sans-serif\" font-size=\"14\" lengthAdjust=\"spacingAndGlyphs\" textLength=\"8\" x=\"256\" y=\"41.1982\">c</text><rect fill=\"#383838\" height=\"12\" style=\"stroke: #F8F8F8; stroke-width: 1.5;\" width=\"12\" x=\"254\" y=\"56.5\"/><text fill=\"#000000\" font-family=\"sans-serif\" font-size=\"14\" lengthAdjust=\"spacingAndGlyphs\" textLength=\"38\" x=\"288\" y=\"41.1982\">newX</text><rect fill=\"#383838\" height=\"12\" style=\"stroke: #F8F8F8; stroke-width: 1.5;\" width=\"12\" x=\"301\" y=\"56.5\"/><!--MD5=[6a1c440974bf6929677ad288e9604695]\n",
       "@startuml\r\n",
       "skinparam ranksep 10\r\n",
       "skinparam rectangle {\r\n",
       " backgroundColor<<block>> LightGreen\r\n",
       "}\r\n",
       "skinparam linetype polyline\r\n",
       "skinparam monochrome true\r\n",
       "skinparam classbackgroundcolor white\r\n",
       "skinparam shadowing false\r\n",
       "skinparam wrapWidth 300\r\n",
       "hide circle\r\n",
       "\r\n",
       "package \"TextualRepresentationTest\" as E1  [[psysml:64ccfe85-4fdd-4bf0-b3db-5945cd262e15 ]]  {\r\n",
       "def \"Real\" as E2  <<(T,blue)dataType>> [[psysml:06125bd0-acad-496e-b065-61f119a09466 ]] \r\n",
       "def \"C\" as E3  <<(T,blue)item def>> [[psysml:57586f80-7065-4509-85b2-20f5f1ea1e4c ]] \r\n",
       "rec def \"setX\" as E4  <<(T,blue)action def>> [[psysml:8549a337-017f-4e92-9426-82c63ecb1b1e ]] {\r\n",
       "portin \"c\" as E5  [[psysml:aa76399d-9e78-4ecc-80de-8099ee5899a9 ]] \r\n",
       "portin \"newX\" as E6  [[psysml:3135ebc1-3d3a-4206-9f67-d8c3ceb18c3a ]] \r\n",
       "}\r\n",
       "\r\n",
       "}\r\n",
       "@enduml\r\n",
       "\n",
       "PlantUML version 1.2020.13(Sat Jun 13 12:26:38 UTC 2020)\n",
       "(EPL source distribution)\n",
       "Java Runtime: OpenJDK Runtime Environment\n",
       "JVM: OpenJDK 64-Bit Server VM\n",
       "Default Encoding: UTF-8\n",
       "Language: en\n",
       "Country: null\n",
       "--></g></svg>"
      ]
     },
     "execution_count": 12,
     "metadata": {},
     "output_type": "execute_result"
    }
   ],
   "source": [
    "%viz --style=\"POLYLINE\" --view=\"Interconnection\" \"TextualRepresentationTest\""
   ]
  },
  {
   "cell_type": "code",
   "execution_count": 13,
   "id": "nuclear-electric",
   "metadata": {
    "execution": {
     "iopub.execute_input": "2021-03-25T14:18:53.915591Z",
     "iopub.status.busy": "2021-03-25T14:18:53.913142Z",
     "iopub.status.idle": "2021-03-25T14:18:53.977367Z",
     "shell.execute_reply": "2021-03-25T14:18:53.977001Z"
    }
   },
   "outputs": [
    {
     "data": {
      "image/svg+xml": [
       "<?xml version=\"1.0\" encoding=\"UTF-8\" standalone=\"no\"?><svg xmlns=\"http://www.w3.org/2000/svg\" xmlns:xlink=\"http://www.w3.org/1999/xlink\" contentScriptType=\"application/ecmascript\" contentStyleType=\"text/css\" height=\"126px\" preserveAspectRatio=\"none\" style=\"width:150px;height:126px;\" version=\"1.1\" viewBox=\"0 0 150 126\" width=\"150px\" zoomAndPan=\"magnify\"><defs/><g><!--MD5=[fbc87193dbaf4d95561dea2c320d4a47]\n",
       "cluster E1--><a href=\"psysml:8549a337-017f-4e92-9426-82c63ecb1b1e\" target=\"_top\" title=\"psysml:8549a337-017f-4e92-9426-82c63ecb1b1e\" xlink:actuate=\"onRequest\" xlink:href=\"psysml:8549a337-017f-4e92-9426-82c63ecb1b1e\" xlink:show=\"new\" xlink:title=\"psysml:8549a337-017f-4e92-9426-82c63ecb1b1e\" xlink:type=\"simple\"><rect fill=\"#FFFFFF\" height=\"73\" id=\"E1\" style=\"stroke: #383838; stroke-width: 1.5;\" width=\"132\" x=\"7\" y=\"42.0986\"/><rect fill=\"#F8F8F8\" height=\"37.9375\" style=\"stroke: #383838; stroke-width: 1.5;\" width=\"132\" x=\"7\" y=\"42.0986\"/><text fill=\"#000000\" font-family=\"sans-serif\" font-size=\"12\" font-style=\"italic\" lengthAdjust=\"spacingAndGlyphs\" textLength=\"77\" x=\"34.5\" y=\"58.2373\">«action def»</text><text fill=\"#000000\" font-family=\"sans-serif\" font-size=\"12\" lengthAdjust=\"spacingAndGlyphs\" textLength=\"27\" x=\"59.5\" y=\"72.2061\">setX</text></a><text fill=\"#000000\" font-family=\"sans-serif\" font-size=\"14\" lengthAdjust=\"spacingAndGlyphs\" textLength=\"8\" x=\"21\" y=\"20.7969\">c</text><rect fill=\"#383838\" height=\"12\" style=\"stroke: #F8F8F8; stroke-width: 1.5;\" width=\"12\" x=\"19\" y=\"36.0986\"/><text fill=\"#000000\" font-family=\"sans-serif\" font-size=\"14\" lengthAdjust=\"spacingAndGlyphs\" textLength=\"38\" x=\"53\" y=\"20.7969\">newX</text><rect fill=\"#383838\" height=\"12\" style=\"stroke: #F8F8F8; stroke-width: 1.5;\" width=\"12\" x=\"66\" y=\"36.0986\"/><!--MD5=[31977f9a9a8be0d3e0d3a7c31169534b]\n",
       "@startuml\r\n",
       "skinparam ranksep 8\r\n",
       "skinparam linetype polyline\r\n",
       "skinparam monochrome true\r\n",
       "skinparam classbackgroundcolor white\r\n",
       "skinparam shadowing false\r\n",
       "skinparam wrapWidth 300\r\n",
       "hide circle\r\n",
       "\r\n",
       "rec def \"setX\" as E1  <<(T,blue)action def>> [[psysml:8549a337-017f-4e92-9426-82c63ecb1b1e ]] {\r\n",
       "portin \"c\" as E2  [[psysml:aa76399d-9e78-4ecc-80de-8099ee5899a9 ]] \r\n",
       "portin \"newX\" as E3  [[psysml:3135ebc1-3d3a-4206-9f67-d8c3ceb18c3a ]] \r\n",
       "}\r\n",
       "\r\n",
       "@enduml\r\n",
       "\n",
       "PlantUML version 1.2020.13(Sat Jun 13 12:26:38 UTC 2020)\n",
       "(EPL source distribution)\n",
       "Java Runtime: OpenJDK Runtime Environment\n",
       "JVM: OpenJDK 64-Bit Server VM\n",
       "Default Encoding: UTF-8\n",
       "Language: en\n",
       "Country: null\n",
       "--></g></svg>"
      ]
     },
     "execution_count": 13,
     "metadata": {},
     "output_type": "execute_result"
    }
   ],
   "source": [
    "%viz --style=\"POLYLINE\" --view=\"Action\" \"TextualRepresentationTest\""
   ]
  },
  {
   "cell_type": "code",
   "execution_count": 14,
   "id": "disturbed-questionnaire",
   "metadata": {
    "execution": {
     "iopub.execute_input": "2021-03-25T14:18:54.028552Z",
     "iopub.status.busy": "2021-03-25T14:18:54.028076Z",
     "iopub.status.idle": "2021-03-25T14:18:54.450723Z",
     "shell.execute_reply": "2021-03-25T14:18:54.449358Z"
    }
   },
   "outputs": [
    {
     "data": {
      "image/svg+xml": [
       "<?xml version=\"1.0\" encoding=\"UTF-8\" standalone=\"no\"?><svg xmlns=\"http://www.w3.org/2000/svg\" xmlns:xlink=\"http://www.w3.org/1999/xlink\" contentScriptType=\"application/ecmascript\" contentStyleType=\"text/css\" height=\"297px\" preserveAspectRatio=\"none\" style=\"width:290px;height:297px;\" version=\"1.1\" viewBox=\"0 0 290 297\" width=\"290px\" zoomAndPan=\"magnify\"><defs/><g><!--MD5=[fbc87193dbaf4d95561dea2c320d4a47]\n",
       "cluster E1--><a href=\"psysml:64ccfe85-4fdd-4bf0-b3db-5945cd262e15\" target=\"_top\" title=\"psysml:64ccfe85-4fdd-4bf0-b3db-5945cd262e15\" xlink:actuate=\"onRequest\" xlink:href=\"psysml:64ccfe85-4fdd-4bf0-b3db-5945cd262e15\" xlink:show=\"new\" xlink:title=\"psysml:64ccfe85-4fdd-4bf0-b3db-5945cd262e15\" xlink:type=\"simple\"><polygon fill=\"#FFFFFF\" points=\"16,6,236,6,243,28.2969,268,28.2969,268,285,16,285,16,6\" style=\"stroke: #000000; stroke-width: 1.5;\"/><line style=\"stroke: #000000; stroke-width: 1.5;\" x1=\"16\" x2=\"243\" y1=\"28.2969\" y2=\"28.2969\"/><text fill=\"#000000\" font-family=\"sans-serif\" font-size=\"14\" font-weight=\"bold\" lengthAdjust=\"spacingAndGlyphs\" textLength=\"214\" x=\"20\" y=\"20.9951\">TextualRepresentationTest</text></a><!--MD5=[b4997ac47864f28c2f74865a473b2911]\n",
       "class E2--><a href=\"psysml:06125bd0-acad-496e-b065-61f119a09466\" target=\"_top\" title=\"psysml:06125bd0-acad-496e-b065-61f119a09466\" xlink:actuate=\"onRequest\" xlink:href=\"psysml:06125bd0-acad-496e-b065-61f119a09466\" xlink:show=\"new\" xlink:title=\"psysml:06125bd0-acad-496e-b065-61f119a09466\" xlink:type=\"simple\"><rect fill=\"#FFFFFF\" height=\"45.9375\" id=\"E2\" style=\"stroke: #383838; stroke-width: 1.5;\" width=\"74\" x=\"32\" y=\"193.5\"/><text fill=\"#000000\" font-family=\"sans-serif\" font-size=\"12\" font-style=\"italic\" lengthAdjust=\"spacingAndGlyphs\" textLength=\"72\" x=\"33\" y=\"209.6387\">«dataType»</text><text fill=\"#000000\" font-family=\"sans-serif\" font-size=\"12\" lengthAdjust=\"spacingAndGlyphs\" textLength=\"27\" x=\"55.5\" y=\"223.6074\">Real</text><line style=\"stroke: #383838; stroke-width: 1.5;\" x1=\"33\" x2=\"105\" y1=\"231.4375\" y2=\"231.4375\"/></a><!--MD5=[09b614a08d8cba4a07c9adeb5e0fee81]\n",
       "class E3--><a href=\"psysml:57586f80-7065-4509-85b2-20f5f1ea1e4c\" target=\"_top\" title=\"psysml:57586f80-7065-4509-85b2-20f5f1ea1e4c\" xlink:actuate=\"onRequest\" xlink:href=\"psysml:57586f80-7065-4509-85b2-20f5f1ea1e4c\" xlink:show=\"new\" xlink:title=\"psysml:57586f80-7065-4509-85b2-20f5f1ea1e4c\" xlink:type=\"simple\"><rect fill=\"#FFFFFF\" height=\"105.1563\" id=\"E3\" style=\"stroke: #383838; stroke-width: 1.5;\" width=\"111\" x=\"141.5\" y=\"164\"/><text fill=\"#000000\" font-family=\"sans-serif\" font-size=\"12\" font-style=\"italic\" lengthAdjust=\"spacingAndGlyphs\" textLength=\"65\" x=\"164.5\" y=\"180.1387\">«item def»</text><text fill=\"#000000\" font-family=\"sans-serif\" font-size=\"12\" lengthAdjust=\"spacingAndGlyphs\" textLength=\"8\" x=\"193\" y=\"194.1074\">C</text><line style=\"stroke: #383838; stroke-width: 1.5;\" x1=\"142.5\" x2=\"251.5\" y1=\"201.9375\" y2=\"201.9375\"/><text fill=\"#000000\" font-family=\"sans-serif\" font-size=\"11\" lengthAdjust=\"spacingAndGlyphs\" textLength=\"38\" x=\"147.5\" y=\"232.9526\">x: Real</text><line style=\"stroke: #383838; stroke-width: 1.0;\" x1=\"142.5\" x2=\"169.5\" y1=\"216.3398\" y2=\"216.3398\"/><text fill=\"#000000\" font-family=\"sans-serif\" font-size=\"11\" lengthAdjust=\"spacingAndGlyphs\" textLength=\"55\" x=\"169.5\" y=\"219.6479\">attributes</text><line style=\"stroke: #383838; stroke-width: 1.0;\" x1=\"224.5\" x2=\"251.5\" y1=\"216.3398\" y2=\"216.3398\"/><text fill=\"#000000\" font-family=\"sans-serif\" font-size=\"11\" lengthAdjust=\"spacingAndGlyphs\" textLength=\"69\" x=\"147.5\" y=\"262.562\">x_constraint</text><line style=\"stroke: #383838; stroke-width: 1.0;\" x1=\"142.5\" x2=\"145.5\" y1=\"245.9492\" y2=\"245.9492\"/><text fill=\"#000000\" font-family=\"sans-serif\" font-size=\"11\" lengthAdjust=\"spacingAndGlyphs\" textLength=\"103\" x=\"145.5\" y=\"249.2573\">assertConstraints</text><line style=\"stroke: #383838; stroke-width: 1.0;\" x1=\"248.5\" x2=\"251.5\" y1=\"245.9492\" y2=\"245.9492\"/></a><!--MD5=[270fce915f116d4de14055a7c1d9a0f3]\n",
       "class E5--><a href=\"psysml:8549a337-017f-4e92-9426-82c63ecb1b1e\" target=\"_top\" title=\"psysml:8549a337-017f-4e92-9426-82c63ecb1b1e\" xlink:actuate=\"onRequest\" xlink:href=\"psysml:8549a337-017f-4e92-9426-82c63ecb1b1e\" xlink:show=\"new\" xlink:title=\"psysml:8549a337-017f-4e92-9426-82c63ecb1b1e\" xlink:type=\"simple\"><rect fill=\"#FFFFFF\" height=\"45.9375\" id=\"E5\" style=\"stroke: #383838; stroke-width: 1.5;\" width=\"79\" x=\"67.5\" y=\"41\"/><text fill=\"#000000\" font-family=\"sans-serif\" font-size=\"12\" font-style=\"italic\" lengthAdjust=\"spacingAndGlyphs\" textLength=\"77\" x=\"68.5\" y=\"57.1387\">«action def»</text><text fill=\"#000000\" font-family=\"sans-serif\" font-size=\"12\" lengthAdjust=\"spacingAndGlyphs\" textLength=\"27\" x=\"93.5\" y=\"71.1074\">setX</text><line style=\"stroke: #383838; stroke-width: 1.5;\" x1=\"68.5\" x2=\"145.5\" y1=\"78.9375\" y2=\"78.9375\"/></a><!--MD5=[6f107eb264eda4b26325f39a5516f1f3]\n",
       "reverse link E5 to E3--><a href=\"psysml:aa76399d-9e78-4ecc-80de-8099ee5899a9\" target=\"_top\" title=\"psysml:aa76399d-9e78-4ecc-80de-8099ee5899a9\" xlink:actuate=\"onRequest\" xlink:href=\"psysml:aa76399d-9e78-4ecc-80de-8099ee5899a9\" xlink:show=\"new\" xlink:title=\"psysml:aa76399d-9e78-4ecc-80de-8099ee5899a9\" xlink:type=\"simple\"><path d=\"M126.98,98.42 C138.48,117.65 153.18,142.22 166.13,163.88 \" fill=\"none\" id=\"E5&lt;-E3\" style=\"stroke: #383838; stroke-width: 1.0;\"/><polygon fill=\"#FFFFFF\" points=\"120.28,87.21,119.9261,94.4124,126.4384,97.5092,126.7923,90.3068,120.28,87.21\" style=\"stroke: #383838; stroke-width: 1.0;\"/><text fill=\"#000000\" font-family=\"sans-serif\" font-size=\"13\" lengthAdjust=\"spacingAndGlyphs\" textLength=\"7\" x=\"147\" y=\"130.0669\">c</text></a><!--MD5=[f51c6d1f1856fe338ac0413483fb1ccf]\n",
       "reverse link E5 to E2--><a href=\"psysml:3135ebc1-3d3a-4206-9f67-d8c3ceb18c3a\" target=\"_top\" title=\"psysml:3135ebc1-3d3a-4206-9f67-d8c3ceb18c3a\" xlink:actuate=\"onRequest\" xlink:href=\"psysml:3135ebc1-3d3a-4206-9f67-d8c3ceb18c3a\" xlink:show=\"new\" xlink:title=\"psysml:3135ebc1-3d3a-4206-9f67-d8c3ceb18c3a\" xlink:type=\"simple\"><path d=\"M98.18,99.93 C90.92,128.69 80.84,168.6 74.63,193.2 \" fill=\"none\" id=\"E5&lt;-E2\" style=\"stroke: #383838; stroke-width: 1.0;\"/><polygon fill=\"#FFFFFF\" points=\"101.39,87.21,96.0413,92.0465,98.4485,98.8439,103.7972,94.0074,101.39,87.21\" style=\"stroke: #383838; stroke-width: 1.0;\"/><text fill=\"#000000\" font-family=\"sans-serif\" font-size=\"13\" lengthAdjust=\"spacingAndGlyphs\" textLength=\"33\" x=\"94\" y=\"130.0669\">newX</text></a><!--MD5=[0fce907d199e52f2ff45cfeca341a984]\n",
       "@startuml\r\n",
       "skinparam linetype polyline\r\n",
       "skinparam monochrome true\r\n",
       "skinparam classbackgroundcolor white\r\n",
       "skinparam shadowing false\r\n",
       "skinparam wrapWidth 300\r\n",
       "hide circle\r\n",
       "\r\n",
       "package \"TextualRepresentationTest\" as E1  [[psysml:64ccfe85-4fdd-4bf0-b3db-5945cd262e15 ]]  {\r\n",
       "comp def \"Real\" as E2  <<(T,blue)dataType>> [[psysml:06125bd0-acad-496e-b065-61f119a09466 ]] {\r\n",
       "}\r\n",
       "comp def \"C\" as E3  <<(T,blue)item def>> [[psysml:57586f80-7065-4509-85b2-20f5f1ea1e4c ]] {\r\n",
       "- - attributes - -\r\n",
       "x: Real\r\n",
       "- - assertConstraints - -\r\n",
       "x_constraint\r\n",
       "}\r\n",
       "comp def \"setX\" as E5  <<(T,blue)action def>> [[psysml:8549a337-017f-4e92-9426-82c63ecb1b1e ]] {\r\n",
       "}\r\n",
       "E5 o- - E3 [[psysml:aa76399d-9e78-4ecc-80de-8099ee5899a9 ]] : c\r\n",
       "E5 o- - E2 [[psysml:3135ebc1-3d3a-4206-9f67-d8c3ceb18c3a ]] : newX\r\n",
       "}\r\n",
       "@enduml\r\n",
       "\n",
       "PlantUML version 1.2020.13(Sat Jun 13 12:26:38 UTC 2020)\n",
       "(EPL source distribution)\n",
       "Java Runtime: OpenJDK Runtime Environment\n",
       "JVM: OpenJDK 64-Bit Server VM\n",
       "Default Encoding: UTF-8\n",
       "Language: en\n",
       "Country: null\n",
       "--></g></svg>"
      ]
     },
     "execution_count": 14,
     "metadata": {},
     "output_type": "execute_result"
    }
   ],
   "source": [
    "%viz --style=\"POLYLINE\" --view=\"Sequence\" \"TextualRepresentationTest\""
   ]
  },
  {
   "cell_type": "code",
   "execution_count": 15,
   "id": "brave-paint",
   "metadata": {
    "execution": {
     "iopub.execute_input": "2021-03-25T14:18:54.502887Z",
     "iopub.status.busy": "2021-03-25T14:18:54.502168Z",
     "iopub.status.idle": "2021-03-25T14:18:54.940631Z",
     "shell.execute_reply": "2021-03-25T14:18:54.939400Z"
    }
   },
   "outputs": [
    {
     "data": {
      "image/svg+xml": [
       "<?xml version=\"1.0\" encoding=\"UTF-8\" standalone=\"no\"?><svg xmlns=\"http://www.w3.org/2000/svg\" xmlns:xlink=\"http://www.w3.org/1999/xlink\" contentScriptType=\"application/ecmascript\" contentStyleType=\"text/css\" height=\"285px\" preserveAspectRatio=\"none\" style=\"width:432px;height:285px;\" version=\"1.1\" viewBox=\"0 0 432 285\" width=\"432px\" zoomAndPan=\"magnify\"><defs/><g><!--MD5=[fbc87193dbaf4d95561dea2c320d4a47]\n",
       "cluster E1--><a href=\"psysml:64ccfe85-4fdd-4bf0-b3db-5945cd262e15\" target=\"_top\" title=\"psysml:64ccfe85-4fdd-4bf0-b3db-5945cd262e15\" xlink:actuate=\"onRequest\" xlink:href=\"psysml:64ccfe85-4fdd-4bf0-b3db-5945cd262e15\" xlink:show=\"new\" xlink:title=\"psysml:64ccfe85-4fdd-4bf0-b3db-5945cd262e15\" xlink:type=\"simple\"><polygon fill=\"#FFFFFF\" points=\"16,6,236,6,243,28.2969,410,28.2969,410,273,16,273,16,6\" style=\"stroke: #000000; stroke-width: 1.5;\"/><line style=\"stroke: #000000; stroke-width: 1.5;\" x1=\"16\" x2=\"243\" y1=\"28.2969\" y2=\"28.2969\"/><text fill=\"#000000\" font-family=\"sans-serif\" font-size=\"14\" font-weight=\"bold\" lengthAdjust=\"spacingAndGlyphs\" textLength=\"214\" x=\"20\" y=\"20.9951\">TextualRepresentationTest</text></a><!--MD5=[de5ec2e2e8f62f467e546659f5068c88]\n",
       "cluster E5--><a href=\"psysml:8549a337-017f-4e92-9426-82c63ecb1b1e\" target=\"_top\" title=\"psysml:8549a337-017f-4e92-9426-82c63ecb1b1e\" xlink:actuate=\"onRequest\" xlink:href=\"psysml:8549a337-017f-4e92-9426-82c63ecb1b1e\" xlink:show=\"new\" xlink:title=\"psysml:8549a337-017f-4e92-9426-82c63ecb1b1e\" xlink:type=\"simple\"><rect fill=\"#FFFFFF\" height=\"163.5\" id=\"E5\" style=\"stroke: #383838; stroke-width: 1.5;\" width=\"96\" x=\"268.5\" y=\"93.5\"/><rect fill=\"#F8F8F8\" height=\"37.9375\" style=\"stroke: #383838; stroke-width: 1.5;\" width=\"96\" x=\"268.5\" y=\"93.5\"/><text fill=\"#000000\" font-family=\"sans-serif\" font-size=\"12\" font-style=\"italic\" lengthAdjust=\"spacingAndGlyphs\" textLength=\"77\" x=\"278\" y=\"109.6387\">«action def»</text><text fill=\"#000000\" font-family=\"sans-serif\" font-size=\"12\" lengthAdjust=\"spacingAndGlyphs\" textLength=\"27\" x=\"303\" y=\"123.6074\">setX</text></a><!--MD5=[b4997ac47864f28c2f74865a473b2911]\n",
       "class E2--><a href=\"psysml:06125bd0-acad-496e-b065-61f119a09466\" target=\"_top\" title=\"psysml:06125bd0-acad-496e-b065-61f119a09466\" xlink:actuate=\"onRequest\" xlink:href=\"psysml:06125bd0-acad-496e-b065-61f119a09466\" xlink:show=\"new\" xlink:title=\"psysml:06125bd0-acad-496e-b065-61f119a09466\" xlink:type=\"simple\"><rect fill=\"#FFFFFF\" height=\"45.9375\" id=\"E2\" style=\"stroke: #383838; stroke-width: 1.5;\" width=\"74\" x=\"178\" y=\"70.5\"/><text fill=\"#000000\" font-family=\"sans-serif\" font-size=\"12\" font-style=\"italic\" lengthAdjust=\"spacingAndGlyphs\" textLength=\"72\" x=\"179\" y=\"86.6387\">«dataType»</text><text fill=\"#000000\" font-family=\"sans-serif\" font-size=\"12\" lengthAdjust=\"spacingAndGlyphs\" textLength=\"27\" x=\"201.5\" y=\"100.6074\">Real</text><line style=\"stroke: #383838; stroke-width: 1.5;\" x1=\"179\" x2=\"251\" y1=\"108.4375\" y2=\"108.4375\"/></a><!--MD5=[09b614a08d8cba4a07c9adeb5e0fee81]\n",
       "class E3--><a href=\"psysml:57586f80-7065-4509-85b2-20f5f1ea1e4c\" target=\"_top\" title=\"psysml:57586f80-7065-4509-85b2-20f5f1ea1e4c\" xlink:actuate=\"onRequest\" xlink:href=\"psysml:57586f80-7065-4509-85b2-20f5f1ea1e4c\" xlink:show=\"new\" xlink:title=\"psysml:57586f80-7065-4509-85b2-20f5f1ea1e4c\" xlink:type=\"simple\"><rect fill=\"#FFFFFF\" height=\"105.1563\" id=\"E3\" style=\"stroke: #383838; stroke-width: 1.5;\" width=\"111\" x=\"31.5\" y=\"41\"/><text fill=\"#000000\" font-family=\"sans-serif\" font-size=\"12\" font-style=\"italic\" lengthAdjust=\"spacingAndGlyphs\" textLength=\"65\" x=\"54.5\" y=\"57.1387\">«item def»</text><text fill=\"#000000\" font-family=\"sans-serif\" font-size=\"12\" lengthAdjust=\"spacingAndGlyphs\" textLength=\"8\" x=\"83\" y=\"71.1074\">C</text><line style=\"stroke: #383838; stroke-width: 1.5;\" x1=\"32.5\" x2=\"141.5\" y1=\"78.9375\" y2=\"78.9375\"/><text fill=\"#000000\" font-family=\"sans-serif\" font-size=\"11\" lengthAdjust=\"spacingAndGlyphs\" textLength=\"38\" x=\"37.5\" y=\"109.9526\">x: Real</text><line style=\"stroke: #383838; stroke-width: 1.0;\" x1=\"32.5\" x2=\"59.5\" y1=\"93.3398\" y2=\"93.3398\"/><text fill=\"#000000\" font-family=\"sans-serif\" font-size=\"11\" lengthAdjust=\"spacingAndGlyphs\" textLength=\"55\" x=\"59.5\" y=\"96.6479\">attributes</text><line style=\"stroke: #383838; stroke-width: 1.0;\" x1=\"114.5\" x2=\"141.5\" y1=\"93.3398\" y2=\"93.3398\"/><text fill=\"#000000\" font-family=\"sans-serif\" font-size=\"11\" lengthAdjust=\"spacingAndGlyphs\" textLength=\"69\" x=\"37.5\" y=\"139.562\">x_constraint</text><line style=\"stroke: #383838; stroke-width: 1.0;\" x1=\"32.5\" x2=\"35.5\" y1=\"122.9492\" y2=\"122.9492\"/><text fill=\"#000000\" font-family=\"sans-serif\" font-size=\"11\" lengthAdjust=\"spacingAndGlyphs\" textLength=\"103\" x=\"35.5\" y=\"126.2573\">assertConstraints</text><line style=\"stroke: #383838; stroke-width: 1.0;\" x1=\"138.5\" x2=\"141.5\" y1=\"122.9492\" y2=\"122.9492\"/></a><text fill=\"#000000\" font-family=\"sans-serif\" font-size=\"14\" lengthAdjust=\"spacingAndGlyphs\" textLength=\"8\" x=\"289\" y=\"72.1982\">c</text><rect fill=\"#383838\" height=\"12\" style=\"stroke: #F8F8F8; stroke-width: 1.5;\" width=\"12\" x=\"287\" y=\"87.5\"/><text fill=\"#000000\" font-family=\"sans-serif\" font-size=\"14\" lengthAdjust=\"spacingAndGlyphs\" textLength=\"38\" x=\"321\" y=\"72.1982\">newX</text><rect fill=\"#383838\" height=\"12\" style=\"stroke: #F8F8F8; stroke-width: 1.5;\" width=\"12\" x=\"334\" y=\"87.5\"/><!--MD5=[6d617507f5c423a76f3f27c5ff7c9b6a]\n",
       "@startuml\r\n",
       "skinparam linetype polyline\r\n",
       "skinparam monochrome true\r\n",
       "skinparam classbackgroundcolor white\r\n",
       "skinparam shadowing false\r\n",
       "skinparam wrapWidth 300\r\n",
       "hide circle\r\n",
       "\r\n",
       "package \"TextualRepresentationTest\" as E1  [[psysml:64ccfe85-4fdd-4bf0-b3db-5945cd262e15 ]]  {\r\n",
       "comp def \"Real\" as E2  <<(T,blue)dataType>> [[psysml:06125bd0-acad-496e-b065-61f119a09466 ]] {\r\n",
       "}\r\n",
       "comp def \"C\" as E3  <<(T,blue)item def>> [[psysml:57586f80-7065-4509-85b2-20f5f1ea1e4c ]] {\r\n",
       "- - attributes - -\r\n",
       "x: Real\r\n",
       "- - assertConstraints - -\r\n",
       "x_constraint\r\n",
       "}\r\n",
       "rec def \"setX\" as E5  <<(T,blue)action def>> [[psysml:8549a337-017f-4e92-9426-82c63ecb1b1e ]] {\r\n",
       "portin \"c\" as E6  [[psysml:aa76399d-9e78-4ecc-80de-8099ee5899a9 ]] \r\n",
       "portin \"newX\" as E7  [[psysml:3135ebc1-3d3a-4206-9f67-d8c3ceb18c3a ]] \r\n",
       "}\r\n",
       "\r\n",
       "}\r\n",
       "@enduml\r\n",
       "\n",
       "PlantUML version 1.2020.13(Sat Jun 13 12:26:38 UTC 2020)\n",
       "(EPL source distribution)\n",
       "Java Runtime: OpenJDK Runtime Environment\n",
       "JVM: OpenJDK 64-Bit Server VM\n",
       "Default Encoding: UTF-8\n",
       "Language: en\n",
       "Country: null\n",
       "--></g></svg>"
      ]
     },
     "execution_count": 15,
     "metadata": {},
     "output_type": "execute_result"
    }
   ],
   "source": [
    "%viz --style=\"POLYLINE\" --view=\"MIXED\" \"TextualRepresentationTest\""
   ]
  },
  {
   "cell_type": "code",
   "execution_count": 16,
   "id": "magnetic-disclosure",
   "metadata": {
    "execution": {
     "iopub.execute_input": "2021-03-25T14:18:54.993932Z",
     "iopub.status.busy": "2021-03-25T14:18:54.993296Z",
     "iopub.status.idle": "2021-03-25T14:18:55.430651Z",
     "shell.execute_reply": "2021-03-25T14:18:55.429846Z"
    }
   },
   "outputs": [
    {
     "data": {
      "image/svg+xml": [
       "<?xml version=\"1.0\" encoding=\"UTF-8\" standalone=\"no\"?><svg xmlns=\"http://www.w3.org/2000/svg\" xmlns:xlink=\"http://www.w3.org/1999/xlink\" contentScriptType=\"application/ecmascript\" contentStyleType=\"text/css\" height=\"358px\" preserveAspectRatio=\"none\" style=\"width:359px;height:358px;\" version=\"1.1\" viewBox=\"0 0 359 358\" width=\"359px\" zoomAndPan=\"magnify\"><defs/><g><!--MD5=[fbc87193dbaf4d95561dea2c320d4a47]\n",
       "cluster E1--><a href=\"psysml:64ccfe85-4fdd-4bf0-b3db-5945cd262e15\" target=\"_top\" title=\"psysml:64ccfe85-4fdd-4bf0-b3db-5945cd262e15\" xlink:actuate=\"onRequest\" xlink:href=\"psysml:64ccfe85-4fdd-4bf0-b3db-5945cd262e15\" xlink:show=\"new\" xlink:title=\"psysml:64ccfe85-4fdd-4bf0-b3db-5945cd262e15\" xlink:type=\"simple\"><polygon fill=\"#FFFFFF\" points=\"16,6,236,6,243,28.2969,337,28.2969,337,346,16,346,16,6\" style=\"stroke: #000000; stroke-width: 1.5;\"/><line style=\"stroke: #000000; stroke-width: 1.5;\" x1=\"16\" x2=\"243\" y1=\"28.2969\" y2=\"28.2969\"/><text fill=\"#000000\" font-family=\"sans-serif\" font-size=\"14\" font-weight=\"bold\" lengthAdjust=\"spacingAndGlyphs\" textLength=\"214\" x=\"20\" y=\"20.9951\">TextualRepresentationTest</text></a><!--MD5=[de5ec2e2e8f62f467e546659f5068c88]\n",
       "cluster E5--><a href=\"psysml:8549a337-017f-4e92-9426-82c63ecb1b1e\" target=\"_top\" title=\"psysml:8549a337-017f-4e92-9426-82c63ecb1b1e\" xlink:actuate=\"onRequest\" xlink:href=\"psysml:8549a337-017f-4e92-9426-82c63ecb1b1e\" xlink:show=\"new\" xlink:title=\"psysml:8549a337-017f-4e92-9426-82c63ecb1b1e\" xlink:type=\"simple\"><rect fill=\"#FFFFFF\" height=\"47\" id=\"E5\" style=\"stroke: #383838; stroke-width: 1.5;\" width=\"251.5\" x=\"69.5\" y=\"55\"/><rect fill=\"#F8F8F8\" height=\"37.9375\" style=\"stroke: #383838; stroke-width: 1.5;\" width=\"251.5\" x=\"69.5\" y=\"55\"/><text fill=\"#000000\" font-family=\"sans-serif\" font-size=\"12\" font-style=\"italic\" lengthAdjust=\"spacingAndGlyphs\" textLength=\"77\" x=\"156.75\" y=\"71.1387\">«action def»</text><text fill=\"#000000\" font-family=\"sans-serif\" font-size=\"12\" lengthAdjust=\"spacingAndGlyphs\" textLength=\"27\" x=\"181.75\" y=\"85.1074\">setX</text></a><!--MD5=[b4997ac47864f28c2f74865a473b2911]\n",
       "class E2--><a href=\"psysml:06125bd0-acad-496e-b065-61f119a09466\" target=\"_top\" title=\"psysml:06125bd0-acad-496e-b065-61f119a09466\" xlink:actuate=\"onRequest\" xlink:href=\"psysml:06125bd0-acad-496e-b065-61f119a09466\" xlink:show=\"new\" xlink:title=\"psysml:06125bd0-acad-496e-b065-61f119a09466\" xlink:type=\"simple\"><rect fill=\"#FFFFFF\" height=\"45.9375\" id=\"E2\" style=\"stroke: #383838; stroke-width: 1.5;\" width=\"74\" x=\"50.5\" y=\"143\"/><text fill=\"#000000\" font-family=\"sans-serif\" font-size=\"12\" font-style=\"italic\" lengthAdjust=\"spacingAndGlyphs\" textLength=\"72\" x=\"51.5\" y=\"159.1387\">«dataType»</text><text fill=\"#000000\" font-family=\"sans-serif\" font-size=\"12\" lengthAdjust=\"spacingAndGlyphs\" textLength=\"27\" x=\"74\" y=\"173.1074\">Real</text><line style=\"stroke: #383838; stroke-width: 1.5;\" x1=\"51.5\" x2=\"123.5\" y1=\"180.9375\" y2=\"180.9375\"/></a><!--MD5=[09b614a08d8cba4a07c9adeb5e0fee81]\n",
       "class E3--><a href=\"psysml:57586f80-7065-4509-85b2-20f5f1ea1e4c\" target=\"_top\" title=\"psysml:57586f80-7065-4509-85b2-20f5f1ea1e4c\" xlink:actuate=\"onRequest\" xlink:href=\"psysml:57586f80-7065-4509-85b2-20f5f1ea1e4c\" xlink:show=\"new\" xlink:title=\"psysml:57586f80-7065-4509-85b2-20f5f1ea1e4c\" xlink:type=\"simple\"><rect fill=\"#FFFFFF\" height=\"105.1563\" id=\"E3\" style=\"stroke: #383838; stroke-width: 1.5;\" width=\"111\" x=\"32\" y=\"224.5\"/><text fill=\"#000000\" font-family=\"sans-serif\" font-size=\"12\" font-style=\"italic\" lengthAdjust=\"spacingAndGlyphs\" textLength=\"65\" x=\"55\" y=\"240.6387\">«item def»</text><text fill=\"#000000\" font-family=\"sans-serif\" font-size=\"12\" lengthAdjust=\"spacingAndGlyphs\" textLength=\"8\" x=\"83.5\" y=\"254.6074\">C</text><line style=\"stroke: #383838; stroke-width: 1.5;\" x1=\"33\" x2=\"142\" y1=\"262.4375\" y2=\"262.4375\"/><text fill=\"#000000\" font-family=\"sans-serif\" font-size=\"11\" lengthAdjust=\"spacingAndGlyphs\" textLength=\"38\" x=\"38\" y=\"293.4526\">x: Real</text><line style=\"stroke: #383838; stroke-width: 1.0;\" x1=\"33\" x2=\"60\" y1=\"276.8398\" y2=\"276.8398\"/><text fill=\"#000000\" font-family=\"sans-serif\" font-size=\"11\" lengthAdjust=\"spacingAndGlyphs\" textLength=\"55\" x=\"60\" y=\"280.1479\">attributes</text><line style=\"stroke: #383838; stroke-width: 1.0;\" x1=\"115\" x2=\"142\" y1=\"276.8398\" y2=\"276.8398\"/><text fill=\"#000000\" font-family=\"sans-serif\" font-size=\"11\" lengthAdjust=\"spacingAndGlyphs\" textLength=\"69\" x=\"38\" y=\"323.062\">x_constraint</text><line style=\"stroke: #383838; stroke-width: 1.0;\" x1=\"33\" x2=\"36\" y1=\"306.4492\" y2=\"306.4492\"/><text fill=\"#000000\" font-family=\"sans-serif\" font-size=\"11\" lengthAdjust=\"spacingAndGlyphs\" textLength=\"103\" x=\"36\" y=\"309.7573\">assertConstraints</text><line style=\"stroke: #383838; stroke-width: 1.0;\" x1=\"139\" x2=\"142\" y1=\"306.4492\" y2=\"306.4492\"/></a><text fill=\"#000000\" font-family=\"sans-serif\" font-size=\"14\" lengthAdjust=\"spacingAndGlyphs\" textLength=\"8\" x=\"83.5\" y=\"120.9951\">c</text><rect fill=\"#383838\" height=\"12\" style=\"stroke: #F8F8F8; stroke-width: 1.5;\" width=\"12\" x=\"81.5\" y=\"96\"/><text fill=\"#000000\" font-family=\"sans-serif\" font-size=\"14\" lengthAdjust=\"spacingAndGlyphs\" textLength=\"38\" x=\"68.5\" y=\"33.6982\">newX</text><rect fill=\"#383838\" height=\"12\" style=\"stroke: #F8F8F8; stroke-width: 1.5;\" width=\"12\" x=\"81.5\" y=\"49\"/><!--MD5=[d4ec892f2cd9ebfcc0f19c778cb71a0b]\n",
       "@startuml\r\n",
       "left to right direction\r\n",
       "skinparam monochrome true\r\n",
       "skinparam classbackgroundcolor white\r\n",
       "skinparam shadowing false\r\n",
       "skinparam wrapWidth 300\r\n",
       "hide circle\r\n",
       "\r\n",
       "package \"TextualRepresentationTest\" as E1  [[psysml:64ccfe85-4fdd-4bf0-b3db-5945cd262e15 ]]  {\r\n",
       "comp def \"Real\" as E2  <<(T,blue)dataType>> [[psysml:06125bd0-acad-496e-b065-61f119a09466 ]] {\r\n",
       "}\r\n",
       "comp def \"C\" as E3  <<(T,blue)item def>> [[psysml:57586f80-7065-4509-85b2-20f5f1ea1e4c ]] {\r\n",
       "- - attributes - -\r\n",
       "x: Real\r\n",
       "- - assertConstraints - -\r\n",
       "x_constraint\r\n",
       "}\r\n",
       "rec def \"setX\" as E5  <<(T,blue)action def>> [[psysml:8549a337-017f-4e92-9426-82c63ecb1b1e ]] {\r\n",
       "portin \"c\" as E6  [[psysml:aa76399d-9e78-4ecc-80de-8099ee5899a9 ]] \r\n",
       "portin \"newX\" as E7  [[psysml:3135ebc1-3d3a-4206-9f67-d8c3ceb18c3a ]] \r\n",
       "}\r\n",
       "\r\n",
       "}\r\n",
       "@enduml\r\n",
       "\n",
       "PlantUML version 1.2020.13(Sat Jun 13 12:26:38 UTC 2020)\n",
       "(EPL source distribution)\n",
       "Java Runtime: OpenJDK Runtime Environment\n",
       "JVM: OpenJDK 64-Bit Server VM\n",
       "Default Encoding: UTF-8\n",
       "Language: en\n",
       "Country: null\n",
       "--></g></svg>"
      ]
     },
     "execution_count": 16,
     "metadata": {},
     "output_type": "execute_result"
    }
   ],
   "source": [
    "%viz --style=\"LR\" --view=\"Default\" \"TextualRepresentationTest\""
   ]
  },
  {
   "cell_type": "code",
   "execution_count": 17,
   "id": "comic-corruption",
   "metadata": {
    "execution": {
     "iopub.execute_input": "2021-03-25T14:18:55.485247Z",
     "iopub.status.busy": "2021-03-25T14:18:55.484545Z",
     "iopub.status.idle": "2021-03-25T14:18:55.902508Z",
     "shell.execute_reply": "2021-03-25T14:18:55.902997Z"
    }
   },
   "outputs": [
    {
     "data": {
      "image/svg+xml": [
       "<?xml version=\"1.0\" encoding=\"UTF-8\" standalone=\"no\"?><svg xmlns=\"http://www.w3.org/2000/svg\" xmlns:xlink=\"http://www.w3.org/1999/xlink\" contentScriptType=\"application/ecmascript\" contentStyleType=\"text/css\" height=\"256px\" preserveAspectRatio=\"none\" style=\"width:355px;height:256px;\" version=\"1.1\" viewBox=\"0 0 355 256\" width=\"355px\" zoomAndPan=\"magnify\"><defs/><g><!--MD5=[fbc87193dbaf4d95561dea2c320d4a47]\n",
       "cluster E1--><a href=\"psysml:64ccfe85-4fdd-4bf0-b3db-5945cd262e15\" target=\"_top\" title=\"psysml:64ccfe85-4fdd-4bf0-b3db-5945cd262e15\" xlink:actuate=\"onRequest\" xlink:href=\"psysml:64ccfe85-4fdd-4bf0-b3db-5945cd262e15\" xlink:show=\"new\" xlink:title=\"psysml:64ccfe85-4fdd-4bf0-b3db-5945cd262e15\" xlink:type=\"simple\"><polygon fill=\"#FFFFFF\" points=\"16,6,236,6,243,28.2969,333,28.2969,333,244,16,244,16,6\" style=\"stroke: #000000; stroke-width: 1.5;\"/><line style=\"stroke: #000000; stroke-width: 1.5;\" x1=\"16\" x2=\"243\" y1=\"28.2969\" y2=\"28.2969\"/><text fill=\"#000000\" font-family=\"sans-serif\" font-size=\"14\" font-weight=\"bold\" lengthAdjust=\"spacingAndGlyphs\" textLength=\"214\" x=\"20\" y=\"20.9951\">TextualRepresentationTest</text></a><!--MD5=[b4997ac47864f28c2f74865a473b2911]\n",
       "class E2--><a href=\"psysml:06125bd0-acad-496e-b065-61f119a09466\" target=\"_top\" title=\"psysml:06125bd0-acad-496e-b065-61f119a09466\" xlink:actuate=\"onRequest\" xlink:href=\"psysml:06125bd0-acad-496e-b065-61f119a09466\" xlink:show=\"new\" xlink:title=\"psysml:06125bd0-acad-496e-b065-61f119a09466\" xlink:type=\"simple\"><rect fill=\"#FFFFFF\" height=\"45.9375\" id=\"E2\" style=\"stroke: #383838; stroke-width: 1.5;\" width=\"74\" x=\"224.5\" y=\"182\"/><text fill=\"#000000\" font-family=\"sans-serif\" font-size=\"12\" font-style=\"italic\" lengthAdjust=\"spacingAndGlyphs\" textLength=\"72\" x=\"225.5\" y=\"198.1387\">«dataType»</text><text fill=\"#000000\" font-family=\"sans-serif\" font-size=\"12\" lengthAdjust=\"spacingAndGlyphs\" textLength=\"27\" x=\"248\" y=\"212.1074\">Real</text><line style=\"stroke: #383838; stroke-width: 1.5;\" x1=\"225.5\" x2=\"297.5\" y1=\"219.9375\" y2=\"219.9375\"/></a><!--MD5=[09b614a08d8cba4a07c9adeb5e0fee81]\n",
       "class E3--><a href=\"psysml:57586f80-7065-4509-85b2-20f5f1ea1e4c\" target=\"_top\" title=\"psysml:57586f80-7065-4509-85b2-20f5f1ea1e4c\" xlink:actuate=\"onRequest\" xlink:href=\"psysml:57586f80-7065-4509-85b2-20f5f1ea1e4c\" xlink:show=\"new\" xlink:title=\"psysml:57586f80-7065-4509-85b2-20f5f1ea1e4c\" xlink:type=\"simple\"><rect fill=\"#FFFFFF\" height=\"105.1563\" id=\"E3\" style=\"stroke: #383838; stroke-width: 1.5;\" width=\"111\" x=\"206\" y=\"41.5\"/><text fill=\"#000000\" font-family=\"sans-serif\" font-size=\"12\" font-style=\"italic\" lengthAdjust=\"spacingAndGlyphs\" textLength=\"65\" x=\"229\" y=\"57.6387\">«item def»</text><text fill=\"#000000\" font-family=\"sans-serif\" font-size=\"12\" lengthAdjust=\"spacingAndGlyphs\" textLength=\"8\" x=\"257.5\" y=\"71.6074\">C</text><line style=\"stroke: #383838; stroke-width: 1.5;\" x1=\"207\" x2=\"316\" y1=\"79.4375\" y2=\"79.4375\"/><text fill=\"#000000\" font-family=\"sans-serif\" font-size=\"11\" lengthAdjust=\"spacingAndGlyphs\" textLength=\"38\" x=\"212\" y=\"110.4526\">x: Real</text><line style=\"stroke: #383838; stroke-width: 1.0;\" x1=\"207\" x2=\"234\" y1=\"93.8398\" y2=\"93.8398\"/><text fill=\"#000000\" font-family=\"sans-serif\" font-size=\"11\" lengthAdjust=\"spacingAndGlyphs\" textLength=\"55\" x=\"234\" y=\"97.1479\">attributes</text><line style=\"stroke: #383838; stroke-width: 1.0;\" x1=\"289\" x2=\"316\" y1=\"93.8398\" y2=\"93.8398\"/><text fill=\"#000000\" font-family=\"sans-serif\" font-size=\"11\" lengthAdjust=\"spacingAndGlyphs\" textLength=\"69\" x=\"212\" y=\"140.062\">x_constraint</text><line style=\"stroke: #383838; stroke-width: 1.0;\" x1=\"207\" x2=\"210\" y1=\"123.4492\" y2=\"123.4492\"/><text fill=\"#000000\" font-family=\"sans-serif\" font-size=\"11\" lengthAdjust=\"spacingAndGlyphs\" textLength=\"103\" x=\"210\" y=\"126.7573\">assertConstraints</text><line style=\"stroke: #383838; stroke-width: 1.0;\" x1=\"313\" x2=\"316\" y1=\"123.4492\" y2=\"123.4492\"/></a><!--MD5=[270fce915f116d4de14055a7c1d9a0f3]\n",
       "class E5--><a href=\"psysml:8549a337-017f-4e92-9426-82c63ecb1b1e\" target=\"_top\" title=\"psysml:8549a337-017f-4e92-9426-82c63ecb1b1e\" xlink:actuate=\"onRequest\" xlink:href=\"psysml:8549a337-017f-4e92-9426-82c63ecb1b1e\" xlink:show=\"new\" xlink:title=\"psysml:8549a337-017f-4e92-9426-82c63ecb1b1e\" xlink:type=\"simple\"><rect fill=\"#FFFFFF\" height=\"45.9375\" id=\"E5\" style=\"stroke: #383838; stroke-width: 1.5;\" width=\"79\" x=\"32\" y=\"116\"/><text fill=\"#000000\" font-family=\"sans-serif\" font-size=\"12\" font-style=\"italic\" lengthAdjust=\"spacingAndGlyphs\" textLength=\"77\" x=\"33\" y=\"132.1387\">«action def»</text><text fill=\"#000000\" font-family=\"sans-serif\" font-size=\"12\" lengthAdjust=\"spacingAndGlyphs\" textLength=\"27\" x=\"58\" y=\"146.1074\">setX</text><line style=\"stroke: #383838; stroke-width: 1.5;\" x1=\"33\" x2=\"110\" y1=\"153.9375\" y2=\"153.9375\"/></a><!--MD5=[6f107eb264eda4b26325f39a5516f1f3]\n",
       "reverse link E5 to E3--><a href=\"psysml:aa76399d-9e78-4ecc-80de-8099ee5899a9\" target=\"_top\" title=\"psysml:aa76399d-9e78-4ecc-80de-8099ee5899a9\" xlink:actuate=\"onRequest\" xlink:href=\"psysml:aa76399d-9e78-4ecc-80de-8099ee5899a9\" xlink:show=\"new\" xlink:title=\"psysml:aa76399d-9e78-4ecc-80de-8099ee5899a9\" xlink:type=\"simple\"><path d=\"M124.2,126.63 C149.58,120.55 180.16,113.23 205.91,107.07 \" fill=\"none\" id=\"E5&lt;-E3\" style=\"stroke: #383838; stroke-width: 1.0;\"/><polygon fill=\"#FFFFFF\" points=\"111.45,129.68,118.2168,132.1722,123.1198,126.8845,116.3531,124.3923,111.45,129.68\" style=\"stroke: #383838; stroke-width: 1.0;\"/><text fill=\"#000000\" font-family=\"sans-serif\" font-size=\"13\" lengthAdjust=\"spacingAndGlyphs\" textLength=\"7\" x=\"155\" y=\"112.0669\">c</text></a><!--MD5=[f51c6d1f1856fe338ac0413483fb1ccf]\n",
       "reverse link E5 to E2--><a href=\"psysml:3135ebc1-3d3a-4206-9f67-d8c3ceb18c3a\" target=\"_top\" title=\"psysml:3135ebc1-3d3a-4206-9f67-d8c3ceb18c3a\" xlink:actuate=\"onRequest\" xlink:href=\"psysml:3135ebc1-3d3a-4206-9f67-d8c3ceb18c3a\" xlink:show=\"new\" xlink:title=\"psysml:3135ebc1-3d3a-4206-9f67-d8c3ceb18c3a\" xlink:type=\"simple\"><path d=\"M124.1,157.11 C155.95,168.3 196.01,182.36 224.46,192.35 \" fill=\"none\" id=\"E5&lt;-E2\" style=\"stroke: #383838; stroke-width: 1.0;\"/><polygon fill=\"#FFFFFF\" points=\"111.45,152.68,115.7816,158.4452,122.7693,156.6642,118.4377,150.899,111.45,152.68\" style=\"stroke: #383838; stroke-width: 1.0;\"/><text fill=\"#000000\" font-family=\"sans-serif\" font-size=\"13\" lengthAdjust=\"spacingAndGlyphs\" textLength=\"33\" x=\"142\" y=\"161.0669\">newX</text></a><!--MD5=[7903b6a5c03e7b07fc999a5371d16b98]\n",
       "@startuml\r\n",
       "left to right direction\r\n",
       "skinparam monochrome true\r\n",
       "skinparam classbackgroundcolor white\r\n",
       "skinparam shadowing false\r\n",
       "skinparam wrapWidth 300\r\n",
       "hide circle\r\n",
       "\r\n",
       "package \"TextualRepresentationTest\" as E1  [[psysml:64ccfe85-4fdd-4bf0-b3db-5945cd262e15 ]]  {\r\n",
       "comp def \"Real\" as E2  <<(T,blue)dataType>> [[psysml:06125bd0-acad-496e-b065-61f119a09466 ]] {\r\n",
       "}\r\n",
       "comp def \"C\" as E3  <<(T,blue)item def>> [[psysml:57586f80-7065-4509-85b2-20f5f1ea1e4c ]] {\r\n",
       "- - attributes - -\r\n",
       "x: Real\r\n",
       "- - assertConstraints - -\r\n",
       "x_constraint\r\n",
       "}\r\n",
       "comp def \"setX\" as E5  <<(T,blue)action def>> [[psysml:8549a337-017f-4e92-9426-82c63ecb1b1e ]] {\r\n",
       "}\r\n",
       "E5 o- - E3 [[psysml:aa76399d-9e78-4ecc-80de-8099ee5899a9 ]] : c\r\n",
       "E5 o- - E2 [[psysml:3135ebc1-3d3a-4206-9f67-d8c3ceb18c3a ]] : newX\r\n",
       "}\r\n",
       "@enduml\r\n",
       "\n",
       "PlantUML version 1.2020.13(Sat Jun 13 12:26:38 UTC 2020)\n",
       "(EPL source distribution)\n",
       "Java Runtime: OpenJDK Runtime Environment\n",
       "JVM: OpenJDK 64-Bit Server VM\n",
       "Default Encoding: UTF-8\n",
       "Language: en\n",
       "Country: null\n",
       "--></g></svg>"
      ]
     },
     "execution_count": 17,
     "metadata": {},
     "output_type": "execute_result"
    }
   ],
   "source": [
    "%viz --style=\"LR\" --view=\"Tree\" \"TextualRepresentationTest\""
   ]
  },
  {
   "cell_type": "code",
   "execution_count": 18,
   "id": "fitted-harvard",
   "metadata": {
    "execution": {
     "iopub.execute_input": "2021-03-25T14:18:55.955942Z",
     "iopub.status.busy": "2021-03-25T14:18:55.954764Z",
     "iopub.status.idle": "2021-03-25T14:18:55.963959Z",
     "shell.execute_reply": "2021-03-25T14:18:55.963563Z"
    }
   },
   "outputs": [
    {
     "data": {
      "image/svg+xml": [
       "<?xml version=\"1.0\" encoding=\"UTF-8\" standalone=\"no\"?><svg xmlns=\"http://www.w3.org/2000/svg\" xmlns:xlink=\"http://www.w3.org/1999/xlink\" contentScriptType=\"application/ecmascript\" contentStyleType=\"text/css\" height=\"12px\" preserveAspectRatio=\"none\" style=\"width:12px;height:12px;\" version=\"1.1\" viewBox=\"0 0 12 12\" width=\"12px\" zoomAndPan=\"magnify\"><defs/><g><!--MD5=[19d285c9d72a204eba4e2cd117d745e8]\n",
       "@startuml\r\n",
       "left to right direction\r\n",
       "skinparam monochrome true\r\n",
       "skinparam classbackgroundcolor white\r\n",
       "skinparam shadowing false\r\n",
       "skinparam wrapWidth 300\r\n",
       "hide circle\r\n",
       "\r\n",
       "@enduml\r\n",
       "\n",
       "PlantUML version 1.2020.13(Sat Jun 13 12:26:38 UTC 2020)\n",
       "(EPL source distribution)\n",
       "Java Runtime: OpenJDK Runtime Environment\n",
       "JVM: OpenJDK 64-Bit Server VM\n",
       "Default Encoding: UTF-8\n",
       "Language: en\n",
       "Country: null\n",
       "--></g></svg>"
      ]
     },
     "execution_count": 18,
     "metadata": {},
     "output_type": "execute_result"
    }
   ],
   "source": [
    "%viz --style=\"LR\" --view=\"State\" \"TextualRepresentationTest\""
   ]
  },
  {
   "cell_type": "code",
   "execution_count": 19,
   "id": "precise-statistics",
   "metadata": {
    "execution": {
     "iopub.execute_input": "2021-03-25T14:18:56.017166Z",
     "iopub.status.busy": "2021-03-25T14:18:56.016132Z",
     "iopub.status.idle": "2021-03-25T14:18:56.106962Z",
     "shell.execute_reply": "2021-03-25T14:18:56.106450Z"
    }
   },
   "outputs": [
    {
     "data": {
      "image/svg+xml": [
       "<?xml version=\"1.0\" encoding=\"UTF-8\" standalone=\"no\"?><svg xmlns=\"http://www.w3.org/2000/svg\" xmlns:xlink=\"http://www.w3.org/1999/xlink\" contentScriptType=\"application/ecmascript\" contentStyleType=\"text/css\" height=\"293px\" preserveAspectRatio=\"none\" style=\"width:283px;height:293px;\" version=\"1.1\" viewBox=\"0 0 283 293\" width=\"283px\" zoomAndPan=\"magnify\"><defs/><g><!--MD5=[fbc87193dbaf4d95561dea2c320d4a47]\n",
       "cluster E1--><a href=\"psysml:64ccfe85-4fdd-4bf0-b3db-5945cd262e15\" target=\"_top\" title=\"psysml:64ccfe85-4fdd-4bf0-b3db-5945cd262e15\" xlink:actuate=\"onRequest\" xlink:href=\"psysml:64ccfe85-4fdd-4bf0-b3db-5945cd262e15\" xlink:show=\"new\" xlink:title=\"psysml:64ccfe85-4fdd-4bf0-b3db-5945cd262e15\" xlink:type=\"simple\"><polygon fill=\"#FFFFFF\" points=\"16,6,236,6,243,28.2969,261,28.2969,261,281,16,281,16,6\" style=\"stroke: #000000; stroke-width: 1.5;\"/><line style=\"stroke: #000000; stroke-width: 1.5;\" x1=\"16\" x2=\"243\" y1=\"28.2969\" y2=\"28.2969\"/><text fill=\"#000000\" font-family=\"sans-serif\" font-size=\"14\" font-weight=\"bold\" lengthAdjust=\"spacingAndGlyphs\" textLength=\"214\" x=\"20\" y=\"20.9951\">TextualRepresentationTest</text></a><!--MD5=[f6df4d0ebaf0b5dfb2ced0ae5af7c670]\n",
       "cluster E4--><a href=\"psysml:8549a337-017f-4e92-9426-82c63ecb1b1e\" target=\"_top\" title=\"psysml:8549a337-017f-4e92-9426-82c63ecb1b1e\" xlink:actuate=\"onRequest\" xlink:href=\"psysml:8549a337-017f-4e92-9426-82c63ecb1b1e\" xlink:show=\"new\" xlink:title=\"psysml:8549a337-017f-4e92-9426-82c63ecb1b1e\" xlink:type=\"simple\"><rect fill=\"#FFFFFF\" height=\"47\" id=\"E4\" style=\"stroke: #383838; stroke-width: 1.5;\" width=\"191.5\" x=\"53.5\" y=\"55\"/><rect fill=\"#F8F8F8\" height=\"37.9375\" style=\"stroke: #383838; stroke-width: 1.5;\" width=\"191.5\" x=\"53.5\" y=\"55\"/><text fill=\"#000000\" font-family=\"sans-serif\" font-size=\"12\" font-style=\"italic\" lengthAdjust=\"spacingAndGlyphs\" textLength=\"77\" x=\"110.75\" y=\"71.1387\">«action def»</text><text fill=\"#000000\" font-family=\"sans-serif\" font-size=\"12\" lengthAdjust=\"spacingAndGlyphs\" textLength=\"27\" x=\"135.75\" y=\"85.1074\">setX</text></a><g id=\"E1.E2\"><a href=\"psysml:06125bd0-acad-496e-b065-61f119a09466\" target=\"_top\" title=\"psysml:06125bd0-acad-496e-b065-61f119a09466\" xlink:actuate=\"onRequest\" xlink:href=\"psysml:06125bd0-acad-496e-b065-61f119a09466\" xlink:show=\"new\" xlink:title=\"psysml:06125bd0-acad-496e-b065-61f119a09466\" xlink:type=\"simple\"><rect fill=\"#FFFFFF\" height=\"42.9375\" id=\"E2\" style=\"stroke: #383838; stroke-width: 1.5;\" width=\"79\" x=\"32\" y=\"143.5\"/><rect fill=\"#F8F8F8\" height=\"37.9375\" style=\"stroke: #383838; stroke-width: 1.5;\" width=\"79\" x=\"32\" y=\"143.5\"/><text fill=\"#000000\" font-family=\"sans-serif\" font-size=\"12\" font-style=\"italic\" lengthAdjust=\"spacingAndGlyphs\" textLength=\"72\" x=\"35.5\" y=\"159.6387\">«dataType»</text><text fill=\"#000000\" font-family=\"sans-serif\" font-size=\"12\" lengthAdjust=\"spacingAndGlyphs\" textLength=\"27\" x=\"58\" y=\"173.6074\">Real</text></a></g><g id=\"E1.E3\"><a href=\"psysml:57586f80-7065-4509-85b2-20f5f1ea1e4c\" target=\"_top\" title=\"psysml:57586f80-7065-4509-85b2-20f5f1ea1e4c\" xlink:actuate=\"onRequest\" xlink:href=\"psysml:57586f80-7065-4509-85b2-20f5f1ea1e4c\" xlink:show=\"new\" xlink:title=\"psysml:57586f80-7065-4509-85b2-20f5f1ea1e4c\" xlink:type=\"simple\"><rect fill=\"#FFFFFF\" height=\"42.9375\" id=\"E3\" style=\"stroke: #383838; stroke-width: 1.5;\" width=\"72\" x=\"35.5\" y=\"221.5\"/><rect fill=\"#F8F8F8\" height=\"37.9375\" style=\"stroke: #383838; stroke-width: 1.5;\" width=\"72\" x=\"35.5\" y=\"221.5\"/><text fill=\"#000000\" font-family=\"sans-serif\" font-size=\"12\" font-style=\"italic\" lengthAdjust=\"spacingAndGlyphs\" textLength=\"65\" x=\"39\" y=\"237.6387\">«item def»</text><text fill=\"#000000\" font-family=\"sans-serif\" font-size=\"12\" lengthAdjust=\"spacingAndGlyphs\" textLength=\"8\" x=\"67.5\" y=\"251.6074\">C</text></a></g><text fill=\"#000000\" font-family=\"sans-serif\" font-size=\"14\" lengthAdjust=\"spacingAndGlyphs\" textLength=\"8\" x=\"67.5\" y=\"120.9951\">c</text><rect fill=\"#383838\" height=\"12\" style=\"stroke: #F8F8F8; stroke-width: 1.5;\" width=\"12\" x=\"65.5\" y=\"96\"/><text fill=\"#000000\" font-family=\"sans-serif\" font-size=\"14\" lengthAdjust=\"spacingAndGlyphs\" textLength=\"38\" x=\"52.5\" y=\"33.6982\">newX</text><rect fill=\"#383838\" height=\"12\" style=\"stroke: #F8F8F8; stroke-width: 1.5;\" width=\"12\" x=\"65.5\" y=\"49\"/><!--MD5=[24646c1312a5e349cf578309026fc0a5]\n",
       "@startuml\r\n",
       "skinparam ranksep 10\r\n",
       "skinparam rectangle {\r\n",
       " backgroundColor<<block>> LightGreen\r\n",
       "}\r\n",
       "left to right direction\r\n",
       "skinparam monochrome true\r\n",
       "skinparam classbackgroundcolor white\r\n",
       "skinparam shadowing false\r\n",
       "skinparam wrapWidth 300\r\n",
       "hide circle\r\n",
       "\r\n",
       "package \"TextualRepresentationTest\" as E1  [[psysml:64ccfe85-4fdd-4bf0-b3db-5945cd262e15 ]]  {\r\n",
       "def \"Real\" as E2  <<(T,blue)dataType>> [[psysml:06125bd0-acad-496e-b065-61f119a09466 ]] \r\n",
       "def \"C\" as E3  <<(T,blue)item def>> [[psysml:57586f80-7065-4509-85b2-20f5f1ea1e4c ]] \r\n",
       "rec def \"setX\" as E4  <<(T,blue)action def>> [[psysml:8549a337-017f-4e92-9426-82c63ecb1b1e ]] {\r\n",
       "portin \"c\" as E5  [[psysml:aa76399d-9e78-4ecc-80de-8099ee5899a9 ]] \r\n",
       "portin \"newX\" as E6  [[psysml:3135ebc1-3d3a-4206-9f67-d8c3ceb18c3a ]] \r\n",
       "}\r\n",
       "\r\n",
       "}\r\n",
       "@enduml\r\n",
       "\n",
       "PlantUML version 1.2020.13(Sat Jun 13 12:26:38 UTC 2020)\n",
       "(EPL source distribution)\n",
       "Java Runtime: OpenJDK Runtime Environment\n",
       "JVM: OpenJDK 64-Bit Server VM\n",
       "Default Encoding: UTF-8\n",
       "Language: en\n",
       "Country: null\n",
       "--></g></svg>"
      ]
     },
     "execution_count": 19,
     "metadata": {},
     "output_type": "execute_result"
    }
   ],
   "source": [
    "%viz --style=\"LR\" --view=\"Interconnection\" \"TextualRepresentationTest\""
   ]
  },
  {
   "cell_type": "code",
   "execution_count": 20,
   "id": "racial-watershed",
   "metadata": {
    "execution": {
     "iopub.execute_input": "2021-03-25T14:18:56.159525Z",
     "iopub.status.busy": "2021-03-25T14:18:56.158948Z",
     "iopub.status.idle": "2021-03-25T14:18:56.221835Z",
     "shell.execute_reply": "2021-03-25T14:18:56.222234Z"
    }
   },
   "outputs": [
    {
     "data": {
      "image/svg+xml": [
       "<?xml version=\"1.0\" encoding=\"UTF-8\" standalone=\"no\"?><svg xmlns=\"http://www.w3.org/2000/svg\" xmlns:xlink=\"http://www.w3.org/1999/xlink\" contentScriptType=\"application/ecmascript\" contentStyleType=\"text/css\" height=\"121px\" preserveAspectRatio=\"none\" style=\"width:176px;height:121px;\" version=\"1.1\" viewBox=\"0 0 176 121\" width=\"176px\" zoomAndPan=\"magnify\"><defs/><g><!--MD5=[fbc87193dbaf4d95561dea2c320d4a47]\n",
       "cluster E1--><a href=\"psysml:8549a337-017f-4e92-9426-82c63ecb1b1e\" target=\"_top\" title=\"psysml:8549a337-017f-4e92-9426-82c63ecb1b1e\" xlink:actuate=\"onRequest\" xlink:href=\"psysml:8549a337-017f-4e92-9426-82c63ecb1b1e\" xlink:show=\"new\" xlink:title=\"psysml:8549a337-017f-4e92-9426-82c63ecb1b1e\" xlink:type=\"simple\"><rect fill=\"#FFFFFF\" height=\"47\" id=\"E1\" style=\"stroke: #383838; stroke-width: 1.5;\" width=\"158\" x=\"7\" y=\"42.0986\"/><rect fill=\"#F8F8F8\" height=\"37.9375\" style=\"stroke: #383838; stroke-width: 1.5;\" width=\"158\" x=\"7\" y=\"42.0986\"/><text fill=\"#000000\" font-family=\"sans-serif\" font-size=\"12\" font-style=\"italic\" lengthAdjust=\"spacingAndGlyphs\" textLength=\"77\" x=\"47.5\" y=\"58.2373\">«action def»</text><text fill=\"#000000\" font-family=\"sans-serif\" font-size=\"12\" lengthAdjust=\"spacingAndGlyphs\" textLength=\"27\" x=\"72.5\" y=\"72.2061\">setX</text></a><text fill=\"#000000\" font-family=\"sans-serif\" font-size=\"14\" lengthAdjust=\"spacingAndGlyphs\" textLength=\"8\" x=\"21\" y=\"108.0938\">c</text><rect fill=\"#383838\" height=\"12\" style=\"stroke: #F8F8F8; stroke-width: 1.5;\" width=\"12\" x=\"19\" y=\"83.0986\"/><text fill=\"#000000\" font-family=\"sans-serif\" font-size=\"14\" lengthAdjust=\"spacingAndGlyphs\" textLength=\"38\" x=\"6\" y=\"20.7969\">newX</text><rect fill=\"#383838\" height=\"12\" style=\"stroke: #F8F8F8; stroke-width: 1.5;\" width=\"12\" x=\"19\" y=\"36.0986\"/><!--MD5=[9ae8867bbc21a7bef514a30a0946c522]\n",
       "@startuml\r\n",
       "skinparam ranksep 8\r\n",
       "left to right direction\r\n",
       "skinparam monochrome true\r\n",
       "skinparam classbackgroundcolor white\r\n",
       "skinparam shadowing false\r\n",
       "skinparam wrapWidth 300\r\n",
       "hide circle\r\n",
       "\r\n",
       "rec def \"setX\" as E1  <<(T,blue)action def>> [[psysml:8549a337-017f-4e92-9426-82c63ecb1b1e ]] {\r\n",
       "portin \"c\" as E2  [[psysml:aa76399d-9e78-4ecc-80de-8099ee5899a9 ]] \r\n",
       "portin \"newX\" as E3  [[psysml:3135ebc1-3d3a-4206-9f67-d8c3ceb18c3a ]] \r\n",
       "}\r\n",
       "\r\n",
       "@enduml\r\n",
       "\n",
       "PlantUML version 1.2020.13(Sat Jun 13 12:26:38 UTC 2020)\n",
       "(EPL source distribution)\n",
       "Java Runtime: OpenJDK Runtime Environment\n",
       "JVM: OpenJDK 64-Bit Server VM\n",
       "Default Encoding: UTF-8\n",
       "Language: en\n",
       "Country: null\n",
       "--></g></svg>"
      ]
     },
     "execution_count": 20,
     "metadata": {},
     "output_type": "execute_result"
    }
   ],
   "source": [
    "%viz --style=\"LR\" --view=\"Action\" \"TextualRepresentationTest\""
   ]
  },
  {
   "cell_type": "code",
   "execution_count": 21,
   "id": "blank-spell",
   "metadata": {
    "execution": {
     "iopub.execute_input": "2021-03-25T14:18:56.276373Z",
     "iopub.status.busy": "2021-03-25T14:18:56.275602Z",
     "iopub.status.idle": "2021-03-25T14:18:56.689506Z",
     "shell.execute_reply": "2021-03-25T14:18:56.688154Z"
    }
   },
   "outputs": [
    {
     "data": {
      "image/svg+xml": [
       "<?xml version=\"1.0\" encoding=\"UTF-8\" standalone=\"no\"?><svg xmlns=\"http://www.w3.org/2000/svg\" xmlns:xlink=\"http://www.w3.org/1999/xlink\" contentScriptType=\"application/ecmascript\" contentStyleType=\"text/css\" height=\"256px\" preserveAspectRatio=\"none\" style=\"width:355px;height:256px;\" version=\"1.1\" viewBox=\"0 0 355 256\" width=\"355px\" zoomAndPan=\"magnify\"><defs/><g><!--MD5=[fbc87193dbaf4d95561dea2c320d4a47]\n",
       "cluster E1--><a href=\"psysml:64ccfe85-4fdd-4bf0-b3db-5945cd262e15\" target=\"_top\" title=\"psysml:64ccfe85-4fdd-4bf0-b3db-5945cd262e15\" xlink:actuate=\"onRequest\" xlink:href=\"psysml:64ccfe85-4fdd-4bf0-b3db-5945cd262e15\" xlink:show=\"new\" xlink:title=\"psysml:64ccfe85-4fdd-4bf0-b3db-5945cd262e15\" xlink:type=\"simple\"><polygon fill=\"#FFFFFF\" points=\"16,6,236,6,243,28.2969,333,28.2969,333,244,16,244,16,6\" style=\"stroke: #000000; stroke-width: 1.5;\"/><line style=\"stroke: #000000; stroke-width: 1.5;\" x1=\"16\" x2=\"243\" y1=\"28.2969\" y2=\"28.2969\"/><text fill=\"#000000\" font-family=\"sans-serif\" font-size=\"14\" font-weight=\"bold\" lengthAdjust=\"spacingAndGlyphs\" textLength=\"214\" x=\"20\" y=\"20.9951\">TextualRepresentationTest</text></a><!--MD5=[b4997ac47864f28c2f74865a473b2911]\n",
       "class E2--><a href=\"psysml:06125bd0-acad-496e-b065-61f119a09466\" target=\"_top\" title=\"psysml:06125bd0-acad-496e-b065-61f119a09466\" xlink:actuate=\"onRequest\" xlink:href=\"psysml:06125bd0-acad-496e-b065-61f119a09466\" xlink:show=\"new\" xlink:title=\"psysml:06125bd0-acad-496e-b065-61f119a09466\" xlink:type=\"simple\"><rect fill=\"#FFFFFF\" height=\"45.9375\" id=\"E2\" style=\"stroke: #383838; stroke-width: 1.5;\" width=\"74\" x=\"224.5\" y=\"182\"/><text fill=\"#000000\" font-family=\"sans-serif\" font-size=\"12\" font-style=\"italic\" lengthAdjust=\"spacingAndGlyphs\" textLength=\"72\" x=\"225.5\" y=\"198.1387\">«dataType»</text><text fill=\"#000000\" font-family=\"sans-serif\" font-size=\"12\" lengthAdjust=\"spacingAndGlyphs\" textLength=\"27\" x=\"248\" y=\"212.1074\">Real</text><line style=\"stroke: #383838; stroke-width: 1.5;\" x1=\"225.5\" x2=\"297.5\" y1=\"219.9375\" y2=\"219.9375\"/></a><!--MD5=[09b614a08d8cba4a07c9adeb5e0fee81]\n",
       "class E3--><a href=\"psysml:57586f80-7065-4509-85b2-20f5f1ea1e4c\" target=\"_top\" title=\"psysml:57586f80-7065-4509-85b2-20f5f1ea1e4c\" xlink:actuate=\"onRequest\" xlink:href=\"psysml:57586f80-7065-4509-85b2-20f5f1ea1e4c\" xlink:show=\"new\" xlink:title=\"psysml:57586f80-7065-4509-85b2-20f5f1ea1e4c\" xlink:type=\"simple\"><rect fill=\"#FFFFFF\" height=\"105.1563\" id=\"E3\" style=\"stroke: #383838; stroke-width: 1.5;\" width=\"111\" x=\"206\" y=\"41.5\"/><text fill=\"#000000\" font-family=\"sans-serif\" font-size=\"12\" font-style=\"italic\" lengthAdjust=\"spacingAndGlyphs\" textLength=\"65\" x=\"229\" y=\"57.6387\">«item def»</text><text fill=\"#000000\" font-family=\"sans-serif\" font-size=\"12\" lengthAdjust=\"spacingAndGlyphs\" textLength=\"8\" x=\"257.5\" y=\"71.6074\">C</text><line style=\"stroke: #383838; stroke-width: 1.5;\" x1=\"207\" x2=\"316\" y1=\"79.4375\" y2=\"79.4375\"/><text fill=\"#000000\" font-family=\"sans-serif\" font-size=\"11\" lengthAdjust=\"spacingAndGlyphs\" textLength=\"38\" x=\"212\" y=\"110.4526\">x: Real</text><line style=\"stroke: #383838; stroke-width: 1.0;\" x1=\"207\" x2=\"234\" y1=\"93.8398\" y2=\"93.8398\"/><text fill=\"#000000\" font-family=\"sans-serif\" font-size=\"11\" lengthAdjust=\"spacingAndGlyphs\" textLength=\"55\" x=\"234\" y=\"97.1479\">attributes</text><line style=\"stroke: #383838; stroke-width: 1.0;\" x1=\"289\" x2=\"316\" y1=\"93.8398\" y2=\"93.8398\"/><text fill=\"#000000\" font-family=\"sans-serif\" font-size=\"11\" lengthAdjust=\"spacingAndGlyphs\" textLength=\"69\" x=\"212\" y=\"140.062\">x_constraint</text><line style=\"stroke: #383838; stroke-width: 1.0;\" x1=\"207\" x2=\"210\" y1=\"123.4492\" y2=\"123.4492\"/><text fill=\"#000000\" font-family=\"sans-serif\" font-size=\"11\" lengthAdjust=\"spacingAndGlyphs\" textLength=\"103\" x=\"210\" y=\"126.7573\">assertConstraints</text><line style=\"stroke: #383838; stroke-width: 1.0;\" x1=\"313\" x2=\"316\" y1=\"123.4492\" y2=\"123.4492\"/></a><!--MD5=[270fce915f116d4de14055a7c1d9a0f3]\n",
       "class E5--><a href=\"psysml:8549a337-017f-4e92-9426-82c63ecb1b1e\" target=\"_top\" title=\"psysml:8549a337-017f-4e92-9426-82c63ecb1b1e\" xlink:actuate=\"onRequest\" xlink:href=\"psysml:8549a337-017f-4e92-9426-82c63ecb1b1e\" xlink:show=\"new\" xlink:title=\"psysml:8549a337-017f-4e92-9426-82c63ecb1b1e\" xlink:type=\"simple\"><rect fill=\"#FFFFFF\" height=\"45.9375\" id=\"E5\" style=\"stroke: #383838; stroke-width: 1.5;\" width=\"79\" x=\"32\" y=\"116\"/><text fill=\"#000000\" font-family=\"sans-serif\" font-size=\"12\" font-style=\"italic\" lengthAdjust=\"spacingAndGlyphs\" textLength=\"77\" x=\"33\" y=\"132.1387\">«action def»</text><text fill=\"#000000\" font-family=\"sans-serif\" font-size=\"12\" lengthAdjust=\"spacingAndGlyphs\" textLength=\"27\" x=\"58\" y=\"146.1074\">setX</text><line style=\"stroke: #383838; stroke-width: 1.5;\" x1=\"33\" x2=\"110\" y1=\"153.9375\" y2=\"153.9375\"/></a><!--MD5=[6f107eb264eda4b26325f39a5516f1f3]\n",
       "reverse link E5 to E3--><a href=\"psysml:aa76399d-9e78-4ecc-80de-8099ee5899a9\" target=\"_top\" title=\"psysml:aa76399d-9e78-4ecc-80de-8099ee5899a9\" xlink:actuate=\"onRequest\" xlink:href=\"psysml:aa76399d-9e78-4ecc-80de-8099ee5899a9\" xlink:show=\"new\" xlink:title=\"psysml:aa76399d-9e78-4ecc-80de-8099ee5899a9\" xlink:type=\"simple\"><path d=\"M124.2,126.63 C149.58,120.55 180.16,113.23 205.91,107.07 \" fill=\"none\" id=\"E5&lt;-E3\" style=\"stroke: #383838; stroke-width: 1.0;\"/><polygon fill=\"#FFFFFF\" points=\"111.45,129.68,118.2168,132.1722,123.1198,126.8845,116.3531,124.3923,111.45,129.68\" style=\"stroke: #383838; stroke-width: 1.0;\"/><text fill=\"#000000\" font-family=\"sans-serif\" font-size=\"13\" lengthAdjust=\"spacingAndGlyphs\" textLength=\"7\" x=\"155\" y=\"112.0669\">c</text></a><!--MD5=[f51c6d1f1856fe338ac0413483fb1ccf]\n",
       "reverse link E5 to E2--><a href=\"psysml:3135ebc1-3d3a-4206-9f67-d8c3ceb18c3a\" target=\"_top\" title=\"psysml:3135ebc1-3d3a-4206-9f67-d8c3ceb18c3a\" xlink:actuate=\"onRequest\" xlink:href=\"psysml:3135ebc1-3d3a-4206-9f67-d8c3ceb18c3a\" xlink:show=\"new\" xlink:title=\"psysml:3135ebc1-3d3a-4206-9f67-d8c3ceb18c3a\" xlink:type=\"simple\"><path d=\"M124.1,157.11 C155.95,168.3 196.01,182.36 224.46,192.35 \" fill=\"none\" id=\"E5&lt;-E2\" style=\"stroke: #383838; stroke-width: 1.0;\"/><polygon fill=\"#FFFFFF\" points=\"111.45,152.68,115.7816,158.4452,122.7693,156.6642,118.4377,150.899,111.45,152.68\" style=\"stroke: #383838; stroke-width: 1.0;\"/><text fill=\"#000000\" font-family=\"sans-serif\" font-size=\"13\" lengthAdjust=\"spacingAndGlyphs\" textLength=\"33\" x=\"142\" y=\"161.0669\">newX</text></a><!--MD5=[7903b6a5c03e7b07fc999a5371d16b98]\n",
       "@startuml\r\n",
       "left to right direction\r\n",
       "skinparam monochrome true\r\n",
       "skinparam classbackgroundcolor white\r\n",
       "skinparam shadowing false\r\n",
       "skinparam wrapWidth 300\r\n",
       "hide circle\r\n",
       "\r\n",
       "package \"TextualRepresentationTest\" as E1  [[psysml:64ccfe85-4fdd-4bf0-b3db-5945cd262e15 ]]  {\r\n",
       "comp def \"Real\" as E2  <<(T,blue)dataType>> [[psysml:06125bd0-acad-496e-b065-61f119a09466 ]] {\r\n",
       "}\r\n",
       "comp def \"C\" as E3  <<(T,blue)item def>> [[psysml:57586f80-7065-4509-85b2-20f5f1ea1e4c ]] {\r\n",
       "- - attributes - -\r\n",
       "x: Real\r\n",
       "- - assertConstraints - -\r\n",
       "x_constraint\r\n",
       "}\r\n",
       "comp def \"setX\" as E5  <<(T,blue)action def>> [[psysml:8549a337-017f-4e92-9426-82c63ecb1b1e ]] {\r\n",
       "}\r\n",
       "E5 o- - E3 [[psysml:aa76399d-9e78-4ecc-80de-8099ee5899a9 ]] : c\r\n",
       "E5 o- - E2 [[psysml:3135ebc1-3d3a-4206-9f67-d8c3ceb18c3a ]] : newX\r\n",
       "}\r\n",
       "@enduml\r\n",
       "\n",
       "PlantUML version 1.2020.13(Sat Jun 13 12:26:38 UTC 2020)\n",
       "(EPL source distribution)\n",
       "Java Runtime: OpenJDK Runtime Environment\n",
       "JVM: OpenJDK 64-Bit Server VM\n",
       "Default Encoding: UTF-8\n",
       "Language: en\n",
       "Country: null\n",
       "--></g></svg>"
      ]
     },
     "execution_count": 21,
     "metadata": {},
     "output_type": "execute_result"
    }
   ],
   "source": [
    "%viz --style=\"LR\" --view=\"Sequence\" \"TextualRepresentationTest\""
   ]
  },
  {
   "cell_type": "code",
   "execution_count": 22,
   "id": "occasional-specialist",
   "metadata": {
    "execution": {
     "iopub.execute_input": "2021-03-25T14:18:56.741186Z",
     "iopub.status.busy": "2021-03-25T14:18:56.740217Z",
     "iopub.status.idle": "2021-03-25T14:18:57.176775Z",
     "shell.execute_reply": "2021-03-25T14:18:57.177251Z"
    }
   },
   "outputs": [
    {
     "data": {
      "image/svg+xml": [
       "<?xml version=\"1.0\" encoding=\"UTF-8\" standalone=\"no\"?><svg xmlns=\"http://www.w3.org/2000/svg\" xmlns:xlink=\"http://www.w3.org/1999/xlink\" contentScriptType=\"application/ecmascript\" contentStyleType=\"text/css\" height=\"358px\" preserveAspectRatio=\"none\" style=\"width:359px;height:358px;\" version=\"1.1\" viewBox=\"0 0 359 358\" width=\"359px\" zoomAndPan=\"magnify\"><defs/><g><!--MD5=[fbc87193dbaf4d95561dea2c320d4a47]\n",
       "cluster E1--><a href=\"psysml:64ccfe85-4fdd-4bf0-b3db-5945cd262e15\" target=\"_top\" title=\"psysml:64ccfe85-4fdd-4bf0-b3db-5945cd262e15\" xlink:actuate=\"onRequest\" xlink:href=\"psysml:64ccfe85-4fdd-4bf0-b3db-5945cd262e15\" xlink:show=\"new\" xlink:title=\"psysml:64ccfe85-4fdd-4bf0-b3db-5945cd262e15\" xlink:type=\"simple\"><polygon fill=\"#FFFFFF\" points=\"16,6,236,6,243,28.2969,337,28.2969,337,346,16,346,16,6\" style=\"stroke: #000000; stroke-width: 1.5;\"/><line style=\"stroke: #000000; stroke-width: 1.5;\" x1=\"16\" x2=\"243\" y1=\"28.2969\" y2=\"28.2969\"/><text fill=\"#000000\" font-family=\"sans-serif\" font-size=\"14\" font-weight=\"bold\" lengthAdjust=\"spacingAndGlyphs\" textLength=\"214\" x=\"20\" y=\"20.9951\">TextualRepresentationTest</text></a><!--MD5=[de5ec2e2e8f62f467e546659f5068c88]\n",
       "cluster E5--><a href=\"psysml:8549a337-017f-4e92-9426-82c63ecb1b1e\" target=\"_top\" title=\"psysml:8549a337-017f-4e92-9426-82c63ecb1b1e\" xlink:actuate=\"onRequest\" xlink:href=\"psysml:8549a337-017f-4e92-9426-82c63ecb1b1e\" xlink:show=\"new\" xlink:title=\"psysml:8549a337-017f-4e92-9426-82c63ecb1b1e\" xlink:type=\"simple\"><rect fill=\"#FFFFFF\" height=\"47\" id=\"E5\" style=\"stroke: #383838; stroke-width: 1.5;\" width=\"251.5\" x=\"69.5\" y=\"55\"/><rect fill=\"#F8F8F8\" height=\"37.9375\" style=\"stroke: #383838; stroke-width: 1.5;\" width=\"251.5\" x=\"69.5\" y=\"55\"/><text fill=\"#000000\" font-family=\"sans-serif\" font-size=\"12\" font-style=\"italic\" lengthAdjust=\"spacingAndGlyphs\" textLength=\"77\" x=\"156.75\" y=\"71.1387\">«action def»</text><text fill=\"#000000\" font-family=\"sans-serif\" font-size=\"12\" lengthAdjust=\"spacingAndGlyphs\" textLength=\"27\" x=\"181.75\" y=\"85.1074\">setX</text></a><!--MD5=[b4997ac47864f28c2f74865a473b2911]\n",
       "class E2--><a href=\"psysml:06125bd0-acad-496e-b065-61f119a09466\" target=\"_top\" title=\"psysml:06125bd0-acad-496e-b065-61f119a09466\" xlink:actuate=\"onRequest\" xlink:href=\"psysml:06125bd0-acad-496e-b065-61f119a09466\" xlink:show=\"new\" xlink:title=\"psysml:06125bd0-acad-496e-b065-61f119a09466\" xlink:type=\"simple\"><rect fill=\"#FFFFFF\" height=\"45.9375\" id=\"E2\" style=\"stroke: #383838; stroke-width: 1.5;\" width=\"74\" x=\"50.5\" y=\"143\"/><text fill=\"#000000\" font-family=\"sans-serif\" font-size=\"12\" font-style=\"italic\" lengthAdjust=\"spacingAndGlyphs\" textLength=\"72\" x=\"51.5\" y=\"159.1387\">«dataType»</text><text fill=\"#000000\" font-family=\"sans-serif\" font-size=\"12\" lengthAdjust=\"spacingAndGlyphs\" textLength=\"27\" x=\"74\" y=\"173.1074\">Real</text><line style=\"stroke: #383838; stroke-width: 1.5;\" x1=\"51.5\" x2=\"123.5\" y1=\"180.9375\" y2=\"180.9375\"/></a><!--MD5=[09b614a08d8cba4a07c9adeb5e0fee81]\n",
       "class E3--><a href=\"psysml:57586f80-7065-4509-85b2-20f5f1ea1e4c\" target=\"_top\" title=\"psysml:57586f80-7065-4509-85b2-20f5f1ea1e4c\" xlink:actuate=\"onRequest\" xlink:href=\"psysml:57586f80-7065-4509-85b2-20f5f1ea1e4c\" xlink:show=\"new\" xlink:title=\"psysml:57586f80-7065-4509-85b2-20f5f1ea1e4c\" xlink:type=\"simple\"><rect fill=\"#FFFFFF\" height=\"105.1563\" id=\"E3\" style=\"stroke: #383838; stroke-width: 1.5;\" width=\"111\" x=\"32\" y=\"224.5\"/><text fill=\"#000000\" font-family=\"sans-serif\" font-size=\"12\" font-style=\"italic\" lengthAdjust=\"spacingAndGlyphs\" textLength=\"65\" x=\"55\" y=\"240.6387\">«item def»</text><text fill=\"#000000\" font-family=\"sans-serif\" font-size=\"12\" lengthAdjust=\"spacingAndGlyphs\" textLength=\"8\" x=\"83.5\" y=\"254.6074\">C</text><line style=\"stroke: #383838; stroke-width: 1.5;\" x1=\"33\" x2=\"142\" y1=\"262.4375\" y2=\"262.4375\"/><text fill=\"#000000\" font-family=\"sans-serif\" font-size=\"11\" lengthAdjust=\"spacingAndGlyphs\" textLength=\"38\" x=\"38\" y=\"293.4526\">x: Real</text><line style=\"stroke: #383838; stroke-width: 1.0;\" x1=\"33\" x2=\"60\" y1=\"276.8398\" y2=\"276.8398\"/><text fill=\"#000000\" font-family=\"sans-serif\" font-size=\"11\" lengthAdjust=\"spacingAndGlyphs\" textLength=\"55\" x=\"60\" y=\"280.1479\">attributes</text><line style=\"stroke: #383838; stroke-width: 1.0;\" x1=\"115\" x2=\"142\" y1=\"276.8398\" y2=\"276.8398\"/><text fill=\"#000000\" font-family=\"sans-serif\" font-size=\"11\" lengthAdjust=\"spacingAndGlyphs\" textLength=\"69\" x=\"38\" y=\"323.062\">x_constraint</text><line style=\"stroke: #383838; stroke-width: 1.0;\" x1=\"33\" x2=\"36\" y1=\"306.4492\" y2=\"306.4492\"/><text fill=\"#000000\" font-family=\"sans-serif\" font-size=\"11\" lengthAdjust=\"spacingAndGlyphs\" textLength=\"103\" x=\"36\" y=\"309.7573\">assertConstraints</text><line style=\"stroke: #383838; stroke-width: 1.0;\" x1=\"139\" x2=\"142\" y1=\"306.4492\" y2=\"306.4492\"/></a><text fill=\"#000000\" font-family=\"sans-serif\" font-size=\"14\" lengthAdjust=\"spacingAndGlyphs\" textLength=\"8\" x=\"83.5\" y=\"120.9951\">c</text><rect fill=\"#383838\" height=\"12\" style=\"stroke: #F8F8F8; stroke-width: 1.5;\" width=\"12\" x=\"81.5\" y=\"96\"/><text fill=\"#000000\" font-family=\"sans-serif\" font-size=\"14\" lengthAdjust=\"spacingAndGlyphs\" textLength=\"38\" x=\"68.5\" y=\"33.6982\">newX</text><rect fill=\"#383838\" height=\"12\" style=\"stroke: #F8F8F8; stroke-width: 1.5;\" width=\"12\" x=\"81.5\" y=\"49\"/><!--MD5=[d4ec892f2cd9ebfcc0f19c778cb71a0b]\n",
       "@startuml\r\n",
       "left to right direction\r\n",
       "skinparam monochrome true\r\n",
       "skinparam classbackgroundcolor white\r\n",
       "skinparam shadowing false\r\n",
       "skinparam wrapWidth 300\r\n",
       "hide circle\r\n",
       "\r\n",
       "package \"TextualRepresentationTest\" as E1  [[psysml:64ccfe85-4fdd-4bf0-b3db-5945cd262e15 ]]  {\r\n",
       "comp def \"Real\" as E2  <<(T,blue)dataType>> [[psysml:06125bd0-acad-496e-b065-61f119a09466 ]] {\r\n",
       "}\r\n",
       "comp def \"C\" as E3  <<(T,blue)item def>> [[psysml:57586f80-7065-4509-85b2-20f5f1ea1e4c ]] {\r\n",
       "- - attributes - -\r\n",
       "x: Real\r\n",
       "- - assertConstraints - -\r\n",
       "x_constraint\r\n",
       "}\r\n",
       "rec def \"setX\" as E5  <<(T,blue)action def>> [[psysml:8549a337-017f-4e92-9426-82c63ecb1b1e ]] {\r\n",
       "portin \"c\" as E6  [[psysml:aa76399d-9e78-4ecc-80de-8099ee5899a9 ]] \r\n",
       "portin \"newX\" as E7  [[psysml:3135ebc1-3d3a-4206-9f67-d8c3ceb18c3a ]] \r\n",
       "}\r\n",
       "\r\n",
       "}\r\n",
       "@enduml\r\n",
       "\n",
       "PlantUML version 1.2020.13(Sat Jun 13 12:26:38 UTC 2020)\n",
       "(EPL source distribution)\n",
       "Java Runtime: OpenJDK Runtime Environment\n",
       "JVM: OpenJDK 64-Bit Server VM\n",
       "Default Encoding: UTF-8\n",
       "Language: en\n",
       "Country: null\n",
       "--></g></svg>"
      ]
     },
     "execution_count": 22,
     "metadata": {},
     "output_type": "execute_result"
    }
   ],
   "source": [
    "%viz --style=\"LR\" --view=\"MIXED\" \"TextualRepresentationTest\""
   ]
  },
  {
   "cell_type": "code",
   "execution_count": 23,
   "id": "moral-bride",
   "metadata": {
    "execution": {
     "iopub.execute_input": "2021-03-25T14:18:57.228359Z",
     "iopub.status.busy": "2021-03-25T14:18:57.227719Z",
     "iopub.status.idle": "2021-03-25T14:18:57.562921Z",
     "shell.execute_reply": "2021-03-25T14:18:57.561540Z"
    }
   },
   "outputs": [
    {
     "data": {
      "image/svg+xml": [
       "<?xml version=\"1.0\" encoding=\"UTF-8\" standalone=\"no\"?><svg xmlns=\"http://www.w3.org/2000/svg\" xmlns:xlink=\"http://www.w3.org/1999/xlink\" contentScriptType=\"application/ecmascript\" contentStyleType=\"text/css\" height=\"268px\" preserveAspectRatio=\"none\" style=\"width:432px;height:268px;\" version=\"1.1\" viewBox=\"0 0 432 268\" width=\"432px\" zoomAndPan=\"magnify\"><defs><filter height=\"300%\" id=\"fx65jeuy6t3ew\" width=\"300%\" x=\"-1\" y=\"-1\"><feGaussianBlur result=\"blurOut\" stdDeviation=\"2.0\"/><feColorMatrix in=\"blurOut\" result=\"blurOut2\" type=\"matrix\" values=\"0 0 0 0 0 0 0 0 0 0 0 0 0 0 0 0 0 0 .4 0\"/><feOffset dx=\"4.0\" dy=\"4.0\" in=\"blurOut2\" result=\"blurOut3\"/><feBlend in=\"SourceGraphic\" in2=\"blurOut3\" mode=\"normal\"/></filter></defs><g><!--MD5=[fbc87193dbaf4d95561dea2c320d4a47]\n",
       "cluster E1--><a href=\"psysml:64ccfe85-4fdd-4bf0-b3db-5945cd262e15\" target=\"_top\" title=\"psysml:64ccfe85-4fdd-4bf0-b3db-5945cd262e15\" xlink:actuate=\"onRequest\" xlink:href=\"psysml:64ccfe85-4fdd-4bf0-b3db-5945cd262e15\" xlink:show=\"new\" xlink:title=\"psysml:64ccfe85-4fdd-4bf0-b3db-5945cd262e15\" xlink:type=\"simple\"><polygon fill=\"#FFFFFF\" filter=\"url(#fx65jeuy6t3ew)\" points=\"16,6,236,6,243,28.2969,410,28.2969,410,256,16,256,16,6\" style=\"stroke: #000000; stroke-width: 1.5;\"/><line style=\"stroke: #000000; stroke-width: 1.5;\" x1=\"16\" x2=\"243\" y1=\"28.2969\" y2=\"28.2969\"/><text fill=\"#000000\" font-family=\"sans-serif\" font-size=\"14\" font-weight=\"bold\" lengthAdjust=\"spacingAndGlyphs\" textLength=\"214\" x=\"20\" y=\"20.9951\">TextualRepresentationTest</text></a><!--MD5=[de5ec2e2e8f62f467e546659f5068c88]\n",
       "cluster E5--><a href=\"psysml:8549a337-017f-4e92-9426-82c63ecb1b1e\" target=\"_top\" title=\"psysml:8549a337-017f-4e92-9426-82c63ecb1b1e\" xlink:actuate=\"onRequest\" xlink:href=\"psysml:8549a337-017f-4e92-9426-82c63ecb1b1e\" xlink:show=\"new\" xlink:title=\"psysml:8549a337-017f-4e92-9426-82c63ecb1b1e\" xlink:type=\"simple\"><rect fill=\"#FFFFFF\" filter=\"url(#fx65jeuy6t3ew)\" height=\"155\" id=\"E5\" style=\"stroke: #A80036; stroke-width: 1.5;\" width=\"96\" x=\"268.5\" y=\"85\"/><rect fill=\"#FEFECE\" height=\"37.9375\" style=\"stroke: #A80036; stroke-width: 1.5;\" width=\"96\" x=\"268.5\" y=\"85\"/><text fill=\"#000000\" font-family=\"sans-serif\" font-size=\"12\" font-style=\"italic\" lengthAdjust=\"spacingAndGlyphs\" textLength=\"77\" x=\"278\" y=\"101.1387\">«action def»</text><text fill=\"#000000\" font-family=\"sans-serif\" font-size=\"12\" lengthAdjust=\"spacingAndGlyphs\" textLength=\"27\" x=\"303\" y=\"115.1074\">setX</text></a><!--MD5=[b4997ac47864f28c2f74865a473b2911]\n",
       "class E2--><a href=\"psysml:06125bd0-acad-496e-b065-61f119a09466\" target=\"_top\" title=\"psysml:06125bd0-acad-496e-b065-61f119a09466\" xlink:actuate=\"onRequest\" xlink:href=\"psysml:06125bd0-acad-496e-b065-61f119a09466\" xlink:show=\"new\" xlink:title=\"psysml:06125bd0-acad-496e-b065-61f119a09466\" xlink:type=\"simple\"><rect fill=\"#FEFECE\" filter=\"url(#fx65jeuy6t3ew)\" height=\"45.9375\" id=\"E2\" style=\"stroke: #A80036; stroke-width: 1.5;\" width=\"74\" x=\"178\" y=\"62\"/><text fill=\"#000000\" font-family=\"sans-serif\" font-size=\"12\" font-style=\"italic\" lengthAdjust=\"spacingAndGlyphs\" textLength=\"72\" x=\"179\" y=\"78.1387\">«dataType»</text><text fill=\"#000000\" font-family=\"sans-serif\" font-size=\"12\" lengthAdjust=\"spacingAndGlyphs\" textLength=\"27\" x=\"201.5\" y=\"92.1074\">Real</text><line style=\"stroke: #A80036; stroke-width: 1.5;\" x1=\"179\" x2=\"251\" y1=\"99.9375\" y2=\"99.9375\"/></a><!--MD5=[09b614a08d8cba4a07c9adeb5e0fee81]\n",
       "class E3--><a href=\"psysml:57586f80-7065-4509-85b2-20f5f1ea1e4c\" target=\"_top\" title=\"psysml:57586f80-7065-4509-85b2-20f5f1ea1e4c\" xlink:actuate=\"onRequest\" xlink:href=\"psysml:57586f80-7065-4509-85b2-20f5f1ea1e4c\" xlink:show=\"new\" xlink:title=\"psysml:57586f80-7065-4509-85b2-20f5f1ea1e4c\" xlink:type=\"simple\"><rect fill=\"#FEFECE\" filter=\"url(#fx65jeuy6t3ew)\" height=\"88.3516\" id=\"E3\" style=\"stroke: #A80036; stroke-width: 1.5;\" width=\"111\" x=\"31.5\" y=\"41\"/><text fill=\"#000000\" font-family=\"sans-serif\" font-size=\"12\" font-style=\"italic\" lengthAdjust=\"spacingAndGlyphs\" textLength=\"65\" x=\"54.5\" y=\"57.1387\">«item def»</text><text fill=\"#000000\" font-family=\"sans-serif\" font-size=\"12\" lengthAdjust=\"spacingAndGlyphs\" textLength=\"8\" x=\"83\" y=\"71.1074\">C</text><line style=\"stroke: #A80036; stroke-width: 1.5;\" x1=\"32.5\" x2=\"141.5\" y1=\"78.9375\" y2=\"78.9375\"/><text fill=\"#000000\" font-family=\"sans-serif\" font-size=\"11\" lengthAdjust=\"spacingAndGlyphs\" textLength=\"38\" x=\"37.5\" y=\"93.1479\">x: Real</text><text fill=\"#000000\" font-family=\"sans-serif\" font-size=\"11\" lengthAdjust=\"spacingAndGlyphs\" textLength=\"69\" x=\"37.5\" y=\"122.7573\">x_constraint</text><line style=\"stroke: #A80036; stroke-width: 1.0;\" x1=\"32.5\" x2=\"35.5\" y1=\"106.1445\" y2=\"106.1445\"/><text fill=\"#000000\" font-family=\"sans-serif\" font-size=\"11\" lengthAdjust=\"spacingAndGlyphs\" textLength=\"103\" x=\"35.5\" y=\"109.4526\">assertConstraints</text><line style=\"stroke: #A80036; stroke-width: 1.0;\" x1=\"138.5\" x2=\"141.5\" y1=\"106.1445\" y2=\"106.1445\"/></a><text fill=\"#000000\" font-family=\"sans-serif\" font-size=\"14\" lengthAdjust=\"spacingAndGlyphs\" textLength=\"8\" x=\"289\" y=\"63.6982\">c</text><rect fill=\"#A80036\" height=\"12\" style=\"stroke: #FEFECE; stroke-width: 1.5;\" width=\"12\" x=\"287\" y=\"79\"/><text fill=\"#000000\" font-family=\"sans-serif\" font-size=\"14\" lengthAdjust=\"spacingAndGlyphs\" textLength=\"38\" x=\"321\" y=\"63.6982\">newX</text><rect fill=\"#A80036\" height=\"12\" style=\"stroke: #FEFECE; stroke-width: 1.5;\" width=\"12\" x=\"334\" y=\"79\"/><!--MD5=[f35e686ee4d30dd9ae9493c55565f425]\n",
       "@startuml\r\n",
       "skinparam wrapWidth 300\r\n",
       "hide circle\r\n",
       "\r\n",
       "package \"TextualRepresentationTest\" as E1  [[psysml:64ccfe85-4fdd-4bf0-b3db-5945cd262e15 ]]  {\r\n",
       "comp def \"Real\" as E2  <<(T,blue)dataType>> [[psysml:06125bd0-acad-496e-b065-61f119a09466 ]] {\r\n",
       "}\r\n",
       "comp def \"C\" as E3  <<(T,blue)item def>> [[psysml:57586f80-7065-4509-85b2-20f5f1ea1e4c ]] {\r\n",
       "x: Real\r\n",
       "- - assertConstraints - -\r\n",
       "x_constraint\r\n",
       "}\r\n",
       "rec def \"setX\" as E5  <<(T,blue)action def>> [[psysml:8549a337-017f-4e92-9426-82c63ecb1b1e ]] {\r\n",
       "portin \"c\" as E6  [[psysml:aa76399d-9e78-4ecc-80de-8099ee5899a9 ]] \r\n",
       "portin \"newX\" as E7  [[psysml:3135ebc1-3d3a-4206-9f67-d8c3ceb18c3a ]] \r\n",
       "}\r\n",
       "\r\n",
       "}\r\n",
       "@enduml\r\n",
       "\n",
       "PlantUML version 1.2020.13(Sat Jun 13 12:26:38 UTC 2020)\n",
       "(EPL source distribution)\n",
       "Java Runtime: OpenJDK Runtime Environment\n",
       "JVM: OpenJDK 64-Bit Server VM\n",
       "Default Encoding: UTF-8\n",
       "Language: en\n",
       "Country: null\n",
       "--></g></svg>"
      ]
     },
     "execution_count": 23,
     "metadata": {},
     "output_type": "execute_result"
    }
   ],
   "source": [
    "%viz --style=\"STDCOLOR\" --view=\"Default\" \"TextualRepresentationTest\""
   ]
  },
  {
   "cell_type": "code",
   "execution_count": 24,
   "id": "french-blast",
   "metadata": {
    "execution": {
     "iopub.execute_input": "2021-03-25T14:18:57.615030Z",
     "iopub.status.busy": "2021-03-25T14:18:57.614420Z",
     "iopub.status.idle": "2021-03-25T14:18:57.929004Z",
     "shell.execute_reply": "2021-03-25T14:18:57.927537Z"
    }
   },
   "outputs": [
    {
     "data": {
      "image/svg+xml": [
       "<?xml version=\"1.0\" encoding=\"UTF-8\" standalone=\"no\"?><svg xmlns=\"http://www.w3.org/2000/svg\" xmlns:xlink=\"http://www.w3.org/1999/xlink\" contentScriptType=\"application/ecmascript\" contentStyleType=\"text/css\" height=\"280px\" preserveAspectRatio=\"none\" style=\"width:290px;height:280px;\" version=\"1.1\" viewBox=\"0 0 290 280\" width=\"290px\" zoomAndPan=\"magnify\"><defs><filter height=\"300%\" id=\"fvjhc4oodt956\" width=\"300%\" x=\"-1\" y=\"-1\"><feGaussianBlur result=\"blurOut\" stdDeviation=\"2.0\"/><feColorMatrix in=\"blurOut\" result=\"blurOut2\" type=\"matrix\" values=\"0 0 0 0 0 0 0 0 0 0 0 0 0 0 0 0 0 0 .4 0\"/><feOffset dx=\"4.0\" dy=\"4.0\" in=\"blurOut2\" result=\"blurOut3\"/><feBlend in=\"SourceGraphic\" in2=\"blurOut3\" mode=\"normal\"/></filter></defs><g><!--MD5=[fbc87193dbaf4d95561dea2c320d4a47]\n",
       "cluster E1--><a href=\"psysml:64ccfe85-4fdd-4bf0-b3db-5945cd262e15\" target=\"_top\" title=\"psysml:64ccfe85-4fdd-4bf0-b3db-5945cd262e15\" xlink:actuate=\"onRequest\" xlink:href=\"psysml:64ccfe85-4fdd-4bf0-b3db-5945cd262e15\" xlink:show=\"new\" xlink:title=\"psysml:64ccfe85-4fdd-4bf0-b3db-5945cd262e15\" xlink:type=\"simple\"><polygon fill=\"#FFFFFF\" filter=\"url(#fvjhc4oodt956)\" points=\"16,6,236,6,243,28.2969,268,28.2969,268,268,16,268,16,6\" style=\"stroke: #000000; stroke-width: 1.5;\"/><line style=\"stroke: #000000; stroke-width: 1.5;\" x1=\"16\" x2=\"243\" y1=\"28.2969\" y2=\"28.2969\"/><text fill=\"#000000\" font-family=\"sans-serif\" font-size=\"14\" font-weight=\"bold\" lengthAdjust=\"spacingAndGlyphs\" textLength=\"214\" x=\"20\" y=\"20.9951\">TextualRepresentationTest</text></a><!--MD5=[b4997ac47864f28c2f74865a473b2911]\n",
       "class E2--><a href=\"psysml:06125bd0-acad-496e-b065-61f119a09466\" target=\"_top\" title=\"psysml:06125bd0-acad-496e-b065-61f119a09466\" xlink:actuate=\"onRequest\" xlink:href=\"psysml:06125bd0-acad-496e-b065-61f119a09466\" xlink:show=\"new\" xlink:title=\"psysml:06125bd0-acad-496e-b065-61f119a09466\" xlink:type=\"simple\"><rect fill=\"#FEFECE\" filter=\"url(#fvjhc4oodt956)\" height=\"45.9375\" id=\"E2\" style=\"stroke: #A80036; stroke-width: 1.5;\" width=\"74\" x=\"32\" y=\"185\"/><text fill=\"#000000\" font-family=\"sans-serif\" font-size=\"12\" font-style=\"italic\" lengthAdjust=\"spacingAndGlyphs\" textLength=\"72\" x=\"33\" y=\"201.1387\">«dataType»</text><text fill=\"#000000\" font-family=\"sans-serif\" font-size=\"12\" lengthAdjust=\"spacingAndGlyphs\" textLength=\"27\" x=\"55.5\" y=\"215.1074\">Real</text><line style=\"stroke: #A80036; stroke-width: 1.5;\" x1=\"33\" x2=\"105\" y1=\"222.9375\" y2=\"222.9375\"/></a><!--MD5=[09b614a08d8cba4a07c9adeb5e0fee81]\n",
       "class E3--><a href=\"psysml:57586f80-7065-4509-85b2-20f5f1ea1e4c\" target=\"_top\" title=\"psysml:57586f80-7065-4509-85b2-20f5f1ea1e4c\" xlink:actuate=\"onRequest\" xlink:href=\"psysml:57586f80-7065-4509-85b2-20f5f1ea1e4c\" xlink:show=\"new\" xlink:title=\"psysml:57586f80-7065-4509-85b2-20f5f1ea1e4c\" xlink:type=\"simple\"><rect fill=\"#FEFECE\" filter=\"url(#fvjhc4oodt956)\" height=\"88.3516\" id=\"E3\" style=\"stroke: #A80036; stroke-width: 1.5;\" width=\"111\" x=\"141.5\" y=\"164\"/><text fill=\"#000000\" font-family=\"sans-serif\" font-size=\"12\" font-style=\"italic\" lengthAdjust=\"spacingAndGlyphs\" textLength=\"65\" x=\"164.5\" y=\"180.1387\">«item def»</text><text fill=\"#000000\" font-family=\"sans-serif\" font-size=\"12\" lengthAdjust=\"spacingAndGlyphs\" textLength=\"8\" x=\"193\" y=\"194.1074\">C</text><line style=\"stroke: #A80036; stroke-width: 1.5;\" x1=\"142.5\" x2=\"251.5\" y1=\"201.9375\" y2=\"201.9375\"/><text fill=\"#000000\" font-family=\"sans-serif\" font-size=\"11\" lengthAdjust=\"spacingAndGlyphs\" textLength=\"38\" x=\"147.5\" y=\"216.1479\">x: Real</text><text fill=\"#000000\" font-family=\"sans-serif\" font-size=\"11\" lengthAdjust=\"spacingAndGlyphs\" textLength=\"69\" x=\"147.5\" y=\"245.7573\">x_constraint</text><line style=\"stroke: #A80036; stroke-width: 1.0;\" x1=\"142.5\" x2=\"145.5\" y1=\"229.1445\" y2=\"229.1445\"/><text fill=\"#000000\" font-family=\"sans-serif\" font-size=\"11\" lengthAdjust=\"spacingAndGlyphs\" textLength=\"103\" x=\"145.5\" y=\"232.4526\">assertConstraints</text><line style=\"stroke: #A80036; stroke-width: 1.0;\" x1=\"248.5\" x2=\"251.5\" y1=\"229.1445\" y2=\"229.1445\"/></a><!--MD5=[270fce915f116d4de14055a7c1d9a0f3]\n",
       "class E5--><a href=\"psysml:8549a337-017f-4e92-9426-82c63ecb1b1e\" target=\"_top\" title=\"psysml:8549a337-017f-4e92-9426-82c63ecb1b1e\" xlink:actuate=\"onRequest\" xlink:href=\"psysml:8549a337-017f-4e92-9426-82c63ecb1b1e\" xlink:show=\"new\" xlink:title=\"psysml:8549a337-017f-4e92-9426-82c63ecb1b1e\" xlink:type=\"simple\"><rect fill=\"#FEFECE\" filter=\"url(#fvjhc4oodt956)\" height=\"45.9375\" id=\"E5\" style=\"stroke: #A80036; stroke-width: 1.5;\" width=\"79\" x=\"67.5\" y=\"41\"/><text fill=\"#000000\" font-family=\"sans-serif\" font-size=\"12\" font-style=\"italic\" lengthAdjust=\"spacingAndGlyphs\" textLength=\"77\" x=\"68.5\" y=\"57.1387\">«action def»</text><text fill=\"#000000\" font-family=\"sans-serif\" font-size=\"12\" lengthAdjust=\"spacingAndGlyphs\" textLength=\"27\" x=\"93.5\" y=\"71.1074\">setX</text><line style=\"stroke: #A80036; stroke-width: 1.5;\" x1=\"68.5\" x2=\"145.5\" y1=\"78.9375\" y2=\"78.9375\"/></a><!--MD5=[6f107eb264eda4b26325f39a5516f1f3]\n",
       "reverse link E5 to E3--><a href=\"psysml:aa76399d-9e78-4ecc-80de-8099ee5899a9\" target=\"_top\" title=\"psysml:aa76399d-9e78-4ecc-80de-8099ee5899a9\" xlink:actuate=\"onRequest\" xlink:href=\"psysml:aa76399d-9e78-4ecc-80de-8099ee5899a9\" xlink:show=\"new\" xlink:title=\"psysml:aa76399d-9e78-4ecc-80de-8099ee5899a9\" xlink:type=\"simple\"><path d=\"M128.1,98.29 C140.49,117.85 156.29,142.77 169.63,163.82 \" fill=\"none\" id=\"E5&lt;-E3\" style=\"stroke: #A80036; stroke-width: 1.0;\"/><polygon fill=\"#FFFFFF\" points=\"121.06,87.19,120.8908,94.3991,127.4803,97.328,127.6495,90.1189,121.06,87.19\" style=\"stroke: #A80036; stroke-width: 1.0;\"/><text fill=\"#000000\" font-family=\"sans-serif\" font-size=\"13\" lengthAdjust=\"spacingAndGlyphs\" textLength=\"7\" x=\"150\" y=\"130.0669\">c</text></a><!--MD5=[f51c6d1f1856fe338ac0413483fb1ccf]\n",
       "reverse link E5 to E2--><a href=\"psysml:3135ebc1-3d3a-4206-9f67-d8c3ceb18c3a\" target=\"_top\" title=\"psysml:3135ebc1-3d3a-4206-9f67-d8c3ceb18c3a\" xlink:actuate=\"onRequest\" xlink:href=\"psysml:3135ebc1-3d3a-4206-9f67-d8c3ceb18c3a\" xlink:show=\"new\" xlink:title=\"psysml:3135ebc1-3d3a-4206-9f67-d8c3ceb18c3a\" xlink:type=\"simple\"><path d=\"M97.7,99.76 C90.58,126.35 80.99,162.21 74.9,184.97 \" fill=\"none\" id=\"E5&lt;-E2\" style=\"stroke: #A80036; stroke-width: 1.0;\"/><polygon fill=\"#FFFFFF\" points=\"101.06,87.19,95.646,91.9533,97.9607,98.7828,103.3746,94.0195,101.06,87.19\" style=\"stroke: #A80036; stroke-width: 1.0;\"/><text fill=\"#000000\" font-family=\"sans-serif\" font-size=\"13\" lengthAdjust=\"spacingAndGlyphs\" textLength=\"33\" x=\"93\" y=\"130.0669\">newX</text></a><!--MD5=[5a9215cda299ab70742a929844f1cda5]\n",
       "@startuml\r\n",
       "skinparam wrapWidth 300\r\n",
       "hide circle\r\n",
       "\r\n",
       "package \"TextualRepresentationTest\" as E1  [[psysml:64ccfe85-4fdd-4bf0-b3db-5945cd262e15 ]]  {\r\n",
       "comp def \"Real\" as E2  <<(T,blue)dataType>> [[psysml:06125bd0-acad-496e-b065-61f119a09466 ]] {\r\n",
       "}\r\n",
       "comp def \"C\" as E3  <<(T,blue)item def>> [[psysml:57586f80-7065-4509-85b2-20f5f1ea1e4c ]] {\r\n",
       "x: Real\r\n",
       "- - assertConstraints - -\r\n",
       "x_constraint\r\n",
       "}\r\n",
       "comp def \"setX\" as E5  <<(T,blue)action def>> [[psysml:8549a337-017f-4e92-9426-82c63ecb1b1e ]] {\r\n",
       "}\r\n",
       "E5 o- - E3 [[psysml:aa76399d-9e78-4ecc-80de-8099ee5899a9 ]] : c\r\n",
       "E5 o- - E2 [[psysml:3135ebc1-3d3a-4206-9f67-d8c3ceb18c3a ]] : newX\r\n",
       "}\r\n",
       "@enduml\r\n",
       "\n",
       "PlantUML version 1.2020.13(Sat Jun 13 12:26:38 UTC 2020)\n",
       "(EPL source distribution)\n",
       "Java Runtime: OpenJDK Runtime Environment\n",
       "JVM: OpenJDK 64-Bit Server VM\n",
       "Default Encoding: UTF-8\n",
       "Language: en\n",
       "Country: null\n",
       "--></g></svg>"
      ]
     },
     "execution_count": 24,
     "metadata": {},
     "output_type": "execute_result"
    }
   ],
   "source": [
    "%viz --style=\"STDCOLOR\" --view=\"Tree\" \"TextualRepresentationTest\""
   ]
  },
  {
   "cell_type": "code",
   "execution_count": 25,
   "id": "enhanced-motivation",
   "metadata": {
    "execution": {
     "iopub.execute_input": "2021-03-25T14:18:57.980314Z",
     "iopub.status.busy": "2021-03-25T14:18:57.978873Z",
     "iopub.status.idle": "2021-03-25T14:18:57.985290Z",
     "shell.execute_reply": "2021-03-25T14:18:57.985680Z"
    }
   },
   "outputs": [
    {
     "data": {
      "image/svg+xml": [
       "<?xml version=\"1.0\" encoding=\"UTF-8\" standalone=\"no\"?><svg xmlns=\"http://www.w3.org/2000/svg\" xmlns:xlink=\"http://www.w3.org/1999/xlink\" contentScriptType=\"application/ecmascript\" contentStyleType=\"text/css\" height=\"12px\" preserveAspectRatio=\"none\" style=\"width:12px;height:12px;\" version=\"1.1\" viewBox=\"0 0 12 12\" width=\"12px\" zoomAndPan=\"magnify\"><defs/><g><!--MD5=[aeeef50f102b80d730deb6443d14f702]\n",
       "@startuml\r\n",
       "skinparam wrapWidth 300\r\n",
       "hide circle\r\n",
       "\r\n",
       "@enduml\r\n",
       "\n",
       "PlantUML version 1.2020.13(Sat Jun 13 12:26:38 UTC 2020)\n",
       "(EPL source distribution)\n",
       "Java Runtime: OpenJDK Runtime Environment\n",
       "JVM: OpenJDK 64-Bit Server VM\n",
       "Default Encoding: UTF-8\n",
       "Language: en\n",
       "Country: null\n",
       "--></g></svg>"
      ]
     },
     "execution_count": 25,
     "metadata": {},
     "output_type": "execute_result"
    }
   ],
   "source": [
    "%viz --style=\"STDCOLOR\" --view=\"State\" \"TextualRepresentationTest\""
   ]
  },
  {
   "cell_type": "code",
   "execution_count": 26,
   "id": "lesbian-florida",
   "metadata": {
    "execution": {
     "iopub.execute_input": "2021-03-25T14:18:58.037112Z",
     "iopub.status.busy": "2021-03-25T14:18:58.036588Z",
     "iopub.status.idle": "2021-03-25T14:18:58.122092Z",
     "shell.execute_reply": "2021-03-25T14:18:58.122709Z"
    }
   },
   "outputs": [
    {
     "data": {
      "image/svg+xml": [
       "<?xml version=\"1.0\" encoding=\"UTF-8\" standalone=\"no\"?><svg xmlns=\"http://www.w3.org/2000/svg\" xmlns:xlink=\"http://www.w3.org/1999/xlink\" contentScriptType=\"application/ecmascript\" contentStyleType=\"text/css\" height=\"179px\" preserveAspectRatio=\"none\" style=\"width:398px;height:179px;\" version=\"1.1\" viewBox=\"0 0 398 179\" width=\"398px\" zoomAndPan=\"magnify\"><defs><filter height=\"300%\" id=\"fje0qw583tw89\" width=\"300%\" x=\"-1\" y=\"-1\"><feGaussianBlur result=\"blurOut\" stdDeviation=\"2.0\"/><feColorMatrix in=\"blurOut\" result=\"blurOut2\" type=\"matrix\" values=\"0 0 0 0 0 0 0 0 0 0 0 0 0 0 0 0 0 0 .4 0\"/><feOffset dx=\"4.0\" dy=\"4.0\" in=\"blurOut2\" result=\"blurOut3\"/><feBlend in=\"SourceGraphic\" in2=\"blurOut3\" mode=\"normal\"/></filter></defs><g><!--MD5=[fbc87193dbaf4d95561dea2c320d4a47]\n",
       "cluster E1--><a href=\"psysml:64ccfe85-4fdd-4bf0-b3db-5945cd262e15\" target=\"_top\" title=\"psysml:64ccfe85-4fdd-4bf0-b3db-5945cd262e15\" xlink:actuate=\"onRequest\" xlink:href=\"psysml:64ccfe85-4fdd-4bf0-b3db-5945cd262e15\" xlink:show=\"new\" xlink:title=\"psysml:64ccfe85-4fdd-4bf0-b3db-5945cd262e15\" xlink:type=\"simple\"><polygon fill=\"#FFFFFF\" filter=\"url(#fje0qw583tw89)\" points=\"16,6,236,6,243,28.2969,376,28.2969,376,167,16,167,16,6\" style=\"stroke: #000000; stroke-width: 1.5;\"/><line style=\"stroke: #000000; stroke-width: 1.5;\" x1=\"16\" x2=\"243\" y1=\"28.2969\" y2=\"28.2969\"/><text fill=\"#000000\" font-family=\"sans-serif\" font-size=\"14\" font-weight=\"bold\" lengthAdjust=\"spacingAndGlyphs\" textLength=\"214\" x=\"20\" y=\"20.9951\">TextualRepresentationTest</text></a><!--MD5=[f6df4d0ebaf0b5dfb2ced0ae5af7c670]\n",
       "cluster E4--><a href=\"psysml:8549a337-017f-4e92-9426-82c63ecb1b1e\" target=\"_top\" title=\"psysml:8549a337-017f-4e92-9426-82c63ecb1b1e\" xlink:actuate=\"onRequest\" xlink:href=\"psysml:8549a337-017f-4e92-9426-82c63ecb1b1e\" xlink:show=\"new\" xlink:title=\"psysml:8549a337-017f-4e92-9426-82c63ecb1b1e\" xlink:type=\"simple\"><rect fill=\"#FFFFFF\" filter=\"url(#fje0qw583tw89)\" height=\"88.5\" id=\"E4\" style=\"stroke: #A80036; stroke-width: 1.5;\" width=\"96\" x=\"235.5\" y=\"62.5\"/><rect fill=\"#FEFECE\" height=\"37.9375\" style=\"stroke: #A80036; stroke-width: 1.5;\" width=\"96\" x=\"235.5\" y=\"62.5\"/><text fill=\"#000000\" font-family=\"sans-serif\" font-size=\"12\" font-style=\"italic\" lengthAdjust=\"spacingAndGlyphs\" textLength=\"77\" x=\"245\" y=\"78.6387\">«action def»</text><text fill=\"#000000\" font-family=\"sans-serif\" font-size=\"12\" lengthAdjust=\"spacingAndGlyphs\" textLength=\"27\" x=\"270\" y=\"92.6074\">setX</text></a><g id=\"E1.E2\"><a href=\"psysml:06125bd0-acad-496e-b065-61f119a09466\" target=\"_top\" title=\"psysml:06125bd0-acad-496e-b065-61f119a09466\" xlink:actuate=\"onRequest\" xlink:href=\"psysml:06125bd0-acad-496e-b065-61f119a09466\" xlink:show=\"new\" xlink:title=\"psysml:06125bd0-acad-496e-b065-61f119a09466\" xlink:type=\"simple\"><rect fill=\"#FEFECE\" filter=\"url(#fje0qw583tw89)\" height=\"42.9375\" id=\"E2\" style=\"stroke: #A80036; stroke-width: 1.5;\" width=\"79\" x=\"139.5\" y=\"41\"/><text fill=\"#000000\" font-family=\"sans-serif\" font-size=\"12\" font-style=\"italic\" lengthAdjust=\"spacingAndGlyphs\" textLength=\"72\" x=\"143\" y=\"57.1387\">«dataType»</text><text fill=\"#000000\" font-family=\"sans-serif\" font-size=\"12\" lengthAdjust=\"spacingAndGlyphs\" textLength=\"27\" x=\"165.5\" y=\"71.1074\">Real</text></a></g><g id=\"E1.E3\"><a href=\"psysml:57586f80-7065-4509-85b2-20f5f1ea1e4c\" target=\"_top\" title=\"psysml:57586f80-7065-4509-85b2-20f5f1ea1e4c\" xlink:actuate=\"onRequest\" xlink:href=\"psysml:57586f80-7065-4509-85b2-20f5f1ea1e4c\" xlink:show=\"new\" xlink:title=\"psysml:57586f80-7065-4509-85b2-20f5f1ea1e4c\" xlink:type=\"simple\"><rect fill=\"#FEFECE\" filter=\"url(#fje0qw583tw89)\" height=\"42.9375\" id=\"E3\" style=\"stroke: #A80036; stroke-width: 1.5;\" width=\"72\" x=\"32\" y=\"41\"/><text fill=\"#000000\" font-family=\"sans-serif\" font-size=\"12\" font-style=\"italic\" lengthAdjust=\"spacingAndGlyphs\" textLength=\"65\" x=\"35.5\" y=\"57.1387\">«item def»</text><text fill=\"#000000\" font-family=\"sans-serif\" font-size=\"12\" lengthAdjust=\"spacingAndGlyphs\" textLength=\"8\" x=\"64\" y=\"71.1074\">C</text></a></g><text fill=\"#000000\" font-family=\"sans-serif\" font-size=\"14\" lengthAdjust=\"spacingAndGlyphs\" textLength=\"8\" x=\"256\" y=\"41.1982\">c</text><rect fill=\"#A80036\" height=\"12\" style=\"stroke: #FEFECE; stroke-width: 1.5;\" width=\"12\" x=\"254\" y=\"56.5\"/><text fill=\"#000000\" font-family=\"sans-serif\" font-size=\"14\" lengthAdjust=\"spacingAndGlyphs\" textLength=\"38\" x=\"288\" y=\"41.1982\">newX</text><rect fill=\"#A80036\" height=\"12\" style=\"stroke: #FEFECE; stroke-width: 1.5;\" width=\"12\" x=\"301\" y=\"56.5\"/><!--MD5=[ecb80448fff0f10ca8eee360846de62d]\n",
       "@startuml\r\n",
       "skinparam ranksep 10\r\n",
       "skinparam rectangle {\r\n",
       " backgroundColor<<block>> LightGreen\r\n",
       "}\r\n",
       "skinparam wrapWidth 300\r\n",
       "hide circle\r\n",
       "\r\n",
       "package \"TextualRepresentationTest\" as E1  [[psysml:64ccfe85-4fdd-4bf0-b3db-5945cd262e15 ]]  {\r\n",
       "def \"Real\" as E2  <<(T,blue)dataType>> [[psysml:06125bd0-acad-496e-b065-61f119a09466 ]] \r\n",
       "def \"C\" as E3  <<(T,blue)item def>> [[psysml:57586f80-7065-4509-85b2-20f5f1ea1e4c ]] \r\n",
       "rec def \"setX\" as E4  <<(T,blue)action def>> [[psysml:8549a337-017f-4e92-9426-82c63ecb1b1e ]] {\r\n",
       "portin \"c\" as E5  [[psysml:aa76399d-9e78-4ecc-80de-8099ee5899a9 ]] \r\n",
       "portin \"newX\" as E6  [[psysml:3135ebc1-3d3a-4206-9f67-d8c3ceb18c3a ]] \r\n",
       "}\r\n",
       "\r\n",
       "}\r\n",
       "@enduml\r\n",
       "\n",
       "PlantUML version 1.2020.13(Sat Jun 13 12:26:38 UTC 2020)\n",
       "(EPL source distribution)\n",
       "Java Runtime: OpenJDK Runtime Environment\n",
       "JVM: OpenJDK 64-Bit Server VM\n",
       "Default Encoding: UTF-8\n",
       "Language: en\n",
       "Country: null\n",
       "--></g></svg>"
      ]
     },
     "execution_count": 26,
     "metadata": {},
     "output_type": "execute_result"
    }
   ],
   "source": [
    "%viz --style=\"STDCOLOR\" --view=\"Interconnection\" \"TextualRepresentationTest\""
   ]
  },
  {
   "cell_type": "code",
   "execution_count": 27,
   "id": "changing-elder",
   "metadata": {
    "execution": {
     "iopub.execute_input": "2021-03-25T14:18:58.173528Z",
     "iopub.status.busy": "2021-03-25T14:18:58.173109Z",
     "iopub.status.idle": "2021-03-25T14:18:58.232257Z",
     "shell.execute_reply": "2021-03-25T14:18:58.231800Z"
    }
   },
   "outputs": [
    {
     "data": {
      "image/svg+xml": [
       "<?xml version=\"1.0\" encoding=\"UTF-8\" standalone=\"no\"?><svg xmlns=\"http://www.w3.org/2000/svg\" xmlns:xlink=\"http://www.w3.org/1999/xlink\" contentScriptType=\"application/ecmascript\" contentStyleType=\"text/css\" height=\"134px\" preserveAspectRatio=\"none\" style=\"width:158px;height:134px;\" version=\"1.1\" viewBox=\"0 0 158 134\" width=\"158px\" zoomAndPan=\"magnify\"><defs><filter height=\"300%\" id=\"fubl84l46v1kv\" width=\"300%\" x=\"-1\" y=\"-1\"><feGaussianBlur result=\"blurOut\" stdDeviation=\"2.0\"/><feColorMatrix in=\"blurOut\" result=\"blurOut2\" type=\"matrix\" values=\"0 0 0 0 0 0 0 0 0 0 0 0 0 0 0 0 0 0 .4 0\"/><feOffset dx=\"4.0\" dy=\"4.0\" in=\"blurOut2\" result=\"blurOut3\"/><feBlend in=\"SourceGraphic\" in2=\"blurOut3\" mode=\"normal\"/></filter></defs><g><!--MD5=[fbc87193dbaf4d95561dea2c320d4a47]\n",
       "cluster E1--><a href=\"psysml:8549a337-017f-4e92-9426-82c63ecb1b1e\" target=\"_top\" title=\"psysml:8549a337-017f-4e92-9426-82c63ecb1b1e\" xlink:actuate=\"onRequest\" xlink:href=\"psysml:8549a337-017f-4e92-9426-82c63ecb1b1e\" xlink:show=\"new\" xlink:title=\"psysml:8549a337-017f-4e92-9426-82c63ecb1b1e\" xlink:type=\"simple\"><rect fill=\"#FFFFFF\" filter=\"url(#fubl84l46v1kv)\" height=\"73\" id=\"E1\" style=\"stroke: #A80036; stroke-width: 1.5;\" width=\"132\" x=\"7\" y=\"42.0986\"/><rect fill=\"#FEFECE\" height=\"37.9375\" style=\"stroke: #A80036; stroke-width: 1.5;\" width=\"132\" x=\"7\" y=\"42.0986\"/><text fill=\"#000000\" font-family=\"sans-serif\" font-size=\"12\" font-style=\"italic\" lengthAdjust=\"spacingAndGlyphs\" textLength=\"77\" x=\"34.5\" y=\"58.2373\">«action def»</text><text fill=\"#000000\" font-family=\"sans-serif\" font-size=\"12\" lengthAdjust=\"spacingAndGlyphs\" textLength=\"27\" x=\"59.5\" y=\"72.2061\">setX</text></a><text fill=\"#000000\" font-family=\"sans-serif\" font-size=\"14\" lengthAdjust=\"spacingAndGlyphs\" textLength=\"8\" x=\"21\" y=\"20.7969\">c</text><rect fill=\"#A80036\" height=\"12\" style=\"stroke: #FEFECE; stroke-width: 1.5;\" width=\"12\" x=\"19\" y=\"36.0986\"/><text fill=\"#000000\" font-family=\"sans-serif\" font-size=\"14\" lengthAdjust=\"spacingAndGlyphs\" textLength=\"38\" x=\"53\" y=\"20.7969\">newX</text><rect fill=\"#A80036\" height=\"12\" style=\"stroke: #FEFECE; stroke-width: 1.5;\" width=\"12\" x=\"66\" y=\"36.0986\"/><!--MD5=[12ce3198e0b3b68b10ed043c526b2a92]\n",
       "@startuml\r\n",
       "skinparam ranksep 8\r\n",
       "skinparam wrapWidth 300\r\n",
       "hide circle\r\n",
       "\r\n",
       "rec def \"setX\" as E1  <<(T,blue)action def>> [[psysml:8549a337-017f-4e92-9426-82c63ecb1b1e ]] {\r\n",
       "portin \"c\" as E2  [[psysml:aa76399d-9e78-4ecc-80de-8099ee5899a9 ]] \r\n",
       "portin \"newX\" as E3  [[psysml:3135ebc1-3d3a-4206-9f67-d8c3ceb18c3a ]] \r\n",
       "}\r\n",
       "\r\n",
       "@enduml\r\n",
       "\n",
       "PlantUML version 1.2020.13(Sat Jun 13 12:26:38 UTC 2020)\n",
       "(EPL source distribution)\n",
       "Java Runtime: OpenJDK Runtime Environment\n",
       "JVM: OpenJDK 64-Bit Server VM\n",
       "Default Encoding: UTF-8\n",
       "Language: en\n",
       "Country: null\n",
       "--></g></svg>"
      ]
     },
     "execution_count": 27,
     "metadata": {},
     "output_type": "execute_result"
    }
   ],
   "source": [
    "%viz --style=\"STDCOLOR\" --view=\"Action\" \"TextualRepresentationTest\""
   ]
  },
  {
   "cell_type": "code",
   "execution_count": 28,
   "id": "municipal-permit",
   "metadata": {
    "execution": {
     "iopub.execute_input": "2021-03-25T14:18:58.284461Z",
     "iopub.status.busy": "2021-03-25T14:18:58.283325Z",
     "iopub.status.idle": "2021-03-25T14:18:58.603967Z",
     "shell.execute_reply": "2021-03-25T14:18:58.601377Z"
    }
   },
   "outputs": [
    {
     "data": {
      "image/svg+xml": [
       "<?xml version=\"1.0\" encoding=\"UTF-8\" standalone=\"no\"?><svg xmlns=\"http://www.w3.org/2000/svg\" xmlns:xlink=\"http://www.w3.org/1999/xlink\" contentScriptType=\"application/ecmascript\" contentStyleType=\"text/css\" height=\"280px\" preserveAspectRatio=\"none\" style=\"width:290px;height:280px;\" version=\"1.1\" viewBox=\"0 0 290 280\" width=\"290px\" zoomAndPan=\"magnify\"><defs><filter height=\"300%\" id=\"fvjhc4oodt956\" width=\"300%\" x=\"-1\" y=\"-1\"><feGaussianBlur result=\"blurOut\" stdDeviation=\"2.0\"/><feColorMatrix in=\"blurOut\" result=\"blurOut2\" type=\"matrix\" values=\"0 0 0 0 0 0 0 0 0 0 0 0 0 0 0 0 0 0 .4 0\"/><feOffset dx=\"4.0\" dy=\"4.0\" in=\"blurOut2\" result=\"blurOut3\"/><feBlend in=\"SourceGraphic\" in2=\"blurOut3\" mode=\"normal\"/></filter></defs><g><!--MD5=[fbc87193dbaf4d95561dea2c320d4a47]\n",
       "cluster E1--><a href=\"psysml:64ccfe85-4fdd-4bf0-b3db-5945cd262e15\" target=\"_top\" title=\"psysml:64ccfe85-4fdd-4bf0-b3db-5945cd262e15\" xlink:actuate=\"onRequest\" xlink:href=\"psysml:64ccfe85-4fdd-4bf0-b3db-5945cd262e15\" xlink:show=\"new\" xlink:title=\"psysml:64ccfe85-4fdd-4bf0-b3db-5945cd262e15\" xlink:type=\"simple\"><polygon fill=\"#FFFFFF\" filter=\"url(#fvjhc4oodt956)\" points=\"16,6,236,6,243,28.2969,268,28.2969,268,268,16,268,16,6\" style=\"stroke: #000000; stroke-width: 1.5;\"/><line style=\"stroke: #000000; stroke-width: 1.5;\" x1=\"16\" x2=\"243\" y1=\"28.2969\" y2=\"28.2969\"/><text fill=\"#000000\" font-family=\"sans-serif\" font-size=\"14\" font-weight=\"bold\" lengthAdjust=\"spacingAndGlyphs\" textLength=\"214\" x=\"20\" y=\"20.9951\">TextualRepresentationTest</text></a><!--MD5=[b4997ac47864f28c2f74865a473b2911]\n",
       "class E2--><a href=\"psysml:06125bd0-acad-496e-b065-61f119a09466\" target=\"_top\" title=\"psysml:06125bd0-acad-496e-b065-61f119a09466\" xlink:actuate=\"onRequest\" xlink:href=\"psysml:06125bd0-acad-496e-b065-61f119a09466\" xlink:show=\"new\" xlink:title=\"psysml:06125bd0-acad-496e-b065-61f119a09466\" xlink:type=\"simple\"><rect fill=\"#FEFECE\" filter=\"url(#fvjhc4oodt956)\" height=\"45.9375\" id=\"E2\" style=\"stroke: #A80036; stroke-width: 1.5;\" width=\"74\" x=\"32\" y=\"185\"/><text fill=\"#000000\" font-family=\"sans-serif\" font-size=\"12\" font-style=\"italic\" lengthAdjust=\"spacingAndGlyphs\" textLength=\"72\" x=\"33\" y=\"201.1387\">«dataType»</text><text fill=\"#000000\" font-family=\"sans-serif\" font-size=\"12\" lengthAdjust=\"spacingAndGlyphs\" textLength=\"27\" x=\"55.5\" y=\"215.1074\">Real</text><line style=\"stroke: #A80036; stroke-width: 1.5;\" x1=\"33\" x2=\"105\" y1=\"222.9375\" y2=\"222.9375\"/></a><!--MD5=[09b614a08d8cba4a07c9adeb5e0fee81]\n",
       "class E3--><a href=\"psysml:57586f80-7065-4509-85b2-20f5f1ea1e4c\" target=\"_top\" title=\"psysml:57586f80-7065-4509-85b2-20f5f1ea1e4c\" xlink:actuate=\"onRequest\" xlink:href=\"psysml:57586f80-7065-4509-85b2-20f5f1ea1e4c\" xlink:show=\"new\" xlink:title=\"psysml:57586f80-7065-4509-85b2-20f5f1ea1e4c\" xlink:type=\"simple\"><rect fill=\"#FEFECE\" filter=\"url(#fvjhc4oodt956)\" height=\"88.3516\" id=\"E3\" style=\"stroke: #A80036; stroke-width: 1.5;\" width=\"111\" x=\"141.5\" y=\"164\"/><text fill=\"#000000\" font-family=\"sans-serif\" font-size=\"12\" font-style=\"italic\" lengthAdjust=\"spacingAndGlyphs\" textLength=\"65\" x=\"164.5\" y=\"180.1387\">«item def»</text><text fill=\"#000000\" font-family=\"sans-serif\" font-size=\"12\" lengthAdjust=\"spacingAndGlyphs\" textLength=\"8\" x=\"193\" y=\"194.1074\">C</text><line style=\"stroke: #A80036; stroke-width: 1.5;\" x1=\"142.5\" x2=\"251.5\" y1=\"201.9375\" y2=\"201.9375\"/><text fill=\"#000000\" font-family=\"sans-serif\" font-size=\"11\" lengthAdjust=\"spacingAndGlyphs\" textLength=\"38\" x=\"147.5\" y=\"216.1479\">x: Real</text><text fill=\"#000000\" font-family=\"sans-serif\" font-size=\"11\" lengthAdjust=\"spacingAndGlyphs\" textLength=\"69\" x=\"147.5\" y=\"245.7573\">x_constraint</text><line style=\"stroke: #A80036; stroke-width: 1.0;\" x1=\"142.5\" x2=\"145.5\" y1=\"229.1445\" y2=\"229.1445\"/><text fill=\"#000000\" font-family=\"sans-serif\" font-size=\"11\" lengthAdjust=\"spacingAndGlyphs\" textLength=\"103\" x=\"145.5\" y=\"232.4526\">assertConstraints</text><line style=\"stroke: #A80036; stroke-width: 1.0;\" x1=\"248.5\" x2=\"251.5\" y1=\"229.1445\" y2=\"229.1445\"/></a><!--MD5=[270fce915f116d4de14055a7c1d9a0f3]\n",
       "class E5--><a href=\"psysml:8549a337-017f-4e92-9426-82c63ecb1b1e\" target=\"_top\" title=\"psysml:8549a337-017f-4e92-9426-82c63ecb1b1e\" xlink:actuate=\"onRequest\" xlink:href=\"psysml:8549a337-017f-4e92-9426-82c63ecb1b1e\" xlink:show=\"new\" xlink:title=\"psysml:8549a337-017f-4e92-9426-82c63ecb1b1e\" xlink:type=\"simple\"><rect fill=\"#FEFECE\" filter=\"url(#fvjhc4oodt956)\" height=\"45.9375\" id=\"E5\" style=\"stroke: #A80036; stroke-width: 1.5;\" width=\"79\" x=\"67.5\" y=\"41\"/><text fill=\"#000000\" font-family=\"sans-serif\" font-size=\"12\" font-style=\"italic\" lengthAdjust=\"spacingAndGlyphs\" textLength=\"77\" x=\"68.5\" y=\"57.1387\">«action def»</text><text fill=\"#000000\" font-family=\"sans-serif\" font-size=\"12\" lengthAdjust=\"spacingAndGlyphs\" textLength=\"27\" x=\"93.5\" y=\"71.1074\">setX</text><line style=\"stroke: #A80036; stroke-width: 1.5;\" x1=\"68.5\" x2=\"145.5\" y1=\"78.9375\" y2=\"78.9375\"/></a><!--MD5=[6f107eb264eda4b26325f39a5516f1f3]\n",
       "reverse link E5 to E3--><a href=\"psysml:aa76399d-9e78-4ecc-80de-8099ee5899a9\" target=\"_top\" title=\"psysml:aa76399d-9e78-4ecc-80de-8099ee5899a9\" xlink:actuate=\"onRequest\" xlink:href=\"psysml:aa76399d-9e78-4ecc-80de-8099ee5899a9\" xlink:show=\"new\" xlink:title=\"psysml:aa76399d-9e78-4ecc-80de-8099ee5899a9\" xlink:type=\"simple\"><path d=\"M128.1,98.29 C140.49,117.85 156.29,142.77 169.63,163.82 \" fill=\"none\" id=\"E5&lt;-E3\" style=\"stroke: #A80036; stroke-width: 1.0;\"/><polygon fill=\"#FFFFFF\" points=\"121.06,87.19,120.8908,94.3991,127.4803,97.328,127.6495,90.1189,121.06,87.19\" style=\"stroke: #A80036; stroke-width: 1.0;\"/><text fill=\"#000000\" font-family=\"sans-serif\" font-size=\"13\" lengthAdjust=\"spacingAndGlyphs\" textLength=\"7\" x=\"150\" y=\"130.0669\">c</text></a><!--MD5=[f51c6d1f1856fe338ac0413483fb1ccf]\n",
       "reverse link E5 to E2--><a href=\"psysml:3135ebc1-3d3a-4206-9f67-d8c3ceb18c3a\" target=\"_top\" title=\"psysml:3135ebc1-3d3a-4206-9f67-d8c3ceb18c3a\" xlink:actuate=\"onRequest\" xlink:href=\"psysml:3135ebc1-3d3a-4206-9f67-d8c3ceb18c3a\" xlink:show=\"new\" xlink:title=\"psysml:3135ebc1-3d3a-4206-9f67-d8c3ceb18c3a\" xlink:type=\"simple\"><path d=\"M97.7,99.76 C90.58,126.35 80.99,162.21 74.9,184.97 \" fill=\"none\" id=\"E5&lt;-E2\" style=\"stroke: #A80036; stroke-width: 1.0;\"/><polygon fill=\"#FFFFFF\" points=\"101.06,87.19,95.646,91.9533,97.9607,98.7828,103.3746,94.0195,101.06,87.19\" style=\"stroke: #A80036; stroke-width: 1.0;\"/><text fill=\"#000000\" font-family=\"sans-serif\" font-size=\"13\" lengthAdjust=\"spacingAndGlyphs\" textLength=\"33\" x=\"93\" y=\"130.0669\">newX</text></a><!--MD5=[5a9215cda299ab70742a929844f1cda5]\n",
       "@startuml\r\n",
       "skinparam wrapWidth 300\r\n",
       "hide circle\r\n",
       "\r\n",
       "package \"TextualRepresentationTest\" as E1  [[psysml:64ccfe85-4fdd-4bf0-b3db-5945cd262e15 ]]  {\r\n",
       "comp def \"Real\" as E2  <<(T,blue)dataType>> [[psysml:06125bd0-acad-496e-b065-61f119a09466 ]] {\r\n",
       "}\r\n",
       "comp def \"C\" as E3  <<(T,blue)item def>> [[psysml:57586f80-7065-4509-85b2-20f5f1ea1e4c ]] {\r\n",
       "x: Real\r\n",
       "- - assertConstraints - -\r\n",
       "x_constraint\r\n",
       "}\r\n",
       "comp def \"setX\" as E5  <<(T,blue)action def>> [[psysml:8549a337-017f-4e92-9426-82c63ecb1b1e ]] {\r\n",
       "}\r\n",
       "E5 o- - E3 [[psysml:aa76399d-9e78-4ecc-80de-8099ee5899a9 ]] : c\r\n",
       "E5 o- - E2 [[psysml:3135ebc1-3d3a-4206-9f67-d8c3ceb18c3a ]] : newX\r\n",
       "}\r\n",
       "@enduml\r\n",
       "\n",
       "PlantUML version 1.2020.13(Sat Jun 13 12:26:38 UTC 2020)\n",
       "(EPL source distribution)\n",
       "Java Runtime: OpenJDK Runtime Environment\n",
       "JVM: OpenJDK 64-Bit Server VM\n",
       "Default Encoding: UTF-8\n",
       "Language: en\n",
       "Country: null\n",
       "--></g></svg>"
      ]
     },
     "execution_count": 28,
     "metadata": {},
     "output_type": "execute_result"
    }
   ],
   "source": [
    "%viz --style=\"STDCOLOR\" --view=\"Sequence\" \"TextualRepresentationTest\""
   ]
  },
  {
   "cell_type": "code",
   "execution_count": 29,
   "id": "approved-marine",
   "metadata": {
    "execution": {
     "iopub.execute_input": "2021-03-25T14:18:58.654121Z",
     "iopub.status.busy": "2021-03-25T14:18:58.653614Z",
     "iopub.status.idle": "2021-03-25T14:18:58.987398Z",
     "shell.execute_reply": "2021-03-25T14:18:58.987823Z"
    }
   },
   "outputs": [
    {
     "data": {
      "image/svg+xml": [
       "<?xml version=\"1.0\" encoding=\"UTF-8\" standalone=\"no\"?><svg xmlns=\"http://www.w3.org/2000/svg\" xmlns:xlink=\"http://www.w3.org/1999/xlink\" contentScriptType=\"application/ecmascript\" contentStyleType=\"text/css\" height=\"268px\" preserveAspectRatio=\"none\" style=\"width:432px;height:268px;\" version=\"1.1\" viewBox=\"0 0 432 268\" width=\"432px\" zoomAndPan=\"magnify\"><defs><filter height=\"300%\" id=\"fx65jeuy6t3ew\" width=\"300%\" x=\"-1\" y=\"-1\"><feGaussianBlur result=\"blurOut\" stdDeviation=\"2.0\"/><feColorMatrix in=\"blurOut\" result=\"blurOut2\" type=\"matrix\" values=\"0 0 0 0 0 0 0 0 0 0 0 0 0 0 0 0 0 0 .4 0\"/><feOffset dx=\"4.0\" dy=\"4.0\" in=\"blurOut2\" result=\"blurOut3\"/><feBlend in=\"SourceGraphic\" in2=\"blurOut3\" mode=\"normal\"/></filter></defs><g><!--MD5=[fbc87193dbaf4d95561dea2c320d4a47]\n",
       "cluster E1--><a href=\"psysml:64ccfe85-4fdd-4bf0-b3db-5945cd262e15\" target=\"_top\" title=\"psysml:64ccfe85-4fdd-4bf0-b3db-5945cd262e15\" xlink:actuate=\"onRequest\" xlink:href=\"psysml:64ccfe85-4fdd-4bf0-b3db-5945cd262e15\" xlink:show=\"new\" xlink:title=\"psysml:64ccfe85-4fdd-4bf0-b3db-5945cd262e15\" xlink:type=\"simple\"><polygon fill=\"#FFFFFF\" filter=\"url(#fx65jeuy6t3ew)\" points=\"16,6,236,6,243,28.2969,410,28.2969,410,256,16,256,16,6\" style=\"stroke: #000000; stroke-width: 1.5;\"/><line style=\"stroke: #000000; stroke-width: 1.5;\" x1=\"16\" x2=\"243\" y1=\"28.2969\" y2=\"28.2969\"/><text fill=\"#000000\" font-family=\"sans-serif\" font-size=\"14\" font-weight=\"bold\" lengthAdjust=\"spacingAndGlyphs\" textLength=\"214\" x=\"20\" y=\"20.9951\">TextualRepresentationTest</text></a><!--MD5=[de5ec2e2e8f62f467e546659f5068c88]\n",
       "cluster E5--><a href=\"psysml:8549a337-017f-4e92-9426-82c63ecb1b1e\" target=\"_top\" title=\"psysml:8549a337-017f-4e92-9426-82c63ecb1b1e\" xlink:actuate=\"onRequest\" xlink:href=\"psysml:8549a337-017f-4e92-9426-82c63ecb1b1e\" xlink:show=\"new\" xlink:title=\"psysml:8549a337-017f-4e92-9426-82c63ecb1b1e\" xlink:type=\"simple\"><rect fill=\"#FFFFFF\" filter=\"url(#fx65jeuy6t3ew)\" height=\"155\" id=\"E5\" style=\"stroke: #A80036; stroke-width: 1.5;\" width=\"96\" x=\"268.5\" y=\"85\"/><rect fill=\"#FEFECE\" height=\"37.9375\" style=\"stroke: #A80036; stroke-width: 1.5;\" width=\"96\" x=\"268.5\" y=\"85\"/><text fill=\"#000000\" font-family=\"sans-serif\" font-size=\"12\" font-style=\"italic\" lengthAdjust=\"spacingAndGlyphs\" textLength=\"77\" x=\"278\" y=\"101.1387\">«action def»</text><text fill=\"#000000\" font-family=\"sans-serif\" font-size=\"12\" lengthAdjust=\"spacingAndGlyphs\" textLength=\"27\" x=\"303\" y=\"115.1074\">setX</text></a><!--MD5=[b4997ac47864f28c2f74865a473b2911]\n",
       "class E2--><a href=\"psysml:06125bd0-acad-496e-b065-61f119a09466\" target=\"_top\" title=\"psysml:06125bd0-acad-496e-b065-61f119a09466\" xlink:actuate=\"onRequest\" xlink:href=\"psysml:06125bd0-acad-496e-b065-61f119a09466\" xlink:show=\"new\" xlink:title=\"psysml:06125bd0-acad-496e-b065-61f119a09466\" xlink:type=\"simple\"><rect fill=\"#FEFECE\" filter=\"url(#fx65jeuy6t3ew)\" height=\"45.9375\" id=\"E2\" style=\"stroke: #A80036; stroke-width: 1.5;\" width=\"74\" x=\"178\" y=\"62\"/><text fill=\"#000000\" font-family=\"sans-serif\" font-size=\"12\" font-style=\"italic\" lengthAdjust=\"spacingAndGlyphs\" textLength=\"72\" x=\"179\" y=\"78.1387\">«dataType»</text><text fill=\"#000000\" font-family=\"sans-serif\" font-size=\"12\" lengthAdjust=\"spacingAndGlyphs\" textLength=\"27\" x=\"201.5\" y=\"92.1074\">Real</text><line style=\"stroke: #A80036; stroke-width: 1.5;\" x1=\"179\" x2=\"251\" y1=\"99.9375\" y2=\"99.9375\"/></a><!--MD5=[09b614a08d8cba4a07c9adeb5e0fee81]\n",
       "class E3--><a href=\"psysml:57586f80-7065-4509-85b2-20f5f1ea1e4c\" target=\"_top\" title=\"psysml:57586f80-7065-4509-85b2-20f5f1ea1e4c\" xlink:actuate=\"onRequest\" xlink:href=\"psysml:57586f80-7065-4509-85b2-20f5f1ea1e4c\" xlink:show=\"new\" xlink:title=\"psysml:57586f80-7065-4509-85b2-20f5f1ea1e4c\" xlink:type=\"simple\"><rect fill=\"#FEFECE\" filter=\"url(#fx65jeuy6t3ew)\" height=\"88.3516\" id=\"E3\" style=\"stroke: #A80036; stroke-width: 1.5;\" width=\"111\" x=\"31.5\" y=\"41\"/><text fill=\"#000000\" font-family=\"sans-serif\" font-size=\"12\" font-style=\"italic\" lengthAdjust=\"spacingAndGlyphs\" textLength=\"65\" x=\"54.5\" y=\"57.1387\">«item def»</text><text fill=\"#000000\" font-family=\"sans-serif\" font-size=\"12\" lengthAdjust=\"spacingAndGlyphs\" textLength=\"8\" x=\"83\" y=\"71.1074\">C</text><line style=\"stroke: #A80036; stroke-width: 1.5;\" x1=\"32.5\" x2=\"141.5\" y1=\"78.9375\" y2=\"78.9375\"/><text fill=\"#000000\" font-family=\"sans-serif\" font-size=\"11\" lengthAdjust=\"spacingAndGlyphs\" textLength=\"38\" x=\"37.5\" y=\"93.1479\">x: Real</text><text fill=\"#000000\" font-family=\"sans-serif\" font-size=\"11\" lengthAdjust=\"spacingAndGlyphs\" textLength=\"69\" x=\"37.5\" y=\"122.7573\">x_constraint</text><line style=\"stroke: #A80036; stroke-width: 1.0;\" x1=\"32.5\" x2=\"35.5\" y1=\"106.1445\" y2=\"106.1445\"/><text fill=\"#000000\" font-family=\"sans-serif\" font-size=\"11\" lengthAdjust=\"spacingAndGlyphs\" textLength=\"103\" x=\"35.5\" y=\"109.4526\">assertConstraints</text><line style=\"stroke: #A80036; stroke-width: 1.0;\" x1=\"138.5\" x2=\"141.5\" y1=\"106.1445\" y2=\"106.1445\"/></a><text fill=\"#000000\" font-family=\"sans-serif\" font-size=\"14\" lengthAdjust=\"spacingAndGlyphs\" textLength=\"8\" x=\"289\" y=\"63.6982\">c</text><rect fill=\"#A80036\" height=\"12\" style=\"stroke: #FEFECE; stroke-width: 1.5;\" width=\"12\" x=\"287\" y=\"79\"/><text fill=\"#000000\" font-family=\"sans-serif\" font-size=\"14\" lengthAdjust=\"spacingAndGlyphs\" textLength=\"38\" x=\"321\" y=\"63.6982\">newX</text><rect fill=\"#A80036\" height=\"12\" style=\"stroke: #FEFECE; stroke-width: 1.5;\" width=\"12\" x=\"334\" y=\"79\"/><!--MD5=[f35e686ee4d30dd9ae9493c55565f425]\n",
       "@startuml\r\n",
       "skinparam wrapWidth 300\r\n",
       "hide circle\r\n",
       "\r\n",
       "package \"TextualRepresentationTest\" as E1  [[psysml:64ccfe85-4fdd-4bf0-b3db-5945cd262e15 ]]  {\r\n",
       "comp def \"Real\" as E2  <<(T,blue)dataType>> [[psysml:06125bd0-acad-496e-b065-61f119a09466 ]] {\r\n",
       "}\r\n",
       "comp def \"C\" as E3  <<(T,blue)item def>> [[psysml:57586f80-7065-4509-85b2-20f5f1ea1e4c ]] {\r\n",
       "x: Real\r\n",
       "- - assertConstraints - -\r\n",
       "x_constraint\r\n",
       "}\r\n",
       "rec def \"setX\" as E5  <<(T,blue)action def>> [[psysml:8549a337-017f-4e92-9426-82c63ecb1b1e ]] {\r\n",
       "portin \"c\" as E6  [[psysml:aa76399d-9e78-4ecc-80de-8099ee5899a9 ]] \r\n",
       "portin \"newX\" as E7  [[psysml:3135ebc1-3d3a-4206-9f67-d8c3ceb18c3a ]] \r\n",
       "}\r\n",
       "\r\n",
       "}\r\n",
       "@enduml\r\n",
       "\n",
       "PlantUML version 1.2020.13(Sat Jun 13 12:26:38 UTC 2020)\n",
       "(EPL source distribution)\n",
       "Java Runtime: OpenJDK Runtime Environment\n",
       "JVM: OpenJDK 64-Bit Server VM\n",
       "Default Encoding: UTF-8\n",
       "Language: en\n",
       "Country: null\n",
       "--></g></svg>"
      ]
     },
     "execution_count": 29,
     "metadata": {},
     "output_type": "execute_result"
    }
   ],
   "source": [
    "%viz --style=\"STDCOLOR\" --view=\"MIXED\" \"TextualRepresentationTest\""
   ]
  },
  {
   "cell_type": "code",
   "execution_count": 30,
   "id": "devoted-nelson",
   "metadata": {
    "execution": {
     "iopub.execute_input": "2021-03-25T14:18:59.038189Z",
     "iopub.status.busy": "2021-03-25T14:18:59.037558Z",
     "iopub.status.idle": "2021-03-25T14:18:59.391298Z",
     "shell.execute_reply": "2021-03-25T14:18:59.390054Z"
    }
   },
   "outputs": [
    {
     "data": {
      "image/svg+xml": [
       "<?xml version=\"1.0\" encoding=\"UTF-8\" standalone=\"no\"?><svg xmlns=\"http://www.w3.org/2000/svg\" xmlns:xlink=\"http://www.w3.org/1999/xlink\" contentScriptType=\"application/ecmascript\" contentStyleType=\"text/css\" height=\"262px\" preserveAspectRatio=\"none\" style=\"width:458px;height:262px;\" version=\"1.1\" viewBox=\"0 0 458 262\" width=\"458px\" zoomAndPan=\"magnify\"><defs><filter height=\"300%\" id=\"f1n4upt3h3hogy\" width=\"300%\" x=\"-1\" y=\"-1\"><feGaussianBlur result=\"blurOut\" stdDeviation=\"2.0\"/><feColorMatrix in=\"blurOut\" result=\"blurOut2\" type=\"matrix\" values=\"0 0 0 0 0 0 0 0 0 0 0 0 0 0 0 0 0 0 .4 0\"/><feOffset dx=\"4.0\" dy=\"4.0\" in=\"blurOut2\" result=\"blurOut3\"/><feBlend in=\"SourceGraphic\" in2=\"blurOut3\" mode=\"normal\"/></filter></defs><g><!--MD5=[fbc87193dbaf4d95561dea2c320d4a47]\n",
       "cluster E1--><a href=\"psysml:64ccfe85-4fdd-4bf0-b3db-5945cd262e15\" target=\"_top\" title=\"psysml:64ccfe85-4fdd-4bf0-b3db-5945cd262e15\" xlink:actuate=\"onRequest\" xlink:href=\"psysml:64ccfe85-4fdd-4bf0-b3db-5945cd262e15\" xlink:show=\"new\" xlink:title=\"psysml:64ccfe85-4fdd-4bf0-b3db-5945cd262e15\" xlink:type=\"simple\"><polygon fill=\"#FFFFFF\" filter=\"url(#f1n4upt3h3hogy)\" points=\"16,6,236,6,243,28.2969,436,28.2969,436,250,16,250,16,6\" style=\"stroke: #000000; stroke-width: 1.5;\"/><line style=\"stroke: #000000; stroke-width: 1.5;\" x1=\"16\" x2=\"243\" y1=\"28.2969\" y2=\"28.2969\"/><text fill=\"#000000\" font-family=\"sans-serif\" font-size=\"14\" font-weight=\"bold\" lengthAdjust=\"spacingAndGlyphs\" textLength=\"214\" x=\"20\" y=\"20.9951\">TextualRepresentationTest</text></a><!--MD5=[de5ec2e2e8f62f467e546659f5068c88]\n",
       "cluster E5--><a href=\"psysml:8549a337-017f-4e92-9426-82c63ecb1b1e\" target=\"_top\" title=\"psysml:8549a337-017f-4e92-9426-82c63ecb1b1e\" xlink:actuate=\"onRequest\" xlink:href=\"psysml:8549a337-017f-4e92-9426-82c63ecb1b1e\" xlink:show=\"new\" xlink:title=\"psysml:8549a337-017f-4e92-9426-82c63ecb1b1e\" xlink:type=\"simple\"><rect fill=\"#FFFFFF\" filter=\"url(#f1n4upt3h3hogy)\" height=\"152\" id=\"E5\" style=\"stroke: #A80036; stroke-width: 1.5;\" width=\"96\" x=\"294.5\" y=\"82\"/><rect fill=\"#FEFECE\" height=\"37.9375\" style=\"stroke: #A80036; stroke-width: 1.5;\" width=\"96\" x=\"294.5\" y=\"82\"/><text fill=\"#000000\" font-family=\"sans-serif\" font-size=\"12\" font-style=\"italic\" lengthAdjust=\"spacingAndGlyphs\" textLength=\"77\" x=\"304\" y=\"98.1387\">«action def»</text><text fill=\"#000000\" font-family=\"sans-serif\" font-size=\"12\" lengthAdjust=\"spacingAndGlyphs\" textLength=\"27\" x=\"329\" y=\"112.1074\">setX</text></a><!--MD5=[b4997ac47864f28c2f74865a473b2911]\n",
       "class E2--><a href=\"psysml:06125bd0-acad-496e-b065-61f119a09466\" target=\"_top\" title=\"psysml:06125bd0-acad-496e-b065-61f119a09466\" xlink:actuate=\"onRequest\" xlink:href=\"psysml:06125bd0-acad-496e-b065-61f119a09466\" xlink:show=\"new\" xlink:title=\"psysml:06125bd0-acad-496e-b065-61f119a09466\" xlink:type=\"simple\"><rect fill=\"#FEFECE\" filter=\"url(#f1n4upt3h3hogy)\" height=\"45.9375\" id=\"E2\" style=\"stroke: #A80036; stroke-width: 1.5;\" width=\"100\" x=\"178\" y=\"59\"/><ellipse cx=\"193\" cy=\"77.9688\" fill=\"#0000FF\" rx=\"11\" ry=\"11\" style=\"stroke: #A80036; stroke-width: 1.0;\"/><path d=\"M193.8438,84.7188 L191.3906,84.7188 L191.3906,74.4688 L188.25,74.4688 L188.25,72.3281 L196.9844,72.3281 L196.9844,74.4688 L193.8438,74.4688 L193.8438,84.7188 Z \"/><text fill=\"#000000\" font-family=\"sans-serif\" font-size=\"12\" font-style=\"italic\" lengthAdjust=\"spacingAndGlyphs\" textLength=\"72\" x=\"205\" y=\"75.1387\">«dataType»</text><text fill=\"#000000\" font-family=\"sans-serif\" font-size=\"12\" lengthAdjust=\"spacingAndGlyphs\" textLength=\"27\" x=\"227.5\" y=\"89.1074\">Real</text><line style=\"stroke: #A80036; stroke-width: 1.5;\" x1=\"179\" x2=\"277\" y1=\"96.9375\" y2=\"96.9375\"/></a><!--MD5=[09b614a08d8cba4a07c9adeb5e0fee81]\n",
       "class E3--><a href=\"psysml:57586f80-7065-4509-85b2-20f5f1ea1e4c\" target=\"_top\" title=\"psysml:57586f80-7065-4509-85b2-20f5f1ea1e4c\" xlink:actuate=\"onRequest\" xlink:href=\"psysml:57586f80-7065-4509-85b2-20f5f1ea1e4c\" xlink:show=\"new\" xlink:title=\"psysml:57586f80-7065-4509-85b2-20f5f1ea1e4c\" xlink:type=\"simple\"><rect fill=\"#FEFECE\" filter=\"url(#f1n4upt3h3hogy)\" height=\"82.4141\" id=\"E3\" style=\"stroke: #A80036; stroke-width: 1.5;\" width=\"111\" x=\"31.5\" y=\"41\"/><ellipse cx=\"78.75\" cy=\"57\" fill=\"#008000\" rx=\"11\" ry=\"11\" style=\"stroke: #A80036; stroke-width: 1.0;\"/><path d=\"M77.6563,57.375 L77.6563,61.0469 L79.2813,61.0469 Q80.4531,61.0469 80.9219,60.6563 Q81.3906,60.25 81.3906,59.25 Q81.3906,58.25 80.8906,57.8125 Q80.4063,57.375 79.2813,57.375 L77.6563,57.375 Z M77.6563,52.5469 L77.6563,55.4219 L79.2813,55.4219 Q80.2031,55.4219 80.5938,55.0938 Q81,54.75 81,54 Q81,53.2344 80.5938,52.8906 Q80.1875,52.5469 79.2813,52.5469 L77.6563,52.5469 Z M75.2813,50.5938 L79.2813,50.5938 Q81.3438,50.5938 82.3906,51.375 Q83.4375,52.1563 83.4375,53.7188 Q83.4375,54.9219 82.8125,55.5938 Q82.2031,56.2656 81.0156,56.375 Q82.4375,56.5156 83.1563,57.3281 Q83.875,58.1406 83.875,59.5938 Q83.875,61.3906 82.7969,62.2031 Q81.7188,63 79.2813,63 L75.2813,63 L75.2813,50.5938 Z \"/><text fill=\"#000000\" font-family=\"sans-serif\" font-size=\"12\" lengthAdjust=\"spacingAndGlyphs\" textLength=\"8\" x=\"99.25\" y=\"61.1543\">C</text><line style=\"stroke: #A80036; stroke-width: 1.5;\" x1=\"32.5\" x2=\"141.5\" y1=\"73\" y2=\"73\"/><text fill=\"#000000\" font-family=\"sans-serif\" font-size=\"11\" lengthAdjust=\"spacingAndGlyphs\" textLength=\"38\" x=\"37.5\" y=\"87.2104\">x: Real</text><text fill=\"#000000\" font-family=\"sans-serif\" font-size=\"11\" lengthAdjust=\"spacingAndGlyphs\" textLength=\"69\" x=\"37.5\" y=\"116.8198\">x_constraint</text><line style=\"stroke: #A80036; stroke-width: 1.0;\" x1=\"32.5\" x2=\"35.5\" y1=\"100.207\" y2=\"100.207\"/><text fill=\"#000000\" font-family=\"sans-serif\" font-size=\"11\" lengthAdjust=\"spacingAndGlyphs\" textLength=\"103\" x=\"35.5\" y=\"103.5151\">assertConstraints</text><line style=\"stroke: #A80036; stroke-width: 1.0;\" x1=\"138.5\" x2=\"141.5\" y1=\"100.207\" y2=\"100.207\"/></a><text fill=\"#000000\" font-family=\"sans-serif\" font-size=\"14\" lengthAdjust=\"spacingAndGlyphs\" textLength=\"8\" x=\"315\" y=\"60.6982\">c</text><rect fill=\"#A80036\" height=\"12\" style=\"stroke: #FEFECE; stroke-width: 1.5;\" width=\"12\" x=\"313\" y=\"76\"/><text fill=\"#000000\" font-family=\"sans-serif\" font-size=\"14\" lengthAdjust=\"spacingAndGlyphs\" textLength=\"38\" x=\"347\" y=\"60.6982\">newX</text><rect fill=\"#A80036\" height=\"12\" style=\"stroke: #FEFECE; stroke-width: 1.5;\" width=\"12\" x=\"360\" y=\"76\"/><!--MD5=[87fa2d7f5f93cb50104ff9dbbde4e463]\n",
       "@startuml\r\n",
       " \r\n",
       "package \"TextualRepresentationTest\" as E1  [[psysml:64ccfe85-4fdd-4bf0-b3db-5945cd262e15 ]]  {\r\n",
       "comp def \"Real\" as E2  <<(T,blue)dataType>> [[psysml:06125bd0-acad-496e-b065-61f119a09466 ]] {\r\n",
       "}\r\n",
       "comp def \"C\" as E3  << (B,green) >> [[psysml:57586f80-7065-4509-85b2-20f5f1ea1e4c ]] {\r\n",
       "x: Real\r\n",
       "- - assertConstraints - -\r\n",
       "x_constraint\r\n",
       "}\r\n",
       "rec def \"setX\" as E5  <<(D,brown)action def>> [[psysml:8549a337-017f-4e92-9426-82c63ecb1b1e ]] {\r\n",
       "portin \"c\" as E6  [[psysml:aa76399d-9e78-4ecc-80de-8099ee5899a9 ]] \r\n",
       "portin \"newX\" as E7  [[psysml:3135ebc1-3d3a-4206-9f67-d8c3ceb18c3a ]] \r\n",
       "}\r\n",
       "\r\n",
       "}\r\n",
       "@enduml\r\n",
       "\n",
       "PlantUML version 1.2020.13(Sat Jun 13 12:26:38 UTC 2020)\n",
       "(EPL source distribution)\n",
       "Java Runtime: OpenJDK Runtime Environment\n",
       "JVM: OpenJDK 64-Bit Server VM\n",
       "Default Encoding: UTF-8\n",
       "Language: en\n",
       "Country: null\n",
       "--></g></svg>"
      ]
     },
     "execution_count": 30,
     "metadata": {},
     "output_type": "execute_result"
    }
   ],
   "source": [
    "%viz --style=\"PLANTUML\" --view=\"Default\" \"TextualRepresentationTest\""
   ]
  },
  {
   "cell_type": "code",
   "execution_count": 31,
   "id": "protecting-magic",
   "metadata": {
    "execution": {
     "iopub.execute_input": "2021-03-25T14:18:59.442365Z",
     "iopub.status.busy": "2021-03-25T14:18:59.441662Z",
     "iopub.status.idle": "2021-03-25T14:18:59.757225Z",
     "shell.execute_reply": "2021-03-25T14:18:59.757671Z"
    }
   },
   "outputs": [
    {
     "data": {
      "image/svg+xml": [
       "<?xml version=\"1.0\" encoding=\"UTF-8\" standalone=\"no\"?><svg xmlns=\"http://www.w3.org/2000/svg\" xmlns:xlink=\"http://www.w3.org/1999/xlink\" contentScriptType=\"application/ecmascript\" contentStyleType=\"text/css\" height=\"274px\" preserveAspectRatio=\"none\" style=\"width:316px;height:274px;\" version=\"1.1\" viewBox=\"0 0 316 274\" width=\"316px\" zoomAndPan=\"magnify\"><defs><filter height=\"300%\" id=\"f10kzlcih7mvfa\" width=\"300%\" x=\"-1\" y=\"-1\"><feGaussianBlur result=\"blurOut\" stdDeviation=\"2.0\"/><feColorMatrix in=\"blurOut\" result=\"blurOut2\" type=\"matrix\" values=\"0 0 0 0 0 0 0 0 0 0 0 0 0 0 0 0 0 0 .4 0\"/><feOffset dx=\"4.0\" dy=\"4.0\" in=\"blurOut2\" result=\"blurOut3\"/><feBlend in=\"SourceGraphic\" in2=\"blurOut3\" mode=\"normal\"/></filter></defs><g><!--MD5=[fbc87193dbaf4d95561dea2c320d4a47]\n",
       "cluster E1--><a href=\"psysml:64ccfe85-4fdd-4bf0-b3db-5945cd262e15\" target=\"_top\" title=\"psysml:64ccfe85-4fdd-4bf0-b3db-5945cd262e15\" xlink:actuate=\"onRequest\" xlink:href=\"psysml:64ccfe85-4fdd-4bf0-b3db-5945cd262e15\" xlink:show=\"new\" xlink:title=\"psysml:64ccfe85-4fdd-4bf0-b3db-5945cd262e15\" xlink:type=\"simple\"><polygon fill=\"#FFFFFF\" filter=\"url(#f10kzlcih7mvfa)\" points=\"16,6,236,6,243,28.2969,294,28.2969,294,262,16,262,16,6\" style=\"stroke: #000000; stroke-width: 1.5;\"/><line style=\"stroke: #000000; stroke-width: 1.5;\" x1=\"16\" x2=\"243\" y1=\"28.2969\" y2=\"28.2969\"/><text fill=\"#000000\" font-family=\"sans-serif\" font-size=\"14\" font-weight=\"bold\" lengthAdjust=\"spacingAndGlyphs\" textLength=\"214\" x=\"20\" y=\"20.9951\">TextualRepresentationTest</text></a><!--MD5=[b4997ac47864f28c2f74865a473b2911]\n",
       "class E2--><a href=\"psysml:06125bd0-acad-496e-b065-61f119a09466\" target=\"_top\" title=\"psysml:06125bd0-acad-496e-b065-61f119a09466\" xlink:actuate=\"onRequest\" xlink:href=\"psysml:06125bd0-acad-496e-b065-61f119a09466\" xlink:show=\"new\" xlink:title=\"psysml:06125bd0-acad-496e-b065-61f119a09466\" xlink:type=\"simple\"><rect fill=\"#FEFECE\" filter=\"url(#f10kzlcih7mvfa)\" height=\"45.9375\" id=\"E2\" style=\"stroke: #A80036; stroke-width: 1.5;\" width=\"100\" x=\"32\" y=\"182\"/><ellipse cx=\"47\" cy=\"200.9688\" fill=\"#0000FF\" rx=\"11\" ry=\"11\" style=\"stroke: #A80036; stroke-width: 1.0;\"/><path d=\"M47.8438,207.7188 L45.3906,207.7188 L45.3906,197.4688 L42.25,197.4688 L42.25,195.3281 L50.9844,195.3281 L50.9844,197.4688 L47.8438,197.4688 L47.8438,207.7188 Z \"/><text fill=\"#000000\" font-family=\"sans-serif\" font-size=\"12\" font-style=\"italic\" lengthAdjust=\"spacingAndGlyphs\" textLength=\"72\" x=\"59\" y=\"198.1387\">«dataType»</text><text fill=\"#000000\" font-family=\"sans-serif\" font-size=\"12\" lengthAdjust=\"spacingAndGlyphs\" textLength=\"27\" x=\"81.5\" y=\"212.1074\">Real</text><line style=\"stroke: #A80036; stroke-width: 1.5;\" x1=\"33\" x2=\"131\" y1=\"219.9375\" y2=\"219.9375\"/></a><!--MD5=[09b614a08d8cba4a07c9adeb5e0fee81]\n",
       "class E3--><a href=\"psysml:57586f80-7065-4509-85b2-20f5f1ea1e4c\" target=\"_top\" title=\"psysml:57586f80-7065-4509-85b2-20f5f1ea1e4c\" xlink:actuate=\"onRequest\" xlink:href=\"psysml:57586f80-7065-4509-85b2-20f5f1ea1e4c\" xlink:show=\"new\" xlink:title=\"psysml:57586f80-7065-4509-85b2-20f5f1ea1e4c\" xlink:type=\"simple\"><rect fill=\"#FEFECE\" filter=\"url(#f10kzlcih7mvfa)\" height=\"82.4141\" id=\"E3\" style=\"stroke: #A80036; stroke-width: 1.5;\" width=\"111\" x=\"167.5\" y=\"164\"/><ellipse cx=\"214.75\" cy=\"180\" fill=\"#008000\" rx=\"11\" ry=\"11\" style=\"stroke: #A80036; stroke-width: 1.0;\"/><path d=\"M213.6563,180.375 L213.6563,184.0469 L215.2813,184.0469 Q216.4531,184.0469 216.9219,183.6563 Q217.3906,183.25 217.3906,182.25 Q217.3906,181.25 216.8906,180.8125 Q216.4063,180.375 215.2813,180.375 L213.6563,180.375 Z M213.6563,175.5469 L213.6563,178.4219 L215.2813,178.4219 Q216.2031,178.4219 216.5938,178.0938 Q217,177.75 217,177 Q217,176.2344 216.5938,175.8906 Q216.1875,175.5469 215.2813,175.5469 L213.6563,175.5469 Z M211.2813,173.5938 L215.2813,173.5938 Q217.3438,173.5938 218.3906,174.375 Q219.4375,175.1563 219.4375,176.7188 Q219.4375,177.9219 218.8125,178.5938 Q218.2031,179.2656 217.0156,179.375 Q218.4375,179.5156 219.1563,180.3281 Q219.875,181.1406 219.875,182.5938 Q219.875,184.3906 218.7969,185.2031 Q217.7188,186 215.2813,186 L211.2813,186 L211.2813,173.5938 Z \"/><text fill=\"#000000\" font-family=\"sans-serif\" font-size=\"12\" lengthAdjust=\"spacingAndGlyphs\" textLength=\"8\" x=\"235.25\" y=\"184.1543\">C</text><line style=\"stroke: #A80036; stroke-width: 1.5;\" x1=\"168.5\" x2=\"277.5\" y1=\"196\" y2=\"196\"/><text fill=\"#000000\" font-family=\"sans-serif\" font-size=\"11\" lengthAdjust=\"spacingAndGlyphs\" textLength=\"38\" x=\"173.5\" y=\"210.2104\">x: Real</text><text fill=\"#000000\" font-family=\"sans-serif\" font-size=\"11\" lengthAdjust=\"spacingAndGlyphs\" textLength=\"69\" x=\"173.5\" y=\"239.8198\">x_constraint</text><line style=\"stroke: #A80036; stroke-width: 1.0;\" x1=\"168.5\" x2=\"171.5\" y1=\"223.207\" y2=\"223.207\"/><text fill=\"#000000\" font-family=\"sans-serif\" font-size=\"11\" lengthAdjust=\"spacingAndGlyphs\" textLength=\"103\" x=\"171.5\" y=\"226.5151\">assertConstraints</text><line style=\"stroke: #A80036; stroke-width: 1.0;\" x1=\"274.5\" x2=\"277.5\" y1=\"223.207\" y2=\"223.207\"/></a><!--MD5=[270fce915f116d4de14055a7c1d9a0f3]\n",
       "class E5--><a href=\"psysml:8549a337-017f-4e92-9426-82c63ecb1b1e\" target=\"_top\" title=\"psysml:8549a337-017f-4e92-9426-82c63ecb1b1e\" xlink:actuate=\"onRequest\" xlink:href=\"psysml:8549a337-017f-4e92-9426-82c63ecb1b1e\" xlink:show=\"new\" xlink:title=\"psysml:8549a337-017f-4e92-9426-82c63ecb1b1e\" xlink:type=\"simple\"><rect fill=\"#FEFECE\" filter=\"url(#f10kzlcih7mvfa)\" height=\"45.9375\" id=\"E5\" style=\"stroke: #A80036; stroke-width: 1.5;\" width=\"105\" x=\"68.5\" y=\"41\"/><ellipse cx=\"83.5\" cy=\"59.9688\" fill=\"#A52A2A\" rx=\"11\" ry=\"11\" style=\"stroke: #A80036; stroke-width: 1.0;\"/><path d=\"M83.0938,55.7813 L83.0938,63.7656 L83.75,63.7656 Q85.1875,63.7656 85.7969,62.8594 Q86.4219,61.9375 86.4219,59.7656 Q86.4219,57.5938 85.7969,56.6875 Q85.1875,55.7813 83.75,55.7813 L83.0938,55.7813 Z M80.6406,53.5781 L83.2656,53.5781 Q86.2969,53.5781 87.625,55.0313 Q88.9688,56.4688 88.9688,59.7656 Q88.9688,63.0625 87.625,64.5156 Q86.2969,65.9688 83.2656,65.9688 L80.6406,65.9688 L80.6406,53.5781 Z \"/><text fill=\"#000000\" font-family=\"sans-serif\" font-size=\"12\" font-style=\"italic\" lengthAdjust=\"spacingAndGlyphs\" textLength=\"77\" x=\"95.5\" y=\"57.1387\">«action def»</text><text fill=\"#000000\" font-family=\"sans-serif\" font-size=\"12\" lengthAdjust=\"spacingAndGlyphs\" textLength=\"27\" x=\"120.5\" y=\"71.1074\">setX</text><line style=\"stroke: #A80036; stroke-width: 1.5;\" x1=\"69.5\" x2=\"172.5\" y1=\"78.9375\" y2=\"78.9375\"/></a><!--MD5=[6f107eb264eda4b26325f39a5516f1f3]\n",
       "reverse link E5 to E3--><a href=\"psysml:aa76399d-9e78-4ecc-80de-8099ee5899a9\" target=\"_top\" title=\"psysml:aa76399d-9e78-4ecc-80de-8099ee5899a9\" xlink:actuate=\"onRequest\" xlink:href=\"psysml:aa76399d-9e78-4ecc-80de-8099ee5899a9\" xlink:show=\"new\" xlink:title=\"psysml:aa76399d-9e78-4ecc-80de-8099ee5899a9\" xlink:type=\"simple\"><path d=\"M144.97,97.67 C159.5,117.47 178.14,142.87 193.56,163.88 \" fill=\"none\" id=\"E5&lt;-E3\" style=\"stroke: #A80036; stroke-width: 1.0;\"/><polygon fill=\"#FFFFFF\" points=\"137.16,87.02,137.4872,94.2237,144.2626,96.6922,143.9354,89.4886,137.16,87.02\" style=\"stroke: #A80036; stroke-width: 1.0;\"/><text fill=\"#000000\" font-family=\"sans-serif\" font-size=\"13\" lengthAdjust=\"spacingAndGlyphs\" textLength=\"7\" x=\"169\" y=\"130.0669\">c</text></a><!--MD5=[f51c6d1f1856fe338ac0413483fb1ccf]\n",
       "reverse link E5 to E2--><a href=\"psysml:3135ebc1-3d3a-4206-9f67-d8c3ceb18c3a\" target=\"_top\" title=\"psysml:3135ebc1-3d3a-4206-9f67-d8c3ceb18c3a\" xlink:actuate=\"onRequest\" xlink:href=\"psysml:3135ebc1-3d3a-4206-9f67-d8c3ceb18c3a\" xlink:show=\"new\" xlink:title=\"psysml:3135ebc1-3d3a-4206-9f67-d8c3ceb18c3a\" xlink:type=\"simple\"><path d=\"M111.31,99.55 C104.11,125.21 94.5,159.45 88.28,181.62 \" fill=\"none\" id=\"E5&lt;-E2\" style=\"stroke: #A80036; stroke-width: 1.0;\"/><polygon fill=\"#FFFFFF\" points=\"114.82,87.02,109.3468,91.7151,111.5756,98.5731,117.0489,93.878,114.82,87.02\" style=\"stroke: #A80036; stroke-width: 1.0;\"/><text fill=\"#000000\" font-family=\"sans-serif\" font-size=\"13\" lengthAdjust=\"spacingAndGlyphs\" textLength=\"33\" x=\"107\" y=\"130.0669\">newX</text></a><!--MD5=[a7c2220e3c23f0c201dc6a03b5f7b9cf]\n",
       "@startuml\r\n",
       " \r\n",
       "package \"TextualRepresentationTest\" as E1  [[psysml:64ccfe85-4fdd-4bf0-b3db-5945cd262e15 ]]  {\r\n",
       "comp def \"Real\" as E2  <<(T,blue)dataType>> [[psysml:06125bd0-acad-496e-b065-61f119a09466 ]] {\r\n",
       "}\r\n",
       "comp def \"C\" as E3  << (B,green) >> [[psysml:57586f80-7065-4509-85b2-20f5f1ea1e4c ]] {\r\n",
       "x: Real\r\n",
       "- - assertConstraints - -\r\n",
       "x_constraint\r\n",
       "}\r\n",
       "comp def \"setX\" as E5  <<(D,brown)action def>> [[psysml:8549a337-017f-4e92-9426-82c63ecb1b1e ]] {\r\n",
       "}\r\n",
       "E5 o- - E3 [[psysml:aa76399d-9e78-4ecc-80de-8099ee5899a9 ]] : c\r\n",
       "E5 o- - E2 [[psysml:3135ebc1-3d3a-4206-9f67-d8c3ceb18c3a ]] : newX\r\n",
       "}\r\n",
       "@enduml\r\n",
       "\n",
       "PlantUML version 1.2020.13(Sat Jun 13 12:26:38 UTC 2020)\n",
       "(EPL source distribution)\n",
       "Java Runtime: OpenJDK Runtime Environment\n",
       "JVM: OpenJDK 64-Bit Server VM\n",
       "Default Encoding: UTF-8\n",
       "Language: en\n",
       "Country: null\n",
       "--></g></svg>"
      ]
     },
     "execution_count": 31,
     "metadata": {},
     "output_type": "execute_result"
    }
   ],
   "source": [
    "%viz --style=\"PLANTUML\" --view=\"Tree\" \"TextualRepresentationTest\""
   ]
  },
  {
   "cell_type": "code",
   "execution_count": 32,
   "id": "robust-wright",
   "metadata": {
    "execution": {
     "iopub.execute_input": "2021-03-25T14:18:59.808676Z",
     "iopub.status.busy": "2021-03-25T14:18:59.808321Z",
     "iopub.status.idle": "2021-03-25T14:19:00.680057Z",
     "shell.execute_reply": "2021-03-25T14:19:00.678643Z"
    }
   },
   "outputs": [
    {
     "data": {
      "image/svg+xml": [
       "<?xml version=\"1.0\" encoding=\"UTF-8\" standalone=\"no\"?><svg xmlns=\"http://www.w3.org/2000/svg\" xmlns:xlink=\"http://www.w3.org/1999/xlink\" contentScriptType=\"application/ecmascript\" contentStyleType=\"text/css\" height=\"303px\" preserveAspectRatio=\"none\" style=\"width:603px;height:303px;background:#000000;\" version=\"1.1\" viewBox=\"0 0 603 303\" width=\"603px\" zoomAndPan=\"magnify\"><defs/><g><rect fill=\"#1E0524\" height=\"1\" style=\"stroke: #1E0524; stroke-width: 1.0;\" width=\"1\" x=\"0\" y=\"0\"/><rect fill=\"#FFFFFF\" height=\"205.5625\" style=\"stroke: #FFFFFF; stroke-width: 1.0;\" width=\"602\" x=\"0\" y=\"0\"/><text fill=\"#000000\" font-family=\"sans-serif\" font-size=\"12\" font-weight=\"bold\" lengthAdjust=\"spacingAndGlyphs\" textLength=\"159\" x=\"5\" y=\"16.1387\">Welcome to PlantUML!</text><text fill=\"#000000\" font-family=\"sans-serif\" font-size=\"12\" lengthAdjust=\"spacingAndGlyphs\" textLength=\"0\" x=\"9\" y=\"30.1074\"/><text fill=\"#000000\" font-family=\"sans-serif\" font-size=\"12\" lengthAdjust=\"spacingAndGlyphs\" textLength=\"293\" x=\"5\" y=\"44.0762\">If you use this software, you accept its license.</text><text fill=\"#000000\" font-family=\"sans-serif\" font-size=\"12\" lengthAdjust=\"spacingAndGlyphs\" textLength=\"107\" x=\"5\" y=\"58.0449\">(details by typing</text><text fill=\"#000000\" font-family=\"monospace\" font-size=\"12\" lengthAdjust=\"spacingAndGlyphs\" textLength=\"49\" x=\"116\" y=\"58.0449\">license</text><text fill=\"#000000\" font-family=\"sans-serif\" font-size=\"12\" lengthAdjust=\"spacingAndGlyphs\" textLength=\"56\" x=\"169\" y=\"58.0449\">keyword)</text><text fill=\"#000000\" font-family=\"sans-serif\" font-size=\"12\" lengthAdjust=\"spacingAndGlyphs\" textLength=\"0\" x=\"9\" y=\"72.0137\"/><text fill=\"#000000\" font-family=\"sans-serif\" font-size=\"12\" lengthAdjust=\"spacingAndGlyphs\" textLength=\"283\" x=\"5\" y=\"85.9824\">You can start with a simple UML Diagram like:</text><text fill=\"#000000\" font-family=\"sans-serif\" font-size=\"12\" lengthAdjust=\"spacingAndGlyphs\" textLength=\"0\" x=\"9\" y=\"99.9512\"/><text fill=\"#000000\" font-family=\"monospace\" font-size=\"12\" lengthAdjust=\"spacingAndGlyphs\" textLength=\"119\" x=\"5\" y=\"113.9199\">Bob-&gt;Alice: Hello</text><text fill=\"#000000\" font-family=\"sans-serif\" font-size=\"12\" lengthAdjust=\"spacingAndGlyphs\" textLength=\"0\" x=\"9\" y=\"127.8887\"/><text fill=\"#000000\" font-family=\"sans-serif\" font-size=\"12\" lengthAdjust=\"spacingAndGlyphs\" textLength=\"14\" x=\"5\" y=\"141.8574\">Or</text><text fill=\"#000000\" font-family=\"sans-serif\" font-size=\"12\" lengthAdjust=\"spacingAndGlyphs\" textLength=\"0\" x=\"9\" y=\"155.8262\"/><text fill=\"#000000\" font-family=\"monospace\" font-size=\"12\" lengthAdjust=\"spacingAndGlyphs\" textLength=\"91\" x=\"5\" y=\"169.7949\">class Example</text><text fill=\"#000000\" font-family=\"sans-serif\" font-size=\"12\" lengthAdjust=\"spacingAndGlyphs\" textLength=\"0\" x=\"9\" y=\"183.7637\"/><text fill=\"#000000\" font-family=\"sans-serif\" font-size=\"12\" lengthAdjust=\"spacingAndGlyphs\" textLength=\"349\" x=\"5\" y=\"197.7324\">You will find more information about PlantUML syntax on</text><text fill=\"#000000\" font-family=\"sans-serif\" font-size=\"12\" lengthAdjust=\"spacingAndGlyphs\" text-decoration=\"underline\" textLength=\"129\" x=\"358\" y=\"197.7324\">https://plantuml.com</text><image height=\"71\" width=\"80\" x=\"516\" xlink:href=\"data:image/png;base64,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\" y=\"6\"/><rect fill=\"#000000\" height=\"96.4844\" style=\"stroke: #000000; stroke-width: 1.0;\" width=\"602\" x=\"0\" y=\"205.5625\"/><rect fill=\"#33FF02\" height=\"21.2969\" style=\"stroke: #33FF02; stroke-width: 1.0;\" width=\"170\" x=\"5\" y=\"210.5625\"/><text fill=\"#000000\" font-family=\"sans-serif\" font-size=\"14\" font-weight=\"bold\" lengthAdjust=\"spacingAndGlyphs\" textLength=\"168\" x=\"6\" y=\"225.5625\">[From string (line 2) ]</text><text fill=\"#33FF02\" font-family=\"sans-serif\" font-size=\"14\" font-weight=\"bold\" lengthAdjust=\"spacingAndGlyphs\" textLength=\"0\" x=\"10\" y=\"245.8594\"/><text fill=\"#33FF02\" font-family=\"sans-serif\" font-size=\"14\" font-weight=\"bold\" lengthAdjust=\"spacingAndGlyphs\" textLength=\"79\" x=\"5\" y=\"262.1563\">@startuml</text><text fill=\"#33FF02\" font-family=\"sans-serif\" font-size=\"14\" font-weight=\"bold\" lengthAdjust=\"spacingAndGlyphs\" textLength=\"0\" x=\"10\" y=\"278.4531\"/><text fill=\"#FF0000\" font-family=\"sans-serif\" font-size=\"14\" font-weight=\"bold\" lengthAdjust=\"spacingAndGlyphs\" textLength=\"142\" x=\"10\" y=\"294.75\">Empty description</text><!--MD5=[f59edd8218d337f74d0c332fc6737304]\n",
       "@startuml\r\n",
       " \r\n",
       "@enduml\r\n",
       "\n",
       "PlantUML version 1.2020.13(Sat Jun 13 12:26:38 UTC 2020)\n",
       "(EPL source distribution)\n",
       "Java Runtime: OpenJDK Runtime Environment\n",
       "JVM: OpenJDK 64-Bit Server VM\n",
       "Default Encoding: UTF-8\n",
       "Language: en\n",
       "Country: null\n",
       "--></g></svg>"
      ]
     },
     "execution_count": 32,
     "metadata": {},
     "output_type": "execute_result"
    }
   ],
   "source": [
    "%viz --style=\"PLANTUML\" --view=\"State\" \"TextualRepresentationTest\""
   ]
  },
  {
   "cell_type": "code",
   "execution_count": 33,
   "id": "endangered-wilderness",
   "metadata": {
    "execution": {
     "iopub.execute_input": "2021-03-25T14:19:00.731006Z",
     "iopub.status.busy": "2021-03-25T14:19:00.730462Z",
     "iopub.status.idle": "2021-03-25T14:19:00.810768Z",
     "shell.execute_reply": "2021-03-25T14:19:00.809413Z"
    }
   },
   "outputs": [
    {
     "data": {
      "image/svg+xml": [
       "<?xml version=\"1.0\" encoding=\"UTF-8\" standalone=\"no\"?><svg xmlns=\"http://www.w3.org/2000/svg\" xmlns:xlink=\"http://www.w3.org/1999/xlink\" contentScriptType=\"application/ecmascript\" contentStyleType=\"text/css\" height=\"179px\" preserveAspectRatio=\"none\" style=\"width:403px;height:179px;\" version=\"1.1\" viewBox=\"0 0 403 179\" width=\"403px\" zoomAndPan=\"magnify\"><defs><filter height=\"300%\" id=\"f1xmsvs9r2v6kl\" width=\"300%\" x=\"-1\" y=\"-1\"><feGaussianBlur result=\"blurOut\" stdDeviation=\"2.0\"/><feColorMatrix in=\"blurOut\" result=\"blurOut2\" type=\"matrix\" values=\"0 0 0 0 0 0 0 0 0 0 0 0 0 0 0 0 0 0 .4 0\"/><feOffset dx=\"4.0\" dy=\"4.0\" in=\"blurOut2\" result=\"blurOut3\"/><feBlend in=\"SourceGraphic\" in2=\"blurOut3\" mode=\"normal\"/></filter></defs><g><!--MD5=[fbc87193dbaf4d95561dea2c320d4a47]\n",
       "cluster E1--><a href=\"psysml:64ccfe85-4fdd-4bf0-b3db-5945cd262e15\" target=\"_top\" title=\"psysml:64ccfe85-4fdd-4bf0-b3db-5945cd262e15\" xlink:actuate=\"onRequest\" xlink:href=\"psysml:64ccfe85-4fdd-4bf0-b3db-5945cd262e15\" xlink:show=\"new\" xlink:title=\"psysml:64ccfe85-4fdd-4bf0-b3db-5945cd262e15\" xlink:type=\"simple\"><polygon fill=\"#FFFFFF\" filter=\"url(#f1xmsvs9r2v6kl)\" points=\"16,6,236,6,243,28.2969,381,28.2969,381,167,16,167,16,6\" style=\"stroke: #000000; stroke-width: 1.5;\"/><line style=\"stroke: #000000; stroke-width: 1.5;\" x1=\"16\" x2=\"243\" y1=\"28.2969\" y2=\"28.2969\"/><text fill=\"#000000\" font-family=\"sans-serif\" font-size=\"14\" font-weight=\"bold\" lengthAdjust=\"spacingAndGlyphs\" textLength=\"214\" x=\"20\" y=\"20.9951\">TextualRepresentationTest</text></a><!--MD5=[f6df4d0ebaf0b5dfb2ced0ae5af7c670]\n",
       "cluster E4--><a href=\"psysml:8549a337-017f-4e92-9426-82c63ecb1b1e\" target=\"_top\" title=\"psysml:8549a337-017f-4e92-9426-82c63ecb1b1e\" xlink:actuate=\"onRequest\" xlink:href=\"psysml:8549a337-017f-4e92-9426-82c63ecb1b1e\" xlink:show=\"new\" xlink:title=\"psysml:8549a337-017f-4e92-9426-82c63ecb1b1e\" xlink:type=\"simple\"><rect fill=\"#FFFFFF\" filter=\"url(#f1xmsvs9r2v6kl)\" height=\"88.5\" id=\"E4\" style=\"stroke: #A80036; stroke-width: 1.5;\" width=\"96\" x=\"239.5\" y=\"62.5\"/><rect fill=\"#FEFECE\" height=\"37.9375\" style=\"stroke: #A80036; stroke-width: 1.5;\" width=\"96\" x=\"239.5\" y=\"62.5\"/><text fill=\"#000000\" font-family=\"sans-serif\" font-size=\"12\" font-style=\"italic\" lengthAdjust=\"spacingAndGlyphs\" textLength=\"77\" x=\"249\" y=\"78.6387\">«action def»</text><text fill=\"#000000\" font-family=\"sans-serif\" font-size=\"12\" lengthAdjust=\"spacingAndGlyphs\" textLength=\"27\" x=\"274\" y=\"92.6074\">setX</text></a><g id=\"E1.E2\"><a href=\"psysml:06125bd0-acad-496e-b065-61f119a09466\" target=\"_top\" title=\"psysml:06125bd0-acad-496e-b065-61f119a09466\" xlink:actuate=\"onRequest\" xlink:href=\"psysml:06125bd0-acad-496e-b065-61f119a09466\" xlink:show=\"new\" xlink:title=\"psysml:06125bd0-acad-496e-b065-61f119a09466\" xlink:type=\"simple\"><rect fill=\"#FEFECE\" filter=\"url(#f1xmsvs9r2v6kl)\" height=\"42.9375\" id=\"E2\" style=\"stroke: #A80036; stroke-width: 1.5;\" width=\"105\" x=\"117.5\" y=\"41\"/><ellipse cx=\"134.75\" cy=\"59.9688\" fill=\"#0000FF\" rx=\"11\" ry=\"11\" style=\"stroke: #A80036; stroke-width: 1.0;\"/><path d=\"M135.5938,66.7188 L133.1406,66.7188 L133.1406,56.4688 L130,56.4688 L130,54.3281 L138.7344,54.3281 L138.7344,56.4688 L135.5938,56.4688 L135.5938,66.7188 Z \"/><text fill=\"#000000\" font-family=\"sans-serif\" font-size=\"12\" font-style=\"italic\" lengthAdjust=\"spacingAndGlyphs\" textLength=\"72\" x=\"147.25\" y=\"57.1387\">«dataType»</text><text fill=\"#000000\" font-family=\"sans-serif\" font-size=\"12\" lengthAdjust=\"spacingAndGlyphs\" textLength=\"27\" x=\"169.75\" y=\"71.1074\">Real</text></a></g><g id=\"E1.E3\"><a href=\"psysml:57586f80-7065-4509-85b2-20f5f1ea1e4c\" target=\"_top\" title=\"psysml:57586f80-7065-4509-85b2-20f5f1ea1e4c\" xlink:actuate=\"onRequest\" xlink:href=\"psysml:57586f80-7065-4509-85b2-20f5f1ea1e4c\" xlink:show=\"new\" xlink:title=\"psysml:57586f80-7065-4509-85b2-20f5f1ea1e4c\" xlink:type=\"simple\"><rect fill=\"#FEFECE\" filter=\"url(#f1xmsvs9r2v6kl)\" height=\"40\" id=\"E3\" style=\"stroke: #A80036; stroke-width: 1.5;\" width=\"50\" x=\"32\" y=\"42.5\"/><ellipse cx=\"51.5\" cy=\"58.5\" fill=\"#008000\" rx=\"11\" ry=\"11\" style=\"stroke: #A80036; stroke-width: 1.0;\"/><path d=\"M50.4063,58.875 L50.4063,62.5469 L52.0313,62.5469 Q53.2031,62.5469 53.6719,62.1563 Q54.1406,61.75 54.1406,60.75 Q54.1406,59.75 53.6406,59.3125 Q53.1563,58.875 52.0313,58.875 L50.4063,58.875 Z M50.4063,54.0469 L50.4063,56.9219 L52.0313,56.9219 Q52.9531,56.9219 53.3438,56.5938 Q53.75,56.25 53.75,55.5 Q53.75,54.7344 53.3438,54.3906 Q52.9375,54.0469 52.0313,54.0469 L50.4063,54.0469 Z M48.0313,52.0938 L52.0313,52.0938 Q54.0938,52.0938 55.1406,52.875 Q56.1875,53.6563 56.1875,55.2188 Q56.1875,56.4219 55.5625,57.0938 Q54.9531,57.7656 53.7656,57.875 Q55.1875,58.0156 55.9063,58.8281 Q56.625,59.6406 56.625,61.0938 Q56.625,62.8906 55.5469,63.7031 Q54.4688,64.5 52.0313,64.5 L48.0313,64.5 L48.0313,52.0938 Z \"/><text fill=\"#000000\" font-family=\"sans-serif\" font-size=\"12\" lengthAdjust=\"spacingAndGlyphs\" textLength=\"8\" x=\"66.5\" y=\"62.6543\">C</text></a></g><text fill=\"#000000\" font-family=\"sans-serif\" font-size=\"14\" lengthAdjust=\"spacingAndGlyphs\" textLength=\"8\" x=\"260\" y=\"41.1982\">c</text><rect fill=\"#A80036\" height=\"12\" style=\"stroke: #FEFECE; stroke-width: 1.5;\" width=\"12\" x=\"258\" y=\"56.5\"/><text fill=\"#000000\" font-family=\"sans-serif\" font-size=\"14\" lengthAdjust=\"spacingAndGlyphs\" textLength=\"38\" x=\"292\" y=\"41.1982\">newX</text><rect fill=\"#A80036\" height=\"12\" style=\"stroke: #FEFECE; stroke-width: 1.5;\" width=\"12\" x=\"305\" y=\"56.5\"/><!--MD5=[c1fa3316b823bcadc9bdc81239f71623]\n",
       "@startuml\r\n",
       "skinparam ranksep 10\r\n",
       "skinparam rectangle {\r\n",
       " backgroundColor<<block>> LightGreen\r\n",
       "}\r\n",
       " \r\n",
       "package \"TextualRepresentationTest\" as E1  [[psysml:64ccfe85-4fdd-4bf0-b3db-5945cd262e15 ]]  {\r\n",
       "def \"Real\" as E2  <<(T,blue)dataType>> [[psysml:06125bd0-acad-496e-b065-61f119a09466 ]] \r\n",
       "def \"C\" as E3  << (B,green) >> [[psysml:57586f80-7065-4509-85b2-20f5f1ea1e4c ]] \r\n",
       "rec def \"setX\" as E4  <<(D,brown)action def>> [[psysml:8549a337-017f-4e92-9426-82c63ecb1b1e ]] {\r\n",
       "portin \"c\" as E5  [[psysml:aa76399d-9e78-4ecc-80de-8099ee5899a9 ]] \r\n",
       "portin \"newX\" as E6  [[psysml:3135ebc1-3d3a-4206-9f67-d8c3ceb18c3a ]] \r\n",
       "}\r\n",
       "\r\n",
       "}\r\n",
       "@enduml\r\n",
       "\n",
       "PlantUML version 1.2020.13(Sat Jun 13 12:26:38 UTC 2020)\n",
       "(EPL source distribution)\n",
       "Java Runtime: OpenJDK Runtime Environment\n",
       "JVM: OpenJDK 64-Bit Server VM\n",
       "Default Encoding: UTF-8\n",
       "Language: en\n",
       "Country: null\n",
       "--></g></svg>"
      ]
     },
     "execution_count": 33,
     "metadata": {},
     "output_type": "execute_result"
    }
   ],
   "source": [
    "%viz --style=\"PLANTUML\" --view=\"Interconnection\" \"TextualRepresentationTest\""
   ]
  },
  {
   "cell_type": "code",
   "execution_count": 34,
   "id": "upper-trustee",
   "metadata": {
    "execution": {
     "iopub.execute_input": "2021-03-25T14:19:00.860961Z",
     "iopub.status.busy": "2021-03-25T14:19:00.860457Z",
     "iopub.status.idle": "2021-03-25T14:19:00.913466Z",
     "shell.execute_reply": "2021-03-25T14:19:00.913013Z"
    }
   },
   "outputs": [
    {
     "data": {
      "image/svg+xml": [
       "<?xml version=\"1.0\" encoding=\"UTF-8\" standalone=\"no\"?><svg xmlns=\"http://www.w3.org/2000/svg\" xmlns:xlink=\"http://www.w3.org/1999/xlink\" contentScriptType=\"application/ecmascript\" contentStyleType=\"text/css\" height=\"134px\" preserveAspectRatio=\"none\" style=\"width:158px;height:134px;\" version=\"1.1\" viewBox=\"0 0 158 134\" width=\"158px\" zoomAndPan=\"magnify\"><defs><filter height=\"300%\" id=\"f1i6ma9703x9rm\" width=\"300%\" x=\"-1\" y=\"-1\"><feGaussianBlur result=\"blurOut\" stdDeviation=\"2.0\"/><feColorMatrix in=\"blurOut\" result=\"blurOut2\" type=\"matrix\" values=\"0 0 0 0 0 0 0 0 0 0 0 0 0 0 0 0 0 0 .4 0\"/><feOffset dx=\"4.0\" dy=\"4.0\" in=\"blurOut2\" result=\"blurOut3\"/><feBlend in=\"SourceGraphic\" in2=\"blurOut3\" mode=\"normal\"/></filter></defs><g><!--MD5=[fbc87193dbaf4d95561dea2c320d4a47]\n",
       "cluster E1--><a href=\"psysml:8549a337-017f-4e92-9426-82c63ecb1b1e\" target=\"_top\" title=\"psysml:8549a337-017f-4e92-9426-82c63ecb1b1e\" xlink:actuate=\"onRequest\" xlink:href=\"psysml:8549a337-017f-4e92-9426-82c63ecb1b1e\" xlink:show=\"new\" xlink:title=\"psysml:8549a337-017f-4e92-9426-82c63ecb1b1e\" xlink:type=\"simple\"><rect fill=\"#FFFFFF\" filter=\"url(#f1i6ma9703x9rm)\" height=\"73\" id=\"E1\" style=\"stroke: #A80036; stroke-width: 1.5;\" width=\"132\" x=\"7\" y=\"42.0986\"/><rect fill=\"#FEFECE\" height=\"37.9375\" style=\"stroke: #A80036; stroke-width: 1.5;\" width=\"132\" x=\"7\" y=\"42.0986\"/><text fill=\"#000000\" font-family=\"sans-serif\" font-size=\"12\" font-style=\"italic\" lengthAdjust=\"spacingAndGlyphs\" textLength=\"77\" x=\"34.5\" y=\"58.2373\">«action def»</text><text fill=\"#000000\" font-family=\"sans-serif\" font-size=\"12\" lengthAdjust=\"spacingAndGlyphs\" textLength=\"27\" x=\"59.5\" y=\"72.2061\">setX</text></a><text fill=\"#000000\" font-family=\"sans-serif\" font-size=\"14\" lengthAdjust=\"spacingAndGlyphs\" textLength=\"8\" x=\"21\" y=\"20.7969\">c</text><rect fill=\"#A80036\" height=\"12\" style=\"stroke: #FEFECE; stroke-width: 1.5;\" width=\"12\" x=\"19\" y=\"36.0986\"/><text fill=\"#000000\" font-family=\"sans-serif\" font-size=\"14\" lengthAdjust=\"spacingAndGlyphs\" textLength=\"38\" x=\"53\" y=\"20.7969\">newX</text><rect fill=\"#A80036\" height=\"12\" style=\"stroke: #FEFECE; stroke-width: 1.5;\" width=\"12\" x=\"66\" y=\"36.0986\"/><!--MD5=[d9524f3b28a9da1532bcd3e78bb25cdd]\n",
       "@startuml\r\n",
       "skinparam ranksep 8\r\n",
       " \r\n",
       "rec def \"setX\" as E1  <<(D,brown)action def>> [[psysml:8549a337-017f-4e92-9426-82c63ecb1b1e ]] {\r\n",
       "portin \"c\" as E2  [[psysml:aa76399d-9e78-4ecc-80de-8099ee5899a9 ]] \r\n",
       "portin \"newX\" as E3  [[psysml:3135ebc1-3d3a-4206-9f67-d8c3ceb18c3a ]] \r\n",
       "}\r\n",
       "\r\n",
       "@enduml\r\n",
       "\n",
       "PlantUML version 1.2020.13(Sat Jun 13 12:26:38 UTC 2020)\n",
       "(EPL source distribution)\n",
       "Java Runtime: OpenJDK Runtime Environment\n",
       "JVM: OpenJDK 64-Bit Server VM\n",
       "Default Encoding: UTF-8\n",
       "Language: en\n",
       "Country: null\n",
       "--></g></svg>"
      ]
     },
     "execution_count": 34,
     "metadata": {},
     "output_type": "execute_result"
    }
   ],
   "source": [
    "%viz --style=\"PLANTUML\" --view=\"Action\" \"TextualRepresentationTest\""
   ]
  },
  {
   "cell_type": "code",
   "execution_count": 35,
   "id": "combined-identification",
   "metadata": {
    "execution": {
     "iopub.execute_input": "2021-03-25T14:19:00.964582Z",
     "iopub.status.busy": "2021-03-25T14:19:00.964118Z",
     "iopub.status.idle": "2021-03-25T14:19:01.270858Z",
     "shell.execute_reply": "2021-03-25T14:19:01.269389Z"
    }
   },
   "outputs": [
    {
     "data": {
      "image/svg+xml": [
       "<?xml version=\"1.0\" encoding=\"UTF-8\" standalone=\"no\"?><svg xmlns=\"http://www.w3.org/2000/svg\" xmlns:xlink=\"http://www.w3.org/1999/xlink\" contentScriptType=\"application/ecmascript\" contentStyleType=\"text/css\" height=\"274px\" preserveAspectRatio=\"none\" style=\"width:316px;height:274px;\" version=\"1.1\" viewBox=\"0 0 316 274\" width=\"316px\" zoomAndPan=\"magnify\"><defs><filter height=\"300%\" id=\"f10kzlcih7mvfa\" width=\"300%\" x=\"-1\" y=\"-1\"><feGaussianBlur result=\"blurOut\" stdDeviation=\"2.0\"/><feColorMatrix in=\"blurOut\" result=\"blurOut2\" type=\"matrix\" values=\"0 0 0 0 0 0 0 0 0 0 0 0 0 0 0 0 0 0 .4 0\"/><feOffset dx=\"4.0\" dy=\"4.0\" in=\"blurOut2\" result=\"blurOut3\"/><feBlend in=\"SourceGraphic\" in2=\"blurOut3\" mode=\"normal\"/></filter></defs><g><!--MD5=[fbc87193dbaf4d95561dea2c320d4a47]\n",
       "cluster E1--><a href=\"psysml:64ccfe85-4fdd-4bf0-b3db-5945cd262e15\" target=\"_top\" title=\"psysml:64ccfe85-4fdd-4bf0-b3db-5945cd262e15\" xlink:actuate=\"onRequest\" xlink:href=\"psysml:64ccfe85-4fdd-4bf0-b3db-5945cd262e15\" xlink:show=\"new\" xlink:title=\"psysml:64ccfe85-4fdd-4bf0-b3db-5945cd262e15\" xlink:type=\"simple\"><polygon fill=\"#FFFFFF\" filter=\"url(#f10kzlcih7mvfa)\" points=\"16,6,236,6,243,28.2969,294,28.2969,294,262,16,262,16,6\" style=\"stroke: #000000; stroke-width: 1.5;\"/><line style=\"stroke: #000000; stroke-width: 1.5;\" x1=\"16\" x2=\"243\" y1=\"28.2969\" y2=\"28.2969\"/><text fill=\"#000000\" font-family=\"sans-serif\" font-size=\"14\" font-weight=\"bold\" lengthAdjust=\"spacingAndGlyphs\" textLength=\"214\" x=\"20\" y=\"20.9951\">TextualRepresentationTest</text></a><!--MD5=[b4997ac47864f28c2f74865a473b2911]\n",
       "class E2--><a href=\"psysml:06125bd0-acad-496e-b065-61f119a09466\" target=\"_top\" title=\"psysml:06125bd0-acad-496e-b065-61f119a09466\" xlink:actuate=\"onRequest\" xlink:href=\"psysml:06125bd0-acad-496e-b065-61f119a09466\" xlink:show=\"new\" xlink:title=\"psysml:06125bd0-acad-496e-b065-61f119a09466\" xlink:type=\"simple\"><rect fill=\"#FEFECE\" filter=\"url(#f10kzlcih7mvfa)\" height=\"45.9375\" id=\"E2\" style=\"stroke: #A80036; stroke-width: 1.5;\" width=\"100\" x=\"32\" y=\"182\"/><ellipse cx=\"47\" cy=\"200.9688\" fill=\"#0000FF\" rx=\"11\" ry=\"11\" style=\"stroke: #A80036; stroke-width: 1.0;\"/><path d=\"M47.8438,207.7188 L45.3906,207.7188 L45.3906,197.4688 L42.25,197.4688 L42.25,195.3281 L50.9844,195.3281 L50.9844,197.4688 L47.8438,197.4688 L47.8438,207.7188 Z \"/><text fill=\"#000000\" font-family=\"sans-serif\" font-size=\"12\" font-style=\"italic\" lengthAdjust=\"spacingAndGlyphs\" textLength=\"72\" x=\"59\" y=\"198.1387\">«dataType»</text><text fill=\"#000000\" font-family=\"sans-serif\" font-size=\"12\" lengthAdjust=\"spacingAndGlyphs\" textLength=\"27\" x=\"81.5\" y=\"212.1074\">Real</text><line style=\"stroke: #A80036; stroke-width: 1.5;\" x1=\"33\" x2=\"131\" y1=\"219.9375\" y2=\"219.9375\"/></a><!--MD5=[09b614a08d8cba4a07c9adeb5e0fee81]\n",
       "class E3--><a href=\"psysml:57586f80-7065-4509-85b2-20f5f1ea1e4c\" target=\"_top\" title=\"psysml:57586f80-7065-4509-85b2-20f5f1ea1e4c\" xlink:actuate=\"onRequest\" xlink:href=\"psysml:57586f80-7065-4509-85b2-20f5f1ea1e4c\" xlink:show=\"new\" xlink:title=\"psysml:57586f80-7065-4509-85b2-20f5f1ea1e4c\" xlink:type=\"simple\"><rect fill=\"#FEFECE\" filter=\"url(#f10kzlcih7mvfa)\" height=\"82.4141\" id=\"E3\" style=\"stroke: #A80036; stroke-width: 1.5;\" width=\"111\" x=\"167.5\" y=\"164\"/><ellipse cx=\"214.75\" cy=\"180\" fill=\"#008000\" rx=\"11\" ry=\"11\" style=\"stroke: #A80036; stroke-width: 1.0;\"/><path d=\"M213.6563,180.375 L213.6563,184.0469 L215.2813,184.0469 Q216.4531,184.0469 216.9219,183.6563 Q217.3906,183.25 217.3906,182.25 Q217.3906,181.25 216.8906,180.8125 Q216.4063,180.375 215.2813,180.375 L213.6563,180.375 Z M213.6563,175.5469 L213.6563,178.4219 L215.2813,178.4219 Q216.2031,178.4219 216.5938,178.0938 Q217,177.75 217,177 Q217,176.2344 216.5938,175.8906 Q216.1875,175.5469 215.2813,175.5469 L213.6563,175.5469 Z M211.2813,173.5938 L215.2813,173.5938 Q217.3438,173.5938 218.3906,174.375 Q219.4375,175.1563 219.4375,176.7188 Q219.4375,177.9219 218.8125,178.5938 Q218.2031,179.2656 217.0156,179.375 Q218.4375,179.5156 219.1563,180.3281 Q219.875,181.1406 219.875,182.5938 Q219.875,184.3906 218.7969,185.2031 Q217.7188,186 215.2813,186 L211.2813,186 L211.2813,173.5938 Z \"/><text fill=\"#000000\" font-family=\"sans-serif\" font-size=\"12\" lengthAdjust=\"spacingAndGlyphs\" textLength=\"8\" x=\"235.25\" y=\"184.1543\">C</text><line style=\"stroke: #A80036; stroke-width: 1.5;\" x1=\"168.5\" x2=\"277.5\" y1=\"196\" y2=\"196\"/><text fill=\"#000000\" font-family=\"sans-serif\" font-size=\"11\" lengthAdjust=\"spacingAndGlyphs\" textLength=\"38\" x=\"173.5\" y=\"210.2104\">x: Real</text><text fill=\"#000000\" font-family=\"sans-serif\" font-size=\"11\" lengthAdjust=\"spacingAndGlyphs\" textLength=\"69\" x=\"173.5\" y=\"239.8198\">x_constraint</text><line style=\"stroke: #A80036; stroke-width: 1.0;\" x1=\"168.5\" x2=\"171.5\" y1=\"223.207\" y2=\"223.207\"/><text fill=\"#000000\" font-family=\"sans-serif\" font-size=\"11\" lengthAdjust=\"spacingAndGlyphs\" textLength=\"103\" x=\"171.5\" y=\"226.5151\">assertConstraints</text><line style=\"stroke: #A80036; stroke-width: 1.0;\" x1=\"274.5\" x2=\"277.5\" y1=\"223.207\" y2=\"223.207\"/></a><!--MD5=[270fce915f116d4de14055a7c1d9a0f3]\n",
       "class E5--><a href=\"psysml:8549a337-017f-4e92-9426-82c63ecb1b1e\" target=\"_top\" title=\"psysml:8549a337-017f-4e92-9426-82c63ecb1b1e\" xlink:actuate=\"onRequest\" xlink:href=\"psysml:8549a337-017f-4e92-9426-82c63ecb1b1e\" xlink:show=\"new\" xlink:title=\"psysml:8549a337-017f-4e92-9426-82c63ecb1b1e\" xlink:type=\"simple\"><rect fill=\"#FEFECE\" filter=\"url(#f10kzlcih7mvfa)\" height=\"45.9375\" id=\"E5\" style=\"stroke: #A80036; stroke-width: 1.5;\" width=\"105\" x=\"68.5\" y=\"41\"/><ellipse cx=\"83.5\" cy=\"59.9688\" fill=\"#A52A2A\" rx=\"11\" ry=\"11\" style=\"stroke: #A80036; stroke-width: 1.0;\"/><path d=\"M83.0938,55.7813 L83.0938,63.7656 L83.75,63.7656 Q85.1875,63.7656 85.7969,62.8594 Q86.4219,61.9375 86.4219,59.7656 Q86.4219,57.5938 85.7969,56.6875 Q85.1875,55.7813 83.75,55.7813 L83.0938,55.7813 Z M80.6406,53.5781 L83.2656,53.5781 Q86.2969,53.5781 87.625,55.0313 Q88.9688,56.4688 88.9688,59.7656 Q88.9688,63.0625 87.625,64.5156 Q86.2969,65.9688 83.2656,65.9688 L80.6406,65.9688 L80.6406,53.5781 Z \"/><text fill=\"#000000\" font-family=\"sans-serif\" font-size=\"12\" font-style=\"italic\" lengthAdjust=\"spacingAndGlyphs\" textLength=\"77\" x=\"95.5\" y=\"57.1387\">«action def»</text><text fill=\"#000000\" font-family=\"sans-serif\" font-size=\"12\" lengthAdjust=\"spacingAndGlyphs\" textLength=\"27\" x=\"120.5\" y=\"71.1074\">setX</text><line style=\"stroke: #A80036; stroke-width: 1.5;\" x1=\"69.5\" x2=\"172.5\" y1=\"78.9375\" y2=\"78.9375\"/></a><!--MD5=[6f107eb264eda4b26325f39a5516f1f3]\n",
       "reverse link E5 to E3--><a href=\"psysml:aa76399d-9e78-4ecc-80de-8099ee5899a9\" target=\"_top\" title=\"psysml:aa76399d-9e78-4ecc-80de-8099ee5899a9\" xlink:actuate=\"onRequest\" xlink:href=\"psysml:aa76399d-9e78-4ecc-80de-8099ee5899a9\" xlink:show=\"new\" xlink:title=\"psysml:aa76399d-9e78-4ecc-80de-8099ee5899a9\" xlink:type=\"simple\"><path d=\"M144.97,97.67 C159.5,117.47 178.14,142.87 193.56,163.88 \" fill=\"none\" id=\"E5&lt;-E3\" style=\"stroke: #A80036; stroke-width: 1.0;\"/><polygon fill=\"#FFFFFF\" points=\"137.16,87.02,137.4872,94.2237,144.2626,96.6922,143.9354,89.4886,137.16,87.02\" style=\"stroke: #A80036; stroke-width: 1.0;\"/><text fill=\"#000000\" font-family=\"sans-serif\" font-size=\"13\" lengthAdjust=\"spacingAndGlyphs\" textLength=\"7\" x=\"169\" y=\"130.0669\">c</text></a><!--MD5=[f51c6d1f1856fe338ac0413483fb1ccf]\n",
       "reverse link E5 to E2--><a href=\"psysml:3135ebc1-3d3a-4206-9f67-d8c3ceb18c3a\" target=\"_top\" title=\"psysml:3135ebc1-3d3a-4206-9f67-d8c3ceb18c3a\" xlink:actuate=\"onRequest\" xlink:href=\"psysml:3135ebc1-3d3a-4206-9f67-d8c3ceb18c3a\" xlink:show=\"new\" xlink:title=\"psysml:3135ebc1-3d3a-4206-9f67-d8c3ceb18c3a\" xlink:type=\"simple\"><path d=\"M111.31,99.55 C104.11,125.21 94.5,159.45 88.28,181.62 \" fill=\"none\" id=\"E5&lt;-E2\" style=\"stroke: #A80036; stroke-width: 1.0;\"/><polygon fill=\"#FFFFFF\" points=\"114.82,87.02,109.3468,91.7151,111.5756,98.5731,117.0489,93.878,114.82,87.02\" style=\"stroke: #A80036; stroke-width: 1.0;\"/><text fill=\"#000000\" font-family=\"sans-serif\" font-size=\"13\" lengthAdjust=\"spacingAndGlyphs\" textLength=\"33\" x=\"107\" y=\"130.0669\">newX</text></a><!--MD5=[a7c2220e3c23f0c201dc6a03b5f7b9cf]\n",
       "@startuml\r\n",
       " \r\n",
       "package \"TextualRepresentationTest\" as E1  [[psysml:64ccfe85-4fdd-4bf0-b3db-5945cd262e15 ]]  {\r\n",
       "comp def \"Real\" as E2  <<(T,blue)dataType>> [[psysml:06125bd0-acad-496e-b065-61f119a09466 ]] {\r\n",
       "}\r\n",
       "comp def \"C\" as E3  << (B,green) >> [[psysml:57586f80-7065-4509-85b2-20f5f1ea1e4c ]] {\r\n",
       "x: Real\r\n",
       "- - assertConstraints - -\r\n",
       "x_constraint\r\n",
       "}\r\n",
       "comp def \"setX\" as E5  <<(D,brown)action def>> [[psysml:8549a337-017f-4e92-9426-82c63ecb1b1e ]] {\r\n",
       "}\r\n",
       "E5 o- - E3 [[psysml:aa76399d-9e78-4ecc-80de-8099ee5899a9 ]] : c\r\n",
       "E5 o- - E2 [[psysml:3135ebc1-3d3a-4206-9f67-d8c3ceb18c3a ]] : newX\r\n",
       "}\r\n",
       "@enduml\r\n",
       "\n",
       "PlantUML version 1.2020.13(Sat Jun 13 12:26:38 UTC 2020)\n",
       "(EPL source distribution)\n",
       "Java Runtime: OpenJDK Runtime Environment\n",
       "JVM: OpenJDK 64-Bit Server VM\n",
       "Default Encoding: UTF-8\n",
       "Language: en\n",
       "Country: null\n",
       "--></g></svg>"
      ]
     },
     "execution_count": 35,
     "metadata": {},
     "output_type": "execute_result"
    }
   ],
   "source": [
    "%viz --style=\"PLANTUML\" --view=\"Sequence\" \"TextualRepresentationTest\""
   ]
  },
  {
   "cell_type": "code",
   "execution_count": 36,
   "id": "declared-ethnic",
   "metadata": {
    "execution": {
     "iopub.execute_input": "2021-03-25T14:19:01.323185Z",
     "iopub.status.busy": "2021-03-25T14:19:01.322521Z",
     "iopub.status.idle": "2021-03-25T14:19:01.645719Z",
     "shell.execute_reply": "2021-03-25T14:19:01.644375Z"
    }
   },
   "outputs": [
    {
     "data": {
      "image/svg+xml": [
       "<?xml version=\"1.0\" encoding=\"UTF-8\" standalone=\"no\"?><svg xmlns=\"http://www.w3.org/2000/svg\" xmlns:xlink=\"http://www.w3.org/1999/xlink\" contentScriptType=\"application/ecmascript\" contentStyleType=\"text/css\" height=\"262px\" preserveAspectRatio=\"none\" style=\"width:458px;height:262px;\" version=\"1.1\" viewBox=\"0 0 458 262\" width=\"458px\" zoomAndPan=\"magnify\"><defs><filter height=\"300%\" id=\"f1n4upt3h3hogy\" width=\"300%\" x=\"-1\" y=\"-1\"><feGaussianBlur result=\"blurOut\" stdDeviation=\"2.0\"/><feColorMatrix in=\"blurOut\" result=\"blurOut2\" type=\"matrix\" values=\"0 0 0 0 0 0 0 0 0 0 0 0 0 0 0 0 0 0 .4 0\"/><feOffset dx=\"4.0\" dy=\"4.0\" in=\"blurOut2\" result=\"blurOut3\"/><feBlend in=\"SourceGraphic\" in2=\"blurOut3\" mode=\"normal\"/></filter></defs><g><!--MD5=[fbc87193dbaf4d95561dea2c320d4a47]\n",
       "cluster E1--><a href=\"psysml:64ccfe85-4fdd-4bf0-b3db-5945cd262e15\" target=\"_top\" title=\"psysml:64ccfe85-4fdd-4bf0-b3db-5945cd262e15\" xlink:actuate=\"onRequest\" xlink:href=\"psysml:64ccfe85-4fdd-4bf0-b3db-5945cd262e15\" xlink:show=\"new\" xlink:title=\"psysml:64ccfe85-4fdd-4bf0-b3db-5945cd262e15\" xlink:type=\"simple\"><polygon fill=\"#FFFFFF\" filter=\"url(#f1n4upt3h3hogy)\" points=\"16,6,236,6,243,28.2969,436,28.2969,436,250,16,250,16,6\" style=\"stroke: #000000; stroke-width: 1.5;\"/><line style=\"stroke: #000000; stroke-width: 1.5;\" x1=\"16\" x2=\"243\" y1=\"28.2969\" y2=\"28.2969\"/><text fill=\"#000000\" font-family=\"sans-serif\" font-size=\"14\" font-weight=\"bold\" lengthAdjust=\"spacingAndGlyphs\" textLength=\"214\" x=\"20\" y=\"20.9951\">TextualRepresentationTest</text></a><!--MD5=[de5ec2e2e8f62f467e546659f5068c88]\n",
       "cluster E5--><a href=\"psysml:8549a337-017f-4e92-9426-82c63ecb1b1e\" target=\"_top\" title=\"psysml:8549a337-017f-4e92-9426-82c63ecb1b1e\" xlink:actuate=\"onRequest\" xlink:href=\"psysml:8549a337-017f-4e92-9426-82c63ecb1b1e\" xlink:show=\"new\" xlink:title=\"psysml:8549a337-017f-4e92-9426-82c63ecb1b1e\" xlink:type=\"simple\"><rect fill=\"#FFFFFF\" filter=\"url(#f1n4upt3h3hogy)\" height=\"152\" id=\"E5\" style=\"stroke: #A80036; stroke-width: 1.5;\" width=\"96\" x=\"294.5\" y=\"82\"/><rect fill=\"#FEFECE\" height=\"37.9375\" style=\"stroke: #A80036; stroke-width: 1.5;\" width=\"96\" x=\"294.5\" y=\"82\"/><text fill=\"#000000\" font-family=\"sans-serif\" font-size=\"12\" font-style=\"italic\" lengthAdjust=\"spacingAndGlyphs\" textLength=\"77\" x=\"304\" y=\"98.1387\">«action def»</text><text fill=\"#000000\" font-family=\"sans-serif\" font-size=\"12\" lengthAdjust=\"spacingAndGlyphs\" textLength=\"27\" x=\"329\" y=\"112.1074\">setX</text></a><!--MD5=[b4997ac47864f28c2f74865a473b2911]\n",
       "class E2--><a href=\"psysml:06125bd0-acad-496e-b065-61f119a09466\" target=\"_top\" title=\"psysml:06125bd0-acad-496e-b065-61f119a09466\" xlink:actuate=\"onRequest\" xlink:href=\"psysml:06125bd0-acad-496e-b065-61f119a09466\" xlink:show=\"new\" xlink:title=\"psysml:06125bd0-acad-496e-b065-61f119a09466\" xlink:type=\"simple\"><rect fill=\"#FEFECE\" filter=\"url(#f1n4upt3h3hogy)\" height=\"45.9375\" id=\"E2\" style=\"stroke: #A80036; stroke-width: 1.5;\" width=\"100\" x=\"178\" y=\"59\"/><ellipse cx=\"193\" cy=\"77.9688\" fill=\"#0000FF\" rx=\"11\" ry=\"11\" style=\"stroke: #A80036; stroke-width: 1.0;\"/><path d=\"M193.8438,84.7188 L191.3906,84.7188 L191.3906,74.4688 L188.25,74.4688 L188.25,72.3281 L196.9844,72.3281 L196.9844,74.4688 L193.8438,74.4688 L193.8438,84.7188 Z \"/><text fill=\"#000000\" font-family=\"sans-serif\" font-size=\"12\" font-style=\"italic\" lengthAdjust=\"spacingAndGlyphs\" textLength=\"72\" x=\"205\" y=\"75.1387\">«dataType»</text><text fill=\"#000000\" font-family=\"sans-serif\" font-size=\"12\" lengthAdjust=\"spacingAndGlyphs\" textLength=\"27\" x=\"227.5\" y=\"89.1074\">Real</text><line style=\"stroke: #A80036; stroke-width: 1.5;\" x1=\"179\" x2=\"277\" y1=\"96.9375\" y2=\"96.9375\"/></a><!--MD5=[09b614a08d8cba4a07c9adeb5e0fee81]\n",
       "class E3--><a href=\"psysml:57586f80-7065-4509-85b2-20f5f1ea1e4c\" target=\"_top\" title=\"psysml:57586f80-7065-4509-85b2-20f5f1ea1e4c\" xlink:actuate=\"onRequest\" xlink:href=\"psysml:57586f80-7065-4509-85b2-20f5f1ea1e4c\" xlink:show=\"new\" xlink:title=\"psysml:57586f80-7065-4509-85b2-20f5f1ea1e4c\" xlink:type=\"simple\"><rect fill=\"#FEFECE\" filter=\"url(#f1n4upt3h3hogy)\" height=\"82.4141\" id=\"E3\" style=\"stroke: #A80036; stroke-width: 1.5;\" width=\"111\" x=\"31.5\" y=\"41\"/><ellipse cx=\"78.75\" cy=\"57\" fill=\"#008000\" rx=\"11\" ry=\"11\" style=\"stroke: #A80036; stroke-width: 1.0;\"/><path d=\"M77.6563,57.375 L77.6563,61.0469 L79.2813,61.0469 Q80.4531,61.0469 80.9219,60.6563 Q81.3906,60.25 81.3906,59.25 Q81.3906,58.25 80.8906,57.8125 Q80.4063,57.375 79.2813,57.375 L77.6563,57.375 Z M77.6563,52.5469 L77.6563,55.4219 L79.2813,55.4219 Q80.2031,55.4219 80.5938,55.0938 Q81,54.75 81,54 Q81,53.2344 80.5938,52.8906 Q80.1875,52.5469 79.2813,52.5469 L77.6563,52.5469 Z M75.2813,50.5938 L79.2813,50.5938 Q81.3438,50.5938 82.3906,51.375 Q83.4375,52.1563 83.4375,53.7188 Q83.4375,54.9219 82.8125,55.5938 Q82.2031,56.2656 81.0156,56.375 Q82.4375,56.5156 83.1563,57.3281 Q83.875,58.1406 83.875,59.5938 Q83.875,61.3906 82.7969,62.2031 Q81.7188,63 79.2813,63 L75.2813,63 L75.2813,50.5938 Z \"/><text fill=\"#000000\" font-family=\"sans-serif\" font-size=\"12\" lengthAdjust=\"spacingAndGlyphs\" textLength=\"8\" x=\"99.25\" y=\"61.1543\">C</text><line style=\"stroke: #A80036; stroke-width: 1.5;\" x1=\"32.5\" x2=\"141.5\" y1=\"73\" y2=\"73\"/><text fill=\"#000000\" font-family=\"sans-serif\" font-size=\"11\" lengthAdjust=\"spacingAndGlyphs\" textLength=\"38\" x=\"37.5\" y=\"87.2104\">x: Real</text><text fill=\"#000000\" font-family=\"sans-serif\" font-size=\"11\" lengthAdjust=\"spacingAndGlyphs\" textLength=\"69\" x=\"37.5\" y=\"116.8198\">x_constraint</text><line style=\"stroke: #A80036; stroke-width: 1.0;\" x1=\"32.5\" x2=\"35.5\" y1=\"100.207\" y2=\"100.207\"/><text fill=\"#000000\" font-family=\"sans-serif\" font-size=\"11\" lengthAdjust=\"spacingAndGlyphs\" textLength=\"103\" x=\"35.5\" y=\"103.5151\">assertConstraints</text><line style=\"stroke: #A80036; stroke-width: 1.0;\" x1=\"138.5\" x2=\"141.5\" y1=\"100.207\" y2=\"100.207\"/></a><text fill=\"#000000\" font-family=\"sans-serif\" font-size=\"14\" lengthAdjust=\"spacingAndGlyphs\" textLength=\"8\" x=\"315\" y=\"60.6982\">c</text><rect fill=\"#A80036\" height=\"12\" style=\"stroke: #FEFECE; stroke-width: 1.5;\" width=\"12\" x=\"313\" y=\"76\"/><text fill=\"#000000\" font-family=\"sans-serif\" font-size=\"14\" lengthAdjust=\"spacingAndGlyphs\" textLength=\"38\" x=\"347\" y=\"60.6982\">newX</text><rect fill=\"#A80036\" height=\"12\" style=\"stroke: #FEFECE; stroke-width: 1.5;\" width=\"12\" x=\"360\" y=\"76\"/><!--MD5=[87fa2d7f5f93cb50104ff9dbbde4e463]\n",
       "@startuml\r\n",
       " \r\n",
       "package \"TextualRepresentationTest\" as E1  [[psysml:64ccfe85-4fdd-4bf0-b3db-5945cd262e15 ]]  {\r\n",
       "comp def \"Real\" as E2  <<(T,blue)dataType>> [[psysml:06125bd0-acad-496e-b065-61f119a09466 ]] {\r\n",
       "}\r\n",
       "comp def \"C\" as E3  << (B,green) >> [[psysml:57586f80-7065-4509-85b2-20f5f1ea1e4c ]] {\r\n",
       "x: Real\r\n",
       "- - assertConstraints - -\r\n",
       "x_constraint\r\n",
       "}\r\n",
       "rec def \"setX\" as E5  <<(D,brown)action def>> [[psysml:8549a337-017f-4e92-9426-82c63ecb1b1e ]] {\r\n",
       "portin \"c\" as E6  [[psysml:aa76399d-9e78-4ecc-80de-8099ee5899a9 ]] \r\n",
       "portin \"newX\" as E7  [[psysml:3135ebc1-3d3a-4206-9f67-d8c3ceb18c3a ]] \r\n",
       "}\r\n",
       "\r\n",
       "}\r\n",
       "@enduml\r\n",
       "\n",
       "PlantUML version 1.2020.13(Sat Jun 13 12:26:38 UTC 2020)\n",
       "(EPL source distribution)\n",
       "Java Runtime: OpenJDK Runtime Environment\n",
       "JVM: OpenJDK 64-Bit Server VM\n",
       "Default Encoding: UTF-8\n",
       "Language: en\n",
       "Country: null\n",
       "--></g></svg>"
      ]
     },
     "execution_count": 36,
     "metadata": {},
     "output_type": "execute_result"
    }
   ],
   "source": [
    "%viz --style=\"PLANTUML\" --view=\"MIXED\" \"TextualRepresentationTest\""
   ]
  },
  {
   "cell_type": "code",
   "execution_count": 37,
   "id": "unavailable-gospel",
   "metadata": {
    "execution": {
     "iopub.execute_input": "2021-03-25T14:19:01.696860Z",
     "iopub.status.busy": "2021-03-25T14:19:01.696009Z",
     "iopub.status.idle": "2021-03-25T14:19:02.131107Z",
     "shell.execute_reply": "2021-03-25T14:19:02.128424Z"
    }
   },
   "outputs": [
    {
     "data": {
      "image/svg+xml": [
       "<?xml version=\"1.0\" encoding=\"UTF-8\" standalone=\"no\"?><svg xmlns=\"http://www.w3.org/2000/svg\" xmlns:xlink=\"http://www.w3.org/1999/xlink\" contentScriptType=\"application/ecmascript\" contentStyleType=\"text/css\" height=\"285px\" preserveAspectRatio=\"none\" style=\"width:432px;height:285px;\" version=\"1.1\" viewBox=\"0 0 432 285\" width=\"432px\" zoomAndPan=\"magnify\"><defs/><g><!--MD5=[fbc87193dbaf4d95561dea2c320d4a47]\n",
       "cluster E1--><a href=\"psysml:64ccfe85-4fdd-4bf0-b3db-5945cd262e15\" target=\"_top\" title=\"psysml:64ccfe85-4fdd-4bf0-b3db-5945cd262e15\" xlink:actuate=\"onRequest\" xlink:href=\"psysml:64ccfe85-4fdd-4bf0-b3db-5945cd262e15\" xlink:show=\"new\" xlink:title=\"psysml:64ccfe85-4fdd-4bf0-b3db-5945cd262e15\" xlink:type=\"simple\"><polygon fill=\"#FFFFFF\" points=\"16,6,236,6,243,28.2969,410,28.2969,410,273,16,273,16,6\" style=\"stroke: #000000; stroke-width: 1.5;\"/><line style=\"stroke: #000000; stroke-width: 1.5;\" x1=\"16\" x2=\"243\" y1=\"28.2969\" y2=\"28.2969\"/><text fill=\"#000000\" font-family=\"sans-serif\" font-size=\"14\" font-weight=\"bold\" lengthAdjust=\"spacingAndGlyphs\" textLength=\"214\" x=\"20\" y=\"20.9951\">TextualRepresentationTest</text></a><!--MD5=[de5ec2e2e8f62f467e546659f5068c88]\n",
       "cluster E5--><a href=\"psysml:8549a337-017f-4e92-9426-82c63ecb1b1e\" target=\"_top\" title=\"psysml:8549a337-017f-4e92-9426-82c63ecb1b1e\" xlink:actuate=\"onRequest\" xlink:href=\"psysml:8549a337-017f-4e92-9426-82c63ecb1b1e\" xlink:show=\"new\" xlink:title=\"psysml:8549a337-017f-4e92-9426-82c63ecb1b1e\" xlink:type=\"simple\"><rect fill=\"#FFFFFF\" height=\"163.5\" id=\"E5\" style=\"stroke: #383838; stroke-width: 1.5;\" width=\"96\" x=\"268.5\" y=\"93.5\"/><rect fill=\"#F8F8F8\" height=\"37.9375\" style=\"stroke: #383838; stroke-width: 1.5;\" width=\"96\" x=\"268.5\" y=\"93.5\"/><text fill=\"#000000\" font-family=\"sans-serif\" font-size=\"12\" font-style=\"italic\" lengthAdjust=\"spacingAndGlyphs\" textLength=\"77\" x=\"278\" y=\"109.6387\">«action def»</text><text fill=\"#000000\" font-family=\"sans-serif\" font-size=\"12\" lengthAdjust=\"spacingAndGlyphs\" textLength=\"27\" x=\"303\" y=\"123.6074\">setX</text></a><!--MD5=[b4997ac47864f28c2f74865a473b2911]\n",
       "class E2--><a href=\"psysml:06125bd0-acad-496e-b065-61f119a09466\" target=\"_top\" title=\"psysml:06125bd0-acad-496e-b065-61f119a09466\" xlink:actuate=\"onRequest\" xlink:href=\"psysml:06125bd0-acad-496e-b065-61f119a09466\" xlink:show=\"new\" xlink:title=\"psysml:06125bd0-acad-496e-b065-61f119a09466\" xlink:type=\"simple\"><rect fill=\"#FFFFFF\" height=\"45.9375\" id=\"E2\" style=\"stroke: #383838; stroke-width: 1.5;\" width=\"74\" x=\"178\" y=\"70.5\"/><text fill=\"#000000\" font-family=\"sans-serif\" font-size=\"12\" font-style=\"italic\" lengthAdjust=\"spacingAndGlyphs\" textLength=\"72\" x=\"179\" y=\"86.6387\">«dataType»</text><text fill=\"#000000\" font-family=\"sans-serif\" font-size=\"12\" lengthAdjust=\"spacingAndGlyphs\" textLength=\"27\" x=\"201.5\" y=\"100.6074\">Real</text><line style=\"stroke: #383838; stroke-width: 1.5;\" x1=\"179\" x2=\"251\" y1=\"108.4375\" y2=\"108.4375\"/></a><!--MD5=[09b614a08d8cba4a07c9adeb5e0fee81]\n",
       "class E3--><a href=\"psysml:57586f80-7065-4509-85b2-20f5f1ea1e4c\" target=\"_top\" title=\"psysml:57586f80-7065-4509-85b2-20f5f1ea1e4c\" xlink:actuate=\"onRequest\" xlink:href=\"psysml:57586f80-7065-4509-85b2-20f5f1ea1e4c\" xlink:show=\"new\" xlink:title=\"psysml:57586f80-7065-4509-85b2-20f5f1ea1e4c\" xlink:type=\"simple\"><rect fill=\"#FFFFFF\" height=\"105.1563\" id=\"E3\" style=\"stroke: #383838; stroke-width: 1.5;\" width=\"111\" x=\"31.5\" y=\"41\"/><text fill=\"#000000\" font-family=\"sans-serif\" font-size=\"12\" font-style=\"italic\" lengthAdjust=\"spacingAndGlyphs\" textLength=\"65\" x=\"54.5\" y=\"57.1387\">«item def»</text><text fill=\"#000000\" font-family=\"sans-serif\" font-size=\"12\" lengthAdjust=\"spacingAndGlyphs\" textLength=\"8\" x=\"83\" y=\"71.1074\">C</text><line style=\"stroke: #383838; stroke-width: 1.5;\" x1=\"32.5\" x2=\"141.5\" y1=\"78.9375\" y2=\"78.9375\"/><text fill=\"#000000\" font-family=\"sans-serif\" font-size=\"11\" lengthAdjust=\"spacingAndGlyphs\" textLength=\"38\" x=\"37.5\" y=\"109.9526\">x: Real</text><line style=\"stroke: #383838; stroke-width: 1.0;\" x1=\"32.5\" x2=\"59.5\" y1=\"93.3398\" y2=\"93.3398\"/><text fill=\"#000000\" font-family=\"sans-serif\" font-size=\"11\" lengthAdjust=\"spacingAndGlyphs\" textLength=\"55\" x=\"59.5\" y=\"96.6479\">attributes</text><line style=\"stroke: #383838; stroke-width: 1.0;\" x1=\"114.5\" x2=\"141.5\" y1=\"93.3398\" y2=\"93.3398\"/><text fill=\"#000000\" font-family=\"sans-serif\" font-size=\"11\" lengthAdjust=\"spacingAndGlyphs\" textLength=\"69\" x=\"37.5\" y=\"139.562\">x_constraint</text><line style=\"stroke: #383838; stroke-width: 1.0;\" x1=\"32.5\" x2=\"35.5\" y1=\"122.9492\" y2=\"122.9492\"/><text fill=\"#000000\" font-family=\"sans-serif\" font-size=\"11\" lengthAdjust=\"spacingAndGlyphs\" textLength=\"103\" x=\"35.5\" y=\"126.2573\">assertConstraints</text><line style=\"stroke: #383838; stroke-width: 1.0;\" x1=\"138.5\" x2=\"141.5\" y1=\"122.9492\" y2=\"122.9492\"/></a><text fill=\"#000000\" font-family=\"sans-serif\" font-size=\"14\" lengthAdjust=\"spacingAndGlyphs\" textLength=\"8\" x=\"289\" y=\"72.1982\">c</text><rect fill=\"#383838\" height=\"12\" style=\"stroke: #F8F8F8; stroke-width: 1.5;\" width=\"12\" x=\"287\" y=\"87.5\"/><text fill=\"#000000\" font-family=\"sans-serif\" font-size=\"14\" lengthAdjust=\"spacingAndGlyphs\" textLength=\"38\" x=\"321\" y=\"72.1982\">newX</text><rect fill=\"#383838\" height=\"12\" style=\"stroke: #F8F8F8; stroke-width: 1.5;\" width=\"12\" x=\"334\" y=\"87.5\"/><!--MD5=[bb6560134d1800661b9e29df97a9f110]\n",
       "@startuml\r\n",
       "skinparam monochrome true\r\n",
       "skinparam classbackgroundcolor white\r\n",
       "skinparam shadowing false\r\n",
       "skinparam wrapWidth 300\r\n",
       "hide circle\r\n",
       "\r\n",
       "package \"TextualRepresentationTest\" as E1  [[psysml:64ccfe85-4fdd-4bf0-b3db-5945cd262e15 ]]  {\r\n",
       "comp def \"Real\" as E2  <<(T,blue)dataType>> [[psysml:06125bd0-acad-496e-b065-61f119a09466 ]] {\r\n",
       "}\r\n",
       "comp def \"C\" as E3  <<(T,blue)item def>> [[psysml:57586f80-7065-4509-85b2-20f5f1ea1e4c ]] {\r\n",
       "- - attributes - -\r\n",
       "x: Real\r\n",
       "- - assertConstraints - -\r\n",
       "x_constraint\r\n",
       "}\r\n",
       "rec def \"setX\" as E5  <<(T,blue)action def>> [[psysml:8549a337-017f-4e92-9426-82c63ecb1b1e ]] {\r\n",
       "portin \"c\" as E6  [[psysml:aa76399d-9e78-4ecc-80de-8099ee5899a9 ]] \r\n",
       "portin \"newX\" as E7  [[psysml:3135ebc1-3d3a-4206-9f67-d8c3ceb18c3a ]] \r\n",
       "}\r\n",
       "\r\n",
       "}\r\n",
       "@enduml\r\n",
       "\n",
       "PlantUML version 1.2020.13(Sat Jun 13 12:26:38 UTC 2020)\n",
       "(EPL source distribution)\n",
       "Java Runtime: OpenJDK Runtime Environment\n",
       "JVM: OpenJDK 64-Bit Server VM\n",
       "Default Encoding: UTF-8\n",
       "Language: en\n",
       "Country: null\n",
       "--></g></svg>"
      ]
     },
     "execution_count": 37,
     "metadata": {},
     "output_type": "execute_result"
    }
   ],
   "source": [
    "%viz --style=\"DEFAULT\" --view=\"Default\" \"TextualRepresentationTest\""
   ]
  },
  {
   "cell_type": "code",
   "execution_count": 38,
   "id": "editorial-pricing",
   "metadata": {
    "execution": {
     "iopub.execute_input": "2021-03-25T14:19:02.183793Z",
     "iopub.status.busy": "2021-03-25T14:19:02.182342Z",
     "iopub.status.idle": "2021-03-25T14:19:02.595197Z",
     "shell.execute_reply": "2021-03-25T14:19:02.593857Z"
    }
   },
   "outputs": [
    {
     "data": {
      "image/svg+xml": [
       "<?xml version=\"1.0\" encoding=\"UTF-8\" standalone=\"no\"?><svg xmlns=\"http://www.w3.org/2000/svg\" xmlns:xlink=\"http://www.w3.org/1999/xlink\" contentScriptType=\"application/ecmascript\" contentStyleType=\"text/css\" height=\"297px\" preserveAspectRatio=\"none\" style=\"width:290px;height:297px;\" version=\"1.1\" viewBox=\"0 0 290 297\" width=\"290px\" zoomAndPan=\"magnify\"><defs/><g><!--MD5=[fbc87193dbaf4d95561dea2c320d4a47]\n",
       "cluster E1--><a href=\"psysml:64ccfe85-4fdd-4bf0-b3db-5945cd262e15\" target=\"_top\" title=\"psysml:64ccfe85-4fdd-4bf0-b3db-5945cd262e15\" xlink:actuate=\"onRequest\" xlink:href=\"psysml:64ccfe85-4fdd-4bf0-b3db-5945cd262e15\" xlink:show=\"new\" xlink:title=\"psysml:64ccfe85-4fdd-4bf0-b3db-5945cd262e15\" xlink:type=\"simple\"><polygon fill=\"#FFFFFF\" points=\"16,6,236,6,243,28.2969,268,28.2969,268,285,16,285,16,6\" style=\"stroke: #000000; stroke-width: 1.5;\"/><line style=\"stroke: #000000; stroke-width: 1.5;\" x1=\"16\" x2=\"243\" y1=\"28.2969\" y2=\"28.2969\"/><text fill=\"#000000\" font-family=\"sans-serif\" font-size=\"14\" font-weight=\"bold\" lengthAdjust=\"spacingAndGlyphs\" textLength=\"214\" x=\"20\" y=\"20.9951\">TextualRepresentationTest</text></a><!--MD5=[b4997ac47864f28c2f74865a473b2911]\n",
       "class E2--><a href=\"psysml:06125bd0-acad-496e-b065-61f119a09466\" target=\"_top\" title=\"psysml:06125bd0-acad-496e-b065-61f119a09466\" xlink:actuate=\"onRequest\" xlink:href=\"psysml:06125bd0-acad-496e-b065-61f119a09466\" xlink:show=\"new\" xlink:title=\"psysml:06125bd0-acad-496e-b065-61f119a09466\" xlink:type=\"simple\"><rect fill=\"#FFFFFF\" height=\"45.9375\" id=\"E2\" style=\"stroke: #383838; stroke-width: 1.5;\" width=\"74\" x=\"32\" y=\"193.5\"/><text fill=\"#000000\" font-family=\"sans-serif\" font-size=\"12\" font-style=\"italic\" lengthAdjust=\"spacingAndGlyphs\" textLength=\"72\" x=\"33\" y=\"209.6387\">«dataType»</text><text fill=\"#000000\" font-family=\"sans-serif\" font-size=\"12\" lengthAdjust=\"spacingAndGlyphs\" textLength=\"27\" x=\"55.5\" y=\"223.6074\">Real</text><line style=\"stroke: #383838; stroke-width: 1.5;\" x1=\"33\" x2=\"105\" y1=\"231.4375\" y2=\"231.4375\"/></a><!--MD5=[09b614a08d8cba4a07c9adeb5e0fee81]\n",
       "class E3--><a href=\"psysml:57586f80-7065-4509-85b2-20f5f1ea1e4c\" target=\"_top\" title=\"psysml:57586f80-7065-4509-85b2-20f5f1ea1e4c\" xlink:actuate=\"onRequest\" xlink:href=\"psysml:57586f80-7065-4509-85b2-20f5f1ea1e4c\" xlink:show=\"new\" xlink:title=\"psysml:57586f80-7065-4509-85b2-20f5f1ea1e4c\" xlink:type=\"simple\"><rect fill=\"#FFFFFF\" height=\"105.1563\" id=\"E3\" style=\"stroke: #383838; stroke-width: 1.5;\" width=\"111\" x=\"141.5\" y=\"164\"/><text fill=\"#000000\" font-family=\"sans-serif\" font-size=\"12\" font-style=\"italic\" lengthAdjust=\"spacingAndGlyphs\" textLength=\"65\" x=\"164.5\" y=\"180.1387\">«item def»</text><text fill=\"#000000\" font-family=\"sans-serif\" font-size=\"12\" lengthAdjust=\"spacingAndGlyphs\" textLength=\"8\" x=\"193\" y=\"194.1074\">C</text><line style=\"stroke: #383838; stroke-width: 1.5;\" x1=\"142.5\" x2=\"251.5\" y1=\"201.9375\" y2=\"201.9375\"/><text fill=\"#000000\" font-family=\"sans-serif\" font-size=\"11\" lengthAdjust=\"spacingAndGlyphs\" textLength=\"38\" x=\"147.5\" y=\"232.9526\">x: Real</text><line style=\"stroke: #383838; stroke-width: 1.0;\" x1=\"142.5\" x2=\"169.5\" y1=\"216.3398\" y2=\"216.3398\"/><text fill=\"#000000\" font-family=\"sans-serif\" font-size=\"11\" lengthAdjust=\"spacingAndGlyphs\" textLength=\"55\" x=\"169.5\" y=\"219.6479\">attributes</text><line style=\"stroke: #383838; stroke-width: 1.0;\" x1=\"224.5\" x2=\"251.5\" y1=\"216.3398\" y2=\"216.3398\"/><text fill=\"#000000\" font-family=\"sans-serif\" font-size=\"11\" lengthAdjust=\"spacingAndGlyphs\" textLength=\"69\" x=\"147.5\" y=\"262.562\">x_constraint</text><line style=\"stroke: #383838; stroke-width: 1.0;\" x1=\"142.5\" x2=\"145.5\" y1=\"245.9492\" y2=\"245.9492\"/><text fill=\"#000000\" font-family=\"sans-serif\" font-size=\"11\" lengthAdjust=\"spacingAndGlyphs\" textLength=\"103\" x=\"145.5\" y=\"249.2573\">assertConstraints</text><line style=\"stroke: #383838; stroke-width: 1.0;\" x1=\"248.5\" x2=\"251.5\" y1=\"245.9492\" y2=\"245.9492\"/></a><!--MD5=[270fce915f116d4de14055a7c1d9a0f3]\n",
       "class E5--><a href=\"psysml:8549a337-017f-4e92-9426-82c63ecb1b1e\" target=\"_top\" title=\"psysml:8549a337-017f-4e92-9426-82c63ecb1b1e\" xlink:actuate=\"onRequest\" xlink:href=\"psysml:8549a337-017f-4e92-9426-82c63ecb1b1e\" xlink:show=\"new\" xlink:title=\"psysml:8549a337-017f-4e92-9426-82c63ecb1b1e\" xlink:type=\"simple\"><rect fill=\"#FFFFFF\" height=\"45.9375\" id=\"E5\" style=\"stroke: #383838; stroke-width: 1.5;\" width=\"79\" x=\"67.5\" y=\"41\"/><text fill=\"#000000\" font-family=\"sans-serif\" font-size=\"12\" font-style=\"italic\" lengthAdjust=\"spacingAndGlyphs\" textLength=\"77\" x=\"68.5\" y=\"57.1387\">«action def»</text><text fill=\"#000000\" font-family=\"sans-serif\" font-size=\"12\" lengthAdjust=\"spacingAndGlyphs\" textLength=\"27\" x=\"93.5\" y=\"71.1074\">setX</text><line style=\"stroke: #383838; stroke-width: 1.5;\" x1=\"68.5\" x2=\"145.5\" y1=\"78.9375\" y2=\"78.9375\"/></a><!--MD5=[6f107eb264eda4b26325f39a5516f1f3]\n",
       "reverse link E5 to E3--><a href=\"psysml:aa76399d-9e78-4ecc-80de-8099ee5899a9\" target=\"_top\" title=\"psysml:aa76399d-9e78-4ecc-80de-8099ee5899a9\" xlink:actuate=\"onRequest\" xlink:href=\"psysml:aa76399d-9e78-4ecc-80de-8099ee5899a9\" xlink:show=\"new\" xlink:title=\"psysml:aa76399d-9e78-4ecc-80de-8099ee5899a9\" xlink:type=\"simple\"><path d=\"M126.98,98.42 C138.48,117.65 153.18,142.22 166.13,163.88 \" fill=\"none\" id=\"E5&lt;-E3\" style=\"stroke: #383838; stroke-width: 1.0;\"/><polygon fill=\"#FFFFFF\" points=\"120.28,87.21,119.9261,94.4124,126.4384,97.5092,126.7923,90.3068,120.28,87.21\" style=\"stroke: #383838; stroke-width: 1.0;\"/><text fill=\"#000000\" font-family=\"sans-serif\" font-size=\"13\" lengthAdjust=\"spacingAndGlyphs\" textLength=\"7\" x=\"147\" y=\"130.0669\">c</text></a><!--MD5=[f51c6d1f1856fe338ac0413483fb1ccf]\n",
       "reverse link E5 to E2--><a href=\"psysml:3135ebc1-3d3a-4206-9f67-d8c3ceb18c3a\" target=\"_top\" title=\"psysml:3135ebc1-3d3a-4206-9f67-d8c3ceb18c3a\" xlink:actuate=\"onRequest\" xlink:href=\"psysml:3135ebc1-3d3a-4206-9f67-d8c3ceb18c3a\" xlink:show=\"new\" xlink:title=\"psysml:3135ebc1-3d3a-4206-9f67-d8c3ceb18c3a\" xlink:type=\"simple\"><path d=\"M98.18,99.93 C90.92,128.69 80.84,168.6 74.63,193.2 \" fill=\"none\" id=\"E5&lt;-E2\" style=\"stroke: #383838; stroke-width: 1.0;\"/><polygon fill=\"#FFFFFF\" points=\"101.39,87.21,96.0413,92.0465,98.4485,98.8439,103.7972,94.0074,101.39,87.21\" style=\"stroke: #383838; stroke-width: 1.0;\"/><text fill=\"#000000\" font-family=\"sans-serif\" font-size=\"13\" lengthAdjust=\"spacingAndGlyphs\" textLength=\"33\" x=\"94\" y=\"130.0669\">newX</text></a><!--MD5=[b674385a8bdefff6e185a7fccb9e1ca8]\n",
       "@startuml\r\n",
       "skinparam monochrome true\r\n",
       "skinparam classbackgroundcolor white\r\n",
       "skinparam shadowing false\r\n",
       "skinparam wrapWidth 300\r\n",
       "hide circle\r\n",
       "\r\n",
       "package \"TextualRepresentationTest\" as E1  [[psysml:64ccfe85-4fdd-4bf0-b3db-5945cd262e15 ]]  {\r\n",
       "comp def \"Real\" as E2  <<(T,blue)dataType>> [[psysml:06125bd0-acad-496e-b065-61f119a09466 ]] {\r\n",
       "}\r\n",
       "comp def \"C\" as E3  <<(T,blue)item def>> [[psysml:57586f80-7065-4509-85b2-20f5f1ea1e4c ]] {\r\n",
       "- - attributes - -\r\n",
       "x: Real\r\n",
       "- - assertConstraints - -\r\n",
       "x_constraint\r\n",
       "}\r\n",
       "comp def \"setX\" as E5  <<(T,blue)action def>> [[psysml:8549a337-017f-4e92-9426-82c63ecb1b1e ]] {\r\n",
       "}\r\n",
       "E5 o- - E3 [[psysml:aa76399d-9e78-4ecc-80de-8099ee5899a9 ]] : c\r\n",
       "E5 o- - E2 [[psysml:3135ebc1-3d3a-4206-9f67-d8c3ceb18c3a ]] : newX\r\n",
       "}\r\n",
       "@enduml\r\n",
       "\n",
       "PlantUML version 1.2020.13(Sat Jun 13 12:26:38 UTC 2020)\n",
       "(EPL source distribution)\n",
       "Java Runtime: OpenJDK Runtime Environment\n",
       "JVM: OpenJDK 64-Bit Server VM\n",
       "Default Encoding: UTF-8\n",
       "Language: en\n",
       "Country: null\n",
       "--></g></svg>"
      ]
     },
     "execution_count": 38,
     "metadata": {},
     "output_type": "execute_result"
    }
   ],
   "source": [
    "%viz --style=\"DEFAULT\" --view=\"Tree\" \"TextualRepresentationTest\""
   ]
  },
  {
   "cell_type": "code",
   "execution_count": 39,
   "id": "breathing-deputy",
   "metadata": {
    "execution": {
     "iopub.execute_input": "2021-03-25T14:19:02.646429Z",
     "iopub.status.busy": "2021-03-25T14:19:02.645551Z",
     "iopub.status.idle": "2021-03-25T14:19:02.654110Z",
     "shell.execute_reply": "2021-03-25T14:19:02.653773Z"
    }
   },
   "outputs": [
    {
     "data": {
      "image/svg+xml": [
       "<?xml version=\"1.0\" encoding=\"UTF-8\" standalone=\"no\"?><svg xmlns=\"http://www.w3.org/2000/svg\" xmlns:xlink=\"http://www.w3.org/1999/xlink\" contentScriptType=\"application/ecmascript\" contentStyleType=\"text/css\" height=\"12px\" preserveAspectRatio=\"none\" style=\"width:12px;height:12px;\" version=\"1.1\" viewBox=\"0 0 12 12\" width=\"12px\" zoomAndPan=\"magnify\"><defs/><g><!--MD5=[c5f280e076d0d61ccf4b0f27871bda1d]\n",
       "@startuml\r\n",
       "skinparam monochrome true\r\n",
       "skinparam classbackgroundcolor white\r\n",
       "skinparam shadowing false\r\n",
       "skinparam wrapWidth 300\r\n",
       "hide circle\r\n",
       "\r\n",
       "@enduml\r\n",
       "\n",
       "PlantUML version 1.2020.13(Sat Jun 13 12:26:38 UTC 2020)\n",
       "(EPL source distribution)\n",
       "Java Runtime: OpenJDK Runtime Environment\n",
       "JVM: OpenJDK 64-Bit Server VM\n",
       "Default Encoding: UTF-8\n",
       "Language: en\n",
       "Country: null\n",
       "--></g></svg>"
      ]
     },
     "execution_count": 39,
     "metadata": {},
     "output_type": "execute_result"
    }
   ],
   "source": [
    "%viz --style=\"DEFAULT\" --view=\"State\" \"TextualRepresentationTest\""
   ]
  },
  {
   "cell_type": "code",
   "execution_count": 40,
   "id": "neural-bearing",
   "metadata": {
    "execution": {
     "iopub.execute_input": "2021-03-25T14:19:02.705086Z",
     "iopub.status.busy": "2021-03-25T14:19:02.704531Z",
     "iopub.status.idle": "2021-03-25T14:19:02.794997Z",
     "shell.execute_reply": "2021-03-25T14:19:02.795509Z"
    }
   },
   "outputs": [
    {
     "data": {
      "image/svg+xml": [
       "<?xml version=\"1.0\" encoding=\"UTF-8\" standalone=\"no\"?><svg xmlns=\"http://www.w3.org/2000/svg\" xmlns:xlink=\"http://www.w3.org/1999/xlink\" contentScriptType=\"application/ecmascript\" contentStyleType=\"text/css\" height=\"179px\" preserveAspectRatio=\"none\" style=\"width:398px;height:179px;\" version=\"1.1\" viewBox=\"0 0 398 179\" width=\"398px\" zoomAndPan=\"magnify\"><defs/><g><!--MD5=[fbc87193dbaf4d95561dea2c320d4a47]\n",
       "cluster E1--><a href=\"psysml:64ccfe85-4fdd-4bf0-b3db-5945cd262e15\" target=\"_top\" title=\"psysml:64ccfe85-4fdd-4bf0-b3db-5945cd262e15\" xlink:actuate=\"onRequest\" xlink:href=\"psysml:64ccfe85-4fdd-4bf0-b3db-5945cd262e15\" xlink:show=\"new\" xlink:title=\"psysml:64ccfe85-4fdd-4bf0-b3db-5945cd262e15\" xlink:type=\"simple\"><polygon fill=\"#FFFFFF\" points=\"16,6,236,6,243,28.2969,376,28.2969,376,167,16,167,16,6\" style=\"stroke: #000000; stroke-width: 1.5;\"/><line style=\"stroke: #000000; stroke-width: 1.5;\" x1=\"16\" x2=\"243\" y1=\"28.2969\" y2=\"28.2969\"/><text fill=\"#000000\" font-family=\"sans-serif\" font-size=\"14\" font-weight=\"bold\" lengthAdjust=\"spacingAndGlyphs\" textLength=\"214\" x=\"20\" y=\"20.9951\">TextualRepresentationTest</text></a><!--MD5=[f6df4d0ebaf0b5dfb2ced0ae5af7c670]\n",
       "cluster E4--><a href=\"psysml:8549a337-017f-4e92-9426-82c63ecb1b1e\" target=\"_top\" title=\"psysml:8549a337-017f-4e92-9426-82c63ecb1b1e\" xlink:actuate=\"onRequest\" xlink:href=\"psysml:8549a337-017f-4e92-9426-82c63ecb1b1e\" xlink:show=\"new\" xlink:title=\"psysml:8549a337-017f-4e92-9426-82c63ecb1b1e\" xlink:type=\"simple\"><rect fill=\"#FFFFFF\" height=\"88.5\" id=\"E4\" style=\"stroke: #383838; stroke-width: 1.5;\" width=\"96\" x=\"235.5\" y=\"62.5\"/><rect fill=\"#F8F8F8\" height=\"37.9375\" style=\"stroke: #383838; stroke-width: 1.5;\" width=\"96\" x=\"235.5\" y=\"62.5\"/><text fill=\"#000000\" font-family=\"sans-serif\" font-size=\"12\" font-style=\"italic\" lengthAdjust=\"spacingAndGlyphs\" textLength=\"77\" x=\"245\" y=\"78.6387\">«action def»</text><text fill=\"#000000\" font-family=\"sans-serif\" font-size=\"12\" lengthAdjust=\"spacingAndGlyphs\" textLength=\"27\" x=\"270\" y=\"92.6074\">setX</text></a><g id=\"E1.E2\"><a href=\"psysml:06125bd0-acad-496e-b065-61f119a09466\" target=\"_top\" title=\"psysml:06125bd0-acad-496e-b065-61f119a09466\" xlink:actuate=\"onRequest\" xlink:href=\"psysml:06125bd0-acad-496e-b065-61f119a09466\" xlink:show=\"new\" xlink:title=\"psysml:06125bd0-acad-496e-b065-61f119a09466\" xlink:type=\"simple\"><rect fill=\"#FFFFFF\" height=\"42.9375\" id=\"E2\" style=\"stroke: #383838; stroke-width: 1.5;\" width=\"79\" x=\"139.5\" y=\"41\"/><rect fill=\"#F8F8F8\" height=\"37.9375\" style=\"stroke: #383838; stroke-width: 1.5;\" width=\"79\" x=\"139.5\" y=\"41\"/><text fill=\"#000000\" font-family=\"sans-serif\" font-size=\"12\" font-style=\"italic\" lengthAdjust=\"spacingAndGlyphs\" textLength=\"72\" x=\"143\" y=\"57.1387\">«dataType»</text><text fill=\"#000000\" font-family=\"sans-serif\" font-size=\"12\" lengthAdjust=\"spacingAndGlyphs\" textLength=\"27\" x=\"165.5\" y=\"71.1074\">Real</text></a></g><g id=\"E1.E3\"><a href=\"psysml:57586f80-7065-4509-85b2-20f5f1ea1e4c\" target=\"_top\" title=\"psysml:57586f80-7065-4509-85b2-20f5f1ea1e4c\" xlink:actuate=\"onRequest\" xlink:href=\"psysml:57586f80-7065-4509-85b2-20f5f1ea1e4c\" xlink:show=\"new\" xlink:title=\"psysml:57586f80-7065-4509-85b2-20f5f1ea1e4c\" xlink:type=\"simple\"><rect fill=\"#FFFFFF\" height=\"42.9375\" id=\"E3\" style=\"stroke: #383838; stroke-width: 1.5;\" width=\"72\" x=\"32\" y=\"41\"/><rect fill=\"#F8F8F8\" height=\"37.9375\" style=\"stroke: #383838; stroke-width: 1.5;\" width=\"72\" x=\"32\" y=\"41\"/><text fill=\"#000000\" font-family=\"sans-serif\" font-size=\"12\" font-style=\"italic\" lengthAdjust=\"spacingAndGlyphs\" textLength=\"65\" x=\"35.5\" y=\"57.1387\">«item def»</text><text fill=\"#000000\" font-family=\"sans-serif\" font-size=\"12\" lengthAdjust=\"spacingAndGlyphs\" textLength=\"8\" x=\"64\" y=\"71.1074\">C</text></a></g><text fill=\"#000000\" font-family=\"sans-serif\" font-size=\"14\" lengthAdjust=\"spacingAndGlyphs\" textLength=\"8\" x=\"256\" y=\"41.1982\">c</text><rect fill=\"#383838\" height=\"12\" style=\"stroke: #F8F8F8; stroke-width: 1.5;\" width=\"12\" x=\"254\" y=\"56.5\"/><text fill=\"#000000\" font-family=\"sans-serif\" font-size=\"14\" lengthAdjust=\"spacingAndGlyphs\" textLength=\"38\" x=\"288\" y=\"41.1982\">newX</text><rect fill=\"#383838\" height=\"12\" style=\"stroke: #F8F8F8; stroke-width: 1.5;\" width=\"12\" x=\"301\" y=\"56.5\"/><!--MD5=[7d4ad61dbb95293ec9fd1f0c0af4dcda]\n",
       "@startuml\r\n",
       "skinparam ranksep 10\r\n",
       "skinparam rectangle {\r\n",
       " backgroundColor<<block>> LightGreen\r\n",
       "}\r\n",
       "skinparam monochrome true\r\n",
       "skinparam classbackgroundcolor white\r\n",
       "skinparam shadowing false\r\n",
       "skinparam wrapWidth 300\r\n",
       "hide circle\r\n",
       "\r\n",
       "package \"TextualRepresentationTest\" as E1  [[psysml:64ccfe85-4fdd-4bf0-b3db-5945cd262e15 ]]  {\r\n",
       "def \"Real\" as E2  <<(T,blue)dataType>> [[psysml:06125bd0-acad-496e-b065-61f119a09466 ]] \r\n",
       "def \"C\" as E3  <<(T,blue)item def>> [[psysml:57586f80-7065-4509-85b2-20f5f1ea1e4c ]] \r\n",
       "rec def \"setX\" as E4  <<(T,blue)action def>> [[psysml:8549a337-017f-4e92-9426-82c63ecb1b1e ]] {\r\n",
       "portin \"c\" as E5  [[psysml:aa76399d-9e78-4ecc-80de-8099ee5899a9 ]] \r\n",
       "portin \"newX\" as E6  [[psysml:3135ebc1-3d3a-4206-9f67-d8c3ceb18c3a ]] \r\n",
       "}\r\n",
       "\r\n",
       "}\r\n",
       "@enduml\r\n",
       "\n",
       "PlantUML version 1.2020.13(Sat Jun 13 12:26:38 UTC 2020)\n",
       "(EPL source distribution)\n",
       "Java Runtime: OpenJDK Runtime Environment\n",
       "JVM: OpenJDK 64-Bit Server VM\n",
       "Default Encoding: UTF-8\n",
       "Language: en\n",
       "Country: null\n",
       "--></g></svg>"
      ]
     },
     "execution_count": 40,
     "metadata": {},
     "output_type": "execute_result"
    }
   ],
   "source": [
    "%viz --style=\"DEFAULT\" --view=\"Interconnection\" \"TextualRepresentationTest\""
   ]
  },
  {
   "cell_type": "code",
   "execution_count": 41,
   "id": "celtic-cholesterol",
   "metadata": {
    "execution": {
     "iopub.execute_input": "2021-03-25T14:19:02.845426Z",
     "iopub.status.busy": "2021-03-25T14:19:02.845035Z",
     "iopub.status.idle": "2021-03-25T14:19:02.904081Z",
     "shell.execute_reply": "2021-03-25T14:19:02.904461Z"
    }
   },
   "outputs": [
    {
     "data": {
      "image/svg+xml": [
       "<?xml version=\"1.0\" encoding=\"UTF-8\" standalone=\"no\"?><svg xmlns=\"http://www.w3.org/2000/svg\" xmlns:xlink=\"http://www.w3.org/1999/xlink\" contentScriptType=\"application/ecmascript\" contentStyleType=\"text/css\" height=\"126px\" preserveAspectRatio=\"none\" style=\"width:150px;height:126px;\" version=\"1.1\" viewBox=\"0 0 150 126\" width=\"150px\" zoomAndPan=\"magnify\"><defs/><g><!--MD5=[fbc87193dbaf4d95561dea2c320d4a47]\n",
       "cluster E1--><a href=\"psysml:8549a337-017f-4e92-9426-82c63ecb1b1e\" target=\"_top\" title=\"psysml:8549a337-017f-4e92-9426-82c63ecb1b1e\" xlink:actuate=\"onRequest\" xlink:href=\"psysml:8549a337-017f-4e92-9426-82c63ecb1b1e\" xlink:show=\"new\" xlink:title=\"psysml:8549a337-017f-4e92-9426-82c63ecb1b1e\" xlink:type=\"simple\"><rect fill=\"#FFFFFF\" height=\"73\" id=\"E1\" style=\"stroke: #383838; stroke-width: 1.5;\" width=\"132\" x=\"7\" y=\"42.0986\"/><rect fill=\"#F8F8F8\" height=\"37.9375\" style=\"stroke: #383838; stroke-width: 1.5;\" width=\"132\" x=\"7\" y=\"42.0986\"/><text fill=\"#000000\" font-family=\"sans-serif\" font-size=\"12\" font-style=\"italic\" lengthAdjust=\"spacingAndGlyphs\" textLength=\"77\" x=\"34.5\" y=\"58.2373\">«action def»</text><text fill=\"#000000\" font-family=\"sans-serif\" font-size=\"12\" lengthAdjust=\"spacingAndGlyphs\" textLength=\"27\" x=\"59.5\" y=\"72.2061\">setX</text></a><text fill=\"#000000\" font-family=\"sans-serif\" font-size=\"14\" lengthAdjust=\"spacingAndGlyphs\" textLength=\"8\" x=\"21\" y=\"20.7969\">c</text><rect fill=\"#383838\" height=\"12\" style=\"stroke: #F8F8F8; stroke-width: 1.5;\" width=\"12\" x=\"19\" y=\"36.0986\"/><text fill=\"#000000\" font-family=\"sans-serif\" font-size=\"14\" lengthAdjust=\"spacingAndGlyphs\" textLength=\"38\" x=\"53\" y=\"20.7969\">newX</text><rect fill=\"#383838\" height=\"12\" style=\"stroke: #F8F8F8; stroke-width: 1.5;\" width=\"12\" x=\"66\" y=\"36.0986\"/><!--MD5=[6b67620ca727e37cc74aacf7e18d48be]\n",
       "@startuml\r\n",
       "skinparam ranksep 8\r\n",
       "skinparam monochrome true\r\n",
       "skinparam classbackgroundcolor white\r\n",
       "skinparam shadowing false\r\n",
       "skinparam wrapWidth 300\r\n",
       "hide circle\r\n",
       "\r\n",
       "rec def \"setX\" as E1  <<(T,blue)action def>> [[psysml:8549a337-017f-4e92-9426-82c63ecb1b1e ]] {\r\n",
       "portin \"c\" as E2  [[psysml:aa76399d-9e78-4ecc-80de-8099ee5899a9 ]] \r\n",
       "portin \"newX\" as E3  [[psysml:3135ebc1-3d3a-4206-9f67-d8c3ceb18c3a ]] \r\n",
       "}\r\n",
       "\r\n",
       "@enduml\r\n",
       "\n",
       "PlantUML version 1.2020.13(Sat Jun 13 12:26:38 UTC 2020)\n",
       "(EPL source distribution)\n",
       "Java Runtime: OpenJDK Runtime Environment\n",
       "JVM: OpenJDK 64-Bit Server VM\n",
       "Default Encoding: UTF-8\n",
       "Language: en\n",
       "Country: null\n",
       "--></g></svg>"
      ]
     },
     "execution_count": 41,
     "metadata": {},
     "output_type": "execute_result"
    }
   ],
   "source": [
    "%viz --style=\"DEFAULT\" --view=\"Action\" \"TextualRepresentationTest\""
   ]
  },
  {
   "cell_type": "code",
   "execution_count": 42,
   "id": "damaged-regulation",
   "metadata": {
    "execution": {
     "iopub.execute_input": "2021-03-25T14:19:02.955447Z",
     "iopub.status.busy": "2021-03-25T14:19:02.954842Z",
     "iopub.status.idle": "2021-03-25T14:19:03.367838Z",
     "shell.execute_reply": "2021-03-25T14:19:03.363765Z"
    }
   },
   "outputs": [
    {
     "data": {
      "image/svg+xml": [
       "<?xml version=\"1.0\" encoding=\"UTF-8\" standalone=\"no\"?><svg xmlns=\"http://www.w3.org/2000/svg\" xmlns:xlink=\"http://www.w3.org/1999/xlink\" contentScriptType=\"application/ecmascript\" contentStyleType=\"text/css\" height=\"297px\" preserveAspectRatio=\"none\" style=\"width:290px;height:297px;\" version=\"1.1\" viewBox=\"0 0 290 297\" width=\"290px\" zoomAndPan=\"magnify\"><defs/><g><!--MD5=[fbc87193dbaf4d95561dea2c320d4a47]\n",
       "cluster E1--><a href=\"psysml:64ccfe85-4fdd-4bf0-b3db-5945cd262e15\" target=\"_top\" title=\"psysml:64ccfe85-4fdd-4bf0-b3db-5945cd262e15\" xlink:actuate=\"onRequest\" xlink:href=\"psysml:64ccfe85-4fdd-4bf0-b3db-5945cd262e15\" xlink:show=\"new\" xlink:title=\"psysml:64ccfe85-4fdd-4bf0-b3db-5945cd262e15\" xlink:type=\"simple\"><polygon fill=\"#FFFFFF\" points=\"16,6,236,6,243,28.2969,268,28.2969,268,285,16,285,16,6\" style=\"stroke: #000000; stroke-width: 1.5;\"/><line style=\"stroke: #000000; stroke-width: 1.5;\" x1=\"16\" x2=\"243\" y1=\"28.2969\" y2=\"28.2969\"/><text fill=\"#000000\" font-family=\"sans-serif\" font-size=\"14\" font-weight=\"bold\" lengthAdjust=\"spacingAndGlyphs\" textLength=\"214\" x=\"20\" y=\"20.9951\">TextualRepresentationTest</text></a><!--MD5=[b4997ac47864f28c2f74865a473b2911]\n",
       "class E2--><a href=\"psysml:06125bd0-acad-496e-b065-61f119a09466\" target=\"_top\" title=\"psysml:06125bd0-acad-496e-b065-61f119a09466\" xlink:actuate=\"onRequest\" xlink:href=\"psysml:06125bd0-acad-496e-b065-61f119a09466\" xlink:show=\"new\" xlink:title=\"psysml:06125bd0-acad-496e-b065-61f119a09466\" xlink:type=\"simple\"><rect fill=\"#FFFFFF\" height=\"45.9375\" id=\"E2\" style=\"stroke: #383838; stroke-width: 1.5;\" width=\"74\" x=\"32\" y=\"193.5\"/><text fill=\"#000000\" font-family=\"sans-serif\" font-size=\"12\" font-style=\"italic\" lengthAdjust=\"spacingAndGlyphs\" textLength=\"72\" x=\"33\" y=\"209.6387\">«dataType»</text><text fill=\"#000000\" font-family=\"sans-serif\" font-size=\"12\" lengthAdjust=\"spacingAndGlyphs\" textLength=\"27\" x=\"55.5\" y=\"223.6074\">Real</text><line style=\"stroke: #383838; stroke-width: 1.5;\" x1=\"33\" x2=\"105\" y1=\"231.4375\" y2=\"231.4375\"/></a><!--MD5=[09b614a08d8cba4a07c9adeb5e0fee81]\n",
       "class E3--><a href=\"psysml:57586f80-7065-4509-85b2-20f5f1ea1e4c\" target=\"_top\" title=\"psysml:57586f80-7065-4509-85b2-20f5f1ea1e4c\" xlink:actuate=\"onRequest\" xlink:href=\"psysml:57586f80-7065-4509-85b2-20f5f1ea1e4c\" xlink:show=\"new\" xlink:title=\"psysml:57586f80-7065-4509-85b2-20f5f1ea1e4c\" xlink:type=\"simple\"><rect fill=\"#FFFFFF\" height=\"105.1563\" id=\"E3\" style=\"stroke: #383838; stroke-width: 1.5;\" width=\"111\" x=\"141.5\" y=\"164\"/><text fill=\"#000000\" font-family=\"sans-serif\" font-size=\"12\" font-style=\"italic\" lengthAdjust=\"spacingAndGlyphs\" textLength=\"65\" x=\"164.5\" y=\"180.1387\">«item def»</text><text fill=\"#000000\" font-family=\"sans-serif\" font-size=\"12\" lengthAdjust=\"spacingAndGlyphs\" textLength=\"8\" x=\"193\" y=\"194.1074\">C</text><line style=\"stroke: #383838; stroke-width: 1.5;\" x1=\"142.5\" x2=\"251.5\" y1=\"201.9375\" y2=\"201.9375\"/><text fill=\"#000000\" font-family=\"sans-serif\" font-size=\"11\" lengthAdjust=\"spacingAndGlyphs\" textLength=\"38\" x=\"147.5\" y=\"232.9526\">x: Real</text><line style=\"stroke: #383838; stroke-width: 1.0;\" x1=\"142.5\" x2=\"169.5\" y1=\"216.3398\" y2=\"216.3398\"/><text fill=\"#000000\" font-family=\"sans-serif\" font-size=\"11\" lengthAdjust=\"spacingAndGlyphs\" textLength=\"55\" x=\"169.5\" y=\"219.6479\">attributes</text><line style=\"stroke: #383838; stroke-width: 1.0;\" x1=\"224.5\" x2=\"251.5\" y1=\"216.3398\" y2=\"216.3398\"/><text fill=\"#000000\" font-family=\"sans-serif\" font-size=\"11\" lengthAdjust=\"spacingAndGlyphs\" textLength=\"69\" x=\"147.5\" y=\"262.562\">x_constraint</text><line style=\"stroke: #383838; stroke-width: 1.0;\" x1=\"142.5\" x2=\"145.5\" y1=\"245.9492\" y2=\"245.9492\"/><text fill=\"#000000\" font-family=\"sans-serif\" font-size=\"11\" lengthAdjust=\"spacingAndGlyphs\" textLength=\"103\" x=\"145.5\" y=\"249.2573\">assertConstraints</text><line style=\"stroke: #383838; stroke-width: 1.0;\" x1=\"248.5\" x2=\"251.5\" y1=\"245.9492\" y2=\"245.9492\"/></a><!--MD5=[270fce915f116d4de14055a7c1d9a0f3]\n",
       "class E5--><a href=\"psysml:8549a337-017f-4e92-9426-82c63ecb1b1e\" target=\"_top\" title=\"psysml:8549a337-017f-4e92-9426-82c63ecb1b1e\" xlink:actuate=\"onRequest\" xlink:href=\"psysml:8549a337-017f-4e92-9426-82c63ecb1b1e\" xlink:show=\"new\" xlink:title=\"psysml:8549a337-017f-4e92-9426-82c63ecb1b1e\" xlink:type=\"simple\"><rect fill=\"#FFFFFF\" height=\"45.9375\" id=\"E5\" style=\"stroke: #383838; stroke-width: 1.5;\" width=\"79\" x=\"67.5\" y=\"41\"/><text fill=\"#000000\" font-family=\"sans-serif\" font-size=\"12\" font-style=\"italic\" lengthAdjust=\"spacingAndGlyphs\" textLength=\"77\" x=\"68.5\" y=\"57.1387\">«action def»</text><text fill=\"#000000\" font-family=\"sans-serif\" font-size=\"12\" lengthAdjust=\"spacingAndGlyphs\" textLength=\"27\" x=\"93.5\" y=\"71.1074\">setX</text><line style=\"stroke: #383838; stroke-width: 1.5;\" x1=\"68.5\" x2=\"145.5\" y1=\"78.9375\" y2=\"78.9375\"/></a><!--MD5=[6f107eb264eda4b26325f39a5516f1f3]\n",
       "reverse link E5 to E3--><a href=\"psysml:aa76399d-9e78-4ecc-80de-8099ee5899a9\" target=\"_top\" title=\"psysml:aa76399d-9e78-4ecc-80de-8099ee5899a9\" xlink:actuate=\"onRequest\" xlink:href=\"psysml:aa76399d-9e78-4ecc-80de-8099ee5899a9\" xlink:show=\"new\" xlink:title=\"psysml:aa76399d-9e78-4ecc-80de-8099ee5899a9\" xlink:type=\"simple\"><path d=\"M126.98,98.42 C138.48,117.65 153.18,142.22 166.13,163.88 \" fill=\"none\" id=\"E5&lt;-E3\" style=\"stroke: #383838; stroke-width: 1.0;\"/><polygon fill=\"#FFFFFF\" points=\"120.28,87.21,119.9261,94.4124,126.4384,97.5092,126.7923,90.3068,120.28,87.21\" style=\"stroke: #383838; stroke-width: 1.0;\"/><text fill=\"#000000\" font-family=\"sans-serif\" font-size=\"13\" lengthAdjust=\"spacingAndGlyphs\" textLength=\"7\" x=\"147\" y=\"130.0669\">c</text></a><!--MD5=[f51c6d1f1856fe338ac0413483fb1ccf]\n",
       "reverse link E5 to E2--><a href=\"psysml:3135ebc1-3d3a-4206-9f67-d8c3ceb18c3a\" target=\"_top\" title=\"psysml:3135ebc1-3d3a-4206-9f67-d8c3ceb18c3a\" xlink:actuate=\"onRequest\" xlink:href=\"psysml:3135ebc1-3d3a-4206-9f67-d8c3ceb18c3a\" xlink:show=\"new\" xlink:title=\"psysml:3135ebc1-3d3a-4206-9f67-d8c3ceb18c3a\" xlink:type=\"simple\"><path d=\"M98.18,99.93 C90.92,128.69 80.84,168.6 74.63,193.2 \" fill=\"none\" id=\"E5&lt;-E2\" style=\"stroke: #383838; stroke-width: 1.0;\"/><polygon fill=\"#FFFFFF\" points=\"101.39,87.21,96.0413,92.0465,98.4485,98.8439,103.7972,94.0074,101.39,87.21\" style=\"stroke: #383838; stroke-width: 1.0;\"/><text fill=\"#000000\" font-family=\"sans-serif\" font-size=\"13\" lengthAdjust=\"spacingAndGlyphs\" textLength=\"33\" x=\"94\" y=\"130.0669\">newX</text></a><!--MD5=[b674385a8bdefff6e185a7fccb9e1ca8]\n",
       "@startuml\r\n",
       "skinparam monochrome true\r\n",
       "skinparam classbackgroundcolor white\r\n",
       "skinparam shadowing false\r\n",
       "skinparam wrapWidth 300\r\n",
       "hide circle\r\n",
       "\r\n",
       "package \"TextualRepresentationTest\" as E1  [[psysml:64ccfe85-4fdd-4bf0-b3db-5945cd262e15 ]]  {\r\n",
       "comp def \"Real\" as E2  <<(T,blue)dataType>> [[psysml:06125bd0-acad-496e-b065-61f119a09466 ]] {\r\n",
       "}\r\n",
       "comp def \"C\" as E3  <<(T,blue)item def>> [[psysml:57586f80-7065-4509-85b2-20f5f1ea1e4c ]] {\r\n",
       "- - attributes - -\r\n",
       "x: Real\r\n",
       "- - assertConstraints - -\r\n",
       "x_constraint\r\n",
       "}\r\n",
       "comp def \"setX\" as E5  <<(T,blue)action def>> [[psysml:8549a337-017f-4e92-9426-82c63ecb1b1e ]] {\r\n",
       "}\r\n",
       "E5 o- - E3 [[psysml:aa76399d-9e78-4ecc-80de-8099ee5899a9 ]] : c\r\n",
       "E5 o- - E2 [[psysml:3135ebc1-3d3a-4206-9f67-d8c3ceb18c3a ]] : newX\r\n",
       "}\r\n",
       "@enduml\r\n",
       "\n",
       "PlantUML version 1.2020.13(Sat Jun 13 12:26:38 UTC 2020)\n",
       "(EPL source distribution)\n",
       "Java Runtime: OpenJDK Runtime Environment\n",
       "JVM: OpenJDK 64-Bit Server VM\n",
       "Default Encoding: UTF-8\n",
       "Language: en\n",
       "Country: null\n",
       "--></g></svg>"
      ]
     },
     "execution_count": 42,
     "metadata": {},
     "output_type": "execute_result"
    }
   ],
   "source": [
    "%viz --style=\"DEFAULT\" --view=\"Sequence\" \"TextualRepresentationTest\""
   ]
  },
  {
   "cell_type": "code",
   "execution_count": 43,
   "id": "suspected-decision",
   "metadata": {
    "execution": {
     "iopub.execute_input": "2021-03-25T14:19:03.415620Z",
     "iopub.status.busy": "2021-03-25T14:19:03.414968Z",
     "iopub.status.idle": "2021-03-25T14:19:03.812063Z",
     "shell.execute_reply": "2021-03-25T14:19:03.810560Z"
    }
   },
   "outputs": [
    {
     "data": {
      "image/svg+xml": [
       "<?xml version=\"1.0\" encoding=\"UTF-8\" standalone=\"no\"?><svg xmlns=\"http://www.w3.org/2000/svg\" xmlns:xlink=\"http://www.w3.org/1999/xlink\" contentScriptType=\"application/ecmascript\" contentStyleType=\"text/css\" height=\"285px\" preserveAspectRatio=\"none\" style=\"width:432px;height:285px;\" version=\"1.1\" viewBox=\"0 0 432 285\" width=\"432px\" zoomAndPan=\"magnify\"><defs/><g><!--MD5=[fbc87193dbaf4d95561dea2c320d4a47]\n",
       "cluster E1--><a href=\"psysml:64ccfe85-4fdd-4bf0-b3db-5945cd262e15\" target=\"_top\" title=\"psysml:64ccfe85-4fdd-4bf0-b3db-5945cd262e15\" xlink:actuate=\"onRequest\" xlink:href=\"psysml:64ccfe85-4fdd-4bf0-b3db-5945cd262e15\" xlink:show=\"new\" xlink:title=\"psysml:64ccfe85-4fdd-4bf0-b3db-5945cd262e15\" xlink:type=\"simple\"><polygon fill=\"#FFFFFF\" points=\"16,6,236,6,243,28.2969,410,28.2969,410,273,16,273,16,6\" style=\"stroke: #000000; stroke-width: 1.5;\"/><line style=\"stroke: #000000; stroke-width: 1.5;\" x1=\"16\" x2=\"243\" y1=\"28.2969\" y2=\"28.2969\"/><text fill=\"#000000\" font-family=\"sans-serif\" font-size=\"14\" font-weight=\"bold\" lengthAdjust=\"spacingAndGlyphs\" textLength=\"214\" x=\"20\" y=\"20.9951\">TextualRepresentationTest</text></a><!--MD5=[de5ec2e2e8f62f467e546659f5068c88]\n",
       "cluster E5--><a href=\"psysml:8549a337-017f-4e92-9426-82c63ecb1b1e\" target=\"_top\" title=\"psysml:8549a337-017f-4e92-9426-82c63ecb1b1e\" xlink:actuate=\"onRequest\" xlink:href=\"psysml:8549a337-017f-4e92-9426-82c63ecb1b1e\" xlink:show=\"new\" xlink:title=\"psysml:8549a337-017f-4e92-9426-82c63ecb1b1e\" xlink:type=\"simple\"><rect fill=\"#FFFFFF\" height=\"163.5\" id=\"E5\" style=\"stroke: #383838; stroke-width: 1.5;\" width=\"96\" x=\"268.5\" y=\"93.5\"/><rect fill=\"#F8F8F8\" height=\"37.9375\" style=\"stroke: #383838; stroke-width: 1.5;\" width=\"96\" x=\"268.5\" y=\"93.5\"/><text fill=\"#000000\" font-family=\"sans-serif\" font-size=\"12\" font-style=\"italic\" lengthAdjust=\"spacingAndGlyphs\" textLength=\"77\" x=\"278\" y=\"109.6387\">«action def»</text><text fill=\"#000000\" font-family=\"sans-serif\" font-size=\"12\" lengthAdjust=\"spacingAndGlyphs\" textLength=\"27\" x=\"303\" y=\"123.6074\">setX</text></a><!--MD5=[b4997ac47864f28c2f74865a473b2911]\n",
       "class E2--><a href=\"psysml:06125bd0-acad-496e-b065-61f119a09466\" target=\"_top\" title=\"psysml:06125bd0-acad-496e-b065-61f119a09466\" xlink:actuate=\"onRequest\" xlink:href=\"psysml:06125bd0-acad-496e-b065-61f119a09466\" xlink:show=\"new\" xlink:title=\"psysml:06125bd0-acad-496e-b065-61f119a09466\" xlink:type=\"simple\"><rect fill=\"#FFFFFF\" height=\"45.9375\" id=\"E2\" style=\"stroke: #383838; stroke-width: 1.5;\" width=\"74\" x=\"178\" y=\"70.5\"/><text fill=\"#000000\" font-family=\"sans-serif\" font-size=\"12\" font-style=\"italic\" lengthAdjust=\"spacingAndGlyphs\" textLength=\"72\" x=\"179\" y=\"86.6387\">«dataType»</text><text fill=\"#000000\" font-family=\"sans-serif\" font-size=\"12\" lengthAdjust=\"spacingAndGlyphs\" textLength=\"27\" x=\"201.5\" y=\"100.6074\">Real</text><line style=\"stroke: #383838; stroke-width: 1.5;\" x1=\"179\" x2=\"251\" y1=\"108.4375\" y2=\"108.4375\"/></a><!--MD5=[09b614a08d8cba4a07c9adeb5e0fee81]\n",
       "class E3--><a href=\"psysml:57586f80-7065-4509-85b2-20f5f1ea1e4c\" target=\"_top\" title=\"psysml:57586f80-7065-4509-85b2-20f5f1ea1e4c\" xlink:actuate=\"onRequest\" xlink:href=\"psysml:57586f80-7065-4509-85b2-20f5f1ea1e4c\" xlink:show=\"new\" xlink:title=\"psysml:57586f80-7065-4509-85b2-20f5f1ea1e4c\" xlink:type=\"simple\"><rect fill=\"#FFFFFF\" height=\"105.1563\" id=\"E3\" style=\"stroke: #383838; stroke-width: 1.5;\" width=\"111\" x=\"31.5\" y=\"41\"/><text fill=\"#000000\" font-family=\"sans-serif\" font-size=\"12\" font-style=\"italic\" lengthAdjust=\"spacingAndGlyphs\" textLength=\"65\" x=\"54.5\" y=\"57.1387\">«item def»</text><text fill=\"#000000\" font-family=\"sans-serif\" font-size=\"12\" lengthAdjust=\"spacingAndGlyphs\" textLength=\"8\" x=\"83\" y=\"71.1074\">C</text><line style=\"stroke: #383838; stroke-width: 1.5;\" x1=\"32.5\" x2=\"141.5\" y1=\"78.9375\" y2=\"78.9375\"/><text fill=\"#000000\" font-family=\"sans-serif\" font-size=\"11\" lengthAdjust=\"spacingAndGlyphs\" textLength=\"38\" x=\"37.5\" y=\"109.9526\">x: Real</text><line style=\"stroke: #383838; stroke-width: 1.0;\" x1=\"32.5\" x2=\"59.5\" y1=\"93.3398\" y2=\"93.3398\"/><text fill=\"#000000\" font-family=\"sans-serif\" font-size=\"11\" lengthAdjust=\"spacingAndGlyphs\" textLength=\"55\" x=\"59.5\" y=\"96.6479\">attributes</text><line style=\"stroke: #383838; stroke-width: 1.0;\" x1=\"114.5\" x2=\"141.5\" y1=\"93.3398\" y2=\"93.3398\"/><text fill=\"#000000\" font-family=\"sans-serif\" font-size=\"11\" lengthAdjust=\"spacingAndGlyphs\" textLength=\"69\" x=\"37.5\" y=\"139.562\">x_constraint</text><line style=\"stroke: #383838; stroke-width: 1.0;\" x1=\"32.5\" x2=\"35.5\" y1=\"122.9492\" y2=\"122.9492\"/><text fill=\"#000000\" font-family=\"sans-serif\" font-size=\"11\" lengthAdjust=\"spacingAndGlyphs\" textLength=\"103\" x=\"35.5\" y=\"126.2573\">assertConstraints</text><line style=\"stroke: #383838; stroke-width: 1.0;\" x1=\"138.5\" x2=\"141.5\" y1=\"122.9492\" y2=\"122.9492\"/></a><text fill=\"#000000\" font-family=\"sans-serif\" font-size=\"14\" lengthAdjust=\"spacingAndGlyphs\" textLength=\"8\" x=\"289\" y=\"72.1982\">c</text><rect fill=\"#383838\" height=\"12\" style=\"stroke: #F8F8F8; stroke-width: 1.5;\" width=\"12\" x=\"287\" y=\"87.5\"/><text fill=\"#000000\" font-family=\"sans-serif\" font-size=\"14\" lengthAdjust=\"spacingAndGlyphs\" textLength=\"38\" x=\"321\" y=\"72.1982\">newX</text><rect fill=\"#383838\" height=\"12\" style=\"stroke: #F8F8F8; stroke-width: 1.5;\" width=\"12\" x=\"334\" y=\"87.5\"/><!--MD5=[bb6560134d1800661b9e29df97a9f110]\n",
       "@startuml\r\n",
       "skinparam monochrome true\r\n",
       "skinparam classbackgroundcolor white\r\n",
       "skinparam shadowing false\r\n",
       "skinparam wrapWidth 300\r\n",
       "hide circle\r\n",
       "\r\n",
       "package \"TextualRepresentationTest\" as E1  [[psysml:64ccfe85-4fdd-4bf0-b3db-5945cd262e15 ]]  {\r\n",
       "comp def \"Real\" as E2  <<(T,blue)dataType>> [[psysml:06125bd0-acad-496e-b065-61f119a09466 ]] {\r\n",
       "}\r\n",
       "comp def \"C\" as E3  <<(T,blue)item def>> [[psysml:57586f80-7065-4509-85b2-20f5f1ea1e4c ]] {\r\n",
       "- - attributes - -\r\n",
       "x: Real\r\n",
       "- - assertConstraints - -\r\n",
       "x_constraint\r\n",
       "}\r\n",
       "rec def \"setX\" as E5  <<(T,blue)action def>> [[psysml:8549a337-017f-4e92-9426-82c63ecb1b1e ]] {\r\n",
       "portin \"c\" as E6  [[psysml:aa76399d-9e78-4ecc-80de-8099ee5899a9 ]] \r\n",
       "portin \"newX\" as E7  [[psysml:3135ebc1-3d3a-4206-9f67-d8c3ceb18c3a ]] \r\n",
       "}\r\n",
       "\r\n",
       "}\r\n",
       "@enduml\r\n",
       "\n",
       "PlantUML version 1.2020.13(Sat Jun 13 12:26:38 UTC 2020)\n",
       "(EPL source distribution)\n",
       "Java Runtime: OpenJDK Runtime Environment\n",
       "JVM: OpenJDK 64-Bit Server VM\n",
       "Default Encoding: UTF-8\n",
       "Language: en\n",
       "Country: null\n",
       "--></g></svg>"
      ]
     },
     "execution_count": 43,
     "metadata": {},
     "output_type": "execute_result"
    }
   ],
   "source": [
    "%viz --style=\"DEFAULT\" --view=\"MIXED\" \"TextualRepresentationTest\""
   ]
  },
  {
   "cell_type": "code",
   "execution_count": 44,
   "id": "loaded-relaxation",
   "metadata": {
    "execution": {
     "iopub.execute_input": "2021-03-25T14:19:03.862163Z",
     "iopub.status.busy": "2021-03-25T14:19:03.861530Z",
     "iopub.status.idle": "2021-03-25T14:19:04.289364Z",
     "shell.execute_reply": "2021-03-25T14:19:04.287764Z"
    }
   },
   "outputs": [
    {
     "data": {
      "image/svg+xml": [
       "<?xml version=\"1.0\" encoding=\"UTF-8\" standalone=\"no\"?><svg xmlns=\"http://www.w3.org/2000/svg\" xmlns:xlink=\"http://www.w3.org/1999/xlink\" contentScriptType=\"application/ecmascript\" contentStyleType=\"text/css\" height=\"285px\" preserveAspectRatio=\"none\" style=\"width:432px;height:285px;\" version=\"1.1\" viewBox=\"0 0 432 285\" width=\"432px\" zoomAndPan=\"magnify\"><defs/><g><!--MD5=[fbc87193dbaf4d95561dea2c320d4a47]\n",
       "cluster E1--><a href=\"psysml:64ccfe85-4fdd-4bf0-b3db-5945cd262e15\" target=\"_top\" title=\"psysml:64ccfe85-4fdd-4bf0-b3db-5945cd262e15\" xlink:actuate=\"onRequest\" xlink:href=\"psysml:64ccfe85-4fdd-4bf0-b3db-5945cd262e15\" xlink:show=\"new\" xlink:title=\"psysml:64ccfe85-4fdd-4bf0-b3db-5945cd262e15\" xlink:type=\"simple\"><polygon fill=\"#FFFFFF\" points=\"16,6,236,6,243,28.2969,410,28.2969,410,273,16,273,16,6\" style=\"stroke: #000000; stroke-width: 1.5;\"/><line style=\"stroke: #000000; stroke-width: 1.5;\" x1=\"16\" x2=\"243\" y1=\"28.2969\" y2=\"28.2969\"/><text fill=\"#000000\" font-family=\"sans-serif\" font-size=\"14\" font-weight=\"bold\" lengthAdjust=\"spacingAndGlyphs\" textLength=\"214\" x=\"20\" y=\"20.9951\">TextualRepresentationTest</text></a><!--MD5=[de5ec2e2e8f62f467e546659f5068c88]\n",
       "cluster E5--><a href=\"psysml:8549a337-017f-4e92-9426-82c63ecb1b1e\" target=\"_top\" title=\"psysml:8549a337-017f-4e92-9426-82c63ecb1b1e\" xlink:actuate=\"onRequest\" xlink:href=\"psysml:8549a337-017f-4e92-9426-82c63ecb1b1e\" xlink:show=\"new\" xlink:title=\"psysml:8549a337-017f-4e92-9426-82c63ecb1b1e\" xlink:type=\"simple\"><rect fill=\"#FFFFFF\" height=\"163.5\" id=\"E5\" style=\"stroke: #383838; stroke-width: 1.5;\" width=\"96\" x=\"268.5\" y=\"93.5\"/><rect fill=\"#F8F8F8\" height=\"37.9375\" style=\"stroke: #383838; stroke-width: 1.5;\" width=\"96\" x=\"268.5\" y=\"93.5\"/><text fill=\"#000000\" font-family=\"sans-serif\" font-size=\"12\" font-style=\"italic\" lengthAdjust=\"spacingAndGlyphs\" textLength=\"77\" x=\"278\" y=\"109.6387\">«action def»</text><text fill=\"#000000\" font-family=\"sans-serif\" font-size=\"12\" lengthAdjust=\"spacingAndGlyphs\" textLength=\"27\" x=\"303\" y=\"123.6074\">setX</text></a><!--MD5=[b4997ac47864f28c2f74865a473b2911]\n",
       "class E2--><a href=\"psysml:06125bd0-acad-496e-b065-61f119a09466\" target=\"_top\" title=\"psysml:06125bd0-acad-496e-b065-61f119a09466\" xlink:actuate=\"onRequest\" xlink:href=\"psysml:06125bd0-acad-496e-b065-61f119a09466\" xlink:show=\"new\" xlink:title=\"psysml:06125bd0-acad-496e-b065-61f119a09466\" xlink:type=\"simple\"><rect fill=\"#FFFFFF\" height=\"45.9375\" id=\"E2\" style=\"stroke: #383838; stroke-width: 1.5;\" width=\"74\" x=\"178\" y=\"70.5\"/><text fill=\"#000000\" font-family=\"sans-serif\" font-size=\"12\" font-style=\"italic\" lengthAdjust=\"spacingAndGlyphs\" textLength=\"72\" x=\"179\" y=\"86.6387\">«dataType»</text><text fill=\"#000000\" font-family=\"sans-serif\" font-size=\"12\" lengthAdjust=\"spacingAndGlyphs\" textLength=\"27\" x=\"201.5\" y=\"100.6074\">Real</text><line style=\"stroke: #383838; stroke-width: 1.5;\" x1=\"179\" x2=\"251\" y1=\"108.4375\" y2=\"108.4375\"/></a><!--MD5=[09b614a08d8cba4a07c9adeb5e0fee81]\n",
       "class E3--><a href=\"psysml:57586f80-7065-4509-85b2-20f5f1ea1e4c\" target=\"_top\" title=\"psysml:57586f80-7065-4509-85b2-20f5f1ea1e4c\" xlink:actuate=\"onRequest\" xlink:href=\"psysml:57586f80-7065-4509-85b2-20f5f1ea1e4c\" xlink:show=\"new\" xlink:title=\"psysml:57586f80-7065-4509-85b2-20f5f1ea1e4c\" xlink:type=\"simple\"><rect fill=\"#FFFFFF\" height=\"105.1563\" id=\"E3\" style=\"stroke: #383838; stroke-width: 1.5;\" width=\"111\" x=\"31.5\" y=\"41\"/><text fill=\"#000000\" font-family=\"sans-serif\" font-size=\"12\" font-style=\"italic\" lengthAdjust=\"spacingAndGlyphs\" textLength=\"65\" x=\"54.5\" y=\"57.1387\">«item def»</text><text fill=\"#000000\" font-family=\"sans-serif\" font-size=\"12\" lengthAdjust=\"spacingAndGlyphs\" textLength=\"8\" x=\"83\" y=\"71.1074\">C</text><line style=\"stroke: #383838; stroke-width: 1.5;\" x1=\"32.5\" x2=\"141.5\" y1=\"78.9375\" y2=\"78.9375\"/><text fill=\"#000000\" font-family=\"sans-serif\" font-size=\"11\" lengthAdjust=\"spacingAndGlyphs\" textLength=\"38\" x=\"37.5\" y=\"109.9526\">x: Real</text><line style=\"stroke: #383838; stroke-width: 1.0;\" x1=\"32.5\" x2=\"59.5\" y1=\"93.3398\" y2=\"93.3398\"/><text fill=\"#000000\" font-family=\"sans-serif\" font-size=\"11\" lengthAdjust=\"spacingAndGlyphs\" textLength=\"55\" x=\"59.5\" y=\"96.6479\">attributes</text><line style=\"stroke: #383838; stroke-width: 1.0;\" x1=\"114.5\" x2=\"141.5\" y1=\"93.3398\" y2=\"93.3398\"/><text fill=\"#000000\" font-family=\"sans-serif\" font-size=\"11\" lengthAdjust=\"spacingAndGlyphs\" textLength=\"69\" x=\"37.5\" y=\"139.562\">x_constraint</text><line style=\"stroke: #383838; stroke-width: 1.0;\" x1=\"32.5\" x2=\"35.5\" y1=\"122.9492\" y2=\"122.9492\"/><text fill=\"#000000\" font-family=\"sans-serif\" font-size=\"11\" lengthAdjust=\"spacingAndGlyphs\" textLength=\"103\" x=\"35.5\" y=\"126.2573\">assertConstraints</text><line style=\"stroke: #383838; stroke-width: 1.0;\" x1=\"138.5\" x2=\"141.5\" y1=\"122.9492\" y2=\"122.9492\"/></a><text fill=\"#000000\" font-family=\"sans-serif\" font-size=\"14\" lengthAdjust=\"spacingAndGlyphs\" textLength=\"8\" x=\"289\" y=\"72.1982\">c</text><rect fill=\"#383838\" height=\"12\" style=\"stroke: #F8F8F8; stroke-width: 1.5;\" width=\"12\" x=\"287\" y=\"87.5\"/><text fill=\"#000000\" font-family=\"sans-serif\" font-size=\"14\" lengthAdjust=\"spacingAndGlyphs\" textLength=\"38\" x=\"321\" y=\"72.1982\">newX</text><rect fill=\"#383838\" height=\"12\" style=\"stroke: #F8F8F8; stroke-width: 1.5;\" width=\"12\" x=\"334\" y=\"87.5\"/><!--MD5=[65bfd9e2ea8af513ca4648e14345836e]\n",
       "@startuml\r\n",
       "top to bottom direction\r\n",
       "skinparam monochrome true\r\n",
       "skinparam classbackgroundcolor white\r\n",
       "skinparam shadowing false\r\n",
       "skinparam wrapWidth 300\r\n",
       "hide circle\r\n",
       "\r\n",
       "package \"TextualRepresentationTest\" as E1  [[psysml:64ccfe85-4fdd-4bf0-b3db-5945cd262e15 ]]  {\r\n",
       "comp def \"Real\" as E2  <<(T,blue)dataType>> [[psysml:06125bd0-acad-496e-b065-61f119a09466 ]] {\r\n",
       "}\r\n",
       "comp def \"C\" as E3  <<(T,blue)item def>> [[psysml:57586f80-7065-4509-85b2-20f5f1ea1e4c ]] {\r\n",
       "- - attributes - -\r\n",
       "x: Real\r\n",
       "- - assertConstraints - -\r\n",
       "x_constraint\r\n",
       "}\r\n",
       "rec def \"setX\" as E5  <<(T,blue)action def>> [[psysml:8549a337-017f-4e92-9426-82c63ecb1b1e ]] {\r\n",
       "portin \"c\" as E6  [[psysml:aa76399d-9e78-4ecc-80de-8099ee5899a9 ]] \r\n",
       "portin \"newX\" as E7  [[psysml:3135ebc1-3d3a-4206-9f67-d8c3ceb18c3a ]] \r\n",
       "}\r\n",
       "\r\n",
       "}\r\n",
       "@enduml\r\n",
       "\n",
       "PlantUML version 1.2020.13(Sat Jun 13 12:26:38 UTC 2020)\n",
       "(EPL source distribution)\n",
       "Java Runtime: OpenJDK Runtime Environment\n",
       "JVM: OpenJDK 64-Bit Server VM\n",
       "Default Encoding: UTF-8\n",
       "Language: en\n",
       "Country: null\n",
       "--></g></svg>"
      ]
     },
     "execution_count": 44,
     "metadata": {},
     "output_type": "execute_result"
    }
   ],
   "source": [
    "%viz --style=\"TB\" --view=\"Default\" \"TextualRepresentationTest\""
   ]
  },
  {
   "cell_type": "code",
   "execution_count": 45,
   "id": "applied-mirror",
   "metadata": {
    "execution": {
     "iopub.execute_input": "2021-03-25T14:19:04.339963Z",
     "iopub.status.busy": "2021-03-25T14:19:04.339399Z",
     "iopub.status.idle": "2021-03-25T14:19:04.750744Z",
     "shell.execute_reply": "2021-03-25T14:19:04.748472Z"
    }
   },
   "outputs": [
    {
     "data": {
      "image/svg+xml": [
       "<?xml version=\"1.0\" encoding=\"UTF-8\" standalone=\"no\"?><svg xmlns=\"http://www.w3.org/2000/svg\" xmlns:xlink=\"http://www.w3.org/1999/xlink\" contentScriptType=\"application/ecmascript\" contentStyleType=\"text/css\" height=\"297px\" preserveAspectRatio=\"none\" style=\"width:290px;height:297px;\" version=\"1.1\" viewBox=\"0 0 290 297\" width=\"290px\" zoomAndPan=\"magnify\"><defs/><g><!--MD5=[fbc87193dbaf4d95561dea2c320d4a47]\n",
       "cluster E1--><a href=\"psysml:64ccfe85-4fdd-4bf0-b3db-5945cd262e15\" target=\"_top\" title=\"psysml:64ccfe85-4fdd-4bf0-b3db-5945cd262e15\" xlink:actuate=\"onRequest\" xlink:href=\"psysml:64ccfe85-4fdd-4bf0-b3db-5945cd262e15\" xlink:show=\"new\" xlink:title=\"psysml:64ccfe85-4fdd-4bf0-b3db-5945cd262e15\" xlink:type=\"simple\"><polygon fill=\"#FFFFFF\" points=\"16,6,236,6,243,28.2969,268,28.2969,268,285,16,285,16,6\" style=\"stroke: #000000; stroke-width: 1.5;\"/><line style=\"stroke: #000000; stroke-width: 1.5;\" x1=\"16\" x2=\"243\" y1=\"28.2969\" y2=\"28.2969\"/><text fill=\"#000000\" font-family=\"sans-serif\" font-size=\"14\" font-weight=\"bold\" lengthAdjust=\"spacingAndGlyphs\" textLength=\"214\" x=\"20\" y=\"20.9951\">TextualRepresentationTest</text></a><!--MD5=[b4997ac47864f28c2f74865a473b2911]\n",
       "class E2--><a href=\"psysml:06125bd0-acad-496e-b065-61f119a09466\" target=\"_top\" title=\"psysml:06125bd0-acad-496e-b065-61f119a09466\" xlink:actuate=\"onRequest\" xlink:href=\"psysml:06125bd0-acad-496e-b065-61f119a09466\" xlink:show=\"new\" xlink:title=\"psysml:06125bd0-acad-496e-b065-61f119a09466\" xlink:type=\"simple\"><rect fill=\"#FFFFFF\" height=\"45.9375\" id=\"E2\" style=\"stroke: #383838; stroke-width: 1.5;\" width=\"74\" x=\"32\" y=\"193.5\"/><text fill=\"#000000\" font-family=\"sans-serif\" font-size=\"12\" font-style=\"italic\" lengthAdjust=\"spacingAndGlyphs\" textLength=\"72\" x=\"33\" y=\"209.6387\">«dataType»</text><text fill=\"#000000\" font-family=\"sans-serif\" font-size=\"12\" lengthAdjust=\"spacingAndGlyphs\" textLength=\"27\" x=\"55.5\" y=\"223.6074\">Real</text><line style=\"stroke: #383838; stroke-width: 1.5;\" x1=\"33\" x2=\"105\" y1=\"231.4375\" y2=\"231.4375\"/></a><!--MD5=[09b614a08d8cba4a07c9adeb5e0fee81]\n",
       "class E3--><a href=\"psysml:57586f80-7065-4509-85b2-20f5f1ea1e4c\" target=\"_top\" title=\"psysml:57586f80-7065-4509-85b2-20f5f1ea1e4c\" xlink:actuate=\"onRequest\" xlink:href=\"psysml:57586f80-7065-4509-85b2-20f5f1ea1e4c\" xlink:show=\"new\" xlink:title=\"psysml:57586f80-7065-4509-85b2-20f5f1ea1e4c\" xlink:type=\"simple\"><rect fill=\"#FFFFFF\" height=\"105.1563\" id=\"E3\" style=\"stroke: #383838; stroke-width: 1.5;\" width=\"111\" x=\"141.5\" y=\"164\"/><text fill=\"#000000\" font-family=\"sans-serif\" font-size=\"12\" font-style=\"italic\" lengthAdjust=\"spacingAndGlyphs\" textLength=\"65\" x=\"164.5\" y=\"180.1387\">«item def»</text><text fill=\"#000000\" font-family=\"sans-serif\" font-size=\"12\" lengthAdjust=\"spacingAndGlyphs\" textLength=\"8\" x=\"193\" y=\"194.1074\">C</text><line style=\"stroke: #383838; stroke-width: 1.5;\" x1=\"142.5\" x2=\"251.5\" y1=\"201.9375\" y2=\"201.9375\"/><text fill=\"#000000\" font-family=\"sans-serif\" font-size=\"11\" lengthAdjust=\"spacingAndGlyphs\" textLength=\"38\" x=\"147.5\" y=\"232.9526\">x: Real</text><line style=\"stroke: #383838; stroke-width: 1.0;\" x1=\"142.5\" x2=\"169.5\" y1=\"216.3398\" y2=\"216.3398\"/><text fill=\"#000000\" font-family=\"sans-serif\" font-size=\"11\" lengthAdjust=\"spacingAndGlyphs\" textLength=\"55\" x=\"169.5\" y=\"219.6479\">attributes</text><line style=\"stroke: #383838; stroke-width: 1.0;\" x1=\"224.5\" x2=\"251.5\" y1=\"216.3398\" y2=\"216.3398\"/><text fill=\"#000000\" font-family=\"sans-serif\" font-size=\"11\" lengthAdjust=\"spacingAndGlyphs\" textLength=\"69\" x=\"147.5\" y=\"262.562\">x_constraint</text><line style=\"stroke: #383838; stroke-width: 1.0;\" x1=\"142.5\" x2=\"145.5\" y1=\"245.9492\" y2=\"245.9492\"/><text fill=\"#000000\" font-family=\"sans-serif\" font-size=\"11\" lengthAdjust=\"spacingAndGlyphs\" textLength=\"103\" x=\"145.5\" y=\"249.2573\">assertConstraints</text><line style=\"stroke: #383838; stroke-width: 1.0;\" x1=\"248.5\" x2=\"251.5\" y1=\"245.9492\" y2=\"245.9492\"/></a><!--MD5=[270fce915f116d4de14055a7c1d9a0f3]\n",
       "class E5--><a href=\"psysml:8549a337-017f-4e92-9426-82c63ecb1b1e\" target=\"_top\" title=\"psysml:8549a337-017f-4e92-9426-82c63ecb1b1e\" xlink:actuate=\"onRequest\" xlink:href=\"psysml:8549a337-017f-4e92-9426-82c63ecb1b1e\" xlink:show=\"new\" xlink:title=\"psysml:8549a337-017f-4e92-9426-82c63ecb1b1e\" xlink:type=\"simple\"><rect fill=\"#FFFFFF\" height=\"45.9375\" id=\"E5\" style=\"stroke: #383838; stroke-width: 1.5;\" width=\"79\" x=\"67.5\" y=\"41\"/><text fill=\"#000000\" font-family=\"sans-serif\" font-size=\"12\" font-style=\"italic\" lengthAdjust=\"spacingAndGlyphs\" textLength=\"77\" x=\"68.5\" y=\"57.1387\">«action def»</text><text fill=\"#000000\" font-family=\"sans-serif\" font-size=\"12\" lengthAdjust=\"spacingAndGlyphs\" textLength=\"27\" x=\"93.5\" y=\"71.1074\">setX</text><line style=\"stroke: #383838; stroke-width: 1.5;\" x1=\"68.5\" x2=\"145.5\" y1=\"78.9375\" y2=\"78.9375\"/></a><!--MD5=[6f107eb264eda4b26325f39a5516f1f3]\n",
       "reverse link E5 to E3--><a href=\"psysml:aa76399d-9e78-4ecc-80de-8099ee5899a9\" target=\"_top\" title=\"psysml:aa76399d-9e78-4ecc-80de-8099ee5899a9\" xlink:actuate=\"onRequest\" xlink:href=\"psysml:aa76399d-9e78-4ecc-80de-8099ee5899a9\" xlink:show=\"new\" xlink:title=\"psysml:aa76399d-9e78-4ecc-80de-8099ee5899a9\" xlink:type=\"simple\"><path d=\"M126.98,98.42 C138.48,117.65 153.18,142.22 166.13,163.88 \" fill=\"none\" id=\"E5&lt;-E3\" style=\"stroke: #383838; stroke-width: 1.0;\"/><polygon fill=\"#FFFFFF\" points=\"120.28,87.21,119.9261,94.4124,126.4384,97.5092,126.7923,90.3068,120.28,87.21\" style=\"stroke: #383838; stroke-width: 1.0;\"/><text fill=\"#000000\" font-family=\"sans-serif\" font-size=\"13\" lengthAdjust=\"spacingAndGlyphs\" textLength=\"7\" x=\"147\" y=\"130.0669\">c</text></a><!--MD5=[f51c6d1f1856fe338ac0413483fb1ccf]\n",
       "reverse link E5 to E2--><a href=\"psysml:3135ebc1-3d3a-4206-9f67-d8c3ceb18c3a\" target=\"_top\" title=\"psysml:3135ebc1-3d3a-4206-9f67-d8c3ceb18c3a\" xlink:actuate=\"onRequest\" xlink:href=\"psysml:3135ebc1-3d3a-4206-9f67-d8c3ceb18c3a\" xlink:show=\"new\" xlink:title=\"psysml:3135ebc1-3d3a-4206-9f67-d8c3ceb18c3a\" xlink:type=\"simple\"><path d=\"M98.18,99.93 C90.92,128.69 80.84,168.6 74.63,193.2 \" fill=\"none\" id=\"E5&lt;-E2\" style=\"stroke: #383838; stroke-width: 1.0;\"/><polygon fill=\"#FFFFFF\" points=\"101.39,87.21,96.0413,92.0465,98.4485,98.8439,103.7972,94.0074,101.39,87.21\" style=\"stroke: #383838; stroke-width: 1.0;\"/><text fill=\"#000000\" font-family=\"sans-serif\" font-size=\"13\" lengthAdjust=\"spacingAndGlyphs\" textLength=\"33\" x=\"94\" y=\"130.0669\">newX</text></a><!--MD5=[f5e1a83ad4d688e993a86a5dcf38deee]\n",
       "@startuml\r\n",
       "top to bottom direction\r\n",
       "skinparam monochrome true\r\n",
       "skinparam classbackgroundcolor white\r\n",
       "skinparam shadowing false\r\n",
       "skinparam wrapWidth 300\r\n",
       "hide circle\r\n",
       "\r\n",
       "package \"TextualRepresentationTest\" as E1  [[psysml:64ccfe85-4fdd-4bf0-b3db-5945cd262e15 ]]  {\r\n",
       "comp def \"Real\" as E2  <<(T,blue)dataType>> [[psysml:06125bd0-acad-496e-b065-61f119a09466 ]] {\r\n",
       "}\r\n",
       "comp def \"C\" as E3  <<(T,blue)item def>> [[psysml:57586f80-7065-4509-85b2-20f5f1ea1e4c ]] {\r\n",
       "- - attributes - -\r\n",
       "x: Real\r\n",
       "- - assertConstraints - -\r\n",
       "x_constraint\r\n",
       "}\r\n",
       "comp def \"setX\" as E5  <<(T,blue)action def>> [[psysml:8549a337-017f-4e92-9426-82c63ecb1b1e ]] {\r\n",
       "}\r\n",
       "E5 o- - E3 [[psysml:aa76399d-9e78-4ecc-80de-8099ee5899a9 ]] : c\r\n",
       "E5 o- - E2 [[psysml:3135ebc1-3d3a-4206-9f67-d8c3ceb18c3a ]] : newX\r\n",
       "}\r\n",
       "@enduml\r\n",
       "\n",
       "PlantUML version 1.2020.13(Sat Jun 13 12:26:38 UTC 2020)\n",
       "(EPL source distribution)\n",
       "Java Runtime: OpenJDK Runtime Environment\n",
       "JVM: OpenJDK 64-Bit Server VM\n",
       "Default Encoding: UTF-8\n",
       "Language: en\n",
       "Country: null\n",
       "--></g></svg>"
      ]
     },
     "execution_count": 45,
     "metadata": {},
     "output_type": "execute_result"
    }
   ],
   "source": [
    "%viz --style=\"TB\" --view=\"Tree\" \"TextualRepresentationTest\""
   ]
  },
  {
   "cell_type": "code",
   "execution_count": 46,
   "id": "iraqi-bridge",
   "metadata": {
    "execution": {
     "iopub.execute_input": "2021-03-25T14:19:04.804274Z",
     "iopub.status.busy": "2021-03-25T14:19:04.803509Z",
     "iopub.status.idle": "2021-03-25T14:19:04.810968Z",
     "shell.execute_reply": "2021-03-25T14:19:04.811446Z"
    }
   },
   "outputs": [
    {
     "data": {
      "image/svg+xml": [
       "<?xml version=\"1.0\" encoding=\"UTF-8\" standalone=\"no\"?><svg xmlns=\"http://www.w3.org/2000/svg\" xmlns:xlink=\"http://www.w3.org/1999/xlink\" contentScriptType=\"application/ecmascript\" contentStyleType=\"text/css\" height=\"12px\" preserveAspectRatio=\"none\" style=\"width:12px;height:12px;\" version=\"1.1\" viewBox=\"0 0 12 12\" width=\"12px\" zoomAndPan=\"magnify\"><defs/><g><!--MD5=[f4ee21bc66e489b5061b7c3e9601fdef]\n",
       "@startuml\r\n",
       "top to bottom direction\r\n",
       "skinparam monochrome true\r\n",
       "skinparam classbackgroundcolor white\r\n",
       "skinparam shadowing false\r\n",
       "skinparam wrapWidth 300\r\n",
       "hide circle\r\n",
       "\r\n",
       "@enduml\r\n",
       "\n",
       "PlantUML version 1.2020.13(Sat Jun 13 12:26:38 UTC 2020)\n",
       "(EPL source distribution)\n",
       "Java Runtime: OpenJDK Runtime Environment\n",
       "JVM: OpenJDK 64-Bit Server VM\n",
       "Default Encoding: UTF-8\n",
       "Language: en\n",
       "Country: null\n",
       "--></g></svg>"
      ]
     },
     "execution_count": 46,
     "metadata": {},
     "output_type": "execute_result"
    }
   ],
   "source": [
    "%viz --style=\"TB\" --view=\"State\" \"TextualRepresentationTest\""
   ]
  },
  {
   "cell_type": "code",
   "execution_count": 47,
   "id": "educated-savage",
   "metadata": {
    "execution": {
     "iopub.execute_input": "2021-03-25T14:19:04.863232Z",
     "iopub.status.busy": "2021-03-25T14:19:04.862676Z",
     "iopub.status.idle": "2021-03-25T14:19:04.948898Z",
     "shell.execute_reply": "2021-03-25T14:19:04.948329Z"
    }
   },
   "outputs": [
    {
     "data": {
      "image/svg+xml": [
       "<?xml version=\"1.0\" encoding=\"UTF-8\" standalone=\"no\"?><svg xmlns=\"http://www.w3.org/2000/svg\" xmlns:xlink=\"http://www.w3.org/1999/xlink\" contentScriptType=\"application/ecmascript\" contentStyleType=\"text/css\" height=\"179px\" preserveAspectRatio=\"none\" style=\"width:398px;height:179px;\" version=\"1.1\" viewBox=\"0 0 398 179\" width=\"398px\" zoomAndPan=\"magnify\"><defs/><g><!--MD5=[fbc87193dbaf4d95561dea2c320d4a47]\n",
       "cluster E1--><a href=\"psysml:64ccfe85-4fdd-4bf0-b3db-5945cd262e15\" target=\"_top\" title=\"psysml:64ccfe85-4fdd-4bf0-b3db-5945cd262e15\" xlink:actuate=\"onRequest\" xlink:href=\"psysml:64ccfe85-4fdd-4bf0-b3db-5945cd262e15\" xlink:show=\"new\" xlink:title=\"psysml:64ccfe85-4fdd-4bf0-b3db-5945cd262e15\" xlink:type=\"simple\"><polygon fill=\"#FFFFFF\" points=\"16,6,236,6,243,28.2969,376,28.2969,376,167,16,167,16,6\" style=\"stroke: #000000; stroke-width: 1.5;\"/><line style=\"stroke: #000000; stroke-width: 1.5;\" x1=\"16\" x2=\"243\" y1=\"28.2969\" y2=\"28.2969\"/><text fill=\"#000000\" font-family=\"sans-serif\" font-size=\"14\" font-weight=\"bold\" lengthAdjust=\"spacingAndGlyphs\" textLength=\"214\" x=\"20\" y=\"20.9951\">TextualRepresentationTest</text></a><!--MD5=[f6df4d0ebaf0b5dfb2ced0ae5af7c670]\n",
       "cluster E4--><a href=\"psysml:8549a337-017f-4e92-9426-82c63ecb1b1e\" target=\"_top\" title=\"psysml:8549a337-017f-4e92-9426-82c63ecb1b1e\" xlink:actuate=\"onRequest\" xlink:href=\"psysml:8549a337-017f-4e92-9426-82c63ecb1b1e\" xlink:show=\"new\" xlink:title=\"psysml:8549a337-017f-4e92-9426-82c63ecb1b1e\" xlink:type=\"simple\"><rect fill=\"#FFFFFF\" height=\"88.5\" id=\"E4\" style=\"stroke: #383838; stroke-width: 1.5;\" width=\"96\" x=\"235.5\" y=\"62.5\"/><rect fill=\"#F8F8F8\" height=\"37.9375\" style=\"stroke: #383838; stroke-width: 1.5;\" width=\"96\" x=\"235.5\" y=\"62.5\"/><text fill=\"#000000\" font-family=\"sans-serif\" font-size=\"12\" font-style=\"italic\" lengthAdjust=\"spacingAndGlyphs\" textLength=\"77\" x=\"245\" y=\"78.6387\">«action def»</text><text fill=\"#000000\" font-family=\"sans-serif\" font-size=\"12\" lengthAdjust=\"spacingAndGlyphs\" textLength=\"27\" x=\"270\" y=\"92.6074\">setX</text></a><g id=\"E1.E2\"><a href=\"psysml:06125bd0-acad-496e-b065-61f119a09466\" target=\"_top\" title=\"psysml:06125bd0-acad-496e-b065-61f119a09466\" xlink:actuate=\"onRequest\" xlink:href=\"psysml:06125bd0-acad-496e-b065-61f119a09466\" xlink:show=\"new\" xlink:title=\"psysml:06125bd0-acad-496e-b065-61f119a09466\" xlink:type=\"simple\"><rect fill=\"#FFFFFF\" height=\"42.9375\" id=\"E2\" style=\"stroke: #383838; stroke-width: 1.5;\" width=\"79\" x=\"139.5\" y=\"41\"/><rect fill=\"#F8F8F8\" height=\"37.9375\" style=\"stroke: #383838; stroke-width: 1.5;\" width=\"79\" x=\"139.5\" y=\"41\"/><text fill=\"#000000\" font-family=\"sans-serif\" font-size=\"12\" font-style=\"italic\" lengthAdjust=\"spacingAndGlyphs\" textLength=\"72\" x=\"143\" y=\"57.1387\">«dataType»</text><text fill=\"#000000\" font-family=\"sans-serif\" font-size=\"12\" lengthAdjust=\"spacingAndGlyphs\" textLength=\"27\" x=\"165.5\" y=\"71.1074\">Real</text></a></g><g id=\"E1.E3\"><a href=\"psysml:57586f80-7065-4509-85b2-20f5f1ea1e4c\" target=\"_top\" title=\"psysml:57586f80-7065-4509-85b2-20f5f1ea1e4c\" xlink:actuate=\"onRequest\" xlink:href=\"psysml:57586f80-7065-4509-85b2-20f5f1ea1e4c\" xlink:show=\"new\" xlink:title=\"psysml:57586f80-7065-4509-85b2-20f5f1ea1e4c\" xlink:type=\"simple\"><rect fill=\"#FFFFFF\" height=\"42.9375\" id=\"E3\" style=\"stroke: #383838; stroke-width: 1.5;\" width=\"72\" x=\"32\" y=\"41\"/><rect fill=\"#F8F8F8\" height=\"37.9375\" style=\"stroke: #383838; stroke-width: 1.5;\" width=\"72\" x=\"32\" y=\"41\"/><text fill=\"#000000\" font-family=\"sans-serif\" font-size=\"12\" font-style=\"italic\" lengthAdjust=\"spacingAndGlyphs\" textLength=\"65\" x=\"35.5\" y=\"57.1387\">«item def»</text><text fill=\"#000000\" font-family=\"sans-serif\" font-size=\"12\" lengthAdjust=\"spacingAndGlyphs\" textLength=\"8\" x=\"64\" y=\"71.1074\">C</text></a></g><text fill=\"#000000\" font-family=\"sans-serif\" font-size=\"14\" lengthAdjust=\"spacingAndGlyphs\" textLength=\"8\" x=\"256\" y=\"41.1982\">c</text><rect fill=\"#383838\" height=\"12\" style=\"stroke: #F8F8F8; stroke-width: 1.5;\" width=\"12\" x=\"254\" y=\"56.5\"/><text fill=\"#000000\" font-family=\"sans-serif\" font-size=\"14\" lengthAdjust=\"spacingAndGlyphs\" textLength=\"38\" x=\"288\" y=\"41.1982\">newX</text><rect fill=\"#383838\" height=\"12\" style=\"stroke: #F8F8F8; stroke-width: 1.5;\" width=\"12\" x=\"301\" y=\"56.5\"/><!--MD5=[fe8625fb747de177a5d13b39e00f159a]\n",
       "@startuml\r\n",
       "skinparam ranksep 10\r\n",
       "skinparam rectangle {\r\n",
       " backgroundColor<<block>> LightGreen\r\n",
       "}\r\n",
       "top to bottom direction\r\n",
       "skinparam monochrome true\r\n",
       "skinparam classbackgroundcolor white\r\n",
       "skinparam shadowing false\r\n",
       "skinparam wrapWidth 300\r\n",
       "hide circle\r\n",
       "\r\n",
       "package \"TextualRepresentationTest\" as E1  [[psysml:64ccfe85-4fdd-4bf0-b3db-5945cd262e15 ]]  {\r\n",
       "def \"Real\" as E2  <<(T,blue)dataType>> [[psysml:06125bd0-acad-496e-b065-61f119a09466 ]] \r\n",
       "def \"C\" as E3  <<(T,blue)item def>> [[psysml:57586f80-7065-4509-85b2-20f5f1ea1e4c ]] \r\n",
       "rec def \"setX\" as E4  <<(T,blue)action def>> [[psysml:8549a337-017f-4e92-9426-82c63ecb1b1e ]] {\r\n",
       "portin \"c\" as E5  [[psysml:aa76399d-9e78-4ecc-80de-8099ee5899a9 ]] \r\n",
       "portin \"newX\" as E6  [[psysml:3135ebc1-3d3a-4206-9f67-d8c3ceb18c3a ]] \r\n",
       "}\r\n",
       "\r\n",
       "}\r\n",
       "@enduml\r\n",
       "\n",
       "PlantUML version 1.2020.13(Sat Jun 13 12:26:38 UTC 2020)\n",
       "(EPL source distribution)\n",
       "Java Runtime: OpenJDK Runtime Environment\n",
       "JVM: OpenJDK 64-Bit Server VM\n",
       "Default Encoding: UTF-8\n",
       "Language: en\n",
       "Country: null\n",
       "--></g></svg>"
      ]
     },
     "execution_count": 47,
     "metadata": {},
     "output_type": "execute_result"
    }
   ],
   "source": [
    "%viz --style=\"TB\" --view=\"Interconnection\" \"TextualRepresentationTest\""
   ]
  },
  {
   "cell_type": "code",
   "execution_count": 48,
   "id": "painted-exhibit",
   "metadata": {
    "execution": {
     "iopub.execute_input": "2021-03-25T14:19:05.000397Z",
     "iopub.status.busy": "2021-03-25T14:19:04.999254Z",
     "iopub.status.idle": "2021-03-25T14:19:05.057558Z",
     "shell.execute_reply": "2021-03-25T14:19:05.057148Z"
    }
   },
   "outputs": [
    {
     "data": {
      "image/svg+xml": [
       "<?xml version=\"1.0\" encoding=\"UTF-8\" standalone=\"no\"?><svg xmlns=\"http://www.w3.org/2000/svg\" xmlns:xlink=\"http://www.w3.org/1999/xlink\" contentScriptType=\"application/ecmascript\" contentStyleType=\"text/css\" height=\"126px\" preserveAspectRatio=\"none\" style=\"width:150px;height:126px;\" version=\"1.1\" viewBox=\"0 0 150 126\" width=\"150px\" zoomAndPan=\"magnify\"><defs/><g><!--MD5=[fbc87193dbaf4d95561dea2c320d4a47]\n",
       "cluster E1--><a href=\"psysml:8549a337-017f-4e92-9426-82c63ecb1b1e\" target=\"_top\" title=\"psysml:8549a337-017f-4e92-9426-82c63ecb1b1e\" xlink:actuate=\"onRequest\" xlink:href=\"psysml:8549a337-017f-4e92-9426-82c63ecb1b1e\" xlink:show=\"new\" xlink:title=\"psysml:8549a337-017f-4e92-9426-82c63ecb1b1e\" xlink:type=\"simple\"><rect fill=\"#FFFFFF\" height=\"73\" id=\"E1\" style=\"stroke: #383838; stroke-width: 1.5;\" width=\"132\" x=\"7\" y=\"42.0986\"/><rect fill=\"#F8F8F8\" height=\"37.9375\" style=\"stroke: #383838; stroke-width: 1.5;\" width=\"132\" x=\"7\" y=\"42.0986\"/><text fill=\"#000000\" font-family=\"sans-serif\" font-size=\"12\" font-style=\"italic\" lengthAdjust=\"spacingAndGlyphs\" textLength=\"77\" x=\"34.5\" y=\"58.2373\">«action def»</text><text fill=\"#000000\" font-family=\"sans-serif\" font-size=\"12\" lengthAdjust=\"spacingAndGlyphs\" textLength=\"27\" x=\"59.5\" y=\"72.2061\">setX</text></a><text fill=\"#000000\" font-family=\"sans-serif\" font-size=\"14\" lengthAdjust=\"spacingAndGlyphs\" textLength=\"8\" x=\"21\" y=\"20.7969\">c</text><rect fill=\"#383838\" height=\"12\" style=\"stroke: #F8F8F8; stroke-width: 1.5;\" width=\"12\" x=\"19\" y=\"36.0986\"/><text fill=\"#000000\" font-family=\"sans-serif\" font-size=\"14\" lengthAdjust=\"spacingAndGlyphs\" textLength=\"38\" x=\"53\" y=\"20.7969\">newX</text><rect fill=\"#383838\" height=\"12\" style=\"stroke: #F8F8F8; stroke-width: 1.5;\" width=\"12\" x=\"66\" y=\"36.0986\"/><!--MD5=[205cdd64e4900c22f216da376df2f406]\n",
       "@startuml\r\n",
       "skinparam ranksep 8\r\n",
       "top to bottom direction\r\n",
       "skinparam monochrome true\r\n",
       "skinparam classbackgroundcolor white\r\n",
       "skinparam shadowing false\r\n",
       "skinparam wrapWidth 300\r\n",
       "hide circle\r\n",
       "\r\n",
       "rec def \"setX\" as E1  <<(T,blue)action def>> [[psysml:8549a337-017f-4e92-9426-82c63ecb1b1e ]] {\r\n",
       "portin \"c\" as E2  [[psysml:aa76399d-9e78-4ecc-80de-8099ee5899a9 ]] \r\n",
       "portin \"newX\" as E3  [[psysml:3135ebc1-3d3a-4206-9f67-d8c3ceb18c3a ]] \r\n",
       "}\r\n",
       "\r\n",
       "@enduml\r\n",
       "\n",
       "PlantUML version 1.2020.13(Sat Jun 13 12:26:38 UTC 2020)\n",
       "(EPL source distribution)\n",
       "Java Runtime: OpenJDK Runtime Environment\n",
       "JVM: OpenJDK 64-Bit Server VM\n",
       "Default Encoding: UTF-8\n",
       "Language: en\n",
       "Country: null\n",
       "--></g></svg>"
      ]
     },
     "execution_count": 48,
     "metadata": {},
     "output_type": "execute_result"
    }
   ],
   "source": [
    "%viz --style=\"TB\" --view=\"Action\" \"TextualRepresentationTest\""
   ]
  },
  {
   "cell_type": "code",
   "execution_count": 49,
   "id": "marine-eleven",
   "metadata": {
    "execution": {
     "iopub.execute_input": "2021-03-25T14:19:05.111955Z",
     "iopub.status.busy": "2021-03-25T14:19:05.111165Z",
     "iopub.status.idle": "2021-03-25T14:19:05.525244Z",
     "shell.execute_reply": "2021-03-25T14:19:05.523824Z"
    }
   },
   "outputs": [
    {
     "data": {
      "image/svg+xml": [
       "<?xml version=\"1.0\" encoding=\"UTF-8\" standalone=\"no\"?><svg xmlns=\"http://www.w3.org/2000/svg\" xmlns:xlink=\"http://www.w3.org/1999/xlink\" contentScriptType=\"application/ecmascript\" contentStyleType=\"text/css\" height=\"297px\" preserveAspectRatio=\"none\" style=\"width:290px;height:297px;\" version=\"1.1\" viewBox=\"0 0 290 297\" width=\"290px\" zoomAndPan=\"magnify\"><defs/><g><!--MD5=[fbc87193dbaf4d95561dea2c320d4a47]\n",
       "cluster E1--><a href=\"psysml:64ccfe85-4fdd-4bf0-b3db-5945cd262e15\" target=\"_top\" title=\"psysml:64ccfe85-4fdd-4bf0-b3db-5945cd262e15\" xlink:actuate=\"onRequest\" xlink:href=\"psysml:64ccfe85-4fdd-4bf0-b3db-5945cd262e15\" xlink:show=\"new\" xlink:title=\"psysml:64ccfe85-4fdd-4bf0-b3db-5945cd262e15\" xlink:type=\"simple\"><polygon fill=\"#FFFFFF\" points=\"16,6,236,6,243,28.2969,268,28.2969,268,285,16,285,16,6\" style=\"stroke: #000000; stroke-width: 1.5;\"/><line style=\"stroke: #000000; stroke-width: 1.5;\" x1=\"16\" x2=\"243\" y1=\"28.2969\" y2=\"28.2969\"/><text fill=\"#000000\" font-family=\"sans-serif\" font-size=\"14\" font-weight=\"bold\" lengthAdjust=\"spacingAndGlyphs\" textLength=\"214\" x=\"20\" y=\"20.9951\">TextualRepresentationTest</text></a><!--MD5=[b4997ac47864f28c2f74865a473b2911]\n",
       "class E2--><a href=\"psysml:06125bd0-acad-496e-b065-61f119a09466\" target=\"_top\" title=\"psysml:06125bd0-acad-496e-b065-61f119a09466\" xlink:actuate=\"onRequest\" xlink:href=\"psysml:06125bd0-acad-496e-b065-61f119a09466\" xlink:show=\"new\" xlink:title=\"psysml:06125bd0-acad-496e-b065-61f119a09466\" xlink:type=\"simple\"><rect fill=\"#FFFFFF\" height=\"45.9375\" id=\"E2\" style=\"stroke: #383838; stroke-width: 1.5;\" width=\"74\" x=\"32\" y=\"193.5\"/><text fill=\"#000000\" font-family=\"sans-serif\" font-size=\"12\" font-style=\"italic\" lengthAdjust=\"spacingAndGlyphs\" textLength=\"72\" x=\"33\" y=\"209.6387\">«dataType»</text><text fill=\"#000000\" font-family=\"sans-serif\" font-size=\"12\" lengthAdjust=\"spacingAndGlyphs\" textLength=\"27\" x=\"55.5\" y=\"223.6074\">Real</text><line style=\"stroke: #383838; stroke-width: 1.5;\" x1=\"33\" x2=\"105\" y1=\"231.4375\" y2=\"231.4375\"/></a><!--MD5=[09b614a08d8cba4a07c9adeb5e0fee81]\n",
       "class E3--><a href=\"psysml:57586f80-7065-4509-85b2-20f5f1ea1e4c\" target=\"_top\" title=\"psysml:57586f80-7065-4509-85b2-20f5f1ea1e4c\" xlink:actuate=\"onRequest\" xlink:href=\"psysml:57586f80-7065-4509-85b2-20f5f1ea1e4c\" xlink:show=\"new\" xlink:title=\"psysml:57586f80-7065-4509-85b2-20f5f1ea1e4c\" xlink:type=\"simple\"><rect fill=\"#FFFFFF\" height=\"105.1563\" id=\"E3\" style=\"stroke: #383838; stroke-width: 1.5;\" width=\"111\" x=\"141.5\" y=\"164\"/><text fill=\"#000000\" font-family=\"sans-serif\" font-size=\"12\" font-style=\"italic\" lengthAdjust=\"spacingAndGlyphs\" textLength=\"65\" x=\"164.5\" y=\"180.1387\">«item def»</text><text fill=\"#000000\" font-family=\"sans-serif\" font-size=\"12\" lengthAdjust=\"spacingAndGlyphs\" textLength=\"8\" x=\"193\" y=\"194.1074\">C</text><line style=\"stroke: #383838; stroke-width: 1.5;\" x1=\"142.5\" x2=\"251.5\" y1=\"201.9375\" y2=\"201.9375\"/><text fill=\"#000000\" font-family=\"sans-serif\" font-size=\"11\" lengthAdjust=\"spacingAndGlyphs\" textLength=\"38\" x=\"147.5\" y=\"232.9526\">x: Real</text><line style=\"stroke: #383838; stroke-width: 1.0;\" x1=\"142.5\" x2=\"169.5\" y1=\"216.3398\" y2=\"216.3398\"/><text fill=\"#000000\" font-family=\"sans-serif\" font-size=\"11\" lengthAdjust=\"spacingAndGlyphs\" textLength=\"55\" x=\"169.5\" y=\"219.6479\">attributes</text><line style=\"stroke: #383838; stroke-width: 1.0;\" x1=\"224.5\" x2=\"251.5\" y1=\"216.3398\" y2=\"216.3398\"/><text fill=\"#000000\" font-family=\"sans-serif\" font-size=\"11\" lengthAdjust=\"spacingAndGlyphs\" textLength=\"69\" x=\"147.5\" y=\"262.562\">x_constraint</text><line style=\"stroke: #383838; stroke-width: 1.0;\" x1=\"142.5\" x2=\"145.5\" y1=\"245.9492\" y2=\"245.9492\"/><text fill=\"#000000\" font-family=\"sans-serif\" font-size=\"11\" lengthAdjust=\"spacingAndGlyphs\" textLength=\"103\" x=\"145.5\" y=\"249.2573\">assertConstraints</text><line style=\"stroke: #383838; stroke-width: 1.0;\" x1=\"248.5\" x2=\"251.5\" y1=\"245.9492\" y2=\"245.9492\"/></a><!--MD5=[270fce915f116d4de14055a7c1d9a0f3]\n",
       "class E5--><a href=\"psysml:8549a337-017f-4e92-9426-82c63ecb1b1e\" target=\"_top\" title=\"psysml:8549a337-017f-4e92-9426-82c63ecb1b1e\" xlink:actuate=\"onRequest\" xlink:href=\"psysml:8549a337-017f-4e92-9426-82c63ecb1b1e\" xlink:show=\"new\" xlink:title=\"psysml:8549a337-017f-4e92-9426-82c63ecb1b1e\" xlink:type=\"simple\"><rect fill=\"#FFFFFF\" height=\"45.9375\" id=\"E5\" style=\"stroke: #383838; stroke-width: 1.5;\" width=\"79\" x=\"67.5\" y=\"41\"/><text fill=\"#000000\" font-family=\"sans-serif\" font-size=\"12\" font-style=\"italic\" lengthAdjust=\"spacingAndGlyphs\" textLength=\"77\" x=\"68.5\" y=\"57.1387\">«action def»</text><text fill=\"#000000\" font-family=\"sans-serif\" font-size=\"12\" lengthAdjust=\"spacingAndGlyphs\" textLength=\"27\" x=\"93.5\" y=\"71.1074\">setX</text><line style=\"stroke: #383838; stroke-width: 1.5;\" x1=\"68.5\" x2=\"145.5\" y1=\"78.9375\" y2=\"78.9375\"/></a><!--MD5=[6f107eb264eda4b26325f39a5516f1f3]\n",
       "reverse link E5 to E3--><a href=\"psysml:aa76399d-9e78-4ecc-80de-8099ee5899a9\" target=\"_top\" title=\"psysml:aa76399d-9e78-4ecc-80de-8099ee5899a9\" xlink:actuate=\"onRequest\" xlink:href=\"psysml:aa76399d-9e78-4ecc-80de-8099ee5899a9\" xlink:show=\"new\" xlink:title=\"psysml:aa76399d-9e78-4ecc-80de-8099ee5899a9\" xlink:type=\"simple\"><path d=\"M126.98,98.42 C138.48,117.65 153.18,142.22 166.13,163.88 \" fill=\"none\" id=\"E5&lt;-E3\" style=\"stroke: #383838; stroke-width: 1.0;\"/><polygon fill=\"#FFFFFF\" points=\"120.28,87.21,119.9261,94.4124,126.4384,97.5092,126.7923,90.3068,120.28,87.21\" style=\"stroke: #383838; stroke-width: 1.0;\"/><text fill=\"#000000\" font-family=\"sans-serif\" font-size=\"13\" lengthAdjust=\"spacingAndGlyphs\" textLength=\"7\" x=\"147\" y=\"130.0669\">c</text></a><!--MD5=[f51c6d1f1856fe338ac0413483fb1ccf]\n",
       "reverse link E5 to E2--><a href=\"psysml:3135ebc1-3d3a-4206-9f67-d8c3ceb18c3a\" target=\"_top\" title=\"psysml:3135ebc1-3d3a-4206-9f67-d8c3ceb18c3a\" xlink:actuate=\"onRequest\" xlink:href=\"psysml:3135ebc1-3d3a-4206-9f67-d8c3ceb18c3a\" xlink:show=\"new\" xlink:title=\"psysml:3135ebc1-3d3a-4206-9f67-d8c3ceb18c3a\" xlink:type=\"simple\"><path d=\"M98.18,99.93 C90.92,128.69 80.84,168.6 74.63,193.2 \" fill=\"none\" id=\"E5&lt;-E2\" style=\"stroke: #383838; stroke-width: 1.0;\"/><polygon fill=\"#FFFFFF\" points=\"101.39,87.21,96.0413,92.0465,98.4485,98.8439,103.7972,94.0074,101.39,87.21\" style=\"stroke: #383838; stroke-width: 1.0;\"/><text fill=\"#000000\" font-family=\"sans-serif\" font-size=\"13\" lengthAdjust=\"spacingAndGlyphs\" textLength=\"33\" x=\"94\" y=\"130.0669\">newX</text></a><!--MD5=[f5e1a83ad4d688e993a86a5dcf38deee]\n",
       "@startuml\r\n",
       "top to bottom direction\r\n",
       "skinparam monochrome true\r\n",
       "skinparam classbackgroundcolor white\r\n",
       "skinparam shadowing false\r\n",
       "skinparam wrapWidth 300\r\n",
       "hide circle\r\n",
       "\r\n",
       "package \"TextualRepresentationTest\" as E1  [[psysml:64ccfe85-4fdd-4bf0-b3db-5945cd262e15 ]]  {\r\n",
       "comp def \"Real\" as E2  <<(T,blue)dataType>> [[psysml:06125bd0-acad-496e-b065-61f119a09466 ]] {\r\n",
       "}\r\n",
       "comp def \"C\" as E3  <<(T,blue)item def>> [[psysml:57586f80-7065-4509-85b2-20f5f1ea1e4c ]] {\r\n",
       "- - attributes - -\r\n",
       "x: Real\r\n",
       "- - assertConstraints - -\r\n",
       "x_constraint\r\n",
       "}\r\n",
       "comp def \"setX\" as E5  <<(T,blue)action def>> [[psysml:8549a337-017f-4e92-9426-82c63ecb1b1e ]] {\r\n",
       "}\r\n",
       "E5 o- - E3 [[psysml:aa76399d-9e78-4ecc-80de-8099ee5899a9 ]] : c\r\n",
       "E5 o- - E2 [[psysml:3135ebc1-3d3a-4206-9f67-d8c3ceb18c3a ]] : newX\r\n",
       "}\r\n",
       "@enduml\r\n",
       "\n",
       "PlantUML version 1.2020.13(Sat Jun 13 12:26:38 UTC 2020)\n",
       "(EPL source distribution)\n",
       "Java Runtime: OpenJDK Runtime Environment\n",
       "JVM: OpenJDK 64-Bit Server VM\n",
       "Default Encoding: UTF-8\n",
       "Language: en\n",
       "Country: null\n",
       "--></g></svg>"
      ]
     },
     "execution_count": 49,
     "metadata": {},
     "output_type": "execute_result"
    }
   ],
   "source": [
    "%viz --style=\"TB\" --view=\"Sequence\" \"TextualRepresentationTest\""
   ]
  },
  {
   "cell_type": "code",
   "execution_count": 50,
   "id": "verified-baptist",
   "metadata": {
    "execution": {
     "iopub.execute_input": "2021-03-25T14:19:05.575994Z",
     "iopub.status.busy": "2021-03-25T14:19:05.575406Z",
     "iopub.status.idle": "2021-03-25T14:19:06.000181Z",
     "shell.execute_reply": "2021-03-25T14:19:05.998604Z"
    }
   },
   "outputs": [
    {
     "data": {
      "image/svg+xml": [
       "<?xml version=\"1.0\" encoding=\"UTF-8\" standalone=\"no\"?><svg xmlns=\"http://www.w3.org/2000/svg\" xmlns:xlink=\"http://www.w3.org/1999/xlink\" contentScriptType=\"application/ecmascript\" contentStyleType=\"text/css\" height=\"285px\" preserveAspectRatio=\"none\" style=\"width:432px;height:285px;\" version=\"1.1\" viewBox=\"0 0 432 285\" width=\"432px\" zoomAndPan=\"magnify\"><defs/><g><!--MD5=[fbc87193dbaf4d95561dea2c320d4a47]\n",
       "cluster E1--><a href=\"psysml:64ccfe85-4fdd-4bf0-b3db-5945cd262e15\" target=\"_top\" title=\"psysml:64ccfe85-4fdd-4bf0-b3db-5945cd262e15\" xlink:actuate=\"onRequest\" xlink:href=\"psysml:64ccfe85-4fdd-4bf0-b3db-5945cd262e15\" xlink:show=\"new\" xlink:title=\"psysml:64ccfe85-4fdd-4bf0-b3db-5945cd262e15\" xlink:type=\"simple\"><polygon fill=\"#FFFFFF\" points=\"16,6,236,6,243,28.2969,410,28.2969,410,273,16,273,16,6\" style=\"stroke: #000000; stroke-width: 1.5;\"/><line style=\"stroke: #000000; stroke-width: 1.5;\" x1=\"16\" x2=\"243\" y1=\"28.2969\" y2=\"28.2969\"/><text fill=\"#000000\" font-family=\"sans-serif\" font-size=\"14\" font-weight=\"bold\" lengthAdjust=\"spacingAndGlyphs\" textLength=\"214\" x=\"20\" y=\"20.9951\">TextualRepresentationTest</text></a><!--MD5=[de5ec2e2e8f62f467e546659f5068c88]\n",
       "cluster E5--><a href=\"psysml:8549a337-017f-4e92-9426-82c63ecb1b1e\" target=\"_top\" title=\"psysml:8549a337-017f-4e92-9426-82c63ecb1b1e\" xlink:actuate=\"onRequest\" xlink:href=\"psysml:8549a337-017f-4e92-9426-82c63ecb1b1e\" xlink:show=\"new\" xlink:title=\"psysml:8549a337-017f-4e92-9426-82c63ecb1b1e\" xlink:type=\"simple\"><rect fill=\"#FFFFFF\" height=\"163.5\" id=\"E5\" style=\"stroke: #383838; stroke-width: 1.5;\" width=\"96\" x=\"268.5\" y=\"93.5\"/><rect fill=\"#F8F8F8\" height=\"37.9375\" style=\"stroke: #383838; stroke-width: 1.5;\" width=\"96\" x=\"268.5\" y=\"93.5\"/><text fill=\"#000000\" font-family=\"sans-serif\" font-size=\"12\" font-style=\"italic\" lengthAdjust=\"spacingAndGlyphs\" textLength=\"77\" x=\"278\" y=\"109.6387\">«action def»</text><text fill=\"#000000\" font-family=\"sans-serif\" font-size=\"12\" lengthAdjust=\"spacingAndGlyphs\" textLength=\"27\" x=\"303\" y=\"123.6074\">setX</text></a><!--MD5=[b4997ac47864f28c2f74865a473b2911]\n",
       "class E2--><a href=\"psysml:06125bd0-acad-496e-b065-61f119a09466\" target=\"_top\" title=\"psysml:06125bd0-acad-496e-b065-61f119a09466\" xlink:actuate=\"onRequest\" xlink:href=\"psysml:06125bd0-acad-496e-b065-61f119a09466\" xlink:show=\"new\" xlink:title=\"psysml:06125bd0-acad-496e-b065-61f119a09466\" xlink:type=\"simple\"><rect fill=\"#FFFFFF\" height=\"45.9375\" id=\"E2\" style=\"stroke: #383838; stroke-width: 1.5;\" width=\"74\" x=\"178\" y=\"70.5\"/><text fill=\"#000000\" font-family=\"sans-serif\" font-size=\"12\" font-style=\"italic\" lengthAdjust=\"spacingAndGlyphs\" textLength=\"72\" x=\"179\" y=\"86.6387\">«dataType»</text><text fill=\"#000000\" font-family=\"sans-serif\" font-size=\"12\" lengthAdjust=\"spacingAndGlyphs\" textLength=\"27\" x=\"201.5\" y=\"100.6074\">Real</text><line style=\"stroke: #383838; stroke-width: 1.5;\" x1=\"179\" x2=\"251\" y1=\"108.4375\" y2=\"108.4375\"/></a><!--MD5=[09b614a08d8cba4a07c9adeb5e0fee81]\n",
       "class E3--><a href=\"psysml:57586f80-7065-4509-85b2-20f5f1ea1e4c\" target=\"_top\" title=\"psysml:57586f80-7065-4509-85b2-20f5f1ea1e4c\" xlink:actuate=\"onRequest\" xlink:href=\"psysml:57586f80-7065-4509-85b2-20f5f1ea1e4c\" xlink:show=\"new\" xlink:title=\"psysml:57586f80-7065-4509-85b2-20f5f1ea1e4c\" xlink:type=\"simple\"><rect fill=\"#FFFFFF\" height=\"105.1563\" id=\"E3\" style=\"stroke: #383838; stroke-width: 1.5;\" width=\"111\" x=\"31.5\" y=\"41\"/><text fill=\"#000000\" font-family=\"sans-serif\" font-size=\"12\" font-style=\"italic\" lengthAdjust=\"spacingAndGlyphs\" textLength=\"65\" x=\"54.5\" y=\"57.1387\">«item def»</text><text fill=\"#000000\" font-family=\"sans-serif\" font-size=\"12\" lengthAdjust=\"spacingAndGlyphs\" textLength=\"8\" x=\"83\" y=\"71.1074\">C</text><line style=\"stroke: #383838; stroke-width: 1.5;\" x1=\"32.5\" x2=\"141.5\" y1=\"78.9375\" y2=\"78.9375\"/><text fill=\"#000000\" font-family=\"sans-serif\" font-size=\"11\" lengthAdjust=\"spacingAndGlyphs\" textLength=\"38\" x=\"37.5\" y=\"109.9526\">x: Real</text><line style=\"stroke: #383838; stroke-width: 1.0;\" x1=\"32.5\" x2=\"59.5\" y1=\"93.3398\" y2=\"93.3398\"/><text fill=\"#000000\" font-family=\"sans-serif\" font-size=\"11\" lengthAdjust=\"spacingAndGlyphs\" textLength=\"55\" x=\"59.5\" y=\"96.6479\">attributes</text><line style=\"stroke: #383838; stroke-width: 1.0;\" x1=\"114.5\" x2=\"141.5\" y1=\"93.3398\" y2=\"93.3398\"/><text fill=\"#000000\" font-family=\"sans-serif\" font-size=\"11\" lengthAdjust=\"spacingAndGlyphs\" textLength=\"69\" x=\"37.5\" y=\"139.562\">x_constraint</text><line style=\"stroke: #383838; stroke-width: 1.0;\" x1=\"32.5\" x2=\"35.5\" y1=\"122.9492\" y2=\"122.9492\"/><text fill=\"#000000\" font-family=\"sans-serif\" font-size=\"11\" lengthAdjust=\"spacingAndGlyphs\" textLength=\"103\" x=\"35.5\" y=\"126.2573\">assertConstraints</text><line style=\"stroke: #383838; stroke-width: 1.0;\" x1=\"138.5\" x2=\"141.5\" y1=\"122.9492\" y2=\"122.9492\"/></a><text fill=\"#000000\" font-family=\"sans-serif\" font-size=\"14\" lengthAdjust=\"spacingAndGlyphs\" textLength=\"8\" x=\"289\" y=\"72.1982\">c</text><rect fill=\"#383838\" height=\"12\" style=\"stroke: #F8F8F8; stroke-width: 1.5;\" width=\"12\" x=\"287\" y=\"87.5\"/><text fill=\"#000000\" font-family=\"sans-serif\" font-size=\"14\" lengthAdjust=\"spacingAndGlyphs\" textLength=\"38\" x=\"321\" y=\"72.1982\">newX</text><rect fill=\"#383838\" height=\"12\" style=\"stroke: #F8F8F8; stroke-width: 1.5;\" width=\"12\" x=\"334\" y=\"87.5\"/><!--MD5=[65bfd9e2ea8af513ca4648e14345836e]\n",
       "@startuml\r\n",
       "top to bottom direction\r\n",
       "skinparam monochrome true\r\n",
       "skinparam classbackgroundcolor white\r\n",
       "skinparam shadowing false\r\n",
       "skinparam wrapWidth 300\r\n",
       "hide circle\r\n",
       "\r\n",
       "package \"TextualRepresentationTest\" as E1  [[psysml:64ccfe85-4fdd-4bf0-b3db-5945cd262e15 ]]  {\r\n",
       "comp def \"Real\" as E2  <<(T,blue)dataType>> [[psysml:06125bd0-acad-496e-b065-61f119a09466 ]] {\r\n",
       "}\r\n",
       "comp def \"C\" as E3  <<(T,blue)item def>> [[psysml:57586f80-7065-4509-85b2-20f5f1ea1e4c ]] {\r\n",
       "- - attributes - -\r\n",
       "x: Real\r\n",
       "- - assertConstraints - -\r\n",
       "x_constraint\r\n",
       "}\r\n",
       "rec def \"setX\" as E5  <<(T,blue)action def>> [[psysml:8549a337-017f-4e92-9426-82c63ecb1b1e ]] {\r\n",
       "portin \"c\" as E6  [[psysml:aa76399d-9e78-4ecc-80de-8099ee5899a9 ]] \r\n",
       "portin \"newX\" as E7  [[psysml:3135ebc1-3d3a-4206-9f67-d8c3ceb18c3a ]] \r\n",
       "}\r\n",
       "\r\n",
       "}\r\n",
       "@enduml\r\n",
       "\n",
       "PlantUML version 1.2020.13(Sat Jun 13 12:26:38 UTC 2020)\n",
       "(EPL source distribution)\n",
       "Java Runtime: OpenJDK Runtime Environment\n",
       "JVM: OpenJDK 64-Bit Server VM\n",
       "Default Encoding: UTF-8\n",
       "Language: en\n",
       "Country: null\n",
       "--></g></svg>"
      ]
     },
     "execution_count": 50,
     "metadata": {},
     "output_type": "execute_result"
    }
   ],
   "source": [
    "%viz --style=\"TB\" --view=\"MIXED\" \"TextualRepresentationTest\""
   ]
  },
  {
   "cell_type": "code",
   "execution_count": 51,
   "id": "sweet-prerequisite",
   "metadata": {
    "execution": {
     "iopub.execute_input": "2021-03-25T14:19:06.051411Z",
     "iopub.status.busy": "2021-03-25T14:19:06.050752Z",
     "iopub.status.idle": "2021-03-25T14:19:06.481402Z",
     "shell.execute_reply": "2021-03-25T14:19:06.480099Z"
    }
   },
   "outputs": [
    {
     "data": {
      "image/svg+xml": [
       "<?xml version=\"1.0\" encoding=\"UTF-8\" standalone=\"no\"?><svg xmlns=\"http://www.w3.org/2000/svg\" xmlns:xlink=\"http://www.w3.org/1999/xlink\" contentScriptType=\"application/ecmascript\" contentStyleType=\"text/css\" height=\"285px\" preserveAspectRatio=\"none\" style=\"width:432px;height:285px;\" version=\"1.1\" viewBox=\"0 0 432 285\" width=\"432px\" zoomAndPan=\"magnify\"><defs/><g><!--MD5=[fbc87193dbaf4d95561dea2c320d4a47]\n",
       "cluster E1--><a href=\"psysml:64ccfe85-4fdd-4bf0-b3db-5945cd262e15\" target=\"_top\" title=\"psysml:64ccfe85-4fdd-4bf0-b3db-5945cd262e15\" xlink:actuate=\"onRequest\" xlink:href=\"psysml:64ccfe85-4fdd-4bf0-b3db-5945cd262e15\" xlink:show=\"new\" xlink:title=\"psysml:64ccfe85-4fdd-4bf0-b3db-5945cd262e15\" xlink:type=\"simple\"><polygon fill=\"#FFFFFF\" points=\"16,6,236,6,243,28.2969,410,28.2969,410,273,16,273,16,6\" style=\"stroke: #000000; stroke-width: 1.5;\"/><line style=\"stroke: #000000; stroke-width: 1.5;\" x1=\"16\" x2=\"243\" y1=\"28.2969\" y2=\"28.2969\"/><text fill=\"#000000\" font-family=\"sans-serif\" font-size=\"14\" font-weight=\"bold\" lengthAdjust=\"spacingAndGlyphs\" textLength=\"214\" x=\"20\" y=\"20.9951\">TextualRepresentationTest</text></a><!--MD5=[de5ec2e2e8f62f467e546659f5068c88]\n",
       "cluster E5--><a href=\"psysml:8549a337-017f-4e92-9426-82c63ecb1b1e\" target=\"_top\" title=\"psysml:8549a337-017f-4e92-9426-82c63ecb1b1e\" xlink:actuate=\"onRequest\" xlink:href=\"psysml:8549a337-017f-4e92-9426-82c63ecb1b1e\" xlink:show=\"new\" xlink:title=\"psysml:8549a337-017f-4e92-9426-82c63ecb1b1e\" xlink:type=\"simple\"><rect fill=\"#FFFFFF\" height=\"163.5\" id=\"E5\" style=\"stroke: #383838; stroke-width: 1.5;\" width=\"96\" x=\"268.5\" y=\"93.5\"/><rect fill=\"#F8F8F8\" height=\"37.9375\" style=\"stroke: #383838; stroke-width: 1.5;\" width=\"96\" x=\"268.5\" y=\"93.5\"/><text fill=\"#000000\" font-family=\"sans-serif\" font-size=\"12\" font-style=\"italic\" lengthAdjust=\"spacingAndGlyphs\" textLength=\"77\" x=\"278\" y=\"109.6387\">«action def»</text><text fill=\"#000000\" font-family=\"sans-serif\" font-size=\"12\" lengthAdjust=\"spacingAndGlyphs\" textLength=\"27\" x=\"303\" y=\"123.6074\">setX</text></a><!--MD5=[b4997ac47864f28c2f74865a473b2911]\n",
       "class E2--><a href=\"psysml:06125bd0-acad-496e-b065-61f119a09466\" target=\"_top\" title=\"psysml:06125bd0-acad-496e-b065-61f119a09466\" xlink:actuate=\"onRequest\" xlink:href=\"psysml:06125bd0-acad-496e-b065-61f119a09466\" xlink:show=\"new\" xlink:title=\"psysml:06125bd0-acad-496e-b065-61f119a09466\" xlink:type=\"simple\"><rect fill=\"#FFFFFF\" height=\"45.9375\" id=\"E2\" style=\"stroke: #383838; stroke-width: 1.5;\" width=\"74\" x=\"178\" y=\"70.5\"/><text fill=\"#000000\" font-family=\"sans-serif\" font-size=\"12\" font-style=\"italic\" lengthAdjust=\"spacingAndGlyphs\" textLength=\"72\" x=\"179\" y=\"86.6387\">«dataType»</text><text fill=\"#000000\" font-family=\"sans-serif\" font-size=\"12\" lengthAdjust=\"spacingAndGlyphs\" textLength=\"27\" x=\"201.5\" y=\"100.6074\">Real</text><line style=\"stroke: #383838; stroke-width: 1.5;\" x1=\"179\" x2=\"251\" y1=\"108.4375\" y2=\"108.4375\"/></a><!--MD5=[09b614a08d8cba4a07c9adeb5e0fee81]\n",
       "class E3--><a href=\"psysml:57586f80-7065-4509-85b2-20f5f1ea1e4c\" target=\"_top\" title=\"psysml:57586f80-7065-4509-85b2-20f5f1ea1e4c\" xlink:actuate=\"onRequest\" xlink:href=\"psysml:57586f80-7065-4509-85b2-20f5f1ea1e4c\" xlink:show=\"new\" xlink:title=\"psysml:57586f80-7065-4509-85b2-20f5f1ea1e4c\" xlink:type=\"simple\"><rect fill=\"#FFFFFF\" height=\"105.1563\" id=\"E3\" style=\"stroke: #383838; stroke-width: 1.5;\" width=\"111\" x=\"31.5\" y=\"41\"/><text fill=\"#000000\" font-family=\"sans-serif\" font-size=\"12\" font-style=\"italic\" lengthAdjust=\"spacingAndGlyphs\" textLength=\"65\" x=\"54.5\" y=\"57.1387\">«item def»</text><text fill=\"#000000\" font-family=\"sans-serif\" font-size=\"12\" lengthAdjust=\"spacingAndGlyphs\" textLength=\"8\" x=\"83\" y=\"71.1074\">C</text><line style=\"stroke: #383838; stroke-width: 1.5;\" x1=\"32.5\" x2=\"141.5\" y1=\"78.9375\" y2=\"78.9375\"/><text fill=\"#000000\" font-family=\"sans-serif\" font-size=\"11\" lengthAdjust=\"spacingAndGlyphs\" textLength=\"38\" x=\"37.5\" y=\"109.9526\">x: Real</text><line style=\"stroke: #383838; stroke-width: 1.0;\" x1=\"32.5\" x2=\"59.5\" y1=\"93.3398\" y2=\"93.3398\"/><text fill=\"#000000\" font-family=\"sans-serif\" font-size=\"11\" lengthAdjust=\"spacingAndGlyphs\" textLength=\"55\" x=\"59.5\" y=\"96.6479\">attributes</text><line style=\"stroke: #383838; stroke-width: 1.0;\" x1=\"114.5\" x2=\"141.5\" y1=\"93.3398\" y2=\"93.3398\"/><text fill=\"#000000\" font-family=\"sans-serif\" font-size=\"11\" lengthAdjust=\"spacingAndGlyphs\" textLength=\"69\" x=\"37.5\" y=\"139.562\">x_constraint</text><line style=\"stroke: #383838; stroke-width: 1.0;\" x1=\"32.5\" x2=\"35.5\" y1=\"122.9492\" y2=\"122.9492\"/><text fill=\"#000000\" font-family=\"sans-serif\" font-size=\"11\" lengthAdjust=\"spacingAndGlyphs\" textLength=\"103\" x=\"35.5\" y=\"126.2573\">assertConstraints</text><line style=\"stroke: #383838; stroke-width: 1.0;\" x1=\"138.5\" x2=\"141.5\" y1=\"122.9492\" y2=\"122.9492\"/></a><text fill=\"#000000\" font-family=\"sans-serif\" font-size=\"14\" lengthAdjust=\"spacingAndGlyphs\" textLength=\"8\" x=\"289\" y=\"72.1982\">c</text><rect fill=\"#383838\" height=\"12\" style=\"stroke: #F8F8F8; stroke-width: 1.5;\" width=\"12\" x=\"287\" y=\"87.5\"/><text fill=\"#000000\" font-family=\"sans-serif\" font-size=\"14\" lengthAdjust=\"spacingAndGlyphs\" textLength=\"38\" x=\"321\" y=\"72.1982\">newX</text><rect fill=\"#383838\" height=\"12\" style=\"stroke: #F8F8F8; stroke-width: 1.5;\" width=\"12\" x=\"334\" y=\"87.5\"/><!--MD5=[5dcbb76d5bcb9c579a7ab13f06b75242]\n",
       "@startuml\r\n",
       "skinparam linetype ortho\r\n",
       "skinparam monochrome true\r\n",
       "skinparam classbackgroundcolor white\r\n",
       "skinparam shadowing false\r\n",
       "skinparam wrapWidth 300\r\n",
       "hide circle\r\n",
       "\r\n",
       "package \"TextualRepresentationTest\" as E1  [[psysml:64ccfe85-4fdd-4bf0-b3db-5945cd262e15 ]]  {\r\n",
       "comp def \"Real\" as E2  <<(T,blue)dataType>> [[psysml:06125bd0-acad-496e-b065-61f119a09466 ]] {\r\n",
       "}\r\n",
       "comp def \"C\" as E3  <<(T,blue)item def>> [[psysml:57586f80-7065-4509-85b2-20f5f1ea1e4c ]] {\r\n",
       "- - attributes - -\r\n",
       "x: Real\r\n",
       "- - assertConstraints - -\r\n",
       "x_constraint\r\n",
       "}\r\n",
       "rec def \"setX\" as E5  <<(T,blue)action def>> [[psysml:8549a337-017f-4e92-9426-82c63ecb1b1e ]] {\r\n",
       "portin \"c\" as E6  [[psysml:aa76399d-9e78-4ecc-80de-8099ee5899a9 ]] \r\n",
       "portin \"newX\" as E7  [[psysml:3135ebc1-3d3a-4206-9f67-d8c3ceb18c3a ]] \r\n",
       "}\r\n",
       "\r\n",
       "}\r\n",
       "@enduml\r\n",
       "\n",
       "PlantUML version 1.2020.13(Sat Jun 13 12:26:38 UTC 2020)\n",
       "(EPL source distribution)\n",
       "Java Runtime: OpenJDK Runtime Environment\n",
       "JVM: OpenJDK 64-Bit Server VM\n",
       "Default Encoding: UTF-8\n",
       "Language: en\n",
       "Country: null\n",
       "--></g></svg>"
      ]
     },
     "execution_count": 51,
     "metadata": {},
     "output_type": "execute_result"
    }
   ],
   "source": [
    "%viz --style=\"ORTHOLINE\" --view=\"Default\" \"TextualRepresentationTest\""
   ]
  },
  {
   "cell_type": "code",
   "execution_count": 52,
   "id": "excess-fifth",
   "metadata": {
    "execution": {
     "iopub.execute_input": "2021-03-25T14:19:06.531177Z",
     "iopub.status.busy": "2021-03-25T14:19:06.530727Z",
     "iopub.status.idle": "2021-03-25T14:19:06.937586Z",
     "shell.execute_reply": "2021-03-25T14:19:06.935400Z"
    }
   },
   "outputs": [
    {
     "data": {
      "image/svg+xml": [
       "<?xml version=\"1.0\" encoding=\"UTF-8\" standalone=\"no\"?><svg xmlns=\"http://www.w3.org/2000/svg\" xmlns:xlink=\"http://www.w3.org/1999/xlink\" contentScriptType=\"application/ecmascript\" contentStyleType=\"text/css\" height=\"297px\" preserveAspectRatio=\"none\" style=\"width:290px;height:297px;\" version=\"1.1\" viewBox=\"0 0 290 297\" width=\"290px\" zoomAndPan=\"magnify\"><defs/><g><!--MD5=[fbc87193dbaf4d95561dea2c320d4a47]\n",
       "cluster E1--><a href=\"psysml:64ccfe85-4fdd-4bf0-b3db-5945cd262e15\" target=\"_top\" title=\"psysml:64ccfe85-4fdd-4bf0-b3db-5945cd262e15\" xlink:actuate=\"onRequest\" xlink:href=\"psysml:64ccfe85-4fdd-4bf0-b3db-5945cd262e15\" xlink:show=\"new\" xlink:title=\"psysml:64ccfe85-4fdd-4bf0-b3db-5945cd262e15\" xlink:type=\"simple\"><polygon fill=\"#FFFFFF\" points=\"16,6,236,6,243,28.2969,268,28.2969,268,285,16,285,16,6\" style=\"stroke: #000000; stroke-width: 1.5;\"/><line style=\"stroke: #000000; stroke-width: 1.5;\" x1=\"16\" x2=\"243\" y1=\"28.2969\" y2=\"28.2969\"/><text fill=\"#000000\" font-family=\"sans-serif\" font-size=\"14\" font-weight=\"bold\" lengthAdjust=\"spacingAndGlyphs\" textLength=\"214\" x=\"20\" y=\"20.9951\">TextualRepresentationTest</text></a><!--MD5=[b4997ac47864f28c2f74865a473b2911]\n",
       "class E2--><a href=\"psysml:06125bd0-acad-496e-b065-61f119a09466\" target=\"_top\" title=\"psysml:06125bd0-acad-496e-b065-61f119a09466\" xlink:actuate=\"onRequest\" xlink:href=\"psysml:06125bd0-acad-496e-b065-61f119a09466\" xlink:show=\"new\" xlink:title=\"psysml:06125bd0-acad-496e-b065-61f119a09466\" xlink:type=\"simple\"><rect fill=\"#FFFFFF\" height=\"45.9375\" id=\"E2\" style=\"stroke: #383838; stroke-width: 1.5;\" width=\"74\" x=\"32\" y=\"193.5\"/><text fill=\"#000000\" font-family=\"sans-serif\" font-size=\"12\" font-style=\"italic\" lengthAdjust=\"spacingAndGlyphs\" textLength=\"72\" x=\"33\" y=\"209.6387\">«dataType»</text><text fill=\"#000000\" font-family=\"sans-serif\" font-size=\"12\" lengthAdjust=\"spacingAndGlyphs\" textLength=\"27\" x=\"55.5\" y=\"223.6074\">Real</text><line style=\"stroke: #383838; stroke-width: 1.5;\" x1=\"33\" x2=\"105\" y1=\"231.4375\" y2=\"231.4375\"/></a><!--MD5=[09b614a08d8cba4a07c9adeb5e0fee81]\n",
       "class E3--><a href=\"psysml:57586f80-7065-4509-85b2-20f5f1ea1e4c\" target=\"_top\" title=\"psysml:57586f80-7065-4509-85b2-20f5f1ea1e4c\" xlink:actuate=\"onRequest\" xlink:href=\"psysml:57586f80-7065-4509-85b2-20f5f1ea1e4c\" xlink:show=\"new\" xlink:title=\"psysml:57586f80-7065-4509-85b2-20f5f1ea1e4c\" xlink:type=\"simple\"><rect fill=\"#FFFFFF\" height=\"105.1563\" id=\"E3\" style=\"stroke: #383838; stroke-width: 1.5;\" width=\"111\" x=\"141.5\" y=\"164\"/><text fill=\"#000000\" font-family=\"sans-serif\" font-size=\"12\" font-style=\"italic\" lengthAdjust=\"spacingAndGlyphs\" textLength=\"65\" x=\"164.5\" y=\"180.1387\">«item def»</text><text fill=\"#000000\" font-family=\"sans-serif\" font-size=\"12\" lengthAdjust=\"spacingAndGlyphs\" textLength=\"8\" x=\"193\" y=\"194.1074\">C</text><line style=\"stroke: #383838; stroke-width: 1.5;\" x1=\"142.5\" x2=\"251.5\" y1=\"201.9375\" y2=\"201.9375\"/><text fill=\"#000000\" font-family=\"sans-serif\" font-size=\"11\" lengthAdjust=\"spacingAndGlyphs\" textLength=\"38\" x=\"147.5\" y=\"232.9526\">x: Real</text><line style=\"stroke: #383838; stroke-width: 1.0;\" x1=\"142.5\" x2=\"169.5\" y1=\"216.3398\" y2=\"216.3398\"/><text fill=\"#000000\" font-family=\"sans-serif\" font-size=\"11\" lengthAdjust=\"spacingAndGlyphs\" textLength=\"55\" x=\"169.5\" y=\"219.6479\">attributes</text><line style=\"stroke: #383838; stroke-width: 1.0;\" x1=\"224.5\" x2=\"251.5\" y1=\"216.3398\" y2=\"216.3398\"/><text fill=\"#000000\" font-family=\"sans-serif\" font-size=\"11\" lengthAdjust=\"spacingAndGlyphs\" textLength=\"69\" x=\"147.5\" y=\"262.562\">x_constraint</text><line style=\"stroke: #383838; stroke-width: 1.0;\" x1=\"142.5\" x2=\"145.5\" y1=\"245.9492\" y2=\"245.9492\"/><text fill=\"#000000\" font-family=\"sans-serif\" font-size=\"11\" lengthAdjust=\"spacingAndGlyphs\" textLength=\"103\" x=\"145.5\" y=\"249.2573\">assertConstraints</text><line style=\"stroke: #383838; stroke-width: 1.0;\" x1=\"248.5\" x2=\"251.5\" y1=\"245.9492\" y2=\"245.9492\"/></a><!--MD5=[270fce915f116d4de14055a7c1d9a0f3]\n",
       "class E5--><a href=\"psysml:8549a337-017f-4e92-9426-82c63ecb1b1e\" target=\"_top\" title=\"psysml:8549a337-017f-4e92-9426-82c63ecb1b1e\" xlink:actuate=\"onRequest\" xlink:href=\"psysml:8549a337-017f-4e92-9426-82c63ecb1b1e\" xlink:show=\"new\" xlink:title=\"psysml:8549a337-017f-4e92-9426-82c63ecb1b1e\" xlink:type=\"simple\"><rect fill=\"#FFFFFF\" height=\"45.9375\" id=\"E5\" style=\"stroke: #383838; stroke-width: 1.5;\" width=\"79\" x=\"67.5\" y=\"41\"/><text fill=\"#000000\" font-family=\"sans-serif\" font-size=\"12\" font-style=\"italic\" lengthAdjust=\"spacingAndGlyphs\" textLength=\"77\" x=\"68.5\" y=\"57.1387\">«action def»</text><text fill=\"#000000\" font-family=\"sans-serif\" font-size=\"12\" lengthAdjust=\"spacingAndGlyphs\" textLength=\"27\" x=\"93.5\" y=\"71.1074\">setX</text><line style=\"stroke: #383838; stroke-width: 1.5;\" x1=\"68.5\" x2=\"145.5\" y1=\"78.9375\" y2=\"78.9375\"/></a><!--MD5=[6f107eb264eda4b26325f39a5516f1f3]\n",
       "reverse link E5 to E3--><a href=\"psysml:aa76399d-9e78-4ecc-80de-8099ee5899a9\" target=\"_top\" title=\"psysml:aa76399d-9e78-4ecc-80de-8099ee5899a9\" xlink:actuate=\"onRequest\" xlink:href=\"psysml:aa76399d-9e78-4ecc-80de-8099ee5899a9\" xlink:show=\"new\" xlink:title=\"psysml:aa76399d-9e78-4ecc-80de-8099ee5899a9\" xlink:type=\"simple\"><path d=\"M123.75,100.27 C123.75,100.27 123.75,179 123.75,179 C123.75,179 131.27,179 141.48,179 \" fill=\"none\" id=\"E5&lt;-E3\" style=\"stroke: #383838; stroke-width: 1.0;\"/><polygon fill=\"#FFFFFF\" points=\"123.75,87.27,119.75,93.27,123.75,99.27,127.75,93.27,123.75,87.27\" style=\"stroke: #383838; stroke-width: 1.0;\"/><text fill=\"#000000\" font-family=\"sans-serif\" font-size=\"13\" lengthAdjust=\"spacingAndGlyphs\" textLength=\"7\" x=\"184\" y=\"130.0669\">c</text></a><!--MD5=[f51c6d1f1856fe338ac0413483fb1ccf]\n",
       "reverse link E5 to E2--><a href=\"psysml:3135ebc1-3d3a-4206-9f67-d8c3ceb18c3a\" target=\"_top\" title=\"psysml:3135ebc1-3d3a-4206-9f67-d8c3ceb18c3a\" xlink:actuate=\"onRequest\" xlink:href=\"psysml:3135ebc1-3d3a-4206-9f67-d8c3ceb18c3a\" xlink:show=\"new\" xlink:title=\"psysml:3135ebc1-3d3a-4206-9f67-d8c3ceb18c3a\" xlink:type=\"simple\"><path d=\"M86.75,100.16 C86.75,100.16 86.75,193.12 86.75,193.12 \" fill=\"none\" id=\"E5&lt;-E2\" style=\"stroke: #383838; stroke-width: 1.0;\"/><polygon fill=\"#FFFFFF\" points=\"86.75,87.16,82.75,93.16,86.75,99.16,90.75,93.16,86.75,87.16\" style=\"stroke: #383838; stroke-width: 1.0;\"/><text fill=\"#000000\" font-family=\"sans-serif\" font-size=\"13\" lengthAdjust=\"spacingAndGlyphs\" textLength=\"33\" x=\"83\" y=\"130.0669\">newX</text></a><!--MD5=[d62316a9e0a13fa6fb03d0d52aa09fb3]\n",
       "@startuml\r\n",
       "skinparam linetype ortho\r\n",
       "skinparam monochrome true\r\n",
       "skinparam classbackgroundcolor white\r\n",
       "skinparam shadowing false\r\n",
       "skinparam wrapWidth 300\r\n",
       "hide circle\r\n",
       "\r\n",
       "package \"TextualRepresentationTest\" as E1  [[psysml:64ccfe85-4fdd-4bf0-b3db-5945cd262e15 ]]  {\r\n",
       "comp def \"Real\" as E2  <<(T,blue)dataType>> [[psysml:06125bd0-acad-496e-b065-61f119a09466 ]] {\r\n",
       "}\r\n",
       "comp def \"C\" as E3  <<(T,blue)item def>> [[psysml:57586f80-7065-4509-85b2-20f5f1ea1e4c ]] {\r\n",
       "- - attributes - -\r\n",
       "x: Real\r\n",
       "- - assertConstraints - -\r\n",
       "x_constraint\r\n",
       "}\r\n",
       "comp def \"setX\" as E5  <<(T,blue)action def>> [[psysml:8549a337-017f-4e92-9426-82c63ecb1b1e ]] {\r\n",
       "}\r\n",
       "E5 o- - E3 [[psysml:aa76399d-9e78-4ecc-80de-8099ee5899a9 ]] : c\r\n",
       "E5 o- - E2 [[psysml:3135ebc1-3d3a-4206-9f67-d8c3ceb18c3a ]] : newX\r\n",
       "}\r\n",
       "@enduml\r\n",
       "\n",
       "PlantUML version 1.2020.13(Sat Jun 13 12:26:38 UTC 2020)\n",
       "(EPL source distribution)\n",
       "Java Runtime: OpenJDK Runtime Environment\n",
       "JVM: OpenJDK 64-Bit Server VM\n",
       "Default Encoding: UTF-8\n",
       "Language: en\n",
       "Country: null\n",
       "--></g></svg>"
      ]
     },
     "execution_count": 52,
     "metadata": {},
     "output_type": "execute_result"
    }
   ],
   "source": [
    "%viz --style=\"ORTHOLINE\" --view=\"Tree\" \"TextualRepresentationTest\""
   ]
  },
  {
   "cell_type": "code",
   "execution_count": 53,
   "id": "massive-journalism",
   "metadata": {
    "execution": {
     "iopub.execute_input": "2021-03-25T14:19:06.988046Z",
     "iopub.status.busy": "2021-03-25T14:19:06.987331Z",
     "iopub.status.idle": "2021-03-25T14:19:06.995564Z",
     "shell.execute_reply": "2021-03-25T14:19:06.995178Z"
    }
   },
   "outputs": [
    {
     "data": {
      "image/svg+xml": [
       "<?xml version=\"1.0\" encoding=\"UTF-8\" standalone=\"no\"?><svg xmlns=\"http://www.w3.org/2000/svg\" xmlns:xlink=\"http://www.w3.org/1999/xlink\" contentScriptType=\"application/ecmascript\" contentStyleType=\"text/css\" height=\"12px\" preserveAspectRatio=\"none\" style=\"width:12px;height:12px;\" version=\"1.1\" viewBox=\"0 0 12 12\" width=\"12px\" zoomAndPan=\"magnify\"><defs/><g><!--MD5=[97d6f38768b311333d388e66b2b27985]\n",
       "@startuml\r\n",
       "skinparam linetype ortho\r\n",
       "skinparam monochrome true\r\n",
       "skinparam classbackgroundcolor white\r\n",
       "skinparam shadowing false\r\n",
       "skinparam wrapWidth 300\r\n",
       "hide circle\r\n",
       "\r\n",
       "@enduml\r\n",
       "\n",
       "PlantUML version 1.2020.13(Sat Jun 13 12:26:38 UTC 2020)\n",
       "(EPL source distribution)\n",
       "Java Runtime: OpenJDK Runtime Environment\n",
       "JVM: OpenJDK 64-Bit Server VM\n",
       "Default Encoding: UTF-8\n",
       "Language: en\n",
       "Country: null\n",
       "--></g></svg>"
      ]
     },
     "execution_count": 53,
     "metadata": {},
     "output_type": "execute_result"
    }
   ],
   "source": [
    "%viz --style=\"ORTHOLINE\" --view=\"State\" \"TextualRepresentationTest\""
   ]
  },
  {
   "cell_type": "code",
   "execution_count": 54,
   "id": "collect-member",
   "metadata": {
    "execution": {
     "iopub.execute_input": "2021-03-25T14:19:07.046745Z",
     "iopub.status.busy": "2021-03-25T14:19:07.046159Z",
     "iopub.status.idle": "2021-03-25T14:19:07.133609Z",
     "shell.execute_reply": "2021-03-25T14:19:07.133251Z"
    }
   },
   "outputs": [
    {
     "data": {
      "image/svg+xml": [
       "<?xml version=\"1.0\" encoding=\"UTF-8\" standalone=\"no\"?><svg xmlns=\"http://www.w3.org/2000/svg\" xmlns:xlink=\"http://www.w3.org/1999/xlink\" contentScriptType=\"application/ecmascript\" contentStyleType=\"text/css\" height=\"179px\" preserveAspectRatio=\"none\" style=\"width:398px;height:179px;\" version=\"1.1\" viewBox=\"0 0 398 179\" width=\"398px\" zoomAndPan=\"magnify\"><defs/><g><!--MD5=[fbc87193dbaf4d95561dea2c320d4a47]\n",
       "cluster E1--><a href=\"psysml:64ccfe85-4fdd-4bf0-b3db-5945cd262e15\" target=\"_top\" title=\"psysml:64ccfe85-4fdd-4bf0-b3db-5945cd262e15\" xlink:actuate=\"onRequest\" xlink:href=\"psysml:64ccfe85-4fdd-4bf0-b3db-5945cd262e15\" xlink:show=\"new\" xlink:title=\"psysml:64ccfe85-4fdd-4bf0-b3db-5945cd262e15\" xlink:type=\"simple\"><polygon fill=\"#FFFFFF\" points=\"16,6,236,6,243,28.2969,376,28.2969,376,167,16,167,16,6\" style=\"stroke: #000000; stroke-width: 1.5;\"/><line style=\"stroke: #000000; stroke-width: 1.5;\" x1=\"16\" x2=\"243\" y1=\"28.2969\" y2=\"28.2969\"/><text fill=\"#000000\" font-family=\"sans-serif\" font-size=\"14\" font-weight=\"bold\" lengthAdjust=\"spacingAndGlyphs\" textLength=\"214\" x=\"20\" y=\"20.9951\">TextualRepresentationTest</text></a><!--MD5=[f6df4d0ebaf0b5dfb2ced0ae5af7c670]\n",
       "cluster E4--><a href=\"psysml:8549a337-017f-4e92-9426-82c63ecb1b1e\" target=\"_top\" title=\"psysml:8549a337-017f-4e92-9426-82c63ecb1b1e\" xlink:actuate=\"onRequest\" xlink:href=\"psysml:8549a337-017f-4e92-9426-82c63ecb1b1e\" xlink:show=\"new\" xlink:title=\"psysml:8549a337-017f-4e92-9426-82c63ecb1b1e\" xlink:type=\"simple\"><rect fill=\"#FFFFFF\" height=\"88.5\" id=\"E4\" style=\"stroke: #383838; stroke-width: 1.5;\" width=\"96\" x=\"235.5\" y=\"62.5\"/><rect fill=\"#F8F8F8\" height=\"37.9375\" style=\"stroke: #383838; stroke-width: 1.5;\" width=\"96\" x=\"235.5\" y=\"62.5\"/><text fill=\"#000000\" font-family=\"sans-serif\" font-size=\"12\" font-style=\"italic\" lengthAdjust=\"spacingAndGlyphs\" textLength=\"77\" x=\"245\" y=\"78.6387\">«action def»</text><text fill=\"#000000\" font-family=\"sans-serif\" font-size=\"12\" lengthAdjust=\"spacingAndGlyphs\" textLength=\"27\" x=\"270\" y=\"92.6074\">setX</text></a><g id=\"E1.E2\"><a href=\"psysml:06125bd0-acad-496e-b065-61f119a09466\" target=\"_top\" title=\"psysml:06125bd0-acad-496e-b065-61f119a09466\" xlink:actuate=\"onRequest\" xlink:href=\"psysml:06125bd0-acad-496e-b065-61f119a09466\" xlink:show=\"new\" xlink:title=\"psysml:06125bd0-acad-496e-b065-61f119a09466\" xlink:type=\"simple\"><rect fill=\"#FFFFFF\" height=\"42.9375\" id=\"E2\" style=\"stroke: #383838; stroke-width: 1.5;\" width=\"79\" x=\"139.5\" y=\"41\"/><rect fill=\"#F8F8F8\" height=\"37.9375\" style=\"stroke: #383838; stroke-width: 1.5;\" width=\"79\" x=\"139.5\" y=\"41\"/><text fill=\"#000000\" font-family=\"sans-serif\" font-size=\"12\" font-style=\"italic\" lengthAdjust=\"spacingAndGlyphs\" textLength=\"72\" x=\"143\" y=\"57.1387\">«dataType»</text><text fill=\"#000000\" font-family=\"sans-serif\" font-size=\"12\" lengthAdjust=\"spacingAndGlyphs\" textLength=\"27\" x=\"165.5\" y=\"71.1074\">Real</text></a></g><g id=\"E1.E3\"><a href=\"psysml:57586f80-7065-4509-85b2-20f5f1ea1e4c\" target=\"_top\" title=\"psysml:57586f80-7065-4509-85b2-20f5f1ea1e4c\" xlink:actuate=\"onRequest\" xlink:href=\"psysml:57586f80-7065-4509-85b2-20f5f1ea1e4c\" xlink:show=\"new\" xlink:title=\"psysml:57586f80-7065-4509-85b2-20f5f1ea1e4c\" xlink:type=\"simple\"><rect fill=\"#FFFFFF\" height=\"42.9375\" id=\"E3\" style=\"stroke: #383838; stroke-width: 1.5;\" width=\"72\" x=\"32\" y=\"41\"/><rect fill=\"#F8F8F8\" height=\"37.9375\" style=\"stroke: #383838; stroke-width: 1.5;\" width=\"72\" x=\"32\" y=\"41\"/><text fill=\"#000000\" font-family=\"sans-serif\" font-size=\"12\" font-style=\"italic\" lengthAdjust=\"spacingAndGlyphs\" textLength=\"65\" x=\"35.5\" y=\"57.1387\">«item def»</text><text fill=\"#000000\" font-family=\"sans-serif\" font-size=\"12\" lengthAdjust=\"spacingAndGlyphs\" textLength=\"8\" x=\"64\" y=\"71.1074\">C</text></a></g><text fill=\"#000000\" font-family=\"sans-serif\" font-size=\"14\" lengthAdjust=\"spacingAndGlyphs\" textLength=\"8\" x=\"256\" y=\"41.1982\">c</text><rect fill=\"#383838\" height=\"12\" style=\"stroke: #F8F8F8; stroke-width: 1.5;\" width=\"12\" x=\"254\" y=\"56.5\"/><text fill=\"#000000\" font-family=\"sans-serif\" font-size=\"14\" lengthAdjust=\"spacingAndGlyphs\" textLength=\"38\" x=\"288\" y=\"41.1982\">newX</text><rect fill=\"#383838\" height=\"12\" style=\"stroke: #F8F8F8; stroke-width: 1.5;\" width=\"12\" x=\"301\" y=\"56.5\"/><!--MD5=[20ead38173bc606d4ef0936956d1657b]\n",
       "@startuml\r\n",
       "skinparam ranksep 10\r\n",
       "skinparam rectangle {\r\n",
       " backgroundColor<<block>> LightGreen\r\n",
       "}\r\n",
       "skinparam linetype ortho\r\n",
       "skinparam monochrome true\r\n",
       "skinparam classbackgroundcolor white\r\n",
       "skinparam shadowing false\r\n",
       "skinparam wrapWidth 300\r\n",
       "hide circle\r\n",
       "\r\n",
       "package \"TextualRepresentationTest\" as E1  [[psysml:64ccfe85-4fdd-4bf0-b3db-5945cd262e15 ]]  {\r\n",
       "def \"Real\" as E2  <<(T,blue)dataType>> [[psysml:06125bd0-acad-496e-b065-61f119a09466 ]] \r\n",
       "def \"C\" as E3  <<(T,blue)item def>> [[psysml:57586f80-7065-4509-85b2-20f5f1ea1e4c ]] \r\n",
       "rec def \"setX\" as E4  <<(T,blue)action def>> [[psysml:8549a337-017f-4e92-9426-82c63ecb1b1e ]] {\r\n",
       "portin \"c\" as E5  [[psysml:aa76399d-9e78-4ecc-80de-8099ee5899a9 ]] \r\n",
       "portin \"newX\" as E6  [[psysml:3135ebc1-3d3a-4206-9f67-d8c3ceb18c3a ]] \r\n",
       "}\r\n",
       "\r\n",
       "}\r\n",
       "@enduml\r\n",
       "\n",
       "PlantUML version 1.2020.13(Sat Jun 13 12:26:38 UTC 2020)\n",
       "(EPL source distribution)\n",
       "Java Runtime: OpenJDK Runtime Environment\n",
       "JVM: OpenJDK 64-Bit Server VM\n",
       "Default Encoding: UTF-8\n",
       "Language: en\n",
       "Country: null\n",
       "--></g></svg>"
      ]
     },
     "execution_count": 54,
     "metadata": {},
     "output_type": "execute_result"
    }
   ],
   "source": [
    "%viz --style=\"ORTHOLINE\" --view=\"Interconnection\" \"TextualRepresentationTest\""
   ]
  },
  {
   "cell_type": "code",
   "execution_count": 55,
   "id": "tribal-grounds",
   "metadata": {
    "execution": {
     "iopub.execute_input": "2021-03-25T14:19:07.183927Z",
     "iopub.status.busy": "2021-03-25T14:19:07.183303Z",
     "iopub.status.idle": "2021-03-25T14:19:07.242200Z",
     "shell.execute_reply": "2021-03-25T14:19:07.241850Z"
    }
   },
   "outputs": [
    {
     "data": {
      "image/svg+xml": [
       "<?xml version=\"1.0\" encoding=\"UTF-8\" standalone=\"no\"?><svg xmlns=\"http://www.w3.org/2000/svg\" xmlns:xlink=\"http://www.w3.org/1999/xlink\" contentScriptType=\"application/ecmascript\" contentStyleType=\"text/css\" height=\"126px\" preserveAspectRatio=\"none\" style=\"width:150px;height:126px;\" version=\"1.1\" viewBox=\"0 0 150 126\" width=\"150px\" zoomAndPan=\"magnify\"><defs/><g><!--MD5=[fbc87193dbaf4d95561dea2c320d4a47]\n",
       "cluster E1--><a href=\"psysml:8549a337-017f-4e92-9426-82c63ecb1b1e\" target=\"_top\" title=\"psysml:8549a337-017f-4e92-9426-82c63ecb1b1e\" xlink:actuate=\"onRequest\" xlink:href=\"psysml:8549a337-017f-4e92-9426-82c63ecb1b1e\" xlink:show=\"new\" xlink:title=\"psysml:8549a337-017f-4e92-9426-82c63ecb1b1e\" xlink:type=\"simple\"><rect fill=\"#FFFFFF\" height=\"73\" id=\"E1\" style=\"stroke: #383838; stroke-width: 1.5;\" width=\"132\" x=\"7\" y=\"42.0986\"/><rect fill=\"#F8F8F8\" height=\"37.9375\" style=\"stroke: #383838; stroke-width: 1.5;\" width=\"132\" x=\"7\" y=\"42.0986\"/><text fill=\"#000000\" font-family=\"sans-serif\" font-size=\"12\" font-style=\"italic\" lengthAdjust=\"spacingAndGlyphs\" textLength=\"77\" x=\"34.5\" y=\"58.2373\">«action def»</text><text fill=\"#000000\" font-family=\"sans-serif\" font-size=\"12\" lengthAdjust=\"spacingAndGlyphs\" textLength=\"27\" x=\"59.5\" y=\"72.2061\">setX</text></a><text fill=\"#000000\" font-family=\"sans-serif\" font-size=\"14\" lengthAdjust=\"spacingAndGlyphs\" textLength=\"8\" x=\"21\" y=\"20.7969\">c</text><rect fill=\"#383838\" height=\"12\" style=\"stroke: #F8F8F8; stroke-width: 1.5;\" width=\"12\" x=\"19\" y=\"36.0986\"/><text fill=\"#000000\" font-family=\"sans-serif\" font-size=\"14\" lengthAdjust=\"spacingAndGlyphs\" textLength=\"38\" x=\"53\" y=\"20.7969\">newX</text><rect fill=\"#383838\" height=\"12\" style=\"stroke: #F8F8F8; stroke-width: 1.5;\" width=\"12\" x=\"66\" y=\"36.0986\"/><!--MD5=[0d6caf47c81289c9f210efe9f1745522]\n",
       "@startuml\r\n",
       "skinparam ranksep 8\r\n",
       "skinparam linetype ortho\r\n",
       "skinparam monochrome true\r\n",
       "skinparam classbackgroundcolor white\r\n",
       "skinparam shadowing false\r\n",
       "skinparam wrapWidth 300\r\n",
       "hide circle\r\n",
       "\r\n",
       "rec def \"setX\" as E1  <<(T,blue)action def>> [[psysml:8549a337-017f-4e92-9426-82c63ecb1b1e ]] {\r\n",
       "portin \"c\" as E2  [[psysml:aa76399d-9e78-4ecc-80de-8099ee5899a9 ]] \r\n",
       "portin \"newX\" as E3  [[psysml:3135ebc1-3d3a-4206-9f67-d8c3ceb18c3a ]] \r\n",
       "}\r\n",
       "\r\n",
       "@enduml\r\n",
       "\n",
       "PlantUML version 1.2020.13(Sat Jun 13 12:26:38 UTC 2020)\n",
       "(EPL source distribution)\n",
       "Java Runtime: OpenJDK Runtime Environment\n",
       "JVM: OpenJDK 64-Bit Server VM\n",
       "Default Encoding: UTF-8\n",
       "Language: en\n",
       "Country: null\n",
       "--></g></svg>"
      ]
     },
     "execution_count": 55,
     "metadata": {},
     "output_type": "execute_result"
    }
   ],
   "source": [
    "%viz --style=\"ORTHOLINE\" --view=\"Action\" \"TextualRepresentationTest\""
   ]
  },
  {
   "cell_type": "code",
   "execution_count": 56,
   "id": "trained-documentation",
   "metadata": {
    "execution": {
     "iopub.execute_input": "2021-03-25T14:19:07.293262Z",
     "iopub.status.busy": "2021-03-25T14:19:07.292639Z",
     "iopub.status.idle": "2021-03-25T14:19:07.699097Z",
     "shell.execute_reply": "2021-03-25T14:19:07.697774Z"
    }
   },
   "outputs": [
    {
     "data": {
      "image/svg+xml": [
       "<?xml version=\"1.0\" encoding=\"UTF-8\" standalone=\"no\"?><svg xmlns=\"http://www.w3.org/2000/svg\" xmlns:xlink=\"http://www.w3.org/1999/xlink\" contentScriptType=\"application/ecmascript\" contentStyleType=\"text/css\" height=\"297px\" preserveAspectRatio=\"none\" style=\"width:290px;height:297px;\" version=\"1.1\" viewBox=\"0 0 290 297\" width=\"290px\" zoomAndPan=\"magnify\"><defs/><g><!--MD5=[fbc87193dbaf4d95561dea2c320d4a47]\n",
       "cluster E1--><a href=\"psysml:64ccfe85-4fdd-4bf0-b3db-5945cd262e15\" target=\"_top\" title=\"psysml:64ccfe85-4fdd-4bf0-b3db-5945cd262e15\" xlink:actuate=\"onRequest\" xlink:href=\"psysml:64ccfe85-4fdd-4bf0-b3db-5945cd262e15\" xlink:show=\"new\" xlink:title=\"psysml:64ccfe85-4fdd-4bf0-b3db-5945cd262e15\" xlink:type=\"simple\"><polygon fill=\"#FFFFFF\" points=\"16,6,236,6,243,28.2969,268,28.2969,268,285,16,285,16,6\" style=\"stroke: #000000; stroke-width: 1.5;\"/><line style=\"stroke: #000000; stroke-width: 1.5;\" x1=\"16\" x2=\"243\" y1=\"28.2969\" y2=\"28.2969\"/><text fill=\"#000000\" font-family=\"sans-serif\" font-size=\"14\" font-weight=\"bold\" lengthAdjust=\"spacingAndGlyphs\" textLength=\"214\" x=\"20\" y=\"20.9951\">TextualRepresentationTest</text></a><!--MD5=[b4997ac47864f28c2f74865a473b2911]\n",
       "class E2--><a href=\"psysml:06125bd0-acad-496e-b065-61f119a09466\" target=\"_top\" title=\"psysml:06125bd0-acad-496e-b065-61f119a09466\" xlink:actuate=\"onRequest\" xlink:href=\"psysml:06125bd0-acad-496e-b065-61f119a09466\" xlink:show=\"new\" xlink:title=\"psysml:06125bd0-acad-496e-b065-61f119a09466\" xlink:type=\"simple\"><rect fill=\"#FFFFFF\" height=\"45.9375\" id=\"E2\" style=\"stroke: #383838; stroke-width: 1.5;\" width=\"74\" x=\"32\" y=\"193.5\"/><text fill=\"#000000\" font-family=\"sans-serif\" font-size=\"12\" font-style=\"italic\" lengthAdjust=\"spacingAndGlyphs\" textLength=\"72\" x=\"33\" y=\"209.6387\">«dataType»</text><text fill=\"#000000\" font-family=\"sans-serif\" font-size=\"12\" lengthAdjust=\"spacingAndGlyphs\" textLength=\"27\" x=\"55.5\" y=\"223.6074\">Real</text><line style=\"stroke: #383838; stroke-width: 1.5;\" x1=\"33\" x2=\"105\" y1=\"231.4375\" y2=\"231.4375\"/></a><!--MD5=[09b614a08d8cba4a07c9adeb5e0fee81]\n",
       "class E3--><a href=\"psysml:57586f80-7065-4509-85b2-20f5f1ea1e4c\" target=\"_top\" title=\"psysml:57586f80-7065-4509-85b2-20f5f1ea1e4c\" xlink:actuate=\"onRequest\" xlink:href=\"psysml:57586f80-7065-4509-85b2-20f5f1ea1e4c\" xlink:show=\"new\" xlink:title=\"psysml:57586f80-7065-4509-85b2-20f5f1ea1e4c\" xlink:type=\"simple\"><rect fill=\"#FFFFFF\" height=\"105.1563\" id=\"E3\" style=\"stroke: #383838; stroke-width: 1.5;\" width=\"111\" x=\"141.5\" y=\"164\"/><text fill=\"#000000\" font-family=\"sans-serif\" font-size=\"12\" font-style=\"italic\" lengthAdjust=\"spacingAndGlyphs\" textLength=\"65\" x=\"164.5\" y=\"180.1387\">«item def»</text><text fill=\"#000000\" font-family=\"sans-serif\" font-size=\"12\" lengthAdjust=\"spacingAndGlyphs\" textLength=\"8\" x=\"193\" y=\"194.1074\">C</text><line style=\"stroke: #383838; stroke-width: 1.5;\" x1=\"142.5\" x2=\"251.5\" y1=\"201.9375\" y2=\"201.9375\"/><text fill=\"#000000\" font-family=\"sans-serif\" font-size=\"11\" lengthAdjust=\"spacingAndGlyphs\" textLength=\"38\" x=\"147.5\" y=\"232.9526\">x: Real</text><line style=\"stroke: #383838; stroke-width: 1.0;\" x1=\"142.5\" x2=\"169.5\" y1=\"216.3398\" y2=\"216.3398\"/><text fill=\"#000000\" font-family=\"sans-serif\" font-size=\"11\" lengthAdjust=\"spacingAndGlyphs\" textLength=\"55\" x=\"169.5\" y=\"219.6479\">attributes</text><line style=\"stroke: #383838; stroke-width: 1.0;\" x1=\"224.5\" x2=\"251.5\" y1=\"216.3398\" y2=\"216.3398\"/><text fill=\"#000000\" font-family=\"sans-serif\" font-size=\"11\" lengthAdjust=\"spacingAndGlyphs\" textLength=\"69\" x=\"147.5\" y=\"262.562\">x_constraint</text><line style=\"stroke: #383838; stroke-width: 1.0;\" x1=\"142.5\" x2=\"145.5\" y1=\"245.9492\" y2=\"245.9492\"/><text fill=\"#000000\" font-family=\"sans-serif\" font-size=\"11\" lengthAdjust=\"spacingAndGlyphs\" textLength=\"103\" x=\"145.5\" y=\"249.2573\">assertConstraints</text><line style=\"stroke: #383838; stroke-width: 1.0;\" x1=\"248.5\" x2=\"251.5\" y1=\"245.9492\" y2=\"245.9492\"/></a><!--MD5=[270fce915f116d4de14055a7c1d9a0f3]\n",
       "class E5--><a href=\"psysml:8549a337-017f-4e92-9426-82c63ecb1b1e\" target=\"_top\" title=\"psysml:8549a337-017f-4e92-9426-82c63ecb1b1e\" xlink:actuate=\"onRequest\" xlink:href=\"psysml:8549a337-017f-4e92-9426-82c63ecb1b1e\" xlink:show=\"new\" xlink:title=\"psysml:8549a337-017f-4e92-9426-82c63ecb1b1e\" xlink:type=\"simple\"><rect fill=\"#FFFFFF\" height=\"45.9375\" id=\"E5\" style=\"stroke: #383838; stroke-width: 1.5;\" width=\"79\" x=\"67.5\" y=\"41\"/><text fill=\"#000000\" font-family=\"sans-serif\" font-size=\"12\" font-style=\"italic\" lengthAdjust=\"spacingAndGlyphs\" textLength=\"77\" x=\"68.5\" y=\"57.1387\">«action def»</text><text fill=\"#000000\" font-family=\"sans-serif\" font-size=\"12\" lengthAdjust=\"spacingAndGlyphs\" textLength=\"27\" x=\"93.5\" y=\"71.1074\">setX</text><line style=\"stroke: #383838; stroke-width: 1.5;\" x1=\"68.5\" x2=\"145.5\" y1=\"78.9375\" y2=\"78.9375\"/></a><!--MD5=[6f107eb264eda4b26325f39a5516f1f3]\n",
       "reverse link E5 to E3--><a href=\"psysml:aa76399d-9e78-4ecc-80de-8099ee5899a9\" target=\"_top\" title=\"psysml:aa76399d-9e78-4ecc-80de-8099ee5899a9\" xlink:actuate=\"onRequest\" xlink:href=\"psysml:aa76399d-9e78-4ecc-80de-8099ee5899a9\" xlink:show=\"new\" xlink:title=\"psysml:aa76399d-9e78-4ecc-80de-8099ee5899a9\" xlink:type=\"simple\"><path d=\"M123.75,100.27 C123.75,100.27 123.75,179 123.75,179 C123.75,179 131.27,179 141.48,179 \" fill=\"none\" id=\"E5&lt;-E3\" style=\"stroke: #383838; stroke-width: 1.0;\"/><polygon fill=\"#FFFFFF\" points=\"123.75,87.27,119.75,93.27,123.75,99.27,127.75,93.27,123.75,87.27\" style=\"stroke: #383838; stroke-width: 1.0;\"/><text fill=\"#000000\" font-family=\"sans-serif\" font-size=\"13\" lengthAdjust=\"spacingAndGlyphs\" textLength=\"7\" x=\"184\" y=\"130.0669\">c</text></a><!--MD5=[f51c6d1f1856fe338ac0413483fb1ccf]\n",
       "reverse link E5 to E2--><a href=\"psysml:3135ebc1-3d3a-4206-9f67-d8c3ceb18c3a\" target=\"_top\" title=\"psysml:3135ebc1-3d3a-4206-9f67-d8c3ceb18c3a\" xlink:actuate=\"onRequest\" xlink:href=\"psysml:3135ebc1-3d3a-4206-9f67-d8c3ceb18c3a\" xlink:show=\"new\" xlink:title=\"psysml:3135ebc1-3d3a-4206-9f67-d8c3ceb18c3a\" xlink:type=\"simple\"><path d=\"M86.75,100.16 C86.75,100.16 86.75,193.12 86.75,193.12 \" fill=\"none\" id=\"E5&lt;-E2\" style=\"stroke: #383838; stroke-width: 1.0;\"/><polygon fill=\"#FFFFFF\" points=\"86.75,87.16,82.75,93.16,86.75,99.16,90.75,93.16,86.75,87.16\" style=\"stroke: #383838; stroke-width: 1.0;\"/><text fill=\"#000000\" font-family=\"sans-serif\" font-size=\"13\" lengthAdjust=\"spacingAndGlyphs\" textLength=\"33\" x=\"83\" y=\"130.0669\">newX</text></a><!--MD5=[d62316a9e0a13fa6fb03d0d52aa09fb3]\n",
       "@startuml\r\n",
       "skinparam linetype ortho\r\n",
       "skinparam monochrome true\r\n",
       "skinparam classbackgroundcolor white\r\n",
       "skinparam shadowing false\r\n",
       "skinparam wrapWidth 300\r\n",
       "hide circle\r\n",
       "\r\n",
       "package \"TextualRepresentationTest\" as E1  [[psysml:64ccfe85-4fdd-4bf0-b3db-5945cd262e15 ]]  {\r\n",
       "comp def \"Real\" as E2  <<(T,blue)dataType>> [[psysml:06125bd0-acad-496e-b065-61f119a09466 ]] {\r\n",
       "}\r\n",
       "comp def \"C\" as E3  <<(T,blue)item def>> [[psysml:57586f80-7065-4509-85b2-20f5f1ea1e4c ]] {\r\n",
       "- - attributes - -\r\n",
       "x: Real\r\n",
       "- - assertConstraints - -\r\n",
       "x_constraint\r\n",
       "}\r\n",
       "comp def \"setX\" as E5  <<(T,blue)action def>> [[psysml:8549a337-017f-4e92-9426-82c63ecb1b1e ]] {\r\n",
       "}\r\n",
       "E5 o- - E3 [[psysml:aa76399d-9e78-4ecc-80de-8099ee5899a9 ]] : c\r\n",
       "E5 o- - E2 [[psysml:3135ebc1-3d3a-4206-9f67-d8c3ceb18c3a ]] : newX\r\n",
       "}\r\n",
       "@enduml\r\n",
       "\n",
       "PlantUML version 1.2020.13(Sat Jun 13 12:26:38 UTC 2020)\n",
       "(EPL source distribution)\n",
       "Java Runtime: OpenJDK Runtime Environment\n",
       "JVM: OpenJDK 64-Bit Server VM\n",
       "Default Encoding: UTF-8\n",
       "Language: en\n",
       "Country: null\n",
       "--></g></svg>"
      ]
     },
     "execution_count": 56,
     "metadata": {},
     "output_type": "execute_result"
    }
   ],
   "source": [
    "%viz --style=\"ORTHOLINE\" --view=\"Sequence\" \"TextualRepresentationTest\""
   ]
  },
  {
   "cell_type": "code",
   "execution_count": 57,
   "id": "requested-windows",
   "metadata": {
    "execution": {
     "iopub.execute_input": "2021-03-25T14:19:07.750522Z",
     "iopub.status.busy": "2021-03-25T14:19:07.749832Z",
     "iopub.status.idle": "2021-03-25T14:19:08.176861Z",
     "shell.execute_reply": "2021-03-25T14:19:08.175551Z"
    }
   },
   "outputs": [
    {
     "data": {
      "image/svg+xml": [
       "<?xml version=\"1.0\" encoding=\"UTF-8\" standalone=\"no\"?><svg xmlns=\"http://www.w3.org/2000/svg\" xmlns:xlink=\"http://www.w3.org/1999/xlink\" contentScriptType=\"application/ecmascript\" contentStyleType=\"text/css\" height=\"285px\" preserveAspectRatio=\"none\" style=\"width:432px;height:285px;\" version=\"1.1\" viewBox=\"0 0 432 285\" width=\"432px\" zoomAndPan=\"magnify\"><defs/><g><!--MD5=[fbc87193dbaf4d95561dea2c320d4a47]\n",
       "cluster E1--><a href=\"psysml:64ccfe85-4fdd-4bf0-b3db-5945cd262e15\" target=\"_top\" title=\"psysml:64ccfe85-4fdd-4bf0-b3db-5945cd262e15\" xlink:actuate=\"onRequest\" xlink:href=\"psysml:64ccfe85-4fdd-4bf0-b3db-5945cd262e15\" xlink:show=\"new\" xlink:title=\"psysml:64ccfe85-4fdd-4bf0-b3db-5945cd262e15\" xlink:type=\"simple\"><polygon fill=\"#FFFFFF\" points=\"16,6,236,6,243,28.2969,410,28.2969,410,273,16,273,16,6\" style=\"stroke: #000000; stroke-width: 1.5;\"/><line style=\"stroke: #000000; stroke-width: 1.5;\" x1=\"16\" x2=\"243\" y1=\"28.2969\" y2=\"28.2969\"/><text fill=\"#000000\" font-family=\"sans-serif\" font-size=\"14\" font-weight=\"bold\" lengthAdjust=\"spacingAndGlyphs\" textLength=\"214\" x=\"20\" y=\"20.9951\">TextualRepresentationTest</text></a><!--MD5=[de5ec2e2e8f62f467e546659f5068c88]\n",
       "cluster E5--><a href=\"psysml:8549a337-017f-4e92-9426-82c63ecb1b1e\" target=\"_top\" title=\"psysml:8549a337-017f-4e92-9426-82c63ecb1b1e\" xlink:actuate=\"onRequest\" xlink:href=\"psysml:8549a337-017f-4e92-9426-82c63ecb1b1e\" xlink:show=\"new\" xlink:title=\"psysml:8549a337-017f-4e92-9426-82c63ecb1b1e\" xlink:type=\"simple\"><rect fill=\"#FFFFFF\" height=\"163.5\" id=\"E5\" style=\"stroke: #383838; stroke-width: 1.5;\" width=\"96\" x=\"268.5\" y=\"93.5\"/><rect fill=\"#F8F8F8\" height=\"37.9375\" style=\"stroke: #383838; stroke-width: 1.5;\" width=\"96\" x=\"268.5\" y=\"93.5\"/><text fill=\"#000000\" font-family=\"sans-serif\" font-size=\"12\" font-style=\"italic\" lengthAdjust=\"spacingAndGlyphs\" textLength=\"77\" x=\"278\" y=\"109.6387\">«action def»</text><text fill=\"#000000\" font-family=\"sans-serif\" font-size=\"12\" lengthAdjust=\"spacingAndGlyphs\" textLength=\"27\" x=\"303\" y=\"123.6074\">setX</text></a><!--MD5=[b4997ac47864f28c2f74865a473b2911]\n",
       "class E2--><a href=\"psysml:06125bd0-acad-496e-b065-61f119a09466\" target=\"_top\" title=\"psysml:06125bd0-acad-496e-b065-61f119a09466\" xlink:actuate=\"onRequest\" xlink:href=\"psysml:06125bd0-acad-496e-b065-61f119a09466\" xlink:show=\"new\" xlink:title=\"psysml:06125bd0-acad-496e-b065-61f119a09466\" xlink:type=\"simple\"><rect fill=\"#FFFFFF\" height=\"45.9375\" id=\"E2\" style=\"stroke: #383838; stroke-width: 1.5;\" width=\"74\" x=\"178\" y=\"70.5\"/><text fill=\"#000000\" font-family=\"sans-serif\" font-size=\"12\" font-style=\"italic\" lengthAdjust=\"spacingAndGlyphs\" textLength=\"72\" x=\"179\" y=\"86.6387\">«dataType»</text><text fill=\"#000000\" font-family=\"sans-serif\" font-size=\"12\" lengthAdjust=\"spacingAndGlyphs\" textLength=\"27\" x=\"201.5\" y=\"100.6074\">Real</text><line style=\"stroke: #383838; stroke-width: 1.5;\" x1=\"179\" x2=\"251\" y1=\"108.4375\" y2=\"108.4375\"/></a><!--MD5=[09b614a08d8cba4a07c9adeb5e0fee81]\n",
       "class E3--><a href=\"psysml:57586f80-7065-4509-85b2-20f5f1ea1e4c\" target=\"_top\" title=\"psysml:57586f80-7065-4509-85b2-20f5f1ea1e4c\" xlink:actuate=\"onRequest\" xlink:href=\"psysml:57586f80-7065-4509-85b2-20f5f1ea1e4c\" xlink:show=\"new\" xlink:title=\"psysml:57586f80-7065-4509-85b2-20f5f1ea1e4c\" xlink:type=\"simple\"><rect fill=\"#FFFFFF\" height=\"105.1563\" id=\"E3\" style=\"stroke: #383838; stroke-width: 1.5;\" width=\"111\" x=\"31.5\" y=\"41\"/><text fill=\"#000000\" font-family=\"sans-serif\" font-size=\"12\" font-style=\"italic\" lengthAdjust=\"spacingAndGlyphs\" textLength=\"65\" x=\"54.5\" y=\"57.1387\">«item def»</text><text fill=\"#000000\" font-family=\"sans-serif\" font-size=\"12\" lengthAdjust=\"spacingAndGlyphs\" textLength=\"8\" x=\"83\" y=\"71.1074\">C</text><line style=\"stroke: #383838; stroke-width: 1.5;\" x1=\"32.5\" x2=\"141.5\" y1=\"78.9375\" y2=\"78.9375\"/><text fill=\"#000000\" font-family=\"sans-serif\" font-size=\"11\" lengthAdjust=\"spacingAndGlyphs\" textLength=\"38\" x=\"37.5\" y=\"109.9526\">x: Real</text><line style=\"stroke: #383838; stroke-width: 1.0;\" x1=\"32.5\" x2=\"59.5\" y1=\"93.3398\" y2=\"93.3398\"/><text fill=\"#000000\" font-family=\"sans-serif\" font-size=\"11\" lengthAdjust=\"spacingAndGlyphs\" textLength=\"55\" x=\"59.5\" y=\"96.6479\">attributes</text><line style=\"stroke: #383838; stroke-width: 1.0;\" x1=\"114.5\" x2=\"141.5\" y1=\"93.3398\" y2=\"93.3398\"/><text fill=\"#000000\" font-family=\"sans-serif\" font-size=\"11\" lengthAdjust=\"spacingAndGlyphs\" textLength=\"69\" x=\"37.5\" y=\"139.562\">x_constraint</text><line style=\"stroke: #383838; stroke-width: 1.0;\" x1=\"32.5\" x2=\"35.5\" y1=\"122.9492\" y2=\"122.9492\"/><text fill=\"#000000\" font-family=\"sans-serif\" font-size=\"11\" lengthAdjust=\"spacingAndGlyphs\" textLength=\"103\" x=\"35.5\" y=\"126.2573\">assertConstraints</text><line style=\"stroke: #383838; stroke-width: 1.0;\" x1=\"138.5\" x2=\"141.5\" y1=\"122.9492\" y2=\"122.9492\"/></a><text fill=\"#000000\" font-family=\"sans-serif\" font-size=\"14\" lengthAdjust=\"spacingAndGlyphs\" textLength=\"8\" x=\"289\" y=\"72.1982\">c</text><rect fill=\"#383838\" height=\"12\" style=\"stroke: #F8F8F8; stroke-width: 1.5;\" width=\"12\" x=\"287\" y=\"87.5\"/><text fill=\"#000000\" font-family=\"sans-serif\" font-size=\"14\" lengthAdjust=\"spacingAndGlyphs\" textLength=\"38\" x=\"321\" y=\"72.1982\">newX</text><rect fill=\"#383838\" height=\"12\" style=\"stroke: #F8F8F8; stroke-width: 1.5;\" width=\"12\" x=\"334\" y=\"87.5\"/><!--MD5=[5dcbb76d5bcb9c579a7ab13f06b75242]\n",
       "@startuml\r\n",
       "skinparam linetype ortho\r\n",
       "skinparam monochrome true\r\n",
       "skinparam classbackgroundcolor white\r\n",
       "skinparam shadowing false\r\n",
       "skinparam wrapWidth 300\r\n",
       "hide circle\r\n",
       "\r\n",
       "package \"TextualRepresentationTest\" as E1  [[psysml:64ccfe85-4fdd-4bf0-b3db-5945cd262e15 ]]  {\r\n",
       "comp def \"Real\" as E2  <<(T,blue)dataType>> [[psysml:06125bd0-acad-496e-b065-61f119a09466 ]] {\r\n",
       "}\r\n",
       "comp def \"C\" as E3  <<(T,blue)item def>> [[psysml:57586f80-7065-4509-85b2-20f5f1ea1e4c ]] {\r\n",
       "- - attributes - -\r\n",
       "x: Real\r\n",
       "- - assertConstraints - -\r\n",
       "x_constraint\r\n",
       "}\r\n",
       "rec def \"setX\" as E5  <<(T,blue)action def>> [[psysml:8549a337-017f-4e92-9426-82c63ecb1b1e ]] {\r\n",
       "portin \"c\" as E6  [[psysml:aa76399d-9e78-4ecc-80de-8099ee5899a9 ]] \r\n",
       "portin \"newX\" as E7  [[psysml:3135ebc1-3d3a-4206-9f67-d8c3ceb18c3a ]] \r\n",
       "}\r\n",
       "\r\n",
       "}\r\n",
       "@enduml\r\n",
       "\n",
       "PlantUML version 1.2020.13(Sat Jun 13 12:26:38 UTC 2020)\n",
       "(EPL source distribution)\n",
       "Java Runtime: OpenJDK Runtime Environment\n",
       "JVM: OpenJDK 64-Bit Server VM\n",
       "Default Encoding: UTF-8\n",
       "Language: en\n",
       "Country: null\n",
       "--></g></svg>"
      ]
     },
     "execution_count": 57,
     "metadata": {},
     "output_type": "execute_result"
    }
   ],
   "source": [
    "%viz --style=\"ORTHOLINE\" --view=\"MIXED\" \"TextualRepresentationTest\""
   ]
  }
 ],
 "metadata": {
  "kernelspec": {
   "display_name": "SysML",
   "language": "sysml",
   "name": "sysml"
  },
  "language_info": {
   "codemirror_mode": "sysml",
   "file_extension": ".sysml",
   "mimetype": "text/x-sysml",
   "name": "SysML",
   "pygments_lexer": "java",
   "version": "1.0.0"
  }
 },
 "nbformat": 4,
 "nbformat_minor": 5
}
