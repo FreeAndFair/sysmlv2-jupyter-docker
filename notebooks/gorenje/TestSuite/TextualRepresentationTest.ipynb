{
 "cells": [
  {
   "cell_type": "markdown",
   "id": "7c76c6a6",
   "metadata": {},
   "source": [
    "# SysML v2 Test Suite\n",
    "\n",
    "This can notebook can be cleared using menu `Edit --> Clear All Outputs` and then all cells can be\n",
    "run using menu `Run --> Run All Cells`.\n",
    "\n",
    "**WARNING**: This file is generated, all modifications here will be ignored.\n"
   ]
  },
  {
   "cell_type": "markdown",
   "id": "f5572ca8",
   "metadata": {},
   "source": [
    "## File: ../../sysml/src/examples/Simple Tests/TextualRepresentationTest.sysml"
   ]
  },
  {
   "cell_type": "code",
   "execution_count": 1,
   "id": "9c093252",
   "metadata": {
    "execution": {
     "iopub.execute_input": "2024-12-16T14:19:24.742232Z",
     "iopub.status.busy": "2024-12-16T14:19:24.741988Z",
     "iopub.status.idle": "2024-12-16T14:19:25.020361Z",
     "shell.execute_reply": "2024-12-16T14:19:25.020177Z"
    }
   },
   "outputs": [
    {
     "data": {
      "text/plain": [
       "Package TextualRepresentationTest (77badc07-b316-4281-ac3a-fbb5ce5d6d5a)\n"
      ]
     },
     "execution_count": 1,
     "metadata": {},
     "output_type": "execute_result"
    }
   ],
   "source": [
    "package TextualRepresentationTest {\n",
    "\tprivate import ScalarValues::Real;\n",
    "\t\n",
    "\titem def C {\n",
    "\t    attribute x: Real;\n",
    "\t    assert constraint x_constraint {\n",
    "\t\t    rep inOCL language \"ocl\" \n",
    "\t\t        /* self.x > 0.0 */\n",
    "\t    }\n",
    "\t}\n",
    "\t\n",
    "\taction def setX {\n",
    "\t\tin c : C;\n",
    "\t\tin newX : Real;\n",
    "\t\t\n",
    "\t    language \"alf\" \n",
    "\t        /* c.x = newX;\n",
    "\t         * WriteLine(\"Set new x\");\n",
    "\t         */\n",
    "\t}\n",
    "\t\n",
    "}"
   ]
  },
  {
   "cell_type": "code",
   "execution_count": 2,
   "id": "4b126abc",
   "metadata": {
    "execution": {
     "iopub.execute_input": "2024-12-16T14:19:25.073449Z",
     "iopub.status.busy": "2024-12-16T14:19:25.073224Z",
     "iopub.status.idle": "2024-12-16T14:19:25.482683Z",
     "shell.execute_reply": "2024-12-16T14:19:25.481943Z"
    }
   },
   "outputs": [
    {
     "data": {
      "image/svg+xml": [
       "<?xml version=\"1.0\" encoding=\"UTF-8\" standalone=\"no\"?><svg xmlns=\"http://www.w3.org/2000/svg\" xmlns:xlink=\"http://www.w3.org/1999/xlink\" contentStyleType=\"text/css\" height=\"256px\" preserveAspectRatio=\"none\" style=\"width:346px;height:256px;background:#FFFFFF;\" version=\"1.1\" viewBox=\"0 0 346 256\" width=\"346px\" zoomAndPan=\"magnify\"><defs/><g><!--MD5=[fbc87193dbaf4d95561dea2c320d4a47]\n",
       "cluster E1--><g id=\"cluster_E1\"><a href=\"psysml:77badc07-b316-4281-ac3a-fbb5ce5d6d5a\" target=\"_top\" title=\"psysml:77badc07-b316-4281-ac3a-fbb5ce5d6d5a\" xlink:actuate=\"onRequest\" xlink:href=\"psysml:77badc07-b316-4281-ac3a-fbb5ce5d6d5a\" xlink:show=\"new\" xlink:title=\"psysml:77badc07-b316-4281-ac3a-fbb5ce5d6d5a\" xlink:type=\"simple\"><polygon fill=\"none\" points=\"16,6,220.9375,6,227.9375,28.2969,329,28.2969,329,249.5,16,249.5,16,6\" style=\"stroke:#000000;stroke-width:1.5;\"/><line style=\"stroke:#000000;stroke-width:1.5;\" x1=\"16\" x2=\"227.9375\" y1=\"28.2969\" y2=\"28.2969\"/><text fill=\"#000000\" font-family=\"sans-serif\" font-size=\"14\" font-weight=\"bold\" lengthAdjust=\"spacing\" textLength=\"198.9375\" x=\"20\" y=\"20.9951\">TextualRepresentationTest</text></a></g><!--MD5=[f6df4d0ebaf0b5dfb2ced0ae5af7c670]\n",
       "cluster E4--><g id=\"cluster_E4\"><a href=\"psysml:90c9f2e5-1ab8-4a82-830f-194d1afced28\" target=\"_top\" title=\"psysml:90c9f2e5-1ab8-4a82-830f-194d1afced28\" xlink:actuate=\"onRequest\" xlink:href=\"psysml:90c9f2e5-1ab8-4a82-830f-194d1afced28\" xlink:show=\"new\" xlink:title=\"psysml:90c9f2e5-1ab8-4a82-830f-194d1afced28\" xlink:type=\"simple\"><rect fill=\"#FFFFFF\" height=\"155\" id=\"E4\" style=\"stroke:#383838;stroke-width:1.5;\" width=\"134\" x=\"179\" y=\"78.5\"/><text fill=\"#000000\" font-family=\"sans-serif\" font-size=\"12\" font-style=\"italic\" lengthAdjust=\"spacing\" textLength=\"81\" x=\"205.5\" y=\"94.6387\">«action  def»</text><text fill=\"#000000\" font-family=\"sans-serif\" font-size=\"14\" lengthAdjust=\"spacing\" textLength=\"31\" x=\"230.5\" y=\"110.4639\">setX</text><line style=\"stroke:#383838;stroke-width:1.0;\" x1=\"179\" x2=\"313\" y1=\"118.7656\" y2=\"118.7656\"/></a></g><!--MD5=[b4997ac47864f28c2f74865a473b2911]\n",
       "class E2--><a href=\"psysml:4094f6a7-157d-410f-a652-5cd39e1c0fe4\" target=\"_top\" title=\"psysml:4094f6a7-157d-410f-a652-5cd39e1c0fe4\" xlink:actuate=\"onRequest\" xlink:href=\"psysml:4094f6a7-157d-410f-a652-5cd39e1c0fe4\" xlink:show=\"new\" xlink:title=\"psysml:4094f6a7-157d-410f-a652-5cd39e1c0fe4\" xlink:type=\"simple\"><g id=\"elem_E2\"><rect fill=\"#FFFFFF\" height=\"75.0813\" id=\"E2\" style=\"stroke:#181818;stroke-width:0.5;\" width=\"74\" x=\"57\" y=\"41\"/><text fill=\"#000000\" font-family=\"sans-serif\" font-size=\"12\" font-style=\"italic\" lengthAdjust=\"spacing\" textLength=\"69\" x=\"59.5\" y=\"57.1387\">«item  def»</text><text fill=\"#000000\" font-family=\"sans-serif\" font-size=\"14\" lengthAdjust=\"spacing\" textLength=\"10\" x=\"89\" y=\"72.9639\">C</text><line style=\"stroke:#181818;stroke-width:0.5;\" x1=\"58\" x2=\"130\" y1=\"81.2656\" y2=\"81.2656\"/><text fill=\"#000000\" font-family=\"sans-serif\" font-size=\"14\" lengthAdjust=\"spacing\" textLength=\"46\" x=\"63\" y=\"108.7795\">x: Real</text><text fill=\"#000000\" font-family=\"sans-serif\" font-size=\"14\" font-style=\"italic\" lengthAdjust=\"spacing\" textLength=\"66\" x=\"61\" y=\"93.6123\">attributes</text></g></a><!--MD5=[09b614a08d8cba4a07c9adeb5e0fee81]\n",
       "class E3--><a href=\"psysml:bff165c1-58b3-4dd4-8269-a7769b97eb56\" target=\"_top\" title=\"psysml:bff165c1-58b3-4dd4-8269-a7769b97eb56\" xlink:actuate=\"onRequest\" xlink:href=\"psysml:bff165c1-58b3-4dd4-8269-a7769b97eb56\" xlink:show=\"new\" xlink:title=\"psysml:bff165c1-58b3-4dd4-8269-a7769b97eb56\" xlink:type=\"simple\"><g id=\"elem_E3\"><rect fill=\"#FFFFFF\" height=\"48.2656\" id=\"E3\" rx=\"10\" ry=\"10\" style=\"stroke:#181818;stroke-width:0.5;\" width=\"124\" x=\"32\" y=\"176\"/><text fill=\"#000000\" font-family=\"sans-serif\" font-size=\"12\" font-style=\"italic\" lengthAdjust=\"spacing\" textLength=\"122\" x=\"33\" y=\"192.1387\">«assert constraint»</text><text fill=\"#000000\" font-family=\"sans-serif\" font-size=\"14\" lengthAdjust=\"spacing\" textLength=\"83\" x=\"48.5\" y=\"207.9639\">x_constraint</text><line style=\"stroke:#181818;stroke-width:0.5;\" x1=\"33\" x2=\"155\" y1=\"216.2656\" y2=\"216.2656\"/></g></a><text fill=\"#000000\" font-family=\"sans-serif\" font-size=\"14\" lengthAdjust=\"spacing\" textLength=\"8\" x=\"193\" y=\"57.1982\">c</text><rect fill=\"#FFFFFF\" height=\"12\" style=\"stroke:#181818;stroke-width:1.5;\" width=\"12\" x=\"191\" y=\"72.5\"/><text fill=\"#000000\" font-family=\"sans-serif\" font-size=\"14\" lengthAdjust=\"spacing\" textLength=\"38\" x=\"225\" y=\"57.1982\">newX</text><rect fill=\"#FFFFFF\" height=\"12\" style=\"stroke:#181818;stroke-width:1.5;\" width=\"12\" x=\"238\" y=\"72.5\"/><!--MD5=[209b3feb70ccb6233bfe1053d122c12c]\n",
       "reverse link E2 to E3--><g id=\"link_E2_E3\"><a href=\"psysml:15e2216a-3ffa-458d-9ef3-f5d48fbfe7fe\" target=\"_top\" title=\"psysml:15e2216a-3ffa-458d-9ef3-f5d48fbfe7fe\" xlink:actuate=\"onRequest\" xlink:href=\"psysml:15e2216a-3ffa-458d-9ef3-f5d48fbfe7fe\" xlink:show=\"new\" xlink:title=\"psysml:15e2216a-3ffa-458d-9ef3-f5d48fbfe7fe\" xlink:type=\"simple\"><path d=\"M94,129.25 C94,145.43 94,162.61 94,175.88 \" fill=\"none\" id=\"E2-backto-E3\" style=\"stroke:#181818;stroke-width:1.0;\"/><polygon fill=\"#181818\" points=\"94,116,90,122,94,128,98,122,94,116\" style=\"stroke:#181818;stroke-width:1.0;\"/></a></g><!--MD5=[650004aa5b31058ff8b3042053b4574b]\n",
       "@startuml\r\n",
       "skin sysmlbw\r\n",
       "skinparam monochrome true\r\n",
       "skinparam wrapWidth 300\r\n",
       "hide circle\r\n",
       " \r\n",
       "package \"TextualRepresentationTest\" as E1  [[psysml:77badc07-b316-4281-ac3a-fbb5ce5d6d5a ]]  {\r\n",
       "comp def \"C\" as E2  <<(T,blue) item  def>> [[psysml:4094f6a7-157d-410f-a652-5cd39e1c0fe4 ]] {\r\n",
       "##//attributes//##\r\n",
       "x: Real\r\n",
       "}\r\n",
       "comp usage \"x_constraint  \" as E3  <<(T,blue) assert constraint>> [[psysml:bff165c1-58b3-4dd4-8269-a7769b97eb56 ]] {\r\n",
       "}\r\n",
       "rec def \"setX\" as E4  <<(T,blue) action  def>> [[psysml:90c9f2e5-1ab8-4a82-830f-194d1afced28 ]] {\r\n",
       "portin \"c\" as E5  [[psysml:eca695b7-e4ea-4848-82b9-964f1ac61a4c ]] \r\n",
       "portin \"newX\" as E6  [[psysml:5108d877-3142-4d1e-a057-58c6f6613775 ]] \r\n",
       "}\r\n",
       "\r\n",
       "}\r\n",
       "E2 *- - E3 [[psysml:15e2216a-3ffa-458d-9ef3-f5d48fbfe7fe ]] \r\n",
       "@enduml\r\n",
       "\n",
       "PlantUML version 1.2022.7(Mon Aug 22 17:01:30 UTC 2022)\n",
       "(EPL source distribution)\n",
       "Java Runtime: OpenJDK Runtime Environment\n",
       "JVM: OpenJDK 64-Bit Server VM\n",
       "Default Encoding: UTF-8\n",
       "Language: en\n",
       "Country: null\n",
       "--></g></svg>"
      ]
     },
     "execution_count": 2,
     "metadata": {},
     "output_type": "execute_result"
    }
   ],
   "source": [
    "%viz --style=\"COMPTREE\" --view=\"Default\" \"TextualRepresentationTest\""
   ]
  },
  {
   "cell_type": "code",
   "execution_count": 3,
   "id": "414e0e39",
   "metadata": {
    "execution": {
     "iopub.execute_input": "2024-12-16T14:19:25.537844Z",
     "iopub.status.busy": "2024-12-16T14:19:25.537618Z",
     "iopub.status.idle": "2024-12-16T14:19:25.578369Z",
     "shell.execute_reply": "2024-12-16T14:19:25.577635Z"
    }
   },
   "outputs": [
    {
     "data": {
      "image/svg+xml": [
       "<?xml version=\"1.0\" encoding=\"UTF-8\" standalone=\"no\"?><svg xmlns=\"http://www.w3.org/2000/svg\" xmlns:xlink=\"http://www.w3.org/1999/xlink\" contentStyleType=\"text/css\" height=\"373px\" preserveAspectRatio=\"none\" style=\"width:247px;height:373px;background:#FFFFFF;\" version=\"1.1\" viewBox=\"0 0 247 373\" width=\"247px\" zoomAndPan=\"magnify\"><defs/><g><!--MD5=[fbc87193dbaf4d95561dea2c320d4a47]\n",
       "cluster E1--><g id=\"cluster_E1\"><a href=\"psysml:77badc07-b316-4281-ac3a-fbb5ce5d6d5a\" target=\"_top\" title=\"psysml:77badc07-b316-4281-ac3a-fbb5ce5d6d5a\" xlink:actuate=\"onRequest\" xlink:href=\"psysml:77badc07-b316-4281-ac3a-fbb5ce5d6d5a\" xlink:show=\"new\" xlink:title=\"psysml:77badc07-b316-4281-ac3a-fbb5ce5d6d5a\" xlink:type=\"simple\"><polygon fill=\"none\" points=\"16,6,220.9375,6,227.9375,28.2969,230,28.2969,230,366,16,366,16,6\" style=\"stroke:#000000;stroke-width:1.5;\"/><line style=\"stroke:#000000;stroke-width:1.5;\" x1=\"16\" x2=\"227.9375\" y1=\"28.2969\" y2=\"28.2969\"/><text fill=\"#000000\" font-family=\"sans-serif\" font-size=\"14\" font-weight=\"bold\" lengthAdjust=\"spacing\" textLength=\"198.9375\" x=\"20\" y=\"20.9951\">TextualRepresentationTest</text></a></g><!--MD5=[b4997ac47864f28c2f74865a473b2911]\n",
       "class E2--><a href=\"psysml:4094f6a7-157d-410f-a652-5cd39e1c0fe4\" target=\"_top\" title=\"psysml:4094f6a7-157d-410f-a652-5cd39e1c0fe4\" xlink:actuate=\"onRequest\" xlink:href=\"psysml:4094f6a7-157d-410f-a652-5cd39e1c0fe4\" xlink:show=\"new\" xlink:title=\"psysml:4094f6a7-157d-410f-a652-5cd39e1c0fe4\" xlink:type=\"simple\"><g id=\"elem_E2\"><rect fill=\"#FFFFFF\" height=\"75.0813\" id=\"E2\" style=\"stroke:#181818;stroke-width:0.5;\" width=\"74\" x=\"86\" y=\"166\"/><text fill=\"#000000\" font-family=\"sans-serif\" font-size=\"12\" font-style=\"italic\" lengthAdjust=\"spacing\" textLength=\"69\" x=\"88.5\" y=\"182.1387\">«item  def»</text><text fill=\"#000000\" font-family=\"sans-serif\" font-size=\"14\" lengthAdjust=\"spacing\" textLength=\"10\" x=\"118\" y=\"197.9639\">C</text><line style=\"stroke:#181818;stroke-width:0.5;\" x1=\"87\" x2=\"159\" y1=\"206.2656\" y2=\"206.2656\"/><text fill=\"#000000\" font-family=\"sans-serif\" font-size=\"14\" lengthAdjust=\"spacing\" textLength=\"46\" x=\"92\" y=\"233.7795\">x: Real</text><text fill=\"#000000\" font-family=\"sans-serif\" font-size=\"14\" font-style=\"italic\" lengthAdjust=\"spacing\" textLength=\"66\" x=\"90\" y=\"218.6123\">attributes</text></g></a><!--MD5=[09b614a08d8cba4a07c9adeb5e0fee81]\n",
       "class E3--><a href=\"psysml:bff165c1-58b3-4dd4-8269-a7769b97eb56\" target=\"_top\" title=\"psysml:bff165c1-58b3-4dd4-8269-a7769b97eb56\" xlink:actuate=\"onRequest\" xlink:href=\"psysml:bff165c1-58b3-4dd4-8269-a7769b97eb56\" xlink:show=\"new\" xlink:title=\"psysml:bff165c1-58b3-4dd4-8269-a7769b97eb56\" xlink:type=\"simple\"><g id=\"elem_E3\"><rect fill=\"#FFFFFF\" height=\"48.2656\" id=\"E3\" rx=\"10\" ry=\"10\" style=\"stroke:#181818;stroke-width:0.5;\" width=\"124\" x=\"61\" y=\"302\"/><text fill=\"#000000\" font-family=\"sans-serif\" font-size=\"12\" font-style=\"italic\" lengthAdjust=\"spacing\" textLength=\"122\" x=\"62\" y=\"318.1387\">«assert constraint»</text><text fill=\"#000000\" font-family=\"sans-serif\" font-size=\"14\" lengthAdjust=\"spacing\" textLength=\"83\" x=\"77.5\" y=\"333.9639\">x_constraint</text><line style=\"stroke:#181818;stroke-width:0.5;\" x1=\"62\" x2=\"184\" y1=\"342.2656\" y2=\"342.2656\"/></g></a><!--MD5=[ebbe1d658d1005bcc118a6aa81145e00]\n",
       "class E4--><a href=\"psysml:90c9f2e5-1ab8-4a82-830f-194d1afced28\" target=\"_top\" title=\"psysml:90c9f2e5-1ab8-4a82-830f-194d1afced28\" xlink:actuate=\"onRequest\" xlink:href=\"psysml:90c9f2e5-1ab8-4a82-830f-194d1afced28\" xlink:show=\"new\" xlink:title=\"psysml:90c9f2e5-1ab8-4a82-830f-194d1afced28\" xlink:type=\"simple\"><g id=\"elem_E4\"><rect fill=\"#FFFFFF\" height=\"48.2656\" id=\"E4\" style=\"stroke:#181818;stroke-width:0.5;\" width=\"83\" x=\"81.5\" y=\"41\"/><text fill=\"#000000\" font-family=\"sans-serif\" font-size=\"12\" font-style=\"italic\" lengthAdjust=\"spacing\" textLength=\"81\" x=\"82.5\" y=\"57.1387\">«action  def»</text><text fill=\"#000000\" font-family=\"sans-serif\" font-size=\"14\" lengthAdjust=\"spacing\" textLength=\"31\" x=\"107.5\" y=\"72.9639\">setX</text><line style=\"stroke:#181818;stroke-width:0.5;\" x1=\"82.5\" x2=\"163.5\" y1=\"81.2656\" y2=\"81.2656\"/></g></a><!--MD5=[209b3feb70ccb6233bfe1053d122c12c]\n",
       "reverse link E2 to E3--><g id=\"link_E2_E3\"><a href=\"psysml:15e2216a-3ffa-458d-9ef3-f5d48fbfe7fe\" target=\"_top\" title=\"psysml:15e2216a-3ffa-458d-9ef3-f5d48fbfe7fe\" xlink:actuate=\"onRequest\" xlink:href=\"psysml:15e2216a-3ffa-458d-9ef3-f5d48fbfe7fe\" xlink:show=\"new\" xlink:title=\"psysml:15e2216a-3ffa-458d-9ef3-f5d48fbfe7fe\" xlink:type=\"simple\"><path d=\"M123,254.67 C123,270.98 123,288.31 123,301.69 \" fill=\"none\" id=\"E2-backto-E3\" style=\"stroke:#181818;stroke-width:1.0;\"/><polygon fill=\"#181818\" points=\"123,241.31,119,247.31,123,253.31,127,247.31,123,241.31\" style=\"stroke:#181818;stroke-width:1.0;\"/></a></g><!--MD5=[ddeed8deb2209213b62e6cfabaa108b2]\n",
       "reverse link E4 to E2--><g id=\"link_E4_E2\"><a href=\"psysml:eca695b7-e4ea-4848-82b9-964f1ac61a4c\" target=\"_top\" title=\"psysml:eca695b7-e4ea-4848-82b9-964f1ac61a4c\" xlink:actuate=\"onRequest\" xlink:href=\"psysml:eca695b7-e4ea-4848-82b9-964f1ac61a4c\" xlink:show=\"new\" xlink:title=\"psysml:eca695b7-e4ea-4848-82b9-964f1ac61a4c\" xlink:type=\"simple\"><path d=\"M123,102.22 C123,121.88 123,146.11 123,165.84 \" fill=\"none\" id=\"E4-backto-E2\" style=\"stroke:#181818;stroke-width:1.0;\"/><polygon fill=\"none\" points=\"123,89.16,119,95.16,123,101.16,127,95.16,123,89.16\" style=\"stroke:#181818;stroke-width:1.0;\"/><text fill=\"#000000\" font-family=\"sans-serif\" font-size=\"13\" lengthAdjust=\"spacing\" textLength=\"7\" x=\"124\" y=\"132.0669\">c</text></a></g><!--MD5=[7aef35ade488eac65f8fafbe45d48df3]\n",
       "@startuml\r\n",
       "skin sysmlbw\r\n",
       "skinparam monochrome true\r\n",
       "skinparam wrapWidth 300\r\n",
       "hide circle\r\n",
       " \r\n",
       "package \"TextualRepresentationTest\" as E1  [[psysml:77badc07-b316-4281-ac3a-fbb5ce5d6d5a ]]  {\r\n",
       "comp def \"C\" as E2  <<(T,blue) item  def>> [[psysml:4094f6a7-157d-410f-a652-5cd39e1c0fe4 ]] {\r\n",
       "##//attributes//##\r\n",
       "x: Real\r\n",
       "}\r\n",
       "comp usage \"x_constraint  \" as E3  <<(T,blue) assert constraint>> [[psysml:bff165c1-58b3-4dd4-8269-a7769b97eb56 ]] {\r\n",
       "}\r\n",
       "comp def \"setX\" as E4  <<(T,blue) action  def>> [[psysml:90c9f2e5-1ab8-4a82-830f-194d1afced28 ]] {\r\n",
       "}\r\n",
       "}\r\n",
       "E2 *- - E3 [[psysml:15e2216a-3ffa-458d-9ef3-f5d48fbfe7fe ]] \r\n",
       "E4 o- - E2 [[psysml:eca695b7-e4ea-4848-82b9-964f1ac61a4c ]] : c\r\n",
       "@enduml\r\n",
       "\n",
       "PlantUML version 1.2022.7(Mon Aug 22 17:01:30 UTC 2022)\n",
       "(EPL source distribution)\n",
       "Java Runtime: OpenJDK Runtime Environment\n",
       "JVM: OpenJDK 64-Bit Server VM\n",
       "Default Encoding: UTF-8\n",
       "Language: en\n",
       "Country: null\n",
       "--></g></svg>"
      ]
     },
     "execution_count": 3,
     "metadata": {},
     "output_type": "execute_result"
    }
   ],
   "source": [
    "%viz --style=\"COMPTREE\" --view=\"Tree\" \"TextualRepresentationTest\""
   ]
  },
  {
   "cell_type": "code",
   "execution_count": 4,
   "id": "9fa502ff",
   "metadata": {
    "execution": {
     "iopub.execute_input": "2024-12-16T14:19:25.631297Z",
     "iopub.status.busy": "2024-12-16T14:19:25.631059Z",
     "iopub.status.idle": "2024-12-16T14:19:25.638595Z",
     "shell.execute_reply": "2024-12-16T14:19:25.638729Z"
    }
   },
   "outputs": [
    {
     "data": {
      "image/svg+xml": [
       "<?xml version=\"1.0\" encoding=\"UTF-8\" standalone=\"no\"?><svg xmlns=\"http://www.w3.org/2000/svg\" xmlns:xlink=\"http://www.w3.org/1999/xlink\" contentStyleType=\"text/css\" height=\"10px\" preserveAspectRatio=\"none\" style=\"width:10px;height:10px;background:#FFFFFF;\" version=\"1.1\" viewBox=\"0 0 10 10\" width=\"10px\" zoomAndPan=\"magnify\"><defs/><g><!--MD5=[ee07d3037018df61283447c7fdb4a44f]\n",
       "@startuml\r\n",
       "skin sysmlbw\r\n",
       "skinparam monochrome true\r\n",
       "skinparam wrapWidth 300\r\n",
       "hide circle\r\n",
       " \r\n",
       "@enduml\r\n",
       "\n",
       "PlantUML version 1.2022.7(Mon Aug 22 17:01:30 UTC 2022)\n",
       "(EPL source distribution)\n",
       "Java Runtime: OpenJDK Runtime Environment\n",
       "JVM: OpenJDK 64-Bit Server VM\n",
       "Default Encoding: UTF-8\n",
       "Language: en\n",
       "Country: null\n",
       "--></g></svg>"
      ]
     },
     "execution_count": 4,
     "metadata": {},
     "output_type": "execute_result"
    }
   ],
   "source": [
    "%viz --style=\"COMPTREE\" --view=\"State\" \"TextualRepresentationTest\""
   ]
  },
  {
   "cell_type": "code",
   "execution_count": 5,
   "id": "b2a0f6eb",
   "metadata": {
    "execution": {
     "iopub.execute_input": "2024-12-16T14:19:25.691012Z",
     "iopub.status.busy": "2024-12-16T14:19:25.690769Z",
     "iopub.status.idle": "2024-12-16T14:19:25.715777Z",
     "shell.execute_reply": "2024-12-16T14:19:25.715607Z"
    }
   },
   "outputs": [
    {
     "data": {
      "image/svg+xml": [
       "<?xml version=\"1.0\" encoding=\"UTF-8\" standalone=\"no\"?><svg xmlns=\"http://www.w3.org/2000/svg\" xmlns:xlink=\"http://www.w3.org/1999/xlink\" contentStyleType=\"text/css\" height=\"176px\" preserveAspectRatio=\"none\" style=\"width:287px;height:176px;background:#FFFFFF;\" version=\"1.1\" viewBox=\"0 0 287 176\" width=\"287px\" zoomAndPan=\"magnify\"><defs/><g><!--MD5=[fbc87193dbaf4d95561dea2c320d4a47]\n",
       "cluster E1--><g id=\"cluster_E1\"><a href=\"psysml:77badc07-b316-4281-ac3a-fbb5ce5d6d5a\" target=\"_top\" title=\"psysml:77badc07-b316-4281-ac3a-fbb5ce5d6d5a\" xlink:actuate=\"onRequest\" xlink:href=\"psysml:77badc07-b316-4281-ac3a-fbb5ce5d6d5a\" xlink:show=\"new\" xlink:title=\"psysml:77badc07-b316-4281-ac3a-fbb5ce5d6d5a\" xlink:type=\"simple\"><polygon fill=\"none\" points=\"16,6,220.9375,6,227.9375,28.2969,270,28.2969,270,169,16,169,16,6\" style=\"stroke:#000000;stroke-width:1.5;\"/><line style=\"stroke:#000000;stroke-width:1.5;\" x1=\"16\" x2=\"227.9375\" y1=\"28.2969\" y2=\"28.2969\"/><text fill=\"#000000\" font-family=\"sans-serif\" font-size=\"14\" font-weight=\"bold\" lengthAdjust=\"spacing\" textLength=\"198.9375\" x=\"20\" y=\"20.9951\">TextualRepresentationTest</text></a></g><!--MD5=[d5e69f78d87373223dbae638b30a9c99]\n",
       "cluster E3--><g id=\"cluster_E3\"><a href=\"psysml:90c9f2e5-1ab8-4a82-830f-194d1afced28\" target=\"_top\" title=\"psysml:90c9f2e5-1ab8-4a82-830f-194d1afced28\" xlink:actuate=\"onRequest\" xlink:href=\"psysml:90c9f2e5-1ab8-4a82-830f-194d1afced28\" xlink:show=\"new\" xlink:title=\"psysml:90c9f2e5-1ab8-4a82-830f-194d1afced28\" xlink:type=\"simple\"><rect fill=\"#FFFFFF\" height=\"89.5\" id=\"E3\" style=\"stroke:#383838;stroke-width:1.5;\" width=\"100\" x=\"122.5\" y=\"63.5\"/><text fill=\"#000000\" font-family=\"sans-serif\" font-size=\"12\" font-style=\"italic\" lengthAdjust=\"spacing\" textLength=\"81\" x=\"132\" y=\"79.6387\">«action  def»</text><text fill=\"#000000\" font-family=\"sans-serif\" font-size=\"14\" lengthAdjust=\"spacing\" textLength=\"31\" x=\"157\" y=\"95.4639\">setX</text><line style=\"stroke:#383838;stroke-width:1.0;\" x1=\"122.5\" x2=\"222.5\" y1=\"103.7656\" y2=\"103.7656\"/></a></g><g><a href=\"psysml:4094f6a7-157d-410f-a652-5cd39e1c0fe4\" target=\"_top\" title=\"psysml:4094f6a7-157d-410f-a652-5cd39e1c0fe4\" xlink:actuate=\"onRequest\" xlink:href=\"psysml:4094f6a7-157d-410f-a652-5cd39e1c0fe4\" xlink:show=\"new\" xlink:title=\"psysml:4094f6a7-157d-410f-a652-5cd39e1c0fe4\" xlink:type=\"simple\"><rect fill=\"#FFFFFF\" height=\"45.2656\" id=\"E2\" style=\"stroke:#383838;stroke-width:1.5;\" width=\"76\" x=\"32\" y=\"41\"/><text fill=\"#000000\" font-family=\"sans-serif\" font-size=\"12\" font-style=\"italic\" lengthAdjust=\"spacing\" textLength=\"69\" x=\"35.5\" y=\"57.1387\">«item  def»</text><text fill=\"#000000\" font-family=\"sans-serif\" font-size=\"14\" lengthAdjust=\"spacing\" textLength=\"10\" x=\"65\" y=\"72.9639\">C</text></a></g><text fill=\"#000000\" font-family=\"sans-serif\" font-size=\"14\" lengthAdjust=\"spacing\" textLength=\"8\" x=\"145\" y=\"42.1982\">c</text><rect fill=\"#FFFFFF\" height=\"12\" style=\"stroke:#181818;stroke-width:1.5;\" width=\"12\" x=\"143\" y=\"57.5\"/><text fill=\"#000000\" font-family=\"sans-serif\" font-size=\"14\" lengthAdjust=\"spacing\" textLength=\"38\" x=\"177\" y=\"42.1982\">newX</text><rect fill=\"#FFFFFF\" height=\"12\" style=\"stroke:#181818;stroke-width:1.5;\" width=\"12\" x=\"190\" y=\"57.5\"/><!--MD5=[94d7296d452c7c06d2672227b3e63b2b]\n",
       "@startuml\r\n",
       "skin sysmlbw\r\n",
       "skinparam monochrome true\r\n",
       "skinparam wrapWidth 300\r\n",
       "hide circle\r\n",
       " skinparam ranksep 10\r\n",
       "skinparam rectangle {\r\n",
       " backgroundColor<<block>> LightGreen\r\n",
       "}\r\n",
       "\r\n",
       "package \"TextualRepresentationTest\" as E1  [[psysml:77badc07-b316-4281-ac3a-fbb5ce5d6d5a ]]  {\r\n",
       "def \"C\" as E2  <<(T,blue) item  def>> [[psysml:4094f6a7-157d-410f-a652-5cd39e1c0fe4 ]] \r\n",
       "rec def \"setX\" as E3  <<(T,blue) action  def>> [[psysml:90c9f2e5-1ab8-4a82-830f-194d1afced28 ]] {\r\n",
       "portin \"c\" as E4  [[psysml:eca695b7-e4ea-4848-82b9-964f1ac61a4c ]] \r\n",
       "portin \"newX\" as E5  [[psysml:5108d877-3142-4d1e-a057-58c6f6613775 ]] \r\n",
       "}\r\n",
       "\r\n",
       "}\r\n",
       "@enduml\r\n",
       "\n",
       "PlantUML version 1.2022.7(Mon Aug 22 17:01:30 UTC 2022)\n",
       "(EPL source distribution)\n",
       "Java Runtime: OpenJDK Runtime Environment\n",
       "JVM: OpenJDK 64-Bit Server VM\n",
       "Default Encoding: UTF-8\n",
       "Language: en\n",
       "Country: null\n",
       "--></g></svg>"
      ]
     },
     "execution_count": 5,
     "metadata": {},
     "output_type": "execute_result"
    }
   ],
   "source": [
    "%viz --style=\"COMPTREE\" --view=\"Interconnection\" \"TextualRepresentationTest\""
   ]
  },
  {
   "cell_type": "code",
   "execution_count": 6,
   "id": "2df5d91c",
   "metadata": {
    "execution": {
     "iopub.execute_input": "2024-12-16T14:19:25.772666Z",
     "iopub.status.busy": "2024-12-16T14:19:25.772400Z",
     "iopub.status.idle": "2024-12-16T14:19:25.791134Z",
     "shell.execute_reply": "2024-12-16T14:19:25.791296Z"
    }
   },
   "outputs": [
    {
     "data": {
      "image/svg+xml": [
       "<?xml version=\"1.0\" encoding=\"UTF-8\" standalone=\"no\"?><svg xmlns=\"http://www.w3.org/2000/svg\" xmlns:xlink=\"http://www.w3.org/1999/xlink\" contentStyleType=\"text/css\" height=\"121px\" preserveAspectRatio=\"none\" style=\"width:148px;height:121px;background:#FFFFFF;\" version=\"1.1\" viewBox=\"0 0 148 121\" width=\"148px\" zoomAndPan=\"magnify\"><defs/><g><!--MD5=[fbc87193dbaf4d95561dea2c320d4a47]\n",
       "cluster E1--><g id=\"cluster_E1\"><a href=\"psysml:90c9f2e5-1ab8-4a82-830f-194d1afced28\" target=\"_top\" title=\"psysml:90c9f2e5-1ab8-4a82-830f-194d1afced28\" xlink:actuate=\"onRequest\" xlink:href=\"psysml:90c9f2e5-1ab8-4a82-830f-194d1afced28\" xlink:show=\"new\" xlink:title=\"psysml:90c9f2e5-1ab8-4a82-830f-194d1afced28\" xlink:type=\"simple\"><rect fill=\"#FFFFFF\" height=\"73\" id=\"E1\" style=\"stroke:#383838;stroke-width:1.5;\" width=\"134\" x=\"7\" y=\"42.0986\"/><text fill=\"#000000\" font-family=\"sans-serif\" font-size=\"12\" font-style=\"italic\" lengthAdjust=\"spacing\" textLength=\"81\" x=\"33.5\" y=\"58.2373\">«action  def»</text><text fill=\"#000000\" font-family=\"sans-serif\" font-size=\"14\" lengthAdjust=\"spacing\" textLength=\"31\" x=\"58.5\" y=\"74.0625\">setX</text><line style=\"stroke:#383838;stroke-width:1.0;\" x1=\"7\" x2=\"141\" y1=\"82.3643\" y2=\"82.3643\"/></a></g><text fill=\"#000000\" font-family=\"sans-serif\" font-size=\"14\" lengthAdjust=\"spacing\" textLength=\"8\" x=\"21\" y=\"20.7969\">c</text><rect fill=\"#FFFFFF\" height=\"12\" style=\"stroke:#181818;stroke-width:1.5;\" width=\"12\" x=\"19\" y=\"36.0986\"/><text fill=\"#000000\" font-family=\"sans-serif\" font-size=\"14\" lengthAdjust=\"spacing\" textLength=\"38\" x=\"53\" y=\"20.7969\">newX</text><rect fill=\"#FFFFFF\" height=\"12\" style=\"stroke:#181818;stroke-width:1.5;\" width=\"12\" x=\"66\" y=\"36.0986\"/><!--MD5=[dc4c1b2a66466029fcd9148203cd6a13]\n",
       "@startuml\r\n",
       "skin sysmlbw\r\n",
       "skinparam monochrome true\r\n",
       "skinparam wrapWidth 300\r\n",
       "hide circle\r\n",
       " skinparam ranksep 8\r\n",
       "\r\n",
       "rec def \"setX\" as E1  <<(T,blue) action  def>> [[psysml:90c9f2e5-1ab8-4a82-830f-194d1afced28 ]] {\r\n",
       "portin \"c\" as E2  [[psysml:eca695b7-e4ea-4848-82b9-964f1ac61a4c ]] \r\n",
       "portin \"newX\" as E3  [[psysml:5108d877-3142-4d1e-a057-58c6f6613775 ]] \r\n",
       "}\r\n",
       "\r\n",
       "@enduml\r\n",
       "\n",
       "PlantUML version 1.2022.7(Mon Aug 22 17:01:30 UTC 2022)\n",
       "(EPL source distribution)\n",
       "Java Runtime: OpenJDK Runtime Environment\n",
       "JVM: OpenJDK 64-Bit Server VM\n",
       "Default Encoding: UTF-8\n",
       "Language: en\n",
       "Country: null\n",
       "--></g></svg>"
      ]
     },
     "execution_count": 6,
     "metadata": {},
     "output_type": "execute_result"
    }
   ],
   "source": [
    "%viz --style=\"COMPTREE\" --view=\"Action\" \"TextualRepresentationTest\""
   ]
  },
  {
   "cell_type": "code",
   "execution_count": 7,
   "id": "b0291a00",
   "metadata": {
    "execution": {
     "iopub.execute_input": "2024-12-16T14:19:25.847424Z",
     "iopub.status.busy": "2024-12-16T14:19:25.847200Z",
     "iopub.status.idle": "2024-12-16T14:19:25.861512Z",
     "shell.execute_reply": "2024-12-16T14:19:25.861345Z"
    }
   },
   "outputs": [
    {
     "data": {
      "image/svg+xml": [
       "<?xml version=\"1.0\" encoding=\"UTF-8\" standalone=\"no\"?><svg xmlns=\"http://www.w3.org/2000/svg\" xmlns:xlink=\"http://www.w3.org/1999/xlink\" contentStyleType=\"text/css\" height=\"10px\" preserveAspectRatio=\"none\" style=\"width:10px;height:10px;background:#FFFFFF;\" version=\"1.1\" viewBox=\"0 0 10 10\" width=\"10px\" zoomAndPan=\"magnify\"><defs/><g><!--MD5=[f5e9abf0a6c8dccaf40d0172f495ca0b]\n",
       "@startuml\r\n",
       "skin sysmlbw\r\n",
       "skinparam monochrome true\r\n",
       "skinparam wrapWidth 300\r\n",
       "hide circle\r\n",
       " skinparam roundcorner 20\r\n",
       "skinparam BoxPadding 20\r\n",
       "skinparam SequenceBoxBackgroundColor #white\r\n",
       "skinparam style strictuml\r\n",
       "skinparam maxMessageSize 100\r\n",
       "\r\n",
       "@enduml\r\n",
       "\n",
       "PlantUML version 1.2022.7(Mon Aug 22 17:01:30 UTC 2022)\n",
       "(EPL source distribution)\n",
       "Java Runtime: OpenJDK Runtime Environment\n",
       "JVM: OpenJDK 64-Bit Server VM\n",
       "Default Encoding: UTF-8\n",
       "Language: en\n",
       "Country: null\n",
       "--></g></svg>"
      ]
     },
     "execution_count": 7,
     "metadata": {},
     "output_type": "execute_result"
    }
   ],
   "source": [
    "%viz --style=\"COMPTREE\" --view=\"Sequence\" \"TextualRepresentationTest\""
   ]
  },
  {
   "cell_type": "code",
   "execution_count": 8,
   "id": "87347ff3",
   "metadata": {
    "execution": {
     "iopub.execute_input": "2024-12-16T14:19:25.914728Z",
     "iopub.status.busy": "2024-12-16T14:19:25.914486Z",
     "iopub.status.idle": "2024-12-16T14:19:25.946474Z",
     "shell.execute_reply": "2024-12-16T14:19:25.946297Z"
    }
   },
   "outputs": [
    {
     "data": {
      "image/svg+xml": [
       "<?xml version=\"1.0\" encoding=\"UTF-8\" standalone=\"no\"?><svg xmlns=\"http://www.w3.org/2000/svg\" xmlns:xlink=\"http://www.w3.org/1999/xlink\" contentStyleType=\"text/css\" height=\"256px\" preserveAspectRatio=\"none\" style=\"width:346px;height:256px;background:#FFFFFF;\" version=\"1.1\" viewBox=\"0 0 346 256\" width=\"346px\" zoomAndPan=\"magnify\"><defs/><g><!--MD5=[fbc87193dbaf4d95561dea2c320d4a47]\n",
       "cluster E1--><g id=\"cluster_E1\"><a href=\"psysml:77badc07-b316-4281-ac3a-fbb5ce5d6d5a\" target=\"_top\" title=\"psysml:77badc07-b316-4281-ac3a-fbb5ce5d6d5a\" xlink:actuate=\"onRequest\" xlink:href=\"psysml:77badc07-b316-4281-ac3a-fbb5ce5d6d5a\" xlink:show=\"new\" xlink:title=\"psysml:77badc07-b316-4281-ac3a-fbb5ce5d6d5a\" xlink:type=\"simple\"><polygon fill=\"none\" points=\"16,6,220.9375,6,227.9375,28.2969,329,28.2969,329,249.5,16,249.5,16,6\" style=\"stroke:#000000;stroke-width:1.5;\"/><line style=\"stroke:#000000;stroke-width:1.5;\" x1=\"16\" x2=\"227.9375\" y1=\"28.2969\" y2=\"28.2969\"/><text fill=\"#000000\" font-family=\"sans-serif\" font-size=\"14\" font-weight=\"bold\" lengthAdjust=\"spacing\" textLength=\"198.9375\" x=\"20\" y=\"20.9951\">TextualRepresentationTest</text></a></g><!--MD5=[f6df4d0ebaf0b5dfb2ced0ae5af7c670]\n",
       "cluster E4--><g id=\"cluster_E4\"><a href=\"psysml:90c9f2e5-1ab8-4a82-830f-194d1afced28\" target=\"_top\" title=\"psysml:90c9f2e5-1ab8-4a82-830f-194d1afced28\" xlink:actuate=\"onRequest\" xlink:href=\"psysml:90c9f2e5-1ab8-4a82-830f-194d1afced28\" xlink:show=\"new\" xlink:title=\"psysml:90c9f2e5-1ab8-4a82-830f-194d1afced28\" xlink:type=\"simple\"><rect fill=\"#FFFFFF\" height=\"155\" id=\"E4\" style=\"stroke:#383838;stroke-width:1.5;\" width=\"134\" x=\"179\" y=\"78.5\"/><text fill=\"#000000\" font-family=\"sans-serif\" font-size=\"12\" font-style=\"italic\" lengthAdjust=\"spacing\" textLength=\"81\" x=\"205.5\" y=\"94.6387\">«action  def»</text><text fill=\"#000000\" font-family=\"sans-serif\" font-size=\"14\" lengthAdjust=\"spacing\" textLength=\"31\" x=\"230.5\" y=\"110.4639\">setX</text><line style=\"stroke:#383838;stroke-width:1.0;\" x1=\"179\" x2=\"313\" y1=\"118.7656\" y2=\"118.7656\"/></a></g><!--MD5=[b4997ac47864f28c2f74865a473b2911]\n",
       "class E2--><a href=\"psysml:4094f6a7-157d-410f-a652-5cd39e1c0fe4\" target=\"_top\" title=\"psysml:4094f6a7-157d-410f-a652-5cd39e1c0fe4\" xlink:actuate=\"onRequest\" xlink:href=\"psysml:4094f6a7-157d-410f-a652-5cd39e1c0fe4\" xlink:show=\"new\" xlink:title=\"psysml:4094f6a7-157d-410f-a652-5cd39e1c0fe4\" xlink:type=\"simple\"><g id=\"elem_E2\"><rect fill=\"#FFFFFF\" height=\"75.0813\" id=\"E2\" style=\"stroke:#181818;stroke-width:0.5;\" width=\"74\" x=\"57\" y=\"41\"/><text fill=\"#000000\" font-family=\"sans-serif\" font-size=\"12\" font-style=\"italic\" lengthAdjust=\"spacing\" textLength=\"69\" x=\"59.5\" y=\"57.1387\">«item  def»</text><text fill=\"#000000\" font-family=\"sans-serif\" font-size=\"14\" lengthAdjust=\"spacing\" textLength=\"10\" x=\"89\" y=\"72.9639\">C</text><line style=\"stroke:#181818;stroke-width:0.5;\" x1=\"58\" x2=\"130\" y1=\"81.2656\" y2=\"81.2656\"/><text fill=\"#000000\" font-family=\"sans-serif\" font-size=\"14\" lengthAdjust=\"spacing\" textLength=\"46\" x=\"63\" y=\"108.7795\">x: Real</text><text fill=\"#000000\" font-family=\"sans-serif\" font-size=\"14\" font-style=\"italic\" lengthAdjust=\"spacing\" textLength=\"66\" x=\"61\" y=\"93.6123\">attributes</text></g></a><!--MD5=[09b614a08d8cba4a07c9adeb5e0fee81]\n",
       "class E3--><a href=\"psysml:bff165c1-58b3-4dd4-8269-a7769b97eb56\" target=\"_top\" title=\"psysml:bff165c1-58b3-4dd4-8269-a7769b97eb56\" xlink:actuate=\"onRequest\" xlink:href=\"psysml:bff165c1-58b3-4dd4-8269-a7769b97eb56\" xlink:show=\"new\" xlink:title=\"psysml:bff165c1-58b3-4dd4-8269-a7769b97eb56\" xlink:type=\"simple\"><g id=\"elem_E3\"><rect fill=\"#FFFFFF\" height=\"48.2656\" id=\"E3\" rx=\"10\" ry=\"10\" style=\"stroke:#181818;stroke-width:0.5;\" width=\"124\" x=\"32\" y=\"176\"/><text fill=\"#000000\" font-family=\"sans-serif\" font-size=\"12\" font-style=\"italic\" lengthAdjust=\"spacing\" textLength=\"122\" x=\"33\" y=\"192.1387\">«assert constraint»</text><text fill=\"#000000\" font-family=\"sans-serif\" font-size=\"14\" lengthAdjust=\"spacing\" textLength=\"83\" x=\"48.5\" y=\"207.9639\">x_constraint</text><line style=\"stroke:#181818;stroke-width:0.5;\" x1=\"33\" x2=\"155\" y1=\"216.2656\" y2=\"216.2656\"/></g></a><text fill=\"#000000\" font-family=\"sans-serif\" font-size=\"14\" lengthAdjust=\"spacing\" textLength=\"8\" x=\"193\" y=\"57.1982\">c</text><rect fill=\"#FFFFFF\" height=\"12\" style=\"stroke:#181818;stroke-width:1.5;\" width=\"12\" x=\"191\" y=\"72.5\"/><text fill=\"#000000\" font-family=\"sans-serif\" font-size=\"14\" lengthAdjust=\"spacing\" textLength=\"38\" x=\"225\" y=\"57.1982\">newX</text><rect fill=\"#FFFFFF\" height=\"12\" style=\"stroke:#181818;stroke-width:1.5;\" width=\"12\" x=\"238\" y=\"72.5\"/><!--MD5=[209b3feb70ccb6233bfe1053d122c12c]\n",
       "reverse link E2 to E3--><g id=\"link_E2_E3\"><a href=\"psysml:15e2216a-3ffa-458d-9ef3-f5d48fbfe7fe\" target=\"_top\" title=\"psysml:15e2216a-3ffa-458d-9ef3-f5d48fbfe7fe\" xlink:actuate=\"onRequest\" xlink:href=\"psysml:15e2216a-3ffa-458d-9ef3-f5d48fbfe7fe\" xlink:show=\"new\" xlink:title=\"psysml:15e2216a-3ffa-458d-9ef3-f5d48fbfe7fe\" xlink:type=\"simple\"><path d=\"M94,129.25 C94,145.43 94,162.61 94,175.88 \" fill=\"none\" id=\"E2-backto-E3\" style=\"stroke:#181818;stroke-width:1.0;\"/><polygon fill=\"#181818\" points=\"94,116,90,122,94,128,98,122,94,116\" style=\"stroke:#181818;stroke-width:1.0;\"/></a></g><!--MD5=[650004aa5b31058ff8b3042053b4574b]\n",
       "@startuml\r\n",
       "skin sysmlbw\r\n",
       "skinparam monochrome true\r\n",
       "skinparam wrapWidth 300\r\n",
       "hide circle\r\n",
       " \r\n",
       "package \"TextualRepresentationTest\" as E1  [[psysml:77badc07-b316-4281-ac3a-fbb5ce5d6d5a ]]  {\r\n",
       "comp def \"C\" as E2  <<(T,blue) item  def>> [[psysml:4094f6a7-157d-410f-a652-5cd39e1c0fe4 ]] {\r\n",
       "##//attributes//##\r\n",
       "x: Real\r\n",
       "}\r\n",
       "comp usage \"x_constraint  \" as E3  <<(T,blue) assert constraint>> [[psysml:bff165c1-58b3-4dd4-8269-a7769b97eb56 ]] {\r\n",
       "}\r\n",
       "rec def \"setX\" as E4  <<(T,blue) action  def>> [[psysml:90c9f2e5-1ab8-4a82-830f-194d1afced28 ]] {\r\n",
       "portin \"c\" as E5  [[psysml:eca695b7-e4ea-4848-82b9-964f1ac61a4c ]] \r\n",
       "portin \"newX\" as E6  [[psysml:5108d877-3142-4d1e-a057-58c6f6613775 ]] \r\n",
       "}\r\n",
       "\r\n",
       "}\r\n",
       "E2 *- - E3 [[psysml:15e2216a-3ffa-458d-9ef3-f5d48fbfe7fe ]] \r\n",
       "@enduml\r\n",
       "\n",
       "PlantUML version 1.2022.7(Mon Aug 22 17:01:30 UTC 2022)\n",
       "(EPL source distribution)\n",
       "Java Runtime: OpenJDK Runtime Environment\n",
       "JVM: OpenJDK 64-Bit Server VM\n",
       "Default Encoding: UTF-8\n",
       "Language: en\n",
       "Country: null\n",
       "--></g></svg>"
      ]
     },
     "execution_count": 8,
     "metadata": {},
     "output_type": "execute_result"
    }
   ],
   "source": [
    "%viz --style=\"COMPTREE\" --view=\"MIXED\" \"TextualRepresentationTest\""
   ]
  },
  {
   "cell_type": "code",
   "execution_count": 9,
   "id": "6dafe097",
   "metadata": {
    "execution": {
     "iopub.execute_input": "2024-12-16T14:19:25.999057Z",
     "iopub.status.busy": "2024-12-16T14:19:25.998815Z",
     "iopub.status.idle": "2024-12-16T14:19:26.028112Z",
     "shell.execute_reply": "2024-12-16T14:19:26.027335Z"
    }
   },
   "outputs": [
    {
     "data": {
      "image/svg+xml": [
       "<?xml version=\"1.0\" encoding=\"UTF-8\" standalone=\"no\"?><svg xmlns=\"http://www.w3.org/2000/svg\" xmlns:xlink=\"http://www.w3.org/1999/xlink\" contentStyleType=\"text/css\" height=\"256px\" preserveAspectRatio=\"none\" style=\"width:346px;height:256px;background:#FFFFFF;\" version=\"1.1\" viewBox=\"0 0 346 256\" width=\"346px\" zoomAndPan=\"magnify\"><defs/><g><!--MD5=[fbc87193dbaf4d95561dea2c320d4a47]\n",
       "cluster E1--><g id=\"cluster_E1\"><a href=\"psysml:77badc07-b316-4281-ac3a-fbb5ce5d6d5a\" target=\"_top\" title=\"psysml:77badc07-b316-4281-ac3a-fbb5ce5d6d5a\" xlink:actuate=\"onRequest\" xlink:href=\"psysml:77badc07-b316-4281-ac3a-fbb5ce5d6d5a\" xlink:show=\"new\" xlink:title=\"psysml:77badc07-b316-4281-ac3a-fbb5ce5d6d5a\" xlink:type=\"simple\"><polygon fill=\"none\" points=\"16,6,220.9375,6,227.9375,28.2969,329,28.2969,329,249.5,16,249.5,16,6\" style=\"stroke:#000000;stroke-width:1.5;\"/><line style=\"stroke:#000000;stroke-width:1.5;\" x1=\"16\" x2=\"227.9375\" y1=\"28.2969\" y2=\"28.2969\"/><text fill=\"#000000\" font-family=\"sans-serif\" font-size=\"14\" font-weight=\"bold\" lengthAdjust=\"spacing\" textLength=\"198.9375\" x=\"20\" y=\"20.9951\">TextualRepresentationTest</text></a></g><!--MD5=[f6df4d0ebaf0b5dfb2ced0ae5af7c670]\n",
       "cluster E4--><g id=\"cluster_E4\"><a href=\"psysml:90c9f2e5-1ab8-4a82-830f-194d1afced28\" target=\"_top\" title=\"psysml:90c9f2e5-1ab8-4a82-830f-194d1afced28\" xlink:actuate=\"onRequest\" xlink:href=\"psysml:90c9f2e5-1ab8-4a82-830f-194d1afced28\" xlink:show=\"new\" xlink:title=\"psysml:90c9f2e5-1ab8-4a82-830f-194d1afced28\" xlink:type=\"simple\"><rect fill=\"#FFFFFF\" height=\"155\" id=\"E4\" style=\"stroke:#383838;stroke-width:1.5;\" width=\"134\" x=\"179\" y=\"78.5\"/><text fill=\"#000000\" font-family=\"sans-serif\" font-size=\"12\" font-style=\"italic\" lengthAdjust=\"spacing\" textLength=\"81\" x=\"205.5\" y=\"94.6387\">«action  def»</text><text fill=\"#000000\" font-family=\"sans-serif\" font-size=\"14\" lengthAdjust=\"spacing\" textLength=\"31\" x=\"230.5\" y=\"110.4639\">setX</text><line style=\"stroke:#383838;stroke-width:1.0;\" x1=\"179\" x2=\"313\" y1=\"118.7656\" y2=\"118.7656\"/></a></g><!--MD5=[b4997ac47864f28c2f74865a473b2911]\n",
       "class E2--><a href=\"psysml:4094f6a7-157d-410f-a652-5cd39e1c0fe4\" target=\"_top\" title=\"psysml:4094f6a7-157d-410f-a652-5cd39e1c0fe4\" xlink:actuate=\"onRequest\" xlink:href=\"psysml:4094f6a7-157d-410f-a652-5cd39e1c0fe4\" xlink:show=\"new\" xlink:title=\"psysml:4094f6a7-157d-410f-a652-5cd39e1c0fe4\" xlink:type=\"simple\"><g id=\"elem_E2\"><rect fill=\"#FFFFFF\" height=\"75.0813\" id=\"E2\" style=\"stroke:#181818;stroke-width:0.5;\" width=\"74\" x=\"57\" y=\"41\"/><text fill=\"#000000\" font-family=\"sans-serif\" font-size=\"12\" font-style=\"italic\" lengthAdjust=\"spacing\" textLength=\"69\" x=\"59.5\" y=\"57.1387\">«item  def»</text><text fill=\"#000000\" font-family=\"sans-serif\" font-size=\"14\" lengthAdjust=\"spacing\" textLength=\"10\" x=\"89\" y=\"72.9639\">C</text><line style=\"stroke:#181818;stroke-width:0.5;\" x1=\"58\" x2=\"130\" y1=\"81.2656\" y2=\"81.2656\"/><text fill=\"#000000\" font-family=\"sans-serif\" font-size=\"14\" lengthAdjust=\"spacing\" textLength=\"46\" x=\"63\" y=\"108.7795\">x: Real</text><text fill=\"#000000\" font-family=\"sans-serif\" font-size=\"14\" font-style=\"italic\" lengthAdjust=\"spacing\" textLength=\"66\" x=\"61\" y=\"93.6123\">attributes</text></g></a><!--MD5=[09b614a08d8cba4a07c9adeb5e0fee81]\n",
       "class E3--><a href=\"psysml:bff165c1-58b3-4dd4-8269-a7769b97eb56\" target=\"_top\" title=\"psysml:bff165c1-58b3-4dd4-8269-a7769b97eb56\" xlink:actuate=\"onRequest\" xlink:href=\"psysml:bff165c1-58b3-4dd4-8269-a7769b97eb56\" xlink:show=\"new\" xlink:title=\"psysml:bff165c1-58b3-4dd4-8269-a7769b97eb56\" xlink:type=\"simple\"><g id=\"elem_E3\"><rect fill=\"#FFFFFF\" height=\"48.2656\" id=\"E3\" rx=\"10\" ry=\"10\" style=\"stroke:#181818;stroke-width:0.5;\" width=\"124\" x=\"32\" y=\"176\"/><text fill=\"#000000\" font-family=\"sans-serif\" font-size=\"12\" font-style=\"italic\" lengthAdjust=\"spacing\" textLength=\"122\" x=\"33\" y=\"192.1387\">«assert constraint»</text><text fill=\"#000000\" font-family=\"sans-serif\" font-size=\"14\" lengthAdjust=\"spacing\" textLength=\"83\" x=\"48.5\" y=\"207.9639\">x_constraint</text><line style=\"stroke:#181818;stroke-width:0.5;\" x1=\"33\" x2=\"155\" y1=\"216.2656\" y2=\"216.2656\"/></g></a><text fill=\"#000000\" font-family=\"sans-serif\" font-size=\"14\" lengthAdjust=\"spacing\" textLength=\"8\" x=\"193\" y=\"57.1982\">c</text><rect fill=\"#FFFFFF\" height=\"12\" style=\"stroke:#181818;stroke-width:1.5;\" width=\"12\" x=\"191\" y=\"72.5\"/><text fill=\"#000000\" font-family=\"sans-serif\" font-size=\"14\" lengthAdjust=\"spacing\" textLength=\"38\" x=\"225\" y=\"57.1982\">newX</text><rect fill=\"#FFFFFF\" height=\"12\" style=\"stroke:#181818;stroke-width:1.5;\" width=\"12\" x=\"238\" y=\"72.5\"/><!--MD5=[209b3feb70ccb6233bfe1053d122c12c]\n",
       "reverse link E2 to E3--><g id=\"link_E2_E3\"><a href=\"psysml:15e2216a-3ffa-458d-9ef3-f5d48fbfe7fe\" target=\"_top\" title=\"psysml:15e2216a-3ffa-458d-9ef3-f5d48fbfe7fe\" xlink:actuate=\"onRequest\" xlink:href=\"psysml:15e2216a-3ffa-458d-9ef3-f5d48fbfe7fe\" xlink:show=\"new\" xlink:title=\"psysml:15e2216a-3ffa-458d-9ef3-f5d48fbfe7fe\" xlink:type=\"simple\"><path d=\"M94,129.25 C94,145.43 94,162.61 94,175.88 \" fill=\"none\" id=\"E2-backto-E3\" style=\"stroke:#181818;stroke-width:1.0;\"/><polygon fill=\"#181818\" points=\"94,116,90,122,94,128,98,122,94,116\" style=\"stroke:#181818;stroke-width:1.0;\"/></a></g><!--MD5=[c913ad746553741839249298d4b58af8]\n",
       "@startuml\r\n",
       "skin sysmlbw\r\n",
       "skinparam monochrome true\r\n",
       "skinparam wrapWidth 300\r\n",
       "hide circle\r\n",
       "skinparam linetype polyline\r\n",
       "\r\n",
       "package \"TextualRepresentationTest\" as E1  [[psysml:77badc07-b316-4281-ac3a-fbb5ce5d6d5a ]]  {\r\n",
       "comp def \"C\" as E2  <<(T,blue) item  def>> [[psysml:4094f6a7-157d-410f-a652-5cd39e1c0fe4 ]] {\r\n",
       "##//attributes//##\r\n",
       "x: Real\r\n",
       "}\r\n",
       "comp usage \"x_constraint  \" as E3  <<(T,blue) assert constraint>> [[psysml:bff165c1-58b3-4dd4-8269-a7769b97eb56 ]] {\r\n",
       "}\r\n",
       "rec def \"setX\" as E4  <<(T,blue) action  def>> [[psysml:90c9f2e5-1ab8-4a82-830f-194d1afced28 ]] {\r\n",
       "portin \"c\" as E5  [[psysml:eca695b7-e4ea-4848-82b9-964f1ac61a4c ]] \r\n",
       "portin \"newX\" as E6  [[psysml:5108d877-3142-4d1e-a057-58c6f6613775 ]] \r\n",
       "}\r\n",
       "\r\n",
       "}\r\n",
       "E2 *- - E3 [[psysml:15e2216a-3ffa-458d-9ef3-f5d48fbfe7fe ]] \r\n",
       "@enduml\r\n",
       "\n",
       "PlantUML version 1.2022.7(Mon Aug 22 17:01:30 UTC 2022)\n",
       "(EPL source distribution)\n",
       "Java Runtime: OpenJDK Runtime Environment\n",
       "JVM: OpenJDK 64-Bit Server VM\n",
       "Default Encoding: UTF-8\n",
       "Language: en\n",
       "Country: null\n",
       "--></g></svg>"
      ]
     },
     "execution_count": 9,
     "metadata": {},
     "output_type": "execute_result"
    }
   ],
   "source": [
    "%viz --style=\"POLYLINE\" --view=\"Default\" \"TextualRepresentationTest\""
   ]
  },
  {
   "cell_type": "code",
   "execution_count": 10,
   "id": "29c37721",
   "metadata": {
    "execution": {
     "iopub.execute_input": "2024-12-16T14:19:26.082085Z",
     "iopub.status.busy": "2024-12-16T14:19:26.081841Z",
     "iopub.status.idle": "2024-12-16T14:19:26.107505Z",
     "shell.execute_reply": "2024-12-16T14:19:26.107320Z"
    }
   },
   "outputs": [
    {
     "data": {
      "image/svg+xml": [
       "<?xml version=\"1.0\" encoding=\"UTF-8\" standalone=\"no\"?><svg xmlns=\"http://www.w3.org/2000/svg\" xmlns:xlink=\"http://www.w3.org/1999/xlink\" contentStyleType=\"text/css\" height=\"373px\" preserveAspectRatio=\"none\" style=\"width:247px;height:373px;background:#FFFFFF;\" version=\"1.1\" viewBox=\"0 0 247 373\" width=\"247px\" zoomAndPan=\"magnify\"><defs/><g><!--MD5=[fbc87193dbaf4d95561dea2c320d4a47]\n",
       "cluster E1--><g id=\"cluster_E1\"><a href=\"psysml:77badc07-b316-4281-ac3a-fbb5ce5d6d5a\" target=\"_top\" title=\"psysml:77badc07-b316-4281-ac3a-fbb5ce5d6d5a\" xlink:actuate=\"onRequest\" xlink:href=\"psysml:77badc07-b316-4281-ac3a-fbb5ce5d6d5a\" xlink:show=\"new\" xlink:title=\"psysml:77badc07-b316-4281-ac3a-fbb5ce5d6d5a\" xlink:type=\"simple\"><polygon fill=\"none\" points=\"16,6,220.9375,6,227.9375,28.2969,230,28.2969,230,366,16,366,16,6\" style=\"stroke:#000000;stroke-width:1.5;\"/><line style=\"stroke:#000000;stroke-width:1.5;\" x1=\"16\" x2=\"227.9375\" y1=\"28.2969\" y2=\"28.2969\"/><text fill=\"#000000\" font-family=\"sans-serif\" font-size=\"14\" font-weight=\"bold\" lengthAdjust=\"spacing\" textLength=\"198.9375\" x=\"20\" y=\"20.9951\">TextualRepresentationTest</text></a></g><!--MD5=[b4997ac47864f28c2f74865a473b2911]\n",
       "class E2--><a href=\"psysml:4094f6a7-157d-410f-a652-5cd39e1c0fe4\" target=\"_top\" title=\"psysml:4094f6a7-157d-410f-a652-5cd39e1c0fe4\" xlink:actuate=\"onRequest\" xlink:href=\"psysml:4094f6a7-157d-410f-a652-5cd39e1c0fe4\" xlink:show=\"new\" xlink:title=\"psysml:4094f6a7-157d-410f-a652-5cd39e1c0fe4\" xlink:type=\"simple\"><g id=\"elem_E2\"><rect fill=\"#FFFFFF\" height=\"75.0813\" id=\"E2\" style=\"stroke:#181818;stroke-width:0.5;\" width=\"74\" x=\"86\" y=\"166\"/><text fill=\"#000000\" font-family=\"sans-serif\" font-size=\"12\" font-style=\"italic\" lengthAdjust=\"spacing\" textLength=\"69\" x=\"88.5\" y=\"182.1387\">«item  def»</text><text fill=\"#000000\" font-family=\"sans-serif\" font-size=\"14\" lengthAdjust=\"spacing\" textLength=\"10\" x=\"118\" y=\"197.9639\">C</text><line style=\"stroke:#181818;stroke-width:0.5;\" x1=\"87\" x2=\"159\" y1=\"206.2656\" y2=\"206.2656\"/><text fill=\"#000000\" font-family=\"sans-serif\" font-size=\"14\" lengthAdjust=\"spacing\" textLength=\"46\" x=\"92\" y=\"233.7795\">x: Real</text><text fill=\"#000000\" font-family=\"sans-serif\" font-size=\"14\" font-style=\"italic\" lengthAdjust=\"spacing\" textLength=\"66\" x=\"90\" y=\"218.6123\">attributes</text></g></a><!--MD5=[09b614a08d8cba4a07c9adeb5e0fee81]\n",
       "class E3--><a href=\"psysml:bff165c1-58b3-4dd4-8269-a7769b97eb56\" target=\"_top\" title=\"psysml:bff165c1-58b3-4dd4-8269-a7769b97eb56\" xlink:actuate=\"onRequest\" xlink:href=\"psysml:bff165c1-58b3-4dd4-8269-a7769b97eb56\" xlink:show=\"new\" xlink:title=\"psysml:bff165c1-58b3-4dd4-8269-a7769b97eb56\" xlink:type=\"simple\"><g id=\"elem_E3\"><rect fill=\"#FFFFFF\" height=\"48.2656\" id=\"E3\" rx=\"10\" ry=\"10\" style=\"stroke:#181818;stroke-width:0.5;\" width=\"124\" x=\"61\" y=\"302\"/><text fill=\"#000000\" font-family=\"sans-serif\" font-size=\"12\" font-style=\"italic\" lengthAdjust=\"spacing\" textLength=\"122\" x=\"62\" y=\"318.1387\">«assert constraint»</text><text fill=\"#000000\" font-family=\"sans-serif\" font-size=\"14\" lengthAdjust=\"spacing\" textLength=\"83\" x=\"77.5\" y=\"333.9639\">x_constraint</text><line style=\"stroke:#181818;stroke-width:0.5;\" x1=\"62\" x2=\"184\" y1=\"342.2656\" y2=\"342.2656\"/></g></a><!--MD5=[ebbe1d658d1005bcc118a6aa81145e00]\n",
       "class E4--><a href=\"psysml:90c9f2e5-1ab8-4a82-830f-194d1afced28\" target=\"_top\" title=\"psysml:90c9f2e5-1ab8-4a82-830f-194d1afced28\" xlink:actuate=\"onRequest\" xlink:href=\"psysml:90c9f2e5-1ab8-4a82-830f-194d1afced28\" xlink:show=\"new\" xlink:title=\"psysml:90c9f2e5-1ab8-4a82-830f-194d1afced28\" xlink:type=\"simple\"><g id=\"elem_E4\"><rect fill=\"#FFFFFF\" height=\"48.2656\" id=\"E4\" style=\"stroke:#181818;stroke-width:0.5;\" width=\"83\" x=\"81.5\" y=\"41\"/><text fill=\"#000000\" font-family=\"sans-serif\" font-size=\"12\" font-style=\"italic\" lengthAdjust=\"spacing\" textLength=\"81\" x=\"82.5\" y=\"57.1387\">«action  def»</text><text fill=\"#000000\" font-family=\"sans-serif\" font-size=\"14\" lengthAdjust=\"spacing\" textLength=\"31\" x=\"107.5\" y=\"72.9639\">setX</text><line style=\"stroke:#181818;stroke-width:0.5;\" x1=\"82.5\" x2=\"163.5\" y1=\"81.2656\" y2=\"81.2656\"/></g></a><!--MD5=[209b3feb70ccb6233bfe1053d122c12c]\n",
       "reverse link E2 to E3--><g id=\"link_E2_E3\"><a href=\"psysml:15e2216a-3ffa-458d-9ef3-f5d48fbfe7fe\" target=\"_top\" title=\"psysml:15e2216a-3ffa-458d-9ef3-f5d48fbfe7fe\" xlink:actuate=\"onRequest\" xlink:href=\"psysml:15e2216a-3ffa-458d-9ef3-f5d48fbfe7fe\" xlink:show=\"new\" xlink:title=\"psysml:15e2216a-3ffa-458d-9ef3-f5d48fbfe7fe\" xlink:type=\"simple\"><path d=\"M123,254.67 C123,270.98 123,288.31 123,301.69 \" fill=\"none\" id=\"E2-backto-E3\" style=\"stroke:#181818;stroke-width:1.0;\"/><polygon fill=\"#181818\" points=\"123,241.31,119,247.31,123,253.31,127,247.31,123,241.31\" style=\"stroke:#181818;stroke-width:1.0;\"/></a></g><!--MD5=[ddeed8deb2209213b62e6cfabaa108b2]\n",
       "reverse link E4 to E2--><g id=\"link_E4_E2\"><a href=\"psysml:eca695b7-e4ea-4848-82b9-964f1ac61a4c\" target=\"_top\" title=\"psysml:eca695b7-e4ea-4848-82b9-964f1ac61a4c\" xlink:actuate=\"onRequest\" xlink:href=\"psysml:eca695b7-e4ea-4848-82b9-964f1ac61a4c\" xlink:show=\"new\" xlink:title=\"psysml:eca695b7-e4ea-4848-82b9-964f1ac61a4c\" xlink:type=\"simple\"><path d=\"M123,102.22 C123,121.88 123,146.11 123,165.84 \" fill=\"none\" id=\"E4-backto-E2\" style=\"stroke:#181818;stroke-width:1.0;\"/><polygon fill=\"none\" points=\"123,89.16,119,95.16,123,101.16,127,95.16,123,89.16\" style=\"stroke:#181818;stroke-width:1.0;\"/><text fill=\"#000000\" font-family=\"sans-serif\" font-size=\"13\" lengthAdjust=\"spacing\" textLength=\"7\" x=\"124\" y=\"132.0669\">c</text></a></g><!--MD5=[35c02bf04f3e60d79a32c6ee239e1993]\n",
       "@startuml\r\n",
       "skin sysmlbw\r\n",
       "skinparam monochrome true\r\n",
       "skinparam wrapWidth 300\r\n",
       "hide circle\r\n",
       "skinparam linetype polyline\r\n",
       "\r\n",
       "package \"TextualRepresentationTest\" as E1  [[psysml:77badc07-b316-4281-ac3a-fbb5ce5d6d5a ]]  {\r\n",
       "comp def \"C\" as E2  <<(T,blue) item  def>> [[psysml:4094f6a7-157d-410f-a652-5cd39e1c0fe4 ]] {\r\n",
       "##//attributes//##\r\n",
       "x: Real\r\n",
       "}\r\n",
       "comp usage \"x_constraint  \" as E3  <<(T,blue) assert constraint>> [[psysml:bff165c1-58b3-4dd4-8269-a7769b97eb56 ]] {\r\n",
       "}\r\n",
       "comp def \"setX\" as E4  <<(T,blue) action  def>> [[psysml:90c9f2e5-1ab8-4a82-830f-194d1afced28 ]] {\r\n",
       "}\r\n",
       "}\r\n",
       "E2 *- - E3 [[psysml:15e2216a-3ffa-458d-9ef3-f5d48fbfe7fe ]] \r\n",
       "E4 o- - E2 [[psysml:eca695b7-e4ea-4848-82b9-964f1ac61a4c ]] : c\r\n",
       "@enduml\r\n",
       "\n",
       "PlantUML version 1.2022.7(Mon Aug 22 17:01:30 UTC 2022)\n",
       "(EPL source distribution)\n",
       "Java Runtime: OpenJDK Runtime Environment\n",
       "JVM: OpenJDK 64-Bit Server VM\n",
       "Default Encoding: UTF-8\n",
       "Language: en\n",
       "Country: null\n",
       "--></g></svg>"
      ]
     },
     "execution_count": 10,
     "metadata": {},
     "output_type": "execute_result"
    }
   ],
   "source": [
    "%viz --style=\"POLYLINE\" --view=\"Tree\" \"TextualRepresentationTest\""
   ]
  },
  {
   "cell_type": "code",
   "execution_count": 11,
   "id": "0524e5bc",
   "metadata": {
    "execution": {
     "iopub.execute_input": "2024-12-16T14:19:26.159681Z",
     "iopub.status.busy": "2024-12-16T14:19:26.159334Z",
     "iopub.status.idle": "2024-12-16T14:19:26.165484Z",
     "shell.execute_reply": "2024-12-16T14:19:26.165323Z"
    }
   },
   "outputs": [
    {
     "data": {
      "image/svg+xml": [
       "<?xml version=\"1.0\" encoding=\"UTF-8\" standalone=\"no\"?><svg xmlns=\"http://www.w3.org/2000/svg\" xmlns:xlink=\"http://www.w3.org/1999/xlink\" contentStyleType=\"text/css\" height=\"10px\" preserveAspectRatio=\"none\" style=\"width:10px;height:10px;background:#FFFFFF;\" version=\"1.1\" viewBox=\"0 0 10 10\" width=\"10px\" zoomAndPan=\"magnify\"><defs/><g><!--MD5=[20bed88d98f2aabbefdc8661420d403d]\n",
       "@startuml\r\n",
       "skin sysmlbw\r\n",
       "skinparam monochrome true\r\n",
       "skinparam wrapWidth 300\r\n",
       "hide circle\r\n",
       "skinparam linetype polyline\r\n",
       "\r\n",
       "@enduml\r\n",
       "\n",
       "PlantUML version 1.2022.7(Mon Aug 22 17:01:30 UTC 2022)\n",
       "(EPL source distribution)\n",
       "Java Runtime: OpenJDK Runtime Environment\n",
       "JVM: OpenJDK 64-Bit Server VM\n",
       "Default Encoding: UTF-8\n",
       "Language: en\n",
       "Country: null\n",
       "--></g></svg>"
      ]
     },
     "execution_count": 11,
     "metadata": {},
     "output_type": "execute_result"
    }
   ],
   "source": [
    "%viz --style=\"POLYLINE\" --view=\"State\" \"TextualRepresentationTest\""
   ]
  },
  {
   "cell_type": "code",
   "execution_count": 12,
   "id": "9e029275",
   "metadata": {
    "execution": {
     "iopub.execute_input": "2024-12-16T14:19:26.222309Z",
     "iopub.status.busy": "2024-12-16T14:19:26.222117Z",
     "iopub.status.idle": "2024-12-16T14:19:26.246093Z",
     "shell.execute_reply": "2024-12-16T14:19:26.245914Z"
    }
   },
   "outputs": [
    {
     "data": {
      "image/svg+xml": [
       "<?xml version=\"1.0\" encoding=\"UTF-8\" standalone=\"no\"?><svg xmlns=\"http://www.w3.org/2000/svg\" xmlns:xlink=\"http://www.w3.org/1999/xlink\" contentStyleType=\"text/css\" height=\"176px\" preserveAspectRatio=\"none\" style=\"width:287px;height:176px;background:#FFFFFF;\" version=\"1.1\" viewBox=\"0 0 287 176\" width=\"287px\" zoomAndPan=\"magnify\"><defs/><g><!--MD5=[fbc87193dbaf4d95561dea2c320d4a47]\n",
       "cluster E1--><g id=\"cluster_E1\"><a href=\"psysml:77badc07-b316-4281-ac3a-fbb5ce5d6d5a\" target=\"_top\" title=\"psysml:77badc07-b316-4281-ac3a-fbb5ce5d6d5a\" xlink:actuate=\"onRequest\" xlink:href=\"psysml:77badc07-b316-4281-ac3a-fbb5ce5d6d5a\" xlink:show=\"new\" xlink:title=\"psysml:77badc07-b316-4281-ac3a-fbb5ce5d6d5a\" xlink:type=\"simple\"><polygon fill=\"none\" points=\"16,6,220.9375,6,227.9375,28.2969,270,28.2969,270,169,16,169,16,6\" style=\"stroke:#000000;stroke-width:1.5;\"/><line style=\"stroke:#000000;stroke-width:1.5;\" x1=\"16\" x2=\"227.9375\" y1=\"28.2969\" y2=\"28.2969\"/><text fill=\"#000000\" font-family=\"sans-serif\" font-size=\"14\" font-weight=\"bold\" lengthAdjust=\"spacing\" textLength=\"198.9375\" x=\"20\" y=\"20.9951\">TextualRepresentationTest</text></a></g><!--MD5=[d5e69f78d87373223dbae638b30a9c99]\n",
       "cluster E3--><g id=\"cluster_E3\"><a href=\"psysml:90c9f2e5-1ab8-4a82-830f-194d1afced28\" target=\"_top\" title=\"psysml:90c9f2e5-1ab8-4a82-830f-194d1afced28\" xlink:actuate=\"onRequest\" xlink:href=\"psysml:90c9f2e5-1ab8-4a82-830f-194d1afced28\" xlink:show=\"new\" xlink:title=\"psysml:90c9f2e5-1ab8-4a82-830f-194d1afced28\" xlink:type=\"simple\"><rect fill=\"#FFFFFF\" height=\"89.5\" id=\"E3\" style=\"stroke:#383838;stroke-width:1.5;\" width=\"100\" x=\"122.5\" y=\"63.5\"/><text fill=\"#000000\" font-family=\"sans-serif\" font-size=\"12\" font-style=\"italic\" lengthAdjust=\"spacing\" textLength=\"81\" x=\"132\" y=\"79.6387\">«action  def»</text><text fill=\"#000000\" font-family=\"sans-serif\" font-size=\"14\" lengthAdjust=\"spacing\" textLength=\"31\" x=\"157\" y=\"95.4639\">setX</text><line style=\"stroke:#383838;stroke-width:1.0;\" x1=\"122.5\" x2=\"222.5\" y1=\"103.7656\" y2=\"103.7656\"/></a></g><g><a href=\"psysml:4094f6a7-157d-410f-a652-5cd39e1c0fe4\" target=\"_top\" title=\"psysml:4094f6a7-157d-410f-a652-5cd39e1c0fe4\" xlink:actuate=\"onRequest\" xlink:href=\"psysml:4094f6a7-157d-410f-a652-5cd39e1c0fe4\" xlink:show=\"new\" xlink:title=\"psysml:4094f6a7-157d-410f-a652-5cd39e1c0fe4\" xlink:type=\"simple\"><rect fill=\"#FFFFFF\" height=\"45.2656\" id=\"E2\" style=\"stroke:#383838;stroke-width:1.5;\" width=\"76\" x=\"32\" y=\"41\"/><text fill=\"#000000\" font-family=\"sans-serif\" font-size=\"12\" font-style=\"italic\" lengthAdjust=\"spacing\" textLength=\"69\" x=\"35.5\" y=\"57.1387\">«item  def»</text><text fill=\"#000000\" font-family=\"sans-serif\" font-size=\"14\" lengthAdjust=\"spacing\" textLength=\"10\" x=\"65\" y=\"72.9639\">C</text></a></g><text fill=\"#000000\" font-family=\"sans-serif\" font-size=\"14\" lengthAdjust=\"spacing\" textLength=\"8\" x=\"145\" y=\"42.1982\">c</text><rect fill=\"#FFFFFF\" height=\"12\" style=\"stroke:#181818;stroke-width:1.5;\" width=\"12\" x=\"143\" y=\"57.5\"/><text fill=\"#000000\" font-family=\"sans-serif\" font-size=\"14\" lengthAdjust=\"spacing\" textLength=\"38\" x=\"177\" y=\"42.1982\">newX</text><rect fill=\"#FFFFFF\" height=\"12\" style=\"stroke:#181818;stroke-width:1.5;\" width=\"12\" x=\"190\" y=\"57.5\"/><!--MD5=[cf1d8856439fe5fee909632cbdf1a9d6]\n",
       "@startuml\r\n",
       "skin sysmlbw\r\n",
       "skinparam monochrome true\r\n",
       "skinparam wrapWidth 300\r\n",
       "hide circle\r\n",
       "skinparam linetype polyline\r\n",
       "skinparam ranksep 10\r\n",
       "skinparam rectangle {\r\n",
       " backgroundColor<<block>> LightGreen\r\n",
       "}\r\n",
       "\r\n",
       "package \"TextualRepresentationTest\" as E1  [[psysml:77badc07-b316-4281-ac3a-fbb5ce5d6d5a ]]  {\r\n",
       "def \"C\" as E2  <<(T,blue) item  def>> [[psysml:4094f6a7-157d-410f-a652-5cd39e1c0fe4 ]] \r\n",
       "rec def \"setX\" as E3  <<(T,blue) action  def>> [[psysml:90c9f2e5-1ab8-4a82-830f-194d1afced28 ]] {\r\n",
       "portin \"c\" as E4  [[psysml:eca695b7-e4ea-4848-82b9-964f1ac61a4c ]] \r\n",
       "portin \"newX\" as E5  [[psysml:5108d877-3142-4d1e-a057-58c6f6613775 ]] \r\n",
       "}\r\n",
       "\r\n",
       "}\r\n",
       "@enduml\r\n",
       "\n",
       "PlantUML version 1.2022.7(Mon Aug 22 17:01:30 UTC 2022)\n",
       "(EPL source distribution)\n",
       "Java Runtime: OpenJDK Runtime Environment\n",
       "JVM: OpenJDK 64-Bit Server VM\n",
       "Default Encoding: UTF-8\n",
       "Language: en\n",
       "Country: null\n",
       "--></g></svg>"
      ]
     },
     "execution_count": 12,
     "metadata": {},
     "output_type": "execute_result"
    }
   ],
   "source": [
    "%viz --style=\"POLYLINE\" --view=\"Interconnection\" \"TextualRepresentationTest\""
   ]
  },
  {
   "cell_type": "code",
   "execution_count": 13,
   "id": "d2d1b39a",
   "metadata": {
    "execution": {
     "iopub.execute_input": "2024-12-16T14:19:26.300333Z",
     "iopub.status.busy": "2024-12-16T14:19:26.300092Z",
     "iopub.status.idle": "2024-12-16T14:19:26.318677Z",
     "shell.execute_reply": "2024-12-16T14:19:26.318470Z"
    }
   },
   "outputs": [
    {
     "data": {
      "image/svg+xml": [
       "<?xml version=\"1.0\" encoding=\"UTF-8\" standalone=\"no\"?><svg xmlns=\"http://www.w3.org/2000/svg\" xmlns:xlink=\"http://www.w3.org/1999/xlink\" contentStyleType=\"text/css\" height=\"121px\" preserveAspectRatio=\"none\" style=\"width:148px;height:121px;background:#FFFFFF;\" version=\"1.1\" viewBox=\"0 0 148 121\" width=\"148px\" zoomAndPan=\"magnify\"><defs/><g><!--MD5=[fbc87193dbaf4d95561dea2c320d4a47]\n",
       "cluster E1--><g id=\"cluster_E1\"><a href=\"psysml:90c9f2e5-1ab8-4a82-830f-194d1afced28\" target=\"_top\" title=\"psysml:90c9f2e5-1ab8-4a82-830f-194d1afced28\" xlink:actuate=\"onRequest\" xlink:href=\"psysml:90c9f2e5-1ab8-4a82-830f-194d1afced28\" xlink:show=\"new\" xlink:title=\"psysml:90c9f2e5-1ab8-4a82-830f-194d1afced28\" xlink:type=\"simple\"><rect fill=\"#FFFFFF\" height=\"73\" id=\"E1\" style=\"stroke:#383838;stroke-width:1.5;\" width=\"134\" x=\"7\" y=\"42.0986\"/><text fill=\"#000000\" font-family=\"sans-serif\" font-size=\"12\" font-style=\"italic\" lengthAdjust=\"spacing\" textLength=\"81\" x=\"33.5\" y=\"58.2373\">«action  def»</text><text fill=\"#000000\" font-family=\"sans-serif\" font-size=\"14\" lengthAdjust=\"spacing\" textLength=\"31\" x=\"58.5\" y=\"74.0625\">setX</text><line style=\"stroke:#383838;stroke-width:1.0;\" x1=\"7\" x2=\"141\" y1=\"82.3643\" y2=\"82.3643\"/></a></g><text fill=\"#000000\" font-family=\"sans-serif\" font-size=\"14\" lengthAdjust=\"spacing\" textLength=\"8\" x=\"21\" y=\"20.7969\">c</text><rect fill=\"#FFFFFF\" height=\"12\" style=\"stroke:#181818;stroke-width:1.5;\" width=\"12\" x=\"19\" y=\"36.0986\"/><text fill=\"#000000\" font-family=\"sans-serif\" font-size=\"14\" lengthAdjust=\"spacing\" textLength=\"38\" x=\"53\" y=\"20.7969\">newX</text><rect fill=\"#FFFFFF\" height=\"12\" style=\"stroke:#181818;stroke-width:1.5;\" width=\"12\" x=\"66\" y=\"36.0986\"/><!--MD5=[bc6e05dc3e84295c03d0958dcf7e4608]\n",
       "@startuml\r\n",
       "skin sysmlbw\r\n",
       "skinparam monochrome true\r\n",
       "skinparam wrapWidth 300\r\n",
       "hide circle\r\n",
       "skinparam linetype polyline\r\n",
       "skinparam ranksep 8\r\n",
       "\r\n",
       "rec def \"setX\" as E1  <<(T,blue) action  def>> [[psysml:90c9f2e5-1ab8-4a82-830f-194d1afced28 ]] {\r\n",
       "portin \"c\" as E2  [[psysml:eca695b7-e4ea-4848-82b9-964f1ac61a4c ]] \r\n",
       "portin \"newX\" as E3  [[psysml:5108d877-3142-4d1e-a057-58c6f6613775 ]] \r\n",
       "}\r\n",
       "\r\n",
       "@enduml\r\n",
       "\n",
       "PlantUML version 1.2022.7(Mon Aug 22 17:01:30 UTC 2022)\n",
       "(EPL source distribution)\n",
       "Java Runtime: OpenJDK Runtime Environment\n",
       "JVM: OpenJDK 64-Bit Server VM\n",
       "Default Encoding: UTF-8\n",
       "Language: en\n",
       "Country: null\n",
       "--></g></svg>"
      ]
     },
     "execution_count": 13,
     "metadata": {},
     "output_type": "execute_result"
    }
   ],
   "source": [
    "%viz --style=\"POLYLINE\" --view=\"Action\" \"TextualRepresentationTest\""
   ]
  },
  {
   "cell_type": "code",
   "execution_count": 14,
   "id": "4dba4807",
   "metadata": {
    "execution": {
     "iopub.execute_input": "2024-12-16T14:19:26.374151Z",
     "iopub.status.busy": "2024-12-16T14:19:26.373942Z",
     "iopub.status.idle": "2024-12-16T14:19:26.382422Z",
     "shell.execute_reply": "2024-12-16T14:19:26.382576Z"
    }
   },
   "outputs": [
    {
     "data": {
      "image/svg+xml": [
       "<?xml version=\"1.0\" encoding=\"UTF-8\" standalone=\"no\"?><svg xmlns=\"http://www.w3.org/2000/svg\" xmlns:xlink=\"http://www.w3.org/1999/xlink\" contentStyleType=\"text/css\" height=\"10px\" preserveAspectRatio=\"none\" style=\"width:10px;height:10px;background:#FFFFFF;\" version=\"1.1\" viewBox=\"0 0 10 10\" width=\"10px\" zoomAndPan=\"magnify\"><defs/><g><!--MD5=[efefafbf36b45173e0355713d9054f90]\n",
       "@startuml\r\n",
       "skin sysmlbw\r\n",
       "skinparam monochrome true\r\n",
       "skinparam wrapWidth 300\r\n",
       "hide circle\r\n",
       "skinparam linetype polyline\r\n",
       "skinparam roundcorner 20\r\n",
       "skinparam BoxPadding 20\r\n",
       "skinparam SequenceBoxBackgroundColor #white\r\n",
       "skinparam style strictuml\r\n",
       "skinparam maxMessageSize 100\r\n",
       "\r\n",
       "@enduml\r\n",
       "\n",
       "PlantUML version 1.2022.7(Mon Aug 22 17:01:30 UTC 2022)\n",
       "(EPL source distribution)\n",
       "Java Runtime: OpenJDK Runtime Environment\n",
       "JVM: OpenJDK 64-Bit Server VM\n",
       "Default Encoding: UTF-8\n",
       "Language: en\n",
       "Country: null\n",
       "--></g></svg>"
      ]
     },
     "execution_count": 14,
     "metadata": {},
     "output_type": "execute_result"
    }
   ],
   "source": [
    "%viz --style=\"POLYLINE\" --view=\"Sequence\" \"TextualRepresentationTest\""
   ]
  },
  {
   "cell_type": "code",
   "execution_count": 15,
   "id": "e7a30cad",
   "metadata": {
    "execution": {
     "iopub.execute_input": "2024-12-16T14:19:26.438810Z",
     "iopub.status.busy": "2024-12-16T14:19:26.438562Z",
     "iopub.status.idle": "2024-12-16T14:19:26.466281Z",
     "shell.execute_reply": "2024-12-16T14:19:26.466420Z"
    }
   },
   "outputs": [
    {
     "data": {
      "image/svg+xml": [
       "<?xml version=\"1.0\" encoding=\"UTF-8\" standalone=\"no\"?><svg xmlns=\"http://www.w3.org/2000/svg\" xmlns:xlink=\"http://www.w3.org/1999/xlink\" contentStyleType=\"text/css\" height=\"256px\" preserveAspectRatio=\"none\" style=\"width:346px;height:256px;background:#FFFFFF;\" version=\"1.1\" viewBox=\"0 0 346 256\" width=\"346px\" zoomAndPan=\"magnify\"><defs/><g><!--MD5=[fbc87193dbaf4d95561dea2c320d4a47]\n",
       "cluster E1--><g id=\"cluster_E1\"><a href=\"psysml:77badc07-b316-4281-ac3a-fbb5ce5d6d5a\" target=\"_top\" title=\"psysml:77badc07-b316-4281-ac3a-fbb5ce5d6d5a\" xlink:actuate=\"onRequest\" xlink:href=\"psysml:77badc07-b316-4281-ac3a-fbb5ce5d6d5a\" xlink:show=\"new\" xlink:title=\"psysml:77badc07-b316-4281-ac3a-fbb5ce5d6d5a\" xlink:type=\"simple\"><polygon fill=\"none\" points=\"16,6,220.9375,6,227.9375,28.2969,329,28.2969,329,249.5,16,249.5,16,6\" style=\"stroke:#000000;stroke-width:1.5;\"/><line style=\"stroke:#000000;stroke-width:1.5;\" x1=\"16\" x2=\"227.9375\" y1=\"28.2969\" y2=\"28.2969\"/><text fill=\"#000000\" font-family=\"sans-serif\" font-size=\"14\" font-weight=\"bold\" lengthAdjust=\"spacing\" textLength=\"198.9375\" x=\"20\" y=\"20.9951\">TextualRepresentationTest</text></a></g><!--MD5=[f6df4d0ebaf0b5dfb2ced0ae5af7c670]\n",
       "cluster E4--><g id=\"cluster_E4\"><a href=\"psysml:90c9f2e5-1ab8-4a82-830f-194d1afced28\" target=\"_top\" title=\"psysml:90c9f2e5-1ab8-4a82-830f-194d1afced28\" xlink:actuate=\"onRequest\" xlink:href=\"psysml:90c9f2e5-1ab8-4a82-830f-194d1afced28\" xlink:show=\"new\" xlink:title=\"psysml:90c9f2e5-1ab8-4a82-830f-194d1afced28\" xlink:type=\"simple\"><rect fill=\"#FFFFFF\" height=\"155\" id=\"E4\" style=\"stroke:#383838;stroke-width:1.5;\" width=\"134\" x=\"179\" y=\"78.5\"/><text fill=\"#000000\" font-family=\"sans-serif\" font-size=\"12\" font-style=\"italic\" lengthAdjust=\"spacing\" textLength=\"81\" x=\"205.5\" y=\"94.6387\">«action  def»</text><text fill=\"#000000\" font-family=\"sans-serif\" font-size=\"14\" lengthAdjust=\"spacing\" textLength=\"31\" x=\"230.5\" y=\"110.4639\">setX</text><line style=\"stroke:#383838;stroke-width:1.0;\" x1=\"179\" x2=\"313\" y1=\"118.7656\" y2=\"118.7656\"/></a></g><!--MD5=[b4997ac47864f28c2f74865a473b2911]\n",
       "class E2--><a href=\"psysml:4094f6a7-157d-410f-a652-5cd39e1c0fe4\" target=\"_top\" title=\"psysml:4094f6a7-157d-410f-a652-5cd39e1c0fe4\" xlink:actuate=\"onRequest\" xlink:href=\"psysml:4094f6a7-157d-410f-a652-5cd39e1c0fe4\" xlink:show=\"new\" xlink:title=\"psysml:4094f6a7-157d-410f-a652-5cd39e1c0fe4\" xlink:type=\"simple\"><g id=\"elem_E2\"><rect fill=\"#FFFFFF\" height=\"75.0813\" id=\"E2\" style=\"stroke:#181818;stroke-width:0.5;\" width=\"74\" x=\"57\" y=\"41\"/><text fill=\"#000000\" font-family=\"sans-serif\" font-size=\"12\" font-style=\"italic\" lengthAdjust=\"spacing\" textLength=\"69\" x=\"59.5\" y=\"57.1387\">«item  def»</text><text fill=\"#000000\" font-family=\"sans-serif\" font-size=\"14\" lengthAdjust=\"spacing\" textLength=\"10\" x=\"89\" y=\"72.9639\">C</text><line style=\"stroke:#181818;stroke-width:0.5;\" x1=\"58\" x2=\"130\" y1=\"81.2656\" y2=\"81.2656\"/><text fill=\"#000000\" font-family=\"sans-serif\" font-size=\"14\" lengthAdjust=\"spacing\" textLength=\"46\" x=\"63\" y=\"108.7795\">x: Real</text><text fill=\"#000000\" font-family=\"sans-serif\" font-size=\"14\" font-style=\"italic\" lengthAdjust=\"spacing\" textLength=\"66\" x=\"61\" y=\"93.6123\">attributes</text></g></a><!--MD5=[09b614a08d8cba4a07c9adeb5e0fee81]\n",
       "class E3--><a href=\"psysml:bff165c1-58b3-4dd4-8269-a7769b97eb56\" target=\"_top\" title=\"psysml:bff165c1-58b3-4dd4-8269-a7769b97eb56\" xlink:actuate=\"onRequest\" xlink:href=\"psysml:bff165c1-58b3-4dd4-8269-a7769b97eb56\" xlink:show=\"new\" xlink:title=\"psysml:bff165c1-58b3-4dd4-8269-a7769b97eb56\" xlink:type=\"simple\"><g id=\"elem_E3\"><rect fill=\"#FFFFFF\" height=\"48.2656\" id=\"E3\" rx=\"10\" ry=\"10\" style=\"stroke:#181818;stroke-width:0.5;\" width=\"124\" x=\"32\" y=\"176\"/><text fill=\"#000000\" font-family=\"sans-serif\" font-size=\"12\" font-style=\"italic\" lengthAdjust=\"spacing\" textLength=\"122\" x=\"33\" y=\"192.1387\">«assert constraint»</text><text fill=\"#000000\" font-family=\"sans-serif\" font-size=\"14\" lengthAdjust=\"spacing\" textLength=\"83\" x=\"48.5\" y=\"207.9639\">x_constraint</text><line style=\"stroke:#181818;stroke-width:0.5;\" x1=\"33\" x2=\"155\" y1=\"216.2656\" y2=\"216.2656\"/></g></a><text fill=\"#000000\" font-family=\"sans-serif\" font-size=\"14\" lengthAdjust=\"spacing\" textLength=\"8\" x=\"193\" y=\"57.1982\">c</text><rect fill=\"#FFFFFF\" height=\"12\" style=\"stroke:#181818;stroke-width:1.5;\" width=\"12\" x=\"191\" y=\"72.5\"/><text fill=\"#000000\" font-family=\"sans-serif\" font-size=\"14\" lengthAdjust=\"spacing\" textLength=\"38\" x=\"225\" y=\"57.1982\">newX</text><rect fill=\"#FFFFFF\" height=\"12\" style=\"stroke:#181818;stroke-width:1.5;\" width=\"12\" x=\"238\" y=\"72.5\"/><!--MD5=[209b3feb70ccb6233bfe1053d122c12c]\n",
       "reverse link E2 to E3--><g id=\"link_E2_E3\"><a href=\"psysml:15e2216a-3ffa-458d-9ef3-f5d48fbfe7fe\" target=\"_top\" title=\"psysml:15e2216a-3ffa-458d-9ef3-f5d48fbfe7fe\" xlink:actuate=\"onRequest\" xlink:href=\"psysml:15e2216a-3ffa-458d-9ef3-f5d48fbfe7fe\" xlink:show=\"new\" xlink:title=\"psysml:15e2216a-3ffa-458d-9ef3-f5d48fbfe7fe\" xlink:type=\"simple\"><path d=\"M94,129.25 C94,145.43 94,162.61 94,175.88 \" fill=\"none\" id=\"E2-backto-E3\" style=\"stroke:#181818;stroke-width:1.0;\"/><polygon fill=\"#181818\" points=\"94,116,90,122,94,128,98,122,94,116\" style=\"stroke:#181818;stroke-width:1.0;\"/></a></g><!--MD5=[c913ad746553741839249298d4b58af8]\n",
       "@startuml\r\n",
       "skin sysmlbw\r\n",
       "skinparam monochrome true\r\n",
       "skinparam wrapWidth 300\r\n",
       "hide circle\r\n",
       "skinparam linetype polyline\r\n",
       "\r\n",
       "package \"TextualRepresentationTest\" as E1  [[psysml:77badc07-b316-4281-ac3a-fbb5ce5d6d5a ]]  {\r\n",
       "comp def \"C\" as E2  <<(T,blue) item  def>> [[psysml:4094f6a7-157d-410f-a652-5cd39e1c0fe4 ]] {\r\n",
       "##//attributes//##\r\n",
       "x: Real\r\n",
       "}\r\n",
       "comp usage \"x_constraint  \" as E3  <<(T,blue) assert constraint>> [[psysml:bff165c1-58b3-4dd4-8269-a7769b97eb56 ]] {\r\n",
       "}\r\n",
       "rec def \"setX\" as E4  <<(T,blue) action  def>> [[psysml:90c9f2e5-1ab8-4a82-830f-194d1afced28 ]] {\r\n",
       "portin \"c\" as E5  [[psysml:eca695b7-e4ea-4848-82b9-964f1ac61a4c ]] \r\n",
       "portin \"newX\" as E6  [[psysml:5108d877-3142-4d1e-a057-58c6f6613775 ]] \r\n",
       "}\r\n",
       "\r\n",
       "}\r\n",
       "E2 *- - E3 [[psysml:15e2216a-3ffa-458d-9ef3-f5d48fbfe7fe ]] \r\n",
       "@enduml\r\n",
       "\n",
       "PlantUML version 1.2022.7(Mon Aug 22 17:01:30 UTC 2022)\n",
       "(EPL source distribution)\n",
       "Java Runtime: OpenJDK Runtime Environment\n",
       "JVM: OpenJDK 64-Bit Server VM\n",
       "Default Encoding: UTF-8\n",
       "Language: en\n",
       "Country: null\n",
       "--></g></svg>"
      ]
     },
     "execution_count": 15,
     "metadata": {},
     "output_type": "execute_result"
    }
   ],
   "source": [
    "%viz --style=\"POLYLINE\" --view=\"MIXED\" \"TextualRepresentationTest\""
   ]
  },
  {
   "cell_type": "code",
   "execution_count": 16,
   "id": "c318ed60",
   "metadata": {
    "execution": {
     "iopub.execute_input": "2024-12-16T14:19:26.523570Z",
     "iopub.status.busy": "2024-12-16T14:19:26.523232Z",
     "iopub.status.idle": "2024-12-16T14:19:26.546874Z",
     "shell.execute_reply": "2024-12-16T14:19:26.546688Z"
    }
   },
   "outputs": [
    {
     "data": {
      "image/svg+xml": [
       "<?xml version=\"1.0\" encoding=\"UTF-8\" standalone=\"no\"?><svg xmlns=\"http://www.w3.org/2000/svg\" xmlns:xlink=\"http://www.w3.org/1999/xlink\" contentStyleType=\"text/css\" height=\"241px\" preserveAspectRatio=\"none\" style=\"width:330px;height:241px;background:#FFFFFF;\" version=\"1.1\" viewBox=\"0 0 330 241\" width=\"330px\" zoomAndPan=\"magnify\"><defs/><g><!--MD5=[fbc87193dbaf4d95561dea2c320d4a47]\n",
       "cluster E1--><g id=\"cluster_E1\"><a href=\"psysml:77badc07-b316-4281-ac3a-fbb5ce5d6d5a\" target=\"_top\" title=\"psysml:77badc07-b316-4281-ac3a-fbb5ce5d6d5a\" xlink:actuate=\"onRequest\" xlink:href=\"psysml:77badc07-b316-4281-ac3a-fbb5ce5d6d5a\" xlink:show=\"new\" xlink:title=\"psysml:77badc07-b316-4281-ac3a-fbb5ce5d6d5a\" xlink:type=\"simple\"><polygon fill=\"none\" points=\"16,6,220.9375,6,227.9375,28.2969,313,28.2969,313,234,16,234,16,6\" style=\"stroke:#000000;stroke-width:1.5;\"/><line style=\"stroke:#000000;stroke-width:1.5;\" x1=\"16\" x2=\"227.9375\" y1=\"28.2969\" y2=\"28.2969\"/><text fill=\"#000000\" font-family=\"sans-serif\" font-size=\"14\" font-weight=\"bold\" lengthAdjust=\"spacing\" textLength=\"198.9375\" x=\"20\" y=\"20.9951\">TextualRepresentationTest</text></a></g><!--MD5=[f6df4d0ebaf0b5dfb2ced0ae5af7c670]\n",
       "cluster E4--><g id=\"cluster_E4\"><a href=\"psysml:90c9f2e5-1ab8-4a82-830f-194d1afced28\" target=\"_top\" title=\"psysml:90c9f2e5-1ab8-4a82-830f-194d1afced28\" xlink:actuate=\"onRequest\" xlink:href=\"psysml:90c9f2e5-1ab8-4a82-830f-194d1afced28\" xlink:show=\"new\" xlink:title=\"psysml:90c9f2e5-1ab8-4a82-830f-194d1afced28\" xlink:type=\"simple\"><rect fill=\"#FFFFFF\" height=\"47\" id=\"E4\" style=\"stroke:#383838;stroke-width:1.5;\" width=\"246\" x=\"51\" y=\"55\"/><text fill=\"#000000\" font-family=\"sans-serif\" font-size=\"12\" font-style=\"italic\" lengthAdjust=\"spacing\" textLength=\"81\" x=\"133.5\" y=\"71.1387\">«action  def»</text><text fill=\"#000000\" font-family=\"sans-serif\" font-size=\"14\" lengthAdjust=\"spacing\" textLength=\"31\" x=\"158.5\" y=\"86.9639\">setX</text><line style=\"stroke:#383838;stroke-width:1.0;\" x1=\"51\" x2=\"297\" y1=\"95.2656\" y2=\"95.2656\"/></a></g><!--MD5=[b4997ac47864f28c2f74865a473b2911]\n",
       "class E2--><a href=\"psysml:4094f6a7-157d-410f-a652-5cd39e1c0fe4\" target=\"_top\" title=\"psysml:4094f6a7-157d-410f-a652-5cd39e1c0fe4\" xlink:actuate=\"onRequest\" xlink:href=\"psysml:4094f6a7-157d-410f-a652-5cd39e1c0fe4\" xlink:show=\"new\" xlink:title=\"psysml:4094f6a7-157d-410f-a652-5cd39e1c0fe4\" xlink:type=\"simple\"><g id=\"elem_E2\"><rect fill=\"#FFFFFF\" height=\"75.0813\" id=\"E2\" style=\"stroke:#181818;stroke-width:0.5;\" width=\"74\" x=\"32\" y=\"143.5\"/><text fill=\"#000000\" font-family=\"sans-serif\" font-size=\"12\" font-style=\"italic\" lengthAdjust=\"spacing\" textLength=\"69\" x=\"34.5\" y=\"159.6387\">«item  def»</text><text fill=\"#000000\" font-family=\"sans-serif\" font-size=\"14\" lengthAdjust=\"spacing\" textLength=\"10\" x=\"64\" y=\"175.4639\">C</text><line style=\"stroke:#181818;stroke-width:0.5;\" x1=\"33\" x2=\"105\" y1=\"183.7656\" y2=\"183.7656\"/><text fill=\"#000000\" font-family=\"sans-serif\" font-size=\"14\" lengthAdjust=\"spacing\" textLength=\"46\" x=\"38\" y=\"211.2795\">x: Real</text><text fill=\"#000000\" font-family=\"sans-serif\" font-size=\"14\" font-style=\"italic\" lengthAdjust=\"spacing\" textLength=\"66\" x=\"36\" y=\"196.1123\">attributes</text></g></a><!--MD5=[09b614a08d8cba4a07c9adeb5e0fee81]\n",
       "class E3--><a href=\"psysml:bff165c1-58b3-4dd4-8269-a7769b97eb56\" target=\"_top\" title=\"psysml:bff165c1-58b3-4dd4-8269-a7769b97eb56\" xlink:actuate=\"onRequest\" xlink:href=\"psysml:bff165c1-58b3-4dd4-8269-a7769b97eb56\" xlink:show=\"new\" xlink:title=\"psysml:bff165c1-58b3-4dd4-8269-a7769b97eb56\" xlink:type=\"simple\"><g id=\"elem_E3\"><rect fill=\"#FFFFFF\" height=\"48.2656\" id=\"E3\" rx=\"10\" ry=\"10\" style=\"stroke:#181818;stroke-width:0.5;\" width=\"124\" x=\"166\" y=\"157\"/><text fill=\"#000000\" font-family=\"sans-serif\" font-size=\"12\" font-style=\"italic\" lengthAdjust=\"spacing\" textLength=\"122\" x=\"167\" y=\"173.1387\">«assert constraint»</text><text fill=\"#000000\" font-family=\"sans-serif\" font-size=\"14\" lengthAdjust=\"spacing\" textLength=\"83\" x=\"182.5\" y=\"188.9639\">x_constraint</text><line style=\"stroke:#181818;stroke-width:0.5;\" x1=\"167\" x2=\"289\" y1=\"197.2656\" y2=\"197.2656\"/></g></a><text fill=\"#000000\" font-family=\"sans-serif\" font-size=\"14\" lengthAdjust=\"spacing\" textLength=\"8\" x=\"65\" y=\"120.9951\">c</text><rect fill=\"#FFFFFF\" height=\"12\" style=\"stroke:#181818;stroke-width:1.5;\" width=\"12\" x=\"63\" y=\"96\"/><text fill=\"#000000\" font-family=\"sans-serif\" font-size=\"14\" lengthAdjust=\"spacing\" textLength=\"38\" x=\"50\" y=\"33.6982\">newX</text><rect fill=\"#FFFFFF\" height=\"12\" style=\"stroke:#181818;stroke-width:1.5;\" width=\"12\" x=\"63\" y=\"49\"/><!--MD5=[209b3feb70ccb6233bfe1053d122c12c]\n",
       "reverse link E2 to E3--><g id=\"link_E2_E3\"><a href=\"psysml:15e2216a-3ffa-458d-9ef3-f5d48fbfe7fe\" target=\"_top\" title=\"psysml:15e2216a-3ffa-458d-9ef3-f5d48fbfe7fe\" xlink:actuate=\"onRequest\" xlink:href=\"psysml:15e2216a-3ffa-458d-9ef3-f5d48fbfe7fe\" xlink:show=\"new\" xlink:title=\"psysml:15e2216a-3ffa-458d-9ef3-f5d48fbfe7fe\" xlink:type=\"simple\"><path d=\"M119.1,181 C133.93,181 150.4,181 165.91,181 \" fill=\"none\" id=\"E2-backto-E3\" style=\"stroke:#181818;stroke-width:1.0;\"/><polygon fill=\"#181818\" points=\"106.02,181,112.02,185,118.02,181,112.02,177,106.02,181\" style=\"stroke:#181818;stroke-width:1.0;\"/></a></g><!--MD5=[0574f50bd1fea51bcfb21e8b2a1826b8]\n",
       "@startuml\r\n",
       "skin sysmlbw\r\n",
       "skinparam monochrome true\r\n",
       "skinparam wrapWidth 300\r\n",
       "hide circle\r\n",
       "left to right direction\r\n",
       "\r\n",
       "package \"TextualRepresentationTest\" as E1  [[psysml:77badc07-b316-4281-ac3a-fbb5ce5d6d5a ]]  {\r\n",
       "comp def \"C\" as E2  <<(T,blue) item  def>> [[psysml:4094f6a7-157d-410f-a652-5cd39e1c0fe4 ]] {\r\n",
       "##//attributes//##\r\n",
       "x: Real\r\n",
       "}\r\n",
       "comp usage \"x_constraint  \" as E3  <<(T,blue) assert constraint>> [[psysml:bff165c1-58b3-4dd4-8269-a7769b97eb56 ]] {\r\n",
       "}\r\n",
       "rec def \"setX\" as E4  <<(T,blue) action  def>> [[psysml:90c9f2e5-1ab8-4a82-830f-194d1afced28 ]] {\r\n",
       "portin \"c\" as E5  [[psysml:eca695b7-e4ea-4848-82b9-964f1ac61a4c ]] \r\n",
       "portin \"newX\" as E6  [[psysml:5108d877-3142-4d1e-a057-58c6f6613775 ]] \r\n",
       "}\r\n",
       "\r\n",
       "}\r\n",
       "E2 *- - E3 [[psysml:15e2216a-3ffa-458d-9ef3-f5d48fbfe7fe ]] \r\n",
       "@enduml\r\n",
       "\n",
       "PlantUML version 1.2022.7(Mon Aug 22 17:01:30 UTC 2022)\n",
       "(EPL source distribution)\n",
       "Java Runtime: OpenJDK Runtime Environment\n",
       "JVM: OpenJDK 64-Bit Server VM\n",
       "Default Encoding: UTF-8\n",
       "Language: en\n",
       "Country: null\n",
       "--></g></svg>"
      ]
     },
     "execution_count": 16,
     "metadata": {},
     "output_type": "execute_result"
    }
   ],
   "source": [
    "%viz --style=\"LR\" --view=\"Default\" \"TextualRepresentationTest\""
   ]
  },
  {
   "cell_type": "code",
   "execution_count": 17,
   "id": "2cd72708",
   "metadata": {
    "execution": {
     "iopub.execute_input": "2024-12-16T14:19:26.600092Z",
     "iopub.status.busy": "2024-12-16T14:19:26.599854Z",
     "iopub.status.idle": "2024-12-16T14:19:26.621110Z",
     "shell.execute_reply": "2024-12-16T14:19:26.620343Z"
    }
   },
   "outputs": [
    {
     "data": {
      "image/svg+xml": [
       "<?xml version=\"1.0\" encoding=\"UTF-8\" standalone=\"no\"?><svg xmlns=\"http://www.w3.org/2000/svg\" xmlns:xlink=\"http://www.w3.org/1999/xlink\" contentStyleType=\"text/css\" height=\"138px\" preserveAspectRatio=\"none\" style=\"width:476px;height:138px;background:#FFFFFF;\" version=\"1.1\" viewBox=\"0 0 476 138\" width=\"476px\" zoomAndPan=\"magnify\"><defs/><g><!--MD5=[fbc87193dbaf4d95561dea2c320d4a47]\n",
       "cluster E1--><g id=\"cluster_E1\"><a href=\"psysml:77badc07-b316-4281-ac3a-fbb5ce5d6d5a\" target=\"_top\" title=\"psysml:77badc07-b316-4281-ac3a-fbb5ce5d6d5a\" xlink:actuate=\"onRequest\" xlink:href=\"psysml:77badc07-b316-4281-ac3a-fbb5ce5d6d5a\" xlink:show=\"new\" xlink:title=\"psysml:77badc07-b316-4281-ac3a-fbb5ce5d6d5a\" xlink:type=\"simple\"><polygon fill=\"none\" points=\"16,6,220.9375,6,227.9375,28.2969,459,28.2969,459,131,16,131,16,6\" style=\"stroke:#000000;stroke-width:1.5;\"/><line style=\"stroke:#000000;stroke-width:1.5;\" x1=\"16\" x2=\"227.9375\" y1=\"28.2969\" y2=\"28.2969\"/><text fill=\"#000000\" font-family=\"sans-serif\" font-size=\"14\" font-weight=\"bold\" lengthAdjust=\"spacing\" textLength=\"198.9375\" x=\"20\" y=\"20.9951\">TextualRepresentationTest</text></a></g><!--MD5=[b4997ac47864f28c2f74865a473b2911]\n",
       "class E2--><a href=\"psysml:4094f6a7-157d-410f-a652-5cd39e1c0fe4\" target=\"_top\" title=\"psysml:4094f6a7-157d-410f-a652-5cd39e1c0fe4\" xlink:actuate=\"onRequest\" xlink:href=\"psysml:4094f6a7-157d-410f-a652-5cd39e1c0fe4\" xlink:show=\"new\" xlink:title=\"psysml:4094f6a7-157d-410f-a652-5cd39e1c0fe4\" xlink:type=\"simple\"><g id=\"elem_E2\"><rect fill=\"#FFFFFF\" height=\"75.0813\" id=\"E2\" style=\"stroke:#181818;stroke-width:0.5;\" width=\"74\" x=\"184\" y=\"40.5\"/><text fill=\"#000000\" font-family=\"sans-serif\" font-size=\"12\" font-style=\"italic\" lengthAdjust=\"spacing\" textLength=\"69\" x=\"186.5\" y=\"56.6387\">«item  def»</text><text fill=\"#000000\" font-family=\"sans-serif\" font-size=\"14\" lengthAdjust=\"spacing\" textLength=\"10\" x=\"216\" y=\"72.4639\">C</text><line style=\"stroke:#181818;stroke-width:0.5;\" x1=\"185\" x2=\"257\" y1=\"80.7656\" y2=\"80.7656\"/><text fill=\"#000000\" font-family=\"sans-serif\" font-size=\"14\" lengthAdjust=\"spacing\" textLength=\"46\" x=\"190\" y=\"108.2795\">x: Real</text><text fill=\"#000000\" font-family=\"sans-serif\" font-size=\"14\" font-style=\"italic\" lengthAdjust=\"spacing\" textLength=\"66\" x=\"188\" y=\"93.1123\">attributes</text></g></a><!--MD5=[09b614a08d8cba4a07c9adeb5e0fee81]\n",
       "class E3--><a href=\"psysml:bff165c1-58b3-4dd4-8269-a7769b97eb56\" target=\"_top\" title=\"psysml:bff165c1-58b3-4dd4-8269-a7769b97eb56\" xlink:actuate=\"onRequest\" xlink:href=\"psysml:bff165c1-58b3-4dd4-8269-a7769b97eb56\" xlink:show=\"new\" xlink:title=\"psysml:bff165c1-58b3-4dd4-8269-a7769b97eb56\" xlink:type=\"simple\"><g id=\"elem_E3\"><rect fill=\"#FFFFFF\" height=\"48.2656\" id=\"E3\" rx=\"10\" ry=\"10\" style=\"stroke:#181818;stroke-width:0.5;\" width=\"124\" x=\"319\" y=\"54\"/><text fill=\"#000000\" font-family=\"sans-serif\" font-size=\"12\" font-style=\"italic\" lengthAdjust=\"spacing\" textLength=\"122\" x=\"320\" y=\"70.1387\">«assert constraint»</text><text fill=\"#000000\" font-family=\"sans-serif\" font-size=\"14\" lengthAdjust=\"spacing\" textLength=\"83\" x=\"335.5\" y=\"85.9639\">x_constraint</text><line style=\"stroke:#181818;stroke-width:0.5;\" x1=\"320\" x2=\"442\" y1=\"94.2656\" y2=\"94.2656\"/></g></a><!--MD5=[ebbe1d658d1005bcc118a6aa81145e00]\n",
       "class E4--><a href=\"psysml:90c9f2e5-1ab8-4a82-830f-194d1afced28\" target=\"_top\" title=\"psysml:90c9f2e5-1ab8-4a82-830f-194d1afced28\" xlink:actuate=\"onRequest\" xlink:href=\"psysml:90c9f2e5-1ab8-4a82-830f-194d1afced28\" xlink:show=\"new\" xlink:title=\"psysml:90c9f2e5-1ab8-4a82-830f-194d1afced28\" xlink:type=\"simple\"><g id=\"elem_E4\"><rect fill=\"#FFFFFF\" height=\"48.2656\" id=\"E4\" style=\"stroke:#181818;stroke-width:0.5;\" width=\"83\" x=\"32\" y=\"54\"/><text fill=\"#000000\" font-family=\"sans-serif\" font-size=\"12\" font-style=\"italic\" lengthAdjust=\"spacing\" textLength=\"81\" x=\"33\" y=\"70.1387\">«action  def»</text><text fill=\"#000000\" font-family=\"sans-serif\" font-size=\"14\" lengthAdjust=\"spacing\" textLength=\"31\" x=\"58\" y=\"85.9639\">setX</text><line style=\"stroke:#181818;stroke-width:0.5;\" x1=\"33\" x2=\"114\" y1=\"94.2656\" y2=\"94.2656\"/></g></a><!--MD5=[209b3feb70ccb6233bfe1053d122c12c]\n",
       "reverse link E2 to E3--><g id=\"link_E2_E3\"><a href=\"psysml:15e2216a-3ffa-458d-9ef3-f5d48fbfe7fe\" target=\"_top\" title=\"psysml:15e2216a-3ffa-458d-9ef3-f5d48fbfe7fe\" xlink:actuate=\"onRequest\" xlink:href=\"psysml:15e2216a-3ffa-458d-9ef3-f5d48fbfe7fe\" xlink:show=\"new\" xlink:title=\"psysml:15e2216a-3ffa-458d-9ef3-f5d48fbfe7fe\" xlink:type=\"simple\"><path d=\"M271.49,78 C286.49,78 303.16,78 318.83,78 \" fill=\"none\" id=\"E2-backto-E3\" style=\"stroke:#181818;stroke-width:1.0;\"/><polygon fill=\"#181818\" points=\"258.25,78,264.25,82,270.25,78,264.25,74,258.25,78\" style=\"stroke:#181818;stroke-width:1.0;\"/></a></g><!--MD5=[ddeed8deb2209213b62e6cfabaa108b2]\n",
       "reverse link E4 to E2--><g id=\"link_E4_E2\"><a href=\"psysml:eca695b7-e4ea-4848-82b9-964f1ac61a4c\" target=\"_top\" title=\"psysml:eca695b7-e4ea-4848-82b9-964f1ac61a4c\" xlink:actuate=\"onRequest\" xlink:href=\"psysml:eca695b7-e4ea-4848-82b9-964f1ac61a4c\" xlink:show=\"new\" xlink:title=\"psysml:eca695b7-e4ea-4848-82b9-964f1ac61a4c\" xlink:type=\"simple\"><path d=\"M128.11,78 C146.6,78 166.87,78 183.66,78 \" fill=\"none\" id=\"E4-backto-E2\" style=\"stroke:#181818;stroke-width:1.0;\"/><polygon fill=\"none\" points=\"115.03,78,121.03,82,127.03,78,121.03,74,115.03,78\" style=\"stroke:#181818;stroke-width:1.0;\"/><text fill=\"#000000\" font-family=\"sans-serif\" font-size=\"13\" lengthAdjust=\"spacing\" textLength=\"7\" x=\"146\" y=\"74.0669\">c</text></a></g><!--MD5=[200c08c70206eae23f004b41abac61d4]\n",
       "@startuml\r\n",
       "skin sysmlbw\r\n",
       "skinparam monochrome true\r\n",
       "skinparam wrapWidth 300\r\n",
       "hide circle\r\n",
       "left to right direction\r\n",
       "\r\n",
       "package \"TextualRepresentationTest\" as E1  [[psysml:77badc07-b316-4281-ac3a-fbb5ce5d6d5a ]]  {\r\n",
       "comp def \"C\" as E2  <<(T,blue) item  def>> [[psysml:4094f6a7-157d-410f-a652-5cd39e1c0fe4 ]] {\r\n",
       "##//attributes//##\r\n",
       "x: Real\r\n",
       "}\r\n",
       "comp usage \"x_constraint  \" as E3  <<(T,blue) assert constraint>> [[psysml:bff165c1-58b3-4dd4-8269-a7769b97eb56 ]] {\r\n",
       "}\r\n",
       "comp def \"setX\" as E4  <<(T,blue) action  def>> [[psysml:90c9f2e5-1ab8-4a82-830f-194d1afced28 ]] {\r\n",
       "}\r\n",
       "}\r\n",
       "E2 *- - E3 [[psysml:15e2216a-3ffa-458d-9ef3-f5d48fbfe7fe ]] \r\n",
       "E4 o- - E2 [[psysml:eca695b7-e4ea-4848-82b9-964f1ac61a4c ]] : c\r\n",
       "@enduml\r\n",
       "\n",
       "PlantUML version 1.2022.7(Mon Aug 22 17:01:30 UTC 2022)\n",
       "(EPL source distribution)\n",
       "Java Runtime: OpenJDK Runtime Environment\n",
       "JVM: OpenJDK 64-Bit Server VM\n",
       "Default Encoding: UTF-8\n",
       "Language: en\n",
       "Country: null\n",
       "--></g></svg>"
      ]
     },
     "execution_count": 17,
     "metadata": {},
     "output_type": "execute_result"
    }
   ],
   "source": [
    "%viz --style=\"LR\" --view=\"Tree\" \"TextualRepresentationTest\""
   ]
  },
  {
   "cell_type": "code",
   "execution_count": 18,
   "id": "b15cdd64",
   "metadata": {
    "execution": {
     "iopub.execute_input": "2024-12-16T14:19:26.674104Z",
     "iopub.status.busy": "2024-12-16T14:19:26.673887Z",
     "iopub.status.idle": "2024-12-16T14:19:26.679383Z",
     "shell.execute_reply": "2024-12-16T14:19:26.679217Z"
    }
   },
   "outputs": [
    {
     "data": {
      "image/svg+xml": [
       "<?xml version=\"1.0\" encoding=\"UTF-8\" standalone=\"no\"?><svg xmlns=\"http://www.w3.org/2000/svg\" xmlns:xlink=\"http://www.w3.org/1999/xlink\" contentStyleType=\"text/css\" height=\"10px\" preserveAspectRatio=\"none\" style=\"width:10px;height:10px;background:#FFFFFF;\" version=\"1.1\" viewBox=\"0 0 10 10\" width=\"10px\" zoomAndPan=\"magnify\"><defs/><g><!--MD5=[fb420fbd7a91d32138f4344b927a323c]\n",
       "@startuml\r\n",
       "skin sysmlbw\r\n",
       "skinparam monochrome true\r\n",
       "skinparam wrapWidth 300\r\n",
       "hide circle\r\n",
       "left to right direction\r\n",
       "\r\n",
       "@enduml\r\n",
       "\n",
       "PlantUML version 1.2022.7(Mon Aug 22 17:01:30 UTC 2022)\n",
       "(EPL source distribution)\n",
       "Java Runtime: OpenJDK Runtime Environment\n",
       "JVM: OpenJDK 64-Bit Server VM\n",
       "Default Encoding: UTF-8\n",
       "Language: en\n",
       "Country: null\n",
       "--></g></svg>"
      ]
     },
     "execution_count": 18,
     "metadata": {},
     "output_type": "execute_result"
    }
   ],
   "source": [
    "%viz --style=\"LR\" --view=\"State\" \"TextualRepresentationTest\""
   ]
  },
  {
   "cell_type": "code",
   "execution_count": 19,
   "id": "4a74a69b",
   "metadata": {
    "execution": {
     "iopub.execute_input": "2024-12-16T14:19:26.732166Z",
     "iopub.status.busy": "2024-12-16T14:19:26.731924Z",
     "iopub.status.idle": "2024-12-16T14:19:26.752439Z",
     "shell.execute_reply": "2024-12-16T14:19:26.751905Z"
    }
   },
   "outputs": [
    {
     "data": {
      "image/svg+xml": [
       "<?xml version=\"1.0\" encoding=\"UTF-8\" standalone=\"no\"?><svg xmlns=\"http://www.w3.org/2000/svg\" xmlns:xlink=\"http://www.w3.org/1999/xlink\" contentStyleType=\"text/css\" height=\"212px\" preserveAspectRatio=\"none\" style=\"width:279px;height:212px;background:#FFFFFF;\" version=\"1.1\" viewBox=\"0 0 279 212\" width=\"279px\" zoomAndPan=\"magnify\"><defs/><g><!--MD5=[fbc87193dbaf4d95561dea2c320d4a47]\n",
       "cluster E1--><g id=\"cluster_E1\"><a href=\"psysml:77badc07-b316-4281-ac3a-fbb5ce5d6d5a\" target=\"_top\" title=\"psysml:77badc07-b316-4281-ac3a-fbb5ce5d6d5a\" xlink:actuate=\"onRequest\" xlink:href=\"psysml:77badc07-b316-4281-ac3a-fbb5ce5d6d5a\" xlink:show=\"new\" xlink:title=\"psysml:77badc07-b316-4281-ac3a-fbb5ce5d6d5a\" xlink:type=\"simple\"><polygon fill=\"none\" points=\"16,6,220.9375,6,227.9375,28.2969,262,28.2969,262,205,16,205,16,6\" style=\"stroke:#000000;stroke-width:1.5;\"/><line style=\"stroke:#000000;stroke-width:1.5;\" x1=\"16\" x2=\"227.9375\" y1=\"28.2969\" y2=\"28.2969\"/><text fill=\"#000000\" font-family=\"sans-serif\" font-size=\"14\" font-weight=\"bold\" lengthAdjust=\"spacing\" textLength=\"198.9375\" x=\"20\" y=\"20.9951\">TextualRepresentationTest</text></a></g><!--MD5=[d5e69f78d87373223dbae638b30a9c99]\n",
       "cluster E3--><g id=\"cluster_E3\"><a href=\"psysml:90c9f2e5-1ab8-4a82-830f-194d1afced28\" target=\"_top\" title=\"psysml:90c9f2e5-1ab8-4a82-830f-194d1afced28\" xlink:actuate=\"onRequest\" xlink:href=\"psysml:90c9f2e5-1ab8-4a82-830f-194d1afced28\" xlink:show=\"new\" xlink:title=\"psysml:90c9f2e5-1ab8-4a82-830f-194d1afced28\" xlink:type=\"simple\"><rect fill=\"#FFFFFF\" height=\"47\" id=\"E3\" style=\"stroke:#383838;stroke-width:1.5;\" width=\"194\" x=\"52\" y=\"55\"/><text fill=\"#000000\" font-family=\"sans-serif\" font-size=\"12\" font-style=\"italic\" lengthAdjust=\"spacing\" textLength=\"81\" x=\"108.5\" y=\"71.1387\">«action  def»</text><text fill=\"#000000\" font-family=\"sans-serif\" font-size=\"14\" lengthAdjust=\"spacing\" textLength=\"31\" x=\"133.5\" y=\"86.9639\">setX</text><line style=\"stroke:#383838;stroke-width:1.0;\" x1=\"52\" x2=\"246\" y1=\"95.2656\" y2=\"95.2656\"/></a></g><g><a href=\"psysml:4094f6a7-157d-410f-a652-5cd39e1c0fe4\" target=\"_top\" title=\"psysml:4094f6a7-157d-410f-a652-5cd39e1c0fe4\" xlink:actuate=\"onRequest\" xlink:href=\"psysml:4094f6a7-157d-410f-a652-5cd39e1c0fe4\" xlink:show=\"new\" xlink:title=\"psysml:4094f6a7-157d-410f-a652-5cd39e1c0fe4\" xlink:type=\"simple\"><rect fill=\"#FFFFFF\" height=\"45.2656\" id=\"E2\" style=\"stroke:#383838;stroke-width:1.5;\" width=\"76\" x=\"32\" y=\"143.5\"/><text fill=\"#000000\" font-family=\"sans-serif\" font-size=\"12\" font-style=\"italic\" lengthAdjust=\"spacing\" textLength=\"69\" x=\"35.5\" y=\"159.6387\">«item  def»</text><text fill=\"#000000\" font-family=\"sans-serif\" font-size=\"14\" lengthAdjust=\"spacing\" textLength=\"10\" x=\"65\" y=\"175.4639\">C</text></a></g><text fill=\"#000000\" font-family=\"sans-serif\" font-size=\"14\" lengthAdjust=\"spacing\" textLength=\"8\" x=\"66\" y=\"120.9951\">c</text><rect fill=\"#FFFFFF\" height=\"12\" style=\"stroke:#181818;stroke-width:1.5;\" width=\"12\" x=\"64\" y=\"96\"/><text fill=\"#000000\" font-family=\"sans-serif\" font-size=\"14\" lengthAdjust=\"spacing\" textLength=\"38\" x=\"51\" y=\"33.6982\">newX</text><rect fill=\"#FFFFFF\" height=\"12\" style=\"stroke:#181818;stroke-width:1.5;\" width=\"12\" x=\"64\" y=\"49\"/><!--MD5=[318dd911204690bcb8f9f64aab10a626]\n",
       "@startuml\r\n",
       "skin sysmlbw\r\n",
       "skinparam monochrome true\r\n",
       "skinparam wrapWidth 300\r\n",
       "hide circle\r\n",
       "left to right direction\r\n",
       "skinparam ranksep 10\r\n",
       "skinparam rectangle {\r\n",
       " backgroundColor<<block>> LightGreen\r\n",
       "}\r\n",
       "\r\n",
       "package \"TextualRepresentationTest\" as E1  [[psysml:77badc07-b316-4281-ac3a-fbb5ce5d6d5a ]]  {\r\n",
       "def \"C\" as E2  <<(T,blue) item  def>> [[psysml:4094f6a7-157d-410f-a652-5cd39e1c0fe4 ]] \r\n",
       "rec def \"setX\" as E3  <<(T,blue) action  def>> [[psysml:90c9f2e5-1ab8-4a82-830f-194d1afced28 ]] {\r\n",
       "portin \"c\" as E4  [[psysml:eca695b7-e4ea-4848-82b9-964f1ac61a4c ]] \r\n",
       "portin \"newX\" as E5  [[psysml:5108d877-3142-4d1e-a057-58c6f6613775 ]] \r\n",
       "}\r\n",
       "\r\n",
       "}\r\n",
       "@enduml\r\n",
       "\n",
       "PlantUML version 1.2022.7(Mon Aug 22 17:01:30 UTC 2022)\n",
       "(EPL source distribution)\n",
       "Java Runtime: OpenJDK Runtime Environment\n",
       "JVM: OpenJDK 64-Bit Server VM\n",
       "Default Encoding: UTF-8\n",
       "Language: en\n",
       "Country: null\n",
       "--></g></svg>"
      ]
     },
     "execution_count": 19,
     "metadata": {},
     "output_type": "execute_result"
    }
   ],
   "source": [
    "%viz --style=\"LR\" --view=\"Interconnection\" \"TextualRepresentationTest\""
   ]
  },
  {
   "cell_type": "code",
   "execution_count": 20,
   "id": "b046cc3b",
   "metadata": {
    "execution": {
     "iopub.execute_input": "2024-12-16T14:19:26.804550Z",
     "iopub.status.busy": "2024-12-16T14:19:26.804308Z",
     "iopub.status.idle": "2024-12-16T14:19:26.821140Z",
     "shell.execute_reply": "2024-12-16T14:19:26.820915Z"
    }
   },
   "outputs": [
    {
     "data": {
      "image/svg+xml": [
       "<?xml version=\"1.0\" encoding=\"UTF-8\" standalone=\"no\"?><svg xmlns=\"http://www.w3.org/2000/svg\" xmlns:xlink=\"http://www.w3.org/1999/xlink\" contentStyleType=\"text/css\" height=\"116px\" preserveAspectRatio=\"none\" style=\"width:176px;height:116px;background:#FFFFFF;\" version=\"1.1\" viewBox=\"0 0 176 116\" width=\"176px\" zoomAndPan=\"magnify\"><defs/><g><!--MD5=[fbc87193dbaf4d95561dea2c320d4a47]\n",
       "cluster E1--><g id=\"cluster_E1\"><a href=\"psysml:90c9f2e5-1ab8-4a82-830f-194d1afced28\" target=\"_top\" title=\"psysml:90c9f2e5-1ab8-4a82-830f-194d1afced28\" xlink:actuate=\"onRequest\" xlink:href=\"psysml:90c9f2e5-1ab8-4a82-830f-194d1afced28\" xlink:show=\"new\" xlink:title=\"psysml:90c9f2e5-1ab8-4a82-830f-194d1afced28\" xlink:type=\"simple\"><rect fill=\"#FFFFFF\" height=\"47\" id=\"E1\" style=\"stroke:#383838;stroke-width:1.5;\" width=\"162\" x=\"7\" y=\"42.0986\"/><text fill=\"#000000\" font-family=\"sans-serif\" font-size=\"12\" font-style=\"italic\" lengthAdjust=\"spacing\" textLength=\"81\" x=\"47.5\" y=\"58.2373\">«action  def»</text><text fill=\"#000000\" font-family=\"sans-serif\" font-size=\"14\" lengthAdjust=\"spacing\" textLength=\"31\" x=\"72.5\" y=\"74.0625\">setX</text><line style=\"stroke:#383838;stroke-width:1.0;\" x1=\"7\" x2=\"169\" y1=\"82.3643\" y2=\"82.3643\"/></a></g><text fill=\"#000000\" font-family=\"sans-serif\" font-size=\"14\" lengthAdjust=\"spacing\" textLength=\"8\" x=\"21\" y=\"108.0938\">c</text><rect fill=\"#FFFFFF\" height=\"12\" style=\"stroke:#181818;stroke-width:1.5;\" width=\"12\" x=\"19\" y=\"83.0986\"/><text fill=\"#000000\" font-family=\"sans-serif\" font-size=\"14\" lengthAdjust=\"spacing\" textLength=\"38\" x=\"6\" y=\"20.7969\">newX</text><rect fill=\"#FFFFFF\" height=\"12\" style=\"stroke:#181818;stroke-width:1.5;\" width=\"12\" x=\"19\" y=\"36.0986\"/><!--MD5=[4bbb7bef9d936078793db1c1d18a5987]\n",
       "@startuml\r\n",
       "skin sysmlbw\r\n",
       "skinparam monochrome true\r\n",
       "skinparam wrapWidth 300\r\n",
       "hide circle\r\n",
       "left to right direction\r\n",
       "skinparam ranksep 8\r\n",
       "\r\n",
       "rec def \"setX\" as E1  <<(T,blue) action  def>> [[psysml:90c9f2e5-1ab8-4a82-830f-194d1afced28 ]] {\r\n",
       "portin \"c\" as E2  [[psysml:eca695b7-e4ea-4848-82b9-964f1ac61a4c ]] \r\n",
       "portin \"newX\" as E3  [[psysml:5108d877-3142-4d1e-a057-58c6f6613775 ]] \r\n",
       "}\r\n",
       "\r\n",
       "@enduml\r\n",
       "\n",
       "PlantUML version 1.2022.7(Mon Aug 22 17:01:30 UTC 2022)\n",
       "(EPL source distribution)\n",
       "Java Runtime: OpenJDK Runtime Environment\n",
       "JVM: OpenJDK 64-Bit Server VM\n",
       "Default Encoding: UTF-8\n",
       "Language: en\n",
       "Country: null\n",
       "--></g></svg>"
      ]
     },
     "execution_count": 20,
     "metadata": {},
     "output_type": "execute_result"
    }
   ],
   "source": [
    "%viz --style=\"LR\" --view=\"Action\" \"TextualRepresentationTest\""
   ]
  },
  {
   "cell_type": "code",
   "execution_count": 21,
   "id": "1826336e",
   "metadata": {
    "execution": {
     "iopub.execute_input": "2024-12-16T14:19:26.873167Z",
     "iopub.status.busy": "2024-12-16T14:19:26.872937Z",
     "iopub.status.idle": "2024-12-16T14:19:26.880286Z",
     "shell.execute_reply": "2024-12-16T14:19:26.880073Z"
    }
   },
   "outputs": [
    {
     "data": {
      "image/svg+xml": [
       "<?xml version=\"1.0\" encoding=\"UTF-8\" standalone=\"no\"?><svg xmlns=\"http://www.w3.org/2000/svg\" xmlns:xlink=\"http://www.w3.org/1999/xlink\" contentStyleType=\"text/css\" height=\"10px\" preserveAspectRatio=\"none\" style=\"width:10px;height:10px;background:#FFFFFF;\" version=\"1.1\" viewBox=\"0 0 10 10\" width=\"10px\" zoomAndPan=\"magnify\"><defs/><g><!--MD5=[3d7abb46b795db4c9d99c7acf425de78]\n",
       "@startuml\r\n",
       "skin sysmlbw\r\n",
       "skinparam monochrome true\r\n",
       "skinparam wrapWidth 300\r\n",
       "hide circle\r\n",
       "left to right direction\r\n",
       "skinparam roundcorner 20\r\n",
       "skinparam BoxPadding 20\r\n",
       "skinparam SequenceBoxBackgroundColor #white\r\n",
       "skinparam style strictuml\r\n",
       "skinparam maxMessageSize 100\r\n",
       "\r\n",
       "@enduml\r\n",
       "\n",
       "PlantUML version 1.2022.7(Mon Aug 22 17:01:30 UTC 2022)\n",
       "(EPL source distribution)\n",
       "Java Runtime: OpenJDK Runtime Environment\n",
       "JVM: OpenJDK 64-Bit Server VM\n",
       "Default Encoding: UTF-8\n",
       "Language: en\n",
       "Country: null\n",
       "--></g></svg>"
      ]
     },
     "execution_count": 21,
     "metadata": {},
     "output_type": "execute_result"
    }
   ],
   "source": [
    "%viz --style=\"LR\" --view=\"Sequence\" \"TextualRepresentationTest\""
   ]
  },
  {
   "cell_type": "code",
   "execution_count": 22,
   "id": "2689d648",
   "metadata": {
    "execution": {
     "iopub.execute_input": "2024-12-16T14:19:26.933940Z",
     "iopub.status.busy": "2024-12-16T14:19:26.933748Z",
     "iopub.status.idle": "2024-12-16T14:19:26.959978Z",
     "shell.execute_reply": "2024-12-16T14:19:26.958940Z"
    }
   },
   "outputs": [
    {
     "data": {
      "image/svg+xml": [
       "<?xml version=\"1.0\" encoding=\"UTF-8\" standalone=\"no\"?><svg xmlns=\"http://www.w3.org/2000/svg\" xmlns:xlink=\"http://www.w3.org/1999/xlink\" contentStyleType=\"text/css\" height=\"241px\" preserveAspectRatio=\"none\" style=\"width:330px;height:241px;background:#FFFFFF;\" version=\"1.1\" viewBox=\"0 0 330 241\" width=\"330px\" zoomAndPan=\"magnify\"><defs/><g><!--MD5=[fbc87193dbaf4d95561dea2c320d4a47]\n",
       "cluster E1--><g id=\"cluster_E1\"><a href=\"psysml:77badc07-b316-4281-ac3a-fbb5ce5d6d5a\" target=\"_top\" title=\"psysml:77badc07-b316-4281-ac3a-fbb5ce5d6d5a\" xlink:actuate=\"onRequest\" xlink:href=\"psysml:77badc07-b316-4281-ac3a-fbb5ce5d6d5a\" xlink:show=\"new\" xlink:title=\"psysml:77badc07-b316-4281-ac3a-fbb5ce5d6d5a\" xlink:type=\"simple\"><polygon fill=\"none\" points=\"16,6,220.9375,6,227.9375,28.2969,313,28.2969,313,234,16,234,16,6\" style=\"stroke:#000000;stroke-width:1.5;\"/><line style=\"stroke:#000000;stroke-width:1.5;\" x1=\"16\" x2=\"227.9375\" y1=\"28.2969\" y2=\"28.2969\"/><text fill=\"#000000\" font-family=\"sans-serif\" font-size=\"14\" font-weight=\"bold\" lengthAdjust=\"spacing\" textLength=\"198.9375\" x=\"20\" y=\"20.9951\">TextualRepresentationTest</text></a></g><!--MD5=[f6df4d0ebaf0b5dfb2ced0ae5af7c670]\n",
       "cluster E4--><g id=\"cluster_E4\"><a href=\"psysml:90c9f2e5-1ab8-4a82-830f-194d1afced28\" target=\"_top\" title=\"psysml:90c9f2e5-1ab8-4a82-830f-194d1afced28\" xlink:actuate=\"onRequest\" xlink:href=\"psysml:90c9f2e5-1ab8-4a82-830f-194d1afced28\" xlink:show=\"new\" xlink:title=\"psysml:90c9f2e5-1ab8-4a82-830f-194d1afced28\" xlink:type=\"simple\"><rect fill=\"#FFFFFF\" height=\"47\" id=\"E4\" style=\"stroke:#383838;stroke-width:1.5;\" width=\"246\" x=\"51\" y=\"55\"/><text fill=\"#000000\" font-family=\"sans-serif\" font-size=\"12\" font-style=\"italic\" lengthAdjust=\"spacing\" textLength=\"81\" x=\"133.5\" y=\"71.1387\">«action  def»</text><text fill=\"#000000\" font-family=\"sans-serif\" font-size=\"14\" lengthAdjust=\"spacing\" textLength=\"31\" x=\"158.5\" y=\"86.9639\">setX</text><line style=\"stroke:#383838;stroke-width:1.0;\" x1=\"51\" x2=\"297\" y1=\"95.2656\" y2=\"95.2656\"/></a></g><!--MD5=[b4997ac47864f28c2f74865a473b2911]\n",
       "class E2--><a href=\"psysml:4094f6a7-157d-410f-a652-5cd39e1c0fe4\" target=\"_top\" title=\"psysml:4094f6a7-157d-410f-a652-5cd39e1c0fe4\" xlink:actuate=\"onRequest\" xlink:href=\"psysml:4094f6a7-157d-410f-a652-5cd39e1c0fe4\" xlink:show=\"new\" xlink:title=\"psysml:4094f6a7-157d-410f-a652-5cd39e1c0fe4\" xlink:type=\"simple\"><g id=\"elem_E2\"><rect fill=\"#FFFFFF\" height=\"75.0813\" id=\"E2\" style=\"stroke:#181818;stroke-width:0.5;\" width=\"74\" x=\"32\" y=\"143.5\"/><text fill=\"#000000\" font-family=\"sans-serif\" font-size=\"12\" font-style=\"italic\" lengthAdjust=\"spacing\" textLength=\"69\" x=\"34.5\" y=\"159.6387\">«item  def»</text><text fill=\"#000000\" font-family=\"sans-serif\" font-size=\"14\" lengthAdjust=\"spacing\" textLength=\"10\" x=\"64\" y=\"175.4639\">C</text><line style=\"stroke:#181818;stroke-width:0.5;\" x1=\"33\" x2=\"105\" y1=\"183.7656\" y2=\"183.7656\"/><text fill=\"#000000\" font-family=\"sans-serif\" font-size=\"14\" lengthAdjust=\"spacing\" textLength=\"46\" x=\"38\" y=\"211.2795\">x: Real</text><text fill=\"#000000\" font-family=\"sans-serif\" font-size=\"14\" font-style=\"italic\" lengthAdjust=\"spacing\" textLength=\"66\" x=\"36\" y=\"196.1123\">attributes</text></g></a><!--MD5=[09b614a08d8cba4a07c9adeb5e0fee81]\n",
       "class E3--><a href=\"psysml:bff165c1-58b3-4dd4-8269-a7769b97eb56\" target=\"_top\" title=\"psysml:bff165c1-58b3-4dd4-8269-a7769b97eb56\" xlink:actuate=\"onRequest\" xlink:href=\"psysml:bff165c1-58b3-4dd4-8269-a7769b97eb56\" xlink:show=\"new\" xlink:title=\"psysml:bff165c1-58b3-4dd4-8269-a7769b97eb56\" xlink:type=\"simple\"><g id=\"elem_E3\"><rect fill=\"#FFFFFF\" height=\"48.2656\" id=\"E3\" rx=\"10\" ry=\"10\" style=\"stroke:#181818;stroke-width:0.5;\" width=\"124\" x=\"166\" y=\"157\"/><text fill=\"#000000\" font-family=\"sans-serif\" font-size=\"12\" font-style=\"italic\" lengthAdjust=\"spacing\" textLength=\"122\" x=\"167\" y=\"173.1387\">«assert constraint»</text><text fill=\"#000000\" font-family=\"sans-serif\" font-size=\"14\" lengthAdjust=\"spacing\" textLength=\"83\" x=\"182.5\" y=\"188.9639\">x_constraint</text><line style=\"stroke:#181818;stroke-width:0.5;\" x1=\"167\" x2=\"289\" y1=\"197.2656\" y2=\"197.2656\"/></g></a><text fill=\"#000000\" font-family=\"sans-serif\" font-size=\"14\" lengthAdjust=\"spacing\" textLength=\"8\" x=\"65\" y=\"120.9951\">c</text><rect fill=\"#FFFFFF\" height=\"12\" style=\"stroke:#181818;stroke-width:1.5;\" width=\"12\" x=\"63\" y=\"96\"/><text fill=\"#000000\" font-family=\"sans-serif\" font-size=\"14\" lengthAdjust=\"spacing\" textLength=\"38\" x=\"50\" y=\"33.6982\">newX</text><rect fill=\"#FFFFFF\" height=\"12\" style=\"stroke:#181818;stroke-width:1.5;\" width=\"12\" x=\"63\" y=\"49\"/><!--MD5=[209b3feb70ccb6233bfe1053d122c12c]\n",
       "reverse link E2 to E3--><g id=\"link_E2_E3\"><a href=\"psysml:15e2216a-3ffa-458d-9ef3-f5d48fbfe7fe\" target=\"_top\" title=\"psysml:15e2216a-3ffa-458d-9ef3-f5d48fbfe7fe\" xlink:actuate=\"onRequest\" xlink:href=\"psysml:15e2216a-3ffa-458d-9ef3-f5d48fbfe7fe\" xlink:show=\"new\" xlink:title=\"psysml:15e2216a-3ffa-458d-9ef3-f5d48fbfe7fe\" xlink:type=\"simple\"><path d=\"M119.1,181 C133.93,181 150.4,181 165.91,181 \" fill=\"none\" id=\"E2-backto-E3\" style=\"stroke:#181818;stroke-width:1.0;\"/><polygon fill=\"#181818\" points=\"106.02,181,112.02,185,118.02,181,112.02,177,106.02,181\" style=\"stroke:#181818;stroke-width:1.0;\"/></a></g><!--MD5=[0574f50bd1fea51bcfb21e8b2a1826b8]\n",
       "@startuml\r\n",
       "skin sysmlbw\r\n",
       "skinparam monochrome true\r\n",
       "skinparam wrapWidth 300\r\n",
       "hide circle\r\n",
       "left to right direction\r\n",
       "\r\n",
       "package \"TextualRepresentationTest\" as E1  [[psysml:77badc07-b316-4281-ac3a-fbb5ce5d6d5a ]]  {\r\n",
       "comp def \"C\" as E2  <<(T,blue) item  def>> [[psysml:4094f6a7-157d-410f-a652-5cd39e1c0fe4 ]] {\r\n",
       "##//attributes//##\r\n",
       "x: Real\r\n",
       "}\r\n",
       "comp usage \"x_constraint  \" as E3  <<(T,blue) assert constraint>> [[psysml:bff165c1-58b3-4dd4-8269-a7769b97eb56 ]] {\r\n",
       "}\r\n",
       "rec def \"setX\" as E4  <<(T,blue) action  def>> [[psysml:90c9f2e5-1ab8-4a82-830f-194d1afced28 ]] {\r\n",
       "portin \"c\" as E5  [[psysml:eca695b7-e4ea-4848-82b9-964f1ac61a4c ]] \r\n",
       "portin \"newX\" as E6  [[psysml:5108d877-3142-4d1e-a057-58c6f6613775 ]] \r\n",
       "}\r\n",
       "\r\n",
       "}\r\n",
       "E2 *- - E3 [[psysml:15e2216a-3ffa-458d-9ef3-f5d48fbfe7fe ]] \r\n",
       "@enduml\r\n",
       "\n",
       "PlantUML version 1.2022.7(Mon Aug 22 17:01:30 UTC 2022)\n",
       "(EPL source distribution)\n",
       "Java Runtime: OpenJDK Runtime Environment\n",
       "JVM: OpenJDK 64-Bit Server VM\n",
       "Default Encoding: UTF-8\n",
       "Language: en\n",
       "Country: null\n",
       "--></g></svg>"
      ]
     },
     "execution_count": 22,
     "metadata": {},
     "output_type": "execute_result"
    }
   ],
   "source": [
    "%viz --style=\"LR\" --view=\"MIXED\" \"TextualRepresentationTest\""
   ]
  },
  {
   "cell_type": "code",
   "execution_count": 23,
   "id": "3811814a",
   "metadata": {
    "execution": {
     "iopub.execute_input": "2024-12-16T14:19:27.013731Z",
     "iopub.status.busy": "2024-12-16T14:19:27.013284Z",
     "iopub.status.idle": "2024-12-16T14:19:27.036974Z",
     "shell.execute_reply": "2024-12-16T14:19:27.036223Z"
    }
   },
   "outputs": [
    {
     "data": {
      "image/svg+xml": [
       "<?xml version=\"1.0\" encoding=\"UTF-8\" standalone=\"no\"?><svg xmlns=\"http://www.w3.org/2000/svg\" xmlns:xlink=\"http://www.w3.org/1999/xlink\" contentStyleType=\"text/css\" height=\"256px\" preserveAspectRatio=\"none\" style=\"width:346px;height:256px;background:#FFFFFF;\" version=\"1.1\" viewBox=\"0 0 346 256\" width=\"346px\" zoomAndPan=\"magnify\"><defs><filter height=\"300%\" id=\"f11f3nxswyaigf\" width=\"300%\" x=\"-1\" y=\"-1\"><feGaussianBlur result=\"blurOut\" stdDeviation=\"2.0\"/><feColorMatrix in=\"blurOut\" result=\"blurOut2\" type=\"matrix\" values=\"0 0 0 0 0 0 0 0 0 0 0 0 0 0 0 0 0 0 .4 0\"/><feOffset dx=\"4.0\" dy=\"4.0\" in=\"blurOut2\" result=\"blurOut3\"/><feBlend in=\"SourceGraphic\" in2=\"blurOut3\" mode=\"normal\"/></filter></defs><g><!--MD5=[fbc87193dbaf4d95561dea2c320d4a47]\n",
       "cluster E1--><g id=\"cluster_E1\"><a href=\"psysml:77badc07-b316-4281-ac3a-fbb5ce5d6d5a\" target=\"_top\" title=\"psysml:77badc07-b316-4281-ac3a-fbb5ce5d6d5a\" xlink:actuate=\"onRequest\" xlink:href=\"psysml:77badc07-b316-4281-ac3a-fbb5ce5d6d5a\" xlink:show=\"new\" xlink:title=\"psysml:77badc07-b316-4281-ac3a-fbb5ce5d6d5a\" xlink:type=\"simple\"><polygon fill=\"none\" filter=\"url(#f11f3nxswyaigf)\" points=\"16,6,220.9375,6,227.9375,28.2969,329,28.2969,329,249.5,16,249.5,16,6\" style=\"stroke:#000000;stroke-width:1.5;\"/><line style=\"stroke:#000000;stroke-width:1.5;\" x1=\"16\" x2=\"227.9375\" y1=\"28.2969\" y2=\"28.2969\"/><text fill=\"#000000\" font-family=\"sans-serif\" font-size=\"14\" font-weight=\"bold\" lengthAdjust=\"spacing\" textLength=\"198.9375\" x=\"20\" y=\"20.9951\">TextualRepresentationTest</text></a></g><!--MD5=[f6df4d0ebaf0b5dfb2ced0ae5af7c670]\n",
       "cluster E4--><g id=\"cluster_E4\"><a href=\"psysml:90c9f2e5-1ab8-4a82-830f-194d1afced28\" target=\"_top\" title=\"psysml:90c9f2e5-1ab8-4a82-830f-194d1afced28\" xlink:actuate=\"onRequest\" xlink:href=\"psysml:90c9f2e5-1ab8-4a82-830f-194d1afced28\" xlink:show=\"new\" xlink:title=\"psysml:90c9f2e5-1ab8-4a82-830f-194d1afced28\" xlink:type=\"simple\"><rect fill=\"#FFFFFF\" filter=\"url(#f11f3nxswyaigf)\" height=\"155\" id=\"E4\" style=\"stroke:#A80036;stroke-width:1.5;\" width=\"134\" x=\"179\" y=\"78.5\"/><rect fill=\"#FFFACD\" height=\"40.2656\" style=\"stroke:#A80036;stroke-width:1.5;\" width=\"134\" x=\"179\" y=\"78.5\"/><text fill=\"#000000\" font-family=\"sans-serif\" font-size=\"12\" font-style=\"italic\" lengthAdjust=\"spacing\" textLength=\"81\" x=\"205.5\" y=\"94.6387\">«action  def»</text><text fill=\"#000000\" font-family=\"sans-serif\" font-size=\"14\" lengthAdjust=\"spacing\" textLength=\"31\" x=\"230.5\" y=\"110.4639\">setX</text></a></g><!--MD5=[b4997ac47864f28c2f74865a473b2911]\n",
       "class E2--><a href=\"psysml:4094f6a7-157d-410f-a652-5cd39e1c0fe4\" target=\"_top\" title=\"psysml:4094f6a7-157d-410f-a652-5cd39e1c0fe4\" xlink:actuate=\"onRequest\" xlink:href=\"psysml:4094f6a7-157d-410f-a652-5cd39e1c0fe4\" xlink:show=\"new\" xlink:title=\"psysml:4094f6a7-157d-410f-a652-5cd39e1c0fe4\" xlink:type=\"simple\"><g id=\"elem_E2\"><rect fill=\"#FFFACD\" filter=\"url(#f11f3nxswyaigf)\" height=\"75.0813\" id=\"E2\" style=\"stroke:#181818;stroke-width:0.5;\" width=\"74\" x=\"57\" y=\"41\"/><text fill=\"#000000\" font-family=\"sans-serif\" font-size=\"12\" font-style=\"italic\" lengthAdjust=\"spacing\" textLength=\"69\" x=\"59.5\" y=\"57.1387\">«item  def»</text><text fill=\"#000000\" font-family=\"sans-serif\" font-size=\"14\" lengthAdjust=\"spacing\" textLength=\"10\" x=\"89\" y=\"72.9639\">C</text><line style=\"stroke:#181818;stroke-width:0.5;\" x1=\"58\" x2=\"130\" y1=\"81.2656\" y2=\"81.2656\"/><text fill=\"#000000\" font-family=\"sans-serif\" font-size=\"14\" lengthAdjust=\"spacing\" textLength=\"46\" x=\"63\" y=\"108.7795\">x: Real</text><text fill=\"#000000\" font-family=\"sans-serif\" font-size=\"14\" font-style=\"italic\" lengthAdjust=\"spacing\" textLength=\"66\" x=\"61\" y=\"93.6123\">attributes</text></g></a><!--MD5=[09b614a08d8cba4a07c9adeb5e0fee81]\n",
       "class E3--><a href=\"psysml:bff165c1-58b3-4dd4-8269-a7769b97eb56\" target=\"_top\" title=\"psysml:bff165c1-58b3-4dd4-8269-a7769b97eb56\" xlink:actuate=\"onRequest\" xlink:href=\"psysml:bff165c1-58b3-4dd4-8269-a7769b97eb56\" xlink:show=\"new\" xlink:title=\"psysml:bff165c1-58b3-4dd4-8269-a7769b97eb56\" xlink:type=\"simple\"><g id=\"elem_E3\"><rect fill=\"#FFFACD\" filter=\"url(#f11f3nxswyaigf)\" height=\"48.2656\" id=\"E3\" rx=\"10\" ry=\"10\" style=\"stroke:#181818;stroke-width:0.5;\" width=\"124\" x=\"32\" y=\"176\"/><text fill=\"#000000\" font-family=\"sans-serif\" font-size=\"12\" font-style=\"italic\" lengthAdjust=\"spacing\" textLength=\"122\" x=\"33\" y=\"192.1387\">«assert constraint»</text><text fill=\"#000000\" font-family=\"sans-serif\" font-size=\"14\" lengthAdjust=\"spacing\" textLength=\"83\" x=\"48.5\" y=\"207.9639\">x_constraint</text><line style=\"stroke:#181818;stroke-width:0.5;\" x1=\"33\" x2=\"155\" y1=\"216.2656\" y2=\"216.2656\"/></g></a><text fill=\"#000000\" font-family=\"sans-serif\" font-size=\"14\" lengthAdjust=\"spacing\" textLength=\"8\" x=\"193\" y=\"57.1982\">c</text><rect fill=\"#FFFACD\" height=\"12\" style=\"stroke:#181818;stroke-width:1.5;\" width=\"12\" x=\"191\" y=\"72.5\"/><text fill=\"#000000\" font-family=\"sans-serif\" font-size=\"14\" lengthAdjust=\"spacing\" textLength=\"38\" x=\"225\" y=\"57.1982\">newX</text><rect fill=\"#FFFACD\" height=\"12\" style=\"stroke:#181818;stroke-width:1.5;\" width=\"12\" x=\"238\" y=\"72.5\"/><!--MD5=[209b3feb70ccb6233bfe1053d122c12c]\n",
       "reverse link E2 to E3--><g id=\"link_E2_E3\"><a href=\"psysml:15e2216a-3ffa-458d-9ef3-f5d48fbfe7fe\" target=\"_top\" title=\"psysml:15e2216a-3ffa-458d-9ef3-f5d48fbfe7fe\" xlink:actuate=\"onRequest\" xlink:href=\"psysml:15e2216a-3ffa-458d-9ef3-f5d48fbfe7fe\" xlink:show=\"new\" xlink:title=\"psysml:15e2216a-3ffa-458d-9ef3-f5d48fbfe7fe\" xlink:type=\"simple\"><path d=\"M94,129.25 C94,145.43 94,162.61 94,175.88 \" fill=\"none\" id=\"E2-backto-E3\" style=\"stroke:#181818;stroke-width:1.0;\"/><polygon fill=\"#181818\" points=\"94,116,90,122,94,128,98,122,94,116\" style=\"stroke:#181818;stroke-width:1.0;\"/></a></g><!--MD5=[4a243e055b54ad7797fde215609de664]\n",
       "@startuml\r\n",
       "skin sysmlc\r\n",
       "skinparam wrapWidth 300\r\n",
       "hide circle\r\n",
       "\r\n",
       "package \"TextualRepresentationTest\" as E1  [[psysml:77badc07-b316-4281-ac3a-fbb5ce5d6d5a ]]  {\r\n",
       "comp def \"C\" as E2  <<(T,blue) item  def>> [[psysml:4094f6a7-157d-410f-a652-5cd39e1c0fe4 ]] {\r\n",
       "##//attributes//##\r\n",
       "x: Real\r\n",
       "}\r\n",
       "comp usage \"x_constraint  \" as E3  <<(T,blue) assert constraint>> [[psysml:bff165c1-58b3-4dd4-8269-a7769b97eb56 ]] {\r\n",
       "}\r\n",
       "rec def \"setX\" as E4  <<(T,blue) action  def>> [[psysml:90c9f2e5-1ab8-4a82-830f-194d1afced28 ]] {\r\n",
       "portin \"c\" as E5  [[psysml:eca695b7-e4ea-4848-82b9-964f1ac61a4c ]] \r\n",
       "portin \"newX\" as E6  [[psysml:5108d877-3142-4d1e-a057-58c6f6613775 ]] \r\n",
       "}\r\n",
       "\r\n",
       "}\r\n",
       "E2 *- - E3 [[psysml:15e2216a-3ffa-458d-9ef3-f5d48fbfe7fe ]] \r\n",
       "@enduml\r\n",
       "\n",
       "PlantUML version 1.2022.7(Mon Aug 22 17:01:30 UTC 2022)\n",
       "(EPL source distribution)\n",
       "Java Runtime: OpenJDK Runtime Environment\n",
       "JVM: OpenJDK 64-Bit Server VM\n",
       "Default Encoding: UTF-8\n",
       "Language: en\n",
       "Country: null\n",
       "--></g></svg>"
      ]
     },
     "execution_count": 23,
     "metadata": {},
     "output_type": "execute_result"
    }
   ],
   "source": [
    "%viz --style=\"STDCOLOR\" --view=\"Default\" \"TextualRepresentationTest\""
   ]
  },
  {
   "cell_type": "code",
   "execution_count": 24,
   "id": "18585813",
   "metadata": {
    "execution": {
     "iopub.execute_input": "2024-12-16T14:19:27.090716Z",
     "iopub.status.busy": "2024-12-16T14:19:27.090439Z",
     "iopub.status.idle": "2024-12-16T14:19:27.116037Z",
     "shell.execute_reply": "2024-12-16T14:19:27.115852Z"
    }
   },
   "outputs": [
    {
     "data": {
      "image/svg+xml": [
       "<?xml version=\"1.0\" encoding=\"UTF-8\" standalone=\"no\"?><svg xmlns=\"http://www.w3.org/2000/svg\" xmlns:xlink=\"http://www.w3.org/1999/xlink\" contentStyleType=\"text/css\" height=\"373px\" preserveAspectRatio=\"none\" style=\"width:247px;height:373px;background:#FFFFFF;\" version=\"1.1\" viewBox=\"0 0 247 373\" width=\"247px\" zoomAndPan=\"magnify\"><defs><filter height=\"300%\" id=\"f9ud1c1nuzz4m\" width=\"300%\" x=\"-1\" y=\"-1\"><feGaussianBlur result=\"blurOut\" stdDeviation=\"2.0\"/><feColorMatrix in=\"blurOut\" result=\"blurOut2\" type=\"matrix\" values=\"0 0 0 0 0 0 0 0 0 0 0 0 0 0 0 0 0 0 .4 0\"/><feOffset dx=\"4.0\" dy=\"4.0\" in=\"blurOut2\" result=\"blurOut3\"/><feBlend in=\"SourceGraphic\" in2=\"blurOut3\" mode=\"normal\"/></filter></defs><g><!--MD5=[fbc87193dbaf4d95561dea2c320d4a47]\n",
       "cluster E1--><g id=\"cluster_E1\"><a href=\"psysml:77badc07-b316-4281-ac3a-fbb5ce5d6d5a\" target=\"_top\" title=\"psysml:77badc07-b316-4281-ac3a-fbb5ce5d6d5a\" xlink:actuate=\"onRequest\" xlink:href=\"psysml:77badc07-b316-4281-ac3a-fbb5ce5d6d5a\" xlink:show=\"new\" xlink:title=\"psysml:77badc07-b316-4281-ac3a-fbb5ce5d6d5a\" xlink:type=\"simple\"><polygon fill=\"none\" filter=\"url(#f9ud1c1nuzz4m)\" points=\"16,6,220.9375,6,227.9375,28.2969,230,28.2969,230,366,16,366,16,6\" style=\"stroke:#000000;stroke-width:1.5;\"/><line style=\"stroke:#000000;stroke-width:1.5;\" x1=\"16\" x2=\"227.9375\" y1=\"28.2969\" y2=\"28.2969\"/><text fill=\"#000000\" font-family=\"sans-serif\" font-size=\"14\" font-weight=\"bold\" lengthAdjust=\"spacing\" textLength=\"198.9375\" x=\"20\" y=\"20.9951\">TextualRepresentationTest</text></a></g><!--MD5=[b4997ac47864f28c2f74865a473b2911]\n",
       "class E2--><a href=\"psysml:4094f6a7-157d-410f-a652-5cd39e1c0fe4\" target=\"_top\" title=\"psysml:4094f6a7-157d-410f-a652-5cd39e1c0fe4\" xlink:actuate=\"onRequest\" xlink:href=\"psysml:4094f6a7-157d-410f-a652-5cd39e1c0fe4\" xlink:show=\"new\" xlink:title=\"psysml:4094f6a7-157d-410f-a652-5cd39e1c0fe4\" xlink:type=\"simple\"><g id=\"elem_E2\"><rect fill=\"#FFFACD\" filter=\"url(#f9ud1c1nuzz4m)\" height=\"75.0813\" id=\"E2\" style=\"stroke:#181818;stroke-width:0.5;\" width=\"74\" x=\"86\" y=\"166\"/><text fill=\"#000000\" font-family=\"sans-serif\" font-size=\"12\" font-style=\"italic\" lengthAdjust=\"spacing\" textLength=\"69\" x=\"88.5\" y=\"182.1387\">«item  def»</text><text fill=\"#000000\" font-family=\"sans-serif\" font-size=\"14\" lengthAdjust=\"spacing\" textLength=\"10\" x=\"118\" y=\"197.9639\">C</text><line style=\"stroke:#181818;stroke-width:0.5;\" x1=\"87\" x2=\"159\" y1=\"206.2656\" y2=\"206.2656\"/><text fill=\"#000000\" font-family=\"sans-serif\" font-size=\"14\" lengthAdjust=\"spacing\" textLength=\"46\" x=\"92\" y=\"233.7795\">x: Real</text><text fill=\"#000000\" font-family=\"sans-serif\" font-size=\"14\" font-style=\"italic\" lengthAdjust=\"spacing\" textLength=\"66\" x=\"90\" y=\"218.6123\">attributes</text></g></a><!--MD5=[09b614a08d8cba4a07c9adeb5e0fee81]\n",
       "class E3--><a href=\"psysml:bff165c1-58b3-4dd4-8269-a7769b97eb56\" target=\"_top\" title=\"psysml:bff165c1-58b3-4dd4-8269-a7769b97eb56\" xlink:actuate=\"onRequest\" xlink:href=\"psysml:bff165c1-58b3-4dd4-8269-a7769b97eb56\" xlink:show=\"new\" xlink:title=\"psysml:bff165c1-58b3-4dd4-8269-a7769b97eb56\" xlink:type=\"simple\"><g id=\"elem_E3\"><rect fill=\"#FFFACD\" filter=\"url(#f9ud1c1nuzz4m)\" height=\"48.2656\" id=\"E3\" rx=\"10\" ry=\"10\" style=\"stroke:#181818;stroke-width:0.5;\" width=\"124\" x=\"61\" y=\"302\"/><text fill=\"#000000\" font-family=\"sans-serif\" font-size=\"12\" font-style=\"italic\" lengthAdjust=\"spacing\" textLength=\"122\" x=\"62\" y=\"318.1387\">«assert constraint»</text><text fill=\"#000000\" font-family=\"sans-serif\" font-size=\"14\" lengthAdjust=\"spacing\" textLength=\"83\" x=\"77.5\" y=\"333.9639\">x_constraint</text><line style=\"stroke:#181818;stroke-width:0.5;\" x1=\"62\" x2=\"184\" y1=\"342.2656\" y2=\"342.2656\"/></g></a><!--MD5=[ebbe1d658d1005bcc118a6aa81145e00]\n",
       "class E4--><a href=\"psysml:90c9f2e5-1ab8-4a82-830f-194d1afced28\" target=\"_top\" title=\"psysml:90c9f2e5-1ab8-4a82-830f-194d1afced28\" xlink:actuate=\"onRequest\" xlink:href=\"psysml:90c9f2e5-1ab8-4a82-830f-194d1afced28\" xlink:show=\"new\" xlink:title=\"psysml:90c9f2e5-1ab8-4a82-830f-194d1afced28\" xlink:type=\"simple\"><g id=\"elem_E4\"><rect fill=\"#FFFACD\" filter=\"url(#f9ud1c1nuzz4m)\" height=\"48.2656\" id=\"E4\" style=\"stroke:#181818;stroke-width:0.5;\" width=\"83\" x=\"81.5\" y=\"41\"/><text fill=\"#000000\" font-family=\"sans-serif\" font-size=\"12\" font-style=\"italic\" lengthAdjust=\"spacing\" textLength=\"81\" x=\"82.5\" y=\"57.1387\">«action  def»</text><text fill=\"#000000\" font-family=\"sans-serif\" font-size=\"14\" lengthAdjust=\"spacing\" textLength=\"31\" x=\"107.5\" y=\"72.9639\">setX</text><line style=\"stroke:#181818;stroke-width:0.5;\" x1=\"82.5\" x2=\"163.5\" y1=\"81.2656\" y2=\"81.2656\"/></g></a><!--MD5=[209b3feb70ccb6233bfe1053d122c12c]\n",
       "reverse link E2 to E3--><g id=\"link_E2_E3\"><a href=\"psysml:15e2216a-3ffa-458d-9ef3-f5d48fbfe7fe\" target=\"_top\" title=\"psysml:15e2216a-3ffa-458d-9ef3-f5d48fbfe7fe\" xlink:actuate=\"onRequest\" xlink:href=\"psysml:15e2216a-3ffa-458d-9ef3-f5d48fbfe7fe\" xlink:show=\"new\" xlink:title=\"psysml:15e2216a-3ffa-458d-9ef3-f5d48fbfe7fe\" xlink:type=\"simple\"><path d=\"M123,254.67 C123,270.98 123,288.31 123,301.69 \" fill=\"none\" id=\"E2-backto-E3\" style=\"stroke:#181818;stroke-width:1.0;\"/><polygon fill=\"#181818\" points=\"123,241.31,119,247.31,123,253.31,127,247.31,123,241.31\" style=\"stroke:#181818;stroke-width:1.0;\"/></a></g><!--MD5=[ddeed8deb2209213b62e6cfabaa108b2]\n",
       "reverse link E4 to E2--><g id=\"link_E4_E2\"><a href=\"psysml:eca695b7-e4ea-4848-82b9-964f1ac61a4c\" target=\"_top\" title=\"psysml:eca695b7-e4ea-4848-82b9-964f1ac61a4c\" xlink:actuate=\"onRequest\" xlink:href=\"psysml:eca695b7-e4ea-4848-82b9-964f1ac61a4c\" xlink:show=\"new\" xlink:title=\"psysml:eca695b7-e4ea-4848-82b9-964f1ac61a4c\" xlink:type=\"simple\"><path d=\"M123,102.22 C123,121.88 123,146.11 123,165.84 \" fill=\"none\" id=\"E4-backto-E2\" style=\"stroke:#181818;stroke-width:1.0;\"/><polygon fill=\"none\" points=\"123,89.16,119,95.16,123,101.16,127,95.16,123,89.16\" style=\"stroke:#181818;stroke-width:1.0;\"/><text fill=\"#000000\" font-family=\"sans-serif\" font-size=\"13\" lengthAdjust=\"spacing\" textLength=\"7\" x=\"124\" y=\"132.0669\">c</text></a></g><!--MD5=[16556b8a09ae3b3cc5924a06c93438e4]\n",
       "@startuml\r\n",
       "skin sysmlc\r\n",
       "skinparam wrapWidth 300\r\n",
       "hide circle\r\n",
       "\r\n",
       "package \"TextualRepresentationTest\" as E1  [[psysml:77badc07-b316-4281-ac3a-fbb5ce5d6d5a ]]  {\r\n",
       "comp def \"C\" as E2  <<(T,blue) item  def>> [[psysml:4094f6a7-157d-410f-a652-5cd39e1c0fe4 ]] {\r\n",
       "##//attributes//##\r\n",
       "x: Real\r\n",
       "}\r\n",
       "comp usage \"x_constraint  \" as E3  <<(T,blue) assert constraint>> [[psysml:bff165c1-58b3-4dd4-8269-a7769b97eb56 ]] {\r\n",
       "}\r\n",
       "comp def \"setX\" as E4  <<(T,blue) action  def>> [[psysml:90c9f2e5-1ab8-4a82-830f-194d1afced28 ]] {\r\n",
       "}\r\n",
       "}\r\n",
       "E2 *- - E3 [[psysml:15e2216a-3ffa-458d-9ef3-f5d48fbfe7fe ]] \r\n",
       "E4 o- - E2 [[psysml:eca695b7-e4ea-4848-82b9-964f1ac61a4c ]] : c\r\n",
       "@enduml\r\n",
       "\n",
       "PlantUML version 1.2022.7(Mon Aug 22 17:01:30 UTC 2022)\n",
       "(EPL source distribution)\n",
       "Java Runtime: OpenJDK Runtime Environment\n",
       "JVM: OpenJDK 64-Bit Server VM\n",
       "Default Encoding: UTF-8\n",
       "Language: en\n",
       "Country: null\n",
       "--></g></svg>"
      ]
     },
     "execution_count": 24,
     "metadata": {},
     "output_type": "execute_result"
    }
   ],
   "source": [
    "%viz --style=\"STDCOLOR\" --view=\"Tree\" \"TextualRepresentationTest\""
   ]
  },
  {
   "cell_type": "code",
   "execution_count": 25,
   "id": "4a3e1072",
   "metadata": {
    "execution": {
     "iopub.execute_input": "2024-12-16T14:19:27.170267Z",
     "iopub.status.busy": "2024-12-16T14:19:27.170008Z",
     "iopub.status.idle": "2024-12-16T14:19:27.177147Z",
     "shell.execute_reply": "2024-12-16T14:19:27.176940Z"
    }
   },
   "outputs": [
    {
     "data": {
      "image/svg+xml": [
       "<?xml version=\"1.0\" encoding=\"UTF-8\" standalone=\"no\"?><svg xmlns=\"http://www.w3.org/2000/svg\" xmlns:xlink=\"http://www.w3.org/1999/xlink\" contentStyleType=\"text/css\" height=\"10px\" preserveAspectRatio=\"none\" style=\"width:10px;height:10px;background:#FFFFFF;\" version=\"1.1\" viewBox=\"0 0 10 10\" width=\"10px\" zoomAndPan=\"magnify\"><defs/><g><!--MD5=[a1048f16c75022af837d4b7065e6f600]\n",
       "@startuml\r\n",
       "skin sysmlc\r\n",
       "skinparam wrapWidth 300\r\n",
       "hide circle\r\n",
       "\r\n",
       "@enduml\r\n",
       "\n",
       "PlantUML version 1.2022.7(Mon Aug 22 17:01:30 UTC 2022)\n",
       "(EPL source distribution)\n",
       "Java Runtime: OpenJDK Runtime Environment\n",
       "JVM: OpenJDK 64-Bit Server VM\n",
       "Default Encoding: UTF-8\n",
       "Language: en\n",
       "Country: null\n",
       "--></g></svg>"
      ]
     },
     "execution_count": 25,
     "metadata": {},
     "output_type": "execute_result"
    }
   ],
   "source": [
    "%viz --style=\"STDCOLOR\" --view=\"State\" \"TextualRepresentationTest\""
   ]
  },
  {
   "cell_type": "code",
   "execution_count": 26,
   "id": "53f705bc",
   "metadata": {
    "execution": {
     "iopub.execute_input": "2024-12-16T14:19:27.233999Z",
     "iopub.status.busy": "2024-12-16T14:19:27.233750Z",
     "iopub.status.idle": "2024-12-16T14:19:27.252680Z",
     "shell.execute_reply": "2024-12-16T14:19:27.252468Z"
    }
   },
   "outputs": [
    {
     "data": {
      "image/svg+xml": [
       "<?xml version=\"1.0\" encoding=\"UTF-8\" standalone=\"no\"?><svg xmlns=\"http://www.w3.org/2000/svg\" xmlns:xlink=\"http://www.w3.org/1999/xlink\" contentStyleType=\"text/css\" height=\"176px\" preserveAspectRatio=\"none\" style=\"width:287px;height:176px;background:#FFFFFF;\" version=\"1.1\" viewBox=\"0 0 287 176\" width=\"287px\" zoomAndPan=\"magnify\"><defs><filter height=\"300%\" id=\"f51mdt7lq0hb0\" width=\"300%\" x=\"-1\" y=\"-1\"><feGaussianBlur result=\"blurOut\" stdDeviation=\"2.0\"/><feColorMatrix in=\"blurOut\" result=\"blurOut2\" type=\"matrix\" values=\"0 0 0 0 0 0 0 0 0 0 0 0 0 0 0 0 0 0 .4 0\"/><feOffset dx=\"4.0\" dy=\"4.0\" in=\"blurOut2\" result=\"blurOut3\"/><feBlend in=\"SourceGraphic\" in2=\"blurOut3\" mode=\"normal\"/></filter></defs><g><!--MD5=[fbc87193dbaf4d95561dea2c320d4a47]\n",
       "cluster E1--><g id=\"cluster_E1\"><a href=\"psysml:77badc07-b316-4281-ac3a-fbb5ce5d6d5a\" target=\"_top\" title=\"psysml:77badc07-b316-4281-ac3a-fbb5ce5d6d5a\" xlink:actuate=\"onRequest\" xlink:href=\"psysml:77badc07-b316-4281-ac3a-fbb5ce5d6d5a\" xlink:show=\"new\" xlink:title=\"psysml:77badc07-b316-4281-ac3a-fbb5ce5d6d5a\" xlink:type=\"simple\"><polygon fill=\"none\" filter=\"url(#f51mdt7lq0hb0)\" points=\"16,6,220.9375,6,227.9375,28.2969,270,28.2969,270,169,16,169,16,6\" style=\"stroke:#000000;stroke-width:1.5;\"/><line style=\"stroke:#000000;stroke-width:1.5;\" x1=\"16\" x2=\"227.9375\" y1=\"28.2969\" y2=\"28.2969\"/><text fill=\"#000000\" font-family=\"sans-serif\" font-size=\"14\" font-weight=\"bold\" lengthAdjust=\"spacing\" textLength=\"198.9375\" x=\"20\" y=\"20.9951\">TextualRepresentationTest</text></a></g><!--MD5=[d5e69f78d87373223dbae638b30a9c99]\n",
       "cluster E3--><g id=\"cluster_E3\"><a href=\"psysml:90c9f2e5-1ab8-4a82-830f-194d1afced28\" target=\"_top\" title=\"psysml:90c9f2e5-1ab8-4a82-830f-194d1afced28\" xlink:actuate=\"onRequest\" xlink:href=\"psysml:90c9f2e5-1ab8-4a82-830f-194d1afced28\" xlink:show=\"new\" xlink:title=\"psysml:90c9f2e5-1ab8-4a82-830f-194d1afced28\" xlink:type=\"simple\"><rect fill=\"#FFFFFF\" filter=\"url(#f51mdt7lq0hb0)\" height=\"89.5\" id=\"E3\" style=\"stroke:#A80036;stroke-width:1.5;\" width=\"100\" x=\"122.5\" y=\"63.5\"/><rect fill=\"#FFFACD\" height=\"40.2656\" style=\"stroke:#A80036;stroke-width:1.5;\" width=\"100\" x=\"122.5\" y=\"63.5\"/><text fill=\"#000000\" font-family=\"sans-serif\" font-size=\"12\" font-style=\"italic\" lengthAdjust=\"spacing\" textLength=\"81\" x=\"132\" y=\"79.6387\">«action  def»</text><text fill=\"#000000\" font-family=\"sans-serif\" font-size=\"14\" lengthAdjust=\"spacing\" textLength=\"31\" x=\"157\" y=\"95.4639\">setX</text></a></g><g><a href=\"psysml:4094f6a7-157d-410f-a652-5cd39e1c0fe4\" target=\"_top\" title=\"psysml:4094f6a7-157d-410f-a652-5cd39e1c0fe4\" xlink:actuate=\"onRequest\" xlink:href=\"psysml:4094f6a7-157d-410f-a652-5cd39e1c0fe4\" xlink:show=\"new\" xlink:title=\"psysml:4094f6a7-157d-410f-a652-5cd39e1c0fe4\" xlink:type=\"simple\"><rect fill=\"#FFFACD\" filter=\"url(#f51mdt7lq0hb0)\" height=\"45.2656\" id=\"E2\" style=\"stroke:#A80036;stroke-width:1.5;\" width=\"76\" x=\"32\" y=\"41\"/><text fill=\"#000000\" font-family=\"sans-serif\" font-size=\"12\" font-style=\"italic\" lengthAdjust=\"spacing\" textLength=\"69\" x=\"35.5\" y=\"57.1387\">«item  def»</text><text fill=\"#000000\" font-family=\"sans-serif\" font-size=\"14\" lengthAdjust=\"spacing\" textLength=\"10\" x=\"65\" y=\"72.9639\">C</text></a></g><text fill=\"#000000\" font-family=\"sans-serif\" font-size=\"14\" lengthAdjust=\"spacing\" textLength=\"8\" x=\"145\" y=\"42.1982\">c</text><rect fill=\"#FFFACD\" height=\"12\" style=\"stroke:#181818;stroke-width:1.5;\" width=\"12\" x=\"143\" y=\"57.5\"/><text fill=\"#000000\" font-family=\"sans-serif\" font-size=\"14\" lengthAdjust=\"spacing\" textLength=\"38\" x=\"177\" y=\"42.1982\">newX</text><rect fill=\"#FFFACD\" height=\"12\" style=\"stroke:#181818;stroke-width:1.5;\" width=\"12\" x=\"190\" y=\"57.5\"/><!--MD5=[13a18da15c39357461923894b09e54aa]\n",
       "@startuml\r\n",
       "skin sysmlc\r\n",
       "skinparam wrapWidth 300\r\n",
       "hide circle\r\n",
       "skinparam ranksep 10\r\n",
       "skinparam rectangle {\r\n",
       " backgroundColor<<block>> LightGreen\r\n",
       "}\r\n",
       "\r\n",
       "package \"TextualRepresentationTest\" as E1  [[psysml:77badc07-b316-4281-ac3a-fbb5ce5d6d5a ]]  {\r\n",
       "def \"C\" as E2  <<(T,blue) item  def>> [[psysml:4094f6a7-157d-410f-a652-5cd39e1c0fe4 ]] \r\n",
       "rec def \"setX\" as E3  <<(T,blue) action  def>> [[psysml:90c9f2e5-1ab8-4a82-830f-194d1afced28 ]] {\r\n",
       "portin \"c\" as E4  [[psysml:eca695b7-e4ea-4848-82b9-964f1ac61a4c ]] \r\n",
       "portin \"newX\" as E5  [[psysml:5108d877-3142-4d1e-a057-58c6f6613775 ]] \r\n",
       "}\r\n",
       "\r\n",
       "}\r\n",
       "@enduml\r\n",
       "\n",
       "PlantUML version 1.2022.7(Mon Aug 22 17:01:30 UTC 2022)\n",
       "(EPL source distribution)\n",
       "Java Runtime: OpenJDK Runtime Environment\n",
       "JVM: OpenJDK 64-Bit Server VM\n",
       "Default Encoding: UTF-8\n",
       "Language: en\n",
       "Country: null\n",
       "--></g></svg>"
      ]
     },
     "execution_count": 26,
     "metadata": {},
     "output_type": "execute_result"
    }
   ],
   "source": [
    "%viz --style=\"STDCOLOR\" --view=\"Interconnection\" \"TextualRepresentationTest\""
   ]
  },
  {
   "cell_type": "code",
   "execution_count": 27,
   "id": "2c74822e",
   "metadata": {
    "execution": {
     "iopub.execute_input": "2024-12-16T14:19:27.303696Z",
     "iopub.status.busy": "2024-12-16T14:19:27.303431Z",
     "iopub.status.idle": "2024-12-16T14:19:27.318835Z",
     "shell.execute_reply": "2024-12-16T14:19:27.318640Z"
    }
   },
   "outputs": [
    {
     "data": {
      "image/svg+xml": [
       "<?xml version=\"1.0\" encoding=\"UTF-8\" standalone=\"no\"?><svg xmlns=\"http://www.w3.org/2000/svg\" xmlns:xlink=\"http://www.w3.org/1999/xlink\" contentStyleType=\"text/css\" height=\"127px\" preserveAspectRatio=\"none\" style=\"width:153px;height:127px;background:#FFFFFF;\" version=\"1.1\" viewBox=\"0 0 153 127\" width=\"153px\" zoomAndPan=\"magnify\"><defs><filter height=\"300%\" id=\"fvycfvvexhmmu\" width=\"300%\" x=\"-1\" y=\"-1\"><feGaussianBlur result=\"blurOut\" stdDeviation=\"2.0\"/><feColorMatrix in=\"blurOut\" result=\"blurOut2\" type=\"matrix\" values=\"0 0 0 0 0 0 0 0 0 0 0 0 0 0 0 0 0 0 .4 0\"/><feOffset dx=\"4.0\" dy=\"4.0\" in=\"blurOut2\" result=\"blurOut3\"/><feBlend in=\"SourceGraphic\" in2=\"blurOut3\" mode=\"normal\"/></filter></defs><g><!--MD5=[fbc87193dbaf4d95561dea2c320d4a47]\n",
       "cluster E1--><g id=\"cluster_E1\"><a href=\"psysml:90c9f2e5-1ab8-4a82-830f-194d1afced28\" target=\"_top\" title=\"psysml:90c9f2e5-1ab8-4a82-830f-194d1afced28\" xlink:actuate=\"onRequest\" xlink:href=\"psysml:90c9f2e5-1ab8-4a82-830f-194d1afced28\" xlink:show=\"new\" xlink:title=\"psysml:90c9f2e5-1ab8-4a82-830f-194d1afced28\" xlink:type=\"simple\"><rect fill=\"#FFFFFF\" filter=\"url(#fvycfvvexhmmu)\" height=\"73\" id=\"E1\" style=\"stroke:#A80036;stroke-width:1.5;\" width=\"134\" x=\"7\" y=\"42.0986\"/><rect fill=\"#FFFACD\" height=\"40.2656\" style=\"stroke:#A80036;stroke-width:1.5;\" width=\"134\" x=\"7\" y=\"42.0986\"/><text fill=\"#000000\" font-family=\"sans-serif\" font-size=\"12\" font-style=\"italic\" lengthAdjust=\"spacing\" textLength=\"81\" x=\"33.5\" y=\"58.2373\">«action  def»</text><text fill=\"#000000\" font-family=\"sans-serif\" font-size=\"14\" lengthAdjust=\"spacing\" textLength=\"31\" x=\"58.5\" y=\"74.0625\">setX</text></a></g><text fill=\"#000000\" font-family=\"sans-serif\" font-size=\"14\" lengthAdjust=\"spacing\" textLength=\"8\" x=\"21\" y=\"20.7969\">c</text><rect fill=\"#FFFACD\" height=\"12\" style=\"stroke:#181818;stroke-width:1.5;\" width=\"12\" x=\"19\" y=\"36.0986\"/><text fill=\"#000000\" font-family=\"sans-serif\" font-size=\"14\" lengthAdjust=\"spacing\" textLength=\"38\" x=\"53\" y=\"20.7969\">newX</text><rect fill=\"#FFFACD\" height=\"12\" style=\"stroke:#181818;stroke-width:1.5;\" width=\"12\" x=\"66\" y=\"36.0986\"/><!--MD5=[52e1440d0a2624da785c0a418d4545a7]\n",
       "@startuml\r\n",
       "skin sysmlc\r\n",
       "skinparam wrapWidth 300\r\n",
       "hide circle\r\n",
       "skinparam ranksep 8\r\n",
       "\r\n",
       "rec def \"setX\" as E1  <<(T,blue) action  def>> [[psysml:90c9f2e5-1ab8-4a82-830f-194d1afced28 ]] {\r\n",
       "portin \"c\" as E2  [[psysml:eca695b7-e4ea-4848-82b9-964f1ac61a4c ]] \r\n",
       "portin \"newX\" as E3  [[psysml:5108d877-3142-4d1e-a057-58c6f6613775 ]] \r\n",
       "}\r\n",
       "\r\n",
       "@enduml\r\n",
       "\n",
       "PlantUML version 1.2022.7(Mon Aug 22 17:01:30 UTC 2022)\n",
       "(EPL source distribution)\n",
       "Java Runtime: OpenJDK Runtime Environment\n",
       "JVM: OpenJDK 64-Bit Server VM\n",
       "Default Encoding: UTF-8\n",
       "Language: en\n",
       "Country: null\n",
       "--></g></svg>"
      ]
     },
     "execution_count": 27,
     "metadata": {},
     "output_type": "execute_result"
    }
   ],
   "source": [
    "%viz --style=\"STDCOLOR\" --view=\"Action\" \"TextualRepresentationTest\""
   ]
  },
  {
   "cell_type": "code",
   "execution_count": 28,
   "id": "ee51406f",
   "metadata": {
    "execution": {
     "iopub.execute_input": "2024-12-16T14:19:27.373155Z",
     "iopub.status.busy": "2024-12-16T14:19:27.372900Z",
     "iopub.status.idle": "2024-12-16T14:19:27.381425Z",
     "shell.execute_reply": "2024-12-16T14:19:27.381194Z"
    }
   },
   "outputs": [
    {
     "data": {
      "image/svg+xml": [
       "<?xml version=\"1.0\" encoding=\"UTF-8\" standalone=\"no\"?><svg xmlns=\"http://www.w3.org/2000/svg\" xmlns:xlink=\"http://www.w3.org/1999/xlink\" contentStyleType=\"text/css\" height=\"10px\" preserveAspectRatio=\"none\" style=\"width:10px;height:10px;background:#FFFFFF;\" version=\"1.1\" viewBox=\"0 0 10 10\" width=\"10px\" zoomAndPan=\"magnify\"><defs/><g><!--MD5=[e54413e611bf323face5c486cd3a32bb]\n",
       "@startuml\r\n",
       "skin sysmlc\r\n",
       "skinparam wrapWidth 300\r\n",
       "hide circle\r\n",
       "skinparam roundcorner 20\r\n",
       "skinparam BoxPadding 20\r\n",
       "skinparam SequenceBoxBackgroundColor #white\r\n",
       "skinparam style strictuml\r\n",
       "skinparam maxMessageSize 100\r\n",
       "\r\n",
       "@enduml\r\n",
       "\n",
       "PlantUML version 1.2022.7(Mon Aug 22 17:01:30 UTC 2022)\n",
       "(EPL source distribution)\n",
       "Java Runtime: OpenJDK Runtime Environment\n",
       "JVM: OpenJDK 64-Bit Server VM\n",
       "Default Encoding: UTF-8\n",
       "Language: en\n",
       "Country: null\n",
       "--></g></svg>"
      ]
     },
     "execution_count": 28,
     "metadata": {},
     "output_type": "execute_result"
    }
   ],
   "source": [
    "%viz --style=\"STDCOLOR\" --view=\"Sequence\" \"TextualRepresentationTest\""
   ]
  },
  {
   "cell_type": "code",
   "execution_count": 29,
   "id": "a027ef7a",
   "metadata": {
    "execution": {
     "iopub.execute_input": "2024-12-16T14:19:27.437082Z",
     "iopub.status.busy": "2024-12-16T14:19:27.436859Z",
     "iopub.status.idle": "2024-12-16T14:19:27.458404Z",
     "shell.execute_reply": "2024-12-16T14:19:27.457673Z"
    }
   },
   "outputs": [
    {
     "data": {
      "image/svg+xml": [
       "<?xml version=\"1.0\" encoding=\"UTF-8\" standalone=\"no\"?><svg xmlns=\"http://www.w3.org/2000/svg\" xmlns:xlink=\"http://www.w3.org/1999/xlink\" contentStyleType=\"text/css\" height=\"256px\" preserveAspectRatio=\"none\" style=\"width:346px;height:256px;background:#FFFFFF;\" version=\"1.1\" viewBox=\"0 0 346 256\" width=\"346px\" zoomAndPan=\"magnify\"><defs><filter height=\"300%\" id=\"f11f3nxswyaigf\" width=\"300%\" x=\"-1\" y=\"-1\"><feGaussianBlur result=\"blurOut\" stdDeviation=\"2.0\"/><feColorMatrix in=\"blurOut\" result=\"blurOut2\" type=\"matrix\" values=\"0 0 0 0 0 0 0 0 0 0 0 0 0 0 0 0 0 0 .4 0\"/><feOffset dx=\"4.0\" dy=\"4.0\" in=\"blurOut2\" result=\"blurOut3\"/><feBlend in=\"SourceGraphic\" in2=\"blurOut3\" mode=\"normal\"/></filter></defs><g><!--MD5=[fbc87193dbaf4d95561dea2c320d4a47]\n",
       "cluster E1--><g id=\"cluster_E1\"><a href=\"psysml:77badc07-b316-4281-ac3a-fbb5ce5d6d5a\" target=\"_top\" title=\"psysml:77badc07-b316-4281-ac3a-fbb5ce5d6d5a\" xlink:actuate=\"onRequest\" xlink:href=\"psysml:77badc07-b316-4281-ac3a-fbb5ce5d6d5a\" xlink:show=\"new\" xlink:title=\"psysml:77badc07-b316-4281-ac3a-fbb5ce5d6d5a\" xlink:type=\"simple\"><polygon fill=\"none\" filter=\"url(#f11f3nxswyaigf)\" points=\"16,6,220.9375,6,227.9375,28.2969,329,28.2969,329,249.5,16,249.5,16,6\" style=\"stroke:#000000;stroke-width:1.5;\"/><line style=\"stroke:#000000;stroke-width:1.5;\" x1=\"16\" x2=\"227.9375\" y1=\"28.2969\" y2=\"28.2969\"/><text fill=\"#000000\" font-family=\"sans-serif\" font-size=\"14\" font-weight=\"bold\" lengthAdjust=\"spacing\" textLength=\"198.9375\" x=\"20\" y=\"20.9951\">TextualRepresentationTest</text></a></g><!--MD5=[f6df4d0ebaf0b5dfb2ced0ae5af7c670]\n",
       "cluster E4--><g id=\"cluster_E4\"><a href=\"psysml:90c9f2e5-1ab8-4a82-830f-194d1afced28\" target=\"_top\" title=\"psysml:90c9f2e5-1ab8-4a82-830f-194d1afced28\" xlink:actuate=\"onRequest\" xlink:href=\"psysml:90c9f2e5-1ab8-4a82-830f-194d1afced28\" xlink:show=\"new\" xlink:title=\"psysml:90c9f2e5-1ab8-4a82-830f-194d1afced28\" xlink:type=\"simple\"><rect fill=\"#FFFFFF\" filter=\"url(#f11f3nxswyaigf)\" height=\"155\" id=\"E4\" style=\"stroke:#A80036;stroke-width:1.5;\" width=\"134\" x=\"179\" y=\"78.5\"/><rect fill=\"#FFFACD\" height=\"40.2656\" style=\"stroke:#A80036;stroke-width:1.5;\" width=\"134\" x=\"179\" y=\"78.5\"/><text fill=\"#000000\" font-family=\"sans-serif\" font-size=\"12\" font-style=\"italic\" lengthAdjust=\"spacing\" textLength=\"81\" x=\"205.5\" y=\"94.6387\">«action  def»</text><text fill=\"#000000\" font-family=\"sans-serif\" font-size=\"14\" lengthAdjust=\"spacing\" textLength=\"31\" x=\"230.5\" y=\"110.4639\">setX</text></a></g><!--MD5=[b4997ac47864f28c2f74865a473b2911]\n",
       "class E2--><a href=\"psysml:4094f6a7-157d-410f-a652-5cd39e1c0fe4\" target=\"_top\" title=\"psysml:4094f6a7-157d-410f-a652-5cd39e1c0fe4\" xlink:actuate=\"onRequest\" xlink:href=\"psysml:4094f6a7-157d-410f-a652-5cd39e1c0fe4\" xlink:show=\"new\" xlink:title=\"psysml:4094f6a7-157d-410f-a652-5cd39e1c0fe4\" xlink:type=\"simple\"><g id=\"elem_E2\"><rect fill=\"#FFFACD\" filter=\"url(#f11f3nxswyaigf)\" height=\"75.0813\" id=\"E2\" style=\"stroke:#181818;stroke-width:0.5;\" width=\"74\" x=\"57\" y=\"41\"/><text fill=\"#000000\" font-family=\"sans-serif\" font-size=\"12\" font-style=\"italic\" lengthAdjust=\"spacing\" textLength=\"69\" x=\"59.5\" y=\"57.1387\">«item  def»</text><text fill=\"#000000\" font-family=\"sans-serif\" font-size=\"14\" lengthAdjust=\"spacing\" textLength=\"10\" x=\"89\" y=\"72.9639\">C</text><line style=\"stroke:#181818;stroke-width:0.5;\" x1=\"58\" x2=\"130\" y1=\"81.2656\" y2=\"81.2656\"/><text fill=\"#000000\" font-family=\"sans-serif\" font-size=\"14\" lengthAdjust=\"spacing\" textLength=\"46\" x=\"63\" y=\"108.7795\">x: Real</text><text fill=\"#000000\" font-family=\"sans-serif\" font-size=\"14\" font-style=\"italic\" lengthAdjust=\"spacing\" textLength=\"66\" x=\"61\" y=\"93.6123\">attributes</text></g></a><!--MD5=[09b614a08d8cba4a07c9adeb5e0fee81]\n",
       "class E3--><a href=\"psysml:bff165c1-58b3-4dd4-8269-a7769b97eb56\" target=\"_top\" title=\"psysml:bff165c1-58b3-4dd4-8269-a7769b97eb56\" xlink:actuate=\"onRequest\" xlink:href=\"psysml:bff165c1-58b3-4dd4-8269-a7769b97eb56\" xlink:show=\"new\" xlink:title=\"psysml:bff165c1-58b3-4dd4-8269-a7769b97eb56\" xlink:type=\"simple\"><g id=\"elem_E3\"><rect fill=\"#FFFACD\" filter=\"url(#f11f3nxswyaigf)\" height=\"48.2656\" id=\"E3\" rx=\"10\" ry=\"10\" style=\"stroke:#181818;stroke-width:0.5;\" width=\"124\" x=\"32\" y=\"176\"/><text fill=\"#000000\" font-family=\"sans-serif\" font-size=\"12\" font-style=\"italic\" lengthAdjust=\"spacing\" textLength=\"122\" x=\"33\" y=\"192.1387\">«assert constraint»</text><text fill=\"#000000\" font-family=\"sans-serif\" font-size=\"14\" lengthAdjust=\"spacing\" textLength=\"83\" x=\"48.5\" y=\"207.9639\">x_constraint</text><line style=\"stroke:#181818;stroke-width:0.5;\" x1=\"33\" x2=\"155\" y1=\"216.2656\" y2=\"216.2656\"/></g></a><text fill=\"#000000\" font-family=\"sans-serif\" font-size=\"14\" lengthAdjust=\"spacing\" textLength=\"8\" x=\"193\" y=\"57.1982\">c</text><rect fill=\"#FFFACD\" height=\"12\" style=\"stroke:#181818;stroke-width:1.5;\" width=\"12\" x=\"191\" y=\"72.5\"/><text fill=\"#000000\" font-family=\"sans-serif\" font-size=\"14\" lengthAdjust=\"spacing\" textLength=\"38\" x=\"225\" y=\"57.1982\">newX</text><rect fill=\"#FFFACD\" height=\"12\" style=\"stroke:#181818;stroke-width:1.5;\" width=\"12\" x=\"238\" y=\"72.5\"/><!--MD5=[209b3feb70ccb6233bfe1053d122c12c]\n",
       "reverse link E2 to E3--><g id=\"link_E2_E3\"><a href=\"psysml:15e2216a-3ffa-458d-9ef3-f5d48fbfe7fe\" target=\"_top\" title=\"psysml:15e2216a-3ffa-458d-9ef3-f5d48fbfe7fe\" xlink:actuate=\"onRequest\" xlink:href=\"psysml:15e2216a-3ffa-458d-9ef3-f5d48fbfe7fe\" xlink:show=\"new\" xlink:title=\"psysml:15e2216a-3ffa-458d-9ef3-f5d48fbfe7fe\" xlink:type=\"simple\"><path d=\"M94,129.25 C94,145.43 94,162.61 94,175.88 \" fill=\"none\" id=\"E2-backto-E3\" style=\"stroke:#181818;stroke-width:1.0;\"/><polygon fill=\"#181818\" points=\"94,116,90,122,94,128,98,122,94,116\" style=\"stroke:#181818;stroke-width:1.0;\"/></a></g><!--MD5=[4a243e055b54ad7797fde215609de664]\n",
       "@startuml\r\n",
       "skin sysmlc\r\n",
       "skinparam wrapWidth 300\r\n",
       "hide circle\r\n",
       "\r\n",
       "package \"TextualRepresentationTest\" as E1  [[psysml:77badc07-b316-4281-ac3a-fbb5ce5d6d5a ]]  {\r\n",
       "comp def \"C\" as E2  <<(T,blue) item  def>> [[psysml:4094f6a7-157d-410f-a652-5cd39e1c0fe4 ]] {\r\n",
       "##//attributes//##\r\n",
       "x: Real\r\n",
       "}\r\n",
       "comp usage \"x_constraint  \" as E3  <<(T,blue) assert constraint>> [[psysml:bff165c1-58b3-4dd4-8269-a7769b97eb56 ]] {\r\n",
       "}\r\n",
       "rec def \"setX\" as E4  <<(T,blue) action  def>> [[psysml:90c9f2e5-1ab8-4a82-830f-194d1afced28 ]] {\r\n",
       "portin \"c\" as E5  [[psysml:eca695b7-e4ea-4848-82b9-964f1ac61a4c ]] \r\n",
       "portin \"newX\" as E6  [[psysml:5108d877-3142-4d1e-a057-58c6f6613775 ]] \r\n",
       "}\r\n",
       "\r\n",
       "}\r\n",
       "E2 *- - E3 [[psysml:15e2216a-3ffa-458d-9ef3-f5d48fbfe7fe ]] \r\n",
       "@enduml\r\n",
       "\n",
       "PlantUML version 1.2022.7(Mon Aug 22 17:01:30 UTC 2022)\n",
       "(EPL source distribution)\n",
       "Java Runtime: OpenJDK Runtime Environment\n",
       "JVM: OpenJDK 64-Bit Server VM\n",
       "Default Encoding: UTF-8\n",
       "Language: en\n",
       "Country: null\n",
       "--></g></svg>"
      ]
     },
     "execution_count": 29,
     "metadata": {},
     "output_type": "execute_result"
    }
   ],
   "source": [
    "%viz --style=\"STDCOLOR\" --view=\"MIXED\" \"TextualRepresentationTest\""
   ]
  },
  {
   "cell_type": "code",
   "execution_count": 30,
   "id": "cf533fae",
   "metadata": {
    "execution": {
     "iopub.execute_input": "2024-12-16T14:19:27.514446Z",
     "iopub.status.busy": "2024-12-16T14:19:27.514218Z",
     "iopub.status.idle": "2024-12-16T14:19:27.658180Z",
     "shell.execute_reply": "2024-12-16T14:19:27.657888Z"
    }
   },
   "outputs": [
    {
     "data": {
      "image/svg+xml": [
       "<?xml version=\"1.0\" encoding=\"UTF-8\" standalone=\"no\"?><svg xmlns=\"http://www.w3.org/2000/svg\" xmlns:xlink=\"http://www.w3.org/1999/xlink\" contentStyleType=\"text/css\" height=\"248px\" preserveAspectRatio=\"none\" style=\"width:352px;height:248px;background:#FFFFFF;\" version=\"1.1\" viewBox=\"0 0 352 248\" width=\"352px\" zoomAndPan=\"magnify\"><defs/><g><!--MD5=[fbc87193dbaf4d95561dea2c320d4a47]\n",
       "cluster E1--><g id=\"cluster_E1\"><a href=\"psysml:77badc07-b316-4281-ac3a-fbb5ce5d6d5a\" target=\"_top\" title=\"psysml:77badc07-b316-4281-ac3a-fbb5ce5d6d5a\" xlink:actuate=\"onRequest\" xlink:href=\"psysml:77badc07-b316-4281-ac3a-fbb5ce5d6d5a\" xlink:show=\"new\" xlink:title=\"psysml:77badc07-b316-4281-ac3a-fbb5ce5d6d5a\" xlink:type=\"simple\"><path d=\"M8.5,6 L208.4375,6 A3.75,3.75 0 0 1 210.9375,8.5 L217.9375,28.2969 L342.5,28.2969 A2.5,2.5 0 0 1 345,30.7969 L345,239 A2.5,2.5 0 0 1 342.5,241.5 L8.5,241.5 A2.5,2.5 0 0 1 6,239 L6,8.5 A2.5,2.5 0 0 1 8.5,6 \" fill=\"none\" style=\"stroke:#000000;stroke-width:1.5;\"/><line style=\"stroke:#000000;stroke-width:1.5;\" x1=\"6\" x2=\"217.9375\" y1=\"28.2969\" y2=\"28.2969\"/><text fill=\"#000000\" font-family=\"sans-serif\" font-size=\"14\" font-weight=\"bold\" lengthAdjust=\"spacing\" textLength=\"198.9375\" x=\"10\" y=\"20.9951\">TextualRepresentationTest</text></a></g><!--MD5=[f6df4d0ebaf0b5dfb2ced0ae5af7c670]\n",
       "cluster E4--><g id=\"cluster_E4\"><a href=\"psysml:90c9f2e5-1ab8-4a82-830f-194d1afced28\" target=\"_top\" title=\"psysml:90c9f2e5-1ab8-4a82-830f-194d1afced28\" xlink:actuate=\"onRequest\" xlink:href=\"psysml:90c9f2e5-1ab8-4a82-830f-194d1afced28\" xlink:show=\"new\" xlink:title=\"psysml:90c9f2e5-1ab8-4a82-830f-194d1afced28\" xlink:type=\"simple\"><rect fill=\"#FFFFFF\" height=\"151\" id=\"E4\" style=\"stroke:#A80036;stroke-width:1.5;\" width=\"134\" x=\"195\" y=\"74.5\"/><rect fill=\"#F1F1F1\" height=\"40.2656\" style=\"stroke:#A80036;stroke-width:1.5;\" width=\"134\" x=\"195\" y=\"74.5\"/><text fill=\"#000000\" font-family=\"sans-serif\" font-size=\"12\" font-style=\"italic\" lengthAdjust=\"spacing\" textLength=\"81\" x=\"221.5\" y=\"90.6387\">«action  def»</text><text fill=\"#000000\" font-family=\"sans-serif\" font-size=\"14\" lengthAdjust=\"spacing\" textLength=\"31\" x=\"246.5\" y=\"106.4639\">setX</text></a></g><!--MD5=[b4997ac47864f28c2f74865a473b2911]\n",
       "class E2--><a href=\"psysml:4094f6a7-157d-410f-a652-5cd39e1c0fe4\" target=\"_top\" title=\"psysml:4094f6a7-157d-410f-a652-5cd39e1c0fe4\" xlink:actuate=\"onRequest\" xlink:href=\"psysml:4094f6a7-157d-410f-a652-5cd39e1c0fe4\" xlink:show=\"new\" xlink:title=\"psysml:4094f6a7-157d-410f-a652-5cd39e1c0fe4\" xlink:type=\"simple\"><g id=\"elem_E2\"><rect fill=\"#F1F1F1\" height=\"66.8156\" id=\"E2\" rx=\"2.5\" ry=\"2.5\" style=\"stroke:#181818;stroke-width:0.5;\" width=\"74\" x=\"60\" y=\"41\"/><ellipse cx=\"89.4\" cy=\"57\" fill=\"#008000\" rx=\"11\" ry=\"11\" style=\"stroke:#181818;stroke-width:1.0;\"/><path d=\"M86.2594,63.5 L86.2594,51.3594 L90.0563,51.3594 Q92.0563,51.3594 93.1031,52.0625 Q94.1656,52.7656 94.1656,54.3438 Q94.1656,55.4375 93.6656,56.1563 Q93.1813,56.875 92.3531,57.0625 L92.3531,57.1406 Q93.275,57.3594 93.8375,58.0313 Q94.4156,58.6875 94.4156,59.9531 Q94.4156,61.6094 93.3688,62.5625 Q92.3219,63.5 90.4625,63.5 L86.2594,63.5 Z M90.0406,56.1406 Q90.9313,56.1406 91.2906,55.8125 Q91.6656,55.4688 91.6656,54.7656 Q91.6656,54.0313 91.275,53.7188 Q90.8844,53.3906 89.9469,53.3906 L88.5563,53.3906 L88.5563,56.1406 L90.0406,56.1406 Z M90.2281,61.4844 Q91.1344,61.4844 91.4938,61.0469 Q91.8531,60.5938 91.8531,59.8125 Q91.8531,59.0313 91.4781,58.6406 Q91.1188,58.2344 90.1344,58.2344 L88.5563,58.2344 L88.5563,61.4844 L90.2281,61.4844 Z \" fill=\"#000000\"/><text fill=\"#000000\" font-family=\"sans-serif\" font-size=\"14\" lengthAdjust=\"spacing\" textLength=\"10\" x=\"106.6\" y=\"61.8467\">C</text><line style=\"stroke:#181818;stroke-width:0.5;\" x1=\"61\" x2=\"133\" y1=\"73\" y2=\"73\"/><text fill=\"#000000\" font-family=\"sans-serif\" font-size=\"14\" lengthAdjust=\"spacing\" textLength=\"46\" x=\"66\" y=\"100.5139\">x: Real</text><text fill=\"#000000\" font-family=\"sans-serif\" font-size=\"14\" font-style=\"italic\" lengthAdjust=\"spacing\" textLength=\"66\" x=\"64\" y=\"85.3467\">attributes</text></g></a><!--MD5=[09b614a08d8cba4a07c9adeb5e0fee81]\n",
       "class E3--><a href=\"psysml:bff165c1-58b3-4dd4-8269-a7769b97eb56\" target=\"_top\" title=\"psysml:bff165c1-58b3-4dd4-8269-a7769b97eb56\" xlink:actuate=\"onRequest\" xlink:href=\"psysml:bff165c1-58b3-4dd4-8269-a7769b97eb56\" xlink:show=\"new\" xlink:title=\"psysml:bff165c1-58b3-4dd4-8269-a7769b97eb56\" xlink:type=\"simple\"><g id=\"elem_E3\"><rect fill=\"#F1F1F1\" height=\"48.2656\" id=\"E3\" rx=\"10\" ry=\"10\" style=\"stroke:#181818;stroke-width:0.5;\" width=\"150\" x=\"22\" y=\"168\"/><ellipse cx=\"37\" cy=\"188.1328\" fill=\"#FFA500\" rx=\"11\" ry=\"11\" style=\"stroke:#181818;stroke-width:1.0;\"/><path d=\"M37.0625,195.3047 Q34.9531,195.3047 33.8594,194.1797 Q32.7656,193.0547 32.7656,191.0078 L32.7656,182.9922 L35.2344,182.9922 L35.2344,190.5703 Q35.2344,192.0078 35.6875,192.6016 Q36.1406,193.1797 37.0938,193.1797 Q38.1094,193.1797 38.5313,192.5703 Q38.9688,191.9609 38.9688,190.5547 L38.9688,182.9922 L41.4375,182.9922 L41.4375,190.9922 Q41.4375,192.9766 40.3438,194.1484 Q39.2656,195.3047 37.0625,195.3047 Z \" fill=\"#000000\"/><text fill=\"#000000\" font-family=\"sans-serif\" font-size=\"12\" font-style=\"italic\" lengthAdjust=\"spacing\" textLength=\"122\" x=\"49\" y=\"184.1387\">«assert constraint»</text><text fill=\"#000000\" font-family=\"sans-serif\" font-size=\"14\" lengthAdjust=\"spacing\" textLength=\"83\" x=\"64.5\" y=\"199.9639\">x_constraint</text><line style=\"stroke:#181818;stroke-width:0.5;\" x1=\"23\" x2=\"171\" y1=\"208.2656\" y2=\"208.2656\"/></g></a><text fill=\"#000000\" font-family=\"sans-serif\" font-size=\"14\" lengthAdjust=\"spacing\" textLength=\"8\" x=\"209\" y=\"53.1982\">c</text><rect fill=\"#F1F1F1\" height=\"12\" style=\"stroke:#181818;stroke-width:1.5;\" width=\"12\" x=\"207\" y=\"68.5\"/><text fill=\"#000000\" font-family=\"sans-serif\" font-size=\"14\" lengthAdjust=\"spacing\" textLength=\"38\" x=\"241\" y=\"53.1982\">newX</text><rect fill=\"#F1F1F1\" height=\"12\" style=\"stroke:#181818;stroke-width:1.5;\" width=\"12\" x=\"254\" y=\"68.5\"/><!--MD5=[209b3feb70ccb6233bfe1053d122c12c]\n",
       "reverse link E2 to E3--><g id=\"link_E2_E3\"><a href=\"psysml:15e2216a-3ffa-458d-9ef3-f5d48fbfe7fe\" target=\"_top\" title=\"psysml:15e2216a-3ffa-458d-9ef3-f5d48fbfe7fe\" xlink:actuate=\"onRequest\" xlink:href=\"psysml:15e2216a-3ffa-458d-9ef3-f5d48fbfe7fe\" xlink:show=\"new\" xlink:title=\"psysml:15e2216a-3ffa-458d-9ef3-f5d48fbfe7fe\" xlink:type=\"simple\"><path d=\"M97,121.72 C97,137.5 97,154.47 97,167.67 \" fill=\"none\" id=\"E2-backto-E3\" style=\"stroke:#181818;stroke-width:1.0;\"/><polygon fill=\"#181818\" points=\"97,108.29,93,114.29,97,120.29,101,114.29,97,108.29\" style=\"stroke:#181818;stroke-width:1.0;\"/></a></g><!--MD5=[a35dae8229f7de9fe130c0e8119f8789]\n",
       "@startuml\r\n",
       " \r\n",
       "package \"TextualRepresentationTest\" as E1  [[psysml:77badc07-b316-4281-ac3a-fbb5ce5d6d5a ]]  {\r\n",
       "comp def \"C\" as E2  << << (B,green) >> [[psysml:4094f6a7-157d-410f-a652-5cd39e1c0fe4 ]] {\r\n",
       "##//attributes//##\r\n",
       "x: Real\r\n",
       "}\r\n",
       "comp usage \"x_constraint  \" as E3  << <<(U,orange) assert constraint>> [[psysml:bff165c1-58b3-4dd4-8269-a7769b97eb56 ]] {\r\n",
       "}\r\n",
       "rec def \"setX\" as E4  << <<(B,lemonchiffon) action  def>> [[psysml:90c9f2e5-1ab8-4a82-830f-194d1afced28 ]] {\r\n",
       "portin \"c\" as E5  [[psysml:eca695b7-e4ea-4848-82b9-964f1ac61a4c ]] \r\n",
       "portin \"newX\" as E6  [[psysml:5108d877-3142-4d1e-a057-58c6f6613775 ]] \r\n",
       "}\r\n",
       "\r\n",
       "}\r\n",
       "E2 *- - E3 [[psysml:15e2216a-3ffa-458d-9ef3-f5d48fbfe7fe ]] \r\n",
       "@enduml\r\n",
       "\n",
       "PlantUML version 1.2022.7(Mon Aug 22 17:01:30 UTC 2022)\n",
       "(EPL source distribution)\n",
       "Java Runtime: OpenJDK Runtime Environment\n",
       "JVM: OpenJDK 64-Bit Server VM\n",
       "Default Encoding: UTF-8\n",
       "Language: en\n",
       "Country: null\n",
       "--></g></svg>"
      ]
     },
     "execution_count": 30,
     "metadata": {},
     "output_type": "execute_result"
    }
   ],
   "source": [
    "%viz --style=\"PLANTUML\" --view=\"Default\" \"TextualRepresentationTest\""
   ]
  },
  {
   "cell_type": "code",
   "execution_count": 31,
   "id": "3b10fe10",
   "metadata": {
    "execution": {
     "iopub.execute_input": "2024-12-16T14:19:27.714315Z",
     "iopub.status.busy": "2024-12-16T14:19:27.714072Z",
     "iopub.status.idle": "2024-12-16T14:19:27.733213Z",
     "shell.execute_reply": "2024-12-16T14:19:27.732443Z"
    }
   },
   "outputs": [
    {
     "data": {
      "image/svg+xml": [
       "<?xml version=\"1.0\" encoding=\"UTF-8\" standalone=\"no\"?><svg xmlns=\"http://www.w3.org/2000/svg\" xmlns:xlink=\"http://www.w3.org/1999/xlink\" contentStyleType=\"text/css\" height=\"365px\" preserveAspectRatio=\"none\" style=\"width:227px;height:365px;background:#FFFFFF;\" version=\"1.1\" viewBox=\"0 0 227 365\" width=\"227px\" zoomAndPan=\"magnify\"><defs/><g><!--MD5=[fbc87193dbaf4d95561dea2c320d4a47]\n",
       "cluster E1--><g id=\"cluster_E1\"><a href=\"psysml:77badc07-b316-4281-ac3a-fbb5ce5d6d5a\" target=\"_top\" title=\"psysml:77badc07-b316-4281-ac3a-fbb5ce5d6d5a\" xlink:actuate=\"onRequest\" xlink:href=\"psysml:77badc07-b316-4281-ac3a-fbb5ce5d6d5a\" xlink:show=\"new\" xlink:title=\"psysml:77badc07-b316-4281-ac3a-fbb5ce5d6d5a\" xlink:type=\"simple\"><path d=\"M8.5,6 L208.4375,6 A3.75,3.75 0 0 1 210.9375,8.5 L217.9375,28.2969 L217.5,28.2969 A2.5,2.5 0 0 1 220,30.7969 L220,355.5 A2.5,2.5 0 0 1 217.5,358 L8.5,358 A2.5,2.5 0 0 1 6,355.5 L6,8.5 A2.5,2.5 0 0 1 8.5,6 \" fill=\"none\" style=\"stroke:#000000;stroke-width:1.5;\"/><line style=\"stroke:#000000;stroke-width:1.5;\" x1=\"6\" x2=\"217.9375\" y1=\"28.2969\" y2=\"28.2969\"/><text fill=\"#000000\" font-family=\"sans-serif\" font-size=\"14\" font-weight=\"bold\" lengthAdjust=\"spacing\" textLength=\"198.9375\" x=\"10\" y=\"20.9951\">TextualRepresentationTest</text></a></g><!--MD5=[b4997ac47864f28c2f74865a473b2911]\n",
       "class E2--><a href=\"psysml:4094f6a7-157d-410f-a652-5cd39e1c0fe4\" target=\"_top\" title=\"psysml:4094f6a7-157d-410f-a652-5cd39e1c0fe4\" xlink:actuate=\"onRequest\" xlink:href=\"psysml:4094f6a7-157d-410f-a652-5cd39e1c0fe4\" xlink:show=\"new\" xlink:title=\"psysml:4094f6a7-157d-410f-a652-5cd39e1c0fe4\" xlink:type=\"simple\"><g id=\"elem_E2\"><rect fill=\"#F1F1F1\" height=\"66.8156\" id=\"E2\" rx=\"2.5\" ry=\"2.5\" style=\"stroke:#181818;stroke-width:0.5;\" width=\"74\" x=\"76\" y=\"166\"/><ellipse cx=\"105.4\" cy=\"182\" fill=\"#008000\" rx=\"11\" ry=\"11\" style=\"stroke:#181818;stroke-width:1.0;\"/><path d=\"M102.2594,188.5 L102.2594,176.3594 L106.0563,176.3594 Q108.0563,176.3594 109.1031,177.0625 Q110.1656,177.7656 110.1656,179.3438 Q110.1656,180.4375 109.6656,181.1563 Q109.1813,181.875 108.3531,182.0625 L108.3531,182.1406 Q109.275,182.3594 109.8375,183.0313 Q110.4156,183.6875 110.4156,184.9531 Q110.4156,186.6094 109.3688,187.5625 Q108.3219,188.5 106.4625,188.5 L102.2594,188.5 Z M106.0406,181.1406 Q106.9313,181.1406 107.2906,180.8125 Q107.6656,180.4688 107.6656,179.7656 Q107.6656,179.0313 107.275,178.7188 Q106.8844,178.3906 105.9469,178.3906 L104.5563,178.3906 L104.5563,181.1406 L106.0406,181.1406 Z M106.2281,186.4844 Q107.1344,186.4844 107.4938,186.0469 Q107.8531,185.5938 107.8531,184.8125 Q107.8531,184.0313 107.4781,183.6406 Q107.1188,183.2344 106.1344,183.2344 L104.5563,183.2344 L104.5563,186.4844 L106.2281,186.4844 Z \" fill=\"#000000\"/><text fill=\"#000000\" font-family=\"sans-serif\" font-size=\"14\" lengthAdjust=\"spacing\" textLength=\"10\" x=\"122.6\" y=\"186.8467\">C</text><line style=\"stroke:#181818;stroke-width:0.5;\" x1=\"77\" x2=\"149\" y1=\"198\" y2=\"198\"/><text fill=\"#000000\" font-family=\"sans-serif\" font-size=\"14\" lengthAdjust=\"spacing\" textLength=\"46\" x=\"82\" y=\"225.5139\">x: Real</text><text fill=\"#000000\" font-family=\"sans-serif\" font-size=\"14\" font-style=\"italic\" lengthAdjust=\"spacing\" textLength=\"66\" x=\"80\" y=\"210.3467\">attributes</text></g></a><!--MD5=[09b614a08d8cba4a07c9adeb5e0fee81]\n",
       "class E3--><a href=\"psysml:bff165c1-58b3-4dd4-8269-a7769b97eb56\" target=\"_top\" title=\"psysml:bff165c1-58b3-4dd4-8269-a7769b97eb56\" xlink:actuate=\"onRequest\" xlink:href=\"psysml:bff165c1-58b3-4dd4-8269-a7769b97eb56\" xlink:show=\"new\" xlink:title=\"psysml:bff165c1-58b3-4dd4-8269-a7769b97eb56\" xlink:type=\"simple\"><g id=\"elem_E3\"><rect fill=\"#F1F1F1\" height=\"48.2656\" id=\"E3\" rx=\"10\" ry=\"10\" style=\"stroke:#181818;stroke-width:0.5;\" width=\"150\" x=\"38\" y=\"294\"/><ellipse cx=\"53\" cy=\"314.1328\" fill=\"#FFA500\" rx=\"11\" ry=\"11\" style=\"stroke:#181818;stroke-width:1.0;\"/><path d=\"M53.0625,321.3047 Q50.9531,321.3047 49.8594,320.1797 Q48.7656,319.0547 48.7656,317.0078 L48.7656,308.9922 L51.2344,308.9922 L51.2344,316.5703 Q51.2344,318.0078 51.6875,318.6016 Q52.1406,319.1797 53.0938,319.1797 Q54.1094,319.1797 54.5313,318.5703 Q54.9688,317.9609 54.9688,316.5547 L54.9688,308.9922 L57.4375,308.9922 L57.4375,316.9922 Q57.4375,318.9766 56.3438,320.1484 Q55.2656,321.3047 53.0625,321.3047 Z \" fill=\"#000000\"/><text fill=\"#000000\" font-family=\"sans-serif\" font-size=\"12\" font-style=\"italic\" lengthAdjust=\"spacing\" textLength=\"122\" x=\"65\" y=\"310.1387\">«assert constraint»</text><text fill=\"#000000\" font-family=\"sans-serif\" font-size=\"14\" lengthAdjust=\"spacing\" textLength=\"83\" x=\"80.5\" y=\"325.9639\">x_constraint</text><line style=\"stroke:#181818;stroke-width:0.5;\" x1=\"39\" x2=\"187\" y1=\"334.2656\" y2=\"334.2656\"/></g></a><!--MD5=[ebbe1d658d1005bcc118a6aa81145e00]\n",
       "class E4--><a href=\"psysml:90c9f2e5-1ab8-4a82-830f-194d1afced28\" target=\"_top\" title=\"psysml:90c9f2e5-1ab8-4a82-830f-194d1afced28\" xlink:actuate=\"onRequest\" xlink:href=\"psysml:90c9f2e5-1ab8-4a82-830f-194d1afced28\" xlink:show=\"new\" xlink:title=\"psysml:90c9f2e5-1ab8-4a82-830f-194d1afced28\" xlink:type=\"simple\"><g id=\"elem_E4\"><rect fill=\"#F1F1F1\" height=\"48.2656\" id=\"E4\" rx=\"2.5\" ry=\"2.5\" style=\"stroke:#181818;stroke-width:0.5;\" width=\"109\" x=\"58.5\" y=\"41\"/><ellipse cx=\"73.5\" cy=\"61.1328\" fill=\"#FFFACD\" rx=\"11\" ry=\"11\" style=\"stroke:#181818;stroke-width:1.0;\"/><path d=\"M70.3594,67.6328 L70.3594,55.4922 L74.1563,55.4922 Q76.1563,55.4922 77.2031,56.1953 Q78.2656,56.8984 78.2656,58.4766 Q78.2656,59.5703 77.7656,60.2891 Q77.2813,61.0078 76.4531,61.1953 L76.4531,61.2734 Q77.375,61.4922 77.9375,62.1641 Q78.5156,62.8203 78.5156,64.0859 Q78.5156,65.7422 77.4688,66.6953 Q76.4219,67.6328 74.5625,67.6328 L70.3594,67.6328 Z M74.1406,60.2734 Q75.0313,60.2734 75.3906,59.9453 Q75.7656,59.6016 75.7656,58.8984 Q75.7656,58.1641 75.375,57.8516 Q74.9844,57.5234 74.0469,57.5234 L72.6563,57.5234 L72.6563,60.2734 L74.1406,60.2734 Z M74.3281,65.6172 Q75.2344,65.6172 75.5938,65.1797 Q75.9531,64.7266 75.9531,63.9453 Q75.9531,63.1641 75.5781,62.7734 Q75.2188,62.3672 74.2344,62.3672 L72.6563,62.3672 L72.6563,65.6172 L74.3281,65.6172 Z \" fill=\"#000000\"/><text fill=\"#000000\" font-family=\"sans-serif\" font-size=\"12\" font-style=\"italic\" lengthAdjust=\"spacing\" textLength=\"81\" x=\"85.5\" y=\"57.1387\">«action  def»</text><text fill=\"#000000\" font-family=\"sans-serif\" font-size=\"14\" lengthAdjust=\"spacing\" textLength=\"31\" x=\"110.5\" y=\"72.9639\">setX</text><line style=\"stroke:#181818;stroke-width:0.5;\" x1=\"59.5\" x2=\"166.5\" y1=\"81.2656\" y2=\"81.2656\"/></g></a><!--MD5=[209b3feb70ccb6233bfe1053d122c12c]\n",
       "reverse link E2 to E3--><g id=\"link_E2_E3\"><a href=\"psysml:15e2216a-3ffa-458d-9ef3-f5d48fbfe7fe\" target=\"_top\" title=\"psysml:15e2216a-3ffa-458d-9ef3-f5d48fbfe7fe\" xlink:actuate=\"onRequest\" xlink:href=\"psysml:15e2216a-3ffa-458d-9ef3-f5d48fbfe7fe\" xlink:show=\"new\" xlink:title=\"psysml:15e2216a-3ffa-458d-9ef3-f5d48fbfe7fe\" xlink:type=\"simple\"><path d=\"M113,246.44 C113,262.64 113,280.17 113,293.71 \" fill=\"none\" id=\"E2-backto-E3\" style=\"stroke:#181818;stroke-width:1.0;\"/><polygon fill=\"#181818\" points=\"113,233.26,109,239.26,113,245.26,117,239.26,113,233.26\" style=\"stroke:#181818;stroke-width:1.0;\"/></a></g><!--MD5=[ddeed8deb2209213b62e6cfabaa108b2]\n",
       "reverse link E4 to E2--><g id=\"link_E4_E2\"><a href=\"psysml:eca695b7-e4ea-4848-82b9-964f1ac61a4c\" target=\"_top\" title=\"psysml:eca695b7-e4ea-4848-82b9-964f1ac61a4c\" xlink:actuate=\"onRequest\" xlink:href=\"psysml:eca695b7-e4ea-4848-82b9-964f1ac61a4c\" xlink:show=\"new\" xlink:title=\"psysml:eca695b7-e4ea-4848-82b9-964f1ac61a4c\" xlink:type=\"simple\"><path d=\"M113,102.28 C113,122.12 113,146.5 113,165.76 \" fill=\"none\" id=\"E4-backto-E2\" style=\"stroke:#181818;stroke-width:1.0;\"/><polygon fill=\"none\" points=\"113,89.08,109,95.08,113,101.08,117,95.08,113,89.08\" style=\"stroke:#181818;stroke-width:1.0;\"/><text fill=\"#000000\" font-family=\"sans-serif\" font-size=\"13\" lengthAdjust=\"spacing\" textLength=\"7\" x=\"114\" y=\"132.0669\">c</text></a></g><!--MD5=[b7a3a4d230dc0bbec423e8891a8ac9c4]\n",
       "@startuml\r\n",
       " \r\n",
       "package \"TextualRepresentationTest\" as E1  [[psysml:77badc07-b316-4281-ac3a-fbb5ce5d6d5a ]]  {\r\n",
       "comp def \"C\" as E2  << << (B,green) >> [[psysml:4094f6a7-157d-410f-a652-5cd39e1c0fe4 ]] {\r\n",
       "##//attributes//##\r\n",
       "x: Real\r\n",
       "}\r\n",
       "comp usage \"x_constraint  \" as E3  << <<(U,orange) assert constraint>> [[psysml:bff165c1-58b3-4dd4-8269-a7769b97eb56 ]] {\r\n",
       "}\r\n",
       "comp def \"setX\" as E4  << <<(B,lemonchiffon) action  def>> [[psysml:90c9f2e5-1ab8-4a82-830f-194d1afced28 ]] {\r\n",
       "}\r\n",
       "}\r\n",
       "E2 *- - E3 [[psysml:15e2216a-3ffa-458d-9ef3-f5d48fbfe7fe ]] \r\n",
       "E4 o- - E2 [[psysml:eca695b7-e4ea-4848-82b9-964f1ac61a4c ]] : c\r\n",
       "@enduml\r\n",
       "\n",
       "PlantUML version 1.2022.7(Mon Aug 22 17:01:30 UTC 2022)\n",
       "(EPL source distribution)\n",
       "Java Runtime: OpenJDK Runtime Environment\n",
       "JVM: OpenJDK 64-Bit Server VM\n",
       "Default Encoding: UTF-8\n",
       "Language: en\n",
       "Country: null\n",
       "--></g></svg>"
      ]
     },
     "execution_count": 31,
     "metadata": {},
     "output_type": "execute_result"
    }
   ],
   "source": [
    "%viz --style=\"PLANTUML\" --view=\"Tree\" \"TextualRepresentationTest\""
   ]
  },
  {
   "cell_type": "code",
   "execution_count": 32,
   "id": "6fbef104",
   "metadata": {
    "execution": {
     "iopub.execute_input": "2024-12-16T14:19:27.788898Z",
     "iopub.status.busy": "2024-12-16T14:19:27.788678Z",
     "iopub.status.idle": "2024-12-16T14:19:27.824814Z",
     "shell.execute_reply": "2024-12-16T14:19:27.824039Z"
    }
   },
   "outputs": [
    {
     "data": {
      "image/svg+xml": [
       "<?xml version=\"1.0\" encoding=\"UTF-8\" standalone=\"no\"?><svg xmlns=\"http://www.w3.org/2000/svg\" xmlns:xlink=\"http://www.w3.org/1999/xlink\" contentStyleType=\"text/css\" height=\"389px\" preserveAspectRatio=\"none\" style=\"width:603px;height:389px;background:#000000;\" version=\"1.1\" viewBox=\"0 0 603 389\" width=\"603px\" zoomAndPan=\"magnify\"><defs/><g><rect fill=\"#250F1A\" height=\"1\" style=\"stroke:#250F1A;stroke-width:1.0;\" width=\"1\" x=\"0\" y=\"0\"/><rect fill=\"#FFFFFF\" height=\"226.6573\" style=\"stroke:#FFFFFF;stroke-width:1.0;\" width=\"602\" x=\"0\" y=\"0\"/><text fill=\"#000000\" font-family=\"sans-serif\" font-size=\"12\" font-weight=\"bold\" lengthAdjust=\"spacing\" textLength=\"145.75\" x=\"5\" y=\"16.1387\">Welcome to PlantUML!</text><text fill=\"#000000\" font-family=\"sans-serif\" font-size=\"12\" lengthAdjust=\"spacing\" textLength=\"4\" x=\"5\" y=\"30.1074\"> </text><text fill=\"#000000\" font-family=\"sans-serif\" font-size=\"12\" lengthAdjust=\"spacing\" textLength=\"283\" x=\"5\" y=\"44.0762\">You can start with a simple UML Diagram like:</text><text fill=\"#000000\" font-family=\"sans-serif\" font-size=\"12\" lengthAdjust=\"spacing\" textLength=\"4\" x=\"5\" y=\"58.0449\"> </text><text fill=\"#000000\" font-family=\"monospace\" font-size=\"12\" lengthAdjust=\"spacing\" textLength=\"119\" x=\"5\" y=\"73.7031\">Bob-&gt;Alice: Hello</text><text fill=\"#000000\" font-family=\"sans-serif\" font-size=\"12\" lengthAdjust=\"spacing\" textLength=\"4\" x=\"5\" y=\"88.3578\"> </text><text fill=\"#000000\" font-family=\"sans-serif\" font-size=\"12\" lengthAdjust=\"spacing\" textLength=\"14\" x=\"5\" y=\"102.3265\">Or</text><text fill=\"#000000\" font-family=\"sans-serif\" font-size=\"12\" lengthAdjust=\"spacing\" textLength=\"4\" x=\"5\" y=\"116.2953\"> </text><text fill=\"#000000\" font-family=\"monospace\" font-size=\"12\" lengthAdjust=\"spacing\" textLength=\"91\" x=\"5\" y=\"131.9535\">class Example</text><text fill=\"#000000\" font-family=\"sans-serif\" font-size=\"12\" lengthAdjust=\"spacing\" textLength=\"4\" x=\"5\" y=\"146.6082\"> </text><text fill=\"#000000\" font-family=\"sans-serif\" font-size=\"12\" lengthAdjust=\"spacing\" textLength=\"349\" x=\"5\" y=\"160.5769\">You will find more information about PlantUML syntax on</text><text fill=\"#000000\" font-family=\"sans-serif\" font-size=\"12\" lengthAdjust=\"spacing\" text-decoration=\"underline\" textLength=\"129\" x=\"358\" y=\"160.5769\">https://plantuml.com</text><text fill=\"#000000\" font-family=\"sans-serif\" font-size=\"12\" lengthAdjust=\"spacing\" textLength=\"4\" x=\"5\" y=\"174.5457\"> </text><text fill=\"#000000\" font-family=\"sans-serif\" font-size=\"12\" lengthAdjust=\"spacing\" textLength=\"299\" x=\"5\" y=\"188.5144\">(If you use this software, you accept its license)</text><text fill=\"#000000\" font-family=\"sans-serif\" font-size=\"12\" lengthAdjust=\"spacing\" textLength=\"108\" x=\"5\" y=\"204.8585\">(Details by typing</text><text fill=\"#000000\" font-family=\"monospace\" font-size=\"12\" lengthAdjust=\"spacing\" textLength=\"49\" x=\"117\" y=\"204.1726\">license</text><text fill=\"#000000\" font-family=\"sans-serif\" font-size=\"12\" lengthAdjust=\"spacing\" textLength=\"56\" x=\"170\" y=\"204.8585\">keyword)</text><text fill=\"#000000\" font-family=\"sans-serif\" font-size=\"12\" lengthAdjust=\"spacing\" textLength=\"4\" x=\"5\" y=\"218.8273\"> </text><image height=\"71\" width=\"80\" x=\"516\" xlink:href=\"data:image/png;base64,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\" y=\"6\"/><rect fill=\"#000000\" height=\"160.3594\" style=\"stroke:#000000;stroke-width:1.0;\" width=\"602\" x=\"0\" y=\"226.6573\"/><text fill=\"#33FF02\" font-family=\"sans-serif\" font-size=\"12\" font-style=\"italic\" font-weight=\"bold\" lengthAdjust=\"spacing\" textLength=\"123\" x=\"5\" y=\"243.6573\">PlantUML 1.2022.7</text><text fill=\"#33FF02\" font-family=\"sans-serif\" font-size=\"12\" font-style=\"italic\" font-weight=\"bold\" lengthAdjust=\"spacing\" textLength=\"4\" x=\"5\" y=\"257.6261\"> </text><text fill=\"#33FF02\" font-family=\"sans-serif\" font-size=\"12\" font-style=\"italic\" font-weight=\"bold\" lengthAdjust=\"spacing\" textLength=\"390\" x=\"5\" y=\"271.5948\">&lt;b&gt;This version of PlantUML is 846 days old, so you should</text><text fill=\"#33FF02\" font-family=\"sans-serif\" font-size=\"12\" font-style=\"italic\" font-weight=\"bold\" lengthAdjust=\"spacing\" textLength=\"398.875\" x=\"5\" y=\"285.5636\">&lt;b&gt;consider upgrading from https://plantuml.com/download</text><rect fill=\"#33FF02\" height=\"21.2969\" style=\"stroke:#33FF02;stroke-width:1.0;\" width=\"153.3125\" x=\"5\" y=\"295.5323\"/><text fill=\"#000000\" font-family=\"sans-serif\" font-size=\"14\" font-weight=\"bold\" lengthAdjust=\"spacing\" textLength=\"151.3125\" x=\"6\" y=\"310.5323\">[From string (line 2) ]</text><text fill=\"#33FF02\" font-family=\"sans-serif\" font-size=\"14\" font-weight=\"bold\" lengthAdjust=\"spacing\" textLength=\"4\" x=\"5\" y=\"330.8292\"> </text><text fill=\"#33FF02\" font-family=\"sans-serif\" font-size=\"14\" font-weight=\"bold\" lengthAdjust=\"spacing\" textLength=\"73.9375\" x=\"5\" y=\"347.1261\">@startuml</text><text fill=\"#33FF02\" font-family=\"sans-serif\" font-size=\"14\" font-weight=\"bold\" lengthAdjust=\"spacing\" text-decoration=\"wavy underline\" textLength=\"4\" x=\"5\" y=\"363.423\"> </text><text fill=\"#FF0000\" font-family=\"sans-serif\" font-size=\"14\" font-weight=\"bold\" lengthAdjust=\"spacing\" textLength=\"131\" x=\"9\" y=\"379.7198\">Empty description</text><!--MD5=[5b6570bdd48fecdb4121f0162c378f28]\n",
       "@startuml\r\n",
       " \r\n",
       "@enduml\r\n",
       "\n",
       "PlantUML version 1.2022.7(Mon Aug 22 17:01:30 UTC 2022)\n",
       "(EPL source distribution)\n",
       "Java Runtime: OpenJDK Runtime Environment\n",
       "JVM: OpenJDK 64-Bit Server VM\n",
       "Default Encoding: UTF-8\n",
       "Language: en\n",
       "Country: null\n",
       "--></g></svg>"
      ]
     },
     "execution_count": 32,
     "metadata": {},
     "output_type": "execute_result"
    }
   ],
   "source": [
    "%viz --style=\"PLANTUML\" --view=\"State\" \"TextualRepresentationTest\""
   ]
  },
  {
   "cell_type": "code",
   "execution_count": 33,
   "id": "3a96ea9b",
   "metadata": {
    "execution": {
     "iopub.execute_input": "2024-12-16T14:19:27.881210Z",
     "iopub.status.busy": "2024-12-16T14:19:27.880977Z",
     "iopub.status.idle": "2024-12-16T14:19:27.897289Z",
     "shell.execute_reply": "2024-12-16T14:19:27.897102Z"
    }
   },
   "outputs": [
    {
     "data": {
      "image/svg+xml": [
       "<?xml version=\"1.0\" encoding=\"UTF-8\" standalone=\"no\"?><svg xmlns=\"http://www.w3.org/2000/svg\" xmlns:xlink=\"http://www.w3.org/1999/xlink\" contentStyleType=\"text/css\" height=\"171px\" preserveAspectRatio=\"none\" style=\"width:241px;height:171px;background:#FFFFFF;\" version=\"1.1\" viewBox=\"0 0 241 171\" width=\"241px\" zoomAndPan=\"magnify\"><defs/><g><!--MD5=[fbc87193dbaf4d95561dea2c320d4a47]\n",
       "cluster E1--><g id=\"cluster_E1\"><a href=\"psysml:77badc07-b316-4281-ac3a-fbb5ce5d6d5a\" target=\"_top\" title=\"psysml:77badc07-b316-4281-ac3a-fbb5ce5d6d5a\" xlink:actuate=\"onRequest\" xlink:href=\"psysml:77badc07-b316-4281-ac3a-fbb5ce5d6d5a\" xlink:show=\"new\" xlink:title=\"psysml:77badc07-b316-4281-ac3a-fbb5ce5d6d5a\" xlink:type=\"simple\"><path d=\"M8.5,6 L208.4375,6 A3.75,3.75 0 0 1 210.9375,8.5 L217.9375,28.2969 L231.5,28.2969 A2.5,2.5 0 0 1 234,30.7969 L234,161.5 A2.5,2.5 0 0 1 231.5,164 L8.5,164 A2.5,2.5 0 0 1 6,161.5 L6,8.5 A2.5,2.5 0 0 1 8.5,6 \" fill=\"none\" style=\"stroke:#000000;stroke-width:1.5;\"/><line style=\"stroke:#000000;stroke-width:1.5;\" x1=\"6\" x2=\"217.9375\" y1=\"28.2969\" y2=\"28.2969\"/><text fill=\"#000000\" font-family=\"sans-serif\" font-size=\"14\" font-weight=\"bold\" lengthAdjust=\"spacing\" textLength=\"198.9375\" x=\"10\" y=\"20.9951\">TextualRepresentationTest</text></a></g><!--MD5=[d5e69f78d87373223dbae638b30a9c99]\n",
       "cluster E3--><g id=\"cluster_E3\"><a href=\"psysml:90c9f2e5-1ab8-4a82-830f-194d1afced28\" target=\"_top\" title=\"psysml:90c9f2e5-1ab8-4a82-830f-194d1afced28\" xlink:actuate=\"onRequest\" xlink:href=\"psysml:90c9f2e5-1ab8-4a82-830f-194d1afced28\" xlink:show=\"new\" xlink:title=\"psysml:90c9f2e5-1ab8-4a82-830f-194d1afced28\" xlink:type=\"simple\"><rect fill=\"#FFFFFF\" height=\"87\" id=\"E3\" style=\"stroke:#A80036;stroke-width:1.5;\" width=\"100\" x=\"86.5\" y=\"61\"/><rect fill=\"#F1F1F1\" height=\"40.2656\" style=\"stroke:#A80036;stroke-width:1.5;\" width=\"100\" x=\"86.5\" y=\"61\"/><text fill=\"#000000\" font-family=\"sans-serif\" font-size=\"12\" font-style=\"italic\" lengthAdjust=\"spacing\" textLength=\"81\" x=\"96\" y=\"77.1387\">«action  def»</text><text fill=\"#000000\" font-family=\"sans-serif\" font-size=\"14\" lengthAdjust=\"spacing\" textLength=\"31\" x=\"121\" y=\"92.9639\">setX</text></a></g><g><a href=\"psysml:4094f6a7-157d-410f-a652-5cd39e1c0fe4\" target=\"_top\" title=\"psysml:4094f6a7-157d-410f-a652-5cd39e1c0fe4\" xlink:actuate=\"onRequest\" xlink:href=\"psysml:4094f6a7-157d-410f-a652-5cd39e1c0fe4\" xlink:show=\"new\" xlink:title=\"psysml:4094f6a7-157d-410f-a652-5cd39e1c0fe4\" xlink:type=\"simple\"><rect fill=\"#F1F1F1\" height=\"40\" id=\"E2\" style=\"stroke:#A80036;stroke-width:1.5;\" width=\"50\" x=\"22\" y=\"41\"/><ellipse cx=\"40.6\" cy=\"57\" fill=\"#008000\" rx=\"11\" ry=\"11\" style=\"stroke:#181818;stroke-width:1.0;\"/><path d=\"M37.4594,63.5 L37.4594,51.3594 L41.2563,51.3594 Q43.2563,51.3594 44.3031,52.0625 Q45.3656,52.7656 45.3656,54.3438 Q45.3656,55.4375 44.8656,56.1563 Q44.3813,56.875 43.5531,57.0625 L43.5531,57.1406 Q44.475,57.3594 45.0375,58.0313 Q45.6156,58.6875 45.6156,59.9531 Q45.6156,61.6094 44.5688,62.5625 Q43.5219,63.5 41.6625,63.5 L37.4594,63.5 Z M41.2406,56.1406 Q42.1313,56.1406 42.4906,55.8125 Q42.8656,55.4688 42.8656,54.7656 Q42.8656,54.0313 42.475,53.7188 Q42.0844,53.3906 41.1469,53.3906 L39.7563,53.3906 L39.7563,56.1406 L41.2406,56.1406 Z M41.4281,61.4844 Q42.3344,61.4844 42.6938,61.0469 Q43.0531,60.5938 43.0531,59.8125 Q43.0531,59.0313 42.6781,58.6406 Q42.3188,58.2344 41.3344,58.2344 L39.7563,58.2344 L39.7563,61.4844 L41.4281,61.4844 Z \" fill=\"#000000\"/><text fill=\"#000000\" font-family=\"sans-serif\" font-size=\"14\" lengthAdjust=\"spacing\" textLength=\"10\" x=\"55.4\" y=\"61.8467\">C</text></a></g><text fill=\"#000000\" font-family=\"sans-serif\" font-size=\"14\" lengthAdjust=\"spacing\" textLength=\"8\" x=\"109\" y=\"39.6982\">c</text><rect fill=\"#F1F1F1\" height=\"12\" style=\"stroke:#181818;stroke-width:1.5;\" width=\"12\" x=\"107\" y=\"55\"/><text fill=\"#000000\" font-family=\"sans-serif\" font-size=\"14\" lengthAdjust=\"spacing\" textLength=\"38\" x=\"141\" y=\"39.6982\">newX</text><rect fill=\"#F1F1F1\" height=\"12\" style=\"stroke:#181818;stroke-width:1.5;\" width=\"12\" x=\"154\" y=\"55\"/><!--MD5=[de581c29f2aff69c607c5a5416f43525]\n",
       "@startuml\r\n",
       " skinparam ranksep 10\r\n",
       "skinparam rectangle {\r\n",
       " backgroundColor<<block>> LightGreen\r\n",
       "}\r\n",
       "\r\n",
       "package \"TextualRepresentationTest\" as E1  [[psysml:77badc07-b316-4281-ac3a-fbb5ce5d6d5a ]]  {\r\n",
       "def \"C\" as E2  << << (B,green) >> [[psysml:4094f6a7-157d-410f-a652-5cd39e1c0fe4 ]] \r\n",
       "rec def \"setX\" as E3  << <<(B,lemonchiffon) action  def>> [[psysml:90c9f2e5-1ab8-4a82-830f-194d1afced28 ]] {\r\n",
       "portin \"c\" as E4  [[psysml:eca695b7-e4ea-4848-82b9-964f1ac61a4c ]] \r\n",
       "portin \"newX\" as E5  [[psysml:5108d877-3142-4d1e-a057-58c6f6613775 ]] \r\n",
       "}\r\n",
       "\r\n",
       "}\r\n",
       "@enduml\r\n",
       "\n",
       "PlantUML version 1.2022.7(Mon Aug 22 17:01:30 UTC 2022)\n",
       "(EPL source distribution)\n",
       "Java Runtime: OpenJDK Runtime Environment\n",
       "JVM: OpenJDK 64-Bit Server VM\n",
       "Default Encoding: UTF-8\n",
       "Language: en\n",
       "Country: null\n",
       "--></g></svg>"
      ]
     },
     "execution_count": 33,
     "metadata": {},
     "output_type": "execute_result"
    }
   ],
   "source": [
    "%viz --style=\"PLANTUML\" --view=\"Interconnection\" \"TextualRepresentationTest\""
   ]
  },
  {
   "cell_type": "code",
   "execution_count": 34,
   "id": "9b7453fe",
   "metadata": {
    "execution": {
     "iopub.execute_input": "2024-12-16T14:19:27.953017Z",
     "iopub.status.busy": "2024-12-16T14:19:27.952806Z",
     "iopub.status.idle": "2024-12-16T14:19:27.965626Z",
     "shell.execute_reply": "2024-12-16T14:19:27.965412Z"
    }
   },
   "outputs": [
    {
     "data": {
      "image/svg+xml": [
       "<?xml version=\"1.0\" encoding=\"UTF-8\" standalone=\"no\"?><svg xmlns=\"http://www.w3.org/2000/svg\" xmlns:xlink=\"http://www.w3.org/1999/xlink\" contentStyleType=\"text/css\" height=\"121px\" preserveAspectRatio=\"none\" style=\"width:147px;height:121px;background:#FFFFFF;\" version=\"1.1\" viewBox=\"0 0 147 121\" width=\"147px\" zoomAndPan=\"magnify\"><defs/><g><!--MD5=[fbc87193dbaf4d95561dea2c320d4a47]\n",
       "cluster E1--><g id=\"cluster_E1\"><a href=\"psysml:90c9f2e5-1ab8-4a82-830f-194d1afced28\" target=\"_top\" title=\"psysml:90c9f2e5-1ab8-4a82-830f-194d1afced28\" xlink:actuate=\"onRequest\" xlink:href=\"psysml:90c9f2e5-1ab8-4a82-830f-194d1afced28\" xlink:show=\"new\" xlink:title=\"psysml:90c9f2e5-1ab8-4a82-830f-194d1afced28\" xlink:type=\"simple\"><rect fill=\"#FFFFFF\" height=\"73\" id=\"E1\" style=\"stroke:#A80036;stroke-width:1.5;\" width=\"134\" x=\"7\" y=\"42.0986\"/><rect fill=\"#F1F1F1\" height=\"40.2656\" style=\"stroke:#A80036;stroke-width:1.5;\" width=\"134\" x=\"7\" y=\"42.0986\"/><text fill=\"#000000\" font-family=\"sans-serif\" font-size=\"12\" font-style=\"italic\" lengthAdjust=\"spacing\" textLength=\"81\" x=\"33.5\" y=\"58.2373\">«action  def»</text><text fill=\"#000000\" font-family=\"sans-serif\" font-size=\"14\" lengthAdjust=\"spacing\" textLength=\"31\" x=\"58.5\" y=\"74.0625\">setX</text></a></g><text fill=\"#000000\" font-family=\"sans-serif\" font-size=\"14\" lengthAdjust=\"spacing\" textLength=\"8\" x=\"21\" y=\"20.7969\">c</text><rect fill=\"#F1F1F1\" height=\"12\" style=\"stroke:#181818;stroke-width:1.5;\" width=\"12\" x=\"19\" y=\"36.0986\"/><text fill=\"#000000\" font-family=\"sans-serif\" font-size=\"14\" lengthAdjust=\"spacing\" textLength=\"38\" x=\"53\" y=\"20.7969\">newX</text><rect fill=\"#F1F1F1\" height=\"12\" style=\"stroke:#181818;stroke-width:1.5;\" width=\"12\" x=\"66\" y=\"36.0986\"/><!--MD5=[377594c9dbbe0169bab3f52918762152]\n",
       "@startuml\r\n",
       " skinparam ranksep 8\r\n",
       "\r\n",
       "rec def \"setX\" as E1  << <<(B,lemonchiffon) action  def>> [[psysml:90c9f2e5-1ab8-4a82-830f-194d1afced28 ]] {\r\n",
       "portin \"c\" as E2  [[psysml:eca695b7-e4ea-4848-82b9-964f1ac61a4c ]] \r\n",
       "portin \"newX\" as E3  [[psysml:5108d877-3142-4d1e-a057-58c6f6613775 ]] \r\n",
       "}\r\n",
       "\r\n",
       "@enduml\r\n",
       "\n",
       "PlantUML version 1.2022.7(Mon Aug 22 17:01:30 UTC 2022)\n",
       "(EPL source distribution)\n",
       "Java Runtime: OpenJDK Runtime Environment\n",
       "JVM: OpenJDK 64-Bit Server VM\n",
       "Default Encoding: UTF-8\n",
       "Language: en\n",
       "Country: null\n",
       "--></g></svg>"
      ]
     },
     "execution_count": 34,
     "metadata": {},
     "output_type": "execute_result"
    }
   ],
   "source": [
    "%viz --style=\"PLANTUML\" --view=\"Action\" \"TextualRepresentationTest\""
   ]
  },
  {
   "cell_type": "code",
   "execution_count": 35,
   "id": "92532329",
   "metadata": {
    "execution": {
     "iopub.execute_input": "2024-12-16T14:19:28.021344Z",
     "iopub.status.busy": "2024-12-16T14:19:28.021117Z",
     "iopub.status.idle": "2024-12-16T14:19:28.026368Z",
     "shell.execute_reply": "2024-12-16T14:19:28.026204Z"
    }
   },
   "outputs": [
    {
     "data": {
      "image/svg+xml": [
       "<?xml version=\"1.0\" encoding=\"UTF-8\" standalone=\"no\"?><svg xmlns=\"http://www.w3.org/2000/svg\" xmlns:xlink=\"http://www.w3.org/1999/xlink\" contentStyleType=\"text/css\" height=\"10px\" preserveAspectRatio=\"none\" style=\"width:10px;height:10px;background:#FFFFFF;\" version=\"1.1\" viewBox=\"0 0 10 10\" width=\"10px\" zoomAndPan=\"magnify\"><defs/><g><!--MD5=[395e82ba475bd2e80052467b56fa0251]\n",
       "@startuml\r\n",
       " skinparam roundcorner 20\r\n",
       "skinparam BoxPadding 20\r\n",
       "skinparam SequenceBoxBackgroundColor #white\r\n",
       "skinparam style strictuml\r\n",
       "skinparam maxMessageSize 100\r\n",
       "\r\n",
       "@enduml\r\n",
       "\n",
       "PlantUML version 1.2022.7(Mon Aug 22 17:01:30 UTC 2022)\n",
       "(EPL source distribution)\n",
       "Java Runtime: OpenJDK Runtime Environment\n",
       "JVM: OpenJDK 64-Bit Server VM\n",
       "Default Encoding: UTF-8\n",
       "Language: en\n",
       "Country: null\n",
       "--></g></svg>"
      ]
     },
     "execution_count": 35,
     "metadata": {},
     "output_type": "execute_result"
    }
   ],
   "source": [
    "%viz --style=\"PLANTUML\" --view=\"Sequence\" \"TextualRepresentationTest\""
   ]
  },
  {
   "cell_type": "code",
   "execution_count": 36,
   "id": "b6178cb2",
   "metadata": {
    "execution": {
     "iopub.execute_input": "2024-12-16T14:19:28.078669Z",
     "iopub.status.busy": "2024-12-16T14:19:28.078252Z",
     "iopub.status.idle": "2024-12-16T14:19:28.102769Z",
     "shell.execute_reply": "2024-12-16T14:19:28.102539Z"
    }
   },
   "outputs": [
    {
     "data": {
      "image/svg+xml": [
       "<?xml version=\"1.0\" encoding=\"UTF-8\" standalone=\"no\"?><svg xmlns=\"http://www.w3.org/2000/svg\" xmlns:xlink=\"http://www.w3.org/1999/xlink\" contentStyleType=\"text/css\" height=\"248px\" preserveAspectRatio=\"none\" style=\"width:352px;height:248px;background:#FFFFFF;\" version=\"1.1\" viewBox=\"0 0 352 248\" width=\"352px\" zoomAndPan=\"magnify\"><defs/><g><!--MD5=[fbc87193dbaf4d95561dea2c320d4a47]\n",
       "cluster E1--><g id=\"cluster_E1\"><a href=\"psysml:77badc07-b316-4281-ac3a-fbb5ce5d6d5a\" target=\"_top\" title=\"psysml:77badc07-b316-4281-ac3a-fbb5ce5d6d5a\" xlink:actuate=\"onRequest\" xlink:href=\"psysml:77badc07-b316-4281-ac3a-fbb5ce5d6d5a\" xlink:show=\"new\" xlink:title=\"psysml:77badc07-b316-4281-ac3a-fbb5ce5d6d5a\" xlink:type=\"simple\"><path d=\"M8.5,6 L208.4375,6 A3.75,3.75 0 0 1 210.9375,8.5 L217.9375,28.2969 L342.5,28.2969 A2.5,2.5 0 0 1 345,30.7969 L345,239 A2.5,2.5 0 0 1 342.5,241.5 L8.5,241.5 A2.5,2.5 0 0 1 6,239 L6,8.5 A2.5,2.5 0 0 1 8.5,6 \" fill=\"none\" style=\"stroke:#000000;stroke-width:1.5;\"/><line style=\"stroke:#000000;stroke-width:1.5;\" x1=\"6\" x2=\"217.9375\" y1=\"28.2969\" y2=\"28.2969\"/><text fill=\"#000000\" font-family=\"sans-serif\" font-size=\"14\" font-weight=\"bold\" lengthAdjust=\"spacing\" textLength=\"198.9375\" x=\"10\" y=\"20.9951\">TextualRepresentationTest</text></a></g><!--MD5=[f6df4d0ebaf0b5dfb2ced0ae5af7c670]\n",
       "cluster E4--><g id=\"cluster_E4\"><a href=\"psysml:90c9f2e5-1ab8-4a82-830f-194d1afced28\" target=\"_top\" title=\"psysml:90c9f2e5-1ab8-4a82-830f-194d1afced28\" xlink:actuate=\"onRequest\" xlink:href=\"psysml:90c9f2e5-1ab8-4a82-830f-194d1afced28\" xlink:show=\"new\" xlink:title=\"psysml:90c9f2e5-1ab8-4a82-830f-194d1afced28\" xlink:type=\"simple\"><rect fill=\"#FFFFFF\" height=\"151\" id=\"E4\" style=\"stroke:#A80036;stroke-width:1.5;\" width=\"134\" x=\"195\" y=\"74.5\"/><rect fill=\"#F1F1F1\" height=\"40.2656\" style=\"stroke:#A80036;stroke-width:1.5;\" width=\"134\" x=\"195\" y=\"74.5\"/><text fill=\"#000000\" font-family=\"sans-serif\" font-size=\"12\" font-style=\"italic\" lengthAdjust=\"spacing\" textLength=\"81\" x=\"221.5\" y=\"90.6387\">«action  def»</text><text fill=\"#000000\" font-family=\"sans-serif\" font-size=\"14\" lengthAdjust=\"spacing\" textLength=\"31\" x=\"246.5\" y=\"106.4639\">setX</text></a></g><!--MD5=[b4997ac47864f28c2f74865a473b2911]\n",
       "class E2--><a href=\"psysml:4094f6a7-157d-410f-a652-5cd39e1c0fe4\" target=\"_top\" title=\"psysml:4094f6a7-157d-410f-a652-5cd39e1c0fe4\" xlink:actuate=\"onRequest\" xlink:href=\"psysml:4094f6a7-157d-410f-a652-5cd39e1c0fe4\" xlink:show=\"new\" xlink:title=\"psysml:4094f6a7-157d-410f-a652-5cd39e1c0fe4\" xlink:type=\"simple\"><g id=\"elem_E2\"><rect fill=\"#F1F1F1\" height=\"66.8156\" id=\"E2\" rx=\"2.5\" ry=\"2.5\" style=\"stroke:#181818;stroke-width:0.5;\" width=\"74\" x=\"60\" y=\"41\"/><ellipse cx=\"89.4\" cy=\"57\" fill=\"#008000\" rx=\"11\" ry=\"11\" style=\"stroke:#181818;stroke-width:1.0;\"/><path d=\"M86.2594,63.5 L86.2594,51.3594 L90.0563,51.3594 Q92.0563,51.3594 93.1031,52.0625 Q94.1656,52.7656 94.1656,54.3438 Q94.1656,55.4375 93.6656,56.1563 Q93.1813,56.875 92.3531,57.0625 L92.3531,57.1406 Q93.275,57.3594 93.8375,58.0313 Q94.4156,58.6875 94.4156,59.9531 Q94.4156,61.6094 93.3688,62.5625 Q92.3219,63.5 90.4625,63.5 L86.2594,63.5 Z M90.0406,56.1406 Q90.9313,56.1406 91.2906,55.8125 Q91.6656,55.4688 91.6656,54.7656 Q91.6656,54.0313 91.275,53.7188 Q90.8844,53.3906 89.9469,53.3906 L88.5563,53.3906 L88.5563,56.1406 L90.0406,56.1406 Z M90.2281,61.4844 Q91.1344,61.4844 91.4938,61.0469 Q91.8531,60.5938 91.8531,59.8125 Q91.8531,59.0313 91.4781,58.6406 Q91.1188,58.2344 90.1344,58.2344 L88.5563,58.2344 L88.5563,61.4844 L90.2281,61.4844 Z \" fill=\"#000000\"/><text fill=\"#000000\" font-family=\"sans-serif\" font-size=\"14\" lengthAdjust=\"spacing\" textLength=\"10\" x=\"106.6\" y=\"61.8467\">C</text><line style=\"stroke:#181818;stroke-width:0.5;\" x1=\"61\" x2=\"133\" y1=\"73\" y2=\"73\"/><text fill=\"#000000\" font-family=\"sans-serif\" font-size=\"14\" lengthAdjust=\"spacing\" textLength=\"46\" x=\"66\" y=\"100.5139\">x: Real</text><text fill=\"#000000\" font-family=\"sans-serif\" font-size=\"14\" font-style=\"italic\" lengthAdjust=\"spacing\" textLength=\"66\" x=\"64\" y=\"85.3467\">attributes</text></g></a><!--MD5=[09b614a08d8cba4a07c9adeb5e0fee81]\n",
       "class E3--><a href=\"psysml:bff165c1-58b3-4dd4-8269-a7769b97eb56\" target=\"_top\" title=\"psysml:bff165c1-58b3-4dd4-8269-a7769b97eb56\" xlink:actuate=\"onRequest\" xlink:href=\"psysml:bff165c1-58b3-4dd4-8269-a7769b97eb56\" xlink:show=\"new\" xlink:title=\"psysml:bff165c1-58b3-4dd4-8269-a7769b97eb56\" xlink:type=\"simple\"><g id=\"elem_E3\"><rect fill=\"#F1F1F1\" height=\"48.2656\" id=\"E3\" rx=\"10\" ry=\"10\" style=\"stroke:#181818;stroke-width:0.5;\" width=\"150\" x=\"22\" y=\"168\"/><ellipse cx=\"37\" cy=\"188.1328\" fill=\"#FFA500\" rx=\"11\" ry=\"11\" style=\"stroke:#181818;stroke-width:1.0;\"/><path d=\"M37.0625,195.3047 Q34.9531,195.3047 33.8594,194.1797 Q32.7656,193.0547 32.7656,191.0078 L32.7656,182.9922 L35.2344,182.9922 L35.2344,190.5703 Q35.2344,192.0078 35.6875,192.6016 Q36.1406,193.1797 37.0938,193.1797 Q38.1094,193.1797 38.5313,192.5703 Q38.9688,191.9609 38.9688,190.5547 L38.9688,182.9922 L41.4375,182.9922 L41.4375,190.9922 Q41.4375,192.9766 40.3438,194.1484 Q39.2656,195.3047 37.0625,195.3047 Z \" fill=\"#000000\"/><text fill=\"#000000\" font-family=\"sans-serif\" font-size=\"12\" font-style=\"italic\" lengthAdjust=\"spacing\" textLength=\"122\" x=\"49\" y=\"184.1387\">«assert constraint»</text><text fill=\"#000000\" font-family=\"sans-serif\" font-size=\"14\" lengthAdjust=\"spacing\" textLength=\"83\" x=\"64.5\" y=\"199.9639\">x_constraint</text><line style=\"stroke:#181818;stroke-width:0.5;\" x1=\"23\" x2=\"171\" y1=\"208.2656\" y2=\"208.2656\"/></g></a><text fill=\"#000000\" font-family=\"sans-serif\" font-size=\"14\" lengthAdjust=\"spacing\" textLength=\"8\" x=\"209\" y=\"53.1982\">c</text><rect fill=\"#F1F1F1\" height=\"12\" style=\"stroke:#181818;stroke-width:1.5;\" width=\"12\" x=\"207\" y=\"68.5\"/><text fill=\"#000000\" font-family=\"sans-serif\" font-size=\"14\" lengthAdjust=\"spacing\" textLength=\"38\" x=\"241\" y=\"53.1982\">newX</text><rect fill=\"#F1F1F1\" height=\"12\" style=\"stroke:#181818;stroke-width:1.5;\" width=\"12\" x=\"254\" y=\"68.5\"/><!--MD5=[209b3feb70ccb6233bfe1053d122c12c]\n",
       "reverse link E2 to E3--><g id=\"link_E2_E3\"><a href=\"psysml:15e2216a-3ffa-458d-9ef3-f5d48fbfe7fe\" target=\"_top\" title=\"psysml:15e2216a-3ffa-458d-9ef3-f5d48fbfe7fe\" xlink:actuate=\"onRequest\" xlink:href=\"psysml:15e2216a-3ffa-458d-9ef3-f5d48fbfe7fe\" xlink:show=\"new\" xlink:title=\"psysml:15e2216a-3ffa-458d-9ef3-f5d48fbfe7fe\" xlink:type=\"simple\"><path d=\"M97,121.72 C97,137.5 97,154.47 97,167.67 \" fill=\"none\" id=\"E2-backto-E3\" style=\"stroke:#181818;stroke-width:1.0;\"/><polygon fill=\"#181818\" points=\"97,108.29,93,114.29,97,120.29,101,114.29,97,108.29\" style=\"stroke:#181818;stroke-width:1.0;\"/></a></g><!--MD5=[a35dae8229f7de9fe130c0e8119f8789]\n",
       "@startuml\r\n",
       " \r\n",
       "package \"TextualRepresentationTest\" as E1  [[psysml:77badc07-b316-4281-ac3a-fbb5ce5d6d5a ]]  {\r\n",
       "comp def \"C\" as E2  << << (B,green) >> [[psysml:4094f6a7-157d-410f-a652-5cd39e1c0fe4 ]] {\r\n",
       "##//attributes//##\r\n",
       "x: Real\r\n",
       "}\r\n",
       "comp usage \"x_constraint  \" as E3  << <<(U,orange) assert constraint>> [[psysml:bff165c1-58b3-4dd4-8269-a7769b97eb56 ]] {\r\n",
       "}\r\n",
       "rec def \"setX\" as E4  << <<(B,lemonchiffon) action  def>> [[psysml:90c9f2e5-1ab8-4a82-830f-194d1afced28 ]] {\r\n",
       "portin \"c\" as E5  [[psysml:eca695b7-e4ea-4848-82b9-964f1ac61a4c ]] \r\n",
       "portin \"newX\" as E6  [[psysml:5108d877-3142-4d1e-a057-58c6f6613775 ]] \r\n",
       "}\r\n",
       "\r\n",
       "}\r\n",
       "E2 *- - E3 [[psysml:15e2216a-3ffa-458d-9ef3-f5d48fbfe7fe ]] \r\n",
       "@enduml\r\n",
       "\n",
       "PlantUML version 1.2022.7(Mon Aug 22 17:01:30 UTC 2022)\n",
       "(EPL source distribution)\n",
       "Java Runtime: OpenJDK Runtime Environment\n",
       "JVM: OpenJDK 64-Bit Server VM\n",
       "Default Encoding: UTF-8\n",
       "Language: en\n",
       "Country: null\n",
       "--></g></svg>"
      ]
     },
     "execution_count": 36,
     "metadata": {},
     "output_type": "execute_result"
    }
   ],
   "source": [
    "%viz --style=\"PLANTUML\" --view=\"MIXED\" \"TextualRepresentationTest\""
   ]
  },
  {
   "cell_type": "code",
   "execution_count": 37,
   "id": "f3dd99cf",
   "metadata": {
    "execution": {
     "iopub.execute_input": "2024-12-16T14:19:28.153004Z",
     "iopub.status.busy": "2024-12-16T14:19:28.152741Z",
     "iopub.status.idle": "2024-12-16T14:19:28.171957Z",
     "shell.execute_reply": "2024-12-16T14:19:28.170952Z"
    }
   },
   "outputs": [
    {
     "data": {
      "image/svg+xml": [
       "<?xml version=\"1.0\" encoding=\"UTF-8\" standalone=\"no\"?><svg xmlns=\"http://www.w3.org/2000/svg\" xmlns:xlink=\"http://www.w3.org/1999/xlink\" contentStyleType=\"text/css\" height=\"256px\" preserveAspectRatio=\"none\" style=\"width:346px;height:256px;background:#FFFFFF;\" version=\"1.1\" viewBox=\"0 0 346 256\" width=\"346px\" zoomAndPan=\"magnify\"><defs/><g><!--MD5=[fbc87193dbaf4d95561dea2c320d4a47]\n",
       "cluster E1--><g id=\"cluster_E1\"><a href=\"psysml:77badc07-b316-4281-ac3a-fbb5ce5d6d5a\" target=\"_top\" title=\"psysml:77badc07-b316-4281-ac3a-fbb5ce5d6d5a\" xlink:actuate=\"onRequest\" xlink:href=\"psysml:77badc07-b316-4281-ac3a-fbb5ce5d6d5a\" xlink:show=\"new\" xlink:title=\"psysml:77badc07-b316-4281-ac3a-fbb5ce5d6d5a\" xlink:type=\"simple\"><polygon fill=\"none\" points=\"16,6,220.9375,6,227.9375,28.2969,329,28.2969,329,249.5,16,249.5,16,6\" style=\"stroke:#000000;stroke-width:1.5;\"/><line style=\"stroke:#000000;stroke-width:1.5;\" x1=\"16\" x2=\"227.9375\" y1=\"28.2969\" y2=\"28.2969\"/><text fill=\"#000000\" font-family=\"sans-serif\" font-size=\"14\" font-weight=\"bold\" lengthAdjust=\"spacing\" textLength=\"198.9375\" x=\"20\" y=\"20.9951\">TextualRepresentationTest</text></a></g><!--MD5=[f6df4d0ebaf0b5dfb2ced0ae5af7c670]\n",
       "cluster E4--><g id=\"cluster_E4\"><a href=\"psysml:90c9f2e5-1ab8-4a82-830f-194d1afced28\" target=\"_top\" title=\"psysml:90c9f2e5-1ab8-4a82-830f-194d1afced28\" xlink:actuate=\"onRequest\" xlink:href=\"psysml:90c9f2e5-1ab8-4a82-830f-194d1afced28\" xlink:show=\"new\" xlink:title=\"psysml:90c9f2e5-1ab8-4a82-830f-194d1afced28\" xlink:type=\"simple\"><rect fill=\"#FFFFFF\" height=\"155\" id=\"E4\" style=\"stroke:#383838;stroke-width:1.5;\" width=\"134\" x=\"179\" y=\"78.5\"/><text fill=\"#000000\" font-family=\"sans-serif\" font-size=\"12\" font-style=\"italic\" lengthAdjust=\"spacing\" textLength=\"81\" x=\"205.5\" y=\"94.6387\">«action  def»</text><text fill=\"#000000\" font-family=\"sans-serif\" font-size=\"14\" lengthAdjust=\"spacing\" textLength=\"31\" x=\"230.5\" y=\"110.4639\">setX</text><line style=\"stroke:#383838;stroke-width:1.0;\" x1=\"179\" x2=\"313\" y1=\"118.7656\" y2=\"118.7656\"/></a></g><!--MD5=[b4997ac47864f28c2f74865a473b2911]\n",
       "class E2--><a href=\"psysml:4094f6a7-157d-410f-a652-5cd39e1c0fe4\" target=\"_top\" title=\"psysml:4094f6a7-157d-410f-a652-5cd39e1c0fe4\" xlink:actuate=\"onRequest\" xlink:href=\"psysml:4094f6a7-157d-410f-a652-5cd39e1c0fe4\" xlink:show=\"new\" xlink:title=\"psysml:4094f6a7-157d-410f-a652-5cd39e1c0fe4\" xlink:type=\"simple\"><g id=\"elem_E2\"><rect fill=\"#FFFFFF\" height=\"75.0813\" id=\"E2\" style=\"stroke:#181818;stroke-width:0.5;\" width=\"74\" x=\"57\" y=\"41\"/><text fill=\"#000000\" font-family=\"sans-serif\" font-size=\"12\" font-style=\"italic\" lengthAdjust=\"spacing\" textLength=\"69\" x=\"59.5\" y=\"57.1387\">«item  def»</text><text fill=\"#000000\" font-family=\"sans-serif\" font-size=\"14\" lengthAdjust=\"spacing\" textLength=\"10\" x=\"89\" y=\"72.9639\">C</text><line style=\"stroke:#181818;stroke-width:0.5;\" x1=\"58\" x2=\"130\" y1=\"81.2656\" y2=\"81.2656\"/><text fill=\"#000000\" font-family=\"sans-serif\" font-size=\"14\" lengthAdjust=\"spacing\" textLength=\"46\" x=\"63\" y=\"108.7795\">x: Real</text><text fill=\"#000000\" font-family=\"sans-serif\" font-size=\"14\" font-style=\"italic\" lengthAdjust=\"spacing\" textLength=\"66\" x=\"61\" y=\"93.6123\">attributes</text></g></a><!--MD5=[09b614a08d8cba4a07c9adeb5e0fee81]\n",
       "class E3--><a href=\"psysml:bff165c1-58b3-4dd4-8269-a7769b97eb56\" target=\"_top\" title=\"psysml:bff165c1-58b3-4dd4-8269-a7769b97eb56\" xlink:actuate=\"onRequest\" xlink:href=\"psysml:bff165c1-58b3-4dd4-8269-a7769b97eb56\" xlink:show=\"new\" xlink:title=\"psysml:bff165c1-58b3-4dd4-8269-a7769b97eb56\" xlink:type=\"simple\"><g id=\"elem_E3\"><rect fill=\"#FFFFFF\" height=\"48.2656\" id=\"E3\" rx=\"10\" ry=\"10\" style=\"stroke:#181818;stroke-width:0.5;\" width=\"124\" x=\"32\" y=\"176\"/><text fill=\"#000000\" font-family=\"sans-serif\" font-size=\"12\" font-style=\"italic\" lengthAdjust=\"spacing\" textLength=\"122\" x=\"33\" y=\"192.1387\">«assert constraint»</text><text fill=\"#000000\" font-family=\"sans-serif\" font-size=\"14\" lengthAdjust=\"spacing\" textLength=\"83\" x=\"48.5\" y=\"207.9639\">x_constraint</text><line style=\"stroke:#181818;stroke-width:0.5;\" x1=\"33\" x2=\"155\" y1=\"216.2656\" y2=\"216.2656\"/></g></a><text fill=\"#000000\" font-family=\"sans-serif\" font-size=\"14\" lengthAdjust=\"spacing\" textLength=\"8\" x=\"193\" y=\"57.1982\">c</text><rect fill=\"#FFFFFF\" height=\"12\" style=\"stroke:#181818;stroke-width:1.5;\" width=\"12\" x=\"191\" y=\"72.5\"/><text fill=\"#000000\" font-family=\"sans-serif\" font-size=\"14\" lengthAdjust=\"spacing\" textLength=\"38\" x=\"225\" y=\"57.1982\">newX</text><rect fill=\"#FFFFFF\" height=\"12\" style=\"stroke:#181818;stroke-width:1.5;\" width=\"12\" x=\"238\" y=\"72.5\"/><!--MD5=[209b3feb70ccb6233bfe1053d122c12c]\n",
       "reverse link E2 to E3--><g id=\"link_E2_E3\"><a href=\"psysml:15e2216a-3ffa-458d-9ef3-f5d48fbfe7fe\" target=\"_top\" title=\"psysml:15e2216a-3ffa-458d-9ef3-f5d48fbfe7fe\" xlink:actuate=\"onRequest\" xlink:href=\"psysml:15e2216a-3ffa-458d-9ef3-f5d48fbfe7fe\" xlink:show=\"new\" xlink:title=\"psysml:15e2216a-3ffa-458d-9ef3-f5d48fbfe7fe\" xlink:type=\"simple\"><path d=\"M94,129.25 C94,145.43 94,162.61 94,175.88 \" fill=\"none\" id=\"E2-backto-E3\" style=\"stroke:#181818;stroke-width:1.0;\"/><polygon fill=\"#181818\" points=\"94,116,90,122,94,128,98,122,94,116\" style=\"stroke:#181818;stroke-width:1.0;\"/></a></g><!--MD5=[f729a3eb30550fa7dec4c79dc7c8dc7e]\n",
       "@startuml\r\n",
       "skin sysmlbw\r\n",
       "skinparam monochrome true\r\n",
       "skinparam wrapWidth 300\r\n",
       "hide circle\r\n",
       "\r\n",
       "package \"TextualRepresentationTest\" as E1  [[psysml:77badc07-b316-4281-ac3a-fbb5ce5d6d5a ]]  {\r\n",
       "comp def \"C\" as E2  <<(T,blue) item  def>> [[psysml:4094f6a7-157d-410f-a652-5cd39e1c0fe4 ]] {\r\n",
       "##//attributes//##\r\n",
       "x: Real\r\n",
       "}\r\n",
       "comp usage \"x_constraint  \" as E3  <<(T,blue) assert constraint>> [[psysml:bff165c1-58b3-4dd4-8269-a7769b97eb56 ]] {\r\n",
       "}\r\n",
       "rec def \"setX\" as E4  <<(T,blue) action  def>> [[psysml:90c9f2e5-1ab8-4a82-830f-194d1afced28 ]] {\r\n",
       "portin \"c\" as E5  [[psysml:eca695b7-e4ea-4848-82b9-964f1ac61a4c ]] \r\n",
       "portin \"newX\" as E6  [[psysml:5108d877-3142-4d1e-a057-58c6f6613775 ]] \r\n",
       "}\r\n",
       "\r\n",
       "}\r\n",
       "E2 *- - E3 [[psysml:15e2216a-3ffa-458d-9ef3-f5d48fbfe7fe ]] \r\n",
       "@enduml\r\n",
       "\n",
       "PlantUML version 1.2022.7(Mon Aug 22 17:01:30 UTC 2022)\n",
       "(EPL source distribution)\n",
       "Java Runtime: OpenJDK Runtime Environment\n",
       "JVM: OpenJDK 64-Bit Server VM\n",
       "Default Encoding: UTF-8\n",
       "Language: en\n",
       "Country: null\n",
       "--></g></svg>"
      ]
     },
     "execution_count": 37,
     "metadata": {},
     "output_type": "execute_result"
    }
   ],
   "source": [
    "%viz --style=\"DEFAULT\" --view=\"Default\" \"TextualRepresentationTest\""
   ]
  },
  {
   "cell_type": "code",
   "execution_count": 38,
   "id": "245c2805",
   "metadata": {
    "execution": {
     "iopub.execute_input": "2024-12-16T14:19:28.227852Z",
     "iopub.status.busy": "2024-12-16T14:19:28.227493Z",
     "iopub.status.idle": "2024-12-16T14:19:28.245603Z",
     "shell.execute_reply": "2024-12-16T14:19:28.244760Z"
    }
   },
   "outputs": [
    {
     "data": {
      "image/svg+xml": [
       "<?xml version=\"1.0\" encoding=\"UTF-8\" standalone=\"no\"?><svg xmlns=\"http://www.w3.org/2000/svg\" xmlns:xlink=\"http://www.w3.org/1999/xlink\" contentStyleType=\"text/css\" height=\"373px\" preserveAspectRatio=\"none\" style=\"width:247px;height:373px;background:#FFFFFF;\" version=\"1.1\" viewBox=\"0 0 247 373\" width=\"247px\" zoomAndPan=\"magnify\"><defs/><g><!--MD5=[fbc87193dbaf4d95561dea2c320d4a47]\n",
       "cluster E1--><g id=\"cluster_E1\"><a href=\"psysml:77badc07-b316-4281-ac3a-fbb5ce5d6d5a\" target=\"_top\" title=\"psysml:77badc07-b316-4281-ac3a-fbb5ce5d6d5a\" xlink:actuate=\"onRequest\" xlink:href=\"psysml:77badc07-b316-4281-ac3a-fbb5ce5d6d5a\" xlink:show=\"new\" xlink:title=\"psysml:77badc07-b316-4281-ac3a-fbb5ce5d6d5a\" xlink:type=\"simple\"><polygon fill=\"none\" points=\"16,6,220.9375,6,227.9375,28.2969,230,28.2969,230,366,16,366,16,6\" style=\"stroke:#000000;stroke-width:1.5;\"/><line style=\"stroke:#000000;stroke-width:1.5;\" x1=\"16\" x2=\"227.9375\" y1=\"28.2969\" y2=\"28.2969\"/><text fill=\"#000000\" font-family=\"sans-serif\" font-size=\"14\" font-weight=\"bold\" lengthAdjust=\"spacing\" textLength=\"198.9375\" x=\"20\" y=\"20.9951\">TextualRepresentationTest</text></a></g><!--MD5=[b4997ac47864f28c2f74865a473b2911]\n",
       "class E2--><a href=\"psysml:4094f6a7-157d-410f-a652-5cd39e1c0fe4\" target=\"_top\" title=\"psysml:4094f6a7-157d-410f-a652-5cd39e1c0fe4\" xlink:actuate=\"onRequest\" xlink:href=\"psysml:4094f6a7-157d-410f-a652-5cd39e1c0fe4\" xlink:show=\"new\" xlink:title=\"psysml:4094f6a7-157d-410f-a652-5cd39e1c0fe4\" xlink:type=\"simple\"><g id=\"elem_E2\"><rect fill=\"#FFFFFF\" height=\"75.0813\" id=\"E2\" style=\"stroke:#181818;stroke-width:0.5;\" width=\"74\" x=\"86\" y=\"166\"/><text fill=\"#000000\" font-family=\"sans-serif\" font-size=\"12\" font-style=\"italic\" lengthAdjust=\"spacing\" textLength=\"69\" x=\"88.5\" y=\"182.1387\">«item  def»</text><text fill=\"#000000\" font-family=\"sans-serif\" font-size=\"14\" lengthAdjust=\"spacing\" textLength=\"10\" x=\"118\" y=\"197.9639\">C</text><line style=\"stroke:#181818;stroke-width:0.5;\" x1=\"87\" x2=\"159\" y1=\"206.2656\" y2=\"206.2656\"/><text fill=\"#000000\" font-family=\"sans-serif\" font-size=\"14\" lengthAdjust=\"spacing\" textLength=\"46\" x=\"92\" y=\"233.7795\">x: Real</text><text fill=\"#000000\" font-family=\"sans-serif\" font-size=\"14\" font-style=\"italic\" lengthAdjust=\"spacing\" textLength=\"66\" x=\"90\" y=\"218.6123\">attributes</text></g></a><!--MD5=[09b614a08d8cba4a07c9adeb5e0fee81]\n",
       "class E3--><a href=\"psysml:bff165c1-58b3-4dd4-8269-a7769b97eb56\" target=\"_top\" title=\"psysml:bff165c1-58b3-4dd4-8269-a7769b97eb56\" xlink:actuate=\"onRequest\" xlink:href=\"psysml:bff165c1-58b3-4dd4-8269-a7769b97eb56\" xlink:show=\"new\" xlink:title=\"psysml:bff165c1-58b3-4dd4-8269-a7769b97eb56\" xlink:type=\"simple\"><g id=\"elem_E3\"><rect fill=\"#FFFFFF\" height=\"48.2656\" id=\"E3\" rx=\"10\" ry=\"10\" style=\"stroke:#181818;stroke-width:0.5;\" width=\"124\" x=\"61\" y=\"302\"/><text fill=\"#000000\" font-family=\"sans-serif\" font-size=\"12\" font-style=\"italic\" lengthAdjust=\"spacing\" textLength=\"122\" x=\"62\" y=\"318.1387\">«assert constraint»</text><text fill=\"#000000\" font-family=\"sans-serif\" font-size=\"14\" lengthAdjust=\"spacing\" textLength=\"83\" x=\"77.5\" y=\"333.9639\">x_constraint</text><line style=\"stroke:#181818;stroke-width:0.5;\" x1=\"62\" x2=\"184\" y1=\"342.2656\" y2=\"342.2656\"/></g></a><!--MD5=[ebbe1d658d1005bcc118a6aa81145e00]\n",
       "class E4--><a href=\"psysml:90c9f2e5-1ab8-4a82-830f-194d1afced28\" target=\"_top\" title=\"psysml:90c9f2e5-1ab8-4a82-830f-194d1afced28\" xlink:actuate=\"onRequest\" xlink:href=\"psysml:90c9f2e5-1ab8-4a82-830f-194d1afced28\" xlink:show=\"new\" xlink:title=\"psysml:90c9f2e5-1ab8-4a82-830f-194d1afced28\" xlink:type=\"simple\"><g id=\"elem_E4\"><rect fill=\"#FFFFFF\" height=\"48.2656\" id=\"E4\" style=\"stroke:#181818;stroke-width:0.5;\" width=\"83\" x=\"81.5\" y=\"41\"/><text fill=\"#000000\" font-family=\"sans-serif\" font-size=\"12\" font-style=\"italic\" lengthAdjust=\"spacing\" textLength=\"81\" x=\"82.5\" y=\"57.1387\">«action  def»</text><text fill=\"#000000\" font-family=\"sans-serif\" font-size=\"14\" lengthAdjust=\"spacing\" textLength=\"31\" x=\"107.5\" y=\"72.9639\">setX</text><line style=\"stroke:#181818;stroke-width:0.5;\" x1=\"82.5\" x2=\"163.5\" y1=\"81.2656\" y2=\"81.2656\"/></g></a><!--MD5=[209b3feb70ccb6233bfe1053d122c12c]\n",
       "reverse link E2 to E3--><g id=\"link_E2_E3\"><a href=\"psysml:15e2216a-3ffa-458d-9ef3-f5d48fbfe7fe\" target=\"_top\" title=\"psysml:15e2216a-3ffa-458d-9ef3-f5d48fbfe7fe\" xlink:actuate=\"onRequest\" xlink:href=\"psysml:15e2216a-3ffa-458d-9ef3-f5d48fbfe7fe\" xlink:show=\"new\" xlink:title=\"psysml:15e2216a-3ffa-458d-9ef3-f5d48fbfe7fe\" xlink:type=\"simple\"><path d=\"M123,254.67 C123,270.98 123,288.31 123,301.69 \" fill=\"none\" id=\"E2-backto-E3\" style=\"stroke:#181818;stroke-width:1.0;\"/><polygon fill=\"#181818\" points=\"123,241.31,119,247.31,123,253.31,127,247.31,123,241.31\" style=\"stroke:#181818;stroke-width:1.0;\"/></a></g><!--MD5=[ddeed8deb2209213b62e6cfabaa108b2]\n",
       "reverse link E4 to E2--><g id=\"link_E4_E2\"><a href=\"psysml:eca695b7-e4ea-4848-82b9-964f1ac61a4c\" target=\"_top\" title=\"psysml:eca695b7-e4ea-4848-82b9-964f1ac61a4c\" xlink:actuate=\"onRequest\" xlink:href=\"psysml:eca695b7-e4ea-4848-82b9-964f1ac61a4c\" xlink:show=\"new\" xlink:title=\"psysml:eca695b7-e4ea-4848-82b9-964f1ac61a4c\" xlink:type=\"simple\"><path d=\"M123,102.22 C123,121.88 123,146.11 123,165.84 \" fill=\"none\" id=\"E4-backto-E2\" style=\"stroke:#181818;stroke-width:1.0;\"/><polygon fill=\"none\" points=\"123,89.16,119,95.16,123,101.16,127,95.16,123,89.16\" style=\"stroke:#181818;stroke-width:1.0;\"/><text fill=\"#000000\" font-family=\"sans-serif\" font-size=\"13\" lengthAdjust=\"spacing\" textLength=\"7\" x=\"124\" y=\"132.0669\">c</text></a></g><!--MD5=[ca427557dbcd8ff6037f6694da041f49]\n",
       "@startuml\r\n",
       "skin sysmlbw\r\n",
       "skinparam monochrome true\r\n",
       "skinparam wrapWidth 300\r\n",
       "hide circle\r\n",
       "\r\n",
       "package \"TextualRepresentationTest\" as E1  [[psysml:77badc07-b316-4281-ac3a-fbb5ce5d6d5a ]]  {\r\n",
       "comp def \"C\" as E2  <<(T,blue) item  def>> [[psysml:4094f6a7-157d-410f-a652-5cd39e1c0fe4 ]] {\r\n",
       "##//attributes//##\r\n",
       "x: Real\r\n",
       "}\r\n",
       "comp usage \"x_constraint  \" as E3  <<(T,blue) assert constraint>> [[psysml:bff165c1-58b3-4dd4-8269-a7769b97eb56 ]] {\r\n",
       "}\r\n",
       "comp def \"setX\" as E4  <<(T,blue) action  def>> [[psysml:90c9f2e5-1ab8-4a82-830f-194d1afced28 ]] {\r\n",
       "}\r\n",
       "}\r\n",
       "E2 *- - E3 [[psysml:15e2216a-3ffa-458d-9ef3-f5d48fbfe7fe ]] \r\n",
       "E4 o- - E2 [[psysml:eca695b7-e4ea-4848-82b9-964f1ac61a4c ]] : c\r\n",
       "@enduml\r\n",
       "\n",
       "PlantUML version 1.2022.7(Mon Aug 22 17:01:30 UTC 2022)\n",
       "(EPL source distribution)\n",
       "Java Runtime: OpenJDK Runtime Environment\n",
       "JVM: OpenJDK 64-Bit Server VM\n",
       "Default Encoding: UTF-8\n",
       "Language: en\n",
       "Country: null\n",
       "--></g></svg>"
      ]
     },
     "execution_count": 38,
     "metadata": {},
     "output_type": "execute_result"
    }
   ],
   "source": [
    "%viz --style=\"DEFAULT\" --view=\"Tree\" \"TextualRepresentationTest\""
   ]
  },
  {
   "cell_type": "code",
   "execution_count": 39,
   "id": "cd68fd98",
   "metadata": {
    "execution": {
     "iopub.execute_input": "2024-12-16T14:19:28.301511Z",
     "iopub.status.busy": "2024-12-16T14:19:28.301258Z",
     "iopub.status.idle": "2024-12-16T14:19:28.307145Z",
     "shell.execute_reply": "2024-12-16T14:19:28.306938Z"
    }
   },
   "outputs": [
    {
     "data": {
      "image/svg+xml": [
       "<?xml version=\"1.0\" encoding=\"UTF-8\" standalone=\"no\"?><svg xmlns=\"http://www.w3.org/2000/svg\" xmlns:xlink=\"http://www.w3.org/1999/xlink\" contentStyleType=\"text/css\" height=\"10px\" preserveAspectRatio=\"none\" style=\"width:10px;height:10px;background:#FFFFFF;\" version=\"1.1\" viewBox=\"0 0 10 10\" width=\"10px\" zoomAndPan=\"magnify\"><defs/><g><!--MD5=[ac12e6954f3af68464267ee74ddf8a9f]\n",
       "@startuml\r\n",
       "skin sysmlbw\r\n",
       "skinparam monochrome true\r\n",
       "skinparam wrapWidth 300\r\n",
       "hide circle\r\n",
       "\r\n",
       "@enduml\r\n",
       "\n",
       "PlantUML version 1.2022.7(Mon Aug 22 17:01:30 UTC 2022)\n",
       "(EPL source distribution)\n",
       "Java Runtime: OpenJDK Runtime Environment\n",
       "JVM: OpenJDK 64-Bit Server VM\n",
       "Default Encoding: UTF-8\n",
       "Language: en\n",
       "Country: null\n",
       "--></g></svg>"
      ]
     },
     "execution_count": 39,
     "metadata": {},
     "output_type": "execute_result"
    }
   ],
   "source": [
    "%viz --style=\"DEFAULT\" --view=\"State\" \"TextualRepresentationTest\""
   ]
  },
  {
   "cell_type": "code",
   "execution_count": 40,
   "id": "75a94f38",
   "metadata": {
    "execution": {
     "iopub.execute_input": "2024-12-16T14:19:28.363549Z",
     "iopub.status.busy": "2024-12-16T14:19:28.363185Z",
     "iopub.status.idle": "2024-12-16T14:19:28.379200Z",
     "shell.execute_reply": "2024-12-16T14:19:28.378959Z"
    }
   },
   "outputs": [
    {
     "data": {
      "image/svg+xml": [
       "<?xml version=\"1.0\" encoding=\"UTF-8\" standalone=\"no\"?><svg xmlns=\"http://www.w3.org/2000/svg\" xmlns:xlink=\"http://www.w3.org/1999/xlink\" contentStyleType=\"text/css\" height=\"176px\" preserveAspectRatio=\"none\" style=\"width:287px;height:176px;background:#FFFFFF;\" version=\"1.1\" viewBox=\"0 0 287 176\" width=\"287px\" zoomAndPan=\"magnify\"><defs/><g><!--MD5=[fbc87193dbaf4d95561dea2c320d4a47]\n",
       "cluster E1--><g id=\"cluster_E1\"><a href=\"psysml:77badc07-b316-4281-ac3a-fbb5ce5d6d5a\" target=\"_top\" title=\"psysml:77badc07-b316-4281-ac3a-fbb5ce5d6d5a\" xlink:actuate=\"onRequest\" xlink:href=\"psysml:77badc07-b316-4281-ac3a-fbb5ce5d6d5a\" xlink:show=\"new\" xlink:title=\"psysml:77badc07-b316-4281-ac3a-fbb5ce5d6d5a\" xlink:type=\"simple\"><polygon fill=\"none\" points=\"16,6,220.9375,6,227.9375,28.2969,270,28.2969,270,169,16,169,16,6\" style=\"stroke:#000000;stroke-width:1.5;\"/><line style=\"stroke:#000000;stroke-width:1.5;\" x1=\"16\" x2=\"227.9375\" y1=\"28.2969\" y2=\"28.2969\"/><text fill=\"#000000\" font-family=\"sans-serif\" font-size=\"14\" font-weight=\"bold\" lengthAdjust=\"spacing\" textLength=\"198.9375\" x=\"20\" y=\"20.9951\">TextualRepresentationTest</text></a></g><!--MD5=[d5e69f78d87373223dbae638b30a9c99]\n",
       "cluster E3--><g id=\"cluster_E3\"><a href=\"psysml:90c9f2e5-1ab8-4a82-830f-194d1afced28\" target=\"_top\" title=\"psysml:90c9f2e5-1ab8-4a82-830f-194d1afced28\" xlink:actuate=\"onRequest\" xlink:href=\"psysml:90c9f2e5-1ab8-4a82-830f-194d1afced28\" xlink:show=\"new\" xlink:title=\"psysml:90c9f2e5-1ab8-4a82-830f-194d1afced28\" xlink:type=\"simple\"><rect fill=\"#FFFFFF\" height=\"89.5\" id=\"E3\" style=\"stroke:#383838;stroke-width:1.5;\" width=\"100\" x=\"122.5\" y=\"63.5\"/><text fill=\"#000000\" font-family=\"sans-serif\" font-size=\"12\" font-style=\"italic\" lengthAdjust=\"spacing\" textLength=\"81\" x=\"132\" y=\"79.6387\">«action  def»</text><text fill=\"#000000\" font-family=\"sans-serif\" font-size=\"14\" lengthAdjust=\"spacing\" textLength=\"31\" x=\"157\" y=\"95.4639\">setX</text><line style=\"stroke:#383838;stroke-width:1.0;\" x1=\"122.5\" x2=\"222.5\" y1=\"103.7656\" y2=\"103.7656\"/></a></g><g><a href=\"psysml:4094f6a7-157d-410f-a652-5cd39e1c0fe4\" target=\"_top\" title=\"psysml:4094f6a7-157d-410f-a652-5cd39e1c0fe4\" xlink:actuate=\"onRequest\" xlink:href=\"psysml:4094f6a7-157d-410f-a652-5cd39e1c0fe4\" xlink:show=\"new\" xlink:title=\"psysml:4094f6a7-157d-410f-a652-5cd39e1c0fe4\" xlink:type=\"simple\"><rect fill=\"#FFFFFF\" height=\"45.2656\" id=\"E2\" style=\"stroke:#383838;stroke-width:1.5;\" width=\"76\" x=\"32\" y=\"41\"/><text fill=\"#000000\" font-family=\"sans-serif\" font-size=\"12\" font-style=\"italic\" lengthAdjust=\"spacing\" textLength=\"69\" x=\"35.5\" y=\"57.1387\">«item  def»</text><text fill=\"#000000\" font-family=\"sans-serif\" font-size=\"14\" lengthAdjust=\"spacing\" textLength=\"10\" x=\"65\" y=\"72.9639\">C</text></a></g><text fill=\"#000000\" font-family=\"sans-serif\" font-size=\"14\" lengthAdjust=\"spacing\" textLength=\"8\" x=\"145\" y=\"42.1982\">c</text><rect fill=\"#FFFFFF\" height=\"12\" style=\"stroke:#181818;stroke-width:1.5;\" width=\"12\" x=\"143\" y=\"57.5\"/><text fill=\"#000000\" font-family=\"sans-serif\" font-size=\"14\" lengthAdjust=\"spacing\" textLength=\"38\" x=\"177\" y=\"42.1982\">newX</text><rect fill=\"#FFFFFF\" height=\"12\" style=\"stroke:#181818;stroke-width:1.5;\" width=\"12\" x=\"190\" y=\"57.5\"/><!--MD5=[fee25a1840702b3d29e8ea3f9e990df9]\n",
       "@startuml\r\n",
       "skin sysmlbw\r\n",
       "skinparam monochrome true\r\n",
       "skinparam wrapWidth 300\r\n",
       "hide circle\r\n",
       "skinparam ranksep 10\r\n",
       "skinparam rectangle {\r\n",
       " backgroundColor<<block>> LightGreen\r\n",
       "}\r\n",
       "\r\n",
       "package \"TextualRepresentationTest\" as E1  [[psysml:77badc07-b316-4281-ac3a-fbb5ce5d6d5a ]]  {\r\n",
       "def \"C\" as E2  <<(T,blue) item  def>> [[psysml:4094f6a7-157d-410f-a652-5cd39e1c0fe4 ]] \r\n",
       "rec def \"setX\" as E3  <<(T,blue) action  def>> [[psysml:90c9f2e5-1ab8-4a82-830f-194d1afced28 ]] {\r\n",
       "portin \"c\" as E4  [[psysml:eca695b7-e4ea-4848-82b9-964f1ac61a4c ]] \r\n",
       "portin \"newX\" as E5  [[psysml:5108d877-3142-4d1e-a057-58c6f6613775 ]] \r\n",
       "}\r\n",
       "\r\n",
       "}\r\n",
       "@enduml\r\n",
       "\n",
       "PlantUML version 1.2022.7(Mon Aug 22 17:01:30 UTC 2022)\n",
       "(EPL source distribution)\n",
       "Java Runtime: OpenJDK Runtime Environment\n",
       "JVM: OpenJDK 64-Bit Server VM\n",
       "Default Encoding: UTF-8\n",
       "Language: en\n",
       "Country: null\n",
       "--></g></svg>"
      ]
     },
     "execution_count": 40,
     "metadata": {},
     "output_type": "execute_result"
    }
   ],
   "source": [
    "%viz --style=\"DEFAULT\" --view=\"Interconnection\" \"TextualRepresentationTest\""
   ]
  },
  {
   "cell_type": "code",
   "execution_count": 41,
   "id": "c37c69f8",
   "metadata": {
    "execution": {
     "iopub.execute_input": "2024-12-16T14:19:28.431719Z",
     "iopub.status.busy": "2024-12-16T14:19:28.431392Z",
     "iopub.status.idle": "2024-12-16T14:19:28.444876Z",
     "shell.execute_reply": "2024-12-16T14:19:28.444652Z"
    }
   },
   "outputs": [
    {
     "data": {
      "image/svg+xml": [
       "<?xml version=\"1.0\" encoding=\"UTF-8\" standalone=\"no\"?><svg xmlns=\"http://www.w3.org/2000/svg\" xmlns:xlink=\"http://www.w3.org/1999/xlink\" contentStyleType=\"text/css\" height=\"121px\" preserveAspectRatio=\"none\" style=\"width:148px;height:121px;background:#FFFFFF;\" version=\"1.1\" viewBox=\"0 0 148 121\" width=\"148px\" zoomAndPan=\"magnify\"><defs/><g><!--MD5=[fbc87193dbaf4d95561dea2c320d4a47]\n",
       "cluster E1--><g id=\"cluster_E1\"><a href=\"psysml:90c9f2e5-1ab8-4a82-830f-194d1afced28\" target=\"_top\" title=\"psysml:90c9f2e5-1ab8-4a82-830f-194d1afced28\" xlink:actuate=\"onRequest\" xlink:href=\"psysml:90c9f2e5-1ab8-4a82-830f-194d1afced28\" xlink:show=\"new\" xlink:title=\"psysml:90c9f2e5-1ab8-4a82-830f-194d1afced28\" xlink:type=\"simple\"><rect fill=\"#FFFFFF\" height=\"73\" id=\"E1\" style=\"stroke:#383838;stroke-width:1.5;\" width=\"134\" x=\"7\" y=\"42.0986\"/><text fill=\"#000000\" font-family=\"sans-serif\" font-size=\"12\" font-style=\"italic\" lengthAdjust=\"spacing\" textLength=\"81\" x=\"33.5\" y=\"58.2373\">«action  def»</text><text fill=\"#000000\" font-family=\"sans-serif\" font-size=\"14\" lengthAdjust=\"spacing\" textLength=\"31\" x=\"58.5\" y=\"74.0625\">setX</text><line style=\"stroke:#383838;stroke-width:1.0;\" x1=\"7\" x2=\"141\" y1=\"82.3643\" y2=\"82.3643\"/></a></g><text fill=\"#000000\" font-family=\"sans-serif\" font-size=\"14\" lengthAdjust=\"spacing\" textLength=\"8\" x=\"21\" y=\"20.7969\">c</text><rect fill=\"#FFFFFF\" height=\"12\" style=\"stroke:#181818;stroke-width:1.5;\" width=\"12\" x=\"19\" y=\"36.0986\"/><text fill=\"#000000\" font-family=\"sans-serif\" font-size=\"14\" lengthAdjust=\"spacing\" textLength=\"38\" x=\"53\" y=\"20.7969\">newX</text><rect fill=\"#FFFFFF\" height=\"12\" style=\"stroke:#181818;stroke-width:1.5;\" width=\"12\" x=\"66\" y=\"36.0986\"/><!--MD5=[b6a0c8833f5d4899a2af78b7de92f896]\n",
       "@startuml\r\n",
       "skin sysmlbw\r\n",
       "skinparam monochrome true\r\n",
       "skinparam wrapWidth 300\r\n",
       "hide circle\r\n",
       "skinparam ranksep 8\r\n",
       "\r\n",
       "rec def \"setX\" as E1  <<(T,blue) action  def>> [[psysml:90c9f2e5-1ab8-4a82-830f-194d1afced28 ]] {\r\n",
       "portin \"c\" as E2  [[psysml:eca695b7-e4ea-4848-82b9-964f1ac61a4c ]] \r\n",
       "portin \"newX\" as E3  [[psysml:5108d877-3142-4d1e-a057-58c6f6613775 ]] \r\n",
       "}\r\n",
       "\r\n",
       "@enduml\r\n",
       "\n",
       "PlantUML version 1.2022.7(Mon Aug 22 17:01:30 UTC 2022)\n",
       "(EPL source distribution)\n",
       "Java Runtime: OpenJDK Runtime Environment\n",
       "JVM: OpenJDK 64-Bit Server VM\n",
       "Default Encoding: UTF-8\n",
       "Language: en\n",
       "Country: null\n",
       "--></g></svg>"
      ]
     },
     "execution_count": 41,
     "metadata": {},
     "output_type": "execute_result"
    }
   ],
   "source": [
    "%viz --style=\"DEFAULT\" --view=\"Action\" \"TextualRepresentationTest\""
   ]
  },
  {
   "cell_type": "code",
   "execution_count": 42,
   "id": "b3e4c8b5",
   "metadata": {
    "execution": {
     "iopub.execute_input": "2024-12-16T14:19:28.500925Z",
     "iopub.status.busy": "2024-12-16T14:19:28.500667Z",
     "iopub.status.idle": "2024-12-16T14:19:28.505020Z",
     "shell.execute_reply": "2024-12-16T14:19:28.504847Z"
    }
   },
   "outputs": [
    {
     "data": {
      "image/svg+xml": [
       "<?xml version=\"1.0\" encoding=\"UTF-8\" standalone=\"no\"?><svg xmlns=\"http://www.w3.org/2000/svg\" xmlns:xlink=\"http://www.w3.org/1999/xlink\" contentStyleType=\"text/css\" height=\"10px\" preserveAspectRatio=\"none\" style=\"width:10px;height:10px;background:#FFFFFF;\" version=\"1.1\" viewBox=\"0 0 10 10\" width=\"10px\" zoomAndPan=\"magnify\"><defs/><g><!--MD5=[075159388321915a295a256e9638f934]\n",
       "@startuml\r\n",
       "skin sysmlbw\r\n",
       "skinparam monochrome true\r\n",
       "skinparam wrapWidth 300\r\n",
       "hide circle\r\n",
       "skinparam roundcorner 20\r\n",
       "skinparam BoxPadding 20\r\n",
       "skinparam SequenceBoxBackgroundColor #white\r\n",
       "skinparam style strictuml\r\n",
       "skinparam maxMessageSize 100\r\n",
       "\r\n",
       "@enduml\r\n",
       "\n",
       "PlantUML version 1.2022.7(Mon Aug 22 17:01:30 UTC 2022)\n",
       "(EPL source distribution)\n",
       "Java Runtime: OpenJDK Runtime Environment\n",
       "JVM: OpenJDK 64-Bit Server VM\n",
       "Default Encoding: UTF-8\n",
       "Language: en\n",
       "Country: null\n",
       "--></g></svg>"
      ]
     },
     "execution_count": 42,
     "metadata": {},
     "output_type": "execute_result"
    }
   ],
   "source": [
    "%viz --style=\"DEFAULT\" --view=\"Sequence\" \"TextualRepresentationTest\""
   ]
  },
  {
   "cell_type": "code",
   "execution_count": 43,
   "id": "2df21b95",
   "metadata": {
    "execution": {
     "iopub.execute_input": "2024-12-16T14:19:28.559110Z",
     "iopub.status.busy": "2024-12-16T14:19:28.558855Z",
     "iopub.status.idle": "2024-12-16T14:19:28.575669Z",
     "shell.execute_reply": "2024-12-16T14:19:28.574850Z"
    }
   },
   "outputs": [
    {
     "data": {
      "image/svg+xml": [
       "<?xml version=\"1.0\" encoding=\"UTF-8\" standalone=\"no\"?><svg xmlns=\"http://www.w3.org/2000/svg\" xmlns:xlink=\"http://www.w3.org/1999/xlink\" contentStyleType=\"text/css\" height=\"256px\" preserveAspectRatio=\"none\" style=\"width:346px;height:256px;background:#FFFFFF;\" version=\"1.1\" viewBox=\"0 0 346 256\" width=\"346px\" zoomAndPan=\"magnify\"><defs/><g><!--MD5=[fbc87193dbaf4d95561dea2c320d4a47]\n",
       "cluster E1--><g id=\"cluster_E1\"><a href=\"psysml:77badc07-b316-4281-ac3a-fbb5ce5d6d5a\" target=\"_top\" title=\"psysml:77badc07-b316-4281-ac3a-fbb5ce5d6d5a\" xlink:actuate=\"onRequest\" xlink:href=\"psysml:77badc07-b316-4281-ac3a-fbb5ce5d6d5a\" xlink:show=\"new\" xlink:title=\"psysml:77badc07-b316-4281-ac3a-fbb5ce5d6d5a\" xlink:type=\"simple\"><polygon fill=\"none\" points=\"16,6,220.9375,6,227.9375,28.2969,329,28.2969,329,249.5,16,249.5,16,6\" style=\"stroke:#000000;stroke-width:1.5;\"/><line style=\"stroke:#000000;stroke-width:1.5;\" x1=\"16\" x2=\"227.9375\" y1=\"28.2969\" y2=\"28.2969\"/><text fill=\"#000000\" font-family=\"sans-serif\" font-size=\"14\" font-weight=\"bold\" lengthAdjust=\"spacing\" textLength=\"198.9375\" x=\"20\" y=\"20.9951\">TextualRepresentationTest</text></a></g><!--MD5=[f6df4d0ebaf0b5dfb2ced0ae5af7c670]\n",
       "cluster E4--><g id=\"cluster_E4\"><a href=\"psysml:90c9f2e5-1ab8-4a82-830f-194d1afced28\" target=\"_top\" title=\"psysml:90c9f2e5-1ab8-4a82-830f-194d1afced28\" xlink:actuate=\"onRequest\" xlink:href=\"psysml:90c9f2e5-1ab8-4a82-830f-194d1afced28\" xlink:show=\"new\" xlink:title=\"psysml:90c9f2e5-1ab8-4a82-830f-194d1afced28\" xlink:type=\"simple\"><rect fill=\"#FFFFFF\" height=\"155\" id=\"E4\" style=\"stroke:#383838;stroke-width:1.5;\" width=\"134\" x=\"179\" y=\"78.5\"/><text fill=\"#000000\" font-family=\"sans-serif\" font-size=\"12\" font-style=\"italic\" lengthAdjust=\"spacing\" textLength=\"81\" x=\"205.5\" y=\"94.6387\">«action  def»</text><text fill=\"#000000\" font-family=\"sans-serif\" font-size=\"14\" lengthAdjust=\"spacing\" textLength=\"31\" x=\"230.5\" y=\"110.4639\">setX</text><line style=\"stroke:#383838;stroke-width:1.0;\" x1=\"179\" x2=\"313\" y1=\"118.7656\" y2=\"118.7656\"/></a></g><!--MD5=[b4997ac47864f28c2f74865a473b2911]\n",
       "class E2--><a href=\"psysml:4094f6a7-157d-410f-a652-5cd39e1c0fe4\" target=\"_top\" title=\"psysml:4094f6a7-157d-410f-a652-5cd39e1c0fe4\" xlink:actuate=\"onRequest\" xlink:href=\"psysml:4094f6a7-157d-410f-a652-5cd39e1c0fe4\" xlink:show=\"new\" xlink:title=\"psysml:4094f6a7-157d-410f-a652-5cd39e1c0fe4\" xlink:type=\"simple\"><g id=\"elem_E2\"><rect fill=\"#FFFFFF\" height=\"75.0813\" id=\"E2\" style=\"stroke:#181818;stroke-width:0.5;\" width=\"74\" x=\"57\" y=\"41\"/><text fill=\"#000000\" font-family=\"sans-serif\" font-size=\"12\" font-style=\"italic\" lengthAdjust=\"spacing\" textLength=\"69\" x=\"59.5\" y=\"57.1387\">«item  def»</text><text fill=\"#000000\" font-family=\"sans-serif\" font-size=\"14\" lengthAdjust=\"spacing\" textLength=\"10\" x=\"89\" y=\"72.9639\">C</text><line style=\"stroke:#181818;stroke-width:0.5;\" x1=\"58\" x2=\"130\" y1=\"81.2656\" y2=\"81.2656\"/><text fill=\"#000000\" font-family=\"sans-serif\" font-size=\"14\" lengthAdjust=\"spacing\" textLength=\"46\" x=\"63\" y=\"108.7795\">x: Real</text><text fill=\"#000000\" font-family=\"sans-serif\" font-size=\"14\" font-style=\"italic\" lengthAdjust=\"spacing\" textLength=\"66\" x=\"61\" y=\"93.6123\">attributes</text></g></a><!--MD5=[09b614a08d8cba4a07c9adeb5e0fee81]\n",
       "class E3--><a href=\"psysml:bff165c1-58b3-4dd4-8269-a7769b97eb56\" target=\"_top\" title=\"psysml:bff165c1-58b3-4dd4-8269-a7769b97eb56\" xlink:actuate=\"onRequest\" xlink:href=\"psysml:bff165c1-58b3-4dd4-8269-a7769b97eb56\" xlink:show=\"new\" xlink:title=\"psysml:bff165c1-58b3-4dd4-8269-a7769b97eb56\" xlink:type=\"simple\"><g id=\"elem_E3\"><rect fill=\"#FFFFFF\" height=\"48.2656\" id=\"E3\" rx=\"10\" ry=\"10\" style=\"stroke:#181818;stroke-width:0.5;\" width=\"124\" x=\"32\" y=\"176\"/><text fill=\"#000000\" font-family=\"sans-serif\" font-size=\"12\" font-style=\"italic\" lengthAdjust=\"spacing\" textLength=\"122\" x=\"33\" y=\"192.1387\">«assert constraint»</text><text fill=\"#000000\" font-family=\"sans-serif\" font-size=\"14\" lengthAdjust=\"spacing\" textLength=\"83\" x=\"48.5\" y=\"207.9639\">x_constraint</text><line style=\"stroke:#181818;stroke-width:0.5;\" x1=\"33\" x2=\"155\" y1=\"216.2656\" y2=\"216.2656\"/></g></a><text fill=\"#000000\" font-family=\"sans-serif\" font-size=\"14\" lengthAdjust=\"spacing\" textLength=\"8\" x=\"193\" y=\"57.1982\">c</text><rect fill=\"#FFFFFF\" height=\"12\" style=\"stroke:#181818;stroke-width:1.5;\" width=\"12\" x=\"191\" y=\"72.5\"/><text fill=\"#000000\" font-family=\"sans-serif\" font-size=\"14\" lengthAdjust=\"spacing\" textLength=\"38\" x=\"225\" y=\"57.1982\">newX</text><rect fill=\"#FFFFFF\" height=\"12\" style=\"stroke:#181818;stroke-width:1.5;\" width=\"12\" x=\"238\" y=\"72.5\"/><!--MD5=[209b3feb70ccb6233bfe1053d122c12c]\n",
       "reverse link E2 to E3--><g id=\"link_E2_E3\"><a href=\"psysml:15e2216a-3ffa-458d-9ef3-f5d48fbfe7fe\" target=\"_top\" title=\"psysml:15e2216a-3ffa-458d-9ef3-f5d48fbfe7fe\" xlink:actuate=\"onRequest\" xlink:href=\"psysml:15e2216a-3ffa-458d-9ef3-f5d48fbfe7fe\" xlink:show=\"new\" xlink:title=\"psysml:15e2216a-3ffa-458d-9ef3-f5d48fbfe7fe\" xlink:type=\"simple\"><path d=\"M94,129.25 C94,145.43 94,162.61 94,175.88 \" fill=\"none\" id=\"E2-backto-E3\" style=\"stroke:#181818;stroke-width:1.0;\"/><polygon fill=\"#181818\" points=\"94,116,90,122,94,128,98,122,94,116\" style=\"stroke:#181818;stroke-width:1.0;\"/></a></g><!--MD5=[f729a3eb30550fa7dec4c79dc7c8dc7e]\n",
       "@startuml\r\n",
       "skin sysmlbw\r\n",
       "skinparam monochrome true\r\n",
       "skinparam wrapWidth 300\r\n",
       "hide circle\r\n",
       "\r\n",
       "package \"TextualRepresentationTest\" as E1  [[psysml:77badc07-b316-4281-ac3a-fbb5ce5d6d5a ]]  {\r\n",
       "comp def \"C\" as E2  <<(T,blue) item  def>> [[psysml:4094f6a7-157d-410f-a652-5cd39e1c0fe4 ]] {\r\n",
       "##//attributes//##\r\n",
       "x: Real\r\n",
       "}\r\n",
       "comp usage \"x_constraint  \" as E3  <<(T,blue) assert constraint>> [[psysml:bff165c1-58b3-4dd4-8269-a7769b97eb56 ]] {\r\n",
       "}\r\n",
       "rec def \"setX\" as E4  <<(T,blue) action  def>> [[psysml:90c9f2e5-1ab8-4a82-830f-194d1afced28 ]] {\r\n",
       "portin \"c\" as E5  [[psysml:eca695b7-e4ea-4848-82b9-964f1ac61a4c ]] \r\n",
       "portin \"newX\" as E6  [[psysml:5108d877-3142-4d1e-a057-58c6f6613775 ]] \r\n",
       "}\r\n",
       "\r\n",
       "}\r\n",
       "E2 *- - E3 [[psysml:15e2216a-3ffa-458d-9ef3-f5d48fbfe7fe ]] \r\n",
       "@enduml\r\n",
       "\n",
       "PlantUML version 1.2022.7(Mon Aug 22 17:01:30 UTC 2022)\n",
       "(EPL source distribution)\n",
       "Java Runtime: OpenJDK Runtime Environment\n",
       "JVM: OpenJDK 64-Bit Server VM\n",
       "Default Encoding: UTF-8\n",
       "Language: en\n",
       "Country: null\n",
       "--></g></svg>"
      ]
     },
     "execution_count": 43,
     "metadata": {},
     "output_type": "execute_result"
    }
   ],
   "source": [
    "%viz --style=\"DEFAULT\" --view=\"MIXED\" \"TextualRepresentationTest\""
   ]
  },
  {
   "cell_type": "code",
   "execution_count": 44,
   "id": "41e829e8",
   "metadata": {
    "execution": {
     "iopub.execute_input": "2024-12-16T14:19:28.629709Z",
     "iopub.status.busy": "2024-12-16T14:19:28.629343Z",
     "iopub.status.idle": "2024-12-16T14:19:28.648653Z",
     "shell.execute_reply": "2024-12-16T14:19:28.647672Z"
    }
   },
   "outputs": [
    {
     "data": {
      "image/svg+xml": [
       "<?xml version=\"1.0\" encoding=\"UTF-8\" standalone=\"no\"?><svg xmlns=\"http://www.w3.org/2000/svg\" xmlns:xlink=\"http://www.w3.org/1999/xlink\" contentStyleType=\"text/css\" height=\"256px\" preserveAspectRatio=\"none\" style=\"width:346px;height:256px;background:#FFFFFF;\" version=\"1.1\" viewBox=\"0 0 346 256\" width=\"346px\" zoomAndPan=\"magnify\"><defs/><g><!--MD5=[fbc87193dbaf4d95561dea2c320d4a47]\n",
       "cluster E1--><g id=\"cluster_E1\"><a href=\"psysml:77badc07-b316-4281-ac3a-fbb5ce5d6d5a\" target=\"_top\" title=\"psysml:77badc07-b316-4281-ac3a-fbb5ce5d6d5a\" xlink:actuate=\"onRequest\" xlink:href=\"psysml:77badc07-b316-4281-ac3a-fbb5ce5d6d5a\" xlink:show=\"new\" xlink:title=\"psysml:77badc07-b316-4281-ac3a-fbb5ce5d6d5a\" xlink:type=\"simple\"><polygon fill=\"none\" points=\"16,6,220.9375,6,227.9375,28.2969,329,28.2969,329,249.5,16,249.5,16,6\" style=\"stroke:#000000;stroke-width:1.5;\"/><line style=\"stroke:#000000;stroke-width:1.5;\" x1=\"16\" x2=\"227.9375\" y1=\"28.2969\" y2=\"28.2969\"/><text fill=\"#000000\" font-family=\"sans-serif\" font-size=\"14\" font-weight=\"bold\" lengthAdjust=\"spacing\" textLength=\"198.9375\" x=\"20\" y=\"20.9951\">TextualRepresentationTest</text></a></g><!--MD5=[f6df4d0ebaf0b5dfb2ced0ae5af7c670]\n",
       "cluster E4--><g id=\"cluster_E4\"><a href=\"psysml:90c9f2e5-1ab8-4a82-830f-194d1afced28\" target=\"_top\" title=\"psysml:90c9f2e5-1ab8-4a82-830f-194d1afced28\" xlink:actuate=\"onRequest\" xlink:href=\"psysml:90c9f2e5-1ab8-4a82-830f-194d1afced28\" xlink:show=\"new\" xlink:title=\"psysml:90c9f2e5-1ab8-4a82-830f-194d1afced28\" xlink:type=\"simple\"><rect fill=\"#FFFFFF\" height=\"155\" id=\"E4\" style=\"stroke:#383838;stroke-width:1.5;\" width=\"134\" x=\"179\" y=\"78.5\"/><text fill=\"#000000\" font-family=\"sans-serif\" font-size=\"12\" font-style=\"italic\" lengthAdjust=\"spacing\" textLength=\"81\" x=\"205.5\" y=\"94.6387\">«action  def»</text><text fill=\"#000000\" font-family=\"sans-serif\" font-size=\"14\" lengthAdjust=\"spacing\" textLength=\"31\" x=\"230.5\" y=\"110.4639\">setX</text><line style=\"stroke:#383838;stroke-width:1.0;\" x1=\"179\" x2=\"313\" y1=\"118.7656\" y2=\"118.7656\"/></a></g><!--MD5=[b4997ac47864f28c2f74865a473b2911]\n",
       "class E2--><a href=\"psysml:4094f6a7-157d-410f-a652-5cd39e1c0fe4\" target=\"_top\" title=\"psysml:4094f6a7-157d-410f-a652-5cd39e1c0fe4\" xlink:actuate=\"onRequest\" xlink:href=\"psysml:4094f6a7-157d-410f-a652-5cd39e1c0fe4\" xlink:show=\"new\" xlink:title=\"psysml:4094f6a7-157d-410f-a652-5cd39e1c0fe4\" xlink:type=\"simple\"><g id=\"elem_E2\"><rect fill=\"#FFFFFF\" height=\"75.0813\" id=\"E2\" style=\"stroke:#181818;stroke-width:0.5;\" width=\"74\" x=\"57\" y=\"41\"/><text fill=\"#000000\" font-family=\"sans-serif\" font-size=\"12\" font-style=\"italic\" lengthAdjust=\"spacing\" textLength=\"69\" x=\"59.5\" y=\"57.1387\">«item  def»</text><text fill=\"#000000\" font-family=\"sans-serif\" font-size=\"14\" lengthAdjust=\"spacing\" textLength=\"10\" x=\"89\" y=\"72.9639\">C</text><line style=\"stroke:#181818;stroke-width:0.5;\" x1=\"58\" x2=\"130\" y1=\"81.2656\" y2=\"81.2656\"/><text fill=\"#000000\" font-family=\"sans-serif\" font-size=\"14\" lengthAdjust=\"spacing\" textLength=\"46\" x=\"63\" y=\"108.7795\">x: Real</text><text fill=\"#000000\" font-family=\"sans-serif\" font-size=\"14\" font-style=\"italic\" lengthAdjust=\"spacing\" textLength=\"66\" x=\"61\" y=\"93.6123\">attributes</text></g></a><!--MD5=[09b614a08d8cba4a07c9adeb5e0fee81]\n",
       "class E3--><a href=\"psysml:bff165c1-58b3-4dd4-8269-a7769b97eb56\" target=\"_top\" title=\"psysml:bff165c1-58b3-4dd4-8269-a7769b97eb56\" xlink:actuate=\"onRequest\" xlink:href=\"psysml:bff165c1-58b3-4dd4-8269-a7769b97eb56\" xlink:show=\"new\" xlink:title=\"psysml:bff165c1-58b3-4dd4-8269-a7769b97eb56\" xlink:type=\"simple\"><g id=\"elem_E3\"><rect fill=\"#FFFFFF\" height=\"48.2656\" id=\"E3\" rx=\"10\" ry=\"10\" style=\"stroke:#181818;stroke-width:0.5;\" width=\"124\" x=\"32\" y=\"176\"/><text fill=\"#000000\" font-family=\"sans-serif\" font-size=\"12\" font-style=\"italic\" lengthAdjust=\"spacing\" textLength=\"122\" x=\"33\" y=\"192.1387\">«assert constraint»</text><text fill=\"#000000\" font-family=\"sans-serif\" font-size=\"14\" lengthAdjust=\"spacing\" textLength=\"83\" x=\"48.5\" y=\"207.9639\">x_constraint</text><line style=\"stroke:#181818;stroke-width:0.5;\" x1=\"33\" x2=\"155\" y1=\"216.2656\" y2=\"216.2656\"/></g></a><text fill=\"#000000\" font-family=\"sans-serif\" font-size=\"14\" lengthAdjust=\"spacing\" textLength=\"8\" x=\"193\" y=\"57.1982\">c</text><rect fill=\"#FFFFFF\" height=\"12\" style=\"stroke:#181818;stroke-width:1.5;\" width=\"12\" x=\"191\" y=\"72.5\"/><text fill=\"#000000\" font-family=\"sans-serif\" font-size=\"14\" lengthAdjust=\"spacing\" textLength=\"38\" x=\"225\" y=\"57.1982\">newX</text><rect fill=\"#FFFFFF\" height=\"12\" style=\"stroke:#181818;stroke-width:1.5;\" width=\"12\" x=\"238\" y=\"72.5\"/><!--MD5=[209b3feb70ccb6233bfe1053d122c12c]\n",
       "reverse link E2 to E3--><g id=\"link_E2_E3\"><a href=\"psysml:15e2216a-3ffa-458d-9ef3-f5d48fbfe7fe\" target=\"_top\" title=\"psysml:15e2216a-3ffa-458d-9ef3-f5d48fbfe7fe\" xlink:actuate=\"onRequest\" xlink:href=\"psysml:15e2216a-3ffa-458d-9ef3-f5d48fbfe7fe\" xlink:show=\"new\" xlink:title=\"psysml:15e2216a-3ffa-458d-9ef3-f5d48fbfe7fe\" xlink:type=\"simple\"><path d=\"M94,129.25 C94,145.43 94,162.61 94,175.88 \" fill=\"none\" id=\"E2-backto-E3\" style=\"stroke:#181818;stroke-width:1.0;\"/><polygon fill=\"#181818\" points=\"94,116,90,122,94,128,98,122,94,116\" style=\"stroke:#181818;stroke-width:1.0;\"/></a></g><!--MD5=[4b8795f57a8dfcff15c2b981b69efdf4]\n",
       "@startuml\r\n",
       "skin sysmlbw\r\n",
       "skinparam monochrome true\r\n",
       "skinparam wrapWidth 300\r\n",
       "hide circle\r\n",
       "top to bottom direction\r\n",
       "\r\n",
       "package \"TextualRepresentationTest\" as E1  [[psysml:77badc07-b316-4281-ac3a-fbb5ce5d6d5a ]]  {\r\n",
       "comp def \"C\" as E2  <<(T,blue) item  def>> [[psysml:4094f6a7-157d-410f-a652-5cd39e1c0fe4 ]] {\r\n",
       "##//attributes//##\r\n",
       "x: Real\r\n",
       "}\r\n",
       "comp usage \"x_constraint  \" as E3  <<(T,blue) assert constraint>> [[psysml:bff165c1-58b3-4dd4-8269-a7769b97eb56 ]] {\r\n",
       "}\r\n",
       "rec def \"setX\" as E4  <<(T,blue) action  def>> [[psysml:90c9f2e5-1ab8-4a82-830f-194d1afced28 ]] {\r\n",
       "portin \"c\" as E5  [[psysml:eca695b7-e4ea-4848-82b9-964f1ac61a4c ]] \r\n",
       "portin \"newX\" as E6  [[psysml:5108d877-3142-4d1e-a057-58c6f6613775 ]] \r\n",
       "}\r\n",
       "\r\n",
       "}\r\n",
       "E2 *- - E3 [[psysml:15e2216a-3ffa-458d-9ef3-f5d48fbfe7fe ]] \r\n",
       "@enduml\r\n",
       "\n",
       "PlantUML version 1.2022.7(Mon Aug 22 17:01:30 UTC 2022)\n",
       "(EPL source distribution)\n",
       "Java Runtime: OpenJDK Runtime Environment\n",
       "JVM: OpenJDK 64-Bit Server VM\n",
       "Default Encoding: UTF-8\n",
       "Language: en\n",
       "Country: null\n",
       "--></g></svg>"
      ]
     },
     "execution_count": 44,
     "metadata": {},
     "output_type": "execute_result"
    }
   ],
   "source": [
    "%viz --style=\"TB\" --view=\"Default\" \"TextualRepresentationTest\""
   ]
  },
  {
   "cell_type": "code",
   "execution_count": 45,
   "id": "e5a14301",
   "metadata": {
    "execution": {
     "iopub.execute_input": "2024-12-16T14:19:28.703781Z",
     "iopub.status.busy": "2024-12-16T14:19:28.703560Z",
     "iopub.status.idle": "2024-12-16T14:19:28.719974Z",
     "shell.execute_reply": "2024-12-16T14:19:28.719221Z"
    }
   },
   "outputs": [
    {
     "data": {
      "image/svg+xml": [
       "<?xml version=\"1.0\" encoding=\"UTF-8\" standalone=\"no\"?><svg xmlns=\"http://www.w3.org/2000/svg\" xmlns:xlink=\"http://www.w3.org/1999/xlink\" contentStyleType=\"text/css\" height=\"373px\" preserveAspectRatio=\"none\" style=\"width:247px;height:373px;background:#FFFFFF;\" version=\"1.1\" viewBox=\"0 0 247 373\" width=\"247px\" zoomAndPan=\"magnify\"><defs/><g><!--MD5=[fbc87193dbaf4d95561dea2c320d4a47]\n",
       "cluster E1--><g id=\"cluster_E1\"><a href=\"psysml:77badc07-b316-4281-ac3a-fbb5ce5d6d5a\" target=\"_top\" title=\"psysml:77badc07-b316-4281-ac3a-fbb5ce5d6d5a\" xlink:actuate=\"onRequest\" xlink:href=\"psysml:77badc07-b316-4281-ac3a-fbb5ce5d6d5a\" xlink:show=\"new\" xlink:title=\"psysml:77badc07-b316-4281-ac3a-fbb5ce5d6d5a\" xlink:type=\"simple\"><polygon fill=\"none\" points=\"16,6,220.9375,6,227.9375,28.2969,230,28.2969,230,366,16,366,16,6\" style=\"stroke:#000000;stroke-width:1.5;\"/><line style=\"stroke:#000000;stroke-width:1.5;\" x1=\"16\" x2=\"227.9375\" y1=\"28.2969\" y2=\"28.2969\"/><text fill=\"#000000\" font-family=\"sans-serif\" font-size=\"14\" font-weight=\"bold\" lengthAdjust=\"spacing\" textLength=\"198.9375\" x=\"20\" y=\"20.9951\">TextualRepresentationTest</text></a></g><!--MD5=[b4997ac47864f28c2f74865a473b2911]\n",
       "class E2--><a href=\"psysml:4094f6a7-157d-410f-a652-5cd39e1c0fe4\" target=\"_top\" title=\"psysml:4094f6a7-157d-410f-a652-5cd39e1c0fe4\" xlink:actuate=\"onRequest\" xlink:href=\"psysml:4094f6a7-157d-410f-a652-5cd39e1c0fe4\" xlink:show=\"new\" xlink:title=\"psysml:4094f6a7-157d-410f-a652-5cd39e1c0fe4\" xlink:type=\"simple\"><g id=\"elem_E2\"><rect fill=\"#FFFFFF\" height=\"75.0813\" id=\"E2\" style=\"stroke:#181818;stroke-width:0.5;\" width=\"74\" x=\"86\" y=\"166\"/><text fill=\"#000000\" font-family=\"sans-serif\" font-size=\"12\" font-style=\"italic\" lengthAdjust=\"spacing\" textLength=\"69\" x=\"88.5\" y=\"182.1387\">«item  def»</text><text fill=\"#000000\" font-family=\"sans-serif\" font-size=\"14\" lengthAdjust=\"spacing\" textLength=\"10\" x=\"118\" y=\"197.9639\">C</text><line style=\"stroke:#181818;stroke-width:0.5;\" x1=\"87\" x2=\"159\" y1=\"206.2656\" y2=\"206.2656\"/><text fill=\"#000000\" font-family=\"sans-serif\" font-size=\"14\" lengthAdjust=\"spacing\" textLength=\"46\" x=\"92\" y=\"233.7795\">x: Real</text><text fill=\"#000000\" font-family=\"sans-serif\" font-size=\"14\" font-style=\"italic\" lengthAdjust=\"spacing\" textLength=\"66\" x=\"90\" y=\"218.6123\">attributes</text></g></a><!--MD5=[09b614a08d8cba4a07c9adeb5e0fee81]\n",
       "class E3--><a href=\"psysml:bff165c1-58b3-4dd4-8269-a7769b97eb56\" target=\"_top\" title=\"psysml:bff165c1-58b3-4dd4-8269-a7769b97eb56\" xlink:actuate=\"onRequest\" xlink:href=\"psysml:bff165c1-58b3-4dd4-8269-a7769b97eb56\" xlink:show=\"new\" xlink:title=\"psysml:bff165c1-58b3-4dd4-8269-a7769b97eb56\" xlink:type=\"simple\"><g id=\"elem_E3\"><rect fill=\"#FFFFFF\" height=\"48.2656\" id=\"E3\" rx=\"10\" ry=\"10\" style=\"stroke:#181818;stroke-width:0.5;\" width=\"124\" x=\"61\" y=\"302\"/><text fill=\"#000000\" font-family=\"sans-serif\" font-size=\"12\" font-style=\"italic\" lengthAdjust=\"spacing\" textLength=\"122\" x=\"62\" y=\"318.1387\">«assert constraint»</text><text fill=\"#000000\" font-family=\"sans-serif\" font-size=\"14\" lengthAdjust=\"spacing\" textLength=\"83\" x=\"77.5\" y=\"333.9639\">x_constraint</text><line style=\"stroke:#181818;stroke-width:0.5;\" x1=\"62\" x2=\"184\" y1=\"342.2656\" y2=\"342.2656\"/></g></a><!--MD5=[ebbe1d658d1005bcc118a6aa81145e00]\n",
       "class E4--><a href=\"psysml:90c9f2e5-1ab8-4a82-830f-194d1afced28\" target=\"_top\" title=\"psysml:90c9f2e5-1ab8-4a82-830f-194d1afced28\" xlink:actuate=\"onRequest\" xlink:href=\"psysml:90c9f2e5-1ab8-4a82-830f-194d1afced28\" xlink:show=\"new\" xlink:title=\"psysml:90c9f2e5-1ab8-4a82-830f-194d1afced28\" xlink:type=\"simple\"><g id=\"elem_E4\"><rect fill=\"#FFFFFF\" height=\"48.2656\" id=\"E4\" style=\"stroke:#181818;stroke-width:0.5;\" width=\"83\" x=\"81.5\" y=\"41\"/><text fill=\"#000000\" font-family=\"sans-serif\" font-size=\"12\" font-style=\"italic\" lengthAdjust=\"spacing\" textLength=\"81\" x=\"82.5\" y=\"57.1387\">«action  def»</text><text fill=\"#000000\" font-family=\"sans-serif\" font-size=\"14\" lengthAdjust=\"spacing\" textLength=\"31\" x=\"107.5\" y=\"72.9639\">setX</text><line style=\"stroke:#181818;stroke-width:0.5;\" x1=\"82.5\" x2=\"163.5\" y1=\"81.2656\" y2=\"81.2656\"/></g></a><!--MD5=[209b3feb70ccb6233bfe1053d122c12c]\n",
       "reverse link E2 to E3--><g id=\"link_E2_E3\"><a href=\"psysml:15e2216a-3ffa-458d-9ef3-f5d48fbfe7fe\" target=\"_top\" title=\"psysml:15e2216a-3ffa-458d-9ef3-f5d48fbfe7fe\" xlink:actuate=\"onRequest\" xlink:href=\"psysml:15e2216a-3ffa-458d-9ef3-f5d48fbfe7fe\" xlink:show=\"new\" xlink:title=\"psysml:15e2216a-3ffa-458d-9ef3-f5d48fbfe7fe\" xlink:type=\"simple\"><path d=\"M123,254.67 C123,270.98 123,288.31 123,301.69 \" fill=\"none\" id=\"E2-backto-E3\" style=\"stroke:#181818;stroke-width:1.0;\"/><polygon fill=\"#181818\" points=\"123,241.31,119,247.31,123,253.31,127,247.31,123,241.31\" style=\"stroke:#181818;stroke-width:1.0;\"/></a></g><!--MD5=[ddeed8deb2209213b62e6cfabaa108b2]\n",
       "reverse link E4 to E2--><g id=\"link_E4_E2\"><a href=\"psysml:eca695b7-e4ea-4848-82b9-964f1ac61a4c\" target=\"_top\" title=\"psysml:eca695b7-e4ea-4848-82b9-964f1ac61a4c\" xlink:actuate=\"onRequest\" xlink:href=\"psysml:eca695b7-e4ea-4848-82b9-964f1ac61a4c\" xlink:show=\"new\" xlink:title=\"psysml:eca695b7-e4ea-4848-82b9-964f1ac61a4c\" xlink:type=\"simple\"><path d=\"M123,102.22 C123,121.88 123,146.11 123,165.84 \" fill=\"none\" id=\"E4-backto-E2\" style=\"stroke:#181818;stroke-width:1.0;\"/><polygon fill=\"none\" points=\"123,89.16,119,95.16,123,101.16,127,95.16,123,89.16\" style=\"stroke:#181818;stroke-width:1.0;\"/><text fill=\"#000000\" font-family=\"sans-serif\" font-size=\"13\" lengthAdjust=\"spacing\" textLength=\"7\" x=\"124\" y=\"132.0669\">c</text></a></g><!--MD5=[04e72529d34948dcaa2a848ad0f64934]\n",
       "@startuml\r\n",
       "skin sysmlbw\r\n",
       "skinparam monochrome true\r\n",
       "skinparam wrapWidth 300\r\n",
       "hide circle\r\n",
       "top to bottom direction\r\n",
       "\r\n",
       "package \"TextualRepresentationTest\" as E1  [[psysml:77badc07-b316-4281-ac3a-fbb5ce5d6d5a ]]  {\r\n",
       "comp def \"C\" as E2  <<(T,blue) item  def>> [[psysml:4094f6a7-157d-410f-a652-5cd39e1c0fe4 ]] {\r\n",
       "##//attributes//##\r\n",
       "x: Real\r\n",
       "}\r\n",
       "comp usage \"x_constraint  \" as E3  <<(T,blue) assert constraint>> [[psysml:bff165c1-58b3-4dd4-8269-a7769b97eb56 ]] {\r\n",
       "}\r\n",
       "comp def \"setX\" as E4  <<(T,blue) action  def>> [[psysml:90c9f2e5-1ab8-4a82-830f-194d1afced28 ]] {\r\n",
       "}\r\n",
       "}\r\n",
       "E2 *- - E3 [[psysml:15e2216a-3ffa-458d-9ef3-f5d48fbfe7fe ]] \r\n",
       "E4 o- - E2 [[psysml:eca695b7-e4ea-4848-82b9-964f1ac61a4c ]] : c\r\n",
       "@enduml\r\n",
       "\n",
       "PlantUML version 1.2022.7(Mon Aug 22 17:01:30 UTC 2022)\n",
       "(EPL source distribution)\n",
       "Java Runtime: OpenJDK Runtime Environment\n",
       "JVM: OpenJDK 64-Bit Server VM\n",
       "Default Encoding: UTF-8\n",
       "Language: en\n",
       "Country: null\n",
       "--></g></svg>"
      ]
     },
     "execution_count": 45,
     "metadata": {},
     "output_type": "execute_result"
    }
   ],
   "source": [
    "%viz --style=\"TB\" --view=\"Tree\" \"TextualRepresentationTest\""
   ]
  },
  {
   "cell_type": "code",
   "execution_count": 46,
   "id": "4fdd29be",
   "metadata": {
    "execution": {
     "iopub.execute_input": "2024-12-16T14:19:28.771986Z",
     "iopub.status.busy": "2024-12-16T14:19:28.771705Z",
     "iopub.status.idle": "2024-12-16T14:19:28.776193Z",
     "shell.execute_reply": "2024-12-16T14:19:28.776011Z"
    }
   },
   "outputs": [
    {
     "data": {
      "image/svg+xml": [
       "<?xml version=\"1.0\" encoding=\"UTF-8\" standalone=\"no\"?><svg xmlns=\"http://www.w3.org/2000/svg\" xmlns:xlink=\"http://www.w3.org/1999/xlink\" contentStyleType=\"text/css\" height=\"10px\" preserveAspectRatio=\"none\" style=\"width:10px;height:10px;background:#FFFFFF;\" version=\"1.1\" viewBox=\"0 0 10 10\" width=\"10px\" zoomAndPan=\"magnify\"><defs/><g><!--MD5=[457d54036ad86991b1ebb71db2c9a3b1]\n",
       "@startuml\r\n",
       "skin sysmlbw\r\n",
       "skinparam monochrome true\r\n",
       "skinparam wrapWidth 300\r\n",
       "hide circle\r\n",
       "top to bottom direction\r\n",
       "\r\n",
       "@enduml\r\n",
       "\n",
       "PlantUML version 1.2022.7(Mon Aug 22 17:01:30 UTC 2022)\n",
       "(EPL source distribution)\n",
       "Java Runtime: OpenJDK Runtime Environment\n",
       "JVM: OpenJDK 64-Bit Server VM\n",
       "Default Encoding: UTF-8\n",
       "Language: en\n",
       "Country: null\n",
       "--></g></svg>"
      ]
     },
     "execution_count": 46,
     "metadata": {},
     "output_type": "execute_result"
    }
   ],
   "source": [
    "%viz --style=\"TB\" --view=\"State\" \"TextualRepresentationTest\""
   ]
  },
  {
   "cell_type": "code",
   "execution_count": 47,
   "id": "f5b91250",
   "metadata": {
    "execution": {
     "iopub.execute_input": "2024-12-16T14:19:28.829772Z",
     "iopub.status.busy": "2024-12-16T14:19:28.829415Z",
     "iopub.status.idle": "2024-12-16T14:19:28.845608Z",
     "shell.execute_reply": "2024-12-16T14:19:28.845388Z"
    }
   },
   "outputs": [
    {
     "data": {
      "image/svg+xml": [
       "<?xml version=\"1.0\" encoding=\"UTF-8\" standalone=\"no\"?><svg xmlns=\"http://www.w3.org/2000/svg\" xmlns:xlink=\"http://www.w3.org/1999/xlink\" contentStyleType=\"text/css\" height=\"176px\" preserveAspectRatio=\"none\" style=\"width:287px;height:176px;background:#FFFFFF;\" version=\"1.1\" viewBox=\"0 0 287 176\" width=\"287px\" zoomAndPan=\"magnify\"><defs/><g><!--MD5=[fbc87193dbaf4d95561dea2c320d4a47]\n",
       "cluster E1--><g id=\"cluster_E1\"><a href=\"psysml:77badc07-b316-4281-ac3a-fbb5ce5d6d5a\" target=\"_top\" title=\"psysml:77badc07-b316-4281-ac3a-fbb5ce5d6d5a\" xlink:actuate=\"onRequest\" xlink:href=\"psysml:77badc07-b316-4281-ac3a-fbb5ce5d6d5a\" xlink:show=\"new\" xlink:title=\"psysml:77badc07-b316-4281-ac3a-fbb5ce5d6d5a\" xlink:type=\"simple\"><polygon fill=\"none\" points=\"16,6,220.9375,6,227.9375,28.2969,270,28.2969,270,169,16,169,16,6\" style=\"stroke:#000000;stroke-width:1.5;\"/><line style=\"stroke:#000000;stroke-width:1.5;\" x1=\"16\" x2=\"227.9375\" y1=\"28.2969\" y2=\"28.2969\"/><text fill=\"#000000\" font-family=\"sans-serif\" font-size=\"14\" font-weight=\"bold\" lengthAdjust=\"spacing\" textLength=\"198.9375\" x=\"20\" y=\"20.9951\">TextualRepresentationTest</text></a></g><!--MD5=[d5e69f78d87373223dbae638b30a9c99]\n",
       "cluster E3--><g id=\"cluster_E3\"><a href=\"psysml:90c9f2e5-1ab8-4a82-830f-194d1afced28\" target=\"_top\" title=\"psysml:90c9f2e5-1ab8-4a82-830f-194d1afced28\" xlink:actuate=\"onRequest\" xlink:href=\"psysml:90c9f2e5-1ab8-4a82-830f-194d1afced28\" xlink:show=\"new\" xlink:title=\"psysml:90c9f2e5-1ab8-4a82-830f-194d1afced28\" xlink:type=\"simple\"><rect fill=\"#FFFFFF\" height=\"89.5\" id=\"E3\" style=\"stroke:#383838;stroke-width:1.5;\" width=\"100\" x=\"122.5\" y=\"63.5\"/><text fill=\"#000000\" font-family=\"sans-serif\" font-size=\"12\" font-style=\"italic\" lengthAdjust=\"spacing\" textLength=\"81\" x=\"132\" y=\"79.6387\">«action  def»</text><text fill=\"#000000\" font-family=\"sans-serif\" font-size=\"14\" lengthAdjust=\"spacing\" textLength=\"31\" x=\"157\" y=\"95.4639\">setX</text><line style=\"stroke:#383838;stroke-width:1.0;\" x1=\"122.5\" x2=\"222.5\" y1=\"103.7656\" y2=\"103.7656\"/></a></g><g><a href=\"psysml:4094f6a7-157d-410f-a652-5cd39e1c0fe4\" target=\"_top\" title=\"psysml:4094f6a7-157d-410f-a652-5cd39e1c0fe4\" xlink:actuate=\"onRequest\" xlink:href=\"psysml:4094f6a7-157d-410f-a652-5cd39e1c0fe4\" xlink:show=\"new\" xlink:title=\"psysml:4094f6a7-157d-410f-a652-5cd39e1c0fe4\" xlink:type=\"simple\"><rect fill=\"#FFFFFF\" height=\"45.2656\" id=\"E2\" style=\"stroke:#383838;stroke-width:1.5;\" width=\"76\" x=\"32\" y=\"41\"/><text fill=\"#000000\" font-family=\"sans-serif\" font-size=\"12\" font-style=\"italic\" lengthAdjust=\"spacing\" textLength=\"69\" x=\"35.5\" y=\"57.1387\">«item  def»</text><text fill=\"#000000\" font-family=\"sans-serif\" font-size=\"14\" lengthAdjust=\"spacing\" textLength=\"10\" x=\"65\" y=\"72.9639\">C</text></a></g><text fill=\"#000000\" font-family=\"sans-serif\" font-size=\"14\" lengthAdjust=\"spacing\" textLength=\"8\" x=\"145\" y=\"42.1982\">c</text><rect fill=\"#FFFFFF\" height=\"12\" style=\"stroke:#181818;stroke-width:1.5;\" width=\"12\" x=\"143\" y=\"57.5\"/><text fill=\"#000000\" font-family=\"sans-serif\" font-size=\"14\" lengthAdjust=\"spacing\" textLength=\"38\" x=\"177\" y=\"42.1982\">newX</text><rect fill=\"#FFFFFF\" height=\"12\" style=\"stroke:#181818;stroke-width:1.5;\" width=\"12\" x=\"190\" y=\"57.5\"/><!--MD5=[80df31df31a94a35b45d6be804842b81]\n",
       "@startuml\r\n",
       "skin sysmlbw\r\n",
       "skinparam monochrome true\r\n",
       "skinparam wrapWidth 300\r\n",
       "hide circle\r\n",
       "top to bottom direction\r\n",
       "skinparam ranksep 10\r\n",
       "skinparam rectangle {\r\n",
       " backgroundColor<<block>> LightGreen\r\n",
       "}\r\n",
       "\r\n",
       "package \"TextualRepresentationTest\" as E1  [[psysml:77badc07-b316-4281-ac3a-fbb5ce5d6d5a ]]  {\r\n",
       "def \"C\" as E2  <<(T,blue) item  def>> [[psysml:4094f6a7-157d-410f-a652-5cd39e1c0fe4 ]] \r\n",
       "rec def \"setX\" as E3  <<(T,blue) action  def>> [[psysml:90c9f2e5-1ab8-4a82-830f-194d1afced28 ]] {\r\n",
       "portin \"c\" as E4  [[psysml:eca695b7-e4ea-4848-82b9-964f1ac61a4c ]] \r\n",
       "portin \"newX\" as E5  [[psysml:5108d877-3142-4d1e-a057-58c6f6613775 ]] \r\n",
       "}\r\n",
       "\r\n",
       "}\r\n",
       "@enduml\r\n",
       "\n",
       "PlantUML version 1.2022.7(Mon Aug 22 17:01:30 UTC 2022)\n",
       "(EPL source distribution)\n",
       "Java Runtime: OpenJDK Runtime Environment\n",
       "JVM: OpenJDK 64-Bit Server VM\n",
       "Default Encoding: UTF-8\n",
       "Language: en\n",
       "Country: null\n",
       "--></g></svg>"
      ]
     },
     "execution_count": 47,
     "metadata": {},
     "output_type": "execute_result"
    }
   ],
   "source": [
    "%viz --style=\"TB\" --view=\"Interconnection\" \"TextualRepresentationTest\""
   ]
  },
  {
   "cell_type": "code",
   "execution_count": 48,
   "id": "c023469b",
   "metadata": {
    "execution": {
     "iopub.execute_input": "2024-12-16T14:19:28.896798Z",
     "iopub.status.busy": "2024-12-16T14:19:28.896554Z",
     "iopub.status.idle": "2024-12-16T14:19:28.912421Z",
     "shell.execute_reply": "2024-12-16T14:19:28.912236Z"
    }
   },
   "outputs": [
    {
     "data": {
      "image/svg+xml": [
       "<?xml version=\"1.0\" encoding=\"UTF-8\" standalone=\"no\"?><svg xmlns=\"http://www.w3.org/2000/svg\" xmlns:xlink=\"http://www.w3.org/1999/xlink\" contentStyleType=\"text/css\" height=\"121px\" preserveAspectRatio=\"none\" style=\"width:148px;height:121px;background:#FFFFFF;\" version=\"1.1\" viewBox=\"0 0 148 121\" width=\"148px\" zoomAndPan=\"magnify\"><defs/><g><!--MD5=[fbc87193dbaf4d95561dea2c320d4a47]\n",
       "cluster E1--><g id=\"cluster_E1\"><a href=\"psysml:90c9f2e5-1ab8-4a82-830f-194d1afced28\" target=\"_top\" title=\"psysml:90c9f2e5-1ab8-4a82-830f-194d1afced28\" xlink:actuate=\"onRequest\" xlink:href=\"psysml:90c9f2e5-1ab8-4a82-830f-194d1afced28\" xlink:show=\"new\" xlink:title=\"psysml:90c9f2e5-1ab8-4a82-830f-194d1afced28\" xlink:type=\"simple\"><rect fill=\"#FFFFFF\" height=\"73\" id=\"E1\" style=\"stroke:#383838;stroke-width:1.5;\" width=\"134\" x=\"7\" y=\"42.0986\"/><text fill=\"#000000\" font-family=\"sans-serif\" font-size=\"12\" font-style=\"italic\" lengthAdjust=\"spacing\" textLength=\"81\" x=\"33.5\" y=\"58.2373\">«action  def»</text><text fill=\"#000000\" font-family=\"sans-serif\" font-size=\"14\" lengthAdjust=\"spacing\" textLength=\"31\" x=\"58.5\" y=\"74.0625\">setX</text><line style=\"stroke:#383838;stroke-width:1.0;\" x1=\"7\" x2=\"141\" y1=\"82.3643\" y2=\"82.3643\"/></a></g><text fill=\"#000000\" font-family=\"sans-serif\" font-size=\"14\" lengthAdjust=\"spacing\" textLength=\"8\" x=\"21\" y=\"20.7969\">c</text><rect fill=\"#FFFFFF\" height=\"12\" style=\"stroke:#181818;stroke-width:1.5;\" width=\"12\" x=\"19\" y=\"36.0986\"/><text fill=\"#000000\" font-family=\"sans-serif\" font-size=\"14\" lengthAdjust=\"spacing\" textLength=\"38\" x=\"53\" y=\"20.7969\">newX</text><rect fill=\"#FFFFFF\" height=\"12\" style=\"stroke:#181818;stroke-width:1.5;\" width=\"12\" x=\"66\" y=\"36.0986\"/><!--MD5=[061a38fcf88ecb84b9460cc513272229]\n",
       "@startuml\r\n",
       "skin sysmlbw\r\n",
       "skinparam monochrome true\r\n",
       "skinparam wrapWidth 300\r\n",
       "hide circle\r\n",
       "top to bottom direction\r\n",
       "skinparam ranksep 8\r\n",
       "\r\n",
       "rec def \"setX\" as E1  <<(T,blue) action  def>> [[psysml:90c9f2e5-1ab8-4a82-830f-194d1afced28 ]] {\r\n",
       "portin \"c\" as E2  [[psysml:eca695b7-e4ea-4848-82b9-964f1ac61a4c ]] \r\n",
       "portin \"newX\" as E3  [[psysml:5108d877-3142-4d1e-a057-58c6f6613775 ]] \r\n",
       "}\r\n",
       "\r\n",
       "@enduml\r\n",
       "\n",
       "PlantUML version 1.2022.7(Mon Aug 22 17:01:30 UTC 2022)\n",
       "(EPL source distribution)\n",
       "Java Runtime: OpenJDK Runtime Environment\n",
       "JVM: OpenJDK 64-Bit Server VM\n",
       "Default Encoding: UTF-8\n",
       "Language: en\n",
       "Country: null\n",
       "--></g></svg>"
      ]
     },
     "execution_count": 48,
     "metadata": {},
     "output_type": "execute_result"
    }
   ],
   "source": [
    "%viz --style=\"TB\" --view=\"Action\" \"TextualRepresentationTest\""
   ]
  },
  {
   "cell_type": "code",
   "execution_count": 49,
   "id": "2d27f901",
   "metadata": {
    "execution": {
     "iopub.execute_input": "2024-12-16T14:19:28.967432Z",
     "iopub.status.busy": "2024-12-16T14:19:28.967134Z",
     "iopub.status.idle": "2024-12-16T14:19:28.974185Z",
     "shell.execute_reply": "2024-12-16T14:19:28.973920Z"
    }
   },
   "outputs": [
    {
     "data": {
      "image/svg+xml": [
       "<?xml version=\"1.0\" encoding=\"UTF-8\" standalone=\"no\"?><svg xmlns=\"http://www.w3.org/2000/svg\" xmlns:xlink=\"http://www.w3.org/1999/xlink\" contentStyleType=\"text/css\" height=\"10px\" preserveAspectRatio=\"none\" style=\"width:10px;height:10px;background:#FFFFFF;\" version=\"1.1\" viewBox=\"0 0 10 10\" width=\"10px\" zoomAndPan=\"magnify\"><defs/><g><!--MD5=[228a58293b408a2cee091b1559da5a28]\n",
       "@startuml\r\n",
       "skin sysmlbw\r\n",
       "skinparam monochrome true\r\n",
       "skinparam wrapWidth 300\r\n",
       "hide circle\r\n",
       "top to bottom direction\r\n",
       "skinparam roundcorner 20\r\n",
       "skinparam BoxPadding 20\r\n",
       "skinparam SequenceBoxBackgroundColor #white\r\n",
       "skinparam style strictuml\r\n",
       "skinparam maxMessageSize 100\r\n",
       "\r\n",
       "@enduml\r\n",
       "\n",
       "PlantUML version 1.2022.7(Mon Aug 22 17:01:30 UTC 2022)\n",
       "(EPL source distribution)\n",
       "Java Runtime: OpenJDK Runtime Environment\n",
       "JVM: OpenJDK 64-Bit Server VM\n",
       "Default Encoding: UTF-8\n",
       "Language: en\n",
       "Country: null\n",
       "--></g></svg>"
      ]
     },
     "execution_count": 49,
     "metadata": {},
     "output_type": "execute_result"
    }
   ],
   "source": [
    "%viz --style=\"TB\" --view=\"Sequence\" \"TextualRepresentationTest\""
   ]
  },
  {
   "cell_type": "code",
   "execution_count": 50,
   "id": "b1e0034d",
   "metadata": {
    "execution": {
     "iopub.execute_input": "2024-12-16T14:19:29.025893Z",
     "iopub.status.busy": "2024-12-16T14:19:29.025618Z",
     "iopub.status.idle": "2024-12-16T14:19:29.046082Z",
     "shell.execute_reply": "2024-12-16T14:19:29.045206Z"
    }
   },
   "outputs": [
    {
     "data": {
      "image/svg+xml": [
       "<?xml version=\"1.0\" encoding=\"UTF-8\" standalone=\"no\"?><svg xmlns=\"http://www.w3.org/2000/svg\" xmlns:xlink=\"http://www.w3.org/1999/xlink\" contentStyleType=\"text/css\" height=\"256px\" preserveAspectRatio=\"none\" style=\"width:346px;height:256px;background:#FFFFFF;\" version=\"1.1\" viewBox=\"0 0 346 256\" width=\"346px\" zoomAndPan=\"magnify\"><defs/><g><!--MD5=[fbc87193dbaf4d95561dea2c320d4a47]\n",
       "cluster E1--><g id=\"cluster_E1\"><a href=\"psysml:77badc07-b316-4281-ac3a-fbb5ce5d6d5a\" target=\"_top\" title=\"psysml:77badc07-b316-4281-ac3a-fbb5ce5d6d5a\" xlink:actuate=\"onRequest\" xlink:href=\"psysml:77badc07-b316-4281-ac3a-fbb5ce5d6d5a\" xlink:show=\"new\" xlink:title=\"psysml:77badc07-b316-4281-ac3a-fbb5ce5d6d5a\" xlink:type=\"simple\"><polygon fill=\"none\" points=\"16,6,220.9375,6,227.9375,28.2969,329,28.2969,329,249.5,16,249.5,16,6\" style=\"stroke:#000000;stroke-width:1.5;\"/><line style=\"stroke:#000000;stroke-width:1.5;\" x1=\"16\" x2=\"227.9375\" y1=\"28.2969\" y2=\"28.2969\"/><text fill=\"#000000\" font-family=\"sans-serif\" font-size=\"14\" font-weight=\"bold\" lengthAdjust=\"spacing\" textLength=\"198.9375\" x=\"20\" y=\"20.9951\">TextualRepresentationTest</text></a></g><!--MD5=[f6df4d0ebaf0b5dfb2ced0ae5af7c670]\n",
       "cluster E4--><g id=\"cluster_E4\"><a href=\"psysml:90c9f2e5-1ab8-4a82-830f-194d1afced28\" target=\"_top\" title=\"psysml:90c9f2e5-1ab8-4a82-830f-194d1afced28\" xlink:actuate=\"onRequest\" xlink:href=\"psysml:90c9f2e5-1ab8-4a82-830f-194d1afced28\" xlink:show=\"new\" xlink:title=\"psysml:90c9f2e5-1ab8-4a82-830f-194d1afced28\" xlink:type=\"simple\"><rect fill=\"#FFFFFF\" height=\"155\" id=\"E4\" style=\"stroke:#383838;stroke-width:1.5;\" width=\"134\" x=\"179\" y=\"78.5\"/><text fill=\"#000000\" font-family=\"sans-serif\" font-size=\"12\" font-style=\"italic\" lengthAdjust=\"spacing\" textLength=\"81\" x=\"205.5\" y=\"94.6387\">«action  def»</text><text fill=\"#000000\" font-family=\"sans-serif\" font-size=\"14\" lengthAdjust=\"spacing\" textLength=\"31\" x=\"230.5\" y=\"110.4639\">setX</text><line style=\"stroke:#383838;stroke-width:1.0;\" x1=\"179\" x2=\"313\" y1=\"118.7656\" y2=\"118.7656\"/></a></g><!--MD5=[b4997ac47864f28c2f74865a473b2911]\n",
       "class E2--><a href=\"psysml:4094f6a7-157d-410f-a652-5cd39e1c0fe4\" target=\"_top\" title=\"psysml:4094f6a7-157d-410f-a652-5cd39e1c0fe4\" xlink:actuate=\"onRequest\" xlink:href=\"psysml:4094f6a7-157d-410f-a652-5cd39e1c0fe4\" xlink:show=\"new\" xlink:title=\"psysml:4094f6a7-157d-410f-a652-5cd39e1c0fe4\" xlink:type=\"simple\"><g id=\"elem_E2\"><rect fill=\"#FFFFFF\" height=\"75.0813\" id=\"E2\" style=\"stroke:#181818;stroke-width:0.5;\" width=\"74\" x=\"57\" y=\"41\"/><text fill=\"#000000\" font-family=\"sans-serif\" font-size=\"12\" font-style=\"italic\" lengthAdjust=\"spacing\" textLength=\"69\" x=\"59.5\" y=\"57.1387\">«item  def»</text><text fill=\"#000000\" font-family=\"sans-serif\" font-size=\"14\" lengthAdjust=\"spacing\" textLength=\"10\" x=\"89\" y=\"72.9639\">C</text><line style=\"stroke:#181818;stroke-width:0.5;\" x1=\"58\" x2=\"130\" y1=\"81.2656\" y2=\"81.2656\"/><text fill=\"#000000\" font-family=\"sans-serif\" font-size=\"14\" lengthAdjust=\"spacing\" textLength=\"46\" x=\"63\" y=\"108.7795\">x: Real</text><text fill=\"#000000\" font-family=\"sans-serif\" font-size=\"14\" font-style=\"italic\" lengthAdjust=\"spacing\" textLength=\"66\" x=\"61\" y=\"93.6123\">attributes</text></g></a><!--MD5=[09b614a08d8cba4a07c9adeb5e0fee81]\n",
       "class E3--><a href=\"psysml:bff165c1-58b3-4dd4-8269-a7769b97eb56\" target=\"_top\" title=\"psysml:bff165c1-58b3-4dd4-8269-a7769b97eb56\" xlink:actuate=\"onRequest\" xlink:href=\"psysml:bff165c1-58b3-4dd4-8269-a7769b97eb56\" xlink:show=\"new\" xlink:title=\"psysml:bff165c1-58b3-4dd4-8269-a7769b97eb56\" xlink:type=\"simple\"><g id=\"elem_E3\"><rect fill=\"#FFFFFF\" height=\"48.2656\" id=\"E3\" rx=\"10\" ry=\"10\" style=\"stroke:#181818;stroke-width:0.5;\" width=\"124\" x=\"32\" y=\"176\"/><text fill=\"#000000\" font-family=\"sans-serif\" font-size=\"12\" font-style=\"italic\" lengthAdjust=\"spacing\" textLength=\"122\" x=\"33\" y=\"192.1387\">«assert constraint»</text><text fill=\"#000000\" font-family=\"sans-serif\" font-size=\"14\" lengthAdjust=\"spacing\" textLength=\"83\" x=\"48.5\" y=\"207.9639\">x_constraint</text><line style=\"stroke:#181818;stroke-width:0.5;\" x1=\"33\" x2=\"155\" y1=\"216.2656\" y2=\"216.2656\"/></g></a><text fill=\"#000000\" font-family=\"sans-serif\" font-size=\"14\" lengthAdjust=\"spacing\" textLength=\"8\" x=\"193\" y=\"57.1982\">c</text><rect fill=\"#FFFFFF\" height=\"12\" style=\"stroke:#181818;stroke-width:1.5;\" width=\"12\" x=\"191\" y=\"72.5\"/><text fill=\"#000000\" font-family=\"sans-serif\" font-size=\"14\" lengthAdjust=\"spacing\" textLength=\"38\" x=\"225\" y=\"57.1982\">newX</text><rect fill=\"#FFFFFF\" height=\"12\" style=\"stroke:#181818;stroke-width:1.5;\" width=\"12\" x=\"238\" y=\"72.5\"/><!--MD5=[209b3feb70ccb6233bfe1053d122c12c]\n",
       "reverse link E2 to E3--><g id=\"link_E2_E3\"><a href=\"psysml:15e2216a-3ffa-458d-9ef3-f5d48fbfe7fe\" target=\"_top\" title=\"psysml:15e2216a-3ffa-458d-9ef3-f5d48fbfe7fe\" xlink:actuate=\"onRequest\" xlink:href=\"psysml:15e2216a-3ffa-458d-9ef3-f5d48fbfe7fe\" xlink:show=\"new\" xlink:title=\"psysml:15e2216a-3ffa-458d-9ef3-f5d48fbfe7fe\" xlink:type=\"simple\"><path d=\"M94,129.25 C94,145.43 94,162.61 94,175.88 \" fill=\"none\" id=\"E2-backto-E3\" style=\"stroke:#181818;stroke-width:1.0;\"/><polygon fill=\"#181818\" points=\"94,116,90,122,94,128,98,122,94,116\" style=\"stroke:#181818;stroke-width:1.0;\"/></a></g><!--MD5=[4b8795f57a8dfcff15c2b981b69efdf4]\n",
       "@startuml\r\n",
       "skin sysmlbw\r\n",
       "skinparam monochrome true\r\n",
       "skinparam wrapWidth 300\r\n",
       "hide circle\r\n",
       "top to bottom direction\r\n",
       "\r\n",
       "package \"TextualRepresentationTest\" as E1  [[psysml:77badc07-b316-4281-ac3a-fbb5ce5d6d5a ]]  {\r\n",
       "comp def \"C\" as E2  <<(T,blue) item  def>> [[psysml:4094f6a7-157d-410f-a652-5cd39e1c0fe4 ]] {\r\n",
       "##//attributes//##\r\n",
       "x: Real\r\n",
       "}\r\n",
       "comp usage \"x_constraint  \" as E3  <<(T,blue) assert constraint>> [[psysml:bff165c1-58b3-4dd4-8269-a7769b97eb56 ]] {\r\n",
       "}\r\n",
       "rec def \"setX\" as E4  <<(T,blue) action  def>> [[psysml:90c9f2e5-1ab8-4a82-830f-194d1afced28 ]] {\r\n",
       "portin \"c\" as E5  [[psysml:eca695b7-e4ea-4848-82b9-964f1ac61a4c ]] \r\n",
       "portin \"newX\" as E6  [[psysml:5108d877-3142-4d1e-a057-58c6f6613775 ]] \r\n",
       "}\r\n",
       "\r\n",
       "}\r\n",
       "E2 *- - E3 [[psysml:15e2216a-3ffa-458d-9ef3-f5d48fbfe7fe ]] \r\n",
       "@enduml\r\n",
       "\n",
       "PlantUML version 1.2022.7(Mon Aug 22 17:01:30 UTC 2022)\n",
       "(EPL source distribution)\n",
       "Java Runtime: OpenJDK Runtime Environment\n",
       "JVM: OpenJDK 64-Bit Server VM\n",
       "Default Encoding: UTF-8\n",
       "Language: en\n",
       "Country: null\n",
       "--></g></svg>"
      ]
     },
     "execution_count": 50,
     "metadata": {},
     "output_type": "execute_result"
    }
   ],
   "source": [
    "%viz --style=\"TB\" --view=\"MIXED\" \"TextualRepresentationTest\""
   ]
  },
  {
   "cell_type": "code",
   "execution_count": 51,
   "id": "591b3fc1",
   "metadata": {
    "execution": {
     "iopub.execute_input": "2024-12-16T14:19:29.101386Z",
     "iopub.status.busy": "2024-12-16T14:19:29.101071Z",
     "iopub.status.idle": "2024-12-16T14:19:29.119724Z",
     "shell.execute_reply": "2024-12-16T14:19:29.118826Z"
    }
   },
   "outputs": [
    {
     "data": {
      "image/svg+xml": [
       "<?xml version=\"1.0\" encoding=\"UTF-8\" standalone=\"no\"?><svg xmlns=\"http://www.w3.org/2000/svg\" xmlns:xlink=\"http://www.w3.org/1999/xlink\" contentStyleType=\"text/css\" height=\"256px\" preserveAspectRatio=\"none\" style=\"width:346px;height:256px;background:#FFFFFF;\" version=\"1.1\" viewBox=\"0 0 346 256\" width=\"346px\" zoomAndPan=\"magnify\"><defs/><g><!--MD5=[fbc87193dbaf4d95561dea2c320d4a47]\n",
       "cluster E1--><g id=\"cluster_E1\"><a href=\"psysml:77badc07-b316-4281-ac3a-fbb5ce5d6d5a\" target=\"_top\" title=\"psysml:77badc07-b316-4281-ac3a-fbb5ce5d6d5a\" xlink:actuate=\"onRequest\" xlink:href=\"psysml:77badc07-b316-4281-ac3a-fbb5ce5d6d5a\" xlink:show=\"new\" xlink:title=\"psysml:77badc07-b316-4281-ac3a-fbb5ce5d6d5a\" xlink:type=\"simple\"><polygon fill=\"none\" points=\"16,6,220.9375,6,227.9375,28.2969,329,28.2969,329,249.5,16,249.5,16,6\" style=\"stroke:#000000;stroke-width:1.5;\"/><line style=\"stroke:#000000;stroke-width:1.5;\" x1=\"16\" x2=\"227.9375\" y1=\"28.2969\" y2=\"28.2969\"/><text fill=\"#000000\" font-family=\"sans-serif\" font-size=\"14\" font-weight=\"bold\" lengthAdjust=\"spacing\" textLength=\"198.9375\" x=\"20\" y=\"20.9951\">TextualRepresentationTest</text></a></g><!--MD5=[f6df4d0ebaf0b5dfb2ced0ae5af7c670]\n",
       "cluster E4--><g id=\"cluster_E4\"><a href=\"psysml:90c9f2e5-1ab8-4a82-830f-194d1afced28\" target=\"_top\" title=\"psysml:90c9f2e5-1ab8-4a82-830f-194d1afced28\" xlink:actuate=\"onRequest\" xlink:href=\"psysml:90c9f2e5-1ab8-4a82-830f-194d1afced28\" xlink:show=\"new\" xlink:title=\"psysml:90c9f2e5-1ab8-4a82-830f-194d1afced28\" xlink:type=\"simple\"><rect fill=\"#FFFFFF\" height=\"155\" id=\"E4\" style=\"stroke:#383838;stroke-width:1.5;\" width=\"134\" x=\"179\" y=\"78.5\"/><text fill=\"#000000\" font-family=\"sans-serif\" font-size=\"12\" font-style=\"italic\" lengthAdjust=\"spacing\" textLength=\"81\" x=\"205.5\" y=\"94.6387\">«action  def»</text><text fill=\"#000000\" font-family=\"sans-serif\" font-size=\"14\" lengthAdjust=\"spacing\" textLength=\"31\" x=\"230.5\" y=\"110.4639\">setX</text><line style=\"stroke:#383838;stroke-width:1.0;\" x1=\"179\" x2=\"313\" y1=\"118.7656\" y2=\"118.7656\"/></a></g><!--MD5=[b4997ac47864f28c2f74865a473b2911]\n",
       "class E2--><a href=\"psysml:4094f6a7-157d-410f-a652-5cd39e1c0fe4\" target=\"_top\" title=\"psysml:4094f6a7-157d-410f-a652-5cd39e1c0fe4\" xlink:actuate=\"onRequest\" xlink:href=\"psysml:4094f6a7-157d-410f-a652-5cd39e1c0fe4\" xlink:show=\"new\" xlink:title=\"psysml:4094f6a7-157d-410f-a652-5cd39e1c0fe4\" xlink:type=\"simple\"><g id=\"elem_E2\"><rect fill=\"#FFFFFF\" height=\"75.0813\" id=\"E2\" style=\"stroke:#181818;stroke-width:0.5;\" width=\"74\" x=\"57\" y=\"41\"/><text fill=\"#000000\" font-family=\"sans-serif\" font-size=\"12\" font-style=\"italic\" lengthAdjust=\"spacing\" textLength=\"69\" x=\"59.5\" y=\"57.1387\">«item  def»</text><text fill=\"#000000\" font-family=\"sans-serif\" font-size=\"14\" lengthAdjust=\"spacing\" textLength=\"10\" x=\"89\" y=\"72.9639\">C</text><line style=\"stroke:#181818;stroke-width:0.5;\" x1=\"58\" x2=\"130\" y1=\"81.2656\" y2=\"81.2656\"/><text fill=\"#000000\" font-family=\"sans-serif\" font-size=\"14\" lengthAdjust=\"spacing\" textLength=\"46\" x=\"63\" y=\"108.7795\">x: Real</text><text fill=\"#000000\" font-family=\"sans-serif\" font-size=\"14\" font-style=\"italic\" lengthAdjust=\"spacing\" textLength=\"66\" x=\"61\" y=\"93.6123\">attributes</text></g></a><!--MD5=[09b614a08d8cba4a07c9adeb5e0fee81]\n",
       "class E3--><a href=\"psysml:bff165c1-58b3-4dd4-8269-a7769b97eb56\" target=\"_top\" title=\"psysml:bff165c1-58b3-4dd4-8269-a7769b97eb56\" xlink:actuate=\"onRequest\" xlink:href=\"psysml:bff165c1-58b3-4dd4-8269-a7769b97eb56\" xlink:show=\"new\" xlink:title=\"psysml:bff165c1-58b3-4dd4-8269-a7769b97eb56\" xlink:type=\"simple\"><g id=\"elem_E3\"><rect fill=\"#FFFFFF\" height=\"48.2656\" id=\"E3\" rx=\"10\" ry=\"10\" style=\"stroke:#181818;stroke-width:0.5;\" width=\"124\" x=\"32\" y=\"176\"/><text fill=\"#000000\" font-family=\"sans-serif\" font-size=\"12\" font-style=\"italic\" lengthAdjust=\"spacing\" textLength=\"122\" x=\"33\" y=\"192.1387\">«assert constraint»</text><text fill=\"#000000\" font-family=\"sans-serif\" font-size=\"14\" lengthAdjust=\"spacing\" textLength=\"83\" x=\"48.5\" y=\"207.9639\">x_constraint</text><line style=\"stroke:#181818;stroke-width:0.5;\" x1=\"33\" x2=\"155\" y1=\"216.2656\" y2=\"216.2656\"/></g></a><text fill=\"#000000\" font-family=\"sans-serif\" font-size=\"14\" lengthAdjust=\"spacing\" textLength=\"8\" x=\"193\" y=\"57.1982\">c</text><rect fill=\"#FFFFFF\" height=\"12\" style=\"stroke:#181818;stroke-width:1.5;\" width=\"12\" x=\"191\" y=\"72.5\"/><text fill=\"#000000\" font-family=\"sans-serif\" font-size=\"14\" lengthAdjust=\"spacing\" textLength=\"38\" x=\"225\" y=\"57.1982\">newX</text><rect fill=\"#FFFFFF\" height=\"12\" style=\"stroke:#181818;stroke-width:1.5;\" width=\"12\" x=\"238\" y=\"72.5\"/><!--MD5=[209b3feb70ccb6233bfe1053d122c12c]\n",
       "reverse link E2 to E3--><g id=\"link_E2_E3\"><a href=\"psysml:15e2216a-3ffa-458d-9ef3-f5d48fbfe7fe\" target=\"_top\" title=\"psysml:15e2216a-3ffa-458d-9ef3-f5d48fbfe7fe\" xlink:actuate=\"onRequest\" xlink:href=\"psysml:15e2216a-3ffa-458d-9ef3-f5d48fbfe7fe\" xlink:show=\"new\" xlink:title=\"psysml:15e2216a-3ffa-458d-9ef3-f5d48fbfe7fe\" xlink:type=\"simple\"><path d=\"M94,129.28 C94,129.28 94,175.66 94,175.66 \" fill=\"none\" id=\"E2-backto-E3\" style=\"stroke:#181818;stroke-width:1.0;\"/><polygon fill=\"#181818\" points=\"94,116.28,90,122.28,94,128.28,98,122.28,94,116.28\" style=\"stroke:#181818;stroke-width:1.0;\"/></a></g><!--MD5=[820c3021ac81be38121eed0a9659cb13]\n",
       "@startuml\r\n",
       "skin sysmlbw\r\n",
       "skinparam monochrome true\r\n",
       "skinparam wrapWidth 300\r\n",
       "hide circle\r\n",
       "skinparam linetype ortho\r\n",
       "\r\n",
       "package \"TextualRepresentationTest\" as E1  [[psysml:77badc07-b316-4281-ac3a-fbb5ce5d6d5a ]]  {\r\n",
       "comp def \"C\" as E2  <<(T,blue) item  def>> [[psysml:4094f6a7-157d-410f-a652-5cd39e1c0fe4 ]] {\r\n",
       "##//attributes//##\r\n",
       "x: Real\r\n",
       "}\r\n",
       "comp usage \"x_constraint  \" as E3  <<(T,blue) assert constraint>> [[psysml:bff165c1-58b3-4dd4-8269-a7769b97eb56 ]] {\r\n",
       "}\r\n",
       "rec def \"setX\" as E4  <<(T,blue) action  def>> [[psysml:90c9f2e5-1ab8-4a82-830f-194d1afced28 ]] {\r\n",
       "portin \"c\" as E5  [[psysml:eca695b7-e4ea-4848-82b9-964f1ac61a4c ]] \r\n",
       "portin \"newX\" as E6  [[psysml:5108d877-3142-4d1e-a057-58c6f6613775 ]] \r\n",
       "}\r\n",
       "\r\n",
       "}\r\n",
       "E2 *- - E3 [[psysml:15e2216a-3ffa-458d-9ef3-f5d48fbfe7fe ]] \r\n",
       "@enduml\r\n",
       "\n",
       "PlantUML version 1.2022.7(Mon Aug 22 17:01:30 UTC 2022)\n",
       "(EPL source distribution)\n",
       "Java Runtime: OpenJDK Runtime Environment\n",
       "JVM: OpenJDK 64-Bit Server VM\n",
       "Default Encoding: UTF-8\n",
       "Language: en\n",
       "Country: null\n",
       "--></g></svg>"
      ]
     },
     "execution_count": 51,
     "metadata": {},
     "output_type": "execute_result"
    }
   ],
   "source": [
    "%viz --style=\"ORTHOLINE\" --view=\"Default\" \"TextualRepresentationTest\""
   ]
  },
  {
   "cell_type": "code",
   "execution_count": 52,
   "id": "dee0b006",
   "metadata": {
    "execution": {
     "iopub.execute_input": "2024-12-16T14:19:29.175736Z",
     "iopub.status.busy": "2024-12-16T14:19:29.175432Z",
     "iopub.status.idle": "2024-12-16T14:19:29.194326Z",
     "shell.execute_reply": "2024-12-16T14:19:29.193251Z"
    }
   },
   "outputs": [
    {
     "data": {
      "image/svg+xml": [
       "<?xml version=\"1.0\" encoding=\"UTF-8\" standalone=\"no\"?><svg xmlns=\"http://www.w3.org/2000/svg\" xmlns:xlink=\"http://www.w3.org/1999/xlink\" contentStyleType=\"text/css\" height=\"355px\" preserveAspectRatio=\"none\" style=\"width:247px;height:355px;background:#FFFFFF;\" version=\"1.1\" viewBox=\"0 0 247 355\" width=\"247px\" zoomAndPan=\"magnify\"><defs/><g><!--MD5=[fbc87193dbaf4d95561dea2c320d4a47]\n",
       "cluster E1--><g id=\"cluster_E1\"><a href=\"psysml:77badc07-b316-4281-ac3a-fbb5ce5d6d5a\" target=\"_top\" title=\"psysml:77badc07-b316-4281-ac3a-fbb5ce5d6d5a\" xlink:actuate=\"onRequest\" xlink:href=\"psysml:77badc07-b316-4281-ac3a-fbb5ce5d6d5a\" xlink:show=\"new\" xlink:title=\"psysml:77badc07-b316-4281-ac3a-fbb5ce5d6d5a\" xlink:type=\"simple\"><polygon fill=\"none\" points=\"16,6,220.9375,6,227.9375,28.2969,230,28.2969,230,348,16,348,16,6\" style=\"stroke:#000000;stroke-width:1.5;\"/><line style=\"stroke:#000000;stroke-width:1.5;\" x1=\"16\" x2=\"227.9375\" y1=\"28.2969\" y2=\"28.2969\"/><text fill=\"#000000\" font-family=\"sans-serif\" font-size=\"14\" font-weight=\"bold\" lengthAdjust=\"spacing\" textLength=\"198.9375\" x=\"20\" y=\"20.9951\">TextualRepresentationTest</text></a></g><!--MD5=[b4997ac47864f28c2f74865a473b2911]\n",
       "class E2--><a href=\"psysml:4094f6a7-157d-410f-a652-5cd39e1c0fe4\" target=\"_top\" title=\"psysml:4094f6a7-157d-410f-a652-5cd39e1c0fe4\" xlink:actuate=\"onRequest\" xlink:href=\"psysml:4094f6a7-157d-410f-a652-5cd39e1c0fe4\" xlink:show=\"new\" xlink:title=\"psysml:4094f6a7-157d-410f-a652-5cd39e1c0fe4\" xlink:type=\"simple\"><g id=\"elem_E2\"><rect fill=\"#FFFFFF\" height=\"75.0813\" id=\"E2\" style=\"stroke:#181818;stroke-width:0.5;\" width=\"74\" x=\"86\" y=\"149\"/><text fill=\"#000000\" font-family=\"sans-serif\" font-size=\"12\" font-style=\"italic\" lengthAdjust=\"spacing\" textLength=\"69\" x=\"88.5\" y=\"165.1387\">«item  def»</text><text fill=\"#000000\" font-family=\"sans-serif\" font-size=\"14\" lengthAdjust=\"spacing\" textLength=\"10\" x=\"118\" y=\"180.9639\">C</text><line style=\"stroke:#181818;stroke-width:0.5;\" x1=\"87\" x2=\"159\" y1=\"189.2656\" y2=\"189.2656\"/><text fill=\"#000000\" font-family=\"sans-serif\" font-size=\"14\" lengthAdjust=\"spacing\" textLength=\"46\" x=\"92\" y=\"216.7795\">x: Real</text><text fill=\"#000000\" font-family=\"sans-serif\" font-size=\"14\" font-style=\"italic\" lengthAdjust=\"spacing\" textLength=\"66\" x=\"90\" y=\"201.6123\">attributes</text></g></a><!--MD5=[09b614a08d8cba4a07c9adeb5e0fee81]\n",
       "class E3--><a href=\"psysml:bff165c1-58b3-4dd4-8269-a7769b97eb56\" target=\"_top\" title=\"psysml:bff165c1-58b3-4dd4-8269-a7769b97eb56\" xlink:actuate=\"onRequest\" xlink:href=\"psysml:bff165c1-58b3-4dd4-8269-a7769b97eb56\" xlink:show=\"new\" xlink:title=\"psysml:bff165c1-58b3-4dd4-8269-a7769b97eb56\" xlink:type=\"simple\"><g id=\"elem_E3\"><rect fill=\"#FFFFFF\" height=\"48.2656\" id=\"E3\" rx=\"10\" ry=\"10\" style=\"stroke:#181818;stroke-width:0.5;\" width=\"124\" x=\"61\" y=\"284\"/><text fill=\"#000000\" font-family=\"sans-serif\" font-size=\"12\" font-style=\"italic\" lengthAdjust=\"spacing\" textLength=\"122\" x=\"62\" y=\"300.1387\">«assert constraint»</text><text fill=\"#000000\" font-family=\"sans-serif\" font-size=\"14\" lengthAdjust=\"spacing\" textLength=\"83\" x=\"77.5\" y=\"315.9639\">x_constraint</text><line style=\"stroke:#181818;stroke-width:0.5;\" x1=\"62\" x2=\"184\" y1=\"324.2656\" y2=\"324.2656\"/></g></a><!--MD5=[ebbe1d658d1005bcc118a6aa81145e00]\n",
       "class E4--><a href=\"psysml:90c9f2e5-1ab8-4a82-830f-194d1afced28\" target=\"_top\" title=\"psysml:90c9f2e5-1ab8-4a82-830f-194d1afced28\" xlink:actuate=\"onRequest\" xlink:href=\"psysml:90c9f2e5-1ab8-4a82-830f-194d1afced28\" xlink:show=\"new\" xlink:title=\"psysml:90c9f2e5-1ab8-4a82-830f-194d1afced28\" xlink:type=\"simple\"><g id=\"elem_E4\"><rect fill=\"#FFFFFF\" height=\"48.2656\" id=\"E4\" style=\"stroke:#181818;stroke-width:0.5;\" width=\"83\" x=\"81.5\" y=\"41\"/><text fill=\"#000000\" font-family=\"sans-serif\" font-size=\"12\" font-style=\"italic\" lengthAdjust=\"spacing\" textLength=\"81\" x=\"82.5\" y=\"57.1387\">«action  def»</text><text fill=\"#000000\" font-family=\"sans-serif\" font-size=\"14\" lengthAdjust=\"spacing\" textLength=\"31\" x=\"107.5\" y=\"72.9639\">setX</text><line style=\"stroke:#181818;stroke-width:0.5;\" x1=\"82.5\" x2=\"163.5\" y1=\"81.2656\" y2=\"81.2656\"/></g></a><!--MD5=[209b3feb70ccb6233bfe1053d122c12c]\n",
       "reverse link E2 to E3--><g id=\"link_E2_E3\"><a href=\"psysml:15e2216a-3ffa-458d-9ef3-f5d48fbfe7fe\" target=\"_top\" title=\"psysml:15e2216a-3ffa-458d-9ef3-f5d48fbfe7fe\" xlink:actuate=\"onRequest\" xlink:href=\"psysml:15e2216a-3ffa-458d-9ef3-f5d48fbfe7fe\" xlink:show=\"new\" xlink:title=\"psysml:15e2216a-3ffa-458d-9ef3-f5d48fbfe7fe\" xlink:type=\"simple\"><path d=\"M123,237.28 C123,237.28 123,283.66 123,283.66 \" fill=\"none\" id=\"E2-backto-E3\" style=\"stroke:#181818;stroke-width:1.0;\"/><polygon fill=\"#181818\" points=\"123,224.28,119,230.28,123,236.28,127,230.28,123,224.28\" style=\"stroke:#181818;stroke-width:1.0;\"/></a></g><!--MD5=[ddeed8deb2209213b62e6cfabaa108b2]\n",
       "reverse link E4 to E2--><g id=\"link_E4_E2\"><a href=\"psysml:eca695b7-e4ea-4848-82b9-964f1ac61a4c\" target=\"_top\" title=\"psysml:eca695b7-e4ea-4848-82b9-964f1ac61a4c\" xlink:actuate=\"onRequest\" xlink:href=\"psysml:eca695b7-e4ea-4848-82b9-964f1ac61a4c\" xlink:show=\"new\" xlink:title=\"psysml:eca695b7-e4ea-4848-82b9-964f1ac61a4c\" xlink:type=\"simple\"><path d=\"M123,102 C123,102 123,148.67 123,148.67 \" fill=\"none\" id=\"E4-backto-E2\" style=\"stroke:#181818;stroke-width:1.0;\"/><polygon fill=\"none\" points=\"123,89,119,95,123,101,127,95,123,89\" style=\"stroke:#181818;stroke-width:1.0;\"/><text fill=\"#000000\" font-family=\"sans-serif\" font-size=\"13\" lengthAdjust=\"spacing\" textLength=\"7\" x=\"115\" y=\"121.4069\">c</text></a></g><!--MD5=[151b43737588e639e8188d26a3359d69]\n",
       "@startuml\r\n",
       "skin sysmlbw\r\n",
       "skinparam monochrome true\r\n",
       "skinparam wrapWidth 300\r\n",
       "hide circle\r\n",
       "skinparam linetype ortho\r\n",
       "\r\n",
       "package \"TextualRepresentationTest\" as E1  [[psysml:77badc07-b316-4281-ac3a-fbb5ce5d6d5a ]]  {\r\n",
       "comp def \"C\" as E2  <<(T,blue) item  def>> [[psysml:4094f6a7-157d-410f-a652-5cd39e1c0fe4 ]] {\r\n",
       "##//attributes//##\r\n",
       "x: Real\r\n",
       "}\r\n",
       "comp usage \"x_constraint  \" as E3  <<(T,blue) assert constraint>> [[psysml:bff165c1-58b3-4dd4-8269-a7769b97eb56 ]] {\r\n",
       "}\r\n",
       "comp def \"setX\" as E4  <<(T,blue) action  def>> [[psysml:90c9f2e5-1ab8-4a82-830f-194d1afced28 ]] {\r\n",
       "}\r\n",
       "}\r\n",
       "E2 *- - E3 [[psysml:15e2216a-3ffa-458d-9ef3-f5d48fbfe7fe ]] \r\n",
       "E4 o- - E2 [[psysml:eca695b7-e4ea-4848-82b9-964f1ac61a4c ]] : c\r\n",
       "@enduml\r\n",
       "\n",
       "PlantUML version 1.2022.7(Mon Aug 22 17:01:30 UTC 2022)\n",
       "(EPL source distribution)\n",
       "Java Runtime: OpenJDK Runtime Environment\n",
       "JVM: OpenJDK 64-Bit Server VM\n",
       "Default Encoding: UTF-8\n",
       "Language: en\n",
       "Country: null\n",
       "--></g></svg>"
      ]
     },
     "execution_count": 52,
     "metadata": {},
     "output_type": "execute_result"
    }
   ],
   "source": [
    "%viz --style=\"ORTHOLINE\" --view=\"Tree\" \"TextualRepresentationTest\""
   ]
  },
  {
   "cell_type": "code",
   "execution_count": 53,
   "id": "d3244db2",
   "metadata": {
    "execution": {
     "iopub.execute_input": "2024-12-16T14:19:29.247497Z",
     "iopub.status.busy": "2024-12-16T14:19:29.247291Z",
     "iopub.status.idle": "2024-12-16T14:19:29.251677Z",
     "shell.execute_reply": "2024-12-16T14:19:29.251482Z"
    }
   },
   "outputs": [
    {
     "data": {
      "image/svg+xml": [
       "<?xml version=\"1.0\" encoding=\"UTF-8\" standalone=\"no\"?><svg xmlns=\"http://www.w3.org/2000/svg\" xmlns:xlink=\"http://www.w3.org/1999/xlink\" contentStyleType=\"text/css\" height=\"10px\" preserveAspectRatio=\"none\" style=\"width:10px;height:10px;background:#FFFFFF;\" version=\"1.1\" viewBox=\"0 0 10 10\" width=\"10px\" zoomAndPan=\"magnify\"><defs/><g><!--MD5=[db5337d1ba6fd3a35e07e04988169323]\n",
       "@startuml\r\n",
       "skin sysmlbw\r\n",
       "skinparam monochrome true\r\n",
       "skinparam wrapWidth 300\r\n",
       "hide circle\r\n",
       "skinparam linetype ortho\r\n",
       "\r\n",
       "@enduml\r\n",
       "\n",
       "PlantUML version 1.2022.7(Mon Aug 22 17:01:30 UTC 2022)\n",
       "(EPL source distribution)\n",
       "Java Runtime: OpenJDK Runtime Environment\n",
       "JVM: OpenJDK 64-Bit Server VM\n",
       "Default Encoding: UTF-8\n",
       "Language: en\n",
       "Country: null\n",
       "--></g></svg>"
      ]
     },
     "execution_count": 53,
     "metadata": {},
     "output_type": "execute_result"
    }
   ],
   "source": [
    "%viz --style=\"ORTHOLINE\" --view=\"State\" \"TextualRepresentationTest\""
   ]
  },
  {
   "cell_type": "code",
   "execution_count": 54,
   "id": "c8d835d7",
   "metadata": {
    "execution": {
     "iopub.execute_input": "2024-12-16T14:19:29.304123Z",
     "iopub.status.busy": "2024-12-16T14:19:29.303895Z",
     "iopub.status.idle": "2024-12-16T14:19:29.317720Z",
     "shell.execute_reply": "2024-12-16T14:19:29.317535Z"
    }
   },
   "outputs": [
    {
     "data": {
      "image/svg+xml": [
       "<?xml version=\"1.0\" encoding=\"UTF-8\" standalone=\"no\"?><svg xmlns=\"http://www.w3.org/2000/svg\" xmlns:xlink=\"http://www.w3.org/1999/xlink\" contentStyleType=\"text/css\" height=\"176px\" preserveAspectRatio=\"none\" style=\"width:287px;height:176px;background:#FFFFFF;\" version=\"1.1\" viewBox=\"0 0 287 176\" width=\"287px\" zoomAndPan=\"magnify\"><defs/><g><!--MD5=[fbc87193dbaf4d95561dea2c320d4a47]\n",
       "cluster E1--><g id=\"cluster_E1\"><a href=\"psysml:77badc07-b316-4281-ac3a-fbb5ce5d6d5a\" target=\"_top\" title=\"psysml:77badc07-b316-4281-ac3a-fbb5ce5d6d5a\" xlink:actuate=\"onRequest\" xlink:href=\"psysml:77badc07-b316-4281-ac3a-fbb5ce5d6d5a\" xlink:show=\"new\" xlink:title=\"psysml:77badc07-b316-4281-ac3a-fbb5ce5d6d5a\" xlink:type=\"simple\"><polygon fill=\"none\" points=\"16,6,220.9375,6,227.9375,28.2969,270,28.2969,270,169,16,169,16,6\" style=\"stroke:#000000;stroke-width:1.5;\"/><line style=\"stroke:#000000;stroke-width:1.5;\" x1=\"16\" x2=\"227.9375\" y1=\"28.2969\" y2=\"28.2969\"/><text fill=\"#000000\" font-family=\"sans-serif\" font-size=\"14\" font-weight=\"bold\" lengthAdjust=\"spacing\" textLength=\"198.9375\" x=\"20\" y=\"20.9951\">TextualRepresentationTest</text></a></g><!--MD5=[d5e69f78d87373223dbae638b30a9c99]\n",
       "cluster E3--><g id=\"cluster_E3\"><a href=\"psysml:90c9f2e5-1ab8-4a82-830f-194d1afced28\" target=\"_top\" title=\"psysml:90c9f2e5-1ab8-4a82-830f-194d1afced28\" xlink:actuate=\"onRequest\" xlink:href=\"psysml:90c9f2e5-1ab8-4a82-830f-194d1afced28\" xlink:show=\"new\" xlink:title=\"psysml:90c9f2e5-1ab8-4a82-830f-194d1afced28\" xlink:type=\"simple\"><rect fill=\"#FFFFFF\" height=\"89.5\" id=\"E3\" style=\"stroke:#383838;stroke-width:1.5;\" width=\"100\" x=\"122.5\" y=\"63.5\"/><text fill=\"#000000\" font-family=\"sans-serif\" font-size=\"12\" font-style=\"italic\" lengthAdjust=\"spacing\" textLength=\"81\" x=\"132\" y=\"79.6387\">«action  def»</text><text fill=\"#000000\" font-family=\"sans-serif\" font-size=\"14\" lengthAdjust=\"spacing\" textLength=\"31\" x=\"157\" y=\"95.4639\">setX</text><line style=\"stroke:#383838;stroke-width:1.0;\" x1=\"122.5\" x2=\"222.5\" y1=\"103.7656\" y2=\"103.7656\"/></a></g><g><a href=\"psysml:4094f6a7-157d-410f-a652-5cd39e1c0fe4\" target=\"_top\" title=\"psysml:4094f6a7-157d-410f-a652-5cd39e1c0fe4\" xlink:actuate=\"onRequest\" xlink:href=\"psysml:4094f6a7-157d-410f-a652-5cd39e1c0fe4\" xlink:show=\"new\" xlink:title=\"psysml:4094f6a7-157d-410f-a652-5cd39e1c0fe4\" xlink:type=\"simple\"><rect fill=\"#FFFFFF\" height=\"45.2656\" id=\"E2\" style=\"stroke:#383838;stroke-width:1.5;\" width=\"76\" x=\"32\" y=\"41\"/><text fill=\"#000000\" font-family=\"sans-serif\" font-size=\"12\" font-style=\"italic\" lengthAdjust=\"spacing\" textLength=\"69\" x=\"35.5\" y=\"57.1387\">«item  def»</text><text fill=\"#000000\" font-family=\"sans-serif\" font-size=\"14\" lengthAdjust=\"spacing\" textLength=\"10\" x=\"65\" y=\"72.9639\">C</text></a></g><text fill=\"#000000\" font-family=\"sans-serif\" font-size=\"14\" lengthAdjust=\"spacing\" textLength=\"8\" x=\"145\" y=\"42.1982\">c</text><rect fill=\"#FFFFFF\" height=\"12\" style=\"stroke:#181818;stroke-width:1.5;\" width=\"12\" x=\"143\" y=\"57.5\"/><text fill=\"#000000\" font-family=\"sans-serif\" font-size=\"14\" lengthAdjust=\"spacing\" textLength=\"38\" x=\"177\" y=\"42.1982\">newX</text><rect fill=\"#FFFFFF\" height=\"12\" style=\"stroke:#181818;stroke-width:1.5;\" width=\"12\" x=\"190\" y=\"57.5\"/><!--MD5=[ab48b14ad03a70c22af4fc077728cf1d]\n",
       "@startuml\r\n",
       "skin sysmlbw\r\n",
       "skinparam monochrome true\r\n",
       "skinparam wrapWidth 300\r\n",
       "hide circle\r\n",
       "skinparam linetype ortho\r\n",
       "skinparam ranksep 10\r\n",
       "skinparam rectangle {\r\n",
       " backgroundColor<<block>> LightGreen\r\n",
       "}\r\n",
       "\r\n",
       "package \"TextualRepresentationTest\" as E1  [[psysml:77badc07-b316-4281-ac3a-fbb5ce5d6d5a ]]  {\r\n",
       "def \"C\" as E2  <<(T,blue) item  def>> [[psysml:4094f6a7-157d-410f-a652-5cd39e1c0fe4 ]] \r\n",
       "rec def \"setX\" as E3  <<(T,blue) action  def>> [[psysml:90c9f2e5-1ab8-4a82-830f-194d1afced28 ]] {\r\n",
       "portin \"c\" as E4  [[psysml:eca695b7-e4ea-4848-82b9-964f1ac61a4c ]] \r\n",
       "portin \"newX\" as E5  [[psysml:5108d877-3142-4d1e-a057-58c6f6613775 ]] \r\n",
       "}\r\n",
       "\r\n",
       "}\r\n",
       "@enduml\r\n",
       "\n",
       "PlantUML version 1.2022.7(Mon Aug 22 17:01:30 UTC 2022)\n",
       "(EPL source distribution)\n",
       "Java Runtime: OpenJDK Runtime Environment\n",
       "JVM: OpenJDK 64-Bit Server VM\n",
       "Default Encoding: UTF-8\n",
       "Language: en\n",
       "Country: null\n",
       "--></g></svg>"
      ]
     },
     "execution_count": 54,
     "metadata": {},
     "output_type": "execute_result"
    }
   ],
   "source": [
    "%viz --style=\"ORTHOLINE\" --view=\"Interconnection\" \"TextualRepresentationTest\""
   ]
  },
  {
   "cell_type": "code",
   "execution_count": 55,
   "id": "25211cd0",
   "metadata": {
    "execution": {
     "iopub.execute_input": "2024-12-16T14:19:29.369006Z",
     "iopub.status.busy": "2024-12-16T14:19:29.368779Z",
     "iopub.status.idle": "2024-12-16T14:19:29.386185Z",
     "shell.execute_reply": "2024-12-16T14:19:29.385997Z"
    }
   },
   "outputs": [
    {
     "data": {
      "image/svg+xml": [
       "<?xml version=\"1.0\" encoding=\"UTF-8\" standalone=\"no\"?><svg xmlns=\"http://www.w3.org/2000/svg\" xmlns:xlink=\"http://www.w3.org/1999/xlink\" contentStyleType=\"text/css\" height=\"121px\" preserveAspectRatio=\"none\" style=\"width:148px;height:121px;background:#FFFFFF;\" version=\"1.1\" viewBox=\"0 0 148 121\" width=\"148px\" zoomAndPan=\"magnify\"><defs/><g><!--MD5=[fbc87193dbaf4d95561dea2c320d4a47]\n",
       "cluster E1--><g id=\"cluster_E1\"><a href=\"psysml:90c9f2e5-1ab8-4a82-830f-194d1afced28\" target=\"_top\" title=\"psysml:90c9f2e5-1ab8-4a82-830f-194d1afced28\" xlink:actuate=\"onRequest\" xlink:href=\"psysml:90c9f2e5-1ab8-4a82-830f-194d1afced28\" xlink:show=\"new\" xlink:title=\"psysml:90c9f2e5-1ab8-4a82-830f-194d1afced28\" xlink:type=\"simple\"><rect fill=\"#FFFFFF\" height=\"73\" id=\"E1\" style=\"stroke:#383838;stroke-width:1.5;\" width=\"134\" x=\"7\" y=\"42.0986\"/><text fill=\"#000000\" font-family=\"sans-serif\" font-size=\"12\" font-style=\"italic\" lengthAdjust=\"spacing\" textLength=\"81\" x=\"33.5\" y=\"58.2373\">«action  def»</text><text fill=\"#000000\" font-family=\"sans-serif\" font-size=\"14\" lengthAdjust=\"spacing\" textLength=\"31\" x=\"58.5\" y=\"74.0625\">setX</text><line style=\"stroke:#383838;stroke-width:1.0;\" x1=\"7\" x2=\"141\" y1=\"82.3643\" y2=\"82.3643\"/></a></g><text fill=\"#000000\" font-family=\"sans-serif\" font-size=\"14\" lengthAdjust=\"spacing\" textLength=\"8\" x=\"21\" y=\"20.7969\">c</text><rect fill=\"#FFFFFF\" height=\"12\" style=\"stroke:#181818;stroke-width:1.5;\" width=\"12\" x=\"19\" y=\"36.0986\"/><text fill=\"#000000\" font-family=\"sans-serif\" font-size=\"14\" lengthAdjust=\"spacing\" textLength=\"38\" x=\"53\" y=\"20.7969\">newX</text><rect fill=\"#FFFFFF\" height=\"12\" style=\"stroke:#181818;stroke-width:1.5;\" width=\"12\" x=\"66\" y=\"36.0986\"/><!--MD5=[c069a196df3ed598c44da54c6db49b16]\n",
       "@startuml\r\n",
       "skin sysmlbw\r\n",
       "skinparam monochrome true\r\n",
       "skinparam wrapWidth 300\r\n",
       "hide circle\r\n",
       "skinparam linetype ortho\r\n",
       "skinparam ranksep 8\r\n",
       "\r\n",
       "rec def \"setX\" as E1  <<(T,blue) action  def>> [[psysml:90c9f2e5-1ab8-4a82-830f-194d1afced28 ]] {\r\n",
       "portin \"c\" as E2  [[psysml:eca695b7-e4ea-4848-82b9-964f1ac61a4c ]] \r\n",
       "portin \"newX\" as E3  [[psysml:5108d877-3142-4d1e-a057-58c6f6613775 ]] \r\n",
       "}\r\n",
       "\r\n",
       "@enduml\r\n",
       "\n",
       "PlantUML version 1.2022.7(Mon Aug 22 17:01:30 UTC 2022)\n",
       "(EPL source distribution)\n",
       "Java Runtime: OpenJDK Runtime Environment\n",
       "JVM: OpenJDK 64-Bit Server VM\n",
       "Default Encoding: UTF-8\n",
       "Language: en\n",
       "Country: null\n",
       "--></g></svg>"
      ]
     },
     "execution_count": 55,
     "metadata": {},
     "output_type": "execute_result"
    }
   ],
   "source": [
    "%viz --style=\"ORTHOLINE\" --view=\"Action\" \"TextualRepresentationTest\""
   ]
  },
  {
   "cell_type": "code",
   "execution_count": 56,
   "id": "4596549c",
   "metadata": {
    "execution": {
     "iopub.execute_input": "2024-12-16T14:19:29.439955Z",
     "iopub.status.busy": "2024-12-16T14:19:29.439716Z",
     "iopub.status.idle": "2024-12-16T14:19:29.444867Z",
     "shell.execute_reply": "2024-12-16T14:19:29.444599Z"
    }
   },
   "outputs": [
    {
     "data": {
      "image/svg+xml": [
       "<?xml version=\"1.0\" encoding=\"UTF-8\" standalone=\"no\"?><svg xmlns=\"http://www.w3.org/2000/svg\" xmlns:xlink=\"http://www.w3.org/1999/xlink\" contentStyleType=\"text/css\" height=\"10px\" preserveAspectRatio=\"none\" style=\"width:10px;height:10px;background:#FFFFFF;\" version=\"1.1\" viewBox=\"0 0 10 10\" width=\"10px\" zoomAndPan=\"magnify\"><defs/><g><!--MD5=[5b6eb85285460e34b0e63326afe72cc5]\n",
       "@startuml\r\n",
       "skin sysmlbw\r\n",
       "skinparam monochrome true\r\n",
       "skinparam wrapWidth 300\r\n",
       "hide circle\r\n",
       "skinparam linetype ortho\r\n",
       "skinparam roundcorner 20\r\n",
       "skinparam BoxPadding 20\r\n",
       "skinparam SequenceBoxBackgroundColor #white\r\n",
       "skinparam style strictuml\r\n",
       "skinparam maxMessageSize 100\r\n",
       "\r\n",
       "@enduml\r\n",
       "\n",
       "PlantUML version 1.2022.7(Mon Aug 22 17:01:30 UTC 2022)\n",
       "(EPL source distribution)\n",
       "Java Runtime: OpenJDK Runtime Environment\n",
       "JVM: OpenJDK 64-Bit Server VM\n",
       "Default Encoding: UTF-8\n",
       "Language: en\n",
       "Country: null\n",
       "--></g></svg>"
      ]
     },
     "execution_count": 56,
     "metadata": {},
     "output_type": "execute_result"
    }
   ],
   "source": [
    "%viz --style=\"ORTHOLINE\" --view=\"Sequence\" \"TextualRepresentationTest\""
   ]
  },
  {
   "cell_type": "code",
   "execution_count": 57,
   "id": "8061ee0c",
   "metadata": {
    "execution": {
     "iopub.execute_input": "2024-12-16T14:19:29.501335Z",
     "iopub.status.busy": "2024-12-16T14:19:29.500969Z",
     "iopub.status.idle": "2024-12-16T14:19:29.522428Z",
     "shell.execute_reply": "2024-12-16T14:19:29.521317Z"
    }
   },
   "outputs": [
    {
     "data": {
      "image/svg+xml": [
       "<?xml version=\"1.0\" encoding=\"UTF-8\" standalone=\"no\"?><svg xmlns=\"http://www.w3.org/2000/svg\" xmlns:xlink=\"http://www.w3.org/1999/xlink\" contentStyleType=\"text/css\" height=\"256px\" preserveAspectRatio=\"none\" style=\"width:346px;height:256px;background:#FFFFFF;\" version=\"1.1\" viewBox=\"0 0 346 256\" width=\"346px\" zoomAndPan=\"magnify\"><defs/><g><!--MD5=[fbc87193dbaf4d95561dea2c320d4a47]\n",
       "cluster E1--><g id=\"cluster_E1\"><a href=\"psysml:77badc07-b316-4281-ac3a-fbb5ce5d6d5a\" target=\"_top\" title=\"psysml:77badc07-b316-4281-ac3a-fbb5ce5d6d5a\" xlink:actuate=\"onRequest\" xlink:href=\"psysml:77badc07-b316-4281-ac3a-fbb5ce5d6d5a\" xlink:show=\"new\" xlink:title=\"psysml:77badc07-b316-4281-ac3a-fbb5ce5d6d5a\" xlink:type=\"simple\"><polygon fill=\"none\" points=\"16,6,220.9375,6,227.9375,28.2969,329,28.2969,329,249.5,16,249.5,16,6\" style=\"stroke:#000000;stroke-width:1.5;\"/><line style=\"stroke:#000000;stroke-width:1.5;\" x1=\"16\" x2=\"227.9375\" y1=\"28.2969\" y2=\"28.2969\"/><text fill=\"#000000\" font-family=\"sans-serif\" font-size=\"14\" font-weight=\"bold\" lengthAdjust=\"spacing\" textLength=\"198.9375\" x=\"20\" y=\"20.9951\">TextualRepresentationTest</text></a></g><!--MD5=[f6df4d0ebaf0b5dfb2ced0ae5af7c670]\n",
       "cluster E4--><g id=\"cluster_E4\"><a href=\"psysml:90c9f2e5-1ab8-4a82-830f-194d1afced28\" target=\"_top\" title=\"psysml:90c9f2e5-1ab8-4a82-830f-194d1afced28\" xlink:actuate=\"onRequest\" xlink:href=\"psysml:90c9f2e5-1ab8-4a82-830f-194d1afced28\" xlink:show=\"new\" xlink:title=\"psysml:90c9f2e5-1ab8-4a82-830f-194d1afced28\" xlink:type=\"simple\"><rect fill=\"#FFFFFF\" height=\"155\" id=\"E4\" style=\"stroke:#383838;stroke-width:1.5;\" width=\"134\" x=\"179\" y=\"78.5\"/><text fill=\"#000000\" font-family=\"sans-serif\" font-size=\"12\" font-style=\"italic\" lengthAdjust=\"spacing\" textLength=\"81\" x=\"205.5\" y=\"94.6387\">«action  def»</text><text fill=\"#000000\" font-family=\"sans-serif\" font-size=\"14\" lengthAdjust=\"spacing\" textLength=\"31\" x=\"230.5\" y=\"110.4639\">setX</text><line style=\"stroke:#383838;stroke-width:1.0;\" x1=\"179\" x2=\"313\" y1=\"118.7656\" y2=\"118.7656\"/></a></g><!--MD5=[b4997ac47864f28c2f74865a473b2911]\n",
       "class E2--><a href=\"psysml:4094f6a7-157d-410f-a652-5cd39e1c0fe4\" target=\"_top\" title=\"psysml:4094f6a7-157d-410f-a652-5cd39e1c0fe4\" xlink:actuate=\"onRequest\" xlink:href=\"psysml:4094f6a7-157d-410f-a652-5cd39e1c0fe4\" xlink:show=\"new\" xlink:title=\"psysml:4094f6a7-157d-410f-a652-5cd39e1c0fe4\" xlink:type=\"simple\"><g id=\"elem_E2\"><rect fill=\"#FFFFFF\" height=\"75.0813\" id=\"E2\" style=\"stroke:#181818;stroke-width:0.5;\" width=\"74\" x=\"57\" y=\"41\"/><text fill=\"#000000\" font-family=\"sans-serif\" font-size=\"12\" font-style=\"italic\" lengthAdjust=\"spacing\" textLength=\"69\" x=\"59.5\" y=\"57.1387\">«item  def»</text><text fill=\"#000000\" font-family=\"sans-serif\" font-size=\"14\" lengthAdjust=\"spacing\" textLength=\"10\" x=\"89\" y=\"72.9639\">C</text><line style=\"stroke:#181818;stroke-width:0.5;\" x1=\"58\" x2=\"130\" y1=\"81.2656\" y2=\"81.2656\"/><text fill=\"#000000\" font-family=\"sans-serif\" font-size=\"14\" lengthAdjust=\"spacing\" textLength=\"46\" x=\"63\" y=\"108.7795\">x: Real</text><text fill=\"#000000\" font-family=\"sans-serif\" font-size=\"14\" font-style=\"italic\" lengthAdjust=\"spacing\" textLength=\"66\" x=\"61\" y=\"93.6123\">attributes</text></g></a><!--MD5=[09b614a08d8cba4a07c9adeb5e0fee81]\n",
       "class E3--><a href=\"psysml:bff165c1-58b3-4dd4-8269-a7769b97eb56\" target=\"_top\" title=\"psysml:bff165c1-58b3-4dd4-8269-a7769b97eb56\" xlink:actuate=\"onRequest\" xlink:href=\"psysml:bff165c1-58b3-4dd4-8269-a7769b97eb56\" xlink:show=\"new\" xlink:title=\"psysml:bff165c1-58b3-4dd4-8269-a7769b97eb56\" xlink:type=\"simple\"><g id=\"elem_E3\"><rect fill=\"#FFFFFF\" height=\"48.2656\" id=\"E3\" rx=\"10\" ry=\"10\" style=\"stroke:#181818;stroke-width:0.5;\" width=\"124\" x=\"32\" y=\"176\"/><text fill=\"#000000\" font-family=\"sans-serif\" font-size=\"12\" font-style=\"italic\" lengthAdjust=\"spacing\" textLength=\"122\" x=\"33\" y=\"192.1387\">«assert constraint»</text><text fill=\"#000000\" font-family=\"sans-serif\" font-size=\"14\" lengthAdjust=\"spacing\" textLength=\"83\" x=\"48.5\" y=\"207.9639\">x_constraint</text><line style=\"stroke:#181818;stroke-width:0.5;\" x1=\"33\" x2=\"155\" y1=\"216.2656\" y2=\"216.2656\"/></g></a><text fill=\"#000000\" font-family=\"sans-serif\" font-size=\"14\" lengthAdjust=\"spacing\" textLength=\"8\" x=\"193\" y=\"57.1982\">c</text><rect fill=\"#FFFFFF\" height=\"12\" style=\"stroke:#181818;stroke-width:1.5;\" width=\"12\" x=\"191\" y=\"72.5\"/><text fill=\"#000000\" font-family=\"sans-serif\" font-size=\"14\" lengthAdjust=\"spacing\" textLength=\"38\" x=\"225\" y=\"57.1982\">newX</text><rect fill=\"#FFFFFF\" height=\"12\" style=\"stroke:#181818;stroke-width:1.5;\" width=\"12\" x=\"238\" y=\"72.5\"/><!--MD5=[209b3feb70ccb6233bfe1053d122c12c]\n",
       "reverse link E2 to E3--><g id=\"link_E2_E3\"><a href=\"psysml:15e2216a-3ffa-458d-9ef3-f5d48fbfe7fe\" target=\"_top\" title=\"psysml:15e2216a-3ffa-458d-9ef3-f5d48fbfe7fe\" xlink:actuate=\"onRequest\" xlink:href=\"psysml:15e2216a-3ffa-458d-9ef3-f5d48fbfe7fe\" xlink:show=\"new\" xlink:title=\"psysml:15e2216a-3ffa-458d-9ef3-f5d48fbfe7fe\" xlink:type=\"simple\"><path d=\"M94,129.28 C94,129.28 94,175.66 94,175.66 \" fill=\"none\" id=\"E2-backto-E3\" style=\"stroke:#181818;stroke-width:1.0;\"/><polygon fill=\"#181818\" points=\"94,116.28,90,122.28,94,128.28,98,122.28,94,116.28\" style=\"stroke:#181818;stroke-width:1.0;\"/></a></g><!--MD5=[820c3021ac81be38121eed0a9659cb13]\n",
       "@startuml\r\n",
       "skin sysmlbw\r\n",
       "skinparam monochrome true\r\n",
       "skinparam wrapWidth 300\r\n",
       "hide circle\r\n",
       "skinparam linetype ortho\r\n",
       "\r\n",
       "package \"TextualRepresentationTest\" as E1  [[psysml:77badc07-b316-4281-ac3a-fbb5ce5d6d5a ]]  {\r\n",
       "comp def \"C\" as E2  <<(T,blue) item  def>> [[psysml:4094f6a7-157d-410f-a652-5cd39e1c0fe4 ]] {\r\n",
       "##//attributes//##\r\n",
       "x: Real\r\n",
       "}\r\n",
       "comp usage \"x_constraint  \" as E3  <<(T,blue) assert constraint>> [[psysml:bff165c1-58b3-4dd4-8269-a7769b97eb56 ]] {\r\n",
       "}\r\n",
       "rec def \"setX\" as E4  <<(T,blue) action  def>> [[psysml:90c9f2e5-1ab8-4a82-830f-194d1afced28 ]] {\r\n",
       "portin \"c\" as E5  [[psysml:eca695b7-e4ea-4848-82b9-964f1ac61a4c ]] \r\n",
       "portin \"newX\" as E6  [[psysml:5108d877-3142-4d1e-a057-58c6f6613775 ]] \r\n",
       "}\r\n",
       "\r\n",
       "}\r\n",
       "E2 *- - E3 [[psysml:15e2216a-3ffa-458d-9ef3-f5d48fbfe7fe ]] \r\n",
       "@enduml\r\n",
       "\n",
       "PlantUML version 1.2022.7(Mon Aug 22 17:01:30 UTC 2022)\n",
       "(EPL source distribution)\n",
       "Java Runtime: OpenJDK Runtime Environment\n",
       "JVM: OpenJDK 64-Bit Server VM\n",
       "Default Encoding: UTF-8\n",
       "Language: en\n",
       "Country: null\n",
       "--></g></svg>"
      ]
     },
     "execution_count": 57,
     "metadata": {},
     "output_type": "execute_result"
    }
   ],
   "source": [
    "%viz --style=\"ORTHOLINE\" --view=\"MIXED\" \"TextualRepresentationTest\""
   ]
  }
 ],
 "metadata": {
  "kernelspec": {
   "display_name": "SysML",
   "language": "sysml",
   "name": "sysml"
  },
  "language_info": {
   "codemirror_mode": "sysml",
   "file_extension": ".sysml",
   "mimetype": "text/x-sysml",
   "name": "SysML",
   "pygments_lexer": "java",
   "version": "1.0.0"
  }
 },
 "nbformat": 4,
 "nbformat_minor": 5
}
