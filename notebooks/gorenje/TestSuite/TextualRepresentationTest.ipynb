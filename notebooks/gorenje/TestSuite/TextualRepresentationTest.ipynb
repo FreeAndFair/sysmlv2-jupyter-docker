{
 "cells": [
  {
   "cell_type": "markdown",
   "id": "warming-investigator",
   "metadata": {},
   "source": [
    "# SysML v2 Test Suite\n",
    "\n",
    "This can notebook can be cleared using menu `Edit --> Clear All Outputs` and then all cells can be\n",
    "run using menu `Run --> Run All Cells`.\n",
    "\n",
    "**WARNING**: This file is generated, all modifications here will be ignored.\n"
   ]
  },
  {
   "cell_type": "markdown",
   "id": "potential-friendship",
   "metadata": {},
   "source": [
    "## File: ../../sysml/src/examples/Simple Tests/TextualRepresentationTest.sysml"
   ]
  },
  {
   "cell_type": "code",
   "execution_count": 1,
   "id": "civic-castle",
   "metadata": {
    "execution": {
     "iopub.execute_input": "2021-03-25T15:08:26.657496Z",
     "iopub.status.busy": "2021-03-25T15:08:26.652598Z",
     "iopub.status.idle": "2021-03-25T15:08:26.906735Z",
     "shell.execute_reply": "2021-03-25T15:08:26.905481Z"
    }
   },
   "outputs": [
    {
     "data": {
      "text/plain": [
       "Package TextualRepresentationTest (054b8efe-ce89-4743-aee9-0b2a59800f7c)\n"
      ]
     },
     "execution_count": 1,
     "metadata": {},
     "output_type": "execute_result"
    }
   ],
   "source": [
    "package TextualRepresentationTest {\n",
    "\timport ScalarValues::Real;\n",
    "\t\n",
    "\titem def C {\n",
    "\t    attribute x: Real;\n",
    "\t    assert constraint x_constraint;\n",
    "\t    rep inOCL about x_constraint language \"ocl\" \n",
    "\t        /* self.x > 0.0 */\n",
    "\t}\n",
    "\t\n",
    "\taction def setX(c : C, newX : Real) {\n",
    "\t    language \"alf\" \n",
    "\t        /* c.x = newX;\n",
    "\t         * WriteLine(\"Set new x\");\n",
    "\t         */\n",
    "\t}\n",
    "\t\n",
    "}"
   ]
  },
  {
   "cell_type": "code",
   "execution_count": 2,
   "id": "assumed-stability",
   "metadata": {
    "execution": {
     "iopub.execute_input": "2021-03-25T15:08:26.958967Z",
     "iopub.status.busy": "2021-03-25T15:08:26.957861Z",
     "iopub.status.idle": "2021-03-25T15:08:28.087918Z",
     "shell.execute_reply": "2021-03-25T15:08:28.088379Z"
    }
   },
   "outputs": [
    {
     "data": {
      "image/svg+xml": [
       "<?xml version=\"1.0\" encoding=\"UTF-8\" standalone=\"no\"?><svg xmlns=\"http://www.w3.org/2000/svg\" xmlns:xlink=\"http://www.w3.org/1999/xlink\" contentScriptType=\"application/ecmascript\" contentStyleType=\"text/css\" height=\"268px\" preserveAspectRatio=\"none\" style=\"width:458px;height:268px;\" version=\"1.1\" viewBox=\"0 0 458 268\" width=\"458px\" zoomAndPan=\"magnify\"><defs><filter height=\"300%\" id=\"f1j5cqpi5n6qu5\" width=\"300%\" x=\"-1\" y=\"-1\"><feGaussianBlur result=\"blurOut\" stdDeviation=\"2.0\"/><feColorMatrix in=\"blurOut\" result=\"blurOut2\" type=\"matrix\" values=\"0 0 0 0 0 0 0 0 0 0 0 0 0 0 0 0 0 0 .4 0\"/><feOffset dx=\"4.0\" dy=\"4.0\" in=\"blurOut2\" result=\"blurOut3\"/><feBlend in=\"SourceGraphic\" in2=\"blurOut3\" mode=\"normal\"/></filter></defs><g><!--MD5=[fbc87193dbaf4d95561dea2c320d4a47]\n",
       "cluster E1--><a href=\"psysml:0fc68415-d7d0-4850-b93e-796cf2adc089\" target=\"_top\" title=\"psysml:0fc68415-d7d0-4850-b93e-796cf2adc089\" xlink:actuate=\"onRequest\" xlink:href=\"psysml:0fc68415-d7d0-4850-b93e-796cf2adc089\" xlink:show=\"new\" xlink:title=\"psysml:0fc68415-d7d0-4850-b93e-796cf2adc089\" xlink:type=\"simple\"><polygon fill=\"#FFFFFF\" filter=\"url(#f1j5cqpi5n6qu5)\" points=\"16,6,236,6,243,28.2969,436,28.2969,436,256,16,256,16,6\" style=\"stroke: #000000; stroke-width: 1.5;\"/><line style=\"stroke: #000000; stroke-width: 1.5;\" x1=\"16\" x2=\"243\" y1=\"28.2969\" y2=\"28.2969\"/><text fill=\"#000000\" font-family=\"sans-serif\" font-size=\"14\" font-weight=\"bold\" lengthAdjust=\"spacingAndGlyphs\" textLength=\"214\" x=\"20\" y=\"20.9951\">TextualRepresentationTest</text></a><!--MD5=[de5ec2e2e8f62f467e546659f5068c88]\n",
       "cluster E5--><a href=\"psysml:ff423fdb-a5ad-4383-b75e-3a1966f8baa4\" target=\"_top\" title=\"psysml:ff423fdb-a5ad-4383-b75e-3a1966f8baa4\" xlink:actuate=\"onRequest\" xlink:href=\"psysml:ff423fdb-a5ad-4383-b75e-3a1966f8baa4\" xlink:show=\"new\" xlink:title=\"psysml:ff423fdb-a5ad-4383-b75e-3a1966f8baa4\" xlink:type=\"simple\"><rect fill=\"#FFFFFF\" filter=\"url(#f1j5cqpi5n6qu5)\" height=\"155\" id=\"E5\" style=\"stroke: #A80036; stroke-width: 1.5;\" width=\"96\" x=\"294.5\" y=\"85\"/><rect fill=\"#FEFECE\" height=\"37.9375\" style=\"stroke: #A80036; stroke-width: 1.5;\" width=\"96\" x=\"294.5\" y=\"85\"/><text fill=\"#000000\" font-family=\"sans-serif\" font-size=\"12\" font-style=\"italic\" lengthAdjust=\"spacingAndGlyphs\" textLength=\"77\" x=\"304\" y=\"101.1387\">«action def»</text><text fill=\"#000000\" font-family=\"sans-serif\" font-size=\"12\" lengthAdjust=\"spacingAndGlyphs\" textLength=\"27\" x=\"329\" y=\"115.1074\">setX</text></a><!--MD5=[b4997ac47864f28c2f74865a473b2911]\n",
       "class E2--><a href=\"psysml:3f2a97d7-c1a2-4f9b-b443-e0389101b303\" target=\"_top\" title=\"psysml:3f2a97d7-c1a2-4f9b-b443-e0389101b303\" xlink:actuate=\"onRequest\" xlink:href=\"psysml:3f2a97d7-c1a2-4f9b-b443-e0389101b303\" xlink:show=\"new\" xlink:title=\"psysml:3f2a97d7-c1a2-4f9b-b443-e0389101b303\" xlink:type=\"simple\"><rect fill=\"#FEFECE\" filter=\"url(#f1j5cqpi5n6qu5)\" height=\"45.9375\" id=\"E2\" style=\"stroke: #A80036; stroke-width: 1.5;\" width=\"100\" x=\"178\" y=\"62\"/><ellipse cx=\"193\" cy=\"80.9688\" fill=\"#0000FF\" rx=\"11\" ry=\"11\" style=\"stroke: #A80036; stroke-width: 1.0;\"/><path d=\"M193.8438,87.7188 L191.3906,87.7188 L191.3906,77.4688 L188.25,77.4688 L188.25,75.3281 L196.9844,75.3281 L196.9844,77.4688 L193.8438,77.4688 L193.8438,87.7188 Z \"/><text fill=\"#000000\" font-family=\"sans-serif\" font-size=\"12\" font-style=\"italic\" lengthAdjust=\"spacingAndGlyphs\" textLength=\"72\" x=\"205\" y=\"78.1387\">«dataType»</text><text fill=\"#000000\" font-family=\"sans-serif\" font-size=\"12\" lengthAdjust=\"spacingAndGlyphs\" textLength=\"27\" x=\"227.5\" y=\"92.1074\">Real</text><line style=\"stroke: #A80036; stroke-width: 1.5;\" x1=\"179\" x2=\"277\" y1=\"99.9375\" y2=\"99.9375\"/></a><!--MD5=[09b614a08d8cba4a07c9adeb5e0fee81]\n",
       "class E3--><a href=\"psysml:bb207011-903d-4a71-a2f5-e51b80009fec\" target=\"_top\" title=\"psysml:bb207011-903d-4a71-a2f5-e51b80009fec\" xlink:actuate=\"onRequest\" xlink:href=\"psysml:bb207011-903d-4a71-a2f5-e51b80009fec\" xlink:show=\"new\" xlink:title=\"psysml:bb207011-903d-4a71-a2f5-e51b80009fec\" xlink:type=\"simple\"><rect fill=\"#FEFECE\" filter=\"url(#f1j5cqpi5n6qu5)\" height=\"88.3516\" id=\"E3\" style=\"stroke: #A80036; stroke-width: 1.5;\" width=\"111\" x=\"31.5\" y=\"41\"/><ellipse cx=\"54.6\" cy=\"59.9688\" fill=\"#0000FF\" rx=\"11\" ry=\"11\" style=\"stroke: #A80036; stroke-width: 1.0;\"/><path d=\"M55.4438,66.7188 L52.9906,66.7188 L52.9906,56.4688 L49.85,56.4688 L49.85,54.3281 L58.5844,54.3281 L58.5844,56.4688 L55.4438,56.4688 L55.4438,66.7188 Z \"/><text fill=\"#000000\" font-family=\"sans-serif\" font-size=\"12\" font-style=\"italic\" lengthAdjust=\"spacingAndGlyphs\" textLength=\"65\" x=\"68.4\" y=\"57.1387\">«item def»</text><text fill=\"#000000\" font-family=\"sans-serif\" font-size=\"12\" lengthAdjust=\"spacingAndGlyphs\" textLength=\"8\" x=\"96.9\" y=\"71.1074\">C</text><line style=\"stroke: #A80036; stroke-width: 1.5;\" x1=\"32.5\" x2=\"141.5\" y1=\"78.9375\" y2=\"78.9375\"/><text fill=\"#000000\" font-family=\"sans-serif\" font-size=\"11\" lengthAdjust=\"spacingAndGlyphs\" textLength=\"38\" x=\"37.5\" y=\"93.1479\">x: Real</text><text fill=\"#000000\" font-family=\"sans-serif\" font-size=\"11\" lengthAdjust=\"spacingAndGlyphs\" textLength=\"69\" x=\"37.5\" y=\"122.7573\">x_constraint</text><line style=\"stroke: #A80036; stroke-width: 1.0;\" x1=\"32.5\" x2=\"35.5\" y1=\"106.1445\" y2=\"106.1445\"/><text fill=\"#000000\" font-family=\"sans-serif\" font-size=\"11\" lengthAdjust=\"spacingAndGlyphs\" textLength=\"103\" x=\"35.5\" y=\"109.4526\">assertConstraints</text><line style=\"stroke: #A80036; stroke-width: 1.0;\" x1=\"138.5\" x2=\"141.5\" y1=\"106.1445\" y2=\"106.1445\"/></a><text fill=\"#000000\" font-family=\"sans-serif\" font-size=\"14\" lengthAdjust=\"spacingAndGlyphs\" textLength=\"8\" x=\"315\" y=\"63.6982\">c</text><rect fill=\"#A80036\" height=\"12\" style=\"stroke: #FEFECE; stroke-width: 1.5;\" width=\"12\" x=\"313\" y=\"79\"/><text fill=\"#000000\" font-family=\"sans-serif\" font-size=\"14\" lengthAdjust=\"spacingAndGlyphs\" textLength=\"38\" x=\"347\" y=\"63.6982\">newX</text><rect fill=\"#A80036\" height=\"12\" style=\"stroke: #FEFECE; stroke-width: 1.5;\" width=\"12\" x=\"360\" y=\"79\"/><!--MD5=[bf9dea95e7142b364fb7986e3de9337f]\n",
       "@startuml\r\n",
       " \r\n",
       "package \"TextualRepresentationTest\" as E1  [[psysml:0fc68415-d7d0-4850-b93e-796cf2adc089 ]]  {\r\n",
       "comp def \"Real\" as E2  <<(T,blue)dataType>> [[psysml:3f2a97d7-c1a2-4f9b-b443-e0389101b303 ]] {\r\n",
       "}\r\n",
       "comp def \"C\" as E3  <<(T,blue)item def>> [[psysml:bb207011-903d-4a71-a2f5-e51b80009fec ]] {\r\n",
       "x: Real\r\n",
       "- - assertConstraints - -\r\n",
       "x_constraint\r\n",
       "}\r\n",
       "rec def \"setX\" as E5  <<(T,blue)action def>> [[psysml:ff423fdb-a5ad-4383-b75e-3a1966f8baa4 ]] {\r\n",
       "portin \"c\" as E6  [[psysml:4c2c889d-aea7-4bfd-be6e-45844659a6a1 ]] \r\n",
       "portin \"newX\" as E7  [[psysml:471b2978-4f3d-4f5c-bcaa-50341599c3a3 ]] \r\n",
       "}\r\n",
       "\r\n",
       "}\r\n",
       "@enduml\r\n",
       "\n",
       "PlantUML version 1.2020.13(Sat Jun 13 12:26:38 UTC 2020)\n",
       "(EPL source distribution)\n",
       "Java Runtime: OpenJDK Runtime Environment\n",
       "JVM: OpenJDK 64-Bit Server VM\n",
       "Default Encoding: UTF-8\n",
       "Language: en\n",
       "Country: null\n",
       "--></g></svg>"
      ]
     },
     "execution_count": 2,
     "metadata": {},
     "output_type": "execute_result"
    }
   ],
   "source": [
    "%viz --style=\"COMPTREE\" --view=\"Default\" \"TextualRepresentationTest\""
   ]
  },
  {
   "cell_type": "code",
   "execution_count": 3,
   "id": "handed-acceptance",
   "metadata": {
    "execution": {
     "iopub.execute_input": "2021-03-25T15:08:28.139504Z",
     "iopub.status.busy": "2021-03-25T15:08:28.139072Z",
     "iopub.status.idle": "2021-03-25T15:08:28.531771Z",
     "shell.execute_reply": "2021-03-25T15:08:28.532241Z"
    }
   },
   "outputs": [
    {
     "data": {
      "image/svg+xml": [
       "<?xml version=\"1.0\" encoding=\"UTF-8\" standalone=\"no\"?><svg xmlns=\"http://www.w3.org/2000/svg\" xmlns:xlink=\"http://www.w3.org/1999/xlink\" contentScriptType=\"application/ecmascript\" contentStyleType=\"text/css\" height=\"280px\" preserveAspectRatio=\"none\" style=\"width:316px;height:280px;\" version=\"1.1\" viewBox=\"0 0 316 280\" width=\"316px\" zoomAndPan=\"magnify\"><defs><filter height=\"300%\" id=\"f16yvx61qbi09d\" width=\"300%\" x=\"-1\" y=\"-1\"><feGaussianBlur result=\"blurOut\" stdDeviation=\"2.0\"/><feColorMatrix in=\"blurOut\" result=\"blurOut2\" type=\"matrix\" values=\"0 0 0 0 0 0 0 0 0 0 0 0 0 0 0 0 0 0 .4 0\"/><feOffset dx=\"4.0\" dy=\"4.0\" in=\"blurOut2\" result=\"blurOut3\"/><feBlend in=\"SourceGraphic\" in2=\"blurOut3\" mode=\"normal\"/></filter></defs><g><!--MD5=[fbc87193dbaf4d95561dea2c320d4a47]\n",
       "cluster E1--><a href=\"psysml:0fc68415-d7d0-4850-b93e-796cf2adc089\" target=\"_top\" title=\"psysml:0fc68415-d7d0-4850-b93e-796cf2adc089\" xlink:actuate=\"onRequest\" xlink:href=\"psysml:0fc68415-d7d0-4850-b93e-796cf2adc089\" xlink:show=\"new\" xlink:title=\"psysml:0fc68415-d7d0-4850-b93e-796cf2adc089\" xlink:type=\"simple\"><polygon fill=\"#FFFFFF\" filter=\"url(#f16yvx61qbi09d)\" points=\"16,6,236,6,243,28.2969,294,28.2969,294,268,16,268,16,6\" style=\"stroke: #000000; stroke-width: 1.5;\"/><line style=\"stroke: #000000; stroke-width: 1.5;\" x1=\"16\" x2=\"243\" y1=\"28.2969\" y2=\"28.2969\"/><text fill=\"#000000\" font-family=\"sans-serif\" font-size=\"14\" font-weight=\"bold\" lengthAdjust=\"spacingAndGlyphs\" textLength=\"214\" x=\"20\" y=\"20.9951\">TextualRepresentationTest</text></a><!--MD5=[b4997ac47864f28c2f74865a473b2911]\n",
       "class E2--><a href=\"psysml:3f2a97d7-c1a2-4f9b-b443-e0389101b303\" target=\"_top\" title=\"psysml:3f2a97d7-c1a2-4f9b-b443-e0389101b303\" xlink:actuate=\"onRequest\" xlink:href=\"psysml:3f2a97d7-c1a2-4f9b-b443-e0389101b303\" xlink:show=\"new\" xlink:title=\"psysml:3f2a97d7-c1a2-4f9b-b443-e0389101b303\" xlink:type=\"simple\"><rect fill=\"#FEFECE\" filter=\"url(#f16yvx61qbi09d)\" height=\"45.9375\" id=\"E2\" style=\"stroke: #A80036; stroke-width: 1.5;\" width=\"100\" x=\"32\" y=\"185\"/><ellipse cx=\"47\" cy=\"203.9688\" fill=\"#0000FF\" rx=\"11\" ry=\"11\" style=\"stroke: #A80036; stroke-width: 1.0;\"/><path d=\"M47.8438,210.7188 L45.3906,210.7188 L45.3906,200.4688 L42.25,200.4688 L42.25,198.3281 L50.9844,198.3281 L50.9844,200.4688 L47.8438,200.4688 L47.8438,210.7188 Z \"/><text fill=\"#000000\" font-family=\"sans-serif\" font-size=\"12\" font-style=\"italic\" lengthAdjust=\"spacingAndGlyphs\" textLength=\"72\" x=\"59\" y=\"201.1387\">«dataType»</text><text fill=\"#000000\" font-family=\"sans-serif\" font-size=\"12\" lengthAdjust=\"spacingAndGlyphs\" textLength=\"27\" x=\"81.5\" y=\"215.1074\">Real</text><line style=\"stroke: #A80036; stroke-width: 1.5;\" x1=\"33\" x2=\"131\" y1=\"222.9375\" y2=\"222.9375\"/></a><!--MD5=[09b614a08d8cba4a07c9adeb5e0fee81]\n",
       "class E3--><a href=\"psysml:bb207011-903d-4a71-a2f5-e51b80009fec\" target=\"_top\" title=\"psysml:bb207011-903d-4a71-a2f5-e51b80009fec\" xlink:actuate=\"onRequest\" xlink:href=\"psysml:bb207011-903d-4a71-a2f5-e51b80009fec\" xlink:show=\"new\" xlink:title=\"psysml:bb207011-903d-4a71-a2f5-e51b80009fec\" xlink:type=\"simple\"><rect fill=\"#FEFECE\" filter=\"url(#f16yvx61qbi09d)\" height=\"88.3516\" id=\"E3\" style=\"stroke: #A80036; stroke-width: 1.5;\" width=\"111\" x=\"167.5\" y=\"164\"/><ellipse cx=\"190.6\" cy=\"182.9688\" fill=\"#0000FF\" rx=\"11\" ry=\"11\" style=\"stroke: #A80036; stroke-width: 1.0;\"/><path d=\"M191.4438,189.7188 L188.9906,189.7188 L188.9906,179.4688 L185.85,179.4688 L185.85,177.3281 L194.5844,177.3281 L194.5844,179.4688 L191.4438,179.4688 L191.4438,189.7188 Z \"/><text fill=\"#000000\" font-family=\"sans-serif\" font-size=\"12\" font-style=\"italic\" lengthAdjust=\"spacingAndGlyphs\" textLength=\"65\" x=\"204.4\" y=\"180.1387\">«item def»</text><text fill=\"#000000\" font-family=\"sans-serif\" font-size=\"12\" lengthAdjust=\"spacingAndGlyphs\" textLength=\"8\" x=\"232.9\" y=\"194.1074\">C</text><line style=\"stroke: #A80036; stroke-width: 1.5;\" x1=\"168.5\" x2=\"277.5\" y1=\"201.9375\" y2=\"201.9375\"/><text fill=\"#000000\" font-family=\"sans-serif\" font-size=\"11\" lengthAdjust=\"spacingAndGlyphs\" textLength=\"38\" x=\"173.5\" y=\"216.1479\">x: Real</text><text fill=\"#000000\" font-family=\"sans-serif\" font-size=\"11\" lengthAdjust=\"spacingAndGlyphs\" textLength=\"69\" x=\"173.5\" y=\"245.7573\">x_constraint</text><line style=\"stroke: #A80036; stroke-width: 1.0;\" x1=\"168.5\" x2=\"171.5\" y1=\"229.1445\" y2=\"229.1445\"/><text fill=\"#000000\" font-family=\"sans-serif\" font-size=\"11\" lengthAdjust=\"spacingAndGlyphs\" textLength=\"103\" x=\"171.5\" y=\"232.4526\">assertConstraints</text><line style=\"stroke: #A80036; stroke-width: 1.0;\" x1=\"274.5\" x2=\"277.5\" y1=\"229.1445\" y2=\"229.1445\"/></a><!--MD5=[270fce915f116d4de14055a7c1d9a0f3]\n",
       "class E5--><a href=\"psysml:ff423fdb-a5ad-4383-b75e-3a1966f8baa4\" target=\"_top\" title=\"psysml:ff423fdb-a5ad-4383-b75e-3a1966f8baa4\" xlink:actuate=\"onRequest\" xlink:href=\"psysml:ff423fdb-a5ad-4383-b75e-3a1966f8baa4\" xlink:show=\"new\" xlink:title=\"psysml:ff423fdb-a5ad-4383-b75e-3a1966f8baa4\" xlink:type=\"simple\"><rect fill=\"#FEFECE\" filter=\"url(#f16yvx61qbi09d)\" height=\"45.9375\" id=\"E5\" style=\"stroke: #A80036; stroke-width: 1.5;\" width=\"105\" x=\"68.5\" y=\"41\"/><ellipse cx=\"83.5\" cy=\"59.9688\" fill=\"#0000FF\" rx=\"11\" ry=\"11\" style=\"stroke: #A80036; stroke-width: 1.0;\"/><path d=\"M84.3438,66.7188 L81.8906,66.7188 L81.8906,56.4688 L78.75,56.4688 L78.75,54.3281 L87.4844,54.3281 L87.4844,56.4688 L84.3438,56.4688 L84.3438,66.7188 Z \"/><text fill=\"#000000\" font-family=\"sans-serif\" font-size=\"12\" font-style=\"italic\" lengthAdjust=\"spacingAndGlyphs\" textLength=\"77\" x=\"95.5\" y=\"57.1387\">«action def»</text><text fill=\"#000000\" font-family=\"sans-serif\" font-size=\"12\" lengthAdjust=\"spacingAndGlyphs\" textLength=\"27\" x=\"120.5\" y=\"71.1074\">setX</text><line style=\"stroke: #A80036; stroke-width: 1.5;\" x1=\"69.5\" x2=\"172.5\" y1=\"78.9375\" y2=\"78.9375\"/></a><!--MD5=[6f107eb264eda4b26325f39a5516f1f3]\n",
       "reverse link E5 to E3--><a href=\"psysml:4c2c889d-aea7-4bfd-be6e-45844659a6a1\" target=\"_top\" title=\"psysml:4c2c889d-aea7-4bfd-be6e-45844659a6a1\" xlink:actuate=\"onRequest\" xlink:href=\"psysml:4c2c889d-aea7-4bfd-be6e-45844659a6a1\" xlink:show=\"new\" xlink:title=\"psysml:4c2c889d-aea7-4bfd-be6e-45844659a6a1\" xlink:type=\"simple\"><path d=\"M144.72,98.02 C158.79,117.61 176.79,142.67 191.98,163.82 \" fill=\"none\" id=\"E5&lt;-E3\" style=\"stroke: #A80036; stroke-width: 1.0;\"/><polygon fill=\"#FFFFFF\" points=\"136.94,87.19,137.1927,94.3967,143.9423,96.9352,143.6895,89.7285,136.94,87.19\" style=\"stroke: #A80036; stroke-width: 1.0;\"/><text fill=\"#000000\" font-family=\"sans-serif\" font-size=\"13\" lengthAdjust=\"spacingAndGlyphs\" textLength=\"7\" x=\"169\" y=\"130.0669\">c</text></a><!--MD5=[f51c6d1f1856fe338ac0413483fb1ccf]\n",
       "reverse link E5 to E2--><a href=\"psysml:471b2978-4f3d-4f5c-bcaa-50341599c3a3\" target=\"_top\" title=\"psysml:471b2978-4f3d-4f5c-bcaa-50341599c3a3\" xlink:actuate=\"onRequest\" xlink:href=\"psysml:471b2978-4f3d-4f5c-bcaa-50341599c3a3\" xlink:show=\"new\" xlink:title=\"psysml:471b2978-4f3d-4f5c-bcaa-50341599c3a3\" xlink:type=\"simple\"><path d=\"M111.45,99.76 C104.15,126.35 94.3,162.21 88.05,184.97 \" fill=\"none\" id=\"E5&lt;-E2\" style=\"stroke: #A80036; stroke-width: 1.0;\"/><polygon fill=\"#FFFFFF\" points=\"114.91,87.19,109.4631,91.9156,111.7303,98.7611,117.1772,94.0354,114.91,87.19\" style=\"stroke: #A80036; stroke-width: 1.0;\"/><text fill=\"#000000\" font-family=\"sans-serif\" font-size=\"13\" lengthAdjust=\"spacingAndGlyphs\" textLength=\"33\" x=\"107\" y=\"130.0669\">newX</text></a><!--MD5=[54becc97caad4ddc10a21e673da13fb8]\n",
       "@startuml\r\n",
       " \r\n",
       "package \"TextualRepresentationTest\" as E1  [[psysml:0fc68415-d7d0-4850-b93e-796cf2adc089 ]]  {\r\n",
       "comp def \"Real\" as E2  <<(T,blue)dataType>> [[psysml:3f2a97d7-c1a2-4f9b-b443-e0389101b303 ]] {\r\n",
       "}\r\n",
       "comp def \"C\" as E3  <<(T,blue)item def>> [[psysml:bb207011-903d-4a71-a2f5-e51b80009fec ]] {\r\n",
       "x: Real\r\n",
       "- - assertConstraints - -\r\n",
       "x_constraint\r\n",
       "}\r\n",
       "comp def \"setX\" as E5  <<(T,blue)action def>> [[psysml:ff423fdb-a5ad-4383-b75e-3a1966f8baa4 ]] {\r\n",
       "}\r\n",
       "E5 o- - E3 [[psysml:4c2c889d-aea7-4bfd-be6e-45844659a6a1 ]] : c\r\n",
       "E5 o- - E2 [[psysml:471b2978-4f3d-4f5c-bcaa-50341599c3a3 ]] : newX\r\n",
       "}\r\n",
       "@enduml\r\n",
       "\n",
       "PlantUML version 1.2020.13(Sat Jun 13 12:26:38 UTC 2020)\n",
       "(EPL source distribution)\n",
       "Java Runtime: OpenJDK Runtime Environment\n",
       "JVM: OpenJDK 64-Bit Server VM\n",
       "Default Encoding: UTF-8\n",
       "Language: en\n",
       "Country: null\n",
       "--></g></svg>"
      ]
     },
     "execution_count": 3,
     "metadata": {},
     "output_type": "execute_result"
    }
   ],
   "source": [
    "%viz --style=\"COMPTREE\" --view=\"Tree\" \"TextualRepresentationTest\""
   ]
  },
  {
   "cell_type": "code",
   "execution_count": 4,
   "id": "revised-consensus",
   "metadata": {
    "execution": {
     "iopub.execute_input": "2021-03-25T15:08:28.583511Z",
     "iopub.status.busy": "2021-03-25T15:08:28.583103Z",
     "iopub.status.idle": "2021-03-25T15:08:30.434033Z",
     "shell.execute_reply": "2021-03-25T15:08:30.432468Z"
    }
   },
   "outputs": [
    {
     "data": {
      "image/svg+xml": [
       "<?xml version=\"1.0\" encoding=\"UTF-8\" standalone=\"no\"?><svg xmlns=\"http://www.w3.org/2000/svg\" xmlns:xlink=\"http://www.w3.org/1999/xlink\" contentScriptType=\"application/ecmascript\" contentStyleType=\"text/css\" height=\"410px\" preserveAspectRatio=\"none\" style=\"width:603px;height:410px;background:#000000;\" version=\"1.1\" viewBox=\"0 0 603 410\" width=\"603px\" zoomAndPan=\"magnify\"><defs/><g><rect fill=\"#0C0902\" height=\"1\" style=\"stroke: #0C0902; stroke-width: 1.0;\" width=\"1\" x=\"0\" y=\"0\"/><rect fill=\"#FFFFFF\" height=\"53\" style=\"stroke: #FFFFFF; stroke-width: 1.0;\" width=\"602\" x=\"0\" y=\"0\"/><image height=\"53\" width=\"450\" x=\"1\" xlink:href=\"data:image/png;base64,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\" y=\"1\"/><rect fill=\"#FFFFFF\" height=\"205.5625\" style=\"stroke: #FFFFFF; stroke-width: 1.0;\" width=\"602\" x=\"0\" y=\"53\"/><text fill=\"#000000\" font-family=\"sans-serif\" font-size=\"12\" font-weight=\"bold\" lengthAdjust=\"spacingAndGlyphs\" textLength=\"159\" x=\"5\" y=\"69.1387\">Welcome to PlantUML!</text><text fill=\"#000000\" font-family=\"sans-serif\" font-size=\"12\" lengthAdjust=\"spacingAndGlyphs\" textLength=\"0\" x=\"9\" y=\"83.1074\"/><text fill=\"#000000\" font-family=\"sans-serif\" font-size=\"12\" lengthAdjust=\"spacingAndGlyphs\" textLength=\"293\" x=\"5\" y=\"97.0762\">If you use this software, you accept its license.</text><text fill=\"#000000\" font-family=\"sans-serif\" font-size=\"12\" lengthAdjust=\"spacingAndGlyphs\" textLength=\"107\" x=\"5\" y=\"111.0449\">(details by typing</text><text fill=\"#000000\" font-family=\"monospace\" font-size=\"12\" lengthAdjust=\"spacingAndGlyphs\" textLength=\"49\" x=\"116\" y=\"111.0449\">license</text><text fill=\"#000000\" font-family=\"sans-serif\" font-size=\"12\" lengthAdjust=\"spacingAndGlyphs\" textLength=\"56\" x=\"169\" y=\"111.0449\">keyword)</text><text fill=\"#000000\" font-family=\"sans-serif\" font-size=\"12\" lengthAdjust=\"spacingAndGlyphs\" textLength=\"0\" x=\"9\" y=\"125.0137\"/><text fill=\"#000000\" font-family=\"sans-serif\" font-size=\"12\" lengthAdjust=\"spacingAndGlyphs\" textLength=\"283\" x=\"5\" y=\"138.9824\">You can start with a simple UML Diagram like:</text><text fill=\"#000000\" font-family=\"sans-serif\" font-size=\"12\" lengthAdjust=\"spacingAndGlyphs\" textLength=\"0\" x=\"9\" y=\"152.9512\"/><text fill=\"#000000\" font-family=\"monospace\" font-size=\"12\" lengthAdjust=\"spacingAndGlyphs\" textLength=\"119\" x=\"5\" y=\"166.9199\">Bob-&gt;Alice: Hello</text><text fill=\"#000000\" font-family=\"sans-serif\" font-size=\"12\" lengthAdjust=\"spacingAndGlyphs\" textLength=\"0\" x=\"9\" y=\"180.8887\"/><text fill=\"#000000\" font-family=\"sans-serif\" font-size=\"12\" lengthAdjust=\"spacingAndGlyphs\" textLength=\"14\" x=\"5\" y=\"194.8574\">Or</text><text fill=\"#000000\" font-family=\"sans-serif\" font-size=\"12\" lengthAdjust=\"spacingAndGlyphs\" textLength=\"0\" x=\"9\" y=\"208.8262\"/><text fill=\"#000000\" font-family=\"monospace\" font-size=\"12\" lengthAdjust=\"spacingAndGlyphs\" textLength=\"91\" x=\"5\" y=\"222.7949\">class Example</text><text fill=\"#000000\" font-family=\"sans-serif\" font-size=\"12\" lengthAdjust=\"spacingAndGlyphs\" textLength=\"0\" x=\"9\" y=\"236.7637\"/><text fill=\"#000000\" font-family=\"sans-serif\" font-size=\"12\" lengthAdjust=\"spacingAndGlyphs\" textLength=\"349\" x=\"5\" y=\"250.7324\">You will find more information about PlantUML syntax on</text><text fill=\"#000000\" font-family=\"sans-serif\" font-size=\"12\" lengthAdjust=\"spacingAndGlyphs\" text-decoration=\"underline\" textLength=\"129\" x=\"358\" y=\"250.7324\">https://plantuml.com</text><image height=\"71\" width=\"80\" x=\"516\" xlink:href=\"data:image/png;base64,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\" y=\"59\"/><rect fill=\"#000000\" height=\"96.4844\" style=\"stroke: #000000; stroke-width: 1.0;\" width=\"602\" x=\"0\" y=\"258.5625\"/><rect fill=\"#33FF02\" height=\"21.2969\" style=\"stroke: #33FF02; stroke-width: 1.0;\" width=\"170\" x=\"5\" y=\"263.5625\"/><text fill=\"#000000\" font-family=\"sans-serif\" font-size=\"14\" font-weight=\"bold\" lengthAdjust=\"spacingAndGlyphs\" textLength=\"168\" x=\"6\" y=\"278.5625\">[From string (line 2) ]</text><text fill=\"#33FF02\" font-family=\"sans-serif\" font-size=\"14\" font-weight=\"bold\" lengthAdjust=\"spacingAndGlyphs\" textLength=\"0\" x=\"10\" y=\"298.8594\"/><text fill=\"#33FF02\" font-family=\"sans-serif\" font-size=\"14\" font-weight=\"bold\" lengthAdjust=\"spacingAndGlyphs\" textLength=\"79\" x=\"5\" y=\"315.1563\">@startuml</text><text fill=\"#33FF02\" font-family=\"sans-serif\" font-size=\"14\" font-weight=\"bold\" lengthAdjust=\"spacingAndGlyphs\" textLength=\"0\" x=\"10\" y=\"331.4531\"/><text fill=\"#FF0000\" font-family=\"sans-serif\" font-size=\"14\" font-weight=\"bold\" lengthAdjust=\"spacingAndGlyphs\" textLength=\"142\" x=\"10\" y=\"347.75\">Empty description</text><rect fill=\"#FFFFFF\" height=\"53\" style=\"stroke: #FFFFFF; stroke-width: 1.0;\" width=\"602\" x=\"0\" y=\"355.0469\"/><image height=\"53\" width=\"450\" x=\"1\" xlink:href=\"data:image/png;base64,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\" y=\"356.0469\"/><!--MD5=[f59edd8218d337f74d0c332fc6737304]\n",
       "@startuml\r\n",
       " \r\n",
       "@enduml\r\n",
       "\n",
       "PlantUML version 1.2020.13(Sat Jun 13 12:26:38 UTC 2020)\n",
       "(EPL source distribution)\n",
       "Java Runtime: OpenJDK Runtime Environment\n",
       "JVM: OpenJDK 64-Bit Server VM\n",
       "Default Encoding: UTF-8\n",
       "Language: en\n",
       "Country: null\n",
       "--></g></svg>"
      ]
     },
     "execution_count": 4,
     "metadata": {},
     "output_type": "execute_result"
    }
   ],
   "source": [
    "%viz --style=\"COMPTREE\" --view=\"State\" \"TextualRepresentationTest\""
   ]
  },
  {
   "cell_type": "code",
   "execution_count": 5,
   "id": "dated-controversy",
   "metadata": {
    "execution": {
     "iopub.execute_input": "2021-03-25T15:08:30.484777Z",
     "iopub.status.busy": "2021-03-25T15:08:30.484406Z",
     "iopub.status.idle": "2021-03-25T15:08:30.573824Z",
     "shell.execute_reply": "2021-03-25T15:08:30.572138Z"
    }
   },
   "outputs": [
    {
     "data": {
      "image/svg+xml": [
       "<?xml version=\"1.0\" encoding=\"UTF-8\" standalone=\"no\"?><svg xmlns=\"http://www.w3.org/2000/svg\" xmlns:xlink=\"http://www.w3.org/1999/xlink\" contentScriptType=\"application/ecmascript\" contentStyleType=\"text/css\" height=\"123px\" preserveAspectRatio=\"none\" style=\"width:583px;height:123px;\" version=\"1.1\" viewBox=\"0 0 583 123\" width=\"583px\" zoomAndPan=\"magnify\"><defs><filter height=\"300%\" id=\"fgkckubhxmfe0\" width=\"300%\" x=\"-1\" y=\"-1\"><feGaussianBlur result=\"blurOut\" stdDeviation=\"2.0\"/><feColorMatrix in=\"blurOut\" result=\"blurOut2\" type=\"matrix\" values=\"0 0 0 0 0 0 0 0 0 0 0 0 0 0 0 0 0 0 .4 0\"/><feOffset dx=\"4.0\" dy=\"4.0\" in=\"blurOut2\" result=\"blurOut3\"/><feBlend in=\"SourceGraphic\" in2=\"blurOut3\" mode=\"normal\"/></filter></defs><g><!--MD5=[fbc87193dbaf4d95561dea2c320d4a47]\n",
       "cluster E1--><a href=\"psysml:0fc68415-d7d0-4850-b93e-796cf2adc089\" target=\"_top\" title=\"psysml:0fc68415-d7d0-4850-b93e-796cf2adc089\" xlink:actuate=\"onRequest\" xlink:href=\"psysml:0fc68415-d7d0-4850-b93e-796cf2adc089\" xlink:show=\"new\" xlink:title=\"psysml:0fc68415-d7d0-4850-b93e-796cf2adc089\" xlink:type=\"simple\"><polygon fill=\"#FFFFFF\" filter=\"url(#fgkckubhxmfe0)\" points=\"16,6,236,6,243,28.2969,561,28.2969,561,111,16,111,16,6\" style=\"stroke: #000000; stroke-width: 1.5;\"/><line style=\"stroke: #000000; stroke-width: 1.5;\" x1=\"16\" x2=\"243\" y1=\"28.2969\" y2=\"28.2969\"/><text fill=\"#000000\" font-family=\"sans-serif\" font-size=\"14\" font-weight=\"bold\" lengthAdjust=\"spacingAndGlyphs\" textLength=\"214\" x=\"20\" y=\"20.9951\">TextualRepresentationTest</text></a><!--MD5=[b4997ac47864f28c2f74865a473b2911]\n",
       "class E2--><a href=\"psysml:3f2a97d7-c1a2-4f9b-b443-e0389101b303\" target=\"_top\" title=\"psysml:3f2a97d7-c1a2-4f9b-b443-e0389101b303\" xlink:actuate=\"onRequest\" xlink:href=\"psysml:3f2a97d7-c1a2-4f9b-b443-e0389101b303\" xlink:show=\"new\" xlink:title=\"psysml:3f2a97d7-c1a2-4f9b-b443-e0389101b303\" xlink:type=\"simple\"><rect fill=\"#FEFECE\" filter=\"url(#fgkckubhxmfe0)\" height=\"53.9375\" id=\"E2\" style=\"stroke: #A80036; stroke-width: 1.5;\" width=\"148\" x=\"397\" y=\"41\"/><ellipse cx=\"412\" cy=\"59.9688\" fill=\"#ADD1B2\" rx=\"11\" ry=\"11\" style=\"stroke: #A80036; stroke-width: 1.0;\"/><path d=\"M414.9688,65.6094 Q414.3906,65.9063 413.75,66.0469 Q413.1094,66.2031 412.4063,66.2031 Q409.9063,66.2031 408.5781,64.5625 Q407.2656,62.9063 407.2656,59.7813 Q407.2656,56.6563 408.5781,55 Q409.9063,53.3438 412.4063,53.3438 Q413.1094,53.3438 413.75,53.5 Q414.4063,53.6563 414.9688,53.9531 L414.9688,56.6719 Q414.3438,56.0938 413.75,55.8281 Q413.1563,55.5469 412.5313,55.5469 Q411.1875,55.5469 410.5,56.625 Q409.8125,57.6875 409.8125,59.7813 Q409.8125,61.875 410.5,62.9531 Q411.1875,64.0156 412.5313,64.0156 Q413.1563,64.0156 413.75,63.75 Q414.3438,63.4688 414.9688,62.8906 L414.9688,65.6094 Z \"/><text fill=\"#000000\" font-family=\"sans-serif\" font-size=\"12\" font-style=\"italic\" lengthAdjust=\"spacingAndGlyphs\" textLength=\"120\" x=\"424\" y=\"57.1387\">«(T,blue)dataType»</text><text fill=\"#000000\" font-family=\"sans-serif\" font-size=\"12\" lengthAdjust=\"spacingAndGlyphs\" textLength=\"27\" x=\"470.5\" y=\"71.1074\">Real</text><line style=\"stroke: #A80036; stroke-width: 1.5;\" x1=\"398\" x2=\"544\" y1=\"78.9375\" y2=\"78.9375\"/><line style=\"stroke: #A80036; stroke-width: 1.5;\" x1=\"398\" x2=\"544\" y1=\"86.9375\" y2=\"86.9375\"/></a><!--MD5=[09b614a08d8cba4a07c9adeb5e0fee81]\n",
       "class E3--><a href=\"psysml:bb207011-903d-4a71-a2f5-e51b80009fec\" target=\"_top\" title=\"psysml:bb207011-903d-4a71-a2f5-e51b80009fec\" xlink:actuate=\"onRequest\" xlink:href=\"psysml:bb207011-903d-4a71-a2f5-e51b80009fec\" xlink:show=\"new\" xlink:title=\"psysml:bb207011-903d-4a71-a2f5-e51b80009fec\" xlink:type=\"simple\"><rect fill=\"#FEFECE\" filter=\"url(#fgkckubhxmfe0)\" height=\"53.9375\" id=\"E3\" style=\"stroke: #A80036; stroke-width: 1.5;\" width=\"141\" x=\"220.5\" y=\"41\"/><ellipse cx=\"235.5\" cy=\"59.9688\" fill=\"#ADD1B2\" rx=\"11\" ry=\"11\" style=\"stroke: #A80036; stroke-width: 1.0;\"/><path d=\"M238.4688,65.6094 Q237.8906,65.9063 237.25,66.0469 Q236.6094,66.2031 235.9063,66.2031 Q233.4063,66.2031 232.0781,64.5625 Q230.7656,62.9063 230.7656,59.7813 Q230.7656,56.6563 232.0781,55 Q233.4063,53.3438 235.9063,53.3438 Q236.6094,53.3438 237.25,53.5 Q237.9063,53.6563 238.4688,53.9531 L238.4688,56.6719 Q237.8438,56.0938 237.25,55.8281 Q236.6563,55.5469 236.0313,55.5469 Q234.6875,55.5469 234,56.625 Q233.3125,57.6875 233.3125,59.7813 Q233.3125,61.875 234,62.9531 Q234.6875,64.0156 236.0313,64.0156 Q236.6563,64.0156 237.25,63.75 Q237.8438,63.4688 238.4688,62.8906 L238.4688,65.6094 Z \"/><text fill=\"#000000\" font-family=\"sans-serif\" font-size=\"12\" font-style=\"italic\" lengthAdjust=\"spacingAndGlyphs\" textLength=\"113\" x=\"247.5\" y=\"57.1387\">«(T,blue)item def»</text><text fill=\"#000000\" font-family=\"sans-serif\" font-size=\"12\" lengthAdjust=\"spacingAndGlyphs\" textLength=\"8\" x=\"300\" y=\"71.1074\">C</text><line style=\"stroke: #A80036; stroke-width: 1.5;\" x1=\"221.5\" x2=\"360.5\" y1=\"78.9375\" y2=\"78.9375\"/><line style=\"stroke: #A80036; stroke-width: 1.5;\" x1=\"221.5\" x2=\"360.5\" y1=\"86.9375\" y2=\"86.9375\"/></a><!--MD5=[ebbe1d658d1005bcc118a6aa81145e00]\n",
       "class E4--><a href=\"psysml:ff423fdb-a5ad-4383-b75e-3a1966f8baa4\" target=\"_top\" title=\"psysml:ff423fdb-a5ad-4383-b75e-3a1966f8baa4\" xlink:actuate=\"onRequest\" xlink:href=\"psysml:ff423fdb-a5ad-4383-b75e-3a1966f8baa4\" xlink:show=\"new\" xlink:title=\"psysml:ff423fdb-a5ad-4383-b75e-3a1966f8baa4\" xlink:type=\"simple\"><rect fill=\"#FEFECE\" filter=\"url(#fgkckubhxmfe0)\" height=\"53.9375\" id=\"E4\" style=\"stroke: #A80036; stroke-width: 1.5;\" width=\"153\" x=\"32.5\" y=\"41\"/><ellipse cx=\"47.5\" cy=\"59.9688\" fill=\"#ADD1B2\" rx=\"11\" ry=\"11\" style=\"stroke: #A80036; stroke-width: 1.0;\"/><path d=\"M50.4688,65.6094 Q49.8906,65.9063 49.25,66.0469 Q48.6094,66.2031 47.9063,66.2031 Q45.4063,66.2031 44.0781,64.5625 Q42.7656,62.9063 42.7656,59.7813 Q42.7656,56.6563 44.0781,55 Q45.4063,53.3438 47.9063,53.3438 Q48.6094,53.3438 49.25,53.5 Q49.9063,53.6563 50.4688,53.9531 L50.4688,56.6719 Q49.8438,56.0938 49.25,55.8281 Q48.6563,55.5469 48.0313,55.5469 Q46.6875,55.5469 46,56.625 Q45.3125,57.6875 45.3125,59.7813 Q45.3125,61.875 46,62.9531 Q46.6875,64.0156 48.0313,64.0156 Q48.6563,64.0156 49.25,63.75 Q49.8438,63.4688 50.4688,62.8906 L50.4688,65.6094 Z \"/><text fill=\"#000000\" font-family=\"sans-serif\" font-size=\"12\" font-style=\"italic\" lengthAdjust=\"spacingAndGlyphs\" textLength=\"125\" x=\"59.5\" y=\"57.1387\">«(T,blue)action def»</text><text fill=\"#000000\" font-family=\"sans-serif\" font-size=\"12\" lengthAdjust=\"spacingAndGlyphs\" textLength=\"27\" x=\"108.5\" y=\"71.1074\">setX</text><line style=\"stroke: #A80036; stroke-width: 1.5;\" x1=\"33.5\" x2=\"184.5\" y1=\"78.9375\" y2=\"78.9375\"/><line style=\"stroke: #A80036; stroke-width: 1.5;\" x1=\"33.5\" x2=\"184.5\" y1=\"86.9375\" y2=\"86.9375\"/></a><!--MD5=[41c015377a0111b0ccac47b34498372e]\n",
       "@startuml\r\n",
       "skinparam ranksep 8\r\n",
       "skinparam rectangle {\r\n",
       " backgroundColor<<block>> LightGreen\r\n",
       "}\r\n",
       " \r\n",
       "package \"TextualRepresentationTest\" as E1  [[psysml:0fc68415-d7d0-4850-b93e-796cf2adc089 ]]  {\r\n",
       "def \"Real\" as E2  <<(T,blue)dataType>> [[psysml:3f2a97d7-c1a2-4f9b-b443-e0389101b303 ]] \r\n",
       "def \"C\" as E3  <<(T,blue)item def>> [[psysml:bb207011-903d-4a71-a2f5-e51b80009fec ]] \r\n",
       "def \"setX\" as E4  <<(T,blue)action def>> [[psysml:ff423fdb-a5ad-4383-b75e-3a1966f8baa4 ]] \r\n",
       "}\r\n",
       "@enduml\r\n",
       "\n",
       "PlantUML version 1.2020.13(Sat Jun 13 12:26:38 UTC 2020)\n",
       "(EPL source distribution)\n",
       "Java Runtime: OpenJDK Runtime Environment\n",
       "JVM: OpenJDK 64-Bit Server VM\n",
       "Default Encoding: UTF-8\n",
       "Language: en\n",
       "Country: null\n",
       "--></g></svg>"
      ]
     },
     "execution_count": 5,
     "metadata": {},
     "output_type": "execute_result"
    }
   ],
   "source": [
    "%viz --style=\"COMPTREE\" --view=\"Interconnection\" \"TextualRepresentationTest\""
   ]
  },
  {
   "cell_type": "code",
   "execution_count": 6,
   "id": "radical-latvia",
   "metadata": {
    "execution": {
     "iopub.execute_input": "2021-03-25T15:08:30.624337Z",
     "iopub.status.busy": "2021-03-25T15:08:30.623780Z",
     "iopub.status.idle": "2021-03-25T15:08:30.689716Z",
     "shell.execute_reply": "2021-03-25T15:08:30.690341Z"
    }
   },
   "outputs": [
    {
     "data": {
      "image/svg+xml": [
       "<?xml version=\"1.0\" encoding=\"UTF-8\" standalone=\"no\"?><svg xmlns=\"http://www.w3.org/2000/svg\" xmlns:xlink=\"http://www.w3.org/1999/xlink\" contentScriptType=\"application/ecmascript\" contentStyleType=\"text/css\" height=\"134px\" preserveAspectRatio=\"none\" style=\"width:158px;height:134px;\" version=\"1.1\" viewBox=\"0 0 158 134\" width=\"158px\" zoomAndPan=\"magnify\"><defs><filter height=\"300%\" id=\"fh01rx03tl0mw\" width=\"300%\" x=\"-1\" y=\"-1\"><feGaussianBlur result=\"blurOut\" stdDeviation=\"2.0\"/><feColorMatrix in=\"blurOut\" result=\"blurOut2\" type=\"matrix\" values=\"0 0 0 0 0 0 0 0 0 0 0 0 0 0 0 0 0 0 .4 0\"/><feOffset dx=\"4.0\" dy=\"4.0\" in=\"blurOut2\" result=\"blurOut3\"/><feBlend in=\"SourceGraphic\" in2=\"blurOut3\" mode=\"normal\"/></filter></defs><g><!--MD5=[fbc87193dbaf4d95561dea2c320d4a47]\n",
       "cluster E1--><a href=\"psysml:ff423fdb-a5ad-4383-b75e-3a1966f8baa4\" target=\"_top\" title=\"psysml:ff423fdb-a5ad-4383-b75e-3a1966f8baa4\" xlink:actuate=\"onRequest\" xlink:href=\"psysml:ff423fdb-a5ad-4383-b75e-3a1966f8baa4\" xlink:show=\"new\" xlink:title=\"psysml:ff423fdb-a5ad-4383-b75e-3a1966f8baa4\" xlink:type=\"simple\"><rect fill=\"#FFFFFF\" filter=\"url(#fh01rx03tl0mw)\" height=\"73\" id=\"E1\" style=\"stroke: #A80036; stroke-width: 1.5;\" width=\"132\" x=\"7\" y=\"42.0986\"/><rect fill=\"#FEFECE\" height=\"37.9375\" style=\"stroke: #A80036; stroke-width: 1.5;\" width=\"132\" x=\"7\" y=\"42.0986\"/><text fill=\"#000000\" font-family=\"sans-serif\" font-size=\"12\" font-style=\"italic\" lengthAdjust=\"spacingAndGlyphs\" textLength=\"77\" x=\"34.5\" y=\"58.2373\">«action def»</text><text fill=\"#000000\" font-family=\"sans-serif\" font-size=\"12\" lengthAdjust=\"spacingAndGlyphs\" textLength=\"27\" x=\"59.5\" y=\"72.2061\">setX</text></a><text fill=\"#000000\" font-family=\"sans-serif\" font-size=\"14\" lengthAdjust=\"spacingAndGlyphs\" textLength=\"8\" x=\"21\" y=\"20.7969\">c</text><rect fill=\"#A80036\" height=\"12\" style=\"stroke: #FEFECE; stroke-width: 1.5;\" width=\"12\" x=\"19\" y=\"36.0986\"/><text fill=\"#000000\" font-family=\"sans-serif\" font-size=\"14\" lengthAdjust=\"spacingAndGlyphs\" textLength=\"38\" x=\"53\" y=\"20.7969\">newX</text><rect fill=\"#A80036\" height=\"12\" style=\"stroke: #FEFECE; stroke-width: 1.5;\" width=\"12\" x=\"66\" y=\"36.0986\"/><!--MD5=[b5dcb92cad80d1e5530354cfebc6c4c1]\n",
       "@startuml\r\n",
       "skinparam ranksep 8\r\n",
       " \r\n",
       "rec def \"setX\" as E1  <<(T,blue)action def>> [[psysml:ff423fdb-a5ad-4383-b75e-3a1966f8baa4 ]] {\r\n",
       "portin \"c\" as E2  [[psysml:4c2c889d-aea7-4bfd-be6e-45844659a6a1 ]] \r\n",
       "portin \"newX\" as E3  [[psysml:471b2978-4f3d-4f5c-bcaa-50341599c3a3 ]] \r\n",
       "}\r\n",
       "\r\n",
       "@enduml\r\n",
       "\n",
       "PlantUML version 1.2020.13(Sat Jun 13 12:26:38 UTC 2020)\n",
       "(EPL source distribution)\n",
       "Java Runtime: OpenJDK Runtime Environment\n",
       "JVM: OpenJDK 64-Bit Server VM\n",
       "Default Encoding: UTF-8\n",
       "Language: en\n",
       "Country: null\n",
       "--></g></svg>"
      ]
     },
     "execution_count": 6,
     "metadata": {},
     "output_type": "execute_result"
    }
   ],
   "source": [
    "%viz --style=\"COMPTREE\" --view=\"Action\" \"TextualRepresentationTest\""
   ]
  },
  {
   "cell_type": "code",
   "execution_count": 7,
   "id": "relevant-shoot",
   "metadata": {
    "execution": {
     "iopub.execute_input": "2021-03-25T15:08:30.741700Z",
     "iopub.status.busy": "2021-03-25T15:08:30.741128Z",
     "iopub.status.idle": "2021-03-25T15:08:31.039855Z",
     "shell.execute_reply": "2021-03-25T15:08:31.040108Z"
    }
   },
   "outputs": [
    {
     "data": {
      "image/svg+xml": [
       "<?xml version=\"1.0\" encoding=\"UTF-8\" standalone=\"no\"?><svg xmlns=\"http://www.w3.org/2000/svg\" xmlns:xlink=\"http://www.w3.org/1999/xlink\" contentScriptType=\"application/ecmascript\" contentStyleType=\"text/css\" height=\"280px\" preserveAspectRatio=\"none\" style=\"width:316px;height:280px;\" version=\"1.1\" viewBox=\"0 0 316 280\" width=\"316px\" zoomAndPan=\"magnify\"><defs><filter height=\"300%\" id=\"f16yvx61qbi09d\" width=\"300%\" x=\"-1\" y=\"-1\"><feGaussianBlur result=\"blurOut\" stdDeviation=\"2.0\"/><feColorMatrix in=\"blurOut\" result=\"blurOut2\" type=\"matrix\" values=\"0 0 0 0 0 0 0 0 0 0 0 0 0 0 0 0 0 0 .4 0\"/><feOffset dx=\"4.0\" dy=\"4.0\" in=\"blurOut2\" result=\"blurOut3\"/><feBlend in=\"SourceGraphic\" in2=\"blurOut3\" mode=\"normal\"/></filter></defs><g><!--MD5=[fbc87193dbaf4d95561dea2c320d4a47]\n",
       "cluster E1--><a href=\"psysml:0fc68415-d7d0-4850-b93e-796cf2adc089\" target=\"_top\" title=\"psysml:0fc68415-d7d0-4850-b93e-796cf2adc089\" xlink:actuate=\"onRequest\" xlink:href=\"psysml:0fc68415-d7d0-4850-b93e-796cf2adc089\" xlink:show=\"new\" xlink:title=\"psysml:0fc68415-d7d0-4850-b93e-796cf2adc089\" xlink:type=\"simple\"><polygon fill=\"#FFFFFF\" filter=\"url(#f16yvx61qbi09d)\" points=\"16,6,236,6,243,28.2969,294,28.2969,294,268,16,268,16,6\" style=\"stroke: #000000; stroke-width: 1.5;\"/><line style=\"stroke: #000000; stroke-width: 1.5;\" x1=\"16\" x2=\"243\" y1=\"28.2969\" y2=\"28.2969\"/><text fill=\"#000000\" font-family=\"sans-serif\" font-size=\"14\" font-weight=\"bold\" lengthAdjust=\"spacingAndGlyphs\" textLength=\"214\" x=\"20\" y=\"20.9951\">TextualRepresentationTest</text></a><!--MD5=[b4997ac47864f28c2f74865a473b2911]\n",
       "class E2--><a href=\"psysml:3f2a97d7-c1a2-4f9b-b443-e0389101b303\" target=\"_top\" title=\"psysml:3f2a97d7-c1a2-4f9b-b443-e0389101b303\" xlink:actuate=\"onRequest\" xlink:href=\"psysml:3f2a97d7-c1a2-4f9b-b443-e0389101b303\" xlink:show=\"new\" xlink:title=\"psysml:3f2a97d7-c1a2-4f9b-b443-e0389101b303\" xlink:type=\"simple\"><rect fill=\"#FEFECE\" filter=\"url(#f16yvx61qbi09d)\" height=\"45.9375\" id=\"E2\" style=\"stroke: #A80036; stroke-width: 1.5;\" width=\"100\" x=\"32\" y=\"185\"/><ellipse cx=\"47\" cy=\"203.9688\" fill=\"#0000FF\" rx=\"11\" ry=\"11\" style=\"stroke: #A80036; stroke-width: 1.0;\"/><path d=\"M47.8438,210.7188 L45.3906,210.7188 L45.3906,200.4688 L42.25,200.4688 L42.25,198.3281 L50.9844,198.3281 L50.9844,200.4688 L47.8438,200.4688 L47.8438,210.7188 Z \"/><text fill=\"#000000\" font-family=\"sans-serif\" font-size=\"12\" font-style=\"italic\" lengthAdjust=\"spacingAndGlyphs\" textLength=\"72\" x=\"59\" y=\"201.1387\">«dataType»</text><text fill=\"#000000\" font-family=\"sans-serif\" font-size=\"12\" lengthAdjust=\"spacingAndGlyphs\" textLength=\"27\" x=\"81.5\" y=\"215.1074\">Real</text><line style=\"stroke: #A80036; stroke-width: 1.5;\" x1=\"33\" x2=\"131\" y1=\"222.9375\" y2=\"222.9375\"/></a><!--MD5=[09b614a08d8cba4a07c9adeb5e0fee81]\n",
       "class E3--><a href=\"psysml:bb207011-903d-4a71-a2f5-e51b80009fec\" target=\"_top\" title=\"psysml:bb207011-903d-4a71-a2f5-e51b80009fec\" xlink:actuate=\"onRequest\" xlink:href=\"psysml:bb207011-903d-4a71-a2f5-e51b80009fec\" xlink:show=\"new\" xlink:title=\"psysml:bb207011-903d-4a71-a2f5-e51b80009fec\" xlink:type=\"simple\"><rect fill=\"#FEFECE\" filter=\"url(#f16yvx61qbi09d)\" height=\"88.3516\" id=\"E3\" style=\"stroke: #A80036; stroke-width: 1.5;\" width=\"111\" x=\"167.5\" y=\"164\"/><ellipse cx=\"190.6\" cy=\"182.9688\" fill=\"#0000FF\" rx=\"11\" ry=\"11\" style=\"stroke: #A80036; stroke-width: 1.0;\"/><path d=\"M191.4438,189.7188 L188.9906,189.7188 L188.9906,179.4688 L185.85,179.4688 L185.85,177.3281 L194.5844,177.3281 L194.5844,179.4688 L191.4438,179.4688 L191.4438,189.7188 Z \"/><text fill=\"#000000\" font-family=\"sans-serif\" font-size=\"12\" font-style=\"italic\" lengthAdjust=\"spacingAndGlyphs\" textLength=\"65\" x=\"204.4\" y=\"180.1387\">«item def»</text><text fill=\"#000000\" font-family=\"sans-serif\" font-size=\"12\" lengthAdjust=\"spacingAndGlyphs\" textLength=\"8\" x=\"232.9\" y=\"194.1074\">C</text><line style=\"stroke: #A80036; stroke-width: 1.5;\" x1=\"168.5\" x2=\"277.5\" y1=\"201.9375\" y2=\"201.9375\"/><text fill=\"#000000\" font-family=\"sans-serif\" font-size=\"11\" lengthAdjust=\"spacingAndGlyphs\" textLength=\"38\" x=\"173.5\" y=\"216.1479\">x: Real</text><text fill=\"#000000\" font-family=\"sans-serif\" font-size=\"11\" lengthAdjust=\"spacingAndGlyphs\" textLength=\"69\" x=\"173.5\" y=\"245.7573\">x_constraint</text><line style=\"stroke: #A80036; stroke-width: 1.0;\" x1=\"168.5\" x2=\"171.5\" y1=\"229.1445\" y2=\"229.1445\"/><text fill=\"#000000\" font-family=\"sans-serif\" font-size=\"11\" lengthAdjust=\"spacingAndGlyphs\" textLength=\"103\" x=\"171.5\" y=\"232.4526\">assertConstraints</text><line style=\"stroke: #A80036; stroke-width: 1.0;\" x1=\"274.5\" x2=\"277.5\" y1=\"229.1445\" y2=\"229.1445\"/></a><!--MD5=[270fce915f116d4de14055a7c1d9a0f3]\n",
       "class E5--><a href=\"psysml:ff423fdb-a5ad-4383-b75e-3a1966f8baa4\" target=\"_top\" title=\"psysml:ff423fdb-a5ad-4383-b75e-3a1966f8baa4\" xlink:actuate=\"onRequest\" xlink:href=\"psysml:ff423fdb-a5ad-4383-b75e-3a1966f8baa4\" xlink:show=\"new\" xlink:title=\"psysml:ff423fdb-a5ad-4383-b75e-3a1966f8baa4\" xlink:type=\"simple\"><rect fill=\"#FEFECE\" filter=\"url(#f16yvx61qbi09d)\" height=\"45.9375\" id=\"E5\" style=\"stroke: #A80036; stroke-width: 1.5;\" width=\"105\" x=\"68.5\" y=\"41\"/><ellipse cx=\"83.5\" cy=\"59.9688\" fill=\"#0000FF\" rx=\"11\" ry=\"11\" style=\"stroke: #A80036; stroke-width: 1.0;\"/><path d=\"M84.3438,66.7188 L81.8906,66.7188 L81.8906,56.4688 L78.75,56.4688 L78.75,54.3281 L87.4844,54.3281 L87.4844,56.4688 L84.3438,56.4688 L84.3438,66.7188 Z \"/><text fill=\"#000000\" font-family=\"sans-serif\" font-size=\"12\" font-style=\"italic\" lengthAdjust=\"spacingAndGlyphs\" textLength=\"77\" x=\"95.5\" y=\"57.1387\">«action def»</text><text fill=\"#000000\" font-family=\"sans-serif\" font-size=\"12\" lengthAdjust=\"spacingAndGlyphs\" textLength=\"27\" x=\"120.5\" y=\"71.1074\">setX</text><line style=\"stroke: #A80036; stroke-width: 1.5;\" x1=\"69.5\" x2=\"172.5\" y1=\"78.9375\" y2=\"78.9375\"/></a><!--MD5=[6f107eb264eda4b26325f39a5516f1f3]\n",
       "reverse link E5 to E3--><a href=\"psysml:4c2c889d-aea7-4bfd-be6e-45844659a6a1\" target=\"_top\" title=\"psysml:4c2c889d-aea7-4bfd-be6e-45844659a6a1\" xlink:actuate=\"onRequest\" xlink:href=\"psysml:4c2c889d-aea7-4bfd-be6e-45844659a6a1\" xlink:show=\"new\" xlink:title=\"psysml:4c2c889d-aea7-4bfd-be6e-45844659a6a1\" xlink:type=\"simple\"><path d=\"M144.72,98.02 C158.79,117.61 176.79,142.67 191.98,163.82 \" fill=\"none\" id=\"E5&lt;-E3\" style=\"stroke: #A80036; stroke-width: 1.0;\"/><polygon fill=\"#FFFFFF\" points=\"136.94,87.19,137.1927,94.3967,143.9423,96.9352,143.6895,89.7285,136.94,87.19\" style=\"stroke: #A80036; stroke-width: 1.0;\"/><text fill=\"#000000\" font-family=\"sans-serif\" font-size=\"13\" lengthAdjust=\"spacingAndGlyphs\" textLength=\"7\" x=\"169\" y=\"130.0669\">c</text></a><!--MD5=[f51c6d1f1856fe338ac0413483fb1ccf]\n",
       "reverse link E5 to E2--><a href=\"psysml:471b2978-4f3d-4f5c-bcaa-50341599c3a3\" target=\"_top\" title=\"psysml:471b2978-4f3d-4f5c-bcaa-50341599c3a3\" xlink:actuate=\"onRequest\" xlink:href=\"psysml:471b2978-4f3d-4f5c-bcaa-50341599c3a3\" xlink:show=\"new\" xlink:title=\"psysml:471b2978-4f3d-4f5c-bcaa-50341599c3a3\" xlink:type=\"simple\"><path d=\"M111.45,99.76 C104.15,126.35 94.3,162.21 88.05,184.97 \" fill=\"none\" id=\"E5&lt;-E2\" style=\"stroke: #A80036; stroke-width: 1.0;\"/><polygon fill=\"#FFFFFF\" points=\"114.91,87.19,109.4631,91.9156,111.7303,98.7611,117.1772,94.0354,114.91,87.19\" style=\"stroke: #A80036; stroke-width: 1.0;\"/><text fill=\"#000000\" font-family=\"sans-serif\" font-size=\"13\" lengthAdjust=\"spacingAndGlyphs\" textLength=\"33\" x=\"107\" y=\"130.0669\">newX</text></a><!--MD5=[54becc97caad4ddc10a21e673da13fb8]\n",
       "@startuml\r\n",
       " \r\n",
       "package \"TextualRepresentationTest\" as E1  [[psysml:0fc68415-d7d0-4850-b93e-796cf2adc089 ]]  {\r\n",
       "comp def \"Real\" as E2  <<(T,blue)dataType>> [[psysml:3f2a97d7-c1a2-4f9b-b443-e0389101b303 ]] {\r\n",
       "}\r\n",
       "comp def \"C\" as E3  <<(T,blue)item def>> [[psysml:bb207011-903d-4a71-a2f5-e51b80009fec ]] {\r\n",
       "x: Real\r\n",
       "- - assertConstraints - -\r\n",
       "x_constraint\r\n",
       "}\r\n",
       "comp def \"setX\" as E5  <<(T,blue)action def>> [[psysml:ff423fdb-a5ad-4383-b75e-3a1966f8baa4 ]] {\r\n",
       "}\r\n",
       "E5 o- - E3 [[psysml:4c2c889d-aea7-4bfd-be6e-45844659a6a1 ]] : c\r\n",
       "E5 o- - E2 [[psysml:471b2978-4f3d-4f5c-bcaa-50341599c3a3 ]] : newX\r\n",
       "}\r\n",
       "@enduml\r\n",
       "\n",
       "PlantUML version 1.2020.13(Sat Jun 13 12:26:38 UTC 2020)\n",
       "(EPL source distribution)\n",
       "Java Runtime: OpenJDK Runtime Environment\n",
       "JVM: OpenJDK 64-Bit Server VM\n",
       "Default Encoding: UTF-8\n",
       "Language: en\n",
       "Country: null\n",
       "--></g></svg>"
      ]
     },
     "execution_count": 7,
     "metadata": {},
     "output_type": "execute_result"
    }
   ],
   "source": [
    "%viz --style=\"COMPTREE\" --view=\"Sequence\" \"TextualRepresentationTest\""
   ]
  },
  {
   "cell_type": "code",
   "execution_count": 8,
   "id": "laden-nebraska",
   "metadata": {
    "execution": {
     "iopub.execute_input": "2021-03-25T15:08:31.093293Z",
     "iopub.status.busy": "2021-03-25T15:08:31.092324Z",
     "iopub.status.idle": "2021-03-25T15:08:31.436907Z",
     "shell.execute_reply": "2021-03-25T15:08:31.437274Z"
    }
   },
   "outputs": [
    {
     "data": {
      "image/svg+xml": [
       "<?xml version=\"1.0\" encoding=\"UTF-8\" standalone=\"no\"?><svg xmlns=\"http://www.w3.org/2000/svg\" xmlns:xlink=\"http://www.w3.org/1999/xlink\" contentScriptType=\"application/ecmascript\" contentStyleType=\"text/css\" height=\"268px\" preserveAspectRatio=\"none\" style=\"width:458px;height:268px;\" version=\"1.1\" viewBox=\"0 0 458 268\" width=\"458px\" zoomAndPan=\"magnify\"><defs><filter height=\"300%\" id=\"f1j5cqpi5n6qu5\" width=\"300%\" x=\"-1\" y=\"-1\"><feGaussianBlur result=\"blurOut\" stdDeviation=\"2.0\"/><feColorMatrix in=\"blurOut\" result=\"blurOut2\" type=\"matrix\" values=\"0 0 0 0 0 0 0 0 0 0 0 0 0 0 0 0 0 0 .4 0\"/><feOffset dx=\"4.0\" dy=\"4.0\" in=\"blurOut2\" result=\"blurOut3\"/><feBlend in=\"SourceGraphic\" in2=\"blurOut3\" mode=\"normal\"/></filter></defs><g><!--MD5=[fbc87193dbaf4d95561dea2c320d4a47]\n",
       "cluster E1--><a href=\"psysml:0fc68415-d7d0-4850-b93e-796cf2adc089\" target=\"_top\" title=\"psysml:0fc68415-d7d0-4850-b93e-796cf2adc089\" xlink:actuate=\"onRequest\" xlink:href=\"psysml:0fc68415-d7d0-4850-b93e-796cf2adc089\" xlink:show=\"new\" xlink:title=\"psysml:0fc68415-d7d0-4850-b93e-796cf2adc089\" xlink:type=\"simple\"><polygon fill=\"#FFFFFF\" filter=\"url(#f1j5cqpi5n6qu5)\" points=\"16,6,236,6,243,28.2969,436,28.2969,436,256,16,256,16,6\" style=\"stroke: #000000; stroke-width: 1.5;\"/><line style=\"stroke: #000000; stroke-width: 1.5;\" x1=\"16\" x2=\"243\" y1=\"28.2969\" y2=\"28.2969\"/><text fill=\"#000000\" font-family=\"sans-serif\" font-size=\"14\" font-weight=\"bold\" lengthAdjust=\"spacingAndGlyphs\" textLength=\"214\" x=\"20\" y=\"20.9951\">TextualRepresentationTest</text></a><!--MD5=[de5ec2e2e8f62f467e546659f5068c88]\n",
       "cluster E5--><a href=\"psysml:ff423fdb-a5ad-4383-b75e-3a1966f8baa4\" target=\"_top\" title=\"psysml:ff423fdb-a5ad-4383-b75e-3a1966f8baa4\" xlink:actuate=\"onRequest\" xlink:href=\"psysml:ff423fdb-a5ad-4383-b75e-3a1966f8baa4\" xlink:show=\"new\" xlink:title=\"psysml:ff423fdb-a5ad-4383-b75e-3a1966f8baa4\" xlink:type=\"simple\"><rect fill=\"#FFFFFF\" filter=\"url(#f1j5cqpi5n6qu5)\" height=\"155\" id=\"E5\" style=\"stroke: #A80036; stroke-width: 1.5;\" width=\"96\" x=\"294.5\" y=\"85\"/><rect fill=\"#FEFECE\" height=\"37.9375\" style=\"stroke: #A80036; stroke-width: 1.5;\" width=\"96\" x=\"294.5\" y=\"85\"/><text fill=\"#000000\" font-family=\"sans-serif\" font-size=\"12\" font-style=\"italic\" lengthAdjust=\"spacingAndGlyphs\" textLength=\"77\" x=\"304\" y=\"101.1387\">«action def»</text><text fill=\"#000000\" font-family=\"sans-serif\" font-size=\"12\" lengthAdjust=\"spacingAndGlyphs\" textLength=\"27\" x=\"329\" y=\"115.1074\">setX</text></a><!--MD5=[b4997ac47864f28c2f74865a473b2911]\n",
       "class E2--><a href=\"psysml:3f2a97d7-c1a2-4f9b-b443-e0389101b303\" target=\"_top\" title=\"psysml:3f2a97d7-c1a2-4f9b-b443-e0389101b303\" xlink:actuate=\"onRequest\" xlink:href=\"psysml:3f2a97d7-c1a2-4f9b-b443-e0389101b303\" xlink:show=\"new\" xlink:title=\"psysml:3f2a97d7-c1a2-4f9b-b443-e0389101b303\" xlink:type=\"simple\"><rect fill=\"#FEFECE\" filter=\"url(#f1j5cqpi5n6qu5)\" height=\"45.9375\" id=\"E2\" style=\"stroke: #A80036; stroke-width: 1.5;\" width=\"100\" x=\"178\" y=\"62\"/><ellipse cx=\"193\" cy=\"80.9688\" fill=\"#0000FF\" rx=\"11\" ry=\"11\" style=\"stroke: #A80036; stroke-width: 1.0;\"/><path d=\"M193.8438,87.7188 L191.3906,87.7188 L191.3906,77.4688 L188.25,77.4688 L188.25,75.3281 L196.9844,75.3281 L196.9844,77.4688 L193.8438,77.4688 L193.8438,87.7188 Z \"/><text fill=\"#000000\" font-family=\"sans-serif\" font-size=\"12\" font-style=\"italic\" lengthAdjust=\"spacingAndGlyphs\" textLength=\"72\" x=\"205\" y=\"78.1387\">«dataType»</text><text fill=\"#000000\" font-family=\"sans-serif\" font-size=\"12\" lengthAdjust=\"spacingAndGlyphs\" textLength=\"27\" x=\"227.5\" y=\"92.1074\">Real</text><line style=\"stroke: #A80036; stroke-width: 1.5;\" x1=\"179\" x2=\"277\" y1=\"99.9375\" y2=\"99.9375\"/></a><!--MD5=[09b614a08d8cba4a07c9adeb5e0fee81]\n",
       "class E3--><a href=\"psysml:bb207011-903d-4a71-a2f5-e51b80009fec\" target=\"_top\" title=\"psysml:bb207011-903d-4a71-a2f5-e51b80009fec\" xlink:actuate=\"onRequest\" xlink:href=\"psysml:bb207011-903d-4a71-a2f5-e51b80009fec\" xlink:show=\"new\" xlink:title=\"psysml:bb207011-903d-4a71-a2f5-e51b80009fec\" xlink:type=\"simple\"><rect fill=\"#FEFECE\" filter=\"url(#f1j5cqpi5n6qu5)\" height=\"88.3516\" id=\"E3\" style=\"stroke: #A80036; stroke-width: 1.5;\" width=\"111\" x=\"31.5\" y=\"41\"/><ellipse cx=\"54.6\" cy=\"59.9688\" fill=\"#0000FF\" rx=\"11\" ry=\"11\" style=\"stroke: #A80036; stroke-width: 1.0;\"/><path d=\"M55.4438,66.7188 L52.9906,66.7188 L52.9906,56.4688 L49.85,56.4688 L49.85,54.3281 L58.5844,54.3281 L58.5844,56.4688 L55.4438,56.4688 L55.4438,66.7188 Z \"/><text fill=\"#000000\" font-family=\"sans-serif\" font-size=\"12\" font-style=\"italic\" lengthAdjust=\"spacingAndGlyphs\" textLength=\"65\" x=\"68.4\" y=\"57.1387\">«item def»</text><text fill=\"#000000\" font-family=\"sans-serif\" font-size=\"12\" lengthAdjust=\"spacingAndGlyphs\" textLength=\"8\" x=\"96.9\" y=\"71.1074\">C</text><line style=\"stroke: #A80036; stroke-width: 1.5;\" x1=\"32.5\" x2=\"141.5\" y1=\"78.9375\" y2=\"78.9375\"/><text fill=\"#000000\" font-family=\"sans-serif\" font-size=\"11\" lengthAdjust=\"spacingAndGlyphs\" textLength=\"38\" x=\"37.5\" y=\"93.1479\">x: Real</text><text fill=\"#000000\" font-family=\"sans-serif\" font-size=\"11\" lengthAdjust=\"spacingAndGlyphs\" textLength=\"69\" x=\"37.5\" y=\"122.7573\">x_constraint</text><line style=\"stroke: #A80036; stroke-width: 1.0;\" x1=\"32.5\" x2=\"35.5\" y1=\"106.1445\" y2=\"106.1445\"/><text fill=\"#000000\" font-family=\"sans-serif\" font-size=\"11\" lengthAdjust=\"spacingAndGlyphs\" textLength=\"103\" x=\"35.5\" y=\"109.4526\">assertConstraints</text><line style=\"stroke: #A80036; stroke-width: 1.0;\" x1=\"138.5\" x2=\"141.5\" y1=\"106.1445\" y2=\"106.1445\"/></a><text fill=\"#000000\" font-family=\"sans-serif\" font-size=\"14\" lengthAdjust=\"spacingAndGlyphs\" textLength=\"8\" x=\"315\" y=\"63.6982\">c</text><rect fill=\"#A80036\" height=\"12\" style=\"stroke: #FEFECE; stroke-width: 1.5;\" width=\"12\" x=\"313\" y=\"79\"/><text fill=\"#000000\" font-family=\"sans-serif\" font-size=\"14\" lengthAdjust=\"spacingAndGlyphs\" textLength=\"38\" x=\"347\" y=\"63.6982\">newX</text><rect fill=\"#A80036\" height=\"12\" style=\"stroke: #FEFECE; stroke-width: 1.5;\" width=\"12\" x=\"360\" y=\"79\"/><!--MD5=[bf9dea95e7142b364fb7986e3de9337f]\n",
       "@startuml\r\n",
       " \r\n",
       "package \"TextualRepresentationTest\" as E1  [[psysml:0fc68415-d7d0-4850-b93e-796cf2adc089 ]]  {\r\n",
       "comp def \"Real\" as E2  <<(T,blue)dataType>> [[psysml:3f2a97d7-c1a2-4f9b-b443-e0389101b303 ]] {\r\n",
       "}\r\n",
       "comp def \"C\" as E3  <<(T,blue)item def>> [[psysml:bb207011-903d-4a71-a2f5-e51b80009fec ]] {\r\n",
       "x: Real\r\n",
       "- - assertConstraints - -\r\n",
       "x_constraint\r\n",
       "}\r\n",
       "rec def \"setX\" as E5  <<(T,blue)action def>> [[psysml:ff423fdb-a5ad-4383-b75e-3a1966f8baa4 ]] {\r\n",
       "portin \"c\" as E6  [[psysml:4c2c889d-aea7-4bfd-be6e-45844659a6a1 ]] \r\n",
       "portin \"newX\" as E7  [[psysml:471b2978-4f3d-4f5c-bcaa-50341599c3a3 ]] \r\n",
       "}\r\n",
       "\r\n",
       "}\r\n",
       "@enduml\r\n",
       "\n",
       "PlantUML version 1.2020.13(Sat Jun 13 12:26:38 UTC 2020)\n",
       "(EPL source distribution)\n",
       "Java Runtime: OpenJDK Runtime Environment\n",
       "JVM: OpenJDK 64-Bit Server VM\n",
       "Default Encoding: UTF-8\n",
       "Language: en\n",
       "Country: null\n",
       "--></g></svg>"
      ]
     },
     "execution_count": 8,
     "metadata": {},
     "output_type": "execute_result"
    }
   ],
   "source": [
    "%viz --style=\"COMPTREE\" --view=\"MIXED\" \"TextualRepresentationTest\""
   ]
  },
  {
   "cell_type": "code",
   "execution_count": 9,
   "id": "opposed-assist",
   "metadata": {
    "execution": {
     "iopub.execute_input": "2021-03-25T15:08:31.490843Z",
     "iopub.status.busy": "2021-03-25T15:08:31.489371Z",
     "iopub.status.idle": "2021-03-25T15:08:31.963809Z",
     "shell.execute_reply": "2021-03-25T15:08:31.962223Z"
    }
   },
   "outputs": [
    {
     "data": {
      "image/svg+xml": [
       "<?xml version=\"1.0\" encoding=\"UTF-8\" standalone=\"no\"?><svg xmlns=\"http://www.w3.org/2000/svg\" xmlns:xlink=\"http://www.w3.org/1999/xlink\" contentScriptType=\"application/ecmascript\" contentStyleType=\"text/css\" height=\"285px\" preserveAspectRatio=\"none\" style=\"width:432px;height:285px;\" version=\"1.1\" viewBox=\"0 0 432 285\" width=\"432px\" zoomAndPan=\"magnify\"><defs/><g><!--MD5=[fbc87193dbaf4d95561dea2c320d4a47]\n",
       "cluster E1--><a href=\"psysml:0fc68415-d7d0-4850-b93e-796cf2adc089\" target=\"_top\" title=\"psysml:0fc68415-d7d0-4850-b93e-796cf2adc089\" xlink:actuate=\"onRequest\" xlink:href=\"psysml:0fc68415-d7d0-4850-b93e-796cf2adc089\" xlink:show=\"new\" xlink:title=\"psysml:0fc68415-d7d0-4850-b93e-796cf2adc089\" xlink:type=\"simple\"><polygon fill=\"#FFFFFF\" points=\"16,6,236,6,243,28.2969,410,28.2969,410,273,16,273,16,6\" style=\"stroke: #000000; stroke-width: 1.5;\"/><line style=\"stroke: #000000; stroke-width: 1.5;\" x1=\"16\" x2=\"243\" y1=\"28.2969\" y2=\"28.2969\"/><text fill=\"#000000\" font-family=\"sans-serif\" font-size=\"14\" font-weight=\"bold\" lengthAdjust=\"spacingAndGlyphs\" textLength=\"214\" x=\"20\" y=\"20.9951\">TextualRepresentationTest</text></a><!--MD5=[de5ec2e2e8f62f467e546659f5068c88]\n",
       "cluster E5--><a href=\"psysml:ff423fdb-a5ad-4383-b75e-3a1966f8baa4\" target=\"_top\" title=\"psysml:ff423fdb-a5ad-4383-b75e-3a1966f8baa4\" xlink:actuate=\"onRequest\" xlink:href=\"psysml:ff423fdb-a5ad-4383-b75e-3a1966f8baa4\" xlink:show=\"new\" xlink:title=\"psysml:ff423fdb-a5ad-4383-b75e-3a1966f8baa4\" xlink:type=\"simple\"><rect fill=\"#FFFFFF\" height=\"163.5\" id=\"E5\" style=\"stroke: #383838; stroke-width: 1.5;\" width=\"96\" x=\"268.5\" y=\"93.5\"/><rect fill=\"#F8F8F8\" height=\"37.9375\" style=\"stroke: #383838; stroke-width: 1.5;\" width=\"96\" x=\"268.5\" y=\"93.5\"/><text fill=\"#000000\" font-family=\"sans-serif\" font-size=\"12\" font-style=\"italic\" lengthAdjust=\"spacingAndGlyphs\" textLength=\"77\" x=\"278\" y=\"109.6387\">«action def»</text><text fill=\"#000000\" font-family=\"sans-serif\" font-size=\"12\" lengthAdjust=\"spacingAndGlyphs\" textLength=\"27\" x=\"303\" y=\"123.6074\">setX</text></a><!--MD5=[b4997ac47864f28c2f74865a473b2911]\n",
       "class E2--><a href=\"psysml:3f2a97d7-c1a2-4f9b-b443-e0389101b303\" target=\"_top\" title=\"psysml:3f2a97d7-c1a2-4f9b-b443-e0389101b303\" xlink:actuate=\"onRequest\" xlink:href=\"psysml:3f2a97d7-c1a2-4f9b-b443-e0389101b303\" xlink:show=\"new\" xlink:title=\"psysml:3f2a97d7-c1a2-4f9b-b443-e0389101b303\" xlink:type=\"simple\"><rect fill=\"#FFFFFF\" height=\"45.9375\" id=\"E2\" style=\"stroke: #383838; stroke-width: 1.5;\" width=\"74\" x=\"178\" y=\"70.5\"/><text fill=\"#000000\" font-family=\"sans-serif\" font-size=\"12\" font-style=\"italic\" lengthAdjust=\"spacingAndGlyphs\" textLength=\"72\" x=\"179\" y=\"86.6387\">«dataType»</text><text fill=\"#000000\" font-family=\"sans-serif\" font-size=\"12\" lengthAdjust=\"spacingAndGlyphs\" textLength=\"27\" x=\"201.5\" y=\"100.6074\">Real</text><line style=\"stroke: #383838; stroke-width: 1.5;\" x1=\"179\" x2=\"251\" y1=\"108.4375\" y2=\"108.4375\"/></a><!--MD5=[09b614a08d8cba4a07c9adeb5e0fee81]\n",
       "class E3--><a href=\"psysml:bb207011-903d-4a71-a2f5-e51b80009fec\" target=\"_top\" title=\"psysml:bb207011-903d-4a71-a2f5-e51b80009fec\" xlink:actuate=\"onRequest\" xlink:href=\"psysml:bb207011-903d-4a71-a2f5-e51b80009fec\" xlink:show=\"new\" xlink:title=\"psysml:bb207011-903d-4a71-a2f5-e51b80009fec\" xlink:type=\"simple\"><rect fill=\"#FFFFFF\" height=\"105.1563\" id=\"E3\" style=\"stroke: #383838; stroke-width: 1.5;\" width=\"111\" x=\"31.5\" y=\"41\"/><text fill=\"#000000\" font-family=\"sans-serif\" font-size=\"12\" font-style=\"italic\" lengthAdjust=\"spacingAndGlyphs\" textLength=\"65\" x=\"54.5\" y=\"57.1387\">«item def»</text><text fill=\"#000000\" font-family=\"sans-serif\" font-size=\"12\" lengthAdjust=\"spacingAndGlyphs\" textLength=\"8\" x=\"83\" y=\"71.1074\">C</text><line style=\"stroke: #383838; stroke-width: 1.5;\" x1=\"32.5\" x2=\"141.5\" y1=\"78.9375\" y2=\"78.9375\"/><text fill=\"#000000\" font-family=\"sans-serif\" font-size=\"11\" lengthAdjust=\"spacingAndGlyphs\" textLength=\"38\" x=\"37.5\" y=\"109.9526\">x: Real</text><line style=\"stroke: #383838; stroke-width: 1.0;\" x1=\"32.5\" x2=\"59.5\" y1=\"93.3398\" y2=\"93.3398\"/><text fill=\"#000000\" font-family=\"sans-serif\" font-size=\"11\" lengthAdjust=\"spacingAndGlyphs\" textLength=\"55\" x=\"59.5\" y=\"96.6479\">attributes</text><line style=\"stroke: #383838; stroke-width: 1.0;\" x1=\"114.5\" x2=\"141.5\" y1=\"93.3398\" y2=\"93.3398\"/><text fill=\"#000000\" font-family=\"sans-serif\" font-size=\"11\" lengthAdjust=\"spacingAndGlyphs\" textLength=\"69\" x=\"37.5\" y=\"139.562\">x_constraint</text><line style=\"stroke: #383838; stroke-width: 1.0;\" x1=\"32.5\" x2=\"35.5\" y1=\"122.9492\" y2=\"122.9492\"/><text fill=\"#000000\" font-family=\"sans-serif\" font-size=\"11\" lengthAdjust=\"spacingAndGlyphs\" textLength=\"103\" x=\"35.5\" y=\"126.2573\">assertConstraints</text><line style=\"stroke: #383838; stroke-width: 1.0;\" x1=\"138.5\" x2=\"141.5\" y1=\"122.9492\" y2=\"122.9492\"/></a><text fill=\"#000000\" font-family=\"sans-serif\" font-size=\"14\" lengthAdjust=\"spacingAndGlyphs\" textLength=\"8\" x=\"289\" y=\"72.1982\">c</text><rect fill=\"#383838\" height=\"12\" style=\"stroke: #F8F8F8; stroke-width: 1.5;\" width=\"12\" x=\"287\" y=\"87.5\"/><text fill=\"#000000\" font-family=\"sans-serif\" font-size=\"14\" lengthAdjust=\"spacingAndGlyphs\" textLength=\"38\" x=\"321\" y=\"72.1982\">newX</text><rect fill=\"#383838\" height=\"12\" style=\"stroke: #F8F8F8; stroke-width: 1.5;\" width=\"12\" x=\"334\" y=\"87.5\"/><!--MD5=[5dd15cef1a8c4d9d4fc294f017f91f8f]\n",
       "@startuml\r\n",
       "skinparam linetype polyline\r\n",
       "skinparam monochrome true\r\n",
       "skinparam classbackgroundcolor white\r\n",
       "skinparam shadowing false\r\n",
       "skinparam wrapWidth 300\r\n",
       "hide circle\r\n",
       "\r\n",
       "package \"TextualRepresentationTest\" as E1  [[psysml:0fc68415-d7d0-4850-b93e-796cf2adc089 ]]  {\r\n",
       "comp def \"Real\" as E2  <<(T,blue)dataType>> [[psysml:3f2a97d7-c1a2-4f9b-b443-e0389101b303 ]] {\r\n",
       "}\r\n",
       "comp def \"C\" as E3  <<(T,blue)item def>> [[psysml:bb207011-903d-4a71-a2f5-e51b80009fec ]] {\r\n",
       "- - attributes - -\r\n",
       "x: Real\r\n",
       "- - assertConstraints - -\r\n",
       "x_constraint\r\n",
       "}\r\n",
       "rec def \"setX\" as E5  <<(T,blue)action def>> [[psysml:ff423fdb-a5ad-4383-b75e-3a1966f8baa4 ]] {\r\n",
       "portin \"c\" as E6  [[psysml:4c2c889d-aea7-4bfd-be6e-45844659a6a1 ]] \r\n",
       "portin \"newX\" as E7  [[psysml:471b2978-4f3d-4f5c-bcaa-50341599c3a3 ]] \r\n",
       "}\r\n",
       "\r\n",
       "}\r\n",
       "@enduml\r\n",
       "\n",
       "PlantUML version 1.2020.13(Sat Jun 13 12:26:38 UTC 2020)\n",
       "(EPL source distribution)\n",
       "Java Runtime: OpenJDK Runtime Environment\n",
       "JVM: OpenJDK 64-Bit Server VM\n",
       "Default Encoding: UTF-8\n",
       "Language: en\n",
       "Country: null\n",
       "--></g></svg>"
      ]
     },
     "execution_count": 9,
     "metadata": {},
     "output_type": "execute_result"
    }
   ],
   "source": [
    "%viz --style=\"POLYLINE\" --view=\"Default\" \"TextualRepresentationTest\""
   ]
  },
  {
   "cell_type": "code",
   "execution_count": 10,
   "id": "french-slave",
   "metadata": {
    "execution": {
     "iopub.execute_input": "2021-03-25T15:08:32.014798Z",
     "iopub.status.busy": "2021-03-25T15:08:32.014101Z",
     "iopub.status.idle": "2021-03-25T15:08:32.480237Z",
     "shell.execute_reply": "2021-03-25T15:08:32.478814Z"
    }
   },
   "outputs": [
    {
     "data": {
      "image/svg+xml": [
       "<?xml version=\"1.0\" encoding=\"UTF-8\" standalone=\"no\"?><svg xmlns=\"http://www.w3.org/2000/svg\" xmlns:xlink=\"http://www.w3.org/1999/xlink\" contentScriptType=\"application/ecmascript\" contentStyleType=\"text/css\" height=\"297px\" preserveAspectRatio=\"none\" style=\"width:290px;height:297px;\" version=\"1.1\" viewBox=\"0 0 290 297\" width=\"290px\" zoomAndPan=\"magnify\"><defs/><g><!--MD5=[fbc87193dbaf4d95561dea2c320d4a47]\n",
       "cluster E1--><a href=\"psysml:0fc68415-d7d0-4850-b93e-796cf2adc089\" target=\"_top\" title=\"psysml:0fc68415-d7d0-4850-b93e-796cf2adc089\" xlink:actuate=\"onRequest\" xlink:href=\"psysml:0fc68415-d7d0-4850-b93e-796cf2adc089\" xlink:show=\"new\" xlink:title=\"psysml:0fc68415-d7d0-4850-b93e-796cf2adc089\" xlink:type=\"simple\"><polygon fill=\"#FFFFFF\" points=\"16,6,236,6,243,28.2969,268,28.2969,268,285,16,285,16,6\" style=\"stroke: #000000; stroke-width: 1.5;\"/><line style=\"stroke: #000000; stroke-width: 1.5;\" x1=\"16\" x2=\"243\" y1=\"28.2969\" y2=\"28.2969\"/><text fill=\"#000000\" font-family=\"sans-serif\" font-size=\"14\" font-weight=\"bold\" lengthAdjust=\"spacingAndGlyphs\" textLength=\"214\" x=\"20\" y=\"20.9951\">TextualRepresentationTest</text></a><!--MD5=[b4997ac47864f28c2f74865a473b2911]\n",
       "class E2--><a href=\"psysml:3f2a97d7-c1a2-4f9b-b443-e0389101b303\" target=\"_top\" title=\"psysml:3f2a97d7-c1a2-4f9b-b443-e0389101b303\" xlink:actuate=\"onRequest\" xlink:href=\"psysml:3f2a97d7-c1a2-4f9b-b443-e0389101b303\" xlink:show=\"new\" xlink:title=\"psysml:3f2a97d7-c1a2-4f9b-b443-e0389101b303\" xlink:type=\"simple\"><rect fill=\"#FFFFFF\" height=\"45.9375\" id=\"E2\" style=\"stroke: #383838; stroke-width: 1.5;\" width=\"74\" x=\"32\" y=\"193.5\"/><text fill=\"#000000\" font-family=\"sans-serif\" font-size=\"12\" font-style=\"italic\" lengthAdjust=\"spacingAndGlyphs\" textLength=\"72\" x=\"33\" y=\"209.6387\">«dataType»</text><text fill=\"#000000\" font-family=\"sans-serif\" font-size=\"12\" lengthAdjust=\"spacingAndGlyphs\" textLength=\"27\" x=\"55.5\" y=\"223.6074\">Real</text><line style=\"stroke: #383838; stroke-width: 1.5;\" x1=\"33\" x2=\"105\" y1=\"231.4375\" y2=\"231.4375\"/></a><!--MD5=[09b614a08d8cba4a07c9adeb5e0fee81]\n",
       "class E3--><a href=\"psysml:bb207011-903d-4a71-a2f5-e51b80009fec\" target=\"_top\" title=\"psysml:bb207011-903d-4a71-a2f5-e51b80009fec\" xlink:actuate=\"onRequest\" xlink:href=\"psysml:bb207011-903d-4a71-a2f5-e51b80009fec\" xlink:show=\"new\" xlink:title=\"psysml:bb207011-903d-4a71-a2f5-e51b80009fec\" xlink:type=\"simple\"><rect fill=\"#FFFFFF\" height=\"105.1563\" id=\"E3\" style=\"stroke: #383838; stroke-width: 1.5;\" width=\"111\" x=\"141.5\" y=\"164\"/><text fill=\"#000000\" font-family=\"sans-serif\" font-size=\"12\" font-style=\"italic\" lengthAdjust=\"spacingAndGlyphs\" textLength=\"65\" x=\"164.5\" y=\"180.1387\">«item def»</text><text fill=\"#000000\" font-family=\"sans-serif\" font-size=\"12\" lengthAdjust=\"spacingAndGlyphs\" textLength=\"8\" x=\"193\" y=\"194.1074\">C</text><line style=\"stroke: #383838; stroke-width: 1.5;\" x1=\"142.5\" x2=\"251.5\" y1=\"201.9375\" y2=\"201.9375\"/><text fill=\"#000000\" font-family=\"sans-serif\" font-size=\"11\" lengthAdjust=\"spacingAndGlyphs\" textLength=\"38\" x=\"147.5\" y=\"232.9526\">x: Real</text><line style=\"stroke: #383838; stroke-width: 1.0;\" x1=\"142.5\" x2=\"169.5\" y1=\"216.3398\" y2=\"216.3398\"/><text fill=\"#000000\" font-family=\"sans-serif\" font-size=\"11\" lengthAdjust=\"spacingAndGlyphs\" textLength=\"55\" x=\"169.5\" y=\"219.6479\">attributes</text><line style=\"stroke: #383838; stroke-width: 1.0;\" x1=\"224.5\" x2=\"251.5\" y1=\"216.3398\" y2=\"216.3398\"/><text fill=\"#000000\" font-family=\"sans-serif\" font-size=\"11\" lengthAdjust=\"spacingAndGlyphs\" textLength=\"69\" x=\"147.5\" y=\"262.562\">x_constraint</text><line style=\"stroke: #383838; stroke-width: 1.0;\" x1=\"142.5\" x2=\"145.5\" y1=\"245.9492\" y2=\"245.9492\"/><text fill=\"#000000\" font-family=\"sans-serif\" font-size=\"11\" lengthAdjust=\"spacingAndGlyphs\" textLength=\"103\" x=\"145.5\" y=\"249.2573\">assertConstraints</text><line style=\"stroke: #383838; stroke-width: 1.0;\" x1=\"248.5\" x2=\"251.5\" y1=\"245.9492\" y2=\"245.9492\"/></a><!--MD5=[270fce915f116d4de14055a7c1d9a0f3]\n",
       "class E5--><a href=\"psysml:ff423fdb-a5ad-4383-b75e-3a1966f8baa4\" target=\"_top\" title=\"psysml:ff423fdb-a5ad-4383-b75e-3a1966f8baa4\" xlink:actuate=\"onRequest\" xlink:href=\"psysml:ff423fdb-a5ad-4383-b75e-3a1966f8baa4\" xlink:show=\"new\" xlink:title=\"psysml:ff423fdb-a5ad-4383-b75e-3a1966f8baa4\" xlink:type=\"simple\"><rect fill=\"#FFFFFF\" height=\"45.9375\" id=\"E5\" style=\"stroke: #383838; stroke-width: 1.5;\" width=\"79\" x=\"67.5\" y=\"41\"/><text fill=\"#000000\" font-family=\"sans-serif\" font-size=\"12\" font-style=\"italic\" lengthAdjust=\"spacingAndGlyphs\" textLength=\"77\" x=\"68.5\" y=\"57.1387\">«action def»</text><text fill=\"#000000\" font-family=\"sans-serif\" font-size=\"12\" lengthAdjust=\"spacingAndGlyphs\" textLength=\"27\" x=\"93.5\" y=\"71.1074\">setX</text><line style=\"stroke: #383838; stroke-width: 1.5;\" x1=\"68.5\" x2=\"145.5\" y1=\"78.9375\" y2=\"78.9375\"/></a><!--MD5=[6f107eb264eda4b26325f39a5516f1f3]\n",
       "reverse link E5 to E3--><a href=\"psysml:4c2c889d-aea7-4bfd-be6e-45844659a6a1\" target=\"_top\" title=\"psysml:4c2c889d-aea7-4bfd-be6e-45844659a6a1\" xlink:actuate=\"onRequest\" xlink:href=\"psysml:4c2c889d-aea7-4bfd-be6e-45844659a6a1\" xlink:show=\"new\" xlink:title=\"psysml:4c2c889d-aea7-4bfd-be6e-45844659a6a1\" xlink:type=\"simple\"><path d=\"M126.98,98.42 C138.48,117.65 153.18,142.22 166.13,163.88 \" fill=\"none\" id=\"E5&lt;-E3\" style=\"stroke: #383838; stroke-width: 1.0;\"/><polygon fill=\"#FFFFFF\" points=\"120.28,87.21,119.9261,94.4124,126.4384,97.5092,126.7923,90.3068,120.28,87.21\" style=\"stroke: #383838; stroke-width: 1.0;\"/><text fill=\"#000000\" font-family=\"sans-serif\" font-size=\"13\" lengthAdjust=\"spacingAndGlyphs\" textLength=\"7\" x=\"147\" y=\"130.0669\">c</text></a><!--MD5=[f51c6d1f1856fe338ac0413483fb1ccf]\n",
       "reverse link E5 to E2--><a href=\"psysml:471b2978-4f3d-4f5c-bcaa-50341599c3a3\" target=\"_top\" title=\"psysml:471b2978-4f3d-4f5c-bcaa-50341599c3a3\" xlink:actuate=\"onRequest\" xlink:href=\"psysml:471b2978-4f3d-4f5c-bcaa-50341599c3a3\" xlink:show=\"new\" xlink:title=\"psysml:471b2978-4f3d-4f5c-bcaa-50341599c3a3\" xlink:type=\"simple\"><path d=\"M98.18,99.93 C90.92,128.69 80.84,168.6 74.63,193.2 \" fill=\"none\" id=\"E5&lt;-E2\" style=\"stroke: #383838; stroke-width: 1.0;\"/><polygon fill=\"#FFFFFF\" points=\"101.39,87.21,96.0413,92.0465,98.4485,98.8439,103.7972,94.0074,101.39,87.21\" style=\"stroke: #383838; stroke-width: 1.0;\"/><text fill=\"#000000\" font-family=\"sans-serif\" font-size=\"13\" lengthAdjust=\"spacingAndGlyphs\" textLength=\"33\" x=\"94\" y=\"130.0669\">newX</text></a><!--MD5=[30f79739506a467777a771a86507e2ec]\n",
       "@startuml\r\n",
       "skinparam linetype polyline\r\n",
       "skinparam monochrome true\r\n",
       "skinparam classbackgroundcolor white\r\n",
       "skinparam shadowing false\r\n",
       "skinparam wrapWidth 300\r\n",
       "hide circle\r\n",
       "\r\n",
       "package \"TextualRepresentationTest\" as E1  [[psysml:0fc68415-d7d0-4850-b93e-796cf2adc089 ]]  {\r\n",
       "comp def \"Real\" as E2  <<(T,blue)dataType>> [[psysml:3f2a97d7-c1a2-4f9b-b443-e0389101b303 ]] {\r\n",
       "}\r\n",
       "comp def \"C\" as E3  <<(T,blue)item def>> [[psysml:bb207011-903d-4a71-a2f5-e51b80009fec ]] {\r\n",
       "- - attributes - -\r\n",
       "x: Real\r\n",
       "- - assertConstraints - -\r\n",
       "x_constraint\r\n",
       "}\r\n",
       "comp def \"setX\" as E5  <<(T,blue)action def>> [[psysml:ff423fdb-a5ad-4383-b75e-3a1966f8baa4 ]] {\r\n",
       "}\r\n",
       "E5 o- - E3 [[psysml:4c2c889d-aea7-4bfd-be6e-45844659a6a1 ]] : c\r\n",
       "E5 o- - E2 [[psysml:471b2978-4f3d-4f5c-bcaa-50341599c3a3 ]] : newX\r\n",
       "}\r\n",
       "@enduml\r\n",
       "\n",
       "PlantUML version 1.2020.13(Sat Jun 13 12:26:38 UTC 2020)\n",
       "(EPL source distribution)\n",
       "Java Runtime: OpenJDK Runtime Environment\n",
       "JVM: OpenJDK 64-Bit Server VM\n",
       "Default Encoding: UTF-8\n",
       "Language: en\n",
       "Country: null\n",
       "--></g></svg>"
      ]
     },
     "execution_count": 10,
     "metadata": {},
     "output_type": "execute_result"
    }
   ],
   "source": [
    "%viz --style=\"POLYLINE\" --view=\"Tree\" \"TextualRepresentationTest\""
   ]
  },
  {
   "cell_type": "code",
   "execution_count": 11,
   "id": "conscious-mozambique",
   "metadata": {
    "execution": {
     "iopub.execute_input": "2021-03-25T15:08:32.531851Z",
     "iopub.status.busy": "2021-03-25T15:08:32.529924Z",
     "iopub.status.idle": "2021-03-25T15:08:32.540670Z",
     "shell.execute_reply": "2021-03-25T15:08:32.541092Z"
    }
   },
   "outputs": [
    {
     "data": {
      "image/svg+xml": [
       "<?xml version=\"1.0\" encoding=\"UTF-8\" standalone=\"no\"?><svg xmlns=\"http://www.w3.org/2000/svg\" xmlns:xlink=\"http://www.w3.org/1999/xlink\" contentScriptType=\"application/ecmascript\" contentStyleType=\"text/css\" height=\"12px\" preserveAspectRatio=\"none\" style=\"width:12px;height:12px;\" version=\"1.1\" viewBox=\"0 0 12 12\" width=\"12px\" zoomAndPan=\"magnify\"><defs/><g><!--MD5=[896ac0e7a515d8dd7765a661cb4ee08b]\n",
       "@startuml\r\n",
       "skinparam linetype polyline\r\n",
       "skinparam monochrome true\r\n",
       "skinparam classbackgroundcolor white\r\n",
       "skinparam shadowing false\r\n",
       "skinparam wrapWidth 300\r\n",
       "hide circle\r\n",
       "\r\n",
       "@enduml\r\n",
       "\n",
       "PlantUML version 1.2020.13(Sat Jun 13 12:26:38 UTC 2020)\n",
       "(EPL source distribution)\n",
       "Java Runtime: OpenJDK Runtime Environment\n",
       "JVM: OpenJDK 64-Bit Server VM\n",
       "Default Encoding: UTF-8\n",
       "Language: en\n",
       "Country: null\n",
       "--></g></svg>"
      ]
     },
     "execution_count": 11,
     "metadata": {},
     "output_type": "execute_result"
    }
   ],
   "source": [
    "%viz --style=\"POLYLINE\" --view=\"State\" \"TextualRepresentationTest\""
   ]
  },
  {
   "cell_type": "code",
   "execution_count": 12,
   "id": "regular-farming",
   "metadata": {
    "execution": {
     "iopub.execute_input": "2021-03-25T15:08:32.594507Z",
     "iopub.status.busy": "2021-03-25T15:08:32.593884Z",
     "iopub.status.idle": "2021-03-25T15:08:32.671160Z",
     "shell.execute_reply": "2021-03-25T15:08:32.670829Z"
    }
   },
   "outputs": [
    {
     "data": {
      "image/svg+xml": [
       "<?xml version=\"1.0\" encoding=\"UTF-8\" standalone=\"no\"?><svg xmlns=\"http://www.w3.org/2000/svg\" xmlns:xlink=\"http://www.w3.org/1999/xlink\" contentScriptType=\"application/ecmascript\" contentStyleType=\"text/css\" height=\"123px\" preserveAspectRatio=\"none\" style=\"width:505px;height:123px;\" version=\"1.1\" viewBox=\"0 0 505 123\" width=\"505px\" zoomAndPan=\"magnify\"><defs/><g><!--MD5=[fbc87193dbaf4d95561dea2c320d4a47]\n",
       "cluster E1--><a href=\"psysml:0fc68415-d7d0-4850-b93e-796cf2adc089\" target=\"_top\" title=\"psysml:0fc68415-d7d0-4850-b93e-796cf2adc089\" xlink:actuate=\"onRequest\" xlink:href=\"psysml:0fc68415-d7d0-4850-b93e-796cf2adc089\" xlink:show=\"new\" xlink:title=\"psysml:0fc68415-d7d0-4850-b93e-796cf2adc089\" xlink:type=\"simple\"><polygon fill=\"#FFFFFF\" points=\"16,6,236,6,243,28.2969,483,28.2969,483,111,16,111,16,6\" style=\"stroke: #000000; stroke-width: 1.5;\"/><line style=\"stroke: #000000; stroke-width: 1.5;\" x1=\"16\" x2=\"243\" y1=\"28.2969\" y2=\"28.2969\"/><text fill=\"#000000\" font-family=\"sans-serif\" font-size=\"14\" font-weight=\"bold\" lengthAdjust=\"spacingAndGlyphs\" textLength=\"214\" x=\"20\" y=\"20.9951\">TextualRepresentationTest</text></a><!--MD5=[b4997ac47864f28c2f74865a473b2911]\n",
       "class E2--><a href=\"psysml:3f2a97d7-c1a2-4f9b-b443-e0389101b303\" target=\"_top\" title=\"psysml:3f2a97d7-c1a2-4f9b-b443-e0389101b303\" xlink:actuate=\"onRequest\" xlink:href=\"psysml:3f2a97d7-c1a2-4f9b-b443-e0389101b303\" xlink:show=\"new\" xlink:title=\"psysml:3f2a97d7-c1a2-4f9b-b443-e0389101b303\" xlink:type=\"simple\"><rect fill=\"#FFFFFF\" height=\"53.9375\" id=\"E2\" style=\"stroke: #383838; stroke-width: 1.5;\" width=\"122\" x=\"345\" y=\"41\"/><text fill=\"#000000\" font-family=\"sans-serif\" font-size=\"12\" font-style=\"italic\" lengthAdjust=\"spacingAndGlyphs\" textLength=\"120\" x=\"346\" y=\"57.1387\">«(T,blue)dataType»</text><text fill=\"#000000\" font-family=\"sans-serif\" font-size=\"12\" lengthAdjust=\"spacingAndGlyphs\" textLength=\"27\" x=\"392.5\" y=\"71.1074\">Real</text><line style=\"stroke: #383838; stroke-width: 1.5;\" x1=\"346\" x2=\"466\" y1=\"78.9375\" y2=\"78.9375\"/><line style=\"stroke: #383838; stroke-width: 1.5;\" x1=\"346\" x2=\"466\" y1=\"86.9375\" y2=\"86.9375\"/></a><!--MD5=[09b614a08d8cba4a07c9adeb5e0fee81]\n",
       "class E3--><a href=\"psysml:bb207011-903d-4a71-a2f5-e51b80009fec\" target=\"_top\" title=\"psysml:bb207011-903d-4a71-a2f5-e51b80009fec\" xlink:actuate=\"onRequest\" xlink:href=\"psysml:bb207011-903d-4a71-a2f5-e51b80009fec\" xlink:show=\"new\" xlink:title=\"psysml:bb207011-903d-4a71-a2f5-e51b80009fec\" xlink:type=\"simple\"><rect fill=\"#FFFFFF\" height=\"53.9375\" id=\"E3\" style=\"stroke: #383838; stroke-width: 1.5;\" width=\"115\" x=\"194.5\" y=\"41\"/><text fill=\"#000000\" font-family=\"sans-serif\" font-size=\"12\" font-style=\"italic\" lengthAdjust=\"spacingAndGlyphs\" textLength=\"113\" x=\"195.5\" y=\"57.1387\">«(T,blue)item def»</text><text fill=\"#000000\" font-family=\"sans-serif\" font-size=\"12\" lengthAdjust=\"spacingAndGlyphs\" textLength=\"8\" x=\"248\" y=\"71.1074\">C</text><line style=\"stroke: #383838; stroke-width: 1.5;\" x1=\"195.5\" x2=\"308.5\" y1=\"78.9375\" y2=\"78.9375\"/><line style=\"stroke: #383838; stroke-width: 1.5;\" x1=\"195.5\" x2=\"308.5\" y1=\"86.9375\" y2=\"86.9375\"/></a><!--MD5=[ebbe1d658d1005bcc118a6aa81145e00]\n",
       "class E4--><a href=\"psysml:ff423fdb-a5ad-4383-b75e-3a1966f8baa4\" target=\"_top\" title=\"psysml:ff423fdb-a5ad-4383-b75e-3a1966f8baa4\" xlink:actuate=\"onRequest\" xlink:href=\"psysml:ff423fdb-a5ad-4383-b75e-3a1966f8baa4\" xlink:show=\"new\" xlink:title=\"psysml:ff423fdb-a5ad-4383-b75e-3a1966f8baa4\" xlink:type=\"simple\"><rect fill=\"#FFFFFF\" height=\"53.9375\" id=\"E4\" style=\"stroke: #383838; stroke-width: 1.5;\" width=\"127\" x=\"32.5\" y=\"41\"/><text fill=\"#000000\" font-family=\"sans-serif\" font-size=\"12\" font-style=\"italic\" lengthAdjust=\"spacingAndGlyphs\" textLength=\"125\" x=\"33.5\" y=\"57.1387\">«(T,blue)action def»</text><text fill=\"#000000\" font-family=\"sans-serif\" font-size=\"12\" lengthAdjust=\"spacingAndGlyphs\" textLength=\"27\" x=\"82.5\" y=\"71.1074\">setX</text><line style=\"stroke: #383838; stroke-width: 1.5;\" x1=\"33.5\" x2=\"158.5\" y1=\"78.9375\" y2=\"78.9375\"/><line style=\"stroke: #383838; stroke-width: 1.5;\" x1=\"33.5\" x2=\"158.5\" y1=\"86.9375\" y2=\"86.9375\"/></a><!--MD5=[9ae6b2e125d5a9bdc08ac4e32b9c0a55]\n",
       "@startuml\r\n",
       "skinparam ranksep 8\r\n",
       "skinparam rectangle {\r\n",
       " backgroundColor<<block>> LightGreen\r\n",
       "}\r\n",
       "skinparam linetype polyline\r\n",
       "skinparam monochrome true\r\n",
       "skinparam classbackgroundcolor white\r\n",
       "skinparam shadowing false\r\n",
       "skinparam wrapWidth 300\r\n",
       "hide circle\r\n",
       "\r\n",
       "package \"TextualRepresentationTest\" as E1  [[psysml:0fc68415-d7d0-4850-b93e-796cf2adc089 ]]  {\r\n",
       "def \"Real\" as E2  <<(T,blue)dataType>> [[psysml:3f2a97d7-c1a2-4f9b-b443-e0389101b303 ]] \r\n",
       "def \"C\" as E3  <<(T,blue)item def>> [[psysml:bb207011-903d-4a71-a2f5-e51b80009fec ]] \r\n",
       "def \"setX\" as E4  <<(T,blue)action def>> [[psysml:ff423fdb-a5ad-4383-b75e-3a1966f8baa4 ]] \r\n",
       "}\r\n",
       "@enduml\r\n",
       "\n",
       "PlantUML version 1.2020.13(Sat Jun 13 12:26:38 UTC 2020)\n",
       "(EPL source distribution)\n",
       "Java Runtime: OpenJDK Runtime Environment\n",
       "JVM: OpenJDK 64-Bit Server VM\n",
       "Default Encoding: UTF-8\n",
       "Language: en\n",
       "Country: null\n",
       "--></g></svg>"
      ]
     },
     "execution_count": 12,
     "metadata": {},
     "output_type": "execute_result"
    }
   ],
   "source": [
    "%viz --style=\"POLYLINE\" --view=\"Interconnection\" \"TextualRepresentationTest\""
   ]
  },
  {
   "cell_type": "code",
   "execution_count": 13,
   "id": "emerging-belize",
   "metadata": {
    "execution": {
     "iopub.execute_input": "2021-03-25T15:08:32.724133Z",
     "iopub.status.busy": "2021-03-25T15:08:32.723584Z",
     "iopub.status.idle": "2021-03-25T15:08:32.787135Z",
     "shell.execute_reply": "2021-03-25T15:08:32.786804Z"
    }
   },
   "outputs": [
    {
     "data": {
      "image/svg+xml": [
       "<?xml version=\"1.0\" encoding=\"UTF-8\" standalone=\"no\"?><svg xmlns=\"http://www.w3.org/2000/svg\" xmlns:xlink=\"http://www.w3.org/1999/xlink\" contentScriptType=\"application/ecmascript\" contentStyleType=\"text/css\" height=\"126px\" preserveAspectRatio=\"none\" style=\"width:150px;height:126px;\" version=\"1.1\" viewBox=\"0 0 150 126\" width=\"150px\" zoomAndPan=\"magnify\"><defs/><g><!--MD5=[fbc87193dbaf4d95561dea2c320d4a47]\n",
       "cluster E1--><a href=\"psysml:ff423fdb-a5ad-4383-b75e-3a1966f8baa4\" target=\"_top\" title=\"psysml:ff423fdb-a5ad-4383-b75e-3a1966f8baa4\" xlink:actuate=\"onRequest\" xlink:href=\"psysml:ff423fdb-a5ad-4383-b75e-3a1966f8baa4\" xlink:show=\"new\" xlink:title=\"psysml:ff423fdb-a5ad-4383-b75e-3a1966f8baa4\" xlink:type=\"simple\"><rect fill=\"#FFFFFF\" height=\"73\" id=\"E1\" style=\"stroke: #383838; stroke-width: 1.5;\" width=\"132\" x=\"7\" y=\"42.0986\"/><rect fill=\"#F8F8F8\" height=\"37.9375\" style=\"stroke: #383838; stroke-width: 1.5;\" width=\"132\" x=\"7\" y=\"42.0986\"/><text fill=\"#000000\" font-family=\"sans-serif\" font-size=\"12\" font-style=\"italic\" lengthAdjust=\"spacingAndGlyphs\" textLength=\"77\" x=\"34.5\" y=\"58.2373\">«action def»</text><text fill=\"#000000\" font-family=\"sans-serif\" font-size=\"12\" lengthAdjust=\"spacingAndGlyphs\" textLength=\"27\" x=\"59.5\" y=\"72.2061\">setX</text></a><text fill=\"#000000\" font-family=\"sans-serif\" font-size=\"14\" lengthAdjust=\"spacingAndGlyphs\" textLength=\"8\" x=\"21\" y=\"20.7969\">c</text><rect fill=\"#383838\" height=\"12\" style=\"stroke: #F8F8F8; stroke-width: 1.5;\" width=\"12\" x=\"19\" y=\"36.0986\"/><text fill=\"#000000\" font-family=\"sans-serif\" font-size=\"14\" lengthAdjust=\"spacingAndGlyphs\" textLength=\"38\" x=\"53\" y=\"20.7969\">newX</text><rect fill=\"#383838\" height=\"12\" style=\"stroke: #F8F8F8; stroke-width: 1.5;\" width=\"12\" x=\"66\" y=\"36.0986\"/><!--MD5=[1b86124641441fde6ef97a6bbd848a8e]\n",
       "@startuml\r\n",
       "skinparam ranksep 8\r\n",
       "skinparam linetype polyline\r\n",
       "skinparam monochrome true\r\n",
       "skinparam classbackgroundcolor white\r\n",
       "skinparam shadowing false\r\n",
       "skinparam wrapWidth 300\r\n",
       "hide circle\r\n",
       "\r\n",
       "rec def \"setX\" as E1  <<(T,blue)action def>> [[psysml:ff423fdb-a5ad-4383-b75e-3a1966f8baa4 ]] {\r\n",
       "portin \"c\" as E2  [[psysml:4c2c889d-aea7-4bfd-be6e-45844659a6a1 ]] \r\n",
       "portin \"newX\" as E3  [[psysml:471b2978-4f3d-4f5c-bcaa-50341599c3a3 ]] \r\n",
       "}\r\n",
       "\r\n",
       "@enduml\r\n",
       "\n",
       "PlantUML version 1.2020.13(Sat Jun 13 12:26:38 UTC 2020)\n",
       "(EPL source distribution)\n",
       "Java Runtime: OpenJDK Runtime Environment\n",
       "JVM: OpenJDK 64-Bit Server VM\n",
       "Default Encoding: UTF-8\n",
       "Language: en\n",
       "Country: null\n",
       "--></g></svg>"
      ]
     },
     "execution_count": 13,
     "metadata": {},
     "output_type": "execute_result"
    }
   ],
   "source": [
    "%viz --style=\"POLYLINE\" --view=\"Action\" \"TextualRepresentationTest\""
   ]
  },
  {
   "cell_type": "code",
   "execution_count": 14,
   "id": "negative-apparel",
   "metadata": {
    "execution": {
     "iopub.execute_input": "2021-03-25T15:08:32.839393Z",
     "iopub.status.busy": "2021-03-25T15:08:32.838777Z",
     "iopub.status.idle": "2021-03-25T15:08:33.267087Z",
     "shell.execute_reply": "2021-03-25T15:08:33.265451Z"
    }
   },
   "outputs": [
    {
     "data": {
      "image/svg+xml": [
       "<?xml version=\"1.0\" encoding=\"UTF-8\" standalone=\"no\"?><svg xmlns=\"http://www.w3.org/2000/svg\" xmlns:xlink=\"http://www.w3.org/1999/xlink\" contentScriptType=\"application/ecmascript\" contentStyleType=\"text/css\" height=\"297px\" preserveAspectRatio=\"none\" style=\"width:290px;height:297px;\" version=\"1.1\" viewBox=\"0 0 290 297\" width=\"290px\" zoomAndPan=\"magnify\"><defs/><g><!--MD5=[fbc87193dbaf4d95561dea2c320d4a47]\n",
       "cluster E1--><a href=\"psysml:0fc68415-d7d0-4850-b93e-796cf2adc089\" target=\"_top\" title=\"psysml:0fc68415-d7d0-4850-b93e-796cf2adc089\" xlink:actuate=\"onRequest\" xlink:href=\"psysml:0fc68415-d7d0-4850-b93e-796cf2adc089\" xlink:show=\"new\" xlink:title=\"psysml:0fc68415-d7d0-4850-b93e-796cf2adc089\" xlink:type=\"simple\"><polygon fill=\"#FFFFFF\" points=\"16,6,236,6,243,28.2969,268,28.2969,268,285,16,285,16,6\" style=\"stroke: #000000; stroke-width: 1.5;\"/><line style=\"stroke: #000000; stroke-width: 1.5;\" x1=\"16\" x2=\"243\" y1=\"28.2969\" y2=\"28.2969\"/><text fill=\"#000000\" font-family=\"sans-serif\" font-size=\"14\" font-weight=\"bold\" lengthAdjust=\"spacingAndGlyphs\" textLength=\"214\" x=\"20\" y=\"20.9951\">TextualRepresentationTest</text></a><!--MD5=[b4997ac47864f28c2f74865a473b2911]\n",
       "class E2--><a href=\"psysml:3f2a97d7-c1a2-4f9b-b443-e0389101b303\" target=\"_top\" title=\"psysml:3f2a97d7-c1a2-4f9b-b443-e0389101b303\" xlink:actuate=\"onRequest\" xlink:href=\"psysml:3f2a97d7-c1a2-4f9b-b443-e0389101b303\" xlink:show=\"new\" xlink:title=\"psysml:3f2a97d7-c1a2-4f9b-b443-e0389101b303\" xlink:type=\"simple\"><rect fill=\"#FFFFFF\" height=\"45.9375\" id=\"E2\" style=\"stroke: #383838; stroke-width: 1.5;\" width=\"74\" x=\"32\" y=\"193.5\"/><text fill=\"#000000\" font-family=\"sans-serif\" font-size=\"12\" font-style=\"italic\" lengthAdjust=\"spacingAndGlyphs\" textLength=\"72\" x=\"33\" y=\"209.6387\">«dataType»</text><text fill=\"#000000\" font-family=\"sans-serif\" font-size=\"12\" lengthAdjust=\"spacingAndGlyphs\" textLength=\"27\" x=\"55.5\" y=\"223.6074\">Real</text><line style=\"stroke: #383838; stroke-width: 1.5;\" x1=\"33\" x2=\"105\" y1=\"231.4375\" y2=\"231.4375\"/></a><!--MD5=[09b614a08d8cba4a07c9adeb5e0fee81]\n",
       "class E3--><a href=\"psysml:bb207011-903d-4a71-a2f5-e51b80009fec\" target=\"_top\" title=\"psysml:bb207011-903d-4a71-a2f5-e51b80009fec\" xlink:actuate=\"onRequest\" xlink:href=\"psysml:bb207011-903d-4a71-a2f5-e51b80009fec\" xlink:show=\"new\" xlink:title=\"psysml:bb207011-903d-4a71-a2f5-e51b80009fec\" xlink:type=\"simple\"><rect fill=\"#FFFFFF\" height=\"105.1563\" id=\"E3\" style=\"stroke: #383838; stroke-width: 1.5;\" width=\"111\" x=\"141.5\" y=\"164\"/><text fill=\"#000000\" font-family=\"sans-serif\" font-size=\"12\" font-style=\"italic\" lengthAdjust=\"spacingAndGlyphs\" textLength=\"65\" x=\"164.5\" y=\"180.1387\">«item def»</text><text fill=\"#000000\" font-family=\"sans-serif\" font-size=\"12\" lengthAdjust=\"spacingAndGlyphs\" textLength=\"8\" x=\"193\" y=\"194.1074\">C</text><line style=\"stroke: #383838; stroke-width: 1.5;\" x1=\"142.5\" x2=\"251.5\" y1=\"201.9375\" y2=\"201.9375\"/><text fill=\"#000000\" font-family=\"sans-serif\" font-size=\"11\" lengthAdjust=\"spacingAndGlyphs\" textLength=\"38\" x=\"147.5\" y=\"232.9526\">x: Real</text><line style=\"stroke: #383838; stroke-width: 1.0;\" x1=\"142.5\" x2=\"169.5\" y1=\"216.3398\" y2=\"216.3398\"/><text fill=\"#000000\" font-family=\"sans-serif\" font-size=\"11\" lengthAdjust=\"spacingAndGlyphs\" textLength=\"55\" x=\"169.5\" y=\"219.6479\">attributes</text><line style=\"stroke: #383838; stroke-width: 1.0;\" x1=\"224.5\" x2=\"251.5\" y1=\"216.3398\" y2=\"216.3398\"/><text fill=\"#000000\" font-family=\"sans-serif\" font-size=\"11\" lengthAdjust=\"spacingAndGlyphs\" textLength=\"69\" x=\"147.5\" y=\"262.562\">x_constraint</text><line style=\"stroke: #383838; stroke-width: 1.0;\" x1=\"142.5\" x2=\"145.5\" y1=\"245.9492\" y2=\"245.9492\"/><text fill=\"#000000\" font-family=\"sans-serif\" font-size=\"11\" lengthAdjust=\"spacingAndGlyphs\" textLength=\"103\" x=\"145.5\" y=\"249.2573\">assertConstraints</text><line style=\"stroke: #383838; stroke-width: 1.0;\" x1=\"248.5\" x2=\"251.5\" y1=\"245.9492\" y2=\"245.9492\"/></a><!--MD5=[270fce915f116d4de14055a7c1d9a0f3]\n",
       "class E5--><a href=\"psysml:ff423fdb-a5ad-4383-b75e-3a1966f8baa4\" target=\"_top\" title=\"psysml:ff423fdb-a5ad-4383-b75e-3a1966f8baa4\" xlink:actuate=\"onRequest\" xlink:href=\"psysml:ff423fdb-a5ad-4383-b75e-3a1966f8baa4\" xlink:show=\"new\" xlink:title=\"psysml:ff423fdb-a5ad-4383-b75e-3a1966f8baa4\" xlink:type=\"simple\"><rect fill=\"#FFFFFF\" height=\"45.9375\" id=\"E5\" style=\"stroke: #383838; stroke-width: 1.5;\" width=\"79\" x=\"67.5\" y=\"41\"/><text fill=\"#000000\" font-family=\"sans-serif\" font-size=\"12\" font-style=\"italic\" lengthAdjust=\"spacingAndGlyphs\" textLength=\"77\" x=\"68.5\" y=\"57.1387\">«action def»</text><text fill=\"#000000\" font-family=\"sans-serif\" font-size=\"12\" lengthAdjust=\"spacingAndGlyphs\" textLength=\"27\" x=\"93.5\" y=\"71.1074\">setX</text><line style=\"stroke: #383838; stroke-width: 1.5;\" x1=\"68.5\" x2=\"145.5\" y1=\"78.9375\" y2=\"78.9375\"/></a><!--MD5=[6f107eb264eda4b26325f39a5516f1f3]\n",
       "reverse link E5 to E3--><a href=\"psysml:4c2c889d-aea7-4bfd-be6e-45844659a6a1\" target=\"_top\" title=\"psysml:4c2c889d-aea7-4bfd-be6e-45844659a6a1\" xlink:actuate=\"onRequest\" xlink:href=\"psysml:4c2c889d-aea7-4bfd-be6e-45844659a6a1\" xlink:show=\"new\" xlink:title=\"psysml:4c2c889d-aea7-4bfd-be6e-45844659a6a1\" xlink:type=\"simple\"><path d=\"M126.98,98.42 C138.48,117.65 153.18,142.22 166.13,163.88 \" fill=\"none\" id=\"E5&lt;-E3\" style=\"stroke: #383838; stroke-width: 1.0;\"/><polygon fill=\"#FFFFFF\" points=\"120.28,87.21,119.9261,94.4124,126.4384,97.5092,126.7923,90.3068,120.28,87.21\" style=\"stroke: #383838; stroke-width: 1.0;\"/><text fill=\"#000000\" font-family=\"sans-serif\" font-size=\"13\" lengthAdjust=\"spacingAndGlyphs\" textLength=\"7\" x=\"147\" y=\"130.0669\">c</text></a><!--MD5=[f51c6d1f1856fe338ac0413483fb1ccf]\n",
       "reverse link E5 to E2--><a href=\"psysml:471b2978-4f3d-4f5c-bcaa-50341599c3a3\" target=\"_top\" title=\"psysml:471b2978-4f3d-4f5c-bcaa-50341599c3a3\" xlink:actuate=\"onRequest\" xlink:href=\"psysml:471b2978-4f3d-4f5c-bcaa-50341599c3a3\" xlink:show=\"new\" xlink:title=\"psysml:471b2978-4f3d-4f5c-bcaa-50341599c3a3\" xlink:type=\"simple\"><path d=\"M98.18,99.93 C90.92,128.69 80.84,168.6 74.63,193.2 \" fill=\"none\" id=\"E5&lt;-E2\" style=\"stroke: #383838; stroke-width: 1.0;\"/><polygon fill=\"#FFFFFF\" points=\"101.39,87.21,96.0413,92.0465,98.4485,98.8439,103.7972,94.0074,101.39,87.21\" style=\"stroke: #383838; stroke-width: 1.0;\"/><text fill=\"#000000\" font-family=\"sans-serif\" font-size=\"13\" lengthAdjust=\"spacingAndGlyphs\" textLength=\"33\" x=\"94\" y=\"130.0669\">newX</text></a><!--MD5=[30f79739506a467777a771a86507e2ec]\n",
       "@startuml\r\n",
       "skinparam linetype polyline\r\n",
       "skinparam monochrome true\r\n",
       "skinparam classbackgroundcolor white\r\n",
       "skinparam shadowing false\r\n",
       "skinparam wrapWidth 300\r\n",
       "hide circle\r\n",
       "\r\n",
       "package \"TextualRepresentationTest\" as E1  [[psysml:0fc68415-d7d0-4850-b93e-796cf2adc089 ]]  {\r\n",
       "comp def \"Real\" as E2  <<(T,blue)dataType>> [[psysml:3f2a97d7-c1a2-4f9b-b443-e0389101b303 ]] {\r\n",
       "}\r\n",
       "comp def \"C\" as E3  <<(T,blue)item def>> [[psysml:bb207011-903d-4a71-a2f5-e51b80009fec ]] {\r\n",
       "- - attributes - -\r\n",
       "x: Real\r\n",
       "- - assertConstraints - -\r\n",
       "x_constraint\r\n",
       "}\r\n",
       "comp def \"setX\" as E5  <<(T,blue)action def>> [[psysml:ff423fdb-a5ad-4383-b75e-3a1966f8baa4 ]] {\r\n",
       "}\r\n",
       "E5 o- - E3 [[psysml:4c2c889d-aea7-4bfd-be6e-45844659a6a1 ]] : c\r\n",
       "E5 o- - E2 [[psysml:471b2978-4f3d-4f5c-bcaa-50341599c3a3 ]] : newX\r\n",
       "}\r\n",
       "@enduml\r\n",
       "\n",
       "PlantUML version 1.2020.13(Sat Jun 13 12:26:38 UTC 2020)\n",
       "(EPL source distribution)\n",
       "Java Runtime: OpenJDK Runtime Environment\n",
       "JVM: OpenJDK 64-Bit Server VM\n",
       "Default Encoding: UTF-8\n",
       "Language: en\n",
       "Country: null\n",
       "--></g></svg>"
      ]
     },
     "execution_count": 14,
     "metadata": {},
     "output_type": "execute_result"
    }
   ],
   "source": [
    "%viz --style=\"POLYLINE\" --view=\"Sequence\" \"TextualRepresentationTest\""
   ]
  },
  {
   "cell_type": "code",
   "execution_count": 15,
   "id": "mexican-turkish",
   "metadata": {
    "execution": {
     "iopub.execute_input": "2021-03-25T15:08:33.319676Z",
     "iopub.status.busy": "2021-03-25T15:08:33.319139Z",
     "iopub.status.idle": "2021-03-25T15:08:33.769795Z",
     "shell.execute_reply": "2021-03-25T15:08:33.768648Z"
    }
   },
   "outputs": [
    {
     "data": {
      "image/svg+xml": [
       "<?xml version=\"1.0\" encoding=\"UTF-8\" standalone=\"no\"?><svg xmlns=\"http://www.w3.org/2000/svg\" xmlns:xlink=\"http://www.w3.org/1999/xlink\" contentScriptType=\"application/ecmascript\" contentStyleType=\"text/css\" height=\"285px\" preserveAspectRatio=\"none\" style=\"width:432px;height:285px;\" version=\"1.1\" viewBox=\"0 0 432 285\" width=\"432px\" zoomAndPan=\"magnify\"><defs/><g><!--MD5=[fbc87193dbaf4d95561dea2c320d4a47]\n",
       "cluster E1--><a href=\"psysml:0fc68415-d7d0-4850-b93e-796cf2adc089\" target=\"_top\" title=\"psysml:0fc68415-d7d0-4850-b93e-796cf2adc089\" xlink:actuate=\"onRequest\" xlink:href=\"psysml:0fc68415-d7d0-4850-b93e-796cf2adc089\" xlink:show=\"new\" xlink:title=\"psysml:0fc68415-d7d0-4850-b93e-796cf2adc089\" xlink:type=\"simple\"><polygon fill=\"#FFFFFF\" points=\"16,6,236,6,243,28.2969,410,28.2969,410,273,16,273,16,6\" style=\"stroke: #000000; stroke-width: 1.5;\"/><line style=\"stroke: #000000; stroke-width: 1.5;\" x1=\"16\" x2=\"243\" y1=\"28.2969\" y2=\"28.2969\"/><text fill=\"#000000\" font-family=\"sans-serif\" font-size=\"14\" font-weight=\"bold\" lengthAdjust=\"spacingAndGlyphs\" textLength=\"214\" x=\"20\" y=\"20.9951\">TextualRepresentationTest</text></a><!--MD5=[de5ec2e2e8f62f467e546659f5068c88]\n",
       "cluster E5--><a href=\"psysml:ff423fdb-a5ad-4383-b75e-3a1966f8baa4\" target=\"_top\" title=\"psysml:ff423fdb-a5ad-4383-b75e-3a1966f8baa4\" xlink:actuate=\"onRequest\" xlink:href=\"psysml:ff423fdb-a5ad-4383-b75e-3a1966f8baa4\" xlink:show=\"new\" xlink:title=\"psysml:ff423fdb-a5ad-4383-b75e-3a1966f8baa4\" xlink:type=\"simple\"><rect fill=\"#FFFFFF\" height=\"163.5\" id=\"E5\" style=\"stroke: #383838; stroke-width: 1.5;\" width=\"96\" x=\"268.5\" y=\"93.5\"/><rect fill=\"#F8F8F8\" height=\"37.9375\" style=\"stroke: #383838; stroke-width: 1.5;\" width=\"96\" x=\"268.5\" y=\"93.5\"/><text fill=\"#000000\" font-family=\"sans-serif\" font-size=\"12\" font-style=\"italic\" lengthAdjust=\"spacingAndGlyphs\" textLength=\"77\" x=\"278\" y=\"109.6387\">«action def»</text><text fill=\"#000000\" font-family=\"sans-serif\" font-size=\"12\" lengthAdjust=\"spacingAndGlyphs\" textLength=\"27\" x=\"303\" y=\"123.6074\">setX</text></a><!--MD5=[b4997ac47864f28c2f74865a473b2911]\n",
       "class E2--><a href=\"psysml:3f2a97d7-c1a2-4f9b-b443-e0389101b303\" target=\"_top\" title=\"psysml:3f2a97d7-c1a2-4f9b-b443-e0389101b303\" xlink:actuate=\"onRequest\" xlink:href=\"psysml:3f2a97d7-c1a2-4f9b-b443-e0389101b303\" xlink:show=\"new\" xlink:title=\"psysml:3f2a97d7-c1a2-4f9b-b443-e0389101b303\" xlink:type=\"simple\"><rect fill=\"#FFFFFF\" height=\"45.9375\" id=\"E2\" style=\"stroke: #383838; stroke-width: 1.5;\" width=\"74\" x=\"178\" y=\"70.5\"/><text fill=\"#000000\" font-family=\"sans-serif\" font-size=\"12\" font-style=\"italic\" lengthAdjust=\"spacingAndGlyphs\" textLength=\"72\" x=\"179\" y=\"86.6387\">«dataType»</text><text fill=\"#000000\" font-family=\"sans-serif\" font-size=\"12\" lengthAdjust=\"spacingAndGlyphs\" textLength=\"27\" x=\"201.5\" y=\"100.6074\">Real</text><line style=\"stroke: #383838; stroke-width: 1.5;\" x1=\"179\" x2=\"251\" y1=\"108.4375\" y2=\"108.4375\"/></a><!--MD5=[09b614a08d8cba4a07c9adeb5e0fee81]\n",
       "class E3--><a href=\"psysml:bb207011-903d-4a71-a2f5-e51b80009fec\" target=\"_top\" title=\"psysml:bb207011-903d-4a71-a2f5-e51b80009fec\" xlink:actuate=\"onRequest\" xlink:href=\"psysml:bb207011-903d-4a71-a2f5-e51b80009fec\" xlink:show=\"new\" xlink:title=\"psysml:bb207011-903d-4a71-a2f5-e51b80009fec\" xlink:type=\"simple\"><rect fill=\"#FFFFFF\" height=\"105.1563\" id=\"E3\" style=\"stroke: #383838; stroke-width: 1.5;\" width=\"111\" x=\"31.5\" y=\"41\"/><text fill=\"#000000\" font-family=\"sans-serif\" font-size=\"12\" font-style=\"italic\" lengthAdjust=\"spacingAndGlyphs\" textLength=\"65\" x=\"54.5\" y=\"57.1387\">«item def»</text><text fill=\"#000000\" font-family=\"sans-serif\" font-size=\"12\" lengthAdjust=\"spacingAndGlyphs\" textLength=\"8\" x=\"83\" y=\"71.1074\">C</text><line style=\"stroke: #383838; stroke-width: 1.5;\" x1=\"32.5\" x2=\"141.5\" y1=\"78.9375\" y2=\"78.9375\"/><text fill=\"#000000\" font-family=\"sans-serif\" font-size=\"11\" lengthAdjust=\"spacingAndGlyphs\" textLength=\"38\" x=\"37.5\" y=\"109.9526\">x: Real</text><line style=\"stroke: #383838; stroke-width: 1.0;\" x1=\"32.5\" x2=\"59.5\" y1=\"93.3398\" y2=\"93.3398\"/><text fill=\"#000000\" font-family=\"sans-serif\" font-size=\"11\" lengthAdjust=\"spacingAndGlyphs\" textLength=\"55\" x=\"59.5\" y=\"96.6479\">attributes</text><line style=\"stroke: #383838; stroke-width: 1.0;\" x1=\"114.5\" x2=\"141.5\" y1=\"93.3398\" y2=\"93.3398\"/><text fill=\"#000000\" font-family=\"sans-serif\" font-size=\"11\" lengthAdjust=\"spacingAndGlyphs\" textLength=\"69\" x=\"37.5\" y=\"139.562\">x_constraint</text><line style=\"stroke: #383838; stroke-width: 1.0;\" x1=\"32.5\" x2=\"35.5\" y1=\"122.9492\" y2=\"122.9492\"/><text fill=\"#000000\" font-family=\"sans-serif\" font-size=\"11\" lengthAdjust=\"spacingAndGlyphs\" textLength=\"103\" x=\"35.5\" y=\"126.2573\">assertConstraints</text><line style=\"stroke: #383838; stroke-width: 1.0;\" x1=\"138.5\" x2=\"141.5\" y1=\"122.9492\" y2=\"122.9492\"/></a><text fill=\"#000000\" font-family=\"sans-serif\" font-size=\"14\" lengthAdjust=\"spacingAndGlyphs\" textLength=\"8\" x=\"289\" y=\"72.1982\">c</text><rect fill=\"#383838\" height=\"12\" style=\"stroke: #F8F8F8; stroke-width: 1.5;\" width=\"12\" x=\"287\" y=\"87.5\"/><text fill=\"#000000\" font-family=\"sans-serif\" font-size=\"14\" lengthAdjust=\"spacingAndGlyphs\" textLength=\"38\" x=\"321\" y=\"72.1982\">newX</text><rect fill=\"#383838\" height=\"12\" style=\"stroke: #F8F8F8; stroke-width: 1.5;\" width=\"12\" x=\"334\" y=\"87.5\"/><!--MD5=[5dd15cef1a8c4d9d4fc294f017f91f8f]\n",
       "@startuml\r\n",
       "skinparam linetype polyline\r\n",
       "skinparam monochrome true\r\n",
       "skinparam classbackgroundcolor white\r\n",
       "skinparam shadowing false\r\n",
       "skinparam wrapWidth 300\r\n",
       "hide circle\r\n",
       "\r\n",
       "package \"TextualRepresentationTest\" as E1  [[psysml:0fc68415-d7d0-4850-b93e-796cf2adc089 ]]  {\r\n",
       "comp def \"Real\" as E2  <<(T,blue)dataType>> [[psysml:3f2a97d7-c1a2-4f9b-b443-e0389101b303 ]] {\r\n",
       "}\r\n",
       "comp def \"C\" as E3  <<(T,blue)item def>> [[psysml:bb207011-903d-4a71-a2f5-e51b80009fec ]] {\r\n",
       "- - attributes - -\r\n",
       "x: Real\r\n",
       "- - assertConstraints - -\r\n",
       "x_constraint\r\n",
       "}\r\n",
       "rec def \"setX\" as E5  <<(T,blue)action def>> [[psysml:ff423fdb-a5ad-4383-b75e-3a1966f8baa4 ]] {\r\n",
       "portin \"c\" as E6  [[psysml:4c2c889d-aea7-4bfd-be6e-45844659a6a1 ]] \r\n",
       "portin \"newX\" as E7  [[psysml:471b2978-4f3d-4f5c-bcaa-50341599c3a3 ]] \r\n",
       "}\r\n",
       "\r\n",
       "}\r\n",
       "@enduml\r\n",
       "\n",
       "PlantUML version 1.2020.13(Sat Jun 13 12:26:38 UTC 2020)\n",
       "(EPL source distribution)\n",
       "Java Runtime: OpenJDK Runtime Environment\n",
       "JVM: OpenJDK 64-Bit Server VM\n",
       "Default Encoding: UTF-8\n",
       "Language: en\n",
       "Country: null\n",
       "--></g></svg>"
      ]
     },
     "execution_count": 15,
     "metadata": {},
     "output_type": "execute_result"
    }
   ],
   "source": [
    "%viz --style=\"POLYLINE\" --view=\"MIXED\" \"TextualRepresentationTest\""
   ]
  },
  {
   "cell_type": "code",
   "execution_count": 16,
   "id": "minute-tiffany",
   "metadata": {
    "execution": {
     "iopub.execute_input": "2021-03-25T15:08:33.823910Z",
     "iopub.status.busy": "2021-03-25T15:08:33.823393Z",
     "iopub.status.idle": "2021-03-25T15:08:34.273169Z",
     "shell.execute_reply": "2021-03-25T15:08:34.271891Z"
    }
   },
   "outputs": [
    {
     "data": {
      "image/svg+xml": [
       "<?xml version=\"1.0\" encoding=\"UTF-8\" standalone=\"no\"?><svg xmlns=\"http://www.w3.org/2000/svg\" xmlns:xlink=\"http://www.w3.org/1999/xlink\" contentScriptType=\"application/ecmascript\" contentStyleType=\"text/css\" height=\"358px\" preserveAspectRatio=\"none\" style=\"width:359px;height:358px;\" version=\"1.1\" viewBox=\"0 0 359 358\" width=\"359px\" zoomAndPan=\"magnify\"><defs/><g><!--MD5=[fbc87193dbaf4d95561dea2c320d4a47]\n",
       "cluster E1--><a href=\"psysml:0fc68415-d7d0-4850-b93e-796cf2adc089\" target=\"_top\" title=\"psysml:0fc68415-d7d0-4850-b93e-796cf2adc089\" xlink:actuate=\"onRequest\" xlink:href=\"psysml:0fc68415-d7d0-4850-b93e-796cf2adc089\" xlink:show=\"new\" xlink:title=\"psysml:0fc68415-d7d0-4850-b93e-796cf2adc089\" xlink:type=\"simple\"><polygon fill=\"#FFFFFF\" points=\"16,6,236,6,243,28.2969,337,28.2969,337,346,16,346,16,6\" style=\"stroke: #000000; stroke-width: 1.5;\"/><line style=\"stroke: #000000; stroke-width: 1.5;\" x1=\"16\" x2=\"243\" y1=\"28.2969\" y2=\"28.2969\"/><text fill=\"#000000\" font-family=\"sans-serif\" font-size=\"14\" font-weight=\"bold\" lengthAdjust=\"spacingAndGlyphs\" textLength=\"214\" x=\"20\" y=\"20.9951\">TextualRepresentationTest</text></a><!--MD5=[de5ec2e2e8f62f467e546659f5068c88]\n",
       "cluster E5--><a href=\"psysml:ff423fdb-a5ad-4383-b75e-3a1966f8baa4\" target=\"_top\" title=\"psysml:ff423fdb-a5ad-4383-b75e-3a1966f8baa4\" xlink:actuate=\"onRequest\" xlink:href=\"psysml:ff423fdb-a5ad-4383-b75e-3a1966f8baa4\" xlink:show=\"new\" xlink:title=\"psysml:ff423fdb-a5ad-4383-b75e-3a1966f8baa4\" xlink:type=\"simple\"><rect fill=\"#FFFFFF\" height=\"47\" id=\"E5\" style=\"stroke: #383838; stroke-width: 1.5;\" width=\"251.5\" x=\"69.5\" y=\"55\"/><rect fill=\"#F8F8F8\" height=\"37.9375\" style=\"stroke: #383838; stroke-width: 1.5;\" width=\"251.5\" x=\"69.5\" y=\"55\"/><text fill=\"#000000\" font-family=\"sans-serif\" font-size=\"12\" font-style=\"italic\" lengthAdjust=\"spacingAndGlyphs\" textLength=\"77\" x=\"156.75\" y=\"71.1387\">«action def»</text><text fill=\"#000000\" font-family=\"sans-serif\" font-size=\"12\" lengthAdjust=\"spacingAndGlyphs\" textLength=\"27\" x=\"181.75\" y=\"85.1074\">setX</text></a><!--MD5=[b4997ac47864f28c2f74865a473b2911]\n",
       "class E2--><a href=\"psysml:3f2a97d7-c1a2-4f9b-b443-e0389101b303\" target=\"_top\" title=\"psysml:3f2a97d7-c1a2-4f9b-b443-e0389101b303\" xlink:actuate=\"onRequest\" xlink:href=\"psysml:3f2a97d7-c1a2-4f9b-b443-e0389101b303\" xlink:show=\"new\" xlink:title=\"psysml:3f2a97d7-c1a2-4f9b-b443-e0389101b303\" xlink:type=\"simple\"><rect fill=\"#FFFFFF\" height=\"45.9375\" id=\"E2\" style=\"stroke: #383838; stroke-width: 1.5;\" width=\"74\" x=\"50.5\" y=\"143\"/><text fill=\"#000000\" font-family=\"sans-serif\" font-size=\"12\" font-style=\"italic\" lengthAdjust=\"spacingAndGlyphs\" textLength=\"72\" x=\"51.5\" y=\"159.1387\">«dataType»</text><text fill=\"#000000\" font-family=\"sans-serif\" font-size=\"12\" lengthAdjust=\"spacingAndGlyphs\" textLength=\"27\" x=\"74\" y=\"173.1074\">Real</text><line style=\"stroke: #383838; stroke-width: 1.5;\" x1=\"51.5\" x2=\"123.5\" y1=\"180.9375\" y2=\"180.9375\"/></a><!--MD5=[09b614a08d8cba4a07c9adeb5e0fee81]\n",
       "class E3--><a href=\"psysml:bb207011-903d-4a71-a2f5-e51b80009fec\" target=\"_top\" title=\"psysml:bb207011-903d-4a71-a2f5-e51b80009fec\" xlink:actuate=\"onRequest\" xlink:href=\"psysml:bb207011-903d-4a71-a2f5-e51b80009fec\" xlink:show=\"new\" xlink:title=\"psysml:bb207011-903d-4a71-a2f5-e51b80009fec\" xlink:type=\"simple\"><rect fill=\"#FFFFFF\" height=\"105.1563\" id=\"E3\" style=\"stroke: #383838; stroke-width: 1.5;\" width=\"111\" x=\"32\" y=\"224.5\"/><text fill=\"#000000\" font-family=\"sans-serif\" font-size=\"12\" font-style=\"italic\" lengthAdjust=\"spacingAndGlyphs\" textLength=\"65\" x=\"55\" y=\"240.6387\">«item def»</text><text fill=\"#000000\" font-family=\"sans-serif\" font-size=\"12\" lengthAdjust=\"spacingAndGlyphs\" textLength=\"8\" x=\"83.5\" y=\"254.6074\">C</text><line style=\"stroke: #383838; stroke-width: 1.5;\" x1=\"33\" x2=\"142\" y1=\"262.4375\" y2=\"262.4375\"/><text fill=\"#000000\" font-family=\"sans-serif\" font-size=\"11\" lengthAdjust=\"spacingAndGlyphs\" textLength=\"38\" x=\"38\" y=\"293.4526\">x: Real</text><line style=\"stroke: #383838; stroke-width: 1.0;\" x1=\"33\" x2=\"60\" y1=\"276.8398\" y2=\"276.8398\"/><text fill=\"#000000\" font-family=\"sans-serif\" font-size=\"11\" lengthAdjust=\"spacingAndGlyphs\" textLength=\"55\" x=\"60\" y=\"280.1479\">attributes</text><line style=\"stroke: #383838; stroke-width: 1.0;\" x1=\"115\" x2=\"142\" y1=\"276.8398\" y2=\"276.8398\"/><text fill=\"#000000\" font-family=\"sans-serif\" font-size=\"11\" lengthAdjust=\"spacingAndGlyphs\" textLength=\"69\" x=\"38\" y=\"323.062\">x_constraint</text><line style=\"stroke: #383838; stroke-width: 1.0;\" x1=\"33\" x2=\"36\" y1=\"306.4492\" y2=\"306.4492\"/><text fill=\"#000000\" font-family=\"sans-serif\" font-size=\"11\" lengthAdjust=\"spacingAndGlyphs\" textLength=\"103\" x=\"36\" y=\"309.7573\">assertConstraints</text><line style=\"stroke: #383838; stroke-width: 1.0;\" x1=\"139\" x2=\"142\" y1=\"306.4492\" y2=\"306.4492\"/></a><text fill=\"#000000\" font-family=\"sans-serif\" font-size=\"14\" lengthAdjust=\"spacingAndGlyphs\" textLength=\"8\" x=\"83.5\" y=\"120.9951\">c</text><rect fill=\"#383838\" height=\"12\" style=\"stroke: #F8F8F8; stroke-width: 1.5;\" width=\"12\" x=\"81.5\" y=\"96\"/><text fill=\"#000000\" font-family=\"sans-serif\" font-size=\"14\" lengthAdjust=\"spacingAndGlyphs\" textLength=\"38\" x=\"68.5\" y=\"33.6982\">newX</text><rect fill=\"#383838\" height=\"12\" style=\"stroke: #F8F8F8; stroke-width: 1.5;\" width=\"12\" x=\"81.5\" y=\"49\"/><!--MD5=[a3e8400904300903e3f49faad61820be]\n",
       "@startuml\r\n",
       "left to right direction\r\n",
       "skinparam monochrome true\r\n",
       "skinparam classbackgroundcolor white\r\n",
       "skinparam shadowing false\r\n",
       "skinparam wrapWidth 300\r\n",
       "hide circle\r\n",
       "\r\n",
       "package \"TextualRepresentationTest\" as E1  [[psysml:0fc68415-d7d0-4850-b93e-796cf2adc089 ]]  {\r\n",
       "comp def \"Real\" as E2  <<(T,blue)dataType>> [[psysml:3f2a97d7-c1a2-4f9b-b443-e0389101b303 ]] {\r\n",
       "}\r\n",
       "comp def \"C\" as E3  <<(T,blue)item def>> [[psysml:bb207011-903d-4a71-a2f5-e51b80009fec ]] {\r\n",
       "- - attributes - -\r\n",
       "x: Real\r\n",
       "- - assertConstraints - -\r\n",
       "x_constraint\r\n",
       "}\r\n",
       "rec def \"setX\" as E5  <<(T,blue)action def>> [[psysml:ff423fdb-a5ad-4383-b75e-3a1966f8baa4 ]] {\r\n",
       "portin \"c\" as E6  [[psysml:4c2c889d-aea7-4bfd-be6e-45844659a6a1 ]] \r\n",
       "portin \"newX\" as E7  [[psysml:471b2978-4f3d-4f5c-bcaa-50341599c3a3 ]] \r\n",
       "}\r\n",
       "\r\n",
       "}\r\n",
       "@enduml\r\n",
       "\n",
       "PlantUML version 1.2020.13(Sat Jun 13 12:26:38 UTC 2020)\n",
       "(EPL source distribution)\n",
       "Java Runtime: OpenJDK Runtime Environment\n",
       "JVM: OpenJDK 64-Bit Server VM\n",
       "Default Encoding: UTF-8\n",
       "Language: en\n",
       "Country: null\n",
       "--></g></svg>"
      ]
     },
     "execution_count": 16,
     "metadata": {},
     "output_type": "execute_result"
    }
   ],
   "source": [
    "%viz --style=\"LR\" --view=\"Default\" \"TextualRepresentationTest\""
   ]
  },
  {
   "cell_type": "code",
   "execution_count": 17,
   "id": "primary-tablet",
   "metadata": {
    "execution": {
     "iopub.execute_input": "2021-03-25T15:08:34.324160Z",
     "iopub.status.busy": "2021-03-25T15:08:34.323639Z",
     "iopub.status.idle": "2021-03-25T15:08:34.760516Z",
     "shell.execute_reply": "2021-03-25T15:08:34.759171Z"
    }
   },
   "outputs": [
    {
     "data": {
      "image/svg+xml": [
       "<?xml version=\"1.0\" encoding=\"UTF-8\" standalone=\"no\"?><svg xmlns=\"http://www.w3.org/2000/svg\" xmlns:xlink=\"http://www.w3.org/1999/xlink\" contentScriptType=\"application/ecmascript\" contentStyleType=\"text/css\" height=\"256px\" preserveAspectRatio=\"none\" style=\"width:355px;height:256px;\" version=\"1.1\" viewBox=\"0 0 355 256\" width=\"355px\" zoomAndPan=\"magnify\"><defs/><g><!--MD5=[fbc87193dbaf4d95561dea2c320d4a47]\n",
       "cluster E1--><a href=\"psysml:0fc68415-d7d0-4850-b93e-796cf2adc089\" target=\"_top\" title=\"psysml:0fc68415-d7d0-4850-b93e-796cf2adc089\" xlink:actuate=\"onRequest\" xlink:href=\"psysml:0fc68415-d7d0-4850-b93e-796cf2adc089\" xlink:show=\"new\" xlink:title=\"psysml:0fc68415-d7d0-4850-b93e-796cf2adc089\" xlink:type=\"simple\"><polygon fill=\"#FFFFFF\" points=\"16,6,236,6,243,28.2969,333,28.2969,333,244,16,244,16,6\" style=\"stroke: #000000; stroke-width: 1.5;\"/><line style=\"stroke: #000000; stroke-width: 1.5;\" x1=\"16\" x2=\"243\" y1=\"28.2969\" y2=\"28.2969\"/><text fill=\"#000000\" font-family=\"sans-serif\" font-size=\"14\" font-weight=\"bold\" lengthAdjust=\"spacingAndGlyphs\" textLength=\"214\" x=\"20\" y=\"20.9951\">TextualRepresentationTest</text></a><!--MD5=[b4997ac47864f28c2f74865a473b2911]\n",
       "class E2--><a href=\"psysml:3f2a97d7-c1a2-4f9b-b443-e0389101b303\" target=\"_top\" title=\"psysml:3f2a97d7-c1a2-4f9b-b443-e0389101b303\" xlink:actuate=\"onRequest\" xlink:href=\"psysml:3f2a97d7-c1a2-4f9b-b443-e0389101b303\" xlink:show=\"new\" xlink:title=\"psysml:3f2a97d7-c1a2-4f9b-b443-e0389101b303\" xlink:type=\"simple\"><rect fill=\"#FFFFFF\" height=\"45.9375\" id=\"E2\" style=\"stroke: #383838; stroke-width: 1.5;\" width=\"74\" x=\"224.5\" y=\"182\"/><text fill=\"#000000\" font-family=\"sans-serif\" font-size=\"12\" font-style=\"italic\" lengthAdjust=\"spacingAndGlyphs\" textLength=\"72\" x=\"225.5\" y=\"198.1387\">«dataType»</text><text fill=\"#000000\" font-family=\"sans-serif\" font-size=\"12\" lengthAdjust=\"spacingAndGlyphs\" textLength=\"27\" x=\"248\" y=\"212.1074\">Real</text><line style=\"stroke: #383838; stroke-width: 1.5;\" x1=\"225.5\" x2=\"297.5\" y1=\"219.9375\" y2=\"219.9375\"/></a><!--MD5=[09b614a08d8cba4a07c9adeb5e0fee81]\n",
       "class E3--><a href=\"psysml:bb207011-903d-4a71-a2f5-e51b80009fec\" target=\"_top\" title=\"psysml:bb207011-903d-4a71-a2f5-e51b80009fec\" xlink:actuate=\"onRequest\" xlink:href=\"psysml:bb207011-903d-4a71-a2f5-e51b80009fec\" xlink:show=\"new\" xlink:title=\"psysml:bb207011-903d-4a71-a2f5-e51b80009fec\" xlink:type=\"simple\"><rect fill=\"#FFFFFF\" height=\"105.1563\" id=\"E3\" style=\"stroke: #383838; stroke-width: 1.5;\" width=\"111\" x=\"206\" y=\"41.5\"/><text fill=\"#000000\" font-family=\"sans-serif\" font-size=\"12\" font-style=\"italic\" lengthAdjust=\"spacingAndGlyphs\" textLength=\"65\" x=\"229\" y=\"57.6387\">«item def»</text><text fill=\"#000000\" font-family=\"sans-serif\" font-size=\"12\" lengthAdjust=\"spacingAndGlyphs\" textLength=\"8\" x=\"257.5\" y=\"71.6074\">C</text><line style=\"stroke: #383838; stroke-width: 1.5;\" x1=\"207\" x2=\"316\" y1=\"79.4375\" y2=\"79.4375\"/><text fill=\"#000000\" font-family=\"sans-serif\" font-size=\"11\" lengthAdjust=\"spacingAndGlyphs\" textLength=\"38\" x=\"212\" y=\"110.4526\">x: Real</text><line style=\"stroke: #383838; stroke-width: 1.0;\" x1=\"207\" x2=\"234\" y1=\"93.8398\" y2=\"93.8398\"/><text fill=\"#000000\" font-family=\"sans-serif\" font-size=\"11\" lengthAdjust=\"spacingAndGlyphs\" textLength=\"55\" x=\"234\" y=\"97.1479\">attributes</text><line style=\"stroke: #383838; stroke-width: 1.0;\" x1=\"289\" x2=\"316\" y1=\"93.8398\" y2=\"93.8398\"/><text fill=\"#000000\" font-family=\"sans-serif\" font-size=\"11\" lengthAdjust=\"spacingAndGlyphs\" textLength=\"69\" x=\"212\" y=\"140.062\">x_constraint</text><line style=\"stroke: #383838; stroke-width: 1.0;\" x1=\"207\" x2=\"210\" y1=\"123.4492\" y2=\"123.4492\"/><text fill=\"#000000\" font-family=\"sans-serif\" font-size=\"11\" lengthAdjust=\"spacingAndGlyphs\" textLength=\"103\" x=\"210\" y=\"126.7573\">assertConstraints</text><line style=\"stroke: #383838; stroke-width: 1.0;\" x1=\"313\" x2=\"316\" y1=\"123.4492\" y2=\"123.4492\"/></a><!--MD5=[270fce915f116d4de14055a7c1d9a0f3]\n",
       "class E5--><a href=\"psysml:ff423fdb-a5ad-4383-b75e-3a1966f8baa4\" target=\"_top\" title=\"psysml:ff423fdb-a5ad-4383-b75e-3a1966f8baa4\" xlink:actuate=\"onRequest\" xlink:href=\"psysml:ff423fdb-a5ad-4383-b75e-3a1966f8baa4\" xlink:show=\"new\" xlink:title=\"psysml:ff423fdb-a5ad-4383-b75e-3a1966f8baa4\" xlink:type=\"simple\"><rect fill=\"#FFFFFF\" height=\"45.9375\" id=\"E5\" style=\"stroke: #383838; stroke-width: 1.5;\" width=\"79\" x=\"32\" y=\"116\"/><text fill=\"#000000\" font-family=\"sans-serif\" font-size=\"12\" font-style=\"italic\" lengthAdjust=\"spacingAndGlyphs\" textLength=\"77\" x=\"33\" y=\"132.1387\">«action def»</text><text fill=\"#000000\" font-family=\"sans-serif\" font-size=\"12\" lengthAdjust=\"spacingAndGlyphs\" textLength=\"27\" x=\"58\" y=\"146.1074\">setX</text><line style=\"stroke: #383838; stroke-width: 1.5;\" x1=\"33\" x2=\"110\" y1=\"153.9375\" y2=\"153.9375\"/></a><!--MD5=[6f107eb264eda4b26325f39a5516f1f3]\n",
       "reverse link E5 to E3--><a href=\"psysml:4c2c889d-aea7-4bfd-be6e-45844659a6a1\" target=\"_top\" title=\"psysml:4c2c889d-aea7-4bfd-be6e-45844659a6a1\" xlink:actuate=\"onRequest\" xlink:href=\"psysml:4c2c889d-aea7-4bfd-be6e-45844659a6a1\" xlink:show=\"new\" xlink:title=\"psysml:4c2c889d-aea7-4bfd-be6e-45844659a6a1\" xlink:type=\"simple\"><path d=\"M124.2,126.63 C149.58,120.55 180.16,113.23 205.91,107.07 \" fill=\"none\" id=\"E5&lt;-E3\" style=\"stroke: #383838; stroke-width: 1.0;\"/><polygon fill=\"#FFFFFF\" points=\"111.45,129.68,118.2168,132.1722,123.1198,126.8845,116.3531,124.3923,111.45,129.68\" style=\"stroke: #383838; stroke-width: 1.0;\"/><text fill=\"#000000\" font-family=\"sans-serif\" font-size=\"13\" lengthAdjust=\"spacingAndGlyphs\" textLength=\"7\" x=\"155\" y=\"112.0669\">c</text></a><!--MD5=[f51c6d1f1856fe338ac0413483fb1ccf]\n",
       "reverse link E5 to E2--><a href=\"psysml:471b2978-4f3d-4f5c-bcaa-50341599c3a3\" target=\"_top\" title=\"psysml:471b2978-4f3d-4f5c-bcaa-50341599c3a3\" xlink:actuate=\"onRequest\" xlink:href=\"psysml:471b2978-4f3d-4f5c-bcaa-50341599c3a3\" xlink:show=\"new\" xlink:title=\"psysml:471b2978-4f3d-4f5c-bcaa-50341599c3a3\" xlink:type=\"simple\"><path d=\"M124.1,157.11 C155.95,168.3 196.01,182.36 224.46,192.35 \" fill=\"none\" id=\"E5&lt;-E2\" style=\"stroke: #383838; stroke-width: 1.0;\"/><polygon fill=\"#FFFFFF\" points=\"111.45,152.68,115.7816,158.4452,122.7693,156.6642,118.4377,150.899,111.45,152.68\" style=\"stroke: #383838; stroke-width: 1.0;\"/><text fill=\"#000000\" font-family=\"sans-serif\" font-size=\"13\" lengthAdjust=\"spacingAndGlyphs\" textLength=\"33\" x=\"142\" y=\"161.0669\">newX</text></a><!--MD5=[c768b54c05a8fe7934817c8d17ea7475]\n",
       "@startuml\r\n",
       "left to right direction\r\n",
       "skinparam monochrome true\r\n",
       "skinparam classbackgroundcolor white\r\n",
       "skinparam shadowing false\r\n",
       "skinparam wrapWidth 300\r\n",
       "hide circle\r\n",
       "\r\n",
       "package \"TextualRepresentationTest\" as E1  [[psysml:0fc68415-d7d0-4850-b93e-796cf2adc089 ]]  {\r\n",
       "comp def \"Real\" as E2  <<(T,blue)dataType>> [[psysml:3f2a97d7-c1a2-4f9b-b443-e0389101b303 ]] {\r\n",
       "}\r\n",
       "comp def \"C\" as E3  <<(T,blue)item def>> [[psysml:bb207011-903d-4a71-a2f5-e51b80009fec ]] {\r\n",
       "- - attributes - -\r\n",
       "x: Real\r\n",
       "- - assertConstraints - -\r\n",
       "x_constraint\r\n",
       "}\r\n",
       "comp def \"setX\" as E5  <<(T,blue)action def>> [[psysml:ff423fdb-a5ad-4383-b75e-3a1966f8baa4 ]] {\r\n",
       "}\r\n",
       "E5 o- - E3 [[psysml:4c2c889d-aea7-4bfd-be6e-45844659a6a1 ]] : c\r\n",
       "E5 o- - E2 [[psysml:471b2978-4f3d-4f5c-bcaa-50341599c3a3 ]] : newX\r\n",
       "}\r\n",
       "@enduml\r\n",
       "\n",
       "PlantUML version 1.2020.13(Sat Jun 13 12:26:38 UTC 2020)\n",
       "(EPL source distribution)\n",
       "Java Runtime: OpenJDK Runtime Environment\n",
       "JVM: OpenJDK 64-Bit Server VM\n",
       "Default Encoding: UTF-8\n",
       "Language: en\n",
       "Country: null\n",
       "--></g></svg>"
      ]
     },
     "execution_count": 17,
     "metadata": {},
     "output_type": "execute_result"
    }
   ],
   "source": [
    "%viz --style=\"LR\" --view=\"Tree\" \"TextualRepresentationTest\""
   ]
  },
  {
   "cell_type": "code",
   "execution_count": 18,
   "id": "collectible-blade",
   "metadata": {
    "execution": {
     "iopub.execute_input": "2021-03-25T15:08:34.810836Z",
     "iopub.status.busy": "2021-03-25T15:08:34.810362Z",
     "iopub.status.idle": "2021-03-25T15:08:34.819148Z",
     "shell.execute_reply": "2021-03-25T15:08:34.820046Z"
    }
   },
   "outputs": [
    {
     "data": {
      "image/svg+xml": [
       "<?xml version=\"1.0\" encoding=\"UTF-8\" standalone=\"no\"?><svg xmlns=\"http://www.w3.org/2000/svg\" xmlns:xlink=\"http://www.w3.org/1999/xlink\" contentScriptType=\"application/ecmascript\" contentStyleType=\"text/css\" height=\"12px\" preserveAspectRatio=\"none\" style=\"width:12px;height:12px;\" version=\"1.1\" viewBox=\"0 0 12 12\" width=\"12px\" zoomAndPan=\"magnify\"><defs/><g><!--MD5=[19d285c9d72a204eba4e2cd117d745e8]\n",
       "@startuml\r\n",
       "left to right direction\r\n",
       "skinparam monochrome true\r\n",
       "skinparam classbackgroundcolor white\r\n",
       "skinparam shadowing false\r\n",
       "skinparam wrapWidth 300\r\n",
       "hide circle\r\n",
       "\r\n",
       "@enduml\r\n",
       "\n",
       "PlantUML version 1.2020.13(Sat Jun 13 12:26:38 UTC 2020)\n",
       "(EPL source distribution)\n",
       "Java Runtime: OpenJDK Runtime Environment\n",
       "JVM: OpenJDK 64-Bit Server VM\n",
       "Default Encoding: UTF-8\n",
       "Language: en\n",
       "Country: null\n",
       "--></g></svg>"
      ]
     },
     "execution_count": 18,
     "metadata": {},
     "output_type": "execute_result"
    }
   ],
   "source": [
    "%viz --style=\"LR\" --view=\"State\" \"TextualRepresentationTest\""
   ]
  },
  {
   "cell_type": "code",
   "execution_count": 19,
   "id": "pregnant-mother",
   "metadata": {
    "execution": {
     "iopub.execute_input": "2021-03-25T15:08:34.871370Z",
     "iopub.status.busy": "2021-03-25T15:08:34.870736Z",
     "iopub.status.idle": "2021-03-25T15:08:34.946396Z",
     "shell.execute_reply": "2021-03-25T15:08:34.946828Z"
    }
   },
   "outputs": [
    {
     "data": {
      "image/svg+xml": [
       "<?xml version=\"1.0\" encoding=\"UTF-8\" standalone=\"no\"?><svg xmlns=\"http://www.w3.org/2000/svg\" xmlns:xlink=\"http://www.w3.org/1999/xlink\" contentScriptType=\"application/ecmascript\" contentStyleType=\"text/css\" height=\"301px\" preserveAspectRatio=\"none\" style=\"width:268px;height:301px;\" version=\"1.1\" viewBox=\"0 0 268 301\" width=\"268px\" zoomAndPan=\"magnify\"><defs/><g><!--MD5=[fbc87193dbaf4d95561dea2c320d4a47]\n",
       "cluster E1--><a href=\"psysml:0fc68415-d7d0-4850-b93e-796cf2adc089\" target=\"_top\" title=\"psysml:0fc68415-d7d0-4850-b93e-796cf2adc089\" xlink:actuate=\"onRequest\" xlink:href=\"psysml:0fc68415-d7d0-4850-b93e-796cf2adc089\" xlink:show=\"new\" xlink:title=\"psysml:0fc68415-d7d0-4850-b93e-796cf2adc089\" xlink:type=\"simple\"><polygon fill=\"#FFFFFF\" points=\"16,6,236,6,243,28.2969,246,28.2969,246,289,16,289,16,6\" style=\"stroke: #000000; stroke-width: 1.5;\"/><line style=\"stroke: #000000; stroke-width: 1.5;\" x1=\"16\" x2=\"243\" y1=\"28.2969\" y2=\"28.2969\"/><text fill=\"#000000\" font-family=\"sans-serif\" font-size=\"14\" font-weight=\"bold\" lengthAdjust=\"spacingAndGlyphs\" textLength=\"214\" x=\"20\" y=\"20.9951\">TextualRepresentationTest</text></a><!--MD5=[b4997ac47864f28c2f74865a473b2911]\n",
       "class E2--><a href=\"psysml:3f2a97d7-c1a2-4f9b-b443-e0389101b303\" target=\"_top\" title=\"psysml:3f2a97d7-c1a2-4f9b-b443-e0389101b303\" xlink:actuate=\"onRequest\" xlink:href=\"psysml:3f2a97d7-c1a2-4f9b-b443-e0389101b303\" xlink:show=\"new\" xlink:title=\"psysml:3f2a97d7-c1a2-4f9b-b443-e0389101b303\" xlink:type=\"simple\"><rect fill=\"#FFFFFF\" height=\"53.9375\" id=\"E2\" style=\"stroke: #383838; stroke-width: 1.5;\" width=\"122\" x=\"69.5\" y=\"41\"/><text fill=\"#000000\" font-family=\"sans-serif\" font-size=\"12\" font-style=\"italic\" lengthAdjust=\"spacingAndGlyphs\" textLength=\"120\" x=\"70.5\" y=\"57.1387\">«(T,blue)dataType»</text><text fill=\"#000000\" font-family=\"sans-serif\" font-size=\"12\" lengthAdjust=\"spacingAndGlyphs\" textLength=\"27\" x=\"117\" y=\"71.1074\">Real</text><line style=\"stroke: #383838; stroke-width: 1.5;\" x1=\"70.5\" x2=\"190.5\" y1=\"78.9375\" y2=\"78.9375\"/><line style=\"stroke: #383838; stroke-width: 1.5;\" x1=\"70.5\" x2=\"190.5\" y1=\"86.9375\" y2=\"86.9375\"/></a><!--MD5=[09b614a08d8cba4a07c9adeb5e0fee81]\n",
       "class E3--><a href=\"psysml:bb207011-903d-4a71-a2f5-e51b80009fec\" target=\"_top\" title=\"psysml:bb207011-903d-4a71-a2f5-e51b80009fec\" xlink:actuate=\"onRequest\" xlink:href=\"psysml:bb207011-903d-4a71-a2f5-e51b80009fec\" xlink:show=\"new\" xlink:title=\"psysml:bb207011-903d-4a71-a2f5-e51b80009fec\" xlink:type=\"simple\"><rect fill=\"#FFFFFF\" height=\"53.9375\" id=\"E3\" style=\"stroke: #383838; stroke-width: 1.5;\" width=\"115\" x=\"73\" y=\"130\"/><text fill=\"#000000\" font-family=\"sans-serif\" font-size=\"12\" font-style=\"italic\" lengthAdjust=\"spacingAndGlyphs\" textLength=\"113\" x=\"74\" y=\"146.1387\">«(T,blue)item def»</text><text fill=\"#000000\" font-family=\"sans-serif\" font-size=\"12\" lengthAdjust=\"spacingAndGlyphs\" textLength=\"8\" x=\"126.5\" y=\"160.1074\">C</text><line style=\"stroke: #383838; stroke-width: 1.5;\" x1=\"74\" x2=\"187\" y1=\"167.9375\" y2=\"167.9375\"/><line style=\"stroke: #383838; stroke-width: 1.5;\" x1=\"74\" x2=\"187\" y1=\"175.9375\" y2=\"175.9375\"/></a><!--MD5=[ebbe1d658d1005bcc118a6aa81145e00]\n",
       "class E4--><a href=\"psysml:ff423fdb-a5ad-4383-b75e-3a1966f8baa4\" target=\"_top\" title=\"psysml:ff423fdb-a5ad-4383-b75e-3a1966f8baa4\" xlink:actuate=\"onRequest\" xlink:href=\"psysml:ff423fdb-a5ad-4383-b75e-3a1966f8baa4\" xlink:show=\"new\" xlink:title=\"psysml:ff423fdb-a5ad-4383-b75e-3a1966f8baa4\" xlink:type=\"simple\"><rect fill=\"#FFFFFF\" height=\"53.9375\" id=\"E4\" style=\"stroke: #383838; stroke-width: 1.5;\" width=\"127\" x=\"67\" y=\"219\"/><text fill=\"#000000\" font-family=\"sans-serif\" font-size=\"12\" font-style=\"italic\" lengthAdjust=\"spacingAndGlyphs\" textLength=\"125\" x=\"68\" y=\"235.1387\">«(T,blue)action def»</text><text fill=\"#000000\" font-family=\"sans-serif\" font-size=\"12\" lengthAdjust=\"spacingAndGlyphs\" textLength=\"27\" x=\"117\" y=\"249.1074\">setX</text><line style=\"stroke: #383838; stroke-width: 1.5;\" x1=\"68\" x2=\"193\" y1=\"256.9375\" y2=\"256.9375\"/><line style=\"stroke: #383838; stroke-width: 1.5;\" x1=\"68\" x2=\"193\" y1=\"264.9375\" y2=\"264.9375\"/></a><!--MD5=[cdc0c1a4f379d99d45502f80015bc2f2]\n",
       "@startuml\r\n",
       "skinparam ranksep 8\r\n",
       "skinparam rectangle {\r\n",
       " backgroundColor<<block>> LightGreen\r\n",
       "}\r\n",
       "left to right direction\r\n",
       "skinparam monochrome true\r\n",
       "skinparam classbackgroundcolor white\r\n",
       "skinparam shadowing false\r\n",
       "skinparam wrapWidth 300\r\n",
       "hide circle\r\n",
       "\r\n",
       "package \"TextualRepresentationTest\" as E1  [[psysml:0fc68415-d7d0-4850-b93e-796cf2adc089 ]]  {\r\n",
       "def \"Real\" as E2  <<(T,blue)dataType>> [[psysml:3f2a97d7-c1a2-4f9b-b443-e0389101b303 ]] \r\n",
       "def \"C\" as E3  <<(T,blue)item def>> [[psysml:bb207011-903d-4a71-a2f5-e51b80009fec ]] \r\n",
       "def \"setX\" as E4  <<(T,blue)action def>> [[psysml:ff423fdb-a5ad-4383-b75e-3a1966f8baa4 ]] \r\n",
       "}\r\n",
       "@enduml\r\n",
       "\n",
       "PlantUML version 1.2020.13(Sat Jun 13 12:26:38 UTC 2020)\n",
       "(EPL source distribution)\n",
       "Java Runtime: OpenJDK Runtime Environment\n",
       "JVM: OpenJDK 64-Bit Server VM\n",
       "Default Encoding: UTF-8\n",
       "Language: en\n",
       "Country: null\n",
       "--></g></svg>"
      ]
     },
     "execution_count": 19,
     "metadata": {},
     "output_type": "execute_result"
    }
   ],
   "source": [
    "%viz --style=\"LR\" --view=\"Interconnection\" \"TextualRepresentationTest\""
   ]
  },
  {
   "cell_type": "code",
   "execution_count": 20,
   "id": "smaller-lingerie",
   "metadata": {
    "execution": {
     "iopub.execute_input": "2021-03-25T15:08:34.998292Z",
     "iopub.status.busy": "2021-03-25T15:08:34.997766Z",
     "iopub.status.idle": "2021-03-25T15:08:35.058865Z",
     "shell.execute_reply": "2021-03-25T15:08:35.058407Z"
    }
   },
   "outputs": [
    {
     "data": {
      "image/svg+xml": [
       "<?xml version=\"1.0\" encoding=\"UTF-8\" standalone=\"no\"?><svg xmlns=\"http://www.w3.org/2000/svg\" xmlns:xlink=\"http://www.w3.org/1999/xlink\" contentScriptType=\"application/ecmascript\" contentStyleType=\"text/css\" height=\"121px\" preserveAspectRatio=\"none\" style=\"width:176px;height:121px;\" version=\"1.1\" viewBox=\"0 0 176 121\" width=\"176px\" zoomAndPan=\"magnify\"><defs/><g><!--MD5=[fbc87193dbaf4d95561dea2c320d4a47]\n",
       "cluster E1--><a href=\"psysml:ff423fdb-a5ad-4383-b75e-3a1966f8baa4\" target=\"_top\" title=\"psysml:ff423fdb-a5ad-4383-b75e-3a1966f8baa4\" xlink:actuate=\"onRequest\" xlink:href=\"psysml:ff423fdb-a5ad-4383-b75e-3a1966f8baa4\" xlink:show=\"new\" xlink:title=\"psysml:ff423fdb-a5ad-4383-b75e-3a1966f8baa4\" xlink:type=\"simple\"><rect fill=\"#FFFFFF\" height=\"47\" id=\"E1\" style=\"stroke: #383838; stroke-width: 1.5;\" width=\"158\" x=\"7\" y=\"42.0986\"/><rect fill=\"#F8F8F8\" height=\"37.9375\" style=\"stroke: #383838; stroke-width: 1.5;\" width=\"158\" x=\"7\" y=\"42.0986\"/><text fill=\"#000000\" font-family=\"sans-serif\" font-size=\"12\" font-style=\"italic\" lengthAdjust=\"spacingAndGlyphs\" textLength=\"77\" x=\"47.5\" y=\"58.2373\">«action def»</text><text fill=\"#000000\" font-family=\"sans-serif\" font-size=\"12\" lengthAdjust=\"spacingAndGlyphs\" textLength=\"27\" x=\"72.5\" y=\"72.2061\">setX</text></a><text fill=\"#000000\" font-family=\"sans-serif\" font-size=\"14\" lengthAdjust=\"spacingAndGlyphs\" textLength=\"8\" x=\"21\" y=\"108.0938\">c</text><rect fill=\"#383838\" height=\"12\" style=\"stroke: #F8F8F8; stroke-width: 1.5;\" width=\"12\" x=\"19\" y=\"83.0986\"/><text fill=\"#000000\" font-family=\"sans-serif\" font-size=\"14\" lengthAdjust=\"spacingAndGlyphs\" textLength=\"38\" x=\"6\" y=\"20.7969\">newX</text><rect fill=\"#383838\" height=\"12\" style=\"stroke: #F8F8F8; stroke-width: 1.5;\" width=\"12\" x=\"19\" y=\"36.0986\"/><!--MD5=[810e200c777192dc0100a79b44f430c6]\n",
       "@startuml\r\n",
       "skinparam ranksep 8\r\n",
       "left to right direction\r\n",
       "skinparam monochrome true\r\n",
       "skinparam classbackgroundcolor white\r\n",
       "skinparam shadowing false\r\n",
       "skinparam wrapWidth 300\r\n",
       "hide circle\r\n",
       "\r\n",
       "rec def \"setX\" as E1  <<(T,blue)action def>> [[psysml:ff423fdb-a5ad-4383-b75e-3a1966f8baa4 ]] {\r\n",
       "portin \"c\" as E2  [[psysml:4c2c889d-aea7-4bfd-be6e-45844659a6a1 ]] \r\n",
       "portin \"newX\" as E3  [[psysml:471b2978-4f3d-4f5c-bcaa-50341599c3a3 ]] \r\n",
       "}\r\n",
       "\r\n",
       "@enduml\r\n",
       "\n",
       "PlantUML version 1.2020.13(Sat Jun 13 12:26:38 UTC 2020)\n",
       "(EPL source distribution)\n",
       "Java Runtime: OpenJDK Runtime Environment\n",
       "JVM: OpenJDK 64-Bit Server VM\n",
       "Default Encoding: UTF-8\n",
       "Language: en\n",
       "Country: null\n",
       "--></g></svg>"
      ]
     },
     "execution_count": 20,
     "metadata": {},
     "output_type": "execute_result"
    }
   ],
   "source": [
    "%viz --style=\"LR\" --view=\"Action\" \"TextualRepresentationTest\""
   ]
  },
  {
   "cell_type": "code",
   "execution_count": 21,
   "id": "wrapped-alcohol",
   "metadata": {
    "execution": {
     "iopub.execute_input": "2021-03-25T15:08:35.110146Z",
     "iopub.status.busy": "2021-03-25T15:08:35.109669Z",
     "iopub.status.idle": "2021-03-25T15:08:35.522005Z",
     "shell.execute_reply": "2021-03-25T15:08:35.520564Z"
    }
   },
   "outputs": [
    {
     "data": {
      "image/svg+xml": [
       "<?xml version=\"1.0\" encoding=\"UTF-8\" standalone=\"no\"?><svg xmlns=\"http://www.w3.org/2000/svg\" xmlns:xlink=\"http://www.w3.org/1999/xlink\" contentScriptType=\"application/ecmascript\" contentStyleType=\"text/css\" height=\"256px\" preserveAspectRatio=\"none\" style=\"width:355px;height:256px;\" version=\"1.1\" viewBox=\"0 0 355 256\" width=\"355px\" zoomAndPan=\"magnify\"><defs/><g><!--MD5=[fbc87193dbaf4d95561dea2c320d4a47]\n",
       "cluster E1--><a href=\"psysml:0fc68415-d7d0-4850-b93e-796cf2adc089\" target=\"_top\" title=\"psysml:0fc68415-d7d0-4850-b93e-796cf2adc089\" xlink:actuate=\"onRequest\" xlink:href=\"psysml:0fc68415-d7d0-4850-b93e-796cf2adc089\" xlink:show=\"new\" xlink:title=\"psysml:0fc68415-d7d0-4850-b93e-796cf2adc089\" xlink:type=\"simple\"><polygon fill=\"#FFFFFF\" points=\"16,6,236,6,243,28.2969,333,28.2969,333,244,16,244,16,6\" style=\"stroke: #000000; stroke-width: 1.5;\"/><line style=\"stroke: #000000; stroke-width: 1.5;\" x1=\"16\" x2=\"243\" y1=\"28.2969\" y2=\"28.2969\"/><text fill=\"#000000\" font-family=\"sans-serif\" font-size=\"14\" font-weight=\"bold\" lengthAdjust=\"spacingAndGlyphs\" textLength=\"214\" x=\"20\" y=\"20.9951\">TextualRepresentationTest</text></a><!--MD5=[b4997ac47864f28c2f74865a473b2911]\n",
       "class E2--><a href=\"psysml:3f2a97d7-c1a2-4f9b-b443-e0389101b303\" target=\"_top\" title=\"psysml:3f2a97d7-c1a2-4f9b-b443-e0389101b303\" xlink:actuate=\"onRequest\" xlink:href=\"psysml:3f2a97d7-c1a2-4f9b-b443-e0389101b303\" xlink:show=\"new\" xlink:title=\"psysml:3f2a97d7-c1a2-4f9b-b443-e0389101b303\" xlink:type=\"simple\"><rect fill=\"#FFFFFF\" height=\"45.9375\" id=\"E2\" style=\"stroke: #383838; stroke-width: 1.5;\" width=\"74\" x=\"224.5\" y=\"182\"/><text fill=\"#000000\" font-family=\"sans-serif\" font-size=\"12\" font-style=\"italic\" lengthAdjust=\"spacingAndGlyphs\" textLength=\"72\" x=\"225.5\" y=\"198.1387\">«dataType»</text><text fill=\"#000000\" font-family=\"sans-serif\" font-size=\"12\" lengthAdjust=\"spacingAndGlyphs\" textLength=\"27\" x=\"248\" y=\"212.1074\">Real</text><line style=\"stroke: #383838; stroke-width: 1.5;\" x1=\"225.5\" x2=\"297.5\" y1=\"219.9375\" y2=\"219.9375\"/></a><!--MD5=[09b614a08d8cba4a07c9adeb5e0fee81]\n",
       "class E3--><a href=\"psysml:bb207011-903d-4a71-a2f5-e51b80009fec\" target=\"_top\" title=\"psysml:bb207011-903d-4a71-a2f5-e51b80009fec\" xlink:actuate=\"onRequest\" xlink:href=\"psysml:bb207011-903d-4a71-a2f5-e51b80009fec\" xlink:show=\"new\" xlink:title=\"psysml:bb207011-903d-4a71-a2f5-e51b80009fec\" xlink:type=\"simple\"><rect fill=\"#FFFFFF\" height=\"105.1563\" id=\"E3\" style=\"stroke: #383838; stroke-width: 1.5;\" width=\"111\" x=\"206\" y=\"41.5\"/><text fill=\"#000000\" font-family=\"sans-serif\" font-size=\"12\" font-style=\"italic\" lengthAdjust=\"spacingAndGlyphs\" textLength=\"65\" x=\"229\" y=\"57.6387\">«item def»</text><text fill=\"#000000\" font-family=\"sans-serif\" font-size=\"12\" lengthAdjust=\"spacingAndGlyphs\" textLength=\"8\" x=\"257.5\" y=\"71.6074\">C</text><line style=\"stroke: #383838; stroke-width: 1.5;\" x1=\"207\" x2=\"316\" y1=\"79.4375\" y2=\"79.4375\"/><text fill=\"#000000\" font-family=\"sans-serif\" font-size=\"11\" lengthAdjust=\"spacingAndGlyphs\" textLength=\"38\" x=\"212\" y=\"110.4526\">x: Real</text><line style=\"stroke: #383838; stroke-width: 1.0;\" x1=\"207\" x2=\"234\" y1=\"93.8398\" y2=\"93.8398\"/><text fill=\"#000000\" font-family=\"sans-serif\" font-size=\"11\" lengthAdjust=\"spacingAndGlyphs\" textLength=\"55\" x=\"234\" y=\"97.1479\">attributes</text><line style=\"stroke: #383838; stroke-width: 1.0;\" x1=\"289\" x2=\"316\" y1=\"93.8398\" y2=\"93.8398\"/><text fill=\"#000000\" font-family=\"sans-serif\" font-size=\"11\" lengthAdjust=\"spacingAndGlyphs\" textLength=\"69\" x=\"212\" y=\"140.062\">x_constraint</text><line style=\"stroke: #383838; stroke-width: 1.0;\" x1=\"207\" x2=\"210\" y1=\"123.4492\" y2=\"123.4492\"/><text fill=\"#000000\" font-family=\"sans-serif\" font-size=\"11\" lengthAdjust=\"spacingAndGlyphs\" textLength=\"103\" x=\"210\" y=\"126.7573\">assertConstraints</text><line style=\"stroke: #383838; stroke-width: 1.0;\" x1=\"313\" x2=\"316\" y1=\"123.4492\" y2=\"123.4492\"/></a><!--MD5=[270fce915f116d4de14055a7c1d9a0f3]\n",
       "class E5--><a href=\"psysml:ff423fdb-a5ad-4383-b75e-3a1966f8baa4\" target=\"_top\" title=\"psysml:ff423fdb-a5ad-4383-b75e-3a1966f8baa4\" xlink:actuate=\"onRequest\" xlink:href=\"psysml:ff423fdb-a5ad-4383-b75e-3a1966f8baa4\" xlink:show=\"new\" xlink:title=\"psysml:ff423fdb-a5ad-4383-b75e-3a1966f8baa4\" xlink:type=\"simple\"><rect fill=\"#FFFFFF\" height=\"45.9375\" id=\"E5\" style=\"stroke: #383838; stroke-width: 1.5;\" width=\"79\" x=\"32\" y=\"116\"/><text fill=\"#000000\" font-family=\"sans-serif\" font-size=\"12\" font-style=\"italic\" lengthAdjust=\"spacingAndGlyphs\" textLength=\"77\" x=\"33\" y=\"132.1387\">«action def»</text><text fill=\"#000000\" font-family=\"sans-serif\" font-size=\"12\" lengthAdjust=\"spacingAndGlyphs\" textLength=\"27\" x=\"58\" y=\"146.1074\">setX</text><line style=\"stroke: #383838; stroke-width: 1.5;\" x1=\"33\" x2=\"110\" y1=\"153.9375\" y2=\"153.9375\"/></a><!--MD5=[6f107eb264eda4b26325f39a5516f1f3]\n",
       "reverse link E5 to E3--><a href=\"psysml:4c2c889d-aea7-4bfd-be6e-45844659a6a1\" target=\"_top\" title=\"psysml:4c2c889d-aea7-4bfd-be6e-45844659a6a1\" xlink:actuate=\"onRequest\" xlink:href=\"psysml:4c2c889d-aea7-4bfd-be6e-45844659a6a1\" xlink:show=\"new\" xlink:title=\"psysml:4c2c889d-aea7-4bfd-be6e-45844659a6a1\" xlink:type=\"simple\"><path d=\"M124.2,126.63 C149.58,120.55 180.16,113.23 205.91,107.07 \" fill=\"none\" id=\"E5&lt;-E3\" style=\"stroke: #383838; stroke-width: 1.0;\"/><polygon fill=\"#FFFFFF\" points=\"111.45,129.68,118.2168,132.1722,123.1198,126.8845,116.3531,124.3923,111.45,129.68\" style=\"stroke: #383838; stroke-width: 1.0;\"/><text fill=\"#000000\" font-family=\"sans-serif\" font-size=\"13\" lengthAdjust=\"spacingAndGlyphs\" textLength=\"7\" x=\"155\" y=\"112.0669\">c</text></a><!--MD5=[f51c6d1f1856fe338ac0413483fb1ccf]\n",
       "reverse link E5 to E2--><a href=\"psysml:471b2978-4f3d-4f5c-bcaa-50341599c3a3\" target=\"_top\" title=\"psysml:471b2978-4f3d-4f5c-bcaa-50341599c3a3\" xlink:actuate=\"onRequest\" xlink:href=\"psysml:471b2978-4f3d-4f5c-bcaa-50341599c3a3\" xlink:show=\"new\" xlink:title=\"psysml:471b2978-4f3d-4f5c-bcaa-50341599c3a3\" xlink:type=\"simple\"><path d=\"M124.1,157.11 C155.95,168.3 196.01,182.36 224.46,192.35 \" fill=\"none\" id=\"E5&lt;-E2\" style=\"stroke: #383838; stroke-width: 1.0;\"/><polygon fill=\"#FFFFFF\" points=\"111.45,152.68,115.7816,158.4452,122.7693,156.6642,118.4377,150.899,111.45,152.68\" style=\"stroke: #383838; stroke-width: 1.0;\"/><text fill=\"#000000\" font-family=\"sans-serif\" font-size=\"13\" lengthAdjust=\"spacingAndGlyphs\" textLength=\"33\" x=\"142\" y=\"161.0669\">newX</text></a><!--MD5=[c768b54c05a8fe7934817c8d17ea7475]\n",
       "@startuml\r\n",
       "left to right direction\r\n",
       "skinparam monochrome true\r\n",
       "skinparam classbackgroundcolor white\r\n",
       "skinparam shadowing false\r\n",
       "skinparam wrapWidth 300\r\n",
       "hide circle\r\n",
       "\r\n",
       "package \"TextualRepresentationTest\" as E1  [[psysml:0fc68415-d7d0-4850-b93e-796cf2adc089 ]]  {\r\n",
       "comp def \"Real\" as E2  <<(T,blue)dataType>> [[psysml:3f2a97d7-c1a2-4f9b-b443-e0389101b303 ]] {\r\n",
       "}\r\n",
       "comp def \"C\" as E3  <<(T,blue)item def>> [[psysml:bb207011-903d-4a71-a2f5-e51b80009fec ]] {\r\n",
       "- - attributes - -\r\n",
       "x: Real\r\n",
       "- - assertConstraints - -\r\n",
       "x_constraint\r\n",
       "}\r\n",
       "comp def \"setX\" as E5  <<(T,blue)action def>> [[psysml:ff423fdb-a5ad-4383-b75e-3a1966f8baa4 ]] {\r\n",
       "}\r\n",
       "E5 o- - E3 [[psysml:4c2c889d-aea7-4bfd-be6e-45844659a6a1 ]] : c\r\n",
       "E5 o- - E2 [[psysml:471b2978-4f3d-4f5c-bcaa-50341599c3a3 ]] : newX\r\n",
       "}\r\n",
       "@enduml\r\n",
       "\n",
       "PlantUML version 1.2020.13(Sat Jun 13 12:26:38 UTC 2020)\n",
       "(EPL source distribution)\n",
       "Java Runtime: OpenJDK Runtime Environment\n",
       "JVM: OpenJDK 64-Bit Server VM\n",
       "Default Encoding: UTF-8\n",
       "Language: en\n",
       "Country: null\n",
       "--></g></svg>"
      ]
     },
     "execution_count": 21,
     "metadata": {},
     "output_type": "execute_result"
    }
   ],
   "source": [
    "%viz --style=\"LR\" --view=\"Sequence\" \"TextualRepresentationTest\""
   ]
  },
  {
   "cell_type": "code",
   "execution_count": 22,
   "id": "parental-princeton",
   "metadata": {
    "execution": {
     "iopub.execute_input": "2021-03-25T15:08:35.572566Z",
     "iopub.status.busy": "2021-03-25T15:08:35.572052Z",
     "iopub.status.idle": "2021-03-25T15:08:36.004263Z",
     "shell.execute_reply": "2021-03-25T15:08:36.004782Z"
    }
   },
   "outputs": [
    {
     "data": {
      "image/svg+xml": [
       "<?xml version=\"1.0\" encoding=\"UTF-8\" standalone=\"no\"?><svg xmlns=\"http://www.w3.org/2000/svg\" xmlns:xlink=\"http://www.w3.org/1999/xlink\" contentScriptType=\"application/ecmascript\" contentStyleType=\"text/css\" height=\"358px\" preserveAspectRatio=\"none\" style=\"width:359px;height:358px;\" version=\"1.1\" viewBox=\"0 0 359 358\" width=\"359px\" zoomAndPan=\"magnify\"><defs/><g><!--MD5=[fbc87193dbaf4d95561dea2c320d4a47]\n",
       "cluster E1--><a href=\"psysml:0fc68415-d7d0-4850-b93e-796cf2adc089\" target=\"_top\" title=\"psysml:0fc68415-d7d0-4850-b93e-796cf2adc089\" xlink:actuate=\"onRequest\" xlink:href=\"psysml:0fc68415-d7d0-4850-b93e-796cf2adc089\" xlink:show=\"new\" xlink:title=\"psysml:0fc68415-d7d0-4850-b93e-796cf2adc089\" xlink:type=\"simple\"><polygon fill=\"#FFFFFF\" points=\"16,6,236,6,243,28.2969,337,28.2969,337,346,16,346,16,6\" style=\"stroke: #000000; stroke-width: 1.5;\"/><line style=\"stroke: #000000; stroke-width: 1.5;\" x1=\"16\" x2=\"243\" y1=\"28.2969\" y2=\"28.2969\"/><text fill=\"#000000\" font-family=\"sans-serif\" font-size=\"14\" font-weight=\"bold\" lengthAdjust=\"spacingAndGlyphs\" textLength=\"214\" x=\"20\" y=\"20.9951\">TextualRepresentationTest</text></a><!--MD5=[de5ec2e2e8f62f467e546659f5068c88]\n",
       "cluster E5--><a href=\"psysml:ff423fdb-a5ad-4383-b75e-3a1966f8baa4\" target=\"_top\" title=\"psysml:ff423fdb-a5ad-4383-b75e-3a1966f8baa4\" xlink:actuate=\"onRequest\" xlink:href=\"psysml:ff423fdb-a5ad-4383-b75e-3a1966f8baa4\" xlink:show=\"new\" xlink:title=\"psysml:ff423fdb-a5ad-4383-b75e-3a1966f8baa4\" xlink:type=\"simple\"><rect fill=\"#FFFFFF\" height=\"47\" id=\"E5\" style=\"stroke: #383838; stroke-width: 1.5;\" width=\"251.5\" x=\"69.5\" y=\"55\"/><rect fill=\"#F8F8F8\" height=\"37.9375\" style=\"stroke: #383838; stroke-width: 1.5;\" width=\"251.5\" x=\"69.5\" y=\"55\"/><text fill=\"#000000\" font-family=\"sans-serif\" font-size=\"12\" font-style=\"italic\" lengthAdjust=\"spacingAndGlyphs\" textLength=\"77\" x=\"156.75\" y=\"71.1387\">«action def»</text><text fill=\"#000000\" font-family=\"sans-serif\" font-size=\"12\" lengthAdjust=\"spacingAndGlyphs\" textLength=\"27\" x=\"181.75\" y=\"85.1074\">setX</text></a><!--MD5=[b4997ac47864f28c2f74865a473b2911]\n",
       "class E2--><a href=\"psysml:3f2a97d7-c1a2-4f9b-b443-e0389101b303\" target=\"_top\" title=\"psysml:3f2a97d7-c1a2-4f9b-b443-e0389101b303\" xlink:actuate=\"onRequest\" xlink:href=\"psysml:3f2a97d7-c1a2-4f9b-b443-e0389101b303\" xlink:show=\"new\" xlink:title=\"psysml:3f2a97d7-c1a2-4f9b-b443-e0389101b303\" xlink:type=\"simple\"><rect fill=\"#FFFFFF\" height=\"45.9375\" id=\"E2\" style=\"stroke: #383838; stroke-width: 1.5;\" width=\"74\" x=\"50.5\" y=\"143\"/><text fill=\"#000000\" font-family=\"sans-serif\" font-size=\"12\" font-style=\"italic\" lengthAdjust=\"spacingAndGlyphs\" textLength=\"72\" x=\"51.5\" y=\"159.1387\">«dataType»</text><text fill=\"#000000\" font-family=\"sans-serif\" font-size=\"12\" lengthAdjust=\"spacingAndGlyphs\" textLength=\"27\" x=\"74\" y=\"173.1074\">Real</text><line style=\"stroke: #383838; stroke-width: 1.5;\" x1=\"51.5\" x2=\"123.5\" y1=\"180.9375\" y2=\"180.9375\"/></a><!--MD5=[09b614a08d8cba4a07c9adeb5e0fee81]\n",
       "class E3--><a href=\"psysml:bb207011-903d-4a71-a2f5-e51b80009fec\" target=\"_top\" title=\"psysml:bb207011-903d-4a71-a2f5-e51b80009fec\" xlink:actuate=\"onRequest\" xlink:href=\"psysml:bb207011-903d-4a71-a2f5-e51b80009fec\" xlink:show=\"new\" xlink:title=\"psysml:bb207011-903d-4a71-a2f5-e51b80009fec\" xlink:type=\"simple\"><rect fill=\"#FFFFFF\" height=\"105.1563\" id=\"E3\" style=\"stroke: #383838; stroke-width: 1.5;\" width=\"111\" x=\"32\" y=\"224.5\"/><text fill=\"#000000\" font-family=\"sans-serif\" font-size=\"12\" font-style=\"italic\" lengthAdjust=\"spacingAndGlyphs\" textLength=\"65\" x=\"55\" y=\"240.6387\">«item def»</text><text fill=\"#000000\" font-family=\"sans-serif\" font-size=\"12\" lengthAdjust=\"spacingAndGlyphs\" textLength=\"8\" x=\"83.5\" y=\"254.6074\">C</text><line style=\"stroke: #383838; stroke-width: 1.5;\" x1=\"33\" x2=\"142\" y1=\"262.4375\" y2=\"262.4375\"/><text fill=\"#000000\" font-family=\"sans-serif\" font-size=\"11\" lengthAdjust=\"spacingAndGlyphs\" textLength=\"38\" x=\"38\" y=\"293.4526\">x: Real</text><line style=\"stroke: #383838; stroke-width: 1.0;\" x1=\"33\" x2=\"60\" y1=\"276.8398\" y2=\"276.8398\"/><text fill=\"#000000\" font-family=\"sans-serif\" font-size=\"11\" lengthAdjust=\"spacingAndGlyphs\" textLength=\"55\" x=\"60\" y=\"280.1479\">attributes</text><line style=\"stroke: #383838; stroke-width: 1.0;\" x1=\"115\" x2=\"142\" y1=\"276.8398\" y2=\"276.8398\"/><text fill=\"#000000\" font-family=\"sans-serif\" font-size=\"11\" lengthAdjust=\"spacingAndGlyphs\" textLength=\"69\" x=\"38\" y=\"323.062\">x_constraint</text><line style=\"stroke: #383838; stroke-width: 1.0;\" x1=\"33\" x2=\"36\" y1=\"306.4492\" y2=\"306.4492\"/><text fill=\"#000000\" font-family=\"sans-serif\" font-size=\"11\" lengthAdjust=\"spacingAndGlyphs\" textLength=\"103\" x=\"36\" y=\"309.7573\">assertConstraints</text><line style=\"stroke: #383838; stroke-width: 1.0;\" x1=\"139\" x2=\"142\" y1=\"306.4492\" y2=\"306.4492\"/></a><text fill=\"#000000\" font-family=\"sans-serif\" font-size=\"14\" lengthAdjust=\"spacingAndGlyphs\" textLength=\"8\" x=\"83.5\" y=\"120.9951\">c</text><rect fill=\"#383838\" height=\"12\" style=\"stroke: #F8F8F8; stroke-width: 1.5;\" width=\"12\" x=\"81.5\" y=\"96\"/><text fill=\"#000000\" font-family=\"sans-serif\" font-size=\"14\" lengthAdjust=\"spacingAndGlyphs\" textLength=\"38\" x=\"68.5\" y=\"33.6982\">newX</text><rect fill=\"#383838\" height=\"12\" style=\"stroke: #F8F8F8; stroke-width: 1.5;\" width=\"12\" x=\"81.5\" y=\"49\"/><!--MD5=[a3e8400904300903e3f49faad61820be]\n",
       "@startuml\r\n",
       "left to right direction\r\n",
       "skinparam monochrome true\r\n",
       "skinparam classbackgroundcolor white\r\n",
       "skinparam shadowing false\r\n",
       "skinparam wrapWidth 300\r\n",
       "hide circle\r\n",
       "\r\n",
       "package \"TextualRepresentationTest\" as E1  [[psysml:0fc68415-d7d0-4850-b93e-796cf2adc089 ]]  {\r\n",
       "comp def \"Real\" as E2  <<(T,blue)dataType>> [[psysml:3f2a97d7-c1a2-4f9b-b443-e0389101b303 ]] {\r\n",
       "}\r\n",
       "comp def \"C\" as E3  <<(T,blue)item def>> [[psysml:bb207011-903d-4a71-a2f5-e51b80009fec ]] {\r\n",
       "- - attributes - -\r\n",
       "x: Real\r\n",
       "- - assertConstraints - -\r\n",
       "x_constraint\r\n",
       "}\r\n",
       "rec def \"setX\" as E5  <<(T,blue)action def>> [[psysml:ff423fdb-a5ad-4383-b75e-3a1966f8baa4 ]] {\r\n",
       "portin \"c\" as E6  [[psysml:4c2c889d-aea7-4bfd-be6e-45844659a6a1 ]] \r\n",
       "portin \"newX\" as E7  [[psysml:471b2978-4f3d-4f5c-bcaa-50341599c3a3 ]] \r\n",
       "}\r\n",
       "\r\n",
       "}\r\n",
       "@enduml\r\n",
       "\n",
       "PlantUML version 1.2020.13(Sat Jun 13 12:26:38 UTC 2020)\n",
       "(EPL source distribution)\n",
       "Java Runtime: OpenJDK Runtime Environment\n",
       "JVM: OpenJDK 64-Bit Server VM\n",
       "Default Encoding: UTF-8\n",
       "Language: en\n",
       "Country: null\n",
       "--></g></svg>"
      ]
     },
     "execution_count": 22,
     "metadata": {},
     "output_type": "execute_result"
    }
   ],
   "source": [
    "%viz --style=\"LR\" --view=\"MIXED\" \"TextualRepresentationTest\""
   ]
  },
  {
   "cell_type": "code",
   "execution_count": 23,
   "id": "eight-morning",
   "metadata": {
    "execution": {
     "iopub.execute_input": "2021-03-25T15:08:36.056280Z",
     "iopub.status.busy": "2021-03-25T15:08:36.055617Z",
     "iopub.status.idle": "2021-03-25T15:08:36.396527Z",
     "shell.execute_reply": "2021-03-25T15:08:36.397042Z"
    }
   },
   "outputs": [
    {
     "data": {
      "image/svg+xml": [
       "<?xml version=\"1.0\" encoding=\"UTF-8\" standalone=\"no\"?><svg xmlns=\"http://www.w3.org/2000/svg\" xmlns:xlink=\"http://www.w3.org/1999/xlink\" contentScriptType=\"application/ecmascript\" contentStyleType=\"text/css\" height=\"268px\" preserveAspectRatio=\"none\" style=\"width:432px;height:268px;\" version=\"1.1\" viewBox=\"0 0 432 268\" width=\"432px\" zoomAndPan=\"magnify\"><defs><filter height=\"300%\" id=\"f1lc61wfpbjkjk\" width=\"300%\" x=\"-1\" y=\"-1\"><feGaussianBlur result=\"blurOut\" stdDeviation=\"2.0\"/><feColorMatrix in=\"blurOut\" result=\"blurOut2\" type=\"matrix\" values=\"0 0 0 0 0 0 0 0 0 0 0 0 0 0 0 0 0 0 .4 0\"/><feOffset dx=\"4.0\" dy=\"4.0\" in=\"blurOut2\" result=\"blurOut3\"/><feBlend in=\"SourceGraphic\" in2=\"blurOut3\" mode=\"normal\"/></filter></defs><g><!--MD5=[fbc87193dbaf4d95561dea2c320d4a47]\n",
       "cluster E1--><a href=\"psysml:0fc68415-d7d0-4850-b93e-796cf2adc089\" target=\"_top\" title=\"psysml:0fc68415-d7d0-4850-b93e-796cf2adc089\" xlink:actuate=\"onRequest\" xlink:href=\"psysml:0fc68415-d7d0-4850-b93e-796cf2adc089\" xlink:show=\"new\" xlink:title=\"psysml:0fc68415-d7d0-4850-b93e-796cf2adc089\" xlink:type=\"simple\"><polygon fill=\"#FFFFFF\" filter=\"url(#f1lc61wfpbjkjk)\" points=\"16,6,236,6,243,28.2969,410,28.2969,410,256,16,256,16,6\" style=\"stroke: #000000; stroke-width: 1.5;\"/><line style=\"stroke: #000000; stroke-width: 1.5;\" x1=\"16\" x2=\"243\" y1=\"28.2969\" y2=\"28.2969\"/><text fill=\"#000000\" font-family=\"sans-serif\" font-size=\"14\" font-weight=\"bold\" lengthAdjust=\"spacingAndGlyphs\" textLength=\"214\" x=\"20\" y=\"20.9951\">TextualRepresentationTest</text></a><!--MD5=[de5ec2e2e8f62f467e546659f5068c88]\n",
       "cluster E5--><a href=\"psysml:ff423fdb-a5ad-4383-b75e-3a1966f8baa4\" target=\"_top\" title=\"psysml:ff423fdb-a5ad-4383-b75e-3a1966f8baa4\" xlink:actuate=\"onRequest\" xlink:href=\"psysml:ff423fdb-a5ad-4383-b75e-3a1966f8baa4\" xlink:show=\"new\" xlink:title=\"psysml:ff423fdb-a5ad-4383-b75e-3a1966f8baa4\" xlink:type=\"simple\"><rect fill=\"#FFFFFF\" filter=\"url(#f1lc61wfpbjkjk)\" height=\"155\" id=\"E5\" style=\"stroke: #A80036; stroke-width: 1.5;\" width=\"96\" x=\"268.5\" y=\"85\"/><rect fill=\"#FEFECE\" height=\"37.9375\" style=\"stroke: #A80036; stroke-width: 1.5;\" width=\"96\" x=\"268.5\" y=\"85\"/><text fill=\"#000000\" font-family=\"sans-serif\" font-size=\"12\" font-style=\"italic\" lengthAdjust=\"spacingAndGlyphs\" textLength=\"77\" x=\"278\" y=\"101.1387\">«action def»</text><text fill=\"#000000\" font-family=\"sans-serif\" font-size=\"12\" lengthAdjust=\"spacingAndGlyphs\" textLength=\"27\" x=\"303\" y=\"115.1074\">setX</text></a><!--MD5=[b4997ac47864f28c2f74865a473b2911]\n",
       "class E2--><a href=\"psysml:3f2a97d7-c1a2-4f9b-b443-e0389101b303\" target=\"_top\" title=\"psysml:3f2a97d7-c1a2-4f9b-b443-e0389101b303\" xlink:actuate=\"onRequest\" xlink:href=\"psysml:3f2a97d7-c1a2-4f9b-b443-e0389101b303\" xlink:show=\"new\" xlink:title=\"psysml:3f2a97d7-c1a2-4f9b-b443-e0389101b303\" xlink:type=\"simple\"><rect fill=\"#FEFECE\" filter=\"url(#f1lc61wfpbjkjk)\" height=\"45.9375\" id=\"E2\" style=\"stroke: #A80036; stroke-width: 1.5;\" width=\"74\" x=\"178\" y=\"62\"/><text fill=\"#000000\" font-family=\"sans-serif\" font-size=\"12\" font-style=\"italic\" lengthAdjust=\"spacingAndGlyphs\" textLength=\"72\" x=\"179\" y=\"78.1387\">«dataType»</text><text fill=\"#000000\" font-family=\"sans-serif\" font-size=\"12\" lengthAdjust=\"spacingAndGlyphs\" textLength=\"27\" x=\"201.5\" y=\"92.1074\">Real</text><line style=\"stroke: #A80036; stroke-width: 1.5;\" x1=\"179\" x2=\"251\" y1=\"99.9375\" y2=\"99.9375\"/></a><!--MD5=[09b614a08d8cba4a07c9adeb5e0fee81]\n",
       "class E3--><a href=\"psysml:bb207011-903d-4a71-a2f5-e51b80009fec\" target=\"_top\" title=\"psysml:bb207011-903d-4a71-a2f5-e51b80009fec\" xlink:actuate=\"onRequest\" xlink:href=\"psysml:bb207011-903d-4a71-a2f5-e51b80009fec\" xlink:show=\"new\" xlink:title=\"psysml:bb207011-903d-4a71-a2f5-e51b80009fec\" xlink:type=\"simple\"><rect fill=\"#FEFECE\" filter=\"url(#f1lc61wfpbjkjk)\" height=\"88.3516\" id=\"E3\" style=\"stroke: #A80036; stroke-width: 1.5;\" width=\"111\" x=\"31.5\" y=\"41\"/><text fill=\"#000000\" font-family=\"sans-serif\" font-size=\"12\" font-style=\"italic\" lengthAdjust=\"spacingAndGlyphs\" textLength=\"65\" x=\"54.5\" y=\"57.1387\">«item def»</text><text fill=\"#000000\" font-family=\"sans-serif\" font-size=\"12\" lengthAdjust=\"spacingAndGlyphs\" textLength=\"8\" x=\"83\" y=\"71.1074\">C</text><line style=\"stroke: #A80036; stroke-width: 1.5;\" x1=\"32.5\" x2=\"141.5\" y1=\"78.9375\" y2=\"78.9375\"/><text fill=\"#000000\" font-family=\"sans-serif\" font-size=\"11\" lengthAdjust=\"spacingAndGlyphs\" textLength=\"38\" x=\"37.5\" y=\"93.1479\">x: Real</text><text fill=\"#000000\" font-family=\"sans-serif\" font-size=\"11\" lengthAdjust=\"spacingAndGlyphs\" textLength=\"69\" x=\"37.5\" y=\"122.7573\">x_constraint</text><line style=\"stroke: #A80036; stroke-width: 1.0;\" x1=\"32.5\" x2=\"35.5\" y1=\"106.1445\" y2=\"106.1445\"/><text fill=\"#000000\" font-family=\"sans-serif\" font-size=\"11\" lengthAdjust=\"spacingAndGlyphs\" textLength=\"103\" x=\"35.5\" y=\"109.4526\">assertConstraints</text><line style=\"stroke: #A80036; stroke-width: 1.0;\" x1=\"138.5\" x2=\"141.5\" y1=\"106.1445\" y2=\"106.1445\"/></a><text fill=\"#000000\" font-family=\"sans-serif\" font-size=\"14\" lengthAdjust=\"spacingAndGlyphs\" textLength=\"8\" x=\"289\" y=\"63.6982\">c</text><rect fill=\"#A80036\" height=\"12\" style=\"stroke: #FEFECE; stroke-width: 1.5;\" width=\"12\" x=\"287\" y=\"79\"/><text fill=\"#000000\" font-family=\"sans-serif\" font-size=\"14\" lengthAdjust=\"spacingAndGlyphs\" textLength=\"38\" x=\"321\" y=\"63.6982\">newX</text><rect fill=\"#A80036\" height=\"12\" style=\"stroke: #FEFECE; stroke-width: 1.5;\" width=\"12\" x=\"334\" y=\"79\"/><!--MD5=[4f601c518b6f6b201ae787194e2a45d5]\n",
       "@startuml\r\n",
       "skinparam wrapWidth 300\r\n",
       "hide circle\r\n",
       "\r\n",
       "package \"TextualRepresentationTest\" as E1  [[psysml:0fc68415-d7d0-4850-b93e-796cf2adc089 ]]  {\r\n",
       "comp def \"Real\" as E2  <<(T,blue)dataType>> [[psysml:3f2a97d7-c1a2-4f9b-b443-e0389101b303 ]] {\r\n",
       "}\r\n",
       "comp def \"C\" as E3  <<(T,blue)item def>> [[psysml:bb207011-903d-4a71-a2f5-e51b80009fec ]] {\r\n",
       "x: Real\r\n",
       "- - assertConstraints - -\r\n",
       "x_constraint\r\n",
       "}\r\n",
       "rec def \"setX\" as E5  <<(T,blue)action def>> [[psysml:ff423fdb-a5ad-4383-b75e-3a1966f8baa4 ]] {\r\n",
       "portin \"c\" as E6  [[psysml:4c2c889d-aea7-4bfd-be6e-45844659a6a1 ]] \r\n",
       "portin \"newX\" as E7  [[psysml:471b2978-4f3d-4f5c-bcaa-50341599c3a3 ]] \r\n",
       "}\r\n",
       "\r\n",
       "}\r\n",
       "@enduml\r\n",
       "\n",
       "PlantUML version 1.2020.13(Sat Jun 13 12:26:38 UTC 2020)\n",
       "(EPL source distribution)\n",
       "Java Runtime: OpenJDK Runtime Environment\n",
       "JVM: OpenJDK 64-Bit Server VM\n",
       "Default Encoding: UTF-8\n",
       "Language: en\n",
       "Country: null\n",
       "--></g></svg>"
      ]
     },
     "execution_count": 23,
     "metadata": {},
     "output_type": "execute_result"
    }
   ],
   "source": [
    "%viz --style=\"STDCOLOR\" --view=\"Default\" \"TextualRepresentationTest\""
   ]
  },
  {
   "cell_type": "code",
   "execution_count": 24,
   "id": "diverse-calibration",
   "metadata": {
    "execution": {
     "iopub.execute_input": "2021-03-25T15:08:36.448001Z",
     "iopub.status.busy": "2021-03-25T15:08:36.447411Z",
     "iopub.status.idle": "2021-03-25T15:08:36.759436Z",
     "shell.execute_reply": "2021-03-25T15:08:36.758116Z"
    }
   },
   "outputs": [
    {
     "data": {
      "image/svg+xml": [
       "<?xml version=\"1.0\" encoding=\"UTF-8\" standalone=\"no\"?><svg xmlns=\"http://www.w3.org/2000/svg\" xmlns:xlink=\"http://www.w3.org/1999/xlink\" contentScriptType=\"application/ecmascript\" contentStyleType=\"text/css\" height=\"280px\" preserveAspectRatio=\"none\" style=\"width:290px;height:280px;\" version=\"1.1\" viewBox=\"0 0 290 280\" width=\"290px\" zoomAndPan=\"magnify\"><defs><filter height=\"300%\" id=\"fnpm3fq9adg6k\" width=\"300%\" x=\"-1\" y=\"-1\"><feGaussianBlur result=\"blurOut\" stdDeviation=\"2.0\"/><feColorMatrix in=\"blurOut\" result=\"blurOut2\" type=\"matrix\" values=\"0 0 0 0 0 0 0 0 0 0 0 0 0 0 0 0 0 0 .4 0\"/><feOffset dx=\"4.0\" dy=\"4.0\" in=\"blurOut2\" result=\"blurOut3\"/><feBlend in=\"SourceGraphic\" in2=\"blurOut3\" mode=\"normal\"/></filter></defs><g><!--MD5=[fbc87193dbaf4d95561dea2c320d4a47]\n",
       "cluster E1--><a href=\"psysml:0fc68415-d7d0-4850-b93e-796cf2adc089\" target=\"_top\" title=\"psysml:0fc68415-d7d0-4850-b93e-796cf2adc089\" xlink:actuate=\"onRequest\" xlink:href=\"psysml:0fc68415-d7d0-4850-b93e-796cf2adc089\" xlink:show=\"new\" xlink:title=\"psysml:0fc68415-d7d0-4850-b93e-796cf2adc089\" xlink:type=\"simple\"><polygon fill=\"#FFFFFF\" filter=\"url(#fnpm3fq9adg6k)\" points=\"16,6,236,6,243,28.2969,268,28.2969,268,268,16,268,16,6\" style=\"stroke: #000000; stroke-width: 1.5;\"/><line style=\"stroke: #000000; stroke-width: 1.5;\" x1=\"16\" x2=\"243\" y1=\"28.2969\" y2=\"28.2969\"/><text fill=\"#000000\" font-family=\"sans-serif\" font-size=\"14\" font-weight=\"bold\" lengthAdjust=\"spacingAndGlyphs\" textLength=\"214\" x=\"20\" y=\"20.9951\">TextualRepresentationTest</text></a><!--MD5=[b4997ac47864f28c2f74865a473b2911]\n",
       "class E2--><a href=\"psysml:3f2a97d7-c1a2-4f9b-b443-e0389101b303\" target=\"_top\" title=\"psysml:3f2a97d7-c1a2-4f9b-b443-e0389101b303\" xlink:actuate=\"onRequest\" xlink:href=\"psysml:3f2a97d7-c1a2-4f9b-b443-e0389101b303\" xlink:show=\"new\" xlink:title=\"psysml:3f2a97d7-c1a2-4f9b-b443-e0389101b303\" xlink:type=\"simple\"><rect fill=\"#FEFECE\" filter=\"url(#fnpm3fq9adg6k)\" height=\"45.9375\" id=\"E2\" style=\"stroke: #A80036; stroke-width: 1.5;\" width=\"74\" x=\"32\" y=\"185\"/><text fill=\"#000000\" font-family=\"sans-serif\" font-size=\"12\" font-style=\"italic\" lengthAdjust=\"spacingAndGlyphs\" textLength=\"72\" x=\"33\" y=\"201.1387\">«dataType»</text><text fill=\"#000000\" font-family=\"sans-serif\" font-size=\"12\" lengthAdjust=\"spacingAndGlyphs\" textLength=\"27\" x=\"55.5\" y=\"215.1074\">Real</text><line style=\"stroke: #A80036; stroke-width: 1.5;\" x1=\"33\" x2=\"105\" y1=\"222.9375\" y2=\"222.9375\"/></a><!--MD5=[09b614a08d8cba4a07c9adeb5e0fee81]\n",
       "class E3--><a href=\"psysml:bb207011-903d-4a71-a2f5-e51b80009fec\" target=\"_top\" title=\"psysml:bb207011-903d-4a71-a2f5-e51b80009fec\" xlink:actuate=\"onRequest\" xlink:href=\"psysml:bb207011-903d-4a71-a2f5-e51b80009fec\" xlink:show=\"new\" xlink:title=\"psysml:bb207011-903d-4a71-a2f5-e51b80009fec\" xlink:type=\"simple\"><rect fill=\"#FEFECE\" filter=\"url(#fnpm3fq9adg6k)\" height=\"88.3516\" id=\"E3\" style=\"stroke: #A80036; stroke-width: 1.5;\" width=\"111\" x=\"141.5\" y=\"164\"/><text fill=\"#000000\" font-family=\"sans-serif\" font-size=\"12\" font-style=\"italic\" lengthAdjust=\"spacingAndGlyphs\" textLength=\"65\" x=\"164.5\" y=\"180.1387\">«item def»</text><text fill=\"#000000\" font-family=\"sans-serif\" font-size=\"12\" lengthAdjust=\"spacingAndGlyphs\" textLength=\"8\" x=\"193\" y=\"194.1074\">C</text><line style=\"stroke: #A80036; stroke-width: 1.5;\" x1=\"142.5\" x2=\"251.5\" y1=\"201.9375\" y2=\"201.9375\"/><text fill=\"#000000\" font-family=\"sans-serif\" font-size=\"11\" lengthAdjust=\"spacingAndGlyphs\" textLength=\"38\" x=\"147.5\" y=\"216.1479\">x: Real</text><text fill=\"#000000\" font-family=\"sans-serif\" font-size=\"11\" lengthAdjust=\"spacingAndGlyphs\" textLength=\"69\" x=\"147.5\" y=\"245.7573\">x_constraint</text><line style=\"stroke: #A80036; stroke-width: 1.0;\" x1=\"142.5\" x2=\"145.5\" y1=\"229.1445\" y2=\"229.1445\"/><text fill=\"#000000\" font-family=\"sans-serif\" font-size=\"11\" lengthAdjust=\"spacingAndGlyphs\" textLength=\"103\" x=\"145.5\" y=\"232.4526\">assertConstraints</text><line style=\"stroke: #A80036; stroke-width: 1.0;\" x1=\"248.5\" x2=\"251.5\" y1=\"229.1445\" y2=\"229.1445\"/></a><!--MD5=[270fce915f116d4de14055a7c1d9a0f3]\n",
       "class E5--><a href=\"psysml:ff423fdb-a5ad-4383-b75e-3a1966f8baa4\" target=\"_top\" title=\"psysml:ff423fdb-a5ad-4383-b75e-3a1966f8baa4\" xlink:actuate=\"onRequest\" xlink:href=\"psysml:ff423fdb-a5ad-4383-b75e-3a1966f8baa4\" xlink:show=\"new\" xlink:title=\"psysml:ff423fdb-a5ad-4383-b75e-3a1966f8baa4\" xlink:type=\"simple\"><rect fill=\"#FEFECE\" filter=\"url(#fnpm3fq9adg6k)\" height=\"45.9375\" id=\"E5\" style=\"stroke: #A80036; stroke-width: 1.5;\" width=\"79\" x=\"67.5\" y=\"41\"/><text fill=\"#000000\" font-family=\"sans-serif\" font-size=\"12\" font-style=\"italic\" lengthAdjust=\"spacingAndGlyphs\" textLength=\"77\" x=\"68.5\" y=\"57.1387\">«action def»</text><text fill=\"#000000\" font-family=\"sans-serif\" font-size=\"12\" lengthAdjust=\"spacingAndGlyphs\" textLength=\"27\" x=\"93.5\" y=\"71.1074\">setX</text><line style=\"stroke: #A80036; stroke-width: 1.5;\" x1=\"68.5\" x2=\"145.5\" y1=\"78.9375\" y2=\"78.9375\"/></a><!--MD5=[6f107eb264eda4b26325f39a5516f1f3]\n",
       "reverse link E5 to E3--><a href=\"psysml:4c2c889d-aea7-4bfd-be6e-45844659a6a1\" target=\"_top\" title=\"psysml:4c2c889d-aea7-4bfd-be6e-45844659a6a1\" xlink:actuate=\"onRequest\" xlink:href=\"psysml:4c2c889d-aea7-4bfd-be6e-45844659a6a1\" xlink:show=\"new\" xlink:title=\"psysml:4c2c889d-aea7-4bfd-be6e-45844659a6a1\" xlink:type=\"simple\"><path d=\"M128.1,98.29 C140.49,117.85 156.29,142.77 169.63,163.82 \" fill=\"none\" id=\"E5&lt;-E3\" style=\"stroke: #A80036; stroke-width: 1.0;\"/><polygon fill=\"#FFFFFF\" points=\"121.06,87.19,120.8908,94.3991,127.4803,97.328,127.6495,90.1189,121.06,87.19\" style=\"stroke: #A80036; stroke-width: 1.0;\"/><text fill=\"#000000\" font-family=\"sans-serif\" font-size=\"13\" lengthAdjust=\"spacingAndGlyphs\" textLength=\"7\" x=\"150\" y=\"130.0669\">c</text></a><!--MD5=[f51c6d1f1856fe338ac0413483fb1ccf]\n",
       "reverse link E5 to E2--><a href=\"psysml:471b2978-4f3d-4f5c-bcaa-50341599c3a3\" target=\"_top\" title=\"psysml:471b2978-4f3d-4f5c-bcaa-50341599c3a3\" xlink:actuate=\"onRequest\" xlink:href=\"psysml:471b2978-4f3d-4f5c-bcaa-50341599c3a3\" xlink:show=\"new\" xlink:title=\"psysml:471b2978-4f3d-4f5c-bcaa-50341599c3a3\" xlink:type=\"simple\"><path d=\"M97.7,99.76 C90.58,126.35 80.99,162.21 74.9,184.97 \" fill=\"none\" id=\"E5&lt;-E2\" style=\"stroke: #A80036; stroke-width: 1.0;\"/><polygon fill=\"#FFFFFF\" points=\"101.06,87.19,95.646,91.9533,97.9607,98.7828,103.3746,94.0195,101.06,87.19\" style=\"stroke: #A80036; stroke-width: 1.0;\"/><text fill=\"#000000\" font-family=\"sans-serif\" font-size=\"13\" lengthAdjust=\"spacingAndGlyphs\" textLength=\"33\" x=\"93\" y=\"130.0669\">newX</text></a><!--MD5=[2fdcfa7607e808b5be925d2bb3fe09e0]\n",
       "@startuml\r\n",
       "skinparam wrapWidth 300\r\n",
       "hide circle\r\n",
       "\r\n",
       "package \"TextualRepresentationTest\" as E1  [[psysml:0fc68415-d7d0-4850-b93e-796cf2adc089 ]]  {\r\n",
       "comp def \"Real\" as E2  <<(T,blue)dataType>> [[psysml:3f2a97d7-c1a2-4f9b-b443-e0389101b303 ]] {\r\n",
       "}\r\n",
       "comp def \"C\" as E3  <<(T,blue)item def>> [[psysml:bb207011-903d-4a71-a2f5-e51b80009fec ]] {\r\n",
       "x: Real\r\n",
       "- - assertConstraints - -\r\n",
       "x_constraint\r\n",
       "}\r\n",
       "comp def \"setX\" as E5  <<(T,blue)action def>> [[psysml:ff423fdb-a5ad-4383-b75e-3a1966f8baa4 ]] {\r\n",
       "}\r\n",
       "E5 o- - E3 [[psysml:4c2c889d-aea7-4bfd-be6e-45844659a6a1 ]] : c\r\n",
       "E5 o- - E2 [[psysml:471b2978-4f3d-4f5c-bcaa-50341599c3a3 ]] : newX\r\n",
       "}\r\n",
       "@enduml\r\n",
       "\n",
       "PlantUML version 1.2020.13(Sat Jun 13 12:26:38 UTC 2020)\n",
       "(EPL source distribution)\n",
       "Java Runtime: OpenJDK Runtime Environment\n",
       "JVM: OpenJDK 64-Bit Server VM\n",
       "Default Encoding: UTF-8\n",
       "Language: en\n",
       "Country: null\n",
       "--></g></svg>"
      ]
     },
     "execution_count": 24,
     "metadata": {},
     "output_type": "execute_result"
    }
   ],
   "source": [
    "%viz --style=\"STDCOLOR\" --view=\"Tree\" \"TextualRepresentationTest\""
   ]
  },
  {
   "cell_type": "code",
   "execution_count": 25,
   "id": "proper-pleasure",
   "metadata": {
    "execution": {
     "iopub.execute_input": "2021-03-25T15:08:36.810864Z",
     "iopub.status.busy": "2021-03-25T15:08:36.810182Z",
     "iopub.status.idle": "2021-03-25T15:08:36.816608Z",
     "shell.execute_reply": "2021-03-25T15:08:36.817012Z"
    }
   },
   "outputs": [
    {
     "data": {
      "image/svg+xml": [
       "<?xml version=\"1.0\" encoding=\"UTF-8\" standalone=\"no\"?><svg xmlns=\"http://www.w3.org/2000/svg\" xmlns:xlink=\"http://www.w3.org/1999/xlink\" contentScriptType=\"application/ecmascript\" contentStyleType=\"text/css\" height=\"12px\" preserveAspectRatio=\"none\" style=\"width:12px;height:12px;\" version=\"1.1\" viewBox=\"0 0 12 12\" width=\"12px\" zoomAndPan=\"magnify\"><defs/><g><!--MD5=[aeeef50f102b80d730deb6443d14f702]\n",
       "@startuml\r\n",
       "skinparam wrapWidth 300\r\n",
       "hide circle\r\n",
       "\r\n",
       "@enduml\r\n",
       "\n",
       "PlantUML version 1.2020.13(Sat Jun 13 12:26:38 UTC 2020)\n",
       "(EPL source distribution)\n",
       "Java Runtime: OpenJDK Runtime Environment\n",
       "JVM: OpenJDK 64-Bit Server VM\n",
       "Default Encoding: UTF-8\n",
       "Language: en\n",
       "Country: null\n",
       "--></g></svg>"
      ]
     },
     "execution_count": 25,
     "metadata": {},
     "output_type": "execute_result"
    }
   ],
   "source": [
    "%viz --style=\"STDCOLOR\" --view=\"State\" \"TextualRepresentationTest\""
   ]
  },
  {
   "cell_type": "code",
   "execution_count": 26,
   "id": "assisted-times",
   "metadata": {
    "execution": {
     "iopub.execute_input": "2021-03-25T15:08:36.869567Z",
     "iopub.status.busy": "2021-03-25T15:08:36.868445Z",
     "iopub.status.idle": "2021-03-25T15:08:36.945277Z",
     "shell.execute_reply": "2021-03-25T15:08:36.945769Z"
    }
   },
   "outputs": [
    {
     "data": {
      "image/svg+xml": [
       "<?xml version=\"1.0\" encoding=\"UTF-8\" standalone=\"no\"?><svg xmlns=\"http://www.w3.org/2000/svg\" xmlns:xlink=\"http://www.w3.org/1999/xlink\" contentScriptType=\"application/ecmascript\" contentStyleType=\"text/css\" height=\"123px\" preserveAspectRatio=\"none\" style=\"width:505px;height:123px;\" version=\"1.1\" viewBox=\"0 0 505 123\" width=\"505px\" zoomAndPan=\"magnify\"><defs><filter height=\"300%\" id=\"fi7qwttg5j2c3\" width=\"300%\" x=\"-1\" y=\"-1\"><feGaussianBlur result=\"blurOut\" stdDeviation=\"2.0\"/><feColorMatrix in=\"blurOut\" result=\"blurOut2\" type=\"matrix\" values=\"0 0 0 0 0 0 0 0 0 0 0 0 0 0 0 0 0 0 .4 0\"/><feOffset dx=\"4.0\" dy=\"4.0\" in=\"blurOut2\" result=\"blurOut3\"/><feBlend in=\"SourceGraphic\" in2=\"blurOut3\" mode=\"normal\"/></filter></defs><g><!--MD5=[fbc87193dbaf4d95561dea2c320d4a47]\n",
       "cluster E1--><a href=\"psysml:0fc68415-d7d0-4850-b93e-796cf2adc089\" target=\"_top\" title=\"psysml:0fc68415-d7d0-4850-b93e-796cf2adc089\" xlink:actuate=\"onRequest\" xlink:href=\"psysml:0fc68415-d7d0-4850-b93e-796cf2adc089\" xlink:show=\"new\" xlink:title=\"psysml:0fc68415-d7d0-4850-b93e-796cf2adc089\" xlink:type=\"simple\"><polygon fill=\"#FFFFFF\" filter=\"url(#fi7qwttg5j2c3)\" points=\"16,6,236,6,243,28.2969,483,28.2969,483,111,16,111,16,6\" style=\"stroke: #000000; stroke-width: 1.5;\"/><line style=\"stroke: #000000; stroke-width: 1.5;\" x1=\"16\" x2=\"243\" y1=\"28.2969\" y2=\"28.2969\"/><text fill=\"#000000\" font-family=\"sans-serif\" font-size=\"14\" font-weight=\"bold\" lengthAdjust=\"spacingAndGlyphs\" textLength=\"214\" x=\"20\" y=\"20.9951\">TextualRepresentationTest</text></a><!--MD5=[b4997ac47864f28c2f74865a473b2911]\n",
       "class E2--><a href=\"psysml:3f2a97d7-c1a2-4f9b-b443-e0389101b303\" target=\"_top\" title=\"psysml:3f2a97d7-c1a2-4f9b-b443-e0389101b303\" xlink:actuate=\"onRequest\" xlink:href=\"psysml:3f2a97d7-c1a2-4f9b-b443-e0389101b303\" xlink:show=\"new\" xlink:title=\"psysml:3f2a97d7-c1a2-4f9b-b443-e0389101b303\" xlink:type=\"simple\"><rect fill=\"#FEFECE\" filter=\"url(#fi7qwttg5j2c3)\" height=\"53.9375\" id=\"E2\" style=\"stroke: #A80036; stroke-width: 1.5;\" width=\"122\" x=\"345\" y=\"41\"/><text fill=\"#000000\" font-family=\"sans-serif\" font-size=\"12\" font-style=\"italic\" lengthAdjust=\"spacingAndGlyphs\" textLength=\"120\" x=\"346\" y=\"57.1387\">«(T,blue)dataType»</text><text fill=\"#000000\" font-family=\"sans-serif\" font-size=\"12\" lengthAdjust=\"spacingAndGlyphs\" textLength=\"27\" x=\"392.5\" y=\"71.1074\">Real</text><line style=\"stroke: #A80036; stroke-width: 1.5;\" x1=\"346\" x2=\"466\" y1=\"78.9375\" y2=\"78.9375\"/><line style=\"stroke: #A80036; stroke-width: 1.5;\" x1=\"346\" x2=\"466\" y1=\"86.9375\" y2=\"86.9375\"/></a><!--MD5=[09b614a08d8cba4a07c9adeb5e0fee81]\n",
       "class E3--><a href=\"psysml:bb207011-903d-4a71-a2f5-e51b80009fec\" target=\"_top\" title=\"psysml:bb207011-903d-4a71-a2f5-e51b80009fec\" xlink:actuate=\"onRequest\" xlink:href=\"psysml:bb207011-903d-4a71-a2f5-e51b80009fec\" xlink:show=\"new\" xlink:title=\"psysml:bb207011-903d-4a71-a2f5-e51b80009fec\" xlink:type=\"simple\"><rect fill=\"#FEFECE\" filter=\"url(#fi7qwttg5j2c3)\" height=\"53.9375\" id=\"E3\" style=\"stroke: #A80036; stroke-width: 1.5;\" width=\"115\" x=\"194.5\" y=\"41\"/><text fill=\"#000000\" font-family=\"sans-serif\" font-size=\"12\" font-style=\"italic\" lengthAdjust=\"spacingAndGlyphs\" textLength=\"113\" x=\"195.5\" y=\"57.1387\">«(T,blue)item def»</text><text fill=\"#000000\" font-family=\"sans-serif\" font-size=\"12\" lengthAdjust=\"spacingAndGlyphs\" textLength=\"8\" x=\"248\" y=\"71.1074\">C</text><line style=\"stroke: #A80036; stroke-width: 1.5;\" x1=\"195.5\" x2=\"308.5\" y1=\"78.9375\" y2=\"78.9375\"/><line style=\"stroke: #A80036; stroke-width: 1.5;\" x1=\"195.5\" x2=\"308.5\" y1=\"86.9375\" y2=\"86.9375\"/></a><!--MD5=[ebbe1d658d1005bcc118a6aa81145e00]\n",
       "class E4--><a href=\"psysml:ff423fdb-a5ad-4383-b75e-3a1966f8baa4\" target=\"_top\" title=\"psysml:ff423fdb-a5ad-4383-b75e-3a1966f8baa4\" xlink:actuate=\"onRequest\" xlink:href=\"psysml:ff423fdb-a5ad-4383-b75e-3a1966f8baa4\" xlink:show=\"new\" xlink:title=\"psysml:ff423fdb-a5ad-4383-b75e-3a1966f8baa4\" xlink:type=\"simple\"><rect fill=\"#FEFECE\" filter=\"url(#fi7qwttg5j2c3)\" height=\"53.9375\" id=\"E4\" style=\"stroke: #A80036; stroke-width: 1.5;\" width=\"127\" x=\"32.5\" y=\"41\"/><text fill=\"#000000\" font-family=\"sans-serif\" font-size=\"12\" font-style=\"italic\" lengthAdjust=\"spacingAndGlyphs\" textLength=\"125\" x=\"33.5\" y=\"57.1387\">«(T,blue)action def»</text><text fill=\"#000000\" font-family=\"sans-serif\" font-size=\"12\" lengthAdjust=\"spacingAndGlyphs\" textLength=\"27\" x=\"82.5\" y=\"71.1074\">setX</text><line style=\"stroke: #A80036; stroke-width: 1.5;\" x1=\"33.5\" x2=\"158.5\" y1=\"78.9375\" y2=\"78.9375\"/><line style=\"stroke: #A80036; stroke-width: 1.5;\" x1=\"33.5\" x2=\"158.5\" y1=\"86.9375\" y2=\"86.9375\"/></a><!--MD5=[22c19069f32df7848e206015e41fdee9]\n",
       "@startuml\r\n",
       "skinparam ranksep 8\r\n",
       "skinparam rectangle {\r\n",
       " backgroundColor<<block>> LightGreen\r\n",
       "}\r\n",
       "skinparam wrapWidth 300\r\n",
       "hide circle\r\n",
       "\r\n",
       "package \"TextualRepresentationTest\" as E1  [[psysml:0fc68415-d7d0-4850-b93e-796cf2adc089 ]]  {\r\n",
       "def \"Real\" as E2  <<(T,blue)dataType>> [[psysml:3f2a97d7-c1a2-4f9b-b443-e0389101b303 ]] \r\n",
       "def \"C\" as E3  <<(T,blue)item def>> [[psysml:bb207011-903d-4a71-a2f5-e51b80009fec ]] \r\n",
       "def \"setX\" as E4  <<(T,blue)action def>> [[psysml:ff423fdb-a5ad-4383-b75e-3a1966f8baa4 ]] \r\n",
       "}\r\n",
       "@enduml\r\n",
       "\n",
       "PlantUML version 1.2020.13(Sat Jun 13 12:26:38 UTC 2020)\n",
       "(EPL source distribution)\n",
       "Java Runtime: OpenJDK Runtime Environment\n",
       "JVM: OpenJDK 64-Bit Server VM\n",
       "Default Encoding: UTF-8\n",
       "Language: en\n",
       "Country: null\n",
       "--></g></svg>"
      ]
     },
     "execution_count": 26,
     "metadata": {},
     "output_type": "execute_result"
    }
   ],
   "source": [
    "%viz --style=\"STDCOLOR\" --view=\"Interconnection\" \"TextualRepresentationTest\""
   ]
  },
  {
   "cell_type": "code",
   "execution_count": 27,
   "id": "overhead-visitor",
   "metadata": {
    "execution": {
     "iopub.execute_input": "2021-03-25T15:08:36.996870Z",
     "iopub.status.busy": "2021-03-25T15:08:36.996252Z",
     "iopub.status.idle": "2021-03-25T15:08:37.054980Z",
     "shell.execute_reply": "2021-03-25T15:08:37.055348Z"
    }
   },
   "outputs": [
    {
     "data": {
      "image/svg+xml": [
       "<?xml version=\"1.0\" encoding=\"UTF-8\" standalone=\"no\"?><svg xmlns=\"http://www.w3.org/2000/svg\" xmlns:xlink=\"http://www.w3.org/1999/xlink\" contentScriptType=\"application/ecmascript\" contentStyleType=\"text/css\" height=\"134px\" preserveAspectRatio=\"none\" style=\"width:158px;height:134px;\" version=\"1.1\" viewBox=\"0 0 158 134\" width=\"158px\" zoomAndPan=\"magnify\"><defs><filter height=\"300%\" id=\"fl5ga9y2hrk1\" width=\"300%\" x=\"-1\" y=\"-1\"><feGaussianBlur result=\"blurOut\" stdDeviation=\"2.0\"/><feColorMatrix in=\"blurOut\" result=\"blurOut2\" type=\"matrix\" values=\"0 0 0 0 0 0 0 0 0 0 0 0 0 0 0 0 0 0 .4 0\"/><feOffset dx=\"4.0\" dy=\"4.0\" in=\"blurOut2\" result=\"blurOut3\"/><feBlend in=\"SourceGraphic\" in2=\"blurOut3\" mode=\"normal\"/></filter></defs><g><!--MD5=[fbc87193dbaf4d95561dea2c320d4a47]\n",
       "cluster E1--><a href=\"psysml:ff423fdb-a5ad-4383-b75e-3a1966f8baa4\" target=\"_top\" title=\"psysml:ff423fdb-a5ad-4383-b75e-3a1966f8baa4\" xlink:actuate=\"onRequest\" xlink:href=\"psysml:ff423fdb-a5ad-4383-b75e-3a1966f8baa4\" xlink:show=\"new\" xlink:title=\"psysml:ff423fdb-a5ad-4383-b75e-3a1966f8baa4\" xlink:type=\"simple\"><rect fill=\"#FFFFFF\" filter=\"url(#fl5ga9y2hrk1)\" height=\"73\" id=\"E1\" style=\"stroke: #A80036; stroke-width: 1.5;\" width=\"132\" x=\"7\" y=\"42.0986\"/><rect fill=\"#FEFECE\" height=\"37.9375\" style=\"stroke: #A80036; stroke-width: 1.5;\" width=\"132\" x=\"7\" y=\"42.0986\"/><text fill=\"#000000\" font-family=\"sans-serif\" font-size=\"12\" font-style=\"italic\" lengthAdjust=\"spacingAndGlyphs\" textLength=\"77\" x=\"34.5\" y=\"58.2373\">«action def»</text><text fill=\"#000000\" font-family=\"sans-serif\" font-size=\"12\" lengthAdjust=\"spacingAndGlyphs\" textLength=\"27\" x=\"59.5\" y=\"72.2061\">setX</text></a><text fill=\"#000000\" font-family=\"sans-serif\" font-size=\"14\" lengthAdjust=\"spacingAndGlyphs\" textLength=\"8\" x=\"21\" y=\"20.7969\">c</text><rect fill=\"#A80036\" height=\"12\" style=\"stroke: #FEFECE; stroke-width: 1.5;\" width=\"12\" x=\"19\" y=\"36.0986\"/><text fill=\"#000000\" font-family=\"sans-serif\" font-size=\"14\" lengthAdjust=\"spacingAndGlyphs\" textLength=\"38\" x=\"53\" y=\"20.7969\">newX</text><rect fill=\"#A80036\" height=\"12\" style=\"stroke: #FEFECE; stroke-width: 1.5;\" width=\"12\" x=\"66\" y=\"36.0986\"/><!--MD5=[08146e56c73afe59f0ec6e6b4164eae9]\n",
       "@startuml\r\n",
       "skinparam ranksep 8\r\n",
       "skinparam wrapWidth 300\r\n",
       "hide circle\r\n",
       "\r\n",
       "rec def \"setX\" as E1  <<(T,blue)action def>> [[psysml:ff423fdb-a5ad-4383-b75e-3a1966f8baa4 ]] {\r\n",
       "portin \"c\" as E2  [[psysml:4c2c889d-aea7-4bfd-be6e-45844659a6a1 ]] \r\n",
       "portin \"newX\" as E3  [[psysml:471b2978-4f3d-4f5c-bcaa-50341599c3a3 ]] \r\n",
       "}\r\n",
       "\r\n",
       "@enduml\r\n",
       "\n",
       "PlantUML version 1.2020.13(Sat Jun 13 12:26:38 UTC 2020)\n",
       "(EPL source distribution)\n",
       "Java Runtime: OpenJDK Runtime Environment\n",
       "JVM: OpenJDK 64-Bit Server VM\n",
       "Default Encoding: UTF-8\n",
       "Language: en\n",
       "Country: null\n",
       "--></g></svg>"
      ]
     },
     "execution_count": 27,
     "metadata": {},
     "output_type": "execute_result"
    }
   ],
   "source": [
    "%viz --style=\"STDCOLOR\" --view=\"Action\" \"TextualRepresentationTest\""
   ]
  },
  {
   "cell_type": "code",
   "execution_count": 28,
   "id": "still-catch",
   "metadata": {
    "execution": {
     "iopub.execute_input": "2021-03-25T15:08:37.106536Z",
     "iopub.status.busy": "2021-03-25T15:08:37.106011Z",
     "iopub.status.idle": "2021-03-25T15:08:37.423445Z",
     "shell.execute_reply": "2021-03-25T15:08:37.422973Z"
    }
   },
   "outputs": [
    {
     "data": {
      "image/svg+xml": [
       "<?xml version=\"1.0\" encoding=\"UTF-8\" standalone=\"no\"?><svg xmlns=\"http://www.w3.org/2000/svg\" xmlns:xlink=\"http://www.w3.org/1999/xlink\" contentScriptType=\"application/ecmascript\" contentStyleType=\"text/css\" height=\"280px\" preserveAspectRatio=\"none\" style=\"width:290px;height:280px;\" version=\"1.1\" viewBox=\"0 0 290 280\" width=\"290px\" zoomAndPan=\"magnify\"><defs><filter height=\"300%\" id=\"fnpm3fq9adg6k\" width=\"300%\" x=\"-1\" y=\"-1\"><feGaussianBlur result=\"blurOut\" stdDeviation=\"2.0\"/><feColorMatrix in=\"blurOut\" result=\"blurOut2\" type=\"matrix\" values=\"0 0 0 0 0 0 0 0 0 0 0 0 0 0 0 0 0 0 .4 0\"/><feOffset dx=\"4.0\" dy=\"4.0\" in=\"blurOut2\" result=\"blurOut3\"/><feBlend in=\"SourceGraphic\" in2=\"blurOut3\" mode=\"normal\"/></filter></defs><g><!--MD5=[fbc87193dbaf4d95561dea2c320d4a47]\n",
       "cluster E1--><a href=\"psysml:0fc68415-d7d0-4850-b93e-796cf2adc089\" target=\"_top\" title=\"psysml:0fc68415-d7d0-4850-b93e-796cf2adc089\" xlink:actuate=\"onRequest\" xlink:href=\"psysml:0fc68415-d7d0-4850-b93e-796cf2adc089\" xlink:show=\"new\" xlink:title=\"psysml:0fc68415-d7d0-4850-b93e-796cf2adc089\" xlink:type=\"simple\"><polygon fill=\"#FFFFFF\" filter=\"url(#fnpm3fq9adg6k)\" points=\"16,6,236,6,243,28.2969,268,28.2969,268,268,16,268,16,6\" style=\"stroke: #000000; stroke-width: 1.5;\"/><line style=\"stroke: #000000; stroke-width: 1.5;\" x1=\"16\" x2=\"243\" y1=\"28.2969\" y2=\"28.2969\"/><text fill=\"#000000\" font-family=\"sans-serif\" font-size=\"14\" font-weight=\"bold\" lengthAdjust=\"spacingAndGlyphs\" textLength=\"214\" x=\"20\" y=\"20.9951\">TextualRepresentationTest</text></a><!--MD5=[b4997ac47864f28c2f74865a473b2911]\n",
       "class E2--><a href=\"psysml:3f2a97d7-c1a2-4f9b-b443-e0389101b303\" target=\"_top\" title=\"psysml:3f2a97d7-c1a2-4f9b-b443-e0389101b303\" xlink:actuate=\"onRequest\" xlink:href=\"psysml:3f2a97d7-c1a2-4f9b-b443-e0389101b303\" xlink:show=\"new\" xlink:title=\"psysml:3f2a97d7-c1a2-4f9b-b443-e0389101b303\" xlink:type=\"simple\"><rect fill=\"#FEFECE\" filter=\"url(#fnpm3fq9adg6k)\" height=\"45.9375\" id=\"E2\" style=\"stroke: #A80036; stroke-width: 1.5;\" width=\"74\" x=\"32\" y=\"185\"/><text fill=\"#000000\" font-family=\"sans-serif\" font-size=\"12\" font-style=\"italic\" lengthAdjust=\"spacingAndGlyphs\" textLength=\"72\" x=\"33\" y=\"201.1387\">«dataType»</text><text fill=\"#000000\" font-family=\"sans-serif\" font-size=\"12\" lengthAdjust=\"spacingAndGlyphs\" textLength=\"27\" x=\"55.5\" y=\"215.1074\">Real</text><line style=\"stroke: #A80036; stroke-width: 1.5;\" x1=\"33\" x2=\"105\" y1=\"222.9375\" y2=\"222.9375\"/></a><!--MD5=[09b614a08d8cba4a07c9adeb5e0fee81]\n",
       "class E3--><a href=\"psysml:bb207011-903d-4a71-a2f5-e51b80009fec\" target=\"_top\" title=\"psysml:bb207011-903d-4a71-a2f5-e51b80009fec\" xlink:actuate=\"onRequest\" xlink:href=\"psysml:bb207011-903d-4a71-a2f5-e51b80009fec\" xlink:show=\"new\" xlink:title=\"psysml:bb207011-903d-4a71-a2f5-e51b80009fec\" xlink:type=\"simple\"><rect fill=\"#FEFECE\" filter=\"url(#fnpm3fq9adg6k)\" height=\"88.3516\" id=\"E3\" style=\"stroke: #A80036; stroke-width: 1.5;\" width=\"111\" x=\"141.5\" y=\"164\"/><text fill=\"#000000\" font-family=\"sans-serif\" font-size=\"12\" font-style=\"italic\" lengthAdjust=\"spacingAndGlyphs\" textLength=\"65\" x=\"164.5\" y=\"180.1387\">«item def»</text><text fill=\"#000000\" font-family=\"sans-serif\" font-size=\"12\" lengthAdjust=\"spacingAndGlyphs\" textLength=\"8\" x=\"193\" y=\"194.1074\">C</text><line style=\"stroke: #A80036; stroke-width: 1.5;\" x1=\"142.5\" x2=\"251.5\" y1=\"201.9375\" y2=\"201.9375\"/><text fill=\"#000000\" font-family=\"sans-serif\" font-size=\"11\" lengthAdjust=\"spacingAndGlyphs\" textLength=\"38\" x=\"147.5\" y=\"216.1479\">x: Real</text><text fill=\"#000000\" font-family=\"sans-serif\" font-size=\"11\" lengthAdjust=\"spacingAndGlyphs\" textLength=\"69\" x=\"147.5\" y=\"245.7573\">x_constraint</text><line style=\"stroke: #A80036; stroke-width: 1.0;\" x1=\"142.5\" x2=\"145.5\" y1=\"229.1445\" y2=\"229.1445\"/><text fill=\"#000000\" font-family=\"sans-serif\" font-size=\"11\" lengthAdjust=\"spacingAndGlyphs\" textLength=\"103\" x=\"145.5\" y=\"232.4526\">assertConstraints</text><line style=\"stroke: #A80036; stroke-width: 1.0;\" x1=\"248.5\" x2=\"251.5\" y1=\"229.1445\" y2=\"229.1445\"/></a><!--MD5=[270fce915f116d4de14055a7c1d9a0f3]\n",
       "class E5--><a href=\"psysml:ff423fdb-a5ad-4383-b75e-3a1966f8baa4\" target=\"_top\" title=\"psysml:ff423fdb-a5ad-4383-b75e-3a1966f8baa4\" xlink:actuate=\"onRequest\" xlink:href=\"psysml:ff423fdb-a5ad-4383-b75e-3a1966f8baa4\" xlink:show=\"new\" xlink:title=\"psysml:ff423fdb-a5ad-4383-b75e-3a1966f8baa4\" xlink:type=\"simple\"><rect fill=\"#FEFECE\" filter=\"url(#fnpm3fq9adg6k)\" height=\"45.9375\" id=\"E5\" style=\"stroke: #A80036; stroke-width: 1.5;\" width=\"79\" x=\"67.5\" y=\"41\"/><text fill=\"#000000\" font-family=\"sans-serif\" font-size=\"12\" font-style=\"italic\" lengthAdjust=\"spacingAndGlyphs\" textLength=\"77\" x=\"68.5\" y=\"57.1387\">«action def»</text><text fill=\"#000000\" font-family=\"sans-serif\" font-size=\"12\" lengthAdjust=\"spacingAndGlyphs\" textLength=\"27\" x=\"93.5\" y=\"71.1074\">setX</text><line style=\"stroke: #A80036; stroke-width: 1.5;\" x1=\"68.5\" x2=\"145.5\" y1=\"78.9375\" y2=\"78.9375\"/></a><!--MD5=[6f107eb264eda4b26325f39a5516f1f3]\n",
       "reverse link E5 to E3--><a href=\"psysml:4c2c889d-aea7-4bfd-be6e-45844659a6a1\" target=\"_top\" title=\"psysml:4c2c889d-aea7-4bfd-be6e-45844659a6a1\" xlink:actuate=\"onRequest\" xlink:href=\"psysml:4c2c889d-aea7-4bfd-be6e-45844659a6a1\" xlink:show=\"new\" xlink:title=\"psysml:4c2c889d-aea7-4bfd-be6e-45844659a6a1\" xlink:type=\"simple\"><path d=\"M128.1,98.29 C140.49,117.85 156.29,142.77 169.63,163.82 \" fill=\"none\" id=\"E5&lt;-E3\" style=\"stroke: #A80036; stroke-width: 1.0;\"/><polygon fill=\"#FFFFFF\" points=\"121.06,87.19,120.8908,94.3991,127.4803,97.328,127.6495,90.1189,121.06,87.19\" style=\"stroke: #A80036; stroke-width: 1.0;\"/><text fill=\"#000000\" font-family=\"sans-serif\" font-size=\"13\" lengthAdjust=\"spacingAndGlyphs\" textLength=\"7\" x=\"150\" y=\"130.0669\">c</text></a><!--MD5=[f51c6d1f1856fe338ac0413483fb1ccf]\n",
       "reverse link E5 to E2--><a href=\"psysml:471b2978-4f3d-4f5c-bcaa-50341599c3a3\" target=\"_top\" title=\"psysml:471b2978-4f3d-4f5c-bcaa-50341599c3a3\" xlink:actuate=\"onRequest\" xlink:href=\"psysml:471b2978-4f3d-4f5c-bcaa-50341599c3a3\" xlink:show=\"new\" xlink:title=\"psysml:471b2978-4f3d-4f5c-bcaa-50341599c3a3\" xlink:type=\"simple\"><path d=\"M97.7,99.76 C90.58,126.35 80.99,162.21 74.9,184.97 \" fill=\"none\" id=\"E5&lt;-E2\" style=\"stroke: #A80036; stroke-width: 1.0;\"/><polygon fill=\"#FFFFFF\" points=\"101.06,87.19,95.646,91.9533,97.9607,98.7828,103.3746,94.0195,101.06,87.19\" style=\"stroke: #A80036; stroke-width: 1.0;\"/><text fill=\"#000000\" font-family=\"sans-serif\" font-size=\"13\" lengthAdjust=\"spacingAndGlyphs\" textLength=\"33\" x=\"93\" y=\"130.0669\">newX</text></a><!--MD5=[2fdcfa7607e808b5be925d2bb3fe09e0]\n",
       "@startuml\r\n",
       "skinparam wrapWidth 300\r\n",
       "hide circle\r\n",
       "\r\n",
       "package \"TextualRepresentationTest\" as E1  [[psysml:0fc68415-d7d0-4850-b93e-796cf2adc089 ]]  {\r\n",
       "comp def \"Real\" as E2  <<(T,blue)dataType>> [[psysml:3f2a97d7-c1a2-4f9b-b443-e0389101b303 ]] {\r\n",
       "}\r\n",
       "comp def \"C\" as E3  <<(T,blue)item def>> [[psysml:bb207011-903d-4a71-a2f5-e51b80009fec ]] {\r\n",
       "x: Real\r\n",
       "- - assertConstraints - -\r\n",
       "x_constraint\r\n",
       "}\r\n",
       "comp def \"setX\" as E5  <<(T,blue)action def>> [[psysml:ff423fdb-a5ad-4383-b75e-3a1966f8baa4 ]] {\r\n",
       "}\r\n",
       "E5 o- - E3 [[psysml:4c2c889d-aea7-4bfd-be6e-45844659a6a1 ]] : c\r\n",
       "E5 o- - E2 [[psysml:471b2978-4f3d-4f5c-bcaa-50341599c3a3 ]] : newX\r\n",
       "}\r\n",
       "@enduml\r\n",
       "\n",
       "PlantUML version 1.2020.13(Sat Jun 13 12:26:38 UTC 2020)\n",
       "(EPL source distribution)\n",
       "Java Runtime: OpenJDK Runtime Environment\n",
       "JVM: OpenJDK 64-Bit Server VM\n",
       "Default Encoding: UTF-8\n",
       "Language: en\n",
       "Country: null\n",
       "--></g></svg>"
      ]
     },
     "execution_count": 28,
     "metadata": {},
     "output_type": "execute_result"
    }
   ],
   "source": [
    "%viz --style=\"STDCOLOR\" --view=\"Sequence\" \"TextualRepresentationTest\""
   ]
  },
  {
   "cell_type": "code",
   "execution_count": 29,
   "id": "verified-craft",
   "metadata": {
    "execution": {
     "iopub.execute_input": "2021-03-25T15:08:37.477852Z",
     "iopub.status.busy": "2021-03-25T15:08:37.476500Z",
     "iopub.status.idle": "2021-03-25T15:08:37.821724Z",
     "shell.execute_reply": "2021-03-25T15:08:37.822104Z"
    }
   },
   "outputs": [
    {
     "data": {
      "image/svg+xml": [
       "<?xml version=\"1.0\" encoding=\"UTF-8\" standalone=\"no\"?><svg xmlns=\"http://www.w3.org/2000/svg\" xmlns:xlink=\"http://www.w3.org/1999/xlink\" contentScriptType=\"application/ecmascript\" contentStyleType=\"text/css\" height=\"268px\" preserveAspectRatio=\"none\" style=\"width:432px;height:268px;\" version=\"1.1\" viewBox=\"0 0 432 268\" width=\"432px\" zoomAndPan=\"magnify\"><defs><filter height=\"300%\" id=\"f1lc61wfpbjkjk\" width=\"300%\" x=\"-1\" y=\"-1\"><feGaussianBlur result=\"blurOut\" stdDeviation=\"2.0\"/><feColorMatrix in=\"blurOut\" result=\"blurOut2\" type=\"matrix\" values=\"0 0 0 0 0 0 0 0 0 0 0 0 0 0 0 0 0 0 .4 0\"/><feOffset dx=\"4.0\" dy=\"4.0\" in=\"blurOut2\" result=\"blurOut3\"/><feBlend in=\"SourceGraphic\" in2=\"blurOut3\" mode=\"normal\"/></filter></defs><g><!--MD5=[fbc87193dbaf4d95561dea2c320d4a47]\n",
       "cluster E1--><a href=\"psysml:0fc68415-d7d0-4850-b93e-796cf2adc089\" target=\"_top\" title=\"psysml:0fc68415-d7d0-4850-b93e-796cf2adc089\" xlink:actuate=\"onRequest\" xlink:href=\"psysml:0fc68415-d7d0-4850-b93e-796cf2adc089\" xlink:show=\"new\" xlink:title=\"psysml:0fc68415-d7d0-4850-b93e-796cf2adc089\" xlink:type=\"simple\"><polygon fill=\"#FFFFFF\" filter=\"url(#f1lc61wfpbjkjk)\" points=\"16,6,236,6,243,28.2969,410,28.2969,410,256,16,256,16,6\" style=\"stroke: #000000; stroke-width: 1.5;\"/><line style=\"stroke: #000000; stroke-width: 1.5;\" x1=\"16\" x2=\"243\" y1=\"28.2969\" y2=\"28.2969\"/><text fill=\"#000000\" font-family=\"sans-serif\" font-size=\"14\" font-weight=\"bold\" lengthAdjust=\"spacingAndGlyphs\" textLength=\"214\" x=\"20\" y=\"20.9951\">TextualRepresentationTest</text></a><!--MD5=[de5ec2e2e8f62f467e546659f5068c88]\n",
       "cluster E5--><a href=\"psysml:ff423fdb-a5ad-4383-b75e-3a1966f8baa4\" target=\"_top\" title=\"psysml:ff423fdb-a5ad-4383-b75e-3a1966f8baa4\" xlink:actuate=\"onRequest\" xlink:href=\"psysml:ff423fdb-a5ad-4383-b75e-3a1966f8baa4\" xlink:show=\"new\" xlink:title=\"psysml:ff423fdb-a5ad-4383-b75e-3a1966f8baa4\" xlink:type=\"simple\"><rect fill=\"#FFFFFF\" filter=\"url(#f1lc61wfpbjkjk)\" height=\"155\" id=\"E5\" style=\"stroke: #A80036; stroke-width: 1.5;\" width=\"96\" x=\"268.5\" y=\"85\"/><rect fill=\"#FEFECE\" height=\"37.9375\" style=\"stroke: #A80036; stroke-width: 1.5;\" width=\"96\" x=\"268.5\" y=\"85\"/><text fill=\"#000000\" font-family=\"sans-serif\" font-size=\"12\" font-style=\"italic\" lengthAdjust=\"spacingAndGlyphs\" textLength=\"77\" x=\"278\" y=\"101.1387\">«action def»</text><text fill=\"#000000\" font-family=\"sans-serif\" font-size=\"12\" lengthAdjust=\"spacingAndGlyphs\" textLength=\"27\" x=\"303\" y=\"115.1074\">setX</text></a><!--MD5=[b4997ac47864f28c2f74865a473b2911]\n",
       "class E2--><a href=\"psysml:3f2a97d7-c1a2-4f9b-b443-e0389101b303\" target=\"_top\" title=\"psysml:3f2a97d7-c1a2-4f9b-b443-e0389101b303\" xlink:actuate=\"onRequest\" xlink:href=\"psysml:3f2a97d7-c1a2-4f9b-b443-e0389101b303\" xlink:show=\"new\" xlink:title=\"psysml:3f2a97d7-c1a2-4f9b-b443-e0389101b303\" xlink:type=\"simple\"><rect fill=\"#FEFECE\" filter=\"url(#f1lc61wfpbjkjk)\" height=\"45.9375\" id=\"E2\" style=\"stroke: #A80036; stroke-width: 1.5;\" width=\"74\" x=\"178\" y=\"62\"/><text fill=\"#000000\" font-family=\"sans-serif\" font-size=\"12\" font-style=\"italic\" lengthAdjust=\"spacingAndGlyphs\" textLength=\"72\" x=\"179\" y=\"78.1387\">«dataType»</text><text fill=\"#000000\" font-family=\"sans-serif\" font-size=\"12\" lengthAdjust=\"spacingAndGlyphs\" textLength=\"27\" x=\"201.5\" y=\"92.1074\">Real</text><line style=\"stroke: #A80036; stroke-width: 1.5;\" x1=\"179\" x2=\"251\" y1=\"99.9375\" y2=\"99.9375\"/></a><!--MD5=[09b614a08d8cba4a07c9adeb5e0fee81]\n",
       "class E3--><a href=\"psysml:bb207011-903d-4a71-a2f5-e51b80009fec\" target=\"_top\" title=\"psysml:bb207011-903d-4a71-a2f5-e51b80009fec\" xlink:actuate=\"onRequest\" xlink:href=\"psysml:bb207011-903d-4a71-a2f5-e51b80009fec\" xlink:show=\"new\" xlink:title=\"psysml:bb207011-903d-4a71-a2f5-e51b80009fec\" xlink:type=\"simple\"><rect fill=\"#FEFECE\" filter=\"url(#f1lc61wfpbjkjk)\" height=\"88.3516\" id=\"E3\" style=\"stroke: #A80036; stroke-width: 1.5;\" width=\"111\" x=\"31.5\" y=\"41\"/><text fill=\"#000000\" font-family=\"sans-serif\" font-size=\"12\" font-style=\"italic\" lengthAdjust=\"spacingAndGlyphs\" textLength=\"65\" x=\"54.5\" y=\"57.1387\">«item def»</text><text fill=\"#000000\" font-family=\"sans-serif\" font-size=\"12\" lengthAdjust=\"spacingAndGlyphs\" textLength=\"8\" x=\"83\" y=\"71.1074\">C</text><line style=\"stroke: #A80036; stroke-width: 1.5;\" x1=\"32.5\" x2=\"141.5\" y1=\"78.9375\" y2=\"78.9375\"/><text fill=\"#000000\" font-family=\"sans-serif\" font-size=\"11\" lengthAdjust=\"spacingAndGlyphs\" textLength=\"38\" x=\"37.5\" y=\"93.1479\">x: Real</text><text fill=\"#000000\" font-family=\"sans-serif\" font-size=\"11\" lengthAdjust=\"spacingAndGlyphs\" textLength=\"69\" x=\"37.5\" y=\"122.7573\">x_constraint</text><line style=\"stroke: #A80036; stroke-width: 1.0;\" x1=\"32.5\" x2=\"35.5\" y1=\"106.1445\" y2=\"106.1445\"/><text fill=\"#000000\" font-family=\"sans-serif\" font-size=\"11\" lengthAdjust=\"spacingAndGlyphs\" textLength=\"103\" x=\"35.5\" y=\"109.4526\">assertConstraints</text><line style=\"stroke: #A80036; stroke-width: 1.0;\" x1=\"138.5\" x2=\"141.5\" y1=\"106.1445\" y2=\"106.1445\"/></a><text fill=\"#000000\" font-family=\"sans-serif\" font-size=\"14\" lengthAdjust=\"spacingAndGlyphs\" textLength=\"8\" x=\"289\" y=\"63.6982\">c</text><rect fill=\"#A80036\" height=\"12\" style=\"stroke: #FEFECE; stroke-width: 1.5;\" width=\"12\" x=\"287\" y=\"79\"/><text fill=\"#000000\" font-family=\"sans-serif\" font-size=\"14\" lengthAdjust=\"spacingAndGlyphs\" textLength=\"38\" x=\"321\" y=\"63.6982\">newX</text><rect fill=\"#A80036\" height=\"12\" style=\"stroke: #FEFECE; stroke-width: 1.5;\" width=\"12\" x=\"334\" y=\"79\"/><!--MD5=[4f601c518b6f6b201ae787194e2a45d5]\n",
       "@startuml\r\n",
       "skinparam wrapWidth 300\r\n",
       "hide circle\r\n",
       "\r\n",
       "package \"TextualRepresentationTest\" as E1  [[psysml:0fc68415-d7d0-4850-b93e-796cf2adc089 ]]  {\r\n",
       "comp def \"Real\" as E2  <<(T,blue)dataType>> [[psysml:3f2a97d7-c1a2-4f9b-b443-e0389101b303 ]] {\r\n",
       "}\r\n",
       "comp def \"C\" as E3  <<(T,blue)item def>> [[psysml:bb207011-903d-4a71-a2f5-e51b80009fec ]] {\r\n",
       "x: Real\r\n",
       "- - assertConstraints - -\r\n",
       "x_constraint\r\n",
       "}\r\n",
       "rec def \"setX\" as E5  <<(T,blue)action def>> [[psysml:ff423fdb-a5ad-4383-b75e-3a1966f8baa4 ]] {\r\n",
       "portin \"c\" as E6  [[psysml:4c2c889d-aea7-4bfd-be6e-45844659a6a1 ]] \r\n",
       "portin \"newX\" as E7  [[psysml:471b2978-4f3d-4f5c-bcaa-50341599c3a3 ]] \r\n",
       "}\r\n",
       "\r\n",
       "}\r\n",
       "@enduml\r\n",
       "\n",
       "PlantUML version 1.2020.13(Sat Jun 13 12:26:38 UTC 2020)\n",
       "(EPL source distribution)\n",
       "Java Runtime: OpenJDK Runtime Environment\n",
       "JVM: OpenJDK 64-Bit Server VM\n",
       "Default Encoding: UTF-8\n",
       "Language: en\n",
       "Country: null\n",
       "--></g></svg>"
      ]
     },
     "execution_count": 29,
     "metadata": {},
     "output_type": "execute_result"
    }
   ],
   "source": [
    "%viz --style=\"STDCOLOR\" --view=\"MIXED\" \"TextualRepresentationTest\""
   ]
  },
  {
   "cell_type": "code",
   "execution_count": 30,
   "id": "charged-elizabeth",
   "metadata": {
    "execution": {
     "iopub.execute_input": "2021-03-25T15:08:37.872200Z",
     "iopub.status.busy": "2021-03-25T15:08:37.871788Z",
     "iopub.status.idle": "2021-03-25T15:08:38.189057Z",
     "shell.execute_reply": "2021-03-25T15:08:38.187287Z"
    }
   },
   "outputs": [
    {
     "data": {
      "image/svg+xml": [
       "<?xml version=\"1.0\" encoding=\"UTF-8\" standalone=\"no\"?><svg xmlns=\"http://www.w3.org/2000/svg\" xmlns:xlink=\"http://www.w3.org/1999/xlink\" contentScriptType=\"application/ecmascript\" contentStyleType=\"text/css\" height=\"262px\" preserveAspectRatio=\"none\" style=\"width:458px;height:262px;\" version=\"1.1\" viewBox=\"0 0 458 262\" width=\"458px\" zoomAndPan=\"magnify\"><defs><filter height=\"300%\" id=\"f1cmdagr6zxbc\" width=\"300%\" x=\"-1\" y=\"-1\"><feGaussianBlur result=\"blurOut\" stdDeviation=\"2.0\"/><feColorMatrix in=\"blurOut\" result=\"blurOut2\" type=\"matrix\" values=\"0 0 0 0 0 0 0 0 0 0 0 0 0 0 0 0 0 0 .4 0\"/><feOffset dx=\"4.0\" dy=\"4.0\" in=\"blurOut2\" result=\"blurOut3\"/><feBlend in=\"SourceGraphic\" in2=\"blurOut3\" mode=\"normal\"/></filter></defs><g><!--MD5=[fbc87193dbaf4d95561dea2c320d4a47]\n",
       "cluster E1--><a href=\"psysml:0fc68415-d7d0-4850-b93e-796cf2adc089\" target=\"_top\" title=\"psysml:0fc68415-d7d0-4850-b93e-796cf2adc089\" xlink:actuate=\"onRequest\" xlink:href=\"psysml:0fc68415-d7d0-4850-b93e-796cf2adc089\" xlink:show=\"new\" xlink:title=\"psysml:0fc68415-d7d0-4850-b93e-796cf2adc089\" xlink:type=\"simple\"><polygon fill=\"#FFFFFF\" filter=\"url(#f1cmdagr6zxbc)\" points=\"16,6,236,6,243,28.2969,436,28.2969,436,250,16,250,16,6\" style=\"stroke: #000000; stroke-width: 1.5;\"/><line style=\"stroke: #000000; stroke-width: 1.5;\" x1=\"16\" x2=\"243\" y1=\"28.2969\" y2=\"28.2969\"/><text fill=\"#000000\" font-family=\"sans-serif\" font-size=\"14\" font-weight=\"bold\" lengthAdjust=\"spacingAndGlyphs\" textLength=\"214\" x=\"20\" y=\"20.9951\">TextualRepresentationTest</text></a><!--MD5=[de5ec2e2e8f62f467e546659f5068c88]\n",
       "cluster E5--><a href=\"psysml:ff423fdb-a5ad-4383-b75e-3a1966f8baa4\" target=\"_top\" title=\"psysml:ff423fdb-a5ad-4383-b75e-3a1966f8baa4\" xlink:actuate=\"onRequest\" xlink:href=\"psysml:ff423fdb-a5ad-4383-b75e-3a1966f8baa4\" xlink:show=\"new\" xlink:title=\"psysml:ff423fdb-a5ad-4383-b75e-3a1966f8baa4\" xlink:type=\"simple\"><rect fill=\"#FFFFFF\" filter=\"url(#f1cmdagr6zxbc)\" height=\"152\" id=\"E5\" style=\"stroke: #A80036; stroke-width: 1.5;\" width=\"96\" x=\"294.5\" y=\"82\"/><rect fill=\"#FEFECE\" height=\"37.9375\" style=\"stroke: #A80036; stroke-width: 1.5;\" width=\"96\" x=\"294.5\" y=\"82\"/><text fill=\"#000000\" font-family=\"sans-serif\" font-size=\"12\" font-style=\"italic\" lengthAdjust=\"spacingAndGlyphs\" textLength=\"77\" x=\"304\" y=\"98.1387\">«action def»</text><text fill=\"#000000\" font-family=\"sans-serif\" font-size=\"12\" lengthAdjust=\"spacingAndGlyphs\" textLength=\"27\" x=\"329\" y=\"112.1074\">setX</text></a><!--MD5=[b4997ac47864f28c2f74865a473b2911]\n",
       "class E2--><a href=\"psysml:3f2a97d7-c1a2-4f9b-b443-e0389101b303\" target=\"_top\" title=\"psysml:3f2a97d7-c1a2-4f9b-b443-e0389101b303\" xlink:actuate=\"onRequest\" xlink:href=\"psysml:3f2a97d7-c1a2-4f9b-b443-e0389101b303\" xlink:show=\"new\" xlink:title=\"psysml:3f2a97d7-c1a2-4f9b-b443-e0389101b303\" xlink:type=\"simple\"><rect fill=\"#FEFECE\" filter=\"url(#f1cmdagr6zxbc)\" height=\"45.9375\" id=\"E2\" style=\"stroke: #A80036; stroke-width: 1.5;\" width=\"100\" x=\"178\" y=\"59\"/><ellipse cx=\"193\" cy=\"77.9688\" fill=\"#0000FF\" rx=\"11\" ry=\"11\" style=\"stroke: #A80036; stroke-width: 1.0;\"/><path d=\"M193.8438,84.7188 L191.3906,84.7188 L191.3906,74.4688 L188.25,74.4688 L188.25,72.3281 L196.9844,72.3281 L196.9844,74.4688 L193.8438,74.4688 L193.8438,84.7188 Z \"/><text fill=\"#000000\" font-family=\"sans-serif\" font-size=\"12\" font-style=\"italic\" lengthAdjust=\"spacingAndGlyphs\" textLength=\"72\" x=\"205\" y=\"75.1387\">«dataType»</text><text fill=\"#000000\" font-family=\"sans-serif\" font-size=\"12\" lengthAdjust=\"spacingAndGlyphs\" textLength=\"27\" x=\"227.5\" y=\"89.1074\">Real</text><line style=\"stroke: #A80036; stroke-width: 1.5;\" x1=\"179\" x2=\"277\" y1=\"96.9375\" y2=\"96.9375\"/></a><!--MD5=[09b614a08d8cba4a07c9adeb5e0fee81]\n",
       "class E3--><a href=\"psysml:bb207011-903d-4a71-a2f5-e51b80009fec\" target=\"_top\" title=\"psysml:bb207011-903d-4a71-a2f5-e51b80009fec\" xlink:actuate=\"onRequest\" xlink:href=\"psysml:bb207011-903d-4a71-a2f5-e51b80009fec\" xlink:show=\"new\" xlink:title=\"psysml:bb207011-903d-4a71-a2f5-e51b80009fec\" xlink:type=\"simple\"><rect fill=\"#FEFECE\" filter=\"url(#f1cmdagr6zxbc)\" height=\"82.4141\" id=\"E3\" style=\"stroke: #A80036; stroke-width: 1.5;\" width=\"111\" x=\"31.5\" y=\"41\"/><ellipse cx=\"78.75\" cy=\"57\" fill=\"#008000\" rx=\"11\" ry=\"11\" style=\"stroke: #A80036; stroke-width: 1.0;\"/><path d=\"M77.6563,57.375 L77.6563,61.0469 L79.2813,61.0469 Q80.4531,61.0469 80.9219,60.6563 Q81.3906,60.25 81.3906,59.25 Q81.3906,58.25 80.8906,57.8125 Q80.4063,57.375 79.2813,57.375 L77.6563,57.375 Z M77.6563,52.5469 L77.6563,55.4219 L79.2813,55.4219 Q80.2031,55.4219 80.5938,55.0938 Q81,54.75 81,54 Q81,53.2344 80.5938,52.8906 Q80.1875,52.5469 79.2813,52.5469 L77.6563,52.5469 Z M75.2813,50.5938 L79.2813,50.5938 Q81.3438,50.5938 82.3906,51.375 Q83.4375,52.1563 83.4375,53.7188 Q83.4375,54.9219 82.8125,55.5938 Q82.2031,56.2656 81.0156,56.375 Q82.4375,56.5156 83.1563,57.3281 Q83.875,58.1406 83.875,59.5938 Q83.875,61.3906 82.7969,62.2031 Q81.7188,63 79.2813,63 L75.2813,63 L75.2813,50.5938 Z \"/><text fill=\"#000000\" font-family=\"sans-serif\" font-size=\"12\" lengthAdjust=\"spacingAndGlyphs\" textLength=\"8\" x=\"99.25\" y=\"61.1543\">C</text><line style=\"stroke: #A80036; stroke-width: 1.5;\" x1=\"32.5\" x2=\"141.5\" y1=\"73\" y2=\"73\"/><text fill=\"#000000\" font-family=\"sans-serif\" font-size=\"11\" lengthAdjust=\"spacingAndGlyphs\" textLength=\"38\" x=\"37.5\" y=\"87.2104\">x: Real</text><text fill=\"#000000\" font-family=\"sans-serif\" font-size=\"11\" lengthAdjust=\"spacingAndGlyphs\" textLength=\"69\" x=\"37.5\" y=\"116.8198\">x_constraint</text><line style=\"stroke: #A80036; stroke-width: 1.0;\" x1=\"32.5\" x2=\"35.5\" y1=\"100.207\" y2=\"100.207\"/><text fill=\"#000000\" font-family=\"sans-serif\" font-size=\"11\" lengthAdjust=\"spacingAndGlyphs\" textLength=\"103\" x=\"35.5\" y=\"103.5151\">assertConstraints</text><line style=\"stroke: #A80036; stroke-width: 1.0;\" x1=\"138.5\" x2=\"141.5\" y1=\"100.207\" y2=\"100.207\"/></a><text fill=\"#000000\" font-family=\"sans-serif\" font-size=\"14\" lengthAdjust=\"spacingAndGlyphs\" textLength=\"8\" x=\"315\" y=\"60.6982\">c</text><rect fill=\"#A80036\" height=\"12\" style=\"stroke: #FEFECE; stroke-width: 1.5;\" width=\"12\" x=\"313\" y=\"76\"/><text fill=\"#000000\" font-family=\"sans-serif\" font-size=\"14\" lengthAdjust=\"spacingAndGlyphs\" textLength=\"38\" x=\"347\" y=\"60.6982\">newX</text><rect fill=\"#A80036\" height=\"12\" style=\"stroke: #FEFECE; stroke-width: 1.5;\" width=\"12\" x=\"360\" y=\"76\"/><!--MD5=[7b0b3fa95c458e5e41acef58457159da]\n",
       "@startuml\r\n",
       " \r\n",
       "package \"TextualRepresentationTest\" as E1  [[psysml:0fc68415-d7d0-4850-b93e-796cf2adc089 ]]  {\r\n",
       "comp def \"Real\" as E2  <<(T,blue)dataType>> [[psysml:3f2a97d7-c1a2-4f9b-b443-e0389101b303 ]] {\r\n",
       "}\r\n",
       "comp def \"C\" as E3  << (B,green) >> [[psysml:bb207011-903d-4a71-a2f5-e51b80009fec ]] {\r\n",
       "x: Real\r\n",
       "- - assertConstraints - -\r\n",
       "x_constraint\r\n",
       "}\r\n",
       "rec def \"setX\" as E5  <<(D,brown)action def>> [[psysml:ff423fdb-a5ad-4383-b75e-3a1966f8baa4 ]] {\r\n",
       "portin \"c\" as E6  [[psysml:4c2c889d-aea7-4bfd-be6e-45844659a6a1 ]] \r\n",
       "portin \"newX\" as E7  [[psysml:471b2978-4f3d-4f5c-bcaa-50341599c3a3 ]] \r\n",
       "}\r\n",
       "\r\n",
       "}\r\n",
       "@enduml\r\n",
       "\n",
       "PlantUML version 1.2020.13(Sat Jun 13 12:26:38 UTC 2020)\n",
       "(EPL source distribution)\n",
       "Java Runtime: OpenJDK Runtime Environment\n",
       "JVM: OpenJDK 64-Bit Server VM\n",
       "Default Encoding: UTF-8\n",
       "Language: en\n",
       "Country: null\n",
       "--></g></svg>"
      ]
     },
     "execution_count": 30,
     "metadata": {},
     "output_type": "execute_result"
    }
   ],
   "source": [
    "%viz --style=\"PLANTUML\" --view=\"Default\" \"TextualRepresentationTest\""
   ]
  },
  {
   "cell_type": "code",
   "execution_count": 31,
   "id": "ahead-batman",
   "metadata": {
    "execution": {
     "iopub.execute_input": "2021-03-25T15:08:38.238644Z",
     "iopub.status.busy": "2021-03-25T15:08:38.238171Z",
     "iopub.status.idle": "2021-03-25T15:08:38.545654Z",
     "shell.execute_reply": "2021-03-25T15:08:38.546134Z"
    }
   },
   "outputs": [
    {
     "data": {
      "image/svg+xml": [
       "<?xml version=\"1.0\" encoding=\"UTF-8\" standalone=\"no\"?><svg xmlns=\"http://www.w3.org/2000/svg\" xmlns:xlink=\"http://www.w3.org/1999/xlink\" contentScriptType=\"application/ecmascript\" contentStyleType=\"text/css\" height=\"274px\" preserveAspectRatio=\"none\" style=\"width:316px;height:274px;\" version=\"1.1\" viewBox=\"0 0 316 274\" width=\"316px\" zoomAndPan=\"magnify\"><defs><filter height=\"300%\" id=\"f1hzja5hr6rwei\" width=\"300%\" x=\"-1\" y=\"-1\"><feGaussianBlur result=\"blurOut\" stdDeviation=\"2.0\"/><feColorMatrix in=\"blurOut\" result=\"blurOut2\" type=\"matrix\" values=\"0 0 0 0 0 0 0 0 0 0 0 0 0 0 0 0 0 0 .4 0\"/><feOffset dx=\"4.0\" dy=\"4.0\" in=\"blurOut2\" result=\"blurOut3\"/><feBlend in=\"SourceGraphic\" in2=\"blurOut3\" mode=\"normal\"/></filter></defs><g><!--MD5=[fbc87193dbaf4d95561dea2c320d4a47]\n",
       "cluster E1--><a href=\"psysml:0fc68415-d7d0-4850-b93e-796cf2adc089\" target=\"_top\" title=\"psysml:0fc68415-d7d0-4850-b93e-796cf2adc089\" xlink:actuate=\"onRequest\" xlink:href=\"psysml:0fc68415-d7d0-4850-b93e-796cf2adc089\" xlink:show=\"new\" xlink:title=\"psysml:0fc68415-d7d0-4850-b93e-796cf2adc089\" xlink:type=\"simple\"><polygon fill=\"#FFFFFF\" filter=\"url(#f1hzja5hr6rwei)\" points=\"16,6,236,6,243,28.2969,294,28.2969,294,262,16,262,16,6\" style=\"stroke: #000000; stroke-width: 1.5;\"/><line style=\"stroke: #000000; stroke-width: 1.5;\" x1=\"16\" x2=\"243\" y1=\"28.2969\" y2=\"28.2969\"/><text fill=\"#000000\" font-family=\"sans-serif\" font-size=\"14\" font-weight=\"bold\" lengthAdjust=\"spacingAndGlyphs\" textLength=\"214\" x=\"20\" y=\"20.9951\">TextualRepresentationTest</text></a><!--MD5=[b4997ac47864f28c2f74865a473b2911]\n",
       "class E2--><a href=\"psysml:3f2a97d7-c1a2-4f9b-b443-e0389101b303\" target=\"_top\" title=\"psysml:3f2a97d7-c1a2-4f9b-b443-e0389101b303\" xlink:actuate=\"onRequest\" xlink:href=\"psysml:3f2a97d7-c1a2-4f9b-b443-e0389101b303\" xlink:show=\"new\" xlink:title=\"psysml:3f2a97d7-c1a2-4f9b-b443-e0389101b303\" xlink:type=\"simple\"><rect fill=\"#FEFECE\" filter=\"url(#f1hzja5hr6rwei)\" height=\"45.9375\" id=\"E2\" style=\"stroke: #A80036; stroke-width: 1.5;\" width=\"100\" x=\"32\" y=\"182\"/><ellipse cx=\"47\" cy=\"200.9688\" fill=\"#0000FF\" rx=\"11\" ry=\"11\" style=\"stroke: #A80036; stroke-width: 1.0;\"/><path d=\"M47.8438,207.7188 L45.3906,207.7188 L45.3906,197.4688 L42.25,197.4688 L42.25,195.3281 L50.9844,195.3281 L50.9844,197.4688 L47.8438,197.4688 L47.8438,207.7188 Z \"/><text fill=\"#000000\" font-family=\"sans-serif\" font-size=\"12\" font-style=\"italic\" lengthAdjust=\"spacingAndGlyphs\" textLength=\"72\" x=\"59\" y=\"198.1387\">«dataType»</text><text fill=\"#000000\" font-family=\"sans-serif\" font-size=\"12\" lengthAdjust=\"spacingAndGlyphs\" textLength=\"27\" x=\"81.5\" y=\"212.1074\">Real</text><line style=\"stroke: #A80036; stroke-width: 1.5;\" x1=\"33\" x2=\"131\" y1=\"219.9375\" y2=\"219.9375\"/></a><!--MD5=[09b614a08d8cba4a07c9adeb5e0fee81]\n",
       "class E3--><a href=\"psysml:bb207011-903d-4a71-a2f5-e51b80009fec\" target=\"_top\" title=\"psysml:bb207011-903d-4a71-a2f5-e51b80009fec\" xlink:actuate=\"onRequest\" xlink:href=\"psysml:bb207011-903d-4a71-a2f5-e51b80009fec\" xlink:show=\"new\" xlink:title=\"psysml:bb207011-903d-4a71-a2f5-e51b80009fec\" xlink:type=\"simple\"><rect fill=\"#FEFECE\" filter=\"url(#f1hzja5hr6rwei)\" height=\"82.4141\" id=\"E3\" style=\"stroke: #A80036; stroke-width: 1.5;\" width=\"111\" x=\"167.5\" y=\"164\"/><ellipse cx=\"214.75\" cy=\"180\" fill=\"#008000\" rx=\"11\" ry=\"11\" style=\"stroke: #A80036; stroke-width: 1.0;\"/><path d=\"M213.6563,180.375 L213.6563,184.0469 L215.2813,184.0469 Q216.4531,184.0469 216.9219,183.6563 Q217.3906,183.25 217.3906,182.25 Q217.3906,181.25 216.8906,180.8125 Q216.4063,180.375 215.2813,180.375 L213.6563,180.375 Z M213.6563,175.5469 L213.6563,178.4219 L215.2813,178.4219 Q216.2031,178.4219 216.5938,178.0938 Q217,177.75 217,177 Q217,176.2344 216.5938,175.8906 Q216.1875,175.5469 215.2813,175.5469 L213.6563,175.5469 Z M211.2813,173.5938 L215.2813,173.5938 Q217.3438,173.5938 218.3906,174.375 Q219.4375,175.1563 219.4375,176.7188 Q219.4375,177.9219 218.8125,178.5938 Q218.2031,179.2656 217.0156,179.375 Q218.4375,179.5156 219.1563,180.3281 Q219.875,181.1406 219.875,182.5938 Q219.875,184.3906 218.7969,185.2031 Q217.7188,186 215.2813,186 L211.2813,186 L211.2813,173.5938 Z \"/><text fill=\"#000000\" font-family=\"sans-serif\" font-size=\"12\" lengthAdjust=\"spacingAndGlyphs\" textLength=\"8\" x=\"235.25\" y=\"184.1543\">C</text><line style=\"stroke: #A80036; stroke-width: 1.5;\" x1=\"168.5\" x2=\"277.5\" y1=\"196\" y2=\"196\"/><text fill=\"#000000\" font-family=\"sans-serif\" font-size=\"11\" lengthAdjust=\"spacingAndGlyphs\" textLength=\"38\" x=\"173.5\" y=\"210.2104\">x: Real</text><text fill=\"#000000\" font-family=\"sans-serif\" font-size=\"11\" lengthAdjust=\"spacingAndGlyphs\" textLength=\"69\" x=\"173.5\" y=\"239.8198\">x_constraint</text><line style=\"stroke: #A80036; stroke-width: 1.0;\" x1=\"168.5\" x2=\"171.5\" y1=\"223.207\" y2=\"223.207\"/><text fill=\"#000000\" font-family=\"sans-serif\" font-size=\"11\" lengthAdjust=\"spacingAndGlyphs\" textLength=\"103\" x=\"171.5\" y=\"226.5151\">assertConstraints</text><line style=\"stroke: #A80036; stroke-width: 1.0;\" x1=\"274.5\" x2=\"277.5\" y1=\"223.207\" y2=\"223.207\"/></a><!--MD5=[270fce915f116d4de14055a7c1d9a0f3]\n",
       "class E5--><a href=\"psysml:ff423fdb-a5ad-4383-b75e-3a1966f8baa4\" target=\"_top\" title=\"psysml:ff423fdb-a5ad-4383-b75e-3a1966f8baa4\" xlink:actuate=\"onRequest\" xlink:href=\"psysml:ff423fdb-a5ad-4383-b75e-3a1966f8baa4\" xlink:show=\"new\" xlink:title=\"psysml:ff423fdb-a5ad-4383-b75e-3a1966f8baa4\" xlink:type=\"simple\"><rect fill=\"#FEFECE\" filter=\"url(#f1hzja5hr6rwei)\" height=\"45.9375\" id=\"E5\" style=\"stroke: #A80036; stroke-width: 1.5;\" width=\"105\" x=\"68.5\" y=\"41\"/><ellipse cx=\"83.5\" cy=\"59.9688\" fill=\"#A52A2A\" rx=\"11\" ry=\"11\" style=\"stroke: #A80036; stroke-width: 1.0;\"/><path d=\"M83.0938,55.7813 L83.0938,63.7656 L83.75,63.7656 Q85.1875,63.7656 85.7969,62.8594 Q86.4219,61.9375 86.4219,59.7656 Q86.4219,57.5938 85.7969,56.6875 Q85.1875,55.7813 83.75,55.7813 L83.0938,55.7813 Z M80.6406,53.5781 L83.2656,53.5781 Q86.2969,53.5781 87.625,55.0313 Q88.9688,56.4688 88.9688,59.7656 Q88.9688,63.0625 87.625,64.5156 Q86.2969,65.9688 83.2656,65.9688 L80.6406,65.9688 L80.6406,53.5781 Z \"/><text fill=\"#000000\" font-family=\"sans-serif\" font-size=\"12\" font-style=\"italic\" lengthAdjust=\"spacingAndGlyphs\" textLength=\"77\" x=\"95.5\" y=\"57.1387\">«action def»</text><text fill=\"#000000\" font-family=\"sans-serif\" font-size=\"12\" lengthAdjust=\"spacingAndGlyphs\" textLength=\"27\" x=\"120.5\" y=\"71.1074\">setX</text><line style=\"stroke: #A80036; stroke-width: 1.5;\" x1=\"69.5\" x2=\"172.5\" y1=\"78.9375\" y2=\"78.9375\"/></a><!--MD5=[6f107eb264eda4b26325f39a5516f1f3]\n",
       "reverse link E5 to E3--><a href=\"psysml:4c2c889d-aea7-4bfd-be6e-45844659a6a1\" target=\"_top\" title=\"psysml:4c2c889d-aea7-4bfd-be6e-45844659a6a1\" xlink:actuate=\"onRequest\" xlink:href=\"psysml:4c2c889d-aea7-4bfd-be6e-45844659a6a1\" xlink:show=\"new\" xlink:title=\"psysml:4c2c889d-aea7-4bfd-be6e-45844659a6a1\" xlink:type=\"simple\"><path d=\"M144.97,97.67 C159.5,117.47 178.14,142.87 193.56,163.88 \" fill=\"none\" id=\"E5&lt;-E3\" style=\"stroke: #A80036; stroke-width: 1.0;\"/><polygon fill=\"#FFFFFF\" points=\"137.16,87.02,137.4872,94.2237,144.2626,96.6922,143.9354,89.4886,137.16,87.02\" style=\"stroke: #A80036; stroke-width: 1.0;\"/><text fill=\"#000000\" font-family=\"sans-serif\" font-size=\"13\" lengthAdjust=\"spacingAndGlyphs\" textLength=\"7\" x=\"169\" y=\"130.0669\">c</text></a><!--MD5=[f51c6d1f1856fe338ac0413483fb1ccf]\n",
       "reverse link E5 to E2--><a href=\"psysml:471b2978-4f3d-4f5c-bcaa-50341599c3a3\" target=\"_top\" title=\"psysml:471b2978-4f3d-4f5c-bcaa-50341599c3a3\" xlink:actuate=\"onRequest\" xlink:href=\"psysml:471b2978-4f3d-4f5c-bcaa-50341599c3a3\" xlink:show=\"new\" xlink:title=\"psysml:471b2978-4f3d-4f5c-bcaa-50341599c3a3\" xlink:type=\"simple\"><path d=\"M111.31,99.55 C104.11,125.21 94.5,159.45 88.28,181.62 \" fill=\"none\" id=\"E5&lt;-E2\" style=\"stroke: #A80036; stroke-width: 1.0;\"/><polygon fill=\"#FFFFFF\" points=\"114.82,87.02,109.3468,91.7151,111.5756,98.5731,117.0489,93.878,114.82,87.02\" style=\"stroke: #A80036; stroke-width: 1.0;\"/><text fill=\"#000000\" font-family=\"sans-serif\" font-size=\"13\" lengthAdjust=\"spacingAndGlyphs\" textLength=\"33\" x=\"107\" y=\"130.0669\">newX</text></a><!--MD5=[2c7fedcd4fe3fac9753199ff1ccf86be]\n",
       "@startuml\r\n",
       " \r\n",
       "package \"TextualRepresentationTest\" as E1  [[psysml:0fc68415-d7d0-4850-b93e-796cf2adc089 ]]  {\r\n",
       "comp def \"Real\" as E2  <<(T,blue)dataType>> [[psysml:3f2a97d7-c1a2-4f9b-b443-e0389101b303 ]] {\r\n",
       "}\r\n",
       "comp def \"C\" as E3  << (B,green) >> [[psysml:bb207011-903d-4a71-a2f5-e51b80009fec ]] {\r\n",
       "x: Real\r\n",
       "- - assertConstraints - -\r\n",
       "x_constraint\r\n",
       "}\r\n",
       "comp def \"setX\" as E5  <<(D,brown)action def>> [[psysml:ff423fdb-a5ad-4383-b75e-3a1966f8baa4 ]] {\r\n",
       "}\r\n",
       "E5 o- - E3 [[psysml:4c2c889d-aea7-4bfd-be6e-45844659a6a1 ]] : c\r\n",
       "E5 o- - E2 [[psysml:471b2978-4f3d-4f5c-bcaa-50341599c3a3 ]] : newX\r\n",
       "}\r\n",
       "@enduml\r\n",
       "\n",
       "PlantUML version 1.2020.13(Sat Jun 13 12:26:38 UTC 2020)\n",
       "(EPL source distribution)\n",
       "Java Runtime: OpenJDK Runtime Environment\n",
       "JVM: OpenJDK 64-Bit Server VM\n",
       "Default Encoding: UTF-8\n",
       "Language: en\n",
       "Country: null\n",
       "--></g></svg>"
      ]
     },
     "execution_count": 31,
     "metadata": {},
     "output_type": "execute_result"
    }
   ],
   "source": [
    "%viz --style=\"PLANTUML\" --view=\"Tree\" \"TextualRepresentationTest\""
   ]
  },
  {
   "cell_type": "code",
   "execution_count": 32,
   "id": "delayed-capitol",
   "metadata": {
    "execution": {
     "iopub.execute_input": "2021-03-25T15:08:38.597691Z",
     "iopub.status.busy": "2021-03-25T15:08:38.597167Z",
     "iopub.status.idle": "2021-03-25T15:08:40.296607Z",
     "shell.execute_reply": "2021-03-25T15:08:40.295137Z"
    }
   },
   "outputs": [
    {
     "data": {
      "image/svg+xml": [
       "<?xml version=\"1.0\" encoding=\"UTF-8\" standalone=\"no\"?><svg xmlns=\"http://www.w3.org/2000/svg\" xmlns:xlink=\"http://www.w3.org/1999/xlink\" contentScriptType=\"application/ecmascript\" contentStyleType=\"text/css\" height=\"410px\" preserveAspectRatio=\"none\" style=\"width:603px;height:410px;background:#000000;\" version=\"1.1\" viewBox=\"0 0 603 410\" width=\"603px\" zoomAndPan=\"magnify\"><defs/><g><rect fill=\"#200D26\" height=\"1\" style=\"stroke: #200D26; stroke-width: 1.0;\" width=\"1\" x=\"0\" y=\"0\"/><rect fill=\"#FFFFFF\" height=\"53\" style=\"stroke: #FFFFFF; stroke-width: 1.0;\" width=\"602\" x=\"0\" y=\"0\"/><image height=\"53\" width=\"450\" x=\"1\" xlink:href=\"data:image/png;base64,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\" y=\"1\"/><rect fill=\"#FFFFFF\" height=\"205.5625\" style=\"stroke: #FFFFFF; stroke-width: 1.0;\" width=\"602\" x=\"0\" y=\"53\"/><text fill=\"#000000\" font-family=\"sans-serif\" font-size=\"12\" font-weight=\"bold\" lengthAdjust=\"spacingAndGlyphs\" textLength=\"159\" x=\"5\" y=\"69.1387\">Welcome to PlantUML!</text><text fill=\"#000000\" font-family=\"sans-serif\" font-size=\"12\" lengthAdjust=\"spacingAndGlyphs\" textLength=\"0\" x=\"9\" y=\"83.1074\"/><text fill=\"#000000\" font-family=\"sans-serif\" font-size=\"12\" lengthAdjust=\"spacingAndGlyphs\" textLength=\"293\" x=\"5\" y=\"97.0762\">If you use this software, you accept its license.</text><text fill=\"#000000\" font-family=\"sans-serif\" font-size=\"12\" lengthAdjust=\"spacingAndGlyphs\" textLength=\"107\" x=\"5\" y=\"111.0449\">(details by typing</text><text fill=\"#000000\" font-family=\"monospace\" font-size=\"12\" lengthAdjust=\"spacingAndGlyphs\" textLength=\"49\" x=\"116\" y=\"111.0449\">license</text><text fill=\"#000000\" font-family=\"sans-serif\" font-size=\"12\" lengthAdjust=\"spacingAndGlyphs\" textLength=\"56\" x=\"169\" y=\"111.0449\">keyword)</text><text fill=\"#000000\" font-family=\"sans-serif\" font-size=\"12\" lengthAdjust=\"spacingAndGlyphs\" textLength=\"0\" x=\"9\" y=\"125.0137\"/><text fill=\"#000000\" font-family=\"sans-serif\" font-size=\"12\" lengthAdjust=\"spacingAndGlyphs\" textLength=\"283\" x=\"5\" y=\"138.9824\">You can start with a simple UML Diagram like:</text><text fill=\"#000000\" font-family=\"sans-serif\" font-size=\"12\" lengthAdjust=\"spacingAndGlyphs\" textLength=\"0\" x=\"9\" y=\"152.9512\"/><text fill=\"#000000\" font-family=\"monospace\" font-size=\"12\" lengthAdjust=\"spacingAndGlyphs\" textLength=\"119\" x=\"5\" y=\"166.9199\">Bob-&gt;Alice: Hello</text><text fill=\"#000000\" font-family=\"sans-serif\" font-size=\"12\" lengthAdjust=\"spacingAndGlyphs\" textLength=\"0\" x=\"9\" y=\"180.8887\"/><text fill=\"#000000\" font-family=\"sans-serif\" font-size=\"12\" lengthAdjust=\"spacingAndGlyphs\" textLength=\"14\" x=\"5\" y=\"194.8574\">Or</text><text fill=\"#000000\" font-family=\"sans-serif\" font-size=\"12\" lengthAdjust=\"spacingAndGlyphs\" textLength=\"0\" x=\"9\" y=\"208.8262\"/><text fill=\"#000000\" font-family=\"monospace\" font-size=\"12\" lengthAdjust=\"spacingAndGlyphs\" textLength=\"91\" x=\"5\" y=\"222.7949\">class Example</text><text fill=\"#000000\" font-family=\"sans-serif\" font-size=\"12\" lengthAdjust=\"spacingAndGlyphs\" textLength=\"0\" x=\"9\" y=\"236.7637\"/><text fill=\"#000000\" font-family=\"sans-serif\" font-size=\"12\" lengthAdjust=\"spacingAndGlyphs\" textLength=\"349\" x=\"5\" y=\"250.7324\">You will find more information about PlantUML syntax on</text><text fill=\"#000000\" font-family=\"sans-serif\" font-size=\"12\" lengthAdjust=\"spacingAndGlyphs\" text-decoration=\"underline\" textLength=\"129\" x=\"358\" y=\"250.7324\">https://plantuml.com</text><image height=\"71\" width=\"80\" x=\"516\" xlink:href=\"data:image/png;base64,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\" y=\"59\"/><rect fill=\"#000000\" height=\"96.4844\" style=\"stroke: #000000; stroke-width: 1.0;\" width=\"602\" x=\"0\" y=\"258.5625\"/><rect fill=\"#33FF02\" height=\"21.2969\" style=\"stroke: #33FF02; stroke-width: 1.0;\" width=\"170\" x=\"5\" y=\"263.5625\"/><text fill=\"#000000\" font-family=\"sans-serif\" font-size=\"14\" font-weight=\"bold\" lengthAdjust=\"spacingAndGlyphs\" textLength=\"168\" x=\"6\" y=\"278.5625\">[From string (line 2) ]</text><text fill=\"#33FF02\" font-family=\"sans-serif\" font-size=\"14\" font-weight=\"bold\" lengthAdjust=\"spacingAndGlyphs\" textLength=\"0\" x=\"10\" y=\"298.8594\"/><text fill=\"#33FF02\" font-family=\"sans-serif\" font-size=\"14\" font-weight=\"bold\" lengthAdjust=\"spacingAndGlyphs\" textLength=\"79\" x=\"5\" y=\"315.1563\">@startuml</text><text fill=\"#33FF02\" font-family=\"sans-serif\" font-size=\"14\" font-weight=\"bold\" lengthAdjust=\"spacingAndGlyphs\" textLength=\"0\" x=\"10\" y=\"331.4531\"/><text fill=\"#FF0000\" font-family=\"sans-serif\" font-size=\"14\" font-weight=\"bold\" lengthAdjust=\"spacingAndGlyphs\" textLength=\"142\" x=\"10\" y=\"347.75\">Empty description</text><rect fill=\"#FFFFFF\" height=\"53\" style=\"stroke: #FFFFFF; stroke-width: 1.0;\" width=\"602\" x=\"0\" y=\"355.0469\"/><image height=\"53\" width=\"450\" x=\"1\" xlink:href=\"data:image/png;base64,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\" y=\"356.0469\"/><!--MD5=[f59edd8218d337f74d0c332fc6737304]\n",
       "@startuml\r\n",
       " \r\n",
       "@enduml\r\n",
       "\n",
       "PlantUML version 1.2020.13(Sat Jun 13 12:26:38 UTC 2020)\n",
       "(EPL source distribution)\n",
       "Java Runtime: OpenJDK Runtime Environment\n",
       "JVM: OpenJDK 64-Bit Server VM\n",
       "Default Encoding: UTF-8\n",
       "Language: en\n",
       "Country: null\n",
       "--></g></svg>"
      ]
     },
     "execution_count": 32,
     "metadata": {},
     "output_type": "execute_result"
    }
   ],
   "source": [
    "%viz --style=\"PLANTUML\" --view=\"State\" \"TextualRepresentationTest\""
   ]
  },
  {
   "cell_type": "code",
   "execution_count": 33,
   "id": "logical-behalf",
   "metadata": {
    "execution": {
     "iopub.execute_input": "2021-03-25T15:08:40.347415Z",
     "iopub.status.busy": "2021-03-25T15:08:40.346174Z",
     "iopub.status.idle": "2021-03-25T15:08:40.421276Z",
     "shell.execute_reply": "2021-03-25T15:08:40.419988Z"
    }
   },
   "outputs": [
    {
     "data": {
      "image/svg+xml": [
       "<?xml version=\"1.0\" encoding=\"UTF-8\" standalone=\"no\"?><svg xmlns=\"http://www.w3.org/2000/svg\" xmlns:xlink=\"http://www.w3.org/1999/xlink\" contentScriptType=\"application/ecmascript\" contentStyleType=\"text/css\" height=\"123px\" preserveAspectRatio=\"none\" style=\"width:556px;height:123px;\" version=\"1.1\" viewBox=\"0 0 556 123\" width=\"556px\" zoomAndPan=\"magnify\"><defs><filter height=\"300%\" id=\"fv3r7xq2tgjht\" width=\"300%\" x=\"-1\" y=\"-1\"><feGaussianBlur result=\"blurOut\" stdDeviation=\"2.0\"/><feColorMatrix in=\"blurOut\" result=\"blurOut2\" type=\"matrix\" values=\"0 0 0 0 0 0 0 0 0 0 0 0 0 0 0 0 0 0 .4 0\"/><feOffset dx=\"4.0\" dy=\"4.0\" in=\"blurOut2\" result=\"blurOut3\"/><feBlend in=\"SourceGraphic\" in2=\"blurOut3\" mode=\"normal\"/></filter></defs><g><!--MD5=[fbc87193dbaf4d95561dea2c320d4a47]\n",
       "cluster E1--><a href=\"psysml:0fc68415-d7d0-4850-b93e-796cf2adc089\" target=\"_top\" title=\"psysml:0fc68415-d7d0-4850-b93e-796cf2adc089\" xlink:actuate=\"onRequest\" xlink:href=\"psysml:0fc68415-d7d0-4850-b93e-796cf2adc089\" xlink:show=\"new\" xlink:title=\"psysml:0fc68415-d7d0-4850-b93e-796cf2adc089\" xlink:type=\"simple\"><polygon fill=\"#FFFFFF\" filter=\"url(#fv3r7xq2tgjht)\" points=\"16,6,236,6,243,28.2969,534,28.2969,534,111,16,111,16,6\" style=\"stroke: #000000; stroke-width: 1.5;\"/><line style=\"stroke: #000000; stroke-width: 1.5;\" x1=\"16\" x2=\"243\" y1=\"28.2969\" y2=\"28.2969\"/><text fill=\"#000000\" font-family=\"sans-serif\" font-size=\"14\" font-weight=\"bold\" lengthAdjust=\"spacingAndGlyphs\" textLength=\"214\" x=\"20\" y=\"20.9951\">TextualRepresentationTest</text></a><!--MD5=[b4997ac47864f28c2f74865a473b2911]\n",
       "class E2--><a href=\"psysml:3f2a97d7-c1a2-4f9b-b443-e0389101b303\" target=\"_top\" title=\"psysml:3f2a97d7-c1a2-4f9b-b443-e0389101b303\" xlink:actuate=\"onRequest\" xlink:href=\"psysml:3f2a97d7-c1a2-4f9b-b443-e0389101b303\" xlink:show=\"new\" xlink:title=\"psysml:3f2a97d7-c1a2-4f9b-b443-e0389101b303\" xlink:type=\"simple\"><rect fill=\"#FEFECE\" filter=\"url(#fv3r7xq2tgjht)\" height=\"53.9375\" id=\"E2\" style=\"stroke: #A80036; stroke-width: 1.5;\" width=\"148\" x=\"370\" y=\"41\"/><ellipse cx=\"385\" cy=\"59.9688\" fill=\"#ADD1B2\" rx=\"11\" ry=\"11\" style=\"stroke: #A80036; stroke-width: 1.0;\"/><path d=\"M387.9688,65.6094 Q387.3906,65.9063 386.75,66.0469 Q386.1094,66.2031 385.4063,66.2031 Q382.9063,66.2031 381.5781,64.5625 Q380.2656,62.9063 380.2656,59.7813 Q380.2656,56.6563 381.5781,55 Q382.9063,53.3438 385.4063,53.3438 Q386.1094,53.3438 386.75,53.5 Q387.4063,53.6563 387.9688,53.9531 L387.9688,56.6719 Q387.3438,56.0938 386.75,55.8281 Q386.1563,55.5469 385.5313,55.5469 Q384.1875,55.5469 383.5,56.625 Q382.8125,57.6875 382.8125,59.7813 Q382.8125,61.875 383.5,62.9531 Q384.1875,64.0156 385.5313,64.0156 Q386.1563,64.0156 386.75,63.75 Q387.3438,63.4688 387.9688,62.8906 L387.9688,65.6094 Z \"/><text fill=\"#000000\" font-family=\"sans-serif\" font-size=\"12\" font-style=\"italic\" lengthAdjust=\"spacingAndGlyphs\" textLength=\"120\" x=\"397\" y=\"57.1387\">«(T,blue)dataType»</text><text fill=\"#000000\" font-family=\"sans-serif\" font-size=\"12\" lengthAdjust=\"spacingAndGlyphs\" textLength=\"27\" x=\"443.5\" y=\"71.1074\">Real</text><line style=\"stroke: #A80036; stroke-width: 1.5;\" x1=\"371\" x2=\"517\" y1=\"78.9375\" y2=\"78.9375\"/><line style=\"stroke: #A80036; stroke-width: 1.5;\" x1=\"371\" x2=\"517\" y1=\"86.9375\" y2=\"86.9375\"/></a><!--MD5=[09b614a08d8cba4a07c9adeb5e0fee81]\n",
       "class E3--><a href=\"psysml:bb207011-903d-4a71-a2f5-e51b80009fec\" target=\"_top\" title=\"psysml:bb207011-903d-4a71-a2f5-e51b80009fec\" xlink:actuate=\"onRequest\" xlink:href=\"psysml:bb207011-903d-4a71-a2f5-e51b80009fec\" xlink:show=\"new\" xlink:title=\"psysml:bb207011-903d-4a71-a2f5-e51b80009fec\" xlink:type=\"simple\"><rect fill=\"#FEFECE\" filter=\"url(#fv3r7xq2tgjht)\" height=\"53.9375\" id=\"E3\" style=\"stroke: #A80036; stroke-width: 1.5;\" width=\"101\" x=\"233.5\" y=\"41\"/><ellipse cx=\"248.5\" cy=\"59.9688\" fill=\"#ADD1B2\" rx=\"11\" ry=\"11\" style=\"stroke: #A80036; stroke-width: 1.0;\"/><path d=\"M251.4688,65.6094 Q250.8906,65.9063 250.25,66.0469 Q249.6094,66.2031 248.9063,66.2031 Q246.4063,66.2031 245.0781,64.5625 Q243.7656,62.9063 243.7656,59.7813 Q243.7656,56.6563 245.0781,55 Q246.4063,53.3438 248.9063,53.3438 Q249.6094,53.3438 250.25,53.5 Q250.9063,53.6563 251.4688,53.9531 L251.4688,56.6719 Q250.8438,56.0938 250.25,55.8281 Q249.6563,55.5469 249.0313,55.5469 Q247.6875,55.5469 247,56.625 Q246.3125,57.6875 246.3125,59.7813 Q246.3125,61.875 247,62.9531 Q247.6875,64.0156 249.0313,64.0156 Q249.6563,64.0156 250.25,63.75 Q250.8438,63.4688 251.4688,62.8906 L251.4688,65.6094 Z \"/><text fill=\"#000000\" font-family=\"sans-serif\" font-size=\"12\" font-style=\"italic\" lengthAdjust=\"spacingAndGlyphs\" textLength=\"73\" x=\"260.5\" y=\"57.1387\">«(B,green)»</text><text fill=\"#000000\" font-family=\"sans-serif\" font-size=\"12\" lengthAdjust=\"spacingAndGlyphs\" textLength=\"8\" x=\"293\" y=\"71.1074\">C</text><line style=\"stroke: #A80036; stroke-width: 1.5;\" x1=\"234.5\" x2=\"333.5\" y1=\"78.9375\" y2=\"78.9375\"/><line style=\"stroke: #A80036; stroke-width: 1.5;\" x1=\"234.5\" x2=\"333.5\" y1=\"86.9375\" y2=\"86.9375\"/></a><!--MD5=[ebbe1d658d1005bcc118a6aa81145e00]\n",
       "class E4--><a href=\"psysml:ff423fdb-a5ad-4383-b75e-3a1966f8baa4\" target=\"_top\" title=\"psysml:ff423fdb-a5ad-4383-b75e-3a1966f8baa4\" xlink:actuate=\"onRequest\" xlink:href=\"psysml:ff423fdb-a5ad-4383-b75e-3a1966f8baa4\" xlink:show=\"new\" xlink:title=\"psysml:ff423fdb-a5ad-4383-b75e-3a1966f8baa4\" xlink:type=\"simple\"><rect fill=\"#FEFECE\" filter=\"url(#fv3r7xq2tgjht)\" height=\"53.9375\" id=\"E4\" style=\"stroke: #A80036; stroke-width: 1.5;\" width=\"166\" x=\"32\" y=\"41\"/><ellipse cx=\"47\" cy=\"59.9688\" fill=\"#ADD1B2\" rx=\"11\" ry=\"11\" style=\"stroke: #A80036; stroke-width: 1.0;\"/><path d=\"M49.9688,65.6094 Q49.3906,65.9063 48.75,66.0469 Q48.1094,66.2031 47.4063,66.2031 Q44.9063,66.2031 43.5781,64.5625 Q42.2656,62.9063 42.2656,59.7813 Q42.2656,56.6563 43.5781,55 Q44.9063,53.3438 47.4063,53.3438 Q48.1094,53.3438 48.75,53.5 Q49.4063,53.6563 49.9688,53.9531 L49.9688,56.6719 Q49.3438,56.0938 48.75,55.8281 Q48.1563,55.5469 47.5313,55.5469 Q46.1875,55.5469 45.5,56.625 Q44.8125,57.6875 44.8125,59.7813 Q44.8125,61.875 45.5,62.9531 Q46.1875,64.0156 47.5313,64.0156 Q48.1563,64.0156 48.75,63.75 Q49.3438,63.4688 49.9688,62.8906 L49.9688,65.6094 Z \"/><text fill=\"#000000\" font-family=\"sans-serif\" font-size=\"12\" font-style=\"italic\" lengthAdjust=\"spacingAndGlyphs\" textLength=\"138\" x=\"59\" y=\"57.1387\">«(D,brown)action def»</text><text fill=\"#000000\" font-family=\"sans-serif\" font-size=\"12\" lengthAdjust=\"spacingAndGlyphs\" textLength=\"27\" x=\"114.5\" y=\"71.1074\">setX</text><line style=\"stroke: #A80036; stroke-width: 1.5;\" x1=\"33\" x2=\"197\" y1=\"78.9375\" y2=\"78.9375\"/><line style=\"stroke: #A80036; stroke-width: 1.5;\" x1=\"33\" x2=\"197\" y1=\"86.9375\" y2=\"86.9375\"/></a><!--MD5=[e5929d8cc3640c0c552d5ba847960e33]\n",
       "@startuml\r\n",
       "skinparam ranksep 8\r\n",
       "skinparam rectangle {\r\n",
       " backgroundColor<<block>> LightGreen\r\n",
       "}\r\n",
       " \r\n",
       "package \"TextualRepresentationTest\" as E1  [[psysml:0fc68415-d7d0-4850-b93e-796cf2adc089 ]]  {\r\n",
       "def \"Real\" as E2  <<(T,blue)dataType>> [[psysml:3f2a97d7-c1a2-4f9b-b443-e0389101b303 ]] \r\n",
       "def \"C\" as E3  << (B,green) >> [[psysml:bb207011-903d-4a71-a2f5-e51b80009fec ]] \r\n",
       "def \"setX\" as E4  <<(D,brown)action def>> [[psysml:ff423fdb-a5ad-4383-b75e-3a1966f8baa4 ]] \r\n",
       "}\r\n",
       "@enduml\r\n",
       "\n",
       "PlantUML version 1.2020.13(Sat Jun 13 12:26:38 UTC 2020)\n",
       "(EPL source distribution)\n",
       "Java Runtime: OpenJDK Runtime Environment\n",
       "JVM: OpenJDK 64-Bit Server VM\n",
       "Default Encoding: UTF-8\n",
       "Language: en\n",
       "Country: null\n",
       "--></g></svg>"
      ]
     },
     "execution_count": 33,
     "metadata": {},
     "output_type": "execute_result"
    }
   ],
   "source": [
    "%viz --style=\"PLANTUML\" --view=\"Interconnection\" \"TextualRepresentationTest\""
   ]
  },
  {
   "cell_type": "code",
   "execution_count": 34,
   "id": "asian-oliver",
   "metadata": {
    "execution": {
     "iopub.execute_input": "2021-03-25T15:08:40.471601Z",
     "iopub.status.busy": "2021-03-25T15:08:40.471058Z",
     "iopub.status.idle": "2021-03-25T15:08:40.531142Z",
     "shell.execute_reply": "2021-03-25T15:08:40.531644Z"
    }
   },
   "outputs": [
    {
     "data": {
      "image/svg+xml": [
       "<?xml version=\"1.0\" encoding=\"UTF-8\" standalone=\"no\"?><svg xmlns=\"http://www.w3.org/2000/svg\" xmlns:xlink=\"http://www.w3.org/1999/xlink\" contentScriptType=\"application/ecmascript\" contentStyleType=\"text/css\" height=\"134px\" preserveAspectRatio=\"none\" style=\"width:158px;height:134px;\" version=\"1.1\" viewBox=\"0 0 158 134\" width=\"158px\" zoomAndPan=\"magnify\"><defs><filter height=\"300%\" id=\"fn9vlubxukgmq\" width=\"300%\" x=\"-1\" y=\"-1\"><feGaussianBlur result=\"blurOut\" stdDeviation=\"2.0\"/><feColorMatrix in=\"blurOut\" result=\"blurOut2\" type=\"matrix\" values=\"0 0 0 0 0 0 0 0 0 0 0 0 0 0 0 0 0 0 .4 0\"/><feOffset dx=\"4.0\" dy=\"4.0\" in=\"blurOut2\" result=\"blurOut3\"/><feBlend in=\"SourceGraphic\" in2=\"blurOut3\" mode=\"normal\"/></filter></defs><g><!--MD5=[fbc87193dbaf4d95561dea2c320d4a47]\n",
       "cluster E1--><a href=\"psysml:ff423fdb-a5ad-4383-b75e-3a1966f8baa4\" target=\"_top\" title=\"psysml:ff423fdb-a5ad-4383-b75e-3a1966f8baa4\" xlink:actuate=\"onRequest\" xlink:href=\"psysml:ff423fdb-a5ad-4383-b75e-3a1966f8baa4\" xlink:show=\"new\" xlink:title=\"psysml:ff423fdb-a5ad-4383-b75e-3a1966f8baa4\" xlink:type=\"simple\"><rect fill=\"#FFFFFF\" filter=\"url(#fn9vlubxukgmq)\" height=\"73\" id=\"E1\" style=\"stroke: #A80036; stroke-width: 1.5;\" width=\"132\" x=\"7\" y=\"42.0986\"/><rect fill=\"#FEFECE\" height=\"37.9375\" style=\"stroke: #A80036; stroke-width: 1.5;\" width=\"132\" x=\"7\" y=\"42.0986\"/><text fill=\"#000000\" font-family=\"sans-serif\" font-size=\"12\" font-style=\"italic\" lengthAdjust=\"spacingAndGlyphs\" textLength=\"77\" x=\"34.5\" y=\"58.2373\">«action def»</text><text fill=\"#000000\" font-family=\"sans-serif\" font-size=\"12\" lengthAdjust=\"spacingAndGlyphs\" textLength=\"27\" x=\"59.5\" y=\"72.2061\">setX</text></a><text fill=\"#000000\" font-family=\"sans-serif\" font-size=\"14\" lengthAdjust=\"spacingAndGlyphs\" textLength=\"8\" x=\"21\" y=\"20.7969\">c</text><rect fill=\"#A80036\" height=\"12\" style=\"stroke: #FEFECE; stroke-width: 1.5;\" width=\"12\" x=\"19\" y=\"36.0986\"/><text fill=\"#000000\" font-family=\"sans-serif\" font-size=\"14\" lengthAdjust=\"spacingAndGlyphs\" textLength=\"38\" x=\"53\" y=\"20.7969\">newX</text><rect fill=\"#A80036\" height=\"12\" style=\"stroke: #FEFECE; stroke-width: 1.5;\" width=\"12\" x=\"66\" y=\"36.0986\"/><!--MD5=[ac391dc6d6042133805a5207f1c893c5]\n",
       "@startuml\r\n",
       "skinparam ranksep 8\r\n",
       " \r\n",
       "rec def \"setX\" as E1  <<(D,brown)action def>> [[psysml:ff423fdb-a5ad-4383-b75e-3a1966f8baa4 ]] {\r\n",
       "portin \"c\" as E2  [[psysml:4c2c889d-aea7-4bfd-be6e-45844659a6a1 ]] \r\n",
       "portin \"newX\" as E3  [[psysml:471b2978-4f3d-4f5c-bcaa-50341599c3a3 ]] \r\n",
       "}\r\n",
       "\r\n",
       "@enduml\r\n",
       "\n",
       "PlantUML version 1.2020.13(Sat Jun 13 12:26:38 UTC 2020)\n",
       "(EPL source distribution)\n",
       "Java Runtime: OpenJDK Runtime Environment\n",
       "JVM: OpenJDK 64-Bit Server VM\n",
       "Default Encoding: UTF-8\n",
       "Language: en\n",
       "Country: null\n",
       "--></g></svg>"
      ]
     },
     "execution_count": 34,
     "metadata": {},
     "output_type": "execute_result"
    }
   ],
   "source": [
    "%viz --style=\"PLANTUML\" --view=\"Action\" \"TextualRepresentationTest\""
   ]
  },
  {
   "cell_type": "code",
   "execution_count": 35,
   "id": "drawn-moral",
   "metadata": {
    "execution": {
     "iopub.execute_input": "2021-03-25T15:08:40.582981Z",
     "iopub.status.busy": "2021-03-25T15:08:40.582315Z",
     "iopub.status.idle": "2021-03-25T15:08:40.905413Z",
     "shell.execute_reply": "2021-03-25T15:08:40.903947Z"
    }
   },
   "outputs": [
    {
     "data": {
      "image/svg+xml": [
       "<?xml version=\"1.0\" encoding=\"UTF-8\" standalone=\"no\"?><svg xmlns=\"http://www.w3.org/2000/svg\" xmlns:xlink=\"http://www.w3.org/1999/xlink\" contentScriptType=\"application/ecmascript\" contentStyleType=\"text/css\" height=\"274px\" preserveAspectRatio=\"none\" style=\"width:316px;height:274px;\" version=\"1.1\" viewBox=\"0 0 316 274\" width=\"316px\" zoomAndPan=\"magnify\"><defs><filter height=\"300%\" id=\"f1hzja5hr6rwei\" width=\"300%\" x=\"-1\" y=\"-1\"><feGaussianBlur result=\"blurOut\" stdDeviation=\"2.0\"/><feColorMatrix in=\"blurOut\" result=\"blurOut2\" type=\"matrix\" values=\"0 0 0 0 0 0 0 0 0 0 0 0 0 0 0 0 0 0 .4 0\"/><feOffset dx=\"4.0\" dy=\"4.0\" in=\"blurOut2\" result=\"blurOut3\"/><feBlend in=\"SourceGraphic\" in2=\"blurOut3\" mode=\"normal\"/></filter></defs><g><!--MD5=[fbc87193dbaf4d95561dea2c320d4a47]\n",
       "cluster E1--><a href=\"psysml:0fc68415-d7d0-4850-b93e-796cf2adc089\" target=\"_top\" title=\"psysml:0fc68415-d7d0-4850-b93e-796cf2adc089\" xlink:actuate=\"onRequest\" xlink:href=\"psysml:0fc68415-d7d0-4850-b93e-796cf2adc089\" xlink:show=\"new\" xlink:title=\"psysml:0fc68415-d7d0-4850-b93e-796cf2adc089\" xlink:type=\"simple\"><polygon fill=\"#FFFFFF\" filter=\"url(#f1hzja5hr6rwei)\" points=\"16,6,236,6,243,28.2969,294,28.2969,294,262,16,262,16,6\" style=\"stroke: #000000; stroke-width: 1.5;\"/><line style=\"stroke: #000000; stroke-width: 1.5;\" x1=\"16\" x2=\"243\" y1=\"28.2969\" y2=\"28.2969\"/><text fill=\"#000000\" font-family=\"sans-serif\" font-size=\"14\" font-weight=\"bold\" lengthAdjust=\"spacingAndGlyphs\" textLength=\"214\" x=\"20\" y=\"20.9951\">TextualRepresentationTest</text></a><!--MD5=[b4997ac47864f28c2f74865a473b2911]\n",
       "class E2--><a href=\"psysml:3f2a97d7-c1a2-4f9b-b443-e0389101b303\" target=\"_top\" title=\"psysml:3f2a97d7-c1a2-4f9b-b443-e0389101b303\" xlink:actuate=\"onRequest\" xlink:href=\"psysml:3f2a97d7-c1a2-4f9b-b443-e0389101b303\" xlink:show=\"new\" xlink:title=\"psysml:3f2a97d7-c1a2-4f9b-b443-e0389101b303\" xlink:type=\"simple\"><rect fill=\"#FEFECE\" filter=\"url(#f1hzja5hr6rwei)\" height=\"45.9375\" id=\"E2\" style=\"stroke: #A80036; stroke-width: 1.5;\" width=\"100\" x=\"32\" y=\"182\"/><ellipse cx=\"47\" cy=\"200.9688\" fill=\"#0000FF\" rx=\"11\" ry=\"11\" style=\"stroke: #A80036; stroke-width: 1.0;\"/><path d=\"M47.8438,207.7188 L45.3906,207.7188 L45.3906,197.4688 L42.25,197.4688 L42.25,195.3281 L50.9844,195.3281 L50.9844,197.4688 L47.8438,197.4688 L47.8438,207.7188 Z \"/><text fill=\"#000000\" font-family=\"sans-serif\" font-size=\"12\" font-style=\"italic\" lengthAdjust=\"spacingAndGlyphs\" textLength=\"72\" x=\"59\" y=\"198.1387\">«dataType»</text><text fill=\"#000000\" font-family=\"sans-serif\" font-size=\"12\" lengthAdjust=\"spacingAndGlyphs\" textLength=\"27\" x=\"81.5\" y=\"212.1074\">Real</text><line style=\"stroke: #A80036; stroke-width: 1.5;\" x1=\"33\" x2=\"131\" y1=\"219.9375\" y2=\"219.9375\"/></a><!--MD5=[09b614a08d8cba4a07c9adeb5e0fee81]\n",
       "class E3--><a href=\"psysml:bb207011-903d-4a71-a2f5-e51b80009fec\" target=\"_top\" title=\"psysml:bb207011-903d-4a71-a2f5-e51b80009fec\" xlink:actuate=\"onRequest\" xlink:href=\"psysml:bb207011-903d-4a71-a2f5-e51b80009fec\" xlink:show=\"new\" xlink:title=\"psysml:bb207011-903d-4a71-a2f5-e51b80009fec\" xlink:type=\"simple\"><rect fill=\"#FEFECE\" filter=\"url(#f1hzja5hr6rwei)\" height=\"82.4141\" id=\"E3\" style=\"stroke: #A80036; stroke-width: 1.5;\" width=\"111\" x=\"167.5\" y=\"164\"/><ellipse cx=\"214.75\" cy=\"180\" fill=\"#008000\" rx=\"11\" ry=\"11\" style=\"stroke: #A80036; stroke-width: 1.0;\"/><path d=\"M213.6563,180.375 L213.6563,184.0469 L215.2813,184.0469 Q216.4531,184.0469 216.9219,183.6563 Q217.3906,183.25 217.3906,182.25 Q217.3906,181.25 216.8906,180.8125 Q216.4063,180.375 215.2813,180.375 L213.6563,180.375 Z M213.6563,175.5469 L213.6563,178.4219 L215.2813,178.4219 Q216.2031,178.4219 216.5938,178.0938 Q217,177.75 217,177 Q217,176.2344 216.5938,175.8906 Q216.1875,175.5469 215.2813,175.5469 L213.6563,175.5469 Z M211.2813,173.5938 L215.2813,173.5938 Q217.3438,173.5938 218.3906,174.375 Q219.4375,175.1563 219.4375,176.7188 Q219.4375,177.9219 218.8125,178.5938 Q218.2031,179.2656 217.0156,179.375 Q218.4375,179.5156 219.1563,180.3281 Q219.875,181.1406 219.875,182.5938 Q219.875,184.3906 218.7969,185.2031 Q217.7188,186 215.2813,186 L211.2813,186 L211.2813,173.5938 Z \"/><text fill=\"#000000\" font-family=\"sans-serif\" font-size=\"12\" lengthAdjust=\"spacingAndGlyphs\" textLength=\"8\" x=\"235.25\" y=\"184.1543\">C</text><line style=\"stroke: #A80036; stroke-width: 1.5;\" x1=\"168.5\" x2=\"277.5\" y1=\"196\" y2=\"196\"/><text fill=\"#000000\" font-family=\"sans-serif\" font-size=\"11\" lengthAdjust=\"spacingAndGlyphs\" textLength=\"38\" x=\"173.5\" y=\"210.2104\">x: Real</text><text fill=\"#000000\" font-family=\"sans-serif\" font-size=\"11\" lengthAdjust=\"spacingAndGlyphs\" textLength=\"69\" x=\"173.5\" y=\"239.8198\">x_constraint</text><line style=\"stroke: #A80036; stroke-width: 1.0;\" x1=\"168.5\" x2=\"171.5\" y1=\"223.207\" y2=\"223.207\"/><text fill=\"#000000\" font-family=\"sans-serif\" font-size=\"11\" lengthAdjust=\"spacingAndGlyphs\" textLength=\"103\" x=\"171.5\" y=\"226.5151\">assertConstraints</text><line style=\"stroke: #A80036; stroke-width: 1.0;\" x1=\"274.5\" x2=\"277.5\" y1=\"223.207\" y2=\"223.207\"/></a><!--MD5=[270fce915f116d4de14055a7c1d9a0f3]\n",
       "class E5--><a href=\"psysml:ff423fdb-a5ad-4383-b75e-3a1966f8baa4\" target=\"_top\" title=\"psysml:ff423fdb-a5ad-4383-b75e-3a1966f8baa4\" xlink:actuate=\"onRequest\" xlink:href=\"psysml:ff423fdb-a5ad-4383-b75e-3a1966f8baa4\" xlink:show=\"new\" xlink:title=\"psysml:ff423fdb-a5ad-4383-b75e-3a1966f8baa4\" xlink:type=\"simple\"><rect fill=\"#FEFECE\" filter=\"url(#f1hzja5hr6rwei)\" height=\"45.9375\" id=\"E5\" style=\"stroke: #A80036; stroke-width: 1.5;\" width=\"105\" x=\"68.5\" y=\"41\"/><ellipse cx=\"83.5\" cy=\"59.9688\" fill=\"#A52A2A\" rx=\"11\" ry=\"11\" style=\"stroke: #A80036; stroke-width: 1.0;\"/><path d=\"M83.0938,55.7813 L83.0938,63.7656 L83.75,63.7656 Q85.1875,63.7656 85.7969,62.8594 Q86.4219,61.9375 86.4219,59.7656 Q86.4219,57.5938 85.7969,56.6875 Q85.1875,55.7813 83.75,55.7813 L83.0938,55.7813 Z M80.6406,53.5781 L83.2656,53.5781 Q86.2969,53.5781 87.625,55.0313 Q88.9688,56.4688 88.9688,59.7656 Q88.9688,63.0625 87.625,64.5156 Q86.2969,65.9688 83.2656,65.9688 L80.6406,65.9688 L80.6406,53.5781 Z \"/><text fill=\"#000000\" font-family=\"sans-serif\" font-size=\"12\" font-style=\"italic\" lengthAdjust=\"spacingAndGlyphs\" textLength=\"77\" x=\"95.5\" y=\"57.1387\">«action def»</text><text fill=\"#000000\" font-family=\"sans-serif\" font-size=\"12\" lengthAdjust=\"spacingAndGlyphs\" textLength=\"27\" x=\"120.5\" y=\"71.1074\">setX</text><line style=\"stroke: #A80036; stroke-width: 1.5;\" x1=\"69.5\" x2=\"172.5\" y1=\"78.9375\" y2=\"78.9375\"/></a><!--MD5=[6f107eb264eda4b26325f39a5516f1f3]\n",
       "reverse link E5 to E3--><a href=\"psysml:4c2c889d-aea7-4bfd-be6e-45844659a6a1\" target=\"_top\" title=\"psysml:4c2c889d-aea7-4bfd-be6e-45844659a6a1\" xlink:actuate=\"onRequest\" xlink:href=\"psysml:4c2c889d-aea7-4bfd-be6e-45844659a6a1\" xlink:show=\"new\" xlink:title=\"psysml:4c2c889d-aea7-4bfd-be6e-45844659a6a1\" xlink:type=\"simple\"><path d=\"M144.97,97.67 C159.5,117.47 178.14,142.87 193.56,163.88 \" fill=\"none\" id=\"E5&lt;-E3\" style=\"stroke: #A80036; stroke-width: 1.0;\"/><polygon fill=\"#FFFFFF\" points=\"137.16,87.02,137.4872,94.2237,144.2626,96.6922,143.9354,89.4886,137.16,87.02\" style=\"stroke: #A80036; stroke-width: 1.0;\"/><text fill=\"#000000\" font-family=\"sans-serif\" font-size=\"13\" lengthAdjust=\"spacingAndGlyphs\" textLength=\"7\" x=\"169\" y=\"130.0669\">c</text></a><!--MD5=[f51c6d1f1856fe338ac0413483fb1ccf]\n",
       "reverse link E5 to E2--><a href=\"psysml:471b2978-4f3d-4f5c-bcaa-50341599c3a3\" target=\"_top\" title=\"psysml:471b2978-4f3d-4f5c-bcaa-50341599c3a3\" xlink:actuate=\"onRequest\" xlink:href=\"psysml:471b2978-4f3d-4f5c-bcaa-50341599c3a3\" xlink:show=\"new\" xlink:title=\"psysml:471b2978-4f3d-4f5c-bcaa-50341599c3a3\" xlink:type=\"simple\"><path d=\"M111.31,99.55 C104.11,125.21 94.5,159.45 88.28,181.62 \" fill=\"none\" id=\"E5&lt;-E2\" style=\"stroke: #A80036; stroke-width: 1.0;\"/><polygon fill=\"#FFFFFF\" points=\"114.82,87.02,109.3468,91.7151,111.5756,98.5731,117.0489,93.878,114.82,87.02\" style=\"stroke: #A80036; stroke-width: 1.0;\"/><text fill=\"#000000\" font-family=\"sans-serif\" font-size=\"13\" lengthAdjust=\"spacingAndGlyphs\" textLength=\"33\" x=\"107\" y=\"130.0669\">newX</text></a><!--MD5=[2c7fedcd4fe3fac9753199ff1ccf86be]\n",
       "@startuml\r\n",
       " \r\n",
       "package \"TextualRepresentationTest\" as E1  [[psysml:0fc68415-d7d0-4850-b93e-796cf2adc089 ]]  {\r\n",
       "comp def \"Real\" as E2  <<(T,blue)dataType>> [[psysml:3f2a97d7-c1a2-4f9b-b443-e0389101b303 ]] {\r\n",
       "}\r\n",
       "comp def \"C\" as E3  << (B,green) >> [[psysml:bb207011-903d-4a71-a2f5-e51b80009fec ]] {\r\n",
       "x: Real\r\n",
       "- - assertConstraints - -\r\n",
       "x_constraint\r\n",
       "}\r\n",
       "comp def \"setX\" as E5  <<(D,brown)action def>> [[psysml:ff423fdb-a5ad-4383-b75e-3a1966f8baa4 ]] {\r\n",
       "}\r\n",
       "E5 o- - E3 [[psysml:4c2c889d-aea7-4bfd-be6e-45844659a6a1 ]] : c\r\n",
       "E5 o- - E2 [[psysml:471b2978-4f3d-4f5c-bcaa-50341599c3a3 ]] : newX\r\n",
       "}\r\n",
       "@enduml\r\n",
       "\n",
       "PlantUML version 1.2020.13(Sat Jun 13 12:26:38 UTC 2020)\n",
       "(EPL source distribution)\n",
       "Java Runtime: OpenJDK Runtime Environment\n",
       "JVM: OpenJDK 64-Bit Server VM\n",
       "Default Encoding: UTF-8\n",
       "Language: en\n",
       "Country: null\n",
       "--></g></svg>"
      ]
     },
     "execution_count": 35,
     "metadata": {},
     "output_type": "execute_result"
    }
   ],
   "source": [
    "%viz --style=\"PLANTUML\" --view=\"Sequence\" \"TextualRepresentationTest\""
   ]
  },
  {
   "cell_type": "code",
   "execution_count": 36,
   "id": "unknown-salon",
   "metadata": {
    "execution": {
     "iopub.execute_input": "2021-03-25T15:08:40.956104Z",
     "iopub.status.busy": "2021-03-25T15:08:40.955404Z",
     "iopub.status.idle": "2021-03-25T15:08:41.287921Z",
     "shell.execute_reply": "2021-03-25T15:08:41.286645Z"
    }
   },
   "outputs": [
    {
     "data": {
      "image/svg+xml": [
       "<?xml version=\"1.0\" encoding=\"UTF-8\" standalone=\"no\"?><svg xmlns=\"http://www.w3.org/2000/svg\" xmlns:xlink=\"http://www.w3.org/1999/xlink\" contentScriptType=\"application/ecmascript\" contentStyleType=\"text/css\" height=\"262px\" preserveAspectRatio=\"none\" style=\"width:458px;height:262px;\" version=\"1.1\" viewBox=\"0 0 458 262\" width=\"458px\" zoomAndPan=\"magnify\"><defs><filter height=\"300%\" id=\"f1cmdagr6zxbc\" width=\"300%\" x=\"-1\" y=\"-1\"><feGaussianBlur result=\"blurOut\" stdDeviation=\"2.0\"/><feColorMatrix in=\"blurOut\" result=\"blurOut2\" type=\"matrix\" values=\"0 0 0 0 0 0 0 0 0 0 0 0 0 0 0 0 0 0 .4 0\"/><feOffset dx=\"4.0\" dy=\"4.0\" in=\"blurOut2\" result=\"blurOut3\"/><feBlend in=\"SourceGraphic\" in2=\"blurOut3\" mode=\"normal\"/></filter></defs><g><!--MD5=[fbc87193dbaf4d95561dea2c320d4a47]\n",
       "cluster E1--><a href=\"psysml:0fc68415-d7d0-4850-b93e-796cf2adc089\" target=\"_top\" title=\"psysml:0fc68415-d7d0-4850-b93e-796cf2adc089\" xlink:actuate=\"onRequest\" xlink:href=\"psysml:0fc68415-d7d0-4850-b93e-796cf2adc089\" xlink:show=\"new\" xlink:title=\"psysml:0fc68415-d7d0-4850-b93e-796cf2adc089\" xlink:type=\"simple\"><polygon fill=\"#FFFFFF\" filter=\"url(#f1cmdagr6zxbc)\" points=\"16,6,236,6,243,28.2969,436,28.2969,436,250,16,250,16,6\" style=\"stroke: #000000; stroke-width: 1.5;\"/><line style=\"stroke: #000000; stroke-width: 1.5;\" x1=\"16\" x2=\"243\" y1=\"28.2969\" y2=\"28.2969\"/><text fill=\"#000000\" font-family=\"sans-serif\" font-size=\"14\" font-weight=\"bold\" lengthAdjust=\"spacingAndGlyphs\" textLength=\"214\" x=\"20\" y=\"20.9951\">TextualRepresentationTest</text></a><!--MD5=[de5ec2e2e8f62f467e546659f5068c88]\n",
       "cluster E5--><a href=\"psysml:ff423fdb-a5ad-4383-b75e-3a1966f8baa4\" target=\"_top\" title=\"psysml:ff423fdb-a5ad-4383-b75e-3a1966f8baa4\" xlink:actuate=\"onRequest\" xlink:href=\"psysml:ff423fdb-a5ad-4383-b75e-3a1966f8baa4\" xlink:show=\"new\" xlink:title=\"psysml:ff423fdb-a5ad-4383-b75e-3a1966f8baa4\" xlink:type=\"simple\"><rect fill=\"#FFFFFF\" filter=\"url(#f1cmdagr6zxbc)\" height=\"152\" id=\"E5\" style=\"stroke: #A80036; stroke-width: 1.5;\" width=\"96\" x=\"294.5\" y=\"82\"/><rect fill=\"#FEFECE\" height=\"37.9375\" style=\"stroke: #A80036; stroke-width: 1.5;\" width=\"96\" x=\"294.5\" y=\"82\"/><text fill=\"#000000\" font-family=\"sans-serif\" font-size=\"12\" font-style=\"italic\" lengthAdjust=\"spacingAndGlyphs\" textLength=\"77\" x=\"304\" y=\"98.1387\">«action def»</text><text fill=\"#000000\" font-family=\"sans-serif\" font-size=\"12\" lengthAdjust=\"spacingAndGlyphs\" textLength=\"27\" x=\"329\" y=\"112.1074\">setX</text></a><!--MD5=[b4997ac47864f28c2f74865a473b2911]\n",
       "class E2--><a href=\"psysml:3f2a97d7-c1a2-4f9b-b443-e0389101b303\" target=\"_top\" title=\"psysml:3f2a97d7-c1a2-4f9b-b443-e0389101b303\" xlink:actuate=\"onRequest\" xlink:href=\"psysml:3f2a97d7-c1a2-4f9b-b443-e0389101b303\" xlink:show=\"new\" xlink:title=\"psysml:3f2a97d7-c1a2-4f9b-b443-e0389101b303\" xlink:type=\"simple\"><rect fill=\"#FEFECE\" filter=\"url(#f1cmdagr6zxbc)\" height=\"45.9375\" id=\"E2\" style=\"stroke: #A80036; stroke-width: 1.5;\" width=\"100\" x=\"178\" y=\"59\"/><ellipse cx=\"193\" cy=\"77.9688\" fill=\"#0000FF\" rx=\"11\" ry=\"11\" style=\"stroke: #A80036; stroke-width: 1.0;\"/><path d=\"M193.8438,84.7188 L191.3906,84.7188 L191.3906,74.4688 L188.25,74.4688 L188.25,72.3281 L196.9844,72.3281 L196.9844,74.4688 L193.8438,74.4688 L193.8438,84.7188 Z \"/><text fill=\"#000000\" font-family=\"sans-serif\" font-size=\"12\" font-style=\"italic\" lengthAdjust=\"spacingAndGlyphs\" textLength=\"72\" x=\"205\" y=\"75.1387\">«dataType»</text><text fill=\"#000000\" font-family=\"sans-serif\" font-size=\"12\" lengthAdjust=\"spacingAndGlyphs\" textLength=\"27\" x=\"227.5\" y=\"89.1074\">Real</text><line style=\"stroke: #A80036; stroke-width: 1.5;\" x1=\"179\" x2=\"277\" y1=\"96.9375\" y2=\"96.9375\"/></a><!--MD5=[09b614a08d8cba4a07c9adeb5e0fee81]\n",
       "class E3--><a href=\"psysml:bb207011-903d-4a71-a2f5-e51b80009fec\" target=\"_top\" title=\"psysml:bb207011-903d-4a71-a2f5-e51b80009fec\" xlink:actuate=\"onRequest\" xlink:href=\"psysml:bb207011-903d-4a71-a2f5-e51b80009fec\" xlink:show=\"new\" xlink:title=\"psysml:bb207011-903d-4a71-a2f5-e51b80009fec\" xlink:type=\"simple\"><rect fill=\"#FEFECE\" filter=\"url(#f1cmdagr6zxbc)\" height=\"82.4141\" id=\"E3\" style=\"stroke: #A80036; stroke-width: 1.5;\" width=\"111\" x=\"31.5\" y=\"41\"/><ellipse cx=\"78.75\" cy=\"57\" fill=\"#008000\" rx=\"11\" ry=\"11\" style=\"stroke: #A80036; stroke-width: 1.0;\"/><path d=\"M77.6563,57.375 L77.6563,61.0469 L79.2813,61.0469 Q80.4531,61.0469 80.9219,60.6563 Q81.3906,60.25 81.3906,59.25 Q81.3906,58.25 80.8906,57.8125 Q80.4063,57.375 79.2813,57.375 L77.6563,57.375 Z M77.6563,52.5469 L77.6563,55.4219 L79.2813,55.4219 Q80.2031,55.4219 80.5938,55.0938 Q81,54.75 81,54 Q81,53.2344 80.5938,52.8906 Q80.1875,52.5469 79.2813,52.5469 L77.6563,52.5469 Z M75.2813,50.5938 L79.2813,50.5938 Q81.3438,50.5938 82.3906,51.375 Q83.4375,52.1563 83.4375,53.7188 Q83.4375,54.9219 82.8125,55.5938 Q82.2031,56.2656 81.0156,56.375 Q82.4375,56.5156 83.1563,57.3281 Q83.875,58.1406 83.875,59.5938 Q83.875,61.3906 82.7969,62.2031 Q81.7188,63 79.2813,63 L75.2813,63 L75.2813,50.5938 Z \"/><text fill=\"#000000\" font-family=\"sans-serif\" font-size=\"12\" lengthAdjust=\"spacingAndGlyphs\" textLength=\"8\" x=\"99.25\" y=\"61.1543\">C</text><line style=\"stroke: #A80036; stroke-width: 1.5;\" x1=\"32.5\" x2=\"141.5\" y1=\"73\" y2=\"73\"/><text fill=\"#000000\" font-family=\"sans-serif\" font-size=\"11\" lengthAdjust=\"spacingAndGlyphs\" textLength=\"38\" x=\"37.5\" y=\"87.2104\">x: Real</text><text fill=\"#000000\" font-family=\"sans-serif\" font-size=\"11\" lengthAdjust=\"spacingAndGlyphs\" textLength=\"69\" x=\"37.5\" y=\"116.8198\">x_constraint</text><line style=\"stroke: #A80036; stroke-width: 1.0;\" x1=\"32.5\" x2=\"35.5\" y1=\"100.207\" y2=\"100.207\"/><text fill=\"#000000\" font-family=\"sans-serif\" font-size=\"11\" lengthAdjust=\"spacingAndGlyphs\" textLength=\"103\" x=\"35.5\" y=\"103.5151\">assertConstraints</text><line style=\"stroke: #A80036; stroke-width: 1.0;\" x1=\"138.5\" x2=\"141.5\" y1=\"100.207\" y2=\"100.207\"/></a><text fill=\"#000000\" font-family=\"sans-serif\" font-size=\"14\" lengthAdjust=\"spacingAndGlyphs\" textLength=\"8\" x=\"315\" y=\"60.6982\">c</text><rect fill=\"#A80036\" height=\"12\" style=\"stroke: #FEFECE; stroke-width: 1.5;\" width=\"12\" x=\"313\" y=\"76\"/><text fill=\"#000000\" font-family=\"sans-serif\" font-size=\"14\" lengthAdjust=\"spacingAndGlyphs\" textLength=\"38\" x=\"347\" y=\"60.6982\">newX</text><rect fill=\"#A80036\" height=\"12\" style=\"stroke: #FEFECE; stroke-width: 1.5;\" width=\"12\" x=\"360\" y=\"76\"/><!--MD5=[7b0b3fa95c458e5e41acef58457159da]\n",
       "@startuml\r\n",
       " \r\n",
       "package \"TextualRepresentationTest\" as E1  [[psysml:0fc68415-d7d0-4850-b93e-796cf2adc089 ]]  {\r\n",
       "comp def \"Real\" as E2  <<(T,blue)dataType>> [[psysml:3f2a97d7-c1a2-4f9b-b443-e0389101b303 ]] {\r\n",
       "}\r\n",
       "comp def \"C\" as E3  << (B,green) >> [[psysml:bb207011-903d-4a71-a2f5-e51b80009fec ]] {\r\n",
       "x: Real\r\n",
       "- - assertConstraints - -\r\n",
       "x_constraint\r\n",
       "}\r\n",
       "rec def \"setX\" as E5  <<(D,brown)action def>> [[psysml:ff423fdb-a5ad-4383-b75e-3a1966f8baa4 ]] {\r\n",
       "portin \"c\" as E6  [[psysml:4c2c889d-aea7-4bfd-be6e-45844659a6a1 ]] \r\n",
       "portin \"newX\" as E7  [[psysml:471b2978-4f3d-4f5c-bcaa-50341599c3a3 ]] \r\n",
       "}\r\n",
       "\r\n",
       "}\r\n",
       "@enduml\r\n",
       "\n",
       "PlantUML version 1.2020.13(Sat Jun 13 12:26:38 UTC 2020)\n",
       "(EPL source distribution)\n",
       "Java Runtime: OpenJDK Runtime Environment\n",
       "JVM: OpenJDK 64-Bit Server VM\n",
       "Default Encoding: UTF-8\n",
       "Language: en\n",
       "Country: null\n",
       "--></g></svg>"
      ]
     },
     "execution_count": 36,
     "metadata": {},
     "output_type": "execute_result"
    }
   ],
   "source": [
    "%viz --style=\"PLANTUML\" --view=\"MIXED\" \"TextualRepresentationTest\""
   ]
  },
  {
   "cell_type": "code",
   "execution_count": 37,
   "id": "angry-sleeping",
   "metadata": {
    "execution": {
     "iopub.execute_input": "2021-03-25T15:08:41.339561Z",
     "iopub.status.busy": "2021-03-25T15:08:41.339067Z",
     "iopub.status.idle": "2021-03-25T15:08:41.761680Z",
     "shell.execute_reply": "2021-03-25T15:08:41.760277Z"
    }
   },
   "outputs": [
    {
     "data": {
      "image/svg+xml": [
       "<?xml version=\"1.0\" encoding=\"UTF-8\" standalone=\"no\"?><svg xmlns=\"http://www.w3.org/2000/svg\" xmlns:xlink=\"http://www.w3.org/1999/xlink\" contentScriptType=\"application/ecmascript\" contentStyleType=\"text/css\" height=\"285px\" preserveAspectRatio=\"none\" style=\"width:432px;height:285px;\" version=\"1.1\" viewBox=\"0 0 432 285\" width=\"432px\" zoomAndPan=\"magnify\"><defs/><g><!--MD5=[fbc87193dbaf4d95561dea2c320d4a47]\n",
       "cluster E1--><a href=\"psysml:0fc68415-d7d0-4850-b93e-796cf2adc089\" target=\"_top\" title=\"psysml:0fc68415-d7d0-4850-b93e-796cf2adc089\" xlink:actuate=\"onRequest\" xlink:href=\"psysml:0fc68415-d7d0-4850-b93e-796cf2adc089\" xlink:show=\"new\" xlink:title=\"psysml:0fc68415-d7d0-4850-b93e-796cf2adc089\" xlink:type=\"simple\"><polygon fill=\"#FFFFFF\" points=\"16,6,236,6,243,28.2969,410,28.2969,410,273,16,273,16,6\" style=\"stroke: #000000; stroke-width: 1.5;\"/><line style=\"stroke: #000000; stroke-width: 1.5;\" x1=\"16\" x2=\"243\" y1=\"28.2969\" y2=\"28.2969\"/><text fill=\"#000000\" font-family=\"sans-serif\" font-size=\"14\" font-weight=\"bold\" lengthAdjust=\"spacingAndGlyphs\" textLength=\"214\" x=\"20\" y=\"20.9951\">TextualRepresentationTest</text></a><!--MD5=[de5ec2e2e8f62f467e546659f5068c88]\n",
       "cluster E5--><a href=\"psysml:ff423fdb-a5ad-4383-b75e-3a1966f8baa4\" target=\"_top\" title=\"psysml:ff423fdb-a5ad-4383-b75e-3a1966f8baa4\" xlink:actuate=\"onRequest\" xlink:href=\"psysml:ff423fdb-a5ad-4383-b75e-3a1966f8baa4\" xlink:show=\"new\" xlink:title=\"psysml:ff423fdb-a5ad-4383-b75e-3a1966f8baa4\" xlink:type=\"simple\"><rect fill=\"#FFFFFF\" height=\"163.5\" id=\"E5\" style=\"stroke: #383838; stroke-width: 1.5;\" width=\"96\" x=\"268.5\" y=\"93.5\"/><rect fill=\"#F8F8F8\" height=\"37.9375\" style=\"stroke: #383838; stroke-width: 1.5;\" width=\"96\" x=\"268.5\" y=\"93.5\"/><text fill=\"#000000\" font-family=\"sans-serif\" font-size=\"12\" font-style=\"italic\" lengthAdjust=\"spacingAndGlyphs\" textLength=\"77\" x=\"278\" y=\"109.6387\">«action def»</text><text fill=\"#000000\" font-family=\"sans-serif\" font-size=\"12\" lengthAdjust=\"spacingAndGlyphs\" textLength=\"27\" x=\"303\" y=\"123.6074\">setX</text></a><!--MD5=[b4997ac47864f28c2f74865a473b2911]\n",
       "class E2--><a href=\"psysml:3f2a97d7-c1a2-4f9b-b443-e0389101b303\" target=\"_top\" title=\"psysml:3f2a97d7-c1a2-4f9b-b443-e0389101b303\" xlink:actuate=\"onRequest\" xlink:href=\"psysml:3f2a97d7-c1a2-4f9b-b443-e0389101b303\" xlink:show=\"new\" xlink:title=\"psysml:3f2a97d7-c1a2-4f9b-b443-e0389101b303\" xlink:type=\"simple\"><rect fill=\"#FFFFFF\" height=\"45.9375\" id=\"E2\" style=\"stroke: #383838; stroke-width: 1.5;\" width=\"74\" x=\"178\" y=\"70.5\"/><text fill=\"#000000\" font-family=\"sans-serif\" font-size=\"12\" font-style=\"italic\" lengthAdjust=\"spacingAndGlyphs\" textLength=\"72\" x=\"179\" y=\"86.6387\">«dataType»</text><text fill=\"#000000\" font-family=\"sans-serif\" font-size=\"12\" lengthAdjust=\"spacingAndGlyphs\" textLength=\"27\" x=\"201.5\" y=\"100.6074\">Real</text><line style=\"stroke: #383838; stroke-width: 1.5;\" x1=\"179\" x2=\"251\" y1=\"108.4375\" y2=\"108.4375\"/></a><!--MD5=[09b614a08d8cba4a07c9adeb5e0fee81]\n",
       "class E3--><a href=\"psysml:bb207011-903d-4a71-a2f5-e51b80009fec\" target=\"_top\" title=\"psysml:bb207011-903d-4a71-a2f5-e51b80009fec\" xlink:actuate=\"onRequest\" xlink:href=\"psysml:bb207011-903d-4a71-a2f5-e51b80009fec\" xlink:show=\"new\" xlink:title=\"psysml:bb207011-903d-4a71-a2f5-e51b80009fec\" xlink:type=\"simple\"><rect fill=\"#FFFFFF\" height=\"105.1563\" id=\"E3\" style=\"stroke: #383838; stroke-width: 1.5;\" width=\"111\" x=\"31.5\" y=\"41\"/><text fill=\"#000000\" font-family=\"sans-serif\" font-size=\"12\" font-style=\"italic\" lengthAdjust=\"spacingAndGlyphs\" textLength=\"65\" x=\"54.5\" y=\"57.1387\">«item def»</text><text fill=\"#000000\" font-family=\"sans-serif\" font-size=\"12\" lengthAdjust=\"spacingAndGlyphs\" textLength=\"8\" x=\"83\" y=\"71.1074\">C</text><line style=\"stroke: #383838; stroke-width: 1.5;\" x1=\"32.5\" x2=\"141.5\" y1=\"78.9375\" y2=\"78.9375\"/><text fill=\"#000000\" font-family=\"sans-serif\" font-size=\"11\" lengthAdjust=\"spacingAndGlyphs\" textLength=\"38\" x=\"37.5\" y=\"109.9526\">x: Real</text><line style=\"stroke: #383838; stroke-width: 1.0;\" x1=\"32.5\" x2=\"59.5\" y1=\"93.3398\" y2=\"93.3398\"/><text fill=\"#000000\" font-family=\"sans-serif\" font-size=\"11\" lengthAdjust=\"spacingAndGlyphs\" textLength=\"55\" x=\"59.5\" y=\"96.6479\">attributes</text><line style=\"stroke: #383838; stroke-width: 1.0;\" x1=\"114.5\" x2=\"141.5\" y1=\"93.3398\" y2=\"93.3398\"/><text fill=\"#000000\" font-family=\"sans-serif\" font-size=\"11\" lengthAdjust=\"spacingAndGlyphs\" textLength=\"69\" x=\"37.5\" y=\"139.562\">x_constraint</text><line style=\"stroke: #383838; stroke-width: 1.0;\" x1=\"32.5\" x2=\"35.5\" y1=\"122.9492\" y2=\"122.9492\"/><text fill=\"#000000\" font-family=\"sans-serif\" font-size=\"11\" lengthAdjust=\"spacingAndGlyphs\" textLength=\"103\" x=\"35.5\" y=\"126.2573\">assertConstraints</text><line style=\"stroke: #383838; stroke-width: 1.0;\" x1=\"138.5\" x2=\"141.5\" y1=\"122.9492\" y2=\"122.9492\"/></a><text fill=\"#000000\" font-family=\"sans-serif\" font-size=\"14\" lengthAdjust=\"spacingAndGlyphs\" textLength=\"8\" x=\"289\" y=\"72.1982\">c</text><rect fill=\"#383838\" height=\"12\" style=\"stroke: #F8F8F8; stroke-width: 1.5;\" width=\"12\" x=\"287\" y=\"87.5\"/><text fill=\"#000000\" font-family=\"sans-serif\" font-size=\"14\" lengthAdjust=\"spacingAndGlyphs\" textLength=\"38\" x=\"321\" y=\"72.1982\">newX</text><rect fill=\"#383838\" height=\"12\" style=\"stroke: #F8F8F8; stroke-width: 1.5;\" width=\"12\" x=\"334\" y=\"87.5\"/><!--MD5=[f314054dc900e362d2344380fe877b11]\n",
       "@startuml\r\n",
       "skinparam monochrome true\r\n",
       "skinparam classbackgroundcolor white\r\n",
       "skinparam shadowing false\r\n",
       "skinparam wrapWidth 300\r\n",
       "hide circle\r\n",
       "\r\n",
       "package \"TextualRepresentationTest\" as E1  [[psysml:0fc68415-d7d0-4850-b93e-796cf2adc089 ]]  {\r\n",
       "comp def \"Real\" as E2  <<(T,blue)dataType>> [[psysml:3f2a97d7-c1a2-4f9b-b443-e0389101b303 ]] {\r\n",
       "}\r\n",
       "comp def \"C\" as E3  <<(T,blue)item def>> [[psysml:bb207011-903d-4a71-a2f5-e51b80009fec ]] {\r\n",
       "- - attributes - -\r\n",
       "x: Real\r\n",
       "- - assertConstraints - -\r\n",
       "x_constraint\r\n",
       "}\r\n",
       "rec def \"setX\" as E5  <<(T,blue)action def>> [[psysml:ff423fdb-a5ad-4383-b75e-3a1966f8baa4 ]] {\r\n",
       "portin \"c\" as E6  [[psysml:4c2c889d-aea7-4bfd-be6e-45844659a6a1 ]] \r\n",
       "portin \"newX\" as E7  [[psysml:471b2978-4f3d-4f5c-bcaa-50341599c3a3 ]] \r\n",
       "}\r\n",
       "\r\n",
       "}\r\n",
       "@enduml\r\n",
       "\n",
       "PlantUML version 1.2020.13(Sat Jun 13 12:26:38 UTC 2020)\n",
       "(EPL source distribution)\n",
       "Java Runtime: OpenJDK Runtime Environment\n",
       "JVM: OpenJDK 64-Bit Server VM\n",
       "Default Encoding: UTF-8\n",
       "Language: en\n",
       "Country: null\n",
       "--></g></svg>"
      ]
     },
     "execution_count": 37,
     "metadata": {},
     "output_type": "execute_result"
    }
   ],
   "source": [
    "%viz --style=\"DEFAULT\" --view=\"Default\" \"TextualRepresentationTest\""
   ]
  },
  {
   "cell_type": "code",
   "execution_count": 38,
   "id": "environmental-moldova",
   "metadata": {
    "execution": {
     "iopub.execute_input": "2021-03-25T15:08:41.811803Z",
     "iopub.status.busy": "2021-03-25T15:08:41.810767Z",
     "iopub.status.idle": "2021-03-25T15:08:42.219198Z",
     "shell.execute_reply": "2021-03-25T15:08:42.217851Z"
    }
   },
   "outputs": [
    {
     "data": {
      "image/svg+xml": [
       "<?xml version=\"1.0\" encoding=\"UTF-8\" standalone=\"no\"?><svg xmlns=\"http://www.w3.org/2000/svg\" xmlns:xlink=\"http://www.w3.org/1999/xlink\" contentScriptType=\"application/ecmascript\" contentStyleType=\"text/css\" height=\"297px\" preserveAspectRatio=\"none\" style=\"width:290px;height:297px;\" version=\"1.1\" viewBox=\"0 0 290 297\" width=\"290px\" zoomAndPan=\"magnify\"><defs/><g><!--MD5=[fbc87193dbaf4d95561dea2c320d4a47]\n",
       "cluster E1--><a href=\"psysml:0fc68415-d7d0-4850-b93e-796cf2adc089\" target=\"_top\" title=\"psysml:0fc68415-d7d0-4850-b93e-796cf2adc089\" xlink:actuate=\"onRequest\" xlink:href=\"psysml:0fc68415-d7d0-4850-b93e-796cf2adc089\" xlink:show=\"new\" xlink:title=\"psysml:0fc68415-d7d0-4850-b93e-796cf2adc089\" xlink:type=\"simple\"><polygon fill=\"#FFFFFF\" points=\"16,6,236,6,243,28.2969,268,28.2969,268,285,16,285,16,6\" style=\"stroke: #000000; stroke-width: 1.5;\"/><line style=\"stroke: #000000; stroke-width: 1.5;\" x1=\"16\" x2=\"243\" y1=\"28.2969\" y2=\"28.2969\"/><text fill=\"#000000\" font-family=\"sans-serif\" font-size=\"14\" font-weight=\"bold\" lengthAdjust=\"spacingAndGlyphs\" textLength=\"214\" x=\"20\" y=\"20.9951\">TextualRepresentationTest</text></a><!--MD5=[b4997ac47864f28c2f74865a473b2911]\n",
       "class E2--><a href=\"psysml:3f2a97d7-c1a2-4f9b-b443-e0389101b303\" target=\"_top\" title=\"psysml:3f2a97d7-c1a2-4f9b-b443-e0389101b303\" xlink:actuate=\"onRequest\" xlink:href=\"psysml:3f2a97d7-c1a2-4f9b-b443-e0389101b303\" xlink:show=\"new\" xlink:title=\"psysml:3f2a97d7-c1a2-4f9b-b443-e0389101b303\" xlink:type=\"simple\"><rect fill=\"#FFFFFF\" height=\"45.9375\" id=\"E2\" style=\"stroke: #383838; stroke-width: 1.5;\" width=\"74\" x=\"32\" y=\"193.5\"/><text fill=\"#000000\" font-family=\"sans-serif\" font-size=\"12\" font-style=\"italic\" lengthAdjust=\"spacingAndGlyphs\" textLength=\"72\" x=\"33\" y=\"209.6387\">«dataType»</text><text fill=\"#000000\" font-family=\"sans-serif\" font-size=\"12\" lengthAdjust=\"spacingAndGlyphs\" textLength=\"27\" x=\"55.5\" y=\"223.6074\">Real</text><line style=\"stroke: #383838; stroke-width: 1.5;\" x1=\"33\" x2=\"105\" y1=\"231.4375\" y2=\"231.4375\"/></a><!--MD5=[09b614a08d8cba4a07c9adeb5e0fee81]\n",
       "class E3--><a href=\"psysml:bb207011-903d-4a71-a2f5-e51b80009fec\" target=\"_top\" title=\"psysml:bb207011-903d-4a71-a2f5-e51b80009fec\" xlink:actuate=\"onRequest\" xlink:href=\"psysml:bb207011-903d-4a71-a2f5-e51b80009fec\" xlink:show=\"new\" xlink:title=\"psysml:bb207011-903d-4a71-a2f5-e51b80009fec\" xlink:type=\"simple\"><rect fill=\"#FFFFFF\" height=\"105.1563\" id=\"E3\" style=\"stroke: #383838; stroke-width: 1.5;\" width=\"111\" x=\"141.5\" y=\"164\"/><text fill=\"#000000\" font-family=\"sans-serif\" font-size=\"12\" font-style=\"italic\" lengthAdjust=\"spacingAndGlyphs\" textLength=\"65\" x=\"164.5\" y=\"180.1387\">«item def»</text><text fill=\"#000000\" font-family=\"sans-serif\" font-size=\"12\" lengthAdjust=\"spacingAndGlyphs\" textLength=\"8\" x=\"193\" y=\"194.1074\">C</text><line style=\"stroke: #383838; stroke-width: 1.5;\" x1=\"142.5\" x2=\"251.5\" y1=\"201.9375\" y2=\"201.9375\"/><text fill=\"#000000\" font-family=\"sans-serif\" font-size=\"11\" lengthAdjust=\"spacingAndGlyphs\" textLength=\"38\" x=\"147.5\" y=\"232.9526\">x: Real</text><line style=\"stroke: #383838; stroke-width: 1.0;\" x1=\"142.5\" x2=\"169.5\" y1=\"216.3398\" y2=\"216.3398\"/><text fill=\"#000000\" font-family=\"sans-serif\" font-size=\"11\" lengthAdjust=\"spacingAndGlyphs\" textLength=\"55\" x=\"169.5\" y=\"219.6479\">attributes</text><line style=\"stroke: #383838; stroke-width: 1.0;\" x1=\"224.5\" x2=\"251.5\" y1=\"216.3398\" y2=\"216.3398\"/><text fill=\"#000000\" font-family=\"sans-serif\" font-size=\"11\" lengthAdjust=\"spacingAndGlyphs\" textLength=\"69\" x=\"147.5\" y=\"262.562\">x_constraint</text><line style=\"stroke: #383838; stroke-width: 1.0;\" x1=\"142.5\" x2=\"145.5\" y1=\"245.9492\" y2=\"245.9492\"/><text fill=\"#000000\" font-family=\"sans-serif\" font-size=\"11\" lengthAdjust=\"spacingAndGlyphs\" textLength=\"103\" x=\"145.5\" y=\"249.2573\">assertConstraints</text><line style=\"stroke: #383838; stroke-width: 1.0;\" x1=\"248.5\" x2=\"251.5\" y1=\"245.9492\" y2=\"245.9492\"/></a><!--MD5=[270fce915f116d4de14055a7c1d9a0f3]\n",
       "class E5--><a href=\"psysml:ff423fdb-a5ad-4383-b75e-3a1966f8baa4\" target=\"_top\" title=\"psysml:ff423fdb-a5ad-4383-b75e-3a1966f8baa4\" xlink:actuate=\"onRequest\" xlink:href=\"psysml:ff423fdb-a5ad-4383-b75e-3a1966f8baa4\" xlink:show=\"new\" xlink:title=\"psysml:ff423fdb-a5ad-4383-b75e-3a1966f8baa4\" xlink:type=\"simple\"><rect fill=\"#FFFFFF\" height=\"45.9375\" id=\"E5\" style=\"stroke: #383838; stroke-width: 1.5;\" width=\"79\" x=\"67.5\" y=\"41\"/><text fill=\"#000000\" font-family=\"sans-serif\" font-size=\"12\" font-style=\"italic\" lengthAdjust=\"spacingAndGlyphs\" textLength=\"77\" x=\"68.5\" y=\"57.1387\">«action def»</text><text fill=\"#000000\" font-family=\"sans-serif\" font-size=\"12\" lengthAdjust=\"spacingAndGlyphs\" textLength=\"27\" x=\"93.5\" y=\"71.1074\">setX</text><line style=\"stroke: #383838; stroke-width: 1.5;\" x1=\"68.5\" x2=\"145.5\" y1=\"78.9375\" y2=\"78.9375\"/></a><!--MD5=[6f107eb264eda4b26325f39a5516f1f3]\n",
       "reverse link E5 to E3--><a href=\"psysml:4c2c889d-aea7-4bfd-be6e-45844659a6a1\" target=\"_top\" title=\"psysml:4c2c889d-aea7-4bfd-be6e-45844659a6a1\" xlink:actuate=\"onRequest\" xlink:href=\"psysml:4c2c889d-aea7-4bfd-be6e-45844659a6a1\" xlink:show=\"new\" xlink:title=\"psysml:4c2c889d-aea7-4bfd-be6e-45844659a6a1\" xlink:type=\"simple\"><path d=\"M126.98,98.42 C138.48,117.65 153.18,142.22 166.13,163.88 \" fill=\"none\" id=\"E5&lt;-E3\" style=\"stroke: #383838; stroke-width: 1.0;\"/><polygon fill=\"#FFFFFF\" points=\"120.28,87.21,119.9261,94.4124,126.4384,97.5092,126.7923,90.3068,120.28,87.21\" style=\"stroke: #383838; stroke-width: 1.0;\"/><text fill=\"#000000\" font-family=\"sans-serif\" font-size=\"13\" lengthAdjust=\"spacingAndGlyphs\" textLength=\"7\" x=\"147\" y=\"130.0669\">c</text></a><!--MD5=[f51c6d1f1856fe338ac0413483fb1ccf]\n",
       "reverse link E5 to E2--><a href=\"psysml:471b2978-4f3d-4f5c-bcaa-50341599c3a3\" target=\"_top\" title=\"psysml:471b2978-4f3d-4f5c-bcaa-50341599c3a3\" xlink:actuate=\"onRequest\" xlink:href=\"psysml:471b2978-4f3d-4f5c-bcaa-50341599c3a3\" xlink:show=\"new\" xlink:title=\"psysml:471b2978-4f3d-4f5c-bcaa-50341599c3a3\" xlink:type=\"simple\"><path d=\"M98.18,99.93 C90.92,128.69 80.84,168.6 74.63,193.2 \" fill=\"none\" id=\"E5&lt;-E2\" style=\"stroke: #383838; stroke-width: 1.0;\"/><polygon fill=\"#FFFFFF\" points=\"101.39,87.21,96.0413,92.0465,98.4485,98.8439,103.7972,94.0074,101.39,87.21\" style=\"stroke: #383838; stroke-width: 1.0;\"/><text fill=\"#000000\" font-family=\"sans-serif\" font-size=\"13\" lengthAdjust=\"spacingAndGlyphs\" textLength=\"33\" x=\"94\" y=\"130.0669\">newX</text></a><!--MD5=[25058412a9fb6765c7388d5b42d1cb86]\n",
       "@startuml\r\n",
       "skinparam monochrome true\r\n",
       "skinparam classbackgroundcolor white\r\n",
       "skinparam shadowing false\r\n",
       "skinparam wrapWidth 300\r\n",
       "hide circle\r\n",
       "\r\n",
       "package \"TextualRepresentationTest\" as E1  [[psysml:0fc68415-d7d0-4850-b93e-796cf2adc089 ]]  {\r\n",
       "comp def \"Real\" as E2  <<(T,blue)dataType>> [[psysml:3f2a97d7-c1a2-4f9b-b443-e0389101b303 ]] {\r\n",
       "}\r\n",
       "comp def \"C\" as E3  <<(T,blue)item def>> [[psysml:bb207011-903d-4a71-a2f5-e51b80009fec ]] {\r\n",
       "- - attributes - -\r\n",
       "x: Real\r\n",
       "- - assertConstraints - -\r\n",
       "x_constraint\r\n",
       "}\r\n",
       "comp def \"setX\" as E5  <<(T,blue)action def>> [[psysml:ff423fdb-a5ad-4383-b75e-3a1966f8baa4 ]] {\r\n",
       "}\r\n",
       "E5 o- - E3 [[psysml:4c2c889d-aea7-4bfd-be6e-45844659a6a1 ]] : c\r\n",
       "E5 o- - E2 [[psysml:471b2978-4f3d-4f5c-bcaa-50341599c3a3 ]] : newX\r\n",
       "}\r\n",
       "@enduml\r\n",
       "\n",
       "PlantUML version 1.2020.13(Sat Jun 13 12:26:38 UTC 2020)\n",
       "(EPL source distribution)\n",
       "Java Runtime: OpenJDK Runtime Environment\n",
       "JVM: OpenJDK 64-Bit Server VM\n",
       "Default Encoding: UTF-8\n",
       "Language: en\n",
       "Country: null\n",
       "--></g></svg>"
      ]
     },
     "execution_count": 38,
     "metadata": {},
     "output_type": "execute_result"
    }
   ],
   "source": [
    "%viz --style=\"DEFAULT\" --view=\"Tree\" \"TextualRepresentationTest\""
   ]
  },
  {
   "cell_type": "code",
   "execution_count": 39,
   "id": "awful-stanford",
   "metadata": {
    "execution": {
     "iopub.execute_input": "2021-03-25T15:08:42.270166Z",
     "iopub.status.busy": "2021-03-25T15:08:42.269637Z",
     "iopub.status.idle": "2021-03-25T15:08:42.276918Z",
     "shell.execute_reply": "2021-03-25T15:08:42.276440Z"
    }
   },
   "outputs": [
    {
     "data": {
      "image/svg+xml": [
       "<?xml version=\"1.0\" encoding=\"UTF-8\" standalone=\"no\"?><svg xmlns=\"http://www.w3.org/2000/svg\" xmlns:xlink=\"http://www.w3.org/1999/xlink\" contentScriptType=\"application/ecmascript\" contentStyleType=\"text/css\" height=\"12px\" preserveAspectRatio=\"none\" style=\"width:12px;height:12px;\" version=\"1.1\" viewBox=\"0 0 12 12\" width=\"12px\" zoomAndPan=\"magnify\"><defs/><g><!--MD5=[c5f280e076d0d61ccf4b0f27871bda1d]\n",
       "@startuml\r\n",
       "skinparam monochrome true\r\n",
       "skinparam classbackgroundcolor white\r\n",
       "skinparam shadowing false\r\n",
       "skinparam wrapWidth 300\r\n",
       "hide circle\r\n",
       "\r\n",
       "@enduml\r\n",
       "\n",
       "PlantUML version 1.2020.13(Sat Jun 13 12:26:38 UTC 2020)\n",
       "(EPL source distribution)\n",
       "Java Runtime: OpenJDK Runtime Environment\n",
       "JVM: OpenJDK 64-Bit Server VM\n",
       "Default Encoding: UTF-8\n",
       "Language: en\n",
       "Country: null\n",
       "--></g></svg>"
      ]
     },
     "execution_count": 39,
     "metadata": {},
     "output_type": "execute_result"
    }
   ],
   "source": [
    "%viz --style=\"DEFAULT\" --view=\"State\" \"TextualRepresentationTest\""
   ]
  },
  {
   "cell_type": "code",
   "execution_count": 40,
   "id": "standing-object",
   "metadata": {
    "execution": {
     "iopub.execute_input": "2021-03-25T15:08:42.328042Z",
     "iopub.status.busy": "2021-03-25T15:08:42.327463Z",
     "iopub.status.idle": "2021-03-25T15:08:42.401904Z",
     "shell.execute_reply": "2021-03-25T15:08:42.401382Z"
    }
   },
   "outputs": [
    {
     "data": {
      "image/svg+xml": [
       "<?xml version=\"1.0\" encoding=\"UTF-8\" standalone=\"no\"?><svg xmlns=\"http://www.w3.org/2000/svg\" xmlns:xlink=\"http://www.w3.org/1999/xlink\" contentScriptType=\"application/ecmascript\" contentStyleType=\"text/css\" height=\"123px\" preserveAspectRatio=\"none\" style=\"width:505px;height:123px;\" version=\"1.1\" viewBox=\"0 0 505 123\" width=\"505px\" zoomAndPan=\"magnify\"><defs/><g><!--MD5=[fbc87193dbaf4d95561dea2c320d4a47]\n",
       "cluster E1--><a href=\"psysml:0fc68415-d7d0-4850-b93e-796cf2adc089\" target=\"_top\" title=\"psysml:0fc68415-d7d0-4850-b93e-796cf2adc089\" xlink:actuate=\"onRequest\" xlink:href=\"psysml:0fc68415-d7d0-4850-b93e-796cf2adc089\" xlink:show=\"new\" xlink:title=\"psysml:0fc68415-d7d0-4850-b93e-796cf2adc089\" xlink:type=\"simple\"><polygon fill=\"#FFFFFF\" points=\"16,6,236,6,243,28.2969,483,28.2969,483,111,16,111,16,6\" style=\"stroke: #000000; stroke-width: 1.5;\"/><line style=\"stroke: #000000; stroke-width: 1.5;\" x1=\"16\" x2=\"243\" y1=\"28.2969\" y2=\"28.2969\"/><text fill=\"#000000\" font-family=\"sans-serif\" font-size=\"14\" font-weight=\"bold\" lengthAdjust=\"spacingAndGlyphs\" textLength=\"214\" x=\"20\" y=\"20.9951\">TextualRepresentationTest</text></a><!--MD5=[b4997ac47864f28c2f74865a473b2911]\n",
       "class E2--><a href=\"psysml:3f2a97d7-c1a2-4f9b-b443-e0389101b303\" target=\"_top\" title=\"psysml:3f2a97d7-c1a2-4f9b-b443-e0389101b303\" xlink:actuate=\"onRequest\" xlink:href=\"psysml:3f2a97d7-c1a2-4f9b-b443-e0389101b303\" xlink:show=\"new\" xlink:title=\"psysml:3f2a97d7-c1a2-4f9b-b443-e0389101b303\" xlink:type=\"simple\"><rect fill=\"#FFFFFF\" height=\"53.9375\" id=\"E2\" style=\"stroke: #383838; stroke-width: 1.5;\" width=\"122\" x=\"345\" y=\"41\"/><text fill=\"#000000\" font-family=\"sans-serif\" font-size=\"12\" font-style=\"italic\" lengthAdjust=\"spacingAndGlyphs\" textLength=\"120\" x=\"346\" y=\"57.1387\">«(T,blue)dataType»</text><text fill=\"#000000\" font-family=\"sans-serif\" font-size=\"12\" lengthAdjust=\"spacingAndGlyphs\" textLength=\"27\" x=\"392.5\" y=\"71.1074\">Real</text><line style=\"stroke: #383838; stroke-width: 1.5;\" x1=\"346\" x2=\"466\" y1=\"78.9375\" y2=\"78.9375\"/><line style=\"stroke: #383838; stroke-width: 1.5;\" x1=\"346\" x2=\"466\" y1=\"86.9375\" y2=\"86.9375\"/></a><!--MD5=[09b614a08d8cba4a07c9adeb5e0fee81]\n",
       "class E3--><a href=\"psysml:bb207011-903d-4a71-a2f5-e51b80009fec\" target=\"_top\" title=\"psysml:bb207011-903d-4a71-a2f5-e51b80009fec\" xlink:actuate=\"onRequest\" xlink:href=\"psysml:bb207011-903d-4a71-a2f5-e51b80009fec\" xlink:show=\"new\" xlink:title=\"psysml:bb207011-903d-4a71-a2f5-e51b80009fec\" xlink:type=\"simple\"><rect fill=\"#FFFFFF\" height=\"53.9375\" id=\"E3\" style=\"stroke: #383838; stroke-width: 1.5;\" width=\"115\" x=\"194.5\" y=\"41\"/><text fill=\"#000000\" font-family=\"sans-serif\" font-size=\"12\" font-style=\"italic\" lengthAdjust=\"spacingAndGlyphs\" textLength=\"113\" x=\"195.5\" y=\"57.1387\">«(T,blue)item def»</text><text fill=\"#000000\" font-family=\"sans-serif\" font-size=\"12\" lengthAdjust=\"spacingAndGlyphs\" textLength=\"8\" x=\"248\" y=\"71.1074\">C</text><line style=\"stroke: #383838; stroke-width: 1.5;\" x1=\"195.5\" x2=\"308.5\" y1=\"78.9375\" y2=\"78.9375\"/><line style=\"stroke: #383838; stroke-width: 1.5;\" x1=\"195.5\" x2=\"308.5\" y1=\"86.9375\" y2=\"86.9375\"/></a><!--MD5=[ebbe1d658d1005bcc118a6aa81145e00]\n",
       "class E4--><a href=\"psysml:ff423fdb-a5ad-4383-b75e-3a1966f8baa4\" target=\"_top\" title=\"psysml:ff423fdb-a5ad-4383-b75e-3a1966f8baa4\" xlink:actuate=\"onRequest\" xlink:href=\"psysml:ff423fdb-a5ad-4383-b75e-3a1966f8baa4\" xlink:show=\"new\" xlink:title=\"psysml:ff423fdb-a5ad-4383-b75e-3a1966f8baa4\" xlink:type=\"simple\"><rect fill=\"#FFFFFF\" height=\"53.9375\" id=\"E4\" style=\"stroke: #383838; stroke-width: 1.5;\" width=\"127\" x=\"32.5\" y=\"41\"/><text fill=\"#000000\" font-family=\"sans-serif\" font-size=\"12\" font-style=\"italic\" lengthAdjust=\"spacingAndGlyphs\" textLength=\"125\" x=\"33.5\" y=\"57.1387\">«(T,blue)action def»</text><text fill=\"#000000\" font-family=\"sans-serif\" font-size=\"12\" lengthAdjust=\"spacingAndGlyphs\" textLength=\"27\" x=\"82.5\" y=\"71.1074\">setX</text><line style=\"stroke: #383838; stroke-width: 1.5;\" x1=\"33.5\" x2=\"158.5\" y1=\"78.9375\" y2=\"78.9375\"/><line style=\"stroke: #383838; stroke-width: 1.5;\" x1=\"33.5\" x2=\"158.5\" y1=\"86.9375\" y2=\"86.9375\"/></a><!--MD5=[25e6289b2c110e0183cb654b838784c6]\n",
       "@startuml\r\n",
       "skinparam ranksep 8\r\n",
       "skinparam rectangle {\r\n",
       " backgroundColor<<block>> LightGreen\r\n",
       "}\r\n",
       "skinparam monochrome true\r\n",
       "skinparam classbackgroundcolor white\r\n",
       "skinparam shadowing false\r\n",
       "skinparam wrapWidth 300\r\n",
       "hide circle\r\n",
       "\r\n",
       "package \"TextualRepresentationTest\" as E1  [[psysml:0fc68415-d7d0-4850-b93e-796cf2adc089 ]]  {\r\n",
       "def \"Real\" as E2  <<(T,blue)dataType>> [[psysml:3f2a97d7-c1a2-4f9b-b443-e0389101b303 ]] \r\n",
       "def \"C\" as E3  <<(T,blue)item def>> [[psysml:bb207011-903d-4a71-a2f5-e51b80009fec ]] \r\n",
       "def \"setX\" as E4  <<(T,blue)action def>> [[psysml:ff423fdb-a5ad-4383-b75e-3a1966f8baa4 ]] \r\n",
       "}\r\n",
       "@enduml\r\n",
       "\n",
       "PlantUML version 1.2020.13(Sat Jun 13 12:26:38 UTC 2020)\n",
       "(EPL source distribution)\n",
       "Java Runtime: OpenJDK Runtime Environment\n",
       "JVM: OpenJDK 64-Bit Server VM\n",
       "Default Encoding: UTF-8\n",
       "Language: en\n",
       "Country: null\n",
       "--></g></svg>"
      ]
     },
     "execution_count": 40,
     "metadata": {},
     "output_type": "execute_result"
    }
   ],
   "source": [
    "%viz --style=\"DEFAULT\" --view=\"Interconnection\" \"TextualRepresentationTest\""
   ]
  },
  {
   "cell_type": "code",
   "execution_count": 41,
   "id": "expanded-liverpool",
   "metadata": {
    "execution": {
     "iopub.execute_input": "2021-03-25T15:08:42.452957Z",
     "iopub.status.busy": "2021-03-25T15:08:42.452316Z",
     "iopub.status.idle": "2021-03-25T15:08:42.523960Z",
     "shell.execute_reply": "2021-03-25T15:08:42.523538Z"
    }
   },
   "outputs": [
    {
     "data": {
      "image/svg+xml": [
       "<?xml version=\"1.0\" encoding=\"UTF-8\" standalone=\"no\"?><svg xmlns=\"http://www.w3.org/2000/svg\" xmlns:xlink=\"http://www.w3.org/1999/xlink\" contentScriptType=\"application/ecmascript\" contentStyleType=\"text/css\" height=\"126px\" preserveAspectRatio=\"none\" style=\"width:150px;height:126px;\" version=\"1.1\" viewBox=\"0 0 150 126\" width=\"150px\" zoomAndPan=\"magnify\"><defs/><g><!--MD5=[fbc87193dbaf4d95561dea2c320d4a47]\n",
       "cluster E1--><a href=\"psysml:ff423fdb-a5ad-4383-b75e-3a1966f8baa4\" target=\"_top\" title=\"psysml:ff423fdb-a5ad-4383-b75e-3a1966f8baa4\" xlink:actuate=\"onRequest\" xlink:href=\"psysml:ff423fdb-a5ad-4383-b75e-3a1966f8baa4\" xlink:show=\"new\" xlink:title=\"psysml:ff423fdb-a5ad-4383-b75e-3a1966f8baa4\" xlink:type=\"simple\"><rect fill=\"#FFFFFF\" height=\"73\" id=\"E1\" style=\"stroke: #383838; stroke-width: 1.5;\" width=\"132\" x=\"7\" y=\"42.0986\"/><rect fill=\"#F8F8F8\" height=\"37.9375\" style=\"stroke: #383838; stroke-width: 1.5;\" width=\"132\" x=\"7\" y=\"42.0986\"/><text fill=\"#000000\" font-family=\"sans-serif\" font-size=\"12\" font-style=\"italic\" lengthAdjust=\"spacingAndGlyphs\" textLength=\"77\" x=\"34.5\" y=\"58.2373\">«action def»</text><text fill=\"#000000\" font-family=\"sans-serif\" font-size=\"12\" lengthAdjust=\"spacingAndGlyphs\" textLength=\"27\" x=\"59.5\" y=\"72.2061\">setX</text></a><text fill=\"#000000\" font-family=\"sans-serif\" font-size=\"14\" lengthAdjust=\"spacingAndGlyphs\" textLength=\"8\" x=\"21\" y=\"20.7969\">c</text><rect fill=\"#383838\" height=\"12\" style=\"stroke: #F8F8F8; stroke-width: 1.5;\" width=\"12\" x=\"19\" y=\"36.0986\"/><text fill=\"#000000\" font-family=\"sans-serif\" font-size=\"14\" lengthAdjust=\"spacingAndGlyphs\" textLength=\"38\" x=\"53\" y=\"20.7969\">newX</text><rect fill=\"#383838\" height=\"12\" style=\"stroke: #F8F8F8; stroke-width: 1.5;\" width=\"12\" x=\"66\" y=\"36.0986\"/><!--MD5=[82b967ffff14a63e7fe817ea13c5946e]\n",
       "@startuml\r\n",
       "skinparam ranksep 8\r\n",
       "skinparam monochrome true\r\n",
       "skinparam classbackgroundcolor white\r\n",
       "skinparam shadowing false\r\n",
       "skinparam wrapWidth 300\r\n",
       "hide circle\r\n",
       "\r\n",
       "rec def \"setX\" as E1  <<(T,blue)action def>> [[psysml:ff423fdb-a5ad-4383-b75e-3a1966f8baa4 ]] {\r\n",
       "portin \"c\" as E2  [[psysml:4c2c889d-aea7-4bfd-be6e-45844659a6a1 ]] \r\n",
       "portin \"newX\" as E3  [[psysml:471b2978-4f3d-4f5c-bcaa-50341599c3a3 ]] \r\n",
       "}\r\n",
       "\r\n",
       "@enduml\r\n",
       "\n",
       "PlantUML version 1.2020.13(Sat Jun 13 12:26:38 UTC 2020)\n",
       "(EPL source distribution)\n",
       "Java Runtime: OpenJDK Runtime Environment\n",
       "JVM: OpenJDK 64-Bit Server VM\n",
       "Default Encoding: UTF-8\n",
       "Language: en\n",
       "Country: null\n",
       "--></g></svg>"
      ]
     },
     "execution_count": 41,
     "metadata": {},
     "output_type": "execute_result"
    }
   ],
   "source": [
    "%viz --style=\"DEFAULT\" --view=\"Action\" \"TextualRepresentationTest\""
   ]
  },
  {
   "cell_type": "code",
   "execution_count": 42,
   "id": "secondary-closer",
   "metadata": {
    "execution": {
     "iopub.execute_input": "2021-03-25T15:08:42.574736Z",
     "iopub.status.busy": "2021-03-25T15:08:42.574281Z",
     "iopub.status.idle": "2021-03-25T15:08:42.981563Z",
     "shell.execute_reply": "2021-03-25T15:08:42.979858Z"
    }
   },
   "outputs": [
    {
     "data": {
      "image/svg+xml": [
       "<?xml version=\"1.0\" encoding=\"UTF-8\" standalone=\"no\"?><svg xmlns=\"http://www.w3.org/2000/svg\" xmlns:xlink=\"http://www.w3.org/1999/xlink\" contentScriptType=\"application/ecmascript\" contentStyleType=\"text/css\" height=\"297px\" preserveAspectRatio=\"none\" style=\"width:290px;height:297px;\" version=\"1.1\" viewBox=\"0 0 290 297\" width=\"290px\" zoomAndPan=\"magnify\"><defs/><g><!--MD5=[fbc87193dbaf4d95561dea2c320d4a47]\n",
       "cluster E1--><a href=\"psysml:0fc68415-d7d0-4850-b93e-796cf2adc089\" target=\"_top\" title=\"psysml:0fc68415-d7d0-4850-b93e-796cf2adc089\" xlink:actuate=\"onRequest\" xlink:href=\"psysml:0fc68415-d7d0-4850-b93e-796cf2adc089\" xlink:show=\"new\" xlink:title=\"psysml:0fc68415-d7d0-4850-b93e-796cf2adc089\" xlink:type=\"simple\"><polygon fill=\"#FFFFFF\" points=\"16,6,236,6,243,28.2969,268,28.2969,268,285,16,285,16,6\" style=\"stroke: #000000; stroke-width: 1.5;\"/><line style=\"stroke: #000000; stroke-width: 1.5;\" x1=\"16\" x2=\"243\" y1=\"28.2969\" y2=\"28.2969\"/><text fill=\"#000000\" font-family=\"sans-serif\" font-size=\"14\" font-weight=\"bold\" lengthAdjust=\"spacingAndGlyphs\" textLength=\"214\" x=\"20\" y=\"20.9951\">TextualRepresentationTest</text></a><!--MD5=[b4997ac47864f28c2f74865a473b2911]\n",
       "class E2--><a href=\"psysml:3f2a97d7-c1a2-4f9b-b443-e0389101b303\" target=\"_top\" title=\"psysml:3f2a97d7-c1a2-4f9b-b443-e0389101b303\" xlink:actuate=\"onRequest\" xlink:href=\"psysml:3f2a97d7-c1a2-4f9b-b443-e0389101b303\" xlink:show=\"new\" xlink:title=\"psysml:3f2a97d7-c1a2-4f9b-b443-e0389101b303\" xlink:type=\"simple\"><rect fill=\"#FFFFFF\" height=\"45.9375\" id=\"E2\" style=\"stroke: #383838; stroke-width: 1.5;\" width=\"74\" x=\"32\" y=\"193.5\"/><text fill=\"#000000\" font-family=\"sans-serif\" font-size=\"12\" font-style=\"italic\" lengthAdjust=\"spacingAndGlyphs\" textLength=\"72\" x=\"33\" y=\"209.6387\">«dataType»</text><text fill=\"#000000\" font-family=\"sans-serif\" font-size=\"12\" lengthAdjust=\"spacingAndGlyphs\" textLength=\"27\" x=\"55.5\" y=\"223.6074\">Real</text><line style=\"stroke: #383838; stroke-width: 1.5;\" x1=\"33\" x2=\"105\" y1=\"231.4375\" y2=\"231.4375\"/></a><!--MD5=[09b614a08d8cba4a07c9adeb5e0fee81]\n",
       "class E3--><a href=\"psysml:bb207011-903d-4a71-a2f5-e51b80009fec\" target=\"_top\" title=\"psysml:bb207011-903d-4a71-a2f5-e51b80009fec\" xlink:actuate=\"onRequest\" xlink:href=\"psysml:bb207011-903d-4a71-a2f5-e51b80009fec\" xlink:show=\"new\" xlink:title=\"psysml:bb207011-903d-4a71-a2f5-e51b80009fec\" xlink:type=\"simple\"><rect fill=\"#FFFFFF\" height=\"105.1563\" id=\"E3\" style=\"stroke: #383838; stroke-width: 1.5;\" width=\"111\" x=\"141.5\" y=\"164\"/><text fill=\"#000000\" font-family=\"sans-serif\" font-size=\"12\" font-style=\"italic\" lengthAdjust=\"spacingAndGlyphs\" textLength=\"65\" x=\"164.5\" y=\"180.1387\">«item def»</text><text fill=\"#000000\" font-family=\"sans-serif\" font-size=\"12\" lengthAdjust=\"spacingAndGlyphs\" textLength=\"8\" x=\"193\" y=\"194.1074\">C</text><line style=\"stroke: #383838; stroke-width: 1.5;\" x1=\"142.5\" x2=\"251.5\" y1=\"201.9375\" y2=\"201.9375\"/><text fill=\"#000000\" font-family=\"sans-serif\" font-size=\"11\" lengthAdjust=\"spacingAndGlyphs\" textLength=\"38\" x=\"147.5\" y=\"232.9526\">x: Real</text><line style=\"stroke: #383838; stroke-width: 1.0;\" x1=\"142.5\" x2=\"169.5\" y1=\"216.3398\" y2=\"216.3398\"/><text fill=\"#000000\" font-family=\"sans-serif\" font-size=\"11\" lengthAdjust=\"spacingAndGlyphs\" textLength=\"55\" x=\"169.5\" y=\"219.6479\">attributes</text><line style=\"stroke: #383838; stroke-width: 1.0;\" x1=\"224.5\" x2=\"251.5\" y1=\"216.3398\" y2=\"216.3398\"/><text fill=\"#000000\" font-family=\"sans-serif\" font-size=\"11\" lengthAdjust=\"spacingAndGlyphs\" textLength=\"69\" x=\"147.5\" y=\"262.562\">x_constraint</text><line style=\"stroke: #383838; stroke-width: 1.0;\" x1=\"142.5\" x2=\"145.5\" y1=\"245.9492\" y2=\"245.9492\"/><text fill=\"#000000\" font-family=\"sans-serif\" font-size=\"11\" lengthAdjust=\"spacingAndGlyphs\" textLength=\"103\" x=\"145.5\" y=\"249.2573\">assertConstraints</text><line style=\"stroke: #383838; stroke-width: 1.0;\" x1=\"248.5\" x2=\"251.5\" y1=\"245.9492\" y2=\"245.9492\"/></a><!--MD5=[270fce915f116d4de14055a7c1d9a0f3]\n",
       "class E5--><a href=\"psysml:ff423fdb-a5ad-4383-b75e-3a1966f8baa4\" target=\"_top\" title=\"psysml:ff423fdb-a5ad-4383-b75e-3a1966f8baa4\" xlink:actuate=\"onRequest\" xlink:href=\"psysml:ff423fdb-a5ad-4383-b75e-3a1966f8baa4\" xlink:show=\"new\" xlink:title=\"psysml:ff423fdb-a5ad-4383-b75e-3a1966f8baa4\" xlink:type=\"simple\"><rect fill=\"#FFFFFF\" height=\"45.9375\" id=\"E5\" style=\"stroke: #383838; stroke-width: 1.5;\" width=\"79\" x=\"67.5\" y=\"41\"/><text fill=\"#000000\" font-family=\"sans-serif\" font-size=\"12\" font-style=\"italic\" lengthAdjust=\"spacingAndGlyphs\" textLength=\"77\" x=\"68.5\" y=\"57.1387\">«action def»</text><text fill=\"#000000\" font-family=\"sans-serif\" font-size=\"12\" lengthAdjust=\"spacingAndGlyphs\" textLength=\"27\" x=\"93.5\" y=\"71.1074\">setX</text><line style=\"stroke: #383838; stroke-width: 1.5;\" x1=\"68.5\" x2=\"145.5\" y1=\"78.9375\" y2=\"78.9375\"/></a><!--MD5=[6f107eb264eda4b26325f39a5516f1f3]\n",
       "reverse link E5 to E3--><a href=\"psysml:4c2c889d-aea7-4bfd-be6e-45844659a6a1\" target=\"_top\" title=\"psysml:4c2c889d-aea7-4bfd-be6e-45844659a6a1\" xlink:actuate=\"onRequest\" xlink:href=\"psysml:4c2c889d-aea7-4bfd-be6e-45844659a6a1\" xlink:show=\"new\" xlink:title=\"psysml:4c2c889d-aea7-4bfd-be6e-45844659a6a1\" xlink:type=\"simple\"><path d=\"M126.98,98.42 C138.48,117.65 153.18,142.22 166.13,163.88 \" fill=\"none\" id=\"E5&lt;-E3\" style=\"stroke: #383838; stroke-width: 1.0;\"/><polygon fill=\"#FFFFFF\" points=\"120.28,87.21,119.9261,94.4124,126.4384,97.5092,126.7923,90.3068,120.28,87.21\" style=\"stroke: #383838; stroke-width: 1.0;\"/><text fill=\"#000000\" font-family=\"sans-serif\" font-size=\"13\" lengthAdjust=\"spacingAndGlyphs\" textLength=\"7\" x=\"147\" y=\"130.0669\">c</text></a><!--MD5=[f51c6d1f1856fe338ac0413483fb1ccf]\n",
       "reverse link E5 to E2--><a href=\"psysml:471b2978-4f3d-4f5c-bcaa-50341599c3a3\" target=\"_top\" title=\"psysml:471b2978-4f3d-4f5c-bcaa-50341599c3a3\" xlink:actuate=\"onRequest\" xlink:href=\"psysml:471b2978-4f3d-4f5c-bcaa-50341599c3a3\" xlink:show=\"new\" xlink:title=\"psysml:471b2978-4f3d-4f5c-bcaa-50341599c3a3\" xlink:type=\"simple\"><path d=\"M98.18,99.93 C90.92,128.69 80.84,168.6 74.63,193.2 \" fill=\"none\" id=\"E5&lt;-E2\" style=\"stroke: #383838; stroke-width: 1.0;\"/><polygon fill=\"#FFFFFF\" points=\"101.39,87.21,96.0413,92.0465,98.4485,98.8439,103.7972,94.0074,101.39,87.21\" style=\"stroke: #383838; stroke-width: 1.0;\"/><text fill=\"#000000\" font-family=\"sans-serif\" font-size=\"13\" lengthAdjust=\"spacingAndGlyphs\" textLength=\"33\" x=\"94\" y=\"130.0669\">newX</text></a><!--MD5=[25058412a9fb6765c7388d5b42d1cb86]\n",
       "@startuml\r\n",
       "skinparam monochrome true\r\n",
       "skinparam classbackgroundcolor white\r\n",
       "skinparam shadowing false\r\n",
       "skinparam wrapWidth 300\r\n",
       "hide circle\r\n",
       "\r\n",
       "package \"TextualRepresentationTest\" as E1  [[psysml:0fc68415-d7d0-4850-b93e-796cf2adc089 ]]  {\r\n",
       "comp def \"Real\" as E2  <<(T,blue)dataType>> [[psysml:3f2a97d7-c1a2-4f9b-b443-e0389101b303 ]] {\r\n",
       "}\r\n",
       "comp def \"C\" as E3  <<(T,blue)item def>> [[psysml:bb207011-903d-4a71-a2f5-e51b80009fec ]] {\r\n",
       "- - attributes - -\r\n",
       "x: Real\r\n",
       "- - assertConstraints - -\r\n",
       "x_constraint\r\n",
       "}\r\n",
       "comp def \"setX\" as E5  <<(T,blue)action def>> [[psysml:ff423fdb-a5ad-4383-b75e-3a1966f8baa4 ]] {\r\n",
       "}\r\n",
       "E5 o- - E3 [[psysml:4c2c889d-aea7-4bfd-be6e-45844659a6a1 ]] : c\r\n",
       "E5 o- - E2 [[psysml:471b2978-4f3d-4f5c-bcaa-50341599c3a3 ]] : newX\r\n",
       "}\r\n",
       "@enduml\r\n",
       "\n",
       "PlantUML version 1.2020.13(Sat Jun 13 12:26:38 UTC 2020)\n",
       "(EPL source distribution)\n",
       "Java Runtime: OpenJDK Runtime Environment\n",
       "JVM: OpenJDK 64-Bit Server VM\n",
       "Default Encoding: UTF-8\n",
       "Language: en\n",
       "Country: null\n",
       "--></g></svg>"
      ]
     },
     "execution_count": 42,
     "metadata": {},
     "output_type": "execute_result"
    }
   ],
   "source": [
    "%viz --style=\"DEFAULT\" --view=\"Sequence\" \"TextualRepresentationTest\""
   ]
  },
  {
   "cell_type": "code",
   "execution_count": 43,
   "id": "collaborative-script",
   "metadata": {
    "execution": {
     "iopub.execute_input": "2021-03-25T15:08:43.032462Z",
     "iopub.status.busy": "2021-03-25T15:08:43.031804Z",
     "iopub.status.idle": "2021-03-25T15:08:43.491365Z",
     "shell.execute_reply": "2021-03-25T15:08:43.489217Z"
    }
   },
   "outputs": [
    {
     "data": {
      "image/svg+xml": [
       "<?xml version=\"1.0\" encoding=\"UTF-8\" standalone=\"no\"?><svg xmlns=\"http://www.w3.org/2000/svg\" xmlns:xlink=\"http://www.w3.org/1999/xlink\" contentScriptType=\"application/ecmascript\" contentStyleType=\"text/css\" height=\"285px\" preserveAspectRatio=\"none\" style=\"width:432px;height:285px;\" version=\"1.1\" viewBox=\"0 0 432 285\" width=\"432px\" zoomAndPan=\"magnify\"><defs/><g><!--MD5=[fbc87193dbaf4d95561dea2c320d4a47]\n",
       "cluster E1--><a href=\"psysml:0fc68415-d7d0-4850-b93e-796cf2adc089\" target=\"_top\" title=\"psysml:0fc68415-d7d0-4850-b93e-796cf2adc089\" xlink:actuate=\"onRequest\" xlink:href=\"psysml:0fc68415-d7d0-4850-b93e-796cf2adc089\" xlink:show=\"new\" xlink:title=\"psysml:0fc68415-d7d0-4850-b93e-796cf2adc089\" xlink:type=\"simple\"><polygon fill=\"#FFFFFF\" points=\"16,6,236,6,243,28.2969,410,28.2969,410,273,16,273,16,6\" style=\"stroke: #000000; stroke-width: 1.5;\"/><line style=\"stroke: #000000; stroke-width: 1.5;\" x1=\"16\" x2=\"243\" y1=\"28.2969\" y2=\"28.2969\"/><text fill=\"#000000\" font-family=\"sans-serif\" font-size=\"14\" font-weight=\"bold\" lengthAdjust=\"spacingAndGlyphs\" textLength=\"214\" x=\"20\" y=\"20.9951\">TextualRepresentationTest</text></a><!--MD5=[de5ec2e2e8f62f467e546659f5068c88]\n",
       "cluster E5--><a href=\"psysml:ff423fdb-a5ad-4383-b75e-3a1966f8baa4\" target=\"_top\" title=\"psysml:ff423fdb-a5ad-4383-b75e-3a1966f8baa4\" xlink:actuate=\"onRequest\" xlink:href=\"psysml:ff423fdb-a5ad-4383-b75e-3a1966f8baa4\" xlink:show=\"new\" xlink:title=\"psysml:ff423fdb-a5ad-4383-b75e-3a1966f8baa4\" xlink:type=\"simple\"><rect fill=\"#FFFFFF\" height=\"163.5\" id=\"E5\" style=\"stroke: #383838; stroke-width: 1.5;\" width=\"96\" x=\"268.5\" y=\"93.5\"/><rect fill=\"#F8F8F8\" height=\"37.9375\" style=\"stroke: #383838; stroke-width: 1.5;\" width=\"96\" x=\"268.5\" y=\"93.5\"/><text fill=\"#000000\" font-family=\"sans-serif\" font-size=\"12\" font-style=\"italic\" lengthAdjust=\"spacingAndGlyphs\" textLength=\"77\" x=\"278\" y=\"109.6387\">«action def»</text><text fill=\"#000000\" font-family=\"sans-serif\" font-size=\"12\" lengthAdjust=\"spacingAndGlyphs\" textLength=\"27\" x=\"303\" y=\"123.6074\">setX</text></a><!--MD5=[b4997ac47864f28c2f74865a473b2911]\n",
       "class E2--><a href=\"psysml:3f2a97d7-c1a2-4f9b-b443-e0389101b303\" target=\"_top\" title=\"psysml:3f2a97d7-c1a2-4f9b-b443-e0389101b303\" xlink:actuate=\"onRequest\" xlink:href=\"psysml:3f2a97d7-c1a2-4f9b-b443-e0389101b303\" xlink:show=\"new\" xlink:title=\"psysml:3f2a97d7-c1a2-4f9b-b443-e0389101b303\" xlink:type=\"simple\"><rect fill=\"#FFFFFF\" height=\"45.9375\" id=\"E2\" style=\"stroke: #383838; stroke-width: 1.5;\" width=\"74\" x=\"178\" y=\"70.5\"/><text fill=\"#000000\" font-family=\"sans-serif\" font-size=\"12\" font-style=\"italic\" lengthAdjust=\"spacingAndGlyphs\" textLength=\"72\" x=\"179\" y=\"86.6387\">«dataType»</text><text fill=\"#000000\" font-family=\"sans-serif\" font-size=\"12\" lengthAdjust=\"spacingAndGlyphs\" textLength=\"27\" x=\"201.5\" y=\"100.6074\">Real</text><line style=\"stroke: #383838; stroke-width: 1.5;\" x1=\"179\" x2=\"251\" y1=\"108.4375\" y2=\"108.4375\"/></a><!--MD5=[09b614a08d8cba4a07c9adeb5e0fee81]\n",
       "class E3--><a href=\"psysml:bb207011-903d-4a71-a2f5-e51b80009fec\" target=\"_top\" title=\"psysml:bb207011-903d-4a71-a2f5-e51b80009fec\" xlink:actuate=\"onRequest\" xlink:href=\"psysml:bb207011-903d-4a71-a2f5-e51b80009fec\" xlink:show=\"new\" xlink:title=\"psysml:bb207011-903d-4a71-a2f5-e51b80009fec\" xlink:type=\"simple\"><rect fill=\"#FFFFFF\" height=\"105.1563\" id=\"E3\" style=\"stroke: #383838; stroke-width: 1.5;\" width=\"111\" x=\"31.5\" y=\"41\"/><text fill=\"#000000\" font-family=\"sans-serif\" font-size=\"12\" font-style=\"italic\" lengthAdjust=\"spacingAndGlyphs\" textLength=\"65\" x=\"54.5\" y=\"57.1387\">«item def»</text><text fill=\"#000000\" font-family=\"sans-serif\" font-size=\"12\" lengthAdjust=\"spacingAndGlyphs\" textLength=\"8\" x=\"83\" y=\"71.1074\">C</text><line style=\"stroke: #383838; stroke-width: 1.5;\" x1=\"32.5\" x2=\"141.5\" y1=\"78.9375\" y2=\"78.9375\"/><text fill=\"#000000\" font-family=\"sans-serif\" font-size=\"11\" lengthAdjust=\"spacingAndGlyphs\" textLength=\"38\" x=\"37.5\" y=\"109.9526\">x: Real</text><line style=\"stroke: #383838; stroke-width: 1.0;\" x1=\"32.5\" x2=\"59.5\" y1=\"93.3398\" y2=\"93.3398\"/><text fill=\"#000000\" font-family=\"sans-serif\" font-size=\"11\" lengthAdjust=\"spacingAndGlyphs\" textLength=\"55\" x=\"59.5\" y=\"96.6479\">attributes</text><line style=\"stroke: #383838; stroke-width: 1.0;\" x1=\"114.5\" x2=\"141.5\" y1=\"93.3398\" y2=\"93.3398\"/><text fill=\"#000000\" font-family=\"sans-serif\" font-size=\"11\" lengthAdjust=\"spacingAndGlyphs\" textLength=\"69\" x=\"37.5\" y=\"139.562\">x_constraint</text><line style=\"stroke: #383838; stroke-width: 1.0;\" x1=\"32.5\" x2=\"35.5\" y1=\"122.9492\" y2=\"122.9492\"/><text fill=\"#000000\" font-family=\"sans-serif\" font-size=\"11\" lengthAdjust=\"spacingAndGlyphs\" textLength=\"103\" x=\"35.5\" y=\"126.2573\">assertConstraints</text><line style=\"stroke: #383838; stroke-width: 1.0;\" x1=\"138.5\" x2=\"141.5\" y1=\"122.9492\" y2=\"122.9492\"/></a><text fill=\"#000000\" font-family=\"sans-serif\" font-size=\"14\" lengthAdjust=\"spacingAndGlyphs\" textLength=\"8\" x=\"289\" y=\"72.1982\">c</text><rect fill=\"#383838\" height=\"12\" style=\"stroke: #F8F8F8; stroke-width: 1.5;\" width=\"12\" x=\"287\" y=\"87.5\"/><text fill=\"#000000\" font-family=\"sans-serif\" font-size=\"14\" lengthAdjust=\"spacingAndGlyphs\" textLength=\"38\" x=\"321\" y=\"72.1982\">newX</text><rect fill=\"#383838\" height=\"12\" style=\"stroke: #F8F8F8; stroke-width: 1.5;\" width=\"12\" x=\"334\" y=\"87.5\"/><!--MD5=[f314054dc900e362d2344380fe877b11]\n",
       "@startuml\r\n",
       "skinparam monochrome true\r\n",
       "skinparam classbackgroundcolor white\r\n",
       "skinparam shadowing false\r\n",
       "skinparam wrapWidth 300\r\n",
       "hide circle\r\n",
       "\r\n",
       "package \"TextualRepresentationTest\" as E1  [[psysml:0fc68415-d7d0-4850-b93e-796cf2adc089 ]]  {\r\n",
       "comp def \"Real\" as E2  <<(T,blue)dataType>> [[psysml:3f2a97d7-c1a2-4f9b-b443-e0389101b303 ]] {\r\n",
       "}\r\n",
       "comp def \"C\" as E3  <<(T,blue)item def>> [[psysml:bb207011-903d-4a71-a2f5-e51b80009fec ]] {\r\n",
       "- - attributes - -\r\n",
       "x: Real\r\n",
       "- - assertConstraints - -\r\n",
       "x_constraint\r\n",
       "}\r\n",
       "rec def \"setX\" as E5  <<(T,blue)action def>> [[psysml:ff423fdb-a5ad-4383-b75e-3a1966f8baa4 ]] {\r\n",
       "portin \"c\" as E6  [[psysml:4c2c889d-aea7-4bfd-be6e-45844659a6a1 ]] \r\n",
       "portin \"newX\" as E7  [[psysml:471b2978-4f3d-4f5c-bcaa-50341599c3a3 ]] \r\n",
       "}\r\n",
       "\r\n",
       "}\r\n",
       "@enduml\r\n",
       "\n",
       "PlantUML version 1.2020.13(Sat Jun 13 12:26:38 UTC 2020)\n",
       "(EPL source distribution)\n",
       "Java Runtime: OpenJDK Runtime Environment\n",
       "JVM: OpenJDK 64-Bit Server VM\n",
       "Default Encoding: UTF-8\n",
       "Language: en\n",
       "Country: null\n",
       "--></g></svg>"
      ]
     },
     "execution_count": 43,
     "metadata": {},
     "output_type": "execute_result"
    }
   ],
   "source": [
    "%viz --style=\"DEFAULT\" --view=\"MIXED\" \"TextualRepresentationTest\""
   ]
  },
  {
   "cell_type": "code",
   "execution_count": 44,
   "id": "amended-perception",
   "metadata": {
    "execution": {
     "iopub.execute_input": "2021-03-25T15:08:43.542371Z",
     "iopub.status.busy": "2021-03-25T15:08:43.541909Z",
     "iopub.status.idle": "2021-03-25T15:08:43.999129Z",
     "shell.execute_reply": "2021-03-25T15:08:43.997818Z"
    }
   },
   "outputs": [
    {
     "data": {
      "image/svg+xml": [
       "<?xml version=\"1.0\" encoding=\"UTF-8\" standalone=\"no\"?><svg xmlns=\"http://www.w3.org/2000/svg\" xmlns:xlink=\"http://www.w3.org/1999/xlink\" contentScriptType=\"application/ecmascript\" contentStyleType=\"text/css\" height=\"285px\" preserveAspectRatio=\"none\" style=\"width:432px;height:285px;\" version=\"1.1\" viewBox=\"0 0 432 285\" width=\"432px\" zoomAndPan=\"magnify\"><defs/><g><!--MD5=[fbc87193dbaf4d95561dea2c320d4a47]\n",
       "cluster E1--><a href=\"psysml:0fc68415-d7d0-4850-b93e-796cf2adc089\" target=\"_top\" title=\"psysml:0fc68415-d7d0-4850-b93e-796cf2adc089\" xlink:actuate=\"onRequest\" xlink:href=\"psysml:0fc68415-d7d0-4850-b93e-796cf2adc089\" xlink:show=\"new\" xlink:title=\"psysml:0fc68415-d7d0-4850-b93e-796cf2adc089\" xlink:type=\"simple\"><polygon fill=\"#FFFFFF\" points=\"16,6,236,6,243,28.2969,410,28.2969,410,273,16,273,16,6\" style=\"stroke: #000000; stroke-width: 1.5;\"/><line style=\"stroke: #000000; stroke-width: 1.5;\" x1=\"16\" x2=\"243\" y1=\"28.2969\" y2=\"28.2969\"/><text fill=\"#000000\" font-family=\"sans-serif\" font-size=\"14\" font-weight=\"bold\" lengthAdjust=\"spacingAndGlyphs\" textLength=\"214\" x=\"20\" y=\"20.9951\">TextualRepresentationTest</text></a><!--MD5=[de5ec2e2e8f62f467e546659f5068c88]\n",
       "cluster E5--><a href=\"psysml:ff423fdb-a5ad-4383-b75e-3a1966f8baa4\" target=\"_top\" title=\"psysml:ff423fdb-a5ad-4383-b75e-3a1966f8baa4\" xlink:actuate=\"onRequest\" xlink:href=\"psysml:ff423fdb-a5ad-4383-b75e-3a1966f8baa4\" xlink:show=\"new\" xlink:title=\"psysml:ff423fdb-a5ad-4383-b75e-3a1966f8baa4\" xlink:type=\"simple\"><rect fill=\"#FFFFFF\" height=\"163.5\" id=\"E5\" style=\"stroke: #383838; stroke-width: 1.5;\" width=\"96\" x=\"268.5\" y=\"93.5\"/><rect fill=\"#F8F8F8\" height=\"37.9375\" style=\"stroke: #383838; stroke-width: 1.5;\" width=\"96\" x=\"268.5\" y=\"93.5\"/><text fill=\"#000000\" font-family=\"sans-serif\" font-size=\"12\" font-style=\"italic\" lengthAdjust=\"spacingAndGlyphs\" textLength=\"77\" x=\"278\" y=\"109.6387\">«action def»</text><text fill=\"#000000\" font-family=\"sans-serif\" font-size=\"12\" lengthAdjust=\"spacingAndGlyphs\" textLength=\"27\" x=\"303\" y=\"123.6074\">setX</text></a><!--MD5=[b4997ac47864f28c2f74865a473b2911]\n",
       "class E2--><a href=\"psysml:3f2a97d7-c1a2-4f9b-b443-e0389101b303\" target=\"_top\" title=\"psysml:3f2a97d7-c1a2-4f9b-b443-e0389101b303\" xlink:actuate=\"onRequest\" xlink:href=\"psysml:3f2a97d7-c1a2-4f9b-b443-e0389101b303\" xlink:show=\"new\" xlink:title=\"psysml:3f2a97d7-c1a2-4f9b-b443-e0389101b303\" xlink:type=\"simple\"><rect fill=\"#FFFFFF\" height=\"45.9375\" id=\"E2\" style=\"stroke: #383838; stroke-width: 1.5;\" width=\"74\" x=\"178\" y=\"70.5\"/><text fill=\"#000000\" font-family=\"sans-serif\" font-size=\"12\" font-style=\"italic\" lengthAdjust=\"spacingAndGlyphs\" textLength=\"72\" x=\"179\" y=\"86.6387\">«dataType»</text><text fill=\"#000000\" font-family=\"sans-serif\" font-size=\"12\" lengthAdjust=\"spacingAndGlyphs\" textLength=\"27\" x=\"201.5\" y=\"100.6074\">Real</text><line style=\"stroke: #383838; stroke-width: 1.5;\" x1=\"179\" x2=\"251\" y1=\"108.4375\" y2=\"108.4375\"/></a><!--MD5=[09b614a08d8cba4a07c9adeb5e0fee81]\n",
       "class E3--><a href=\"psysml:bb207011-903d-4a71-a2f5-e51b80009fec\" target=\"_top\" title=\"psysml:bb207011-903d-4a71-a2f5-e51b80009fec\" xlink:actuate=\"onRequest\" xlink:href=\"psysml:bb207011-903d-4a71-a2f5-e51b80009fec\" xlink:show=\"new\" xlink:title=\"psysml:bb207011-903d-4a71-a2f5-e51b80009fec\" xlink:type=\"simple\"><rect fill=\"#FFFFFF\" height=\"105.1563\" id=\"E3\" style=\"stroke: #383838; stroke-width: 1.5;\" width=\"111\" x=\"31.5\" y=\"41\"/><text fill=\"#000000\" font-family=\"sans-serif\" font-size=\"12\" font-style=\"italic\" lengthAdjust=\"spacingAndGlyphs\" textLength=\"65\" x=\"54.5\" y=\"57.1387\">«item def»</text><text fill=\"#000000\" font-family=\"sans-serif\" font-size=\"12\" lengthAdjust=\"spacingAndGlyphs\" textLength=\"8\" x=\"83\" y=\"71.1074\">C</text><line style=\"stroke: #383838; stroke-width: 1.5;\" x1=\"32.5\" x2=\"141.5\" y1=\"78.9375\" y2=\"78.9375\"/><text fill=\"#000000\" font-family=\"sans-serif\" font-size=\"11\" lengthAdjust=\"spacingAndGlyphs\" textLength=\"38\" x=\"37.5\" y=\"109.9526\">x: Real</text><line style=\"stroke: #383838; stroke-width: 1.0;\" x1=\"32.5\" x2=\"59.5\" y1=\"93.3398\" y2=\"93.3398\"/><text fill=\"#000000\" font-family=\"sans-serif\" font-size=\"11\" lengthAdjust=\"spacingAndGlyphs\" textLength=\"55\" x=\"59.5\" y=\"96.6479\">attributes</text><line style=\"stroke: #383838; stroke-width: 1.0;\" x1=\"114.5\" x2=\"141.5\" y1=\"93.3398\" y2=\"93.3398\"/><text fill=\"#000000\" font-family=\"sans-serif\" font-size=\"11\" lengthAdjust=\"spacingAndGlyphs\" textLength=\"69\" x=\"37.5\" y=\"139.562\">x_constraint</text><line style=\"stroke: #383838; stroke-width: 1.0;\" x1=\"32.5\" x2=\"35.5\" y1=\"122.9492\" y2=\"122.9492\"/><text fill=\"#000000\" font-family=\"sans-serif\" font-size=\"11\" lengthAdjust=\"spacingAndGlyphs\" textLength=\"103\" x=\"35.5\" y=\"126.2573\">assertConstraints</text><line style=\"stroke: #383838; stroke-width: 1.0;\" x1=\"138.5\" x2=\"141.5\" y1=\"122.9492\" y2=\"122.9492\"/></a><text fill=\"#000000\" font-family=\"sans-serif\" font-size=\"14\" lengthAdjust=\"spacingAndGlyphs\" textLength=\"8\" x=\"289\" y=\"72.1982\">c</text><rect fill=\"#383838\" height=\"12\" style=\"stroke: #F8F8F8; stroke-width: 1.5;\" width=\"12\" x=\"287\" y=\"87.5\"/><text fill=\"#000000\" font-family=\"sans-serif\" font-size=\"14\" lengthAdjust=\"spacingAndGlyphs\" textLength=\"38\" x=\"321\" y=\"72.1982\">newX</text><rect fill=\"#383838\" height=\"12\" style=\"stroke: #F8F8F8; stroke-width: 1.5;\" width=\"12\" x=\"334\" y=\"87.5\"/><!--MD5=[04a7290797934d39e6045023dd941420]\n",
       "@startuml\r\n",
       "top to bottom direction\r\n",
       "skinparam monochrome true\r\n",
       "skinparam classbackgroundcolor white\r\n",
       "skinparam shadowing false\r\n",
       "skinparam wrapWidth 300\r\n",
       "hide circle\r\n",
       "\r\n",
       "package \"TextualRepresentationTest\" as E1  [[psysml:0fc68415-d7d0-4850-b93e-796cf2adc089 ]]  {\r\n",
       "comp def \"Real\" as E2  <<(T,blue)dataType>> [[psysml:3f2a97d7-c1a2-4f9b-b443-e0389101b303 ]] {\r\n",
       "}\r\n",
       "comp def \"C\" as E3  <<(T,blue)item def>> [[psysml:bb207011-903d-4a71-a2f5-e51b80009fec ]] {\r\n",
       "- - attributes - -\r\n",
       "x: Real\r\n",
       "- - assertConstraints - -\r\n",
       "x_constraint\r\n",
       "}\r\n",
       "rec def \"setX\" as E5  <<(T,blue)action def>> [[psysml:ff423fdb-a5ad-4383-b75e-3a1966f8baa4 ]] {\r\n",
       "portin \"c\" as E6  [[psysml:4c2c889d-aea7-4bfd-be6e-45844659a6a1 ]] \r\n",
       "portin \"newX\" as E7  [[psysml:471b2978-4f3d-4f5c-bcaa-50341599c3a3 ]] \r\n",
       "}\r\n",
       "\r\n",
       "}\r\n",
       "@enduml\r\n",
       "\n",
       "PlantUML version 1.2020.13(Sat Jun 13 12:26:38 UTC 2020)\n",
       "(EPL source distribution)\n",
       "Java Runtime: OpenJDK Runtime Environment\n",
       "JVM: OpenJDK 64-Bit Server VM\n",
       "Default Encoding: UTF-8\n",
       "Language: en\n",
       "Country: null\n",
       "--></g></svg>"
      ]
     },
     "execution_count": 44,
     "metadata": {},
     "output_type": "execute_result"
    }
   ],
   "source": [
    "%viz --style=\"TB\" --view=\"Default\" \"TextualRepresentationTest\""
   ]
  },
  {
   "cell_type": "code",
   "execution_count": 45,
   "id": "committed-aging",
   "metadata": {
    "execution": {
     "iopub.execute_input": "2021-03-25T15:08:44.049630Z",
     "iopub.status.busy": "2021-03-25T15:08:44.048953Z",
     "iopub.status.idle": "2021-03-25T15:08:44.453936Z",
     "shell.execute_reply": "2021-03-25T15:08:44.452609Z"
    }
   },
   "outputs": [
    {
     "data": {
      "image/svg+xml": [
       "<?xml version=\"1.0\" encoding=\"UTF-8\" standalone=\"no\"?><svg xmlns=\"http://www.w3.org/2000/svg\" xmlns:xlink=\"http://www.w3.org/1999/xlink\" contentScriptType=\"application/ecmascript\" contentStyleType=\"text/css\" height=\"297px\" preserveAspectRatio=\"none\" style=\"width:290px;height:297px;\" version=\"1.1\" viewBox=\"0 0 290 297\" width=\"290px\" zoomAndPan=\"magnify\"><defs/><g><!--MD5=[fbc87193dbaf4d95561dea2c320d4a47]\n",
       "cluster E1--><a href=\"psysml:0fc68415-d7d0-4850-b93e-796cf2adc089\" target=\"_top\" title=\"psysml:0fc68415-d7d0-4850-b93e-796cf2adc089\" xlink:actuate=\"onRequest\" xlink:href=\"psysml:0fc68415-d7d0-4850-b93e-796cf2adc089\" xlink:show=\"new\" xlink:title=\"psysml:0fc68415-d7d0-4850-b93e-796cf2adc089\" xlink:type=\"simple\"><polygon fill=\"#FFFFFF\" points=\"16,6,236,6,243,28.2969,268,28.2969,268,285,16,285,16,6\" style=\"stroke: #000000; stroke-width: 1.5;\"/><line style=\"stroke: #000000; stroke-width: 1.5;\" x1=\"16\" x2=\"243\" y1=\"28.2969\" y2=\"28.2969\"/><text fill=\"#000000\" font-family=\"sans-serif\" font-size=\"14\" font-weight=\"bold\" lengthAdjust=\"spacingAndGlyphs\" textLength=\"214\" x=\"20\" y=\"20.9951\">TextualRepresentationTest</text></a><!--MD5=[b4997ac47864f28c2f74865a473b2911]\n",
       "class E2--><a href=\"psysml:3f2a97d7-c1a2-4f9b-b443-e0389101b303\" target=\"_top\" title=\"psysml:3f2a97d7-c1a2-4f9b-b443-e0389101b303\" xlink:actuate=\"onRequest\" xlink:href=\"psysml:3f2a97d7-c1a2-4f9b-b443-e0389101b303\" xlink:show=\"new\" xlink:title=\"psysml:3f2a97d7-c1a2-4f9b-b443-e0389101b303\" xlink:type=\"simple\"><rect fill=\"#FFFFFF\" height=\"45.9375\" id=\"E2\" style=\"stroke: #383838; stroke-width: 1.5;\" width=\"74\" x=\"32\" y=\"193.5\"/><text fill=\"#000000\" font-family=\"sans-serif\" font-size=\"12\" font-style=\"italic\" lengthAdjust=\"spacingAndGlyphs\" textLength=\"72\" x=\"33\" y=\"209.6387\">«dataType»</text><text fill=\"#000000\" font-family=\"sans-serif\" font-size=\"12\" lengthAdjust=\"spacingAndGlyphs\" textLength=\"27\" x=\"55.5\" y=\"223.6074\">Real</text><line style=\"stroke: #383838; stroke-width: 1.5;\" x1=\"33\" x2=\"105\" y1=\"231.4375\" y2=\"231.4375\"/></a><!--MD5=[09b614a08d8cba4a07c9adeb5e0fee81]\n",
       "class E3--><a href=\"psysml:bb207011-903d-4a71-a2f5-e51b80009fec\" target=\"_top\" title=\"psysml:bb207011-903d-4a71-a2f5-e51b80009fec\" xlink:actuate=\"onRequest\" xlink:href=\"psysml:bb207011-903d-4a71-a2f5-e51b80009fec\" xlink:show=\"new\" xlink:title=\"psysml:bb207011-903d-4a71-a2f5-e51b80009fec\" xlink:type=\"simple\"><rect fill=\"#FFFFFF\" height=\"105.1563\" id=\"E3\" style=\"stroke: #383838; stroke-width: 1.5;\" width=\"111\" x=\"141.5\" y=\"164\"/><text fill=\"#000000\" font-family=\"sans-serif\" font-size=\"12\" font-style=\"italic\" lengthAdjust=\"spacingAndGlyphs\" textLength=\"65\" x=\"164.5\" y=\"180.1387\">«item def»</text><text fill=\"#000000\" font-family=\"sans-serif\" font-size=\"12\" lengthAdjust=\"spacingAndGlyphs\" textLength=\"8\" x=\"193\" y=\"194.1074\">C</text><line style=\"stroke: #383838; stroke-width: 1.5;\" x1=\"142.5\" x2=\"251.5\" y1=\"201.9375\" y2=\"201.9375\"/><text fill=\"#000000\" font-family=\"sans-serif\" font-size=\"11\" lengthAdjust=\"spacingAndGlyphs\" textLength=\"38\" x=\"147.5\" y=\"232.9526\">x: Real</text><line style=\"stroke: #383838; stroke-width: 1.0;\" x1=\"142.5\" x2=\"169.5\" y1=\"216.3398\" y2=\"216.3398\"/><text fill=\"#000000\" font-family=\"sans-serif\" font-size=\"11\" lengthAdjust=\"spacingAndGlyphs\" textLength=\"55\" x=\"169.5\" y=\"219.6479\">attributes</text><line style=\"stroke: #383838; stroke-width: 1.0;\" x1=\"224.5\" x2=\"251.5\" y1=\"216.3398\" y2=\"216.3398\"/><text fill=\"#000000\" font-family=\"sans-serif\" font-size=\"11\" lengthAdjust=\"spacingAndGlyphs\" textLength=\"69\" x=\"147.5\" y=\"262.562\">x_constraint</text><line style=\"stroke: #383838; stroke-width: 1.0;\" x1=\"142.5\" x2=\"145.5\" y1=\"245.9492\" y2=\"245.9492\"/><text fill=\"#000000\" font-family=\"sans-serif\" font-size=\"11\" lengthAdjust=\"spacingAndGlyphs\" textLength=\"103\" x=\"145.5\" y=\"249.2573\">assertConstraints</text><line style=\"stroke: #383838; stroke-width: 1.0;\" x1=\"248.5\" x2=\"251.5\" y1=\"245.9492\" y2=\"245.9492\"/></a><!--MD5=[270fce915f116d4de14055a7c1d9a0f3]\n",
       "class E5--><a href=\"psysml:ff423fdb-a5ad-4383-b75e-3a1966f8baa4\" target=\"_top\" title=\"psysml:ff423fdb-a5ad-4383-b75e-3a1966f8baa4\" xlink:actuate=\"onRequest\" xlink:href=\"psysml:ff423fdb-a5ad-4383-b75e-3a1966f8baa4\" xlink:show=\"new\" xlink:title=\"psysml:ff423fdb-a5ad-4383-b75e-3a1966f8baa4\" xlink:type=\"simple\"><rect fill=\"#FFFFFF\" height=\"45.9375\" id=\"E5\" style=\"stroke: #383838; stroke-width: 1.5;\" width=\"79\" x=\"67.5\" y=\"41\"/><text fill=\"#000000\" font-family=\"sans-serif\" font-size=\"12\" font-style=\"italic\" lengthAdjust=\"spacingAndGlyphs\" textLength=\"77\" x=\"68.5\" y=\"57.1387\">«action def»</text><text fill=\"#000000\" font-family=\"sans-serif\" font-size=\"12\" lengthAdjust=\"spacingAndGlyphs\" textLength=\"27\" x=\"93.5\" y=\"71.1074\">setX</text><line style=\"stroke: #383838; stroke-width: 1.5;\" x1=\"68.5\" x2=\"145.5\" y1=\"78.9375\" y2=\"78.9375\"/></a><!--MD5=[6f107eb264eda4b26325f39a5516f1f3]\n",
       "reverse link E5 to E3--><a href=\"psysml:4c2c889d-aea7-4bfd-be6e-45844659a6a1\" target=\"_top\" title=\"psysml:4c2c889d-aea7-4bfd-be6e-45844659a6a1\" xlink:actuate=\"onRequest\" xlink:href=\"psysml:4c2c889d-aea7-4bfd-be6e-45844659a6a1\" xlink:show=\"new\" xlink:title=\"psysml:4c2c889d-aea7-4bfd-be6e-45844659a6a1\" xlink:type=\"simple\"><path d=\"M126.98,98.42 C138.48,117.65 153.18,142.22 166.13,163.88 \" fill=\"none\" id=\"E5&lt;-E3\" style=\"stroke: #383838; stroke-width: 1.0;\"/><polygon fill=\"#FFFFFF\" points=\"120.28,87.21,119.9261,94.4124,126.4384,97.5092,126.7923,90.3068,120.28,87.21\" style=\"stroke: #383838; stroke-width: 1.0;\"/><text fill=\"#000000\" font-family=\"sans-serif\" font-size=\"13\" lengthAdjust=\"spacingAndGlyphs\" textLength=\"7\" x=\"147\" y=\"130.0669\">c</text></a><!--MD5=[f51c6d1f1856fe338ac0413483fb1ccf]\n",
       "reverse link E5 to E2--><a href=\"psysml:471b2978-4f3d-4f5c-bcaa-50341599c3a3\" target=\"_top\" title=\"psysml:471b2978-4f3d-4f5c-bcaa-50341599c3a3\" xlink:actuate=\"onRequest\" xlink:href=\"psysml:471b2978-4f3d-4f5c-bcaa-50341599c3a3\" xlink:show=\"new\" xlink:title=\"psysml:471b2978-4f3d-4f5c-bcaa-50341599c3a3\" xlink:type=\"simple\"><path d=\"M98.18,99.93 C90.92,128.69 80.84,168.6 74.63,193.2 \" fill=\"none\" id=\"E5&lt;-E2\" style=\"stroke: #383838; stroke-width: 1.0;\"/><polygon fill=\"#FFFFFF\" points=\"101.39,87.21,96.0413,92.0465,98.4485,98.8439,103.7972,94.0074,101.39,87.21\" style=\"stroke: #383838; stroke-width: 1.0;\"/><text fill=\"#000000\" font-family=\"sans-serif\" font-size=\"13\" lengthAdjust=\"spacingAndGlyphs\" textLength=\"33\" x=\"94\" y=\"130.0669\">newX</text></a><!--MD5=[81d601024aebcc33d558c1c49df98fe7]\n",
       "@startuml\r\n",
       "top to bottom direction\r\n",
       "skinparam monochrome true\r\n",
       "skinparam classbackgroundcolor white\r\n",
       "skinparam shadowing false\r\n",
       "skinparam wrapWidth 300\r\n",
       "hide circle\r\n",
       "\r\n",
       "package \"TextualRepresentationTest\" as E1  [[psysml:0fc68415-d7d0-4850-b93e-796cf2adc089 ]]  {\r\n",
       "comp def \"Real\" as E2  <<(T,blue)dataType>> [[psysml:3f2a97d7-c1a2-4f9b-b443-e0389101b303 ]] {\r\n",
       "}\r\n",
       "comp def \"C\" as E3  <<(T,blue)item def>> [[psysml:bb207011-903d-4a71-a2f5-e51b80009fec ]] {\r\n",
       "- - attributes - -\r\n",
       "x: Real\r\n",
       "- - assertConstraints - -\r\n",
       "x_constraint\r\n",
       "}\r\n",
       "comp def \"setX\" as E5  <<(T,blue)action def>> [[psysml:ff423fdb-a5ad-4383-b75e-3a1966f8baa4 ]] {\r\n",
       "}\r\n",
       "E5 o- - E3 [[psysml:4c2c889d-aea7-4bfd-be6e-45844659a6a1 ]] : c\r\n",
       "E5 o- - E2 [[psysml:471b2978-4f3d-4f5c-bcaa-50341599c3a3 ]] : newX\r\n",
       "}\r\n",
       "@enduml\r\n",
       "\n",
       "PlantUML version 1.2020.13(Sat Jun 13 12:26:38 UTC 2020)\n",
       "(EPL source distribution)\n",
       "Java Runtime: OpenJDK Runtime Environment\n",
       "JVM: OpenJDK 64-Bit Server VM\n",
       "Default Encoding: UTF-8\n",
       "Language: en\n",
       "Country: null\n",
       "--></g></svg>"
      ]
     },
     "execution_count": 45,
     "metadata": {},
     "output_type": "execute_result"
    }
   ],
   "source": [
    "%viz --style=\"TB\" --view=\"Tree\" \"TextualRepresentationTest\""
   ]
  },
  {
   "cell_type": "code",
   "execution_count": 46,
   "id": "short-obligation",
   "metadata": {
    "execution": {
     "iopub.execute_input": "2021-03-25T15:08:44.505906Z",
     "iopub.status.busy": "2021-03-25T15:08:44.505164Z",
     "iopub.status.idle": "2021-03-25T15:08:44.512964Z",
     "shell.execute_reply": "2021-03-25T15:08:44.512457Z"
    }
   },
   "outputs": [
    {
     "data": {
      "image/svg+xml": [
       "<?xml version=\"1.0\" encoding=\"UTF-8\" standalone=\"no\"?><svg xmlns=\"http://www.w3.org/2000/svg\" xmlns:xlink=\"http://www.w3.org/1999/xlink\" contentScriptType=\"application/ecmascript\" contentStyleType=\"text/css\" height=\"12px\" preserveAspectRatio=\"none\" style=\"width:12px;height:12px;\" version=\"1.1\" viewBox=\"0 0 12 12\" width=\"12px\" zoomAndPan=\"magnify\"><defs/><g><!--MD5=[f4ee21bc66e489b5061b7c3e9601fdef]\n",
       "@startuml\r\n",
       "top to bottom direction\r\n",
       "skinparam monochrome true\r\n",
       "skinparam classbackgroundcolor white\r\n",
       "skinparam shadowing false\r\n",
       "skinparam wrapWidth 300\r\n",
       "hide circle\r\n",
       "\r\n",
       "@enduml\r\n",
       "\n",
       "PlantUML version 1.2020.13(Sat Jun 13 12:26:38 UTC 2020)\n",
       "(EPL source distribution)\n",
       "Java Runtime: OpenJDK Runtime Environment\n",
       "JVM: OpenJDK 64-Bit Server VM\n",
       "Default Encoding: UTF-8\n",
       "Language: en\n",
       "Country: null\n",
       "--></g></svg>"
      ]
     },
     "execution_count": 46,
     "metadata": {},
     "output_type": "execute_result"
    }
   ],
   "source": [
    "%viz --style=\"TB\" --view=\"State\" \"TextualRepresentationTest\""
   ]
  },
  {
   "cell_type": "code",
   "execution_count": 47,
   "id": "auburn-breakfast",
   "metadata": {
    "execution": {
     "iopub.execute_input": "2021-03-25T15:08:44.565211Z",
     "iopub.status.busy": "2021-03-25T15:08:44.564595Z",
     "iopub.status.idle": "2021-03-25T15:08:44.634816Z",
     "shell.execute_reply": "2021-03-25T15:08:44.634441Z"
    }
   },
   "outputs": [
    {
     "data": {
      "image/svg+xml": [
       "<?xml version=\"1.0\" encoding=\"UTF-8\" standalone=\"no\"?><svg xmlns=\"http://www.w3.org/2000/svg\" xmlns:xlink=\"http://www.w3.org/1999/xlink\" contentScriptType=\"application/ecmascript\" contentStyleType=\"text/css\" height=\"123px\" preserveAspectRatio=\"none\" style=\"width:505px;height:123px;\" version=\"1.1\" viewBox=\"0 0 505 123\" width=\"505px\" zoomAndPan=\"magnify\"><defs/><g><!--MD5=[fbc87193dbaf4d95561dea2c320d4a47]\n",
       "cluster E1--><a href=\"psysml:0fc68415-d7d0-4850-b93e-796cf2adc089\" target=\"_top\" title=\"psysml:0fc68415-d7d0-4850-b93e-796cf2adc089\" xlink:actuate=\"onRequest\" xlink:href=\"psysml:0fc68415-d7d0-4850-b93e-796cf2adc089\" xlink:show=\"new\" xlink:title=\"psysml:0fc68415-d7d0-4850-b93e-796cf2adc089\" xlink:type=\"simple\"><polygon fill=\"#FFFFFF\" points=\"16,6,236,6,243,28.2969,483,28.2969,483,111,16,111,16,6\" style=\"stroke: #000000; stroke-width: 1.5;\"/><line style=\"stroke: #000000; stroke-width: 1.5;\" x1=\"16\" x2=\"243\" y1=\"28.2969\" y2=\"28.2969\"/><text fill=\"#000000\" font-family=\"sans-serif\" font-size=\"14\" font-weight=\"bold\" lengthAdjust=\"spacingAndGlyphs\" textLength=\"214\" x=\"20\" y=\"20.9951\">TextualRepresentationTest</text></a><!--MD5=[b4997ac47864f28c2f74865a473b2911]\n",
       "class E2--><a href=\"psysml:3f2a97d7-c1a2-4f9b-b443-e0389101b303\" target=\"_top\" title=\"psysml:3f2a97d7-c1a2-4f9b-b443-e0389101b303\" xlink:actuate=\"onRequest\" xlink:href=\"psysml:3f2a97d7-c1a2-4f9b-b443-e0389101b303\" xlink:show=\"new\" xlink:title=\"psysml:3f2a97d7-c1a2-4f9b-b443-e0389101b303\" xlink:type=\"simple\"><rect fill=\"#FFFFFF\" height=\"53.9375\" id=\"E2\" style=\"stroke: #383838; stroke-width: 1.5;\" width=\"122\" x=\"345\" y=\"41\"/><text fill=\"#000000\" font-family=\"sans-serif\" font-size=\"12\" font-style=\"italic\" lengthAdjust=\"spacingAndGlyphs\" textLength=\"120\" x=\"346\" y=\"57.1387\">«(T,blue)dataType»</text><text fill=\"#000000\" font-family=\"sans-serif\" font-size=\"12\" lengthAdjust=\"spacingAndGlyphs\" textLength=\"27\" x=\"392.5\" y=\"71.1074\">Real</text><line style=\"stroke: #383838; stroke-width: 1.5;\" x1=\"346\" x2=\"466\" y1=\"78.9375\" y2=\"78.9375\"/><line style=\"stroke: #383838; stroke-width: 1.5;\" x1=\"346\" x2=\"466\" y1=\"86.9375\" y2=\"86.9375\"/></a><!--MD5=[09b614a08d8cba4a07c9adeb5e0fee81]\n",
       "class E3--><a href=\"psysml:bb207011-903d-4a71-a2f5-e51b80009fec\" target=\"_top\" title=\"psysml:bb207011-903d-4a71-a2f5-e51b80009fec\" xlink:actuate=\"onRequest\" xlink:href=\"psysml:bb207011-903d-4a71-a2f5-e51b80009fec\" xlink:show=\"new\" xlink:title=\"psysml:bb207011-903d-4a71-a2f5-e51b80009fec\" xlink:type=\"simple\"><rect fill=\"#FFFFFF\" height=\"53.9375\" id=\"E3\" style=\"stroke: #383838; stroke-width: 1.5;\" width=\"115\" x=\"194.5\" y=\"41\"/><text fill=\"#000000\" font-family=\"sans-serif\" font-size=\"12\" font-style=\"italic\" lengthAdjust=\"spacingAndGlyphs\" textLength=\"113\" x=\"195.5\" y=\"57.1387\">«(T,blue)item def»</text><text fill=\"#000000\" font-family=\"sans-serif\" font-size=\"12\" lengthAdjust=\"spacingAndGlyphs\" textLength=\"8\" x=\"248\" y=\"71.1074\">C</text><line style=\"stroke: #383838; stroke-width: 1.5;\" x1=\"195.5\" x2=\"308.5\" y1=\"78.9375\" y2=\"78.9375\"/><line style=\"stroke: #383838; stroke-width: 1.5;\" x1=\"195.5\" x2=\"308.5\" y1=\"86.9375\" y2=\"86.9375\"/></a><!--MD5=[ebbe1d658d1005bcc118a6aa81145e00]\n",
       "class E4--><a href=\"psysml:ff423fdb-a5ad-4383-b75e-3a1966f8baa4\" target=\"_top\" title=\"psysml:ff423fdb-a5ad-4383-b75e-3a1966f8baa4\" xlink:actuate=\"onRequest\" xlink:href=\"psysml:ff423fdb-a5ad-4383-b75e-3a1966f8baa4\" xlink:show=\"new\" xlink:title=\"psysml:ff423fdb-a5ad-4383-b75e-3a1966f8baa4\" xlink:type=\"simple\"><rect fill=\"#FFFFFF\" height=\"53.9375\" id=\"E4\" style=\"stroke: #383838; stroke-width: 1.5;\" width=\"127\" x=\"32.5\" y=\"41\"/><text fill=\"#000000\" font-family=\"sans-serif\" font-size=\"12\" font-style=\"italic\" lengthAdjust=\"spacingAndGlyphs\" textLength=\"125\" x=\"33.5\" y=\"57.1387\">«(T,blue)action def»</text><text fill=\"#000000\" font-family=\"sans-serif\" font-size=\"12\" lengthAdjust=\"spacingAndGlyphs\" textLength=\"27\" x=\"82.5\" y=\"71.1074\">setX</text><line style=\"stroke: #383838; stroke-width: 1.5;\" x1=\"33.5\" x2=\"158.5\" y1=\"78.9375\" y2=\"78.9375\"/><line style=\"stroke: #383838; stroke-width: 1.5;\" x1=\"33.5\" x2=\"158.5\" y1=\"86.9375\" y2=\"86.9375\"/></a><!--MD5=[b28e5271fc3f68dfba53b2b6c4111f56]\n",
       "@startuml\r\n",
       "skinparam ranksep 8\r\n",
       "skinparam rectangle {\r\n",
       " backgroundColor<<block>> LightGreen\r\n",
       "}\r\n",
       "top to bottom direction\r\n",
       "skinparam monochrome true\r\n",
       "skinparam classbackgroundcolor white\r\n",
       "skinparam shadowing false\r\n",
       "skinparam wrapWidth 300\r\n",
       "hide circle\r\n",
       "\r\n",
       "package \"TextualRepresentationTest\" as E1  [[psysml:0fc68415-d7d0-4850-b93e-796cf2adc089 ]]  {\r\n",
       "def \"Real\" as E2  <<(T,blue)dataType>> [[psysml:3f2a97d7-c1a2-4f9b-b443-e0389101b303 ]] \r\n",
       "def \"C\" as E3  <<(T,blue)item def>> [[psysml:bb207011-903d-4a71-a2f5-e51b80009fec ]] \r\n",
       "def \"setX\" as E4  <<(T,blue)action def>> [[psysml:ff423fdb-a5ad-4383-b75e-3a1966f8baa4 ]] \r\n",
       "}\r\n",
       "@enduml\r\n",
       "\n",
       "PlantUML version 1.2020.13(Sat Jun 13 12:26:38 UTC 2020)\n",
       "(EPL source distribution)\n",
       "Java Runtime: OpenJDK Runtime Environment\n",
       "JVM: OpenJDK 64-Bit Server VM\n",
       "Default Encoding: UTF-8\n",
       "Language: en\n",
       "Country: null\n",
       "--></g></svg>"
      ]
     },
     "execution_count": 47,
     "metadata": {},
     "output_type": "execute_result"
    }
   ],
   "source": [
    "%viz --style=\"TB\" --view=\"Interconnection\" \"TextualRepresentationTest\""
   ]
  },
  {
   "cell_type": "code",
   "execution_count": 48,
   "id": "seeing-pursuit",
   "metadata": {
    "execution": {
     "iopub.execute_input": "2021-03-25T15:08:44.685228Z",
     "iopub.status.busy": "2021-03-25T15:08:44.684789Z",
     "iopub.status.idle": "2021-03-25T15:08:44.747001Z",
     "shell.execute_reply": "2021-03-25T15:08:44.747441Z"
    }
   },
   "outputs": [
    {
     "data": {
      "image/svg+xml": [
       "<?xml version=\"1.0\" encoding=\"UTF-8\" standalone=\"no\"?><svg xmlns=\"http://www.w3.org/2000/svg\" xmlns:xlink=\"http://www.w3.org/1999/xlink\" contentScriptType=\"application/ecmascript\" contentStyleType=\"text/css\" height=\"126px\" preserveAspectRatio=\"none\" style=\"width:150px;height:126px;\" version=\"1.1\" viewBox=\"0 0 150 126\" width=\"150px\" zoomAndPan=\"magnify\"><defs/><g><!--MD5=[fbc87193dbaf4d95561dea2c320d4a47]\n",
       "cluster E1--><a href=\"psysml:ff423fdb-a5ad-4383-b75e-3a1966f8baa4\" target=\"_top\" title=\"psysml:ff423fdb-a5ad-4383-b75e-3a1966f8baa4\" xlink:actuate=\"onRequest\" xlink:href=\"psysml:ff423fdb-a5ad-4383-b75e-3a1966f8baa4\" xlink:show=\"new\" xlink:title=\"psysml:ff423fdb-a5ad-4383-b75e-3a1966f8baa4\" xlink:type=\"simple\"><rect fill=\"#FFFFFF\" height=\"73\" id=\"E1\" style=\"stroke: #383838; stroke-width: 1.5;\" width=\"132\" x=\"7\" y=\"42.0986\"/><rect fill=\"#F8F8F8\" height=\"37.9375\" style=\"stroke: #383838; stroke-width: 1.5;\" width=\"132\" x=\"7\" y=\"42.0986\"/><text fill=\"#000000\" font-family=\"sans-serif\" font-size=\"12\" font-style=\"italic\" lengthAdjust=\"spacingAndGlyphs\" textLength=\"77\" x=\"34.5\" y=\"58.2373\">«action def»</text><text fill=\"#000000\" font-family=\"sans-serif\" font-size=\"12\" lengthAdjust=\"spacingAndGlyphs\" textLength=\"27\" x=\"59.5\" y=\"72.2061\">setX</text></a><text fill=\"#000000\" font-family=\"sans-serif\" font-size=\"14\" lengthAdjust=\"spacingAndGlyphs\" textLength=\"8\" x=\"21\" y=\"20.7969\">c</text><rect fill=\"#383838\" height=\"12\" style=\"stroke: #F8F8F8; stroke-width: 1.5;\" width=\"12\" x=\"19\" y=\"36.0986\"/><text fill=\"#000000\" font-family=\"sans-serif\" font-size=\"14\" lengthAdjust=\"spacingAndGlyphs\" textLength=\"38\" x=\"53\" y=\"20.7969\">newX</text><rect fill=\"#383838\" height=\"12\" style=\"stroke: #F8F8F8; stroke-width: 1.5;\" width=\"12\" x=\"66\" y=\"36.0986\"/><!--MD5=[b8191c8d19c3b5591fead189deef586e]\n",
       "@startuml\r\n",
       "skinparam ranksep 8\r\n",
       "top to bottom direction\r\n",
       "skinparam monochrome true\r\n",
       "skinparam classbackgroundcolor white\r\n",
       "skinparam shadowing false\r\n",
       "skinparam wrapWidth 300\r\n",
       "hide circle\r\n",
       "\r\n",
       "rec def \"setX\" as E1  <<(T,blue)action def>> [[psysml:ff423fdb-a5ad-4383-b75e-3a1966f8baa4 ]] {\r\n",
       "portin \"c\" as E2  [[psysml:4c2c889d-aea7-4bfd-be6e-45844659a6a1 ]] \r\n",
       "portin \"newX\" as E3  [[psysml:471b2978-4f3d-4f5c-bcaa-50341599c3a3 ]] \r\n",
       "}\r\n",
       "\r\n",
       "@enduml\r\n",
       "\n",
       "PlantUML version 1.2020.13(Sat Jun 13 12:26:38 UTC 2020)\n",
       "(EPL source distribution)\n",
       "Java Runtime: OpenJDK Runtime Environment\n",
       "JVM: OpenJDK 64-Bit Server VM\n",
       "Default Encoding: UTF-8\n",
       "Language: en\n",
       "Country: null\n",
       "--></g></svg>"
      ]
     },
     "execution_count": 48,
     "metadata": {},
     "output_type": "execute_result"
    }
   ],
   "source": [
    "%viz --style=\"TB\" --view=\"Action\" \"TextualRepresentationTest\""
   ]
  },
  {
   "cell_type": "code",
   "execution_count": 49,
   "id": "convinced-gnome",
   "metadata": {
    "execution": {
     "iopub.execute_input": "2021-03-25T15:08:44.798183Z",
     "iopub.status.busy": "2021-03-25T15:08:44.797675Z",
     "iopub.status.idle": "2021-03-25T15:08:45.232752Z",
     "shell.execute_reply": "2021-03-25T15:08:45.233128Z"
    }
   },
   "outputs": [
    {
     "data": {
      "image/svg+xml": [
       "<?xml version=\"1.0\" encoding=\"UTF-8\" standalone=\"no\"?><svg xmlns=\"http://www.w3.org/2000/svg\" xmlns:xlink=\"http://www.w3.org/1999/xlink\" contentScriptType=\"application/ecmascript\" contentStyleType=\"text/css\" height=\"297px\" preserveAspectRatio=\"none\" style=\"width:290px;height:297px;\" version=\"1.1\" viewBox=\"0 0 290 297\" width=\"290px\" zoomAndPan=\"magnify\"><defs/><g><!--MD5=[fbc87193dbaf4d95561dea2c320d4a47]\n",
       "cluster E1--><a href=\"psysml:0fc68415-d7d0-4850-b93e-796cf2adc089\" target=\"_top\" title=\"psysml:0fc68415-d7d0-4850-b93e-796cf2adc089\" xlink:actuate=\"onRequest\" xlink:href=\"psysml:0fc68415-d7d0-4850-b93e-796cf2adc089\" xlink:show=\"new\" xlink:title=\"psysml:0fc68415-d7d0-4850-b93e-796cf2adc089\" xlink:type=\"simple\"><polygon fill=\"#FFFFFF\" points=\"16,6,236,6,243,28.2969,268,28.2969,268,285,16,285,16,6\" style=\"stroke: #000000; stroke-width: 1.5;\"/><line style=\"stroke: #000000; stroke-width: 1.5;\" x1=\"16\" x2=\"243\" y1=\"28.2969\" y2=\"28.2969\"/><text fill=\"#000000\" font-family=\"sans-serif\" font-size=\"14\" font-weight=\"bold\" lengthAdjust=\"spacingAndGlyphs\" textLength=\"214\" x=\"20\" y=\"20.9951\">TextualRepresentationTest</text></a><!--MD5=[b4997ac47864f28c2f74865a473b2911]\n",
       "class E2--><a href=\"psysml:3f2a97d7-c1a2-4f9b-b443-e0389101b303\" target=\"_top\" title=\"psysml:3f2a97d7-c1a2-4f9b-b443-e0389101b303\" xlink:actuate=\"onRequest\" xlink:href=\"psysml:3f2a97d7-c1a2-4f9b-b443-e0389101b303\" xlink:show=\"new\" xlink:title=\"psysml:3f2a97d7-c1a2-4f9b-b443-e0389101b303\" xlink:type=\"simple\"><rect fill=\"#FFFFFF\" height=\"45.9375\" id=\"E2\" style=\"stroke: #383838; stroke-width: 1.5;\" width=\"74\" x=\"32\" y=\"193.5\"/><text fill=\"#000000\" font-family=\"sans-serif\" font-size=\"12\" font-style=\"italic\" lengthAdjust=\"spacingAndGlyphs\" textLength=\"72\" x=\"33\" y=\"209.6387\">«dataType»</text><text fill=\"#000000\" font-family=\"sans-serif\" font-size=\"12\" lengthAdjust=\"spacingAndGlyphs\" textLength=\"27\" x=\"55.5\" y=\"223.6074\">Real</text><line style=\"stroke: #383838; stroke-width: 1.5;\" x1=\"33\" x2=\"105\" y1=\"231.4375\" y2=\"231.4375\"/></a><!--MD5=[09b614a08d8cba4a07c9adeb5e0fee81]\n",
       "class E3--><a href=\"psysml:bb207011-903d-4a71-a2f5-e51b80009fec\" target=\"_top\" title=\"psysml:bb207011-903d-4a71-a2f5-e51b80009fec\" xlink:actuate=\"onRequest\" xlink:href=\"psysml:bb207011-903d-4a71-a2f5-e51b80009fec\" xlink:show=\"new\" xlink:title=\"psysml:bb207011-903d-4a71-a2f5-e51b80009fec\" xlink:type=\"simple\"><rect fill=\"#FFFFFF\" height=\"105.1563\" id=\"E3\" style=\"stroke: #383838; stroke-width: 1.5;\" width=\"111\" x=\"141.5\" y=\"164\"/><text fill=\"#000000\" font-family=\"sans-serif\" font-size=\"12\" font-style=\"italic\" lengthAdjust=\"spacingAndGlyphs\" textLength=\"65\" x=\"164.5\" y=\"180.1387\">«item def»</text><text fill=\"#000000\" font-family=\"sans-serif\" font-size=\"12\" lengthAdjust=\"spacingAndGlyphs\" textLength=\"8\" x=\"193\" y=\"194.1074\">C</text><line style=\"stroke: #383838; stroke-width: 1.5;\" x1=\"142.5\" x2=\"251.5\" y1=\"201.9375\" y2=\"201.9375\"/><text fill=\"#000000\" font-family=\"sans-serif\" font-size=\"11\" lengthAdjust=\"spacingAndGlyphs\" textLength=\"38\" x=\"147.5\" y=\"232.9526\">x: Real</text><line style=\"stroke: #383838; stroke-width: 1.0;\" x1=\"142.5\" x2=\"169.5\" y1=\"216.3398\" y2=\"216.3398\"/><text fill=\"#000000\" font-family=\"sans-serif\" font-size=\"11\" lengthAdjust=\"spacingAndGlyphs\" textLength=\"55\" x=\"169.5\" y=\"219.6479\">attributes</text><line style=\"stroke: #383838; stroke-width: 1.0;\" x1=\"224.5\" x2=\"251.5\" y1=\"216.3398\" y2=\"216.3398\"/><text fill=\"#000000\" font-family=\"sans-serif\" font-size=\"11\" lengthAdjust=\"spacingAndGlyphs\" textLength=\"69\" x=\"147.5\" y=\"262.562\">x_constraint</text><line style=\"stroke: #383838; stroke-width: 1.0;\" x1=\"142.5\" x2=\"145.5\" y1=\"245.9492\" y2=\"245.9492\"/><text fill=\"#000000\" font-family=\"sans-serif\" font-size=\"11\" lengthAdjust=\"spacingAndGlyphs\" textLength=\"103\" x=\"145.5\" y=\"249.2573\">assertConstraints</text><line style=\"stroke: #383838; stroke-width: 1.0;\" x1=\"248.5\" x2=\"251.5\" y1=\"245.9492\" y2=\"245.9492\"/></a><!--MD5=[270fce915f116d4de14055a7c1d9a0f3]\n",
       "class E5--><a href=\"psysml:ff423fdb-a5ad-4383-b75e-3a1966f8baa4\" target=\"_top\" title=\"psysml:ff423fdb-a5ad-4383-b75e-3a1966f8baa4\" xlink:actuate=\"onRequest\" xlink:href=\"psysml:ff423fdb-a5ad-4383-b75e-3a1966f8baa4\" xlink:show=\"new\" xlink:title=\"psysml:ff423fdb-a5ad-4383-b75e-3a1966f8baa4\" xlink:type=\"simple\"><rect fill=\"#FFFFFF\" height=\"45.9375\" id=\"E5\" style=\"stroke: #383838; stroke-width: 1.5;\" width=\"79\" x=\"67.5\" y=\"41\"/><text fill=\"#000000\" font-family=\"sans-serif\" font-size=\"12\" font-style=\"italic\" lengthAdjust=\"spacingAndGlyphs\" textLength=\"77\" x=\"68.5\" y=\"57.1387\">«action def»</text><text fill=\"#000000\" font-family=\"sans-serif\" font-size=\"12\" lengthAdjust=\"spacingAndGlyphs\" textLength=\"27\" x=\"93.5\" y=\"71.1074\">setX</text><line style=\"stroke: #383838; stroke-width: 1.5;\" x1=\"68.5\" x2=\"145.5\" y1=\"78.9375\" y2=\"78.9375\"/></a><!--MD5=[6f107eb264eda4b26325f39a5516f1f3]\n",
       "reverse link E5 to E3--><a href=\"psysml:4c2c889d-aea7-4bfd-be6e-45844659a6a1\" target=\"_top\" title=\"psysml:4c2c889d-aea7-4bfd-be6e-45844659a6a1\" xlink:actuate=\"onRequest\" xlink:href=\"psysml:4c2c889d-aea7-4bfd-be6e-45844659a6a1\" xlink:show=\"new\" xlink:title=\"psysml:4c2c889d-aea7-4bfd-be6e-45844659a6a1\" xlink:type=\"simple\"><path d=\"M126.98,98.42 C138.48,117.65 153.18,142.22 166.13,163.88 \" fill=\"none\" id=\"E5&lt;-E3\" style=\"stroke: #383838; stroke-width: 1.0;\"/><polygon fill=\"#FFFFFF\" points=\"120.28,87.21,119.9261,94.4124,126.4384,97.5092,126.7923,90.3068,120.28,87.21\" style=\"stroke: #383838; stroke-width: 1.0;\"/><text fill=\"#000000\" font-family=\"sans-serif\" font-size=\"13\" lengthAdjust=\"spacingAndGlyphs\" textLength=\"7\" x=\"147\" y=\"130.0669\">c</text></a><!--MD5=[f51c6d1f1856fe338ac0413483fb1ccf]\n",
       "reverse link E5 to E2--><a href=\"psysml:471b2978-4f3d-4f5c-bcaa-50341599c3a3\" target=\"_top\" title=\"psysml:471b2978-4f3d-4f5c-bcaa-50341599c3a3\" xlink:actuate=\"onRequest\" xlink:href=\"psysml:471b2978-4f3d-4f5c-bcaa-50341599c3a3\" xlink:show=\"new\" xlink:title=\"psysml:471b2978-4f3d-4f5c-bcaa-50341599c3a3\" xlink:type=\"simple\"><path d=\"M98.18,99.93 C90.92,128.69 80.84,168.6 74.63,193.2 \" fill=\"none\" id=\"E5&lt;-E2\" style=\"stroke: #383838; stroke-width: 1.0;\"/><polygon fill=\"#FFFFFF\" points=\"101.39,87.21,96.0413,92.0465,98.4485,98.8439,103.7972,94.0074,101.39,87.21\" style=\"stroke: #383838; stroke-width: 1.0;\"/><text fill=\"#000000\" font-family=\"sans-serif\" font-size=\"13\" lengthAdjust=\"spacingAndGlyphs\" textLength=\"33\" x=\"94\" y=\"130.0669\">newX</text></a><!--MD5=[81d601024aebcc33d558c1c49df98fe7]\n",
       "@startuml\r\n",
       "top to bottom direction\r\n",
       "skinparam monochrome true\r\n",
       "skinparam classbackgroundcolor white\r\n",
       "skinparam shadowing false\r\n",
       "skinparam wrapWidth 300\r\n",
       "hide circle\r\n",
       "\r\n",
       "package \"TextualRepresentationTest\" as E1  [[psysml:0fc68415-d7d0-4850-b93e-796cf2adc089 ]]  {\r\n",
       "comp def \"Real\" as E2  <<(T,blue)dataType>> [[psysml:3f2a97d7-c1a2-4f9b-b443-e0389101b303 ]] {\r\n",
       "}\r\n",
       "comp def \"C\" as E3  <<(T,blue)item def>> [[psysml:bb207011-903d-4a71-a2f5-e51b80009fec ]] {\r\n",
       "- - attributes - -\r\n",
       "x: Real\r\n",
       "- - assertConstraints - -\r\n",
       "x_constraint\r\n",
       "}\r\n",
       "comp def \"setX\" as E5  <<(T,blue)action def>> [[psysml:ff423fdb-a5ad-4383-b75e-3a1966f8baa4 ]] {\r\n",
       "}\r\n",
       "E5 o- - E3 [[psysml:4c2c889d-aea7-4bfd-be6e-45844659a6a1 ]] : c\r\n",
       "E5 o- - E2 [[psysml:471b2978-4f3d-4f5c-bcaa-50341599c3a3 ]] : newX\r\n",
       "}\r\n",
       "@enduml\r\n",
       "\n",
       "PlantUML version 1.2020.13(Sat Jun 13 12:26:38 UTC 2020)\n",
       "(EPL source distribution)\n",
       "Java Runtime: OpenJDK Runtime Environment\n",
       "JVM: OpenJDK 64-Bit Server VM\n",
       "Default Encoding: UTF-8\n",
       "Language: en\n",
       "Country: null\n",
       "--></g></svg>"
      ]
     },
     "execution_count": 49,
     "metadata": {},
     "output_type": "execute_result"
    }
   ],
   "source": [
    "%viz --style=\"TB\" --view=\"Sequence\" \"TextualRepresentationTest\""
   ]
  },
  {
   "cell_type": "code",
   "execution_count": 50,
   "id": "growing-separate",
   "metadata": {
    "execution": {
     "iopub.execute_input": "2021-03-25T15:08:45.283965Z",
     "iopub.status.busy": "2021-03-25T15:08:45.283584Z",
     "iopub.status.idle": "2021-03-25T15:08:45.737327Z",
     "shell.execute_reply": "2021-03-25T15:08:45.736988Z"
    }
   },
   "outputs": [
    {
     "data": {
      "image/svg+xml": [
       "<?xml version=\"1.0\" encoding=\"UTF-8\" standalone=\"no\"?><svg xmlns=\"http://www.w3.org/2000/svg\" xmlns:xlink=\"http://www.w3.org/1999/xlink\" contentScriptType=\"application/ecmascript\" contentStyleType=\"text/css\" height=\"285px\" preserveAspectRatio=\"none\" style=\"width:432px;height:285px;\" version=\"1.1\" viewBox=\"0 0 432 285\" width=\"432px\" zoomAndPan=\"magnify\"><defs/><g><!--MD5=[fbc87193dbaf4d95561dea2c320d4a47]\n",
       "cluster E1--><a href=\"psysml:0fc68415-d7d0-4850-b93e-796cf2adc089\" target=\"_top\" title=\"psysml:0fc68415-d7d0-4850-b93e-796cf2adc089\" xlink:actuate=\"onRequest\" xlink:href=\"psysml:0fc68415-d7d0-4850-b93e-796cf2adc089\" xlink:show=\"new\" xlink:title=\"psysml:0fc68415-d7d0-4850-b93e-796cf2adc089\" xlink:type=\"simple\"><polygon fill=\"#FFFFFF\" points=\"16,6,236,6,243,28.2969,410,28.2969,410,273,16,273,16,6\" style=\"stroke: #000000; stroke-width: 1.5;\"/><line style=\"stroke: #000000; stroke-width: 1.5;\" x1=\"16\" x2=\"243\" y1=\"28.2969\" y2=\"28.2969\"/><text fill=\"#000000\" font-family=\"sans-serif\" font-size=\"14\" font-weight=\"bold\" lengthAdjust=\"spacingAndGlyphs\" textLength=\"214\" x=\"20\" y=\"20.9951\">TextualRepresentationTest</text></a><!--MD5=[de5ec2e2e8f62f467e546659f5068c88]\n",
       "cluster E5--><a href=\"psysml:ff423fdb-a5ad-4383-b75e-3a1966f8baa4\" target=\"_top\" title=\"psysml:ff423fdb-a5ad-4383-b75e-3a1966f8baa4\" xlink:actuate=\"onRequest\" xlink:href=\"psysml:ff423fdb-a5ad-4383-b75e-3a1966f8baa4\" xlink:show=\"new\" xlink:title=\"psysml:ff423fdb-a5ad-4383-b75e-3a1966f8baa4\" xlink:type=\"simple\"><rect fill=\"#FFFFFF\" height=\"163.5\" id=\"E5\" style=\"stroke: #383838; stroke-width: 1.5;\" width=\"96\" x=\"268.5\" y=\"93.5\"/><rect fill=\"#F8F8F8\" height=\"37.9375\" style=\"stroke: #383838; stroke-width: 1.5;\" width=\"96\" x=\"268.5\" y=\"93.5\"/><text fill=\"#000000\" font-family=\"sans-serif\" font-size=\"12\" font-style=\"italic\" lengthAdjust=\"spacingAndGlyphs\" textLength=\"77\" x=\"278\" y=\"109.6387\">«action def»</text><text fill=\"#000000\" font-family=\"sans-serif\" font-size=\"12\" lengthAdjust=\"spacingAndGlyphs\" textLength=\"27\" x=\"303\" y=\"123.6074\">setX</text></a><!--MD5=[b4997ac47864f28c2f74865a473b2911]\n",
       "class E2--><a href=\"psysml:3f2a97d7-c1a2-4f9b-b443-e0389101b303\" target=\"_top\" title=\"psysml:3f2a97d7-c1a2-4f9b-b443-e0389101b303\" xlink:actuate=\"onRequest\" xlink:href=\"psysml:3f2a97d7-c1a2-4f9b-b443-e0389101b303\" xlink:show=\"new\" xlink:title=\"psysml:3f2a97d7-c1a2-4f9b-b443-e0389101b303\" xlink:type=\"simple\"><rect fill=\"#FFFFFF\" height=\"45.9375\" id=\"E2\" style=\"stroke: #383838; stroke-width: 1.5;\" width=\"74\" x=\"178\" y=\"70.5\"/><text fill=\"#000000\" font-family=\"sans-serif\" font-size=\"12\" font-style=\"italic\" lengthAdjust=\"spacingAndGlyphs\" textLength=\"72\" x=\"179\" y=\"86.6387\">«dataType»</text><text fill=\"#000000\" font-family=\"sans-serif\" font-size=\"12\" lengthAdjust=\"spacingAndGlyphs\" textLength=\"27\" x=\"201.5\" y=\"100.6074\">Real</text><line style=\"stroke: #383838; stroke-width: 1.5;\" x1=\"179\" x2=\"251\" y1=\"108.4375\" y2=\"108.4375\"/></a><!--MD5=[09b614a08d8cba4a07c9adeb5e0fee81]\n",
       "class E3--><a href=\"psysml:bb207011-903d-4a71-a2f5-e51b80009fec\" target=\"_top\" title=\"psysml:bb207011-903d-4a71-a2f5-e51b80009fec\" xlink:actuate=\"onRequest\" xlink:href=\"psysml:bb207011-903d-4a71-a2f5-e51b80009fec\" xlink:show=\"new\" xlink:title=\"psysml:bb207011-903d-4a71-a2f5-e51b80009fec\" xlink:type=\"simple\"><rect fill=\"#FFFFFF\" height=\"105.1563\" id=\"E3\" style=\"stroke: #383838; stroke-width: 1.5;\" width=\"111\" x=\"31.5\" y=\"41\"/><text fill=\"#000000\" font-family=\"sans-serif\" font-size=\"12\" font-style=\"italic\" lengthAdjust=\"spacingAndGlyphs\" textLength=\"65\" x=\"54.5\" y=\"57.1387\">«item def»</text><text fill=\"#000000\" font-family=\"sans-serif\" font-size=\"12\" lengthAdjust=\"spacingAndGlyphs\" textLength=\"8\" x=\"83\" y=\"71.1074\">C</text><line style=\"stroke: #383838; stroke-width: 1.5;\" x1=\"32.5\" x2=\"141.5\" y1=\"78.9375\" y2=\"78.9375\"/><text fill=\"#000000\" font-family=\"sans-serif\" font-size=\"11\" lengthAdjust=\"spacingAndGlyphs\" textLength=\"38\" x=\"37.5\" y=\"109.9526\">x: Real</text><line style=\"stroke: #383838; stroke-width: 1.0;\" x1=\"32.5\" x2=\"59.5\" y1=\"93.3398\" y2=\"93.3398\"/><text fill=\"#000000\" font-family=\"sans-serif\" font-size=\"11\" lengthAdjust=\"spacingAndGlyphs\" textLength=\"55\" x=\"59.5\" y=\"96.6479\">attributes</text><line style=\"stroke: #383838; stroke-width: 1.0;\" x1=\"114.5\" x2=\"141.5\" y1=\"93.3398\" y2=\"93.3398\"/><text fill=\"#000000\" font-family=\"sans-serif\" font-size=\"11\" lengthAdjust=\"spacingAndGlyphs\" textLength=\"69\" x=\"37.5\" y=\"139.562\">x_constraint</text><line style=\"stroke: #383838; stroke-width: 1.0;\" x1=\"32.5\" x2=\"35.5\" y1=\"122.9492\" y2=\"122.9492\"/><text fill=\"#000000\" font-family=\"sans-serif\" font-size=\"11\" lengthAdjust=\"spacingAndGlyphs\" textLength=\"103\" x=\"35.5\" y=\"126.2573\">assertConstraints</text><line style=\"stroke: #383838; stroke-width: 1.0;\" x1=\"138.5\" x2=\"141.5\" y1=\"122.9492\" y2=\"122.9492\"/></a><text fill=\"#000000\" font-family=\"sans-serif\" font-size=\"14\" lengthAdjust=\"spacingAndGlyphs\" textLength=\"8\" x=\"289\" y=\"72.1982\">c</text><rect fill=\"#383838\" height=\"12\" style=\"stroke: #F8F8F8; stroke-width: 1.5;\" width=\"12\" x=\"287\" y=\"87.5\"/><text fill=\"#000000\" font-family=\"sans-serif\" font-size=\"14\" lengthAdjust=\"spacingAndGlyphs\" textLength=\"38\" x=\"321\" y=\"72.1982\">newX</text><rect fill=\"#383838\" height=\"12\" style=\"stroke: #F8F8F8; stroke-width: 1.5;\" width=\"12\" x=\"334\" y=\"87.5\"/><!--MD5=[04a7290797934d39e6045023dd941420]\n",
       "@startuml\r\n",
       "top to bottom direction\r\n",
       "skinparam monochrome true\r\n",
       "skinparam classbackgroundcolor white\r\n",
       "skinparam shadowing false\r\n",
       "skinparam wrapWidth 300\r\n",
       "hide circle\r\n",
       "\r\n",
       "package \"TextualRepresentationTest\" as E1  [[psysml:0fc68415-d7d0-4850-b93e-796cf2adc089 ]]  {\r\n",
       "comp def \"Real\" as E2  <<(T,blue)dataType>> [[psysml:3f2a97d7-c1a2-4f9b-b443-e0389101b303 ]] {\r\n",
       "}\r\n",
       "comp def \"C\" as E3  <<(T,blue)item def>> [[psysml:bb207011-903d-4a71-a2f5-e51b80009fec ]] {\r\n",
       "- - attributes - -\r\n",
       "x: Real\r\n",
       "- - assertConstraints - -\r\n",
       "x_constraint\r\n",
       "}\r\n",
       "rec def \"setX\" as E5  <<(T,blue)action def>> [[psysml:ff423fdb-a5ad-4383-b75e-3a1966f8baa4 ]] {\r\n",
       "portin \"c\" as E6  [[psysml:4c2c889d-aea7-4bfd-be6e-45844659a6a1 ]] \r\n",
       "portin \"newX\" as E7  [[psysml:471b2978-4f3d-4f5c-bcaa-50341599c3a3 ]] \r\n",
       "}\r\n",
       "\r\n",
       "}\r\n",
       "@enduml\r\n",
       "\n",
       "PlantUML version 1.2020.13(Sat Jun 13 12:26:38 UTC 2020)\n",
       "(EPL source distribution)\n",
       "Java Runtime: OpenJDK Runtime Environment\n",
       "JVM: OpenJDK 64-Bit Server VM\n",
       "Default Encoding: UTF-8\n",
       "Language: en\n",
       "Country: null\n",
       "--></g></svg>"
      ]
     },
     "execution_count": 50,
     "metadata": {},
     "output_type": "execute_result"
    }
   ],
   "source": [
    "%viz --style=\"TB\" --view=\"MIXED\" \"TextualRepresentationTest\""
   ]
  },
  {
   "cell_type": "code",
   "execution_count": 51,
   "id": "committed-lover",
   "metadata": {
    "execution": {
     "iopub.execute_input": "2021-03-25T15:08:45.788801Z",
     "iopub.status.busy": "2021-03-25T15:08:45.788266Z",
     "iopub.status.idle": "2021-03-25T15:08:46.239241Z",
     "shell.execute_reply": "2021-03-25T15:08:46.237869Z"
    }
   },
   "outputs": [
    {
     "data": {
      "image/svg+xml": [
       "<?xml version=\"1.0\" encoding=\"UTF-8\" standalone=\"no\"?><svg xmlns=\"http://www.w3.org/2000/svg\" xmlns:xlink=\"http://www.w3.org/1999/xlink\" contentScriptType=\"application/ecmascript\" contentStyleType=\"text/css\" height=\"285px\" preserveAspectRatio=\"none\" style=\"width:432px;height:285px;\" version=\"1.1\" viewBox=\"0 0 432 285\" width=\"432px\" zoomAndPan=\"magnify\"><defs/><g><!--MD5=[fbc87193dbaf4d95561dea2c320d4a47]\n",
       "cluster E1--><a href=\"psysml:0fc68415-d7d0-4850-b93e-796cf2adc089\" target=\"_top\" title=\"psysml:0fc68415-d7d0-4850-b93e-796cf2adc089\" xlink:actuate=\"onRequest\" xlink:href=\"psysml:0fc68415-d7d0-4850-b93e-796cf2adc089\" xlink:show=\"new\" xlink:title=\"psysml:0fc68415-d7d0-4850-b93e-796cf2adc089\" xlink:type=\"simple\"><polygon fill=\"#FFFFFF\" points=\"16,6,236,6,243,28.2969,410,28.2969,410,273,16,273,16,6\" style=\"stroke: #000000; stroke-width: 1.5;\"/><line style=\"stroke: #000000; stroke-width: 1.5;\" x1=\"16\" x2=\"243\" y1=\"28.2969\" y2=\"28.2969\"/><text fill=\"#000000\" font-family=\"sans-serif\" font-size=\"14\" font-weight=\"bold\" lengthAdjust=\"spacingAndGlyphs\" textLength=\"214\" x=\"20\" y=\"20.9951\">TextualRepresentationTest</text></a><!--MD5=[de5ec2e2e8f62f467e546659f5068c88]\n",
       "cluster E5--><a href=\"psysml:ff423fdb-a5ad-4383-b75e-3a1966f8baa4\" target=\"_top\" title=\"psysml:ff423fdb-a5ad-4383-b75e-3a1966f8baa4\" xlink:actuate=\"onRequest\" xlink:href=\"psysml:ff423fdb-a5ad-4383-b75e-3a1966f8baa4\" xlink:show=\"new\" xlink:title=\"psysml:ff423fdb-a5ad-4383-b75e-3a1966f8baa4\" xlink:type=\"simple\"><rect fill=\"#FFFFFF\" height=\"163.5\" id=\"E5\" style=\"stroke: #383838; stroke-width: 1.5;\" width=\"96\" x=\"268.5\" y=\"93.5\"/><rect fill=\"#F8F8F8\" height=\"37.9375\" style=\"stroke: #383838; stroke-width: 1.5;\" width=\"96\" x=\"268.5\" y=\"93.5\"/><text fill=\"#000000\" font-family=\"sans-serif\" font-size=\"12\" font-style=\"italic\" lengthAdjust=\"spacingAndGlyphs\" textLength=\"77\" x=\"278\" y=\"109.6387\">«action def»</text><text fill=\"#000000\" font-family=\"sans-serif\" font-size=\"12\" lengthAdjust=\"spacingAndGlyphs\" textLength=\"27\" x=\"303\" y=\"123.6074\">setX</text></a><!--MD5=[b4997ac47864f28c2f74865a473b2911]\n",
       "class E2--><a href=\"psysml:3f2a97d7-c1a2-4f9b-b443-e0389101b303\" target=\"_top\" title=\"psysml:3f2a97d7-c1a2-4f9b-b443-e0389101b303\" xlink:actuate=\"onRequest\" xlink:href=\"psysml:3f2a97d7-c1a2-4f9b-b443-e0389101b303\" xlink:show=\"new\" xlink:title=\"psysml:3f2a97d7-c1a2-4f9b-b443-e0389101b303\" xlink:type=\"simple\"><rect fill=\"#FFFFFF\" height=\"45.9375\" id=\"E2\" style=\"stroke: #383838; stroke-width: 1.5;\" width=\"74\" x=\"178\" y=\"70.5\"/><text fill=\"#000000\" font-family=\"sans-serif\" font-size=\"12\" font-style=\"italic\" lengthAdjust=\"spacingAndGlyphs\" textLength=\"72\" x=\"179\" y=\"86.6387\">«dataType»</text><text fill=\"#000000\" font-family=\"sans-serif\" font-size=\"12\" lengthAdjust=\"spacingAndGlyphs\" textLength=\"27\" x=\"201.5\" y=\"100.6074\">Real</text><line style=\"stroke: #383838; stroke-width: 1.5;\" x1=\"179\" x2=\"251\" y1=\"108.4375\" y2=\"108.4375\"/></a><!--MD5=[09b614a08d8cba4a07c9adeb5e0fee81]\n",
       "class E3--><a href=\"psysml:bb207011-903d-4a71-a2f5-e51b80009fec\" target=\"_top\" title=\"psysml:bb207011-903d-4a71-a2f5-e51b80009fec\" xlink:actuate=\"onRequest\" xlink:href=\"psysml:bb207011-903d-4a71-a2f5-e51b80009fec\" xlink:show=\"new\" xlink:title=\"psysml:bb207011-903d-4a71-a2f5-e51b80009fec\" xlink:type=\"simple\"><rect fill=\"#FFFFFF\" height=\"105.1563\" id=\"E3\" style=\"stroke: #383838; stroke-width: 1.5;\" width=\"111\" x=\"31.5\" y=\"41\"/><text fill=\"#000000\" font-family=\"sans-serif\" font-size=\"12\" font-style=\"italic\" lengthAdjust=\"spacingAndGlyphs\" textLength=\"65\" x=\"54.5\" y=\"57.1387\">«item def»</text><text fill=\"#000000\" font-family=\"sans-serif\" font-size=\"12\" lengthAdjust=\"spacingAndGlyphs\" textLength=\"8\" x=\"83\" y=\"71.1074\">C</text><line style=\"stroke: #383838; stroke-width: 1.5;\" x1=\"32.5\" x2=\"141.5\" y1=\"78.9375\" y2=\"78.9375\"/><text fill=\"#000000\" font-family=\"sans-serif\" font-size=\"11\" lengthAdjust=\"spacingAndGlyphs\" textLength=\"38\" x=\"37.5\" y=\"109.9526\">x: Real</text><line style=\"stroke: #383838; stroke-width: 1.0;\" x1=\"32.5\" x2=\"59.5\" y1=\"93.3398\" y2=\"93.3398\"/><text fill=\"#000000\" font-family=\"sans-serif\" font-size=\"11\" lengthAdjust=\"spacingAndGlyphs\" textLength=\"55\" x=\"59.5\" y=\"96.6479\">attributes</text><line style=\"stroke: #383838; stroke-width: 1.0;\" x1=\"114.5\" x2=\"141.5\" y1=\"93.3398\" y2=\"93.3398\"/><text fill=\"#000000\" font-family=\"sans-serif\" font-size=\"11\" lengthAdjust=\"spacingAndGlyphs\" textLength=\"69\" x=\"37.5\" y=\"139.562\">x_constraint</text><line style=\"stroke: #383838; stroke-width: 1.0;\" x1=\"32.5\" x2=\"35.5\" y1=\"122.9492\" y2=\"122.9492\"/><text fill=\"#000000\" font-family=\"sans-serif\" font-size=\"11\" lengthAdjust=\"spacingAndGlyphs\" textLength=\"103\" x=\"35.5\" y=\"126.2573\">assertConstraints</text><line style=\"stroke: #383838; stroke-width: 1.0;\" x1=\"138.5\" x2=\"141.5\" y1=\"122.9492\" y2=\"122.9492\"/></a><text fill=\"#000000\" font-family=\"sans-serif\" font-size=\"14\" lengthAdjust=\"spacingAndGlyphs\" textLength=\"8\" x=\"289\" y=\"72.1982\">c</text><rect fill=\"#383838\" height=\"12\" style=\"stroke: #F8F8F8; stroke-width: 1.5;\" width=\"12\" x=\"287\" y=\"87.5\"/><text fill=\"#000000\" font-family=\"sans-serif\" font-size=\"14\" lengthAdjust=\"spacingAndGlyphs\" textLength=\"38\" x=\"321\" y=\"72.1982\">newX</text><rect fill=\"#383838\" height=\"12\" style=\"stroke: #F8F8F8; stroke-width: 1.5;\" width=\"12\" x=\"334\" y=\"87.5\"/><!--MD5=[62d03594019203cde7e8eb921f6baa19]\n",
       "@startuml\r\n",
       "skinparam linetype ortho\r\n",
       "skinparam monochrome true\r\n",
       "skinparam classbackgroundcolor white\r\n",
       "skinparam shadowing false\r\n",
       "skinparam wrapWidth 300\r\n",
       "hide circle\r\n",
       "\r\n",
       "package \"TextualRepresentationTest\" as E1  [[psysml:0fc68415-d7d0-4850-b93e-796cf2adc089 ]]  {\r\n",
       "comp def \"Real\" as E2  <<(T,blue)dataType>> [[psysml:3f2a97d7-c1a2-4f9b-b443-e0389101b303 ]] {\r\n",
       "}\r\n",
       "comp def \"C\" as E3  <<(T,blue)item def>> [[psysml:bb207011-903d-4a71-a2f5-e51b80009fec ]] {\r\n",
       "- - attributes - -\r\n",
       "x: Real\r\n",
       "- - assertConstraints - -\r\n",
       "x_constraint\r\n",
       "}\r\n",
       "rec def \"setX\" as E5  <<(T,blue)action def>> [[psysml:ff423fdb-a5ad-4383-b75e-3a1966f8baa4 ]] {\r\n",
       "portin \"c\" as E6  [[psysml:4c2c889d-aea7-4bfd-be6e-45844659a6a1 ]] \r\n",
       "portin \"newX\" as E7  [[psysml:471b2978-4f3d-4f5c-bcaa-50341599c3a3 ]] \r\n",
       "}\r\n",
       "\r\n",
       "}\r\n",
       "@enduml\r\n",
       "\n",
       "PlantUML version 1.2020.13(Sat Jun 13 12:26:38 UTC 2020)\n",
       "(EPL source distribution)\n",
       "Java Runtime: OpenJDK Runtime Environment\n",
       "JVM: OpenJDK 64-Bit Server VM\n",
       "Default Encoding: UTF-8\n",
       "Language: en\n",
       "Country: null\n",
       "--></g></svg>"
      ]
     },
     "execution_count": 51,
     "metadata": {},
     "output_type": "execute_result"
    }
   ],
   "source": [
    "%viz --style=\"ORTHOLINE\" --view=\"Default\" \"TextualRepresentationTest\""
   ]
  },
  {
   "cell_type": "code",
   "execution_count": 52,
   "id": "dense-merit",
   "metadata": {
    "execution": {
     "iopub.execute_input": "2021-03-25T15:08:46.292083Z",
     "iopub.status.busy": "2021-03-25T15:08:46.291529Z",
     "iopub.status.idle": "2021-03-25T15:08:46.732729Z",
     "shell.execute_reply": "2021-03-25T15:08:46.731380Z"
    }
   },
   "outputs": [
    {
     "data": {
      "image/svg+xml": [
       "<?xml version=\"1.0\" encoding=\"UTF-8\" standalone=\"no\"?><svg xmlns=\"http://www.w3.org/2000/svg\" xmlns:xlink=\"http://www.w3.org/1999/xlink\" contentScriptType=\"application/ecmascript\" contentStyleType=\"text/css\" height=\"297px\" preserveAspectRatio=\"none\" style=\"width:290px;height:297px;\" version=\"1.1\" viewBox=\"0 0 290 297\" width=\"290px\" zoomAndPan=\"magnify\"><defs/><g><!--MD5=[fbc87193dbaf4d95561dea2c320d4a47]\n",
       "cluster E1--><a href=\"psysml:0fc68415-d7d0-4850-b93e-796cf2adc089\" target=\"_top\" title=\"psysml:0fc68415-d7d0-4850-b93e-796cf2adc089\" xlink:actuate=\"onRequest\" xlink:href=\"psysml:0fc68415-d7d0-4850-b93e-796cf2adc089\" xlink:show=\"new\" xlink:title=\"psysml:0fc68415-d7d0-4850-b93e-796cf2adc089\" xlink:type=\"simple\"><polygon fill=\"#FFFFFF\" points=\"16,6,236,6,243,28.2969,268,28.2969,268,285,16,285,16,6\" style=\"stroke: #000000; stroke-width: 1.5;\"/><line style=\"stroke: #000000; stroke-width: 1.5;\" x1=\"16\" x2=\"243\" y1=\"28.2969\" y2=\"28.2969\"/><text fill=\"#000000\" font-family=\"sans-serif\" font-size=\"14\" font-weight=\"bold\" lengthAdjust=\"spacingAndGlyphs\" textLength=\"214\" x=\"20\" y=\"20.9951\">TextualRepresentationTest</text></a><!--MD5=[b4997ac47864f28c2f74865a473b2911]\n",
       "class E2--><a href=\"psysml:3f2a97d7-c1a2-4f9b-b443-e0389101b303\" target=\"_top\" title=\"psysml:3f2a97d7-c1a2-4f9b-b443-e0389101b303\" xlink:actuate=\"onRequest\" xlink:href=\"psysml:3f2a97d7-c1a2-4f9b-b443-e0389101b303\" xlink:show=\"new\" xlink:title=\"psysml:3f2a97d7-c1a2-4f9b-b443-e0389101b303\" xlink:type=\"simple\"><rect fill=\"#FFFFFF\" height=\"45.9375\" id=\"E2\" style=\"stroke: #383838; stroke-width: 1.5;\" width=\"74\" x=\"32\" y=\"193.5\"/><text fill=\"#000000\" font-family=\"sans-serif\" font-size=\"12\" font-style=\"italic\" lengthAdjust=\"spacingAndGlyphs\" textLength=\"72\" x=\"33\" y=\"209.6387\">«dataType»</text><text fill=\"#000000\" font-family=\"sans-serif\" font-size=\"12\" lengthAdjust=\"spacingAndGlyphs\" textLength=\"27\" x=\"55.5\" y=\"223.6074\">Real</text><line style=\"stroke: #383838; stroke-width: 1.5;\" x1=\"33\" x2=\"105\" y1=\"231.4375\" y2=\"231.4375\"/></a><!--MD5=[09b614a08d8cba4a07c9adeb5e0fee81]\n",
       "class E3--><a href=\"psysml:bb207011-903d-4a71-a2f5-e51b80009fec\" target=\"_top\" title=\"psysml:bb207011-903d-4a71-a2f5-e51b80009fec\" xlink:actuate=\"onRequest\" xlink:href=\"psysml:bb207011-903d-4a71-a2f5-e51b80009fec\" xlink:show=\"new\" xlink:title=\"psysml:bb207011-903d-4a71-a2f5-e51b80009fec\" xlink:type=\"simple\"><rect fill=\"#FFFFFF\" height=\"105.1563\" id=\"E3\" style=\"stroke: #383838; stroke-width: 1.5;\" width=\"111\" x=\"141.5\" y=\"164\"/><text fill=\"#000000\" font-family=\"sans-serif\" font-size=\"12\" font-style=\"italic\" lengthAdjust=\"spacingAndGlyphs\" textLength=\"65\" x=\"164.5\" y=\"180.1387\">«item def»</text><text fill=\"#000000\" font-family=\"sans-serif\" font-size=\"12\" lengthAdjust=\"spacingAndGlyphs\" textLength=\"8\" x=\"193\" y=\"194.1074\">C</text><line style=\"stroke: #383838; stroke-width: 1.5;\" x1=\"142.5\" x2=\"251.5\" y1=\"201.9375\" y2=\"201.9375\"/><text fill=\"#000000\" font-family=\"sans-serif\" font-size=\"11\" lengthAdjust=\"spacingAndGlyphs\" textLength=\"38\" x=\"147.5\" y=\"232.9526\">x: Real</text><line style=\"stroke: #383838; stroke-width: 1.0;\" x1=\"142.5\" x2=\"169.5\" y1=\"216.3398\" y2=\"216.3398\"/><text fill=\"#000000\" font-family=\"sans-serif\" font-size=\"11\" lengthAdjust=\"spacingAndGlyphs\" textLength=\"55\" x=\"169.5\" y=\"219.6479\">attributes</text><line style=\"stroke: #383838; stroke-width: 1.0;\" x1=\"224.5\" x2=\"251.5\" y1=\"216.3398\" y2=\"216.3398\"/><text fill=\"#000000\" font-family=\"sans-serif\" font-size=\"11\" lengthAdjust=\"spacingAndGlyphs\" textLength=\"69\" x=\"147.5\" y=\"262.562\">x_constraint</text><line style=\"stroke: #383838; stroke-width: 1.0;\" x1=\"142.5\" x2=\"145.5\" y1=\"245.9492\" y2=\"245.9492\"/><text fill=\"#000000\" font-family=\"sans-serif\" font-size=\"11\" lengthAdjust=\"spacingAndGlyphs\" textLength=\"103\" x=\"145.5\" y=\"249.2573\">assertConstraints</text><line style=\"stroke: #383838; stroke-width: 1.0;\" x1=\"248.5\" x2=\"251.5\" y1=\"245.9492\" y2=\"245.9492\"/></a><!--MD5=[270fce915f116d4de14055a7c1d9a0f3]\n",
       "class E5--><a href=\"psysml:ff423fdb-a5ad-4383-b75e-3a1966f8baa4\" target=\"_top\" title=\"psysml:ff423fdb-a5ad-4383-b75e-3a1966f8baa4\" xlink:actuate=\"onRequest\" xlink:href=\"psysml:ff423fdb-a5ad-4383-b75e-3a1966f8baa4\" xlink:show=\"new\" xlink:title=\"psysml:ff423fdb-a5ad-4383-b75e-3a1966f8baa4\" xlink:type=\"simple\"><rect fill=\"#FFFFFF\" height=\"45.9375\" id=\"E5\" style=\"stroke: #383838; stroke-width: 1.5;\" width=\"79\" x=\"67.5\" y=\"41\"/><text fill=\"#000000\" font-family=\"sans-serif\" font-size=\"12\" font-style=\"italic\" lengthAdjust=\"spacingAndGlyphs\" textLength=\"77\" x=\"68.5\" y=\"57.1387\">«action def»</text><text fill=\"#000000\" font-family=\"sans-serif\" font-size=\"12\" lengthAdjust=\"spacingAndGlyphs\" textLength=\"27\" x=\"93.5\" y=\"71.1074\">setX</text><line style=\"stroke: #383838; stroke-width: 1.5;\" x1=\"68.5\" x2=\"145.5\" y1=\"78.9375\" y2=\"78.9375\"/></a><!--MD5=[6f107eb264eda4b26325f39a5516f1f3]\n",
       "reverse link E5 to E3--><a href=\"psysml:4c2c889d-aea7-4bfd-be6e-45844659a6a1\" target=\"_top\" title=\"psysml:4c2c889d-aea7-4bfd-be6e-45844659a6a1\" xlink:actuate=\"onRequest\" xlink:href=\"psysml:4c2c889d-aea7-4bfd-be6e-45844659a6a1\" xlink:show=\"new\" xlink:title=\"psysml:4c2c889d-aea7-4bfd-be6e-45844659a6a1\" xlink:type=\"simple\"><path d=\"M123.75,100.27 C123.75,100.27 123.75,179 123.75,179 C123.75,179 131.27,179 141.48,179 \" fill=\"none\" id=\"E5&lt;-E3\" style=\"stroke: #383838; stroke-width: 1.0;\"/><polygon fill=\"#FFFFFF\" points=\"123.75,87.27,119.75,93.27,123.75,99.27,127.75,93.27,123.75,87.27\" style=\"stroke: #383838; stroke-width: 1.0;\"/><text fill=\"#000000\" font-family=\"sans-serif\" font-size=\"13\" lengthAdjust=\"spacingAndGlyphs\" textLength=\"7\" x=\"184\" y=\"130.0669\">c</text></a><!--MD5=[f51c6d1f1856fe338ac0413483fb1ccf]\n",
       "reverse link E5 to E2--><a href=\"psysml:471b2978-4f3d-4f5c-bcaa-50341599c3a3\" target=\"_top\" title=\"psysml:471b2978-4f3d-4f5c-bcaa-50341599c3a3\" xlink:actuate=\"onRequest\" xlink:href=\"psysml:471b2978-4f3d-4f5c-bcaa-50341599c3a3\" xlink:show=\"new\" xlink:title=\"psysml:471b2978-4f3d-4f5c-bcaa-50341599c3a3\" xlink:type=\"simple\"><path d=\"M86.75,100.16 C86.75,100.16 86.75,193.12 86.75,193.12 \" fill=\"none\" id=\"E5&lt;-E2\" style=\"stroke: #383838; stroke-width: 1.0;\"/><polygon fill=\"#FFFFFF\" points=\"86.75,87.16,82.75,93.16,86.75,99.16,90.75,93.16,86.75,87.16\" style=\"stroke: #383838; stroke-width: 1.0;\"/><text fill=\"#000000\" font-family=\"sans-serif\" font-size=\"13\" lengthAdjust=\"spacingAndGlyphs\" textLength=\"33\" x=\"83\" y=\"130.0669\">newX</text></a><!--MD5=[5be5c45579a43d63a127e557f457ec53]\n",
       "@startuml\r\n",
       "skinparam linetype ortho\r\n",
       "skinparam monochrome true\r\n",
       "skinparam classbackgroundcolor white\r\n",
       "skinparam shadowing false\r\n",
       "skinparam wrapWidth 300\r\n",
       "hide circle\r\n",
       "\r\n",
       "package \"TextualRepresentationTest\" as E1  [[psysml:0fc68415-d7d0-4850-b93e-796cf2adc089 ]]  {\r\n",
       "comp def \"Real\" as E2  <<(T,blue)dataType>> [[psysml:3f2a97d7-c1a2-4f9b-b443-e0389101b303 ]] {\r\n",
       "}\r\n",
       "comp def \"C\" as E3  <<(T,blue)item def>> [[psysml:bb207011-903d-4a71-a2f5-e51b80009fec ]] {\r\n",
       "- - attributes - -\r\n",
       "x: Real\r\n",
       "- - assertConstraints - -\r\n",
       "x_constraint\r\n",
       "}\r\n",
       "comp def \"setX\" as E5  <<(T,blue)action def>> [[psysml:ff423fdb-a5ad-4383-b75e-3a1966f8baa4 ]] {\r\n",
       "}\r\n",
       "E5 o- - E3 [[psysml:4c2c889d-aea7-4bfd-be6e-45844659a6a1 ]] : c\r\n",
       "E5 o- - E2 [[psysml:471b2978-4f3d-4f5c-bcaa-50341599c3a3 ]] : newX\r\n",
       "}\r\n",
       "@enduml\r\n",
       "\n",
       "PlantUML version 1.2020.13(Sat Jun 13 12:26:38 UTC 2020)\n",
       "(EPL source distribution)\n",
       "Java Runtime: OpenJDK Runtime Environment\n",
       "JVM: OpenJDK 64-Bit Server VM\n",
       "Default Encoding: UTF-8\n",
       "Language: en\n",
       "Country: null\n",
       "--></g></svg>"
      ]
     },
     "execution_count": 52,
     "metadata": {},
     "output_type": "execute_result"
    }
   ],
   "source": [
    "%viz --style=\"ORTHOLINE\" --view=\"Tree\" \"TextualRepresentationTest\""
   ]
  },
  {
   "cell_type": "code",
   "execution_count": 53,
   "id": "engaging-pulse",
   "metadata": {
    "execution": {
     "iopub.execute_input": "2021-03-25T15:08:46.786107Z",
     "iopub.status.busy": "2021-03-25T15:08:46.783817Z",
     "iopub.status.idle": "2021-03-25T15:08:46.792521Z",
     "shell.execute_reply": "2021-03-25T15:08:46.792101Z"
    }
   },
   "outputs": [
    {
     "data": {
      "image/svg+xml": [
       "<?xml version=\"1.0\" encoding=\"UTF-8\" standalone=\"no\"?><svg xmlns=\"http://www.w3.org/2000/svg\" xmlns:xlink=\"http://www.w3.org/1999/xlink\" contentScriptType=\"application/ecmascript\" contentStyleType=\"text/css\" height=\"12px\" preserveAspectRatio=\"none\" style=\"width:12px;height:12px;\" version=\"1.1\" viewBox=\"0 0 12 12\" width=\"12px\" zoomAndPan=\"magnify\"><defs/><g><!--MD5=[97d6f38768b311333d388e66b2b27985]\n",
       "@startuml\r\n",
       "skinparam linetype ortho\r\n",
       "skinparam monochrome true\r\n",
       "skinparam classbackgroundcolor white\r\n",
       "skinparam shadowing false\r\n",
       "skinparam wrapWidth 300\r\n",
       "hide circle\r\n",
       "\r\n",
       "@enduml\r\n",
       "\n",
       "PlantUML version 1.2020.13(Sat Jun 13 12:26:38 UTC 2020)\n",
       "(EPL source distribution)\n",
       "Java Runtime: OpenJDK Runtime Environment\n",
       "JVM: OpenJDK 64-Bit Server VM\n",
       "Default Encoding: UTF-8\n",
       "Language: en\n",
       "Country: null\n",
       "--></g></svg>"
      ]
     },
     "execution_count": 53,
     "metadata": {},
     "output_type": "execute_result"
    }
   ],
   "source": [
    "%viz --style=\"ORTHOLINE\" --view=\"State\" \"TextualRepresentationTest\""
   ]
  },
  {
   "cell_type": "code",
   "execution_count": 54,
   "id": "equivalent-peninsula",
   "metadata": {
    "execution": {
     "iopub.execute_input": "2021-03-25T15:08:46.844964Z",
     "iopub.status.busy": "2021-03-25T15:08:46.844223Z",
     "iopub.status.idle": "2021-03-25T15:08:46.914612Z",
     "shell.execute_reply": "2021-03-25T15:08:46.914109Z"
    }
   },
   "outputs": [
    {
     "data": {
      "image/svg+xml": [
       "<?xml version=\"1.0\" encoding=\"UTF-8\" standalone=\"no\"?><svg xmlns=\"http://www.w3.org/2000/svg\" xmlns:xlink=\"http://www.w3.org/1999/xlink\" contentScriptType=\"application/ecmascript\" contentStyleType=\"text/css\" height=\"123px\" preserveAspectRatio=\"none\" style=\"width:505px;height:123px;\" version=\"1.1\" viewBox=\"0 0 505 123\" width=\"505px\" zoomAndPan=\"magnify\"><defs/><g><!--MD5=[fbc87193dbaf4d95561dea2c320d4a47]\n",
       "cluster E1--><a href=\"psysml:0fc68415-d7d0-4850-b93e-796cf2adc089\" target=\"_top\" title=\"psysml:0fc68415-d7d0-4850-b93e-796cf2adc089\" xlink:actuate=\"onRequest\" xlink:href=\"psysml:0fc68415-d7d0-4850-b93e-796cf2adc089\" xlink:show=\"new\" xlink:title=\"psysml:0fc68415-d7d0-4850-b93e-796cf2adc089\" xlink:type=\"simple\"><polygon fill=\"#FFFFFF\" points=\"16,6,236,6,243,28.2969,483,28.2969,483,111,16,111,16,6\" style=\"stroke: #000000; stroke-width: 1.5;\"/><line style=\"stroke: #000000; stroke-width: 1.5;\" x1=\"16\" x2=\"243\" y1=\"28.2969\" y2=\"28.2969\"/><text fill=\"#000000\" font-family=\"sans-serif\" font-size=\"14\" font-weight=\"bold\" lengthAdjust=\"spacingAndGlyphs\" textLength=\"214\" x=\"20\" y=\"20.9951\">TextualRepresentationTest</text></a><!--MD5=[b4997ac47864f28c2f74865a473b2911]\n",
       "class E2--><a href=\"psysml:3f2a97d7-c1a2-4f9b-b443-e0389101b303\" target=\"_top\" title=\"psysml:3f2a97d7-c1a2-4f9b-b443-e0389101b303\" xlink:actuate=\"onRequest\" xlink:href=\"psysml:3f2a97d7-c1a2-4f9b-b443-e0389101b303\" xlink:show=\"new\" xlink:title=\"psysml:3f2a97d7-c1a2-4f9b-b443-e0389101b303\" xlink:type=\"simple\"><rect fill=\"#FFFFFF\" height=\"53.9375\" id=\"E2\" style=\"stroke: #383838; stroke-width: 1.5;\" width=\"122\" x=\"345\" y=\"41\"/><text fill=\"#000000\" font-family=\"sans-serif\" font-size=\"12\" font-style=\"italic\" lengthAdjust=\"spacingAndGlyphs\" textLength=\"120\" x=\"346\" y=\"57.1387\">«(T,blue)dataType»</text><text fill=\"#000000\" font-family=\"sans-serif\" font-size=\"12\" lengthAdjust=\"spacingAndGlyphs\" textLength=\"27\" x=\"392.5\" y=\"71.1074\">Real</text><line style=\"stroke: #383838; stroke-width: 1.5;\" x1=\"346\" x2=\"466\" y1=\"78.9375\" y2=\"78.9375\"/><line style=\"stroke: #383838; stroke-width: 1.5;\" x1=\"346\" x2=\"466\" y1=\"86.9375\" y2=\"86.9375\"/></a><!--MD5=[09b614a08d8cba4a07c9adeb5e0fee81]\n",
       "class E3--><a href=\"psysml:bb207011-903d-4a71-a2f5-e51b80009fec\" target=\"_top\" title=\"psysml:bb207011-903d-4a71-a2f5-e51b80009fec\" xlink:actuate=\"onRequest\" xlink:href=\"psysml:bb207011-903d-4a71-a2f5-e51b80009fec\" xlink:show=\"new\" xlink:title=\"psysml:bb207011-903d-4a71-a2f5-e51b80009fec\" xlink:type=\"simple\"><rect fill=\"#FFFFFF\" height=\"53.9375\" id=\"E3\" style=\"stroke: #383838; stroke-width: 1.5;\" width=\"115\" x=\"194.5\" y=\"41\"/><text fill=\"#000000\" font-family=\"sans-serif\" font-size=\"12\" font-style=\"italic\" lengthAdjust=\"spacingAndGlyphs\" textLength=\"113\" x=\"195.5\" y=\"57.1387\">«(T,blue)item def»</text><text fill=\"#000000\" font-family=\"sans-serif\" font-size=\"12\" lengthAdjust=\"spacingAndGlyphs\" textLength=\"8\" x=\"248\" y=\"71.1074\">C</text><line style=\"stroke: #383838; stroke-width: 1.5;\" x1=\"195.5\" x2=\"308.5\" y1=\"78.9375\" y2=\"78.9375\"/><line style=\"stroke: #383838; stroke-width: 1.5;\" x1=\"195.5\" x2=\"308.5\" y1=\"86.9375\" y2=\"86.9375\"/></a><!--MD5=[ebbe1d658d1005bcc118a6aa81145e00]\n",
       "class E4--><a href=\"psysml:ff423fdb-a5ad-4383-b75e-3a1966f8baa4\" target=\"_top\" title=\"psysml:ff423fdb-a5ad-4383-b75e-3a1966f8baa4\" xlink:actuate=\"onRequest\" xlink:href=\"psysml:ff423fdb-a5ad-4383-b75e-3a1966f8baa4\" xlink:show=\"new\" xlink:title=\"psysml:ff423fdb-a5ad-4383-b75e-3a1966f8baa4\" xlink:type=\"simple\"><rect fill=\"#FFFFFF\" height=\"53.9375\" id=\"E4\" style=\"stroke: #383838; stroke-width: 1.5;\" width=\"127\" x=\"32.5\" y=\"41\"/><text fill=\"#000000\" font-family=\"sans-serif\" font-size=\"12\" font-style=\"italic\" lengthAdjust=\"spacingAndGlyphs\" textLength=\"125\" x=\"33.5\" y=\"57.1387\">«(T,blue)action def»</text><text fill=\"#000000\" font-family=\"sans-serif\" font-size=\"12\" lengthAdjust=\"spacingAndGlyphs\" textLength=\"27\" x=\"82.5\" y=\"71.1074\">setX</text><line style=\"stroke: #383838; stroke-width: 1.5;\" x1=\"33.5\" x2=\"158.5\" y1=\"78.9375\" y2=\"78.9375\"/><line style=\"stroke: #383838; stroke-width: 1.5;\" x1=\"33.5\" x2=\"158.5\" y1=\"86.9375\" y2=\"86.9375\"/></a><!--MD5=[b2fd1f6dae5c8a1ed7243fcfff10faa4]\n",
       "@startuml\r\n",
       "skinparam ranksep 8\r\n",
       "skinparam rectangle {\r\n",
       " backgroundColor<<block>> LightGreen\r\n",
       "}\r\n",
       "skinparam linetype ortho\r\n",
       "skinparam monochrome true\r\n",
       "skinparam classbackgroundcolor white\r\n",
       "skinparam shadowing false\r\n",
       "skinparam wrapWidth 300\r\n",
       "hide circle\r\n",
       "\r\n",
       "package \"TextualRepresentationTest\" as E1  [[psysml:0fc68415-d7d0-4850-b93e-796cf2adc089 ]]  {\r\n",
       "def \"Real\" as E2  <<(T,blue)dataType>> [[psysml:3f2a97d7-c1a2-4f9b-b443-e0389101b303 ]] \r\n",
       "def \"C\" as E3  <<(T,blue)item def>> [[psysml:bb207011-903d-4a71-a2f5-e51b80009fec ]] \r\n",
       "def \"setX\" as E4  <<(T,blue)action def>> [[psysml:ff423fdb-a5ad-4383-b75e-3a1966f8baa4 ]] \r\n",
       "}\r\n",
       "@enduml\r\n",
       "\n",
       "PlantUML version 1.2020.13(Sat Jun 13 12:26:38 UTC 2020)\n",
       "(EPL source distribution)\n",
       "Java Runtime: OpenJDK Runtime Environment\n",
       "JVM: OpenJDK 64-Bit Server VM\n",
       "Default Encoding: UTF-8\n",
       "Language: en\n",
       "Country: null\n",
       "--></g></svg>"
      ]
     },
     "execution_count": 54,
     "metadata": {},
     "output_type": "execute_result"
    }
   ],
   "source": [
    "%viz --style=\"ORTHOLINE\" --view=\"Interconnection\" \"TextualRepresentationTest\""
   ]
  },
  {
   "cell_type": "code",
   "execution_count": 55,
   "id": "moderate-institute",
   "metadata": {
    "execution": {
     "iopub.execute_input": "2021-03-25T15:08:46.965045Z",
     "iopub.status.busy": "2021-03-25T15:08:46.964449Z",
     "iopub.status.idle": "2021-03-25T15:08:47.023877Z",
     "shell.execute_reply": "2021-03-25T15:08:47.023351Z"
    }
   },
   "outputs": [
    {
     "data": {
      "image/svg+xml": [
       "<?xml version=\"1.0\" encoding=\"UTF-8\" standalone=\"no\"?><svg xmlns=\"http://www.w3.org/2000/svg\" xmlns:xlink=\"http://www.w3.org/1999/xlink\" contentScriptType=\"application/ecmascript\" contentStyleType=\"text/css\" height=\"126px\" preserveAspectRatio=\"none\" style=\"width:150px;height:126px;\" version=\"1.1\" viewBox=\"0 0 150 126\" width=\"150px\" zoomAndPan=\"magnify\"><defs/><g><!--MD5=[fbc87193dbaf4d95561dea2c320d4a47]\n",
       "cluster E1--><a href=\"psysml:ff423fdb-a5ad-4383-b75e-3a1966f8baa4\" target=\"_top\" title=\"psysml:ff423fdb-a5ad-4383-b75e-3a1966f8baa4\" xlink:actuate=\"onRequest\" xlink:href=\"psysml:ff423fdb-a5ad-4383-b75e-3a1966f8baa4\" xlink:show=\"new\" xlink:title=\"psysml:ff423fdb-a5ad-4383-b75e-3a1966f8baa4\" xlink:type=\"simple\"><rect fill=\"#FFFFFF\" height=\"73\" id=\"E1\" style=\"stroke: #383838; stroke-width: 1.5;\" width=\"132\" x=\"7\" y=\"42.0986\"/><rect fill=\"#F8F8F8\" height=\"37.9375\" style=\"stroke: #383838; stroke-width: 1.5;\" width=\"132\" x=\"7\" y=\"42.0986\"/><text fill=\"#000000\" font-family=\"sans-serif\" font-size=\"12\" font-style=\"italic\" lengthAdjust=\"spacingAndGlyphs\" textLength=\"77\" x=\"34.5\" y=\"58.2373\">«action def»</text><text fill=\"#000000\" font-family=\"sans-serif\" font-size=\"12\" lengthAdjust=\"spacingAndGlyphs\" textLength=\"27\" x=\"59.5\" y=\"72.2061\">setX</text></a><text fill=\"#000000\" font-family=\"sans-serif\" font-size=\"14\" lengthAdjust=\"spacingAndGlyphs\" textLength=\"8\" x=\"21\" y=\"20.7969\">c</text><rect fill=\"#383838\" height=\"12\" style=\"stroke: #F8F8F8; stroke-width: 1.5;\" width=\"12\" x=\"19\" y=\"36.0986\"/><text fill=\"#000000\" font-family=\"sans-serif\" font-size=\"14\" lengthAdjust=\"spacingAndGlyphs\" textLength=\"38\" x=\"53\" y=\"20.7969\">newX</text><rect fill=\"#383838\" height=\"12\" style=\"stroke: #F8F8F8; stroke-width: 1.5;\" width=\"12\" x=\"66\" y=\"36.0986\"/><!--MD5=[4becb9cb87730af83568609f5e22038d]\n",
       "@startuml\r\n",
       "skinparam ranksep 8\r\n",
       "skinparam linetype ortho\r\n",
       "skinparam monochrome true\r\n",
       "skinparam classbackgroundcolor white\r\n",
       "skinparam shadowing false\r\n",
       "skinparam wrapWidth 300\r\n",
       "hide circle\r\n",
       "\r\n",
       "rec def \"setX\" as E1  <<(T,blue)action def>> [[psysml:ff423fdb-a5ad-4383-b75e-3a1966f8baa4 ]] {\r\n",
       "portin \"c\" as E2  [[psysml:4c2c889d-aea7-4bfd-be6e-45844659a6a1 ]] \r\n",
       "portin \"newX\" as E3  [[psysml:471b2978-4f3d-4f5c-bcaa-50341599c3a3 ]] \r\n",
       "}\r\n",
       "\r\n",
       "@enduml\r\n",
       "\n",
       "PlantUML version 1.2020.13(Sat Jun 13 12:26:38 UTC 2020)\n",
       "(EPL source distribution)\n",
       "Java Runtime: OpenJDK Runtime Environment\n",
       "JVM: OpenJDK 64-Bit Server VM\n",
       "Default Encoding: UTF-8\n",
       "Language: en\n",
       "Country: null\n",
       "--></g></svg>"
      ]
     },
     "execution_count": 55,
     "metadata": {},
     "output_type": "execute_result"
    }
   ],
   "source": [
    "%viz --style=\"ORTHOLINE\" --view=\"Action\" \"TextualRepresentationTest\""
   ]
  },
  {
   "cell_type": "code",
   "execution_count": 56,
   "id": "nonprofit-health",
   "metadata": {
    "execution": {
     "iopub.execute_input": "2021-03-25T15:08:47.074195Z",
     "iopub.status.busy": "2021-03-25T15:08:47.073774Z",
     "iopub.status.idle": "2021-03-25T15:08:47.497626Z",
     "shell.execute_reply": "2021-03-25T15:08:47.494767Z"
    }
   },
   "outputs": [
    {
     "data": {
      "image/svg+xml": [
       "<?xml version=\"1.0\" encoding=\"UTF-8\" standalone=\"no\"?><svg xmlns=\"http://www.w3.org/2000/svg\" xmlns:xlink=\"http://www.w3.org/1999/xlink\" contentScriptType=\"application/ecmascript\" contentStyleType=\"text/css\" height=\"297px\" preserveAspectRatio=\"none\" style=\"width:290px;height:297px;\" version=\"1.1\" viewBox=\"0 0 290 297\" width=\"290px\" zoomAndPan=\"magnify\"><defs/><g><!--MD5=[fbc87193dbaf4d95561dea2c320d4a47]\n",
       "cluster E1--><a href=\"psysml:0fc68415-d7d0-4850-b93e-796cf2adc089\" target=\"_top\" title=\"psysml:0fc68415-d7d0-4850-b93e-796cf2adc089\" xlink:actuate=\"onRequest\" xlink:href=\"psysml:0fc68415-d7d0-4850-b93e-796cf2adc089\" xlink:show=\"new\" xlink:title=\"psysml:0fc68415-d7d0-4850-b93e-796cf2adc089\" xlink:type=\"simple\"><polygon fill=\"#FFFFFF\" points=\"16,6,236,6,243,28.2969,268,28.2969,268,285,16,285,16,6\" style=\"stroke: #000000; stroke-width: 1.5;\"/><line style=\"stroke: #000000; stroke-width: 1.5;\" x1=\"16\" x2=\"243\" y1=\"28.2969\" y2=\"28.2969\"/><text fill=\"#000000\" font-family=\"sans-serif\" font-size=\"14\" font-weight=\"bold\" lengthAdjust=\"spacingAndGlyphs\" textLength=\"214\" x=\"20\" y=\"20.9951\">TextualRepresentationTest</text></a><!--MD5=[b4997ac47864f28c2f74865a473b2911]\n",
       "class E2--><a href=\"psysml:3f2a97d7-c1a2-4f9b-b443-e0389101b303\" target=\"_top\" title=\"psysml:3f2a97d7-c1a2-4f9b-b443-e0389101b303\" xlink:actuate=\"onRequest\" xlink:href=\"psysml:3f2a97d7-c1a2-4f9b-b443-e0389101b303\" xlink:show=\"new\" xlink:title=\"psysml:3f2a97d7-c1a2-4f9b-b443-e0389101b303\" xlink:type=\"simple\"><rect fill=\"#FFFFFF\" height=\"45.9375\" id=\"E2\" style=\"stroke: #383838; stroke-width: 1.5;\" width=\"74\" x=\"32\" y=\"193.5\"/><text fill=\"#000000\" font-family=\"sans-serif\" font-size=\"12\" font-style=\"italic\" lengthAdjust=\"spacingAndGlyphs\" textLength=\"72\" x=\"33\" y=\"209.6387\">«dataType»</text><text fill=\"#000000\" font-family=\"sans-serif\" font-size=\"12\" lengthAdjust=\"spacingAndGlyphs\" textLength=\"27\" x=\"55.5\" y=\"223.6074\">Real</text><line style=\"stroke: #383838; stroke-width: 1.5;\" x1=\"33\" x2=\"105\" y1=\"231.4375\" y2=\"231.4375\"/></a><!--MD5=[09b614a08d8cba4a07c9adeb5e0fee81]\n",
       "class E3--><a href=\"psysml:bb207011-903d-4a71-a2f5-e51b80009fec\" target=\"_top\" title=\"psysml:bb207011-903d-4a71-a2f5-e51b80009fec\" xlink:actuate=\"onRequest\" xlink:href=\"psysml:bb207011-903d-4a71-a2f5-e51b80009fec\" xlink:show=\"new\" xlink:title=\"psysml:bb207011-903d-4a71-a2f5-e51b80009fec\" xlink:type=\"simple\"><rect fill=\"#FFFFFF\" height=\"105.1563\" id=\"E3\" style=\"stroke: #383838; stroke-width: 1.5;\" width=\"111\" x=\"141.5\" y=\"164\"/><text fill=\"#000000\" font-family=\"sans-serif\" font-size=\"12\" font-style=\"italic\" lengthAdjust=\"spacingAndGlyphs\" textLength=\"65\" x=\"164.5\" y=\"180.1387\">«item def»</text><text fill=\"#000000\" font-family=\"sans-serif\" font-size=\"12\" lengthAdjust=\"spacingAndGlyphs\" textLength=\"8\" x=\"193\" y=\"194.1074\">C</text><line style=\"stroke: #383838; stroke-width: 1.5;\" x1=\"142.5\" x2=\"251.5\" y1=\"201.9375\" y2=\"201.9375\"/><text fill=\"#000000\" font-family=\"sans-serif\" font-size=\"11\" lengthAdjust=\"spacingAndGlyphs\" textLength=\"38\" x=\"147.5\" y=\"232.9526\">x: Real</text><line style=\"stroke: #383838; stroke-width: 1.0;\" x1=\"142.5\" x2=\"169.5\" y1=\"216.3398\" y2=\"216.3398\"/><text fill=\"#000000\" font-family=\"sans-serif\" font-size=\"11\" lengthAdjust=\"spacingAndGlyphs\" textLength=\"55\" x=\"169.5\" y=\"219.6479\">attributes</text><line style=\"stroke: #383838; stroke-width: 1.0;\" x1=\"224.5\" x2=\"251.5\" y1=\"216.3398\" y2=\"216.3398\"/><text fill=\"#000000\" font-family=\"sans-serif\" font-size=\"11\" lengthAdjust=\"spacingAndGlyphs\" textLength=\"69\" x=\"147.5\" y=\"262.562\">x_constraint</text><line style=\"stroke: #383838; stroke-width: 1.0;\" x1=\"142.5\" x2=\"145.5\" y1=\"245.9492\" y2=\"245.9492\"/><text fill=\"#000000\" font-family=\"sans-serif\" font-size=\"11\" lengthAdjust=\"spacingAndGlyphs\" textLength=\"103\" x=\"145.5\" y=\"249.2573\">assertConstraints</text><line style=\"stroke: #383838; stroke-width: 1.0;\" x1=\"248.5\" x2=\"251.5\" y1=\"245.9492\" y2=\"245.9492\"/></a><!--MD5=[270fce915f116d4de14055a7c1d9a0f3]\n",
       "class E5--><a href=\"psysml:ff423fdb-a5ad-4383-b75e-3a1966f8baa4\" target=\"_top\" title=\"psysml:ff423fdb-a5ad-4383-b75e-3a1966f8baa4\" xlink:actuate=\"onRequest\" xlink:href=\"psysml:ff423fdb-a5ad-4383-b75e-3a1966f8baa4\" xlink:show=\"new\" xlink:title=\"psysml:ff423fdb-a5ad-4383-b75e-3a1966f8baa4\" xlink:type=\"simple\"><rect fill=\"#FFFFFF\" height=\"45.9375\" id=\"E5\" style=\"stroke: #383838; stroke-width: 1.5;\" width=\"79\" x=\"67.5\" y=\"41\"/><text fill=\"#000000\" font-family=\"sans-serif\" font-size=\"12\" font-style=\"italic\" lengthAdjust=\"spacingAndGlyphs\" textLength=\"77\" x=\"68.5\" y=\"57.1387\">«action def»</text><text fill=\"#000000\" font-family=\"sans-serif\" font-size=\"12\" lengthAdjust=\"spacingAndGlyphs\" textLength=\"27\" x=\"93.5\" y=\"71.1074\">setX</text><line style=\"stroke: #383838; stroke-width: 1.5;\" x1=\"68.5\" x2=\"145.5\" y1=\"78.9375\" y2=\"78.9375\"/></a><!--MD5=[6f107eb264eda4b26325f39a5516f1f3]\n",
       "reverse link E5 to E3--><a href=\"psysml:4c2c889d-aea7-4bfd-be6e-45844659a6a1\" target=\"_top\" title=\"psysml:4c2c889d-aea7-4bfd-be6e-45844659a6a1\" xlink:actuate=\"onRequest\" xlink:href=\"psysml:4c2c889d-aea7-4bfd-be6e-45844659a6a1\" xlink:show=\"new\" xlink:title=\"psysml:4c2c889d-aea7-4bfd-be6e-45844659a6a1\" xlink:type=\"simple\"><path d=\"M123.75,100.27 C123.75,100.27 123.75,179 123.75,179 C123.75,179 131.27,179 141.48,179 \" fill=\"none\" id=\"E5&lt;-E3\" style=\"stroke: #383838; stroke-width: 1.0;\"/><polygon fill=\"#FFFFFF\" points=\"123.75,87.27,119.75,93.27,123.75,99.27,127.75,93.27,123.75,87.27\" style=\"stroke: #383838; stroke-width: 1.0;\"/><text fill=\"#000000\" font-family=\"sans-serif\" font-size=\"13\" lengthAdjust=\"spacingAndGlyphs\" textLength=\"7\" x=\"184\" y=\"130.0669\">c</text></a><!--MD5=[f51c6d1f1856fe338ac0413483fb1ccf]\n",
       "reverse link E5 to E2--><a href=\"psysml:471b2978-4f3d-4f5c-bcaa-50341599c3a3\" target=\"_top\" title=\"psysml:471b2978-4f3d-4f5c-bcaa-50341599c3a3\" xlink:actuate=\"onRequest\" xlink:href=\"psysml:471b2978-4f3d-4f5c-bcaa-50341599c3a3\" xlink:show=\"new\" xlink:title=\"psysml:471b2978-4f3d-4f5c-bcaa-50341599c3a3\" xlink:type=\"simple\"><path d=\"M86.75,100.16 C86.75,100.16 86.75,193.12 86.75,193.12 \" fill=\"none\" id=\"E5&lt;-E2\" style=\"stroke: #383838; stroke-width: 1.0;\"/><polygon fill=\"#FFFFFF\" points=\"86.75,87.16,82.75,93.16,86.75,99.16,90.75,93.16,86.75,87.16\" style=\"stroke: #383838; stroke-width: 1.0;\"/><text fill=\"#000000\" font-family=\"sans-serif\" font-size=\"13\" lengthAdjust=\"spacingAndGlyphs\" textLength=\"33\" x=\"83\" y=\"130.0669\">newX</text></a><!--MD5=[5be5c45579a43d63a127e557f457ec53]\n",
       "@startuml\r\n",
       "skinparam linetype ortho\r\n",
       "skinparam monochrome true\r\n",
       "skinparam classbackgroundcolor white\r\n",
       "skinparam shadowing false\r\n",
       "skinparam wrapWidth 300\r\n",
       "hide circle\r\n",
       "\r\n",
       "package \"TextualRepresentationTest\" as E1  [[psysml:0fc68415-d7d0-4850-b93e-796cf2adc089 ]]  {\r\n",
       "comp def \"Real\" as E2  <<(T,blue)dataType>> [[psysml:3f2a97d7-c1a2-4f9b-b443-e0389101b303 ]] {\r\n",
       "}\r\n",
       "comp def \"C\" as E3  <<(T,blue)item def>> [[psysml:bb207011-903d-4a71-a2f5-e51b80009fec ]] {\r\n",
       "- - attributes - -\r\n",
       "x: Real\r\n",
       "- - assertConstraints - -\r\n",
       "x_constraint\r\n",
       "}\r\n",
       "comp def \"setX\" as E5  <<(T,blue)action def>> [[psysml:ff423fdb-a5ad-4383-b75e-3a1966f8baa4 ]] {\r\n",
       "}\r\n",
       "E5 o- - E3 [[psysml:4c2c889d-aea7-4bfd-be6e-45844659a6a1 ]] : c\r\n",
       "E5 o- - E2 [[psysml:471b2978-4f3d-4f5c-bcaa-50341599c3a3 ]] : newX\r\n",
       "}\r\n",
       "@enduml\r\n",
       "\n",
       "PlantUML version 1.2020.13(Sat Jun 13 12:26:38 UTC 2020)\n",
       "(EPL source distribution)\n",
       "Java Runtime: OpenJDK Runtime Environment\n",
       "JVM: OpenJDK 64-Bit Server VM\n",
       "Default Encoding: UTF-8\n",
       "Language: en\n",
       "Country: null\n",
       "--></g></svg>"
      ]
     },
     "execution_count": 56,
     "metadata": {},
     "output_type": "execute_result"
    }
   ],
   "source": [
    "%viz --style=\"ORTHOLINE\" --view=\"Sequence\" \"TextualRepresentationTest\""
   ]
  },
  {
   "cell_type": "code",
   "execution_count": 57,
   "id": "passive-desperate",
   "metadata": {
    "execution": {
     "iopub.execute_input": "2021-03-25T15:08:47.551895Z",
     "iopub.status.busy": "2021-03-25T15:08:47.551093Z",
     "iopub.status.idle": "2021-03-25T15:08:47.987218Z",
     "shell.execute_reply": "2021-03-25T15:08:47.985644Z"
    }
   },
   "outputs": [
    {
     "data": {
      "image/svg+xml": [
       "<?xml version=\"1.0\" encoding=\"UTF-8\" standalone=\"no\"?><svg xmlns=\"http://www.w3.org/2000/svg\" xmlns:xlink=\"http://www.w3.org/1999/xlink\" contentScriptType=\"application/ecmascript\" contentStyleType=\"text/css\" height=\"285px\" preserveAspectRatio=\"none\" style=\"width:432px;height:285px;\" version=\"1.1\" viewBox=\"0 0 432 285\" width=\"432px\" zoomAndPan=\"magnify\"><defs/><g><!--MD5=[fbc87193dbaf4d95561dea2c320d4a47]\n",
       "cluster E1--><a href=\"psysml:0fc68415-d7d0-4850-b93e-796cf2adc089\" target=\"_top\" title=\"psysml:0fc68415-d7d0-4850-b93e-796cf2adc089\" xlink:actuate=\"onRequest\" xlink:href=\"psysml:0fc68415-d7d0-4850-b93e-796cf2adc089\" xlink:show=\"new\" xlink:title=\"psysml:0fc68415-d7d0-4850-b93e-796cf2adc089\" xlink:type=\"simple\"><polygon fill=\"#FFFFFF\" points=\"16,6,236,6,243,28.2969,410,28.2969,410,273,16,273,16,6\" style=\"stroke: #000000; stroke-width: 1.5;\"/><line style=\"stroke: #000000; stroke-width: 1.5;\" x1=\"16\" x2=\"243\" y1=\"28.2969\" y2=\"28.2969\"/><text fill=\"#000000\" font-family=\"sans-serif\" font-size=\"14\" font-weight=\"bold\" lengthAdjust=\"spacingAndGlyphs\" textLength=\"214\" x=\"20\" y=\"20.9951\">TextualRepresentationTest</text></a><!--MD5=[de5ec2e2e8f62f467e546659f5068c88]\n",
       "cluster E5--><a href=\"psysml:ff423fdb-a5ad-4383-b75e-3a1966f8baa4\" target=\"_top\" title=\"psysml:ff423fdb-a5ad-4383-b75e-3a1966f8baa4\" xlink:actuate=\"onRequest\" xlink:href=\"psysml:ff423fdb-a5ad-4383-b75e-3a1966f8baa4\" xlink:show=\"new\" xlink:title=\"psysml:ff423fdb-a5ad-4383-b75e-3a1966f8baa4\" xlink:type=\"simple\"><rect fill=\"#FFFFFF\" height=\"163.5\" id=\"E5\" style=\"stroke: #383838; stroke-width: 1.5;\" width=\"96\" x=\"268.5\" y=\"93.5\"/><rect fill=\"#F8F8F8\" height=\"37.9375\" style=\"stroke: #383838; stroke-width: 1.5;\" width=\"96\" x=\"268.5\" y=\"93.5\"/><text fill=\"#000000\" font-family=\"sans-serif\" font-size=\"12\" font-style=\"italic\" lengthAdjust=\"spacingAndGlyphs\" textLength=\"77\" x=\"278\" y=\"109.6387\">«action def»</text><text fill=\"#000000\" font-family=\"sans-serif\" font-size=\"12\" lengthAdjust=\"spacingAndGlyphs\" textLength=\"27\" x=\"303\" y=\"123.6074\">setX</text></a><!--MD5=[b4997ac47864f28c2f74865a473b2911]\n",
       "class E2--><a href=\"psysml:3f2a97d7-c1a2-4f9b-b443-e0389101b303\" target=\"_top\" title=\"psysml:3f2a97d7-c1a2-4f9b-b443-e0389101b303\" xlink:actuate=\"onRequest\" xlink:href=\"psysml:3f2a97d7-c1a2-4f9b-b443-e0389101b303\" xlink:show=\"new\" xlink:title=\"psysml:3f2a97d7-c1a2-4f9b-b443-e0389101b303\" xlink:type=\"simple\"><rect fill=\"#FFFFFF\" height=\"45.9375\" id=\"E2\" style=\"stroke: #383838; stroke-width: 1.5;\" width=\"74\" x=\"178\" y=\"70.5\"/><text fill=\"#000000\" font-family=\"sans-serif\" font-size=\"12\" font-style=\"italic\" lengthAdjust=\"spacingAndGlyphs\" textLength=\"72\" x=\"179\" y=\"86.6387\">«dataType»</text><text fill=\"#000000\" font-family=\"sans-serif\" font-size=\"12\" lengthAdjust=\"spacingAndGlyphs\" textLength=\"27\" x=\"201.5\" y=\"100.6074\">Real</text><line style=\"stroke: #383838; stroke-width: 1.5;\" x1=\"179\" x2=\"251\" y1=\"108.4375\" y2=\"108.4375\"/></a><!--MD5=[09b614a08d8cba4a07c9adeb5e0fee81]\n",
       "class E3--><a href=\"psysml:bb207011-903d-4a71-a2f5-e51b80009fec\" target=\"_top\" title=\"psysml:bb207011-903d-4a71-a2f5-e51b80009fec\" xlink:actuate=\"onRequest\" xlink:href=\"psysml:bb207011-903d-4a71-a2f5-e51b80009fec\" xlink:show=\"new\" xlink:title=\"psysml:bb207011-903d-4a71-a2f5-e51b80009fec\" xlink:type=\"simple\"><rect fill=\"#FFFFFF\" height=\"105.1563\" id=\"E3\" style=\"stroke: #383838; stroke-width: 1.5;\" width=\"111\" x=\"31.5\" y=\"41\"/><text fill=\"#000000\" font-family=\"sans-serif\" font-size=\"12\" font-style=\"italic\" lengthAdjust=\"spacingAndGlyphs\" textLength=\"65\" x=\"54.5\" y=\"57.1387\">«item def»</text><text fill=\"#000000\" font-family=\"sans-serif\" font-size=\"12\" lengthAdjust=\"spacingAndGlyphs\" textLength=\"8\" x=\"83\" y=\"71.1074\">C</text><line style=\"stroke: #383838; stroke-width: 1.5;\" x1=\"32.5\" x2=\"141.5\" y1=\"78.9375\" y2=\"78.9375\"/><text fill=\"#000000\" font-family=\"sans-serif\" font-size=\"11\" lengthAdjust=\"spacingAndGlyphs\" textLength=\"38\" x=\"37.5\" y=\"109.9526\">x: Real</text><line style=\"stroke: #383838; stroke-width: 1.0;\" x1=\"32.5\" x2=\"59.5\" y1=\"93.3398\" y2=\"93.3398\"/><text fill=\"#000000\" font-family=\"sans-serif\" font-size=\"11\" lengthAdjust=\"spacingAndGlyphs\" textLength=\"55\" x=\"59.5\" y=\"96.6479\">attributes</text><line style=\"stroke: #383838; stroke-width: 1.0;\" x1=\"114.5\" x2=\"141.5\" y1=\"93.3398\" y2=\"93.3398\"/><text fill=\"#000000\" font-family=\"sans-serif\" font-size=\"11\" lengthAdjust=\"spacingAndGlyphs\" textLength=\"69\" x=\"37.5\" y=\"139.562\">x_constraint</text><line style=\"stroke: #383838; stroke-width: 1.0;\" x1=\"32.5\" x2=\"35.5\" y1=\"122.9492\" y2=\"122.9492\"/><text fill=\"#000000\" font-family=\"sans-serif\" font-size=\"11\" lengthAdjust=\"spacingAndGlyphs\" textLength=\"103\" x=\"35.5\" y=\"126.2573\">assertConstraints</text><line style=\"stroke: #383838; stroke-width: 1.0;\" x1=\"138.5\" x2=\"141.5\" y1=\"122.9492\" y2=\"122.9492\"/></a><text fill=\"#000000\" font-family=\"sans-serif\" font-size=\"14\" lengthAdjust=\"spacingAndGlyphs\" textLength=\"8\" x=\"289\" y=\"72.1982\">c</text><rect fill=\"#383838\" height=\"12\" style=\"stroke: #F8F8F8; stroke-width: 1.5;\" width=\"12\" x=\"287\" y=\"87.5\"/><text fill=\"#000000\" font-family=\"sans-serif\" font-size=\"14\" lengthAdjust=\"spacingAndGlyphs\" textLength=\"38\" x=\"321\" y=\"72.1982\">newX</text><rect fill=\"#383838\" height=\"12\" style=\"stroke: #F8F8F8; stroke-width: 1.5;\" width=\"12\" x=\"334\" y=\"87.5\"/><!--MD5=[62d03594019203cde7e8eb921f6baa19]\n",
       "@startuml\r\n",
       "skinparam linetype ortho\r\n",
       "skinparam monochrome true\r\n",
       "skinparam classbackgroundcolor white\r\n",
       "skinparam shadowing false\r\n",
       "skinparam wrapWidth 300\r\n",
       "hide circle\r\n",
       "\r\n",
       "package \"TextualRepresentationTest\" as E1  [[psysml:0fc68415-d7d0-4850-b93e-796cf2adc089 ]]  {\r\n",
       "comp def \"Real\" as E2  <<(T,blue)dataType>> [[psysml:3f2a97d7-c1a2-4f9b-b443-e0389101b303 ]] {\r\n",
       "}\r\n",
       "comp def \"C\" as E3  <<(T,blue)item def>> [[psysml:bb207011-903d-4a71-a2f5-e51b80009fec ]] {\r\n",
       "- - attributes - -\r\n",
       "x: Real\r\n",
       "- - assertConstraints - -\r\n",
       "x_constraint\r\n",
       "}\r\n",
       "rec def \"setX\" as E5  <<(T,blue)action def>> [[psysml:ff423fdb-a5ad-4383-b75e-3a1966f8baa4 ]] {\r\n",
       "portin \"c\" as E6  [[psysml:4c2c889d-aea7-4bfd-be6e-45844659a6a1 ]] \r\n",
       "portin \"newX\" as E7  [[psysml:471b2978-4f3d-4f5c-bcaa-50341599c3a3 ]] \r\n",
       "}\r\n",
       "\r\n",
       "}\r\n",
       "@enduml\r\n",
       "\n",
       "PlantUML version 1.2020.13(Sat Jun 13 12:26:38 UTC 2020)\n",
       "(EPL source distribution)\n",
       "Java Runtime: OpenJDK Runtime Environment\n",
       "JVM: OpenJDK 64-Bit Server VM\n",
       "Default Encoding: UTF-8\n",
       "Language: en\n",
       "Country: null\n",
       "--></g></svg>"
      ]
     },
     "execution_count": 57,
     "metadata": {},
     "output_type": "execute_result"
    }
   ],
   "source": [
    "%viz --style=\"ORTHOLINE\" --view=\"MIXED\" \"TextualRepresentationTest\""
   ]
  }
 ],
 "metadata": {
  "kernelspec": {
   "display_name": "SysML",
   "language": "sysml",
   "name": "sysml"
  },
  "language_info": {
   "codemirror_mode": "sysml",
   "file_extension": ".sysml",
   "mimetype": "text/x-sysml",
   "name": "SysML",
   "pygments_lexer": "java",
   "version": "1.0.0"
  }
 },
 "nbformat": 4,
 "nbformat_minor": 5
}
