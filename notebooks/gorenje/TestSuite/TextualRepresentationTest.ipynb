{
 "cells": [
  {
   "cell_type": "markdown",
   "id": "c64f3c9a",
   "metadata": {},
   "source": [
    "# SysML v2 Test Suite\n",
    "\n",
    "This can notebook can be cleared using menu `Edit --> Clear All Outputs` and then all cells can be\n",
    "run using menu `Run --> Run All Cells`.\n",
    "\n",
    "**WARNING**: This file is generated, all modifications here will be ignored.\n"
   ]
  },
  {
   "cell_type": "markdown",
   "id": "424a4bd4",
   "metadata": {},
   "source": [
    "## File: ../../sysml/src/examples/Simple Tests/TextualRepresentationTest.sysml"
   ]
  },
  {
   "cell_type": "code",
   "execution_count": 1,
   "id": "688985c7",
   "metadata": {
    "execution": {
     "iopub.execute_input": "2024-12-16T03:26:53.766870Z",
     "iopub.status.busy": "2024-12-16T03:26:53.765419Z",
     "iopub.status.idle": "2024-12-16T03:26:54.025248Z",
     "shell.execute_reply": "2024-12-16T03:26:54.025013Z"
    }
   },
   "outputs": [
    {
     "data": {
      "text/plain": [
       "Package TextualRepresentationTest (267f3727-84c1-426f-a395-45db3603d5f0)\n"
      ]
     },
     "execution_count": 1,
     "metadata": {},
     "output_type": "execute_result"
    }
   ],
   "source": [
    "package TextualRepresentationTest {\n",
    "\tprivate import ScalarValues::Real;\n",
    "\t\n",
    "\titem def C {\n",
    "\t    attribute x: Real;\n",
    "\t    assert constraint x_constraint {\n",
    "\t\t    rep inOCL language \"ocl\" \n",
    "\t\t        /* self.x > 0.0 */\n",
    "\t    }\n",
    "\t}\n",
    "\t\n",
    "\taction def setX {\n",
    "\t\tin c : C;\n",
    "\t\tin newX : Real;\n",
    "\t\t\n",
    "\t    language \"alf\" \n",
    "\t        /* c.x = newX;\n",
    "\t         * WriteLine(\"Set new x\");\n",
    "\t         */\n",
    "\t}\n",
    "\t\n",
    "}"
   ]
  },
  {
   "cell_type": "code",
   "execution_count": 2,
   "id": "c5d828aa",
   "metadata": {
    "execution": {
     "iopub.execute_input": "2024-12-16T03:26:54.082219Z",
     "iopub.status.busy": "2024-12-16T03:26:54.082000Z",
     "iopub.status.idle": "2024-12-16T03:26:54.490692Z",
     "shell.execute_reply": "2024-12-16T03:26:54.490828Z"
    }
   },
   "outputs": [
    {
     "data": {
      "image/svg+xml": [
       "<?xml version=\"1.0\" encoding=\"UTF-8\" standalone=\"no\"?><svg xmlns=\"http://www.w3.org/2000/svg\" xmlns:xlink=\"http://www.w3.org/1999/xlink\" contentStyleType=\"text/css\" height=\"256px\" preserveAspectRatio=\"none\" style=\"width:346px;height:256px;background:#FFFFFF;\" version=\"1.1\" viewBox=\"0 0 346 256\" width=\"346px\" zoomAndPan=\"magnify\"><defs/><g><!--MD5=[fbc87193dbaf4d95561dea2c320d4a47]\n",
       "cluster E1--><g id=\"cluster_E1\"><a href=\"psysml:267f3727-84c1-426f-a395-45db3603d5f0\" target=\"_top\" title=\"psysml:267f3727-84c1-426f-a395-45db3603d5f0\" xlink:actuate=\"onRequest\" xlink:href=\"psysml:267f3727-84c1-426f-a395-45db3603d5f0\" xlink:show=\"new\" xlink:title=\"psysml:267f3727-84c1-426f-a395-45db3603d5f0\" xlink:type=\"simple\"><polygon fill=\"none\" points=\"16,6,220.9375,6,227.9375,28.2969,329,28.2969,329,249.5,16,249.5,16,6\" style=\"stroke:#000000;stroke-width:1.5;\"/><line style=\"stroke:#000000;stroke-width:1.5;\" x1=\"16\" x2=\"227.9375\" y1=\"28.2969\" y2=\"28.2969\"/><text fill=\"#000000\" font-family=\"sans-serif\" font-size=\"14\" font-weight=\"bold\" lengthAdjust=\"spacing\" textLength=\"198.9375\" x=\"20\" y=\"20.9951\">TextualRepresentationTest</text></a></g><!--MD5=[f6df4d0ebaf0b5dfb2ced0ae5af7c670]\n",
       "cluster E4--><g id=\"cluster_E4\"><a href=\"psysml:3b239dd5-995b-4be0-a5de-a49576b20dda\" target=\"_top\" title=\"psysml:3b239dd5-995b-4be0-a5de-a49576b20dda\" xlink:actuate=\"onRequest\" xlink:href=\"psysml:3b239dd5-995b-4be0-a5de-a49576b20dda\" xlink:show=\"new\" xlink:title=\"psysml:3b239dd5-995b-4be0-a5de-a49576b20dda\" xlink:type=\"simple\"><rect fill=\"#FFFFFF\" height=\"155\" id=\"E4\" style=\"stroke:#383838;stroke-width:1.5;\" width=\"134\" x=\"179\" y=\"78.5\"/><text fill=\"#000000\" font-family=\"sans-serif\" font-size=\"12\" font-style=\"italic\" lengthAdjust=\"spacing\" textLength=\"81\" x=\"205.5\" y=\"94.6387\">«action  def»</text><text fill=\"#000000\" font-family=\"sans-serif\" font-size=\"14\" lengthAdjust=\"spacing\" textLength=\"31\" x=\"230.5\" y=\"110.4639\">setX</text><line style=\"stroke:#383838;stroke-width:1.0;\" x1=\"179\" x2=\"313\" y1=\"118.7656\" y2=\"118.7656\"/></a></g><!--MD5=[b4997ac47864f28c2f74865a473b2911]\n",
       "class E2--><a href=\"psysml:61886539-cbef-4e54-b839-069269561211\" target=\"_top\" title=\"psysml:61886539-cbef-4e54-b839-069269561211\" xlink:actuate=\"onRequest\" xlink:href=\"psysml:61886539-cbef-4e54-b839-069269561211\" xlink:show=\"new\" xlink:title=\"psysml:61886539-cbef-4e54-b839-069269561211\" xlink:type=\"simple\"><g id=\"elem_E2\"><rect fill=\"#FFFFFF\" height=\"75.0813\" id=\"E2\" style=\"stroke:#181818;stroke-width:0.5;\" width=\"74\" x=\"57\" y=\"41\"/><text fill=\"#000000\" font-family=\"sans-serif\" font-size=\"12\" font-style=\"italic\" lengthAdjust=\"spacing\" textLength=\"69\" x=\"59.5\" y=\"57.1387\">«item  def»</text><text fill=\"#000000\" font-family=\"sans-serif\" font-size=\"14\" lengthAdjust=\"spacing\" textLength=\"10\" x=\"89\" y=\"72.9639\">C</text><line style=\"stroke:#181818;stroke-width:0.5;\" x1=\"58\" x2=\"130\" y1=\"81.2656\" y2=\"81.2656\"/><text fill=\"#000000\" font-family=\"sans-serif\" font-size=\"14\" lengthAdjust=\"spacing\" textLength=\"46\" x=\"63\" y=\"108.7795\">x: Real</text><text fill=\"#000000\" font-family=\"sans-serif\" font-size=\"14\" font-style=\"italic\" lengthAdjust=\"spacing\" textLength=\"66\" x=\"61\" y=\"93.6123\">attributes</text></g></a><!--MD5=[09b614a08d8cba4a07c9adeb5e0fee81]\n",
       "class E3--><a href=\"psysml:646d3ab6-4c99-4716-814b-89245cbe5994\" target=\"_top\" title=\"psysml:646d3ab6-4c99-4716-814b-89245cbe5994\" xlink:actuate=\"onRequest\" xlink:href=\"psysml:646d3ab6-4c99-4716-814b-89245cbe5994\" xlink:show=\"new\" xlink:title=\"psysml:646d3ab6-4c99-4716-814b-89245cbe5994\" xlink:type=\"simple\"><g id=\"elem_E3\"><rect fill=\"#FFFFFF\" height=\"48.2656\" id=\"E3\" rx=\"10\" ry=\"10\" style=\"stroke:#181818;stroke-width:0.5;\" width=\"124\" x=\"32\" y=\"176\"/><text fill=\"#000000\" font-family=\"sans-serif\" font-size=\"12\" font-style=\"italic\" lengthAdjust=\"spacing\" textLength=\"122\" x=\"33\" y=\"192.1387\">«assert constraint»</text><text fill=\"#000000\" font-family=\"sans-serif\" font-size=\"14\" lengthAdjust=\"spacing\" textLength=\"83\" x=\"48.5\" y=\"207.9639\">x_constraint</text><line style=\"stroke:#181818;stroke-width:0.5;\" x1=\"33\" x2=\"155\" y1=\"216.2656\" y2=\"216.2656\"/></g></a><text fill=\"#000000\" font-family=\"sans-serif\" font-size=\"14\" lengthAdjust=\"spacing\" textLength=\"8\" x=\"193\" y=\"57.1982\">c</text><rect fill=\"#FFFFFF\" height=\"12\" style=\"stroke:#181818;stroke-width:1.5;\" width=\"12\" x=\"191\" y=\"72.5\"/><text fill=\"#000000\" font-family=\"sans-serif\" font-size=\"14\" lengthAdjust=\"spacing\" textLength=\"38\" x=\"225\" y=\"57.1982\">newX</text><rect fill=\"#FFFFFF\" height=\"12\" style=\"stroke:#181818;stroke-width:1.5;\" width=\"12\" x=\"238\" y=\"72.5\"/><!--MD5=[209b3feb70ccb6233bfe1053d122c12c]\n",
       "reverse link E2 to E3--><g id=\"link_E2_E3\"><a href=\"psysml:17b203e1-cdea-4a97-b803-663e29228052\" target=\"_top\" title=\"psysml:17b203e1-cdea-4a97-b803-663e29228052\" xlink:actuate=\"onRequest\" xlink:href=\"psysml:17b203e1-cdea-4a97-b803-663e29228052\" xlink:show=\"new\" xlink:title=\"psysml:17b203e1-cdea-4a97-b803-663e29228052\" xlink:type=\"simple\"><path d=\"M94,129.25 C94,145.43 94,162.61 94,175.88 \" fill=\"none\" id=\"E2-backto-E3\" style=\"stroke:#181818;stroke-width:1.0;\"/><polygon fill=\"#181818\" points=\"94,116,90,122,94,128,98,122,94,116\" style=\"stroke:#181818;stroke-width:1.0;\"/></a></g><!--MD5=[d12b7da3c5a47c466eef767260d0b2a0]\n",
       "@startuml\r\n",
       "skin sysmlbw\r\n",
       "skinparam monochrome true\r\n",
       "skinparam wrapWidth 300\r\n",
       "hide circle\r\n",
       " \r\n",
       "package \"TextualRepresentationTest\" as E1  [[psysml:267f3727-84c1-426f-a395-45db3603d5f0 ]]  {\r\n",
       "comp def \"C\" as E2  <<(T,blue) item  def>> [[psysml:61886539-cbef-4e54-b839-069269561211 ]] {\r\n",
       "##//attributes//##\r\n",
       "x: Real\r\n",
       "}\r\n",
       "comp usage \"x_constraint  \" as E3  <<(T,blue) assert constraint>> [[psysml:646d3ab6-4c99-4716-814b-89245cbe5994 ]] {\r\n",
       "}\r\n",
       "rec def \"setX\" as E4  <<(T,blue) action  def>> [[psysml:3b239dd5-995b-4be0-a5de-a49576b20dda ]] {\r\n",
       "portin \"c\" as E5  [[psysml:4e0877a7-1493-46cf-81bf-47696701d005 ]] \r\n",
       "portin \"newX\" as E6  [[psysml:6814382f-4eaa-405a-a959-183965b050e4 ]] \r\n",
       "}\r\n",
       "\r\n",
       "}\r\n",
       "E2 *- - E3 [[psysml:17b203e1-cdea-4a97-b803-663e29228052 ]] \r\n",
       "@enduml\r\n",
       "\n",
       "PlantUML version 1.2022.7(Mon Aug 22 17:01:30 UTC 2022)\n",
       "(EPL source distribution)\n",
       "Java Runtime: OpenJDK Runtime Environment\n",
       "JVM: OpenJDK 64-Bit Server VM\n",
       "Default Encoding: UTF-8\n",
       "Language: en\n",
       "Country: null\n",
       "--></g></svg>"
      ]
     },
     "execution_count": 2,
     "metadata": {},
     "output_type": "execute_result"
    }
   ],
   "source": [
    "%viz --style=\"COMPTREE\" --view=\"Default\" \"TextualRepresentationTest\""
   ]
  },
  {
   "cell_type": "code",
   "execution_count": 3,
   "id": "7eb270d4",
   "metadata": {
    "execution": {
     "iopub.execute_input": "2024-12-16T03:26:54.547185Z",
     "iopub.status.busy": "2024-12-16T03:26:54.546967Z",
     "iopub.status.idle": "2024-12-16T03:26:54.595143Z",
     "shell.execute_reply": "2024-12-16T03:26:54.595281Z"
    }
   },
   "outputs": [
    {
     "data": {
      "image/svg+xml": [
       "<?xml version=\"1.0\" encoding=\"UTF-8\" standalone=\"no\"?><svg xmlns=\"http://www.w3.org/2000/svg\" xmlns:xlink=\"http://www.w3.org/1999/xlink\" contentStyleType=\"text/css\" height=\"373px\" preserveAspectRatio=\"none\" style=\"width:247px;height:373px;background:#FFFFFF;\" version=\"1.1\" viewBox=\"0 0 247 373\" width=\"247px\" zoomAndPan=\"magnify\"><defs/><g><!--MD5=[fbc87193dbaf4d95561dea2c320d4a47]\n",
       "cluster E1--><g id=\"cluster_E1\"><a href=\"psysml:267f3727-84c1-426f-a395-45db3603d5f0\" target=\"_top\" title=\"psysml:267f3727-84c1-426f-a395-45db3603d5f0\" xlink:actuate=\"onRequest\" xlink:href=\"psysml:267f3727-84c1-426f-a395-45db3603d5f0\" xlink:show=\"new\" xlink:title=\"psysml:267f3727-84c1-426f-a395-45db3603d5f0\" xlink:type=\"simple\"><polygon fill=\"none\" points=\"16,6,220.9375,6,227.9375,28.2969,230,28.2969,230,366,16,366,16,6\" style=\"stroke:#000000;stroke-width:1.5;\"/><line style=\"stroke:#000000;stroke-width:1.5;\" x1=\"16\" x2=\"227.9375\" y1=\"28.2969\" y2=\"28.2969\"/><text fill=\"#000000\" font-family=\"sans-serif\" font-size=\"14\" font-weight=\"bold\" lengthAdjust=\"spacing\" textLength=\"198.9375\" x=\"20\" y=\"20.9951\">TextualRepresentationTest</text></a></g><!--MD5=[b4997ac47864f28c2f74865a473b2911]\n",
       "class E2--><a href=\"psysml:61886539-cbef-4e54-b839-069269561211\" target=\"_top\" title=\"psysml:61886539-cbef-4e54-b839-069269561211\" xlink:actuate=\"onRequest\" xlink:href=\"psysml:61886539-cbef-4e54-b839-069269561211\" xlink:show=\"new\" xlink:title=\"psysml:61886539-cbef-4e54-b839-069269561211\" xlink:type=\"simple\"><g id=\"elem_E2\"><rect fill=\"#FFFFFF\" height=\"75.0813\" id=\"E2\" style=\"stroke:#181818;stroke-width:0.5;\" width=\"74\" x=\"86\" y=\"166\"/><text fill=\"#000000\" font-family=\"sans-serif\" font-size=\"12\" font-style=\"italic\" lengthAdjust=\"spacing\" textLength=\"69\" x=\"88.5\" y=\"182.1387\">«item  def»</text><text fill=\"#000000\" font-family=\"sans-serif\" font-size=\"14\" lengthAdjust=\"spacing\" textLength=\"10\" x=\"118\" y=\"197.9639\">C</text><line style=\"stroke:#181818;stroke-width:0.5;\" x1=\"87\" x2=\"159\" y1=\"206.2656\" y2=\"206.2656\"/><text fill=\"#000000\" font-family=\"sans-serif\" font-size=\"14\" lengthAdjust=\"spacing\" textLength=\"46\" x=\"92\" y=\"233.7795\">x: Real</text><text fill=\"#000000\" font-family=\"sans-serif\" font-size=\"14\" font-style=\"italic\" lengthAdjust=\"spacing\" textLength=\"66\" x=\"90\" y=\"218.6123\">attributes</text></g></a><!--MD5=[09b614a08d8cba4a07c9adeb5e0fee81]\n",
       "class E3--><a href=\"psysml:646d3ab6-4c99-4716-814b-89245cbe5994\" target=\"_top\" title=\"psysml:646d3ab6-4c99-4716-814b-89245cbe5994\" xlink:actuate=\"onRequest\" xlink:href=\"psysml:646d3ab6-4c99-4716-814b-89245cbe5994\" xlink:show=\"new\" xlink:title=\"psysml:646d3ab6-4c99-4716-814b-89245cbe5994\" xlink:type=\"simple\"><g id=\"elem_E3\"><rect fill=\"#FFFFFF\" height=\"48.2656\" id=\"E3\" rx=\"10\" ry=\"10\" style=\"stroke:#181818;stroke-width:0.5;\" width=\"124\" x=\"61\" y=\"302\"/><text fill=\"#000000\" font-family=\"sans-serif\" font-size=\"12\" font-style=\"italic\" lengthAdjust=\"spacing\" textLength=\"122\" x=\"62\" y=\"318.1387\">«assert constraint»</text><text fill=\"#000000\" font-family=\"sans-serif\" font-size=\"14\" lengthAdjust=\"spacing\" textLength=\"83\" x=\"77.5\" y=\"333.9639\">x_constraint</text><line style=\"stroke:#181818;stroke-width:0.5;\" x1=\"62\" x2=\"184\" y1=\"342.2656\" y2=\"342.2656\"/></g></a><!--MD5=[ebbe1d658d1005bcc118a6aa81145e00]\n",
       "class E4--><a href=\"psysml:3b239dd5-995b-4be0-a5de-a49576b20dda\" target=\"_top\" title=\"psysml:3b239dd5-995b-4be0-a5de-a49576b20dda\" xlink:actuate=\"onRequest\" xlink:href=\"psysml:3b239dd5-995b-4be0-a5de-a49576b20dda\" xlink:show=\"new\" xlink:title=\"psysml:3b239dd5-995b-4be0-a5de-a49576b20dda\" xlink:type=\"simple\"><g id=\"elem_E4\"><rect fill=\"#FFFFFF\" height=\"48.2656\" id=\"E4\" style=\"stroke:#181818;stroke-width:0.5;\" width=\"83\" x=\"81.5\" y=\"41\"/><text fill=\"#000000\" font-family=\"sans-serif\" font-size=\"12\" font-style=\"italic\" lengthAdjust=\"spacing\" textLength=\"81\" x=\"82.5\" y=\"57.1387\">«action  def»</text><text fill=\"#000000\" font-family=\"sans-serif\" font-size=\"14\" lengthAdjust=\"spacing\" textLength=\"31\" x=\"107.5\" y=\"72.9639\">setX</text><line style=\"stroke:#181818;stroke-width:0.5;\" x1=\"82.5\" x2=\"163.5\" y1=\"81.2656\" y2=\"81.2656\"/></g></a><!--MD5=[209b3feb70ccb6233bfe1053d122c12c]\n",
       "reverse link E2 to E3--><g id=\"link_E2_E3\"><a href=\"psysml:17b203e1-cdea-4a97-b803-663e29228052\" target=\"_top\" title=\"psysml:17b203e1-cdea-4a97-b803-663e29228052\" xlink:actuate=\"onRequest\" xlink:href=\"psysml:17b203e1-cdea-4a97-b803-663e29228052\" xlink:show=\"new\" xlink:title=\"psysml:17b203e1-cdea-4a97-b803-663e29228052\" xlink:type=\"simple\"><path d=\"M123,254.67 C123,270.98 123,288.31 123,301.69 \" fill=\"none\" id=\"E2-backto-E3\" style=\"stroke:#181818;stroke-width:1.0;\"/><polygon fill=\"#181818\" points=\"123,241.31,119,247.31,123,253.31,127,247.31,123,241.31\" style=\"stroke:#181818;stroke-width:1.0;\"/></a></g><!--MD5=[ddeed8deb2209213b62e6cfabaa108b2]\n",
       "reverse link E4 to E2--><g id=\"link_E4_E2\"><a href=\"psysml:4e0877a7-1493-46cf-81bf-47696701d005\" target=\"_top\" title=\"psysml:4e0877a7-1493-46cf-81bf-47696701d005\" xlink:actuate=\"onRequest\" xlink:href=\"psysml:4e0877a7-1493-46cf-81bf-47696701d005\" xlink:show=\"new\" xlink:title=\"psysml:4e0877a7-1493-46cf-81bf-47696701d005\" xlink:type=\"simple\"><path d=\"M123,102.22 C123,121.88 123,146.11 123,165.84 \" fill=\"none\" id=\"E4-backto-E2\" style=\"stroke:#181818;stroke-width:1.0;\"/><polygon fill=\"none\" points=\"123,89.16,119,95.16,123,101.16,127,95.16,123,89.16\" style=\"stroke:#181818;stroke-width:1.0;\"/><text fill=\"#000000\" font-family=\"sans-serif\" font-size=\"13\" lengthAdjust=\"spacing\" textLength=\"7\" x=\"124\" y=\"132.0669\">c</text></a></g><!--MD5=[e83471b8b2a2e92e0f0ccffa64ae1f26]\n",
       "@startuml\r\n",
       "skin sysmlbw\r\n",
       "skinparam monochrome true\r\n",
       "skinparam wrapWidth 300\r\n",
       "hide circle\r\n",
       " \r\n",
       "package \"TextualRepresentationTest\" as E1  [[psysml:267f3727-84c1-426f-a395-45db3603d5f0 ]]  {\r\n",
       "comp def \"C\" as E2  <<(T,blue) item  def>> [[psysml:61886539-cbef-4e54-b839-069269561211 ]] {\r\n",
       "##//attributes//##\r\n",
       "x: Real\r\n",
       "}\r\n",
       "comp usage \"x_constraint  \" as E3  <<(T,blue) assert constraint>> [[psysml:646d3ab6-4c99-4716-814b-89245cbe5994 ]] {\r\n",
       "}\r\n",
       "comp def \"setX\" as E4  <<(T,blue) action  def>> [[psysml:3b239dd5-995b-4be0-a5de-a49576b20dda ]] {\r\n",
       "}\r\n",
       "}\r\n",
       "E2 *- - E3 [[psysml:17b203e1-cdea-4a97-b803-663e29228052 ]] \r\n",
       "E4 o- - E2 [[psysml:4e0877a7-1493-46cf-81bf-47696701d005 ]] : c\r\n",
       "@enduml\r\n",
       "\n",
       "PlantUML version 1.2022.7(Mon Aug 22 17:01:30 UTC 2022)\n",
       "(EPL source distribution)\n",
       "Java Runtime: OpenJDK Runtime Environment\n",
       "JVM: OpenJDK 64-Bit Server VM\n",
       "Default Encoding: UTF-8\n",
       "Language: en\n",
       "Country: null\n",
       "--></g></svg>"
      ]
     },
     "execution_count": 3,
     "metadata": {},
     "output_type": "execute_result"
    }
   ],
   "source": [
    "%viz --style=\"COMPTREE\" --view=\"Tree\" \"TextualRepresentationTest\""
   ]
  },
  {
   "cell_type": "code",
   "execution_count": 4,
   "id": "1dd21b73",
   "metadata": {
    "execution": {
     "iopub.execute_input": "2024-12-16T03:26:54.652179Z",
     "iopub.status.busy": "2024-12-16T03:26:54.651953Z",
     "iopub.status.idle": "2024-12-16T03:26:54.659589Z",
     "shell.execute_reply": "2024-12-16T03:26:54.659725Z"
    }
   },
   "outputs": [
    {
     "data": {
      "image/svg+xml": [
       "<?xml version=\"1.0\" encoding=\"UTF-8\" standalone=\"no\"?><svg xmlns=\"http://www.w3.org/2000/svg\" xmlns:xlink=\"http://www.w3.org/1999/xlink\" contentStyleType=\"text/css\" height=\"10px\" preserveAspectRatio=\"none\" style=\"width:10px;height:10px;background:#FFFFFF;\" version=\"1.1\" viewBox=\"0 0 10 10\" width=\"10px\" zoomAndPan=\"magnify\"><defs/><g><!--MD5=[ee07d3037018df61283447c7fdb4a44f]\n",
       "@startuml\r\n",
       "skin sysmlbw\r\n",
       "skinparam monochrome true\r\n",
       "skinparam wrapWidth 300\r\n",
       "hide circle\r\n",
       " \r\n",
       "@enduml\r\n",
       "\n",
       "PlantUML version 1.2022.7(Mon Aug 22 17:01:30 UTC 2022)\n",
       "(EPL source distribution)\n",
       "Java Runtime: OpenJDK Runtime Environment\n",
       "JVM: OpenJDK 64-Bit Server VM\n",
       "Default Encoding: UTF-8\n",
       "Language: en\n",
       "Country: null\n",
       "--></g></svg>"
      ]
     },
     "execution_count": 4,
     "metadata": {},
     "output_type": "execute_result"
    }
   ],
   "source": [
    "%viz --style=\"COMPTREE\" --view=\"State\" \"TextualRepresentationTest\""
   ]
  },
  {
   "cell_type": "code",
   "execution_count": 5,
   "id": "fcfdb519",
   "metadata": {
    "execution": {
     "iopub.execute_input": "2024-12-16T03:26:54.715232Z",
     "iopub.status.busy": "2024-12-16T03:26:54.715004Z",
     "iopub.status.idle": "2024-12-16T03:26:54.738537Z",
     "shell.execute_reply": "2024-12-16T03:26:54.738667Z"
    }
   },
   "outputs": [
    {
     "data": {
      "image/svg+xml": [
       "<?xml version=\"1.0\" encoding=\"UTF-8\" standalone=\"no\"?><svg xmlns=\"http://www.w3.org/2000/svg\" xmlns:xlink=\"http://www.w3.org/1999/xlink\" contentStyleType=\"text/css\" height=\"176px\" preserveAspectRatio=\"none\" style=\"width:287px;height:176px;background:#FFFFFF;\" version=\"1.1\" viewBox=\"0 0 287 176\" width=\"287px\" zoomAndPan=\"magnify\"><defs/><g><!--MD5=[fbc87193dbaf4d95561dea2c320d4a47]\n",
       "cluster E1--><g id=\"cluster_E1\"><a href=\"psysml:267f3727-84c1-426f-a395-45db3603d5f0\" target=\"_top\" title=\"psysml:267f3727-84c1-426f-a395-45db3603d5f0\" xlink:actuate=\"onRequest\" xlink:href=\"psysml:267f3727-84c1-426f-a395-45db3603d5f0\" xlink:show=\"new\" xlink:title=\"psysml:267f3727-84c1-426f-a395-45db3603d5f0\" xlink:type=\"simple\"><polygon fill=\"none\" points=\"16,6,220.9375,6,227.9375,28.2969,270,28.2969,270,169,16,169,16,6\" style=\"stroke:#000000;stroke-width:1.5;\"/><line style=\"stroke:#000000;stroke-width:1.5;\" x1=\"16\" x2=\"227.9375\" y1=\"28.2969\" y2=\"28.2969\"/><text fill=\"#000000\" font-family=\"sans-serif\" font-size=\"14\" font-weight=\"bold\" lengthAdjust=\"spacing\" textLength=\"198.9375\" x=\"20\" y=\"20.9951\">TextualRepresentationTest</text></a></g><!--MD5=[d5e69f78d87373223dbae638b30a9c99]\n",
       "cluster E3--><g id=\"cluster_E3\"><a href=\"psysml:3b239dd5-995b-4be0-a5de-a49576b20dda\" target=\"_top\" title=\"psysml:3b239dd5-995b-4be0-a5de-a49576b20dda\" xlink:actuate=\"onRequest\" xlink:href=\"psysml:3b239dd5-995b-4be0-a5de-a49576b20dda\" xlink:show=\"new\" xlink:title=\"psysml:3b239dd5-995b-4be0-a5de-a49576b20dda\" xlink:type=\"simple\"><rect fill=\"#FFFFFF\" height=\"89.5\" id=\"E3\" style=\"stroke:#383838;stroke-width:1.5;\" width=\"100\" x=\"122.5\" y=\"63.5\"/><text fill=\"#000000\" font-family=\"sans-serif\" font-size=\"12\" font-style=\"italic\" lengthAdjust=\"spacing\" textLength=\"81\" x=\"132\" y=\"79.6387\">«action  def»</text><text fill=\"#000000\" font-family=\"sans-serif\" font-size=\"14\" lengthAdjust=\"spacing\" textLength=\"31\" x=\"157\" y=\"95.4639\">setX</text><line style=\"stroke:#383838;stroke-width:1.0;\" x1=\"122.5\" x2=\"222.5\" y1=\"103.7656\" y2=\"103.7656\"/></a></g><g><a href=\"psysml:61886539-cbef-4e54-b839-069269561211\" target=\"_top\" title=\"psysml:61886539-cbef-4e54-b839-069269561211\" xlink:actuate=\"onRequest\" xlink:href=\"psysml:61886539-cbef-4e54-b839-069269561211\" xlink:show=\"new\" xlink:title=\"psysml:61886539-cbef-4e54-b839-069269561211\" xlink:type=\"simple\"><rect fill=\"#FFFFFF\" height=\"45.2656\" id=\"E2\" style=\"stroke:#383838;stroke-width:1.5;\" width=\"76\" x=\"32\" y=\"41\"/><text fill=\"#000000\" font-family=\"sans-serif\" font-size=\"12\" font-style=\"italic\" lengthAdjust=\"spacing\" textLength=\"69\" x=\"35.5\" y=\"57.1387\">«item  def»</text><text fill=\"#000000\" font-family=\"sans-serif\" font-size=\"14\" lengthAdjust=\"spacing\" textLength=\"10\" x=\"65\" y=\"72.9639\">C</text></a></g><text fill=\"#000000\" font-family=\"sans-serif\" font-size=\"14\" lengthAdjust=\"spacing\" textLength=\"8\" x=\"145\" y=\"42.1982\">c</text><rect fill=\"#FFFFFF\" height=\"12\" style=\"stroke:#181818;stroke-width:1.5;\" width=\"12\" x=\"143\" y=\"57.5\"/><text fill=\"#000000\" font-family=\"sans-serif\" font-size=\"14\" lengthAdjust=\"spacing\" textLength=\"38\" x=\"177\" y=\"42.1982\">newX</text><rect fill=\"#FFFFFF\" height=\"12\" style=\"stroke:#181818;stroke-width:1.5;\" width=\"12\" x=\"190\" y=\"57.5\"/><!--MD5=[d86b0a49178e2815ab565959edbbc00e]\n",
       "@startuml\r\n",
       "skin sysmlbw\r\n",
       "skinparam monochrome true\r\n",
       "skinparam wrapWidth 300\r\n",
       "hide circle\r\n",
       " skinparam ranksep 10\r\n",
       "skinparam rectangle {\r\n",
       " backgroundColor<<block>> LightGreen\r\n",
       "}\r\n",
       "\r\n",
       "package \"TextualRepresentationTest\" as E1  [[psysml:267f3727-84c1-426f-a395-45db3603d5f0 ]]  {\r\n",
       "def \"C\" as E2  <<(T,blue) item  def>> [[psysml:61886539-cbef-4e54-b839-069269561211 ]] \r\n",
       "rec def \"setX\" as E3  <<(T,blue) action  def>> [[psysml:3b239dd5-995b-4be0-a5de-a49576b20dda ]] {\r\n",
       "portin \"c\" as E4  [[psysml:4e0877a7-1493-46cf-81bf-47696701d005 ]] \r\n",
       "portin \"newX\" as E5  [[psysml:6814382f-4eaa-405a-a959-183965b050e4 ]] \r\n",
       "}\r\n",
       "\r\n",
       "}\r\n",
       "@enduml\r\n",
       "\n",
       "PlantUML version 1.2022.7(Mon Aug 22 17:01:30 UTC 2022)\n",
       "(EPL source distribution)\n",
       "Java Runtime: OpenJDK Runtime Environment\n",
       "JVM: OpenJDK 64-Bit Server VM\n",
       "Default Encoding: UTF-8\n",
       "Language: en\n",
       "Country: null\n",
       "--></g></svg>"
      ]
     },
     "execution_count": 5,
     "metadata": {},
     "output_type": "execute_result"
    }
   ],
   "source": [
    "%viz --style=\"COMPTREE\" --view=\"Interconnection\" \"TextualRepresentationTest\""
   ]
  },
  {
   "cell_type": "code",
   "execution_count": 6,
   "id": "d9e1c08f",
   "metadata": {
    "execution": {
     "iopub.execute_input": "2024-12-16T03:26:54.791313Z",
     "iopub.status.busy": "2024-12-16T03:26:54.790693Z",
     "iopub.status.idle": "2024-12-16T03:26:54.807025Z",
     "shell.execute_reply": "2024-12-16T03:26:54.807156Z"
    }
   },
   "outputs": [
    {
     "data": {
      "image/svg+xml": [
       "<?xml version=\"1.0\" encoding=\"UTF-8\" standalone=\"no\"?><svg xmlns=\"http://www.w3.org/2000/svg\" xmlns:xlink=\"http://www.w3.org/1999/xlink\" contentStyleType=\"text/css\" height=\"121px\" preserveAspectRatio=\"none\" style=\"width:148px;height:121px;background:#FFFFFF;\" version=\"1.1\" viewBox=\"0 0 148 121\" width=\"148px\" zoomAndPan=\"magnify\"><defs/><g><!--MD5=[fbc87193dbaf4d95561dea2c320d4a47]\n",
       "cluster E1--><g id=\"cluster_E1\"><a href=\"psysml:3b239dd5-995b-4be0-a5de-a49576b20dda\" target=\"_top\" title=\"psysml:3b239dd5-995b-4be0-a5de-a49576b20dda\" xlink:actuate=\"onRequest\" xlink:href=\"psysml:3b239dd5-995b-4be0-a5de-a49576b20dda\" xlink:show=\"new\" xlink:title=\"psysml:3b239dd5-995b-4be0-a5de-a49576b20dda\" xlink:type=\"simple\"><rect fill=\"#FFFFFF\" height=\"73\" id=\"E1\" style=\"stroke:#383838;stroke-width:1.5;\" width=\"134\" x=\"7\" y=\"42.0986\"/><text fill=\"#000000\" font-family=\"sans-serif\" font-size=\"12\" font-style=\"italic\" lengthAdjust=\"spacing\" textLength=\"81\" x=\"33.5\" y=\"58.2373\">«action  def»</text><text fill=\"#000000\" font-family=\"sans-serif\" font-size=\"14\" lengthAdjust=\"spacing\" textLength=\"31\" x=\"58.5\" y=\"74.0625\">setX</text><line style=\"stroke:#383838;stroke-width:1.0;\" x1=\"7\" x2=\"141\" y1=\"82.3643\" y2=\"82.3643\"/></a></g><text fill=\"#000000\" font-family=\"sans-serif\" font-size=\"14\" lengthAdjust=\"spacing\" textLength=\"8\" x=\"21\" y=\"20.7969\">c</text><rect fill=\"#FFFFFF\" height=\"12\" style=\"stroke:#181818;stroke-width:1.5;\" width=\"12\" x=\"19\" y=\"36.0986\"/><text fill=\"#000000\" font-family=\"sans-serif\" font-size=\"14\" lengthAdjust=\"spacing\" textLength=\"38\" x=\"53\" y=\"20.7969\">newX</text><rect fill=\"#FFFFFF\" height=\"12\" style=\"stroke:#181818;stroke-width:1.5;\" width=\"12\" x=\"66\" y=\"36.0986\"/><!--MD5=[5ec4f23668a704f1d01ec5d2a8ce4fbf]\n",
       "@startuml\r\n",
       "skin sysmlbw\r\n",
       "skinparam monochrome true\r\n",
       "skinparam wrapWidth 300\r\n",
       "hide circle\r\n",
       " skinparam ranksep 8\r\n",
       "\r\n",
       "rec def \"setX\" as E1  <<(T,blue) action  def>> [[psysml:3b239dd5-995b-4be0-a5de-a49576b20dda ]] {\r\n",
       "portin \"c\" as E2  [[psysml:4e0877a7-1493-46cf-81bf-47696701d005 ]] \r\n",
       "portin \"newX\" as E3  [[psysml:6814382f-4eaa-405a-a959-183965b050e4 ]] \r\n",
       "}\r\n",
       "\r\n",
       "@enduml\r\n",
       "\n",
       "PlantUML version 1.2022.7(Mon Aug 22 17:01:30 UTC 2022)\n",
       "(EPL source distribution)\n",
       "Java Runtime: OpenJDK Runtime Environment\n",
       "JVM: OpenJDK 64-Bit Server VM\n",
       "Default Encoding: UTF-8\n",
       "Language: en\n",
       "Country: null\n",
       "--></g></svg>"
      ]
     },
     "execution_count": 6,
     "metadata": {},
     "output_type": "execute_result"
    }
   ],
   "source": [
    "%viz --style=\"COMPTREE\" --view=\"Action\" \"TextualRepresentationTest\""
   ]
  },
  {
   "cell_type": "code",
   "execution_count": 7,
   "id": "75c4f86a",
   "metadata": {
    "execution": {
     "iopub.execute_input": "2024-12-16T03:26:54.861497Z",
     "iopub.status.busy": "2024-12-16T03:26:54.861251Z",
     "iopub.status.idle": "2024-12-16T03:26:54.875483Z",
     "shell.execute_reply": "2024-12-16T03:26:54.875278Z"
    }
   },
   "outputs": [
    {
     "data": {
      "image/svg+xml": [
       "<?xml version=\"1.0\" encoding=\"UTF-8\" standalone=\"no\"?><svg xmlns=\"http://www.w3.org/2000/svg\" xmlns:xlink=\"http://www.w3.org/1999/xlink\" contentStyleType=\"text/css\" height=\"10px\" preserveAspectRatio=\"none\" style=\"width:10px;height:10px;background:#FFFFFF;\" version=\"1.1\" viewBox=\"0 0 10 10\" width=\"10px\" zoomAndPan=\"magnify\"><defs/><g><!--MD5=[f5e9abf0a6c8dccaf40d0172f495ca0b]\n",
       "@startuml\r\n",
       "skin sysmlbw\r\n",
       "skinparam monochrome true\r\n",
       "skinparam wrapWidth 300\r\n",
       "hide circle\r\n",
       " skinparam roundcorner 20\r\n",
       "skinparam BoxPadding 20\r\n",
       "skinparam SequenceBoxBackgroundColor #white\r\n",
       "skinparam style strictuml\r\n",
       "skinparam maxMessageSize 100\r\n",
       "\r\n",
       "@enduml\r\n",
       "\n",
       "PlantUML version 1.2022.7(Mon Aug 22 17:01:30 UTC 2022)\n",
       "(EPL source distribution)\n",
       "Java Runtime: OpenJDK Runtime Environment\n",
       "JVM: OpenJDK 64-Bit Server VM\n",
       "Default Encoding: UTF-8\n",
       "Language: en\n",
       "Country: null\n",
       "--></g></svg>"
      ]
     },
     "execution_count": 7,
     "metadata": {},
     "output_type": "execute_result"
    }
   ],
   "source": [
    "%viz --style=\"COMPTREE\" --view=\"Sequence\" \"TextualRepresentationTest\""
   ]
  },
  {
   "cell_type": "code",
   "execution_count": 8,
   "id": "8b375fe3",
   "metadata": {
    "execution": {
     "iopub.execute_input": "2024-12-16T03:26:54.927607Z",
     "iopub.status.busy": "2024-12-16T03:26:54.927367Z",
     "iopub.status.idle": "2024-12-16T03:26:54.959662Z",
     "shell.execute_reply": "2024-12-16T03:26:54.958942Z"
    }
   },
   "outputs": [
    {
     "data": {
      "image/svg+xml": [
       "<?xml version=\"1.0\" encoding=\"UTF-8\" standalone=\"no\"?><svg xmlns=\"http://www.w3.org/2000/svg\" xmlns:xlink=\"http://www.w3.org/1999/xlink\" contentStyleType=\"text/css\" height=\"256px\" preserveAspectRatio=\"none\" style=\"width:346px;height:256px;background:#FFFFFF;\" version=\"1.1\" viewBox=\"0 0 346 256\" width=\"346px\" zoomAndPan=\"magnify\"><defs/><g><!--MD5=[fbc87193dbaf4d95561dea2c320d4a47]\n",
       "cluster E1--><g id=\"cluster_E1\"><a href=\"psysml:267f3727-84c1-426f-a395-45db3603d5f0\" target=\"_top\" title=\"psysml:267f3727-84c1-426f-a395-45db3603d5f0\" xlink:actuate=\"onRequest\" xlink:href=\"psysml:267f3727-84c1-426f-a395-45db3603d5f0\" xlink:show=\"new\" xlink:title=\"psysml:267f3727-84c1-426f-a395-45db3603d5f0\" xlink:type=\"simple\"><polygon fill=\"none\" points=\"16,6,220.9375,6,227.9375,28.2969,329,28.2969,329,249.5,16,249.5,16,6\" style=\"stroke:#000000;stroke-width:1.5;\"/><line style=\"stroke:#000000;stroke-width:1.5;\" x1=\"16\" x2=\"227.9375\" y1=\"28.2969\" y2=\"28.2969\"/><text fill=\"#000000\" font-family=\"sans-serif\" font-size=\"14\" font-weight=\"bold\" lengthAdjust=\"spacing\" textLength=\"198.9375\" x=\"20\" y=\"20.9951\">TextualRepresentationTest</text></a></g><!--MD5=[f6df4d0ebaf0b5dfb2ced0ae5af7c670]\n",
       "cluster E4--><g id=\"cluster_E4\"><a href=\"psysml:3b239dd5-995b-4be0-a5de-a49576b20dda\" target=\"_top\" title=\"psysml:3b239dd5-995b-4be0-a5de-a49576b20dda\" xlink:actuate=\"onRequest\" xlink:href=\"psysml:3b239dd5-995b-4be0-a5de-a49576b20dda\" xlink:show=\"new\" xlink:title=\"psysml:3b239dd5-995b-4be0-a5de-a49576b20dda\" xlink:type=\"simple\"><rect fill=\"#FFFFFF\" height=\"155\" id=\"E4\" style=\"stroke:#383838;stroke-width:1.5;\" width=\"134\" x=\"179\" y=\"78.5\"/><text fill=\"#000000\" font-family=\"sans-serif\" font-size=\"12\" font-style=\"italic\" lengthAdjust=\"spacing\" textLength=\"81\" x=\"205.5\" y=\"94.6387\">«action  def»</text><text fill=\"#000000\" font-family=\"sans-serif\" font-size=\"14\" lengthAdjust=\"spacing\" textLength=\"31\" x=\"230.5\" y=\"110.4639\">setX</text><line style=\"stroke:#383838;stroke-width:1.0;\" x1=\"179\" x2=\"313\" y1=\"118.7656\" y2=\"118.7656\"/></a></g><!--MD5=[b4997ac47864f28c2f74865a473b2911]\n",
       "class E2--><a href=\"psysml:61886539-cbef-4e54-b839-069269561211\" target=\"_top\" title=\"psysml:61886539-cbef-4e54-b839-069269561211\" xlink:actuate=\"onRequest\" xlink:href=\"psysml:61886539-cbef-4e54-b839-069269561211\" xlink:show=\"new\" xlink:title=\"psysml:61886539-cbef-4e54-b839-069269561211\" xlink:type=\"simple\"><g id=\"elem_E2\"><rect fill=\"#FFFFFF\" height=\"75.0813\" id=\"E2\" style=\"stroke:#181818;stroke-width:0.5;\" width=\"74\" x=\"57\" y=\"41\"/><text fill=\"#000000\" font-family=\"sans-serif\" font-size=\"12\" font-style=\"italic\" lengthAdjust=\"spacing\" textLength=\"69\" x=\"59.5\" y=\"57.1387\">«item  def»</text><text fill=\"#000000\" font-family=\"sans-serif\" font-size=\"14\" lengthAdjust=\"spacing\" textLength=\"10\" x=\"89\" y=\"72.9639\">C</text><line style=\"stroke:#181818;stroke-width:0.5;\" x1=\"58\" x2=\"130\" y1=\"81.2656\" y2=\"81.2656\"/><text fill=\"#000000\" font-family=\"sans-serif\" font-size=\"14\" lengthAdjust=\"spacing\" textLength=\"46\" x=\"63\" y=\"108.7795\">x: Real</text><text fill=\"#000000\" font-family=\"sans-serif\" font-size=\"14\" font-style=\"italic\" lengthAdjust=\"spacing\" textLength=\"66\" x=\"61\" y=\"93.6123\">attributes</text></g></a><!--MD5=[09b614a08d8cba4a07c9adeb5e0fee81]\n",
       "class E3--><a href=\"psysml:646d3ab6-4c99-4716-814b-89245cbe5994\" target=\"_top\" title=\"psysml:646d3ab6-4c99-4716-814b-89245cbe5994\" xlink:actuate=\"onRequest\" xlink:href=\"psysml:646d3ab6-4c99-4716-814b-89245cbe5994\" xlink:show=\"new\" xlink:title=\"psysml:646d3ab6-4c99-4716-814b-89245cbe5994\" xlink:type=\"simple\"><g id=\"elem_E3\"><rect fill=\"#FFFFFF\" height=\"48.2656\" id=\"E3\" rx=\"10\" ry=\"10\" style=\"stroke:#181818;stroke-width:0.5;\" width=\"124\" x=\"32\" y=\"176\"/><text fill=\"#000000\" font-family=\"sans-serif\" font-size=\"12\" font-style=\"italic\" lengthAdjust=\"spacing\" textLength=\"122\" x=\"33\" y=\"192.1387\">«assert constraint»</text><text fill=\"#000000\" font-family=\"sans-serif\" font-size=\"14\" lengthAdjust=\"spacing\" textLength=\"83\" x=\"48.5\" y=\"207.9639\">x_constraint</text><line style=\"stroke:#181818;stroke-width:0.5;\" x1=\"33\" x2=\"155\" y1=\"216.2656\" y2=\"216.2656\"/></g></a><text fill=\"#000000\" font-family=\"sans-serif\" font-size=\"14\" lengthAdjust=\"spacing\" textLength=\"8\" x=\"193\" y=\"57.1982\">c</text><rect fill=\"#FFFFFF\" height=\"12\" style=\"stroke:#181818;stroke-width:1.5;\" width=\"12\" x=\"191\" y=\"72.5\"/><text fill=\"#000000\" font-family=\"sans-serif\" font-size=\"14\" lengthAdjust=\"spacing\" textLength=\"38\" x=\"225\" y=\"57.1982\">newX</text><rect fill=\"#FFFFFF\" height=\"12\" style=\"stroke:#181818;stroke-width:1.5;\" width=\"12\" x=\"238\" y=\"72.5\"/><!--MD5=[209b3feb70ccb6233bfe1053d122c12c]\n",
       "reverse link E2 to E3--><g id=\"link_E2_E3\"><a href=\"psysml:17b203e1-cdea-4a97-b803-663e29228052\" target=\"_top\" title=\"psysml:17b203e1-cdea-4a97-b803-663e29228052\" xlink:actuate=\"onRequest\" xlink:href=\"psysml:17b203e1-cdea-4a97-b803-663e29228052\" xlink:show=\"new\" xlink:title=\"psysml:17b203e1-cdea-4a97-b803-663e29228052\" xlink:type=\"simple\"><path d=\"M94,129.25 C94,145.43 94,162.61 94,175.88 \" fill=\"none\" id=\"E2-backto-E3\" style=\"stroke:#181818;stroke-width:1.0;\"/><polygon fill=\"#181818\" points=\"94,116,90,122,94,128,98,122,94,116\" style=\"stroke:#181818;stroke-width:1.0;\"/></a></g><!--MD5=[d12b7da3c5a47c466eef767260d0b2a0]\n",
       "@startuml\r\n",
       "skin sysmlbw\r\n",
       "skinparam monochrome true\r\n",
       "skinparam wrapWidth 300\r\n",
       "hide circle\r\n",
       " \r\n",
       "package \"TextualRepresentationTest\" as E1  [[psysml:267f3727-84c1-426f-a395-45db3603d5f0 ]]  {\r\n",
       "comp def \"C\" as E2  <<(T,blue) item  def>> [[psysml:61886539-cbef-4e54-b839-069269561211 ]] {\r\n",
       "##//attributes//##\r\n",
       "x: Real\r\n",
       "}\r\n",
       "comp usage \"x_constraint  \" as E3  <<(T,blue) assert constraint>> [[psysml:646d3ab6-4c99-4716-814b-89245cbe5994 ]] {\r\n",
       "}\r\n",
       "rec def \"setX\" as E4  <<(T,blue) action  def>> [[psysml:3b239dd5-995b-4be0-a5de-a49576b20dda ]] {\r\n",
       "portin \"c\" as E5  [[psysml:4e0877a7-1493-46cf-81bf-47696701d005 ]] \r\n",
       "portin \"newX\" as E6  [[psysml:6814382f-4eaa-405a-a959-183965b050e4 ]] \r\n",
       "}\r\n",
       "\r\n",
       "}\r\n",
       "E2 *- - E3 [[psysml:17b203e1-cdea-4a97-b803-663e29228052 ]] \r\n",
       "@enduml\r\n",
       "\n",
       "PlantUML version 1.2022.7(Mon Aug 22 17:01:30 UTC 2022)\n",
       "(EPL source distribution)\n",
       "Java Runtime: OpenJDK Runtime Environment\n",
       "JVM: OpenJDK 64-Bit Server VM\n",
       "Default Encoding: UTF-8\n",
       "Language: en\n",
       "Country: null\n",
       "--></g></svg>"
      ]
     },
     "execution_count": 8,
     "metadata": {},
     "output_type": "execute_result"
    }
   ],
   "source": [
    "%viz --style=\"COMPTREE\" --view=\"MIXED\" \"TextualRepresentationTest\""
   ]
  },
  {
   "cell_type": "code",
   "execution_count": 9,
   "id": "7fba813c",
   "metadata": {
    "execution": {
     "iopub.execute_input": "2024-12-16T03:26:55.014613Z",
     "iopub.status.busy": "2024-12-16T03:26:55.014374Z",
     "iopub.status.idle": "2024-12-16T03:26:55.044695Z",
     "shell.execute_reply": "2024-12-16T03:26:55.043867Z"
    }
   },
   "outputs": [
    {
     "data": {
      "image/svg+xml": [
       "<?xml version=\"1.0\" encoding=\"UTF-8\" standalone=\"no\"?><svg xmlns=\"http://www.w3.org/2000/svg\" xmlns:xlink=\"http://www.w3.org/1999/xlink\" contentStyleType=\"text/css\" height=\"256px\" preserveAspectRatio=\"none\" style=\"width:346px;height:256px;background:#FFFFFF;\" version=\"1.1\" viewBox=\"0 0 346 256\" width=\"346px\" zoomAndPan=\"magnify\"><defs/><g><!--MD5=[fbc87193dbaf4d95561dea2c320d4a47]\n",
       "cluster E1--><g id=\"cluster_E1\"><a href=\"psysml:267f3727-84c1-426f-a395-45db3603d5f0\" target=\"_top\" title=\"psysml:267f3727-84c1-426f-a395-45db3603d5f0\" xlink:actuate=\"onRequest\" xlink:href=\"psysml:267f3727-84c1-426f-a395-45db3603d5f0\" xlink:show=\"new\" xlink:title=\"psysml:267f3727-84c1-426f-a395-45db3603d5f0\" xlink:type=\"simple\"><polygon fill=\"none\" points=\"16,6,220.9375,6,227.9375,28.2969,329,28.2969,329,249.5,16,249.5,16,6\" style=\"stroke:#000000;stroke-width:1.5;\"/><line style=\"stroke:#000000;stroke-width:1.5;\" x1=\"16\" x2=\"227.9375\" y1=\"28.2969\" y2=\"28.2969\"/><text fill=\"#000000\" font-family=\"sans-serif\" font-size=\"14\" font-weight=\"bold\" lengthAdjust=\"spacing\" textLength=\"198.9375\" x=\"20\" y=\"20.9951\">TextualRepresentationTest</text></a></g><!--MD5=[f6df4d0ebaf0b5dfb2ced0ae5af7c670]\n",
       "cluster E4--><g id=\"cluster_E4\"><a href=\"psysml:3b239dd5-995b-4be0-a5de-a49576b20dda\" target=\"_top\" title=\"psysml:3b239dd5-995b-4be0-a5de-a49576b20dda\" xlink:actuate=\"onRequest\" xlink:href=\"psysml:3b239dd5-995b-4be0-a5de-a49576b20dda\" xlink:show=\"new\" xlink:title=\"psysml:3b239dd5-995b-4be0-a5de-a49576b20dda\" xlink:type=\"simple\"><rect fill=\"#FFFFFF\" height=\"155\" id=\"E4\" style=\"stroke:#383838;stroke-width:1.5;\" width=\"134\" x=\"179\" y=\"78.5\"/><text fill=\"#000000\" font-family=\"sans-serif\" font-size=\"12\" font-style=\"italic\" lengthAdjust=\"spacing\" textLength=\"81\" x=\"205.5\" y=\"94.6387\">«action  def»</text><text fill=\"#000000\" font-family=\"sans-serif\" font-size=\"14\" lengthAdjust=\"spacing\" textLength=\"31\" x=\"230.5\" y=\"110.4639\">setX</text><line style=\"stroke:#383838;stroke-width:1.0;\" x1=\"179\" x2=\"313\" y1=\"118.7656\" y2=\"118.7656\"/></a></g><!--MD5=[b4997ac47864f28c2f74865a473b2911]\n",
       "class E2--><a href=\"psysml:61886539-cbef-4e54-b839-069269561211\" target=\"_top\" title=\"psysml:61886539-cbef-4e54-b839-069269561211\" xlink:actuate=\"onRequest\" xlink:href=\"psysml:61886539-cbef-4e54-b839-069269561211\" xlink:show=\"new\" xlink:title=\"psysml:61886539-cbef-4e54-b839-069269561211\" xlink:type=\"simple\"><g id=\"elem_E2\"><rect fill=\"#FFFFFF\" height=\"75.0813\" id=\"E2\" style=\"stroke:#181818;stroke-width:0.5;\" width=\"74\" x=\"57\" y=\"41\"/><text fill=\"#000000\" font-family=\"sans-serif\" font-size=\"12\" font-style=\"italic\" lengthAdjust=\"spacing\" textLength=\"69\" x=\"59.5\" y=\"57.1387\">«item  def»</text><text fill=\"#000000\" font-family=\"sans-serif\" font-size=\"14\" lengthAdjust=\"spacing\" textLength=\"10\" x=\"89\" y=\"72.9639\">C</text><line style=\"stroke:#181818;stroke-width:0.5;\" x1=\"58\" x2=\"130\" y1=\"81.2656\" y2=\"81.2656\"/><text fill=\"#000000\" font-family=\"sans-serif\" font-size=\"14\" lengthAdjust=\"spacing\" textLength=\"46\" x=\"63\" y=\"108.7795\">x: Real</text><text fill=\"#000000\" font-family=\"sans-serif\" font-size=\"14\" font-style=\"italic\" lengthAdjust=\"spacing\" textLength=\"66\" x=\"61\" y=\"93.6123\">attributes</text></g></a><!--MD5=[09b614a08d8cba4a07c9adeb5e0fee81]\n",
       "class E3--><a href=\"psysml:646d3ab6-4c99-4716-814b-89245cbe5994\" target=\"_top\" title=\"psysml:646d3ab6-4c99-4716-814b-89245cbe5994\" xlink:actuate=\"onRequest\" xlink:href=\"psysml:646d3ab6-4c99-4716-814b-89245cbe5994\" xlink:show=\"new\" xlink:title=\"psysml:646d3ab6-4c99-4716-814b-89245cbe5994\" xlink:type=\"simple\"><g id=\"elem_E3\"><rect fill=\"#FFFFFF\" height=\"48.2656\" id=\"E3\" rx=\"10\" ry=\"10\" style=\"stroke:#181818;stroke-width:0.5;\" width=\"124\" x=\"32\" y=\"176\"/><text fill=\"#000000\" font-family=\"sans-serif\" font-size=\"12\" font-style=\"italic\" lengthAdjust=\"spacing\" textLength=\"122\" x=\"33\" y=\"192.1387\">«assert constraint»</text><text fill=\"#000000\" font-family=\"sans-serif\" font-size=\"14\" lengthAdjust=\"spacing\" textLength=\"83\" x=\"48.5\" y=\"207.9639\">x_constraint</text><line style=\"stroke:#181818;stroke-width:0.5;\" x1=\"33\" x2=\"155\" y1=\"216.2656\" y2=\"216.2656\"/></g></a><text fill=\"#000000\" font-family=\"sans-serif\" font-size=\"14\" lengthAdjust=\"spacing\" textLength=\"8\" x=\"193\" y=\"57.1982\">c</text><rect fill=\"#FFFFFF\" height=\"12\" style=\"stroke:#181818;stroke-width:1.5;\" width=\"12\" x=\"191\" y=\"72.5\"/><text fill=\"#000000\" font-family=\"sans-serif\" font-size=\"14\" lengthAdjust=\"spacing\" textLength=\"38\" x=\"225\" y=\"57.1982\">newX</text><rect fill=\"#FFFFFF\" height=\"12\" style=\"stroke:#181818;stroke-width:1.5;\" width=\"12\" x=\"238\" y=\"72.5\"/><!--MD5=[209b3feb70ccb6233bfe1053d122c12c]\n",
       "reverse link E2 to E3--><g id=\"link_E2_E3\"><a href=\"psysml:17b203e1-cdea-4a97-b803-663e29228052\" target=\"_top\" title=\"psysml:17b203e1-cdea-4a97-b803-663e29228052\" xlink:actuate=\"onRequest\" xlink:href=\"psysml:17b203e1-cdea-4a97-b803-663e29228052\" xlink:show=\"new\" xlink:title=\"psysml:17b203e1-cdea-4a97-b803-663e29228052\" xlink:type=\"simple\"><path d=\"M94,129.25 C94,145.43 94,162.61 94,175.88 \" fill=\"none\" id=\"E2-backto-E3\" style=\"stroke:#181818;stroke-width:1.0;\"/><polygon fill=\"#181818\" points=\"94,116,90,122,94,128,98,122,94,116\" style=\"stroke:#181818;stroke-width:1.0;\"/></a></g><!--MD5=[dbe38dc6bc37c5f861f50d560685b777]\n",
       "@startuml\r\n",
       "skin sysmlbw\r\n",
       "skinparam monochrome true\r\n",
       "skinparam wrapWidth 300\r\n",
       "hide circle\r\n",
       "skinparam linetype polyline\r\n",
       "\r\n",
       "package \"TextualRepresentationTest\" as E1  [[psysml:267f3727-84c1-426f-a395-45db3603d5f0 ]]  {\r\n",
       "comp def \"C\" as E2  <<(T,blue) item  def>> [[psysml:61886539-cbef-4e54-b839-069269561211 ]] {\r\n",
       "##//attributes//##\r\n",
       "x: Real\r\n",
       "}\r\n",
       "comp usage \"x_constraint  \" as E3  <<(T,blue) assert constraint>> [[psysml:646d3ab6-4c99-4716-814b-89245cbe5994 ]] {\r\n",
       "}\r\n",
       "rec def \"setX\" as E4  <<(T,blue) action  def>> [[psysml:3b239dd5-995b-4be0-a5de-a49576b20dda ]] {\r\n",
       "portin \"c\" as E5  [[psysml:4e0877a7-1493-46cf-81bf-47696701d005 ]] \r\n",
       "portin \"newX\" as E6  [[psysml:6814382f-4eaa-405a-a959-183965b050e4 ]] \r\n",
       "}\r\n",
       "\r\n",
       "}\r\n",
       "E2 *- - E3 [[psysml:17b203e1-cdea-4a97-b803-663e29228052 ]] \r\n",
       "@enduml\r\n",
       "\n",
       "PlantUML version 1.2022.7(Mon Aug 22 17:01:30 UTC 2022)\n",
       "(EPL source distribution)\n",
       "Java Runtime: OpenJDK Runtime Environment\n",
       "JVM: OpenJDK 64-Bit Server VM\n",
       "Default Encoding: UTF-8\n",
       "Language: en\n",
       "Country: null\n",
       "--></g></svg>"
      ]
     },
     "execution_count": 9,
     "metadata": {},
     "output_type": "execute_result"
    }
   ],
   "source": [
    "%viz --style=\"POLYLINE\" --view=\"Default\" \"TextualRepresentationTest\""
   ]
  },
  {
   "cell_type": "code",
   "execution_count": 10,
   "id": "7d9d8ac5",
   "metadata": {
    "execution": {
     "iopub.execute_input": "2024-12-16T03:26:55.098034Z",
     "iopub.status.busy": "2024-12-16T03:26:55.097814Z",
     "iopub.status.idle": "2024-12-16T03:26:55.123202Z",
     "shell.execute_reply": "2024-12-16T03:26:55.123041Z"
    }
   },
   "outputs": [
    {
     "data": {
      "image/svg+xml": [
       "<?xml version=\"1.0\" encoding=\"UTF-8\" standalone=\"no\"?><svg xmlns=\"http://www.w3.org/2000/svg\" xmlns:xlink=\"http://www.w3.org/1999/xlink\" contentStyleType=\"text/css\" height=\"373px\" preserveAspectRatio=\"none\" style=\"width:247px;height:373px;background:#FFFFFF;\" version=\"1.1\" viewBox=\"0 0 247 373\" width=\"247px\" zoomAndPan=\"magnify\"><defs/><g><!--MD5=[fbc87193dbaf4d95561dea2c320d4a47]\n",
       "cluster E1--><g id=\"cluster_E1\"><a href=\"psysml:267f3727-84c1-426f-a395-45db3603d5f0\" target=\"_top\" title=\"psysml:267f3727-84c1-426f-a395-45db3603d5f0\" xlink:actuate=\"onRequest\" xlink:href=\"psysml:267f3727-84c1-426f-a395-45db3603d5f0\" xlink:show=\"new\" xlink:title=\"psysml:267f3727-84c1-426f-a395-45db3603d5f0\" xlink:type=\"simple\"><polygon fill=\"none\" points=\"16,6,220.9375,6,227.9375,28.2969,230,28.2969,230,366,16,366,16,6\" style=\"stroke:#000000;stroke-width:1.5;\"/><line style=\"stroke:#000000;stroke-width:1.5;\" x1=\"16\" x2=\"227.9375\" y1=\"28.2969\" y2=\"28.2969\"/><text fill=\"#000000\" font-family=\"sans-serif\" font-size=\"14\" font-weight=\"bold\" lengthAdjust=\"spacing\" textLength=\"198.9375\" x=\"20\" y=\"20.9951\">TextualRepresentationTest</text></a></g><!--MD5=[b4997ac47864f28c2f74865a473b2911]\n",
       "class E2--><a href=\"psysml:61886539-cbef-4e54-b839-069269561211\" target=\"_top\" title=\"psysml:61886539-cbef-4e54-b839-069269561211\" xlink:actuate=\"onRequest\" xlink:href=\"psysml:61886539-cbef-4e54-b839-069269561211\" xlink:show=\"new\" xlink:title=\"psysml:61886539-cbef-4e54-b839-069269561211\" xlink:type=\"simple\"><g id=\"elem_E2\"><rect fill=\"#FFFFFF\" height=\"75.0813\" id=\"E2\" style=\"stroke:#181818;stroke-width:0.5;\" width=\"74\" x=\"86\" y=\"166\"/><text fill=\"#000000\" font-family=\"sans-serif\" font-size=\"12\" font-style=\"italic\" lengthAdjust=\"spacing\" textLength=\"69\" x=\"88.5\" y=\"182.1387\">«item  def»</text><text fill=\"#000000\" font-family=\"sans-serif\" font-size=\"14\" lengthAdjust=\"spacing\" textLength=\"10\" x=\"118\" y=\"197.9639\">C</text><line style=\"stroke:#181818;stroke-width:0.5;\" x1=\"87\" x2=\"159\" y1=\"206.2656\" y2=\"206.2656\"/><text fill=\"#000000\" font-family=\"sans-serif\" font-size=\"14\" lengthAdjust=\"spacing\" textLength=\"46\" x=\"92\" y=\"233.7795\">x: Real</text><text fill=\"#000000\" font-family=\"sans-serif\" font-size=\"14\" font-style=\"italic\" lengthAdjust=\"spacing\" textLength=\"66\" x=\"90\" y=\"218.6123\">attributes</text></g></a><!--MD5=[09b614a08d8cba4a07c9adeb5e0fee81]\n",
       "class E3--><a href=\"psysml:646d3ab6-4c99-4716-814b-89245cbe5994\" target=\"_top\" title=\"psysml:646d3ab6-4c99-4716-814b-89245cbe5994\" xlink:actuate=\"onRequest\" xlink:href=\"psysml:646d3ab6-4c99-4716-814b-89245cbe5994\" xlink:show=\"new\" xlink:title=\"psysml:646d3ab6-4c99-4716-814b-89245cbe5994\" xlink:type=\"simple\"><g id=\"elem_E3\"><rect fill=\"#FFFFFF\" height=\"48.2656\" id=\"E3\" rx=\"10\" ry=\"10\" style=\"stroke:#181818;stroke-width:0.5;\" width=\"124\" x=\"61\" y=\"302\"/><text fill=\"#000000\" font-family=\"sans-serif\" font-size=\"12\" font-style=\"italic\" lengthAdjust=\"spacing\" textLength=\"122\" x=\"62\" y=\"318.1387\">«assert constraint»</text><text fill=\"#000000\" font-family=\"sans-serif\" font-size=\"14\" lengthAdjust=\"spacing\" textLength=\"83\" x=\"77.5\" y=\"333.9639\">x_constraint</text><line style=\"stroke:#181818;stroke-width:0.5;\" x1=\"62\" x2=\"184\" y1=\"342.2656\" y2=\"342.2656\"/></g></a><!--MD5=[ebbe1d658d1005bcc118a6aa81145e00]\n",
       "class E4--><a href=\"psysml:3b239dd5-995b-4be0-a5de-a49576b20dda\" target=\"_top\" title=\"psysml:3b239dd5-995b-4be0-a5de-a49576b20dda\" xlink:actuate=\"onRequest\" xlink:href=\"psysml:3b239dd5-995b-4be0-a5de-a49576b20dda\" xlink:show=\"new\" xlink:title=\"psysml:3b239dd5-995b-4be0-a5de-a49576b20dda\" xlink:type=\"simple\"><g id=\"elem_E4\"><rect fill=\"#FFFFFF\" height=\"48.2656\" id=\"E4\" style=\"stroke:#181818;stroke-width:0.5;\" width=\"83\" x=\"81.5\" y=\"41\"/><text fill=\"#000000\" font-family=\"sans-serif\" font-size=\"12\" font-style=\"italic\" lengthAdjust=\"spacing\" textLength=\"81\" x=\"82.5\" y=\"57.1387\">«action  def»</text><text fill=\"#000000\" font-family=\"sans-serif\" font-size=\"14\" lengthAdjust=\"spacing\" textLength=\"31\" x=\"107.5\" y=\"72.9639\">setX</text><line style=\"stroke:#181818;stroke-width:0.5;\" x1=\"82.5\" x2=\"163.5\" y1=\"81.2656\" y2=\"81.2656\"/></g></a><!--MD5=[209b3feb70ccb6233bfe1053d122c12c]\n",
       "reverse link E2 to E3--><g id=\"link_E2_E3\"><a href=\"psysml:17b203e1-cdea-4a97-b803-663e29228052\" target=\"_top\" title=\"psysml:17b203e1-cdea-4a97-b803-663e29228052\" xlink:actuate=\"onRequest\" xlink:href=\"psysml:17b203e1-cdea-4a97-b803-663e29228052\" xlink:show=\"new\" xlink:title=\"psysml:17b203e1-cdea-4a97-b803-663e29228052\" xlink:type=\"simple\"><path d=\"M123,254.67 C123,270.98 123,288.31 123,301.69 \" fill=\"none\" id=\"E2-backto-E3\" style=\"stroke:#181818;stroke-width:1.0;\"/><polygon fill=\"#181818\" points=\"123,241.31,119,247.31,123,253.31,127,247.31,123,241.31\" style=\"stroke:#181818;stroke-width:1.0;\"/></a></g><!--MD5=[ddeed8deb2209213b62e6cfabaa108b2]\n",
       "reverse link E4 to E2--><g id=\"link_E4_E2\"><a href=\"psysml:4e0877a7-1493-46cf-81bf-47696701d005\" target=\"_top\" title=\"psysml:4e0877a7-1493-46cf-81bf-47696701d005\" xlink:actuate=\"onRequest\" xlink:href=\"psysml:4e0877a7-1493-46cf-81bf-47696701d005\" xlink:show=\"new\" xlink:title=\"psysml:4e0877a7-1493-46cf-81bf-47696701d005\" xlink:type=\"simple\"><path d=\"M123,102.22 C123,121.88 123,146.11 123,165.84 \" fill=\"none\" id=\"E4-backto-E2\" style=\"stroke:#181818;stroke-width:1.0;\"/><polygon fill=\"none\" points=\"123,89.16,119,95.16,123,101.16,127,95.16,123,89.16\" style=\"stroke:#181818;stroke-width:1.0;\"/><text fill=\"#000000\" font-family=\"sans-serif\" font-size=\"13\" lengthAdjust=\"spacing\" textLength=\"7\" x=\"124\" y=\"132.0669\">c</text></a></g><!--MD5=[49a84a629964af6365942a0a698d12cc]\n",
       "@startuml\r\n",
       "skin sysmlbw\r\n",
       "skinparam monochrome true\r\n",
       "skinparam wrapWidth 300\r\n",
       "hide circle\r\n",
       "skinparam linetype polyline\r\n",
       "\r\n",
       "package \"TextualRepresentationTest\" as E1  [[psysml:267f3727-84c1-426f-a395-45db3603d5f0 ]]  {\r\n",
       "comp def \"C\" as E2  <<(T,blue) item  def>> [[psysml:61886539-cbef-4e54-b839-069269561211 ]] {\r\n",
       "##//attributes//##\r\n",
       "x: Real\r\n",
       "}\r\n",
       "comp usage \"x_constraint  \" as E3  <<(T,blue) assert constraint>> [[psysml:646d3ab6-4c99-4716-814b-89245cbe5994 ]] {\r\n",
       "}\r\n",
       "comp def \"setX\" as E4  <<(T,blue) action  def>> [[psysml:3b239dd5-995b-4be0-a5de-a49576b20dda ]] {\r\n",
       "}\r\n",
       "}\r\n",
       "E2 *- - E3 [[psysml:17b203e1-cdea-4a97-b803-663e29228052 ]] \r\n",
       "E4 o- - E2 [[psysml:4e0877a7-1493-46cf-81bf-47696701d005 ]] : c\r\n",
       "@enduml\r\n",
       "\n",
       "PlantUML version 1.2022.7(Mon Aug 22 17:01:30 UTC 2022)\n",
       "(EPL source distribution)\n",
       "Java Runtime: OpenJDK Runtime Environment\n",
       "JVM: OpenJDK 64-Bit Server VM\n",
       "Default Encoding: UTF-8\n",
       "Language: en\n",
       "Country: null\n",
       "--></g></svg>"
      ]
     },
     "execution_count": 10,
     "metadata": {},
     "output_type": "execute_result"
    }
   ],
   "source": [
    "%viz --style=\"POLYLINE\" --view=\"Tree\" \"TextualRepresentationTest\""
   ]
  },
  {
   "cell_type": "code",
   "execution_count": 11,
   "id": "45d6b040",
   "metadata": {
    "execution": {
     "iopub.execute_input": "2024-12-16T03:26:55.177315Z",
     "iopub.status.busy": "2024-12-16T03:26:55.177108Z",
     "iopub.status.idle": "2024-12-16T03:26:55.183744Z",
     "shell.execute_reply": "2024-12-16T03:26:55.183536Z"
    }
   },
   "outputs": [
    {
     "data": {
      "image/svg+xml": [
       "<?xml version=\"1.0\" encoding=\"UTF-8\" standalone=\"no\"?><svg xmlns=\"http://www.w3.org/2000/svg\" xmlns:xlink=\"http://www.w3.org/1999/xlink\" contentStyleType=\"text/css\" height=\"10px\" preserveAspectRatio=\"none\" style=\"width:10px;height:10px;background:#FFFFFF;\" version=\"1.1\" viewBox=\"0 0 10 10\" width=\"10px\" zoomAndPan=\"magnify\"><defs/><g><!--MD5=[20bed88d98f2aabbefdc8661420d403d]\n",
       "@startuml\r\n",
       "skin sysmlbw\r\n",
       "skinparam monochrome true\r\n",
       "skinparam wrapWidth 300\r\n",
       "hide circle\r\n",
       "skinparam linetype polyline\r\n",
       "\r\n",
       "@enduml\r\n",
       "\n",
       "PlantUML version 1.2022.7(Mon Aug 22 17:01:30 UTC 2022)\n",
       "(EPL source distribution)\n",
       "Java Runtime: OpenJDK Runtime Environment\n",
       "JVM: OpenJDK 64-Bit Server VM\n",
       "Default Encoding: UTF-8\n",
       "Language: en\n",
       "Country: null\n",
       "--></g></svg>"
      ]
     },
     "execution_count": 11,
     "metadata": {},
     "output_type": "execute_result"
    }
   ],
   "source": [
    "%viz --style=\"POLYLINE\" --view=\"State\" \"TextualRepresentationTest\""
   ]
  },
  {
   "cell_type": "code",
   "execution_count": 12,
   "id": "3d4fd2bd",
   "metadata": {
    "execution": {
     "iopub.execute_input": "2024-12-16T03:26:55.237106Z",
     "iopub.status.busy": "2024-12-16T03:26:55.236885Z",
     "iopub.status.idle": "2024-12-16T03:26:55.254907Z",
     "shell.execute_reply": "2024-12-16T03:26:55.254624Z"
    }
   },
   "outputs": [
    {
     "data": {
      "image/svg+xml": [
       "<?xml version=\"1.0\" encoding=\"UTF-8\" standalone=\"no\"?><svg xmlns=\"http://www.w3.org/2000/svg\" xmlns:xlink=\"http://www.w3.org/1999/xlink\" contentStyleType=\"text/css\" height=\"176px\" preserveAspectRatio=\"none\" style=\"width:287px;height:176px;background:#FFFFFF;\" version=\"1.1\" viewBox=\"0 0 287 176\" width=\"287px\" zoomAndPan=\"magnify\"><defs/><g><!--MD5=[fbc87193dbaf4d95561dea2c320d4a47]\n",
       "cluster E1--><g id=\"cluster_E1\"><a href=\"psysml:267f3727-84c1-426f-a395-45db3603d5f0\" target=\"_top\" title=\"psysml:267f3727-84c1-426f-a395-45db3603d5f0\" xlink:actuate=\"onRequest\" xlink:href=\"psysml:267f3727-84c1-426f-a395-45db3603d5f0\" xlink:show=\"new\" xlink:title=\"psysml:267f3727-84c1-426f-a395-45db3603d5f0\" xlink:type=\"simple\"><polygon fill=\"none\" points=\"16,6,220.9375,6,227.9375,28.2969,270,28.2969,270,169,16,169,16,6\" style=\"stroke:#000000;stroke-width:1.5;\"/><line style=\"stroke:#000000;stroke-width:1.5;\" x1=\"16\" x2=\"227.9375\" y1=\"28.2969\" y2=\"28.2969\"/><text fill=\"#000000\" font-family=\"sans-serif\" font-size=\"14\" font-weight=\"bold\" lengthAdjust=\"spacing\" textLength=\"198.9375\" x=\"20\" y=\"20.9951\">TextualRepresentationTest</text></a></g><!--MD5=[d5e69f78d87373223dbae638b30a9c99]\n",
       "cluster E3--><g id=\"cluster_E3\"><a href=\"psysml:3b239dd5-995b-4be0-a5de-a49576b20dda\" target=\"_top\" title=\"psysml:3b239dd5-995b-4be0-a5de-a49576b20dda\" xlink:actuate=\"onRequest\" xlink:href=\"psysml:3b239dd5-995b-4be0-a5de-a49576b20dda\" xlink:show=\"new\" xlink:title=\"psysml:3b239dd5-995b-4be0-a5de-a49576b20dda\" xlink:type=\"simple\"><rect fill=\"#FFFFFF\" height=\"89.5\" id=\"E3\" style=\"stroke:#383838;stroke-width:1.5;\" width=\"100\" x=\"122.5\" y=\"63.5\"/><text fill=\"#000000\" font-family=\"sans-serif\" font-size=\"12\" font-style=\"italic\" lengthAdjust=\"spacing\" textLength=\"81\" x=\"132\" y=\"79.6387\">«action  def»</text><text fill=\"#000000\" font-family=\"sans-serif\" font-size=\"14\" lengthAdjust=\"spacing\" textLength=\"31\" x=\"157\" y=\"95.4639\">setX</text><line style=\"stroke:#383838;stroke-width:1.0;\" x1=\"122.5\" x2=\"222.5\" y1=\"103.7656\" y2=\"103.7656\"/></a></g><g><a href=\"psysml:61886539-cbef-4e54-b839-069269561211\" target=\"_top\" title=\"psysml:61886539-cbef-4e54-b839-069269561211\" xlink:actuate=\"onRequest\" xlink:href=\"psysml:61886539-cbef-4e54-b839-069269561211\" xlink:show=\"new\" xlink:title=\"psysml:61886539-cbef-4e54-b839-069269561211\" xlink:type=\"simple\"><rect fill=\"#FFFFFF\" height=\"45.2656\" id=\"E2\" style=\"stroke:#383838;stroke-width:1.5;\" width=\"76\" x=\"32\" y=\"41\"/><text fill=\"#000000\" font-family=\"sans-serif\" font-size=\"12\" font-style=\"italic\" lengthAdjust=\"spacing\" textLength=\"69\" x=\"35.5\" y=\"57.1387\">«item  def»</text><text fill=\"#000000\" font-family=\"sans-serif\" font-size=\"14\" lengthAdjust=\"spacing\" textLength=\"10\" x=\"65\" y=\"72.9639\">C</text></a></g><text fill=\"#000000\" font-family=\"sans-serif\" font-size=\"14\" lengthAdjust=\"spacing\" textLength=\"8\" x=\"145\" y=\"42.1982\">c</text><rect fill=\"#FFFFFF\" height=\"12\" style=\"stroke:#181818;stroke-width:1.5;\" width=\"12\" x=\"143\" y=\"57.5\"/><text fill=\"#000000\" font-family=\"sans-serif\" font-size=\"14\" lengthAdjust=\"spacing\" textLength=\"38\" x=\"177\" y=\"42.1982\">newX</text><rect fill=\"#FFFFFF\" height=\"12\" style=\"stroke:#181818;stroke-width:1.5;\" width=\"12\" x=\"190\" y=\"57.5\"/><!--MD5=[5c18e249679be87e96f142e9e6c74aa0]\n",
       "@startuml\r\n",
       "skin sysmlbw\r\n",
       "skinparam monochrome true\r\n",
       "skinparam wrapWidth 300\r\n",
       "hide circle\r\n",
       "skinparam linetype polyline\r\n",
       "skinparam ranksep 10\r\n",
       "skinparam rectangle {\r\n",
       " backgroundColor<<block>> LightGreen\r\n",
       "}\r\n",
       "\r\n",
       "package \"TextualRepresentationTest\" as E1  [[psysml:267f3727-84c1-426f-a395-45db3603d5f0 ]]  {\r\n",
       "def \"C\" as E2  <<(T,blue) item  def>> [[psysml:61886539-cbef-4e54-b839-069269561211 ]] \r\n",
       "rec def \"setX\" as E3  <<(T,blue) action  def>> [[psysml:3b239dd5-995b-4be0-a5de-a49576b20dda ]] {\r\n",
       "portin \"c\" as E4  [[psysml:4e0877a7-1493-46cf-81bf-47696701d005 ]] \r\n",
       "portin \"newX\" as E5  [[psysml:6814382f-4eaa-405a-a959-183965b050e4 ]] \r\n",
       "}\r\n",
       "\r\n",
       "}\r\n",
       "@enduml\r\n",
       "\n",
       "PlantUML version 1.2022.7(Mon Aug 22 17:01:30 UTC 2022)\n",
       "(EPL source distribution)\n",
       "Java Runtime: OpenJDK Runtime Environment\n",
       "JVM: OpenJDK 64-Bit Server VM\n",
       "Default Encoding: UTF-8\n",
       "Language: en\n",
       "Country: null\n",
       "--></g></svg>"
      ]
     },
     "execution_count": 12,
     "metadata": {},
     "output_type": "execute_result"
    }
   ],
   "source": [
    "%viz --style=\"POLYLINE\" --view=\"Interconnection\" \"TextualRepresentationTest\""
   ]
  },
  {
   "cell_type": "code",
   "execution_count": 13,
   "id": "c7701ee7",
   "metadata": {
    "execution": {
     "iopub.execute_input": "2024-12-16T03:26:55.311079Z",
     "iopub.status.busy": "2024-12-16T03:26:55.310838Z",
     "iopub.status.idle": "2024-12-16T03:26:55.325617Z",
     "shell.execute_reply": "2024-12-16T03:26:55.325444Z"
    }
   },
   "outputs": [
    {
     "data": {
      "image/svg+xml": [
       "<?xml version=\"1.0\" encoding=\"UTF-8\" standalone=\"no\"?><svg xmlns=\"http://www.w3.org/2000/svg\" xmlns:xlink=\"http://www.w3.org/1999/xlink\" contentStyleType=\"text/css\" height=\"121px\" preserveAspectRatio=\"none\" style=\"width:148px;height:121px;background:#FFFFFF;\" version=\"1.1\" viewBox=\"0 0 148 121\" width=\"148px\" zoomAndPan=\"magnify\"><defs/><g><!--MD5=[fbc87193dbaf4d95561dea2c320d4a47]\n",
       "cluster E1--><g id=\"cluster_E1\"><a href=\"psysml:3b239dd5-995b-4be0-a5de-a49576b20dda\" target=\"_top\" title=\"psysml:3b239dd5-995b-4be0-a5de-a49576b20dda\" xlink:actuate=\"onRequest\" xlink:href=\"psysml:3b239dd5-995b-4be0-a5de-a49576b20dda\" xlink:show=\"new\" xlink:title=\"psysml:3b239dd5-995b-4be0-a5de-a49576b20dda\" xlink:type=\"simple\"><rect fill=\"#FFFFFF\" height=\"73\" id=\"E1\" style=\"stroke:#383838;stroke-width:1.5;\" width=\"134\" x=\"7\" y=\"42.0986\"/><text fill=\"#000000\" font-family=\"sans-serif\" font-size=\"12\" font-style=\"italic\" lengthAdjust=\"spacing\" textLength=\"81\" x=\"33.5\" y=\"58.2373\">«action  def»</text><text fill=\"#000000\" font-family=\"sans-serif\" font-size=\"14\" lengthAdjust=\"spacing\" textLength=\"31\" x=\"58.5\" y=\"74.0625\">setX</text><line style=\"stroke:#383838;stroke-width:1.0;\" x1=\"7\" x2=\"141\" y1=\"82.3643\" y2=\"82.3643\"/></a></g><text fill=\"#000000\" font-family=\"sans-serif\" font-size=\"14\" lengthAdjust=\"spacing\" textLength=\"8\" x=\"21\" y=\"20.7969\">c</text><rect fill=\"#FFFFFF\" height=\"12\" style=\"stroke:#181818;stroke-width:1.5;\" width=\"12\" x=\"19\" y=\"36.0986\"/><text fill=\"#000000\" font-family=\"sans-serif\" font-size=\"14\" lengthAdjust=\"spacing\" textLength=\"38\" x=\"53\" y=\"20.7969\">newX</text><rect fill=\"#FFFFFF\" height=\"12\" style=\"stroke:#181818;stroke-width:1.5;\" width=\"12\" x=\"66\" y=\"36.0986\"/><!--MD5=[fa40e2b21ddd2d7d1e803a17680d78fa]\n",
       "@startuml\r\n",
       "skin sysmlbw\r\n",
       "skinparam monochrome true\r\n",
       "skinparam wrapWidth 300\r\n",
       "hide circle\r\n",
       "skinparam linetype polyline\r\n",
       "skinparam ranksep 8\r\n",
       "\r\n",
       "rec def \"setX\" as E1  <<(T,blue) action  def>> [[psysml:3b239dd5-995b-4be0-a5de-a49576b20dda ]] {\r\n",
       "portin \"c\" as E2  [[psysml:4e0877a7-1493-46cf-81bf-47696701d005 ]] \r\n",
       "portin \"newX\" as E3  [[psysml:6814382f-4eaa-405a-a959-183965b050e4 ]] \r\n",
       "}\r\n",
       "\r\n",
       "@enduml\r\n",
       "\n",
       "PlantUML version 1.2022.7(Mon Aug 22 17:01:30 UTC 2022)\n",
       "(EPL source distribution)\n",
       "Java Runtime: OpenJDK Runtime Environment\n",
       "JVM: OpenJDK 64-Bit Server VM\n",
       "Default Encoding: UTF-8\n",
       "Language: en\n",
       "Country: null\n",
       "--></g></svg>"
      ]
     },
     "execution_count": 13,
     "metadata": {},
     "output_type": "execute_result"
    }
   ],
   "source": [
    "%viz --style=\"POLYLINE\" --view=\"Action\" \"TextualRepresentationTest\""
   ]
  },
  {
   "cell_type": "code",
   "execution_count": 14,
   "id": "ef915128",
   "metadata": {
    "execution": {
     "iopub.execute_input": "2024-12-16T03:26:55.378418Z",
     "iopub.status.busy": "2024-12-16T03:26:55.378141Z",
     "iopub.status.idle": "2024-12-16T03:26:55.384858Z",
     "shell.execute_reply": "2024-12-16T03:26:55.384589Z"
    }
   },
   "outputs": [
    {
     "data": {
      "image/svg+xml": [
       "<?xml version=\"1.0\" encoding=\"UTF-8\" standalone=\"no\"?><svg xmlns=\"http://www.w3.org/2000/svg\" xmlns:xlink=\"http://www.w3.org/1999/xlink\" contentStyleType=\"text/css\" height=\"10px\" preserveAspectRatio=\"none\" style=\"width:10px;height:10px;background:#FFFFFF;\" version=\"1.1\" viewBox=\"0 0 10 10\" width=\"10px\" zoomAndPan=\"magnify\"><defs/><g><!--MD5=[efefafbf36b45173e0355713d9054f90]\n",
       "@startuml\r\n",
       "skin sysmlbw\r\n",
       "skinparam monochrome true\r\n",
       "skinparam wrapWidth 300\r\n",
       "hide circle\r\n",
       "skinparam linetype polyline\r\n",
       "skinparam roundcorner 20\r\n",
       "skinparam BoxPadding 20\r\n",
       "skinparam SequenceBoxBackgroundColor #white\r\n",
       "skinparam style strictuml\r\n",
       "skinparam maxMessageSize 100\r\n",
       "\r\n",
       "@enduml\r\n",
       "\n",
       "PlantUML version 1.2022.7(Mon Aug 22 17:01:30 UTC 2022)\n",
       "(EPL source distribution)\n",
       "Java Runtime: OpenJDK Runtime Environment\n",
       "JVM: OpenJDK 64-Bit Server VM\n",
       "Default Encoding: UTF-8\n",
       "Language: en\n",
       "Country: null\n",
       "--></g></svg>"
      ]
     },
     "execution_count": 14,
     "metadata": {},
     "output_type": "execute_result"
    }
   ],
   "source": [
    "%viz --style=\"POLYLINE\" --view=\"Sequence\" \"TextualRepresentationTest\""
   ]
  },
  {
   "cell_type": "code",
   "execution_count": 15,
   "id": "7dfd970f",
   "metadata": {
    "execution": {
     "iopub.execute_input": "2024-12-16T03:26:55.441282Z",
     "iopub.status.busy": "2024-12-16T03:26:55.441071Z",
     "iopub.status.idle": "2024-12-16T03:26:55.467716Z",
     "shell.execute_reply": "2024-12-16T03:26:55.467521Z"
    }
   },
   "outputs": [
    {
     "data": {
      "image/svg+xml": [
       "<?xml version=\"1.0\" encoding=\"UTF-8\" standalone=\"no\"?><svg xmlns=\"http://www.w3.org/2000/svg\" xmlns:xlink=\"http://www.w3.org/1999/xlink\" contentStyleType=\"text/css\" height=\"256px\" preserveAspectRatio=\"none\" style=\"width:346px;height:256px;background:#FFFFFF;\" version=\"1.1\" viewBox=\"0 0 346 256\" width=\"346px\" zoomAndPan=\"magnify\"><defs/><g><!--MD5=[fbc87193dbaf4d95561dea2c320d4a47]\n",
       "cluster E1--><g id=\"cluster_E1\"><a href=\"psysml:267f3727-84c1-426f-a395-45db3603d5f0\" target=\"_top\" title=\"psysml:267f3727-84c1-426f-a395-45db3603d5f0\" xlink:actuate=\"onRequest\" xlink:href=\"psysml:267f3727-84c1-426f-a395-45db3603d5f0\" xlink:show=\"new\" xlink:title=\"psysml:267f3727-84c1-426f-a395-45db3603d5f0\" xlink:type=\"simple\"><polygon fill=\"none\" points=\"16,6,220.9375,6,227.9375,28.2969,329,28.2969,329,249.5,16,249.5,16,6\" style=\"stroke:#000000;stroke-width:1.5;\"/><line style=\"stroke:#000000;stroke-width:1.5;\" x1=\"16\" x2=\"227.9375\" y1=\"28.2969\" y2=\"28.2969\"/><text fill=\"#000000\" font-family=\"sans-serif\" font-size=\"14\" font-weight=\"bold\" lengthAdjust=\"spacing\" textLength=\"198.9375\" x=\"20\" y=\"20.9951\">TextualRepresentationTest</text></a></g><!--MD5=[f6df4d0ebaf0b5dfb2ced0ae5af7c670]\n",
       "cluster E4--><g id=\"cluster_E4\"><a href=\"psysml:3b239dd5-995b-4be0-a5de-a49576b20dda\" target=\"_top\" title=\"psysml:3b239dd5-995b-4be0-a5de-a49576b20dda\" xlink:actuate=\"onRequest\" xlink:href=\"psysml:3b239dd5-995b-4be0-a5de-a49576b20dda\" xlink:show=\"new\" xlink:title=\"psysml:3b239dd5-995b-4be0-a5de-a49576b20dda\" xlink:type=\"simple\"><rect fill=\"#FFFFFF\" height=\"155\" id=\"E4\" style=\"stroke:#383838;stroke-width:1.5;\" width=\"134\" x=\"179\" y=\"78.5\"/><text fill=\"#000000\" font-family=\"sans-serif\" font-size=\"12\" font-style=\"italic\" lengthAdjust=\"spacing\" textLength=\"81\" x=\"205.5\" y=\"94.6387\">«action  def»</text><text fill=\"#000000\" font-family=\"sans-serif\" font-size=\"14\" lengthAdjust=\"spacing\" textLength=\"31\" x=\"230.5\" y=\"110.4639\">setX</text><line style=\"stroke:#383838;stroke-width:1.0;\" x1=\"179\" x2=\"313\" y1=\"118.7656\" y2=\"118.7656\"/></a></g><!--MD5=[b4997ac47864f28c2f74865a473b2911]\n",
       "class E2--><a href=\"psysml:61886539-cbef-4e54-b839-069269561211\" target=\"_top\" title=\"psysml:61886539-cbef-4e54-b839-069269561211\" xlink:actuate=\"onRequest\" xlink:href=\"psysml:61886539-cbef-4e54-b839-069269561211\" xlink:show=\"new\" xlink:title=\"psysml:61886539-cbef-4e54-b839-069269561211\" xlink:type=\"simple\"><g id=\"elem_E2\"><rect fill=\"#FFFFFF\" height=\"75.0813\" id=\"E2\" style=\"stroke:#181818;stroke-width:0.5;\" width=\"74\" x=\"57\" y=\"41\"/><text fill=\"#000000\" font-family=\"sans-serif\" font-size=\"12\" font-style=\"italic\" lengthAdjust=\"spacing\" textLength=\"69\" x=\"59.5\" y=\"57.1387\">«item  def»</text><text fill=\"#000000\" font-family=\"sans-serif\" font-size=\"14\" lengthAdjust=\"spacing\" textLength=\"10\" x=\"89\" y=\"72.9639\">C</text><line style=\"stroke:#181818;stroke-width:0.5;\" x1=\"58\" x2=\"130\" y1=\"81.2656\" y2=\"81.2656\"/><text fill=\"#000000\" font-family=\"sans-serif\" font-size=\"14\" lengthAdjust=\"spacing\" textLength=\"46\" x=\"63\" y=\"108.7795\">x: Real</text><text fill=\"#000000\" font-family=\"sans-serif\" font-size=\"14\" font-style=\"italic\" lengthAdjust=\"spacing\" textLength=\"66\" x=\"61\" y=\"93.6123\">attributes</text></g></a><!--MD5=[09b614a08d8cba4a07c9adeb5e0fee81]\n",
       "class E3--><a href=\"psysml:646d3ab6-4c99-4716-814b-89245cbe5994\" target=\"_top\" title=\"psysml:646d3ab6-4c99-4716-814b-89245cbe5994\" xlink:actuate=\"onRequest\" xlink:href=\"psysml:646d3ab6-4c99-4716-814b-89245cbe5994\" xlink:show=\"new\" xlink:title=\"psysml:646d3ab6-4c99-4716-814b-89245cbe5994\" xlink:type=\"simple\"><g id=\"elem_E3\"><rect fill=\"#FFFFFF\" height=\"48.2656\" id=\"E3\" rx=\"10\" ry=\"10\" style=\"stroke:#181818;stroke-width:0.5;\" width=\"124\" x=\"32\" y=\"176\"/><text fill=\"#000000\" font-family=\"sans-serif\" font-size=\"12\" font-style=\"italic\" lengthAdjust=\"spacing\" textLength=\"122\" x=\"33\" y=\"192.1387\">«assert constraint»</text><text fill=\"#000000\" font-family=\"sans-serif\" font-size=\"14\" lengthAdjust=\"spacing\" textLength=\"83\" x=\"48.5\" y=\"207.9639\">x_constraint</text><line style=\"stroke:#181818;stroke-width:0.5;\" x1=\"33\" x2=\"155\" y1=\"216.2656\" y2=\"216.2656\"/></g></a><text fill=\"#000000\" font-family=\"sans-serif\" font-size=\"14\" lengthAdjust=\"spacing\" textLength=\"8\" x=\"193\" y=\"57.1982\">c</text><rect fill=\"#FFFFFF\" height=\"12\" style=\"stroke:#181818;stroke-width:1.5;\" width=\"12\" x=\"191\" y=\"72.5\"/><text fill=\"#000000\" font-family=\"sans-serif\" font-size=\"14\" lengthAdjust=\"spacing\" textLength=\"38\" x=\"225\" y=\"57.1982\">newX</text><rect fill=\"#FFFFFF\" height=\"12\" style=\"stroke:#181818;stroke-width:1.5;\" width=\"12\" x=\"238\" y=\"72.5\"/><!--MD5=[209b3feb70ccb6233bfe1053d122c12c]\n",
       "reverse link E2 to E3--><g id=\"link_E2_E3\"><a href=\"psysml:17b203e1-cdea-4a97-b803-663e29228052\" target=\"_top\" title=\"psysml:17b203e1-cdea-4a97-b803-663e29228052\" xlink:actuate=\"onRequest\" xlink:href=\"psysml:17b203e1-cdea-4a97-b803-663e29228052\" xlink:show=\"new\" xlink:title=\"psysml:17b203e1-cdea-4a97-b803-663e29228052\" xlink:type=\"simple\"><path d=\"M94,129.25 C94,145.43 94,162.61 94,175.88 \" fill=\"none\" id=\"E2-backto-E3\" style=\"stroke:#181818;stroke-width:1.0;\"/><polygon fill=\"#181818\" points=\"94,116,90,122,94,128,98,122,94,116\" style=\"stroke:#181818;stroke-width:1.0;\"/></a></g><!--MD5=[dbe38dc6bc37c5f861f50d560685b777]\n",
       "@startuml\r\n",
       "skin sysmlbw\r\n",
       "skinparam monochrome true\r\n",
       "skinparam wrapWidth 300\r\n",
       "hide circle\r\n",
       "skinparam linetype polyline\r\n",
       "\r\n",
       "package \"TextualRepresentationTest\" as E1  [[psysml:267f3727-84c1-426f-a395-45db3603d5f0 ]]  {\r\n",
       "comp def \"C\" as E2  <<(T,blue) item  def>> [[psysml:61886539-cbef-4e54-b839-069269561211 ]] {\r\n",
       "##//attributes//##\r\n",
       "x: Real\r\n",
       "}\r\n",
       "comp usage \"x_constraint  \" as E3  <<(T,blue) assert constraint>> [[psysml:646d3ab6-4c99-4716-814b-89245cbe5994 ]] {\r\n",
       "}\r\n",
       "rec def \"setX\" as E4  <<(T,blue) action  def>> [[psysml:3b239dd5-995b-4be0-a5de-a49576b20dda ]] {\r\n",
       "portin \"c\" as E5  [[psysml:4e0877a7-1493-46cf-81bf-47696701d005 ]] \r\n",
       "portin \"newX\" as E6  [[psysml:6814382f-4eaa-405a-a959-183965b050e4 ]] \r\n",
       "}\r\n",
       "\r\n",
       "}\r\n",
       "E2 *- - E3 [[psysml:17b203e1-cdea-4a97-b803-663e29228052 ]] \r\n",
       "@enduml\r\n",
       "\n",
       "PlantUML version 1.2022.7(Mon Aug 22 17:01:30 UTC 2022)\n",
       "(EPL source distribution)\n",
       "Java Runtime: OpenJDK Runtime Environment\n",
       "JVM: OpenJDK 64-Bit Server VM\n",
       "Default Encoding: UTF-8\n",
       "Language: en\n",
       "Country: null\n",
       "--></g></svg>"
      ]
     },
     "execution_count": 15,
     "metadata": {},
     "output_type": "execute_result"
    }
   ],
   "source": [
    "%viz --style=\"POLYLINE\" --view=\"MIXED\" \"TextualRepresentationTest\""
   ]
  },
  {
   "cell_type": "code",
   "execution_count": 16,
   "id": "527d52b3",
   "metadata": {
    "execution": {
     "iopub.execute_input": "2024-12-16T03:26:55.521420Z",
     "iopub.status.busy": "2024-12-16T03:26:55.521156Z",
     "iopub.status.idle": "2024-12-16T03:26:55.545672Z",
     "shell.execute_reply": "2024-12-16T03:26:55.545479Z"
    }
   },
   "outputs": [
    {
     "data": {
      "image/svg+xml": [
       "<?xml version=\"1.0\" encoding=\"UTF-8\" standalone=\"no\"?><svg xmlns=\"http://www.w3.org/2000/svg\" xmlns:xlink=\"http://www.w3.org/1999/xlink\" contentStyleType=\"text/css\" height=\"241px\" preserveAspectRatio=\"none\" style=\"width:330px;height:241px;background:#FFFFFF;\" version=\"1.1\" viewBox=\"0 0 330 241\" width=\"330px\" zoomAndPan=\"magnify\"><defs/><g><!--MD5=[fbc87193dbaf4d95561dea2c320d4a47]\n",
       "cluster E1--><g id=\"cluster_E1\"><a href=\"psysml:267f3727-84c1-426f-a395-45db3603d5f0\" target=\"_top\" title=\"psysml:267f3727-84c1-426f-a395-45db3603d5f0\" xlink:actuate=\"onRequest\" xlink:href=\"psysml:267f3727-84c1-426f-a395-45db3603d5f0\" xlink:show=\"new\" xlink:title=\"psysml:267f3727-84c1-426f-a395-45db3603d5f0\" xlink:type=\"simple\"><polygon fill=\"none\" points=\"16,6,220.9375,6,227.9375,28.2969,313,28.2969,313,234,16,234,16,6\" style=\"stroke:#000000;stroke-width:1.5;\"/><line style=\"stroke:#000000;stroke-width:1.5;\" x1=\"16\" x2=\"227.9375\" y1=\"28.2969\" y2=\"28.2969\"/><text fill=\"#000000\" font-family=\"sans-serif\" font-size=\"14\" font-weight=\"bold\" lengthAdjust=\"spacing\" textLength=\"198.9375\" x=\"20\" y=\"20.9951\">TextualRepresentationTest</text></a></g><!--MD5=[f6df4d0ebaf0b5dfb2ced0ae5af7c670]\n",
       "cluster E4--><g id=\"cluster_E4\"><a href=\"psysml:3b239dd5-995b-4be0-a5de-a49576b20dda\" target=\"_top\" title=\"psysml:3b239dd5-995b-4be0-a5de-a49576b20dda\" xlink:actuate=\"onRequest\" xlink:href=\"psysml:3b239dd5-995b-4be0-a5de-a49576b20dda\" xlink:show=\"new\" xlink:title=\"psysml:3b239dd5-995b-4be0-a5de-a49576b20dda\" xlink:type=\"simple\"><rect fill=\"#FFFFFF\" height=\"47\" id=\"E4\" style=\"stroke:#383838;stroke-width:1.5;\" width=\"246\" x=\"51\" y=\"55\"/><text fill=\"#000000\" font-family=\"sans-serif\" font-size=\"12\" font-style=\"italic\" lengthAdjust=\"spacing\" textLength=\"81\" x=\"133.5\" y=\"71.1387\">«action  def»</text><text fill=\"#000000\" font-family=\"sans-serif\" font-size=\"14\" lengthAdjust=\"spacing\" textLength=\"31\" x=\"158.5\" y=\"86.9639\">setX</text><line style=\"stroke:#383838;stroke-width:1.0;\" x1=\"51\" x2=\"297\" y1=\"95.2656\" y2=\"95.2656\"/></a></g><!--MD5=[b4997ac47864f28c2f74865a473b2911]\n",
       "class E2--><a href=\"psysml:61886539-cbef-4e54-b839-069269561211\" target=\"_top\" title=\"psysml:61886539-cbef-4e54-b839-069269561211\" xlink:actuate=\"onRequest\" xlink:href=\"psysml:61886539-cbef-4e54-b839-069269561211\" xlink:show=\"new\" xlink:title=\"psysml:61886539-cbef-4e54-b839-069269561211\" xlink:type=\"simple\"><g id=\"elem_E2\"><rect fill=\"#FFFFFF\" height=\"75.0813\" id=\"E2\" style=\"stroke:#181818;stroke-width:0.5;\" width=\"74\" x=\"32\" y=\"143.5\"/><text fill=\"#000000\" font-family=\"sans-serif\" font-size=\"12\" font-style=\"italic\" lengthAdjust=\"spacing\" textLength=\"69\" x=\"34.5\" y=\"159.6387\">«item  def»</text><text fill=\"#000000\" font-family=\"sans-serif\" font-size=\"14\" lengthAdjust=\"spacing\" textLength=\"10\" x=\"64\" y=\"175.4639\">C</text><line style=\"stroke:#181818;stroke-width:0.5;\" x1=\"33\" x2=\"105\" y1=\"183.7656\" y2=\"183.7656\"/><text fill=\"#000000\" font-family=\"sans-serif\" font-size=\"14\" lengthAdjust=\"spacing\" textLength=\"46\" x=\"38\" y=\"211.2795\">x: Real</text><text fill=\"#000000\" font-family=\"sans-serif\" font-size=\"14\" font-style=\"italic\" lengthAdjust=\"spacing\" textLength=\"66\" x=\"36\" y=\"196.1123\">attributes</text></g></a><!--MD5=[09b614a08d8cba4a07c9adeb5e0fee81]\n",
       "class E3--><a href=\"psysml:646d3ab6-4c99-4716-814b-89245cbe5994\" target=\"_top\" title=\"psysml:646d3ab6-4c99-4716-814b-89245cbe5994\" xlink:actuate=\"onRequest\" xlink:href=\"psysml:646d3ab6-4c99-4716-814b-89245cbe5994\" xlink:show=\"new\" xlink:title=\"psysml:646d3ab6-4c99-4716-814b-89245cbe5994\" xlink:type=\"simple\"><g id=\"elem_E3\"><rect fill=\"#FFFFFF\" height=\"48.2656\" id=\"E3\" rx=\"10\" ry=\"10\" style=\"stroke:#181818;stroke-width:0.5;\" width=\"124\" x=\"166\" y=\"157\"/><text fill=\"#000000\" font-family=\"sans-serif\" font-size=\"12\" font-style=\"italic\" lengthAdjust=\"spacing\" textLength=\"122\" x=\"167\" y=\"173.1387\">«assert constraint»</text><text fill=\"#000000\" font-family=\"sans-serif\" font-size=\"14\" lengthAdjust=\"spacing\" textLength=\"83\" x=\"182.5\" y=\"188.9639\">x_constraint</text><line style=\"stroke:#181818;stroke-width:0.5;\" x1=\"167\" x2=\"289\" y1=\"197.2656\" y2=\"197.2656\"/></g></a><text fill=\"#000000\" font-family=\"sans-serif\" font-size=\"14\" lengthAdjust=\"spacing\" textLength=\"8\" x=\"65\" y=\"120.9951\">c</text><rect fill=\"#FFFFFF\" height=\"12\" style=\"stroke:#181818;stroke-width:1.5;\" width=\"12\" x=\"63\" y=\"96\"/><text fill=\"#000000\" font-family=\"sans-serif\" font-size=\"14\" lengthAdjust=\"spacing\" textLength=\"38\" x=\"50\" y=\"33.6982\">newX</text><rect fill=\"#FFFFFF\" height=\"12\" style=\"stroke:#181818;stroke-width:1.5;\" width=\"12\" x=\"63\" y=\"49\"/><!--MD5=[209b3feb70ccb6233bfe1053d122c12c]\n",
       "reverse link E2 to E3--><g id=\"link_E2_E3\"><a href=\"psysml:17b203e1-cdea-4a97-b803-663e29228052\" target=\"_top\" title=\"psysml:17b203e1-cdea-4a97-b803-663e29228052\" xlink:actuate=\"onRequest\" xlink:href=\"psysml:17b203e1-cdea-4a97-b803-663e29228052\" xlink:show=\"new\" xlink:title=\"psysml:17b203e1-cdea-4a97-b803-663e29228052\" xlink:type=\"simple\"><path d=\"M119.1,181 C133.93,181 150.4,181 165.91,181 \" fill=\"none\" id=\"E2-backto-E3\" style=\"stroke:#181818;stroke-width:1.0;\"/><polygon fill=\"#181818\" points=\"106.02,181,112.02,185,118.02,181,112.02,177,106.02,181\" style=\"stroke:#181818;stroke-width:1.0;\"/></a></g><!--MD5=[5578b4bca242e27ddd48d06e49401b72]\n",
       "@startuml\r\n",
       "skin sysmlbw\r\n",
       "skinparam monochrome true\r\n",
       "skinparam wrapWidth 300\r\n",
       "hide circle\r\n",
       "left to right direction\r\n",
       "\r\n",
       "package \"TextualRepresentationTest\" as E1  [[psysml:267f3727-84c1-426f-a395-45db3603d5f0 ]]  {\r\n",
       "comp def \"C\" as E2  <<(T,blue) item  def>> [[psysml:61886539-cbef-4e54-b839-069269561211 ]] {\r\n",
       "##//attributes//##\r\n",
       "x: Real\r\n",
       "}\r\n",
       "comp usage \"x_constraint  \" as E3  <<(T,blue) assert constraint>> [[psysml:646d3ab6-4c99-4716-814b-89245cbe5994 ]] {\r\n",
       "}\r\n",
       "rec def \"setX\" as E4  <<(T,blue) action  def>> [[psysml:3b239dd5-995b-4be0-a5de-a49576b20dda ]] {\r\n",
       "portin \"c\" as E5  [[psysml:4e0877a7-1493-46cf-81bf-47696701d005 ]] \r\n",
       "portin \"newX\" as E6  [[psysml:6814382f-4eaa-405a-a959-183965b050e4 ]] \r\n",
       "}\r\n",
       "\r\n",
       "}\r\n",
       "E2 *- - E3 [[psysml:17b203e1-cdea-4a97-b803-663e29228052 ]] \r\n",
       "@enduml\r\n",
       "\n",
       "PlantUML version 1.2022.7(Mon Aug 22 17:01:30 UTC 2022)\n",
       "(EPL source distribution)\n",
       "Java Runtime: OpenJDK Runtime Environment\n",
       "JVM: OpenJDK 64-Bit Server VM\n",
       "Default Encoding: UTF-8\n",
       "Language: en\n",
       "Country: null\n",
       "--></g></svg>"
      ]
     },
     "execution_count": 16,
     "metadata": {},
     "output_type": "execute_result"
    }
   ],
   "source": [
    "%viz --style=\"LR\" --view=\"Default\" \"TextualRepresentationTest\""
   ]
  },
  {
   "cell_type": "code",
   "execution_count": 17,
   "id": "52465737",
   "metadata": {
    "execution": {
     "iopub.execute_input": "2024-12-16T03:26:55.601945Z",
     "iopub.status.busy": "2024-12-16T03:26:55.601705Z",
     "iopub.status.idle": "2024-12-16T03:26:55.623091Z",
     "shell.execute_reply": "2024-12-16T03:26:55.622911Z"
    }
   },
   "outputs": [
    {
     "data": {
      "image/svg+xml": [
       "<?xml version=\"1.0\" encoding=\"UTF-8\" standalone=\"no\"?><svg xmlns=\"http://www.w3.org/2000/svg\" xmlns:xlink=\"http://www.w3.org/1999/xlink\" contentStyleType=\"text/css\" height=\"138px\" preserveAspectRatio=\"none\" style=\"width:476px;height:138px;background:#FFFFFF;\" version=\"1.1\" viewBox=\"0 0 476 138\" width=\"476px\" zoomAndPan=\"magnify\"><defs/><g><!--MD5=[fbc87193dbaf4d95561dea2c320d4a47]\n",
       "cluster E1--><g id=\"cluster_E1\"><a href=\"psysml:267f3727-84c1-426f-a395-45db3603d5f0\" target=\"_top\" title=\"psysml:267f3727-84c1-426f-a395-45db3603d5f0\" xlink:actuate=\"onRequest\" xlink:href=\"psysml:267f3727-84c1-426f-a395-45db3603d5f0\" xlink:show=\"new\" xlink:title=\"psysml:267f3727-84c1-426f-a395-45db3603d5f0\" xlink:type=\"simple\"><polygon fill=\"none\" points=\"16,6,220.9375,6,227.9375,28.2969,459,28.2969,459,131,16,131,16,6\" style=\"stroke:#000000;stroke-width:1.5;\"/><line style=\"stroke:#000000;stroke-width:1.5;\" x1=\"16\" x2=\"227.9375\" y1=\"28.2969\" y2=\"28.2969\"/><text fill=\"#000000\" font-family=\"sans-serif\" font-size=\"14\" font-weight=\"bold\" lengthAdjust=\"spacing\" textLength=\"198.9375\" x=\"20\" y=\"20.9951\">TextualRepresentationTest</text></a></g><!--MD5=[b4997ac47864f28c2f74865a473b2911]\n",
       "class E2--><a href=\"psysml:61886539-cbef-4e54-b839-069269561211\" target=\"_top\" title=\"psysml:61886539-cbef-4e54-b839-069269561211\" xlink:actuate=\"onRequest\" xlink:href=\"psysml:61886539-cbef-4e54-b839-069269561211\" xlink:show=\"new\" xlink:title=\"psysml:61886539-cbef-4e54-b839-069269561211\" xlink:type=\"simple\"><g id=\"elem_E2\"><rect fill=\"#FFFFFF\" height=\"75.0813\" id=\"E2\" style=\"stroke:#181818;stroke-width:0.5;\" width=\"74\" x=\"184\" y=\"40.5\"/><text fill=\"#000000\" font-family=\"sans-serif\" font-size=\"12\" font-style=\"italic\" lengthAdjust=\"spacing\" textLength=\"69\" x=\"186.5\" y=\"56.6387\">«item  def»</text><text fill=\"#000000\" font-family=\"sans-serif\" font-size=\"14\" lengthAdjust=\"spacing\" textLength=\"10\" x=\"216\" y=\"72.4639\">C</text><line style=\"stroke:#181818;stroke-width:0.5;\" x1=\"185\" x2=\"257\" y1=\"80.7656\" y2=\"80.7656\"/><text fill=\"#000000\" font-family=\"sans-serif\" font-size=\"14\" lengthAdjust=\"spacing\" textLength=\"46\" x=\"190\" y=\"108.2795\">x: Real</text><text fill=\"#000000\" font-family=\"sans-serif\" font-size=\"14\" font-style=\"italic\" lengthAdjust=\"spacing\" textLength=\"66\" x=\"188\" y=\"93.1123\">attributes</text></g></a><!--MD5=[09b614a08d8cba4a07c9adeb5e0fee81]\n",
       "class E3--><a href=\"psysml:646d3ab6-4c99-4716-814b-89245cbe5994\" target=\"_top\" title=\"psysml:646d3ab6-4c99-4716-814b-89245cbe5994\" xlink:actuate=\"onRequest\" xlink:href=\"psysml:646d3ab6-4c99-4716-814b-89245cbe5994\" xlink:show=\"new\" xlink:title=\"psysml:646d3ab6-4c99-4716-814b-89245cbe5994\" xlink:type=\"simple\"><g id=\"elem_E3\"><rect fill=\"#FFFFFF\" height=\"48.2656\" id=\"E3\" rx=\"10\" ry=\"10\" style=\"stroke:#181818;stroke-width:0.5;\" width=\"124\" x=\"319\" y=\"54\"/><text fill=\"#000000\" font-family=\"sans-serif\" font-size=\"12\" font-style=\"italic\" lengthAdjust=\"spacing\" textLength=\"122\" x=\"320\" y=\"70.1387\">«assert constraint»</text><text fill=\"#000000\" font-family=\"sans-serif\" font-size=\"14\" lengthAdjust=\"spacing\" textLength=\"83\" x=\"335.5\" y=\"85.9639\">x_constraint</text><line style=\"stroke:#181818;stroke-width:0.5;\" x1=\"320\" x2=\"442\" y1=\"94.2656\" y2=\"94.2656\"/></g></a><!--MD5=[ebbe1d658d1005bcc118a6aa81145e00]\n",
       "class E4--><a href=\"psysml:3b239dd5-995b-4be0-a5de-a49576b20dda\" target=\"_top\" title=\"psysml:3b239dd5-995b-4be0-a5de-a49576b20dda\" xlink:actuate=\"onRequest\" xlink:href=\"psysml:3b239dd5-995b-4be0-a5de-a49576b20dda\" xlink:show=\"new\" xlink:title=\"psysml:3b239dd5-995b-4be0-a5de-a49576b20dda\" xlink:type=\"simple\"><g id=\"elem_E4\"><rect fill=\"#FFFFFF\" height=\"48.2656\" id=\"E4\" style=\"stroke:#181818;stroke-width:0.5;\" width=\"83\" x=\"32\" y=\"54\"/><text fill=\"#000000\" font-family=\"sans-serif\" font-size=\"12\" font-style=\"italic\" lengthAdjust=\"spacing\" textLength=\"81\" x=\"33\" y=\"70.1387\">«action  def»</text><text fill=\"#000000\" font-family=\"sans-serif\" font-size=\"14\" lengthAdjust=\"spacing\" textLength=\"31\" x=\"58\" y=\"85.9639\">setX</text><line style=\"stroke:#181818;stroke-width:0.5;\" x1=\"33\" x2=\"114\" y1=\"94.2656\" y2=\"94.2656\"/></g></a><!--MD5=[209b3feb70ccb6233bfe1053d122c12c]\n",
       "reverse link E2 to E3--><g id=\"link_E2_E3\"><a href=\"psysml:17b203e1-cdea-4a97-b803-663e29228052\" target=\"_top\" title=\"psysml:17b203e1-cdea-4a97-b803-663e29228052\" xlink:actuate=\"onRequest\" xlink:href=\"psysml:17b203e1-cdea-4a97-b803-663e29228052\" xlink:show=\"new\" xlink:title=\"psysml:17b203e1-cdea-4a97-b803-663e29228052\" xlink:type=\"simple\"><path d=\"M271.49,78 C286.49,78 303.16,78 318.83,78 \" fill=\"none\" id=\"E2-backto-E3\" style=\"stroke:#181818;stroke-width:1.0;\"/><polygon fill=\"#181818\" points=\"258.25,78,264.25,82,270.25,78,264.25,74,258.25,78\" style=\"stroke:#181818;stroke-width:1.0;\"/></a></g><!--MD5=[ddeed8deb2209213b62e6cfabaa108b2]\n",
       "reverse link E4 to E2--><g id=\"link_E4_E2\"><a href=\"psysml:4e0877a7-1493-46cf-81bf-47696701d005\" target=\"_top\" title=\"psysml:4e0877a7-1493-46cf-81bf-47696701d005\" xlink:actuate=\"onRequest\" xlink:href=\"psysml:4e0877a7-1493-46cf-81bf-47696701d005\" xlink:show=\"new\" xlink:title=\"psysml:4e0877a7-1493-46cf-81bf-47696701d005\" xlink:type=\"simple\"><path d=\"M128.11,78 C146.6,78 166.87,78 183.66,78 \" fill=\"none\" id=\"E4-backto-E2\" style=\"stroke:#181818;stroke-width:1.0;\"/><polygon fill=\"none\" points=\"115.03,78,121.03,82,127.03,78,121.03,74,115.03,78\" style=\"stroke:#181818;stroke-width:1.0;\"/><text fill=\"#000000\" font-family=\"sans-serif\" font-size=\"13\" lengthAdjust=\"spacing\" textLength=\"7\" x=\"146\" y=\"74.0669\">c</text></a></g><!--MD5=[851bb990b387a424f6d05c317fca8ff4]\n",
       "@startuml\r\n",
       "skin sysmlbw\r\n",
       "skinparam monochrome true\r\n",
       "skinparam wrapWidth 300\r\n",
       "hide circle\r\n",
       "left to right direction\r\n",
       "\r\n",
       "package \"TextualRepresentationTest\" as E1  [[psysml:267f3727-84c1-426f-a395-45db3603d5f0 ]]  {\r\n",
       "comp def \"C\" as E2  <<(T,blue) item  def>> [[psysml:61886539-cbef-4e54-b839-069269561211 ]] {\r\n",
       "##//attributes//##\r\n",
       "x: Real\r\n",
       "}\r\n",
       "comp usage \"x_constraint  \" as E3  <<(T,blue) assert constraint>> [[psysml:646d3ab6-4c99-4716-814b-89245cbe5994 ]] {\r\n",
       "}\r\n",
       "comp def \"setX\" as E4  <<(T,blue) action  def>> [[psysml:3b239dd5-995b-4be0-a5de-a49576b20dda ]] {\r\n",
       "}\r\n",
       "}\r\n",
       "E2 *- - E3 [[psysml:17b203e1-cdea-4a97-b803-663e29228052 ]] \r\n",
       "E4 o- - E2 [[psysml:4e0877a7-1493-46cf-81bf-47696701d005 ]] : c\r\n",
       "@enduml\r\n",
       "\n",
       "PlantUML version 1.2022.7(Mon Aug 22 17:01:30 UTC 2022)\n",
       "(EPL source distribution)\n",
       "Java Runtime: OpenJDK Runtime Environment\n",
       "JVM: OpenJDK 64-Bit Server VM\n",
       "Default Encoding: UTF-8\n",
       "Language: en\n",
       "Country: null\n",
       "--></g></svg>"
      ]
     },
     "execution_count": 17,
     "metadata": {},
     "output_type": "execute_result"
    }
   ],
   "source": [
    "%viz --style=\"LR\" --view=\"Tree\" \"TextualRepresentationTest\""
   ]
  },
  {
   "cell_type": "code",
   "execution_count": 18,
   "id": "9e456423",
   "metadata": {
    "execution": {
     "iopub.execute_input": "2024-12-16T03:26:55.674233Z",
     "iopub.status.busy": "2024-12-16T03:26:55.673984Z",
     "iopub.status.idle": "2024-12-16T03:26:55.680219Z",
     "shell.execute_reply": "2024-12-16T03:26:55.680022Z"
    }
   },
   "outputs": [
    {
     "data": {
      "image/svg+xml": [
       "<?xml version=\"1.0\" encoding=\"UTF-8\" standalone=\"no\"?><svg xmlns=\"http://www.w3.org/2000/svg\" xmlns:xlink=\"http://www.w3.org/1999/xlink\" contentStyleType=\"text/css\" height=\"10px\" preserveAspectRatio=\"none\" style=\"width:10px;height:10px;background:#FFFFFF;\" version=\"1.1\" viewBox=\"0 0 10 10\" width=\"10px\" zoomAndPan=\"magnify\"><defs/><g><!--MD5=[fb420fbd7a91d32138f4344b927a323c]\n",
       "@startuml\r\n",
       "skin sysmlbw\r\n",
       "skinparam monochrome true\r\n",
       "skinparam wrapWidth 300\r\n",
       "hide circle\r\n",
       "left to right direction\r\n",
       "\r\n",
       "@enduml\r\n",
       "\n",
       "PlantUML version 1.2022.7(Mon Aug 22 17:01:30 UTC 2022)\n",
       "(EPL source distribution)\n",
       "Java Runtime: OpenJDK Runtime Environment\n",
       "JVM: OpenJDK 64-Bit Server VM\n",
       "Default Encoding: UTF-8\n",
       "Language: en\n",
       "Country: null\n",
       "--></g></svg>"
      ]
     },
     "execution_count": 18,
     "metadata": {},
     "output_type": "execute_result"
    }
   ],
   "source": [
    "%viz --style=\"LR\" --view=\"State\" \"TextualRepresentationTest\""
   ]
  },
  {
   "cell_type": "code",
   "execution_count": 19,
   "id": "578cae7e",
   "metadata": {
    "execution": {
     "iopub.execute_input": "2024-12-16T03:26:55.733295Z",
     "iopub.status.busy": "2024-12-16T03:26:55.733082Z",
     "iopub.status.idle": "2024-12-16T03:26:55.747350Z",
     "shell.execute_reply": "2024-12-16T03:26:55.747156Z"
    }
   },
   "outputs": [
    {
     "data": {
      "image/svg+xml": [
       "<?xml version=\"1.0\" encoding=\"UTF-8\" standalone=\"no\"?><svg xmlns=\"http://www.w3.org/2000/svg\" xmlns:xlink=\"http://www.w3.org/1999/xlink\" contentStyleType=\"text/css\" height=\"212px\" preserveAspectRatio=\"none\" style=\"width:279px;height:212px;background:#FFFFFF;\" version=\"1.1\" viewBox=\"0 0 279 212\" width=\"279px\" zoomAndPan=\"magnify\"><defs/><g><!--MD5=[fbc87193dbaf4d95561dea2c320d4a47]\n",
       "cluster E1--><g id=\"cluster_E1\"><a href=\"psysml:267f3727-84c1-426f-a395-45db3603d5f0\" target=\"_top\" title=\"psysml:267f3727-84c1-426f-a395-45db3603d5f0\" xlink:actuate=\"onRequest\" xlink:href=\"psysml:267f3727-84c1-426f-a395-45db3603d5f0\" xlink:show=\"new\" xlink:title=\"psysml:267f3727-84c1-426f-a395-45db3603d5f0\" xlink:type=\"simple\"><polygon fill=\"none\" points=\"16,6,220.9375,6,227.9375,28.2969,262,28.2969,262,205,16,205,16,6\" style=\"stroke:#000000;stroke-width:1.5;\"/><line style=\"stroke:#000000;stroke-width:1.5;\" x1=\"16\" x2=\"227.9375\" y1=\"28.2969\" y2=\"28.2969\"/><text fill=\"#000000\" font-family=\"sans-serif\" font-size=\"14\" font-weight=\"bold\" lengthAdjust=\"spacing\" textLength=\"198.9375\" x=\"20\" y=\"20.9951\">TextualRepresentationTest</text></a></g><!--MD5=[d5e69f78d87373223dbae638b30a9c99]\n",
       "cluster E3--><g id=\"cluster_E3\"><a href=\"psysml:3b239dd5-995b-4be0-a5de-a49576b20dda\" target=\"_top\" title=\"psysml:3b239dd5-995b-4be0-a5de-a49576b20dda\" xlink:actuate=\"onRequest\" xlink:href=\"psysml:3b239dd5-995b-4be0-a5de-a49576b20dda\" xlink:show=\"new\" xlink:title=\"psysml:3b239dd5-995b-4be0-a5de-a49576b20dda\" xlink:type=\"simple\"><rect fill=\"#FFFFFF\" height=\"47\" id=\"E3\" style=\"stroke:#383838;stroke-width:1.5;\" width=\"194\" x=\"52\" y=\"55\"/><text fill=\"#000000\" font-family=\"sans-serif\" font-size=\"12\" font-style=\"italic\" lengthAdjust=\"spacing\" textLength=\"81\" x=\"108.5\" y=\"71.1387\">«action  def»</text><text fill=\"#000000\" font-family=\"sans-serif\" font-size=\"14\" lengthAdjust=\"spacing\" textLength=\"31\" x=\"133.5\" y=\"86.9639\">setX</text><line style=\"stroke:#383838;stroke-width:1.0;\" x1=\"52\" x2=\"246\" y1=\"95.2656\" y2=\"95.2656\"/></a></g><g><a href=\"psysml:61886539-cbef-4e54-b839-069269561211\" target=\"_top\" title=\"psysml:61886539-cbef-4e54-b839-069269561211\" xlink:actuate=\"onRequest\" xlink:href=\"psysml:61886539-cbef-4e54-b839-069269561211\" xlink:show=\"new\" xlink:title=\"psysml:61886539-cbef-4e54-b839-069269561211\" xlink:type=\"simple\"><rect fill=\"#FFFFFF\" height=\"45.2656\" id=\"E2\" style=\"stroke:#383838;stroke-width:1.5;\" width=\"76\" x=\"32\" y=\"143.5\"/><text fill=\"#000000\" font-family=\"sans-serif\" font-size=\"12\" font-style=\"italic\" lengthAdjust=\"spacing\" textLength=\"69\" x=\"35.5\" y=\"159.6387\">«item  def»</text><text fill=\"#000000\" font-family=\"sans-serif\" font-size=\"14\" lengthAdjust=\"spacing\" textLength=\"10\" x=\"65\" y=\"175.4639\">C</text></a></g><text fill=\"#000000\" font-family=\"sans-serif\" font-size=\"14\" lengthAdjust=\"spacing\" textLength=\"8\" x=\"66\" y=\"120.9951\">c</text><rect fill=\"#FFFFFF\" height=\"12\" style=\"stroke:#181818;stroke-width:1.5;\" width=\"12\" x=\"64\" y=\"96\"/><text fill=\"#000000\" font-family=\"sans-serif\" font-size=\"14\" lengthAdjust=\"spacing\" textLength=\"38\" x=\"51\" y=\"33.6982\">newX</text><rect fill=\"#FFFFFF\" height=\"12\" style=\"stroke:#181818;stroke-width:1.5;\" width=\"12\" x=\"64\" y=\"49\"/><!--MD5=[dc335b08ea79ae45ab11d1fc1351cbd7]\n",
       "@startuml\r\n",
       "skin sysmlbw\r\n",
       "skinparam monochrome true\r\n",
       "skinparam wrapWidth 300\r\n",
       "hide circle\r\n",
       "left to right direction\r\n",
       "skinparam ranksep 10\r\n",
       "skinparam rectangle {\r\n",
       " backgroundColor<<block>> LightGreen\r\n",
       "}\r\n",
       "\r\n",
       "package \"TextualRepresentationTest\" as E1  [[psysml:267f3727-84c1-426f-a395-45db3603d5f0 ]]  {\r\n",
       "def \"C\" as E2  <<(T,blue) item  def>> [[psysml:61886539-cbef-4e54-b839-069269561211 ]] \r\n",
       "rec def \"setX\" as E3  <<(T,blue) action  def>> [[psysml:3b239dd5-995b-4be0-a5de-a49576b20dda ]] {\r\n",
       "portin \"c\" as E4  [[psysml:4e0877a7-1493-46cf-81bf-47696701d005 ]] \r\n",
       "portin \"newX\" as E5  [[psysml:6814382f-4eaa-405a-a959-183965b050e4 ]] \r\n",
       "}\r\n",
       "\r\n",
       "}\r\n",
       "@enduml\r\n",
       "\n",
       "PlantUML version 1.2022.7(Mon Aug 22 17:01:30 UTC 2022)\n",
       "(EPL source distribution)\n",
       "Java Runtime: OpenJDK Runtime Environment\n",
       "JVM: OpenJDK 64-Bit Server VM\n",
       "Default Encoding: UTF-8\n",
       "Language: en\n",
       "Country: null\n",
       "--></g></svg>"
      ]
     },
     "execution_count": 19,
     "metadata": {},
     "output_type": "execute_result"
    }
   ],
   "source": [
    "%viz --style=\"LR\" --view=\"Interconnection\" \"TextualRepresentationTest\""
   ]
  },
  {
   "cell_type": "code",
   "execution_count": 20,
   "id": "cb80217c",
   "metadata": {
    "execution": {
     "iopub.execute_input": "2024-12-16T03:26:55.797962Z",
     "iopub.status.busy": "2024-12-16T03:26:55.797760Z",
     "iopub.status.idle": "2024-12-16T03:26:55.811259Z",
     "shell.execute_reply": "2024-12-16T03:26:55.811078Z"
    }
   },
   "outputs": [
    {
     "data": {
      "image/svg+xml": [
       "<?xml version=\"1.0\" encoding=\"UTF-8\" standalone=\"no\"?><svg xmlns=\"http://www.w3.org/2000/svg\" xmlns:xlink=\"http://www.w3.org/1999/xlink\" contentStyleType=\"text/css\" height=\"116px\" preserveAspectRatio=\"none\" style=\"width:176px;height:116px;background:#FFFFFF;\" version=\"1.1\" viewBox=\"0 0 176 116\" width=\"176px\" zoomAndPan=\"magnify\"><defs/><g><!--MD5=[fbc87193dbaf4d95561dea2c320d4a47]\n",
       "cluster E1--><g id=\"cluster_E1\"><a href=\"psysml:3b239dd5-995b-4be0-a5de-a49576b20dda\" target=\"_top\" title=\"psysml:3b239dd5-995b-4be0-a5de-a49576b20dda\" xlink:actuate=\"onRequest\" xlink:href=\"psysml:3b239dd5-995b-4be0-a5de-a49576b20dda\" xlink:show=\"new\" xlink:title=\"psysml:3b239dd5-995b-4be0-a5de-a49576b20dda\" xlink:type=\"simple\"><rect fill=\"#FFFFFF\" height=\"47\" id=\"E1\" style=\"stroke:#383838;stroke-width:1.5;\" width=\"162\" x=\"7\" y=\"42.0986\"/><text fill=\"#000000\" font-family=\"sans-serif\" font-size=\"12\" font-style=\"italic\" lengthAdjust=\"spacing\" textLength=\"81\" x=\"47.5\" y=\"58.2373\">«action  def»</text><text fill=\"#000000\" font-family=\"sans-serif\" font-size=\"14\" lengthAdjust=\"spacing\" textLength=\"31\" x=\"72.5\" y=\"74.0625\">setX</text><line style=\"stroke:#383838;stroke-width:1.0;\" x1=\"7\" x2=\"169\" y1=\"82.3643\" y2=\"82.3643\"/></a></g><text fill=\"#000000\" font-family=\"sans-serif\" font-size=\"14\" lengthAdjust=\"spacing\" textLength=\"8\" x=\"21\" y=\"108.0938\">c</text><rect fill=\"#FFFFFF\" height=\"12\" style=\"stroke:#181818;stroke-width:1.5;\" width=\"12\" x=\"19\" y=\"83.0986\"/><text fill=\"#000000\" font-family=\"sans-serif\" font-size=\"14\" lengthAdjust=\"spacing\" textLength=\"38\" x=\"6\" y=\"20.7969\">newX</text><rect fill=\"#FFFFFF\" height=\"12\" style=\"stroke:#181818;stroke-width:1.5;\" width=\"12\" x=\"19\" y=\"36.0986\"/><!--MD5=[f476fe5f79bd64ba403d1e4701e5890e]\n",
       "@startuml\r\n",
       "skin sysmlbw\r\n",
       "skinparam monochrome true\r\n",
       "skinparam wrapWidth 300\r\n",
       "hide circle\r\n",
       "left to right direction\r\n",
       "skinparam ranksep 8\r\n",
       "\r\n",
       "rec def \"setX\" as E1  <<(T,blue) action  def>> [[psysml:3b239dd5-995b-4be0-a5de-a49576b20dda ]] {\r\n",
       "portin \"c\" as E2  [[psysml:4e0877a7-1493-46cf-81bf-47696701d005 ]] \r\n",
       "portin \"newX\" as E3  [[psysml:6814382f-4eaa-405a-a959-183965b050e4 ]] \r\n",
       "}\r\n",
       "\r\n",
       "@enduml\r\n",
       "\n",
       "PlantUML version 1.2022.7(Mon Aug 22 17:01:30 UTC 2022)\n",
       "(EPL source distribution)\n",
       "Java Runtime: OpenJDK Runtime Environment\n",
       "JVM: OpenJDK 64-Bit Server VM\n",
       "Default Encoding: UTF-8\n",
       "Language: en\n",
       "Country: null\n",
       "--></g></svg>"
      ]
     },
     "execution_count": 20,
     "metadata": {},
     "output_type": "execute_result"
    }
   ],
   "source": [
    "%viz --style=\"LR\" --view=\"Action\" \"TextualRepresentationTest\""
   ]
  },
  {
   "cell_type": "code",
   "execution_count": 21,
   "id": "c1538bc6",
   "metadata": {
    "execution": {
     "iopub.execute_input": "2024-12-16T03:26:55.862294Z",
     "iopub.status.busy": "2024-12-16T03:26:55.862071Z",
     "iopub.status.idle": "2024-12-16T03:26:55.867483Z",
     "shell.execute_reply": "2024-12-16T03:26:55.867609Z"
    }
   },
   "outputs": [
    {
     "data": {
      "image/svg+xml": [
       "<?xml version=\"1.0\" encoding=\"UTF-8\" standalone=\"no\"?><svg xmlns=\"http://www.w3.org/2000/svg\" xmlns:xlink=\"http://www.w3.org/1999/xlink\" contentStyleType=\"text/css\" height=\"10px\" preserveAspectRatio=\"none\" style=\"width:10px;height:10px;background:#FFFFFF;\" version=\"1.1\" viewBox=\"0 0 10 10\" width=\"10px\" zoomAndPan=\"magnify\"><defs/><g><!--MD5=[3d7abb46b795db4c9d99c7acf425de78]\n",
       "@startuml\r\n",
       "skin sysmlbw\r\n",
       "skinparam monochrome true\r\n",
       "skinparam wrapWidth 300\r\n",
       "hide circle\r\n",
       "left to right direction\r\n",
       "skinparam roundcorner 20\r\n",
       "skinparam BoxPadding 20\r\n",
       "skinparam SequenceBoxBackgroundColor #white\r\n",
       "skinparam style strictuml\r\n",
       "skinparam maxMessageSize 100\r\n",
       "\r\n",
       "@enduml\r\n",
       "\n",
       "PlantUML version 1.2022.7(Mon Aug 22 17:01:30 UTC 2022)\n",
       "(EPL source distribution)\n",
       "Java Runtime: OpenJDK Runtime Environment\n",
       "JVM: OpenJDK 64-Bit Server VM\n",
       "Default Encoding: UTF-8\n",
       "Language: en\n",
       "Country: null\n",
       "--></g></svg>"
      ]
     },
     "execution_count": 21,
     "metadata": {},
     "output_type": "execute_result"
    }
   ],
   "source": [
    "%viz --style=\"LR\" --view=\"Sequence\" \"TextualRepresentationTest\""
   ]
  },
  {
   "cell_type": "code",
   "execution_count": 22,
   "id": "7529181b",
   "metadata": {
    "execution": {
     "iopub.execute_input": "2024-12-16T03:26:55.921630Z",
     "iopub.status.busy": "2024-12-16T03:26:55.921334Z",
     "iopub.status.idle": "2024-12-16T03:26:55.942220Z",
     "shell.execute_reply": "2024-12-16T03:26:55.941312Z"
    }
   },
   "outputs": [
    {
     "data": {
      "image/svg+xml": [
       "<?xml version=\"1.0\" encoding=\"UTF-8\" standalone=\"no\"?><svg xmlns=\"http://www.w3.org/2000/svg\" xmlns:xlink=\"http://www.w3.org/1999/xlink\" contentStyleType=\"text/css\" height=\"241px\" preserveAspectRatio=\"none\" style=\"width:330px;height:241px;background:#FFFFFF;\" version=\"1.1\" viewBox=\"0 0 330 241\" width=\"330px\" zoomAndPan=\"magnify\"><defs/><g><!--MD5=[fbc87193dbaf4d95561dea2c320d4a47]\n",
       "cluster E1--><g id=\"cluster_E1\"><a href=\"psysml:267f3727-84c1-426f-a395-45db3603d5f0\" target=\"_top\" title=\"psysml:267f3727-84c1-426f-a395-45db3603d5f0\" xlink:actuate=\"onRequest\" xlink:href=\"psysml:267f3727-84c1-426f-a395-45db3603d5f0\" xlink:show=\"new\" xlink:title=\"psysml:267f3727-84c1-426f-a395-45db3603d5f0\" xlink:type=\"simple\"><polygon fill=\"none\" points=\"16,6,220.9375,6,227.9375,28.2969,313,28.2969,313,234,16,234,16,6\" style=\"stroke:#000000;stroke-width:1.5;\"/><line style=\"stroke:#000000;stroke-width:1.5;\" x1=\"16\" x2=\"227.9375\" y1=\"28.2969\" y2=\"28.2969\"/><text fill=\"#000000\" font-family=\"sans-serif\" font-size=\"14\" font-weight=\"bold\" lengthAdjust=\"spacing\" textLength=\"198.9375\" x=\"20\" y=\"20.9951\">TextualRepresentationTest</text></a></g><!--MD5=[f6df4d0ebaf0b5dfb2ced0ae5af7c670]\n",
       "cluster E4--><g id=\"cluster_E4\"><a href=\"psysml:3b239dd5-995b-4be0-a5de-a49576b20dda\" target=\"_top\" title=\"psysml:3b239dd5-995b-4be0-a5de-a49576b20dda\" xlink:actuate=\"onRequest\" xlink:href=\"psysml:3b239dd5-995b-4be0-a5de-a49576b20dda\" xlink:show=\"new\" xlink:title=\"psysml:3b239dd5-995b-4be0-a5de-a49576b20dda\" xlink:type=\"simple\"><rect fill=\"#FFFFFF\" height=\"47\" id=\"E4\" style=\"stroke:#383838;stroke-width:1.5;\" width=\"246\" x=\"51\" y=\"55\"/><text fill=\"#000000\" font-family=\"sans-serif\" font-size=\"12\" font-style=\"italic\" lengthAdjust=\"spacing\" textLength=\"81\" x=\"133.5\" y=\"71.1387\">«action  def»</text><text fill=\"#000000\" font-family=\"sans-serif\" font-size=\"14\" lengthAdjust=\"spacing\" textLength=\"31\" x=\"158.5\" y=\"86.9639\">setX</text><line style=\"stroke:#383838;stroke-width:1.0;\" x1=\"51\" x2=\"297\" y1=\"95.2656\" y2=\"95.2656\"/></a></g><!--MD5=[b4997ac47864f28c2f74865a473b2911]\n",
       "class E2--><a href=\"psysml:61886539-cbef-4e54-b839-069269561211\" target=\"_top\" title=\"psysml:61886539-cbef-4e54-b839-069269561211\" xlink:actuate=\"onRequest\" xlink:href=\"psysml:61886539-cbef-4e54-b839-069269561211\" xlink:show=\"new\" xlink:title=\"psysml:61886539-cbef-4e54-b839-069269561211\" xlink:type=\"simple\"><g id=\"elem_E2\"><rect fill=\"#FFFFFF\" height=\"75.0813\" id=\"E2\" style=\"stroke:#181818;stroke-width:0.5;\" width=\"74\" x=\"32\" y=\"143.5\"/><text fill=\"#000000\" font-family=\"sans-serif\" font-size=\"12\" font-style=\"italic\" lengthAdjust=\"spacing\" textLength=\"69\" x=\"34.5\" y=\"159.6387\">«item  def»</text><text fill=\"#000000\" font-family=\"sans-serif\" font-size=\"14\" lengthAdjust=\"spacing\" textLength=\"10\" x=\"64\" y=\"175.4639\">C</text><line style=\"stroke:#181818;stroke-width:0.5;\" x1=\"33\" x2=\"105\" y1=\"183.7656\" y2=\"183.7656\"/><text fill=\"#000000\" font-family=\"sans-serif\" font-size=\"14\" lengthAdjust=\"spacing\" textLength=\"46\" x=\"38\" y=\"211.2795\">x: Real</text><text fill=\"#000000\" font-family=\"sans-serif\" font-size=\"14\" font-style=\"italic\" lengthAdjust=\"spacing\" textLength=\"66\" x=\"36\" y=\"196.1123\">attributes</text></g></a><!--MD5=[09b614a08d8cba4a07c9adeb5e0fee81]\n",
       "class E3--><a href=\"psysml:646d3ab6-4c99-4716-814b-89245cbe5994\" target=\"_top\" title=\"psysml:646d3ab6-4c99-4716-814b-89245cbe5994\" xlink:actuate=\"onRequest\" xlink:href=\"psysml:646d3ab6-4c99-4716-814b-89245cbe5994\" xlink:show=\"new\" xlink:title=\"psysml:646d3ab6-4c99-4716-814b-89245cbe5994\" xlink:type=\"simple\"><g id=\"elem_E3\"><rect fill=\"#FFFFFF\" height=\"48.2656\" id=\"E3\" rx=\"10\" ry=\"10\" style=\"stroke:#181818;stroke-width:0.5;\" width=\"124\" x=\"166\" y=\"157\"/><text fill=\"#000000\" font-family=\"sans-serif\" font-size=\"12\" font-style=\"italic\" lengthAdjust=\"spacing\" textLength=\"122\" x=\"167\" y=\"173.1387\">«assert constraint»</text><text fill=\"#000000\" font-family=\"sans-serif\" font-size=\"14\" lengthAdjust=\"spacing\" textLength=\"83\" x=\"182.5\" y=\"188.9639\">x_constraint</text><line style=\"stroke:#181818;stroke-width:0.5;\" x1=\"167\" x2=\"289\" y1=\"197.2656\" y2=\"197.2656\"/></g></a><text fill=\"#000000\" font-family=\"sans-serif\" font-size=\"14\" lengthAdjust=\"spacing\" textLength=\"8\" x=\"65\" y=\"120.9951\">c</text><rect fill=\"#FFFFFF\" height=\"12\" style=\"stroke:#181818;stroke-width:1.5;\" width=\"12\" x=\"63\" y=\"96\"/><text fill=\"#000000\" font-family=\"sans-serif\" font-size=\"14\" lengthAdjust=\"spacing\" textLength=\"38\" x=\"50\" y=\"33.6982\">newX</text><rect fill=\"#FFFFFF\" height=\"12\" style=\"stroke:#181818;stroke-width:1.5;\" width=\"12\" x=\"63\" y=\"49\"/><!--MD5=[209b3feb70ccb6233bfe1053d122c12c]\n",
       "reverse link E2 to E3--><g id=\"link_E2_E3\"><a href=\"psysml:17b203e1-cdea-4a97-b803-663e29228052\" target=\"_top\" title=\"psysml:17b203e1-cdea-4a97-b803-663e29228052\" xlink:actuate=\"onRequest\" xlink:href=\"psysml:17b203e1-cdea-4a97-b803-663e29228052\" xlink:show=\"new\" xlink:title=\"psysml:17b203e1-cdea-4a97-b803-663e29228052\" xlink:type=\"simple\"><path d=\"M119.1,181 C133.93,181 150.4,181 165.91,181 \" fill=\"none\" id=\"E2-backto-E3\" style=\"stroke:#181818;stroke-width:1.0;\"/><polygon fill=\"#181818\" points=\"106.02,181,112.02,185,118.02,181,112.02,177,106.02,181\" style=\"stroke:#181818;stroke-width:1.0;\"/></a></g><!--MD5=[5578b4bca242e27ddd48d06e49401b72]\n",
       "@startuml\r\n",
       "skin sysmlbw\r\n",
       "skinparam monochrome true\r\n",
       "skinparam wrapWidth 300\r\n",
       "hide circle\r\n",
       "left to right direction\r\n",
       "\r\n",
       "package \"TextualRepresentationTest\" as E1  [[psysml:267f3727-84c1-426f-a395-45db3603d5f0 ]]  {\r\n",
       "comp def \"C\" as E2  <<(T,blue) item  def>> [[psysml:61886539-cbef-4e54-b839-069269561211 ]] {\r\n",
       "##//attributes//##\r\n",
       "x: Real\r\n",
       "}\r\n",
       "comp usage \"x_constraint  \" as E3  <<(T,blue) assert constraint>> [[psysml:646d3ab6-4c99-4716-814b-89245cbe5994 ]] {\r\n",
       "}\r\n",
       "rec def \"setX\" as E4  <<(T,blue) action  def>> [[psysml:3b239dd5-995b-4be0-a5de-a49576b20dda ]] {\r\n",
       "portin \"c\" as E5  [[psysml:4e0877a7-1493-46cf-81bf-47696701d005 ]] \r\n",
       "portin \"newX\" as E6  [[psysml:6814382f-4eaa-405a-a959-183965b050e4 ]] \r\n",
       "}\r\n",
       "\r\n",
       "}\r\n",
       "E2 *- - E3 [[psysml:17b203e1-cdea-4a97-b803-663e29228052 ]] \r\n",
       "@enduml\r\n",
       "\n",
       "PlantUML version 1.2022.7(Mon Aug 22 17:01:30 UTC 2022)\n",
       "(EPL source distribution)\n",
       "Java Runtime: OpenJDK Runtime Environment\n",
       "JVM: OpenJDK 64-Bit Server VM\n",
       "Default Encoding: UTF-8\n",
       "Language: en\n",
       "Country: null\n",
       "--></g></svg>"
      ]
     },
     "execution_count": 22,
     "metadata": {},
     "output_type": "execute_result"
    }
   ],
   "source": [
    "%viz --style=\"LR\" --view=\"MIXED\" \"TextualRepresentationTest\""
   ]
  },
  {
   "cell_type": "code",
   "execution_count": 23,
   "id": "3ff68cdf",
   "metadata": {
    "execution": {
     "iopub.execute_input": "2024-12-16T03:26:55.993288Z",
     "iopub.status.busy": "2024-12-16T03:26:55.993058Z",
     "iopub.status.idle": "2024-12-16T03:26:56.012733Z",
     "shell.execute_reply": "2024-12-16T03:26:56.012023Z"
    }
   },
   "outputs": [
    {
     "data": {
      "image/svg+xml": [
       "<?xml version=\"1.0\" encoding=\"UTF-8\" standalone=\"no\"?><svg xmlns=\"http://www.w3.org/2000/svg\" xmlns:xlink=\"http://www.w3.org/1999/xlink\" contentStyleType=\"text/css\" height=\"256px\" preserveAspectRatio=\"none\" style=\"width:346px;height:256px;background:#FFFFFF;\" version=\"1.1\" viewBox=\"0 0 346 256\" width=\"346px\" zoomAndPan=\"magnify\"><defs><filter height=\"300%\" id=\"f1tmsmbsb5cr4h\" width=\"300%\" x=\"-1\" y=\"-1\"><feGaussianBlur result=\"blurOut\" stdDeviation=\"2.0\"/><feColorMatrix in=\"blurOut\" result=\"blurOut2\" type=\"matrix\" values=\"0 0 0 0 0 0 0 0 0 0 0 0 0 0 0 0 0 0 .4 0\"/><feOffset dx=\"4.0\" dy=\"4.0\" in=\"blurOut2\" result=\"blurOut3\"/><feBlend in=\"SourceGraphic\" in2=\"blurOut3\" mode=\"normal\"/></filter></defs><g><!--MD5=[fbc87193dbaf4d95561dea2c320d4a47]\n",
       "cluster E1--><g id=\"cluster_E1\"><a href=\"psysml:267f3727-84c1-426f-a395-45db3603d5f0\" target=\"_top\" title=\"psysml:267f3727-84c1-426f-a395-45db3603d5f0\" xlink:actuate=\"onRequest\" xlink:href=\"psysml:267f3727-84c1-426f-a395-45db3603d5f0\" xlink:show=\"new\" xlink:title=\"psysml:267f3727-84c1-426f-a395-45db3603d5f0\" xlink:type=\"simple\"><polygon fill=\"none\" filter=\"url(#f1tmsmbsb5cr4h)\" points=\"16,6,220.9375,6,227.9375,28.2969,329,28.2969,329,249.5,16,249.5,16,6\" style=\"stroke:#000000;stroke-width:1.5;\"/><line style=\"stroke:#000000;stroke-width:1.5;\" x1=\"16\" x2=\"227.9375\" y1=\"28.2969\" y2=\"28.2969\"/><text fill=\"#000000\" font-family=\"sans-serif\" font-size=\"14\" font-weight=\"bold\" lengthAdjust=\"spacing\" textLength=\"198.9375\" x=\"20\" y=\"20.9951\">TextualRepresentationTest</text></a></g><!--MD5=[f6df4d0ebaf0b5dfb2ced0ae5af7c670]\n",
       "cluster E4--><g id=\"cluster_E4\"><a href=\"psysml:3b239dd5-995b-4be0-a5de-a49576b20dda\" target=\"_top\" title=\"psysml:3b239dd5-995b-4be0-a5de-a49576b20dda\" xlink:actuate=\"onRequest\" xlink:href=\"psysml:3b239dd5-995b-4be0-a5de-a49576b20dda\" xlink:show=\"new\" xlink:title=\"psysml:3b239dd5-995b-4be0-a5de-a49576b20dda\" xlink:type=\"simple\"><rect fill=\"#FFFFFF\" filter=\"url(#f1tmsmbsb5cr4h)\" height=\"155\" id=\"E4\" style=\"stroke:#A80036;stroke-width:1.5;\" width=\"134\" x=\"179\" y=\"78.5\"/><rect fill=\"#FFFACD\" height=\"40.2656\" style=\"stroke:#A80036;stroke-width:1.5;\" width=\"134\" x=\"179\" y=\"78.5\"/><text fill=\"#000000\" font-family=\"sans-serif\" font-size=\"12\" font-style=\"italic\" lengthAdjust=\"spacing\" textLength=\"81\" x=\"205.5\" y=\"94.6387\">«action  def»</text><text fill=\"#000000\" font-family=\"sans-serif\" font-size=\"14\" lengthAdjust=\"spacing\" textLength=\"31\" x=\"230.5\" y=\"110.4639\">setX</text></a></g><!--MD5=[b4997ac47864f28c2f74865a473b2911]\n",
       "class E2--><a href=\"psysml:61886539-cbef-4e54-b839-069269561211\" target=\"_top\" title=\"psysml:61886539-cbef-4e54-b839-069269561211\" xlink:actuate=\"onRequest\" xlink:href=\"psysml:61886539-cbef-4e54-b839-069269561211\" xlink:show=\"new\" xlink:title=\"psysml:61886539-cbef-4e54-b839-069269561211\" xlink:type=\"simple\"><g id=\"elem_E2\"><rect fill=\"#FFFACD\" filter=\"url(#f1tmsmbsb5cr4h)\" height=\"75.0813\" id=\"E2\" style=\"stroke:#181818;stroke-width:0.5;\" width=\"74\" x=\"57\" y=\"41\"/><text fill=\"#000000\" font-family=\"sans-serif\" font-size=\"12\" font-style=\"italic\" lengthAdjust=\"spacing\" textLength=\"69\" x=\"59.5\" y=\"57.1387\">«item  def»</text><text fill=\"#000000\" font-family=\"sans-serif\" font-size=\"14\" lengthAdjust=\"spacing\" textLength=\"10\" x=\"89\" y=\"72.9639\">C</text><line style=\"stroke:#181818;stroke-width:0.5;\" x1=\"58\" x2=\"130\" y1=\"81.2656\" y2=\"81.2656\"/><text fill=\"#000000\" font-family=\"sans-serif\" font-size=\"14\" lengthAdjust=\"spacing\" textLength=\"46\" x=\"63\" y=\"108.7795\">x: Real</text><text fill=\"#000000\" font-family=\"sans-serif\" font-size=\"14\" font-style=\"italic\" lengthAdjust=\"spacing\" textLength=\"66\" x=\"61\" y=\"93.6123\">attributes</text></g></a><!--MD5=[09b614a08d8cba4a07c9adeb5e0fee81]\n",
       "class E3--><a href=\"psysml:646d3ab6-4c99-4716-814b-89245cbe5994\" target=\"_top\" title=\"psysml:646d3ab6-4c99-4716-814b-89245cbe5994\" xlink:actuate=\"onRequest\" xlink:href=\"psysml:646d3ab6-4c99-4716-814b-89245cbe5994\" xlink:show=\"new\" xlink:title=\"psysml:646d3ab6-4c99-4716-814b-89245cbe5994\" xlink:type=\"simple\"><g id=\"elem_E3\"><rect fill=\"#FFFACD\" filter=\"url(#f1tmsmbsb5cr4h)\" height=\"48.2656\" id=\"E3\" rx=\"10\" ry=\"10\" style=\"stroke:#181818;stroke-width:0.5;\" width=\"124\" x=\"32\" y=\"176\"/><text fill=\"#000000\" font-family=\"sans-serif\" font-size=\"12\" font-style=\"italic\" lengthAdjust=\"spacing\" textLength=\"122\" x=\"33\" y=\"192.1387\">«assert constraint»</text><text fill=\"#000000\" font-family=\"sans-serif\" font-size=\"14\" lengthAdjust=\"spacing\" textLength=\"83\" x=\"48.5\" y=\"207.9639\">x_constraint</text><line style=\"stroke:#181818;stroke-width:0.5;\" x1=\"33\" x2=\"155\" y1=\"216.2656\" y2=\"216.2656\"/></g></a><text fill=\"#000000\" font-family=\"sans-serif\" font-size=\"14\" lengthAdjust=\"spacing\" textLength=\"8\" x=\"193\" y=\"57.1982\">c</text><rect fill=\"#FFFACD\" height=\"12\" style=\"stroke:#181818;stroke-width:1.5;\" width=\"12\" x=\"191\" y=\"72.5\"/><text fill=\"#000000\" font-family=\"sans-serif\" font-size=\"14\" lengthAdjust=\"spacing\" textLength=\"38\" x=\"225\" y=\"57.1982\">newX</text><rect fill=\"#FFFACD\" height=\"12\" style=\"stroke:#181818;stroke-width:1.5;\" width=\"12\" x=\"238\" y=\"72.5\"/><!--MD5=[209b3feb70ccb6233bfe1053d122c12c]\n",
       "reverse link E2 to E3--><g id=\"link_E2_E3\"><a href=\"psysml:17b203e1-cdea-4a97-b803-663e29228052\" target=\"_top\" title=\"psysml:17b203e1-cdea-4a97-b803-663e29228052\" xlink:actuate=\"onRequest\" xlink:href=\"psysml:17b203e1-cdea-4a97-b803-663e29228052\" xlink:show=\"new\" xlink:title=\"psysml:17b203e1-cdea-4a97-b803-663e29228052\" xlink:type=\"simple\"><path d=\"M94,129.25 C94,145.43 94,162.61 94,175.88 \" fill=\"none\" id=\"E2-backto-E3\" style=\"stroke:#181818;stroke-width:1.0;\"/><polygon fill=\"#181818\" points=\"94,116,90,122,94,128,98,122,94,116\" style=\"stroke:#181818;stroke-width:1.0;\"/></a></g><!--MD5=[8fc132d5ed20d7c645bf4776ace69cbd]\n",
       "@startuml\r\n",
       "skin sysmlc\r\n",
       "skinparam wrapWidth 300\r\n",
       "hide circle\r\n",
       "\r\n",
       "package \"TextualRepresentationTest\" as E1  [[psysml:267f3727-84c1-426f-a395-45db3603d5f0 ]]  {\r\n",
       "comp def \"C\" as E2  <<(T,blue) item  def>> [[psysml:61886539-cbef-4e54-b839-069269561211 ]] {\r\n",
       "##//attributes//##\r\n",
       "x: Real\r\n",
       "}\r\n",
       "comp usage \"x_constraint  \" as E3  <<(T,blue) assert constraint>> [[psysml:646d3ab6-4c99-4716-814b-89245cbe5994 ]] {\r\n",
       "}\r\n",
       "rec def \"setX\" as E4  <<(T,blue) action  def>> [[psysml:3b239dd5-995b-4be0-a5de-a49576b20dda ]] {\r\n",
       "portin \"c\" as E5  [[psysml:4e0877a7-1493-46cf-81bf-47696701d005 ]] \r\n",
       "portin \"newX\" as E6  [[psysml:6814382f-4eaa-405a-a959-183965b050e4 ]] \r\n",
       "}\r\n",
       "\r\n",
       "}\r\n",
       "E2 *- - E3 [[psysml:17b203e1-cdea-4a97-b803-663e29228052 ]] \r\n",
       "@enduml\r\n",
       "\n",
       "PlantUML version 1.2022.7(Mon Aug 22 17:01:30 UTC 2022)\n",
       "(EPL source distribution)\n",
       "Java Runtime: OpenJDK Runtime Environment\n",
       "JVM: OpenJDK 64-Bit Server VM\n",
       "Default Encoding: UTF-8\n",
       "Language: en\n",
       "Country: null\n",
       "--></g></svg>"
      ]
     },
     "execution_count": 23,
     "metadata": {},
     "output_type": "execute_result"
    }
   ],
   "source": [
    "%viz --style=\"STDCOLOR\" --view=\"Default\" \"TextualRepresentationTest\""
   ]
  },
  {
   "cell_type": "code",
   "execution_count": 24,
   "id": "b032eba8",
   "metadata": {
    "execution": {
     "iopub.execute_input": "2024-12-16T03:26:56.068888Z",
     "iopub.status.busy": "2024-12-16T03:26:56.068624Z",
     "iopub.status.idle": "2024-12-16T03:26:56.088875Z",
     "shell.execute_reply": "2024-12-16T03:26:56.088672Z"
    }
   },
   "outputs": [
    {
     "data": {
      "image/svg+xml": [
       "<?xml version=\"1.0\" encoding=\"UTF-8\" standalone=\"no\"?><svg xmlns=\"http://www.w3.org/2000/svg\" xmlns:xlink=\"http://www.w3.org/1999/xlink\" contentStyleType=\"text/css\" height=\"373px\" preserveAspectRatio=\"none\" style=\"width:247px;height:373px;background:#FFFFFF;\" version=\"1.1\" viewBox=\"0 0 247 373\" width=\"247px\" zoomAndPan=\"magnify\"><defs><filter height=\"300%\" id=\"f1u9hy039zlc83\" width=\"300%\" x=\"-1\" y=\"-1\"><feGaussianBlur result=\"blurOut\" stdDeviation=\"2.0\"/><feColorMatrix in=\"blurOut\" result=\"blurOut2\" type=\"matrix\" values=\"0 0 0 0 0 0 0 0 0 0 0 0 0 0 0 0 0 0 .4 0\"/><feOffset dx=\"4.0\" dy=\"4.0\" in=\"blurOut2\" result=\"blurOut3\"/><feBlend in=\"SourceGraphic\" in2=\"blurOut3\" mode=\"normal\"/></filter></defs><g><!--MD5=[fbc87193dbaf4d95561dea2c320d4a47]\n",
       "cluster E1--><g id=\"cluster_E1\"><a href=\"psysml:267f3727-84c1-426f-a395-45db3603d5f0\" target=\"_top\" title=\"psysml:267f3727-84c1-426f-a395-45db3603d5f0\" xlink:actuate=\"onRequest\" xlink:href=\"psysml:267f3727-84c1-426f-a395-45db3603d5f0\" xlink:show=\"new\" xlink:title=\"psysml:267f3727-84c1-426f-a395-45db3603d5f0\" xlink:type=\"simple\"><polygon fill=\"none\" filter=\"url(#f1u9hy039zlc83)\" points=\"16,6,220.9375,6,227.9375,28.2969,230,28.2969,230,366,16,366,16,6\" style=\"stroke:#000000;stroke-width:1.5;\"/><line style=\"stroke:#000000;stroke-width:1.5;\" x1=\"16\" x2=\"227.9375\" y1=\"28.2969\" y2=\"28.2969\"/><text fill=\"#000000\" font-family=\"sans-serif\" font-size=\"14\" font-weight=\"bold\" lengthAdjust=\"spacing\" textLength=\"198.9375\" x=\"20\" y=\"20.9951\">TextualRepresentationTest</text></a></g><!--MD5=[b4997ac47864f28c2f74865a473b2911]\n",
       "class E2--><a href=\"psysml:61886539-cbef-4e54-b839-069269561211\" target=\"_top\" title=\"psysml:61886539-cbef-4e54-b839-069269561211\" xlink:actuate=\"onRequest\" xlink:href=\"psysml:61886539-cbef-4e54-b839-069269561211\" xlink:show=\"new\" xlink:title=\"psysml:61886539-cbef-4e54-b839-069269561211\" xlink:type=\"simple\"><g id=\"elem_E2\"><rect fill=\"#FFFACD\" filter=\"url(#f1u9hy039zlc83)\" height=\"75.0813\" id=\"E2\" style=\"stroke:#181818;stroke-width:0.5;\" width=\"74\" x=\"86\" y=\"166\"/><text fill=\"#000000\" font-family=\"sans-serif\" font-size=\"12\" font-style=\"italic\" lengthAdjust=\"spacing\" textLength=\"69\" x=\"88.5\" y=\"182.1387\">«item  def»</text><text fill=\"#000000\" font-family=\"sans-serif\" font-size=\"14\" lengthAdjust=\"spacing\" textLength=\"10\" x=\"118\" y=\"197.9639\">C</text><line style=\"stroke:#181818;stroke-width:0.5;\" x1=\"87\" x2=\"159\" y1=\"206.2656\" y2=\"206.2656\"/><text fill=\"#000000\" font-family=\"sans-serif\" font-size=\"14\" lengthAdjust=\"spacing\" textLength=\"46\" x=\"92\" y=\"233.7795\">x: Real</text><text fill=\"#000000\" font-family=\"sans-serif\" font-size=\"14\" font-style=\"italic\" lengthAdjust=\"spacing\" textLength=\"66\" x=\"90\" y=\"218.6123\">attributes</text></g></a><!--MD5=[09b614a08d8cba4a07c9adeb5e0fee81]\n",
       "class E3--><a href=\"psysml:646d3ab6-4c99-4716-814b-89245cbe5994\" target=\"_top\" title=\"psysml:646d3ab6-4c99-4716-814b-89245cbe5994\" xlink:actuate=\"onRequest\" xlink:href=\"psysml:646d3ab6-4c99-4716-814b-89245cbe5994\" xlink:show=\"new\" xlink:title=\"psysml:646d3ab6-4c99-4716-814b-89245cbe5994\" xlink:type=\"simple\"><g id=\"elem_E3\"><rect fill=\"#FFFACD\" filter=\"url(#f1u9hy039zlc83)\" height=\"48.2656\" id=\"E3\" rx=\"10\" ry=\"10\" style=\"stroke:#181818;stroke-width:0.5;\" width=\"124\" x=\"61\" y=\"302\"/><text fill=\"#000000\" font-family=\"sans-serif\" font-size=\"12\" font-style=\"italic\" lengthAdjust=\"spacing\" textLength=\"122\" x=\"62\" y=\"318.1387\">«assert constraint»</text><text fill=\"#000000\" font-family=\"sans-serif\" font-size=\"14\" lengthAdjust=\"spacing\" textLength=\"83\" x=\"77.5\" y=\"333.9639\">x_constraint</text><line style=\"stroke:#181818;stroke-width:0.5;\" x1=\"62\" x2=\"184\" y1=\"342.2656\" y2=\"342.2656\"/></g></a><!--MD5=[ebbe1d658d1005bcc118a6aa81145e00]\n",
       "class E4--><a href=\"psysml:3b239dd5-995b-4be0-a5de-a49576b20dda\" target=\"_top\" title=\"psysml:3b239dd5-995b-4be0-a5de-a49576b20dda\" xlink:actuate=\"onRequest\" xlink:href=\"psysml:3b239dd5-995b-4be0-a5de-a49576b20dda\" xlink:show=\"new\" xlink:title=\"psysml:3b239dd5-995b-4be0-a5de-a49576b20dda\" xlink:type=\"simple\"><g id=\"elem_E4\"><rect fill=\"#FFFACD\" filter=\"url(#f1u9hy039zlc83)\" height=\"48.2656\" id=\"E4\" style=\"stroke:#181818;stroke-width:0.5;\" width=\"83\" x=\"81.5\" y=\"41\"/><text fill=\"#000000\" font-family=\"sans-serif\" font-size=\"12\" font-style=\"italic\" lengthAdjust=\"spacing\" textLength=\"81\" x=\"82.5\" y=\"57.1387\">«action  def»</text><text fill=\"#000000\" font-family=\"sans-serif\" font-size=\"14\" lengthAdjust=\"spacing\" textLength=\"31\" x=\"107.5\" y=\"72.9639\">setX</text><line style=\"stroke:#181818;stroke-width:0.5;\" x1=\"82.5\" x2=\"163.5\" y1=\"81.2656\" y2=\"81.2656\"/></g></a><!--MD5=[209b3feb70ccb6233bfe1053d122c12c]\n",
       "reverse link E2 to E3--><g id=\"link_E2_E3\"><a href=\"psysml:17b203e1-cdea-4a97-b803-663e29228052\" target=\"_top\" title=\"psysml:17b203e1-cdea-4a97-b803-663e29228052\" xlink:actuate=\"onRequest\" xlink:href=\"psysml:17b203e1-cdea-4a97-b803-663e29228052\" xlink:show=\"new\" xlink:title=\"psysml:17b203e1-cdea-4a97-b803-663e29228052\" xlink:type=\"simple\"><path d=\"M123,254.67 C123,270.98 123,288.31 123,301.69 \" fill=\"none\" id=\"E2-backto-E3\" style=\"stroke:#181818;stroke-width:1.0;\"/><polygon fill=\"#181818\" points=\"123,241.31,119,247.31,123,253.31,127,247.31,123,241.31\" style=\"stroke:#181818;stroke-width:1.0;\"/></a></g><!--MD5=[ddeed8deb2209213b62e6cfabaa108b2]\n",
       "reverse link E4 to E2--><g id=\"link_E4_E2\"><a href=\"psysml:4e0877a7-1493-46cf-81bf-47696701d005\" target=\"_top\" title=\"psysml:4e0877a7-1493-46cf-81bf-47696701d005\" xlink:actuate=\"onRequest\" xlink:href=\"psysml:4e0877a7-1493-46cf-81bf-47696701d005\" xlink:show=\"new\" xlink:title=\"psysml:4e0877a7-1493-46cf-81bf-47696701d005\" xlink:type=\"simple\"><path d=\"M123,102.22 C123,121.88 123,146.11 123,165.84 \" fill=\"none\" id=\"E4-backto-E2\" style=\"stroke:#181818;stroke-width:1.0;\"/><polygon fill=\"none\" points=\"123,89.16,119,95.16,123,101.16,127,95.16,123,89.16\" style=\"stroke:#181818;stroke-width:1.0;\"/><text fill=\"#000000\" font-family=\"sans-serif\" font-size=\"13\" lengthAdjust=\"spacing\" textLength=\"7\" x=\"124\" y=\"132.0669\">c</text></a></g><!--MD5=[517cfa7b4992ba31eca4b942f8e10e4d]\n",
       "@startuml\r\n",
       "skin sysmlc\r\n",
       "skinparam wrapWidth 300\r\n",
       "hide circle\r\n",
       "\r\n",
       "package \"TextualRepresentationTest\" as E1  [[psysml:267f3727-84c1-426f-a395-45db3603d5f0 ]]  {\r\n",
       "comp def \"C\" as E2  <<(T,blue) item  def>> [[psysml:61886539-cbef-4e54-b839-069269561211 ]] {\r\n",
       "##//attributes//##\r\n",
       "x: Real\r\n",
       "}\r\n",
       "comp usage \"x_constraint  \" as E3  <<(T,blue) assert constraint>> [[psysml:646d3ab6-4c99-4716-814b-89245cbe5994 ]] {\r\n",
       "}\r\n",
       "comp def \"setX\" as E4  <<(T,blue) action  def>> [[psysml:3b239dd5-995b-4be0-a5de-a49576b20dda ]] {\r\n",
       "}\r\n",
       "}\r\n",
       "E2 *- - E3 [[psysml:17b203e1-cdea-4a97-b803-663e29228052 ]] \r\n",
       "E4 o- - E2 [[psysml:4e0877a7-1493-46cf-81bf-47696701d005 ]] : c\r\n",
       "@enduml\r\n",
       "\n",
       "PlantUML version 1.2022.7(Mon Aug 22 17:01:30 UTC 2022)\n",
       "(EPL source distribution)\n",
       "Java Runtime: OpenJDK Runtime Environment\n",
       "JVM: OpenJDK 64-Bit Server VM\n",
       "Default Encoding: UTF-8\n",
       "Language: en\n",
       "Country: null\n",
       "--></g></svg>"
      ]
     },
     "execution_count": 24,
     "metadata": {},
     "output_type": "execute_result"
    }
   ],
   "source": [
    "%viz --style=\"STDCOLOR\" --view=\"Tree\" \"TextualRepresentationTest\""
   ]
  },
  {
   "cell_type": "code",
   "execution_count": 25,
   "id": "324f2241",
   "metadata": {
    "execution": {
     "iopub.execute_input": "2024-12-16T03:26:56.141192Z",
     "iopub.status.busy": "2024-12-16T03:26:56.140987Z",
     "iopub.status.idle": "2024-12-16T03:26:56.150554Z",
     "shell.execute_reply": "2024-12-16T03:26:56.150375Z"
    }
   },
   "outputs": [
    {
     "data": {
      "image/svg+xml": [
       "<?xml version=\"1.0\" encoding=\"UTF-8\" standalone=\"no\"?><svg xmlns=\"http://www.w3.org/2000/svg\" xmlns:xlink=\"http://www.w3.org/1999/xlink\" contentStyleType=\"text/css\" height=\"10px\" preserveAspectRatio=\"none\" style=\"width:10px;height:10px;background:#FFFFFF;\" version=\"1.1\" viewBox=\"0 0 10 10\" width=\"10px\" zoomAndPan=\"magnify\"><defs/><g><!--MD5=[a1048f16c75022af837d4b7065e6f600]\n",
       "@startuml\r\n",
       "skin sysmlc\r\n",
       "skinparam wrapWidth 300\r\n",
       "hide circle\r\n",
       "\r\n",
       "@enduml\r\n",
       "\n",
       "PlantUML version 1.2022.7(Mon Aug 22 17:01:30 UTC 2022)\n",
       "(EPL source distribution)\n",
       "Java Runtime: OpenJDK Runtime Environment\n",
       "JVM: OpenJDK 64-Bit Server VM\n",
       "Default Encoding: UTF-8\n",
       "Language: en\n",
       "Country: null\n",
       "--></g></svg>"
      ]
     },
     "execution_count": 25,
     "metadata": {},
     "output_type": "execute_result"
    }
   ],
   "source": [
    "%viz --style=\"STDCOLOR\" --view=\"State\" \"TextualRepresentationTest\""
   ]
  },
  {
   "cell_type": "code",
   "execution_count": 26,
   "id": "a7d59f64",
   "metadata": {
    "execution": {
     "iopub.execute_input": "2024-12-16T03:26:56.202900Z",
     "iopub.status.busy": "2024-12-16T03:26:56.202658Z",
     "iopub.status.idle": "2024-12-16T03:26:56.220585Z",
     "shell.execute_reply": "2024-12-16T03:26:56.220399Z"
    }
   },
   "outputs": [
    {
     "data": {
      "image/svg+xml": [
       "<?xml version=\"1.0\" encoding=\"UTF-8\" standalone=\"no\"?><svg xmlns=\"http://www.w3.org/2000/svg\" xmlns:xlink=\"http://www.w3.org/1999/xlink\" contentStyleType=\"text/css\" height=\"176px\" preserveAspectRatio=\"none\" style=\"width:287px;height:176px;background:#FFFFFF;\" version=\"1.1\" viewBox=\"0 0 287 176\" width=\"287px\" zoomAndPan=\"magnify\"><defs><filter height=\"300%\" id=\"f16r6rvocrrcgf\" width=\"300%\" x=\"-1\" y=\"-1\"><feGaussianBlur result=\"blurOut\" stdDeviation=\"2.0\"/><feColorMatrix in=\"blurOut\" result=\"blurOut2\" type=\"matrix\" values=\"0 0 0 0 0 0 0 0 0 0 0 0 0 0 0 0 0 0 .4 0\"/><feOffset dx=\"4.0\" dy=\"4.0\" in=\"blurOut2\" result=\"blurOut3\"/><feBlend in=\"SourceGraphic\" in2=\"blurOut3\" mode=\"normal\"/></filter></defs><g><!--MD5=[fbc87193dbaf4d95561dea2c320d4a47]\n",
       "cluster E1--><g id=\"cluster_E1\"><a href=\"psysml:267f3727-84c1-426f-a395-45db3603d5f0\" target=\"_top\" title=\"psysml:267f3727-84c1-426f-a395-45db3603d5f0\" xlink:actuate=\"onRequest\" xlink:href=\"psysml:267f3727-84c1-426f-a395-45db3603d5f0\" xlink:show=\"new\" xlink:title=\"psysml:267f3727-84c1-426f-a395-45db3603d5f0\" xlink:type=\"simple\"><polygon fill=\"none\" filter=\"url(#f16r6rvocrrcgf)\" points=\"16,6,220.9375,6,227.9375,28.2969,270,28.2969,270,169,16,169,16,6\" style=\"stroke:#000000;stroke-width:1.5;\"/><line style=\"stroke:#000000;stroke-width:1.5;\" x1=\"16\" x2=\"227.9375\" y1=\"28.2969\" y2=\"28.2969\"/><text fill=\"#000000\" font-family=\"sans-serif\" font-size=\"14\" font-weight=\"bold\" lengthAdjust=\"spacing\" textLength=\"198.9375\" x=\"20\" y=\"20.9951\">TextualRepresentationTest</text></a></g><!--MD5=[d5e69f78d87373223dbae638b30a9c99]\n",
       "cluster E3--><g id=\"cluster_E3\"><a href=\"psysml:3b239dd5-995b-4be0-a5de-a49576b20dda\" target=\"_top\" title=\"psysml:3b239dd5-995b-4be0-a5de-a49576b20dda\" xlink:actuate=\"onRequest\" xlink:href=\"psysml:3b239dd5-995b-4be0-a5de-a49576b20dda\" xlink:show=\"new\" xlink:title=\"psysml:3b239dd5-995b-4be0-a5de-a49576b20dda\" xlink:type=\"simple\"><rect fill=\"#FFFFFF\" filter=\"url(#f16r6rvocrrcgf)\" height=\"89.5\" id=\"E3\" style=\"stroke:#A80036;stroke-width:1.5;\" width=\"100\" x=\"122.5\" y=\"63.5\"/><rect fill=\"#FFFACD\" height=\"40.2656\" style=\"stroke:#A80036;stroke-width:1.5;\" width=\"100\" x=\"122.5\" y=\"63.5\"/><text fill=\"#000000\" font-family=\"sans-serif\" font-size=\"12\" font-style=\"italic\" lengthAdjust=\"spacing\" textLength=\"81\" x=\"132\" y=\"79.6387\">«action  def»</text><text fill=\"#000000\" font-family=\"sans-serif\" font-size=\"14\" lengthAdjust=\"spacing\" textLength=\"31\" x=\"157\" y=\"95.4639\">setX</text></a></g><g><a href=\"psysml:61886539-cbef-4e54-b839-069269561211\" target=\"_top\" title=\"psysml:61886539-cbef-4e54-b839-069269561211\" xlink:actuate=\"onRequest\" xlink:href=\"psysml:61886539-cbef-4e54-b839-069269561211\" xlink:show=\"new\" xlink:title=\"psysml:61886539-cbef-4e54-b839-069269561211\" xlink:type=\"simple\"><rect fill=\"#FFFACD\" filter=\"url(#f16r6rvocrrcgf)\" height=\"45.2656\" id=\"E2\" style=\"stroke:#A80036;stroke-width:1.5;\" width=\"76\" x=\"32\" y=\"41\"/><text fill=\"#000000\" font-family=\"sans-serif\" font-size=\"12\" font-style=\"italic\" lengthAdjust=\"spacing\" textLength=\"69\" x=\"35.5\" y=\"57.1387\">«item  def»</text><text fill=\"#000000\" font-family=\"sans-serif\" font-size=\"14\" lengthAdjust=\"spacing\" textLength=\"10\" x=\"65\" y=\"72.9639\">C</text></a></g><text fill=\"#000000\" font-family=\"sans-serif\" font-size=\"14\" lengthAdjust=\"spacing\" textLength=\"8\" x=\"145\" y=\"42.1982\">c</text><rect fill=\"#FFFACD\" height=\"12\" style=\"stroke:#181818;stroke-width:1.5;\" width=\"12\" x=\"143\" y=\"57.5\"/><text fill=\"#000000\" font-family=\"sans-serif\" font-size=\"14\" lengthAdjust=\"spacing\" textLength=\"38\" x=\"177\" y=\"42.1982\">newX</text><rect fill=\"#FFFACD\" height=\"12\" style=\"stroke:#181818;stroke-width:1.5;\" width=\"12\" x=\"190\" y=\"57.5\"/><!--MD5=[0128907ea6d84093c57aabfbc9d2609c]\n",
       "@startuml\r\n",
       "skin sysmlc\r\n",
       "skinparam wrapWidth 300\r\n",
       "hide circle\r\n",
       "skinparam ranksep 10\r\n",
       "skinparam rectangle {\r\n",
       " backgroundColor<<block>> LightGreen\r\n",
       "}\r\n",
       "\r\n",
       "package \"TextualRepresentationTest\" as E1  [[psysml:267f3727-84c1-426f-a395-45db3603d5f0 ]]  {\r\n",
       "def \"C\" as E2  <<(T,blue) item  def>> [[psysml:61886539-cbef-4e54-b839-069269561211 ]] \r\n",
       "rec def \"setX\" as E3  <<(T,blue) action  def>> [[psysml:3b239dd5-995b-4be0-a5de-a49576b20dda ]] {\r\n",
       "portin \"c\" as E4  [[psysml:4e0877a7-1493-46cf-81bf-47696701d005 ]] \r\n",
       "portin \"newX\" as E5  [[psysml:6814382f-4eaa-405a-a959-183965b050e4 ]] \r\n",
       "}\r\n",
       "\r\n",
       "}\r\n",
       "@enduml\r\n",
       "\n",
       "PlantUML version 1.2022.7(Mon Aug 22 17:01:30 UTC 2022)\n",
       "(EPL source distribution)\n",
       "Java Runtime: OpenJDK Runtime Environment\n",
       "JVM: OpenJDK 64-Bit Server VM\n",
       "Default Encoding: UTF-8\n",
       "Language: en\n",
       "Country: null\n",
       "--></g></svg>"
      ]
     },
     "execution_count": 26,
     "metadata": {},
     "output_type": "execute_result"
    }
   ],
   "source": [
    "%viz --style=\"STDCOLOR\" --view=\"Interconnection\" \"TextualRepresentationTest\""
   ]
  },
  {
   "cell_type": "code",
   "execution_count": 27,
   "id": "90698d7c",
   "metadata": {
    "execution": {
     "iopub.execute_input": "2024-12-16T03:26:56.276003Z",
     "iopub.status.busy": "2024-12-16T03:26:56.275756Z",
     "iopub.status.idle": "2024-12-16T03:26:56.288987Z",
     "shell.execute_reply": "2024-12-16T03:26:56.288787Z"
    }
   },
   "outputs": [
    {
     "data": {
      "image/svg+xml": [
       "<?xml version=\"1.0\" encoding=\"UTF-8\" standalone=\"no\"?><svg xmlns=\"http://www.w3.org/2000/svg\" xmlns:xlink=\"http://www.w3.org/1999/xlink\" contentStyleType=\"text/css\" height=\"127px\" preserveAspectRatio=\"none\" style=\"width:153px;height:127px;background:#FFFFFF;\" version=\"1.1\" viewBox=\"0 0 153 127\" width=\"153px\" zoomAndPan=\"magnify\"><defs><filter height=\"300%\" id=\"f17wfvft5fgki\" width=\"300%\" x=\"-1\" y=\"-1\"><feGaussianBlur result=\"blurOut\" stdDeviation=\"2.0\"/><feColorMatrix in=\"blurOut\" result=\"blurOut2\" type=\"matrix\" values=\"0 0 0 0 0 0 0 0 0 0 0 0 0 0 0 0 0 0 .4 0\"/><feOffset dx=\"4.0\" dy=\"4.0\" in=\"blurOut2\" result=\"blurOut3\"/><feBlend in=\"SourceGraphic\" in2=\"blurOut3\" mode=\"normal\"/></filter></defs><g><!--MD5=[fbc87193dbaf4d95561dea2c320d4a47]\n",
       "cluster E1--><g id=\"cluster_E1\"><a href=\"psysml:3b239dd5-995b-4be0-a5de-a49576b20dda\" target=\"_top\" title=\"psysml:3b239dd5-995b-4be0-a5de-a49576b20dda\" xlink:actuate=\"onRequest\" xlink:href=\"psysml:3b239dd5-995b-4be0-a5de-a49576b20dda\" xlink:show=\"new\" xlink:title=\"psysml:3b239dd5-995b-4be0-a5de-a49576b20dda\" xlink:type=\"simple\"><rect fill=\"#FFFFFF\" filter=\"url(#f17wfvft5fgki)\" height=\"73\" id=\"E1\" style=\"stroke:#A80036;stroke-width:1.5;\" width=\"134\" x=\"7\" y=\"42.0986\"/><rect fill=\"#FFFACD\" height=\"40.2656\" style=\"stroke:#A80036;stroke-width:1.5;\" width=\"134\" x=\"7\" y=\"42.0986\"/><text fill=\"#000000\" font-family=\"sans-serif\" font-size=\"12\" font-style=\"italic\" lengthAdjust=\"spacing\" textLength=\"81\" x=\"33.5\" y=\"58.2373\">«action  def»</text><text fill=\"#000000\" font-family=\"sans-serif\" font-size=\"14\" lengthAdjust=\"spacing\" textLength=\"31\" x=\"58.5\" y=\"74.0625\">setX</text></a></g><text fill=\"#000000\" font-family=\"sans-serif\" font-size=\"14\" lengthAdjust=\"spacing\" textLength=\"8\" x=\"21\" y=\"20.7969\">c</text><rect fill=\"#FFFACD\" height=\"12\" style=\"stroke:#181818;stroke-width:1.5;\" width=\"12\" x=\"19\" y=\"36.0986\"/><text fill=\"#000000\" font-family=\"sans-serif\" font-size=\"14\" lengthAdjust=\"spacing\" textLength=\"38\" x=\"53\" y=\"20.7969\">newX</text><rect fill=\"#FFFACD\" height=\"12\" style=\"stroke:#181818;stroke-width:1.5;\" width=\"12\" x=\"66\" y=\"36.0986\"/><!--MD5=[1d84b4eafc9109109a9f1b92fc62423c]\n",
       "@startuml\r\n",
       "skin sysmlc\r\n",
       "skinparam wrapWidth 300\r\n",
       "hide circle\r\n",
       "skinparam ranksep 8\r\n",
       "\r\n",
       "rec def \"setX\" as E1  <<(T,blue) action  def>> [[psysml:3b239dd5-995b-4be0-a5de-a49576b20dda ]] {\r\n",
       "portin \"c\" as E2  [[psysml:4e0877a7-1493-46cf-81bf-47696701d005 ]] \r\n",
       "portin \"newX\" as E3  [[psysml:6814382f-4eaa-405a-a959-183965b050e4 ]] \r\n",
       "}\r\n",
       "\r\n",
       "@enduml\r\n",
       "\n",
       "PlantUML version 1.2022.7(Mon Aug 22 17:01:30 UTC 2022)\n",
       "(EPL source distribution)\n",
       "Java Runtime: OpenJDK Runtime Environment\n",
       "JVM: OpenJDK 64-Bit Server VM\n",
       "Default Encoding: UTF-8\n",
       "Language: en\n",
       "Country: null\n",
       "--></g></svg>"
      ]
     },
     "execution_count": 27,
     "metadata": {},
     "output_type": "execute_result"
    }
   ],
   "source": [
    "%viz --style=\"STDCOLOR\" --view=\"Action\" \"TextualRepresentationTest\""
   ]
  },
  {
   "cell_type": "code",
   "execution_count": 28,
   "id": "2986b2ac",
   "metadata": {
    "execution": {
     "iopub.execute_input": "2024-12-16T03:26:56.343627Z",
     "iopub.status.busy": "2024-12-16T03:26:56.343396Z",
     "iopub.status.idle": "2024-12-16T03:26:56.350735Z",
     "shell.execute_reply": "2024-12-16T03:26:56.350535Z"
    }
   },
   "outputs": [
    {
     "data": {
      "image/svg+xml": [
       "<?xml version=\"1.0\" encoding=\"UTF-8\" standalone=\"no\"?><svg xmlns=\"http://www.w3.org/2000/svg\" xmlns:xlink=\"http://www.w3.org/1999/xlink\" contentStyleType=\"text/css\" height=\"10px\" preserveAspectRatio=\"none\" style=\"width:10px;height:10px;background:#FFFFFF;\" version=\"1.1\" viewBox=\"0 0 10 10\" width=\"10px\" zoomAndPan=\"magnify\"><defs/><g><!--MD5=[e54413e611bf323face5c486cd3a32bb]\n",
       "@startuml\r\n",
       "skin sysmlc\r\n",
       "skinparam wrapWidth 300\r\n",
       "hide circle\r\n",
       "skinparam roundcorner 20\r\n",
       "skinparam BoxPadding 20\r\n",
       "skinparam SequenceBoxBackgroundColor #white\r\n",
       "skinparam style strictuml\r\n",
       "skinparam maxMessageSize 100\r\n",
       "\r\n",
       "@enduml\r\n",
       "\n",
       "PlantUML version 1.2022.7(Mon Aug 22 17:01:30 UTC 2022)\n",
       "(EPL source distribution)\n",
       "Java Runtime: OpenJDK Runtime Environment\n",
       "JVM: OpenJDK 64-Bit Server VM\n",
       "Default Encoding: UTF-8\n",
       "Language: en\n",
       "Country: null\n",
       "--></g></svg>"
      ]
     },
     "execution_count": 28,
     "metadata": {},
     "output_type": "execute_result"
    }
   ],
   "source": [
    "%viz --style=\"STDCOLOR\" --view=\"Sequence\" \"TextualRepresentationTest\""
   ]
  },
  {
   "cell_type": "code",
   "execution_count": 29,
   "id": "a9e92013",
   "metadata": {
    "execution": {
     "iopub.execute_input": "2024-12-16T03:26:56.406952Z",
     "iopub.status.busy": "2024-12-16T03:26:56.406726Z",
     "iopub.status.idle": "2024-12-16T03:26:56.427849Z",
     "shell.execute_reply": "2024-12-16T03:26:56.427032Z"
    }
   },
   "outputs": [
    {
     "data": {
      "image/svg+xml": [
       "<?xml version=\"1.0\" encoding=\"UTF-8\" standalone=\"no\"?><svg xmlns=\"http://www.w3.org/2000/svg\" xmlns:xlink=\"http://www.w3.org/1999/xlink\" contentStyleType=\"text/css\" height=\"256px\" preserveAspectRatio=\"none\" style=\"width:346px;height:256px;background:#FFFFFF;\" version=\"1.1\" viewBox=\"0 0 346 256\" width=\"346px\" zoomAndPan=\"magnify\"><defs><filter height=\"300%\" id=\"f1tmsmbsb5cr4h\" width=\"300%\" x=\"-1\" y=\"-1\"><feGaussianBlur result=\"blurOut\" stdDeviation=\"2.0\"/><feColorMatrix in=\"blurOut\" result=\"blurOut2\" type=\"matrix\" values=\"0 0 0 0 0 0 0 0 0 0 0 0 0 0 0 0 0 0 .4 0\"/><feOffset dx=\"4.0\" dy=\"4.0\" in=\"blurOut2\" result=\"blurOut3\"/><feBlend in=\"SourceGraphic\" in2=\"blurOut3\" mode=\"normal\"/></filter></defs><g><!--MD5=[fbc87193dbaf4d95561dea2c320d4a47]\n",
       "cluster E1--><g id=\"cluster_E1\"><a href=\"psysml:267f3727-84c1-426f-a395-45db3603d5f0\" target=\"_top\" title=\"psysml:267f3727-84c1-426f-a395-45db3603d5f0\" xlink:actuate=\"onRequest\" xlink:href=\"psysml:267f3727-84c1-426f-a395-45db3603d5f0\" xlink:show=\"new\" xlink:title=\"psysml:267f3727-84c1-426f-a395-45db3603d5f0\" xlink:type=\"simple\"><polygon fill=\"none\" filter=\"url(#f1tmsmbsb5cr4h)\" points=\"16,6,220.9375,6,227.9375,28.2969,329,28.2969,329,249.5,16,249.5,16,6\" style=\"stroke:#000000;stroke-width:1.5;\"/><line style=\"stroke:#000000;stroke-width:1.5;\" x1=\"16\" x2=\"227.9375\" y1=\"28.2969\" y2=\"28.2969\"/><text fill=\"#000000\" font-family=\"sans-serif\" font-size=\"14\" font-weight=\"bold\" lengthAdjust=\"spacing\" textLength=\"198.9375\" x=\"20\" y=\"20.9951\">TextualRepresentationTest</text></a></g><!--MD5=[f6df4d0ebaf0b5dfb2ced0ae5af7c670]\n",
       "cluster E4--><g id=\"cluster_E4\"><a href=\"psysml:3b239dd5-995b-4be0-a5de-a49576b20dda\" target=\"_top\" title=\"psysml:3b239dd5-995b-4be0-a5de-a49576b20dda\" xlink:actuate=\"onRequest\" xlink:href=\"psysml:3b239dd5-995b-4be0-a5de-a49576b20dda\" xlink:show=\"new\" xlink:title=\"psysml:3b239dd5-995b-4be0-a5de-a49576b20dda\" xlink:type=\"simple\"><rect fill=\"#FFFFFF\" filter=\"url(#f1tmsmbsb5cr4h)\" height=\"155\" id=\"E4\" style=\"stroke:#A80036;stroke-width:1.5;\" width=\"134\" x=\"179\" y=\"78.5\"/><rect fill=\"#FFFACD\" height=\"40.2656\" style=\"stroke:#A80036;stroke-width:1.5;\" width=\"134\" x=\"179\" y=\"78.5\"/><text fill=\"#000000\" font-family=\"sans-serif\" font-size=\"12\" font-style=\"italic\" lengthAdjust=\"spacing\" textLength=\"81\" x=\"205.5\" y=\"94.6387\">«action  def»</text><text fill=\"#000000\" font-family=\"sans-serif\" font-size=\"14\" lengthAdjust=\"spacing\" textLength=\"31\" x=\"230.5\" y=\"110.4639\">setX</text></a></g><!--MD5=[b4997ac47864f28c2f74865a473b2911]\n",
       "class E2--><a href=\"psysml:61886539-cbef-4e54-b839-069269561211\" target=\"_top\" title=\"psysml:61886539-cbef-4e54-b839-069269561211\" xlink:actuate=\"onRequest\" xlink:href=\"psysml:61886539-cbef-4e54-b839-069269561211\" xlink:show=\"new\" xlink:title=\"psysml:61886539-cbef-4e54-b839-069269561211\" xlink:type=\"simple\"><g id=\"elem_E2\"><rect fill=\"#FFFACD\" filter=\"url(#f1tmsmbsb5cr4h)\" height=\"75.0813\" id=\"E2\" style=\"stroke:#181818;stroke-width:0.5;\" width=\"74\" x=\"57\" y=\"41\"/><text fill=\"#000000\" font-family=\"sans-serif\" font-size=\"12\" font-style=\"italic\" lengthAdjust=\"spacing\" textLength=\"69\" x=\"59.5\" y=\"57.1387\">«item  def»</text><text fill=\"#000000\" font-family=\"sans-serif\" font-size=\"14\" lengthAdjust=\"spacing\" textLength=\"10\" x=\"89\" y=\"72.9639\">C</text><line style=\"stroke:#181818;stroke-width:0.5;\" x1=\"58\" x2=\"130\" y1=\"81.2656\" y2=\"81.2656\"/><text fill=\"#000000\" font-family=\"sans-serif\" font-size=\"14\" lengthAdjust=\"spacing\" textLength=\"46\" x=\"63\" y=\"108.7795\">x: Real</text><text fill=\"#000000\" font-family=\"sans-serif\" font-size=\"14\" font-style=\"italic\" lengthAdjust=\"spacing\" textLength=\"66\" x=\"61\" y=\"93.6123\">attributes</text></g></a><!--MD5=[09b614a08d8cba4a07c9adeb5e0fee81]\n",
       "class E3--><a href=\"psysml:646d3ab6-4c99-4716-814b-89245cbe5994\" target=\"_top\" title=\"psysml:646d3ab6-4c99-4716-814b-89245cbe5994\" xlink:actuate=\"onRequest\" xlink:href=\"psysml:646d3ab6-4c99-4716-814b-89245cbe5994\" xlink:show=\"new\" xlink:title=\"psysml:646d3ab6-4c99-4716-814b-89245cbe5994\" xlink:type=\"simple\"><g id=\"elem_E3\"><rect fill=\"#FFFACD\" filter=\"url(#f1tmsmbsb5cr4h)\" height=\"48.2656\" id=\"E3\" rx=\"10\" ry=\"10\" style=\"stroke:#181818;stroke-width:0.5;\" width=\"124\" x=\"32\" y=\"176\"/><text fill=\"#000000\" font-family=\"sans-serif\" font-size=\"12\" font-style=\"italic\" lengthAdjust=\"spacing\" textLength=\"122\" x=\"33\" y=\"192.1387\">«assert constraint»</text><text fill=\"#000000\" font-family=\"sans-serif\" font-size=\"14\" lengthAdjust=\"spacing\" textLength=\"83\" x=\"48.5\" y=\"207.9639\">x_constraint</text><line style=\"stroke:#181818;stroke-width:0.5;\" x1=\"33\" x2=\"155\" y1=\"216.2656\" y2=\"216.2656\"/></g></a><text fill=\"#000000\" font-family=\"sans-serif\" font-size=\"14\" lengthAdjust=\"spacing\" textLength=\"8\" x=\"193\" y=\"57.1982\">c</text><rect fill=\"#FFFACD\" height=\"12\" style=\"stroke:#181818;stroke-width:1.5;\" width=\"12\" x=\"191\" y=\"72.5\"/><text fill=\"#000000\" font-family=\"sans-serif\" font-size=\"14\" lengthAdjust=\"spacing\" textLength=\"38\" x=\"225\" y=\"57.1982\">newX</text><rect fill=\"#FFFACD\" height=\"12\" style=\"stroke:#181818;stroke-width:1.5;\" width=\"12\" x=\"238\" y=\"72.5\"/><!--MD5=[209b3feb70ccb6233bfe1053d122c12c]\n",
       "reverse link E2 to E3--><g id=\"link_E2_E3\"><a href=\"psysml:17b203e1-cdea-4a97-b803-663e29228052\" target=\"_top\" title=\"psysml:17b203e1-cdea-4a97-b803-663e29228052\" xlink:actuate=\"onRequest\" xlink:href=\"psysml:17b203e1-cdea-4a97-b803-663e29228052\" xlink:show=\"new\" xlink:title=\"psysml:17b203e1-cdea-4a97-b803-663e29228052\" xlink:type=\"simple\"><path d=\"M94,129.25 C94,145.43 94,162.61 94,175.88 \" fill=\"none\" id=\"E2-backto-E3\" style=\"stroke:#181818;stroke-width:1.0;\"/><polygon fill=\"#181818\" points=\"94,116,90,122,94,128,98,122,94,116\" style=\"stroke:#181818;stroke-width:1.0;\"/></a></g><!--MD5=[8fc132d5ed20d7c645bf4776ace69cbd]\n",
       "@startuml\r\n",
       "skin sysmlc\r\n",
       "skinparam wrapWidth 300\r\n",
       "hide circle\r\n",
       "\r\n",
       "package \"TextualRepresentationTest\" as E1  [[psysml:267f3727-84c1-426f-a395-45db3603d5f0 ]]  {\r\n",
       "comp def \"C\" as E2  <<(T,blue) item  def>> [[psysml:61886539-cbef-4e54-b839-069269561211 ]] {\r\n",
       "##//attributes//##\r\n",
       "x: Real\r\n",
       "}\r\n",
       "comp usage \"x_constraint  \" as E3  <<(T,blue) assert constraint>> [[psysml:646d3ab6-4c99-4716-814b-89245cbe5994 ]] {\r\n",
       "}\r\n",
       "rec def \"setX\" as E4  <<(T,blue) action  def>> [[psysml:3b239dd5-995b-4be0-a5de-a49576b20dda ]] {\r\n",
       "portin \"c\" as E5  [[psysml:4e0877a7-1493-46cf-81bf-47696701d005 ]] \r\n",
       "portin \"newX\" as E6  [[psysml:6814382f-4eaa-405a-a959-183965b050e4 ]] \r\n",
       "}\r\n",
       "\r\n",
       "}\r\n",
       "E2 *- - E3 [[psysml:17b203e1-cdea-4a97-b803-663e29228052 ]] \r\n",
       "@enduml\r\n",
       "\n",
       "PlantUML version 1.2022.7(Mon Aug 22 17:01:30 UTC 2022)\n",
       "(EPL source distribution)\n",
       "Java Runtime: OpenJDK Runtime Environment\n",
       "JVM: OpenJDK 64-Bit Server VM\n",
       "Default Encoding: UTF-8\n",
       "Language: en\n",
       "Country: null\n",
       "--></g></svg>"
      ]
     },
     "execution_count": 29,
     "metadata": {},
     "output_type": "execute_result"
    }
   ],
   "source": [
    "%viz --style=\"STDCOLOR\" --view=\"MIXED\" \"TextualRepresentationTest\""
   ]
  },
  {
   "cell_type": "code",
   "execution_count": 30,
   "id": "097f24e7",
   "metadata": {
    "execution": {
     "iopub.execute_input": "2024-12-16T03:26:56.482683Z",
     "iopub.status.busy": "2024-12-16T03:26:56.482446Z",
     "iopub.status.idle": "2024-12-16T03:26:56.628292Z",
     "shell.execute_reply": "2024-12-16T03:26:56.628122Z"
    }
   },
   "outputs": [
    {
     "data": {
      "image/svg+xml": [
       "<?xml version=\"1.0\" encoding=\"UTF-8\" standalone=\"no\"?><svg xmlns=\"http://www.w3.org/2000/svg\" xmlns:xlink=\"http://www.w3.org/1999/xlink\" contentStyleType=\"text/css\" height=\"248px\" preserveAspectRatio=\"none\" style=\"width:352px;height:248px;background:#FFFFFF;\" version=\"1.1\" viewBox=\"0 0 352 248\" width=\"352px\" zoomAndPan=\"magnify\"><defs/><g><!--MD5=[fbc87193dbaf4d95561dea2c320d4a47]\n",
       "cluster E1--><g id=\"cluster_E1\"><a href=\"psysml:267f3727-84c1-426f-a395-45db3603d5f0\" target=\"_top\" title=\"psysml:267f3727-84c1-426f-a395-45db3603d5f0\" xlink:actuate=\"onRequest\" xlink:href=\"psysml:267f3727-84c1-426f-a395-45db3603d5f0\" xlink:show=\"new\" xlink:title=\"psysml:267f3727-84c1-426f-a395-45db3603d5f0\" xlink:type=\"simple\"><path d=\"M8.5,6 L208.4375,6 A3.75,3.75 0 0 1 210.9375,8.5 L217.9375,28.2969 L342.5,28.2969 A2.5,2.5 0 0 1 345,30.7969 L345,239 A2.5,2.5 0 0 1 342.5,241.5 L8.5,241.5 A2.5,2.5 0 0 1 6,239 L6,8.5 A2.5,2.5 0 0 1 8.5,6 \" fill=\"none\" style=\"stroke:#000000;stroke-width:1.5;\"/><line style=\"stroke:#000000;stroke-width:1.5;\" x1=\"6\" x2=\"217.9375\" y1=\"28.2969\" y2=\"28.2969\"/><text fill=\"#000000\" font-family=\"sans-serif\" font-size=\"14\" font-weight=\"bold\" lengthAdjust=\"spacing\" textLength=\"198.9375\" x=\"10\" y=\"20.9951\">TextualRepresentationTest</text></a></g><!--MD5=[f6df4d0ebaf0b5dfb2ced0ae5af7c670]\n",
       "cluster E4--><g id=\"cluster_E4\"><a href=\"psysml:3b239dd5-995b-4be0-a5de-a49576b20dda\" target=\"_top\" title=\"psysml:3b239dd5-995b-4be0-a5de-a49576b20dda\" xlink:actuate=\"onRequest\" xlink:href=\"psysml:3b239dd5-995b-4be0-a5de-a49576b20dda\" xlink:show=\"new\" xlink:title=\"psysml:3b239dd5-995b-4be0-a5de-a49576b20dda\" xlink:type=\"simple\"><rect fill=\"#FFFFFF\" height=\"151\" id=\"E4\" style=\"stroke:#A80036;stroke-width:1.5;\" width=\"134\" x=\"195\" y=\"74.5\"/><rect fill=\"#F1F1F1\" height=\"40.2656\" style=\"stroke:#A80036;stroke-width:1.5;\" width=\"134\" x=\"195\" y=\"74.5\"/><text fill=\"#000000\" font-family=\"sans-serif\" font-size=\"12\" font-style=\"italic\" lengthAdjust=\"spacing\" textLength=\"81\" x=\"221.5\" y=\"90.6387\">«action  def»</text><text fill=\"#000000\" font-family=\"sans-serif\" font-size=\"14\" lengthAdjust=\"spacing\" textLength=\"31\" x=\"246.5\" y=\"106.4639\">setX</text></a></g><!--MD5=[b4997ac47864f28c2f74865a473b2911]\n",
       "class E2--><a href=\"psysml:61886539-cbef-4e54-b839-069269561211\" target=\"_top\" title=\"psysml:61886539-cbef-4e54-b839-069269561211\" xlink:actuate=\"onRequest\" xlink:href=\"psysml:61886539-cbef-4e54-b839-069269561211\" xlink:show=\"new\" xlink:title=\"psysml:61886539-cbef-4e54-b839-069269561211\" xlink:type=\"simple\"><g id=\"elem_E2\"><rect fill=\"#F1F1F1\" height=\"66.8156\" id=\"E2\" rx=\"2.5\" ry=\"2.5\" style=\"stroke:#181818;stroke-width:0.5;\" width=\"74\" x=\"60\" y=\"41\"/><ellipse cx=\"89.4\" cy=\"57\" fill=\"#008000\" rx=\"11\" ry=\"11\" style=\"stroke:#181818;stroke-width:1.0;\"/><path d=\"M86.2594,63.5 L86.2594,51.3594 L90.0563,51.3594 Q92.0563,51.3594 93.1031,52.0625 Q94.1656,52.7656 94.1656,54.3438 Q94.1656,55.4375 93.6656,56.1563 Q93.1813,56.875 92.3531,57.0625 L92.3531,57.1406 Q93.275,57.3594 93.8375,58.0313 Q94.4156,58.6875 94.4156,59.9531 Q94.4156,61.6094 93.3688,62.5625 Q92.3219,63.5 90.4625,63.5 L86.2594,63.5 Z M90.0406,56.1406 Q90.9313,56.1406 91.2906,55.8125 Q91.6656,55.4688 91.6656,54.7656 Q91.6656,54.0313 91.275,53.7188 Q90.8844,53.3906 89.9469,53.3906 L88.5563,53.3906 L88.5563,56.1406 L90.0406,56.1406 Z M90.2281,61.4844 Q91.1344,61.4844 91.4938,61.0469 Q91.8531,60.5938 91.8531,59.8125 Q91.8531,59.0313 91.4781,58.6406 Q91.1188,58.2344 90.1344,58.2344 L88.5563,58.2344 L88.5563,61.4844 L90.2281,61.4844 Z \" fill=\"#000000\"/><text fill=\"#000000\" font-family=\"sans-serif\" font-size=\"14\" lengthAdjust=\"spacing\" textLength=\"10\" x=\"106.6\" y=\"61.8467\">C</text><line style=\"stroke:#181818;stroke-width:0.5;\" x1=\"61\" x2=\"133\" y1=\"73\" y2=\"73\"/><text fill=\"#000000\" font-family=\"sans-serif\" font-size=\"14\" lengthAdjust=\"spacing\" textLength=\"46\" x=\"66\" y=\"100.5139\">x: Real</text><text fill=\"#000000\" font-family=\"sans-serif\" font-size=\"14\" font-style=\"italic\" lengthAdjust=\"spacing\" textLength=\"66\" x=\"64\" y=\"85.3467\">attributes</text></g></a><!--MD5=[09b614a08d8cba4a07c9adeb5e0fee81]\n",
       "class E3--><a href=\"psysml:646d3ab6-4c99-4716-814b-89245cbe5994\" target=\"_top\" title=\"psysml:646d3ab6-4c99-4716-814b-89245cbe5994\" xlink:actuate=\"onRequest\" xlink:href=\"psysml:646d3ab6-4c99-4716-814b-89245cbe5994\" xlink:show=\"new\" xlink:title=\"psysml:646d3ab6-4c99-4716-814b-89245cbe5994\" xlink:type=\"simple\"><g id=\"elem_E3\"><rect fill=\"#F1F1F1\" height=\"48.2656\" id=\"E3\" rx=\"10\" ry=\"10\" style=\"stroke:#181818;stroke-width:0.5;\" width=\"150\" x=\"22\" y=\"168\"/><ellipse cx=\"37\" cy=\"188.1328\" fill=\"#FFA500\" rx=\"11\" ry=\"11\" style=\"stroke:#181818;stroke-width:1.0;\"/><path d=\"M37.0625,195.3047 Q34.9531,195.3047 33.8594,194.1797 Q32.7656,193.0547 32.7656,191.0078 L32.7656,182.9922 L35.2344,182.9922 L35.2344,190.5703 Q35.2344,192.0078 35.6875,192.6016 Q36.1406,193.1797 37.0938,193.1797 Q38.1094,193.1797 38.5313,192.5703 Q38.9688,191.9609 38.9688,190.5547 L38.9688,182.9922 L41.4375,182.9922 L41.4375,190.9922 Q41.4375,192.9766 40.3438,194.1484 Q39.2656,195.3047 37.0625,195.3047 Z \" fill=\"#000000\"/><text fill=\"#000000\" font-family=\"sans-serif\" font-size=\"12\" font-style=\"italic\" lengthAdjust=\"spacing\" textLength=\"122\" x=\"49\" y=\"184.1387\">«assert constraint»</text><text fill=\"#000000\" font-family=\"sans-serif\" font-size=\"14\" lengthAdjust=\"spacing\" textLength=\"83\" x=\"64.5\" y=\"199.9639\">x_constraint</text><line style=\"stroke:#181818;stroke-width:0.5;\" x1=\"23\" x2=\"171\" y1=\"208.2656\" y2=\"208.2656\"/></g></a><text fill=\"#000000\" font-family=\"sans-serif\" font-size=\"14\" lengthAdjust=\"spacing\" textLength=\"8\" x=\"209\" y=\"53.1982\">c</text><rect fill=\"#F1F1F1\" height=\"12\" style=\"stroke:#181818;stroke-width:1.5;\" width=\"12\" x=\"207\" y=\"68.5\"/><text fill=\"#000000\" font-family=\"sans-serif\" font-size=\"14\" lengthAdjust=\"spacing\" textLength=\"38\" x=\"241\" y=\"53.1982\">newX</text><rect fill=\"#F1F1F1\" height=\"12\" style=\"stroke:#181818;stroke-width:1.5;\" width=\"12\" x=\"254\" y=\"68.5\"/><!--MD5=[209b3feb70ccb6233bfe1053d122c12c]\n",
       "reverse link E2 to E3--><g id=\"link_E2_E3\"><a href=\"psysml:17b203e1-cdea-4a97-b803-663e29228052\" target=\"_top\" title=\"psysml:17b203e1-cdea-4a97-b803-663e29228052\" xlink:actuate=\"onRequest\" xlink:href=\"psysml:17b203e1-cdea-4a97-b803-663e29228052\" xlink:show=\"new\" xlink:title=\"psysml:17b203e1-cdea-4a97-b803-663e29228052\" xlink:type=\"simple\"><path d=\"M97,121.72 C97,137.5 97,154.47 97,167.67 \" fill=\"none\" id=\"E2-backto-E3\" style=\"stroke:#181818;stroke-width:1.0;\"/><polygon fill=\"#181818\" points=\"97,108.29,93,114.29,97,120.29,101,114.29,97,108.29\" style=\"stroke:#181818;stroke-width:1.0;\"/></a></g><!--MD5=[4c6c8fed40c5412ef8369e3bb8b2ce43]\n",
       "@startuml\r\n",
       " \r\n",
       "package \"TextualRepresentationTest\" as E1  [[psysml:267f3727-84c1-426f-a395-45db3603d5f0 ]]  {\r\n",
       "comp def \"C\" as E2  << << (B,green) >> [[psysml:61886539-cbef-4e54-b839-069269561211 ]] {\r\n",
       "##//attributes//##\r\n",
       "x: Real\r\n",
       "}\r\n",
       "comp usage \"x_constraint  \" as E3  << <<(U,orange) assert constraint>> [[psysml:646d3ab6-4c99-4716-814b-89245cbe5994 ]] {\r\n",
       "}\r\n",
       "rec def \"setX\" as E4  << <<(B,lemonchiffon) action  def>> [[psysml:3b239dd5-995b-4be0-a5de-a49576b20dda ]] {\r\n",
       "portin \"c\" as E5  [[psysml:4e0877a7-1493-46cf-81bf-47696701d005 ]] \r\n",
       "portin \"newX\" as E6  [[psysml:6814382f-4eaa-405a-a959-183965b050e4 ]] \r\n",
       "}\r\n",
       "\r\n",
       "}\r\n",
       "E2 *- - E3 [[psysml:17b203e1-cdea-4a97-b803-663e29228052 ]] \r\n",
       "@enduml\r\n",
       "\n",
       "PlantUML version 1.2022.7(Mon Aug 22 17:01:30 UTC 2022)\n",
       "(EPL source distribution)\n",
       "Java Runtime: OpenJDK Runtime Environment\n",
       "JVM: OpenJDK 64-Bit Server VM\n",
       "Default Encoding: UTF-8\n",
       "Language: en\n",
       "Country: null\n",
       "--></g></svg>"
      ]
     },
     "execution_count": 30,
     "metadata": {},
     "output_type": "execute_result"
    }
   ],
   "source": [
    "%viz --style=\"PLANTUML\" --view=\"Default\" \"TextualRepresentationTest\""
   ]
  },
  {
   "cell_type": "code",
   "execution_count": 31,
   "id": "1244d525",
   "metadata": {
    "execution": {
     "iopub.execute_input": "2024-12-16T03:26:56.679226Z",
     "iopub.status.busy": "2024-12-16T03:26:56.678925Z",
     "iopub.status.idle": "2024-12-16T03:26:56.697337Z",
     "shell.execute_reply": "2024-12-16T03:26:56.696594Z"
    }
   },
   "outputs": [
    {
     "data": {
      "image/svg+xml": [
       "<?xml version=\"1.0\" encoding=\"UTF-8\" standalone=\"no\"?><svg xmlns=\"http://www.w3.org/2000/svg\" xmlns:xlink=\"http://www.w3.org/1999/xlink\" contentStyleType=\"text/css\" height=\"365px\" preserveAspectRatio=\"none\" style=\"width:227px;height:365px;background:#FFFFFF;\" version=\"1.1\" viewBox=\"0 0 227 365\" width=\"227px\" zoomAndPan=\"magnify\"><defs/><g><!--MD5=[fbc87193dbaf4d95561dea2c320d4a47]\n",
       "cluster E1--><g id=\"cluster_E1\"><a href=\"psysml:267f3727-84c1-426f-a395-45db3603d5f0\" target=\"_top\" title=\"psysml:267f3727-84c1-426f-a395-45db3603d5f0\" xlink:actuate=\"onRequest\" xlink:href=\"psysml:267f3727-84c1-426f-a395-45db3603d5f0\" xlink:show=\"new\" xlink:title=\"psysml:267f3727-84c1-426f-a395-45db3603d5f0\" xlink:type=\"simple\"><path d=\"M8.5,6 L208.4375,6 A3.75,3.75 0 0 1 210.9375,8.5 L217.9375,28.2969 L217.5,28.2969 A2.5,2.5 0 0 1 220,30.7969 L220,355.5 A2.5,2.5 0 0 1 217.5,358 L8.5,358 A2.5,2.5 0 0 1 6,355.5 L6,8.5 A2.5,2.5 0 0 1 8.5,6 \" fill=\"none\" style=\"stroke:#000000;stroke-width:1.5;\"/><line style=\"stroke:#000000;stroke-width:1.5;\" x1=\"6\" x2=\"217.9375\" y1=\"28.2969\" y2=\"28.2969\"/><text fill=\"#000000\" font-family=\"sans-serif\" font-size=\"14\" font-weight=\"bold\" lengthAdjust=\"spacing\" textLength=\"198.9375\" x=\"10\" y=\"20.9951\">TextualRepresentationTest</text></a></g><!--MD5=[b4997ac47864f28c2f74865a473b2911]\n",
       "class E2--><a href=\"psysml:61886539-cbef-4e54-b839-069269561211\" target=\"_top\" title=\"psysml:61886539-cbef-4e54-b839-069269561211\" xlink:actuate=\"onRequest\" xlink:href=\"psysml:61886539-cbef-4e54-b839-069269561211\" xlink:show=\"new\" xlink:title=\"psysml:61886539-cbef-4e54-b839-069269561211\" xlink:type=\"simple\"><g id=\"elem_E2\"><rect fill=\"#F1F1F1\" height=\"66.8156\" id=\"E2\" rx=\"2.5\" ry=\"2.5\" style=\"stroke:#181818;stroke-width:0.5;\" width=\"74\" x=\"76\" y=\"166\"/><ellipse cx=\"105.4\" cy=\"182\" fill=\"#008000\" rx=\"11\" ry=\"11\" style=\"stroke:#181818;stroke-width:1.0;\"/><path d=\"M102.2594,188.5 L102.2594,176.3594 L106.0563,176.3594 Q108.0563,176.3594 109.1031,177.0625 Q110.1656,177.7656 110.1656,179.3438 Q110.1656,180.4375 109.6656,181.1563 Q109.1813,181.875 108.3531,182.0625 L108.3531,182.1406 Q109.275,182.3594 109.8375,183.0313 Q110.4156,183.6875 110.4156,184.9531 Q110.4156,186.6094 109.3688,187.5625 Q108.3219,188.5 106.4625,188.5 L102.2594,188.5 Z M106.0406,181.1406 Q106.9313,181.1406 107.2906,180.8125 Q107.6656,180.4688 107.6656,179.7656 Q107.6656,179.0313 107.275,178.7188 Q106.8844,178.3906 105.9469,178.3906 L104.5563,178.3906 L104.5563,181.1406 L106.0406,181.1406 Z M106.2281,186.4844 Q107.1344,186.4844 107.4938,186.0469 Q107.8531,185.5938 107.8531,184.8125 Q107.8531,184.0313 107.4781,183.6406 Q107.1188,183.2344 106.1344,183.2344 L104.5563,183.2344 L104.5563,186.4844 L106.2281,186.4844 Z \" fill=\"#000000\"/><text fill=\"#000000\" font-family=\"sans-serif\" font-size=\"14\" lengthAdjust=\"spacing\" textLength=\"10\" x=\"122.6\" y=\"186.8467\">C</text><line style=\"stroke:#181818;stroke-width:0.5;\" x1=\"77\" x2=\"149\" y1=\"198\" y2=\"198\"/><text fill=\"#000000\" font-family=\"sans-serif\" font-size=\"14\" lengthAdjust=\"spacing\" textLength=\"46\" x=\"82\" y=\"225.5139\">x: Real</text><text fill=\"#000000\" font-family=\"sans-serif\" font-size=\"14\" font-style=\"italic\" lengthAdjust=\"spacing\" textLength=\"66\" x=\"80\" y=\"210.3467\">attributes</text></g></a><!--MD5=[09b614a08d8cba4a07c9adeb5e0fee81]\n",
       "class E3--><a href=\"psysml:646d3ab6-4c99-4716-814b-89245cbe5994\" target=\"_top\" title=\"psysml:646d3ab6-4c99-4716-814b-89245cbe5994\" xlink:actuate=\"onRequest\" xlink:href=\"psysml:646d3ab6-4c99-4716-814b-89245cbe5994\" xlink:show=\"new\" xlink:title=\"psysml:646d3ab6-4c99-4716-814b-89245cbe5994\" xlink:type=\"simple\"><g id=\"elem_E3\"><rect fill=\"#F1F1F1\" height=\"48.2656\" id=\"E3\" rx=\"10\" ry=\"10\" style=\"stroke:#181818;stroke-width:0.5;\" width=\"150\" x=\"38\" y=\"294\"/><ellipse cx=\"53\" cy=\"314.1328\" fill=\"#FFA500\" rx=\"11\" ry=\"11\" style=\"stroke:#181818;stroke-width:1.0;\"/><path d=\"M53.0625,321.3047 Q50.9531,321.3047 49.8594,320.1797 Q48.7656,319.0547 48.7656,317.0078 L48.7656,308.9922 L51.2344,308.9922 L51.2344,316.5703 Q51.2344,318.0078 51.6875,318.6016 Q52.1406,319.1797 53.0938,319.1797 Q54.1094,319.1797 54.5313,318.5703 Q54.9688,317.9609 54.9688,316.5547 L54.9688,308.9922 L57.4375,308.9922 L57.4375,316.9922 Q57.4375,318.9766 56.3438,320.1484 Q55.2656,321.3047 53.0625,321.3047 Z \" fill=\"#000000\"/><text fill=\"#000000\" font-family=\"sans-serif\" font-size=\"12\" font-style=\"italic\" lengthAdjust=\"spacing\" textLength=\"122\" x=\"65\" y=\"310.1387\">«assert constraint»</text><text fill=\"#000000\" font-family=\"sans-serif\" font-size=\"14\" lengthAdjust=\"spacing\" textLength=\"83\" x=\"80.5\" y=\"325.9639\">x_constraint</text><line style=\"stroke:#181818;stroke-width:0.5;\" x1=\"39\" x2=\"187\" y1=\"334.2656\" y2=\"334.2656\"/></g></a><!--MD5=[ebbe1d658d1005bcc118a6aa81145e00]\n",
       "class E4--><a href=\"psysml:3b239dd5-995b-4be0-a5de-a49576b20dda\" target=\"_top\" title=\"psysml:3b239dd5-995b-4be0-a5de-a49576b20dda\" xlink:actuate=\"onRequest\" xlink:href=\"psysml:3b239dd5-995b-4be0-a5de-a49576b20dda\" xlink:show=\"new\" xlink:title=\"psysml:3b239dd5-995b-4be0-a5de-a49576b20dda\" xlink:type=\"simple\"><g id=\"elem_E4\"><rect fill=\"#F1F1F1\" height=\"48.2656\" id=\"E4\" rx=\"2.5\" ry=\"2.5\" style=\"stroke:#181818;stroke-width:0.5;\" width=\"109\" x=\"58.5\" y=\"41\"/><ellipse cx=\"73.5\" cy=\"61.1328\" fill=\"#FFFACD\" rx=\"11\" ry=\"11\" style=\"stroke:#181818;stroke-width:1.0;\"/><path d=\"M70.3594,67.6328 L70.3594,55.4922 L74.1563,55.4922 Q76.1563,55.4922 77.2031,56.1953 Q78.2656,56.8984 78.2656,58.4766 Q78.2656,59.5703 77.7656,60.2891 Q77.2813,61.0078 76.4531,61.1953 L76.4531,61.2734 Q77.375,61.4922 77.9375,62.1641 Q78.5156,62.8203 78.5156,64.0859 Q78.5156,65.7422 77.4688,66.6953 Q76.4219,67.6328 74.5625,67.6328 L70.3594,67.6328 Z M74.1406,60.2734 Q75.0313,60.2734 75.3906,59.9453 Q75.7656,59.6016 75.7656,58.8984 Q75.7656,58.1641 75.375,57.8516 Q74.9844,57.5234 74.0469,57.5234 L72.6563,57.5234 L72.6563,60.2734 L74.1406,60.2734 Z M74.3281,65.6172 Q75.2344,65.6172 75.5938,65.1797 Q75.9531,64.7266 75.9531,63.9453 Q75.9531,63.1641 75.5781,62.7734 Q75.2188,62.3672 74.2344,62.3672 L72.6563,62.3672 L72.6563,65.6172 L74.3281,65.6172 Z \" fill=\"#000000\"/><text fill=\"#000000\" font-family=\"sans-serif\" font-size=\"12\" font-style=\"italic\" lengthAdjust=\"spacing\" textLength=\"81\" x=\"85.5\" y=\"57.1387\">«action  def»</text><text fill=\"#000000\" font-family=\"sans-serif\" font-size=\"14\" lengthAdjust=\"spacing\" textLength=\"31\" x=\"110.5\" y=\"72.9639\">setX</text><line style=\"stroke:#181818;stroke-width:0.5;\" x1=\"59.5\" x2=\"166.5\" y1=\"81.2656\" y2=\"81.2656\"/></g></a><!--MD5=[209b3feb70ccb6233bfe1053d122c12c]\n",
       "reverse link E2 to E3--><g id=\"link_E2_E3\"><a href=\"psysml:17b203e1-cdea-4a97-b803-663e29228052\" target=\"_top\" title=\"psysml:17b203e1-cdea-4a97-b803-663e29228052\" xlink:actuate=\"onRequest\" xlink:href=\"psysml:17b203e1-cdea-4a97-b803-663e29228052\" xlink:show=\"new\" xlink:title=\"psysml:17b203e1-cdea-4a97-b803-663e29228052\" xlink:type=\"simple\"><path d=\"M113,246.44 C113,262.64 113,280.17 113,293.71 \" fill=\"none\" id=\"E2-backto-E3\" style=\"stroke:#181818;stroke-width:1.0;\"/><polygon fill=\"#181818\" points=\"113,233.26,109,239.26,113,245.26,117,239.26,113,233.26\" style=\"stroke:#181818;stroke-width:1.0;\"/></a></g><!--MD5=[ddeed8deb2209213b62e6cfabaa108b2]\n",
       "reverse link E4 to E2--><g id=\"link_E4_E2\"><a href=\"psysml:4e0877a7-1493-46cf-81bf-47696701d005\" target=\"_top\" title=\"psysml:4e0877a7-1493-46cf-81bf-47696701d005\" xlink:actuate=\"onRequest\" xlink:href=\"psysml:4e0877a7-1493-46cf-81bf-47696701d005\" xlink:show=\"new\" xlink:title=\"psysml:4e0877a7-1493-46cf-81bf-47696701d005\" xlink:type=\"simple\"><path d=\"M113,102.28 C113,122.12 113,146.5 113,165.76 \" fill=\"none\" id=\"E4-backto-E2\" style=\"stroke:#181818;stroke-width:1.0;\"/><polygon fill=\"none\" points=\"113,89.08,109,95.08,113,101.08,117,95.08,113,89.08\" style=\"stroke:#181818;stroke-width:1.0;\"/><text fill=\"#000000\" font-family=\"sans-serif\" font-size=\"13\" lengthAdjust=\"spacing\" textLength=\"7\" x=\"114\" y=\"132.0669\">c</text></a></g><!--MD5=[cf9dfbee4151efa2fae907d4fdf47137]\n",
       "@startuml\r\n",
       " \r\n",
       "package \"TextualRepresentationTest\" as E1  [[psysml:267f3727-84c1-426f-a395-45db3603d5f0 ]]  {\r\n",
       "comp def \"C\" as E2  << << (B,green) >> [[psysml:61886539-cbef-4e54-b839-069269561211 ]] {\r\n",
       "##//attributes//##\r\n",
       "x: Real\r\n",
       "}\r\n",
       "comp usage \"x_constraint  \" as E3  << <<(U,orange) assert constraint>> [[psysml:646d3ab6-4c99-4716-814b-89245cbe5994 ]] {\r\n",
       "}\r\n",
       "comp def \"setX\" as E4  << <<(B,lemonchiffon) action  def>> [[psysml:3b239dd5-995b-4be0-a5de-a49576b20dda ]] {\r\n",
       "}\r\n",
       "}\r\n",
       "E2 *- - E3 [[psysml:17b203e1-cdea-4a97-b803-663e29228052 ]] \r\n",
       "E4 o- - E2 [[psysml:4e0877a7-1493-46cf-81bf-47696701d005 ]] : c\r\n",
       "@enduml\r\n",
       "\n",
       "PlantUML version 1.2022.7(Mon Aug 22 17:01:30 UTC 2022)\n",
       "(EPL source distribution)\n",
       "Java Runtime: OpenJDK Runtime Environment\n",
       "JVM: OpenJDK 64-Bit Server VM\n",
       "Default Encoding: UTF-8\n",
       "Language: en\n",
       "Country: null\n",
       "--></g></svg>"
      ]
     },
     "execution_count": 31,
     "metadata": {},
     "output_type": "execute_result"
    }
   ],
   "source": [
    "%viz --style=\"PLANTUML\" --view=\"Tree\" \"TextualRepresentationTest\""
   ]
  },
  {
   "cell_type": "code",
   "execution_count": 32,
   "id": "42a2d8d0",
   "metadata": {
    "execution": {
     "iopub.execute_input": "2024-12-16T03:26:56.748015Z",
     "iopub.status.busy": "2024-12-16T03:26:56.747645Z",
     "iopub.status.idle": "2024-12-16T03:26:56.781359Z",
     "shell.execute_reply": "2024-12-16T03:26:56.781160Z"
    }
   },
   "outputs": [
    {
     "data": {
      "image/svg+xml": [
       "<?xml version=\"1.0\" encoding=\"UTF-8\" standalone=\"no\"?><svg xmlns=\"http://www.w3.org/2000/svg\" xmlns:xlink=\"http://www.w3.org/1999/xlink\" contentStyleType=\"text/css\" height=\"389px\" preserveAspectRatio=\"none\" style=\"width:603px;height:389px;background:#000000;\" version=\"1.1\" viewBox=\"0 0 603 389\" width=\"603px\" zoomAndPan=\"magnify\"><defs/><g><rect fill=\"#08001C\" height=\"1\" style=\"stroke:#08001C;stroke-width:1.0;\" width=\"1\" x=\"0\" y=\"0\"/><rect fill=\"#FFFFFF\" height=\"226.6573\" style=\"stroke:#FFFFFF;stroke-width:1.0;\" width=\"602\" x=\"0\" y=\"0\"/><text fill=\"#000000\" font-family=\"sans-serif\" font-size=\"12\" font-weight=\"bold\" lengthAdjust=\"spacing\" textLength=\"145.75\" x=\"5\" y=\"16.1387\">Welcome to PlantUML!</text><text fill=\"#000000\" font-family=\"sans-serif\" font-size=\"12\" lengthAdjust=\"spacing\" textLength=\"4\" x=\"5\" y=\"30.1074\"> </text><text fill=\"#000000\" font-family=\"sans-serif\" font-size=\"12\" lengthAdjust=\"spacing\" textLength=\"283\" x=\"5\" y=\"44.0762\">You can start with a simple UML Diagram like:</text><text fill=\"#000000\" font-family=\"sans-serif\" font-size=\"12\" lengthAdjust=\"spacing\" textLength=\"4\" x=\"5\" y=\"58.0449\"> </text><text fill=\"#000000\" font-family=\"monospace\" font-size=\"12\" lengthAdjust=\"spacing\" textLength=\"119\" x=\"5\" y=\"73.7031\">Bob-&gt;Alice: Hello</text><text fill=\"#000000\" font-family=\"sans-serif\" font-size=\"12\" lengthAdjust=\"spacing\" textLength=\"4\" x=\"5\" y=\"88.3578\"> </text><text fill=\"#000000\" font-family=\"sans-serif\" font-size=\"12\" lengthAdjust=\"spacing\" textLength=\"14\" x=\"5\" y=\"102.3265\">Or</text><text fill=\"#000000\" font-family=\"sans-serif\" font-size=\"12\" lengthAdjust=\"spacing\" textLength=\"4\" x=\"5\" y=\"116.2953\"> </text><text fill=\"#000000\" font-family=\"monospace\" font-size=\"12\" lengthAdjust=\"spacing\" textLength=\"91\" x=\"5\" y=\"131.9535\">class Example</text><text fill=\"#000000\" font-family=\"sans-serif\" font-size=\"12\" lengthAdjust=\"spacing\" textLength=\"4\" x=\"5\" y=\"146.6082\"> </text><text fill=\"#000000\" font-family=\"sans-serif\" font-size=\"12\" lengthAdjust=\"spacing\" textLength=\"349\" x=\"5\" y=\"160.5769\">You will find more information about PlantUML syntax on</text><text fill=\"#000000\" font-family=\"sans-serif\" font-size=\"12\" lengthAdjust=\"spacing\" text-decoration=\"underline\" textLength=\"129\" x=\"358\" y=\"160.5769\">https://plantuml.com</text><text fill=\"#000000\" font-family=\"sans-serif\" font-size=\"12\" lengthAdjust=\"spacing\" textLength=\"4\" x=\"5\" y=\"174.5457\"> </text><text fill=\"#000000\" font-family=\"sans-serif\" font-size=\"12\" lengthAdjust=\"spacing\" textLength=\"299\" x=\"5\" y=\"188.5144\">(If you use this software, you accept its license)</text><text fill=\"#000000\" font-family=\"sans-serif\" font-size=\"12\" lengthAdjust=\"spacing\" textLength=\"108\" x=\"5\" y=\"204.8585\">(Details by typing</text><text fill=\"#000000\" font-family=\"monospace\" font-size=\"12\" lengthAdjust=\"spacing\" textLength=\"49\" x=\"117\" y=\"204.1726\">license</text><text fill=\"#000000\" font-family=\"sans-serif\" font-size=\"12\" lengthAdjust=\"spacing\" textLength=\"56\" x=\"170\" y=\"204.8585\">keyword)</text><text fill=\"#000000\" font-family=\"sans-serif\" font-size=\"12\" lengthAdjust=\"spacing\" textLength=\"4\" x=\"5\" y=\"218.8273\"> </text><image height=\"71\" width=\"80\" x=\"516\" xlink:href=\"data:image/png;base64,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\" y=\"6\"/><rect fill=\"#000000\" height=\"160.3594\" style=\"stroke:#000000;stroke-width:1.0;\" width=\"602\" x=\"0\" y=\"226.6573\"/><text fill=\"#33FF02\" font-family=\"sans-serif\" font-size=\"12\" font-style=\"italic\" font-weight=\"bold\" lengthAdjust=\"spacing\" textLength=\"123\" x=\"5\" y=\"243.6573\">PlantUML 1.2022.7</text><text fill=\"#33FF02\" font-family=\"sans-serif\" font-size=\"12\" font-style=\"italic\" font-weight=\"bold\" lengthAdjust=\"spacing\" textLength=\"4\" x=\"5\" y=\"257.6261\"> </text><text fill=\"#33FF02\" font-family=\"sans-serif\" font-size=\"12\" font-style=\"italic\" font-weight=\"bold\" lengthAdjust=\"spacing\" textLength=\"390\" x=\"5\" y=\"271.5948\">&lt;b&gt;This version of PlantUML is 846 days old, so you should</text><text fill=\"#33FF02\" font-family=\"sans-serif\" font-size=\"12\" font-style=\"italic\" font-weight=\"bold\" lengthAdjust=\"spacing\" textLength=\"398.875\" x=\"5\" y=\"285.5636\">&lt;b&gt;consider upgrading from https://plantuml.com/download</text><rect fill=\"#33FF02\" height=\"21.2969\" style=\"stroke:#33FF02;stroke-width:1.0;\" width=\"153.3125\" x=\"5\" y=\"295.5323\"/><text fill=\"#000000\" font-family=\"sans-serif\" font-size=\"14\" font-weight=\"bold\" lengthAdjust=\"spacing\" textLength=\"151.3125\" x=\"6\" y=\"310.5323\">[From string (line 2) ]</text><text fill=\"#33FF02\" font-family=\"sans-serif\" font-size=\"14\" font-weight=\"bold\" lengthAdjust=\"spacing\" textLength=\"4\" x=\"5\" y=\"330.8292\"> </text><text fill=\"#33FF02\" font-family=\"sans-serif\" font-size=\"14\" font-weight=\"bold\" lengthAdjust=\"spacing\" textLength=\"73.9375\" x=\"5\" y=\"347.1261\">@startuml</text><text fill=\"#33FF02\" font-family=\"sans-serif\" font-size=\"14\" font-weight=\"bold\" lengthAdjust=\"spacing\" text-decoration=\"wavy underline\" textLength=\"4\" x=\"5\" y=\"363.423\"> </text><text fill=\"#FF0000\" font-family=\"sans-serif\" font-size=\"14\" font-weight=\"bold\" lengthAdjust=\"spacing\" textLength=\"131\" x=\"9\" y=\"379.7198\">Empty description</text><!--MD5=[5b6570bdd48fecdb4121f0162c378f28]\n",
       "@startuml\r\n",
       " \r\n",
       "@enduml\r\n",
       "\n",
       "PlantUML version 1.2022.7(Mon Aug 22 17:01:30 UTC 2022)\n",
       "(EPL source distribution)\n",
       "Java Runtime: OpenJDK Runtime Environment\n",
       "JVM: OpenJDK 64-Bit Server VM\n",
       "Default Encoding: UTF-8\n",
       "Language: en\n",
       "Country: null\n",
       "--></g></svg>"
      ]
     },
     "execution_count": 32,
     "metadata": {},
     "output_type": "execute_result"
    }
   ],
   "source": [
    "%viz --style=\"PLANTUML\" --view=\"State\" \"TextualRepresentationTest\""
   ]
  },
  {
   "cell_type": "code",
   "execution_count": 33,
   "id": "5a0fd0d7",
   "metadata": {
    "execution": {
     "iopub.execute_input": "2024-12-16T03:26:56.831889Z",
     "iopub.status.busy": "2024-12-16T03:26:56.831657Z",
     "iopub.status.idle": "2024-12-16T03:26:56.848423Z",
     "shell.execute_reply": "2024-12-16T03:26:56.848163Z"
    }
   },
   "outputs": [
    {
     "data": {
      "image/svg+xml": [
       "<?xml version=\"1.0\" encoding=\"UTF-8\" standalone=\"no\"?><svg xmlns=\"http://www.w3.org/2000/svg\" xmlns:xlink=\"http://www.w3.org/1999/xlink\" contentStyleType=\"text/css\" height=\"171px\" preserveAspectRatio=\"none\" style=\"width:241px;height:171px;background:#FFFFFF;\" version=\"1.1\" viewBox=\"0 0 241 171\" width=\"241px\" zoomAndPan=\"magnify\"><defs/><g><!--MD5=[fbc87193dbaf4d95561dea2c320d4a47]\n",
       "cluster E1--><g id=\"cluster_E1\"><a href=\"psysml:267f3727-84c1-426f-a395-45db3603d5f0\" target=\"_top\" title=\"psysml:267f3727-84c1-426f-a395-45db3603d5f0\" xlink:actuate=\"onRequest\" xlink:href=\"psysml:267f3727-84c1-426f-a395-45db3603d5f0\" xlink:show=\"new\" xlink:title=\"psysml:267f3727-84c1-426f-a395-45db3603d5f0\" xlink:type=\"simple\"><path d=\"M8.5,6 L208.4375,6 A3.75,3.75 0 0 1 210.9375,8.5 L217.9375,28.2969 L231.5,28.2969 A2.5,2.5 0 0 1 234,30.7969 L234,161.5 A2.5,2.5 0 0 1 231.5,164 L8.5,164 A2.5,2.5 0 0 1 6,161.5 L6,8.5 A2.5,2.5 0 0 1 8.5,6 \" fill=\"none\" style=\"stroke:#000000;stroke-width:1.5;\"/><line style=\"stroke:#000000;stroke-width:1.5;\" x1=\"6\" x2=\"217.9375\" y1=\"28.2969\" y2=\"28.2969\"/><text fill=\"#000000\" font-family=\"sans-serif\" font-size=\"14\" font-weight=\"bold\" lengthAdjust=\"spacing\" textLength=\"198.9375\" x=\"10\" y=\"20.9951\">TextualRepresentationTest</text></a></g><!--MD5=[d5e69f78d87373223dbae638b30a9c99]\n",
       "cluster E3--><g id=\"cluster_E3\"><a href=\"psysml:3b239dd5-995b-4be0-a5de-a49576b20dda\" target=\"_top\" title=\"psysml:3b239dd5-995b-4be0-a5de-a49576b20dda\" xlink:actuate=\"onRequest\" xlink:href=\"psysml:3b239dd5-995b-4be0-a5de-a49576b20dda\" xlink:show=\"new\" xlink:title=\"psysml:3b239dd5-995b-4be0-a5de-a49576b20dda\" xlink:type=\"simple\"><rect fill=\"#FFFFFF\" height=\"87\" id=\"E3\" style=\"stroke:#A80036;stroke-width:1.5;\" width=\"100\" x=\"86.5\" y=\"61\"/><rect fill=\"#F1F1F1\" height=\"40.2656\" style=\"stroke:#A80036;stroke-width:1.5;\" width=\"100\" x=\"86.5\" y=\"61\"/><text fill=\"#000000\" font-family=\"sans-serif\" font-size=\"12\" font-style=\"italic\" lengthAdjust=\"spacing\" textLength=\"81\" x=\"96\" y=\"77.1387\">«action  def»</text><text fill=\"#000000\" font-family=\"sans-serif\" font-size=\"14\" lengthAdjust=\"spacing\" textLength=\"31\" x=\"121\" y=\"92.9639\">setX</text></a></g><g><a href=\"psysml:61886539-cbef-4e54-b839-069269561211\" target=\"_top\" title=\"psysml:61886539-cbef-4e54-b839-069269561211\" xlink:actuate=\"onRequest\" xlink:href=\"psysml:61886539-cbef-4e54-b839-069269561211\" xlink:show=\"new\" xlink:title=\"psysml:61886539-cbef-4e54-b839-069269561211\" xlink:type=\"simple\"><rect fill=\"#F1F1F1\" height=\"40\" id=\"E2\" style=\"stroke:#A80036;stroke-width:1.5;\" width=\"50\" x=\"22\" y=\"41\"/><ellipse cx=\"40.6\" cy=\"57\" fill=\"#008000\" rx=\"11\" ry=\"11\" style=\"stroke:#181818;stroke-width:1.0;\"/><path d=\"M37.4594,63.5 L37.4594,51.3594 L41.2563,51.3594 Q43.2563,51.3594 44.3031,52.0625 Q45.3656,52.7656 45.3656,54.3438 Q45.3656,55.4375 44.8656,56.1563 Q44.3813,56.875 43.5531,57.0625 L43.5531,57.1406 Q44.475,57.3594 45.0375,58.0313 Q45.6156,58.6875 45.6156,59.9531 Q45.6156,61.6094 44.5688,62.5625 Q43.5219,63.5 41.6625,63.5 L37.4594,63.5 Z M41.2406,56.1406 Q42.1313,56.1406 42.4906,55.8125 Q42.8656,55.4688 42.8656,54.7656 Q42.8656,54.0313 42.475,53.7188 Q42.0844,53.3906 41.1469,53.3906 L39.7563,53.3906 L39.7563,56.1406 L41.2406,56.1406 Z M41.4281,61.4844 Q42.3344,61.4844 42.6938,61.0469 Q43.0531,60.5938 43.0531,59.8125 Q43.0531,59.0313 42.6781,58.6406 Q42.3188,58.2344 41.3344,58.2344 L39.7563,58.2344 L39.7563,61.4844 L41.4281,61.4844 Z \" fill=\"#000000\"/><text fill=\"#000000\" font-family=\"sans-serif\" font-size=\"14\" lengthAdjust=\"spacing\" textLength=\"10\" x=\"55.4\" y=\"61.8467\">C</text></a></g><text fill=\"#000000\" font-family=\"sans-serif\" font-size=\"14\" lengthAdjust=\"spacing\" textLength=\"8\" x=\"109\" y=\"39.6982\">c</text><rect fill=\"#F1F1F1\" height=\"12\" style=\"stroke:#181818;stroke-width:1.5;\" width=\"12\" x=\"107\" y=\"55\"/><text fill=\"#000000\" font-family=\"sans-serif\" font-size=\"14\" lengthAdjust=\"spacing\" textLength=\"38\" x=\"141\" y=\"39.6982\">newX</text><rect fill=\"#F1F1F1\" height=\"12\" style=\"stroke:#181818;stroke-width:1.5;\" width=\"12\" x=\"154\" y=\"55\"/><!--MD5=[f70f1f7adaa2f97f96e680298c55756b]\n",
       "@startuml\r\n",
       " skinparam ranksep 10\r\n",
       "skinparam rectangle {\r\n",
       " backgroundColor<<block>> LightGreen\r\n",
       "}\r\n",
       "\r\n",
       "package \"TextualRepresentationTest\" as E1  [[psysml:267f3727-84c1-426f-a395-45db3603d5f0 ]]  {\r\n",
       "def \"C\" as E2  << << (B,green) >> [[psysml:61886539-cbef-4e54-b839-069269561211 ]] \r\n",
       "rec def \"setX\" as E3  << <<(B,lemonchiffon) action  def>> [[psysml:3b239dd5-995b-4be0-a5de-a49576b20dda ]] {\r\n",
       "portin \"c\" as E4  [[psysml:4e0877a7-1493-46cf-81bf-47696701d005 ]] \r\n",
       "portin \"newX\" as E5  [[psysml:6814382f-4eaa-405a-a959-183965b050e4 ]] \r\n",
       "}\r\n",
       "\r\n",
       "}\r\n",
       "@enduml\r\n",
       "\n",
       "PlantUML version 1.2022.7(Mon Aug 22 17:01:30 UTC 2022)\n",
       "(EPL source distribution)\n",
       "Java Runtime: OpenJDK Runtime Environment\n",
       "JVM: OpenJDK 64-Bit Server VM\n",
       "Default Encoding: UTF-8\n",
       "Language: en\n",
       "Country: null\n",
       "--></g></svg>"
      ]
     },
     "execution_count": 33,
     "metadata": {},
     "output_type": "execute_result"
    }
   ],
   "source": [
    "%viz --style=\"PLANTUML\" --view=\"Interconnection\" \"TextualRepresentationTest\""
   ]
  },
  {
   "cell_type": "code",
   "execution_count": 34,
   "id": "68251eae",
   "metadata": {
    "execution": {
     "iopub.execute_input": "2024-12-16T03:26:56.898944Z",
     "iopub.status.busy": "2024-12-16T03:26:56.898711Z",
     "iopub.status.idle": "2024-12-16T03:26:56.914044Z",
     "shell.execute_reply": "2024-12-16T03:26:56.913849Z"
    }
   },
   "outputs": [
    {
     "data": {
      "image/svg+xml": [
       "<?xml version=\"1.0\" encoding=\"UTF-8\" standalone=\"no\"?><svg xmlns=\"http://www.w3.org/2000/svg\" xmlns:xlink=\"http://www.w3.org/1999/xlink\" contentStyleType=\"text/css\" height=\"121px\" preserveAspectRatio=\"none\" style=\"width:147px;height:121px;background:#FFFFFF;\" version=\"1.1\" viewBox=\"0 0 147 121\" width=\"147px\" zoomAndPan=\"magnify\"><defs/><g><!--MD5=[fbc87193dbaf4d95561dea2c320d4a47]\n",
       "cluster E1--><g id=\"cluster_E1\"><a href=\"psysml:3b239dd5-995b-4be0-a5de-a49576b20dda\" target=\"_top\" title=\"psysml:3b239dd5-995b-4be0-a5de-a49576b20dda\" xlink:actuate=\"onRequest\" xlink:href=\"psysml:3b239dd5-995b-4be0-a5de-a49576b20dda\" xlink:show=\"new\" xlink:title=\"psysml:3b239dd5-995b-4be0-a5de-a49576b20dda\" xlink:type=\"simple\"><rect fill=\"#FFFFFF\" height=\"73\" id=\"E1\" style=\"stroke:#A80036;stroke-width:1.5;\" width=\"134\" x=\"7\" y=\"42.0986\"/><rect fill=\"#F1F1F1\" height=\"40.2656\" style=\"stroke:#A80036;stroke-width:1.5;\" width=\"134\" x=\"7\" y=\"42.0986\"/><text fill=\"#000000\" font-family=\"sans-serif\" font-size=\"12\" font-style=\"italic\" lengthAdjust=\"spacing\" textLength=\"81\" x=\"33.5\" y=\"58.2373\">«action  def»</text><text fill=\"#000000\" font-family=\"sans-serif\" font-size=\"14\" lengthAdjust=\"spacing\" textLength=\"31\" x=\"58.5\" y=\"74.0625\">setX</text></a></g><text fill=\"#000000\" font-family=\"sans-serif\" font-size=\"14\" lengthAdjust=\"spacing\" textLength=\"8\" x=\"21\" y=\"20.7969\">c</text><rect fill=\"#F1F1F1\" height=\"12\" style=\"stroke:#181818;stroke-width:1.5;\" width=\"12\" x=\"19\" y=\"36.0986\"/><text fill=\"#000000\" font-family=\"sans-serif\" font-size=\"14\" lengthAdjust=\"spacing\" textLength=\"38\" x=\"53\" y=\"20.7969\">newX</text><rect fill=\"#F1F1F1\" height=\"12\" style=\"stroke:#181818;stroke-width:1.5;\" width=\"12\" x=\"66\" y=\"36.0986\"/><!--MD5=[31be8ed472f66acffffaaeb84b827e64]\n",
       "@startuml\r\n",
       " skinparam ranksep 8\r\n",
       "\r\n",
       "rec def \"setX\" as E1  << <<(B,lemonchiffon) action  def>> [[psysml:3b239dd5-995b-4be0-a5de-a49576b20dda ]] {\r\n",
       "portin \"c\" as E2  [[psysml:4e0877a7-1493-46cf-81bf-47696701d005 ]] \r\n",
       "portin \"newX\" as E3  [[psysml:6814382f-4eaa-405a-a959-183965b050e4 ]] \r\n",
       "}\r\n",
       "\r\n",
       "@enduml\r\n",
       "\n",
       "PlantUML version 1.2022.7(Mon Aug 22 17:01:30 UTC 2022)\n",
       "(EPL source distribution)\n",
       "Java Runtime: OpenJDK Runtime Environment\n",
       "JVM: OpenJDK 64-Bit Server VM\n",
       "Default Encoding: UTF-8\n",
       "Language: en\n",
       "Country: null\n",
       "--></g></svg>"
      ]
     },
     "execution_count": 34,
     "metadata": {},
     "output_type": "execute_result"
    }
   ],
   "source": [
    "%viz --style=\"PLANTUML\" --view=\"Action\" \"TextualRepresentationTest\""
   ]
  },
  {
   "cell_type": "code",
   "execution_count": 35,
   "id": "2bbbc504",
   "metadata": {
    "execution": {
     "iopub.execute_input": "2024-12-16T03:26:56.965680Z",
     "iopub.status.busy": "2024-12-16T03:26:56.965409Z",
     "iopub.status.idle": "2024-12-16T03:26:56.970411Z",
     "shell.execute_reply": "2024-12-16T03:26:56.970227Z"
    }
   },
   "outputs": [
    {
     "data": {
      "image/svg+xml": [
       "<?xml version=\"1.0\" encoding=\"UTF-8\" standalone=\"no\"?><svg xmlns=\"http://www.w3.org/2000/svg\" xmlns:xlink=\"http://www.w3.org/1999/xlink\" contentStyleType=\"text/css\" height=\"10px\" preserveAspectRatio=\"none\" style=\"width:10px;height:10px;background:#FFFFFF;\" version=\"1.1\" viewBox=\"0 0 10 10\" width=\"10px\" zoomAndPan=\"magnify\"><defs/><g><!--MD5=[395e82ba475bd2e80052467b56fa0251]\n",
       "@startuml\r\n",
       " skinparam roundcorner 20\r\n",
       "skinparam BoxPadding 20\r\n",
       "skinparam SequenceBoxBackgroundColor #white\r\n",
       "skinparam style strictuml\r\n",
       "skinparam maxMessageSize 100\r\n",
       "\r\n",
       "@enduml\r\n",
       "\n",
       "PlantUML version 1.2022.7(Mon Aug 22 17:01:30 UTC 2022)\n",
       "(EPL source distribution)\n",
       "Java Runtime: OpenJDK Runtime Environment\n",
       "JVM: OpenJDK 64-Bit Server VM\n",
       "Default Encoding: UTF-8\n",
       "Language: en\n",
       "Country: null\n",
       "--></g></svg>"
      ]
     },
     "execution_count": 35,
     "metadata": {},
     "output_type": "execute_result"
    }
   ],
   "source": [
    "%viz --style=\"PLANTUML\" --view=\"Sequence\" \"TextualRepresentationTest\""
   ]
  },
  {
   "cell_type": "code",
   "execution_count": 36,
   "id": "9fbd4708",
   "metadata": {
    "execution": {
     "iopub.execute_input": "2024-12-16T03:26:57.023102Z",
     "iopub.status.busy": "2024-12-16T03:26:57.022873Z",
     "iopub.status.idle": "2024-12-16T03:26:57.041955Z",
     "shell.execute_reply": "2024-12-16T03:26:57.041119Z"
    }
   },
   "outputs": [
    {
     "data": {
      "image/svg+xml": [
       "<?xml version=\"1.0\" encoding=\"UTF-8\" standalone=\"no\"?><svg xmlns=\"http://www.w3.org/2000/svg\" xmlns:xlink=\"http://www.w3.org/1999/xlink\" contentStyleType=\"text/css\" height=\"248px\" preserveAspectRatio=\"none\" style=\"width:352px;height:248px;background:#FFFFFF;\" version=\"1.1\" viewBox=\"0 0 352 248\" width=\"352px\" zoomAndPan=\"magnify\"><defs/><g><!--MD5=[fbc87193dbaf4d95561dea2c320d4a47]\n",
       "cluster E1--><g id=\"cluster_E1\"><a href=\"psysml:267f3727-84c1-426f-a395-45db3603d5f0\" target=\"_top\" title=\"psysml:267f3727-84c1-426f-a395-45db3603d5f0\" xlink:actuate=\"onRequest\" xlink:href=\"psysml:267f3727-84c1-426f-a395-45db3603d5f0\" xlink:show=\"new\" xlink:title=\"psysml:267f3727-84c1-426f-a395-45db3603d5f0\" xlink:type=\"simple\"><path d=\"M8.5,6 L208.4375,6 A3.75,3.75 0 0 1 210.9375,8.5 L217.9375,28.2969 L342.5,28.2969 A2.5,2.5 0 0 1 345,30.7969 L345,239 A2.5,2.5 0 0 1 342.5,241.5 L8.5,241.5 A2.5,2.5 0 0 1 6,239 L6,8.5 A2.5,2.5 0 0 1 8.5,6 \" fill=\"none\" style=\"stroke:#000000;stroke-width:1.5;\"/><line style=\"stroke:#000000;stroke-width:1.5;\" x1=\"6\" x2=\"217.9375\" y1=\"28.2969\" y2=\"28.2969\"/><text fill=\"#000000\" font-family=\"sans-serif\" font-size=\"14\" font-weight=\"bold\" lengthAdjust=\"spacing\" textLength=\"198.9375\" x=\"10\" y=\"20.9951\">TextualRepresentationTest</text></a></g><!--MD5=[f6df4d0ebaf0b5dfb2ced0ae5af7c670]\n",
       "cluster E4--><g id=\"cluster_E4\"><a href=\"psysml:3b239dd5-995b-4be0-a5de-a49576b20dda\" target=\"_top\" title=\"psysml:3b239dd5-995b-4be0-a5de-a49576b20dda\" xlink:actuate=\"onRequest\" xlink:href=\"psysml:3b239dd5-995b-4be0-a5de-a49576b20dda\" xlink:show=\"new\" xlink:title=\"psysml:3b239dd5-995b-4be0-a5de-a49576b20dda\" xlink:type=\"simple\"><rect fill=\"#FFFFFF\" height=\"151\" id=\"E4\" style=\"stroke:#A80036;stroke-width:1.5;\" width=\"134\" x=\"195\" y=\"74.5\"/><rect fill=\"#F1F1F1\" height=\"40.2656\" style=\"stroke:#A80036;stroke-width:1.5;\" width=\"134\" x=\"195\" y=\"74.5\"/><text fill=\"#000000\" font-family=\"sans-serif\" font-size=\"12\" font-style=\"italic\" lengthAdjust=\"spacing\" textLength=\"81\" x=\"221.5\" y=\"90.6387\">«action  def»</text><text fill=\"#000000\" font-family=\"sans-serif\" font-size=\"14\" lengthAdjust=\"spacing\" textLength=\"31\" x=\"246.5\" y=\"106.4639\">setX</text></a></g><!--MD5=[b4997ac47864f28c2f74865a473b2911]\n",
       "class E2--><a href=\"psysml:61886539-cbef-4e54-b839-069269561211\" target=\"_top\" title=\"psysml:61886539-cbef-4e54-b839-069269561211\" xlink:actuate=\"onRequest\" xlink:href=\"psysml:61886539-cbef-4e54-b839-069269561211\" xlink:show=\"new\" xlink:title=\"psysml:61886539-cbef-4e54-b839-069269561211\" xlink:type=\"simple\"><g id=\"elem_E2\"><rect fill=\"#F1F1F1\" height=\"66.8156\" id=\"E2\" rx=\"2.5\" ry=\"2.5\" style=\"stroke:#181818;stroke-width:0.5;\" width=\"74\" x=\"60\" y=\"41\"/><ellipse cx=\"89.4\" cy=\"57\" fill=\"#008000\" rx=\"11\" ry=\"11\" style=\"stroke:#181818;stroke-width:1.0;\"/><path d=\"M86.2594,63.5 L86.2594,51.3594 L90.0563,51.3594 Q92.0563,51.3594 93.1031,52.0625 Q94.1656,52.7656 94.1656,54.3438 Q94.1656,55.4375 93.6656,56.1563 Q93.1813,56.875 92.3531,57.0625 L92.3531,57.1406 Q93.275,57.3594 93.8375,58.0313 Q94.4156,58.6875 94.4156,59.9531 Q94.4156,61.6094 93.3688,62.5625 Q92.3219,63.5 90.4625,63.5 L86.2594,63.5 Z M90.0406,56.1406 Q90.9313,56.1406 91.2906,55.8125 Q91.6656,55.4688 91.6656,54.7656 Q91.6656,54.0313 91.275,53.7188 Q90.8844,53.3906 89.9469,53.3906 L88.5563,53.3906 L88.5563,56.1406 L90.0406,56.1406 Z M90.2281,61.4844 Q91.1344,61.4844 91.4938,61.0469 Q91.8531,60.5938 91.8531,59.8125 Q91.8531,59.0313 91.4781,58.6406 Q91.1188,58.2344 90.1344,58.2344 L88.5563,58.2344 L88.5563,61.4844 L90.2281,61.4844 Z \" fill=\"#000000\"/><text fill=\"#000000\" font-family=\"sans-serif\" font-size=\"14\" lengthAdjust=\"spacing\" textLength=\"10\" x=\"106.6\" y=\"61.8467\">C</text><line style=\"stroke:#181818;stroke-width:0.5;\" x1=\"61\" x2=\"133\" y1=\"73\" y2=\"73\"/><text fill=\"#000000\" font-family=\"sans-serif\" font-size=\"14\" lengthAdjust=\"spacing\" textLength=\"46\" x=\"66\" y=\"100.5139\">x: Real</text><text fill=\"#000000\" font-family=\"sans-serif\" font-size=\"14\" font-style=\"italic\" lengthAdjust=\"spacing\" textLength=\"66\" x=\"64\" y=\"85.3467\">attributes</text></g></a><!--MD5=[09b614a08d8cba4a07c9adeb5e0fee81]\n",
       "class E3--><a href=\"psysml:646d3ab6-4c99-4716-814b-89245cbe5994\" target=\"_top\" title=\"psysml:646d3ab6-4c99-4716-814b-89245cbe5994\" xlink:actuate=\"onRequest\" xlink:href=\"psysml:646d3ab6-4c99-4716-814b-89245cbe5994\" xlink:show=\"new\" xlink:title=\"psysml:646d3ab6-4c99-4716-814b-89245cbe5994\" xlink:type=\"simple\"><g id=\"elem_E3\"><rect fill=\"#F1F1F1\" height=\"48.2656\" id=\"E3\" rx=\"10\" ry=\"10\" style=\"stroke:#181818;stroke-width:0.5;\" width=\"150\" x=\"22\" y=\"168\"/><ellipse cx=\"37\" cy=\"188.1328\" fill=\"#FFA500\" rx=\"11\" ry=\"11\" style=\"stroke:#181818;stroke-width:1.0;\"/><path d=\"M37.0625,195.3047 Q34.9531,195.3047 33.8594,194.1797 Q32.7656,193.0547 32.7656,191.0078 L32.7656,182.9922 L35.2344,182.9922 L35.2344,190.5703 Q35.2344,192.0078 35.6875,192.6016 Q36.1406,193.1797 37.0938,193.1797 Q38.1094,193.1797 38.5313,192.5703 Q38.9688,191.9609 38.9688,190.5547 L38.9688,182.9922 L41.4375,182.9922 L41.4375,190.9922 Q41.4375,192.9766 40.3438,194.1484 Q39.2656,195.3047 37.0625,195.3047 Z \" fill=\"#000000\"/><text fill=\"#000000\" font-family=\"sans-serif\" font-size=\"12\" font-style=\"italic\" lengthAdjust=\"spacing\" textLength=\"122\" x=\"49\" y=\"184.1387\">«assert constraint»</text><text fill=\"#000000\" font-family=\"sans-serif\" font-size=\"14\" lengthAdjust=\"spacing\" textLength=\"83\" x=\"64.5\" y=\"199.9639\">x_constraint</text><line style=\"stroke:#181818;stroke-width:0.5;\" x1=\"23\" x2=\"171\" y1=\"208.2656\" y2=\"208.2656\"/></g></a><text fill=\"#000000\" font-family=\"sans-serif\" font-size=\"14\" lengthAdjust=\"spacing\" textLength=\"8\" x=\"209\" y=\"53.1982\">c</text><rect fill=\"#F1F1F1\" height=\"12\" style=\"stroke:#181818;stroke-width:1.5;\" width=\"12\" x=\"207\" y=\"68.5\"/><text fill=\"#000000\" font-family=\"sans-serif\" font-size=\"14\" lengthAdjust=\"spacing\" textLength=\"38\" x=\"241\" y=\"53.1982\">newX</text><rect fill=\"#F1F1F1\" height=\"12\" style=\"stroke:#181818;stroke-width:1.5;\" width=\"12\" x=\"254\" y=\"68.5\"/><!--MD5=[209b3feb70ccb6233bfe1053d122c12c]\n",
       "reverse link E2 to E3--><g id=\"link_E2_E3\"><a href=\"psysml:17b203e1-cdea-4a97-b803-663e29228052\" target=\"_top\" title=\"psysml:17b203e1-cdea-4a97-b803-663e29228052\" xlink:actuate=\"onRequest\" xlink:href=\"psysml:17b203e1-cdea-4a97-b803-663e29228052\" xlink:show=\"new\" xlink:title=\"psysml:17b203e1-cdea-4a97-b803-663e29228052\" xlink:type=\"simple\"><path d=\"M97,121.72 C97,137.5 97,154.47 97,167.67 \" fill=\"none\" id=\"E2-backto-E3\" style=\"stroke:#181818;stroke-width:1.0;\"/><polygon fill=\"#181818\" points=\"97,108.29,93,114.29,97,120.29,101,114.29,97,108.29\" style=\"stroke:#181818;stroke-width:1.0;\"/></a></g><!--MD5=[4c6c8fed40c5412ef8369e3bb8b2ce43]\n",
       "@startuml\r\n",
       " \r\n",
       "package \"TextualRepresentationTest\" as E1  [[psysml:267f3727-84c1-426f-a395-45db3603d5f0 ]]  {\r\n",
       "comp def \"C\" as E2  << << (B,green) >> [[psysml:61886539-cbef-4e54-b839-069269561211 ]] {\r\n",
       "##//attributes//##\r\n",
       "x: Real\r\n",
       "}\r\n",
       "comp usage \"x_constraint  \" as E3  << <<(U,orange) assert constraint>> [[psysml:646d3ab6-4c99-4716-814b-89245cbe5994 ]] {\r\n",
       "}\r\n",
       "rec def \"setX\" as E4  << <<(B,lemonchiffon) action  def>> [[psysml:3b239dd5-995b-4be0-a5de-a49576b20dda ]] {\r\n",
       "portin \"c\" as E5  [[psysml:4e0877a7-1493-46cf-81bf-47696701d005 ]] \r\n",
       "portin \"newX\" as E6  [[psysml:6814382f-4eaa-405a-a959-183965b050e4 ]] \r\n",
       "}\r\n",
       "\r\n",
       "}\r\n",
       "E2 *- - E3 [[psysml:17b203e1-cdea-4a97-b803-663e29228052 ]] \r\n",
       "@enduml\r\n",
       "\n",
       "PlantUML version 1.2022.7(Mon Aug 22 17:01:30 UTC 2022)\n",
       "(EPL source distribution)\n",
       "Java Runtime: OpenJDK Runtime Environment\n",
       "JVM: OpenJDK 64-Bit Server VM\n",
       "Default Encoding: UTF-8\n",
       "Language: en\n",
       "Country: null\n",
       "--></g></svg>"
      ]
     },
     "execution_count": 36,
     "metadata": {},
     "output_type": "execute_result"
    }
   ],
   "source": [
    "%viz --style=\"PLANTUML\" --view=\"MIXED\" \"TextualRepresentationTest\""
   ]
  },
  {
   "cell_type": "code",
   "execution_count": 37,
   "id": "c85a8baf",
   "metadata": {
    "execution": {
     "iopub.execute_input": "2024-12-16T03:26:57.094459Z",
     "iopub.status.busy": "2024-12-16T03:26:57.094190Z",
     "iopub.status.idle": "2024-12-16T03:26:57.112366Z",
     "shell.execute_reply": "2024-12-16T03:26:57.111390Z"
    }
   },
   "outputs": [
    {
     "data": {
      "image/svg+xml": [
       "<?xml version=\"1.0\" encoding=\"UTF-8\" standalone=\"no\"?><svg xmlns=\"http://www.w3.org/2000/svg\" xmlns:xlink=\"http://www.w3.org/1999/xlink\" contentStyleType=\"text/css\" height=\"256px\" preserveAspectRatio=\"none\" style=\"width:346px;height:256px;background:#FFFFFF;\" version=\"1.1\" viewBox=\"0 0 346 256\" width=\"346px\" zoomAndPan=\"magnify\"><defs/><g><!--MD5=[fbc87193dbaf4d95561dea2c320d4a47]\n",
       "cluster E1--><g id=\"cluster_E1\"><a href=\"psysml:267f3727-84c1-426f-a395-45db3603d5f0\" target=\"_top\" title=\"psysml:267f3727-84c1-426f-a395-45db3603d5f0\" xlink:actuate=\"onRequest\" xlink:href=\"psysml:267f3727-84c1-426f-a395-45db3603d5f0\" xlink:show=\"new\" xlink:title=\"psysml:267f3727-84c1-426f-a395-45db3603d5f0\" xlink:type=\"simple\"><polygon fill=\"none\" points=\"16,6,220.9375,6,227.9375,28.2969,329,28.2969,329,249.5,16,249.5,16,6\" style=\"stroke:#000000;stroke-width:1.5;\"/><line style=\"stroke:#000000;stroke-width:1.5;\" x1=\"16\" x2=\"227.9375\" y1=\"28.2969\" y2=\"28.2969\"/><text fill=\"#000000\" font-family=\"sans-serif\" font-size=\"14\" font-weight=\"bold\" lengthAdjust=\"spacing\" textLength=\"198.9375\" x=\"20\" y=\"20.9951\">TextualRepresentationTest</text></a></g><!--MD5=[f6df4d0ebaf0b5dfb2ced0ae5af7c670]\n",
       "cluster E4--><g id=\"cluster_E4\"><a href=\"psysml:3b239dd5-995b-4be0-a5de-a49576b20dda\" target=\"_top\" title=\"psysml:3b239dd5-995b-4be0-a5de-a49576b20dda\" xlink:actuate=\"onRequest\" xlink:href=\"psysml:3b239dd5-995b-4be0-a5de-a49576b20dda\" xlink:show=\"new\" xlink:title=\"psysml:3b239dd5-995b-4be0-a5de-a49576b20dda\" xlink:type=\"simple\"><rect fill=\"#FFFFFF\" height=\"155\" id=\"E4\" style=\"stroke:#383838;stroke-width:1.5;\" width=\"134\" x=\"179\" y=\"78.5\"/><text fill=\"#000000\" font-family=\"sans-serif\" font-size=\"12\" font-style=\"italic\" lengthAdjust=\"spacing\" textLength=\"81\" x=\"205.5\" y=\"94.6387\">«action  def»</text><text fill=\"#000000\" font-family=\"sans-serif\" font-size=\"14\" lengthAdjust=\"spacing\" textLength=\"31\" x=\"230.5\" y=\"110.4639\">setX</text><line style=\"stroke:#383838;stroke-width:1.0;\" x1=\"179\" x2=\"313\" y1=\"118.7656\" y2=\"118.7656\"/></a></g><!--MD5=[b4997ac47864f28c2f74865a473b2911]\n",
       "class E2--><a href=\"psysml:61886539-cbef-4e54-b839-069269561211\" target=\"_top\" title=\"psysml:61886539-cbef-4e54-b839-069269561211\" xlink:actuate=\"onRequest\" xlink:href=\"psysml:61886539-cbef-4e54-b839-069269561211\" xlink:show=\"new\" xlink:title=\"psysml:61886539-cbef-4e54-b839-069269561211\" xlink:type=\"simple\"><g id=\"elem_E2\"><rect fill=\"#FFFFFF\" height=\"75.0813\" id=\"E2\" style=\"stroke:#181818;stroke-width:0.5;\" width=\"74\" x=\"57\" y=\"41\"/><text fill=\"#000000\" font-family=\"sans-serif\" font-size=\"12\" font-style=\"italic\" lengthAdjust=\"spacing\" textLength=\"69\" x=\"59.5\" y=\"57.1387\">«item  def»</text><text fill=\"#000000\" font-family=\"sans-serif\" font-size=\"14\" lengthAdjust=\"spacing\" textLength=\"10\" x=\"89\" y=\"72.9639\">C</text><line style=\"stroke:#181818;stroke-width:0.5;\" x1=\"58\" x2=\"130\" y1=\"81.2656\" y2=\"81.2656\"/><text fill=\"#000000\" font-family=\"sans-serif\" font-size=\"14\" lengthAdjust=\"spacing\" textLength=\"46\" x=\"63\" y=\"108.7795\">x: Real</text><text fill=\"#000000\" font-family=\"sans-serif\" font-size=\"14\" font-style=\"italic\" lengthAdjust=\"spacing\" textLength=\"66\" x=\"61\" y=\"93.6123\">attributes</text></g></a><!--MD5=[09b614a08d8cba4a07c9adeb5e0fee81]\n",
       "class E3--><a href=\"psysml:646d3ab6-4c99-4716-814b-89245cbe5994\" target=\"_top\" title=\"psysml:646d3ab6-4c99-4716-814b-89245cbe5994\" xlink:actuate=\"onRequest\" xlink:href=\"psysml:646d3ab6-4c99-4716-814b-89245cbe5994\" xlink:show=\"new\" xlink:title=\"psysml:646d3ab6-4c99-4716-814b-89245cbe5994\" xlink:type=\"simple\"><g id=\"elem_E3\"><rect fill=\"#FFFFFF\" height=\"48.2656\" id=\"E3\" rx=\"10\" ry=\"10\" style=\"stroke:#181818;stroke-width:0.5;\" width=\"124\" x=\"32\" y=\"176\"/><text fill=\"#000000\" font-family=\"sans-serif\" font-size=\"12\" font-style=\"italic\" lengthAdjust=\"spacing\" textLength=\"122\" x=\"33\" y=\"192.1387\">«assert constraint»</text><text fill=\"#000000\" font-family=\"sans-serif\" font-size=\"14\" lengthAdjust=\"spacing\" textLength=\"83\" x=\"48.5\" y=\"207.9639\">x_constraint</text><line style=\"stroke:#181818;stroke-width:0.5;\" x1=\"33\" x2=\"155\" y1=\"216.2656\" y2=\"216.2656\"/></g></a><text fill=\"#000000\" font-family=\"sans-serif\" font-size=\"14\" lengthAdjust=\"spacing\" textLength=\"8\" x=\"193\" y=\"57.1982\">c</text><rect fill=\"#FFFFFF\" height=\"12\" style=\"stroke:#181818;stroke-width:1.5;\" width=\"12\" x=\"191\" y=\"72.5\"/><text fill=\"#000000\" font-family=\"sans-serif\" font-size=\"14\" lengthAdjust=\"spacing\" textLength=\"38\" x=\"225\" y=\"57.1982\">newX</text><rect fill=\"#FFFFFF\" height=\"12\" style=\"stroke:#181818;stroke-width:1.5;\" width=\"12\" x=\"238\" y=\"72.5\"/><!--MD5=[209b3feb70ccb6233bfe1053d122c12c]\n",
       "reverse link E2 to E3--><g id=\"link_E2_E3\"><a href=\"psysml:17b203e1-cdea-4a97-b803-663e29228052\" target=\"_top\" title=\"psysml:17b203e1-cdea-4a97-b803-663e29228052\" xlink:actuate=\"onRequest\" xlink:href=\"psysml:17b203e1-cdea-4a97-b803-663e29228052\" xlink:show=\"new\" xlink:title=\"psysml:17b203e1-cdea-4a97-b803-663e29228052\" xlink:type=\"simple\"><path d=\"M94,129.25 C94,145.43 94,162.61 94,175.88 \" fill=\"none\" id=\"E2-backto-E3\" style=\"stroke:#181818;stroke-width:1.0;\"/><polygon fill=\"#181818\" points=\"94,116,90,122,94,128,98,122,94,116\" style=\"stroke:#181818;stroke-width:1.0;\"/></a></g><!--MD5=[a818ce830915ca1307db7fb311c7a571]\n",
       "@startuml\r\n",
       "skin sysmlbw\r\n",
       "skinparam monochrome true\r\n",
       "skinparam wrapWidth 300\r\n",
       "hide circle\r\n",
       "\r\n",
       "package \"TextualRepresentationTest\" as E1  [[psysml:267f3727-84c1-426f-a395-45db3603d5f0 ]]  {\r\n",
       "comp def \"C\" as E2  <<(T,blue) item  def>> [[psysml:61886539-cbef-4e54-b839-069269561211 ]] {\r\n",
       "##//attributes//##\r\n",
       "x: Real\r\n",
       "}\r\n",
       "comp usage \"x_constraint  \" as E3  <<(T,blue) assert constraint>> [[psysml:646d3ab6-4c99-4716-814b-89245cbe5994 ]] {\r\n",
       "}\r\n",
       "rec def \"setX\" as E4  <<(T,blue) action  def>> [[psysml:3b239dd5-995b-4be0-a5de-a49576b20dda ]] {\r\n",
       "portin \"c\" as E5  [[psysml:4e0877a7-1493-46cf-81bf-47696701d005 ]] \r\n",
       "portin \"newX\" as E6  [[psysml:6814382f-4eaa-405a-a959-183965b050e4 ]] \r\n",
       "}\r\n",
       "\r\n",
       "}\r\n",
       "E2 *- - E3 [[psysml:17b203e1-cdea-4a97-b803-663e29228052 ]] \r\n",
       "@enduml\r\n",
       "\n",
       "PlantUML version 1.2022.7(Mon Aug 22 17:01:30 UTC 2022)\n",
       "(EPL source distribution)\n",
       "Java Runtime: OpenJDK Runtime Environment\n",
       "JVM: OpenJDK 64-Bit Server VM\n",
       "Default Encoding: UTF-8\n",
       "Language: en\n",
       "Country: null\n",
       "--></g></svg>"
      ]
     },
     "execution_count": 37,
     "metadata": {},
     "output_type": "execute_result"
    }
   ],
   "source": [
    "%viz --style=\"DEFAULT\" --view=\"Default\" \"TextualRepresentationTest\""
   ]
  },
  {
   "cell_type": "code",
   "execution_count": 38,
   "id": "0367572b",
   "metadata": {
    "execution": {
     "iopub.execute_input": "2024-12-16T03:26:57.163215Z",
     "iopub.status.busy": "2024-12-16T03:26:57.162981Z",
     "iopub.status.idle": "2024-12-16T03:26:57.180423Z",
     "shell.execute_reply": "2024-12-16T03:26:57.180568Z"
    }
   },
   "outputs": [
    {
     "data": {
      "image/svg+xml": [
       "<?xml version=\"1.0\" encoding=\"UTF-8\" standalone=\"no\"?><svg xmlns=\"http://www.w3.org/2000/svg\" xmlns:xlink=\"http://www.w3.org/1999/xlink\" contentStyleType=\"text/css\" height=\"373px\" preserveAspectRatio=\"none\" style=\"width:247px;height:373px;background:#FFFFFF;\" version=\"1.1\" viewBox=\"0 0 247 373\" width=\"247px\" zoomAndPan=\"magnify\"><defs/><g><!--MD5=[fbc87193dbaf4d95561dea2c320d4a47]\n",
       "cluster E1--><g id=\"cluster_E1\"><a href=\"psysml:267f3727-84c1-426f-a395-45db3603d5f0\" target=\"_top\" title=\"psysml:267f3727-84c1-426f-a395-45db3603d5f0\" xlink:actuate=\"onRequest\" xlink:href=\"psysml:267f3727-84c1-426f-a395-45db3603d5f0\" xlink:show=\"new\" xlink:title=\"psysml:267f3727-84c1-426f-a395-45db3603d5f0\" xlink:type=\"simple\"><polygon fill=\"none\" points=\"16,6,220.9375,6,227.9375,28.2969,230,28.2969,230,366,16,366,16,6\" style=\"stroke:#000000;stroke-width:1.5;\"/><line style=\"stroke:#000000;stroke-width:1.5;\" x1=\"16\" x2=\"227.9375\" y1=\"28.2969\" y2=\"28.2969\"/><text fill=\"#000000\" font-family=\"sans-serif\" font-size=\"14\" font-weight=\"bold\" lengthAdjust=\"spacing\" textLength=\"198.9375\" x=\"20\" y=\"20.9951\">TextualRepresentationTest</text></a></g><!--MD5=[b4997ac47864f28c2f74865a473b2911]\n",
       "class E2--><a href=\"psysml:61886539-cbef-4e54-b839-069269561211\" target=\"_top\" title=\"psysml:61886539-cbef-4e54-b839-069269561211\" xlink:actuate=\"onRequest\" xlink:href=\"psysml:61886539-cbef-4e54-b839-069269561211\" xlink:show=\"new\" xlink:title=\"psysml:61886539-cbef-4e54-b839-069269561211\" xlink:type=\"simple\"><g id=\"elem_E2\"><rect fill=\"#FFFFFF\" height=\"75.0813\" id=\"E2\" style=\"stroke:#181818;stroke-width:0.5;\" width=\"74\" x=\"86\" y=\"166\"/><text fill=\"#000000\" font-family=\"sans-serif\" font-size=\"12\" font-style=\"italic\" lengthAdjust=\"spacing\" textLength=\"69\" x=\"88.5\" y=\"182.1387\">«item  def»</text><text fill=\"#000000\" font-family=\"sans-serif\" font-size=\"14\" lengthAdjust=\"spacing\" textLength=\"10\" x=\"118\" y=\"197.9639\">C</text><line style=\"stroke:#181818;stroke-width:0.5;\" x1=\"87\" x2=\"159\" y1=\"206.2656\" y2=\"206.2656\"/><text fill=\"#000000\" font-family=\"sans-serif\" font-size=\"14\" lengthAdjust=\"spacing\" textLength=\"46\" x=\"92\" y=\"233.7795\">x: Real</text><text fill=\"#000000\" font-family=\"sans-serif\" font-size=\"14\" font-style=\"italic\" lengthAdjust=\"spacing\" textLength=\"66\" x=\"90\" y=\"218.6123\">attributes</text></g></a><!--MD5=[09b614a08d8cba4a07c9adeb5e0fee81]\n",
       "class E3--><a href=\"psysml:646d3ab6-4c99-4716-814b-89245cbe5994\" target=\"_top\" title=\"psysml:646d3ab6-4c99-4716-814b-89245cbe5994\" xlink:actuate=\"onRequest\" xlink:href=\"psysml:646d3ab6-4c99-4716-814b-89245cbe5994\" xlink:show=\"new\" xlink:title=\"psysml:646d3ab6-4c99-4716-814b-89245cbe5994\" xlink:type=\"simple\"><g id=\"elem_E3\"><rect fill=\"#FFFFFF\" height=\"48.2656\" id=\"E3\" rx=\"10\" ry=\"10\" style=\"stroke:#181818;stroke-width:0.5;\" width=\"124\" x=\"61\" y=\"302\"/><text fill=\"#000000\" font-family=\"sans-serif\" font-size=\"12\" font-style=\"italic\" lengthAdjust=\"spacing\" textLength=\"122\" x=\"62\" y=\"318.1387\">«assert constraint»</text><text fill=\"#000000\" font-family=\"sans-serif\" font-size=\"14\" lengthAdjust=\"spacing\" textLength=\"83\" x=\"77.5\" y=\"333.9639\">x_constraint</text><line style=\"stroke:#181818;stroke-width:0.5;\" x1=\"62\" x2=\"184\" y1=\"342.2656\" y2=\"342.2656\"/></g></a><!--MD5=[ebbe1d658d1005bcc118a6aa81145e00]\n",
       "class E4--><a href=\"psysml:3b239dd5-995b-4be0-a5de-a49576b20dda\" target=\"_top\" title=\"psysml:3b239dd5-995b-4be0-a5de-a49576b20dda\" xlink:actuate=\"onRequest\" xlink:href=\"psysml:3b239dd5-995b-4be0-a5de-a49576b20dda\" xlink:show=\"new\" xlink:title=\"psysml:3b239dd5-995b-4be0-a5de-a49576b20dda\" xlink:type=\"simple\"><g id=\"elem_E4\"><rect fill=\"#FFFFFF\" height=\"48.2656\" id=\"E4\" style=\"stroke:#181818;stroke-width:0.5;\" width=\"83\" x=\"81.5\" y=\"41\"/><text fill=\"#000000\" font-family=\"sans-serif\" font-size=\"12\" font-style=\"italic\" lengthAdjust=\"spacing\" textLength=\"81\" x=\"82.5\" y=\"57.1387\">«action  def»</text><text fill=\"#000000\" font-family=\"sans-serif\" font-size=\"14\" lengthAdjust=\"spacing\" textLength=\"31\" x=\"107.5\" y=\"72.9639\">setX</text><line style=\"stroke:#181818;stroke-width:0.5;\" x1=\"82.5\" x2=\"163.5\" y1=\"81.2656\" y2=\"81.2656\"/></g></a><!--MD5=[209b3feb70ccb6233bfe1053d122c12c]\n",
       "reverse link E2 to E3--><g id=\"link_E2_E3\"><a href=\"psysml:17b203e1-cdea-4a97-b803-663e29228052\" target=\"_top\" title=\"psysml:17b203e1-cdea-4a97-b803-663e29228052\" xlink:actuate=\"onRequest\" xlink:href=\"psysml:17b203e1-cdea-4a97-b803-663e29228052\" xlink:show=\"new\" xlink:title=\"psysml:17b203e1-cdea-4a97-b803-663e29228052\" xlink:type=\"simple\"><path d=\"M123,254.67 C123,270.98 123,288.31 123,301.69 \" fill=\"none\" id=\"E2-backto-E3\" style=\"stroke:#181818;stroke-width:1.0;\"/><polygon fill=\"#181818\" points=\"123,241.31,119,247.31,123,253.31,127,247.31,123,241.31\" style=\"stroke:#181818;stroke-width:1.0;\"/></a></g><!--MD5=[ddeed8deb2209213b62e6cfabaa108b2]\n",
       "reverse link E4 to E2--><g id=\"link_E4_E2\"><a href=\"psysml:4e0877a7-1493-46cf-81bf-47696701d005\" target=\"_top\" title=\"psysml:4e0877a7-1493-46cf-81bf-47696701d005\" xlink:actuate=\"onRequest\" xlink:href=\"psysml:4e0877a7-1493-46cf-81bf-47696701d005\" xlink:show=\"new\" xlink:title=\"psysml:4e0877a7-1493-46cf-81bf-47696701d005\" xlink:type=\"simple\"><path d=\"M123,102.22 C123,121.88 123,146.11 123,165.84 \" fill=\"none\" id=\"E4-backto-E2\" style=\"stroke:#181818;stroke-width:1.0;\"/><polygon fill=\"none\" points=\"123,89.16,119,95.16,123,101.16,127,95.16,123,89.16\" style=\"stroke:#181818;stroke-width:1.0;\"/><text fill=\"#000000\" font-family=\"sans-serif\" font-size=\"13\" lengthAdjust=\"spacing\" textLength=\"7\" x=\"124\" y=\"132.0669\">c</text></a></g><!--MD5=[878ca261f76d032a9845e65ba5dc84e8]\n",
       "@startuml\r\n",
       "skin sysmlbw\r\n",
       "skinparam monochrome true\r\n",
       "skinparam wrapWidth 300\r\n",
       "hide circle\r\n",
       "\r\n",
       "package \"TextualRepresentationTest\" as E1  [[psysml:267f3727-84c1-426f-a395-45db3603d5f0 ]]  {\r\n",
       "comp def \"C\" as E2  <<(T,blue) item  def>> [[psysml:61886539-cbef-4e54-b839-069269561211 ]] {\r\n",
       "##//attributes//##\r\n",
       "x: Real\r\n",
       "}\r\n",
       "comp usage \"x_constraint  \" as E3  <<(T,blue) assert constraint>> [[psysml:646d3ab6-4c99-4716-814b-89245cbe5994 ]] {\r\n",
       "}\r\n",
       "comp def \"setX\" as E4  <<(T,blue) action  def>> [[psysml:3b239dd5-995b-4be0-a5de-a49576b20dda ]] {\r\n",
       "}\r\n",
       "}\r\n",
       "E2 *- - E3 [[psysml:17b203e1-cdea-4a97-b803-663e29228052 ]] \r\n",
       "E4 o- - E2 [[psysml:4e0877a7-1493-46cf-81bf-47696701d005 ]] : c\r\n",
       "@enduml\r\n",
       "\n",
       "PlantUML version 1.2022.7(Mon Aug 22 17:01:30 UTC 2022)\n",
       "(EPL source distribution)\n",
       "Java Runtime: OpenJDK Runtime Environment\n",
       "JVM: OpenJDK 64-Bit Server VM\n",
       "Default Encoding: UTF-8\n",
       "Language: en\n",
       "Country: null\n",
       "--></g></svg>"
      ]
     },
     "execution_count": 38,
     "metadata": {},
     "output_type": "execute_result"
    }
   ],
   "source": [
    "%viz --style=\"DEFAULT\" --view=\"Tree\" \"TextualRepresentationTest\""
   ]
  },
  {
   "cell_type": "code",
   "execution_count": 39,
   "id": "70886fd2",
   "metadata": {
    "execution": {
     "iopub.execute_input": "2024-12-16T03:26:57.233722Z",
     "iopub.status.busy": "2024-12-16T03:26:57.233435Z",
     "iopub.status.idle": "2024-12-16T03:26:57.237768Z",
     "shell.execute_reply": "2024-12-16T03:26:57.237594Z"
    }
   },
   "outputs": [
    {
     "data": {
      "image/svg+xml": [
       "<?xml version=\"1.0\" encoding=\"UTF-8\" standalone=\"no\"?><svg xmlns=\"http://www.w3.org/2000/svg\" xmlns:xlink=\"http://www.w3.org/1999/xlink\" contentStyleType=\"text/css\" height=\"10px\" preserveAspectRatio=\"none\" style=\"width:10px;height:10px;background:#FFFFFF;\" version=\"1.1\" viewBox=\"0 0 10 10\" width=\"10px\" zoomAndPan=\"magnify\"><defs/><g><!--MD5=[ac12e6954f3af68464267ee74ddf8a9f]\n",
       "@startuml\r\n",
       "skin sysmlbw\r\n",
       "skinparam monochrome true\r\n",
       "skinparam wrapWidth 300\r\n",
       "hide circle\r\n",
       "\r\n",
       "@enduml\r\n",
       "\n",
       "PlantUML version 1.2022.7(Mon Aug 22 17:01:30 UTC 2022)\n",
       "(EPL source distribution)\n",
       "Java Runtime: OpenJDK Runtime Environment\n",
       "JVM: OpenJDK 64-Bit Server VM\n",
       "Default Encoding: UTF-8\n",
       "Language: en\n",
       "Country: null\n",
       "--></g></svg>"
      ]
     },
     "execution_count": 39,
     "metadata": {},
     "output_type": "execute_result"
    }
   ],
   "source": [
    "%viz --style=\"DEFAULT\" --view=\"State\" \"TextualRepresentationTest\""
   ]
  },
  {
   "cell_type": "code",
   "execution_count": 40,
   "id": "7db2c202",
   "metadata": {
    "execution": {
     "iopub.execute_input": "2024-12-16T03:26:57.294265Z",
     "iopub.status.busy": "2024-12-16T03:26:57.294039Z",
     "iopub.status.idle": "2024-12-16T03:26:57.309712Z",
     "shell.execute_reply": "2024-12-16T03:26:57.309535Z"
    }
   },
   "outputs": [
    {
     "data": {
      "image/svg+xml": [
       "<?xml version=\"1.0\" encoding=\"UTF-8\" standalone=\"no\"?><svg xmlns=\"http://www.w3.org/2000/svg\" xmlns:xlink=\"http://www.w3.org/1999/xlink\" contentStyleType=\"text/css\" height=\"176px\" preserveAspectRatio=\"none\" style=\"width:287px;height:176px;background:#FFFFFF;\" version=\"1.1\" viewBox=\"0 0 287 176\" width=\"287px\" zoomAndPan=\"magnify\"><defs/><g><!--MD5=[fbc87193dbaf4d95561dea2c320d4a47]\n",
       "cluster E1--><g id=\"cluster_E1\"><a href=\"psysml:267f3727-84c1-426f-a395-45db3603d5f0\" target=\"_top\" title=\"psysml:267f3727-84c1-426f-a395-45db3603d5f0\" xlink:actuate=\"onRequest\" xlink:href=\"psysml:267f3727-84c1-426f-a395-45db3603d5f0\" xlink:show=\"new\" xlink:title=\"psysml:267f3727-84c1-426f-a395-45db3603d5f0\" xlink:type=\"simple\"><polygon fill=\"none\" points=\"16,6,220.9375,6,227.9375,28.2969,270,28.2969,270,169,16,169,16,6\" style=\"stroke:#000000;stroke-width:1.5;\"/><line style=\"stroke:#000000;stroke-width:1.5;\" x1=\"16\" x2=\"227.9375\" y1=\"28.2969\" y2=\"28.2969\"/><text fill=\"#000000\" font-family=\"sans-serif\" font-size=\"14\" font-weight=\"bold\" lengthAdjust=\"spacing\" textLength=\"198.9375\" x=\"20\" y=\"20.9951\">TextualRepresentationTest</text></a></g><!--MD5=[d5e69f78d87373223dbae638b30a9c99]\n",
       "cluster E3--><g id=\"cluster_E3\"><a href=\"psysml:3b239dd5-995b-4be0-a5de-a49576b20dda\" target=\"_top\" title=\"psysml:3b239dd5-995b-4be0-a5de-a49576b20dda\" xlink:actuate=\"onRequest\" xlink:href=\"psysml:3b239dd5-995b-4be0-a5de-a49576b20dda\" xlink:show=\"new\" xlink:title=\"psysml:3b239dd5-995b-4be0-a5de-a49576b20dda\" xlink:type=\"simple\"><rect fill=\"#FFFFFF\" height=\"89.5\" id=\"E3\" style=\"stroke:#383838;stroke-width:1.5;\" width=\"100\" x=\"122.5\" y=\"63.5\"/><text fill=\"#000000\" font-family=\"sans-serif\" font-size=\"12\" font-style=\"italic\" lengthAdjust=\"spacing\" textLength=\"81\" x=\"132\" y=\"79.6387\">«action  def»</text><text fill=\"#000000\" font-family=\"sans-serif\" font-size=\"14\" lengthAdjust=\"spacing\" textLength=\"31\" x=\"157\" y=\"95.4639\">setX</text><line style=\"stroke:#383838;stroke-width:1.0;\" x1=\"122.5\" x2=\"222.5\" y1=\"103.7656\" y2=\"103.7656\"/></a></g><g><a href=\"psysml:61886539-cbef-4e54-b839-069269561211\" target=\"_top\" title=\"psysml:61886539-cbef-4e54-b839-069269561211\" xlink:actuate=\"onRequest\" xlink:href=\"psysml:61886539-cbef-4e54-b839-069269561211\" xlink:show=\"new\" xlink:title=\"psysml:61886539-cbef-4e54-b839-069269561211\" xlink:type=\"simple\"><rect fill=\"#FFFFFF\" height=\"45.2656\" id=\"E2\" style=\"stroke:#383838;stroke-width:1.5;\" width=\"76\" x=\"32\" y=\"41\"/><text fill=\"#000000\" font-family=\"sans-serif\" font-size=\"12\" font-style=\"italic\" lengthAdjust=\"spacing\" textLength=\"69\" x=\"35.5\" y=\"57.1387\">«item  def»</text><text fill=\"#000000\" font-family=\"sans-serif\" font-size=\"14\" lengthAdjust=\"spacing\" textLength=\"10\" x=\"65\" y=\"72.9639\">C</text></a></g><text fill=\"#000000\" font-family=\"sans-serif\" font-size=\"14\" lengthAdjust=\"spacing\" textLength=\"8\" x=\"145\" y=\"42.1982\">c</text><rect fill=\"#FFFFFF\" height=\"12\" style=\"stroke:#181818;stroke-width:1.5;\" width=\"12\" x=\"143\" y=\"57.5\"/><text fill=\"#000000\" font-family=\"sans-serif\" font-size=\"14\" lengthAdjust=\"spacing\" textLength=\"38\" x=\"177\" y=\"42.1982\">newX</text><rect fill=\"#FFFFFF\" height=\"12\" style=\"stroke:#181818;stroke-width:1.5;\" width=\"12\" x=\"190\" y=\"57.5\"/><!--MD5=[e1ce4049f4fc1d5c5dd6b22bca3c7310]\n",
       "@startuml\r\n",
       "skin sysmlbw\r\n",
       "skinparam monochrome true\r\n",
       "skinparam wrapWidth 300\r\n",
       "hide circle\r\n",
       "skinparam ranksep 10\r\n",
       "skinparam rectangle {\r\n",
       " backgroundColor<<block>> LightGreen\r\n",
       "}\r\n",
       "\r\n",
       "package \"TextualRepresentationTest\" as E1  [[psysml:267f3727-84c1-426f-a395-45db3603d5f0 ]]  {\r\n",
       "def \"C\" as E2  <<(T,blue) item  def>> [[psysml:61886539-cbef-4e54-b839-069269561211 ]] \r\n",
       "rec def \"setX\" as E3  <<(T,blue) action  def>> [[psysml:3b239dd5-995b-4be0-a5de-a49576b20dda ]] {\r\n",
       "portin \"c\" as E4  [[psysml:4e0877a7-1493-46cf-81bf-47696701d005 ]] \r\n",
       "portin \"newX\" as E5  [[psysml:6814382f-4eaa-405a-a959-183965b050e4 ]] \r\n",
       "}\r\n",
       "\r\n",
       "}\r\n",
       "@enduml\r\n",
       "\n",
       "PlantUML version 1.2022.7(Mon Aug 22 17:01:30 UTC 2022)\n",
       "(EPL source distribution)\n",
       "Java Runtime: OpenJDK Runtime Environment\n",
       "JVM: OpenJDK 64-Bit Server VM\n",
       "Default Encoding: UTF-8\n",
       "Language: en\n",
       "Country: null\n",
       "--></g></svg>"
      ]
     },
     "execution_count": 40,
     "metadata": {},
     "output_type": "execute_result"
    }
   ],
   "source": [
    "%viz --style=\"DEFAULT\" --view=\"Interconnection\" \"TextualRepresentationTest\""
   ]
  },
  {
   "cell_type": "code",
   "execution_count": 41,
   "id": "49509f3e",
   "metadata": {
    "execution": {
     "iopub.execute_input": "2024-12-16T03:26:57.362235Z",
     "iopub.status.busy": "2024-12-16T03:26:57.362011Z",
     "iopub.status.idle": "2024-12-16T03:26:57.371953Z",
     "shell.execute_reply": "2024-12-16T03:26:57.372093Z"
    }
   },
   "outputs": [
    {
     "data": {
      "image/svg+xml": [
       "<?xml version=\"1.0\" encoding=\"UTF-8\" standalone=\"no\"?><svg xmlns=\"http://www.w3.org/2000/svg\" xmlns:xlink=\"http://www.w3.org/1999/xlink\" contentStyleType=\"text/css\" height=\"121px\" preserveAspectRatio=\"none\" style=\"width:148px;height:121px;background:#FFFFFF;\" version=\"1.1\" viewBox=\"0 0 148 121\" width=\"148px\" zoomAndPan=\"magnify\"><defs/><g><!--MD5=[fbc87193dbaf4d95561dea2c320d4a47]\n",
       "cluster E1--><g id=\"cluster_E1\"><a href=\"psysml:3b239dd5-995b-4be0-a5de-a49576b20dda\" target=\"_top\" title=\"psysml:3b239dd5-995b-4be0-a5de-a49576b20dda\" xlink:actuate=\"onRequest\" xlink:href=\"psysml:3b239dd5-995b-4be0-a5de-a49576b20dda\" xlink:show=\"new\" xlink:title=\"psysml:3b239dd5-995b-4be0-a5de-a49576b20dda\" xlink:type=\"simple\"><rect fill=\"#FFFFFF\" height=\"73\" id=\"E1\" style=\"stroke:#383838;stroke-width:1.5;\" width=\"134\" x=\"7\" y=\"42.0986\"/><text fill=\"#000000\" font-family=\"sans-serif\" font-size=\"12\" font-style=\"italic\" lengthAdjust=\"spacing\" textLength=\"81\" x=\"33.5\" y=\"58.2373\">«action  def»</text><text fill=\"#000000\" font-family=\"sans-serif\" font-size=\"14\" lengthAdjust=\"spacing\" textLength=\"31\" x=\"58.5\" y=\"74.0625\">setX</text><line style=\"stroke:#383838;stroke-width:1.0;\" x1=\"7\" x2=\"141\" y1=\"82.3643\" y2=\"82.3643\"/></a></g><text fill=\"#000000\" font-family=\"sans-serif\" font-size=\"14\" lengthAdjust=\"spacing\" textLength=\"8\" x=\"21\" y=\"20.7969\">c</text><rect fill=\"#FFFFFF\" height=\"12\" style=\"stroke:#181818;stroke-width:1.5;\" width=\"12\" x=\"19\" y=\"36.0986\"/><text fill=\"#000000\" font-family=\"sans-serif\" font-size=\"14\" lengthAdjust=\"spacing\" textLength=\"38\" x=\"53\" y=\"20.7969\">newX</text><rect fill=\"#FFFFFF\" height=\"12\" style=\"stroke:#181818;stroke-width:1.5;\" width=\"12\" x=\"66\" y=\"36.0986\"/><!--MD5=[08772a7e8a960aa3864f78d9250a42b6]\n",
       "@startuml\r\n",
       "skin sysmlbw\r\n",
       "skinparam monochrome true\r\n",
       "skinparam wrapWidth 300\r\n",
       "hide circle\r\n",
       "skinparam ranksep 8\r\n",
       "\r\n",
       "rec def \"setX\" as E1  <<(T,blue) action  def>> [[psysml:3b239dd5-995b-4be0-a5de-a49576b20dda ]] {\r\n",
       "portin \"c\" as E2  [[psysml:4e0877a7-1493-46cf-81bf-47696701d005 ]] \r\n",
       "portin \"newX\" as E3  [[psysml:6814382f-4eaa-405a-a959-183965b050e4 ]] \r\n",
       "}\r\n",
       "\r\n",
       "@enduml\r\n",
       "\n",
       "PlantUML version 1.2022.7(Mon Aug 22 17:01:30 UTC 2022)\n",
       "(EPL source distribution)\n",
       "Java Runtime: OpenJDK Runtime Environment\n",
       "JVM: OpenJDK 64-Bit Server VM\n",
       "Default Encoding: UTF-8\n",
       "Language: en\n",
       "Country: null\n",
       "--></g></svg>"
      ]
     },
     "execution_count": 41,
     "metadata": {},
     "output_type": "execute_result"
    }
   ],
   "source": [
    "%viz --style=\"DEFAULT\" --view=\"Action\" \"TextualRepresentationTest\""
   ]
  },
  {
   "cell_type": "code",
   "execution_count": 42,
   "id": "0e0ea3e4",
   "metadata": {
    "execution": {
     "iopub.execute_input": "2024-12-16T03:26:57.428109Z",
     "iopub.status.busy": "2024-12-16T03:26:57.427867Z",
     "iopub.status.idle": "2024-12-16T03:26:57.432791Z",
     "shell.execute_reply": "2024-12-16T03:26:57.432617Z"
    }
   },
   "outputs": [
    {
     "data": {
      "image/svg+xml": [
       "<?xml version=\"1.0\" encoding=\"UTF-8\" standalone=\"no\"?><svg xmlns=\"http://www.w3.org/2000/svg\" xmlns:xlink=\"http://www.w3.org/1999/xlink\" contentStyleType=\"text/css\" height=\"10px\" preserveAspectRatio=\"none\" style=\"width:10px;height:10px;background:#FFFFFF;\" version=\"1.1\" viewBox=\"0 0 10 10\" width=\"10px\" zoomAndPan=\"magnify\"><defs/><g><!--MD5=[075159388321915a295a256e9638f934]\n",
       "@startuml\r\n",
       "skin sysmlbw\r\n",
       "skinparam monochrome true\r\n",
       "skinparam wrapWidth 300\r\n",
       "hide circle\r\n",
       "skinparam roundcorner 20\r\n",
       "skinparam BoxPadding 20\r\n",
       "skinparam SequenceBoxBackgroundColor #white\r\n",
       "skinparam style strictuml\r\n",
       "skinparam maxMessageSize 100\r\n",
       "\r\n",
       "@enduml\r\n",
       "\n",
       "PlantUML version 1.2022.7(Mon Aug 22 17:01:30 UTC 2022)\n",
       "(EPL source distribution)\n",
       "Java Runtime: OpenJDK Runtime Environment\n",
       "JVM: OpenJDK 64-Bit Server VM\n",
       "Default Encoding: UTF-8\n",
       "Language: en\n",
       "Country: null\n",
       "--></g></svg>"
      ]
     },
     "execution_count": 42,
     "metadata": {},
     "output_type": "execute_result"
    }
   ],
   "source": [
    "%viz --style=\"DEFAULT\" --view=\"Sequence\" \"TextualRepresentationTest\""
   ]
  },
  {
   "cell_type": "code",
   "execution_count": 43,
   "id": "29e3f3f1",
   "metadata": {
    "execution": {
     "iopub.execute_input": "2024-12-16T03:26:57.489196Z",
     "iopub.status.busy": "2024-12-16T03:26:57.488959Z",
     "iopub.status.idle": "2024-12-16T03:26:57.505913Z",
     "shell.execute_reply": "2024-12-16T03:26:57.504988Z"
    }
   },
   "outputs": [
    {
     "data": {
      "image/svg+xml": [
       "<?xml version=\"1.0\" encoding=\"UTF-8\" standalone=\"no\"?><svg xmlns=\"http://www.w3.org/2000/svg\" xmlns:xlink=\"http://www.w3.org/1999/xlink\" contentStyleType=\"text/css\" height=\"256px\" preserveAspectRatio=\"none\" style=\"width:346px;height:256px;background:#FFFFFF;\" version=\"1.1\" viewBox=\"0 0 346 256\" width=\"346px\" zoomAndPan=\"magnify\"><defs/><g><!--MD5=[fbc87193dbaf4d95561dea2c320d4a47]\n",
       "cluster E1--><g id=\"cluster_E1\"><a href=\"psysml:267f3727-84c1-426f-a395-45db3603d5f0\" target=\"_top\" title=\"psysml:267f3727-84c1-426f-a395-45db3603d5f0\" xlink:actuate=\"onRequest\" xlink:href=\"psysml:267f3727-84c1-426f-a395-45db3603d5f0\" xlink:show=\"new\" xlink:title=\"psysml:267f3727-84c1-426f-a395-45db3603d5f0\" xlink:type=\"simple\"><polygon fill=\"none\" points=\"16,6,220.9375,6,227.9375,28.2969,329,28.2969,329,249.5,16,249.5,16,6\" style=\"stroke:#000000;stroke-width:1.5;\"/><line style=\"stroke:#000000;stroke-width:1.5;\" x1=\"16\" x2=\"227.9375\" y1=\"28.2969\" y2=\"28.2969\"/><text fill=\"#000000\" font-family=\"sans-serif\" font-size=\"14\" font-weight=\"bold\" lengthAdjust=\"spacing\" textLength=\"198.9375\" x=\"20\" y=\"20.9951\">TextualRepresentationTest</text></a></g><!--MD5=[f6df4d0ebaf0b5dfb2ced0ae5af7c670]\n",
       "cluster E4--><g id=\"cluster_E4\"><a href=\"psysml:3b239dd5-995b-4be0-a5de-a49576b20dda\" target=\"_top\" title=\"psysml:3b239dd5-995b-4be0-a5de-a49576b20dda\" xlink:actuate=\"onRequest\" xlink:href=\"psysml:3b239dd5-995b-4be0-a5de-a49576b20dda\" xlink:show=\"new\" xlink:title=\"psysml:3b239dd5-995b-4be0-a5de-a49576b20dda\" xlink:type=\"simple\"><rect fill=\"#FFFFFF\" height=\"155\" id=\"E4\" style=\"stroke:#383838;stroke-width:1.5;\" width=\"134\" x=\"179\" y=\"78.5\"/><text fill=\"#000000\" font-family=\"sans-serif\" font-size=\"12\" font-style=\"italic\" lengthAdjust=\"spacing\" textLength=\"81\" x=\"205.5\" y=\"94.6387\">«action  def»</text><text fill=\"#000000\" font-family=\"sans-serif\" font-size=\"14\" lengthAdjust=\"spacing\" textLength=\"31\" x=\"230.5\" y=\"110.4639\">setX</text><line style=\"stroke:#383838;stroke-width:1.0;\" x1=\"179\" x2=\"313\" y1=\"118.7656\" y2=\"118.7656\"/></a></g><!--MD5=[b4997ac47864f28c2f74865a473b2911]\n",
       "class E2--><a href=\"psysml:61886539-cbef-4e54-b839-069269561211\" target=\"_top\" title=\"psysml:61886539-cbef-4e54-b839-069269561211\" xlink:actuate=\"onRequest\" xlink:href=\"psysml:61886539-cbef-4e54-b839-069269561211\" xlink:show=\"new\" xlink:title=\"psysml:61886539-cbef-4e54-b839-069269561211\" xlink:type=\"simple\"><g id=\"elem_E2\"><rect fill=\"#FFFFFF\" height=\"75.0813\" id=\"E2\" style=\"stroke:#181818;stroke-width:0.5;\" width=\"74\" x=\"57\" y=\"41\"/><text fill=\"#000000\" font-family=\"sans-serif\" font-size=\"12\" font-style=\"italic\" lengthAdjust=\"spacing\" textLength=\"69\" x=\"59.5\" y=\"57.1387\">«item  def»</text><text fill=\"#000000\" font-family=\"sans-serif\" font-size=\"14\" lengthAdjust=\"spacing\" textLength=\"10\" x=\"89\" y=\"72.9639\">C</text><line style=\"stroke:#181818;stroke-width:0.5;\" x1=\"58\" x2=\"130\" y1=\"81.2656\" y2=\"81.2656\"/><text fill=\"#000000\" font-family=\"sans-serif\" font-size=\"14\" lengthAdjust=\"spacing\" textLength=\"46\" x=\"63\" y=\"108.7795\">x: Real</text><text fill=\"#000000\" font-family=\"sans-serif\" font-size=\"14\" font-style=\"italic\" lengthAdjust=\"spacing\" textLength=\"66\" x=\"61\" y=\"93.6123\">attributes</text></g></a><!--MD5=[09b614a08d8cba4a07c9adeb5e0fee81]\n",
       "class E3--><a href=\"psysml:646d3ab6-4c99-4716-814b-89245cbe5994\" target=\"_top\" title=\"psysml:646d3ab6-4c99-4716-814b-89245cbe5994\" xlink:actuate=\"onRequest\" xlink:href=\"psysml:646d3ab6-4c99-4716-814b-89245cbe5994\" xlink:show=\"new\" xlink:title=\"psysml:646d3ab6-4c99-4716-814b-89245cbe5994\" xlink:type=\"simple\"><g id=\"elem_E3\"><rect fill=\"#FFFFFF\" height=\"48.2656\" id=\"E3\" rx=\"10\" ry=\"10\" style=\"stroke:#181818;stroke-width:0.5;\" width=\"124\" x=\"32\" y=\"176\"/><text fill=\"#000000\" font-family=\"sans-serif\" font-size=\"12\" font-style=\"italic\" lengthAdjust=\"spacing\" textLength=\"122\" x=\"33\" y=\"192.1387\">«assert constraint»</text><text fill=\"#000000\" font-family=\"sans-serif\" font-size=\"14\" lengthAdjust=\"spacing\" textLength=\"83\" x=\"48.5\" y=\"207.9639\">x_constraint</text><line style=\"stroke:#181818;stroke-width:0.5;\" x1=\"33\" x2=\"155\" y1=\"216.2656\" y2=\"216.2656\"/></g></a><text fill=\"#000000\" font-family=\"sans-serif\" font-size=\"14\" lengthAdjust=\"spacing\" textLength=\"8\" x=\"193\" y=\"57.1982\">c</text><rect fill=\"#FFFFFF\" height=\"12\" style=\"stroke:#181818;stroke-width:1.5;\" width=\"12\" x=\"191\" y=\"72.5\"/><text fill=\"#000000\" font-family=\"sans-serif\" font-size=\"14\" lengthAdjust=\"spacing\" textLength=\"38\" x=\"225\" y=\"57.1982\">newX</text><rect fill=\"#FFFFFF\" height=\"12\" style=\"stroke:#181818;stroke-width:1.5;\" width=\"12\" x=\"238\" y=\"72.5\"/><!--MD5=[209b3feb70ccb6233bfe1053d122c12c]\n",
       "reverse link E2 to E3--><g id=\"link_E2_E3\"><a href=\"psysml:17b203e1-cdea-4a97-b803-663e29228052\" target=\"_top\" title=\"psysml:17b203e1-cdea-4a97-b803-663e29228052\" xlink:actuate=\"onRequest\" xlink:href=\"psysml:17b203e1-cdea-4a97-b803-663e29228052\" xlink:show=\"new\" xlink:title=\"psysml:17b203e1-cdea-4a97-b803-663e29228052\" xlink:type=\"simple\"><path d=\"M94,129.25 C94,145.43 94,162.61 94,175.88 \" fill=\"none\" id=\"E2-backto-E3\" style=\"stroke:#181818;stroke-width:1.0;\"/><polygon fill=\"#181818\" points=\"94,116,90,122,94,128,98,122,94,116\" style=\"stroke:#181818;stroke-width:1.0;\"/></a></g><!--MD5=[a818ce830915ca1307db7fb311c7a571]\n",
       "@startuml\r\n",
       "skin sysmlbw\r\n",
       "skinparam monochrome true\r\n",
       "skinparam wrapWidth 300\r\n",
       "hide circle\r\n",
       "\r\n",
       "package \"TextualRepresentationTest\" as E1  [[psysml:267f3727-84c1-426f-a395-45db3603d5f0 ]]  {\r\n",
       "comp def \"C\" as E2  <<(T,blue) item  def>> [[psysml:61886539-cbef-4e54-b839-069269561211 ]] {\r\n",
       "##//attributes//##\r\n",
       "x: Real\r\n",
       "}\r\n",
       "comp usage \"x_constraint  \" as E3  <<(T,blue) assert constraint>> [[psysml:646d3ab6-4c99-4716-814b-89245cbe5994 ]] {\r\n",
       "}\r\n",
       "rec def \"setX\" as E4  <<(T,blue) action  def>> [[psysml:3b239dd5-995b-4be0-a5de-a49576b20dda ]] {\r\n",
       "portin \"c\" as E5  [[psysml:4e0877a7-1493-46cf-81bf-47696701d005 ]] \r\n",
       "portin \"newX\" as E6  [[psysml:6814382f-4eaa-405a-a959-183965b050e4 ]] \r\n",
       "}\r\n",
       "\r\n",
       "}\r\n",
       "E2 *- - E3 [[psysml:17b203e1-cdea-4a97-b803-663e29228052 ]] \r\n",
       "@enduml\r\n",
       "\n",
       "PlantUML version 1.2022.7(Mon Aug 22 17:01:30 UTC 2022)\n",
       "(EPL source distribution)\n",
       "Java Runtime: OpenJDK Runtime Environment\n",
       "JVM: OpenJDK 64-Bit Server VM\n",
       "Default Encoding: UTF-8\n",
       "Language: en\n",
       "Country: null\n",
       "--></g></svg>"
      ]
     },
     "execution_count": 43,
     "metadata": {},
     "output_type": "execute_result"
    }
   ],
   "source": [
    "%viz --style=\"DEFAULT\" --view=\"MIXED\" \"TextualRepresentationTest\""
   ]
  },
  {
   "cell_type": "code",
   "execution_count": 44,
   "id": "5bf31b24",
   "metadata": {
    "execution": {
     "iopub.execute_input": "2024-12-16T03:26:57.562216Z",
     "iopub.status.busy": "2024-12-16T03:26:57.561952Z",
     "iopub.status.idle": "2024-12-16T03:26:57.579124Z",
     "shell.execute_reply": "2024-12-16T03:26:57.578806Z"
    }
   },
   "outputs": [
    {
     "data": {
      "image/svg+xml": [
       "<?xml version=\"1.0\" encoding=\"UTF-8\" standalone=\"no\"?><svg xmlns=\"http://www.w3.org/2000/svg\" xmlns:xlink=\"http://www.w3.org/1999/xlink\" contentStyleType=\"text/css\" height=\"256px\" preserveAspectRatio=\"none\" style=\"width:346px;height:256px;background:#FFFFFF;\" version=\"1.1\" viewBox=\"0 0 346 256\" width=\"346px\" zoomAndPan=\"magnify\"><defs/><g><!--MD5=[fbc87193dbaf4d95561dea2c320d4a47]\n",
       "cluster E1--><g id=\"cluster_E1\"><a href=\"psysml:267f3727-84c1-426f-a395-45db3603d5f0\" target=\"_top\" title=\"psysml:267f3727-84c1-426f-a395-45db3603d5f0\" xlink:actuate=\"onRequest\" xlink:href=\"psysml:267f3727-84c1-426f-a395-45db3603d5f0\" xlink:show=\"new\" xlink:title=\"psysml:267f3727-84c1-426f-a395-45db3603d5f0\" xlink:type=\"simple\"><polygon fill=\"none\" points=\"16,6,220.9375,6,227.9375,28.2969,329,28.2969,329,249.5,16,249.5,16,6\" style=\"stroke:#000000;stroke-width:1.5;\"/><line style=\"stroke:#000000;stroke-width:1.5;\" x1=\"16\" x2=\"227.9375\" y1=\"28.2969\" y2=\"28.2969\"/><text fill=\"#000000\" font-family=\"sans-serif\" font-size=\"14\" font-weight=\"bold\" lengthAdjust=\"spacing\" textLength=\"198.9375\" x=\"20\" y=\"20.9951\">TextualRepresentationTest</text></a></g><!--MD5=[f6df4d0ebaf0b5dfb2ced0ae5af7c670]\n",
       "cluster E4--><g id=\"cluster_E4\"><a href=\"psysml:3b239dd5-995b-4be0-a5de-a49576b20dda\" target=\"_top\" title=\"psysml:3b239dd5-995b-4be0-a5de-a49576b20dda\" xlink:actuate=\"onRequest\" xlink:href=\"psysml:3b239dd5-995b-4be0-a5de-a49576b20dda\" xlink:show=\"new\" xlink:title=\"psysml:3b239dd5-995b-4be0-a5de-a49576b20dda\" xlink:type=\"simple\"><rect fill=\"#FFFFFF\" height=\"155\" id=\"E4\" style=\"stroke:#383838;stroke-width:1.5;\" width=\"134\" x=\"179\" y=\"78.5\"/><text fill=\"#000000\" font-family=\"sans-serif\" font-size=\"12\" font-style=\"italic\" lengthAdjust=\"spacing\" textLength=\"81\" x=\"205.5\" y=\"94.6387\">«action  def»</text><text fill=\"#000000\" font-family=\"sans-serif\" font-size=\"14\" lengthAdjust=\"spacing\" textLength=\"31\" x=\"230.5\" y=\"110.4639\">setX</text><line style=\"stroke:#383838;stroke-width:1.0;\" x1=\"179\" x2=\"313\" y1=\"118.7656\" y2=\"118.7656\"/></a></g><!--MD5=[b4997ac47864f28c2f74865a473b2911]\n",
       "class E2--><a href=\"psysml:61886539-cbef-4e54-b839-069269561211\" target=\"_top\" title=\"psysml:61886539-cbef-4e54-b839-069269561211\" xlink:actuate=\"onRequest\" xlink:href=\"psysml:61886539-cbef-4e54-b839-069269561211\" xlink:show=\"new\" xlink:title=\"psysml:61886539-cbef-4e54-b839-069269561211\" xlink:type=\"simple\"><g id=\"elem_E2\"><rect fill=\"#FFFFFF\" height=\"75.0813\" id=\"E2\" style=\"stroke:#181818;stroke-width:0.5;\" width=\"74\" x=\"57\" y=\"41\"/><text fill=\"#000000\" font-family=\"sans-serif\" font-size=\"12\" font-style=\"italic\" lengthAdjust=\"spacing\" textLength=\"69\" x=\"59.5\" y=\"57.1387\">«item  def»</text><text fill=\"#000000\" font-family=\"sans-serif\" font-size=\"14\" lengthAdjust=\"spacing\" textLength=\"10\" x=\"89\" y=\"72.9639\">C</text><line style=\"stroke:#181818;stroke-width:0.5;\" x1=\"58\" x2=\"130\" y1=\"81.2656\" y2=\"81.2656\"/><text fill=\"#000000\" font-family=\"sans-serif\" font-size=\"14\" lengthAdjust=\"spacing\" textLength=\"46\" x=\"63\" y=\"108.7795\">x: Real</text><text fill=\"#000000\" font-family=\"sans-serif\" font-size=\"14\" font-style=\"italic\" lengthAdjust=\"spacing\" textLength=\"66\" x=\"61\" y=\"93.6123\">attributes</text></g></a><!--MD5=[09b614a08d8cba4a07c9adeb5e0fee81]\n",
       "class E3--><a href=\"psysml:646d3ab6-4c99-4716-814b-89245cbe5994\" target=\"_top\" title=\"psysml:646d3ab6-4c99-4716-814b-89245cbe5994\" xlink:actuate=\"onRequest\" xlink:href=\"psysml:646d3ab6-4c99-4716-814b-89245cbe5994\" xlink:show=\"new\" xlink:title=\"psysml:646d3ab6-4c99-4716-814b-89245cbe5994\" xlink:type=\"simple\"><g id=\"elem_E3\"><rect fill=\"#FFFFFF\" height=\"48.2656\" id=\"E3\" rx=\"10\" ry=\"10\" style=\"stroke:#181818;stroke-width:0.5;\" width=\"124\" x=\"32\" y=\"176\"/><text fill=\"#000000\" font-family=\"sans-serif\" font-size=\"12\" font-style=\"italic\" lengthAdjust=\"spacing\" textLength=\"122\" x=\"33\" y=\"192.1387\">«assert constraint»</text><text fill=\"#000000\" font-family=\"sans-serif\" font-size=\"14\" lengthAdjust=\"spacing\" textLength=\"83\" x=\"48.5\" y=\"207.9639\">x_constraint</text><line style=\"stroke:#181818;stroke-width:0.5;\" x1=\"33\" x2=\"155\" y1=\"216.2656\" y2=\"216.2656\"/></g></a><text fill=\"#000000\" font-family=\"sans-serif\" font-size=\"14\" lengthAdjust=\"spacing\" textLength=\"8\" x=\"193\" y=\"57.1982\">c</text><rect fill=\"#FFFFFF\" height=\"12\" style=\"stroke:#181818;stroke-width:1.5;\" width=\"12\" x=\"191\" y=\"72.5\"/><text fill=\"#000000\" font-family=\"sans-serif\" font-size=\"14\" lengthAdjust=\"spacing\" textLength=\"38\" x=\"225\" y=\"57.1982\">newX</text><rect fill=\"#FFFFFF\" height=\"12\" style=\"stroke:#181818;stroke-width:1.5;\" width=\"12\" x=\"238\" y=\"72.5\"/><!--MD5=[209b3feb70ccb6233bfe1053d122c12c]\n",
       "reverse link E2 to E3--><g id=\"link_E2_E3\"><a href=\"psysml:17b203e1-cdea-4a97-b803-663e29228052\" target=\"_top\" title=\"psysml:17b203e1-cdea-4a97-b803-663e29228052\" xlink:actuate=\"onRequest\" xlink:href=\"psysml:17b203e1-cdea-4a97-b803-663e29228052\" xlink:show=\"new\" xlink:title=\"psysml:17b203e1-cdea-4a97-b803-663e29228052\" xlink:type=\"simple\"><path d=\"M94,129.25 C94,145.43 94,162.61 94,175.88 \" fill=\"none\" id=\"E2-backto-E3\" style=\"stroke:#181818;stroke-width:1.0;\"/><polygon fill=\"#181818\" points=\"94,116,90,122,94,128,98,122,94,116\" style=\"stroke:#181818;stroke-width:1.0;\"/></a></g><!--MD5=[6d42be25861f6a365467590889663027]\n",
       "@startuml\r\n",
       "skin sysmlbw\r\n",
       "skinparam monochrome true\r\n",
       "skinparam wrapWidth 300\r\n",
       "hide circle\r\n",
       "top to bottom direction\r\n",
       "\r\n",
       "package \"TextualRepresentationTest\" as E1  [[psysml:267f3727-84c1-426f-a395-45db3603d5f0 ]]  {\r\n",
       "comp def \"C\" as E2  <<(T,blue) item  def>> [[psysml:61886539-cbef-4e54-b839-069269561211 ]] {\r\n",
       "##//attributes//##\r\n",
       "x: Real\r\n",
       "}\r\n",
       "comp usage \"x_constraint  \" as E3  <<(T,blue) assert constraint>> [[psysml:646d3ab6-4c99-4716-814b-89245cbe5994 ]] {\r\n",
       "}\r\n",
       "rec def \"setX\" as E4  <<(T,blue) action  def>> [[psysml:3b239dd5-995b-4be0-a5de-a49576b20dda ]] {\r\n",
       "portin \"c\" as E5  [[psysml:4e0877a7-1493-46cf-81bf-47696701d005 ]] \r\n",
       "portin \"newX\" as E6  [[psysml:6814382f-4eaa-405a-a959-183965b050e4 ]] \r\n",
       "}\r\n",
       "\r\n",
       "}\r\n",
       "E2 *- - E3 [[psysml:17b203e1-cdea-4a97-b803-663e29228052 ]] \r\n",
       "@enduml\r\n",
       "\n",
       "PlantUML version 1.2022.7(Mon Aug 22 17:01:30 UTC 2022)\n",
       "(EPL source distribution)\n",
       "Java Runtime: OpenJDK Runtime Environment\n",
       "JVM: OpenJDK 64-Bit Server VM\n",
       "Default Encoding: UTF-8\n",
       "Language: en\n",
       "Country: null\n",
       "--></g></svg>"
      ]
     },
     "execution_count": 44,
     "metadata": {},
     "output_type": "execute_result"
    }
   ],
   "source": [
    "%viz --style=\"TB\" --view=\"Default\" \"TextualRepresentationTest\""
   ]
  },
  {
   "cell_type": "code",
   "execution_count": 45,
   "id": "84f707d3",
   "metadata": {
    "execution": {
     "iopub.execute_input": "2024-12-16T03:26:57.630977Z",
     "iopub.status.busy": "2024-12-16T03:26:57.630765Z",
     "iopub.status.idle": "2024-12-16T03:26:57.647282Z",
     "shell.execute_reply": "2024-12-16T03:26:57.647429Z"
    }
   },
   "outputs": [
    {
     "data": {
      "image/svg+xml": [
       "<?xml version=\"1.0\" encoding=\"UTF-8\" standalone=\"no\"?><svg xmlns=\"http://www.w3.org/2000/svg\" xmlns:xlink=\"http://www.w3.org/1999/xlink\" contentStyleType=\"text/css\" height=\"373px\" preserveAspectRatio=\"none\" style=\"width:247px;height:373px;background:#FFFFFF;\" version=\"1.1\" viewBox=\"0 0 247 373\" width=\"247px\" zoomAndPan=\"magnify\"><defs/><g><!--MD5=[fbc87193dbaf4d95561dea2c320d4a47]\n",
       "cluster E1--><g id=\"cluster_E1\"><a href=\"psysml:267f3727-84c1-426f-a395-45db3603d5f0\" target=\"_top\" title=\"psysml:267f3727-84c1-426f-a395-45db3603d5f0\" xlink:actuate=\"onRequest\" xlink:href=\"psysml:267f3727-84c1-426f-a395-45db3603d5f0\" xlink:show=\"new\" xlink:title=\"psysml:267f3727-84c1-426f-a395-45db3603d5f0\" xlink:type=\"simple\"><polygon fill=\"none\" points=\"16,6,220.9375,6,227.9375,28.2969,230,28.2969,230,366,16,366,16,6\" style=\"stroke:#000000;stroke-width:1.5;\"/><line style=\"stroke:#000000;stroke-width:1.5;\" x1=\"16\" x2=\"227.9375\" y1=\"28.2969\" y2=\"28.2969\"/><text fill=\"#000000\" font-family=\"sans-serif\" font-size=\"14\" font-weight=\"bold\" lengthAdjust=\"spacing\" textLength=\"198.9375\" x=\"20\" y=\"20.9951\">TextualRepresentationTest</text></a></g><!--MD5=[b4997ac47864f28c2f74865a473b2911]\n",
       "class E2--><a href=\"psysml:61886539-cbef-4e54-b839-069269561211\" target=\"_top\" title=\"psysml:61886539-cbef-4e54-b839-069269561211\" xlink:actuate=\"onRequest\" xlink:href=\"psysml:61886539-cbef-4e54-b839-069269561211\" xlink:show=\"new\" xlink:title=\"psysml:61886539-cbef-4e54-b839-069269561211\" xlink:type=\"simple\"><g id=\"elem_E2\"><rect fill=\"#FFFFFF\" height=\"75.0813\" id=\"E2\" style=\"stroke:#181818;stroke-width:0.5;\" width=\"74\" x=\"86\" y=\"166\"/><text fill=\"#000000\" font-family=\"sans-serif\" font-size=\"12\" font-style=\"italic\" lengthAdjust=\"spacing\" textLength=\"69\" x=\"88.5\" y=\"182.1387\">«item  def»</text><text fill=\"#000000\" font-family=\"sans-serif\" font-size=\"14\" lengthAdjust=\"spacing\" textLength=\"10\" x=\"118\" y=\"197.9639\">C</text><line style=\"stroke:#181818;stroke-width:0.5;\" x1=\"87\" x2=\"159\" y1=\"206.2656\" y2=\"206.2656\"/><text fill=\"#000000\" font-family=\"sans-serif\" font-size=\"14\" lengthAdjust=\"spacing\" textLength=\"46\" x=\"92\" y=\"233.7795\">x: Real</text><text fill=\"#000000\" font-family=\"sans-serif\" font-size=\"14\" font-style=\"italic\" lengthAdjust=\"spacing\" textLength=\"66\" x=\"90\" y=\"218.6123\">attributes</text></g></a><!--MD5=[09b614a08d8cba4a07c9adeb5e0fee81]\n",
       "class E3--><a href=\"psysml:646d3ab6-4c99-4716-814b-89245cbe5994\" target=\"_top\" title=\"psysml:646d3ab6-4c99-4716-814b-89245cbe5994\" xlink:actuate=\"onRequest\" xlink:href=\"psysml:646d3ab6-4c99-4716-814b-89245cbe5994\" xlink:show=\"new\" xlink:title=\"psysml:646d3ab6-4c99-4716-814b-89245cbe5994\" xlink:type=\"simple\"><g id=\"elem_E3\"><rect fill=\"#FFFFFF\" height=\"48.2656\" id=\"E3\" rx=\"10\" ry=\"10\" style=\"stroke:#181818;stroke-width:0.5;\" width=\"124\" x=\"61\" y=\"302\"/><text fill=\"#000000\" font-family=\"sans-serif\" font-size=\"12\" font-style=\"italic\" lengthAdjust=\"spacing\" textLength=\"122\" x=\"62\" y=\"318.1387\">«assert constraint»</text><text fill=\"#000000\" font-family=\"sans-serif\" font-size=\"14\" lengthAdjust=\"spacing\" textLength=\"83\" x=\"77.5\" y=\"333.9639\">x_constraint</text><line style=\"stroke:#181818;stroke-width:0.5;\" x1=\"62\" x2=\"184\" y1=\"342.2656\" y2=\"342.2656\"/></g></a><!--MD5=[ebbe1d658d1005bcc118a6aa81145e00]\n",
       "class E4--><a href=\"psysml:3b239dd5-995b-4be0-a5de-a49576b20dda\" target=\"_top\" title=\"psysml:3b239dd5-995b-4be0-a5de-a49576b20dda\" xlink:actuate=\"onRequest\" xlink:href=\"psysml:3b239dd5-995b-4be0-a5de-a49576b20dda\" xlink:show=\"new\" xlink:title=\"psysml:3b239dd5-995b-4be0-a5de-a49576b20dda\" xlink:type=\"simple\"><g id=\"elem_E4\"><rect fill=\"#FFFFFF\" height=\"48.2656\" id=\"E4\" style=\"stroke:#181818;stroke-width:0.5;\" width=\"83\" x=\"81.5\" y=\"41\"/><text fill=\"#000000\" font-family=\"sans-serif\" font-size=\"12\" font-style=\"italic\" lengthAdjust=\"spacing\" textLength=\"81\" x=\"82.5\" y=\"57.1387\">«action  def»</text><text fill=\"#000000\" font-family=\"sans-serif\" font-size=\"14\" lengthAdjust=\"spacing\" textLength=\"31\" x=\"107.5\" y=\"72.9639\">setX</text><line style=\"stroke:#181818;stroke-width:0.5;\" x1=\"82.5\" x2=\"163.5\" y1=\"81.2656\" y2=\"81.2656\"/></g></a><!--MD5=[209b3feb70ccb6233bfe1053d122c12c]\n",
       "reverse link E2 to E3--><g id=\"link_E2_E3\"><a href=\"psysml:17b203e1-cdea-4a97-b803-663e29228052\" target=\"_top\" title=\"psysml:17b203e1-cdea-4a97-b803-663e29228052\" xlink:actuate=\"onRequest\" xlink:href=\"psysml:17b203e1-cdea-4a97-b803-663e29228052\" xlink:show=\"new\" xlink:title=\"psysml:17b203e1-cdea-4a97-b803-663e29228052\" xlink:type=\"simple\"><path d=\"M123,254.67 C123,270.98 123,288.31 123,301.69 \" fill=\"none\" id=\"E2-backto-E3\" style=\"stroke:#181818;stroke-width:1.0;\"/><polygon fill=\"#181818\" points=\"123,241.31,119,247.31,123,253.31,127,247.31,123,241.31\" style=\"stroke:#181818;stroke-width:1.0;\"/></a></g><!--MD5=[ddeed8deb2209213b62e6cfabaa108b2]\n",
       "reverse link E4 to E2--><g id=\"link_E4_E2\"><a href=\"psysml:4e0877a7-1493-46cf-81bf-47696701d005\" target=\"_top\" title=\"psysml:4e0877a7-1493-46cf-81bf-47696701d005\" xlink:actuate=\"onRequest\" xlink:href=\"psysml:4e0877a7-1493-46cf-81bf-47696701d005\" xlink:show=\"new\" xlink:title=\"psysml:4e0877a7-1493-46cf-81bf-47696701d005\" xlink:type=\"simple\"><path d=\"M123,102.22 C123,121.88 123,146.11 123,165.84 \" fill=\"none\" id=\"E4-backto-E2\" style=\"stroke:#181818;stroke-width:1.0;\"/><polygon fill=\"none\" points=\"123,89.16,119,95.16,123,101.16,127,95.16,123,89.16\" style=\"stroke:#181818;stroke-width:1.0;\"/><text fill=\"#000000\" font-family=\"sans-serif\" font-size=\"13\" lengthAdjust=\"spacing\" textLength=\"7\" x=\"124\" y=\"132.0669\">c</text></a></g><!--MD5=[fadc1a70ab5290d10d27f3c7d2878735]\n",
       "@startuml\r\n",
       "skin sysmlbw\r\n",
       "skinparam monochrome true\r\n",
       "skinparam wrapWidth 300\r\n",
       "hide circle\r\n",
       "top to bottom direction\r\n",
       "\r\n",
       "package \"TextualRepresentationTest\" as E1  [[psysml:267f3727-84c1-426f-a395-45db3603d5f0 ]]  {\r\n",
       "comp def \"C\" as E2  <<(T,blue) item  def>> [[psysml:61886539-cbef-4e54-b839-069269561211 ]] {\r\n",
       "##//attributes//##\r\n",
       "x: Real\r\n",
       "}\r\n",
       "comp usage \"x_constraint  \" as E3  <<(T,blue) assert constraint>> [[psysml:646d3ab6-4c99-4716-814b-89245cbe5994 ]] {\r\n",
       "}\r\n",
       "comp def \"setX\" as E4  <<(T,blue) action  def>> [[psysml:3b239dd5-995b-4be0-a5de-a49576b20dda ]] {\r\n",
       "}\r\n",
       "}\r\n",
       "E2 *- - E3 [[psysml:17b203e1-cdea-4a97-b803-663e29228052 ]] \r\n",
       "E4 o- - E2 [[psysml:4e0877a7-1493-46cf-81bf-47696701d005 ]] : c\r\n",
       "@enduml\r\n",
       "\n",
       "PlantUML version 1.2022.7(Mon Aug 22 17:01:30 UTC 2022)\n",
       "(EPL source distribution)\n",
       "Java Runtime: OpenJDK Runtime Environment\n",
       "JVM: OpenJDK 64-Bit Server VM\n",
       "Default Encoding: UTF-8\n",
       "Language: en\n",
       "Country: null\n",
       "--></g></svg>"
      ]
     },
     "execution_count": 45,
     "metadata": {},
     "output_type": "execute_result"
    }
   ],
   "source": [
    "%viz --style=\"TB\" --view=\"Tree\" \"TextualRepresentationTest\""
   ]
  },
  {
   "cell_type": "code",
   "execution_count": 46,
   "id": "094c8228",
   "metadata": {
    "execution": {
     "iopub.execute_input": "2024-12-16T03:26:57.704128Z",
     "iopub.status.busy": "2024-12-16T03:26:57.703895Z",
     "iopub.status.idle": "2024-12-16T03:26:57.708152Z",
     "shell.execute_reply": "2024-12-16T03:26:57.707968Z"
    }
   },
   "outputs": [
    {
     "data": {
      "image/svg+xml": [
       "<?xml version=\"1.0\" encoding=\"UTF-8\" standalone=\"no\"?><svg xmlns=\"http://www.w3.org/2000/svg\" xmlns:xlink=\"http://www.w3.org/1999/xlink\" contentStyleType=\"text/css\" height=\"10px\" preserveAspectRatio=\"none\" style=\"width:10px;height:10px;background:#FFFFFF;\" version=\"1.1\" viewBox=\"0 0 10 10\" width=\"10px\" zoomAndPan=\"magnify\"><defs/><g><!--MD5=[457d54036ad86991b1ebb71db2c9a3b1]\n",
       "@startuml\r\n",
       "skin sysmlbw\r\n",
       "skinparam monochrome true\r\n",
       "skinparam wrapWidth 300\r\n",
       "hide circle\r\n",
       "top to bottom direction\r\n",
       "\r\n",
       "@enduml\r\n",
       "\n",
       "PlantUML version 1.2022.7(Mon Aug 22 17:01:30 UTC 2022)\n",
       "(EPL source distribution)\n",
       "Java Runtime: OpenJDK Runtime Environment\n",
       "JVM: OpenJDK 64-Bit Server VM\n",
       "Default Encoding: UTF-8\n",
       "Language: en\n",
       "Country: null\n",
       "--></g></svg>"
      ]
     },
     "execution_count": 46,
     "metadata": {},
     "output_type": "execute_result"
    }
   ],
   "source": [
    "%viz --style=\"TB\" --view=\"State\" \"TextualRepresentationTest\""
   ]
  },
  {
   "cell_type": "code",
   "execution_count": 47,
   "id": "f34a65db",
   "metadata": {
    "execution": {
     "iopub.execute_input": "2024-12-16T03:26:57.763027Z",
     "iopub.status.busy": "2024-12-16T03:26:57.762773Z",
     "iopub.status.idle": "2024-12-16T03:26:57.776691Z",
     "shell.execute_reply": "2024-12-16T03:26:57.776487Z"
    }
   },
   "outputs": [
    {
     "data": {
      "image/svg+xml": [
       "<?xml version=\"1.0\" encoding=\"UTF-8\" standalone=\"no\"?><svg xmlns=\"http://www.w3.org/2000/svg\" xmlns:xlink=\"http://www.w3.org/1999/xlink\" contentStyleType=\"text/css\" height=\"176px\" preserveAspectRatio=\"none\" style=\"width:287px;height:176px;background:#FFFFFF;\" version=\"1.1\" viewBox=\"0 0 287 176\" width=\"287px\" zoomAndPan=\"magnify\"><defs/><g><!--MD5=[fbc87193dbaf4d95561dea2c320d4a47]\n",
       "cluster E1--><g id=\"cluster_E1\"><a href=\"psysml:267f3727-84c1-426f-a395-45db3603d5f0\" target=\"_top\" title=\"psysml:267f3727-84c1-426f-a395-45db3603d5f0\" xlink:actuate=\"onRequest\" xlink:href=\"psysml:267f3727-84c1-426f-a395-45db3603d5f0\" xlink:show=\"new\" xlink:title=\"psysml:267f3727-84c1-426f-a395-45db3603d5f0\" xlink:type=\"simple\"><polygon fill=\"none\" points=\"16,6,220.9375,6,227.9375,28.2969,270,28.2969,270,169,16,169,16,6\" style=\"stroke:#000000;stroke-width:1.5;\"/><line style=\"stroke:#000000;stroke-width:1.5;\" x1=\"16\" x2=\"227.9375\" y1=\"28.2969\" y2=\"28.2969\"/><text fill=\"#000000\" font-family=\"sans-serif\" font-size=\"14\" font-weight=\"bold\" lengthAdjust=\"spacing\" textLength=\"198.9375\" x=\"20\" y=\"20.9951\">TextualRepresentationTest</text></a></g><!--MD5=[d5e69f78d87373223dbae638b30a9c99]\n",
       "cluster E3--><g id=\"cluster_E3\"><a href=\"psysml:3b239dd5-995b-4be0-a5de-a49576b20dda\" target=\"_top\" title=\"psysml:3b239dd5-995b-4be0-a5de-a49576b20dda\" xlink:actuate=\"onRequest\" xlink:href=\"psysml:3b239dd5-995b-4be0-a5de-a49576b20dda\" xlink:show=\"new\" xlink:title=\"psysml:3b239dd5-995b-4be0-a5de-a49576b20dda\" xlink:type=\"simple\"><rect fill=\"#FFFFFF\" height=\"89.5\" id=\"E3\" style=\"stroke:#383838;stroke-width:1.5;\" width=\"100\" x=\"122.5\" y=\"63.5\"/><text fill=\"#000000\" font-family=\"sans-serif\" font-size=\"12\" font-style=\"italic\" lengthAdjust=\"spacing\" textLength=\"81\" x=\"132\" y=\"79.6387\">«action  def»</text><text fill=\"#000000\" font-family=\"sans-serif\" font-size=\"14\" lengthAdjust=\"spacing\" textLength=\"31\" x=\"157\" y=\"95.4639\">setX</text><line style=\"stroke:#383838;stroke-width:1.0;\" x1=\"122.5\" x2=\"222.5\" y1=\"103.7656\" y2=\"103.7656\"/></a></g><g><a href=\"psysml:61886539-cbef-4e54-b839-069269561211\" target=\"_top\" title=\"psysml:61886539-cbef-4e54-b839-069269561211\" xlink:actuate=\"onRequest\" xlink:href=\"psysml:61886539-cbef-4e54-b839-069269561211\" xlink:show=\"new\" xlink:title=\"psysml:61886539-cbef-4e54-b839-069269561211\" xlink:type=\"simple\"><rect fill=\"#FFFFFF\" height=\"45.2656\" id=\"E2\" style=\"stroke:#383838;stroke-width:1.5;\" width=\"76\" x=\"32\" y=\"41\"/><text fill=\"#000000\" font-family=\"sans-serif\" font-size=\"12\" font-style=\"italic\" lengthAdjust=\"spacing\" textLength=\"69\" x=\"35.5\" y=\"57.1387\">«item  def»</text><text fill=\"#000000\" font-family=\"sans-serif\" font-size=\"14\" lengthAdjust=\"spacing\" textLength=\"10\" x=\"65\" y=\"72.9639\">C</text></a></g><text fill=\"#000000\" font-family=\"sans-serif\" font-size=\"14\" lengthAdjust=\"spacing\" textLength=\"8\" x=\"145\" y=\"42.1982\">c</text><rect fill=\"#FFFFFF\" height=\"12\" style=\"stroke:#181818;stroke-width:1.5;\" width=\"12\" x=\"143\" y=\"57.5\"/><text fill=\"#000000\" font-family=\"sans-serif\" font-size=\"14\" lengthAdjust=\"spacing\" textLength=\"38\" x=\"177\" y=\"42.1982\">newX</text><rect fill=\"#FFFFFF\" height=\"12\" style=\"stroke:#181818;stroke-width:1.5;\" width=\"12\" x=\"190\" y=\"57.5\"/><!--MD5=[380a57b076002faf78f70d46bf9ac471]\n",
       "@startuml\r\n",
       "skin sysmlbw\r\n",
       "skinparam monochrome true\r\n",
       "skinparam wrapWidth 300\r\n",
       "hide circle\r\n",
       "top to bottom direction\r\n",
       "skinparam ranksep 10\r\n",
       "skinparam rectangle {\r\n",
       " backgroundColor<<block>> LightGreen\r\n",
       "}\r\n",
       "\r\n",
       "package \"TextualRepresentationTest\" as E1  [[psysml:267f3727-84c1-426f-a395-45db3603d5f0 ]]  {\r\n",
       "def \"C\" as E2  <<(T,blue) item  def>> [[psysml:61886539-cbef-4e54-b839-069269561211 ]] \r\n",
       "rec def \"setX\" as E3  <<(T,blue) action  def>> [[psysml:3b239dd5-995b-4be0-a5de-a49576b20dda ]] {\r\n",
       "portin \"c\" as E4  [[psysml:4e0877a7-1493-46cf-81bf-47696701d005 ]] \r\n",
       "portin \"newX\" as E5  [[psysml:6814382f-4eaa-405a-a959-183965b050e4 ]] \r\n",
       "}\r\n",
       "\r\n",
       "}\r\n",
       "@enduml\r\n",
       "\n",
       "PlantUML version 1.2022.7(Mon Aug 22 17:01:30 UTC 2022)\n",
       "(EPL source distribution)\n",
       "Java Runtime: OpenJDK Runtime Environment\n",
       "JVM: OpenJDK 64-Bit Server VM\n",
       "Default Encoding: UTF-8\n",
       "Language: en\n",
       "Country: null\n",
       "--></g></svg>"
      ]
     },
     "execution_count": 47,
     "metadata": {},
     "output_type": "execute_result"
    }
   ],
   "source": [
    "%viz --style=\"TB\" --view=\"Interconnection\" \"TextualRepresentationTest\""
   ]
  },
  {
   "cell_type": "code",
   "execution_count": 48,
   "id": "e0eac955",
   "metadata": {
    "execution": {
     "iopub.execute_input": "2024-12-16T03:26:57.831072Z",
     "iopub.status.busy": "2024-12-16T03:26:57.830801Z",
     "iopub.status.idle": "2024-12-16T03:26:57.842959Z",
     "shell.execute_reply": "2024-12-16T03:26:57.843098Z"
    }
   },
   "outputs": [
    {
     "data": {
      "image/svg+xml": [
       "<?xml version=\"1.0\" encoding=\"UTF-8\" standalone=\"no\"?><svg xmlns=\"http://www.w3.org/2000/svg\" xmlns:xlink=\"http://www.w3.org/1999/xlink\" contentStyleType=\"text/css\" height=\"121px\" preserveAspectRatio=\"none\" style=\"width:148px;height:121px;background:#FFFFFF;\" version=\"1.1\" viewBox=\"0 0 148 121\" width=\"148px\" zoomAndPan=\"magnify\"><defs/><g><!--MD5=[fbc87193dbaf4d95561dea2c320d4a47]\n",
       "cluster E1--><g id=\"cluster_E1\"><a href=\"psysml:3b239dd5-995b-4be0-a5de-a49576b20dda\" target=\"_top\" title=\"psysml:3b239dd5-995b-4be0-a5de-a49576b20dda\" xlink:actuate=\"onRequest\" xlink:href=\"psysml:3b239dd5-995b-4be0-a5de-a49576b20dda\" xlink:show=\"new\" xlink:title=\"psysml:3b239dd5-995b-4be0-a5de-a49576b20dda\" xlink:type=\"simple\"><rect fill=\"#FFFFFF\" height=\"73\" id=\"E1\" style=\"stroke:#383838;stroke-width:1.5;\" width=\"134\" x=\"7\" y=\"42.0986\"/><text fill=\"#000000\" font-family=\"sans-serif\" font-size=\"12\" font-style=\"italic\" lengthAdjust=\"spacing\" textLength=\"81\" x=\"33.5\" y=\"58.2373\">«action  def»</text><text fill=\"#000000\" font-family=\"sans-serif\" font-size=\"14\" lengthAdjust=\"spacing\" textLength=\"31\" x=\"58.5\" y=\"74.0625\">setX</text><line style=\"stroke:#383838;stroke-width:1.0;\" x1=\"7\" x2=\"141\" y1=\"82.3643\" y2=\"82.3643\"/></a></g><text fill=\"#000000\" font-family=\"sans-serif\" font-size=\"14\" lengthAdjust=\"spacing\" textLength=\"8\" x=\"21\" y=\"20.7969\">c</text><rect fill=\"#FFFFFF\" height=\"12\" style=\"stroke:#181818;stroke-width:1.5;\" width=\"12\" x=\"19\" y=\"36.0986\"/><text fill=\"#000000\" font-family=\"sans-serif\" font-size=\"14\" lengthAdjust=\"spacing\" textLength=\"38\" x=\"53\" y=\"20.7969\">newX</text><rect fill=\"#FFFFFF\" height=\"12\" style=\"stroke:#181818;stroke-width:1.5;\" width=\"12\" x=\"66\" y=\"36.0986\"/><!--MD5=[66bc495f67e1b4f8a5b0a6dc9ddbad6c]\n",
       "@startuml\r\n",
       "skin sysmlbw\r\n",
       "skinparam monochrome true\r\n",
       "skinparam wrapWidth 300\r\n",
       "hide circle\r\n",
       "top to bottom direction\r\n",
       "skinparam ranksep 8\r\n",
       "\r\n",
       "rec def \"setX\" as E1  <<(T,blue) action  def>> [[psysml:3b239dd5-995b-4be0-a5de-a49576b20dda ]] {\r\n",
       "portin \"c\" as E2  [[psysml:4e0877a7-1493-46cf-81bf-47696701d005 ]] \r\n",
       "portin \"newX\" as E3  [[psysml:6814382f-4eaa-405a-a959-183965b050e4 ]] \r\n",
       "}\r\n",
       "\r\n",
       "@enduml\r\n",
       "\n",
       "PlantUML version 1.2022.7(Mon Aug 22 17:01:30 UTC 2022)\n",
       "(EPL source distribution)\n",
       "Java Runtime: OpenJDK Runtime Environment\n",
       "JVM: OpenJDK 64-Bit Server VM\n",
       "Default Encoding: UTF-8\n",
       "Language: en\n",
       "Country: null\n",
       "--></g></svg>"
      ]
     },
     "execution_count": 48,
     "metadata": {},
     "output_type": "execute_result"
    }
   ],
   "source": [
    "%viz --style=\"TB\" --view=\"Action\" \"TextualRepresentationTest\""
   ]
  },
  {
   "cell_type": "code",
   "execution_count": 49,
   "id": "9b928558",
   "metadata": {
    "execution": {
     "iopub.execute_input": "2024-12-16T03:26:57.896214Z",
     "iopub.status.busy": "2024-12-16T03:26:57.895982Z",
     "iopub.status.idle": "2024-12-16T03:26:57.901574Z",
     "shell.execute_reply": "2024-12-16T03:26:57.901383Z"
    }
   },
   "outputs": [
    {
     "data": {
      "image/svg+xml": [
       "<?xml version=\"1.0\" encoding=\"UTF-8\" standalone=\"no\"?><svg xmlns=\"http://www.w3.org/2000/svg\" xmlns:xlink=\"http://www.w3.org/1999/xlink\" contentStyleType=\"text/css\" height=\"10px\" preserveAspectRatio=\"none\" style=\"width:10px;height:10px;background:#FFFFFF;\" version=\"1.1\" viewBox=\"0 0 10 10\" width=\"10px\" zoomAndPan=\"magnify\"><defs/><g><!--MD5=[228a58293b408a2cee091b1559da5a28]\n",
       "@startuml\r\n",
       "skin sysmlbw\r\n",
       "skinparam monochrome true\r\n",
       "skinparam wrapWidth 300\r\n",
       "hide circle\r\n",
       "top to bottom direction\r\n",
       "skinparam roundcorner 20\r\n",
       "skinparam BoxPadding 20\r\n",
       "skinparam SequenceBoxBackgroundColor #white\r\n",
       "skinparam style strictuml\r\n",
       "skinparam maxMessageSize 100\r\n",
       "\r\n",
       "@enduml\r\n",
       "\n",
       "PlantUML version 1.2022.7(Mon Aug 22 17:01:30 UTC 2022)\n",
       "(EPL source distribution)\n",
       "Java Runtime: OpenJDK Runtime Environment\n",
       "JVM: OpenJDK 64-Bit Server VM\n",
       "Default Encoding: UTF-8\n",
       "Language: en\n",
       "Country: null\n",
       "--></g></svg>"
      ]
     },
     "execution_count": 49,
     "metadata": {},
     "output_type": "execute_result"
    }
   ],
   "source": [
    "%viz --style=\"TB\" --view=\"Sequence\" \"TextualRepresentationTest\""
   ]
  },
  {
   "cell_type": "code",
   "execution_count": 50,
   "id": "87d57bf8",
   "metadata": {
    "execution": {
     "iopub.execute_input": "2024-12-16T03:26:57.956085Z",
     "iopub.status.busy": "2024-12-16T03:26:57.955895Z",
     "iopub.status.idle": "2024-12-16T03:26:57.975130Z",
     "shell.execute_reply": "2024-12-16T03:26:57.974354Z"
    }
   },
   "outputs": [
    {
     "data": {
      "image/svg+xml": [
       "<?xml version=\"1.0\" encoding=\"UTF-8\" standalone=\"no\"?><svg xmlns=\"http://www.w3.org/2000/svg\" xmlns:xlink=\"http://www.w3.org/1999/xlink\" contentStyleType=\"text/css\" height=\"256px\" preserveAspectRatio=\"none\" style=\"width:346px;height:256px;background:#FFFFFF;\" version=\"1.1\" viewBox=\"0 0 346 256\" width=\"346px\" zoomAndPan=\"magnify\"><defs/><g><!--MD5=[fbc87193dbaf4d95561dea2c320d4a47]\n",
       "cluster E1--><g id=\"cluster_E1\"><a href=\"psysml:267f3727-84c1-426f-a395-45db3603d5f0\" target=\"_top\" title=\"psysml:267f3727-84c1-426f-a395-45db3603d5f0\" xlink:actuate=\"onRequest\" xlink:href=\"psysml:267f3727-84c1-426f-a395-45db3603d5f0\" xlink:show=\"new\" xlink:title=\"psysml:267f3727-84c1-426f-a395-45db3603d5f0\" xlink:type=\"simple\"><polygon fill=\"none\" points=\"16,6,220.9375,6,227.9375,28.2969,329,28.2969,329,249.5,16,249.5,16,6\" style=\"stroke:#000000;stroke-width:1.5;\"/><line style=\"stroke:#000000;stroke-width:1.5;\" x1=\"16\" x2=\"227.9375\" y1=\"28.2969\" y2=\"28.2969\"/><text fill=\"#000000\" font-family=\"sans-serif\" font-size=\"14\" font-weight=\"bold\" lengthAdjust=\"spacing\" textLength=\"198.9375\" x=\"20\" y=\"20.9951\">TextualRepresentationTest</text></a></g><!--MD5=[f6df4d0ebaf0b5dfb2ced0ae5af7c670]\n",
       "cluster E4--><g id=\"cluster_E4\"><a href=\"psysml:3b239dd5-995b-4be0-a5de-a49576b20dda\" target=\"_top\" title=\"psysml:3b239dd5-995b-4be0-a5de-a49576b20dda\" xlink:actuate=\"onRequest\" xlink:href=\"psysml:3b239dd5-995b-4be0-a5de-a49576b20dda\" xlink:show=\"new\" xlink:title=\"psysml:3b239dd5-995b-4be0-a5de-a49576b20dda\" xlink:type=\"simple\"><rect fill=\"#FFFFFF\" height=\"155\" id=\"E4\" style=\"stroke:#383838;stroke-width:1.5;\" width=\"134\" x=\"179\" y=\"78.5\"/><text fill=\"#000000\" font-family=\"sans-serif\" font-size=\"12\" font-style=\"italic\" lengthAdjust=\"spacing\" textLength=\"81\" x=\"205.5\" y=\"94.6387\">«action  def»</text><text fill=\"#000000\" font-family=\"sans-serif\" font-size=\"14\" lengthAdjust=\"spacing\" textLength=\"31\" x=\"230.5\" y=\"110.4639\">setX</text><line style=\"stroke:#383838;stroke-width:1.0;\" x1=\"179\" x2=\"313\" y1=\"118.7656\" y2=\"118.7656\"/></a></g><!--MD5=[b4997ac47864f28c2f74865a473b2911]\n",
       "class E2--><a href=\"psysml:61886539-cbef-4e54-b839-069269561211\" target=\"_top\" title=\"psysml:61886539-cbef-4e54-b839-069269561211\" xlink:actuate=\"onRequest\" xlink:href=\"psysml:61886539-cbef-4e54-b839-069269561211\" xlink:show=\"new\" xlink:title=\"psysml:61886539-cbef-4e54-b839-069269561211\" xlink:type=\"simple\"><g id=\"elem_E2\"><rect fill=\"#FFFFFF\" height=\"75.0813\" id=\"E2\" style=\"stroke:#181818;stroke-width:0.5;\" width=\"74\" x=\"57\" y=\"41\"/><text fill=\"#000000\" font-family=\"sans-serif\" font-size=\"12\" font-style=\"italic\" lengthAdjust=\"spacing\" textLength=\"69\" x=\"59.5\" y=\"57.1387\">«item  def»</text><text fill=\"#000000\" font-family=\"sans-serif\" font-size=\"14\" lengthAdjust=\"spacing\" textLength=\"10\" x=\"89\" y=\"72.9639\">C</text><line style=\"stroke:#181818;stroke-width:0.5;\" x1=\"58\" x2=\"130\" y1=\"81.2656\" y2=\"81.2656\"/><text fill=\"#000000\" font-family=\"sans-serif\" font-size=\"14\" lengthAdjust=\"spacing\" textLength=\"46\" x=\"63\" y=\"108.7795\">x: Real</text><text fill=\"#000000\" font-family=\"sans-serif\" font-size=\"14\" font-style=\"italic\" lengthAdjust=\"spacing\" textLength=\"66\" x=\"61\" y=\"93.6123\">attributes</text></g></a><!--MD5=[09b614a08d8cba4a07c9adeb5e0fee81]\n",
       "class E3--><a href=\"psysml:646d3ab6-4c99-4716-814b-89245cbe5994\" target=\"_top\" title=\"psysml:646d3ab6-4c99-4716-814b-89245cbe5994\" xlink:actuate=\"onRequest\" xlink:href=\"psysml:646d3ab6-4c99-4716-814b-89245cbe5994\" xlink:show=\"new\" xlink:title=\"psysml:646d3ab6-4c99-4716-814b-89245cbe5994\" xlink:type=\"simple\"><g id=\"elem_E3\"><rect fill=\"#FFFFFF\" height=\"48.2656\" id=\"E3\" rx=\"10\" ry=\"10\" style=\"stroke:#181818;stroke-width:0.5;\" width=\"124\" x=\"32\" y=\"176\"/><text fill=\"#000000\" font-family=\"sans-serif\" font-size=\"12\" font-style=\"italic\" lengthAdjust=\"spacing\" textLength=\"122\" x=\"33\" y=\"192.1387\">«assert constraint»</text><text fill=\"#000000\" font-family=\"sans-serif\" font-size=\"14\" lengthAdjust=\"spacing\" textLength=\"83\" x=\"48.5\" y=\"207.9639\">x_constraint</text><line style=\"stroke:#181818;stroke-width:0.5;\" x1=\"33\" x2=\"155\" y1=\"216.2656\" y2=\"216.2656\"/></g></a><text fill=\"#000000\" font-family=\"sans-serif\" font-size=\"14\" lengthAdjust=\"spacing\" textLength=\"8\" x=\"193\" y=\"57.1982\">c</text><rect fill=\"#FFFFFF\" height=\"12\" style=\"stroke:#181818;stroke-width:1.5;\" width=\"12\" x=\"191\" y=\"72.5\"/><text fill=\"#000000\" font-family=\"sans-serif\" font-size=\"14\" lengthAdjust=\"spacing\" textLength=\"38\" x=\"225\" y=\"57.1982\">newX</text><rect fill=\"#FFFFFF\" height=\"12\" style=\"stroke:#181818;stroke-width:1.5;\" width=\"12\" x=\"238\" y=\"72.5\"/><!--MD5=[209b3feb70ccb6233bfe1053d122c12c]\n",
       "reverse link E2 to E3--><g id=\"link_E2_E3\"><a href=\"psysml:17b203e1-cdea-4a97-b803-663e29228052\" target=\"_top\" title=\"psysml:17b203e1-cdea-4a97-b803-663e29228052\" xlink:actuate=\"onRequest\" xlink:href=\"psysml:17b203e1-cdea-4a97-b803-663e29228052\" xlink:show=\"new\" xlink:title=\"psysml:17b203e1-cdea-4a97-b803-663e29228052\" xlink:type=\"simple\"><path d=\"M94,129.25 C94,145.43 94,162.61 94,175.88 \" fill=\"none\" id=\"E2-backto-E3\" style=\"stroke:#181818;stroke-width:1.0;\"/><polygon fill=\"#181818\" points=\"94,116,90,122,94,128,98,122,94,116\" style=\"stroke:#181818;stroke-width:1.0;\"/></a></g><!--MD5=[6d42be25861f6a365467590889663027]\n",
       "@startuml\r\n",
       "skin sysmlbw\r\n",
       "skinparam monochrome true\r\n",
       "skinparam wrapWidth 300\r\n",
       "hide circle\r\n",
       "top to bottom direction\r\n",
       "\r\n",
       "package \"TextualRepresentationTest\" as E1  [[psysml:267f3727-84c1-426f-a395-45db3603d5f0 ]]  {\r\n",
       "comp def \"C\" as E2  <<(T,blue) item  def>> [[psysml:61886539-cbef-4e54-b839-069269561211 ]] {\r\n",
       "##//attributes//##\r\n",
       "x: Real\r\n",
       "}\r\n",
       "comp usage \"x_constraint  \" as E3  <<(T,blue) assert constraint>> [[psysml:646d3ab6-4c99-4716-814b-89245cbe5994 ]] {\r\n",
       "}\r\n",
       "rec def \"setX\" as E4  <<(T,blue) action  def>> [[psysml:3b239dd5-995b-4be0-a5de-a49576b20dda ]] {\r\n",
       "portin \"c\" as E5  [[psysml:4e0877a7-1493-46cf-81bf-47696701d005 ]] \r\n",
       "portin \"newX\" as E6  [[psysml:6814382f-4eaa-405a-a959-183965b050e4 ]] \r\n",
       "}\r\n",
       "\r\n",
       "}\r\n",
       "E2 *- - E3 [[psysml:17b203e1-cdea-4a97-b803-663e29228052 ]] \r\n",
       "@enduml\r\n",
       "\n",
       "PlantUML version 1.2022.7(Mon Aug 22 17:01:30 UTC 2022)\n",
       "(EPL source distribution)\n",
       "Java Runtime: OpenJDK Runtime Environment\n",
       "JVM: OpenJDK 64-Bit Server VM\n",
       "Default Encoding: UTF-8\n",
       "Language: en\n",
       "Country: null\n",
       "--></g></svg>"
      ]
     },
     "execution_count": 50,
     "metadata": {},
     "output_type": "execute_result"
    }
   ],
   "source": [
    "%viz --style=\"TB\" --view=\"MIXED\" \"TextualRepresentationTest\""
   ]
  },
  {
   "cell_type": "code",
   "execution_count": 51,
   "id": "e4dc6035",
   "metadata": {
    "execution": {
     "iopub.execute_input": "2024-12-16T03:26:58.026716Z",
     "iopub.status.busy": "2024-12-16T03:26:58.026483Z",
     "iopub.status.idle": "2024-12-16T03:26:58.043069Z",
     "shell.execute_reply": "2024-12-16T03:26:58.042287Z"
    }
   },
   "outputs": [
    {
     "data": {
      "image/svg+xml": [
       "<?xml version=\"1.0\" encoding=\"UTF-8\" standalone=\"no\"?><svg xmlns=\"http://www.w3.org/2000/svg\" xmlns:xlink=\"http://www.w3.org/1999/xlink\" contentStyleType=\"text/css\" height=\"256px\" preserveAspectRatio=\"none\" style=\"width:346px;height:256px;background:#FFFFFF;\" version=\"1.1\" viewBox=\"0 0 346 256\" width=\"346px\" zoomAndPan=\"magnify\"><defs/><g><!--MD5=[fbc87193dbaf4d95561dea2c320d4a47]\n",
       "cluster E1--><g id=\"cluster_E1\"><a href=\"psysml:267f3727-84c1-426f-a395-45db3603d5f0\" target=\"_top\" title=\"psysml:267f3727-84c1-426f-a395-45db3603d5f0\" xlink:actuate=\"onRequest\" xlink:href=\"psysml:267f3727-84c1-426f-a395-45db3603d5f0\" xlink:show=\"new\" xlink:title=\"psysml:267f3727-84c1-426f-a395-45db3603d5f0\" xlink:type=\"simple\"><polygon fill=\"none\" points=\"16,6,220.9375,6,227.9375,28.2969,329,28.2969,329,249.5,16,249.5,16,6\" style=\"stroke:#000000;stroke-width:1.5;\"/><line style=\"stroke:#000000;stroke-width:1.5;\" x1=\"16\" x2=\"227.9375\" y1=\"28.2969\" y2=\"28.2969\"/><text fill=\"#000000\" font-family=\"sans-serif\" font-size=\"14\" font-weight=\"bold\" lengthAdjust=\"spacing\" textLength=\"198.9375\" x=\"20\" y=\"20.9951\">TextualRepresentationTest</text></a></g><!--MD5=[f6df4d0ebaf0b5dfb2ced0ae5af7c670]\n",
       "cluster E4--><g id=\"cluster_E4\"><a href=\"psysml:3b239dd5-995b-4be0-a5de-a49576b20dda\" target=\"_top\" title=\"psysml:3b239dd5-995b-4be0-a5de-a49576b20dda\" xlink:actuate=\"onRequest\" xlink:href=\"psysml:3b239dd5-995b-4be0-a5de-a49576b20dda\" xlink:show=\"new\" xlink:title=\"psysml:3b239dd5-995b-4be0-a5de-a49576b20dda\" xlink:type=\"simple\"><rect fill=\"#FFFFFF\" height=\"155\" id=\"E4\" style=\"stroke:#383838;stroke-width:1.5;\" width=\"134\" x=\"179\" y=\"78.5\"/><text fill=\"#000000\" font-family=\"sans-serif\" font-size=\"12\" font-style=\"italic\" lengthAdjust=\"spacing\" textLength=\"81\" x=\"205.5\" y=\"94.6387\">«action  def»</text><text fill=\"#000000\" font-family=\"sans-serif\" font-size=\"14\" lengthAdjust=\"spacing\" textLength=\"31\" x=\"230.5\" y=\"110.4639\">setX</text><line style=\"stroke:#383838;stroke-width:1.0;\" x1=\"179\" x2=\"313\" y1=\"118.7656\" y2=\"118.7656\"/></a></g><!--MD5=[b4997ac47864f28c2f74865a473b2911]\n",
       "class E2--><a href=\"psysml:61886539-cbef-4e54-b839-069269561211\" target=\"_top\" title=\"psysml:61886539-cbef-4e54-b839-069269561211\" xlink:actuate=\"onRequest\" xlink:href=\"psysml:61886539-cbef-4e54-b839-069269561211\" xlink:show=\"new\" xlink:title=\"psysml:61886539-cbef-4e54-b839-069269561211\" xlink:type=\"simple\"><g id=\"elem_E2\"><rect fill=\"#FFFFFF\" height=\"75.0813\" id=\"E2\" style=\"stroke:#181818;stroke-width:0.5;\" width=\"74\" x=\"57\" y=\"41\"/><text fill=\"#000000\" font-family=\"sans-serif\" font-size=\"12\" font-style=\"italic\" lengthAdjust=\"spacing\" textLength=\"69\" x=\"59.5\" y=\"57.1387\">«item  def»</text><text fill=\"#000000\" font-family=\"sans-serif\" font-size=\"14\" lengthAdjust=\"spacing\" textLength=\"10\" x=\"89\" y=\"72.9639\">C</text><line style=\"stroke:#181818;stroke-width:0.5;\" x1=\"58\" x2=\"130\" y1=\"81.2656\" y2=\"81.2656\"/><text fill=\"#000000\" font-family=\"sans-serif\" font-size=\"14\" lengthAdjust=\"spacing\" textLength=\"46\" x=\"63\" y=\"108.7795\">x: Real</text><text fill=\"#000000\" font-family=\"sans-serif\" font-size=\"14\" font-style=\"italic\" lengthAdjust=\"spacing\" textLength=\"66\" x=\"61\" y=\"93.6123\">attributes</text></g></a><!--MD5=[09b614a08d8cba4a07c9adeb5e0fee81]\n",
       "class E3--><a href=\"psysml:646d3ab6-4c99-4716-814b-89245cbe5994\" target=\"_top\" title=\"psysml:646d3ab6-4c99-4716-814b-89245cbe5994\" xlink:actuate=\"onRequest\" xlink:href=\"psysml:646d3ab6-4c99-4716-814b-89245cbe5994\" xlink:show=\"new\" xlink:title=\"psysml:646d3ab6-4c99-4716-814b-89245cbe5994\" xlink:type=\"simple\"><g id=\"elem_E3\"><rect fill=\"#FFFFFF\" height=\"48.2656\" id=\"E3\" rx=\"10\" ry=\"10\" style=\"stroke:#181818;stroke-width:0.5;\" width=\"124\" x=\"32\" y=\"176\"/><text fill=\"#000000\" font-family=\"sans-serif\" font-size=\"12\" font-style=\"italic\" lengthAdjust=\"spacing\" textLength=\"122\" x=\"33\" y=\"192.1387\">«assert constraint»</text><text fill=\"#000000\" font-family=\"sans-serif\" font-size=\"14\" lengthAdjust=\"spacing\" textLength=\"83\" x=\"48.5\" y=\"207.9639\">x_constraint</text><line style=\"stroke:#181818;stroke-width:0.5;\" x1=\"33\" x2=\"155\" y1=\"216.2656\" y2=\"216.2656\"/></g></a><text fill=\"#000000\" font-family=\"sans-serif\" font-size=\"14\" lengthAdjust=\"spacing\" textLength=\"8\" x=\"193\" y=\"57.1982\">c</text><rect fill=\"#FFFFFF\" height=\"12\" style=\"stroke:#181818;stroke-width:1.5;\" width=\"12\" x=\"191\" y=\"72.5\"/><text fill=\"#000000\" font-family=\"sans-serif\" font-size=\"14\" lengthAdjust=\"spacing\" textLength=\"38\" x=\"225\" y=\"57.1982\">newX</text><rect fill=\"#FFFFFF\" height=\"12\" style=\"stroke:#181818;stroke-width:1.5;\" width=\"12\" x=\"238\" y=\"72.5\"/><!--MD5=[209b3feb70ccb6233bfe1053d122c12c]\n",
       "reverse link E2 to E3--><g id=\"link_E2_E3\"><a href=\"psysml:17b203e1-cdea-4a97-b803-663e29228052\" target=\"_top\" title=\"psysml:17b203e1-cdea-4a97-b803-663e29228052\" xlink:actuate=\"onRequest\" xlink:href=\"psysml:17b203e1-cdea-4a97-b803-663e29228052\" xlink:show=\"new\" xlink:title=\"psysml:17b203e1-cdea-4a97-b803-663e29228052\" xlink:type=\"simple\"><path d=\"M94,129.28 C94,129.28 94,175.66 94,175.66 \" fill=\"none\" id=\"E2-backto-E3\" style=\"stroke:#181818;stroke-width:1.0;\"/><polygon fill=\"#181818\" points=\"94,116.28,90,122.28,94,128.28,98,122.28,94,116.28\" style=\"stroke:#181818;stroke-width:1.0;\"/></a></g><!--MD5=[5b0288d149ba3999f7a27c274d426b19]\n",
       "@startuml\r\n",
       "skin sysmlbw\r\n",
       "skinparam monochrome true\r\n",
       "skinparam wrapWidth 300\r\n",
       "hide circle\r\n",
       "skinparam linetype ortho\r\n",
       "\r\n",
       "package \"TextualRepresentationTest\" as E1  [[psysml:267f3727-84c1-426f-a395-45db3603d5f0 ]]  {\r\n",
       "comp def \"C\" as E2  <<(T,blue) item  def>> [[psysml:61886539-cbef-4e54-b839-069269561211 ]] {\r\n",
       "##//attributes//##\r\n",
       "x: Real\r\n",
       "}\r\n",
       "comp usage \"x_constraint  \" as E3  <<(T,blue) assert constraint>> [[psysml:646d3ab6-4c99-4716-814b-89245cbe5994 ]] {\r\n",
       "}\r\n",
       "rec def \"setX\" as E4  <<(T,blue) action  def>> [[psysml:3b239dd5-995b-4be0-a5de-a49576b20dda ]] {\r\n",
       "portin \"c\" as E5  [[psysml:4e0877a7-1493-46cf-81bf-47696701d005 ]] \r\n",
       "portin \"newX\" as E6  [[psysml:6814382f-4eaa-405a-a959-183965b050e4 ]] \r\n",
       "}\r\n",
       "\r\n",
       "}\r\n",
       "E2 *- - E3 [[psysml:17b203e1-cdea-4a97-b803-663e29228052 ]] \r\n",
       "@enduml\r\n",
       "\n",
       "PlantUML version 1.2022.7(Mon Aug 22 17:01:30 UTC 2022)\n",
       "(EPL source distribution)\n",
       "Java Runtime: OpenJDK Runtime Environment\n",
       "JVM: OpenJDK 64-Bit Server VM\n",
       "Default Encoding: UTF-8\n",
       "Language: en\n",
       "Country: null\n",
       "--></g></svg>"
      ]
     },
     "execution_count": 51,
     "metadata": {},
     "output_type": "execute_result"
    }
   ],
   "source": [
    "%viz --style=\"ORTHOLINE\" --view=\"Default\" \"TextualRepresentationTest\""
   ]
  },
  {
   "cell_type": "code",
   "execution_count": 52,
   "id": "723c7c9b",
   "metadata": {
    "execution": {
     "iopub.execute_input": "2024-12-16T03:26:58.096190Z",
     "iopub.status.busy": "2024-12-16T03:26:58.095969Z",
     "iopub.status.idle": "2024-12-16T03:26:58.111272Z",
     "shell.execute_reply": "2024-12-16T03:26:58.110454Z"
    }
   },
   "outputs": [
    {
     "data": {
      "image/svg+xml": [
       "<?xml version=\"1.0\" encoding=\"UTF-8\" standalone=\"no\"?><svg xmlns=\"http://www.w3.org/2000/svg\" xmlns:xlink=\"http://www.w3.org/1999/xlink\" contentStyleType=\"text/css\" height=\"355px\" preserveAspectRatio=\"none\" style=\"width:247px;height:355px;background:#FFFFFF;\" version=\"1.1\" viewBox=\"0 0 247 355\" width=\"247px\" zoomAndPan=\"magnify\"><defs/><g><!--MD5=[fbc87193dbaf4d95561dea2c320d4a47]\n",
       "cluster E1--><g id=\"cluster_E1\"><a href=\"psysml:267f3727-84c1-426f-a395-45db3603d5f0\" target=\"_top\" title=\"psysml:267f3727-84c1-426f-a395-45db3603d5f0\" xlink:actuate=\"onRequest\" xlink:href=\"psysml:267f3727-84c1-426f-a395-45db3603d5f0\" xlink:show=\"new\" xlink:title=\"psysml:267f3727-84c1-426f-a395-45db3603d5f0\" xlink:type=\"simple\"><polygon fill=\"none\" points=\"16,6,220.9375,6,227.9375,28.2969,230,28.2969,230,348,16,348,16,6\" style=\"stroke:#000000;stroke-width:1.5;\"/><line style=\"stroke:#000000;stroke-width:1.5;\" x1=\"16\" x2=\"227.9375\" y1=\"28.2969\" y2=\"28.2969\"/><text fill=\"#000000\" font-family=\"sans-serif\" font-size=\"14\" font-weight=\"bold\" lengthAdjust=\"spacing\" textLength=\"198.9375\" x=\"20\" y=\"20.9951\">TextualRepresentationTest</text></a></g><!--MD5=[b4997ac47864f28c2f74865a473b2911]\n",
       "class E2--><a href=\"psysml:61886539-cbef-4e54-b839-069269561211\" target=\"_top\" title=\"psysml:61886539-cbef-4e54-b839-069269561211\" xlink:actuate=\"onRequest\" xlink:href=\"psysml:61886539-cbef-4e54-b839-069269561211\" xlink:show=\"new\" xlink:title=\"psysml:61886539-cbef-4e54-b839-069269561211\" xlink:type=\"simple\"><g id=\"elem_E2\"><rect fill=\"#FFFFFF\" height=\"75.0813\" id=\"E2\" style=\"stroke:#181818;stroke-width:0.5;\" width=\"74\" x=\"86\" y=\"149\"/><text fill=\"#000000\" font-family=\"sans-serif\" font-size=\"12\" font-style=\"italic\" lengthAdjust=\"spacing\" textLength=\"69\" x=\"88.5\" y=\"165.1387\">«item  def»</text><text fill=\"#000000\" font-family=\"sans-serif\" font-size=\"14\" lengthAdjust=\"spacing\" textLength=\"10\" x=\"118\" y=\"180.9639\">C</text><line style=\"stroke:#181818;stroke-width:0.5;\" x1=\"87\" x2=\"159\" y1=\"189.2656\" y2=\"189.2656\"/><text fill=\"#000000\" font-family=\"sans-serif\" font-size=\"14\" lengthAdjust=\"spacing\" textLength=\"46\" x=\"92\" y=\"216.7795\">x: Real</text><text fill=\"#000000\" font-family=\"sans-serif\" font-size=\"14\" font-style=\"italic\" lengthAdjust=\"spacing\" textLength=\"66\" x=\"90\" y=\"201.6123\">attributes</text></g></a><!--MD5=[09b614a08d8cba4a07c9adeb5e0fee81]\n",
       "class E3--><a href=\"psysml:646d3ab6-4c99-4716-814b-89245cbe5994\" target=\"_top\" title=\"psysml:646d3ab6-4c99-4716-814b-89245cbe5994\" xlink:actuate=\"onRequest\" xlink:href=\"psysml:646d3ab6-4c99-4716-814b-89245cbe5994\" xlink:show=\"new\" xlink:title=\"psysml:646d3ab6-4c99-4716-814b-89245cbe5994\" xlink:type=\"simple\"><g id=\"elem_E3\"><rect fill=\"#FFFFFF\" height=\"48.2656\" id=\"E3\" rx=\"10\" ry=\"10\" style=\"stroke:#181818;stroke-width:0.5;\" width=\"124\" x=\"61\" y=\"284\"/><text fill=\"#000000\" font-family=\"sans-serif\" font-size=\"12\" font-style=\"italic\" lengthAdjust=\"spacing\" textLength=\"122\" x=\"62\" y=\"300.1387\">«assert constraint»</text><text fill=\"#000000\" font-family=\"sans-serif\" font-size=\"14\" lengthAdjust=\"spacing\" textLength=\"83\" x=\"77.5\" y=\"315.9639\">x_constraint</text><line style=\"stroke:#181818;stroke-width:0.5;\" x1=\"62\" x2=\"184\" y1=\"324.2656\" y2=\"324.2656\"/></g></a><!--MD5=[ebbe1d658d1005bcc118a6aa81145e00]\n",
       "class E4--><a href=\"psysml:3b239dd5-995b-4be0-a5de-a49576b20dda\" target=\"_top\" title=\"psysml:3b239dd5-995b-4be0-a5de-a49576b20dda\" xlink:actuate=\"onRequest\" xlink:href=\"psysml:3b239dd5-995b-4be0-a5de-a49576b20dda\" xlink:show=\"new\" xlink:title=\"psysml:3b239dd5-995b-4be0-a5de-a49576b20dda\" xlink:type=\"simple\"><g id=\"elem_E4\"><rect fill=\"#FFFFFF\" height=\"48.2656\" id=\"E4\" style=\"stroke:#181818;stroke-width:0.5;\" width=\"83\" x=\"81.5\" y=\"41\"/><text fill=\"#000000\" font-family=\"sans-serif\" font-size=\"12\" font-style=\"italic\" lengthAdjust=\"spacing\" textLength=\"81\" x=\"82.5\" y=\"57.1387\">«action  def»</text><text fill=\"#000000\" font-family=\"sans-serif\" font-size=\"14\" lengthAdjust=\"spacing\" textLength=\"31\" x=\"107.5\" y=\"72.9639\">setX</text><line style=\"stroke:#181818;stroke-width:0.5;\" x1=\"82.5\" x2=\"163.5\" y1=\"81.2656\" y2=\"81.2656\"/></g></a><!--MD5=[209b3feb70ccb6233bfe1053d122c12c]\n",
       "reverse link E2 to E3--><g id=\"link_E2_E3\"><a href=\"psysml:17b203e1-cdea-4a97-b803-663e29228052\" target=\"_top\" title=\"psysml:17b203e1-cdea-4a97-b803-663e29228052\" xlink:actuate=\"onRequest\" xlink:href=\"psysml:17b203e1-cdea-4a97-b803-663e29228052\" xlink:show=\"new\" xlink:title=\"psysml:17b203e1-cdea-4a97-b803-663e29228052\" xlink:type=\"simple\"><path d=\"M123,237.28 C123,237.28 123,283.66 123,283.66 \" fill=\"none\" id=\"E2-backto-E3\" style=\"stroke:#181818;stroke-width:1.0;\"/><polygon fill=\"#181818\" points=\"123,224.28,119,230.28,123,236.28,127,230.28,123,224.28\" style=\"stroke:#181818;stroke-width:1.0;\"/></a></g><!--MD5=[ddeed8deb2209213b62e6cfabaa108b2]\n",
       "reverse link E4 to E2--><g id=\"link_E4_E2\"><a href=\"psysml:4e0877a7-1493-46cf-81bf-47696701d005\" target=\"_top\" title=\"psysml:4e0877a7-1493-46cf-81bf-47696701d005\" xlink:actuate=\"onRequest\" xlink:href=\"psysml:4e0877a7-1493-46cf-81bf-47696701d005\" xlink:show=\"new\" xlink:title=\"psysml:4e0877a7-1493-46cf-81bf-47696701d005\" xlink:type=\"simple\"><path d=\"M123,102 C123,102 123,148.67 123,148.67 \" fill=\"none\" id=\"E4-backto-E2\" style=\"stroke:#181818;stroke-width:1.0;\"/><polygon fill=\"none\" points=\"123,89,119,95,123,101,127,95,123,89\" style=\"stroke:#181818;stroke-width:1.0;\"/><text fill=\"#000000\" font-family=\"sans-serif\" font-size=\"13\" lengthAdjust=\"spacing\" textLength=\"7\" x=\"115\" y=\"121.4069\">c</text></a></g><!--MD5=[848fe5ac1a424d472a13563f89eee89d]\n",
       "@startuml\r\n",
       "skin sysmlbw\r\n",
       "skinparam monochrome true\r\n",
       "skinparam wrapWidth 300\r\n",
       "hide circle\r\n",
       "skinparam linetype ortho\r\n",
       "\r\n",
       "package \"TextualRepresentationTest\" as E1  [[psysml:267f3727-84c1-426f-a395-45db3603d5f0 ]]  {\r\n",
       "comp def \"C\" as E2  <<(T,blue) item  def>> [[psysml:61886539-cbef-4e54-b839-069269561211 ]] {\r\n",
       "##//attributes//##\r\n",
       "x: Real\r\n",
       "}\r\n",
       "comp usage \"x_constraint  \" as E3  <<(T,blue) assert constraint>> [[psysml:646d3ab6-4c99-4716-814b-89245cbe5994 ]] {\r\n",
       "}\r\n",
       "comp def \"setX\" as E4  <<(T,blue) action  def>> [[psysml:3b239dd5-995b-4be0-a5de-a49576b20dda ]] {\r\n",
       "}\r\n",
       "}\r\n",
       "E2 *- - E3 [[psysml:17b203e1-cdea-4a97-b803-663e29228052 ]] \r\n",
       "E4 o- - E2 [[psysml:4e0877a7-1493-46cf-81bf-47696701d005 ]] : c\r\n",
       "@enduml\r\n",
       "\n",
       "PlantUML version 1.2022.7(Mon Aug 22 17:01:30 UTC 2022)\n",
       "(EPL source distribution)\n",
       "Java Runtime: OpenJDK Runtime Environment\n",
       "JVM: OpenJDK 64-Bit Server VM\n",
       "Default Encoding: UTF-8\n",
       "Language: en\n",
       "Country: null\n",
       "--></g></svg>"
      ]
     },
     "execution_count": 52,
     "metadata": {},
     "output_type": "execute_result"
    }
   ],
   "source": [
    "%viz --style=\"ORTHOLINE\" --view=\"Tree\" \"TextualRepresentationTest\""
   ]
  },
  {
   "cell_type": "code",
   "execution_count": 53,
   "id": "8cda6b2d",
   "metadata": {
    "execution": {
     "iopub.execute_input": "2024-12-16T03:26:58.163147Z",
     "iopub.status.busy": "2024-12-16T03:26:58.162918Z",
     "iopub.status.idle": "2024-12-16T03:26:58.167754Z",
     "shell.execute_reply": "2024-12-16T03:26:58.167566Z"
    }
   },
   "outputs": [
    {
     "data": {
      "image/svg+xml": [
       "<?xml version=\"1.0\" encoding=\"UTF-8\" standalone=\"no\"?><svg xmlns=\"http://www.w3.org/2000/svg\" xmlns:xlink=\"http://www.w3.org/1999/xlink\" contentStyleType=\"text/css\" height=\"10px\" preserveAspectRatio=\"none\" style=\"width:10px;height:10px;background:#FFFFFF;\" version=\"1.1\" viewBox=\"0 0 10 10\" width=\"10px\" zoomAndPan=\"magnify\"><defs/><g><!--MD5=[db5337d1ba6fd3a35e07e04988169323]\n",
       "@startuml\r\n",
       "skin sysmlbw\r\n",
       "skinparam monochrome true\r\n",
       "skinparam wrapWidth 300\r\n",
       "hide circle\r\n",
       "skinparam linetype ortho\r\n",
       "\r\n",
       "@enduml\r\n",
       "\n",
       "PlantUML version 1.2022.7(Mon Aug 22 17:01:30 UTC 2022)\n",
       "(EPL source distribution)\n",
       "Java Runtime: OpenJDK Runtime Environment\n",
       "JVM: OpenJDK 64-Bit Server VM\n",
       "Default Encoding: UTF-8\n",
       "Language: en\n",
       "Country: null\n",
       "--></g></svg>"
      ]
     },
     "execution_count": 53,
     "metadata": {},
     "output_type": "execute_result"
    }
   ],
   "source": [
    "%viz --style=\"ORTHOLINE\" --view=\"State\" \"TextualRepresentationTest\""
   ]
  },
  {
   "cell_type": "code",
   "execution_count": 54,
   "id": "2fcb627d",
   "metadata": {
    "execution": {
     "iopub.execute_input": "2024-12-16T03:26:58.223963Z",
     "iopub.status.busy": "2024-12-16T03:26:58.223710Z",
     "iopub.status.idle": "2024-12-16T03:26:58.238491Z",
     "shell.execute_reply": "2024-12-16T03:26:58.238281Z"
    }
   },
   "outputs": [
    {
     "data": {
      "image/svg+xml": [
       "<?xml version=\"1.0\" encoding=\"UTF-8\" standalone=\"no\"?><svg xmlns=\"http://www.w3.org/2000/svg\" xmlns:xlink=\"http://www.w3.org/1999/xlink\" contentStyleType=\"text/css\" height=\"176px\" preserveAspectRatio=\"none\" style=\"width:287px;height:176px;background:#FFFFFF;\" version=\"1.1\" viewBox=\"0 0 287 176\" width=\"287px\" zoomAndPan=\"magnify\"><defs/><g><!--MD5=[fbc87193dbaf4d95561dea2c320d4a47]\n",
       "cluster E1--><g id=\"cluster_E1\"><a href=\"psysml:267f3727-84c1-426f-a395-45db3603d5f0\" target=\"_top\" title=\"psysml:267f3727-84c1-426f-a395-45db3603d5f0\" xlink:actuate=\"onRequest\" xlink:href=\"psysml:267f3727-84c1-426f-a395-45db3603d5f0\" xlink:show=\"new\" xlink:title=\"psysml:267f3727-84c1-426f-a395-45db3603d5f0\" xlink:type=\"simple\"><polygon fill=\"none\" points=\"16,6,220.9375,6,227.9375,28.2969,270,28.2969,270,169,16,169,16,6\" style=\"stroke:#000000;stroke-width:1.5;\"/><line style=\"stroke:#000000;stroke-width:1.5;\" x1=\"16\" x2=\"227.9375\" y1=\"28.2969\" y2=\"28.2969\"/><text fill=\"#000000\" font-family=\"sans-serif\" font-size=\"14\" font-weight=\"bold\" lengthAdjust=\"spacing\" textLength=\"198.9375\" x=\"20\" y=\"20.9951\">TextualRepresentationTest</text></a></g><!--MD5=[d5e69f78d87373223dbae638b30a9c99]\n",
       "cluster E3--><g id=\"cluster_E3\"><a href=\"psysml:3b239dd5-995b-4be0-a5de-a49576b20dda\" target=\"_top\" title=\"psysml:3b239dd5-995b-4be0-a5de-a49576b20dda\" xlink:actuate=\"onRequest\" xlink:href=\"psysml:3b239dd5-995b-4be0-a5de-a49576b20dda\" xlink:show=\"new\" xlink:title=\"psysml:3b239dd5-995b-4be0-a5de-a49576b20dda\" xlink:type=\"simple\"><rect fill=\"#FFFFFF\" height=\"89.5\" id=\"E3\" style=\"stroke:#383838;stroke-width:1.5;\" width=\"100\" x=\"122.5\" y=\"63.5\"/><text fill=\"#000000\" font-family=\"sans-serif\" font-size=\"12\" font-style=\"italic\" lengthAdjust=\"spacing\" textLength=\"81\" x=\"132\" y=\"79.6387\">«action  def»</text><text fill=\"#000000\" font-family=\"sans-serif\" font-size=\"14\" lengthAdjust=\"spacing\" textLength=\"31\" x=\"157\" y=\"95.4639\">setX</text><line style=\"stroke:#383838;stroke-width:1.0;\" x1=\"122.5\" x2=\"222.5\" y1=\"103.7656\" y2=\"103.7656\"/></a></g><g><a href=\"psysml:61886539-cbef-4e54-b839-069269561211\" target=\"_top\" title=\"psysml:61886539-cbef-4e54-b839-069269561211\" xlink:actuate=\"onRequest\" xlink:href=\"psysml:61886539-cbef-4e54-b839-069269561211\" xlink:show=\"new\" xlink:title=\"psysml:61886539-cbef-4e54-b839-069269561211\" xlink:type=\"simple\"><rect fill=\"#FFFFFF\" height=\"45.2656\" id=\"E2\" style=\"stroke:#383838;stroke-width:1.5;\" width=\"76\" x=\"32\" y=\"41\"/><text fill=\"#000000\" font-family=\"sans-serif\" font-size=\"12\" font-style=\"italic\" lengthAdjust=\"spacing\" textLength=\"69\" x=\"35.5\" y=\"57.1387\">«item  def»</text><text fill=\"#000000\" font-family=\"sans-serif\" font-size=\"14\" lengthAdjust=\"spacing\" textLength=\"10\" x=\"65\" y=\"72.9639\">C</text></a></g><text fill=\"#000000\" font-family=\"sans-serif\" font-size=\"14\" lengthAdjust=\"spacing\" textLength=\"8\" x=\"145\" y=\"42.1982\">c</text><rect fill=\"#FFFFFF\" height=\"12\" style=\"stroke:#181818;stroke-width:1.5;\" width=\"12\" x=\"143\" y=\"57.5\"/><text fill=\"#000000\" font-family=\"sans-serif\" font-size=\"14\" lengthAdjust=\"spacing\" textLength=\"38\" x=\"177\" y=\"42.1982\">newX</text><rect fill=\"#FFFFFF\" height=\"12\" style=\"stroke:#181818;stroke-width:1.5;\" width=\"12\" x=\"190\" y=\"57.5\"/><!--MD5=[d710be387f35b85e44b48dae11676f21]\n",
       "@startuml\r\n",
       "skin sysmlbw\r\n",
       "skinparam monochrome true\r\n",
       "skinparam wrapWidth 300\r\n",
       "hide circle\r\n",
       "skinparam linetype ortho\r\n",
       "skinparam ranksep 10\r\n",
       "skinparam rectangle {\r\n",
       " backgroundColor<<block>> LightGreen\r\n",
       "}\r\n",
       "\r\n",
       "package \"TextualRepresentationTest\" as E1  [[psysml:267f3727-84c1-426f-a395-45db3603d5f0 ]]  {\r\n",
       "def \"C\" as E2  <<(T,blue) item  def>> [[psysml:61886539-cbef-4e54-b839-069269561211 ]] \r\n",
       "rec def \"setX\" as E3  <<(T,blue) action  def>> [[psysml:3b239dd5-995b-4be0-a5de-a49576b20dda ]] {\r\n",
       "portin \"c\" as E4  [[psysml:4e0877a7-1493-46cf-81bf-47696701d005 ]] \r\n",
       "portin \"newX\" as E5  [[psysml:6814382f-4eaa-405a-a959-183965b050e4 ]] \r\n",
       "}\r\n",
       "\r\n",
       "}\r\n",
       "@enduml\r\n",
       "\n",
       "PlantUML version 1.2022.7(Mon Aug 22 17:01:30 UTC 2022)\n",
       "(EPL source distribution)\n",
       "Java Runtime: OpenJDK Runtime Environment\n",
       "JVM: OpenJDK 64-Bit Server VM\n",
       "Default Encoding: UTF-8\n",
       "Language: en\n",
       "Country: null\n",
       "--></g></svg>"
      ]
     },
     "execution_count": 54,
     "metadata": {},
     "output_type": "execute_result"
    }
   ],
   "source": [
    "%viz --style=\"ORTHOLINE\" --view=\"Interconnection\" \"TextualRepresentationTest\""
   ]
  },
  {
   "cell_type": "code",
   "execution_count": 55,
   "id": "5b95f015",
   "metadata": {
    "execution": {
     "iopub.execute_input": "2024-12-16T03:26:58.289535Z",
     "iopub.status.busy": "2024-12-16T03:26:58.289259Z",
     "iopub.status.idle": "2024-12-16T03:26:58.302080Z",
     "shell.execute_reply": "2024-12-16T03:26:58.301866Z"
    }
   },
   "outputs": [
    {
     "data": {
      "image/svg+xml": [
       "<?xml version=\"1.0\" encoding=\"UTF-8\" standalone=\"no\"?><svg xmlns=\"http://www.w3.org/2000/svg\" xmlns:xlink=\"http://www.w3.org/1999/xlink\" contentStyleType=\"text/css\" height=\"121px\" preserveAspectRatio=\"none\" style=\"width:148px;height:121px;background:#FFFFFF;\" version=\"1.1\" viewBox=\"0 0 148 121\" width=\"148px\" zoomAndPan=\"magnify\"><defs/><g><!--MD5=[fbc87193dbaf4d95561dea2c320d4a47]\n",
       "cluster E1--><g id=\"cluster_E1\"><a href=\"psysml:3b239dd5-995b-4be0-a5de-a49576b20dda\" target=\"_top\" title=\"psysml:3b239dd5-995b-4be0-a5de-a49576b20dda\" xlink:actuate=\"onRequest\" xlink:href=\"psysml:3b239dd5-995b-4be0-a5de-a49576b20dda\" xlink:show=\"new\" xlink:title=\"psysml:3b239dd5-995b-4be0-a5de-a49576b20dda\" xlink:type=\"simple\"><rect fill=\"#FFFFFF\" height=\"73\" id=\"E1\" style=\"stroke:#383838;stroke-width:1.5;\" width=\"134\" x=\"7\" y=\"42.0986\"/><text fill=\"#000000\" font-family=\"sans-serif\" font-size=\"12\" font-style=\"italic\" lengthAdjust=\"spacing\" textLength=\"81\" x=\"33.5\" y=\"58.2373\">«action  def»</text><text fill=\"#000000\" font-family=\"sans-serif\" font-size=\"14\" lengthAdjust=\"spacing\" textLength=\"31\" x=\"58.5\" y=\"74.0625\">setX</text><line style=\"stroke:#383838;stroke-width:1.0;\" x1=\"7\" x2=\"141\" y1=\"82.3643\" y2=\"82.3643\"/></a></g><text fill=\"#000000\" font-family=\"sans-serif\" font-size=\"14\" lengthAdjust=\"spacing\" textLength=\"8\" x=\"21\" y=\"20.7969\">c</text><rect fill=\"#FFFFFF\" height=\"12\" style=\"stroke:#181818;stroke-width:1.5;\" width=\"12\" x=\"19\" y=\"36.0986\"/><text fill=\"#000000\" font-family=\"sans-serif\" font-size=\"14\" lengthAdjust=\"spacing\" textLength=\"38\" x=\"53\" y=\"20.7969\">newX</text><rect fill=\"#FFFFFF\" height=\"12\" style=\"stroke:#181818;stroke-width:1.5;\" width=\"12\" x=\"66\" y=\"36.0986\"/><!--MD5=[7222a9e6c9cb9f3a2fe0c667f54d2b73]\n",
       "@startuml\r\n",
       "skin sysmlbw\r\n",
       "skinparam monochrome true\r\n",
       "skinparam wrapWidth 300\r\n",
       "hide circle\r\n",
       "skinparam linetype ortho\r\n",
       "skinparam ranksep 8\r\n",
       "\r\n",
       "rec def \"setX\" as E1  <<(T,blue) action  def>> [[psysml:3b239dd5-995b-4be0-a5de-a49576b20dda ]] {\r\n",
       "portin \"c\" as E2  [[psysml:4e0877a7-1493-46cf-81bf-47696701d005 ]] \r\n",
       "portin \"newX\" as E3  [[psysml:6814382f-4eaa-405a-a959-183965b050e4 ]] \r\n",
       "}\r\n",
       "\r\n",
       "@enduml\r\n",
       "\n",
       "PlantUML version 1.2022.7(Mon Aug 22 17:01:30 UTC 2022)\n",
       "(EPL source distribution)\n",
       "Java Runtime: OpenJDK Runtime Environment\n",
       "JVM: OpenJDK 64-Bit Server VM\n",
       "Default Encoding: UTF-8\n",
       "Language: en\n",
       "Country: null\n",
       "--></g></svg>"
      ]
     },
     "execution_count": 55,
     "metadata": {},
     "output_type": "execute_result"
    }
   ],
   "source": [
    "%viz --style=\"ORTHOLINE\" --view=\"Action\" \"TextualRepresentationTest\""
   ]
  },
  {
   "cell_type": "code",
   "execution_count": 56,
   "id": "b4441eeb",
   "metadata": {
    "execution": {
     "iopub.execute_input": "2024-12-16T03:26:58.353666Z",
     "iopub.status.busy": "2024-12-16T03:26:58.353424Z",
     "iopub.status.idle": "2024-12-16T03:26:58.358452Z",
     "shell.execute_reply": "2024-12-16T03:26:58.358276Z"
    }
   },
   "outputs": [
    {
     "data": {
      "image/svg+xml": [
       "<?xml version=\"1.0\" encoding=\"UTF-8\" standalone=\"no\"?><svg xmlns=\"http://www.w3.org/2000/svg\" xmlns:xlink=\"http://www.w3.org/1999/xlink\" contentStyleType=\"text/css\" height=\"10px\" preserveAspectRatio=\"none\" style=\"width:10px;height:10px;background:#FFFFFF;\" version=\"1.1\" viewBox=\"0 0 10 10\" width=\"10px\" zoomAndPan=\"magnify\"><defs/><g><!--MD5=[5b6eb85285460e34b0e63326afe72cc5]\n",
       "@startuml\r\n",
       "skin sysmlbw\r\n",
       "skinparam monochrome true\r\n",
       "skinparam wrapWidth 300\r\n",
       "hide circle\r\n",
       "skinparam linetype ortho\r\n",
       "skinparam roundcorner 20\r\n",
       "skinparam BoxPadding 20\r\n",
       "skinparam SequenceBoxBackgroundColor #white\r\n",
       "skinparam style strictuml\r\n",
       "skinparam maxMessageSize 100\r\n",
       "\r\n",
       "@enduml\r\n",
       "\n",
       "PlantUML version 1.2022.7(Mon Aug 22 17:01:30 UTC 2022)\n",
       "(EPL source distribution)\n",
       "Java Runtime: OpenJDK Runtime Environment\n",
       "JVM: OpenJDK 64-Bit Server VM\n",
       "Default Encoding: UTF-8\n",
       "Language: en\n",
       "Country: null\n",
       "--></g></svg>"
      ]
     },
     "execution_count": 56,
     "metadata": {},
     "output_type": "execute_result"
    }
   ],
   "source": [
    "%viz --style=\"ORTHOLINE\" --view=\"Sequence\" \"TextualRepresentationTest\""
   ]
  },
  {
   "cell_type": "code",
   "execution_count": 57,
   "id": "95d090bf",
   "metadata": {
    "execution": {
     "iopub.execute_input": "2024-12-16T03:26:58.413481Z",
     "iopub.status.busy": "2024-12-16T03:26:58.413252Z",
     "iopub.status.idle": "2024-12-16T03:26:58.429352Z",
     "shell.execute_reply": "2024-12-16T03:26:58.428626Z"
    }
   },
   "outputs": [
    {
     "data": {
      "image/svg+xml": [
       "<?xml version=\"1.0\" encoding=\"UTF-8\" standalone=\"no\"?><svg xmlns=\"http://www.w3.org/2000/svg\" xmlns:xlink=\"http://www.w3.org/1999/xlink\" contentStyleType=\"text/css\" height=\"256px\" preserveAspectRatio=\"none\" style=\"width:346px;height:256px;background:#FFFFFF;\" version=\"1.1\" viewBox=\"0 0 346 256\" width=\"346px\" zoomAndPan=\"magnify\"><defs/><g><!--MD5=[fbc87193dbaf4d95561dea2c320d4a47]\n",
       "cluster E1--><g id=\"cluster_E1\"><a href=\"psysml:267f3727-84c1-426f-a395-45db3603d5f0\" target=\"_top\" title=\"psysml:267f3727-84c1-426f-a395-45db3603d5f0\" xlink:actuate=\"onRequest\" xlink:href=\"psysml:267f3727-84c1-426f-a395-45db3603d5f0\" xlink:show=\"new\" xlink:title=\"psysml:267f3727-84c1-426f-a395-45db3603d5f0\" xlink:type=\"simple\"><polygon fill=\"none\" points=\"16,6,220.9375,6,227.9375,28.2969,329,28.2969,329,249.5,16,249.5,16,6\" style=\"stroke:#000000;stroke-width:1.5;\"/><line style=\"stroke:#000000;stroke-width:1.5;\" x1=\"16\" x2=\"227.9375\" y1=\"28.2969\" y2=\"28.2969\"/><text fill=\"#000000\" font-family=\"sans-serif\" font-size=\"14\" font-weight=\"bold\" lengthAdjust=\"spacing\" textLength=\"198.9375\" x=\"20\" y=\"20.9951\">TextualRepresentationTest</text></a></g><!--MD5=[f6df4d0ebaf0b5dfb2ced0ae5af7c670]\n",
       "cluster E4--><g id=\"cluster_E4\"><a href=\"psysml:3b239dd5-995b-4be0-a5de-a49576b20dda\" target=\"_top\" title=\"psysml:3b239dd5-995b-4be0-a5de-a49576b20dda\" xlink:actuate=\"onRequest\" xlink:href=\"psysml:3b239dd5-995b-4be0-a5de-a49576b20dda\" xlink:show=\"new\" xlink:title=\"psysml:3b239dd5-995b-4be0-a5de-a49576b20dda\" xlink:type=\"simple\"><rect fill=\"#FFFFFF\" height=\"155\" id=\"E4\" style=\"stroke:#383838;stroke-width:1.5;\" width=\"134\" x=\"179\" y=\"78.5\"/><text fill=\"#000000\" font-family=\"sans-serif\" font-size=\"12\" font-style=\"italic\" lengthAdjust=\"spacing\" textLength=\"81\" x=\"205.5\" y=\"94.6387\">«action  def»</text><text fill=\"#000000\" font-family=\"sans-serif\" font-size=\"14\" lengthAdjust=\"spacing\" textLength=\"31\" x=\"230.5\" y=\"110.4639\">setX</text><line style=\"stroke:#383838;stroke-width:1.0;\" x1=\"179\" x2=\"313\" y1=\"118.7656\" y2=\"118.7656\"/></a></g><!--MD5=[b4997ac47864f28c2f74865a473b2911]\n",
       "class E2--><a href=\"psysml:61886539-cbef-4e54-b839-069269561211\" target=\"_top\" title=\"psysml:61886539-cbef-4e54-b839-069269561211\" xlink:actuate=\"onRequest\" xlink:href=\"psysml:61886539-cbef-4e54-b839-069269561211\" xlink:show=\"new\" xlink:title=\"psysml:61886539-cbef-4e54-b839-069269561211\" xlink:type=\"simple\"><g id=\"elem_E2\"><rect fill=\"#FFFFFF\" height=\"75.0813\" id=\"E2\" style=\"stroke:#181818;stroke-width:0.5;\" width=\"74\" x=\"57\" y=\"41\"/><text fill=\"#000000\" font-family=\"sans-serif\" font-size=\"12\" font-style=\"italic\" lengthAdjust=\"spacing\" textLength=\"69\" x=\"59.5\" y=\"57.1387\">«item  def»</text><text fill=\"#000000\" font-family=\"sans-serif\" font-size=\"14\" lengthAdjust=\"spacing\" textLength=\"10\" x=\"89\" y=\"72.9639\">C</text><line style=\"stroke:#181818;stroke-width:0.5;\" x1=\"58\" x2=\"130\" y1=\"81.2656\" y2=\"81.2656\"/><text fill=\"#000000\" font-family=\"sans-serif\" font-size=\"14\" lengthAdjust=\"spacing\" textLength=\"46\" x=\"63\" y=\"108.7795\">x: Real</text><text fill=\"#000000\" font-family=\"sans-serif\" font-size=\"14\" font-style=\"italic\" lengthAdjust=\"spacing\" textLength=\"66\" x=\"61\" y=\"93.6123\">attributes</text></g></a><!--MD5=[09b614a08d8cba4a07c9adeb5e0fee81]\n",
       "class E3--><a href=\"psysml:646d3ab6-4c99-4716-814b-89245cbe5994\" target=\"_top\" title=\"psysml:646d3ab6-4c99-4716-814b-89245cbe5994\" xlink:actuate=\"onRequest\" xlink:href=\"psysml:646d3ab6-4c99-4716-814b-89245cbe5994\" xlink:show=\"new\" xlink:title=\"psysml:646d3ab6-4c99-4716-814b-89245cbe5994\" xlink:type=\"simple\"><g id=\"elem_E3\"><rect fill=\"#FFFFFF\" height=\"48.2656\" id=\"E3\" rx=\"10\" ry=\"10\" style=\"stroke:#181818;stroke-width:0.5;\" width=\"124\" x=\"32\" y=\"176\"/><text fill=\"#000000\" font-family=\"sans-serif\" font-size=\"12\" font-style=\"italic\" lengthAdjust=\"spacing\" textLength=\"122\" x=\"33\" y=\"192.1387\">«assert constraint»</text><text fill=\"#000000\" font-family=\"sans-serif\" font-size=\"14\" lengthAdjust=\"spacing\" textLength=\"83\" x=\"48.5\" y=\"207.9639\">x_constraint</text><line style=\"stroke:#181818;stroke-width:0.5;\" x1=\"33\" x2=\"155\" y1=\"216.2656\" y2=\"216.2656\"/></g></a><text fill=\"#000000\" font-family=\"sans-serif\" font-size=\"14\" lengthAdjust=\"spacing\" textLength=\"8\" x=\"193\" y=\"57.1982\">c</text><rect fill=\"#FFFFFF\" height=\"12\" style=\"stroke:#181818;stroke-width:1.5;\" width=\"12\" x=\"191\" y=\"72.5\"/><text fill=\"#000000\" font-family=\"sans-serif\" font-size=\"14\" lengthAdjust=\"spacing\" textLength=\"38\" x=\"225\" y=\"57.1982\">newX</text><rect fill=\"#FFFFFF\" height=\"12\" style=\"stroke:#181818;stroke-width:1.5;\" width=\"12\" x=\"238\" y=\"72.5\"/><!--MD5=[209b3feb70ccb6233bfe1053d122c12c]\n",
       "reverse link E2 to E3--><g id=\"link_E2_E3\"><a href=\"psysml:17b203e1-cdea-4a97-b803-663e29228052\" target=\"_top\" title=\"psysml:17b203e1-cdea-4a97-b803-663e29228052\" xlink:actuate=\"onRequest\" xlink:href=\"psysml:17b203e1-cdea-4a97-b803-663e29228052\" xlink:show=\"new\" xlink:title=\"psysml:17b203e1-cdea-4a97-b803-663e29228052\" xlink:type=\"simple\"><path d=\"M94,129.28 C94,129.28 94,175.66 94,175.66 \" fill=\"none\" id=\"E2-backto-E3\" style=\"stroke:#181818;stroke-width:1.0;\"/><polygon fill=\"#181818\" points=\"94,116.28,90,122.28,94,128.28,98,122.28,94,116.28\" style=\"stroke:#181818;stroke-width:1.0;\"/></a></g><!--MD5=[5b0288d149ba3999f7a27c274d426b19]\n",
       "@startuml\r\n",
       "skin sysmlbw\r\n",
       "skinparam monochrome true\r\n",
       "skinparam wrapWidth 300\r\n",
       "hide circle\r\n",
       "skinparam linetype ortho\r\n",
       "\r\n",
       "package \"TextualRepresentationTest\" as E1  [[psysml:267f3727-84c1-426f-a395-45db3603d5f0 ]]  {\r\n",
       "comp def \"C\" as E2  <<(T,blue) item  def>> [[psysml:61886539-cbef-4e54-b839-069269561211 ]] {\r\n",
       "##//attributes//##\r\n",
       "x: Real\r\n",
       "}\r\n",
       "comp usage \"x_constraint  \" as E3  <<(T,blue) assert constraint>> [[psysml:646d3ab6-4c99-4716-814b-89245cbe5994 ]] {\r\n",
       "}\r\n",
       "rec def \"setX\" as E4  <<(T,blue) action  def>> [[psysml:3b239dd5-995b-4be0-a5de-a49576b20dda ]] {\r\n",
       "portin \"c\" as E5  [[psysml:4e0877a7-1493-46cf-81bf-47696701d005 ]] \r\n",
       "portin \"newX\" as E6  [[psysml:6814382f-4eaa-405a-a959-183965b050e4 ]] \r\n",
       "}\r\n",
       "\r\n",
       "}\r\n",
       "E2 *- - E3 [[psysml:17b203e1-cdea-4a97-b803-663e29228052 ]] \r\n",
       "@enduml\r\n",
       "\n",
       "PlantUML version 1.2022.7(Mon Aug 22 17:01:30 UTC 2022)\n",
       "(EPL source distribution)\n",
       "Java Runtime: OpenJDK Runtime Environment\n",
       "JVM: OpenJDK 64-Bit Server VM\n",
       "Default Encoding: UTF-8\n",
       "Language: en\n",
       "Country: null\n",
       "--></g></svg>"
      ]
     },
     "execution_count": 57,
     "metadata": {},
     "output_type": "execute_result"
    }
   ],
   "source": [
    "%viz --style=\"ORTHOLINE\" --view=\"MIXED\" \"TextualRepresentationTest\""
   ]
  }
 ],
 "metadata": {
  "kernelspec": {
   "display_name": "SysML",
   "language": "sysml",
   "name": "sysml"
  },
  "language_info": {
   "codemirror_mode": "sysml",
   "file_extension": ".sysml",
   "mimetype": "text/x-sysml",
   "name": "SysML",
   "pygments_lexer": "java",
   "version": "1.0.0"
  }
 },
 "nbformat": 4,
 "nbformat_minor": 5
}
