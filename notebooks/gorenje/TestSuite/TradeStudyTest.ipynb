{
 "cells": [
  {
   "cell_type": "markdown",
   "id": "dcd08077",
   "metadata": {},
   "source": [
    "# SysML v2 Test Suite\n",
    "\n",
    "This can notebook can be cleared using menu `Edit --> Clear All Outputs` and then all cells can be\n",
    "run using menu `Run --> Run All Cells`.\n",
    "\n",
    "**WARNING**: This file is generated, all modifications here will be ignored.\n"
   ]
  },
  {
   "cell_type": "markdown",
   "id": "f1ac0e3a",
   "metadata": {},
   "source": [
    "## File: ../../sysml/src/examples/Simple Tests/TradeStudyTest.sysml"
   ]
  },
  {
   "cell_type": "code",
   "execution_count": 1,
   "id": "2d75e97b",
   "metadata": {
    "execution": {
     "iopub.execute_input": "2022-02-18T10:50:33.650322Z",
     "iopub.status.busy": "2022-02-18T10:50:33.649227Z",
     "iopub.status.idle": "2022-02-18T10:50:34.021868Z",
     "shell.execute_reply": "2022-02-18T10:50:34.021355Z"
    }
   },
   "outputs": [
    {
     "data": {
      "text/plain": [
       "Package TradeStudyTest (ad15cc5f-86e8-4323-8e7e-5d33f3c8aa9e)\n"
      ]
     },
     "execution_count": 1,
     "metadata": {},
     "output_type": "execute_result"
    }
   ],
   "source": [
    "package TradeStudyTest {\n",
    "\timport ScalarValues::Real;\n",
    "\timport TradeStudies::*;\n",
    "\t\n",
    "\tpart def Engine;\n",
    "\tpart engine1: Engine;\n",
    "\tpart engine2: Engine;\n",
    "\t\n",
    "\tanalysis engineTradeStudy : TradeStudy {\n",
    "\t\tsubject : Engine[1..*] = (engine1, engine2);\n",
    "\t\tobjective : MaximizeObjective;\n",
    "\n",
    "\t\tcalc :>> evaluationFunction {\n",
    "\t\t\tin part : Engine;\n",
    "\t\t\treturn : Real;\n",
    "\t\t}\n",
    "\t\t\n",
    "\t\treturn part : Engine;\n",
    "\t}\n",
    "\t\n",
    "}"
   ]
  },
  {
   "cell_type": "code",
   "execution_count": 2,
   "id": "addc8c09",
   "metadata": {
    "execution": {
     "iopub.execute_input": "2022-02-18T10:50:34.073733Z",
     "iopub.status.busy": "2022-02-18T10:50:34.073247Z",
     "iopub.status.idle": "2022-02-18T10:50:34.553859Z",
     "shell.execute_reply": "2022-02-18T10:50:34.551689Z"
    }
   },
   "outputs": [
    {
     "data": {
      "image/svg+xml": [
       "<?xml version=\"1.0\" encoding=\"UTF-8\" standalone=\"no\"?><svg xmlns=\"http://www.w3.org/2000/svg\" xmlns:xlink=\"http://www.w3.org/1999/xlink\" contentScriptType=\"application/ecmascript\" contentStyleType=\"text/css\" height=\"545px\" preserveAspectRatio=\"none\" style=\"width:566px;height:545px;\" version=\"1.1\" viewBox=\"0 0 566 545\" width=\"566px\" zoomAndPan=\"magnify\"><defs/><g><!--MD5=[fbc87193dbaf4d95561dea2c320d4a47]\n",
       "cluster E1--><a href=\"psysml:9d3e1c5c-e45c-4a85-8e75-4ee823ac8fbf\" target=\"_top\" title=\"psysml:9d3e1c5c-e45c-4a85-8e75-4ee823ac8fbf\" xlink:actuate=\"onRequest\" xlink:href=\"psysml:9d3e1c5c-e45c-4a85-8e75-4ee823ac8fbf\" xlink:show=\"new\" xlink:title=\"psysml:9d3e1c5c-e45c-4a85-8e75-4ee823ac8fbf\" xlink:type=\"simple\"><polygon fill=\"#FFFFFF\" points=\"16,6,132,6,139,28.2969,544,28.2969,544,533,16,533,16,6\" style=\"stroke: #000000; stroke-width: 1.5;\"/><line style=\"stroke: #000000; stroke-width: 1.5;\" x1=\"16\" x2=\"139\" y1=\"28.2969\" y2=\"28.2969\"/><text fill=\"#000000\" font-family=\"sans-serif\" font-size=\"14\" font-weight=\"bold\" lengthAdjust=\"spacingAndGlyphs\" textLength=\"110\" x=\"20\" y=\"20.9951\">TradeStudyTest</text></a><!--MD5=[de5ec2e2e8f62f467e546659f5068c88]\n",
       "cluster E5--><a href=\"psysml:e12e8838-d64a-4336-9e52-2de97357eae2\" target=\"_top\" title=\"psysml:e12e8838-d64a-4336-9e52-2de97357eae2\" xlink:actuate=\"onRequest\" xlink:href=\"psysml:e12e8838-d64a-4336-9e52-2de97357eae2\" xlink:show=\"new\" xlink:title=\"psysml:e12e8838-d64a-4336-9e52-2de97357eae2\" xlink:type=\"simple\"><rect fill=\"#FFFFFF\" height=\"129\" id=\"E5\" rx=\"10\" ry=\"10\" style=\"stroke: #383838; stroke-width: 1.5;\" width=\"199\" x=\"238\" y=\"57\"/><rect fill=\"#F8F8F8\" height=\"37.9375\" rx=\"10\" ry=\"10\" style=\"stroke: #F8F8F8; stroke-width: 1.5;\" width=\"199\" x=\"238\" y=\"57\"/><rect fill=\"#F8F8F8\" height=\"10\" style=\"stroke: #F8F8F8; stroke-width: 1.5;\" width=\"199\" x=\"238\" y=\"84.9375\"/><rect fill=\"none\" height=\"129\" id=\"E5\" rx=\"10\" ry=\"10\" style=\"stroke: #383838; stroke-width: 1.5;\" width=\"199\" x=\"238\" y=\"57\"/><text fill=\"#000000\" font-family=\"sans-serif\" font-size=\"12\" font-style=\"italic\" lengthAdjust=\"spacingAndGlyphs\" textLength=\"64\" x=\"305.5\" y=\"73.1387\">«analysis»</text><text fill=\"#000000\" font-family=\"sans-serif\" font-size=\"12\" lengthAdjust=\"spacingAndGlyphs\" textLength=\"114\" x=\"280.5\" y=\"87.1074\">engineTradeStudy</text><line style=\"stroke: #383838; stroke-width: 1.0;\" x1=\"238\" x2=\"437\" y1=\"94.9375\" y2=\"94.9375\"/></a><!--MD5=[b4997ac47864f28c2f74865a473b2911]\n",
       "class E2--><a href=\"psysml:956f1300-60cf-48ef-8161-7a381ae0bb8c\" target=\"_top\" title=\"psysml:956f1300-60cf-48ef-8161-7a381ae0bb8c\" xlink:actuate=\"onRequest\" xlink:href=\"psysml:956f1300-60cf-48ef-8161-7a381ae0bb8c\" xlink:show=\"new\" xlink:title=\"psysml:956f1300-60cf-48ef-8161-7a381ae0bb8c\" xlink:type=\"simple\"><rect fill=\"#FFFFFF\" height=\"45.9375\" id=\"E2\" style=\"stroke: #383838; stroke-width: 1.5;\" width=\"70\" x=\"292\" y=\"471\"/><text fill=\"#000000\" font-family=\"sans-serif\" font-size=\"12\" font-style=\"italic\" lengthAdjust=\"spacingAndGlyphs\" textLength=\"68\" x=\"293\" y=\"487.1387\">«part  def»</text><text fill=\"#000000\" font-family=\"sans-serif\" font-size=\"12\" lengthAdjust=\"spacingAndGlyphs\" textLength=\"43\" x=\"305.5\" y=\"501.1074\">Engine</text><line style=\"stroke: #383838; stroke-width: 1.5;\" x1=\"293\" x2=\"361\" y1=\"508.9375\" y2=\"508.9375\"/></a><!--MD5=[09b614a08d8cba4a07c9adeb5e0fee81]\n",
       "class E3--><a href=\"psysml:5ff7a686-dab8-41cf-8031-b7dccb26607b\" target=\"_top\" title=\"psysml:5ff7a686-dab8-41cf-8031-b7dccb26607b\" xlink:actuate=\"onRequest\" xlink:href=\"psysml:5ff7a686-dab8-41cf-8031-b7dccb26607b\" xlink:show=\"new\" xlink:title=\"psysml:5ff7a686-dab8-41cf-8031-b7dccb26607b\" xlink:type=\"simple\"><rect fill=\"#FFFFFF\" height=\"45.9375\" id=\"E3\" rx=\"10\" ry=\"10\" style=\"stroke: #383838; stroke-width: 1.5;\" width=\"112\" x=\"179\" y=\"364\"/><text fill=\"#000000\" font-family=\"sans-serif\" font-size=\"12\" font-style=\"italic\" lengthAdjust=\"spacingAndGlyphs\" textLength=\"40\" x=\"215\" y=\"380.1387\">«part»</text><text fill=\"#000000\" font-family=\"sans-serif\" font-size=\"12\" lengthAdjust=\"spacingAndGlyphs\" textLength=\"102\" x=\"182\" y=\"394.1074\">engine1: Engine</text><line style=\"stroke: #383838; stroke-width: 1.5;\" x1=\"180\" x2=\"290\" y1=\"401.9375\" y2=\"401.9375\"/></a><!--MD5=[ebbe1d658d1005bcc118a6aa81145e00]\n",
       "class E4--><a href=\"psysml:44e88bb9-9b84-4b3f-b104-23d7a257fb04\" target=\"_top\" title=\"psysml:44e88bb9-9b84-4b3f-b104-23d7a257fb04\" xlink:actuate=\"onRequest\" xlink:href=\"psysml:44e88bb9-9b84-4b3f-b104-23d7a257fb04\" xlink:show=\"new\" xlink:title=\"psysml:44e88bb9-9b84-4b3f-b104-23d7a257fb04\" xlink:type=\"simple\"><rect fill=\"#FFFFFF\" height=\"45.9375\" id=\"E4\" rx=\"10\" ry=\"10\" style=\"stroke: #383838; stroke-width: 1.5;\" width=\"112\" x=\"32\" y=\"364\"/><text fill=\"#000000\" font-family=\"sans-serif\" font-size=\"12\" font-style=\"italic\" lengthAdjust=\"spacingAndGlyphs\" textLength=\"40\" x=\"68\" y=\"380.1387\">«part»</text><text fill=\"#000000\" font-family=\"sans-serif\" font-size=\"12\" lengthAdjust=\"spacingAndGlyphs\" textLength=\"102\" x=\"35\" y=\"394.1074\">engine2: Engine</text><line style=\"stroke: #383838; stroke-width: 1.5;\" x1=\"33\" x2=\"143\" y1=\"401.9375\" y2=\"401.9375\"/></a><!--MD5=[2156ba9850f5573cc1fc38a6a4b2f02b]\n",
       "class E7--><a href=\"psysml:1fa3686a-6014-4c73-9542-2575e26fd8a7\" target=\"_top\" title=\"psysml:1fa3686a-6014-4c73-9542-2575e26fd8a7\" xlink:actuate=\"onRequest\" xlink:href=\"psysml:1fa3686a-6014-4c73-9542-2575e26fd8a7\" xlink:show=\"new\" xlink:title=\"psysml:1fa3686a-6014-4c73-9542-2575e26fd8a7\" xlink:type=\"simple\"><rect fill=\"#FFFFFF\" height=\"45.9375\" id=\"E7\" rx=\"10\" ry=\"10\" style=\"stroke: #383838; stroke-width: 1.5;\" width=\"129\" x=\"181.5\" y=\"241\"/><text fill=\"#000000\" font-family=\"sans-serif\" font-size=\"12\" font-style=\"italic\" lengthAdjust=\"spacingAndGlyphs\" textLength=\"82\" x=\"205\" y=\"257.1387\">«calculation»</text><text fill=\"#000000\" font-family=\"sans-serif\" font-size=\"12\" lengthAdjust=\"spacingAndGlyphs\" textLength=\"119\" x=\"184.5\" y=\"271.1074\">evaluationFunction</text><line style=\"stroke: #383838; stroke-width: 1.5;\" x1=\"182.5\" x2=\"309.5\" y1=\"278.9375\" y2=\"278.9375\"/></a><!--MD5=[b9389687b975829384b498ac4b7476b2]\n",
       "class E8--><a href=\"psysml:79c1d929-0a70-426e-ae6d-56e5e3e776a6\" target=\"_top\" title=\"psysml:79c1d929-0a70-426e-ae6d-56e5e3e776a6\" xlink:actuate=\"onRequest\" xlink:href=\"psysml:79c1d929-0a70-426e-ae6d-56e5e3e776a6\" xlink:show=\"new\" xlink:title=\"psysml:79c1d929-0a70-426e-ae6d-56e5e3e776a6\" xlink:type=\"simple\"><rect fill=\"#FFFFFF\" height=\"45.9375\" id=\"E8\" rx=\"10\" ry=\"10\" style=\"stroke: #383838; stroke-width: 1.5;\" width=\"128\" x=\"363\" y=\"364\"/><text fill=\"#000000\" font-family=\"sans-serif\" font-size=\"12\" font-style=\"italic\" lengthAdjust=\"spacingAndGlyphs\" textLength=\"40\" x=\"407\" y=\"380.1387\">«part»</text><text fill=\"#000000\" font-family=\"sans-serif\" font-size=\"12\" lengthAdjust=\"spacingAndGlyphs\" textLength=\"118\" x=\"366\" y=\"394.1074\">alternative: Engine</text><line style=\"stroke: #383838; stroke-width: 1.5;\" x1=\"364\" x2=\"490\" y1=\"401.9375\" y2=\"401.9375\"/></a><!--MD5=[fd4143e9d270a159db93a4ea2a975926]\n",
       "class E9--><a href=\"psysml:169f456a-e384-47f5-89e9-43fd13dd17eb\" target=\"_top\" title=\"psysml:169f456a-e384-47f5-89e9-43fd13dd17eb\" xlink:actuate=\"onRequest\" xlink:href=\"psysml:169f456a-e384-47f5-89e9-43fd13dd17eb\" xlink:show=\"new\" xlink:title=\"psysml:169f456a-e384-47f5-89e9-43fd13dd17eb\" xlink:type=\"simple\"><rect fill=\"#FFFFFF\" height=\"45.9375\" id=\"E9\" rx=\"10\" ry=\"10\" style=\"stroke: #383838; stroke-width: 1.5;\" width=\"182\" x=\"346\" y=\"241\"/><text fill=\"#000000\" font-family=\"sans-serif\" font-size=\"12\" font-style=\"italic\" lengthAdjust=\"spacingAndGlyphs\" textLength=\"40\" x=\"417\" y=\"257.1387\">«part»</text><text fill=\"#000000\" font-family=\"sans-serif\" font-size=\"12\" lengthAdjust=\"spacingAndGlyphs\" textLength=\"172\" x=\"349\" y=\"271.1074\">selectedAlternative: Engine</text><line style=\"stroke: #383838; stroke-width: 1.5;\" x1=\"347\" x2=\"527\" y1=\"278.9375\" y2=\"278.9375\"/></a><!--MD5=[60a26617385b1d2d0262a64233df1f8d]\n",
       "class E6--><a href=\"psysml:9a804e4d-bc47-4ee7-a2d8-d8527e0c1caf\" target=\"_top\" title=\"psysml:9a804e4d-bc47-4ee7-a2d8-d8527e0c1caf\" xlink:actuate=\"onRequest\" xlink:href=\"psysml:9a804e4d-bc47-4ee7-a2d8-d8527e0c1caf\" xlink:show=\"new\" xlink:title=\"psysml:9a804e4d-bc47-4ee7-a2d8-d8527e0c1caf\" xlink:type=\"simple\"><rect fill=\"#FFFFFF\" height=\"45.9375\" id=\"E6\" rx=\"10\" ry=\"10\" style=\"stroke: #383838; stroke-width: 1.5;\" width=\"132\" x=\"281\" y=\"116\"/><text fill=\"#000000\" font-family=\"sans-serif\" font-size=\"12\" font-style=\"italic\" lengthAdjust=\"spacingAndGlyphs\" textLength=\"70\" x=\"312\" y=\"132.1387\">«objective»</text><text fill=\"#000000\" font-family=\"sans-serif\" font-size=\"12\" lengthAdjust=\"spacingAndGlyphs\" textLength=\"126\" x=\"284\" y=\"146.1074\">tradeStudyObjective</text><line style=\"stroke: #383838; stroke-width: 1.5;\" x1=\"282\" x2=\"412\" y1=\"153.9375\" y2=\"153.9375\"/></a><!--MD5=[05d275557350bfb9b23a4ef7222b4c39]\n",
       "link E3 to E2--><a href=\"psysml:9be21745-fec5-4980-9af6-b796782d7969\" target=\"_top\" title=\"psysml:9be21745-fec5-4980-9af6-b796782d7969\" xlink:actuate=\"onRequest\" xlink:href=\"psysml:9be21745-fec5-4980-9af6-b796782d7969\" xlink:show=\"new\" xlink:title=\"psysml:9be21745-fec5-4980-9af6-b796782d7969\" xlink:type=\"simple\"><path d=\"M254.29,410.01 C265.74,423.08 280.57,440.01 293.86,455.17 \" fill=\"none\" id=\"E3-&gt;E2\" style=\"stroke: #383838; stroke-width: 1.0;\"/><polygon fill=\"#FFFFFF\" points=\"307.42,470.66,289.6319,460.9861,300.1599,451.7578,307.42,470.66\" style=\"stroke: #383838; stroke-width: 1.0;\"/><ellipse cx=\"287.3787\" cy=\"455.3814\" fill=\"#383838\" rx=\"2\" ry=\"2\" style=\"stroke: #383838; stroke-width: 1.0;\"/><ellipse cx=\"294.8987\" cy=\"448.7898\" fill=\"#383838\" rx=\"2\" ry=\"2\" style=\"stroke: #383838; stroke-width: 1.0;\"/></a><!--MD5=[185131fc0dcab0a4505a2ebe144e961b]\n",
       "link E4 to E2--><a href=\"psysml:1ad537aa-bda6-4221-a392-6db0b9fa994b\" target=\"_top\" title=\"psysml:1ad537aa-bda6-4221-a392-6db0b9fa994b\" xlink:actuate=\"onRequest\" xlink:href=\"psysml:1ad537aa-bda6-4221-a392-6db0b9fa994b\" xlink:show=\"new\" xlink:title=\"psysml:1ad537aa-bda6-4221-a392-6db0b9fa994b\" xlink:type=\"simple\"><path d=\"M138.1,410.01 C177.63,427.38 232.65,451.55 273.12,469.33 \" fill=\"none\" id=\"E4-&gt;E2\" style=\"stroke: #383838; stroke-width: 1.0;\"/><polygon fill=\"#FFFFFF\" points=\"291.69,477.49,271.479,476.2594,277.1083,463.4411,291.69,477.49\" style=\"stroke: #383838; stroke-width: 1.0;\"/><ellipse cx=\"267.0642\" cy=\"472.1363\" fill=\"#383838\" rx=\"2\" ry=\"2\" style=\"stroke: #383838; stroke-width: 1.0;\"/><ellipse cx=\"271.0852\" cy=\"462.9803\" fill=\"#383838\" rx=\"2\" ry=\"2\" style=\"stroke: #383838; stroke-width: 1.0;\"/></a><!--MD5=[15ebcb19ae302d9b601edb458606d402]\n",
       "link E5 to E2--><a href=\"psysml:ef23f2a8-b555-4000-b8d1-a9fc8ea83129\" target=\"_top\" title=\"psysml:ef23f2a8-b555-4000-b8d1-a9fc8ea83129\" xlink:actuate=\"onRequest\" xlink:href=\"psysml:ef23f2a8-b555-4000-b8d1-a9fc8ea83129\" xlink:show=\"new\" xlink:title=\"psysml:ef23f2a8-b555-4000-b8d1-a9fc8ea83129\" xlink:type=\"simple\"><path d=\"M237.7204,146.0763 C237.4768,146.2621 237.2287,146.4518 236.9763,146.6454 C235.9668,147.4197 234.8879,148.2561 233.748,149.1518 C231.4682,150.943 228.9441,152.9709 226.2406,155.2119 C215.4269,164.1756 201.745,176.5475 189.3625,190.8125 C164.5975,219.3425 145.03,255.445 164,287 C166.35,290.91 306.39,360.26 309,364 C329.99,394 331.63,437.66 330,465.69 \" fill=\"none\" id=\"E5-&gt;E2\" style=\"stroke: #383838; stroke-width: 1.0; stroke-dasharray: 7.0,7.0;\"/><polygon fill=\"#383838\" points=\"329.66,470.74,334.268,462.0356,330.003,465.7518,326.2869,461.4868,329.66,470.74\" style=\"stroke: #383838; stroke-width: 1.0;\"/><text fill=\"#000000\" font-family=\"sans-serif\" font-size=\"13\" lengthAdjust=\"spacingAndGlyphs\" textLength=\"62\" x=\"253\" y=\"330.0669\">«subject»</text></a><!--MD5=[452b418e7f8a40397a49b8c0a78acc5b]\n",
       "reverse link E5 to E7--><a href=\"psysml:3495a436-635c-4195-be5e-85a5d126f0e1\" target=\"_top\" title=\"psysml:3495a436-635c-4195-be5e-85a5d126f0e1\" xlink:actuate=\"onRequest\" xlink:href=\"psysml:3495a436-635c-4195-be5e-85a5d126f0e1\" xlink:show=\"new\" xlink:title=\"psysml:3495a436-635c-4195-be5e-85a5d126f0e1\" xlink:type=\"simple\"><path d=\"M246,186.2997 C246,188.9655 246,191.6719 246,194.3971 C246,199.8476 246,205.3735 246,210.8005 C246,221.6544 246,232.1125 246,240.78 \" fill=\"none\" id=\"E5&lt;-E7\" style=\"stroke: #383838; stroke-width: 1.0;\"/><polygon fill=\"#383838\" points=\"246,186.2997,242,192.2997,246,198.2997,250,192.2997,246,186.2997\" style=\"stroke: #383838; stroke-width: 1.0;\"/></a><!--MD5=[dc164f5e8a733ab456ef1add180e9e34]\n",
       "reverse link E7 to E8--><a href=\"psysml:e1d2632c-68a4-476d-b3ed-d8b6d2aaac51\" target=\"_top\" title=\"psysml:e1d2632c-68a4-476d-b3ed-d8b6d2aaac51\" xlink:actuate=\"onRequest\" xlink:href=\"psysml:e1d2632c-68a4-476d-b3ed-d8b6d2aaac51\" xlink:show=\"new\" xlink:title=\"psysml:e1d2632c-68a4-476d-b3ed-d8b6d2aaac51\" xlink:type=\"simple\"><path d=\"M290.06,294.45 C322.12,315.89 364.86,344.46 394.01,363.95 \" fill=\"none\" id=\"E7&lt;-E8\" style=\"stroke: #383838; stroke-width: 1.0;\"/><polygon fill=\"#FFFFFF\" points=\"279.2,287.19,281.9674,293.8489,289.1785,293.8555,286.4111,287.1966,279.2,287.19\" style=\"stroke: #383838; stroke-width: 1.0;\"/><text fill=\"#000000\" font-family=\"sans-serif\" font-size=\"13\" lengthAdjust=\"spacingAndGlyphs\" textLength=\"8\" x=\"376.0689\" y=\"352.8328\">1</text></a><!--MD5=[f1f3f9f2fc535e6147756cb86a7f2e32]\n",
       "link E8 to E2--><a href=\"psysml:a8ae8a0d-ad52-4d9e-986d-0c741d3467c2\" target=\"_top\" title=\"psysml:a8ae8a0d-ad52-4d9e-986d-0c741d3467c2\" xlink:actuate=\"onRequest\" xlink:href=\"psysml:a8ae8a0d-ad52-4d9e-986d-0c741d3467c2\" xlink:show=\"new\" xlink:title=\"psysml:a8ae8a0d-ad52-4d9e-986d-0c741d3467c2\" xlink:type=\"simple\"><path d=\"M406.04,410.01 C393.32,423.36 376.77,440.74 362.11,456.14 \" fill=\"none\" id=\"E8-&gt;E2\" style=\"stroke: #383838; stroke-width: 1.0;\"/><polygon fill=\"#FFFFFF\" points=\"348.28,470.66,356.3076,452.0708,366.4491,461.7223,348.28,470.66\" style=\"stroke: #383838; stroke-width: 1.0;\"/><ellipse cx=\"361.6859\" cy=\"449.3206\" fill=\"#383838\" rx=\"2\" ry=\"2\" style=\"stroke: #383838; stroke-width: 1.0;\"/><ellipse cx=\"368.9298\" cy=\"456.2144\" fill=\"#383838\" rx=\"2\" ry=\"2\" style=\"stroke: #383838; stroke-width: 1.0;\"/></a><!--MD5=[9ae28de373ca99bb8a1b38d63370ca7e]\n",
       "reverse link E5 to E9--><a href=\"psysml:1023028c-00c5-4dde-9329-e4b02befe1ab\" target=\"_top\" title=\"psysml:1023028c-00c5-4dde-9329-e4b02befe1ab\" xlink:actuate=\"onRequest\" xlink:href=\"psysml:1023028c-00c5-4dde-9329-e4b02befe1ab\" xlink:show=\"new\" xlink:title=\"psysml:1023028c-00c5-4dde-9329-e4b02befe1ab\" xlink:type=\"simple\"><path d=\"M254.7949,186.3026 C254.8401,186.4038 254.8856,186.5049 254.9313,186.6059 C255.2966,187.4138 255.6769,188.215 256.0726,189.0077 C256.8641,190.5933 257.7176,192.1452 258.6379,193.6498 C260.4784,196.6589 262.5863,199.4788 265,202 C278.04,215.62 316.12,229.75 353.15,240.99 \" fill=\"none\" id=\"E5&lt;-E9\" style=\"stroke: #383838; stroke-width: 1.0;\"/><polygon fill=\"#FFFFFF\" points=\"254.7949,186.3026,253.5901,193.4123,259.6895,197.259,260.8944,190.1493,254.7949,186.3026\" style=\"stroke: #383838; stroke-width: 1.0;\"/><text fill=\"#000000\" font-family=\"sans-serif\" font-size=\"13\" lengthAdjust=\"spacingAndGlyphs\" textLength=\"8\" x=\"330.0508\" y=\"232.8298\">1</text></a><!--MD5=[5c3bb36fe832a92c7f0e1807dd65209d]\n",
       "link E9 to E2--><a href=\"psysml:d6cd1bf0-a8ac-42a9-91c6-4adc5d4642e7\" target=\"_top\" title=\"psysml:d6cd1bf0-a8ac-42a9-91c6-4adc5d4642e7\" xlink:actuate=\"onRequest\" xlink:href=\"psysml:d6cd1bf0-a8ac-42a9-91c6-4adc5d4642e7\" xlink:show=\"new\" xlink:title=\"psysml:d6cd1bf0-a8ac-42a9-91c6-4adc5d4642e7\" xlink:type=\"simple\"><path d=\"M462.31,287.19 C492.44,316.36 535.53,368.75 509,410 C481.16,453.3 424.53,474.29 381.79,484.28 \" fill=\"none\" id=\"E9-&gt;E2\" style=\"stroke: #383838; stroke-width: 1.0;\"/><polygon fill=\"#FFFFFF\" points=\"362.12,488.35,379.3051,477.6415,382.1449,491.3505,362.12,488.35\" style=\"stroke: #383838; stroke-width: 1.0;\"/><ellipse cx=\"385.2923\" cy=\"478.4438\" fill=\"#383838\" rx=\"2\" ry=\"2\" style=\"stroke: #383838; stroke-width: 1.0;\"/><ellipse cx=\"387.3207\" cy=\"488.2359\" fill=\"#383838\" rx=\"2\" ry=\"2\" style=\"stroke: #383838; stroke-width: 1.0;\"/></a><!--MD5=[fae0c61c701f4e484766c128cd73bf8c]\n",
       "@startuml\r\n",
       " skinparam monochrome true\r\n",
       "skinparam classbackgroundcolor white\r\n",
       "skinparam shadowing false\r\n",
       "skinparam wrapWidth 300\r\n",
       "hide circle\r\n",
       "\r\n",
       "package \"TradeStudyTest\" as E1  [[psysml:9d3e1c5c-e45c-4a85-8e75-4ee823ac8fbf ]]  {\r\n",
       "comp def \"Engine\" as E2  <<(T,blue) part  def>> [[psysml:956f1300-60cf-48ef-8161-7a381ae0bb8c ]] {\r\n",
       "}\r\n",
       "comp usage \"engine1: Engine \" as E3  <<(T,blue) part>> [[psysml:5ff7a686-dab8-41cf-8031-b7dccb26607b ]] {\r\n",
       "}\r\n",
       "comp usage \"engine2: Engine \" as E4  <<(T,blue) part>> [[psysml:44e88bb9-9b84-4b3f-b104-23d7a257fb04 ]] {\r\n",
       "}\r\n",
       "rec usage \"engineTradeStudy\" as E5 << analysis>> [[psysml:e12e8838-d64a-4336-9e52-2de97357eae2 ]] {\r\n",
       "comp usage \"tradeStudyObjective\" as E6  <<objective>> [[psysml:9a804e4d-bc47-4ee7-a2d8-d8527e0c1caf ]] {\r\n",
       "}\r\n",
       "}\r\n",
       "comp usage \"evaluationFunction \" as E7  <<(T,blue) calculation>> [[psysml:1fa3686a-6014-4c73-9542-2575e26fd8a7 ]] {\r\n",
       "}\r\n",
       "comp usage \"alternative: Engine \" as E8  <<(T,blue) part>> [[psysml:79c1d929-0a70-426e-ae6d-56e5e3e776a6 ]] {\r\n",
       "}\r\n",
       "comp usage \"selectedAlternative: Engine \" as E9  <<(T,blue) part>> [[psysml:169f456a-e384-47f5-89e9-43fd13dd17eb ]] {\r\n",
       "}\r\n",
       "}\r\n",
       "E3 - -:|> E2 [[psysml:9be21745-fec5-4980-9af6-b796782d7969 ]] \r\n",
       "E4 - -:|> E2 [[psysml:1ad537aa-bda6-4221-a392-6db0b9fa994b ]] \r\n",
       "E5 ..> E2 [[psysml:ef23f2a8-b555-4000-b8d1-a9fc8ea83129 ]] : <<subject>>\r\n",
       "E5 *- - E7 [[psysml:3495a436-635c-4195-be5e-85a5d126f0e1 ]] \r\n",
       "E7 o- - \"1\"E8 [[psysml:e1d2632c-68a4-476d-b3ed-d8b6d2aaac51 ]] \r\n",
       "E8 - -:|> E2 [[psysml:a8ae8a0d-ad52-4d9e-986d-0c741d3467c2 ]] \r\n",
       "E5 o- - \"1\"E9 [[psysml:1023028c-00c5-4dde-9329-e4b02befe1ab ]] \r\n",
       "E9 - -:|> E2 [[psysml:d6cd1bf0-a8ac-42a9-91c6-4adc5d4642e7 ]] \r\n",
       "@enduml\r\n",
       "\n",
       "PlantUML version 1.2020.13(Sat Jun 13 12:26:38 UTC 2020)\n",
       "(EPL source distribution)\n",
       "Java Runtime: OpenJDK Runtime Environment\n",
       "JVM: OpenJDK 64-Bit Server VM\n",
       "Default Encoding: UTF-8\n",
       "Language: en\n",
       "Country: null\n",
       "--></g></svg>"
      ]
     },
     "execution_count": 2,
     "metadata": {},
     "output_type": "execute_result"
    }
   ],
   "source": [
    "%viz --style=\"COMPTREE\" --view=\"Default\" \"TradeStudyTest\""
   ]
  },
  {
   "cell_type": "code",
   "execution_count": 3,
   "id": "9325f59e",
   "metadata": {
    "execution": {
     "iopub.execute_input": "2022-02-18T10:50:34.602745Z",
     "iopub.status.busy": "2022-02-18T10:50:34.602262Z",
     "iopub.status.idle": "2022-02-18T10:50:34.649486Z",
     "shell.execute_reply": "2022-02-18T10:50:34.647975Z"
    }
   },
   "outputs": [
    {
     "data": {
      "image/svg+xml": [
       "<?xml version=\"1.0\" encoding=\"UTF-8\" standalone=\"no\"?><svg xmlns=\"http://www.w3.org/2000/svg\" xmlns:xlink=\"http://www.w3.org/1999/xlink\" contentScriptType=\"application/ecmascript\" contentStyleType=\"text/css\" height=\"497px\" preserveAspectRatio=\"none\" style=\"width:569px;height:497px;\" version=\"1.1\" viewBox=\"0 0 569 497\" width=\"569px\" zoomAndPan=\"magnify\"><defs/><g><!--MD5=[fbc87193dbaf4d95561dea2c320d4a47]\n",
       "cluster E1--><a href=\"psysml:9d3e1c5c-e45c-4a85-8e75-4ee823ac8fbf\" target=\"_top\" title=\"psysml:9d3e1c5c-e45c-4a85-8e75-4ee823ac8fbf\" xlink:actuate=\"onRequest\" xlink:href=\"psysml:9d3e1c5c-e45c-4a85-8e75-4ee823ac8fbf\" xlink:show=\"new\" xlink:title=\"psysml:9d3e1c5c-e45c-4a85-8e75-4ee823ac8fbf\" xlink:type=\"simple\"><polygon fill=\"#FFFFFF\" points=\"19.75,6,135.75,6,142.75,28.2969,547.75,28.2969,547.75,485,19.75,485,19.75,6\" style=\"stroke: #000000; stroke-width: 1.5;\"/><line style=\"stroke: #000000; stroke-width: 1.5;\" x1=\"19.75\" x2=\"142.75\" y1=\"28.2969\" y2=\"28.2969\"/><text fill=\"#000000\" font-family=\"sans-serif\" font-size=\"14\" font-weight=\"bold\" lengthAdjust=\"spacingAndGlyphs\" textLength=\"110\" x=\"23.75\" y=\"20.9951\">TradeStudyTest</text></a><!--MD5=[b4997ac47864f28c2f74865a473b2911]\n",
       "class E2--><a href=\"psysml:956f1300-60cf-48ef-8161-7a381ae0bb8c\" target=\"_top\" title=\"psysml:956f1300-60cf-48ef-8161-7a381ae0bb8c\" xlink:actuate=\"onRequest\" xlink:href=\"psysml:956f1300-60cf-48ef-8161-7a381ae0bb8c\" xlink:show=\"new\" xlink:title=\"psysml:956f1300-60cf-48ef-8161-7a381ae0bb8c\" xlink:type=\"simple\"><rect fill=\"#FFFFFF\" height=\"45.9375\" id=\"E2\" style=\"stroke: #383838; stroke-width: 1.5;\" width=\"70\" x=\"201.75\" y=\"423\"/><text fill=\"#000000\" font-family=\"sans-serif\" font-size=\"12\" font-style=\"italic\" lengthAdjust=\"spacingAndGlyphs\" textLength=\"68\" x=\"202.75\" y=\"439.1387\">«part  def»</text><text fill=\"#000000\" font-family=\"sans-serif\" font-size=\"12\" lengthAdjust=\"spacingAndGlyphs\" textLength=\"43\" x=\"215.25\" y=\"453.1074\">Engine</text><line style=\"stroke: #383838; stroke-width: 1.5;\" x1=\"202.75\" x2=\"270.75\" y1=\"460.9375\" y2=\"460.9375\"/></a><!--MD5=[09b614a08d8cba4a07c9adeb5e0fee81]\n",
       "class E3--><a href=\"psysml:5ff7a686-dab8-41cf-8031-b7dccb26607b\" target=\"_top\" title=\"psysml:5ff7a686-dab8-41cf-8031-b7dccb26607b\" xlink:actuate=\"onRequest\" xlink:href=\"psysml:5ff7a686-dab8-41cf-8031-b7dccb26607b\" xlink:show=\"new\" xlink:title=\"psysml:5ff7a686-dab8-41cf-8031-b7dccb26607b\" xlink:type=\"simple\"><rect fill=\"#FFFFFF\" height=\"45.9375\" id=\"E3\" rx=\"10\" ry=\"10\" style=\"stroke: #383838; stroke-width: 1.5;\" width=\"112\" x=\"419.75\" y=\"316\"/><text fill=\"#000000\" font-family=\"sans-serif\" font-size=\"12\" font-style=\"italic\" lengthAdjust=\"spacingAndGlyphs\" textLength=\"40\" x=\"455.75\" y=\"332.1387\">«part»</text><text fill=\"#000000\" font-family=\"sans-serif\" font-size=\"12\" lengthAdjust=\"spacingAndGlyphs\" textLength=\"102\" x=\"422.75\" y=\"346.1074\">engine1: Engine</text><line style=\"stroke: #383838; stroke-width: 1.5;\" x1=\"420.75\" x2=\"530.75\" y1=\"353.9375\" y2=\"353.9375\"/></a><!--MD5=[ebbe1d658d1005bcc118a6aa81145e00]\n",
       "class E4--><a href=\"psysml:44e88bb9-9b84-4b3f-b104-23d7a257fb04\" target=\"_top\" title=\"psysml:44e88bb9-9b84-4b3f-b104-23d7a257fb04\" xlink:actuate=\"onRequest\" xlink:href=\"psysml:44e88bb9-9b84-4b3f-b104-23d7a257fb04\" xlink:show=\"new\" xlink:title=\"psysml:44e88bb9-9b84-4b3f-b104-23d7a257fb04\" xlink:type=\"simple\"><rect fill=\"#FFFFFF\" height=\"45.9375\" id=\"E4\" rx=\"10\" ry=\"10\" style=\"stroke: #383838; stroke-width: 1.5;\" width=\"112\" x=\"272.75\" y=\"316\"/><text fill=\"#000000\" font-family=\"sans-serif\" font-size=\"12\" font-style=\"italic\" lengthAdjust=\"spacingAndGlyphs\" textLength=\"40\" x=\"308.75\" y=\"332.1387\">«part»</text><text fill=\"#000000\" font-family=\"sans-serif\" font-size=\"12\" lengthAdjust=\"spacingAndGlyphs\" textLength=\"102\" x=\"275.75\" y=\"346.1074\">engine2: Engine</text><line style=\"stroke: #383838; stroke-width: 1.5;\" x1=\"273.75\" x2=\"383.75\" y1=\"353.9375\" y2=\"353.9375\"/></a><!--MD5=[270fce915f116d4de14055a7c1d9a0f3]\n",
       "class E5--><a href=\"psysml:e12e8838-d64a-4336-9e52-2de97357eae2\" target=\"_top\" title=\"psysml:e12e8838-d64a-4336-9e52-2de97357eae2\" xlink:actuate=\"onRequest\" xlink:href=\"psysml:e12e8838-d64a-4336-9e52-2de97357eae2\" xlink:show=\"new\" xlink:title=\"psysml:e12e8838-d64a-4336-9e52-2de97357eae2\" xlink:type=\"simple\"><rect fill=\"#FFFFFF\" height=\"45.9375\" id=\"E5\" rx=\"10\" ry=\"10\" style=\"stroke: #383838; stroke-width: 1.5;\" width=\"203\" x=\"242.25\" y=\"41\"/><text fill=\"#000000\" font-family=\"sans-serif\" font-size=\"12\" font-style=\"italic\" lengthAdjust=\"spacingAndGlyphs\" textLength=\"64\" x=\"311.75\" y=\"57.1387\">«analysis»</text><text fill=\"#000000\" font-family=\"sans-serif\" font-size=\"12\" lengthAdjust=\"spacingAndGlyphs\" textLength=\"193\" x=\"245.25\" y=\"71.1074\">engineTradeStudy: TradeStudy</text><line style=\"stroke: #383838; stroke-width: 1.5;\" x1=\"243.25\" x2=\"444.25\" y1=\"78.9375\" y2=\"78.9375\"/></a><!--MD5=[60a26617385b1d2d0262a64233df1f8d]\n",
       "class E6--><a href=\"psysml:9a804e4d-bc47-4ee7-a2d8-d8527e0c1caf\" target=\"_top\" title=\"psysml:9a804e4d-bc47-4ee7-a2d8-d8527e0c1caf\" xlink:actuate=\"onRequest\" xlink:href=\"psysml:9a804e4d-bc47-4ee7-a2d8-d8527e0c1caf\" xlink:show=\"new\" xlink:title=\"psysml:9a804e4d-bc47-4ee7-a2d8-d8527e0c1caf\" xlink:type=\"simple\"><rect fill=\"#FFFFFF\" height=\"45.9375\" id=\"E6\" rx=\"10\" ry=\"10\" style=\"stroke: #383838; stroke-width: 1.5;\" width=\"255\" x=\"75.25\" y=\"164\"/><text fill=\"#000000\" font-family=\"sans-serif\" font-size=\"12\" font-style=\"italic\" lengthAdjust=\"spacingAndGlyphs\" textLength=\"91\" x=\"157.25\" y=\"180.1387\">«requirement»</text><text fill=\"#000000\" font-family=\"sans-serif\" font-size=\"12\" lengthAdjust=\"spacingAndGlyphs\" textLength=\"245\" x=\"78.25\" y=\"194.1074\">tradeStudyObjective: MaximizeObjective</text><line style=\"stroke: #383838; stroke-width: 1.5;\" x1=\"76.25\" x2=\"329.25\" y1=\"201.9375\" y2=\"201.9375\"/></a><!--MD5=[2156ba9850f5573cc1fc38a6a4b2f02b]\n",
       "class E7--><a href=\"psysml:1fa3686a-6014-4c73-9542-2575e26fd8a7\" target=\"_top\" title=\"psysml:1fa3686a-6014-4c73-9542-2575e26fd8a7\" xlink:actuate=\"onRequest\" xlink:href=\"psysml:1fa3686a-6014-4c73-9542-2575e26fd8a7\" xlink:show=\"new\" xlink:title=\"psysml:1fa3686a-6014-4c73-9542-2575e26fd8a7\" xlink:type=\"simple\"><rect fill=\"#FFFFFF\" height=\"45.9375\" id=\"E7\" rx=\"10\" ry=\"10\" style=\"stroke: #383838; stroke-width: 1.5;\" width=\"129\" x=\"365.25\" y=\"164\"/><text fill=\"#000000\" font-family=\"sans-serif\" font-size=\"12\" font-style=\"italic\" lengthAdjust=\"spacingAndGlyphs\" textLength=\"82\" x=\"388.75\" y=\"180.1387\">«calculation»</text><text fill=\"#000000\" font-family=\"sans-serif\" font-size=\"12\" lengthAdjust=\"spacingAndGlyphs\" textLength=\"119\" x=\"368.25\" y=\"194.1074\">evaluationFunction</text><line style=\"stroke: #383838; stroke-width: 1.5;\" x1=\"366.25\" x2=\"493.25\" y1=\"201.9375\" y2=\"201.9375\"/></a><!--MD5=[b9389687b975829384b498ac4b7476b2]\n",
       "class E8--><a href=\"psysml:79c1d929-0a70-426e-ae6d-56e5e3e776a6\" target=\"_top\" title=\"psysml:79c1d929-0a70-426e-ae6d-56e5e3e776a6\" xlink:actuate=\"onRequest\" xlink:href=\"psysml:79c1d929-0a70-426e-ae6d-56e5e3e776a6\" xlink:show=\"new\" xlink:title=\"psysml:79c1d929-0a70-426e-ae6d-56e5e3e776a6\" xlink:type=\"simple\"><rect fill=\"#FFFFFF\" height=\"45.9375\" id=\"E8\" rx=\"10\" ry=\"10\" style=\"stroke: #383838; stroke-width: 1.5;\" width=\"128\" x=\"72.75\" y=\"316\"/><text fill=\"#000000\" font-family=\"sans-serif\" font-size=\"12\" font-style=\"italic\" lengthAdjust=\"spacingAndGlyphs\" textLength=\"40\" x=\"116.75\" y=\"332.1387\">«part»</text><text fill=\"#000000\" font-family=\"sans-serif\" font-size=\"12\" lengthAdjust=\"spacingAndGlyphs\" textLength=\"118\" x=\"75.75\" y=\"346.1074\">alternative: Engine</text><line style=\"stroke: #383838; stroke-width: 1.5;\" x1=\"73.75\" x2=\"199.75\" y1=\"353.9375\" y2=\"353.9375\"/></a><!--MD5=[fd4143e9d270a159db93a4ea2a975926]\n",
       "class E9--><a href=\"psysml:169f456a-e384-47f5-89e9-43fd13dd17eb\" target=\"_top\" title=\"psysml:169f456a-e384-47f5-89e9-43fd13dd17eb\" xlink:actuate=\"onRequest\" xlink:href=\"psysml:169f456a-e384-47f5-89e9-43fd13dd17eb\" xlink:show=\"new\" xlink:title=\"psysml:169f456a-e384-47f5-89e9-43fd13dd17eb\" xlink:type=\"simple\"><rect fill=\"#FFFFFF\" height=\"45.9375\" id=\"E9\" rx=\"10\" ry=\"10\" style=\"stroke: #383838; stroke-width: 1.5;\" width=\"182\" x=\"298.75\" y=\"240\"/><text fill=\"#000000\" font-family=\"sans-serif\" font-size=\"12\" font-style=\"italic\" lengthAdjust=\"spacingAndGlyphs\" textLength=\"40\" x=\"369.75\" y=\"256.1387\">«part»</text><text fill=\"#000000\" font-family=\"sans-serif\" font-size=\"12\" lengthAdjust=\"spacingAndGlyphs\" textLength=\"172\" x=\"301.75\" y=\"270.1074\">selectedAlternative: Engine</text><line style=\"stroke: #383838; stroke-width: 1.5;\" x1=\"299.75\" x2=\"479.75\" y1=\"277.9375\" y2=\"277.9375\"/></a><!--MD5=[05d275557350bfb9b23a4ef7222b4c39]\n",
       "link E3 to E2--><a href=\"psysml:9be21745-fec5-4980-9af6-b796782d7969\" target=\"_top\" title=\"psysml:9be21745-fec5-4980-9af6-b796782d7969\" xlink:actuate=\"onRequest\" xlink:href=\"psysml:9be21745-fec5-4980-9af6-b796782d7969\" xlink:show=\"new\" xlink:title=\"psysml:9be21745-fec5-4980-9af6-b796782d7969\" xlink:type=\"simple\"><path d=\"M425.65,362.01 C386.12,379.38 331.1,403.55 290.63,421.33 \" fill=\"none\" id=\"E3-&gt;E2\" style=\"stroke: #383838; stroke-width: 1.0;\"/><polygon fill=\"#FFFFFF\" points=\"272.06,429.49,286.6417,415.4411,292.271,428.2594,272.06,429.49\" style=\"stroke: #383838; stroke-width: 1.0;\"/><ellipse cx=\"292.6648\" cy=\"414.9803\" fill=\"#383838\" rx=\"2\" ry=\"2\" style=\"stroke: #383838; stroke-width: 1.0;\"/><ellipse cx=\"296.6858\" cy=\"424.1363\" fill=\"#383838\" rx=\"2\" ry=\"2\" style=\"stroke: #383838; stroke-width: 1.0;\"/></a><!--MD5=[185131fc0dcab0a4505a2ebe144e961b]\n",
       "link E4 to E2--><a href=\"psysml:1ad537aa-bda6-4221-a392-6db0b9fa994b\" target=\"_top\" title=\"psysml:1ad537aa-bda6-4221-a392-6db0b9fa994b\" xlink:actuate=\"onRequest\" xlink:href=\"psysml:1ad537aa-bda6-4221-a392-6db0b9fa994b\" xlink:show=\"new\" xlink:title=\"psysml:1ad537aa-bda6-4221-a392-6db0b9fa994b\" xlink:type=\"simple\"><path d=\"M309.46,362.01 C298.01,375.08 283.18,392.01 269.89,407.17 \" fill=\"none\" id=\"E4-&gt;E2\" style=\"stroke: #383838; stroke-width: 1.0;\"/><polygon fill=\"#FFFFFF\" points=\"256.33,422.66,263.5901,403.7578,274.1181,412.9861,256.33,422.66\" style=\"stroke: #383838; stroke-width: 1.0;\"/><ellipse cx=\"268.8513\" cy=\"400.7898\" fill=\"#383838\" rx=\"2\" ry=\"2\" style=\"stroke: #383838; stroke-width: 1.0;\"/><ellipse cx=\"276.3713\" cy=\"407.3814\" fill=\"#383838\" rx=\"2\" ry=\"2\" style=\"stroke: #383838; stroke-width: 1.0;\"/></a><!--MD5=[15ebcb19ae302d9b601edb458606d402]\n",
       "link E5 to E2--><a href=\"psysml:ef23f2a8-b555-4000-b8d1-a9fc8ea83129\" target=\"_top\" title=\"psysml:ef23f2a8-b555-4000-b8d1-a9fc8ea83129\" xlink:actuate=\"onRequest\" xlink:href=\"psysml:ef23f2a8-b555-4000-b8d1-a9fc8ea83129\" xlink:show=\"new\" xlink:title=\"psysml:ef23f2a8-b555-4000-b8d1-a9fc8ea83129\" xlink:type=\"simple\"><path d=\"M242.19,71.71 C178.15,81.78 99.85,106.1 57.75,164 C6,235.18 7.15,287.97 54.75,362 C85.89,410.42 153.01,430.93 196.46,439.38 \" fill=\"none\" id=\"E5-&gt;E2\" style=\"stroke: #383838; stroke-width: 1.0; stroke-dasharray: 7.0,7.0;\"/><polygon fill=\"#383838\" points=\"201.63,440.35,193.5135,434.7713,196.7143,439.4355,192.0502,442.6363,201.63,440.35\" style=\"stroke: #383838; stroke-width: 1.0;\"/><text fill=\"#000000\" font-family=\"sans-serif\" font-size=\"13\" lengthAdjust=\"spacingAndGlyphs\" textLength=\"62\" x=\"22.75\" y=\"267.5669\">«subject»</text></a><!--MD5=[9120cf2e5df3bff93db8f754bbbc09b4]\n",
       "link E5 to E6--><a href=\"psysml:82bd6807-74bc-4e7b-a156-dc2ad55e2000\" target=\"_top\" title=\"psysml:82bd6807-74bc-4e7b-a156-dc2ad55e2000\" xlink:actuate=\"onRequest\" xlink:href=\"psysml:82bd6807-74bc-4e7b-a156-dc2ad55e2000\" xlink:show=\"new\" xlink:title=\"psysml:82bd6807-74bc-4e7b-a156-dc2ad55e2000\" xlink:type=\"simple\"><path d=\"M317.89,87.19 C294.44,107.32 259.79,137.06 234.63,158.64 \" fill=\"none\" id=\"E5-&gt;E6\" style=\"stroke: #383838; stroke-width: 1.0;\"/><polygon fill=\"#383838\" points=\"228.45,163.95,236.4776,161.0246,232.5746,156.4675,228.45,163.95\" style=\"stroke: #383838; stroke-width: 1.0;\"/><text fill=\"#000000\" font-family=\"sans-serif\" font-size=\"13\" lengthAdjust=\"spacingAndGlyphs\" textLength=\"73\" x=\"281.75\" y=\"130.0669\">«objective»</text></a><!--MD5=[452b418e7f8a40397a49b8c0a78acc5b]\n",
       "reverse link E5 to E7--><a href=\"psysml:3495a436-635c-4195-be5e-85a5d126f0e1\" target=\"_top\" title=\"psysml:3495a436-635c-4195-be5e-85a5d126f0e1\" xlink:actuate=\"onRequest\" xlink:href=\"psysml:3495a436-635c-4195-be5e-85a5d126f0e1\" xlink:show=\"new\" xlink:title=\"psysml:3495a436-635c-4195-be5e-85a5d126f0e1\" xlink:type=\"simple\"><path d=\"M367.12,97.88 C382.03,118.86 400.95,145.48 414.08,163.95 \" fill=\"none\" id=\"E5&lt;-E7\" style=\"stroke: #383838; stroke-width: 1.0;\"/><polygon fill=\"#383838\" points=\"359.52,87.19,359.7442,94.3976,366.4836,96.9628,366.2594,89.7552,359.52,87.19\" style=\"stroke: #383838; stroke-width: 1.0;\"/></a><!--MD5=[dc164f5e8a733ab456ef1add180e9e34]\n",
       "reverse link E7 to E8--><a href=\"psysml:e1d2632c-68a4-476d-b3ed-d8b6d2aaac51\" target=\"_top\" title=\"psysml:e1d2632c-68a4-476d-b3ed-d8b6d2aaac51\" xlink:actuate=\"onRequest\" xlink:href=\"psysml:e1d2632c-68a4-476d-b3ed-d8b6d2aaac51\" xlink:show=\"new\" xlink:title=\"psysml:e1d2632c-68a4-476d-b3ed-d8b6d2aaac51\" xlink:type=\"simple\"><path d=\"M352.57,210.93 C329.29,218.95 304.02,228.8 281.75,240 C238.59,261.71 193.11,294.26 164.84,315.8 \" fill=\"none\" id=\"E7&lt;-E8\" style=\"stroke: #383838; stroke-width: 1.0;\"/><polygon fill=\"#FFFFFF\" points=\"364.89,206.79,357.9284,204.9096,353.5151,210.6124,360.4767,212.4928,364.89,206.79\" style=\"stroke: #383838; stroke-width: 1.0;\"/><text fill=\"#000000\" font-family=\"sans-serif\" font-size=\"13\" lengthAdjust=\"spacingAndGlyphs\" textLength=\"8\" x=\"163.0131\" y=\"305.025\">1</text></a><!--MD5=[f1f3f9f2fc535e6147756cb86a7f2e32]\n",
       "link E8 to E2--><a href=\"psysml:a8ae8a0d-ad52-4d9e-986d-0c741d3467c2\" target=\"_top\" title=\"psysml:a8ae8a0d-ad52-4d9e-986d-0c741d3467c2\" xlink:actuate=\"onRequest\" xlink:href=\"psysml:a8ae8a0d-ad52-4d9e-986d-0c741d3467c2\" xlink:show=\"new\" xlink:title=\"psysml:a8ae8a0d-ad52-4d9e-986d-0c741d3467c2\" xlink:type=\"simple\"><path d=\"M157.71,362.01 C170.43,375.36 186.98,392.74 201.64,408.14 \" fill=\"none\" id=\"E8-&gt;E2\" style=\"stroke: #383838; stroke-width: 1.0;\"/><polygon fill=\"#FFFFFF\" points=\"215.47,422.66,197.3009,413.7223,207.4424,404.0708,215.47,422.66\" style=\"stroke: #383838; stroke-width: 1.0;\"/><ellipse cx=\"194.8202\" cy=\"408.2144\" fill=\"#383838\" rx=\"2\" ry=\"2\" style=\"stroke: #383838; stroke-width: 1.0;\"/><ellipse cx=\"202.0641\" cy=\"401.3206\" fill=\"#383838\" rx=\"2\" ry=\"2\" style=\"stroke: #383838; stroke-width: 1.0;\"/></a><!--MD5=[9ae28de373ca99bb8a1b38d63370ca7e]\n",
       "reverse link E5 to E9--><a href=\"psysml:1023028c-00c5-4dde-9329-e4b02befe1ab\" target=\"_top\" title=\"psysml:1023028c-00c5-4dde-9329-e4b02befe1ab\" xlink:actuate=\"onRequest\" xlink:href=\"psysml:1023028c-00c5-4dde-9329-e4b02befe1ab\" xlink:show=\"new\" xlink:title=\"psysml:1023028c-00c5-4dde-9329-e4b02befe1ab\" xlink:type=\"simple\"><path d=\"M425.37,92.39 C458.3,107.92 492.9,131.01 511.75,164 C521.89,181.75 523.02,192.94 511.75,210 C503.25,222.87 490.84,232.57 477.15,239.87 \" fill=\"none\" id=\"E5&lt;-E9\" style=\"stroke: #383838; stroke-width: 1.0;\"/><polygon fill=\"#FFFFFF\" points=\"413.35,87.01,417.1893,93.1141,424.3005,91.9179,420.4612,85.8138,413.35,87.01\" style=\"stroke: #383838; stroke-width: 1.0;\"/><text fill=\"#000000\" font-family=\"sans-serif\" font-size=\"13\" lengthAdjust=\"spacingAndGlyphs\" textLength=\"8\" x=\"488.4363\" y=\"229.8763\">1</text></a><!--MD5=[5c3bb36fe832a92c7f0e1807dd65209d]\n",
       "link E9 to E2--><a href=\"psysml:d6cd1bf0-a8ac-42a9-91c6-4adc5d4642e7\" target=\"_top\" title=\"psysml:d6cd1bf0-a8ac-42a9-91c6-4adc5d4642e7\" xlink:actuate=\"onRequest\" xlink:href=\"psysml:d6cd1bf0-a8ac-42a9-91c6-4adc5d4642e7\" xlink:show=\"new\" xlink:title=\"psysml:d6cd1bf0-a8ac-42a9-91c6-4adc5d4642e7\" xlink:type=\"simple\"><path d=\"M298.61,284.36 C282.24,291.84 266.88,302.05 255.75,316 C236.48,340.16 232.36,375.23 232.71,402.71 \" fill=\"none\" id=\"E9-&gt;E2\" style=\"stroke: #383838; stroke-width: 1.0;\"/><polygon fill=\"#FFFFFF\" points=\"233.74,422.77,225.772,404.1552,239.7535,403.4351,233.74,422.77\" style=\"stroke: #383838; stroke-width: 1.0;\"/><ellipse cx=\"227.4762\" cy=\"398.3599\" fill=\"#383838\" rx=\"2\" ry=\"2\" style=\"stroke: #383838; stroke-width: 1.0;\"/><ellipse cx=\"237.463\" cy=\"397.8455\" fill=\"#383838\" rx=\"2\" ry=\"2\" style=\"stroke: #383838; stroke-width: 1.0;\"/></a><!--MD5=[c7d93abfa41fa56419d1cda2615c8096]\n",
       "@startuml\r\n",
       " skinparam monochrome true\r\n",
       "skinparam classbackgroundcolor white\r\n",
       "skinparam shadowing false\r\n",
       "skinparam wrapWidth 300\r\n",
       "hide circle\r\n",
       "\r\n",
       "package \"TradeStudyTest\" as E1  [[psysml:9d3e1c5c-e45c-4a85-8e75-4ee823ac8fbf ]]  {\r\n",
       "comp def \"Engine\" as E2  <<(T,blue) part  def>> [[psysml:956f1300-60cf-48ef-8161-7a381ae0bb8c ]] {\r\n",
       "}\r\n",
       "comp usage \"engine1: Engine \" as E3  <<(T,blue) part>> [[psysml:5ff7a686-dab8-41cf-8031-b7dccb26607b ]] {\r\n",
       "}\r\n",
       "comp usage \"engine2: Engine \" as E4  <<(T,blue) part>> [[psysml:44e88bb9-9b84-4b3f-b104-23d7a257fb04 ]] {\r\n",
       "}\r\n",
       "comp usage \"engineTradeStudy: TradeStudy \" as E5 << analysis>> [[psysml:e12e8838-d64a-4336-9e52-2de97357eae2 ]] {\r\n",
       "}\r\n",
       "comp usage \"tradeStudyObjective: MaximizeObjective \" as E6  <<(T,blue) requirement>> [[psysml:9a804e4d-bc47-4ee7-a2d8-d8527e0c1caf ]] {\r\n",
       "}\r\n",
       "comp usage \"evaluationFunction \" as E7  <<(T,blue) calculation>> [[psysml:1fa3686a-6014-4c73-9542-2575e26fd8a7 ]] {\r\n",
       "}\r\n",
       "comp usage \"alternative: Engine \" as E8  <<(T,blue) part>> [[psysml:79c1d929-0a70-426e-ae6d-56e5e3e776a6 ]] {\r\n",
       "}\r\n",
       "comp usage \"selectedAlternative: Engine \" as E9  <<(T,blue) part>> [[psysml:169f456a-e384-47f5-89e9-43fd13dd17eb ]] {\r\n",
       "}\r\n",
       "}\r\n",
       "E3 - -:|> E2 [[psysml:9be21745-fec5-4980-9af6-b796782d7969 ]] \r\n",
       "E4 - -:|> E2 [[psysml:1ad537aa-bda6-4221-a392-6db0b9fa994b ]] \r\n",
       "E5 ..> E2 [[psysml:ef23f2a8-b555-4000-b8d1-a9fc8ea83129 ]] : <<subject>>\r\n",
       "E5 - ->> E6 [[psysml:82bd6807-74bc-4e7b-a156-dc2ad55e2000 ]] : <<objective>>\r\n",
       "E5 *- - E7 [[psysml:3495a436-635c-4195-be5e-85a5d126f0e1 ]] \r\n",
       "E7 o- - \"1\"E8 [[psysml:e1d2632c-68a4-476d-b3ed-d8b6d2aaac51 ]] \r\n",
       "E8 - -:|> E2 [[psysml:a8ae8a0d-ad52-4d9e-986d-0c741d3467c2 ]] \r\n",
       "E5 o- - \"1\"E9 [[psysml:1023028c-00c5-4dde-9329-e4b02befe1ab ]] \r\n",
       "E9 - -:|> E2 [[psysml:d6cd1bf0-a8ac-42a9-91c6-4adc5d4642e7 ]] \r\n",
       "@enduml\r\n",
       "\n",
       "PlantUML version 1.2020.13(Sat Jun 13 12:26:38 UTC 2020)\n",
       "(EPL source distribution)\n",
       "Java Runtime: OpenJDK Runtime Environment\n",
       "JVM: OpenJDK 64-Bit Server VM\n",
       "Default Encoding: UTF-8\n",
       "Language: en\n",
       "Country: null\n",
       "--></g></svg>"
      ]
     },
     "execution_count": 3,
     "metadata": {},
     "output_type": "execute_result"
    }
   ],
   "source": [
    "%viz --style=\"COMPTREE\" --view=\"Tree\" \"TradeStudyTest\""
   ]
  },
  {
   "cell_type": "code",
   "execution_count": 4,
   "id": "eab008a8",
   "metadata": {
    "execution": {
     "iopub.execute_input": "2022-02-18T10:50:34.698972Z",
     "iopub.status.busy": "2022-02-18T10:50:34.698553Z",
     "iopub.status.idle": "2022-02-18T10:50:34.703608Z",
     "shell.execute_reply": "2022-02-18T10:50:34.703252Z"
    }
   },
   "outputs": [
    {
     "data": {
      "image/svg+xml": [
       "<?xml version=\"1.0\" encoding=\"UTF-8\" standalone=\"no\"?><svg xmlns=\"http://www.w3.org/2000/svg\" xmlns:xlink=\"http://www.w3.org/1999/xlink\" contentScriptType=\"application/ecmascript\" contentStyleType=\"text/css\" height=\"12px\" preserveAspectRatio=\"none\" style=\"width:12px;height:12px;\" version=\"1.1\" viewBox=\"0 0 12 12\" width=\"12px\" zoomAndPan=\"magnify\"><defs/><g><!--MD5=[f19188ef49e11757b5c46753f95d9edc]\n",
       "@startuml\r\n",
       " skinparam monochrome true\r\n",
       "skinparam classbackgroundcolor white\r\n",
       "skinparam shadowing false\r\n",
       "skinparam wrapWidth 300\r\n",
       "hide circle\r\n",
       "\r\n",
       "@enduml\r\n",
       "\n",
       "PlantUML version 1.2020.13(Sat Jun 13 12:26:38 UTC 2020)\n",
       "(EPL source distribution)\n",
       "Java Runtime: OpenJDK Runtime Environment\n",
       "JVM: OpenJDK 64-Bit Server VM\n",
       "Default Encoding: UTF-8\n",
       "Language: en\n",
       "Country: null\n",
       "--></g></svg>"
      ]
     },
     "execution_count": 4,
     "metadata": {},
     "output_type": "execute_result"
    }
   ],
   "source": [
    "%viz --style=\"COMPTREE\" --view=\"State\" \"TradeStudyTest\""
   ]
  },
  {
   "cell_type": "code",
   "execution_count": 5,
   "id": "a598b9f2",
   "metadata": {
    "execution": {
     "iopub.execute_input": "2022-02-18T10:50:34.753812Z",
     "iopub.status.busy": "2022-02-18T10:50:34.753409Z",
     "iopub.status.idle": "2022-02-18T10:50:34.818289Z",
     "shell.execute_reply": "2022-02-18T10:50:34.818629Z"
    }
   },
   "outputs": [
    {
     "data": {
      "image/svg+xml": [
       "<?xml version=\"1.0\" encoding=\"UTF-8\" standalone=\"no\"?><svg xmlns=\"http://www.w3.org/2000/svg\" xmlns:xlink=\"http://www.w3.org/1999/xlink\" contentScriptType=\"application/ecmascript\" contentStyleType=\"text/css\" height=\"418px\" preserveAspectRatio=\"none\" style=\"width:574px;height:418px;\" version=\"1.1\" viewBox=\"0 0 574 418\" width=\"574px\" zoomAndPan=\"magnify\"><defs/><g><!--MD5=[fbc87193dbaf4d95561dea2c320d4a47]\n",
       "cluster E1--><a href=\"psysml:9d3e1c5c-e45c-4a85-8e75-4ee823ac8fbf\" target=\"_top\" title=\"psysml:9d3e1c5c-e45c-4a85-8e75-4ee823ac8fbf\" xlink:actuate=\"onRequest\" xlink:href=\"psysml:9d3e1c5c-e45c-4a85-8e75-4ee823ac8fbf\" xlink:show=\"new\" xlink:title=\"psysml:9d3e1c5c-e45c-4a85-8e75-4ee823ac8fbf\" xlink:type=\"simple\"><polygon fill=\"#FFFFFF\" points=\"16,6,132,6,139,28.2969,552,28.2969,552,406,16,406,16,6\" style=\"stroke: #000000; stroke-width: 1.5;\"/><line style=\"stroke: #000000; stroke-width: 1.5;\" x1=\"16\" x2=\"139\" y1=\"28.2969\" y2=\"28.2969\"/><text fill=\"#000000\" font-family=\"sans-serif\" font-size=\"14\" font-weight=\"bold\" lengthAdjust=\"spacingAndGlyphs\" textLength=\"110\" x=\"20\" y=\"20.9951\">TradeStudyTest</text></a><!--MD5=[de5ec2e2e8f62f467e546659f5068c88]\n",
       "cluster E5--><a href=\"psysml:e12e8838-d64a-4336-9e52-2de97357eae2\" target=\"_top\" title=\"psysml:e12e8838-d64a-4336-9e52-2de97357eae2\" xlink:actuate=\"onRequest\" xlink:href=\"psysml:e12e8838-d64a-4336-9e52-2de97357eae2\" xlink:show=\"new\" xlink:title=\"psysml:e12e8838-d64a-4336-9e52-2de97357eae2\" xlink:type=\"simple\"><rect fill=\"#FFFFFF\" height=\"129\" id=\"E5\" rx=\"10\" ry=\"10\" style=\"stroke: #383838; stroke-width: 1.5;\" width=\"199\" x=\"321\" y=\"57\"/><rect fill=\"#F8F8F8\" height=\"37.9375\" rx=\"10\" ry=\"10\" style=\"stroke: #F8F8F8; stroke-width: 1.5;\" width=\"199\" x=\"321\" y=\"57\"/><rect fill=\"#F8F8F8\" height=\"10\" style=\"stroke: #F8F8F8; stroke-width: 1.5;\" width=\"199\" x=\"321\" y=\"84.9375\"/><rect fill=\"none\" height=\"129\" id=\"E5\" rx=\"10\" ry=\"10\" style=\"stroke: #383838; stroke-width: 1.5;\" width=\"199\" x=\"321\" y=\"57\"/><text fill=\"#000000\" font-family=\"sans-serif\" font-size=\"12\" font-style=\"italic\" lengthAdjust=\"spacingAndGlyphs\" textLength=\"64\" x=\"388.5\" y=\"73.1387\">«analysis»</text><text fill=\"#000000\" font-family=\"sans-serif\" font-size=\"12\" lengthAdjust=\"spacingAndGlyphs\" textLength=\"114\" x=\"363.5\" y=\"87.1074\">engineTradeStudy</text><line style=\"stroke: #383838; stroke-width: 1.0;\" x1=\"321\" x2=\"520\" y1=\"94.9375\" y2=\"94.9375\"/></a><!--MD5=[2156ba9850f5573cc1fc38a6a4b2f02b]\n",
       "class E7--><a href=\"psysml:1fa3686a-6014-4c73-9542-2575e26fd8a7\" target=\"_top\" title=\"psysml:1fa3686a-6014-4c73-9542-2575e26fd8a7\" xlink:actuate=\"onRequest\" xlink:href=\"psysml:1fa3686a-6014-4c73-9542-2575e26fd8a7\" xlink:show=\"new\" xlink:title=\"psysml:1fa3686a-6014-4c73-9542-2575e26fd8a7\" xlink:type=\"simple\"><rect fill=\"#FFFFFF\" height=\"45.9375\" id=\"E7\" rx=\"10\" ry=\"10\" style=\"stroke: #383838; stroke-width: 1.5;\" width=\"129\" x=\"73.5\" y=\"219\"/><text fill=\"#000000\" font-family=\"sans-serif\" font-size=\"12\" font-style=\"italic\" lengthAdjust=\"spacingAndGlyphs\" textLength=\"82\" x=\"97\" y=\"235.1387\">«calculation»</text><text fill=\"#000000\" font-family=\"sans-serif\" font-size=\"12\" lengthAdjust=\"spacingAndGlyphs\" textLength=\"119\" x=\"76.5\" y=\"249.1074\">evaluationFunction</text><line style=\"stroke: #383838; stroke-width: 1.5;\" x1=\"74.5\" x2=\"201.5\" y1=\"256.9375\" y2=\"256.9375\"/></a><!--MD5=[b9389687b975829384b498ac4b7476b2]\n",
       "class E8--><a href=\"psysml:79c1d929-0a70-426e-ae6d-56e5e3e776a6\" target=\"_top\" title=\"psysml:79c1d929-0a70-426e-ae6d-56e5e3e776a6\" xlink:actuate=\"onRequest\" xlink:href=\"psysml:79c1d929-0a70-426e-ae6d-56e5e3e776a6\" xlink:show=\"new\" xlink:title=\"psysml:79c1d929-0a70-426e-ae6d-56e5e3e776a6\" xlink:type=\"simple\"><rect fill=\"#FFFFFF\" height=\"31.9688\" id=\"E8\" rx=\"10\" ry=\"10\" style=\"stroke: #383838; stroke-width: 1.5;\" width=\"128\" x=\"120\" y=\"298\"/><text fill=\"#000000\" font-family=\"sans-serif\" font-size=\"12\" lengthAdjust=\"spacingAndGlyphs\" textLength=\"118\" x=\"123\" y=\"314.1387\">alternative: Engine</text><line style=\"stroke: #383838; stroke-width: 1.5;\" x1=\"121\" x2=\"247\" y1=\"321.9688\" y2=\"321.9688\"/></a><!--MD5=[fd4143e9d270a159db93a4ea2a975926]\n",
       "class E9--><a href=\"psysml:169f456a-e384-47f5-89e9-43fd13dd17eb\" target=\"_top\" title=\"psysml:169f456a-e384-47f5-89e9-43fd13dd17eb\" xlink:actuate=\"onRequest\" xlink:href=\"psysml:169f456a-e384-47f5-89e9-43fd13dd17eb\" xlink:show=\"new\" xlink:title=\"psysml:169f456a-e384-47f5-89e9-43fd13dd17eb\" xlink:type=\"simple\"><rect fill=\"#FFFFFF\" height=\"31.9688\" id=\"E9\" rx=\"10\" ry=\"10\" style=\"stroke: #383838; stroke-width: 1.5;\" width=\"182\" x=\"238\" y=\"226\"/><text fill=\"#000000\" font-family=\"sans-serif\" font-size=\"12\" lengthAdjust=\"spacingAndGlyphs\" textLength=\"172\" x=\"241\" y=\"242.1387\">selectedAlternative: Engine</text><line style=\"stroke: #383838; stroke-width: 1.5;\" x1=\"239\" x2=\"419\" y1=\"249.9688\" y2=\"249.9688\"/></a><g id=\"E1.E2\"><a href=\"psysml:956f1300-60cf-48ef-8161-7a381ae0bb8c\" target=\"_top\" title=\"psysml:956f1300-60cf-48ef-8161-7a381ae0bb8c\" xlink:actuate=\"onRequest\" xlink:href=\"psysml:956f1300-60cf-48ef-8161-7a381ae0bb8c\" xlink:show=\"new\" xlink:title=\"psysml:956f1300-60cf-48ef-8161-7a381ae0bb8c\" xlink:type=\"simple\"><rect fill=\"#FFFFFF\" height=\"42.9375\" id=\"E2\" style=\"stroke: #383838; stroke-width: 1.5;\" width=\"75\" x=\"291.5\" y=\"347\"/><rect fill=\"#F8F8F8\" height=\"37.9375\" style=\"stroke: #383838; stroke-width: 1.5;\" width=\"75\" x=\"291.5\" y=\"347\"/><text fill=\"#000000\" font-family=\"sans-serif\" font-size=\"12\" font-style=\"italic\" lengthAdjust=\"spacingAndGlyphs\" textLength=\"68\" x=\"295\" y=\"363.1387\">«part  def»</text><text fill=\"#000000\" font-family=\"sans-serif\" font-size=\"12\" lengthAdjust=\"spacingAndGlyphs\" textLength=\"43\" x=\"307.5\" y=\"377.1074\">Engine</text></a></g><g id=\"E1.E3\"><a href=\"psysml:5ff7a686-dab8-41cf-8031-b7dccb26607b\" target=\"_top\" title=\"psysml:5ff7a686-dab8-41cf-8031-b7dccb26607b\" xlink:actuate=\"onRequest\" xlink:href=\"psysml:5ff7a686-dab8-41cf-8031-b7dccb26607b\" xlink:show=\"new\" xlink:title=\"psysml:5ff7a686-dab8-41cf-8031-b7dccb26607b\" xlink:type=\"simple\"><rect fill=\"#FFFFFF\" height=\"40\" id=\"E3\" rx=\"10\" ry=\"10\" style=\"stroke: #383838; stroke-width: 1.5;\" width=\"113\" x=\"180.5\" y=\"119\"/><rect fill=\"#F8F8F8\" height=\"23.9688\" rx=\"10\" ry=\"10\" style=\"stroke: #F8F8F8; stroke-width: 1.5;\" width=\"113\" x=\"180.5\" y=\"119\"/><rect fill=\"#F8F8F8\" height=\"10\" style=\"stroke: #F8F8F8; stroke-width: 1.5;\" width=\"113\" x=\"180.5\" y=\"132.9688\"/><rect fill=\"none\" height=\"40\" id=\"E3\" rx=\"10\" ry=\"10\" style=\"stroke: #383838; stroke-width: 1.5;\" width=\"113\" x=\"180.5\" y=\"119\"/><text fill=\"#000000\" font-family=\"sans-serif\" font-size=\"12\" lengthAdjust=\"spacingAndGlyphs\" textLength=\"102\" x=\"186\" y=\"135.1387\">engine1: Engine</text></a></g><g id=\"E1.E4\"><a href=\"psysml:44e88bb9-9b84-4b3f-b104-23d7a257fb04\" target=\"_top\" title=\"psysml:44e88bb9-9b84-4b3f-b104-23d7a257fb04\" xlink:actuate=\"onRequest\" xlink:href=\"psysml:44e88bb9-9b84-4b3f-b104-23d7a257fb04\" xlink:show=\"new\" xlink:title=\"psysml:44e88bb9-9b84-4b3f-b104-23d7a257fb04\" xlink:type=\"simple\"><rect fill=\"#FFFFFF\" height=\"40\" id=\"E4\" rx=\"10\" ry=\"10\" style=\"stroke: #383838; stroke-width: 1.5;\" width=\"113\" x=\"32.5\" y=\"119\"/><rect fill=\"#F8F8F8\" height=\"23.9688\" rx=\"10\" ry=\"10\" style=\"stroke: #F8F8F8; stroke-width: 1.5;\" width=\"113\" x=\"32.5\" y=\"119\"/><rect fill=\"#F8F8F8\" height=\"10\" style=\"stroke: #F8F8F8; stroke-width: 1.5;\" width=\"113\" x=\"32.5\" y=\"132.9688\"/><rect fill=\"none\" height=\"40\" id=\"E4\" rx=\"10\" ry=\"10\" style=\"stroke: #383838; stroke-width: 1.5;\" width=\"113\" x=\"32.5\" y=\"119\"/><text fill=\"#000000\" font-family=\"sans-serif\" font-size=\"12\" lengthAdjust=\"spacingAndGlyphs\" textLength=\"102\" x=\"38\" y=\"135.1387\">engine2: Engine</text></a></g><!--MD5=[60a26617385b1d2d0262a64233df1f8d]\n",
       "class E6--><a href=\"psysml:9a804e4d-bc47-4ee7-a2d8-d8527e0c1caf\" target=\"_top\" title=\"psysml:9a804e4d-bc47-4ee7-a2d8-d8527e0c1caf\" xlink:actuate=\"onRequest\" xlink:href=\"psysml:9a804e4d-bc47-4ee7-a2d8-d8527e0c1caf\" xlink:show=\"new\" xlink:title=\"psysml:9a804e4d-bc47-4ee7-a2d8-d8527e0c1caf\" xlink:type=\"simple\"><rect fill=\"#FFFFFF\" height=\"45.9375\" id=\"E6\" rx=\"10\" ry=\"10\" style=\"stroke: #383838; stroke-width: 1.5;\" width=\"132\" x=\"364\" y=\"116\"/><text fill=\"#000000\" font-family=\"sans-serif\" font-size=\"12\" font-style=\"italic\" lengthAdjust=\"spacingAndGlyphs\" textLength=\"70\" x=\"395\" y=\"132.1387\">«objective»</text><text fill=\"#000000\" font-family=\"sans-serif\" font-size=\"12\" lengthAdjust=\"spacingAndGlyphs\" textLength=\"126\" x=\"367\" y=\"146.1074\">tradeStudyObjective</text><line style=\"stroke: #383838; stroke-width: 1.5;\" x1=\"365\" x2=\"495\" y1=\"153.9375\" y2=\"153.9375\"/></a><!--MD5=[15ebcb19ae302d9b601edb458606d402]\n",
       "link E5 to E2--><a href=\"psysml:ef23f2a8-b555-4000-b8d1-a9fc8ea83129\" target=\"_top\" title=\"psysml:ef23f2a8-b555-4000-b8d1-a9fc8ea83129\" xlink:actuate=\"onRequest\" xlink:href=\"psysml:ef23f2a8-b555-4000-b8d1-a9fc8ea83129\" xlink:show=\"new\" xlink:title=\"psysml:ef23f2a8-b555-4000-b8d1-a9fc8ea83129\" xlink:type=\"simple\"><path d=\"M336.7687,186.0407 C336.9497,186.4418 337.1349,186.8409 337.3242,187.2379 C337.703,188.0319 338.0985,188.8172 338.5115,189.5919 C339.3377,191.1413 340.234,192.6486 341.2064,194.0989 C343.1511,196.9995 345.4,199.6725 348,202 C378.33,229.15 412.02,187.66 438,219 C473.29,261.58 411.17,314.39 367.14,344.19 \" fill=\"none\" id=\"E5-&gt;E2\" style=\"stroke: #383838; stroke-width: 1.0; stroke-dasharray: 7.0,7.0;\"/><polygon fill=\"#383838\" points=\"362.94,347,372.6473,345.3359,367.1003,344.2265,368.2097,338.6795,362.94,347\" style=\"stroke: #383838; stroke-width: 1.0;\"/><text fill=\"#000000\" font-family=\"sans-serif\" font-size=\"13\" lengthAdjust=\"spacingAndGlyphs\" textLength=\"62\" x=\"441\" y=\"286.0669\">«subject»</text></a><!--MD5=[452b418e7f8a40397a49b8c0a78acc5b]\n",
       "reverse link E5 to E7--><a href=\"psysml:3495a436-635c-4195-be5e-85a5d126f0e1\" target=\"_top\" title=\"psysml:3495a436-635c-4195-be5e-85a5d126f0e1\" xlink:actuate=\"onRequest\" xlink:href=\"psysml:3495a436-635c-4195-be5e-85a5d126f0e1\" xlink:show=\"new\" xlink:title=\"psysml:3495a436-635c-4195-be5e-85a5d126f0e1\" xlink:type=\"simple\"><path d=\"M332.9347,186.1446 C332.8869,186.3466 332.8378,186.5483 332.7874,186.7494 C332.5857,187.5541 332.3629,188.3516 332.1178,189.1403 C331.6274,190.7176 331.0475,192.2593 330.3674,193.7515 C329.0072,196.7359 327.2463,199.5225 325,202 C309.27,219.35 243.9,214.11 221,219 C215.02,220.28 208.83,221.71 202.65,223.22 \" fill=\"none\" id=\"E5&lt;-E7\" style=\"stroke: #383838; stroke-width: 1.0;\"/><polygon fill=\"#383838\" points=\"332.9347,186.1446,327.6606,191.0624,330.1716,197.8222,335.4457,192.9044,332.9347,186.1446\" style=\"stroke: #383838; stroke-width: 1.0;\"/></a><!--MD5=[dc164f5e8a733ab456ef1add180e9e34]\n",
       "reverse link E7 to E8--><a href=\"psysml:e1d2632c-68a4-476d-b3ed-d8b6d2aaac51\" target=\"_top\" title=\"psysml:e1d2632c-68a4-476d-b3ed-d8b6d2aaac51\" xlink:actuate=\"onRequest\" xlink:href=\"psysml:e1d2632c-68a4-476d-b3ed-d8b6d2aaac51\" xlink:show=\"new\" xlink:title=\"psysml:e1d2632c-68a4-476d-b3ed-d8b6d2aaac51\" xlink:type=\"simple\"><path d=\"M159.85,276.24 C164.76,283.72 169.75,291.31 173.91,297.64 \" fill=\"none\" id=\"E7&lt;-E8\" style=\"stroke: #383838; stroke-width: 1.0;\"/><polygon fill=\"#FFFFFF\" points=\"152.55,265.15,152.5017,272.3609,159.1393,275.179,159.1877,267.968,152.55,265.15\" style=\"stroke: #383838; stroke-width: 1.0;\"/><text fill=\"#000000\" font-family=\"sans-serif\" font-size=\"13\" lengthAdjust=\"spacingAndGlyphs\" textLength=\"8\" x=\"161.2427\" y=\"286.8304\">1</text></a><!--MD5=[f1f3f9f2fc535e6147756cb86a7f2e32]\n",
       "link E8 to E2--><a href=\"psysml:a8ae8a0d-ad52-4d9e-986d-0c741d3467c2\" target=\"_top\" title=\"psysml:a8ae8a0d-ad52-4d9e-986d-0c741d3467c2\" xlink:actuate=\"onRequest\" xlink:href=\"psysml:a8ae8a0d-ad52-4d9e-986d-0c741d3467c2\" xlink:show=\"new\" xlink:title=\"psysml:a8ae8a0d-ad52-4d9e-986d-0c741d3467c2\" xlink:type=\"simple\"><path d=\"M225.55,330.04 C240.14,335.33 256.8,341.36 272.41,347.01 \" fill=\"none\" id=\"E8-&gt;E2\" style=\"stroke: #383838; stroke-width: 1.0;\"/><polygon fill=\"#FFFFFF\" points=\"291.41,353.89,271.1619,354.01,275.9238,340.8448,291.41,353.89\" style=\"stroke: #383838; stroke-width: 1.0;\"/><ellipse cx=\"266.482\" cy=\"350.1905\" fill=\"#383838\" rx=\"2\" ry=\"2\" style=\"stroke: #383838; stroke-width: 1.0;\"/><ellipse cx=\"269.8834\" cy=\"340.7868\" fill=\"#383838\" rx=\"2\" ry=\"2\" style=\"stroke: #383838; stroke-width: 1.0;\"/></a><!--MD5=[9ae28de373ca99bb8a1b38d63370ca7e]\n",
       "reverse link E5 to E9--><a href=\"psysml:1023028c-00c5-4dde-9329-e4b02befe1ab\" target=\"_top\" title=\"psysml:1023028c-00c5-4dde-9329-e4b02befe1ab\" xlink:actuate=\"onRequest\" xlink:href=\"psysml:1023028c-00c5-4dde-9329-e4b02befe1ab\" xlink:show=\"new\" xlink:title=\"psysml:1023028c-00c5-4dde-9329-e4b02befe1ab\" xlink:type=\"simple\"><path d=\"M329,186.1541 C329,186.4444 329,186.7349 329,187.0256 C329,191.6761 329,196.366 329,200.9367 C329,210.0781 329,218.7425 329,225.66 \" fill=\"none\" id=\"E5&lt;-E9\" style=\"stroke: #383838; stroke-width: 1.0;\"/><polygon fill=\"#FFFFFF\" points=\"329,186.1541,325,192.1541,329,198.1541,333,192.1541,329,186.1541\" style=\"stroke: #383838; stroke-width: 1.0;\"/><text fill=\"#000000\" font-family=\"sans-serif\" font-size=\"13\" lengthAdjust=\"spacingAndGlyphs\" textLength=\"8\" x=\"319.675\" y=\"214.8571\">1</text></a><!--MD5=[5c3bb36fe832a92c7f0e1807dd65209d]\n",
       "link E9 to E2--><a href=\"psysml:d6cd1bf0-a8ac-42a9-91c6-4adc5d4642e7\" target=\"_top\" title=\"psysml:d6cd1bf0-a8ac-42a9-91c6-4adc5d4642e7\" xlink:actuate=\"onRequest\" xlink:href=\"psysml:d6cd1bf0-a8ac-42a9-91c6-4adc5d4642e7\" xlink:show=\"new\" xlink:title=\"psysml:d6cd1bf0-a8ac-42a9-91c6-4adc5d4642e7\" xlink:type=\"simple\"><path d=\"M329,258.27 C329,275.18 329,303.16 329,326.57 \" fill=\"none\" id=\"E9-&gt;E2\" style=\"stroke: #383838; stroke-width: 1.0;\"/><polygon fill=\"#FFFFFF\" points=\"329,346.71,322,327.71,336,327.71,329,346.71\" style=\"stroke: #383838; stroke-width: 1.0;\"/><ellipse cx=\"324\" cy=\"322.01\" fill=\"#383838\" rx=\"2\" ry=\"2\" style=\"stroke: #383838; stroke-width: 1.0;\"/><ellipse cx=\"334\" cy=\"322.01\" fill=\"#383838\" rx=\"2\" ry=\"2\" style=\"stroke: #383838; stroke-width: 1.0;\"/></a><!--MD5=[751da1a27147b139b500add465abcc5b]\n",
       "@startuml\r\n",
       "skinparam ranksep 10\r\n",
       "skinparam rectangle {\r\n",
       " backgroundColor<<block>> LightGreen\r\n",
       "}\r\n",
       " skinparam monochrome true\r\n",
       "skinparam classbackgroundcolor white\r\n",
       "skinparam shadowing false\r\n",
       "skinparam wrapWidth 300\r\n",
       "hide circle\r\n",
       "\r\n",
       "package \"TradeStudyTest\" as E1  [[psysml:9d3e1c5c-e45c-4a85-8e75-4ee823ac8fbf ]]  {\r\n",
       "rec def \"Engine\" as E2  <<(T,blue) part  def>> [[psysml:956f1300-60cf-48ef-8161-7a381ae0bb8c ]] {\r\n",
       "}\r\n",
       "rec usage \"engine1: Engine\" as E3  [[psysml:5ff7a686-dab8-41cf-8031-b7dccb26607b ]] {\r\n",
       "}\r\n",
       "rec usage \"engine2: Engine\" as E4  [[psysml:44e88bb9-9b84-4b3f-b104-23d7a257fb04 ]] {\r\n",
       "}\r\n",
       "rec usage \"engineTradeStudy\" as E5 << analysis>> [[psysml:e12e8838-d64a-4336-9e52-2de97357eae2 ]] {\r\n",
       "comp usage \"tradeStudyObjective\" as E6  <<objective>> [[psysml:9a804e4d-bc47-4ee7-a2d8-d8527e0c1caf ]] {\r\n",
       "}\r\n",
       "}\r\n",
       "comp usage \"evaluationFunction \" as E7  <<(T,blue) calculation>> [[psysml:1fa3686a-6014-4c73-9542-2575e26fd8a7 ]] {\r\n",
       "}\r\n",
       "comp usage \"alternative: Engine \" as E8  [[psysml:79c1d929-0a70-426e-ae6d-56e5e3e776a6 ]] {\r\n",
       "}\r\n",
       "comp usage \"selectedAlternative: Engine \" as E9  [[psysml:169f456a-e384-47f5-89e9-43fd13dd17eb ]] {\r\n",
       "}\r\n",
       "}\r\n",
       "E5 ..> E2 [[psysml:ef23f2a8-b555-4000-b8d1-a9fc8ea83129 ]] : <<subject>>\r\n",
       "E5 *- - E7 [[psysml:3495a436-635c-4195-be5e-85a5d126f0e1 ]] \r\n",
       "E7 o- - \"1\"E8 [[psysml:e1d2632c-68a4-476d-b3ed-d8b6d2aaac51 ]] \r\n",
       "E8 - -:|> E2 [[psysml:a8ae8a0d-ad52-4d9e-986d-0c741d3467c2 ]] \r\n",
       "E5 o- - \"1\"E9 [[psysml:1023028c-00c5-4dde-9329-e4b02befe1ab ]] \r\n",
       "E9 - -:|> E2 [[psysml:d6cd1bf0-a8ac-42a9-91c6-4adc5d4642e7 ]] \r\n",
       "@enduml\r\n",
       "\n",
       "PlantUML version 1.2020.13(Sat Jun 13 12:26:38 UTC 2020)\n",
       "(EPL source distribution)\n",
       "Java Runtime: OpenJDK Runtime Environment\n",
       "JVM: OpenJDK 64-Bit Server VM\n",
       "Default Encoding: UTF-8\n",
       "Language: en\n",
       "Country: null\n",
       "--></g></svg>"
      ]
     },
     "execution_count": 5,
     "metadata": {},
     "output_type": "execute_result"
    }
   ],
   "source": [
    "%viz --style=\"COMPTREE\" --view=\"Interconnection\" \"TradeStudyTest\""
   ]
  },
  {
   "cell_type": "code",
   "execution_count": 6,
   "id": "0bb4c5db",
   "metadata": {
    "execution": {
     "iopub.execute_input": "2022-02-18T10:50:34.869271Z",
     "iopub.status.busy": "2022-02-18T10:50:34.868640Z",
     "iopub.status.idle": "2022-02-18T10:50:34.915691Z",
     "shell.execute_reply": "2022-02-18T10:50:34.915321Z"
    }
   },
   "outputs": [
    {
     "data": {
      "image/svg+xml": [
       "<?xml version=\"1.0\" encoding=\"UTF-8\" standalone=\"no\"?><svg xmlns=\"http://www.w3.org/2000/svg\" xmlns:xlink=\"http://www.w3.org/1999/xlink\" contentScriptType=\"application/ecmascript\" contentStyleType=\"text/css\" height=\"227px\" preserveAspectRatio=\"none\" style=\"width:442px;height:227px;\" version=\"1.1\" viewBox=\"0 0 442 227\" width=\"442px\" zoomAndPan=\"magnify\"><defs/><g><!--MD5=[fbc87193dbaf4d95561dea2c320d4a47]\n",
       "cluster E1--><a href=\"psysml:e12e8838-d64a-4336-9e52-2de97357eae2\" target=\"_top\" title=\"psysml:e12e8838-d64a-4336-9e52-2de97357eae2\" xlink:actuate=\"onRequest\" xlink:href=\"psysml:e12e8838-d64a-4336-9e52-2de97357eae2\" xlink:show=\"new\" xlink:title=\"psysml:e12e8838-d64a-4336-9e52-2de97357eae2\" xlink:type=\"simple\"><rect fill=\"#FFFFFF\" height=\"174.36\" id=\"E1\" rx=\"10\" ry=\"10\" style=\"stroke: #383838; stroke-width: 1.5;\" width=\"317\" x=\"47\" y=\"42.0986\"/><rect fill=\"#F8F8F8\" height=\"37.9375\" rx=\"10\" ry=\"10\" style=\"stroke: #F8F8F8; stroke-width: 1.5;\" width=\"317\" x=\"47\" y=\"42.0986\"/><rect fill=\"#F8F8F8\" height=\"10\" style=\"stroke: #F8F8F8; stroke-width: 1.5;\" width=\"317\" x=\"47\" y=\"70.0361\"/><rect fill=\"none\" height=\"174.36\" id=\"E1\" rx=\"10\" ry=\"10\" style=\"stroke: #383838; stroke-width: 1.5;\" width=\"317\" x=\"47\" y=\"42.0986\"/><text fill=\"#000000\" font-family=\"sans-serif\" font-size=\"12\" font-style=\"italic\" lengthAdjust=\"spacingAndGlyphs\" textLength=\"64\" x=\"173.5\" y=\"58.2373\">«analysis»</text><text fill=\"#000000\" font-family=\"sans-serif\" font-size=\"12\" lengthAdjust=\"spacingAndGlyphs\" textLength=\"114\" x=\"148.5\" y=\"72.2061\">engineTradeStudy</text><line style=\"stroke: #383838; stroke-width: 1.0;\" x1=\"47\" x2=\"364\" y1=\"80.0361\" y2=\"80.0361\"/></a><!--MD5=[d5e69f78d87373223dbae638b30a9c99]\n",
       "cluster E3--><a href=\"psysml:1fa3686a-6014-4c73-9542-2575e26fd8a7\" target=\"_top\" title=\"psysml:1fa3686a-6014-4c73-9542-2575e26fd8a7\" xlink:actuate=\"onRequest\" xlink:href=\"psysml:1fa3686a-6014-4c73-9542-2575e26fd8a7\" xlink:show=\"new\" xlink:title=\"psysml:1fa3686a-6014-4c73-9542-2575e26fd8a7\" xlink:type=\"simple\"><rect fill=\"#FFFFFF\" height=\"104.86\" id=\"E3\" rx=\"10\" ry=\"10\" style=\"stroke: #383838; stroke-width: 1.5;\" width=\"178\" x=\"145\" y=\"81.5986\"/><rect fill=\"#F8F8F8\" height=\"37.9375\" rx=\"10\" ry=\"10\" style=\"stroke: #F8F8F8; stroke-width: 1.5;\" width=\"178\" x=\"145\" y=\"81.5986\"/><rect fill=\"#F8F8F8\" height=\"10\" style=\"stroke: #F8F8F8; stroke-width: 1.5;\" width=\"178\" x=\"145\" y=\"109.5361\"/><rect fill=\"none\" height=\"104.86\" id=\"E3\" rx=\"10\" ry=\"10\" style=\"stroke: #383838; stroke-width: 1.5;\" width=\"178\" x=\"145\" y=\"81.5986\"/><text fill=\"#000000\" font-family=\"sans-serif\" font-size=\"12\" font-style=\"italic\" lengthAdjust=\"spacingAndGlyphs\" textLength=\"82\" x=\"193\" y=\"97.7373\">«calculation»</text><text fill=\"#000000\" font-family=\"sans-serif\" font-size=\"12\" lengthAdjust=\"spacingAndGlyphs\" textLength=\"119\" x=\"174.5\" y=\"111.7061\">evaluationFunction</text><line style=\"stroke: #383838; stroke-width: 1.0;\" x1=\"145\" x2=\"323\" y1=\"119.5361\" y2=\"119.5361\"/></a><text fill=\"#000000\" font-family=\"sans-serif\" font-size=\"14\" lengthAdjust=\"spacingAndGlyphs\" textLength=\"118\" x=\"6\" y=\"20.7969\">studyAlternatives</text><rect fill=\"#383838\" height=\"12\" style=\"stroke: #F8F8F8; stroke-width: 1.5;\" width=\"12\" x=\"59\" y=\"36.0986\"/><text fill=\"#000000\" font-family=\"sans-serif\" font-size=\"14\" lengthAdjust=\"spacingAndGlyphs\" textLength=\"132\" x=\"298\" y=\"183.0938\">selectedAlternative</text><rect fill=\"#383838\" height=\"12\" style=\"stroke: #F8F8F8; stroke-width: 1.5;\" width=\"12\" x=\"358\" y=\"158.0986\"/><text fill=\"#000000\" font-family=\"sans-serif\" font-size=\"14\" lengthAdjust=\"spacingAndGlyphs\" textLength=\"71\" x=\"198.5\" y=\"60.2969\">alternative</text><rect fill=\"#383838\" height=\"12\" style=\"stroke: #F8F8F8; stroke-width: 1.5;\" width=\"12\" x=\"228\" y=\"75.5986\"/><text fill=\"#000000\" font-family=\"sans-serif\" font-size=\"14\" lengthAdjust=\"spacingAndGlyphs\" textLength=\"39\" x=\"214.5\" y=\"205.4538\">result</text><rect fill=\"#383838\" height=\"12\" style=\"stroke: #F8F8F8; stroke-width: 1.5;\" width=\"12\" x=\"228\" y=\"180.4586\"/><!--MD5=[8e5d26284962b9feb57c01decf811df6]\n",
       "@startuml\r\n",
       "skinparam ranksep 8\r\n",
       " skinparam monochrome true\r\n",
       "skinparam classbackgroundcolor white\r\n",
       "skinparam shadowing false\r\n",
       "skinparam wrapWidth 300\r\n",
       "hide circle\r\n",
       "\r\n",
       "rec usage \"engineTradeStudy\" as E1 << analysis>> [[psysml:e12e8838-d64a-4336-9e52-2de97357eae2 ]] {\r\n",
       "portin \"studyAlternatives\" as E2  [[psysml:36f294a0-7f48-45c5-aee6-574d3cef2e7a ]] \r\n",
       "rec usage \"evaluationFunction\" as E3  <<(T,blue) calculation>> [[psysml:1fa3686a-6014-4c73-9542-2575e26fd8a7 ]] {\r\n",
       "portin \"alternative\" as E4  [[psysml:79c1d929-0a70-426e-ae6d-56e5e3e776a6 ]] \r\n",
       "portout \"result\" as E5  [[psysml:c19db6ea-6f05-4719-8826-e593430801be ]] \r\n",
       "}\r\n",
       "\r\n",
       "portout \"selectedAlternative\" as E6  [[psysml:169f456a-e384-47f5-89e9-43fd13dd17eb ]] \r\n",
       "}\r\n",
       "\r\n",
       "@enduml\r\n",
       "\n",
       "PlantUML version 1.2020.13(Sat Jun 13 12:26:38 UTC 2020)\n",
       "(EPL source distribution)\n",
       "Java Runtime: OpenJDK Runtime Environment\n",
       "JVM: OpenJDK 64-Bit Server VM\n",
       "Default Encoding: UTF-8\n",
       "Language: en\n",
       "Country: null\n",
       "--></g></svg>"
      ]
     },
     "execution_count": 6,
     "metadata": {},
     "output_type": "execute_result"
    }
   ],
   "source": [
    "%viz --style=\"COMPTREE\" --view=\"Action\" \"TradeStudyTest\""
   ]
  },
  {
   "cell_type": "code",
   "execution_count": 7,
   "id": "3e46275f",
   "metadata": {
    "execution": {
     "iopub.execute_input": "2022-02-18T10:50:34.965527Z",
     "iopub.status.busy": "2022-02-18T10:50:34.965120Z",
     "iopub.status.idle": "2022-02-18T10:50:34.977100Z",
     "shell.execute_reply": "2022-02-18T10:50:34.977415Z"
    }
   },
   "outputs": [
    {
     "data": {
      "image/svg+xml": [
       "<?xml version=\"1.0\" encoding=\"UTF-8\" standalone=\"no\"?><svg xmlns=\"http://www.w3.org/2000/svg\" xmlns:xlink=\"http://www.w3.org/1999/xlink\" contentScriptType=\"application/ecmascript\" contentStyleType=\"text/css\" height=\"12px\" preserveAspectRatio=\"none\" style=\"width:12px;height:12px;\" version=\"1.1\" viewBox=\"0 0 12 12\" width=\"12px\" zoomAndPan=\"magnify\"><defs/><g><!--MD5=[803fc46c337be7a5c8a9831e35356779]\n",
       "@startuml\r\n",
       "skinparam roundcorner 20\r\n",
       "skinparam BoxPadding 20\r\n",
       "skinparam SequenceBoxBackgroundColor #white\r\n",
       "skinparam style strictuml\r\n",
       "skinparam maxMessageSize 100\r\n",
       " skinparam monochrome true\r\n",
       "skinparam classbackgroundcolor white\r\n",
       "skinparam shadowing false\r\n",
       "skinparam wrapWidth 300\r\n",
       "hide circle\r\n",
       "\r\n",
       "@enduml\r\n",
       "\n",
       "PlantUML version 1.2020.13(Sat Jun 13 12:26:38 UTC 2020)\n",
       "(EPL source distribution)\n",
       "Java Runtime: OpenJDK Runtime Environment\n",
       "JVM: OpenJDK 64-Bit Server VM\n",
       "Default Encoding: UTF-8\n",
       "Language: en\n",
       "Country: null\n",
       "--></g></svg>"
      ]
     },
     "execution_count": 7,
     "metadata": {},
     "output_type": "execute_result"
    }
   ],
   "source": [
    "%viz --style=\"COMPTREE\" --view=\"Sequence\" \"TradeStudyTest\""
   ]
  },
  {
   "cell_type": "code",
   "execution_count": 8,
   "id": "6fca2ec5",
   "metadata": {
    "execution": {
     "iopub.execute_input": "2022-02-18T10:50:35.027737Z",
     "iopub.status.busy": "2022-02-18T10:50:35.027331Z",
     "iopub.status.idle": "2022-02-18T10:50:35.091451Z",
     "shell.execute_reply": "2022-02-18T10:50:35.091092Z"
    }
   },
   "outputs": [
    {
     "data": {
      "image/svg+xml": [
       "<?xml version=\"1.0\" encoding=\"UTF-8\" standalone=\"no\"?><svg xmlns=\"http://www.w3.org/2000/svg\" xmlns:xlink=\"http://www.w3.org/1999/xlink\" contentScriptType=\"application/ecmascript\" contentStyleType=\"text/css\" height=\"545px\" preserveAspectRatio=\"none\" style=\"width:566px;height:545px;\" version=\"1.1\" viewBox=\"0 0 566 545\" width=\"566px\" zoomAndPan=\"magnify\"><defs/><g><!--MD5=[fbc87193dbaf4d95561dea2c320d4a47]\n",
       "cluster E1--><a href=\"psysml:9d3e1c5c-e45c-4a85-8e75-4ee823ac8fbf\" target=\"_top\" title=\"psysml:9d3e1c5c-e45c-4a85-8e75-4ee823ac8fbf\" xlink:actuate=\"onRequest\" xlink:href=\"psysml:9d3e1c5c-e45c-4a85-8e75-4ee823ac8fbf\" xlink:show=\"new\" xlink:title=\"psysml:9d3e1c5c-e45c-4a85-8e75-4ee823ac8fbf\" xlink:type=\"simple\"><polygon fill=\"#FFFFFF\" points=\"16,6,132,6,139,28.2969,544,28.2969,544,533,16,533,16,6\" style=\"stroke: #000000; stroke-width: 1.5;\"/><line style=\"stroke: #000000; stroke-width: 1.5;\" x1=\"16\" x2=\"139\" y1=\"28.2969\" y2=\"28.2969\"/><text fill=\"#000000\" font-family=\"sans-serif\" font-size=\"14\" font-weight=\"bold\" lengthAdjust=\"spacingAndGlyphs\" textLength=\"110\" x=\"20\" y=\"20.9951\">TradeStudyTest</text></a><!--MD5=[de5ec2e2e8f62f467e546659f5068c88]\n",
       "cluster E5--><a href=\"psysml:e12e8838-d64a-4336-9e52-2de97357eae2\" target=\"_top\" title=\"psysml:e12e8838-d64a-4336-9e52-2de97357eae2\" xlink:actuate=\"onRequest\" xlink:href=\"psysml:e12e8838-d64a-4336-9e52-2de97357eae2\" xlink:show=\"new\" xlink:title=\"psysml:e12e8838-d64a-4336-9e52-2de97357eae2\" xlink:type=\"simple\"><rect fill=\"#FFFFFF\" height=\"129\" id=\"E5\" rx=\"10\" ry=\"10\" style=\"stroke: #383838; stroke-width: 1.5;\" width=\"199\" x=\"238\" y=\"57\"/><rect fill=\"#F8F8F8\" height=\"37.9375\" rx=\"10\" ry=\"10\" style=\"stroke: #F8F8F8; stroke-width: 1.5;\" width=\"199\" x=\"238\" y=\"57\"/><rect fill=\"#F8F8F8\" height=\"10\" style=\"stroke: #F8F8F8; stroke-width: 1.5;\" width=\"199\" x=\"238\" y=\"84.9375\"/><rect fill=\"none\" height=\"129\" id=\"E5\" rx=\"10\" ry=\"10\" style=\"stroke: #383838; stroke-width: 1.5;\" width=\"199\" x=\"238\" y=\"57\"/><text fill=\"#000000\" font-family=\"sans-serif\" font-size=\"12\" font-style=\"italic\" lengthAdjust=\"spacingAndGlyphs\" textLength=\"64\" x=\"305.5\" y=\"73.1387\">«analysis»</text><text fill=\"#000000\" font-family=\"sans-serif\" font-size=\"12\" lengthAdjust=\"spacingAndGlyphs\" textLength=\"114\" x=\"280.5\" y=\"87.1074\">engineTradeStudy</text><line style=\"stroke: #383838; stroke-width: 1.0;\" x1=\"238\" x2=\"437\" y1=\"94.9375\" y2=\"94.9375\"/></a><!--MD5=[b4997ac47864f28c2f74865a473b2911]\n",
       "class E2--><a href=\"psysml:956f1300-60cf-48ef-8161-7a381ae0bb8c\" target=\"_top\" title=\"psysml:956f1300-60cf-48ef-8161-7a381ae0bb8c\" xlink:actuate=\"onRequest\" xlink:href=\"psysml:956f1300-60cf-48ef-8161-7a381ae0bb8c\" xlink:show=\"new\" xlink:title=\"psysml:956f1300-60cf-48ef-8161-7a381ae0bb8c\" xlink:type=\"simple\"><rect fill=\"#FFFFFF\" height=\"45.9375\" id=\"E2\" style=\"stroke: #383838; stroke-width: 1.5;\" width=\"70\" x=\"292\" y=\"471\"/><text fill=\"#000000\" font-family=\"sans-serif\" font-size=\"12\" font-style=\"italic\" lengthAdjust=\"spacingAndGlyphs\" textLength=\"68\" x=\"293\" y=\"487.1387\">«part  def»</text><text fill=\"#000000\" font-family=\"sans-serif\" font-size=\"12\" lengthAdjust=\"spacingAndGlyphs\" textLength=\"43\" x=\"305.5\" y=\"501.1074\">Engine</text><line style=\"stroke: #383838; stroke-width: 1.5;\" x1=\"293\" x2=\"361\" y1=\"508.9375\" y2=\"508.9375\"/></a><!--MD5=[09b614a08d8cba4a07c9adeb5e0fee81]\n",
       "class E3--><a href=\"psysml:5ff7a686-dab8-41cf-8031-b7dccb26607b\" target=\"_top\" title=\"psysml:5ff7a686-dab8-41cf-8031-b7dccb26607b\" xlink:actuate=\"onRequest\" xlink:href=\"psysml:5ff7a686-dab8-41cf-8031-b7dccb26607b\" xlink:show=\"new\" xlink:title=\"psysml:5ff7a686-dab8-41cf-8031-b7dccb26607b\" xlink:type=\"simple\"><rect fill=\"#FFFFFF\" height=\"45.9375\" id=\"E3\" rx=\"10\" ry=\"10\" style=\"stroke: #383838; stroke-width: 1.5;\" width=\"112\" x=\"179\" y=\"364\"/><text fill=\"#000000\" font-family=\"sans-serif\" font-size=\"12\" font-style=\"italic\" lengthAdjust=\"spacingAndGlyphs\" textLength=\"40\" x=\"215\" y=\"380.1387\">«part»</text><text fill=\"#000000\" font-family=\"sans-serif\" font-size=\"12\" lengthAdjust=\"spacingAndGlyphs\" textLength=\"102\" x=\"182\" y=\"394.1074\">engine1: Engine</text><line style=\"stroke: #383838; stroke-width: 1.5;\" x1=\"180\" x2=\"290\" y1=\"401.9375\" y2=\"401.9375\"/></a><!--MD5=[ebbe1d658d1005bcc118a6aa81145e00]\n",
       "class E4--><a href=\"psysml:44e88bb9-9b84-4b3f-b104-23d7a257fb04\" target=\"_top\" title=\"psysml:44e88bb9-9b84-4b3f-b104-23d7a257fb04\" xlink:actuate=\"onRequest\" xlink:href=\"psysml:44e88bb9-9b84-4b3f-b104-23d7a257fb04\" xlink:show=\"new\" xlink:title=\"psysml:44e88bb9-9b84-4b3f-b104-23d7a257fb04\" xlink:type=\"simple\"><rect fill=\"#FFFFFF\" height=\"45.9375\" id=\"E4\" rx=\"10\" ry=\"10\" style=\"stroke: #383838; stroke-width: 1.5;\" width=\"112\" x=\"32\" y=\"364\"/><text fill=\"#000000\" font-family=\"sans-serif\" font-size=\"12\" font-style=\"italic\" lengthAdjust=\"spacingAndGlyphs\" textLength=\"40\" x=\"68\" y=\"380.1387\">«part»</text><text fill=\"#000000\" font-family=\"sans-serif\" font-size=\"12\" lengthAdjust=\"spacingAndGlyphs\" textLength=\"102\" x=\"35\" y=\"394.1074\">engine2: Engine</text><line style=\"stroke: #383838; stroke-width: 1.5;\" x1=\"33\" x2=\"143\" y1=\"401.9375\" y2=\"401.9375\"/></a><!--MD5=[2156ba9850f5573cc1fc38a6a4b2f02b]\n",
       "class E7--><a href=\"psysml:1fa3686a-6014-4c73-9542-2575e26fd8a7\" target=\"_top\" title=\"psysml:1fa3686a-6014-4c73-9542-2575e26fd8a7\" xlink:actuate=\"onRequest\" xlink:href=\"psysml:1fa3686a-6014-4c73-9542-2575e26fd8a7\" xlink:show=\"new\" xlink:title=\"psysml:1fa3686a-6014-4c73-9542-2575e26fd8a7\" xlink:type=\"simple\"><rect fill=\"#FFFFFF\" height=\"45.9375\" id=\"E7\" rx=\"10\" ry=\"10\" style=\"stroke: #383838; stroke-width: 1.5;\" width=\"129\" x=\"181.5\" y=\"241\"/><text fill=\"#000000\" font-family=\"sans-serif\" font-size=\"12\" font-style=\"italic\" lengthAdjust=\"spacingAndGlyphs\" textLength=\"82\" x=\"205\" y=\"257.1387\">«calculation»</text><text fill=\"#000000\" font-family=\"sans-serif\" font-size=\"12\" lengthAdjust=\"spacingAndGlyphs\" textLength=\"119\" x=\"184.5\" y=\"271.1074\">evaluationFunction</text><line style=\"stroke: #383838; stroke-width: 1.5;\" x1=\"182.5\" x2=\"309.5\" y1=\"278.9375\" y2=\"278.9375\"/></a><!--MD5=[b9389687b975829384b498ac4b7476b2]\n",
       "class E8--><a href=\"psysml:79c1d929-0a70-426e-ae6d-56e5e3e776a6\" target=\"_top\" title=\"psysml:79c1d929-0a70-426e-ae6d-56e5e3e776a6\" xlink:actuate=\"onRequest\" xlink:href=\"psysml:79c1d929-0a70-426e-ae6d-56e5e3e776a6\" xlink:show=\"new\" xlink:title=\"psysml:79c1d929-0a70-426e-ae6d-56e5e3e776a6\" xlink:type=\"simple\"><rect fill=\"#FFFFFF\" height=\"45.9375\" id=\"E8\" rx=\"10\" ry=\"10\" style=\"stroke: #383838; stroke-width: 1.5;\" width=\"128\" x=\"363\" y=\"364\"/><text fill=\"#000000\" font-family=\"sans-serif\" font-size=\"12\" font-style=\"italic\" lengthAdjust=\"spacingAndGlyphs\" textLength=\"40\" x=\"407\" y=\"380.1387\">«part»</text><text fill=\"#000000\" font-family=\"sans-serif\" font-size=\"12\" lengthAdjust=\"spacingAndGlyphs\" textLength=\"118\" x=\"366\" y=\"394.1074\">alternative: Engine</text><line style=\"stroke: #383838; stroke-width: 1.5;\" x1=\"364\" x2=\"490\" y1=\"401.9375\" y2=\"401.9375\"/></a><!--MD5=[fd4143e9d270a159db93a4ea2a975926]\n",
       "class E9--><a href=\"psysml:169f456a-e384-47f5-89e9-43fd13dd17eb\" target=\"_top\" title=\"psysml:169f456a-e384-47f5-89e9-43fd13dd17eb\" xlink:actuate=\"onRequest\" xlink:href=\"psysml:169f456a-e384-47f5-89e9-43fd13dd17eb\" xlink:show=\"new\" xlink:title=\"psysml:169f456a-e384-47f5-89e9-43fd13dd17eb\" xlink:type=\"simple\"><rect fill=\"#FFFFFF\" height=\"45.9375\" id=\"E9\" rx=\"10\" ry=\"10\" style=\"stroke: #383838; stroke-width: 1.5;\" width=\"182\" x=\"346\" y=\"241\"/><text fill=\"#000000\" font-family=\"sans-serif\" font-size=\"12\" font-style=\"italic\" lengthAdjust=\"spacingAndGlyphs\" textLength=\"40\" x=\"417\" y=\"257.1387\">«part»</text><text fill=\"#000000\" font-family=\"sans-serif\" font-size=\"12\" lengthAdjust=\"spacingAndGlyphs\" textLength=\"172\" x=\"349\" y=\"271.1074\">selectedAlternative: Engine</text><line style=\"stroke: #383838; stroke-width: 1.5;\" x1=\"347\" x2=\"527\" y1=\"278.9375\" y2=\"278.9375\"/></a><!--MD5=[60a26617385b1d2d0262a64233df1f8d]\n",
       "class E6--><a href=\"psysml:9a804e4d-bc47-4ee7-a2d8-d8527e0c1caf\" target=\"_top\" title=\"psysml:9a804e4d-bc47-4ee7-a2d8-d8527e0c1caf\" xlink:actuate=\"onRequest\" xlink:href=\"psysml:9a804e4d-bc47-4ee7-a2d8-d8527e0c1caf\" xlink:show=\"new\" xlink:title=\"psysml:9a804e4d-bc47-4ee7-a2d8-d8527e0c1caf\" xlink:type=\"simple\"><rect fill=\"#FFFFFF\" height=\"45.9375\" id=\"E6\" rx=\"10\" ry=\"10\" style=\"stroke: #383838; stroke-width: 1.5;\" width=\"132\" x=\"281\" y=\"116\"/><text fill=\"#000000\" font-family=\"sans-serif\" font-size=\"12\" font-style=\"italic\" lengthAdjust=\"spacingAndGlyphs\" textLength=\"70\" x=\"312\" y=\"132.1387\">«objective»</text><text fill=\"#000000\" font-family=\"sans-serif\" font-size=\"12\" lengthAdjust=\"spacingAndGlyphs\" textLength=\"126\" x=\"284\" y=\"146.1074\">tradeStudyObjective</text><line style=\"stroke: #383838; stroke-width: 1.5;\" x1=\"282\" x2=\"412\" y1=\"153.9375\" y2=\"153.9375\"/></a><!--MD5=[05d275557350bfb9b23a4ef7222b4c39]\n",
       "link E3 to E2--><a href=\"psysml:9be21745-fec5-4980-9af6-b796782d7969\" target=\"_top\" title=\"psysml:9be21745-fec5-4980-9af6-b796782d7969\" xlink:actuate=\"onRequest\" xlink:href=\"psysml:9be21745-fec5-4980-9af6-b796782d7969\" xlink:show=\"new\" xlink:title=\"psysml:9be21745-fec5-4980-9af6-b796782d7969\" xlink:type=\"simple\"><path d=\"M254.29,410.01 C265.74,423.08 280.57,440.01 293.86,455.17 \" fill=\"none\" id=\"E3-&gt;E2\" style=\"stroke: #383838; stroke-width: 1.0;\"/><polygon fill=\"#FFFFFF\" points=\"307.42,470.66,289.6319,460.9861,300.1599,451.7578,307.42,470.66\" style=\"stroke: #383838; stroke-width: 1.0;\"/><ellipse cx=\"287.3787\" cy=\"455.3814\" fill=\"#383838\" rx=\"2\" ry=\"2\" style=\"stroke: #383838; stroke-width: 1.0;\"/><ellipse cx=\"294.8987\" cy=\"448.7898\" fill=\"#383838\" rx=\"2\" ry=\"2\" style=\"stroke: #383838; stroke-width: 1.0;\"/></a><!--MD5=[185131fc0dcab0a4505a2ebe144e961b]\n",
       "link E4 to E2--><a href=\"psysml:1ad537aa-bda6-4221-a392-6db0b9fa994b\" target=\"_top\" title=\"psysml:1ad537aa-bda6-4221-a392-6db0b9fa994b\" xlink:actuate=\"onRequest\" xlink:href=\"psysml:1ad537aa-bda6-4221-a392-6db0b9fa994b\" xlink:show=\"new\" xlink:title=\"psysml:1ad537aa-bda6-4221-a392-6db0b9fa994b\" xlink:type=\"simple\"><path d=\"M138.1,410.01 C177.63,427.38 232.65,451.55 273.12,469.33 \" fill=\"none\" id=\"E4-&gt;E2\" style=\"stroke: #383838; stroke-width: 1.0;\"/><polygon fill=\"#FFFFFF\" points=\"291.69,477.49,271.479,476.2594,277.1083,463.4411,291.69,477.49\" style=\"stroke: #383838; stroke-width: 1.0;\"/><ellipse cx=\"267.0642\" cy=\"472.1363\" fill=\"#383838\" rx=\"2\" ry=\"2\" style=\"stroke: #383838; stroke-width: 1.0;\"/><ellipse cx=\"271.0852\" cy=\"462.9803\" fill=\"#383838\" rx=\"2\" ry=\"2\" style=\"stroke: #383838; stroke-width: 1.0;\"/></a><!--MD5=[15ebcb19ae302d9b601edb458606d402]\n",
       "link E5 to E2--><a href=\"psysml:ef23f2a8-b555-4000-b8d1-a9fc8ea83129\" target=\"_top\" title=\"psysml:ef23f2a8-b555-4000-b8d1-a9fc8ea83129\" xlink:actuate=\"onRequest\" xlink:href=\"psysml:ef23f2a8-b555-4000-b8d1-a9fc8ea83129\" xlink:show=\"new\" xlink:title=\"psysml:ef23f2a8-b555-4000-b8d1-a9fc8ea83129\" xlink:type=\"simple\"><path d=\"M237.7204,146.0763 C237.4768,146.2621 237.2287,146.4518 236.9763,146.6454 C235.9668,147.4197 234.8879,148.2561 233.748,149.1518 C231.4682,150.943 228.9441,152.9709 226.2406,155.2119 C215.4269,164.1756 201.745,176.5475 189.3625,190.8125 C164.5975,219.3425 145.03,255.445 164,287 C166.35,290.91 306.39,360.26 309,364 C329.99,394 331.63,437.66 330,465.69 \" fill=\"none\" id=\"E5-&gt;E2\" style=\"stroke: #383838; stroke-width: 1.0; stroke-dasharray: 7.0,7.0;\"/><polygon fill=\"#383838\" points=\"329.66,470.74,334.268,462.0356,330.003,465.7518,326.2869,461.4868,329.66,470.74\" style=\"stroke: #383838; stroke-width: 1.0;\"/><text fill=\"#000000\" font-family=\"sans-serif\" font-size=\"13\" lengthAdjust=\"spacingAndGlyphs\" textLength=\"62\" x=\"253\" y=\"330.0669\">«subject»</text></a><!--MD5=[452b418e7f8a40397a49b8c0a78acc5b]\n",
       "reverse link E5 to E7--><a href=\"psysml:3495a436-635c-4195-be5e-85a5d126f0e1\" target=\"_top\" title=\"psysml:3495a436-635c-4195-be5e-85a5d126f0e1\" xlink:actuate=\"onRequest\" xlink:href=\"psysml:3495a436-635c-4195-be5e-85a5d126f0e1\" xlink:show=\"new\" xlink:title=\"psysml:3495a436-635c-4195-be5e-85a5d126f0e1\" xlink:type=\"simple\"><path d=\"M246,186.2997 C246,188.9655 246,191.6719 246,194.3971 C246,199.8476 246,205.3735 246,210.8005 C246,221.6544 246,232.1125 246,240.78 \" fill=\"none\" id=\"E5&lt;-E7\" style=\"stroke: #383838; stroke-width: 1.0;\"/><polygon fill=\"#383838\" points=\"246,186.2997,242,192.2997,246,198.2997,250,192.2997,246,186.2997\" style=\"stroke: #383838; stroke-width: 1.0;\"/></a><!--MD5=[dc164f5e8a733ab456ef1add180e9e34]\n",
       "reverse link E7 to E8--><a href=\"psysml:e1d2632c-68a4-476d-b3ed-d8b6d2aaac51\" target=\"_top\" title=\"psysml:e1d2632c-68a4-476d-b3ed-d8b6d2aaac51\" xlink:actuate=\"onRequest\" xlink:href=\"psysml:e1d2632c-68a4-476d-b3ed-d8b6d2aaac51\" xlink:show=\"new\" xlink:title=\"psysml:e1d2632c-68a4-476d-b3ed-d8b6d2aaac51\" xlink:type=\"simple\"><path d=\"M290.06,294.45 C322.12,315.89 364.86,344.46 394.01,363.95 \" fill=\"none\" id=\"E7&lt;-E8\" style=\"stroke: #383838; stroke-width: 1.0;\"/><polygon fill=\"#FFFFFF\" points=\"279.2,287.19,281.9674,293.8489,289.1785,293.8555,286.4111,287.1966,279.2,287.19\" style=\"stroke: #383838; stroke-width: 1.0;\"/><text fill=\"#000000\" font-family=\"sans-serif\" font-size=\"13\" lengthAdjust=\"spacingAndGlyphs\" textLength=\"8\" x=\"376.0689\" y=\"352.8328\">1</text></a><!--MD5=[f1f3f9f2fc535e6147756cb86a7f2e32]\n",
       "link E8 to E2--><a href=\"psysml:a8ae8a0d-ad52-4d9e-986d-0c741d3467c2\" target=\"_top\" title=\"psysml:a8ae8a0d-ad52-4d9e-986d-0c741d3467c2\" xlink:actuate=\"onRequest\" xlink:href=\"psysml:a8ae8a0d-ad52-4d9e-986d-0c741d3467c2\" xlink:show=\"new\" xlink:title=\"psysml:a8ae8a0d-ad52-4d9e-986d-0c741d3467c2\" xlink:type=\"simple\"><path d=\"M406.04,410.01 C393.32,423.36 376.77,440.74 362.11,456.14 \" fill=\"none\" id=\"E8-&gt;E2\" style=\"stroke: #383838; stroke-width: 1.0;\"/><polygon fill=\"#FFFFFF\" points=\"348.28,470.66,356.3076,452.0708,366.4491,461.7223,348.28,470.66\" style=\"stroke: #383838; stroke-width: 1.0;\"/><ellipse cx=\"361.6859\" cy=\"449.3206\" fill=\"#383838\" rx=\"2\" ry=\"2\" style=\"stroke: #383838; stroke-width: 1.0;\"/><ellipse cx=\"368.9298\" cy=\"456.2144\" fill=\"#383838\" rx=\"2\" ry=\"2\" style=\"stroke: #383838; stroke-width: 1.0;\"/></a><!--MD5=[9ae28de373ca99bb8a1b38d63370ca7e]\n",
       "reverse link E5 to E9--><a href=\"psysml:1023028c-00c5-4dde-9329-e4b02befe1ab\" target=\"_top\" title=\"psysml:1023028c-00c5-4dde-9329-e4b02befe1ab\" xlink:actuate=\"onRequest\" xlink:href=\"psysml:1023028c-00c5-4dde-9329-e4b02befe1ab\" xlink:show=\"new\" xlink:title=\"psysml:1023028c-00c5-4dde-9329-e4b02befe1ab\" xlink:type=\"simple\"><path d=\"M254.7949,186.3026 C254.8401,186.4038 254.8856,186.5049 254.9313,186.6059 C255.2966,187.4138 255.6769,188.215 256.0726,189.0077 C256.8641,190.5933 257.7176,192.1452 258.6379,193.6498 C260.4784,196.6589 262.5863,199.4788 265,202 C278.04,215.62 316.12,229.75 353.15,240.99 \" fill=\"none\" id=\"E5&lt;-E9\" style=\"stroke: #383838; stroke-width: 1.0;\"/><polygon fill=\"#FFFFFF\" points=\"254.7949,186.3026,253.5901,193.4123,259.6895,197.259,260.8944,190.1493,254.7949,186.3026\" style=\"stroke: #383838; stroke-width: 1.0;\"/><text fill=\"#000000\" font-family=\"sans-serif\" font-size=\"13\" lengthAdjust=\"spacingAndGlyphs\" textLength=\"8\" x=\"330.0508\" y=\"232.8298\">1</text></a><!--MD5=[5c3bb36fe832a92c7f0e1807dd65209d]\n",
       "link E9 to E2--><a href=\"psysml:d6cd1bf0-a8ac-42a9-91c6-4adc5d4642e7\" target=\"_top\" title=\"psysml:d6cd1bf0-a8ac-42a9-91c6-4adc5d4642e7\" xlink:actuate=\"onRequest\" xlink:href=\"psysml:d6cd1bf0-a8ac-42a9-91c6-4adc5d4642e7\" xlink:show=\"new\" xlink:title=\"psysml:d6cd1bf0-a8ac-42a9-91c6-4adc5d4642e7\" xlink:type=\"simple\"><path d=\"M462.31,287.19 C492.44,316.36 535.53,368.75 509,410 C481.16,453.3 424.53,474.29 381.79,484.28 \" fill=\"none\" id=\"E9-&gt;E2\" style=\"stroke: #383838; stroke-width: 1.0;\"/><polygon fill=\"#FFFFFF\" points=\"362.12,488.35,379.3051,477.6415,382.1449,491.3505,362.12,488.35\" style=\"stroke: #383838; stroke-width: 1.0;\"/><ellipse cx=\"385.2923\" cy=\"478.4438\" fill=\"#383838\" rx=\"2\" ry=\"2\" style=\"stroke: #383838; stroke-width: 1.0;\"/><ellipse cx=\"387.3207\" cy=\"488.2359\" fill=\"#383838\" rx=\"2\" ry=\"2\" style=\"stroke: #383838; stroke-width: 1.0;\"/></a><!--MD5=[fae0c61c701f4e484766c128cd73bf8c]\n",
       "@startuml\r\n",
       " skinparam monochrome true\r\n",
       "skinparam classbackgroundcolor white\r\n",
       "skinparam shadowing false\r\n",
       "skinparam wrapWidth 300\r\n",
       "hide circle\r\n",
       "\r\n",
       "package \"TradeStudyTest\" as E1  [[psysml:9d3e1c5c-e45c-4a85-8e75-4ee823ac8fbf ]]  {\r\n",
       "comp def \"Engine\" as E2  <<(T,blue) part  def>> [[psysml:956f1300-60cf-48ef-8161-7a381ae0bb8c ]] {\r\n",
       "}\r\n",
       "comp usage \"engine1: Engine \" as E3  <<(T,blue) part>> [[psysml:5ff7a686-dab8-41cf-8031-b7dccb26607b ]] {\r\n",
       "}\r\n",
       "comp usage \"engine2: Engine \" as E4  <<(T,blue) part>> [[psysml:44e88bb9-9b84-4b3f-b104-23d7a257fb04 ]] {\r\n",
       "}\r\n",
       "rec usage \"engineTradeStudy\" as E5 << analysis>> [[psysml:e12e8838-d64a-4336-9e52-2de97357eae2 ]] {\r\n",
       "comp usage \"tradeStudyObjective\" as E6  <<objective>> [[psysml:9a804e4d-bc47-4ee7-a2d8-d8527e0c1caf ]] {\r\n",
       "}\r\n",
       "}\r\n",
       "comp usage \"evaluationFunction \" as E7  <<(T,blue) calculation>> [[psysml:1fa3686a-6014-4c73-9542-2575e26fd8a7 ]] {\r\n",
       "}\r\n",
       "comp usage \"alternative: Engine \" as E8  <<(T,blue) part>> [[psysml:79c1d929-0a70-426e-ae6d-56e5e3e776a6 ]] {\r\n",
       "}\r\n",
       "comp usage \"selectedAlternative: Engine \" as E9  <<(T,blue) part>> [[psysml:169f456a-e384-47f5-89e9-43fd13dd17eb ]] {\r\n",
       "}\r\n",
       "}\r\n",
       "E3 - -:|> E2 [[psysml:9be21745-fec5-4980-9af6-b796782d7969 ]] \r\n",
       "E4 - -:|> E2 [[psysml:1ad537aa-bda6-4221-a392-6db0b9fa994b ]] \r\n",
       "E5 ..> E2 [[psysml:ef23f2a8-b555-4000-b8d1-a9fc8ea83129 ]] : <<subject>>\r\n",
       "E5 *- - E7 [[psysml:3495a436-635c-4195-be5e-85a5d126f0e1 ]] \r\n",
       "E7 o- - \"1\"E8 [[psysml:e1d2632c-68a4-476d-b3ed-d8b6d2aaac51 ]] \r\n",
       "E8 - -:|> E2 [[psysml:a8ae8a0d-ad52-4d9e-986d-0c741d3467c2 ]] \r\n",
       "E5 o- - \"1\"E9 [[psysml:1023028c-00c5-4dde-9329-e4b02befe1ab ]] \r\n",
       "E9 - -:|> E2 [[psysml:d6cd1bf0-a8ac-42a9-91c6-4adc5d4642e7 ]] \r\n",
       "@enduml\r\n",
       "\n",
       "PlantUML version 1.2020.13(Sat Jun 13 12:26:38 UTC 2020)\n",
       "(EPL source distribution)\n",
       "Java Runtime: OpenJDK Runtime Environment\n",
       "JVM: OpenJDK 64-Bit Server VM\n",
       "Default Encoding: UTF-8\n",
       "Language: en\n",
       "Country: null\n",
       "--></g></svg>"
      ]
     },
     "execution_count": 8,
     "metadata": {},
     "output_type": "execute_result"
    }
   ],
   "source": [
    "%viz --style=\"COMPTREE\" --view=\"MIXED\" \"TradeStudyTest\""
   ]
  },
  {
   "cell_type": "code",
   "execution_count": 9,
   "id": "e8824e43",
   "metadata": {
    "execution": {
     "iopub.execute_input": "2022-02-18T10:50:35.141330Z",
     "iopub.status.busy": "2022-02-18T10:50:35.140923Z",
     "iopub.status.idle": "2022-02-18T10:50:35.196169Z",
     "shell.execute_reply": "2022-02-18T10:50:35.195795Z"
    }
   },
   "outputs": [
    {
     "data": {
      "image/svg+xml": [
       "<?xml version=\"1.0\" encoding=\"UTF-8\" standalone=\"no\"?><svg xmlns=\"http://www.w3.org/2000/svg\" xmlns:xlink=\"http://www.w3.org/1999/xlink\" contentScriptType=\"application/ecmascript\" contentStyleType=\"text/css\" height=\"545px\" preserveAspectRatio=\"none\" style=\"width:566px;height:545px;\" version=\"1.1\" viewBox=\"0 0 566 545\" width=\"566px\" zoomAndPan=\"magnify\"><defs/><g><!--MD5=[fbc87193dbaf4d95561dea2c320d4a47]\n",
       "cluster E1--><a href=\"psysml:9d3e1c5c-e45c-4a85-8e75-4ee823ac8fbf\" target=\"_top\" title=\"psysml:9d3e1c5c-e45c-4a85-8e75-4ee823ac8fbf\" xlink:actuate=\"onRequest\" xlink:href=\"psysml:9d3e1c5c-e45c-4a85-8e75-4ee823ac8fbf\" xlink:show=\"new\" xlink:title=\"psysml:9d3e1c5c-e45c-4a85-8e75-4ee823ac8fbf\" xlink:type=\"simple\"><polygon fill=\"#FFFFFF\" points=\"16,6,132,6,139,28.2969,544,28.2969,544,533,16,533,16,6\" style=\"stroke: #000000; stroke-width: 1.5;\"/><line style=\"stroke: #000000; stroke-width: 1.5;\" x1=\"16\" x2=\"139\" y1=\"28.2969\" y2=\"28.2969\"/><text fill=\"#000000\" font-family=\"sans-serif\" font-size=\"14\" font-weight=\"bold\" lengthAdjust=\"spacingAndGlyphs\" textLength=\"110\" x=\"20\" y=\"20.9951\">TradeStudyTest</text></a><!--MD5=[de5ec2e2e8f62f467e546659f5068c88]\n",
       "cluster E5--><a href=\"psysml:e12e8838-d64a-4336-9e52-2de97357eae2\" target=\"_top\" title=\"psysml:e12e8838-d64a-4336-9e52-2de97357eae2\" xlink:actuate=\"onRequest\" xlink:href=\"psysml:e12e8838-d64a-4336-9e52-2de97357eae2\" xlink:show=\"new\" xlink:title=\"psysml:e12e8838-d64a-4336-9e52-2de97357eae2\" xlink:type=\"simple\"><rect fill=\"#FFFFFF\" height=\"129\" id=\"E5\" rx=\"10\" ry=\"10\" style=\"stroke: #383838; stroke-width: 1.5;\" width=\"199\" x=\"238\" y=\"57\"/><rect fill=\"#F8F8F8\" height=\"37.9375\" rx=\"10\" ry=\"10\" style=\"stroke: #F8F8F8; stroke-width: 1.5;\" width=\"199\" x=\"238\" y=\"57\"/><rect fill=\"#F8F8F8\" height=\"10\" style=\"stroke: #F8F8F8; stroke-width: 1.5;\" width=\"199\" x=\"238\" y=\"84.9375\"/><rect fill=\"none\" height=\"129\" id=\"E5\" rx=\"10\" ry=\"10\" style=\"stroke: #383838; stroke-width: 1.5;\" width=\"199\" x=\"238\" y=\"57\"/><text fill=\"#000000\" font-family=\"sans-serif\" font-size=\"12\" font-style=\"italic\" lengthAdjust=\"spacingAndGlyphs\" textLength=\"64\" x=\"305.5\" y=\"73.1387\">«analysis»</text><text fill=\"#000000\" font-family=\"sans-serif\" font-size=\"12\" lengthAdjust=\"spacingAndGlyphs\" textLength=\"114\" x=\"280.5\" y=\"87.1074\">engineTradeStudy</text><line style=\"stroke: #383838; stroke-width: 1.0;\" x1=\"238\" x2=\"437\" y1=\"94.9375\" y2=\"94.9375\"/></a><!--MD5=[b4997ac47864f28c2f74865a473b2911]\n",
       "class E2--><a href=\"psysml:956f1300-60cf-48ef-8161-7a381ae0bb8c\" target=\"_top\" title=\"psysml:956f1300-60cf-48ef-8161-7a381ae0bb8c\" xlink:actuate=\"onRequest\" xlink:href=\"psysml:956f1300-60cf-48ef-8161-7a381ae0bb8c\" xlink:show=\"new\" xlink:title=\"psysml:956f1300-60cf-48ef-8161-7a381ae0bb8c\" xlink:type=\"simple\"><rect fill=\"#FFFFFF\" height=\"45.9375\" id=\"E2\" style=\"stroke: #383838; stroke-width: 1.5;\" width=\"70\" x=\"292\" y=\"471\"/><text fill=\"#000000\" font-family=\"sans-serif\" font-size=\"12\" font-style=\"italic\" lengthAdjust=\"spacingAndGlyphs\" textLength=\"68\" x=\"293\" y=\"487.1387\">«part  def»</text><text fill=\"#000000\" font-family=\"sans-serif\" font-size=\"12\" lengthAdjust=\"spacingAndGlyphs\" textLength=\"43\" x=\"305.5\" y=\"501.1074\">Engine</text><line style=\"stroke: #383838; stroke-width: 1.5;\" x1=\"293\" x2=\"361\" y1=\"508.9375\" y2=\"508.9375\"/></a><!--MD5=[09b614a08d8cba4a07c9adeb5e0fee81]\n",
       "class E3--><a href=\"psysml:5ff7a686-dab8-41cf-8031-b7dccb26607b\" target=\"_top\" title=\"psysml:5ff7a686-dab8-41cf-8031-b7dccb26607b\" xlink:actuate=\"onRequest\" xlink:href=\"psysml:5ff7a686-dab8-41cf-8031-b7dccb26607b\" xlink:show=\"new\" xlink:title=\"psysml:5ff7a686-dab8-41cf-8031-b7dccb26607b\" xlink:type=\"simple\"><rect fill=\"#FFFFFF\" height=\"45.9375\" id=\"E3\" rx=\"10\" ry=\"10\" style=\"stroke: #383838; stroke-width: 1.5;\" width=\"112\" x=\"179\" y=\"364\"/><text fill=\"#000000\" font-family=\"sans-serif\" font-size=\"12\" font-style=\"italic\" lengthAdjust=\"spacingAndGlyphs\" textLength=\"40\" x=\"215\" y=\"380.1387\">«part»</text><text fill=\"#000000\" font-family=\"sans-serif\" font-size=\"12\" lengthAdjust=\"spacingAndGlyphs\" textLength=\"102\" x=\"182\" y=\"394.1074\">engine1: Engine</text><line style=\"stroke: #383838; stroke-width: 1.5;\" x1=\"180\" x2=\"290\" y1=\"401.9375\" y2=\"401.9375\"/></a><!--MD5=[ebbe1d658d1005bcc118a6aa81145e00]\n",
       "class E4--><a href=\"psysml:44e88bb9-9b84-4b3f-b104-23d7a257fb04\" target=\"_top\" title=\"psysml:44e88bb9-9b84-4b3f-b104-23d7a257fb04\" xlink:actuate=\"onRequest\" xlink:href=\"psysml:44e88bb9-9b84-4b3f-b104-23d7a257fb04\" xlink:show=\"new\" xlink:title=\"psysml:44e88bb9-9b84-4b3f-b104-23d7a257fb04\" xlink:type=\"simple\"><rect fill=\"#FFFFFF\" height=\"45.9375\" id=\"E4\" rx=\"10\" ry=\"10\" style=\"stroke: #383838; stroke-width: 1.5;\" width=\"112\" x=\"32\" y=\"364\"/><text fill=\"#000000\" font-family=\"sans-serif\" font-size=\"12\" font-style=\"italic\" lengthAdjust=\"spacingAndGlyphs\" textLength=\"40\" x=\"68\" y=\"380.1387\">«part»</text><text fill=\"#000000\" font-family=\"sans-serif\" font-size=\"12\" lengthAdjust=\"spacingAndGlyphs\" textLength=\"102\" x=\"35\" y=\"394.1074\">engine2: Engine</text><line style=\"stroke: #383838; stroke-width: 1.5;\" x1=\"33\" x2=\"143\" y1=\"401.9375\" y2=\"401.9375\"/></a><!--MD5=[2156ba9850f5573cc1fc38a6a4b2f02b]\n",
       "class E7--><a href=\"psysml:1fa3686a-6014-4c73-9542-2575e26fd8a7\" target=\"_top\" title=\"psysml:1fa3686a-6014-4c73-9542-2575e26fd8a7\" xlink:actuate=\"onRequest\" xlink:href=\"psysml:1fa3686a-6014-4c73-9542-2575e26fd8a7\" xlink:show=\"new\" xlink:title=\"psysml:1fa3686a-6014-4c73-9542-2575e26fd8a7\" xlink:type=\"simple\"><rect fill=\"#FFFFFF\" height=\"45.9375\" id=\"E7\" rx=\"10\" ry=\"10\" style=\"stroke: #383838; stroke-width: 1.5;\" width=\"129\" x=\"181.5\" y=\"241\"/><text fill=\"#000000\" font-family=\"sans-serif\" font-size=\"12\" font-style=\"italic\" lengthAdjust=\"spacingAndGlyphs\" textLength=\"82\" x=\"205\" y=\"257.1387\">«calculation»</text><text fill=\"#000000\" font-family=\"sans-serif\" font-size=\"12\" lengthAdjust=\"spacingAndGlyphs\" textLength=\"119\" x=\"184.5\" y=\"271.1074\">evaluationFunction</text><line style=\"stroke: #383838; stroke-width: 1.5;\" x1=\"182.5\" x2=\"309.5\" y1=\"278.9375\" y2=\"278.9375\"/></a><!--MD5=[b9389687b975829384b498ac4b7476b2]\n",
       "class E8--><a href=\"psysml:79c1d929-0a70-426e-ae6d-56e5e3e776a6\" target=\"_top\" title=\"psysml:79c1d929-0a70-426e-ae6d-56e5e3e776a6\" xlink:actuate=\"onRequest\" xlink:href=\"psysml:79c1d929-0a70-426e-ae6d-56e5e3e776a6\" xlink:show=\"new\" xlink:title=\"psysml:79c1d929-0a70-426e-ae6d-56e5e3e776a6\" xlink:type=\"simple\"><rect fill=\"#FFFFFF\" height=\"45.9375\" id=\"E8\" rx=\"10\" ry=\"10\" style=\"stroke: #383838; stroke-width: 1.5;\" width=\"128\" x=\"363\" y=\"364\"/><text fill=\"#000000\" font-family=\"sans-serif\" font-size=\"12\" font-style=\"italic\" lengthAdjust=\"spacingAndGlyphs\" textLength=\"40\" x=\"407\" y=\"380.1387\">«part»</text><text fill=\"#000000\" font-family=\"sans-serif\" font-size=\"12\" lengthAdjust=\"spacingAndGlyphs\" textLength=\"118\" x=\"366\" y=\"394.1074\">alternative: Engine</text><line style=\"stroke: #383838; stroke-width: 1.5;\" x1=\"364\" x2=\"490\" y1=\"401.9375\" y2=\"401.9375\"/></a><!--MD5=[fd4143e9d270a159db93a4ea2a975926]\n",
       "class E9--><a href=\"psysml:169f456a-e384-47f5-89e9-43fd13dd17eb\" target=\"_top\" title=\"psysml:169f456a-e384-47f5-89e9-43fd13dd17eb\" xlink:actuate=\"onRequest\" xlink:href=\"psysml:169f456a-e384-47f5-89e9-43fd13dd17eb\" xlink:show=\"new\" xlink:title=\"psysml:169f456a-e384-47f5-89e9-43fd13dd17eb\" xlink:type=\"simple\"><rect fill=\"#FFFFFF\" height=\"45.9375\" id=\"E9\" rx=\"10\" ry=\"10\" style=\"stroke: #383838; stroke-width: 1.5;\" width=\"182\" x=\"346\" y=\"241\"/><text fill=\"#000000\" font-family=\"sans-serif\" font-size=\"12\" font-style=\"italic\" lengthAdjust=\"spacingAndGlyphs\" textLength=\"40\" x=\"417\" y=\"257.1387\">«part»</text><text fill=\"#000000\" font-family=\"sans-serif\" font-size=\"12\" lengthAdjust=\"spacingAndGlyphs\" textLength=\"172\" x=\"349\" y=\"271.1074\">selectedAlternative: Engine</text><line style=\"stroke: #383838; stroke-width: 1.5;\" x1=\"347\" x2=\"527\" y1=\"278.9375\" y2=\"278.9375\"/></a><!--MD5=[60a26617385b1d2d0262a64233df1f8d]\n",
       "class E6--><a href=\"psysml:9a804e4d-bc47-4ee7-a2d8-d8527e0c1caf\" target=\"_top\" title=\"psysml:9a804e4d-bc47-4ee7-a2d8-d8527e0c1caf\" xlink:actuate=\"onRequest\" xlink:href=\"psysml:9a804e4d-bc47-4ee7-a2d8-d8527e0c1caf\" xlink:show=\"new\" xlink:title=\"psysml:9a804e4d-bc47-4ee7-a2d8-d8527e0c1caf\" xlink:type=\"simple\"><rect fill=\"#FFFFFF\" height=\"45.9375\" id=\"E6\" rx=\"10\" ry=\"10\" style=\"stroke: #383838; stroke-width: 1.5;\" width=\"132\" x=\"281\" y=\"116\"/><text fill=\"#000000\" font-family=\"sans-serif\" font-size=\"12\" font-style=\"italic\" lengthAdjust=\"spacingAndGlyphs\" textLength=\"70\" x=\"312\" y=\"132.1387\">«objective»</text><text fill=\"#000000\" font-family=\"sans-serif\" font-size=\"12\" lengthAdjust=\"spacingAndGlyphs\" textLength=\"126\" x=\"284\" y=\"146.1074\">tradeStudyObjective</text><line style=\"stroke: #383838; stroke-width: 1.5;\" x1=\"282\" x2=\"412\" y1=\"153.9375\" y2=\"153.9375\"/></a><!--MD5=[05d275557350bfb9b23a4ef7222b4c39]\n",
       "link E3 to E2--><a href=\"psysml:9be21745-fec5-4980-9af6-b796782d7969\" target=\"_top\" title=\"psysml:9be21745-fec5-4980-9af6-b796782d7969\" xlink:actuate=\"onRequest\" xlink:href=\"psysml:9be21745-fec5-4980-9af6-b796782d7969\" xlink:show=\"new\" xlink:title=\"psysml:9be21745-fec5-4980-9af6-b796782d7969\" xlink:type=\"simple\"><path d=\"M254.29,410.01 C265.74,423.08 280.57,440.01 293.86,455.17 \" fill=\"none\" id=\"E3-&gt;E2\" style=\"stroke: #383838; stroke-width: 1.0;\"/><polygon fill=\"#FFFFFF\" points=\"307.42,470.66,289.6319,460.9861,300.1599,451.7578,307.42,470.66\" style=\"stroke: #383838; stroke-width: 1.0;\"/><ellipse cx=\"287.3787\" cy=\"455.3814\" fill=\"#383838\" rx=\"2\" ry=\"2\" style=\"stroke: #383838; stroke-width: 1.0;\"/><ellipse cx=\"294.8987\" cy=\"448.7898\" fill=\"#383838\" rx=\"2\" ry=\"2\" style=\"stroke: #383838; stroke-width: 1.0;\"/></a><!--MD5=[185131fc0dcab0a4505a2ebe144e961b]\n",
       "link E4 to E2--><a href=\"psysml:1ad537aa-bda6-4221-a392-6db0b9fa994b\" target=\"_top\" title=\"psysml:1ad537aa-bda6-4221-a392-6db0b9fa994b\" xlink:actuate=\"onRequest\" xlink:href=\"psysml:1ad537aa-bda6-4221-a392-6db0b9fa994b\" xlink:show=\"new\" xlink:title=\"psysml:1ad537aa-bda6-4221-a392-6db0b9fa994b\" xlink:type=\"simple\"><path d=\"M138.1,410.01 C177.63,427.38 232.65,451.55 273.12,469.33 \" fill=\"none\" id=\"E4-&gt;E2\" style=\"stroke: #383838; stroke-width: 1.0;\"/><polygon fill=\"#FFFFFF\" points=\"291.69,477.49,271.479,476.2594,277.1083,463.4411,291.69,477.49\" style=\"stroke: #383838; stroke-width: 1.0;\"/><ellipse cx=\"267.0642\" cy=\"472.1363\" fill=\"#383838\" rx=\"2\" ry=\"2\" style=\"stroke: #383838; stroke-width: 1.0;\"/><ellipse cx=\"271.0852\" cy=\"462.9803\" fill=\"#383838\" rx=\"2\" ry=\"2\" style=\"stroke: #383838; stroke-width: 1.0;\"/></a><!--MD5=[15ebcb19ae302d9b601edb458606d402]\n",
       "link E5 to E2--><a href=\"psysml:ef23f2a8-b555-4000-b8d1-a9fc8ea83129\" target=\"_top\" title=\"psysml:ef23f2a8-b555-4000-b8d1-a9fc8ea83129\" xlink:actuate=\"onRequest\" xlink:href=\"psysml:ef23f2a8-b555-4000-b8d1-a9fc8ea83129\" xlink:show=\"new\" xlink:title=\"psysml:ef23f2a8-b555-4000-b8d1-a9fc8ea83129\" xlink:type=\"simple\"><path d=\"M237.7579,150.1502 C237.6584,150.2728 237.5582,150.3963 237.4572,150.5206 C235.8418,152.5106 234.0402,154.7298 232.0906,157.1313 C224.2925,166.7369 214.1275,179.2575 204.04,191.6825 C183.865,216.5325 164,241 164,241 C164,241 164,287 164,287 C164,287 309,364 309,364 C309,364 317.87,427.54 323.15,465.43 \" fill=\"none\" id=\"E5-&gt;E2\" style=\"stroke: #383838; stroke-width: 1.0; stroke-dasharray: 7.0,7.0;\"/><polygon fill=\"#383838\" points=\"323.91,470.82,326.6391,461.3568,323.2249,465.8672,318.7145,462.453,323.91,470.82\" style=\"stroke: #383838; stroke-width: 1.0;\"/><text fill=\"#000000\" font-family=\"sans-serif\" font-size=\"13\" lengthAdjust=\"spacingAndGlyphs\" textLength=\"62\" x=\"252\" y=\"330.0669\">«subject»</text></a><!--MD5=[452b418e7f8a40397a49b8c0a78acc5b]\n",
       "reverse link E5 to E7--><a href=\"psysml:3495a436-635c-4195-be5e-85a5d126f0e1\" target=\"_top\" title=\"psysml:3495a436-635c-4195-be5e-85a5d126f0e1\" xlink:actuate=\"onRequest\" xlink:href=\"psysml:3495a436-635c-4195-be5e-85a5d126f0e1\" xlink:show=\"new\" xlink:title=\"psysml:3495a436-635c-4195-be5e-85a5d126f0e1\" xlink:type=\"simple\"><path d=\"M246,186.2997 C246,188.9655 246,191.6719 246,194.3971 C246,199.8476 246,205.3735 246,210.8005 C246,221.6544 246,232.1125 246,240.78 \" fill=\"none\" id=\"E5&lt;-E7\" style=\"stroke: #383838; stroke-width: 1.0;\"/><polygon fill=\"#383838\" points=\"246,186.2997,242,192.2997,246,198.2997,250,192.2997,246,186.2997\" style=\"stroke: #383838; stroke-width: 1.0;\"/></a><!--MD5=[dc164f5e8a733ab456ef1add180e9e34]\n",
       "reverse link E7 to E8--><a href=\"psysml:e1d2632c-68a4-476d-b3ed-d8b6d2aaac51\" target=\"_top\" title=\"psysml:e1d2632c-68a4-476d-b3ed-d8b6d2aaac51\" xlink:actuate=\"onRequest\" xlink:href=\"psysml:e1d2632c-68a4-476d-b3ed-d8b6d2aaac51\" xlink:show=\"new\" xlink:title=\"psysml:e1d2632c-68a4-476d-b3ed-d8b6d2aaac51\" xlink:type=\"simple\"><path d=\"M290.06,294.45 C322.12,315.89 364.86,344.46 394.01,363.95 \" fill=\"none\" id=\"E7&lt;-E8\" style=\"stroke: #383838; stroke-width: 1.0;\"/><polygon fill=\"#FFFFFF\" points=\"279.2,287.19,281.9674,293.8489,289.1785,293.8555,286.4111,287.1966,279.2,287.19\" style=\"stroke: #383838; stroke-width: 1.0;\"/><text fill=\"#000000\" font-family=\"sans-serif\" font-size=\"13\" lengthAdjust=\"spacingAndGlyphs\" textLength=\"8\" x=\"376.0689\" y=\"352.8328\">1</text></a><!--MD5=[f1f3f9f2fc535e6147756cb86a7f2e32]\n",
       "link E8 to E2--><a href=\"psysml:a8ae8a0d-ad52-4d9e-986d-0c741d3467c2\" target=\"_top\" title=\"psysml:a8ae8a0d-ad52-4d9e-986d-0c741d3467c2\" xlink:actuate=\"onRequest\" xlink:href=\"psysml:a8ae8a0d-ad52-4d9e-986d-0c741d3467c2\" xlink:show=\"new\" xlink:title=\"psysml:a8ae8a0d-ad52-4d9e-986d-0c741d3467c2\" xlink:type=\"simple\"><path d=\"M406.04,410.01 C393.32,423.36 376.77,440.74 362.11,456.14 \" fill=\"none\" id=\"E8-&gt;E2\" style=\"stroke: #383838; stroke-width: 1.0;\"/><polygon fill=\"#FFFFFF\" points=\"348.28,470.66,356.3076,452.0708,366.4491,461.7223,348.28,470.66\" style=\"stroke: #383838; stroke-width: 1.0;\"/><ellipse cx=\"361.6859\" cy=\"449.3206\" fill=\"#383838\" rx=\"2\" ry=\"2\" style=\"stroke: #383838; stroke-width: 1.0;\"/><ellipse cx=\"368.9298\" cy=\"456.2144\" fill=\"#383838\" rx=\"2\" ry=\"2\" style=\"stroke: #383838; stroke-width: 1.0;\"/></a><!--MD5=[9ae28de373ca99bb8a1b38d63370ca7e]\n",
       "reverse link E5 to E9--><a href=\"psysml:1023028c-00c5-4dde-9329-e4b02befe1ab\" target=\"_top\" title=\"psysml:1023028c-00c5-4dde-9329-e4b02befe1ab\" xlink:actuate=\"onRequest\" xlink:href=\"psysml:1023028c-00c5-4dde-9329-e4b02befe1ab\" xlink:show=\"new\" xlink:title=\"psysml:1023028c-00c5-4dde-9329-e4b02befe1ab\" xlink:type=\"simple\"><path d=\"M260.141,186.1434 C260.2057,186.3545 260.27,186.5643 260.3339,186.7729 C260.4617,187.1899 260.5879,187.6018 260.7124,188.0081 C261.2104,189.633 261.6806,191.1677 262.1144,192.5831 C263.8494,198.245 265,202 265,202 C265,202 325.64,223.5 374.9,240.98 \" fill=\"none\" id=\"E5&lt;-E9\" style=\"stroke: #383838; stroke-width: 1.0;\"/><polygon fill=\"#FFFFFF\" points=\"260.141,186.1434,258.0745,193.0521,263.6569,197.6168,265.7234,190.7081,260.141,186.1434\" style=\"stroke: #383838; stroke-width: 1.0;\"/><text fill=\"#000000\" font-family=\"sans-serif\" font-size=\"13\" lengthAdjust=\"spacingAndGlyphs\" textLength=\"8\" x=\"349.1356\" y=\"229.8709\">1</text></a><!--MD5=[5c3bb36fe832a92c7f0e1807dd65209d]\n",
       "link E9 to E2--><a href=\"psysml:d6cd1bf0-a8ac-42a9-91c6-4adc5d4642e7\" target=\"_top\" title=\"psysml:d6cd1bf0-a8ac-42a9-91c6-4adc5d4642e7\" xlink:actuate=\"onRequest\" xlink:href=\"psysml:d6cd1bf0-a8ac-42a9-91c6-4adc5d4642e7\" xlink:show=\"new\" xlink:title=\"psysml:d6cd1bf0-a8ac-42a9-91c6-4adc5d4642e7\" xlink:type=\"simple\"><path d=\"M453.34,287.46 C474.58,316.67 509,364 509,364 C509,364 509,410 509,410 C509,410 434.09,444.16 380.39,468.65 \" fill=\"none\" id=\"E9-&gt;E2\" style=\"stroke: #383838; stroke-width: 1.0;\"/><polygon fill=\"#FFFFFF\" points=\"362.09,477,376.4727,462.7473,382.2817,475.4852,362.09,477\" style=\"stroke: #383838; stroke-width: 1.0;\"/><ellipse cx=\"382.4887\" cy=\"462.2019\" fill=\"#383838\" rx=\"2\" ry=\"2\" style=\"stroke: #383838; stroke-width: 1.0;\"/><ellipse cx=\"386.638\" cy=\"471.3004\" fill=\"#383838\" rx=\"2\" ry=\"2\" style=\"stroke: #383838; stroke-width: 1.0;\"/></a><!--MD5=[722f97c84713cc5d8f9a8c30c6fe54e4]\n",
       "@startuml\r\n",
       "skinparam linetype polyline\r\n",
       "skinparam monochrome true\r\n",
       "skinparam classbackgroundcolor white\r\n",
       "skinparam shadowing false\r\n",
       "skinparam wrapWidth 300\r\n",
       "hide circle\r\n",
       "\r\n",
       "package \"TradeStudyTest\" as E1  [[psysml:9d3e1c5c-e45c-4a85-8e75-4ee823ac8fbf ]]  {\r\n",
       "comp def \"Engine\" as E2  <<(T,blue) part  def>> [[psysml:956f1300-60cf-48ef-8161-7a381ae0bb8c ]] {\r\n",
       "}\r\n",
       "comp usage \"engine1: Engine \" as E3  <<(T,blue) part>> [[psysml:5ff7a686-dab8-41cf-8031-b7dccb26607b ]] {\r\n",
       "}\r\n",
       "comp usage \"engine2: Engine \" as E4  <<(T,blue) part>> [[psysml:44e88bb9-9b84-4b3f-b104-23d7a257fb04 ]] {\r\n",
       "}\r\n",
       "rec usage \"engineTradeStudy\" as E5 << analysis>> [[psysml:e12e8838-d64a-4336-9e52-2de97357eae2 ]] {\r\n",
       "comp usage \"tradeStudyObjective\" as E6  <<objective>> [[psysml:9a804e4d-bc47-4ee7-a2d8-d8527e0c1caf ]] {\r\n",
       "}\r\n",
       "}\r\n",
       "comp usage \"evaluationFunction \" as E7  <<(T,blue) calculation>> [[psysml:1fa3686a-6014-4c73-9542-2575e26fd8a7 ]] {\r\n",
       "}\r\n",
       "comp usage \"alternative: Engine \" as E8  <<(T,blue) part>> [[psysml:79c1d929-0a70-426e-ae6d-56e5e3e776a6 ]] {\r\n",
       "}\r\n",
       "comp usage \"selectedAlternative: Engine \" as E9  <<(T,blue) part>> [[psysml:169f456a-e384-47f5-89e9-43fd13dd17eb ]] {\r\n",
       "}\r\n",
       "}\r\n",
       "E3 - -:|> E2 [[psysml:9be21745-fec5-4980-9af6-b796782d7969 ]] \r\n",
       "E4 - -:|> E2 [[psysml:1ad537aa-bda6-4221-a392-6db0b9fa994b ]] \r\n",
       "E5 ..> E2 [[psysml:ef23f2a8-b555-4000-b8d1-a9fc8ea83129 ]] : <<subject>>\r\n",
       "E5 *- - E7 [[psysml:3495a436-635c-4195-be5e-85a5d126f0e1 ]] \r\n",
       "E7 o- - \"1\"E8 [[psysml:e1d2632c-68a4-476d-b3ed-d8b6d2aaac51 ]] \r\n",
       "E8 - -:|> E2 [[psysml:a8ae8a0d-ad52-4d9e-986d-0c741d3467c2 ]] \r\n",
       "E5 o- - \"1\"E9 [[psysml:1023028c-00c5-4dde-9329-e4b02befe1ab ]] \r\n",
       "E9 - -:|> E2 [[psysml:d6cd1bf0-a8ac-42a9-91c6-4adc5d4642e7 ]] \r\n",
       "@enduml\r\n",
       "\n",
       "PlantUML version 1.2020.13(Sat Jun 13 12:26:38 UTC 2020)\n",
       "(EPL source distribution)\n",
       "Java Runtime: OpenJDK Runtime Environment\n",
       "JVM: OpenJDK 64-Bit Server VM\n",
       "Default Encoding: UTF-8\n",
       "Language: en\n",
       "Country: null\n",
       "--></g></svg>"
      ]
     },
     "execution_count": 9,
     "metadata": {},
     "output_type": "execute_result"
    }
   ],
   "source": [
    "%viz --style=\"POLYLINE\" --view=\"Default\" \"TradeStudyTest\""
   ]
  },
  {
   "cell_type": "code",
   "execution_count": 10,
   "id": "740a75d5",
   "metadata": {
    "execution": {
     "iopub.execute_input": "2022-02-18T10:50:35.245650Z",
     "iopub.status.busy": "2022-02-18T10:50:35.245232Z",
     "iopub.status.idle": "2022-02-18T10:50:35.304701Z",
     "shell.execute_reply": "2022-02-18T10:50:35.304334Z"
    }
   },
   "outputs": [
    {
     "data": {
      "image/svg+xml": [
       "<?xml version=\"1.0\" encoding=\"UTF-8\" standalone=\"no\"?><svg xmlns=\"http://www.w3.org/2000/svg\" xmlns:xlink=\"http://www.w3.org/1999/xlink\" contentScriptType=\"application/ecmascript\" contentStyleType=\"text/css\" height=\"497px\" preserveAspectRatio=\"none\" style=\"width:566px;height:497px;\" version=\"1.1\" viewBox=\"0 0 566 497\" width=\"566px\" zoomAndPan=\"magnify\"><defs/><g><!--MD5=[fbc87193dbaf4d95561dea2c320d4a47]\n",
       "cluster E1--><a href=\"psysml:9d3e1c5c-e45c-4a85-8e75-4ee823ac8fbf\" target=\"_top\" title=\"psysml:9d3e1c5c-e45c-4a85-8e75-4ee823ac8fbf\" xlink:actuate=\"onRequest\" xlink:href=\"psysml:9d3e1c5c-e45c-4a85-8e75-4ee823ac8fbf\" xlink:show=\"new\" xlink:title=\"psysml:9d3e1c5c-e45c-4a85-8e75-4ee823ac8fbf\" xlink:type=\"simple\"><polygon fill=\"#FFFFFF\" points=\"16,6,132,6,139,28.2969,544,28.2969,544,485,16,485,16,6\" style=\"stroke: #000000; stroke-width: 1.5;\"/><line style=\"stroke: #000000; stroke-width: 1.5;\" x1=\"16\" x2=\"139\" y1=\"28.2969\" y2=\"28.2969\"/><text fill=\"#000000\" font-family=\"sans-serif\" font-size=\"14\" font-weight=\"bold\" lengthAdjust=\"spacingAndGlyphs\" textLength=\"110\" x=\"20\" y=\"20.9951\">TradeStudyTest</text></a><!--MD5=[b4997ac47864f28c2f74865a473b2911]\n",
       "class E2--><a href=\"psysml:956f1300-60cf-48ef-8161-7a381ae0bb8c\" target=\"_top\" title=\"psysml:956f1300-60cf-48ef-8161-7a381ae0bb8c\" xlink:actuate=\"onRequest\" xlink:href=\"psysml:956f1300-60cf-48ef-8161-7a381ae0bb8c\" xlink:show=\"new\" xlink:title=\"psysml:956f1300-60cf-48ef-8161-7a381ae0bb8c\" xlink:type=\"simple\"><rect fill=\"#FFFFFF\" height=\"45.9375\" id=\"E2\" style=\"stroke: #383838; stroke-width: 1.5;\" width=\"70\" x=\"198\" y=\"423\"/><text fill=\"#000000\" font-family=\"sans-serif\" font-size=\"12\" font-style=\"italic\" lengthAdjust=\"spacingAndGlyphs\" textLength=\"68\" x=\"199\" y=\"439.1387\">«part  def»</text><text fill=\"#000000\" font-family=\"sans-serif\" font-size=\"12\" lengthAdjust=\"spacingAndGlyphs\" textLength=\"43\" x=\"211.5\" y=\"453.1074\">Engine</text><line style=\"stroke: #383838; stroke-width: 1.5;\" x1=\"199\" x2=\"267\" y1=\"460.9375\" y2=\"460.9375\"/></a><!--MD5=[09b614a08d8cba4a07c9adeb5e0fee81]\n",
       "class E3--><a href=\"psysml:5ff7a686-dab8-41cf-8031-b7dccb26607b\" target=\"_top\" title=\"psysml:5ff7a686-dab8-41cf-8031-b7dccb26607b\" xlink:actuate=\"onRequest\" xlink:href=\"psysml:5ff7a686-dab8-41cf-8031-b7dccb26607b\" xlink:show=\"new\" xlink:title=\"psysml:5ff7a686-dab8-41cf-8031-b7dccb26607b\" xlink:type=\"simple\"><rect fill=\"#FFFFFF\" height=\"45.9375\" id=\"E3\" rx=\"10\" ry=\"10\" style=\"stroke: #383838; stroke-width: 1.5;\" width=\"112\" x=\"416\" y=\"316\"/><text fill=\"#000000\" font-family=\"sans-serif\" font-size=\"12\" font-style=\"italic\" lengthAdjust=\"spacingAndGlyphs\" textLength=\"40\" x=\"452\" y=\"332.1387\">«part»</text><text fill=\"#000000\" font-family=\"sans-serif\" font-size=\"12\" lengthAdjust=\"spacingAndGlyphs\" textLength=\"102\" x=\"419\" y=\"346.1074\">engine1: Engine</text><line style=\"stroke: #383838; stroke-width: 1.5;\" x1=\"417\" x2=\"527\" y1=\"353.9375\" y2=\"353.9375\"/></a><!--MD5=[ebbe1d658d1005bcc118a6aa81145e00]\n",
       "class E4--><a href=\"psysml:44e88bb9-9b84-4b3f-b104-23d7a257fb04\" target=\"_top\" title=\"psysml:44e88bb9-9b84-4b3f-b104-23d7a257fb04\" xlink:actuate=\"onRequest\" xlink:href=\"psysml:44e88bb9-9b84-4b3f-b104-23d7a257fb04\" xlink:show=\"new\" xlink:title=\"psysml:44e88bb9-9b84-4b3f-b104-23d7a257fb04\" xlink:type=\"simple\"><rect fill=\"#FFFFFF\" height=\"45.9375\" id=\"E4\" rx=\"10\" ry=\"10\" style=\"stroke: #383838; stroke-width: 1.5;\" width=\"112\" x=\"269\" y=\"316\"/><text fill=\"#000000\" font-family=\"sans-serif\" font-size=\"12\" font-style=\"italic\" lengthAdjust=\"spacingAndGlyphs\" textLength=\"40\" x=\"305\" y=\"332.1387\">«part»</text><text fill=\"#000000\" font-family=\"sans-serif\" font-size=\"12\" lengthAdjust=\"spacingAndGlyphs\" textLength=\"102\" x=\"272\" y=\"346.1074\">engine2: Engine</text><line style=\"stroke: #383838; stroke-width: 1.5;\" x1=\"270\" x2=\"380\" y1=\"353.9375\" y2=\"353.9375\"/></a><!--MD5=[270fce915f116d4de14055a7c1d9a0f3]\n",
       "class E5--><a href=\"psysml:e12e8838-d64a-4336-9e52-2de97357eae2\" target=\"_top\" title=\"psysml:e12e8838-d64a-4336-9e52-2de97357eae2\" xlink:actuate=\"onRequest\" xlink:href=\"psysml:e12e8838-d64a-4336-9e52-2de97357eae2\" xlink:show=\"new\" xlink:title=\"psysml:e12e8838-d64a-4336-9e52-2de97357eae2\" xlink:type=\"simple\"><rect fill=\"#FFFFFF\" height=\"45.9375\" id=\"E5\" rx=\"10\" ry=\"10\" style=\"stroke: #383838; stroke-width: 1.5;\" width=\"203\" x=\"238.5\" y=\"41\"/><text fill=\"#000000\" font-family=\"sans-serif\" font-size=\"12\" font-style=\"italic\" lengthAdjust=\"spacingAndGlyphs\" textLength=\"64\" x=\"308\" y=\"57.1387\">«analysis»</text><text fill=\"#000000\" font-family=\"sans-serif\" font-size=\"12\" lengthAdjust=\"spacingAndGlyphs\" textLength=\"193\" x=\"241.5\" y=\"71.1074\">engineTradeStudy: TradeStudy</text><line style=\"stroke: #383838; stroke-width: 1.5;\" x1=\"239.5\" x2=\"440.5\" y1=\"78.9375\" y2=\"78.9375\"/></a><!--MD5=[60a26617385b1d2d0262a64233df1f8d]\n",
       "class E6--><a href=\"psysml:9a804e4d-bc47-4ee7-a2d8-d8527e0c1caf\" target=\"_top\" title=\"psysml:9a804e4d-bc47-4ee7-a2d8-d8527e0c1caf\" xlink:actuate=\"onRequest\" xlink:href=\"psysml:9a804e4d-bc47-4ee7-a2d8-d8527e0c1caf\" xlink:show=\"new\" xlink:title=\"psysml:9a804e4d-bc47-4ee7-a2d8-d8527e0c1caf\" xlink:type=\"simple\"><rect fill=\"#FFFFFF\" height=\"45.9375\" id=\"E6\" rx=\"10\" ry=\"10\" style=\"stroke: #383838; stroke-width: 1.5;\" width=\"255\" x=\"71.5\" y=\"164\"/><text fill=\"#000000\" font-family=\"sans-serif\" font-size=\"12\" font-style=\"italic\" lengthAdjust=\"spacingAndGlyphs\" textLength=\"91\" x=\"153.5\" y=\"180.1387\">«requirement»</text><text fill=\"#000000\" font-family=\"sans-serif\" font-size=\"12\" lengthAdjust=\"spacingAndGlyphs\" textLength=\"245\" x=\"74.5\" y=\"194.1074\">tradeStudyObjective: MaximizeObjective</text><line style=\"stroke: #383838; stroke-width: 1.5;\" x1=\"72.5\" x2=\"325.5\" y1=\"201.9375\" y2=\"201.9375\"/></a><!--MD5=[2156ba9850f5573cc1fc38a6a4b2f02b]\n",
       "class E7--><a href=\"psysml:1fa3686a-6014-4c73-9542-2575e26fd8a7\" target=\"_top\" title=\"psysml:1fa3686a-6014-4c73-9542-2575e26fd8a7\" xlink:actuate=\"onRequest\" xlink:href=\"psysml:1fa3686a-6014-4c73-9542-2575e26fd8a7\" xlink:show=\"new\" xlink:title=\"psysml:1fa3686a-6014-4c73-9542-2575e26fd8a7\" xlink:type=\"simple\"><rect fill=\"#FFFFFF\" height=\"45.9375\" id=\"E7\" rx=\"10\" ry=\"10\" style=\"stroke: #383838; stroke-width: 1.5;\" width=\"129\" x=\"361.5\" y=\"164\"/><text fill=\"#000000\" font-family=\"sans-serif\" font-size=\"12\" font-style=\"italic\" lengthAdjust=\"spacingAndGlyphs\" textLength=\"82\" x=\"385\" y=\"180.1387\">«calculation»</text><text fill=\"#000000\" font-family=\"sans-serif\" font-size=\"12\" lengthAdjust=\"spacingAndGlyphs\" textLength=\"119\" x=\"364.5\" y=\"194.1074\">evaluationFunction</text><line style=\"stroke: #383838; stroke-width: 1.5;\" x1=\"362.5\" x2=\"489.5\" y1=\"201.9375\" y2=\"201.9375\"/></a><!--MD5=[b9389687b975829384b498ac4b7476b2]\n",
       "class E8--><a href=\"psysml:79c1d929-0a70-426e-ae6d-56e5e3e776a6\" target=\"_top\" title=\"psysml:79c1d929-0a70-426e-ae6d-56e5e3e776a6\" xlink:actuate=\"onRequest\" xlink:href=\"psysml:79c1d929-0a70-426e-ae6d-56e5e3e776a6\" xlink:show=\"new\" xlink:title=\"psysml:79c1d929-0a70-426e-ae6d-56e5e3e776a6\" xlink:type=\"simple\"><rect fill=\"#FFFFFF\" height=\"45.9375\" id=\"E8\" rx=\"10\" ry=\"10\" style=\"stroke: #383838; stroke-width: 1.5;\" width=\"128\" x=\"69\" y=\"316\"/><text fill=\"#000000\" font-family=\"sans-serif\" font-size=\"12\" font-style=\"italic\" lengthAdjust=\"spacingAndGlyphs\" textLength=\"40\" x=\"113\" y=\"332.1387\">«part»</text><text fill=\"#000000\" font-family=\"sans-serif\" font-size=\"12\" lengthAdjust=\"spacingAndGlyphs\" textLength=\"118\" x=\"72\" y=\"346.1074\">alternative: Engine</text><line style=\"stroke: #383838; stroke-width: 1.5;\" x1=\"70\" x2=\"196\" y1=\"353.9375\" y2=\"353.9375\"/></a><!--MD5=[fd4143e9d270a159db93a4ea2a975926]\n",
       "class E9--><a href=\"psysml:169f456a-e384-47f5-89e9-43fd13dd17eb\" target=\"_top\" title=\"psysml:169f456a-e384-47f5-89e9-43fd13dd17eb\" xlink:actuate=\"onRequest\" xlink:href=\"psysml:169f456a-e384-47f5-89e9-43fd13dd17eb\" xlink:show=\"new\" xlink:title=\"psysml:169f456a-e384-47f5-89e9-43fd13dd17eb\" xlink:type=\"simple\"><rect fill=\"#FFFFFF\" height=\"45.9375\" id=\"E9\" rx=\"10\" ry=\"10\" style=\"stroke: #383838; stroke-width: 1.5;\" width=\"182\" x=\"295\" y=\"240\"/><text fill=\"#000000\" font-family=\"sans-serif\" font-size=\"12\" font-style=\"italic\" lengthAdjust=\"spacingAndGlyphs\" textLength=\"40\" x=\"366\" y=\"256.1387\">«part»</text><text fill=\"#000000\" font-family=\"sans-serif\" font-size=\"12\" lengthAdjust=\"spacingAndGlyphs\" textLength=\"172\" x=\"298\" y=\"270.1074\">selectedAlternative: Engine</text><line style=\"stroke: #383838; stroke-width: 1.5;\" x1=\"296\" x2=\"476\" y1=\"277.9375\" y2=\"277.9375\"/></a><!--MD5=[05d275557350bfb9b23a4ef7222b4c39]\n",
       "link E3 to E2--><a href=\"psysml:9be21745-fec5-4980-9af6-b796782d7969\" target=\"_top\" title=\"psysml:9be21745-fec5-4980-9af6-b796782d7969\" xlink:actuate=\"onRequest\" xlink:href=\"psysml:9be21745-fec5-4980-9af6-b796782d7969\" xlink:show=\"new\" xlink:title=\"psysml:9be21745-fec5-4980-9af6-b796782d7969\" xlink:type=\"simple\"><path d=\"M421.9,362.01 C382.37,379.38 327.35,403.55 286.88,421.33 \" fill=\"none\" id=\"E3-&gt;E2\" style=\"stroke: #383838; stroke-width: 1.0;\"/><polygon fill=\"#FFFFFF\" points=\"268.31,429.49,282.8917,415.4411,288.521,428.2594,268.31,429.49\" style=\"stroke: #383838; stroke-width: 1.0;\"/><ellipse cx=\"288.9148\" cy=\"414.9803\" fill=\"#383838\" rx=\"2\" ry=\"2\" style=\"stroke: #383838; stroke-width: 1.0;\"/><ellipse cx=\"292.9358\" cy=\"424.1363\" fill=\"#383838\" rx=\"2\" ry=\"2\" style=\"stroke: #383838; stroke-width: 1.0;\"/></a><!--MD5=[185131fc0dcab0a4505a2ebe144e961b]\n",
       "link E4 to E2--><a href=\"psysml:1ad537aa-bda6-4221-a392-6db0b9fa994b\" target=\"_top\" title=\"psysml:1ad537aa-bda6-4221-a392-6db0b9fa994b\" xlink:actuate=\"onRequest\" xlink:href=\"psysml:1ad537aa-bda6-4221-a392-6db0b9fa994b\" xlink:show=\"new\" xlink:title=\"psysml:1ad537aa-bda6-4221-a392-6db0b9fa994b\" xlink:type=\"simple\"><path d=\"M305.71,362.01 C294.26,375.08 279.43,392.01 266.14,407.17 \" fill=\"none\" id=\"E4-&gt;E2\" style=\"stroke: #383838; stroke-width: 1.0;\"/><polygon fill=\"#FFFFFF\" points=\"252.58,422.66,259.8401,403.7578,270.3681,412.9861,252.58,422.66\" style=\"stroke: #383838; stroke-width: 1.0;\"/><ellipse cx=\"265.1013\" cy=\"400.7898\" fill=\"#383838\" rx=\"2\" ry=\"2\" style=\"stroke: #383838; stroke-width: 1.0;\"/><ellipse cx=\"272.6213\" cy=\"407.3814\" fill=\"#383838\" rx=\"2\" ry=\"2\" style=\"stroke: #383838; stroke-width: 1.0;\"/></a><!--MD5=[15ebcb19ae302d9b601edb458606d402]\n",
       "link E5 to E2--><a href=\"psysml:ef23f2a8-b555-4000-b8d1-a9fc8ea83129\" target=\"_top\" title=\"psysml:ef23f2a8-b555-4000-b8d1-a9fc8ea83129\" xlink:actuate=\"onRequest\" xlink:href=\"psysml:ef23f2a8-b555-4000-b8d1-a9fc8ea83129\" xlink:show=\"new\" xlink:title=\"psysml:ef23f2a8-b555-4000-b8d1-a9fc8ea83129\" xlink:type=\"simple\"><path d=\"M276.17,87.09 C191.88,116.27 54,164 54,164 C54,164 51,316 51,316 C51,316 51,362 51,362 C51,362 139.59,402.4 193.16,426.83 \" fill=\"none\" id=\"E5-&gt;E2\" style=\"stroke: #383838; stroke-width: 1.0; stroke-dasharray: 7.0,7.0;\"/><polygon fill=\"#383838\" points=\"197.91,429,191.3998,421.6096,193.366,426.9138,188.0619,428.88,197.91,429\" style=\"stroke: #383838; stroke-width: 1.0;\"/><text fill=\"#000000\" font-family=\"sans-serif\" font-size=\"13\" lengthAdjust=\"spacingAndGlyphs\" textLength=\"62\" x=\"54\" y=\"267.5669\">«subject»</text></a><!--MD5=[9120cf2e5df3bff93db8f754bbbc09b4]\n",
       "link E5 to E6--><a href=\"psysml:82bd6807-74bc-4e7b-a156-dc2ad55e2000\" target=\"_top\" title=\"psysml:82bd6807-74bc-4e7b-a156-dc2ad55e2000\" xlink:actuate=\"onRequest\" xlink:href=\"psysml:82bd6807-74bc-4e7b-a156-dc2ad55e2000\" xlink:show=\"new\" xlink:title=\"psysml:82bd6807-74bc-4e7b-a156-dc2ad55e2000\" xlink:type=\"simple\"><path d=\"M314.14,87.19 C290.69,107.32 256.04,137.06 230.88,158.64 \" fill=\"none\" id=\"E5-&gt;E6\" style=\"stroke: #383838; stroke-width: 1.0;\"/><polygon fill=\"#383838\" points=\"224.7,163.95,232.7276,161.0246,228.8246,156.4675,224.7,163.95\" style=\"stroke: #383838; stroke-width: 1.0;\"/><text fill=\"#000000\" font-family=\"sans-serif\" font-size=\"13\" lengthAdjust=\"spacingAndGlyphs\" textLength=\"73\" x=\"278\" y=\"130.0669\">«objective»</text></a><!--MD5=[452b418e7f8a40397a49b8c0a78acc5b]\n",
       "reverse link E5 to E7--><a href=\"psysml:3495a436-635c-4195-be5e-85a5d126f0e1\" target=\"_top\" title=\"psysml:3495a436-635c-4195-be5e-85a5d126f0e1\" xlink:actuate=\"onRequest\" xlink:href=\"psysml:3495a436-635c-4195-be5e-85a5d126f0e1\" xlink:show=\"new\" xlink:title=\"psysml:3495a436-635c-4195-be5e-85a5d126f0e1\" xlink:type=\"simple\"><path d=\"M363.37,97.88 C378.28,118.86 397.2,145.48 410.33,163.95 \" fill=\"none\" id=\"E5&lt;-E7\" style=\"stroke: #383838; stroke-width: 1.0;\"/><polygon fill=\"#383838\" points=\"355.77,87.19,355.9942,94.3976,362.7336,96.9628,362.5094,89.7552,355.77,87.19\" style=\"stroke: #383838; stroke-width: 1.0;\"/></a><!--MD5=[dc164f5e8a733ab456ef1add180e9e34]\n",
       "reverse link E7 to E8--><a href=\"psysml:e1d2632c-68a4-476d-b3ed-d8b6d2aaac51\" target=\"_top\" title=\"psysml:e1d2632c-68a4-476d-b3ed-d8b6d2aaac51\" xlink:actuate=\"onRequest\" xlink:href=\"psysml:e1d2632c-68a4-476d-b3ed-d8b6d2aaac51\" xlink:show=\"new\" xlink:title=\"psysml:e1d2632c-68a4-476d-b3ed-d8b6d2aaac51\" xlink:type=\"simple\"><path d=\"M350.86,214.4 C314.24,227.27 278,240 278,240 C278,240 208.68,286.85 165.9,315.76 \" fill=\"none\" id=\"E7&lt;-E8\" style=\"stroke: #383838; stroke-width: 1.0;\"/><polygon fill=\"#FFFFFF\" points=\"363.23,210.05,356.2423,208.269,351.9107,214.0342,358.8984,215.8152,363.23,210.05\" style=\"stroke: #383838; stroke-width: 1.0;\"/><text fill=\"#000000\" font-family=\"sans-serif\" font-size=\"13\" lengthAdjust=\"spacingAndGlyphs\" textLength=\"8\" x=\"165.3056\" y=\"304.9748\">1</text></a><!--MD5=[f1f3f9f2fc535e6147756cb86a7f2e32]\n",
       "link E8 to E2--><a href=\"psysml:a8ae8a0d-ad52-4d9e-986d-0c741d3467c2\" target=\"_top\" title=\"psysml:a8ae8a0d-ad52-4d9e-986d-0c741d3467c2\" xlink:actuate=\"onRequest\" xlink:href=\"psysml:a8ae8a0d-ad52-4d9e-986d-0c741d3467c2\" xlink:show=\"new\" xlink:title=\"psysml:a8ae8a0d-ad52-4d9e-986d-0c741d3467c2\" xlink:type=\"simple\"><path d=\"M153.96,362.01 C166.68,375.36 183.23,392.74 197.89,408.14 \" fill=\"none\" id=\"E8-&gt;E2\" style=\"stroke: #383838; stroke-width: 1.0;\"/><polygon fill=\"#FFFFFF\" points=\"211.72,422.66,193.5509,413.7223,203.6924,404.0708,211.72,422.66\" style=\"stroke: #383838; stroke-width: 1.0;\"/><ellipse cx=\"191.0702\" cy=\"408.2144\" fill=\"#383838\" rx=\"2\" ry=\"2\" style=\"stroke: #383838; stroke-width: 1.0;\"/><ellipse cx=\"198.3141\" cy=\"401.3206\" fill=\"#383838\" rx=\"2\" ry=\"2\" style=\"stroke: #383838; stroke-width: 1.0;\"/></a><!--MD5=[9ae28de373ca99bb8a1b38d63370ca7e]\n",
       "reverse link E5 to E9--><a href=\"psysml:1023028c-00c5-4dde-9329-e4b02befe1ab\" target=\"_top\" title=\"psysml:1023028c-00c5-4dde-9329-e4b02befe1ab\" xlink:actuate=\"onRequest\" xlink:href=\"psysml:1023028c-00c5-4dde-9329-e4b02befe1ab\" xlink:show=\"new\" xlink:title=\"psysml:1023028c-00c5-4dde-9329-e4b02befe1ab\" xlink:type=\"simple\"><path d=\"M389.2,93.99 C438.78,123.21 508,164 508,164 C508,164 508,210 508,210 C508,210 470.99,225.77 437.74,239.95 \" fill=\"none\" id=\"E5&lt;-E9\" style=\"stroke: #383838; stroke-width: 1.0;\"/><polygon fill=\"#FFFFFF\" points=\"377.7,87.22,380.8385,93.7123,388.0385,93.3123,384.9,86.82,377.7,87.22\" style=\"stroke: #383838; stroke-width: 1.0;\"/><text fill=\"#000000\" font-family=\"sans-serif\" font-size=\"13\" lengthAdjust=\"spacingAndGlyphs\" textLength=\"8\" x=\"442.5701\" y=\"228.8328\">1</text></a><!--MD5=[5c3bb36fe832a92c7f0e1807dd65209d]\n",
       "link E9 to E2--><a href=\"psysml:d6cd1bf0-a8ac-42a9-91c6-4adc5d4642e7\" target=\"_top\" title=\"psysml:d6cd1bf0-a8ac-42a9-91c6-4adc5d4642e7\" xlink:actuate=\"onRequest\" xlink:href=\"psysml:d6cd1bf0-a8ac-42a9-91c6-4adc5d4642e7\" xlink:show=\"new\" xlink:title=\"psysml:d6cd1bf0-a8ac-42a9-91c6-4adc5d4642e7\" xlink:type=\"simple\"><path d=\"M329.17,286.05 C292.65,300.23 252,316 252,316 C252,316 244.73,365.33 239.19,402.98 \" fill=\"none\" id=\"E9-&gt;E2\" style=\"stroke: #383838; stroke-width: 1.0;\"/><polygon fill=\"#FFFFFF\" points=\"236.27,422.82,232.1134,403.0028,245.964,405.0429,236.27,422.82\" style=\"stroke: #383838; stroke-width: 1.0;\"/><ellipse cx=\"234.9227\" cy=\"397.6551\" fill=\"#383838\" rx=\"2\" ry=\"2\" style=\"stroke: #383838; stroke-width: 1.0;\"/><ellipse cx=\"244.8159\" cy=\"399.1123\" fill=\"#383838\" rx=\"2\" ry=\"2\" style=\"stroke: #383838; stroke-width: 1.0;\"/></a><!--MD5=[48cd9c989d8c7c8507e8ba68fe980bbd]\n",
       "@startuml\r\n",
       "skinparam linetype polyline\r\n",
       "skinparam monochrome true\r\n",
       "skinparam classbackgroundcolor white\r\n",
       "skinparam shadowing false\r\n",
       "skinparam wrapWidth 300\r\n",
       "hide circle\r\n",
       "\r\n",
       "package \"TradeStudyTest\" as E1  [[psysml:9d3e1c5c-e45c-4a85-8e75-4ee823ac8fbf ]]  {\r\n",
       "comp def \"Engine\" as E2  <<(T,blue) part  def>> [[psysml:956f1300-60cf-48ef-8161-7a381ae0bb8c ]] {\r\n",
       "}\r\n",
       "comp usage \"engine1: Engine \" as E3  <<(T,blue) part>> [[psysml:5ff7a686-dab8-41cf-8031-b7dccb26607b ]] {\r\n",
       "}\r\n",
       "comp usage \"engine2: Engine \" as E4  <<(T,blue) part>> [[psysml:44e88bb9-9b84-4b3f-b104-23d7a257fb04 ]] {\r\n",
       "}\r\n",
       "comp usage \"engineTradeStudy: TradeStudy \" as E5 << analysis>> [[psysml:e12e8838-d64a-4336-9e52-2de97357eae2 ]] {\r\n",
       "}\r\n",
       "comp usage \"tradeStudyObjective: MaximizeObjective \" as E6  <<(T,blue) requirement>> [[psysml:9a804e4d-bc47-4ee7-a2d8-d8527e0c1caf ]] {\r\n",
       "}\r\n",
       "comp usage \"evaluationFunction \" as E7  <<(T,blue) calculation>> [[psysml:1fa3686a-6014-4c73-9542-2575e26fd8a7 ]] {\r\n",
       "}\r\n",
       "comp usage \"alternative: Engine \" as E8  <<(T,blue) part>> [[psysml:79c1d929-0a70-426e-ae6d-56e5e3e776a6 ]] {\r\n",
       "}\r\n",
       "comp usage \"selectedAlternative: Engine \" as E9  <<(T,blue) part>> [[psysml:169f456a-e384-47f5-89e9-43fd13dd17eb ]] {\r\n",
       "}\r\n",
       "}\r\n",
       "E3 - -:|> E2 [[psysml:9be21745-fec5-4980-9af6-b796782d7969 ]] \r\n",
       "E4 - -:|> E2 [[psysml:1ad537aa-bda6-4221-a392-6db0b9fa994b ]] \r\n",
       "E5 ..> E2 [[psysml:ef23f2a8-b555-4000-b8d1-a9fc8ea83129 ]] : <<subject>>\r\n",
       "E5 - ->> E6 [[psysml:82bd6807-74bc-4e7b-a156-dc2ad55e2000 ]] : <<objective>>\r\n",
       "E5 *- - E7 [[psysml:3495a436-635c-4195-be5e-85a5d126f0e1 ]] \r\n",
       "E7 o- - \"1\"E8 [[psysml:e1d2632c-68a4-476d-b3ed-d8b6d2aaac51 ]] \r\n",
       "E8 - -:|> E2 [[psysml:a8ae8a0d-ad52-4d9e-986d-0c741d3467c2 ]] \r\n",
       "E5 o- - \"1\"E9 [[psysml:1023028c-00c5-4dde-9329-e4b02befe1ab ]] \r\n",
       "E9 - -:|> E2 [[psysml:d6cd1bf0-a8ac-42a9-91c6-4adc5d4642e7 ]] \r\n",
       "@enduml\r\n",
       "\n",
       "PlantUML version 1.2020.13(Sat Jun 13 12:26:38 UTC 2020)\n",
       "(EPL source distribution)\n",
       "Java Runtime: OpenJDK Runtime Environment\n",
       "JVM: OpenJDK 64-Bit Server VM\n",
       "Default Encoding: UTF-8\n",
       "Language: en\n",
       "Country: null\n",
       "--></g></svg>"
      ]
     },
     "execution_count": 10,
     "metadata": {},
     "output_type": "execute_result"
    }
   ],
   "source": [
    "%viz --style=\"POLYLINE\" --view=\"Tree\" \"TradeStudyTest\""
   ]
  },
  {
   "cell_type": "code",
   "execution_count": 11,
   "id": "a2695115",
   "metadata": {
    "execution": {
     "iopub.execute_input": "2022-02-18T10:50:35.354141Z",
     "iopub.status.busy": "2022-02-18T10:50:35.353729Z",
     "iopub.status.idle": "2022-02-18T10:50:35.359401Z",
     "shell.execute_reply": "2022-02-18T10:50:35.359691Z"
    }
   },
   "outputs": [
    {
     "data": {
      "image/svg+xml": [
       "<?xml version=\"1.0\" encoding=\"UTF-8\" standalone=\"no\"?><svg xmlns=\"http://www.w3.org/2000/svg\" xmlns:xlink=\"http://www.w3.org/1999/xlink\" contentScriptType=\"application/ecmascript\" contentStyleType=\"text/css\" height=\"12px\" preserveAspectRatio=\"none\" style=\"width:12px;height:12px;\" version=\"1.1\" viewBox=\"0 0 12 12\" width=\"12px\" zoomAndPan=\"magnify\"><defs/><g><!--MD5=[896ac0e7a515d8dd7765a661cb4ee08b]\n",
       "@startuml\r\n",
       "skinparam linetype polyline\r\n",
       "skinparam monochrome true\r\n",
       "skinparam classbackgroundcolor white\r\n",
       "skinparam shadowing false\r\n",
       "skinparam wrapWidth 300\r\n",
       "hide circle\r\n",
       "\r\n",
       "@enduml\r\n",
       "\n",
       "PlantUML version 1.2020.13(Sat Jun 13 12:26:38 UTC 2020)\n",
       "(EPL source distribution)\n",
       "Java Runtime: OpenJDK Runtime Environment\n",
       "JVM: OpenJDK 64-Bit Server VM\n",
       "Default Encoding: UTF-8\n",
       "Language: en\n",
       "Country: null\n",
       "--></g></svg>"
      ]
     },
     "execution_count": 11,
     "metadata": {},
     "output_type": "execute_result"
    }
   ],
   "source": [
    "%viz --style=\"POLYLINE\" --view=\"State\" \"TradeStudyTest\""
   ]
  },
  {
   "cell_type": "code",
   "execution_count": 12,
   "id": "d447eba0",
   "metadata": {
    "execution": {
     "iopub.execute_input": "2022-02-18T10:50:35.409683Z",
     "iopub.status.busy": "2022-02-18T10:50:35.409272Z",
     "iopub.status.idle": "2022-02-18T10:50:35.457600Z",
     "shell.execute_reply": "2022-02-18T10:50:35.457235Z"
    }
   },
   "outputs": [
    {
     "data": {
      "image/svg+xml": [
       "<?xml version=\"1.0\" encoding=\"UTF-8\" standalone=\"no\"?><svg xmlns=\"http://www.w3.org/2000/svg\" xmlns:xlink=\"http://www.w3.org/1999/xlink\" contentScriptType=\"application/ecmascript\" contentStyleType=\"text/css\" height=\"418px\" preserveAspectRatio=\"none\" style=\"width:574px;height:418px;\" version=\"1.1\" viewBox=\"0 0 574 418\" width=\"574px\" zoomAndPan=\"magnify\"><defs/><g><!--MD5=[fbc87193dbaf4d95561dea2c320d4a47]\n",
       "cluster E1--><a href=\"psysml:9d3e1c5c-e45c-4a85-8e75-4ee823ac8fbf\" target=\"_top\" title=\"psysml:9d3e1c5c-e45c-4a85-8e75-4ee823ac8fbf\" xlink:actuate=\"onRequest\" xlink:href=\"psysml:9d3e1c5c-e45c-4a85-8e75-4ee823ac8fbf\" xlink:show=\"new\" xlink:title=\"psysml:9d3e1c5c-e45c-4a85-8e75-4ee823ac8fbf\" xlink:type=\"simple\"><polygon fill=\"#FFFFFF\" points=\"16,6,132,6,139,28.2969,552,28.2969,552,406,16,406,16,6\" style=\"stroke: #000000; stroke-width: 1.5;\"/><line style=\"stroke: #000000; stroke-width: 1.5;\" x1=\"16\" x2=\"139\" y1=\"28.2969\" y2=\"28.2969\"/><text fill=\"#000000\" font-family=\"sans-serif\" font-size=\"14\" font-weight=\"bold\" lengthAdjust=\"spacingAndGlyphs\" textLength=\"110\" x=\"20\" y=\"20.9951\">TradeStudyTest</text></a><!--MD5=[de5ec2e2e8f62f467e546659f5068c88]\n",
       "cluster E5--><a href=\"psysml:e12e8838-d64a-4336-9e52-2de97357eae2\" target=\"_top\" title=\"psysml:e12e8838-d64a-4336-9e52-2de97357eae2\" xlink:actuate=\"onRequest\" xlink:href=\"psysml:e12e8838-d64a-4336-9e52-2de97357eae2\" xlink:show=\"new\" xlink:title=\"psysml:e12e8838-d64a-4336-9e52-2de97357eae2\" xlink:type=\"simple\"><rect fill=\"#FFFFFF\" height=\"129\" id=\"E5\" rx=\"10\" ry=\"10\" style=\"stroke: #383838; stroke-width: 1.5;\" width=\"199\" x=\"321\" y=\"57\"/><rect fill=\"#F8F8F8\" height=\"37.9375\" rx=\"10\" ry=\"10\" style=\"stroke: #F8F8F8; stroke-width: 1.5;\" width=\"199\" x=\"321\" y=\"57\"/><rect fill=\"#F8F8F8\" height=\"10\" style=\"stroke: #F8F8F8; stroke-width: 1.5;\" width=\"199\" x=\"321\" y=\"84.9375\"/><rect fill=\"none\" height=\"129\" id=\"E5\" rx=\"10\" ry=\"10\" style=\"stroke: #383838; stroke-width: 1.5;\" width=\"199\" x=\"321\" y=\"57\"/><text fill=\"#000000\" font-family=\"sans-serif\" font-size=\"12\" font-style=\"italic\" lengthAdjust=\"spacingAndGlyphs\" textLength=\"64\" x=\"388.5\" y=\"73.1387\">«analysis»</text><text fill=\"#000000\" font-family=\"sans-serif\" font-size=\"12\" lengthAdjust=\"spacingAndGlyphs\" textLength=\"114\" x=\"363.5\" y=\"87.1074\">engineTradeStudy</text><line style=\"stroke: #383838; stroke-width: 1.0;\" x1=\"321\" x2=\"520\" y1=\"94.9375\" y2=\"94.9375\"/></a><!--MD5=[2156ba9850f5573cc1fc38a6a4b2f02b]\n",
       "class E7--><a href=\"psysml:1fa3686a-6014-4c73-9542-2575e26fd8a7\" target=\"_top\" title=\"psysml:1fa3686a-6014-4c73-9542-2575e26fd8a7\" xlink:actuate=\"onRequest\" xlink:href=\"psysml:1fa3686a-6014-4c73-9542-2575e26fd8a7\" xlink:show=\"new\" xlink:title=\"psysml:1fa3686a-6014-4c73-9542-2575e26fd8a7\" xlink:type=\"simple\"><rect fill=\"#FFFFFF\" height=\"45.9375\" id=\"E7\" rx=\"10\" ry=\"10\" style=\"stroke: #383838; stroke-width: 1.5;\" width=\"129\" x=\"73.5\" y=\"219\"/><text fill=\"#000000\" font-family=\"sans-serif\" font-size=\"12\" font-style=\"italic\" lengthAdjust=\"spacingAndGlyphs\" textLength=\"82\" x=\"97\" y=\"235.1387\">«calculation»</text><text fill=\"#000000\" font-family=\"sans-serif\" font-size=\"12\" lengthAdjust=\"spacingAndGlyphs\" textLength=\"119\" x=\"76.5\" y=\"249.1074\">evaluationFunction</text><line style=\"stroke: #383838; stroke-width: 1.5;\" x1=\"74.5\" x2=\"201.5\" y1=\"256.9375\" y2=\"256.9375\"/></a><!--MD5=[b9389687b975829384b498ac4b7476b2]\n",
       "class E8--><a href=\"psysml:79c1d929-0a70-426e-ae6d-56e5e3e776a6\" target=\"_top\" title=\"psysml:79c1d929-0a70-426e-ae6d-56e5e3e776a6\" xlink:actuate=\"onRequest\" xlink:href=\"psysml:79c1d929-0a70-426e-ae6d-56e5e3e776a6\" xlink:show=\"new\" xlink:title=\"psysml:79c1d929-0a70-426e-ae6d-56e5e3e776a6\" xlink:type=\"simple\"><rect fill=\"#FFFFFF\" height=\"31.9688\" id=\"E8\" rx=\"10\" ry=\"10\" style=\"stroke: #383838; stroke-width: 1.5;\" width=\"128\" x=\"120\" y=\"298\"/><text fill=\"#000000\" font-family=\"sans-serif\" font-size=\"12\" lengthAdjust=\"spacingAndGlyphs\" textLength=\"118\" x=\"123\" y=\"314.1387\">alternative: Engine</text><line style=\"stroke: #383838; stroke-width: 1.5;\" x1=\"121\" x2=\"247\" y1=\"321.9688\" y2=\"321.9688\"/></a><!--MD5=[fd4143e9d270a159db93a4ea2a975926]\n",
       "class E9--><a href=\"psysml:169f456a-e384-47f5-89e9-43fd13dd17eb\" target=\"_top\" title=\"psysml:169f456a-e384-47f5-89e9-43fd13dd17eb\" xlink:actuate=\"onRequest\" xlink:href=\"psysml:169f456a-e384-47f5-89e9-43fd13dd17eb\" xlink:show=\"new\" xlink:title=\"psysml:169f456a-e384-47f5-89e9-43fd13dd17eb\" xlink:type=\"simple\"><rect fill=\"#FFFFFF\" height=\"31.9688\" id=\"E9\" rx=\"10\" ry=\"10\" style=\"stroke: #383838; stroke-width: 1.5;\" width=\"182\" x=\"238\" y=\"226\"/><text fill=\"#000000\" font-family=\"sans-serif\" font-size=\"12\" lengthAdjust=\"spacingAndGlyphs\" textLength=\"172\" x=\"241\" y=\"242.1387\">selectedAlternative: Engine</text><line style=\"stroke: #383838; stroke-width: 1.5;\" x1=\"239\" x2=\"419\" y1=\"249.9688\" y2=\"249.9688\"/></a><g id=\"E1.E2\"><a href=\"psysml:956f1300-60cf-48ef-8161-7a381ae0bb8c\" target=\"_top\" title=\"psysml:956f1300-60cf-48ef-8161-7a381ae0bb8c\" xlink:actuate=\"onRequest\" xlink:href=\"psysml:956f1300-60cf-48ef-8161-7a381ae0bb8c\" xlink:show=\"new\" xlink:title=\"psysml:956f1300-60cf-48ef-8161-7a381ae0bb8c\" xlink:type=\"simple\"><rect fill=\"#FFFFFF\" height=\"42.9375\" id=\"E2\" style=\"stroke: #383838; stroke-width: 1.5;\" width=\"75\" x=\"291.5\" y=\"347\"/><rect fill=\"#F8F8F8\" height=\"37.9375\" style=\"stroke: #383838; stroke-width: 1.5;\" width=\"75\" x=\"291.5\" y=\"347\"/><text fill=\"#000000\" font-family=\"sans-serif\" font-size=\"12\" font-style=\"italic\" lengthAdjust=\"spacingAndGlyphs\" textLength=\"68\" x=\"295\" y=\"363.1387\">«part  def»</text><text fill=\"#000000\" font-family=\"sans-serif\" font-size=\"12\" lengthAdjust=\"spacingAndGlyphs\" textLength=\"43\" x=\"307.5\" y=\"377.1074\">Engine</text></a></g><g id=\"E1.E3\"><a href=\"psysml:5ff7a686-dab8-41cf-8031-b7dccb26607b\" target=\"_top\" title=\"psysml:5ff7a686-dab8-41cf-8031-b7dccb26607b\" xlink:actuate=\"onRequest\" xlink:href=\"psysml:5ff7a686-dab8-41cf-8031-b7dccb26607b\" xlink:show=\"new\" xlink:title=\"psysml:5ff7a686-dab8-41cf-8031-b7dccb26607b\" xlink:type=\"simple\"><rect fill=\"#FFFFFF\" height=\"40\" id=\"E3\" rx=\"10\" ry=\"10\" style=\"stroke: #383838; stroke-width: 1.5;\" width=\"113\" x=\"180.5\" y=\"119\"/><rect fill=\"#F8F8F8\" height=\"23.9688\" rx=\"10\" ry=\"10\" style=\"stroke: #F8F8F8; stroke-width: 1.5;\" width=\"113\" x=\"180.5\" y=\"119\"/><rect fill=\"#F8F8F8\" height=\"10\" style=\"stroke: #F8F8F8; stroke-width: 1.5;\" width=\"113\" x=\"180.5\" y=\"132.9688\"/><rect fill=\"none\" height=\"40\" id=\"E3\" rx=\"10\" ry=\"10\" style=\"stroke: #383838; stroke-width: 1.5;\" width=\"113\" x=\"180.5\" y=\"119\"/><text fill=\"#000000\" font-family=\"sans-serif\" font-size=\"12\" lengthAdjust=\"spacingAndGlyphs\" textLength=\"102\" x=\"186\" y=\"135.1387\">engine1: Engine</text></a></g><g id=\"E1.E4\"><a href=\"psysml:44e88bb9-9b84-4b3f-b104-23d7a257fb04\" target=\"_top\" title=\"psysml:44e88bb9-9b84-4b3f-b104-23d7a257fb04\" xlink:actuate=\"onRequest\" xlink:href=\"psysml:44e88bb9-9b84-4b3f-b104-23d7a257fb04\" xlink:show=\"new\" xlink:title=\"psysml:44e88bb9-9b84-4b3f-b104-23d7a257fb04\" xlink:type=\"simple\"><rect fill=\"#FFFFFF\" height=\"40\" id=\"E4\" rx=\"10\" ry=\"10\" style=\"stroke: #383838; stroke-width: 1.5;\" width=\"113\" x=\"32.5\" y=\"119\"/><rect fill=\"#F8F8F8\" height=\"23.9688\" rx=\"10\" ry=\"10\" style=\"stroke: #F8F8F8; stroke-width: 1.5;\" width=\"113\" x=\"32.5\" y=\"119\"/><rect fill=\"#F8F8F8\" height=\"10\" style=\"stroke: #F8F8F8; stroke-width: 1.5;\" width=\"113\" x=\"32.5\" y=\"132.9688\"/><rect fill=\"none\" height=\"40\" id=\"E4\" rx=\"10\" ry=\"10\" style=\"stroke: #383838; stroke-width: 1.5;\" width=\"113\" x=\"32.5\" y=\"119\"/><text fill=\"#000000\" font-family=\"sans-serif\" font-size=\"12\" lengthAdjust=\"spacingAndGlyphs\" textLength=\"102\" x=\"38\" y=\"135.1387\">engine2: Engine</text></a></g><!--MD5=[60a26617385b1d2d0262a64233df1f8d]\n",
       "class E6--><a href=\"psysml:9a804e4d-bc47-4ee7-a2d8-d8527e0c1caf\" target=\"_top\" title=\"psysml:9a804e4d-bc47-4ee7-a2d8-d8527e0c1caf\" xlink:actuate=\"onRequest\" xlink:href=\"psysml:9a804e4d-bc47-4ee7-a2d8-d8527e0c1caf\" xlink:show=\"new\" xlink:title=\"psysml:9a804e4d-bc47-4ee7-a2d8-d8527e0c1caf\" xlink:type=\"simple\"><rect fill=\"#FFFFFF\" height=\"45.9375\" id=\"E6\" rx=\"10\" ry=\"10\" style=\"stroke: #383838; stroke-width: 1.5;\" width=\"132\" x=\"364\" y=\"116\"/><text fill=\"#000000\" font-family=\"sans-serif\" font-size=\"12\" font-style=\"italic\" lengthAdjust=\"spacingAndGlyphs\" textLength=\"70\" x=\"395\" y=\"132.1387\">«objective»</text><text fill=\"#000000\" font-family=\"sans-serif\" font-size=\"12\" lengthAdjust=\"spacingAndGlyphs\" textLength=\"126\" x=\"367\" y=\"146.1074\">tradeStudyObjective</text><line style=\"stroke: #383838; stroke-width: 1.5;\" x1=\"365\" x2=\"495\" y1=\"153.9375\" y2=\"153.9375\"/></a><!--MD5=[15ebcb19ae302d9b601edb458606d402]\n",
       "link E5 to E2--><a href=\"psysml:ef23f2a8-b555-4000-b8d1-a9fc8ea83129\" target=\"_top\" title=\"psysml:ef23f2a8-b555-4000-b8d1-a9fc8ea83129\" xlink:actuate=\"onRequest\" xlink:href=\"psysml:ef23f2a8-b555-4000-b8d1-a9fc8ea83129\" xlink:show=\"new\" xlink:title=\"psysml:ef23f2a8-b555-4000-b8d1-a9fc8ea83129\" xlink:type=\"simple\"><path d=\"M343.141,186.1434 C343.2057,186.3545 343.27,186.5643 343.3339,186.7729 C343.4617,187.1899 343.5879,187.6018 343.7124,188.0081 C344.2104,189.633 344.6806,191.1677 345.1144,192.5831 C346.8494,198.245 348,202 348,202 C348,202 438,219 438,219 C438,219 438,265 438,265 C438,265 387.13,312.84 354.89,343.15 \" fill=\"none\" id=\"E5-&gt;E2\" style=\"stroke: #383838; stroke-width: 1.0; stroke-dasharray: 7.0,7.0;\"/><polygon fill=\"#383838\" points=\"351.06,346.76,360.3553,343.5045,354.701,343.3332,354.8723,337.6789,351.06,346.76\" style=\"stroke: #383838; stroke-width: 1.0;\"/><text fill=\"#000000\" font-family=\"sans-serif\" font-size=\"13\" lengthAdjust=\"spacingAndGlyphs\" textLength=\"62\" x=\"429\" y=\"286.0669\">«subject»</text></a><!--MD5=[452b418e7f8a40397a49b8c0a78acc5b]\n",
       "reverse link E5 to E7--><a href=\"psysml:3495a436-635c-4195-be5e-85a5d126f0e1\" target=\"_top\" title=\"psysml:3495a436-635c-4195-be5e-85a5d126f0e1\" xlink:actuate=\"onRequest\" xlink:href=\"psysml:3495a436-635c-4195-be5e-85a5d126f0e1\" xlink:show=\"new\" xlink:title=\"psysml:3495a436-635c-4195-be5e-85a5d126f0e1\" xlink:type=\"simple\"><path d=\"M326.024,186.1434 C326.0103,186.3545 325.9968,186.5643 325.9833,186.7729 C325.9564,187.1899 325.9298,187.6018 325.9036,188.0081 C325.7986,189.633 325.6995,191.1677 325.6081,192.5831 C325.2425,198.245 325,202 325,202 C325,202 221,219 221,219 C221,219 213.29,221.04 202.58,223.88 \" fill=\"none\" id=\"E5&lt;-E7\" style=\"stroke: #383838; stroke-width: 1.0;\"/><polygon fill=\"#383838\" points=\"326.024,186.1434,321.6456,191.8732,325.2507,198.1185,329.629,192.3887,326.024,186.1434\" style=\"stroke: #383838; stroke-width: 1.0;\"/></a><!--MD5=[dc164f5e8a733ab456ef1add180e9e34]\n",
       "reverse link E7 to E8--><a href=\"psysml:e1d2632c-68a4-476d-b3ed-d8b6d2aaac51\" target=\"_top\" title=\"psysml:e1d2632c-68a4-476d-b3ed-d8b6d2aaac51\" xlink:actuate=\"onRequest\" xlink:href=\"psysml:e1d2632c-68a4-476d-b3ed-d8b6d2aaac51\" xlink:show=\"new\" xlink:title=\"psysml:e1d2632c-68a4-476d-b3ed-d8b6d2aaac51\" xlink:type=\"simple\"><path d=\"M159.85,276.24 C164.76,283.72 169.75,291.31 173.91,297.64 \" fill=\"none\" id=\"E7&lt;-E8\" style=\"stroke: #383838; stroke-width: 1.0;\"/><polygon fill=\"#FFFFFF\" points=\"152.55,265.15,152.5017,272.3609,159.1393,275.179,159.1877,267.968,152.55,265.15\" style=\"stroke: #383838; stroke-width: 1.0;\"/><text fill=\"#000000\" font-family=\"sans-serif\" font-size=\"13\" lengthAdjust=\"spacingAndGlyphs\" textLength=\"8\" x=\"161.2427\" y=\"286.8304\">1</text></a><!--MD5=[f1f3f9f2fc535e6147756cb86a7f2e32]\n",
       "link E8 to E2--><a href=\"psysml:a8ae8a0d-ad52-4d9e-986d-0c741d3467c2\" target=\"_top\" title=\"psysml:a8ae8a0d-ad52-4d9e-986d-0c741d3467c2\" xlink:actuate=\"onRequest\" xlink:href=\"psysml:a8ae8a0d-ad52-4d9e-986d-0c741d3467c2\" xlink:show=\"new\" xlink:title=\"psysml:a8ae8a0d-ad52-4d9e-986d-0c741d3467c2\" xlink:type=\"simple\"><path d=\"M225.55,330.04 C240.14,335.33 256.8,341.36 272.41,347.01 \" fill=\"none\" id=\"E8-&gt;E2\" style=\"stroke: #383838; stroke-width: 1.0;\"/><polygon fill=\"#FFFFFF\" points=\"291.41,353.89,271.1619,354.01,275.9238,340.8448,291.41,353.89\" style=\"stroke: #383838; stroke-width: 1.0;\"/><ellipse cx=\"266.482\" cy=\"350.1905\" fill=\"#383838\" rx=\"2\" ry=\"2\" style=\"stroke: #383838; stroke-width: 1.0;\"/><ellipse cx=\"269.8834\" cy=\"340.7868\" fill=\"#383838\" rx=\"2\" ry=\"2\" style=\"stroke: #383838; stroke-width: 1.0;\"/></a><!--MD5=[9ae28de373ca99bb8a1b38d63370ca7e]\n",
       "reverse link E5 to E9--><a href=\"psysml:1023028c-00c5-4dde-9329-e4b02befe1ab\" target=\"_top\" title=\"psysml:1023028c-00c5-4dde-9329-e4b02befe1ab\" xlink:actuate=\"onRequest\" xlink:href=\"psysml:1023028c-00c5-4dde-9329-e4b02befe1ab\" xlink:show=\"new\" xlink:title=\"psysml:1023028c-00c5-4dde-9329-e4b02befe1ab\" xlink:type=\"simple\"><path d=\"M329,186.1541 C329,186.4444 329,186.7349 329,187.0256 C329,191.6761 329,196.366 329,200.9367 C329,210.0781 329,218.7425 329,225.66 \" fill=\"none\" id=\"E5&lt;-E9\" style=\"stroke: #383838; stroke-width: 1.0;\"/><polygon fill=\"#FFFFFF\" points=\"329,186.1541,325,192.1541,329,198.1541,333,192.1541,329,186.1541\" style=\"stroke: #383838; stroke-width: 1.0;\"/><text fill=\"#000000\" font-family=\"sans-serif\" font-size=\"13\" lengthAdjust=\"spacingAndGlyphs\" textLength=\"8\" x=\"319.675\" y=\"214.8571\">1</text></a><!--MD5=[5c3bb36fe832a92c7f0e1807dd65209d]\n",
       "link E9 to E2--><a href=\"psysml:d6cd1bf0-a8ac-42a9-91c6-4adc5d4642e7\" target=\"_top\" title=\"psysml:d6cd1bf0-a8ac-42a9-91c6-4adc5d4642e7\" xlink:actuate=\"onRequest\" xlink:href=\"psysml:d6cd1bf0-a8ac-42a9-91c6-4adc5d4642e7\" xlink:show=\"new\" xlink:title=\"psysml:d6cd1bf0-a8ac-42a9-91c6-4adc5d4642e7\" xlink:type=\"simple\"><path d=\"M329,258.27 C329,275.18 329,303.16 329,326.57 \" fill=\"none\" id=\"E9-&gt;E2\" style=\"stroke: #383838; stroke-width: 1.0;\"/><polygon fill=\"#FFFFFF\" points=\"329,346.71,322,327.71,336,327.71,329,346.71\" style=\"stroke: #383838; stroke-width: 1.0;\"/><ellipse cx=\"324\" cy=\"322.01\" fill=\"#383838\" rx=\"2\" ry=\"2\" style=\"stroke: #383838; stroke-width: 1.0;\"/><ellipse cx=\"334\" cy=\"322.01\" fill=\"#383838\" rx=\"2\" ry=\"2\" style=\"stroke: #383838; stroke-width: 1.0;\"/></a><!--MD5=[56745d67ed72a7bf36621f79c2c55620]\n",
       "@startuml\r\n",
       "skinparam ranksep 10\r\n",
       "skinparam rectangle {\r\n",
       " backgroundColor<<block>> LightGreen\r\n",
       "}\r\n",
       "skinparam linetype polyline\r\n",
       "skinparam monochrome true\r\n",
       "skinparam classbackgroundcolor white\r\n",
       "skinparam shadowing false\r\n",
       "skinparam wrapWidth 300\r\n",
       "hide circle\r\n",
       "\r\n",
       "package \"TradeStudyTest\" as E1  [[psysml:9d3e1c5c-e45c-4a85-8e75-4ee823ac8fbf ]]  {\r\n",
       "rec def \"Engine\" as E2  <<(T,blue) part  def>> [[psysml:956f1300-60cf-48ef-8161-7a381ae0bb8c ]] {\r\n",
       "}\r\n",
       "rec usage \"engine1: Engine\" as E3  [[psysml:5ff7a686-dab8-41cf-8031-b7dccb26607b ]] {\r\n",
       "}\r\n",
       "rec usage \"engine2: Engine\" as E4  [[psysml:44e88bb9-9b84-4b3f-b104-23d7a257fb04 ]] {\r\n",
       "}\r\n",
       "rec usage \"engineTradeStudy\" as E5 << analysis>> [[psysml:e12e8838-d64a-4336-9e52-2de97357eae2 ]] {\r\n",
       "comp usage \"tradeStudyObjective\" as E6  <<objective>> [[psysml:9a804e4d-bc47-4ee7-a2d8-d8527e0c1caf ]] {\r\n",
       "}\r\n",
       "}\r\n",
       "comp usage \"evaluationFunction \" as E7  <<(T,blue) calculation>> [[psysml:1fa3686a-6014-4c73-9542-2575e26fd8a7 ]] {\r\n",
       "}\r\n",
       "comp usage \"alternative: Engine \" as E8  [[psysml:79c1d929-0a70-426e-ae6d-56e5e3e776a6 ]] {\r\n",
       "}\r\n",
       "comp usage \"selectedAlternative: Engine \" as E9  [[psysml:169f456a-e384-47f5-89e9-43fd13dd17eb ]] {\r\n",
       "}\r\n",
       "}\r\n",
       "E5 ..> E2 [[psysml:ef23f2a8-b555-4000-b8d1-a9fc8ea83129 ]] : <<subject>>\r\n",
       "E5 *- - E7 [[psysml:3495a436-635c-4195-be5e-85a5d126f0e1 ]] \r\n",
       "E7 o- - \"1\"E8 [[psysml:e1d2632c-68a4-476d-b3ed-d8b6d2aaac51 ]] \r\n",
       "E8 - -:|> E2 [[psysml:a8ae8a0d-ad52-4d9e-986d-0c741d3467c2 ]] \r\n",
       "E5 o- - \"1\"E9 [[psysml:1023028c-00c5-4dde-9329-e4b02befe1ab ]] \r\n",
       "E9 - -:|> E2 [[psysml:d6cd1bf0-a8ac-42a9-91c6-4adc5d4642e7 ]] \r\n",
       "@enduml\r\n",
       "\n",
       "PlantUML version 1.2020.13(Sat Jun 13 12:26:38 UTC 2020)\n",
       "(EPL source distribution)\n",
       "Java Runtime: OpenJDK Runtime Environment\n",
       "JVM: OpenJDK 64-Bit Server VM\n",
       "Default Encoding: UTF-8\n",
       "Language: en\n",
       "Country: null\n",
       "--></g></svg>"
      ]
     },
     "execution_count": 12,
     "metadata": {},
     "output_type": "execute_result"
    }
   ],
   "source": [
    "%viz --style=\"POLYLINE\" --view=\"Interconnection\" \"TradeStudyTest\""
   ]
  },
  {
   "cell_type": "code",
   "execution_count": 13,
   "id": "f06babab",
   "metadata": {
    "execution": {
     "iopub.execute_input": "2022-02-18T10:50:35.507447Z",
     "iopub.status.busy": "2022-02-18T10:50:35.507040Z",
     "iopub.status.idle": "2022-02-18T10:50:35.541228Z",
     "shell.execute_reply": "2022-02-18T10:50:35.540892Z"
    }
   },
   "outputs": [
    {
     "data": {
      "image/svg+xml": [
       "<?xml version=\"1.0\" encoding=\"UTF-8\" standalone=\"no\"?><svg xmlns=\"http://www.w3.org/2000/svg\" xmlns:xlink=\"http://www.w3.org/1999/xlink\" contentScriptType=\"application/ecmascript\" contentStyleType=\"text/css\" height=\"227px\" preserveAspectRatio=\"none\" style=\"width:442px;height:227px;\" version=\"1.1\" viewBox=\"0 0 442 227\" width=\"442px\" zoomAndPan=\"magnify\"><defs/><g><!--MD5=[fbc87193dbaf4d95561dea2c320d4a47]\n",
       "cluster E1--><a href=\"psysml:e12e8838-d64a-4336-9e52-2de97357eae2\" target=\"_top\" title=\"psysml:e12e8838-d64a-4336-9e52-2de97357eae2\" xlink:actuate=\"onRequest\" xlink:href=\"psysml:e12e8838-d64a-4336-9e52-2de97357eae2\" xlink:show=\"new\" xlink:title=\"psysml:e12e8838-d64a-4336-9e52-2de97357eae2\" xlink:type=\"simple\"><rect fill=\"#FFFFFF\" height=\"174.36\" id=\"E1\" rx=\"10\" ry=\"10\" style=\"stroke: #383838; stroke-width: 1.5;\" width=\"317\" x=\"47\" y=\"42.0986\"/><rect fill=\"#F8F8F8\" height=\"37.9375\" rx=\"10\" ry=\"10\" style=\"stroke: #F8F8F8; stroke-width: 1.5;\" width=\"317\" x=\"47\" y=\"42.0986\"/><rect fill=\"#F8F8F8\" height=\"10\" style=\"stroke: #F8F8F8; stroke-width: 1.5;\" width=\"317\" x=\"47\" y=\"70.0361\"/><rect fill=\"none\" height=\"174.36\" id=\"E1\" rx=\"10\" ry=\"10\" style=\"stroke: #383838; stroke-width: 1.5;\" width=\"317\" x=\"47\" y=\"42.0986\"/><text fill=\"#000000\" font-family=\"sans-serif\" font-size=\"12\" font-style=\"italic\" lengthAdjust=\"spacingAndGlyphs\" textLength=\"64\" x=\"173.5\" y=\"58.2373\">«analysis»</text><text fill=\"#000000\" font-family=\"sans-serif\" font-size=\"12\" lengthAdjust=\"spacingAndGlyphs\" textLength=\"114\" x=\"148.5\" y=\"72.2061\">engineTradeStudy</text><line style=\"stroke: #383838; stroke-width: 1.0;\" x1=\"47\" x2=\"364\" y1=\"80.0361\" y2=\"80.0361\"/></a><!--MD5=[d5e69f78d87373223dbae638b30a9c99]\n",
       "cluster E3--><a href=\"psysml:1fa3686a-6014-4c73-9542-2575e26fd8a7\" target=\"_top\" title=\"psysml:1fa3686a-6014-4c73-9542-2575e26fd8a7\" xlink:actuate=\"onRequest\" xlink:href=\"psysml:1fa3686a-6014-4c73-9542-2575e26fd8a7\" xlink:show=\"new\" xlink:title=\"psysml:1fa3686a-6014-4c73-9542-2575e26fd8a7\" xlink:type=\"simple\"><rect fill=\"#FFFFFF\" height=\"104.86\" id=\"E3\" rx=\"10\" ry=\"10\" style=\"stroke: #383838; stroke-width: 1.5;\" width=\"178\" x=\"145\" y=\"81.5986\"/><rect fill=\"#F8F8F8\" height=\"37.9375\" rx=\"10\" ry=\"10\" style=\"stroke: #F8F8F8; stroke-width: 1.5;\" width=\"178\" x=\"145\" y=\"81.5986\"/><rect fill=\"#F8F8F8\" height=\"10\" style=\"stroke: #F8F8F8; stroke-width: 1.5;\" width=\"178\" x=\"145\" y=\"109.5361\"/><rect fill=\"none\" height=\"104.86\" id=\"E3\" rx=\"10\" ry=\"10\" style=\"stroke: #383838; stroke-width: 1.5;\" width=\"178\" x=\"145\" y=\"81.5986\"/><text fill=\"#000000\" font-family=\"sans-serif\" font-size=\"12\" font-style=\"italic\" lengthAdjust=\"spacingAndGlyphs\" textLength=\"82\" x=\"193\" y=\"97.7373\">«calculation»</text><text fill=\"#000000\" font-family=\"sans-serif\" font-size=\"12\" lengthAdjust=\"spacingAndGlyphs\" textLength=\"119\" x=\"174.5\" y=\"111.7061\">evaluationFunction</text><line style=\"stroke: #383838; stroke-width: 1.0;\" x1=\"145\" x2=\"323\" y1=\"119.5361\" y2=\"119.5361\"/></a><text fill=\"#000000\" font-family=\"sans-serif\" font-size=\"14\" lengthAdjust=\"spacingAndGlyphs\" textLength=\"118\" x=\"6\" y=\"20.7969\">studyAlternatives</text><rect fill=\"#383838\" height=\"12\" style=\"stroke: #F8F8F8; stroke-width: 1.5;\" width=\"12\" x=\"59\" y=\"36.0986\"/><text fill=\"#000000\" font-family=\"sans-serif\" font-size=\"14\" lengthAdjust=\"spacingAndGlyphs\" textLength=\"132\" x=\"298\" y=\"183.0938\">selectedAlternative</text><rect fill=\"#383838\" height=\"12\" style=\"stroke: #F8F8F8; stroke-width: 1.5;\" width=\"12\" x=\"358\" y=\"158.0986\"/><text fill=\"#000000\" font-family=\"sans-serif\" font-size=\"14\" lengthAdjust=\"spacingAndGlyphs\" textLength=\"71\" x=\"198.5\" y=\"60.2969\">alternative</text><rect fill=\"#383838\" height=\"12\" style=\"stroke: #F8F8F8; stroke-width: 1.5;\" width=\"12\" x=\"228\" y=\"75.5986\"/><text fill=\"#000000\" font-family=\"sans-serif\" font-size=\"14\" lengthAdjust=\"spacingAndGlyphs\" textLength=\"39\" x=\"214.5\" y=\"205.4538\">result</text><rect fill=\"#383838\" height=\"12\" style=\"stroke: #F8F8F8; stroke-width: 1.5;\" width=\"12\" x=\"228\" y=\"180.4586\"/><!--MD5=[2d4105b54724d14bc5dc9f85c6e1a852]\n",
       "@startuml\r\n",
       "skinparam ranksep 8\r\n",
       "skinparam linetype polyline\r\n",
       "skinparam monochrome true\r\n",
       "skinparam classbackgroundcolor white\r\n",
       "skinparam shadowing false\r\n",
       "skinparam wrapWidth 300\r\n",
       "hide circle\r\n",
       "\r\n",
       "rec usage \"engineTradeStudy\" as E1 << analysis>> [[psysml:e12e8838-d64a-4336-9e52-2de97357eae2 ]] {\r\n",
       "portin \"studyAlternatives\" as E2  [[psysml:36f294a0-7f48-45c5-aee6-574d3cef2e7a ]] \r\n",
       "rec usage \"evaluationFunction\" as E3  <<(T,blue) calculation>> [[psysml:1fa3686a-6014-4c73-9542-2575e26fd8a7 ]] {\r\n",
       "portin \"alternative\" as E4  [[psysml:79c1d929-0a70-426e-ae6d-56e5e3e776a6 ]] \r\n",
       "portout \"result\" as E5  [[psysml:c19db6ea-6f05-4719-8826-e593430801be ]] \r\n",
       "}\r\n",
       "\r\n",
       "portout \"selectedAlternative\" as E6  [[psysml:169f456a-e384-47f5-89e9-43fd13dd17eb ]] \r\n",
       "}\r\n",
       "\r\n",
       "@enduml\r\n",
       "\n",
       "PlantUML version 1.2020.13(Sat Jun 13 12:26:38 UTC 2020)\n",
       "(EPL source distribution)\n",
       "Java Runtime: OpenJDK Runtime Environment\n",
       "JVM: OpenJDK 64-Bit Server VM\n",
       "Default Encoding: UTF-8\n",
       "Language: en\n",
       "Country: null\n",
       "--></g></svg>"
      ]
     },
     "execution_count": 13,
     "metadata": {},
     "output_type": "execute_result"
    }
   ],
   "source": [
    "%viz --style=\"POLYLINE\" --view=\"Action\" \"TradeStudyTest\""
   ]
  },
  {
   "cell_type": "code",
   "execution_count": 14,
   "id": "69b7a139",
   "metadata": {
    "execution": {
     "iopub.execute_input": "2022-02-18T10:50:35.591087Z",
     "iopub.status.busy": "2022-02-18T10:50:35.590675Z",
     "iopub.status.idle": "2022-02-18T10:50:35.595736Z",
     "shell.execute_reply": "2022-02-18T10:50:35.596045Z"
    }
   },
   "outputs": [
    {
     "data": {
      "image/svg+xml": [
       "<?xml version=\"1.0\" encoding=\"UTF-8\" standalone=\"no\"?><svg xmlns=\"http://www.w3.org/2000/svg\" xmlns:xlink=\"http://www.w3.org/1999/xlink\" contentScriptType=\"application/ecmascript\" contentStyleType=\"text/css\" height=\"12px\" preserveAspectRatio=\"none\" style=\"width:12px;height:12px;\" version=\"1.1\" viewBox=\"0 0 12 12\" width=\"12px\" zoomAndPan=\"magnify\"><defs/><g><!--MD5=[dc938048236c351797870c36b62f92ad]\n",
       "@startuml\r\n",
       "skinparam roundcorner 20\r\n",
       "skinparam BoxPadding 20\r\n",
       "skinparam SequenceBoxBackgroundColor #white\r\n",
       "skinparam style strictuml\r\n",
       "skinparam maxMessageSize 100\r\n",
       "skinparam linetype polyline\r\n",
       "skinparam monochrome true\r\n",
       "skinparam classbackgroundcolor white\r\n",
       "skinparam shadowing false\r\n",
       "skinparam wrapWidth 300\r\n",
       "hide circle\r\n",
       "\r\n",
       "@enduml\r\n",
       "\n",
       "PlantUML version 1.2020.13(Sat Jun 13 12:26:38 UTC 2020)\n",
       "(EPL source distribution)\n",
       "Java Runtime: OpenJDK Runtime Environment\n",
       "JVM: OpenJDK 64-Bit Server VM\n",
       "Default Encoding: UTF-8\n",
       "Language: en\n",
       "Country: null\n",
       "--></g></svg>"
      ]
     },
     "execution_count": 14,
     "metadata": {},
     "output_type": "execute_result"
    }
   ],
   "source": [
    "%viz --style=\"POLYLINE\" --view=\"Sequence\" \"TradeStudyTest\""
   ]
  },
  {
   "cell_type": "code",
   "execution_count": 15,
   "id": "6b402d97",
   "metadata": {
    "execution": {
     "iopub.execute_input": "2022-02-18T10:50:35.646299Z",
     "iopub.status.busy": "2022-02-18T10:50:35.645891Z",
     "iopub.status.idle": "2022-02-18T10:50:35.695320Z",
     "shell.execute_reply": "2022-02-18T10:50:35.694944Z"
    }
   },
   "outputs": [
    {
     "data": {
      "image/svg+xml": [
       "<?xml version=\"1.0\" encoding=\"UTF-8\" standalone=\"no\"?><svg xmlns=\"http://www.w3.org/2000/svg\" xmlns:xlink=\"http://www.w3.org/1999/xlink\" contentScriptType=\"application/ecmascript\" contentStyleType=\"text/css\" height=\"545px\" preserveAspectRatio=\"none\" style=\"width:566px;height:545px;\" version=\"1.1\" viewBox=\"0 0 566 545\" width=\"566px\" zoomAndPan=\"magnify\"><defs/><g><!--MD5=[fbc87193dbaf4d95561dea2c320d4a47]\n",
       "cluster E1--><a href=\"psysml:9d3e1c5c-e45c-4a85-8e75-4ee823ac8fbf\" target=\"_top\" title=\"psysml:9d3e1c5c-e45c-4a85-8e75-4ee823ac8fbf\" xlink:actuate=\"onRequest\" xlink:href=\"psysml:9d3e1c5c-e45c-4a85-8e75-4ee823ac8fbf\" xlink:show=\"new\" xlink:title=\"psysml:9d3e1c5c-e45c-4a85-8e75-4ee823ac8fbf\" xlink:type=\"simple\"><polygon fill=\"#FFFFFF\" points=\"16,6,132,6,139,28.2969,544,28.2969,544,533,16,533,16,6\" style=\"stroke: #000000; stroke-width: 1.5;\"/><line style=\"stroke: #000000; stroke-width: 1.5;\" x1=\"16\" x2=\"139\" y1=\"28.2969\" y2=\"28.2969\"/><text fill=\"#000000\" font-family=\"sans-serif\" font-size=\"14\" font-weight=\"bold\" lengthAdjust=\"spacingAndGlyphs\" textLength=\"110\" x=\"20\" y=\"20.9951\">TradeStudyTest</text></a><!--MD5=[de5ec2e2e8f62f467e546659f5068c88]\n",
       "cluster E5--><a href=\"psysml:e12e8838-d64a-4336-9e52-2de97357eae2\" target=\"_top\" title=\"psysml:e12e8838-d64a-4336-9e52-2de97357eae2\" xlink:actuate=\"onRequest\" xlink:href=\"psysml:e12e8838-d64a-4336-9e52-2de97357eae2\" xlink:show=\"new\" xlink:title=\"psysml:e12e8838-d64a-4336-9e52-2de97357eae2\" xlink:type=\"simple\"><rect fill=\"#FFFFFF\" height=\"129\" id=\"E5\" rx=\"10\" ry=\"10\" style=\"stroke: #383838; stroke-width: 1.5;\" width=\"199\" x=\"238\" y=\"57\"/><rect fill=\"#F8F8F8\" height=\"37.9375\" rx=\"10\" ry=\"10\" style=\"stroke: #F8F8F8; stroke-width: 1.5;\" width=\"199\" x=\"238\" y=\"57\"/><rect fill=\"#F8F8F8\" height=\"10\" style=\"stroke: #F8F8F8; stroke-width: 1.5;\" width=\"199\" x=\"238\" y=\"84.9375\"/><rect fill=\"none\" height=\"129\" id=\"E5\" rx=\"10\" ry=\"10\" style=\"stroke: #383838; stroke-width: 1.5;\" width=\"199\" x=\"238\" y=\"57\"/><text fill=\"#000000\" font-family=\"sans-serif\" font-size=\"12\" font-style=\"italic\" lengthAdjust=\"spacingAndGlyphs\" textLength=\"64\" x=\"305.5\" y=\"73.1387\">«analysis»</text><text fill=\"#000000\" font-family=\"sans-serif\" font-size=\"12\" lengthAdjust=\"spacingAndGlyphs\" textLength=\"114\" x=\"280.5\" y=\"87.1074\">engineTradeStudy</text><line style=\"stroke: #383838; stroke-width: 1.0;\" x1=\"238\" x2=\"437\" y1=\"94.9375\" y2=\"94.9375\"/></a><!--MD5=[b4997ac47864f28c2f74865a473b2911]\n",
       "class E2--><a href=\"psysml:956f1300-60cf-48ef-8161-7a381ae0bb8c\" target=\"_top\" title=\"psysml:956f1300-60cf-48ef-8161-7a381ae0bb8c\" xlink:actuate=\"onRequest\" xlink:href=\"psysml:956f1300-60cf-48ef-8161-7a381ae0bb8c\" xlink:show=\"new\" xlink:title=\"psysml:956f1300-60cf-48ef-8161-7a381ae0bb8c\" xlink:type=\"simple\"><rect fill=\"#FFFFFF\" height=\"45.9375\" id=\"E2\" style=\"stroke: #383838; stroke-width: 1.5;\" width=\"70\" x=\"292\" y=\"471\"/><text fill=\"#000000\" font-family=\"sans-serif\" font-size=\"12\" font-style=\"italic\" lengthAdjust=\"spacingAndGlyphs\" textLength=\"68\" x=\"293\" y=\"487.1387\">«part  def»</text><text fill=\"#000000\" font-family=\"sans-serif\" font-size=\"12\" lengthAdjust=\"spacingAndGlyphs\" textLength=\"43\" x=\"305.5\" y=\"501.1074\">Engine</text><line style=\"stroke: #383838; stroke-width: 1.5;\" x1=\"293\" x2=\"361\" y1=\"508.9375\" y2=\"508.9375\"/></a><!--MD5=[09b614a08d8cba4a07c9adeb5e0fee81]\n",
       "class E3--><a href=\"psysml:5ff7a686-dab8-41cf-8031-b7dccb26607b\" target=\"_top\" title=\"psysml:5ff7a686-dab8-41cf-8031-b7dccb26607b\" xlink:actuate=\"onRequest\" xlink:href=\"psysml:5ff7a686-dab8-41cf-8031-b7dccb26607b\" xlink:show=\"new\" xlink:title=\"psysml:5ff7a686-dab8-41cf-8031-b7dccb26607b\" xlink:type=\"simple\"><rect fill=\"#FFFFFF\" height=\"45.9375\" id=\"E3\" rx=\"10\" ry=\"10\" style=\"stroke: #383838; stroke-width: 1.5;\" width=\"112\" x=\"179\" y=\"364\"/><text fill=\"#000000\" font-family=\"sans-serif\" font-size=\"12\" font-style=\"italic\" lengthAdjust=\"spacingAndGlyphs\" textLength=\"40\" x=\"215\" y=\"380.1387\">«part»</text><text fill=\"#000000\" font-family=\"sans-serif\" font-size=\"12\" lengthAdjust=\"spacingAndGlyphs\" textLength=\"102\" x=\"182\" y=\"394.1074\">engine1: Engine</text><line style=\"stroke: #383838; stroke-width: 1.5;\" x1=\"180\" x2=\"290\" y1=\"401.9375\" y2=\"401.9375\"/></a><!--MD5=[ebbe1d658d1005bcc118a6aa81145e00]\n",
       "class E4--><a href=\"psysml:44e88bb9-9b84-4b3f-b104-23d7a257fb04\" target=\"_top\" title=\"psysml:44e88bb9-9b84-4b3f-b104-23d7a257fb04\" xlink:actuate=\"onRequest\" xlink:href=\"psysml:44e88bb9-9b84-4b3f-b104-23d7a257fb04\" xlink:show=\"new\" xlink:title=\"psysml:44e88bb9-9b84-4b3f-b104-23d7a257fb04\" xlink:type=\"simple\"><rect fill=\"#FFFFFF\" height=\"45.9375\" id=\"E4\" rx=\"10\" ry=\"10\" style=\"stroke: #383838; stroke-width: 1.5;\" width=\"112\" x=\"32\" y=\"364\"/><text fill=\"#000000\" font-family=\"sans-serif\" font-size=\"12\" font-style=\"italic\" lengthAdjust=\"spacingAndGlyphs\" textLength=\"40\" x=\"68\" y=\"380.1387\">«part»</text><text fill=\"#000000\" font-family=\"sans-serif\" font-size=\"12\" lengthAdjust=\"spacingAndGlyphs\" textLength=\"102\" x=\"35\" y=\"394.1074\">engine2: Engine</text><line style=\"stroke: #383838; stroke-width: 1.5;\" x1=\"33\" x2=\"143\" y1=\"401.9375\" y2=\"401.9375\"/></a><!--MD5=[2156ba9850f5573cc1fc38a6a4b2f02b]\n",
       "class E7--><a href=\"psysml:1fa3686a-6014-4c73-9542-2575e26fd8a7\" target=\"_top\" title=\"psysml:1fa3686a-6014-4c73-9542-2575e26fd8a7\" xlink:actuate=\"onRequest\" xlink:href=\"psysml:1fa3686a-6014-4c73-9542-2575e26fd8a7\" xlink:show=\"new\" xlink:title=\"psysml:1fa3686a-6014-4c73-9542-2575e26fd8a7\" xlink:type=\"simple\"><rect fill=\"#FFFFFF\" height=\"45.9375\" id=\"E7\" rx=\"10\" ry=\"10\" style=\"stroke: #383838; stroke-width: 1.5;\" width=\"129\" x=\"181.5\" y=\"241\"/><text fill=\"#000000\" font-family=\"sans-serif\" font-size=\"12\" font-style=\"italic\" lengthAdjust=\"spacingAndGlyphs\" textLength=\"82\" x=\"205\" y=\"257.1387\">«calculation»</text><text fill=\"#000000\" font-family=\"sans-serif\" font-size=\"12\" lengthAdjust=\"spacingAndGlyphs\" textLength=\"119\" x=\"184.5\" y=\"271.1074\">evaluationFunction</text><line style=\"stroke: #383838; stroke-width: 1.5;\" x1=\"182.5\" x2=\"309.5\" y1=\"278.9375\" y2=\"278.9375\"/></a><!--MD5=[b9389687b975829384b498ac4b7476b2]\n",
       "class E8--><a href=\"psysml:79c1d929-0a70-426e-ae6d-56e5e3e776a6\" target=\"_top\" title=\"psysml:79c1d929-0a70-426e-ae6d-56e5e3e776a6\" xlink:actuate=\"onRequest\" xlink:href=\"psysml:79c1d929-0a70-426e-ae6d-56e5e3e776a6\" xlink:show=\"new\" xlink:title=\"psysml:79c1d929-0a70-426e-ae6d-56e5e3e776a6\" xlink:type=\"simple\"><rect fill=\"#FFFFFF\" height=\"45.9375\" id=\"E8\" rx=\"10\" ry=\"10\" style=\"stroke: #383838; stroke-width: 1.5;\" width=\"128\" x=\"363\" y=\"364\"/><text fill=\"#000000\" font-family=\"sans-serif\" font-size=\"12\" font-style=\"italic\" lengthAdjust=\"spacingAndGlyphs\" textLength=\"40\" x=\"407\" y=\"380.1387\">«part»</text><text fill=\"#000000\" font-family=\"sans-serif\" font-size=\"12\" lengthAdjust=\"spacingAndGlyphs\" textLength=\"118\" x=\"366\" y=\"394.1074\">alternative: Engine</text><line style=\"stroke: #383838; stroke-width: 1.5;\" x1=\"364\" x2=\"490\" y1=\"401.9375\" y2=\"401.9375\"/></a><!--MD5=[fd4143e9d270a159db93a4ea2a975926]\n",
       "class E9--><a href=\"psysml:169f456a-e384-47f5-89e9-43fd13dd17eb\" target=\"_top\" title=\"psysml:169f456a-e384-47f5-89e9-43fd13dd17eb\" xlink:actuate=\"onRequest\" xlink:href=\"psysml:169f456a-e384-47f5-89e9-43fd13dd17eb\" xlink:show=\"new\" xlink:title=\"psysml:169f456a-e384-47f5-89e9-43fd13dd17eb\" xlink:type=\"simple\"><rect fill=\"#FFFFFF\" height=\"45.9375\" id=\"E9\" rx=\"10\" ry=\"10\" style=\"stroke: #383838; stroke-width: 1.5;\" width=\"182\" x=\"346\" y=\"241\"/><text fill=\"#000000\" font-family=\"sans-serif\" font-size=\"12\" font-style=\"italic\" lengthAdjust=\"spacingAndGlyphs\" textLength=\"40\" x=\"417\" y=\"257.1387\">«part»</text><text fill=\"#000000\" font-family=\"sans-serif\" font-size=\"12\" lengthAdjust=\"spacingAndGlyphs\" textLength=\"172\" x=\"349\" y=\"271.1074\">selectedAlternative: Engine</text><line style=\"stroke: #383838; stroke-width: 1.5;\" x1=\"347\" x2=\"527\" y1=\"278.9375\" y2=\"278.9375\"/></a><!--MD5=[60a26617385b1d2d0262a64233df1f8d]\n",
       "class E6--><a href=\"psysml:9a804e4d-bc47-4ee7-a2d8-d8527e0c1caf\" target=\"_top\" title=\"psysml:9a804e4d-bc47-4ee7-a2d8-d8527e0c1caf\" xlink:actuate=\"onRequest\" xlink:href=\"psysml:9a804e4d-bc47-4ee7-a2d8-d8527e0c1caf\" xlink:show=\"new\" xlink:title=\"psysml:9a804e4d-bc47-4ee7-a2d8-d8527e0c1caf\" xlink:type=\"simple\"><rect fill=\"#FFFFFF\" height=\"45.9375\" id=\"E6\" rx=\"10\" ry=\"10\" style=\"stroke: #383838; stroke-width: 1.5;\" width=\"132\" x=\"281\" y=\"116\"/><text fill=\"#000000\" font-family=\"sans-serif\" font-size=\"12\" font-style=\"italic\" lengthAdjust=\"spacingAndGlyphs\" textLength=\"70\" x=\"312\" y=\"132.1387\">«objective»</text><text fill=\"#000000\" font-family=\"sans-serif\" font-size=\"12\" lengthAdjust=\"spacingAndGlyphs\" textLength=\"126\" x=\"284\" y=\"146.1074\">tradeStudyObjective</text><line style=\"stroke: #383838; stroke-width: 1.5;\" x1=\"282\" x2=\"412\" y1=\"153.9375\" y2=\"153.9375\"/></a><!--MD5=[05d275557350bfb9b23a4ef7222b4c39]\n",
       "link E3 to E2--><a href=\"psysml:9be21745-fec5-4980-9af6-b796782d7969\" target=\"_top\" title=\"psysml:9be21745-fec5-4980-9af6-b796782d7969\" xlink:actuate=\"onRequest\" xlink:href=\"psysml:9be21745-fec5-4980-9af6-b796782d7969\" xlink:show=\"new\" xlink:title=\"psysml:9be21745-fec5-4980-9af6-b796782d7969\" xlink:type=\"simple\"><path d=\"M254.29,410.01 C265.74,423.08 280.57,440.01 293.86,455.17 \" fill=\"none\" id=\"E3-&gt;E2\" style=\"stroke: #383838; stroke-width: 1.0;\"/><polygon fill=\"#FFFFFF\" points=\"307.42,470.66,289.6319,460.9861,300.1599,451.7578,307.42,470.66\" style=\"stroke: #383838; stroke-width: 1.0;\"/><ellipse cx=\"287.3787\" cy=\"455.3814\" fill=\"#383838\" rx=\"2\" ry=\"2\" style=\"stroke: #383838; stroke-width: 1.0;\"/><ellipse cx=\"294.8987\" cy=\"448.7898\" fill=\"#383838\" rx=\"2\" ry=\"2\" style=\"stroke: #383838; stroke-width: 1.0;\"/></a><!--MD5=[185131fc0dcab0a4505a2ebe144e961b]\n",
       "link E4 to E2--><a href=\"psysml:1ad537aa-bda6-4221-a392-6db0b9fa994b\" target=\"_top\" title=\"psysml:1ad537aa-bda6-4221-a392-6db0b9fa994b\" xlink:actuate=\"onRequest\" xlink:href=\"psysml:1ad537aa-bda6-4221-a392-6db0b9fa994b\" xlink:show=\"new\" xlink:title=\"psysml:1ad537aa-bda6-4221-a392-6db0b9fa994b\" xlink:type=\"simple\"><path d=\"M138.1,410.01 C177.63,427.38 232.65,451.55 273.12,469.33 \" fill=\"none\" id=\"E4-&gt;E2\" style=\"stroke: #383838; stroke-width: 1.0;\"/><polygon fill=\"#FFFFFF\" points=\"291.69,477.49,271.479,476.2594,277.1083,463.4411,291.69,477.49\" style=\"stroke: #383838; stroke-width: 1.0;\"/><ellipse cx=\"267.0642\" cy=\"472.1363\" fill=\"#383838\" rx=\"2\" ry=\"2\" style=\"stroke: #383838; stroke-width: 1.0;\"/><ellipse cx=\"271.0852\" cy=\"462.9803\" fill=\"#383838\" rx=\"2\" ry=\"2\" style=\"stroke: #383838; stroke-width: 1.0;\"/></a><!--MD5=[15ebcb19ae302d9b601edb458606d402]\n",
       "link E5 to E2--><a href=\"psysml:ef23f2a8-b555-4000-b8d1-a9fc8ea83129\" target=\"_top\" title=\"psysml:ef23f2a8-b555-4000-b8d1-a9fc8ea83129\" xlink:actuate=\"onRequest\" xlink:href=\"psysml:ef23f2a8-b555-4000-b8d1-a9fc8ea83129\" xlink:show=\"new\" xlink:title=\"psysml:ef23f2a8-b555-4000-b8d1-a9fc8ea83129\" xlink:type=\"simple\"><path d=\"M237.7579,150.1502 C237.6584,150.2728 237.5582,150.3963 237.4572,150.5206 C235.8418,152.5106 234.0402,154.7298 232.0906,157.1313 C224.2925,166.7369 214.1275,179.2575 204.04,191.6825 C183.865,216.5325 164,241 164,241 C164,241 164,287 164,287 C164,287 309,364 309,364 C309,364 317.87,427.54 323.15,465.43 \" fill=\"none\" id=\"E5-&gt;E2\" style=\"stroke: #383838; stroke-width: 1.0; stroke-dasharray: 7.0,7.0;\"/><polygon fill=\"#383838\" points=\"323.91,470.82,326.6391,461.3568,323.2249,465.8672,318.7145,462.453,323.91,470.82\" style=\"stroke: #383838; stroke-width: 1.0;\"/><text fill=\"#000000\" font-family=\"sans-serif\" font-size=\"13\" lengthAdjust=\"spacingAndGlyphs\" textLength=\"62\" x=\"252\" y=\"330.0669\">«subject»</text></a><!--MD5=[452b418e7f8a40397a49b8c0a78acc5b]\n",
       "reverse link E5 to E7--><a href=\"psysml:3495a436-635c-4195-be5e-85a5d126f0e1\" target=\"_top\" title=\"psysml:3495a436-635c-4195-be5e-85a5d126f0e1\" xlink:actuate=\"onRequest\" xlink:href=\"psysml:3495a436-635c-4195-be5e-85a5d126f0e1\" xlink:show=\"new\" xlink:title=\"psysml:3495a436-635c-4195-be5e-85a5d126f0e1\" xlink:type=\"simple\"><path d=\"M246,186.2997 C246,188.9655 246,191.6719 246,194.3971 C246,199.8476 246,205.3735 246,210.8005 C246,221.6544 246,232.1125 246,240.78 \" fill=\"none\" id=\"E5&lt;-E7\" style=\"stroke: #383838; stroke-width: 1.0;\"/><polygon fill=\"#383838\" points=\"246,186.2997,242,192.2997,246,198.2997,250,192.2997,246,186.2997\" style=\"stroke: #383838; stroke-width: 1.0;\"/></a><!--MD5=[dc164f5e8a733ab456ef1add180e9e34]\n",
       "reverse link E7 to E8--><a href=\"psysml:e1d2632c-68a4-476d-b3ed-d8b6d2aaac51\" target=\"_top\" title=\"psysml:e1d2632c-68a4-476d-b3ed-d8b6d2aaac51\" xlink:actuate=\"onRequest\" xlink:href=\"psysml:e1d2632c-68a4-476d-b3ed-d8b6d2aaac51\" xlink:show=\"new\" xlink:title=\"psysml:e1d2632c-68a4-476d-b3ed-d8b6d2aaac51\" xlink:type=\"simple\"><path d=\"M290.06,294.45 C322.12,315.89 364.86,344.46 394.01,363.95 \" fill=\"none\" id=\"E7&lt;-E8\" style=\"stroke: #383838; stroke-width: 1.0;\"/><polygon fill=\"#FFFFFF\" points=\"279.2,287.19,281.9674,293.8489,289.1785,293.8555,286.4111,287.1966,279.2,287.19\" style=\"stroke: #383838; stroke-width: 1.0;\"/><text fill=\"#000000\" font-family=\"sans-serif\" font-size=\"13\" lengthAdjust=\"spacingAndGlyphs\" textLength=\"8\" x=\"376.0689\" y=\"352.8328\">1</text></a><!--MD5=[f1f3f9f2fc535e6147756cb86a7f2e32]\n",
       "link E8 to E2--><a href=\"psysml:a8ae8a0d-ad52-4d9e-986d-0c741d3467c2\" target=\"_top\" title=\"psysml:a8ae8a0d-ad52-4d9e-986d-0c741d3467c2\" xlink:actuate=\"onRequest\" xlink:href=\"psysml:a8ae8a0d-ad52-4d9e-986d-0c741d3467c2\" xlink:show=\"new\" xlink:title=\"psysml:a8ae8a0d-ad52-4d9e-986d-0c741d3467c2\" xlink:type=\"simple\"><path d=\"M406.04,410.01 C393.32,423.36 376.77,440.74 362.11,456.14 \" fill=\"none\" id=\"E8-&gt;E2\" style=\"stroke: #383838; stroke-width: 1.0;\"/><polygon fill=\"#FFFFFF\" points=\"348.28,470.66,356.3076,452.0708,366.4491,461.7223,348.28,470.66\" style=\"stroke: #383838; stroke-width: 1.0;\"/><ellipse cx=\"361.6859\" cy=\"449.3206\" fill=\"#383838\" rx=\"2\" ry=\"2\" style=\"stroke: #383838; stroke-width: 1.0;\"/><ellipse cx=\"368.9298\" cy=\"456.2144\" fill=\"#383838\" rx=\"2\" ry=\"2\" style=\"stroke: #383838; stroke-width: 1.0;\"/></a><!--MD5=[9ae28de373ca99bb8a1b38d63370ca7e]\n",
       "reverse link E5 to E9--><a href=\"psysml:1023028c-00c5-4dde-9329-e4b02befe1ab\" target=\"_top\" title=\"psysml:1023028c-00c5-4dde-9329-e4b02befe1ab\" xlink:actuate=\"onRequest\" xlink:href=\"psysml:1023028c-00c5-4dde-9329-e4b02befe1ab\" xlink:show=\"new\" xlink:title=\"psysml:1023028c-00c5-4dde-9329-e4b02befe1ab\" xlink:type=\"simple\"><path d=\"M260.141,186.1434 C260.2057,186.3545 260.27,186.5643 260.3339,186.7729 C260.4617,187.1899 260.5879,187.6018 260.7124,188.0081 C261.2104,189.633 261.6806,191.1677 262.1144,192.5831 C263.8494,198.245 265,202 265,202 C265,202 325.64,223.5 374.9,240.98 \" fill=\"none\" id=\"E5&lt;-E9\" style=\"stroke: #383838; stroke-width: 1.0;\"/><polygon fill=\"#FFFFFF\" points=\"260.141,186.1434,258.0745,193.0521,263.6569,197.6168,265.7234,190.7081,260.141,186.1434\" style=\"stroke: #383838; stroke-width: 1.0;\"/><text fill=\"#000000\" font-family=\"sans-serif\" font-size=\"13\" lengthAdjust=\"spacingAndGlyphs\" textLength=\"8\" x=\"349.1356\" y=\"229.8709\">1</text></a><!--MD5=[5c3bb36fe832a92c7f0e1807dd65209d]\n",
       "link E9 to E2--><a href=\"psysml:d6cd1bf0-a8ac-42a9-91c6-4adc5d4642e7\" target=\"_top\" title=\"psysml:d6cd1bf0-a8ac-42a9-91c6-4adc5d4642e7\" xlink:actuate=\"onRequest\" xlink:href=\"psysml:d6cd1bf0-a8ac-42a9-91c6-4adc5d4642e7\" xlink:show=\"new\" xlink:title=\"psysml:d6cd1bf0-a8ac-42a9-91c6-4adc5d4642e7\" xlink:type=\"simple\"><path d=\"M453.34,287.46 C474.58,316.67 509,364 509,364 C509,364 509,410 509,410 C509,410 434.09,444.16 380.39,468.65 \" fill=\"none\" id=\"E9-&gt;E2\" style=\"stroke: #383838; stroke-width: 1.0;\"/><polygon fill=\"#FFFFFF\" points=\"362.09,477,376.4727,462.7473,382.2817,475.4852,362.09,477\" style=\"stroke: #383838; stroke-width: 1.0;\"/><ellipse cx=\"382.4887\" cy=\"462.2019\" fill=\"#383838\" rx=\"2\" ry=\"2\" style=\"stroke: #383838; stroke-width: 1.0;\"/><ellipse cx=\"386.638\" cy=\"471.3004\" fill=\"#383838\" rx=\"2\" ry=\"2\" style=\"stroke: #383838; stroke-width: 1.0;\"/></a><!--MD5=[722f97c84713cc5d8f9a8c30c6fe54e4]\n",
       "@startuml\r\n",
       "skinparam linetype polyline\r\n",
       "skinparam monochrome true\r\n",
       "skinparam classbackgroundcolor white\r\n",
       "skinparam shadowing false\r\n",
       "skinparam wrapWidth 300\r\n",
       "hide circle\r\n",
       "\r\n",
       "package \"TradeStudyTest\" as E1  [[psysml:9d3e1c5c-e45c-4a85-8e75-4ee823ac8fbf ]]  {\r\n",
       "comp def \"Engine\" as E2  <<(T,blue) part  def>> [[psysml:956f1300-60cf-48ef-8161-7a381ae0bb8c ]] {\r\n",
       "}\r\n",
       "comp usage \"engine1: Engine \" as E3  <<(T,blue) part>> [[psysml:5ff7a686-dab8-41cf-8031-b7dccb26607b ]] {\r\n",
       "}\r\n",
       "comp usage \"engine2: Engine \" as E4  <<(T,blue) part>> [[psysml:44e88bb9-9b84-4b3f-b104-23d7a257fb04 ]] {\r\n",
       "}\r\n",
       "rec usage \"engineTradeStudy\" as E5 << analysis>> [[psysml:e12e8838-d64a-4336-9e52-2de97357eae2 ]] {\r\n",
       "comp usage \"tradeStudyObjective\" as E6  <<objective>> [[psysml:9a804e4d-bc47-4ee7-a2d8-d8527e0c1caf ]] {\r\n",
       "}\r\n",
       "}\r\n",
       "comp usage \"evaluationFunction \" as E7  <<(T,blue) calculation>> [[psysml:1fa3686a-6014-4c73-9542-2575e26fd8a7 ]] {\r\n",
       "}\r\n",
       "comp usage \"alternative: Engine \" as E8  <<(T,blue) part>> [[psysml:79c1d929-0a70-426e-ae6d-56e5e3e776a6 ]] {\r\n",
       "}\r\n",
       "comp usage \"selectedAlternative: Engine \" as E9  <<(T,blue) part>> [[psysml:169f456a-e384-47f5-89e9-43fd13dd17eb ]] {\r\n",
       "}\r\n",
       "}\r\n",
       "E3 - -:|> E2 [[psysml:9be21745-fec5-4980-9af6-b796782d7969 ]] \r\n",
       "E4 - -:|> E2 [[psysml:1ad537aa-bda6-4221-a392-6db0b9fa994b ]] \r\n",
       "E5 ..> E2 [[psysml:ef23f2a8-b555-4000-b8d1-a9fc8ea83129 ]] : <<subject>>\r\n",
       "E5 *- - E7 [[psysml:3495a436-635c-4195-be5e-85a5d126f0e1 ]] \r\n",
       "E7 o- - \"1\"E8 [[psysml:e1d2632c-68a4-476d-b3ed-d8b6d2aaac51 ]] \r\n",
       "E8 - -:|> E2 [[psysml:a8ae8a0d-ad52-4d9e-986d-0c741d3467c2 ]] \r\n",
       "E5 o- - \"1\"E9 [[psysml:1023028c-00c5-4dde-9329-e4b02befe1ab ]] \r\n",
       "E9 - -:|> E2 [[psysml:d6cd1bf0-a8ac-42a9-91c6-4adc5d4642e7 ]] \r\n",
       "@enduml\r\n",
       "\n",
       "PlantUML version 1.2020.13(Sat Jun 13 12:26:38 UTC 2020)\n",
       "(EPL source distribution)\n",
       "Java Runtime: OpenJDK Runtime Environment\n",
       "JVM: OpenJDK 64-Bit Server VM\n",
       "Default Encoding: UTF-8\n",
       "Language: en\n",
       "Country: null\n",
       "--></g></svg>"
      ]
     },
     "execution_count": 15,
     "metadata": {},
     "output_type": "execute_result"
    }
   ],
   "source": [
    "%viz --style=\"POLYLINE\" --view=\"MIXED\" \"TradeStudyTest\""
   ]
  },
  {
   "cell_type": "code",
   "execution_count": 16,
   "id": "84187868",
   "metadata": {
    "execution": {
     "iopub.execute_input": "2022-02-18T10:50:35.745191Z",
     "iopub.status.busy": "2022-02-18T10:50:35.744771Z",
     "iopub.status.idle": "2022-02-18T10:50:35.793311Z",
     "shell.execute_reply": "2022-02-18T10:50:35.792971Z"
    }
   },
   "outputs": [
    {
     "data": {
      "image/svg+xml": [
       "<?xml version=\"1.0\" encoding=\"UTF-8\" standalone=\"no\"?><svg xmlns=\"http://www.w3.org/2000/svg\" xmlns:xlink=\"http://www.w3.org/1999/xlink\" contentScriptType=\"application/ecmascript\" contentStyleType=\"text/css\" height=\"351px\" preserveAspectRatio=\"none\" style=\"width:886px;height:351px;\" version=\"1.1\" viewBox=\"0 0 886 351\" width=\"886px\" zoomAndPan=\"magnify\"><defs/><g><!--MD5=[fbc87193dbaf4d95561dea2c320d4a47]\n",
       "cluster E1--><a href=\"psysml:9d3e1c5c-e45c-4a85-8e75-4ee823ac8fbf\" target=\"_top\" title=\"psysml:9d3e1c5c-e45c-4a85-8e75-4ee823ac8fbf\" xlink:actuate=\"onRequest\" xlink:href=\"psysml:9d3e1c5c-e45c-4a85-8e75-4ee823ac8fbf\" xlink:show=\"new\" xlink:title=\"psysml:9d3e1c5c-e45c-4a85-8e75-4ee823ac8fbf\" xlink:type=\"simple\"><polygon fill=\"#FFFFFF\" points=\"16,6,132,6,139,28.2969,864,28.2969,864,339,16,339,16,6\" style=\"stroke: #000000; stroke-width: 1.5;\"/><line style=\"stroke: #000000; stroke-width: 1.5;\" x1=\"16\" x2=\"139\" y1=\"28.2969\" y2=\"28.2969\"/><text fill=\"#000000\" font-family=\"sans-serif\" font-size=\"14\" font-weight=\"bold\" lengthAdjust=\"spacingAndGlyphs\" textLength=\"110\" x=\"20\" y=\"20.9951\">TradeStudyTest</text></a><!--MD5=[de5ec2e2e8f62f467e546659f5068c88]\n",
       "cluster E5--><a href=\"psysml:e12e8838-d64a-4336-9e52-2de97357eae2\" target=\"_top\" title=\"psysml:e12e8838-d64a-4336-9e52-2de97357eae2\" xlink:actuate=\"onRequest\" xlink:href=\"psysml:e12e8838-d64a-4336-9e52-2de97357eae2\" xlink:show=\"new\" xlink:title=\"psysml:e12e8838-d64a-4336-9e52-2de97357eae2\" xlink:type=\"simple\"><rect fill=\"#FFFFFF\" height=\"148\" id=\"E5\" rx=\"10\" ry=\"10\" style=\"stroke: #383838; stroke-width: 1.5;\" width=\"180\" x=\"48\" y=\"57\"/><rect fill=\"#F8F8F8\" height=\"37.9375\" rx=\"10\" ry=\"10\" style=\"stroke: #F8F8F8; stroke-width: 1.5;\" width=\"180\" x=\"48\" y=\"57\"/><rect fill=\"#F8F8F8\" height=\"10\" style=\"stroke: #F8F8F8; stroke-width: 1.5;\" width=\"180\" x=\"48\" y=\"84.9375\"/><rect fill=\"none\" height=\"148\" id=\"E5\" rx=\"10\" ry=\"10\" style=\"stroke: #383838; stroke-width: 1.5;\" width=\"180\" x=\"48\" y=\"57\"/><text fill=\"#000000\" font-family=\"sans-serif\" font-size=\"12\" font-style=\"italic\" lengthAdjust=\"spacingAndGlyphs\" textLength=\"64\" x=\"106\" y=\"73.1387\">«analysis»</text><text fill=\"#000000\" font-family=\"sans-serif\" font-size=\"12\" lengthAdjust=\"spacingAndGlyphs\" textLength=\"114\" x=\"81\" y=\"87.1074\">engineTradeStudy</text><line style=\"stroke: #383838; stroke-width: 1.0;\" x1=\"48\" x2=\"228\" y1=\"94.9375\" y2=\"94.9375\"/></a><!--MD5=[b4997ac47864f28c2f74865a473b2911]\n",
       "class E2--><a href=\"psysml:956f1300-60cf-48ef-8161-7a381ae0bb8c\" target=\"_top\" title=\"psysml:956f1300-60cf-48ef-8161-7a381ae0bb8c\" xlink:actuate=\"onRequest\" xlink:href=\"psysml:956f1300-60cf-48ef-8161-7a381ae0bb8c\" xlink:show=\"new\" xlink:title=\"psysml:956f1300-60cf-48ef-8161-7a381ae0bb8c\" xlink:type=\"simple\"><rect fill=\"#FFFFFF\" height=\"45.9375\" id=\"E2\" style=\"stroke: #383838; stroke-width: 1.5;\" width=\"70\" x=\"778\" y=\"137\"/><text fill=\"#000000\" font-family=\"sans-serif\" font-size=\"12\" font-style=\"italic\" lengthAdjust=\"spacingAndGlyphs\" textLength=\"68\" x=\"779\" y=\"153.1387\">«part  def»</text><text fill=\"#000000\" font-family=\"sans-serif\" font-size=\"12\" lengthAdjust=\"spacingAndGlyphs\" textLength=\"43\" x=\"791.5\" y=\"167.1074\">Engine</text><line style=\"stroke: #383838; stroke-width: 1.5;\" x1=\"779\" x2=\"847\" y1=\"174.9375\" y2=\"174.9375\"/></a><!--MD5=[09b614a08d8cba4a07c9adeb5e0fee81]\n",
       "class E3--><a href=\"psysml:5ff7a686-dab8-41cf-8031-b7dccb26607b\" target=\"_top\" title=\"psysml:5ff7a686-dab8-41cf-8031-b7dccb26607b\" xlink:actuate=\"onRequest\" xlink:href=\"psysml:5ff7a686-dab8-41cf-8031-b7dccb26607b\" xlink:show=\"new\" xlink:title=\"psysml:5ff7a686-dab8-41cf-8031-b7dccb26607b\" xlink:type=\"simple\"><rect fill=\"#FFFFFF\" height=\"45.9375\" id=\"E3\" rx=\"10\" ry=\"10\" style=\"stroke: #383838; stroke-width: 1.5;\" width=\"112\" x=\"597\" y=\"196\"/><text fill=\"#000000\" font-family=\"sans-serif\" font-size=\"12\" font-style=\"italic\" lengthAdjust=\"spacingAndGlyphs\" textLength=\"40\" x=\"633\" y=\"212.1387\">«part»</text><text fill=\"#000000\" font-family=\"sans-serif\" font-size=\"12\" lengthAdjust=\"spacingAndGlyphs\" textLength=\"102\" x=\"600\" y=\"226.1074\">engine1: Engine</text><line style=\"stroke: #383838; stroke-width: 1.5;\" x1=\"598\" x2=\"708\" y1=\"233.9375\" y2=\"233.9375\"/></a><!--MD5=[ebbe1d658d1005bcc118a6aa81145e00]\n",
       "class E4--><a href=\"psysml:44e88bb9-9b84-4b3f-b104-23d7a257fb04\" target=\"_top\" title=\"psysml:44e88bb9-9b84-4b3f-b104-23d7a257fb04\" xlink:actuate=\"onRequest\" xlink:href=\"psysml:44e88bb9-9b84-4b3f-b104-23d7a257fb04\" xlink:show=\"new\" xlink:title=\"psysml:44e88bb9-9b84-4b3f-b104-23d7a257fb04\" xlink:type=\"simple\"><rect fill=\"#FFFFFF\" height=\"45.9375\" id=\"E4\" rx=\"10\" ry=\"10\" style=\"stroke: #383838; stroke-width: 1.5;\" width=\"112\" x=\"597\" y=\"277\"/><text fill=\"#000000\" font-family=\"sans-serif\" font-size=\"12\" font-style=\"italic\" lengthAdjust=\"spacingAndGlyphs\" textLength=\"40\" x=\"633\" y=\"293.1387\">«part»</text><text fill=\"#000000\" font-family=\"sans-serif\" font-size=\"12\" lengthAdjust=\"spacingAndGlyphs\" textLength=\"102\" x=\"600\" y=\"307.1074\">engine2: Engine</text><line style=\"stroke: #383838; stroke-width: 1.5;\" x1=\"598\" x2=\"708\" y1=\"314.9375\" y2=\"314.9375\"/></a><!--MD5=[2156ba9850f5573cc1fc38a6a4b2f02b]\n",
       "class E7--><a href=\"psysml:1fa3686a-6014-4c73-9542-2575e26fd8a7\" target=\"_top\" title=\"psysml:1fa3686a-6014-4c73-9542-2575e26fd8a7\" xlink:actuate=\"onRequest\" xlink:href=\"psysml:1fa3686a-6014-4c73-9542-2575e26fd8a7\" xlink:show=\"new\" xlink:title=\"psysml:1fa3686a-6014-4c73-9542-2575e26fd8a7\" xlink:type=\"simple\"><rect fill=\"#FFFFFF\" height=\"45.9375\" id=\"E7\" rx=\"10\" ry=\"10\" style=\"stroke: #383838; stroke-width: 1.5;\" width=\"129\" x=\"309.5\" y=\"122\"/><text fill=\"#000000\" font-family=\"sans-serif\" font-size=\"12\" font-style=\"italic\" lengthAdjust=\"spacingAndGlyphs\" textLength=\"82\" x=\"333\" y=\"138.1387\">«calculation»</text><text fill=\"#000000\" font-family=\"sans-serif\" font-size=\"12\" lengthAdjust=\"spacingAndGlyphs\" textLength=\"119\" x=\"312.5\" y=\"152.1074\">evaluationFunction</text><line style=\"stroke: #383838; stroke-width: 1.5;\" x1=\"310.5\" x2=\"437.5\" y1=\"159.9375\" y2=\"159.9375\"/></a><!--MD5=[b9389687b975829384b498ac4b7476b2]\n",
       "class E8--><a href=\"psysml:79c1d929-0a70-426e-ae6d-56e5e3e776a6\" target=\"_top\" title=\"psysml:79c1d929-0a70-426e-ae6d-56e5e3e776a6\" xlink:actuate=\"onRequest\" xlink:href=\"psysml:79c1d929-0a70-426e-ae6d-56e5e3e776a6\" xlink:show=\"new\" xlink:title=\"psysml:79c1d929-0a70-426e-ae6d-56e5e3e776a6\" xlink:type=\"simple\"><rect fill=\"#FFFFFF\" height=\"45.9375\" id=\"E8\" rx=\"10\" ry=\"10\" style=\"stroke: #383838; stroke-width: 1.5;\" width=\"128\" x=\"589\" y=\"78\"/><text fill=\"#000000\" font-family=\"sans-serif\" font-size=\"12\" font-style=\"italic\" lengthAdjust=\"spacingAndGlyphs\" textLength=\"40\" x=\"633\" y=\"94.1387\">«part»</text><text fill=\"#000000\" font-family=\"sans-serif\" font-size=\"12\" lengthAdjust=\"spacingAndGlyphs\" textLength=\"118\" x=\"592\" y=\"108.1074\">alternative: Engine</text><line style=\"stroke: #383838; stroke-width: 1.5;\" x1=\"590\" x2=\"716\" y1=\"115.9375\" y2=\"115.9375\"/></a><!--MD5=[fd4143e9d270a159db93a4ea2a975926]\n",
       "class E9--><a href=\"psysml:169f456a-e384-47f5-89e9-43fd13dd17eb\" target=\"_top\" title=\"psysml:169f456a-e384-47f5-89e9-43fd13dd17eb\" xlink:actuate=\"onRequest\" xlink:href=\"psysml:169f456a-e384-47f5-89e9-43fd13dd17eb\" xlink:show=\"new\" xlink:title=\"psysml:169f456a-e384-47f5-89e9-43fd13dd17eb\" xlink:type=\"simple\"><rect fill=\"#FFFFFF\" height=\"45.9375\" id=\"E9\" rx=\"10\" ry=\"10\" style=\"stroke: #383838; stroke-width: 1.5;\" width=\"182\" x=\"283\" y=\"41\"/><text fill=\"#000000\" font-family=\"sans-serif\" font-size=\"12\" font-style=\"italic\" lengthAdjust=\"spacingAndGlyphs\" textLength=\"40\" x=\"354\" y=\"57.1387\">«part»</text><text fill=\"#000000\" font-family=\"sans-serif\" font-size=\"12\" lengthAdjust=\"spacingAndGlyphs\" textLength=\"172\" x=\"286\" y=\"71.1074\">selectedAlternative: Engine</text><line style=\"stroke: #383838; stroke-width: 1.5;\" x1=\"284\" x2=\"464\" y1=\"78.9375\" y2=\"78.9375\"/></a><!--MD5=[60a26617385b1d2d0262a64233df1f8d]\n",
       "class E6--><a href=\"psysml:9a804e4d-bc47-4ee7-a2d8-d8527e0c1caf\" target=\"_top\" title=\"psysml:9a804e4d-bc47-4ee7-a2d8-d8527e0c1caf\" xlink:actuate=\"onRequest\" xlink:href=\"psysml:9a804e4d-bc47-4ee7-a2d8-d8527e0c1caf\" xlink:show=\"new\" xlink:title=\"psysml:9a804e4d-bc47-4ee7-a2d8-d8527e0c1caf\" xlink:type=\"simple\"><rect fill=\"#FFFFFF\" height=\"45.9375\" id=\"E6\" rx=\"10\" ry=\"10\" style=\"stroke: #383838; stroke-width: 1.5;\" width=\"132\" x=\"72\" y=\"116\"/><text fill=\"#000000\" font-family=\"sans-serif\" font-size=\"12\" font-style=\"italic\" lengthAdjust=\"spacingAndGlyphs\" textLength=\"70\" x=\"103\" y=\"132.1387\">«objective»</text><text fill=\"#000000\" font-family=\"sans-serif\" font-size=\"12\" lengthAdjust=\"spacingAndGlyphs\" textLength=\"126\" x=\"75\" y=\"146.1074\">tradeStudyObjective</text><line style=\"stroke: #383838; stroke-width: 1.5;\" x1=\"73\" x2=\"203\" y1=\"153.9375\" y2=\"153.9375\"/></a><!--MD5=[05d275557350bfb9b23a4ef7222b4c39]\n",
       "link E3 to E2--><a href=\"psysml:9be21745-fec5-4980-9af6-b796782d7969\" target=\"_top\" title=\"psysml:9be21745-fec5-4980-9af6-b796782d7969\" xlink:actuate=\"onRequest\" xlink:href=\"psysml:9be21745-fec5-4980-9af6-b796782d7969\" xlink:show=\"new\" xlink:title=\"psysml:9be21745-fec5-4980-9af6-b796782d7969\" xlink:type=\"simple\"><path d=\"M709.26,198.36 C725.37,192.35 742.93,185.79 758.9,179.83 \" fill=\"none\" id=\"E3-&gt;E2\" style=\"stroke: #383838; stroke-width: 1.0;\"/><polygon fill=\"#FFFFFF\" points=\"777.72,172.8,762.3699,186.0051,757.4717,172.89,777.72,172.8\" style=\"stroke: #383838; stroke-width: 1.0;\"/><ellipse cx=\"756.3304\" cy=\"186.1258\" fill=\"#383838\" rx=\"2\" ry=\"2\" style=\"stroke: #383838; stroke-width: 1.0;\"/><ellipse cx=\"752.8317\" cy=\"176.7578\" fill=\"#383838\" rx=\"2\" ry=\"2\" style=\"stroke: #383838; stroke-width: 1.0;\"/></a><!--MD5=[185131fc0dcab0a4505a2ebe144e961b]\n",
       "link E4 to E2--><a href=\"psysml:1ad537aa-bda6-4221-a392-6db0b9fa994b\" target=\"_top\" title=\"psysml:1ad537aa-bda6-4221-a392-6db0b9fa994b\" xlink:actuate=\"onRequest\" xlink:href=\"psysml:1ad537aa-bda6-4221-a392-6db0b9fa994b\" xlink:show=\"new\" xlink:title=\"psysml:1ad537aa-bda6-4221-a392-6db0b9fa994b\" xlink:type=\"simple\"><path d=\"M692.64,276.85 C700.93,271.34 709.46,265.24 717,259 C739.22,240.61 761.68,217.46 779.17,198.18 \" fill=\"none\" id=\"E4-&gt;E2\" style=\"stroke: #383838; stroke-width: 1.0;\"/><polygon fill=\"#FFFFFF\" points=\"792.59,183.08,785.2057,201.934,774.7386,192.6366,792.59,183.08\" style=\"stroke: #383838; stroke-width: 1.0;\"/><ellipse cx=\"779.925\" cy=\"204.8673\" fill=\"#383838\" rx=\"2\" ry=\"2\" style=\"stroke: #383838; stroke-width: 1.0;\"/><ellipse cx=\"772.4486\" cy=\"198.2264\" fill=\"#383838\" rx=\"2\" ry=\"2\" style=\"stroke: #383838; stroke-width: 1.0;\"/></a><!--MD5=[15ebcb19ae302d9b601edb458606d402]\n",
       "link E5 to E2--><a href=\"psysml:ef23f2a8-b555-4000-b8d1-a9fc8ea83129\" target=\"_top\" title=\"psysml:ef23f2a8-b555-4000-b8d1-a9fc8ea83129\" xlink:actuate=\"onRequest\" xlink:href=\"psysml:ef23f2a8-b555-4000-b8d1-a9fc8ea83129\" xlink:show=\"new\" xlink:title=\"psysml:ef23f2a8-b555-4000-b8d1-a9fc8ea83129\" xlink:type=\"simple\"><path d=\"M229.3053,194.5266 C229.7631,194.5126 230.2221,194.4985 230.6823,194.4844 C231.6027,194.4562 232.528,194.4278 233.4581,194.3991 C235.3182,194.3417 237.1975,194.2834 239.0951,194.2241 C242.8902,194.1057 246.7585,193.9834 250.6938,193.8575 C313.6575,191.8425 393.745,188.875 465,185 C576.46,178.94 707.83,168.6 772.27,163.32 \" fill=\"none\" id=\"E5-&gt;E2\" style=\"stroke: #383838; stroke-width: 1.0; stroke-dasharray: 7.0,7.0;\"/><polygon fill=\"#383838\" points=\"777.55,162.88,768.2497,159.639,772.5672,163.294,768.9121,167.6115,777.55,162.88\" style=\"stroke: #383838; stroke-width: 1.0;\"/><text fill=\"#000000\" font-family=\"sans-serif\" font-size=\"13\" lengthAdjust=\"spacingAndGlyphs\" textLength=\"62\" x=\"496\" y=\"176.0669\">«subject»</text></a><!--MD5=[452b418e7f8a40397a49b8c0a78acc5b]\n",
       "reverse link E5 to E7--><a href=\"psysml:3495a436-635c-4195-be5e-85a5d126f0e1\" target=\"_top\" title=\"psysml:3495a436-635c-4195-be5e-85a5d126f0e1\" xlink:actuate=\"onRequest\" xlink:href=\"psysml:3495a436-635c-4195-be5e-85a5d126f0e1\" xlink:show=\"new\" xlink:title=\"psysml:3495a436-635c-4195-be5e-85a5d126f0e1\" xlink:type=\"simple\"><path d=\"M228.1381,181.3254 C228.3235,181.2879 228.5087,181.2504 228.694,181.2129 C229.4348,181.0629 230.1745,180.9123 230.9129,180.7613 C232.3896,180.4593 233.8609,180.1554 235.3246,179.85 C238.2521,179.2391 241.1494,178.6219 244,178 C265.34,173.35 288.51,167.63 309.24,162.27 \" fill=\"none\" id=\"E5&lt;-E7\" style=\"stroke: #383838; stroke-width: 1.0;\"/><polygon fill=\"#383838\" points=\"228.1381,181.3254,234.8116,184.0576,239.9003,178.9484,233.2269,176.2161,228.1381,181.3254\" style=\"stroke: #383838; stroke-width: 1.0;\"/></a><!--MD5=[dc164f5e8a733ab456ef1add180e9e34]\n",
       "reverse link E7 to E8--><a href=\"psysml:e1d2632c-68a4-476d-b3ed-d8b6d2aaac51\" target=\"_top\" title=\"psysml:e1d2632c-68a4-476d-b3ed-d8b6d2aaac51\" xlink:actuate=\"onRequest\" xlink:href=\"psysml:e1d2632c-68a4-476d-b3ed-d8b6d2aaac51\" xlink:show=\"new\" xlink:title=\"psysml:e1d2632c-68a4-476d-b3ed-d8b6d2aaac51\" xlink:type=\"simple\"><path d=\"M451.59,132.83 C494.74,125.98 547.99,117.52 588.75,111.05 \" fill=\"none\" id=\"E7&lt;-E8\" style=\"stroke: #383838; stroke-width: 1.0;\"/><polygon fill=\"#FFFFFF\" points=\"438.55,134.91,445.1039,137.9178,450.401,133.0249,443.8471,130.0171,438.55,134.91\" style=\"stroke: #383838; stroke-width: 1.0;\"/><text fill=\"#000000\" font-family=\"sans-serif\" font-size=\"13\" lengthAdjust=\"spacingAndGlyphs\" textLength=\"8\" x=\"572.8586\" y=\"125.1574\">1</text></a><!--MD5=[f1f3f9f2fc535e6147756cb86a7f2e32]\n",
       "link E8 to E2--><a href=\"psysml:a8ae8a0d-ad52-4d9e-986d-0c741d3467c2\" target=\"_top\" title=\"psysml:a8ae8a0d-ad52-4d9e-986d-0c741d3467c2\" xlink:actuate=\"onRequest\" xlink:href=\"psysml:a8ae8a0d-ad52-4d9e-986d-0c741d3467c2\" xlink:show=\"new\" xlink:title=\"psysml:a8ae8a0d-ad52-4d9e-986d-0c741d3467c2\" xlink:type=\"simple\"><path d=\"M715.99,124.15 C730.17,129.44 745.11,135.02 758.87,140.16 \" fill=\"none\" id=\"E8-&gt;E2\" style=\"stroke: #383838; stroke-width: 1.0;\"/><polygon fill=\"#FFFFFF\" points=\"777.96,147.29,757.7117,147.2085,762.6044,134.0913,777.96,147.29\" style=\"stroke: #383838; stroke-width: 1.0;\"/><ellipse cx=\"753.0701\" cy=\"143.3426\" fill=\"#383838\" rx=\"2\" ry=\"2\" style=\"stroke: #383838; stroke-width: 1.0;\"/><ellipse cx=\"756.5649\" cy=\"133.9732\" fill=\"#383838\" rx=\"2\" ry=\"2\" style=\"stroke: #383838; stroke-width: 1.0;\"/></a><!--MD5=[9ae28de373ca99bb8a1b38d63370ca7e]\n",
       "reverse link E5 to E9--><a href=\"psysml:1023028c-00c5-4dde-9329-e4b02befe1ab\" target=\"_top\" title=\"psysml:1023028c-00c5-4dde-9329-e4b02befe1ab\" xlink:actuate=\"onRequest\" xlink:href=\"psysml:1023028c-00c5-4dde-9329-e4b02befe1ab\" xlink:show=\"new\" xlink:title=\"psysml:1023028c-00c5-4dde-9329-e4b02befe1ab\" xlink:type=\"simple\"><path d=\"M228.2549,186.9736 C228.4239,186.8992 228.5926,186.8242 228.7612,186.7488 C234.1538,184.3364 239.2925,181.4488 244,178 C251.5,172.51 276.21,110.35 283,104 C289.99,97.46 298.23,91.87 306.84,87.12 \" fill=\"none\" id=\"E5&lt;-E9\" style=\"stroke: #383838; stroke-width: 1.0;\"/><polygon fill=\"#FFFFFF\" points=\"228.2549,186.9736,235.3583,188.215,239.2363,182.1354,232.1328,180.894,228.2549,186.9736\" style=\"stroke: #383838; stroke-width: 1.0;\"/><text fill=\"#000000\" font-family=\"sans-serif\" font-size=\"13\" lengthAdjust=\"spacingAndGlyphs\" textLength=\"8\" x=\"280.6052\" y=\"107.0583\">1</text></a><!--MD5=[5c3bb36fe832a92c7f0e1807dd65209d]\n",
       "link E9 to E2--><a href=\"psysml:d6cd1bf0-a8ac-42a9-91c6-4adc5d4642e7\" target=\"_top\" title=\"psysml:d6cd1bf0-a8ac-42a9-91c6-4adc5d4642e7\" xlink:actuate=\"onRequest\" xlink:href=\"psysml:d6cd1bf0-a8ac-42a9-91c6-4adc5d4642e7\" xlink:show=\"new\" xlink:title=\"psysml:d6cd1bf0-a8ac-42a9-91c6-4adc5d4642e7\" xlink:type=\"simple\"><path d=\"M465.31,43.59 C536.62,31.95 637.06,25.68 717,60 C745.79,72.36 769.97,98.21 786.73,120.53 \" fill=\"none\" id=\"E9-&gt;E2\" style=\"stroke: #383838; stroke-width: 1.0;\"/><polygon fill=\"#FFFFFF\" points=\"798.29,136.98,781.6407,125.4561,793.0968,117.4088,798.29,136.98\" style=\"stroke: #383838; stroke-width: 1.0;\"/><ellipse cx=\"780.0009\" cy=\"119.6422\" fill=\"#383838\" rx=\"2\" ry=\"2\" style=\"stroke: #383838; stroke-width: 1.0;\"/><ellipse cx=\"788.1838\" cy=\"113.8942\" fill=\"#383838\" rx=\"2\" ry=\"2\" style=\"stroke: #383838; stroke-width: 1.0;\"/></a><!--MD5=[9c566ed62a5a58b721fad17423f87a75]\n",
       "@startuml\r\n",
       "left to right direction\r\n",
       "skinparam monochrome true\r\n",
       "skinparam classbackgroundcolor white\r\n",
       "skinparam shadowing false\r\n",
       "skinparam wrapWidth 300\r\n",
       "hide circle\r\n",
       "\r\n",
       "package \"TradeStudyTest\" as E1  [[psysml:9d3e1c5c-e45c-4a85-8e75-4ee823ac8fbf ]]  {\r\n",
       "comp def \"Engine\" as E2  <<(T,blue) part  def>> [[psysml:956f1300-60cf-48ef-8161-7a381ae0bb8c ]] {\r\n",
       "}\r\n",
       "comp usage \"engine1: Engine \" as E3  <<(T,blue) part>> [[psysml:5ff7a686-dab8-41cf-8031-b7dccb26607b ]] {\r\n",
       "}\r\n",
       "comp usage \"engine2: Engine \" as E4  <<(T,blue) part>> [[psysml:44e88bb9-9b84-4b3f-b104-23d7a257fb04 ]] {\r\n",
       "}\r\n",
       "rec usage \"engineTradeStudy\" as E5 << analysis>> [[psysml:e12e8838-d64a-4336-9e52-2de97357eae2 ]] {\r\n",
       "comp usage \"tradeStudyObjective\" as E6  <<objective>> [[psysml:9a804e4d-bc47-4ee7-a2d8-d8527e0c1caf ]] {\r\n",
       "}\r\n",
       "}\r\n",
       "comp usage \"evaluationFunction \" as E7  <<(T,blue) calculation>> [[psysml:1fa3686a-6014-4c73-9542-2575e26fd8a7 ]] {\r\n",
       "}\r\n",
       "comp usage \"alternative: Engine \" as E8  <<(T,blue) part>> [[psysml:79c1d929-0a70-426e-ae6d-56e5e3e776a6 ]] {\r\n",
       "}\r\n",
       "comp usage \"selectedAlternative: Engine \" as E9  <<(T,blue) part>> [[psysml:169f456a-e384-47f5-89e9-43fd13dd17eb ]] {\r\n",
       "}\r\n",
       "}\r\n",
       "E3 - -:|> E2 [[psysml:9be21745-fec5-4980-9af6-b796782d7969 ]] \r\n",
       "E4 - -:|> E2 [[psysml:1ad537aa-bda6-4221-a392-6db0b9fa994b ]] \r\n",
       "E5 ..> E2 [[psysml:ef23f2a8-b555-4000-b8d1-a9fc8ea83129 ]] : <<subject>>\r\n",
       "E5 *- - E7 [[psysml:3495a436-635c-4195-be5e-85a5d126f0e1 ]] \r\n",
       "E7 o- - \"1\"E8 [[psysml:e1d2632c-68a4-476d-b3ed-d8b6d2aaac51 ]] \r\n",
       "E8 - -:|> E2 [[psysml:a8ae8a0d-ad52-4d9e-986d-0c741d3467c2 ]] \r\n",
       "E5 o- - \"1\"E9 [[psysml:1023028c-00c5-4dde-9329-e4b02befe1ab ]] \r\n",
       "E9 - -:|> E2 [[psysml:d6cd1bf0-a8ac-42a9-91c6-4adc5d4642e7 ]] \r\n",
       "@enduml\r\n",
       "\n",
       "PlantUML version 1.2020.13(Sat Jun 13 12:26:38 UTC 2020)\n",
       "(EPL source distribution)\n",
       "Java Runtime: OpenJDK Runtime Environment\n",
       "JVM: OpenJDK 64-Bit Server VM\n",
       "Default Encoding: UTF-8\n",
       "Language: en\n",
       "Country: null\n",
       "--></g></svg>"
      ]
     },
     "execution_count": 16,
     "metadata": {},
     "output_type": "execute_result"
    }
   ],
   "source": [
    "%viz --style=\"LR\" --view=\"Default\" \"TradeStudyTest\""
   ]
  },
  {
   "cell_type": "code",
   "execution_count": 17,
   "id": "22e375c9",
   "metadata": {
    "execution": {
     "iopub.execute_input": "2022-02-18T10:50:35.843046Z",
     "iopub.status.busy": "2022-02-18T10:50:35.842624Z",
     "iopub.status.idle": "2022-02-18T10:50:35.893549Z",
     "shell.execute_reply": "2022-02-18T10:50:35.893113Z"
    }
   },
   "outputs": [
    {
     "data": {
      "image/svg+xml": [
       "<?xml version=\"1.0\" encoding=\"UTF-8\" standalone=\"no\"?><svg xmlns=\"http://www.w3.org/2000/svg\" xmlns:xlink=\"http://www.w3.org/1999/xlink\" contentScriptType=\"application/ecmascript\" contentStyleType=\"text/css\" height=\"351px\" preserveAspectRatio=\"none\" style=\"width:1164px;height:351px;\" version=\"1.1\" viewBox=\"0 0 1164 351\" width=\"1164px\" zoomAndPan=\"magnify\"><defs/><g><!--MD5=[fbc87193dbaf4d95561dea2c320d4a47]\n",
       "cluster E1--><a href=\"psysml:9d3e1c5c-e45c-4a85-8e75-4ee823ac8fbf\" target=\"_top\" title=\"psysml:9d3e1c5c-e45c-4a85-8e75-4ee823ac8fbf\" xlink:actuate=\"onRequest\" xlink:href=\"psysml:9d3e1c5c-e45c-4a85-8e75-4ee823ac8fbf\" xlink:show=\"new\" xlink:title=\"psysml:9d3e1c5c-e45c-4a85-8e75-4ee823ac8fbf\" xlink:type=\"simple\"><polygon fill=\"#FFFFFF\" points=\"16,6,132,6,139,28.2969,1142,28.2969,1142,339,16,339,16,6\" style=\"stroke: #000000; stroke-width: 1.5;\"/><line style=\"stroke: #000000; stroke-width: 1.5;\" x1=\"16\" x2=\"139\" y1=\"28.2969\" y2=\"28.2969\"/><text fill=\"#000000\" font-family=\"sans-serif\" font-size=\"14\" font-weight=\"bold\" lengthAdjust=\"spacingAndGlyphs\" textLength=\"110\" x=\"20\" y=\"20.9951\">TradeStudyTest</text></a><!--MD5=[b4997ac47864f28c2f74865a473b2911]\n",
       "class E2--><a href=\"psysml:956f1300-60cf-48ef-8161-7a381ae0bb8c\" target=\"_top\" title=\"psysml:956f1300-60cf-48ef-8161-7a381ae0bb8c\" xlink:actuate=\"onRequest\" xlink:href=\"psysml:956f1300-60cf-48ef-8161-7a381ae0bb8c\" xlink:show=\"new\" xlink:title=\"psysml:956f1300-60cf-48ef-8161-7a381ae0bb8c\" xlink:type=\"simple\"><rect fill=\"#FFFFFF\" height=\"45.9375\" id=\"E2\" style=\"stroke: #383838; stroke-width: 1.5;\" width=\"70\" x=\"1056\" y=\"181\"/><text fill=\"#000000\" font-family=\"sans-serif\" font-size=\"12\" font-style=\"italic\" lengthAdjust=\"spacingAndGlyphs\" textLength=\"68\" x=\"1057\" y=\"197.1387\">«part  def»</text><text fill=\"#000000\" font-family=\"sans-serif\" font-size=\"12\" lengthAdjust=\"spacingAndGlyphs\" textLength=\"43\" x=\"1069.5\" y=\"211.1074\">Engine</text><line style=\"stroke: #383838; stroke-width: 1.5;\" x1=\"1057\" x2=\"1125\" y1=\"218.9375\" y2=\"218.9375\"/></a><!--MD5=[09b614a08d8cba4a07c9adeb5e0fee81]\n",
       "class E3--><a href=\"psysml:5ff7a686-dab8-41cf-8031-b7dccb26607b\" target=\"_top\" title=\"psysml:5ff7a686-dab8-41cf-8031-b7dccb26607b\" xlink:actuate=\"onRequest\" xlink:href=\"psysml:5ff7a686-dab8-41cf-8031-b7dccb26607b\" xlink:show=\"new\" xlink:title=\"psysml:5ff7a686-dab8-41cf-8031-b7dccb26607b\" xlink:type=\"simple\"><rect fill=\"#FFFFFF\" height=\"45.9375\" id=\"E3\" rx=\"10\" ry=\"10\" style=\"stroke: #383838; stroke-width: 1.5;\" width=\"112\" x=\"875\" y=\"41\"/><text fill=\"#000000\" font-family=\"sans-serif\" font-size=\"12\" font-style=\"italic\" lengthAdjust=\"spacingAndGlyphs\" textLength=\"40\" x=\"911\" y=\"57.1387\">«part»</text><text fill=\"#000000\" font-family=\"sans-serif\" font-size=\"12\" lengthAdjust=\"spacingAndGlyphs\" textLength=\"102\" x=\"878\" y=\"71.1074\">engine1: Engine</text><line style=\"stroke: #383838; stroke-width: 1.5;\" x1=\"876\" x2=\"986\" y1=\"78.9375\" y2=\"78.9375\"/></a><!--MD5=[ebbe1d658d1005bcc118a6aa81145e00]\n",
       "class E4--><a href=\"psysml:44e88bb9-9b84-4b3f-b104-23d7a257fb04\" target=\"_top\" title=\"psysml:44e88bb9-9b84-4b3f-b104-23d7a257fb04\" xlink:actuate=\"onRequest\" xlink:href=\"psysml:44e88bb9-9b84-4b3f-b104-23d7a257fb04\" xlink:show=\"new\" xlink:title=\"psysml:44e88bb9-9b84-4b3f-b104-23d7a257fb04\" xlink:type=\"simple\"><rect fill=\"#FFFFFF\" height=\"45.9375\" id=\"E4\" rx=\"10\" ry=\"10\" style=\"stroke: #383838; stroke-width: 1.5;\" width=\"112\" x=\"875\" y=\"122\"/><text fill=\"#000000\" font-family=\"sans-serif\" font-size=\"12\" font-style=\"italic\" lengthAdjust=\"spacingAndGlyphs\" textLength=\"40\" x=\"911\" y=\"138.1387\">«part»</text><text fill=\"#000000\" font-family=\"sans-serif\" font-size=\"12\" lengthAdjust=\"spacingAndGlyphs\" textLength=\"102\" x=\"878\" y=\"152.1074\">engine2: Engine</text><line style=\"stroke: #383838; stroke-width: 1.5;\" x1=\"876\" x2=\"986\" y1=\"159.9375\" y2=\"159.9375\"/></a><!--MD5=[270fce915f116d4de14055a7c1d9a0f3]\n",
       "class E5--><a href=\"psysml:e12e8838-d64a-4336-9e52-2de97357eae2\" target=\"_top\" title=\"psysml:e12e8838-d64a-4336-9e52-2de97357eae2\" xlink:actuate=\"onRequest\" xlink:href=\"psysml:e12e8838-d64a-4336-9e52-2de97357eae2\" xlink:show=\"new\" xlink:title=\"psysml:e12e8838-d64a-4336-9e52-2de97357eae2\" xlink:type=\"simple\"><rect fill=\"#FFFFFF\" height=\"45.9375\" id=\"E5\" rx=\"10\" ry=\"10\" style=\"stroke: #383838; stroke-width: 1.5;\" width=\"203\" x=\"32\" y=\"173\"/><text fill=\"#000000\" font-family=\"sans-serif\" font-size=\"12\" font-style=\"italic\" lengthAdjust=\"spacingAndGlyphs\" textLength=\"64\" x=\"101.5\" y=\"189.1387\">«analysis»</text><text fill=\"#000000\" font-family=\"sans-serif\" font-size=\"12\" lengthAdjust=\"spacingAndGlyphs\" textLength=\"193\" x=\"35\" y=\"203.1074\">engineTradeStudy: TradeStudy</text><line style=\"stroke: #383838; stroke-width: 1.5;\" x1=\"33\" x2=\"234\" y1=\"210.9375\" y2=\"210.9375\"/></a><!--MD5=[60a26617385b1d2d0262a64233df1f8d]\n",
       "class E6--><a href=\"psysml:9a804e4d-bc47-4ee7-a2d8-d8527e0c1caf\" target=\"_top\" title=\"psysml:9a804e4d-bc47-4ee7-a2d8-d8527e0c1caf\" xlink:actuate=\"onRequest\" xlink:href=\"psysml:9a804e4d-bc47-4ee7-a2d8-d8527e0c1caf\" xlink:show=\"new\" xlink:title=\"psysml:9a804e4d-bc47-4ee7-a2d8-d8527e0c1caf\" xlink:type=\"simple\"><rect fill=\"#FFFFFF\" height=\"45.9375\" id=\"E6\" rx=\"10\" ry=\"10\" style=\"stroke: #383838; stroke-width: 1.5;\" width=\"255\" x=\"370\" y=\"206\"/><text fill=\"#000000\" font-family=\"sans-serif\" font-size=\"12\" font-style=\"italic\" lengthAdjust=\"spacingAndGlyphs\" textLength=\"91\" x=\"452\" y=\"222.1387\">«requirement»</text><text fill=\"#000000\" font-family=\"sans-serif\" font-size=\"12\" lengthAdjust=\"spacingAndGlyphs\" textLength=\"245\" x=\"373\" y=\"236.1074\">tradeStudyObjective: MaximizeObjective</text><line style=\"stroke: #383838; stroke-width: 1.5;\" x1=\"371\" x2=\"624\" y1=\"243.9375\" y2=\"243.9375\"/></a><!--MD5=[2156ba9850f5573cc1fc38a6a4b2f02b]\n",
       "class E7--><a href=\"psysml:1fa3686a-6014-4c73-9542-2575e26fd8a7\" target=\"_top\" title=\"psysml:1fa3686a-6014-4c73-9542-2575e26fd8a7\" xlink:actuate=\"onRequest\" xlink:href=\"psysml:1fa3686a-6014-4c73-9542-2575e26fd8a7\" xlink:show=\"new\" xlink:title=\"psysml:1fa3686a-6014-4c73-9542-2575e26fd8a7\" xlink:type=\"simple\"><rect fill=\"#FFFFFF\" height=\"45.9375\" id=\"E7\" rx=\"10\" ry=\"10\" style=\"stroke: #383838; stroke-width: 1.5;\" width=\"129\" x=\"433\" y=\"125\"/><text fill=\"#000000\" font-family=\"sans-serif\" font-size=\"12\" font-style=\"italic\" lengthAdjust=\"spacingAndGlyphs\" textLength=\"82\" x=\"456.5\" y=\"141.1387\">«calculation»</text><text fill=\"#000000\" font-family=\"sans-serif\" font-size=\"12\" lengthAdjust=\"spacingAndGlyphs\" textLength=\"119\" x=\"436\" y=\"155.1074\">evaluationFunction</text><line style=\"stroke: #383838; stroke-width: 1.5;\" x1=\"434\" x2=\"561\" y1=\"162.9375\" y2=\"162.9375\"/></a><!--MD5=[b9389687b975829384b498ac4b7476b2]\n",
       "class E8--><a href=\"psysml:79c1d929-0a70-426e-ae6d-56e5e3e776a6\" target=\"_top\" title=\"psysml:79c1d929-0a70-426e-ae6d-56e5e3e776a6\" xlink:actuate=\"onRequest\" xlink:href=\"psysml:79c1d929-0a70-426e-ae6d-56e5e3e776a6\" xlink:show=\"new\" xlink:title=\"psysml:79c1d929-0a70-426e-ae6d-56e5e3e776a6\" xlink:type=\"simple\"><rect fill=\"#FFFFFF\" height=\"45.9375\" id=\"E8\" rx=\"10\" ry=\"10\" style=\"stroke: #383838; stroke-width: 1.5;\" width=\"128\" x=\"867\" y=\"240\"/><text fill=\"#000000\" font-family=\"sans-serif\" font-size=\"12\" font-style=\"italic\" lengthAdjust=\"spacingAndGlyphs\" textLength=\"40\" x=\"911\" y=\"256.1387\">«part»</text><text fill=\"#000000\" font-family=\"sans-serif\" font-size=\"12\" lengthAdjust=\"spacingAndGlyphs\" textLength=\"118\" x=\"870\" y=\"270.1074\">alternative: Engine</text><line style=\"stroke: #383838; stroke-width: 1.5;\" x1=\"868\" x2=\"994\" y1=\"277.9375\" y2=\"277.9375\"/></a><!--MD5=[fd4143e9d270a159db93a4ea2a975926]\n",
       "class E9--><a href=\"psysml:169f456a-e384-47f5-89e9-43fd13dd17eb\" target=\"_top\" title=\"psysml:169f456a-e384-47f5-89e9-43fd13dd17eb\" xlink:actuate=\"onRequest\" xlink:href=\"psysml:169f456a-e384-47f5-89e9-43fd13dd17eb\" xlink:show=\"new\" xlink:title=\"psysml:169f456a-e384-47f5-89e9-43fd13dd17eb\" xlink:type=\"simple\"><rect fill=\"#FFFFFF\" height=\"45.9375\" id=\"E9\" rx=\"10\" ry=\"10\" style=\"stroke: #383838; stroke-width: 1.5;\" width=\"182\" x=\"655\" y=\"124\"/><text fill=\"#000000\" font-family=\"sans-serif\" font-size=\"12\" font-style=\"italic\" lengthAdjust=\"spacingAndGlyphs\" textLength=\"40\" x=\"726\" y=\"140.1387\">«part»</text><text fill=\"#000000\" font-family=\"sans-serif\" font-size=\"12\" lengthAdjust=\"spacingAndGlyphs\" textLength=\"172\" x=\"658\" y=\"154.1074\">selectedAlternative: Engine</text><line style=\"stroke: #383838; stroke-width: 1.5;\" x1=\"656\" x2=\"836\" y1=\"161.9375\" y2=\"161.9375\"/></a><!--MD5=[05d275557350bfb9b23a4ef7222b4c39]\n",
       "link E3 to E2--><a href=\"psysml:9be21745-fec5-4980-9af6-b796782d7969\" target=\"_top\" title=\"psysml:9be21745-fec5-4980-9af6-b796782d7969\" xlink:actuate=\"onRequest\" xlink:href=\"psysml:9be21745-fec5-4980-9af6-b796782d7969\" xlink:show=\"new\" xlink:title=\"psysml:9be21745-fec5-4980-9af6-b796782d7969\" xlink:type=\"simple\"><path d=\"M971.69,87.1 C979.66,92.32 987.8,98.07 995,104 C1017.39,122.42 1039.86,145.79 1057.32,165.3 \" fill=\"none\" id=\"E3-&gt;E2\" style=\"stroke: #383838; stroke-width: 1.0;\"/><polygon fill=\"#FFFFFF\" points=\"1070.69,180.6,1052.9071,170.9166,1063.4401,161.6939,1070.69,180.6\" style=\"stroke: #383838; stroke-width: 1.0;\"/><ellipse cx=\"1050.6569\" cy=\"165.3106\" fill=\"#383838\" rx=\"2\" ry=\"2\" style=\"stroke: #383838; stroke-width: 1.0;\"/><ellipse cx=\"1058.1805\" cy=\"158.723\" fill=\"#383838\" rx=\"2\" ry=\"2\" style=\"stroke: #383838; stroke-width: 1.0;\"/></a><!--MD5=[185131fc0dcab0a4505a2ebe144e961b]\n",
       "link E4 to E2--><a href=\"psysml:1ad537aa-bda6-4221-a392-6db0b9fa994b\" target=\"_top\" title=\"psysml:1ad537aa-bda6-4221-a392-6db0b9fa994b\" xlink:actuate=\"onRequest\" xlink:href=\"psysml:1ad537aa-bda6-4221-a392-6db0b9fa994b\" xlink:show=\"new\" xlink:title=\"psysml:1ad537aa-bda6-4221-a392-6db0b9fa994b\" xlink:type=\"simple\"><path d=\"M987.26,165.64 C1003.37,171.65 1020.93,178.21 1036.9,184.17 \" fill=\"none\" id=\"E4-&gt;E2\" style=\"stroke: #383838; stroke-width: 1.0;\"/><polygon fill=\"#FFFFFF\" points=\"1055.72,191.2,1035.4717,191.11,1040.3699,177.9949,1055.72,191.2\" style=\"stroke: #383838; stroke-width: 1.0;\"/><ellipse cx=\"1030.8317\" cy=\"187.2422\" fill=\"#383838\" rx=\"2\" ry=\"2\" style=\"stroke: #383838; stroke-width: 1.0;\"/><ellipse cx=\"1034.3304\" cy=\"177.8742\" fill=\"#383838\" rx=\"2\" ry=\"2\" style=\"stroke: #383838; stroke-width: 1.0;\"/></a><!--MD5=[15ebcb19ae302d9b601edb458606d402]\n",
       "link E5 to E2--><a href=\"psysml:ef23f2a8-b555-4000-b8d1-a9fc8ea83129\" target=\"_top\" title=\"psysml:ef23f2a8-b555-4000-b8d1-a9fc8ea83129\" xlink:actuate=\"onRequest\" xlink:href=\"psysml:ef23f2a8-b555-4000-b8d1-a9fc8ea83129\" xlink:show=\"new\" xlink:title=\"psysml:ef23f2a8-b555-4000-b8d1-a9fc8ea83129\" xlink:type=\"simple\"><path d=\"M195.5,219.17 C242.48,235.96 309.42,257.63 370,269 C587.64,309.83 645.7,296.22 867,304 C923.85,306 942.72,326.44 995,304 C1029.18,289.33 1056.86,255.64 1073.34,231.42 \" fill=\"none\" id=\"E5-&gt;E2\" style=\"stroke: #383838; stroke-width: 1.0; stroke-dasharray: 7.0,7.0;\"/><polygon fill=\"#383838\" points=\"1076.29,227.02,1067.9695,232.2897,1073.5165,231.1803,1074.6259,236.7273,1076.29,227.02\" style=\"stroke: #383838; stroke-width: 1.0;\"/><text fill=\"#000000\" font-family=\"sans-serif\" font-size=\"13\" lengthAdjust=\"spacingAndGlyphs\" textLength=\"62\" x=\"715\" y=\"297.0669\">«subject»</text></a><!--MD5=[9120cf2e5df3bff93db8f754bbbc09b4]\n",
       "link E5 to E6--><a href=\"psysml:82bd6807-74bc-4e7b-a156-dc2ad55e2000\" target=\"_top\" title=\"psysml:82bd6807-74bc-4e7b-a156-dc2ad55e2000\" xlink:actuate=\"onRequest\" xlink:href=\"psysml:82bd6807-74bc-4e7b-a156-dc2ad55e2000\" xlink:show=\"new\" xlink:title=\"psysml:82bd6807-74bc-4e7b-a156-dc2ad55e2000\" xlink:type=\"simple\"><path d=\"M235.34,205.19 C274.45,208.76 319.82,212.89 361.66,216.71 \" fill=\"none\" id=\"E5-&gt;E6\" style=\"stroke: #383838; stroke-width: 1.0;\"/><polygon fill=\"#383838\" points=\"369.7,217.44,362.0069,213.7231,361.4598,219.6981,369.7,217.44\" style=\"stroke: #383838; stroke-width: 1.0;\"/><text fill=\"#000000\" font-family=\"sans-serif\" font-size=\"13\" lengthAdjust=\"spacingAndGlyphs\" textLength=\"73\" x=\"266\" y=\"205.0669\">«objective»</text></a><!--MD5=[452b418e7f8a40397a49b8c0a78acc5b]\n",
       "reverse link E5 to E7--><a href=\"psysml:3495a436-635c-4195-be5e-85a5d126f0e1\" target=\"_top\" title=\"psysml:3495a436-635c-4195-be5e-85a5d126f0e1\" xlink:actuate=\"onRequest\" xlink:href=\"psysml:3495a436-635c-4195-be5e-85a5d126f0e1\" xlink:show=\"new\" xlink:title=\"psysml:3495a436-635c-4195-be5e-85a5d126f0e1\" xlink:type=\"simple\"><path d=\"M248.53,180.88 C309.4,172.81 382.02,163.18 432.89,156.43 \" fill=\"none\" id=\"E5&lt;-E7\" style=\"stroke: #383838; stroke-width: 1.0;\"/><polygon fill=\"#383838\" points=\"235.34,182.63,241.8116,185.8109,247.2369,181.0605,240.7653,177.8796,235.34,182.63\" style=\"stroke: #383838; stroke-width: 1.0;\"/></a><!--MD5=[dc164f5e8a733ab456ef1add180e9e34]\n",
       "reverse link E7 to E8--><a href=\"psysml:e1d2632c-68a4-476d-b3ed-d8b6d2aaac51\" target=\"_top\" title=\"psysml:e1d2632c-68a4-476d-b3ed-d8b6d2aaac51\" xlink:actuate=\"onRequest\" xlink:href=\"psysml:e1d2632c-68a4-476d-b3ed-d8b6d2aaac51\" xlink:show=\"new\" xlink:title=\"psysml:e1d2632c-68a4-476d-b3ed-d8b6d2aaac51\" xlink:type=\"simple\"><path d=\"M574.82,168.34 C657.9,190.48 789.23,225.48 866.77,246.15 \" fill=\"none\" id=\"E7&lt;-E8\" style=\"stroke: #383838; stroke-width: 1.0;\"/><polygon fill=\"#FFFFFF\" points=\"562.17,164.97,566.9391,170.3789,573.7661,168.057,568.9971,162.6481,562.17,164.97\" style=\"stroke: #383838; stroke-width: 1.0;\"/><text fill=\"#000000\" font-family=\"sans-serif\" font-size=\"13\" lengthAdjust=\"spacingAndGlyphs\" textLength=\"8\" x=\"850.8809\" y=\"257.1471\">1</text></a><!--MD5=[f1f3f9f2fc535e6147756cb86a7f2e32]\n",
       "link E8 to E2--><a href=\"psysml:a8ae8a0d-ad52-4d9e-986d-0c741d3467c2\" target=\"_top\" title=\"psysml:a8ae8a0d-ad52-4d9e-986d-0c741d3467c2\" xlink:actuate=\"onRequest\" xlink:href=\"psysml:a8ae8a0d-ad52-4d9e-986d-0c741d3467c2\" xlink:show=\"new\" xlink:title=\"psysml:a8ae8a0d-ad52-4d9e-986d-0c741d3467c2\" xlink:type=\"simple\"><path d=\"M993.99,239.85 C1008.17,234.56 1023.11,228.98 1036.87,223.84 \" fill=\"none\" id=\"E8-&gt;E2\" style=\"stroke: #383838; stroke-width: 1.0;\"/><polygon fill=\"#FFFFFF\" points=\"1055.96,216.71,1040.6044,229.9087,1035.7117,216.7915,1055.96,216.71\" style=\"stroke: #383838; stroke-width: 1.0;\"/><ellipse cx=\"1034.5649\" cy=\"230.0268\" fill=\"#383838\" rx=\"2\" ry=\"2\" style=\"stroke: #383838; stroke-width: 1.0;\"/><ellipse cx=\"1031.0701\" cy=\"220.6574\" fill=\"#383838\" rx=\"2\" ry=\"2\" style=\"stroke: #383838; stroke-width: 1.0;\"/></a><!--MD5=[9ae28de373ca99bb8a1b38d63370ca7e]\n",
       "reverse link E5 to E9--><a href=\"psysml:1023028c-00c5-4dde-9329-e4b02befe1ab\" target=\"_top\" title=\"psysml:1023028c-00c5-4dde-9329-e4b02befe1ab\" xlink:actuate=\"onRequest\" xlink:href=\"psysml:1023028c-00c5-4dde-9329-e4b02befe1ab\" xlink:show=\"new\" xlink:title=\"psysml:1023028c-00c5-4dde-9329-e4b02befe1ab\" xlink:type=\"simple\"><path d=\"M192.41,167.36 C239.07,145.96 307.05,118.5 370,107 C481.49,86.64 513.13,88.85 625,107 C646.13,110.43 668.58,117.05 688.27,123.93 \" fill=\"none\" id=\"E5&lt;-E9\" style=\"stroke: #383838; stroke-width: 1.0;\"/><polygon fill=\"#FFFFFF\" points=\"180.43,172.93,187.5576,174.0245,191.3092,167.8662,184.1817,166.7717,180.43,172.93\" style=\"stroke: #383838; stroke-width: 1.0;\"/><text fill=\"#000000\" font-family=\"sans-serif\" font-size=\"13\" lengthAdjust=\"spacingAndGlyphs\" textLength=\"8\" x=\"663.6801\" y=\"112.8075\">1</text></a><!--MD5=[5c3bb36fe832a92c7f0e1807dd65209d]\n",
       "link E9 to E2--><a href=\"psysml:d6cd1bf0-a8ac-42a9-91c6-4adc5d4642e7\" target=\"_top\" title=\"psysml:d6cd1bf0-a8ac-42a9-91c6-4adc5d4642e7\" xlink:actuate=\"onRequest\" xlink:href=\"psysml:d6cd1bf0-a8ac-42a9-91c6-4adc5d4642e7\" xlink:show=\"new\" xlink:title=\"psysml:d6cd1bf0-a8ac-42a9-91c6-4adc5d4642e7\" xlink:type=\"simple\"><path d=\"M810.77,170.08 C828.75,175.79 848.46,181.32 867,185 C923.79,196.27 990.02,200.85 1035.46,202.72 \" fill=\"none\" id=\"E9-&gt;E2\" style=\"stroke: #383838; stroke-width: 1.0;\"/><polygon fill=\"#FFFFFF\" points=\"1055.67,203.43,1036.4366,209.7606,1036.9267,195.7692,1055.67,203.43\" style=\"stroke: #383838; stroke-width: 1.0;\"/><ellipse cx=\"1030.8101\" cy=\"207.5623\" fill=\"#383838\" rx=\"2\" ry=\"2\" style=\"stroke: #383838; stroke-width: 1.0;\"/><ellipse cx=\"1031.1602\" cy=\"197.5685\" fill=\"#383838\" rx=\"2\" ry=\"2\" style=\"stroke: #383838; stroke-width: 1.0;\"/></a><!--MD5=[5a9c05ba9d12d7b94476566274e029f3]\n",
       "@startuml\r\n",
       "left to right direction\r\n",
       "skinparam monochrome true\r\n",
       "skinparam classbackgroundcolor white\r\n",
       "skinparam shadowing false\r\n",
       "skinparam wrapWidth 300\r\n",
       "hide circle\r\n",
       "\r\n",
       "package \"TradeStudyTest\" as E1  [[psysml:9d3e1c5c-e45c-4a85-8e75-4ee823ac8fbf ]]  {\r\n",
       "comp def \"Engine\" as E2  <<(T,blue) part  def>> [[psysml:956f1300-60cf-48ef-8161-7a381ae0bb8c ]] {\r\n",
       "}\r\n",
       "comp usage \"engine1: Engine \" as E3  <<(T,blue) part>> [[psysml:5ff7a686-dab8-41cf-8031-b7dccb26607b ]] {\r\n",
       "}\r\n",
       "comp usage \"engine2: Engine \" as E4  <<(T,blue) part>> [[psysml:44e88bb9-9b84-4b3f-b104-23d7a257fb04 ]] {\r\n",
       "}\r\n",
       "comp usage \"engineTradeStudy: TradeStudy \" as E5 << analysis>> [[psysml:e12e8838-d64a-4336-9e52-2de97357eae2 ]] {\r\n",
       "}\r\n",
       "comp usage \"tradeStudyObjective: MaximizeObjective \" as E6  <<(T,blue) requirement>> [[psysml:9a804e4d-bc47-4ee7-a2d8-d8527e0c1caf ]] {\r\n",
       "}\r\n",
       "comp usage \"evaluationFunction \" as E7  <<(T,blue) calculation>> [[psysml:1fa3686a-6014-4c73-9542-2575e26fd8a7 ]] {\r\n",
       "}\r\n",
       "comp usage \"alternative: Engine \" as E8  <<(T,blue) part>> [[psysml:79c1d929-0a70-426e-ae6d-56e5e3e776a6 ]] {\r\n",
       "}\r\n",
       "comp usage \"selectedAlternative: Engine \" as E9  <<(T,blue) part>> [[psysml:169f456a-e384-47f5-89e9-43fd13dd17eb ]] {\r\n",
       "}\r\n",
       "}\r\n",
       "E3 - -:|> E2 [[psysml:9be21745-fec5-4980-9af6-b796782d7969 ]] \r\n",
       "E4 - -:|> E2 [[psysml:1ad537aa-bda6-4221-a392-6db0b9fa994b ]] \r\n",
       "E5 ..> E2 [[psysml:ef23f2a8-b555-4000-b8d1-a9fc8ea83129 ]] : <<subject>>\r\n",
       "E5 - ->> E6 [[psysml:82bd6807-74bc-4e7b-a156-dc2ad55e2000 ]] : <<objective>>\r\n",
       "E5 *- - E7 [[psysml:3495a436-635c-4195-be5e-85a5d126f0e1 ]] \r\n",
       "E7 o- - \"1\"E8 [[psysml:e1d2632c-68a4-476d-b3ed-d8b6d2aaac51 ]] \r\n",
       "E8 - -:|> E2 [[psysml:a8ae8a0d-ad52-4d9e-986d-0c741d3467c2 ]] \r\n",
       "E5 o- - \"1\"E9 [[psysml:1023028c-00c5-4dde-9329-e4b02befe1ab ]] \r\n",
       "E9 - -:|> E2 [[psysml:d6cd1bf0-a8ac-42a9-91c6-4adc5d4642e7 ]] \r\n",
       "@enduml\r\n",
       "\n",
       "PlantUML version 1.2020.13(Sat Jun 13 12:26:38 UTC 2020)\n",
       "(EPL source distribution)\n",
       "Java Runtime: OpenJDK Runtime Environment\n",
       "JVM: OpenJDK 64-Bit Server VM\n",
       "Default Encoding: UTF-8\n",
       "Language: en\n",
       "Country: null\n",
       "--></g></svg>"
      ]
     },
     "execution_count": 17,
     "metadata": {},
     "output_type": "execute_result"
    }
   ],
   "source": [
    "%viz --style=\"LR\" --view=\"Tree\" \"TradeStudyTest\""
   ]
  },
  {
   "cell_type": "code",
   "execution_count": 18,
   "id": "5de2dc0c",
   "metadata": {
    "execution": {
     "iopub.execute_input": "2022-02-18T10:50:35.942778Z",
     "iopub.status.busy": "2022-02-18T10:50:35.942268Z",
     "iopub.status.idle": "2022-02-18T10:50:35.947925Z",
     "shell.execute_reply": "2022-02-18T10:50:35.947583Z"
    }
   },
   "outputs": [
    {
     "data": {
      "image/svg+xml": [
       "<?xml version=\"1.0\" encoding=\"UTF-8\" standalone=\"no\"?><svg xmlns=\"http://www.w3.org/2000/svg\" xmlns:xlink=\"http://www.w3.org/1999/xlink\" contentScriptType=\"application/ecmascript\" contentStyleType=\"text/css\" height=\"12px\" preserveAspectRatio=\"none\" style=\"width:12px;height:12px;\" version=\"1.1\" viewBox=\"0 0 12 12\" width=\"12px\" zoomAndPan=\"magnify\"><defs/><g><!--MD5=[19d285c9d72a204eba4e2cd117d745e8]\n",
       "@startuml\r\n",
       "left to right direction\r\n",
       "skinparam monochrome true\r\n",
       "skinparam classbackgroundcolor white\r\n",
       "skinparam shadowing false\r\n",
       "skinparam wrapWidth 300\r\n",
       "hide circle\r\n",
       "\r\n",
       "@enduml\r\n",
       "\n",
       "PlantUML version 1.2020.13(Sat Jun 13 12:26:38 UTC 2020)\n",
       "(EPL source distribution)\n",
       "Java Runtime: OpenJDK Runtime Environment\n",
       "JVM: OpenJDK 64-Bit Server VM\n",
       "Default Encoding: UTF-8\n",
       "Language: en\n",
       "Country: null\n",
       "--></g></svg>"
      ]
     },
     "execution_count": 18,
     "metadata": {},
     "output_type": "execute_result"
    }
   ],
   "source": [
    "%viz --style=\"LR\" --view=\"State\" \"TradeStudyTest\""
   ]
  },
  {
   "cell_type": "code",
   "execution_count": 19,
   "id": "c9eb0db9",
   "metadata": {
    "execution": {
     "iopub.execute_input": "2022-02-18T10:50:35.998009Z",
     "iopub.status.busy": "2022-02-18T10:50:35.997556Z",
     "iopub.status.idle": "2022-02-18T10:50:36.042374Z",
     "shell.execute_reply": "2022-02-18T10:50:36.041882Z"
    }
   },
   "outputs": [
    {
     "data": {
      "image/svg+xml": [
       "<?xml version=\"1.0\" encoding=\"UTF-8\" standalone=\"no\"?><svg xmlns=\"http://www.w3.org/2000/svg\" xmlns:xlink=\"http://www.w3.org/1999/xlink\" contentScriptType=\"application/ecmascript\" contentStyleType=\"text/css\" height=\"375px\" preserveAspectRatio=\"none\" style=\"width:781px;height:375px;\" version=\"1.1\" viewBox=\"0 0 781 375\" width=\"781px\" zoomAndPan=\"magnify\"><defs/><g><!--MD5=[fbc87193dbaf4d95561dea2c320d4a47]\n",
       "cluster E1--><a href=\"psysml:9d3e1c5c-e45c-4a85-8e75-4ee823ac8fbf\" target=\"_top\" title=\"psysml:9d3e1c5c-e45c-4a85-8e75-4ee823ac8fbf\" xlink:actuate=\"onRequest\" xlink:href=\"psysml:9d3e1c5c-e45c-4a85-8e75-4ee823ac8fbf\" xlink:show=\"new\" xlink:title=\"psysml:9d3e1c5c-e45c-4a85-8e75-4ee823ac8fbf\" xlink:type=\"simple\"><polygon fill=\"#FFFFFF\" points=\"16,6,132,6,139,28.2969,759,28.2969,759,363,16,363,16,6\" style=\"stroke: #000000; stroke-width: 1.5;\"/><line style=\"stroke: #000000; stroke-width: 1.5;\" x1=\"16\" x2=\"139\" y1=\"28.2969\" y2=\"28.2969\"/><text fill=\"#000000\" font-family=\"sans-serif\" font-size=\"14\" font-weight=\"bold\" lengthAdjust=\"spacingAndGlyphs\" textLength=\"110\" x=\"20\" y=\"20.9951\">TradeStudyTest</text></a><!--MD5=[de5ec2e2e8f62f467e546659f5068c88]\n",
       "cluster E5--><a href=\"psysml:e12e8838-d64a-4336-9e52-2de97357eae2\" target=\"_top\" title=\"psysml:e12e8838-d64a-4336-9e52-2de97357eae2\" xlink:actuate=\"onRequest\" xlink:href=\"psysml:e12e8838-d64a-4336-9e52-2de97357eae2\" xlink:show=\"new\" xlink:title=\"psysml:e12e8838-d64a-4336-9e52-2de97357eae2\" xlink:type=\"simple\"><rect fill=\"#FFFFFF\" height=\"148\" id=\"E5\" rx=\"10\" ry=\"10\" style=\"stroke: #383838; stroke-width: 1.5;\" width=\"180\" x=\"48\" y=\"57\"/><rect fill=\"#F8F8F8\" height=\"37.9375\" rx=\"10\" ry=\"10\" style=\"stroke: #F8F8F8; stroke-width: 1.5;\" width=\"180\" x=\"48\" y=\"57\"/><rect fill=\"#F8F8F8\" height=\"10\" style=\"stroke: #F8F8F8; stroke-width: 1.5;\" width=\"180\" x=\"48\" y=\"84.9375\"/><rect fill=\"none\" height=\"148\" id=\"E5\" rx=\"10\" ry=\"10\" style=\"stroke: #383838; stroke-width: 1.5;\" width=\"180\" x=\"48\" y=\"57\"/><text fill=\"#000000\" font-family=\"sans-serif\" font-size=\"12\" font-style=\"italic\" lengthAdjust=\"spacingAndGlyphs\" textLength=\"64\" x=\"106\" y=\"73.1387\">«analysis»</text><text fill=\"#000000\" font-family=\"sans-serif\" font-size=\"12\" lengthAdjust=\"spacingAndGlyphs\" textLength=\"114\" x=\"81\" y=\"87.1074\">engineTradeStudy</text><line style=\"stroke: #383838; stroke-width: 1.0;\" x1=\"48\" x2=\"228\" y1=\"94.9375\" y2=\"94.9375\"/></a><!--MD5=[2156ba9850f5573cc1fc38a6a4b2f02b]\n",
       "class E7--><a href=\"psysml:1fa3686a-6014-4c73-9542-2575e26fd8a7\" target=\"_top\" title=\"psysml:1fa3686a-6014-4c73-9542-2575e26fd8a7\" xlink:actuate=\"onRequest\" xlink:href=\"psysml:1fa3686a-6014-4c73-9542-2575e26fd8a7\" xlink:show=\"new\" xlink:title=\"psysml:1fa3686a-6014-4c73-9542-2575e26fd8a7\" xlink:type=\"simple\"><rect fill=\"#FFFFFF\" height=\"45.9375\" id=\"E7\" rx=\"10\" ry=\"10\" style=\"stroke: #383838; stroke-width: 1.5;\" width=\"129\" x=\"287.5\" y=\"248\"/><text fill=\"#000000\" font-family=\"sans-serif\" font-size=\"12\" font-style=\"italic\" lengthAdjust=\"spacingAndGlyphs\" textLength=\"82\" x=\"311\" y=\"264.1387\">«calculation»</text><text fill=\"#000000\" font-family=\"sans-serif\" font-size=\"12\" lengthAdjust=\"spacingAndGlyphs\" textLength=\"119\" x=\"290.5\" y=\"278.1074\">evaluationFunction</text><line style=\"stroke: #383838; stroke-width: 1.5;\" x1=\"288.5\" x2=\"415.5\" y1=\"285.9375\" y2=\"285.9375\"/></a><!--MD5=[b9389687b975829384b498ac4b7476b2]\n",
       "class E8--><a href=\"psysml:79c1d929-0a70-426e-ae6d-56e5e3e776a6\" target=\"_top\" title=\"psysml:79c1d929-0a70-426e-ae6d-56e5e3e776a6\" xlink:actuate=\"onRequest\" xlink:href=\"psysml:79c1d929-0a70-426e-ae6d-56e5e3e776a6\" xlink:show=\"new\" xlink:title=\"psysml:79c1d929-0a70-426e-ae6d-56e5e3e776a6\" xlink:type=\"simple\"><rect fill=\"#FFFFFF\" height=\"31.9688\" id=\"E8\" rx=\"10\" ry=\"10\" style=\"stroke: #383838; stroke-width: 1.5;\" width=\"128\" x=\"523\" y=\"244\"/><text fill=\"#000000\" font-family=\"sans-serif\" font-size=\"12\" lengthAdjust=\"spacingAndGlyphs\" textLength=\"118\" x=\"526\" y=\"260.1387\">alternative: Engine</text><line style=\"stroke: #383838; stroke-width: 1.5;\" x1=\"524\" x2=\"650\" y1=\"267.9688\" y2=\"267.9688\"/></a><!--MD5=[fd4143e9d270a159db93a4ea2a975926]\n",
       "class E9--><a href=\"psysml:169f456a-e384-47f5-89e9-43fd13dd17eb\" target=\"_top\" title=\"psysml:169f456a-e384-47f5-89e9-43fd13dd17eb\" xlink:actuate=\"onRequest\" xlink:href=\"psysml:169f456a-e384-47f5-89e9-43fd13dd17eb\" xlink:show=\"new\" xlink:title=\"psysml:169f456a-e384-47f5-89e9-43fd13dd17eb\" xlink:type=\"simple\"><rect fill=\"#FFFFFF\" height=\"31.9688\" id=\"E9\" rx=\"10\" ry=\"10\" style=\"stroke: #383838; stroke-width: 1.5;\" width=\"182\" x=\"261\" y=\"181\"/><text fill=\"#000000\" font-family=\"sans-serif\" font-size=\"12\" lengthAdjust=\"spacingAndGlyphs\" textLength=\"172\" x=\"264\" y=\"197.1387\">selectedAlternative: Engine</text><line style=\"stroke: #383838; stroke-width: 1.5;\" x1=\"262\" x2=\"442\" y1=\"204.9688\" y2=\"204.9688\"/></a><g id=\"E1.E2\"><a href=\"psysml:956f1300-60cf-48ef-8161-7a381ae0bb8c\" target=\"_top\" title=\"psysml:956f1300-60cf-48ef-8161-7a381ae0bb8c\" xlink:actuate=\"onRequest\" xlink:href=\"psysml:956f1300-60cf-48ef-8161-7a381ae0bb8c\" xlink:show=\"new\" xlink:title=\"psysml:956f1300-60cf-48ef-8161-7a381ae0bb8c\" xlink:type=\"simple\"><rect fill=\"#FFFFFF\" height=\"42.9375\" id=\"E2\" style=\"stroke: #383838; stroke-width: 1.5;\" width=\"75\" x=\"668\" y=\"175.5\"/><rect fill=\"#F8F8F8\" height=\"37.9375\" style=\"stroke: #383838; stroke-width: 1.5;\" width=\"75\" x=\"668\" y=\"175.5\"/><text fill=\"#000000\" font-family=\"sans-serif\" font-size=\"12\" font-style=\"italic\" lengthAdjust=\"spacingAndGlyphs\" textLength=\"68\" x=\"671.5\" y=\"191.6387\">«part  def»</text><text fill=\"#000000\" font-family=\"sans-serif\" font-size=\"12\" lengthAdjust=\"spacingAndGlyphs\" textLength=\"43\" x=\"684\" y=\"205.6074\">Engine</text></a></g><g id=\"E1.E3\"><a href=\"psysml:5ff7a686-dab8-41cf-8031-b7dccb26607b\" target=\"_top\" title=\"psysml:5ff7a686-dab8-41cf-8031-b7dccb26607b\" xlink:actuate=\"onRequest\" xlink:href=\"psysml:5ff7a686-dab8-41cf-8031-b7dccb26607b\" xlink:show=\"new\" xlink:title=\"psysml:5ff7a686-dab8-41cf-8031-b7dccb26607b\" xlink:type=\"simple\"><rect fill=\"#FFFFFF\" height=\"40\" id=\"E3\" rx=\"10\" ry=\"10\" style=\"stroke: #383838; stroke-width: 1.5;\" width=\"113\" x=\"81.5\" y=\"232\"/><rect fill=\"#F8F8F8\" height=\"23.9688\" rx=\"10\" ry=\"10\" style=\"stroke: #F8F8F8; stroke-width: 1.5;\" width=\"113\" x=\"81.5\" y=\"232\"/><rect fill=\"#F8F8F8\" height=\"10\" style=\"stroke: #F8F8F8; stroke-width: 1.5;\" width=\"113\" x=\"81.5\" y=\"245.9688\"/><rect fill=\"none\" height=\"40\" id=\"E3\" rx=\"10\" ry=\"10\" style=\"stroke: #383838; stroke-width: 1.5;\" width=\"113\" x=\"81.5\" y=\"232\"/><text fill=\"#000000\" font-family=\"sans-serif\" font-size=\"12\" lengthAdjust=\"spacingAndGlyphs\" textLength=\"102\" x=\"87\" y=\"248.1387\">engine1: Engine</text></a></g><g id=\"E1.E4\"><a href=\"psysml:44e88bb9-9b84-4b3f-b104-23d7a257fb04\" target=\"_top\" title=\"psysml:44e88bb9-9b84-4b3f-b104-23d7a257fb04\" xlink:actuate=\"onRequest\" xlink:href=\"psysml:44e88bb9-9b84-4b3f-b104-23d7a257fb04\" xlink:show=\"new\" xlink:title=\"psysml:44e88bb9-9b84-4b3f-b104-23d7a257fb04\" xlink:type=\"simple\"><rect fill=\"#FFFFFF\" height=\"40\" id=\"E4\" rx=\"10\" ry=\"10\" style=\"stroke: #383838; stroke-width: 1.5;\" width=\"113\" x=\"81.5\" y=\"307\"/><rect fill=\"#F8F8F8\" height=\"23.9688\" rx=\"10\" ry=\"10\" style=\"stroke: #F8F8F8; stroke-width: 1.5;\" width=\"113\" x=\"81.5\" y=\"307\"/><rect fill=\"#F8F8F8\" height=\"10\" style=\"stroke: #F8F8F8; stroke-width: 1.5;\" width=\"113\" x=\"81.5\" y=\"320.9688\"/><rect fill=\"none\" height=\"40\" id=\"E4\" rx=\"10\" ry=\"10\" style=\"stroke: #383838; stroke-width: 1.5;\" width=\"113\" x=\"81.5\" y=\"307\"/><text fill=\"#000000\" font-family=\"sans-serif\" font-size=\"12\" lengthAdjust=\"spacingAndGlyphs\" textLength=\"102\" x=\"87\" y=\"323.1387\">engine2: Engine</text></a></g><!--MD5=[60a26617385b1d2d0262a64233df1f8d]\n",
       "class E6--><a href=\"psysml:9a804e4d-bc47-4ee7-a2d8-d8527e0c1caf\" target=\"_top\" title=\"psysml:9a804e4d-bc47-4ee7-a2d8-d8527e0c1caf\" xlink:actuate=\"onRequest\" xlink:href=\"psysml:9a804e4d-bc47-4ee7-a2d8-d8527e0c1caf\" xlink:show=\"new\" xlink:title=\"psysml:9a804e4d-bc47-4ee7-a2d8-d8527e0c1caf\" xlink:type=\"simple\"><rect fill=\"#FFFFFF\" height=\"45.9375\" id=\"E6\" rx=\"10\" ry=\"10\" style=\"stroke: #383838; stroke-width: 1.5;\" width=\"132\" x=\"72\" y=\"116\"/><text fill=\"#000000\" font-family=\"sans-serif\" font-size=\"12\" font-style=\"italic\" lengthAdjust=\"spacingAndGlyphs\" textLength=\"70\" x=\"103\" y=\"132.1387\">«objective»</text><text fill=\"#000000\" font-family=\"sans-serif\" font-size=\"12\" lengthAdjust=\"spacingAndGlyphs\" textLength=\"126\" x=\"75\" y=\"146.1074\">tradeStudyObjective</text><line style=\"stroke: #383838; stroke-width: 1.5;\" x1=\"73\" x2=\"203\" y1=\"153.9375\" y2=\"153.9375\"/></a><!--MD5=[15ebcb19ae302d9b601edb458606d402]\n",
       "link E5 to E2--><a href=\"psysml:ef23f2a8-b555-4000-b8d1-a9fc8ea83129\" target=\"_top\" title=\"psysml:ef23f2a8-b555-4000-b8d1-a9fc8ea83129\" xlink:actuate=\"onRequest\" xlink:href=\"psysml:ef23f2a8-b555-4000-b8d1-a9fc8ea83129\" xlink:show=\"new\" xlink:title=\"psysml:ef23f2a8-b555-4000-b8d1-a9fc8ea83129\" xlink:type=\"simple\"><path d=\"M228.037,184.481 C228.2147,184.4207 228.3922,184.3601 228.5695,184.2992 C228.9243,184.1774 229.2784,184.0544 229.6319,183.9303 C230.3388,183.6821 231.0432,183.4291 231.7448,183.1715 C233.1479,182.6561 234.5396,182.1217 235.9174,181.5675 C238.6732,180.4592 241.3738,179.2719 244,178 C253.07,173.61 251.57,166.56 261,163 C400.59,110.22 582.17,156.5 662.79,182.36 \" fill=\"none\" id=\"E5-&gt;E2\" style=\"stroke: #383838; stroke-width: 1.0; stroke-dasharray: 7.0,7.0;\"/><polygon fill=\"#383838\" points=\"667.96,184.04,660.633,177.4586,663.2039,182.4975,658.165,185.0683,667.96,184.04\" style=\"stroke: #383838; stroke-width: 1.0;\"/><text fill=\"#000000\" font-family=\"sans-serif\" font-size=\"13\" lengthAdjust=\"spacingAndGlyphs\" textLength=\"62\" x=\"452\" y=\"137.0669\">«subject»</text></a><!--MD5=[452b418e7f8a40397a49b8c0a78acc5b]\n",
       "reverse link E5 to E7--><a href=\"psysml:3495a436-635c-4195-be5e-85a5d126f0e1\" target=\"_top\" title=\"psysml:3495a436-635c-4195-be5e-85a5d126f0e1\" xlink:actuate=\"onRequest\" xlink:href=\"psysml:3495a436-635c-4195-be5e-85a5d126f0e1\" xlink:show=\"new\" xlink:title=\"psysml:3495a436-635c-4195-be5e-85a5d126f0e1\" xlink:type=\"simple\"><path d=\"M228.2448,194.0244 C233.7613,195.7633 239.0688,198.0487 244,201 C256.82,208.67 249.91,219.99 261,230 C268.78,237.02 277.96,243.02 287.43,248.09 \" fill=\"none\" id=\"E5&lt;-E7\" style=\"stroke: #383838; stroke-width: 1.0;\"/><polygon fill=\"#383838\" points=\"228.2448,194.0244,232.7647,199.6432,239.6897,197.632,235.1697,192.0132,228.2448,194.0244\" style=\"stroke: #383838; stroke-width: 1.0;\"/></a><!--MD5=[dc164f5e8a733ab456ef1add180e9e34]\n",
       "reverse link E7 to E8--><a href=\"psysml:e1d2632c-68a4-476d-b3ed-d8b6d2aaac51\" target=\"_top\" title=\"psysml:e1d2632c-68a4-476d-b3ed-d8b6d2aaac51\" xlink:actuate=\"onRequest\" xlink:href=\"psysml:e1d2632c-68a4-476d-b3ed-d8b6d2aaac51\" xlink:show=\"new\" xlink:title=\"psysml:e1d2632c-68a4-476d-b3ed-d8b6d2aaac51\" xlink:type=\"simple\"><path d=\"M429.76,267.38 C459.92,265.95 494.12,264.34 522.81,262.98 \" fill=\"none\" id=\"E7&lt;-E8\" style=\"stroke: #383838; stroke-width: 1.0;\"/><polygon fill=\"#FFFFFF\" points=\"416.67,267.99,422.8523,271.702,428.6566,267.423,422.4743,263.711,416.67,267.99\" style=\"stroke: #383838; stroke-width: 1.0;\"/><text fill=\"#000000\" font-family=\"sans-serif\" font-size=\"13\" lengthAdjust=\"spacingAndGlyphs\" textLength=\"8\" x=\"506.9255\" y=\"276.2681\">1</text></a><!--MD5=[f1f3f9f2fc535e6147756cb86a7f2e32]\n",
       "link E8 to E2--><a href=\"psysml:a8ae8a0d-ad52-4d9e-986d-0c741d3467c2\" target=\"_top\" title=\"psysml:a8ae8a0d-ad52-4d9e-986d-0c741d3467c2\" xlink:actuate=\"onRequest\" xlink:href=\"psysml:a8ae8a0d-ad52-4d9e-986d-0c741d3467c2\" xlink:show=\"new\" xlink:title=\"psysml:a8ae8a0d-ad52-4d9e-986d-0c741d3467c2\" xlink:type=\"simple\"><path d=\"M617.7,243.94 C627.58,238.6 638.91,232.47 650.06,226.44 \" fill=\"none\" id=\"E8-&gt;E2\" style=\"stroke: #383838; stroke-width: 1.0;\"/><polygon fill=\"#FFFFFF\" points=\"667.77,216.86,654.3803,232.0494,647.7262,219.7318,667.77,216.86\" style=\"stroke: #383838; stroke-width: 1.0;\"/><ellipse cx=\"648.4147\" cy=\"232.9989\" fill=\"#383838\" rx=\"2\" ry=\"2\" style=\"stroke: #383838; stroke-width: 1.0;\"/><ellipse cx=\"643.6618\" cy=\"224.2006\" fill=\"#383838\" rx=\"2\" ry=\"2\" style=\"stroke: #383838; stroke-width: 1.0;\"/></a><!--MD5=[9ae28de373ca99bb8a1b38d63370ca7e]\n",
       "reverse link E5 to E9--><a href=\"psysml:1023028c-00c5-4dde-9329-e4b02befe1ab\" target=\"_top\" title=\"psysml:1023028c-00c5-4dde-9329-e4b02befe1ab\" xlink:actuate=\"onRequest\" xlink:href=\"psysml:1023028c-00c5-4dde-9329-e4b02befe1ab\" xlink:show=\"new\" xlink:title=\"psysml:1023028c-00c5-4dde-9329-e4b02befe1ab\" xlink:type=\"simple\"><path d=\"M228.4636,197 C228.6825,197 228.9015,197 229.1206,197 C232.6258,197 236.1547,197 239.6915,197 C246.765,197 253.87,197 260.88,197 \" fill=\"none\" id=\"E5&lt;-E9\" style=\"stroke: #383838; stroke-width: 1.0;\"/><polygon fill=\"#FFFFFF\" points=\"228.4636,197,234.4636,201,240.4636,197,234.4636,193,228.4636,197\" style=\"stroke: #383838; stroke-width: 1.0;\"/><text fill=\"#000000\" font-family=\"sans-serif\" font-size=\"13\" lengthAdjust=\"spacingAndGlyphs\" textLength=\"8\" x=\"245.0029\" y=\"209.6948\">1</text></a><!--MD5=[5c3bb36fe832a92c7f0e1807dd65209d]\n",
       "link E9 to E2--><a href=\"psysml:d6cd1bf0-a8ac-42a9-91c6-4adc5d4642e7\" target=\"_top\" title=\"psysml:d6cd1bf0-a8ac-42a9-91c6-4adc5d4642e7\" xlink:actuate=\"onRequest\" xlink:href=\"psysml:d6cd1bf0-a8ac-42a9-91c6-4adc5d4642e7\" xlink:show=\"new\" xlink:title=\"psysml:d6cd1bf0-a8ac-42a9-91c6-4adc5d4642e7\" xlink:type=\"simple\"><path d=\"M443.06,197 C507.53,197 592.36,197 647.64,197 \" fill=\"none\" id=\"E9-&gt;E2\" style=\"stroke: #383838; stroke-width: 1.0;\"/><polygon fill=\"#FFFFFF\" points=\"667.98,197,648.98,204,648.98,190,667.98,197\" style=\"stroke: #383838; stroke-width: 1.0;\"/><ellipse cx=\"643.28\" cy=\"202\" fill=\"#383838\" rx=\"2\" ry=\"2\" style=\"stroke: #383838; stroke-width: 1.0;\"/><ellipse cx=\"643.28\" cy=\"192\" fill=\"#383838\" rx=\"2\" ry=\"2\" style=\"stroke: #383838; stroke-width: 1.0;\"/></a><!--MD5=[5a22c4eaf0b2cffcfc1bc6a97eedd9f0]\n",
       "@startuml\r\n",
       "skinparam ranksep 10\r\n",
       "skinparam rectangle {\r\n",
       " backgroundColor<<block>> LightGreen\r\n",
       "}\r\n",
       "left to right direction\r\n",
       "skinparam monochrome true\r\n",
       "skinparam classbackgroundcolor white\r\n",
       "skinparam shadowing false\r\n",
       "skinparam wrapWidth 300\r\n",
       "hide circle\r\n",
       "\r\n",
       "package \"TradeStudyTest\" as E1  [[psysml:9d3e1c5c-e45c-4a85-8e75-4ee823ac8fbf ]]  {\r\n",
       "rec def \"Engine\" as E2  <<(T,blue) part  def>> [[psysml:956f1300-60cf-48ef-8161-7a381ae0bb8c ]] {\r\n",
       "}\r\n",
       "rec usage \"engine1: Engine\" as E3  [[psysml:5ff7a686-dab8-41cf-8031-b7dccb26607b ]] {\r\n",
       "}\r\n",
       "rec usage \"engine2: Engine\" as E4  [[psysml:44e88bb9-9b84-4b3f-b104-23d7a257fb04 ]] {\r\n",
       "}\r\n",
       "rec usage \"engineTradeStudy\" as E5 << analysis>> [[psysml:e12e8838-d64a-4336-9e52-2de97357eae2 ]] {\r\n",
       "comp usage \"tradeStudyObjective\" as E6  <<objective>> [[psysml:9a804e4d-bc47-4ee7-a2d8-d8527e0c1caf ]] {\r\n",
       "}\r\n",
       "}\r\n",
       "comp usage \"evaluationFunction \" as E7  <<(T,blue) calculation>> [[psysml:1fa3686a-6014-4c73-9542-2575e26fd8a7 ]] {\r\n",
       "}\r\n",
       "comp usage \"alternative: Engine \" as E8  [[psysml:79c1d929-0a70-426e-ae6d-56e5e3e776a6 ]] {\r\n",
       "}\r\n",
       "comp usage \"selectedAlternative: Engine \" as E9  [[psysml:169f456a-e384-47f5-89e9-43fd13dd17eb ]] {\r\n",
       "}\r\n",
       "}\r\n",
       "E5 ..> E2 [[psysml:ef23f2a8-b555-4000-b8d1-a9fc8ea83129 ]] : <<subject>>\r\n",
       "E5 *- - E7 [[psysml:3495a436-635c-4195-be5e-85a5d126f0e1 ]] \r\n",
       "E7 o- - \"1\"E8 [[psysml:e1d2632c-68a4-476d-b3ed-d8b6d2aaac51 ]] \r\n",
       "E8 - -:|> E2 [[psysml:a8ae8a0d-ad52-4d9e-986d-0c741d3467c2 ]] \r\n",
       "E5 o- - \"1\"E9 [[psysml:1023028c-00c5-4dde-9329-e4b02befe1ab ]] \r\n",
       "E9 - -:|> E2 [[psysml:d6cd1bf0-a8ac-42a9-91c6-4adc5d4642e7 ]] \r\n",
       "@enduml\r\n",
       "\n",
       "PlantUML version 1.2020.13(Sat Jun 13 12:26:38 UTC 2020)\n",
       "(EPL source distribution)\n",
       "Java Runtime: OpenJDK Runtime Environment\n",
       "JVM: OpenJDK 64-Bit Server VM\n",
       "Default Encoding: UTF-8\n",
       "Language: en\n",
       "Country: null\n",
       "--></g></svg>"
      ]
     },
     "execution_count": 19,
     "metadata": {},
     "output_type": "execute_result"
    }
   ],
   "source": [
    "%viz --style=\"LR\" --view=\"Interconnection\" \"TradeStudyTest\""
   ]
  },
  {
   "cell_type": "code",
   "execution_count": 20,
   "id": "ce759389",
   "metadata": {
    "execution": {
     "iopub.execute_input": "2022-02-18T10:50:36.091353Z",
     "iopub.status.busy": "2022-02-18T10:50:36.090942Z",
     "iopub.status.idle": "2022-02-18T10:50:36.122648Z",
     "shell.execute_reply": "2022-02-18T10:50:36.122295Z"
    }
   },
   "outputs": [
    {
     "data": {
      "image/svg+xml": [
       "<?xml version=\"1.0\" encoding=\"UTF-8\" standalone=\"no\"?><svg xmlns=\"http://www.w3.org/2000/svg\" xmlns:xlink=\"http://www.w3.org/1999/xlink\" contentScriptType=\"application/ecmascript\" contentStyleType=\"text/css\" height=\"209px\" preserveAspectRatio=\"none\" style=\"width:484px;height:209px;\" version=\"1.1\" viewBox=\"0 0 484 209\" width=\"484px\" zoomAndPan=\"magnify\"><defs/><g><!--MD5=[fbc87193dbaf4d95561dea2c320d4a47]\n",
       "cluster E1--><a href=\"psysml:e12e8838-d64a-4336-9e52-2de97357eae2\" target=\"_top\" title=\"psysml:e12e8838-d64a-4336-9e52-2de97357eae2\" xlink:actuate=\"onRequest\" xlink:href=\"psysml:e12e8838-d64a-4336-9e52-2de97357eae2\" xlink:show=\"new\" xlink:title=\"psysml:e12e8838-d64a-4336-9e52-2de97357eae2\" xlink:type=\"simple\"><rect fill=\"#FFFFFF\" height=\"135\" id=\"E1\" rx=\"10\" ry=\"10\" style=\"stroke: #383838; stroke-width: 1.5;\" width=\"411.36\" x=\"47\" y=\"42.0986\"/><rect fill=\"#F8F8F8\" height=\"37.9375\" rx=\"10\" ry=\"10\" style=\"stroke: #F8F8F8; stroke-width: 1.5;\" width=\"411.36\" x=\"47\" y=\"42.0986\"/><rect fill=\"#F8F8F8\" height=\"10\" style=\"stroke: #F8F8F8; stroke-width: 1.5;\" width=\"411.36\" x=\"47\" y=\"70.0361\"/><rect fill=\"none\" height=\"135\" id=\"E1\" rx=\"10\" ry=\"10\" style=\"stroke: #383838; stroke-width: 1.5;\" width=\"411.36\" x=\"47\" y=\"42.0986\"/><text fill=\"#000000\" font-family=\"sans-serif\" font-size=\"12\" font-style=\"italic\" lengthAdjust=\"spacingAndGlyphs\" textLength=\"64\" x=\"220.68\" y=\"58.2373\">«analysis»</text><text fill=\"#000000\" font-family=\"sans-serif\" font-size=\"12\" lengthAdjust=\"spacingAndGlyphs\" textLength=\"114\" x=\"195.68\" y=\"72.2061\">engineTradeStudy</text><line style=\"stroke: #383838; stroke-width: 1.0;\" x1=\"47\" x2=\"458.36\" y1=\"80.0361\" y2=\"80.0361\"/></a><!--MD5=[d5e69f78d87373223dbae638b30a9c99]\n",
       "cluster E3--><a href=\"psysml:1fa3686a-6014-4c73-9542-2575e26fd8a7\" target=\"_top\" title=\"psysml:1fa3686a-6014-4c73-9542-2575e26fd8a7\" xlink:actuate=\"onRequest\" xlink:href=\"psysml:1fa3686a-6014-4c73-9542-2575e26fd8a7\" xlink:show=\"new\" xlink:title=\"psysml:1fa3686a-6014-4c73-9542-2575e26fd8a7\" xlink:type=\"simple\"><rect fill=\"#FFFFFF\" height=\"68\" id=\"E3\" rx=\"10\" ry=\"10\" style=\"stroke: #383838; stroke-width: 1.5;\" width=\"269.86\" x=\"158.5\" y=\"83.0986\"/><rect fill=\"#F8F8F8\" height=\"37.9375\" rx=\"10\" ry=\"10\" style=\"stroke: #F8F8F8; stroke-width: 1.5;\" width=\"269.86\" x=\"158.5\" y=\"83.0986\"/><rect fill=\"#F8F8F8\" height=\"10\" style=\"stroke: #F8F8F8; stroke-width: 1.5;\" width=\"269.86\" x=\"158.5\" y=\"111.0361\"/><rect fill=\"none\" height=\"68\" id=\"E3\" rx=\"10\" ry=\"10\" style=\"stroke: #383838; stroke-width: 1.5;\" width=\"269.86\" x=\"158.5\" y=\"83.0986\"/><text fill=\"#000000\" font-family=\"sans-serif\" font-size=\"12\" font-style=\"italic\" lengthAdjust=\"spacingAndGlyphs\" textLength=\"82\" x=\"252.43\" y=\"99.2373\">«calculation»</text><text fill=\"#000000\" font-family=\"sans-serif\" font-size=\"12\" lengthAdjust=\"spacingAndGlyphs\" textLength=\"119\" x=\"233.93\" y=\"113.2061\">evaluationFunction</text><line style=\"stroke: #383838; stroke-width: 1.0;\" x1=\"158.5\" x2=\"428.36\" y1=\"121.0361\" y2=\"121.0361\"/></a><text fill=\"#000000\" font-family=\"sans-serif\" font-size=\"14\" lengthAdjust=\"spacingAndGlyphs\" textLength=\"118\" x=\"6\" y=\"196.0938\">studyAlternatives</text><rect fill=\"#383838\" height=\"12\" style=\"stroke: #F8F8F8; stroke-width: 1.5;\" width=\"12\" x=\"59\" y=\"171.0986\"/><text fill=\"#000000\" font-family=\"sans-serif\" font-size=\"14\" lengthAdjust=\"spacingAndGlyphs\" textLength=\"132\" x=\"340\" y=\"20.7969\">selectedAlternative</text><rect fill=\"#383838\" height=\"12\" style=\"stroke: #F8F8F8; stroke-width: 1.5;\" width=\"12\" x=\"400\" y=\"36.0986\"/><text fill=\"#000000\" font-family=\"sans-serif\" font-size=\"14\" lengthAdjust=\"spacingAndGlyphs\" textLength=\"71\" x=\"123\" y=\"95.7969\">alternative</text><rect fill=\"#383838\" height=\"12\" style=\"stroke: #F8F8F8; stroke-width: 1.5;\" width=\"12\" x=\"152.5\" y=\"111.0986\"/><text fill=\"#000000\" font-family=\"sans-serif\" font-size=\"14\" lengthAdjust=\"spacingAndGlyphs\" textLength=\"39\" x=\"408.86\" y=\"95.7969\">result</text><rect fill=\"#383838\" height=\"12\" style=\"stroke: #F8F8F8; stroke-width: 1.5;\" width=\"12\" x=\"422.36\" y=\"111.0986\"/><!--MD5=[6e7e1831639df07e637166607cf9cc5b]\n",
       "@startuml\r\n",
       "skinparam ranksep 8\r\n",
       "left to right direction\r\n",
       "skinparam monochrome true\r\n",
       "skinparam classbackgroundcolor white\r\n",
       "skinparam shadowing false\r\n",
       "skinparam wrapWidth 300\r\n",
       "hide circle\r\n",
       "\r\n",
       "rec usage \"engineTradeStudy\" as E1 << analysis>> [[psysml:e12e8838-d64a-4336-9e52-2de97357eae2 ]] {\r\n",
       "portin \"studyAlternatives\" as E2  [[psysml:36f294a0-7f48-45c5-aee6-574d3cef2e7a ]] \r\n",
       "rec usage \"evaluationFunction\" as E3  <<(T,blue) calculation>> [[psysml:1fa3686a-6014-4c73-9542-2575e26fd8a7 ]] {\r\n",
       "portin \"alternative\" as E4  [[psysml:79c1d929-0a70-426e-ae6d-56e5e3e776a6 ]] \r\n",
       "portout \"result\" as E5  [[psysml:c19db6ea-6f05-4719-8826-e593430801be ]] \r\n",
       "}\r\n",
       "\r\n",
       "portout \"selectedAlternative\" as E6  [[psysml:169f456a-e384-47f5-89e9-43fd13dd17eb ]] \r\n",
       "}\r\n",
       "\r\n",
       "@enduml\r\n",
       "\n",
       "PlantUML version 1.2020.13(Sat Jun 13 12:26:38 UTC 2020)\n",
       "(EPL source distribution)\n",
       "Java Runtime: OpenJDK Runtime Environment\n",
       "JVM: OpenJDK 64-Bit Server VM\n",
       "Default Encoding: UTF-8\n",
       "Language: en\n",
       "Country: null\n",
       "--></g></svg>"
      ]
     },
     "execution_count": 20,
     "metadata": {},
     "output_type": "execute_result"
    }
   ],
   "source": [
    "%viz --style=\"LR\" --view=\"Action\" \"TradeStudyTest\""
   ]
  },
  {
   "cell_type": "code",
   "execution_count": 21,
   "id": "b54e0363",
   "metadata": {
    "execution": {
     "iopub.execute_input": "2022-02-18T10:50:36.172544Z",
     "iopub.status.busy": "2022-02-18T10:50:36.172121Z",
     "iopub.status.idle": "2022-02-18T10:50:36.177356Z",
     "shell.execute_reply": "2022-02-18T10:50:36.177664Z"
    }
   },
   "outputs": [
    {
     "data": {
      "image/svg+xml": [
       "<?xml version=\"1.0\" encoding=\"UTF-8\" standalone=\"no\"?><svg xmlns=\"http://www.w3.org/2000/svg\" xmlns:xlink=\"http://www.w3.org/1999/xlink\" contentScriptType=\"application/ecmascript\" contentStyleType=\"text/css\" height=\"12px\" preserveAspectRatio=\"none\" style=\"width:12px;height:12px;\" version=\"1.1\" viewBox=\"0 0 12 12\" width=\"12px\" zoomAndPan=\"magnify\"><defs/><g><!--MD5=[238c11ea2002f03115ad6b49a457d50e]\n",
       "@startuml\r\n",
       "skinparam roundcorner 20\r\n",
       "skinparam BoxPadding 20\r\n",
       "skinparam SequenceBoxBackgroundColor #white\r\n",
       "skinparam style strictuml\r\n",
       "skinparam maxMessageSize 100\r\n",
       "left to right direction\r\n",
       "skinparam monochrome true\r\n",
       "skinparam classbackgroundcolor white\r\n",
       "skinparam shadowing false\r\n",
       "skinparam wrapWidth 300\r\n",
       "hide circle\r\n",
       "\r\n",
       "@enduml\r\n",
       "\n",
       "PlantUML version 1.2020.13(Sat Jun 13 12:26:38 UTC 2020)\n",
       "(EPL source distribution)\n",
       "Java Runtime: OpenJDK Runtime Environment\n",
       "JVM: OpenJDK 64-Bit Server VM\n",
       "Default Encoding: UTF-8\n",
       "Language: en\n",
       "Country: null\n",
       "--></g></svg>"
      ]
     },
     "execution_count": 21,
     "metadata": {},
     "output_type": "execute_result"
    }
   ],
   "source": [
    "%viz --style=\"LR\" --view=\"Sequence\" \"TradeStudyTest\""
   ]
  },
  {
   "cell_type": "code",
   "execution_count": 22,
   "id": "19ab4c3b",
   "metadata": {
    "execution": {
     "iopub.execute_input": "2022-02-18T10:50:36.227847Z",
     "iopub.status.busy": "2022-02-18T10:50:36.227449Z",
     "iopub.status.idle": "2022-02-18T10:50:36.275194Z",
     "shell.execute_reply": "2022-02-18T10:50:36.275515Z"
    }
   },
   "outputs": [
    {
     "data": {
      "image/svg+xml": [
       "<?xml version=\"1.0\" encoding=\"UTF-8\" standalone=\"no\"?><svg xmlns=\"http://www.w3.org/2000/svg\" xmlns:xlink=\"http://www.w3.org/1999/xlink\" contentScriptType=\"application/ecmascript\" contentStyleType=\"text/css\" height=\"351px\" preserveAspectRatio=\"none\" style=\"width:886px;height:351px;\" version=\"1.1\" viewBox=\"0 0 886 351\" width=\"886px\" zoomAndPan=\"magnify\"><defs/><g><!--MD5=[fbc87193dbaf4d95561dea2c320d4a47]\n",
       "cluster E1--><a href=\"psysml:9d3e1c5c-e45c-4a85-8e75-4ee823ac8fbf\" target=\"_top\" title=\"psysml:9d3e1c5c-e45c-4a85-8e75-4ee823ac8fbf\" xlink:actuate=\"onRequest\" xlink:href=\"psysml:9d3e1c5c-e45c-4a85-8e75-4ee823ac8fbf\" xlink:show=\"new\" xlink:title=\"psysml:9d3e1c5c-e45c-4a85-8e75-4ee823ac8fbf\" xlink:type=\"simple\"><polygon fill=\"#FFFFFF\" points=\"16,6,132,6,139,28.2969,864,28.2969,864,339,16,339,16,6\" style=\"stroke: #000000; stroke-width: 1.5;\"/><line style=\"stroke: #000000; stroke-width: 1.5;\" x1=\"16\" x2=\"139\" y1=\"28.2969\" y2=\"28.2969\"/><text fill=\"#000000\" font-family=\"sans-serif\" font-size=\"14\" font-weight=\"bold\" lengthAdjust=\"spacingAndGlyphs\" textLength=\"110\" x=\"20\" y=\"20.9951\">TradeStudyTest</text></a><!--MD5=[de5ec2e2e8f62f467e546659f5068c88]\n",
       "cluster E5--><a href=\"psysml:e12e8838-d64a-4336-9e52-2de97357eae2\" target=\"_top\" title=\"psysml:e12e8838-d64a-4336-9e52-2de97357eae2\" xlink:actuate=\"onRequest\" xlink:href=\"psysml:e12e8838-d64a-4336-9e52-2de97357eae2\" xlink:show=\"new\" xlink:title=\"psysml:e12e8838-d64a-4336-9e52-2de97357eae2\" xlink:type=\"simple\"><rect fill=\"#FFFFFF\" height=\"148\" id=\"E5\" rx=\"10\" ry=\"10\" style=\"stroke: #383838; stroke-width: 1.5;\" width=\"180\" x=\"48\" y=\"57\"/><rect fill=\"#F8F8F8\" height=\"37.9375\" rx=\"10\" ry=\"10\" style=\"stroke: #F8F8F8; stroke-width: 1.5;\" width=\"180\" x=\"48\" y=\"57\"/><rect fill=\"#F8F8F8\" height=\"10\" style=\"stroke: #F8F8F8; stroke-width: 1.5;\" width=\"180\" x=\"48\" y=\"84.9375\"/><rect fill=\"none\" height=\"148\" id=\"E5\" rx=\"10\" ry=\"10\" style=\"stroke: #383838; stroke-width: 1.5;\" width=\"180\" x=\"48\" y=\"57\"/><text fill=\"#000000\" font-family=\"sans-serif\" font-size=\"12\" font-style=\"italic\" lengthAdjust=\"spacingAndGlyphs\" textLength=\"64\" x=\"106\" y=\"73.1387\">«analysis»</text><text fill=\"#000000\" font-family=\"sans-serif\" font-size=\"12\" lengthAdjust=\"spacingAndGlyphs\" textLength=\"114\" x=\"81\" y=\"87.1074\">engineTradeStudy</text><line style=\"stroke: #383838; stroke-width: 1.0;\" x1=\"48\" x2=\"228\" y1=\"94.9375\" y2=\"94.9375\"/></a><!--MD5=[b4997ac47864f28c2f74865a473b2911]\n",
       "class E2--><a href=\"psysml:956f1300-60cf-48ef-8161-7a381ae0bb8c\" target=\"_top\" title=\"psysml:956f1300-60cf-48ef-8161-7a381ae0bb8c\" xlink:actuate=\"onRequest\" xlink:href=\"psysml:956f1300-60cf-48ef-8161-7a381ae0bb8c\" xlink:show=\"new\" xlink:title=\"psysml:956f1300-60cf-48ef-8161-7a381ae0bb8c\" xlink:type=\"simple\"><rect fill=\"#FFFFFF\" height=\"45.9375\" id=\"E2\" style=\"stroke: #383838; stroke-width: 1.5;\" width=\"70\" x=\"778\" y=\"137\"/><text fill=\"#000000\" font-family=\"sans-serif\" font-size=\"12\" font-style=\"italic\" lengthAdjust=\"spacingAndGlyphs\" textLength=\"68\" x=\"779\" y=\"153.1387\">«part  def»</text><text fill=\"#000000\" font-family=\"sans-serif\" font-size=\"12\" lengthAdjust=\"spacingAndGlyphs\" textLength=\"43\" x=\"791.5\" y=\"167.1074\">Engine</text><line style=\"stroke: #383838; stroke-width: 1.5;\" x1=\"779\" x2=\"847\" y1=\"174.9375\" y2=\"174.9375\"/></a><!--MD5=[09b614a08d8cba4a07c9adeb5e0fee81]\n",
       "class E3--><a href=\"psysml:5ff7a686-dab8-41cf-8031-b7dccb26607b\" target=\"_top\" title=\"psysml:5ff7a686-dab8-41cf-8031-b7dccb26607b\" xlink:actuate=\"onRequest\" xlink:href=\"psysml:5ff7a686-dab8-41cf-8031-b7dccb26607b\" xlink:show=\"new\" xlink:title=\"psysml:5ff7a686-dab8-41cf-8031-b7dccb26607b\" xlink:type=\"simple\"><rect fill=\"#FFFFFF\" height=\"45.9375\" id=\"E3\" rx=\"10\" ry=\"10\" style=\"stroke: #383838; stroke-width: 1.5;\" width=\"112\" x=\"597\" y=\"196\"/><text fill=\"#000000\" font-family=\"sans-serif\" font-size=\"12\" font-style=\"italic\" lengthAdjust=\"spacingAndGlyphs\" textLength=\"40\" x=\"633\" y=\"212.1387\">«part»</text><text fill=\"#000000\" font-family=\"sans-serif\" font-size=\"12\" lengthAdjust=\"spacingAndGlyphs\" textLength=\"102\" x=\"600\" y=\"226.1074\">engine1: Engine</text><line style=\"stroke: #383838; stroke-width: 1.5;\" x1=\"598\" x2=\"708\" y1=\"233.9375\" y2=\"233.9375\"/></a><!--MD5=[ebbe1d658d1005bcc118a6aa81145e00]\n",
       "class E4--><a href=\"psysml:44e88bb9-9b84-4b3f-b104-23d7a257fb04\" target=\"_top\" title=\"psysml:44e88bb9-9b84-4b3f-b104-23d7a257fb04\" xlink:actuate=\"onRequest\" xlink:href=\"psysml:44e88bb9-9b84-4b3f-b104-23d7a257fb04\" xlink:show=\"new\" xlink:title=\"psysml:44e88bb9-9b84-4b3f-b104-23d7a257fb04\" xlink:type=\"simple\"><rect fill=\"#FFFFFF\" height=\"45.9375\" id=\"E4\" rx=\"10\" ry=\"10\" style=\"stroke: #383838; stroke-width: 1.5;\" width=\"112\" x=\"597\" y=\"277\"/><text fill=\"#000000\" font-family=\"sans-serif\" font-size=\"12\" font-style=\"italic\" lengthAdjust=\"spacingAndGlyphs\" textLength=\"40\" x=\"633\" y=\"293.1387\">«part»</text><text fill=\"#000000\" font-family=\"sans-serif\" font-size=\"12\" lengthAdjust=\"spacingAndGlyphs\" textLength=\"102\" x=\"600\" y=\"307.1074\">engine2: Engine</text><line style=\"stroke: #383838; stroke-width: 1.5;\" x1=\"598\" x2=\"708\" y1=\"314.9375\" y2=\"314.9375\"/></a><!--MD5=[2156ba9850f5573cc1fc38a6a4b2f02b]\n",
       "class E7--><a href=\"psysml:1fa3686a-6014-4c73-9542-2575e26fd8a7\" target=\"_top\" title=\"psysml:1fa3686a-6014-4c73-9542-2575e26fd8a7\" xlink:actuate=\"onRequest\" xlink:href=\"psysml:1fa3686a-6014-4c73-9542-2575e26fd8a7\" xlink:show=\"new\" xlink:title=\"psysml:1fa3686a-6014-4c73-9542-2575e26fd8a7\" xlink:type=\"simple\"><rect fill=\"#FFFFFF\" height=\"45.9375\" id=\"E7\" rx=\"10\" ry=\"10\" style=\"stroke: #383838; stroke-width: 1.5;\" width=\"129\" x=\"309.5\" y=\"122\"/><text fill=\"#000000\" font-family=\"sans-serif\" font-size=\"12\" font-style=\"italic\" lengthAdjust=\"spacingAndGlyphs\" textLength=\"82\" x=\"333\" y=\"138.1387\">«calculation»</text><text fill=\"#000000\" font-family=\"sans-serif\" font-size=\"12\" lengthAdjust=\"spacingAndGlyphs\" textLength=\"119\" x=\"312.5\" y=\"152.1074\">evaluationFunction</text><line style=\"stroke: #383838; stroke-width: 1.5;\" x1=\"310.5\" x2=\"437.5\" y1=\"159.9375\" y2=\"159.9375\"/></a><!--MD5=[b9389687b975829384b498ac4b7476b2]\n",
       "class E8--><a href=\"psysml:79c1d929-0a70-426e-ae6d-56e5e3e776a6\" target=\"_top\" title=\"psysml:79c1d929-0a70-426e-ae6d-56e5e3e776a6\" xlink:actuate=\"onRequest\" xlink:href=\"psysml:79c1d929-0a70-426e-ae6d-56e5e3e776a6\" xlink:show=\"new\" xlink:title=\"psysml:79c1d929-0a70-426e-ae6d-56e5e3e776a6\" xlink:type=\"simple\"><rect fill=\"#FFFFFF\" height=\"45.9375\" id=\"E8\" rx=\"10\" ry=\"10\" style=\"stroke: #383838; stroke-width: 1.5;\" width=\"128\" x=\"589\" y=\"78\"/><text fill=\"#000000\" font-family=\"sans-serif\" font-size=\"12\" font-style=\"italic\" lengthAdjust=\"spacingAndGlyphs\" textLength=\"40\" x=\"633\" y=\"94.1387\">«part»</text><text fill=\"#000000\" font-family=\"sans-serif\" font-size=\"12\" lengthAdjust=\"spacingAndGlyphs\" textLength=\"118\" x=\"592\" y=\"108.1074\">alternative: Engine</text><line style=\"stroke: #383838; stroke-width: 1.5;\" x1=\"590\" x2=\"716\" y1=\"115.9375\" y2=\"115.9375\"/></a><!--MD5=[fd4143e9d270a159db93a4ea2a975926]\n",
       "class E9--><a href=\"psysml:169f456a-e384-47f5-89e9-43fd13dd17eb\" target=\"_top\" title=\"psysml:169f456a-e384-47f5-89e9-43fd13dd17eb\" xlink:actuate=\"onRequest\" xlink:href=\"psysml:169f456a-e384-47f5-89e9-43fd13dd17eb\" xlink:show=\"new\" xlink:title=\"psysml:169f456a-e384-47f5-89e9-43fd13dd17eb\" xlink:type=\"simple\"><rect fill=\"#FFFFFF\" height=\"45.9375\" id=\"E9\" rx=\"10\" ry=\"10\" style=\"stroke: #383838; stroke-width: 1.5;\" width=\"182\" x=\"283\" y=\"41\"/><text fill=\"#000000\" font-family=\"sans-serif\" font-size=\"12\" font-style=\"italic\" lengthAdjust=\"spacingAndGlyphs\" textLength=\"40\" x=\"354\" y=\"57.1387\">«part»</text><text fill=\"#000000\" font-family=\"sans-serif\" font-size=\"12\" lengthAdjust=\"spacingAndGlyphs\" textLength=\"172\" x=\"286\" y=\"71.1074\">selectedAlternative: Engine</text><line style=\"stroke: #383838; stroke-width: 1.5;\" x1=\"284\" x2=\"464\" y1=\"78.9375\" y2=\"78.9375\"/></a><!--MD5=[60a26617385b1d2d0262a64233df1f8d]\n",
       "class E6--><a href=\"psysml:9a804e4d-bc47-4ee7-a2d8-d8527e0c1caf\" target=\"_top\" title=\"psysml:9a804e4d-bc47-4ee7-a2d8-d8527e0c1caf\" xlink:actuate=\"onRequest\" xlink:href=\"psysml:9a804e4d-bc47-4ee7-a2d8-d8527e0c1caf\" xlink:show=\"new\" xlink:title=\"psysml:9a804e4d-bc47-4ee7-a2d8-d8527e0c1caf\" xlink:type=\"simple\"><rect fill=\"#FFFFFF\" height=\"45.9375\" id=\"E6\" rx=\"10\" ry=\"10\" style=\"stroke: #383838; stroke-width: 1.5;\" width=\"132\" x=\"72\" y=\"116\"/><text fill=\"#000000\" font-family=\"sans-serif\" font-size=\"12\" font-style=\"italic\" lengthAdjust=\"spacingAndGlyphs\" textLength=\"70\" x=\"103\" y=\"132.1387\">«objective»</text><text fill=\"#000000\" font-family=\"sans-serif\" font-size=\"12\" lengthAdjust=\"spacingAndGlyphs\" textLength=\"126\" x=\"75\" y=\"146.1074\">tradeStudyObjective</text><line style=\"stroke: #383838; stroke-width: 1.5;\" x1=\"73\" x2=\"203\" y1=\"153.9375\" y2=\"153.9375\"/></a><!--MD5=[05d275557350bfb9b23a4ef7222b4c39]\n",
       "link E3 to E2--><a href=\"psysml:9be21745-fec5-4980-9af6-b796782d7969\" target=\"_top\" title=\"psysml:9be21745-fec5-4980-9af6-b796782d7969\" xlink:actuate=\"onRequest\" xlink:href=\"psysml:9be21745-fec5-4980-9af6-b796782d7969\" xlink:show=\"new\" xlink:title=\"psysml:9be21745-fec5-4980-9af6-b796782d7969\" xlink:type=\"simple\"><path d=\"M709.26,198.36 C725.37,192.35 742.93,185.79 758.9,179.83 \" fill=\"none\" id=\"E3-&gt;E2\" style=\"stroke: #383838; stroke-width: 1.0;\"/><polygon fill=\"#FFFFFF\" points=\"777.72,172.8,762.3699,186.0051,757.4717,172.89,777.72,172.8\" style=\"stroke: #383838; stroke-width: 1.0;\"/><ellipse cx=\"756.3304\" cy=\"186.1258\" fill=\"#383838\" rx=\"2\" ry=\"2\" style=\"stroke: #383838; stroke-width: 1.0;\"/><ellipse cx=\"752.8317\" cy=\"176.7578\" fill=\"#383838\" rx=\"2\" ry=\"2\" style=\"stroke: #383838; stroke-width: 1.0;\"/></a><!--MD5=[185131fc0dcab0a4505a2ebe144e961b]\n",
       "link E4 to E2--><a href=\"psysml:1ad537aa-bda6-4221-a392-6db0b9fa994b\" target=\"_top\" title=\"psysml:1ad537aa-bda6-4221-a392-6db0b9fa994b\" xlink:actuate=\"onRequest\" xlink:href=\"psysml:1ad537aa-bda6-4221-a392-6db0b9fa994b\" xlink:show=\"new\" xlink:title=\"psysml:1ad537aa-bda6-4221-a392-6db0b9fa994b\" xlink:type=\"simple\"><path d=\"M692.64,276.85 C700.93,271.34 709.46,265.24 717,259 C739.22,240.61 761.68,217.46 779.17,198.18 \" fill=\"none\" id=\"E4-&gt;E2\" style=\"stroke: #383838; stroke-width: 1.0;\"/><polygon fill=\"#FFFFFF\" points=\"792.59,183.08,785.2057,201.934,774.7386,192.6366,792.59,183.08\" style=\"stroke: #383838; stroke-width: 1.0;\"/><ellipse cx=\"779.925\" cy=\"204.8673\" fill=\"#383838\" rx=\"2\" ry=\"2\" style=\"stroke: #383838; stroke-width: 1.0;\"/><ellipse cx=\"772.4486\" cy=\"198.2264\" fill=\"#383838\" rx=\"2\" ry=\"2\" style=\"stroke: #383838; stroke-width: 1.0;\"/></a><!--MD5=[15ebcb19ae302d9b601edb458606d402]\n",
       "link E5 to E2--><a href=\"psysml:ef23f2a8-b555-4000-b8d1-a9fc8ea83129\" target=\"_top\" title=\"psysml:ef23f2a8-b555-4000-b8d1-a9fc8ea83129\" xlink:actuate=\"onRequest\" xlink:href=\"psysml:ef23f2a8-b555-4000-b8d1-a9fc8ea83129\" xlink:show=\"new\" xlink:title=\"psysml:ef23f2a8-b555-4000-b8d1-a9fc8ea83129\" xlink:type=\"simple\"><path d=\"M229.3053,194.5266 C229.7631,194.5126 230.2221,194.4985 230.6823,194.4844 C231.6027,194.4562 232.528,194.4278 233.4581,194.3991 C235.3182,194.3417 237.1975,194.2834 239.0951,194.2241 C242.8902,194.1057 246.7585,193.9834 250.6938,193.8575 C313.6575,191.8425 393.745,188.875 465,185 C576.46,178.94 707.83,168.6 772.27,163.32 \" fill=\"none\" id=\"E5-&gt;E2\" style=\"stroke: #383838; stroke-width: 1.0; stroke-dasharray: 7.0,7.0;\"/><polygon fill=\"#383838\" points=\"777.55,162.88,768.2497,159.639,772.5672,163.294,768.9121,167.6115,777.55,162.88\" style=\"stroke: #383838; stroke-width: 1.0;\"/><text fill=\"#000000\" font-family=\"sans-serif\" font-size=\"13\" lengthAdjust=\"spacingAndGlyphs\" textLength=\"62\" x=\"496\" y=\"176.0669\">«subject»</text></a><!--MD5=[452b418e7f8a40397a49b8c0a78acc5b]\n",
       "reverse link E5 to E7--><a href=\"psysml:3495a436-635c-4195-be5e-85a5d126f0e1\" target=\"_top\" title=\"psysml:3495a436-635c-4195-be5e-85a5d126f0e1\" xlink:actuate=\"onRequest\" xlink:href=\"psysml:3495a436-635c-4195-be5e-85a5d126f0e1\" xlink:show=\"new\" xlink:title=\"psysml:3495a436-635c-4195-be5e-85a5d126f0e1\" xlink:type=\"simple\"><path d=\"M228.1381,181.3254 C228.3235,181.2879 228.5087,181.2504 228.694,181.2129 C229.4348,181.0629 230.1745,180.9123 230.9129,180.7613 C232.3896,180.4593 233.8609,180.1554 235.3246,179.85 C238.2521,179.2391 241.1494,178.6219 244,178 C265.34,173.35 288.51,167.63 309.24,162.27 \" fill=\"none\" id=\"E5&lt;-E7\" style=\"stroke: #383838; stroke-width: 1.0;\"/><polygon fill=\"#383838\" points=\"228.1381,181.3254,234.8116,184.0576,239.9003,178.9484,233.2269,176.2161,228.1381,181.3254\" style=\"stroke: #383838; stroke-width: 1.0;\"/></a><!--MD5=[dc164f5e8a733ab456ef1add180e9e34]\n",
       "reverse link E7 to E8--><a href=\"psysml:e1d2632c-68a4-476d-b3ed-d8b6d2aaac51\" target=\"_top\" title=\"psysml:e1d2632c-68a4-476d-b3ed-d8b6d2aaac51\" xlink:actuate=\"onRequest\" xlink:href=\"psysml:e1d2632c-68a4-476d-b3ed-d8b6d2aaac51\" xlink:show=\"new\" xlink:title=\"psysml:e1d2632c-68a4-476d-b3ed-d8b6d2aaac51\" xlink:type=\"simple\"><path d=\"M451.59,132.83 C494.74,125.98 547.99,117.52 588.75,111.05 \" fill=\"none\" id=\"E7&lt;-E8\" style=\"stroke: #383838; stroke-width: 1.0;\"/><polygon fill=\"#FFFFFF\" points=\"438.55,134.91,445.1039,137.9178,450.401,133.0249,443.8471,130.0171,438.55,134.91\" style=\"stroke: #383838; stroke-width: 1.0;\"/><text fill=\"#000000\" font-family=\"sans-serif\" font-size=\"13\" lengthAdjust=\"spacingAndGlyphs\" textLength=\"8\" x=\"572.8586\" y=\"125.1574\">1</text></a><!--MD5=[f1f3f9f2fc535e6147756cb86a7f2e32]\n",
       "link E8 to E2--><a href=\"psysml:a8ae8a0d-ad52-4d9e-986d-0c741d3467c2\" target=\"_top\" title=\"psysml:a8ae8a0d-ad52-4d9e-986d-0c741d3467c2\" xlink:actuate=\"onRequest\" xlink:href=\"psysml:a8ae8a0d-ad52-4d9e-986d-0c741d3467c2\" xlink:show=\"new\" xlink:title=\"psysml:a8ae8a0d-ad52-4d9e-986d-0c741d3467c2\" xlink:type=\"simple\"><path d=\"M715.99,124.15 C730.17,129.44 745.11,135.02 758.87,140.16 \" fill=\"none\" id=\"E8-&gt;E2\" style=\"stroke: #383838; stroke-width: 1.0;\"/><polygon fill=\"#FFFFFF\" points=\"777.96,147.29,757.7117,147.2085,762.6044,134.0913,777.96,147.29\" style=\"stroke: #383838; stroke-width: 1.0;\"/><ellipse cx=\"753.0701\" cy=\"143.3426\" fill=\"#383838\" rx=\"2\" ry=\"2\" style=\"stroke: #383838; stroke-width: 1.0;\"/><ellipse cx=\"756.5649\" cy=\"133.9732\" fill=\"#383838\" rx=\"2\" ry=\"2\" style=\"stroke: #383838; stroke-width: 1.0;\"/></a><!--MD5=[9ae28de373ca99bb8a1b38d63370ca7e]\n",
       "reverse link E5 to E9--><a href=\"psysml:1023028c-00c5-4dde-9329-e4b02befe1ab\" target=\"_top\" title=\"psysml:1023028c-00c5-4dde-9329-e4b02befe1ab\" xlink:actuate=\"onRequest\" xlink:href=\"psysml:1023028c-00c5-4dde-9329-e4b02befe1ab\" xlink:show=\"new\" xlink:title=\"psysml:1023028c-00c5-4dde-9329-e4b02befe1ab\" xlink:type=\"simple\"><path d=\"M228.2549,186.9736 C228.4239,186.8992 228.5926,186.8242 228.7612,186.7488 C234.1538,184.3364 239.2925,181.4488 244,178 C251.5,172.51 276.21,110.35 283,104 C289.99,97.46 298.23,91.87 306.84,87.12 \" fill=\"none\" id=\"E5&lt;-E9\" style=\"stroke: #383838; stroke-width: 1.0;\"/><polygon fill=\"#FFFFFF\" points=\"228.2549,186.9736,235.3583,188.215,239.2363,182.1354,232.1328,180.894,228.2549,186.9736\" style=\"stroke: #383838; stroke-width: 1.0;\"/><text fill=\"#000000\" font-family=\"sans-serif\" font-size=\"13\" lengthAdjust=\"spacingAndGlyphs\" textLength=\"8\" x=\"280.6052\" y=\"107.0583\">1</text></a><!--MD5=[5c3bb36fe832a92c7f0e1807dd65209d]\n",
       "link E9 to E2--><a href=\"psysml:d6cd1bf0-a8ac-42a9-91c6-4adc5d4642e7\" target=\"_top\" title=\"psysml:d6cd1bf0-a8ac-42a9-91c6-4adc5d4642e7\" xlink:actuate=\"onRequest\" xlink:href=\"psysml:d6cd1bf0-a8ac-42a9-91c6-4adc5d4642e7\" xlink:show=\"new\" xlink:title=\"psysml:d6cd1bf0-a8ac-42a9-91c6-4adc5d4642e7\" xlink:type=\"simple\"><path d=\"M465.31,43.59 C536.62,31.95 637.06,25.68 717,60 C745.79,72.36 769.97,98.21 786.73,120.53 \" fill=\"none\" id=\"E9-&gt;E2\" style=\"stroke: #383838; stroke-width: 1.0;\"/><polygon fill=\"#FFFFFF\" points=\"798.29,136.98,781.6407,125.4561,793.0968,117.4088,798.29,136.98\" style=\"stroke: #383838; stroke-width: 1.0;\"/><ellipse cx=\"780.0009\" cy=\"119.6422\" fill=\"#383838\" rx=\"2\" ry=\"2\" style=\"stroke: #383838; stroke-width: 1.0;\"/><ellipse cx=\"788.1838\" cy=\"113.8942\" fill=\"#383838\" rx=\"2\" ry=\"2\" style=\"stroke: #383838; stroke-width: 1.0;\"/></a><!--MD5=[9c566ed62a5a58b721fad17423f87a75]\n",
       "@startuml\r\n",
       "left to right direction\r\n",
       "skinparam monochrome true\r\n",
       "skinparam classbackgroundcolor white\r\n",
       "skinparam shadowing false\r\n",
       "skinparam wrapWidth 300\r\n",
       "hide circle\r\n",
       "\r\n",
       "package \"TradeStudyTest\" as E1  [[psysml:9d3e1c5c-e45c-4a85-8e75-4ee823ac8fbf ]]  {\r\n",
       "comp def \"Engine\" as E2  <<(T,blue) part  def>> [[psysml:956f1300-60cf-48ef-8161-7a381ae0bb8c ]] {\r\n",
       "}\r\n",
       "comp usage \"engine1: Engine \" as E3  <<(T,blue) part>> [[psysml:5ff7a686-dab8-41cf-8031-b7dccb26607b ]] {\r\n",
       "}\r\n",
       "comp usage \"engine2: Engine \" as E4  <<(T,blue) part>> [[psysml:44e88bb9-9b84-4b3f-b104-23d7a257fb04 ]] {\r\n",
       "}\r\n",
       "rec usage \"engineTradeStudy\" as E5 << analysis>> [[psysml:e12e8838-d64a-4336-9e52-2de97357eae2 ]] {\r\n",
       "comp usage \"tradeStudyObjective\" as E6  <<objective>> [[psysml:9a804e4d-bc47-4ee7-a2d8-d8527e0c1caf ]] {\r\n",
       "}\r\n",
       "}\r\n",
       "comp usage \"evaluationFunction \" as E7  <<(T,blue) calculation>> [[psysml:1fa3686a-6014-4c73-9542-2575e26fd8a7 ]] {\r\n",
       "}\r\n",
       "comp usage \"alternative: Engine \" as E8  <<(T,blue) part>> [[psysml:79c1d929-0a70-426e-ae6d-56e5e3e776a6 ]] {\r\n",
       "}\r\n",
       "comp usage \"selectedAlternative: Engine \" as E9  <<(T,blue) part>> [[psysml:169f456a-e384-47f5-89e9-43fd13dd17eb ]] {\r\n",
       "}\r\n",
       "}\r\n",
       "E3 - -:|> E2 [[psysml:9be21745-fec5-4980-9af6-b796782d7969 ]] \r\n",
       "E4 - -:|> E2 [[psysml:1ad537aa-bda6-4221-a392-6db0b9fa994b ]] \r\n",
       "E5 ..> E2 [[psysml:ef23f2a8-b555-4000-b8d1-a9fc8ea83129 ]] : <<subject>>\r\n",
       "E5 *- - E7 [[psysml:3495a436-635c-4195-be5e-85a5d126f0e1 ]] \r\n",
       "E7 o- - \"1\"E8 [[psysml:e1d2632c-68a4-476d-b3ed-d8b6d2aaac51 ]] \r\n",
       "E8 - -:|> E2 [[psysml:a8ae8a0d-ad52-4d9e-986d-0c741d3467c2 ]] \r\n",
       "E5 o- - \"1\"E9 [[psysml:1023028c-00c5-4dde-9329-e4b02befe1ab ]] \r\n",
       "E9 - -:|> E2 [[psysml:d6cd1bf0-a8ac-42a9-91c6-4adc5d4642e7 ]] \r\n",
       "@enduml\r\n",
       "\n",
       "PlantUML version 1.2020.13(Sat Jun 13 12:26:38 UTC 2020)\n",
       "(EPL source distribution)\n",
       "Java Runtime: OpenJDK Runtime Environment\n",
       "JVM: OpenJDK 64-Bit Server VM\n",
       "Default Encoding: UTF-8\n",
       "Language: en\n",
       "Country: null\n",
       "--></g></svg>"
      ]
     },
     "execution_count": 22,
     "metadata": {},
     "output_type": "execute_result"
    }
   ],
   "source": [
    "%viz --style=\"LR\" --view=\"MIXED\" \"TradeStudyTest\""
   ]
  },
  {
   "cell_type": "code",
   "execution_count": 23,
   "id": "d012b87e",
   "metadata": {
    "execution": {
     "iopub.execute_input": "2022-02-18T10:50:36.325417Z",
     "iopub.status.busy": "2022-02-18T10:50:36.325013Z",
     "iopub.status.idle": "2022-02-18T10:50:36.372588Z",
     "shell.execute_reply": "2022-02-18T10:50:36.372225Z"
    }
   },
   "outputs": [
    {
     "data": {
      "image/svg+xml": [
       "<?xml version=\"1.0\" encoding=\"UTF-8\" standalone=\"no\"?><svg xmlns=\"http://www.w3.org/2000/svg\" xmlns:xlink=\"http://www.w3.org/1999/xlink\" contentScriptType=\"application/ecmascript\" contentStyleType=\"text/css\" height=\"545px\" preserveAspectRatio=\"none\" style=\"width:566px;height:545px;\" version=\"1.1\" viewBox=\"0 0 566 545\" width=\"566px\" zoomAndPan=\"magnify\"><defs><filter height=\"300%\" id=\"f1uujs0vt0px2i\" width=\"300%\" x=\"-1\" y=\"-1\"><feGaussianBlur result=\"blurOut\" stdDeviation=\"2.0\"/><feColorMatrix in=\"blurOut\" result=\"blurOut2\" type=\"matrix\" values=\"0 0 0 0 0 0 0 0 0 0 0 0 0 0 0 0 0 0 .4 0\"/><feOffset dx=\"4.0\" dy=\"4.0\" in=\"blurOut2\" result=\"blurOut3\"/><feBlend in=\"SourceGraphic\" in2=\"blurOut3\" mode=\"normal\"/></filter></defs><g><!--MD5=[fbc87193dbaf4d95561dea2c320d4a47]\n",
       "cluster E1--><a href=\"psysml:9d3e1c5c-e45c-4a85-8e75-4ee823ac8fbf\" target=\"_top\" title=\"psysml:9d3e1c5c-e45c-4a85-8e75-4ee823ac8fbf\" xlink:actuate=\"onRequest\" xlink:href=\"psysml:9d3e1c5c-e45c-4a85-8e75-4ee823ac8fbf\" xlink:show=\"new\" xlink:title=\"psysml:9d3e1c5c-e45c-4a85-8e75-4ee823ac8fbf\" xlink:type=\"simple\"><polygon fill=\"#FFFFFF\" filter=\"url(#f1uujs0vt0px2i)\" points=\"16,6,132,6,139,28.2969,544,28.2969,544,533,16,533,16,6\" style=\"stroke: #000000; stroke-width: 1.5;\"/><line style=\"stroke: #000000; stroke-width: 1.5;\" x1=\"16\" x2=\"139\" y1=\"28.2969\" y2=\"28.2969\"/><text fill=\"#000000\" font-family=\"sans-serif\" font-size=\"14\" font-weight=\"bold\" lengthAdjust=\"spacingAndGlyphs\" textLength=\"110\" x=\"20\" y=\"20.9951\">TradeStudyTest</text></a><!--MD5=[de5ec2e2e8f62f467e546659f5068c88]\n",
       "cluster E5--><a href=\"psysml:e12e8838-d64a-4336-9e52-2de97357eae2\" target=\"_top\" title=\"psysml:e12e8838-d64a-4336-9e52-2de97357eae2\" xlink:actuate=\"onRequest\" xlink:href=\"psysml:e12e8838-d64a-4336-9e52-2de97357eae2\" xlink:show=\"new\" xlink:title=\"psysml:e12e8838-d64a-4336-9e52-2de97357eae2\" xlink:type=\"simple\"><rect fill=\"#FFFFFF\" filter=\"url(#f1uujs0vt0px2i)\" height=\"129\" id=\"E5\" rx=\"10\" ry=\"10\" style=\"stroke: #A80036; stroke-width: 1.5;\" width=\"199\" x=\"238\" y=\"57\"/><rect fill=\"#FEFECE\" height=\"37.9375\" rx=\"10\" ry=\"10\" style=\"stroke: #FEFECE; stroke-width: 1.5;\" width=\"199\" x=\"238\" y=\"57\"/><rect fill=\"#FEFECE\" height=\"10\" style=\"stroke: #FEFECE; stroke-width: 1.5;\" width=\"199\" x=\"238\" y=\"84.9375\"/><rect fill=\"none\" height=\"129\" id=\"E5\" rx=\"10\" ry=\"10\" style=\"stroke: #A80036; stroke-width: 1.5;\" width=\"199\" x=\"238\" y=\"57\"/><text fill=\"#000000\" font-family=\"sans-serif\" font-size=\"12\" font-style=\"italic\" lengthAdjust=\"spacingAndGlyphs\" textLength=\"64\" x=\"305.5\" y=\"73.1387\">«analysis»</text><text fill=\"#000000\" font-family=\"sans-serif\" font-size=\"12\" lengthAdjust=\"spacingAndGlyphs\" textLength=\"114\" x=\"280.5\" y=\"87.1074\">engineTradeStudy</text><line style=\"stroke: #A80036; stroke-width: 1.0;\" x1=\"238\" x2=\"437\" y1=\"94.9375\" y2=\"94.9375\"/></a><!--MD5=[b4997ac47864f28c2f74865a473b2911]\n",
       "class E2--><a href=\"psysml:956f1300-60cf-48ef-8161-7a381ae0bb8c\" target=\"_top\" title=\"psysml:956f1300-60cf-48ef-8161-7a381ae0bb8c\" xlink:actuate=\"onRequest\" xlink:href=\"psysml:956f1300-60cf-48ef-8161-7a381ae0bb8c\" xlink:show=\"new\" xlink:title=\"psysml:956f1300-60cf-48ef-8161-7a381ae0bb8c\" xlink:type=\"simple\"><rect fill=\"#FEFECE\" filter=\"url(#f1uujs0vt0px2i)\" height=\"45.9375\" id=\"E2\" style=\"stroke: #A80036; stroke-width: 1.5;\" width=\"70\" x=\"292\" y=\"471\"/><text fill=\"#000000\" font-family=\"sans-serif\" font-size=\"12\" font-style=\"italic\" lengthAdjust=\"spacingAndGlyphs\" textLength=\"68\" x=\"293\" y=\"487.1387\">«part  def»</text><text fill=\"#000000\" font-family=\"sans-serif\" font-size=\"12\" lengthAdjust=\"spacingAndGlyphs\" textLength=\"43\" x=\"305.5\" y=\"501.1074\">Engine</text><line style=\"stroke: #A80036; stroke-width: 1.5;\" x1=\"293\" x2=\"361\" y1=\"508.9375\" y2=\"508.9375\"/></a><!--MD5=[09b614a08d8cba4a07c9adeb5e0fee81]\n",
       "class E3--><a href=\"psysml:5ff7a686-dab8-41cf-8031-b7dccb26607b\" target=\"_top\" title=\"psysml:5ff7a686-dab8-41cf-8031-b7dccb26607b\" xlink:actuate=\"onRequest\" xlink:href=\"psysml:5ff7a686-dab8-41cf-8031-b7dccb26607b\" xlink:show=\"new\" xlink:title=\"psysml:5ff7a686-dab8-41cf-8031-b7dccb26607b\" xlink:type=\"simple\"><rect fill=\"#FEFECE\" filter=\"url(#f1uujs0vt0px2i)\" height=\"45.9375\" id=\"E3\" rx=\"10\" ry=\"10\" style=\"stroke: #A80036; stroke-width: 1.5;\" width=\"112\" x=\"179\" y=\"364\"/><text fill=\"#000000\" font-family=\"sans-serif\" font-size=\"12\" font-style=\"italic\" lengthAdjust=\"spacingAndGlyphs\" textLength=\"40\" x=\"215\" y=\"380.1387\">«part»</text><text fill=\"#000000\" font-family=\"sans-serif\" font-size=\"12\" lengthAdjust=\"spacingAndGlyphs\" textLength=\"102\" x=\"182\" y=\"394.1074\">engine1: Engine</text><line style=\"stroke: #A80036; stroke-width: 1.5;\" x1=\"180\" x2=\"290\" y1=\"401.9375\" y2=\"401.9375\"/></a><!--MD5=[ebbe1d658d1005bcc118a6aa81145e00]\n",
       "class E4--><a href=\"psysml:44e88bb9-9b84-4b3f-b104-23d7a257fb04\" target=\"_top\" title=\"psysml:44e88bb9-9b84-4b3f-b104-23d7a257fb04\" xlink:actuate=\"onRequest\" xlink:href=\"psysml:44e88bb9-9b84-4b3f-b104-23d7a257fb04\" xlink:show=\"new\" xlink:title=\"psysml:44e88bb9-9b84-4b3f-b104-23d7a257fb04\" xlink:type=\"simple\"><rect fill=\"#FEFECE\" filter=\"url(#f1uujs0vt0px2i)\" height=\"45.9375\" id=\"E4\" rx=\"10\" ry=\"10\" style=\"stroke: #A80036; stroke-width: 1.5;\" width=\"112\" x=\"32\" y=\"364\"/><text fill=\"#000000\" font-family=\"sans-serif\" font-size=\"12\" font-style=\"italic\" lengthAdjust=\"spacingAndGlyphs\" textLength=\"40\" x=\"68\" y=\"380.1387\">«part»</text><text fill=\"#000000\" font-family=\"sans-serif\" font-size=\"12\" lengthAdjust=\"spacingAndGlyphs\" textLength=\"102\" x=\"35\" y=\"394.1074\">engine2: Engine</text><line style=\"stroke: #A80036; stroke-width: 1.5;\" x1=\"33\" x2=\"143\" y1=\"401.9375\" y2=\"401.9375\"/></a><!--MD5=[2156ba9850f5573cc1fc38a6a4b2f02b]\n",
       "class E7--><a href=\"psysml:1fa3686a-6014-4c73-9542-2575e26fd8a7\" target=\"_top\" title=\"psysml:1fa3686a-6014-4c73-9542-2575e26fd8a7\" xlink:actuate=\"onRequest\" xlink:href=\"psysml:1fa3686a-6014-4c73-9542-2575e26fd8a7\" xlink:show=\"new\" xlink:title=\"psysml:1fa3686a-6014-4c73-9542-2575e26fd8a7\" xlink:type=\"simple\"><rect fill=\"#FEFECE\" filter=\"url(#f1uujs0vt0px2i)\" height=\"45.9375\" id=\"E7\" rx=\"10\" ry=\"10\" style=\"stroke: #A80036; stroke-width: 1.5;\" width=\"129\" x=\"181.5\" y=\"241\"/><text fill=\"#000000\" font-family=\"sans-serif\" font-size=\"12\" font-style=\"italic\" lengthAdjust=\"spacingAndGlyphs\" textLength=\"82\" x=\"205\" y=\"257.1387\">«calculation»</text><text fill=\"#000000\" font-family=\"sans-serif\" font-size=\"12\" lengthAdjust=\"spacingAndGlyphs\" textLength=\"119\" x=\"184.5\" y=\"271.1074\">evaluationFunction</text><line style=\"stroke: #A80036; stroke-width: 1.5;\" x1=\"182.5\" x2=\"309.5\" y1=\"278.9375\" y2=\"278.9375\"/></a><!--MD5=[b9389687b975829384b498ac4b7476b2]\n",
       "class E8--><a href=\"psysml:79c1d929-0a70-426e-ae6d-56e5e3e776a6\" target=\"_top\" title=\"psysml:79c1d929-0a70-426e-ae6d-56e5e3e776a6\" xlink:actuate=\"onRequest\" xlink:href=\"psysml:79c1d929-0a70-426e-ae6d-56e5e3e776a6\" xlink:show=\"new\" xlink:title=\"psysml:79c1d929-0a70-426e-ae6d-56e5e3e776a6\" xlink:type=\"simple\"><rect fill=\"#FEFECE\" filter=\"url(#f1uujs0vt0px2i)\" height=\"45.9375\" id=\"E8\" rx=\"10\" ry=\"10\" style=\"stroke: #A80036; stroke-width: 1.5;\" width=\"128\" x=\"363\" y=\"364\"/><text fill=\"#000000\" font-family=\"sans-serif\" font-size=\"12\" font-style=\"italic\" lengthAdjust=\"spacingAndGlyphs\" textLength=\"40\" x=\"407\" y=\"380.1387\">«part»</text><text fill=\"#000000\" font-family=\"sans-serif\" font-size=\"12\" lengthAdjust=\"spacingAndGlyphs\" textLength=\"118\" x=\"366\" y=\"394.1074\">alternative: Engine</text><line style=\"stroke: #A80036; stroke-width: 1.5;\" x1=\"364\" x2=\"490\" y1=\"401.9375\" y2=\"401.9375\"/></a><!--MD5=[fd4143e9d270a159db93a4ea2a975926]\n",
       "class E9--><a href=\"psysml:169f456a-e384-47f5-89e9-43fd13dd17eb\" target=\"_top\" title=\"psysml:169f456a-e384-47f5-89e9-43fd13dd17eb\" xlink:actuate=\"onRequest\" xlink:href=\"psysml:169f456a-e384-47f5-89e9-43fd13dd17eb\" xlink:show=\"new\" xlink:title=\"psysml:169f456a-e384-47f5-89e9-43fd13dd17eb\" xlink:type=\"simple\"><rect fill=\"#FEFECE\" filter=\"url(#f1uujs0vt0px2i)\" height=\"45.9375\" id=\"E9\" rx=\"10\" ry=\"10\" style=\"stroke: #A80036; stroke-width: 1.5;\" width=\"182\" x=\"346\" y=\"241\"/><text fill=\"#000000\" font-family=\"sans-serif\" font-size=\"12\" font-style=\"italic\" lengthAdjust=\"spacingAndGlyphs\" textLength=\"40\" x=\"417\" y=\"257.1387\">«part»</text><text fill=\"#000000\" font-family=\"sans-serif\" font-size=\"12\" lengthAdjust=\"spacingAndGlyphs\" textLength=\"172\" x=\"349\" y=\"271.1074\">selectedAlternative: Engine</text><line style=\"stroke: #A80036; stroke-width: 1.5;\" x1=\"347\" x2=\"527\" y1=\"278.9375\" y2=\"278.9375\"/></a><!--MD5=[60a26617385b1d2d0262a64233df1f8d]\n",
       "class E6--><a href=\"psysml:9a804e4d-bc47-4ee7-a2d8-d8527e0c1caf\" target=\"_top\" title=\"psysml:9a804e4d-bc47-4ee7-a2d8-d8527e0c1caf\" xlink:actuate=\"onRequest\" xlink:href=\"psysml:9a804e4d-bc47-4ee7-a2d8-d8527e0c1caf\" xlink:show=\"new\" xlink:title=\"psysml:9a804e4d-bc47-4ee7-a2d8-d8527e0c1caf\" xlink:type=\"simple\"><rect fill=\"#FEFECE\" filter=\"url(#f1uujs0vt0px2i)\" height=\"45.9375\" id=\"E6\" rx=\"10\" ry=\"10\" style=\"stroke: #A80036; stroke-width: 1.5;\" width=\"132\" x=\"281\" y=\"116\"/><text fill=\"#000000\" font-family=\"sans-serif\" font-size=\"12\" font-style=\"italic\" lengthAdjust=\"spacingAndGlyphs\" textLength=\"70\" x=\"312\" y=\"132.1387\">«objective»</text><text fill=\"#000000\" font-family=\"sans-serif\" font-size=\"12\" lengthAdjust=\"spacingAndGlyphs\" textLength=\"126\" x=\"284\" y=\"146.1074\">tradeStudyObjective</text><line style=\"stroke: #A80036; stroke-width: 1.5;\" x1=\"282\" x2=\"412\" y1=\"153.9375\" y2=\"153.9375\"/></a><!--MD5=[05d275557350bfb9b23a4ef7222b4c39]\n",
       "link E3 to E2--><a href=\"psysml:9be21745-fec5-4980-9af6-b796782d7969\" target=\"_top\" title=\"psysml:9be21745-fec5-4980-9af6-b796782d7969\" xlink:actuate=\"onRequest\" xlink:href=\"psysml:9be21745-fec5-4980-9af6-b796782d7969\" xlink:show=\"new\" xlink:title=\"psysml:9be21745-fec5-4980-9af6-b796782d7969\" xlink:type=\"simple\"><path d=\"M254.29,410.01 C265.74,423.08 280.57,440.01 293.86,455.17 \" fill=\"none\" id=\"E3-&gt;E2\" style=\"stroke: #A80036; stroke-width: 1.0;\"/><polygon fill=\"#FFFFFF\" points=\"307.42,470.66,289.6319,460.9861,300.1599,451.7578,307.42,470.66\" style=\"stroke: #A80036; stroke-width: 1.0;\"/><ellipse cx=\"287.3787\" cy=\"455.3814\" fill=\"#A80036\" rx=\"2\" ry=\"2\" style=\"stroke: #A80036; stroke-width: 1.0;\"/><ellipse cx=\"294.8987\" cy=\"448.7898\" fill=\"#A80036\" rx=\"2\" ry=\"2\" style=\"stroke: #A80036; stroke-width: 1.0;\"/></a><!--MD5=[185131fc0dcab0a4505a2ebe144e961b]\n",
       "link E4 to E2--><a href=\"psysml:1ad537aa-bda6-4221-a392-6db0b9fa994b\" target=\"_top\" title=\"psysml:1ad537aa-bda6-4221-a392-6db0b9fa994b\" xlink:actuate=\"onRequest\" xlink:href=\"psysml:1ad537aa-bda6-4221-a392-6db0b9fa994b\" xlink:show=\"new\" xlink:title=\"psysml:1ad537aa-bda6-4221-a392-6db0b9fa994b\" xlink:type=\"simple\"><path d=\"M138.1,410.01 C177.63,427.38 232.65,451.55 273.12,469.33 \" fill=\"none\" id=\"E4-&gt;E2\" style=\"stroke: #A80036; stroke-width: 1.0;\"/><polygon fill=\"#FFFFFF\" points=\"291.69,477.49,271.479,476.2594,277.1083,463.4411,291.69,477.49\" style=\"stroke: #A80036; stroke-width: 1.0;\"/><ellipse cx=\"267.0642\" cy=\"472.1363\" fill=\"#A80036\" rx=\"2\" ry=\"2\" style=\"stroke: #A80036; stroke-width: 1.0;\"/><ellipse cx=\"271.0852\" cy=\"462.9803\" fill=\"#A80036\" rx=\"2\" ry=\"2\" style=\"stroke: #A80036; stroke-width: 1.0;\"/></a><!--MD5=[15ebcb19ae302d9b601edb458606d402]\n",
       "link E5 to E2--><a href=\"psysml:ef23f2a8-b555-4000-b8d1-a9fc8ea83129\" target=\"_top\" title=\"psysml:ef23f2a8-b555-4000-b8d1-a9fc8ea83129\" xlink:actuate=\"onRequest\" xlink:href=\"psysml:ef23f2a8-b555-4000-b8d1-a9fc8ea83129\" xlink:show=\"new\" xlink:title=\"psysml:ef23f2a8-b555-4000-b8d1-a9fc8ea83129\" xlink:type=\"simple\"><path d=\"M237.7204,146.0763 C237.4768,146.2621 237.2287,146.4518 236.9763,146.6454 C235.9668,147.4197 234.8879,148.2561 233.748,149.1518 C231.4682,150.943 228.9441,152.9709 226.2406,155.2119 C215.4269,164.1756 201.745,176.5475 189.3625,190.8125 C164.5975,219.3425 145.03,255.445 164,287 C166.35,290.91 306.39,360.26 309,364 C329.99,394 331.63,437.66 330,465.69 \" fill=\"none\" id=\"E5-&gt;E2\" style=\"stroke: #A80036; stroke-width: 1.0; stroke-dasharray: 7.0,7.0;\"/><polygon fill=\"#A80036\" points=\"329.66,470.74,334.268,462.0356,330.003,465.7518,326.2869,461.4868,329.66,470.74\" style=\"stroke: #A80036; stroke-width: 1.0;\"/><text fill=\"#000000\" font-family=\"sans-serif\" font-size=\"13\" lengthAdjust=\"spacingAndGlyphs\" textLength=\"62\" x=\"253\" y=\"330.0669\">«subject»</text></a><!--MD5=[452b418e7f8a40397a49b8c0a78acc5b]\n",
       "reverse link E5 to E7--><a href=\"psysml:3495a436-635c-4195-be5e-85a5d126f0e1\" target=\"_top\" title=\"psysml:3495a436-635c-4195-be5e-85a5d126f0e1\" xlink:actuate=\"onRequest\" xlink:href=\"psysml:3495a436-635c-4195-be5e-85a5d126f0e1\" xlink:show=\"new\" xlink:title=\"psysml:3495a436-635c-4195-be5e-85a5d126f0e1\" xlink:type=\"simple\"><path d=\"M246,186.2997 C246,188.9655 246,191.6719 246,194.3971 C246,199.8476 246,205.3735 246,210.8005 C246,221.6544 246,232.1125 246,240.78 \" fill=\"none\" id=\"E5&lt;-E7\" style=\"stroke: #A80036; stroke-width: 1.0;\"/><polygon fill=\"#A80036\" points=\"246,186.2997,242,192.2997,246,198.2997,250,192.2997,246,186.2997\" style=\"stroke: #A80036; stroke-width: 1.0;\"/></a><!--MD5=[dc164f5e8a733ab456ef1add180e9e34]\n",
       "reverse link E7 to E8--><a href=\"psysml:e1d2632c-68a4-476d-b3ed-d8b6d2aaac51\" target=\"_top\" title=\"psysml:e1d2632c-68a4-476d-b3ed-d8b6d2aaac51\" xlink:actuate=\"onRequest\" xlink:href=\"psysml:e1d2632c-68a4-476d-b3ed-d8b6d2aaac51\" xlink:show=\"new\" xlink:title=\"psysml:e1d2632c-68a4-476d-b3ed-d8b6d2aaac51\" xlink:type=\"simple\"><path d=\"M290.06,294.45 C322.12,315.89 364.86,344.46 394.01,363.95 \" fill=\"none\" id=\"E7&lt;-E8\" style=\"stroke: #A80036; stroke-width: 1.0;\"/><polygon fill=\"#FFFFFF\" points=\"279.2,287.19,281.9674,293.8489,289.1785,293.8555,286.4111,287.1966,279.2,287.19\" style=\"stroke: #A80036; stroke-width: 1.0;\"/><text fill=\"#000000\" font-family=\"sans-serif\" font-size=\"13\" lengthAdjust=\"spacingAndGlyphs\" textLength=\"8\" x=\"376.0689\" y=\"352.8328\">1</text></a><!--MD5=[f1f3f9f2fc535e6147756cb86a7f2e32]\n",
       "link E8 to E2--><a href=\"psysml:a8ae8a0d-ad52-4d9e-986d-0c741d3467c2\" target=\"_top\" title=\"psysml:a8ae8a0d-ad52-4d9e-986d-0c741d3467c2\" xlink:actuate=\"onRequest\" xlink:href=\"psysml:a8ae8a0d-ad52-4d9e-986d-0c741d3467c2\" xlink:show=\"new\" xlink:title=\"psysml:a8ae8a0d-ad52-4d9e-986d-0c741d3467c2\" xlink:type=\"simple\"><path d=\"M406.04,410.01 C393.32,423.36 376.77,440.74 362.11,456.14 \" fill=\"none\" id=\"E8-&gt;E2\" style=\"stroke: #A80036; stroke-width: 1.0;\"/><polygon fill=\"#FFFFFF\" points=\"348.28,470.66,356.3076,452.0708,366.4491,461.7223,348.28,470.66\" style=\"stroke: #A80036; stroke-width: 1.0;\"/><ellipse cx=\"361.6859\" cy=\"449.3206\" fill=\"#A80036\" rx=\"2\" ry=\"2\" style=\"stroke: #A80036; stroke-width: 1.0;\"/><ellipse cx=\"368.9298\" cy=\"456.2144\" fill=\"#A80036\" rx=\"2\" ry=\"2\" style=\"stroke: #A80036; stroke-width: 1.0;\"/></a><!--MD5=[9ae28de373ca99bb8a1b38d63370ca7e]\n",
       "reverse link E5 to E9--><a href=\"psysml:1023028c-00c5-4dde-9329-e4b02befe1ab\" target=\"_top\" title=\"psysml:1023028c-00c5-4dde-9329-e4b02befe1ab\" xlink:actuate=\"onRequest\" xlink:href=\"psysml:1023028c-00c5-4dde-9329-e4b02befe1ab\" xlink:show=\"new\" xlink:title=\"psysml:1023028c-00c5-4dde-9329-e4b02befe1ab\" xlink:type=\"simple\"><path d=\"M254.7949,186.3026 C254.8401,186.4038 254.8856,186.5049 254.9313,186.6059 C255.2966,187.4138 255.6769,188.215 256.0726,189.0077 C256.8641,190.5933 257.7176,192.1452 258.6379,193.6498 C260.4784,196.6589 262.5863,199.4788 265,202 C278.04,215.62 316.12,229.75 353.15,240.99 \" fill=\"none\" id=\"E5&lt;-E9\" style=\"stroke: #A80036; stroke-width: 1.0;\"/><polygon fill=\"#FFFFFF\" points=\"254.7949,186.3026,253.5901,193.4123,259.6895,197.259,260.8944,190.1493,254.7949,186.3026\" style=\"stroke: #A80036; stroke-width: 1.0;\"/><text fill=\"#000000\" font-family=\"sans-serif\" font-size=\"13\" lengthAdjust=\"spacingAndGlyphs\" textLength=\"8\" x=\"330.0508\" y=\"232.8298\">1</text></a><!--MD5=[5c3bb36fe832a92c7f0e1807dd65209d]\n",
       "link E9 to E2--><a href=\"psysml:d6cd1bf0-a8ac-42a9-91c6-4adc5d4642e7\" target=\"_top\" title=\"psysml:d6cd1bf0-a8ac-42a9-91c6-4adc5d4642e7\" xlink:actuate=\"onRequest\" xlink:href=\"psysml:d6cd1bf0-a8ac-42a9-91c6-4adc5d4642e7\" xlink:show=\"new\" xlink:title=\"psysml:d6cd1bf0-a8ac-42a9-91c6-4adc5d4642e7\" xlink:type=\"simple\"><path d=\"M462.31,287.19 C492.44,316.36 535.53,368.75 509,410 C481.16,453.3 424.53,474.29 381.79,484.28 \" fill=\"none\" id=\"E9-&gt;E2\" style=\"stroke: #A80036; stroke-width: 1.0;\"/><polygon fill=\"#FFFFFF\" points=\"362.12,488.35,379.3051,477.6415,382.1449,491.3505,362.12,488.35\" style=\"stroke: #A80036; stroke-width: 1.0;\"/><ellipse cx=\"385.2923\" cy=\"478.4438\" fill=\"#A80036\" rx=\"2\" ry=\"2\" style=\"stroke: #A80036; stroke-width: 1.0;\"/><ellipse cx=\"387.3207\" cy=\"488.2359\" fill=\"#A80036\" rx=\"2\" ry=\"2\" style=\"stroke: #A80036; stroke-width: 1.0;\"/></a><!--MD5=[c88dde9ff9f044da418c5905855241ec]\n",
       "@startuml\r\n",
       "skinparam wrapWidth 300\r\n",
       "hide circle\r\n",
       "\r\n",
       "package \"TradeStudyTest\" as E1  [[psysml:9d3e1c5c-e45c-4a85-8e75-4ee823ac8fbf ]]  {\r\n",
       "comp def \"Engine\" as E2  <<(T,blue) part  def>> [[psysml:956f1300-60cf-48ef-8161-7a381ae0bb8c ]] {\r\n",
       "}\r\n",
       "comp usage \"engine1: Engine \" as E3  <<(T,blue) part>> [[psysml:5ff7a686-dab8-41cf-8031-b7dccb26607b ]] {\r\n",
       "}\r\n",
       "comp usage \"engine2: Engine \" as E4  <<(T,blue) part>> [[psysml:44e88bb9-9b84-4b3f-b104-23d7a257fb04 ]] {\r\n",
       "}\r\n",
       "rec usage \"engineTradeStudy\" as E5 << analysis>> [[psysml:e12e8838-d64a-4336-9e52-2de97357eae2 ]] {\r\n",
       "comp usage \"tradeStudyObjective\" as E6  <<objective>> [[psysml:9a804e4d-bc47-4ee7-a2d8-d8527e0c1caf ]] {\r\n",
       "}\r\n",
       "}\r\n",
       "comp usage \"evaluationFunction \" as E7  <<(T,blue) calculation>> [[psysml:1fa3686a-6014-4c73-9542-2575e26fd8a7 ]] {\r\n",
       "}\r\n",
       "comp usage \"alternative: Engine \" as E8  <<(T,blue) part>> [[psysml:79c1d929-0a70-426e-ae6d-56e5e3e776a6 ]] {\r\n",
       "}\r\n",
       "comp usage \"selectedAlternative: Engine \" as E9  <<(T,blue) part>> [[psysml:169f456a-e384-47f5-89e9-43fd13dd17eb ]] {\r\n",
       "}\r\n",
       "}\r\n",
       "E3 - -:|> E2 [[psysml:9be21745-fec5-4980-9af6-b796782d7969 ]] \r\n",
       "E4 - -:|> E2 [[psysml:1ad537aa-bda6-4221-a392-6db0b9fa994b ]] \r\n",
       "E5 ..> E2 [[psysml:ef23f2a8-b555-4000-b8d1-a9fc8ea83129 ]] : <<subject>>\r\n",
       "E5 *- - E7 [[psysml:3495a436-635c-4195-be5e-85a5d126f0e1 ]] \r\n",
       "E7 o- - \"1\"E8 [[psysml:e1d2632c-68a4-476d-b3ed-d8b6d2aaac51 ]] \r\n",
       "E8 - -:|> E2 [[psysml:a8ae8a0d-ad52-4d9e-986d-0c741d3467c2 ]] \r\n",
       "E5 o- - \"1\"E9 [[psysml:1023028c-00c5-4dde-9329-e4b02befe1ab ]] \r\n",
       "E9 - -:|> E2 [[psysml:d6cd1bf0-a8ac-42a9-91c6-4adc5d4642e7 ]] \r\n",
       "@enduml\r\n",
       "\n",
       "PlantUML version 1.2020.13(Sat Jun 13 12:26:38 UTC 2020)\n",
       "(EPL source distribution)\n",
       "Java Runtime: OpenJDK Runtime Environment\n",
       "JVM: OpenJDK 64-Bit Server VM\n",
       "Default Encoding: UTF-8\n",
       "Language: en\n",
       "Country: null\n",
       "--></g></svg>"
      ]
     },
     "execution_count": 23,
     "metadata": {},
     "output_type": "execute_result"
    }
   ],
   "source": [
    "%viz --style=\"STDCOLOR\" --view=\"Default\" \"TradeStudyTest\""
   ]
  },
  {
   "cell_type": "code",
   "execution_count": 24,
   "id": "b0596716",
   "metadata": {
    "execution": {
     "iopub.execute_input": "2022-02-18T10:50:36.422442Z",
     "iopub.status.busy": "2022-02-18T10:50:36.422016Z",
     "iopub.status.idle": "2022-02-18T10:50:36.468979Z",
     "shell.execute_reply": "2022-02-18T10:50:36.468599Z"
    }
   },
   "outputs": [
    {
     "data": {
      "image/svg+xml": [
       "<?xml version=\"1.0\" encoding=\"UTF-8\" standalone=\"no\"?><svg xmlns=\"http://www.w3.org/2000/svg\" xmlns:xlink=\"http://www.w3.org/1999/xlink\" contentScriptType=\"application/ecmascript\" contentStyleType=\"text/css\" height=\"497px\" preserveAspectRatio=\"none\" style=\"width:569px;height:497px;\" version=\"1.1\" viewBox=\"0 0 569 497\" width=\"569px\" zoomAndPan=\"magnify\"><defs><filter height=\"300%\" id=\"f1o2jz1ahyot9o\" width=\"300%\" x=\"-1\" y=\"-1\"><feGaussianBlur result=\"blurOut\" stdDeviation=\"2.0\"/><feColorMatrix in=\"blurOut\" result=\"blurOut2\" type=\"matrix\" values=\"0 0 0 0 0 0 0 0 0 0 0 0 0 0 0 0 0 0 .4 0\"/><feOffset dx=\"4.0\" dy=\"4.0\" in=\"blurOut2\" result=\"blurOut3\"/><feBlend in=\"SourceGraphic\" in2=\"blurOut3\" mode=\"normal\"/></filter></defs><g><!--MD5=[fbc87193dbaf4d95561dea2c320d4a47]\n",
       "cluster E1--><a href=\"psysml:9d3e1c5c-e45c-4a85-8e75-4ee823ac8fbf\" target=\"_top\" title=\"psysml:9d3e1c5c-e45c-4a85-8e75-4ee823ac8fbf\" xlink:actuate=\"onRequest\" xlink:href=\"psysml:9d3e1c5c-e45c-4a85-8e75-4ee823ac8fbf\" xlink:show=\"new\" xlink:title=\"psysml:9d3e1c5c-e45c-4a85-8e75-4ee823ac8fbf\" xlink:type=\"simple\"><polygon fill=\"#FFFFFF\" filter=\"url(#f1o2jz1ahyot9o)\" points=\"19.75,6,135.75,6,142.75,28.2969,547.75,28.2969,547.75,485,19.75,485,19.75,6\" style=\"stroke: #000000; stroke-width: 1.5;\"/><line style=\"stroke: #000000; stroke-width: 1.5;\" x1=\"19.75\" x2=\"142.75\" y1=\"28.2969\" y2=\"28.2969\"/><text fill=\"#000000\" font-family=\"sans-serif\" font-size=\"14\" font-weight=\"bold\" lengthAdjust=\"spacingAndGlyphs\" textLength=\"110\" x=\"23.75\" y=\"20.9951\">TradeStudyTest</text></a><!--MD5=[b4997ac47864f28c2f74865a473b2911]\n",
       "class E2--><a href=\"psysml:956f1300-60cf-48ef-8161-7a381ae0bb8c\" target=\"_top\" title=\"psysml:956f1300-60cf-48ef-8161-7a381ae0bb8c\" xlink:actuate=\"onRequest\" xlink:href=\"psysml:956f1300-60cf-48ef-8161-7a381ae0bb8c\" xlink:show=\"new\" xlink:title=\"psysml:956f1300-60cf-48ef-8161-7a381ae0bb8c\" xlink:type=\"simple\"><rect fill=\"#FEFECE\" filter=\"url(#f1o2jz1ahyot9o)\" height=\"45.9375\" id=\"E2\" style=\"stroke: #A80036; stroke-width: 1.5;\" width=\"70\" x=\"201.75\" y=\"423\"/><text fill=\"#000000\" font-family=\"sans-serif\" font-size=\"12\" font-style=\"italic\" lengthAdjust=\"spacingAndGlyphs\" textLength=\"68\" x=\"202.75\" y=\"439.1387\">«part  def»</text><text fill=\"#000000\" font-family=\"sans-serif\" font-size=\"12\" lengthAdjust=\"spacingAndGlyphs\" textLength=\"43\" x=\"215.25\" y=\"453.1074\">Engine</text><line style=\"stroke: #A80036; stroke-width: 1.5;\" x1=\"202.75\" x2=\"270.75\" y1=\"460.9375\" y2=\"460.9375\"/></a><!--MD5=[09b614a08d8cba4a07c9adeb5e0fee81]\n",
       "class E3--><a href=\"psysml:5ff7a686-dab8-41cf-8031-b7dccb26607b\" target=\"_top\" title=\"psysml:5ff7a686-dab8-41cf-8031-b7dccb26607b\" xlink:actuate=\"onRequest\" xlink:href=\"psysml:5ff7a686-dab8-41cf-8031-b7dccb26607b\" xlink:show=\"new\" xlink:title=\"psysml:5ff7a686-dab8-41cf-8031-b7dccb26607b\" xlink:type=\"simple\"><rect fill=\"#FEFECE\" filter=\"url(#f1o2jz1ahyot9o)\" height=\"45.9375\" id=\"E3\" rx=\"10\" ry=\"10\" style=\"stroke: #A80036; stroke-width: 1.5;\" width=\"112\" x=\"419.75\" y=\"316\"/><text fill=\"#000000\" font-family=\"sans-serif\" font-size=\"12\" font-style=\"italic\" lengthAdjust=\"spacingAndGlyphs\" textLength=\"40\" x=\"455.75\" y=\"332.1387\">«part»</text><text fill=\"#000000\" font-family=\"sans-serif\" font-size=\"12\" lengthAdjust=\"spacingAndGlyphs\" textLength=\"102\" x=\"422.75\" y=\"346.1074\">engine1: Engine</text><line style=\"stroke: #A80036; stroke-width: 1.5;\" x1=\"420.75\" x2=\"530.75\" y1=\"353.9375\" y2=\"353.9375\"/></a><!--MD5=[ebbe1d658d1005bcc118a6aa81145e00]\n",
       "class E4--><a href=\"psysml:44e88bb9-9b84-4b3f-b104-23d7a257fb04\" target=\"_top\" title=\"psysml:44e88bb9-9b84-4b3f-b104-23d7a257fb04\" xlink:actuate=\"onRequest\" xlink:href=\"psysml:44e88bb9-9b84-4b3f-b104-23d7a257fb04\" xlink:show=\"new\" xlink:title=\"psysml:44e88bb9-9b84-4b3f-b104-23d7a257fb04\" xlink:type=\"simple\"><rect fill=\"#FEFECE\" filter=\"url(#f1o2jz1ahyot9o)\" height=\"45.9375\" id=\"E4\" rx=\"10\" ry=\"10\" style=\"stroke: #A80036; stroke-width: 1.5;\" width=\"112\" x=\"272.75\" y=\"316\"/><text fill=\"#000000\" font-family=\"sans-serif\" font-size=\"12\" font-style=\"italic\" lengthAdjust=\"spacingAndGlyphs\" textLength=\"40\" x=\"308.75\" y=\"332.1387\">«part»</text><text fill=\"#000000\" font-family=\"sans-serif\" font-size=\"12\" lengthAdjust=\"spacingAndGlyphs\" textLength=\"102\" x=\"275.75\" y=\"346.1074\">engine2: Engine</text><line style=\"stroke: #A80036; stroke-width: 1.5;\" x1=\"273.75\" x2=\"383.75\" y1=\"353.9375\" y2=\"353.9375\"/></a><!--MD5=[270fce915f116d4de14055a7c1d9a0f3]\n",
       "class E5--><a href=\"psysml:e12e8838-d64a-4336-9e52-2de97357eae2\" target=\"_top\" title=\"psysml:e12e8838-d64a-4336-9e52-2de97357eae2\" xlink:actuate=\"onRequest\" xlink:href=\"psysml:e12e8838-d64a-4336-9e52-2de97357eae2\" xlink:show=\"new\" xlink:title=\"psysml:e12e8838-d64a-4336-9e52-2de97357eae2\" xlink:type=\"simple\"><rect fill=\"#FEFECE\" filter=\"url(#f1o2jz1ahyot9o)\" height=\"45.9375\" id=\"E5\" rx=\"10\" ry=\"10\" style=\"stroke: #A80036; stroke-width: 1.5;\" width=\"203\" x=\"242.25\" y=\"41\"/><text fill=\"#000000\" font-family=\"sans-serif\" font-size=\"12\" font-style=\"italic\" lengthAdjust=\"spacingAndGlyphs\" textLength=\"64\" x=\"311.75\" y=\"57.1387\">«analysis»</text><text fill=\"#000000\" font-family=\"sans-serif\" font-size=\"12\" lengthAdjust=\"spacingAndGlyphs\" textLength=\"193\" x=\"245.25\" y=\"71.1074\">engineTradeStudy: TradeStudy</text><line style=\"stroke: #A80036; stroke-width: 1.5;\" x1=\"243.25\" x2=\"444.25\" y1=\"78.9375\" y2=\"78.9375\"/></a><!--MD5=[60a26617385b1d2d0262a64233df1f8d]\n",
       "class E6--><a href=\"psysml:9a804e4d-bc47-4ee7-a2d8-d8527e0c1caf\" target=\"_top\" title=\"psysml:9a804e4d-bc47-4ee7-a2d8-d8527e0c1caf\" xlink:actuate=\"onRequest\" xlink:href=\"psysml:9a804e4d-bc47-4ee7-a2d8-d8527e0c1caf\" xlink:show=\"new\" xlink:title=\"psysml:9a804e4d-bc47-4ee7-a2d8-d8527e0c1caf\" xlink:type=\"simple\"><rect fill=\"#FEFECE\" filter=\"url(#f1o2jz1ahyot9o)\" height=\"45.9375\" id=\"E6\" rx=\"10\" ry=\"10\" style=\"stroke: #A80036; stroke-width: 1.5;\" width=\"255\" x=\"75.25\" y=\"164\"/><text fill=\"#000000\" font-family=\"sans-serif\" font-size=\"12\" font-style=\"italic\" lengthAdjust=\"spacingAndGlyphs\" textLength=\"91\" x=\"157.25\" y=\"180.1387\">«requirement»</text><text fill=\"#000000\" font-family=\"sans-serif\" font-size=\"12\" lengthAdjust=\"spacingAndGlyphs\" textLength=\"245\" x=\"78.25\" y=\"194.1074\">tradeStudyObjective: MaximizeObjective</text><line style=\"stroke: #A80036; stroke-width: 1.5;\" x1=\"76.25\" x2=\"329.25\" y1=\"201.9375\" y2=\"201.9375\"/></a><!--MD5=[2156ba9850f5573cc1fc38a6a4b2f02b]\n",
       "class E7--><a href=\"psysml:1fa3686a-6014-4c73-9542-2575e26fd8a7\" target=\"_top\" title=\"psysml:1fa3686a-6014-4c73-9542-2575e26fd8a7\" xlink:actuate=\"onRequest\" xlink:href=\"psysml:1fa3686a-6014-4c73-9542-2575e26fd8a7\" xlink:show=\"new\" xlink:title=\"psysml:1fa3686a-6014-4c73-9542-2575e26fd8a7\" xlink:type=\"simple\"><rect fill=\"#FEFECE\" filter=\"url(#f1o2jz1ahyot9o)\" height=\"45.9375\" id=\"E7\" rx=\"10\" ry=\"10\" style=\"stroke: #A80036; stroke-width: 1.5;\" width=\"129\" x=\"365.25\" y=\"164\"/><text fill=\"#000000\" font-family=\"sans-serif\" font-size=\"12\" font-style=\"italic\" lengthAdjust=\"spacingAndGlyphs\" textLength=\"82\" x=\"388.75\" y=\"180.1387\">«calculation»</text><text fill=\"#000000\" font-family=\"sans-serif\" font-size=\"12\" lengthAdjust=\"spacingAndGlyphs\" textLength=\"119\" x=\"368.25\" y=\"194.1074\">evaluationFunction</text><line style=\"stroke: #A80036; stroke-width: 1.5;\" x1=\"366.25\" x2=\"493.25\" y1=\"201.9375\" y2=\"201.9375\"/></a><!--MD5=[b9389687b975829384b498ac4b7476b2]\n",
       "class E8--><a href=\"psysml:79c1d929-0a70-426e-ae6d-56e5e3e776a6\" target=\"_top\" title=\"psysml:79c1d929-0a70-426e-ae6d-56e5e3e776a6\" xlink:actuate=\"onRequest\" xlink:href=\"psysml:79c1d929-0a70-426e-ae6d-56e5e3e776a6\" xlink:show=\"new\" xlink:title=\"psysml:79c1d929-0a70-426e-ae6d-56e5e3e776a6\" xlink:type=\"simple\"><rect fill=\"#FEFECE\" filter=\"url(#f1o2jz1ahyot9o)\" height=\"45.9375\" id=\"E8\" rx=\"10\" ry=\"10\" style=\"stroke: #A80036; stroke-width: 1.5;\" width=\"128\" x=\"72.75\" y=\"316\"/><text fill=\"#000000\" font-family=\"sans-serif\" font-size=\"12\" font-style=\"italic\" lengthAdjust=\"spacingAndGlyphs\" textLength=\"40\" x=\"116.75\" y=\"332.1387\">«part»</text><text fill=\"#000000\" font-family=\"sans-serif\" font-size=\"12\" lengthAdjust=\"spacingAndGlyphs\" textLength=\"118\" x=\"75.75\" y=\"346.1074\">alternative: Engine</text><line style=\"stroke: #A80036; stroke-width: 1.5;\" x1=\"73.75\" x2=\"199.75\" y1=\"353.9375\" y2=\"353.9375\"/></a><!--MD5=[fd4143e9d270a159db93a4ea2a975926]\n",
       "class E9--><a href=\"psysml:169f456a-e384-47f5-89e9-43fd13dd17eb\" target=\"_top\" title=\"psysml:169f456a-e384-47f5-89e9-43fd13dd17eb\" xlink:actuate=\"onRequest\" xlink:href=\"psysml:169f456a-e384-47f5-89e9-43fd13dd17eb\" xlink:show=\"new\" xlink:title=\"psysml:169f456a-e384-47f5-89e9-43fd13dd17eb\" xlink:type=\"simple\"><rect fill=\"#FEFECE\" filter=\"url(#f1o2jz1ahyot9o)\" height=\"45.9375\" id=\"E9\" rx=\"10\" ry=\"10\" style=\"stroke: #A80036; stroke-width: 1.5;\" width=\"182\" x=\"298.75\" y=\"240\"/><text fill=\"#000000\" font-family=\"sans-serif\" font-size=\"12\" font-style=\"italic\" lengthAdjust=\"spacingAndGlyphs\" textLength=\"40\" x=\"369.75\" y=\"256.1387\">«part»</text><text fill=\"#000000\" font-family=\"sans-serif\" font-size=\"12\" lengthAdjust=\"spacingAndGlyphs\" textLength=\"172\" x=\"301.75\" y=\"270.1074\">selectedAlternative: Engine</text><line style=\"stroke: #A80036; stroke-width: 1.5;\" x1=\"299.75\" x2=\"479.75\" y1=\"277.9375\" y2=\"277.9375\"/></a><!--MD5=[05d275557350bfb9b23a4ef7222b4c39]\n",
       "link E3 to E2--><a href=\"psysml:9be21745-fec5-4980-9af6-b796782d7969\" target=\"_top\" title=\"psysml:9be21745-fec5-4980-9af6-b796782d7969\" xlink:actuate=\"onRequest\" xlink:href=\"psysml:9be21745-fec5-4980-9af6-b796782d7969\" xlink:show=\"new\" xlink:title=\"psysml:9be21745-fec5-4980-9af6-b796782d7969\" xlink:type=\"simple\"><path d=\"M425.65,362.01 C386.12,379.38 331.1,403.55 290.63,421.33 \" fill=\"none\" id=\"E3-&gt;E2\" style=\"stroke: #A80036; stroke-width: 1.0;\"/><polygon fill=\"#FFFFFF\" points=\"272.06,429.49,286.6417,415.4411,292.271,428.2594,272.06,429.49\" style=\"stroke: #A80036; stroke-width: 1.0;\"/><ellipse cx=\"292.6648\" cy=\"414.9803\" fill=\"#A80036\" rx=\"2\" ry=\"2\" style=\"stroke: #A80036; stroke-width: 1.0;\"/><ellipse cx=\"296.6858\" cy=\"424.1363\" fill=\"#A80036\" rx=\"2\" ry=\"2\" style=\"stroke: #A80036; stroke-width: 1.0;\"/></a><!--MD5=[185131fc0dcab0a4505a2ebe144e961b]\n",
       "link E4 to E2--><a href=\"psysml:1ad537aa-bda6-4221-a392-6db0b9fa994b\" target=\"_top\" title=\"psysml:1ad537aa-bda6-4221-a392-6db0b9fa994b\" xlink:actuate=\"onRequest\" xlink:href=\"psysml:1ad537aa-bda6-4221-a392-6db0b9fa994b\" xlink:show=\"new\" xlink:title=\"psysml:1ad537aa-bda6-4221-a392-6db0b9fa994b\" xlink:type=\"simple\"><path d=\"M309.46,362.01 C298.01,375.08 283.18,392.01 269.89,407.17 \" fill=\"none\" id=\"E4-&gt;E2\" style=\"stroke: #A80036; stroke-width: 1.0;\"/><polygon fill=\"#FFFFFF\" points=\"256.33,422.66,263.5901,403.7578,274.1181,412.9861,256.33,422.66\" style=\"stroke: #A80036; stroke-width: 1.0;\"/><ellipse cx=\"268.8513\" cy=\"400.7898\" fill=\"#A80036\" rx=\"2\" ry=\"2\" style=\"stroke: #A80036; stroke-width: 1.0;\"/><ellipse cx=\"276.3713\" cy=\"407.3814\" fill=\"#A80036\" rx=\"2\" ry=\"2\" style=\"stroke: #A80036; stroke-width: 1.0;\"/></a><!--MD5=[15ebcb19ae302d9b601edb458606d402]\n",
       "link E5 to E2--><a href=\"psysml:ef23f2a8-b555-4000-b8d1-a9fc8ea83129\" target=\"_top\" title=\"psysml:ef23f2a8-b555-4000-b8d1-a9fc8ea83129\" xlink:actuate=\"onRequest\" xlink:href=\"psysml:ef23f2a8-b555-4000-b8d1-a9fc8ea83129\" xlink:show=\"new\" xlink:title=\"psysml:ef23f2a8-b555-4000-b8d1-a9fc8ea83129\" xlink:type=\"simple\"><path d=\"M242.19,71.71 C178.15,81.78 99.85,106.1 57.75,164 C6,235.18 7.15,287.97 54.75,362 C85.89,410.42 153.01,430.93 196.46,439.38 \" fill=\"none\" id=\"E5-&gt;E2\" style=\"stroke: #A80036; stroke-width: 1.0; stroke-dasharray: 7.0,7.0;\"/><polygon fill=\"#A80036\" points=\"201.63,440.35,193.5135,434.7713,196.7143,439.4355,192.0502,442.6363,201.63,440.35\" style=\"stroke: #A80036; stroke-width: 1.0;\"/><text fill=\"#000000\" font-family=\"sans-serif\" font-size=\"13\" lengthAdjust=\"spacingAndGlyphs\" textLength=\"62\" x=\"22.75\" y=\"267.5669\">«subject»</text></a><!--MD5=[9120cf2e5df3bff93db8f754bbbc09b4]\n",
       "link E5 to E6--><a href=\"psysml:82bd6807-74bc-4e7b-a156-dc2ad55e2000\" target=\"_top\" title=\"psysml:82bd6807-74bc-4e7b-a156-dc2ad55e2000\" xlink:actuate=\"onRequest\" xlink:href=\"psysml:82bd6807-74bc-4e7b-a156-dc2ad55e2000\" xlink:show=\"new\" xlink:title=\"psysml:82bd6807-74bc-4e7b-a156-dc2ad55e2000\" xlink:type=\"simple\"><path d=\"M317.89,87.19 C294.44,107.32 259.79,137.06 234.63,158.64 \" fill=\"none\" id=\"E5-&gt;E6\" style=\"stroke: #A80036; stroke-width: 1.0;\"/><polygon fill=\"#A80036\" points=\"228.45,163.95,236.4776,161.0246,232.5746,156.4675,228.45,163.95\" style=\"stroke: #A80036; stroke-width: 1.0;\"/><text fill=\"#000000\" font-family=\"sans-serif\" font-size=\"13\" lengthAdjust=\"spacingAndGlyphs\" textLength=\"73\" x=\"281.75\" y=\"130.0669\">«objective»</text></a><!--MD5=[452b418e7f8a40397a49b8c0a78acc5b]\n",
       "reverse link E5 to E7--><a href=\"psysml:3495a436-635c-4195-be5e-85a5d126f0e1\" target=\"_top\" title=\"psysml:3495a436-635c-4195-be5e-85a5d126f0e1\" xlink:actuate=\"onRequest\" xlink:href=\"psysml:3495a436-635c-4195-be5e-85a5d126f0e1\" xlink:show=\"new\" xlink:title=\"psysml:3495a436-635c-4195-be5e-85a5d126f0e1\" xlink:type=\"simple\"><path d=\"M367.12,97.88 C382.03,118.86 400.95,145.48 414.08,163.95 \" fill=\"none\" id=\"E5&lt;-E7\" style=\"stroke: #A80036; stroke-width: 1.0;\"/><polygon fill=\"#A80036\" points=\"359.52,87.19,359.7442,94.3976,366.4836,96.9628,366.2594,89.7552,359.52,87.19\" style=\"stroke: #A80036; stroke-width: 1.0;\"/></a><!--MD5=[dc164f5e8a733ab456ef1add180e9e34]\n",
       "reverse link E7 to E8--><a href=\"psysml:e1d2632c-68a4-476d-b3ed-d8b6d2aaac51\" target=\"_top\" title=\"psysml:e1d2632c-68a4-476d-b3ed-d8b6d2aaac51\" xlink:actuate=\"onRequest\" xlink:href=\"psysml:e1d2632c-68a4-476d-b3ed-d8b6d2aaac51\" xlink:show=\"new\" xlink:title=\"psysml:e1d2632c-68a4-476d-b3ed-d8b6d2aaac51\" xlink:type=\"simple\"><path d=\"M352.57,210.93 C329.29,218.95 304.02,228.8 281.75,240 C238.59,261.71 193.11,294.26 164.84,315.8 \" fill=\"none\" id=\"E7&lt;-E8\" style=\"stroke: #A80036; stroke-width: 1.0;\"/><polygon fill=\"#FFFFFF\" points=\"364.89,206.79,357.9284,204.9096,353.5151,210.6124,360.4767,212.4928,364.89,206.79\" style=\"stroke: #A80036; stroke-width: 1.0;\"/><text fill=\"#000000\" font-family=\"sans-serif\" font-size=\"13\" lengthAdjust=\"spacingAndGlyphs\" textLength=\"8\" x=\"163.0131\" y=\"305.025\">1</text></a><!--MD5=[f1f3f9f2fc535e6147756cb86a7f2e32]\n",
       "link E8 to E2--><a href=\"psysml:a8ae8a0d-ad52-4d9e-986d-0c741d3467c2\" target=\"_top\" title=\"psysml:a8ae8a0d-ad52-4d9e-986d-0c741d3467c2\" xlink:actuate=\"onRequest\" xlink:href=\"psysml:a8ae8a0d-ad52-4d9e-986d-0c741d3467c2\" xlink:show=\"new\" xlink:title=\"psysml:a8ae8a0d-ad52-4d9e-986d-0c741d3467c2\" xlink:type=\"simple\"><path d=\"M157.71,362.01 C170.43,375.36 186.98,392.74 201.64,408.14 \" fill=\"none\" id=\"E8-&gt;E2\" style=\"stroke: #A80036; stroke-width: 1.0;\"/><polygon fill=\"#FFFFFF\" points=\"215.47,422.66,197.3009,413.7223,207.4424,404.0708,215.47,422.66\" style=\"stroke: #A80036; stroke-width: 1.0;\"/><ellipse cx=\"194.8202\" cy=\"408.2144\" fill=\"#A80036\" rx=\"2\" ry=\"2\" style=\"stroke: #A80036; stroke-width: 1.0;\"/><ellipse cx=\"202.0641\" cy=\"401.3206\" fill=\"#A80036\" rx=\"2\" ry=\"2\" style=\"stroke: #A80036; stroke-width: 1.0;\"/></a><!--MD5=[9ae28de373ca99bb8a1b38d63370ca7e]\n",
       "reverse link E5 to E9--><a href=\"psysml:1023028c-00c5-4dde-9329-e4b02befe1ab\" target=\"_top\" title=\"psysml:1023028c-00c5-4dde-9329-e4b02befe1ab\" xlink:actuate=\"onRequest\" xlink:href=\"psysml:1023028c-00c5-4dde-9329-e4b02befe1ab\" xlink:show=\"new\" xlink:title=\"psysml:1023028c-00c5-4dde-9329-e4b02befe1ab\" xlink:type=\"simple\"><path d=\"M425.37,92.39 C458.3,107.92 492.9,131.01 511.75,164 C521.89,181.75 523.02,192.94 511.75,210 C503.25,222.87 490.84,232.57 477.15,239.87 \" fill=\"none\" id=\"E5&lt;-E9\" style=\"stroke: #A80036; stroke-width: 1.0;\"/><polygon fill=\"#FFFFFF\" points=\"413.35,87.01,417.1893,93.1141,424.3005,91.9179,420.4612,85.8138,413.35,87.01\" style=\"stroke: #A80036; stroke-width: 1.0;\"/><text fill=\"#000000\" font-family=\"sans-serif\" font-size=\"13\" lengthAdjust=\"spacingAndGlyphs\" textLength=\"8\" x=\"488.4363\" y=\"229.8763\">1</text></a><!--MD5=[5c3bb36fe832a92c7f0e1807dd65209d]\n",
       "link E9 to E2--><a href=\"psysml:d6cd1bf0-a8ac-42a9-91c6-4adc5d4642e7\" target=\"_top\" title=\"psysml:d6cd1bf0-a8ac-42a9-91c6-4adc5d4642e7\" xlink:actuate=\"onRequest\" xlink:href=\"psysml:d6cd1bf0-a8ac-42a9-91c6-4adc5d4642e7\" xlink:show=\"new\" xlink:title=\"psysml:d6cd1bf0-a8ac-42a9-91c6-4adc5d4642e7\" xlink:type=\"simple\"><path d=\"M298.61,284.36 C282.24,291.84 266.88,302.05 255.75,316 C236.48,340.16 232.36,375.23 232.71,402.71 \" fill=\"none\" id=\"E9-&gt;E2\" style=\"stroke: #A80036; stroke-width: 1.0;\"/><polygon fill=\"#FFFFFF\" points=\"233.74,422.77,225.772,404.1552,239.7535,403.4351,233.74,422.77\" style=\"stroke: #A80036; stroke-width: 1.0;\"/><ellipse cx=\"227.4762\" cy=\"398.3599\" fill=\"#A80036\" rx=\"2\" ry=\"2\" style=\"stroke: #A80036; stroke-width: 1.0;\"/><ellipse cx=\"237.463\" cy=\"397.8455\" fill=\"#A80036\" rx=\"2\" ry=\"2\" style=\"stroke: #A80036; stroke-width: 1.0;\"/></a><!--MD5=[09f966342cecb9c34b456a41a5feb68c]\n",
       "@startuml\r\n",
       "skinparam wrapWidth 300\r\n",
       "hide circle\r\n",
       "\r\n",
       "package \"TradeStudyTest\" as E1  [[psysml:9d3e1c5c-e45c-4a85-8e75-4ee823ac8fbf ]]  {\r\n",
       "comp def \"Engine\" as E2  <<(T,blue) part  def>> [[psysml:956f1300-60cf-48ef-8161-7a381ae0bb8c ]] {\r\n",
       "}\r\n",
       "comp usage \"engine1: Engine \" as E3  <<(T,blue) part>> [[psysml:5ff7a686-dab8-41cf-8031-b7dccb26607b ]] {\r\n",
       "}\r\n",
       "comp usage \"engine2: Engine \" as E4  <<(T,blue) part>> [[psysml:44e88bb9-9b84-4b3f-b104-23d7a257fb04 ]] {\r\n",
       "}\r\n",
       "comp usage \"engineTradeStudy: TradeStudy \" as E5 << analysis>> [[psysml:e12e8838-d64a-4336-9e52-2de97357eae2 ]] {\r\n",
       "}\r\n",
       "comp usage \"tradeStudyObjective: MaximizeObjective \" as E6  <<(T,blue) requirement>> [[psysml:9a804e4d-bc47-4ee7-a2d8-d8527e0c1caf ]] {\r\n",
       "}\r\n",
       "comp usage \"evaluationFunction \" as E7  <<(T,blue) calculation>> [[psysml:1fa3686a-6014-4c73-9542-2575e26fd8a7 ]] {\r\n",
       "}\r\n",
       "comp usage \"alternative: Engine \" as E8  <<(T,blue) part>> [[psysml:79c1d929-0a70-426e-ae6d-56e5e3e776a6 ]] {\r\n",
       "}\r\n",
       "comp usage \"selectedAlternative: Engine \" as E9  <<(T,blue) part>> [[psysml:169f456a-e384-47f5-89e9-43fd13dd17eb ]] {\r\n",
       "}\r\n",
       "}\r\n",
       "E3 - -:|> E2 [[psysml:9be21745-fec5-4980-9af6-b796782d7969 ]] \r\n",
       "E4 - -:|> E2 [[psysml:1ad537aa-bda6-4221-a392-6db0b9fa994b ]] \r\n",
       "E5 ..> E2 [[psysml:ef23f2a8-b555-4000-b8d1-a9fc8ea83129 ]] : <<subject>>\r\n",
       "E5 - ->> E6 [[psysml:82bd6807-74bc-4e7b-a156-dc2ad55e2000 ]] : <<objective>>\r\n",
       "E5 *- - E7 [[psysml:3495a436-635c-4195-be5e-85a5d126f0e1 ]] \r\n",
       "E7 o- - \"1\"E8 [[psysml:e1d2632c-68a4-476d-b3ed-d8b6d2aaac51 ]] \r\n",
       "E8 - -:|> E2 [[psysml:a8ae8a0d-ad52-4d9e-986d-0c741d3467c2 ]] \r\n",
       "E5 o- - \"1\"E9 [[psysml:1023028c-00c5-4dde-9329-e4b02befe1ab ]] \r\n",
       "E9 - -:|> E2 [[psysml:d6cd1bf0-a8ac-42a9-91c6-4adc5d4642e7 ]] \r\n",
       "@enduml\r\n",
       "\n",
       "PlantUML version 1.2020.13(Sat Jun 13 12:26:38 UTC 2020)\n",
       "(EPL source distribution)\n",
       "Java Runtime: OpenJDK Runtime Environment\n",
       "JVM: OpenJDK 64-Bit Server VM\n",
       "Default Encoding: UTF-8\n",
       "Language: en\n",
       "Country: null\n",
       "--></g></svg>"
      ]
     },
     "execution_count": 24,
     "metadata": {},
     "output_type": "execute_result"
    }
   ],
   "source": [
    "%viz --style=\"STDCOLOR\" --view=\"Tree\" \"TradeStudyTest\""
   ]
  },
  {
   "cell_type": "code",
   "execution_count": 25,
   "id": "58c3f00a",
   "metadata": {
    "execution": {
     "iopub.execute_input": "2022-02-18T10:50:36.518317Z",
     "iopub.status.busy": "2022-02-18T10:50:36.517901Z",
     "iopub.status.idle": "2022-02-18T10:50:36.522821Z",
     "shell.execute_reply": "2022-02-18T10:50:36.522474Z"
    }
   },
   "outputs": [
    {
     "data": {
      "image/svg+xml": [
       "<?xml version=\"1.0\" encoding=\"UTF-8\" standalone=\"no\"?><svg xmlns=\"http://www.w3.org/2000/svg\" xmlns:xlink=\"http://www.w3.org/1999/xlink\" contentScriptType=\"application/ecmascript\" contentStyleType=\"text/css\" height=\"12px\" preserveAspectRatio=\"none\" style=\"width:12px;height:12px;\" version=\"1.1\" viewBox=\"0 0 12 12\" width=\"12px\" zoomAndPan=\"magnify\"><defs/><g><!--MD5=[aeeef50f102b80d730deb6443d14f702]\n",
       "@startuml\r\n",
       "skinparam wrapWidth 300\r\n",
       "hide circle\r\n",
       "\r\n",
       "@enduml\r\n",
       "\n",
       "PlantUML version 1.2020.13(Sat Jun 13 12:26:38 UTC 2020)\n",
       "(EPL source distribution)\n",
       "Java Runtime: OpenJDK Runtime Environment\n",
       "JVM: OpenJDK 64-Bit Server VM\n",
       "Default Encoding: UTF-8\n",
       "Language: en\n",
       "Country: null\n",
       "--></g></svg>"
      ]
     },
     "execution_count": 25,
     "metadata": {},
     "output_type": "execute_result"
    }
   ],
   "source": [
    "%viz --style=\"STDCOLOR\" --view=\"State\" \"TradeStudyTest\""
   ]
  },
  {
   "cell_type": "code",
   "execution_count": 26,
   "id": "9d03c6eb",
   "metadata": {
    "execution": {
     "iopub.execute_input": "2022-02-18T10:50:36.572692Z",
     "iopub.status.busy": "2022-02-18T10:50:36.572284Z",
     "iopub.status.idle": "2022-02-18T10:50:36.614175Z",
     "shell.execute_reply": "2022-02-18T10:50:36.613813Z"
    }
   },
   "outputs": [
    {
     "data": {
      "image/svg+xml": [
       "<?xml version=\"1.0\" encoding=\"UTF-8\" standalone=\"no\"?><svg xmlns=\"http://www.w3.org/2000/svg\" xmlns:xlink=\"http://www.w3.org/1999/xlink\" contentScriptType=\"application/ecmascript\" contentStyleType=\"text/css\" height=\"418px\" preserveAspectRatio=\"none\" style=\"width:574px;height:418px;\" version=\"1.1\" viewBox=\"0 0 574 418\" width=\"574px\" zoomAndPan=\"magnify\"><defs><filter height=\"300%\" id=\"f623sao1csviw\" width=\"300%\" x=\"-1\" y=\"-1\"><feGaussianBlur result=\"blurOut\" stdDeviation=\"2.0\"/><feColorMatrix in=\"blurOut\" result=\"blurOut2\" type=\"matrix\" values=\"0 0 0 0 0 0 0 0 0 0 0 0 0 0 0 0 0 0 .4 0\"/><feOffset dx=\"4.0\" dy=\"4.0\" in=\"blurOut2\" result=\"blurOut3\"/><feBlend in=\"SourceGraphic\" in2=\"blurOut3\" mode=\"normal\"/></filter></defs><g><!--MD5=[fbc87193dbaf4d95561dea2c320d4a47]\n",
       "cluster E1--><a href=\"psysml:9d3e1c5c-e45c-4a85-8e75-4ee823ac8fbf\" target=\"_top\" title=\"psysml:9d3e1c5c-e45c-4a85-8e75-4ee823ac8fbf\" xlink:actuate=\"onRequest\" xlink:href=\"psysml:9d3e1c5c-e45c-4a85-8e75-4ee823ac8fbf\" xlink:show=\"new\" xlink:title=\"psysml:9d3e1c5c-e45c-4a85-8e75-4ee823ac8fbf\" xlink:type=\"simple\"><polygon fill=\"#FFFFFF\" filter=\"url(#f623sao1csviw)\" points=\"16,6,132,6,139,28.2969,552,28.2969,552,406,16,406,16,6\" style=\"stroke: #000000; stroke-width: 1.5;\"/><line style=\"stroke: #000000; stroke-width: 1.5;\" x1=\"16\" x2=\"139\" y1=\"28.2969\" y2=\"28.2969\"/><text fill=\"#000000\" font-family=\"sans-serif\" font-size=\"14\" font-weight=\"bold\" lengthAdjust=\"spacingAndGlyphs\" textLength=\"110\" x=\"20\" y=\"20.9951\">TradeStudyTest</text></a><!--MD5=[de5ec2e2e8f62f467e546659f5068c88]\n",
       "cluster E5--><a href=\"psysml:e12e8838-d64a-4336-9e52-2de97357eae2\" target=\"_top\" title=\"psysml:e12e8838-d64a-4336-9e52-2de97357eae2\" xlink:actuate=\"onRequest\" xlink:href=\"psysml:e12e8838-d64a-4336-9e52-2de97357eae2\" xlink:show=\"new\" xlink:title=\"psysml:e12e8838-d64a-4336-9e52-2de97357eae2\" xlink:type=\"simple\"><rect fill=\"#FFFFFF\" filter=\"url(#f623sao1csviw)\" height=\"129\" id=\"E5\" rx=\"10\" ry=\"10\" style=\"stroke: #A80036; stroke-width: 1.5;\" width=\"199\" x=\"321\" y=\"57\"/><rect fill=\"#FEFECE\" height=\"37.9375\" rx=\"10\" ry=\"10\" style=\"stroke: #FEFECE; stroke-width: 1.5;\" width=\"199\" x=\"321\" y=\"57\"/><rect fill=\"#FEFECE\" height=\"10\" style=\"stroke: #FEFECE; stroke-width: 1.5;\" width=\"199\" x=\"321\" y=\"84.9375\"/><rect fill=\"none\" height=\"129\" id=\"E5\" rx=\"10\" ry=\"10\" style=\"stroke: #A80036; stroke-width: 1.5;\" width=\"199\" x=\"321\" y=\"57\"/><text fill=\"#000000\" font-family=\"sans-serif\" font-size=\"12\" font-style=\"italic\" lengthAdjust=\"spacingAndGlyphs\" textLength=\"64\" x=\"388.5\" y=\"73.1387\">«analysis»</text><text fill=\"#000000\" font-family=\"sans-serif\" font-size=\"12\" lengthAdjust=\"spacingAndGlyphs\" textLength=\"114\" x=\"363.5\" y=\"87.1074\">engineTradeStudy</text><line style=\"stroke: #A80036; stroke-width: 1.0;\" x1=\"321\" x2=\"520\" y1=\"94.9375\" y2=\"94.9375\"/></a><!--MD5=[2156ba9850f5573cc1fc38a6a4b2f02b]\n",
       "class E7--><a href=\"psysml:1fa3686a-6014-4c73-9542-2575e26fd8a7\" target=\"_top\" title=\"psysml:1fa3686a-6014-4c73-9542-2575e26fd8a7\" xlink:actuate=\"onRequest\" xlink:href=\"psysml:1fa3686a-6014-4c73-9542-2575e26fd8a7\" xlink:show=\"new\" xlink:title=\"psysml:1fa3686a-6014-4c73-9542-2575e26fd8a7\" xlink:type=\"simple\"><rect fill=\"#FEFECE\" filter=\"url(#f623sao1csviw)\" height=\"45.9375\" id=\"E7\" rx=\"10\" ry=\"10\" style=\"stroke: #A80036; stroke-width: 1.5;\" width=\"129\" x=\"73.5\" y=\"219\"/><text fill=\"#000000\" font-family=\"sans-serif\" font-size=\"12\" font-style=\"italic\" lengthAdjust=\"spacingAndGlyphs\" textLength=\"82\" x=\"97\" y=\"235.1387\">«calculation»</text><text fill=\"#000000\" font-family=\"sans-serif\" font-size=\"12\" lengthAdjust=\"spacingAndGlyphs\" textLength=\"119\" x=\"76.5\" y=\"249.1074\">evaluationFunction</text><line style=\"stroke: #A80036; stroke-width: 1.5;\" x1=\"74.5\" x2=\"201.5\" y1=\"256.9375\" y2=\"256.9375\"/></a><!--MD5=[b9389687b975829384b498ac4b7476b2]\n",
       "class E8--><a href=\"psysml:79c1d929-0a70-426e-ae6d-56e5e3e776a6\" target=\"_top\" title=\"psysml:79c1d929-0a70-426e-ae6d-56e5e3e776a6\" xlink:actuate=\"onRequest\" xlink:href=\"psysml:79c1d929-0a70-426e-ae6d-56e5e3e776a6\" xlink:show=\"new\" xlink:title=\"psysml:79c1d929-0a70-426e-ae6d-56e5e3e776a6\" xlink:type=\"simple\"><rect fill=\"#FEFECE\" filter=\"url(#f623sao1csviw)\" height=\"31.9688\" id=\"E8\" rx=\"10\" ry=\"10\" style=\"stroke: #A80036; stroke-width: 1.5;\" width=\"128\" x=\"120\" y=\"298\"/><text fill=\"#000000\" font-family=\"sans-serif\" font-size=\"12\" lengthAdjust=\"spacingAndGlyphs\" textLength=\"118\" x=\"123\" y=\"314.1387\">alternative: Engine</text><line style=\"stroke: #A80036; stroke-width: 1.5;\" x1=\"121\" x2=\"247\" y1=\"321.9688\" y2=\"321.9688\"/></a><!--MD5=[fd4143e9d270a159db93a4ea2a975926]\n",
       "class E9--><a href=\"psysml:169f456a-e384-47f5-89e9-43fd13dd17eb\" target=\"_top\" title=\"psysml:169f456a-e384-47f5-89e9-43fd13dd17eb\" xlink:actuate=\"onRequest\" xlink:href=\"psysml:169f456a-e384-47f5-89e9-43fd13dd17eb\" xlink:show=\"new\" xlink:title=\"psysml:169f456a-e384-47f5-89e9-43fd13dd17eb\" xlink:type=\"simple\"><rect fill=\"#FEFECE\" filter=\"url(#f623sao1csviw)\" height=\"31.9688\" id=\"E9\" rx=\"10\" ry=\"10\" style=\"stroke: #A80036; stroke-width: 1.5;\" width=\"182\" x=\"238\" y=\"226\"/><text fill=\"#000000\" font-family=\"sans-serif\" font-size=\"12\" lengthAdjust=\"spacingAndGlyphs\" textLength=\"172\" x=\"241\" y=\"242.1387\">selectedAlternative: Engine</text><line style=\"stroke: #A80036; stroke-width: 1.5;\" x1=\"239\" x2=\"419\" y1=\"249.9688\" y2=\"249.9688\"/></a><g id=\"E1.E2\"><a href=\"psysml:956f1300-60cf-48ef-8161-7a381ae0bb8c\" target=\"_top\" title=\"psysml:956f1300-60cf-48ef-8161-7a381ae0bb8c\" xlink:actuate=\"onRequest\" xlink:href=\"psysml:956f1300-60cf-48ef-8161-7a381ae0bb8c\" xlink:show=\"new\" xlink:title=\"psysml:956f1300-60cf-48ef-8161-7a381ae0bb8c\" xlink:type=\"simple\"><rect fill=\"#FEFECE\" filter=\"url(#f623sao1csviw)\" height=\"42.9375\" id=\"E2\" style=\"stroke: #A80036; stroke-width: 1.5;\" width=\"75\" x=\"291.5\" y=\"347\"/><text fill=\"#000000\" font-family=\"sans-serif\" font-size=\"12\" font-style=\"italic\" lengthAdjust=\"spacingAndGlyphs\" textLength=\"68\" x=\"295\" y=\"363.1387\">«part  def»</text><text fill=\"#000000\" font-family=\"sans-serif\" font-size=\"12\" lengthAdjust=\"spacingAndGlyphs\" textLength=\"43\" x=\"307.5\" y=\"377.1074\">Engine</text></a></g><g id=\"E1.E3\"><a href=\"psysml:5ff7a686-dab8-41cf-8031-b7dccb26607b\" target=\"_top\" title=\"psysml:5ff7a686-dab8-41cf-8031-b7dccb26607b\" xlink:actuate=\"onRequest\" xlink:href=\"psysml:5ff7a686-dab8-41cf-8031-b7dccb26607b\" xlink:show=\"new\" xlink:title=\"psysml:5ff7a686-dab8-41cf-8031-b7dccb26607b\" xlink:type=\"simple\"><rect fill=\"#FEFECE\" filter=\"url(#f623sao1csviw)\" height=\"40\" id=\"E3\" rx=\"10\" ry=\"10\" style=\"stroke: #A80036; stroke-width: 1.5;\" width=\"113\" x=\"180.5\" y=\"119\"/><text fill=\"#000000\" font-family=\"sans-serif\" font-size=\"12\" lengthAdjust=\"spacingAndGlyphs\" textLength=\"102\" x=\"186\" y=\"135.1387\">engine1: Engine</text></a></g><g id=\"E1.E4\"><a href=\"psysml:44e88bb9-9b84-4b3f-b104-23d7a257fb04\" target=\"_top\" title=\"psysml:44e88bb9-9b84-4b3f-b104-23d7a257fb04\" xlink:actuate=\"onRequest\" xlink:href=\"psysml:44e88bb9-9b84-4b3f-b104-23d7a257fb04\" xlink:show=\"new\" xlink:title=\"psysml:44e88bb9-9b84-4b3f-b104-23d7a257fb04\" xlink:type=\"simple\"><rect fill=\"#FEFECE\" filter=\"url(#f623sao1csviw)\" height=\"40\" id=\"E4\" rx=\"10\" ry=\"10\" style=\"stroke: #A80036; stroke-width: 1.5;\" width=\"113\" x=\"32.5\" y=\"119\"/><text fill=\"#000000\" font-family=\"sans-serif\" font-size=\"12\" lengthAdjust=\"spacingAndGlyphs\" textLength=\"102\" x=\"38\" y=\"135.1387\">engine2: Engine</text></a></g><!--MD5=[60a26617385b1d2d0262a64233df1f8d]\n",
       "class E6--><a href=\"psysml:9a804e4d-bc47-4ee7-a2d8-d8527e0c1caf\" target=\"_top\" title=\"psysml:9a804e4d-bc47-4ee7-a2d8-d8527e0c1caf\" xlink:actuate=\"onRequest\" xlink:href=\"psysml:9a804e4d-bc47-4ee7-a2d8-d8527e0c1caf\" xlink:show=\"new\" xlink:title=\"psysml:9a804e4d-bc47-4ee7-a2d8-d8527e0c1caf\" xlink:type=\"simple\"><rect fill=\"#FEFECE\" filter=\"url(#f623sao1csviw)\" height=\"45.9375\" id=\"E6\" rx=\"10\" ry=\"10\" style=\"stroke: #A80036; stroke-width: 1.5;\" width=\"132\" x=\"364\" y=\"116\"/><text fill=\"#000000\" font-family=\"sans-serif\" font-size=\"12\" font-style=\"italic\" lengthAdjust=\"spacingAndGlyphs\" textLength=\"70\" x=\"395\" y=\"132.1387\">«objective»</text><text fill=\"#000000\" font-family=\"sans-serif\" font-size=\"12\" lengthAdjust=\"spacingAndGlyphs\" textLength=\"126\" x=\"367\" y=\"146.1074\">tradeStudyObjective</text><line style=\"stroke: #A80036; stroke-width: 1.5;\" x1=\"365\" x2=\"495\" y1=\"153.9375\" y2=\"153.9375\"/></a><!--MD5=[15ebcb19ae302d9b601edb458606d402]\n",
       "link E5 to E2--><a href=\"psysml:ef23f2a8-b555-4000-b8d1-a9fc8ea83129\" target=\"_top\" title=\"psysml:ef23f2a8-b555-4000-b8d1-a9fc8ea83129\" xlink:actuate=\"onRequest\" xlink:href=\"psysml:ef23f2a8-b555-4000-b8d1-a9fc8ea83129\" xlink:show=\"new\" xlink:title=\"psysml:ef23f2a8-b555-4000-b8d1-a9fc8ea83129\" xlink:type=\"simple\"><path d=\"M336.7687,186.0407 C336.9497,186.4418 337.1349,186.8409 337.3242,187.2379 C337.703,188.0319 338.0985,188.8172 338.5115,189.5919 C339.3377,191.1413 340.234,192.6486 341.2064,194.0989 C343.1511,196.9995 345.4,199.6725 348,202 C378.33,229.15 412.02,187.66 438,219 C473.29,261.58 411.17,314.39 367.14,344.19 \" fill=\"none\" id=\"E5-&gt;E2\" style=\"stroke: #A80036; stroke-width: 1.0; stroke-dasharray: 7.0,7.0;\"/><polygon fill=\"#A80036\" points=\"362.94,347,372.6473,345.3359,367.1003,344.2265,368.2097,338.6795,362.94,347\" style=\"stroke: #A80036; stroke-width: 1.0;\"/><text fill=\"#000000\" font-family=\"sans-serif\" font-size=\"13\" lengthAdjust=\"spacingAndGlyphs\" textLength=\"62\" x=\"441\" y=\"286.0669\">«subject»</text></a><!--MD5=[452b418e7f8a40397a49b8c0a78acc5b]\n",
       "reverse link E5 to E7--><a href=\"psysml:3495a436-635c-4195-be5e-85a5d126f0e1\" target=\"_top\" title=\"psysml:3495a436-635c-4195-be5e-85a5d126f0e1\" xlink:actuate=\"onRequest\" xlink:href=\"psysml:3495a436-635c-4195-be5e-85a5d126f0e1\" xlink:show=\"new\" xlink:title=\"psysml:3495a436-635c-4195-be5e-85a5d126f0e1\" xlink:type=\"simple\"><path d=\"M332.9347,186.1446 C332.8869,186.3466 332.8378,186.5483 332.7874,186.7494 C332.5857,187.5541 332.3629,188.3516 332.1178,189.1403 C331.6274,190.7176 331.0475,192.2593 330.3674,193.7515 C329.0072,196.7359 327.2463,199.5225 325,202 C309.27,219.35 243.9,214.11 221,219 C215.02,220.28 208.83,221.71 202.65,223.22 \" fill=\"none\" id=\"E5&lt;-E7\" style=\"stroke: #A80036; stroke-width: 1.0;\"/><polygon fill=\"#A80036\" points=\"332.9347,186.1446,327.6606,191.0624,330.1716,197.8222,335.4457,192.9044,332.9347,186.1446\" style=\"stroke: #A80036; stroke-width: 1.0;\"/></a><!--MD5=[dc164f5e8a733ab456ef1add180e9e34]\n",
       "reverse link E7 to E8--><a href=\"psysml:e1d2632c-68a4-476d-b3ed-d8b6d2aaac51\" target=\"_top\" title=\"psysml:e1d2632c-68a4-476d-b3ed-d8b6d2aaac51\" xlink:actuate=\"onRequest\" xlink:href=\"psysml:e1d2632c-68a4-476d-b3ed-d8b6d2aaac51\" xlink:show=\"new\" xlink:title=\"psysml:e1d2632c-68a4-476d-b3ed-d8b6d2aaac51\" xlink:type=\"simple\"><path d=\"M159.85,276.24 C164.76,283.72 169.75,291.31 173.91,297.64 \" fill=\"none\" id=\"E7&lt;-E8\" style=\"stroke: #A80036; stroke-width: 1.0;\"/><polygon fill=\"#FFFFFF\" points=\"152.55,265.15,152.5017,272.3609,159.1393,275.179,159.1877,267.968,152.55,265.15\" style=\"stroke: #A80036; stroke-width: 1.0;\"/><text fill=\"#000000\" font-family=\"sans-serif\" font-size=\"13\" lengthAdjust=\"spacingAndGlyphs\" textLength=\"8\" x=\"161.2427\" y=\"286.8304\">1</text></a><!--MD5=[f1f3f9f2fc535e6147756cb86a7f2e32]\n",
       "link E8 to E2--><a href=\"psysml:a8ae8a0d-ad52-4d9e-986d-0c741d3467c2\" target=\"_top\" title=\"psysml:a8ae8a0d-ad52-4d9e-986d-0c741d3467c2\" xlink:actuate=\"onRequest\" xlink:href=\"psysml:a8ae8a0d-ad52-4d9e-986d-0c741d3467c2\" xlink:show=\"new\" xlink:title=\"psysml:a8ae8a0d-ad52-4d9e-986d-0c741d3467c2\" xlink:type=\"simple\"><path d=\"M225.55,330.04 C240.14,335.33 256.8,341.36 272.41,347.01 \" fill=\"none\" id=\"E8-&gt;E2\" style=\"stroke: #A80036; stroke-width: 1.0;\"/><polygon fill=\"#FFFFFF\" points=\"291.41,353.89,271.1619,354.01,275.9238,340.8448,291.41,353.89\" style=\"stroke: #A80036; stroke-width: 1.0;\"/><ellipse cx=\"266.482\" cy=\"350.1905\" fill=\"#A80036\" rx=\"2\" ry=\"2\" style=\"stroke: #A80036; stroke-width: 1.0;\"/><ellipse cx=\"269.8834\" cy=\"340.7868\" fill=\"#A80036\" rx=\"2\" ry=\"2\" style=\"stroke: #A80036; stroke-width: 1.0;\"/></a><!--MD5=[9ae28de373ca99bb8a1b38d63370ca7e]\n",
       "reverse link E5 to E9--><a href=\"psysml:1023028c-00c5-4dde-9329-e4b02befe1ab\" target=\"_top\" title=\"psysml:1023028c-00c5-4dde-9329-e4b02befe1ab\" xlink:actuate=\"onRequest\" xlink:href=\"psysml:1023028c-00c5-4dde-9329-e4b02befe1ab\" xlink:show=\"new\" xlink:title=\"psysml:1023028c-00c5-4dde-9329-e4b02befe1ab\" xlink:type=\"simple\"><path d=\"M329,186.1541 C329,186.4444 329,186.7349 329,187.0256 C329,191.6761 329,196.366 329,200.9367 C329,210.0781 329,218.7425 329,225.66 \" fill=\"none\" id=\"E5&lt;-E9\" style=\"stroke: #A80036; stroke-width: 1.0;\"/><polygon fill=\"#FFFFFF\" points=\"329,186.1541,325,192.1541,329,198.1541,333,192.1541,329,186.1541\" style=\"stroke: #A80036; stroke-width: 1.0;\"/><text fill=\"#000000\" font-family=\"sans-serif\" font-size=\"13\" lengthAdjust=\"spacingAndGlyphs\" textLength=\"8\" x=\"319.675\" y=\"214.8571\">1</text></a><!--MD5=[5c3bb36fe832a92c7f0e1807dd65209d]\n",
       "link E9 to E2--><a href=\"psysml:d6cd1bf0-a8ac-42a9-91c6-4adc5d4642e7\" target=\"_top\" title=\"psysml:d6cd1bf0-a8ac-42a9-91c6-4adc5d4642e7\" xlink:actuate=\"onRequest\" xlink:href=\"psysml:d6cd1bf0-a8ac-42a9-91c6-4adc5d4642e7\" xlink:show=\"new\" xlink:title=\"psysml:d6cd1bf0-a8ac-42a9-91c6-4adc5d4642e7\" xlink:type=\"simple\"><path d=\"M329,258.27 C329,275.18 329,303.16 329,326.57 \" fill=\"none\" id=\"E9-&gt;E2\" style=\"stroke: #A80036; stroke-width: 1.0;\"/><polygon fill=\"#FFFFFF\" points=\"329,346.71,322,327.71,336,327.71,329,346.71\" style=\"stroke: #A80036; stroke-width: 1.0;\"/><ellipse cx=\"324\" cy=\"322.01\" fill=\"#A80036\" rx=\"2\" ry=\"2\" style=\"stroke: #A80036; stroke-width: 1.0;\"/><ellipse cx=\"334\" cy=\"322.01\" fill=\"#A80036\" rx=\"2\" ry=\"2\" style=\"stroke: #A80036; stroke-width: 1.0;\"/></a><!--MD5=[234efce643d182c7a9380896852ea15a]\n",
       "@startuml\r\n",
       "skinparam ranksep 10\r\n",
       "skinparam rectangle {\r\n",
       " backgroundColor<<block>> LightGreen\r\n",
       "}\r\n",
       "skinparam wrapWidth 300\r\n",
       "hide circle\r\n",
       "\r\n",
       "package \"TradeStudyTest\" as E1  [[psysml:9d3e1c5c-e45c-4a85-8e75-4ee823ac8fbf ]]  {\r\n",
       "rec def \"Engine\" as E2  <<(T,blue) part  def>> [[psysml:956f1300-60cf-48ef-8161-7a381ae0bb8c ]] {\r\n",
       "}\r\n",
       "rec usage \"engine1: Engine\" as E3  [[psysml:5ff7a686-dab8-41cf-8031-b7dccb26607b ]] {\r\n",
       "}\r\n",
       "rec usage \"engine2: Engine\" as E4  [[psysml:44e88bb9-9b84-4b3f-b104-23d7a257fb04 ]] {\r\n",
       "}\r\n",
       "rec usage \"engineTradeStudy\" as E5 << analysis>> [[psysml:e12e8838-d64a-4336-9e52-2de97357eae2 ]] {\r\n",
       "comp usage \"tradeStudyObjective\" as E6  <<objective>> [[psysml:9a804e4d-bc47-4ee7-a2d8-d8527e0c1caf ]] {\r\n",
       "}\r\n",
       "}\r\n",
       "comp usage \"evaluationFunction \" as E7  <<(T,blue) calculation>> [[psysml:1fa3686a-6014-4c73-9542-2575e26fd8a7 ]] {\r\n",
       "}\r\n",
       "comp usage \"alternative: Engine \" as E8  [[psysml:79c1d929-0a70-426e-ae6d-56e5e3e776a6 ]] {\r\n",
       "}\r\n",
       "comp usage \"selectedAlternative: Engine \" as E9  [[psysml:169f456a-e384-47f5-89e9-43fd13dd17eb ]] {\r\n",
       "}\r\n",
       "}\r\n",
       "E5 ..> E2 [[psysml:ef23f2a8-b555-4000-b8d1-a9fc8ea83129 ]] : <<subject>>\r\n",
       "E5 *- - E7 [[psysml:3495a436-635c-4195-be5e-85a5d126f0e1 ]] \r\n",
       "E7 o- - \"1\"E8 [[psysml:e1d2632c-68a4-476d-b3ed-d8b6d2aaac51 ]] \r\n",
       "E8 - -:|> E2 [[psysml:a8ae8a0d-ad52-4d9e-986d-0c741d3467c2 ]] \r\n",
       "E5 o- - \"1\"E9 [[psysml:1023028c-00c5-4dde-9329-e4b02befe1ab ]] \r\n",
       "E9 - -:|> E2 [[psysml:d6cd1bf0-a8ac-42a9-91c6-4adc5d4642e7 ]] \r\n",
       "@enduml\r\n",
       "\n",
       "PlantUML version 1.2020.13(Sat Jun 13 12:26:38 UTC 2020)\n",
       "(EPL source distribution)\n",
       "Java Runtime: OpenJDK Runtime Environment\n",
       "JVM: OpenJDK 64-Bit Server VM\n",
       "Default Encoding: UTF-8\n",
       "Language: en\n",
       "Country: null\n",
       "--></g></svg>"
      ]
     },
     "execution_count": 26,
     "metadata": {},
     "output_type": "execute_result"
    }
   ],
   "source": [
    "%viz --style=\"STDCOLOR\" --view=\"Interconnection\" \"TradeStudyTest\""
   ]
  },
  {
   "cell_type": "code",
   "execution_count": 27,
   "id": "84755487",
   "metadata": {
    "execution": {
     "iopub.execute_input": "2022-02-18T10:50:36.663779Z",
     "iopub.status.busy": "2022-02-18T10:50:36.663376Z",
     "iopub.status.idle": "2022-02-18T10:50:36.700832Z",
     "shell.execute_reply": "2022-02-18T10:50:36.700435Z"
    }
   },
   "outputs": [
    {
     "data": {
      "image/svg+xml": [
       "<?xml version=\"1.0\" encoding=\"UTF-8\" standalone=\"no\"?><svg xmlns=\"http://www.w3.org/2000/svg\" xmlns:xlink=\"http://www.w3.org/1999/xlink\" contentScriptType=\"application/ecmascript\" contentStyleType=\"text/css\" height=\"235px\" preserveAspectRatio=\"none\" style=\"width:442px;height:235px;\" version=\"1.1\" viewBox=\"0 0 442 235\" width=\"442px\" zoomAndPan=\"magnify\"><defs><filter height=\"300%\" id=\"freymayfpb96w\" width=\"300%\" x=\"-1\" y=\"-1\"><feGaussianBlur result=\"blurOut\" stdDeviation=\"2.0\"/><feColorMatrix in=\"blurOut\" result=\"blurOut2\" type=\"matrix\" values=\"0 0 0 0 0 0 0 0 0 0 0 0 0 0 0 0 0 0 .4 0\"/><feOffset dx=\"4.0\" dy=\"4.0\" in=\"blurOut2\" result=\"blurOut3\"/><feBlend in=\"SourceGraphic\" in2=\"blurOut3\" mode=\"normal\"/></filter></defs><g><!--MD5=[fbc87193dbaf4d95561dea2c320d4a47]\n",
       "cluster E1--><a href=\"psysml:e12e8838-d64a-4336-9e52-2de97357eae2\" target=\"_top\" title=\"psysml:e12e8838-d64a-4336-9e52-2de97357eae2\" xlink:actuate=\"onRequest\" xlink:href=\"psysml:e12e8838-d64a-4336-9e52-2de97357eae2\" xlink:show=\"new\" xlink:title=\"psysml:e12e8838-d64a-4336-9e52-2de97357eae2\" xlink:type=\"simple\"><rect fill=\"#FFFFFF\" filter=\"url(#freymayfpb96w)\" height=\"174.36\" id=\"E1\" rx=\"10\" ry=\"10\" style=\"stroke: #A80036; stroke-width: 1.5;\" width=\"317\" x=\"47\" y=\"42.0986\"/><rect fill=\"#FEFECE\" height=\"37.9375\" rx=\"10\" ry=\"10\" style=\"stroke: #FEFECE; stroke-width: 1.5;\" width=\"317\" x=\"47\" y=\"42.0986\"/><rect fill=\"#FEFECE\" height=\"10\" style=\"stroke: #FEFECE; stroke-width: 1.5;\" width=\"317\" x=\"47\" y=\"70.0361\"/><rect fill=\"none\" height=\"174.36\" id=\"E1\" rx=\"10\" ry=\"10\" style=\"stroke: #A80036; stroke-width: 1.5;\" width=\"317\" x=\"47\" y=\"42.0986\"/><text fill=\"#000000\" font-family=\"sans-serif\" font-size=\"12\" font-style=\"italic\" lengthAdjust=\"spacingAndGlyphs\" textLength=\"64\" x=\"173.5\" y=\"58.2373\">«analysis»</text><text fill=\"#000000\" font-family=\"sans-serif\" font-size=\"12\" lengthAdjust=\"spacingAndGlyphs\" textLength=\"114\" x=\"148.5\" y=\"72.2061\">engineTradeStudy</text><line style=\"stroke: #A80036; stroke-width: 1.0;\" x1=\"47\" x2=\"364\" y1=\"80.0361\" y2=\"80.0361\"/></a><!--MD5=[d5e69f78d87373223dbae638b30a9c99]\n",
       "cluster E3--><a href=\"psysml:1fa3686a-6014-4c73-9542-2575e26fd8a7\" target=\"_top\" title=\"psysml:1fa3686a-6014-4c73-9542-2575e26fd8a7\" xlink:actuate=\"onRequest\" xlink:href=\"psysml:1fa3686a-6014-4c73-9542-2575e26fd8a7\" xlink:show=\"new\" xlink:title=\"psysml:1fa3686a-6014-4c73-9542-2575e26fd8a7\" xlink:type=\"simple\"><rect fill=\"#FFFFFF\" filter=\"url(#freymayfpb96w)\" height=\"104.86\" id=\"E3\" rx=\"10\" ry=\"10\" style=\"stroke: #A80036; stroke-width: 1.5;\" width=\"178\" x=\"145\" y=\"81.5986\"/><rect fill=\"#FEFECE\" height=\"37.9375\" rx=\"10\" ry=\"10\" style=\"stroke: #FEFECE; stroke-width: 1.5;\" width=\"178\" x=\"145\" y=\"81.5986\"/><rect fill=\"#FEFECE\" height=\"10\" style=\"stroke: #FEFECE; stroke-width: 1.5;\" width=\"178\" x=\"145\" y=\"109.5361\"/><rect fill=\"none\" height=\"104.86\" id=\"E3\" rx=\"10\" ry=\"10\" style=\"stroke: #A80036; stroke-width: 1.5;\" width=\"178\" x=\"145\" y=\"81.5986\"/><text fill=\"#000000\" font-family=\"sans-serif\" font-size=\"12\" font-style=\"italic\" lengthAdjust=\"spacingAndGlyphs\" textLength=\"82\" x=\"193\" y=\"97.7373\">«calculation»</text><text fill=\"#000000\" font-family=\"sans-serif\" font-size=\"12\" lengthAdjust=\"spacingAndGlyphs\" textLength=\"119\" x=\"174.5\" y=\"111.7061\">evaluationFunction</text><line style=\"stroke: #A80036; stroke-width: 1.0;\" x1=\"145\" x2=\"323\" y1=\"119.5361\" y2=\"119.5361\"/></a><text fill=\"#000000\" font-family=\"sans-serif\" font-size=\"14\" lengthAdjust=\"spacingAndGlyphs\" textLength=\"118\" x=\"6\" y=\"20.7969\">studyAlternatives</text><rect fill=\"#A80036\" height=\"12\" style=\"stroke: #FEFECE; stroke-width: 1.5;\" width=\"12\" x=\"59\" y=\"36.0986\"/><text fill=\"#000000\" font-family=\"sans-serif\" font-size=\"14\" lengthAdjust=\"spacingAndGlyphs\" textLength=\"132\" x=\"298\" y=\"183.0938\">selectedAlternative</text><rect fill=\"#A80036\" height=\"12\" style=\"stroke: #FEFECE; stroke-width: 1.5;\" width=\"12\" x=\"358\" y=\"158.0986\"/><text fill=\"#000000\" font-family=\"sans-serif\" font-size=\"14\" lengthAdjust=\"spacingAndGlyphs\" textLength=\"71\" x=\"198.5\" y=\"60.2969\">alternative</text><rect fill=\"#A80036\" height=\"12\" style=\"stroke: #FEFECE; stroke-width: 1.5;\" width=\"12\" x=\"228\" y=\"75.5986\"/><text fill=\"#000000\" font-family=\"sans-serif\" font-size=\"14\" lengthAdjust=\"spacingAndGlyphs\" textLength=\"39\" x=\"214.5\" y=\"205.4538\">result</text><rect fill=\"#A80036\" height=\"12\" style=\"stroke: #FEFECE; stroke-width: 1.5;\" width=\"12\" x=\"228\" y=\"180.4586\"/><!--MD5=[e0b5bd7b946f5ee852bb8e997bf9ea82]\n",
       "@startuml\r\n",
       "skinparam ranksep 8\r\n",
       "skinparam wrapWidth 300\r\n",
       "hide circle\r\n",
       "\r\n",
       "rec usage \"engineTradeStudy\" as E1 << analysis>> [[psysml:e12e8838-d64a-4336-9e52-2de97357eae2 ]] {\r\n",
       "portin \"studyAlternatives\" as E2  [[psysml:36f294a0-7f48-45c5-aee6-574d3cef2e7a ]] \r\n",
       "rec usage \"evaluationFunction\" as E3  <<(T,blue) calculation>> [[psysml:1fa3686a-6014-4c73-9542-2575e26fd8a7 ]] {\r\n",
       "portin \"alternative\" as E4  [[psysml:79c1d929-0a70-426e-ae6d-56e5e3e776a6 ]] \r\n",
       "portout \"result\" as E5  [[psysml:c19db6ea-6f05-4719-8826-e593430801be ]] \r\n",
       "}\r\n",
       "\r\n",
       "portout \"selectedAlternative\" as E6  [[psysml:169f456a-e384-47f5-89e9-43fd13dd17eb ]] \r\n",
       "}\r\n",
       "\r\n",
       "@enduml\r\n",
       "\n",
       "PlantUML version 1.2020.13(Sat Jun 13 12:26:38 UTC 2020)\n",
       "(EPL source distribution)\n",
       "Java Runtime: OpenJDK Runtime Environment\n",
       "JVM: OpenJDK 64-Bit Server VM\n",
       "Default Encoding: UTF-8\n",
       "Language: en\n",
       "Country: null\n",
       "--></g></svg>"
      ]
     },
     "execution_count": 27,
     "metadata": {},
     "output_type": "execute_result"
    }
   ],
   "source": [
    "%viz --style=\"STDCOLOR\" --view=\"Action\" \"TradeStudyTest\""
   ]
  },
  {
   "cell_type": "code",
   "execution_count": 28,
   "id": "a1bde44f",
   "metadata": {
    "execution": {
     "iopub.execute_input": "2022-02-18T10:50:36.750287Z",
     "iopub.status.busy": "2022-02-18T10:50:36.749886Z",
     "iopub.status.idle": "2022-02-18T10:50:36.755049Z",
     "shell.execute_reply": "2022-02-18T10:50:36.754717Z"
    }
   },
   "outputs": [
    {
     "data": {
      "image/svg+xml": [
       "<?xml version=\"1.0\" encoding=\"UTF-8\" standalone=\"no\"?><svg xmlns=\"http://www.w3.org/2000/svg\" xmlns:xlink=\"http://www.w3.org/1999/xlink\" contentScriptType=\"application/ecmascript\" contentStyleType=\"text/css\" height=\"12px\" preserveAspectRatio=\"none\" style=\"width:12px;height:12px;\" version=\"1.1\" viewBox=\"0 0 12 12\" width=\"12px\" zoomAndPan=\"magnify\"><defs/><g><!--MD5=[6c4bca67b4d71758159a5a7f1f1e1fc2]\n",
       "@startuml\r\n",
       "skinparam roundcorner 20\r\n",
       "skinparam BoxPadding 20\r\n",
       "skinparam SequenceBoxBackgroundColor #white\r\n",
       "skinparam style strictuml\r\n",
       "skinparam maxMessageSize 100\r\n",
       "skinparam wrapWidth 300\r\n",
       "hide circle\r\n",
       "\r\n",
       "@enduml\r\n",
       "\n",
       "PlantUML version 1.2020.13(Sat Jun 13 12:26:38 UTC 2020)\n",
       "(EPL source distribution)\n",
       "Java Runtime: OpenJDK Runtime Environment\n",
       "JVM: OpenJDK 64-Bit Server VM\n",
       "Default Encoding: UTF-8\n",
       "Language: en\n",
       "Country: null\n",
       "--></g></svg>"
      ]
     },
     "execution_count": 28,
     "metadata": {},
     "output_type": "execute_result"
    }
   ],
   "source": [
    "%viz --style=\"STDCOLOR\" --view=\"Sequence\" \"TradeStudyTest\""
   ]
  },
  {
   "cell_type": "code",
   "execution_count": 29,
   "id": "87b0c66b",
   "metadata": {
    "execution": {
     "iopub.execute_input": "2022-02-18T10:50:36.805035Z",
     "iopub.status.busy": "2022-02-18T10:50:36.804639Z",
     "iopub.status.idle": "2022-02-18T10:50:36.844186Z",
     "shell.execute_reply": "2022-02-18T10:50:36.843829Z"
    }
   },
   "outputs": [
    {
     "data": {
      "image/svg+xml": [
       "<?xml version=\"1.0\" encoding=\"UTF-8\" standalone=\"no\"?><svg xmlns=\"http://www.w3.org/2000/svg\" xmlns:xlink=\"http://www.w3.org/1999/xlink\" contentScriptType=\"application/ecmascript\" contentStyleType=\"text/css\" height=\"545px\" preserveAspectRatio=\"none\" style=\"width:566px;height:545px;\" version=\"1.1\" viewBox=\"0 0 566 545\" width=\"566px\" zoomAndPan=\"magnify\"><defs><filter height=\"300%\" id=\"f1uujs0vt0px2i\" width=\"300%\" x=\"-1\" y=\"-1\"><feGaussianBlur result=\"blurOut\" stdDeviation=\"2.0\"/><feColorMatrix in=\"blurOut\" result=\"blurOut2\" type=\"matrix\" values=\"0 0 0 0 0 0 0 0 0 0 0 0 0 0 0 0 0 0 .4 0\"/><feOffset dx=\"4.0\" dy=\"4.0\" in=\"blurOut2\" result=\"blurOut3\"/><feBlend in=\"SourceGraphic\" in2=\"blurOut3\" mode=\"normal\"/></filter></defs><g><!--MD5=[fbc87193dbaf4d95561dea2c320d4a47]\n",
       "cluster E1--><a href=\"psysml:9d3e1c5c-e45c-4a85-8e75-4ee823ac8fbf\" target=\"_top\" title=\"psysml:9d3e1c5c-e45c-4a85-8e75-4ee823ac8fbf\" xlink:actuate=\"onRequest\" xlink:href=\"psysml:9d3e1c5c-e45c-4a85-8e75-4ee823ac8fbf\" xlink:show=\"new\" xlink:title=\"psysml:9d3e1c5c-e45c-4a85-8e75-4ee823ac8fbf\" xlink:type=\"simple\"><polygon fill=\"#FFFFFF\" filter=\"url(#f1uujs0vt0px2i)\" points=\"16,6,132,6,139,28.2969,544,28.2969,544,533,16,533,16,6\" style=\"stroke: #000000; stroke-width: 1.5;\"/><line style=\"stroke: #000000; stroke-width: 1.5;\" x1=\"16\" x2=\"139\" y1=\"28.2969\" y2=\"28.2969\"/><text fill=\"#000000\" font-family=\"sans-serif\" font-size=\"14\" font-weight=\"bold\" lengthAdjust=\"spacingAndGlyphs\" textLength=\"110\" x=\"20\" y=\"20.9951\">TradeStudyTest</text></a><!--MD5=[de5ec2e2e8f62f467e546659f5068c88]\n",
       "cluster E5--><a href=\"psysml:e12e8838-d64a-4336-9e52-2de97357eae2\" target=\"_top\" title=\"psysml:e12e8838-d64a-4336-9e52-2de97357eae2\" xlink:actuate=\"onRequest\" xlink:href=\"psysml:e12e8838-d64a-4336-9e52-2de97357eae2\" xlink:show=\"new\" xlink:title=\"psysml:e12e8838-d64a-4336-9e52-2de97357eae2\" xlink:type=\"simple\"><rect fill=\"#FFFFFF\" filter=\"url(#f1uujs0vt0px2i)\" height=\"129\" id=\"E5\" rx=\"10\" ry=\"10\" style=\"stroke: #A80036; stroke-width: 1.5;\" width=\"199\" x=\"238\" y=\"57\"/><rect fill=\"#FEFECE\" height=\"37.9375\" rx=\"10\" ry=\"10\" style=\"stroke: #FEFECE; stroke-width: 1.5;\" width=\"199\" x=\"238\" y=\"57\"/><rect fill=\"#FEFECE\" height=\"10\" style=\"stroke: #FEFECE; stroke-width: 1.5;\" width=\"199\" x=\"238\" y=\"84.9375\"/><rect fill=\"none\" height=\"129\" id=\"E5\" rx=\"10\" ry=\"10\" style=\"stroke: #A80036; stroke-width: 1.5;\" width=\"199\" x=\"238\" y=\"57\"/><text fill=\"#000000\" font-family=\"sans-serif\" font-size=\"12\" font-style=\"italic\" lengthAdjust=\"spacingAndGlyphs\" textLength=\"64\" x=\"305.5\" y=\"73.1387\">«analysis»</text><text fill=\"#000000\" font-family=\"sans-serif\" font-size=\"12\" lengthAdjust=\"spacingAndGlyphs\" textLength=\"114\" x=\"280.5\" y=\"87.1074\">engineTradeStudy</text><line style=\"stroke: #A80036; stroke-width: 1.0;\" x1=\"238\" x2=\"437\" y1=\"94.9375\" y2=\"94.9375\"/></a><!--MD5=[b4997ac47864f28c2f74865a473b2911]\n",
       "class E2--><a href=\"psysml:956f1300-60cf-48ef-8161-7a381ae0bb8c\" target=\"_top\" title=\"psysml:956f1300-60cf-48ef-8161-7a381ae0bb8c\" xlink:actuate=\"onRequest\" xlink:href=\"psysml:956f1300-60cf-48ef-8161-7a381ae0bb8c\" xlink:show=\"new\" xlink:title=\"psysml:956f1300-60cf-48ef-8161-7a381ae0bb8c\" xlink:type=\"simple\"><rect fill=\"#FEFECE\" filter=\"url(#f1uujs0vt0px2i)\" height=\"45.9375\" id=\"E2\" style=\"stroke: #A80036; stroke-width: 1.5;\" width=\"70\" x=\"292\" y=\"471\"/><text fill=\"#000000\" font-family=\"sans-serif\" font-size=\"12\" font-style=\"italic\" lengthAdjust=\"spacingAndGlyphs\" textLength=\"68\" x=\"293\" y=\"487.1387\">«part  def»</text><text fill=\"#000000\" font-family=\"sans-serif\" font-size=\"12\" lengthAdjust=\"spacingAndGlyphs\" textLength=\"43\" x=\"305.5\" y=\"501.1074\">Engine</text><line style=\"stroke: #A80036; stroke-width: 1.5;\" x1=\"293\" x2=\"361\" y1=\"508.9375\" y2=\"508.9375\"/></a><!--MD5=[09b614a08d8cba4a07c9adeb5e0fee81]\n",
       "class E3--><a href=\"psysml:5ff7a686-dab8-41cf-8031-b7dccb26607b\" target=\"_top\" title=\"psysml:5ff7a686-dab8-41cf-8031-b7dccb26607b\" xlink:actuate=\"onRequest\" xlink:href=\"psysml:5ff7a686-dab8-41cf-8031-b7dccb26607b\" xlink:show=\"new\" xlink:title=\"psysml:5ff7a686-dab8-41cf-8031-b7dccb26607b\" xlink:type=\"simple\"><rect fill=\"#FEFECE\" filter=\"url(#f1uujs0vt0px2i)\" height=\"45.9375\" id=\"E3\" rx=\"10\" ry=\"10\" style=\"stroke: #A80036; stroke-width: 1.5;\" width=\"112\" x=\"179\" y=\"364\"/><text fill=\"#000000\" font-family=\"sans-serif\" font-size=\"12\" font-style=\"italic\" lengthAdjust=\"spacingAndGlyphs\" textLength=\"40\" x=\"215\" y=\"380.1387\">«part»</text><text fill=\"#000000\" font-family=\"sans-serif\" font-size=\"12\" lengthAdjust=\"spacingAndGlyphs\" textLength=\"102\" x=\"182\" y=\"394.1074\">engine1: Engine</text><line style=\"stroke: #A80036; stroke-width: 1.5;\" x1=\"180\" x2=\"290\" y1=\"401.9375\" y2=\"401.9375\"/></a><!--MD5=[ebbe1d658d1005bcc118a6aa81145e00]\n",
       "class E4--><a href=\"psysml:44e88bb9-9b84-4b3f-b104-23d7a257fb04\" target=\"_top\" title=\"psysml:44e88bb9-9b84-4b3f-b104-23d7a257fb04\" xlink:actuate=\"onRequest\" xlink:href=\"psysml:44e88bb9-9b84-4b3f-b104-23d7a257fb04\" xlink:show=\"new\" xlink:title=\"psysml:44e88bb9-9b84-4b3f-b104-23d7a257fb04\" xlink:type=\"simple\"><rect fill=\"#FEFECE\" filter=\"url(#f1uujs0vt0px2i)\" height=\"45.9375\" id=\"E4\" rx=\"10\" ry=\"10\" style=\"stroke: #A80036; stroke-width: 1.5;\" width=\"112\" x=\"32\" y=\"364\"/><text fill=\"#000000\" font-family=\"sans-serif\" font-size=\"12\" font-style=\"italic\" lengthAdjust=\"spacingAndGlyphs\" textLength=\"40\" x=\"68\" y=\"380.1387\">«part»</text><text fill=\"#000000\" font-family=\"sans-serif\" font-size=\"12\" lengthAdjust=\"spacingAndGlyphs\" textLength=\"102\" x=\"35\" y=\"394.1074\">engine2: Engine</text><line style=\"stroke: #A80036; stroke-width: 1.5;\" x1=\"33\" x2=\"143\" y1=\"401.9375\" y2=\"401.9375\"/></a><!--MD5=[2156ba9850f5573cc1fc38a6a4b2f02b]\n",
       "class E7--><a href=\"psysml:1fa3686a-6014-4c73-9542-2575e26fd8a7\" target=\"_top\" title=\"psysml:1fa3686a-6014-4c73-9542-2575e26fd8a7\" xlink:actuate=\"onRequest\" xlink:href=\"psysml:1fa3686a-6014-4c73-9542-2575e26fd8a7\" xlink:show=\"new\" xlink:title=\"psysml:1fa3686a-6014-4c73-9542-2575e26fd8a7\" xlink:type=\"simple\"><rect fill=\"#FEFECE\" filter=\"url(#f1uujs0vt0px2i)\" height=\"45.9375\" id=\"E7\" rx=\"10\" ry=\"10\" style=\"stroke: #A80036; stroke-width: 1.5;\" width=\"129\" x=\"181.5\" y=\"241\"/><text fill=\"#000000\" font-family=\"sans-serif\" font-size=\"12\" font-style=\"italic\" lengthAdjust=\"spacingAndGlyphs\" textLength=\"82\" x=\"205\" y=\"257.1387\">«calculation»</text><text fill=\"#000000\" font-family=\"sans-serif\" font-size=\"12\" lengthAdjust=\"spacingAndGlyphs\" textLength=\"119\" x=\"184.5\" y=\"271.1074\">evaluationFunction</text><line style=\"stroke: #A80036; stroke-width: 1.5;\" x1=\"182.5\" x2=\"309.5\" y1=\"278.9375\" y2=\"278.9375\"/></a><!--MD5=[b9389687b975829384b498ac4b7476b2]\n",
       "class E8--><a href=\"psysml:79c1d929-0a70-426e-ae6d-56e5e3e776a6\" target=\"_top\" title=\"psysml:79c1d929-0a70-426e-ae6d-56e5e3e776a6\" xlink:actuate=\"onRequest\" xlink:href=\"psysml:79c1d929-0a70-426e-ae6d-56e5e3e776a6\" xlink:show=\"new\" xlink:title=\"psysml:79c1d929-0a70-426e-ae6d-56e5e3e776a6\" xlink:type=\"simple\"><rect fill=\"#FEFECE\" filter=\"url(#f1uujs0vt0px2i)\" height=\"45.9375\" id=\"E8\" rx=\"10\" ry=\"10\" style=\"stroke: #A80036; stroke-width: 1.5;\" width=\"128\" x=\"363\" y=\"364\"/><text fill=\"#000000\" font-family=\"sans-serif\" font-size=\"12\" font-style=\"italic\" lengthAdjust=\"spacingAndGlyphs\" textLength=\"40\" x=\"407\" y=\"380.1387\">«part»</text><text fill=\"#000000\" font-family=\"sans-serif\" font-size=\"12\" lengthAdjust=\"spacingAndGlyphs\" textLength=\"118\" x=\"366\" y=\"394.1074\">alternative: Engine</text><line style=\"stroke: #A80036; stroke-width: 1.5;\" x1=\"364\" x2=\"490\" y1=\"401.9375\" y2=\"401.9375\"/></a><!--MD5=[fd4143e9d270a159db93a4ea2a975926]\n",
       "class E9--><a href=\"psysml:169f456a-e384-47f5-89e9-43fd13dd17eb\" target=\"_top\" title=\"psysml:169f456a-e384-47f5-89e9-43fd13dd17eb\" xlink:actuate=\"onRequest\" xlink:href=\"psysml:169f456a-e384-47f5-89e9-43fd13dd17eb\" xlink:show=\"new\" xlink:title=\"psysml:169f456a-e384-47f5-89e9-43fd13dd17eb\" xlink:type=\"simple\"><rect fill=\"#FEFECE\" filter=\"url(#f1uujs0vt0px2i)\" height=\"45.9375\" id=\"E9\" rx=\"10\" ry=\"10\" style=\"stroke: #A80036; stroke-width: 1.5;\" width=\"182\" x=\"346\" y=\"241\"/><text fill=\"#000000\" font-family=\"sans-serif\" font-size=\"12\" font-style=\"italic\" lengthAdjust=\"spacingAndGlyphs\" textLength=\"40\" x=\"417\" y=\"257.1387\">«part»</text><text fill=\"#000000\" font-family=\"sans-serif\" font-size=\"12\" lengthAdjust=\"spacingAndGlyphs\" textLength=\"172\" x=\"349\" y=\"271.1074\">selectedAlternative: Engine</text><line style=\"stroke: #A80036; stroke-width: 1.5;\" x1=\"347\" x2=\"527\" y1=\"278.9375\" y2=\"278.9375\"/></a><!--MD5=[60a26617385b1d2d0262a64233df1f8d]\n",
       "class E6--><a href=\"psysml:9a804e4d-bc47-4ee7-a2d8-d8527e0c1caf\" target=\"_top\" title=\"psysml:9a804e4d-bc47-4ee7-a2d8-d8527e0c1caf\" xlink:actuate=\"onRequest\" xlink:href=\"psysml:9a804e4d-bc47-4ee7-a2d8-d8527e0c1caf\" xlink:show=\"new\" xlink:title=\"psysml:9a804e4d-bc47-4ee7-a2d8-d8527e0c1caf\" xlink:type=\"simple\"><rect fill=\"#FEFECE\" filter=\"url(#f1uujs0vt0px2i)\" height=\"45.9375\" id=\"E6\" rx=\"10\" ry=\"10\" style=\"stroke: #A80036; stroke-width: 1.5;\" width=\"132\" x=\"281\" y=\"116\"/><text fill=\"#000000\" font-family=\"sans-serif\" font-size=\"12\" font-style=\"italic\" lengthAdjust=\"spacingAndGlyphs\" textLength=\"70\" x=\"312\" y=\"132.1387\">«objective»</text><text fill=\"#000000\" font-family=\"sans-serif\" font-size=\"12\" lengthAdjust=\"spacingAndGlyphs\" textLength=\"126\" x=\"284\" y=\"146.1074\">tradeStudyObjective</text><line style=\"stroke: #A80036; stroke-width: 1.5;\" x1=\"282\" x2=\"412\" y1=\"153.9375\" y2=\"153.9375\"/></a><!--MD5=[05d275557350bfb9b23a4ef7222b4c39]\n",
       "link E3 to E2--><a href=\"psysml:9be21745-fec5-4980-9af6-b796782d7969\" target=\"_top\" title=\"psysml:9be21745-fec5-4980-9af6-b796782d7969\" xlink:actuate=\"onRequest\" xlink:href=\"psysml:9be21745-fec5-4980-9af6-b796782d7969\" xlink:show=\"new\" xlink:title=\"psysml:9be21745-fec5-4980-9af6-b796782d7969\" xlink:type=\"simple\"><path d=\"M254.29,410.01 C265.74,423.08 280.57,440.01 293.86,455.17 \" fill=\"none\" id=\"E3-&gt;E2\" style=\"stroke: #A80036; stroke-width: 1.0;\"/><polygon fill=\"#FFFFFF\" points=\"307.42,470.66,289.6319,460.9861,300.1599,451.7578,307.42,470.66\" style=\"stroke: #A80036; stroke-width: 1.0;\"/><ellipse cx=\"287.3787\" cy=\"455.3814\" fill=\"#A80036\" rx=\"2\" ry=\"2\" style=\"stroke: #A80036; stroke-width: 1.0;\"/><ellipse cx=\"294.8987\" cy=\"448.7898\" fill=\"#A80036\" rx=\"2\" ry=\"2\" style=\"stroke: #A80036; stroke-width: 1.0;\"/></a><!--MD5=[185131fc0dcab0a4505a2ebe144e961b]\n",
       "link E4 to E2--><a href=\"psysml:1ad537aa-bda6-4221-a392-6db0b9fa994b\" target=\"_top\" title=\"psysml:1ad537aa-bda6-4221-a392-6db0b9fa994b\" xlink:actuate=\"onRequest\" xlink:href=\"psysml:1ad537aa-bda6-4221-a392-6db0b9fa994b\" xlink:show=\"new\" xlink:title=\"psysml:1ad537aa-bda6-4221-a392-6db0b9fa994b\" xlink:type=\"simple\"><path d=\"M138.1,410.01 C177.63,427.38 232.65,451.55 273.12,469.33 \" fill=\"none\" id=\"E4-&gt;E2\" style=\"stroke: #A80036; stroke-width: 1.0;\"/><polygon fill=\"#FFFFFF\" points=\"291.69,477.49,271.479,476.2594,277.1083,463.4411,291.69,477.49\" style=\"stroke: #A80036; stroke-width: 1.0;\"/><ellipse cx=\"267.0642\" cy=\"472.1363\" fill=\"#A80036\" rx=\"2\" ry=\"2\" style=\"stroke: #A80036; stroke-width: 1.0;\"/><ellipse cx=\"271.0852\" cy=\"462.9803\" fill=\"#A80036\" rx=\"2\" ry=\"2\" style=\"stroke: #A80036; stroke-width: 1.0;\"/></a><!--MD5=[15ebcb19ae302d9b601edb458606d402]\n",
       "link E5 to E2--><a href=\"psysml:ef23f2a8-b555-4000-b8d1-a9fc8ea83129\" target=\"_top\" title=\"psysml:ef23f2a8-b555-4000-b8d1-a9fc8ea83129\" xlink:actuate=\"onRequest\" xlink:href=\"psysml:ef23f2a8-b555-4000-b8d1-a9fc8ea83129\" xlink:show=\"new\" xlink:title=\"psysml:ef23f2a8-b555-4000-b8d1-a9fc8ea83129\" xlink:type=\"simple\"><path d=\"M237.7204,146.0763 C237.4768,146.2621 237.2287,146.4518 236.9763,146.6454 C235.9668,147.4197 234.8879,148.2561 233.748,149.1518 C231.4682,150.943 228.9441,152.9709 226.2406,155.2119 C215.4269,164.1756 201.745,176.5475 189.3625,190.8125 C164.5975,219.3425 145.03,255.445 164,287 C166.35,290.91 306.39,360.26 309,364 C329.99,394 331.63,437.66 330,465.69 \" fill=\"none\" id=\"E5-&gt;E2\" style=\"stroke: #A80036; stroke-width: 1.0; stroke-dasharray: 7.0,7.0;\"/><polygon fill=\"#A80036\" points=\"329.66,470.74,334.268,462.0356,330.003,465.7518,326.2869,461.4868,329.66,470.74\" style=\"stroke: #A80036; stroke-width: 1.0;\"/><text fill=\"#000000\" font-family=\"sans-serif\" font-size=\"13\" lengthAdjust=\"spacingAndGlyphs\" textLength=\"62\" x=\"253\" y=\"330.0669\">«subject»</text></a><!--MD5=[452b418e7f8a40397a49b8c0a78acc5b]\n",
       "reverse link E5 to E7--><a href=\"psysml:3495a436-635c-4195-be5e-85a5d126f0e1\" target=\"_top\" title=\"psysml:3495a436-635c-4195-be5e-85a5d126f0e1\" xlink:actuate=\"onRequest\" xlink:href=\"psysml:3495a436-635c-4195-be5e-85a5d126f0e1\" xlink:show=\"new\" xlink:title=\"psysml:3495a436-635c-4195-be5e-85a5d126f0e1\" xlink:type=\"simple\"><path d=\"M246,186.2997 C246,188.9655 246,191.6719 246,194.3971 C246,199.8476 246,205.3735 246,210.8005 C246,221.6544 246,232.1125 246,240.78 \" fill=\"none\" id=\"E5&lt;-E7\" style=\"stroke: #A80036; stroke-width: 1.0;\"/><polygon fill=\"#A80036\" points=\"246,186.2997,242,192.2997,246,198.2997,250,192.2997,246,186.2997\" style=\"stroke: #A80036; stroke-width: 1.0;\"/></a><!--MD5=[dc164f5e8a733ab456ef1add180e9e34]\n",
       "reverse link E7 to E8--><a href=\"psysml:e1d2632c-68a4-476d-b3ed-d8b6d2aaac51\" target=\"_top\" title=\"psysml:e1d2632c-68a4-476d-b3ed-d8b6d2aaac51\" xlink:actuate=\"onRequest\" xlink:href=\"psysml:e1d2632c-68a4-476d-b3ed-d8b6d2aaac51\" xlink:show=\"new\" xlink:title=\"psysml:e1d2632c-68a4-476d-b3ed-d8b6d2aaac51\" xlink:type=\"simple\"><path d=\"M290.06,294.45 C322.12,315.89 364.86,344.46 394.01,363.95 \" fill=\"none\" id=\"E7&lt;-E8\" style=\"stroke: #A80036; stroke-width: 1.0;\"/><polygon fill=\"#FFFFFF\" points=\"279.2,287.19,281.9674,293.8489,289.1785,293.8555,286.4111,287.1966,279.2,287.19\" style=\"stroke: #A80036; stroke-width: 1.0;\"/><text fill=\"#000000\" font-family=\"sans-serif\" font-size=\"13\" lengthAdjust=\"spacingAndGlyphs\" textLength=\"8\" x=\"376.0689\" y=\"352.8328\">1</text></a><!--MD5=[f1f3f9f2fc535e6147756cb86a7f2e32]\n",
       "link E8 to E2--><a href=\"psysml:a8ae8a0d-ad52-4d9e-986d-0c741d3467c2\" target=\"_top\" title=\"psysml:a8ae8a0d-ad52-4d9e-986d-0c741d3467c2\" xlink:actuate=\"onRequest\" xlink:href=\"psysml:a8ae8a0d-ad52-4d9e-986d-0c741d3467c2\" xlink:show=\"new\" xlink:title=\"psysml:a8ae8a0d-ad52-4d9e-986d-0c741d3467c2\" xlink:type=\"simple\"><path d=\"M406.04,410.01 C393.32,423.36 376.77,440.74 362.11,456.14 \" fill=\"none\" id=\"E8-&gt;E2\" style=\"stroke: #A80036; stroke-width: 1.0;\"/><polygon fill=\"#FFFFFF\" points=\"348.28,470.66,356.3076,452.0708,366.4491,461.7223,348.28,470.66\" style=\"stroke: #A80036; stroke-width: 1.0;\"/><ellipse cx=\"361.6859\" cy=\"449.3206\" fill=\"#A80036\" rx=\"2\" ry=\"2\" style=\"stroke: #A80036; stroke-width: 1.0;\"/><ellipse cx=\"368.9298\" cy=\"456.2144\" fill=\"#A80036\" rx=\"2\" ry=\"2\" style=\"stroke: #A80036; stroke-width: 1.0;\"/></a><!--MD5=[9ae28de373ca99bb8a1b38d63370ca7e]\n",
       "reverse link E5 to E9--><a href=\"psysml:1023028c-00c5-4dde-9329-e4b02befe1ab\" target=\"_top\" title=\"psysml:1023028c-00c5-4dde-9329-e4b02befe1ab\" xlink:actuate=\"onRequest\" xlink:href=\"psysml:1023028c-00c5-4dde-9329-e4b02befe1ab\" xlink:show=\"new\" xlink:title=\"psysml:1023028c-00c5-4dde-9329-e4b02befe1ab\" xlink:type=\"simple\"><path d=\"M254.7949,186.3026 C254.8401,186.4038 254.8856,186.5049 254.9313,186.6059 C255.2966,187.4138 255.6769,188.215 256.0726,189.0077 C256.8641,190.5933 257.7176,192.1452 258.6379,193.6498 C260.4784,196.6589 262.5863,199.4788 265,202 C278.04,215.62 316.12,229.75 353.15,240.99 \" fill=\"none\" id=\"E5&lt;-E9\" style=\"stroke: #A80036; stroke-width: 1.0;\"/><polygon fill=\"#FFFFFF\" points=\"254.7949,186.3026,253.5901,193.4123,259.6895,197.259,260.8944,190.1493,254.7949,186.3026\" style=\"stroke: #A80036; stroke-width: 1.0;\"/><text fill=\"#000000\" font-family=\"sans-serif\" font-size=\"13\" lengthAdjust=\"spacingAndGlyphs\" textLength=\"8\" x=\"330.0508\" y=\"232.8298\">1</text></a><!--MD5=[5c3bb36fe832a92c7f0e1807dd65209d]\n",
       "link E9 to E2--><a href=\"psysml:d6cd1bf0-a8ac-42a9-91c6-4adc5d4642e7\" target=\"_top\" title=\"psysml:d6cd1bf0-a8ac-42a9-91c6-4adc5d4642e7\" xlink:actuate=\"onRequest\" xlink:href=\"psysml:d6cd1bf0-a8ac-42a9-91c6-4adc5d4642e7\" xlink:show=\"new\" xlink:title=\"psysml:d6cd1bf0-a8ac-42a9-91c6-4adc5d4642e7\" xlink:type=\"simple\"><path d=\"M462.31,287.19 C492.44,316.36 535.53,368.75 509,410 C481.16,453.3 424.53,474.29 381.79,484.28 \" fill=\"none\" id=\"E9-&gt;E2\" style=\"stroke: #A80036; stroke-width: 1.0;\"/><polygon fill=\"#FFFFFF\" points=\"362.12,488.35,379.3051,477.6415,382.1449,491.3505,362.12,488.35\" style=\"stroke: #A80036; stroke-width: 1.0;\"/><ellipse cx=\"385.2923\" cy=\"478.4438\" fill=\"#A80036\" rx=\"2\" ry=\"2\" style=\"stroke: #A80036; stroke-width: 1.0;\"/><ellipse cx=\"387.3207\" cy=\"488.2359\" fill=\"#A80036\" rx=\"2\" ry=\"2\" style=\"stroke: #A80036; stroke-width: 1.0;\"/></a><!--MD5=[c88dde9ff9f044da418c5905855241ec]\n",
       "@startuml\r\n",
       "skinparam wrapWidth 300\r\n",
       "hide circle\r\n",
       "\r\n",
       "package \"TradeStudyTest\" as E1  [[psysml:9d3e1c5c-e45c-4a85-8e75-4ee823ac8fbf ]]  {\r\n",
       "comp def \"Engine\" as E2  <<(T,blue) part  def>> [[psysml:956f1300-60cf-48ef-8161-7a381ae0bb8c ]] {\r\n",
       "}\r\n",
       "comp usage \"engine1: Engine \" as E3  <<(T,blue) part>> [[psysml:5ff7a686-dab8-41cf-8031-b7dccb26607b ]] {\r\n",
       "}\r\n",
       "comp usage \"engine2: Engine \" as E4  <<(T,blue) part>> [[psysml:44e88bb9-9b84-4b3f-b104-23d7a257fb04 ]] {\r\n",
       "}\r\n",
       "rec usage \"engineTradeStudy\" as E5 << analysis>> [[psysml:e12e8838-d64a-4336-9e52-2de97357eae2 ]] {\r\n",
       "comp usage \"tradeStudyObjective\" as E6  <<objective>> [[psysml:9a804e4d-bc47-4ee7-a2d8-d8527e0c1caf ]] {\r\n",
       "}\r\n",
       "}\r\n",
       "comp usage \"evaluationFunction \" as E7  <<(T,blue) calculation>> [[psysml:1fa3686a-6014-4c73-9542-2575e26fd8a7 ]] {\r\n",
       "}\r\n",
       "comp usage \"alternative: Engine \" as E8  <<(T,blue) part>> [[psysml:79c1d929-0a70-426e-ae6d-56e5e3e776a6 ]] {\r\n",
       "}\r\n",
       "comp usage \"selectedAlternative: Engine \" as E9  <<(T,blue) part>> [[psysml:169f456a-e384-47f5-89e9-43fd13dd17eb ]] {\r\n",
       "}\r\n",
       "}\r\n",
       "E3 - -:|> E2 [[psysml:9be21745-fec5-4980-9af6-b796782d7969 ]] \r\n",
       "E4 - -:|> E2 [[psysml:1ad537aa-bda6-4221-a392-6db0b9fa994b ]] \r\n",
       "E5 ..> E2 [[psysml:ef23f2a8-b555-4000-b8d1-a9fc8ea83129 ]] : <<subject>>\r\n",
       "E5 *- - E7 [[psysml:3495a436-635c-4195-be5e-85a5d126f0e1 ]] \r\n",
       "E7 o- - \"1\"E8 [[psysml:e1d2632c-68a4-476d-b3ed-d8b6d2aaac51 ]] \r\n",
       "E8 - -:|> E2 [[psysml:a8ae8a0d-ad52-4d9e-986d-0c741d3467c2 ]] \r\n",
       "E5 o- - \"1\"E9 [[psysml:1023028c-00c5-4dde-9329-e4b02befe1ab ]] \r\n",
       "E9 - -:|> E2 [[psysml:d6cd1bf0-a8ac-42a9-91c6-4adc5d4642e7 ]] \r\n",
       "@enduml\r\n",
       "\n",
       "PlantUML version 1.2020.13(Sat Jun 13 12:26:38 UTC 2020)\n",
       "(EPL source distribution)\n",
       "Java Runtime: OpenJDK Runtime Environment\n",
       "JVM: OpenJDK 64-Bit Server VM\n",
       "Default Encoding: UTF-8\n",
       "Language: en\n",
       "Country: null\n",
       "--></g></svg>"
      ]
     },
     "execution_count": 29,
     "metadata": {},
     "output_type": "execute_result"
    }
   ],
   "source": [
    "%viz --style=\"STDCOLOR\" --view=\"MIXED\" \"TradeStudyTest\""
   ]
  },
  {
   "cell_type": "code",
   "execution_count": 30,
   "id": "9958d8d7",
   "metadata": {
    "execution": {
     "iopub.execute_input": "2022-02-18T10:50:36.893778Z",
     "iopub.status.busy": "2022-02-18T10:50:36.893377Z",
     "iopub.status.idle": "2022-02-18T10:50:36.958450Z",
     "shell.execute_reply": "2022-02-18T10:50:36.958101Z"
    }
   },
   "outputs": [
    {
     "data": {
      "image/svg+xml": [
       "<?xml version=\"1.0\" encoding=\"UTF-8\" standalone=\"no\"?><svg xmlns=\"http://www.w3.org/2000/svg\" xmlns:xlink=\"http://www.w3.org/1999/xlink\" contentScriptType=\"application/ecmascript\" contentStyleType=\"text/css\" height=\"539px\" preserveAspectRatio=\"none\" style=\"width:644px;height:539px;\" version=\"1.1\" viewBox=\"0 0 644 539\" width=\"644px\" zoomAndPan=\"magnify\"><defs><filter height=\"300%\" id=\"fipjjuuy3tegd\" width=\"300%\" x=\"-1\" y=\"-1\"><feGaussianBlur result=\"blurOut\" stdDeviation=\"2.0\"/><feColorMatrix in=\"blurOut\" result=\"blurOut2\" type=\"matrix\" values=\"0 0 0 0 0 0 0 0 0 0 0 0 0 0 0 0 0 0 .4 0\"/><feOffset dx=\"4.0\" dy=\"4.0\" in=\"blurOut2\" result=\"blurOut3\"/><feBlend in=\"SourceGraphic\" in2=\"blurOut3\" mode=\"normal\"/></filter></defs><g><!--MD5=[fbc87193dbaf4d95561dea2c320d4a47]\n",
       "cluster E1--><a href=\"psysml:9d3e1c5c-e45c-4a85-8e75-4ee823ac8fbf\" target=\"_top\" title=\"psysml:9d3e1c5c-e45c-4a85-8e75-4ee823ac8fbf\" xlink:actuate=\"onRequest\" xlink:href=\"psysml:9d3e1c5c-e45c-4a85-8e75-4ee823ac8fbf\" xlink:show=\"new\" xlink:title=\"psysml:9d3e1c5c-e45c-4a85-8e75-4ee823ac8fbf\" xlink:type=\"simple\"><polygon fill=\"#FFFFFF\" filter=\"url(#fipjjuuy3tegd)\" points=\"16,6,132,6,139,28.2969,622,28.2969,622,527,16,527,16,6\" style=\"stroke: #000000; stroke-width: 1.5;\"/><line style=\"stroke: #000000; stroke-width: 1.5;\" x1=\"16\" x2=\"139\" y1=\"28.2969\" y2=\"28.2969\"/><text fill=\"#000000\" font-family=\"sans-serif\" font-size=\"14\" font-weight=\"bold\" lengthAdjust=\"spacingAndGlyphs\" textLength=\"110\" x=\"20\" y=\"20.9951\">TradeStudyTest</text></a><!--MD5=[de5ec2e2e8f62f467e546659f5068c88]\n",
       "cluster E5--><a href=\"psysml:e12e8838-d64a-4336-9e52-2de97357eae2\" target=\"_top\" title=\"psysml:e12e8838-d64a-4336-9e52-2de97357eae2\" xlink:actuate=\"onRequest\" xlink:href=\"psysml:e12e8838-d64a-4336-9e52-2de97357eae2\" xlink:show=\"new\" xlink:title=\"psysml:e12e8838-d64a-4336-9e52-2de97357eae2\" xlink:type=\"simple\"><rect fill=\"#FFFFFF\" filter=\"url(#fipjjuuy3tegd)\" height=\"129\" id=\"E5\" rx=\"10\" ry=\"10\" style=\"stroke: #A80036; stroke-width: 1.5;\" width=\"225\" x=\"277\" y=\"57\"/><rect fill=\"#FEFECE\" height=\"37.9375\" rx=\"10\" ry=\"10\" style=\"stroke: #FEFECE; stroke-width: 1.5;\" width=\"225\" x=\"277\" y=\"57\"/><rect fill=\"#FEFECE\" height=\"10\" style=\"stroke: #FEFECE; stroke-width: 1.5;\" width=\"225\" x=\"277\" y=\"84.9375\"/><rect fill=\"none\" height=\"129\" id=\"E5\" rx=\"10\" ry=\"10\" style=\"stroke: #A80036; stroke-width: 1.5;\" width=\"225\" x=\"277\" y=\"57\"/><text fill=\"#000000\" font-family=\"sans-serif\" font-size=\"12\" font-style=\"italic\" lengthAdjust=\"spacingAndGlyphs\" textLength=\"64\" x=\"357.5\" y=\"73.1387\">«analysis»</text><text fill=\"#000000\" font-family=\"sans-serif\" font-size=\"12\" lengthAdjust=\"spacingAndGlyphs\" textLength=\"114\" x=\"332.5\" y=\"87.1074\">engineTradeStudy</text><line style=\"stroke: #A80036; stroke-width: 1.0;\" x1=\"277\" x2=\"502\" y1=\"94.9375\" y2=\"94.9375\"/></a><!--MD5=[b4997ac47864f28c2f74865a473b2911]\n",
       "class E2--><a href=\"psysml:956f1300-60cf-48ef-8161-7a381ae0bb8c\" target=\"_top\" title=\"psysml:956f1300-60cf-48ef-8161-7a381ae0bb8c\" xlink:actuate=\"onRequest\" xlink:href=\"psysml:956f1300-60cf-48ef-8161-7a381ae0bb8c\" xlink:show=\"new\" xlink:title=\"psysml:956f1300-60cf-48ef-8161-7a381ae0bb8c\" xlink:type=\"simple\"><rect fill=\"#FEFECE\" filter=\"url(#fipjjuuy3tegd)\" height=\"40\" id=\"E2\" style=\"stroke: #A80036; stroke-width: 1.5;\" width=\"75\" x=\"341.5\" y=\"471\"/><ellipse cx=\"356.5\" cy=\"487\" fill=\"#008000\" rx=\"11\" ry=\"11\" style=\"stroke: #A80036; stroke-width: 1.0;\"/><path d=\"M353.375,492 L353.375,481.4063 L356.6094,481.4063 Q358.5156,481.4063 359.4219,482.1563 Q360.3438,482.9063 360.3438,484.0781 Q360.3438,484.7656 359.9531,485.4219 Q359.5781,486.0781 358.8594,486.375 Q359.7188,486.75 360.2344,487.4375 Q360.75,488.125 360.75,488.9375 Q360.75,490.3125 359.7188,491.1563 Q358.7031,492 356.5938,492 L353.375,492 Z M355.2969,485.6406 L356.4531,485.6406 Q357.5781,485.6406 357.9844,485.2656 Q358.4063,484.875 358.4063,484.25 Q358.4063,483.6719 357.9844,483.3125 Q357.5625,482.9531 356.625,482.9531 L355.2969,482.9531 L355.2969,485.6406 Z M355.2969,490.4219 L356.7969,490.4219 Q357.7031,490.4219 358.2344,490.0313 Q358.7656,489.6406 358.7656,488.8906 Q358.7656,488.125 358.2656,487.6563 Q357.7656,487.1719 356.5,487.1719 L355.2969,487.1719 L355.2969,490.4219 Z \"/><text fill=\"#000000\" font-family=\"sans-serif\" font-size=\"12\" lengthAdjust=\"spacingAndGlyphs\" textLength=\"43\" x=\"370.5\" y=\"491.1543\">Engine</text><line style=\"stroke: #A80036; stroke-width: 1.5;\" x1=\"342.5\" x2=\"415.5\" y1=\"503\" y2=\"503\"/></a><!--MD5=[09b614a08d8cba4a07c9adeb5e0fee81]\n",
       "class E3--><a href=\"psysml:5ff7a686-dab8-41cf-8031-b7dccb26607b\" target=\"_top\" title=\"psysml:5ff7a686-dab8-41cf-8031-b7dccb26607b\" xlink:actuate=\"onRequest\" xlink:href=\"psysml:5ff7a686-dab8-41cf-8031-b7dccb26607b\" xlink:show=\"new\" xlink:title=\"psysml:5ff7a686-dab8-41cf-8031-b7dccb26607b\" xlink:type=\"simple\"><rect fill=\"#FEFECE\" filter=\"url(#fipjjuuy3tegd)\" height=\"45.9375\" id=\"E3\" rx=\"10\" ry=\"10\" style=\"stroke: #A80036; stroke-width: 1.5;\" width=\"138\" x=\"205\" y=\"364\"/><ellipse cx=\"220\" cy=\"382.9688\" fill=\"#32CD32\" rx=\"11\" ry=\"11\" style=\"stroke: #A80036; stroke-width: 1.0;\"/><path d=\"M216.8125,387.9688 L216.8125,377.375 L220.4219,377.375 Q221.6406,377.375 222.4375,377.8125 Q223.2344,378.2344 223.6094,378.9375 Q224,379.6406 224,380.4844 Q224,381.3281 223.625,382.0156 Q223.2656,382.7031 222.4688,383.125 Q221.6875,383.5313 220.5,383.5313 L218.7656,383.5313 L218.7656,387.9688 L216.8125,387.9688 Z M218.7656,381.9375 L220.375,381.9375 Q221.1875,381.9375 221.6094,381.5313 Q222.0313,381.125 222.0313,380.4844 Q222.0313,379.8594 221.6094,379.4531 Q221.1875,379.0469 220.3906,379.0469 L218.7656,379.0469 L218.7656,381.9375 Z \"/><text fill=\"#000000\" font-family=\"sans-serif\" font-size=\"12\" font-style=\"italic\" lengthAdjust=\"spacingAndGlyphs\" textLength=\"40\" x=\"267\" y=\"380.1387\">«part»</text><text fill=\"#000000\" font-family=\"sans-serif\" font-size=\"12\" lengthAdjust=\"spacingAndGlyphs\" textLength=\"102\" x=\"234\" y=\"394.1074\">engine1: Engine</text><line style=\"stroke: #A80036; stroke-width: 1.5;\" x1=\"206\" x2=\"342\" y1=\"401.9375\" y2=\"401.9375\"/></a><!--MD5=[ebbe1d658d1005bcc118a6aa81145e00]\n",
       "class E4--><a href=\"psysml:44e88bb9-9b84-4b3f-b104-23d7a257fb04\" target=\"_top\" title=\"psysml:44e88bb9-9b84-4b3f-b104-23d7a257fb04\" xlink:actuate=\"onRequest\" xlink:href=\"psysml:44e88bb9-9b84-4b3f-b104-23d7a257fb04\" xlink:show=\"new\" xlink:title=\"psysml:44e88bb9-9b84-4b3f-b104-23d7a257fb04\" xlink:type=\"simple\"><rect fill=\"#FEFECE\" filter=\"url(#fipjjuuy3tegd)\" height=\"45.9375\" id=\"E4\" rx=\"10\" ry=\"10\" style=\"stroke: #A80036; stroke-width: 1.5;\" width=\"138\" x=\"32\" y=\"364\"/><ellipse cx=\"47\" cy=\"382.9688\" fill=\"#32CD32\" rx=\"11\" ry=\"11\" style=\"stroke: #A80036; stroke-width: 1.0;\"/><path d=\"M43.8125,387.9688 L43.8125,377.375 L47.4219,377.375 Q48.6406,377.375 49.4375,377.8125 Q50.2344,378.2344 50.6094,378.9375 Q51,379.6406 51,380.4844 Q51,381.3281 50.625,382.0156 Q50.2656,382.7031 49.4688,383.125 Q48.6875,383.5313 47.5,383.5313 L45.7656,383.5313 L45.7656,387.9688 L43.8125,387.9688 Z M45.7656,381.9375 L47.375,381.9375 Q48.1875,381.9375 48.6094,381.5313 Q49.0313,381.125 49.0313,380.4844 Q49.0313,379.8594 48.6094,379.4531 Q48.1875,379.0469 47.3906,379.0469 L45.7656,379.0469 L45.7656,381.9375 Z \"/><text fill=\"#000000\" font-family=\"sans-serif\" font-size=\"12\" font-style=\"italic\" lengthAdjust=\"spacingAndGlyphs\" textLength=\"40\" x=\"94\" y=\"380.1387\">«part»</text><text fill=\"#000000\" font-family=\"sans-serif\" font-size=\"12\" lengthAdjust=\"spacingAndGlyphs\" textLength=\"102\" x=\"61\" y=\"394.1074\">engine2: Engine</text><line style=\"stroke: #A80036; stroke-width: 1.5;\" x1=\"33\" x2=\"169\" y1=\"401.9375\" y2=\"401.9375\"/></a><!--MD5=[2156ba9850f5573cc1fc38a6a4b2f02b]\n",
       "class E7--><a href=\"psysml:1fa3686a-6014-4c73-9542-2575e26fd8a7\" target=\"_top\" title=\"psysml:1fa3686a-6014-4c73-9542-2575e26fd8a7\" xlink:actuate=\"onRequest\" xlink:href=\"psysml:1fa3686a-6014-4c73-9542-2575e26fd8a7\" xlink:show=\"new\" xlink:title=\"psysml:1fa3686a-6014-4c73-9542-2575e26fd8a7\" xlink:type=\"simple\"><rect fill=\"#FEFECE\" filter=\"url(#fipjjuuy3tegd)\" height=\"45.9375\" id=\"E7\" rx=\"10\" ry=\"10\" style=\"stroke: #A80036; stroke-width: 1.5;\" width=\"155\" x=\"207.5\" y=\"241\"/><ellipse cx=\"222.5\" cy=\"259.9688\" fill=\"#FFA500\" rx=\"11\" ry=\"11\" style=\"stroke: #A80036; stroke-width: 1.0;\"/><path d=\"M222.25,265.4375 Q220.5,265.4375 219.5469,264.4063 Q218.6094,263.3594 218.6094,261.5156 L218.6094,254.625 L220.6719,254.625 L220.6719,254.7813 Q220.5781,254.875 220.5469,255.0156 Q220.5313,255.1406 220.5313,255.4063 L220.5313,261.5313 Q220.5313,262.625 220.9063,263.25 Q221.2813,263.875 222.2656,263.875 Q223.25,263.875 223.6406,263.25 Q224.0313,262.625 224.0313,261.4844 L224.0313,254.625 L225.9063,254.625 L225.9063,261.4688 Q225.9063,263.5 224.875,264.4688 Q223.8594,265.4375 222.25,265.4375 Z \"/><text fill=\"#000000\" font-family=\"sans-serif\" font-size=\"12\" font-style=\"italic\" lengthAdjust=\"spacingAndGlyphs\" textLength=\"82\" x=\"257\" y=\"257.1387\">«calculation»</text><text fill=\"#000000\" font-family=\"sans-serif\" font-size=\"12\" lengthAdjust=\"spacingAndGlyphs\" textLength=\"119\" x=\"236.5\" y=\"271.1074\">evaluationFunction</text><line style=\"stroke: #A80036; stroke-width: 1.5;\" x1=\"208.5\" x2=\"361.5\" y1=\"278.9375\" y2=\"278.9375\"/></a><!--MD5=[b9389687b975829384b498ac4b7476b2]\n",
       "class E8--><a href=\"psysml:79c1d929-0a70-426e-ae6d-56e5e3e776a6\" target=\"_top\" title=\"psysml:79c1d929-0a70-426e-ae6d-56e5e3e776a6\" xlink:actuate=\"onRequest\" xlink:href=\"psysml:79c1d929-0a70-426e-ae6d-56e5e3e776a6\" xlink:show=\"new\" xlink:title=\"psysml:79c1d929-0a70-426e-ae6d-56e5e3e776a6\" xlink:type=\"simple\"><rect fill=\"#FEFECE\" filter=\"url(#fipjjuuy3tegd)\" height=\"45.9375\" id=\"E8\" rx=\"10\" ry=\"10\" style=\"stroke: #A80036; stroke-width: 1.5;\" width=\"154\" x=\"415\" y=\"364\"/><ellipse cx=\"430\" cy=\"382.9688\" fill=\"#32CD32\" rx=\"11\" ry=\"11\" style=\"stroke: #A80036; stroke-width: 1.0;\"/><path d=\"M426.8125,387.9688 L426.8125,377.375 L430.4219,377.375 Q431.6406,377.375 432.4375,377.8125 Q433.2344,378.2344 433.6094,378.9375 Q434,379.6406 434,380.4844 Q434,381.3281 433.625,382.0156 Q433.2656,382.7031 432.4688,383.125 Q431.6875,383.5313 430.5,383.5313 L428.7656,383.5313 L428.7656,387.9688 L426.8125,387.9688 Z M428.7656,381.9375 L430.375,381.9375 Q431.1875,381.9375 431.6094,381.5313 Q432.0313,381.125 432.0313,380.4844 Q432.0313,379.8594 431.6094,379.4531 Q431.1875,379.0469 430.3906,379.0469 L428.7656,379.0469 L428.7656,381.9375 Z \"/><text fill=\"#000000\" font-family=\"sans-serif\" font-size=\"12\" font-style=\"italic\" lengthAdjust=\"spacingAndGlyphs\" textLength=\"40\" x=\"485\" y=\"380.1387\">«part»</text><text fill=\"#000000\" font-family=\"sans-serif\" font-size=\"12\" lengthAdjust=\"spacingAndGlyphs\" textLength=\"118\" x=\"444\" y=\"394.1074\">alternative: Engine</text><line style=\"stroke: #A80036; stroke-width: 1.5;\" x1=\"416\" x2=\"568\" y1=\"401.9375\" y2=\"401.9375\"/></a><!--MD5=[fd4143e9d270a159db93a4ea2a975926]\n",
       "class E9--><a href=\"psysml:169f456a-e384-47f5-89e9-43fd13dd17eb\" target=\"_top\" title=\"psysml:169f456a-e384-47f5-89e9-43fd13dd17eb\" xlink:actuate=\"onRequest\" xlink:href=\"psysml:169f456a-e384-47f5-89e9-43fd13dd17eb\" xlink:show=\"new\" xlink:title=\"psysml:169f456a-e384-47f5-89e9-43fd13dd17eb\" xlink:type=\"simple\"><rect fill=\"#FEFECE\" filter=\"url(#fipjjuuy3tegd)\" height=\"45.9375\" id=\"E9\" rx=\"10\" ry=\"10\" style=\"stroke: #A80036; stroke-width: 1.5;\" width=\"208\" x=\"398\" y=\"241\"/><ellipse cx=\"413\" cy=\"259.9688\" fill=\"#32CD32\" rx=\"11\" ry=\"11\" style=\"stroke: #A80036; stroke-width: 1.0;\"/><path d=\"M409.8125,264.9688 L409.8125,254.375 L413.4219,254.375 Q414.6406,254.375 415.4375,254.8125 Q416.2344,255.2344 416.6094,255.9375 Q417,256.6406 417,257.4844 Q417,258.3281 416.625,259.0156 Q416.2656,259.7031 415.4688,260.125 Q414.6875,260.5313 413.5,260.5313 L411.7656,260.5313 L411.7656,264.9688 L409.8125,264.9688 Z M411.7656,258.9375 L413.375,258.9375 Q414.1875,258.9375 414.6094,258.5313 Q415.0313,258.125 415.0313,257.4844 Q415.0313,256.8594 414.6094,256.4531 Q414.1875,256.0469 413.3906,256.0469 L411.7656,256.0469 L411.7656,258.9375 Z \"/><text fill=\"#000000\" font-family=\"sans-serif\" font-size=\"12\" font-style=\"italic\" lengthAdjust=\"spacingAndGlyphs\" textLength=\"40\" x=\"495\" y=\"257.1387\">«part»</text><text fill=\"#000000\" font-family=\"sans-serif\" font-size=\"12\" lengthAdjust=\"spacingAndGlyphs\" textLength=\"172\" x=\"427\" y=\"271.1074\">selectedAlternative: Engine</text><line style=\"stroke: #A80036; stroke-width: 1.5;\" x1=\"399\" x2=\"605\" y1=\"278.9375\" y2=\"278.9375\"/></a><!--MD5=[60a26617385b1d2d0262a64233df1f8d]\n",
       "class E6--><a href=\"psysml:9a804e4d-bc47-4ee7-a2d8-d8527e0c1caf\" target=\"_top\" title=\"psysml:9a804e4d-bc47-4ee7-a2d8-d8527e0c1caf\" xlink:actuate=\"onRequest\" xlink:href=\"psysml:9a804e4d-bc47-4ee7-a2d8-d8527e0c1caf\" xlink:show=\"new\" xlink:title=\"psysml:9a804e4d-bc47-4ee7-a2d8-d8527e0c1caf\" xlink:type=\"simple\"><rect fill=\"#FEFECE\" filter=\"url(#fipjjuuy3tegd)\" height=\"45.9375\" id=\"E6\" rx=\"10\" ry=\"10\" style=\"stroke: #A80036; stroke-width: 1.5;\" width=\"158\" x=\"320\" y=\"116\"/><ellipse cx=\"335\" cy=\"134.9688\" fill=\"#B6DBBB\" rx=\"11\" ry=\"11\" style=\"stroke: #A80036; stroke-width: 1.0;\"/><path d=\"M334.75,140.4375 Q333,140.4375 332.0469,139.4063 Q331.1094,138.3594 331.1094,136.5156 L331.1094,129.625 L333.1719,129.625 L333.1719,129.7813 Q333.0781,129.875 333.0469,130.0156 Q333.0313,130.1406 333.0313,130.4063 L333.0313,136.5313 Q333.0313,137.625 333.4063,138.25 Q333.7813,138.875 334.7656,138.875 Q335.75,138.875 336.1406,138.25 Q336.5313,137.625 336.5313,136.4844 L336.5313,129.625 L338.4063,129.625 L338.4063,136.4688 Q338.4063,138.5 337.375,139.4688 Q336.3594,140.4375 334.75,140.4375 Z \"/><text fill=\"#000000\" font-family=\"sans-serif\" font-size=\"12\" font-style=\"italic\" lengthAdjust=\"spacingAndGlyphs\" textLength=\"70\" x=\"377\" y=\"132.1387\">«objective»</text><text fill=\"#000000\" font-family=\"sans-serif\" font-size=\"12\" lengthAdjust=\"spacingAndGlyphs\" textLength=\"126\" x=\"349\" y=\"146.1074\">tradeStudyObjective</text><line style=\"stroke: #A80036; stroke-width: 1.5;\" x1=\"321\" x2=\"477\" y1=\"153.9375\" y2=\"153.9375\"/></a><!--MD5=[05d275557350bfb9b23a4ef7222b4c39]\n",
       "link E3 to E2--><a href=\"psysml:9be21745-fec5-4980-9af6-b796782d7969\" target=\"_top\" title=\"psysml:9be21745-fec5-4980-9af6-b796782d7969\" xlink:actuate=\"onRequest\" xlink:href=\"psysml:9be21745-fec5-4980-9af6-b796782d7969\" xlink:show=\"new\" xlink:title=\"psysml:9be21745-fec5-4980-9af6-b796782d7969\" xlink:type=\"simple\"><path d=\"M296.78,410.13 C310.81,423.76 329.05,441.47 344.78,456.76 \" fill=\"none\" id=\"E3-&gt;E2\" style=\"stroke: #A80036; stroke-width: 1.0;\"/><polygon fill=\"#FFFFFF\" points=\"359.44,471,340.9371,462.7755,350.6956,452.737,359.44,471\" style=\"stroke: #A80036; stroke-width: 1.0;\"/><ellipse cx=\"338.2441\" cy=\"457.3683\" fill=\"#A80036\" rx=\"2\" ry=\"2\" style=\"stroke: #A80036; stroke-width: 1.0;\"/><ellipse cx=\"345.2144\" cy=\"450.198\" fill=\"#A80036\" rx=\"2\" ry=\"2\" style=\"stroke: #A80036; stroke-width: 1.0;\"/></a><!--MD5=[185131fc0dcab0a4505a2ebe144e961b]\n",
       "link E4 to E2--><a href=\"psysml:1ad537aa-bda6-4221-a392-6db0b9fa994b\" target=\"_top\" title=\"psysml:1ad537aa-bda6-4221-a392-6db0b9fa994b\" xlink:actuate=\"onRequest\" xlink:href=\"psysml:1ad537aa-bda6-4221-a392-6db0b9fa994b\" xlink:show=\"new\" xlink:title=\"psysml:1ad537aa-bda6-4221-a392-6db0b9fa994b\" xlink:type=\"simple\"><path d=\"M160.98,410.01 C208.88,427.58 275.54,452.04 322.51,469.27 \" fill=\"none\" id=\"E4-&gt;E2\" style=\"stroke: #A80036; stroke-width: 1.0;\"/><polygon fill=\"#FFFFFF\" points=\"341.32,476.17,321.0716,476.2036,325.8897,463.0588,341.32,476.17\" style=\"stroke: #A80036; stroke-width: 1.0;\"/><ellipse cx=\"316.4081\" cy=\"472.3641\" fill=\"#A80036\" rx=\"2\" ry=\"2\" style=\"stroke: #A80036; stroke-width: 1.0;\"/><ellipse cx=\"319.8496\" cy=\"462.9749\" fill=\"#A80036\" rx=\"2\" ry=\"2\" style=\"stroke: #A80036; stroke-width: 1.0;\"/></a><!--MD5=[15ebcb19ae302d9b601edb458606d402]\n",
       "link E5 to E2--><a href=\"psysml:ef23f2a8-b555-4000-b8d1-a9fc8ea83129\" target=\"_top\" title=\"psysml:ef23f2a8-b555-4000-b8d1-a9fc8ea83129\" xlink:actuate=\"onRequest\" xlink:href=\"psysml:ef23f2a8-b555-4000-b8d1-a9fc8ea83129\" xlink:show=\"new\" xlink:title=\"psysml:ef23f2a8-b555-4000-b8d1-a9fc8ea83129\" xlink:type=\"simple\"><path d=\"M276.7856,145.1967 C276.6545,145.2825 276.5222,145.3694 276.3885,145.4572 C275.8538,145.8084 275.2982,146.1754 274.7228,146.5578 C273.5721,147.3226 272.3422,148.149 271.0425,149.0341 C268.4431,150.8042 265.5642,152.8092 262.4795,155.0263 C250.1409,163.8944 234.5106,176.155 220.3087,190.3475 C191.905,218.7325 169.215,254.845 190,287 C212.62,322 335.95,330.69 361,364 C383.16,393.47 384.08,438.06 382.03,465.53 \" fill=\"none\" id=\"E5-&gt;E2\" style=\"stroke: #A80036; stroke-width: 1.0; stroke-dasharray: 7.0,7.0;\"/><polygon fill=\"#A80036\" points=\"381.59,470.79,386.3482,462.1668,382.0194,465.8085,378.3778,461.4797,381.59,470.79\" style=\"stroke: #A80036; stroke-width: 1.0;\"/><text fill=\"#000000\" font-family=\"sans-serif\" font-size=\"13\" lengthAdjust=\"spacingAndGlyphs\" textLength=\"62\" x=\"301\" y=\"330.0669\">«subject»</text></a><!--MD5=[452b418e7f8a40397a49b8c0a78acc5b]\n",
       "reverse link E5 to E7--><a href=\"psysml:3495a436-635c-4195-be5e-85a5d126f0e1\" target=\"_top\" title=\"psysml:3495a436-635c-4195-be5e-85a5d126f0e1\" xlink:actuate=\"onRequest\" xlink:href=\"psysml:3495a436-635c-4195-be5e-85a5d126f0e1\" xlink:show=\"new\" xlink:title=\"psysml:3495a436-635c-4195-be5e-85a5d126f0e1\" xlink:type=\"simple\"><path d=\"M285,186.2997 C285,188.9655 285,191.6719 285,194.3971 C285,199.8476 285,205.3735 285,210.8005 C285,221.6544 285,232.1125 285,240.78 \" fill=\"none\" id=\"E5&lt;-E7\" style=\"stroke: #A80036; stroke-width: 1.0;\"/><polygon fill=\"#A80036\" points=\"285,186.2997,281,192.2997,285,198.2997,289,192.2997,285,186.2997\" style=\"stroke: #A80036; stroke-width: 1.0;\"/></a><!--MD5=[dc164f5e8a733ab456ef1add180e9e34]\n",
       "reverse link E7 to E8--><a href=\"psysml:e1d2632c-68a4-476d-b3ed-d8b6d2aaac51\" target=\"_top\" title=\"psysml:e1d2632c-68a4-476d-b3ed-d8b6d2aaac51\" xlink:actuate=\"onRequest\" xlink:href=\"psysml:e1d2632c-68a4-476d-b3ed-d8b6d2aaac51\" xlink:show=\"new\" xlink:title=\"psysml:e1d2632c-68a4-476d-b3ed-d8b6d2aaac51\" xlink:type=\"simple\"><path d=\"M334.43,293.89 C371.2,315.39 420.65,344.29 454.27,363.95 \" fill=\"none\" id=\"E7&lt;-E8\" style=\"stroke: #A80036; stroke-width: 1.0;\"/><polygon fill=\"#FFFFFF\" points=\"322.97,287.19,326.1244,293.6746,333.3234,293.2569,330.169,286.7723,322.97,287.19\" style=\"stroke: #A80036; stroke-width: 1.0;\"/><text fill=\"#000000\" font-family=\"sans-serif\" font-size=\"13\" lengthAdjust=\"spacingAndGlyphs\" textLength=\"8\" x=\"435.0551\" y=\"352.8328\">1</text></a><!--MD5=[f1f3f9f2fc535e6147756cb86a7f2e32]\n",
       "link E8 to E2--><a href=\"psysml:a8ae8a0d-ad52-4d9e-986d-0c741d3467c2\" target=\"_top\" title=\"psysml:a8ae8a0d-ad52-4d9e-986d-0c741d3467c2\" xlink:actuate=\"onRequest\" xlink:href=\"psysml:a8ae8a0d-ad52-4d9e-986d-0c741d3467c2\" xlink:show=\"new\" xlink:title=\"psysml:a8ae8a0d-ad52-4d9e-986d-0c741d3467c2\" xlink:type=\"simple\"><path d=\"M467.48,410.13 C452.15,423.97 432.14,442.03 415.03,457.48 \" fill=\"none\" id=\"E8-&gt;E2\" style=\"stroke: #A80036; stroke-width: 1.0;\"/><polygon fill=\"#FFFFFF\" points=\"400.05,471,409.4622,453.0721,418.8438,463.4638,400.05,471\" style=\"stroke: #A80036; stroke-width: 1.0;\"/><ellipse cx=\"415.0334\" cy=\"450.737\" fill=\"#A80036\" rx=\"2\" ry=\"2\" style=\"stroke: #A80036; stroke-width: 1.0;\"/><ellipse cx=\"421.7344\" cy=\"458.1596\" fill=\"#A80036\" rx=\"2\" ry=\"2\" style=\"stroke: #A80036; stroke-width: 1.0;\"/></a><!--MD5=[9ae28de373ca99bb8a1b38d63370ca7e]\n",
       "reverse link E5 to E9--><a href=\"psysml:1023028c-00c5-4dde-9329-e4b02befe1ab\" target=\"_top\" title=\"psysml:1023028c-00c5-4dde-9329-e4b02befe1ab\" xlink:actuate=\"onRequest\" xlink:href=\"psysml:1023028c-00c5-4dde-9329-e4b02befe1ab\" xlink:show=\"new\" xlink:title=\"psysml:1023028c-00c5-4dde-9329-e4b02befe1ab\" xlink:type=\"simple\"><path d=\"M293.4869,186.169 C293.5772,186.3709 293.6685,186.5724 293.7608,186.7735 C294.1299,187.5776 294.5144,188.3746 294.9149,189.1626 C295.7161,190.7385 296.5816,192.2785 297.5165,193.7687 C299.3863,196.7491 301.5338,199.53 304,202 C318.52,216.54 359.51,230.25 400.46,240.98 \" fill=\"none\" id=\"E5&lt;-E9\" style=\"stroke: #A80036; stroke-width: 1.0;\"/><polygon fill=\"#FFFFFF\" points=\"293.4869,186.169,292.2862,193.2794,298.3879,197.1225,299.5886,190.0121,293.4869,186.169\" style=\"stroke: #A80036; stroke-width: 1.0;\"/><text fill=\"#000000\" font-family=\"sans-serif\" font-size=\"13\" lengthAdjust=\"spacingAndGlyphs\" textLength=\"8\" x=\"382.0709\" y=\"235.0522\">1</text></a><!--MD5=[5c3bb36fe832a92c7f0e1807dd65209d]\n",
       "link E9 to E2--><a href=\"psysml:d6cd1bf0-a8ac-42a9-91c6-4adc5d4642e7\" target=\"_top\" title=\"psysml:d6cd1bf0-a8ac-42a9-91c6-4adc5d4642e7\" xlink:actuate=\"onRequest\" xlink:href=\"psysml:d6cd1bf0-a8ac-42a9-91c6-4adc5d4642e7\" xlink:show=\"new\" xlink:title=\"psysml:d6cd1bf0-a8ac-42a9-91c6-4adc5d4642e7\" xlink:type=\"simple\"><path d=\"M531.42,287.22 C566.15,316.2 615.74,368.15 587,410 C553.53,458.73 485.93,477.79 436.85,485.24 \" fill=\"none\" id=\"E9-&gt;E2\" style=\"stroke: #A80036; stroke-width: 1.0;\"/><polygon fill=\"#FFFFFF\" points=\"416.78,487.8,434.7361,478.4417,436.5157,492.3281,416.78,487.8\" style=\"stroke: #A80036; stroke-width: 1.0;\"/><ellipse cx=\"440.6441\" cy=\"479.7009\" fill=\"#A80036\" rx=\"2\" ry=\"2\" style=\"stroke: #A80036; stroke-width: 1.0;\"/><ellipse cx=\"441.9152\" cy=\"489.6198\" fill=\"#A80036\" rx=\"2\" ry=\"2\" style=\"stroke: #A80036; stroke-width: 1.0;\"/></a><!--MD5=[0e461f1ce156bcefc08934b2e018fc6a]\n",
       "@startuml\r\n",
       " \r\n",
       "package \"TradeStudyTest\" as E1  [[psysml:9d3e1c5c-e45c-4a85-8e75-4ee823ac8fbf ]]  {\r\n",
       "comp def \"Engine\" as E2 << << (B,green) >> [[psysml:956f1300-60cf-48ef-8161-7a381ae0bb8c ]] {\r\n",
       "}\r\n",
       "comp usage \"engine1: Engine \" as E3 << << (P,limegreen) part>> [[psysml:5ff7a686-dab8-41cf-8031-b7dccb26607b ]] {\r\n",
       "}\r\n",
       "comp usage \"engine2: Engine \" as E4 << << (P,limegreen) part>> [[psysml:44e88bb9-9b84-4b3f-b104-23d7a257fb04 ]] {\r\n",
       "}\r\n",
       "rec usage \"engineTradeStudy\" as E5 << analysis>> [[psysml:e12e8838-d64a-4336-9e52-2de97357eae2 ]] {\r\n",
       "comp usage \"tradeStudyObjective\" as E6  <<objective>> [[psysml:9a804e4d-bc47-4ee7-a2d8-d8527e0c1caf ]] {\r\n",
       "}\r\n",
       "}\r\n",
       "comp usage \"evaluationFunction \" as E7 << <<(U,orange) calculation>> [[psysml:1fa3686a-6014-4c73-9542-2575e26fd8a7 ]] {\r\n",
       "}\r\n",
       "comp usage \"alternative: Engine \" as E8 << << (P,limegreen) part>> [[psysml:79c1d929-0a70-426e-ae6d-56e5e3e776a6 ]] {\r\n",
       "}\r\n",
       "comp usage \"selectedAlternative: Engine \" as E9 << << (P,limegreen) part>> [[psysml:169f456a-e384-47f5-89e9-43fd13dd17eb ]] {\r\n",
       "}\r\n",
       "}\r\n",
       "E3 - -:|> E2 [[psysml:9be21745-fec5-4980-9af6-b796782d7969 ]] \r\n",
       "E4 - -:|> E2 [[psysml:1ad537aa-bda6-4221-a392-6db0b9fa994b ]] \r\n",
       "E5 ..> E2 [[psysml:ef23f2a8-b555-4000-b8d1-a9fc8ea83129 ]] : <<subject>>\r\n",
       "E5 *- - E7 [[psysml:3495a436-635c-4195-be5e-85a5d126f0e1 ]] \r\n",
       "E7 o- - \"1\"E8 [[psysml:e1d2632c-68a4-476d-b3ed-d8b6d2aaac51 ]] \r\n",
       "E8 - -:|> E2 [[psysml:a8ae8a0d-ad52-4d9e-986d-0c741d3467c2 ]] \r\n",
       "E5 o- - \"1\"E9 [[psysml:1023028c-00c5-4dde-9329-e4b02befe1ab ]] \r\n",
       "E9 - -:|> E2 [[psysml:d6cd1bf0-a8ac-42a9-91c6-4adc5d4642e7 ]] \r\n",
       "@enduml\r\n",
       "\n",
       "PlantUML version 1.2020.13(Sat Jun 13 12:26:38 UTC 2020)\n",
       "(EPL source distribution)\n",
       "Java Runtime: OpenJDK Runtime Environment\n",
       "JVM: OpenJDK 64-Bit Server VM\n",
       "Default Encoding: UTF-8\n",
       "Language: en\n",
       "Country: null\n",
       "--></g></svg>"
      ]
     },
     "execution_count": 30,
     "metadata": {},
     "output_type": "execute_result"
    }
   ],
   "source": [
    "%viz --style=\"PLANTUML\" --view=\"Default\" \"TradeStudyTest\""
   ]
  },
  {
   "cell_type": "code",
   "execution_count": 31,
   "id": "4fef8c15",
   "metadata": {
    "execution": {
     "iopub.execute_input": "2022-02-18T10:50:37.008037Z",
     "iopub.status.busy": "2022-02-18T10:50:37.007639Z",
     "iopub.status.idle": "2022-02-18T10:50:37.051786Z",
     "shell.execute_reply": "2022-02-18T10:50:37.051438Z"
    }
   },
   "outputs": [
    {
     "data": {
      "image/svg+xml": [
       "<?xml version=\"1.0\" encoding=\"UTF-8\" standalone=\"no\"?><svg xmlns=\"http://www.w3.org/2000/svg\" xmlns:xlink=\"http://www.w3.org/1999/xlink\" contentScriptType=\"application/ecmascript\" contentStyleType=\"text/css\" height=\"491px\" preserveAspectRatio=\"none\" style=\"width:649px;height:491px;\" version=\"1.1\" viewBox=\"0 0 649 491\" width=\"649px\" zoomAndPan=\"magnify\"><defs><filter height=\"300%\" id=\"fmlgof3u8pqn0\" width=\"300%\" x=\"-1\" y=\"-1\"><feGaussianBlur result=\"blurOut\" stdDeviation=\"2.0\"/><feColorMatrix in=\"blurOut\" result=\"blurOut2\" type=\"matrix\" values=\"0 0 0 0 0 0 0 0 0 0 0 0 0 0 0 0 0 0 .4 0\"/><feOffset dx=\"4.0\" dy=\"4.0\" in=\"blurOut2\" result=\"blurOut3\"/><feBlend in=\"SourceGraphic\" in2=\"blurOut3\" mode=\"normal\"/></filter></defs><g><!--MD5=[fbc87193dbaf4d95561dea2c320d4a47]\n",
       "cluster E1--><a href=\"psysml:9d3e1c5c-e45c-4a85-8e75-4ee823ac8fbf\" target=\"_top\" title=\"psysml:9d3e1c5c-e45c-4a85-8e75-4ee823ac8fbf\" xlink:actuate=\"onRequest\" xlink:href=\"psysml:9d3e1c5c-e45c-4a85-8e75-4ee823ac8fbf\" xlink:show=\"new\" xlink:title=\"psysml:9d3e1c5c-e45c-4a85-8e75-4ee823ac8fbf\" xlink:type=\"simple\"><polygon fill=\"#FFFFFF\" filter=\"url(#fmlgof3u8pqn0)\" points=\"21.35,6,137.35,6,144.35,28.2969,627.35,28.2969,627.35,479,21.35,479,21.35,6\" style=\"stroke: #000000; stroke-width: 1.5;\"/><line style=\"stroke: #000000; stroke-width: 1.5;\" x1=\"21.35\" x2=\"144.35\" y1=\"28.2969\" y2=\"28.2969\"/><text fill=\"#000000\" font-family=\"sans-serif\" font-size=\"14\" font-weight=\"bold\" lengthAdjust=\"spacingAndGlyphs\" textLength=\"110\" x=\"25.35\" y=\"20.9951\">TradeStudyTest</text></a><!--MD5=[b4997ac47864f28c2f74865a473b2911]\n",
       "class E2--><a href=\"psysml:956f1300-60cf-48ef-8161-7a381ae0bb8c\" target=\"_top\" title=\"psysml:956f1300-60cf-48ef-8161-7a381ae0bb8c\" xlink:actuate=\"onRequest\" xlink:href=\"psysml:956f1300-60cf-48ef-8161-7a381ae0bb8c\" xlink:show=\"new\" xlink:title=\"psysml:956f1300-60cf-48ef-8161-7a381ae0bb8c\" xlink:type=\"simple\"><rect fill=\"#FEFECE\" filter=\"url(#fmlgof3u8pqn0)\" height=\"40\" id=\"E2\" style=\"stroke: #A80036; stroke-width: 1.5;\" width=\"75\" x=\"226.85\" y=\"423\"/><ellipse cx=\"241.85\" cy=\"439\" fill=\"#008000\" rx=\"11\" ry=\"11\" style=\"stroke: #A80036; stroke-width: 1.0;\"/><path d=\"M238.725,444 L238.725,433.4063 L241.9594,433.4063 Q243.8656,433.4063 244.7719,434.1563 Q245.6938,434.9063 245.6938,436.0781 Q245.6938,436.7656 245.3031,437.4219 Q244.9281,438.0781 244.2094,438.375 Q245.0688,438.75 245.5844,439.4375 Q246.1,440.125 246.1,440.9375 Q246.1,442.3125 245.0688,443.1563 Q244.0531,444 241.9438,444 L238.725,444 Z M240.6469,437.6406 L241.8031,437.6406 Q242.9281,437.6406 243.3344,437.2656 Q243.7563,436.875 243.7563,436.25 Q243.7563,435.6719 243.3344,435.3125 Q242.9125,434.9531 241.975,434.9531 L240.6469,434.9531 L240.6469,437.6406 Z M240.6469,442.4219 L242.1469,442.4219 Q243.0531,442.4219 243.5844,442.0313 Q244.1156,441.6406 244.1156,440.8906 Q244.1156,440.125 243.6156,439.6563 Q243.1156,439.1719 241.85,439.1719 L240.6469,439.1719 L240.6469,442.4219 Z \"/><text fill=\"#000000\" font-family=\"sans-serif\" font-size=\"12\" lengthAdjust=\"spacingAndGlyphs\" textLength=\"43\" x=\"255.85\" y=\"443.1543\">Engine</text><line style=\"stroke: #A80036; stroke-width: 1.5;\" x1=\"227.85\" x2=\"300.85\" y1=\"455\" y2=\"455\"/></a><!--MD5=[09b614a08d8cba4a07c9adeb5e0fee81]\n",
       "class E3--><a href=\"psysml:5ff7a686-dab8-41cf-8031-b7dccb26607b\" target=\"_top\" title=\"psysml:5ff7a686-dab8-41cf-8031-b7dccb26607b\" xlink:actuate=\"onRequest\" xlink:href=\"psysml:5ff7a686-dab8-41cf-8031-b7dccb26607b\" xlink:show=\"new\" xlink:title=\"psysml:5ff7a686-dab8-41cf-8031-b7dccb26607b\" xlink:type=\"simple\"><rect fill=\"#FEFECE\" filter=\"url(#fmlgof3u8pqn0)\" height=\"45.9375\" id=\"E3\" rx=\"10\" ry=\"10\" style=\"stroke: #A80036; stroke-width: 1.5;\" width=\"138\" x=\"473.35\" y=\"316\"/><ellipse cx=\"488.35\" cy=\"334.9688\" fill=\"#32CD32\" rx=\"11\" ry=\"11\" style=\"stroke: #A80036; stroke-width: 1.0;\"/><path d=\"M485.1625,339.9688 L485.1625,329.375 L488.7719,329.375 Q489.9906,329.375 490.7875,329.8125 Q491.5844,330.2344 491.9594,330.9375 Q492.35,331.6406 492.35,332.4844 Q492.35,333.3281 491.975,334.0156 Q491.6156,334.7031 490.8188,335.125 Q490.0375,335.5313 488.85,335.5313 L487.1156,335.5313 L487.1156,339.9688 L485.1625,339.9688 Z M487.1156,333.9375 L488.725,333.9375 Q489.5375,333.9375 489.9594,333.5313 Q490.3813,333.125 490.3813,332.4844 Q490.3813,331.8594 489.9594,331.4531 Q489.5375,331.0469 488.7406,331.0469 L487.1156,331.0469 L487.1156,333.9375 Z \"/><text fill=\"#000000\" font-family=\"sans-serif\" font-size=\"12\" font-style=\"italic\" lengthAdjust=\"spacingAndGlyphs\" textLength=\"40\" x=\"535.35\" y=\"332.1387\">«part»</text><text fill=\"#000000\" font-family=\"sans-serif\" font-size=\"12\" lengthAdjust=\"spacingAndGlyphs\" textLength=\"102\" x=\"502.35\" y=\"346.1074\">engine1: Engine</text><line style=\"stroke: #A80036; stroke-width: 1.5;\" x1=\"474.35\" x2=\"610.35\" y1=\"353.9375\" y2=\"353.9375\"/></a><!--MD5=[ebbe1d658d1005bcc118a6aa81145e00]\n",
       "class E4--><a href=\"psysml:44e88bb9-9b84-4b3f-b104-23d7a257fb04\" target=\"_top\" title=\"psysml:44e88bb9-9b84-4b3f-b104-23d7a257fb04\" xlink:actuate=\"onRequest\" xlink:href=\"psysml:44e88bb9-9b84-4b3f-b104-23d7a257fb04\" xlink:show=\"new\" xlink:title=\"psysml:44e88bb9-9b84-4b3f-b104-23d7a257fb04\" xlink:type=\"simple\"><rect fill=\"#FEFECE\" filter=\"url(#fmlgof3u8pqn0)\" height=\"45.9375\" id=\"E4\" rx=\"10\" ry=\"10\" style=\"stroke: #A80036; stroke-width: 1.5;\" width=\"138\" x=\"300.35\" y=\"316\"/><ellipse cx=\"315.35\" cy=\"334.9688\" fill=\"#32CD32\" rx=\"11\" ry=\"11\" style=\"stroke: #A80036; stroke-width: 1.0;\"/><path d=\"M312.1625,339.9688 L312.1625,329.375 L315.7719,329.375 Q316.9906,329.375 317.7875,329.8125 Q318.5844,330.2344 318.9594,330.9375 Q319.35,331.6406 319.35,332.4844 Q319.35,333.3281 318.975,334.0156 Q318.6156,334.7031 317.8188,335.125 Q317.0375,335.5313 315.85,335.5313 L314.1156,335.5313 L314.1156,339.9688 L312.1625,339.9688 Z M314.1156,333.9375 L315.725,333.9375 Q316.5375,333.9375 316.9594,333.5313 Q317.3813,333.125 317.3813,332.4844 Q317.3813,331.8594 316.9594,331.4531 Q316.5375,331.0469 315.7406,331.0469 L314.1156,331.0469 L314.1156,333.9375 Z \"/><text fill=\"#000000\" font-family=\"sans-serif\" font-size=\"12\" font-style=\"italic\" lengthAdjust=\"spacingAndGlyphs\" textLength=\"40\" x=\"362.35\" y=\"332.1387\">«part»</text><text fill=\"#000000\" font-family=\"sans-serif\" font-size=\"12\" lengthAdjust=\"spacingAndGlyphs\" textLength=\"102\" x=\"329.35\" y=\"346.1074\">engine2: Engine</text><line style=\"stroke: #A80036; stroke-width: 1.5;\" x1=\"301.35\" x2=\"437.35\" y1=\"353.9375\" y2=\"353.9375\"/></a><!--MD5=[270fce915f116d4de14055a7c1d9a0f3]\n",
       "class E5--><a href=\"psysml:e12e8838-d64a-4336-9e52-2de97357eae2\" target=\"_top\" title=\"psysml:e12e8838-d64a-4336-9e52-2de97357eae2\" xlink:actuate=\"onRequest\" xlink:href=\"psysml:e12e8838-d64a-4336-9e52-2de97357eae2\" xlink:show=\"new\" xlink:title=\"psysml:e12e8838-d64a-4336-9e52-2de97357eae2\" xlink:type=\"simple\"><rect fill=\"#FEFECE\" filter=\"url(#fmlgof3u8pqn0)\" height=\"45.9375\" id=\"E5\" rx=\"10\" ry=\"10\" style=\"stroke: #A80036; stroke-width: 1.5;\" width=\"229\" x=\"286.85\" y=\"41\"/><ellipse cx=\"301.85\" cy=\"59.9688\" fill=\"#B6DBBB\" rx=\"11\" ry=\"11\" style=\"stroke: #A80036; stroke-width: 1.0;\"/><path d=\"M301.6,65.4375 Q299.85,65.4375 298.8969,64.4063 Q297.9594,63.3594 297.9594,61.5156 L297.9594,54.625 L300.0219,54.625 L300.0219,54.7813 Q299.9281,54.875 299.8969,55.0156 Q299.8813,55.1406 299.8813,55.4063 L299.8813,61.5313 Q299.8813,62.625 300.2563,63.25 Q300.6313,63.875 301.6156,63.875 Q302.6,63.875 302.9906,63.25 Q303.3813,62.625 303.3813,61.4844 L303.3813,54.625 L305.2563,54.625 L305.2563,61.4688 Q305.2563,63.5 304.225,64.4688 Q303.2094,65.4375 301.6,65.4375 Z \"/><text fill=\"#000000\" font-family=\"sans-serif\" font-size=\"12\" font-style=\"italic\" lengthAdjust=\"spacingAndGlyphs\" textLength=\"64\" x=\"382.35\" y=\"57.1387\">«analysis»</text><text fill=\"#000000\" font-family=\"sans-serif\" font-size=\"12\" lengthAdjust=\"spacingAndGlyphs\" textLength=\"193\" x=\"315.85\" y=\"71.1074\">engineTradeStudy: TradeStudy</text><line style=\"stroke: #A80036; stroke-width: 1.5;\" x1=\"287.85\" x2=\"514.85\" y1=\"78.9375\" y2=\"78.9375\"/></a><!--MD5=[60a26617385b1d2d0262a64233df1f8d]\n",
       "class E6--><a href=\"psysml:9a804e4d-bc47-4ee7-a2d8-d8527e0c1caf\" target=\"_top\" title=\"psysml:9a804e4d-bc47-4ee7-a2d8-d8527e0c1caf\" xlink:actuate=\"onRequest\" xlink:href=\"psysml:9a804e4d-bc47-4ee7-a2d8-d8527e0c1caf\" xlink:show=\"new\" xlink:title=\"psysml:9a804e4d-bc47-4ee7-a2d8-d8527e0c1caf\" xlink:type=\"simple\"><rect fill=\"#FEFECE\" filter=\"url(#fmlgof3u8pqn0)\" height=\"45.9375\" id=\"E6\" rx=\"10\" ry=\"10\" style=\"stroke: #A80036; stroke-width: 1.5;\" width=\"281\" x=\"102.85\" y=\"164\"/><ellipse cx=\"117.85\" cy=\"182.9688\" fill=\"#FFA500\" rx=\"11\" ry=\"11\" style=\"stroke: #A80036; stroke-width: 1.0;\"/><path d=\"M117.6,188.4375 Q115.85,188.4375 114.8969,187.4063 Q113.9594,186.3594 113.9594,184.5156 L113.9594,177.625 L116.0219,177.625 L116.0219,177.7813 Q115.9281,177.875 115.8969,178.0156 Q115.8813,178.1406 115.8813,178.4063 L115.8813,184.5313 Q115.8813,185.625 116.2563,186.25 Q116.6313,186.875 117.6156,186.875 Q118.6,186.875 118.9906,186.25 Q119.3813,185.625 119.3813,184.4844 L119.3813,177.625 L121.2563,177.625 L121.2563,184.4688 Q121.2563,186.5 120.225,187.4688 Q119.2094,188.4375 117.6,188.4375 Z \"/><text fill=\"#000000\" font-family=\"sans-serif\" font-size=\"12\" font-style=\"italic\" lengthAdjust=\"spacingAndGlyphs\" textLength=\"91\" x=\"210.85\" y=\"180.1387\">«requirement»</text><text fill=\"#000000\" font-family=\"sans-serif\" font-size=\"12\" lengthAdjust=\"spacingAndGlyphs\" textLength=\"245\" x=\"131.85\" y=\"194.1074\">tradeStudyObjective: MaximizeObjective</text><line style=\"stroke: #A80036; stroke-width: 1.5;\" x1=\"103.85\" x2=\"382.85\" y1=\"201.9375\" y2=\"201.9375\"/></a><!--MD5=[2156ba9850f5573cc1fc38a6a4b2f02b]\n",
       "class E7--><a href=\"psysml:1fa3686a-6014-4c73-9542-2575e26fd8a7\" target=\"_top\" title=\"psysml:1fa3686a-6014-4c73-9542-2575e26fd8a7\" xlink:actuate=\"onRequest\" xlink:href=\"psysml:1fa3686a-6014-4c73-9542-2575e26fd8a7\" xlink:show=\"new\" xlink:title=\"psysml:1fa3686a-6014-4c73-9542-2575e26fd8a7\" xlink:type=\"simple\"><rect fill=\"#FEFECE\" filter=\"url(#fmlgof3u8pqn0)\" height=\"45.9375\" id=\"E7\" rx=\"10\" ry=\"10\" style=\"stroke: #A80036; stroke-width: 1.5;\" width=\"155\" x=\"418.85\" y=\"164\"/><ellipse cx=\"433.85\" cy=\"182.9688\" fill=\"#FFA500\" rx=\"11\" ry=\"11\" style=\"stroke: #A80036; stroke-width: 1.0;\"/><path d=\"M433.6,188.4375 Q431.85,188.4375 430.8969,187.4063 Q429.9594,186.3594 429.9594,184.5156 L429.9594,177.625 L432.0219,177.625 L432.0219,177.7813 Q431.9281,177.875 431.8969,178.0156 Q431.8813,178.1406 431.8813,178.4063 L431.8813,184.5313 Q431.8813,185.625 432.2563,186.25 Q432.6313,186.875 433.6156,186.875 Q434.6,186.875 434.9906,186.25 Q435.3813,185.625 435.3813,184.4844 L435.3813,177.625 L437.2563,177.625 L437.2563,184.4688 Q437.2563,186.5 436.225,187.4688 Q435.2094,188.4375 433.6,188.4375 Z \"/><text fill=\"#000000\" font-family=\"sans-serif\" font-size=\"12\" font-style=\"italic\" lengthAdjust=\"spacingAndGlyphs\" textLength=\"82\" x=\"468.35\" y=\"180.1387\">«calculation»</text><text fill=\"#000000\" font-family=\"sans-serif\" font-size=\"12\" lengthAdjust=\"spacingAndGlyphs\" textLength=\"119\" x=\"447.85\" y=\"194.1074\">evaluationFunction</text><line style=\"stroke: #A80036; stroke-width: 1.5;\" x1=\"419.85\" x2=\"572.85\" y1=\"201.9375\" y2=\"201.9375\"/></a><!--MD5=[b9389687b975829384b498ac4b7476b2]\n",
       "class E8--><a href=\"psysml:79c1d929-0a70-426e-ae6d-56e5e3e776a6\" target=\"_top\" title=\"psysml:79c1d929-0a70-426e-ae6d-56e5e3e776a6\" xlink:actuate=\"onRequest\" xlink:href=\"psysml:79c1d929-0a70-426e-ae6d-56e5e3e776a6\" xlink:show=\"new\" xlink:title=\"psysml:79c1d929-0a70-426e-ae6d-56e5e3e776a6\" xlink:type=\"simple\"><rect fill=\"#FEFECE\" filter=\"url(#fmlgof3u8pqn0)\" height=\"45.9375\" id=\"E8\" rx=\"10\" ry=\"10\" style=\"stroke: #A80036; stroke-width: 1.5;\" width=\"154\" x=\"74.35\" y=\"316\"/><ellipse cx=\"89.35\" cy=\"334.9688\" fill=\"#32CD32\" rx=\"11\" ry=\"11\" style=\"stroke: #A80036; stroke-width: 1.0;\"/><path d=\"M86.1625,339.9688 L86.1625,329.375 L89.7719,329.375 Q90.9906,329.375 91.7875,329.8125 Q92.5844,330.2344 92.9594,330.9375 Q93.35,331.6406 93.35,332.4844 Q93.35,333.3281 92.975,334.0156 Q92.6156,334.7031 91.8188,335.125 Q91.0375,335.5313 89.85,335.5313 L88.1156,335.5313 L88.1156,339.9688 L86.1625,339.9688 Z M88.1156,333.9375 L89.725,333.9375 Q90.5375,333.9375 90.9594,333.5313 Q91.3813,333.125 91.3813,332.4844 Q91.3813,331.8594 90.9594,331.4531 Q90.5375,331.0469 89.7406,331.0469 L88.1156,331.0469 L88.1156,333.9375 Z \"/><text fill=\"#000000\" font-family=\"sans-serif\" font-size=\"12\" font-style=\"italic\" lengthAdjust=\"spacingAndGlyphs\" textLength=\"40\" x=\"144.35\" y=\"332.1387\">«part»</text><text fill=\"#000000\" font-family=\"sans-serif\" font-size=\"12\" lengthAdjust=\"spacingAndGlyphs\" textLength=\"118\" x=\"103.35\" y=\"346.1074\">alternative: Engine</text><line style=\"stroke: #A80036; stroke-width: 1.5;\" x1=\"75.35\" x2=\"227.35\" y1=\"353.9375\" y2=\"353.9375\"/></a><!--MD5=[fd4143e9d270a159db93a4ea2a975926]\n",
       "class E9--><a href=\"psysml:169f456a-e384-47f5-89e9-43fd13dd17eb\" target=\"_top\" title=\"psysml:169f456a-e384-47f5-89e9-43fd13dd17eb\" xlink:actuate=\"onRequest\" xlink:href=\"psysml:169f456a-e384-47f5-89e9-43fd13dd17eb\" xlink:show=\"new\" xlink:title=\"psysml:169f456a-e384-47f5-89e9-43fd13dd17eb\" xlink:type=\"simple\"><rect fill=\"#FEFECE\" filter=\"url(#fmlgof3u8pqn0)\" height=\"45.9375\" id=\"E9\" rx=\"10\" ry=\"10\" style=\"stroke: #A80036; stroke-width: 1.5;\" width=\"208\" x=\"281.35\" y=\"240\"/><ellipse cx=\"296.35\" cy=\"258.9688\" fill=\"#32CD32\" rx=\"11\" ry=\"11\" style=\"stroke: #A80036; stroke-width: 1.0;\"/><path d=\"M293.1625,263.9688 L293.1625,253.375 L296.7719,253.375 Q297.9906,253.375 298.7875,253.8125 Q299.5844,254.2344 299.9594,254.9375 Q300.35,255.6406 300.35,256.4844 Q300.35,257.3281 299.975,258.0156 Q299.6156,258.7031 298.8188,259.125 Q298.0375,259.5313 296.85,259.5313 L295.1156,259.5313 L295.1156,263.9688 L293.1625,263.9688 Z M295.1156,257.9375 L296.725,257.9375 Q297.5375,257.9375 297.9594,257.5313 Q298.3813,257.125 298.3813,256.4844 Q298.3813,255.8594 297.9594,255.4531 Q297.5375,255.0469 296.7406,255.0469 L295.1156,255.0469 L295.1156,257.9375 Z \"/><text fill=\"#000000\" font-family=\"sans-serif\" font-size=\"12\" font-style=\"italic\" lengthAdjust=\"spacingAndGlyphs\" textLength=\"40\" x=\"378.35\" y=\"256.1387\">«part»</text><text fill=\"#000000\" font-family=\"sans-serif\" font-size=\"12\" lengthAdjust=\"spacingAndGlyphs\" textLength=\"172\" x=\"310.35\" y=\"270.1074\">selectedAlternative: Engine</text><line style=\"stroke: #A80036; stroke-width: 1.5;\" x1=\"282.35\" x2=\"488.35\" y1=\"277.9375\" y2=\"277.9375\"/></a><!--MD5=[05d275557350bfb9b23a4ef7222b4c39]\n",
       "link E3 to E2--><a href=\"psysml:9be21745-fec5-4980-9af6-b796782d7969\" target=\"_top\" title=\"psysml:9be21745-fec5-4980-9af6-b796782d7969\" xlink:actuate=\"onRequest\" xlink:href=\"psysml:9be21745-fec5-4980-9af6-b796782d7969\" xlink:show=\"new\" xlink:title=\"psysml:9be21745-fec5-4980-9af6-b796782d7969\" xlink:type=\"simple\"><path d=\"M482.37,362.01 C434.47,379.58 367.81,404.04 320.84,421.27 \" fill=\"none\" id=\"E3-&gt;E2\" style=\"stroke: #A80036; stroke-width: 1.0;\"/><polygon fill=\"#FFFFFF\" points=\"302.03,428.17,317.4603,415.0588,322.2784,428.2036,302.03,428.17\" style=\"stroke: #A80036; stroke-width: 1.0;\"/><ellipse cx=\"323.5004\" cy=\"414.9749\" fill=\"#A80036\" rx=\"2\" ry=\"2\" style=\"stroke: #A80036; stroke-width: 1.0;\"/><ellipse cx=\"326.9419\" cy=\"424.3641\" fill=\"#A80036\" rx=\"2\" ry=\"2\" style=\"stroke: #A80036; stroke-width: 1.0;\"/></a><!--MD5=[185131fc0dcab0a4505a2ebe144e961b]\n",
       "link E4 to E2--><a href=\"psysml:1ad537aa-bda6-4221-a392-6db0b9fa994b\" target=\"_top\" title=\"psysml:1ad537aa-bda6-4221-a392-6db0b9fa994b\" xlink:actuate=\"onRequest\" xlink:href=\"psysml:1ad537aa-bda6-4221-a392-6db0b9fa994b\" xlink:show=\"new\" xlink:title=\"psysml:1ad537aa-bda6-4221-a392-6db0b9fa994b\" xlink:type=\"simple\"><path d=\"M346.57,362.13 C332.54,375.76 314.3,393.47 298.57,408.76 \" fill=\"none\" id=\"E4-&gt;E2\" style=\"stroke: #A80036; stroke-width: 1.0;\"/><polygon fill=\"#FFFFFF\" points=\"283.91,423,292.6544,404.737,302.4129,414.7755,283.91,423\" style=\"stroke: #A80036; stroke-width: 1.0;\"/><ellipse cx=\"298.1356\" cy=\"402.198\" fill=\"#A80036\" rx=\"2\" ry=\"2\" style=\"stroke: #A80036; stroke-width: 1.0;\"/><ellipse cx=\"305.1059\" cy=\"409.3683\" fill=\"#A80036\" rx=\"2\" ry=\"2\" style=\"stroke: #A80036; stroke-width: 1.0;\"/></a><!--MD5=[15ebcb19ae302d9b601edb458606d402]\n",
       "link E5 to E2--><a href=\"psysml:ef23f2a8-b555-4000-b8d1-a9fc8ea83129\" target=\"_top\" title=\"psysml:ef23f2a8-b555-4000-b8d1-a9fc8ea83129\" xlink:actuate=\"onRequest\" xlink:href=\"psysml:ef23f2a8-b555-4000-b8d1-a9fc8ea83129\" xlink:show=\"new\" xlink:title=\"psysml:ef23f2a8-b555-4000-b8d1-a9fc8ea83129\" xlink:type=\"simple\"><path d=\"M286.67,72.24 C218.59,82.7 135.93,107.24 85.35,164 C26.18,230.4 6,288.69 56.35,362 C93.33,415.85 172.02,433.47 221.3,439.22 \" fill=\"none\" id=\"E5-&gt;E2\" style=\"stroke: #A80036; stroke-width: 1.0; stroke-dasharray: 7.0,7.0;\"/><polygon fill=\"#A80036\" points=\"226.57,439.8,218.0574,434.8467,221.5995,439.2572,217.189,442.7994,226.57,439.8\" style=\"stroke: #A80036; stroke-width: 1.0;\"/><text fill=\"#000000\" font-family=\"sans-serif\" font-size=\"13\" lengthAdjust=\"spacingAndGlyphs\" textLength=\"62\" x=\"36.35\" y=\"267.5669\">«subject»</text></a><!--MD5=[9120cf2e5df3bff93db8f754bbbc09b4]\n",
       "link E5 to E6--><a href=\"psysml:82bd6807-74bc-4e7b-a156-dc2ad55e2000\" target=\"_top\" title=\"psysml:82bd6807-74bc-4e7b-a156-dc2ad55e2000\" xlink:actuate=\"onRequest\" xlink:href=\"psysml:82bd6807-74bc-4e7b-a156-dc2ad55e2000\" xlink:show=\"new\" xlink:title=\"psysml:82bd6807-74bc-4e7b-a156-dc2ad55e2000\" xlink:type=\"simple\"><path d=\"M372.37,87.19 C345.98,107.41 306.93,137.31 278.71,158.92 \" fill=\"none\" id=\"E5-&gt;E6\" style=\"stroke: #A80036; stroke-width: 1.0;\"/><polygon fill=\"#A80036\" points=\"272.15,163.95,280.3247,161.4653,276.6753,156.7028,272.15,163.95\" style=\"stroke: #A80036; stroke-width: 1.0;\"/><text fill=\"#000000\" font-family=\"sans-serif\" font-size=\"13\" lengthAdjust=\"spacingAndGlyphs\" textLength=\"73\" x=\"332.35\" y=\"130.0669\">«objective»</text></a><!--MD5=[452b418e7f8a40397a49b8c0a78acc5b]\n",
       "reverse link E5 to E7--><a href=\"psysml:3495a436-635c-4195-be5e-85a5d126f0e1\" target=\"_top\" title=\"psysml:3495a436-635c-4195-be5e-85a5d126f0e1\" xlink:actuate=\"onRequest\" xlink:href=\"psysml:3495a436-635c-4195-be5e-85a5d126f0e1\" xlink:show=\"new\" xlink:title=\"psysml:3495a436-635c-4195-be5e-85a5d126f0e1\" xlink:type=\"simple\"><path d=\"M426.94,97.59 C443.44,118.61 464.47,145.4 479.04,163.95 \" fill=\"none\" id=\"E5&lt;-E7\" style=\"stroke: #A80036; stroke-width: 1.0;\"/><polygon fill=\"#A80036\" points=\"418.77,87.19,419.3281,94.3795,426.1792,96.6295,425.6211,89.44,418.77,87.19\" style=\"stroke: #A80036; stroke-width: 1.0;\"/></a><!--MD5=[dc164f5e8a733ab456ef1add180e9e34]\n",
       "reverse link E7 to E8--><a href=\"psysml:e1d2632c-68a4-476d-b3ed-d8b6d2aaac51\" target=\"_top\" title=\"psysml:e1d2632c-68a4-476d-b3ed-d8b6d2aaac51\" xlink:actuate=\"onRequest\" xlink:href=\"psysml:e1d2632c-68a4-476d-b3ed-d8b6d2aaac51\" xlink:show=\"new\" xlink:title=\"psysml:e1d2632c-68a4-476d-b3ed-d8b6d2aaac51\" xlink:type=\"simple\"><path d=\"M405.86,208.98 C404.35,209.32 402.84,209.66 401.35,210 C340.54,223.7 320.06,212.05 264.35,240 C226.75,258.86 191.49,293.1 170.66,315.69 \" fill=\"none\" id=\"E7&lt;-E8\" style=\"stroke: #A80036; stroke-width: 1.0;\"/><polygon fill=\"#FFFFFF\" points=\"418.6,206.09,411.8643,203.5149,406.8967,208.742,413.6324,211.3171,418.6,206.09\" style=\"stroke: #A80036; stroke-width: 1.0;\"/><text fill=\"#000000\" font-family=\"sans-serif\" font-size=\"13\" lengthAdjust=\"spacingAndGlyphs\" textLength=\"8\" x=\"166.5832\" y=\"304.8869\">1</text></a><!--MD5=[f1f3f9f2fc535e6147756cb86a7f2e32]\n",
       "link E8 to E2--><a href=\"psysml:a8ae8a0d-ad52-4d9e-986d-0c741d3467c2\" target=\"_top\" title=\"psysml:a8ae8a0d-ad52-4d9e-986d-0c741d3467c2\" xlink:actuate=\"onRequest\" xlink:href=\"psysml:a8ae8a0d-ad52-4d9e-986d-0c741d3467c2\" xlink:show=\"new\" xlink:title=\"psysml:a8ae8a0d-ad52-4d9e-986d-0c741d3467c2\" xlink:type=\"simple\"><path d=\"M175.87,362.13 C191.2,375.97 211.21,394.03 228.32,409.48 \" fill=\"none\" id=\"E8-&gt;E2\" style=\"stroke: #A80036; stroke-width: 1.0;\"/><polygon fill=\"#FFFFFF\" points=\"243.3,423,224.5062,415.4638,233.8878,405.0721,243.3,423\" style=\"stroke: #A80036; stroke-width: 1.0;\"/><ellipse cx=\"221.6156\" cy=\"410.1596\" fill=\"#A80036\" rx=\"2\" ry=\"2\" style=\"stroke: #A80036; stroke-width: 1.0;\"/><ellipse cx=\"228.3166\" cy=\"402.737\" fill=\"#A80036\" rx=\"2\" ry=\"2\" style=\"stroke: #A80036; stroke-width: 1.0;\"/></a><!--MD5=[9ae28de373ca99bb8a1b38d63370ca7e]\n",
       "reverse link E5 to E9--><a href=\"psysml:1023028c-00c5-4dde-9329-e4b02befe1ab\" target=\"_top\" title=\"psysml:1023028c-00c5-4dde-9329-e4b02befe1ab\" xlink:actuate=\"onRequest\" xlink:href=\"psysml:1023028c-00c5-4dde-9329-e4b02befe1ab\" xlink:show=\"new\" xlink:title=\"psysml:1023028c-00c5-4dde-9329-e4b02befe1ab\" xlink:type=\"simple\"><path d=\"M486.3,91.63 C553.73,117.27 630.66,159.54 591.35,210 C578.06,227.06 533.73,239.4 489.58,247.77 \" fill=\"none\" id=\"E5&lt;-E9\" style=\"stroke: #A80036; stroke-width: 1.0;\"/><polygon fill=\"#FFFFFF\" points=\"473.85,87.03,478.095,92.8592,485.1085,91.1827,480.8635,85.3535,473.85,87.03\" style=\"stroke: #A80036; stroke-width: 1.0;\"/><text fill=\"#000000\" font-family=\"sans-serif\" font-size=\"13\" lengthAdjust=\"spacingAndGlyphs\" textLength=\"8\" x=\"497.1899\" y=\"243.2456\">1</text></a><!--MD5=[5c3bb36fe832a92c7f0e1807dd65209d]\n",
       "link E9 to E2--><a href=\"psysml:d6cd1bf0-a8ac-42a9-91c6-4adc5d4642e7\" target=\"_top\" title=\"psysml:d6cd1bf0-a8ac-42a9-91c6-4adc5d4642e7\" xlink:actuate=\"onRequest\" xlink:href=\"psysml:d6cd1bf0-a8ac-42a9-91c6-4adc5d4642e7\" xlink:show=\"new\" xlink:title=\"psysml:d6cd1bf0-a8ac-42a9-91c6-4adc5d4642e7\" xlink:type=\"simple\"><path d=\"M319.4,286.07 C305.59,293.56 292.47,303.34 283.35,316 C265.36,340.96 261.31,375.98 261.36,402.77 \" fill=\"none\" id=\"E9-&gt;E2\" style=\"stroke: #A80036; stroke-width: 1.0;\"/><polygon fill=\"#FFFFFF\" points=\"262.15,422.93,254.409,404.2197,268.3982,403.6697,262.15,422.93\" style=\"stroke: #A80036; stroke-width: 1.0;\"/><ellipse cx=\"256.1836\" cy=\"398.4455\" fill=\"#A80036\" rx=\"2\" ry=\"2\" style=\"stroke: #A80036; stroke-width: 1.0;\"/><ellipse cx=\"266.1758\" cy=\"398.0526\" fill=\"#A80036\" rx=\"2\" ry=\"2\" style=\"stroke: #A80036; stroke-width: 1.0;\"/></a><!--MD5=[7de783cb1c51f83ef1427fc06bb3908c]\n",
       "@startuml\r\n",
       " \r\n",
       "package \"TradeStudyTest\" as E1  [[psysml:9d3e1c5c-e45c-4a85-8e75-4ee823ac8fbf ]]  {\r\n",
       "comp def \"Engine\" as E2 << << (B,green) >> [[psysml:956f1300-60cf-48ef-8161-7a381ae0bb8c ]] {\r\n",
       "}\r\n",
       "comp usage \"engine1: Engine \" as E3 << << (P,limegreen) part>> [[psysml:5ff7a686-dab8-41cf-8031-b7dccb26607b ]] {\r\n",
       "}\r\n",
       "comp usage \"engine2: Engine \" as E4 << << (P,limegreen) part>> [[psysml:44e88bb9-9b84-4b3f-b104-23d7a257fb04 ]] {\r\n",
       "}\r\n",
       "comp usage \"engineTradeStudy: TradeStudy \" as E5 << analysis>> [[psysml:e12e8838-d64a-4336-9e52-2de97357eae2 ]] {\r\n",
       "}\r\n",
       "comp usage \"tradeStudyObjective: MaximizeObjective \" as E6 << <<(U,orange) requirement>> [[psysml:9a804e4d-bc47-4ee7-a2d8-d8527e0c1caf ]] {\r\n",
       "}\r\n",
       "comp usage \"evaluationFunction \" as E7 << <<(U,orange) calculation>> [[psysml:1fa3686a-6014-4c73-9542-2575e26fd8a7 ]] {\r\n",
       "}\r\n",
       "comp usage \"alternative: Engine \" as E8 << << (P,limegreen) part>> [[psysml:79c1d929-0a70-426e-ae6d-56e5e3e776a6 ]] {\r\n",
       "}\r\n",
       "comp usage \"selectedAlternative: Engine \" as E9 << << (P,limegreen) part>> [[psysml:169f456a-e384-47f5-89e9-43fd13dd17eb ]] {\r\n",
       "}\r\n",
       "}\r\n",
       "E3 - -:|> E2 [[psysml:9be21745-fec5-4980-9af6-b796782d7969 ]] \r\n",
       "E4 - -:|> E2 [[psysml:1ad537aa-bda6-4221-a392-6db0b9fa994b ]] \r\n",
       "E5 ..> E2 [[psysml:ef23f2a8-b555-4000-b8d1-a9fc8ea83129 ]] : <<subject>>\r\n",
       "E5 - ->> E6 [[psysml:82bd6807-74bc-4e7b-a156-dc2ad55e2000 ]] : <<objective>>\r\n",
       "E5 *- - E7 [[psysml:3495a436-635c-4195-be5e-85a5d126f0e1 ]] \r\n",
       "E7 o- - \"1\"E8 [[psysml:e1d2632c-68a4-476d-b3ed-d8b6d2aaac51 ]] \r\n",
       "E8 - -:|> E2 [[psysml:a8ae8a0d-ad52-4d9e-986d-0c741d3467c2 ]] \r\n",
       "E5 o- - \"1\"E9 [[psysml:1023028c-00c5-4dde-9329-e4b02befe1ab ]] \r\n",
       "E9 - -:|> E2 [[psysml:d6cd1bf0-a8ac-42a9-91c6-4adc5d4642e7 ]] \r\n",
       "@enduml\r\n",
       "\n",
       "PlantUML version 1.2020.13(Sat Jun 13 12:26:38 UTC 2020)\n",
       "(EPL source distribution)\n",
       "Java Runtime: OpenJDK Runtime Environment\n",
       "JVM: OpenJDK 64-Bit Server VM\n",
       "Default Encoding: UTF-8\n",
       "Language: en\n",
       "Country: null\n",
       "--></g></svg>"
      ]
     },
     "execution_count": 31,
     "metadata": {},
     "output_type": "execute_result"
    }
   ],
   "source": [
    "%viz --style=\"PLANTUML\" --view=\"Tree\" \"TradeStudyTest\""
   ]
  },
  {
   "cell_type": "code",
   "execution_count": 32,
   "id": "f0e39d67",
   "metadata": {
    "execution": {
     "iopub.execute_input": "2022-02-18T10:50:37.101511Z",
     "iopub.status.busy": "2022-02-18T10:50:37.101111Z",
     "iopub.status.idle": "2022-02-18T10:50:37.189537Z",
     "shell.execute_reply": "2022-02-18T10:50:37.188395Z"
    }
   },
   "outputs": [
    {
     "data": {
      "image/svg+xml": [
       "<?xml version=\"1.0\" encoding=\"UTF-8\" standalone=\"no\"?><svg xmlns=\"http://www.w3.org/2000/svg\" xmlns:xlink=\"http://www.w3.org/1999/xlink\" contentScriptType=\"application/ecmascript\" contentStyleType=\"text/css\" height=\"300px\" preserveAspectRatio=\"none\" style=\"width:603px;height:300px;background:#000000;\" version=\"1.1\" viewBox=\"0 0 603 300\" width=\"603px\" zoomAndPan=\"magnify\"><defs/><g><rect fill=\"#16271E\" height=\"1\" style=\"stroke: #16271E; stroke-width: 1.0;\" width=\"1\" x=\"0\" y=\"0\"/><rect fill=\"#FFFFFF\" height=\"202.8012\" style=\"stroke: #FFFFFF; stroke-width: 1.0;\" width=\"602\" x=\"0\" y=\"0\"/><text fill=\"#000000\" font-family=\"sans-serif\" font-size=\"12\" font-weight=\"bold\" lengthAdjust=\"spacingAndGlyphs\" textLength=\"139\" x=\"5\" y=\"16.1387\">Welcome to PlantUML!</text><text fill=\"#000000\" font-family=\"sans-serif\" font-size=\"12\" lengthAdjust=\"spacingAndGlyphs\" textLength=\"0\" x=\"9\" y=\"30.1074\"/><text fill=\"#000000\" font-family=\"sans-serif\" font-size=\"12\" lengthAdjust=\"spacingAndGlyphs\" textLength=\"293\" x=\"5\" y=\"44.0762\">If you use this software, you accept its license.</text><text fill=\"#000000\" font-family=\"sans-serif\" font-size=\"12\" lengthAdjust=\"spacingAndGlyphs\" textLength=\"107\" x=\"5\" y=\"58.0449\">(details by typing</text><text fill=\"#000000\" font-family=\"monospace\" font-size=\"12\" lengthAdjust=\"spacingAndGlyphs\" textLength=\"42\" x=\"116\" y=\"58.595\">license</text><text fill=\"#000000\" font-family=\"sans-serif\" font-size=\"12\" lengthAdjust=\"spacingAndGlyphs\" textLength=\"56\" x=\"162\" y=\"58.0449\">keyword)</text><text fill=\"#000000\" font-family=\"sans-serif\" font-size=\"12\" lengthAdjust=\"spacingAndGlyphs\" textLength=\"0\" x=\"9\" y=\"72.0137\"/><text fill=\"#000000\" font-family=\"sans-serif\" font-size=\"12\" lengthAdjust=\"spacingAndGlyphs\" textLength=\"283\" x=\"5\" y=\"85.9824\">You can start with a simple UML Diagram like:</text><text fill=\"#000000\" font-family=\"sans-serif\" font-size=\"12\" lengthAdjust=\"spacingAndGlyphs\" textLength=\"0\" x=\"9\" y=\"99.9512\"/><text fill=\"#000000\" font-family=\"monospace\" font-size=\"12\" lengthAdjust=\"spacingAndGlyphs\" textLength=\"102\" x=\"5\" y=\"113.0893\">Bob-&gt;Alice: Hello</text><text fill=\"#000000\" font-family=\"sans-serif\" font-size=\"12\" lengthAdjust=\"spacingAndGlyphs\" textLength=\"0\" x=\"9\" y=\"126.508\"/><text fill=\"#000000\" font-family=\"sans-serif\" font-size=\"12\" lengthAdjust=\"spacingAndGlyphs\" textLength=\"14\" x=\"5\" y=\"140.4768\">Or</text><text fill=\"#000000\" font-family=\"sans-serif\" font-size=\"12\" lengthAdjust=\"spacingAndGlyphs\" textLength=\"0\" x=\"9\" y=\"154.4455\"/><text fill=\"#000000\" font-family=\"monospace\" font-size=\"12\" lengthAdjust=\"spacingAndGlyphs\" textLength=\"78\" x=\"5\" y=\"167.5837\">class Example</text><text fill=\"#000000\" font-family=\"sans-serif\" font-size=\"12\" lengthAdjust=\"spacingAndGlyphs\" textLength=\"0\" x=\"9\" y=\"181.0023\"/><text fill=\"#000000\" font-family=\"sans-serif\" font-size=\"12\" lengthAdjust=\"spacingAndGlyphs\" textLength=\"349\" x=\"5\" y=\"194.9711\">You will find more information about PlantUML syntax on</text><text fill=\"#000000\" font-family=\"sans-serif\" font-size=\"12\" lengthAdjust=\"spacingAndGlyphs\" text-decoration=\"underline\" textLength=\"129\" x=\"358\" y=\"194.9711\">https://plantuml.com</text><image height=\"71\" width=\"80\" x=\"516\" xlink:href=\"data:image/png;base64,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\" y=\"6\"/><rect fill=\"#000000\" height=\"96.4844\" style=\"stroke: #000000; stroke-width: 1.0;\" width=\"602\" x=\"0\" y=\"202.8012\"/><rect fill=\"#33FF02\" height=\"21.2969\" style=\"stroke: #33FF02; stroke-width: 1.0;\" width=\"145\" x=\"5\" y=\"207.8012\"/><text fill=\"#000000\" font-family=\"sans-serif\" font-size=\"14\" font-weight=\"bold\" lengthAdjust=\"spacingAndGlyphs\" textLength=\"143\" x=\"6\" y=\"222.8012\">[From string (line 2) ]</text><text fill=\"#33FF02\" font-family=\"sans-serif\" font-size=\"14\" font-weight=\"bold\" lengthAdjust=\"spacingAndGlyphs\" textLength=\"0\" x=\"9\" y=\"243.0981\"/><text fill=\"#33FF02\" font-family=\"sans-serif\" font-size=\"14\" font-weight=\"bold\" lengthAdjust=\"spacingAndGlyphs\" textLength=\"70\" x=\"5\" y=\"259.3949\">@startuml</text><text fill=\"#33FF02\" font-family=\"sans-serif\" font-size=\"14\" font-weight=\"bold\" lengthAdjust=\"spacingAndGlyphs\" textLength=\"0\" x=\"9\" y=\"275.6918\"/><text fill=\"#FF0000\" font-family=\"sans-serif\" font-size=\"14\" font-weight=\"bold\" lengthAdjust=\"spacingAndGlyphs\" textLength=\"124\" x=\"9\" y=\"291.9887\">Empty description</text><!--MD5=[f59edd8218d337f74d0c332fc6737304]\n",
       "@startuml\r\n",
       " \r\n",
       "@enduml\r\n",
       "\n",
       "PlantUML version 1.2020.13(Sat Jun 13 12:26:38 UTC 2020)\n",
       "(EPL source distribution)\n",
       "Java Runtime: OpenJDK Runtime Environment\n",
       "JVM: OpenJDK 64-Bit Server VM\n",
       "Default Encoding: UTF-8\n",
       "Language: en\n",
       "Country: null\n",
       "--></g></svg>"
      ]
     },
     "execution_count": 32,
     "metadata": {},
     "output_type": "execute_result"
    }
   ],
   "source": [
    "%viz --style=\"PLANTUML\" --view=\"State\" \"TradeStudyTest\""
   ]
  },
  {
   "cell_type": "code",
   "execution_count": 33,
   "id": "a0e9f282",
   "metadata": {
    "execution": {
     "iopub.execute_input": "2022-02-18T10:50:37.239184Z",
     "iopub.status.busy": "2022-02-18T10:50:37.238790Z",
     "iopub.status.idle": "2022-02-18T10:50:37.262026Z",
     "shell.execute_reply": "2022-02-18T10:50:37.261653Z"
    }
   },
   "outputs": [
    {
     "data": {
      "image/svg+xml": [
       "<?xml version=\"1.0\" encoding=\"UTF-8\" standalone=\"no\"?><svg xmlns=\"http://www.w3.org/2000/svg\" xmlns:xlink=\"http://www.w3.org/1999/xlink\" contentScriptType=\"application/ecmascript\" contentStyleType=\"text/css\" height=\"423px\" preserveAspectRatio=\"none\" style=\"width:652px;height:423px;\" version=\"1.1\" viewBox=\"0 0 652 423\" width=\"652px\" zoomAndPan=\"magnify\"><defs><filter height=\"300%\" id=\"f1bskc4m71dpep\" width=\"300%\" x=\"-1\" y=\"-1\"><feGaussianBlur result=\"blurOut\" stdDeviation=\"2.0\"/><feColorMatrix in=\"blurOut\" result=\"blurOut2\" type=\"matrix\" values=\"0 0 0 0 0 0 0 0 0 0 0 0 0 0 0 0 0 0 .4 0\"/><feOffset dx=\"4.0\" dy=\"4.0\" in=\"blurOut2\" result=\"blurOut3\"/><feBlend in=\"SourceGraphic\" in2=\"blurOut3\" mode=\"normal\"/></filter></defs><g><!--MD5=[fbc87193dbaf4d95561dea2c320d4a47]\n",
       "cluster E1--><a href=\"psysml:9d3e1c5c-e45c-4a85-8e75-4ee823ac8fbf\" target=\"_top\" title=\"psysml:9d3e1c5c-e45c-4a85-8e75-4ee823ac8fbf\" xlink:actuate=\"onRequest\" xlink:href=\"psysml:9d3e1c5c-e45c-4a85-8e75-4ee823ac8fbf\" xlink:show=\"new\" xlink:title=\"psysml:9d3e1c5c-e45c-4a85-8e75-4ee823ac8fbf\" xlink:type=\"simple\"><polygon fill=\"#FFFFFF\" filter=\"url(#f1bskc4m71dpep)\" points=\"16,6,132,6,139,28.2969,630,28.2969,630,411,16,411,16,6\" style=\"stroke: #000000; stroke-width: 1.5;\"/><line style=\"stroke: #000000; stroke-width: 1.5;\" x1=\"16\" x2=\"139\" y1=\"28.2969\" y2=\"28.2969\"/><text fill=\"#000000\" font-family=\"sans-serif\" font-size=\"14\" font-weight=\"bold\" lengthAdjust=\"spacingAndGlyphs\" textLength=\"110\" x=\"20\" y=\"20.9951\">TradeStudyTest</text></a><!--MD5=[de5ec2e2e8f62f467e546659f5068c88]\n",
       "cluster E5--><a href=\"psysml:e12e8838-d64a-4336-9e52-2de97357eae2\" target=\"_top\" title=\"psysml:e12e8838-d64a-4336-9e52-2de97357eae2\" xlink:actuate=\"onRequest\" xlink:href=\"psysml:e12e8838-d64a-4336-9e52-2de97357eae2\" xlink:show=\"new\" xlink:title=\"psysml:e12e8838-d64a-4336-9e52-2de97357eae2\" xlink:type=\"simple\"><rect fill=\"#FFFFFF\" filter=\"url(#f1bskc4m71dpep)\" height=\"129\" id=\"E5\" rx=\"10\" ry=\"10\" style=\"stroke: #A80036; stroke-width: 1.5;\" width=\"225\" x=\"373\" y=\"57\"/><rect fill=\"#FEFECE\" height=\"37.9375\" rx=\"10\" ry=\"10\" style=\"stroke: #FEFECE; stroke-width: 1.5;\" width=\"225\" x=\"373\" y=\"57\"/><rect fill=\"#FEFECE\" height=\"10\" style=\"stroke: #FEFECE; stroke-width: 1.5;\" width=\"225\" x=\"373\" y=\"84.9375\"/><rect fill=\"none\" height=\"129\" id=\"E5\" rx=\"10\" ry=\"10\" style=\"stroke: #A80036; stroke-width: 1.5;\" width=\"225\" x=\"373\" y=\"57\"/><text fill=\"#000000\" font-family=\"sans-serif\" font-size=\"12\" font-style=\"italic\" lengthAdjust=\"spacingAndGlyphs\" textLength=\"64\" x=\"453.5\" y=\"73.1387\">«analysis»</text><text fill=\"#000000\" font-family=\"sans-serif\" font-size=\"12\" lengthAdjust=\"spacingAndGlyphs\" textLength=\"114\" x=\"428.5\" y=\"87.1074\">engineTradeStudy</text><line style=\"stroke: #A80036; stroke-width: 1.0;\" x1=\"373\" x2=\"598\" y1=\"94.9375\" y2=\"94.9375\"/></a><!--MD5=[2156ba9850f5573cc1fc38a6a4b2f02b]\n",
       "class E7--><a href=\"psysml:1fa3686a-6014-4c73-9542-2575e26fd8a7\" target=\"_top\" title=\"psysml:1fa3686a-6014-4c73-9542-2575e26fd8a7\" xlink:actuate=\"onRequest\" xlink:href=\"psysml:1fa3686a-6014-4c73-9542-2575e26fd8a7\" xlink:show=\"new\" xlink:title=\"psysml:1fa3686a-6014-4c73-9542-2575e26fd8a7\" xlink:type=\"simple\"><rect fill=\"#FEFECE\" filter=\"url(#f1bskc4m71dpep)\" height=\"45.9375\" id=\"E7\" rx=\"10\" ry=\"10\" style=\"stroke: #A80036; stroke-width: 1.5;\" width=\"155\" x=\"86.5\" y=\"219\"/><ellipse cx=\"101.5\" cy=\"237.9688\" fill=\"#FFA500\" rx=\"11\" ry=\"11\" style=\"stroke: #A80036; stroke-width: 1.0;\"/><path d=\"M101.25,243.4375 Q99.5,243.4375 98.5469,242.4063 Q97.6094,241.3594 97.6094,239.5156 L97.6094,232.625 L99.6719,232.625 L99.6719,232.7813 Q99.5781,232.875 99.5469,233.0156 Q99.5313,233.1406 99.5313,233.4063 L99.5313,239.5313 Q99.5313,240.625 99.9063,241.25 Q100.2813,241.875 101.2656,241.875 Q102.25,241.875 102.6406,241.25 Q103.0313,240.625 103.0313,239.4844 L103.0313,232.625 L104.9063,232.625 L104.9063,239.4688 Q104.9063,241.5 103.875,242.4688 Q102.8594,243.4375 101.25,243.4375 Z \"/><text fill=\"#000000\" font-family=\"sans-serif\" font-size=\"12\" font-style=\"italic\" lengthAdjust=\"spacingAndGlyphs\" textLength=\"82\" x=\"136\" y=\"235.1387\">«calculation»</text><text fill=\"#000000\" font-family=\"sans-serif\" font-size=\"12\" lengthAdjust=\"spacingAndGlyphs\" textLength=\"119\" x=\"115.5\" y=\"249.1074\">evaluationFunction</text><line style=\"stroke: #A80036; stroke-width: 1.5;\" x1=\"87.5\" x2=\"240.5\" y1=\"256.9375\" y2=\"256.9375\"/></a><!--MD5=[b9389687b975829384b498ac4b7476b2]\n",
       "class E8--><a href=\"psysml:79c1d929-0a70-426e-ae6d-56e5e3e776a6\" target=\"_top\" title=\"psysml:79c1d929-0a70-426e-ae6d-56e5e3e776a6\" xlink:actuate=\"onRequest\" xlink:href=\"psysml:79c1d929-0a70-426e-ae6d-56e5e3e776a6\" xlink:show=\"new\" xlink:title=\"psysml:79c1d929-0a70-426e-ae6d-56e5e3e776a6\" xlink:type=\"simple\"><rect fill=\"#FEFECE\" filter=\"url(#f1bskc4m71dpep)\" height=\"40\" id=\"E8\" rx=\"10\" ry=\"10\" style=\"stroke: #A80036; stroke-width: 1.5;\" width=\"154\" x=\"139\" y=\"298\"/><ellipse cx=\"154\" cy=\"314\" fill=\"#B6DBBB\" rx=\"11\" ry=\"11\" style=\"stroke: #A80036; stroke-width: 1.0;\"/><path d=\"M153.75,319.4688 Q152,319.4688 151.0469,318.4375 Q150.1094,317.3906 150.1094,315.5469 L150.1094,308.6563 L152.1719,308.6563 L152.1719,308.8125 Q152.0781,308.9063 152.0469,309.0469 Q152.0313,309.1719 152.0313,309.4375 L152.0313,315.5625 Q152.0313,316.6563 152.4063,317.2813 Q152.7813,317.9063 153.7656,317.9063 Q154.75,317.9063 155.1406,317.2813 Q155.5313,316.6563 155.5313,315.5156 L155.5313,308.6563 L157.4063,308.6563 L157.4063,315.5 Q157.4063,317.5313 156.375,318.5 Q155.3594,319.4688 153.75,319.4688 Z \"/><text fill=\"#000000\" font-family=\"sans-serif\" font-size=\"12\" lengthAdjust=\"spacingAndGlyphs\" textLength=\"118\" x=\"168\" y=\"318.1543\">alternative: Engine</text><line style=\"stroke: #A80036; stroke-width: 1.5;\" x1=\"140\" x2=\"292\" y1=\"330\" y2=\"330\"/></a><!--MD5=[fd4143e9d270a159db93a4ea2a975926]\n",
       "class E9--><a href=\"psysml:169f456a-e384-47f5-89e9-43fd13dd17eb\" target=\"_top\" title=\"psysml:169f456a-e384-47f5-89e9-43fd13dd17eb\" xlink:actuate=\"onRequest\" xlink:href=\"psysml:169f456a-e384-47f5-89e9-43fd13dd17eb\" xlink:show=\"new\" xlink:title=\"psysml:169f456a-e384-47f5-89e9-43fd13dd17eb\" xlink:type=\"simple\"><rect fill=\"#FEFECE\" filter=\"url(#f1bskc4m71dpep)\" height=\"40\" id=\"E9\" rx=\"10\" ry=\"10\" style=\"stroke: #A80036; stroke-width: 1.5;\" width=\"208\" x=\"277\" y=\"222\"/><ellipse cx=\"292\" cy=\"238\" fill=\"#B6DBBB\" rx=\"11\" ry=\"11\" style=\"stroke: #A80036; stroke-width: 1.0;\"/><path d=\"M291.75,243.4688 Q290,243.4688 289.0469,242.4375 Q288.1094,241.3906 288.1094,239.5469 L288.1094,232.6563 L290.1719,232.6563 L290.1719,232.8125 Q290.0781,232.9063 290.0469,233.0469 Q290.0313,233.1719 290.0313,233.4375 L290.0313,239.5625 Q290.0313,240.6563 290.4063,241.2813 Q290.7813,241.9063 291.7656,241.9063 Q292.75,241.9063 293.1406,241.2813 Q293.5313,240.6563 293.5313,239.5156 L293.5313,232.6563 L295.4063,232.6563 L295.4063,239.5 Q295.4063,241.5313 294.375,242.5 Q293.3594,243.4688 291.75,243.4688 Z \"/><text fill=\"#000000\" font-family=\"sans-serif\" font-size=\"12\" lengthAdjust=\"spacingAndGlyphs\" textLength=\"172\" x=\"306\" y=\"242.1543\">selectedAlternative: Engine</text><line style=\"stroke: #A80036; stroke-width: 1.5;\" x1=\"278\" x2=\"484\" y1=\"254\" y2=\"254\"/></a><g id=\"E1.E2\"><a href=\"psysml:956f1300-60cf-48ef-8161-7a381ae0bb8c\" target=\"_top\" title=\"psysml:956f1300-60cf-48ef-8161-7a381ae0bb8c\" xlink:actuate=\"onRequest\" xlink:href=\"psysml:956f1300-60cf-48ef-8161-7a381ae0bb8c\" xlink:show=\"new\" xlink:title=\"psysml:956f1300-60cf-48ef-8161-7a381ae0bb8c\" xlink:type=\"simple\"><rect fill=\"#FEFECE\" filter=\"url(#f1bskc4m71dpep)\" height=\"40\" id=\"E2\" style=\"stroke: #A80036; stroke-width: 1.5;\" width=\"80\" x=\"341\" y=\"355\"/><ellipse cx=\"358.25\" cy=\"371\" fill=\"#008000\" rx=\"11\" ry=\"11\" style=\"stroke: #A80036; stroke-width: 1.0;\"/><path d=\"M355.125,376 L355.125,365.4063 L358.3594,365.4063 Q360.2656,365.4063 361.1719,366.1563 Q362.0938,366.9063 362.0938,368.0781 Q362.0938,368.7656 361.7031,369.4219 Q361.3281,370.0781 360.6094,370.375 Q361.4688,370.75 361.9844,371.4375 Q362.5,372.125 362.5,372.9375 Q362.5,374.3125 361.4688,375.1563 Q360.4531,376 358.3438,376 L355.125,376 Z M357.0469,369.6406 L358.2031,369.6406 Q359.3281,369.6406 359.7344,369.2656 Q360.1563,368.875 360.1563,368.25 Q360.1563,367.6719 359.7344,367.3125 Q359.3125,366.9531 358.375,366.9531 L357.0469,366.9531 L357.0469,369.6406 Z M357.0469,374.4219 L358.5469,374.4219 Q359.4531,374.4219 359.9844,374.0313 Q360.5156,373.6406 360.5156,372.8906 Q360.5156,372.125 360.0156,371.6563 Q359.5156,371.1719 358.25,371.1719 L357.0469,371.1719 L357.0469,374.4219 Z \"/><text fill=\"#000000\" font-family=\"sans-serif\" font-size=\"12\" lengthAdjust=\"spacingAndGlyphs\" textLength=\"43\" x=\"372.75\" y=\"375.1543\">Engine</text></a></g><g id=\"E1.E3\"><a href=\"psysml:5ff7a686-dab8-41cf-8031-b7dccb26607b\" target=\"_top\" title=\"psysml:5ff7a686-dab8-41cf-8031-b7dccb26607b\" xlink:actuate=\"onRequest\" xlink:href=\"psysml:5ff7a686-dab8-41cf-8031-b7dccb26607b\" xlink:show=\"new\" xlink:title=\"psysml:5ff7a686-dab8-41cf-8031-b7dccb26607b\" xlink:type=\"simple\"><rect fill=\"#FEFECE\" filter=\"url(#f1bskc4m71dpep)\" height=\"40\" id=\"E3\" rx=\"10\" ry=\"10\" style=\"stroke: #A80036; stroke-width: 1.5;\" width=\"139\" x=\"206.5\" y=\"119\"/><ellipse cx=\"223.75\" cy=\"135\" fill=\"#B6DBBB\" rx=\"11\" ry=\"11\" style=\"stroke: #A80036; stroke-width: 1.0;\"/><path d=\"M223.5,140.4688 Q221.75,140.4688 220.7969,139.4375 Q219.8594,138.3906 219.8594,136.5469 L219.8594,129.6563 L221.9219,129.6563 L221.9219,129.8125 Q221.8281,129.9063 221.7969,130.0469 Q221.7813,130.1719 221.7813,130.4375 L221.7813,136.5625 Q221.7813,137.6563 222.1563,138.2813 Q222.5313,138.9063 223.5156,138.9063 Q224.5,138.9063 224.8906,138.2813 Q225.2813,137.6563 225.2813,136.5156 L225.2813,129.6563 L227.1563,129.6563 L227.1563,136.5 Q227.1563,138.5313 226.125,139.5 Q225.1094,140.4688 223.5,140.4688 Z \"/><text fill=\"#000000\" font-family=\"sans-serif\" font-size=\"12\" lengthAdjust=\"spacingAndGlyphs\" textLength=\"102\" x=\"238.25\" y=\"139.1543\">engine1: Engine</text></a></g><g id=\"E1.E4\"><a href=\"psysml:44e88bb9-9b84-4b3f-b104-23d7a257fb04\" target=\"_top\" title=\"psysml:44e88bb9-9b84-4b3f-b104-23d7a257fb04\" xlink:actuate=\"onRequest\" xlink:href=\"psysml:44e88bb9-9b84-4b3f-b104-23d7a257fb04\" xlink:show=\"new\" xlink:title=\"psysml:44e88bb9-9b84-4b3f-b104-23d7a257fb04\" xlink:type=\"simple\"><rect fill=\"#FEFECE\" filter=\"url(#f1bskc4m71dpep)\" height=\"40\" id=\"E4\" rx=\"10\" ry=\"10\" style=\"stroke: #A80036; stroke-width: 1.5;\" width=\"139\" x=\"32.5\" y=\"119\"/><ellipse cx=\"49.75\" cy=\"135\" fill=\"#B6DBBB\" rx=\"11\" ry=\"11\" style=\"stroke: #A80036; stroke-width: 1.0;\"/><path d=\"M49.5,140.4688 Q47.75,140.4688 46.7969,139.4375 Q45.8594,138.3906 45.8594,136.5469 L45.8594,129.6563 L47.9219,129.6563 L47.9219,129.8125 Q47.8281,129.9063 47.7969,130.0469 Q47.7813,130.1719 47.7813,130.4375 L47.7813,136.5625 Q47.7813,137.6563 48.1563,138.2813 Q48.5313,138.9063 49.5156,138.9063 Q50.5,138.9063 50.8906,138.2813 Q51.2813,137.6563 51.2813,136.5156 L51.2813,129.6563 L53.1563,129.6563 L53.1563,136.5 Q53.1563,138.5313 52.125,139.5 Q51.1094,140.4688 49.5,140.4688 Z \"/><text fill=\"#000000\" font-family=\"sans-serif\" font-size=\"12\" lengthAdjust=\"spacingAndGlyphs\" textLength=\"102\" x=\"64.25\" y=\"139.1543\">engine2: Engine</text></a></g><!--MD5=[60a26617385b1d2d0262a64233df1f8d]\n",
       "class E6--><a href=\"psysml:9a804e4d-bc47-4ee7-a2d8-d8527e0c1caf\" target=\"_top\" title=\"psysml:9a804e4d-bc47-4ee7-a2d8-d8527e0c1caf\" xlink:actuate=\"onRequest\" xlink:href=\"psysml:9a804e4d-bc47-4ee7-a2d8-d8527e0c1caf\" xlink:show=\"new\" xlink:title=\"psysml:9a804e4d-bc47-4ee7-a2d8-d8527e0c1caf\" xlink:type=\"simple\"><rect fill=\"#FEFECE\" filter=\"url(#f1bskc4m71dpep)\" height=\"45.9375\" id=\"E6\" rx=\"10\" ry=\"10\" style=\"stroke: #A80036; stroke-width: 1.5;\" width=\"158\" x=\"416\" y=\"116\"/><ellipse cx=\"431\" cy=\"134.9688\" fill=\"#B6DBBB\" rx=\"11\" ry=\"11\" style=\"stroke: #A80036; stroke-width: 1.0;\"/><path d=\"M430.75,140.4375 Q429,140.4375 428.0469,139.4063 Q427.1094,138.3594 427.1094,136.5156 L427.1094,129.625 L429.1719,129.625 L429.1719,129.7813 Q429.0781,129.875 429.0469,130.0156 Q429.0313,130.1406 429.0313,130.4063 L429.0313,136.5313 Q429.0313,137.625 429.4063,138.25 Q429.7813,138.875 430.7656,138.875 Q431.75,138.875 432.1406,138.25 Q432.5313,137.625 432.5313,136.4844 L432.5313,129.625 L434.4063,129.625 L434.4063,136.4688 Q434.4063,138.5 433.375,139.4688 Q432.3594,140.4375 430.75,140.4375 Z \"/><text fill=\"#000000\" font-family=\"sans-serif\" font-size=\"12\" font-style=\"italic\" lengthAdjust=\"spacingAndGlyphs\" textLength=\"70\" x=\"473\" y=\"132.1387\">«objective»</text><text fill=\"#000000\" font-family=\"sans-serif\" font-size=\"12\" lengthAdjust=\"spacingAndGlyphs\" textLength=\"126\" x=\"445\" y=\"146.1074\">tradeStudyObjective</text><line style=\"stroke: #A80036; stroke-width: 1.5;\" x1=\"417\" x2=\"573\" y1=\"153.9375\" y2=\"153.9375\"/></a><!--MD5=[15ebcb19ae302d9b601edb458606d402]\n",
       "link E5 to E2--><a href=\"psysml:ef23f2a8-b555-4000-b8d1-a9fc8ea83129\" target=\"_top\" title=\"psysml:ef23f2a8-b555-4000-b8d1-a9fc8ea83129\" xlink:actuate=\"onRequest\" xlink:href=\"psysml:ef23f2a8-b555-4000-b8d1-a9fc8ea83129\" xlink:show=\"new\" xlink:title=\"psysml:ef23f2a8-b555-4000-b8d1-a9fc8ea83129\" xlink:type=\"simple\"><path d=\"M388.6768,186.1421 C388.8586,186.5423 389.0447,186.9404 389.235,187.3363 C389.6157,188.1281 390.0134,188.9108 390.429,189.6827 C391.2602,191.2265 392.1628,192.7267 393.1428,194.1686 C395.1028,197.0523 397.3725,199.7025 400,202 C434.93,232.54 472.98,183.62 503,219 C542.25,265.26 468.76,321.72 419.76,352.11 \" fill=\"none\" id=\"E5-&gt;E2\" style=\"stroke: #A80036; stroke-width: 1.0; stroke-dasharray: 7.0,7.0;\"/><polygon fill=\"#A80036\" points=\"415.39,354.79,425.1545,353.5035,419.6546,352.1799,420.9783,346.68,415.39,354.79\" style=\"stroke: #A80036; stroke-width: 1.0;\"/><text fill=\"#000000\" font-family=\"sans-serif\" font-size=\"13\" lengthAdjust=\"spacingAndGlyphs\" textLength=\"62\" x=\"507\" y=\"286.0669\">«subject»</text></a><!--MD5=[452b418e7f8a40397a49b8c0a78acc5b]\n",
       "reverse link E5 to E7--><a href=\"psysml:3495a436-635c-4195-be5e-85a5d126f0e1\" target=\"_top\" title=\"psysml:3495a436-635c-4195-be5e-85a5d126f0e1\" xlink:actuate=\"onRequest\" xlink:href=\"psysml:3495a436-635c-4195-be5e-85a5d126f0e1\" xlink:show=\"new\" xlink:title=\"psysml:3495a436-635c-4195-be5e-85a5d126f0e1\" xlink:type=\"simple\"><path d=\"M385.005,186.2108 C384.9568,186.4125 384.9074,186.6138 384.8566,186.8146 C384.6534,187.6179 384.4289,188.4138 384.1817,189.2006 C383.6875,190.7741 383.1027,192.3112 382.4166,193.7978 C381.0445,196.7711 379.2675,199.5425 377,202 C359.18,221.3 285.83,214.17 260,219 C254.03,220.12 247.88,221.34 241.69,222.63 \" fill=\"none\" id=\"E5&lt;-E7\" style=\"stroke: #A80036; stroke-width: 1.0;\"/><polygon fill=\"#A80036\" points=\"385.005,186.2108,379.721,191.1179,382.2183,197.8828,387.5023,192.9757,385.005,186.2108\" style=\"stroke: #A80036; stroke-width: 1.0;\"/></a><!--MD5=[dc164f5e8a733ab456ef1add180e9e34]\n",
       "reverse link E7 to E8--><a href=\"psysml:e1d2632c-68a4-476d-b3ed-d8b6d2aaac51\" target=\"_top\" title=\"psysml:e1d2632c-68a4-476d-b3ed-d8b6d2aaac51\" xlink:actuate=\"onRequest\" xlink:href=\"psysml:e1d2632c-68a4-476d-b3ed-d8b6d2aaac51\" xlink:show=\"new\" xlink:title=\"psysml:e1d2632c-68a4-476d-b3ed-d8b6d2aaac51\" xlink:type=\"simple\"><path d=\"M187.11,275.88 C192.38,283.39 197.81,291.12 202.52,297.82 \" fill=\"none\" id=\"E7&lt;-E8\" style=\"stroke: #A80036; stroke-width: 1.0;\"/><polygon fill=\"#FFFFFF\" points=\"179.6,265.2,179.7736,272.409,186.4948,275.0215,186.3212,267.8125,179.6,265.2\" style=\"stroke: #A80036; stroke-width: 1.0;\"/><text fill=\"#000000\" font-family=\"sans-serif\" font-size=\"13\" lengthAdjust=\"spacingAndGlyphs\" textLength=\"8\" x=\"189.3853\" y=\"286.7754\">1</text></a><!--MD5=[f1f3f9f2fc535e6147756cb86a7f2e32]\n",
       "link E8 to E2--><a href=\"psysml:a8ae8a0d-ad52-4d9e-986d-0c741d3467c2\" target=\"_top\" title=\"psysml:a8ae8a0d-ad52-4d9e-986d-0c741d3467c2\" xlink:actuate=\"onRequest\" xlink:href=\"psysml:a8ae8a0d-ad52-4d9e-986d-0c741d3467c2\" xlink:show=\"new\" xlink:title=\"psysml:a8ae8a0d-ad52-4d9e-986d-0c741d3467c2\" xlink:type=\"simple\"><path d=\"M273.25,338.08 C288.95,343.32 306.01,349 321.82,354.27 \" fill=\"none\" id=\"E8-&gt;E2\" style=\"stroke: #A80036; stroke-width: 1.0;\"/><polygon fill=\"#FFFFFF\" points=\"340.99,360.66,320.7517,361.3016,325.1729,348.018,340.99,360.66\" style=\"stroke: #A80036; stroke-width: 1.0;\"/><ellipse cx=\"315.975\" cy=\"357.6039\" fill=\"#A80036\" rx=\"2\" ry=\"2\" style=\"stroke: #A80036; stroke-width: 1.0;\"/><ellipse cx=\"319.133\" cy=\"348.1156\" fill=\"#A80036\" rx=\"2\" ry=\"2\" style=\"stroke: #A80036; stroke-width: 1.0;\"/></a><!--MD5=[9ae28de373ca99bb8a1b38d63370ca7e]\n",
       "reverse link E5 to E9--><a href=\"psysml:1023028c-00c5-4dde-9329-e4b02befe1ab\" target=\"_top\" title=\"psysml:1023028c-00c5-4dde-9329-e4b02befe1ab\" xlink:actuate=\"onRequest\" xlink:href=\"psysml:1023028c-00c5-4dde-9329-e4b02befe1ab\" xlink:show=\"new\" xlink:title=\"psysml:1023028c-00c5-4dde-9329-e4b02befe1ab\" xlink:type=\"simple\"><path d=\"M381,186.2468 C381,186.5235 381,186.8004 381,187.0775 C381,188.1856 381,189.296 381,190.4065 C381,192.6274 381,194.8485 381,197.0527 C381,205.8694 381,214.415 381,221.59 \" fill=\"none\" id=\"E5&lt;-E9\" style=\"stroke: #A80036; stroke-width: 1.0;\"/><polygon fill=\"#FFFFFF\" points=\"381,186.2468,377,192.2468,381,198.2468,385,192.2468,381,186.2468\" style=\"stroke: #A80036; stroke-width: 1.0;\"/><text fill=\"#000000\" font-family=\"sans-serif\" font-size=\"13\" lengthAdjust=\"spacingAndGlyphs\" textLength=\"8\" x=\"371.875\" y=\"210.8259\">1</text></a><!--MD5=[5c3bb36fe832a92c7f0e1807dd65209d]\n",
       "link E9 to E2--><a href=\"psysml:d6cd1bf0-a8ac-42a9-91c6-4adc5d4642e7\" target=\"_top\" title=\"psysml:d6cd1bf0-a8ac-42a9-91c6-4adc5d4642e7\" xlink:actuate=\"onRequest\" xlink:href=\"psysml:d6cd1bf0-a8ac-42a9-91c6-4adc5d4642e7\" xlink:show=\"new\" xlink:title=\"psysml:d6cd1bf0-a8ac-42a9-91c6-4adc5d4642e7\" xlink:type=\"simple\"><path d=\"M381,262.05 C381,281.06 381,310.84 381,334.91 \" fill=\"none\" id=\"E9-&gt;E2\" style=\"stroke: #A80036; stroke-width: 1.0;\"/><polygon fill=\"#FFFFFF\" points=\"381,354.93,374,335.93,388,335.93,381,354.93\" style=\"stroke: #A80036; stroke-width: 1.0;\"/><ellipse cx=\"376\" cy=\"330.23\" fill=\"#A80036\" rx=\"2\" ry=\"2\" style=\"stroke: #A80036; stroke-width: 1.0;\"/><ellipse cx=\"386\" cy=\"330.23\" fill=\"#A80036\" rx=\"2\" ry=\"2\" style=\"stroke: #A80036; stroke-width: 1.0;\"/></a><!--MD5=[41124982f3dc6e0053cafaae7fc2d050]\n",
       "@startuml\r\n",
       "skinparam ranksep 10\r\n",
       "skinparam rectangle {\r\n",
       " backgroundColor<<block>> LightGreen\r\n",
       "}\r\n",
       " \r\n",
       "package \"TradeStudyTest\" as E1  [[psysml:9d3e1c5c-e45c-4a85-8e75-4ee823ac8fbf ]]  {\r\n",
       "rec def \"Engine\" as E2 << << (B,green) >> [[psysml:956f1300-60cf-48ef-8161-7a381ae0bb8c ]] {\r\n",
       "}\r\n",
       "rec usage \"engine1: Engine\" as E3  [[psysml:5ff7a686-dab8-41cf-8031-b7dccb26607b ]] {\r\n",
       "}\r\n",
       "rec usage \"engine2: Engine\" as E4  [[psysml:44e88bb9-9b84-4b3f-b104-23d7a257fb04 ]] {\r\n",
       "}\r\n",
       "rec usage \"engineTradeStudy\" as E5 << analysis>> [[psysml:e12e8838-d64a-4336-9e52-2de97357eae2 ]] {\r\n",
       "comp usage \"tradeStudyObjective\" as E6  <<objective>> [[psysml:9a804e4d-bc47-4ee7-a2d8-d8527e0c1caf ]] {\r\n",
       "}\r\n",
       "}\r\n",
       "comp usage \"evaluationFunction \" as E7 << <<(U,orange) calculation>> [[psysml:1fa3686a-6014-4c73-9542-2575e26fd8a7 ]] {\r\n",
       "}\r\n",
       "comp usage \"alternative: Engine \" as E8  [[psysml:79c1d929-0a70-426e-ae6d-56e5e3e776a6 ]] {\r\n",
       "}\r\n",
       "comp usage \"selectedAlternative: Engine \" as E9  [[psysml:169f456a-e384-47f5-89e9-43fd13dd17eb ]] {\r\n",
       "}\r\n",
       "}\r\n",
       "E5 ..> E2 [[psysml:ef23f2a8-b555-4000-b8d1-a9fc8ea83129 ]] : <<subject>>\r\n",
       "E5 *- - E7 [[psysml:3495a436-635c-4195-be5e-85a5d126f0e1 ]] \r\n",
       "E7 o- - \"1\"E8 [[psysml:e1d2632c-68a4-476d-b3ed-d8b6d2aaac51 ]] \r\n",
       "E8 - -:|> E2 [[psysml:a8ae8a0d-ad52-4d9e-986d-0c741d3467c2 ]] \r\n",
       "E5 o- - \"1\"E9 [[psysml:1023028c-00c5-4dde-9329-e4b02befe1ab ]] \r\n",
       "E9 - -:|> E2 [[psysml:d6cd1bf0-a8ac-42a9-91c6-4adc5d4642e7 ]] \r\n",
       "@enduml\r\n",
       "\n",
       "PlantUML version 1.2020.13(Sat Jun 13 12:26:38 UTC 2020)\n",
       "(EPL source distribution)\n",
       "Java Runtime: OpenJDK Runtime Environment\n",
       "JVM: OpenJDK 64-Bit Server VM\n",
       "Default Encoding: UTF-8\n",
       "Language: en\n",
       "Country: null\n",
       "--></g></svg>"
      ]
     },
     "execution_count": 33,
     "metadata": {},
     "output_type": "execute_result"
    }
   ],
   "source": [
    "%viz --style=\"PLANTUML\" --view=\"Interconnection\" \"TradeStudyTest\""
   ]
  },
  {
   "cell_type": "code",
   "execution_count": 34,
   "id": "431bd2e0",
   "metadata": {
    "execution": {
     "iopub.execute_input": "2022-02-18T10:50:37.311505Z",
     "iopub.status.busy": "2022-02-18T10:50:37.311109Z",
     "iopub.status.idle": "2022-02-18T10:50:37.333905Z",
     "shell.execute_reply": "2022-02-18T10:50:37.333576Z"
    }
   },
   "outputs": [
    {
     "data": {
      "image/svg+xml": [
       "<?xml version=\"1.0\" encoding=\"UTF-8\" standalone=\"no\"?><svg xmlns=\"http://www.w3.org/2000/svg\" xmlns:xlink=\"http://www.w3.org/1999/xlink\" contentScriptType=\"application/ecmascript\" contentStyleType=\"text/css\" height=\"235px\" preserveAspectRatio=\"none\" style=\"width:442px;height:235px;\" version=\"1.1\" viewBox=\"0 0 442 235\" width=\"442px\" zoomAndPan=\"magnify\"><defs><filter height=\"300%\" id=\"fi75dqthxtaj8\" width=\"300%\" x=\"-1\" y=\"-1\"><feGaussianBlur result=\"blurOut\" stdDeviation=\"2.0\"/><feColorMatrix in=\"blurOut\" result=\"blurOut2\" type=\"matrix\" values=\"0 0 0 0 0 0 0 0 0 0 0 0 0 0 0 0 0 0 .4 0\"/><feOffset dx=\"4.0\" dy=\"4.0\" in=\"blurOut2\" result=\"blurOut3\"/><feBlend in=\"SourceGraphic\" in2=\"blurOut3\" mode=\"normal\"/></filter></defs><g><!--MD5=[fbc87193dbaf4d95561dea2c320d4a47]\n",
       "cluster E1--><a href=\"psysml:e12e8838-d64a-4336-9e52-2de97357eae2\" target=\"_top\" title=\"psysml:e12e8838-d64a-4336-9e52-2de97357eae2\" xlink:actuate=\"onRequest\" xlink:href=\"psysml:e12e8838-d64a-4336-9e52-2de97357eae2\" xlink:show=\"new\" xlink:title=\"psysml:e12e8838-d64a-4336-9e52-2de97357eae2\" xlink:type=\"simple\"><rect fill=\"#FFFFFF\" filter=\"url(#fi75dqthxtaj8)\" height=\"174.36\" id=\"E1\" rx=\"10\" ry=\"10\" style=\"stroke: #A80036; stroke-width: 1.5;\" width=\"317\" x=\"47\" y=\"42.0986\"/><rect fill=\"#FEFECE\" height=\"37.9375\" rx=\"10\" ry=\"10\" style=\"stroke: #FEFECE; stroke-width: 1.5;\" width=\"317\" x=\"47\" y=\"42.0986\"/><rect fill=\"#FEFECE\" height=\"10\" style=\"stroke: #FEFECE; stroke-width: 1.5;\" width=\"317\" x=\"47\" y=\"70.0361\"/><rect fill=\"none\" height=\"174.36\" id=\"E1\" rx=\"10\" ry=\"10\" style=\"stroke: #A80036; stroke-width: 1.5;\" width=\"317\" x=\"47\" y=\"42.0986\"/><text fill=\"#000000\" font-family=\"sans-serif\" font-size=\"12\" font-style=\"italic\" lengthAdjust=\"spacingAndGlyphs\" textLength=\"64\" x=\"173.5\" y=\"58.2373\">«analysis»</text><text fill=\"#000000\" font-family=\"sans-serif\" font-size=\"12\" lengthAdjust=\"spacingAndGlyphs\" textLength=\"114\" x=\"148.5\" y=\"72.2061\">engineTradeStudy</text><line style=\"stroke: #A80036; stroke-width: 1.0;\" x1=\"47\" x2=\"364\" y1=\"80.0361\" y2=\"80.0361\"/></a><!--MD5=[d5e69f78d87373223dbae638b30a9c99]\n",
       "cluster E3--><a href=\"psysml:1fa3686a-6014-4c73-9542-2575e26fd8a7\" target=\"_top\" title=\"psysml:1fa3686a-6014-4c73-9542-2575e26fd8a7\" xlink:actuate=\"onRequest\" xlink:href=\"psysml:1fa3686a-6014-4c73-9542-2575e26fd8a7\" xlink:show=\"new\" xlink:title=\"psysml:1fa3686a-6014-4c73-9542-2575e26fd8a7\" xlink:type=\"simple\"><rect fill=\"#FFFFFF\" filter=\"url(#fi75dqthxtaj8)\" height=\"104.86\" id=\"E3\" rx=\"10\" ry=\"10\" style=\"stroke: #A80036; stroke-width: 1.5;\" width=\"178\" x=\"145\" y=\"81.5986\"/><rect fill=\"#FEFECE\" height=\"37.9375\" rx=\"10\" ry=\"10\" style=\"stroke: #FEFECE; stroke-width: 1.5;\" width=\"178\" x=\"145\" y=\"81.5986\"/><rect fill=\"#FEFECE\" height=\"10\" style=\"stroke: #FEFECE; stroke-width: 1.5;\" width=\"178\" x=\"145\" y=\"109.5361\"/><rect fill=\"none\" height=\"104.86\" id=\"E3\" rx=\"10\" ry=\"10\" style=\"stroke: #A80036; stroke-width: 1.5;\" width=\"178\" x=\"145\" y=\"81.5986\"/><text fill=\"#000000\" font-family=\"sans-serif\" font-size=\"12\" font-style=\"italic\" lengthAdjust=\"spacingAndGlyphs\" textLength=\"82\" x=\"193\" y=\"97.7373\">«calculation»</text><text fill=\"#000000\" font-family=\"sans-serif\" font-size=\"12\" lengthAdjust=\"spacingAndGlyphs\" textLength=\"119\" x=\"174.5\" y=\"111.7061\">evaluationFunction</text><line style=\"stroke: #A80036; stroke-width: 1.0;\" x1=\"145\" x2=\"323\" y1=\"119.5361\" y2=\"119.5361\"/></a><text fill=\"#000000\" font-family=\"sans-serif\" font-size=\"14\" lengthAdjust=\"spacingAndGlyphs\" textLength=\"118\" x=\"6\" y=\"20.7969\">studyAlternatives</text><rect fill=\"#A80036\" height=\"12\" style=\"stroke: #FEFECE; stroke-width: 1.5;\" width=\"12\" x=\"59\" y=\"36.0986\"/><text fill=\"#000000\" font-family=\"sans-serif\" font-size=\"14\" lengthAdjust=\"spacingAndGlyphs\" textLength=\"132\" x=\"298\" y=\"183.0938\">selectedAlternative</text><rect fill=\"#A80036\" height=\"12\" style=\"stroke: #FEFECE; stroke-width: 1.5;\" width=\"12\" x=\"358\" y=\"158.0986\"/><text fill=\"#000000\" font-family=\"sans-serif\" font-size=\"14\" lengthAdjust=\"spacingAndGlyphs\" textLength=\"71\" x=\"198.5\" y=\"60.2969\">alternative</text><rect fill=\"#A80036\" height=\"12\" style=\"stroke: #FEFECE; stroke-width: 1.5;\" width=\"12\" x=\"228\" y=\"75.5986\"/><text fill=\"#000000\" font-family=\"sans-serif\" font-size=\"14\" lengthAdjust=\"spacingAndGlyphs\" textLength=\"39\" x=\"214.5\" y=\"205.4538\">result</text><rect fill=\"#A80036\" height=\"12\" style=\"stroke: #FEFECE; stroke-width: 1.5;\" width=\"12\" x=\"228\" y=\"180.4586\"/><!--MD5=[e920983b6d7f1afa514cf12c26bba786]\n",
       "@startuml\r\n",
       "skinparam ranksep 8\r\n",
       " \r\n",
       "rec usage \"engineTradeStudy\" as E1 << analysis>> [[psysml:e12e8838-d64a-4336-9e52-2de97357eae2 ]] {\r\n",
       "portin \"studyAlternatives\" as E2  [[psysml:36f294a0-7f48-45c5-aee6-574d3cef2e7a ]] \r\n",
       "rec usage \"evaluationFunction\" as E3 << <<(U,orange) calculation>> [[psysml:1fa3686a-6014-4c73-9542-2575e26fd8a7 ]] {\r\n",
       "portin \"alternative\" as E4  [[psysml:79c1d929-0a70-426e-ae6d-56e5e3e776a6 ]] \r\n",
       "portout \"result\" as E5  [[psysml:c19db6ea-6f05-4719-8826-e593430801be ]] \r\n",
       "}\r\n",
       "\r\n",
       "portout \"selectedAlternative\" as E6  [[psysml:169f456a-e384-47f5-89e9-43fd13dd17eb ]] \r\n",
       "}\r\n",
       "\r\n",
       "@enduml\r\n",
       "\n",
       "PlantUML version 1.2020.13(Sat Jun 13 12:26:38 UTC 2020)\n",
       "(EPL source distribution)\n",
       "Java Runtime: OpenJDK Runtime Environment\n",
       "JVM: OpenJDK 64-Bit Server VM\n",
       "Default Encoding: UTF-8\n",
       "Language: en\n",
       "Country: null\n",
       "--></g></svg>"
      ]
     },
     "execution_count": 34,
     "metadata": {},
     "output_type": "execute_result"
    }
   ],
   "source": [
    "%viz --style=\"PLANTUML\" --view=\"Action\" \"TradeStudyTest\""
   ]
  },
  {
   "cell_type": "code",
   "execution_count": 35,
   "id": "da58b7cf",
   "metadata": {
    "execution": {
     "iopub.execute_input": "2022-02-18T10:50:37.383677Z",
     "iopub.status.busy": "2022-02-18T10:50:37.383278Z",
     "iopub.status.idle": "2022-02-18T10:50:37.387183Z",
     "shell.execute_reply": "2022-02-18T10:50:37.386838Z"
    }
   },
   "outputs": [
    {
     "data": {
      "image/svg+xml": [
       "<?xml version=\"1.0\" encoding=\"UTF-8\" standalone=\"no\"?><svg xmlns=\"http://www.w3.org/2000/svg\" xmlns:xlink=\"http://www.w3.org/1999/xlink\" contentScriptType=\"application/ecmascript\" contentStyleType=\"text/css\" height=\"12px\" preserveAspectRatio=\"none\" style=\"width:12px;height:12px;\" version=\"1.1\" viewBox=\"0 0 12 12\" width=\"12px\" zoomAndPan=\"magnify\"><defs/><g><!--MD5=[ca4faa0b02def275ea33c14ea7a1a98d]\n",
       "@startuml\r\n",
       "skinparam roundcorner 20\r\n",
       "skinparam BoxPadding 20\r\n",
       "skinparam SequenceBoxBackgroundColor #white\r\n",
       "skinparam style strictuml\r\n",
       "skinparam maxMessageSize 100\r\n",
       " \r\n",
       "@enduml\r\n",
       "\n",
       "PlantUML version 1.2020.13(Sat Jun 13 12:26:38 UTC 2020)\n",
       "(EPL source distribution)\n",
       "Java Runtime: OpenJDK Runtime Environment\n",
       "JVM: OpenJDK 64-Bit Server VM\n",
       "Default Encoding: UTF-8\n",
       "Language: en\n",
       "Country: null\n",
       "--></g></svg>"
      ]
     },
     "execution_count": 35,
     "metadata": {},
     "output_type": "execute_result"
    }
   ],
   "source": [
    "%viz --style=\"PLANTUML\" --view=\"Sequence\" \"TradeStudyTest\""
   ]
  },
  {
   "cell_type": "code",
   "execution_count": 36,
   "id": "7187230f",
   "metadata": {
    "execution": {
     "iopub.execute_input": "2022-02-18T10:50:37.436923Z",
     "iopub.status.busy": "2022-02-18T10:50:37.436527Z",
     "iopub.status.idle": "2022-02-18T10:50:37.479292Z",
     "shell.execute_reply": "2022-02-18T10:50:37.478908Z"
    }
   },
   "outputs": [
    {
     "data": {
      "image/svg+xml": [
       "<?xml version=\"1.0\" encoding=\"UTF-8\" standalone=\"no\"?><svg xmlns=\"http://www.w3.org/2000/svg\" xmlns:xlink=\"http://www.w3.org/1999/xlink\" contentScriptType=\"application/ecmascript\" contentStyleType=\"text/css\" height=\"539px\" preserveAspectRatio=\"none\" style=\"width:644px;height:539px;\" version=\"1.1\" viewBox=\"0 0 644 539\" width=\"644px\" zoomAndPan=\"magnify\"><defs><filter height=\"300%\" id=\"fipjjuuy3tegd\" width=\"300%\" x=\"-1\" y=\"-1\"><feGaussianBlur result=\"blurOut\" stdDeviation=\"2.0\"/><feColorMatrix in=\"blurOut\" result=\"blurOut2\" type=\"matrix\" values=\"0 0 0 0 0 0 0 0 0 0 0 0 0 0 0 0 0 0 .4 0\"/><feOffset dx=\"4.0\" dy=\"4.0\" in=\"blurOut2\" result=\"blurOut3\"/><feBlend in=\"SourceGraphic\" in2=\"blurOut3\" mode=\"normal\"/></filter></defs><g><!--MD5=[fbc87193dbaf4d95561dea2c320d4a47]\n",
       "cluster E1--><a href=\"psysml:9d3e1c5c-e45c-4a85-8e75-4ee823ac8fbf\" target=\"_top\" title=\"psysml:9d3e1c5c-e45c-4a85-8e75-4ee823ac8fbf\" xlink:actuate=\"onRequest\" xlink:href=\"psysml:9d3e1c5c-e45c-4a85-8e75-4ee823ac8fbf\" xlink:show=\"new\" xlink:title=\"psysml:9d3e1c5c-e45c-4a85-8e75-4ee823ac8fbf\" xlink:type=\"simple\"><polygon fill=\"#FFFFFF\" filter=\"url(#fipjjuuy3tegd)\" points=\"16,6,132,6,139,28.2969,622,28.2969,622,527,16,527,16,6\" style=\"stroke: #000000; stroke-width: 1.5;\"/><line style=\"stroke: #000000; stroke-width: 1.5;\" x1=\"16\" x2=\"139\" y1=\"28.2969\" y2=\"28.2969\"/><text fill=\"#000000\" font-family=\"sans-serif\" font-size=\"14\" font-weight=\"bold\" lengthAdjust=\"spacingAndGlyphs\" textLength=\"110\" x=\"20\" y=\"20.9951\">TradeStudyTest</text></a><!--MD5=[de5ec2e2e8f62f467e546659f5068c88]\n",
       "cluster E5--><a href=\"psysml:e12e8838-d64a-4336-9e52-2de97357eae2\" target=\"_top\" title=\"psysml:e12e8838-d64a-4336-9e52-2de97357eae2\" xlink:actuate=\"onRequest\" xlink:href=\"psysml:e12e8838-d64a-4336-9e52-2de97357eae2\" xlink:show=\"new\" xlink:title=\"psysml:e12e8838-d64a-4336-9e52-2de97357eae2\" xlink:type=\"simple\"><rect fill=\"#FFFFFF\" filter=\"url(#fipjjuuy3tegd)\" height=\"129\" id=\"E5\" rx=\"10\" ry=\"10\" style=\"stroke: #A80036; stroke-width: 1.5;\" width=\"225\" x=\"277\" y=\"57\"/><rect fill=\"#FEFECE\" height=\"37.9375\" rx=\"10\" ry=\"10\" style=\"stroke: #FEFECE; stroke-width: 1.5;\" width=\"225\" x=\"277\" y=\"57\"/><rect fill=\"#FEFECE\" height=\"10\" style=\"stroke: #FEFECE; stroke-width: 1.5;\" width=\"225\" x=\"277\" y=\"84.9375\"/><rect fill=\"none\" height=\"129\" id=\"E5\" rx=\"10\" ry=\"10\" style=\"stroke: #A80036; stroke-width: 1.5;\" width=\"225\" x=\"277\" y=\"57\"/><text fill=\"#000000\" font-family=\"sans-serif\" font-size=\"12\" font-style=\"italic\" lengthAdjust=\"spacingAndGlyphs\" textLength=\"64\" x=\"357.5\" y=\"73.1387\">«analysis»</text><text fill=\"#000000\" font-family=\"sans-serif\" font-size=\"12\" lengthAdjust=\"spacingAndGlyphs\" textLength=\"114\" x=\"332.5\" y=\"87.1074\">engineTradeStudy</text><line style=\"stroke: #A80036; stroke-width: 1.0;\" x1=\"277\" x2=\"502\" y1=\"94.9375\" y2=\"94.9375\"/></a><!--MD5=[b4997ac47864f28c2f74865a473b2911]\n",
       "class E2--><a href=\"psysml:956f1300-60cf-48ef-8161-7a381ae0bb8c\" target=\"_top\" title=\"psysml:956f1300-60cf-48ef-8161-7a381ae0bb8c\" xlink:actuate=\"onRequest\" xlink:href=\"psysml:956f1300-60cf-48ef-8161-7a381ae0bb8c\" xlink:show=\"new\" xlink:title=\"psysml:956f1300-60cf-48ef-8161-7a381ae0bb8c\" xlink:type=\"simple\"><rect fill=\"#FEFECE\" filter=\"url(#fipjjuuy3tegd)\" height=\"40\" id=\"E2\" style=\"stroke: #A80036; stroke-width: 1.5;\" width=\"75\" x=\"341.5\" y=\"471\"/><ellipse cx=\"356.5\" cy=\"487\" fill=\"#008000\" rx=\"11\" ry=\"11\" style=\"stroke: #A80036; stroke-width: 1.0;\"/><path d=\"M353.375,492 L353.375,481.4063 L356.6094,481.4063 Q358.5156,481.4063 359.4219,482.1563 Q360.3438,482.9063 360.3438,484.0781 Q360.3438,484.7656 359.9531,485.4219 Q359.5781,486.0781 358.8594,486.375 Q359.7188,486.75 360.2344,487.4375 Q360.75,488.125 360.75,488.9375 Q360.75,490.3125 359.7188,491.1563 Q358.7031,492 356.5938,492 L353.375,492 Z M355.2969,485.6406 L356.4531,485.6406 Q357.5781,485.6406 357.9844,485.2656 Q358.4063,484.875 358.4063,484.25 Q358.4063,483.6719 357.9844,483.3125 Q357.5625,482.9531 356.625,482.9531 L355.2969,482.9531 L355.2969,485.6406 Z M355.2969,490.4219 L356.7969,490.4219 Q357.7031,490.4219 358.2344,490.0313 Q358.7656,489.6406 358.7656,488.8906 Q358.7656,488.125 358.2656,487.6563 Q357.7656,487.1719 356.5,487.1719 L355.2969,487.1719 L355.2969,490.4219 Z \"/><text fill=\"#000000\" font-family=\"sans-serif\" font-size=\"12\" lengthAdjust=\"spacingAndGlyphs\" textLength=\"43\" x=\"370.5\" y=\"491.1543\">Engine</text><line style=\"stroke: #A80036; stroke-width: 1.5;\" x1=\"342.5\" x2=\"415.5\" y1=\"503\" y2=\"503\"/></a><!--MD5=[09b614a08d8cba4a07c9adeb5e0fee81]\n",
       "class E3--><a href=\"psysml:5ff7a686-dab8-41cf-8031-b7dccb26607b\" target=\"_top\" title=\"psysml:5ff7a686-dab8-41cf-8031-b7dccb26607b\" xlink:actuate=\"onRequest\" xlink:href=\"psysml:5ff7a686-dab8-41cf-8031-b7dccb26607b\" xlink:show=\"new\" xlink:title=\"psysml:5ff7a686-dab8-41cf-8031-b7dccb26607b\" xlink:type=\"simple\"><rect fill=\"#FEFECE\" filter=\"url(#fipjjuuy3tegd)\" height=\"45.9375\" id=\"E3\" rx=\"10\" ry=\"10\" style=\"stroke: #A80036; stroke-width: 1.5;\" width=\"138\" x=\"205\" y=\"364\"/><ellipse cx=\"220\" cy=\"382.9688\" fill=\"#32CD32\" rx=\"11\" ry=\"11\" style=\"stroke: #A80036; stroke-width: 1.0;\"/><path d=\"M216.8125,387.9688 L216.8125,377.375 L220.4219,377.375 Q221.6406,377.375 222.4375,377.8125 Q223.2344,378.2344 223.6094,378.9375 Q224,379.6406 224,380.4844 Q224,381.3281 223.625,382.0156 Q223.2656,382.7031 222.4688,383.125 Q221.6875,383.5313 220.5,383.5313 L218.7656,383.5313 L218.7656,387.9688 L216.8125,387.9688 Z M218.7656,381.9375 L220.375,381.9375 Q221.1875,381.9375 221.6094,381.5313 Q222.0313,381.125 222.0313,380.4844 Q222.0313,379.8594 221.6094,379.4531 Q221.1875,379.0469 220.3906,379.0469 L218.7656,379.0469 L218.7656,381.9375 Z \"/><text fill=\"#000000\" font-family=\"sans-serif\" font-size=\"12\" font-style=\"italic\" lengthAdjust=\"spacingAndGlyphs\" textLength=\"40\" x=\"267\" y=\"380.1387\">«part»</text><text fill=\"#000000\" font-family=\"sans-serif\" font-size=\"12\" lengthAdjust=\"spacingAndGlyphs\" textLength=\"102\" x=\"234\" y=\"394.1074\">engine1: Engine</text><line style=\"stroke: #A80036; stroke-width: 1.5;\" x1=\"206\" x2=\"342\" y1=\"401.9375\" y2=\"401.9375\"/></a><!--MD5=[ebbe1d658d1005bcc118a6aa81145e00]\n",
       "class E4--><a href=\"psysml:44e88bb9-9b84-4b3f-b104-23d7a257fb04\" target=\"_top\" title=\"psysml:44e88bb9-9b84-4b3f-b104-23d7a257fb04\" xlink:actuate=\"onRequest\" xlink:href=\"psysml:44e88bb9-9b84-4b3f-b104-23d7a257fb04\" xlink:show=\"new\" xlink:title=\"psysml:44e88bb9-9b84-4b3f-b104-23d7a257fb04\" xlink:type=\"simple\"><rect fill=\"#FEFECE\" filter=\"url(#fipjjuuy3tegd)\" height=\"45.9375\" id=\"E4\" rx=\"10\" ry=\"10\" style=\"stroke: #A80036; stroke-width: 1.5;\" width=\"138\" x=\"32\" y=\"364\"/><ellipse cx=\"47\" cy=\"382.9688\" fill=\"#32CD32\" rx=\"11\" ry=\"11\" style=\"stroke: #A80036; stroke-width: 1.0;\"/><path d=\"M43.8125,387.9688 L43.8125,377.375 L47.4219,377.375 Q48.6406,377.375 49.4375,377.8125 Q50.2344,378.2344 50.6094,378.9375 Q51,379.6406 51,380.4844 Q51,381.3281 50.625,382.0156 Q50.2656,382.7031 49.4688,383.125 Q48.6875,383.5313 47.5,383.5313 L45.7656,383.5313 L45.7656,387.9688 L43.8125,387.9688 Z M45.7656,381.9375 L47.375,381.9375 Q48.1875,381.9375 48.6094,381.5313 Q49.0313,381.125 49.0313,380.4844 Q49.0313,379.8594 48.6094,379.4531 Q48.1875,379.0469 47.3906,379.0469 L45.7656,379.0469 L45.7656,381.9375 Z \"/><text fill=\"#000000\" font-family=\"sans-serif\" font-size=\"12\" font-style=\"italic\" lengthAdjust=\"spacingAndGlyphs\" textLength=\"40\" x=\"94\" y=\"380.1387\">«part»</text><text fill=\"#000000\" font-family=\"sans-serif\" font-size=\"12\" lengthAdjust=\"spacingAndGlyphs\" textLength=\"102\" x=\"61\" y=\"394.1074\">engine2: Engine</text><line style=\"stroke: #A80036; stroke-width: 1.5;\" x1=\"33\" x2=\"169\" y1=\"401.9375\" y2=\"401.9375\"/></a><!--MD5=[2156ba9850f5573cc1fc38a6a4b2f02b]\n",
       "class E7--><a href=\"psysml:1fa3686a-6014-4c73-9542-2575e26fd8a7\" target=\"_top\" title=\"psysml:1fa3686a-6014-4c73-9542-2575e26fd8a7\" xlink:actuate=\"onRequest\" xlink:href=\"psysml:1fa3686a-6014-4c73-9542-2575e26fd8a7\" xlink:show=\"new\" xlink:title=\"psysml:1fa3686a-6014-4c73-9542-2575e26fd8a7\" xlink:type=\"simple\"><rect fill=\"#FEFECE\" filter=\"url(#fipjjuuy3tegd)\" height=\"45.9375\" id=\"E7\" rx=\"10\" ry=\"10\" style=\"stroke: #A80036; stroke-width: 1.5;\" width=\"155\" x=\"207.5\" y=\"241\"/><ellipse cx=\"222.5\" cy=\"259.9688\" fill=\"#FFA500\" rx=\"11\" ry=\"11\" style=\"stroke: #A80036; stroke-width: 1.0;\"/><path d=\"M222.25,265.4375 Q220.5,265.4375 219.5469,264.4063 Q218.6094,263.3594 218.6094,261.5156 L218.6094,254.625 L220.6719,254.625 L220.6719,254.7813 Q220.5781,254.875 220.5469,255.0156 Q220.5313,255.1406 220.5313,255.4063 L220.5313,261.5313 Q220.5313,262.625 220.9063,263.25 Q221.2813,263.875 222.2656,263.875 Q223.25,263.875 223.6406,263.25 Q224.0313,262.625 224.0313,261.4844 L224.0313,254.625 L225.9063,254.625 L225.9063,261.4688 Q225.9063,263.5 224.875,264.4688 Q223.8594,265.4375 222.25,265.4375 Z \"/><text fill=\"#000000\" font-family=\"sans-serif\" font-size=\"12\" font-style=\"italic\" lengthAdjust=\"spacingAndGlyphs\" textLength=\"82\" x=\"257\" y=\"257.1387\">«calculation»</text><text fill=\"#000000\" font-family=\"sans-serif\" font-size=\"12\" lengthAdjust=\"spacingAndGlyphs\" textLength=\"119\" x=\"236.5\" y=\"271.1074\">evaluationFunction</text><line style=\"stroke: #A80036; stroke-width: 1.5;\" x1=\"208.5\" x2=\"361.5\" y1=\"278.9375\" y2=\"278.9375\"/></a><!--MD5=[b9389687b975829384b498ac4b7476b2]\n",
       "class E8--><a href=\"psysml:79c1d929-0a70-426e-ae6d-56e5e3e776a6\" target=\"_top\" title=\"psysml:79c1d929-0a70-426e-ae6d-56e5e3e776a6\" xlink:actuate=\"onRequest\" xlink:href=\"psysml:79c1d929-0a70-426e-ae6d-56e5e3e776a6\" xlink:show=\"new\" xlink:title=\"psysml:79c1d929-0a70-426e-ae6d-56e5e3e776a6\" xlink:type=\"simple\"><rect fill=\"#FEFECE\" filter=\"url(#fipjjuuy3tegd)\" height=\"45.9375\" id=\"E8\" rx=\"10\" ry=\"10\" style=\"stroke: #A80036; stroke-width: 1.5;\" width=\"154\" x=\"415\" y=\"364\"/><ellipse cx=\"430\" cy=\"382.9688\" fill=\"#32CD32\" rx=\"11\" ry=\"11\" style=\"stroke: #A80036; stroke-width: 1.0;\"/><path d=\"M426.8125,387.9688 L426.8125,377.375 L430.4219,377.375 Q431.6406,377.375 432.4375,377.8125 Q433.2344,378.2344 433.6094,378.9375 Q434,379.6406 434,380.4844 Q434,381.3281 433.625,382.0156 Q433.2656,382.7031 432.4688,383.125 Q431.6875,383.5313 430.5,383.5313 L428.7656,383.5313 L428.7656,387.9688 L426.8125,387.9688 Z M428.7656,381.9375 L430.375,381.9375 Q431.1875,381.9375 431.6094,381.5313 Q432.0313,381.125 432.0313,380.4844 Q432.0313,379.8594 431.6094,379.4531 Q431.1875,379.0469 430.3906,379.0469 L428.7656,379.0469 L428.7656,381.9375 Z \"/><text fill=\"#000000\" font-family=\"sans-serif\" font-size=\"12\" font-style=\"italic\" lengthAdjust=\"spacingAndGlyphs\" textLength=\"40\" x=\"485\" y=\"380.1387\">«part»</text><text fill=\"#000000\" font-family=\"sans-serif\" font-size=\"12\" lengthAdjust=\"spacingAndGlyphs\" textLength=\"118\" x=\"444\" y=\"394.1074\">alternative: Engine</text><line style=\"stroke: #A80036; stroke-width: 1.5;\" x1=\"416\" x2=\"568\" y1=\"401.9375\" y2=\"401.9375\"/></a><!--MD5=[fd4143e9d270a159db93a4ea2a975926]\n",
       "class E9--><a href=\"psysml:169f456a-e384-47f5-89e9-43fd13dd17eb\" target=\"_top\" title=\"psysml:169f456a-e384-47f5-89e9-43fd13dd17eb\" xlink:actuate=\"onRequest\" xlink:href=\"psysml:169f456a-e384-47f5-89e9-43fd13dd17eb\" xlink:show=\"new\" xlink:title=\"psysml:169f456a-e384-47f5-89e9-43fd13dd17eb\" xlink:type=\"simple\"><rect fill=\"#FEFECE\" filter=\"url(#fipjjuuy3tegd)\" height=\"45.9375\" id=\"E9\" rx=\"10\" ry=\"10\" style=\"stroke: #A80036; stroke-width: 1.5;\" width=\"208\" x=\"398\" y=\"241\"/><ellipse cx=\"413\" cy=\"259.9688\" fill=\"#32CD32\" rx=\"11\" ry=\"11\" style=\"stroke: #A80036; stroke-width: 1.0;\"/><path d=\"M409.8125,264.9688 L409.8125,254.375 L413.4219,254.375 Q414.6406,254.375 415.4375,254.8125 Q416.2344,255.2344 416.6094,255.9375 Q417,256.6406 417,257.4844 Q417,258.3281 416.625,259.0156 Q416.2656,259.7031 415.4688,260.125 Q414.6875,260.5313 413.5,260.5313 L411.7656,260.5313 L411.7656,264.9688 L409.8125,264.9688 Z M411.7656,258.9375 L413.375,258.9375 Q414.1875,258.9375 414.6094,258.5313 Q415.0313,258.125 415.0313,257.4844 Q415.0313,256.8594 414.6094,256.4531 Q414.1875,256.0469 413.3906,256.0469 L411.7656,256.0469 L411.7656,258.9375 Z \"/><text fill=\"#000000\" font-family=\"sans-serif\" font-size=\"12\" font-style=\"italic\" lengthAdjust=\"spacingAndGlyphs\" textLength=\"40\" x=\"495\" y=\"257.1387\">«part»</text><text fill=\"#000000\" font-family=\"sans-serif\" font-size=\"12\" lengthAdjust=\"spacingAndGlyphs\" textLength=\"172\" x=\"427\" y=\"271.1074\">selectedAlternative: Engine</text><line style=\"stroke: #A80036; stroke-width: 1.5;\" x1=\"399\" x2=\"605\" y1=\"278.9375\" y2=\"278.9375\"/></a><!--MD5=[60a26617385b1d2d0262a64233df1f8d]\n",
       "class E6--><a href=\"psysml:9a804e4d-bc47-4ee7-a2d8-d8527e0c1caf\" target=\"_top\" title=\"psysml:9a804e4d-bc47-4ee7-a2d8-d8527e0c1caf\" xlink:actuate=\"onRequest\" xlink:href=\"psysml:9a804e4d-bc47-4ee7-a2d8-d8527e0c1caf\" xlink:show=\"new\" xlink:title=\"psysml:9a804e4d-bc47-4ee7-a2d8-d8527e0c1caf\" xlink:type=\"simple\"><rect fill=\"#FEFECE\" filter=\"url(#fipjjuuy3tegd)\" height=\"45.9375\" id=\"E6\" rx=\"10\" ry=\"10\" style=\"stroke: #A80036; stroke-width: 1.5;\" width=\"158\" x=\"320\" y=\"116\"/><ellipse cx=\"335\" cy=\"134.9688\" fill=\"#B6DBBB\" rx=\"11\" ry=\"11\" style=\"stroke: #A80036; stroke-width: 1.0;\"/><path d=\"M334.75,140.4375 Q333,140.4375 332.0469,139.4063 Q331.1094,138.3594 331.1094,136.5156 L331.1094,129.625 L333.1719,129.625 L333.1719,129.7813 Q333.0781,129.875 333.0469,130.0156 Q333.0313,130.1406 333.0313,130.4063 L333.0313,136.5313 Q333.0313,137.625 333.4063,138.25 Q333.7813,138.875 334.7656,138.875 Q335.75,138.875 336.1406,138.25 Q336.5313,137.625 336.5313,136.4844 L336.5313,129.625 L338.4063,129.625 L338.4063,136.4688 Q338.4063,138.5 337.375,139.4688 Q336.3594,140.4375 334.75,140.4375 Z \"/><text fill=\"#000000\" font-family=\"sans-serif\" font-size=\"12\" font-style=\"italic\" lengthAdjust=\"spacingAndGlyphs\" textLength=\"70\" x=\"377\" y=\"132.1387\">«objective»</text><text fill=\"#000000\" font-family=\"sans-serif\" font-size=\"12\" lengthAdjust=\"spacingAndGlyphs\" textLength=\"126\" x=\"349\" y=\"146.1074\">tradeStudyObjective</text><line style=\"stroke: #A80036; stroke-width: 1.5;\" x1=\"321\" x2=\"477\" y1=\"153.9375\" y2=\"153.9375\"/></a><!--MD5=[05d275557350bfb9b23a4ef7222b4c39]\n",
       "link E3 to E2--><a href=\"psysml:9be21745-fec5-4980-9af6-b796782d7969\" target=\"_top\" title=\"psysml:9be21745-fec5-4980-9af6-b796782d7969\" xlink:actuate=\"onRequest\" xlink:href=\"psysml:9be21745-fec5-4980-9af6-b796782d7969\" xlink:show=\"new\" xlink:title=\"psysml:9be21745-fec5-4980-9af6-b796782d7969\" xlink:type=\"simple\"><path d=\"M296.78,410.13 C310.81,423.76 329.05,441.47 344.78,456.76 \" fill=\"none\" id=\"E3-&gt;E2\" style=\"stroke: #A80036; stroke-width: 1.0;\"/><polygon fill=\"#FFFFFF\" points=\"359.44,471,340.9371,462.7755,350.6956,452.737,359.44,471\" style=\"stroke: #A80036; stroke-width: 1.0;\"/><ellipse cx=\"338.2441\" cy=\"457.3683\" fill=\"#A80036\" rx=\"2\" ry=\"2\" style=\"stroke: #A80036; stroke-width: 1.0;\"/><ellipse cx=\"345.2144\" cy=\"450.198\" fill=\"#A80036\" rx=\"2\" ry=\"2\" style=\"stroke: #A80036; stroke-width: 1.0;\"/></a><!--MD5=[185131fc0dcab0a4505a2ebe144e961b]\n",
       "link E4 to E2--><a href=\"psysml:1ad537aa-bda6-4221-a392-6db0b9fa994b\" target=\"_top\" title=\"psysml:1ad537aa-bda6-4221-a392-6db0b9fa994b\" xlink:actuate=\"onRequest\" xlink:href=\"psysml:1ad537aa-bda6-4221-a392-6db0b9fa994b\" xlink:show=\"new\" xlink:title=\"psysml:1ad537aa-bda6-4221-a392-6db0b9fa994b\" xlink:type=\"simple\"><path d=\"M160.98,410.01 C208.88,427.58 275.54,452.04 322.51,469.27 \" fill=\"none\" id=\"E4-&gt;E2\" style=\"stroke: #A80036; stroke-width: 1.0;\"/><polygon fill=\"#FFFFFF\" points=\"341.32,476.17,321.0716,476.2036,325.8897,463.0588,341.32,476.17\" style=\"stroke: #A80036; stroke-width: 1.0;\"/><ellipse cx=\"316.4081\" cy=\"472.3641\" fill=\"#A80036\" rx=\"2\" ry=\"2\" style=\"stroke: #A80036; stroke-width: 1.0;\"/><ellipse cx=\"319.8496\" cy=\"462.9749\" fill=\"#A80036\" rx=\"2\" ry=\"2\" style=\"stroke: #A80036; stroke-width: 1.0;\"/></a><!--MD5=[15ebcb19ae302d9b601edb458606d402]\n",
       "link E5 to E2--><a href=\"psysml:ef23f2a8-b555-4000-b8d1-a9fc8ea83129\" target=\"_top\" title=\"psysml:ef23f2a8-b555-4000-b8d1-a9fc8ea83129\" xlink:actuate=\"onRequest\" xlink:href=\"psysml:ef23f2a8-b555-4000-b8d1-a9fc8ea83129\" xlink:show=\"new\" xlink:title=\"psysml:ef23f2a8-b555-4000-b8d1-a9fc8ea83129\" xlink:type=\"simple\"><path d=\"M276.7856,145.1967 C276.6545,145.2825 276.5222,145.3694 276.3885,145.4572 C275.8538,145.8084 275.2982,146.1754 274.7228,146.5578 C273.5721,147.3226 272.3422,148.149 271.0425,149.0341 C268.4431,150.8042 265.5642,152.8092 262.4795,155.0263 C250.1409,163.8944 234.5106,176.155 220.3087,190.3475 C191.905,218.7325 169.215,254.845 190,287 C212.62,322 335.95,330.69 361,364 C383.16,393.47 384.08,438.06 382.03,465.53 \" fill=\"none\" id=\"E5-&gt;E2\" style=\"stroke: #A80036; stroke-width: 1.0; stroke-dasharray: 7.0,7.0;\"/><polygon fill=\"#A80036\" points=\"381.59,470.79,386.3482,462.1668,382.0194,465.8085,378.3778,461.4797,381.59,470.79\" style=\"stroke: #A80036; stroke-width: 1.0;\"/><text fill=\"#000000\" font-family=\"sans-serif\" font-size=\"13\" lengthAdjust=\"spacingAndGlyphs\" textLength=\"62\" x=\"301\" y=\"330.0669\">«subject»</text></a><!--MD5=[452b418e7f8a40397a49b8c0a78acc5b]\n",
       "reverse link E5 to E7--><a href=\"psysml:3495a436-635c-4195-be5e-85a5d126f0e1\" target=\"_top\" title=\"psysml:3495a436-635c-4195-be5e-85a5d126f0e1\" xlink:actuate=\"onRequest\" xlink:href=\"psysml:3495a436-635c-4195-be5e-85a5d126f0e1\" xlink:show=\"new\" xlink:title=\"psysml:3495a436-635c-4195-be5e-85a5d126f0e1\" xlink:type=\"simple\"><path d=\"M285,186.2997 C285,188.9655 285,191.6719 285,194.3971 C285,199.8476 285,205.3735 285,210.8005 C285,221.6544 285,232.1125 285,240.78 \" fill=\"none\" id=\"E5&lt;-E7\" style=\"stroke: #A80036; stroke-width: 1.0;\"/><polygon fill=\"#A80036\" points=\"285,186.2997,281,192.2997,285,198.2997,289,192.2997,285,186.2997\" style=\"stroke: #A80036; stroke-width: 1.0;\"/></a><!--MD5=[dc164f5e8a733ab456ef1add180e9e34]\n",
       "reverse link E7 to E8--><a href=\"psysml:e1d2632c-68a4-476d-b3ed-d8b6d2aaac51\" target=\"_top\" title=\"psysml:e1d2632c-68a4-476d-b3ed-d8b6d2aaac51\" xlink:actuate=\"onRequest\" xlink:href=\"psysml:e1d2632c-68a4-476d-b3ed-d8b6d2aaac51\" xlink:show=\"new\" xlink:title=\"psysml:e1d2632c-68a4-476d-b3ed-d8b6d2aaac51\" xlink:type=\"simple\"><path d=\"M334.43,293.89 C371.2,315.39 420.65,344.29 454.27,363.95 \" fill=\"none\" id=\"E7&lt;-E8\" style=\"stroke: #A80036; stroke-width: 1.0;\"/><polygon fill=\"#FFFFFF\" points=\"322.97,287.19,326.1244,293.6746,333.3234,293.2569,330.169,286.7723,322.97,287.19\" style=\"stroke: #A80036; stroke-width: 1.0;\"/><text fill=\"#000000\" font-family=\"sans-serif\" font-size=\"13\" lengthAdjust=\"spacingAndGlyphs\" textLength=\"8\" x=\"435.0551\" y=\"352.8328\">1</text></a><!--MD5=[f1f3f9f2fc535e6147756cb86a7f2e32]\n",
       "link E8 to E2--><a href=\"psysml:a8ae8a0d-ad52-4d9e-986d-0c741d3467c2\" target=\"_top\" title=\"psysml:a8ae8a0d-ad52-4d9e-986d-0c741d3467c2\" xlink:actuate=\"onRequest\" xlink:href=\"psysml:a8ae8a0d-ad52-4d9e-986d-0c741d3467c2\" xlink:show=\"new\" xlink:title=\"psysml:a8ae8a0d-ad52-4d9e-986d-0c741d3467c2\" xlink:type=\"simple\"><path d=\"M467.48,410.13 C452.15,423.97 432.14,442.03 415.03,457.48 \" fill=\"none\" id=\"E8-&gt;E2\" style=\"stroke: #A80036; stroke-width: 1.0;\"/><polygon fill=\"#FFFFFF\" points=\"400.05,471,409.4622,453.0721,418.8438,463.4638,400.05,471\" style=\"stroke: #A80036; stroke-width: 1.0;\"/><ellipse cx=\"415.0334\" cy=\"450.737\" fill=\"#A80036\" rx=\"2\" ry=\"2\" style=\"stroke: #A80036; stroke-width: 1.0;\"/><ellipse cx=\"421.7344\" cy=\"458.1596\" fill=\"#A80036\" rx=\"2\" ry=\"2\" style=\"stroke: #A80036; stroke-width: 1.0;\"/></a><!--MD5=[9ae28de373ca99bb8a1b38d63370ca7e]\n",
       "reverse link E5 to E9--><a href=\"psysml:1023028c-00c5-4dde-9329-e4b02befe1ab\" target=\"_top\" title=\"psysml:1023028c-00c5-4dde-9329-e4b02befe1ab\" xlink:actuate=\"onRequest\" xlink:href=\"psysml:1023028c-00c5-4dde-9329-e4b02befe1ab\" xlink:show=\"new\" xlink:title=\"psysml:1023028c-00c5-4dde-9329-e4b02befe1ab\" xlink:type=\"simple\"><path d=\"M293.4869,186.169 C293.5772,186.3709 293.6685,186.5724 293.7608,186.7735 C294.1299,187.5776 294.5144,188.3746 294.9149,189.1626 C295.7161,190.7385 296.5816,192.2785 297.5165,193.7687 C299.3863,196.7491 301.5338,199.53 304,202 C318.52,216.54 359.51,230.25 400.46,240.98 \" fill=\"none\" id=\"E5&lt;-E9\" style=\"stroke: #A80036; stroke-width: 1.0;\"/><polygon fill=\"#FFFFFF\" points=\"293.4869,186.169,292.2862,193.2794,298.3879,197.1225,299.5886,190.0121,293.4869,186.169\" style=\"stroke: #A80036; stroke-width: 1.0;\"/><text fill=\"#000000\" font-family=\"sans-serif\" font-size=\"13\" lengthAdjust=\"spacingAndGlyphs\" textLength=\"8\" x=\"382.0709\" y=\"235.0522\">1</text></a><!--MD5=[5c3bb36fe832a92c7f0e1807dd65209d]\n",
       "link E9 to E2--><a href=\"psysml:d6cd1bf0-a8ac-42a9-91c6-4adc5d4642e7\" target=\"_top\" title=\"psysml:d6cd1bf0-a8ac-42a9-91c6-4adc5d4642e7\" xlink:actuate=\"onRequest\" xlink:href=\"psysml:d6cd1bf0-a8ac-42a9-91c6-4adc5d4642e7\" xlink:show=\"new\" xlink:title=\"psysml:d6cd1bf0-a8ac-42a9-91c6-4adc5d4642e7\" xlink:type=\"simple\"><path d=\"M531.42,287.22 C566.15,316.2 615.74,368.15 587,410 C553.53,458.73 485.93,477.79 436.85,485.24 \" fill=\"none\" id=\"E9-&gt;E2\" style=\"stroke: #A80036; stroke-width: 1.0;\"/><polygon fill=\"#FFFFFF\" points=\"416.78,487.8,434.7361,478.4417,436.5157,492.3281,416.78,487.8\" style=\"stroke: #A80036; stroke-width: 1.0;\"/><ellipse cx=\"440.6441\" cy=\"479.7009\" fill=\"#A80036\" rx=\"2\" ry=\"2\" style=\"stroke: #A80036; stroke-width: 1.0;\"/><ellipse cx=\"441.9152\" cy=\"489.6198\" fill=\"#A80036\" rx=\"2\" ry=\"2\" style=\"stroke: #A80036; stroke-width: 1.0;\"/></a><!--MD5=[0e461f1ce156bcefc08934b2e018fc6a]\n",
       "@startuml\r\n",
       " \r\n",
       "package \"TradeStudyTest\" as E1  [[psysml:9d3e1c5c-e45c-4a85-8e75-4ee823ac8fbf ]]  {\r\n",
       "comp def \"Engine\" as E2 << << (B,green) >> [[psysml:956f1300-60cf-48ef-8161-7a381ae0bb8c ]] {\r\n",
       "}\r\n",
       "comp usage \"engine1: Engine \" as E3 << << (P,limegreen) part>> [[psysml:5ff7a686-dab8-41cf-8031-b7dccb26607b ]] {\r\n",
       "}\r\n",
       "comp usage \"engine2: Engine \" as E4 << << (P,limegreen) part>> [[psysml:44e88bb9-9b84-4b3f-b104-23d7a257fb04 ]] {\r\n",
       "}\r\n",
       "rec usage \"engineTradeStudy\" as E5 << analysis>> [[psysml:e12e8838-d64a-4336-9e52-2de97357eae2 ]] {\r\n",
       "comp usage \"tradeStudyObjective\" as E6  <<objective>> [[psysml:9a804e4d-bc47-4ee7-a2d8-d8527e0c1caf ]] {\r\n",
       "}\r\n",
       "}\r\n",
       "comp usage \"evaluationFunction \" as E7 << <<(U,orange) calculation>> [[psysml:1fa3686a-6014-4c73-9542-2575e26fd8a7 ]] {\r\n",
       "}\r\n",
       "comp usage \"alternative: Engine \" as E8 << << (P,limegreen) part>> [[psysml:79c1d929-0a70-426e-ae6d-56e5e3e776a6 ]] {\r\n",
       "}\r\n",
       "comp usage \"selectedAlternative: Engine \" as E9 << << (P,limegreen) part>> [[psysml:169f456a-e384-47f5-89e9-43fd13dd17eb ]] {\r\n",
       "}\r\n",
       "}\r\n",
       "E3 - -:|> E2 [[psysml:9be21745-fec5-4980-9af6-b796782d7969 ]] \r\n",
       "E4 - -:|> E2 [[psysml:1ad537aa-bda6-4221-a392-6db0b9fa994b ]] \r\n",
       "E5 ..> E2 [[psysml:ef23f2a8-b555-4000-b8d1-a9fc8ea83129 ]] : <<subject>>\r\n",
       "E5 *- - E7 [[psysml:3495a436-635c-4195-be5e-85a5d126f0e1 ]] \r\n",
       "E7 o- - \"1\"E8 [[psysml:e1d2632c-68a4-476d-b3ed-d8b6d2aaac51 ]] \r\n",
       "E8 - -:|> E2 [[psysml:a8ae8a0d-ad52-4d9e-986d-0c741d3467c2 ]] \r\n",
       "E5 o- - \"1\"E9 [[psysml:1023028c-00c5-4dde-9329-e4b02befe1ab ]] \r\n",
       "E9 - -:|> E2 [[psysml:d6cd1bf0-a8ac-42a9-91c6-4adc5d4642e7 ]] \r\n",
       "@enduml\r\n",
       "\n",
       "PlantUML version 1.2020.13(Sat Jun 13 12:26:38 UTC 2020)\n",
       "(EPL source distribution)\n",
       "Java Runtime: OpenJDK Runtime Environment\n",
       "JVM: OpenJDK 64-Bit Server VM\n",
       "Default Encoding: UTF-8\n",
       "Language: en\n",
       "Country: null\n",
       "--></g></svg>"
      ]
     },
     "execution_count": 36,
     "metadata": {},
     "output_type": "execute_result"
    }
   ],
   "source": [
    "%viz --style=\"PLANTUML\" --view=\"MIXED\" \"TradeStudyTest\""
   ]
  },
  {
   "cell_type": "code",
   "execution_count": 37,
   "id": "b4ff45d3",
   "metadata": {
    "execution": {
     "iopub.execute_input": "2022-02-18T10:50:37.528410Z",
     "iopub.status.busy": "2022-02-18T10:50:37.528001Z",
     "iopub.status.idle": "2022-02-18T10:50:37.573208Z",
     "shell.execute_reply": "2022-02-18T10:50:37.573497Z"
    }
   },
   "outputs": [
    {
     "data": {
      "image/svg+xml": [
       "<?xml version=\"1.0\" encoding=\"UTF-8\" standalone=\"no\"?><svg xmlns=\"http://www.w3.org/2000/svg\" xmlns:xlink=\"http://www.w3.org/1999/xlink\" contentScriptType=\"application/ecmascript\" contentStyleType=\"text/css\" height=\"545px\" preserveAspectRatio=\"none\" style=\"width:566px;height:545px;\" version=\"1.1\" viewBox=\"0 0 566 545\" width=\"566px\" zoomAndPan=\"magnify\"><defs/><g><!--MD5=[fbc87193dbaf4d95561dea2c320d4a47]\n",
       "cluster E1--><a href=\"psysml:9d3e1c5c-e45c-4a85-8e75-4ee823ac8fbf\" target=\"_top\" title=\"psysml:9d3e1c5c-e45c-4a85-8e75-4ee823ac8fbf\" xlink:actuate=\"onRequest\" xlink:href=\"psysml:9d3e1c5c-e45c-4a85-8e75-4ee823ac8fbf\" xlink:show=\"new\" xlink:title=\"psysml:9d3e1c5c-e45c-4a85-8e75-4ee823ac8fbf\" xlink:type=\"simple\"><polygon fill=\"#FFFFFF\" points=\"16,6,132,6,139,28.2969,544,28.2969,544,533,16,533,16,6\" style=\"stroke: #000000; stroke-width: 1.5;\"/><line style=\"stroke: #000000; stroke-width: 1.5;\" x1=\"16\" x2=\"139\" y1=\"28.2969\" y2=\"28.2969\"/><text fill=\"#000000\" font-family=\"sans-serif\" font-size=\"14\" font-weight=\"bold\" lengthAdjust=\"spacingAndGlyphs\" textLength=\"110\" x=\"20\" y=\"20.9951\">TradeStudyTest</text></a><!--MD5=[de5ec2e2e8f62f467e546659f5068c88]\n",
       "cluster E5--><a href=\"psysml:e12e8838-d64a-4336-9e52-2de97357eae2\" target=\"_top\" title=\"psysml:e12e8838-d64a-4336-9e52-2de97357eae2\" xlink:actuate=\"onRequest\" xlink:href=\"psysml:e12e8838-d64a-4336-9e52-2de97357eae2\" xlink:show=\"new\" xlink:title=\"psysml:e12e8838-d64a-4336-9e52-2de97357eae2\" xlink:type=\"simple\"><rect fill=\"#FFFFFF\" height=\"129\" id=\"E5\" rx=\"10\" ry=\"10\" style=\"stroke: #383838; stroke-width: 1.5;\" width=\"199\" x=\"238\" y=\"57\"/><rect fill=\"#F8F8F8\" height=\"37.9375\" rx=\"10\" ry=\"10\" style=\"stroke: #F8F8F8; stroke-width: 1.5;\" width=\"199\" x=\"238\" y=\"57\"/><rect fill=\"#F8F8F8\" height=\"10\" style=\"stroke: #F8F8F8; stroke-width: 1.5;\" width=\"199\" x=\"238\" y=\"84.9375\"/><rect fill=\"none\" height=\"129\" id=\"E5\" rx=\"10\" ry=\"10\" style=\"stroke: #383838; stroke-width: 1.5;\" width=\"199\" x=\"238\" y=\"57\"/><text fill=\"#000000\" font-family=\"sans-serif\" font-size=\"12\" font-style=\"italic\" lengthAdjust=\"spacingAndGlyphs\" textLength=\"64\" x=\"305.5\" y=\"73.1387\">«analysis»</text><text fill=\"#000000\" font-family=\"sans-serif\" font-size=\"12\" lengthAdjust=\"spacingAndGlyphs\" textLength=\"114\" x=\"280.5\" y=\"87.1074\">engineTradeStudy</text><line style=\"stroke: #383838; stroke-width: 1.0;\" x1=\"238\" x2=\"437\" y1=\"94.9375\" y2=\"94.9375\"/></a><!--MD5=[b4997ac47864f28c2f74865a473b2911]\n",
       "class E2--><a href=\"psysml:956f1300-60cf-48ef-8161-7a381ae0bb8c\" target=\"_top\" title=\"psysml:956f1300-60cf-48ef-8161-7a381ae0bb8c\" xlink:actuate=\"onRequest\" xlink:href=\"psysml:956f1300-60cf-48ef-8161-7a381ae0bb8c\" xlink:show=\"new\" xlink:title=\"psysml:956f1300-60cf-48ef-8161-7a381ae0bb8c\" xlink:type=\"simple\"><rect fill=\"#FFFFFF\" height=\"45.9375\" id=\"E2\" style=\"stroke: #383838; stroke-width: 1.5;\" width=\"70\" x=\"292\" y=\"471\"/><text fill=\"#000000\" font-family=\"sans-serif\" font-size=\"12\" font-style=\"italic\" lengthAdjust=\"spacingAndGlyphs\" textLength=\"68\" x=\"293\" y=\"487.1387\">«part  def»</text><text fill=\"#000000\" font-family=\"sans-serif\" font-size=\"12\" lengthAdjust=\"spacingAndGlyphs\" textLength=\"43\" x=\"305.5\" y=\"501.1074\">Engine</text><line style=\"stroke: #383838; stroke-width: 1.5;\" x1=\"293\" x2=\"361\" y1=\"508.9375\" y2=\"508.9375\"/></a><!--MD5=[09b614a08d8cba4a07c9adeb5e0fee81]\n",
       "class E3--><a href=\"psysml:5ff7a686-dab8-41cf-8031-b7dccb26607b\" target=\"_top\" title=\"psysml:5ff7a686-dab8-41cf-8031-b7dccb26607b\" xlink:actuate=\"onRequest\" xlink:href=\"psysml:5ff7a686-dab8-41cf-8031-b7dccb26607b\" xlink:show=\"new\" xlink:title=\"psysml:5ff7a686-dab8-41cf-8031-b7dccb26607b\" xlink:type=\"simple\"><rect fill=\"#FFFFFF\" height=\"45.9375\" id=\"E3\" rx=\"10\" ry=\"10\" style=\"stroke: #383838; stroke-width: 1.5;\" width=\"112\" x=\"179\" y=\"364\"/><text fill=\"#000000\" font-family=\"sans-serif\" font-size=\"12\" font-style=\"italic\" lengthAdjust=\"spacingAndGlyphs\" textLength=\"40\" x=\"215\" y=\"380.1387\">«part»</text><text fill=\"#000000\" font-family=\"sans-serif\" font-size=\"12\" lengthAdjust=\"spacingAndGlyphs\" textLength=\"102\" x=\"182\" y=\"394.1074\">engine1: Engine</text><line style=\"stroke: #383838; stroke-width: 1.5;\" x1=\"180\" x2=\"290\" y1=\"401.9375\" y2=\"401.9375\"/></a><!--MD5=[ebbe1d658d1005bcc118a6aa81145e00]\n",
       "class E4--><a href=\"psysml:44e88bb9-9b84-4b3f-b104-23d7a257fb04\" target=\"_top\" title=\"psysml:44e88bb9-9b84-4b3f-b104-23d7a257fb04\" xlink:actuate=\"onRequest\" xlink:href=\"psysml:44e88bb9-9b84-4b3f-b104-23d7a257fb04\" xlink:show=\"new\" xlink:title=\"psysml:44e88bb9-9b84-4b3f-b104-23d7a257fb04\" xlink:type=\"simple\"><rect fill=\"#FFFFFF\" height=\"45.9375\" id=\"E4\" rx=\"10\" ry=\"10\" style=\"stroke: #383838; stroke-width: 1.5;\" width=\"112\" x=\"32\" y=\"364\"/><text fill=\"#000000\" font-family=\"sans-serif\" font-size=\"12\" font-style=\"italic\" lengthAdjust=\"spacingAndGlyphs\" textLength=\"40\" x=\"68\" y=\"380.1387\">«part»</text><text fill=\"#000000\" font-family=\"sans-serif\" font-size=\"12\" lengthAdjust=\"spacingAndGlyphs\" textLength=\"102\" x=\"35\" y=\"394.1074\">engine2: Engine</text><line style=\"stroke: #383838; stroke-width: 1.5;\" x1=\"33\" x2=\"143\" y1=\"401.9375\" y2=\"401.9375\"/></a><!--MD5=[2156ba9850f5573cc1fc38a6a4b2f02b]\n",
       "class E7--><a href=\"psysml:1fa3686a-6014-4c73-9542-2575e26fd8a7\" target=\"_top\" title=\"psysml:1fa3686a-6014-4c73-9542-2575e26fd8a7\" xlink:actuate=\"onRequest\" xlink:href=\"psysml:1fa3686a-6014-4c73-9542-2575e26fd8a7\" xlink:show=\"new\" xlink:title=\"psysml:1fa3686a-6014-4c73-9542-2575e26fd8a7\" xlink:type=\"simple\"><rect fill=\"#FFFFFF\" height=\"45.9375\" id=\"E7\" rx=\"10\" ry=\"10\" style=\"stroke: #383838; stroke-width: 1.5;\" width=\"129\" x=\"181.5\" y=\"241\"/><text fill=\"#000000\" font-family=\"sans-serif\" font-size=\"12\" font-style=\"italic\" lengthAdjust=\"spacingAndGlyphs\" textLength=\"82\" x=\"205\" y=\"257.1387\">«calculation»</text><text fill=\"#000000\" font-family=\"sans-serif\" font-size=\"12\" lengthAdjust=\"spacingAndGlyphs\" textLength=\"119\" x=\"184.5\" y=\"271.1074\">evaluationFunction</text><line style=\"stroke: #383838; stroke-width: 1.5;\" x1=\"182.5\" x2=\"309.5\" y1=\"278.9375\" y2=\"278.9375\"/></a><!--MD5=[b9389687b975829384b498ac4b7476b2]\n",
       "class E8--><a href=\"psysml:79c1d929-0a70-426e-ae6d-56e5e3e776a6\" target=\"_top\" title=\"psysml:79c1d929-0a70-426e-ae6d-56e5e3e776a6\" xlink:actuate=\"onRequest\" xlink:href=\"psysml:79c1d929-0a70-426e-ae6d-56e5e3e776a6\" xlink:show=\"new\" xlink:title=\"psysml:79c1d929-0a70-426e-ae6d-56e5e3e776a6\" xlink:type=\"simple\"><rect fill=\"#FFFFFF\" height=\"45.9375\" id=\"E8\" rx=\"10\" ry=\"10\" style=\"stroke: #383838; stroke-width: 1.5;\" width=\"128\" x=\"363\" y=\"364\"/><text fill=\"#000000\" font-family=\"sans-serif\" font-size=\"12\" font-style=\"italic\" lengthAdjust=\"spacingAndGlyphs\" textLength=\"40\" x=\"407\" y=\"380.1387\">«part»</text><text fill=\"#000000\" font-family=\"sans-serif\" font-size=\"12\" lengthAdjust=\"spacingAndGlyphs\" textLength=\"118\" x=\"366\" y=\"394.1074\">alternative: Engine</text><line style=\"stroke: #383838; stroke-width: 1.5;\" x1=\"364\" x2=\"490\" y1=\"401.9375\" y2=\"401.9375\"/></a><!--MD5=[fd4143e9d270a159db93a4ea2a975926]\n",
       "class E9--><a href=\"psysml:169f456a-e384-47f5-89e9-43fd13dd17eb\" target=\"_top\" title=\"psysml:169f456a-e384-47f5-89e9-43fd13dd17eb\" xlink:actuate=\"onRequest\" xlink:href=\"psysml:169f456a-e384-47f5-89e9-43fd13dd17eb\" xlink:show=\"new\" xlink:title=\"psysml:169f456a-e384-47f5-89e9-43fd13dd17eb\" xlink:type=\"simple\"><rect fill=\"#FFFFFF\" height=\"45.9375\" id=\"E9\" rx=\"10\" ry=\"10\" style=\"stroke: #383838; stroke-width: 1.5;\" width=\"182\" x=\"346\" y=\"241\"/><text fill=\"#000000\" font-family=\"sans-serif\" font-size=\"12\" font-style=\"italic\" lengthAdjust=\"spacingAndGlyphs\" textLength=\"40\" x=\"417\" y=\"257.1387\">«part»</text><text fill=\"#000000\" font-family=\"sans-serif\" font-size=\"12\" lengthAdjust=\"spacingAndGlyphs\" textLength=\"172\" x=\"349\" y=\"271.1074\">selectedAlternative: Engine</text><line style=\"stroke: #383838; stroke-width: 1.5;\" x1=\"347\" x2=\"527\" y1=\"278.9375\" y2=\"278.9375\"/></a><!--MD5=[60a26617385b1d2d0262a64233df1f8d]\n",
       "class E6--><a href=\"psysml:9a804e4d-bc47-4ee7-a2d8-d8527e0c1caf\" target=\"_top\" title=\"psysml:9a804e4d-bc47-4ee7-a2d8-d8527e0c1caf\" xlink:actuate=\"onRequest\" xlink:href=\"psysml:9a804e4d-bc47-4ee7-a2d8-d8527e0c1caf\" xlink:show=\"new\" xlink:title=\"psysml:9a804e4d-bc47-4ee7-a2d8-d8527e0c1caf\" xlink:type=\"simple\"><rect fill=\"#FFFFFF\" height=\"45.9375\" id=\"E6\" rx=\"10\" ry=\"10\" style=\"stroke: #383838; stroke-width: 1.5;\" width=\"132\" x=\"281\" y=\"116\"/><text fill=\"#000000\" font-family=\"sans-serif\" font-size=\"12\" font-style=\"italic\" lengthAdjust=\"spacingAndGlyphs\" textLength=\"70\" x=\"312\" y=\"132.1387\">«objective»</text><text fill=\"#000000\" font-family=\"sans-serif\" font-size=\"12\" lengthAdjust=\"spacingAndGlyphs\" textLength=\"126\" x=\"284\" y=\"146.1074\">tradeStudyObjective</text><line style=\"stroke: #383838; stroke-width: 1.5;\" x1=\"282\" x2=\"412\" y1=\"153.9375\" y2=\"153.9375\"/></a><!--MD5=[05d275557350bfb9b23a4ef7222b4c39]\n",
       "link E3 to E2--><a href=\"psysml:9be21745-fec5-4980-9af6-b796782d7969\" target=\"_top\" title=\"psysml:9be21745-fec5-4980-9af6-b796782d7969\" xlink:actuate=\"onRequest\" xlink:href=\"psysml:9be21745-fec5-4980-9af6-b796782d7969\" xlink:show=\"new\" xlink:title=\"psysml:9be21745-fec5-4980-9af6-b796782d7969\" xlink:type=\"simple\"><path d=\"M254.29,410.01 C265.74,423.08 280.57,440.01 293.86,455.17 \" fill=\"none\" id=\"E3-&gt;E2\" style=\"stroke: #383838; stroke-width: 1.0;\"/><polygon fill=\"#FFFFFF\" points=\"307.42,470.66,289.6319,460.9861,300.1599,451.7578,307.42,470.66\" style=\"stroke: #383838; stroke-width: 1.0;\"/><ellipse cx=\"287.3787\" cy=\"455.3814\" fill=\"#383838\" rx=\"2\" ry=\"2\" style=\"stroke: #383838; stroke-width: 1.0;\"/><ellipse cx=\"294.8987\" cy=\"448.7898\" fill=\"#383838\" rx=\"2\" ry=\"2\" style=\"stroke: #383838; stroke-width: 1.0;\"/></a><!--MD5=[185131fc0dcab0a4505a2ebe144e961b]\n",
       "link E4 to E2--><a href=\"psysml:1ad537aa-bda6-4221-a392-6db0b9fa994b\" target=\"_top\" title=\"psysml:1ad537aa-bda6-4221-a392-6db0b9fa994b\" xlink:actuate=\"onRequest\" xlink:href=\"psysml:1ad537aa-bda6-4221-a392-6db0b9fa994b\" xlink:show=\"new\" xlink:title=\"psysml:1ad537aa-bda6-4221-a392-6db0b9fa994b\" xlink:type=\"simple\"><path d=\"M138.1,410.01 C177.63,427.38 232.65,451.55 273.12,469.33 \" fill=\"none\" id=\"E4-&gt;E2\" style=\"stroke: #383838; stroke-width: 1.0;\"/><polygon fill=\"#FFFFFF\" points=\"291.69,477.49,271.479,476.2594,277.1083,463.4411,291.69,477.49\" style=\"stroke: #383838; stroke-width: 1.0;\"/><ellipse cx=\"267.0642\" cy=\"472.1363\" fill=\"#383838\" rx=\"2\" ry=\"2\" style=\"stroke: #383838; stroke-width: 1.0;\"/><ellipse cx=\"271.0852\" cy=\"462.9803\" fill=\"#383838\" rx=\"2\" ry=\"2\" style=\"stroke: #383838; stroke-width: 1.0;\"/></a><!--MD5=[15ebcb19ae302d9b601edb458606d402]\n",
       "link E5 to E2--><a href=\"psysml:ef23f2a8-b555-4000-b8d1-a9fc8ea83129\" target=\"_top\" title=\"psysml:ef23f2a8-b555-4000-b8d1-a9fc8ea83129\" xlink:actuate=\"onRequest\" xlink:href=\"psysml:ef23f2a8-b555-4000-b8d1-a9fc8ea83129\" xlink:show=\"new\" xlink:title=\"psysml:ef23f2a8-b555-4000-b8d1-a9fc8ea83129\" xlink:type=\"simple\"><path d=\"M237.7204,146.0763 C237.4768,146.2621 237.2287,146.4518 236.9763,146.6454 C235.9668,147.4197 234.8879,148.2561 233.748,149.1518 C231.4682,150.943 228.9441,152.9709 226.2406,155.2119 C215.4269,164.1756 201.745,176.5475 189.3625,190.8125 C164.5975,219.3425 145.03,255.445 164,287 C166.35,290.91 306.39,360.26 309,364 C329.99,394 331.63,437.66 330,465.69 \" fill=\"none\" id=\"E5-&gt;E2\" style=\"stroke: #383838; stroke-width: 1.0; stroke-dasharray: 7.0,7.0;\"/><polygon fill=\"#383838\" points=\"329.66,470.74,334.268,462.0356,330.003,465.7518,326.2869,461.4868,329.66,470.74\" style=\"stroke: #383838; stroke-width: 1.0;\"/><text fill=\"#000000\" font-family=\"sans-serif\" font-size=\"13\" lengthAdjust=\"spacingAndGlyphs\" textLength=\"62\" x=\"253\" y=\"330.0669\">«subject»</text></a><!--MD5=[452b418e7f8a40397a49b8c0a78acc5b]\n",
       "reverse link E5 to E7--><a href=\"psysml:3495a436-635c-4195-be5e-85a5d126f0e1\" target=\"_top\" title=\"psysml:3495a436-635c-4195-be5e-85a5d126f0e1\" xlink:actuate=\"onRequest\" xlink:href=\"psysml:3495a436-635c-4195-be5e-85a5d126f0e1\" xlink:show=\"new\" xlink:title=\"psysml:3495a436-635c-4195-be5e-85a5d126f0e1\" xlink:type=\"simple\"><path d=\"M246,186.2997 C246,188.9655 246,191.6719 246,194.3971 C246,199.8476 246,205.3735 246,210.8005 C246,221.6544 246,232.1125 246,240.78 \" fill=\"none\" id=\"E5&lt;-E7\" style=\"stroke: #383838; stroke-width: 1.0;\"/><polygon fill=\"#383838\" points=\"246,186.2997,242,192.2997,246,198.2997,250,192.2997,246,186.2997\" style=\"stroke: #383838; stroke-width: 1.0;\"/></a><!--MD5=[dc164f5e8a733ab456ef1add180e9e34]\n",
       "reverse link E7 to E8--><a href=\"psysml:e1d2632c-68a4-476d-b3ed-d8b6d2aaac51\" target=\"_top\" title=\"psysml:e1d2632c-68a4-476d-b3ed-d8b6d2aaac51\" xlink:actuate=\"onRequest\" xlink:href=\"psysml:e1d2632c-68a4-476d-b3ed-d8b6d2aaac51\" xlink:show=\"new\" xlink:title=\"psysml:e1d2632c-68a4-476d-b3ed-d8b6d2aaac51\" xlink:type=\"simple\"><path d=\"M290.06,294.45 C322.12,315.89 364.86,344.46 394.01,363.95 \" fill=\"none\" id=\"E7&lt;-E8\" style=\"stroke: #383838; stroke-width: 1.0;\"/><polygon fill=\"#FFFFFF\" points=\"279.2,287.19,281.9674,293.8489,289.1785,293.8555,286.4111,287.1966,279.2,287.19\" style=\"stroke: #383838; stroke-width: 1.0;\"/><text fill=\"#000000\" font-family=\"sans-serif\" font-size=\"13\" lengthAdjust=\"spacingAndGlyphs\" textLength=\"8\" x=\"376.0689\" y=\"352.8328\">1</text></a><!--MD5=[f1f3f9f2fc535e6147756cb86a7f2e32]\n",
       "link E8 to E2--><a href=\"psysml:a8ae8a0d-ad52-4d9e-986d-0c741d3467c2\" target=\"_top\" title=\"psysml:a8ae8a0d-ad52-4d9e-986d-0c741d3467c2\" xlink:actuate=\"onRequest\" xlink:href=\"psysml:a8ae8a0d-ad52-4d9e-986d-0c741d3467c2\" xlink:show=\"new\" xlink:title=\"psysml:a8ae8a0d-ad52-4d9e-986d-0c741d3467c2\" xlink:type=\"simple\"><path d=\"M406.04,410.01 C393.32,423.36 376.77,440.74 362.11,456.14 \" fill=\"none\" id=\"E8-&gt;E2\" style=\"stroke: #383838; stroke-width: 1.0;\"/><polygon fill=\"#FFFFFF\" points=\"348.28,470.66,356.3076,452.0708,366.4491,461.7223,348.28,470.66\" style=\"stroke: #383838; stroke-width: 1.0;\"/><ellipse cx=\"361.6859\" cy=\"449.3206\" fill=\"#383838\" rx=\"2\" ry=\"2\" style=\"stroke: #383838; stroke-width: 1.0;\"/><ellipse cx=\"368.9298\" cy=\"456.2144\" fill=\"#383838\" rx=\"2\" ry=\"2\" style=\"stroke: #383838; stroke-width: 1.0;\"/></a><!--MD5=[9ae28de373ca99bb8a1b38d63370ca7e]\n",
       "reverse link E5 to E9--><a href=\"psysml:1023028c-00c5-4dde-9329-e4b02befe1ab\" target=\"_top\" title=\"psysml:1023028c-00c5-4dde-9329-e4b02befe1ab\" xlink:actuate=\"onRequest\" xlink:href=\"psysml:1023028c-00c5-4dde-9329-e4b02befe1ab\" xlink:show=\"new\" xlink:title=\"psysml:1023028c-00c5-4dde-9329-e4b02befe1ab\" xlink:type=\"simple\"><path d=\"M254.7949,186.3026 C254.8401,186.4038 254.8856,186.5049 254.9313,186.6059 C255.2966,187.4138 255.6769,188.215 256.0726,189.0077 C256.8641,190.5933 257.7176,192.1452 258.6379,193.6498 C260.4784,196.6589 262.5863,199.4788 265,202 C278.04,215.62 316.12,229.75 353.15,240.99 \" fill=\"none\" id=\"E5&lt;-E9\" style=\"stroke: #383838; stroke-width: 1.0;\"/><polygon fill=\"#FFFFFF\" points=\"254.7949,186.3026,253.5901,193.4123,259.6895,197.259,260.8944,190.1493,254.7949,186.3026\" style=\"stroke: #383838; stroke-width: 1.0;\"/><text fill=\"#000000\" font-family=\"sans-serif\" font-size=\"13\" lengthAdjust=\"spacingAndGlyphs\" textLength=\"8\" x=\"330.0508\" y=\"232.8298\">1</text></a><!--MD5=[5c3bb36fe832a92c7f0e1807dd65209d]\n",
       "link E9 to E2--><a href=\"psysml:d6cd1bf0-a8ac-42a9-91c6-4adc5d4642e7\" target=\"_top\" title=\"psysml:d6cd1bf0-a8ac-42a9-91c6-4adc5d4642e7\" xlink:actuate=\"onRequest\" xlink:href=\"psysml:d6cd1bf0-a8ac-42a9-91c6-4adc5d4642e7\" xlink:show=\"new\" xlink:title=\"psysml:d6cd1bf0-a8ac-42a9-91c6-4adc5d4642e7\" xlink:type=\"simple\"><path d=\"M462.31,287.19 C492.44,316.36 535.53,368.75 509,410 C481.16,453.3 424.53,474.29 381.79,484.28 \" fill=\"none\" id=\"E9-&gt;E2\" style=\"stroke: #383838; stroke-width: 1.0;\"/><polygon fill=\"#FFFFFF\" points=\"362.12,488.35,379.3051,477.6415,382.1449,491.3505,362.12,488.35\" style=\"stroke: #383838; stroke-width: 1.0;\"/><ellipse cx=\"385.2923\" cy=\"478.4438\" fill=\"#383838\" rx=\"2\" ry=\"2\" style=\"stroke: #383838; stroke-width: 1.0;\"/><ellipse cx=\"387.3207\" cy=\"488.2359\" fill=\"#383838\" rx=\"2\" ry=\"2\" style=\"stroke: #383838; stroke-width: 1.0;\"/></a><!--MD5=[c498611dc31ff3c50a26d1a8dd925b11]\n",
       "@startuml\r\n",
       "skinparam monochrome true\r\n",
       "skinparam classbackgroundcolor white\r\n",
       "skinparam shadowing false\r\n",
       "skinparam wrapWidth 300\r\n",
       "hide circle\r\n",
       "\r\n",
       "package \"TradeStudyTest\" as E1  [[psysml:9d3e1c5c-e45c-4a85-8e75-4ee823ac8fbf ]]  {\r\n",
       "comp def \"Engine\" as E2  <<(T,blue) part  def>> [[psysml:956f1300-60cf-48ef-8161-7a381ae0bb8c ]] {\r\n",
       "}\r\n",
       "comp usage \"engine1: Engine \" as E3  <<(T,blue) part>> [[psysml:5ff7a686-dab8-41cf-8031-b7dccb26607b ]] {\r\n",
       "}\r\n",
       "comp usage \"engine2: Engine \" as E4  <<(T,blue) part>> [[psysml:44e88bb9-9b84-4b3f-b104-23d7a257fb04 ]] {\r\n",
       "}\r\n",
       "rec usage \"engineTradeStudy\" as E5 << analysis>> [[psysml:e12e8838-d64a-4336-9e52-2de97357eae2 ]] {\r\n",
       "comp usage \"tradeStudyObjective\" as E6  <<objective>> [[psysml:9a804e4d-bc47-4ee7-a2d8-d8527e0c1caf ]] {\r\n",
       "}\r\n",
       "}\r\n",
       "comp usage \"evaluationFunction \" as E7  <<(T,blue) calculation>> [[psysml:1fa3686a-6014-4c73-9542-2575e26fd8a7 ]] {\r\n",
       "}\r\n",
       "comp usage \"alternative: Engine \" as E8  <<(T,blue) part>> [[psysml:79c1d929-0a70-426e-ae6d-56e5e3e776a6 ]] {\r\n",
       "}\r\n",
       "comp usage \"selectedAlternative: Engine \" as E9  <<(T,blue) part>> [[psysml:169f456a-e384-47f5-89e9-43fd13dd17eb ]] {\r\n",
       "}\r\n",
       "}\r\n",
       "E3 - -:|> E2 [[psysml:9be21745-fec5-4980-9af6-b796782d7969 ]] \r\n",
       "E4 - -:|> E2 [[psysml:1ad537aa-bda6-4221-a392-6db0b9fa994b ]] \r\n",
       "E5 ..> E2 [[psysml:ef23f2a8-b555-4000-b8d1-a9fc8ea83129 ]] : <<subject>>\r\n",
       "E5 *- - E7 [[psysml:3495a436-635c-4195-be5e-85a5d126f0e1 ]] \r\n",
       "E7 o- - \"1\"E8 [[psysml:e1d2632c-68a4-476d-b3ed-d8b6d2aaac51 ]] \r\n",
       "E8 - -:|> E2 [[psysml:a8ae8a0d-ad52-4d9e-986d-0c741d3467c2 ]] \r\n",
       "E5 o- - \"1\"E9 [[psysml:1023028c-00c5-4dde-9329-e4b02befe1ab ]] \r\n",
       "E9 - -:|> E2 [[psysml:d6cd1bf0-a8ac-42a9-91c6-4adc5d4642e7 ]] \r\n",
       "@enduml\r\n",
       "\n",
       "PlantUML version 1.2020.13(Sat Jun 13 12:26:38 UTC 2020)\n",
       "(EPL source distribution)\n",
       "Java Runtime: OpenJDK Runtime Environment\n",
       "JVM: OpenJDK 64-Bit Server VM\n",
       "Default Encoding: UTF-8\n",
       "Language: en\n",
       "Country: null\n",
       "--></g></svg>"
      ]
     },
     "execution_count": 37,
     "metadata": {},
     "output_type": "execute_result"
    }
   ],
   "source": [
    "%viz --style=\"DEFAULT\" --view=\"Default\" \"TradeStudyTest\""
   ]
  },
  {
   "cell_type": "code",
   "execution_count": 38,
   "id": "6392cc01",
   "metadata": {
    "execution": {
     "iopub.execute_input": "2022-02-18T10:50:37.623315Z",
     "iopub.status.busy": "2022-02-18T10:50:37.622914Z",
     "iopub.status.idle": "2022-02-18T10:50:37.664699Z",
     "shell.execute_reply": "2022-02-18T10:50:37.664340Z"
    }
   },
   "outputs": [
    {
     "data": {
      "image/svg+xml": [
       "<?xml version=\"1.0\" encoding=\"UTF-8\" standalone=\"no\"?><svg xmlns=\"http://www.w3.org/2000/svg\" xmlns:xlink=\"http://www.w3.org/1999/xlink\" contentScriptType=\"application/ecmascript\" contentStyleType=\"text/css\" height=\"497px\" preserveAspectRatio=\"none\" style=\"width:569px;height:497px;\" version=\"1.1\" viewBox=\"0 0 569 497\" width=\"569px\" zoomAndPan=\"magnify\"><defs/><g><!--MD5=[fbc87193dbaf4d95561dea2c320d4a47]\n",
       "cluster E1--><a href=\"psysml:9d3e1c5c-e45c-4a85-8e75-4ee823ac8fbf\" target=\"_top\" title=\"psysml:9d3e1c5c-e45c-4a85-8e75-4ee823ac8fbf\" xlink:actuate=\"onRequest\" xlink:href=\"psysml:9d3e1c5c-e45c-4a85-8e75-4ee823ac8fbf\" xlink:show=\"new\" xlink:title=\"psysml:9d3e1c5c-e45c-4a85-8e75-4ee823ac8fbf\" xlink:type=\"simple\"><polygon fill=\"#FFFFFF\" points=\"19.75,6,135.75,6,142.75,28.2969,547.75,28.2969,547.75,485,19.75,485,19.75,6\" style=\"stroke: #000000; stroke-width: 1.5;\"/><line style=\"stroke: #000000; stroke-width: 1.5;\" x1=\"19.75\" x2=\"142.75\" y1=\"28.2969\" y2=\"28.2969\"/><text fill=\"#000000\" font-family=\"sans-serif\" font-size=\"14\" font-weight=\"bold\" lengthAdjust=\"spacingAndGlyphs\" textLength=\"110\" x=\"23.75\" y=\"20.9951\">TradeStudyTest</text></a><!--MD5=[b4997ac47864f28c2f74865a473b2911]\n",
       "class E2--><a href=\"psysml:956f1300-60cf-48ef-8161-7a381ae0bb8c\" target=\"_top\" title=\"psysml:956f1300-60cf-48ef-8161-7a381ae0bb8c\" xlink:actuate=\"onRequest\" xlink:href=\"psysml:956f1300-60cf-48ef-8161-7a381ae0bb8c\" xlink:show=\"new\" xlink:title=\"psysml:956f1300-60cf-48ef-8161-7a381ae0bb8c\" xlink:type=\"simple\"><rect fill=\"#FFFFFF\" height=\"45.9375\" id=\"E2\" style=\"stroke: #383838; stroke-width: 1.5;\" width=\"70\" x=\"201.75\" y=\"423\"/><text fill=\"#000000\" font-family=\"sans-serif\" font-size=\"12\" font-style=\"italic\" lengthAdjust=\"spacingAndGlyphs\" textLength=\"68\" x=\"202.75\" y=\"439.1387\">«part  def»</text><text fill=\"#000000\" font-family=\"sans-serif\" font-size=\"12\" lengthAdjust=\"spacingAndGlyphs\" textLength=\"43\" x=\"215.25\" y=\"453.1074\">Engine</text><line style=\"stroke: #383838; stroke-width: 1.5;\" x1=\"202.75\" x2=\"270.75\" y1=\"460.9375\" y2=\"460.9375\"/></a><!--MD5=[09b614a08d8cba4a07c9adeb5e0fee81]\n",
       "class E3--><a href=\"psysml:5ff7a686-dab8-41cf-8031-b7dccb26607b\" target=\"_top\" title=\"psysml:5ff7a686-dab8-41cf-8031-b7dccb26607b\" xlink:actuate=\"onRequest\" xlink:href=\"psysml:5ff7a686-dab8-41cf-8031-b7dccb26607b\" xlink:show=\"new\" xlink:title=\"psysml:5ff7a686-dab8-41cf-8031-b7dccb26607b\" xlink:type=\"simple\"><rect fill=\"#FFFFFF\" height=\"45.9375\" id=\"E3\" rx=\"10\" ry=\"10\" style=\"stroke: #383838; stroke-width: 1.5;\" width=\"112\" x=\"419.75\" y=\"316\"/><text fill=\"#000000\" font-family=\"sans-serif\" font-size=\"12\" font-style=\"italic\" lengthAdjust=\"spacingAndGlyphs\" textLength=\"40\" x=\"455.75\" y=\"332.1387\">«part»</text><text fill=\"#000000\" font-family=\"sans-serif\" font-size=\"12\" lengthAdjust=\"spacingAndGlyphs\" textLength=\"102\" x=\"422.75\" y=\"346.1074\">engine1: Engine</text><line style=\"stroke: #383838; stroke-width: 1.5;\" x1=\"420.75\" x2=\"530.75\" y1=\"353.9375\" y2=\"353.9375\"/></a><!--MD5=[ebbe1d658d1005bcc118a6aa81145e00]\n",
       "class E4--><a href=\"psysml:44e88bb9-9b84-4b3f-b104-23d7a257fb04\" target=\"_top\" title=\"psysml:44e88bb9-9b84-4b3f-b104-23d7a257fb04\" xlink:actuate=\"onRequest\" xlink:href=\"psysml:44e88bb9-9b84-4b3f-b104-23d7a257fb04\" xlink:show=\"new\" xlink:title=\"psysml:44e88bb9-9b84-4b3f-b104-23d7a257fb04\" xlink:type=\"simple\"><rect fill=\"#FFFFFF\" height=\"45.9375\" id=\"E4\" rx=\"10\" ry=\"10\" style=\"stroke: #383838; stroke-width: 1.5;\" width=\"112\" x=\"272.75\" y=\"316\"/><text fill=\"#000000\" font-family=\"sans-serif\" font-size=\"12\" font-style=\"italic\" lengthAdjust=\"spacingAndGlyphs\" textLength=\"40\" x=\"308.75\" y=\"332.1387\">«part»</text><text fill=\"#000000\" font-family=\"sans-serif\" font-size=\"12\" lengthAdjust=\"spacingAndGlyphs\" textLength=\"102\" x=\"275.75\" y=\"346.1074\">engine2: Engine</text><line style=\"stroke: #383838; stroke-width: 1.5;\" x1=\"273.75\" x2=\"383.75\" y1=\"353.9375\" y2=\"353.9375\"/></a><!--MD5=[270fce915f116d4de14055a7c1d9a0f3]\n",
       "class E5--><a href=\"psysml:e12e8838-d64a-4336-9e52-2de97357eae2\" target=\"_top\" title=\"psysml:e12e8838-d64a-4336-9e52-2de97357eae2\" xlink:actuate=\"onRequest\" xlink:href=\"psysml:e12e8838-d64a-4336-9e52-2de97357eae2\" xlink:show=\"new\" xlink:title=\"psysml:e12e8838-d64a-4336-9e52-2de97357eae2\" xlink:type=\"simple\"><rect fill=\"#FFFFFF\" height=\"45.9375\" id=\"E5\" rx=\"10\" ry=\"10\" style=\"stroke: #383838; stroke-width: 1.5;\" width=\"203\" x=\"242.25\" y=\"41\"/><text fill=\"#000000\" font-family=\"sans-serif\" font-size=\"12\" font-style=\"italic\" lengthAdjust=\"spacingAndGlyphs\" textLength=\"64\" x=\"311.75\" y=\"57.1387\">«analysis»</text><text fill=\"#000000\" font-family=\"sans-serif\" font-size=\"12\" lengthAdjust=\"spacingAndGlyphs\" textLength=\"193\" x=\"245.25\" y=\"71.1074\">engineTradeStudy: TradeStudy</text><line style=\"stroke: #383838; stroke-width: 1.5;\" x1=\"243.25\" x2=\"444.25\" y1=\"78.9375\" y2=\"78.9375\"/></a><!--MD5=[60a26617385b1d2d0262a64233df1f8d]\n",
       "class E6--><a href=\"psysml:9a804e4d-bc47-4ee7-a2d8-d8527e0c1caf\" target=\"_top\" title=\"psysml:9a804e4d-bc47-4ee7-a2d8-d8527e0c1caf\" xlink:actuate=\"onRequest\" xlink:href=\"psysml:9a804e4d-bc47-4ee7-a2d8-d8527e0c1caf\" xlink:show=\"new\" xlink:title=\"psysml:9a804e4d-bc47-4ee7-a2d8-d8527e0c1caf\" xlink:type=\"simple\"><rect fill=\"#FFFFFF\" height=\"45.9375\" id=\"E6\" rx=\"10\" ry=\"10\" style=\"stroke: #383838; stroke-width: 1.5;\" width=\"255\" x=\"75.25\" y=\"164\"/><text fill=\"#000000\" font-family=\"sans-serif\" font-size=\"12\" font-style=\"italic\" lengthAdjust=\"spacingAndGlyphs\" textLength=\"91\" x=\"157.25\" y=\"180.1387\">«requirement»</text><text fill=\"#000000\" font-family=\"sans-serif\" font-size=\"12\" lengthAdjust=\"spacingAndGlyphs\" textLength=\"245\" x=\"78.25\" y=\"194.1074\">tradeStudyObjective: MaximizeObjective</text><line style=\"stroke: #383838; stroke-width: 1.5;\" x1=\"76.25\" x2=\"329.25\" y1=\"201.9375\" y2=\"201.9375\"/></a><!--MD5=[2156ba9850f5573cc1fc38a6a4b2f02b]\n",
       "class E7--><a href=\"psysml:1fa3686a-6014-4c73-9542-2575e26fd8a7\" target=\"_top\" title=\"psysml:1fa3686a-6014-4c73-9542-2575e26fd8a7\" xlink:actuate=\"onRequest\" xlink:href=\"psysml:1fa3686a-6014-4c73-9542-2575e26fd8a7\" xlink:show=\"new\" xlink:title=\"psysml:1fa3686a-6014-4c73-9542-2575e26fd8a7\" xlink:type=\"simple\"><rect fill=\"#FFFFFF\" height=\"45.9375\" id=\"E7\" rx=\"10\" ry=\"10\" style=\"stroke: #383838; stroke-width: 1.5;\" width=\"129\" x=\"365.25\" y=\"164\"/><text fill=\"#000000\" font-family=\"sans-serif\" font-size=\"12\" font-style=\"italic\" lengthAdjust=\"spacingAndGlyphs\" textLength=\"82\" x=\"388.75\" y=\"180.1387\">«calculation»</text><text fill=\"#000000\" font-family=\"sans-serif\" font-size=\"12\" lengthAdjust=\"spacingAndGlyphs\" textLength=\"119\" x=\"368.25\" y=\"194.1074\">evaluationFunction</text><line style=\"stroke: #383838; stroke-width: 1.5;\" x1=\"366.25\" x2=\"493.25\" y1=\"201.9375\" y2=\"201.9375\"/></a><!--MD5=[b9389687b975829384b498ac4b7476b2]\n",
       "class E8--><a href=\"psysml:79c1d929-0a70-426e-ae6d-56e5e3e776a6\" target=\"_top\" title=\"psysml:79c1d929-0a70-426e-ae6d-56e5e3e776a6\" xlink:actuate=\"onRequest\" xlink:href=\"psysml:79c1d929-0a70-426e-ae6d-56e5e3e776a6\" xlink:show=\"new\" xlink:title=\"psysml:79c1d929-0a70-426e-ae6d-56e5e3e776a6\" xlink:type=\"simple\"><rect fill=\"#FFFFFF\" height=\"45.9375\" id=\"E8\" rx=\"10\" ry=\"10\" style=\"stroke: #383838; stroke-width: 1.5;\" width=\"128\" x=\"72.75\" y=\"316\"/><text fill=\"#000000\" font-family=\"sans-serif\" font-size=\"12\" font-style=\"italic\" lengthAdjust=\"spacingAndGlyphs\" textLength=\"40\" x=\"116.75\" y=\"332.1387\">«part»</text><text fill=\"#000000\" font-family=\"sans-serif\" font-size=\"12\" lengthAdjust=\"spacingAndGlyphs\" textLength=\"118\" x=\"75.75\" y=\"346.1074\">alternative: Engine</text><line style=\"stroke: #383838; stroke-width: 1.5;\" x1=\"73.75\" x2=\"199.75\" y1=\"353.9375\" y2=\"353.9375\"/></a><!--MD5=[fd4143e9d270a159db93a4ea2a975926]\n",
       "class E9--><a href=\"psysml:169f456a-e384-47f5-89e9-43fd13dd17eb\" target=\"_top\" title=\"psysml:169f456a-e384-47f5-89e9-43fd13dd17eb\" xlink:actuate=\"onRequest\" xlink:href=\"psysml:169f456a-e384-47f5-89e9-43fd13dd17eb\" xlink:show=\"new\" xlink:title=\"psysml:169f456a-e384-47f5-89e9-43fd13dd17eb\" xlink:type=\"simple\"><rect fill=\"#FFFFFF\" height=\"45.9375\" id=\"E9\" rx=\"10\" ry=\"10\" style=\"stroke: #383838; stroke-width: 1.5;\" width=\"182\" x=\"298.75\" y=\"240\"/><text fill=\"#000000\" font-family=\"sans-serif\" font-size=\"12\" font-style=\"italic\" lengthAdjust=\"spacingAndGlyphs\" textLength=\"40\" x=\"369.75\" y=\"256.1387\">«part»</text><text fill=\"#000000\" font-family=\"sans-serif\" font-size=\"12\" lengthAdjust=\"spacingAndGlyphs\" textLength=\"172\" x=\"301.75\" y=\"270.1074\">selectedAlternative: Engine</text><line style=\"stroke: #383838; stroke-width: 1.5;\" x1=\"299.75\" x2=\"479.75\" y1=\"277.9375\" y2=\"277.9375\"/></a><!--MD5=[05d275557350bfb9b23a4ef7222b4c39]\n",
       "link E3 to E2--><a href=\"psysml:9be21745-fec5-4980-9af6-b796782d7969\" target=\"_top\" title=\"psysml:9be21745-fec5-4980-9af6-b796782d7969\" xlink:actuate=\"onRequest\" xlink:href=\"psysml:9be21745-fec5-4980-9af6-b796782d7969\" xlink:show=\"new\" xlink:title=\"psysml:9be21745-fec5-4980-9af6-b796782d7969\" xlink:type=\"simple\"><path d=\"M425.65,362.01 C386.12,379.38 331.1,403.55 290.63,421.33 \" fill=\"none\" id=\"E3-&gt;E2\" style=\"stroke: #383838; stroke-width: 1.0;\"/><polygon fill=\"#FFFFFF\" points=\"272.06,429.49,286.6417,415.4411,292.271,428.2594,272.06,429.49\" style=\"stroke: #383838; stroke-width: 1.0;\"/><ellipse cx=\"292.6648\" cy=\"414.9803\" fill=\"#383838\" rx=\"2\" ry=\"2\" style=\"stroke: #383838; stroke-width: 1.0;\"/><ellipse cx=\"296.6858\" cy=\"424.1363\" fill=\"#383838\" rx=\"2\" ry=\"2\" style=\"stroke: #383838; stroke-width: 1.0;\"/></a><!--MD5=[185131fc0dcab0a4505a2ebe144e961b]\n",
       "link E4 to E2--><a href=\"psysml:1ad537aa-bda6-4221-a392-6db0b9fa994b\" target=\"_top\" title=\"psysml:1ad537aa-bda6-4221-a392-6db0b9fa994b\" xlink:actuate=\"onRequest\" xlink:href=\"psysml:1ad537aa-bda6-4221-a392-6db0b9fa994b\" xlink:show=\"new\" xlink:title=\"psysml:1ad537aa-bda6-4221-a392-6db0b9fa994b\" xlink:type=\"simple\"><path d=\"M309.46,362.01 C298.01,375.08 283.18,392.01 269.89,407.17 \" fill=\"none\" id=\"E4-&gt;E2\" style=\"stroke: #383838; stroke-width: 1.0;\"/><polygon fill=\"#FFFFFF\" points=\"256.33,422.66,263.5901,403.7578,274.1181,412.9861,256.33,422.66\" style=\"stroke: #383838; stroke-width: 1.0;\"/><ellipse cx=\"268.8513\" cy=\"400.7898\" fill=\"#383838\" rx=\"2\" ry=\"2\" style=\"stroke: #383838; stroke-width: 1.0;\"/><ellipse cx=\"276.3713\" cy=\"407.3814\" fill=\"#383838\" rx=\"2\" ry=\"2\" style=\"stroke: #383838; stroke-width: 1.0;\"/></a><!--MD5=[15ebcb19ae302d9b601edb458606d402]\n",
       "link E5 to E2--><a href=\"psysml:ef23f2a8-b555-4000-b8d1-a9fc8ea83129\" target=\"_top\" title=\"psysml:ef23f2a8-b555-4000-b8d1-a9fc8ea83129\" xlink:actuate=\"onRequest\" xlink:href=\"psysml:ef23f2a8-b555-4000-b8d1-a9fc8ea83129\" xlink:show=\"new\" xlink:title=\"psysml:ef23f2a8-b555-4000-b8d1-a9fc8ea83129\" xlink:type=\"simple\"><path d=\"M242.19,71.71 C178.15,81.78 99.85,106.1 57.75,164 C6,235.18 7.15,287.97 54.75,362 C85.89,410.42 153.01,430.93 196.46,439.38 \" fill=\"none\" id=\"E5-&gt;E2\" style=\"stroke: #383838; stroke-width: 1.0; stroke-dasharray: 7.0,7.0;\"/><polygon fill=\"#383838\" points=\"201.63,440.35,193.5135,434.7713,196.7143,439.4355,192.0502,442.6363,201.63,440.35\" style=\"stroke: #383838; stroke-width: 1.0;\"/><text fill=\"#000000\" font-family=\"sans-serif\" font-size=\"13\" lengthAdjust=\"spacingAndGlyphs\" textLength=\"62\" x=\"22.75\" y=\"267.5669\">«subject»</text></a><!--MD5=[9120cf2e5df3bff93db8f754bbbc09b4]\n",
       "link E5 to E6--><a href=\"psysml:82bd6807-74bc-4e7b-a156-dc2ad55e2000\" target=\"_top\" title=\"psysml:82bd6807-74bc-4e7b-a156-dc2ad55e2000\" xlink:actuate=\"onRequest\" xlink:href=\"psysml:82bd6807-74bc-4e7b-a156-dc2ad55e2000\" xlink:show=\"new\" xlink:title=\"psysml:82bd6807-74bc-4e7b-a156-dc2ad55e2000\" xlink:type=\"simple\"><path d=\"M317.89,87.19 C294.44,107.32 259.79,137.06 234.63,158.64 \" fill=\"none\" id=\"E5-&gt;E6\" style=\"stroke: #383838; stroke-width: 1.0;\"/><polygon fill=\"#383838\" points=\"228.45,163.95,236.4776,161.0246,232.5746,156.4675,228.45,163.95\" style=\"stroke: #383838; stroke-width: 1.0;\"/><text fill=\"#000000\" font-family=\"sans-serif\" font-size=\"13\" lengthAdjust=\"spacingAndGlyphs\" textLength=\"73\" x=\"281.75\" y=\"130.0669\">«objective»</text></a><!--MD5=[452b418e7f8a40397a49b8c0a78acc5b]\n",
       "reverse link E5 to E7--><a href=\"psysml:3495a436-635c-4195-be5e-85a5d126f0e1\" target=\"_top\" title=\"psysml:3495a436-635c-4195-be5e-85a5d126f0e1\" xlink:actuate=\"onRequest\" xlink:href=\"psysml:3495a436-635c-4195-be5e-85a5d126f0e1\" xlink:show=\"new\" xlink:title=\"psysml:3495a436-635c-4195-be5e-85a5d126f0e1\" xlink:type=\"simple\"><path d=\"M367.12,97.88 C382.03,118.86 400.95,145.48 414.08,163.95 \" fill=\"none\" id=\"E5&lt;-E7\" style=\"stroke: #383838; stroke-width: 1.0;\"/><polygon fill=\"#383838\" points=\"359.52,87.19,359.7442,94.3976,366.4836,96.9628,366.2594,89.7552,359.52,87.19\" style=\"stroke: #383838; stroke-width: 1.0;\"/></a><!--MD5=[dc164f5e8a733ab456ef1add180e9e34]\n",
       "reverse link E7 to E8--><a href=\"psysml:e1d2632c-68a4-476d-b3ed-d8b6d2aaac51\" target=\"_top\" title=\"psysml:e1d2632c-68a4-476d-b3ed-d8b6d2aaac51\" xlink:actuate=\"onRequest\" xlink:href=\"psysml:e1d2632c-68a4-476d-b3ed-d8b6d2aaac51\" xlink:show=\"new\" xlink:title=\"psysml:e1d2632c-68a4-476d-b3ed-d8b6d2aaac51\" xlink:type=\"simple\"><path d=\"M352.57,210.93 C329.29,218.95 304.02,228.8 281.75,240 C238.59,261.71 193.11,294.26 164.84,315.8 \" fill=\"none\" id=\"E7&lt;-E8\" style=\"stroke: #383838; stroke-width: 1.0;\"/><polygon fill=\"#FFFFFF\" points=\"364.89,206.79,357.9284,204.9096,353.5151,210.6124,360.4767,212.4928,364.89,206.79\" style=\"stroke: #383838; stroke-width: 1.0;\"/><text fill=\"#000000\" font-family=\"sans-serif\" font-size=\"13\" lengthAdjust=\"spacingAndGlyphs\" textLength=\"8\" x=\"163.0131\" y=\"305.025\">1</text></a><!--MD5=[f1f3f9f2fc535e6147756cb86a7f2e32]\n",
       "link E8 to E2--><a href=\"psysml:a8ae8a0d-ad52-4d9e-986d-0c741d3467c2\" target=\"_top\" title=\"psysml:a8ae8a0d-ad52-4d9e-986d-0c741d3467c2\" xlink:actuate=\"onRequest\" xlink:href=\"psysml:a8ae8a0d-ad52-4d9e-986d-0c741d3467c2\" xlink:show=\"new\" xlink:title=\"psysml:a8ae8a0d-ad52-4d9e-986d-0c741d3467c2\" xlink:type=\"simple\"><path d=\"M157.71,362.01 C170.43,375.36 186.98,392.74 201.64,408.14 \" fill=\"none\" id=\"E8-&gt;E2\" style=\"stroke: #383838; stroke-width: 1.0;\"/><polygon fill=\"#FFFFFF\" points=\"215.47,422.66,197.3009,413.7223,207.4424,404.0708,215.47,422.66\" style=\"stroke: #383838; stroke-width: 1.0;\"/><ellipse cx=\"194.8202\" cy=\"408.2144\" fill=\"#383838\" rx=\"2\" ry=\"2\" style=\"stroke: #383838; stroke-width: 1.0;\"/><ellipse cx=\"202.0641\" cy=\"401.3206\" fill=\"#383838\" rx=\"2\" ry=\"2\" style=\"stroke: #383838; stroke-width: 1.0;\"/></a><!--MD5=[9ae28de373ca99bb8a1b38d63370ca7e]\n",
       "reverse link E5 to E9--><a href=\"psysml:1023028c-00c5-4dde-9329-e4b02befe1ab\" target=\"_top\" title=\"psysml:1023028c-00c5-4dde-9329-e4b02befe1ab\" xlink:actuate=\"onRequest\" xlink:href=\"psysml:1023028c-00c5-4dde-9329-e4b02befe1ab\" xlink:show=\"new\" xlink:title=\"psysml:1023028c-00c5-4dde-9329-e4b02befe1ab\" xlink:type=\"simple\"><path d=\"M425.37,92.39 C458.3,107.92 492.9,131.01 511.75,164 C521.89,181.75 523.02,192.94 511.75,210 C503.25,222.87 490.84,232.57 477.15,239.87 \" fill=\"none\" id=\"E5&lt;-E9\" style=\"stroke: #383838; stroke-width: 1.0;\"/><polygon fill=\"#FFFFFF\" points=\"413.35,87.01,417.1893,93.1141,424.3005,91.9179,420.4612,85.8138,413.35,87.01\" style=\"stroke: #383838; stroke-width: 1.0;\"/><text fill=\"#000000\" font-family=\"sans-serif\" font-size=\"13\" lengthAdjust=\"spacingAndGlyphs\" textLength=\"8\" x=\"488.4363\" y=\"229.8763\">1</text></a><!--MD5=[5c3bb36fe832a92c7f0e1807dd65209d]\n",
       "link E9 to E2--><a href=\"psysml:d6cd1bf0-a8ac-42a9-91c6-4adc5d4642e7\" target=\"_top\" title=\"psysml:d6cd1bf0-a8ac-42a9-91c6-4adc5d4642e7\" xlink:actuate=\"onRequest\" xlink:href=\"psysml:d6cd1bf0-a8ac-42a9-91c6-4adc5d4642e7\" xlink:show=\"new\" xlink:title=\"psysml:d6cd1bf0-a8ac-42a9-91c6-4adc5d4642e7\" xlink:type=\"simple\"><path d=\"M298.61,284.36 C282.24,291.84 266.88,302.05 255.75,316 C236.48,340.16 232.36,375.23 232.71,402.71 \" fill=\"none\" id=\"E9-&gt;E2\" style=\"stroke: #383838; stroke-width: 1.0;\"/><polygon fill=\"#FFFFFF\" points=\"233.74,422.77,225.772,404.1552,239.7535,403.4351,233.74,422.77\" style=\"stroke: #383838; stroke-width: 1.0;\"/><ellipse cx=\"227.4762\" cy=\"398.3599\" fill=\"#383838\" rx=\"2\" ry=\"2\" style=\"stroke: #383838; stroke-width: 1.0;\"/><ellipse cx=\"237.463\" cy=\"397.8455\" fill=\"#383838\" rx=\"2\" ry=\"2\" style=\"stroke: #383838; stroke-width: 1.0;\"/></a><!--MD5=[54fbfae4c95782c7807a2880053213df]\n",
       "@startuml\r\n",
       "skinparam monochrome true\r\n",
       "skinparam classbackgroundcolor white\r\n",
       "skinparam shadowing false\r\n",
       "skinparam wrapWidth 300\r\n",
       "hide circle\r\n",
       "\r\n",
       "package \"TradeStudyTest\" as E1  [[psysml:9d3e1c5c-e45c-4a85-8e75-4ee823ac8fbf ]]  {\r\n",
       "comp def \"Engine\" as E2  <<(T,blue) part  def>> [[psysml:956f1300-60cf-48ef-8161-7a381ae0bb8c ]] {\r\n",
       "}\r\n",
       "comp usage \"engine1: Engine \" as E3  <<(T,blue) part>> [[psysml:5ff7a686-dab8-41cf-8031-b7dccb26607b ]] {\r\n",
       "}\r\n",
       "comp usage \"engine2: Engine \" as E4  <<(T,blue) part>> [[psysml:44e88bb9-9b84-4b3f-b104-23d7a257fb04 ]] {\r\n",
       "}\r\n",
       "comp usage \"engineTradeStudy: TradeStudy \" as E5 << analysis>> [[psysml:e12e8838-d64a-4336-9e52-2de97357eae2 ]] {\r\n",
       "}\r\n",
       "comp usage \"tradeStudyObjective: MaximizeObjective \" as E6  <<(T,blue) requirement>> [[psysml:9a804e4d-bc47-4ee7-a2d8-d8527e0c1caf ]] {\r\n",
       "}\r\n",
       "comp usage \"evaluationFunction \" as E7  <<(T,blue) calculation>> [[psysml:1fa3686a-6014-4c73-9542-2575e26fd8a7 ]] {\r\n",
       "}\r\n",
       "comp usage \"alternative: Engine \" as E8  <<(T,blue) part>> [[psysml:79c1d929-0a70-426e-ae6d-56e5e3e776a6 ]] {\r\n",
       "}\r\n",
       "comp usage \"selectedAlternative: Engine \" as E9  <<(T,blue) part>> [[psysml:169f456a-e384-47f5-89e9-43fd13dd17eb ]] {\r\n",
       "}\r\n",
       "}\r\n",
       "E3 - -:|> E2 [[psysml:9be21745-fec5-4980-9af6-b796782d7969 ]] \r\n",
       "E4 - -:|> E2 [[psysml:1ad537aa-bda6-4221-a392-6db0b9fa994b ]] \r\n",
       "E5 ..> E2 [[psysml:ef23f2a8-b555-4000-b8d1-a9fc8ea83129 ]] : <<subject>>\r\n",
       "E5 - ->> E6 [[psysml:82bd6807-74bc-4e7b-a156-dc2ad55e2000 ]] : <<objective>>\r\n",
       "E5 *- - E7 [[psysml:3495a436-635c-4195-be5e-85a5d126f0e1 ]] \r\n",
       "E7 o- - \"1\"E8 [[psysml:e1d2632c-68a4-476d-b3ed-d8b6d2aaac51 ]] \r\n",
       "E8 - -:|> E2 [[psysml:a8ae8a0d-ad52-4d9e-986d-0c741d3467c2 ]] \r\n",
       "E5 o- - \"1\"E9 [[psysml:1023028c-00c5-4dde-9329-e4b02befe1ab ]] \r\n",
       "E9 - -:|> E2 [[psysml:d6cd1bf0-a8ac-42a9-91c6-4adc5d4642e7 ]] \r\n",
       "@enduml\r\n",
       "\n",
       "PlantUML version 1.2020.13(Sat Jun 13 12:26:38 UTC 2020)\n",
       "(EPL source distribution)\n",
       "Java Runtime: OpenJDK Runtime Environment\n",
       "JVM: OpenJDK 64-Bit Server VM\n",
       "Default Encoding: UTF-8\n",
       "Language: en\n",
       "Country: null\n",
       "--></g></svg>"
      ]
     },
     "execution_count": 38,
     "metadata": {},
     "output_type": "execute_result"
    }
   ],
   "source": [
    "%viz --style=\"DEFAULT\" --view=\"Tree\" \"TradeStudyTest\""
   ]
  },
  {
   "cell_type": "code",
   "execution_count": 39,
   "id": "314827eb",
   "metadata": {
    "execution": {
     "iopub.execute_input": "2022-02-18T10:50:37.714278Z",
     "iopub.status.busy": "2022-02-18T10:50:37.713878Z",
     "iopub.status.idle": "2022-02-18T10:50:37.718265Z",
     "shell.execute_reply": "2022-02-18T10:50:37.718553Z"
    }
   },
   "outputs": [
    {
     "data": {
      "image/svg+xml": [
       "<?xml version=\"1.0\" encoding=\"UTF-8\" standalone=\"no\"?><svg xmlns=\"http://www.w3.org/2000/svg\" xmlns:xlink=\"http://www.w3.org/1999/xlink\" contentScriptType=\"application/ecmascript\" contentStyleType=\"text/css\" height=\"12px\" preserveAspectRatio=\"none\" style=\"width:12px;height:12px;\" version=\"1.1\" viewBox=\"0 0 12 12\" width=\"12px\" zoomAndPan=\"magnify\"><defs/><g><!--MD5=[c5f280e076d0d61ccf4b0f27871bda1d]\n",
       "@startuml\r\n",
       "skinparam monochrome true\r\n",
       "skinparam classbackgroundcolor white\r\n",
       "skinparam shadowing false\r\n",
       "skinparam wrapWidth 300\r\n",
       "hide circle\r\n",
       "\r\n",
       "@enduml\r\n",
       "\n",
       "PlantUML version 1.2020.13(Sat Jun 13 12:26:38 UTC 2020)\n",
       "(EPL source distribution)\n",
       "Java Runtime: OpenJDK Runtime Environment\n",
       "JVM: OpenJDK 64-Bit Server VM\n",
       "Default Encoding: UTF-8\n",
       "Language: en\n",
       "Country: null\n",
       "--></g></svg>"
      ]
     },
     "execution_count": 39,
     "metadata": {},
     "output_type": "execute_result"
    }
   ],
   "source": [
    "%viz --style=\"DEFAULT\" --view=\"State\" \"TradeStudyTest\""
   ]
  },
  {
   "cell_type": "code",
   "execution_count": 40,
   "id": "c06d7af6",
   "metadata": {
    "execution": {
     "iopub.execute_input": "2022-02-18T10:50:37.768547Z",
     "iopub.status.busy": "2022-02-18T10:50:37.768136Z",
     "iopub.status.idle": "2022-02-18T10:50:37.803439Z",
     "shell.execute_reply": "2022-02-18T10:50:37.803090Z"
    }
   },
   "outputs": [
    {
     "data": {
      "image/svg+xml": [
       "<?xml version=\"1.0\" encoding=\"UTF-8\" standalone=\"no\"?><svg xmlns=\"http://www.w3.org/2000/svg\" xmlns:xlink=\"http://www.w3.org/1999/xlink\" contentScriptType=\"application/ecmascript\" contentStyleType=\"text/css\" height=\"418px\" preserveAspectRatio=\"none\" style=\"width:574px;height:418px;\" version=\"1.1\" viewBox=\"0 0 574 418\" width=\"574px\" zoomAndPan=\"magnify\"><defs/><g><!--MD5=[fbc87193dbaf4d95561dea2c320d4a47]\n",
       "cluster E1--><a href=\"psysml:9d3e1c5c-e45c-4a85-8e75-4ee823ac8fbf\" target=\"_top\" title=\"psysml:9d3e1c5c-e45c-4a85-8e75-4ee823ac8fbf\" xlink:actuate=\"onRequest\" xlink:href=\"psysml:9d3e1c5c-e45c-4a85-8e75-4ee823ac8fbf\" xlink:show=\"new\" xlink:title=\"psysml:9d3e1c5c-e45c-4a85-8e75-4ee823ac8fbf\" xlink:type=\"simple\"><polygon fill=\"#FFFFFF\" points=\"16,6,132,6,139,28.2969,552,28.2969,552,406,16,406,16,6\" style=\"stroke: #000000; stroke-width: 1.5;\"/><line style=\"stroke: #000000; stroke-width: 1.5;\" x1=\"16\" x2=\"139\" y1=\"28.2969\" y2=\"28.2969\"/><text fill=\"#000000\" font-family=\"sans-serif\" font-size=\"14\" font-weight=\"bold\" lengthAdjust=\"spacingAndGlyphs\" textLength=\"110\" x=\"20\" y=\"20.9951\">TradeStudyTest</text></a><!--MD5=[de5ec2e2e8f62f467e546659f5068c88]\n",
       "cluster E5--><a href=\"psysml:e12e8838-d64a-4336-9e52-2de97357eae2\" target=\"_top\" title=\"psysml:e12e8838-d64a-4336-9e52-2de97357eae2\" xlink:actuate=\"onRequest\" xlink:href=\"psysml:e12e8838-d64a-4336-9e52-2de97357eae2\" xlink:show=\"new\" xlink:title=\"psysml:e12e8838-d64a-4336-9e52-2de97357eae2\" xlink:type=\"simple\"><rect fill=\"#FFFFFF\" height=\"129\" id=\"E5\" rx=\"10\" ry=\"10\" style=\"stroke: #383838; stroke-width: 1.5;\" width=\"199\" x=\"321\" y=\"57\"/><rect fill=\"#F8F8F8\" height=\"37.9375\" rx=\"10\" ry=\"10\" style=\"stroke: #F8F8F8; stroke-width: 1.5;\" width=\"199\" x=\"321\" y=\"57\"/><rect fill=\"#F8F8F8\" height=\"10\" style=\"stroke: #F8F8F8; stroke-width: 1.5;\" width=\"199\" x=\"321\" y=\"84.9375\"/><rect fill=\"none\" height=\"129\" id=\"E5\" rx=\"10\" ry=\"10\" style=\"stroke: #383838; stroke-width: 1.5;\" width=\"199\" x=\"321\" y=\"57\"/><text fill=\"#000000\" font-family=\"sans-serif\" font-size=\"12\" font-style=\"italic\" lengthAdjust=\"spacingAndGlyphs\" textLength=\"64\" x=\"388.5\" y=\"73.1387\">«analysis»</text><text fill=\"#000000\" font-family=\"sans-serif\" font-size=\"12\" lengthAdjust=\"spacingAndGlyphs\" textLength=\"114\" x=\"363.5\" y=\"87.1074\">engineTradeStudy</text><line style=\"stroke: #383838; stroke-width: 1.0;\" x1=\"321\" x2=\"520\" y1=\"94.9375\" y2=\"94.9375\"/></a><!--MD5=[2156ba9850f5573cc1fc38a6a4b2f02b]\n",
       "class E7--><a href=\"psysml:1fa3686a-6014-4c73-9542-2575e26fd8a7\" target=\"_top\" title=\"psysml:1fa3686a-6014-4c73-9542-2575e26fd8a7\" xlink:actuate=\"onRequest\" xlink:href=\"psysml:1fa3686a-6014-4c73-9542-2575e26fd8a7\" xlink:show=\"new\" xlink:title=\"psysml:1fa3686a-6014-4c73-9542-2575e26fd8a7\" xlink:type=\"simple\"><rect fill=\"#FFFFFF\" height=\"45.9375\" id=\"E7\" rx=\"10\" ry=\"10\" style=\"stroke: #383838; stroke-width: 1.5;\" width=\"129\" x=\"73.5\" y=\"219\"/><text fill=\"#000000\" font-family=\"sans-serif\" font-size=\"12\" font-style=\"italic\" lengthAdjust=\"spacingAndGlyphs\" textLength=\"82\" x=\"97\" y=\"235.1387\">«calculation»</text><text fill=\"#000000\" font-family=\"sans-serif\" font-size=\"12\" lengthAdjust=\"spacingAndGlyphs\" textLength=\"119\" x=\"76.5\" y=\"249.1074\">evaluationFunction</text><line style=\"stroke: #383838; stroke-width: 1.5;\" x1=\"74.5\" x2=\"201.5\" y1=\"256.9375\" y2=\"256.9375\"/></a><!--MD5=[b9389687b975829384b498ac4b7476b2]\n",
       "class E8--><a href=\"psysml:79c1d929-0a70-426e-ae6d-56e5e3e776a6\" target=\"_top\" title=\"psysml:79c1d929-0a70-426e-ae6d-56e5e3e776a6\" xlink:actuate=\"onRequest\" xlink:href=\"psysml:79c1d929-0a70-426e-ae6d-56e5e3e776a6\" xlink:show=\"new\" xlink:title=\"psysml:79c1d929-0a70-426e-ae6d-56e5e3e776a6\" xlink:type=\"simple\"><rect fill=\"#FFFFFF\" height=\"31.9688\" id=\"E8\" rx=\"10\" ry=\"10\" style=\"stroke: #383838; stroke-width: 1.5;\" width=\"128\" x=\"120\" y=\"298\"/><text fill=\"#000000\" font-family=\"sans-serif\" font-size=\"12\" lengthAdjust=\"spacingAndGlyphs\" textLength=\"118\" x=\"123\" y=\"314.1387\">alternative: Engine</text><line style=\"stroke: #383838; stroke-width: 1.5;\" x1=\"121\" x2=\"247\" y1=\"321.9688\" y2=\"321.9688\"/></a><!--MD5=[fd4143e9d270a159db93a4ea2a975926]\n",
       "class E9--><a href=\"psysml:169f456a-e384-47f5-89e9-43fd13dd17eb\" target=\"_top\" title=\"psysml:169f456a-e384-47f5-89e9-43fd13dd17eb\" xlink:actuate=\"onRequest\" xlink:href=\"psysml:169f456a-e384-47f5-89e9-43fd13dd17eb\" xlink:show=\"new\" xlink:title=\"psysml:169f456a-e384-47f5-89e9-43fd13dd17eb\" xlink:type=\"simple\"><rect fill=\"#FFFFFF\" height=\"31.9688\" id=\"E9\" rx=\"10\" ry=\"10\" style=\"stroke: #383838; stroke-width: 1.5;\" width=\"182\" x=\"238\" y=\"226\"/><text fill=\"#000000\" font-family=\"sans-serif\" font-size=\"12\" lengthAdjust=\"spacingAndGlyphs\" textLength=\"172\" x=\"241\" y=\"242.1387\">selectedAlternative: Engine</text><line style=\"stroke: #383838; stroke-width: 1.5;\" x1=\"239\" x2=\"419\" y1=\"249.9688\" y2=\"249.9688\"/></a><g id=\"E1.E2\"><a href=\"psysml:956f1300-60cf-48ef-8161-7a381ae0bb8c\" target=\"_top\" title=\"psysml:956f1300-60cf-48ef-8161-7a381ae0bb8c\" xlink:actuate=\"onRequest\" xlink:href=\"psysml:956f1300-60cf-48ef-8161-7a381ae0bb8c\" xlink:show=\"new\" xlink:title=\"psysml:956f1300-60cf-48ef-8161-7a381ae0bb8c\" xlink:type=\"simple\"><rect fill=\"#FFFFFF\" height=\"42.9375\" id=\"E2\" style=\"stroke: #383838; stroke-width: 1.5;\" width=\"75\" x=\"291.5\" y=\"347\"/><rect fill=\"#F8F8F8\" height=\"37.9375\" style=\"stroke: #383838; stroke-width: 1.5;\" width=\"75\" x=\"291.5\" y=\"347\"/><text fill=\"#000000\" font-family=\"sans-serif\" font-size=\"12\" font-style=\"italic\" lengthAdjust=\"spacingAndGlyphs\" textLength=\"68\" x=\"295\" y=\"363.1387\">«part  def»</text><text fill=\"#000000\" font-family=\"sans-serif\" font-size=\"12\" lengthAdjust=\"spacingAndGlyphs\" textLength=\"43\" x=\"307.5\" y=\"377.1074\">Engine</text></a></g><g id=\"E1.E3\"><a href=\"psysml:5ff7a686-dab8-41cf-8031-b7dccb26607b\" target=\"_top\" title=\"psysml:5ff7a686-dab8-41cf-8031-b7dccb26607b\" xlink:actuate=\"onRequest\" xlink:href=\"psysml:5ff7a686-dab8-41cf-8031-b7dccb26607b\" xlink:show=\"new\" xlink:title=\"psysml:5ff7a686-dab8-41cf-8031-b7dccb26607b\" xlink:type=\"simple\"><rect fill=\"#FFFFFF\" height=\"40\" id=\"E3\" rx=\"10\" ry=\"10\" style=\"stroke: #383838; stroke-width: 1.5;\" width=\"113\" x=\"180.5\" y=\"119\"/><rect fill=\"#F8F8F8\" height=\"23.9688\" rx=\"10\" ry=\"10\" style=\"stroke: #F8F8F8; stroke-width: 1.5;\" width=\"113\" x=\"180.5\" y=\"119\"/><rect fill=\"#F8F8F8\" height=\"10\" style=\"stroke: #F8F8F8; stroke-width: 1.5;\" width=\"113\" x=\"180.5\" y=\"132.9688\"/><rect fill=\"none\" height=\"40\" id=\"E3\" rx=\"10\" ry=\"10\" style=\"stroke: #383838; stroke-width: 1.5;\" width=\"113\" x=\"180.5\" y=\"119\"/><text fill=\"#000000\" font-family=\"sans-serif\" font-size=\"12\" lengthAdjust=\"spacingAndGlyphs\" textLength=\"102\" x=\"186\" y=\"135.1387\">engine1: Engine</text></a></g><g id=\"E1.E4\"><a href=\"psysml:44e88bb9-9b84-4b3f-b104-23d7a257fb04\" target=\"_top\" title=\"psysml:44e88bb9-9b84-4b3f-b104-23d7a257fb04\" xlink:actuate=\"onRequest\" xlink:href=\"psysml:44e88bb9-9b84-4b3f-b104-23d7a257fb04\" xlink:show=\"new\" xlink:title=\"psysml:44e88bb9-9b84-4b3f-b104-23d7a257fb04\" xlink:type=\"simple\"><rect fill=\"#FFFFFF\" height=\"40\" id=\"E4\" rx=\"10\" ry=\"10\" style=\"stroke: #383838; stroke-width: 1.5;\" width=\"113\" x=\"32.5\" y=\"119\"/><rect fill=\"#F8F8F8\" height=\"23.9688\" rx=\"10\" ry=\"10\" style=\"stroke: #F8F8F8; stroke-width: 1.5;\" width=\"113\" x=\"32.5\" y=\"119\"/><rect fill=\"#F8F8F8\" height=\"10\" style=\"stroke: #F8F8F8; stroke-width: 1.5;\" width=\"113\" x=\"32.5\" y=\"132.9688\"/><rect fill=\"none\" height=\"40\" id=\"E4\" rx=\"10\" ry=\"10\" style=\"stroke: #383838; stroke-width: 1.5;\" width=\"113\" x=\"32.5\" y=\"119\"/><text fill=\"#000000\" font-family=\"sans-serif\" font-size=\"12\" lengthAdjust=\"spacingAndGlyphs\" textLength=\"102\" x=\"38\" y=\"135.1387\">engine2: Engine</text></a></g><!--MD5=[60a26617385b1d2d0262a64233df1f8d]\n",
       "class E6--><a href=\"psysml:9a804e4d-bc47-4ee7-a2d8-d8527e0c1caf\" target=\"_top\" title=\"psysml:9a804e4d-bc47-4ee7-a2d8-d8527e0c1caf\" xlink:actuate=\"onRequest\" xlink:href=\"psysml:9a804e4d-bc47-4ee7-a2d8-d8527e0c1caf\" xlink:show=\"new\" xlink:title=\"psysml:9a804e4d-bc47-4ee7-a2d8-d8527e0c1caf\" xlink:type=\"simple\"><rect fill=\"#FFFFFF\" height=\"45.9375\" id=\"E6\" rx=\"10\" ry=\"10\" style=\"stroke: #383838; stroke-width: 1.5;\" width=\"132\" x=\"364\" y=\"116\"/><text fill=\"#000000\" font-family=\"sans-serif\" font-size=\"12\" font-style=\"italic\" lengthAdjust=\"spacingAndGlyphs\" textLength=\"70\" x=\"395\" y=\"132.1387\">«objective»</text><text fill=\"#000000\" font-family=\"sans-serif\" font-size=\"12\" lengthAdjust=\"spacingAndGlyphs\" textLength=\"126\" x=\"367\" y=\"146.1074\">tradeStudyObjective</text><line style=\"stroke: #383838; stroke-width: 1.5;\" x1=\"365\" x2=\"495\" y1=\"153.9375\" y2=\"153.9375\"/></a><!--MD5=[15ebcb19ae302d9b601edb458606d402]\n",
       "link E5 to E2--><a href=\"psysml:ef23f2a8-b555-4000-b8d1-a9fc8ea83129\" target=\"_top\" title=\"psysml:ef23f2a8-b555-4000-b8d1-a9fc8ea83129\" xlink:actuate=\"onRequest\" xlink:href=\"psysml:ef23f2a8-b555-4000-b8d1-a9fc8ea83129\" xlink:show=\"new\" xlink:title=\"psysml:ef23f2a8-b555-4000-b8d1-a9fc8ea83129\" xlink:type=\"simple\"><path d=\"M336.7687,186.0407 C336.9497,186.4418 337.1349,186.8409 337.3242,187.2379 C337.703,188.0319 338.0985,188.8172 338.5115,189.5919 C339.3377,191.1413 340.234,192.6486 341.2064,194.0989 C343.1511,196.9995 345.4,199.6725 348,202 C378.33,229.15 412.02,187.66 438,219 C473.29,261.58 411.17,314.39 367.14,344.19 \" fill=\"none\" id=\"E5-&gt;E2\" style=\"stroke: #383838; stroke-width: 1.0; stroke-dasharray: 7.0,7.0;\"/><polygon fill=\"#383838\" points=\"362.94,347,372.6473,345.3359,367.1003,344.2265,368.2097,338.6795,362.94,347\" style=\"stroke: #383838; stroke-width: 1.0;\"/><text fill=\"#000000\" font-family=\"sans-serif\" font-size=\"13\" lengthAdjust=\"spacingAndGlyphs\" textLength=\"62\" x=\"441\" y=\"286.0669\">«subject»</text></a><!--MD5=[452b418e7f8a40397a49b8c0a78acc5b]\n",
       "reverse link E5 to E7--><a href=\"psysml:3495a436-635c-4195-be5e-85a5d126f0e1\" target=\"_top\" title=\"psysml:3495a436-635c-4195-be5e-85a5d126f0e1\" xlink:actuate=\"onRequest\" xlink:href=\"psysml:3495a436-635c-4195-be5e-85a5d126f0e1\" xlink:show=\"new\" xlink:title=\"psysml:3495a436-635c-4195-be5e-85a5d126f0e1\" xlink:type=\"simple\"><path d=\"M332.9347,186.1446 C332.8869,186.3466 332.8378,186.5483 332.7874,186.7494 C332.5857,187.5541 332.3629,188.3516 332.1178,189.1403 C331.6274,190.7176 331.0475,192.2593 330.3674,193.7515 C329.0072,196.7359 327.2463,199.5225 325,202 C309.27,219.35 243.9,214.11 221,219 C215.02,220.28 208.83,221.71 202.65,223.22 \" fill=\"none\" id=\"E5&lt;-E7\" style=\"stroke: #383838; stroke-width: 1.0;\"/><polygon fill=\"#383838\" points=\"332.9347,186.1446,327.6606,191.0624,330.1716,197.8222,335.4457,192.9044,332.9347,186.1446\" style=\"stroke: #383838; stroke-width: 1.0;\"/></a><!--MD5=[dc164f5e8a733ab456ef1add180e9e34]\n",
       "reverse link E7 to E8--><a href=\"psysml:e1d2632c-68a4-476d-b3ed-d8b6d2aaac51\" target=\"_top\" title=\"psysml:e1d2632c-68a4-476d-b3ed-d8b6d2aaac51\" xlink:actuate=\"onRequest\" xlink:href=\"psysml:e1d2632c-68a4-476d-b3ed-d8b6d2aaac51\" xlink:show=\"new\" xlink:title=\"psysml:e1d2632c-68a4-476d-b3ed-d8b6d2aaac51\" xlink:type=\"simple\"><path d=\"M159.85,276.24 C164.76,283.72 169.75,291.31 173.91,297.64 \" fill=\"none\" id=\"E7&lt;-E8\" style=\"stroke: #383838; stroke-width: 1.0;\"/><polygon fill=\"#FFFFFF\" points=\"152.55,265.15,152.5017,272.3609,159.1393,275.179,159.1877,267.968,152.55,265.15\" style=\"stroke: #383838; stroke-width: 1.0;\"/><text fill=\"#000000\" font-family=\"sans-serif\" font-size=\"13\" lengthAdjust=\"spacingAndGlyphs\" textLength=\"8\" x=\"161.2427\" y=\"286.8304\">1</text></a><!--MD5=[f1f3f9f2fc535e6147756cb86a7f2e32]\n",
       "link E8 to E2--><a href=\"psysml:a8ae8a0d-ad52-4d9e-986d-0c741d3467c2\" target=\"_top\" title=\"psysml:a8ae8a0d-ad52-4d9e-986d-0c741d3467c2\" xlink:actuate=\"onRequest\" xlink:href=\"psysml:a8ae8a0d-ad52-4d9e-986d-0c741d3467c2\" xlink:show=\"new\" xlink:title=\"psysml:a8ae8a0d-ad52-4d9e-986d-0c741d3467c2\" xlink:type=\"simple\"><path d=\"M225.55,330.04 C240.14,335.33 256.8,341.36 272.41,347.01 \" fill=\"none\" id=\"E8-&gt;E2\" style=\"stroke: #383838; stroke-width: 1.0;\"/><polygon fill=\"#FFFFFF\" points=\"291.41,353.89,271.1619,354.01,275.9238,340.8448,291.41,353.89\" style=\"stroke: #383838; stroke-width: 1.0;\"/><ellipse cx=\"266.482\" cy=\"350.1905\" fill=\"#383838\" rx=\"2\" ry=\"2\" style=\"stroke: #383838; stroke-width: 1.0;\"/><ellipse cx=\"269.8834\" cy=\"340.7868\" fill=\"#383838\" rx=\"2\" ry=\"2\" style=\"stroke: #383838; stroke-width: 1.0;\"/></a><!--MD5=[9ae28de373ca99bb8a1b38d63370ca7e]\n",
       "reverse link E5 to E9--><a href=\"psysml:1023028c-00c5-4dde-9329-e4b02befe1ab\" target=\"_top\" title=\"psysml:1023028c-00c5-4dde-9329-e4b02befe1ab\" xlink:actuate=\"onRequest\" xlink:href=\"psysml:1023028c-00c5-4dde-9329-e4b02befe1ab\" xlink:show=\"new\" xlink:title=\"psysml:1023028c-00c5-4dde-9329-e4b02befe1ab\" xlink:type=\"simple\"><path d=\"M329,186.1541 C329,186.4444 329,186.7349 329,187.0256 C329,191.6761 329,196.366 329,200.9367 C329,210.0781 329,218.7425 329,225.66 \" fill=\"none\" id=\"E5&lt;-E9\" style=\"stroke: #383838; stroke-width: 1.0;\"/><polygon fill=\"#FFFFFF\" points=\"329,186.1541,325,192.1541,329,198.1541,333,192.1541,329,186.1541\" style=\"stroke: #383838; stroke-width: 1.0;\"/><text fill=\"#000000\" font-family=\"sans-serif\" font-size=\"13\" lengthAdjust=\"spacingAndGlyphs\" textLength=\"8\" x=\"319.675\" y=\"214.8571\">1</text></a><!--MD5=[5c3bb36fe832a92c7f0e1807dd65209d]\n",
       "link E9 to E2--><a href=\"psysml:d6cd1bf0-a8ac-42a9-91c6-4adc5d4642e7\" target=\"_top\" title=\"psysml:d6cd1bf0-a8ac-42a9-91c6-4adc5d4642e7\" xlink:actuate=\"onRequest\" xlink:href=\"psysml:d6cd1bf0-a8ac-42a9-91c6-4adc5d4642e7\" xlink:show=\"new\" xlink:title=\"psysml:d6cd1bf0-a8ac-42a9-91c6-4adc5d4642e7\" xlink:type=\"simple\"><path d=\"M329,258.27 C329,275.18 329,303.16 329,326.57 \" fill=\"none\" id=\"E9-&gt;E2\" style=\"stroke: #383838; stroke-width: 1.0;\"/><polygon fill=\"#FFFFFF\" points=\"329,346.71,322,327.71,336,327.71,329,346.71\" style=\"stroke: #383838; stroke-width: 1.0;\"/><ellipse cx=\"324\" cy=\"322.01\" fill=\"#383838\" rx=\"2\" ry=\"2\" style=\"stroke: #383838; stroke-width: 1.0;\"/><ellipse cx=\"334\" cy=\"322.01\" fill=\"#383838\" rx=\"2\" ry=\"2\" style=\"stroke: #383838; stroke-width: 1.0;\"/></a><!--MD5=[5a3f4d6492df47a540051819f7d90c18]\n",
       "@startuml\r\n",
       "skinparam ranksep 10\r\n",
       "skinparam rectangle {\r\n",
       " backgroundColor<<block>> LightGreen\r\n",
       "}\r\n",
       "skinparam monochrome true\r\n",
       "skinparam classbackgroundcolor white\r\n",
       "skinparam shadowing false\r\n",
       "skinparam wrapWidth 300\r\n",
       "hide circle\r\n",
       "\r\n",
       "package \"TradeStudyTest\" as E1  [[psysml:9d3e1c5c-e45c-4a85-8e75-4ee823ac8fbf ]]  {\r\n",
       "rec def \"Engine\" as E2  <<(T,blue) part  def>> [[psysml:956f1300-60cf-48ef-8161-7a381ae0bb8c ]] {\r\n",
       "}\r\n",
       "rec usage \"engine1: Engine\" as E3  [[psysml:5ff7a686-dab8-41cf-8031-b7dccb26607b ]] {\r\n",
       "}\r\n",
       "rec usage \"engine2: Engine\" as E4  [[psysml:44e88bb9-9b84-4b3f-b104-23d7a257fb04 ]] {\r\n",
       "}\r\n",
       "rec usage \"engineTradeStudy\" as E5 << analysis>> [[psysml:e12e8838-d64a-4336-9e52-2de97357eae2 ]] {\r\n",
       "comp usage \"tradeStudyObjective\" as E6  <<objective>> [[psysml:9a804e4d-bc47-4ee7-a2d8-d8527e0c1caf ]] {\r\n",
       "}\r\n",
       "}\r\n",
       "comp usage \"evaluationFunction \" as E7  <<(T,blue) calculation>> [[psysml:1fa3686a-6014-4c73-9542-2575e26fd8a7 ]] {\r\n",
       "}\r\n",
       "comp usage \"alternative: Engine \" as E8  [[psysml:79c1d929-0a70-426e-ae6d-56e5e3e776a6 ]] {\r\n",
       "}\r\n",
       "comp usage \"selectedAlternative: Engine \" as E9  [[psysml:169f456a-e384-47f5-89e9-43fd13dd17eb ]] {\r\n",
       "}\r\n",
       "}\r\n",
       "E5 ..> E2 [[psysml:ef23f2a8-b555-4000-b8d1-a9fc8ea83129 ]] : <<subject>>\r\n",
       "E5 *- - E7 [[psysml:3495a436-635c-4195-be5e-85a5d126f0e1 ]] \r\n",
       "E7 o- - \"1\"E8 [[psysml:e1d2632c-68a4-476d-b3ed-d8b6d2aaac51 ]] \r\n",
       "E8 - -:|> E2 [[psysml:a8ae8a0d-ad52-4d9e-986d-0c741d3467c2 ]] \r\n",
       "E5 o- - \"1\"E9 [[psysml:1023028c-00c5-4dde-9329-e4b02befe1ab ]] \r\n",
       "E9 - -:|> E2 [[psysml:d6cd1bf0-a8ac-42a9-91c6-4adc5d4642e7 ]] \r\n",
       "@enduml\r\n",
       "\n",
       "PlantUML version 1.2020.13(Sat Jun 13 12:26:38 UTC 2020)\n",
       "(EPL source distribution)\n",
       "Java Runtime: OpenJDK Runtime Environment\n",
       "JVM: OpenJDK 64-Bit Server VM\n",
       "Default Encoding: UTF-8\n",
       "Language: en\n",
       "Country: null\n",
       "--></g></svg>"
      ]
     },
     "execution_count": 40,
     "metadata": {},
     "output_type": "execute_result"
    }
   ],
   "source": [
    "%viz --style=\"DEFAULT\" --view=\"Interconnection\" \"TradeStudyTest\""
   ]
  },
  {
   "cell_type": "code",
   "execution_count": 41,
   "id": "bcfc3b26",
   "metadata": {
    "execution": {
     "iopub.execute_input": "2022-02-18T10:50:37.853004Z",
     "iopub.status.busy": "2022-02-18T10:50:37.852605Z",
     "iopub.status.idle": "2022-02-18T10:50:37.881490Z",
     "shell.execute_reply": "2022-02-18T10:50:37.881165Z"
    }
   },
   "outputs": [
    {
     "data": {
      "image/svg+xml": [
       "<?xml version=\"1.0\" encoding=\"UTF-8\" standalone=\"no\"?><svg xmlns=\"http://www.w3.org/2000/svg\" xmlns:xlink=\"http://www.w3.org/1999/xlink\" contentScriptType=\"application/ecmascript\" contentStyleType=\"text/css\" height=\"227px\" preserveAspectRatio=\"none\" style=\"width:442px;height:227px;\" version=\"1.1\" viewBox=\"0 0 442 227\" width=\"442px\" zoomAndPan=\"magnify\"><defs/><g><!--MD5=[fbc87193dbaf4d95561dea2c320d4a47]\n",
       "cluster E1--><a href=\"psysml:e12e8838-d64a-4336-9e52-2de97357eae2\" target=\"_top\" title=\"psysml:e12e8838-d64a-4336-9e52-2de97357eae2\" xlink:actuate=\"onRequest\" xlink:href=\"psysml:e12e8838-d64a-4336-9e52-2de97357eae2\" xlink:show=\"new\" xlink:title=\"psysml:e12e8838-d64a-4336-9e52-2de97357eae2\" xlink:type=\"simple\"><rect fill=\"#FFFFFF\" height=\"174.36\" id=\"E1\" rx=\"10\" ry=\"10\" style=\"stroke: #383838; stroke-width: 1.5;\" width=\"317\" x=\"47\" y=\"42.0986\"/><rect fill=\"#F8F8F8\" height=\"37.9375\" rx=\"10\" ry=\"10\" style=\"stroke: #F8F8F8; stroke-width: 1.5;\" width=\"317\" x=\"47\" y=\"42.0986\"/><rect fill=\"#F8F8F8\" height=\"10\" style=\"stroke: #F8F8F8; stroke-width: 1.5;\" width=\"317\" x=\"47\" y=\"70.0361\"/><rect fill=\"none\" height=\"174.36\" id=\"E1\" rx=\"10\" ry=\"10\" style=\"stroke: #383838; stroke-width: 1.5;\" width=\"317\" x=\"47\" y=\"42.0986\"/><text fill=\"#000000\" font-family=\"sans-serif\" font-size=\"12\" font-style=\"italic\" lengthAdjust=\"spacingAndGlyphs\" textLength=\"64\" x=\"173.5\" y=\"58.2373\">«analysis»</text><text fill=\"#000000\" font-family=\"sans-serif\" font-size=\"12\" lengthAdjust=\"spacingAndGlyphs\" textLength=\"114\" x=\"148.5\" y=\"72.2061\">engineTradeStudy</text><line style=\"stroke: #383838; stroke-width: 1.0;\" x1=\"47\" x2=\"364\" y1=\"80.0361\" y2=\"80.0361\"/></a><!--MD5=[d5e69f78d87373223dbae638b30a9c99]\n",
       "cluster E3--><a href=\"psysml:1fa3686a-6014-4c73-9542-2575e26fd8a7\" target=\"_top\" title=\"psysml:1fa3686a-6014-4c73-9542-2575e26fd8a7\" xlink:actuate=\"onRequest\" xlink:href=\"psysml:1fa3686a-6014-4c73-9542-2575e26fd8a7\" xlink:show=\"new\" xlink:title=\"psysml:1fa3686a-6014-4c73-9542-2575e26fd8a7\" xlink:type=\"simple\"><rect fill=\"#FFFFFF\" height=\"104.86\" id=\"E3\" rx=\"10\" ry=\"10\" style=\"stroke: #383838; stroke-width: 1.5;\" width=\"178\" x=\"145\" y=\"81.5986\"/><rect fill=\"#F8F8F8\" height=\"37.9375\" rx=\"10\" ry=\"10\" style=\"stroke: #F8F8F8; stroke-width: 1.5;\" width=\"178\" x=\"145\" y=\"81.5986\"/><rect fill=\"#F8F8F8\" height=\"10\" style=\"stroke: #F8F8F8; stroke-width: 1.5;\" width=\"178\" x=\"145\" y=\"109.5361\"/><rect fill=\"none\" height=\"104.86\" id=\"E3\" rx=\"10\" ry=\"10\" style=\"stroke: #383838; stroke-width: 1.5;\" width=\"178\" x=\"145\" y=\"81.5986\"/><text fill=\"#000000\" font-family=\"sans-serif\" font-size=\"12\" font-style=\"italic\" lengthAdjust=\"spacingAndGlyphs\" textLength=\"82\" x=\"193\" y=\"97.7373\">«calculation»</text><text fill=\"#000000\" font-family=\"sans-serif\" font-size=\"12\" lengthAdjust=\"spacingAndGlyphs\" textLength=\"119\" x=\"174.5\" y=\"111.7061\">evaluationFunction</text><line style=\"stroke: #383838; stroke-width: 1.0;\" x1=\"145\" x2=\"323\" y1=\"119.5361\" y2=\"119.5361\"/></a><text fill=\"#000000\" font-family=\"sans-serif\" font-size=\"14\" lengthAdjust=\"spacingAndGlyphs\" textLength=\"118\" x=\"6\" y=\"20.7969\">studyAlternatives</text><rect fill=\"#383838\" height=\"12\" style=\"stroke: #F8F8F8; stroke-width: 1.5;\" width=\"12\" x=\"59\" y=\"36.0986\"/><text fill=\"#000000\" font-family=\"sans-serif\" font-size=\"14\" lengthAdjust=\"spacingAndGlyphs\" textLength=\"132\" x=\"298\" y=\"183.0938\">selectedAlternative</text><rect fill=\"#383838\" height=\"12\" style=\"stroke: #F8F8F8; stroke-width: 1.5;\" width=\"12\" x=\"358\" y=\"158.0986\"/><text fill=\"#000000\" font-family=\"sans-serif\" font-size=\"14\" lengthAdjust=\"spacingAndGlyphs\" textLength=\"71\" x=\"198.5\" y=\"60.2969\">alternative</text><rect fill=\"#383838\" height=\"12\" style=\"stroke: #F8F8F8; stroke-width: 1.5;\" width=\"12\" x=\"228\" y=\"75.5986\"/><text fill=\"#000000\" font-family=\"sans-serif\" font-size=\"14\" lengthAdjust=\"spacingAndGlyphs\" textLength=\"39\" x=\"214.5\" y=\"205.4538\">result</text><rect fill=\"#383838\" height=\"12\" style=\"stroke: #F8F8F8; stroke-width: 1.5;\" width=\"12\" x=\"228\" y=\"180.4586\"/><!--MD5=[48c6dd92f138f736f8fc94789a0ea563]\n",
       "@startuml\r\n",
       "skinparam ranksep 8\r\n",
       "skinparam monochrome true\r\n",
       "skinparam classbackgroundcolor white\r\n",
       "skinparam shadowing false\r\n",
       "skinparam wrapWidth 300\r\n",
       "hide circle\r\n",
       "\r\n",
       "rec usage \"engineTradeStudy\" as E1 << analysis>> [[psysml:e12e8838-d64a-4336-9e52-2de97357eae2 ]] {\r\n",
       "portin \"studyAlternatives\" as E2  [[psysml:36f294a0-7f48-45c5-aee6-574d3cef2e7a ]] \r\n",
       "rec usage \"evaluationFunction\" as E3  <<(T,blue) calculation>> [[psysml:1fa3686a-6014-4c73-9542-2575e26fd8a7 ]] {\r\n",
       "portin \"alternative\" as E4  [[psysml:79c1d929-0a70-426e-ae6d-56e5e3e776a6 ]] \r\n",
       "portout \"result\" as E5  [[psysml:c19db6ea-6f05-4719-8826-e593430801be ]] \r\n",
       "}\r\n",
       "\r\n",
       "portout \"selectedAlternative\" as E6  [[psysml:169f456a-e384-47f5-89e9-43fd13dd17eb ]] \r\n",
       "}\r\n",
       "\r\n",
       "@enduml\r\n",
       "\n",
       "PlantUML version 1.2020.13(Sat Jun 13 12:26:38 UTC 2020)\n",
       "(EPL source distribution)\n",
       "Java Runtime: OpenJDK Runtime Environment\n",
       "JVM: OpenJDK 64-Bit Server VM\n",
       "Default Encoding: UTF-8\n",
       "Language: en\n",
       "Country: null\n",
       "--></g></svg>"
      ]
     },
     "execution_count": 41,
     "metadata": {},
     "output_type": "execute_result"
    }
   ],
   "source": [
    "%viz --style=\"DEFAULT\" --view=\"Action\" \"TradeStudyTest\""
   ]
  },
  {
   "cell_type": "code",
   "execution_count": 42,
   "id": "af64a4d6",
   "metadata": {
    "execution": {
     "iopub.execute_input": "2022-02-18T10:50:37.931312Z",
     "iopub.status.busy": "2022-02-18T10:50:37.930916Z",
     "iopub.status.idle": "2022-02-18T10:50:37.936079Z",
     "shell.execute_reply": "2022-02-18T10:50:37.935756Z"
    }
   },
   "outputs": [
    {
     "data": {
      "image/svg+xml": [
       "<?xml version=\"1.0\" encoding=\"UTF-8\" standalone=\"no\"?><svg xmlns=\"http://www.w3.org/2000/svg\" xmlns:xlink=\"http://www.w3.org/1999/xlink\" contentScriptType=\"application/ecmascript\" contentStyleType=\"text/css\" height=\"12px\" preserveAspectRatio=\"none\" style=\"width:12px;height:12px;\" version=\"1.1\" viewBox=\"0 0 12 12\" width=\"12px\" zoomAndPan=\"magnify\"><defs/><g><!--MD5=[0b72472770326784bf6c2b53246e1e64]\n",
       "@startuml\r\n",
       "skinparam roundcorner 20\r\n",
       "skinparam BoxPadding 20\r\n",
       "skinparam SequenceBoxBackgroundColor #white\r\n",
       "skinparam style strictuml\r\n",
       "skinparam maxMessageSize 100\r\n",
       "skinparam monochrome true\r\n",
       "skinparam classbackgroundcolor white\r\n",
       "skinparam shadowing false\r\n",
       "skinparam wrapWidth 300\r\n",
       "hide circle\r\n",
       "\r\n",
       "@enduml\r\n",
       "\n",
       "PlantUML version 1.2020.13(Sat Jun 13 12:26:38 UTC 2020)\n",
       "(EPL source distribution)\n",
       "Java Runtime: OpenJDK Runtime Environment\n",
       "JVM: OpenJDK 64-Bit Server VM\n",
       "Default Encoding: UTF-8\n",
       "Language: en\n",
       "Country: null\n",
       "--></g></svg>"
      ]
     },
     "execution_count": 42,
     "metadata": {},
     "output_type": "execute_result"
    }
   ],
   "source": [
    "%viz --style=\"DEFAULT\" --view=\"Sequence\" \"TradeStudyTest\""
   ]
  },
  {
   "cell_type": "code",
   "execution_count": 43,
   "id": "50e55b12",
   "metadata": {
    "execution": {
     "iopub.execute_input": "2022-02-18T10:50:37.986425Z",
     "iopub.status.busy": "2022-02-18T10:50:37.986000Z",
     "iopub.status.idle": "2022-02-18T10:50:38.028199Z",
     "shell.execute_reply": "2022-02-18T10:50:38.027837Z"
    }
   },
   "outputs": [
    {
     "data": {
      "image/svg+xml": [
       "<?xml version=\"1.0\" encoding=\"UTF-8\" standalone=\"no\"?><svg xmlns=\"http://www.w3.org/2000/svg\" xmlns:xlink=\"http://www.w3.org/1999/xlink\" contentScriptType=\"application/ecmascript\" contentStyleType=\"text/css\" height=\"545px\" preserveAspectRatio=\"none\" style=\"width:566px;height:545px;\" version=\"1.1\" viewBox=\"0 0 566 545\" width=\"566px\" zoomAndPan=\"magnify\"><defs/><g><!--MD5=[fbc87193dbaf4d95561dea2c320d4a47]\n",
       "cluster E1--><a href=\"psysml:9d3e1c5c-e45c-4a85-8e75-4ee823ac8fbf\" target=\"_top\" title=\"psysml:9d3e1c5c-e45c-4a85-8e75-4ee823ac8fbf\" xlink:actuate=\"onRequest\" xlink:href=\"psysml:9d3e1c5c-e45c-4a85-8e75-4ee823ac8fbf\" xlink:show=\"new\" xlink:title=\"psysml:9d3e1c5c-e45c-4a85-8e75-4ee823ac8fbf\" xlink:type=\"simple\"><polygon fill=\"#FFFFFF\" points=\"16,6,132,6,139,28.2969,544,28.2969,544,533,16,533,16,6\" style=\"stroke: #000000; stroke-width: 1.5;\"/><line style=\"stroke: #000000; stroke-width: 1.5;\" x1=\"16\" x2=\"139\" y1=\"28.2969\" y2=\"28.2969\"/><text fill=\"#000000\" font-family=\"sans-serif\" font-size=\"14\" font-weight=\"bold\" lengthAdjust=\"spacingAndGlyphs\" textLength=\"110\" x=\"20\" y=\"20.9951\">TradeStudyTest</text></a><!--MD5=[de5ec2e2e8f62f467e546659f5068c88]\n",
       "cluster E5--><a href=\"psysml:e12e8838-d64a-4336-9e52-2de97357eae2\" target=\"_top\" title=\"psysml:e12e8838-d64a-4336-9e52-2de97357eae2\" xlink:actuate=\"onRequest\" xlink:href=\"psysml:e12e8838-d64a-4336-9e52-2de97357eae2\" xlink:show=\"new\" xlink:title=\"psysml:e12e8838-d64a-4336-9e52-2de97357eae2\" xlink:type=\"simple\"><rect fill=\"#FFFFFF\" height=\"129\" id=\"E5\" rx=\"10\" ry=\"10\" style=\"stroke: #383838; stroke-width: 1.5;\" width=\"199\" x=\"238\" y=\"57\"/><rect fill=\"#F8F8F8\" height=\"37.9375\" rx=\"10\" ry=\"10\" style=\"stroke: #F8F8F8; stroke-width: 1.5;\" width=\"199\" x=\"238\" y=\"57\"/><rect fill=\"#F8F8F8\" height=\"10\" style=\"stroke: #F8F8F8; stroke-width: 1.5;\" width=\"199\" x=\"238\" y=\"84.9375\"/><rect fill=\"none\" height=\"129\" id=\"E5\" rx=\"10\" ry=\"10\" style=\"stroke: #383838; stroke-width: 1.5;\" width=\"199\" x=\"238\" y=\"57\"/><text fill=\"#000000\" font-family=\"sans-serif\" font-size=\"12\" font-style=\"italic\" lengthAdjust=\"spacingAndGlyphs\" textLength=\"64\" x=\"305.5\" y=\"73.1387\">«analysis»</text><text fill=\"#000000\" font-family=\"sans-serif\" font-size=\"12\" lengthAdjust=\"spacingAndGlyphs\" textLength=\"114\" x=\"280.5\" y=\"87.1074\">engineTradeStudy</text><line style=\"stroke: #383838; stroke-width: 1.0;\" x1=\"238\" x2=\"437\" y1=\"94.9375\" y2=\"94.9375\"/></a><!--MD5=[b4997ac47864f28c2f74865a473b2911]\n",
       "class E2--><a href=\"psysml:956f1300-60cf-48ef-8161-7a381ae0bb8c\" target=\"_top\" title=\"psysml:956f1300-60cf-48ef-8161-7a381ae0bb8c\" xlink:actuate=\"onRequest\" xlink:href=\"psysml:956f1300-60cf-48ef-8161-7a381ae0bb8c\" xlink:show=\"new\" xlink:title=\"psysml:956f1300-60cf-48ef-8161-7a381ae0bb8c\" xlink:type=\"simple\"><rect fill=\"#FFFFFF\" height=\"45.9375\" id=\"E2\" style=\"stroke: #383838; stroke-width: 1.5;\" width=\"70\" x=\"292\" y=\"471\"/><text fill=\"#000000\" font-family=\"sans-serif\" font-size=\"12\" font-style=\"italic\" lengthAdjust=\"spacingAndGlyphs\" textLength=\"68\" x=\"293\" y=\"487.1387\">«part  def»</text><text fill=\"#000000\" font-family=\"sans-serif\" font-size=\"12\" lengthAdjust=\"spacingAndGlyphs\" textLength=\"43\" x=\"305.5\" y=\"501.1074\">Engine</text><line style=\"stroke: #383838; stroke-width: 1.5;\" x1=\"293\" x2=\"361\" y1=\"508.9375\" y2=\"508.9375\"/></a><!--MD5=[09b614a08d8cba4a07c9adeb5e0fee81]\n",
       "class E3--><a href=\"psysml:5ff7a686-dab8-41cf-8031-b7dccb26607b\" target=\"_top\" title=\"psysml:5ff7a686-dab8-41cf-8031-b7dccb26607b\" xlink:actuate=\"onRequest\" xlink:href=\"psysml:5ff7a686-dab8-41cf-8031-b7dccb26607b\" xlink:show=\"new\" xlink:title=\"psysml:5ff7a686-dab8-41cf-8031-b7dccb26607b\" xlink:type=\"simple\"><rect fill=\"#FFFFFF\" height=\"45.9375\" id=\"E3\" rx=\"10\" ry=\"10\" style=\"stroke: #383838; stroke-width: 1.5;\" width=\"112\" x=\"179\" y=\"364\"/><text fill=\"#000000\" font-family=\"sans-serif\" font-size=\"12\" font-style=\"italic\" lengthAdjust=\"spacingAndGlyphs\" textLength=\"40\" x=\"215\" y=\"380.1387\">«part»</text><text fill=\"#000000\" font-family=\"sans-serif\" font-size=\"12\" lengthAdjust=\"spacingAndGlyphs\" textLength=\"102\" x=\"182\" y=\"394.1074\">engine1: Engine</text><line style=\"stroke: #383838; stroke-width: 1.5;\" x1=\"180\" x2=\"290\" y1=\"401.9375\" y2=\"401.9375\"/></a><!--MD5=[ebbe1d658d1005bcc118a6aa81145e00]\n",
       "class E4--><a href=\"psysml:44e88bb9-9b84-4b3f-b104-23d7a257fb04\" target=\"_top\" title=\"psysml:44e88bb9-9b84-4b3f-b104-23d7a257fb04\" xlink:actuate=\"onRequest\" xlink:href=\"psysml:44e88bb9-9b84-4b3f-b104-23d7a257fb04\" xlink:show=\"new\" xlink:title=\"psysml:44e88bb9-9b84-4b3f-b104-23d7a257fb04\" xlink:type=\"simple\"><rect fill=\"#FFFFFF\" height=\"45.9375\" id=\"E4\" rx=\"10\" ry=\"10\" style=\"stroke: #383838; stroke-width: 1.5;\" width=\"112\" x=\"32\" y=\"364\"/><text fill=\"#000000\" font-family=\"sans-serif\" font-size=\"12\" font-style=\"italic\" lengthAdjust=\"spacingAndGlyphs\" textLength=\"40\" x=\"68\" y=\"380.1387\">«part»</text><text fill=\"#000000\" font-family=\"sans-serif\" font-size=\"12\" lengthAdjust=\"spacingAndGlyphs\" textLength=\"102\" x=\"35\" y=\"394.1074\">engine2: Engine</text><line style=\"stroke: #383838; stroke-width: 1.5;\" x1=\"33\" x2=\"143\" y1=\"401.9375\" y2=\"401.9375\"/></a><!--MD5=[2156ba9850f5573cc1fc38a6a4b2f02b]\n",
       "class E7--><a href=\"psysml:1fa3686a-6014-4c73-9542-2575e26fd8a7\" target=\"_top\" title=\"psysml:1fa3686a-6014-4c73-9542-2575e26fd8a7\" xlink:actuate=\"onRequest\" xlink:href=\"psysml:1fa3686a-6014-4c73-9542-2575e26fd8a7\" xlink:show=\"new\" xlink:title=\"psysml:1fa3686a-6014-4c73-9542-2575e26fd8a7\" xlink:type=\"simple\"><rect fill=\"#FFFFFF\" height=\"45.9375\" id=\"E7\" rx=\"10\" ry=\"10\" style=\"stroke: #383838; stroke-width: 1.5;\" width=\"129\" x=\"181.5\" y=\"241\"/><text fill=\"#000000\" font-family=\"sans-serif\" font-size=\"12\" font-style=\"italic\" lengthAdjust=\"spacingAndGlyphs\" textLength=\"82\" x=\"205\" y=\"257.1387\">«calculation»</text><text fill=\"#000000\" font-family=\"sans-serif\" font-size=\"12\" lengthAdjust=\"spacingAndGlyphs\" textLength=\"119\" x=\"184.5\" y=\"271.1074\">evaluationFunction</text><line style=\"stroke: #383838; stroke-width: 1.5;\" x1=\"182.5\" x2=\"309.5\" y1=\"278.9375\" y2=\"278.9375\"/></a><!--MD5=[b9389687b975829384b498ac4b7476b2]\n",
       "class E8--><a href=\"psysml:79c1d929-0a70-426e-ae6d-56e5e3e776a6\" target=\"_top\" title=\"psysml:79c1d929-0a70-426e-ae6d-56e5e3e776a6\" xlink:actuate=\"onRequest\" xlink:href=\"psysml:79c1d929-0a70-426e-ae6d-56e5e3e776a6\" xlink:show=\"new\" xlink:title=\"psysml:79c1d929-0a70-426e-ae6d-56e5e3e776a6\" xlink:type=\"simple\"><rect fill=\"#FFFFFF\" height=\"45.9375\" id=\"E8\" rx=\"10\" ry=\"10\" style=\"stroke: #383838; stroke-width: 1.5;\" width=\"128\" x=\"363\" y=\"364\"/><text fill=\"#000000\" font-family=\"sans-serif\" font-size=\"12\" font-style=\"italic\" lengthAdjust=\"spacingAndGlyphs\" textLength=\"40\" x=\"407\" y=\"380.1387\">«part»</text><text fill=\"#000000\" font-family=\"sans-serif\" font-size=\"12\" lengthAdjust=\"spacingAndGlyphs\" textLength=\"118\" x=\"366\" y=\"394.1074\">alternative: Engine</text><line style=\"stroke: #383838; stroke-width: 1.5;\" x1=\"364\" x2=\"490\" y1=\"401.9375\" y2=\"401.9375\"/></a><!--MD5=[fd4143e9d270a159db93a4ea2a975926]\n",
       "class E9--><a href=\"psysml:169f456a-e384-47f5-89e9-43fd13dd17eb\" target=\"_top\" title=\"psysml:169f456a-e384-47f5-89e9-43fd13dd17eb\" xlink:actuate=\"onRequest\" xlink:href=\"psysml:169f456a-e384-47f5-89e9-43fd13dd17eb\" xlink:show=\"new\" xlink:title=\"psysml:169f456a-e384-47f5-89e9-43fd13dd17eb\" xlink:type=\"simple\"><rect fill=\"#FFFFFF\" height=\"45.9375\" id=\"E9\" rx=\"10\" ry=\"10\" style=\"stroke: #383838; stroke-width: 1.5;\" width=\"182\" x=\"346\" y=\"241\"/><text fill=\"#000000\" font-family=\"sans-serif\" font-size=\"12\" font-style=\"italic\" lengthAdjust=\"spacingAndGlyphs\" textLength=\"40\" x=\"417\" y=\"257.1387\">«part»</text><text fill=\"#000000\" font-family=\"sans-serif\" font-size=\"12\" lengthAdjust=\"spacingAndGlyphs\" textLength=\"172\" x=\"349\" y=\"271.1074\">selectedAlternative: Engine</text><line style=\"stroke: #383838; stroke-width: 1.5;\" x1=\"347\" x2=\"527\" y1=\"278.9375\" y2=\"278.9375\"/></a><!--MD5=[60a26617385b1d2d0262a64233df1f8d]\n",
       "class E6--><a href=\"psysml:9a804e4d-bc47-4ee7-a2d8-d8527e0c1caf\" target=\"_top\" title=\"psysml:9a804e4d-bc47-4ee7-a2d8-d8527e0c1caf\" xlink:actuate=\"onRequest\" xlink:href=\"psysml:9a804e4d-bc47-4ee7-a2d8-d8527e0c1caf\" xlink:show=\"new\" xlink:title=\"psysml:9a804e4d-bc47-4ee7-a2d8-d8527e0c1caf\" xlink:type=\"simple\"><rect fill=\"#FFFFFF\" height=\"45.9375\" id=\"E6\" rx=\"10\" ry=\"10\" style=\"stroke: #383838; stroke-width: 1.5;\" width=\"132\" x=\"281\" y=\"116\"/><text fill=\"#000000\" font-family=\"sans-serif\" font-size=\"12\" font-style=\"italic\" lengthAdjust=\"spacingAndGlyphs\" textLength=\"70\" x=\"312\" y=\"132.1387\">«objective»</text><text fill=\"#000000\" font-family=\"sans-serif\" font-size=\"12\" lengthAdjust=\"spacingAndGlyphs\" textLength=\"126\" x=\"284\" y=\"146.1074\">tradeStudyObjective</text><line style=\"stroke: #383838; stroke-width: 1.5;\" x1=\"282\" x2=\"412\" y1=\"153.9375\" y2=\"153.9375\"/></a><!--MD5=[05d275557350bfb9b23a4ef7222b4c39]\n",
       "link E3 to E2--><a href=\"psysml:9be21745-fec5-4980-9af6-b796782d7969\" target=\"_top\" title=\"psysml:9be21745-fec5-4980-9af6-b796782d7969\" xlink:actuate=\"onRequest\" xlink:href=\"psysml:9be21745-fec5-4980-9af6-b796782d7969\" xlink:show=\"new\" xlink:title=\"psysml:9be21745-fec5-4980-9af6-b796782d7969\" xlink:type=\"simple\"><path d=\"M254.29,410.01 C265.74,423.08 280.57,440.01 293.86,455.17 \" fill=\"none\" id=\"E3-&gt;E2\" style=\"stroke: #383838; stroke-width: 1.0;\"/><polygon fill=\"#FFFFFF\" points=\"307.42,470.66,289.6319,460.9861,300.1599,451.7578,307.42,470.66\" style=\"stroke: #383838; stroke-width: 1.0;\"/><ellipse cx=\"287.3787\" cy=\"455.3814\" fill=\"#383838\" rx=\"2\" ry=\"2\" style=\"stroke: #383838; stroke-width: 1.0;\"/><ellipse cx=\"294.8987\" cy=\"448.7898\" fill=\"#383838\" rx=\"2\" ry=\"2\" style=\"stroke: #383838; stroke-width: 1.0;\"/></a><!--MD5=[185131fc0dcab0a4505a2ebe144e961b]\n",
       "link E4 to E2--><a href=\"psysml:1ad537aa-bda6-4221-a392-6db0b9fa994b\" target=\"_top\" title=\"psysml:1ad537aa-bda6-4221-a392-6db0b9fa994b\" xlink:actuate=\"onRequest\" xlink:href=\"psysml:1ad537aa-bda6-4221-a392-6db0b9fa994b\" xlink:show=\"new\" xlink:title=\"psysml:1ad537aa-bda6-4221-a392-6db0b9fa994b\" xlink:type=\"simple\"><path d=\"M138.1,410.01 C177.63,427.38 232.65,451.55 273.12,469.33 \" fill=\"none\" id=\"E4-&gt;E2\" style=\"stroke: #383838; stroke-width: 1.0;\"/><polygon fill=\"#FFFFFF\" points=\"291.69,477.49,271.479,476.2594,277.1083,463.4411,291.69,477.49\" style=\"stroke: #383838; stroke-width: 1.0;\"/><ellipse cx=\"267.0642\" cy=\"472.1363\" fill=\"#383838\" rx=\"2\" ry=\"2\" style=\"stroke: #383838; stroke-width: 1.0;\"/><ellipse cx=\"271.0852\" cy=\"462.9803\" fill=\"#383838\" rx=\"2\" ry=\"2\" style=\"stroke: #383838; stroke-width: 1.0;\"/></a><!--MD5=[15ebcb19ae302d9b601edb458606d402]\n",
       "link E5 to E2--><a href=\"psysml:ef23f2a8-b555-4000-b8d1-a9fc8ea83129\" target=\"_top\" title=\"psysml:ef23f2a8-b555-4000-b8d1-a9fc8ea83129\" xlink:actuate=\"onRequest\" xlink:href=\"psysml:ef23f2a8-b555-4000-b8d1-a9fc8ea83129\" xlink:show=\"new\" xlink:title=\"psysml:ef23f2a8-b555-4000-b8d1-a9fc8ea83129\" xlink:type=\"simple\"><path d=\"M237.7204,146.0763 C237.4768,146.2621 237.2287,146.4518 236.9763,146.6454 C235.9668,147.4197 234.8879,148.2561 233.748,149.1518 C231.4682,150.943 228.9441,152.9709 226.2406,155.2119 C215.4269,164.1756 201.745,176.5475 189.3625,190.8125 C164.5975,219.3425 145.03,255.445 164,287 C166.35,290.91 306.39,360.26 309,364 C329.99,394 331.63,437.66 330,465.69 \" fill=\"none\" id=\"E5-&gt;E2\" style=\"stroke: #383838; stroke-width: 1.0; stroke-dasharray: 7.0,7.0;\"/><polygon fill=\"#383838\" points=\"329.66,470.74,334.268,462.0356,330.003,465.7518,326.2869,461.4868,329.66,470.74\" style=\"stroke: #383838; stroke-width: 1.0;\"/><text fill=\"#000000\" font-family=\"sans-serif\" font-size=\"13\" lengthAdjust=\"spacingAndGlyphs\" textLength=\"62\" x=\"253\" y=\"330.0669\">«subject»</text></a><!--MD5=[452b418e7f8a40397a49b8c0a78acc5b]\n",
       "reverse link E5 to E7--><a href=\"psysml:3495a436-635c-4195-be5e-85a5d126f0e1\" target=\"_top\" title=\"psysml:3495a436-635c-4195-be5e-85a5d126f0e1\" xlink:actuate=\"onRequest\" xlink:href=\"psysml:3495a436-635c-4195-be5e-85a5d126f0e1\" xlink:show=\"new\" xlink:title=\"psysml:3495a436-635c-4195-be5e-85a5d126f0e1\" xlink:type=\"simple\"><path d=\"M246,186.2997 C246,188.9655 246,191.6719 246,194.3971 C246,199.8476 246,205.3735 246,210.8005 C246,221.6544 246,232.1125 246,240.78 \" fill=\"none\" id=\"E5&lt;-E7\" style=\"stroke: #383838; stroke-width: 1.0;\"/><polygon fill=\"#383838\" points=\"246,186.2997,242,192.2997,246,198.2997,250,192.2997,246,186.2997\" style=\"stroke: #383838; stroke-width: 1.0;\"/></a><!--MD5=[dc164f5e8a733ab456ef1add180e9e34]\n",
       "reverse link E7 to E8--><a href=\"psysml:e1d2632c-68a4-476d-b3ed-d8b6d2aaac51\" target=\"_top\" title=\"psysml:e1d2632c-68a4-476d-b3ed-d8b6d2aaac51\" xlink:actuate=\"onRequest\" xlink:href=\"psysml:e1d2632c-68a4-476d-b3ed-d8b6d2aaac51\" xlink:show=\"new\" xlink:title=\"psysml:e1d2632c-68a4-476d-b3ed-d8b6d2aaac51\" xlink:type=\"simple\"><path d=\"M290.06,294.45 C322.12,315.89 364.86,344.46 394.01,363.95 \" fill=\"none\" id=\"E7&lt;-E8\" style=\"stroke: #383838; stroke-width: 1.0;\"/><polygon fill=\"#FFFFFF\" points=\"279.2,287.19,281.9674,293.8489,289.1785,293.8555,286.4111,287.1966,279.2,287.19\" style=\"stroke: #383838; stroke-width: 1.0;\"/><text fill=\"#000000\" font-family=\"sans-serif\" font-size=\"13\" lengthAdjust=\"spacingAndGlyphs\" textLength=\"8\" x=\"376.0689\" y=\"352.8328\">1</text></a><!--MD5=[f1f3f9f2fc535e6147756cb86a7f2e32]\n",
       "link E8 to E2--><a href=\"psysml:a8ae8a0d-ad52-4d9e-986d-0c741d3467c2\" target=\"_top\" title=\"psysml:a8ae8a0d-ad52-4d9e-986d-0c741d3467c2\" xlink:actuate=\"onRequest\" xlink:href=\"psysml:a8ae8a0d-ad52-4d9e-986d-0c741d3467c2\" xlink:show=\"new\" xlink:title=\"psysml:a8ae8a0d-ad52-4d9e-986d-0c741d3467c2\" xlink:type=\"simple\"><path d=\"M406.04,410.01 C393.32,423.36 376.77,440.74 362.11,456.14 \" fill=\"none\" id=\"E8-&gt;E2\" style=\"stroke: #383838; stroke-width: 1.0;\"/><polygon fill=\"#FFFFFF\" points=\"348.28,470.66,356.3076,452.0708,366.4491,461.7223,348.28,470.66\" style=\"stroke: #383838; stroke-width: 1.0;\"/><ellipse cx=\"361.6859\" cy=\"449.3206\" fill=\"#383838\" rx=\"2\" ry=\"2\" style=\"stroke: #383838; stroke-width: 1.0;\"/><ellipse cx=\"368.9298\" cy=\"456.2144\" fill=\"#383838\" rx=\"2\" ry=\"2\" style=\"stroke: #383838; stroke-width: 1.0;\"/></a><!--MD5=[9ae28de373ca99bb8a1b38d63370ca7e]\n",
       "reverse link E5 to E9--><a href=\"psysml:1023028c-00c5-4dde-9329-e4b02befe1ab\" target=\"_top\" title=\"psysml:1023028c-00c5-4dde-9329-e4b02befe1ab\" xlink:actuate=\"onRequest\" xlink:href=\"psysml:1023028c-00c5-4dde-9329-e4b02befe1ab\" xlink:show=\"new\" xlink:title=\"psysml:1023028c-00c5-4dde-9329-e4b02befe1ab\" xlink:type=\"simple\"><path d=\"M254.7949,186.3026 C254.8401,186.4038 254.8856,186.5049 254.9313,186.6059 C255.2966,187.4138 255.6769,188.215 256.0726,189.0077 C256.8641,190.5933 257.7176,192.1452 258.6379,193.6498 C260.4784,196.6589 262.5863,199.4788 265,202 C278.04,215.62 316.12,229.75 353.15,240.99 \" fill=\"none\" id=\"E5&lt;-E9\" style=\"stroke: #383838; stroke-width: 1.0;\"/><polygon fill=\"#FFFFFF\" points=\"254.7949,186.3026,253.5901,193.4123,259.6895,197.259,260.8944,190.1493,254.7949,186.3026\" style=\"stroke: #383838; stroke-width: 1.0;\"/><text fill=\"#000000\" font-family=\"sans-serif\" font-size=\"13\" lengthAdjust=\"spacingAndGlyphs\" textLength=\"8\" x=\"330.0508\" y=\"232.8298\">1</text></a><!--MD5=[5c3bb36fe832a92c7f0e1807dd65209d]\n",
       "link E9 to E2--><a href=\"psysml:d6cd1bf0-a8ac-42a9-91c6-4adc5d4642e7\" target=\"_top\" title=\"psysml:d6cd1bf0-a8ac-42a9-91c6-4adc5d4642e7\" xlink:actuate=\"onRequest\" xlink:href=\"psysml:d6cd1bf0-a8ac-42a9-91c6-4adc5d4642e7\" xlink:show=\"new\" xlink:title=\"psysml:d6cd1bf0-a8ac-42a9-91c6-4adc5d4642e7\" xlink:type=\"simple\"><path d=\"M462.31,287.19 C492.44,316.36 535.53,368.75 509,410 C481.16,453.3 424.53,474.29 381.79,484.28 \" fill=\"none\" id=\"E9-&gt;E2\" style=\"stroke: #383838; stroke-width: 1.0;\"/><polygon fill=\"#FFFFFF\" points=\"362.12,488.35,379.3051,477.6415,382.1449,491.3505,362.12,488.35\" style=\"stroke: #383838; stroke-width: 1.0;\"/><ellipse cx=\"385.2923\" cy=\"478.4438\" fill=\"#383838\" rx=\"2\" ry=\"2\" style=\"stroke: #383838; stroke-width: 1.0;\"/><ellipse cx=\"387.3207\" cy=\"488.2359\" fill=\"#383838\" rx=\"2\" ry=\"2\" style=\"stroke: #383838; stroke-width: 1.0;\"/></a><!--MD5=[c498611dc31ff3c50a26d1a8dd925b11]\n",
       "@startuml\r\n",
       "skinparam monochrome true\r\n",
       "skinparam classbackgroundcolor white\r\n",
       "skinparam shadowing false\r\n",
       "skinparam wrapWidth 300\r\n",
       "hide circle\r\n",
       "\r\n",
       "package \"TradeStudyTest\" as E1  [[psysml:9d3e1c5c-e45c-4a85-8e75-4ee823ac8fbf ]]  {\r\n",
       "comp def \"Engine\" as E2  <<(T,blue) part  def>> [[psysml:956f1300-60cf-48ef-8161-7a381ae0bb8c ]] {\r\n",
       "}\r\n",
       "comp usage \"engine1: Engine \" as E3  <<(T,blue) part>> [[psysml:5ff7a686-dab8-41cf-8031-b7dccb26607b ]] {\r\n",
       "}\r\n",
       "comp usage \"engine2: Engine \" as E4  <<(T,blue) part>> [[psysml:44e88bb9-9b84-4b3f-b104-23d7a257fb04 ]] {\r\n",
       "}\r\n",
       "rec usage \"engineTradeStudy\" as E5 << analysis>> [[psysml:e12e8838-d64a-4336-9e52-2de97357eae2 ]] {\r\n",
       "comp usage \"tradeStudyObjective\" as E6  <<objective>> [[psysml:9a804e4d-bc47-4ee7-a2d8-d8527e0c1caf ]] {\r\n",
       "}\r\n",
       "}\r\n",
       "comp usage \"evaluationFunction \" as E7  <<(T,blue) calculation>> [[psysml:1fa3686a-6014-4c73-9542-2575e26fd8a7 ]] {\r\n",
       "}\r\n",
       "comp usage \"alternative: Engine \" as E8  <<(T,blue) part>> [[psysml:79c1d929-0a70-426e-ae6d-56e5e3e776a6 ]] {\r\n",
       "}\r\n",
       "comp usage \"selectedAlternative: Engine \" as E9  <<(T,blue) part>> [[psysml:169f456a-e384-47f5-89e9-43fd13dd17eb ]] {\r\n",
       "}\r\n",
       "}\r\n",
       "E3 - -:|> E2 [[psysml:9be21745-fec5-4980-9af6-b796782d7969 ]] \r\n",
       "E4 - -:|> E2 [[psysml:1ad537aa-bda6-4221-a392-6db0b9fa994b ]] \r\n",
       "E5 ..> E2 [[psysml:ef23f2a8-b555-4000-b8d1-a9fc8ea83129 ]] : <<subject>>\r\n",
       "E5 *- - E7 [[psysml:3495a436-635c-4195-be5e-85a5d126f0e1 ]] \r\n",
       "E7 o- - \"1\"E8 [[psysml:e1d2632c-68a4-476d-b3ed-d8b6d2aaac51 ]] \r\n",
       "E8 - -:|> E2 [[psysml:a8ae8a0d-ad52-4d9e-986d-0c741d3467c2 ]] \r\n",
       "E5 o- - \"1\"E9 [[psysml:1023028c-00c5-4dde-9329-e4b02befe1ab ]] \r\n",
       "E9 - -:|> E2 [[psysml:d6cd1bf0-a8ac-42a9-91c6-4adc5d4642e7 ]] \r\n",
       "@enduml\r\n",
       "\n",
       "PlantUML version 1.2020.13(Sat Jun 13 12:26:38 UTC 2020)\n",
       "(EPL source distribution)\n",
       "Java Runtime: OpenJDK Runtime Environment\n",
       "JVM: OpenJDK 64-Bit Server VM\n",
       "Default Encoding: UTF-8\n",
       "Language: en\n",
       "Country: null\n",
       "--></g></svg>"
      ]
     },
     "execution_count": 43,
     "metadata": {},
     "output_type": "execute_result"
    }
   ],
   "source": [
    "%viz --style=\"DEFAULT\" --view=\"MIXED\" \"TradeStudyTest\""
   ]
  },
  {
   "cell_type": "code",
   "execution_count": 44,
   "id": "306e31a9",
   "metadata": {
    "execution": {
     "iopub.execute_input": "2022-02-18T10:50:38.077687Z",
     "iopub.status.busy": "2022-02-18T10:50:38.077290Z",
     "iopub.status.idle": "2022-02-18T10:50:38.120345Z",
     "shell.execute_reply": "2022-02-18T10:50:38.120000Z"
    }
   },
   "outputs": [
    {
     "data": {
      "image/svg+xml": [
       "<?xml version=\"1.0\" encoding=\"UTF-8\" standalone=\"no\"?><svg xmlns=\"http://www.w3.org/2000/svg\" xmlns:xlink=\"http://www.w3.org/1999/xlink\" contentScriptType=\"application/ecmascript\" contentStyleType=\"text/css\" height=\"545px\" preserveAspectRatio=\"none\" style=\"width:566px;height:545px;\" version=\"1.1\" viewBox=\"0 0 566 545\" width=\"566px\" zoomAndPan=\"magnify\"><defs/><g><!--MD5=[fbc87193dbaf4d95561dea2c320d4a47]\n",
       "cluster E1--><a href=\"psysml:9d3e1c5c-e45c-4a85-8e75-4ee823ac8fbf\" target=\"_top\" title=\"psysml:9d3e1c5c-e45c-4a85-8e75-4ee823ac8fbf\" xlink:actuate=\"onRequest\" xlink:href=\"psysml:9d3e1c5c-e45c-4a85-8e75-4ee823ac8fbf\" xlink:show=\"new\" xlink:title=\"psysml:9d3e1c5c-e45c-4a85-8e75-4ee823ac8fbf\" xlink:type=\"simple\"><polygon fill=\"#FFFFFF\" points=\"16,6,132,6,139,28.2969,544,28.2969,544,533,16,533,16,6\" style=\"stroke: #000000; stroke-width: 1.5;\"/><line style=\"stroke: #000000; stroke-width: 1.5;\" x1=\"16\" x2=\"139\" y1=\"28.2969\" y2=\"28.2969\"/><text fill=\"#000000\" font-family=\"sans-serif\" font-size=\"14\" font-weight=\"bold\" lengthAdjust=\"spacingAndGlyphs\" textLength=\"110\" x=\"20\" y=\"20.9951\">TradeStudyTest</text></a><!--MD5=[de5ec2e2e8f62f467e546659f5068c88]\n",
       "cluster E5--><a href=\"psysml:e12e8838-d64a-4336-9e52-2de97357eae2\" target=\"_top\" title=\"psysml:e12e8838-d64a-4336-9e52-2de97357eae2\" xlink:actuate=\"onRequest\" xlink:href=\"psysml:e12e8838-d64a-4336-9e52-2de97357eae2\" xlink:show=\"new\" xlink:title=\"psysml:e12e8838-d64a-4336-9e52-2de97357eae2\" xlink:type=\"simple\"><rect fill=\"#FFFFFF\" height=\"129\" id=\"E5\" rx=\"10\" ry=\"10\" style=\"stroke: #383838; stroke-width: 1.5;\" width=\"199\" x=\"238\" y=\"57\"/><rect fill=\"#F8F8F8\" height=\"37.9375\" rx=\"10\" ry=\"10\" style=\"stroke: #F8F8F8; stroke-width: 1.5;\" width=\"199\" x=\"238\" y=\"57\"/><rect fill=\"#F8F8F8\" height=\"10\" style=\"stroke: #F8F8F8; stroke-width: 1.5;\" width=\"199\" x=\"238\" y=\"84.9375\"/><rect fill=\"none\" height=\"129\" id=\"E5\" rx=\"10\" ry=\"10\" style=\"stroke: #383838; stroke-width: 1.5;\" width=\"199\" x=\"238\" y=\"57\"/><text fill=\"#000000\" font-family=\"sans-serif\" font-size=\"12\" font-style=\"italic\" lengthAdjust=\"spacingAndGlyphs\" textLength=\"64\" x=\"305.5\" y=\"73.1387\">«analysis»</text><text fill=\"#000000\" font-family=\"sans-serif\" font-size=\"12\" lengthAdjust=\"spacingAndGlyphs\" textLength=\"114\" x=\"280.5\" y=\"87.1074\">engineTradeStudy</text><line style=\"stroke: #383838; stroke-width: 1.0;\" x1=\"238\" x2=\"437\" y1=\"94.9375\" y2=\"94.9375\"/></a><!--MD5=[b4997ac47864f28c2f74865a473b2911]\n",
       "class E2--><a href=\"psysml:956f1300-60cf-48ef-8161-7a381ae0bb8c\" target=\"_top\" title=\"psysml:956f1300-60cf-48ef-8161-7a381ae0bb8c\" xlink:actuate=\"onRequest\" xlink:href=\"psysml:956f1300-60cf-48ef-8161-7a381ae0bb8c\" xlink:show=\"new\" xlink:title=\"psysml:956f1300-60cf-48ef-8161-7a381ae0bb8c\" xlink:type=\"simple\"><rect fill=\"#FFFFFF\" height=\"45.9375\" id=\"E2\" style=\"stroke: #383838; stroke-width: 1.5;\" width=\"70\" x=\"292\" y=\"471\"/><text fill=\"#000000\" font-family=\"sans-serif\" font-size=\"12\" font-style=\"italic\" lengthAdjust=\"spacingAndGlyphs\" textLength=\"68\" x=\"293\" y=\"487.1387\">«part  def»</text><text fill=\"#000000\" font-family=\"sans-serif\" font-size=\"12\" lengthAdjust=\"spacingAndGlyphs\" textLength=\"43\" x=\"305.5\" y=\"501.1074\">Engine</text><line style=\"stroke: #383838; stroke-width: 1.5;\" x1=\"293\" x2=\"361\" y1=\"508.9375\" y2=\"508.9375\"/></a><!--MD5=[09b614a08d8cba4a07c9adeb5e0fee81]\n",
       "class E3--><a href=\"psysml:5ff7a686-dab8-41cf-8031-b7dccb26607b\" target=\"_top\" title=\"psysml:5ff7a686-dab8-41cf-8031-b7dccb26607b\" xlink:actuate=\"onRequest\" xlink:href=\"psysml:5ff7a686-dab8-41cf-8031-b7dccb26607b\" xlink:show=\"new\" xlink:title=\"psysml:5ff7a686-dab8-41cf-8031-b7dccb26607b\" xlink:type=\"simple\"><rect fill=\"#FFFFFF\" height=\"45.9375\" id=\"E3\" rx=\"10\" ry=\"10\" style=\"stroke: #383838; stroke-width: 1.5;\" width=\"112\" x=\"179\" y=\"364\"/><text fill=\"#000000\" font-family=\"sans-serif\" font-size=\"12\" font-style=\"italic\" lengthAdjust=\"spacingAndGlyphs\" textLength=\"40\" x=\"215\" y=\"380.1387\">«part»</text><text fill=\"#000000\" font-family=\"sans-serif\" font-size=\"12\" lengthAdjust=\"spacingAndGlyphs\" textLength=\"102\" x=\"182\" y=\"394.1074\">engine1: Engine</text><line style=\"stroke: #383838; stroke-width: 1.5;\" x1=\"180\" x2=\"290\" y1=\"401.9375\" y2=\"401.9375\"/></a><!--MD5=[ebbe1d658d1005bcc118a6aa81145e00]\n",
       "class E4--><a href=\"psysml:44e88bb9-9b84-4b3f-b104-23d7a257fb04\" target=\"_top\" title=\"psysml:44e88bb9-9b84-4b3f-b104-23d7a257fb04\" xlink:actuate=\"onRequest\" xlink:href=\"psysml:44e88bb9-9b84-4b3f-b104-23d7a257fb04\" xlink:show=\"new\" xlink:title=\"psysml:44e88bb9-9b84-4b3f-b104-23d7a257fb04\" xlink:type=\"simple\"><rect fill=\"#FFFFFF\" height=\"45.9375\" id=\"E4\" rx=\"10\" ry=\"10\" style=\"stroke: #383838; stroke-width: 1.5;\" width=\"112\" x=\"32\" y=\"364\"/><text fill=\"#000000\" font-family=\"sans-serif\" font-size=\"12\" font-style=\"italic\" lengthAdjust=\"spacingAndGlyphs\" textLength=\"40\" x=\"68\" y=\"380.1387\">«part»</text><text fill=\"#000000\" font-family=\"sans-serif\" font-size=\"12\" lengthAdjust=\"spacingAndGlyphs\" textLength=\"102\" x=\"35\" y=\"394.1074\">engine2: Engine</text><line style=\"stroke: #383838; stroke-width: 1.5;\" x1=\"33\" x2=\"143\" y1=\"401.9375\" y2=\"401.9375\"/></a><!--MD5=[2156ba9850f5573cc1fc38a6a4b2f02b]\n",
       "class E7--><a href=\"psysml:1fa3686a-6014-4c73-9542-2575e26fd8a7\" target=\"_top\" title=\"psysml:1fa3686a-6014-4c73-9542-2575e26fd8a7\" xlink:actuate=\"onRequest\" xlink:href=\"psysml:1fa3686a-6014-4c73-9542-2575e26fd8a7\" xlink:show=\"new\" xlink:title=\"psysml:1fa3686a-6014-4c73-9542-2575e26fd8a7\" xlink:type=\"simple\"><rect fill=\"#FFFFFF\" height=\"45.9375\" id=\"E7\" rx=\"10\" ry=\"10\" style=\"stroke: #383838; stroke-width: 1.5;\" width=\"129\" x=\"181.5\" y=\"241\"/><text fill=\"#000000\" font-family=\"sans-serif\" font-size=\"12\" font-style=\"italic\" lengthAdjust=\"spacingAndGlyphs\" textLength=\"82\" x=\"205\" y=\"257.1387\">«calculation»</text><text fill=\"#000000\" font-family=\"sans-serif\" font-size=\"12\" lengthAdjust=\"spacingAndGlyphs\" textLength=\"119\" x=\"184.5\" y=\"271.1074\">evaluationFunction</text><line style=\"stroke: #383838; stroke-width: 1.5;\" x1=\"182.5\" x2=\"309.5\" y1=\"278.9375\" y2=\"278.9375\"/></a><!--MD5=[b9389687b975829384b498ac4b7476b2]\n",
       "class E8--><a href=\"psysml:79c1d929-0a70-426e-ae6d-56e5e3e776a6\" target=\"_top\" title=\"psysml:79c1d929-0a70-426e-ae6d-56e5e3e776a6\" xlink:actuate=\"onRequest\" xlink:href=\"psysml:79c1d929-0a70-426e-ae6d-56e5e3e776a6\" xlink:show=\"new\" xlink:title=\"psysml:79c1d929-0a70-426e-ae6d-56e5e3e776a6\" xlink:type=\"simple\"><rect fill=\"#FFFFFF\" height=\"45.9375\" id=\"E8\" rx=\"10\" ry=\"10\" style=\"stroke: #383838; stroke-width: 1.5;\" width=\"128\" x=\"363\" y=\"364\"/><text fill=\"#000000\" font-family=\"sans-serif\" font-size=\"12\" font-style=\"italic\" lengthAdjust=\"spacingAndGlyphs\" textLength=\"40\" x=\"407\" y=\"380.1387\">«part»</text><text fill=\"#000000\" font-family=\"sans-serif\" font-size=\"12\" lengthAdjust=\"spacingAndGlyphs\" textLength=\"118\" x=\"366\" y=\"394.1074\">alternative: Engine</text><line style=\"stroke: #383838; stroke-width: 1.5;\" x1=\"364\" x2=\"490\" y1=\"401.9375\" y2=\"401.9375\"/></a><!--MD5=[fd4143e9d270a159db93a4ea2a975926]\n",
       "class E9--><a href=\"psysml:169f456a-e384-47f5-89e9-43fd13dd17eb\" target=\"_top\" title=\"psysml:169f456a-e384-47f5-89e9-43fd13dd17eb\" xlink:actuate=\"onRequest\" xlink:href=\"psysml:169f456a-e384-47f5-89e9-43fd13dd17eb\" xlink:show=\"new\" xlink:title=\"psysml:169f456a-e384-47f5-89e9-43fd13dd17eb\" xlink:type=\"simple\"><rect fill=\"#FFFFFF\" height=\"45.9375\" id=\"E9\" rx=\"10\" ry=\"10\" style=\"stroke: #383838; stroke-width: 1.5;\" width=\"182\" x=\"346\" y=\"241\"/><text fill=\"#000000\" font-family=\"sans-serif\" font-size=\"12\" font-style=\"italic\" lengthAdjust=\"spacingAndGlyphs\" textLength=\"40\" x=\"417\" y=\"257.1387\">«part»</text><text fill=\"#000000\" font-family=\"sans-serif\" font-size=\"12\" lengthAdjust=\"spacingAndGlyphs\" textLength=\"172\" x=\"349\" y=\"271.1074\">selectedAlternative: Engine</text><line style=\"stroke: #383838; stroke-width: 1.5;\" x1=\"347\" x2=\"527\" y1=\"278.9375\" y2=\"278.9375\"/></a><!--MD5=[60a26617385b1d2d0262a64233df1f8d]\n",
       "class E6--><a href=\"psysml:9a804e4d-bc47-4ee7-a2d8-d8527e0c1caf\" target=\"_top\" title=\"psysml:9a804e4d-bc47-4ee7-a2d8-d8527e0c1caf\" xlink:actuate=\"onRequest\" xlink:href=\"psysml:9a804e4d-bc47-4ee7-a2d8-d8527e0c1caf\" xlink:show=\"new\" xlink:title=\"psysml:9a804e4d-bc47-4ee7-a2d8-d8527e0c1caf\" xlink:type=\"simple\"><rect fill=\"#FFFFFF\" height=\"45.9375\" id=\"E6\" rx=\"10\" ry=\"10\" style=\"stroke: #383838; stroke-width: 1.5;\" width=\"132\" x=\"281\" y=\"116\"/><text fill=\"#000000\" font-family=\"sans-serif\" font-size=\"12\" font-style=\"italic\" lengthAdjust=\"spacingAndGlyphs\" textLength=\"70\" x=\"312\" y=\"132.1387\">«objective»</text><text fill=\"#000000\" font-family=\"sans-serif\" font-size=\"12\" lengthAdjust=\"spacingAndGlyphs\" textLength=\"126\" x=\"284\" y=\"146.1074\">tradeStudyObjective</text><line style=\"stroke: #383838; stroke-width: 1.5;\" x1=\"282\" x2=\"412\" y1=\"153.9375\" y2=\"153.9375\"/></a><!--MD5=[05d275557350bfb9b23a4ef7222b4c39]\n",
       "link E3 to E2--><a href=\"psysml:9be21745-fec5-4980-9af6-b796782d7969\" target=\"_top\" title=\"psysml:9be21745-fec5-4980-9af6-b796782d7969\" xlink:actuate=\"onRequest\" xlink:href=\"psysml:9be21745-fec5-4980-9af6-b796782d7969\" xlink:show=\"new\" xlink:title=\"psysml:9be21745-fec5-4980-9af6-b796782d7969\" xlink:type=\"simple\"><path d=\"M254.29,410.01 C265.74,423.08 280.57,440.01 293.86,455.17 \" fill=\"none\" id=\"E3-&gt;E2\" style=\"stroke: #383838; stroke-width: 1.0;\"/><polygon fill=\"#FFFFFF\" points=\"307.42,470.66,289.6319,460.9861,300.1599,451.7578,307.42,470.66\" style=\"stroke: #383838; stroke-width: 1.0;\"/><ellipse cx=\"287.3787\" cy=\"455.3814\" fill=\"#383838\" rx=\"2\" ry=\"2\" style=\"stroke: #383838; stroke-width: 1.0;\"/><ellipse cx=\"294.8987\" cy=\"448.7898\" fill=\"#383838\" rx=\"2\" ry=\"2\" style=\"stroke: #383838; stroke-width: 1.0;\"/></a><!--MD5=[185131fc0dcab0a4505a2ebe144e961b]\n",
       "link E4 to E2--><a href=\"psysml:1ad537aa-bda6-4221-a392-6db0b9fa994b\" target=\"_top\" title=\"psysml:1ad537aa-bda6-4221-a392-6db0b9fa994b\" xlink:actuate=\"onRequest\" xlink:href=\"psysml:1ad537aa-bda6-4221-a392-6db0b9fa994b\" xlink:show=\"new\" xlink:title=\"psysml:1ad537aa-bda6-4221-a392-6db0b9fa994b\" xlink:type=\"simple\"><path d=\"M138.1,410.01 C177.63,427.38 232.65,451.55 273.12,469.33 \" fill=\"none\" id=\"E4-&gt;E2\" style=\"stroke: #383838; stroke-width: 1.0;\"/><polygon fill=\"#FFFFFF\" points=\"291.69,477.49,271.479,476.2594,277.1083,463.4411,291.69,477.49\" style=\"stroke: #383838; stroke-width: 1.0;\"/><ellipse cx=\"267.0642\" cy=\"472.1363\" fill=\"#383838\" rx=\"2\" ry=\"2\" style=\"stroke: #383838; stroke-width: 1.0;\"/><ellipse cx=\"271.0852\" cy=\"462.9803\" fill=\"#383838\" rx=\"2\" ry=\"2\" style=\"stroke: #383838; stroke-width: 1.0;\"/></a><!--MD5=[15ebcb19ae302d9b601edb458606d402]\n",
       "link E5 to E2--><a href=\"psysml:ef23f2a8-b555-4000-b8d1-a9fc8ea83129\" target=\"_top\" title=\"psysml:ef23f2a8-b555-4000-b8d1-a9fc8ea83129\" xlink:actuate=\"onRequest\" xlink:href=\"psysml:ef23f2a8-b555-4000-b8d1-a9fc8ea83129\" xlink:show=\"new\" xlink:title=\"psysml:ef23f2a8-b555-4000-b8d1-a9fc8ea83129\" xlink:type=\"simple\"><path d=\"M237.7204,146.0763 C237.4768,146.2621 237.2287,146.4518 236.9763,146.6454 C235.9668,147.4197 234.8879,148.2561 233.748,149.1518 C231.4682,150.943 228.9441,152.9709 226.2406,155.2119 C215.4269,164.1756 201.745,176.5475 189.3625,190.8125 C164.5975,219.3425 145.03,255.445 164,287 C166.35,290.91 306.39,360.26 309,364 C329.99,394 331.63,437.66 330,465.69 \" fill=\"none\" id=\"E5-&gt;E2\" style=\"stroke: #383838; stroke-width: 1.0; stroke-dasharray: 7.0,7.0;\"/><polygon fill=\"#383838\" points=\"329.66,470.74,334.268,462.0356,330.003,465.7518,326.2869,461.4868,329.66,470.74\" style=\"stroke: #383838; stroke-width: 1.0;\"/><text fill=\"#000000\" font-family=\"sans-serif\" font-size=\"13\" lengthAdjust=\"spacingAndGlyphs\" textLength=\"62\" x=\"253\" y=\"330.0669\">«subject»</text></a><!--MD5=[452b418e7f8a40397a49b8c0a78acc5b]\n",
       "reverse link E5 to E7--><a href=\"psysml:3495a436-635c-4195-be5e-85a5d126f0e1\" target=\"_top\" title=\"psysml:3495a436-635c-4195-be5e-85a5d126f0e1\" xlink:actuate=\"onRequest\" xlink:href=\"psysml:3495a436-635c-4195-be5e-85a5d126f0e1\" xlink:show=\"new\" xlink:title=\"psysml:3495a436-635c-4195-be5e-85a5d126f0e1\" xlink:type=\"simple\"><path d=\"M246,186.2997 C246,188.9655 246,191.6719 246,194.3971 C246,199.8476 246,205.3735 246,210.8005 C246,221.6544 246,232.1125 246,240.78 \" fill=\"none\" id=\"E5&lt;-E7\" style=\"stroke: #383838; stroke-width: 1.0;\"/><polygon fill=\"#383838\" points=\"246,186.2997,242,192.2997,246,198.2997,250,192.2997,246,186.2997\" style=\"stroke: #383838; stroke-width: 1.0;\"/></a><!--MD5=[dc164f5e8a733ab456ef1add180e9e34]\n",
       "reverse link E7 to E8--><a href=\"psysml:e1d2632c-68a4-476d-b3ed-d8b6d2aaac51\" target=\"_top\" title=\"psysml:e1d2632c-68a4-476d-b3ed-d8b6d2aaac51\" xlink:actuate=\"onRequest\" xlink:href=\"psysml:e1d2632c-68a4-476d-b3ed-d8b6d2aaac51\" xlink:show=\"new\" xlink:title=\"psysml:e1d2632c-68a4-476d-b3ed-d8b6d2aaac51\" xlink:type=\"simple\"><path d=\"M290.06,294.45 C322.12,315.89 364.86,344.46 394.01,363.95 \" fill=\"none\" id=\"E7&lt;-E8\" style=\"stroke: #383838; stroke-width: 1.0;\"/><polygon fill=\"#FFFFFF\" points=\"279.2,287.19,281.9674,293.8489,289.1785,293.8555,286.4111,287.1966,279.2,287.19\" style=\"stroke: #383838; stroke-width: 1.0;\"/><text fill=\"#000000\" font-family=\"sans-serif\" font-size=\"13\" lengthAdjust=\"spacingAndGlyphs\" textLength=\"8\" x=\"376.0689\" y=\"352.8328\">1</text></a><!--MD5=[f1f3f9f2fc535e6147756cb86a7f2e32]\n",
       "link E8 to E2--><a href=\"psysml:a8ae8a0d-ad52-4d9e-986d-0c741d3467c2\" target=\"_top\" title=\"psysml:a8ae8a0d-ad52-4d9e-986d-0c741d3467c2\" xlink:actuate=\"onRequest\" xlink:href=\"psysml:a8ae8a0d-ad52-4d9e-986d-0c741d3467c2\" xlink:show=\"new\" xlink:title=\"psysml:a8ae8a0d-ad52-4d9e-986d-0c741d3467c2\" xlink:type=\"simple\"><path d=\"M406.04,410.01 C393.32,423.36 376.77,440.74 362.11,456.14 \" fill=\"none\" id=\"E8-&gt;E2\" style=\"stroke: #383838; stroke-width: 1.0;\"/><polygon fill=\"#FFFFFF\" points=\"348.28,470.66,356.3076,452.0708,366.4491,461.7223,348.28,470.66\" style=\"stroke: #383838; stroke-width: 1.0;\"/><ellipse cx=\"361.6859\" cy=\"449.3206\" fill=\"#383838\" rx=\"2\" ry=\"2\" style=\"stroke: #383838; stroke-width: 1.0;\"/><ellipse cx=\"368.9298\" cy=\"456.2144\" fill=\"#383838\" rx=\"2\" ry=\"2\" style=\"stroke: #383838; stroke-width: 1.0;\"/></a><!--MD5=[9ae28de373ca99bb8a1b38d63370ca7e]\n",
       "reverse link E5 to E9--><a href=\"psysml:1023028c-00c5-4dde-9329-e4b02befe1ab\" target=\"_top\" title=\"psysml:1023028c-00c5-4dde-9329-e4b02befe1ab\" xlink:actuate=\"onRequest\" xlink:href=\"psysml:1023028c-00c5-4dde-9329-e4b02befe1ab\" xlink:show=\"new\" xlink:title=\"psysml:1023028c-00c5-4dde-9329-e4b02befe1ab\" xlink:type=\"simple\"><path d=\"M254.7949,186.3026 C254.8401,186.4038 254.8856,186.5049 254.9313,186.6059 C255.2966,187.4138 255.6769,188.215 256.0726,189.0077 C256.8641,190.5933 257.7176,192.1452 258.6379,193.6498 C260.4784,196.6589 262.5863,199.4788 265,202 C278.04,215.62 316.12,229.75 353.15,240.99 \" fill=\"none\" id=\"E5&lt;-E9\" style=\"stroke: #383838; stroke-width: 1.0;\"/><polygon fill=\"#FFFFFF\" points=\"254.7949,186.3026,253.5901,193.4123,259.6895,197.259,260.8944,190.1493,254.7949,186.3026\" style=\"stroke: #383838; stroke-width: 1.0;\"/><text fill=\"#000000\" font-family=\"sans-serif\" font-size=\"13\" lengthAdjust=\"spacingAndGlyphs\" textLength=\"8\" x=\"330.0508\" y=\"232.8298\">1</text></a><!--MD5=[5c3bb36fe832a92c7f0e1807dd65209d]\n",
       "link E9 to E2--><a href=\"psysml:d6cd1bf0-a8ac-42a9-91c6-4adc5d4642e7\" target=\"_top\" title=\"psysml:d6cd1bf0-a8ac-42a9-91c6-4adc5d4642e7\" xlink:actuate=\"onRequest\" xlink:href=\"psysml:d6cd1bf0-a8ac-42a9-91c6-4adc5d4642e7\" xlink:show=\"new\" xlink:title=\"psysml:d6cd1bf0-a8ac-42a9-91c6-4adc5d4642e7\" xlink:type=\"simple\"><path d=\"M462.31,287.19 C492.44,316.36 535.53,368.75 509,410 C481.16,453.3 424.53,474.29 381.79,484.28 \" fill=\"none\" id=\"E9-&gt;E2\" style=\"stroke: #383838; stroke-width: 1.0;\"/><polygon fill=\"#FFFFFF\" points=\"362.12,488.35,379.3051,477.6415,382.1449,491.3505,362.12,488.35\" style=\"stroke: #383838; stroke-width: 1.0;\"/><ellipse cx=\"385.2923\" cy=\"478.4438\" fill=\"#383838\" rx=\"2\" ry=\"2\" style=\"stroke: #383838; stroke-width: 1.0;\"/><ellipse cx=\"387.3207\" cy=\"488.2359\" fill=\"#383838\" rx=\"2\" ry=\"2\" style=\"stroke: #383838; stroke-width: 1.0;\"/></a><!--MD5=[f1318d2b634ec940c604069dce7e9da1]\n",
       "@startuml\r\n",
       "top to bottom direction\r\n",
       "skinparam monochrome true\r\n",
       "skinparam classbackgroundcolor white\r\n",
       "skinparam shadowing false\r\n",
       "skinparam wrapWidth 300\r\n",
       "hide circle\r\n",
       "\r\n",
       "package \"TradeStudyTest\" as E1  [[psysml:9d3e1c5c-e45c-4a85-8e75-4ee823ac8fbf ]]  {\r\n",
       "comp def \"Engine\" as E2  <<(T,blue) part  def>> [[psysml:956f1300-60cf-48ef-8161-7a381ae0bb8c ]] {\r\n",
       "}\r\n",
       "comp usage \"engine1: Engine \" as E3  <<(T,blue) part>> [[psysml:5ff7a686-dab8-41cf-8031-b7dccb26607b ]] {\r\n",
       "}\r\n",
       "comp usage \"engine2: Engine \" as E4  <<(T,blue) part>> [[psysml:44e88bb9-9b84-4b3f-b104-23d7a257fb04 ]] {\r\n",
       "}\r\n",
       "rec usage \"engineTradeStudy\" as E5 << analysis>> [[psysml:e12e8838-d64a-4336-9e52-2de97357eae2 ]] {\r\n",
       "comp usage \"tradeStudyObjective\" as E6  <<objective>> [[psysml:9a804e4d-bc47-4ee7-a2d8-d8527e0c1caf ]] {\r\n",
       "}\r\n",
       "}\r\n",
       "comp usage \"evaluationFunction \" as E7  <<(T,blue) calculation>> [[psysml:1fa3686a-6014-4c73-9542-2575e26fd8a7 ]] {\r\n",
       "}\r\n",
       "comp usage \"alternative: Engine \" as E8  <<(T,blue) part>> [[psysml:79c1d929-0a70-426e-ae6d-56e5e3e776a6 ]] {\r\n",
       "}\r\n",
       "comp usage \"selectedAlternative: Engine \" as E9  <<(T,blue) part>> [[psysml:169f456a-e384-47f5-89e9-43fd13dd17eb ]] {\r\n",
       "}\r\n",
       "}\r\n",
       "E3 - -:|> E2 [[psysml:9be21745-fec5-4980-9af6-b796782d7969 ]] \r\n",
       "E4 - -:|> E2 [[psysml:1ad537aa-bda6-4221-a392-6db0b9fa994b ]] \r\n",
       "E5 ..> E2 [[psysml:ef23f2a8-b555-4000-b8d1-a9fc8ea83129 ]] : <<subject>>\r\n",
       "E5 *- - E7 [[psysml:3495a436-635c-4195-be5e-85a5d126f0e1 ]] \r\n",
       "E7 o- - \"1\"E8 [[psysml:e1d2632c-68a4-476d-b3ed-d8b6d2aaac51 ]] \r\n",
       "E8 - -:|> E2 [[psysml:a8ae8a0d-ad52-4d9e-986d-0c741d3467c2 ]] \r\n",
       "E5 o- - \"1\"E9 [[psysml:1023028c-00c5-4dde-9329-e4b02befe1ab ]] \r\n",
       "E9 - -:|> E2 [[psysml:d6cd1bf0-a8ac-42a9-91c6-4adc5d4642e7 ]] \r\n",
       "@enduml\r\n",
       "\n",
       "PlantUML version 1.2020.13(Sat Jun 13 12:26:38 UTC 2020)\n",
       "(EPL source distribution)\n",
       "Java Runtime: OpenJDK Runtime Environment\n",
       "JVM: OpenJDK 64-Bit Server VM\n",
       "Default Encoding: UTF-8\n",
       "Language: en\n",
       "Country: null\n",
       "--></g></svg>"
      ]
     },
     "execution_count": 44,
     "metadata": {},
     "output_type": "execute_result"
    }
   ],
   "source": [
    "%viz --style=\"TB\" --view=\"Default\" \"TradeStudyTest\""
   ]
  },
  {
   "cell_type": "code",
   "execution_count": 45,
   "id": "34c036f8",
   "metadata": {
    "execution": {
     "iopub.execute_input": "2022-02-18T10:50:38.169920Z",
     "iopub.status.busy": "2022-02-18T10:50:38.169523Z",
     "iopub.status.idle": "2022-02-18T10:50:38.219167Z",
     "shell.execute_reply": "2022-02-18T10:50:38.217742Z"
    }
   },
   "outputs": [
    {
     "data": {
      "image/svg+xml": [
       "<?xml version=\"1.0\" encoding=\"UTF-8\" standalone=\"no\"?><svg xmlns=\"http://www.w3.org/2000/svg\" xmlns:xlink=\"http://www.w3.org/1999/xlink\" contentScriptType=\"application/ecmascript\" contentStyleType=\"text/css\" height=\"497px\" preserveAspectRatio=\"none\" style=\"width:569px;height:497px;\" version=\"1.1\" viewBox=\"0 0 569 497\" width=\"569px\" zoomAndPan=\"magnify\"><defs/><g><!--MD5=[fbc87193dbaf4d95561dea2c320d4a47]\n",
       "cluster E1--><a href=\"psysml:9d3e1c5c-e45c-4a85-8e75-4ee823ac8fbf\" target=\"_top\" title=\"psysml:9d3e1c5c-e45c-4a85-8e75-4ee823ac8fbf\" xlink:actuate=\"onRequest\" xlink:href=\"psysml:9d3e1c5c-e45c-4a85-8e75-4ee823ac8fbf\" xlink:show=\"new\" xlink:title=\"psysml:9d3e1c5c-e45c-4a85-8e75-4ee823ac8fbf\" xlink:type=\"simple\"><polygon fill=\"#FFFFFF\" points=\"19.75,6,135.75,6,142.75,28.2969,547.75,28.2969,547.75,485,19.75,485,19.75,6\" style=\"stroke: #000000; stroke-width: 1.5;\"/><line style=\"stroke: #000000; stroke-width: 1.5;\" x1=\"19.75\" x2=\"142.75\" y1=\"28.2969\" y2=\"28.2969\"/><text fill=\"#000000\" font-family=\"sans-serif\" font-size=\"14\" font-weight=\"bold\" lengthAdjust=\"spacingAndGlyphs\" textLength=\"110\" x=\"23.75\" y=\"20.9951\">TradeStudyTest</text></a><!--MD5=[b4997ac47864f28c2f74865a473b2911]\n",
       "class E2--><a href=\"psysml:956f1300-60cf-48ef-8161-7a381ae0bb8c\" target=\"_top\" title=\"psysml:956f1300-60cf-48ef-8161-7a381ae0bb8c\" xlink:actuate=\"onRequest\" xlink:href=\"psysml:956f1300-60cf-48ef-8161-7a381ae0bb8c\" xlink:show=\"new\" xlink:title=\"psysml:956f1300-60cf-48ef-8161-7a381ae0bb8c\" xlink:type=\"simple\"><rect fill=\"#FFFFFF\" height=\"45.9375\" id=\"E2\" style=\"stroke: #383838; stroke-width: 1.5;\" width=\"70\" x=\"201.75\" y=\"423\"/><text fill=\"#000000\" font-family=\"sans-serif\" font-size=\"12\" font-style=\"italic\" lengthAdjust=\"spacingAndGlyphs\" textLength=\"68\" x=\"202.75\" y=\"439.1387\">«part  def»</text><text fill=\"#000000\" font-family=\"sans-serif\" font-size=\"12\" lengthAdjust=\"spacingAndGlyphs\" textLength=\"43\" x=\"215.25\" y=\"453.1074\">Engine</text><line style=\"stroke: #383838; stroke-width: 1.5;\" x1=\"202.75\" x2=\"270.75\" y1=\"460.9375\" y2=\"460.9375\"/></a><!--MD5=[09b614a08d8cba4a07c9adeb5e0fee81]\n",
       "class E3--><a href=\"psysml:5ff7a686-dab8-41cf-8031-b7dccb26607b\" target=\"_top\" title=\"psysml:5ff7a686-dab8-41cf-8031-b7dccb26607b\" xlink:actuate=\"onRequest\" xlink:href=\"psysml:5ff7a686-dab8-41cf-8031-b7dccb26607b\" xlink:show=\"new\" xlink:title=\"psysml:5ff7a686-dab8-41cf-8031-b7dccb26607b\" xlink:type=\"simple\"><rect fill=\"#FFFFFF\" height=\"45.9375\" id=\"E3\" rx=\"10\" ry=\"10\" style=\"stroke: #383838; stroke-width: 1.5;\" width=\"112\" x=\"419.75\" y=\"316\"/><text fill=\"#000000\" font-family=\"sans-serif\" font-size=\"12\" font-style=\"italic\" lengthAdjust=\"spacingAndGlyphs\" textLength=\"40\" x=\"455.75\" y=\"332.1387\">«part»</text><text fill=\"#000000\" font-family=\"sans-serif\" font-size=\"12\" lengthAdjust=\"spacingAndGlyphs\" textLength=\"102\" x=\"422.75\" y=\"346.1074\">engine1: Engine</text><line style=\"stroke: #383838; stroke-width: 1.5;\" x1=\"420.75\" x2=\"530.75\" y1=\"353.9375\" y2=\"353.9375\"/></a><!--MD5=[ebbe1d658d1005bcc118a6aa81145e00]\n",
       "class E4--><a href=\"psysml:44e88bb9-9b84-4b3f-b104-23d7a257fb04\" target=\"_top\" title=\"psysml:44e88bb9-9b84-4b3f-b104-23d7a257fb04\" xlink:actuate=\"onRequest\" xlink:href=\"psysml:44e88bb9-9b84-4b3f-b104-23d7a257fb04\" xlink:show=\"new\" xlink:title=\"psysml:44e88bb9-9b84-4b3f-b104-23d7a257fb04\" xlink:type=\"simple\"><rect fill=\"#FFFFFF\" height=\"45.9375\" id=\"E4\" rx=\"10\" ry=\"10\" style=\"stroke: #383838; stroke-width: 1.5;\" width=\"112\" x=\"272.75\" y=\"316\"/><text fill=\"#000000\" font-family=\"sans-serif\" font-size=\"12\" font-style=\"italic\" lengthAdjust=\"spacingAndGlyphs\" textLength=\"40\" x=\"308.75\" y=\"332.1387\">«part»</text><text fill=\"#000000\" font-family=\"sans-serif\" font-size=\"12\" lengthAdjust=\"spacingAndGlyphs\" textLength=\"102\" x=\"275.75\" y=\"346.1074\">engine2: Engine</text><line style=\"stroke: #383838; stroke-width: 1.5;\" x1=\"273.75\" x2=\"383.75\" y1=\"353.9375\" y2=\"353.9375\"/></a><!--MD5=[270fce915f116d4de14055a7c1d9a0f3]\n",
       "class E5--><a href=\"psysml:e12e8838-d64a-4336-9e52-2de97357eae2\" target=\"_top\" title=\"psysml:e12e8838-d64a-4336-9e52-2de97357eae2\" xlink:actuate=\"onRequest\" xlink:href=\"psysml:e12e8838-d64a-4336-9e52-2de97357eae2\" xlink:show=\"new\" xlink:title=\"psysml:e12e8838-d64a-4336-9e52-2de97357eae2\" xlink:type=\"simple\"><rect fill=\"#FFFFFF\" height=\"45.9375\" id=\"E5\" rx=\"10\" ry=\"10\" style=\"stroke: #383838; stroke-width: 1.5;\" width=\"203\" x=\"242.25\" y=\"41\"/><text fill=\"#000000\" font-family=\"sans-serif\" font-size=\"12\" font-style=\"italic\" lengthAdjust=\"spacingAndGlyphs\" textLength=\"64\" x=\"311.75\" y=\"57.1387\">«analysis»</text><text fill=\"#000000\" font-family=\"sans-serif\" font-size=\"12\" lengthAdjust=\"spacingAndGlyphs\" textLength=\"193\" x=\"245.25\" y=\"71.1074\">engineTradeStudy: TradeStudy</text><line style=\"stroke: #383838; stroke-width: 1.5;\" x1=\"243.25\" x2=\"444.25\" y1=\"78.9375\" y2=\"78.9375\"/></a><!--MD5=[60a26617385b1d2d0262a64233df1f8d]\n",
       "class E6--><a href=\"psysml:9a804e4d-bc47-4ee7-a2d8-d8527e0c1caf\" target=\"_top\" title=\"psysml:9a804e4d-bc47-4ee7-a2d8-d8527e0c1caf\" xlink:actuate=\"onRequest\" xlink:href=\"psysml:9a804e4d-bc47-4ee7-a2d8-d8527e0c1caf\" xlink:show=\"new\" xlink:title=\"psysml:9a804e4d-bc47-4ee7-a2d8-d8527e0c1caf\" xlink:type=\"simple\"><rect fill=\"#FFFFFF\" height=\"45.9375\" id=\"E6\" rx=\"10\" ry=\"10\" style=\"stroke: #383838; stroke-width: 1.5;\" width=\"255\" x=\"75.25\" y=\"164\"/><text fill=\"#000000\" font-family=\"sans-serif\" font-size=\"12\" font-style=\"italic\" lengthAdjust=\"spacingAndGlyphs\" textLength=\"91\" x=\"157.25\" y=\"180.1387\">«requirement»</text><text fill=\"#000000\" font-family=\"sans-serif\" font-size=\"12\" lengthAdjust=\"spacingAndGlyphs\" textLength=\"245\" x=\"78.25\" y=\"194.1074\">tradeStudyObjective: MaximizeObjective</text><line style=\"stroke: #383838; stroke-width: 1.5;\" x1=\"76.25\" x2=\"329.25\" y1=\"201.9375\" y2=\"201.9375\"/></a><!--MD5=[2156ba9850f5573cc1fc38a6a4b2f02b]\n",
       "class E7--><a href=\"psysml:1fa3686a-6014-4c73-9542-2575e26fd8a7\" target=\"_top\" title=\"psysml:1fa3686a-6014-4c73-9542-2575e26fd8a7\" xlink:actuate=\"onRequest\" xlink:href=\"psysml:1fa3686a-6014-4c73-9542-2575e26fd8a7\" xlink:show=\"new\" xlink:title=\"psysml:1fa3686a-6014-4c73-9542-2575e26fd8a7\" xlink:type=\"simple\"><rect fill=\"#FFFFFF\" height=\"45.9375\" id=\"E7\" rx=\"10\" ry=\"10\" style=\"stroke: #383838; stroke-width: 1.5;\" width=\"129\" x=\"365.25\" y=\"164\"/><text fill=\"#000000\" font-family=\"sans-serif\" font-size=\"12\" font-style=\"italic\" lengthAdjust=\"spacingAndGlyphs\" textLength=\"82\" x=\"388.75\" y=\"180.1387\">«calculation»</text><text fill=\"#000000\" font-family=\"sans-serif\" font-size=\"12\" lengthAdjust=\"spacingAndGlyphs\" textLength=\"119\" x=\"368.25\" y=\"194.1074\">evaluationFunction</text><line style=\"stroke: #383838; stroke-width: 1.5;\" x1=\"366.25\" x2=\"493.25\" y1=\"201.9375\" y2=\"201.9375\"/></a><!--MD5=[b9389687b975829384b498ac4b7476b2]\n",
       "class E8--><a href=\"psysml:79c1d929-0a70-426e-ae6d-56e5e3e776a6\" target=\"_top\" title=\"psysml:79c1d929-0a70-426e-ae6d-56e5e3e776a6\" xlink:actuate=\"onRequest\" xlink:href=\"psysml:79c1d929-0a70-426e-ae6d-56e5e3e776a6\" xlink:show=\"new\" xlink:title=\"psysml:79c1d929-0a70-426e-ae6d-56e5e3e776a6\" xlink:type=\"simple\"><rect fill=\"#FFFFFF\" height=\"45.9375\" id=\"E8\" rx=\"10\" ry=\"10\" style=\"stroke: #383838; stroke-width: 1.5;\" width=\"128\" x=\"72.75\" y=\"316\"/><text fill=\"#000000\" font-family=\"sans-serif\" font-size=\"12\" font-style=\"italic\" lengthAdjust=\"spacingAndGlyphs\" textLength=\"40\" x=\"116.75\" y=\"332.1387\">«part»</text><text fill=\"#000000\" font-family=\"sans-serif\" font-size=\"12\" lengthAdjust=\"spacingAndGlyphs\" textLength=\"118\" x=\"75.75\" y=\"346.1074\">alternative: Engine</text><line style=\"stroke: #383838; stroke-width: 1.5;\" x1=\"73.75\" x2=\"199.75\" y1=\"353.9375\" y2=\"353.9375\"/></a><!--MD5=[fd4143e9d270a159db93a4ea2a975926]\n",
       "class E9--><a href=\"psysml:169f456a-e384-47f5-89e9-43fd13dd17eb\" target=\"_top\" title=\"psysml:169f456a-e384-47f5-89e9-43fd13dd17eb\" xlink:actuate=\"onRequest\" xlink:href=\"psysml:169f456a-e384-47f5-89e9-43fd13dd17eb\" xlink:show=\"new\" xlink:title=\"psysml:169f456a-e384-47f5-89e9-43fd13dd17eb\" xlink:type=\"simple\"><rect fill=\"#FFFFFF\" height=\"45.9375\" id=\"E9\" rx=\"10\" ry=\"10\" style=\"stroke: #383838; stroke-width: 1.5;\" width=\"182\" x=\"298.75\" y=\"240\"/><text fill=\"#000000\" font-family=\"sans-serif\" font-size=\"12\" font-style=\"italic\" lengthAdjust=\"spacingAndGlyphs\" textLength=\"40\" x=\"369.75\" y=\"256.1387\">«part»</text><text fill=\"#000000\" font-family=\"sans-serif\" font-size=\"12\" lengthAdjust=\"spacingAndGlyphs\" textLength=\"172\" x=\"301.75\" y=\"270.1074\">selectedAlternative: Engine</text><line style=\"stroke: #383838; stroke-width: 1.5;\" x1=\"299.75\" x2=\"479.75\" y1=\"277.9375\" y2=\"277.9375\"/></a><!--MD5=[05d275557350bfb9b23a4ef7222b4c39]\n",
       "link E3 to E2--><a href=\"psysml:9be21745-fec5-4980-9af6-b796782d7969\" target=\"_top\" title=\"psysml:9be21745-fec5-4980-9af6-b796782d7969\" xlink:actuate=\"onRequest\" xlink:href=\"psysml:9be21745-fec5-4980-9af6-b796782d7969\" xlink:show=\"new\" xlink:title=\"psysml:9be21745-fec5-4980-9af6-b796782d7969\" xlink:type=\"simple\"><path d=\"M425.65,362.01 C386.12,379.38 331.1,403.55 290.63,421.33 \" fill=\"none\" id=\"E3-&gt;E2\" style=\"stroke: #383838; stroke-width: 1.0;\"/><polygon fill=\"#FFFFFF\" points=\"272.06,429.49,286.6417,415.4411,292.271,428.2594,272.06,429.49\" style=\"stroke: #383838; stroke-width: 1.0;\"/><ellipse cx=\"292.6648\" cy=\"414.9803\" fill=\"#383838\" rx=\"2\" ry=\"2\" style=\"stroke: #383838; stroke-width: 1.0;\"/><ellipse cx=\"296.6858\" cy=\"424.1363\" fill=\"#383838\" rx=\"2\" ry=\"2\" style=\"stroke: #383838; stroke-width: 1.0;\"/></a><!--MD5=[185131fc0dcab0a4505a2ebe144e961b]\n",
       "link E4 to E2--><a href=\"psysml:1ad537aa-bda6-4221-a392-6db0b9fa994b\" target=\"_top\" title=\"psysml:1ad537aa-bda6-4221-a392-6db0b9fa994b\" xlink:actuate=\"onRequest\" xlink:href=\"psysml:1ad537aa-bda6-4221-a392-6db0b9fa994b\" xlink:show=\"new\" xlink:title=\"psysml:1ad537aa-bda6-4221-a392-6db0b9fa994b\" xlink:type=\"simple\"><path d=\"M309.46,362.01 C298.01,375.08 283.18,392.01 269.89,407.17 \" fill=\"none\" id=\"E4-&gt;E2\" style=\"stroke: #383838; stroke-width: 1.0;\"/><polygon fill=\"#FFFFFF\" points=\"256.33,422.66,263.5901,403.7578,274.1181,412.9861,256.33,422.66\" style=\"stroke: #383838; stroke-width: 1.0;\"/><ellipse cx=\"268.8513\" cy=\"400.7898\" fill=\"#383838\" rx=\"2\" ry=\"2\" style=\"stroke: #383838; stroke-width: 1.0;\"/><ellipse cx=\"276.3713\" cy=\"407.3814\" fill=\"#383838\" rx=\"2\" ry=\"2\" style=\"stroke: #383838; stroke-width: 1.0;\"/></a><!--MD5=[15ebcb19ae302d9b601edb458606d402]\n",
       "link E5 to E2--><a href=\"psysml:ef23f2a8-b555-4000-b8d1-a9fc8ea83129\" target=\"_top\" title=\"psysml:ef23f2a8-b555-4000-b8d1-a9fc8ea83129\" xlink:actuate=\"onRequest\" xlink:href=\"psysml:ef23f2a8-b555-4000-b8d1-a9fc8ea83129\" xlink:show=\"new\" xlink:title=\"psysml:ef23f2a8-b555-4000-b8d1-a9fc8ea83129\" xlink:type=\"simple\"><path d=\"M242.19,71.71 C178.15,81.78 99.85,106.1 57.75,164 C6,235.18 7.15,287.97 54.75,362 C85.89,410.42 153.01,430.93 196.46,439.38 \" fill=\"none\" id=\"E5-&gt;E2\" style=\"stroke: #383838; stroke-width: 1.0; stroke-dasharray: 7.0,7.0;\"/><polygon fill=\"#383838\" points=\"201.63,440.35,193.5135,434.7713,196.7143,439.4355,192.0502,442.6363,201.63,440.35\" style=\"stroke: #383838; stroke-width: 1.0;\"/><text fill=\"#000000\" font-family=\"sans-serif\" font-size=\"13\" lengthAdjust=\"spacingAndGlyphs\" textLength=\"62\" x=\"22.75\" y=\"267.5669\">«subject»</text></a><!--MD5=[9120cf2e5df3bff93db8f754bbbc09b4]\n",
       "link E5 to E6--><a href=\"psysml:82bd6807-74bc-4e7b-a156-dc2ad55e2000\" target=\"_top\" title=\"psysml:82bd6807-74bc-4e7b-a156-dc2ad55e2000\" xlink:actuate=\"onRequest\" xlink:href=\"psysml:82bd6807-74bc-4e7b-a156-dc2ad55e2000\" xlink:show=\"new\" xlink:title=\"psysml:82bd6807-74bc-4e7b-a156-dc2ad55e2000\" xlink:type=\"simple\"><path d=\"M317.89,87.19 C294.44,107.32 259.79,137.06 234.63,158.64 \" fill=\"none\" id=\"E5-&gt;E6\" style=\"stroke: #383838; stroke-width: 1.0;\"/><polygon fill=\"#383838\" points=\"228.45,163.95,236.4776,161.0246,232.5746,156.4675,228.45,163.95\" style=\"stroke: #383838; stroke-width: 1.0;\"/><text fill=\"#000000\" font-family=\"sans-serif\" font-size=\"13\" lengthAdjust=\"spacingAndGlyphs\" textLength=\"73\" x=\"281.75\" y=\"130.0669\">«objective»</text></a><!--MD5=[452b418e7f8a40397a49b8c0a78acc5b]\n",
       "reverse link E5 to E7--><a href=\"psysml:3495a436-635c-4195-be5e-85a5d126f0e1\" target=\"_top\" title=\"psysml:3495a436-635c-4195-be5e-85a5d126f0e1\" xlink:actuate=\"onRequest\" xlink:href=\"psysml:3495a436-635c-4195-be5e-85a5d126f0e1\" xlink:show=\"new\" xlink:title=\"psysml:3495a436-635c-4195-be5e-85a5d126f0e1\" xlink:type=\"simple\"><path d=\"M367.12,97.88 C382.03,118.86 400.95,145.48 414.08,163.95 \" fill=\"none\" id=\"E5&lt;-E7\" style=\"stroke: #383838; stroke-width: 1.0;\"/><polygon fill=\"#383838\" points=\"359.52,87.19,359.7442,94.3976,366.4836,96.9628,366.2594,89.7552,359.52,87.19\" style=\"stroke: #383838; stroke-width: 1.0;\"/></a><!--MD5=[dc164f5e8a733ab456ef1add180e9e34]\n",
       "reverse link E7 to E8--><a href=\"psysml:e1d2632c-68a4-476d-b3ed-d8b6d2aaac51\" target=\"_top\" title=\"psysml:e1d2632c-68a4-476d-b3ed-d8b6d2aaac51\" xlink:actuate=\"onRequest\" xlink:href=\"psysml:e1d2632c-68a4-476d-b3ed-d8b6d2aaac51\" xlink:show=\"new\" xlink:title=\"psysml:e1d2632c-68a4-476d-b3ed-d8b6d2aaac51\" xlink:type=\"simple\"><path d=\"M352.57,210.93 C329.29,218.95 304.02,228.8 281.75,240 C238.59,261.71 193.11,294.26 164.84,315.8 \" fill=\"none\" id=\"E7&lt;-E8\" style=\"stroke: #383838; stroke-width: 1.0;\"/><polygon fill=\"#FFFFFF\" points=\"364.89,206.79,357.9284,204.9096,353.5151,210.6124,360.4767,212.4928,364.89,206.79\" style=\"stroke: #383838; stroke-width: 1.0;\"/><text fill=\"#000000\" font-family=\"sans-serif\" font-size=\"13\" lengthAdjust=\"spacingAndGlyphs\" textLength=\"8\" x=\"163.0131\" y=\"305.025\">1</text></a><!--MD5=[f1f3f9f2fc535e6147756cb86a7f2e32]\n",
       "link E8 to E2--><a href=\"psysml:a8ae8a0d-ad52-4d9e-986d-0c741d3467c2\" target=\"_top\" title=\"psysml:a8ae8a0d-ad52-4d9e-986d-0c741d3467c2\" xlink:actuate=\"onRequest\" xlink:href=\"psysml:a8ae8a0d-ad52-4d9e-986d-0c741d3467c2\" xlink:show=\"new\" xlink:title=\"psysml:a8ae8a0d-ad52-4d9e-986d-0c741d3467c2\" xlink:type=\"simple\"><path d=\"M157.71,362.01 C170.43,375.36 186.98,392.74 201.64,408.14 \" fill=\"none\" id=\"E8-&gt;E2\" style=\"stroke: #383838; stroke-width: 1.0;\"/><polygon fill=\"#FFFFFF\" points=\"215.47,422.66,197.3009,413.7223,207.4424,404.0708,215.47,422.66\" style=\"stroke: #383838; stroke-width: 1.0;\"/><ellipse cx=\"194.8202\" cy=\"408.2144\" fill=\"#383838\" rx=\"2\" ry=\"2\" style=\"stroke: #383838; stroke-width: 1.0;\"/><ellipse cx=\"202.0641\" cy=\"401.3206\" fill=\"#383838\" rx=\"2\" ry=\"2\" style=\"stroke: #383838; stroke-width: 1.0;\"/></a><!--MD5=[9ae28de373ca99bb8a1b38d63370ca7e]\n",
       "reverse link E5 to E9--><a href=\"psysml:1023028c-00c5-4dde-9329-e4b02befe1ab\" target=\"_top\" title=\"psysml:1023028c-00c5-4dde-9329-e4b02befe1ab\" xlink:actuate=\"onRequest\" xlink:href=\"psysml:1023028c-00c5-4dde-9329-e4b02befe1ab\" xlink:show=\"new\" xlink:title=\"psysml:1023028c-00c5-4dde-9329-e4b02befe1ab\" xlink:type=\"simple\"><path d=\"M425.37,92.39 C458.3,107.92 492.9,131.01 511.75,164 C521.89,181.75 523.02,192.94 511.75,210 C503.25,222.87 490.84,232.57 477.15,239.87 \" fill=\"none\" id=\"E5&lt;-E9\" style=\"stroke: #383838; stroke-width: 1.0;\"/><polygon fill=\"#FFFFFF\" points=\"413.35,87.01,417.1893,93.1141,424.3005,91.9179,420.4612,85.8138,413.35,87.01\" style=\"stroke: #383838; stroke-width: 1.0;\"/><text fill=\"#000000\" font-family=\"sans-serif\" font-size=\"13\" lengthAdjust=\"spacingAndGlyphs\" textLength=\"8\" x=\"488.4363\" y=\"229.8763\">1</text></a><!--MD5=[5c3bb36fe832a92c7f0e1807dd65209d]\n",
       "link E9 to E2--><a href=\"psysml:d6cd1bf0-a8ac-42a9-91c6-4adc5d4642e7\" target=\"_top\" title=\"psysml:d6cd1bf0-a8ac-42a9-91c6-4adc5d4642e7\" xlink:actuate=\"onRequest\" xlink:href=\"psysml:d6cd1bf0-a8ac-42a9-91c6-4adc5d4642e7\" xlink:show=\"new\" xlink:title=\"psysml:d6cd1bf0-a8ac-42a9-91c6-4adc5d4642e7\" xlink:type=\"simple\"><path d=\"M298.61,284.36 C282.24,291.84 266.88,302.05 255.75,316 C236.48,340.16 232.36,375.23 232.71,402.71 \" fill=\"none\" id=\"E9-&gt;E2\" style=\"stroke: #383838; stroke-width: 1.0;\"/><polygon fill=\"#FFFFFF\" points=\"233.74,422.77,225.772,404.1552,239.7535,403.4351,233.74,422.77\" style=\"stroke: #383838; stroke-width: 1.0;\"/><ellipse cx=\"227.4762\" cy=\"398.3599\" fill=\"#383838\" rx=\"2\" ry=\"2\" style=\"stroke: #383838; stroke-width: 1.0;\"/><ellipse cx=\"237.463\" cy=\"397.8455\" fill=\"#383838\" rx=\"2\" ry=\"2\" style=\"stroke: #383838; stroke-width: 1.0;\"/></a><!--MD5=[04658dd8d62ba244c2fc33fc26e95ae2]\n",
       "@startuml\r\n",
       "top to bottom direction\r\n",
       "skinparam monochrome true\r\n",
       "skinparam classbackgroundcolor white\r\n",
       "skinparam shadowing false\r\n",
       "skinparam wrapWidth 300\r\n",
       "hide circle\r\n",
       "\r\n",
       "package \"TradeStudyTest\" as E1  [[psysml:9d3e1c5c-e45c-4a85-8e75-4ee823ac8fbf ]]  {\r\n",
       "comp def \"Engine\" as E2  <<(T,blue) part  def>> [[psysml:956f1300-60cf-48ef-8161-7a381ae0bb8c ]] {\r\n",
       "}\r\n",
       "comp usage \"engine1: Engine \" as E3  <<(T,blue) part>> [[psysml:5ff7a686-dab8-41cf-8031-b7dccb26607b ]] {\r\n",
       "}\r\n",
       "comp usage \"engine2: Engine \" as E4  <<(T,blue) part>> [[psysml:44e88bb9-9b84-4b3f-b104-23d7a257fb04 ]] {\r\n",
       "}\r\n",
       "comp usage \"engineTradeStudy: TradeStudy \" as E5 << analysis>> [[psysml:e12e8838-d64a-4336-9e52-2de97357eae2 ]] {\r\n",
       "}\r\n",
       "comp usage \"tradeStudyObjective: MaximizeObjective \" as E6  <<(T,blue) requirement>> [[psysml:9a804e4d-bc47-4ee7-a2d8-d8527e0c1caf ]] {\r\n",
       "}\r\n",
       "comp usage \"evaluationFunction \" as E7  <<(T,blue) calculation>> [[psysml:1fa3686a-6014-4c73-9542-2575e26fd8a7 ]] {\r\n",
       "}\r\n",
       "comp usage \"alternative: Engine \" as E8  <<(T,blue) part>> [[psysml:79c1d929-0a70-426e-ae6d-56e5e3e776a6 ]] {\r\n",
       "}\r\n",
       "comp usage \"selectedAlternative: Engine \" as E9  <<(T,blue) part>> [[psysml:169f456a-e384-47f5-89e9-43fd13dd17eb ]] {\r\n",
       "}\r\n",
       "}\r\n",
       "E3 - -:|> E2 [[psysml:9be21745-fec5-4980-9af6-b796782d7969 ]] \r\n",
       "E4 - -:|> E2 [[psysml:1ad537aa-bda6-4221-a392-6db0b9fa994b ]] \r\n",
       "E5 ..> E2 [[psysml:ef23f2a8-b555-4000-b8d1-a9fc8ea83129 ]] : <<subject>>\r\n",
       "E5 - ->> E6 [[psysml:82bd6807-74bc-4e7b-a156-dc2ad55e2000 ]] : <<objective>>\r\n",
       "E5 *- - E7 [[psysml:3495a436-635c-4195-be5e-85a5d126f0e1 ]] \r\n",
       "E7 o- - \"1\"E8 [[psysml:e1d2632c-68a4-476d-b3ed-d8b6d2aaac51 ]] \r\n",
       "E8 - -:|> E2 [[psysml:a8ae8a0d-ad52-4d9e-986d-0c741d3467c2 ]] \r\n",
       "E5 o- - \"1\"E9 [[psysml:1023028c-00c5-4dde-9329-e4b02befe1ab ]] \r\n",
       "E9 - -:|> E2 [[psysml:d6cd1bf0-a8ac-42a9-91c6-4adc5d4642e7 ]] \r\n",
       "@enduml\r\n",
       "\n",
       "PlantUML version 1.2020.13(Sat Jun 13 12:26:38 UTC 2020)\n",
       "(EPL source distribution)\n",
       "Java Runtime: OpenJDK Runtime Environment\n",
       "JVM: OpenJDK 64-Bit Server VM\n",
       "Default Encoding: UTF-8\n",
       "Language: en\n",
       "Country: null\n",
       "--></g></svg>"
      ]
     },
     "execution_count": 45,
     "metadata": {},
     "output_type": "execute_result"
    }
   ],
   "source": [
    "%viz --style=\"TB\" --view=\"Tree\" \"TradeStudyTest\""
   ]
  },
  {
   "cell_type": "code",
   "execution_count": 46,
   "id": "fb9a2920",
   "metadata": {
    "execution": {
     "iopub.execute_input": "2022-02-18T10:50:38.268387Z",
     "iopub.status.busy": "2022-02-18T10:50:38.267981Z",
     "iopub.status.idle": "2022-02-18T10:50:38.272565Z",
     "shell.execute_reply": "2022-02-18T10:50:38.272224Z"
    }
   },
   "outputs": [
    {
     "data": {
      "image/svg+xml": [
       "<?xml version=\"1.0\" encoding=\"UTF-8\" standalone=\"no\"?><svg xmlns=\"http://www.w3.org/2000/svg\" xmlns:xlink=\"http://www.w3.org/1999/xlink\" contentScriptType=\"application/ecmascript\" contentStyleType=\"text/css\" height=\"12px\" preserveAspectRatio=\"none\" style=\"width:12px;height:12px;\" version=\"1.1\" viewBox=\"0 0 12 12\" width=\"12px\" zoomAndPan=\"magnify\"><defs/><g><!--MD5=[f4ee21bc66e489b5061b7c3e9601fdef]\n",
       "@startuml\r\n",
       "top to bottom direction\r\n",
       "skinparam monochrome true\r\n",
       "skinparam classbackgroundcolor white\r\n",
       "skinparam shadowing false\r\n",
       "skinparam wrapWidth 300\r\n",
       "hide circle\r\n",
       "\r\n",
       "@enduml\r\n",
       "\n",
       "PlantUML version 1.2020.13(Sat Jun 13 12:26:38 UTC 2020)\n",
       "(EPL source distribution)\n",
       "Java Runtime: OpenJDK Runtime Environment\n",
       "JVM: OpenJDK 64-Bit Server VM\n",
       "Default Encoding: UTF-8\n",
       "Language: en\n",
       "Country: null\n",
       "--></g></svg>"
      ]
     },
     "execution_count": 46,
     "metadata": {},
     "output_type": "execute_result"
    }
   ],
   "source": [
    "%viz --style=\"TB\" --view=\"State\" \"TradeStudyTest\""
   ]
  },
  {
   "cell_type": "code",
   "execution_count": 47,
   "id": "8608bbf6",
   "metadata": {
    "execution": {
     "iopub.execute_input": "2022-02-18T10:50:38.322375Z",
     "iopub.status.busy": "2022-02-18T10:50:38.321983Z",
     "iopub.status.idle": "2022-02-18T10:50:38.360781Z",
     "shell.execute_reply": "2022-02-18T10:50:38.360434Z"
    }
   },
   "outputs": [
    {
     "data": {
      "image/svg+xml": [
       "<?xml version=\"1.0\" encoding=\"UTF-8\" standalone=\"no\"?><svg xmlns=\"http://www.w3.org/2000/svg\" xmlns:xlink=\"http://www.w3.org/1999/xlink\" contentScriptType=\"application/ecmascript\" contentStyleType=\"text/css\" height=\"418px\" preserveAspectRatio=\"none\" style=\"width:574px;height:418px;\" version=\"1.1\" viewBox=\"0 0 574 418\" width=\"574px\" zoomAndPan=\"magnify\"><defs/><g><!--MD5=[fbc87193dbaf4d95561dea2c320d4a47]\n",
       "cluster E1--><a href=\"psysml:9d3e1c5c-e45c-4a85-8e75-4ee823ac8fbf\" target=\"_top\" title=\"psysml:9d3e1c5c-e45c-4a85-8e75-4ee823ac8fbf\" xlink:actuate=\"onRequest\" xlink:href=\"psysml:9d3e1c5c-e45c-4a85-8e75-4ee823ac8fbf\" xlink:show=\"new\" xlink:title=\"psysml:9d3e1c5c-e45c-4a85-8e75-4ee823ac8fbf\" xlink:type=\"simple\"><polygon fill=\"#FFFFFF\" points=\"16,6,132,6,139,28.2969,552,28.2969,552,406,16,406,16,6\" style=\"stroke: #000000; stroke-width: 1.5;\"/><line style=\"stroke: #000000; stroke-width: 1.5;\" x1=\"16\" x2=\"139\" y1=\"28.2969\" y2=\"28.2969\"/><text fill=\"#000000\" font-family=\"sans-serif\" font-size=\"14\" font-weight=\"bold\" lengthAdjust=\"spacingAndGlyphs\" textLength=\"110\" x=\"20\" y=\"20.9951\">TradeStudyTest</text></a><!--MD5=[de5ec2e2e8f62f467e546659f5068c88]\n",
       "cluster E5--><a href=\"psysml:e12e8838-d64a-4336-9e52-2de97357eae2\" target=\"_top\" title=\"psysml:e12e8838-d64a-4336-9e52-2de97357eae2\" xlink:actuate=\"onRequest\" xlink:href=\"psysml:e12e8838-d64a-4336-9e52-2de97357eae2\" xlink:show=\"new\" xlink:title=\"psysml:e12e8838-d64a-4336-9e52-2de97357eae2\" xlink:type=\"simple\"><rect fill=\"#FFFFFF\" height=\"129\" id=\"E5\" rx=\"10\" ry=\"10\" style=\"stroke: #383838; stroke-width: 1.5;\" width=\"199\" x=\"321\" y=\"57\"/><rect fill=\"#F8F8F8\" height=\"37.9375\" rx=\"10\" ry=\"10\" style=\"stroke: #F8F8F8; stroke-width: 1.5;\" width=\"199\" x=\"321\" y=\"57\"/><rect fill=\"#F8F8F8\" height=\"10\" style=\"stroke: #F8F8F8; stroke-width: 1.5;\" width=\"199\" x=\"321\" y=\"84.9375\"/><rect fill=\"none\" height=\"129\" id=\"E5\" rx=\"10\" ry=\"10\" style=\"stroke: #383838; stroke-width: 1.5;\" width=\"199\" x=\"321\" y=\"57\"/><text fill=\"#000000\" font-family=\"sans-serif\" font-size=\"12\" font-style=\"italic\" lengthAdjust=\"spacingAndGlyphs\" textLength=\"64\" x=\"388.5\" y=\"73.1387\">«analysis»</text><text fill=\"#000000\" font-family=\"sans-serif\" font-size=\"12\" lengthAdjust=\"spacingAndGlyphs\" textLength=\"114\" x=\"363.5\" y=\"87.1074\">engineTradeStudy</text><line style=\"stroke: #383838; stroke-width: 1.0;\" x1=\"321\" x2=\"520\" y1=\"94.9375\" y2=\"94.9375\"/></a><!--MD5=[2156ba9850f5573cc1fc38a6a4b2f02b]\n",
       "class E7--><a href=\"psysml:1fa3686a-6014-4c73-9542-2575e26fd8a7\" target=\"_top\" title=\"psysml:1fa3686a-6014-4c73-9542-2575e26fd8a7\" xlink:actuate=\"onRequest\" xlink:href=\"psysml:1fa3686a-6014-4c73-9542-2575e26fd8a7\" xlink:show=\"new\" xlink:title=\"psysml:1fa3686a-6014-4c73-9542-2575e26fd8a7\" xlink:type=\"simple\"><rect fill=\"#FFFFFF\" height=\"45.9375\" id=\"E7\" rx=\"10\" ry=\"10\" style=\"stroke: #383838; stroke-width: 1.5;\" width=\"129\" x=\"73.5\" y=\"219\"/><text fill=\"#000000\" font-family=\"sans-serif\" font-size=\"12\" font-style=\"italic\" lengthAdjust=\"spacingAndGlyphs\" textLength=\"82\" x=\"97\" y=\"235.1387\">«calculation»</text><text fill=\"#000000\" font-family=\"sans-serif\" font-size=\"12\" lengthAdjust=\"spacingAndGlyphs\" textLength=\"119\" x=\"76.5\" y=\"249.1074\">evaluationFunction</text><line style=\"stroke: #383838; stroke-width: 1.5;\" x1=\"74.5\" x2=\"201.5\" y1=\"256.9375\" y2=\"256.9375\"/></a><!--MD5=[b9389687b975829384b498ac4b7476b2]\n",
       "class E8--><a href=\"psysml:79c1d929-0a70-426e-ae6d-56e5e3e776a6\" target=\"_top\" title=\"psysml:79c1d929-0a70-426e-ae6d-56e5e3e776a6\" xlink:actuate=\"onRequest\" xlink:href=\"psysml:79c1d929-0a70-426e-ae6d-56e5e3e776a6\" xlink:show=\"new\" xlink:title=\"psysml:79c1d929-0a70-426e-ae6d-56e5e3e776a6\" xlink:type=\"simple\"><rect fill=\"#FFFFFF\" height=\"31.9688\" id=\"E8\" rx=\"10\" ry=\"10\" style=\"stroke: #383838; stroke-width: 1.5;\" width=\"128\" x=\"120\" y=\"298\"/><text fill=\"#000000\" font-family=\"sans-serif\" font-size=\"12\" lengthAdjust=\"spacingAndGlyphs\" textLength=\"118\" x=\"123\" y=\"314.1387\">alternative: Engine</text><line style=\"stroke: #383838; stroke-width: 1.5;\" x1=\"121\" x2=\"247\" y1=\"321.9688\" y2=\"321.9688\"/></a><!--MD5=[fd4143e9d270a159db93a4ea2a975926]\n",
       "class E9--><a href=\"psysml:169f456a-e384-47f5-89e9-43fd13dd17eb\" target=\"_top\" title=\"psysml:169f456a-e384-47f5-89e9-43fd13dd17eb\" xlink:actuate=\"onRequest\" xlink:href=\"psysml:169f456a-e384-47f5-89e9-43fd13dd17eb\" xlink:show=\"new\" xlink:title=\"psysml:169f456a-e384-47f5-89e9-43fd13dd17eb\" xlink:type=\"simple\"><rect fill=\"#FFFFFF\" height=\"31.9688\" id=\"E9\" rx=\"10\" ry=\"10\" style=\"stroke: #383838; stroke-width: 1.5;\" width=\"182\" x=\"238\" y=\"226\"/><text fill=\"#000000\" font-family=\"sans-serif\" font-size=\"12\" lengthAdjust=\"spacingAndGlyphs\" textLength=\"172\" x=\"241\" y=\"242.1387\">selectedAlternative: Engine</text><line style=\"stroke: #383838; stroke-width: 1.5;\" x1=\"239\" x2=\"419\" y1=\"249.9688\" y2=\"249.9688\"/></a><g id=\"E1.E2\"><a href=\"psysml:956f1300-60cf-48ef-8161-7a381ae0bb8c\" target=\"_top\" title=\"psysml:956f1300-60cf-48ef-8161-7a381ae0bb8c\" xlink:actuate=\"onRequest\" xlink:href=\"psysml:956f1300-60cf-48ef-8161-7a381ae0bb8c\" xlink:show=\"new\" xlink:title=\"psysml:956f1300-60cf-48ef-8161-7a381ae0bb8c\" xlink:type=\"simple\"><rect fill=\"#FFFFFF\" height=\"42.9375\" id=\"E2\" style=\"stroke: #383838; stroke-width: 1.5;\" width=\"75\" x=\"291.5\" y=\"347\"/><rect fill=\"#F8F8F8\" height=\"37.9375\" style=\"stroke: #383838; stroke-width: 1.5;\" width=\"75\" x=\"291.5\" y=\"347\"/><text fill=\"#000000\" font-family=\"sans-serif\" font-size=\"12\" font-style=\"italic\" lengthAdjust=\"spacingAndGlyphs\" textLength=\"68\" x=\"295\" y=\"363.1387\">«part  def»</text><text fill=\"#000000\" font-family=\"sans-serif\" font-size=\"12\" lengthAdjust=\"spacingAndGlyphs\" textLength=\"43\" x=\"307.5\" y=\"377.1074\">Engine</text></a></g><g id=\"E1.E3\"><a href=\"psysml:5ff7a686-dab8-41cf-8031-b7dccb26607b\" target=\"_top\" title=\"psysml:5ff7a686-dab8-41cf-8031-b7dccb26607b\" xlink:actuate=\"onRequest\" xlink:href=\"psysml:5ff7a686-dab8-41cf-8031-b7dccb26607b\" xlink:show=\"new\" xlink:title=\"psysml:5ff7a686-dab8-41cf-8031-b7dccb26607b\" xlink:type=\"simple\"><rect fill=\"#FFFFFF\" height=\"40\" id=\"E3\" rx=\"10\" ry=\"10\" style=\"stroke: #383838; stroke-width: 1.5;\" width=\"113\" x=\"180.5\" y=\"119\"/><rect fill=\"#F8F8F8\" height=\"23.9688\" rx=\"10\" ry=\"10\" style=\"stroke: #F8F8F8; stroke-width: 1.5;\" width=\"113\" x=\"180.5\" y=\"119\"/><rect fill=\"#F8F8F8\" height=\"10\" style=\"stroke: #F8F8F8; stroke-width: 1.5;\" width=\"113\" x=\"180.5\" y=\"132.9688\"/><rect fill=\"none\" height=\"40\" id=\"E3\" rx=\"10\" ry=\"10\" style=\"stroke: #383838; stroke-width: 1.5;\" width=\"113\" x=\"180.5\" y=\"119\"/><text fill=\"#000000\" font-family=\"sans-serif\" font-size=\"12\" lengthAdjust=\"spacingAndGlyphs\" textLength=\"102\" x=\"186\" y=\"135.1387\">engine1: Engine</text></a></g><g id=\"E1.E4\"><a href=\"psysml:44e88bb9-9b84-4b3f-b104-23d7a257fb04\" target=\"_top\" title=\"psysml:44e88bb9-9b84-4b3f-b104-23d7a257fb04\" xlink:actuate=\"onRequest\" xlink:href=\"psysml:44e88bb9-9b84-4b3f-b104-23d7a257fb04\" xlink:show=\"new\" xlink:title=\"psysml:44e88bb9-9b84-4b3f-b104-23d7a257fb04\" xlink:type=\"simple\"><rect fill=\"#FFFFFF\" height=\"40\" id=\"E4\" rx=\"10\" ry=\"10\" style=\"stroke: #383838; stroke-width: 1.5;\" width=\"113\" x=\"32.5\" y=\"119\"/><rect fill=\"#F8F8F8\" height=\"23.9688\" rx=\"10\" ry=\"10\" style=\"stroke: #F8F8F8; stroke-width: 1.5;\" width=\"113\" x=\"32.5\" y=\"119\"/><rect fill=\"#F8F8F8\" height=\"10\" style=\"stroke: #F8F8F8; stroke-width: 1.5;\" width=\"113\" x=\"32.5\" y=\"132.9688\"/><rect fill=\"none\" height=\"40\" id=\"E4\" rx=\"10\" ry=\"10\" style=\"stroke: #383838; stroke-width: 1.5;\" width=\"113\" x=\"32.5\" y=\"119\"/><text fill=\"#000000\" font-family=\"sans-serif\" font-size=\"12\" lengthAdjust=\"spacingAndGlyphs\" textLength=\"102\" x=\"38\" y=\"135.1387\">engine2: Engine</text></a></g><!--MD5=[60a26617385b1d2d0262a64233df1f8d]\n",
       "class E6--><a href=\"psysml:9a804e4d-bc47-4ee7-a2d8-d8527e0c1caf\" target=\"_top\" title=\"psysml:9a804e4d-bc47-4ee7-a2d8-d8527e0c1caf\" xlink:actuate=\"onRequest\" xlink:href=\"psysml:9a804e4d-bc47-4ee7-a2d8-d8527e0c1caf\" xlink:show=\"new\" xlink:title=\"psysml:9a804e4d-bc47-4ee7-a2d8-d8527e0c1caf\" xlink:type=\"simple\"><rect fill=\"#FFFFFF\" height=\"45.9375\" id=\"E6\" rx=\"10\" ry=\"10\" style=\"stroke: #383838; stroke-width: 1.5;\" width=\"132\" x=\"364\" y=\"116\"/><text fill=\"#000000\" font-family=\"sans-serif\" font-size=\"12\" font-style=\"italic\" lengthAdjust=\"spacingAndGlyphs\" textLength=\"70\" x=\"395\" y=\"132.1387\">«objective»</text><text fill=\"#000000\" font-family=\"sans-serif\" font-size=\"12\" lengthAdjust=\"spacingAndGlyphs\" textLength=\"126\" x=\"367\" y=\"146.1074\">tradeStudyObjective</text><line style=\"stroke: #383838; stroke-width: 1.5;\" x1=\"365\" x2=\"495\" y1=\"153.9375\" y2=\"153.9375\"/></a><!--MD5=[15ebcb19ae302d9b601edb458606d402]\n",
       "link E5 to E2--><a href=\"psysml:ef23f2a8-b555-4000-b8d1-a9fc8ea83129\" target=\"_top\" title=\"psysml:ef23f2a8-b555-4000-b8d1-a9fc8ea83129\" xlink:actuate=\"onRequest\" xlink:href=\"psysml:ef23f2a8-b555-4000-b8d1-a9fc8ea83129\" xlink:show=\"new\" xlink:title=\"psysml:ef23f2a8-b555-4000-b8d1-a9fc8ea83129\" xlink:type=\"simple\"><path d=\"M336.7687,186.0407 C336.9497,186.4418 337.1349,186.8409 337.3242,187.2379 C337.703,188.0319 338.0985,188.8172 338.5115,189.5919 C339.3377,191.1413 340.234,192.6486 341.2064,194.0989 C343.1511,196.9995 345.4,199.6725 348,202 C378.33,229.15 412.02,187.66 438,219 C473.29,261.58 411.17,314.39 367.14,344.19 \" fill=\"none\" id=\"E5-&gt;E2\" style=\"stroke: #383838; stroke-width: 1.0; stroke-dasharray: 7.0,7.0;\"/><polygon fill=\"#383838\" points=\"362.94,347,372.6473,345.3359,367.1003,344.2265,368.2097,338.6795,362.94,347\" style=\"stroke: #383838; stroke-width: 1.0;\"/><text fill=\"#000000\" font-family=\"sans-serif\" font-size=\"13\" lengthAdjust=\"spacingAndGlyphs\" textLength=\"62\" x=\"441\" y=\"286.0669\">«subject»</text></a><!--MD5=[452b418e7f8a40397a49b8c0a78acc5b]\n",
       "reverse link E5 to E7--><a href=\"psysml:3495a436-635c-4195-be5e-85a5d126f0e1\" target=\"_top\" title=\"psysml:3495a436-635c-4195-be5e-85a5d126f0e1\" xlink:actuate=\"onRequest\" xlink:href=\"psysml:3495a436-635c-4195-be5e-85a5d126f0e1\" xlink:show=\"new\" xlink:title=\"psysml:3495a436-635c-4195-be5e-85a5d126f0e1\" xlink:type=\"simple\"><path d=\"M332.9347,186.1446 C332.8869,186.3466 332.8378,186.5483 332.7874,186.7494 C332.5857,187.5541 332.3629,188.3516 332.1178,189.1403 C331.6274,190.7176 331.0475,192.2593 330.3674,193.7515 C329.0072,196.7359 327.2463,199.5225 325,202 C309.27,219.35 243.9,214.11 221,219 C215.02,220.28 208.83,221.71 202.65,223.22 \" fill=\"none\" id=\"E5&lt;-E7\" style=\"stroke: #383838; stroke-width: 1.0;\"/><polygon fill=\"#383838\" points=\"332.9347,186.1446,327.6606,191.0624,330.1716,197.8222,335.4457,192.9044,332.9347,186.1446\" style=\"stroke: #383838; stroke-width: 1.0;\"/></a><!--MD5=[dc164f5e8a733ab456ef1add180e9e34]\n",
       "reverse link E7 to E8--><a href=\"psysml:e1d2632c-68a4-476d-b3ed-d8b6d2aaac51\" target=\"_top\" title=\"psysml:e1d2632c-68a4-476d-b3ed-d8b6d2aaac51\" xlink:actuate=\"onRequest\" xlink:href=\"psysml:e1d2632c-68a4-476d-b3ed-d8b6d2aaac51\" xlink:show=\"new\" xlink:title=\"psysml:e1d2632c-68a4-476d-b3ed-d8b6d2aaac51\" xlink:type=\"simple\"><path d=\"M159.85,276.24 C164.76,283.72 169.75,291.31 173.91,297.64 \" fill=\"none\" id=\"E7&lt;-E8\" style=\"stroke: #383838; stroke-width: 1.0;\"/><polygon fill=\"#FFFFFF\" points=\"152.55,265.15,152.5017,272.3609,159.1393,275.179,159.1877,267.968,152.55,265.15\" style=\"stroke: #383838; stroke-width: 1.0;\"/><text fill=\"#000000\" font-family=\"sans-serif\" font-size=\"13\" lengthAdjust=\"spacingAndGlyphs\" textLength=\"8\" x=\"161.2427\" y=\"286.8304\">1</text></a><!--MD5=[f1f3f9f2fc535e6147756cb86a7f2e32]\n",
       "link E8 to E2--><a href=\"psysml:a8ae8a0d-ad52-4d9e-986d-0c741d3467c2\" target=\"_top\" title=\"psysml:a8ae8a0d-ad52-4d9e-986d-0c741d3467c2\" xlink:actuate=\"onRequest\" xlink:href=\"psysml:a8ae8a0d-ad52-4d9e-986d-0c741d3467c2\" xlink:show=\"new\" xlink:title=\"psysml:a8ae8a0d-ad52-4d9e-986d-0c741d3467c2\" xlink:type=\"simple\"><path d=\"M225.55,330.04 C240.14,335.33 256.8,341.36 272.41,347.01 \" fill=\"none\" id=\"E8-&gt;E2\" style=\"stroke: #383838; stroke-width: 1.0;\"/><polygon fill=\"#FFFFFF\" points=\"291.41,353.89,271.1619,354.01,275.9238,340.8448,291.41,353.89\" style=\"stroke: #383838; stroke-width: 1.0;\"/><ellipse cx=\"266.482\" cy=\"350.1905\" fill=\"#383838\" rx=\"2\" ry=\"2\" style=\"stroke: #383838; stroke-width: 1.0;\"/><ellipse cx=\"269.8834\" cy=\"340.7868\" fill=\"#383838\" rx=\"2\" ry=\"2\" style=\"stroke: #383838; stroke-width: 1.0;\"/></a><!--MD5=[9ae28de373ca99bb8a1b38d63370ca7e]\n",
       "reverse link E5 to E9--><a href=\"psysml:1023028c-00c5-4dde-9329-e4b02befe1ab\" target=\"_top\" title=\"psysml:1023028c-00c5-4dde-9329-e4b02befe1ab\" xlink:actuate=\"onRequest\" xlink:href=\"psysml:1023028c-00c5-4dde-9329-e4b02befe1ab\" xlink:show=\"new\" xlink:title=\"psysml:1023028c-00c5-4dde-9329-e4b02befe1ab\" xlink:type=\"simple\"><path d=\"M329,186.1541 C329,186.4444 329,186.7349 329,187.0256 C329,191.6761 329,196.366 329,200.9367 C329,210.0781 329,218.7425 329,225.66 \" fill=\"none\" id=\"E5&lt;-E9\" style=\"stroke: #383838; stroke-width: 1.0;\"/><polygon fill=\"#FFFFFF\" points=\"329,186.1541,325,192.1541,329,198.1541,333,192.1541,329,186.1541\" style=\"stroke: #383838; stroke-width: 1.0;\"/><text fill=\"#000000\" font-family=\"sans-serif\" font-size=\"13\" lengthAdjust=\"spacingAndGlyphs\" textLength=\"8\" x=\"319.675\" y=\"214.8571\">1</text></a><!--MD5=[5c3bb36fe832a92c7f0e1807dd65209d]\n",
       "link E9 to E2--><a href=\"psysml:d6cd1bf0-a8ac-42a9-91c6-4adc5d4642e7\" target=\"_top\" title=\"psysml:d6cd1bf0-a8ac-42a9-91c6-4adc5d4642e7\" xlink:actuate=\"onRequest\" xlink:href=\"psysml:d6cd1bf0-a8ac-42a9-91c6-4adc5d4642e7\" xlink:show=\"new\" xlink:title=\"psysml:d6cd1bf0-a8ac-42a9-91c6-4adc5d4642e7\" xlink:type=\"simple\"><path d=\"M329,258.27 C329,275.18 329,303.16 329,326.57 \" fill=\"none\" id=\"E9-&gt;E2\" style=\"stroke: #383838; stroke-width: 1.0;\"/><polygon fill=\"#FFFFFF\" points=\"329,346.71,322,327.71,336,327.71,329,346.71\" style=\"stroke: #383838; stroke-width: 1.0;\"/><ellipse cx=\"324\" cy=\"322.01\" fill=\"#383838\" rx=\"2\" ry=\"2\" style=\"stroke: #383838; stroke-width: 1.0;\"/><ellipse cx=\"334\" cy=\"322.01\" fill=\"#383838\" rx=\"2\" ry=\"2\" style=\"stroke: #383838; stroke-width: 1.0;\"/></a><!--MD5=[4880391fb8a6e39705559c9d2ad45297]\n",
       "@startuml\r\n",
       "skinparam ranksep 10\r\n",
       "skinparam rectangle {\r\n",
       " backgroundColor<<block>> LightGreen\r\n",
       "}\r\n",
       "top to bottom direction\r\n",
       "skinparam monochrome true\r\n",
       "skinparam classbackgroundcolor white\r\n",
       "skinparam shadowing false\r\n",
       "skinparam wrapWidth 300\r\n",
       "hide circle\r\n",
       "\r\n",
       "package \"TradeStudyTest\" as E1  [[psysml:9d3e1c5c-e45c-4a85-8e75-4ee823ac8fbf ]]  {\r\n",
       "rec def \"Engine\" as E2  <<(T,blue) part  def>> [[psysml:956f1300-60cf-48ef-8161-7a381ae0bb8c ]] {\r\n",
       "}\r\n",
       "rec usage \"engine1: Engine\" as E3  [[psysml:5ff7a686-dab8-41cf-8031-b7dccb26607b ]] {\r\n",
       "}\r\n",
       "rec usage \"engine2: Engine\" as E4  [[psysml:44e88bb9-9b84-4b3f-b104-23d7a257fb04 ]] {\r\n",
       "}\r\n",
       "rec usage \"engineTradeStudy\" as E5 << analysis>> [[psysml:e12e8838-d64a-4336-9e52-2de97357eae2 ]] {\r\n",
       "comp usage \"tradeStudyObjective\" as E6  <<objective>> [[psysml:9a804e4d-bc47-4ee7-a2d8-d8527e0c1caf ]] {\r\n",
       "}\r\n",
       "}\r\n",
       "comp usage \"evaluationFunction \" as E7  <<(T,blue) calculation>> [[psysml:1fa3686a-6014-4c73-9542-2575e26fd8a7 ]] {\r\n",
       "}\r\n",
       "comp usage \"alternative: Engine \" as E8  [[psysml:79c1d929-0a70-426e-ae6d-56e5e3e776a6 ]] {\r\n",
       "}\r\n",
       "comp usage \"selectedAlternative: Engine \" as E9  [[psysml:169f456a-e384-47f5-89e9-43fd13dd17eb ]] {\r\n",
       "}\r\n",
       "}\r\n",
       "E5 ..> E2 [[psysml:ef23f2a8-b555-4000-b8d1-a9fc8ea83129 ]] : <<subject>>\r\n",
       "E5 *- - E7 [[psysml:3495a436-635c-4195-be5e-85a5d126f0e1 ]] \r\n",
       "E7 o- - \"1\"E8 [[psysml:e1d2632c-68a4-476d-b3ed-d8b6d2aaac51 ]] \r\n",
       "E8 - -:|> E2 [[psysml:a8ae8a0d-ad52-4d9e-986d-0c741d3467c2 ]] \r\n",
       "E5 o- - \"1\"E9 [[psysml:1023028c-00c5-4dde-9329-e4b02befe1ab ]] \r\n",
       "E9 - -:|> E2 [[psysml:d6cd1bf0-a8ac-42a9-91c6-4adc5d4642e7 ]] \r\n",
       "@enduml\r\n",
       "\n",
       "PlantUML version 1.2020.13(Sat Jun 13 12:26:38 UTC 2020)\n",
       "(EPL source distribution)\n",
       "Java Runtime: OpenJDK Runtime Environment\n",
       "JVM: OpenJDK 64-Bit Server VM\n",
       "Default Encoding: UTF-8\n",
       "Language: en\n",
       "Country: null\n",
       "--></g></svg>"
      ]
     },
     "execution_count": 47,
     "metadata": {},
     "output_type": "execute_result"
    }
   ],
   "source": [
    "%viz --style=\"TB\" --view=\"Interconnection\" \"TradeStudyTest\""
   ]
  },
  {
   "cell_type": "code",
   "execution_count": 48,
   "id": "20e1a12d",
   "metadata": {
    "execution": {
     "iopub.execute_input": "2022-02-18T10:50:38.410395Z",
     "iopub.status.busy": "2022-02-18T10:50:38.410000Z",
     "iopub.status.idle": "2022-02-18T10:50:38.437452Z",
     "shell.execute_reply": "2022-02-18T10:50:38.437118Z"
    }
   },
   "outputs": [
    {
     "data": {
      "image/svg+xml": [
       "<?xml version=\"1.0\" encoding=\"UTF-8\" standalone=\"no\"?><svg xmlns=\"http://www.w3.org/2000/svg\" xmlns:xlink=\"http://www.w3.org/1999/xlink\" contentScriptType=\"application/ecmascript\" contentStyleType=\"text/css\" height=\"227px\" preserveAspectRatio=\"none\" style=\"width:442px;height:227px;\" version=\"1.1\" viewBox=\"0 0 442 227\" width=\"442px\" zoomAndPan=\"magnify\"><defs/><g><!--MD5=[fbc87193dbaf4d95561dea2c320d4a47]\n",
       "cluster E1--><a href=\"psysml:e12e8838-d64a-4336-9e52-2de97357eae2\" target=\"_top\" title=\"psysml:e12e8838-d64a-4336-9e52-2de97357eae2\" xlink:actuate=\"onRequest\" xlink:href=\"psysml:e12e8838-d64a-4336-9e52-2de97357eae2\" xlink:show=\"new\" xlink:title=\"psysml:e12e8838-d64a-4336-9e52-2de97357eae2\" xlink:type=\"simple\"><rect fill=\"#FFFFFF\" height=\"174.36\" id=\"E1\" rx=\"10\" ry=\"10\" style=\"stroke: #383838; stroke-width: 1.5;\" width=\"317\" x=\"47\" y=\"42.0986\"/><rect fill=\"#F8F8F8\" height=\"37.9375\" rx=\"10\" ry=\"10\" style=\"stroke: #F8F8F8; stroke-width: 1.5;\" width=\"317\" x=\"47\" y=\"42.0986\"/><rect fill=\"#F8F8F8\" height=\"10\" style=\"stroke: #F8F8F8; stroke-width: 1.5;\" width=\"317\" x=\"47\" y=\"70.0361\"/><rect fill=\"none\" height=\"174.36\" id=\"E1\" rx=\"10\" ry=\"10\" style=\"stroke: #383838; stroke-width: 1.5;\" width=\"317\" x=\"47\" y=\"42.0986\"/><text fill=\"#000000\" font-family=\"sans-serif\" font-size=\"12\" font-style=\"italic\" lengthAdjust=\"spacingAndGlyphs\" textLength=\"64\" x=\"173.5\" y=\"58.2373\">«analysis»</text><text fill=\"#000000\" font-family=\"sans-serif\" font-size=\"12\" lengthAdjust=\"spacingAndGlyphs\" textLength=\"114\" x=\"148.5\" y=\"72.2061\">engineTradeStudy</text><line style=\"stroke: #383838; stroke-width: 1.0;\" x1=\"47\" x2=\"364\" y1=\"80.0361\" y2=\"80.0361\"/></a><!--MD5=[d5e69f78d87373223dbae638b30a9c99]\n",
       "cluster E3--><a href=\"psysml:1fa3686a-6014-4c73-9542-2575e26fd8a7\" target=\"_top\" title=\"psysml:1fa3686a-6014-4c73-9542-2575e26fd8a7\" xlink:actuate=\"onRequest\" xlink:href=\"psysml:1fa3686a-6014-4c73-9542-2575e26fd8a7\" xlink:show=\"new\" xlink:title=\"psysml:1fa3686a-6014-4c73-9542-2575e26fd8a7\" xlink:type=\"simple\"><rect fill=\"#FFFFFF\" height=\"104.86\" id=\"E3\" rx=\"10\" ry=\"10\" style=\"stroke: #383838; stroke-width: 1.5;\" width=\"178\" x=\"145\" y=\"81.5986\"/><rect fill=\"#F8F8F8\" height=\"37.9375\" rx=\"10\" ry=\"10\" style=\"stroke: #F8F8F8; stroke-width: 1.5;\" width=\"178\" x=\"145\" y=\"81.5986\"/><rect fill=\"#F8F8F8\" height=\"10\" style=\"stroke: #F8F8F8; stroke-width: 1.5;\" width=\"178\" x=\"145\" y=\"109.5361\"/><rect fill=\"none\" height=\"104.86\" id=\"E3\" rx=\"10\" ry=\"10\" style=\"stroke: #383838; stroke-width: 1.5;\" width=\"178\" x=\"145\" y=\"81.5986\"/><text fill=\"#000000\" font-family=\"sans-serif\" font-size=\"12\" font-style=\"italic\" lengthAdjust=\"spacingAndGlyphs\" textLength=\"82\" x=\"193\" y=\"97.7373\">«calculation»</text><text fill=\"#000000\" font-family=\"sans-serif\" font-size=\"12\" lengthAdjust=\"spacingAndGlyphs\" textLength=\"119\" x=\"174.5\" y=\"111.7061\">evaluationFunction</text><line style=\"stroke: #383838; stroke-width: 1.0;\" x1=\"145\" x2=\"323\" y1=\"119.5361\" y2=\"119.5361\"/></a><text fill=\"#000000\" font-family=\"sans-serif\" font-size=\"14\" lengthAdjust=\"spacingAndGlyphs\" textLength=\"118\" x=\"6\" y=\"20.7969\">studyAlternatives</text><rect fill=\"#383838\" height=\"12\" style=\"stroke: #F8F8F8; stroke-width: 1.5;\" width=\"12\" x=\"59\" y=\"36.0986\"/><text fill=\"#000000\" font-family=\"sans-serif\" font-size=\"14\" lengthAdjust=\"spacingAndGlyphs\" textLength=\"132\" x=\"298\" y=\"183.0938\">selectedAlternative</text><rect fill=\"#383838\" height=\"12\" style=\"stroke: #F8F8F8; stroke-width: 1.5;\" width=\"12\" x=\"358\" y=\"158.0986\"/><text fill=\"#000000\" font-family=\"sans-serif\" font-size=\"14\" lengthAdjust=\"spacingAndGlyphs\" textLength=\"71\" x=\"198.5\" y=\"60.2969\">alternative</text><rect fill=\"#383838\" height=\"12\" style=\"stroke: #F8F8F8; stroke-width: 1.5;\" width=\"12\" x=\"228\" y=\"75.5986\"/><text fill=\"#000000\" font-family=\"sans-serif\" font-size=\"14\" lengthAdjust=\"spacingAndGlyphs\" textLength=\"39\" x=\"214.5\" y=\"205.4538\">result</text><rect fill=\"#383838\" height=\"12\" style=\"stroke: #F8F8F8; stroke-width: 1.5;\" width=\"12\" x=\"228\" y=\"180.4586\"/><!--MD5=[f1db154767e81c6334664f1ea6bfcbdf]\n",
       "@startuml\r\n",
       "skinparam ranksep 8\r\n",
       "top to bottom direction\r\n",
       "skinparam monochrome true\r\n",
       "skinparam classbackgroundcolor white\r\n",
       "skinparam shadowing false\r\n",
       "skinparam wrapWidth 300\r\n",
       "hide circle\r\n",
       "\r\n",
       "rec usage \"engineTradeStudy\" as E1 << analysis>> [[psysml:e12e8838-d64a-4336-9e52-2de97357eae2 ]] {\r\n",
       "portin \"studyAlternatives\" as E2  [[psysml:36f294a0-7f48-45c5-aee6-574d3cef2e7a ]] \r\n",
       "rec usage \"evaluationFunction\" as E3  <<(T,blue) calculation>> [[psysml:1fa3686a-6014-4c73-9542-2575e26fd8a7 ]] {\r\n",
       "portin \"alternative\" as E4  [[psysml:79c1d929-0a70-426e-ae6d-56e5e3e776a6 ]] \r\n",
       "portout \"result\" as E5  [[psysml:c19db6ea-6f05-4719-8826-e593430801be ]] \r\n",
       "}\r\n",
       "\r\n",
       "portout \"selectedAlternative\" as E6  [[psysml:169f456a-e384-47f5-89e9-43fd13dd17eb ]] \r\n",
       "}\r\n",
       "\r\n",
       "@enduml\r\n",
       "\n",
       "PlantUML version 1.2020.13(Sat Jun 13 12:26:38 UTC 2020)\n",
       "(EPL source distribution)\n",
       "Java Runtime: OpenJDK Runtime Environment\n",
       "JVM: OpenJDK 64-Bit Server VM\n",
       "Default Encoding: UTF-8\n",
       "Language: en\n",
       "Country: null\n",
       "--></g></svg>"
      ]
     },
     "execution_count": 48,
     "metadata": {},
     "output_type": "execute_result"
    }
   ],
   "source": [
    "%viz --style=\"TB\" --view=\"Action\" \"TradeStudyTest\""
   ]
  },
  {
   "cell_type": "code",
   "execution_count": 49,
   "id": "9f6cc2ae",
   "metadata": {
    "execution": {
     "iopub.execute_input": "2022-02-18T10:50:38.487330Z",
     "iopub.status.busy": "2022-02-18T10:50:38.486931Z",
     "iopub.status.idle": "2022-02-18T10:50:38.491733Z",
     "shell.execute_reply": "2022-02-18T10:50:38.491410Z"
    }
   },
   "outputs": [
    {
     "data": {
      "image/svg+xml": [
       "<?xml version=\"1.0\" encoding=\"UTF-8\" standalone=\"no\"?><svg xmlns=\"http://www.w3.org/2000/svg\" xmlns:xlink=\"http://www.w3.org/1999/xlink\" contentScriptType=\"application/ecmascript\" contentStyleType=\"text/css\" height=\"12px\" preserveAspectRatio=\"none\" style=\"width:12px;height:12px;\" version=\"1.1\" viewBox=\"0 0 12 12\" width=\"12px\" zoomAndPan=\"magnify\"><defs/><g><!--MD5=[e1ab0c84c44d2fef8bf5f140f2689906]\n",
       "@startuml\r\n",
       "skinparam roundcorner 20\r\n",
       "skinparam BoxPadding 20\r\n",
       "skinparam SequenceBoxBackgroundColor #white\r\n",
       "skinparam style strictuml\r\n",
       "skinparam maxMessageSize 100\r\n",
       "top to bottom direction\r\n",
       "skinparam monochrome true\r\n",
       "skinparam classbackgroundcolor white\r\n",
       "skinparam shadowing false\r\n",
       "skinparam wrapWidth 300\r\n",
       "hide circle\r\n",
       "\r\n",
       "@enduml\r\n",
       "\n",
       "PlantUML version 1.2020.13(Sat Jun 13 12:26:38 UTC 2020)\n",
       "(EPL source distribution)\n",
       "Java Runtime: OpenJDK Runtime Environment\n",
       "JVM: OpenJDK 64-Bit Server VM\n",
       "Default Encoding: UTF-8\n",
       "Language: en\n",
       "Country: null\n",
       "--></g></svg>"
      ]
     },
     "execution_count": 49,
     "metadata": {},
     "output_type": "execute_result"
    }
   ],
   "source": [
    "%viz --style=\"TB\" --view=\"Sequence\" \"TradeStudyTest\""
   ]
  },
  {
   "cell_type": "code",
   "execution_count": 50,
   "id": "9a92353a",
   "metadata": {
    "execution": {
     "iopub.execute_input": "2022-02-18T10:50:38.541857Z",
     "iopub.status.busy": "2022-02-18T10:50:38.541459Z",
     "iopub.status.idle": "2022-02-18T10:50:38.579355Z",
     "shell.execute_reply": "2022-02-18T10:50:38.577987Z"
    }
   },
   "outputs": [
    {
     "data": {
      "image/svg+xml": [
       "<?xml version=\"1.0\" encoding=\"UTF-8\" standalone=\"no\"?><svg xmlns=\"http://www.w3.org/2000/svg\" xmlns:xlink=\"http://www.w3.org/1999/xlink\" contentScriptType=\"application/ecmascript\" contentStyleType=\"text/css\" height=\"545px\" preserveAspectRatio=\"none\" style=\"width:566px;height:545px;\" version=\"1.1\" viewBox=\"0 0 566 545\" width=\"566px\" zoomAndPan=\"magnify\"><defs/><g><!--MD5=[fbc87193dbaf4d95561dea2c320d4a47]\n",
       "cluster E1--><a href=\"psysml:9d3e1c5c-e45c-4a85-8e75-4ee823ac8fbf\" target=\"_top\" title=\"psysml:9d3e1c5c-e45c-4a85-8e75-4ee823ac8fbf\" xlink:actuate=\"onRequest\" xlink:href=\"psysml:9d3e1c5c-e45c-4a85-8e75-4ee823ac8fbf\" xlink:show=\"new\" xlink:title=\"psysml:9d3e1c5c-e45c-4a85-8e75-4ee823ac8fbf\" xlink:type=\"simple\"><polygon fill=\"#FFFFFF\" points=\"16,6,132,6,139,28.2969,544,28.2969,544,533,16,533,16,6\" style=\"stroke: #000000; stroke-width: 1.5;\"/><line style=\"stroke: #000000; stroke-width: 1.5;\" x1=\"16\" x2=\"139\" y1=\"28.2969\" y2=\"28.2969\"/><text fill=\"#000000\" font-family=\"sans-serif\" font-size=\"14\" font-weight=\"bold\" lengthAdjust=\"spacingAndGlyphs\" textLength=\"110\" x=\"20\" y=\"20.9951\">TradeStudyTest</text></a><!--MD5=[de5ec2e2e8f62f467e546659f5068c88]\n",
       "cluster E5--><a href=\"psysml:e12e8838-d64a-4336-9e52-2de97357eae2\" target=\"_top\" title=\"psysml:e12e8838-d64a-4336-9e52-2de97357eae2\" xlink:actuate=\"onRequest\" xlink:href=\"psysml:e12e8838-d64a-4336-9e52-2de97357eae2\" xlink:show=\"new\" xlink:title=\"psysml:e12e8838-d64a-4336-9e52-2de97357eae2\" xlink:type=\"simple\"><rect fill=\"#FFFFFF\" height=\"129\" id=\"E5\" rx=\"10\" ry=\"10\" style=\"stroke: #383838; stroke-width: 1.5;\" width=\"199\" x=\"238\" y=\"57\"/><rect fill=\"#F8F8F8\" height=\"37.9375\" rx=\"10\" ry=\"10\" style=\"stroke: #F8F8F8; stroke-width: 1.5;\" width=\"199\" x=\"238\" y=\"57\"/><rect fill=\"#F8F8F8\" height=\"10\" style=\"stroke: #F8F8F8; stroke-width: 1.5;\" width=\"199\" x=\"238\" y=\"84.9375\"/><rect fill=\"none\" height=\"129\" id=\"E5\" rx=\"10\" ry=\"10\" style=\"stroke: #383838; stroke-width: 1.5;\" width=\"199\" x=\"238\" y=\"57\"/><text fill=\"#000000\" font-family=\"sans-serif\" font-size=\"12\" font-style=\"italic\" lengthAdjust=\"spacingAndGlyphs\" textLength=\"64\" x=\"305.5\" y=\"73.1387\">«analysis»</text><text fill=\"#000000\" font-family=\"sans-serif\" font-size=\"12\" lengthAdjust=\"spacingAndGlyphs\" textLength=\"114\" x=\"280.5\" y=\"87.1074\">engineTradeStudy</text><line style=\"stroke: #383838; stroke-width: 1.0;\" x1=\"238\" x2=\"437\" y1=\"94.9375\" y2=\"94.9375\"/></a><!--MD5=[b4997ac47864f28c2f74865a473b2911]\n",
       "class E2--><a href=\"psysml:956f1300-60cf-48ef-8161-7a381ae0bb8c\" target=\"_top\" title=\"psysml:956f1300-60cf-48ef-8161-7a381ae0bb8c\" xlink:actuate=\"onRequest\" xlink:href=\"psysml:956f1300-60cf-48ef-8161-7a381ae0bb8c\" xlink:show=\"new\" xlink:title=\"psysml:956f1300-60cf-48ef-8161-7a381ae0bb8c\" xlink:type=\"simple\"><rect fill=\"#FFFFFF\" height=\"45.9375\" id=\"E2\" style=\"stroke: #383838; stroke-width: 1.5;\" width=\"70\" x=\"292\" y=\"471\"/><text fill=\"#000000\" font-family=\"sans-serif\" font-size=\"12\" font-style=\"italic\" lengthAdjust=\"spacingAndGlyphs\" textLength=\"68\" x=\"293\" y=\"487.1387\">«part  def»</text><text fill=\"#000000\" font-family=\"sans-serif\" font-size=\"12\" lengthAdjust=\"spacingAndGlyphs\" textLength=\"43\" x=\"305.5\" y=\"501.1074\">Engine</text><line style=\"stroke: #383838; stroke-width: 1.5;\" x1=\"293\" x2=\"361\" y1=\"508.9375\" y2=\"508.9375\"/></a><!--MD5=[09b614a08d8cba4a07c9adeb5e0fee81]\n",
       "class E3--><a href=\"psysml:5ff7a686-dab8-41cf-8031-b7dccb26607b\" target=\"_top\" title=\"psysml:5ff7a686-dab8-41cf-8031-b7dccb26607b\" xlink:actuate=\"onRequest\" xlink:href=\"psysml:5ff7a686-dab8-41cf-8031-b7dccb26607b\" xlink:show=\"new\" xlink:title=\"psysml:5ff7a686-dab8-41cf-8031-b7dccb26607b\" xlink:type=\"simple\"><rect fill=\"#FFFFFF\" height=\"45.9375\" id=\"E3\" rx=\"10\" ry=\"10\" style=\"stroke: #383838; stroke-width: 1.5;\" width=\"112\" x=\"179\" y=\"364\"/><text fill=\"#000000\" font-family=\"sans-serif\" font-size=\"12\" font-style=\"italic\" lengthAdjust=\"spacingAndGlyphs\" textLength=\"40\" x=\"215\" y=\"380.1387\">«part»</text><text fill=\"#000000\" font-family=\"sans-serif\" font-size=\"12\" lengthAdjust=\"spacingAndGlyphs\" textLength=\"102\" x=\"182\" y=\"394.1074\">engine1: Engine</text><line style=\"stroke: #383838; stroke-width: 1.5;\" x1=\"180\" x2=\"290\" y1=\"401.9375\" y2=\"401.9375\"/></a><!--MD5=[ebbe1d658d1005bcc118a6aa81145e00]\n",
       "class E4--><a href=\"psysml:44e88bb9-9b84-4b3f-b104-23d7a257fb04\" target=\"_top\" title=\"psysml:44e88bb9-9b84-4b3f-b104-23d7a257fb04\" xlink:actuate=\"onRequest\" xlink:href=\"psysml:44e88bb9-9b84-4b3f-b104-23d7a257fb04\" xlink:show=\"new\" xlink:title=\"psysml:44e88bb9-9b84-4b3f-b104-23d7a257fb04\" xlink:type=\"simple\"><rect fill=\"#FFFFFF\" height=\"45.9375\" id=\"E4\" rx=\"10\" ry=\"10\" style=\"stroke: #383838; stroke-width: 1.5;\" width=\"112\" x=\"32\" y=\"364\"/><text fill=\"#000000\" font-family=\"sans-serif\" font-size=\"12\" font-style=\"italic\" lengthAdjust=\"spacingAndGlyphs\" textLength=\"40\" x=\"68\" y=\"380.1387\">«part»</text><text fill=\"#000000\" font-family=\"sans-serif\" font-size=\"12\" lengthAdjust=\"spacingAndGlyphs\" textLength=\"102\" x=\"35\" y=\"394.1074\">engine2: Engine</text><line style=\"stroke: #383838; stroke-width: 1.5;\" x1=\"33\" x2=\"143\" y1=\"401.9375\" y2=\"401.9375\"/></a><!--MD5=[2156ba9850f5573cc1fc38a6a4b2f02b]\n",
       "class E7--><a href=\"psysml:1fa3686a-6014-4c73-9542-2575e26fd8a7\" target=\"_top\" title=\"psysml:1fa3686a-6014-4c73-9542-2575e26fd8a7\" xlink:actuate=\"onRequest\" xlink:href=\"psysml:1fa3686a-6014-4c73-9542-2575e26fd8a7\" xlink:show=\"new\" xlink:title=\"psysml:1fa3686a-6014-4c73-9542-2575e26fd8a7\" xlink:type=\"simple\"><rect fill=\"#FFFFFF\" height=\"45.9375\" id=\"E7\" rx=\"10\" ry=\"10\" style=\"stroke: #383838; stroke-width: 1.5;\" width=\"129\" x=\"181.5\" y=\"241\"/><text fill=\"#000000\" font-family=\"sans-serif\" font-size=\"12\" font-style=\"italic\" lengthAdjust=\"spacingAndGlyphs\" textLength=\"82\" x=\"205\" y=\"257.1387\">«calculation»</text><text fill=\"#000000\" font-family=\"sans-serif\" font-size=\"12\" lengthAdjust=\"spacingAndGlyphs\" textLength=\"119\" x=\"184.5\" y=\"271.1074\">evaluationFunction</text><line style=\"stroke: #383838; stroke-width: 1.5;\" x1=\"182.5\" x2=\"309.5\" y1=\"278.9375\" y2=\"278.9375\"/></a><!--MD5=[b9389687b975829384b498ac4b7476b2]\n",
       "class E8--><a href=\"psysml:79c1d929-0a70-426e-ae6d-56e5e3e776a6\" target=\"_top\" title=\"psysml:79c1d929-0a70-426e-ae6d-56e5e3e776a6\" xlink:actuate=\"onRequest\" xlink:href=\"psysml:79c1d929-0a70-426e-ae6d-56e5e3e776a6\" xlink:show=\"new\" xlink:title=\"psysml:79c1d929-0a70-426e-ae6d-56e5e3e776a6\" xlink:type=\"simple\"><rect fill=\"#FFFFFF\" height=\"45.9375\" id=\"E8\" rx=\"10\" ry=\"10\" style=\"stroke: #383838; stroke-width: 1.5;\" width=\"128\" x=\"363\" y=\"364\"/><text fill=\"#000000\" font-family=\"sans-serif\" font-size=\"12\" font-style=\"italic\" lengthAdjust=\"spacingAndGlyphs\" textLength=\"40\" x=\"407\" y=\"380.1387\">«part»</text><text fill=\"#000000\" font-family=\"sans-serif\" font-size=\"12\" lengthAdjust=\"spacingAndGlyphs\" textLength=\"118\" x=\"366\" y=\"394.1074\">alternative: Engine</text><line style=\"stroke: #383838; stroke-width: 1.5;\" x1=\"364\" x2=\"490\" y1=\"401.9375\" y2=\"401.9375\"/></a><!--MD5=[fd4143e9d270a159db93a4ea2a975926]\n",
       "class E9--><a href=\"psysml:169f456a-e384-47f5-89e9-43fd13dd17eb\" target=\"_top\" title=\"psysml:169f456a-e384-47f5-89e9-43fd13dd17eb\" xlink:actuate=\"onRequest\" xlink:href=\"psysml:169f456a-e384-47f5-89e9-43fd13dd17eb\" xlink:show=\"new\" xlink:title=\"psysml:169f456a-e384-47f5-89e9-43fd13dd17eb\" xlink:type=\"simple\"><rect fill=\"#FFFFFF\" height=\"45.9375\" id=\"E9\" rx=\"10\" ry=\"10\" style=\"stroke: #383838; stroke-width: 1.5;\" width=\"182\" x=\"346\" y=\"241\"/><text fill=\"#000000\" font-family=\"sans-serif\" font-size=\"12\" font-style=\"italic\" lengthAdjust=\"spacingAndGlyphs\" textLength=\"40\" x=\"417\" y=\"257.1387\">«part»</text><text fill=\"#000000\" font-family=\"sans-serif\" font-size=\"12\" lengthAdjust=\"spacingAndGlyphs\" textLength=\"172\" x=\"349\" y=\"271.1074\">selectedAlternative: Engine</text><line style=\"stroke: #383838; stroke-width: 1.5;\" x1=\"347\" x2=\"527\" y1=\"278.9375\" y2=\"278.9375\"/></a><!--MD5=[60a26617385b1d2d0262a64233df1f8d]\n",
       "class E6--><a href=\"psysml:9a804e4d-bc47-4ee7-a2d8-d8527e0c1caf\" target=\"_top\" title=\"psysml:9a804e4d-bc47-4ee7-a2d8-d8527e0c1caf\" xlink:actuate=\"onRequest\" xlink:href=\"psysml:9a804e4d-bc47-4ee7-a2d8-d8527e0c1caf\" xlink:show=\"new\" xlink:title=\"psysml:9a804e4d-bc47-4ee7-a2d8-d8527e0c1caf\" xlink:type=\"simple\"><rect fill=\"#FFFFFF\" height=\"45.9375\" id=\"E6\" rx=\"10\" ry=\"10\" style=\"stroke: #383838; stroke-width: 1.5;\" width=\"132\" x=\"281\" y=\"116\"/><text fill=\"#000000\" font-family=\"sans-serif\" font-size=\"12\" font-style=\"italic\" lengthAdjust=\"spacingAndGlyphs\" textLength=\"70\" x=\"312\" y=\"132.1387\">«objective»</text><text fill=\"#000000\" font-family=\"sans-serif\" font-size=\"12\" lengthAdjust=\"spacingAndGlyphs\" textLength=\"126\" x=\"284\" y=\"146.1074\">tradeStudyObjective</text><line style=\"stroke: #383838; stroke-width: 1.5;\" x1=\"282\" x2=\"412\" y1=\"153.9375\" y2=\"153.9375\"/></a><!--MD5=[05d275557350bfb9b23a4ef7222b4c39]\n",
       "link E3 to E2--><a href=\"psysml:9be21745-fec5-4980-9af6-b796782d7969\" target=\"_top\" title=\"psysml:9be21745-fec5-4980-9af6-b796782d7969\" xlink:actuate=\"onRequest\" xlink:href=\"psysml:9be21745-fec5-4980-9af6-b796782d7969\" xlink:show=\"new\" xlink:title=\"psysml:9be21745-fec5-4980-9af6-b796782d7969\" xlink:type=\"simple\"><path d=\"M254.29,410.01 C265.74,423.08 280.57,440.01 293.86,455.17 \" fill=\"none\" id=\"E3-&gt;E2\" style=\"stroke: #383838; stroke-width: 1.0;\"/><polygon fill=\"#FFFFFF\" points=\"307.42,470.66,289.6319,460.9861,300.1599,451.7578,307.42,470.66\" style=\"stroke: #383838; stroke-width: 1.0;\"/><ellipse cx=\"287.3787\" cy=\"455.3814\" fill=\"#383838\" rx=\"2\" ry=\"2\" style=\"stroke: #383838; stroke-width: 1.0;\"/><ellipse cx=\"294.8987\" cy=\"448.7898\" fill=\"#383838\" rx=\"2\" ry=\"2\" style=\"stroke: #383838; stroke-width: 1.0;\"/></a><!--MD5=[185131fc0dcab0a4505a2ebe144e961b]\n",
       "link E4 to E2--><a href=\"psysml:1ad537aa-bda6-4221-a392-6db0b9fa994b\" target=\"_top\" title=\"psysml:1ad537aa-bda6-4221-a392-6db0b9fa994b\" xlink:actuate=\"onRequest\" xlink:href=\"psysml:1ad537aa-bda6-4221-a392-6db0b9fa994b\" xlink:show=\"new\" xlink:title=\"psysml:1ad537aa-bda6-4221-a392-6db0b9fa994b\" xlink:type=\"simple\"><path d=\"M138.1,410.01 C177.63,427.38 232.65,451.55 273.12,469.33 \" fill=\"none\" id=\"E4-&gt;E2\" style=\"stroke: #383838; stroke-width: 1.0;\"/><polygon fill=\"#FFFFFF\" points=\"291.69,477.49,271.479,476.2594,277.1083,463.4411,291.69,477.49\" style=\"stroke: #383838; stroke-width: 1.0;\"/><ellipse cx=\"267.0642\" cy=\"472.1363\" fill=\"#383838\" rx=\"2\" ry=\"2\" style=\"stroke: #383838; stroke-width: 1.0;\"/><ellipse cx=\"271.0852\" cy=\"462.9803\" fill=\"#383838\" rx=\"2\" ry=\"2\" style=\"stroke: #383838; stroke-width: 1.0;\"/></a><!--MD5=[15ebcb19ae302d9b601edb458606d402]\n",
       "link E5 to E2--><a href=\"psysml:ef23f2a8-b555-4000-b8d1-a9fc8ea83129\" target=\"_top\" title=\"psysml:ef23f2a8-b555-4000-b8d1-a9fc8ea83129\" xlink:actuate=\"onRequest\" xlink:href=\"psysml:ef23f2a8-b555-4000-b8d1-a9fc8ea83129\" xlink:show=\"new\" xlink:title=\"psysml:ef23f2a8-b555-4000-b8d1-a9fc8ea83129\" xlink:type=\"simple\"><path d=\"M237.7204,146.0763 C237.4768,146.2621 237.2287,146.4518 236.9763,146.6454 C235.9668,147.4197 234.8879,148.2561 233.748,149.1518 C231.4682,150.943 228.9441,152.9709 226.2406,155.2119 C215.4269,164.1756 201.745,176.5475 189.3625,190.8125 C164.5975,219.3425 145.03,255.445 164,287 C166.35,290.91 306.39,360.26 309,364 C329.99,394 331.63,437.66 330,465.69 \" fill=\"none\" id=\"E5-&gt;E2\" style=\"stroke: #383838; stroke-width: 1.0; stroke-dasharray: 7.0,7.0;\"/><polygon fill=\"#383838\" points=\"329.66,470.74,334.268,462.0356,330.003,465.7518,326.2869,461.4868,329.66,470.74\" style=\"stroke: #383838; stroke-width: 1.0;\"/><text fill=\"#000000\" font-family=\"sans-serif\" font-size=\"13\" lengthAdjust=\"spacingAndGlyphs\" textLength=\"62\" x=\"253\" y=\"330.0669\">«subject»</text></a><!--MD5=[452b418e7f8a40397a49b8c0a78acc5b]\n",
       "reverse link E5 to E7--><a href=\"psysml:3495a436-635c-4195-be5e-85a5d126f0e1\" target=\"_top\" title=\"psysml:3495a436-635c-4195-be5e-85a5d126f0e1\" xlink:actuate=\"onRequest\" xlink:href=\"psysml:3495a436-635c-4195-be5e-85a5d126f0e1\" xlink:show=\"new\" xlink:title=\"psysml:3495a436-635c-4195-be5e-85a5d126f0e1\" xlink:type=\"simple\"><path d=\"M246,186.2997 C246,188.9655 246,191.6719 246,194.3971 C246,199.8476 246,205.3735 246,210.8005 C246,221.6544 246,232.1125 246,240.78 \" fill=\"none\" id=\"E5&lt;-E7\" style=\"stroke: #383838; stroke-width: 1.0;\"/><polygon fill=\"#383838\" points=\"246,186.2997,242,192.2997,246,198.2997,250,192.2997,246,186.2997\" style=\"stroke: #383838; stroke-width: 1.0;\"/></a><!--MD5=[dc164f5e8a733ab456ef1add180e9e34]\n",
       "reverse link E7 to E8--><a href=\"psysml:e1d2632c-68a4-476d-b3ed-d8b6d2aaac51\" target=\"_top\" title=\"psysml:e1d2632c-68a4-476d-b3ed-d8b6d2aaac51\" xlink:actuate=\"onRequest\" xlink:href=\"psysml:e1d2632c-68a4-476d-b3ed-d8b6d2aaac51\" xlink:show=\"new\" xlink:title=\"psysml:e1d2632c-68a4-476d-b3ed-d8b6d2aaac51\" xlink:type=\"simple\"><path d=\"M290.06,294.45 C322.12,315.89 364.86,344.46 394.01,363.95 \" fill=\"none\" id=\"E7&lt;-E8\" style=\"stroke: #383838; stroke-width: 1.0;\"/><polygon fill=\"#FFFFFF\" points=\"279.2,287.19,281.9674,293.8489,289.1785,293.8555,286.4111,287.1966,279.2,287.19\" style=\"stroke: #383838; stroke-width: 1.0;\"/><text fill=\"#000000\" font-family=\"sans-serif\" font-size=\"13\" lengthAdjust=\"spacingAndGlyphs\" textLength=\"8\" x=\"376.0689\" y=\"352.8328\">1</text></a><!--MD5=[f1f3f9f2fc535e6147756cb86a7f2e32]\n",
       "link E8 to E2--><a href=\"psysml:a8ae8a0d-ad52-4d9e-986d-0c741d3467c2\" target=\"_top\" title=\"psysml:a8ae8a0d-ad52-4d9e-986d-0c741d3467c2\" xlink:actuate=\"onRequest\" xlink:href=\"psysml:a8ae8a0d-ad52-4d9e-986d-0c741d3467c2\" xlink:show=\"new\" xlink:title=\"psysml:a8ae8a0d-ad52-4d9e-986d-0c741d3467c2\" xlink:type=\"simple\"><path d=\"M406.04,410.01 C393.32,423.36 376.77,440.74 362.11,456.14 \" fill=\"none\" id=\"E8-&gt;E2\" style=\"stroke: #383838; stroke-width: 1.0;\"/><polygon fill=\"#FFFFFF\" points=\"348.28,470.66,356.3076,452.0708,366.4491,461.7223,348.28,470.66\" style=\"stroke: #383838; stroke-width: 1.0;\"/><ellipse cx=\"361.6859\" cy=\"449.3206\" fill=\"#383838\" rx=\"2\" ry=\"2\" style=\"stroke: #383838; stroke-width: 1.0;\"/><ellipse cx=\"368.9298\" cy=\"456.2144\" fill=\"#383838\" rx=\"2\" ry=\"2\" style=\"stroke: #383838; stroke-width: 1.0;\"/></a><!--MD5=[9ae28de373ca99bb8a1b38d63370ca7e]\n",
       "reverse link E5 to E9--><a href=\"psysml:1023028c-00c5-4dde-9329-e4b02befe1ab\" target=\"_top\" title=\"psysml:1023028c-00c5-4dde-9329-e4b02befe1ab\" xlink:actuate=\"onRequest\" xlink:href=\"psysml:1023028c-00c5-4dde-9329-e4b02befe1ab\" xlink:show=\"new\" xlink:title=\"psysml:1023028c-00c5-4dde-9329-e4b02befe1ab\" xlink:type=\"simple\"><path d=\"M254.7949,186.3026 C254.8401,186.4038 254.8856,186.5049 254.9313,186.6059 C255.2966,187.4138 255.6769,188.215 256.0726,189.0077 C256.8641,190.5933 257.7176,192.1452 258.6379,193.6498 C260.4784,196.6589 262.5863,199.4788 265,202 C278.04,215.62 316.12,229.75 353.15,240.99 \" fill=\"none\" id=\"E5&lt;-E9\" style=\"stroke: #383838; stroke-width: 1.0;\"/><polygon fill=\"#FFFFFF\" points=\"254.7949,186.3026,253.5901,193.4123,259.6895,197.259,260.8944,190.1493,254.7949,186.3026\" style=\"stroke: #383838; stroke-width: 1.0;\"/><text fill=\"#000000\" font-family=\"sans-serif\" font-size=\"13\" lengthAdjust=\"spacingAndGlyphs\" textLength=\"8\" x=\"330.0508\" y=\"232.8298\">1</text></a><!--MD5=[5c3bb36fe832a92c7f0e1807dd65209d]\n",
       "link E9 to E2--><a href=\"psysml:d6cd1bf0-a8ac-42a9-91c6-4adc5d4642e7\" target=\"_top\" title=\"psysml:d6cd1bf0-a8ac-42a9-91c6-4adc5d4642e7\" xlink:actuate=\"onRequest\" xlink:href=\"psysml:d6cd1bf0-a8ac-42a9-91c6-4adc5d4642e7\" xlink:show=\"new\" xlink:title=\"psysml:d6cd1bf0-a8ac-42a9-91c6-4adc5d4642e7\" xlink:type=\"simple\"><path d=\"M462.31,287.19 C492.44,316.36 535.53,368.75 509,410 C481.16,453.3 424.53,474.29 381.79,484.28 \" fill=\"none\" id=\"E9-&gt;E2\" style=\"stroke: #383838; stroke-width: 1.0;\"/><polygon fill=\"#FFFFFF\" points=\"362.12,488.35,379.3051,477.6415,382.1449,491.3505,362.12,488.35\" style=\"stroke: #383838; stroke-width: 1.0;\"/><ellipse cx=\"385.2923\" cy=\"478.4438\" fill=\"#383838\" rx=\"2\" ry=\"2\" style=\"stroke: #383838; stroke-width: 1.0;\"/><ellipse cx=\"387.3207\" cy=\"488.2359\" fill=\"#383838\" rx=\"2\" ry=\"2\" style=\"stroke: #383838; stroke-width: 1.0;\"/></a><!--MD5=[f1318d2b634ec940c604069dce7e9da1]\n",
       "@startuml\r\n",
       "top to bottom direction\r\n",
       "skinparam monochrome true\r\n",
       "skinparam classbackgroundcolor white\r\n",
       "skinparam shadowing false\r\n",
       "skinparam wrapWidth 300\r\n",
       "hide circle\r\n",
       "\r\n",
       "package \"TradeStudyTest\" as E1  [[psysml:9d3e1c5c-e45c-4a85-8e75-4ee823ac8fbf ]]  {\r\n",
       "comp def \"Engine\" as E2  <<(T,blue) part  def>> [[psysml:956f1300-60cf-48ef-8161-7a381ae0bb8c ]] {\r\n",
       "}\r\n",
       "comp usage \"engine1: Engine \" as E3  <<(T,blue) part>> [[psysml:5ff7a686-dab8-41cf-8031-b7dccb26607b ]] {\r\n",
       "}\r\n",
       "comp usage \"engine2: Engine \" as E4  <<(T,blue) part>> [[psysml:44e88bb9-9b84-4b3f-b104-23d7a257fb04 ]] {\r\n",
       "}\r\n",
       "rec usage \"engineTradeStudy\" as E5 << analysis>> [[psysml:e12e8838-d64a-4336-9e52-2de97357eae2 ]] {\r\n",
       "comp usage \"tradeStudyObjective\" as E6  <<objective>> [[psysml:9a804e4d-bc47-4ee7-a2d8-d8527e0c1caf ]] {\r\n",
       "}\r\n",
       "}\r\n",
       "comp usage \"evaluationFunction \" as E7  <<(T,blue) calculation>> [[psysml:1fa3686a-6014-4c73-9542-2575e26fd8a7 ]] {\r\n",
       "}\r\n",
       "comp usage \"alternative: Engine \" as E8  <<(T,blue) part>> [[psysml:79c1d929-0a70-426e-ae6d-56e5e3e776a6 ]] {\r\n",
       "}\r\n",
       "comp usage \"selectedAlternative: Engine \" as E9  <<(T,blue) part>> [[psysml:169f456a-e384-47f5-89e9-43fd13dd17eb ]] {\r\n",
       "}\r\n",
       "}\r\n",
       "E3 - -:|> E2 [[psysml:9be21745-fec5-4980-9af6-b796782d7969 ]] \r\n",
       "E4 - -:|> E2 [[psysml:1ad537aa-bda6-4221-a392-6db0b9fa994b ]] \r\n",
       "E5 ..> E2 [[psysml:ef23f2a8-b555-4000-b8d1-a9fc8ea83129 ]] : <<subject>>\r\n",
       "E5 *- - E7 [[psysml:3495a436-635c-4195-be5e-85a5d126f0e1 ]] \r\n",
       "E7 o- - \"1\"E8 [[psysml:e1d2632c-68a4-476d-b3ed-d8b6d2aaac51 ]] \r\n",
       "E8 - -:|> E2 [[psysml:a8ae8a0d-ad52-4d9e-986d-0c741d3467c2 ]] \r\n",
       "E5 o- - \"1\"E9 [[psysml:1023028c-00c5-4dde-9329-e4b02befe1ab ]] \r\n",
       "E9 - -:|> E2 [[psysml:d6cd1bf0-a8ac-42a9-91c6-4adc5d4642e7 ]] \r\n",
       "@enduml\r\n",
       "\n",
       "PlantUML version 1.2020.13(Sat Jun 13 12:26:38 UTC 2020)\n",
       "(EPL source distribution)\n",
       "Java Runtime: OpenJDK Runtime Environment\n",
       "JVM: OpenJDK 64-Bit Server VM\n",
       "Default Encoding: UTF-8\n",
       "Language: en\n",
       "Country: null\n",
       "--></g></svg>"
      ]
     },
     "execution_count": 50,
     "metadata": {},
     "output_type": "execute_result"
    }
   ],
   "source": [
    "%viz --style=\"TB\" --view=\"MIXED\" \"TradeStudyTest\""
   ]
  },
  {
   "cell_type": "code",
   "execution_count": 51,
   "id": "825b058d",
   "metadata": {
    "execution": {
     "iopub.execute_input": "2022-02-18T10:50:38.628697Z",
     "iopub.status.busy": "2022-02-18T10:50:38.628302Z",
     "iopub.status.idle": "2022-02-18T10:50:38.665951Z",
     "shell.execute_reply": "2022-02-18T10:50:38.664647Z"
    }
   },
   "outputs": [
    {
     "data": {
      "image/svg+xml": [
       "<?xml version=\"1.0\" encoding=\"UTF-8\" standalone=\"no\"?><svg xmlns=\"http://www.w3.org/2000/svg\" xmlns:xlink=\"http://www.w3.org/1999/xlink\" contentScriptType=\"application/ecmascript\" contentStyleType=\"text/css\" height=\"545px\" preserveAspectRatio=\"none\" style=\"width:566px;height:545px;\" version=\"1.1\" viewBox=\"0 0 566 545\" width=\"566px\" zoomAndPan=\"magnify\"><defs/><g><!--MD5=[fbc87193dbaf4d95561dea2c320d4a47]\n",
       "cluster E1--><a href=\"psysml:9d3e1c5c-e45c-4a85-8e75-4ee823ac8fbf\" target=\"_top\" title=\"psysml:9d3e1c5c-e45c-4a85-8e75-4ee823ac8fbf\" xlink:actuate=\"onRequest\" xlink:href=\"psysml:9d3e1c5c-e45c-4a85-8e75-4ee823ac8fbf\" xlink:show=\"new\" xlink:title=\"psysml:9d3e1c5c-e45c-4a85-8e75-4ee823ac8fbf\" xlink:type=\"simple\"><polygon fill=\"#FFFFFF\" points=\"16,6,132,6,139,28.2969,544,28.2969,544,533,16,533,16,6\" style=\"stroke: #000000; stroke-width: 1.5;\"/><line style=\"stroke: #000000; stroke-width: 1.5;\" x1=\"16\" x2=\"139\" y1=\"28.2969\" y2=\"28.2969\"/><text fill=\"#000000\" font-family=\"sans-serif\" font-size=\"14\" font-weight=\"bold\" lengthAdjust=\"spacingAndGlyphs\" textLength=\"110\" x=\"20\" y=\"20.9951\">TradeStudyTest</text></a><!--MD5=[de5ec2e2e8f62f467e546659f5068c88]\n",
       "cluster E5--><a href=\"psysml:e12e8838-d64a-4336-9e52-2de97357eae2\" target=\"_top\" title=\"psysml:e12e8838-d64a-4336-9e52-2de97357eae2\" xlink:actuate=\"onRequest\" xlink:href=\"psysml:e12e8838-d64a-4336-9e52-2de97357eae2\" xlink:show=\"new\" xlink:title=\"psysml:e12e8838-d64a-4336-9e52-2de97357eae2\" xlink:type=\"simple\"><rect fill=\"#FFFFFF\" height=\"129\" id=\"E5\" rx=\"10\" ry=\"10\" style=\"stroke: #383838; stroke-width: 1.5;\" width=\"199\" x=\"238\" y=\"57\"/><rect fill=\"#F8F8F8\" height=\"37.9375\" rx=\"10\" ry=\"10\" style=\"stroke: #F8F8F8; stroke-width: 1.5;\" width=\"199\" x=\"238\" y=\"57\"/><rect fill=\"#F8F8F8\" height=\"10\" style=\"stroke: #F8F8F8; stroke-width: 1.5;\" width=\"199\" x=\"238\" y=\"84.9375\"/><rect fill=\"none\" height=\"129\" id=\"E5\" rx=\"10\" ry=\"10\" style=\"stroke: #383838; stroke-width: 1.5;\" width=\"199\" x=\"238\" y=\"57\"/><text fill=\"#000000\" font-family=\"sans-serif\" font-size=\"12\" font-style=\"italic\" lengthAdjust=\"spacingAndGlyphs\" textLength=\"64\" x=\"305.5\" y=\"73.1387\">«analysis»</text><text fill=\"#000000\" font-family=\"sans-serif\" font-size=\"12\" lengthAdjust=\"spacingAndGlyphs\" textLength=\"114\" x=\"280.5\" y=\"87.1074\">engineTradeStudy</text><line style=\"stroke: #383838; stroke-width: 1.0;\" x1=\"238\" x2=\"437\" y1=\"94.9375\" y2=\"94.9375\"/></a><!--MD5=[b4997ac47864f28c2f74865a473b2911]\n",
       "class E2--><a href=\"psysml:956f1300-60cf-48ef-8161-7a381ae0bb8c\" target=\"_top\" title=\"psysml:956f1300-60cf-48ef-8161-7a381ae0bb8c\" xlink:actuate=\"onRequest\" xlink:href=\"psysml:956f1300-60cf-48ef-8161-7a381ae0bb8c\" xlink:show=\"new\" xlink:title=\"psysml:956f1300-60cf-48ef-8161-7a381ae0bb8c\" xlink:type=\"simple\"><rect fill=\"#FFFFFF\" height=\"45.9375\" id=\"E2\" style=\"stroke: #383838; stroke-width: 1.5;\" width=\"70\" x=\"292\" y=\"471\"/><text fill=\"#000000\" font-family=\"sans-serif\" font-size=\"12\" font-style=\"italic\" lengthAdjust=\"spacingAndGlyphs\" textLength=\"68\" x=\"293\" y=\"487.1387\">«part  def»</text><text fill=\"#000000\" font-family=\"sans-serif\" font-size=\"12\" lengthAdjust=\"spacingAndGlyphs\" textLength=\"43\" x=\"305.5\" y=\"501.1074\">Engine</text><line style=\"stroke: #383838; stroke-width: 1.5;\" x1=\"293\" x2=\"361\" y1=\"508.9375\" y2=\"508.9375\"/></a><!--MD5=[09b614a08d8cba4a07c9adeb5e0fee81]\n",
       "class E3--><a href=\"psysml:5ff7a686-dab8-41cf-8031-b7dccb26607b\" target=\"_top\" title=\"psysml:5ff7a686-dab8-41cf-8031-b7dccb26607b\" xlink:actuate=\"onRequest\" xlink:href=\"psysml:5ff7a686-dab8-41cf-8031-b7dccb26607b\" xlink:show=\"new\" xlink:title=\"psysml:5ff7a686-dab8-41cf-8031-b7dccb26607b\" xlink:type=\"simple\"><rect fill=\"#FFFFFF\" height=\"45.9375\" id=\"E3\" rx=\"10\" ry=\"10\" style=\"stroke: #383838; stroke-width: 1.5;\" width=\"112\" x=\"179\" y=\"364\"/><text fill=\"#000000\" font-family=\"sans-serif\" font-size=\"12\" font-style=\"italic\" lengthAdjust=\"spacingAndGlyphs\" textLength=\"40\" x=\"215\" y=\"380.1387\">«part»</text><text fill=\"#000000\" font-family=\"sans-serif\" font-size=\"12\" lengthAdjust=\"spacingAndGlyphs\" textLength=\"102\" x=\"182\" y=\"394.1074\">engine1: Engine</text><line style=\"stroke: #383838; stroke-width: 1.5;\" x1=\"180\" x2=\"290\" y1=\"401.9375\" y2=\"401.9375\"/></a><!--MD5=[ebbe1d658d1005bcc118a6aa81145e00]\n",
       "class E4--><a href=\"psysml:44e88bb9-9b84-4b3f-b104-23d7a257fb04\" target=\"_top\" title=\"psysml:44e88bb9-9b84-4b3f-b104-23d7a257fb04\" xlink:actuate=\"onRequest\" xlink:href=\"psysml:44e88bb9-9b84-4b3f-b104-23d7a257fb04\" xlink:show=\"new\" xlink:title=\"psysml:44e88bb9-9b84-4b3f-b104-23d7a257fb04\" xlink:type=\"simple\"><rect fill=\"#FFFFFF\" height=\"45.9375\" id=\"E4\" rx=\"10\" ry=\"10\" style=\"stroke: #383838; stroke-width: 1.5;\" width=\"112\" x=\"32\" y=\"364\"/><text fill=\"#000000\" font-family=\"sans-serif\" font-size=\"12\" font-style=\"italic\" lengthAdjust=\"spacingAndGlyphs\" textLength=\"40\" x=\"68\" y=\"380.1387\">«part»</text><text fill=\"#000000\" font-family=\"sans-serif\" font-size=\"12\" lengthAdjust=\"spacingAndGlyphs\" textLength=\"102\" x=\"35\" y=\"394.1074\">engine2: Engine</text><line style=\"stroke: #383838; stroke-width: 1.5;\" x1=\"33\" x2=\"143\" y1=\"401.9375\" y2=\"401.9375\"/></a><!--MD5=[2156ba9850f5573cc1fc38a6a4b2f02b]\n",
       "class E7--><a href=\"psysml:1fa3686a-6014-4c73-9542-2575e26fd8a7\" target=\"_top\" title=\"psysml:1fa3686a-6014-4c73-9542-2575e26fd8a7\" xlink:actuate=\"onRequest\" xlink:href=\"psysml:1fa3686a-6014-4c73-9542-2575e26fd8a7\" xlink:show=\"new\" xlink:title=\"psysml:1fa3686a-6014-4c73-9542-2575e26fd8a7\" xlink:type=\"simple\"><rect fill=\"#FFFFFF\" height=\"45.9375\" id=\"E7\" rx=\"10\" ry=\"10\" style=\"stroke: #383838; stroke-width: 1.5;\" width=\"129\" x=\"181.5\" y=\"241\"/><text fill=\"#000000\" font-family=\"sans-serif\" font-size=\"12\" font-style=\"italic\" lengthAdjust=\"spacingAndGlyphs\" textLength=\"82\" x=\"205\" y=\"257.1387\">«calculation»</text><text fill=\"#000000\" font-family=\"sans-serif\" font-size=\"12\" lengthAdjust=\"spacingAndGlyphs\" textLength=\"119\" x=\"184.5\" y=\"271.1074\">evaluationFunction</text><line style=\"stroke: #383838; stroke-width: 1.5;\" x1=\"182.5\" x2=\"309.5\" y1=\"278.9375\" y2=\"278.9375\"/></a><!--MD5=[b9389687b975829384b498ac4b7476b2]\n",
       "class E8--><a href=\"psysml:79c1d929-0a70-426e-ae6d-56e5e3e776a6\" target=\"_top\" title=\"psysml:79c1d929-0a70-426e-ae6d-56e5e3e776a6\" xlink:actuate=\"onRequest\" xlink:href=\"psysml:79c1d929-0a70-426e-ae6d-56e5e3e776a6\" xlink:show=\"new\" xlink:title=\"psysml:79c1d929-0a70-426e-ae6d-56e5e3e776a6\" xlink:type=\"simple\"><rect fill=\"#FFFFFF\" height=\"45.9375\" id=\"E8\" rx=\"10\" ry=\"10\" style=\"stroke: #383838; stroke-width: 1.5;\" width=\"128\" x=\"363\" y=\"364\"/><text fill=\"#000000\" font-family=\"sans-serif\" font-size=\"12\" font-style=\"italic\" lengthAdjust=\"spacingAndGlyphs\" textLength=\"40\" x=\"407\" y=\"380.1387\">«part»</text><text fill=\"#000000\" font-family=\"sans-serif\" font-size=\"12\" lengthAdjust=\"spacingAndGlyphs\" textLength=\"118\" x=\"366\" y=\"394.1074\">alternative: Engine</text><line style=\"stroke: #383838; stroke-width: 1.5;\" x1=\"364\" x2=\"490\" y1=\"401.9375\" y2=\"401.9375\"/></a><!--MD5=[fd4143e9d270a159db93a4ea2a975926]\n",
       "class E9--><a href=\"psysml:169f456a-e384-47f5-89e9-43fd13dd17eb\" target=\"_top\" title=\"psysml:169f456a-e384-47f5-89e9-43fd13dd17eb\" xlink:actuate=\"onRequest\" xlink:href=\"psysml:169f456a-e384-47f5-89e9-43fd13dd17eb\" xlink:show=\"new\" xlink:title=\"psysml:169f456a-e384-47f5-89e9-43fd13dd17eb\" xlink:type=\"simple\"><rect fill=\"#FFFFFF\" height=\"45.9375\" id=\"E9\" rx=\"10\" ry=\"10\" style=\"stroke: #383838; stroke-width: 1.5;\" width=\"182\" x=\"346\" y=\"241\"/><text fill=\"#000000\" font-family=\"sans-serif\" font-size=\"12\" font-style=\"italic\" lengthAdjust=\"spacingAndGlyphs\" textLength=\"40\" x=\"417\" y=\"257.1387\">«part»</text><text fill=\"#000000\" font-family=\"sans-serif\" font-size=\"12\" lengthAdjust=\"spacingAndGlyphs\" textLength=\"172\" x=\"349\" y=\"271.1074\">selectedAlternative: Engine</text><line style=\"stroke: #383838; stroke-width: 1.5;\" x1=\"347\" x2=\"527\" y1=\"278.9375\" y2=\"278.9375\"/></a><!--MD5=[60a26617385b1d2d0262a64233df1f8d]\n",
       "class E6--><a href=\"psysml:9a804e4d-bc47-4ee7-a2d8-d8527e0c1caf\" target=\"_top\" title=\"psysml:9a804e4d-bc47-4ee7-a2d8-d8527e0c1caf\" xlink:actuate=\"onRequest\" xlink:href=\"psysml:9a804e4d-bc47-4ee7-a2d8-d8527e0c1caf\" xlink:show=\"new\" xlink:title=\"psysml:9a804e4d-bc47-4ee7-a2d8-d8527e0c1caf\" xlink:type=\"simple\"><rect fill=\"#FFFFFF\" height=\"45.9375\" id=\"E6\" rx=\"10\" ry=\"10\" style=\"stroke: #383838; stroke-width: 1.5;\" width=\"132\" x=\"281\" y=\"116\"/><text fill=\"#000000\" font-family=\"sans-serif\" font-size=\"12\" font-style=\"italic\" lengthAdjust=\"spacingAndGlyphs\" textLength=\"70\" x=\"312\" y=\"132.1387\">«objective»</text><text fill=\"#000000\" font-family=\"sans-serif\" font-size=\"12\" lengthAdjust=\"spacingAndGlyphs\" textLength=\"126\" x=\"284\" y=\"146.1074\">tradeStudyObjective</text><line style=\"stroke: #383838; stroke-width: 1.5;\" x1=\"282\" x2=\"412\" y1=\"153.9375\" y2=\"153.9375\"/></a><!--MD5=[05d275557350bfb9b23a4ef7222b4c39]\n",
       "link E3 to E2--><a href=\"psysml:9be21745-fec5-4980-9af6-b796782d7969\" target=\"_top\" title=\"psysml:9be21745-fec5-4980-9af6-b796782d7969\" xlink:actuate=\"onRequest\" xlink:href=\"psysml:9be21745-fec5-4980-9af6-b796782d7969\" xlink:show=\"new\" xlink:title=\"psysml:9be21745-fec5-4980-9af6-b796782d7969\" xlink:type=\"simple\"><path d=\"M291.41,399 C295.56,399 298.17,399 298.17,399 C298.17,399 298.17,450.52 298.17,450.52 \" fill=\"none\" id=\"E3-&gt;E2\" style=\"stroke: #383838; stroke-width: 1.0;\"/><polygon fill=\"#FFFFFF\" points=\"298.17,470.52,291.17,451.52,305.17,451.52,298.17,470.52\" style=\"stroke: #383838; stroke-width: 1.0;\"/><ellipse cx=\"293.17\" cy=\"445.82\" fill=\"#383838\" rx=\"2\" ry=\"2\" style=\"stroke: #383838; stroke-width: 1.0;\"/><ellipse cx=\"303.17\" cy=\"445.82\" fill=\"#383838\" rx=\"2\" ry=\"2\" style=\"stroke: #383838; stroke-width: 1.0;\"/></a><!--MD5=[185131fc0dcab0a4505a2ebe144e961b]\n",
       "link E4 to E2--><a href=\"psysml:1ad537aa-bda6-4221-a392-6db0b9fa994b\" target=\"_top\" title=\"psysml:1ad537aa-bda6-4221-a392-6db0b9fa994b\" xlink:actuate=\"onRequest\" xlink:href=\"psysml:1ad537aa-bda6-4221-a392-6db0b9fa994b\" xlink:show=\"new\" xlink:title=\"psysml:1ad537aa-bda6-4221-a392-6db0b9fa994b\" xlink:type=\"simple\"><path d=\"M88,410.27 C88,443.88 88,502 88,502 C88,502 271.99,502 271.99,502 \" fill=\"none\" id=\"E4-&gt;E2\" style=\"stroke: #383838; stroke-width: 1.0;\"/><polygon fill=\"#FFFFFF\" points=\"291.99,502,272.99,509,272.99,495,291.99,502\" style=\"stroke: #383838; stroke-width: 1.0;\"/><ellipse cx=\"267.29\" cy=\"507\" fill=\"#383838\" rx=\"2\" ry=\"2\" style=\"stroke: #383838; stroke-width: 1.0;\"/><ellipse cx=\"267.29\" cy=\"497\" fill=\"#383838\" rx=\"2\" ry=\"2\" style=\"stroke: #383838; stroke-width: 1.0;\"/></a><!--MD5=[15ebcb19ae302d9b601edb458606d402]\n",
       "link E5 to E2--><a href=\"psysml:ef23f2a8-b555-4000-b8d1-a9fc8ea83129\" target=\"_top\" title=\"psysml:ef23f2a8-b555-4000-b8d1-a9fc8ea83129\" xlink:actuate=\"onRequest\" xlink:href=\"psysml:ef23f2a8-b555-4000-b8d1-a9fc8ea83129\" xlink:show=\"new\" xlink:title=\"psysml:ef23f2a8-b555-4000-b8d1-a9fc8ea83129\" xlink:type=\"simple\"><path d=\"M237.8435,139 C237.7459,139 237.6475,139 237.5484,139 C236.7558,139 235.9175,139 235.0381,139 C233.2793,139 231.3559,139 229.3038,139 C221.095,139 210.825,139 200.78,139 C180.69,139 161.5,139 161.5,139 C161.5,139 161.5,487 161.5,487 C161.5,487 286.9,487 286.9,487 \" fill=\"none\" id=\"E5-&gt;E2\" style=\"stroke: #383838; stroke-width: 1.0; stroke-dasharray: 7.0,7.0;\"/><polygon fill=\"#383838\" points=\"291.9,487,282.9,483,286.9,487,282.9,491,291.9,487\" style=\"stroke: #383838; stroke-width: 1.0;\"/><text fill=\"#000000\" font-family=\"sans-serif\" font-size=\"13\" lengthAdjust=\"spacingAndGlyphs\" textLength=\"62\" x=\"237\" y=\"330.0669\">«subject»</text></a><!--MD5=[452b418e7f8a40397a49b8c0a78acc5b]\n",
       "reverse link E5 to E7--><a href=\"psysml:3495a436-635c-4195-be5e-85a5d126f0e1\" target=\"_top\" title=\"psysml:3495a436-635c-4195-be5e-85a5d126f0e1\" xlink:actuate=\"onRequest\" xlink:href=\"psysml:3495a436-635c-4195-be5e-85a5d126f0e1\" xlink:show=\"new\" xlink:title=\"psysml:3495a436-635c-4195-be5e-85a5d126f0e1\" xlink:type=\"simple\"><path d=\"M246,186.1625 C246,186.8061 246,187.4521 246,188.1001 C246,190.692 246,193.3162 246,195.9537 C246,201.2287 246,206.5567 246,211.7859 C246,222.2444 246,232.3075 246,240.76 \" fill=\"none\" id=\"E5&lt;-E7\" style=\"stroke: #383838; stroke-width: 1.0;\"/><polygon fill=\"#383838\" points=\"246,186.1625,242,192.1625,246,198.1625,250,192.1625,246,186.1625\" style=\"stroke: #383838; stroke-width: 1.0;\"/></a><!--MD5=[dc164f5e8a733ab456ef1add180e9e34]\n",
       "reverse link E7 to E8--><a href=\"psysml:e1d2632c-68a4-476d-b3ed-d8b6d2aaac51\" target=\"_top\" title=\"psysml:e1d2632c-68a4-476d-b3ed-d8b6d2aaac51\" xlink:actuate=\"onRequest\" xlink:href=\"psysml:e1d2632c-68a4-476d-b3ed-d8b6d2aaac51\" xlink:show=\"new\" xlink:title=\"psysml:e1d2632c-68a4-476d-b3ed-d8b6d2aaac51\" xlink:type=\"simple\"><path d=\"M304.33,300.21 C304.33,300.21 304.33,376 304.33,376 C304.33,376 333.11,376 362.79,376 \" fill=\"none\" id=\"E7&lt;-E8\" style=\"stroke: #383838; stroke-width: 1.0;\"/><polygon fill=\"#FFFFFF\" points=\"304.33,287.21,300.33,293.21,304.33,299.21,308.33,293.21,304.33,287.21\" style=\"stroke: #383838; stroke-width: 1.0;\"/><text fill=\"#000000\" font-family=\"sans-serif\" font-size=\"13\" lengthAdjust=\"spacingAndGlyphs\" textLength=\"8\" x=\"346.9032\" y=\"370.9391\">1</text></a><!--MD5=[f1f3f9f2fc535e6147756cb86a7f2e32]\n",
       "link E8 to E2--><a href=\"psysml:a8ae8a0d-ad52-4d9e-986d-0c741d3467c2\" target=\"_top\" title=\"psysml:a8ae8a0d-ad52-4d9e-986d-0c741d3467c2\" xlink:actuate=\"onRequest\" xlink:href=\"psysml:a8ae8a0d-ad52-4d9e-986d-0c741d3467c2\" xlink:show=\"new\" xlink:title=\"psysml:a8ae8a0d-ad52-4d9e-986d-0c741d3467c2\" xlink:type=\"simple\"><path d=\"M362.66,387 C358.94,387 356.67,387 356.67,387 C356.67,387 356.67,450.78 356.67,450.78 \" fill=\"none\" id=\"E8-&gt;E2\" style=\"stroke: #383838; stroke-width: 1.0;\"/><polygon fill=\"#FFFFFF\" points=\"356.67,470.78,349.67,451.78,363.67,451.78,356.67,470.78\" style=\"stroke: #383838; stroke-width: 1.0;\"/><ellipse cx=\"351.67\" cy=\"446.08\" fill=\"#383838\" rx=\"2\" ry=\"2\" style=\"stroke: #383838; stroke-width: 1.0;\"/><ellipse cx=\"361.67\" cy=\"446.08\" fill=\"#383838\" rx=\"2\" ry=\"2\" style=\"stroke: #383838; stroke-width: 1.0;\"/></a><!--MD5=[9ae28de373ca99bb8a1b38d63370ca7e]\n",
       "reverse link E5 to E9--><a href=\"psysml:1023028c-00c5-4dde-9329-e4b02befe1ab\" target=\"_top\" title=\"psysml:1023028c-00c5-4dde-9329-e4b02befe1ab\" xlink:actuate=\"onRequest\" xlink:href=\"psysml:1023028c-00c5-4dde-9329-e4b02befe1ab\" xlink:show=\"new\" xlink:title=\"psysml:1023028c-00c5-4dde-9329-e4b02befe1ab\" xlink:type=\"simple\"><path d=\"M437.3743,98 C438.0181,98 438.6548,98 439.2842,98 C440.5431,98 441.7729,98 442.9719,98 C445.3698,98 447.6444,98 449.782,98 C454.0571,98 457.7842,98 460.8535,98 C466.9922,98 470.5,98 470.5,98 C470.5,98 470.5,195.31 470.5,240.92 \" fill=\"none\" id=\"E5&lt;-E9\" style=\"stroke: #383838; stroke-width: 1.0;\"/><polygon fill=\"#FFFFFF\" points=\"437.3743,98,443.3743,102,449.3743,98,443.3743,94,437.3743,98\" style=\"stroke: #383838; stroke-width: 1.0;\"/><text fill=\"#000000\" font-family=\"sans-serif\" font-size=\"13\" lengthAdjust=\"spacingAndGlyphs\" textLength=\"8\" x=\"470.4281\" y=\"229.7948\">1</text></a><!--MD5=[5c3bb36fe832a92c7f0e1807dd65209d]\n",
       "link E9 to E2--><a href=\"psysml:d6cd1bf0-a8ac-42a9-91c6-4adc5d4642e7\" target=\"_top\" title=\"psysml:d6cd1bf0-a8ac-42a9-91c6-4adc5d4642e7\" xlink:actuate=\"onRequest\" xlink:href=\"psysml:d6cd1bf0-a8ac-42a9-91c6-4adc5d4642e7\" xlink:show=\"new\" xlink:title=\"psysml:d6cd1bf0-a8ac-42a9-91c6-4adc5d4642e7\" xlink:type=\"simple\"><path d=\"M351.33,287.32 C351.33,287.32 351.33,450.96 351.33,450.96 \" fill=\"none\" id=\"E9-&gt;E2\" style=\"stroke: #383838; stroke-width: 1.0;\"/><polygon fill=\"#FFFFFF\" points=\"351.33,470.96,344.33,451.96,358.33,451.96,351.33,470.96\" style=\"stroke: #383838; stroke-width: 1.0;\"/><ellipse cx=\"346.33\" cy=\"446.26\" fill=\"#383838\" rx=\"2\" ry=\"2\" style=\"stroke: #383838; stroke-width: 1.0;\"/><ellipse cx=\"356.33\" cy=\"446.26\" fill=\"#383838\" rx=\"2\" ry=\"2\" style=\"stroke: #383838; stroke-width: 1.0;\"/></a><!--MD5=[30ec7b94bfccf9820d6596801fde4342]\n",
       "@startuml\r\n",
       "skinparam linetype ortho\r\n",
       "skinparam monochrome true\r\n",
       "skinparam classbackgroundcolor white\r\n",
       "skinparam shadowing false\r\n",
       "skinparam wrapWidth 300\r\n",
       "hide circle\r\n",
       "\r\n",
       "package \"TradeStudyTest\" as E1  [[psysml:9d3e1c5c-e45c-4a85-8e75-4ee823ac8fbf ]]  {\r\n",
       "comp def \"Engine\" as E2  <<(T,blue) part  def>> [[psysml:956f1300-60cf-48ef-8161-7a381ae0bb8c ]] {\r\n",
       "}\r\n",
       "comp usage \"engine1: Engine \" as E3  <<(T,blue) part>> [[psysml:5ff7a686-dab8-41cf-8031-b7dccb26607b ]] {\r\n",
       "}\r\n",
       "comp usage \"engine2: Engine \" as E4  <<(T,blue) part>> [[psysml:44e88bb9-9b84-4b3f-b104-23d7a257fb04 ]] {\r\n",
       "}\r\n",
       "rec usage \"engineTradeStudy\" as E5 << analysis>> [[psysml:e12e8838-d64a-4336-9e52-2de97357eae2 ]] {\r\n",
       "comp usage \"tradeStudyObjective\" as E6  <<objective>> [[psysml:9a804e4d-bc47-4ee7-a2d8-d8527e0c1caf ]] {\r\n",
       "}\r\n",
       "}\r\n",
       "comp usage \"evaluationFunction \" as E7  <<(T,blue) calculation>> [[psysml:1fa3686a-6014-4c73-9542-2575e26fd8a7 ]] {\r\n",
       "}\r\n",
       "comp usage \"alternative: Engine \" as E8  <<(T,blue) part>> [[psysml:79c1d929-0a70-426e-ae6d-56e5e3e776a6 ]] {\r\n",
       "}\r\n",
       "comp usage \"selectedAlternative: Engine \" as E9  <<(T,blue) part>> [[psysml:169f456a-e384-47f5-89e9-43fd13dd17eb ]] {\r\n",
       "}\r\n",
       "}\r\n",
       "E3 - -:|> E2 [[psysml:9be21745-fec5-4980-9af6-b796782d7969 ]] \r\n",
       "E4 - -:|> E2 [[psysml:1ad537aa-bda6-4221-a392-6db0b9fa994b ]] \r\n",
       "E5 ..> E2 [[psysml:ef23f2a8-b555-4000-b8d1-a9fc8ea83129 ]] : <<subject>>\r\n",
       "E5 *- - E7 [[psysml:3495a436-635c-4195-be5e-85a5d126f0e1 ]] \r\n",
       "E7 o- - \"1\"E8 [[psysml:e1d2632c-68a4-476d-b3ed-d8b6d2aaac51 ]] \r\n",
       "E8 - -:|> E2 [[psysml:a8ae8a0d-ad52-4d9e-986d-0c741d3467c2 ]] \r\n",
       "E5 o- - \"1\"E9 [[psysml:1023028c-00c5-4dde-9329-e4b02befe1ab ]] \r\n",
       "E9 - -:|> E2 [[psysml:d6cd1bf0-a8ac-42a9-91c6-4adc5d4642e7 ]] \r\n",
       "@enduml\r\n",
       "\n",
       "PlantUML version 1.2020.13(Sat Jun 13 12:26:38 UTC 2020)\n",
       "(EPL source distribution)\n",
       "Java Runtime: OpenJDK Runtime Environment\n",
       "JVM: OpenJDK 64-Bit Server VM\n",
       "Default Encoding: UTF-8\n",
       "Language: en\n",
       "Country: null\n",
       "--></g></svg>"
      ]
     },
     "execution_count": 51,
     "metadata": {},
     "output_type": "execute_result"
    }
   ],
   "source": [
    "%viz --style=\"ORTHOLINE\" --view=\"Default\" \"TradeStudyTest\""
   ]
  },
  {
   "cell_type": "code",
   "execution_count": 52,
   "id": "fae258ef",
   "metadata": {
    "execution": {
     "iopub.execute_input": "2022-02-18T10:50:38.715350Z",
     "iopub.status.busy": "2022-02-18T10:50:38.714962Z",
     "iopub.status.idle": "2022-02-18T10:50:38.751045Z",
     "shell.execute_reply": "2022-02-18T10:50:38.750699Z"
    }
   },
   "outputs": [
    {
     "data": {
      "image/svg+xml": [
       "<?xml version=\"1.0\" encoding=\"UTF-8\" standalone=\"no\"?><svg xmlns=\"http://www.w3.org/2000/svg\" xmlns:xlink=\"http://www.w3.org/1999/xlink\" contentScriptType=\"application/ecmascript\" contentStyleType=\"text/css\" height=\"497px\" preserveAspectRatio=\"none\" style=\"width:566px;height:497px;\" version=\"1.1\" viewBox=\"0 0 566 497\" width=\"566px\" zoomAndPan=\"magnify\"><defs/><g><!--MD5=[fbc87193dbaf4d95561dea2c320d4a47]\n",
       "cluster E1--><a href=\"psysml:9d3e1c5c-e45c-4a85-8e75-4ee823ac8fbf\" target=\"_top\" title=\"psysml:9d3e1c5c-e45c-4a85-8e75-4ee823ac8fbf\" xlink:actuate=\"onRequest\" xlink:href=\"psysml:9d3e1c5c-e45c-4a85-8e75-4ee823ac8fbf\" xlink:show=\"new\" xlink:title=\"psysml:9d3e1c5c-e45c-4a85-8e75-4ee823ac8fbf\" xlink:type=\"simple\"><polygon fill=\"#FFFFFF\" points=\"16,6,132,6,139,28.2969,544,28.2969,544,485,16,485,16,6\" style=\"stroke: #000000; stroke-width: 1.5;\"/><line style=\"stroke: #000000; stroke-width: 1.5;\" x1=\"16\" x2=\"139\" y1=\"28.2969\" y2=\"28.2969\"/><text fill=\"#000000\" font-family=\"sans-serif\" font-size=\"14\" font-weight=\"bold\" lengthAdjust=\"spacingAndGlyphs\" textLength=\"110\" x=\"20\" y=\"20.9951\">TradeStudyTest</text></a><!--MD5=[b4997ac47864f28c2f74865a473b2911]\n",
       "class E2--><a href=\"psysml:956f1300-60cf-48ef-8161-7a381ae0bb8c\" target=\"_top\" title=\"psysml:956f1300-60cf-48ef-8161-7a381ae0bb8c\" xlink:actuate=\"onRequest\" xlink:href=\"psysml:956f1300-60cf-48ef-8161-7a381ae0bb8c\" xlink:show=\"new\" xlink:title=\"psysml:956f1300-60cf-48ef-8161-7a381ae0bb8c\" xlink:type=\"simple\"><rect fill=\"#FFFFFF\" height=\"45.9375\" id=\"E2\" style=\"stroke: #383838; stroke-width: 1.5;\" width=\"70\" x=\"198\" y=\"423\"/><text fill=\"#000000\" font-family=\"sans-serif\" font-size=\"12\" font-style=\"italic\" lengthAdjust=\"spacingAndGlyphs\" textLength=\"68\" x=\"199\" y=\"439.1387\">«part  def»</text><text fill=\"#000000\" font-family=\"sans-serif\" font-size=\"12\" lengthAdjust=\"spacingAndGlyphs\" textLength=\"43\" x=\"211.5\" y=\"453.1074\">Engine</text><line style=\"stroke: #383838; stroke-width: 1.5;\" x1=\"199\" x2=\"267\" y1=\"460.9375\" y2=\"460.9375\"/></a><!--MD5=[09b614a08d8cba4a07c9adeb5e0fee81]\n",
       "class E3--><a href=\"psysml:5ff7a686-dab8-41cf-8031-b7dccb26607b\" target=\"_top\" title=\"psysml:5ff7a686-dab8-41cf-8031-b7dccb26607b\" xlink:actuate=\"onRequest\" xlink:href=\"psysml:5ff7a686-dab8-41cf-8031-b7dccb26607b\" xlink:show=\"new\" xlink:title=\"psysml:5ff7a686-dab8-41cf-8031-b7dccb26607b\" xlink:type=\"simple\"><rect fill=\"#FFFFFF\" height=\"45.9375\" id=\"E3\" rx=\"10\" ry=\"10\" style=\"stroke: #383838; stroke-width: 1.5;\" width=\"112\" x=\"416\" y=\"316\"/><text fill=\"#000000\" font-family=\"sans-serif\" font-size=\"12\" font-style=\"italic\" lengthAdjust=\"spacingAndGlyphs\" textLength=\"40\" x=\"452\" y=\"332.1387\">«part»</text><text fill=\"#000000\" font-family=\"sans-serif\" font-size=\"12\" lengthAdjust=\"spacingAndGlyphs\" textLength=\"102\" x=\"419\" y=\"346.1074\">engine1: Engine</text><line style=\"stroke: #383838; stroke-width: 1.5;\" x1=\"417\" x2=\"527\" y1=\"353.9375\" y2=\"353.9375\"/></a><!--MD5=[ebbe1d658d1005bcc118a6aa81145e00]\n",
       "class E4--><a href=\"psysml:44e88bb9-9b84-4b3f-b104-23d7a257fb04\" target=\"_top\" title=\"psysml:44e88bb9-9b84-4b3f-b104-23d7a257fb04\" xlink:actuate=\"onRequest\" xlink:href=\"psysml:44e88bb9-9b84-4b3f-b104-23d7a257fb04\" xlink:show=\"new\" xlink:title=\"psysml:44e88bb9-9b84-4b3f-b104-23d7a257fb04\" xlink:type=\"simple\"><rect fill=\"#FFFFFF\" height=\"45.9375\" id=\"E4\" rx=\"10\" ry=\"10\" style=\"stroke: #383838; stroke-width: 1.5;\" width=\"112\" x=\"269\" y=\"316\"/><text fill=\"#000000\" font-family=\"sans-serif\" font-size=\"12\" font-style=\"italic\" lengthAdjust=\"spacingAndGlyphs\" textLength=\"40\" x=\"305\" y=\"332.1387\">«part»</text><text fill=\"#000000\" font-family=\"sans-serif\" font-size=\"12\" lengthAdjust=\"spacingAndGlyphs\" textLength=\"102\" x=\"272\" y=\"346.1074\">engine2: Engine</text><line style=\"stroke: #383838; stroke-width: 1.5;\" x1=\"270\" x2=\"380\" y1=\"353.9375\" y2=\"353.9375\"/></a><!--MD5=[270fce915f116d4de14055a7c1d9a0f3]\n",
       "class E5--><a href=\"psysml:e12e8838-d64a-4336-9e52-2de97357eae2\" target=\"_top\" title=\"psysml:e12e8838-d64a-4336-9e52-2de97357eae2\" xlink:actuate=\"onRequest\" xlink:href=\"psysml:e12e8838-d64a-4336-9e52-2de97357eae2\" xlink:show=\"new\" xlink:title=\"psysml:e12e8838-d64a-4336-9e52-2de97357eae2\" xlink:type=\"simple\"><rect fill=\"#FFFFFF\" height=\"45.9375\" id=\"E5\" rx=\"10\" ry=\"10\" style=\"stroke: #383838; stroke-width: 1.5;\" width=\"203\" x=\"238.5\" y=\"41\"/><text fill=\"#000000\" font-family=\"sans-serif\" font-size=\"12\" font-style=\"italic\" lengthAdjust=\"spacingAndGlyphs\" textLength=\"64\" x=\"308\" y=\"57.1387\">«analysis»</text><text fill=\"#000000\" font-family=\"sans-serif\" font-size=\"12\" lengthAdjust=\"spacingAndGlyphs\" textLength=\"193\" x=\"241.5\" y=\"71.1074\">engineTradeStudy: TradeStudy</text><line style=\"stroke: #383838; stroke-width: 1.5;\" x1=\"239.5\" x2=\"440.5\" y1=\"78.9375\" y2=\"78.9375\"/></a><!--MD5=[60a26617385b1d2d0262a64233df1f8d]\n",
       "class E6--><a href=\"psysml:9a804e4d-bc47-4ee7-a2d8-d8527e0c1caf\" target=\"_top\" title=\"psysml:9a804e4d-bc47-4ee7-a2d8-d8527e0c1caf\" xlink:actuate=\"onRequest\" xlink:href=\"psysml:9a804e4d-bc47-4ee7-a2d8-d8527e0c1caf\" xlink:show=\"new\" xlink:title=\"psysml:9a804e4d-bc47-4ee7-a2d8-d8527e0c1caf\" xlink:type=\"simple\"><rect fill=\"#FFFFFF\" height=\"45.9375\" id=\"E6\" rx=\"10\" ry=\"10\" style=\"stroke: #383838; stroke-width: 1.5;\" width=\"255\" x=\"71.5\" y=\"164\"/><text fill=\"#000000\" font-family=\"sans-serif\" font-size=\"12\" font-style=\"italic\" lengthAdjust=\"spacingAndGlyphs\" textLength=\"91\" x=\"153.5\" y=\"180.1387\">«requirement»</text><text fill=\"#000000\" font-family=\"sans-serif\" font-size=\"12\" lengthAdjust=\"spacingAndGlyphs\" textLength=\"245\" x=\"74.5\" y=\"194.1074\">tradeStudyObjective: MaximizeObjective</text><line style=\"stroke: #383838; stroke-width: 1.5;\" x1=\"72.5\" x2=\"325.5\" y1=\"201.9375\" y2=\"201.9375\"/></a><!--MD5=[2156ba9850f5573cc1fc38a6a4b2f02b]\n",
       "class E7--><a href=\"psysml:1fa3686a-6014-4c73-9542-2575e26fd8a7\" target=\"_top\" title=\"psysml:1fa3686a-6014-4c73-9542-2575e26fd8a7\" xlink:actuate=\"onRequest\" xlink:href=\"psysml:1fa3686a-6014-4c73-9542-2575e26fd8a7\" xlink:show=\"new\" xlink:title=\"psysml:1fa3686a-6014-4c73-9542-2575e26fd8a7\" xlink:type=\"simple\"><rect fill=\"#FFFFFF\" height=\"45.9375\" id=\"E7\" rx=\"10\" ry=\"10\" style=\"stroke: #383838; stroke-width: 1.5;\" width=\"129\" x=\"361.5\" y=\"164\"/><text fill=\"#000000\" font-family=\"sans-serif\" font-size=\"12\" font-style=\"italic\" lengthAdjust=\"spacingAndGlyphs\" textLength=\"82\" x=\"385\" y=\"180.1387\">«calculation»</text><text fill=\"#000000\" font-family=\"sans-serif\" font-size=\"12\" lengthAdjust=\"spacingAndGlyphs\" textLength=\"119\" x=\"364.5\" y=\"194.1074\">evaluationFunction</text><line style=\"stroke: #383838; stroke-width: 1.5;\" x1=\"362.5\" x2=\"489.5\" y1=\"201.9375\" y2=\"201.9375\"/></a><!--MD5=[b9389687b975829384b498ac4b7476b2]\n",
       "class E8--><a href=\"psysml:79c1d929-0a70-426e-ae6d-56e5e3e776a6\" target=\"_top\" title=\"psysml:79c1d929-0a70-426e-ae6d-56e5e3e776a6\" xlink:actuate=\"onRequest\" xlink:href=\"psysml:79c1d929-0a70-426e-ae6d-56e5e3e776a6\" xlink:show=\"new\" xlink:title=\"psysml:79c1d929-0a70-426e-ae6d-56e5e3e776a6\" xlink:type=\"simple\"><rect fill=\"#FFFFFF\" height=\"45.9375\" id=\"E8\" rx=\"10\" ry=\"10\" style=\"stroke: #383838; stroke-width: 1.5;\" width=\"128\" x=\"69\" y=\"316\"/><text fill=\"#000000\" font-family=\"sans-serif\" font-size=\"12\" font-style=\"italic\" lengthAdjust=\"spacingAndGlyphs\" textLength=\"40\" x=\"113\" y=\"332.1387\">«part»</text><text fill=\"#000000\" font-family=\"sans-serif\" font-size=\"12\" lengthAdjust=\"spacingAndGlyphs\" textLength=\"118\" x=\"72\" y=\"346.1074\">alternative: Engine</text><line style=\"stroke: #383838; stroke-width: 1.5;\" x1=\"70\" x2=\"196\" y1=\"353.9375\" y2=\"353.9375\"/></a><!--MD5=[fd4143e9d270a159db93a4ea2a975926]\n",
       "class E9--><a href=\"psysml:169f456a-e384-47f5-89e9-43fd13dd17eb\" target=\"_top\" title=\"psysml:169f456a-e384-47f5-89e9-43fd13dd17eb\" xlink:actuate=\"onRequest\" xlink:href=\"psysml:169f456a-e384-47f5-89e9-43fd13dd17eb\" xlink:show=\"new\" xlink:title=\"psysml:169f456a-e384-47f5-89e9-43fd13dd17eb\" xlink:type=\"simple\"><rect fill=\"#FFFFFF\" height=\"45.9375\" id=\"E9\" rx=\"10\" ry=\"10\" style=\"stroke: #383838; stroke-width: 1.5;\" width=\"182\" x=\"295\" y=\"240\"/><text fill=\"#000000\" font-family=\"sans-serif\" font-size=\"12\" font-style=\"italic\" lengthAdjust=\"spacingAndGlyphs\" textLength=\"40\" x=\"366\" y=\"256.1387\">«part»</text><text fill=\"#000000\" font-family=\"sans-serif\" font-size=\"12\" lengthAdjust=\"spacingAndGlyphs\" textLength=\"172\" x=\"298\" y=\"270.1074\">selectedAlternative: Engine</text><line style=\"stroke: #383838; stroke-width: 1.5;\" x1=\"296\" x2=\"476\" y1=\"277.9375\" y2=\"277.9375\"/></a><!--MD5=[05d275557350bfb9b23a4ef7222b4c39]\n",
       "link E3 to E2--><a href=\"psysml:9be21745-fec5-4980-9af6-b796782d7969\" target=\"_top\" title=\"psysml:9be21745-fec5-4980-9af6-b796782d7969\" xlink:actuate=\"onRequest\" xlink:href=\"psysml:9be21745-fec5-4980-9af6-b796782d7969\" xlink:show=\"new\" xlink:title=\"psysml:9be21745-fec5-4980-9af6-b796782d7969\" xlink:type=\"simple\"><path d=\"M472,362.22 C472,393.69 472,446 472,446 C472,446 288.01,446 288.01,446 \" fill=\"none\" id=\"E3-&gt;E2\" style=\"stroke: #383838; stroke-width: 1.0;\"/><polygon fill=\"#FFFFFF\" points=\"268.01,446,287.01,439,287.01,453,268.01,446\" style=\"stroke: #383838; stroke-width: 1.0;\"/><ellipse cx=\"292.71\" cy=\"441\" fill=\"#383838\" rx=\"2\" ry=\"2\" style=\"stroke: #383838; stroke-width: 1.0;\"/><ellipse cx=\"292.71\" cy=\"451\" fill=\"#383838\" rx=\"2\" ry=\"2\" style=\"stroke: #383838; stroke-width: 1.0;\"/></a><!--MD5=[185131fc0dcab0a4505a2ebe144e961b]\n",
       "link E4 to E2--><a href=\"psysml:1ad537aa-bda6-4221-a392-6db0b9fa994b\" target=\"_top\" title=\"psysml:1ad537aa-bda6-4221-a392-6db0b9fa994b\" xlink:actuate=\"onRequest\" xlink:href=\"psysml:1ad537aa-bda6-4221-a392-6db0b9fa994b\" xlink:show=\"new\" xlink:title=\"psysml:1ad537aa-bda6-4221-a392-6db0b9fa994b\" xlink:type=\"simple\"><path d=\"M268.71,347 C260.09,347 254,347 254,347 C254,347 254,402.79 254,402.79 \" fill=\"none\" id=\"E4-&gt;E2\" style=\"stroke: #383838; stroke-width: 1.0;\"/><polygon fill=\"#FFFFFF\" points=\"254,422.79,247,403.79,261,403.79,254,422.79\" style=\"stroke: #383838; stroke-width: 1.0;\"/><ellipse cx=\"249\" cy=\"398.09\" fill=\"#383838\" rx=\"2\" ry=\"2\" style=\"stroke: #383838; stroke-width: 1.0;\"/><ellipse cx=\"259\" cy=\"398.09\" fill=\"#383838\" rx=\"2\" ry=\"2\" style=\"stroke: #383838; stroke-width: 1.0;\"/></a><!--MD5=[15ebcb19ae302d9b601edb458606d402]\n",
       "link E5 to E2--><a href=\"psysml:ef23f2a8-b555-4000-b8d1-a9fc8ea83129\" target=\"_top\" title=\"psysml:ef23f2a8-b555-4000-b8d1-a9fc8ea83129\" xlink:actuate=\"onRequest\" xlink:href=\"psysml:ef23f2a8-b555-4000-b8d1-a9fc8ea83129\" xlink:show=\"new\" xlink:title=\"psysml:ef23f2a8-b555-4000-b8d1-a9fc8ea83129\" xlink:type=\"simple\"><path d=\"M338.17,87.02 C338.17,130.41 338.17,220 338.17,220 C338.17,220 226,220 226,220 C226,220 226,417.67 226,417.67 \" fill=\"none\" id=\"E5-&gt;E2\" style=\"stroke: #383838; stroke-width: 1.0; stroke-dasharray: 7.0,7.0;\"/><polygon fill=\"#383838\" points=\"226,422.67,230,413.67,226,417.67,222,413.67,226,422.67\" style=\"stroke: #383838; stroke-width: 1.0;\"/><text fill=\"#000000\" font-family=\"sans-serif\" font-size=\"13\" lengthAdjust=\"spacingAndGlyphs\" textLength=\"62\" x=\"68\" y=\"267.5669\">«subject»</text></a><!--MD5=[9120cf2e5df3bff93db8f754bbbc09b4]\n",
       "link E5 to E6--><a href=\"psysml:82bd6807-74bc-4e7b-a156-dc2ad55e2000\" target=\"_top\" title=\"psysml:82bd6807-74bc-4e7b-a156-dc2ad55e2000\" xlink:actuate=\"onRequest\" xlink:href=\"psysml:82bd6807-74bc-4e7b-a156-dc2ad55e2000\" xlink:show=\"new\" xlink:title=\"psysml:82bd6807-74bc-4e7b-a156-dc2ad55e2000\" xlink:type=\"simple\"><path d=\"M282.5,87.14 C282.5,87.14 282.5,155.97 282.5,155.97 \" fill=\"none\" id=\"E5-&gt;E6\" style=\"stroke: #383838; stroke-width: 1.0;\"/><polygon fill=\"#383838\" points=\"282.5,163.97,285.5,155.97,279.5,155.97,282.5,163.97\" style=\"stroke: #383838; stroke-width: 1.0;\"/><text fill=\"#000000\" font-family=\"sans-serif\" font-size=\"13\" lengthAdjust=\"spacingAndGlyphs\" textLength=\"73\" x=\"228\" y=\"130.0669\">«objective»</text></a><!--MD5=[452b418e7f8a40397a49b8c0a78acc5b]\n",
       "reverse link E5 to E7--><a href=\"psysml:3495a436-635c-4195-be5e-85a5d126f0e1\" target=\"_top\" title=\"psysml:3495a436-635c-4195-be5e-85a5d126f0e1\" xlink:actuate=\"onRequest\" xlink:href=\"psysml:3495a436-635c-4195-be5e-85a5d126f0e1\" xlink:show=\"new\" xlink:title=\"psysml:3495a436-635c-4195-be5e-85a5d126f0e1\" xlink:type=\"simple\"><path d=\"M401.5,100.14 C401.5,100.14 401.5,163.97 401.5,163.97 \" fill=\"none\" id=\"E5&lt;-E7\" style=\"stroke: #383838; stroke-width: 1.0;\"/><polygon fill=\"#383838\" points=\"401.5,87.14,397.5,93.14,401.5,99.14,405.5,93.14,401.5,87.14\" style=\"stroke: #383838; stroke-width: 1.0;\"/></a><!--MD5=[dc164f5e8a733ab456ef1add180e9e34]\n",
       "reverse link E7 to E8--><a href=\"psysml:e1d2632c-68a4-476d-b3ed-d8b6d2aaac51\" target=\"_top\" title=\"psysml:e1d2632c-68a4-476d-b3ed-d8b6d2aaac51\" xlink:actuate=\"onRequest\" xlink:href=\"psysml:e1d2632c-68a4-476d-b3ed-d8b6d2aaac51\" xlink:show=\"new\" xlink:title=\"psysml:e1d2632c-68a4-476d-b3ed-d8b6d2aaac51\" xlink:type=\"simple\"><path d=\"M419.25,223.01 C419.25,223.01 419.25,230 419.25,230 C419.25,230 134.25,230 134.25,230 C134.25,230 134.25,283.89 134.25,315.88 \" fill=\"none\" id=\"E7&lt;-E8\" style=\"stroke: #383838; stroke-width: 1.0;\"/><polygon fill=\"#FFFFFF\" points=\"419.25,210.01,415.25,216.01,419.25,222.01,423.25,216.01,419.25,210.01\" style=\"stroke: #383838; stroke-width: 1.0;\"/><text fill=\"#000000\" font-family=\"sans-serif\" font-size=\"13\" lengthAdjust=\"spacingAndGlyphs\" textLength=\"8\" x=\"125.5109\" y=\"304.744\">1</text></a><!--MD5=[f1f3f9f2fc535e6147756cb86a7f2e32]\n",
       "link E8 to E2--><a href=\"psysml:a8ae8a0d-ad52-4d9e-986d-0c741d3467c2\" target=\"_top\" title=\"psysml:a8ae8a0d-ad52-4d9e-986d-0c741d3467c2\" xlink:actuate=\"onRequest\" xlink:href=\"psysml:a8ae8a0d-ad52-4d9e-986d-0c741d3467c2\" xlink:show=\"new\" xlink:title=\"psysml:a8ae8a0d-ad52-4d9e-986d-0c741d3467c2\" xlink:type=\"simple\"><path d=\"M197.14,332 C205.92,332 212,332 212,332 C212,332 212,402.93 212,402.93 \" fill=\"none\" id=\"E8-&gt;E2\" style=\"stroke: #383838; stroke-width: 1.0;\"/><polygon fill=\"#FFFFFF\" points=\"212,422.93,205,403.93,219,403.93,212,422.93\" style=\"stroke: #383838; stroke-width: 1.0;\"/><ellipse cx=\"207\" cy=\"398.23\" fill=\"#383838\" rx=\"2\" ry=\"2\" style=\"stroke: #383838; stroke-width: 1.0;\"/><ellipse cx=\"217\" cy=\"398.23\" fill=\"#383838\" rx=\"2\" ry=\"2\" style=\"stroke: #383838; stroke-width: 1.0;\"/></a><!--MD5=[9ae28de373ca99bb8a1b38d63370ca7e]\n",
       "reverse link E5 to E9--><a href=\"psysml:1023028c-00c5-4dde-9329-e4b02befe1ab\" target=\"_top\" title=\"psysml:1023028c-00c5-4dde-9329-e4b02befe1ab\" xlink:actuate=\"onRequest\" xlink:href=\"psysml:1023028c-00c5-4dde-9329-e4b02befe1ab\" xlink:show=\"new\" xlink:title=\"psysml:1023028c-00c5-4dde-9329-e4b02befe1ab\" xlink:type=\"simple\"><path d=\"M349.83,100.22 C349.83,100.22 349.83,239.93 349.83,239.93 \" fill=\"none\" id=\"E5&lt;-E9\" style=\"stroke: #383838; stroke-width: 1.0;\"/><polygon fill=\"#FFFFFF\" points=\"349.83,87.22,345.83,93.22,349.83,99.22,353.83,93.22,349.83,87.22\" style=\"stroke: #383838; stroke-width: 1.0;\"/><text fill=\"#000000\" font-family=\"sans-serif\" font-size=\"13\" lengthAdjust=\"spacingAndGlyphs\" textLength=\"8\" x=\"331.0343\" y=\"228.8075\">1</text></a><!--MD5=[5c3bb36fe832a92c7f0e1807dd65209d]\n",
       "link E9 to E2--><a href=\"psysml:d6cd1bf0-a8ac-42a9-91c6-4adc5d4642e7\" target=\"_top\" title=\"psysml:d6cd1bf0-a8ac-42a9-91c6-4adc5d4642e7\" xlink:actuate=\"onRequest\" xlink:href=\"psysml:d6cd1bf0-a8ac-42a9-91c6-4adc5d4642e7\" xlink:show=\"new\" xlink:title=\"psysml:d6cd1bf0-a8ac-42a9-91c6-4adc5d4642e7\" xlink:type=\"simple\"><path d=\"M294.78,263 C265.27,263 240,263 240,263 C240,263 240,402.82 240,402.82 \" fill=\"none\" id=\"E9-&gt;E2\" style=\"stroke: #383838; stroke-width: 1.0;\"/><polygon fill=\"#FFFFFF\" points=\"240,422.82,233,403.82,247,403.82,240,422.82\" style=\"stroke: #383838; stroke-width: 1.0;\"/><ellipse cx=\"235\" cy=\"398.12\" fill=\"#383838\" rx=\"2\" ry=\"2\" style=\"stroke: #383838; stroke-width: 1.0;\"/><ellipse cx=\"245\" cy=\"398.12\" fill=\"#383838\" rx=\"2\" ry=\"2\" style=\"stroke: #383838; stroke-width: 1.0;\"/></a><!--MD5=[ac8136a3c1135fe6d6c07a8612ad056e]\n",
       "@startuml\r\n",
       "skinparam linetype ortho\r\n",
       "skinparam monochrome true\r\n",
       "skinparam classbackgroundcolor white\r\n",
       "skinparam shadowing false\r\n",
       "skinparam wrapWidth 300\r\n",
       "hide circle\r\n",
       "\r\n",
       "package \"TradeStudyTest\" as E1  [[psysml:9d3e1c5c-e45c-4a85-8e75-4ee823ac8fbf ]]  {\r\n",
       "comp def \"Engine\" as E2  <<(T,blue) part  def>> [[psysml:956f1300-60cf-48ef-8161-7a381ae0bb8c ]] {\r\n",
       "}\r\n",
       "comp usage \"engine1: Engine \" as E3  <<(T,blue) part>> [[psysml:5ff7a686-dab8-41cf-8031-b7dccb26607b ]] {\r\n",
       "}\r\n",
       "comp usage \"engine2: Engine \" as E4  <<(T,blue) part>> [[psysml:44e88bb9-9b84-4b3f-b104-23d7a257fb04 ]] {\r\n",
       "}\r\n",
       "comp usage \"engineTradeStudy: TradeStudy \" as E5 << analysis>> [[psysml:e12e8838-d64a-4336-9e52-2de97357eae2 ]] {\r\n",
       "}\r\n",
       "comp usage \"tradeStudyObjective: MaximizeObjective \" as E6  <<(T,blue) requirement>> [[psysml:9a804e4d-bc47-4ee7-a2d8-d8527e0c1caf ]] {\r\n",
       "}\r\n",
       "comp usage \"evaluationFunction \" as E7  <<(T,blue) calculation>> [[psysml:1fa3686a-6014-4c73-9542-2575e26fd8a7 ]] {\r\n",
       "}\r\n",
       "comp usage \"alternative: Engine \" as E8  <<(T,blue) part>> [[psysml:79c1d929-0a70-426e-ae6d-56e5e3e776a6 ]] {\r\n",
       "}\r\n",
       "comp usage \"selectedAlternative: Engine \" as E9  <<(T,blue) part>> [[psysml:169f456a-e384-47f5-89e9-43fd13dd17eb ]] {\r\n",
       "}\r\n",
       "}\r\n",
       "E3 - -:|> E2 [[psysml:9be21745-fec5-4980-9af6-b796782d7969 ]] \r\n",
       "E4 - -:|> E2 [[psysml:1ad537aa-bda6-4221-a392-6db0b9fa994b ]] \r\n",
       "E5 ..> E2 [[psysml:ef23f2a8-b555-4000-b8d1-a9fc8ea83129 ]] : <<subject>>\r\n",
       "E5 - ->> E6 [[psysml:82bd6807-74bc-4e7b-a156-dc2ad55e2000 ]] : <<objective>>\r\n",
       "E5 *- - E7 [[psysml:3495a436-635c-4195-be5e-85a5d126f0e1 ]] \r\n",
       "E7 o- - \"1\"E8 [[psysml:e1d2632c-68a4-476d-b3ed-d8b6d2aaac51 ]] \r\n",
       "E8 - -:|> E2 [[psysml:a8ae8a0d-ad52-4d9e-986d-0c741d3467c2 ]] \r\n",
       "E5 o- - \"1\"E9 [[psysml:1023028c-00c5-4dde-9329-e4b02befe1ab ]] \r\n",
       "E9 - -:|> E2 [[psysml:d6cd1bf0-a8ac-42a9-91c6-4adc5d4642e7 ]] \r\n",
       "@enduml\r\n",
       "\n",
       "PlantUML version 1.2020.13(Sat Jun 13 12:26:38 UTC 2020)\n",
       "(EPL source distribution)\n",
       "Java Runtime: OpenJDK Runtime Environment\n",
       "JVM: OpenJDK 64-Bit Server VM\n",
       "Default Encoding: UTF-8\n",
       "Language: en\n",
       "Country: null\n",
       "--></g></svg>"
      ]
     },
     "execution_count": 52,
     "metadata": {},
     "output_type": "execute_result"
    }
   ],
   "source": [
    "%viz --style=\"ORTHOLINE\" --view=\"Tree\" \"TradeStudyTest\""
   ]
  },
  {
   "cell_type": "code",
   "execution_count": 53,
   "id": "09de5440",
   "metadata": {
    "execution": {
     "iopub.execute_input": "2022-02-18T10:50:38.800493Z",
     "iopub.status.busy": "2022-02-18T10:50:38.800089Z",
     "iopub.status.idle": "2022-02-18T10:50:38.804362Z",
     "shell.execute_reply": "2022-02-18T10:50:38.804008Z"
    }
   },
   "outputs": [
    {
     "data": {
      "image/svg+xml": [
       "<?xml version=\"1.0\" encoding=\"UTF-8\" standalone=\"no\"?><svg xmlns=\"http://www.w3.org/2000/svg\" xmlns:xlink=\"http://www.w3.org/1999/xlink\" contentScriptType=\"application/ecmascript\" contentStyleType=\"text/css\" height=\"12px\" preserveAspectRatio=\"none\" style=\"width:12px;height:12px;\" version=\"1.1\" viewBox=\"0 0 12 12\" width=\"12px\" zoomAndPan=\"magnify\"><defs/><g><!--MD5=[97d6f38768b311333d388e66b2b27985]\n",
       "@startuml\r\n",
       "skinparam linetype ortho\r\n",
       "skinparam monochrome true\r\n",
       "skinparam classbackgroundcolor white\r\n",
       "skinparam shadowing false\r\n",
       "skinparam wrapWidth 300\r\n",
       "hide circle\r\n",
       "\r\n",
       "@enduml\r\n",
       "\n",
       "PlantUML version 1.2020.13(Sat Jun 13 12:26:38 UTC 2020)\n",
       "(EPL source distribution)\n",
       "Java Runtime: OpenJDK Runtime Environment\n",
       "JVM: OpenJDK 64-Bit Server VM\n",
       "Default Encoding: UTF-8\n",
       "Language: en\n",
       "Country: null\n",
       "--></g></svg>"
      ]
     },
     "execution_count": 53,
     "metadata": {},
     "output_type": "execute_result"
    }
   ],
   "source": [
    "%viz --style=\"ORTHOLINE\" --view=\"State\" \"TradeStudyTest\""
   ]
  },
  {
   "cell_type": "code",
   "execution_count": 54,
   "id": "d4b179e5",
   "metadata": {
    "execution": {
     "iopub.execute_input": "2022-02-18T10:50:38.854124Z",
     "iopub.status.busy": "2022-02-18T10:50:38.853732Z",
     "iopub.status.idle": "2022-02-18T10:50:38.890146Z",
     "shell.execute_reply": "2022-02-18T10:50:38.889801Z"
    }
   },
   "outputs": [
    {
     "data": {
      "image/svg+xml": [
       "<?xml version=\"1.0\" encoding=\"UTF-8\" standalone=\"no\"?><svg xmlns=\"http://www.w3.org/2000/svg\" xmlns:xlink=\"http://www.w3.org/1999/xlink\" contentScriptType=\"application/ecmascript\" contentStyleType=\"text/css\" height=\"418px\" preserveAspectRatio=\"none\" style=\"width:574px;height:418px;\" version=\"1.1\" viewBox=\"0 0 574 418\" width=\"574px\" zoomAndPan=\"magnify\"><defs/><g><!--MD5=[fbc87193dbaf4d95561dea2c320d4a47]\n",
       "cluster E1--><a href=\"psysml:9d3e1c5c-e45c-4a85-8e75-4ee823ac8fbf\" target=\"_top\" title=\"psysml:9d3e1c5c-e45c-4a85-8e75-4ee823ac8fbf\" xlink:actuate=\"onRequest\" xlink:href=\"psysml:9d3e1c5c-e45c-4a85-8e75-4ee823ac8fbf\" xlink:show=\"new\" xlink:title=\"psysml:9d3e1c5c-e45c-4a85-8e75-4ee823ac8fbf\" xlink:type=\"simple\"><polygon fill=\"#FFFFFF\" points=\"16,6,132,6,139,28.2969,552,28.2969,552,406,16,406,16,6\" style=\"stroke: #000000; stroke-width: 1.5;\"/><line style=\"stroke: #000000; stroke-width: 1.5;\" x1=\"16\" x2=\"139\" y1=\"28.2969\" y2=\"28.2969\"/><text fill=\"#000000\" font-family=\"sans-serif\" font-size=\"14\" font-weight=\"bold\" lengthAdjust=\"spacingAndGlyphs\" textLength=\"110\" x=\"20\" y=\"20.9951\">TradeStudyTest</text></a><!--MD5=[de5ec2e2e8f62f467e546659f5068c88]\n",
       "cluster E5--><a href=\"psysml:e12e8838-d64a-4336-9e52-2de97357eae2\" target=\"_top\" title=\"psysml:e12e8838-d64a-4336-9e52-2de97357eae2\" xlink:actuate=\"onRequest\" xlink:href=\"psysml:e12e8838-d64a-4336-9e52-2de97357eae2\" xlink:show=\"new\" xlink:title=\"psysml:e12e8838-d64a-4336-9e52-2de97357eae2\" xlink:type=\"simple\"><rect fill=\"#FFFFFF\" height=\"129\" id=\"E5\" rx=\"10\" ry=\"10\" style=\"stroke: #383838; stroke-width: 1.5;\" width=\"199\" x=\"321\" y=\"57\"/><rect fill=\"#F8F8F8\" height=\"37.9375\" rx=\"10\" ry=\"10\" style=\"stroke: #F8F8F8; stroke-width: 1.5;\" width=\"199\" x=\"321\" y=\"57\"/><rect fill=\"#F8F8F8\" height=\"10\" style=\"stroke: #F8F8F8; stroke-width: 1.5;\" width=\"199\" x=\"321\" y=\"84.9375\"/><rect fill=\"none\" height=\"129\" id=\"E5\" rx=\"10\" ry=\"10\" style=\"stroke: #383838; stroke-width: 1.5;\" width=\"199\" x=\"321\" y=\"57\"/><text fill=\"#000000\" font-family=\"sans-serif\" font-size=\"12\" font-style=\"italic\" lengthAdjust=\"spacingAndGlyphs\" textLength=\"64\" x=\"388.5\" y=\"73.1387\">«analysis»</text><text fill=\"#000000\" font-family=\"sans-serif\" font-size=\"12\" lengthAdjust=\"spacingAndGlyphs\" textLength=\"114\" x=\"363.5\" y=\"87.1074\">engineTradeStudy</text><line style=\"stroke: #383838; stroke-width: 1.0;\" x1=\"321\" x2=\"520\" y1=\"94.9375\" y2=\"94.9375\"/></a><!--MD5=[2156ba9850f5573cc1fc38a6a4b2f02b]\n",
       "class E7--><a href=\"psysml:1fa3686a-6014-4c73-9542-2575e26fd8a7\" target=\"_top\" title=\"psysml:1fa3686a-6014-4c73-9542-2575e26fd8a7\" xlink:actuate=\"onRequest\" xlink:href=\"psysml:1fa3686a-6014-4c73-9542-2575e26fd8a7\" xlink:show=\"new\" xlink:title=\"psysml:1fa3686a-6014-4c73-9542-2575e26fd8a7\" xlink:type=\"simple\"><rect fill=\"#FFFFFF\" height=\"45.9375\" id=\"E7\" rx=\"10\" ry=\"10\" style=\"stroke: #383838; stroke-width: 1.5;\" width=\"129\" x=\"73.5\" y=\"219\"/><text fill=\"#000000\" font-family=\"sans-serif\" font-size=\"12\" font-style=\"italic\" lengthAdjust=\"spacingAndGlyphs\" textLength=\"82\" x=\"97\" y=\"235.1387\">«calculation»</text><text fill=\"#000000\" font-family=\"sans-serif\" font-size=\"12\" lengthAdjust=\"spacingAndGlyphs\" textLength=\"119\" x=\"76.5\" y=\"249.1074\">evaluationFunction</text><line style=\"stroke: #383838; stroke-width: 1.5;\" x1=\"74.5\" x2=\"201.5\" y1=\"256.9375\" y2=\"256.9375\"/></a><!--MD5=[b9389687b975829384b498ac4b7476b2]\n",
       "class E8--><a href=\"psysml:79c1d929-0a70-426e-ae6d-56e5e3e776a6\" target=\"_top\" title=\"psysml:79c1d929-0a70-426e-ae6d-56e5e3e776a6\" xlink:actuate=\"onRequest\" xlink:href=\"psysml:79c1d929-0a70-426e-ae6d-56e5e3e776a6\" xlink:show=\"new\" xlink:title=\"psysml:79c1d929-0a70-426e-ae6d-56e5e3e776a6\" xlink:type=\"simple\"><rect fill=\"#FFFFFF\" height=\"31.9688\" id=\"E8\" rx=\"10\" ry=\"10\" style=\"stroke: #383838; stroke-width: 1.5;\" width=\"128\" x=\"120\" y=\"298\"/><text fill=\"#000000\" font-family=\"sans-serif\" font-size=\"12\" lengthAdjust=\"spacingAndGlyphs\" textLength=\"118\" x=\"123\" y=\"314.1387\">alternative: Engine</text><line style=\"stroke: #383838; stroke-width: 1.5;\" x1=\"121\" x2=\"247\" y1=\"321.9688\" y2=\"321.9688\"/></a><!--MD5=[fd4143e9d270a159db93a4ea2a975926]\n",
       "class E9--><a href=\"psysml:169f456a-e384-47f5-89e9-43fd13dd17eb\" target=\"_top\" title=\"psysml:169f456a-e384-47f5-89e9-43fd13dd17eb\" xlink:actuate=\"onRequest\" xlink:href=\"psysml:169f456a-e384-47f5-89e9-43fd13dd17eb\" xlink:show=\"new\" xlink:title=\"psysml:169f456a-e384-47f5-89e9-43fd13dd17eb\" xlink:type=\"simple\"><rect fill=\"#FFFFFF\" height=\"31.9688\" id=\"E9\" rx=\"10\" ry=\"10\" style=\"stroke: #383838; stroke-width: 1.5;\" width=\"182\" x=\"238\" y=\"226\"/><text fill=\"#000000\" font-family=\"sans-serif\" font-size=\"12\" lengthAdjust=\"spacingAndGlyphs\" textLength=\"172\" x=\"241\" y=\"242.1387\">selectedAlternative: Engine</text><line style=\"stroke: #383838; stroke-width: 1.5;\" x1=\"239\" x2=\"419\" y1=\"249.9688\" y2=\"249.9688\"/></a><g id=\"E1.E2\"><a href=\"psysml:956f1300-60cf-48ef-8161-7a381ae0bb8c\" target=\"_top\" title=\"psysml:956f1300-60cf-48ef-8161-7a381ae0bb8c\" xlink:actuate=\"onRequest\" xlink:href=\"psysml:956f1300-60cf-48ef-8161-7a381ae0bb8c\" xlink:show=\"new\" xlink:title=\"psysml:956f1300-60cf-48ef-8161-7a381ae0bb8c\" xlink:type=\"simple\"><rect fill=\"#FFFFFF\" height=\"42.9375\" id=\"E2\" style=\"stroke: #383838; stroke-width: 1.5;\" width=\"75\" x=\"291.5\" y=\"347\"/><rect fill=\"#F8F8F8\" height=\"37.9375\" style=\"stroke: #383838; stroke-width: 1.5;\" width=\"75\" x=\"291.5\" y=\"347\"/><text fill=\"#000000\" font-family=\"sans-serif\" font-size=\"12\" font-style=\"italic\" lengthAdjust=\"spacingAndGlyphs\" textLength=\"68\" x=\"295\" y=\"363.1387\">«part  def»</text><text fill=\"#000000\" font-family=\"sans-serif\" font-size=\"12\" lengthAdjust=\"spacingAndGlyphs\" textLength=\"43\" x=\"307.5\" y=\"377.1074\">Engine</text></a></g><g id=\"E1.E3\"><a href=\"psysml:5ff7a686-dab8-41cf-8031-b7dccb26607b\" target=\"_top\" title=\"psysml:5ff7a686-dab8-41cf-8031-b7dccb26607b\" xlink:actuate=\"onRequest\" xlink:href=\"psysml:5ff7a686-dab8-41cf-8031-b7dccb26607b\" xlink:show=\"new\" xlink:title=\"psysml:5ff7a686-dab8-41cf-8031-b7dccb26607b\" xlink:type=\"simple\"><rect fill=\"#FFFFFF\" height=\"40\" id=\"E3\" rx=\"10\" ry=\"10\" style=\"stroke: #383838; stroke-width: 1.5;\" width=\"113\" x=\"180.5\" y=\"119\"/><rect fill=\"#F8F8F8\" height=\"23.9688\" rx=\"10\" ry=\"10\" style=\"stroke: #F8F8F8; stroke-width: 1.5;\" width=\"113\" x=\"180.5\" y=\"119\"/><rect fill=\"#F8F8F8\" height=\"10\" style=\"stroke: #F8F8F8; stroke-width: 1.5;\" width=\"113\" x=\"180.5\" y=\"132.9688\"/><rect fill=\"none\" height=\"40\" id=\"E3\" rx=\"10\" ry=\"10\" style=\"stroke: #383838; stroke-width: 1.5;\" width=\"113\" x=\"180.5\" y=\"119\"/><text fill=\"#000000\" font-family=\"sans-serif\" font-size=\"12\" lengthAdjust=\"spacingAndGlyphs\" textLength=\"102\" x=\"186\" y=\"135.1387\">engine1: Engine</text></a></g><g id=\"E1.E4\"><a href=\"psysml:44e88bb9-9b84-4b3f-b104-23d7a257fb04\" target=\"_top\" title=\"psysml:44e88bb9-9b84-4b3f-b104-23d7a257fb04\" xlink:actuate=\"onRequest\" xlink:href=\"psysml:44e88bb9-9b84-4b3f-b104-23d7a257fb04\" xlink:show=\"new\" xlink:title=\"psysml:44e88bb9-9b84-4b3f-b104-23d7a257fb04\" xlink:type=\"simple\"><rect fill=\"#FFFFFF\" height=\"40\" id=\"E4\" rx=\"10\" ry=\"10\" style=\"stroke: #383838; stroke-width: 1.5;\" width=\"113\" x=\"32.5\" y=\"119\"/><rect fill=\"#F8F8F8\" height=\"23.9688\" rx=\"10\" ry=\"10\" style=\"stroke: #F8F8F8; stroke-width: 1.5;\" width=\"113\" x=\"32.5\" y=\"119\"/><rect fill=\"#F8F8F8\" height=\"10\" style=\"stroke: #F8F8F8; stroke-width: 1.5;\" width=\"113\" x=\"32.5\" y=\"132.9688\"/><rect fill=\"none\" height=\"40\" id=\"E4\" rx=\"10\" ry=\"10\" style=\"stroke: #383838; stroke-width: 1.5;\" width=\"113\" x=\"32.5\" y=\"119\"/><text fill=\"#000000\" font-family=\"sans-serif\" font-size=\"12\" lengthAdjust=\"spacingAndGlyphs\" textLength=\"102\" x=\"38\" y=\"135.1387\">engine2: Engine</text></a></g><!--MD5=[60a26617385b1d2d0262a64233df1f8d]\n",
       "class E6--><a href=\"psysml:9a804e4d-bc47-4ee7-a2d8-d8527e0c1caf\" target=\"_top\" title=\"psysml:9a804e4d-bc47-4ee7-a2d8-d8527e0c1caf\" xlink:actuate=\"onRequest\" xlink:href=\"psysml:9a804e4d-bc47-4ee7-a2d8-d8527e0c1caf\" xlink:show=\"new\" xlink:title=\"psysml:9a804e4d-bc47-4ee7-a2d8-d8527e0c1caf\" xlink:type=\"simple\"><rect fill=\"#FFFFFF\" height=\"45.9375\" id=\"E6\" rx=\"10\" ry=\"10\" style=\"stroke: #383838; stroke-width: 1.5;\" width=\"132\" x=\"364\" y=\"116\"/><text fill=\"#000000\" font-family=\"sans-serif\" font-size=\"12\" font-style=\"italic\" lengthAdjust=\"spacingAndGlyphs\" textLength=\"70\" x=\"395\" y=\"132.1387\">«objective»</text><text fill=\"#000000\" font-family=\"sans-serif\" font-size=\"12\" lengthAdjust=\"spacingAndGlyphs\" textLength=\"126\" x=\"367\" y=\"146.1074\">tradeStudyObjective</text><line style=\"stroke: #383838; stroke-width: 1.5;\" x1=\"365\" x2=\"495\" y1=\"153.9375\" y2=\"153.9375\"/></a><!--MD5=[15ebcb19ae302d9b601edb458606d402]\n",
       "link E5 to E2--><a href=\"psysml:ef23f2a8-b555-4000-b8d1-a9fc8ea83129\" target=\"_top\" title=\"psysml:ef23f2a8-b555-4000-b8d1-a9fc8ea83129\" xlink:actuate=\"onRequest\" xlink:href=\"psysml:ef23f2a8-b555-4000-b8d1-a9fc8ea83129\" xlink:show=\"new\" xlink:title=\"psysml:ef23f2a8-b555-4000-b8d1-a9fc8ea83129\" xlink:type=\"simple\"><path d=\"M514,186.7355 C514,187.736 514,188.7403 514,189.7482 C514,191.7641 514,193.7945 514,195.8372 C514,199.9227 514,204.0579 514,208.2261 C514,216.5625 514,225.0313 514,233.5 C514,301.25 514,369 514,369 C514,369 371.88,369 371.88,369 \" fill=\"none\" id=\"E5-&gt;E2\" style=\"stroke: #383838; stroke-width: 1.0; stroke-dasharray: 7.0,7.0;\"/><polygon fill=\"#383838\" points=\"366.88,369,375.88,373,371.88,369,375.88,365,366.88,369\" style=\"stroke: #383838; stroke-width: 1.0;\"/><text fill=\"#000000\" font-family=\"sans-serif\" font-size=\"13\" lengthAdjust=\"spacingAndGlyphs\" textLength=\"62\" x=\"457\" y=\"286.0669\">«subject»</text></a><!--MD5=[452b418e7f8a40397a49b8c0a78acc5b]\n",
       "reverse link E5 to E7--><a href=\"psysml:3495a436-635c-4195-be5e-85a5d126f0e1\" target=\"_top\" title=\"psysml:3495a436-635c-4195-be5e-85a5d126f0e1\" xlink:actuate=\"onRequest\" xlink:href=\"psysml:3495a436-635c-4195-be5e-85a5d126f0e1\" xlink:show=\"new\" xlink:title=\"psysml:3495a436-635c-4195-be5e-85a5d126f0e1\" xlink:type=\"simple\"><path d=\"M320.9165,139 C320.6595,139 320.4015,139 320.1431,139 C319.6264,139 319.1086,139 318.5963,139 C314.4975,139 310.75,139 310.75,139 C310.75,139 310.75,223 310.75,223 C310.75,223 251.84,223 202.82,223 \" fill=\"none\" id=\"E5&lt;-E7\" style=\"stroke: #383838; stroke-width: 1.0;\"/><polygon fill=\"#383838\" points=\"320.9165,139,314.9165,135,308.9165,139,314.9165,143,320.9165,139\" style=\"stroke: #383838; stroke-width: 1.0;\"/></a><!--MD5=[dc164f5e8a733ab456ef1add180e9e34]\n",
       "reverse link E7 to E8--><a href=\"psysml:e1d2632c-68a4-476d-b3ed-d8b6d2aaac51\" target=\"_top\" title=\"psysml:e1d2632c-68a4-476d-b3ed-d8b6d2aaac51\" xlink:actuate=\"onRequest\" xlink:href=\"psysml:e1d2632c-68a4-476d-b3ed-d8b6d2aaac51\" xlink:show=\"new\" xlink:title=\"psysml:e1d2632c-68a4-476d-b3ed-d8b6d2aaac51\" xlink:type=\"simple\"><path d=\"M161.25,278.18 C161.25,278.18 161.25,297.93 161.25,297.93 \" fill=\"none\" id=\"E7&lt;-E8\" style=\"stroke: #383838; stroke-width: 1.0;\"/><polygon fill=\"#FFFFFF\" points=\"161.25,265.18,157.25,271.18,161.25,277.18,165.25,271.18,161.25,265.18\" style=\"stroke: #383838; stroke-width: 1.0;\"/><text fill=\"#000000\" font-family=\"sans-serif\" font-size=\"13\" lengthAdjust=\"spacingAndGlyphs\" textLength=\"8\" x=\"144.0547\" y=\"286.9229\">1</text></a><!--MD5=[f1f3f9f2fc535e6147756cb86a7f2e32]\n",
       "link E8 to E2--><a href=\"psysml:a8ae8a0d-ad52-4d9e-986d-0c741d3467c2\" target=\"_top\" title=\"psysml:a8ae8a0d-ad52-4d9e-986d-0c741d3467c2\" xlink:actuate=\"onRequest\" xlink:href=\"psysml:a8ae8a0d-ad52-4d9e-986d-0c741d3467c2\" xlink:show=\"new\" xlink:title=\"psysml:a8ae8a0d-ad52-4d9e-986d-0c741d3467c2\" xlink:type=\"simple\"><path d=\"M248.31,314 C282.07,314 316.5,314 316.5,314 C316.5,314 316.5,326.96 316.5,326.96 \" fill=\"none\" id=\"E8-&gt;E2\" style=\"stroke: #383838; stroke-width: 1.0;\"/><polygon fill=\"#FFFFFF\" points=\"316.5,346.96,309.5,327.96,323.5,327.96,316.5,346.96\" style=\"stroke: #383838; stroke-width: 1.0;\"/><ellipse cx=\"311.5\" cy=\"322.26\" fill=\"#383838\" rx=\"2\" ry=\"2\" style=\"stroke: #383838; stroke-width: 1.0;\"/><ellipse cx=\"321.5\" cy=\"322.26\" fill=\"#383838\" rx=\"2\" ry=\"2\" style=\"stroke: #383838; stroke-width: 1.0;\"/></a><!--MD5=[9ae28de373ca99bb8a1b38d63370ca7e]\n",
       "reverse link E5 to E9--><a href=\"psysml:1023028c-00c5-4dde-9329-e4b02befe1ab\" target=\"_top\" title=\"psysml:1023028c-00c5-4dde-9329-e4b02befe1ab\" xlink:actuate=\"onRequest\" xlink:href=\"psysml:1023028c-00c5-4dde-9329-e4b02befe1ab\" xlink:show=\"new\" xlink:title=\"psysml:1023028c-00c5-4dde-9329-e4b02befe1ab\" xlink:type=\"simple\"><path d=\"M329,186.3203 C329,186.4615 329,186.6027 329,186.7439 C329,187.3088 329,187.8743 329,188.4402 C329,192.967 329,197.5151 329,201.9442 C329,210.8025 329,219.185 329,225.97 \" fill=\"none\" id=\"E5&lt;-E9\" style=\"stroke: #383838; stroke-width: 1.0;\"/><polygon fill=\"#FFFFFF\" points=\"329,186.3203,325,192.3203,329,198.3203,333,192.3203,329,186.3203\" style=\"stroke: #383838; stroke-width: 1.0;\"/><text fill=\"#000000\" font-family=\"sans-serif\" font-size=\"13\" lengthAdjust=\"spacingAndGlyphs\" textLength=\"8\" x=\"319.625\" y=\"214.9767\">1</text></a><!--MD5=[5c3bb36fe832a92c7f0e1807dd65209d]\n",
       "link E9 to E2--><a href=\"psysml:d6cd1bf0-a8ac-42a9-91c6-4adc5d4642e7\" target=\"_top\" title=\"psysml:d6cd1bf0-a8ac-42a9-91c6-4adc5d4642e7\" xlink:actuate=\"onRequest\" xlink:href=\"psysml:d6cd1bf0-a8ac-42a9-91c6-4adc5d4642e7\" xlink:show=\"new\" xlink:title=\"psysml:d6cd1bf0-a8ac-42a9-91c6-4adc5d4642e7\" xlink:type=\"simple\"><path d=\"M341.5,258.02 C341.5,258.02 341.5,326.68 341.5,326.68 \" fill=\"none\" id=\"E9-&gt;E2\" style=\"stroke: #383838; stroke-width: 1.0;\"/><polygon fill=\"#FFFFFF\" points=\"341.5,346.68,334.5,327.68,348.5,327.68,341.5,346.68\" style=\"stroke: #383838; stroke-width: 1.0;\"/><ellipse cx=\"336.5\" cy=\"321.98\" fill=\"#383838\" rx=\"2\" ry=\"2\" style=\"stroke: #383838; stroke-width: 1.0;\"/><ellipse cx=\"346.5\" cy=\"321.98\" fill=\"#383838\" rx=\"2\" ry=\"2\" style=\"stroke: #383838; stroke-width: 1.0;\"/></a><!--MD5=[2c4e463545038a31b807cf05aafa8917]\n",
       "@startuml\r\n",
       "skinparam ranksep 10\r\n",
       "skinparam rectangle {\r\n",
       " backgroundColor<<block>> LightGreen\r\n",
       "}\r\n",
       "skinparam linetype ortho\r\n",
       "skinparam monochrome true\r\n",
       "skinparam classbackgroundcolor white\r\n",
       "skinparam shadowing false\r\n",
       "skinparam wrapWidth 300\r\n",
       "hide circle\r\n",
       "\r\n",
       "package \"TradeStudyTest\" as E1  [[psysml:9d3e1c5c-e45c-4a85-8e75-4ee823ac8fbf ]]  {\r\n",
       "rec def \"Engine\" as E2  <<(T,blue) part  def>> [[psysml:956f1300-60cf-48ef-8161-7a381ae0bb8c ]] {\r\n",
       "}\r\n",
       "rec usage \"engine1: Engine\" as E3  [[psysml:5ff7a686-dab8-41cf-8031-b7dccb26607b ]] {\r\n",
       "}\r\n",
       "rec usage \"engine2: Engine\" as E4  [[psysml:44e88bb9-9b84-4b3f-b104-23d7a257fb04 ]] {\r\n",
       "}\r\n",
       "rec usage \"engineTradeStudy\" as E5 << analysis>> [[psysml:e12e8838-d64a-4336-9e52-2de97357eae2 ]] {\r\n",
       "comp usage \"tradeStudyObjective\" as E6  <<objective>> [[psysml:9a804e4d-bc47-4ee7-a2d8-d8527e0c1caf ]] {\r\n",
       "}\r\n",
       "}\r\n",
       "comp usage \"evaluationFunction \" as E7  <<(T,blue) calculation>> [[psysml:1fa3686a-6014-4c73-9542-2575e26fd8a7 ]] {\r\n",
       "}\r\n",
       "comp usage \"alternative: Engine \" as E8  [[psysml:79c1d929-0a70-426e-ae6d-56e5e3e776a6 ]] {\r\n",
       "}\r\n",
       "comp usage \"selectedAlternative: Engine \" as E9  [[psysml:169f456a-e384-47f5-89e9-43fd13dd17eb ]] {\r\n",
       "}\r\n",
       "}\r\n",
       "E5 ..> E2 [[psysml:ef23f2a8-b555-4000-b8d1-a9fc8ea83129 ]] : <<subject>>\r\n",
       "E5 *- - E7 [[psysml:3495a436-635c-4195-be5e-85a5d126f0e1 ]] \r\n",
       "E7 o- - \"1\"E8 [[psysml:e1d2632c-68a4-476d-b3ed-d8b6d2aaac51 ]] \r\n",
       "E8 - -:|> E2 [[psysml:a8ae8a0d-ad52-4d9e-986d-0c741d3467c2 ]] \r\n",
       "E5 o- - \"1\"E9 [[psysml:1023028c-00c5-4dde-9329-e4b02befe1ab ]] \r\n",
       "E9 - -:|> E2 [[psysml:d6cd1bf0-a8ac-42a9-91c6-4adc5d4642e7 ]] \r\n",
       "@enduml\r\n",
       "\n",
       "PlantUML version 1.2020.13(Sat Jun 13 12:26:38 UTC 2020)\n",
       "(EPL source distribution)\n",
       "Java Runtime: OpenJDK Runtime Environment\n",
       "JVM: OpenJDK 64-Bit Server VM\n",
       "Default Encoding: UTF-8\n",
       "Language: en\n",
       "Country: null\n",
       "--></g></svg>"
      ]
     },
     "execution_count": 54,
     "metadata": {},
     "output_type": "execute_result"
    }
   ],
   "source": [
    "%viz --style=\"ORTHOLINE\" --view=\"Interconnection\" \"TradeStudyTest\""
   ]
  },
  {
   "cell_type": "code",
   "execution_count": 55,
   "id": "39e596b0",
   "metadata": {
    "execution": {
     "iopub.execute_input": "2022-02-18T10:50:38.939343Z",
     "iopub.status.busy": "2022-02-18T10:50:38.938951Z",
     "iopub.status.idle": "2022-02-18T10:50:38.968806Z",
     "shell.execute_reply": "2022-02-18T10:50:38.968456Z"
    }
   },
   "outputs": [
    {
     "data": {
      "image/svg+xml": [
       "<?xml version=\"1.0\" encoding=\"UTF-8\" standalone=\"no\"?><svg xmlns=\"http://www.w3.org/2000/svg\" xmlns:xlink=\"http://www.w3.org/1999/xlink\" contentScriptType=\"application/ecmascript\" contentStyleType=\"text/css\" height=\"227px\" preserveAspectRatio=\"none\" style=\"width:442px;height:227px;\" version=\"1.1\" viewBox=\"0 0 442 227\" width=\"442px\" zoomAndPan=\"magnify\"><defs/><g><!--MD5=[fbc87193dbaf4d95561dea2c320d4a47]\n",
       "cluster E1--><a href=\"psysml:e12e8838-d64a-4336-9e52-2de97357eae2\" target=\"_top\" title=\"psysml:e12e8838-d64a-4336-9e52-2de97357eae2\" xlink:actuate=\"onRequest\" xlink:href=\"psysml:e12e8838-d64a-4336-9e52-2de97357eae2\" xlink:show=\"new\" xlink:title=\"psysml:e12e8838-d64a-4336-9e52-2de97357eae2\" xlink:type=\"simple\"><rect fill=\"#FFFFFF\" height=\"174.36\" id=\"E1\" rx=\"10\" ry=\"10\" style=\"stroke: #383838; stroke-width: 1.5;\" width=\"317\" x=\"47\" y=\"42.0986\"/><rect fill=\"#F8F8F8\" height=\"37.9375\" rx=\"10\" ry=\"10\" style=\"stroke: #F8F8F8; stroke-width: 1.5;\" width=\"317\" x=\"47\" y=\"42.0986\"/><rect fill=\"#F8F8F8\" height=\"10\" style=\"stroke: #F8F8F8; stroke-width: 1.5;\" width=\"317\" x=\"47\" y=\"70.0361\"/><rect fill=\"none\" height=\"174.36\" id=\"E1\" rx=\"10\" ry=\"10\" style=\"stroke: #383838; stroke-width: 1.5;\" width=\"317\" x=\"47\" y=\"42.0986\"/><text fill=\"#000000\" font-family=\"sans-serif\" font-size=\"12\" font-style=\"italic\" lengthAdjust=\"spacingAndGlyphs\" textLength=\"64\" x=\"173.5\" y=\"58.2373\">«analysis»</text><text fill=\"#000000\" font-family=\"sans-serif\" font-size=\"12\" lengthAdjust=\"spacingAndGlyphs\" textLength=\"114\" x=\"148.5\" y=\"72.2061\">engineTradeStudy</text><line style=\"stroke: #383838; stroke-width: 1.0;\" x1=\"47\" x2=\"364\" y1=\"80.0361\" y2=\"80.0361\"/></a><!--MD5=[d5e69f78d87373223dbae638b30a9c99]\n",
       "cluster E3--><a href=\"psysml:1fa3686a-6014-4c73-9542-2575e26fd8a7\" target=\"_top\" title=\"psysml:1fa3686a-6014-4c73-9542-2575e26fd8a7\" xlink:actuate=\"onRequest\" xlink:href=\"psysml:1fa3686a-6014-4c73-9542-2575e26fd8a7\" xlink:show=\"new\" xlink:title=\"psysml:1fa3686a-6014-4c73-9542-2575e26fd8a7\" xlink:type=\"simple\"><rect fill=\"#FFFFFF\" height=\"104.86\" id=\"E3\" rx=\"10\" ry=\"10\" style=\"stroke: #383838; stroke-width: 1.5;\" width=\"178\" x=\"145\" y=\"81.5986\"/><rect fill=\"#F8F8F8\" height=\"37.9375\" rx=\"10\" ry=\"10\" style=\"stroke: #F8F8F8; stroke-width: 1.5;\" width=\"178\" x=\"145\" y=\"81.5986\"/><rect fill=\"#F8F8F8\" height=\"10\" style=\"stroke: #F8F8F8; stroke-width: 1.5;\" width=\"178\" x=\"145\" y=\"109.5361\"/><rect fill=\"none\" height=\"104.86\" id=\"E3\" rx=\"10\" ry=\"10\" style=\"stroke: #383838; stroke-width: 1.5;\" width=\"178\" x=\"145\" y=\"81.5986\"/><text fill=\"#000000\" font-family=\"sans-serif\" font-size=\"12\" font-style=\"italic\" lengthAdjust=\"spacingAndGlyphs\" textLength=\"82\" x=\"193\" y=\"97.7373\">«calculation»</text><text fill=\"#000000\" font-family=\"sans-serif\" font-size=\"12\" lengthAdjust=\"spacingAndGlyphs\" textLength=\"119\" x=\"174.5\" y=\"111.7061\">evaluationFunction</text><line style=\"stroke: #383838; stroke-width: 1.0;\" x1=\"145\" x2=\"323\" y1=\"119.5361\" y2=\"119.5361\"/></a><text fill=\"#000000\" font-family=\"sans-serif\" font-size=\"14\" lengthAdjust=\"spacingAndGlyphs\" textLength=\"118\" x=\"6\" y=\"20.7969\">studyAlternatives</text><rect fill=\"#383838\" height=\"12\" style=\"stroke: #F8F8F8; stroke-width: 1.5;\" width=\"12\" x=\"59\" y=\"36.0986\"/><text fill=\"#000000\" font-family=\"sans-serif\" font-size=\"14\" lengthAdjust=\"spacingAndGlyphs\" textLength=\"132\" x=\"298\" y=\"183.0938\">selectedAlternative</text><rect fill=\"#383838\" height=\"12\" style=\"stroke: #F8F8F8; stroke-width: 1.5;\" width=\"12\" x=\"358\" y=\"158.0986\"/><text fill=\"#000000\" font-family=\"sans-serif\" font-size=\"14\" lengthAdjust=\"spacingAndGlyphs\" textLength=\"71\" x=\"198.5\" y=\"60.2969\">alternative</text><rect fill=\"#383838\" height=\"12\" style=\"stroke: #F8F8F8; stroke-width: 1.5;\" width=\"12\" x=\"228\" y=\"75.5986\"/><text fill=\"#000000\" font-family=\"sans-serif\" font-size=\"14\" lengthAdjust=\"spacingAndGlyphs\" textLength=\"39\" x=\"214.5\" y=\"205.4538\">result</text><rect fill=\"#383838\" height=\"12\" style=\"stroke: #F8F8F8; stroke-width: 1.5;\" width=\"12\" x=\"228\" y=\"180.4586\"/><!--MD5=[c2850b009bcd45329f12def7d9866dcf]\n",
       "@startuml\r\n",
       "skinparam ranksep 8\r\n",
       "skinparam linetype ortho\r\n",
       "skinparam monochrome true\r\n",
       "skinparam classbackgroundcolor white\r\n",
       "skinparam shadowing false\r\n",
       "skinparam wrapWidth 300\r\n",
       "hide circle\r\n",
       "\r\n",
       "rec usage \"engineTradeStudy\" as E1 << analysis>> [[psysml:e12e8838-d64a-4336-9e52-2de97357eae2 ]] {\r\n",
       "portin \"studyAlternatives\" as E2  [[psysml:36f294a0-7f48-45c5-aee6-574d3cef2e7a ]] \r\n",
       "rec usage \"evaluationFunction\" as E3  <<(T,blue) calculation>> [[psysml:1fa3686a-6014-4c73-9542-2575e26fd8a7 ]] {\r\n",
       "portin \"alternative\" as E4  [[psysml:79c1d929-0a70-426e-ae6d-56e5e3e776a6 ]] \r\n",
       "portout \"result\" as E5  [[psysml:c19db6ea-6f05-4719-8826-e593430801be ]] \r\n",
       "}\r\n",
       "\r\n",
       "portout \"selectedAlternative\" as E6  [[psysml:169f456a-e384-47f5-89e9-43fd13dd17eb ]] \r\n",
       "}\r\n",
       "\r\n",
       "@enduml\r\n",
       "\n",
       "PlantUML version 1.2020.13(Sat Jun 13 12:26:38 UTC 2020)\n",
       "(EPL source distribution)\n",
       "Java Runtime: OpenJDK Runtime Environment\n",
       "JVM: OpenJDK 64-Bit Server VM\n",
       "Default Encoding: UTF-8\n",
       "Language: en\n",
       "Country: null\n",
       "--></g></svg>"
      ]
     },
     "execution_count": 55,
     "metadata": {},
     "output_type": "execute_result"
    }
   ],
   "source": [
    "%viz --style=\"ORTHOLINE\" --view=\"Action\" \"TradeStudyTest\""
   ]
  },
  {
   "cell_type": "code",
   "execution_count": 56,
   "id": "834aa17d",
   "metadata": {
    "execution": {
     "iopub.execute_input": "2022-02-18T10:50:39.018557Z",
     "iopub.status.busy": "2022-02-18T10:50:39.018155Z",
     "iopub.status.idle": "2022-02-18T10:50:39.023425Z",
     "shell.execute_reply": "2022-02-18T10:50:39.023083Z"
    }
   },
   "outputs": [
    {
     "data": {
      "image/svg+xml": [
       "<?xml version=\"1.0\" encoding=\"UTF-8\" standalone=\"no\"?><svg xmlns=\"http://www.w3.org/2000/svg\" xmlns:xlink=\"http://www.w3.org/1999/xlink\" contentScriptType=\"application/ecmascript\" contentStyleType=\"text/css\" height=\"12px\" preserveAspectRatio=\"none\" style=\"width:12px;height:12px;\" version=\"1.1\" viewBox=\"0 0 12 12\" width=\"12px\" zoomAndPan=\"magnify\"><defs/><g><!--MD5=[30fc1de5121c5abddedd55b44417fde8]\n",
       "@startuml\r\n",
       "skinparam roundcorner 20\r\n",
       "skinparam BoxPadding 20\r\n",
       "skinparam SequenceBoxBackgroundColor #white\r\n",
       "skinparam style strictuml\r\n",
       "skinparam maxMessageSize 100\r\n",
       "skinparam linetype ortho\r\n",
       "skinparam monochrome true\r\n",
       "skinparam classbackgroundcolor white\r\n",
       "skinparam shadowing false\r\n",
       "skinparam wrapWidth 300\r\n",
       "hide circle\r\n",
       "\r\n",
       "@enduml\r\n",
       "\n",
       "PlantUML version 1.2020.13(Sat Jun 13 12:26:38 UTC 2020)\n",
       "(EPL source distribution)\n",
       "Java Runtime: OpenJDK Runtime Environment\n",
       "JVM: OpenJDK 64-Bit Server VM\n",
       "Default Encoding: UTF-8\n",
       "Language: en\n",
       "Country: null\n",
       "--></g></svg>"
      ]
     },
     "execution_count": 56,
     "metadata": {},
     "output_type": "execute_result"
    }
   ],
   "source": [
    "%viz --style=\"ORTHOLINE\" --view=\"Sequence\" \"TradeStudyTest\""
   ]
  },
  {
   "cell_type": "code",
   "execution_count": 57,
   "id": "afe542a6",
   "metadata": {
    "execution": {
     "iopub.execute_input": "2022-02-18T10:50:39.073269Z",
     "iopub.status.busy": "2022-02-18T10:50:39.072876Z",
     "iopub.status.idle": "2022-02-18T10:50:39.112012Z",
     "shell.execute_reply": "2022-02-18T10:50:39.111629Z"
    }
   },
   "outputs": [
    {
     "data": {
      "image/svg+xml": [
       "<?xml version=\"1.0\" encoding=\"UTF-8\" standalone=\"no\"?><svg xmlns=\"http://www.w3.org/2000/svg\" xmlns:xlink=\"http://www.w3.org/1999/xlink\" contentScriptType=\"application/ecmascript\" contentStyleType=\"text/css\" height=\"545px\" preserveAspectRatio=\"none\" style=\"width:566px;height:545px;\" version=\"1.1\" viewBox=\"0 0 566 545\" width=\"566px\" zoomAndPan=\"magnify\"><defs/><g><!--MD5=[fbc87193dbaf4d95561dea2c320d4a47]\n",
       "cluster E1--><a href=\"psysml:9d3e1c5c-e45c-4a85-8e75-4ee823ac8fbf\" target=\"_top\" title=\"psysml:9d3e1c5c-e45c-4a85-8e75-4ee823ac8fbf\" xlink:actuate=\"onRequest\" xlink:href=\"psysml:9d3e1c5c-e45c-4a85-8e75-4ee823ac8fbf\" xlink:show=\"new\" xlink:title=\"psysml:9d3e1c5c-e45c-4a85-8e75-4ee823ac8fbf\" xlink:type=\"simple\"><polygon fill=\"#FFFFFF\" points=\"16,6,132,6,139,28.2969,544,28.2969,544,533,16,533,16,6\" style=\"stroke: #000000; stroke-width: 1.5;\"/><line style=\"stroke: #000000; stroke-width: 1.5;\" x1=\"16\" x2=\"139\" y1=\"28.2969\" y2=\"28.2969\"/><text fill=\"#000000\" font-family=\"sans-serif\" font-size=\"14\" font-weight=\"bold\" lengthAdjust=\"spacingAndGlyphs\" textLength=\"110\" x=\"20\" y=\"20.9951\">TradeStudyTest</text></a><!--MD5=[de5ec2e2e8f62f467e546659f5068c88]\n",
       "cluster E5--><a href=\"psysml:e12e8838-d64a-4336-9e52-2de97357eae2\" target=\"_top\" title=\"psysml:e12e8838-d64a-4336-9e52-2de97357eae2\" xlink:actuate=\"onRequest\" xlink:href=\"psysml:e12e8838-d64a-4336-9e52-2de97357eae2\" xlink:show=\"new\" xlink:title=\"psysml:e12e8838-d64a-4336-9e52-2de97357eae2\" xlink:type=\"simple\"><rect fill=\"#FFFFFF\" height=\"129\" id=\"E5\" rx=\"10\" ry=\"10\" style=\"stroke: #383838; stroke-width: 1.5;\" width=\"199\" x=\"238\" y=\"57\"/><rect fill=\"#F8F8F8\" height=\"37.9375\" rx=\"10\" ry=\"10\" style=\"stroke: #F8F8F8; stroke-width: 1.5;\" width=\"199\" x=\"238\" y=\"57\"/><rect fill=\"#F8F8F8\" height=\"10\" style=\"stroke: #F8F8F8; stroke-width: 1.5;\" width=\"199\" x=\"238\" y=\"84.9375\"/><rect fill=\"none\" height=\"129\" id=\"E5\" rx=\"10\" ry=\"10\" style=\"stroke: #383838; stroke-width: 1.5;\" width=\"199\" x=\"238\" y=\"57\"/><text fill=\"#000000\" font-family=\"sans-serif\" font-size=\"12\" font-style=\"italic\" lengthAdjust=\"spacingAndGlyphs\" textLength=\"64\" x=\"305.5\" y=\"73.1387\">«analysis»</text><text fill=\"#000000\" font-family=\"sans-serif\" font-size=\"12\" lengthAdjust=\"spacingAndGlyphs\" textLength=\"114\" x=\"280.5\" y=\"87.1074\">engineTradeStudy</text><line style=\"stroke: #383838; stroke-width: 1.0;\" x1=\"238\" x2=\"437\" y1=\"94.9375\" y2=\"94.9375\"/></a><!--MD5=[b4997ac47864f28c2f74865a473b2911]\n",
       "class E2--><a href=\"psysml:956f1300-60cf-48ef-8161-7a381ae0bb8c\" target=\"_top\" title=\"psysml:956f1300-60cf-48ef-8161-7a381ae0bb8c\" xlink:actuate=\"onRequest\" xlink:href=\"psysml:956f1300-60cf-48ef-8161-7a381ae0bb8c\" xlink:show=\"new\" xlink:title=\"psysml:956f1300-60cf-48ef-8161-7a381ae0bb8c\" xlink:type=\"simple\"><rect fill=\"#FFFFFF\" height=\"45.9375\" id=\"E2\" style=\"stroke: #383838; stroke-width: 1.5;\" width=\"70\" x=\"292\" y=\"471\"/><text fill=\"#000000\" font-family=\"sans-serif\" font-size=\"12\" font-style=\"italic\" lengthAdjust=\"spacingAndGlyphs\" textLength=\"68\" x=\"293\" y=\"487.1387\">«part  def»</text><text fill=\"#000000\" font-family=\"sans-serif\" font-size=\"12\" lengthAdjust=\"spacingAndGlyphs\" textLength=\"43\" x=\"305.5\" y=\"501.1074\">Engine</text><line style=\"stroke: #383838; stroke-width: 1.5;\" x1=\"293\" x2=\"361\" y1=\"508.9375\" y2=\"508.9375\"/></a><!--MD5=[09b614a08d8cba4a07c9adeb5e0fee81]\n",
       "class E3--><a href=\"psysml:5ff7a686-dab8-41cf-8031-b7dccb26607b\" target=\"_top\" title=\"psysml:5ff7a686-dab8-41cf-8031-b7dccb26607b\" xlink:actuate=\"onRequest\" xlink:href=\"psysml:5ff7a686-dab8-41cf-8031-b7dccb26607b\" xlink:show=\"new\" xlink:title=\"psysml:5ff7a686-dab8-41cf-8031-b7dccb26607b\" xlink:type=\"simple\"><rect fill=\"#FFFFFF\" height=\"45.9375\" id=\"E3\" rx=\"10\" ry=\"10\" style=\"stroke: #383838; stroke-width: 1.5;\" width=\"112\" x=\"179\" y=\"364\"/><text fill=\"#000000\" font-family=\"sans-serif\" font-size=\"12\" font-style=\"italic\" lengthAdjust=\"spacingAndGlyphs\" textLength=\"40\" x=\"215\" y=\"380.1387\">«part»</text><text fill=\"#000000\" font-family=\"sans-serif\" font-size=\"12\" lengthAdjust=\"spacingAndGlyphs\" textLength=\"102\" x=\"182\" y=\"394.1074\">engine1: Engine</text><line style=\"stroke: #383838; stroke-width: 1.5;\" x1=\"180\" x2=\"290\" y1=\"401.9375\" y2=\"401.9375\"/></a><!--MD5=[ebbe1d658d1005bcc118a6aa81145e00]\n",
       "class E4--><a href=\"psysml:44e88bb9-9b84-4b3f-b104-23d7a257fb04\" target=\"_top\" title=\"psysml:44e88bb9-9b84-4b3f-b104-23d7a257fb04\" xlink:actuate=\"onRequest\" xlink:href=\"psysml:44e88bb9-9b84-4b3f-b104-23d7a257fb04\" xlink:show=\"new\" xlink:title=\"psysml:44e88bb9-9b84-4b3f-b104-23d7a257fb04\" xlink:type=\"simple\"><rect fill=\"#FFFFFF\" height=\"45.9375\" id=\"E4\" rx=\"10\" ry=\"10\" style=\"stroke: #383838; stroke-width: 1.5;\" width=\"112\" x=\"32\" y=\"364\"/><text fill=\"#000000\" font-family=\"sans-serif\" font-size=\"12\" font-style=\"italic\" lengthAdjust=\"spacingAndGlyphs\" textLength=\"40\" x=\"68\" y=\"380.1387\">«part»</text><text fill=\"#000000\" font-family=\"sans-serif\" font-size=\"12\" lengthAdjust=\"spacingAndGlyphs\" textLength=\"102\" x=\"35\" y=\"394.1074\">engine2: Engine</text><line style=\"stroke: #383838; stroke-width: 1.5;\" x1=\"33\" x2=\"143\" y1=\"401.9375\" y2=\"401.9375\"/></a><!--MD5=[2156ba9850f5573cc1fc38a6a4b2f02b]\n",
       "class E7--><a href=\"psysml:1fa3686a-6014-4c73-9542-2575e26fd8a7\" target=\"_top\" title=\"psysml:1fa3686a-6014-4c73-9542-2575e26fd8a7\" xlink:actuate=\"onRequest\" xlink:href=\"psysml:1fa3686a-6014-4c73-9542-2575e26fd8a7\" xlink:show=\"new\" xlink:title=\"psysml:1fa3686a-6014-4c73-9542-2575e26fd8a7\" xlink:type=\"simple\"><rect fill=\"#FFFFFF\" height=\"45.9375\" id=\"E7\" rx=\"10\" ry=\"10\" style=\"stroke: #383838; stroke-width: 1.5;\" width=\"129\" x=\"181.5\" y=\"241\"/><text fill=\"#000000\" font-family=\"sans-serif\" font-size=\"12\" font-style=\"italic\" lengthAdjust=\"spacingAndGlyphs\" textLength=\"82\" x=\"205\" y=\"257.1387\">«calculation»</text><text fill=\"#000000\" font-family=\"sans-serif\" font-size=\"12\" lengthAdjust=\"spacingAndGlyphs\" textLength=\"119\" x=\"184.5\" y=\"271.1074\">evaluationFunction</text><line style=\"stroke: #383838; stroke-width: 1.5;\" x1=\"182.5\" x2=\"309.5\" y1=\"278.9375\" y2=\"278.9375\"/></a><!--MD5=[b9389687b975829384b498ac4b7476b2]\n",
       "class E8--><a href=\"psysml:79c1d929-0a70-426e-ae6d-56e5e3e776a6\" target=\"_top\" title=\"psysml:79c1d929-0a70-426e-ae6d-56e5e3e776a6\" xlink:actuate=\"onRequest\" xlink:href=\"psysml:79c1d929-0a70-426e-ae6d-56e5e3e776a6\" xlink:show=\"new\" xlink:title=\"psysml:79c1d929-0a70-426e-ae6d-56e5e3e776a6\" xlink:type=\"simple\"><rect fill=\"#FFFFFF\" height=\"45.9375\" id=\"E8\" rx=\"10\" ry=\"10\" style=\"stroke: #383838; stroke-width: 1.5;\" width=\"128\" x=\"363\" y=\"364\"/><text fill=\"#000000\" font-family=\"sans-serif\" font-size=\"12\" font-style=\"italic\" lengthAdjust=\"spacingAndGlyphs\" textLength=\"40\" x=\"407\" y=\"380.1387\">«part»</text><text fill=\"#000000\" font-family=\"sans-serif\" font-size=\"12\" lengthAdjust=\"spacingAndGlyphs\" textLength=\"118\" x=\"366\" y=\"394.1074\">alternative: Engine</text><line style=\"stroke: #383838; stroke-width: 1.5;\" x1=\"364\" x2=\"490\" y1=\"401.9375\" y2=\"401.9375\"/></a><!--MD5=[fd4143e9d270a159db93a4ea2a975926]\n",
       "class E9--><a href=\"psysml:169f456a-e384-47f5-89e9-43fd13dd17eb\" target=\"_top\" title=\"psysml:169f456a-e384-47f5-89e9-43fd13dd17eb\" xlink:actuate=\"onRequest\" xlink:href=\"psysml:169f456a-e384-47f5-89e9-43fd13dd17eb\" xlink:show=\"new\" xlink:title=\"psysml:169f456a-e384-47f5-89e9-43fd13dd17eb\" xlink:type=\"simple\"><rect fill=\"#FFFFFF\" height=\"45.9375\" id=\"E9\" rx=\"10\" ry=\"10\" style=\"stroke: #383838; stroke-width: 1.5;\" width=\"182\" x=\"346\" y=\"241\"/><text fill=\"#000000\" font-family=\"sans-serif\" font-size=\"12\" font-style=\"italic\" lengthAdjust=\"spacingAndGlyphs\" textLength=\"40\" x=\"417\" y=\"257.1387\">«part»</text><text fill=\"#000000\" font-family=\"sans-serif\" font-size=\"12\" lengthAdjust=\"spacingAndGlyphs\" textLength=\"172\" x=\"349\" y=\"271.1074\">selectedAlternative: Engine</text><line style=\"stroke: #383838; stroke-width: 1.5;\" x1=\"347\" x2=\"527\" y1=\"278.9375\" y2=\"278.9375\"/></a><!--MD5=[60a26617385b1d2d0262a64233df1f8d]\n",
       "class E6--><a href=\"psysml:9a804e4d-bc47-4ee7-a2d8-d8527e0c1caf\" target=\"_top\" title=\"psysml:9a804e4d-bc47-4ee7-a2d8-d8527e0c1caf\" xlink:actuate=\"onRequest\" xlink:href=\"psysml:9a804e4d-bc47-4ee7-a2d8-d8527e0c1caf\" xlink:show=\"new\" xlink:title=\"psysml:9a804e4d-bc47-4ee7-a2d8-d8527e0c1caf\" xlink:type=\"simple\"><rect fill=\"#FFFFFF\" height=\"45.9375\" id=\"E6\" rx=\"10\" ry=\"10\" style=\"stroke: #383838; stroke-width: 1.5;\" width=\"132\" x=\"281\" y=\"116\"/><text fill=\"#000000\" font-family=\"sans-serif\" font-size=\"12\" font-style=\"italic\" lengthAdjust=\"spacingAndGlyphs\" textLength=\"70\" x=\"312\" y=\"132.1387\">«objective»</text><text fill=\"#000000\" font-family=\"sans-serif\" font-size=\"12\" lengthAdjust=\"spacingAndGlyphs\" textLength=\"126\" x=\"284\" y=\"146.1074\">tradeStudyObjective</text><line style=\"stroke: #383838; stroke-width: 1.5;\" x1=\"282\" x2=\"412\" y1=\"153.9375\" y2=\"153.9375\"/></a><!--MD5=[05d275557350bfb9b23a4ef7222b4c39]\n",
       "link E3 to E2--><a href=\"psysml:9be21745-fec5-4980-9af6-b796782d7969\" target=\"_top\" title=\"psysml:9be21745-fec5-4980-9af6-b796782d7969\" xlink:actuate=\"onRequest\" xlink:href=\"psysml:9be21745-fec5-4980-9af6-b796782d7969\" xlink:show=\"new\" xlink:title=\"psysml:9be21745-fec5-4980-9af6-b796782d7969\" xlink:type=\"simple\"><path d=\"M291.41,399 C295.56,399 298.17,399 298.17,399 C298.17,399 298.17,450.52 298.17,450.52 \" fill=\"none\" id=\"E3-&gt;E2\" style=\"stroke: #383838; stroke-width: 1.0;\"/><polygon fill=\"#FFFFFF\" points=\"298.17,470.52,291.17,451.52,305.17,451.52,298.17,470.52\" style=\"stroke: #383838; stroke-width: 1.0;\"/><ellipse cx=\"293.17\" cy=\"445.82\" fill=\"#383838\" rx=\"2\" ry=\"2\" style=\"stroke: #383838; stroke-width: 1.0;\"/><ellipse cx=\"303.17\" cy=\"445.82\" fill=\"#383838\" rx=\"2\" ry=\"2\" style=\"stroke: #383838; stroke-width: 1.0;\"/></a><!--MD5=[185131fc0dcab0a4505a2ebe144e961b]\n",
       "link E4 to E2--><a href=\"psysml:1ad537aa-bda6-4221-a392-6db0b9fa994b\" target=\"_top\" title=\"psysml:1ad537aa-bda6-4221-a392-6db0b9fa994b\" xlink:actuate=\"onRequest\" xlink:href=\"psysml:1ad537aa-bda6-4221-a392-6db0b9fa994b\" xlink:show=\"new\" xlink:title=\"psysml:1ad537aa-bda6-4221-a392-6db0b9fa994b\" xlink:type=\"simple\"><path d=\"M88,410.27 C88,443.88 88,502 88,502 C88,502 271.99,502 271.99,502 \" fill=\"none\" id=\"E4-&gt;E2\" style=\"stroke: #383838; stroke-width: 1.0;\"/><polygon fill=\"#FFFFFF\" points=\"291.99,502,272.99,509,272.99,495,291.99,502\" style=\"stroke: #383838; stroke-width: 1.0;\"/><ellipse cx=\"267.29\" cy=\"507\" fill=\"#383838\" rx=\"2\" ry=\"2\" style=\"stroke: #383838; stroke-width: 1.0;\"/><ellipse cx=\"267.29\" cy=\"497\" fill=\"#383838\" rx=\"2\" ry=\"2\" style=\"stroke: #383838; stroke-width: 1.0;\"/></a><!--MD5=[15ebcb19ae302d9b601edb458606d402]\n",
       "link E5 to E2--><a href=\"psysml:ef23f2a8-b555-4000-b8d1-a9fc8ea83129\" target=\"_top\" title=\"psysml:ef23f2a8-b555-4000-b8d1-a9fc8ea83129\" xlink:actuate=\"onRequest\" xlink:href=\"psysml:ef23f2a8-b555-4000-b8d1-a9fc8ea83129\" xlink:show=\"new\" xlink:title=\"psysml:ef23f2a8-b555-4000-b8d1-a9fc8ea83129\" xlink:type=\"simple\"><path d=\"M237.8435,139 C237.7459,139 237.6475,139 237.5484,139 C236.7558,139 235.9175,139 235.0381,139 C233.2793,139 231.3559,139 229.3038,139 C221.095,139 210.825,139 200.78,139 C180.69,139 161.5,139 161.5,139 C161.5,139 161.5,487 161.5,487 C161.5,487 286.9,487 286.9,487 \" fill=\"none\" id=\"E5-&gt;E2\" style=\"stroke: #383838; stroke-width: 1.0; stroke-dasharray: 7.0,7.0;\"/><polygon fill=\"#383838\" points=\"291.9,487,282.9,483,286.9,487,282.9,491,291.9,487\" style=\"stroke: #383838; stroke-width: 1.0;\"/><text fill=\"#000000\" font-family=\"sans-serif\" font-size=\"13\" lengthAdjust=\"spacingAndGlyphs\" textLength=\"62\" x=\"237\" y=\"330.0669\">«subject»</text></a><!--MD5=[452b418e7f8a40397a49b8c0a78acc5b]\n",
       "reverse link E5 to E7--><a href=\"psysml:3495a436-635c-4195-be5e-85a5d126f0e1\" target=\"_top\" title=\"psysml:3495a436-635c-4195-be5e-85a5d126f0e1\" xlink:actuate=\"onRequest\" xlink:href=\"psysml:3495a436-635c-4195-be5e-85a5d126f0e1\" xlink:show=\"new\" xlink:title=\"psysml:3495a436-635c-4195-be5e-85a5d126f0e1\" xlink:type=\"simple\"><path d=\"M246,186.1625 C246,186.8061 246,187.4521 246,188.1001 C246,190.692 246,193.3162 246,195.9537 C246,201.2287 246,206.5567 246,211.7859 C246,222.2444 246,232.3075 246,240.76 \" fill=\"none\" id=\"E5&lt;-E7\" style=\"stroke: #383838; stroke-width: 1.0;\"/><polygon fill=\"#383838\" points=\"246,186.1625,242,192.1625,246,198.1625,250,192.1625,246,186.1625\" style=\"stroke: #383838; stroke-width: 1.0;\"/></a><!--MD5=[dc164f5e8a733ab456ef1add180e9e34]\n",
       "reverse link E7 to E8--><a href=\"psysml:e1d2632c-68a4-476d-b3ed-d8b6d2aaac51\" target=\"_top\" title=\"psysml:e1d2632c-68a4-476d-b3ed-d8b6d2aaac51\" xlink:actuate=\"onRequest\" xlink:href=\"psysml:e1d2632c-68a4-476d-b3ed-d8b6d2aaac51\" xlink:show=\"new\" xlink:title=\"psysml:e1d2632c-68a4-476d-b3ed-d8b6d2aaac51\" xlink:type=\"simple\"><path d=\"M304.33,300.21 C304.33,300.21 304.33,376 304.33,376 C304.33,376 333.11,376 362.79,376 \" fill=\"none\" id=\"E7&lt;-E8\" style=\"stroke: #383838; stroke-width: 1.0;\"/><polygon fill=\"#FFFFFF\" points=\"304.33,287.21,300.33,293.21,304.33,299.21,308.33,293.21,304.33,287.21\" style=\"stroke: #383838; stroke-width: 1.0;\"/><text fill=\"#000000\" font-family=\"sans-serif\" font-size=\"13\" lengthAdjust=\"spacingAndGlyphs\" textLength=\"8\" x=\"346.9032\" y=\"370.9391\">1</text></a><!--MD5=[f1f3f9f2fc535e6147756cb86a7f2e32]\n",
       "link E8 to E2--><a href=\"psysml:a8ae8a0d-ad52-4d9e-986d-0c741d3467c2\" target=\"_top\" title=\"psysml:a8ae8a0d-ad52-4d9e-986d-0c741d3467c2\" xlink:actuate=\"onRequest\" xlink:href=\"psysml:a8ae8a0d-ad52-4d9e-986d-0c741d3467c2\" xlink:show=\"new\" xlink:title=\"psysml:a8ae8a0d-ad52-4d9e-986d-0c741d3467c2\" xlink:type=\"simple\"><path d=\"M362.66,387 C358.94,387 356.67,387 356.67,387 C356.67,387 356.67,450.78 356.67,450.78 \" fill=\"none\" id=\"E8-&gt;E2\" style=\"stroke: #383838; stroke-width: 1.0;\"/><polygon fill=\"#FFFFFF\" points=\"356.67,470.78,349.67,451.78,363.67,451.78,356.67,470.78\" style=\"stroke: #383838; stroke-width: 1.0;\"/><ellipse cx=\"351.67\" cy=\"446.08\" fill=\"#383838\" rx=\"2\" ry=\"2\" style=\"stroke: #383838; stroke-width: 1.0;\"/><ellipse cx=\"361.67\" cy=\"446.08\" fill=\"#383838\" rx=\"2\" ry=\"2\" style=\"stroke: #383838; stroke-width: 1.0;\"/></a><!--MD5=[9ae28de373ca99bb8a1b38d63370ca7e]\n",
       "reverse link E5 to E9--><a href=\"psysml:1023028c-00c5-4dde-9329-e4b02befe1ab\" target=\"_top\" title=\"psysml:1023028c-00c5-4dde-9329-e4b02befe1ab\" xlink:actuate=\"onRequest\" xlink:href=\"psysml:1023028c-00c5-4dde-9329-e4b02befe1ab\" xlink:show=\"new\" xlink:title=\"psysml:1023028c-00c5-4dde-9329-e4b02befe1ab\" xlink:type=\"simple\"><path d=\"M437.3743,98 C438.0181,98 438.6548,98 439.2842,98 C440.5431,98 441.7729,98 442.9719,98 C445.3698,98 447.6444,98 449.782,98 C454.0571,98 457.7842,98 460.8535,98 C466.9922,98 470.5,98 470.5,98 C470.5,98 470.5,195.31 470.5,240.92 \" fill=\"none\" id=\"E5&lt;-E9\" style=\"stroke: #383838; stroke-width: 1.0;\"/><polygon fill=\"#FFFFFF\" points=\"437.3743,98,443.3743,102,449.3743,98,443.3743,94,437.3743,98\" style=\"stroke: #383838; stroke-width: 1.0;\"/><text fill=\"#000000\" font-family=\"sans-serif\" font-size=\"13\" lengthAdjust=\"spacingAndGlyphs\" textLength=\"8\" x=\"470.4281\" y=\"229.7948\">1</text></a><!--MD5=[5c3bb36fe832a92c7f0e1807dd65209d]\n",
       "link E9 to E2--><a href=\"psysml:d6cd1bf0-a8ac-42a9-91c6-4adc5d4642e7\" target=\"_top\" title=\"psysml:d6cd1bf0-a8ac-42a9-91c6-4adc5d4642e7\" xlink:actuate=\"onRequest\" xlink:href=\"psysml:d6cd1bf0-a8ac-42a9-91c6-4adc5d4642e7\" xlink:show=\"new\" xlink:title=\"psysml:d6cd1bf0-a8ac-42a9-91c6-4adc5d4642e7\" xlink:type=\"simple\"><path d=\"M351.33,287.32 C351.33,287.32 351.33,450.96 351.33,450.96 \" fill=\"none\" id=\"E9-&gt;E2\" style=\"stroke: #383838; stroke-width: 1.0;\"/><polygon fill=\"#FFFFFF\" points=\"351.33,470.96,344.33,451.96,358.33,451.96,351.33,470.96\" style=\"stroke: #383838; stroke-width: 1.0;\"/><ellipse cx=\"346.33\" cy=\"446.26\" fill=\"#383838\" rx=\"2\" ry=\"2\" style=\"stroke: #383838; stroke-width: 1.0;\"/><ellipse cx=\"356.33\" cy=\"446.26\" fill=\"#383838\" rx=\"2\" ry=\"2\" style=\"stroke: #383838; stroke-width: 1.0;\"/></a><!--MD5=[30ec7b94bfccf9820d6596801fde4342]\n",
       "@startuml\r\n",
       "skinparam linetype ortho\r\n",
       "skinparam monochrome true\r\n",
       "skinparam classbackgroundcolor white\r\n",
       "skinparam shadowing false\r\n",
       "skinparam wrapWidth 300\r\n",
       "hide circle\r\n",
       "\r\n",
       "package \"TradeStudyTest\" as E1  [[psysml:9d3e1c5c-e45c-4a85-8e75-4ee823ac8fbf ]]  {\r\n",
       "comp def \"Engine\" as E2  <<(T,blue) part  def>> [[psysml:956f1300-60cf-48ef-8161-7a381ae0bb8c ]] {\r\n",
       "}\r\n",
       "comp usage \"engine1: Engine \" as E3  <<(T,blue) part>> [[psysml:5ff7a686-dab8-41cf-8031-b7dccb26607b ]] {\r\n",
       "}\r\n",
       "comp usage \"engine2: Engine \" as E4  <<(T,blue) part>> [[psysml:44e88bb9-9b84-4b3f-b104-23d7a257fb04 ]] {\r\n",
       "}\r\n",
       "rec usage \"engineTradeStudy\" as E5 << analysis>> [[psysml:e12e8838-d64a-4336-9e52-2de97357eae2 ]] {\r\n",
       "comp usage \"tradeStudyObjective\" as E6  <<objective>> [[psysml:9a804e4d-bc47-4ee7-a2d8-d8527e0c1caf ]] {\r\n",
       "}\r\n",
       "}\r\n",
       "comp usage \"evaluationFunction \" as E7  <<(T,blue) calculation>> [[psysml:1fa3686a-6014-4c73-9542-2575e26fd8a7 ]] {\r\n",
       "}\r\n",
       "comp usage \"alternative: Engine \" as E8  <<(T,blue) part>> [[psysml:79c1d929-0a70-426e-ae6d-56e5e3e776a6 ]] {\r\n",
       "}\r\n",
       "comp usage \"selectedAlternative: Engine \" as E9  <<(T,blue) part>> [[psysml:169f456a-e384-47f5-89e9-43fd13dd17eb ]] {\r\n",
       "}\r\n",
       "}\r\n",
       "E3 - -:|> E2 [[psysml:9be21745-fec5-4980-9af6-b796782d7969 ]] \r\n",
       "E4 - -:|> E2 [[psysml:1ad537aa-bda6-4221-a392-6db0b9fa994b ]] \r\n",
       "E5 ..> E2 [[psysml:ef23f2a8-b555-4000-b8d1-a9fc8ea83129 ]] : <<subject>>\r\n",
       "E5 *- - E7 [[psysml:3495a436-635c-4195-be5e-85a5d126f0e1 ]] \r\n",
       "E7 o- - \"1\"E8 [[psysml:e1d2632c-68a4-476d-b3ed-d8b6d2aaac51 ]] \r\n",
       "E8 - -:|> E2 [[psysml:a8ae8a0d-ad52-4d9e-986d-0c741d3467c2 ]] \r\n",
       "E5 o- - \"1\"E9 [[psysml:1023028c-00c5-4dde-9329-e4b02befe1ab ]] \r\n",
       "E9 - -:|> E2 [[psysml:d6cd1bf0-a8ac-42a9-91c6-4adc5d4642e7 ]] \r\n",
       "@enduml\r\n",
       "\n",
       "PlantUML version 1.2020.13(Sat Jun 13 12:26:38 UTC 2020)\n",
       "(EPL source distribution)\n",
       "Java Runtime: OpenJDK Runtime Environment\n",
       "JVM: OpenJDK 64-Bit Server VM\n",
       "Default Encoding: UTF-8\n",
       "Language: en\n",
       "Country: null\n",
       "--></g></svg>"
      ]
     },
     "execution_count": 57,
     "metadata": {},
     "output_type": "execute_result"
    }
   ],
   "source": [
    "%viz --style=\"ORTHOLINE\" --view=\"MIXED\" \"TradeStudyTest\""
   ]
  }
 ],
 "metadata": {
  "kernelspec": {
   "display_name": "SysML",
   "language": "sysml",
   "name": "sysml"
  },
  "language_info": {
   "codemirror_mode": "sysml",
   "file_extension": ".sysml",
   "mimetype": "text/x-sysml",
   "name": "SysML",
   "pygments_lexer": "java",
   "version": "1.0.0"
  }
 },
 "nbformat": 4,
 "nbformat_minor": 5
}
