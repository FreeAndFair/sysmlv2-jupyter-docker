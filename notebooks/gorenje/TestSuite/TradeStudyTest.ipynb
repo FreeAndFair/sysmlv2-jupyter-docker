{
 "cells": [
  {
   "cell_type": "markdown",
   "id": "overall-tribune",
   "metadata": {},
   "source": [
    "# SysML v2 Test Suite\n",
    "\n",
    "This can notebook can be cleared using menu `Edit --> Clear All Outputs` and then all cells can be\n",
    "run using menu `Run --> Run All Cells`.\n",
    "\n",
    "**WARNING**: This file is generated, all modifications here will be ignored.\n"
   ]
  },
  {
   "cell_type": "markdown",
   "id": "athletic-winner",
   "metadata": {},
   "source": [
    "## File: ../../sysml/src/examples/Simple Tests/TradeStudyTest.sysml"
   ]
  },
  {
   "cell_type": "code",
   "execution_count": 1,
   "id": "administrative-province",
   "metadata": {
    "execution": {
     "iopub.execute_input": "2021-03-25T09:29:20.162045Z",
     "iopub.status.busy": "2021-03-25T09:29:20.161467Z",
     "iopub.status.idle": "2021-03-25T09:29:20.593377Z",
     "shell.execute_reply": "2021-03-25T09:29:20.592940Z"
    }
   },
   "outputs": [
    {
     "data": {
      "text/plain": [
       "Package TradeStudyTest (e7b22b5a-e094-4714-8d0b-36d499df2f46)\n"
      ]
     },
     "execution_count": 1,
     "metadata": {},
     "output_type": "execute_result"
    }
   ],
   "source": [
    "package TradeStudyTest {\n",
    "\timport TradeStudies::*;\n",
    "\t\n",
    "\tpart def Engine;\n",
    "\tpart engine1: Engine;\n",
    "\tpart engine2: Engine;\n",
    "\t\n",
    "\tanalysis engineTradeStudy : TradeStudy {\n",
    "\t\tsubject : Engine[1..*] = {engine1, engine2};\n",
    "\t\tobjective : MaximizeObjective;\n",
    "\n",
    "\t\tcalc :>> objectiveFunction {\n",
    "\t\t\tin part : Engine;\n",
    "\t\t\treturn : Real;\n",
    "\t\t}\n",
    "\t\t\n",
    "\t\treturn part : Engine;\n",
    "\t}\n",
    "\t\n",
    "}"
   ]
  },
  {
   "cell_type": "code",
   "execution_count": 2,
   "id": "conventional-ordering",
   "metadata": {
    "execution": {
     "iopub.execute_input": "2021-03-25T09:29:20.645625Z",
     "iopub.status.busy": "2021-03-25T09:29:20.644580Z",
     "iopub.status.idle": "2021-03-25T09:29:21.615486Z",
     "shell.execute_reply": "2021-03-25T09:29:21.613847Z"
    }
   },
   "outputs": [
    {
     "data": {
      "image/svg+xml": [
       "<?xml version=\"1.0\" encoding=\"UTF-8\" standalone=\"no\"?><svg xmlns=\"http://www.w3.org/2000/svg\" xmlns:xlink=\"http://www.w3.org/1999/xlink\" contentScriptType=\"application/ecmascript\" contentStyleType=\"text/css\" height=\"527px\" preserveAspectRatio=\"none\" style=\"width:563px;height:527px;\" version=\"1.1\" viewBox=\"0 0 563 527\" width=\"563px\" zoomAndPan=\"magnify\"><defs/><g><!--MD5=[fbc87193dbaf4d95561dea2c320d4a47]\n",
       "cluster E1--><a href=\"psysml:8952aa40-03a2-4df7-81e1-750bf2c7b589\" target=\"_top\" title=\"psysml:8952aa40-03a2-4df7-81e1-750bf2c7b589\" xlink:actuate=\"onRequest\" xlink:href=\"psysml:8952aa40-03a2-4df7-81e1-750bf2c7b589\" xlink:show=\"new\" xlink:title=\"psysml:8952aa40-03a2-4df7-81e1-750bf2c7b589\" xlink:type=\"simple\"><polygon fill=\"#FFFFFF\" points=\"25.48,6,157.48,6,164.48,28.2969,541.48,28.2969,541.48,515,25.48,515,25.48,6\" style=\"stroke: #000000; stroke-width: 1.5;\"/><line style=\"stroke: #000000; stroke-width: 1.5;\" x1=\"25.48\" x2=\"164.48\" y1=\"28.2969\" y2=\"28.2969\"/><text fill=\"#000000\" font-family=\"sans-serif\" font-size=\"14\" font-weight=\"bold\" lengthAdjust=\"spacingAndGlyphs\" textLength=\"126\" x=\"29.48\" y=\"20.9951\">TradeStudyTest</text></a><!--MD5=[b4997ac47864f28c2f74865a473b2911]\n",
       "class E2--><a href=\"psysml:ba5002a0-783d-43b2-abfa-70b37f90804c\" target=\"_top\" title=\"psysml:ba5002a0-783d-43b2-abfa-70b37f90804c\" xlink:actuate=\"onRequest\" xlink:href=\"psysml:ba5002a0-783d-43b2-abfa-70b37f90804c\" xlink:show=\"new\" xlink:title=\"psysml:ba5002a0-783d-43b2-abfa-70b37f90804c\" xlink:type=\"simple\"><rect fill=\"#FFFFFF\" height=\"45.9375\" id=\"E2\" style=\"stroke: #383838; stroke-width: 1.5;\" width=\"66\" x=\"205.48\" y=\"453\"/><text fill=\"#000000\" font-family=\"sans-serif\" font-size=\"12\" font-style=\"italic\" lengthAdjust=\"spacingAndGlyphs\" textLength=\"64\" x=\"206.48\" y=\"469.1387\">«part def»</text><text fill=\"#000000\" font-family=\"sans-serif\" font-size=\"12\" lengthAdjust=\"spacingAndGlyphs\" textLength=\"43\" x=\"216.98\" y=\"483.1074\">Engine</text><line style=\"stroke: #383838; stroke-width: 1.5;\" x1=\"206.48\" x2=\"270.48\" y1=\"490.9375\" y2=\"490.9375\"/></a><!--MD5=[09b614a08d8cba4a07c9adeb5e0fee81]\n",
       "class E3--><a href=\"psysml:47ce73ab-2c54-4db4-9d19-7bcb338cdf44\" target=\"_top\" title=\"psysml:47ce73ab-2c54-4db4-9d19-7bcb338cdf44\" xlink:actuate=\"onRequest\" xlink:href=\"psysml:47ce73ab-2c54-4db4-9d19-7bcb338cdf44\" xlink:show=\"new\" xlink:title=\"psysml:47ce73ab-2c54-4db4-9d19-7bcb338cdf44\" xlink:type=\"simple\"><rect fill=\"#FFFFFF\" height=\"45.9375\" id=\"E3\" rx=\"10\" ry=\"10\" style=\"stroke: #383838; stroke-width: 1.5;\" width=\"108\" x=\"417.48\" y=\"346\"/><text fill=\"#000000\" font-family=\"sans-serif\" font-size=\"12\" font-style=\"italic\" lengthAdjust=\"spacingAndGlyphs\" textLength=\"40\" x=\"451.48\" y=\"362.1387\">«part»</text><text fill=\"#000000\" font-family=\"sans-serif\" font-size=\"12\" lengthAdjust=\"spacingAndGlyphs\" textLength=\"102\" x=\"420.48\" y=\"376.1074\">engine1: Engine</text><line style=\"stroke: #383838; stroke-width: 1.5;\" x1=\"418.48\" x2=\"524.48\" y1=\"383.9375\" y2=\"383.9375\"/></a><!--MD5=[ebbe1d658d1005bcc118a6aa81145e00]\n",
       "class E4--><a href=\"psysml:7dfdc806-8438-4ccb-bd71-8b6bdaa69ab8\" target=\"_top\" title=\"psysml:7dfdc806-8438-4ccb-bd71-8b6bdaa69ab8\" xlink:actuate=\"onRequest\" xlink:href=\"psysml:7dfdc806-8438-4ccb-bd71-8b6bdaa69ab8\" xlink:show=\"new\" xlink:title=\"psysml:7dfdc806-8438-4ccb-bd71-8b6bdaa69ab8\" xlink:type=\"simple\"><rect fill=\"#FFFFFF\" height=\"45.9375\" id=\"E4\" rx=\"10\" ry=\"10\" style=\"stroke: #383838; stroke-width: 1.5;\" width=\"108\" x=\"274.48\" y=\"346\"/><text fill=\"#000000\" font-family=\"sans-serif\" font-size=\"12\" font-style=\"italic\" lengthAdjust=\"spacingAndGlyphs\" textLength=\"40\" x=\"308.48\" y=\"362.1387\">«part»</text><text fill=\"#000000\" font-family=\"sans-serif\" font-size=\"12\" lengthAdjust=\"spacingAndGlyphs\" textLength=\"102\" x=\"277.48\" y=\"376.1074\">engine2: Engine</text><line style=\"stroke: #383838; stroke-width: 1.5;\" x1=\"275.48\" x2=\"381.48\" y1=\"383.9375\" y2=\"383.9375\"/></a><!--MD5=[270fce915f116d4de14055a7c1d9a0f3]\n",
       "class E5--><a href=\"psysml:cd38e840-8317-467c-8230-e0f8852492a9\" target=\"_top\" title=\"psysml:cd38e840-8317-467c-8230-e0f8852492a9\" xlink:actuate=\"onRequest\" xlink:href=\"psysml:cd38e840-8317-467c-8230-e0f8852492a9\" xlink:show=\"new\" xlink:title=\"psysml:cd38e840-8317-467c-8230-e0f8852492a9\" xlink:type=\"simple\"><rect fill=\"#FFFFFF\" height=\"45.9375\" id=\"E5\" rx=\"10\" ry=\"10\" style=\"stroke: #383838; stroke-width: 1.5;\" width=\"199\" x=\"246.98\" y=\"41\"/><text fill=\"#000000\" font-family=\"sans-serif\" font-size=\"12\" font-style=\"italic\" lengthAdjust=\"spacingAndGlyphs\" textLength=\"64\" x=\"314.48\" y=\"57.1387\">«analysis»</text><text fill=\"#000000\" font-family=\"sans-serif\" font-size=\"12\" lengthAdjust=\"spacingAndGlyphs\" textLength=\"193\" x=\"249.98\" y=\"71.1074\">engineTradeStudy: TradeStudy</text><line style=\"stroke: #383838; stroke-width: 1.5;\" x1=\"247.98\" x2=\"444.98\" y1=\"78.9375\" y2=\"78.9375\"/></a><!--MD5=[60a26617385b1d2d0262a64233df1f8d]\n",
       "class E6--><a href=\"psysml:bf1db205-ea64-42b3-a829-2093a93eb81c\" target=\"_top\" title=\"psysml:bf1db205-ea64-42b3-a829-2093a93eb81c\" xlink:actuate=\"onRequest\" xlink:href=\"psysml:bf1db205-ea64-42b3-a829-2093a93eb81c\" xlink:show=\"new\" xlink:title=\"psysml:bf1db205-ea64-42b3-a829-2093a93eb81c\" xlink:type=\"simple\"><rect fill=\"#FFFFFF\" height=\"45.9375\" id=\"E6\" rx=\"10\" ry=\"10\" style=\"stroke: #383838; stroke-width: 1.5;\" width=\"251\" x=\"85.98\" y=\"179\"/><text fill=\"#000000\" font-family=\"sans-serif\" font-size=\"12\" font-style=\"italic\" lengthAdjust=\"spacingAndGlyphs\" textLength=\"91\" x=\"165.98\" y=\"195.1387\">«requirement»</text><text fill=\"#000000\" font-family=\"sans-serif\" font-size=\"12\" lengthAdjust=\"spacingAndGlyphs\" textLength=\"245\" x=\"88.98\" y=\"209.1074\">tradeStudyObjective: MaximizeObjective</text><line style=\"stroke: #383838; stroke-width: 1.5;\" x1=\"86.98\" x2=\"335.98\" y1=\"216.9375\" y2=\"216.9375\"/></a><!--MD5=[2156ba9850f5573cc1fc38a6a4b2f02b]\n",
       "class E7--><a href=\"psysml:081fa6ee-8a6f-4292-82c4-f5eb64360f97\" target=\"_top\" title=\"psysml:081fa6ee-8a6f-4292-82c4-f5eb64360f97\" xlink:actuate=\"onRequest\" xlink:href=\"psysml:081fa6ee-8a6f-4292-82c4-f5eb64360f97\" xlink:show=\"new\" xlink:title=\"psysml:081fa6ee-8a6f-4292-82c4-f5eb64360f97\" xlink:type=\"simple\"><rect fill=\"#FFFFFF\" height=\"75.5469\" id=\"E7\" rx=\"10\" ry=\"10\" style=\"stroke: #383838; stroke-width: 1.5;\" width=\"116\" x=\"372.48\" y=\"164\"/><text fill=\"#000000\" font-family=\"sans-serif\" font-size=\"12\" font-style=\"italic\" lengthAdjust=\"spacingAndGlyphs\" textLength=\"82\" x=\"389.48\" y=\"180.1387\">«calculation»</text><text fill=\"#000000\" font-family=\"sans-serif\" font-size=\"12\" lengthAdjust=\"spacingAndGlyphs\" textLength=\"110\" x=\"375.48\" y=\"194.1074\">objectiveFunction</text><line style=\"stroke: #383838; stroke-width: 1.5;\" x1=\"373.48\" x2=\"487.48\" y1=\"201.9375\" y2=\"201.9375\"/><text fill=\"#000000\" font-family=\"sans-serif\" font-size=\"11\" lengthAdjust=\"spacingAndGlyphs\" textLength=\"65\" x=\"378.48\" y=\"232.9526\">result: Real</text><line style=\"stroke: #383838; stroke-width: 1.0;\" x1=\"373.48\" x2=\"402.98\" y1=\"216.3398\" y2=\"216.3398\"/><text fill=\"#000000\" font-family=\"sans-serif\" font-size=\"11\" lengthAdjust=\"spacingAndGlyphs\" textLength=\"55\" x=\"402.98\" y=\"219.6479\">attributes</text><line style=\"stroke: #383838; stroke-width: 1.0;\" x1=\"457.98\" x2=\"487.48\" y1=\"216.3398\" y2=\"216.3398\"/></a><!--MD5=[b9389687b975829384b498ac4b7476b2]\n",
       "class E8--><a href=\"psysml:dbdbccdb-5c16-4bd3-a501-4b1c7e9ddcab\" target=\"_top\" title=\"psysml:dbdbccdb-5c16-4bd3-a501-4b1c7e9ddcab\" xlink:actuate=\"onRequest\" xlink:href=\"psysml:dbdbccdb-5c16-4bd3-a501-4b1c7e9ddcab\" xlink:show=\"new\" xlink:title=\"psysml:dbdbccdb-5c16-4bd3-a501-4b1c7e9ddcab\" xlink:type=\"simple\"><rect fill=\"#FFFFFF\" height=\"45.9375\" id=\"E8\" rx=\"10\" ry=\"10\" style=\"stroke: #383838; stroke-width: 1.5;\" width=\"124\" x=\"78.48\" y=\"346\"/><text fill=\"#000000\" font-family=\"sans-serif\" font-size=\"12\" font-style=\"italic\" lengthAdjust=\"spacingAndGlyphs\" textLength=\"40\" x=\"120.48\" y=\"362.1387\">«part»</text><text fill=\"#000000\" font-family=\"sans-serif\" font-size=\"12\" lengthAdjust=\"spacingAndGlyphs\" textLength=\"118\" x=\"81.48\" y=\"376.1074\">alternative: Engine</text><line style=\"stroke: #383838; stroke-width: 1.5;\" x1=\"79.48\" x2=\"201.48\" y1=\"383.9375\" y2=\"383.9375\"/></a><!--MD5=[fd4143e9d270a159db93a4ea2a975926]\n",
       "class E9--><a href=\"psysml:b6df212f-8018-4500-9608-46bc28de5179\" target=\"_top\" title=\"psysml:b6df212f-8018-4500-9608-46bc28de5179\" xlink:actuate=\"onRequest\" xlink:href=\"psysml:b6df212f-8018-4500-9608-46bc28de5179\" xlink:show=\"new\" xlink:title=\"psysml:b6df212f-8018-4500-9608-46bc28de5179\" xlink:type=\"simple\"><rect fill=\"#FFFFFF\" height=\"45.9375\" id=\"E9\" rx=\"10\" ry=\"10\" style=\"stroke: #383838; stroke-width: 1.5;\" width=\"178\" x=\"298.48\" y=\"270\"/><text fill=\"#000000\" font-family=\"sans-serif\" font-size=\"12\" font-style=\"italic\" lengthAdjust=\"spacingAndGlyphs\" textLength=\"40\" x=\"367.48\" y=\"286.1387\">«part»</text><text fill=\"#000000\" font-family=\"sans-serif\" font-size=\"12\" lengthAdjust=\"spacingAndGlyphs\" textLength=\"172\" x=\"301.48\" y=\"300.1074\">selectedAlternative: Engine</text><line style=\"stroke: #383838; stroke-width: 1.5;\" x1=\"299.48\" x2=\"475.48\" y1=\"307.9375\" y2=\"307.9375\"/></a><!--MD5=[05d275557350bfb9b23a4ef7222b4c39]\n",
       "link E3 to E2--><a href=\"psysml:6a611645-87b6-456f-b99f-fe1a3075932c\" target=\"_top\" title=\"psysml:6a611645-87b6-456f-b99f-fe1a3075932c\" xlink:actuate=\"onRequest\" xlink:href=\"psysml:6a611645-87b6-456f-b99f-fe1a3075932c\" xlink:show=\"new\" xlink:title=\"psysml:6a611645-87b6-456f-b99f-fe1a3075932c\" xlink:type=\"simple\"><path d=\"M422.64,392.01 C383.73,409.54 329.43,434.01 289.87,451.84 \" fill=\"none\" id=\"E3-&gt;E2\" style=\"stroke: #383838; stroke-width: 1.0;\"/><polygon fill=\"#FFFFFF\" points=\"271.5,460.12,285.9466,445.9321,291.6983,458.696,271.5,460.12\" style=\"stroke: #383838; stroke-width: 1.0;\"/><ellipse cx=\"291.965\" cy=\"445.4137\" fill=\"#383838\" rx=\"2\" ry=\"2\" style=\"stroke: #383838; stroke-width: 1.0;\"/><ellipse cx=\"296.0734\" cy=\"454.5308\" fill=\"#383838\" rx=\"2\" ry=\"2\" style=\"stroke: #383838; stroke-width: 1.0;\"/></a><!--MD5=[185131fc0dcab0a4505a2ebe144e961b]\n",
       "link E4 to E2--><a href=\"psysml:c8f697e8-ebd5-44e8-8041-765052aa0dda\" target=\"_top\" title=\"psysml:c8f697e8-ebd5-44e8-8041-765052aa0dda\" xlink:actuate=\"onRequest\" xlink:href=\"psysml:c8f697e8-ebd5-44e8-8041-765052aa0dda\" xlink:show=\"new\" xlink:title=\"psysml:c8f697e8-ebd5-44e8-8041-765052aa0dda\" xlink:type=\"simple\"><path d=\"M309.61,392.01 C298.41,405.08 283.9,422.01 270.9,437.17 \" fill=\"none\" id=\"E4-&gt;E2\" style=\"stroke: #383838; stroke-width: 1.0;\"/><polygon fill=\"#FFFFFF\" points=\"257.63,452.66,264.6788,433.678,275.3091,442.7883,257.63,452.66\" style=\"stroke: #383838; stroke-width: 1.0;\"/><ellipse cx=\"269.9066\" cy=\"430.6515\" fill=\"#383838\" rx=\"2\" ry=\"2\" style=\"stroke: #383838; stroke-width: 1.0;\"/><ellipse cx=\"277.4996\" cy=\"437.1588\" fill=\"#383838\" rx=\"2\" ry=\"2\" style=\"stroke: #383838; stroke-width: 1.0;\"/></a><!--MD5=[15ebcb19ae302d9b601edb458606d402]\n",
       "link E5 to E2--><a href=\"psysml:2f46211a-dc33-450b-96f1-34c5430f413d\" target=\"_top\" title=\"psysml:2f46211a-dc33-450b-96f1-34c5430f413d\" xlink:actuate=\"onRequest\" xlink:href=\"psysml:2f46211a-dc33-450b-96f1-34c5430f413d\" xlink:show=\"new\" xlink:title=\"psysml:2f46211a-dc33-450b-96f1-34c5430f413d\" xlink:type=\"simple\"><path d=\"M246.76,73.1 C184.92,83.79 109.66,108.27 68.48,164 C8.23,245.55 6,306.48 60.48,392 C91.11,440.08 157.66,460.76 200.15,469.32 \" fill=\"none\" id=\"E5-&gt;E2\" style=\"stroke: #383838; stroke-width: 1.0; stroke-dasharray: 7.0,7.0;\"/><polygon fill=\"#383838\" points=\"205.2,470.31,197.1338,464.6588,200.2927,469.3514,195.6001,472.5104,205.2,470.31\" style=\"stroke: #383838; stroke-width: 1.0;\"/><text fill=\"#000000\" font-family=\"sans-serif\" font-size=\"13\" lengthAdjust=\"spacingAndGlyphs\" textLength=\"62\" x=\"26.48\" y=\"297.5669\">«subject»</text></a><!--MD5=[9120cf2e5df3bff93db8f754bbbc09b4]\n",
       "link E5 to E6--><a href=\"psysml:285bfc51-142a-40f2-bdf1-cdd7141b9b55\" target=\"_top\" title=\"psysml:285bfc51-142a-40f2-bdf1-cdd7141b9b55\" xlink:actuate=\"onRequest\" xlink:href=\"psysml:285bfc51-142a-40f2-bdf1-cdd7141b9b55\" xlink:show=\"new\" xlink:title=\"psysml:285bfc51-142a-40f2-bdf1-cdd7141b9b55\" xlink:type=\"simple\"><path d=\"M324.49,87.15 C301.25,110.57 264.53,147.55 239.3,172.98 \" fill=\"none\" id=\"E5-&gt;E6\" style=\"stroke: #383838; stroke-width: 1.0;\"/><polygon fill=\"#383838\" points=\"233.46,178.86,241.2247,175.295,236.966,171.0685,233.46,178.86\" style=\"stroke: #383838; stroke-width: 1.0;\"/><text fill=\"#000000\" font-family=\"sans-serif\" font-size=\"13\" lengthAdjust=\"spacingAndGlyphs\" textLength=\"73\" x=\"291.48\" y=\"130.0669\">«objective»</text></a><!--MD5=[452b418e7f8a40397a49b8c0a78acc5b]\n",
       "reverse link E5 to E7--><a href=\"psysml:081fa6ee-8a6f-4292-82c4-f5eb64360f97\" target=\"_top\" title=\"psysml:081fa6ee-8a6f-4292-82c4-f5eb64360f97\" xlink:actuate=\"onRequest\" xlink:href=\"psysml:081fa6ee-8a6f-4292-82c4-f5eb64360f97\" xlink:show=\"new\" xlink:title=\"psysml:081fa6ee-8a6f-4292-82c4-f5eb64360f97\" xlink:type=\"simple\"><path d=\"M367.14,98.44 C379.4,118.3 394.98,143.52 407.61,163.97 \" fill=\"none\" id=\"E5&lt;-E7\" style=\"stroke: #383838; stroke-width: 1.0;\"/><polygon fill=\"#383838\" points=\"360.16,87.15,359.9052,94.3566,366.4595,97.3636,366.7142,90.157,360.16,87.15\" style=\"stroke: #383838; stroke-width: 1.0;\"/></a><!--MD5=[f1f3f9f2fc535e6147756cb86a7f2e32]\n",
       "link E8 to E2--><a href=\"psysml:143d7cb3-4d47-41f0-bb56-6d1ae515b029\" target=\"_top\" title=\"psysml:143d7cb3-4d47-41f0-bb56-6d1ae515b029\" xlink:actuate=\"onRequest\" xlink:href=\"psysml:143d7cb3-4d47-41f0-bb56-6d1ae515b029\" xlink:show=\"new\" xlink:title=\"psysml:143d7cb3-4d47-41f0-bb56-6d1ae515b029\" xlink:type=\"simple\"><path d=\"M161.02,392.01 C173.35,405.22 189.36,422.38 203.62,437.65 \" fill=\"none\" id=\"E8-&gt;E2\" style=\"stroke: #383838; stroke-width: 1.0;\"/><polygon fill=\"#FFFFFF\" points=\"217.63,452.66,199.5521,443.5393,209.7905,433.9907,217.63,452.66\" style=\"stroke: #383838; stroke-width: 1.0;\"/><ellipse cx=\"197.1271\" cy=\"438.0067\" fill=\"#383838\" rx=\"2\" ry=\"2\" style=\"stroke: #383838; stroke-width: 1.0;\"/><ellipse cx=\"204.4402\" cy=\"431.1863\" fill=\"#383838\" rx=\"2\" ry=\"2\" style=\"stroke: #383838; stroke-width: 1.0;\"/></a><!--MD5=[dc164f5e8a733ab456ef1add180e9e34]\n",
       "reverse link E7 to E8--><a href=\"psysml:dbdbccdb-5c16-4bd3-a501-4b1c7e9ddcab\" target=\"_top\" title=\"psysml:dbdbccdb-5c16-4bd3-a501-4b1c7e9ddcab\" xlink:actuate=\"onRequest\" xlink:href=\"psysml:dbdbccdb-5c16-4bd3-a501-4b1c7e9ddcab\" xlink:show=\"new\" xlink:title=\"psysml:dbdbccdb-5c16-4bd3-a501-4b1c7e9ddcab\" xlink:type=\"simple\"><path d=\"M360.21,237.41 C358.28,238.29 356.37,239.15 354.48,240 C322.47,254.35 312.29,253.22 281.48,270 C240.11,292.53 196.1,324.58 168.46,345.81 \" fill=\"none\" id=\"E7&lt;-E8\" style=\"stroke: #383838; stroke-width: 1.0;\"/><polygon fill=\"#FFFFFF\" points=\"372.15,231.86,365.0224,230.7655,361.2708,236.9238,368.3983,238.0183,372.15,231.86\" style=\"stroke: #383838; stroke-width: 1.0;\"/></a><!--MD5=[5c3bb36fe832a92c7f0e1807dd65209d]\n",
       "link E9 to E2--><a href=\"psysml:cb3e8ea7-f115-4f34-bcd9-dd1e6ba812b8\" target=\"_top\" title=\"psysml:cb3e8ea7-f115-4f34-bcd9-dd1e6ba812b8\" xlink:actuate=\"onRequest\" xlink:href=\"psysml:cb3e8ea7-f115-4f34-bcd9-dd1e6ba812b8\" xlink:show=\"new\" xlink:title=\"psysml:cb3e8ea7-f115-4f34-bcd9-dd1e6ba812b8\" xlink:type=\"simple\"><path d=\"M298.35,315.15 C282.73,322.56 268.1,332.55 257.48,346 C238.33,370.25 234.2,405.32 234.52,432.77 \" fill=\"none\" id=\"E9-&gt;E2\" style=\"stroke: #383838; stroke-width: 1.0;\"/><polygon fill=\"#FFFFFF\" points=\"235.52,452.81,227.5786,434.1838,241.5611,433.4837,235.52,452.81\" style=\"stroke: #383838; stroke-width: 1.0;\"/><ellipse cx=\"229.291\" cy=\"428.3909\" fill=\"#383838\" rx=\"2\" ry=\"2\" style=\"stroke: #383838; stroke-width: 1.0;\"/><ellipse cx=\"239.2785\" cy=\"427.8909\" fill=\"#383838\" rx=\"2\" ry=\"2\" style=\"stroke: #383838; stroke-width: 1.0;\"/></a><!--MD5=[9ae28de373ca99bb8a1b38d63370ca7e]\n",
       "reverse link E5 to E9--><a href=\"psysml:b6df212f-8018-4500-9608-46bc28de5179\" target=\"_top\" title=\"psysml:b6df212f-8018-4500-9608-46bc28de5179\" xlink:actuate=\"onRequest\" xlink:href=\"psysml:b6df212f-8018-4500-9608-46bc28de5179\" xlink:show=\"new\" xlink:title=\"psysml:b6df212f-8018-4500-9608-46bc28de5179\" xlink:type=\"simple\"><path d=\"M423.24,92.77 C454.94,108.48 488.43,131.61 506.48,164 C522.92,193.51 524.97,211.74 506.48,240 C498.02,252.92 485.57,262.65 471.87,269.97 \" fill=\"none\" id=\"E5&lt;-E9\" style=\"stroke: #383838; stroke-width: 1.0;\"/><polygon fill=\"#FFFFFF\" points=\"411.22,87.11,414.9414,93.2867,422.0742,92.2272,418.3528,86.0505,411.22,87.11\" style=\"stroke: #383838; stroke-width: 1.0;\"/></a><!--MD5=[42ee3f91792e8d92dee62a3f320fdcdc]\n",
       "@startuml\r\n",
       " skinparam monochrome true\r\n",
       "skinparam classbackgroundcolor white\r\n",
       "skinparam shadowing false\r\n",
       "skinparam wrapWidth 300\r\n",
       "hide circle\r\n",
       "\r\n",
       "package \"TradeStudyTest\" as E1  [[psysml:8952aa40-03a2-4df7-81e1-750bf2c7b589 ]]  {\r\n",
       "comp def \"Engine\" as E2  <<(T,blue)part def>> [[psysml:ba5002a0-783d-43b2-abfa-70b37f90804c ]] {\r\n",
       "}\r\n",
       "comp usage \"engine1: Engine\" as E3  <<(T,blue)part>> [[psysml:47ce73ab-2c54-4db4-9d19-7bcb338cdf44 ]] {\r\n",
       "}\r\n",
       "comp usage \"engine2: Engine\" as E4  <<(T,blue)part>> [[psysml:7dfdc806-8438-4ccb-bd71-8b6bdaa69ab8 ]] {\r\n",
       "}\r\n",
       "comp usage \"engineTradeStudy: TradeStudy\" as E5 <<analysis>> [[psysml:cd38e840-8317-467c-8230-e0f8852492a9 ]] {\r\n",
       "}\r\n",
       "comp usage \"tradeStudyObjective: MaximizeObjective\" as E6  <<(T,blue)requirement>> [[psysml:bf1db205-ea64-42b3-a829-2093a93eb81c ]] {\r\n",
       "}\r\n",
       "comp usage \"objectiveFunction\" as E7  <<(T,blue)calculation>> [[psysml:081fa6ee-8a6f-4292-82c4-f5eb64360f97 ]] {\r\n",
       "- - attributes - -\r\n",
       "result: Real\r\n",
       "}\r\n",
       "comp usage \"alternative: Engine\" as E8  <<(T,blue)part>> [[psysml:dbdbccdb-5c16-4bd3-a501-4b1c7e9ddcab ]] {\r\n",
       "}\r\n",
       "comp usage \"selectedAlternative: Engine\" as E9  <<(T,blue)part>> [[psysml:b6df212f-8018-4500-9608-46bc28de5179 ]] {\r\n",
       "}\r\n",
       "E3 - -:|> E2 [[psysml:6a611645-87b6-456f-b99f-fe1a3075932c ]] \r\n",
       "E4 - -:|> E2 [[psysml:c8f697e8-ebd5-44e8-8041-765052aa0dda ]] \r\n",
       "E5 ..> E2 [[psysml:2f46211a-dc33-450b-96f1-34c5430f413d ]] : <<subject>>\r\n",
       "E5 - ->> E6 [[psysml:285bfc51-142a-40f2-bdf1-cdd7141b9b55 ]] : <<objective>>\r\n",
       "E5 *- - E7 [[psysml:081fa6ee-8a6f-4292-82c4-f5eb64360f97 ]] \r\n",
       "E8 - -:|> E2 [[psysml:143d7cb3-4d47-41f0-bb56-6d1ae515b029 ]] \r\n",
       "E7 o- - E8 [[psysml:dbdbccdb-5c16-4bd3-a501-4b1c7e9ddcab ]] \r\n",
       "E9 - -:|> E2 [[psysml:cb3e8ea7-f115-4f34-bcd9-dd1e6ba812b8 ]] \r\n",
       "E5 o- - E9 [[psysml:b6df212f-8018-4500-9608-46bc28de5179 ]] \r\n",
       "}\r\n",
       "@enduml\r\n",
       "\n",
       "PlantUML version 1.2020.13(Sat Jun 13 12:26:38 UTC 2020)\n",
       "(EPL source distribution)\n",
       "Java Runtime: OpenJDK Runtime Environment\n",
       "JVM: OpenJDK 64-Bit Server VM\n",
       "Default Encoding: UTF-8\n",
       "Language: en\n",
       "Country: null\n",
       "--></g></svg>"
      ]
     },
     "execution_count": 2,
     "metadata": {},
     "output_type": "execute_result"
    }
   ],
   "source": [
    "%viz --style=\"COMPTREE\" --view=\"Default\" \"TradeStudyTest\""
   ]
  },
  {
   "cell_type": "code",
   "execution_count": 3,
   "id": "civil-wichita",
   "metadata": {
    "execution": {
     "iopub.execute_input": "2021-03-25T09:29:21.666077Z",
     "iopub.status.busy": "2021-03-25T09:29:21.665516Z",
     "iopub.status.idle": "2021-03-25T09:29:22.023788Z",
     "shell.execute_reply": "2021-03-25T09:29:22.021623Z"
    }
   },
   "outputs": [
    {
     "data": {
      "image/svg+xml": [
       "<?xml version=\"1.0\" encoding=\"UTF-8\" standalone=\"no\"?><svg xmlns=\"http://www.w3.org/2000/svg\" xmlns:xlink=\"http://www.w3.org/1999/xlink\" contentScriptType=\"application/ecmascript\" contentStyleType=\"text/css\" height=\"527px\" preserveAspectRatio=\"none\" style=\"width:563px;height:527px;\" version=\"1.1\" viewBox=\"0 0 563 527\" width=\"563px\" zoomAndPan=\"magnify\"><defs/><g><!--MD5=[fbc87193dbaf4d95561dea2c320d4a47]\n",
       "cluster E1--><a href=\"psysml:8952aa40-03a2-4df7-81e1-750bf2c7b589\" target=\"_top\" title=\"psysml:8952aa40-03a2-4df7-81e1-750bf2c7b589\" xlink:actuate=\"onRequest\" xlink:href=\"psysml:8952aa40-03a2-4df7-81e1-750bf2c7b589\" xlink:show=\"new\" xlink:title=\"psysml:8952aa40-03a2-4df7-81e1-750bf2c7b589\" xlink:type=\"simple\"><polygon fill=\"#FFFFFF\" points=\"25.48,6,157.48,6,164.48,28.2969,541.48,28.2969,541.48,515,25.48,515,25.48,6\" style=\"stroke: #000000; stroke-width: 1.5;\"/><line style=\"stroke: #000000; stroke-width: 1.5;\" x1=\"25.48\" x2=\"164.48\" y1=\"28.2969\" y2=\"28.2969\"/><text fill=\"#000000\" font-family=\"sans-serif\" font-size=\"14\" font-weight=\"bold\" lengthAdjust=\"spacingAndGlyphs\" textLength=\"126\" x=\"29.48\" y=\"20.9951\">TradeStudyTest</text></a><!--MD5=[b4997ac47864f28c2f74865a473b2911]\n",
       "class E2--><a href=\"psysml:ba5002a0-783d-43b2-abfa-70b37f90804c\" target=\"_top\" title=\"psysml:ba5002a0-783d-43b2-abfa-70b37f90804c\" xlink:actuate=\"onRequest\" xlink:href=\"psysml:ba5002a0-783d-43b2-abfa-70b37f90804c\" xlink:show=\"new\" xlink:title=\"psysml:ba5002a0-783d-43b2-abfa-70b37f90804c\" xlink:type=\"simple\"><rect fill=\"#FFFFFF\" height=\"45.9375\" id=\"E2\" style=\"stroke: #383838; stroke-width: 1.5;\" width=\"66\" x=\"205.48\" y=\"453\"/><text fill=\"#000000\" font-family=\"sans-serif\" font-size=\"12\" font-style=\"italic\" lengthAdjust=\"spacingAndGlyphs\" textLength=\"64\" x=\"206.48\" y=\"469.1387\">«part def»</text><text fill=\"#000000\" font-family=\"sans-serif\" font-size=\"12\" lengthAdjust=\"spacingAndGlyphs\" textLength=\"43\" x=\"216.98\" y=\"483.1074\">Engine</text><line style=\"stroke: #383838; stroke-width: 1.5;\" x1=\"206.48\" x2=\"270.48\" y1=\"490.9375\" y2=\"490.9375\"/></a><!--MD5=[09b614a08d8cba4a07c9adeb5e0fee81]\n",
       "class E3--><a href=\"psysml:47ce73ab-2c54-4db4-9d19-7bcb338cdf44\" target=\"_top\" title=\"psysml:47ce73ab-2c54-4db4-9d19-7bcb338cdf44\" xlink:actuate=\"onRequest\" xlink:href=\"psysml:47ce73ab-2c54-4db4-9d19-7bcb338cdf44\" xlink:show=\"new\" xlink:title=\"psysml:47ce73ab-2c54-4db4-9d19-7bcb338cdf44\" xlink:type=\"simple\"><rect fill=\"#FFFFFF\" height=\"45.9375\" id=\"E3\" rx=\"10\" ry=\"10\" style=\"stroke: #383838; stroke-width: 1.5;\" width=\"108\" x=\"417.48\" y=\"346\"/><text fill=\"#000000\" font-family=\"sans-serif\" font-size=\"12\" font-style=\"italic\" lengthAdjust=\"spacingAndGlyphs\" textLength=\"40\" x=\"451.48\" y=\"362.1387\">«part»</text><text fill=\"#000000\" font-family=\"sans-serif\" font-size=\"12\" lengthAdjust=\"spacingAndGlyphs\" textLength=\"102\" x=\"420.48\" y=\"376.1074\">engine1: Engine</text><line style=\"stroke: #383838; stroke-width: 1.5;\" x1=\"418.48\" x2=\"524.48\" y1=\"383.9375\" y2=\"383.9375\"/></a><!--MD5=[ebbe1d658d1005bcc118a6aa81145e00]\n",
       "class E4--><a href=\"psysml:7dfdc806-8438-4ccb-bd71-8b6bdaa69ab8\" target=\"_top\" title=\"psysml:7dfdc806-8438-4ccb-bd71-8b6bdaa69ab8\" xlink:actuate=\"onRequest\" xlink:href=\"psysml:7dfdc806-8438-4ccb-bd71-8b6bdaa69ab8\" xlink:show=\"new\" xlink:title=\"psysml:7dfdc806-8438-4ccb-bd71-8b6bdaa69ab8\" xlink:type=\"simple\"><rect fill=\"#FFFFFF\" height=\"45.9375\" id=\"E4\" rx=\"10\" ry=\"10\" style=\"stroke: #383838; stroke-width: 1.5;\" width=\"108\" x=\"274.48\" y=\"346\"/><text fill=\"#000000\" font-family=\"sans-serif\" font-size=\"12\" font-style=\"italic\" lengthAdjust=\"spacingAndGlyphs\" textLength=\"40\" x=\"308.48\" y=\"362.1387\">«part»</text><text fill=\"#000000\" font-family=\"sans-serif\" font-size=\"12\" lengthAdjust=\"spacingAndGlyphs\" textLength=\"102\" x=\"277.48\" y=\"376.1074\">engine2: Engine</text><line style=\"stroke: #383838; stroke-width: 1.5;\" x1=\"275.48\" x2=\"381.48\" y1=\"383.9375\" y2=\"383.9375\"/></a><!--MD5=[270fce915f116d4de14055a7c1d9a0f3]\n",
       "class E5--><a href=\"psysml:cd38e840-8317-467c-8230-e0f8852492a9\" target=\"_top\" title=\"psysml:cd38e840-8317-467c-8230-e0f8852492a9\" xlink:actuate=\"onRequest\" xlink:href=\"psysml:cd38e840-8317-467c-8230-e0f8852492a9\" xlink:show=\"new\" xlink:title=\"psysml:cd38e840-8317-467c-8230-e0f8852492a9\" xlink:type=\"simple\"><rect fill=\"#FFFFFF\" height=\"45.9375\" id=\"E5\" rx=\"10\" ry=\"10\" style=\"stroke: #383838; stroke-width: 1.5;\" width=\"199\" x=\"246.98\" y=\"41\"/><text fill=\"#000000\" font-family=\"sans-serif\" font-size=\"12\" font-style=\"italic\" lengthAdjust=\"spacingAndGlyphs\" textLength=\"64\" x=\"314.48\" y=\"57.1387\">«analysis»</text><text fill=\"#000000\" font-family=\"sans-serif\" font-size=\"12\" lengthAdjust=\"spacingAndGlyphs\" textLength=\"193\" x=\"249.98\" y=\"71.1074\">engineTradeStudy: TradeStudy</text><line style=\"stroke: #383838; stroke-width: 1.5;\" x1=\"247.98\" x2=\"444.98\" y1=\"78.9375\" y2=\"78.9375\"/></a><!--MD5=[60a26617385b1d2d0262a64233df1f8d]\n",
       "class E6--><a href=\"psysml:bf1db205-ea64-42b3-a829-2093a93eb81c\" target=\"_top\" title=\"psysml:bf1db205-ea64-42b3-a829-2093a93eb81c\" xlink:actuate=\"onRequest\" xlink:href=\"psysml:bf1db205-ea64-42b3-a829-2093a93eb81c\" xlink:show=\"new\" xlink:title=\"psysml:bf1db205-ea64-42b3-a829-2093a93eb81c\" xlink:type=\"simple\"><rect fill=\"#FFFFFF\" height=\"45.9375\" id=\"E6\" rx=\"10\" ry=\"10\" style=\"stroke: #383838; stroke-width: 1.5;\" width=\"251\" x=\"85.98\" y=\"179\"/><text fill=\"#000000\" font-family=\"sans-serif\" font-size=\"12\" font-style=\"italic\" lengthAdjust=\"spacingAndGlyphs\" textLength=\"91\" x=\"165.98\" y=\"195.1387\">«requirement»</text><text fill=\"#000000\" font-family=\"sans-serif\" font-size=\"12\" lengthAdjust=\"spacingAndGlyphs\" textLength=\"245\" x=\"88.98\" y=\"209.1074\">tradeStudyObjective: MaximizeObjective</text><line style=\"stroke: #383838; stroke-width: 1.5;\" x1=\"86.98\" x2=\"335.98\" y1=\"216.9375\" y2=\"216.9375\"/></a><!--MD5=[2156ba9850f5573cc1fc38a6a4b2f02b]\n",
       "class E7--><a href=\"psysml:081fa6ee-8a6f-4292-82c4-f5eb64360f97\" target=\"_top\" title=\"psysml:081fa6ee-8a6f-4292-82c4-f5eb64360f97\" xlink:actuate=\"onRequest\" xlink:href=\"psysml:081fa6ee-8a6f-4292-82c4-f5eb64360f97\" xlink:show=\"new\" xlink:title=\"psysml:081fa6ee-8a6f-4292-82c4-f5eb64360f97\" xlink:type=\"simple\"><rect fill=\"#FFFFFF\" height=\"75.5469\" id=\"E7\" rx=\"10\" ry=\"10\" style=\"stroke: #383838; stroke-width: 1.5;\" width=\"116\" x=\"372.48\" y=\"164\"/><text fill=\"#000000\" font-family=\"sans-serif\" font-size=\"12\" font-style=\"italic\" lengthAdjust=\"spacingAndGlyphs\" textLength=\"82\" x=\"389.48\" y=\"180.1387\">«calculation»</text><text fill=\"#000000\" font-family=\"sans-serif\" font-size=\"12\" lengthAdjust=\"spacingAndGlyphs\" textLength=\"110\" x=\"375.48\" y=\"194.1074\">objectiveFunction</text><line style=\"stroke: #383838; stroke-width: 1.5;\" x1=\"373.48\" x2=\"487.48\" y1=\"201.9375\" y2=\"201.9375\"/><text fill=\"#000000\" font-family=\"sans-serif\" font-size=\"11\" lengthAdjust=\"spacingAndGlyphs\" textLength=\"65\" x=\"378.48\" y=\"232.9526\">result: Real</text><line style=\"stroke: #383838; stroke-width: 1.0;\" x1=\"373.48\" x2=\"402.98\" y1=\"216.3398\" y2=\"216.3398\"/><text fill=\"#000000\" font-family=\"sans-serif\" font-size=\"11\" lengthAdjust=\"spacingAndGlyphs\" textLength=\"55\" x=\"402.98\" y=\"219.6479\">attributes</text><line style=\"stroke: #383838; stroke-width: 1.0;\" x1=\"457.98\" x2=\"487.48\" y1=\"216.3398\" y2=\"216.3398\"/></a><!--MD5=[b9389687b975829384b498ac4b7476b2]\n",
       "class E8--><a href=\"psysml:dbdbccdb-5c16-4bd3-a501-4b1c7e9ddcab\" target=\"_top\" title=\"psysml:dbdbccdb-5c16-4bd3-a501-4b1c7e9ddcab\" xlink:actuate=\"onRequest\" xlink:href=\"psysml:dbdbccdb-5c16-4bd3-a501-4b1c7e9ddcab\" xlink:show=\"new\" xlink:title=\"psysml:dbdbccdb-5c16-4bd3-a501-4b1c7e9ddcab\" xlink:type=\"simple\"><rect fill=\"#FFFFFF\" height=\"45.9375\" id=\"E8\" rx=\"10\" ry=\"10\" style=\"stroke: #383838; stroke-width: 1.5;\" width=\"124\" x=\"78.48\" y=\"346\"/><text fill=\"#000000\" font-family=\"sans-serif\" font-size=\"12\" font-style=\"italic\" lengthAdjust=\"spacingAndGlyphs\" textLength=\"40\" x=\"120.48\" y=\"362.1387\">«part»</text><text fill=\"#000000\" font-family=\"sans-serif\" font-size=\"12\" lengthAdjust=\"spacingAndGlyphs\" textLength=\"118\" x=\"81.48\" y=\"376.1074\">alternative: Engine</text><line style=\"stroke: #383838; stroke-width: 1.5;\" x1=\"79.48\" x2=\"201.48\" y1=\"383.9375\" y2=\"383.9375\"/></a><!--MD5=[fd4143e9d270a159db93a4ea2a975926]\n",
       "class E9--><a href=\"psysml:b6df212f-8018-4500-9608-46bc28de5179\" target=\"_top\" title=\"psysml:b6df212f-8018-4500-9608-46bc28de5179\" xlink:actuate=\"onRequest\" xlink:href=\"psysml:b6df212f-8018-4500-9608-46bc28de5179\" xlink:show=\"new\" xlink:title=\"psysml:b6df212f-8018-4500-9608-46bc28de5179\" xlink:type=\"simple\"><rect fill=\"#FFFFFF\" height=\"45.9375\" id=\"E9\" rx=\"10\" ry=\"10\" style=\"stroke: #383838; stroke-width: 1.5;\" width=\"178\" x=\"298.48\" y=\"270\"/><text fill=\"#000000\" font-family=\"sans-serif\" font-size=\"12\" font-style=\"italic\" lengthAdjust=\"spacingAndGlyphs\" textLength=\"40\" x=\"367.48\" y=\"286.1387\">«part»</text><text fill=\"#000000\" font-family=\"sans-serif\" font-size=\"12\" lengthAdjust=\"spacingAndGlyphs\" textLength=\"172\" x=\"301.48\" y=\"300.1074\">selectedAlternative: Engine</text><line style=\"stroke: #383838; stroke-width: 1.5;\" x1=\"299.48\" x2=\"475.48\" y1=\"307.9375\" y2=\"307.9375\"/></a><!--MD5=[05d275557350bfb9b23a4ef7222b4c39]\n",
       "link E3 to E2--><a href=\"psysml:6a611645-87b6-456f-b99f-fe1a3075932c\" target=\"_top\" title=\"psysml:6a611645-87b6-456f-b99f-fe1a3075932c\" xlink:actuate=\"onRequest\" xlink:href=\"psysml:6a611645-87b6-456f-b99f-fe1a3075932c\" xlink:show=\"new\" xlink:title=\"psysml:6a611645-87b6-456f-b99f-fe1a3075932c\" xlink:type=\"simple\"><path d=\"M422.64,392.01 C383.73,409.54 329.43,434.01 289.87,451.84 \" fill=\"none\" id=\"E3-&gt;E2\" style=\"stroke: #383838; stroke-width: 1.0;\"/><polygon fill=\"#FFFFFF\" points=\"271.5,460.12,285.9466,445.9321,291.6983,458.696,271.5,460.12\" style=\"stroke: #383838; stroke-width: 1.0;\"/><ellipse cx=\"291.965\" cy=\"445.4137\" fill=\"#383838\" rx=\"2\" ry=\"2\" style=\"stroke: #383838; stroke-width: 1.0;\"/><ellipse cx=\"296.0734\" cy=\"454.5308\" fill=\"#383838\" rx=\"2\" ry=\"2\" style=\"stroke: #383838; stroke-width: 1.0;\"/></a><!--MD5=[185131fc0dcab0a4505a2ebe144e961b]\n",
       "link E4 to E2--><a href=\"psysml:c8f697e8-ebd5-44e8-8041-765052aa0dda\" target=\"_top\" title=\"psysml:c8f697e8-ebd5-44e8-8041-765052aa0dda\" xlink:actuate=\"onRequest\" xlink:href=\"psysml:c8f697e8-ebd5-44e8-8041-765052aa0dda\" xlink:show=\"new\" xlink:title=\"psysml:c8f697e8-ebd5-44e8-8041-765052aa0dda\" xlink:type=\"simple\"><path d=\"M309.61,392.01 C298.41,405.08 283.9,422.01 270.9,437.17 \" fill=\"none\" id=\"E4-&gt;E2\" style=\"stroke: #383838; stroke-width: 1.0;\"/><polygon fill=\"#FFFFFF\" points=\"257.63,452.66,264.6788,433.678,275.3091,442.7883,257.63,452.66\" style=\"stroke: #383838; stroke-width: 1.0;\"/><ellipse cx=\"269.9066\" cy=\"430.6515\" fill=\"#383838\" rx=\"2\" ry=\"2\" style=\"stroke: #383838; stroke-width: 1.0;\"/><ellipse cx=\"277.4996\" cy=\"437.1588\" fill=\"#383838\" rx=\"2\" ry=\"2\" style=\"stroke: #383838; stroke-width: 1.0;\"/></a><!--MD5=[15ebcb19ae302d9b601edb458606d402]\n",
       "link E5 to E2--><a href=\"psysml:2f46211a-dc33-450b-96f1-34c5430f413d\" target=\"_top\" title=\"psysml:2f46211a-dc33-450b-96f1-34c5430f413d\" xlink:actuate=\"onRequest\" xlink:href=\"psysml:2f46211a-dc33-450b-96f1-34c5430f413d\" xlink:show=\"new\" xlink:title=\"psysml:2f46211a-dc33-450b-96f1-34c5430f413d\" xlink:type=\"simple\"><path d=\"M246.76,73.1 C184.92,83.79 109.66,108.27 68.48,164 C8.23,245.55 6,306.48 60.48,392 C91.11,440.08 157.66,460.76 200.15,469.32 \" fill=\"none\" id=\"E5-&gt;E2\" style=\"stroke: #383838; stroke-width: 1.0; stroke-dasharray: 7.0,7.0;\"/><polygon fill=\"#383838\" points=\"205.2,470.31,197.1338,464.6588,200.2927,469.3514,195.6001,472.5104,205.2,470.31\" style=\"stroke: #383838; stroke-width: 1.0;\"/><text fill=\"#000000\" font-family=\"sans-serif\" font-size=\"13\" lengthAdjust=\"spacingAndGlyphs\" textLength=\"62\" x=\"26.48\" y=\"297.5669\">«subject»</text></a><!--MD5=[9120cf2e5df3bff93db8f754bbbc09b4]\n",
       "link E5 to E6--><a href=\"psysml:285bfc51-142a-40f2-bdf1-cdd7141b9b55\" target=\"_top\" title=\"psysml:285bfc51-142a-40f2-bdf1-cdd7141b9b55\" xlink:actuate=\"onRequest\" xlink:href=\"psysml:285bfc51-142a-40f2-bdf1-cdd7141b9b55\" xlink:show=\"new\" xlink:title=\"psysml:285bfc51-142a-40f2-bdf1-cdd7141b9b55\" xlink:type=\"simple\"><path d=\"M324.49,87.15 C301.25,110.57 264.53,147.55 239.3,172.98 \" fill=\"none\" id=\"E5-&gt;E6\" style=\"stroke: #383838; stroke-width: 1.0;\"/><polygon fill=\"#383838\" points=\"233.46,178.86,241.2247,175.295,236.966,171.0685,233.46,178.86\" style=\"stroke: #383838; stroke-width: 1.0;\"/><text fill=\"#000000\" font-family=\"sans-serif\" font-size=\"13\" lengthAdjust=\"spacingAndGlyphs\" textLength=\"73\" x=\"291.48\" y=\"130.0669\">«objective»</text></a><!--MD5=[452b418e7f8a40397a49b8c0a78acc5b]\n",
       "reverse link E5 to E7--><a href=\"psysml:081fa6ee-8a6f-4292-82c4-f5eb64360f97\" target=\"_top\" title=\"psysml:081fa6ee-8a6f-4292-82c4-f5eb64360f97\" xlink:actuate=\"onRequest\" xlink:href=\"psysml:081fa6ee-8a6f-4292-82c4-f5eb64360f97\" xlink:show=\"new\" xlink:title=\"psysml:081fa6ee-8a6f-4292-82c4-f5eb64360f97\" xlink:type=\"simple\"><path d=\"M367.14,98.44 C379.4,118.3 394.98,143.52 407.61,163.97 \" fill=\"none\" id=\"E5&lt;-E7\" style=\"stroke: #383838; stroke-width: 1.0;\"/><polygon fill=\"#383838\" points=\"360.16,87.15,359.9052,94.3566,366.4595,97.3636,366.7142,90.157,360.16,87.15\" style=\"stroke: #383838; stroke-width: 1.0;\"/></a><!--MD5=[f1f3f9f2fc535e6147756cb86a7f2e32]\n",
       "link E8 to E2--><a href=\"psysml:143d7cb3-4d47-41f0-bb56-6d1ae515b029\" target=\"_top\" title=\"psysml:143d7cb3-4d47-41f0-bb56-6d1ae515b029\" xlink:actuate=\"onRequest\" xlink:href=\"psysml:143d7cb3-4d47-41f0-bb56-6d1ae515b029\" xlink:show=\"new\" xlink:title=\"psysml:143d7cb3-4d47-41f0-bb56-6d1ae515b029\" xlink:type=\"simple\"><path d=\"M161.02,392.01 C173.35,405.22 189.36,422.38 203.62,437.65 \" fill=\"none\" id=\"E8-&gt;E2\" style=\"stroke: #383838; stroke-width: 1.0;\"/><polygon fill=\"#FFFFFF\" points=\"217.63,452.66,199.5521,443.5393,209.7905,433.9907,217.63,452.66\" style=\"stroke: #383838; stroke-width: 1.0;\"/><ellipse cx=\"197.1271\" cy=\"438.0067\" fill=\"#383838\" rx=\"2\" ry=\"2\" style=\"stroke: #383838; stroke-width: 1.0;\"/><ellipse cx=\"204.4402\" cy=\"431.1863\" fill=\"#383838\" rx=\"2\" ry=\"2\" style=\"stroke: #383838; stroke-width: 1.0;\"/></a><!--MD5=[dc164f5e8a733ab456ef1add180e9e34]\n",
       "reverse link E7 to E8--><a href=\"psysml:dbdbccdb-5c16-4bd3-a501-4b1c7e9ddcab\" target=\"_top\" title=\"psysml:dbdbccdb-5c16-4bd3-a501-4b1c7e9ddcab\" xlink:actuate=\"onRequest\" xlink:href=\"psysml:dbdbccdb-5c16-4bd3-a501-4b1c7e9ddcab\" xlink:show=\"new\" xlink:title=\"psysml:dbdbccdb-5c16-4bd3-a501-4b1c7e9ddcab\" xlink:type=\"simple\"><path d=\"M360.21,237.41 C358.28,238.29 356.37,239.15 354.48,240 C322.47,254.35 312.29,253.22 281.48,270 C240.11,292.53 196.1,324.58 168.46,345.81 \" fill=\"none\" id=\"E7&lt;-E8\" style=\"stroke: #383838; stroke-width: 1.0;\"/><polygon fill=\"#FFFFFF\" points=\"372.15,231.86,365.0224,230.7655,361.2708,236.9238,368.3983,238.0183,372.15,231.86\" style=\"stroke: #383838; stroke-width: 1.0;\"/></a><!--MD5=[5c3bb36fe832a92c7f0e1807dd65209d]\n",
       "link E9 to E2--><a href=\"psysml:cb3e8ea7-f115-4f34-bcd9-dd1e6ba812b8\" target=\"_top\" title=\"psysml:cb3e8ea7-f115-4f34-bcd9-dd1e6ba812b8\" xlink:actuate=\"onRequest\" xlink:href=\"psysml:cb3e8ea7-f115-4f34-bcd9-dd1e6ba812b8\" xlink:show=\"new\" xlink:title=\"psysml:cb3e8ea7-f115-4f34-bcd9-dd1e6ba812b8\" xlink:type=\"simple\"><path d=\"M298.35,315.15 C282.73,322.56 268.1,332.55 257.48,346 C238.33,370.25 234.2,405.32 234.52,432.77 \" fill=\"none\" id=\"E9-&gt;E2\" style=\"stroke: #383838; stroke-width: 1.0;\"/><polygon fill=\"#FFFFFF\" points=\"235.52,452.81,227.5786,434.1838,241.5611,433.4837,235.52,452.81\" style=\"stroke: #383838; stroke-width: 1.0;\"/><ellipse cx=\"229.291\" cy=\"428.3909\" fill=\"#383838\" rx=\"2\" ry=\"2\" style=\"stroke: #383838; stroke-width: 1.0;\"/><ellipse cx=\"239.2785\" cy=\"427.8909\" fill=\"#383838\" rx=\"2\" ry=\"2\" style=\"stroke: #383838; stroke-width: 1.0;\"/></a><!--MD5=[9ae28de373ca99bb8a1b38d63370ca7e]\n",
       "reverse link E5 to E9--><a href=\"psysml:b6df212f-8018-4500-9608-46bc28de5179\" target=\"_top\" title=\"psysml:b6df212f-8018-4500-9608-46bc28de5179\" xlink:actuate=\"onRequest\" xlink:href=\"psysml:b6df212f-8018-4500-9608-46bc28de5179\" xlink:show=\"new\" xlink:title=\"psysml:b6df212f-8018-4500-9608-46bc28de5179\" xlink:type=\"simple\"><path d=\"M423.24,92.77 C454.94,108.48 488.43,131.61 506.48,164 C522.92,193.51 524.97,211.74 506.48,240 C498.02,252.92 485.57,262.65 471.87,269.97 \" fill=\"none\" id=\"E5&lt;-E9\" style=\"stroke: #383838; stroke-width: 1.0;\"/><polygon fill=\"#FFFFFF\" points=\"411.22,87.11,414.9414,93.2867,422.0742,92.2272,418.3528,86.0505,411.22,87.11\" style=\"stroke: #383838; stroke-width: 1.0;\"/></a><!--MD5=[42ee3f91792e8d92dee62a3f320fdcdc]\n",
       "@startuml\r\n",
       " skinparam monochrome true\r\n",
       "skinparam classbackgroundcolor white\r\n",
       "skinparam shadowing false\r\n",
       "skinparam wrapWidth 300\r\n",
       "hide circle\r\n",
       "\r\n",
       "package \"TradeStudyTest\" as E1  [[psysml:8952aa40-03a2-4df7-81e1-750bf2c7b589 ]]  {\r\n",
       "comp def \"Engine\" as E2  <<(T,blue)part def>> [[psysml:ba5002a0-783d-43b2-abfa-70b37f90804c ]] {\r\n",
       "}\r\n",
       "comp usage \"engine1: Engine\" as E3  <<(T,blue)part>> [[psysml:47ce73ab-2c54-4db4-9d19-7bcb338cdf44 ]] {\r\n",
       "}\r\n",
       "comp usage \"engine2: Engine\" as E4  <<(T,blue)part>> [[psysml:7dfdc806-8438-4ccb-bd71-8b6bdaa69ab8 ]] {\r\n",
       "}\r\n",
       "comp usage \"engineTradeStudy: TradeStudy\" as E5 <<analysis>> [[psysml:cd38e840-8317-467c-8230-e0f8852492a9 ]] {\r\n",
       "}\r\n",
       "comp usage \"tradeStudyObjective: MaximizeObjective\" as E6  <<(T,blue)requirement>> [[psysml:bf1db205-ea64-42b3-a829-2093a93eb81c ]] {\r\n",
       "}\r\n",
       "comp usage \"objectiveFunction\" as E7  <<(T,blue)calculation>> [[psysml:081fa6ee-8a6f-4292-82c4-f5eb64360f97 ]] {\r\n",
       "- - attributes - -\r\n",
       "result: Real\r\n",
       "}\r\n",
       "comp usage \"alternative: Engine\" as E8  <<(T,blue)part>> [[psysml:dbdbccdb-5c16-4bd3-a501-4b1c7e9ddcab ]] {\r\n",
       "}\r\n",
       "comp usage \"selectedAlternative: Engine\" as E9  <<(T,blue)part>> [[psysml:b6df212f-8018-4500-9608-46bc28de5179 ]] {\r\n",
       "}\r\n",
       "E3 - -:|> E2 [[psysml:6a611645-87b6-456f-b99f-fe1a3075932c ]] \r\n",
       "E4 - -:|> E2 [[psysml:c8f697e8-ebd5-44e8-8041-765052aa0dda ]] \r\n",
       "E5 ..> E2 [[psysml:2f46211a-dc33-450b-96f1-34c5430f413d ]] : <<subject>>\r\n",
       "E5 - ->> E6 [[psysml:285bfc51-142a-40f2-bdf1-cdd7141b9b55 ]] : <<objective>>\r\n",
       "E5 *- - E7 [[psysml:081fa6ee-8a6f-4292-82c4-f5eb64360f97 ]] \r\n",
       "E8 - -:|> E2 [[psysml:143d7cb3-4d47-41f0-bb56-6d1ae515b029 ]] \r\n",
       "E7 o- - E8 [[psysml:dbdbccdb-5c16-4bd3-a501-4b1c7e9ddcab ]] \r\n",
       "E9 - -:|> E2 [[psysml:cb3e8ea7-f115-4f34-bcd9-dd1e6ba812b8 ]] \r\n",
       "E5 o- - E9 [[psysml:b6df212f-8018-4500-9608-46bc28de5179 ]] \r\n",
       "}\r\n",
       "@enduml\r\n",
       "\n",
       "PlantUML version 1.2020.13(Sat Jun 13 12:26:38 UTC 2020)\n",
       "(EPL source distribution)\n",
       "Java Runtime: OpenJDK Runtime Environment\n",
       "JVM: OpenJDK 64-Bit Server VM\n",
       "Default Encoding: UTF-8\n",
       "Language: en\n",
       "Country: null\n",
       "--></g></svg>"
      ]
     },
     "execution_count": 3,
     "metadata": {},
     "output_type": "execute_result"
    }
   ],
   "source": [
    "%viz --style=\"COMPTREE\" --view=\"Tree\" \"TradeStudyTest\""
   ]
  },
  {
   "cell_type": "code",
   "execution_count": 4,
   "id": "detected-northeast",
   "metadata": {
    "execution": {
     "iopub.execute_input": "2021-03-25T09:29:22.073851Z",
     "iopub.status.busy": "2021-03-25T09:29:22.073349Z",
     "iopub.status.idle": "2021-03-25T09:29:22.083316Z",
     "shell.execute_reply": "2021-03-25T09:29:22.082936Z"
    }
   },
   "outputs": [
    {
     "data": {
      "image/svg+xml": [
       "<?xml version=\"1.0\" encoding=\"UTF-8\" standalone=\"no\"?><svg xmlns=\"http://www.w3.org/2000/svg\" xmlns:xlink=\"http://www.w3.org/1999/xlink\" contentScriptType=\"application/ecmascript\" contentStyleType=\"text/css\" height=\"12px\" preserveAspectRatio=\"none\" style=\"width:12px;height:12px;\" version=\"1.1\" viewBox=\"0 0 12 12\" width=\"12px\" zoomAndPan=\"magnify\"><defs/><g><!--MD5=[f19188ef49e11757b5c46753f95d9edc]\n",
       "@startuml\r\n",
       " skinparam monochrome true\r\n",
       "skinparam classbackgroundcolor white\r\n",
       "skinparam shadowing false\r\n",
       "skinparam wrapWidth 300\r\n",
       "hide circle\r\n",
       "\r\n",
       "@enduml\r\n",
       "\n",
       "PlantUML version 1.2020.13(Sat Jun 13 12:26:38 UTC 2020)\n",
       "(EPL source distribution)\n",
       "Java Runtime: OpenJDK Runtime Environment\n",
       "JVM: OpenJDK 64-Bit Server VM\n",
       "Default Encoding: UTF-8\n",
       "Language: en\n",
       "Country: null\n",
       "--></g></svg>"
      ]
     },
     "execution_count": 4,
     "metadata": {},
     "output_type": "execute_result"
    }
   ],
   "source": [
    "%viz --style=\"COMPTREE\" --view=\"State\" \"TradeStudyTest\""
   ]
  },
  {
   "cell_type": "code",
   "execution_count": 5,
   "id": "alien-madison",
   "metadata": {
    "execution": {
     "iopub.execute_input": "2021-03-25T09:29:22.136843Z",
     "iopub.status.busy": "2021-03-25T09:29:22.136283Z",
     "iopub.status.idle": "2021-03-25T09:29:22.208406Z",
     "shell.execute_reply": "2021-03-25T09:29:22.208052Z"
    }
   },
   "outputs": [
    {
     "data": {
      "image/svg+xml": [
       "<?xml version=\"1.0\" encoding=\"UTF-8\" standalone=\"no\"?><svg xmlns=\"http://www.w3.org/2000/svg\" xmlns:xlink=\"http://www.w3.org/1999/xlink\" contentScriptType=\"application/ecmascript\" contentStyleType=\"text/css\" height=\"112px\" preserveAspectRatio=\"none\" style=\"width:438px;height:112px;\" version=\"1.1\" viewBox=\"0 0 438 112\" width=\"438px\" zoomAndPan=\"magnify\"><defs/><g><!--MD5=[fbc87193dbaf4d95561dea2c320d4a47]\n",
       "cluster E1--><a href=\"psysml:8952aa40-03a2-4df7-81e1-750bf2c7b589\" target=\"_top\" title=\"psysml:8952aa40-03a2-4df7-81e1-750bf2c7b589\" xlink:actuate=\"onRequest\" xlink:href=\"psysml:8952aa40-03a2-4df7-81e1-750bf2c7b589\" xlink:show=\"new\" xlink:title=\"psysml:8952aa40-03a2-4df7-81e1-750bf2c7b589\" xlink:type=\"simple\"><polygon fill=\"#FFFFFF\" points=\"16,6,148,6,155,28.2969,416,28.2969,416,100,16,100,16,6\" style=\"stroke: #000000; stroke-width: 1.5;\"/><line style=\"stroke: #000000; stroke-width: 1.5;\" x1=\"16\" x2=\"155\" y1=\"28.2969\" y2=\"28.2969\"/><text fill=\"#000000\" font-family=\"sans-serif\" font-size=\"14\" font-weight=\"bold\" lengthAdjust=\"spacingAndGlyphs\" textLength=\"126\" x=\"20\" y=\"20.9951\">TradeStudyTest</text></a><g id=\"E1.E2\"><a href=\"psysml:ba5002a0-783d-43b2-abfa-70b37f90804c\" target=\"_top\" title=\"psysml:ba5002a0-783d-43b2-abfa-70b37f90804c\" xlink:actuate=\"onRequest\" xlink:href=\"psysml:ba5002a0-783d-43b2-abfa-70b37f90804c\" xlink:show=\"new\" xlink:title=\"psysml:ba5002a0-783d-43b2-abfa-70b37f90804c\" xlink:type=\"simple\"><rect fill=\"#FFFFFF\" height=\"42.9375\" id=\"E2\" style=\"stroke: #383838; stroke-width: 1.5;\" width=\"71\" x=\"328.5\" y=\"41\"/><rect fill=\"#F8F8F8\" height=\"37.9375\" style=\"stroke: #383838; stroke-width: 1.5;\" width=\"71\" x=\"328.5\" y=\"41\"/><text fill=\"#000000\" font-family=\"sans-serif\" font-size=\"12\" font-style=\"italic\" lengthAdjust=\"spacingAndGlyphs\" textLength=\"64\" x=\"332\" y=\"57.1387\">«part def»</text><text fill=\"#000000\" font-family=\"sans-serif\" font-size=\"12\" lengthAdjust=\"spacingAndGlyphs\" textLength=\"43\" x=\"342.5\" y=\"71.1074\">Engine</text></a></g><g id=\"E1.E3\"><a href=\"psysml:47ce73ab-2c54-4db4-9d19-7bcb338cdf44\" target=\"_top\" title=\"psysml:47ce73ab-2c54-4db4-9d19-7bcb338cdf44\" xlink:actuate=\"onRequest\" xlink:href=\"psysml:47ce73ab-2c54-4db4-9d19-7bcb338cdf44\" xlink:show=\"new\" xlink:title=\"psysml:47ce73ab-2c54-4db4-9d19-7bcb338cdf44\" xlink:type=\"simple\"><rect fill=\"#FFFFFF\" height=\"40\" id=\"E3\" rx=\"10\" ry=\"10\" style=\"stroke: #383838; stroke-width: 1.5;\" width=\"113\" x=\"180.5\" y=\"42.5\"/><rect fill=\"#F8F8F8\" height=\"23.9688\" rx=\"10\" ry=\"10\" style=\"stroke: #F8F8F8; stroke-width: 1.5;\" width=\"113\" x=\"180.5\" y=\"42.5\"/><rect fill=\"#F8F8F8\" height=\"10\" style=\"stroke: #F8F8F8; stroke-width: 1.5;\" width=\"113\" x=\"180.5\" y=\"56.4688\"/><rect fill=\"none\" height=\"40\" id=\"E3\" rx=\"10\" ry=\"10\" style=\"stroke: #383838; stroke-width: 1.5;\" width=\"113\" x=\"180.5\" y=\"42.5\"/><text fill=\"#000000\" font-family=\"sans-serif\" font-size=\"12\" lengthAdjust=\"spacingAndGlyphs\" textLength=\"102\" x=\"186\" y=\"58.6387\">engine1: Engine</text></a></g><g id=\"E1.E4\"><a href=\"psysml:7dfdc806-8438-4ccb-bd71-8b6bdaa69ab8\" target=\"_top\" title=\"psysml:7dfdc806-8438-4ccb-bd71-8b6bdaa69ab8\" xlink:actuate=\"onRequest\" xlink:href=\"psysml:7dfdc806-8438-4ccb-bd71-8b6bdaa69ab8\" xlink:show=\"new\" xlink:title=\"psysml:7dfdc806-8438-4ccb-bd71-8b6bdaa69ab8\" xlink:type=\"simple\"><rect fill=\"#FFFFFF\" height=\"40\" id=\"E4\" rx=\"10\" ry=\"10\" style=\"stroke: #383838; stroke-width: 1.5;\" width=\"113\" x=\"32.5\" y=\"42.5\"/><rect fill=\"#F8F8F8\" height=\"23.9688\" rx=\"10\" ry=\"10\" style=\"stroke: #F8F8F8; stroke-width: 1.5;\" width=\"113\" x=\"32.5\" y=\"42.5\"/><rect fill=\"#F8F8F8\" height=\"10\" style=\"stroke: #F8F8F8; stroke-width: 1.5;\" width=\"113\" x=\"32.5\" y=\"56.4688\"/><rect fill=\"none\" height=\"40\" id=\"E4\" rx=\"10\" ry=\"10\" style=\"stroke: #383838; stroke-width: 1.5;\" width=\"113\" x=\"32.5\" y=\"42.5\"/><text fill=\"#000000\" font-family=\"sans-serif\" font-size=\"12\" lengthAdjust=\"spacingAndGlyphs\" textLength=\"102\" x=\"38\" y=\"58.6387\">engine2: Engine</text></a></g><!--MD5=[dbae534fe30220f0bc954b1e742fb4a9]\n",
       "@startuml\r\n",
       "skinparam ranksep 8\r\n",
       "skinparam rectangle {\r\n",
       " backgroundColor<<block>> LightGreen\r\n",
       "}\r\n",
       " skinparam monochrome true\r\n",
       "skinparam classbackgroundcolor white\r\n",
       "skinparam shadowing false\r\n",
       "skinparam wrapWidth 300\r\n",
       "hide circle\r\n",
       "\r\n",
       "package \"TradeStudyTest\" as E1  [[psysml:8952aa40-03a2-4df7-81e1-750bf2c7b589 ]]  {\r\n",
       "rec def \"Engine\" as E2  <<(T,blue)part def>> [[psysml:ba5002a0-783d-43b2-abfa-70b37f90804c ]] {\r\n",
       "}\r\n",
       "rec usage \"engine1: Engine\" as E3  [[psysml:47ce73ab-2c54-4db4-9d19-7bcb338cdf44 ]] {\r\n",
       "}\r\n",
       "rec usage \"engine2: Engine\" as E4  [[psysml:7dfdc806-8438-4ccb-bd71-8b6bdaa69ab8 ]] {\r\n",
       "}\r\n",
       "}\r\n",
       "@enduml\r\n",
       "\n",
       "PlantUML version 1.2020.13(Sat Jun 13 12:26:38 UTC 2020)\n",
       "(EPL source distribution)\n",
       "Java Runtime: OpenJDK Runtime Environment\n",
       "JVM: OpenJDK 64-Bit Server VM\n",
       "Default Encoding: UTF-8\n",
       "Language: en\n",
       "Country: null\n",
       "--></g></svg>"
      ]
     },
     "execution_count": 5,
     "metadata": {},
     "output_type": "execute_result"
    }
   ],
   "source": [
    "%viz --style=\"COMPTREE\" --view=\"Interconnection\" \"TradeStudyTest\""
   ]
  },
  {
   "cell_type": "code",
   "execution_count": 6,
   "id": "forced-backing",
   "metadata": {
    "execution": {
     "iopub.execute_input": "2021-03-25T09:29:22.260757Z",
     "iopub.status.busy": "2021-03-25T09:29:22.259337Z",
     "iopub.status.idle": "2021-03-25T09:29:22.354729Z",
     "shell.execute_reply": "2021-03-25T09:29:22.354096Z"
    }
   },
   "outputs": [
    {
     "data": {
      "image/svg+xml": [
       "<?xml version=\"1.0\" encoding=\"UTF-8\" standalone=\"no\"?><svg xmlns=\"http://www.w3.org/2000/svg\" xmlns:xlink=\"http://www.w3.org/1999/xlink\" contentScriptType=\"application/ecmascript\" contentStyleType=\"text/css\" height=\"128px\" preserveAspectRatio=\"none\" style=\"width:180px;height:128px;\" version=\"1.1\" viewBox=\"0 0 180 128\" width=\"180px\" zoomAndPan=\"magnify\"><defs/><g><!--MD5=[fbc87193dbaf4d95561dea2c320d4a47]\n",
       "cluster E1--><a href=\"psysml:cd38e840-8317-467c-8230-e0f8852492a9\" target=\"_top\" title=\"psysml:cd38e840-8317-467c-8230-e0f8852492a9\" xlink:actuate=\"onRequest\" xlink:href=\"psysml:cd38e840-8317-467c-8230-e0f8852492a9\" xlink:show=\"new\" xlink:title=\"psysml:cd38e840-8317-467c-8230-e0f8852492a9\" xlink:type=\"simple\"><rect fill=\"#FFFFFF\" height=\"110\" id=\"E1\" rx=\"10\" ry=\"10\" style=\"stroke: #383838; stroke-width: 1.5;\" width=\"161\" x=\"7\" y=\"7\"/><rect fill=\"#F8F8F8\" height=\"37.9375\" rx=\"10\" ry=\"10\" style=\"stroke: #F8F8F8; stroke-width: 1.5;\" width=\"161\" x=\"7\" y=\"7\"/><rect fill=\"#F8F8F8\" height=\"10\" style=\"stroke: #F8F8F8; stroke-width: 1.5;\" width=\"161\" x=\"7\" y=\"34.9375\"/><rect fill=\"none\" height=\"110\" id=\"E1\" rx=\"10\" ry=\"10\" style=\"stroke: #383838; stroke-width: 1.5;\" width=\"161\" x=\"7\" y=\"7\"/><text fill=\"#000000\" font-family=\"sans-serif\" font-size=\"12\" font-style=\"italic\" lengthAdjust=\"spacingAndGlyphs\" textLength=\"64\" x=\"55.5\" y=\"23.1387\">«analysis»</text><text fill=\"#000000\" font-family=\"sans-serif\" font-size=\"12\" lengthAdjust=\"spacingAndGlyphs\" textLength=\"114\" x=\"30.5\" y=\"37.1074\">engineTradeStudy</text><line style=\"stroke: #383838; stroke-width: 1.0;\" x1=\"7\" x2=\"168\" y1=\"44.9375\" y2=\"44.9375\"/></a><g id=\"E1.E2\"><a href=\"psysml:081fa6ee-8a6f-4292-82c4-f5eb64360f97\" target=\"_top\" title=\"psysml:081fa6ee-8a6f-4292-82c4-f5eb64360f97\" xlink:actuate=\"onRequest\" xlink:href=\"psysml:081fa6ee-8a6f-4292-82c4-f5eb64360f97\" xlink:show=\"new\" xlink:title=\"psysml:081fa6ee-8a6f-4292-82c4-f5eb64360f97\" xlink:type=\"simple\"><rect fill=\"#FFFFFF\" height=\"42.9375\" id=\"E2\" rx=\"10\" ry=\"10\" style=\"stroke: #383838; stroke-width: 1.5;\" width=\"121\" x=\"26.5\" y=\"58\"/><rect fill=\"#F8F8F8\" height=\"37.9375\" rx=\"10\" ry=\"10\" style=\"stroke: #F8F8F8; stroke-width: 1.5;\" width=\"121\" x=\"26.5\" y=\"58\"/><rect fill=\"#F8F8F8\" height=\"10\" style=\"stroke: #F8F8F8; stroke-width: 1.5;\" width=\"121\" x=\"26.5\" y=\"85.9375\"/><rect fill=\"none\" height=\"42.9375\" id=\"E2\" rx=\"10\" ry=\"10\" style=\"stroke: #383838; stroke-width: 1.5;\" width=\"121\" x=\"26.5\" y=\"58\"/><text fill=\"#000000\" font-family=\"sans-serif\" font-size=\"12\" font-style=\"italic\" lengthAdjust=\"spacingAndGlyphs\" textLength=\"82\" x=\"46\" y=\"74.1387\">«calculation»</text><text fill=\"#000000\" font-family=\"sans-serif\" font-size=\"12\" lengthAdjust=\"spacingAndGlyphs\" textLength=\"110\" x=\"32\" y=\"88.1074\">objectiveFunction</text></a></g><!--MD5=[121cd37661ea0252df9a6b891604930c]\n",
       "@startuml\r\n",
       "skinparam ranksep 8\r\n",
       " skinparam monochrome true\r\n",
       "skinparam classbackgroundcolor white\r\n",
       "skinparam shadowing false\r\n",
       "skinparam wrapWidth 300\r\n",
       "hide circle\r\n",
       "\r\n",
       "rec usage \"engineTradeStudy\" as E1 <<analysis>> [[psysml:cd38e840-8317-467c-8230-e0f8852492a9 ]] {\r\n",
       "rec usage \"objectiveFunction\" as E2  <<(T,blue)calculation>> [[psysml:081fa6ee-8a6f-4292-82c4-f5eb64360f97 ]] {\r\n",
       "}\r\n",
       "\r\n",
       "}\r\n",
       "\r\n",
       "@enduml\r\n",
       "\n",
       "PlantUML version 1.2020.13(Sat Jun 13 12:26:38 UTC 2020)\n",
       "(EPL source distribution)\n",
       "Java Runtime: OpenJDK Runtime Environment\n",
       "JVM: OpenJDK 64-Bit Server VM\n",
       "Default Encoding: UTF-8\n",
       "Language: en\n",
       "Country: null\n",
       "--></g></svg>"
      ]
     },
     "execution_count": 6,
     "metadata": {},
     "output_type": "execute_result"
    }
   ],
   "source": [
    "%viz --style=\"COMPTREE\" --view=\"Action\" \"TradeStudyTest\""
   ]
  },
  {
   "cell_type": "code",
   "execution_count": 7,
   "id": "given-cookie",
   "metadata": {
    "execution": {
     "iopub.execute_input": "2021-03-25T09:29:22.407222Z",
     "iopub.status.busy": "2021-03-25T09:29:22.406677Z",
     "iopub.status.idle": "2021-03-25T09:29:22.759883Z",
     "shell.execute_reply": "2021-03-25T09:29:22.760378Z"
    }
   },
   "outputs": [
    {
     "data": {
      "image/svg+xml": [
       "<?xml version=\"1.0\" encoding=\"UTF-8\" standalone=\"no\"?><svg xmlns=\"http://www.w3.org/2000/svg\" xmlns:xlink=\"http://www.w3.org/1999/xlink\" contentScriptType=\"application/ecmascript\" contentStyleType=\"text/css\" height=\"527px\" preserveAspectRatio=\"none\" style=\"width:563px;height:527px;\" version=\"1.1\" viewBox=\"0 0 563 527\" width=\"563px\" zoomAndPan=\"magnify\"><defs/><g><!--MD5=[fbc87193dbaf4d95561dea2c320d4a47]\n",
       "cluster E1--><a href=\"psysml:8952aa40-03a2-4df7-81e1-750bf2c7b589\" target=\"_top\" title=\"psysml:8952aa40-03a2-4df7-81e1-750bf2c7b589\" xlink:actuate=\"onRequest\" xlink:href=\"psysml:8952aa40-03a2-4df7-81e1-750bf2c7b589\" xlink:show=\"new\" xlink:title=\"psysml:8952aa40-03a2-4df7-81e1-750bf2c7b589\" xlink:type=\"simple\"><polygon fill=\"#FFFFFF\" points=\"25.48,6,157.48,6,164.48,28.2969,541.48,28.2969,541.48,515,25.48,515,25.48,6\" style=\"stroke: #000000; stroke-width: 1.5;\"/><line style=\"stroke: #000000; stroke-width: 1.5;\" x1=\"25.48\" x2=\"164.48\" y1=\"28.2969\" y2=\"28.2969\"/><text fill=\"#000000\" font-family=\"sans-serif\" font-size=\"14\" font-weight=\"bold\" lengthAdjust=\"spacingAndGlyphs\" textLength=\"126\" x=\"29.48\" y=\"20.9951\">TradeStudyTest</text></a><!--MD5=[b4997ac47864f28c2f74865a473b2911]\n",
       "class E2--><a href=\"psysml:ba5002a0-783d-43b2-abfa-70b37f90804c\" target=\"_top\" title=\"psysml:ba5002a0-783d-43b2-abfa-70b37f90804c\" xlink:actuate=\"onRequest\" xlink:href=\"psysml:ba5002a0-783d-43b2-abfa-70b37f90804c\" xlink:show=\"new\" xlink:title=\"psysml:ba5002a0-783d-43b2-abfa-70b37f90804c\" xlink:type=\"simple\"><rect fill=\"#FFFFFF\" height=\"45.9375\" id=\"E2\" style=\"stroke: #383838; stroke-width: 1.5;\" width=\"66\" x=\"205.48\" y=\"453\"/><text fill=\"#000000\" font-family=\"sans-serif\" font-size=\"12\" font-style=\"italic\" lengthAdjust=\"spacingAndGlyphs\" textLength=\"64\" x=\"206.48\" y=\"469.1387\">«part def»</text><text fill=\"#000000\" font-family=\"sans-serif\" font-size=\"12\" lengthAdjust=\"spacingAndGlyphs\" textLength=\"43\" x=\"216.98\" y=\"483.1074\">Engine</text><line style=\"stroke: #383838; stroke-width: 1.5;\" x1=\"206.48\" x2=\"270.48\" y1=\"490.9375\" y2=\"490.9375\"/></a><!--MD5=[09b614a08d8cba4a07c9adeb5e0fee81]\n",
       "class E3--><a href=\"psysml:47ce73ab-2c54-4db4-9d19-7bcb338cdf44\" target=\"_top\" title=\"psysml:47ce73ab-2c54-4db4-9d19-7bcb338cdf44\" xlink:actuate=\"onRequest\" xlink:href=\"psysml:47ce73ab-2c54-4db4-9d19-7bcb338cdf44\" xlink:show=\"new\" xlink:title=\"psysml:47ce73ab-2c54-4db4-9d19-7bcb338cdf44\" xlink:type=\"simple\"><rect fill=\"#FFFFFF\" height=\"45.9375\" id=\"E3\" rx=\"10\" ry=\"10\" style=\"stroke: #383838; stroke-width: 1.5;\" width=\"108\" x=\"417.48\" y=\"346\"/><text fill=\"#000000\" font-family=\"sans-serif\" font-size=\"12\" font-style=\"italic\" lengthAdjust=\"spacingAndGlyphs\" textLength=\"40\" x=\"451.48\" y=\"362.1387\">«part»</text><text fill=\"#000000\" font-family=\"sans-serif\" font-size=\"12\" lengthAdjust=\"spacingAndGlyphs\" textLength=\"102\" x=\"420.48\" y=\"376.1074\">engine1: Engine</text><line style=\"stroke: #383838; stroke-width: 1.5;\" x1=\"418.48\" x2=\"524.48\" y1=\"383.9375\" y2=\"383.9375\"/></a><!--MD5=[ebbe1d658d1005bcc118a6aa81145e00]\n",
       "class E4--><a href=\"psysml:7dfdc806-8438-4ccb-bd71-8b6bdaa69ab8\" target=\"_top\" title=\"psysml:7dfdc806-8438-4ccb-bd71-8b6bdaa69ab8\" xlink:actuate=\"onRequest\" xlink:href=\"psysml:7dfdc806-8438-4ccb-bd71-8b6bdaa69ab8\" xlink:show=\"new\" xlink:title=\"psysml:7dfdc806-8438-4ccb-bd71-8b6bdaa69ab8\" xlink:type=\"simple\"><rect fill=\"#FFFFFF\" height=\"45.9375\" id=\"E4\" rx=\"10\" ry=\"10\" style=\"stroke: #383838; stroke-width: 1.5;\" width=\"108\" x=\"274.48\" y=\"346\"/><text fill=\"#000000\" font-family=\"sans-serif\" font-size=\"12\" font-style=\"italic\" lengthAdjust=\"spacingAndGlyphs\" textLength=\"40\" x=\"308.48\" y=\"362.1387\">«part»</text><text fill=\"#000000\" font-family=\"sans-serif\" font-size=\"12\" lengthAdjust=\"spacingAndGlyphs\" textLength=\"102\" x=\"277.48\" y=\"376.1074\">engine2: Engine</text><line style=\"stroke: #383838; stroke-width: 1.5;\" x1=\"275.48\" x2=\"381.48\" y1=\"383.9375\" y2=\"383.9375\"/></a><!--MD5=[270fce915f116d4de14055a7c1d9a0f3]\n",
       "class E5--><a href=\"psysml:cd38e840-8317-467c-8230-e0f8852492a9\" target=\"_top\" title=\"psysml:cd38e840-8317-467c-8230-e0f8852492a9\" xlink:actuate=\"onRequest\" xlink:href=\"psysml:cd38e840-8317-467c-8230-e0f8852492a9\" xlink:show=\"new\" xlink:title=\"psysml:cd38e840-8317-467c-8230-e0f8852492a9\" xlink:type=\"simple\"><rect fill=\"#FFFFFF\" height=\"45.9375\" id=\"E5\" rx=\"10\" ry=\"10\" style=\"stroke: #383838; stroke-width: 1.5;\" width=\"199\" x=\"246.98\" y=\"41\"/><text fill=\"#000000\" font-family=\"sans-serif\" font-size=\"12\" font-style=\"italic\" lengthAdjust=\"spacingAndGlyphs\" textLength=\"64\" x=\"314.48\" y=\"57.1387\">«analysis»</text><text fill=\"#000000\" font-family=\"sans-serif\" font-size=\"12\" lengthAdjust=\"spacingAndGlyphs\" textLength=\"193\" x=\"249.98\" y=\"71.1074\">engineTradeStudy: TradeStudy</text><line style=\"stroke: #383838; stroke-width: 1.5;\" x1=\"247.98\" x2=\"444.98\" y1=\"78.9375\" y2=\"78.9375\"/></a><!--MD5=[60a26617385b1d2d0262a64233df1f8d]\n",
       "class E6--><a href=\"psysml:bf1db205-ea64-42b3-a829-2093a93eb81c\" target=\"_top\" title=\"psysml:bf1db205-ea64-42b3-a829-2093a93eb81c\" xlink:actuate=\"onRequest\" xlink:href=\"psysml:bf1db205-ea64-42b3-a829-2093a93eb81c\" xlink:show=\"new\" xlink:title=\"psysml:bf1db205-ea64-42b3-a829-2093a93eb81c\" xlink:type=\"simple\"><rect fill=\"#FFFFFF\" height=\"45.9375\" id=\"E6\" rx=\"10\" ry=\"10\" style=\"stroke: #383838; stroke-width: 1.5;\" width=\"251\" x=\"85.98\" y=\"179\"/><text fill=\"#000000\" font-family=\"sans-serif\" font-size=\"12\" font-style=\"italic\" lengthAdjust=\"spacingAndGlyphs\" textLength=\"91\" x=\"165.98\" y=\"195.1387\">«requirement»</text><text fill=\"#000000\" font-family=\"sans-serif\" font-size=\"12\" lengthAdjust=\"spacingAndGlyphs\" textLength=\"245\" x=\"88.98\" y=\"209.1074\">tradeStudyObjective: MaximizeObjective</text><line style=\"stroke: #383838; stroke-width: 1.5;\" x1=\"86.98\" x2=\"335.98\" y1=\"216.9375\" y2=\"216.9375\"/></a><!--MD5=[2156ba9850f5573cc1fc38a6a4b2f02b]\n",
       "class E7--><a href=\"psysml:081fa6ee-8a6f-4292-82c4-f5eb64360f97\" target=\"_top\" title=\"psysml:081fa6ee-8a6f-4292-82c4-f5eb64360f97\" xlink:actuate=\"onRequest\" xlink:href=\"psysml:081fa6ee-8a6f-4292-82c4-f5eb64360f97\" xlink:show=\"new\" xlink:title=\"psysml:081fa6ee-8a6f-4292-82c4-f5eb64360f97\" xlink:type=\"simple\"><rect fill=\"#FFFFFF\" height=\"75.5469\" id=\"E7\" rx=\"10\" ry=\"10\" style=\"stroke: #383838; stroke-width: 1.5;\" width=\"116\" x=\"372.48\" y=\"164\"/><text fill=\"#000000\" font-family=\"sans-serif\" font-size=\"12\" font-style=\"italic\" lengthAdjust=\"spacingAndGlyphs\" textLength=\"82\" x=\"389.48\" y=\"180.1387\">«calculation»</text><text fill=\"#000000\" font-family=\"sans-serif\" font-size=\"12\" lengthAdjust=\"spacingAndGlyphs\" textLength=\"110\" x=\"375.48\" y=\"194.1074\">objectiveFunction</text><line style=\"stroke: #383838; stroke-width: 1.5;\" x1=\"373.48\" x2=\"487.48\" y1=\"201.9375\" y2=\"201.9375\"/><text fill=\"#000000\" font-family=\"sans-serif\" font-size=\"11\" lengthAdjust=\"spacingAndGlyphs\" textLength=\"65\" x=\"378.48\" y=\"232.9526\">result: Real</text><line style=\"stroke: #383838; stroke-width: 1.0;\" x1=\"373.48\" x2=\"402.98\" y1=\"216.3398\" y2=\"216.3398\"/><text fill=\"#000000\" font-family=\"sans-serif\" font-size=\"11\" lengthAdjust=\"spacingAndGlyphs\" textLength=\"55\" x=\"402.98\" y=\"219.6479\">attributes</text><line style=\"stroke: #383838; stroke-width: 1.0;\" x1=\"457.98\" x2=\"487.48\" y1=\"216.3398\" y2=\"216.3398\"/></a><!--MD5=[b9389687b975829384b498ac4b7476b2]\n",
       "class E8--><a href=\"psysml:dbdbccdb-5c16-4bd3-a501-4b1c7e9ddcab\" target=\"_top\" title=\"psysml:dbdbccdb-5c16-4bd3-a501-4b1c7e9ddcab\" xlink:actuate=\"onRequest\" xlink:href=\"psysml:dbdbccdb-5c16-4bd3-a501-4b1c7e9ddcab\" xlink:show=\"new\" xlink:title=\"psysml:dbdbccdb-5c16-4bd3-a501-4b1c7e9ddcab\" xlink:type=\"simple\"><rect fill=\"#FFFFFF\" height=\"45.9375\" id=\"E8\" rx=\"10\" ry=\"10\" style=\"stroke: #383838; stroke-width: 1.5;\" width=\"124\" x=\"78.48\" y=\"346\"/><text fill=\"#000000\" font-family=\"sans-serif\" font-size=\"12\" font-style=\"italic\" lengthAdjust=\"spacingAndGlyphs\" textLength=\"40\" x=\"120.48\" y=\"362.1387\">«part»</text><text fill=\"#000000\" font-family=\"sans-serif\" font-size=\"12\" lengthAdjust=\"spacingAndGlyphs\" textLength=\"118\" x=\"81.48\" y=\"376.1074\">alternative: Engine</text><line style=\"stroke: #383838; stroke-width: 1.5;\" x1=\"79.48\" x2=\"201.48\" y1=\"383.9375\" y2=\"383.9375\"/></a><!--MD5=[fd4143e9d270a159db93a4ea2a975926]\n",
       "class E9--><a href=\"psysml:b6df212f-8018-4500-9608-46bc28de5179\" target=\"_top\" title=\"psysml:b6df212f-8018-4500-9608-46bc28de5179\" xlink:actuate=\"onRequest\" xlink:href=\"psysml:b6df212f-8018-4500-9608-46bc28de5179\" xlink:show=\"new\" xlink:title=\"psysml:b6df212f-8018-4500-9608-46bc28de5179\" xlink:type=\"simple\"><rect fill=\"#FFFFFF\" height=\"45.9375\" id=\"E9\" rx=\"10\" ry=\"10\" style=\"stroke: #383838; stroke-width: 1.5;\" width=\"178\" x=\"298.48\" y=\"270\"/><text fill=\"#000000\" font-family=\"sans-serif\" font-size=\"12\" font-style=\"italic\" lengthAdjust=\"spacingAndGlyphs\" textLength=\"40\" x=\"367.48\" y=\"286.1387\">«part»</text><text fill=\"#000000\" font-family=\"sans-serif\" font-size=\"12\" lengthAdjust=\"spacingAndGlyphs\" textLength=\"172\" x=\"301.48\" y=\"300.1074\">selectedAlternative: Engine</text><line style=\"stroke: #383838; stroke-width: 1.5;\" x1=\"299.48\" x2=\"475.48\" y1=\"307.9375\" y2=\"307.9375\"/></a><!--MD5=[05d275557350bfb9b23a4ef7222b4c39]\n",
       "link E3 to E2--><a href=\"psysml:6a611645-87b6-456f-b99f-fe1a3075932c\" target=\"_top\" title=\"psysml:6a611645-87b6-456f-b99f-fe1a3075932c\" xlink:actuate=\"onRequest\" xlink:href=\"psysml:6a611645-87b6-456f-b99f-fe1a3075932c\" xlink:show=\"new\" xlink:title=\"psysml:6a611645-87b6-456f-b99f-fe1a3075932c\" xlink:type=\"simple\"><path d=\"M422.64,392.01 C383.73,409.54 329.43,434.01 289.87,451.84 \" fill=\"none\" id=\"E3-&gt;E2\" style=\"stroke: #383838; stroke-width: 1.0;\"/><polygon fill=\"#FFFFFF\" points=\"271.5,460.12,285.9466,445.9321,291.6983,458.696,271.5,460.12\" style=\"stroke: #383838; stroke-width: 1.0;\"/><ellipse cx=\"291.965\" cy=\"445.4137\" fill=\"#383838\" rx=\"2\" ry=\"2\" style=\"stroke: #383838; stroke-width: 1.0;\"/><ellipse cx=\"296.0734\" cy=\"454.5308\" fill=\"#383838\" rx=\"2\" ry=\"2\" style=\"stroke: #383838; stroke-width: 1.0;\"/></a><!--MD5=[185131fc0dcab0a4505a2ebe144e961b]\n",
       "link E4 to E2--><a href=\"psysml:c8f697e8-ebd5-44e8-8041-765052aa0dda\" target=\"_top\" title=\"psysml:c8f697e8-ebd5-44e8-8041-765052aa0dda\" xlink:actuate=\"onRequest\" xlink:href=\"psysml:c8f697e8-ebd5-44e8-8041-765052aa0dda\" xlink:show=\"new\" xlink:title=\"psysml:c8f697e8-ebd5-44e8-8041-765052aa0dda\" xlink:type=\"simple\"><path d=\"M309.61,392.01 C298.41,405.08 283.9,422.01 270.9,437.17 \" fill=\"none\" id=\"E4-&gt;E2\" style=\"stroke: #383838; stroke-width: 1.0;\"/><polygon fill=\"#FFFFFF\" points=\"257.63,452.66,264.6788,433.678,275.3091,442.7883,257.63,452.66\" style=\"stroke: #383838; stroke-width: 1.0;\"/><ellipse cx=\"269.9066\" cy=\"430.6515\" fill=\"#383838\" rx=\"2\" ry=\"2\" style=\"stroke: #383838; stroke-width: 1.0;\"/><ellipse cx=\"277.4996\" cy=\"437.1588\" fill=\"#383838\" rx=\"2\" ry=\"2\" style=\"stroke: #383838; stroke-width: 1.0;\"/></a><!--MD5=[15ebcb19ae302d9b601edb458606d402]\n",
       "link E5 to E2--><a href=\"psysml:2f46211a-dc33-450b-96f1-34c5430f413d\" target=\"_top\" title=\"psysml:2f46211a-dc33-450b-96f1-34c5430f413d\" xlink:actuate=\"onRequest\" xlink:href=\"psysml:2f46211a-dc33-450b-96f1-34c5430f413d\" xlink:show=\"new\" xlink:title=\"psysml:2f46211a-dc33-450b-96f1-34c5430f413d\" xlink:type=\"simple\"><path d=\"M246.76,73.1 C184.92,83.79 109.66,108.27 68.48,164 C8.23,245.55 6,306.48 60.48,392 C91.11,440.08 157.66,460.76 200.15,469.32 \" fill=\"none\" id=\"E5-&gt;E2\" style=\"stroke: #383838; stroke-width: 1.0; stroke-dasharray: 7.0,7.0;\"/><polygon fill=\"#383838\" points=\"205.2,470.31,197.1338,464.6588,200.2927,469.3514,195.6001,472.5104,205.2,470.31\" style=\"stroke: #383838; stroke-width: 1.0;\"/><text fill=\"#000000\" font-family=\"sans-serif\" font-size=\"13\" lengthAdjust=\"spacingAndGlyphs\" textLength=\"62\" x=\"26.48\" y=\"297.5669\">«subject»</text></a><!--MD5=[9120cf2e5df3bff93db8f754bbbc09b4]\n",
       "link E5 to E6--><a href=\"psysml:285bfc51-142a-40f2-bdf1-cdd7141b9b55\" target=\"_top\" title=\"psysml:285bfc51-142a-40f2-bdf1-cdd7141b9b55\" xlink:actuate=\"onRequest\" xlink:href=\"psysml:285bfc51-142a-40f2-bdf1-cdd7141b9b55\" xlink:show=\"new\" xlink:title=\"psysml:285bfc51-142a-40f2-bdf1-cdd7141b9b55\" xlink:type=\"simple\"><path d=\"M324.49,87.15 C301.25,110.57 264.53,147.55 239.3,172.98 \" fill=\"none\" id=\"E5-&gt;E6\" style=\"stroke: #383838; stroke-width: 1.0;\"/><polygon fill=\"#383838\" points=\"233.46,178.86,241.2247,175.295,236.966,171.0685,233.46,178.86\" style=\"stroke: #383838; stroke-width: 1.0;\"/><text fill=\"#000000\" font-family=\"sans-serif\" font-size=\"13\" lengthAdjust=\"spacingAndGlyphs\" textLength=\"73\" x=\"291.48\" y=\"130.0669\">«objective»</text></a><!--MD5=[452b418e7f8a40397a49b8c0a78acc5b]\n",
       "reverse link E5 to E7--><a href=\"psysml:081fa6ee-8a6f-4292-82c4-f5eb64360f97\" target=\"_top\" title=\"psysml:081fa6ee-8a6f-4292-82c4-f5eb64360f97\" xlink:actuate=\"onRequest\" xlink:href=\"psysml:081fa6ee-8a6f-4292-82c4-f5eb64360f97\" xlink:show=\"new\" xlink:title=\"psysml:081fa6ee-8a6f-4292-82c4-f5eb64360f97\" xlink:type=\"simple\"><path d=\"M367.14,98.44 C379.4,118.3 394.98,143.52 407.61,163.97 \" fill=\"none\" id=\"E5&lt;-E7\" style=\"stroke: #383838; stroke-width: 1.0;\"/><polygon fill=\"#383838\" points=\"360.16,87.15,359.9052,94.3566,366.4595,97.3636,366.7142,90.157,360.16,87.15\" style=\"stroke: #383838; stroke-width: 1.0;\"/></a><!--MD5=[f1f3f9f2fc535e6147756cb86a7f2e32]\n",
       "link E8 to E2--><a href=\"psysml:143d7cb3-4d47-41f0-bb56-6d1ae515b029\" target=\"_top\" title=\"psysml:143d7cb3-4d47-41f0-bb56-6d1ae515b029\" xlink:actuate=\"onRequest\" xlink:href=\"psysml:143d7cb3-4d47-41f0-bb56-6d1ae515b029\" xlink:show=\"new\" xlink:title=\"psysml:143d7cb3-4d47-41f0-bb56-6d1ae515b029\" xlink:type=\"simple\"><path d=\"M161.02,392.01 C173.35,405.22 189.36,422.38 203.62,437.65 \" fill=\"none\" id=\"E8-&gt;E2\" style=\"stroke: #383838; stroke-width: 1.0;\"/><polygon fill=\"#FFFFFF\" points=\"217.63,452.66,199.5521,443.5393,209.7905,433.9907,217.63,452.66\" style=\"stroke: #383838; stroke-width: 1.0;\"/><ellipse cx=\"197.1271\" cy=\"438.0067\" fill=\"#383838\" rx=\"2\" ry=\"2\" style=\"stroke: #383838; stroke-width: 1.0;\"/><ellipse cx=\"204.4402\" cy=\"431.1863\" fill=\"#383838\" rx=\"2\" ry=\"2\" style=\"stroke: #383838; stroke-width: 1.0;\"/></a><!--MD5=[dc164f5e8a733ab456ef1add180e9e34]\n",
       "reverse link E7 to E8--><a href=\"psysml:dbdbccdb-5c16-4bd3-a501-4b1c7e9ddcab\" target=\"_top\" title=\"psysml:dbdbccdb-5c16-4bd3-a501-4b1c7e9ddcab\" xlink:actuate=\"onRequest\" xlink:href=\"psysml:dbdbccdb-5c16-4bd3-a501-4b1c7e9ddcab\" xlink:show=\"new\" xlink:title=\"psysml:dbdbccdb-5c16-4bd3-a501-4b1c7e9ddcab\" xlink:type=\"simple\"><path d=\"M360.21,237.41 C358.28,238.29 356.37,239.15 354.48,240 C322.47,254.35 312.29,253.22 281.48,270 C240.11,292.53 196.1,324.58 168.46,345.81 \" fill=\"none\" id=\"E7&lt;-E8\" style=\"stroke: #383838; stroke-width: 1.0;\"/><polygon fill=\"#FFFFFF\" points=\"372.15,231.86,365.0224,230.7655,361.2708,236.9238,368.3983,238.0183,372.15,231.86\" style=\"stroke: #383838; stroke-width: 1.0;\"/></a><!--MD5=[5c3bb36fe832a92c7f0e1807dd65209d]\n",
       "link E9 to E2--><a href=\"psysml:cb3e8ea7-f115-4f34-bcd9-dd1e6ba812b8\" target=\"_top\" title=\"psysml:cb3e8ea7-f115-4f34-bcd9-dd1e6ba812b8\" xlink:actuate=\"onRequest\" xlink:href=\"psysml:cb3e8ea7-f115-4f34-bcd9-dd1e6ba812b8\" xlink:show=\"new\" xlink:title=\"psysml:cb3e8ea7-f115-4f34-bcd9-dd1e6ba812b8\" xlink:type=\"simple\"><path d=\"M298.35,315.15 C282.73,322.56 268.1,332.55 257.48,346 C238.33,370.25 234.2,405.32 234.52,432.77 \" fill=\"none\" id=\"E9-&gt;E2\" style=\"stroke: #383838; stroke-width: 1.0;\"/><polygon fill=\"#FFFFFF\" points=\"235.52,452.81,227.5786,434.1838,241.5611,433.4837,235.52,452.81\" style=\"stroke: #383838; stroke-width: 1.0;\"/><ellipse cx=\"229.291\" cy=\"428.3909\" fill=\"#383838\" rx=\"2\" ry=\"2\" style=\"stroke: #383838; stroke-width: 1.0;\"/><ellipse cx=\"239.2785\" cy=\"427.8909\" fill=\"#383838\" rx=\"2\" ry=\"2\" style=\"stroke: #383838; stroke-width: 1.0;\"/></a><!--MD5=[9ae28de373ca99bb8a1b38d63370ca7e]\n",
       "reverse link E5 to E9--><a href=\"psysml:b6df212f-8018-4500-9608-46bc28de5179\" target=\"_top\" title=\"psysml:b6df212f-8018-4500-9608-46bc28de5179\" xlink:actuate=\"onRequest\" xlink:href=\"psysml:b6df212f-8018-4500-9608-46bc28de5179\" xlink:show=\"new\" xlink:title=\"psysml:b6df212f-8018-4500-9608-46bc28de5179\" xlink:type=\"simple\"><path d=\"M423.24,92.77 C454.94,108.48 488.43,131.61 506.48,164 C522.92,193.51 524.97,211.74 506.48,240 C498.02,252.92 485.57,262.65 471.87,269.97 \" fill=\"none\" id=\"E5&lt;-E9\" style=\"stroke: #383838; stroke-width: 1.0;\"/><polygon fill=\"#FFFFFF\" points=\"411.22,87.11,414.9414,93.2867,422.0742,92.2272,418.3528,86.0505,411.22,87.11\" style=\"stroke: #383838; stroke-width: 1.0;\"/></a><!--MD5=[42ee3f91792e8d92dee62a3f320fdcdc]\n",
       "@startuml\r\n",
       " skinparam monochrome true\r\n",
       "skinparam classbackgroundcolor white\r\n",
       "skinparam shadowing false\r\n",
       "skinparam wrapWidth 300\r\n",
       "hide circle\r\n",
       "\r\n",
       "package \"TradeStudyTest\" as E1  [[psysml:8952aa40-03a2-4df7-81e1-750bf2c7b589 ]]  {\r\n",
       "comp def \"Engine\" as E2  <<(T,blue)part def>> [[psysml:ba5002a0-783d-43b2-abfa-70b37f90804c ]] {\r\n",
       "}\r\n",
       "comp usage \"engine1: Engine\" as E3  <<(T,blue)part>> [[psysml:47ce73ab-2c54-4db4-9d19-7bcb338cdf44 ]] {\r\n",
       "}\r\n",
       "comp usage \"engine2: Engine\" as E4  <<(T,blue)part>> [[psysml:7dfdc806-8438-4ccb-bd71-8b6bdaa69ab8 ]] {\r\n",
       "}\r\n",
       "comp usage \"engineTradeStudy: TradeStudy\" as E5 <<analysis>> [[psysml:cd38e840-8317-467c-8230-e0f8852492a9 ]] {\r\n",
       "}\r\n",
       "comp usage \"tradeStudyObjective: MaximizeObjective\" as E6  <<(T,blue)requirement>> [[psysml:bf1db205-ea64-42b3-a829-2093a93eb81c ]] {\r\n",
       "}\r\n",
       "comp usage \"objectiveFunction\" as E7  <<(T,blue)calculation>> [[psysml:081fa6ee-8a6f-4292-82c4-f5eb64360f97 ]] {\r\n",
       "- - attributes - -\r\n",
       "result: Real\r\n",
       "}\r\n",
       "comp usage \"alternative: Engine\" as E8  <<(T,blue)part>> [[psysml:dbdbccdb-5c16-4bd3-a501-4b1c7e9ddcab ]] {\r\n",
       "}\r\n",
       "comp usage \"selectedAlternative: Engine\" as E9  <<(T,blue)part>> [[psysml:b6df212f-8018-4500-9608-46bc28de5179 ]] {\r\n",
       "}\r\n",
       "E3 - -:|> E2 [[psysml:6a611645-87b6-456f-b99f-fe1a3075932c ]] \r\n",
       "E4 - -:|> E2 [[psysml:c8f697e8-ebd5-44e8-8041-765052aa0dda ]] \r\n",
       "E5 ..> E2 [[psysml:2f46211a-dc33-450b-96f1-34c5430f413d ]] : <<subject>>\r\n",
       "E5 - ->> E6 [[psysml:285bfc51-142a-40f2-bdf1-cdd7141b9b55 ]] : <<objective>>\r\n",
       "E5 *- - E7 [[psysml:081fa6ee-8a6f-4292-82c4-f5eb64360f97 ]] \r\n",
       "E8 - -:|> E2 [[psysml:143d7cb3-4d47-41f0-bb56-6d1ae515b029 ]] \r\n",
       "E7 o- - E8 [[psysml:dbdbccdb-5c16-4bd3-a501-4b1c7e9ddcab ]] \r\n",
       "E9 - -:|> E2 [[psysml:cb3e8ea7-f115-4f34-bcd9-dd1e6ba812b8 ]] \r\n",
       "E5 o- - E9 [[psysml:b6df212f-8018-4500-9608-46bc28de5179 ]] \r\n",
       "}\r\n",
       "@enduml\r\n",
       "\n",
       "PlantUML version 1.2020.13(Sat Jun 13 12:26:38 UTC 2020)\n",
       "(EPL source distribution)\n",
       "Java Runtime: OpenJDK Runtime Environment\n",
       "JVM: OpenJDK 64-Bit Server VM\n",
       "Default Encoding: UTF-8\n",
       "Language: en\n",
       "Country: null\n",
       "--></g></svg>"
      ]
     },
     "execution_count": 7,
     "metadata": {},
     "output_type": "execute_result"
    }
   ],
   "source": [
    "%viz --style=\"COMPTREE\" --view=\"Sequence\" \"TradeStudyTest\""
   ]
  },
  {
   "cell_type": "code",
   "execution_count": 8,
   "id": "recent-destruction",
   "metadata": {
    "execution": {
     "iopub.execute_input": "2021-03-25T09:29:22.813679Z",
     "iopub.status.busy": "2021-03-25T09:29:22.812915Z",
     "iopub.status.idle": "2021-03-25T09:29:23.167703Z",
     "shell.execute_reply": "2021-03-25T09:29:23.166836Z"
    }
   },
   "outputs": [
    {
     "data": {
      "image/svg+xml": [
       "<?xml version=\"1.0\" encoding=\"UTF-8\" standalone=\"no\"?><svg xmlns=\"http://www.w3.org/2000/svg\" xmlns:xlink=\"http://www.w3.org/1999/xlink\" contentScriptType=\"application/ecmascript\" contentStyleType=\"text/css\" height=\"527px\" preserveAspectRatio=\"none\" style=\"width:563px;height:527px;\" version=\"1.1\" viewBox=\"0 0 563 527\" width=\"563px\" zoomAndPan=\"magnify\"><defs/><g><!--MD5=[fbc87193dbaf4d95561dea2c320d4a47]\n",
       "cluster E1--><a href=\"psysml:8952aa40-03a2-4df7-81e1-750bf2c7b589\" target=\"_top\" title=\"psysml:8952aa40-03a2-4df7-81e1-750bf2c7b589\" xlink:actuate=\"onRequest\" xlink:href=\"psysml:8952aa40-03a2-4df7-81e1-750bf2c7b589\" xlink:show=\"new\" xlink:title=\"psysml:8952aa40-03a2-4df7-81e1-750bf2c7b589\" xlink:type=\"simple\"><polygon fill=\"#FFFFFF\" points=\"25.48,6,157.48,6,164.48,28.2969,541.48,28.2969,541.48,515,25.48,515,25.48,6\" style=\"stroke: #000000; stroke-width: 1.5;\"/><line style=\"stroke: #000000; stroke-width: 1.5;\" x1=\"25.48\" x2=\"164.48\" y1=\"28.2969\" y2=\"28.2969\"/><text fill=\"#000000\" font-family=\"sans-serif\" font-size=\"14\" font-weight=\"bold\" lengthAdjust=\"spacingAndGlyphs\" textLength=\"126\" x=\"29.48\" y=\"20.9951\">TradeStudyTest</text></a><!--MD5=[b4997ac47864f28c2f74865a473b2911]\n",
       "class E2--><a href=\"psysml:ba5002a0-783d-43b2-abfa-70b37f90804c\" target=\"_top\" title=\"psysml:ba5002a0-783d-43b2-abfa-70b37f90804c\" xlink:actuate=\"onRequest\" xlink:href=\"psysml:ba5002a0-783d-43b2-abfa-70b37f90804c\" xlink:show=\"new\" xlink:title=\"psysml:ba5002a0-783d-43b2-abfa-70b37f90804c\" xlink:type=\"simple\"><rect fill=\"#FFFFFF\" height=\"45.9375\" id=\"E2\" style=\"stroke: #383838; stroke-width: 1.5;\" width=\"66\" x=\"205.48\" y=\"453\"/><text fill=\"#000000\" font-family=\"sans-serif\" font-size=\"12\" font-style=\"italic\" lengthAdjust=\"spacingAndGlyphs\" textLength=\"64\" x=\"206.48\" y=\"469.1387\">«part def»</text><text fill=\"#000000\" font-family=\"sans-serif\" font-size=\"12\" lengthAdjust=\"spacingAndGlyphs\" textLength=\"43\" x=\"216.98\" y=\"483.1074\">Engine</text><line style=\"stroke: #383838; stroke-width: 1.5;\" x1=\"206.48\" x2=\"270.48\" y1=\"490.9375\" y2=\"490.9375\"/></a><!--MD5=[09b614a08d8cba4a07c9adeb5e0fee81]\n",
       "class E3--><a href=\"psysml:47ce73ab-2c54-4db4-9d19-7bcb338cdf44\" target=\"_top\" title=\"psysml:47ce73ab-2c54-4db4-9d19-7bcb338cdf44\" xlink:actuate=\"onRequest\" xlink:href=\"psysml:47ce73ab-2c54-4db4-9d19-7bcb338cdf44\" xlink:show=\"new\" xlink:title=\"psysml:47ce73ab-2c54-4db4-9d19-7bcb338cdf44\" xlink:type=\"simple\"><rect fill=\"#FFFFFF\" height=\"45.9375\" id=\"E3\" rx=\"10\" ry=\"10\" style=\"stroke: #383838; stroke-width: 1.5;\" width=\"108\" x=\"417.48\" y=\"346\"/><text fill=\"#000000\" font-family=\"sans-serif\" font-size=\"12\" font-style=\"italic\" lengthAdjust=\"spacingAndGlyphs\" textLength=\"40\" x=\"451.48\" y=\"362.1387\">«part»</text><text fill=\"#000000\" font-family=\"sans-serif\" font-size=\"12\" lengthAdjust=\"spacingAndGlyphs\" textLength=\"102\" x=\"420.48\" y=\"376.1074\">engine1: Engine</text><line style=\"stroke: #383838; stroke-width: 1.5;\" x1=\"418.48\" x2=\"524.48\" y1=\"383.9375\" y2=\"383.9375\"/></a><!--MD5=[ebbe1d658d1005bcc118a6aa81145e00]\n",
       "class E4--><a href=\"psysml:7dfdc806-8438-4ccb-bd71-8b6bdaa69ab8\" target=\"_top\" title=\"psysml:7dfdc806-8438-4ccb-bd71-8b6bdaa69ab8\" xlink:actuate=\"onRequest\" xlink:href=\"psysml:7dfdc806-8438-4ccb-bd71-8b6bdaa69ab8\" xlink:show=\"new\" xlink:title=\"psysml:7dfdc806-8438-4ccb-bd71-8b6bdaa69ab8\" xlink:type=\"simple\"><rect fill=\"#FFFFFF\" height=\"45.9375\" id=\"E4\" rx=\"10\" ry=\"10\" style=\"stroke: #383838; stroke-width: 1.5;\" width=\"108\" x=\"274.48\" y=\"346\"/><text fill=\"#000000\" font-family=\"sans-serif\" font-size=\"12\" font-style=\"italic\" lengthAdjust=\"spacingAndGlyphs\" textLength=\"40\" x=\"308.48\" y=\"362.1387\">«part»</text><text fill=\"#000000\" font-family=\"sans-serif\" font-size=\"12\" lengthAdjust=\"spacingAndGlyphs\" textLength=\"102\" x=\"277.48\" y=\"376.1074\">engine2: Engine</text><line style=\"stroke: #383838; stroke-width: 1.5;\" x1=\"275.48\" x2=\"381.48\" y1=\"383.9375\" y2=\"383.9375\"/></a><!--MD5=[270fce915f116d4de14055a7c1d9a0f3]\n",
       "class E5--><a href=\"psysml:cd38e840-8317-467c-8230-e0f8852492a9\" target=\"_top\" title=\"psysml:cd38e840-8317-467c-8230-e0f8852492a9\" xlink:actuate=\"onRequest\" xlink:href=\"psysml:cd38e840-8317-467c-8230-e0f8852492a9\" xlink:show=\"new\" xlink:title=\"psysml:cd38e840-8317-467c-8230-e0f8852492a9\" xlink:type=\"simple\"><rect fill=\"#FFFFFF\" height=\"45.9375\" id=\"E5\" rx=\"10\" ry=\"10\" style=\"stroke: #383838; stroke-width: 1.5;\" width=\"199\" x=\"246.98\" y=\"41\"/><text fill=\"#000000\" font-family=\"sans-serif\" font-size=\"12\" font-style=\"italic\" lengthAdjust=\"spacingAndGlyphs\" textLength=\"64\" x=\"314.48\" y=\"57.1387\">«analysis»</text><text fill=\"#000000\" font-family=\"sans-serif\" font-size=\"12\" lengthAdjust=\"spacingAndGlyphs\" textLength=\"193\" x=\"249.98\" y=\"71.1074\">engineTradeStudy: TradeStudy</text><line style=\"stroke: #383838; stroke-width: 1.5;\" x1=\"247.98\" x2=\"444.98\" y1=\"78.9375\" y2=\"78.9375\"/></a><!--MD5=[60a26617385b1d2d0262a64233df1f8d]\n",
       "class E6--><a href=\"psysml:bf1db205-ea64-42b3-a829-2093a93eb81c\" target=\"_top\" title=\"psysml:bf1db205-ea64-42b3-a829-2093a93eb81c\" xlink:actuate=\"onRequest\" xlink:href=\"psysml:bf1db205-ea64-42b3-a829-2093a93eb81c\" xlink:show=\"new\" xlink:title=\"psysml:bf1db205-ea64-42b3-a829-2093a93eb81c\" xlink:type=\"simple\"><rect fill=\"#FFFFFF\" height=\"45.9375\" id=\"E6\" rx=\"10\" ry=\"10\" style=\"stroke: #383838; stroke-width: 1.5;\" width=\"251\" x=\"85.98\" y=\"179\"/><text fill=\"#000000\" font-family=\"sans-serif\" font-size=\"12\" font-style=\"italic\" lengthAdjust=\"spacingAndGlyphs\" textLength=\"91\" x=\"165.98\" y=\"195.1387\">«requirement»</text><text fill=\"#000000\" font-family=\"sans-serif\" font-size=\"12\" lengthAdjust=\"spacingAndGlyphs\" textLength=\"245\" x=\"88.98\" y=\"209.1074\">tradeStudyObjective: MaximizeObjective</text><line style=\"stroke: #383838; stroke-width: 1.5;\" x1=\"86.98\" x2=\"335.98\" y1=\"216.9375\" y2=\"216.9375\"/></a><!--MD5=[2156ba9850f5573cc1fc38a6a4b2f02b]\n",
       "class E7--><a href=\"psysml:081fa6ee-8a6f-4292-82c4-f5eb64360f97\" target=\"_top\" title=\"psysml:081fa6ee-8a6f-4292-82c4-f5eb64360f97\" xlink:actuate=\"onRequest\" xlink:href=\"psysml:081fa6ee-8a6f-4292-82c4-f5eb64360f97\" xlink:show=\"new\" xlink:title=\"psysml:081fa6ee-8a6f-4292-82c4-f5eb64360f97\" xlink:type=\"simple\"><rect fill=\"#FFFFFF\" height=\"75.5469\" id=\"E7\" rx=\"10\" ry=\"10\" style=\"stroke: #383838; stroke-width: 1.5;\" width=\"116\" x=\"372.48\" y=\"164\"/><text fill=\"#000000\" font-family=\"sans-serif\" font-size=\"12\" font-style=\"italic\" lengthAdjust=\"spacingAndGlyphs\" textLength=\"82\" x=\"389.48\" y=\"180.1387\">«calculation»</text><text fill=\"#000000\" font-family=\"sans-serif\" font-size=\"12\" lengthAdjust=\"spacingAndGlyphs\" textLength=\"110\" x=\"375.48\" y=\"194.1074\">objectiveFunction</text><line style=\"stroke: #383838; stroke-width: 1.5;\" x1=\"373.48\" x2=\"487.48\" y1=\"201.9375\" y2=\"201.9375\"/><text fill=\"#000000\" font-family=\"sans-serif\" font-size=\"11\" lengthAdjust=\"spacingAndGlyphs\" textLength=\"65\" x=\"378.48\" y=\"232.9526\">result: Real</text><line style=\"stroke: #383838; stroke-width: 1.0;\" x1=\"373.48\" x2=\"402.98\" y1=\"216.3398\" y2=\"216.3398\"/><text fill=\"#000000\" font-family=\"sans-serif\" font-size=\"11\" lengthAdjust=\"spacingAndGlyphs\" textLength=\"55\" x=\"402.98\" y=\"219.6479\">attributes</text><line style=\"stroke: #383838; stroke-width: 1.0;\" x1=\"457.98\" x2=\"487.48\" y1=\"216.3398\" y2=\"216.3398\"/></a><!--MD5=[b9389687b975829384b498ac4b7476b2]\n",
       "class E8--><a href=\"psysml:dbdbccdb-5c16-4bd3-a501-4b1c7e9ddcab\" target=\"_top\" title=\"psysml:dbdbccdb-5c16-4bd3-a501-4b1c7e9ddcab\" xlink:actuate=\"onRequest\" xlink:href=\"psysml:dbdbccdb-5c16-4bd3-a501-4b1c7e9ddcab\" xlink:show=\"new\" xlink:title=\"psysml:dbdbccdb-5c16-4bd3-a501-4b1c7e9ddcab\" xlink:type=\"simple\"><rect fill=\"#FFFFFF\" height=\"45.9375\" id=\"E8\" rx=\"10\" ry=\"10\" style=\"stroke: #383838; stroke-width: 1.5;\" width=\"124\" x=\"78.48\" y=\"346\"/><text fill=\"#000000\" font-family=\"sans-serif\" font-size=\"12\" font-style=\"italic\" lengthAdjust=\"spacingAndGlyphs\" textLength=\"40\" x=\"120.48\" y=\"362.1387\">«part»</text><text fill=\"#000000\" font-family=\"sans-serif\" font-size=\"12\" lengthAdjust=\"spacingAndGlyphs\" textLength=\"118\" x=\"81.48\" y=\"376.1074\">alternative: Engine</text><line style=\"stroke: #383838; stroke-width: 1.5;\" x1=\"79.48\" x2=\"201.48\" y1=\"383.9375\" y2=\"383.9375\"/></a><!--MD5=[fd4143e9d270a159db93a4ea2a975926]\n",
       "class E9--><a href=\"psysml:b6df212f-8018-4500-9608-46bc28de5179\" target=\"_top\" title=\"psysml:b6df212f-8018-4500-9608-46bc28de5179\" xlink:actuate=\"onRequest\" xlink:href=\"psysml:b6df212f-8018-4500-9608-46bc28de5179\" xlink:show=\"new\" xlink:title=\"psysml:b6df212f-8018-4500-9608-46bc28de5179\" xlink:type=\"simple\"><rect fill=\"#FFFFFF\" height=\"45.9375\" id=\"E9\" rx=\"10\" ry=\"10\" style=\"stroke: #383838; stroke-width: 1.5;\" width=\"178\" x=\"298.48\" y=\"270\"/><text fill=\"#000000\" font-family=\"sans-serif\" font-size=\"12\" font-style=\"italic\" lengthAdjust=\"spacingAndGlyphs\" textLength=\"40\" x=\"367.48\" y=\"286.1387\">«part»</text><text fill=\"#000000\" font-family=\"sans-serif\" font-size=\"12\" lengthAdjust=\"spacingAndGlyphs\" textLength=\"172\" x=\"301.48\" y=\"300.1074\">selectedAlternative: Engine</text><line style=\"stroke: #383838; stroke-width: 1.5;\" x1=\"299.48\" x2=\"475.48\" y1=\"307.9375\" y2=\"307.9375\"/></a><!--MD5=[05d275557350bfb9b23a4ef7222b4c39]\n",
       "link E3 to E2--><a href=\"psysml:6a611645-87b6-456f-b99f-fe1a3075932c\" target=\"_top\" title=\"psysml:6a611645-87b6-456f-b99f-fe1a3075932c\" xlink:actuate=\"onRequest\" xlink:href=\"psysml:6a611645-87b6-456f-b99f-fe1a3075932c\" xlink:show=\"new\" xlink:title=\"psysml:6a611645-87b6-456f-b99f-fe1a3075932c\" xlink:type=\"simple\"><path d=\"M422.64,392.01 C383.73,409.54 329.43,434.01 289.87,451.84 \" fill=\"none\" id=\"E3-&gt;E2\" style=\"stroke: #383838; stroke-width: 1.0;\"/><polygon fill=\"#FFFFFF\" points=\"271.5,460.12,285.9466,445.9321,291.6983,458.696,271.5,460.12\" style=\"stroke: #383838; stroke-width: 1.0;\"/><ellipse cx=\"291.965\" cy=\"445.4137\" fill=\"#383838\" rx=\"2\" ry=\"2\" style=\"stroke: #383838; stroke-width: 1.0;\"/><ellipse cx=\"296.0734\" cy=\"454.5308\" fill=\"#383838\" rx=\"2\" ry=\"2\" style=\"stroke: #383838; stroke-width: 1.0;\"/></a><!--MD5=[185131fc0dcab0a4505a2ebe144e961b]\n",
       "link E4 to E2--><a href=\"psysml:c8f697e8-ebd5-44e8-8041-765052aa0dda\" target=\"_top\" title=\"psysml:c8f697e8-ebd5-44e8-8041-765052aa0dda\" xlink:actuate=\"onRequest\" xlink:href=\"psysml:c8f697e8-ebd5-44e8-8041-765052aa0dda\" xlink:show=\"new\" xlink:title=\"psysml:c8f697e8-ebd5-44e8-8041-765052aa0dda\" xlink:type=\"simple\"><path d=\"M309.61,392.01 C298.41,405.08 283.9,422.01 270.9,437.17 \" fill=\"none\" id=\"E4-&gt;E2\" style=\"stroke: #383838; stroke-width: 1.0;\"/><polygon fill=\"#FFFFFF\" points=\"257.63,452.66,264.6788,433.678,275.3091,442.7883,257.63,452.66\" style=\"stroke: #383838; stroke-width: 1.0;\"/><ellipse cx=\"269.9066\" cy=\"430.6515\" fill=\"#383838\" rx=\"2\" ry=\"2\" style=\"stroke: #383838; stroke-width: 1.0;\"/><ellipse cx=\"277.4996\" cy=\"437.1588\" fill=\"#383838\" rx=\"2\" ry=\"2\" style=\"stroke: #383838; stroke-width: 1.0;\"/></a><!--MD5=[15ebcb19ae302d9b601edb458606d402]\n",
       "link E5 to E2--><a href=\"psysml:2f46211a-dc33-450b-96f1-34c5430f413d\" target=\"_top\" title=\"psysml:2f46211a-dc33-450b-96f1-34c5430f413d\" xlink:actuate=\"onRequest\" xlink:href=\"psysml:2f46211a-dc33-450b-96f1-34c5430f413d\" xlink:show=\"new\" xlink:title=\"psysml:2f46211a-dc33-450b-96f1-34c5430f413d\" xlink:type=\"simple\"><path d=\"M246.76,73.1 C184.92,83.79 109.66,108.27 68.48,164 C8.23,245.55 6,306.48 60.48,392 C91.11,440.08 157.66,460.76 200.15,469.32 \" fill=\"none\" id=\"E5-&gt;E2\" style=\"stroke: #383838; stroke-width: 1.0; stroke-dasharray: 7.0,7.0;\"/><polygon fill=\"#383838\" points=\"205.2,470.31,197.1338,464.6588,200.2927,469.3514,195.6001,472.5104,205.2,470.31\" style=\"stroke: #383838; stroke-width: 1.0;\"/><text fill=\"#000000\" font-family=\"sans-serif\" font-size=\"13\" lengthAdjust=\"spacingAndGlyphs\" textLength=\"62\" x=\"26.48\" y=\"297.5669\">«subject»</text></a><!--MD5=[9120cf2e5df3bff93db8f754bbbc09b4]\n",
       "link E5 to E6--><a href=\"psysml:285bfc51-142a-40f2-bdf1-cdd7141b9b55\" target=\"_top\" title=\"psysml:285bfc51-142a-40f2-bdf1-cdd7141b9b55\" xlink:actuate=\"onRequest\" xlink:href=\"psysml:285bfc51-142a-40f2-bdf1-cdd7141b9b55\" xlink:show=\"new\" xlink:title=\"psysml:285bfc51-142a-40f2-bdf1-cdd7141b9b55\" xlink:type=\"simple\"><path d=\"M324.49,87.15 C301.25,110.57 264.53,147.55 239.3,172.98 \" fill=\"none\" id=\"E5-&gt;E6\" style=\"stroke: #383838; stroke-width: 1.0;\"/><polygon fill=\"#383838\" points=\"233.46,178.86,241.2247,175.295,236.966,171.0685,233.46,178.86\" style=\"stroke: #383838; stroke-width: 1.0;\"/><text fill=\"#000000\" font-family=\"sans-serif\" font-size=\"13\" lengthAdjust=\"spacingAndGlyphs\" textLength=\"73\" x=\"291.48\" y=\"130.0669\">«objective»</text></a><!--MD5=[452b418e7f8a40397a49b8c0a78acc5b]\n",
       "reverse link E5 to E7--><a href=\"psysml:081fa6ee-8a6f-4292-82c4-f5eb64360f97\" target=\"_top\" title=\"psysml:081fa6ee-8a6f-4292-82c4-f5eb64360f97\" xlink:actuate=\"onRequest\" xlink:href=\"psysml:081fa6ee-8a6f-4292-82c4-f5eb64360f97\" xlink:show=\"new\" xlink:title=\"psysml:081fa6ee-8a6f-4292-82c4-f5eb64360f97\" xlink:type=\"simple\"><path d=\"M367.14,98.44 C379.4,118.3 394.98,143.52 407.61,163.97 \" fill=\"none\" id=\"E5&lt;-E7\" style=\"stroke: #383838; stroke-width: 1.0;\"/><polygon fill=\"#383838\" points=\"360.16,87.15,359.9052,94.3566,366.4595,97.3636,366.7142,90.157,360.16,87.15\" style=\"stroke: #383838; stroke-width: 1.0;\"/></a><!--MD5=[f1f3f9f2fc535e6147756cb86a7f2e32]\n",
       "link E8 to E2--><a href=\"psysml:143d7cb3-4d47-41f0-bb56-6d1ae515b029\" target=\"_top\" title=\"psysml:143d7cb3-4d47-41f0-bb56-6d1ae515b029\" xlink:actuate=\"onRequest\" xlink:href=\"psysml:143d7cb3-4d47-41f0-bb56-6d1ae515b029\" xlink:show=\"new\" xlink:title=\"psysml:143d7cb3-4d47-41f0-bb56-6d1ae515b029\" xlink:type=\"simple\"><path d=\"M161.02,392.01 C173.35,405.22 189.36,422.38 203.62,437.65 \" fill=\"none\" id=\"E8-&gt;E2\" style=\"stroke: #383838; stroke-width: 1.0;\"/><polygon fill=\"#FFFFFF\" points=\"217.63,452.66,199.5521,443.5393,209.7905,433.9907,217.63,452.66\" style=\"stroke: #383838; stroke-width: 1.0;\"/><ellipse cx=\"197.1271\" cy=\"438.0067\" fill=\"#383838\" rx=\"2\" ry=\"2\" style=\"stroke: #383838; stroke-width: 1.0;\"/><ellipse cx=\"204.4402\" cy=\"431.1863\" fill=\"#383838\" rx=\"2\" ry=\"2\" style=\"stroke: #383838; stroke-width: 1.0;\"/></a><!--MD5=[dc164f5e8a733ab456ef1add180e9e34]\n",
       "reverse link E7 to E8--><a href=\"psysml:dbdbccdb-5c16-4bd3-a501-4b1c7e9ddcab\" target=\"_top\" title=\"psysml:dbdbccdb-5c16-4bd3-a501-4b1c7e9ddcab\" xlink:actuate=\"onRequest\" xlink:href=\"psysml:dbdbccdb-5c16-4bd3-a501-4b1c7e9ddcab\" xlink:show=\"new\" xlink:title=\"psysml:dbdbccdb-5c16-4bd3-a501-4b1c7e9ddcab\" xlink:type=\"simple\"><path d=\"M360.21,237.41 C358.28,238.29 356.37,239.15 354.48,240 C322.47,254.35 312.29,253.22 281.48,270 C240.11,292.53 196.1,324.58 168.46,345.81 \" fill=\"none\" id=\"E7&lt;-E8\" style=\"stroke: #383838; stroke-width: 1.0;\"/><polygon fill=\"#FFFFFF\" points=\"372.15,231.86,365.0224,230.7655,361.2708,236.9238,368.3983,238.0183,372.15,231.86\" style=\"stroke: #383838; stroke-width: 1.0;\"/></a><!--MD5=[5c3bb36fe832a92c7f0e1807dd65209d]\n",
       "link E9 to E2--><a href=\"psysml:cb3e8ea7-f115-4f34-bcd9-dd1e6ba812b8\" target=\"_top\" title=\"psysml:cb3e8ea7-f115-4f34-bcd9-dd1e6ba812b8\" xlink:actuate=\"onRequest\" xlink:href=\"psysml:cb3e8ea7-f115-4f34-bcd9-dd1e6ba812b8\" xlink:show=\"new\" xlink:title=\"psysml:cb3e8ea7-f115-4f34-bcd9-dd1e6ba812b8\" xlink:type=\"simple\"><path d=\"M298.35,315.15 C282.73,322.56 268.1,332.55 257.48,346 C238.33,370.25 234.2,405.32 234.52,432.77 \" fill=\"none\" id=\"E9-&gt;E2\" style=\"stroke: #383838; stroke-width: 1.0;\"/><polygon fill=\"#FFFFFF\" points=\"235.52,452.81,227.5786,434.1838,241.5611,433.4837,235.52,452.81\" style=\"stroke: #383838; stroke-width: 1.0;\"/><ellipse cx=\"229.291\" cy=\"428.3909\" fill=\"#383838\" rx=\"2\" ry=\"2\" style=\"stroke: #383838; stroke-width: 1.0;\"/><ellipse cx=\"239.2785\" cy=\"427.8909\" fill=\"#383838\" rx=\"2\" ry=\"2\" style=\"stroke: #383838; stroke-width: 1.0;\"/></a><!--MD5=[9ae28de373ca99bb8a1b38d63370ca7e]\n",
       "reverse link E5 to E9--><a href=\"psysml:b6df212f-8018-4500-9608-46bc28de5179\" target=\"_top\" title=\"psysml:b6df212f-8018-4500-9608-46bc28de5179\" xlink:actuate=\"onRequest\" xlink:href=\"psysml:b6df212f-8018-4500-9608-46bc28de5179\" xlink:show=\"new\" xlink:title=\"psysml:b6df212f-8018-4500-9608-46bc28de5179\" xlink:type=\"simple\"><path d=\"M423.24,92.77 C454.94,108.48 488.43,131.61 506.48,164 C522.92,193.51 524.97,211.74 506.48,240 C498.02,252.92 485.57,262.65 471.87,269.97 \" fill=\"none\" id=\"E5&lt;-E9\" style=\"stroke: #383838; stroke-width: 1.0;\"/><polygon fill=\"#FFFFFF\" points=\"411.22,87.11,414.9414,93.2867,422.0742,92.2272,418.3528,86.0505,411.22,87.11\" style=\"stroke: #383838; stroke-width: 1.0;\"/></a><!--MD5=[42ee3f91792e8d92dee62a3f320fdcdc]\n",
       "@startuml\r\n",
       " skinparam monochrome true\r\n",
       "skinparam classbackgroundcolor white\r\n",
       "skinparam shadowing false\r\n",
       "skinparam wrapWidth 300\r\n",
       "hide circle\r\n",
       "\r\n",
       "package \"TradeStudyTest\" as E1  [[psysml:8952aa40-03a2-4df7-81e1-750bf2c7b589 ]]  {\r\n",
       "comp def \"Engine\" as E2  <<(T,blue)part def>> [[psysml:ba5002a0-783d-43b2-abfa-70b37f90804c ]] {\r\n",
       "}\r\n",
       "comp usage \"engine1: Engine\" as E3  <<(T,blue)part>> [[psysml:47ce73ab-2c54-4db4-9d19-7bcb338cdf44 ]] {\r\n",
       "}\r\n",
       "comp usage \"engine2: Engine\" as E4  <<(T,blue)part>> [[psysml:7dfdc806-8438-4ccb-bd71-8b6bdaa69ab8 ]] {\r\n",
       "}\r\n",
       "comp usage \"engineTradeStudy: TradeStudy\" as E5 <<analysis>> [[psysml:cd38e840-8317-467c-8230-e0f8852492a9 ]] {\r\n",
       "}\r\n",
       "comp usage \"tradeStudyObjective: MaximizeObjective\" as E6  <<(T,blue)requirement>> [[psysml:bf1db205-ea64-42b3-a829-2093a93eb81c ]] {\r\n",
       "}\r\n",
       "comp usage \"objectiveFunction\" as E7  <<(T,blue)calculation>> [[psysml:081fa6ee-8a6f-4292-82c4-f5eb64360f97 ]] {\r\n",
       "- - attributes - -\r\n",
       "result: Real\r\n",
       "}\r\n",
       "comp usage \"alternative: Engine\" as E8  <<(T,blue)part>> [[psysml:dbdbccdb-5c16-4bd3-a501-4b1c7e9ddcab ]] {\r\n",
       "}\r\n",
       "comp usage \"selectedAlternative: Engine\" as E9  <<(T,blue)part>> [[psysml:b6df212f-8018-4500-9608-46bc28de5179 ]] {\r\n",
       "}\r\n",
       "E3 - -:|> E2 [[psysml:6a611645-87b6-456f-b99f-fe1a3075932c ]] \r\n",
       "E4 - -:|> E2 [[psysml:c8f697e8-ebd5-44e8-8041-765052aa0dda ]] \r\n",
       "E5 ..> E2 [[psysml:2f46211a-dc33-450b-96f1-34c5430f413d ]] : <<subject>>\r\n",
       "E5 - ->> E6 [[psysml:285bfc51-142a-40f2-bdf1-cdd7141b9b55 ]] : <<objective>>\r\n",
       "E5 *- - E7 [[psysml:081fa6ee-8a6f-4292-82c4-f5eb64360f97 ]] \r\n",
       "E8 - -:|> E2 [[psysml:143d7cb3-4d47-41f0-bb56-6d1ae515b029 ]] \r\n",
       "E7 o- - E8 [[psysml:dbdbccdb-5c16-4bd3-a501-4b1c7e9ddcab ]] \r\n",
       "E9 - -:|> E2 [[psysml:cb3e8ea7-f115-4f34-bcd9-dd1e6ba812b8 ]] \r\n",
       "E5 o- - E9 [[psysml:b6df212f-8018-4500-9608-46bc28de5179 ]] \r\n",
       "}\r\n",
       "@enduml\r\n",
       "\n",
       "PlantUML version 1.2020.13(Sat Jun 13 12:26:38 UTC 2020)\n",
       "(EPL source distribution)\n",
       "Java Runtime: OpenJDK Runtime Environment\n",
       "JVM: OpenJDK 64-Bit Server VM\n",
       "Default Encoding: UTF-8\n",
       "Language: en\n",
       "Country: null\n",
       "--></g></svg>"
      ]
     },
     "execution_count": 8,
     "metadata": {},
     "output_type": "execute_result"
    }
   ],
   "source": [
    "%viz --style=\"COMPTREE\" --view=\"MIXED\" \"TradeStudyTest\""
   ]
  },
  {
   "cell_type": "code",
   "execution_count": 9,
   "id": "enhanced-magic",
   "metadata": {
    "execution": {
     "iopub.execute_input": "2021-03-25T09:29:23.221455Z",
     "iopub.status.busy": "2021-03-25T09:29:23.220797Z",
     "iopub.status.idle": "2021-03-25T09:29:23.556302Z",
     "shell.execute_reply": "2021-03-25T09:29:23.556821Z"
    }
   },
   "outputs": [
    {
     "data": {
      "image/svg+xml": [
       "<?xml version=\"1.0\" encoding=\"UTF-8\" standalone=\"no\"?><svg xmlns=\"http://www.w3.org/2000/svg\" xmlns:xlink=\"http://www.w3.org/1999/xlink\" contentScriptType=\"application/ecmascript\" contentStyleType=\"text/css\" height=\"527px\" preserveAspectRatio=\"none\" style=\"width:554px;height:527px;\" version=\"1.1\" viewBox=\"0 0 554 527\" width=\"554px\" zoomAndPan=\"magnify\"><defs/><g><!--MD5=[fbc87193dbaf4d95561dea2c320d4a47]\n",
       "cluster E1--><a href=\"psysml:8952aa40-03a2-4df7-81e1-750bf2c7b589\" target=\"_top\" title=\"psysml:8952aa40-03a2-4df7-81e1-750bf2c7b589\" xlink:actuate=\"onRequest\" xlink:href=\"psysml:8952aa40-03a2-4df7-81e1-750bf2c7b589\" xlink:show=\"new\" xlink:title=\"psysml:8952aa40-03a2-4df7-81e1-750bf2c7b589\" xlink:type=\"simple\"><polygon fill=\"#FFFFFF\" points=\"16,6,148,6,155,28.2969,532,28.2969,532,515,16,515,16,6\" style=\"stroke: #000000; stroke-width: 1.5;\"/><line style=\"stroke: #000000; stroke-width: 1.5;\" x1=\"16\" x2=\"155\" y1=\"28.2969\" y2=\"28.2969\"/><text fill=\"#000000\" font-family=\"sans-serif\" font-size=\"14\" font-weight=\"bold\" lengthAdjust=\"spacingAndGlyphs\" textLength=\"126\" x=\"20\" y=\"20.9951\">TradeStudyTest</text></a><!--MD5=[b4997ac47864f28c2f74865a473b2911]\n",
       "class E2--><a href=\"psysml:ba5002a0-783d-43b2-abfa-70b37f90804c\" target=\"_top\" title=\"psysml:ba5002a0-783d-43b2-abfa-70b37f90804c\" xlink:actuate=\"onRequest\" xlink:href=\"psysml:ba5002a0-783d-43b2-abfa-70b37f90804c\" xlink:show=\"new\" xlink:title=\"psysml:ba5002a0-783d-43b2-abfa-70b37f90804c\" xlink:type=\"simple\"><rect fill=\"#FFFFFF\" height=\"45.9375\" id=\"E2\" style=\"stroke: #383838; stroke-width: 1.5;\" width=\"66\" x=\"196\" y=\"453\"/><text fill=\"#000000\" font-family=\"sans-serif\" font-size=\"12\" font-style=\"italic\" lengthAdjust=\"spacingAndGlyphs\" textLength=\"64\" x=\"197\" y=\"469.1387\">«part def»</text><text fill=\"#000000\" font-family=\"sans-serif\" font-size=\"12\" lengthAdjust=\"spacingAndGlyphs\" textLength=\"43\" x=\"207.5\" y=\"483.1074\">Engine</text><line style=\"stroke: #383838; stroke-width: 1.5;\" x1=\"197\" x2=\"261\" y1=\"490.9375\" y2=\"490.9375\"/></a><!--MD5=[09b614a08d8cba4a07c9adeb5e0fee81]\n",
       "class E3--><a href=\"psysml:47ce73ab-2c54-4db4-9d19-7bcb338cdf44\" target=\"_top\" title=\"psysml:47ce73ab-2c54-4db4-9d19-7bcb338cdf44\" xlink:actuate=\"onRequest\" xlink:href=\"psysml:47ce73ab-2c54-4db4-9d19-7bcb338cdf44\" xlink:show=\"new\" xlink:title=\"psysml:47ce73ab-2c54-4db4-9d19-7bcb338cdf44\" xlink:type=\"simple\"><rect fill=\"#FFFFFF\" height=\"45.9375\" id=\"E3\" rx=\"10\" ry=\"10\" style=\"stroke: #383838; stroke-width: 1.5;\" width=\"108\" x=\"408\" y=\"346\"/><text fill=\"#000000\" font-family=\"sans-serif\" font-size=\"12\" font-style=\"italic\" lengthAdjust=\"spacingAndGlyphs\" textLength=\"40\" x=\"442\" y=\"362.1387\">«part»</text><text fill=\"#000000\" font-family=\"sans-serif\" font-size=\"12\" lengthAdjust=\"spacingAndGlyphs\" textLength=\"102\" x=\"411\" y=\"376.1074\">engine1: Engine</text><line style=\"stroke: #383838; stroke-width: 1.5;\" x1=\"409\" x2=\"515\" y1=\"383.9375\" y2=\"383.9375\"/></a><!--MD5=[ebbe1d658d1005bcc118a6aa81145e00]\n",
       "class E4--><a href=\"psysml:7dfdc806-8438-4ccb-bd71-8b6bdaa69ab8\" target=\"_top\" title=\"psysml:7dfdc806-8438-4ccb-bd71-8b6bdaa69ab8\" xlink:actuate=\"onRequest\" xlink:href=\"psysml:7dfdc806-8438-4ccb-bd71-8b6bdaa69ab8\" xlink:show=\"new\" xlink:title=\"psysml:7dfdc806-8438-4ccb-bd71-8b6bdaa69ab8\" xlink:type=\"simple\"><rect fill=\"#FFFFFF\" height=\"45.9375\" id=\"E4\" rx=\"10\" ry=\"10\" style=\"stroke: #383838; stroke-width: 1.5;\" width=\"108\" x=\"265\" y=\"346\"/><text fill=\"#000000\" font-family=\"sans-serif\" font-size=\"12\" font-style=\"italic\" lengthAdjust=\"spacingAndGlyphs\" textLength=\"40\" x=\"299\" y=\"362.1387\">«part»</text><text fill=\"#000000\" font-family=\"sans-serif\" font-size=\"12\" lengthAdjust=\"spacingAndGlyphs\" textLength=\"102\" x=\"268\" y=\"376.1074\">engine2: Engine</text><line style=\"stroke: #383838; stroke-width: 1.5;\" x1=\"266\" x2=\"372\" y1=\"383.9375\" y2=\"383.9375\"/></a><!--MD5=[270fce915f116d4de14055a7c1d9a0f3]\n",
       "class E5--><a href=\"psysml:cd38e840-8317-467c-8230-e0f8852492a9\" target=\"_top\" title=\"psysml:cd38e840-8317-467c-8230-e0f8852492a9\" xlink:actuate=\"onRequest\" xlink:href=\"psysml:cd38e840-8317-467c-8230-e0f8852492a9\" xlink:show=\"new\" xlink:title=\"psysml:cd38e840-8317-467c-8230-e0f8852492a9\" xlink:type=\"simple\"><rect fill=\"#FFFFFF\" height=\"45.9375\" id=\"E5\" rx=\"10\" ry=\"10\" style=\"stroke: #383838; stroke-width: 1.5;\" width=\"199\" x=\"237.5\" y=\"41\"/><text fill=\"#000000\" font-family=\"sans-serif\" font-size=\"12\" font-style=\"italic\" lengthAdjust=\"spacingAndGlyphs\" textLength=\"64\" x=\"305\" y=\"57.1387\">«analysis»</text><text fill=\"#000000\" font-family=\"sans-serif\" font-size=\"12\" lengthAdjust=\"spacingAndGlyphs\" textLength=\"193\" x=\"240.5\" y=\"71.1074\">engineTradeStudy: TradeStudy</text><line style=\"stroke: #383838; stroke-width: 1.5;\" x1=\"238.5\" x2=\"435.5\" y1=\"78.9375\" y2=\"78.9375\"/></a><!--MD5=[60a26617385b1d2d0262a64233df1f8d]\n",
       "class E6--><a href=\"psysml:bf1db205-ea64-42b3-a829-2093a93eb81c\" target=\"_top\" title=\"psysml:bf1db205-ea64-42b3-a829-2093a93eb81c\" xlink:actuate=\"onRequest\" xlink:href=\"psysml:bf1db205-ea64-42b3-a829-2093a93eb81c\" xlink:show=\"new\" xlink:title=\"psysml:bf1db205-ea64-42b3-a829-2093a93eb81c\" xlink:type=\"simple\"><rect fill=\"#FFFFFF\" height=\"45.9375\" id=\"E6\" rx=\"10\" ry=\"10\" style=\"stroke: #383838; stroke-width: 1.5;\" width=\"251\" x=\"76.5\" y=\"179\"/><text fill=\"#000000\" font-family=\"sans-serif\" font-size=\"12\" font-style=\"italic\" lengthAdjust=\"spacingAndGlyphs\" textLength=\"91\" x=\"156.5\" y=\"195.1387\">«requirement»</text><text fill=\"#000000\" font-family=\"sans-serif\" font-size=\"12\" lengthAdjust=\"spacingAndGlyphs\" textLength=\"245\" x=\"79.5\" y=\"209.1074\">tradeStudyObjective: MaximizeObjective</text><line style=\"stroke: #383838; stroke-width: 1.5;\" x1=\"77.5\" x2=\"326.5\" y1=\"216.9375\" y2=\"216.9375\"/></a><!--MD5=[2156ba9850f5573cc1fc38a6a4b2f02b]\n",
       "class E7--><a href=\"psysml:081fa6ee-8a6f-4292-82c4-f5eb64360f97\" target=\"_top\" title=\"psysml:081fa6ee-8a6f-4292-82c4-f5eb64360f97\" xlink:actuate=\"onRequest\" xlink:href=\"psysml:081fa6ee-8a6f-4292-82c4-f5eb64360f97\" xlink:show=\"new\" xlink:title=\"psysml:081fa6ee-8a6f-4292-82c4-f5eb64360f97\" xlink:type=\"simple\"><rect fill=\"#FFFFFF\" height=\"75.5469\" id=\"E7\" rx=\"10\" ry=\"10\" style=\"stroke: #383838; stroke-width: 1.5;\" width=\"116\" x=\"363\" y=\"164\"/><text fill=\"#000000\" font-family=\"sans-serif\" font-size=\"12\" font-style=\"italic\" lengthAdjust=\"spacingAndGlyphs\" textLength=\"82\" x=\"380\" y=\"180.1387\">«calculation»</text><text fill=\"#000000\" font-family=\"sans-serif\" font-size=\"12\" lengthAdjust=\"spacingAndGlyphs\" textLength=\"110\" x=\"366\" y=\"194.1074\">objectiveFunction</text><line style=\"stroke: #383838; stroke-width: 1.5;\" x1=\"364\" x2=\"478\" y1=\"201.9375\" y2=\"201.9375\"/><text fill=\"#000000\" font-family=\"sans-serif\" font-size=\"11\" lengthAdjust=\"spacingAndGlyphs\" textLength=\"65\" x=\"369\" y=\"232.9526\">result: Real</text><line style=\"stroke: #383838; stroke-width: 1.0;\" x1=\"364\" x2=\"393.5\" y1=\"216.3398\" y2=\"216.3398\"/><text fill=\"#000000\" font-family=\"sans-serif\" font-size=\"11\" lengthAdjust=\"spacingAndGlyphs\" textLength=\"55\" x=\"393.5\" y=\"219.6479\">attributes</text><line style=\"stroke: #383838; stroke-width: 1.0;\" x1=\"448.5\" x2=\"478\" y1=\"216.3398\" y2=\"216.3398\"/></a><!--MD5=[b9389687b975829384b498ac4b7476b2]\n",
       "class E8--><a href=\"psysml:dbdbccdb-5c16-4bd3-a501-4b1c7e9ddcab\" target=\"_top\" title=\"psysml:dbdbccdb-5c16-4bd3-a501-4b1c7e9ddcab\" xlink:actuate=\"onRequest\" xlink:href=\"psysml:dbdbccdb-5c16-4bd3-a501-4b1c7e9ddcab\" xlink:show=\"new\" xlink:title=\"psysml:dbdbccdb-5c16-4bd3-a501-4b1c7e9ddcab\" xlink:type=\"simple\"><rect fill=\"#FFFFFF\" height=\"45.9375\" id=\"E8\" rx=\"10\" ry=\"10\" style=\"stroke: #383838; stroke-width: 1.5;\" width=\"124\" x=\"69\" y=\"346\"/><text fill=\"#000000\" font-family=\"sans-serif\" font-size=\"12\" font-style=\"italic\" lengthAdjust=\"spacingAndGlyphs\" textLength=\"40\" x=\"111\" y=\"362.1387\">«part»</text><text fill=\"#000000\" font-family=\"sans-serif\" font-size=\"12\" lengthAdjust=\"spacingAndGlyphs\" textLength=\"118\" x=\"72\" y=\"376.1074\">alternative: Engine</text><line style=\"stroke: #383838; stroke-width: 1.5;\" x1=\"70\" x2=\"192\" y1=\"383.9375\" y2=\"383.9375\"/></a><!--MD5=[fd4143e9d270a159db93a4ea2a975926]\n",
       "class E9--><a href=\"psysml:b6df212f-8018-4500-9608-46bc28de5179\" target=\"_top\" title=\"psysml:b6df212f-8018-4500-9608-46bc28de5179\" xlink:actuate=\"onRequest\" xlink:href=\"psysml:b6df212f-8018-4500-9608-46bc28de5179\" xlink:show=\"new\" xlink:title=\"psysml:b6df212f-8018-4500-9608-46bc28de5179\" xlink:type=\"simple\"><rect fill=\"#FFFFFF\" height=\"45.9375\" id=\"E9\" rx=\"10\" ry=\"10\" style=\"stroke: #383838; stroke-width: 1.5;\" width=\"178\" x=\"289\" y=\"270\"/><text fill=\"#000000\" font-family=\"sans-serif\" font-size=\"12\" font-style=\"italic\" lengthAdjust=\"spacingAndGlyphs\" textLength=\"40\" x=\"358\" y=\"286.1387\">«part»</text><text fill=\"#000000\" font-family=\"sans-serif\" font-size=\"12\" lengthAdjust=\"spacingAndGlyphs\" textLength=\"172\" x=\"292\" y=\"300.1074\">selectedAlternative: Engine</text><line style=\"stroke: #383838; stroke-width: 1.5;\" x1=\"290\" x2=\"466\" y1=\"307.9375\" y2=\"307.9375\"/></a><!--MD5=[05d275557350bfb9b23a4ef7222b4c39]\n",
       "link E3 to E2--><a href=\"psysml:6a611645-87b6-456f-b99f-fe1a3075932c\" target=\"_top\" title=\"psysml:6a611645-87b6-456f-b99f-fe1a3075932c\" xlink:actuate=\"onRequest\" xlink:href=\"psysml:6a611645-87b6-456f-b99f-fe1a3075932c\" xlink:show=\"new\" xlink:title=\"psysml:6a611645-87b6-456f-b99f-fe1a3075932c\" xlink:type=\"simple\"><path d=\"M413.16,392.01 C374.25,409.54 319.95,434.01 280.39,451.84 \" fill=\"none\" id=\"E3-&gt;E2\" style=\"stroke: #383838; stroke-width: 1.0;\"/><polygon fill=\"#FFFFFF\" points=\"262.02,460.12,276.4666,445.9321,282.2183,458.696,262.02,460.12\" style=\"stroke: #383838; stroke-width: 1.0;\"/><ellipse cx=\"282.485\" cy=\"445.4137\" fill=\"#383838\" rx=\"2\" ry=\"2\" style=\"stroke: #383838; stroke-width: 1.0;\"/><ellipse cx=\"286.5934\" cy=\"454.5308\" fill=\"#383838\" rx=\"2\" ry=\"2\" style=\"stroke: #383838; stroke-width: 1.0;\"/></a><!--MD5=[185131fc0dcab0a4505a2ebe144e961b]\n",
       "link E4 to E2--><a href=\"psysml:c8f697e8-ebd5-44e8-8041-765052aa0dda\" target=\"_top\" title=\"psysml:c8f697e8-ebd5-44e8-8041-765052aa0dda\" xlink:actuate=\"onRequest\" xlink:href=\"psysml:c8f697e8-ebd5-44e8-8041-765052aa0dda\" xlink:show=\"new\" xlink:title=\"psysml:c8f697e8-ebd5-44e8-8041-765052aa0dda\" xlink:type=\"simple\"><path d=\"M300.13,392.01 C288.93,405.08 274.42,422.01 261.42,437.17 \" fill=\"none\" id=\"E4-&gt;E2\" style=\"stroke: #383838; stroke-width: 1.0;\"/><polygon fill=\"#FFFFFF\" points=\"248.15,452.66,255.1988,433.678,265.8291,442.7883,248.15,452.66\" style=\"stroke: #383838; stroke-width: 1.0;\"/><ellipse cx=\"260.4266\" cy=\"430.6515\" fill=\"#383838\" rx=\"2\" ry=\"2\" style=\"stroke: #383838; stroke-width: 1.0;\"/><ellipse cx=\"268.0196\" cy=\"437.1588\" fill=\"#383838\" rx=\"2\" ry=\"2\" style=\"stroke: #383838; stroke-width: 1.0;\"/></a><!--MD5=[15ebcb19ae302d9b601edb458606d402]\n",
       "link E5 to E2--><a href=\"psysml:2f46211a-dc33-450b-96f1-34c5430f413d\" target=\"_top\" title=\"psysml:2f46211a-dc33-450b-96f1-34c5430f413d\" xlink:actuate=\"onRequest\" xlink:href=\"psysml:2f46211a-dc33-450b-96f1-34c5430f413d\" xlink:show=\"new\" xlink:title=\"psysml:2f46211a-dc33-450b-96f1-34c5430f413d\" xlink:type=\"simple\"><path d=\"M274.96,87.09 C193.02,116.27 59,164 59,164 C59,164 51,346 51,346 C51,346 51,392 51,392 C51,392 139.06,433.06 191.31,457.42 \" fill=\"none\" id=\"E5-&gt;E2\" style=\"stroke: #383838; stroke-width: 1.0; stroke-dasharray: 7.0,7.0;\"/><polygon fill=\"#383838\" points=\"195.94,459.58,189.449,452.1728,191.4015,457.482,186.0922,459.4344,195.94,459.58\" style=\"stroke: #383838; stroke-width: 1.0;\"/><text fill=\"#000000\" font-family=\"sans-serif\" font-size=\"13\" lengthAdjust=\"spacingAndGlyphs\" textLength=\"62\" x=\"56\" y=\"297.5669\">«subject»</text></a><!--MD5=[9120cf2e5df3bff93db8f754bbbc09b4]\n",
       "link E5 to E6--><a href=\"psysml:285bfc51-142a-40f2-bdf1-cdd7141b9b55\" target=\"_top\" title=\"psysml:285bfc51-142a-40f2-bdf1-cdd7141b9b55\" xlink:actuate=\"onRequest\" xlink:href=\"psysml:285bfc51-142a-40f2-bdf1-cdd7141b9b55\" xlink:show=\"new\" xlink:title=\"psysml:285bfc51-142a-40f2-bdf1-cdd7141b9b55\" xlink:type=\"simple\"><path d=\"M315.01,87.15 C291.77,110.57 255.05,147.55 229.82,172.98 \" fill=\"none\" id=\"E5-&gt;E6\" style=\"stroke: #383838; stroke-width: 1.0;\"/><polygon fill=\"#383838\" points=\"223.98,178.86,231.7447,175.295,227.486,171.0685,223.98,178.86\" style=\"stroke: #383838; stroke-width: 1.0;\"/><text fill=\"#000000\" font-family=\"sans-serif\" font-size=\"13\" lengthAdjust=\"spacingAndGlyphs\" textLength=\"73\" x=\"282\" y=\"130.0669\">«objective»</text></a><!--MD5=[452b418e7f8a40397a49b8c0a78acc5b]\n",
       "reverse link E5 to E7--><a href=\"psysml:081fa6ee-8a6f-4292-82c4-f5eb64360f97\" target=\"_top\" title=\"psysml:081fa6ee-8a6f-4292-82c4-f5eb64360f97\" xlink:actuate=\"onRequest\" xlink:href=\"psysml:081fa6ee-8a6f-4292-82c4-f5eb64360f97\" xlink:show=\"new\" xlink:title=\"psysml:081fa6ee-8a6f-4292-82c4-f5eb64360f97\" xlink:type=\"simple\"><path d=\"M357.66,98.44 C369.92,118.3 385.5,143.52 398.13,163.97 \" fill=\"none\" id=\"E5&lt;-E7\" style=\"stroke: #383838; stroke-width: 1.0;\"/><polygon fill=\"#383838\" points=\"350.68,87.15,350.4252,94.3566,356.9795,97.3636,357.2342,90.157,350.68,87.15\" style=\"stroke: #383838; stroke-width: 1.0;\"/></a><!--MD5=[f1f3f9f2fc535e6147756cb86a7f2e32]\n",
       "link E8 to E2--><a href=\"psysml:143d7cb3-4d47-41f0-bb56-6d1ae515b029\" target=\"_top\" title=\"psysml:143d7cb3-4d47-41f0-bb56-6d1ae515b029\" xlink:actuate=\"onRequest\" xlink:href=\"psysml:143d7cb3-4d47-41f0-bb56-6d1ae515b029\" xlink:show=\"new\" xlink:title=\"psysml:143d7cb3-4d47-41f0-bb56-6d1ae515b029\" xlink:type=\"simple\"><path d=\"M151.54,392.01 C163.87,405.22 179.88,422.38 194.14,437.65 \" fill=\"none\" id=\"E8-&gt;E2\" style=\"stroke: #383838; stroke-width: 1.0;\"/><polygon fill=\"#FFFFFF\" points=\"208.15,452.66,190.0721,443.5393,200.3105,433.9907,208.15,452.66\" style=\"stroke: #383838; stroke-width: 1.0;\"/><ellipse cx=\"187.6471\" cy=\"438.0067\" fill=\"#383838\" rx=\"2\" ry=\"2\" style=\"stroke: #383838; stroke-width: 1.0;\"/><ellipse cx=\"194.9602\" cy=\"431.1863\" fill=\"#383838\" rx=\"2\" ry=\"2\" style=\"stroke: #383838; stroke-width: 1.0;\"/></a><!--MD5=[dc164f5e8a733ab456ef1add180e9e34]\n",
       "reverse link E7 to E8--><a href=\"psysml:dbdbccdb-5c16-4bd3-a501-4b1c7e9ddcab\" target=\"_top\" title=\"psysml:dbdbccdb-5c16-4bd3-a501-4b1c7e9ddcab\" xlink:actuate=\"onRequest\" xlink:href=\"psysml:dbdbccdb-5c16-4bd3-a501-4b1c7e9ddcab\" xlink:show=\"new\" xlink:title=\"psysml:dbdbccdb-5c16-4bd3-a501-4b1c7e9ddcab\" xlink:type=\"simple\"><path d=\"M350.9,237.13 C347.22,238.92 345,240 345,240 C345,240 272,270 272,270 C272,270 204.6,316.85 163,345.76 \" fill=\"none\" id=\"E7&lt;-E8\" style=\"stroke: #383838; stroke-width: 1.0;\"/><polygon fill=\"#FFFFFF\" points=\"362.63,231.42,355.4847,230.4482,351.8395,236.6702,358.9848,237.6419,362.63,231.42\" style=\"stroke: #383838; stroke-width: 1.0;\"/></a><!--MD5=[5c3bb36fe832a92c7f0e1807dd65209d]\n",
       "link E9 to E2--><a href=\"psysml:cb3e8ea7-f115-4f34-bcd9-dd1e6ba812b8\" target=\"_top\" title=\"psysml:cb3e8ea7-f115-4f34-bcd9-dd1e6ba812b8\" xlink:actuate=\"onRequest\" xlink:href=\"psysml:cb3e8ea7-f115-4f34-bcd9-dd1e6ba812b8\" xlink:show=\"new\" xlink:title=\"psysml:cb3e8ea7-f115-4f34-bcd9-dd1e6ba812b8\" xlink:type=\"simple\"><path d=\"M322.87,316.05 C287.44,330.23 248,346 248,346 C248,346 240.73,395.33 235.19,432.98 \" fill=\"none\" id=\"E9-&gt;E2\" style=\"stroke: #383838; stroke-width: 1.0;\"/><polygon fill=\"#FFFFFF\" points=\"232.27,452.82,228.1134,433.0028,241.964,435.0429,232.27,452.82\" style=\"stroke: #383838; stroke-width: 1.0;\"/><ellipse cx=\"230.9227\" cy=\"427.6551\" fill=\"#383838\" rx=\"2\" ry=\"2\" style=\"stroke: #383838; stroke-width: 1.0;\"/><ellipse cx=\"240.8159\" cy=\"429.1123\" fill=\"#383838\" rx=\"2\" ry=\"2\" style=\"stroke: #383838; stroke-width: 1.0;\"/></a><!--MD5=[9ae28de373ca99bb8a1b38d63370ca7e]\n",
       "reverse link E5 to E9--><a href=\"psysml:b6df212f-8018-4500-9608-46bc28de5179\" target=\"_top\" title=\"psysml:b6df212f-8018-4500-9608-46bc28de5179\" xlink:actuate=\"onRequest\" xlink:href=\"psysml:b6df212f-8018-4500-9608-46bc28de5179\" xlink:show=\"new\" xlink:title=\"psysml:b6df212f-8018-4500-9608-46bc28de5179\" xlink:type=\"simple\"><path d=\"M384.16,94.18 C431.35,123.38 497,164 497,164 C497,164 497,240 497,240 C497,240 460.9,255.77 428.47,269.95 \" fill=\"none\" id=\"E5&lt;-E9\" style=\"stroke: #383838; stroke-width: 1.0;\"/><polygon fill=\"#FFFFFF\" points=\"372.91,87.22,375.907,93.7788,383.114,93.5349,380.117,86.9761,372.91,87.22\" style=\"stroke: #383838; stroke-width: 1.0;\"/></a><!--MD5=[e2e9c9080fa73833b0ae3346277c81b8]\n",
       "@startuml\r\n",
       "skinparam linetype polyline\r\n",
       "skinparam monochrome true\r\n",
       "skinparam classbackgroundcolor white\r\n",
       "skinparam shadowing false\r\n",
       "skinparam wrapWidth 300\r\n",
       "hide circle\r\n",
       "\r\n",
       "package \"TradeStudyTest\" as E1  [[psysml:8952aa40-03a2-4df7-81e1-750bf2c7b589 ]]  {\r\n",
       "comp def \"Engine\" as E2  <<(T,blue)part def>> [[psysml:ba5002a0-783d-43b2-abfa-70b37f90804c ]] {\r\n",
       "}\r\n",
       "comp usage \"engine1: Engine\" as E3  <<(T,blue)part>> [[psysml:47ce73ab-2c54-4db4-9d19-7bcb338cdf44 ]] {\r\n",
       "}\r\n",
       "comp usage \"engine2: Engine\" as E4  <<(T,blue)part>> [[psysml:7dfdc806-8438-4ccb-bd71-8b6bdaa69ab8 ]] {\r\n",
       "}\r\n",
       "comp usage \"engineTradeStudy: TradeStudy\" as E5 <<analysis>> [[psysml:cd38e840-8317-467c-8230-e0f8852492a9 ]] {\r\n",
       "}\r\n",
       "comp usage \"tradeStudyObjective: MaximizeObjective\" as E6  <<(T,blue)requirement>> [[psysml:bf1db205-ea64-42b3-a829-2093a93eb81c ]] {\r\n",
       "}\r\n",
       "comp usage \"objectiveFunction\" as E7  <<(T,blue)calculation>> [[psysml:081fa6ee-8a6f-4292-82c4-f5eb64360f97 ]] {\r\n",
       "- - attributes - -\r\n",
       "result: Real\r\n",
       "}\r\n",
       "comp usage \"alternative: Engine\" as E8  <<(T,blue)part>> [[psysml:dbdbccdb-5c16-4bd3-a501-4b1c7e9ddcab ]] {\r\n",
       "}\r\n",
       "comp usage \"selectedAlternative: Engine\" as E9  <<(T,blue)part>> [[psysml:b6df212f-8018-4500-9608-46bc28de5179 ]] {\r\n",
       "}\r\n",
       "E3 - -:|> E2 [[psysml:6a611645-87b6-456f-b99f-fe1a3075932c ]] \r\n",
       "E4 - -:|> E2 [[psysml:c8f697e8-ebd5-44e8-8041-765052aa0dda ]] \r\n",
       "E5 ..> E2 [[psysml:2f46211a-dc33-450b-96f1-34c5430f413d ]] : <<subject>>\r\n",
       "E5 - ->> E6 [[psysml:285bfc51-142a-40f2-bdf1-cdd7141b9b55 ]] : <<objective>>\r\n",
       "E5 *- - E7 [[psysml:081fa6ee-8a6f-4292-82c4-f5eb64360f97 ]] \r\n",
       "E8 - -:|> E2 [[psysml:143d7cb3-4d47-41f0-bb56-6d1ae515b029 ]] \r\n",
       "E7 o- - E8 [[psysml:dbdbccdb-5c16-4bd3-a501-4b1c7e9ddcab ]] \r\n",
       "E9 - -:|> E2 [[psysml:cb3e8ea7-f115-4f34-bcd9-dd1e6ba812b8 ]] \r\n",
       "E5 o- - E9 [[psysml:b6df212f-8018-4500-9608-46bc28de5179 ]] \r\n",
       "}\r\n",
       "@enduml\r\n",
       "\n",
       "PlantUML version 1.2020.13(Sat Jun 13 12:26:38 UTC 2020)\n",
       "(EPL source distribution)\n",
       "Java Runtime: OpenJDK Runtime Environment\n",
       "JVM: OpenJDK 64-Bit Server VM\n",
       "Default Encoding: UTF-8\n",
       "Language: en\n",
       "Country: null\n",
       "--></g></svg>"
      ]
     },
     "execution_count": 9,
     "metadata": {},
     "output_type": "execute_result"
    }
   ],
   "source": [
    "%viz --style=\"POLYLINE\" --view=\"Default\" \"TradeStudyTest\""
   ]
  },
  {
   "cell_type": "code",
   "execution_count": 10,
   "id": "sealed-independence",
   "metadata": {
    "execution": {
     "iopub.execute_input": "2021-03-25T09:29:23.608434Z",
     "iopub.status.busy": "2021-03-25T09:29:23.607788Z",
     "iopub.status.idle": "2021-03-25T09:29:23.932094Z",
     "shell.execute_reply": "2021-03-25T09:29:23.931531Z"
    }
   },
   "outputs": [
    {
     "data": {
      "image/svg+xml": [
       "<?xml version=\"1.0\" encoding=\"UTF-8\" standalone=\"no\"?><svg xmlns=\"http://www.w3.org/2000/svg\" xmlns:xlink=\"http://www.w3.org/1999/xlink\" contentScriptType=\"application/ecmascript\" contentStyleType=\"text/css\" height=\"527px\" preserveAspectRatio=\"none\" style=\"width:554px;height:527px;\" version=\"1.1\" viewBox=\"0 0 554 527\" width=\"554px\" zoomAndPan=\"magnify\"><defs/><g><!--MD5=[fbc87193dbaf4d95561dea2c320d4a47]\n",
       "cluster E1--><a href=\"psysml:8952aa40-03a2-4df7-81e1-750bf2c7b589\" target=\"_top\" title=\"psysml:8952aa40-03a2-4df7-81e1-750bf2c7b589\" xlink:actuate=\"onRequest\" xlink:href=\"psysml:8952aa40-03a2-4df7-81e1-750bf2c7b589\" xlink:show=\"new\" xlink:title=\"psysml:8952aa40-03a2-4df7-81e1-750bf2c7b589\" xlink:type=\"simple\"><polygon fill=\"#FFFFFF\" points=\"16,6,148,6,155,28.2969,532,28.2969,532,515,16,515,16,6\" style=\"stroke: #000000; stroke-width: 1.5;\"/><line style=\"stroke: #000000; stroke-width: 1.5;\" x1=\"16\" x2=\"155\" y1=\"28.2969\" y2=\"28.2969\"/><text fill=\"#000000\" font-family=\"sans-serif\" font-size=\"14\" font-weight=\"bold\" lengthAdjust=\"spacingAndGlyphs\" textLength=\"126\" x=\"20\" y=\"20.9951\">TradeStudyTest</text></a><!--MD5=[b4997ac47864f28c2f74865a473b2911]\n",
       "class E2--><a href=\"psysml:ba5002a0-783d-43b2-abfa-70b37f90804c\" target=\"_top\" title=\"psysml:ba5002a0-783d-43b2-abfa-70b37f90804c\" xlink:actuate=\"onRequest\" xlink:href=\"psysml:ba5002a0-783d-43b2-abfa-70b37f90804c\" xlink:show=\"new\" xlink:title=\"psysml:ba5002a0-783d-43b2-abfa-70b37f90804c\" xlink:type=\"simple\"><rect fill=\"#FFFFFF\" height=\"45.9375\" id=\"E2\" style=\"stroke: #383838; stroke-width: 1.5;\" width=\"66\" x=\"196\" y=\"453\"/><text fill=\"#000000\" font-family=\"sans-serif\" font-size=\"12\" font-style=\"italic\" lengthAdjust=\"spacingAndGlyphs\" textLength=\"64\" x=\"197\" y=\"469.1387\">«part def»</text><text fill=\"#000000\" font-family=\"sans-serif\" font-size=\"12\" lengthAdjust=\"spacingAndGlyphs\" textLength=\"43\" x=\"207.5\" y=\"483.1074\">Engine</text><line style=\"stroke: #383838; stroke-width: 1.5;\" x1=\"197\" x2=\"261\" y1=\"490.9375\" y2=\"490.9375\"/></a><!--MD5=[09b614a08d8cba4a07c9adeb5e0fee81]\n",
       "class E3--><a href=\"psysml:47ce73ab-2c54-4db4-9d19-7bcb338cdf44\" target=\"_top\" title=\"psysml:47ce73ab-2c54-4db4-9d19-7bcb338cdf44\" xlink:actuate=\"onRequest\" xlink:href=\"psysml:47ce73ab-2c54-4db4-9d19-7bcb338cdf44\" xlink:show=\"new\" xlink:title=\"psysml:47ce73ab-2c54-4db4-9d19-7bcb338cdf44\" xlink:type=\"simple\"><rect fill=\"#FFFFFF\" height=\"45.9375\" id=\"E3\" rx=\"10\" ry=\"10\" style=\"stroke: #383838; stroke-width: 1.5;\" width=\"108\" x=\"408\" y=\"346\"/><text fill=\"#000000\" font-family=\"sans-serif\" font-size=\"12\" font-style=\"italic\" lengthAdjust=\"spacingAndGlyphs\" textLength=\"40\" x=\"442\" y=\"362.1387\">«part»</text><text fill=\"#000000\" font-family=\"sans-serif\" font-size=\"12\" lengthAdjust=\"spacingAndGlyphs\" textLength=\"102\" x=\"411\" y=\"376.1074\">engine1: Engine</text><line style=\"stroke: #383838; stroke-width: 1.5;\" x1=\"409\" x2=\"515\" y1=\"383.9375\" y2=\"383.9375\"/></a><!--MD5=[ebbe1d658d1005bcc118a6aa81145e00]\n",
       "class E4--><a href=\"psysml:7dfdc806-8438-4ccb-bd71-8b6bdaa69ab8\" target=\"_top\" title=\"psysml:7dfdc806-8438-4ccb-bd71-8b6bdaa69ab8\" xlink:actuate=\"onRequest\" xlink:href=\"psysml:7dfdc806-8438-4ccb-bd71-8b6bdaa69ab8\" xlink:show=\"new\" xlink:title=\"psysml:7dfdc806-8438-4ccb-bd71-8b6bdaa69ab8\" xlink:type=\"simple\"><rect fill=\"#FFFFFF\" height=\"45.9375\" id=\"E4\" rx=\"10\" ry=\"10\" style=\"stroke: #383838; stroke-width: 1.5;\" width=\"108\" x=\"265\" y=\"346\"/><text fill=\"#000000\" font-family=\"sans-serif\" font-size=\"12\" font-style=\"italic\" lengthAdjust=\"spacingAndGlyphs\" textLength=\"40\" x=\"299\" y=\"362.1387\">«part»</text><text fill=\"#000000\" font-family=\"sans-serif\" font-size=\"12\" lengthAdjust=\"spacingAndGlyphs\" textLength=\"102\" x=\"268\" y=\"376.1074\">engine2: Engine</text><line style=\"stroke: #383838; stroke-width: 1.5;\" x1=\"266\" x2=\"372\" y1=\"383.9375\" y2=\"383.9375\"/></a><!--MD5=[270fce915f116d4de14055a7c1d9a0f3]\n",
       "class E5--><a href=\"psysml:cd38e840-8317-467c-8230-e0f8852492a9\" target=\"_top\" title=\"psysml:cd38e840-8317-467c-8230-e0f8852492a9\" xlink:actuate=\"onRequest\" xlink:href=\"psysml:cd38e840-8317-467c-8230-e0f8852492a9\" xlink:show=\"new\" xlink:title=\"psysml:cd38e840-8317-467c-8230-e0f8852492a9\" xlink:type=\"simple\"><rect fill=\"#FFFFFF\" height=\"45.9375\" id=\"E5\" rx=\"10\" ry=\"10\" style=\"stroke: #383838; stroke-width: 1.5;\" width=\"199\" x=\"237.5\" y=\"41\"/><text fill=\"#000000\" font-family=\"sans-serif\" font-size=\"12\" font-style=\"italic\" lengthAdjust=\"spacingAndGlyphs\" textLength=\"64\" x=\"305\" y=\"57.1387\">«analysis»</text><text fill=\"#000000\" font-family=\"sans-serif\" font-size=\"12\" lengthAdjust=\"spacingAndGlyphs\" textLength=\"193\" x=\"240.5\" y=\"71.1074\">engineTradeStudy: TradeStudy</text><line style=\"stroke: #383838; stroke-width: 1.5;\" x1=\"238.5\" x2=\"435.5\" y1=\"78.9375\" y2=\"78.9375\"/></a><!--MD5=[60a26617385b1d2d0262a64233df1f8d]\n",
       "class E6--><a href=\"psysml:bf1db205-ea64-42b3-a829-2093a93eb81c\" target=\"_top\" title=\"psysml:bf1db205-ea64-42b3-a829-2093a93eb81c\" xlink:actuate=\"onRequest\" xlink:href=\"psysml:bf1db205-ea64-42b3-a829-2093a93eb81c\" xlink:show=\"new\" xlink:title=\"psysml:bf1db205-ea64-42b3-a829-2093a93eb81c\" xlink:type=\"simple\"><rect fill=\"#FFFFFF\" height=\"45.9375\" id=\"E6\" rx=\"10\" ry=\"10\" style=\"stroke: #383838; stroke-width: 1.5;\" width=\"251\" x=\"76.5\" y=\"179\"/><text fill=\"#000000\" font-family=\"sans-serif\" font-size=\"12\" font-style=\"italic\" lengthAdjust=\"spacingAndGlyphs\" textLength=\"91\" x=\"156.5\" y=\"195.1387\">«requirement»</text><text fill=\"#000000\" font-family=\"sans-serif\" font-size=\"12\" lengthAdjust=\"spacingAndGlyphs\" textLength=\"245\" x=\"79.5\" y=\"209.1074\">tradeStudyObjective: MaximizeObjective</text><line style=\"stroke: #383838; stroke-width: 1.5;\" x1=\"77.5\" x2=\"326.5\" y1=\"216.9375\" y2=\"216.9375\"/></a><!--MD5=[2156ba9850f5573cc1fc38a6a4b2f02b]\n",
       "class E7--><a href=\"psysml:081fa6ee-8a6f-4292-82c4-f5eb64360f97\" target=\"_top\" title=\"psysml:081fa6ee-8a6f-4292-82c4-f5eb64360f97\" xlink:actuate=\"onRequest\" xlink:href=\"psysml:081fa6ee-8a6f-4292-82c4-f5eb64360f97\" xlink:show=\"new\" xlink:title=\"psysml:081fa6ee-8a6f-4292-82c4-f5eb64360f97\" xlink:type=\"simple\"><rect fill=\"#FFFFFF\" height=\"75.5469\" id=\"E7\" rx=\"10\" ry=\"10\" style=\"stroke: #383838; stroke-width: 1.5;\" width=\"116\" x=\"363\" y=\"164\"/><text fill=\"#000000\" font-family=\"sans-serif\" font-size=\"12\" font-style=\"italic\" lengthAdjust=\"spacingAndGlyphs\" textLength=\"82\" x=\"380\" y=\"180.1387\">«calculation»</text><text fill=\"#000000\" font-family=\"sans-serif\" font-size=\"12\" lengthAdjust=\"spacingAndGlyphs\" textLength=\"110\" x=\"366\" y=\"194.1074\">objectiveFunction</text><line style=\"stroke: #383838; stroke-width: 1.5;\" x1=\"364\" x2=\"478\" y1=\"201.9375\" y2=\"201.9375\"/><text fill=\"#000000\" font-family=\"sans-serif\" font-size=\"11\" lengthAdjust=\"spacingAndGlyphs\" textLength=\"65\" x=\"369\" y=\"232.9526\">result: Real</text><line style=\"stroke: #383838; stroke-width: 1.0;\" x1=\"364\" x2=\"393.5\" y1=\"216.3398\" y2=\"216.3398\"/><text fill=\"#000000\" font-family=\"sans-serif\" font-size=\"11\" lengthAdjust=\"spacingAndGlyphs\" textLength=\"55\" x=\"393.5\" y=\"219.6479\">attributes</text><line style=\"stroke: #383838; stroke-width: 1.0;\" x1=\"448.5\" x2=\"478\" y1=\"216.3398\" y2=\"216.3398\"/></a><!--MD5=[b9389687b975829384b498ac4b7476b2]\n",
       "class E8--><a href=\"psysml:dbdbccdb-5c16-4bd3-a501-4b1c7e9ddcab\" target=\"_top\" title=\"psysml:dbdbccdb-5c16-4bd3-a501-4b1c7e9ddcab\" xlink:actuate=\"onRequest\" xlink:href=\"psysml:dbdbccdb-5c16-4bd3-a501-4b1c7e9ddcab\" xlink:show=\"new\" xlink:title=\"psysml:dbdbccdb-5c16-4bd3-a501-4b1c7e9ddcab\" xlink:type=\"simple\"><rect fill=\"#FFFFFF\" height=\"45.9375\" id=\"E8\" rx=\"10\" ry=\"10\" style=\"stroke: #383838; stroke-width: 1.5;\" width=\"124\" x=\"69\" y=\"346\"/><text fill=\"#000000\" font-family=\"sans-serif\" font-size=\"12\" font-style=\"italic\" lengthAdjust=\"spacingAndGlyphs\" textLength=\"40\" x=\"111\" y=\"362.1387\">«part»</text><text fill=\"#000000\" font-family=\"sans-serif\" font-size=\"12\" lengthAdjust=\"spacingAndGlyphs\" textLength=\"118\" x=\"72\" y=\"376.1074\">alternative: Engine</text><line style=\"stroke: #383838; stroke-width: 1.5;\" x1=\"70\" x2=\"192\" y1=\"383.9375\" y2=\"383.9375\"/></a><!--MD5=[fd4143e9d270a159db93a4ea2a975926]\n",
       "class E9--><a href=\"psysml:b6df212f-8018-4500-9608-46bc28de5179\" target=\"_top\" title=\"psysml:b6df212f-8018-4500-9608-46bc28de5179\" xlink:actuate=\"onRequest\" xlink:href=\"psysml:b6df212f-8018-4500-9608-46bc28de5179\" xlink:show=\"new\" xlink:title=\"psysml:b6df212f-8018-4500-9608-46bc28de5179\" xlink:type=\"simple\"><rect fill=\"#FFFFFF\" height=\"45.9375\" id=\"E9\" rx=\"10\" ry=\"10\" style=\"stroke: #383838; stroke-width: 1.5;\" width=\"178\" x=\"289\" y=\"270\"/><text fill=\"#000000\" font-family=\"sans-serif\" font-size=\"12\" font-style=\"italic\" lengthAdjust=\"spacingAndGlyphs\" textLength=\"40\" x=\"358\" y=\"286.1387\">«part»</text><text fill=\"#000000\" font-family=\"sans-serif\" font-size=\"12\" lengthAdjust=\"spacingAndGlyphs\" textLength=\"172\" x=\"292\" y=\"300.1074\">selectedAlternative: Engine</text><line style=\"stroke: #383838; stroke-width: 1.5;\" x1=\"290\" x2=\"466\" y1=\"307.9375\" y2=\"307.9375\"/></a><!--MD5=[05d275557350bfb9b23a4ef7222b4c39]\n",
       "link E3 to E2--><a href=\"psysml:6a611645-87b6-456f-b99f-fe1a3075932c\" target=\"_top\" title=\"psysml:6a611645-87b6-456f-b99f-fe1a3075932c\" xlink:actuate=\"onRequest\" xlink:href=\"psysml:6a611645-87b6-456f-b99f-fe1a3075932c\" xlink:show=\"new\" xlink:title=\"psysml:6a611645-87b6-456f-b99f-fe1a3075932c\" xlink:type=\"simple\"><path d=\"M413.16,392.01 C374.25,409.54 319.95,434.01 280.39,451.84 \" fill=\"none\" id=\"E3-&gt;E2\" style=\"stroke: #383838; stroke-width: 1.0;\"/><polygon fill=\"#FFFFFF\" points=\"262.02,460.12,276.4666,445.9321,282.2183,458.696,262.02,460.12\" style=\"stroke: #383838; stroke-width: 1.0;\"/><ellipse cx=\"282.485\" cy=\"445.4137\" fill=\"#383838\" rx=\"2\" ry=\"2\" style=\"stroke: #383838; stroke-width: 1.0;\"/><ellipse cx=\"286.5934\" cy=\"454.5308\" fill=\"#383838\" rx=\"2\" ry=\"2\" style=\"stroke: #383838; stroke-width: 1.0;\"/></a><!--MD5=[185131fc0dcab0a4505a2ebe144e961b]\n",
       "link E4 to E2--><a href=\"psysml:c8f697e8-ebd5-44e8-8041-765052aa0dda\" target=\"_top\" title=\"psysml:c8f697e8-ebd5-44e8-8041-765052aa0dda\" xlink:actuate=\"onRequest\" xlink:href=\"psysml:c8f697e8-ebd5-44e8-8041-765052aa0dda\" xlink:show=\"new\" xlink:title=\"psysml:c8f697e8-ebd5-44e8-8041-765052aa0dda\" xlink:type=\"simple\"><path d=\"M300.13,392.01 C288.93,405.08 274.42,422.01 261.42,437.17 \" fill=\"none\" id=\"E4-&gt;E2\" style=\"stroke: #383838; stroke-width: 1.0;\"/><polygon fill=\"#FFFFFF\" points=\"248.15,452.66,255.1988,433.678,265.8291,442.7883,248.15,452.66\" style=\"stroke: #383838; stroke-width: 1.0;\"/><ellipse cx=\"260.4266\" cy=\"430.6515\" fill=\"#383838\" rx=\"2\" ry=\"2\" style=\"stroke: #383838; stroke-width: 1.0;\"/><ellipse cx=\"268.0196\" cy=\"437.1588\" fill=\"#383838\" rx=\"2\" ry=\"2\" style=\"stroke: #383838; stroke-width: 1.0;\"/></a><!--MD5=[15ebcb19ae302d9b601edb458606d402]\n",
       "link E5 to E2--><a href=\"psysml:2f46211a-dc33-450b-96f1-34c5430f413d\" target=\"_top\" title=\"psysml:2f46211a-dc33-450b-96f1-34c5430f413d\" xlink:actuate=\"onRequest\" xlink:href=\"psysml:2f46211a-dc33-450b-96f1-34c5430f413d\" xlink:show=\"new\" xlink:title=\"psysml:2f46211a-dc33-450b-96f1-34c5430f413d\" xlink:type=\"simple\"><path d=\"M274.96,87.09 C193.02,116.27 59,164 59,164 C59,164 51,346 51,346 C51,346 51,392 51,392 C51,392 139.06,433.06 191.31,457.42 \" fill=\"none\" id=\"E5-&gt;E2\" style=\"stroke: #383838; stroke-width: 1.0; stroke-dasharray: 7.0,7.0;\"/><polygon fill=\"#383838\" points=\"195.94,459.58,189.449,452.1728,191.4015,457.482,186.0922,459.4344,195.94,459.58\" style=\"stroke: #383838; stroke-width: 1.0;\"/><text fill=\"#000000\" font-family=\"sans-serif\" font-size=\"13\" lengthAdjust=\"spacingAndGlyphs\" textLength=\"62\" x=\"56\" y=\"297.5669\">«subject»</text></a><!--MD5=[9120cf2e5df3bff93db8f754bbbc09b4]\n",
       "link E5 to E6--><a href=\"psysml:285bfc51-142a-40f2-bdf1-cdd7141b9b55\" target=\"_top\" title=\"psysml:285bfc51-142a-40f2-bdf1-cdd7141b9b55\" xlink:actuate=\"onRequest\" xlink:href=\"psysml:285bfc51-142a-40f2-bdf1-cdd7141b9b55\" xlink:show=\"new\" xlink:title=\"psysml:285bfc51-142a-40f2-bdf1-cdd7141b9b55\" xlink:type=\"simple\"><path d=\"M315.01,87.15 C291.77,110.57 255.05,147.55 229.82,172.98 \" fill=\"none\" id=\"E5-&gt;E6\" style=\"stroke: #383838; stroke-width: 1.0;\"/><polygon fill=\"#383838\" points=\"223.98,178.86,231.7447,175.295,227.486,171.0685,223.98,178.86\" style=\"stroke: #383838; stroke-width: 1.0;\"/><text fill=\"#000000\" font-family=\"sans-serif\" font-size=\"13\" lengthAdjust=\"spacingAndGlyphs\" textLength=\"73\" x=\"282\" y=\"130.0669\">«objective»</text></a><!--MD5=[452b418e7f8a40397a49b8c0a78acc5b]\n",
       "reverse link E5 to E7--><a href=\"psysml:081fa6ee-8a6f-4292-82c4-f5eb64360f97\" target=\"_top\" title=\"psysml:081fa6ee-8a6f-4292-82c4-f5eb64360f97\" xlink:actuate=\"onRequest\" xlink:href=\"psysml:081fa6ee-8a6f-4292-82c4-f5eb64360f97\" xlink:show=\"new\" xlink:title=\"psysml:081fa6ee-8a6f-4292-82c4-f5eb64360f97\" xlink:type=\"simple\"><path d=\"M357.66,98.44 C369.92,118.3 385.5,143.52 398.13,163.97 \" fill=\"none\" id=\"E5&lt;-E7\" style=\"stroke: #383838; stroke-width: 1.0;\"/><polygon fill=\"#383838\" points=\"350.68,87.15,350.4252,94.3566,356.9795,97.3636,357.2342,90.157,350.68,87.15\" style=\"stroke: #383838; stroke-width: 1.0;\"/></a><!--MD5=[f1f3f9f2fc535e6147756cb86a7f2e32]\n",
       "link E8 to E2--><a href=\"psysml:143d7cb3-4d47-41f0-bb56-6d1ae515b029\" target=\"_top\" title=\"psysml:143d7cb3-4d47-41f0-bb56-6d1ae515b029\" xlink:actuate=\"onRequest\" xlink:href=\"psysml:143d7cb3-4d47-41f0-bb56-6d1ae515b029\" xlink:show=\"new\" xlink:title=\"psysml:143d7cb3-4d47-41f0-bb56-6d1ae515b029\" xlink:type=\"simple\"><path d=\"M151.54,392.01 C163.87,405.22 179.88,422.38 194.14,437.65 \" fill=\"none\" id=\"E8-&gt;E2\" style=\"stroke: #383838; stroke-width: 1.0;\"/><polygon fill=\"#FFFFFF\" points=\"208.15,452.66,190.0721,443.5393,200.3105,433.9907,208.15,452.66\" style=\"stroke: #383838; stroke-width: 1.0;\"/><ellipse cx=\"187.6471\" cy=\"438.0067\" fill=\"#383838\" rx=\"2\" ry=\"2\" style=\"stroke: #383838; stroke-width: 1.0;\"/><ellipse cx=\"194.9602\" cy=\"431.1863\" fill=\"#383838\" rx=\"2\" ry=\"2\" style=\"stroke: #383838; stroke-width: 1.0;\"/></a><!--MD5=[dc164f5e8a733ab456ef1add180e9e34]\n",
       "reverse link E7 to E8--><a href=\"psysml:dbdbccdb-5c16-4bd3-a501-4b1c7e9ddcab\" target=\"_top\" title=\"psysml:dbdbccdb-5c16-4bd3-a501-4b1c7e9ddcab\" xlink:actuate=\"onRequest\" xlink:href=\"psysml:dbdbccdb-5c16-4bd3-a501-4b1c7e9ddcab\" xlink:show=\"new\" xlink:title=\"psysml:dbdbccdb-5c16-4bd3-a501-4b1c7e9ddcab\" xlink:type=\"simple\"><path d=\"M350.9,237.13 C347.22,238.92 345,240 345,240 C345,240 272,270 272,270 C272,270 204.6,316.85 163,345.76 \" fill=\"none\" id=\"E7&lt;-E8\" style=\"stroke: #383838; stroke-width: 1.0;\"/><polygon fill=\"#FFFFFF\" points=\"362.63,231.42,355.4847,230.4482,351.8395,236.6702,358.9848,237.6419,362.63,231.42\" style=\"stroke: #383838; stroke-width: 1.0;\"/></a><!--MD5=[5c3bb36fe832a92c7f0e1807dd65209d]\n",
       "link E9 to E2--><a href=\"psysml:cb3e8ea7-f115-4f34-bcd9-dd1e6ba812b8\" target=\"_top\" title=\"psysml:cb3e8ea7-f115-4f34-bcd9-dd1e6ba812b8\" xlink:actuate=\"onRequest\" xlink:href=\"psysml:cb3e8ea7-f115-4f34-bcd9-dd1e6ba812b8\" xlink:show=\"new\" xlink:title=\"psysml:cb3e8ea7-f115-4f34-bcd9-dd1e6ba812b8\" xlink:type=\"simple\"><path d=\"M322.87,316.05 C287.44,330.23 248,346 248,346 C248,346 240.73,395.33 235.19,432.98 \" fill=\"none\" id=\"E9-&gt;E2\" style=\"stroke: #383838; stroke-width: 1.0;\"/><polygon fill=\"#FFFFFF\" points=\"232.27,452.82,228.1134,433.0028,241.964,435.0429,232.27,452.82\" style=\"stroke: #383838; stroke-width: 1.0;\"/><ellipse cx=\"230.9227\" cy=\"427.6551\" fill=\"#383838\" rx=\"2\" ry=\"2\" style=\"stroke: #383838; stroke-width: 1.0;\"/><ellipse cx=\"240.8159\" cy=\"429.1123\" fill=\"#383838\" rx=\"2\" ry=\"2\" style=\"stroke: #383838; stroke-width: 1.0;\"/></a><!--MD5=[9ae28de373ca99bb8a1b38d63370ca7e]\n",
       "reverse link E5 to E9--><a href=\"psysml:b6df212f-8018-4500-9608-46bc28de5179\" target=\"_top\" title=\"psysml:b6df212f-8018-4500-9608-46bc28de5179\" xlink:actuate=\"onRequest\" xlink:href=\"psysml:b6df212f-8018-4500-9608-46bc28de5179\" xlink:show=\"new\" xlink:title=\"psysml:b6df212f-8018-4500-9608-46bc28de5179\" xlink:type=\"simple\"><path d=\"M384.16,94.18 C431.35,123.38 497,164 497,164 C497,164 497,240 497,240 C497,240 460.9,255.77 428.47,269.95 \" fill=\"none\" id=\"E5&lt;-E9\" style=\"stroke: #383838; stroke-width: 1.0;\"/><polygon fill=\"#FFFFFF\" points=\"372.91,87.22,375.907,93.7788,383.114,93.5349,380.117,86.9761,372.91,87.22\" style=\"stroke: #383838; stroke-width: 1.0;\"/></a><!--MD5=[e2e9c9080fa73833b0ae3346277c81b8]\n",
       "@startuml\r\n",
       "skinparam linetype polyline\r\n",
       "skinparam monochrome true\r\n",
       "skinparam classbackgroundcolor white\r\n",
       "skinparam shadowing false\r\n",
       "skinparam wrapWidth 300\r\n",
       "hide circle\r\n",
       "\r\n",
       "package \"TradeStudyTest\" as E1  [[psysml:8952aa40-03a2-4df7-81e1-750bf2c7b589 ]]  {\r\n",
       "comp def \"Engine\" as E2  <<(T,blue)part def>> [[psysml:ba5002a0-783d-43b2-abfa-70b37f90804c ]] {\r\n",
       "}\r\n",
       "comp usage \"engine1: Engine\" as E3  <<(T,blue)part>> [[psysml:47ce73ab-2c54-4db4-9d19-7bcb338cdf44 ]] {\r\n",
       "}\r\n",
       "comp usage \"engine2: Engine\" as E4  <<(T,blue)part>> [[psysml:7dfdc806-8438-4ccb-bd71-8b6bdaa69ab8 ]] {\r\n",
       "}\r\n",
       "comp usage \"engineTradeStudy: TradeStudy\" as E5 <<analysis>> [[psysml:cd38e840-8317-467c-8230-e0f8852492a9 ]] {\r\n",
       "}\r\n",
       "comp usage \"tradeStudyObjective: MaximizeObjective\" as E6  <<(T,blue)requirement>> [[psysml:bf1db205-ea64-42b3-a829-2093a93eb81c ]] {\r\n",
       "}\r\n",
       "comp usage \"objectiveFunction\" as E7  <<(T,blue)calculation>> [[psysml:081fa6ee-8a6f-4292-82c4-f5eb64360f97 ]] {\r\n",
       "- - attributes - -\r\n",
       "result: Real\r\n",
       "}\r\n",
       "comp usage \"alternative: Engine\" as E8  <<(T,blue)part>> [[psysml:dbdbccdb-5c16-4bd3-a501-4b1c7e9ddcab ]] {\r\n",
       "}\r\n",
       "comp usage \"selectedAlternative: Engine\" as E9  <<(T,blue)part>> [[psysml:b6df212f-8018-4500-9608-46bc28de5179 ]] {\r\n",
       "}\r\n",
       "E3 - -:|> E2 [[psysml:6a611645-87b6-456f-b99f-fe1a3075932c ]] \r\n",
       "E4 - -:|> E2 [[psysml:c8f697e8-ebd5-44e8-8041-765052aa0dda ]] \r\n",
       "E5 ..> E2 [[psysml:2f46211a-dc33-450b-96f1-34c5430f413d ]] : <<subject>>\r\n",
       "E5 - ->> E6 [[psysml:285bfc51-142a-40f2-bdf1-cdd7141b9b55 ]] : <<objective>>\r\n",
       "E5 *- - E7 [[psysml:081fa6ee-8a6f-4292-82c4-f5eb64360f97 ]] \r\n",
       "E8 - -:|> E2 [[psysml:143d7cb3-4d47-41f0-bb56-6d1ae515b029 ]] \r\n",
       "E7 o- - E8 [[psysml:dbdbccdb-5c16-4bd3-a501-4b1c7e9ddcab ]] \r\n",
       "E9 - -:|> E2 [[psysml:cb3e8ea7-f115-4f34-bcd9-dd1e6ba812b8 ]] \r\n",
       "E5 o- - E9 [[psysml:b6df212f-8018-4500-9608-46bc28de5179 ]] \r\n",
       "}\r\n",
       "@enduml\r\n",
       "\n",
       "PlantUML version 1.2020.13(Sat Jun 13 12:26:38 UTC 2020)\n",
       "(EPL source distribution)\n",
       "Java Runtime: OpenJDK Runtime Environment\n",
       "JVM: OpenJDK 64-Bit Server VM\n",
       "Default Encoding: UTF-8\n",
       "Language: en\n",
       "Country: null\n",
       "--></g></svg>"
      ]
     },
     "execution_count": 10,
     "metadata": {},
     "output_type": "execute_result"
    }
   ],
   "source": [
    "%viz --style=\"POLYLINE\" --view=\"Tree\" \"TradeStudyTest\""
   ]
  },
  {
   "cell_type": "code",
   "execution_count": 11,
   "id": "sublime-value",
   "metadata": {
    "execution": {
     "iopub.execute_input": "2021-03-25T09:29:23.982704Z",
     "iopub.status.busy": "2021-03-25T09:29:23.982147Z",
     "iopub.status.idle": "2021-03-25T09:29:23.990473Z",
     "shell.execute_reply": "2021-03-25T09:29:23.990851Z"
    }
   },
   "outputs": [
    {
     "data": {
      "image/svg+xml": [
       "<?xml version=\"1.0\" encoding=\"UTF-8\" standalone=\"no\"?><svg xmlns=\"http://www.w3.org/2000/svg\" xmlns:xlink=\"http://www.w3.org/1999/xlink\" contentScriptType=\"application/ecmascript\" contentStyleType=\"text/css\" height=\"12px\" preserveAspectRatio=\"none\" style=\"width:12px;height:12px;\" version=\"1.1\" viewBox=\"0 0 12 12\" width=\"12px\" zoomAndPan=\"magnify\"><defs/><g><!--MD5=[896ac0e7a515d8dd7765a661cb4ee08b]\n",
       "@startuml\r\n",
       "skinparam linetype polyline\r\n",
       "skinparam monochrome true\r\n",
       "skinparam classbackgroundcolor white\r\n",
       "skinparam shadowing false\r\n",
       "skinparam wrapWidth 300\r\n",
       "hide circle\r\n",
       "\r\n",
       "@enduml\r\n",
       "\n",
       "PlantUML version 1.2020.13(Sat Jun 13 12:26:38 UTC 2020)\n",
       "(EPL source distribution)\n",
       "Java Runtime: OpenJDK Runtime Environment\n",
       "JVM: OpenJDK 64-Bit Server VM\n",
       "Default Encoding: UTF-8\n",
       "Language: en\n",
       "Country: null\n",
       "--></g></svg>"
      ]
     },
     "execution_count": 11,
     "metadata": {},
     "output_type": "execute_result"
    }
   ],
   "source": [
    "%viz --style=\"POLYLINE\" --view=\"State\" \"TradeStudyTest\""
   ]
  },
  {
   "cell_type": "code",
   "execution_count": 12,
   "id": "republican-dairy",
   "metadata": {
    "execution": {
     "iopub.execute_input": "2021-03-25T09:29:24.043291Z",
     "iopub.status.busy": "2021-03-25T09:29:24.042614Z",
     "iopub.status.idle": "2021-03-25T09:29:24.103805Z",
     "shell.execute_reply": "2021-03-25T09:29:24.103322Z"
    }
   },
   "outputs": [
    {
     "data": {
      "image/svg+xml": [
       "<?xml version=\"1.0\" encoding=\"UTF-8\" standalone=\"no\"?><svg xmlns=\"http://www.w3.org/2000/svg\" xmlns:xlink=\"http://www.w3.org/1999/xlink\" contentScriptType=\"application/ecmascript\" contentStyleType=\"text/css\" height=\"112px\" preserveAspectRatio=\"none\" style=\"width:438px;height:112px;\" version=\"1.1\" viewBox=\"0 0 438 112\" width=\"438px\" zoomAndPan=\"magnify\"><defs/><g><!--MD5=[fbc87193dbaf4d95561dea2c320d4a47]\n",
       "cluster E1--><a href=\"psysml:8952aa40-03a2-4df7-81e1-750bf2c7b589\" target=\"_top\" title=\"psysml:8952aa40-03a2-4df7-81e1-750bf2c7b589\" xlink:actuate=\"onRequest\" xlink:href=\"psysml:8952aa40-03a2-4df7-81e1-750bf2c7b589\" xlink:show=\"new\" xlink:title=\"psysml:8952aa40-03a2-4df7-81e1-750bf2c7b589\" xlink:type=\"simple\"><polygon fill=\"#FFFFFF\" points=\"16,6,148,6,155,28.2969,416,28.2969,416,100,16,100,16,6\" style=\"stroke: #000000; stroke-width: 1.5;\"/><line style=\"stroke: #000000; stroke-width: 1.5;\" x1=\"16\" x2=\"155\" y1=\"28.2969\" y2=\"28.2969\"/><text fill=\"#000000\" font-family=\"sans-serif\" font-size=\"14\" font-weight=\"bold\" lengthAdjust=\"spacingAndGlyphs\" textLength=\"126\" x=\"20\" y=\"20.9951\">TradeStudyTest</text></a><g id=\"E1.E2\"><a href=\"psysml:ba5002a0-783d-43b2-abfa-70b37f90804c\" target=\"_top\" title=\"psysml:ba5002a0-783d-43b2-abfa-70b37f90804c\" xlink:actuate=\"onRequest\" xlink:href=\"psysml:ba5002a0-783d-43b2-abfa-70b37f90804c\" xlink:show=\"new\" xlink:title=\"psysml:ba5002a0-783d-43b2-abfa-70b37f90804c\" xlink:type=\"simple\"><rect fill=\"#FFFFFF\" height=\"42.9375\" id=\"E2\" style=\"stroke: #383838; stroke-width: 1.5;\" width=\"71\" x=\"328.5\" y=\"41\"/><rect fill=\"#F8F8F8\" height=\"37.9375\" style=\"stroke: #383838; stroke-width: 1.5;\" width=\"71\" x=\"328.5\" y=\"41\"/><text fill=\"#000000\" font-family=\"sans-serif\" font-size=\"12\" font-style=\"italic\" lengthAdjust=\"spacingAndGlyphs\" textLength=\"64\" x=\"332\" y=\"57.1387\">«part def»</text><text fill=\"#000000\" font-family=\"sans-serif\" font-size=\"12\" lengthAdjust=\"spacingAndGlyphs\" textLength=\"43\" x=\"342.5\" y=\"71.1074\">Engine</text></a></g><g id=\"E1.E3\"><a href=\"psysml:47ce73ab-2c54-4db4-9d19-7bcb338cdf44\" target=\"_top\" title=\"psysml:47ce73ab-2c54-4db4-9d19-7bcb338cdf44\" xlink:actuate=\"onRequest\" xlink:href=\"psysml:47ce73ab-2c54-4db4-9d19-7bcb338cdf44\" xlink:show=\"new\" xlink:title=\"psysml:47ce73ab-2c54-4db4-9d19-7bcb338cdf44\" xlink:type=\"simple\"><rect fill=\"#FFFFFF\" height=\"40\" id=\"E3\" rx=\"10\" ry=\"10\" style=\"stroke: #383838; stroke-width: 1.5;\" width=\"113\" x=\"180.5\" y=\"42.5\"/><rect fill=\"#F8F8F8\" height=\"23.9688\" rx=\"10\" ry=\"10\" style=\"stroke: #F8F8F8; stroke-width: 1.5;\" width=\"113\" x=\"180.5\" y=\"42.5\"/><rect fill=\"#F8F8F8\" height=\"10\" style=\"stroke: #F8F8F8; stroke-width: 1.5;\" width=\"113\" x=\"180.5\" y=\"56.4688\"/><rect fill=\"none\" height=\"40\" id=\"E3\" rx=\"10\" ry=\"10\" style=\"stroke: #383838; stroke-width: 1.5;\" width=\"113\" x=\"180.5\" y=\"42.5\"/><text fill=\"#000000\" font-family=\"sans-serif\" font-size=\"12\" lengthAdjust=\"spacingAndGlyphs\" textLength=\"102\" x=\"186\" y=\"58.6387\">engine1: Engine</text></a></g><g id=\"E1.E4\"><a href=\"psysml:7dfdc806-8438-4ccb-bd71-8b6bdaa69ab8\" target=\"_top\" title=\"psysml:7dfdc806-8438-4ccb-bd71-8b6bdaa69ab8\" xlink:actuate=\"onRequest\" xlink:href=\"psysml:7dfdc806-8438-4ccb-bd71-8b6bdaa69ab8\" xlink:show=\"new\" xlink:title=\"psysml:7dfdc806-8438-4ccb-bd71-8b6bdaa69ab8\" xlink:type=\"simple\"><rect fill=\"#FFFFFF\" height=\"40\" id=\"E4\" rx=\"10\" ry=\"10\" style=\"stroke: #383838; stroke-width: 1.5;\" width=\"113\" x=\"32.5\" y=\"42.5\"/><rect fill=\"#F8F8F8\" height=\"23.9688\" rx=\"10\" ry=\"10\" style=\"stroke: #F8F8F8; stroke-width: 1.5;\" width=\"113\" x=\"32.5\" y=\"42.5\"/><rect fill=\"#F8F8F8\" height=\"10\" style=\"stroke: #F8F8F8; stroke-width: 1.5;\" width=\"113\" x=\"32.5\" y=\"56.4688\"/><rect fill=\"none\" height=\"40\" id=\"E4\" rx=\"10\" ry=\"10\" style=\"stroke: #383838; stroke-width: 1.5;\" width=\"113\" x=\"32.5\" y=\"42.5\"/><text fill=\"#000000\" font-family=\"sans-serif\" font-size=\"12\" lengthAdjust=\"spacingAndGlyphs\" textLength=\"102\" x=\"38\" y=\"58.6387\">engine2: Engine</text></a></g><!--MD5=[fa08c39a7ab2cc89699fef7f3ed87da9]\n",
       "@startuml\r\n",
       "skinparam ranksep 8\r\n",
       "skinparam rectangle {\r\n",
       " backgroundColor<<block>> LightGreen\r\n",
       "}\r\n",
       "skinparam linetype polyline\r\n",
       "skinparam monochrome true\r\n",
       "skinparam classbackgroundcolor white\r\n",
       "skinparam shadowing false\r\n",
       "skinparam wrapWidth 300\r\n",
       "hide circle\r\n",
       "\r\n",
       "package \"TradeStudyTest\" as E1  [[psysml:8952aa40-03a2-4df7-81e1-750bf2c7b589 ]]  {\r\n",
       "rec def \"Engine\" as E2  <<(T,blue)part def>> [[psysml:ba5002a0-783d-43b2-abfa-70b37f90804c ]] {\r\n",
       "}\r\n",
       "rec usage \"engine1: Engine\" as E3  [[psysml:47ce73ab-2c54-4db4-9d19-7bcb338cdf44 ]] {\r\n",
       "}\r\n",
       "rec usage \"engine2: Engine\" as E4  [[psysml:7dfdc806-8438-4ccb-bd71-8b6bdaa69ab8 ]] {\r\n",
       "}\r\n",
       "}\r\n",
       "@enduml\r\n",
       "\n",
       "PlantUML version 1.2020.13(Sat Jun 13 12:26:38 UTC 2020)\n",
       "(EPL source distribution)\n",
       "Java Runtime: OpenJDK Runtime Environment\n",
       "JVM: OpenJDK 64-Bit Server VM\n",
       "Default Encoding: UTF-8\n",
       "Language: en\n",
       "Country: null\n",
       "--></g></svg>"
      ]
     },
     "execution_count": 12,
     "metadata": {},
     "output_type": "execute_result"
    }
   ],
   "source": [
    "%viz --style=\"POLYLINE\" --view=\"Interconnection\" \"TradeStudyTest\""
   ]
  },
  {
   "cell_type": "code",
   "execution_count": 13,
   "id": "associate-depth",
   "metadata": {
    "execution": {
     "iopub.execute_input": "2021-03-25T09:29:24.156845Z",
     "iopub.status.busy": "2021-03-25T09:29:24.155664Z",
     "iopub.status.idle": "2021-03-25T09:29:24.243743Z",
     "shell.execute_reply": "2021-03-25T09:29:24.243355Z"
    }
   },
   "outputs": [
    {
     "data": {
      "image/svg+xml": [
       "<?xml version=\"1.0\" encoding=\"UTF-8\" standalone=\"no\"?><svg xmlns=\"http://www.w3.org/2000/svg\" xmlns:xlink=\"http://www.w3.org/1999/xlink\" contentScriptType=\"application/ecmascript\" contentStyleType=\"text/css\" height=\"128px\" preserveAspectRatio=\"none\" style=\"width:180px;height:128px;\" version=\"1.1\" viewBox=\"0 0 180 128\" width=\"180px\" zoomAndPan=\"magnify\"><defs/><g><!--MD5=[fbc87193dbaf4d95561dea2c320d4a47]\n",
       "cluster E1--><a href=\"psysml:cd38e840-8317-467c-8230-e0f8852492a9\" target=\"_top\" title=\"psysml:cd38e840-8317-467c-8230-e0f8852492a9\" xlink:actuate=\"onRequest\" xlink:href=\"psysml:cd38e840-8317-467c-8230-e0f8852492a9\" xlink:show=\"new\" xlink:title=\"psysml:cd38e840-8317-467c-8230-e0f8852492a9\" xlink:type=\"simple\"><rect fill=\"#FFFFFF\" height=\"110\" id=\"E1\" rx=\"10\" ry=\"10\" style=\"stroke: #383838; stroke-width: 1.5;\" width=\"161\" x=\"7\" y=\"7\"/><rect fill=\"#F8F8F8\" height=\"37.9375\" rx=\"10\" ry=\"10\" style=\"stroke: #F8F8F8; stroke-width: 1.5;\" width=\"161\" x=\"7\" y=\"7\"/><rect fill=\"#F8F8F8\" height=\"10\" style=\"stroke: #F8F8F8; stroke-width: 1.5;\" width=\"161\" x=\"7\" y=\"34.9375\"/><rect fill=\"none\" height=\"110\" id=\"E1\" rx=\"10\" ry=\"10\" style=\"stroke: #383838; stroke-width: 1.5;\" width=\"161\" x=\"7\" y=\"7\"/><text fill=\"#000000\" font-family=\"sans-serif\" font-size=\"12\" font-style=\"italic\" lengthAdjust=\"spacingAndGlyphs\" textLength=\"64\" x=\"55.5\" y=\"23.1387\">«analysis»</text><text fill=\"#000000\" font-family=\"sans-serif\" font-size=\"12\" lengthAdjust=\"spacingAndGlyphs\" textLength=\"114\" x=\"30.5\" y=\"37.1074\">engineTradeStudy</text><line style=\"stroke: #383838; stroke-width: 1.0;\" x1=\"7\" x2=\"168\" y1=\"44.9375\" y2=\"44.9375\"/></a><g id=\"E1.E2\"><a href=\"psysml:081fa6ee-8a6f-4292-82c4-f5eb64360f97\" target=\"_top\" title=\"psysml:081fa6ee-8a6f-4292-82c4-f5eb64360f97\" xlink:actuate=\"onRequest\" xlink:href=\"psysml:081fa6ee-8a6f-4292-82c4-f5eb64360f97\" xlink:show=\"new\" xlink:title=\"psysml:081fa6ee-8a6f-4292-82c4-f5eb64360f97\" xlink:type=\"simple\"><rect fill=\"#FFFFFF\" height=\"42.9375\" id=\"E2\" rx=\"10\" ry=\"10\" style=\"stroke: #383838; stroke-width: 1.5;\" width=\"121\" x=\"26.5\" y=\"58\"/><rect fill=\"#F8F8F8\" height=\"37.9375\" rx=\"10\" ry=\"10\" style=\"stroke: #F8F8F8; stroke-width: 1.5;\" width=\"121\" x=\"26.5\" y=\"58\"/><rect fill=\"#F8F8F8\" height=\"10\" style=\"stroke: #F8F8F8; stroke-width: 1.5;\" width=\"121\" x=\"26.5\" y=\"85.9375\"/><rect fill=\"none\" height=\"42.9375\" id=\"E2\" rx=\"10\" ry=\"10\" style=\"stroke: #383838; stroke-width: 1.5;\" width=\"121\" x=\"26.5\" y=\"58\"/><text fill=\"#000000\" font-family=\"sans-serif\" font-size=\"12\" font-style=\"italic\" lengthAdjust=\"spacingAndGlyphs\" textLength=\"82\" x=\"46\" y=\"74.1387\">«calculation»</text><text fill=\"#000000\" font-family=\"sans-serif\" font-size=\"12\" lengthAdjust=\"spacingAndGlyphs\" textLength=\"110\" x=\"32\" y=\"88.1074\">objectiveFunction</text></a></g><!--MD5=[d2693aec922d48ad025f5e424d4c344c]\n",
       "@startuml\r\n",
       "skinparam ranksep 8\r\n",
       "skinparam linetype polyline\r\n",
       "skinparam monochrome true\r\n",
       "skinparam classbackgroundcolor white\r\n",
       "skinparam shadowing false\r\n",
       "skinparam wrapWidth 300\r\n",
       "hide circle\r\n",
       "\r\n",
       "rec usage \"engineTradeStudy\" as E1 <<analysis>> [[psysml:cd38e840-8317-467c-8230-e0f8852492a9 ]] {\r\n",
       "rec usage \"objectiveFunction\" as E2  <<(T,blue)calculation>> [[psysml:081fa6ee-8a6f-4292-82c4-f5eb64360f97 ]] {\r\n",
       "}\r\n",
       "\r\n",
       "}\r\n",
       "\r\n",
       "@enduml\r\n",
       "\n",
       "PlantUML version 1.2020.13(Sat Jun 13 12:26:38 UTC 2020)\n",
       "(EPL source distribution)\n",
       "Java Runtime: OpenJDK Runtime Environment\n",
       "JVM: OpenJDK 64-Bit Server VM\n",
       "Default Encoding: UTF-8\n",
       "Language: en\n",
       "Country: null\n",
       "--></g></svg>"
      ]
     },
     "execution_count": 13,
     "metadata": {},
     "output_type": "execute_result"
    }
   ],
   "source": [
    "%viz --style=\"POLYLINE\" --view=\"Action\" \"TradeStudyTest\""
   ]
  },
  {
   "cell_type": "code",
   "execution_count": 14,
   "id": "outer-shirt",
   "metadata": {
    "execution": {
     "iopub.execute_input": "2021-03-25T09:29:24.295122Z",
     "iopub.status.busy": "2021-03-25T09:29:24.294619Z",
     "iopub.status.idle": "2021-03-25T09:29:24.619722Z",
     "shell.execute_reply": "2021-03-25T09:29:24.618024Z"
    }
   },
   "outputs": [
    {
     "data": {
      "image/svg+xml": [
       "<?xml version=\"1.0\" encoding=\"UTF-8\" standalone=\"no\"?><svg xmlns=\"http://www.w3.org/2000/svg\" xmlns:xlink=\"http://www.w3.org/1999/xlink\" contentScriptType=\"application/ecmascript\" contentStyleType=\"text/css\" height=\"527px\" preserveAspectRatio=\"none\" style=\"width:554px;height:527px;\" version=\"1.1\" viewBox=\"0 0 554 527\" width=\"554px\" zoomAndPan=\"magnify\"><defs/><g><!--MD5=[fbc87193dbaf4d95561dea2c320d4a47]\n",
       "cluster E1--><a href=\"psysml:8952aa40-03a2-4df7-81e1-750bf2c7b589\" target=\"_top\" title=\"psysml:8952aa40-03a2-4df7-81e1-750bf2c7b589\" xlink:actuate=\"onRequest\" xlink:href=\"psysml:8952aa40-03a2-4df7-81e1-750bf2c7b589\" xlink:show=\"new\" xlink:title=\"psysml:8952aa40-03a2-4df7-81e1-750bf2c7b589\" xlink:type=\"simple\"><polygon fill=\"#FFFFFF\" points=\"16,6,148,6,155,28.2969,532,28.2969,532,515,16,515,16,6\" style=\"stroke: #000000; stroke-width: 1.5;\"/><line style=\"stroke: #000000; stroke-width: 1.5;\" x1=\"16\" x2=\"155\" y1=\"28.2969\" y2=\"28.2969\"/><text fill=\"#000000\" font-family=\"sans-serif\" font-size=\"14\" font-weight=\"bold\" lengthAdjust=\"spacingAndGlyphs\" textLength=\"126\" x=\"20\" y=\"20.9951\">TradeStudyTest</text></a><!--MD5=[b4997ac47864f28c2f74865a473b2911]\n",
       "class E2--><a href=\"psysml:ba5002a0-783d-43b2-abfa-70b37f90804c\" target=\"_top\" title=\"psysml:ba5002a0-783d-43b2-abfa-70b37f90804c\" xlink:actuate=\"onRequest\" xlink:href=\"psysml:ba5002a0-783d-43b2-abfa-70b37f90804c\" xlink:show=\"new\" xlink:title=\"psysml:ba5002a0-783d-43b2-abfa-70b37f90804c\" xlink:type=\"simple\"><rect fill=\"#FFFFFF\" height=\"45.9375\" id=\"E2\" style=\"stroke: #383838; stroke-width: 1.5;\" width=\"66\" x=\"196\" y=\"453\"/><text fill=\"#000000\" font-family=\"sans-serif\" font-size=\"12\" font-style=\"italic\" lengthAdjust=\"spacingAndGlyphs\" textLength=\"64\" x=\"197\" y=\"469.1387\">«part def»</text><text fill=\"#000000\" font-family=\"sans-serif\" font-size=\"12\" lengthAdjust=\"spacingAndGlyphs\" textLength=\"43\" x=\"207.5\" y=\"483.1074\">Engine</text><line style=\"stroke: #383838; stroke-width: 1.5;\" x1=\"197\" x2=\"261\" y1=\"490.9375\" y2=\"490.9375\"/></a><!--MD5=[09b614a08d8cba4a07c9adeb5e0fee81]\n",
       "class E3--><a href=\"psysml:47ce73ab-2c54-4db4-9d19-7bcb338cdf44\" target=\"_top\" title=\"psysml:47ce73ab-2c54-4db4-9d19-7bcb338cdf44\" xlink:actuate=\"onRequest\" xlink:href=\"psysml:47ce73ab-2c54-4db4-9d19-7bcb338cdf44\" xlink:show=\"new\" xlink:title=\"psysml:47ce73ab-2c54-4db4-9d19-7bcb338cdf44\" xlink:type=\"simple\"><rect fill=\"#FFFFFF\" height=\"45.9375\" id=\"E3\" rx=\"10\" ry=\"10\" style=\"stroke: #383838; stroke-width: 1.5;\" width=\"108\" x=\"408\" y=\"346\"/><text fill=\"#000000\" font-family=\"sans-serif\" font-size=\"12\" font-style=\"italic\" lengthAdjust=\"spacingAndGlyphs\" textLength=\"40\" x=\"442\" y=\"362.1387\">«part»</text><text fill=\"#000000\" font-family=\"sans-serif\" font-size=\"12\" lengthAdjust=\"spacingAndGlyphs\" textLength=\"102\" x=\"411\" y=\"376.1074\">engine1: Engine</text><line style=\"stroke: #383838; stroke-width: 1.5;\" x1=\"409\" x2=\"515\" y1=\"383.9375\" y2=\"383.9375\"/></a><!--MD5=[ebbe1d658d1005bcc118a6aa81145e00]\n",
       "class E4--><a href=\"psysml:7dfdc806-8438-4ccb-bd71-8b6bdaa69ab8\" target=\"_top\" title=\"psysml:7dfdc806-8438-4ccb-bd71-8b6bdaa69ab8\" xlink:actuate=\"onRequest\" xlink:href=\"psysml:7dfdc806-8438-4ccb-bd71-8b6bdaa69ab8\" xlink:show=\"new\" xlink:title=\"psysml:7dfdc806-8438-4ccb-bd71-8b6bdaa69ab8\" xlink:type=\"simple\"><rect fill=\"#FFFFFF\" height=\"45.9375\" id=\"E4\" rx=\"10\" ry=\"10\" style=\"stroke: #383838; stroke-width: 1.5;\" width=\"108\" x=\"265\" y=\"346\"/><text fill=\"#000000\" font-family=\"sans-serif\" font-size=\"12\" font-style=\"italic\" lengthAdjust=\"spacingAndGlyphs\" textLength=\"40\" x=\"299\" y=\"362.1387\">«part»</text><text fill=\"#000000\" font-family=\"sans-serif\" font-size=\"12\" lengthAdjust=\"spacingAndGlyphs\" textLength=\"102\" x=\"268\" y=\"376.1074\">engine2: Engine</text><line style=\"stroke: #383838; stroke-width: 1.5;\" x1=\"266\" x2=\"372\" y1=\"383.9375\" y2=\"383.9375\"/></a><!--MD5=[270fce915f116d4de14055a7c1d9a0f3]\n",
       "class E5--><a href=\"psysml:cd38e840-8317-467c-8230-e0f8852492a9\" target=\"_top\" title=\"psysml:cd38e840-8317-467c-8230-e0f8852492a9\" xlink:actuate=\"onRequest\" xlink:href=\"psysml:cd38e840-8317-467c-8230-e0f8852492a9\" xlink:show=\"new\" xlink:title=\"psysml:cd38e840-8317-467c-8230-e0f8852492a9\" xlink:type=\"simple\"><rect fill=\"#FFFFFF\" height=\"45.9375\" id=\"E5\" rx=\"10\" ry=\"10\" style=\"stroke: #383838; stroke-width: 1.5;\" width=\"199\" x=\"237.5\" y=\"41\"/><text fill=\"#000000\" font-family=\"sans-serif\" font-size=\"12\" font-style=\"italic\" lengthAdjust=\"spacingAndGlyphs\" textLength=\"64\" x=\"305\" y=\"57.1387\">«analysis»</text><text fill=\"#000000\" font-family=\"sans-serif\" font-size=\"12\" lengthAdjust=\"spacingAndGlyphs\" textLength=\"193\" x=\"240.5\" y=\"71.1074\">engineTradeStudy: TradeStudy</text><line style=\"stroke: #383838; stroke-width: 1.5;\" x1=\"238.5\" x2=\"435.5\" y1=\"78.9375\" y2=\"78.9375\"/></a><!--MD5=[60a26617385b1d2d0262a64233df1f8d]\n",
       "class E6--><a href=\"psysml:bf1db205-ea64-42b3-a829-2093a93eb81c\" target=\"_top\" title=\"psysml:bf1db205-ea64-42b3-a829-2093a93eb81c\" xlink:actuate=\"onRequest\" xlink:href=\"psysml:bf1db205-ea64-42b3-a829-2093a93eb81c\" xlink:show=\"new\" xlink:title=\"psysml:bf1db205-ea64-42b3-a829-2093a93eb81c\" xlink:type=\"simple\"><rect fill=\"#FFFFFF\" height=\"45.9375\" id=\"E6\" rx=\"10\" ry=\"10\" style=\"stroke: #383838; stroke-width: 1.5;\" width=\"251\" x=\"76.5\" y=\"179\"/><text fill=\"#000000\" font-family=\"sans-serif\" font-size=\"12\" font-style=\"italic\" lengthAdjust=\"spacingAndGlyphs\" textLength=\"91\" x=\"156.5\" y=\"195.1387\">«requirement»</text><text fill=\"#000000\" font-family=\"sans-serif\" font-size=\"12\" lengthAdjust=\"spacingAndGlyphs\" textLength=\"245\" x=\"79.5\" y=\"209.1074\">tradeStudyObjective: MaximizeObjective</text><line style=\"stroke: #383838; stroke-width: 1.5;\" x1=\"77.5\" x2=\"326.5\" y1=\"216.9375\" y2=\"216.9375\"/></a><!--MD5=[2156ba9850f5573cc1fc38a6a4b2f02b]\n",
       "class E7--><a href=\"psysml:081fa6ee-8a6f-4292-82c4-f5eb64360f97\" target=\"_top\" title=\"psysml:081fa6ee-8a6f-4292-82c4-f5eb64360f97\" xlink:actuate=\"onRequest\" xlink:href=\"psysml:081fa6ee-8a6f-4292-82c4-f5eb64360f97\" xlink:show=\"new\" xlink:title=\"psysml:081fa6ee-8a6f-4292-82c4-f5eb64360f97\" xlink:type=\"simple\"><rect fill=\"#FFFFFF\" height=\"75.5469\" id=\"E7\" rx=\"10\" ry=\"10\" style=\"stroke: #383838; stroke-width: 1.5;\" width=\"116\" x=\"363\" y=\"164\"/><text fill=\"#000000\" font-family=\"sans-serif\" font-size=\"12\" font-style=\"italic\" lengthAdjust=\"spacingAndGlyphs\" textLength=\"82\" x=\"380\" y=\"180.1387\">«calculation»</text><text fill=\"#000000\" font-family=\"sans-serif\" font-size=\"12\" lengthAdjust=\"spacingAndGlyphs\" textLength=\"110\" x=\"366\" y=\"194.1074\">objectiveFunction</text><line style=\"stroke: #383838; stroke-width: 1.5;\" x1=\"364\" x2=\"478\" y1=\"201.9375\" y2=\"201.9375\"/><text fill=\"#000000\" font-family=\"sans-serif\" font-size=\"11\" lengthAdjust=\"spacingAndGlyphs\" textLength=\"65\" x=\"369\" y=\"232.9526\">result: Real</text><line style=\"stroke: #383838; stroke-width: 1.0;\" x1=\"364\" x2=\"393.5\" y1=\"216.3398\" y2=\"216.3398\"/><text fill=\"#000000\" font-family=\"sans-serif\" font-size=\"11\" lengthAdjust=\"spacingAndGlyphs\" textLength=\"55\" x=\"393.5\" y=\"219.6479\">attributes</text><line style=\"stroke: #383838; stroke-width: 1.0;\" x1=\"448.5\" x2=\"478\" y1=\"216.3398\" y2=\"216.3398\"/></a><!--MD5=[b9389687b975829384b498ac4b7476b2]\n",
       "class E8--><a href=\"psysml:dbdbccdb-5c16-4bd3-a501-4b1c7e9ddcab\" target=\"_top\" title=\"psysml:dbdbccdb-5c16-4bd3-a501-4b1c7e9ddcab\" xlink:actuate=\"onRequest\" xlink:href=\"psysml:dbdbccdb-5c16-4bd3-a501-4b1c7e9ddcab\" xlink:show=\"new\" xlink:title=\"psysml:dbdbccdb-5c16-4bd3-a501-4b1c7e9ddcab\" xlink:type=\"simple\"><rect fill=\"#FFFFFF\" height=\"45.9375\" id=\"E8\" rx=\"10\" ry=\"10\" style=\"stroke: #383838; stroke-width: 1.5;\" width=\"124\" x=\"69\" y=\"346\"/><text fill=\"#000000\" font-family=\"sans-serif\" font-size=\"12\" font-style=\"italic\" lengthAdjust=\"spacingAndGlyphs\" textLength=\"40\" x=\"111\" y=\"362.1387\">«part»</text><text fill=\"#000000\" font-family=\"sans-serif\" font-size=\"12\" lengthAdjust=\"spacingAndGlyphs\" textLength=\"118\" x=\"72\" y=\"376.1074\">alternative: Engine</text><line style=\"stroke: #383838; stroke-width: 1.5;\" x1=\"70\" x2=\"192\" y1=\"383.9375\" y2=\"383.9375\"/></a><!--MD5=[fd4143e9d270a159db93a4ea2a975926]\n",
       "class E9--><a href=\"psysml:b6df212f-8018-4500-9608-46bc28de5179\" target=\"_top\" title=\"psysml:b6df212f-8018-4500-9608-46bc28de5179\" xlink:actuate=\"onRequest\" xlink:href=\"psysml:b6df212f-8018-4500-9608-46bc28de5179\" xlink:show=\"new\" xlink:title=\"psysml:b6df212f-8018-4500-9608-46bc28de5179\" xlink:type=\"simple\"><rect fill=\"#FFFFFF\" height=\"45.9375\" id=\"E9\" rx=\"10\" ry=\"10\" style=\"stroke: #383838; stroke-width: 1.5;\" width=\"178\" x=\"289\" y=\"270\"/><text fill=\"#000000\" font-family=\"sans-serif\" font-size=\"12\" font-style=\"italic\" lengthAdjust=\"spacingAndGlyphs\" textLength=\"40\" x=\"358\" y=\"286.1387\">«part»</text><text fill=\"#000000\" font-family=\"sans-serif\" font-size=\"12\" lengthAdjust=\"spacingAndGlyphs\" textLength=\"172\" x=\"292\" y=\"300.1074\">selectedAlternative: Engine</text><line style=\"stroke: #383838; stroke-width: 1.5;\" x1=\"290\" x2=\"466\" y1=\"307.9375\" y2=\"307.9375\"/></a><!--MD5=[05d275557350bfb9b23a4ef7222b4c39]\n",
       "link E3 to E2--><a href=\"psysml:6a611645-87b6-456f-b99f-fe1a3075932c\" target=\"_top\" title=\"psysml:6a611645-87b6-456f-b99f-fe1a3075932c\" xlink:actuate=\"onRequest\" xlink:href=\"psysml:6a611645-87b6-456f-b99f-fe1a3075932c\" xlink:show=\"new\" xlink:title=\"psysml:6a611645-87b6-456f-b99f-fe1a3075932c\" xlink:type=\"simple\"><path d=\"M413.16,392.01 C374.25,409.54 319.95,434.01 280.39,451.84 \" fill=\"none\" id=\"E3-&gt;E2\" style=\"stroke: #383838; stroke-width: 1.0;\"/><polygon fill=\"#FFFFFF\" points=\"262.02,460.12,276.4666,445.9321,282.2183,458.696,262.02,460.12\" style=\"stroke: #383838; stroke-width: 1.0;\"/><ellipse cx=\"282.485\" cy=\"445.4137\" fill=\"#383838\" rx=\"2\" ry=\"2\" style=\"stroke: #383838; stroke-width: 1.0;\"/><ellipse cx=\"286.5934\" cy=\"454.5308\" fill=\"#383838\" rx=\"2\" ry=\"2\" style=\"stroke: #383838; stroke-width: 1.0;\"/></a><!--MD5=[185131fc0dcab0a4505a2ebe144e961b]\n",
       "link E4 to E2--><a href=\"psysml:c8f697e8-ebd5-44e8-8041-765052aa0dda\" target=\"_top\" title=\"psysml:c8f697e8-ebd5-44e8-8041-765052aa0dda\" xlink:actuate=\"onRequest\" xlink:href=\"psysml:c8f697e8-ebd5-44e8-8041-765052aa0dda\" xlink:show=\"new\" xlink:title=\"psysml:c8f697e8-ebd5-44e8-8041-765052aa0dda\" xlink:type=\"simple\"><path d=\"M300.13,392.01 C288.93,405.08 274.42,422.01 261.42,437.17 \" fill=\"none\" id=\"E4-&gt;E2\" style=\"stroke: #383838; stroke-width: 1.0;\"/><polygon fill=\"#FFFFFF\" points=\"248.15,452.66,255.1988,433.678,265.8291,442.7883,248.15,452.66\" style=\"stroke: #383838; stroke-width: 1.0;\"/><ellipse cx=\"260.4266\" cy=\"430.6515\" fill=\"#383838\" rx=\"2\" ry=\"2\" style=\"stroke: #383838; stroke-width: 1.0;\"/><ellipse cx=\"268.0196\" cy=\"437.1588\" fill=\"#383838\" rx=\"2\" ry=\"2\" style=\"stroke: #383838; stroke-width: 1.0;\"/></a><!--MD5=[15ebcb19ae302d9b601edb458606d402]\n",
       "link E5 to E2--><a href=\"psysml:2f46211a-dc33-450b-96f1-34c5430f413d\" target=\"_top\" title=\"psysml:2f46211a-dc33-450b-96f1-34c5430f413d\" xlink:actuate=\"onRequest\" xlink:href=\"psysml:2f46211a-dc33-450b-96f1-34c5430f413d\" xlink:show=\"new\" xlink:title=\"psysml:2f46211a-dc33-450b-96f1-34c5430f413d\" xlink:type=\"simple\"><path d=\"M274.96,87.09 C193.02,116.27 59,164 59,164 C59,164 51,346 51,346 C51,346 51,392 51,392 C51,392 139.06,433.06 191.31,457.42 \" fill=\"none\" id=\"E5-&gt;E2\" style=\"stroke: #383838; stroke-width: 1.0; stroke-dasharray: 7.0,7.0;\"/><polygon fill=\"#383838\" points=\"195.94,459.58,189.449,452.1728,191.4015,457.482,186.0922,459.4344,195.94,459.58\" style=\"stroke: #383838; stroke-width: 1.0;\"/><text fill=\"#000000\" font-family=\"sans-serif\" font-size=\"13\" lengthAdjust=\"spacingAndGlyphs\" textLength=\"62\" x=\"56\" y=\"297.5669\">«subject»</text></a><!--MD5=[9120cf2e5df3bff93db8f754bbbc09b4]\n",
       "link E5 to E6--><a href=\"psysml:285bfc51-142a-40f2-bdf1-cdd7141b9b55\" target=\"_top\" title=\"psysml:285bfc51-142a-40f2-bdf1-cdd7141b9b55\" xlink:actuate=\"onRequest\" xlink:href=\"psysml:285bfc51-142a-40f2-bdf1-cdd7141b9b55\" xlink:show=\"new\" xlink:title=\"psysml:285bfc51-142a-40f2-bdf1-cdd7141b9b55\" xlink:type=\"simple\"><path d=\"M315.01,87.15 C291.77,110.57 255.05,147.55 229.82,172.98 \" fill=\"none\" id=\"E5-&gt;E6\" style=\"stroke: #383838; stroke-width: 1.0;\"/><polygon fill=\"#383838\" points=\"223.98,178.86,231.7447,175.295,227.486,171.0685,223.98,178.86\" style=\"stroke: #383838; stroke-width: 1.0;\"/><text fill=\"#000000\" font-family=\"sans-serif\" font-size=\"13\" lengthAdjust=\"spacingAndGlyphs\" textLength=\"73\" x=\"282\" y=\"130.0669\">«objective»</text></a><!--MD5=[452b418e7f8a40397a49b8c0a78acc5b]\n",
       "reverse link E5 to E7--><a href=\"psysml:081fa6ee-8a6f-4292-82c4-f5eb64360f97\" target=\"_top\" title=\"psysml:081fa6ee-8a6f-4292-82c4-f5eb64360f97\" xlink:actuate=\"onRequest\" xlink:href=\"psysml:081fa6ee-8a6f-4292-82c4-f5eb64360f97\" xlink:show=\"new\" xlink:title=\"psysml:081fa6ee-8a6f-4292-82c4-f5eb64360f97\" xlink:type=\"simple\"><path d=\"M357.66,98.44 C369.92,118.3 385.5,143.52 398.13,163.97 \" fill=\"none\" id=\"E5&lt;-E7\" style=\"stroke: #383838; stroke-width: 1.0;\"/><polygon fill=\"#383838\" points=\"350.68,87.15,350.4252,94.3566,356.9795,97.3636,357.2342,90.157,350.68,87.15\" style=\"stroke: #383838; stroke-width: 1.0;\"/></a><!--MD5=[f1f3f9f2fc535e6147756cb86a7f2e32]\n",
       "link E8 to E2--><a href=\"psysml:143d7cb3-4d47-41f0-bb56-6d1ae515b029\" target=\"_top\" title=\"psysml:143d7cb3-4d47-41f0-bb56-6d1ae515b029\" xlink:actuate=\"onRequest\" xlink:href=\"psysml:143d7cb3-4d47-41f0-bb56-6d1ae515b029\" xlink:show=\"new\" xlink:title=\"psysml:143d7cb3-4d47-41f0-bb56-6d1ae515b029\" xlink:type=\"simple\"><path d=\"M151.54,392.01 C163.87,405.22 179.88,422.38 194.14,437.65 \" fill=\"none\" id=\"E8-&gt;E2\" style=\"stroke: #383838; stroke-width: 1.0;\"/><polygon fill=\"#FFFFFF\" points=\"208.15,452.66,190.0721,443.5393,200.3105,433.9907,208.15,452.66\" style=\"stroke: #383838; stroke-width: 1.0;\"/><ellipse cx=\"187.6471\" cy=\"438.0067\" fill=\"#383838\" rx=\"2\" ry=\"2\" style=\"stroke: #383838; stroke-width: 1.0;\"/><ellipse cx=\"194.9602\" cy=\"431.1863\" fill=\"#383838\" rx=\"2\" ry=\"2\" style=\"stroke: #383838; stroke-width: 1.0;\"/></a><!--MD5=[dc164f5e8a733ab456ef1add180e9e34]\n",
       "reverse link E7 to E8--><a href=\"psysml:dbdbccdb-5c16-4bd3-a501-4b1c7e9ddcab\" target=\"_top\" title=\"psysml:dbdbccdb-5c16-4bd3-a501-4b1c7e9ddcab\" xlink:actuate=\"onRequest\" xlink:href=\"psysml:dbdbccdb-5c16-4bd3-a501-4b1c7e9ddcab\" xlink:show=\"new\" xlink:title=\"psysml:dbdbccdb-5c16-4bd3-a501-4b1c7e9ddcab\" xlink:type=\"simple\"><path d=\"M350.9,237.13 C347.22,238.92 345,240 345,240 C345,240 272,270 272,270 C272,270 204.6,316.85 163,345.76 \" fill=\"none\" id=\"E7&lt;-E8\" style=\"stroke: #383838; stroke-width: 1.0;\"/><polygon fill=\"#FFFFFF\" points=\"362.63,231.42,355.4847,230.4482,351.8395,236.6702,358.9848,237.6419,362.63,231.42\" style=\"stroke: #383838; stroke-width: 1.0;\"/></a><!--MD5=[5c3bb36fe832a92c7f0e1807dd65209d]\n",
       "link E9 to E2--><a href=\"psysml:cb3e8ea7-f115-4f34-bcd9-dd1e6ba812b8\" target=\"_top\" title=\"psysml:cb3e8ea7-f115-4f34-bcd9-dd1e6ba812b8\" xlink:actuate=\"onRequest\" xlink:href=\"psysml:cb3e8ea7-f115-4f34-bcd9-dd1e6ba812b8\" xlink:show=\"new\" xlink:title=\"psysml:cb3e8ea7-f115-4f34-bcd9-dd1e6ba812b8\" xlink:type=\"simple\"><path d=\"M322.87,316.05 C287.44,330.23 248,346 248,346 C248,346 240.73,395.33 235.19,432.98 \" fill=\"none\" id=\"E9-&gt;E2\" style=\"stroke: #383838; stroke-width: 1.0;\"/><polygon fill=\"#FFFFFF\" points=\"232.27,452.82,228.1134,433.0028,241.964,435.0429,232.27,452.82\" style=\"stroke: #383838; stroke-width: 1.0;\"/><ellipse cx=\"230.9227\" cy=\"427.6551\" fill=\"#383838\" rx=\"2\" ry=\"2\" style=\"stroke: #383838; stroke-width: 1.0;\"/><ellipse cx=\"240.8159\" cy=\"429.1123\" fill=\"#383838\" rx=\"2\" ry=\"2\" style=\"stroke: #383838; stroke-width: 1.0;\"/></a><!--MD5=[9ae28de373ca99bb8a1b38d63370ca7e]\n",
       "reverse link E5 to E9--><a href=\"psysml:b6df212f-8018-4500-9608-46bc28de5179\" target=\"_top\" title=\"psysml:b6df212f-8018-4500-9608-46bc28de5179\" xlink:actuate=\"onRequest\" xlink:href=\"psysml:b6df212f-8018-4500-9608-46bc28de5179\" xlink:show=\"new\" xlink:title=\"psysml:b6df212f-8018-4500-9608-46bc28de5179\" xlink:type=\"simple\"><path d=\"M384.16,94.18 C431.35,123.38 497,164 497,164 C497,164 497,240 497,240 C497,240 460.9,255.77 428.47,269.95 \" fill=\"none\" id=\"E5&lt;-E9\" style=\"stroke: #383838; stroke-width: 1.0;\"/><polygon fill=\"#FFFFFF\" points=\"372.91,87.22,375.907,93.7788,383.114,93.5349,380.117,86.9761,372.91,87.22\" style=\"stroke: #383838; stroke-width: 1.0;\"/></a><!--MD5=[e2e9c9080fa73833b0ae3346277c81b8]\n",
       "@startuml\r\n",
       "skinparam linetype polyline\r\n",
       "skinparam monochrome true\r\n",
       "skinparam classbackgroundcolor white\r\n",
       "skinparam shadowing false\r\n",
       "skinparam wrapWidth 300\r\n",
       "hide circle\r\n",
       "\r\n",
       "package \"TradeStudyTest\" as E1  [[psysml:8952aa40-03a2-4df7-81e1-750bf2c7b589 ]]  {\r\n",
       "comp def \"Engine\" as E2  <<(T,blue)part def>> [[psysml:ba5002a0-783d-43b2-abfa-70b37f90804c ]] {\r\n",
       "}\r\n",
       "comp usage \"engine1: Engine\" as E3  <<(T,blue)part>> [[psysml:47ce73ab-2c54-4db4-9d19-7bcb338cdf44 ]] {\r\n",
       "}\r\n",
       "comp usage \"engine2: Engine\" as E4  <<(T,blue)part>> [[psysml:7dfdc806-8438-4ccb-bd71-8b6bdaa69ab8 ]] {\r\n",
       "}\r\n",
       "comp usage \"engineTradeStudy: TradeStudy\" as E5 <<analysis>> [[psysml:cd38e840-8317-467c-8230-e0f8852492a9 ]] {\r\n",
       "}\r\n",
       "comp usage \"tradeStudyObjective: MaximizeObjective\" as E6  <<(T,blue)requirement>> [[psysml:bf1db205-ea64-42b3-a829-2093a93eb81c ]] {\r\n",
       "}\r\n",
       "comp usage \"objectiveFunction\" as E7  <<(T,blue)calculation>> [[psysml:081fa6ee-8a6f-4292-82c4-f5eb64360f97 ]] {\r\n",
       "- - attributes - -\r\n",
       "result: Real\r\n",
       "}\r\n",
       "comp usage \"alternative: Engine\" as E8  <<(T,blue)part>> [[psysml:dbdbccdb-5c16-4bd3-a501-4b1c7e9ddcab ]] {\r\n",
       "}\r\n",
       "comp usage \"selectedAlternative: Engine\" as E9  <<(T,blue)part>> [[psysml:b6df212f-8018-4500-9608-46bc28de5179 ]] {\r\n",
       "}\r\n",
       "E3 - -:|> E2 [[psysml:6a611645-87b6-456f-b99f-fe1a3075932c ]] \r\n",
       "E4 - -:|> E2 [[psysml:c8f697e8-ebd5-44e8-8041-765052aa0dda ]] \r\n",
       "E5 ..> E2 [[psysml:2f46211a-dc33-450b-96f1-34c5430f413d ]] : <<subject>>\r\n",
       "E5 - ->> E6 [[psysml:285bfc51-142a-40f2-bdf1-cdd7141b9b55 ]] : <<objective>>\r\n",
       "E5 *- - E7 [[psysml:081fa6ee-8a6f-4292-82c4-f5eb64360f97 ]] \r\n",
       "E8 - -:|> E2 [[psysml:143d7cb3-4d47-41f0-bb56-6d1ae515b029 ]] \r\n",
       "E7 o- - E8 [[psysml:dbdbccdb-5c16-4bd3-a501-4b1c7e9ddcab ]] \r\n",
       "E9 - -:|> E2 [[psysml:cb3e8ea7-f115-4f34-bcd9-dd1e6ba812b8 ]] \r\n",
       "E5 o- - E9 [[psysml:b6df212f-8018-4500-9608-46bc28de5179 ]] \r\n",
       "}\r\n",
       "@enduml\r\n",
       "\n",
       "PlantUML version 1.2020.13(Sat Jun 13 12:26:38 UTC 2020)\n",
       "(EPL source distribution)\n",
       "Java Runtime: OpenJDK Runtime Environment\n",
       "JVM: OpenJDK 64-Bit Server VM\n",
       "Default Encoding: UTF-8\n",
       "Language: en\n",
       "Country: null\n",
       "--></g></svg>"
      ]
     },
     "execution_count": 14,
     "metadata": {},
     "output_type": "execute_result"
    }
   ],
   "source": [
    "%viz --style=\"POLYLINE\" --view=\"Sequence\" \"TradeStudyTest\""
   ]
  },
  {
   "cell_type": "code",
   "execution_count": 15,
   "id": "metric-philip",
   "metadata": {
    "execution": {
     "iopub.execute_input": "2021-03-25T09:29:24.669917Z",
     "iopub.status.busy": "2021-03-25T09:29:24.669497Z",
     "iopub.status.idle": "2021-03-25T09:29:24.999585Z",
     "shell.execute_reply": "2021-03-25T09:29:24.998003Z"
    }
   },
   "outputs": [
    {
     "data": {
      "image/svg+xml": [
       "<?xml version=\"1.0\" encoding=\"UTF-8\" standalone=\"no\"?><svg xmlns=\"http://www.w3.org/2000/svg\" xmlns:xlink=\"http://www.w3.org/1999/xlink\" contentScriptType=\"application/ecmascript\" contentStyleType=\"text/css\" height=\"527px\" preserveAspectRatio=\"none\" style=\"width:554px;height:527px;\" version=\"1.1\" viewBox=\"0 0 554 527\" width=\"554px\" zoomAndPan=\"magnify\"><defs/><g><!--MD5=[fbc87193dbaf4d95561dea2c320d4a47]\n",
       "cluster E1--><a href=\"psysml:8952aa40-03a2-4df7-81e1-750bf2c7b589\" target=\"_top\" title=\"psysml:8952aa40-03a2-4df7-81e1-750bf2c7b589\" xlink:actuate=\"onRequest\" xlink:href=\"psysml:8952aa40-03a2-4df7-81e1-750bf2c7b589\" xlink:show=\"new\" xlink:title=\"psysml:8952aa40-03a2-4df7-81e1-750bf2c7b589\" xlink:type=\"simple\"><polygon fill=\"#FFFFFF\" points=\"16,6,148,6,155,28.2969,532,28.2969,532,515,16,515,16,6\" style=\"stroke: #000000; stroke-width: 1.5;\"/><line style=\"stroke: #000000; stroke-width: 1.5;\" x1=\"16\" x2=\"155\" y1=\"28.2969\" y2=\"28.2969\"/><text fill=\"#000000\" font-family=\"sans-serif\" font-size=\"14\" font-weight=\"bold\" lengthAdjust=\"spacingAndGlyphs\" textLength=\"126\" x=\"20\" y=\"20.9951\">TradeStudyTest</text></a><!--MD5=[b4997ac47864f28c2f74865a473b2911]\n",
       "class E2--><a href=\"psysml:ba5002a0-783d-43b2-abfa-70b37f90804c\" target=\"_top\" title=\"psysml:ba5002a0-783d-43b2-abfa-70b37f90804c\" xlink:actuate=\"onRequest\" xlink:href=\"psysml:ba5002a0-783d-43b2-abfa-70b37f90804c\" xlink:show=\"new\" xlink:title=\"psysml:ba5002a0-783d-43b2-abfa-70b37f90804c\" xlink:type=\"simple\"><rect fill=\"#FFFFFF\" height=\"45.9375\" id=\"E2\" style=\"stroke: #383838; stroke-width: 1.5;\" width=\"66\" x=\"196\" y=\"453\"/><text fill=\"#000000\" font-family=\"sans-serif\" font-size=\"12\" font-style=\"italic\" lengthAdjust=\"spacingAndGlyphs\" textLength=\"64\" x=\"197\" y=\"469.1387\">«part def»</text><text fill=\"#000000\" font-family=\"sans-serif\" font-size=\"12\" lengthAdjust=\"spacingAndGlyphs\" textLength=\"43\" x=\"207.5\" y=\"483.1074\">Engine</text><line style=\"stroke: #383838; stroke-width: 1.5;\" x1=\"197\" x2=\"261\" y1=\"490.9375\" y2=\"490.9375\"/></a><!--MD5=[09b614a08d8cba4a07c9adeb5e0fee81]\n",
       "class E3--><a href=\"psysml:47ce73ab-2c54-4db4-9d19-7bcb338cdf44\" target=\"_top\" title=\"psysml:47ce73ab-2c54-4db4-9d19-7bcb338cdf44\" xlink:actuate=\"onRequest\" xlink:href=\"psysml:47ce73ab-2c54-4db4-9d19-7bcb338cdf44\" xlink:show=\"new\" xlink:title=\"psysml:47ce73ab-2c54-4db4-9d19-7bcb338cdf44\" xlink:type=\"simple\"><rect fill=\"#FFFFFF\" height=\"45.9375\" id=\"E3\" rx=\"10\" ry=\"10\" style=\"stroke: #383838; stroke-width: 1.5;\" width=\"108\" x=\"408\" y=\"346\"/><text fill=\"#000000\" font-family=\"sans-serif\" font-size=\"12\" font-style=\"italic\" lengthAdjust=\"spacingAndGlyphs\" textLength=\"40\" x=\"442\" y=\"362.1387\">«part»</text><text fill=\"#000000\" font-family=\"sans-serif\" font-size=\"12\" lengthAdjust=\"spacingAndGlyphs\" textLength=\"102\" x=\"411\" y=\"376.1074\">engine1: Engine</text><line style=\"stroke: #383838; stroke-width: 1.5;\" x1=\"409\" x2=\"515\" y1=\"383.9375\" y2=\"383.9375\"/></a><!--MD5=[ebbe1d658d1005bcc118a6aa81145e00]\n",
       "class E4--><a href=\"psysml:7dfdc806-8438-4ccb-bd71-8b6bdaa69ab8\" target=\"_top\" title=\"psysml:7dfdc806-8438-4ccb-bd71-8b6bdaa69ab8\" xlink:actuate=\"onRequest\" xlink:href=\"psysml:7dfdc806-8438-4ccb-bd71-8b6bdaa69ab8\" xlink:show=\"new\" xlink:title=\"psysml:7dfdc806-8438-4ccb-bd71-8b6bdaa69ab8\" xlink:type=\"simple\"><rect fill=\"#FFFFFF\" height=\"45.9375\" id=\"E4\" rx=\"10\" ry=\"10\" style=\"stroke: #383838; stroke-width: 1.5;\" width=\"108\" x=\"265\" y=\"346\"/><text fill=\"#000000\" font-family=\"sans-serif\" font-size=\"12\" font-style=\"italic\" lengthAdjust=\"spacingAndGlyphs\" textLength=\"40\" x=\"299\" y=\"362.1387\">«part»</text><text fill=\"#000000\" font-family=\"sans-serif\" font-size=\"12\" lengthAdjust=\"spacingAndGlyphs\" textLength=\"102\" x=\"268\" y=\"376.1074\">engine2: Engine</text><line style=\"stroke: #383838; stroke-width: 1.5;\" x1=\"266\" x2=\"372\" y1=\"383.9375\" y2=\"383.9375\"/></a><!--MD5=[270fce915f116d4de14055a7c1d9a0f3]\n",
       "class E5--><a href=\"psysml:cd38e840-8317-467c-8230-e0f8852492a9\" target=\"_top\" title=\"psysml:cd38e840-8317-467c-8230-e0f8852492a9\" xlink:actuate=\"onRequest\" xlink:href=\"psysml:cd38e840-8317-467c-8230-e0f8852492a9\" xlink:show=\"new\" xlink:title=\"psysml:cd38e840-8317-467c-8230-e0f8852492a9\" xlink:type=\"simple\"><rect fill=\"#FFFFFF\" height=\"45.9375\" id=\"E5\" rx=\"10\" ry=\"10\" style=\"stroke: #383838; stroke-width: 1.5;\" width=\"199\" x=\"237.5\" y=\"41\"/><text fill=\"#000000\" font-family=\"sans-serif\" font-size=\"12\" font-style=\"italic\" lengthAdjust=\"spacingAndGlyphs\" textLength=\"64\" x=\"305\" y=\"57.1387\">«analysis»</text><text fill=\"#000000\" font-family=\"sans-serif\" font-size=\"12\" lengthAdjust=\"spacingAndGlyphs\" textLength=\"193\" x=\"240.5\" y=\"71.1074\">engineTradeStudy: TradeStudy</text><line style=\"stroke: #383838; stroke-width: 1.5;\" x1=\"238.5\" x2=\"435.5\" y1=\"78.9375\" y2=\"78.9375\"/></a><!--MD5=[60a26617385b1d2d0262a64233df1f8d]\n",
       "class E6--><a href=\"psysml:bf1db205-ea64-42b3-a829-2093a93eb81c\" target=\"_top\" title=\"psysml:bf1db205-ea64-42b3-a829-2093a93eb81c\" xlink:actuate=\"onRequest\" xlink:href=\"psysml:bf1db205-ea64-42b3-a829-2093a93eb81c\" xlink:show=\"new\" xlink:title=\"psysml:bf1db205-ea64-42b3-a829-2093a93eb81c\" xlink:type=\"simple\"><rect fill=\"#FFFFFF\" height=\"45.9375\" id=\"E6\" rx=\"10\" ry=\"10\" style=\"stroke: #383838; stroke-width: 1.5;\" width=\"251\" x=\"76.5\" y=\"179\"/><text fill=\"#000000\" font-family=\"sans-serif\" font-size=\"12\" font-style=\"italic\" lengthAdjust=\"spacingAndGlyphs\" textLength=\"91\" x=\"156.5\" y=\"195.1387\">«requirement»</text><text fill=\"#000000\" font-family=\"sans-serif\" font-size=\"12\" lengthAdjust=\"spacingAndGlyphs\" textLength=\"245\" x=\"79.5\" y=\"209.1074\">tradeStudyObjective: MaximizeObjective</text><line style=\"stroke: #383838; stroke-width: 1.5;\" x1=\"77.5\" x2=\"326.5\" y1=\"216.9375\" y2=\"216.9375\"/></a><!--MD5=[2156ba9850f5573cc1fc38a6a4b2f02b]\n",
       "class E7--><a href=\"psysml:081fa6ee-8a6f-4292-82c4-f5eb64360f97\" target=\"_top\" title=\"psysml:081fa6ee-8a6f-4292-82c4-f5eb64360f97\" xlink:actuate=\"onRequest\" xlink:href=\"psysml:081fa6ee-8a6f-4292-82c4-f5eb64360f97\" xlink:show=\"new\" xlink:title=\"psysml:081fa6ee-8a6f-4292-82c4-f5eb64360f97\" xlink:type=\"simple\"><rect fill=\"#FFFFFF\" height=\"75.5469\" id=\"E7\" rx=\"10\" ry=\"10\" style=\"stroke: #383838; stroke-width: 1.5;\" width=\"116\" x=\"363\" y=\"164\"/><text fill=\"#000000\" font-family=\"sans-serif\" font-size=\"12\" font-style=\"italic\" lengthAdjust=\"spacingAndGlyphs\" textLength=\"82\" x=\"380\" y=\"180.1387\">«calculation»</text><text fill=\"#000000\" font-family=\"sans-serif\" font-size=\"12\" lengthAdjust=\"spacingAndGlyphs\" textLength=\"110\" x=\"366\" y=\"194.1074\">objectiveFunction</text><line style=\"stroke: #383838; stroke-width: 1.5;\" x1=\"364\" x2=\"478\" y1=\"201.9375\" y2=\"201.9375\"/><text fill=\"#000000\" font-family=\"sans-serif\" font-size=\"11\" lengthAdjust=\"spacingAndGlyphs\" textLength=\"65\" x=\"369\" y=\"232.9526\">result: Real</text><line style=\"stroke: #383838; stroke-width: 1.0;\" x1=\"364\" x2=\"393.5\" y1=\"216.3398\" y2=\"216.3398\"/><text fill=\"#000000\" font-family=\"sans-serif\" font-size=\"11\" lengthAdjust=\"spacingAndGlyphs\" textLength=\"55\" x=\"393.5\" y=\"219.6479\">attributes</text><line style=\"stroke: #383838; stroke-width: 1.0;\" x1=\"448.5\" x2=\"478\" y1=\"216.3398\" y2=\"216.3398\"/></a><!--MD5=[b9389687b975829384b498ac4b7476b2]\n",
       "class E8--><a href=\"psysml:dbdbccdb-5c16-4bd3-a501-4b1c7e9ddcab\" target=\"_top\" title=\"psysml:dbdbccdb-5c16-4bd3-a501-4b1c7e9ddcab\" xlink:actuate=\"onRequest\" xlink:href=\"psysml:dbdbccdb-5c16-4bd3-a501-4b1c7e9ddcab\" xlink:show=\"new\" xlink:title=\"psysml:dbdbccdb-5c16-4bd3-a501-4b1c7e9ddcab\" xlink:type=\"simple\"><rect fill=\"#FFFFFF\" height=\"45.9375\" id=\"E8\" rx=\"10\" ry=\"10\" style=\"stroke: #383838; stroke-width: 1.5;\" width=\"124\" x=\"69\" y=\"346\"/><text fill=\"#000000\" font-family=\"sans-serif\" font-size=\"12\" font-style=\"italic\" lengthAdjust=\"spacingAndGlyphs\" textLength=\"40\" x=\"111\" y=\"362.1387\">«part»</text><text fill=\"#000000\" font-family=\"sans-serif\" font-size=\"12\" lengthAdjust=\"spacingAndGlyphs\" textLength=\"118\" x=\"72\" y=\"376.1074\">alternative: Engine</text><line style=\"stroke: #383838; stroke-width: 1.5;\" x1=\"70\" x2=\"192\" y1=\"383.9375\" y2=\"383.9375\"/></a><!--MD5=[fd4143e9d270a159db93a4ea2a975926]\n",
       "class E9--><a href=\"psysml:b6df212f-8018-4500-9608-46bc28de5179\" target=\"_top\" title=\"psysml:b6df212f-8018-4500-9608-46bc28de5179\" xlink:actuate=\"onRequest\" xlink:href=\"psysml:b6df212f-8018-4500-9608-46bc28de5179\" xlink:show=\"new\" xlink:title=\"psysml:b6df212f-8018-4500-9608-46bc28de5179\" xlink:type=\"simple\"><rect fill=\"#FFFFFF\" height=\"45.9375\" id=\"E9\" rx=\"10\" ry=\"10\" style=\"stroke: #383838; stroke-width: 1.5;\" width=\"178\" x=\"289\" y=\"270\"/><text fill=\"#000000\" font-family=\"sans-serif\" font-size=\"12\" font-style=\"italic\" lengthAdjust=\"spacingAndGlyphs\" textLength=\"40\" x=\"358\" y=\"286.1387\">«part»</text><text fill=\"#000000\" font-family=\"sans-serif\" font-size=\"12\" lengthAdjust=\"spacingAndGlyphs\" textLength=\"172\" x=\"292\" y=\"300.1074\">selectedAlternative: Engine</text><line style=\"stroke: #383838; stroke-width: 1.5;\" x1=\"290\" x2=\"466\" y1=\"307.9375\" y2=\"307.9375\"/></a><!--MD5=[05d275557350bfb9b23a4ef7222b4c39]\n",
       "link E3 to E2--><a href=\"psysml:6a611645-87b6-456f-b99f-fe1a3075932c\" target=\"_top\" title=\"psysml:6a611645-87b6-456f-b99f-fe1a3075932c\" xlink:actuate=\"onRequest\" xlink:href=\"psysml:6a611645-87b6-456f-b99f-fe1a3075932c\" xlink:show=\"new\" xlink:title=\"psysml:6a611645-87b6-456f-b99f-fe1a3075932c\" xlink:type=\"simple\"><path d=\"M413.16,392.01 C374.25,409.54 319.95,434.01 280.39,451.84 \" fill=\"none\" id=\"E3-&gt;E2\" style=\"stroke: #383838; stroke-width: 1.0;\"/><polygon fill=\"#FFFFFF\" points=\"262.02,460.12,276.4666,445.9321,282.2183,458.696,262.02,460.12\" style=\"stroke: #383838; stroke-width: 1.0;\"/><ellipse cx=\"282.485\" cy=\"445.4137\" fill=\"#383838\" rx=\"2\" ry=\"2\" style=\"stroke: #383838; stroke-width: 1.0;\"/><ellipse cx=\"286.5934\" cy=\"454.5308\" fill=\"#383838\" rx=\"2\" ry=\"2\" style=\"stroke: #383838; stroke-width: 1.0;\"/></a><!--MD5=[185131fc0dcab0a4505a2ebe144e961b]\n",
       "link E4 to E2--><a href=\"psysml:c8f697e8-ebd5-44e8-8041-765052aa0dda\" target=\"_top\" title=\"psysml:c8f697e8-ebd5-44e8-8041-765052aa0dda\" xlink:actuate=\"onRequest\" xlink:href=\"psysml:c8f697e8-ebd5-44e8-8041-765052aa0dda\" xlink:show=\"new\" xlink:title=\"psysml:c8f697e8-ebd5-44e8-8041-765052aa0dda\" xlink:type=\"simple\"><path d=\"M300.13,392.01 C288.93,405.08 274.42,422.01 261.42,437.17 \" fill=\"none\" id=\"E4-&gt;E2\" style=\"stroke: #383838; stroke-width: 1.0;\"/><polygon fill=\"#FFFFFF\" points=\"248.15,452.66,255.1988,433.678,265.8291,442.7883,248.15,452.66\" style=\"stroke: #383838; stroke-width: 1.0;\"/><ellipse cx=\"260.4266\" cy=\"430.6515\" fill=\"#383838\" rx=\"2\" ry=\"2\" style=\"stroke: #383838; stroke-width: 1.0;\"/><ellipse cx=\"268.0196\" cy=\"437.1588\" fill=\"#383838\" rx=\"2\" ry=\"2\" style=\"stroke: #383838; stroke-width: 1.0;\"/></a><!--MD5=[15ebcb19ae302d9b601edb458606d402]\n",
       "link E5 to E2--><a href=\"psysml:2f46211a-dc33-450b-96f1-34c5430f413d\" target=\"_top\" title=\"psysml:2f46211a-dc33-450b-96f1-34c5430f413d\" xlink:actuate=\"onRequest\" xlink:href=\"psysml:2f46211a-dc33-450b-96f1-34c5430f413d\" xlink:show=\"new\" xlink:title=\"psysml:2f46211a-dc33-450b-96f1-34c5430f413d\" xlink:type=\"simple\"><path d=\"M274.96,87.09 C193.02,116.27 59,164 59,164 C59,164 51,346 51,346 C51,346 51,392 51,392 C51,392 139.06,433.06 191.31,457.42 \" fill=\"none\" id=\"E5-&gt;E2\" style=\"stroke: #383838; stroke-width: 1.0; stroke-dasharray: 7.0,7.0;\"/><polygon fill=\"#383838\" points=\"195.94,459.58,189.449,452.1728,191.4015,457.482,186.0922,459.4344,195.94,459.58\" style=\"stroke: #383838; stroke-width: 1.0;\"/><text fill=\"#000000\" font-family=\"sans-serif\" font-size=\"13\" lengthAdjust=\"spacingAndGlyphs\" textLength=\"62\" x=\"56\" y=\"297.5669\">«subject»</text></a><!--MD5=[9120cf2e5df3bff93db8f754bbbc09b4]\n",
       "link E5 to E6--><a href=\"psysml:285bfc51-142a-40f2-bdf1-cdd7141b9b55\" target=\"_top\" title=\"psysml:285bfc51-142a-40f2-bdf1-cdd7141b9b55\" xlink:actuate=\"onRequest\" xlink:href=\"psysml:285bfc51-142a-40f2-bdf1-cdd7141b9b55\" xlink:show=\"new\" xlink:title=\"psysml:285bfc51-142a-40f2-bdf1-cdd7141b9b55\" xlink:type=\"simple\"><path d=\"M315.01,87.15 C291.77,110.57 255.05,147.55 229.82,172.98 \" fill=\"none\" id=\"E5-&gt;E6\" style=\"stroke: #383838; stroke-width: 1.0;\"/><polygon fill=\"#383838\" points=\"223.98,178.86,231.7447,175.295,227.486,171.0685,223.98,178.86\" style=\"stroke: #383838; stroke-width: 1.0;\"/><text fill=\"#000000\" font-family=\"sans-serif\" font-size=\"13\" lengthAdjust=\"spacingAndGlyphs\" textLength=\"73\" x=\"282\" y=\"130.0669\">«objective»</text></a><!--MD5=[452b418e7f8a40397a49b8c0a78acc5b]\n",
       "reverse link E5 to E7--><a href=\"psysml:081fa6ee-8a6f-4292-82c4-f5eb64360f97\" target=\"_top\" title=\"psysml:081fa6ee-8a6f-4292-82c4-f5eb64360f97\" xlink:actuate=\"onRequest\" xlink:href=\"psysml:081fa6ee-8a6f-4292-82c4-f5eb64360f97\" xlink:show=\"new\" xlink:title=\"psysml:081fa6ee-8a6f-4292-82c4-f5eb64360f97\" xlink:type=\"simple\"><path d=\"M357.66,98.44 C369.92,118.3 385.5,143.52 398.13,163.97 \" fill=\"none\" id=\"E5&lt;-E7\" style=\"stroke: #383838; stroke-width: 1.0;\"/><polygon fill=\"#383838\" points=\"350.68,87.15,350.4252,94.3566,356.9795,97.3636,357.2342,90.157,350.68,87.15\" style=\"stroke: #383838; stroke-width: 1.0;\"/></a><!--MD5=[f1f3f9f2fc535e6147756cb86a7f2e32]\n",
       "link E8 to E2--><a href=\"psysml:143d7cb3-4d47-41f0-bb56-6d1ae515b029\" target=\"_top\" title=\"psysml:143d7cb3-4d47-41f0-bb56-6d1ae515b029\" xlink:actuate=\"onRequest\" xlink:href=\"psysml:143d7cb3-4d47-41f0-bb56-6d1ae515b029\" xlink:show=\"new\" xlink:title=\"psysml:143d7cb3-4d47-41f0-bb56-6d1ae515b029\" xlink:type=\"simple\"><path d=\"M151.54,392.01 C163.87,405.22 179.88,422.38 194.14,437.65 \" fill=\"none\" id=\"E8-&gt;E2\" style=\"stroke: #383838; stroke-width: 1.0;\"/><polygon fill=\"#FFFFFF\" points=\"208.15,452.66,190.0721,443.5393,200.3105,433.9907,208.15,452.66\" style=\"stroke: #383838; stroke-width: 1.0;\"/><ellipse cx=\"187.6471\" cy=\"438.0067\" fill=\"#383838\" rx=\"2\" ry=\"2\" style=\"stroke: #383838; stroke-width: 1.0;\"/><ellipse cx=\"194.9602\" cy=\"431.1863\" fill=\"#383838\" rx=\"2\" ry=\"2\" style=\"stroke: #383838; stroke-width: 1.0;\"/></a><!--MD5=[dc164f5e8a733ab456ef1add180e9e34]\n",
       "reverse link E7 to E8--><a href=\"psysml:dbdbccdb-5c16-4bd3-a501-4b1c7e9ddcab\" target=\"_top\" title=\"psysml:dbdbccdb-5c16-4bd3-a501-4b1c7e9ddcab\" xlink:actuate=\"onRequest\" xlink:href=\"psysml:dbdbccdb-5c16-4bd3-a501-4b1c7e9ddcab\" xlink:show=\"new\" xlink:title=\"psysml:dbdbccdb-5c16-4bd3-a501-4b1c7e9ddcab\" xlink:type=\"simple\"><path d=\"M350.9,237.13 C347.22,238.92 345,240 345,240 C345,240 272,270 272,270 C272,270 204.6,316.85 163,345.76 \" fill=\"none\" id=\"E7&lt;-E8\" style=\"stroke: #383838; stroke-width: 1.0;\"/><polygon fill=\"#FFFFFF\" points=\"362.63,231.42,355.4847,230.4482,351.8395,236.6702,358.9848,237.6419,362.63,231.42\" style=\"stroke: #383838; stroke-width: 1.0;\"/></a><!--MD5=[5c3bb36fe832a92c7f0e1807dd65209d]\n",
       "link E9 to E2--><a href=\"psysml:cb3e8ea7-f115-4f34-bcd9-dd1e6ba812b8\" target=\"_top\" title=\"psysml:cb3e8ea7-f115-4f34-bcd9-dd1e6ba812b8\" xlink:actuate=\"onRequest\" xlink:href=\"psysml:cb3e8ea7-f115-4f34-bcd9-dd1e6ba812b8\" xlink:show=\"new\" xlink:title=\"psysml:cb3e8ea7-f115-4f34-bcd9-dd1e6ba812b8\" xlink:type=\"simple\"><path d=\"M322.87,316.05 C287.44,330.23 248,346 248,346 C248,346 240.73,395.33 235.19,432.98 \" fill=\"none\" id=\"E9-&gt;E2\" style=\"stroke: #383838; stroke-width: 1.0;\"/><polygon fill=\"#FFFFFF\" points=\"232.27,452.82,228.1134,433.0028,241.964,435.0429,232.27,452.82\" style=\"stroke: #383838; stroke-width: 1.0;\"/><ellipse cx=\"230.9227\" cy=\"427.6551\" fill=\"#383838\" rx=\"2\" ry=\"2\" style=\"stroke: #383838; stroke-width: 1.0;\"/><ellipse cx=\"240.8159\" cy=\"429.1123\" fill=\"#383838\" rx=\"2\" ry=\"2\" style=\"stroke: #383838; stroke-width: 1.0;\"/></a><!--MD5=[9ae28de373ca99bb8a1b38d63370ca7e]\n",
       "reverse link E5 to E9--><a href=\"psysml:b6df212f-8018-4500-9608-46bc28de5179\" target=\"_top\" title=\"psysml:b6df212f-8018-4500-9608-46bc28de5179\" xlink:actuate=\"onRequest\" xlink:href=\"psysml:b6df212f-8018-4500-9608-46bc28de5179\" xlink:show=\"new\" xlink:title=\"psysml:b6df212f-8018-4500-9608-46bc28de5179\" xlink:type=\"simple\"><path d=\"M384.16,94.18 C431.35,123.38 497,164 497,164 C497,164 497,240 497,240 C497,240 460.9,255.77 428.47,269.95 \" fill=\"none\" id=\"E5&lt;-E9\" style=\"stroke: #383838; stroke-width: 1.0;\"/><polygon fill=\"#FFFFFF\" points=\"372.91,87.22,375.907,93.7788,383.114,93.5349,380.117,86.9761,372.91,87.22\" style=\"stroke: #383838; stroke-width: 1.0;\"/></a><!--MD5=[e2e9c9080fa73833b0ae3346277c81b8]\n",
       "@startuml\r\n",
       "skinparam linetype polyline\r\n",
       "skinparam monochrome true\r\n",
       "skinparam classbackgroundcolor white\r\n",
       "skinparam shadowing false\r\n",
       "skinparam wrapWidth 300\r\n",
       "hide circle\r\n",
       "\r\n",
       "package \"TradeStudyTest\" as E1  [[psysml:8952aa40-03a2-4df7-81e1-750bf2c7b589 ]]  {\r\n",
       "comp def \"Engine\" as E2  <<(T,blue)part def>> [[psysml:ba5002a0-783d-43b2-abfa-70b37f90804c ]] {\r\n",
       "}\r\n",
       "comp usage \"engine1: Engine\" as E3  <<(T,blue)part>> [[psysml:47ce73ab-2c54-4db4-9d19-7bcb338cdf44 ]] {\r\n",
       "}\r\n",
       "comp usage \"engine2: Engine\" as E4  <<(T,blue)part>> [[psysml:7dfdc806-8438-4ccb-bd71-8b6bdaa69ab8 ]] {\r\n",
       "}\r\n",
       "comp usage \"engineTradeStudy: TradeStudy\" as E5 <<analysis>> [[psysml:cd38e840-8317-467c-8230-e0f8852492a9 ]] {\r\n",
       "}\r\n",
       "comp usage \"tradeStudyObjective: MaximizeObjective\" as E6  <<(T,blue)requirement>> [[psysml:bf1db205-ea64-42b3-a829-2093a93eb81c ]] {\r\n",
       "}\r\n",
       "comp usage \"objectiveFunction\" as E7  <<(T,blue)calculation>> [[psysml:081fa6ee-8a6f-4292-82c4-f5eb64360f97 ]] {\r\n",
       "- - attributes - -\r\n",
       "result: Real\r\n",
       "}\r\n",
       "comp usage \"alternative: Engine\" as E8  <<(T,blue)part>> [[psysml:dbdbccdb-5c16-4bd3-a501-4b1c7e9ddcab ]] {\r\n",
       "}\r\n",
       "comp usage \"selectedAlternative: Engine\" as E9  <<(T,blue)part>> [[psysml:b6df212f-8018-4500-9608-46bc28de5179 ]] {\r\n",
       "}\r\n",
       "E3 - -:|> E2 [[psysml:6a611645-87b6-456f-b99f-fe1a3075932c ]] \r\n",
       "E4 - -:|> E2 [[psysml:c8f697e8-ebd5-44e8-8041-765052aa0dda ]] \r\n",
       "E5 ..> E2 [[psysml:2f46211a-dc33-450b-96f1-34c5430f413d ]] : <<subject>>\r\n",
       "E5 - ->> E6 [[psysml:285bfc51-142a-40f2-bdf1-cdd7141b9b55 ]] : <<objective>>\r\n",
       "E5 *- - E7 [[psysml:081fa6ee-8a6f-4292-82c4-f5eb64360f97 ]] \r\n",
       "E8 - -:|> E2 [[psysml:143d7cb3-4d47-41f0-bb56-6d1ae515b029 ]] \r\n",
       "E7 o- - E8 [[psysml:dbdbccdb-5c16-4bd3-a501-4b1c7e9ddcab ]] \r\n",
       "E9 - -:|> E2 [[psysml:cb3e8ea7-f115-4f34-bcd9-dd1e6ba812b8 ]] \r\n",
       "E5 o- - E9 [[psysml:b6df212f-8018-4500-9608-46bc28de5179 ]] \r\n",
       "}\r\n",
       "@enduml\r\n",
       "\n",
       "PlantUML version 1.2020.13(Sat Jun 13 12:26:38 UTC 2020)\n",
       "(EPL source distribution)\n",
       "Java Runtime: OpenJDK Runtime Environment\n",
       "JVM: OpenJDK 64-Bit Server VM\n",
       "Default Encoding: UTF-8\n",
       "Language: en\n",
       "Country: null\n",
       "--></g></svg>"
      ]
     },
     "execution_count": 15,
     "metadata": {},
     "output_type": "execute_result"
    }
   ],
   "source": [
    "%viz --style=\"POLYLINE\" --view=\"MIXED\" \"TradeStudyTest\""
   ]
  },
  {
   "cell_type": "code",
   "execution_count": 16,
   "id": "executive-character",
   "metadata": {
    "execution": {
     "iopub.execute_input": "2021-03-25T09:29:25.052180Z",
     "iopub.status.busy": "2021-03-25T09:29:25.051400Z",
     "iopub.status.idle": "2021-03-25T09:29:25.371878Z",
     "shell.execute_reply": "2021-03-25T09:29:25.370434Z"
    }
   },
   "outputs": [
    {
     "data": {
      "image/svg+xml": [
       "<?xml version=\"1.0\" encoding=\"UTF-8\" standalone=\"no\"?><svg xmlns=\"http://www.w3.org/2000/svg\" xmlns:xlink=\"http://www.w3.org/1999/xlink\" contentScriptType=\"application/ecmascript\" contentStyleType=\"text/css\" height=\"424px\" preserveAspectRatio=\"none\" style=\"width:1144px;height:424px;\" version=\"1.1\" viewBox=\"0 0 1144 424\" width=\"1144px\" zoomAndPan=\"magnify\"><defs/><g><!--MD5=[fbc87193dbaf4d95561dea2c320d4a47]\n",
       "cluster E1--><a href=\"psysml:8952aa40-03a2-4df7-81e1-750bf2c7b589\" target=\"_top\" title=\"psysml:8952aa40-03a2-4df7-81e1-750bf2c7b589\" xlink:actuate=\"onRequest\" xlink:href=\"psysml:8952aa40-03a2-4df7-81e1-750bf2c7b589\" xlink:show=\"new\" xlink:title=\"psysml:8952aa40-03a2-4df7-81e1-750bf2c7b589\" xlink:type=\"simple\"><polygon fill=\"#FFFFFF\" points=\"16,6,148,6,155,28.2969,1122,28.2969,1122,339,16,339,16,6\" style=\"stroke: #000000; stroke-width: 1.5;\"/><line style=\"stroke: #000000; stroke-width: 1.5;\" x1=\"16\" x2=\"155\" y1=\"28.2969\" y2=\"28.2969\"/><text fill=\"#000000\" font-family=\"sans-serif\" font-size=\"14\" font-weight=\"bold\" lengthAdjust=\"spacingAndGlyphs\" textLength=\"126\" x=\"20\" y=\"20.9951\">TradeStudyTest</text></a><!--MD5=[b4997ac47864f28c2f74865a473b2911]\n",
       "class E2--><a href=\"psysml:ba5002a0-783d-43b2-abfa-70b37f90804c\" target=\"_top\" title=\"psysml:ba5002a0-783d-43b2-abfa-70b37f90804c\" xlink:actuate=\"onRequest\" xlink:href=\"psysml:ba5002a0-783d-43b2-abfa-70b37f90804c\" xlink:show=\"new\" xlink:title=\"psysml:ba5002a0-783d-43b2-abfa-70b37f90804c\" xlink:type=\"simple\"><rect fill=\"#FFFFFF\" height=\"45.9375\" id=\"E2\" style=\"stroke: #383838; stroke-width: 1.5;\" width=\"66\" x=\"1040\" y=\"181\"/><text fill=\"#000000\" font-family=\"sans-serif\" font-size=\"12\" font-style=\"italic\" lengthAdjust=\"spacingAndGlyphs\" textLength=\"64\" x=\"1041\" y=\"197.1387\">«part def»</text><text fill=\"#000000\" font-family=\"sans-serif\" font-size=\"12\" lengthAdjust=\"spacingAndGlyphs\" textLength=\"43\" x=\"1051.5\" y=\"211.1074\">Engine</text><line style=\"stroke: #383838; stroke-width: 1.5;\" x1=\"1041\" x2=\"1105\" y1=\"218.9375\" y2=\"218.9375\"/></a><!--MD5=[09b614a08d8cba4a07c9adeb5e0fee81]\n",
       "class E3--><a href=\"psysml:47ce73ab-2c54-4db4-9d19-7bcb338cdf44\" target=\"_top\" title=\"psysml:47ce73ab-2c54-4db4-9d19-7bcb338cdf44\" xlink:actuate=\"onRequest\" xlink:href=\"psysml:47ce73ab-2c54-4db4-9d19-7bcb338cdf44\" xlink:show=\"new\" xlink:title=\"psysml:47ce73ab-2c54-4db4-9d19-7bcb338cdf44\" xlink:type=\"simple\"><rect fill=\"#FFFFFF\" height=\"45.9375\" id=\"E3\" rx=\"10\" ry=\"10\" style=\"stroke: #383838; stroke-width: 1.5;\" width=\"108\" x=\"863\" y=\"41\"/><text fill=\"#000000\" font-family=\"sans-serif\" font-size=\"12\" font-style=\"italic\" lengthAdjust=\"spacingAndGlyphs\" textLength=\"40\" x=\"897\" y=\"57.1387\">«part»</text><text fill=\"#000000\" font-family=\"sans-serif\" font-size=\"12\" lengthAdjust=\"spacingAndGlyphs\" textLength=\"102\" x=\"866\" y=\"71.1074\">engine1: Engine</text><line style=\"stroke: #383838; stroke-width: 1.5;\" x1=\"864\" x2=\"970\" y1=\"78.9375\" y2=\"78.9375\"/></a><!--MD5=[ebbe1d658d1005bcc118a6aa81145e00]\n",
       "class E4--><a href=\"psysml:7dfdc806-8438-4ccb-bd71-8b6bdaa69ab8\" target=\"_top\" title=\"psysml:7dfdc806-8438-4ccb-bd71-8b6bdaa69ab8\" xlink:actuate=\"onRequest\" xlink:href=\"psysml:7dfdc806-8438-4ccb-bd71-8b6bdaa69ab8\" xlink:show=\"new\" xlink:title=\"psysml:7dfdc806-8438-4ccb-bd71-8b6bdaa69ab8\" xlink:type=\"simple\"><rect fill=\"#FFFFFF\" height=\"45.9375\" id=\"E4\" rx=\"10\" ry=\"10\" style=\"stroke: #383838; stroke-width: 1.5;\" width=\"108\" x=\"863\" y=\"122\"/><text fill=\"#000000\" font-family=\"sans-serif\" font-size=\"12\" font-style=\"italic\" lengthAdjust=\"spacingAndGlyphs\" textLength=\"40\" x=\"897\" y=\"138.1387\">«part»</text><text fill=\"#000000\" font-family=\"sans-serif\" font-size=\"12\" lengthAdjust=\"spacingAndGlyphs\" textLength=\"102\" x=\"866\" y=\"152.1074\">engine2: Engine</text><line style=\"stroke: #383838; stroke-width: 1.5;\" x1=\"864\" x2=\"970\" y1=\"159.9375\" y2=\"159.9375\"/></a><!--MD5=[270fce915f116d4de14055a7c1d9a0f3]\n",
       "class E5--><a href=\"psysml:cd38e840-8317-467c-8230-e0f8852492a9\" target=\"_top\" title=\"psysml:cd38e840-8317-467c-8230-e0f8852492a9\" xlink:actuate=\"onRequest\" xlink:href=\"psysml:cd38e840-8317-467c-8230-e0f8852492a9\" xlink:show=\"new\" xlink:title=\"psysml:cd38e840-8317-467c-8230-e0f8852492a9\" xlink:type=\"simple\"><rect fill=\"#FFFFFF\" height=\"45.9375\" id=\"E5\" rx=\"10\" ry=\"10\" style=\"stroke: #383838; stroke-width: 1.5;\" width=\"199\" x=\"32\" y=\"167\"/><text fill=\"#000000\" font-family=\"sans-serif\" font-size=\"12\" font-style=\"italic\" lengthAdjust=\"spacingAndGlyphs\" textLength=\"64\" x=\"99.5\" y=\"183.1387\">«analysis»</text><text fill=\"#000000\" font-family=\"sans-serif\" font-size=\"12\" lengthAdjust=\"spacingAndGlyphs\" textLength=\"193\" x=\"35\" y=\"197.1074\">engineTradeStudy: TradeStudy</text><line style=\"stroke: #383838; stroke-width: 1.5;\" x1=\"33\" x2=\"230\" y1=\"204.9375\" y2=\"204.9375\"/></a><!--MD5=[60a26617385b1d2d0262a64233df1f8d]\n",
       "class E6--><a href=\"psysml:bf1db205-ea64-42b3-a829-2093a93eb81c\" target=\"_top\" title=\"psysml:bf1db205-ea64-42b3-a829-2093a93eb81c\" xlink:actuate=\"onRequest\" xlink:href=\"psysml:bf1db205-ea64-42b3-a829-2093a93eb81c\" xlink:show=\"new\" xlink:title=\"psysml:bf1db205-ea64-42b3-a829-2093a93eb81c\" xlink:type=\"simple\"><rect fill=\"#FFFFFF\" height=\"45.9375\" id=\"E6\" rx=\"10\" ry=\"10\" style=\"stroke: #383838; stroke-width: 1.5;\" width=\"251\" x=\"366\" y=\"206\"/><text fill=\"#000000\" font-family=\"sans-serif\" font-size=\"12\" font-style=\"italic\" lengthAdjust=\"spacingAndGlyphs\" textLength=\"91\" x=\"446\" y=\"222.1387\">«requirement»</text><text fill=\"#000000\" font-family=\"sans-serif\" font-size=\"12\" lengthAdjust=\"spacingAndGlyphs\" textLength=\"245\" x=\"369\" y=\"236.1074\">tradeStudyObjective: MaximizeObjective</text><line style=\"stroke: #383838; stroke-width: 1.5;\" x1=\"367\" x2=\"616\" y1=\"243.9375\" y2=\"243.9375\"/></a><!--MD5=[2156ba9850f5573cc1fc38a6a4b2f02b]\n",
       "class E7--><a href=\"psysml:081fa6ee-8a6f-4292-82c4-f5eb64360f97\" target=\"_top\" title=\"psysml:081fa6ee-8a6f-4292-82c4-f5eb64360f97\" xlink:actuate=\"onRequest\" xlink:href=\"psysml:081fa6ee-8a6f-4292-82c4-f5eb64360f97\" xlink:show=\"new\" xlink:title=\"psysml:081fa6ee-8a6f-4292-82c4-f5eb64360f97\" xlink:type=\"simple\"><rect fill=\"#FFFFFF\" height=\"75.5469\" id=\"E7\" rx=\"10\" ry=\"10\" style=\"stroke: #383838; stroke-width: 1.5;\" width=\"116\" x=\"433.5\" y=\"95\"/><text fill=\"#000000\" font-family=\"sans-serif\" font-size=\"12\" font-style=\"italic\" lengthAdjust=\"spacingAndGlyphs\" textLength=\"82\" x=\"450.5\" y=\"111.1387\">«calculation»</text><text fill=\"#000000\" font-family=\"sans-serif\" font-size=\"12\" lengthAdjust=\"spacingAndGlyphs\" textLength=\"110\" x=\"436.5\" y=\"125.1074\">objectiveFunction</text><line style=\"stroke: #383838; stroke-width: 1.5;\" x1=\"434.5\" x2=\"548.5\" y1=\"132.9375\" y2=\"132.9375\"/><text fill=\"#000000\" font-family=\"sans-serif\" font-size=\"11\" lengthAdjust=\"spacingAndGlyphs\" textLength=\"65\" x=\"439.5\" y=\"163.9526\">result: Real</text><line style=\"stroke: #383838; stroke-width: 1.0;\" x1=\"434.5\" x2=\"464\" y1=\"147.3398\" y2=\"147.3398\"/><text fill=\"#000000\" font-family=\"sans-serif\" font-size=\"11\" lengthAdjust=\"spacingAndGlyphs\" textLength=\"55\" x=\"464\" y=\"150.6479\">attributes</text><line style=\"stroke: #383838; stroke-width: 1.0;\" x1=\"519\" x2=\"548.5\" y1=\"147.3398\" y2=\"147.3398\"/></a><!--MD5=[b9389687b975829384b498ac4b7476b2]\n",
       "class E8--><a href=\"psysml:dbdbccdb-5c16-4bd3-a501-4b1c7e9ddcab\" target=\"_top\" title=\"psysml:dbdbccdb-5c16-4bd3-a501-4b1c7e9ddcab\" xlink:actuate=\"onRequest\" xlink:href=\"psysml:dbdbccdb-5c16-4bd3-a501-4b1c7e9ddcab\" xlink:show=\"new\" xlink:title=\"psysml:dbdbccdb-5c16-4bd3-a501-4b1c7e9ddcab\" xlink:type=\"simple\"><rect fill=\"#FFFFFF\" height=\"45.9375\" id=\"E8\" rx=\"10\" ry=\"10\" style=\"stroke: #383838; stroke-width: 1.5;\" width=\"124\" x=\"855\" y=\"240\"/><text fill=\"#000000\" font-family=\"sans-serif\" font-size=\"12\" font-style=\"italic\" lengthAdjust=\"spacingAndGlyphs\" textLength=\"40\" x=\"897\" y=\"256.1387\">«part»</text><text fill=\"#000000\" font-family=\"sans-serif\" font-size=\"12\" lengthAdjust=\"spacingAndGlyphs\" textLength=\"118\" x=\"858\" y=\"270.1074\">alternative: Engine</text><line style=\"stroke: #383838; stroke-width: 1.5;\" x1=\"856\" x2=\"978\" y1=\"277.9375\" y2=\"277.9375\"/></a><!--MD5=[fd4143e9d270a159db93a4ea2a975926]\n",
       "class E9--><a href=\"psysml:b6df212f-8018-4500-9608-46bc28de5179\" target=\"_top\" title=\"psysml:b6df212f-8018-4500-9608-46bc28de5179\" xlink:actuate=\"onRequest\" xlink:href=\"psysml:b6df212f-8018-4500-9608-46bc28de5179\" xlink:show=\"new\" xlink:title=\"psysml:b6df212f-8018-4500-9608-46bc28de5179\" xlink:type=\"simple\"><rect fill=\"#FFFFFF\" height=\"45.9375\" id=\"E9\" rx=\"10\" ry=\"10\" style=\"stroke: #383838; stroke-width: 1.5;\" width=\"178\" x=\"647\" y=\"111\"/><text fill=\"#000000\" font-family=\"sans-serif\" font-size=\"12\" font-style=\"italic\" lengthAdjust=\"spacingAndGlyphs\" textLength=\"40\" x=\"716\" y=\"127.1387\">«part»</text><text fill=\"#000000\" font-family=\"sans-serif\" font-size=\"12\" lengthAdjust=\"spacingAndGlyphs\" textLength=\"172\" x=\"650\" y=\"141.1074\">selectedAlternative: Engine</text><line style=\"stroke: #383838; stroke-width: 1.5;\" x1=\"648\" x2=\"824\" y1=\"148.9375\" y2=\"148.9375\"/></a><!--MD5=[05d275557350bfb9b23a4ef7222b4c39]\n",
       "link E3 to E2--><a href=\"psysml:6a611645-87b6-456f-b99f-fe1a3075932c\" target=\"_top\" title=\"psysml:6a611645-87b6-456f-b99f-fe1a3075932c\" xlink:actuate=\"onRequest\" xlink:href=\"psysml:6a611645-87b6-456f-b99f-fe1a3075932c\" xlink:show=\"new\" xlink:title=\"psysml:6a611645-87b6-456f-b99f-fe1a3075932c\" xlink:type=\"simple\"><path d=\"M956.44,87.18 C964.16,92.39 972.03,98.12 979,104 C1000.94,122.52 1022.93,145.9 1040.02,165.39 \" fill=\"none\" id=\"E3-&gt;E2\" style=\"stroke: #383838; stroke-width: 1.0;\"/><polygon fill=\"#FFFFFF\" points=\"1053.11,180.66,1035.4309,170.7883,1046.0612,161.678,1053.11,180.66\" style=\"stroke: #383838; stroke-width: 1.0;\"/><ellipse cx=\"1033.2404\" cy=\"165.1588\" fill=\"#383838\" rx=\"2\" ry=\"2\" style=\"stroke: #383838; stroke-width: 1.0;\"/><ellipse cx=\"1040.8334\" cy=\"158.6515\" fill=\"#383838\" rx=\"2\" ry=\"2\" style=\"stroke: #383838; stroke-width: 1.0;\"/></a><!--MD5=[185131fc0dcab0a4505a2ebe144e961b]\n",
       "link E4 to E2--><a href=\"psysml:c8f697e8-ebd5-44e8-8041-765052aa0dda\" target=\"_top\" title=\"psysml:c8f697e8-ebd5-44e8-8041-765052aa0dda\" xlink:actuate=\"onRequest\" xlink:href=\"psysml:c8f697e8-ebd5-44e8-8041-765052aa0dda\" xlink:show=\"new\" xlink:title=\"psysml:c8f697e8-ebd5-44e8-8041-765052aa0dda\" xlink:type=\"simple\"><path d=\"M971.43,165.47 C987.52,171.64 1005.13,178.39 1021.06,184.49 \" fill=\"none\" id=\"E4-&gt;E2\" style=\"stroke: #383838; stroke-width: 1.0;\"/><polygon fill=\"#FFFFFF\" points=\"1039.76,191.65,1019.5133,191.3857,1024.5242,178.3132,1039.76,191.65\" style=\"stroke: #383838; stroke-width: 1.0;\"/><ellipse cx=\"1014.9067\" cy=\"187.478\" fill=\"#383838\" rx=\"2\" ry=\"2\" style=\"stroke: #383838; stroke-width: 1.0;\"/><ellipse cx=\"1018.486\" cy=\"178.1405\" fill=\"#383838\" rx=\"2\" ry=\"2\" style=\"stroke: #383838; stroke-width: 1.0;\"/></a><!--MD5=[15ebcb19ae302d9b601edb458606d402]\n",
       "link E5 to E2--><a href=\"psysml:2f46211a-dc33-450b-96f1-34c5430f413d\" target=\"_top\" title=\"psysml:2f46211a-dc33-450b-96f1-34c5430f413d\" xlink:actuate=\"onRequest\" xlink:href=\"psysml:2f46211a-dc33-450b-96f1-34c5430f413d\" xlink:show=\"new\" xlink:title=\"psysml:2f46211a-dc33-450b-96f1-34c5430f413d\" xlink:type=\"simple\"><path d=\"M187.55,213.08 C234.18,231.55 303.28,256.37 366,269 C633.51,322.91 728.82,412.99 979,304 C1012.76,289.3 1039.79,255.62 1055.83,231.41 \" fill=\"none\" id=\"E5-&gt;E2\" style=\"stroke: #383838; stroke-width: 1.0; stroke-dasharray: 7.0,7.0;\"/><polygon fill=\"#383838\" points=\"1058.7,227.01,1050.4426,232.378,1055.9761,231.2029,1057.1512,236.7363,1058.7,227.01\" style=\"stroke: #383838; stroke-width: 1.0;\"/><text fill=\"#000000\" font-family=\"sans-serif\" font-size=\"13\" lengthAdjust=\"spacingAndGlyphs\" textLength=\"62\" x=\"705\" y=\"337.0669\">«subject»</text></a><!--MD5=[9120cf2e5df3bff93db8f754bbbc09b4]\n",
       "link E5 to E6--><a href=\"psysml:285bfc51-142a-40f2-bdf1-cdd7141b9b55\" target=\"_top\" title=\"psysml:285bfc51-142a-40f2-bdf1-cdd7141b9b55\" xlink:actuate=\"onRequest\" xlink:href=\"psysml:285bfc51-142a-40f2-bdf1-cdd7141b9b55\" xlink:show=\"new\" xlink:title=\"psysml:285bfc51-142a-40f2-bdf1-cdd7141b9b55\" xlink:type=\"simple\"><path d=\"M231.27,200.76 C270.35,205.02 315.87,209.98 357.75,214.54 \" fill=\"none\" id=\"E5-&gt;E6\" style=\"stroke: #383838; stroke-width: 1.0;\"/><polygon fill=\"#383838\" points=\"365.81,215.42,358.1841,211.5669,357.531,217.5313,365.81,215.42\" style=\"stroke: #383838; stroke-width: 1.0;\"/><text fill=\"#000000\" font-family=\"sans-serif\" font-size=\"13\" lengthAdjust=\"spacingAndGlyphs\" textLength=\"73\" x=\"262\" y=\"201.0669\">«objective»</text></a><!--MD5=[452b418e7f8a40397a49b8c0a78acc5b]\n",
       "reverse link E5 to E7--><a href=\"psysml:081fa6ee-8a6f-4292-82c4-f5eb64360f97\" target=\"_top\" title=\"psysml:081fa6ee-8a6f-4292-82c4-f5eb64360f97\" xlink:actuate=\"onRequest\" xlink:href=\"psysml:081fa6ee-8a6f-4292-82c4-f5eb64360f97\" xlink:show=\"new\" xlink:title=\"psysml:081fa6ee-8a6f-4292-82c4-f5eb64360f97\" xlink:type=\"simple\"><path d=\"M244.44,172.18 C307.13,162.2 382.64,150.18 433.34,142.11 \" fill=\"none\" id=\"E5&lt;-E7\" style=\"stroke: #383838; stroke-width: 1.0;\"/><polygon fill=\"#383838\" points=\"231.27,174.28,237.8239,177.2878,243.121,172.3949,236.5671,169.3871,231.27,174.28\" style=\"stroke: #383838; stroke-width: 1.0;\"/></a><!--MD5=[f1f3f9f2fc535e6147756cb86a7f2e32]\n",
       "link E8 to E2--><a href=\"psysml:143d7cb3-4d47-41f0-bb56-6d1ae515b029\" target=\"_top\" title=\"psysml:143d7cb3-4d47-41f0-bb56-6d1ae515b029\" xlink:actuate=\"onRequest\" xlink:href=\"psysml:143d7cb3-4d47-41f0-bb56-6d1ae515b029\" xlink:show=\"new\" xlink:title=\"psysml:143d7cb3-4d47-41f0-bb56-6d1ae515b029\" xlink:type=\"simple\"><path d=\"M978.42,239.85 C992.46,234.48 1007.28,228.8 1020.87,223.59 \" fill=\"none\" id=\"E8-&gt;E2\" style=\"stroke: #383838; stroke-width: 1.0;\"/><polygon fill=\"#FFFFFF\" points=\"1039.69,216.38,1024.4508,229.7129,1019.4432,216.6392,1039.69,216.38\" style=\"stroke: #383838; stroke-width: 1.0;\"/><ellipse cx=\"1018.4125\" cy=\"229.8841\" fill=\"#383838\" rx=\"2\" ry=\"2\" style=\"stroke: #383838; stroke-width: 1.0;\"/><ellipse cx=\"1014.8357\" cy=\"220.5457\" fill=\"#383838\" rx=\"2\" ry=\"2\" style=\"stroke: #383838; stroke-width: 1.0;\"/></a><!--MD5=[dc164f5e8a733ab456ef1add180e9e34]\n",
       "reverse link E7 to E8--><a href=\"psysml:dbdbccdb-5c16-4bd3-a501-4b1c7e9ddcab\" target=\"_top\" title=\"psysml:dbdbccdb-5c16-4bd3-a501-4b1c7e9ddcab\" xlink:actuate=\"onRequest\" xlink:href=\"psysml:dbdbccdb-5c16-4bd3-a501-4b1c7e9ddcab\" xlink:show=\"new\" xlink:title=\"psysml:dbdbccdb-5c16-4bd3-a501-4b1c7e9ddcab\" xlink:type=\"simple\"><path d=\"M562.22,154.41 C643.63,179.4 777.02,220.34 854.65,244.17 \" fill=\"none\" id=\"E7&lt;-E8\" style=\"stroke: #383838; stroke-width: 1.0;\"/><polygon fill=\"#FFFFFF\" points=\"549.62,150.54,554.1824,156.1243,561.0919,154.0607,556.5295,148.4764,549.62,150.54\" style=\"stroke: #383838; stroke-width: 1.0;\"/></a><!--MD5=[5c3bb36fe832a92c7f0e1807dd65209d]\n",
       "link E9 to E2--><a href=\"psysml:cb3e8ea7-f115-4f34-bcd9-dd1e6ba812b8\" target=\"_top\" title=\"psysml:cb3e8ea7-f115-4f34-bcd9-dd1e6ba812b8\" xlink:actuate=\"onRequest\" xlink:href=\"psysml:cb3e8ea7-f115-4f34-bcd9-dd1e6ba812b8\" xlink:show=\"new\" xlink:title=\"psysml:cb3e8ea7-f115-4f34-bcd9-dd1e6ba812b8\" xlink:type=\"simple\"><path d=\"M781.2,157.12 C802.86,167.4 829.68,178.6 855,185 C910.14,198.95 975.38,203.06 1019.83,204.09 \" fill=\"none\" id=\"E9-&gt;E2\" style=\"stroke: #383838; stroke-width: 1.0;\"/><polygon fill=\"#FFFFFF\" points=\"1039.84,204.37,1020.7419,211.0979,1020.9419,197.0993,1039.84,204.37\" style=\"stroke: #383838; stroke-width: 1.0;\"/><ellipse cx=\"1015.0711\" cy=\"209.0167\" fill=\"#383838\" rx=\"2\" ry=\"2\" style=\"stroke: #383838; stroke-width: 1.0;\"/><ellipse cx=\"1015.2139\" cy=\"199.0177\" fill=\"#383838\" rx=\"2\" ry=\"2\" style=\"stroke: #383838; stroke-width: 1.0;\"/></a><!--MD5=[9ae28de373ca99bb8a1b38d63370ca7e]\n",
       "reverse link E5 to E9--><a href=\"psysml:b6df212f-8018-4500-9608-46bc28de5179\" target=\"_top\" title=\"psysml:b6df212f-8018-4500-9608-46bc28de5179\" xlink:actuate=\"onRequest\" xlink:href=\"psysml:b6df212f-8018-4500-9608-46bc28de5179\" xlink:show=\"new\" xlink:title=\"psysml:b6df212f-8018-4500-9608-46bc28de5179\" xlink:type=\"simple\"><path d=\"M178.67,159.87 C224.17,132.11 296.75,92.88 366,77 C474.73,52.08 508.26,52.12 617,77 C645.83,83.6 675.81,98.2 698.34,110.97 \" fill=\"none\" id=\"E5&lt;-E9\" style=\"stroke: #383838; stroke-width: 1.0;\"/><polygon fill=\"#FFFFFF\" points=\"167.42,166.84,174.6272,167.0772,177.6181,160.5156,170.4109,160.2784,167.42,166.84\" style=\"stroke: #383838; stroke-width: 1.0;\"/></a><!--MD5=[1d8647ea2da450f4a5a19f9319b5630d]\n",
       "@startuml\r\n",
       "left to right direction\r\n",
       "skinparam monochrome true\r\n",
       "skinparam classbackgroundcolor white\r\n",
       "skinparam shadowing false\r\n",
       "skinparam wrapWidth 300\r\n",
       "hide circle\r\n",
       "\r\n",
       "package \"TradeStudyTest\" as E1  [[psysml:8952aa40-03a2-4df7-81e1-750bf2c7b589 ]]  {\r\n",
       "comp def \"Engine\" as E2  <<(T,blue)part def>> [[psysml:ba5002a0-783d-43b2-abfa-70b37f90804c ]] {\r\n",
       "}\r\n",
       "comp usage \"engine1: Engine\" as E3  <<(T,blue)part>> [[psysml:47ce73ab-2c54-4db4-9d19-7bcb338cdf44 ]] {\r\n",
       "}\r\n",
       "comp usage \"engine2: Engine\" as E4  <<(T,blue)part>> [[psysml:7dfdc806-8438-4ccb-bd71-8b6bdaa69ab8 ]] {\r\n",
       "}\r\n",
       "comp usage \"engineTradeStudy: TradeStudy\" as E5 <<analysis>> [[psysml:cd38e840-8317-467c-8230-e0f8852492a9 ]] {\r\n",
       "}\r\n",
       "comp usage \"tradeStudyObjective: MaximizeObjective\" as E6  <<(T,blue)requirement>> [[psysml:bf1db205-ea64-42b3-a829-2093a93eb81c ]] {\r\n",
       "}\r\n",
       "comp usage \"objectiveFunction\" as E7  <<(T,blue)calculation>> [[psysml:081fa6ee-8a6f-4292-82c4-f5eb64360f97 ]] {\r\n",
       "- - attributes - -\r\n",
       "result: Real\r\n",
       "}\r\n",
       "comp usage \"alternative: Engine\" as E8  <<(T,blue)part>> [[psysml:dbdbccdb-5c16-4bd3-a501-4b1c7e9ddcab ]] {\r\n",
       "}\r\n",
       "comp usage \"selectedAlternative: Engine\" as E9  <<(T,blue)part>> [[psysml:b6df212f-8018-4500-9608-46bc28de5179 ]] {\r\n",
       "}\r\n",
       "E3 - -:|> E2 [[psysml:6a611645-87b6-456f-b99f-fe1a3075932c ]] \r\n",
       "E4 - -:|> E2 [[psysml:c8f697e8-ebd5-44e8-8041-765052aa0dda ]] \r\n",
       "E5 ..> E2 [[psysml:2f46211a-dc33-450b-96f1-34c5430f413d ]] : <<subject>>\r\n",
       "E5 - ->> E6 [[psysml:285bfc51-142a-40f2-bdf1-cdd7141b9b55 ]] : <<objective>>\r\n",
       "E5 *- - E7 [[psysml:081fa6ee-8a6f-4292-82c4-f5eb64360f97 ]] \r\n",
       "E8 - -:|> E2 [[psysml:143d7cb3-4d47-41f0-bb56-6d1ae515b029 ]] \r\n",
       "E7 o- - E8 [[psysml:dbdbccdb-5c16-4bd3-a501-4b1c7e9ddcab ]] \r\n",
       "E9 - -:|> E2 [[psysml:cb3e8ea7-f115-4f34-bcd9-dd1e6ba812b8 ]] \r\n",
       "E5 o- - E9 [[psysml:b6df212f-8018-4500-9608-46bc28de5179 ]] \r\n",
       "}\r\n",
       "@enduml\r\n",
       "\n",
       "PlantUML version 1.2020.13(Sat Jun 13 12:26:38 UTC 2020)\n",
       "(EPL source distribution)\n",
       "Java Runtime: OpenJDK Runtime Environment\n",
       "JVM: OpenJDK 64-Bit Server VM\n",
       "Default Encoding: UTF-8\n",
       "Language: en\n",
       "Country: null\n",
       "--></g></svg>"
      ]
     },
     "execution_count": 16,
     "metadata": {},
     "output_type": "execute_result"
    }
   ],
   "source": [
    "%viz --style=\"LR\" --view=\"Default\" \"TradeStudyTest\""
   ]
  },
  {
   "cell_type": "code",
   "execution_count": 17,
   "id": "legitimate-spending",
   "metadata": {
    "execution": {
     "iopub.execute_input": "2021-03-25T09:29:25.423827Z",
     "iopub.status.busy": "2021-03-25T09:29:25.422608Z",
     "iopub.status.idle": "2021-03-25T09:29:25.737448Z",
     "shell.execute_reply": "2021-03-25T09:29:25.735865Z"
    }
   },
   "outputs": [
    {
     "data": {
      "image/svg+xml": [
       "<?xml version=\"1.0\" encoding=\"UTF-8\" standalone=\"no\"?><svg xmlns=\"http://www.w3.org/2000/svg\" xmlns:xlink=\"http://www.w3.org/1999/xlink\" contentScriptType=\"application/ecmascript\" contentStyleType=\"text/css\" height=\"424px\" preserveAspectRatio=\"none\" style=\"width:1144px;height:424px;\" version=\"1.1\" viewBox=\"0 0 1144 424\" width=\"1144px\" zoomAndPan=\"magnify\"><defs/><g><!--MD5=[fbc87193dbaf4d95561dea2c320d4a47]\n",
       "cluster E1--><a href=\"psysml:8952aa40-03a2-4df7-81e1-750bf2c7b589\" target=\"_top\" title=\"psysml:8952aa40-03a2-4df7-81e1-750bf2c7b589\" xlink:actuate=\"onRequest\" xlink:href=\"psysml:8952aa40-03a2-4df7-81e1-750bf2c7b589\" xlink:show=\"new\" xlink:title=\"psysml:8952aa40-03a2-4df7-81e1-750bf2c7b589\" xlink:type=\"simple\"><polygon fill=\"#FFFFFF\" points=\"16,6,148,6,155,28.2969,1122,28.2969,1122,339,16,339,16,6\" style=\"stroke: #000000; stroke-width: 1.5;\"/><line style=\"stroke: #000000; stroke-width: 1.5;\" x1=\"16\" x2=\"155\" y1=\"28.2969\" y2=\"28.2969\"/><text fill=\"#000000\" font-family=\"sans-serif\" font-size=\"14\" font-weight=\"bold\" lengthAdjust=\"spacingAndGlyphs\" textLength=\"126\" x=\"20\" y=\"20.9951\">TradeStudyTest</text></a><!--MD5=[b4997ac47864f28c2f74865a473b2911]\n",
       "class E2--><a href=\"psysml:ba5002a0-783d-43b2-abfa-70b37f90804c\" target=\"_top\" title=\"psysml:ba5002a0-783d-43b2-abfa-70b37f90804c\" xlink:actuate=\"onRequest\" xlink:href=\"psysml:ba5002a0-783d-43b2-abfa-70b37f90804c\" xlink:show=\"new\" xlink:title=\"psysml:ba5002a0-783d-43b2-abfa-70b37f90804c\" xlink:type=\"simple\"><rect fill=\"#FFFFFF\" height=\"45.9375\" id=\"E2\" style=\"stroke: #383838; stroke-width: 1.5;\" width=\"66\" x=\"1040\" y=\"181\"/><text fill=\"#000000\" font-family=\"sans-serif\" font-size=\"12\" font-style=\"italic\" lengthAdjust=\"spacingAndGlyphs\" textLength=\"64\" x=\"1041\" y=\"197.1387\">«part def»</text><text fill=\"#000000\" font-family=\"sans-serif\" font-size=\"12\" lengthAdjust=\"spacingAndGlyphs\" textLength=\"43\" x=\"1051.5\" y=\"211.1074\">Engine</text><line style=\"stroke: #383838; stroke-width: 1.5;\" x1=\"1041\" x2=\"1105\" y1=\"218.9375\" y2=\"218.9375\"/></a><!--MD5=[09b614a08d8cba4a07c9adeb5e0fee81]\n",
       "class E3--><a href=\"psysml:47ce73ab-2c54-4db4-9d19-7bcb338cdf44\" target=\"_top\" title=\"psysml:47ce73ab-2c54-4db4-9d19-7bcb338cdf44\" xlink:actuate=\"onRequest\" xlink:href=\"psysml:47ce73ab-2c54-4db4-9d19-7bcb338cdf44\" xlink:show=\"new\" xlink:title=\"psysml:47ce73ab-2c54-4db4-9d19-7bcb338cdf44\" xlink:type=\"simple\"><rect fill=\"#FFFFFF\" height=\"45.9375\" id=\"E3\" rx=\"10\" ry=\"10\" style=\"stroke: #383838; stroke-width: 1.5;\" width=\"108\" x=\"863\" y=\"41\"/><text fill=\"#000000\" font-family=\"sans-serif\" font-size=\"12\" font-style=\"italic\" lengthAdjust=\"spacingAndGlyphs\" textLength=\"40\" x=\"897\" y=\"57.1387\">«part»</text><text fill=\"#000000\" font-family=\"sans-serif\" font-size=\"12\" lengthAdjust=\"spacingAndGlyphs\" textLength=\"102\" x=\"866\" y=\"71.1074\">engine1: Engine</text><line style=\"stroke: #383838; stroke-width: 1.5;\" x1=\"864\" x2=\"970\" y1=\"78.9375\" y2=\"78.9375\"/></a><!--MD5=[ebbe1d658d1005bcc118a6aa81145e00]\n",
       "class E4--><a href=\"psysml:7dfdc806-8438-4ccb-bd71-8b6bdaa69ab8\" target=\"_top\" title=\"psysml:7dfdc806-8438-4ccb-bd71-8b6bdaa69ab8\" xlink:actuate=\"onRequest\" xlink:href=\"psysml:7dfdc806-8438-4ccb-bd71-8b6bdaa69ab8\" xlink:show=\"new\" xlink:title=\"psysml:7dfdc806-8438-4ccb-bd71-8b6bdaa69ab8\" xlink:type=\"simple\"><rect fill=\"#FFFFFF\" height=\"45.9375\" id=\"E4\" rx=\"10\" ry=\"10\" style=\"stroke: #383838; stroke-width: 1.5;\" width=\"108\" x=\"863\" y=\"122\"/><text fill=\"#000000\" font-family=\"sans-serif\" font-size=\"12\" font-style=\"italic\" lengthAdjust=\"spacingAndGlyphs\" textLength=\"40\" x=\"897\" y=\"138.1387\">«part»</text><text fill=\"#000000\" font-family=\"sans-serif\" font-size=\"12\" lengthAdjust=\"spacingAndGlyphs\" textLength=\"102\" x=\"866\" y=\"152.1074\">engine2: Engine</text><line style=\"stroke: #383838; stroke-width: 1.5;\" x1=\"864\" x2=\"970\" y1=\"159.9375\" y2=\"159.9375\"/></a><!--MD5=[270fce915f116d4de14055a7c1d9a0f3]\n",
       "class E5--><a href=\"psysml:cd38e840-8317-467c-8230-e0f8852492a9\" target=\"_top\" title=\"psysml:cd38e840-8317-467c-8230-e0f8852492a9\" xlink:actuate=\"onRequest\" xlink:href=\"psysml:cd38e840-8317-467c-8230-e0f8852492a9\" xlink:show=\"new\" xlink:title=\"psysml:cd38e840-8317-467c-8230-e0f8852492a9\" xlink:type=\"simple\"><rect fill=\"#FFFFFF\" height=\"45.9375\" id=\"E5\" rx=\"10\" ry=\"10\" style=\"stroke: #383838; stroke-width: 1.5;\" width=\"199\" x=\"32\" y=\"167\"/><text fill=\"#000000\" font-family=\"sans-serif\" font-size=\"12\" font-style=\"italic\" lengthAdjust=\"spacingAndGlyphs\" textLength=\"64\" x=\"99.5\" y=\"183.1387\">«analysis»</text><text fill=\"#000000\" font-family=\"sans-serif\" font-size=\"12\" lengthAdjust=\"spacingAndGlyphs\" textLength=\"193\" x=\"35\" y=\"197.1074\">engineTradeStudy: TradeStudy</text><line style=\"stroke: #383838; stroke-width: 1.5;\" x1=\"33\" x2=\"230\" y1=\"204.9375\" y2=\"204.9375\"/></a><!--MD5=[60a26617385b1d2d0262a64233df1f8d]\n",
       "class E6--><a href=\"psysml:bf1db205-ea64-42b3-a829-2093a93eb81c\" target=\"_top\" title=\"psysml:bf1db205-ea64-42b3-a829-2093a93eb81c\" xlink:actuate=\"onRequest\" xlink:href=\"psysml:bf1db205-ea64-42b3-a829-2093a93eb81c\" xlink:show=\"new\" xlink:title=\"psysml:bf1db205-ea64-42b3-a829-2093a93eb81c\" xlink:type=\"simple\"><rect fill=\"#FFFFFF\" height=\"45.9375\" id=\"E6\" rx=\"10\" ry=\"10\" style=\"stroke: #383838; stroke-width: 1.5;\" width=\"251\" x=\"366\" y=\"206\"/><text fill=\"#000000\" font-family=\"sans-serif\" font-size=\"12\" font-style=\"italic\" lengthAdjust=\"spacingAndGlyphs\" textLength=\"91\" x=\"446\" y=\"222.1387\">«requirement»</text><text fill=\"#000000\" font-family=\"sans-serif\" font-size=\"12\" lengthAdjust=\"spacingAndGlyphs\" textLength=\"245\" x=\"369\" y=\"236.1074\">tradeStudyObjective: MaximizeObjective</text><line style=\"stroke: #383838; stroke-width: 1.5;\" x1=\"367\" x2=\"616\" y1=\"243.9375\" y2=\"243.9375\"/></a><!--MD5=[2156ba9850f5573cc1fc38a6a4b2f02b]\n",
       "class E7--><a href=\"psysml:081fa6ee-8a6f-4292-82c4-f5eb64360f97\" target=\"_top\" title=\"psysml:081fa6ee-8a6f-4292-82c4-f5eb64360f97\" xlink:actuate=\"onRequest\" xlink:href=\"psysml:081fa6ee-8a6f-4292-82c4-f5eb64360f97\" xlink:show=\"new\" xlink:title=\"psysml:081fa6ee-8a6f-4292-82c4-f5eb64360f97\" xlink:type=\"simple\"><rect fill=\"#FFFFFF\" height=\"75.5469\" id=\"E7\" rx=\"10\" ry=\"10\" style=\"stroke: #383838; stroke-width: 1.5;\" width=\"116\" x=\"433.5\" y=\"95\"/><text fill=\"#000000\" font-family=\"sans-serif\" font-size=\"12\" font-style=\"italic\" lengthAdjust=\"spacingAndGlyphs\" textLength=\"82\" x=\"450.5\" y=\"111.1387\">«calculation»</text><text fill=\"#000000\" font-family=\"sans-serif\" font-size=\"12\" lengthAdjust=\"spacingAndGlyphs\" textLength=\"110\" x=\"436.5\" y=\"125.1074\">objectiveFunction</text><line style=\"stroke: #383838; stroke-width: 1.5;\" x1=\"434.5\" x2=\"548.5\" y1=\"132.9375\" y2=\"132.9375\"/><text fill=\"#000000\" font-family=\"sans-serif\" font-size=\"11\" lengthAdjust=\"spacingAndGlyphs\" textLength=\"65\" x=\"439.5\" y=\"163.9526\">result: Real</text><line style=\"stroke: #383838; stroke-width: 1.0;\" x1=\"434.5\" x2=\"464\" y1=\"147.3398\" y2=\"147.3398\"/><text fill=\"#000000\" font-family=\"sans-serif\" font-size=\"11\" lengthAdjust=\"spacingAndGlyphs\" textLength=\"55\" x=\"464\" y=\"150.6479\">attributes</text><line style=\"stroke: #383838; stroke-width: 1.0;\" x1=\"519\" x2=\"548.5\" y1=\"147.3398\" y2=\"147.3398\"/></a><!--MD5=[b9389687b975829384b498ac4b7476b2]\n",
       "class E8--><a href=\"psysml:dbdbccdb-5c16-4bd3-a501-4b1c7e9ddcab\" target=\"_top\" title=\"psysml:dbdbccdb-5c16-4bd3-a501-4b1c7e9ddcab\" xlink:actuate=\"onRequest\" xlink:href=\"psysml:dbdbccdb-5c16-4bd3-a501-4b1c7e9ddcab\" xlink:show=\"new\" xlink:title=\"psysml:dbdbccdb-5c16-4bd3-a501-4b1c7e9ddcab\" xlink:type=\"simple\"><rect fill=\"#FFFFFF\" height=\"45.9375\" id=\"E8\" rx=\"10\" ry=\"10\" style=\"stroke: #383838; stroke-width: 1.5;\" width=\"124\" x=\"855\" y=\"240\"/><text fill=\"#000000\" font-family=\"sans-serif\" font-size=\"12\" font-style=\"italic\" lengthAdjust=\"spacingAndGlyphs\" textLength=\"40\" x=\"897\" y=\"256.1387\">«part»</text><text fill=\"#000000\" font-family=\"sans-serif\" font-size=\"12\" lengthAdjust=\"spacingAndGlyphs\" textLength=\"118\" x=\"858\" y=\"270.1074\">alternative: Engine</text><line style=\"stroke: #383838; stroke-width: 1.5;\" x1=\"856\" x2=\"978\" y1=\"277.9375\" y2=\"277.9375\"/></a><!--MD5=[fd4143e9d270a159db93a4ea2a975926]\n",
       "class E9--><a href=\"psysml:b6df212f-8018-4500-9608-46bc28de5179\" target=\"_top\" title=\"psysml:b6df212f-8018-4500-9608-46bc28de5179\" xlink:actuate=\"onRequest\" xlink:href=\"psysml:b6df212f-8018-4500-9608-46bc28de5179\" xlink:show=\"new\" xlink:title=\"psysml:b6df212f-8018-4500-9608-46bc28de5179\" xlink:type=\"simple\"><rect fill=\"#FFFFFF\" height=\"45.9375\" id=\"E9\" rx=\"10\" ry=\"10\" style=\"stroke: #383838; stroke-width: 1.5;\" width=\"178\" x=\"647\" y=\"111\"/><text fill=\"#000000\" font-family=\"sans-serif\" font-size=\"12\" font-style=\"italic\" lengthAdjust=\"spacingAndGlyphs\" textLength=\"40\" x=\"716\" y=\"127.1387\">«part»</text><text fill=\"#000000\" font-family=\"sans-serif\" font-size=\"12\" lengthAdjust=\"spacingAndGlyphs\" textLength=\"172\" x=\"650\" y=\"141.1074\">selectedAlternative: Engine</text><line style=\"stroke: #383838; stroke-width: 1.5;\" x1=\"648\" x2=\"824\" y1=\"148.9375\" y2=\"148.9375\"/></a><!--MD5=[05d275557350bfb9b23a4ef7222b4c39]\n",
       "link E3 to E2--><a href=\"psysml:6a611645-87b6-456f-b99f-fe1a3075932c\" target=\"_top\" title=\"psysml:6a611645-87b6-456f-b99f-fe1a3075932c\" xlink:actuate=\"onRequest\" xlink:href=\"psysml:6a611645-87b6-456f-b99f-fe1a3075932c\" xlink:show=\"new\" xlink:title=\"psysml:6a611645-87b6-456f-b99f-fe1a3075932c\" xlink:type=\"simple\"><path d=\"M956.44,87.18 C964.16,92.39 972.03,98.12 979,104 C1000.94,122.52 1022.93,145.9 1040.02,165.39 \" fill=\"none\" id=\"E3-&gt;E2\" style=\"stroke: #383838; stroke-width: 1.0;\"/><polygon fill=\"#FFFFFF\" points=\"1053.11,180.66,1035.4309,170.7883,1046.0612,161.678,1053.11,180.66\" style=\"stroke: #383838; stroke-width: 1.0;\"/><ellipse cx=\"1033.2404\" cy=\"165.1588\" fill=\"#383838\" rx=\"2\" ry=\"2\" style=\"stroke: #383838; stroke-width: 1.0;\"/><ellipse cx=\"1040.8334\" cy=\"158.6515\" fill=\"#383838\" rx=\"2\" ry=\"2\" style=\"stroke: #383838; stroke-width: 1.0;\"/></a><!--MD5=[185131fc0dcab0a4505a2ebe144e961b]\n",
       "link E4 to E2--><a href=\"psysml:c8f697e8-ebd5-44e8-8041-765052aa0dda\" target=\"_top\" title=\"psysml:c8f697e8-ebd5-44e8-8041-765052aa0dda\" xlink:actuate=\"onRequest\" xlink:href=\"psysml:c8f697e8-ebd5-44e8-8041-765052aa0dda\" xlink:show=\"new\" xlink:title=\"psysml:c8f697e8-ebd5-44e8-8041-765052aa0dda\" xlink:type=\"simple\"><path d=\"M971.43,165.47 C987.52,171.64 1005.13,178.39 1021.06,184.49 \" fill=\"none\" id=\"E4-&gt;E2\" style=\"stroke: #383838; stroke-width: 1.0;\"/><polygon fill=\"#FFFFFF\" points=\"1039.76,191.65,1019.5133,191.3857,1024.5242,178.3132,1039.76,191.65\" style=\"stroke: #383838; stroke-width: 1.0;\"/><ellipse cx=\"1014.9067\" cy=\"187.478\" fill=\"#383838\" rx=\"2\" ry=\"2\" style=\"stroke: #383838; stroke-width: 1.0;\"/><ellipse cx=\"1018.486\" cy=\"178.1405\" fill=\"#383838\" rx=\"2\" ry=\"2\" style=\"stroke: #383838; stroke-width: 1.0;\"/></a><!--MD5=[15ebcb19ae302d9b601edb458606d402]\n",
       "link E5 to E2--><a href=\"psysml:2f46211a-dc33-450b-96f1-34c5430f413d\" target=\"_top\" title=\"psysml:2f46211a-dc33-450b-96f1-34c5430f413d\" xlink:actuate=\"onRequest\" xlink:href=\"psysml:2f46211a-dc33-450b-96f1-34c5430f413d\" xlink:show=\"new\" xlink:title=\"psysml:2f46211a-dc33-450b-96f1-34c5430f413d\" xlink:type=\"simple\"><path d=\"M187.55,213.08 C234.18,231.55 303.28,256.37 366,269 C633.51,322.91 728.82,412.99 979,304 C1012.76,289.3 1039.79,255.62 1055.83,231.41 \" fill=\"none\" id=\"E5-&gt;E2\" style=\"stroke: #383838; stroke-width: 1.0; stroke-dasharray: 7.0,7.0;\"/><polygon fill=\"#383838\" points=\"1058.7,227.01,1050.4426,232.378,1055.9761,231.2029,1057.1512,236.7363,1058.7,227.01\" style=\"stroke: #383838; stroke-width: 1.0;\"/><text fill=\"#000000\" font-family=\"sans-serif\" font-size=\"13\" lengthAdjust=\"spacingAndGlyphs\" textLength=\"62\" x=\"705\" y=\"337.0669\">«subject»</text></a><!--MD5=[9120cf2e5df3bff93db8f754bbbc09b4]\n",
       "link E5 to E6--><a href=\"psysml:285bfc51-142a-40f2-bdf1-cdd7141b9b55\" target=\"_top\" title=\"psysml:285bfc51-142a-40f2-bdf1-cdd7141b9b55\" xlink:actuate=\"onRequest\" xlink:href=\"psysml:285bfc51-142a-40f2-bdf1-cdd7141b9b55\" xlink:show=\"new\" xlink:title=\"psysml:285bfc51-142a-40f2-bdf1-cdd7141b9b55\" xlink:type=\"simple\"><path d=\"M231.27,200.76 C270.35,205.02 315.87,209.98 357.75,214.54 \" fill=\"none\" id=\"E5-&gt;E6\" style=\"stroke: #383838; stroke-width: 1.0;\"/><polygon fill=\"#383838\" points=\"365.81,215.42,358.1841,211.5669,357.531,217.5313,365.81,215.42\" style=\"stroke: #383838; stroke-width: 1.0;\"/><text fill=\"#000000\" font-family=\"sans-serif\" font-size=\"13\" lengthAdjust=\"spacingAndGlyphs\" textLength=\"73\" x=\"262\" y=\"201.0669\">«objective»</text></a><!--MD5=[452b418e7f8a40397a49b8c0a78acc5b]\n",
       "reverse link E5 to E7--><a href=\"psysml:081fa6ee-8a6f-4292-82c4-f5eb64360f97\" target=\"_top\" title=\"psysml:081fa6ee-8a6f-4292-82c4-f5eb64360f97\" xlink:actuate=\"onRequest\" xlink:href=\"psysml:081fa6ee-8a6f-4292-82c4-f5eb64360f97\" xlink:show=\"new\" xlink:title=\"psysml:081fa6ee-8a6f-4292-82c4-f5eb64360f97\" xlink:type=\"simple\"><path d=\"M244.44,172.18 C307.13,162.2 382.64,150.18 433.34,142.11 \" fill=\"none\" id=\"E5&lt;-E7\" style=\"stroke: #383838; stroke-width: 1.0;\"/><polygon fill=\"#383838\" points=\"231.27,174.28,237.8239,177.2878,243.121,172.3949,236.5671,169.3871,231.27,174.28\" style=\"stroke: #383838; stroke-width: 1.0;\"/></a><!--MD5=[f1f3f9f2fc535e6147756cb86a7f2e32]\n",
       "link E8 to E2--><a href=\"psysml:143d7cb3-4d47-41f0-bb56-6d1ae515b029\" target=\"_top\" title=\"psysml:143d7cb3-4d47-41f0-bb56-6d1ae515b029\" xlink:actuate=\"onRequest\" xlink:href=\"psysml:143d7cb3-4d47-41f0-bb56-6d1ae515b029\" xlink:show=\"new\" xlink:title=\"psysml:143d7cb3-4d47-41f0-bb56-6d1ae515b029\" xlink:type=\"simple\"><path d=\"M978.42,239.85 C992.46,234.48 1007.28,228.8 1020.87,223.59 \" fill=\"none\" id=\"E8-&gt;E2\" style=\"stroke: #383838; stroke-width: 1.0;\"/><polygon fill=\"#FFFFFF\" points=\"1039.69,216.38,1024.4508,229.7129,1019.4432,216.6392,1039.69,216.38\" style=\"stroke: #383838; stroke-width: 1.0;\"/><ellipse cx=\"1018.4125\" cy=\"229.8841\" fill=\"#383838\" rx=\"2\" ry=\"2\" style=\"stroke: #383838; stroke-width: 1.0;\"/><ellipse cx=\"1014.8357\" cy=\"220.5457\" fill=\"#383838\" rx=\"2\" ry=\"2\" style=\"stroke: #383838; stroke-width: 1.0;\"/></a><!--MD5=[dc164f5e8a733ab456ef1add180e9e34]\n",
       "reverse link E7 to E8--><a href=\"psysml:dbdbccdb-5c16-4bd3-a501-4b1c7e9ddcab\" target=\"_top\" title=\"psysml:dbdbccdb-5c16-4bd3-a501-4b1c7e9ddcab\" xlink:actuate=\"onRequest\" xlink:href=\"psysml:dbdbccdb-5c16-4bd3-a501-4b1c7e9ddcab\" xlink:show=\"new\" xlink:title=\"psysml:dbdbccdb-5c16-4bd3-a501-4b1c7e9ddcab\" xlink:type=\"simple\"><path d=\"M562.22,154.41 C643.63,179.4 777.02,220.34 854.65,244.17 \" fill=\"none\" id=\"E7&lt;-E8\" style=\"stroke: #383838; stroke-width: 1.0;\"/><polygon fill=\"#FFFFFF\" points=\"549.62,150.54,554.1824,156.1243,561.0919,154.0607,556.5295,148.4764,549.62,150.54\" style=\"stroke: #383838; stroke-width: 1.0;\"/></a><!--MD5=[5c3bb36fe832a92c7f0e1807dd65209d]\n",
       "link E9 to E2--><a href=\"psysml:cb3e8ea7-f115-4f34-bcd9-dd1e6ba812b8\" target=\"_top\" title=\"psysml:cb3e8ea7-f115-4f34-bcd9-dd1e6ba812b8\" xlink:actuate=\"onRequest\" xlink:href=\"psysml:cb3e8ea7-f115-4f34-bcd9-dd1e6ba812b8\" xlink:show=\"new\" xlink:title=\"psysml:cb3e8ea7-f115-4f34-bcd9-dd1e6ba812b8\" xlink:type=\"simple\"><path d=\"M781.2,157.12 C802.86,167.4 829.68,178.6 855,185 C910.14,198.95 975.38,203.06 1019.83,204.09 \" fill=\"none\" id=\"E9-&gt;E2\" style=\"stroke: #383838; stroke-width: 1.0;\"/><polygon fill=\"#FFFFFF\" points=\"1039.84,204.37,1020.7419,211.0979,1020.9419,197.0993,1039.84,204.37\" style=\"stroke: #383838; stroke-width: 1.0;\"/><ellipse cx=\"1015.0711\" cy=\"209.0167\" fill=\"#383838\" rx=\"2\" ry=\"2\" style=\"stroke: #383838; stroke-width: 1.0;\"/><ellipse cx=\"1015.2139\" cy=\"199.0177\" fill=\"#383838\" rx=\"2\" ry=\"2\" style=\"stroke: #383838; stroke-width: 1.0;\"/></a><!--MD5=[9ae28de373ca99bb8a1b38d63370ca7e]\n",
       "reverse link E5 to E9--><a href=\"psysml:b6df212f-8018-4500-9608-46bc28de5179\" target=\"_top\" title=\"psysml:b6df212f-8018-4500-9608-46bc28de5179\" xlink:actuate=\"onRequest\" xlink:href=\"psysml:b6df212f-8018-4500-9608-46bc28de5179\" xlink:show=\"new\" xlink:title=\"psysml:b6df212f-8018-4500-9608-46bc28de5179\" xlink:type=\"simple\"><path d=\"M178.67,159.87 C224.17,132.11 296.75,92.88 366,77 C474.73,52.08 508.26,52.12 617,77 C645.83,83.6 675.81,98.2 698.34,110.97 \" fill=\"none\" id=\"E5&lt;-E9\" style=\"stroke: #383838; stroke-width: 1.0;\"/><polygon fill=\"#FFFFFF\" points=\"167.42,166.84,174.6272,167.0772,177.6181,160.5156,170.4109,160.2784,167.42,166.84\" style=\"stroke: #383838; stroke-width: 1.0;\"/></a><!--MD5=[1d8647ea2da450f4a5a19f9319b5630d]\n",
       "@startuml\r\n",
       "left to right direction\r\n",
       "skinparam monochrome true\r\n",
       "skinparam classbackgroundcolor white\r\n",
       "skinparam shadowing false\r\n",
       "skinparam wrapWidth 300\r\n",
       "hide circle\r\n",
       "\r\n",
       "package \"TradeStudyTest\" as E1  [[psysml:8952aa40-03a2-4df7-81e1-750bf2c7b589 ]]  {\r\n",
       "comp def \"Engine\" as E2  <<(T,blue)part def>> [[psysml:ba5002a0-783d-43b2-abfa-70b37f90804c ]] {\r\n",
       "}\r\n",
       "comp usage \"engine1: Engine\" as E3  <<(T,blue)part>> [[psysml:47ce73ab-2c54-4db4-9d19-7bcb338cdf44 ]] {\r\n",
       "}\r\n",
       "comp usage \"engine2: Engine\" as E4  <<(T,blue)part>> [[psysml:7dfdc806-8438-4ccb-bd71-8b6bdaa69ab8 ]] {\r\n",
       "}\r\n",
       "comp usage \"engineTradeStudy: TradeStudy\" as E5 <<analysis>> [[psysml:cd38e840-8317-467c-8230-e0f8852492a9 ]] {\r\n",
       "}\r\n",
       "comp usage \"tradeStudyObjective: MaximizeObjective\" as E6  <<(T,blue)requirement>> [[psysml:bf1db205-ea64-42b3-a829-2093a93eb81c ]] {\r\n",
       "}\r\n",
       "comp usage \"objectiveFunction\" as E7  <<(T,blue)calculation>> [[psysml:081fa6ee-8a6f-4292-82c4-f5eb64360f97 ]] {\r\n",
       "- - attributes - -\r\n",
       "result: Real\r\n",
       "}\r\n",
       "comp usage \"alternative: Engine\" as E8  <<(T,blue)part>> [[psysml:dbdbccdb-5c16-4bd3-a501-4b1c7e9ddcab ]] {\r\n",
       "}\r\n",
       "comp usage \"selectedAlternative: Engine\" as E9  <<(T,blue)part>> [[psysml:b6df212f-8018-4500-9608-46bc28de5179 ]] {\r\n",
       "}\r\n",
       "E3 - -:|> E2 [[psysml:6a611645-87b6-456f-b99f-fe1a3075932c ]] \r\n",
       "E4 - -:|> E2 [[psysml:c8f697e8-ebd5-44e8-8041-765052aa0dda ]] \r\n",
       "E5 ..> E2 [[psysml:2f46211a-dc33-450b-96f1-34c5430f413d ]] : <<subject>>\r\n",
       "E5 - ->> E6 [[psysml:285bfc51-142a-40f2-bdf1-cdd7141b9b55 ]] : <<objective>>\r\n",
       "E5 *- - E7 [[psysml:081fa6ee-8a6f-4292-82c4-f5eb64360f97 ]] \r\n",
       "E8 - -:|> E2 [[psysml:143d7cb3-4d47-41f0-bb56-6d1ae515b029 ]] \r\n",
       "E7 o- - E8 [[psysml:dbdbccdb-5c16-4bd3-a501-4b1c7e9ddcab ]] \r\n",
       "E9 - -:|> E2 [[psysml:cb3e8ea7-f115-4f34-bcd9-dd1e6ba812b8 ]] \r\n",
       "E5 o- - E9 [[psysml:b6df212f-8018-4500-9608-46bc28de5179 ]] \r\n",
       "}\r\n",
       "@enduml\r\n",
       "\n",
       "PlantUML version 1.2020.13(Sat Jun 13 12:26:38 UTC 2020)\n",
       "(EPL source distribution)\n",
       "Java Runtime: OpenJDK Runtime Environment\n",
       "JVM: OpenJDK 64-Bit Server VM\n",
       "Default Encoding: UTF-8\n",
       "Language: en\n",
       "Country: null\n",
       "--></g></svg>"
      ]
     },
     "execution_count": 17,
     "metadata": {},
     "output_type": "execute_result"
    }
   ],
   "source": [
    "%viz --style=\"LR\" --view=\"Tree\" \"TradeStudyTest\""
   ]
  },
  {
   "cell_type": "code",
   "execution_count": 18,
   "id": "pharmaceutical-groove",
   "metadata": {
    "execution": {
     "iopub.execute_input": "2021-03-25T09:29:25.787916Z",
     "iopub.status.busy": "2021-03-25T09:29:25.787414Z",
     "iopub.status.idle": "2021-03-25T09:29:25.795408Z",
     "shell.execute_reply": "2021-03-25T09:29:25.795773Z"
    }
   },
   "outputs": [
    {
     "data": {
      "image/svg+xml": [
       "<?xml version=\"1.0\" encoding=\"UTF-8\" standalone=\"no\"?><svg xmlns=\"http://www.w3.org/2000/svg\" xmlns:xlink=\"http://www.w3.org/1999/xlink\" contentScriptType=\"application/ecmascript\" contentStyleType=\"text/css\" height=\"12px\" preserveAspectRatio=\"none\" style=\"width:12px;height:12px;\" version=\"1.1\" viewBox=\"0 0 12 12\" width=\"12px\" zoomAndPan=\"magnify\"><defs/><g><!--MD5=[19d285c9d72a204eba4e2cd117d745e8]\n",
       "@startuml\r\n",
       "left to right direction\r\n",
       "skinparam monochrome true\r\n",
       "skinparam classbackgroundcolor white\r\n",
       "skinparam shadowing false\r\n",
       "skinparam wrapWidth 300\r\n",
       "hide circle\r\n",
       "\r\n",
       "@enduml\r\n",
       "\n",
       "PlantUML version 1.2020.13(Sat Jun 13 12:26:38 UTC 2020)\n",
       "(EPL source distribution)\n",
       "Java Runtime: OpenJDK Runtime Environment\n",
       "JVM: OpenJDK 64-Bit Server VM\n",
       "Default Encoding: UTF-8\n",
       "Language: en\n",
       "Country: null\n",
       "--></g></svg>"
      ]
     },
     "execution_count": 18,
     "metadata": {},
     "output_type": "execute_result"
    }
   ],
   "source": [
    "%viz --style=\"LR\" --view=\"State\" \"TradeStudyTest\""
   ]
  },
  {
   "cell_type": "code",
   "execution_count": 19,
   "id": "fallen-residence",
   "metadata": {
    "execution": {
     "iopub.execute_input": "2021-03-25T09:29:25.846681Z",
     "iopub.status.busy": "2021-03-25T09:29:25.846284Z",
     "iopub.status.idle": "2021-03-25T09:29:25.905054Z",
     "shell.execute_reply": "2021-03-25T09:29:25.904633Z"
    }
   },
   "outputs": [
    {
     "data": {
      "image/svg+xml": [
       "<?xml version=\"1.0\" encoding=\"UTF-8\" standalone=\"no\"?><svg xmlns=\"http://www.w3.org/2000/svg\" xmlns:xlink=\"http://www.w3.org/1999/xlink\" contentScriptType=\"application/ecmascript\" contentStyleType=\"text/css\" height=\"263px\" preserveAspectRatio=\"none\" style=\"width:183px;height:263px;\" version=\"1.1\" viewBox=\"0 0 183 263\" width=\"183px\" zoomAndPan=\"magnify\"><defs/><g><!--MD5=[fbc87193dbaf4d95561dea2c320d4a47]\n",
       "cluster E1--><a href=\"psysml:8952aa40-03a2-4df7-81e1-750bf2c7b589\" target=\"_top\" title=\"psysml:8952aa40-03a2-4df7-81e1-750bf2c7b589\" xlink:actuate=\"onRequest\" xlink:href=\"psysml:8952aa40-03a2-4df7-81e1-750bf2c7b589\" xlink:show=\"new\" xlink:title=\"psysml:8952aa40-03a2-4df7-81e1-750bf2c7b589\" xlink:type=\"simple\"><polygon fill=\"#FFFFFF\" points=\"16,6,148,6,155,28.2969,161,28.2969,161,251,16,251,16,6\" style=\"stroke: #000000; stroke-width: 1.5;\"/><line style=\"stroke: #000000; stroke-width: 1.5;\" x1=\"16\" x2=\"155\" y1=\"28.2969\" y2=\"28.2969\"/><text fill=\"#000000\" font-family=\"sans-serif\" font-size=\"14\" font-weight=\"bold\" lengthAdjust=\"spacingAndGlyphs\" textLength=\"126\" x=\"20\" y=\"20.9951\">TradeStudyTest</text></a><g id=\"E1.E2\"><a href=\"psysml:ba5002a0-783d-43b2-abfa-70b37f90804c\" target=\"_top\" title=\"psysml:ba5002a0-783d-43b2-abfa-70b37f90804c\" xlink:actuate=\"onRequest\" xlink:href=\"psysml:ba5002a0-783d-43b2-abfa-70b37f90804c\" xlink:show=\"new\" xlink:title=\"psysml:ba5002a0-783d-43b2-abfa-70b37f90804c\" xlink:type=\"simple\"><rect fill=\"#FFFFFF\" height=\"42.9375\" id=\"E2\" style=\"stroke: #383838; stroke-width: 1.5;\" width=\"71\" x=\"53\" y=\"41.5\"/><rect fill=\"#F8F8F8\" height=\"37.9375\" style=\"stroke: #383838; stroke-width: 1.5;\" width=\"71\" x=\"53\" y=\"41.5\"/><text fill=\"#000000\" font-family=\"sans-serif\" font-size=\"12\" font-style=\"italic\" lengthAdjust=\"spacingAndGlyphs\" textLength=\"64\" x=\"56.5\" y=\"57.6387\">«part def»</text><text fill=\"#000000\" font-family=\"sans-serif\" font-size=\"12\" lengthAdjust=\"spacingAndGlyphs\" textLength=\"43\" x=\"67\" y=\"71.6074\">Engine</text></a></g><g id=\"E1.E3\"><a href=\"psysml:47ce73ab-2c54-4db4-9d19-7bcb338cdf44\" target=\"_top\" title=\"psysml:47ce73ab-2c54-4db4-9d19-7bcb338cdf44\" xlink:actuate=\"onRequest\" xlink:href=\"psysml:47ce73ab-2c54-4db4-9d19-7bcb338cdf44\" xlink:show=\"new\" xlink:title=\"psysml:47ce73ab-2c54-4db4-9d19-7bcb338cdf44\" xlink:type=\"simple\"><rect fill=\"#FFFFFF\" height=\"40\" id=\"E3\" rx=\"10\" ry=\"10\" style=\"stroke: #383838; stroke-width: 1.5;\" width=\"113\" x=\"32\" y=\"120\"/><rect fill=\"#F8F8F8\" height=\"23.9688\" rx=\"10\" ry=\"10\" style=\"stroke: #F8F8F8; stroke-width: 1.5;\" width=\"113\" x=\"32\" y=\"120\"/><rect fill=\"#F8F8F8\" height=\"10\" style=\"stroke: #F8F8F8; stroke-width: 1.5;\" width=\"113\" x=\"32\" y=\"133.9688\"/><rect fill=\"none\" height=\"40\" id=\"E3\" rx=\"10\" ry=\"10\" style=\"stroke: #383838; stroke-width: 1.5;\" width=\"113\" x=\"32\" y=\"120\"/><text fill=\"#000000\" font-family=\"sans-serif\" font-size=\"12\" lengthAdjust=\"spacingAndGlyphs\" textLength=\"102\" x=\"37.5\" y=\"136.1387\">engine1: Engine</text></a></g><g id=\"E1.E4\"><a href=\"psysml:7dfdc806-8438-4ccb-bd71-8b6bdaa69ab8\" target=\"_top\" title=\"psysml:7dfdc806-8438-4ccb-bd71-8b6bdaa69ab8\" xlink:actuate=\"onRequest\" xlink:href=\"psysml:7dfdc806-8438-4ccb-bd71-8b6bdaa69ab8\" xlink:show=\"new\" xlink:title=\"psysml:7dfdc806-8438-4ccb-bd71-8b6bdaa69ab8\" xlink:type=\"simple\"><rect fill=\"#FFFFFF\" height=\"40\" id=\"E4\" rx=\"10\" ry=\"10\" style=\"stroke: #383838; stroke-width: 1.5;\" width=\"113\" x=\"32\" y=\"195\"/><rect fill=\"#F8F8F8\" height=\"23.9688\" rx=\"10\" ry=\"10\" style=\"stroke: #F8F8F8; stroke-width: 1.5;\" width=\"113\" x=\"32\" y=\"195\"/><rect fill=\"#F8F8F8\" height=\"10\" style=\"stroke: #F8F8F8; stroke-width: 1.5;\" width=\"113\" x=\"32\" y=\"208.9688\"/><rect fill=\"none\" height=\"40\" id=\"E4\" rx=\"10\" ry=\"10\" style=\"stroke: #383838; stroke-width: 1.5;\" width=\"113\" x=\"32\" y=\"195\"/><text fill=\"#000000\" font-family=\"sans-serif\" font-size=\"12\" lengthAdjust=\"spacingAndGlyphs\" textLength=\"102\" x=\"37.5\" y=\"211.1387\">engine2: Engine</text></a></g><!--MD5=[440cc9b695caace80127f40af1ae0f78]\n",
       "@startuml\r\n",
       "skinparam ranksep 8\r\n",
       "skinparam rectangle {\r\n",
       " backgroundColor<<block>> LightGreen\r\n",
       "}\r\n",
       "left to right direction\r\n",
       "skinparam monochrome true\r\n",
       "skinparam classbackgroundcolor white\r\n",
       "skinparam shadowing false\r\n",
       "skinparam wrapWidth 300\r\n",
       "hide circle\r\n",
       "\r\n",
       "package \"TradeStudyTest\" as E1  [[psysml:8952aa40-03a2-4df7-81e1-750bf2c7b589 ]]  {\r\n",
       "rec def \"Engine\" as E2  <<(T,blue)part def>> [[psysml:ba5002a0-783d-43b2-abfa-70b37f90804c ]] {\r\n",
       "}\r\n",
       "rec usage \"engine1: Engine\" as E3  [[psysml:47ce73ab-2c54-4db4-9d19-7bcb338cdf44 ]] {\r\n",
       "}\r\n",
       "rec usage \"engine2: Engine\" as E4  [[psysml:7dfdc806-8438-4ccb-bd71-8b6bdaa69ab8 ]] {\r\n",
       "}\r\n",
       "}\r\n",
       "@enduml\r\n",
       "\n",
       "PlantUML version 1.2020.13(Sat Jun 13 12:26:38 UTC 2020)\n",
       "(EPL source distribution)\n",
       "Java Runtime: OpenJDK Runtime Environment\n",
       "JVM: OpenJDK 64-Bit Server VM\n",
       "Default Encoding: UTF-8\n",
       "Language: en\n",
       "Country: null\n",
       "--></g></svg>"
      ]
     },
     "execution_count": 19,
     "metadata": {},
     "output_type": "execute_result"
    }
   ],
   "source": [
    "%viz --style=\"LR\" --view=\"Interconnection\" \"TradeStudyTest\""
   ]
  },
  {
   "cell_type": "code",
   "execution_count": 20,
   "id": "thrown-botswana",
   "metadata": {
    "execution": {
     "iopub.execute_input": "2021-03-25T09:29:25.957604Z",
     "iopub.status.busy": "2021-03-25T09:29:25.956812Z",
     "iopub.status.idle": "2021-03-25T09:29:26.042096Z",
     "shell.execute_reply": "2021-03-25T09:29:26.041742Z"
    }
   },
   "outputs": [
    {
     "data": {
      "image/svg+xml": [
       "<?xml version=\"1.0\" encoding=\"UTF-8\" standalone=\"no\"?><svg xmlns=\"http://www.w3.org/2000/svg\" xmlns:xlink=\"http://www.w3.org/1999/xlink\" contentScriptType=\"application/ecmascript\" contentStyleType=\"text/css\" height=\"129px\" preserveAspectRatio=\"none\" style=\"width:180px;height:129px;\" version=\"1.1\" viewBox=\"0 0 180 129\" width=\"180px\" zoomAndPan=\"magnify\"><defs/><g><!--MD5=[fbc87193dbaf4d95561dea2c320d4a47]\n",
       "cluster E1--><a href=\"psysml:cd38e840-8317-467c-8230-e0f8852492a9\" target=\"_top\" title=\"psysml:cd38e840-8317-467c-8230-e0f8852492a9\" xlink:actuate=\"onRequest\" xlink:href=\"psysml:cd38e840-8317-467c-8230-e0f8852492a9\" xlink:show=\"new\" xlink:title=\"psysml:cd38e840-8317-467c-8230-e0f8852492a9\" xlink:type=\"simple\"><rect fill=\"#FFFFFF\" height=\"111\" id=\"E1\" rx=\"10\" ry=\"10\" style=\"stroke: #383838; stroke-width: 1.5;\" width=\"161\" x=\"7\" y=\"7\"/><rect fill=\"#F8F8F8\" height=\"37.9375\" rx=\"10\" ry=\"10\" style=\"stroke: #F8F8F8; stroke-width: 1.5;\" width=\"161\" x=\"7\" y=\"7\"/><rect fill=\"#F8F8F8\" height=\"10\" style=\"stroke: #F8F8F8; stroke-width: 1.5;\" width=\"161\" x=\"7\" y=\"34.9375\"/><rect fill=\"none\" height=\"111\" id=\"E1\" rx=\"10\" ry=\"10\" style=\"stroke: #383838; stroke-width: 1.5;\" width=\"161\" x=\"7\" y=\"7\"/><text fill=\"#000000\" font-family=\"sans-serif\" font-size=\"12\" font-style=\"italic\" lengthAdjust=\"spacingAndGlyphs\" textLength=\"64\" x=\"55.5\" y=\"23.1387\">«analysis»</text><text fill=\"#000000\" font-family=\"sans-serif\" font-size=\"12\" lengthAdjust=\"spacingAndGlyphs\" textLength=\"114\" x=\"30.5\" y=\"37.1074\">engineTradeStudy</text><line style=\"stroke: #383838; stroke-width: 1.0;\" x1=\"7\" x2=\"168\" y1=\"44.9375\" y2=\"44.9375\"/></a><g id=\"E1.E2\"><a href=\"psysml:081fa6ee-8a6f-4292-82c4-f5eb64360f97\" target=\"_top\" title=\"psysml:081fa6ee-8a6f-4292-82c4-f5eb64360f97\" xlink:actuate=\"onRequest\" xlink:href=\"psysml:081fa6ee-8a6f-4292-82c4-f5eb64360f97\" xlink:show=\"new\" xlink:title=\"psysml:081fa6ee-8a6f-4292-82c4-f5eb64360f97\" xlink:type=\"simple\"><rect fill=\"#FFFFFF\" height=\"42.9375\" id=\"E2\" rx=\"10\" ry=\"10\" style=\"stroke: #383838; stroke-width: 1.5;\" width=\"121\" x=\"27\" y=\"58.5\"/><rect fill=\"#F8F8F8\" height=\"37.9375\" rx=\"10\" ry=\"10\" style=\"stroke: #F8F8F8; stroke-width: 1.5;\" width=\"121\" x=\"27\" y=\"58.5\"/><rect fill=\"#F8F8F8\" height=\"10\" style=\"stroke: #F8F8F8; stroke-width: 1.5;\" width=\"121\" x=\"27\" y=\"86.4375\"/><rect fill=\"none\" height=\"42.9375\" id=\"E2\" rx=\"10\" ry=\"10\" style=\"stroke: #383838; stroke-width: 1.5;\" width=\"121\" x=\"27\" y=\"58.5\"/><text fill=\"#000000\" font-family=\"sans-serif\" font-size=\"12\" font-style=\"italic\" lengthAdjust=\"spacingAndGlyphs\" textLength=\"82\" x=\"46.5\" y=\"74.6387\">«calculation»</text><text fill=\"#000000\" font-family=\"sans-serif\" font-size=\"12\" lengthAdjust=\"spacingAndGlyphs\" textLength=\"110\" x=\"32.5\" y=\"88.6074\">objectiveFunction</text></a></g><!--MD5=[d53cd41b4f779799e3b18027dd04ffe9]\n",
       "@startuml\r\n",
       "skinparam ranksep 8\r\n",
       "left to right direction\r\n",
       "skinparam monochrome true\r\n",
       "skinparam classbackgroundcolor white\r\n",
       "skinparam shadowing false\r\n",
       "skinparam wrapWidth 300\r\n",
       "hide circle\r\n",
       "\r\n",
       "rec usage \"engineTradeStudy\" as E1 <<analysis>> [[psysml:cd38e840-8317-467c-8230-e0f8852492a9 ]] {\r\n",
       "rec usage \"objectiveFunction\" as E2  <<(T,blue)calculation>> [[psysml:081fa6ee-8a6f-4292-82c4-f5eb64360f97 ]] {\r\n",
       "}\r\n",
       "\r\n",
       "}\r\n",
       "\r\n",
       "@enduml\r\n",
       "\n",
       "PlantUML version 1.2020.13(Sat Jun 13 12:26:38 UTC 2020)\n",
       "(EPL source distribution)\n",
       "Java Runtime: OpenJDK Runtime Environment\n",
       "JVM: OpenJDK 64-Bit Server VM\n",
       "Default Encoding: UTF-8\n",
       "Language: en\n",
       "Country: null\n",
       "--></g></svg>"
      ]
     },
     "execution_count": 20,
     "metadata": {},
     "output_type": "execute_result"
    }
   ],
   "source": [
    "%viz --style=\"LR\" --view=\"Action\" \"TradeStudyTest\""
   ]
  },
  {
   "cell_type": "code",
   "execution_count": 21,
   "id": "processed-zambia",
   "metadata": {
    "execution": {
     "iopub.execute_input": "2021-03-25T09:29:26.096156Z",
     "iopub.status.busy": "2021-03-25T09:29:26.095610Z",
     "iopub.status.idle": "2021-03-25T09:29:26.408087Z",
     "shell.execute_reply": "2021-03-25T09:29:26.406032Z"
    }
   },
   "outputs": [
    {
     "data": {
      "image/svg+xml": [
       "<?xml version=\"1.0\" encoding=\"UTF-8\" standalone=\"no\"?><svg xmlns=\"http://www.w3.org/2000/svg\" xmlns:xlink=\"http://www.w3.org/1999/xlink\" contentScriptType=\"application/ecmascript\" contentStyleType=\"text/css\" height=\"424px\" preserveAspectRatio=\"none\" style=\"width:1144px;height:424px;\" version=\"1.1\" viewBox=\"0 0 1144 424\" width=\"1144px\" zoomAndPan=\"magnify\"><defs/><g><!--MD5=[fbc87193dbaf4d95561dea2c320d4a47]\n",
       "cluster E1--><a href=\"psysml:8952aa40-03a2-4df7-81e1-750bf2c7b589\" target=\"_top\" title=\"psysml:8952aa40-03a2-4df7-81e1-750bf2c7b589\" xlink:actuate=\"onRequest\" xlink:href=\"psysml:8952aa40-03a2-4df7-81e1-750bf2c7b589\" xlink:show=\"new\" xlink:title=\"psysml:8952aa40-03a2-4df7-81e1-750bf2c7b589\" xlink:type=\"simple\"><polygon fill=\"#FFFFFF\" points=\"16,6,148,6,155,28.2969,1122,28.2969,1122,339,16,339,16,6\" style=\"stroke: #000000; stroke-width: 1.5;\"/><line style=\"stroke: #000000; stroke-width: 1.5;\" x1=\"16\" x2=\"155\" y1=\"28.2969\" y2=\"28.2969\"/><text fill=\"#000000\" font-family=\"sans-serif\" font-size=\"14\" font-weight=\"bold\" lengthAdjust=\"spacingAndGlyphs\" textLength=\"126\" x=\"20\" y=\"20.9951\">TradeStudyTest</text></a><!--MD5=[b4997ac47864f28c2f74865a473b2911]\n",
       "class E2--><a href=\"psysml:ba5002a0-783d-43b2-abfa-70b37f90804c\" target=\"_top\" title=\"psysml:ba5002a0-783d-43b2-abfa-70b37f90804c\" xlink:actuate=\"onRequest\" xlink:href=\"psysml:ba5002a0-783d-43b2-abfa-70b37f90804c\" xlink:show=\"new\" xlink:title=\"psysml:ba5002a0-783d-43b2-abfa-70b37f90804c\" xlink:type=\"simple\"><rect fill=\"#FFFFFF\" height=\"45.9375\" id=\"E2\" style=\"stroke: #383838; stroke-width: 1.5;\" width=\"66\" x=\"1040\" y=\"181\"/><text fill=\"#000000\" font-family=\"sans-serif\" font-size=\"12\" font-style=\"italic\" lengthAdjust=\"spacingAndGlyphs\" textLength=\"64\" x=\"1041\" y=\"197.1387\">«part def»</text><text fill=\"#000000\" font-family=\"sans-serif\" font-size=\"12\" lengthAdjust=\"spacingAndGlyphs\" textLength=\"43\" x=\"1051.5\" y=\"211.1074\">Engine</text><line style=\"stroke: #383838; stroke-width: 1.5;\" x1=\"1041\" x2=\"1105\" y1=\"218.9375\" y2=\"218.9375\"/></a><!--MD5=[09b614a08d8cba4a07c9adeb5e0fee81]\n",
       "class E3--><a href=\"psysml:47ce73ab-2c54-4db4-9d19-7bcb338cdf44\" target=\"_top\" title=\"psysml:47ce73ab-2c54-4db4-9d19-7bcb338cdf44\" xlink:actuate=\"onRequest\" xlink:href=\"psysml:47ce73ab-2c54-4db4-9d19-7bcb338cdf44\" xlink:show=\"new\" xlink:title=\"psysml:47ce73ab-2c54-4db4-9d19-7bcb338cdf44\" xlink:type=\"simple\"><rect fill=\"#FFFFFF\" height=\"45.9375\" id=\"E3\" rx=\"10\" ry=\"10\" style=\"stroke: #383838; stroke-width: 1.5;\" width=\"108\" x=\"863\" y=\"41\"/><text fill=\"#000000\" font-family=\"sans-serif\" font-size=\"12\" font-style=\"italic\" lengthAdjust=\"spacingAndGlyphs\" textLength=\"40\" x=\"897\" y=\"57.1387\">«part»</text><text fill=\"#000000\" font-family=\"sans-serif\" font-size=\"12\" lengthAdjust=\"spacingAndGlyphs\" textLength=\"102\" x=\"866\" y=\"71.1074\">engine1: Engine</text><line style=\"stroke: #383838; stroke-width: 1.5;\" x1=\"864\" x2=\"970\" y1=\"78.9375\" y2=\"78.9375\"/></a><!--MD5=[ebbe1d658d1005bcc118a6aa81145e00]\n",
       "class E4--><a href=\"psysml:7dfdc806-8438-4ccb-bd71-8b6bdaa69ab8\" target=\"_top\" title=\"psysml:7dfdc806-8438-4ccb-bd71-8b6bdaa69ab8\" xlink:actuate=\"onRequest\" xlink:href=\"psysml:7dfdc806-8438-4ccb-bd71-8b6bdaa69ab8\" xlink:show=\"new\" xlink:title=\"psysml:7dfdc806-8438-4ccb-bd71-8b6bdaa69ab8\" xlink:type=\"simple\"><rect fill=\"#FFFFFF\" height=\"45.9375\" id=\"E4\" rx=\"10\" ry=\"10\" style=\"stroke: #383838; stroke-width: 1.5;\" width=\"108\" x=\"863\" y=\"122\"/><text fill=\"#000000\" font-family=\"sans-serif\" font-size=\"12\" font-style=\"italic\" lengthAdjust=\"spacingAndGlyphs\" textLength=\"40\" x=\"897\" y=\"138.1387\">«part»</text><text fill=\"#000000\" font-family=\"sans-serif\" font-size=\"12\" lengthAdjust=\"spacingAndGlyphs\" textLength=\"102\" x=\"866\" y=\"152.1074\">engine2: Engine</text><line style=\"stroke: #383838; stroke-width: 1.5;\" x1=\"864\" x2=\"970\" y1=\"159.9375\" y2=\"159.9375\"/></a><!--MD5=[270fce915f116d4de14055a7c1d9a0f3]\n",
       "class E5--><a href=\"psysml:cd38e840-8317-467c-8230-e0f8852492a9\" target=\"_top\" title=\"psysml:cd38e840-8317-467c-8230-e0f8852492a9\" xlink:actuate=\"onRequest\" xlink:href=\"psysml:cd38e840-8317-467c-8230-e0f8852492a9\" xlink:show=\"new\" xlink:title=\"psysml:cd38e840-8317-467c-8230-e0f8852492a9\" xlink:type=\"simple\"><rect fill=\"#FFFFFF\" height=\"45.9375\" id=\"E5\" rx=\"10\" ry=\"10\" style=\"stroke: #383838; stroke-width: 1.5;\" width=\"199\" x=\"32\" y=\"167\"/><text fill=\"#000000\" font-family=\"sans-serif\" font-size=\"12\" font-style=\"italic\" lengthAdjust=\"spacingAndGlyphs\" textLength=\"64\" x=\"99.5\" y=\"183.1387\">«analysis»</text><text fill=\"#000000\" font-family=\"sans-serif\" font-size=\"12\" lengthAdjust=\"spacingAndGlyphs\" textLength=\"193\" x=\"35\" y=\"197.1074\">engineTradeStudy: TradeStudy</text><line style=\"stroke: #383838; stroke-width: 1.5;\" x1=\"33\" x2=\"230\" y1=\"204.9375\" y2=\"204.9375\"/></a><!--MD5=[60a26617385b1d2d0262a64233df1f8d]\n",
       "class E6--><a href=\"psysml:bf1db205-ea64-42b3-a829-2093a93eb81c\" target=\"_top\" title=\"psysml:bf1db205-ea64-42b3-a829-2093a93eb81c\" xlink:actuate=\"onRequest\" xlink:href=\"psysml:bf1db205-ea64-42b3-a829-2093a93eb81c\" xlink:show=\"new\" xlink:title=\"psysml:bf1db205-ea64-42b3-a829-2093a93eb81c\" xlink:type=\"simple\"><rect fill=\"#FFFFFF\" height=\"45.9375\" id=\"E6\" rx=\"10\" ry=\"10\" style=\"stroke: #383838; stroke-width: 1.5;\" width=\"251\" x=\"366\" y=\"206\"/><text fill=\"#000000\" font-family=\"sans-serif\" font-size=\"12\" font-style=\"italic\" lengthAdjust=\"spacingAndGlyphs\" textLength=\"91\" x=\"446\" y=\"222.1387\">«requirement»</text><text fill=\"#000000\" font-family=\"sans-serif\" font-size=\"12\" lengthAdjust=\"spacingAndGlyphs\" textLength=\"245\" x=\"369\" y=\"236.1074\">tradeStudyObjective: MaximizeObjective</text><line style=\"stroke: #383838; stroke-width: 1.5;\" x1=\"367\" x2=\"616\" y1=\"243.9375\" y2=\"243.9375\"/></a><!--MD5=[2156ba9850f5573cc1fc38a6a4b2f02b]\n",
       "class E7--><a href=\"psysml:081fa6ee-8a6f-4292-82c4-f5eb64360f97\" target=\"_top\" title=\"psysml:081fa6ee-8a6f-4292-82c4-f5eb64360f97\" xlink:actuate=\"onRequest\" xlink:href=\"psysml:081fa6ee-8a6f-4292-82c4-f5eb64360f97\" xlink:show=\"new\" xlink:title=\"psysml:081fa6ee-8a6f-4292-82c4-f5eb64360f97\" xlink:type=\"simple\"><rect fill=\"#FFFFFF\" height=\"75.5469\" id=\"E7\" rx=\"10\" ry=\"10\" style=\"stroke: #383838; stroke-width: 1.5;\" width=\"116\" x=\"433.5\" y=\"95\"/><text fill=\"#000000\" font-family=\"sans-serif\" font-size=\"12\" font-style=\"italic\" lengthAdjust=\"spacingAndGlyphs\" textLength=\"82\" x=\"450.5\" y=\"111.1387\">«calculation»</text><text fill=\"#000000\" font-family=\"sans-serif\" font-size=\"12\" lengthAdjust=\"spacingAndGlyphs\" textLength=\"110\" x=\"436.5\" y=\"125.1074\">objectiveFunction</text><line style=\"stroke: #383838; stroke-width: 1.5;\" x1=\"434.5\" x2=\"548.5\" y1=\"132.9375\" y2=\"132.9375\"/><text fill=\"#000000\" font-family=\"sans-serif\" font-size=\"11\" lengthAdjust=\"spacingAndGlyphs\" textLength=\"65\" x=\"439.5\" y=\"163.9526\">result: Real</text><line style=\"stroke: #383838; stroke-width: 1.0;\" x1=\"434.5\" x2=\"464\" y1=\"147.3398\" y2=\"147.3398\"/><text fill=\"#000000\" font-family=\"sans-serif\" font-size=\"11\" lengthAdjust=\"spacingAndGlyphs\" textLength=\"55\" x=\"464\" y=\"150.6479\">attributes</text><line style=\"stroke: #383838; stroke-width: 1.0;\" x1=\"519\" x2=\"548.5\" y1=\"147.3398\" y2=\"147.3398\"/></a><!--MD5=[b9389687b975829384b498ac4b7476b2]\n",
       "class E8--><a href=\"psysml:dbdbccdb-5c16-4bd3-a501-4b1c7e9ddcab\" target=\"_top\" title=\"psysml:dbdbccdb-5c16-4bd3-a501-4b1c7e9ddcab\" xlink:actuate=\"onRequest\" xlink:href=\"psysml:dbdbccdb-5c16-4bd3-a501-4b1c7e9ddcab\" xlink:show=\"new\" xlink:title=\"psysml:dbdbccdb-5c16-4bd3-a501-4b1c7e9ddcab\" xlink:type=\"simple\"><rect fill=\"#FFFFFF\" height=\"45.9375\" id=\"E8\" rx=\"10\" ry=\"10\" style=\"stroke: #383838; stroke-width: 1.5;\" width=\"124\" x=\"855\" y=\"240\"/><text fill=\"#000000\" font-family=\"sans-serif\" font-size=\"12\" font-style=\"italic\" lengthAdjust=\"spacingAndGlyphs\" textLength=\"40\" x=\"897\" y=\"256.1387\">«part»</text><text fill=\"#000000\" font-family=\"sans-serif\" font-size=\"12\" lengthAdjust=\"spacingAndGlyphs\" textLength=\"118\" x=\"858\" y=\"270.1074\">alternative: Engine</text><line style=\"stroke: #383838; stroke-width: 1.5;\" x1=\"856\" x2=\"978\" y1=\"277.9375\" y2=\"277.9375\"/></a><!--MD5=[fd4143e9d270a159db93a4ea2a975926]\n",
       "class E9--><a href=\"psysml:b6df212f-8018-4500-9608-46bc28de5179\" target=\"_top\" title=\"psysml:b6df212f-8018-4500-9608-46bc28de5179\" xlink:actuate=\"onRequest\" xlink:href=\"psysml:b6df212f-8018-4500-9608-46bc28de5179\" xlink:show=\"new\" xlink:title=\"psysml:b6df212f-8018-4500-9608-46bc28de5179\" xlink:type=\"simple\"><rect fill=\"#FFFFFF\" height=\"45.9375\" id=\"E9\" rx=\"10\" ry=\"10\" style=\"stroke: #383838; stroke-width: 1.5;\" width=\"178\" x=\"647\" y=\"111\"/><text fill=\"#000000\" font-family=\"sans-serif\" font-size=\"12\" font-style=\"italic\" lengthAdjust=\"spacingAndGlyphs\" textLength=\"40\" x=\"716\" y=\"127.1387\">«part»</text><text fill=\"#000000\" font-family=\"sans-serif\" font-size=\"12\" lengthAdjust=\"spacingAndGlyphs\" textLength=\"172\" x=\"650\" y=\"141.1074\">selectedAlternative: Engine</text><line style=\"stroke: #383838; stroke-width: 1.5;\" x1=\"648\" x2=\"824\" y1=\"148.9375\" y2=\"148.9375\"/></a><!--MD5=[05d275557350bfb9b23a4ef7222b4c39]\n",
       "link E3 to E2--><a href=\"psysml:6a611645-87b6-456f-b99f-fe1a3075932c\" target=\"_top\" title=\"psysml:6a611645-87b6-456f-b99f-fe1a3075932c\" xlink:actuate=\"onRequest\" xlink:href=\"psysml:6a611645-87b6-456f-b99f-fe1a3075932c\" xlink:show=\"new\" xlink:title=\"psysml:6a611645-87b6-456f-b99f-fe1a3075932c\" xlink:type=\"simple\"><path d=\"M956.44,87.18 C964.16,92.39 972.03,98.12 979,104 C1000.94,122.52 1022.93,145.9 1040.02,165.39 \" fill=\"none\" id=\"E3-&gt;E2\" style=\"stroke: #383838; stroke-width: 1.0;\"/><polygon fill=\"#FFFFFF\" points=\"1053.11,180.66,1035.4309,170.7883,1046.0612,161.678,1053.11,180.66\" style=\"stroke: #383838; stroke-width: 1.0;\"/><ellipse cx=\"1033.2404\" cy=\"165.1588\" fill=\"#383838\" rx=\"2\" ry=\"2\" style=\"stroke: #383838; stroke-width: 1.0;\"/><ellipse cx=\"1040.8334\" cy=\"158.6515\" fill=\"#383838\" rx=\"2\" ry=\"2\" style=\"stroke: #383838; stroke-width: 1.0;\"/></a><!--MD5=[185131fc0dcab0a4505a2ebe144e961b]\n",
       "link E4 to E2--><a href=\"psysml:c8f697e8-ebd5-44e8-8041-765052aa0dda\" target=\"_top\" title=\"psysml:c8f697e8-ebd5-44e8-8041-765052aa0dda\" xlink:actuate=\"onRequest\" xlink:href=\"psysml:c8f697e8-ebd5-44e8-8041-765052aa0dda\" xlink:show=\"new\" xlink:title=\"psysml:c8f697e8-ebd5-44e8-8041-765052aa0dda\" xlink:type=\"simple\"><path d=\"M971.43,165.47 C987.52,171.64 1005.13,178.39 1021.06,184.49 \" fill=\"none\" id=\"E4-&gt;E2\" style=\"stroke: #383838; stroke-width: 1.0;\"/><polygon fill=\"#FFFFFF\" points=\"1039.76,191.65,1019.5133,191.3857,1024.5242,178.3132,1039.76,191.65\" style=\"stroke: #383838; stroke-width: 1.0;\"/><ellipse cx=\"1014.9067\" cy=\"187.478\" fill=\"#383838\" rx=\"2\" ry=\"2\" style=\"stroke: #383838; stroke-width: 1.0;\"/><ellipse cx=\"1018.486\" cy=\"178.1405\" fill=\"#383838\" rx=\"2\" ry=\"2\" style=\"stroke: #383838; stroke-width: 1.0;\"/></a><!--MD5=[15ebcb19ae302d9b601edb458606d402]\n",
       "link E5 to E2--><a href=\"psysml:2f46211a-dc33-450b-96f1-34c5430f413d\" target=\"_top\" title=\"psysml:2f46211a-dc33-450b-96f1-34c5430f413d\" xlink:actuate=\"onRequest\" xlink:href=\"psysml:2f46211a-dc33-450b-96f1-34c5430f413d\" xlink:show=\"new\" xlink:title=\"psysml:2f46211a-dc33-450b-96f1-34c5430f413d\" xlink:type=\"simple\"><path d=\"M187.55,213.08 C234.18,231.55 303.28,256.37 366,269 C633.51,322.91 728.82,412.99 979,304 C1012.76,289.3 1039.79,255.62 1055.83,231.41 \" fill=\"none\" id=\"E5-&gt;E2\" style=\"stroke: #383838; stroke-width: 1.0; stroke-dasharray: 7.0,7.0;\"/><polygon fill=\"#383838\" points=\"1058.7,227.01,1050.4426,232.378,1055.9761,231.2029,1057.1512,236.7363,1058.7,227.01\" style=\"stroke: #383838; stroke-width: 1.0;\"/><text fill=\"#000000\" font-family=\"sans-serif\" font-size=\"13\" lengthAdjust=\"spacingAndGlyphs\" textLength=\"62\" x=\"705\" y=\"337.0669\">«subject»</text></a><!--MD5=[9120cf2e5df3bff93db8f754bbbc09b4]\n",
       "link E5 to E6--><a href=\"psysml:285bfc51-142a-40f2-bdf1-cdd7141b9b55\" target=\"_top\" title=\"psysml:285bfc51-142a-40f2-bdf1-cdd7141b9b55\" xlink:actuate=\"onRequest\" xlink:href=\"psysml:285bfc51-142a-40f2-bdf1-cdd7141b9b55\" xlink:show=\"new\" xlink:title=\"psysml:285bfc51-142a-40f2-bdf1-cdd7141b9b55\" xlink:type=\"simple\"><path d=\"M231.27,200.76 C270.35,205.02 315.87,209.98 357.75,214.54 \" fill=\"none\" id=\"E5-&gt;E6\" style=\"stroke: #383838; stroke-width: 1.0;\"/><polygon fill=\"#383838\" points=\"365.81,215.42,358.1841,211.5669,357.531,217.5313,365.81,215.42\" style=\"stroke: #383838; stroke-width: 1.0;\"/><text fill=\"#000000\" font-family=\"sans-serif\" font-size=\"13\" lengthAdjust=\"spacingAndGlyphs\" textLength=\"73\" x=\"262\" y=\"201.0669\">«objective»</text></a><!--MD5=[452b418e7f8a40397a49b8c0a78acc5b]\n",
       "reverse link E5 to E7--><a href=\"psysml:081fa6ee-8a6f-4292-82c4-f5eb64360f97\" target=\"_top\" title=\"psysml:081fa6ee-8a6f-4292-82c4-f5eb64360f97\" xlink:actuate=\"onRequest\" xlink:href=\"psysml:081fa6ee-8a6f-4292-82c4-f5eb64360f97\" xlink:show=\"new\" xlink:title=\"psysml:081fa6ee-8a6f-4292-82c4-f5eb64360f97\" xlink:type=\"simple\"><path d=\"M244.44,172.18 C307.13,162.2 382.64,150.18 433.34,142.11 \" fill=\"none\" id=\"E5&lt;-E7\" style=\"stroke: #383838; stroke-width: 1.0;\"/><polygon fill=\"#383838\" points=\"231.27,174.28,237.8239,177.2878,243.121,172.3949,236.5671,169.3871,231.27,174.28\" style=\"stroke: #383838; stroke-width: 1.0;\"/></a><!--MD5=[f1f3f9f2fc535e6147756cb86a7f2e32]\n",
       "link E8 to E2--><a href=\"psysml:143d7cb3-4d47-41f0-bb56-6d1ae515b029\" target=\"_top\" title=\"psysml:143d7cb3-4d47-41f0-bb56-6d1ae515b029\" xlink:actuate=\"onRequest\" xlink:href=\"psysml:143d7cb3-4d47-41f0-bb56-6d1ae515b029\" xlink:show=\"new\" xlink:title=\"psysml:143d7cb3-4d47-41f0-bb56-6d1ae515b029\" xlink:type=\"simple\"><path d=\"M978.42,239.85 C992.46,234.48 1007.28,228.8 1020.87,223.59 \" fill=\"none\" id=\"E8-&gt;E2\" style=\"stroke: #383838; stroke-width: 1.0;\"/><polygon fill=\"#FFFFFF\" points=\"1039.69,216.38,1024.4508,229.7129,1019.4432,216.6392,1039.69,216.38\" style=\"stroke: #383838; stroke-width: 1.0;\"/><ellipse cx=\"1018.4125\" cy=\"229.8841\" fill=\"#383838\" rx=\"2\" ry=\"2\" style=\"stroke: #383838; stroke-width: 1.0;\"/><ellipse cx=\"1014.8357\" cy=\"220.5457\" fill=\"#383838\" rx=\"2\" ry=\"2\" style=\"stroke: #383838; stroke-width: 1.0;\"/></a><!--MD5=[dc164f5e8a733ab456ef1add180e9e34]\n",
       "reverse link E7 to E8--><a href=\"psysml:dbdbccdb-5c16-4bd3-a501-4b1c7e9ddcab\" target=\"_top\" title=\"psysml:dbdbccdb-5c16-4bd3-a501-4b1c7e9ddcab\" xlink:actuate=\"onRequest\" xlink:href=\"psysml:dbdbccdb-5c16-4bd3-a501-4b1c7e9ddcab\" xlink:show=\"new\" xlink:title=\"psysml:dbdbccdb-5c16-4bd3-a501-4b1c7e9ddcab\" xlink:type=\"simple\"><path d=\"M562.22,154.41 C643.63,179.4 777.02,220.34 854.65,244.17 \" fill=\"none\" id=\"E7&lt;-E8\" style=\"stroke: #383838; stroke-width: 1.0;\"/><polygon fill=\"#FFFFFF\" points=\"549.62,150.54,554.1824,156.1243,561.0919,154.0607,556.5295,148.4764,549.62,150.54\" style=\"stroke: #383838; stroke-width: 1.0;\"/></a><!--MD5=[5c3bb36fe832a92c7f0e1807dd65209d]\n",
       "link E9 to E2--><a href=\"psysml:cb3e8ea7-f115-4f34-bcd9-dd1e6ba812b8\" target=\"_top\" title=\"psysml:cb3e8ea7-f115-4f34-bcd9-dd1e6ba812b8\" xlink:actuate=\"onRequest\" xlink:href=\"psysml:cb3e8ea7-f115-4f34-bcd9-dd1e6ba812b8\" xlink:show=\"new\" xlink:title=\"psysml:cb3e8ea7-f115-4f34-bcd9-dd1e6ba812b8\" xlink:type=\"simple\"><path d=\"M781.2,157.12 C802.86,167.4 829.68,178.6 855,185 C910.14,198.95 975.38,203.06 1019.83,204.09 \" fill=\"none\" id=\"E9-&gt;E2\" style=\"stroke: #383838; stroke-width: 1.0;\"/><polygon fill=\"#FFFFFF\" points=\"1039.84,204.37,1020.7419,211.0979,1020.9419,197.0993,1039.84,204.37\" style=\"stroke: #383838; stroke-width: 1.0;\"/><ellipse cx=\"1015.0711\" cy=\"209.0167\" fill=\"#383838\" rx=\"2\" ry=\"2\" style=\"stroke: #383838; stroke-width: 1.0;\"/><ellipse cx=\"1015.2139\" cy=\"199.0177\" fill=\"#383838\" rx=\"2\" ry=\"2\" style=\"stroke: #383838; stroke-width: 1.0;\"/></a><!--MD5=[9ae28de373ca99bb8a1b38d63370ca7e]\n",
       "reverse link E5 to E9--><a href=\"psysml:b6df212f-8018-4500-9608-46bc28de5179\" target=\"_top\" title=\"psysml:b6df212f-8018-4500-9608-46bc28de5179\" xlink:actuate=\"onRequest\" xlink:href=\"psysml:b6df212f-8018-4500-9608-46bc28de5179\" xlink:show=\"new\" xlink:title=\"psysml:b6df212f-8018-4500-9608-46bc28de5179\" xlink:type=\"simple\"><path d=\"M178.67,159.87 C224.17,132.11 296.75,92.88 366,77 C474.73,52.08 508.26,52.12 617,77 C645.83,83.6 675.81,98.2 698.34,110.97 \" fill=\"none\" id=\"E5&lt;-E9\" style=\"stroke: #383838; stroke-width: 1.0;\"/><polygon fill=\"#FFFFFF\" points=\"167.42,166.84,174.6272,167.0772,177.6181,160.5156,170.4109,160.2784,167.42,166.84\" style=\"stroke: #383838; stroke-width: 1.0;\"/></a><!--MD5=[1d8647ea2da450f4a5a19f9319b5630d]\n",
       "@startuml\r\n",
       "left to right direction\r\n",
       "skinparam monochrome true\r\n",
       "skinparam classbackgroundcolor white\r\n",
       "skinparam shadowing false\r\n",
       "skinparam wrapWidth 300\r\n",
       "hide circle\r\n",
       "\r\n",
       "package \"TradeStudyTest\" as E1  [[psysml:8952aa40-03a2-4df7-81e1-750bf2c7b589 ]]  {\r\n",
       "comp def \"Engine\" as E2  <<(T,blue)part def>> [[psysml:ba5002a0-783d-43b2-abfa-70b37f90804c ]] {\r\n",
       "}\r\n",
       "comp usage \"engine1: Engine\" as E3  <<(T,blue)part>> [[psysml:47ce73ab-2c54-4db4-9d19-7bcb338cdf44 ]] {\r\n",
       "}\r\n",
       "comp usage \"engine2: Engine\" as E4  <<(T,blue)part>> [[psysml:7dfdc806-8438-4ccb-bd71-8b6bdaa69ab8 ]] {\r\n",
       "}\r\n",
       "comp usage \"engineTradeStudy: TradeStudy\" as E5 <<analysis>> [[psysml:cd38e840-8317-467c-8230-e0f8852492a9 ]] {\r\n",
       "}\r\n",
       "comp usage \"tradeStudyObjective: MaximizeObjective\" as E6  <<(T,blue)requirement>> [[psysml:bf1db205-ea64-42b3-a829-2093a93eb81c ]] {\r\n",
       "}\r\n",
       "comp usage \"objectiveFunction\" as E7  <<(T,blue)calculation>> [[psysml:081fa6ee-8a6f-4292-82c4-f5eb64360f97 ]] {\r\n",
       "- - attributes - -\r\n",
       "result: Real\r\n",
       "}\r\n",
       "comp usage \"alternative: Engine\" as E8  <<(T,blue)part>> [[psysml:dbdbccdb-5c16-4bd3-a501-4b1c7e9ddcab ]] {\r\n",
       "}\r\n",
       "comp usage \"selectedAlternative: Engine\" as E9  <<(T,blue)part>> [[psysml:b6df212f-8018-4500-9608-46bc28de5179 ]] {\r\n",
       "}\r\n",
       "E3 - -:|> E2 [[psysml:6a611645-87b6-456f-b99f-fe1a3075932c ]] \r\n",
       "E4 - -:|> E2 [[psysml:c8f697e8-ebd5-44e8-8041-765052aa0dda ]] \r\n",
       "E5 ..> E2 [[psysml:2f46211a-dc33-450b-96f1-34c5430f413d ]] : <<subject>>\r\n",
       "E5 - ->> E6 [[psysml:285bfc51-142a-40f2-bdf1-cdd7141b9b55 ]] : <<objective>>\r\n",
       "E5 *- - E7 [[psysml:081fa6ee-8a6f-4292-82c4-f5eb64360f97 ]] \r\n",
       "E8 - -:|> E2 [[psysml:143d7cb3-4d47-41f0-bb56-6d1ae515b029 ]] \r\n",
       "E7 o- - E8 [[psysml:dbdbccdb-5c16-4bd3-a501-4b1c7e9ddcab ]] \r\n",
       "E9 - -:|> E2 [[psysml:cb3e8ea7-f115-4f34-bcd9-dd1e6ba812b8 ]] \r\n",
       "E5 o- - E9 [[psysml:b6df212f-8018-4500-9608-46bc28de5179 ]] \r\n",
       "}\r\n",
       "@enduml\r\n",
       "\n",
       "PlantUML version 1.2020.13(Sat Jun 13 12:26:38 UTC 2020)\n",
       "(EPL source distribution)\n",
       "Java Runtime: OpenJDK Runtime Environment\n",
       "JVM: OpenJDK 64-Bit Server VM\n",
       "Default Encoding: UTF-8\n",
       "Language: en\n",
       "Country: null\n",
       "--></g></svg>"
      ]
     },
     "execution_count": 21,
     "metadata": {},
     "output_type": "execute_result"
    }
   ],
   "source": [
    "%viz --style=\"LR\" --view=\"Sequence\" \"TradeStudyTest\""
   ]
  },
  {
   "cell_type": "code",
   "execution_count": 22,
   "id": "southern-helena",
   "metadata": {
    "execution": {
     "iopub.execute_input": "2021-03-25T09:29:26.461787Z",
     "iopub.status.busy": "2021-03-25T09:29:26.461114Z",
     "iopub.status.idle": "2021-03-25T09:29:26.775539Z",
     "shell.execute_reply": "2021-03-25T09:29:26.773786Z"
    }
   },
   "outputs": [
    {
     "data": {
      "image/svg+xml": [
       "<?xml version=\"1.0\" encoding=\"UTF-8\" standalone=\"no\"?><svg xmlns=\"http://www.w3.org/2000/svg\" xmlns:xlink=\"http://www.w3.org/1999/xlink\" contentScriptType=\"application/ecmascript\" contentStyleType=\"text/css\" height=\"424px\" preserveAspectRatio=\"none\" style=\"width:1144px;height:424px;\" version=\"1.1\" viewBox=\"0 0 1144 424\" width=\"1144px\" zoomAndPan=\"magnify\"><defs/><g><!--MD5=[fbc87193dbaf4d95561dea2c320d4a47]\n",
       "cluster E1--><a href=\"psysml:8952aa40-03a2-4df7-81e1-750bf2c7b589\" target=\"_top\" title=\"psysml:8952aa40-03a2-4df7-81e1-750bf2c7b589\" xlink:actuate=\"onRequest\" xlink:href=\"psysml:8952aa40-03a2-4df7-81e1-750bf2c7b589\" xlink:show=\"new\" xlink:title=\"psysml:8952aa40-03a2-4df7-81e1-750bf2c7b589\" xlink:type=\"simple\"><polygon fill=\"#FFFFFF\" points=\"16,6,148,6,155,28.2969,1122,28.2969,1122,339,16,339,16,6\" style=\"stroke: #000000; stroke-width: 1.5;\"/><line style=\"stroke: #000000; stroke-width: 1.5;\" x1=\"16\" x2=\"155\" y1=\"28.2969\" y2=\"28.2969\"/><text fill=\"#000000\" font-family=\"sans-serif\" font-size=\"14\" font-weight=\"bold\" lengthAdjust=\"spacingAndGlyphs\" textLength=\"126\" x=\"20\" y=\"20.9951\">TradeStudyTest</text></a><!--MD5=[b4997ac47864f28c2f74865a473b2911]\n",
       "class E2--><a href=\"psysml:ba5002a0-783d-43b2-abfa-70b37f90804c\" target=\"_top\" title=\"psysml:ba5002a0-783d-43b2-abfa-70b37f90804c\" xlink:actuate=\"onRequest\" xlink:href=\"psysml:ba5002a0-783d-43b2-abfa-70b37f90804c\" xlink:show=\"new\" xlink:title=\"psysml:ba5002a0-783d-43b2-abfa-70b37f90804c\" xlink:type=\"simple\"><rect fill=\"#FFFFFF\" height=\"45.9375\" id=\"E2\" style=\"stroke: #383838; stroke-width: 1.5;\" width=\"66\" x=\"1040\" y=\"181\"/><text fill=\"#000000\" font-family=\"sans-serif\" font-size=\"12\" font-style=\"italic\" lengthAdjust=\"spacingAndGlyphs\" textLength=\"64\" x=\"1041\" y=\"197.1387\">«part def»</text><text fill=\"#000000\" font-family=\"sans-serif\" font-size=\"12\" lengthAdjust=\"spacingAndGlyphs\" textLength=\"43\" x=\"1051.5\" y=\"211.1074\">Engine</text><line style=\"stroke: #383838; stroke-width: 1.5;\" x1=\"1041\" x2=\"1105\" y1=\"218.9375\" y2=\"218.9375\"/></a><!--MD5=[09b614a08d8cba4a07c9adeb5e0fee81]\n",
       "class E3--><a href=\"psysml:47ce73ab-2c54-4db4-9d19-7bcb338cdf44\" target=\"_top\" title=\"psysml:47ce73ab-2c54-4db4-9d19-7bcb338cdf44\" xlink:actuate=\"onRequest\" xlink:href=\"psysml:47ce73ab-2c54-4db4-9d19-7bcb338cdf44\" xlink:show=\"new\" xlink:title=\"psysml:47ce73ab-2c54-4db4-9d19-7bcb338cdf44\" xlink:type=\"simple\"><rect fill=\"#FFFFFF\" height=\"45.9375\" id=\"E3\" rx=\"10\" ry=\"10\" style=\"stroke: #383838; stroke-width: 1.5;\" width=\"108\" x=\"863\" y=\"41\"/><text fill=\"#000000\" font-family=\"sans-serif\" font-size=\"12\" font-style=\"italic\" lengthAdjust=\"spacingAndGlyphs\" textLength=\"40\" x=\"897\" y=\"57.1387\">«part»</text><text fill=\"#000000\" font-family=\"sans-serif\" font-size=\"12\" lengthAdjust=\"spacingAndGlyphs\" textLength=\"102\" x=\"866\" y=\"71.1074\">engine1: Engine</text><line style=\"stroke: #383838; stroke-width: 1.5;\" x1=\"864\" x2=\"970\" y1=\"78.9375\" y2=\"78.9375\"/></a><!--MD5=[ebbe1d658d1005bcc118a6aa81145e00]\n",
       "class E4--><a href=\"psysml:7dfdc806-8438-4ccb-bd71-8b6bdaa69ab8\" target=\"_top\" title=\"psysml:7dfdc806-8438-4ccb-bd71-8b6bdaa69ab8\" xlink:actuate=\"onRequest\" xlink:href=\"psysml:7dfdc806-8438-4ccb-bd71-8b6bdaa69ab8\" xlink:show=\"new\" xlink:title=\"psysml:7dfdc806-8438-4ccb-bd71-8b6bdaa69ab8\" xlink:type=\"simple\"><rect fill=\"#FFFFFF\" height=\"45.9375\" id=\"E4\" rx=\"10\" ry=\"10\" style=\"stroke: #383838; stroke-width: 1.5;\" width=\"108\" x=\"863\" y=\"122\"/><text fill=\"#000000\" font-family=\"sans-serif\" font-size=\"12\" font-style=\"italic\" lengthAdjust=\"spacingAndGlyphs\" textLength=\"40\" x=\"897\" y=\"138.1387\">«part»</text><text fill=\"#000000\" font-family=\"sans-serif\" font-size=\"12\" lengthAdjust=\"spacingAndGlyphs\" textLength=\"102\" x=\"866\" y=\"152.1074\">engine2: Engine</text><line style=\"stroke: #383838; stroke-width: 1.5;\" x1=\"864\" x2=\"970\" y1=\"159.9375\" y2=\"159.9375\"/></a><!--MD5=[270fce915f116d4de14055a7c1d9a0f3]\n",
       "class E5--><a href=\"psysml:cd38e840-8317-467c-8230-e0f8852492a9\" target=\"_top\" title=\"psysml:cd38e840-8317-467c-8230-e0f8852492a9\" xlink:actuate=\"onRequest\" xlink:href=\"psysml:cd38e840-8317-467c-8230-e0f8852492a9\" xlink:show=\"new\" xlink:title=\"psysml:cd38e840-8317-467c-8230-e0f8852492a9\" xlink:type=\"simple\"><rect fill=\"#FFFFFF\" height=\"45.9375\" id=\"E5\" rx=\"10\" ry=\"10\" style=\"stroke: #383838; stroke-width: 1.5;\" width=\"199\" x=\"32\" y=\"167\"/><text fill=\"#000000\" font-family=\"sans-serif\" font-size=\"12\" font-style=\"italic\" lengthAdjust=\"spacingAndGlyphs\" textLength=\"64\" x=\"99.5\" y=\"183.1387\">«analysis»</text><text fill=\"#000000\" font-family=\"sans-serif\" font-size=\"12\" lengthAdjust=\"spacingAndGlyphs\" textLength=\"193\" x=\"35\" y=\"197.1074\">engineTradeStudy: TradeStudy</text><line style=\"stroke: #383838; stroke-width: 1.5;\" x1=\"33\" x2=\"230\" y1=\"204.9375\" y2=\"204.9375\"/></a><!--MD5=[60a26617385b1d2d0262a64233df1f8d]\n",
       "class E6--><a href=\"psysml:bf1db205-ea64-42b3-a829-2093a93eb81c\" target=\"_top\" title=\"psysml:bf1db205-ea64-42b3-a829-2093a93eb81c\" xlink:actuate=\"onRequest\" xlink:href=\"psysml:bf1db205-ea64-42b3-a829-2093a93eb81c\" xlink:show=\"new\" xlink:title=\"psysml:bf1db205-ea64-42b3-a829-2093a93eb81c\" xlink:type=\"simple\"><rect fill=\"#FFFFFF\" height=\"45.9375\" id=\"E6\" rx=\"10\" ry=\"10\" style=\"stroke: #383838; stroke-width: 1.5;\" width=\"251\" x=\"366\" y=\"206\"/><text fill=\"#000000\" font-family=\"sans-serif\" font-size=\"12\" font-style=\"italic\" lengthAdjust=\"spacingAndGlyphs\" textLength=\"91\" x=\"446\" y=\"222.1387\">«requirement»</text><text fill=\"#000000\" font-family=\"sans-serif\" font-size=\"12\" lengthAdjust=\"spacingAndGlyphs\" textLength=\"245\" x=\"369\" y=\"236.1074\">tradeStudyObjective: MaximizeObjective</text><line style=\"stroke: #383838; stroke-width: 1.5;\" x1=\"367\" x2=\"616\" y1=\"243.9375\" y2=\"243.9375\"/></a><!--MD5=[2156ba9850f5573cc1fc38a6a4b2f02b]\n",
       "class E7--><a href=\"psysml:081fa6ee-8a6f-4292-82c4-f5eb64360f97\" target=\"_top\" title=\"psysml:081fa6ee-8a6f-4292-82c4-f5eb64360f97\" xlink:actuate=\"onRequest\" xlink:href=\"psysml:081fa6ee-8a6f-4292-82c4-f5eb64360f97\" xlink:show=\"new\" xlink:title=\"psysml:081fa6ee-8a6f-4292-82c4-f5eb64360f97\" xlink:type=\"simple\"><rect fill=\"#FFFFFF\" height=\"75.5469\" id=\"E7\" rx=\"10\" ry=\"10\" style=\"stroke: #383838; stroke-width: 1.5;\" width=\"116\" x=\"433.5\" y=\"95\"/><text fill=\"#000000\" font-family=\"sans-serif\" font-size=\"12\" font-style=\"italic\" lengthAdjust=\"spacingAndGlyphs\" textLength=\"82\" x=\"450.5\" y=\"111.1387\">«calculation»</text><text fill=\"#000000\" font-family=\"sans-serif\" font-size=\"12\" lengthAdjust=\"spacingAndGlyphs\" textLength=\"110\" x=\"436.5\" y=\"125.1074\">objectiveFunction</text><line style=\"stroke: #383838; stroke-width: 1.5;\" x1=\"434.5\" x2=\"548.5\" y1=\"132.9375\" y2=\"132.9375\"/><text fill=\"#000000\" font-family=\"sans-serif\" font-size=\"11\" lengthAdjust=\"spacingAndGlyphs\" textLength=\"65\" x=\"439.5\" y=\"163.9526\">result: Real</text><line style=\"stroke: #383838; stroke-width: 1.0;\" x1=\"434.5\" x2=\"464\" y1=\"147.3398\" y2=\"147.3398\"/><text fill=\"#000000\" font-family=\"sans-serif\" font-size=\"11\" lengthAdjust=\"spacingAndGlyphs\" textLength=\"55\" x=\"464\" y=\"150.6479\">attributes</text><line style=\"stroke: #383838; stroke-width: 1.0;\" x1=\"519\" x2=\"548.5\" y1=\"147.3398\" y2=\"147.3398\"/></a><!--MD5=[b9389687b975829384b498ac4b7476b2]\n",
       "class E8--><a href=\"psysml:dbdbccdb-5c16-4bd3-a501-4b1c7e9ddcab\" target=\"_top\" title=\"psysml:dbdbccdb-5c16-4bd3-a501-4b1c7e9ddcab\" xlink:actuate=\"onRequest\" xlink:href=\"psysml:dbdbccdb-5c16-4bd3-a501-4b1c7e9ddcab\" xlink:show=\"new\" xlink:title=\"psysml:dbdbccdb-5c16-4bd3-a501-4b1c7e9ddcab\" xlink:type=\"simple\"><rect fill=\"#FFFFFF\" height=\"45.9375\" id=\"E8\" rx=\"10\" ry=\"10\" style=\"stroke: #383838; stroke-width: 1.5;\" width=\"124\" x=\"855\" y=\"240\"/><text fill=\"#000000\" font-family=\"sans-serif\" font-size=\"12\" font-style=\"italic\" lengthAdjust=\"spacingAndGlyphs\" textLength=\"40\" x=\"897\" y=\"256.1387\">«part»</text><text fill=\"#000000\" font-family=\"sans-serif\" font-size=\"12\" lengthAdjust=\"spacingAndGlyphs\" textLength=\"118\" x=\"858\" y=\"270.1074\">alternative: Engine</text><line style=\"stroke: #383838; stroke-width: 1.5;\" x1=\"856\" x2=\"978\" y1=\"277.9375\" y2=\"277.9375\"/></a><!--MD5=[fd4143e9d270a159db93a4ea2a975926]\n",
       "class E9--><a href=\"psysml:b6df212f-8018-4500-9608-46bc28de5179\" target=\"_top\" title=\"psysml:b6df212f-8018-4500-9608-46bc28de5179\" xlink:actuate=\"onRequest\" xlink:href=\"psysml:b6df212f-8018-4500-9608-46bc28de5179\" xlink:show=\"new\" xlink:title=\"psysml:b6df212f-8018-4500-9608-46bc28de5179\" xlink:type=\"simple\"><rect fill=\"#FFFFFF\" height=\"45.9375\" id=\"E9\" rx=\"10\" ry=\"10\" style=\"stroke: #383838; stroke-width: 1.5;\" width=\"178\" x=\"647\" y=\"111\"/><text fill=\"#000000\" font-family=\"sans-serif\" font-size=\"12\" font-style=\"italic\" lengthAdjust=\"spacingAndGlyphs\" textLength=\"40\" x=\"716\" y=\"127.1387\">«part»</text><text fill=\"#000000\" font-family=\"sans-serif\" font-size=\"12\" lengthAdjust=\"spacingAndGlyphs\" textLength=\"172\" x=\"650\" y=\"141.1074\">selectedAlternative: Engine</text><line style=\"stroke: #383838; stroke-width: 1.5;\" x1=\"648\" x2=\"824\" y1=\"148.9375\" y2=\"148.9375\"/></a><!--MD5=[05d275557350bfb9b23a4ef7222b4c39]\n",
       "link E3 to E2--><a href=\"psysml:6a611645-87b6-456f-b99f-fe1a3075932c\" target=\"_top\" title=\"psysml:6a611645-87b6-456f-b99f-fe1a3075932c\" xlink:actuate=\"onRequest\" xlink:href=\"psysml:6a611645-87b6-456f-b99f-fe1a3075932c\" xlink:show=\"new\" xlink:title=\"psysml:6a611645-87b6-456f-b99f-fe1a3075932c\" xlink:type=\"simple\"><path d=\"M956.44,87.18 C964.16,92.39 972.03,98.12 979,104 C1000.94,122.52 1022.93,145.9 1040.02,165.39 \" fill=\"none\" id=\"E3-&gt;E2\" style=\"stroke: #383838; stroke-width: 1.0;\"/><polygon fill=\"#FFFFFF\" points=\"1053.11,180.66,1035.4309,170.7883,1046.0612,161.678,1053.11,180.66\" style=\"stroke: #383838; stroke-width: 1.0;\"/><ellipse cx=\"1033.2404\" cy=\"165.1588\" fill=\"#383838\" rx=\"2\" ry=\"2\" style=\"stroke: #383838; stroke-width: 1.0;\"/><ellipse cx=\"1040.8334\" cy=\"158.6515\" fill=\"#383838\" rx=\"2\" ry=\"2\" style=\"stroke: #383838; stroke-width: 1.0;\"/></a><!--MD5=[185131fc0dcab0a4505a2ebe144e961b]\n",
       "link E4 to E2--><a href=\"psysml:c8f697e8-ebd5-44e8-8041-765052aa0dda\" target=\"_top\" title=\"psysml:c8f697e8-ebd5-44e8-8041-765052aa0dda\" xlink:actuate=\"onRequest\" xlink:href=\"psysml:c8f697e8-ebd5-44e8-8041-765052aa0dda\" xlink:show=\"new\" xlink:title=\"psysml:c8f697e8-ebd5-44e8-8041-765052aa0dda\" xlink:type=\"simple\"><path d=\"M971.43,165.47 C987.52,171.64 1005.13,178.39 1021.06,184.49 \" fill=\"none\" id=\"E4-&gt;E2\" style=\"stroke: #383838; stroke-width: 1.0;\"/><polygon fill=\"#FFFFFF\" points=\"1039.76,191.65,1019.5133,191.3857,1024.5242,178.3132,1039.76,191.65\" style=\"stroke: #383838; stroke-width: 1.0;\"/><ellipse cx=\"1014.9067\" cy=\"187.478\" fill=\"#383838\" rx=\"2\" ry=\"2\" style=\"stroke: #383838; stroke-width: 1.0;\"/><ellipse cx=\"1018.486\" cy=\"178.1405\" fill=\"#383838\" rx=\"2\" ry=\"2\" style=\"stroke: #383838; stroke-width: 1.0;\"/></a><!--MD5=[15ebcb19ae302d9b601edb458606d402]\n",
       "link E5 to E2--><a href=\"psysml:2f46211a-dc33-450b-96f1-34c5430f413d\" target=\"_top\" title=\"psysml:2f46211a-dc33-450b-96f1-34c5430f413d\" xlink:actuate=\"onRequest\" xlink:href=\"psysml:2f46211a-dc33-450b-96f1-34c5430f413d\" xlink:show=\"new\" xlink:title=\"psysml:2f46211a-dc33-450b-96f1-34c5430f413d\" xlink:type=\"simple\"><path d=\"M187.55,213.08 C234.18,231.55 303.28,256.37 366,269 C633.51,322.91 728.82,412.99 979,304 C1012.76,289.3 1039.79,255.62 1055.83,231.41 \" fill=\"none\" id=\"E5-&gt;E2\" style=\"stroke: #383838; stroke-width: 1.0; stroke-dasharray: 7.0,7.0;\"/><polygon fill=\"#383838\" points=\"1058.7,227.01,1050.4426,232.378,1055.9761,231.2029,1057.1512,236.7363,1058.7,227.01\" style=\"stroke: #383838; stroke-width: 1.0;\"/><text fill=\"#000000\" font-family=\"sans-serif\" font-size=\"13\" lengthAdjust=\"spacingAndGlyphs\" textLength=\"62\" x=\"705\" y=\"337.0669\">«subject»</text></a><!--MD5=[9120cf2e5df3bff93db8f754bbbc09b4]\n",
       "link E5 to E6--><a href=\"psysml:285bfc51-142a-40f2-bdf1-cdd7141b9b55\" target=\"_top\" title=\"psysml:285bfc51-142a-40f2-bdf1-cdd7141b9b55\" xlink:actuate=\"onRequest\" xlink:href=\"psysml:285bfc51-142a-40f2-bdf1-cdd7141b9b55\" xlink:show=\"new\" xlink:title=\"psysml:285bfc51-142a-40f2-bdf1-cdd7141b9b55\" xlink:type=\"simple\"><path d=\"M231.27,200.76 C270.35,205.02 315.87,209.98 357.75,214.54 \" fill=\"none\" id=\"E5-&gt;E6\" style=\"stroke: #383838; stroke-width: 1.0;\"/><polygon fill=\"#383838\" points=\"365.81,215.42,358.1841,211.5669,357.531,217.5313,365.81,215.42\" style=\"stroke: #383838; stroke-width: 1.0;\"/><text fill=\"#000000\" font-family=\"sans-serif\" font-size=\"13\" lengthAdjust=\"spacingAndGlyphs\" textLength=\"73\" x=\"262\" y=\"201.0669\">«objective»</text></a><!--MD5=[452b418e7f8a40397a49b8c0a78acc5b]\n",
       "reverse link E5 to E7--><a href=\"psysml:081fa6ee-8a6f-4292-82c4-f5eb64360f97\" target=\"_top\" title=\"psysml:081fa6ee-8a6f-4292-82c4-f5eb64360f97\" xlink:actuate=\"onRequest\" xlink:href=\"psysml:081fa6ee-8a6f-4292-82c4-f5eb64360f97\" xlink:show=\"new\" xlink:title=\"psysml:081fa6ee-8a6f-4292-82c4-f5eb64360f97\" xlink:type=\"simple\"><path d=\"M244.44,172.18 C307.13,162.2 382.64,150.18 433.34,142.11 \" fill=\"none\" id=\"E5&lt;-E7\" style=\"stroke: #383838; stroke-width: 1.0;\"/><polygon fill=\"#383838\" points=\"231.27,174.28,237.8239,177.2878,243.121,172.3949,236.5671,169.3871,231.27,174.28\" style=\"stroke: #383838; stroke-width: 1.0;\"/></a><!--MD5=[f1f3f9f2fc535e6147756cb86a7f2e32]\n",
       "link E8 to E2--><a href=\"psysml:143d7cb3-4d47-41f0-bb56-6d1ae515b029\" target=\"_top\" title=\"psysml:143d7cb3-4d47-41f0-bb56-6d1ae515b029\" xlink:actuate=\"onRequest\" xlink:href=\"psysml:143d7cb3-4d47-41f0-bb56-6d1ae515b029\" xlink:show=\"new\" xlink:title=\"psysml:143d7cb3-4d47-41f0-bb56-6d1ae515b029\" xlink:type=\"simple\"><path d=\"M978.42,239.85 C992.46,234.48 1007.28,228.8 1020.87,223.59 \" fill=\"none\" id=\"E8-&gt;E2\" style=\"stroke: #383838; stroke-width: 1.0;\"/><polygon fill=\"#FFFFFF\" points=\"1039.69,216.38,1024.4508,229.7129,1019.4432,216.6392,1039.69,216.38\" style=\"stroke: #383838; stroke-width: 1.0;\"/><ellipse cx=\"1018.4125\" cy=\"229.8841\" fill=\"#383838\" rx=\"2\" ry=\"2\" style=\"stroke: #383838; stroke-width: 1.0;\"/><ellipse cx=\"1014.8357\" cy=\"220.5457\" fill=\"#383838\" rx=\"2\" ry=\"2\" style=\"stroke: #383838; stroke-width: 1.0;\"/></a><!--MD5=[dc164f5e8a733ab456ef1add180e9e34]\n",
       "reverse link E7 to E8--><a href=\"psysml:dbdbccdb-5c16-4bd3-a501-4b1c7e9ddcab\" target=\"_top\" title=\"psysml:dbdbccdb-5c16-4bd3-a501-4b1c7e9ddcab\" xlink:actuate=\"onRequest\" xlink:href=\"psysml:dbdbccdb-5c16-4bd3-a501-4b1c7e9ddcab\" xlink:show=\"new\" xlink:title=\"psysml:dbdbccdb-5c16-4bd3-a501-4b1c7e9ddcab\" xlink:type=\"simple\"><path d=\"M562.22,154.41 C643.63,179.4 777.02,220.34 854.65,244.17 \" fill=\"none\" id=\"E7&lt;-E8\" style=\"stroke: #383838; stroke-width: 1.0;\"/><polygon fill=\"#FFFFFF\" points=\"549.62,150.54,554.1824,156.1243,561.0919,154.0607,556.5295,148.4764,549.62,150.54\" style=\"stroke: #383838; stroke-width: 1.0;\"/></a><!--MD5=[5c3bb36fe832a92c7f0e1807dd65209d]\n",
       "link E9 to E2--><a href=\"psysml:cb3e8ea7-f115-4f34-bcd9-dd1e6ba812b8\" target=\"_top\" title=\"psysml:cb3e8ea7-f115-4f34-bcd9-dd1e6ba812b8\" xlink:actuate=\"onRequest\" xlink:href=\"psysml:cb3e8ea7-f115-4f34-bcd9-dd1e6ba812b8\" xlink:show=\"new\" xlink:title=\"psysml:cb3e8ea7-f115-4f34-bcd9-dd1e6ba812b8\" xlink:type=\"simple\"><path d=\"M781.2,157.12 C802.86,167.4 829.68,178.6 855,185 C910.14,198.95 975.38,203.06 1019.83,204.09 \" fill=\"none\" id=\"E9-&gt;E2\" style=\"stroke: #383838; stroke-width: 1.0;\"/><polygon fill=\"#FFFFFF\" points=\"1039.84,204.37,1020.7419,211.0979,1020.9419,197.0993,1039.84,204.37\" style=\"stroke: #383838; stroke-width: 1.0;\"/><ellipse cx=\"1015.0711\" cy=\"209.0167\" fill=\"#383838\" rx=\"2\" ry=\"2\" style=\"stroke: #383838; stroke-width: 1.0;\"/><ellipse cx=\"1015.2139\" cy=\"199.0177\" fill=\"#383838\" rx=\"2\" ry=\"2\" style=\"stroke: #383838; stroke-width: 1.0;\"/></a><!--MD5=[9ae28de373ca99bb8a1b38d63370ca7e]\n",
       "reverse link E5 to E9--><a href=\"psysml:b6df212f-8018-4500-9608-46bc28de5179\" target=\"_top\" title=\"psysml:b6df212f-8018-4500-9608-46bc28de5179\" xlink:actuate=\"onRequest\" xlink:href=\"psysml:b6df212f-8018-4500-9608-46bc28de5179\" xlink:show=\"new\" xlink:title=\"psysml:b6df212f-8018-4500-9608-46bc28de5179\" xlink:type=\"simple\"><path d=\"M178.67,159.87 C224.17,132.11 296.75,92.88 366,77 C474.73,52.08 508.26,52.12 617,77 C645.83,83.6 675.81,98.2 698.34,110.97 \" fill=\"none\" id=\"E5&lt;-E9\" style=\"stroke: #383838; stroke-width: 1.0;\"/><polygon fill=\"#FFFFFF\" points=\"167.42,166.84,174.6272,167.0772,177.6181,160.5156,170.4109,160.2784,167.42,166.84\" style=\"stroke: #383838; stroke-width: 1.0;\"/></a><!--MD5=[1d8647ea2da450f4a5a19f9319b5630d]\n",
       "@startuml\r\n",
       "left to right direction\r\n",
       "skinparam monochrome true\r\n",
       "skinparam classbackgroundcolor white\r\n",
       "skinparam shadowing false\r\n",
       "skinparam wrapWidth 300\r\n",
       "hide circle\r\n",
       "\r\n",
       "package \"TradeStudyTest\" as E1  [[psysml:8952aa40-03a2-4df7-81e1-750bf2c7b589 ]]  {\r\n",
       "comp def \"Engine\" as E2  <<(T,blue)part def>> [[psysml:ba5002a0-783d-43b2-abfa-70b37f90804c ]] {\r\n",
       "}\r\n",
       "comp usage \"engine1: Engine\" as E3  <<(T,blue)part>> [[psysml:47ce73ab-2c54-4db4-9d19-7bcb338cdf44 ]] {\r\n",
       "}\r\n",
       "comp usage \"engine2: Engine\" as E4  <<(T,blue)part>> [[psysml:7dfdc806-8438-4ccb-bd71-8b6bdaa69ab8 ]] {\r\n",
       "}\r\n",
       "comp usage \"engineTradeStudy: TradeStudy\" as E5 <<analysis>> [[psysml:cd38e840-8317-467c-8230-e0f8852492a9 ]] {\r\n",
       "}\r\n",
       "comp usage \"tradeStudyObjective: MaximizeObjective\" as E6  <<(T,blue)requirement>> [[psysml:bf1db205-ea64-42b3-a829-2093a93eb81c ]] {\r\n",
       "}\r\n",
       "comp usage \"objectiveFunction\" as E7  <<(T,blue)calculation>> [[psysml:081fa6ee-8a6f-4292-82c4-f5eb64360f97 ]] {\r\n",
       "- - attributes - -\r\n",
       "result: Real\r\n",
       "}\r\n",
       "comp usage \"alternative: Engine\" as E8  <<(T,blue)part>> [[psysml:dbdbccdb-5c16-4bd3-a501-4b1c7e9ddcab ]] {\r\n",
       "}\r\n",
       "comp usage \"selectedAlternative: Engine\" as E9  <<(T,blue)part>> [[psysml:b6df212f-8018-4500-9608-46bc28de5179 ]] {\r\n",
       "}\r\n",
       "E3 - -:|> E2 [[psysml:6a611645-87b6-456f-b99f-fe1a3075932c ]] \r\n",
       "E4 - -:|> E2 [[psysml:c8f697e8-ebd5-44e8-8041-765052aa0dda ]] \r\n",
       "E5 ..> E2 [[psysml:2f46211a-dc33-450b-96f1-34c5430f413d ]] : <<subject>>\r\n",
       "E5 - ->> E6 [[psysml:285bfc51-142a-40f2-bdf1-cdd7141b9b55 ]] : <<objective>>\r\n",
       "E5 *- - E7 [[psysml:081fa6ee-8a6f-4292-82c4-f5eb64360f97 ]] \r\n",
       "E8 - -:|> E2 [[psysml:143d7cb3-4d47-41f0-bb56-6d1ae515b029 ]] \r\n",
       "E7 o- - E8 [[psysml:dbdbccdb-5c16-4bd3-a501-4b1c7e9ddcab ]] \r\n",
       "E9 - -:|> E2 [[psysml:cb3e8ea7-f115-4f34-bcd9-dd1e6ba812b8 ]] \r\n",
       "E5 o- - E9 [[psysml:b6df212f-8018-4500-9608-46bc28de5179 ]] \r\n",
       "}\r\n",
       "@enduml\r\n",
       "\n",
       "PlantUML version 1.2020.13(Sat Jun 13 12:26:38 UTC 2020)\n",
       "(EPL source distribution)\n",
       "Java Runtime: OpenJDK Runtime Environment\n",
       "JVM: OpenJDK 64-Bit Server VM\n",
       "Default Encoding: UTF-8\n",
       "Language: en\n",
       "Country: null\n",
       "--></g></svg>"
      ]
     },
     "execution_count": 22,
     "metadata": {},
     "output_type": "execute_result"
    }
   ],
   "source": [
    "%viz --style=\"LR\" --view=\"MIXED\" \"TradeStudyTest\""
   ]
  },
  {
   "cell_type": "code",
   "execution_count": 23,
   "id": "steady-israeli",
   "metadata": {
    "execution": {
     "iopub.execute_input": "2021-03-25T09:29:26.825079Z",
     "iopub.status.busy": "2021-03-25T09:29:26.824697Z",
     "iopub.status.idle": "2021-03-25T09:29:27.042279Z",
     "shell.execute_reply": "2021-03-25T09:29:27.040813Z"
    }
   },
   "outputs": [
    {
     "data": {
      "image/svg+xml": [
       "<?xml version=\"1.0\" encoding=\"UTF-8\" standalone=\"no\"?><svg xmlns=\"http://www.w3.org/2000/svg\" xmlns:xlink=\"http://www.w3.org/1999/xlink\" contentScriptType=\"application/ecmascript\" contentStyleType=\"text/css\" height=\"510px\" preserveAspectRatio=\"none\" style=\"width:559px;height:510px;\" version=\"1.1\" viewBox=\"0 0 559 510\" width=\"559px\" zoomAndPan=\"magnify\"><defs><filter height=\"300%\" id=\"fhu5yh63lz7av\" width=\"300%\" x=\"-1\" y=\"-1\"><feGaussianBlur result=\"blurOut\" stdDeviation=\"2.0\"/><feColorMatrix in=\"blurOut\" result=\"blurOut2\" type=\"matrix\" values=\"0 0 0 0 0 0 0 0 0 0 0 0 0 0 0 0 0 0 .4 0\"/><feOffset dx=\"4.0\" dy=\"4.0\" in=\"blurOut2\" result=\"blurOut3\"/><feBlend in=\"SourceGraphic\" in2=\"blurOut3\" mode=\"normal\"/></filter></defs><g><!--MD5=[fbc87193dbaf4d95561dea2c320d4a47]\n",
       "cluster E1--><a href=\"psysml:8952aa40-03a2-4df7-81e1-750bf2c7b589\" target=\"_top\" title=\"psysml:8952aa40-03a2-4df7-81e1-750bf2c7b589\" xlink:actuate=\"onRequest\" xlink:href=\"psysml:8952aa40-03a2-4df7-81e1-750bf2c7b589\" xlink:show=\"new\" xlink:title=\"psysml:8952aa40-03a2-4df7-81e1-750bf2c7b589\" xlink:type=\"simple\"><polygon fill=\"#FFFFFF\" filter=\"url(#fhu5yh63lz7av)\" points=\"21.42,6,153.42,6,160.42,28.2969,537.42,28.2969,537.42,498,21.42,498,21.42,6\" style=\"stroke: #000000; stroke-width: 1.5;\"/><line style=\"stroke: #000000; stroke-width: 1.5;\" x1=\"21.42\" x2=\"160.42\" y1=\"28.2969\" y2=\"28.2969\"/><text fill=\"#000000\" font-family=\"sans-serif\" font-size=\"14\" font-weight=\"bold\" lengthAdjust=\"spacingAndGlyphs\" textLength=\"126\" x=\"25.42\" y=\"20.9951\">TradeStudyTest</text></a><!--MD5=[b4997ac47864f28c2f74865a473b2911]\n",
       "class E2--><a href=\"psysml:ba5002a0-783d-43b2-abfa-70b37f90804c\" target=\"_top\" title=\"psysml:ba5002a0-783d-43b2-abfa-70b37f90804c\" xlink:actuate=\"onRequest\" xlink:href=\"psysml:ba5002a0-783d-43b2-abfa-70b37f90804c\" xlink:show=\"new\" xlink:title=\"psysml:ba5002a0-783d-43b2-abfa-70b37f90804c\" xlink:type=\"simple\"><rect fill=\"#FEFECE\" filter=\"url(#fhu5yh63lz7av)\" height=\"45.9375\" id=\"E2\" style=\"stroke: #A80036; stroke-width: 1.5;\" width=\"66\" x=\"201.42\" y=\"436\"/><text fill=\"#000000\" font-family=\"sans-serif\" font-size=\"12\" font-style=\"italic\" lengthAdjust=\"spacingAndGlyphs\" textLength=\"64\" x=\"202.42\" y=\"452.1387\">«part def»</text><text fill=\"#000000\" font-family=\"sans-serif\" font-size=\"12\" lengthAdjust=\"spacingAndGlyphs\" textLength=\"43\" x=\"212.92\" y=\"466.1074\">Engine</text><line style=\"stroke: #A80036; stroke-width: 1.5;\" x1=\"202.42\" x2=\"266.42\" y1=\"473.9375\" y2=\"473.9375\"/></a><!--MD5=[09b614a08d8cba4a07c9adeb5e0fee81]\n",
       "class E3--><a href=\"psysml:47ce73ab-2c54-4db4-9d19-7bcb338cdf44\" target=\"_top\" title=\"psysml:47ce73ab-2c54-4db4-9d19-7bcb338cdf44\" xlink:actuate=\"onRequest\" xlink:href=\"psysml:47ce73ab-2c54-4db4-9d19-7bcb338cdf44\" xlink:show=\"new\" xlink:title=\"psysml:47ce73ab-2c54-4db4-9d19-7bcb338cdf44\" xlink:type=\"simple\"><rect fill=\"#FEFECE\" filter=\"url(#fhu5yh63lz7av)\" height=\"45.9375\" id=\"E3\" rx=\"10\" ry=\"10\" style=\"stroke: #A80036; stroke-width: 1.5;\" width=\"108\" x=\"413.42\" y=\"329\"/><text fill=\"#000000\" font-family=\"sans-serif\" font-size=\"12\" font-style=\"italic\" lengthAdjust=\"spacingAndGlyphs\" textLength=\"40\" x=\"447.42\" y=\"345.1387\">«part»</text><text fill=\"#000000\" font-family=\"sans-serif\" font-size=\"12\" lengthAdjust=\"spacingAndGlyphs\" textLength=\"102\" x=\"416.42\" y=\"359.1074\">engine1: Engine</text><line style=\"stroke: #A80036; stroke-width: 1.5;\" x1=\"414.42\" x2=\"520.42\" y1=\"366.9375\" y2=\"366.9375\"/></a><!--MD5=[ebbe1d658d1005bcc118a6aa81145e00]\n",
       "class E4--><a href=\"psysml:7dfdc806-8438-4ccb-bd71-8b6bdaa69ab8\" target=\"_top\" title=\"psysml:7dfdc806-8438-4ccb-bd71-8b6bdaa69ab8\" xlink:actuate=\"onRequest\" xlink:href=\"psysml:7dfdc806-8438-4ccb-bd71-8b6bdaa69ab8\" xlink:show=\"new\" xlink:title=\"psysml:7dfdc806-8438-4ccb-bd71-8b6bdaa69ab8\" xlink:type=\"simple\"><rect fill=\"#FEFECE\" filter=\"url(#fhu5yh63lz7av)\" height=\"45.9375\" id=\"E4\" rx=\"10\" ry=\"10\" style=\"stroke: #A80036; stroke-width: 1.5;\" width=\"108\" x=\"270.42\" y=\"329\"/><text fill=\"#000000\" font-family=\"sans-serif\" font-size=\"12\" font-style=\"italic\" lengthAdjust=\"spacingAndGlyphs\" textLength=\"40\" x=\"304.42\" y=\"345.1387\">«part»</text><text fill=\"#000000\" font-family=\"sans-serif\" font-size=\"12\" lengthAdjust=\"spacingAndGlyphs\" textLength=\"102\" x=\"273.42\" y=\"359.1074\">engine2: Engine</text><line style=\"stroke: #A80036; stroke-width: 1.5;\" x1=\"271.42\" x2=\"377.42\" y1=\"366.9375\" y2=\"366.9375\"/></a><!--MD5=[270fce915f116d4de14055a7c1d9a0f3]\n",
       "class E5--><a href=\"psysml:cd38e840-8317-467c-8230-e0f8852492a9\" target=\"_top\" title=\"psysml:cd38e840-8317-467c-8230-e0f8852492a9\" xlink:actuate=\"onRequest\" xlink:href=\"psysml:cd38e840-8317-467c-8230-e0f8852492a9\" xlink:show=\"new\" xlink:title=\"psysml:cd38e840-8317-467c-8230-e0f8852492a9\" xlink:type=\"simple\"><rect fill=\"#FEFECE\" filter=\"url(#fhu5yh63lz7av)\" height=\"45.9375\" id=\"E5\" rx=\"10\" ry=\"10\" style=\"stroke: #A80036; stroke-width: 1.5;\" width=\"199\" x=\"242.92\" y=\"41\"/><text fill=\"#000000\" font-family=\"sans-serif\" font-size=\"12\" font-style=\"italic\" lengthAdjust=\"spacingAndGlyphs\" textLength=\"64\" x=\"310.42\" y=\"57.1387\">«analysis»</text><text fill=\"#000000\" font-family=\"sans-serif\" font-size=\"12\" lengthAdjust=\"spacingAndGlyphs\" textLength=\"193\" x=\"245.92\" y=\"71.1074\">engineTradeStudy: TradeStudy</text><line style=\"stroke: #A80036; stroke-width: 1.5;\" x1=\"243.92\" x2=\"440.92\" y1=\"78.9375\" y2=\"78.9375\"/></a><!--MD5=[60a26617385b1d2d0262a64233df1f8d]\n",
       "class E6--><a href=\"psysml:bf1db205-ea64-42b3-a829-2093a93eb81c\" target=\"_top\" title=\"psysml:bf1db205-ea64-42b3-a829-2093a93eb81c\" xlink:actuate=\"onRequest\" xlink:href=\"psysml:bf1db205-ea64-42b3-a829-2093a93eb81c\" xlink:show=\"new\" xlink:title=\"psysml:bf1db205-ea64-42b3-a829-2093a93eb81c\" xlink:type=\"simple\"><rect fill=\"#FEFECE\" filter=\"url(#fhu5yh63lz7av)\" height=\"45.9375\" id=\"E6\" rx=\"10\" ry=\"10\" style=\"stroke: #A80036; stroke-width: 1.5;\" width=\"251\" x=\"81.92\" y=\"170.5\"/><text fill=\"#000000\" font-family=\"sans-serif\" font-size=\"12\" font-style=\"italic\" lengthAdjust=\"spacingAndGlyphs\" textLength=\"91\" x=\"161.92\" y=\"186.6387\">«requirement»</text><text fill=\"#000000\" font-family=\"sans-serif\" font-size=\"12\" lengthAdjust=\"spacingAndGlyphs\" textLength=\"245\" x=\"84.92\" y=\"200.6074\">tradeStudyObjective: MaximizeObjective</text><line style=\"stroke: #A80036; stroke-width: 1.5;\" x1=\"82.92\" x2=\"331.92\" y1=\"208.4375\" y2=\"208.4375\"/></a><!--MD5=[2156ba9850f5573cc1fc38a6a4b2f02b]\n",
       "class E7--><a href=\"psysml:081fa6ee-8a6f-4292-82c4-f5eb64360f97\" target=\"_top\" title=\"psysml:081fa6ee-8a6f-4292-82c4-f5eb64360f97\" xlink:actuate=\"onRequest\" xlink:href=\"psysml:081fa6ee-8a6f-4292-82c4-f5eb64360f97\" xlink:show=\"new\" xlink:title=\"psysml:081fa6ee-8a6f-4292-82c4-f5eb64360f97\" xlink:type=\"simple\"><rect fill=\"#FEFECE\" filter=\"url(#fhu5yh63lz7av)\" height=\"58.7422\" id=\"E7\" rx=\"10\" ry=\"10\" style=\"stroke: #A80036; stroke-width: 1.5;\" width=\"116\" x=\"368.42\" y=\"164\"/><text fill=\"#000000\" font-family=\"sans-serif\" font-size=\"12\" font-style=\"italic\" lengthAdjust=\"spacingAndGlyphs\" textLength=\"82\" x=\"385.42\" y=\"180.1387\">«calculation»</text><text fill=\"#000000\" font-family=\"sans-serif\" font-size=\"12\" lengthAdjust=\"spacingAndGlyphs\" textLength=\"110\" x=\"371.42\" y=\"194.1074\">objectiveFunction</text><line style=\"stroke: #A80036; stroke-width: 1.5;\" x1=\"369.42\" x2=\"483.42\" y1=\"201.9375\" y2=\"201.9375\"/><text fill=\"#000000\" font-family=\"sans-serif\" font-size=\"11\" lengthAdjust=\"spacingAndGlyphs\" textLength=\"65\" x=\"374.42\" y=\"216.1479\">result: Real</text></a><!--MD5=[b9389687b975829384b498ac4b7476b2]\n",
       "class E8--><a href=\"psysml:dbdbccdb-5c16-4bd3-a501-4b1c7e9ddcab\" target=\"_top\" title=\"psysml:dbdbccdb-5c16-4bd3-a501-4b1c7e9ddcab\" xlink:actuate=\"onRequest\" xlink:href=\"psysml:dbdbccdb-5c16-4bd3-a501-4b1c7e9ddcab\" xlink:show=\"new\" xlink:title=\"psysml:dbdbccdb-5c16-4bd3-a501-4b1c7e9ddcab\" xlink:type=\"simple\"><rect fill=\"#FEFECE\" filter=\"url(#fhu5yh63lz7av)\" height=\"45.9375\" id=\"E8\" rx=\"10\" ry=\"10\" style=\"stroke: #A80036; stroke-width: 1.5;\" width=\"124\" x=\"74.42\" y=\"329\"/><text fill=\"#000000\" font-family=\"sans-serif\" font-size=\"12\" font-style=\"italic\" lengthAdjust=\"spacingAndGlyphs\" textLength=\"40\" x=\"116.42\" y=\"345.1387\">«part»</text><text fill=\"#000000\" font-family=\"sans-serif\" font-size=\"12\" lengthAdjust=\"spacingAndGlyphs\" textLength=\"118\" x=\"77.42\" y=\"359.1074\">alternative: Engine</text><line style=\"stroke: #A80036; stroke-width: 1.5;\" x1=\"75.42\" x2=\"197.42\" y1=\"366.9375\" y2=\"366.9375\"/></a><!--MD5=[fd4143e9d270a159db93a4ea2a975926]\n",
       "class E9--><a href=\"psysml:b6df212f-8018-4500-9608-46bc28de5179\" target=\"_top\" title=\"psysml:b6df212f-8018-4500-9608-46bc28de5179\" xlink:actuate=\"onRequest\" xlink:href=\"psysml:b6df212f-8018-4500-9608-46bc28de5179\" xlink:show=\"new\" xlink:title=\"psysml:b6df212f-8018-4500-9608-46bc28de5179\" xlink:type=\"simple\"><rect fill=\"#FEFECE\" filter=\"url(#fhu5yh63lz7av)\" height=\"45.9375\" id=\"E9\" rx=\"10\" ry=\"10\" style=\"stroke: #A80036; stroke-width: 1.5;\" width=\"178\" x=\"294.42\" y=\"253\"/><text fill=\"#000000\" font-family=\"sans-serif\" font-size=\"12\" font-style=\"italic\" lengthAdjust=\"spacingAndGlyphs\" textLength=\"40\" x=\"363.42\" y=\"269.1387\">«part»</text><text fill=\"#000000\" font-family=\"sans-serif\" font-size=\"12\" lengthAdjust=\"spacingAndGlyphs\" textLength=\"172\" x=\"297.42\" y=\"283.1074\">selectedAlternative: Engine</text><line style=\"stroke: #A80036; stroke-width: 1.5;\" x1=\"295.42\" x2=\"471.42\" y1=\"290.9375\" y2=\"290.9375\"/></a><!--MD5=[05d275557350bfb9b23a4ef7222b4c39]\n",
       "link E3 to E2--><a href=\"psysml:6a611645-87b6-456f-b99f-fe1a3075932c\" target=\"_top\" title=\"psysml:6a611645-87b6-456f-b99f-fe1a3075932c\" xlink:actuate=\"onRequest\" xlink:href=\"psysml:6a611645-87b6-456f-b99f-fe1a3075932c\" xlink:show=\"new\" xlink:title=\"psysml:6a611645-87b6-456f-b99f-fe1a3075932c\" xlink:type=\"simple\"><path d=\"M418.58,375.01 C379.67,392.54 325.37,417.01 285.81,434.84 \" fill=\"none\" id=\"E3-&gt;E2\" style=\"stroke: #A80036; stroke-width: 1.0;\"/><polygon fill=\"#FFFFFF\" points=\"267.44,443.12,281.8866,428.9321,287.6383,441.696,267.44,443.12\" style=\"stroke: #A80036; stroke-width: 1.0;\"/><ellipse cx=\"287.905\" cy=\"428.4137\" fill=\"#A80036\" rx=\"2\" ry=\"2\" style=\"stroke: #A80036; stroke-width: 1.0;\"/><ellipse cx=\"292.0134\" cy=\"437.5308\" fill=\"#A80036\" rx=\"2\" ry=\"2\" style=\"stroke: #A80036; stroke-width: 1.0;\"/></a><!--MD5=[185131fc0dcab0a4505a2ebe144e961b]\n",
       "link E4 to E2--><a href=\"psysml:c8f697e8-ebd5-44e8-8041-765052aa0dda\" target=\"_top\" title=\"psysml:c8f697e8-ebd5-44e8-8041-765052aa0dda\" xlink:actuate=\"onRequest\" xlink:href=\"psysml:c8f697e8-ebd5-44e8-8041-765052aa0dda\" xlink:show=\"new\" xlink:title=\"psysml:c8f697e8-ebd5-44e8-8041-765052aa0dda\" xlink:type=\"simple\"><path d=\"M305.55,375.01 C294.35,388.08 279.84,405.01 266.84,420.17 \" fill=\"none\" id=\"E4-&gt;E2\" style=\"stroke: #A80036; stroke-width: 1.0;\"/><polygon fill=\"#FFFFFF\" points=\"253.57,435.66,260.6188,416.678,271.2491,425.7883,253.57,435.66\" style=\"stroke: #A80036; stroke-width: 1.0;\"/><ellipse cx=\"265.8466\" cy=\"413.6515\" fill=\"#A80036\" rx=\"2\" ry=\"2\" style=\"stroke: #A80036; stroke-width: 1.0;\"/><ellipse cx=\"273.4396\" cy=\"420.1588\" fill=\"#A80036\" rx=\"2\" ry=\"2\" style=\"stroke: #A80036; stroke-width: 1.0;\"/></a><!--MD5=[15ebcb19ae302d9b601edb458606d402]\n",
       "link E5 to E2--><a href=\"psysml:2f46211a-dc33-450b-96f1-34c5430f413d\" target=\"_top\" title=\"psysml:2f46211a-dc33-450b-96f1-34c5430f413d\" xlink:actuate=\"onRequest\" xlink:href=\"psysml:2f46211a-dc33-450b-96f1-34c5430f413d\" xlink:show=\"new\" xlink:title=\"psysml:2f46211a-dc33-450b-96f1-34c5430f413d\" xlink:type=\"simple\"><path d=\"M242.78,73.16 C180.98,83.88 105.72,108.36 64.42,164 C8.48,239.35 6,295.85 56.42,375 C87.05,423.08 153.6,443.76 196.09,452.32 \" fill=\"none\" id=\"E5-&gt;E2\" style=\"stroke: #A80036; stroke-width: 1.0; stroke-dasharray: 7.0,7.0;\"/><polygon fill=\"#A80036\" points=\"201.14,453.31,193.0738,447.6588,196.2327,452.3514,191.5401,455.5104,201.14,453.31\" style=\"stroke: #A80036; stroke-width: 1.0;\"/><text fill=\"#000000\" font-family=\"sans-serif\" font-size=\"13\" lengthAdjust=\"spacingAndGlyphs\" textLength=\"62\" x=\"24.42\" y=\"280.5669\">«subject»</text></a><!--MD5=[9120cf2e5df3bff93db8f754bbbc09b4]\n",
       "link E5 to E6--><a href=\"psysml:285bfc51-142a-40f2-bdf1-cdd7141b9b55\" target=\"_top\" title=\"psysml:285bfc51-142a-40f2-bdf1-cdd7141b9b55\" xlink:actuate=\"onRequest\" xlink:href=\"psysml:285bfc51-142a-40f2-bdf1-cdd7141b9b55\" xlink:show=\"new\" xlink:title=\"psysml:285bfc51-142a-40f2-bdf1-cdd7141b9b55\" xlink:type=\"simple\"><path d=\"M318.9,87.21 C296.2,108.65 261.74,141.2 237.15,164.43 \" fill=\"none\" id=\"E5-&gt;E6\" style=\"stroke: #A80036; stroke-width: 1.0;\"/><polygon fill=\"#A80036\" points=\"231.12,170.12,238.9933,166.8018,234.8701,162.443,231.12,170.12\" style=\"stroke: #A80036; stroke-width: 1.0;\"/><text fill=\"#000000\" font-family=\"sans-serif\" font-size=\"13\" lengthAdjust=\"spacingAndGlyphs\" textLength=\"73\" x=\"287.42\" y=\"130.0669\">«objective»</text></a><!--MD5=[452b418e7f8a40397a49b8c0a78acc5b]\n",
       "reverse link E5 to E7--><a href=\"psysml:081fa6ee-8a6f-4292-82c4-f5eb64360f97\" target=\"_top\" title=\"psysml:081fa6ee-8a6f-4292-82c4-f5eb64360f97\" xlink:actuate=\"onRequest\" xlink:href=\"psysml:081fa6ee-8a6f-4292-82c4-f5eb64360f97\" xlink:show=\"new\" xlink:title=\"psysml:081fa6ee-8a6f-4292-82c4-f5eb64360f97\" xlink:type=\"simple\"><path d=\"M364.28,98.18 C377.7,118.55 394.71,144.36 407.54,163.84 \" fill=\"none\" id=\"E5&lt;-E7\" style=\"stroke: #A80036; stroke-width: 1.0;\"/><polygon fill=\"#A80036\" points=\"357.05,87.21,357.0126,94.421,363.6546,97.2289,363.6919,90.0179,357.05,87.21\" style=\"stroke: #A80036; stroke-width: 1.0;\"/></a><!--MD5=[f1f3f9f2fc535e6147756cb86a7f2e32]\n",
       "link E8 to E2--><a href=\"psysml:143d7cb3-4d47-41f0-bb56-6d1ae515b029\" target=\"_top\" title=\"psysml:143d7cb3-4d47-41f0-bb56-6d1ae515b029\" xlink:actuate=\"onRequest\" xlink:href=\"psysml:143d7cb3-4d47-41f0-bb56-6d1ae515b029\" xlink:show=\"new\" xlink:title=\"psysml:143d7cb3-4d47-41f0-bb56-6d1ae515b029\" xlink:type=\"simple\"><path d=\"M156.96,375.01 C169.29,388.22 185.3,405.38 199.56,420.65 \" fill=\"none\" id=\"E8-&gt;E2\" style=\"stroke: #A80036; stroke-width: 1.0;\"/><polygon fill=\"#FFFFFF\" points=\"213.57,435.66,195.4921,426.5393,205.7305,416.9907,213.57,435.66\" style=\"stroke: #A80036; stroke-width: 1.0;\"/><ellipse cx=\"193.0671\" cy=\"421.0067\" fill=\"#A80036\" rx=\"2\" ry=\"2\" style=\"stroke: #A80036; stroke-width: 1.0;\"/><ellipse cx=\"200.3802\" cy=\"414.1863\" fill=\"#A80036\" rx=\"2\" ry=\"2\" style=\"stroke: #A80036; stroke-width: 1.0;\"/></a><!--MD5=[dc164f5e8a733ab456ef1add180e9e34]\n",
       "reverse link E7 to E8--><a href=\"psysml:dbdbccdb-5c16-4bd3-a501-4b1c7e9ddcab\" target=\"_top\" title=\"psysml:dbdbccdb-5c16-4bd3-a501-4b1c7e9ddcab\" xlink:actuate=\"onRequest\" xlink:href=\"psysml:dbdbccdb-5c16-4bd3-a501-4b1c7e9ddcab\" xlink:show=\"new\" xlink:title=\"psysml:dbdbccdb-5c16-4bd3-a501-4b1c7e9ddcab\" xlink:type=\"simple\"><path d=\"M355.88,221.35 C321.17,234.71 285.12,248.88 277.42,253 C235.75,275.27 191.63,307.53 164.06,328.87 \" fill=\"none\" id=\"E7&lt;-E8\" style=\"stroke: #A80036; stroke-width: 1.0;\"/><polygon fill=\"#FFFFFF\" points=\"368.06,216.67,361.0255,215.0838,356.8558,220.9671,363.8903,222.5533,368.06,216.67\" style=\"stroke: #A80036; stroke-width: 1.0;\"/></a><!--MD5=[5c3bb36fe832a92c7f0e1807dd65209d]\n",
       "link E9 to E2--><a href=\"psysml:cb3e8ea7-f115-4f34-bcd9-dd1e6ba812b8\" target=\"_top\" title=\"psysml:cb3e8ea7-f115-4f34-bcd9-dd1e6ba812b8\" xlink:actuate=\"onRequest\" xlink:href=\"psysml:cb3e8ea7-f115-4f34-bcd9-dd1e6ba812b8\" xlink:show=\"new\" xlink:title=\"psysml:cb3e8ea7-f115-4f34-bcd9-dd1e6ba812b8\" xlink:type=\"simple\"><path d=\"M294.29,298.15 C278.67,305.56 264.04,315.55 253.42,329 C234.27,353.25 230.14,388.32 230.46,415.77 \" fill=\"none\" id=\"E9-&gt;E2\" style=\"stroke: #A80036; stroke-width: 1.0;\"/><polygon fill=\"#FFFFFF\" points=\"231.46,435.81,223.5186,417.1838,237.5011,416.4837,231.46,435.81\" style=\"stroke: #A80036; stroke-width: 1.0;\"/><ellipse cx=\"225.231\" cy=\"411.3909\" fill=\"#A80036\" rx=\"2\" ry=\"2\" style=\"stroke: #A80036; stroke-width: 1.0;\"/><ellipse cx=\"235.2185\" cy=\"410.8909\" fill=\"#A80036\" rx=\"2\" ry=\"2\" style=\"stroke: #A80036; stroke-width: 1.0;\"/></a><!--MD5=[9ae28de373ca99bb8a1b38d63370ca7e]\n",
       "reverse link E5 to E9--><a href=\"psysml:b6df212f-8018-4500-9608-46bc28de5179\" target=\"_top\" title=\"psysml:b6df212f-8018-4500-9608-46bc28de5179\" xlink:actuate=\"onRequest\" xlink:href=\"psysml:b6df212f-8018-4500-9608-46bc28de5179\" xlink:show=\"new\" xlink:title=\"psysml:b6df212f-8018-4500-9608-46bc28de5179\" xlink:type=\"simple\"><path d=\"M419.18,92.77 C450.88,108.48 484.37,131.61 502.42,164 C515.18,186.91 516.78,201.06 502.42,223 C493.96,235.92 481.51,245.65 467.81,252.97 \" fill=\"none\" id=\"E5&lt;-E9\" style=\"stroke: #A80036; stroke-width: 1.0;\"/><polygon fill=\"#FFFFFF\" points=\"407.16,87.11,410.8814,93.2867,418.0142,92.2272,414.2928,86.0505,407.16,87.11\" style=\"stroke: #A80036; stroke-width: 1.0;\"/></a><!--MD5=[7177d9f8ad20b8e7b4aa1f442116bf1f]\n",
       "@startuml\r\n",
       "skinparam wrapWidth 300\r\n",
       "hide circle\r\n",
       "\r\n",
       "package \"TradeStudyTest\" as E1  [[psysml:8952aa40-03a2-4df7-81e1-750bf2c7b589 ]]  {\r\n",
       "comp def \"Engine\" as E2  <<(T,blue)part def>> [[psysml:ba5002a0-783d-43b2-abfa-70b37f90804c ]] {\r\n",
       "}\r\n",
       "comp usage \"engine1: Engine\" as E3  <<(T,blue)part>> [[psysml:47ce73ab-2c54-4db4-9d19-7bcb338cdf44 ]] {\r\n",
       "}\r\n",
       "comp usage \"engine2: Engine\" as E4  <<(T,blue)part>> [[psysml:7dfdc806-8438-4ccb-bd71-8b6bdaa69ab8 ]] {\r\n",
       "}\r\n",
       "comp usage \"engineTradeStudy: TradeStudy\" as E5 <<analysis>> [[psysml:cd38e840-8317-467c-8230-e0f8852492a9 ]] {\r\n",
       "}\r\n",
       "comp usage \"tradeStudyObjective: MaximizeObjective\" as E6  <<(T,blue)requirement>> [[psysml:bf1db205-ea64-42b3-a829-2093a93eb81c ]] {\r\n",
       "}\r\n",
       "comp usage \"objectiveFunction\" as E7  <<(T,blue)calculation>> [[psysml:081fa6ee-8a6f-4292-82c4-f5eb64360f97 ]] {\r\n",
       "result: Real\r\n",
       "}\r\n",
       "comp usage \"alternative: Engine\" as E8  <<(T,blue)part>> [[psysml:dbdbccdb-5c16-4bd3-a501-4b1c7e9ddcab ]] {\r\n",
       "}\r\n",
       "comp usage \"selectedAlternative: Engine\" as E9  <<(T,blue)part>> [[psysml:b6df212f-8018-4500-9608-46bc28de5179 ]] {\r\n",
       "}\r\n",
       "E3 - -:|> E2 [[psysml:6a611645-87b6-456f-b99f-fe1a3075932c ]] \r\n",
       "E4 - -:|> E2 [[psysml:c8f697e8-ebd5-44e8-8041-765052aa0dda ]] \r\n",
       "E5 ..> E2 [[psysml:2f46211a-dc33-450b-96f1-34c5430f413d ]] : <<subject>>\r\n",
       "E5 - ->> E6 [[psysml:285bfc51-142a-40f2-bdf1-cdd7141b9b55 ]] : <<objective>>\r\n",
       "E5 *- - E7 [[psysml:081fa6ee-8a6f-4292-82c4-f5eb64360f97 ]] \r\n",
       "E8 - -:|> E2 [[psysml:143d7cb3-4d47-41f0-bb56-6d1ae515b029 ]] \r\n",
       "E7 o- - E8 [[psysml:dbdbccdb-5c16-4bd3-a501-4b1c7e9ddcab ]] \r\n",
       "E9 - -:|> E2 [[psysml:cb3e8ea7-f115-4f34-bcd9-dd1e6ba812b8 ]] \r\n",
       "E5 o- - E9 [[psysml:b6df212f-8018-4500-9608-46bc28de5179 ]] \r\n",
       "}\r\n",
       "@enduml\r\n",
       "\n",
       "PlantUML version 1.2020.13(Sat Jun 13 12:26:38 UTC 2020)\n",
       "(EPL source distribution)\n",
       "Java Runtime: OpenJDK Runtime Environment\n",
       "JVM: OpenJDK 64-Bit Server VM\n",
       "Default Encoding: UTF-8\n",
       "Language: en\n",
       "Country: null\n",
       "--></g></svg>"
      ]
     },
     "execution_count": 23,
     "metadata": {},
     "output_type": "execute_result"
    }
   ],
   "source": [
    "%viz --style=\"STDCOLOR\" --view=\"Default\" \"TradeStudyTest\""
   ]
  },
  {
   "cell_type": "code",
   "execution_count": 24,
   "id": "biblical-display",
   "metadata": {
    "execution": {
     "iopub.execute_input": "2021-03-25T09:29:27.094886Z",
     "iopub.status.busy": "2021-03-25T09:29:27.093828Z",
     "iopub.status.idle": "2021-03-25T09:29:27.308905Z",
     "shell.execute_reply": "2021-03-25T09:29:27.307532Z"
    }
   },
   "outputs": [
    {
     "data": {
      "image/svg+xml": [
       "<?xml version=\"1.0\" encoding=\"UTF-8\" standalone=\"no\"?><svg xmlns=\"http://www.w3.org/2000/svg\" xmlns:xlink=\"http://www.w3.org/1999/xlink\" contentScriptType=\"application/ecmascript\" contentStyleType=\"text/css\" height=\"510px\" preserveAspectRatio=\"none\" style=\"width:559px;height:510px;\" version=\"1.1\" viewBox=\"0 0 559 510\" width=\"559px\" zoomAndPan=\"magnify\"><defs><filter height=\"300%\" id=\"fhu5yh63lz7av\" width=\"300%\" x=\"-1\" y=\"-1\"><feGaussianBlur result=\"blurOut\" stdDeviation=\"2.0\"/><feColorMatrix in=\"blurOut\" result=\"blurOut2\" type=\"matrix\" values=\"0 0 0 0 0 0 0 0 0 0 0 0 0 0 0 0 0 0 .4 0\"/><feOffset dx=\"4.0\" dy=\"4.0\" in=\"blurOut2\" result=\"blurOut3\"/><feBlend in=\"SourceGraphic\" in2=\"blurOut3\" mode=\"normal\"/></filter></defs><g><!--MD5=[fbc87193dbaf4d95561dea2c320d4a47]\n",
       "cluster E1--><a href=\"psysml:8952aa40-03a2-4df7-81e1-750bf2c7b589\" target=\"_top\" title=\"psysml:8952aa40-03a2-4df7-81e1-750bf2c7b589\" xlink:actuate=\"onRequest\" xlink:href=\"psysml:8952aa40-03a2-4df7-81e1-750bf2c7b589\" xlink:show=\"new\" xlink:title=\"psysml:8952aa40-03a2-4df7-81e1-750bf2c7b589\" xlink:type=\"simple\"><polygon fill=\"#FFFFFF\" filter=\"url(#fhu5yh63lz7av)\" points=\"21.42,6,153.42,6,160.42,28.2969,537.42,28.2969,537.42,498,21.42,498,21.42,6\" style=\"stroke: #000000; stroke-width: 1.5;\"/><line style=\"stroke: #000000; stroke-width: 1.5;\" x1=\"21.42\" x2=\"160.42\" y1=\"28.2969\" y2=\"28.2969\"/><text fill=\"#000000\" font-family=\"sans-serif\" font-size=\"14\" font-weight=\"bold\" lengthAdjust=\"spacingAndGlyphs\" textLength=\"126\" x=\"25.42\" y=\"20.9951\">TradeStudyTest</text></a><!--MD5=[b4997ac47864f28c2f74865a473b2911]\n",
       "class E2--><a href=\"psysml:ba5002a0-783d-43b2-abfa-70b37f90804c\" target=\"_top\" title=\"psysml:ba5002a0-783d-43b2-abfa-70b37f90804c\" xlink:actuate=\"onRequest\" xlink:href=\"psysml:ba5002a0-783d-43b2-abfa-70b37f90804c\" xlink:show=\"new\" xlink:title=\"psysml:ba5002a0-783d-43b2-abfa-70b37f90804c\" xlink:type=\"simple\"><rect fill=\"#FEFECE\" filter=\"url(#fhu5yh63lz7av)\" height=\"45.9375\" id=\"E2\" style=\"stroke: #A80036; stroke-width: 1.5;\" width=\"66\" x=\"201.42\" y=\"436\"/><text fill=\"#000000\" font-family=\"sans-serif\" font-size=\"12\" font-style=\"italic\" lengthAdjust=\"spacingAndGlyphs\" textLength=\"64\" x=\"202.42\" y=\"452.1387\">«part def»</text><text fill=\"#000000\" font-family=\"sans-serif\" font-size=\"12\" lengthAdjust=\"spacingAndGlyphs\" textLength=\"43\" x=\"212.92\" y=\"466.1074\">Engine</text><line style=\"stroke: #A80036; stroke-width: 1.5;\" x1=\"202.42\" x2=\"266.42\" y1=\"473.9375\" y2=\"473.9375\"/></a><!--MD5=[09b614a08d8cba4a07c9adeb5e0fee81]\n",
       "class E3--><a href=\"psysml:47ce73ab-2c54-4db4-9d19-7bcb338cdf44\" target=\"_top\" title=\"psysml:47ce73ab-2c54-4db4-9d19-7bcb338cdf44\" xlink:actuate=\"onRequest\" xlink:href=\"psysml:47ce73ab-2c54-4db4-9d19-7bcb338cdf44\" xlink:show=\"new\" xlink:title=\"psysml:47ce73ab-2c54-4db4-9d19-7bcb338cdf44\" xlink:type=\"simple\"><rect fill=\"#FEFECE\" filter=\"url(#fhu5yh63lz7av)\" height=\"45.9375\" id=\"E3\" rx=\"10\" ry=\"10\" style=\"stroke: #A80036; stroke-width: 1.5;\" width=\"108\" x=\"413.42\" y=\"329\"/><text fill=\"#000000\" font-family=\"sans-serif\" font-size=\"12\" font-style=\"italic\" lengthAdjust=\"spacingAndGlyphs\" textLength=\"40\" x=\"447.42\" y=\"345.1387\">«part»</text><text fill=\"#000000\" font-family=\"sans-serif\" font-size=\"12\" lengthAdjust=\"spacingAndGlyphs\" textLength=\"102\" x=\"416.42\" y=\"359.1074\">engine1: Engine</text><line style=\"stroke: #A80036; stroke-width: 1.5;\" x1=\"414.42\" x2=\"520.42\" y1=\"366.9375\" y2=\"366.9375\"/></a><!--MD5=[ebbe1d658d1005bcc118a6aa81145e00]\n",
       "class E4--><a href=\"psysml:7dfdc806-8438-4ccb-bd71-8b6bdaa69ab8\" target=\"_top\" title=\"psysml:7dfdc806-8438-4ccb-bd71-8b6bdaa69ab8\" xlink:actuate=\"onRequest\" xlink:href=\"psysml:7dfdc806-8438-4ccb-bd71-8b6bdaa69ab8\" xlink:show=\"new\" xlink:title=\"psysml:7dfdc806-8438-4ccb-bd71-8b6bdaa69ab8\" xlink:type=\"simple\"><rect fill=\"#FEFECE\" filter=\"url(#fhu5yh63lz7av)\" height=\"45.9375\" id=\"E4\" rx=\"10\" ry=\"10\" style=\"stroke: #A80036; stroke-width: 1.5;\" width=\"108\" x=\"270.42\" y=\"329\"/><text fill=\"#000000\" font-family=\"sans-serif\" font-size=\"12\" font-style=\"italic\" lengthAdjust=\"spacingAndGlyphs\" textLength=\"40\" x=\"304.42\" y=\"345.1387\">«part»</text><text fill=\"#000000\" font-family=\"sans-serif\" font-size=\"12\" lengthAdjust=\"spacingAndGlyphs\" textLength=\"102\" x=\"273.42\" y=\"359.1074\">engine2: Engine</text><line style=\"stroke: #A80036; stroke-width: 1.5;\" x1=\"271.42\" x2=\"377.42\" y1=\"366.9375\" y2=\"366.9375\"/></a><!--MD5=[270fce915f116d4de14055a7c1d9a0f3]\n",
       "class E5--><a href=\"psysml:cd38e840-8317-467c-8230-e0f8852492a9\" target=\"_top\" title=\"psysml:cd38e840-8317-467c-8230-e0f8852492a9\" xlink:actuate=\"onRequest\" xlink:href=\"psysml:cd38e840-8317-467c-8230-e0f8852492a9\" xlink:show=\"new\" xlink:title=\"psysml:cd38e840-8317-467c-8230-e0f8852492a9\" xlink:type=\"simple\"><rect fill=\"#FEFECE\" filter=\"url(#fhu5yh63lz7av)\" height=\"45.9375\" id=\"E5\" rx=\"10\" ry=\"10\" style=\"stroke: #A80036; stroke-width: 1.5;\" width=\"199\" x=\"242.92\" y=\"41\"/><text fill=\"#000000\" font-family=\"sans-serif\" font-size=\"12\" font-style=\"italic\" lengthAdjust=\"spacingAndGlyphs\" textLength=\"64\" x=\"310.42\" y=\"57.1387\">«analysis»</text><text fill=\"#000000\" font-family=\"sans-serif\" font-size=\"12\" lengthAdjust=\"spacingAndGlyphs\" textLength=\"193\" x=\"245.92\" y=\"71.1074\">engineTradeStudy: TradeStudy</text><line style=\"stroke: #A80036; stroke-width: 1.5;\" x1=\"243.92\" x2=\"440.92\" y1=\"78.9375\" y2=\"78.9375\"/></a><!--MD5=[60a26617385b1d2d0262a64233df1f8d]\n",
       "class E6--><a href=\"psysml:bf1db205-ea64-42b3-a829-2093a93eb81c\" target=\"_top\" title=\"psysml:bf1db205-ea64-42b3-a829-2093a93eb81c\" xlink:actuate=\"onRequest\" xlink:href=\"psysml:bf1db205-ea64-42b3-a829-2093a93eb81c\" xlink:show=\"new\" xlink:title=\"psysml:bf1db205-ea64-42b3-a829-2093a93eb81c\" xlink:type=\"simple\"><rect fill=\"#FEFECE\" filter=\"url(#fhu5yh63lz7av)\" height=\"45.9375\" id=\"E6\" rx=\"10\" ry=\"10\" style=\"stroke: #A80036; stroke-width: 1.5;\" width=\"251\" x=\"81.92\" y=\"170.5\"/><text fill=\"#000000\" font-family=\"sans-serif\" font-size=\"12\" font-style=\"italic\" lengthAdjust=\"spacingAndGlyphs\" textLength=\"91\" x=\"161.92\" y=\"186.6387\">«requirement»</text><text fill=\"#000000\" font-family=\"sans-serif\" font-size=\"12\" lengthAdjust=\"spacingAndGlyphs\" textLength=\"245\" x=\"84.92\" y=\"200.6074\">tradeStudyObjective: MaximizeObjective</text><line style=\"stroke: #A80036; stroke-width: 1.5;\" x1=\"82.92\" x2=\"331.92\" y1=\"208.4375\" y2=\"208.4375\"/></a><!--MD5=[2156ba9850f5573cc1fc38a6a4b2f02b]\n",
       "class E7--><a href=\"psysml:081fa6ee-8a6f-4292-82c4-f5eb64360f97\" target=\"_top\" title=\"psysml:081fa6ee-8a6f-4292-82c4-f5eb64360f97\" xlink:actuate=\"onRequest\" xlink:href=\"psysml:081fa6ee-8a6f-4292-82c4-f5eb64360f97\" xlink:show=\"new\" xlink:title=\"psysml:081fa6ee-8a6f-4292-82c4-f5eb64360f97\" xlink:type=\"simple\"><rect fill=\"#FEFECE\" filter=\"url(#fhu5yh63lz7av)\" height=\"58.7422\" id=\"E7\" rx=\"10\" ry=\"10\" style=\"stroke: #A80036; stroke-width: 1.5;\" width=\"116\" x=\"368.42\" y=\"164\"/><text fill=\"#000000\" font-family=\"sans-serif\" font-size=\"12\" font-style=\"italic\" lengthAdjust=\"spacingAndGlyphs\" textLength=\"82\" x=\"385.42\" y=\"180.1387\">«calculation»</text><text fill=\"#000000\" font-family=\"sans-serif\" font-size=\"12\" lengthAdjust=\"spacingAndGlyphs\" textLength=\"110\" x=\"371.42\" y=\"194.1074\">objectiveFunction</text><line style=\"stroke: #A80036; stroke-width: 1.5;\" x1=\"369.42\" x2=\"483.42\" y1=\"201.9375\" y2=\"201.9375\"/><text fill=\"#000000\" font-family=\"sans-serif\" font-size=\"11\" lengthAdjust=\"spacingAndGlyphs\" textLength=\"65\" x=\"374.42\" y=\"216.1479\">result: Real</text></a><!--MD5=[b9389687b975829384b498ac4b7476b2]\n",
       "class E8--><a href=\"psysml:dbdbccdb-5c16-4bd3-a501-4b1c7e9ddcab\" target=\"_top\" title=\"psysml:dbdbccdb-5c16-4bd3-a501-4b1c7e9ddcab\" xlink:actuate=\"onRequest\" xlink:href=\"psysml:dbdbccdb-5c16-4bd3-a501-4b1c7e9ddcab\" xlink:show=\"new\" xlink:title=\"psysml:dbdbccdb-5c16-4bd3-a501-4b1c7e9ddcab\" xlink:type=\"simple\"><rect fill=\"#FEFECE\" filter=\"url(#fhu5yh63lz7av)\" height=\"45.9375\" id=\"E8\" rx=\"10\" ry=\"10\" style=\"stroke: #A80036; stroke-width: 1.5;\" width=\"124\" x=\"74.42\" y=\"329\"/><text fill=\"#000000\" font-family=\"sans-serif\" font-size=\"12\" font-style=\"italic\" lengthAdjust=\"spacingAndGlyphs\" textLength=\"40\" x=\"116.42\" y=\"345.1387\">«part»</text><text fill=\"#000000\" font-family=\"sans-serif\" font-size=\"12\" lengthAdjust=\"spacingAndGlyphs\" textLength=\"118\" x=\"77.42\" y=\"359.1074\">alternative: Engine</text><line style=\"stroke: #A80036; stroke-width: 1.5;\" x1=\"75.42\" x2=\"197.42\" y1=\"366.9375\" y2=\"366.9375\"/></a><!--MD5=[fd4143e9d270a159db93a4ea2a975926]\n",
       "class E9--><a href=\"psysml:b6df212f-8018-4500-9608-46bc28de5179\" target=\"_top\" title=\"psysml:b6df212f-8018-4500-9608-46bc28de5179\" xlink:actuate=\"onRequest\" xlink:href=\"psysml:b6df212f-8018-4500-9608-46bc28de5179\" xlink:show=\"new\" xlink:title=\"psysml:b6df212f-8018-4500-9608-46bc28de5179\" xlink:type=\"simple\"><rect fill=\"#FEFECE\" filter=\"url(#fhu5yh63lz7av)\" height=\"45.9375\" id=\"E9\" rx=\"10\" ry=\"10\" style=\"stroke: #A80036; stroke-width: 1.5;\" width=\"178\" x=\"294.42\" y=\"253\"/><text fill=\"#000000\" font-family=\"sans-serif\" font-size=\"12\" font-style=\"italic\" lengthAdjust=\"spacingAndGlyphs\" textLength=\"40\" x=\"363.42\" y=\"269.1387\">«part»</text><text fill=\"#000000\" font-family=\"sans-serif\" font-size=\"12\" lengthAdjust=\"spacingAndGlyphs\" textLength=\"172\" x=\"297.42\" y=\"283.1074\">selectedAlternative: Engine</text><line style=\"stroke: #A80036; stroke-width: 1.5;\" x1=\"295.42\" x2=\"471.42\" y1=\"290.9375\" y2=\"290.9375\"/></a><!--MD5=[05d275557350bfb9b23a4ef7222b4c39]\n",
       "link E3 to E2--><a href=\"psysml:6a611645-87b6-456f-b99f-fe1a3075932c\" target=\"_top\" title=\"psysml:6a611645-87b6-456f-b99f-fe1a3075932c\" xlink:actuate=\"onRequest\" xlink:href=\"psysml:6a611645-87b6-456f-b99f-fe1a3075932c\" xlink:show=\"new\" xlink:title=\"psysml:6a611645-87b6-456f-b99f-fe1a3075932c\" xlink:type=\"simple\"><path d=\"M418.58,375.01 C379.67,392.54 325.37,417.01 285.81,434.84 \" fill=\"none\" id=\"E3-&gt;E2\" style=\"stroke: #A80036; stroke-width: 1.0;\"/><polygon fill=\"#FFFFFF\" points=\"267.44,443.12,281.8866,428.9321,287.6383,441.696,267.44,443.12\" style=\"stroke: #A80036; stroke-width: 1.0;\"/><ellipse cx=\"287.905\" cy=\"428.4137\" fill=\"#A80036\" rx=\"2\" ry=\"2\" style=\"stroke: #A80036; stroke-width: 1.0;\"/><ellipse cx=\"292.0134\" cy=\"437.5308\" fill=\"#A80036\" rx=\"2\" ry=\"2\" style=\"stroke: #A80036; stroke-width: 1.0;\"/></a><!--MD5=[185131fc0dcab0a4505a2ebe144e961b]\n",
       "link E4 to E2--><a href=\"psysml:c8f697e8-ebd5-44e8-8041-765052aa0dda\" target=\"_top\" title=\"psysml:c8f697e8-ebd5-44e8-8041-765052aa0dda\" xlink:actuate=\"onRequest\" xlink:href=\"psysml:c8f697e8-ebd5-44e8-8041-765052aa0dda\" xlink:show=\"new\" xlink:title=\"psysml:c8f697e8-ebd5-44e8-8041-765052aa0dda\" xlink:type=\"simple\"><path d=\"M305.55,375.01 C294.35,388.08 279.84,405.01 266.84,420.17 \" fill=\"none\" id=\"E4-&gt;E2\" style=\"stroke: #A80036; stroke-width: 1.0;\"/><polygon fill=\"#FFFFFF\" points=\"253.57,435.66,260.6188,416.678,271.2491,425.7883,253.57,435.66\" style=\"stroke: #A80036; stroke-width: 1.0;\"/><ellipse cx=\"265.8466\" cy=\"413.6515\" fill=\"#A80036\" rx=\"2\" ry=\"2\" style=\"stroke: #A80036; stroke-width: 1.0;\"/><ellipse cx=\"273.4396\" cy=\"420.1588\" fill=\"#A80036\" rx=\"2\" ry=\"2\" style=\"stroke: #A80036; stroke-width: 1.0;\"/></a><!--MD5=[15ebcb19ae302d9b601edb458606d402]\n",
       "link E5 to E2--><a href=\"psysml:2f46211a-dc33-450b-96f1-34c5430f413d\" target=\"_top\" title=\"psysml:2f46211a-dc33-450b-96f1-34c5430f413d\" xlink:actuate=\"onRequest\" xlink:href=\"psysml:2f46211a-dc33-450b-96f1-34c5430f413d\" xlink:show=\"new\" xlink:title=\"psysml:2f46211a-dc33-450b-96f1-34c5430f413d\" xlink:type=\"simple\"><path d=\"M242.78,73.16 C180.98,83.88 105.72,108.36 64.42,164 C8.48,239.35 6,295.85 56.42,375 C87.05,423.08 153.6,443.76 196.09,452.32 \" fill=\"none\" id=\"E5-&gt;E2\" style=\"stroke: #A80036; stroke-width: 1.0; stroke-dasharray: 7.0,7.0;\"/><polygon fill=\"#A80036\" points=\"201.14,453.31,193.0738,447.6588,196.2327,452.3514,191.5401,455.5104,201.14,453.31\" style=\"stroke: #A80036; stroke-width: 1.0;\"/><text fill=\"#000000\" font-family=\"sans-serif\" font-size=\"13\" lengthAdjust=\"spacingAndGlyphs\" textLength=\"62\" x=\"24.42\" y=\"280.5669\">«subject»</text></a><!--MD5=[9120cf2e5df3bff93db8f754bbbc09b4]\n",
       "link E5 to E6--><a href=\"psysml:285bfc51-142a-40f2-bdf1-cdd7141b9b55\" target=\"_top\" title=\"psysml:285bfc51-142a-40f2-bdf1-cdd7141b9b55\" xlink:actuate=\"onRequest\" xlink:href=\"psysml:285bfc51-142a-40f2-bdf1-cdd7141b9b55\" xlink:show=\"new\" xlink:title=\"psysml:285bfc51-142a-40f2-bdf1-cdd7141b9b55\" xlink:type=\"simple\"><path d=\"M318.9,87.21 C296.2,108.65 261.74,141.2 237.15,164.43 \" fill=\"none\" id=\"E5-&gt;E6\" style=\"stroke: #A80036; stroke-width: 1.0;\"/><polygon fill=\"#A80036\" points=\"231.12,170.12,238.9933,166.8018,234.8701,162.443,231.12,170.12\" style=\"stroke: #A80036; stroke-width: 1.0;\"/><text fill=\"#000000\" font-family=\"sans-serif\" font-size=\"13\" lengthAdjust=\"spacingAndGlyphs\" textLength=\"73\" x=\"287.42\" y=\"130.0669\">«objective»</text></a><!--MD5=[452b418e7f8a40397a49b8c0a78acc5b]\n",
       "reverse link E5 to E7--><a href=\"psysml:081fa6ee-8a6f-4292-82c4-f5eb64360f97\" target=\"_top\" title=\"psysml:081fa6ee-8a6f-4292-82c4-f5eb64360f97\" xlink:actuate=\"onRequest\" xlink:href=\"psysml:081fa6ee-8a6f-4292-82c4-f5eb64360f97\" xlink:show=\"new\" xlink:title=\"psysml:081fa6ee-8a6f-4292-82c4-f5eb64360f97\" xlink:type=\"simple\"><path d=\"M364.28,98.18 C377.7,118.55 394.71,144.36 407.54,163.84 \" fill=\"none\" id=\"E5&lt;-E7\" style=\"stroke: #A80036; stroke-width: 1.0;\"/><polygon fill=\"#A80036\" points=\"357.05,87.21,357.0126,94.421,363.6546,97.2289,363.6919,90.0179,357.05,87.21\" style=\"stroke: #A80036; stroke-width: 1.0;\"/></a><!--MD5=[f1f3f9f2fc535e6147756cb86a7f2e32]\n",
       "link E8 to E2--><a href=\"psysml:143d7cb3-4d47-41f0-bb56-6d1ae515b029\" target=\"_top\" title=\"psysml:143d7cb3-4d47-41f0-bb56-6d1ae515b029\" xlink:actuate=\"onRequest\" xlink:href=\"psysml:143d7cb3-4d47-41f0-bb56-6d1ae515b029\" xlink:show=\"new\" xlink:title=\"psysml:143d7cb3-4d47-41f0-bb56-6d1ae515b029\" xlink:type=\"simple\"><path d=\"M156.96,375.01 C169.29,388.22 185.3,405.38 199.56,420.65 \" fill=\"none\" id=\"E8-&gt;E2\" style=\"stroke: #A80036; stroke-width: 1.0;\"/><polygon fill=\"#FFFFFF\" points=\"213.57,435.66,195.4921,426.5393,205.7305,416.9907,213.57,435.66\" style=\"stroke: #A80036; stroke-width: 1.0;\"/><ellipse cx=\"193.0671\" cy=\"421.0067\" fill=\"#A80036\" rx=\"2\" ry=\"2\" style=\"stroke: #A80036; stroke-width: 1.0;\"/><ellipse cx=\"200.3802\" cy=\"414.1863\" fill=\"#A80036\" rx=\"2\" ry=\"2\" style=\"stroke: #A80036; stroke-width: 1.0;\"/></a><!--MD5=[dc164f5e8a733ab456ef1add180e9e34]\n",
       "reverse link E7 to E8--><a href=\"psysml:dbdbccdb-5c16-4bd3-a501-4b1c7e9ddcab\" target=\"_top\" title=\"psysml:dbdbccdb-5c16-4bd3-a501-4b1c7e9ddcab\" xlink:actuate=\"onRequest\" xlink:href=\"psysml:dbdbccdb-5c16-4bd3-a501-4b1c7e9ddcab\" xlink:show=\"new\" xlink:title=\"psysml:dbdbccdb-5c16-4bd3-a501-4b1c7e9ddcab\" xlink:type=\"simple\"><path d=\"M355.88,221.35 C321.17,234.71 285.12,248.88 277.42,253 C235.75,275.27 191.63,307.53 164.06,328.87 \" fill=\"none\" id=\"E7&lt;-E8\" style=\"stroke: #A80036; stroke-width: 1.0;\"/><polygon fill=\"#FFFFFF\" points=\"368.06,216.67,361.0255,215.0838,356.8558,220.9671,363.8903,222.5533,368.06,216.67\" style=\"stroke: #A80036; stroke-width: 1.0;\"/></a><!--MD5=[5c3bb36fe832a92c7f0e1807dd65209d]\n",
       "link E9 to E2--><a href=\"psysml:cb3e8ea7-f115-4f34-bcd9-dd1e6ba812b8\" target=\"_top\" title=\"psysml:cb3e8ea7-f115-4f34-bcd9-dd1e6ba812b8\" xlink:actuate=\"onRequest\" xlink:href=\"psysml:cb3e8ea7-f115-4f34-bcd9-dd1e6ba812b8\" xlink:show=\"new\" xlink:title=\"psysml:cb3e8ea7-f115-4f34-bcd9-dd1e6ba812b8\" xlink:type=\"simple\"><path d=\"M294.29,298.15 C278.67,305.56 264.04,315.55 253.42,329 C234.27,353.25 230.14,388.32 230.46,415.77 \" fill=\"none\" id=\"E9-&gt;E2\" style=\"stroke: #A80036; stroke-width: 1.0;\"/><polygon fill=\"#FFFFFF\" points=\"231.46,435.81,223.5186,417.1838,237.5011,416.4837,231.46,435.81\" style=\"stroke: #A80036; stroke-width: 1.0;\"/><ellipse cx=\"225.231\" cy=\"411.3909\" fill=\"#A80036\" rx=\"2\" ry=\"2\" style=\"stroke: #A80036; stroke-width: 1.0;\"/><ellipse cx=\"235.2185\" cy=\"410.8909\" fill=\"#A80036\" rx=\"2\" ry=\"2\" style=\"stroke: #A80036; stroke-width: 1.0;\"/></a><!--MD5=[9ae28de373ca99bb8a1b38d63370ca7e]\n",
       "reverse link E5 to E9--><a href=\"psysml:b6df212f-8018-4500-9608-46bc28de5179\" target=\"_top\" title=\"psysml:b6df212f-8018-4500-9608-46bc28de5179\" xlink:actuate=\"onRequest\" xlink:href=\"psysml:b6df212f-8018-4500-9608-46bc28de5179\" xlink:show=\"new\" xlink:title=\"psysml:b6df212f-8018-4500-9608-46bc28de5179\" xlink:type=\"simple\"><path d=\"M419.18,92.77 C450.88,108.48 484.37,131.61 502.42,164 C515.18,186.91 516.78,201.06 502.42,223 C493.96,235.92 481.51,245.65 467.81,252.97 \" fill=\"none\" id=\"E5&lt;-E9\" style=\"stroke: #A80036; stroke-width: 1.0;\"/><polygon fill=\"#FFFFFF\" points=\"407.16,87.11,410.8814,93.2867,418.0142,92.2272,414.2928,86.0505,407.16,87.11\" style=\"stroke: #A80036; stroke-width: 1.0;\"/></a><!--MD5=[7177d9f8ad20b8e7b4aa1f442116bf1f]\n",
       "@startuml\r\n",
       "skinparam wrapWidth 300\r\n",
       "hide circle\r\n",
       "\r\n",
       "package \"TradeStudyTest\" as E1  [[psysml:8952aa40-03a2-4df7-81e1-750bf2c7b589 ]]  {\r\n",
       "comp def \"Engine\" as E2  <<(T,blue)part def>> [[psysml:ba5002a0-783d-43b2-abfa-70b37f90804c ]] {\r\n",
       "}\r\n",
       "comp usage \"engine1: Engine\" as E3  <<(T,blue)part>> [[psysml:47ce73ab-2c54-4db4-9d19-7bcb338cdf44 ]] {\r\n",
       "}\r\n",
       "comp usage \"engine2: Engine\" as E4  <<(T,blue)part>> [[psysml:7dfdc806-8438-4ccb-bd71-8b6bdaa69ab8 ]] {\r\n",
       "}\r\n",
       "comp usage \"engineTradeStudy: TradeStudy\" as E5 <<analysis>> [[psysml:cd38e840-8317-467c-8230-e0f8852492a9 ]] {\r\n",
       "}\r\n",
       "comp usage \"tradeStudyObjective: MaximizeObjective\" as E6  <<(T,blue)requirement>> [[psysml:bf1db205-ea64-42b3-a829-2093a93eb81c ]] {\r\n",
       "}\r\n",
       "comp usage \"objectiveFunction\" as E7  <<(T,blue)calculation>> [[psysml:081fa6ee-8a6f-4292-82c4-f5eb64360f97 ]] {\r\n",
       "result: Real\r\n",
       "}\r\n",
       "comp usage \"alternative: Engine\" as E8  <<(T,blue)part>> [[psysml:dbdbccdb-5c16-4bd3-a501-4b1c7e9ddcab ]] {\r\n",
       "}\r\n",
       "comp usage \"selectedAlternative: Engine\" as E9  <<(T,blue)part>> [[psysml:b6df212f-8018-4500-9608-46bc28de5179 ]] {\r\n",
       "}\r\n",
       "E3 - -:|> E2 [[psysml:6a611645-87b6-456f-b99f-fe1a3075932c ]] \r\n",
       "E4 - -:|> E2 [[psysml:c8f697e8-ebd5-44e8-8041-765052aa0dda ]] \r\n",
       "E5 ..> E2 [[psysml:2f46211a-dc33-450b-96f1-34c5430f413d ]] : <<subject>>\r\n",
       "E5 - ->> E6 [[psysml:285bfc51-142a-40f2-bdf1-cdd7141b9b55 ]] : <<objective>>\r\n",
       "E5 *- - E7 [[psysml:081fa6ee-8a6f-4292-82c4-f5eb64360f97 ]] \r\n",
       "E8 - -:|> E2 [[psysml:143d7cb3-4d47-41f0-bb56-6d1ae515b029 ]] \r\n",
       "E7 o- - E8 [[psysml:dbdbccdb-5c16-4bd3-a501-4b1c7e9ddcab ]] \r\n",
       "E9 - -:|> E2 [[psysml:cb3e8ea7-f115-4f34-bcd9-dd1e6ba812b8 ]] \r\n",
       "E5 o- - E9 [[psysml:b6df212f-8018-4500-9608-46bc28de5179 ]] \r\n",
       "}\r\n",
       "@enduml\r\n",
       "\n",
       "PlantUML version 1.2020.13(Sat Jun 13 12:26:38 UTC 2020)\n",
       "(EPL source distribution)\n",
       "Java Runtime: OpenJDK Runtime Environment\n",
       "JVM: OpenJDK 64-Bit Server VM\n",
       "Default Encoding: UTF-8\n",
       "Language: en\n",
       "Country: null\n",
       "--></g></svg>"
      ]
     },
     "execution_count": 24,
     "metadata": {},
     "output_type": "execute_result"
    }
   ],
   "source": [
    "%viz --style=\"STDCOLOR\" --view=\"Tree\" \"TradeStudyTest\""
   ]
  },
  {
   "cell_type": "code",
   "execution_count": 25,
   "id": "portable-wrist",
   "metadata": {
    "execution": {
     "iopub.execute_input": "2021-03-25T09:29:27.358852Z",
     "iopub.status.busy": "2021-03-25T09:29:27.358308Z",
     "iopub.status.idle": "2021-03-25T09:29:27.363826Z",
     "shell.execute_reply": "2021-03-25T09:29:27.364485Z"
    }
   },
   "outputs": [
    {
     "data": {
      "image/svg+xml": [
       "<?xml version=\"1.0\" encoding=\"UTF-8\" standalone=\"no\"?><svg xmlns=\"http://www.w3.org/2000/svg\" xmlns:xlink=\"http://www.w3.org/1999/xlink\" contentScriptType=\"application/ecmascript\" contentStyleType=\"text/css\" height=\"12px\" preserveAspectRatio=\"none\" style=\"width:12px;height:12px;\" version=\"1.1\" viewBox=\"0 0 12 12\" width=\"12px\" zoomAndPan=\"magnify\"><defs/><g><!--MD5=[aeeef50f102b80d730deb6443d14f702]\n",
       "@startuml\r\n",
       "skinparam wrapWidth 300\r\n",
       "hide circle\r\n",
       "\r\n",
       "@enduml\r\n",
       "\n",
       "PlantUML version 1.2020.13(Sat Jun 13 12:26:38 UTC 2020)\n",
       "(EPL source distribution)\n",
       "Java Runtime: OpenJDK Runtime Environment\n",
       "JVM: OpenJDK 64-Bit Server VM\n",
       "Default Encoding: UTF-8\n",
       "Language: en\n",
       "Country: null\n",
       "--></g></svg>"
      ]
     },
     "execution_count": 25,
     "metadata": {},
     "output_type": "execute_result"
    }
   ],
   "source": [
    "%viz --style=\"STDCOLOR\" --view=\"State\" \"TradeStudyTest\""
   ]
  },
  {
   "cell_type": "code",
   "execution_count": 26,
   "id": "occupied-relevance",
   "metadata": {
    "execution": {
     "iopub.execute_input": "2021-03-25T09:29:27.415978Z",
     "iopub.status.busy": "2021-03-25T09:29:27.415429Z",
     "iopub.status.idle": "2021-03-25T09:29:27.470490Z",
     "shell.execute_reply": "2021-03-25T09:29:27.469863Z"
    }
   },
   "outputs": [
    {
     "data": {
      "image/svg+xml": [
       "<?xml version=\"1.0\" encoding=\"UTF-8\" standalone=\"no\"?><svg xmlns=\"http://www.w3.org/2000/svg\" xmlns:xlink=\"http://www.w3.org/1999/xlink\" contentScriptType=\"application/ecmascript\" contentStyleType=\"text/css\" height=\"112px\" preserveAspectRatio=\"none\" style=\"width:438px;height:112px;\" version=\"1.1\" viewBox=\"0 0 438 112\" width=\"438px\" zoomAndPan=\"magnify\"><defs><filter height=\"300%\" id=\"f7d37w6yln2xs\" width=\"300%\" x=\"-1\" y=\"-1\"><feGaussianBlur result=\"blurOut\" stdDeviation=\"2.0\"/><feColorMatrix in=\"blurOut\" result=\"blurOut2\" type=\"matrix\" values=\"0 0 0 0 0 0 0 0 0 0 0 0 0 0 0 0 0 0 .4 0\"/><feOffset dx=\"4.0\" dy=\"4.0\" in=\"blurOut2\" result=\"blurOut3\"/><feBlend in=\"SourceGraphic\" in2=\"blurOut3\" mode=\"normal\"/></filter></defs><g><!--MD5=[fbc87193dbaf4d95561dea2c320d4a47]\n",
       "cluster E1--><a href=\"psysml:8952aa40-03a2-4df7-81e1-750bf2c7b589\" target=\"_top\" title=\"psysml:8952aa40-03a2-4df7-81e1-750bf2c7b589\" xlink:actuate=\"onRequest\" xlink:href=\"psysml:8952aa40-03a2-4df7-81e1-750bf2c7b589\" xlink:show=\"new\" xlink:title=\"psysml:8952aa40-03a2-4df7-81e1-750bf2c7b589\" xlink:type=\"simple\"><polygon fill=\"#FFFFFF\" filter=\"url(#f7d37w6yln2xs)\" points=\"16,6,148,6,155,28.2969,416,28.2969,416,100,16,100,16,6\" style=\"stroke: #000000; stroke-width: 1.5;\"/><line style=\"stroke: #000000; stroke-width: 1.5;\" x1=\"16\" x2=\"155\" y1=\"28.2969\" y2=\"28.2969\"/><text fill=\"#000000\" font-family=\"sans-serif\" font-size=\"14\" font-weight=\"bold\" lengthAdjust=\"spacingAndGlyphs\" textLength=\"126\" x=\"20\" y=\"20.9951\">TradeStudyTest</text></a><g id=\"E1.E2\"><a href=\"psysml:ba5002a0-783d-43b2-abfa-70b37f90804c\" target=\"_top\" title=\"psysml:ba5002a0-783d-43b2-abfa-70b37f90804c\" xlink:actuate=\"onRequest\" xlink:href=\"psysml:ba5002a0-783d-43b2-abfa-70b37f90804c\" xlink:show=\"new\" xlink:title=\"psysml:ba5002a0-783d-43b2-abfa-70b37f90804c\" xlink:type=\"simple\"><rect fill=\"#FEFECE\" filter=\"url(#f7d37w6yln2xs)\" height=\"42.9375\" id=\"E2\" style=\"stroke: #A80036; stroke-width: 1.5;\" width=\"71\" x=\"328.5\" y=\"41\"/><text fill=\"#000000\" font-family=\"sans-serif\" font-size=\"12\" font-style=\"italic\" lengthAdjust=\"spacingAndGlyphs\" textLength=\"64\" x=\"332\" y=\"57.1387\">«part def»</text><text fill=\"#000000\" font-family=\"sans-serif\" font-size=\"12\" lengthAdjust=\"spacingAndGlyphs\" textLength=\"43\" x=\"342.5\" y=\"71.1074\">Engine</text></a></g><g id=\"E1.E3\"><a href=\"psysml:47ce73ab-2c54-4db4-9d19-7bcb338cdf44\" target=\"_top\" title=\"psysml:47ce73ab-2c54-4db4-9d19-7bcb338cdf44\" xlink:actuate=\"onRequest\" xlink:href=\"psysml:47ce73ab-2c54-4db4-9d19-7bcb338cdf44\" xlink:show=\"new\" xlink:title=\"psysml:47ce73ab-2c54-4db4-9d19-7bcb338cdf44\" xlink:type=\"simple\"><rect fill=\"#FEFECE\" filter=\"url(#f7d37w6yln2xs)\" height=\"40\" id=\"E3\" rx=\"10\" ry=\"10\" style=\"stroke: #A80036; stroke-width: 1.5;\" width=\"113\" x=\"180.5\" y=\"42.5\"/><text fill=\"#000000\" font-family=\"sans-serif\" font-size=\"12\" lengthAdjust=\"spacingAndGlyphs\" textLength=\"102\" x=\"186\" y=\"58.6387\">engine1: Engine</text></a></g><g id=\"E1.E4\"><a href=\"psysml:7dfdc806-8438-4ccb-bd71-8b6bdaa69ab8\" target=\"_top\" title=\"psysml:7dfdc806-8438-4ccb-bd71-8b6bdaa69ab8\" xlink:actuate=\"onRequest\" xlink:href=\"psysml:7dfdc806-8438-4ccb-bd71-8b6bdaa69ab8\" xlink:show=\"new\" xlink:title=\"psysml:7dfdc806-8438-4ccb-bd71-8b6bdaa69ab8\" xlink:type=\"simple\"><rect fill=\"#FEFECE\" filter=\"url(#f7d37w6yln2xs)\" height=\"40\" id=\"E4\" rx=\"10\" ry=\"10\" style=\"stroke: #A80036; stroke-width: 1.5;\" width=\"113\" x=\"32.5\" y=\"42.5\"/><text fill=\"#000000\" font-family=\"sans-serif\" font-size=\"12\" lengthAdjust=\"spacingAndGlyphs\" textLength=\"102\" x=\"38\" y=\"58.6387\">engine2: Engine</text></a></g><!--MD5=[a4605d597ff0036661ca30fb5114e3f2]\n",
       "@startuml\r\n",
       "skinparam ranksep 8\r\n",
       "skinparam rectangle {\r\n",
       " backgroundColor<<block>> LightGreen\r\n",
       "}\r\n",
       "skinparam wrapWidth 300\r\n",
       "hide circle\r\n",
       "\r\n",
       "package \"TradeStudyTest\" as E1  [[psysml:8952aa40-03a2-4df7-81e1-750bf2c7b589 ]]  {\r\n",
       "rec def \"Engine\" as E2  <<(T,blue)part def>> [[psysml:ba5002a0-783d-43b2-abfa-70b37f90804c ]] {\r\n",
       "}\r\n",
       "rec usage \"engine1: Engine\" as E3  [[psysml:47ce73ab-2c54-4db4-9d19-7bcb338cdf44 ]] {\r\n",
       "}\r\n",
       "rec usage \"engine2: Engine\" as E4  [[psysml:7dfdc806-8438-4ccb-bd71-8b6bdaa69ab8 ]] {\r\n",
       "}\r\n",
       "}\r\n",
       "@enduml\r\n",
       "\n",
       "PlantUML version 1.2020.13(Sat Jun 13 12:26:38 UTC 2020)\n",
       "(EPL source distribution)\n",
       "Java Runtime: OpenJDK Runtime Environment\n",
       "JVM: OpenJDK 64-Bit Server VM\n",
       "Default Encoding: UTF-8\n",
       "Language: en\n",
       "Country: null\n",
       "--></g></svg>"
      ]
     },
     "execution_count": 26,
     "metadata": {},
     "output_type": "execute_result"
    }
   ],
   "source": [
    "%viz --style=\"STDCOLOR\" --view=\"Interconnection\" \"TradeStudyTest\""
   ]
  },
  {
   "cell_type": "code",
   "execution_count": 27,
   "id": "confidential-anatomy",
   "metadata": {
    "execution": {
     "iopub.execute_input": "2021-03-25T09:29:27.521344Z",
     "iopub.status.busy": "2021-03-25T09:29:27.520696Z",
     "iopub.status.idle": "2021-03-25T09:29:27.602634Z",
     "shell.execute_reply": "2021-03-25T09:29:27.602256Z"
    }
   },
   "outputs": [
    {
     "data": {
      "image/svg+xml": [
       "<?xml version=\"1.0\" encoding=\"UTF-8\" standalone=\"no\"?><svg xmlns=\"http://www.w3.org/2000/svg\" xmlns:xlink=\"http://www.w3.org/1999/xlink\" contentScriptType=\"application/ecmascript\" contentStyleType=\"text/css\" height=\"136px\" preserveAspectRatio=\"none\" style=\"width:187px;height:136px;\" version=\"1.1\" viewBox=\"0 0 187 136\" width=\"187px\" zoomAndPan=\"magnify\"><defs><filter height=\"300%\" id=\"fvsvm0olt93fi\" width=\"300%\" x=\"-1\" y=\"-1\"><feGaussianBlur result=\"blurOut\" stdDeviation=\"2.0\"/><feColorMatrix in=\"blurOut\" result=\"blurOut2\" type=\"matrix\" values=\"0 0 0 0 0 0 0 0 0 0 0 0 0 0 0 0 0 0 .4 0\"/><feOffset dx=\"4.0\" dy=\"4.0\" in=\"blurOut2\" result=\"blurOut3\"/><feBlend in=\"SourceGraphic\" in2=\"blurOut3\" mode=\"normal\"/></filter></defs><g><!--MD5=[fbc87193dbaf4d95561dea2c320d4a47]\n",
       "cluster E1--><a href=\"psysml:cd38e840-8317-467c-8230-e0f8852492a9\" target=\"_top\" title=\"psysml:cd38e840-8317-467c-8230-e0f8852492a9\" xlink:actuate=\"onRequest\" xlink:href=\"psysml:cd38e840-8317-467c-8230-e0f8852492a9\" xlink:show=\"new\" xlink:title=\"psysml:cd38e840-8317-467c-8230-e0f8852492a9\" xlink:type=\"simple\"><rect fill=\"#FFFFFF\" filter=\"url(#fvsvm0olt93fi)\" height=\"110\" id=\"E1\" rx=\"10\" ry=\"10\" style=\"stroke: #A80036; stroke-width: 1.5;\" width=\"161\" x=\"7\" y=\"7\"/><rect fill=\"#FEFECE\" height=\"37.9375\" rx=\"10\" ry=\"10\" style=\"stroke: #FEFECE; stroke-width: 1.5;\" width=\"161\" x=\"7\" y=\"7\"/><rect fill=\"#FEFECE\" height=\"10\" style=\"stroke: #FEFECE; stroke-width: 1.5;\" width=\"161\" x=\"7\" y=\"34.9375\"/><rect fill=\"none\" height=\"110\" id=\"E1\" rx=\"10\" ry=\"10\" style=\"stroke: #A80036; stroke-width: 1.5;\" width=\"161\" x=\"7\" y=\"7\"/><text fill=\"#000000\" font-family=\"sans-serif\" font-size=\"12\" font-style=\"italic\" lengthAdjust=\"spacingAndGlyphs\" textLength=\"64\" x=\"55.5\" y=\"23.1387\">«analysis»</text><text fill=\"#000000\" font-family=\"sans-serif\" font-size=\"12\" lengthAdjust=\"spacingAndGlyphs\" textLength=\"114\" x=\"30.5\" y=\"37.1074\">engineTradeStudy</text><line style=\"stroke: #A80036; stroke-width: 1.0;\" x1=\"7\" x2=\"168\" y1=\"44.9375\" y2=\"44.9375\"/></a><g id=\"E1.E2\"><a href=\"psysml:081fa6ee-8a6f-4292-82c4-f5eb64360f97\" target=\"_top\" title=\"psysml:081fa6ee-8a6f-4292-82c4-f5eb64360f97\" xlink:actuate=\"onRequest\" xlink:href=\"psysml:081fa6ee-8a6f-4292-82c4-f5eb64360f97\" xlink:show=\"new\" xlink:title=\"psysml:081fa6ee-8a6f-4292-82c4-f5eb64360f97\" xlink:type=\"simple\"><rect fill=\"#FEFECE\" filter=\"url(#fvsvm0olt93fi)\" height=\"42.9375\" id=\"E2\" rx=\"10\" ry=\"10\" style=\"stroke: #A80036; stroke-width: 1.5;\" width=\"121\" x=\"26.5\" y=\"58\"/><text fill=\"#000000\" font-family=\"sans-serif\" font-size=\"12\" font-style=\"italic\" lengthAdjust=\"spacingAndGlyphs\" textLength=\"82\" x=\"46\" y=\"74.1387\">«calculation»</text><text fill=\"#000000\" font-family=\"sans-serif\" font-size=\"12\" lengthAdjust=\"spacingAndGlyphs\" textLength=\"110\" x=\"32\" y=\"88.1074\">objectiveFunction</text></a></g><!--MD5=[a32d722b53df7ce99695970022079c89]\n",
       "@startuml\r\n",
       "skinparam ranksep 8\r\n",
       "skinparam wrapWidth 300\r\n",
       "hide circle\r\n",
       "\r\n",
       "rec usage \"engineTradeStudy\" as E1 <<analysis>> [[psysml:cd38e840-8317-467c-8230-e0f8852492a9 ]] {\r\n",
       "rec usage \"objectiveFunction\" as E2  <<(T,blue)calculation>> [[psysml:081fa6ee-8a6f-4292-82c4-f5eb64360f97 ]] {\r\n",
       "}\r\n",
       "\r\n",
       "}\r\n",
       "\r\n",
       "@enduml\r\n",
       "\n",
       "PlantUML version 1.2020.13(Sat Jun 13 12:26:38 UTC 2020)\n",
       "(EPL source distribution)\n",
       "Java Runtime: OpenJDK Runtime Environment\n",
       "JVM: OpenJDK 64-Bit Server VM\n",
       "Default Encoding: UTF-8\n",
       "Language: en\n",
       "Country: null\n",
       "--></g></svg>"
      ]
     },
     "execution_count": 27,
     "metadata": {},
     "output_type": "execute_result"
    }
   ],
   "source": [
    "%viz --style=\"STDCOLOR\" --view=\"Action\" \"TradeStudyTest\""
   ]
  },
  {
   "cell_type": "code",
   "execution_count": 28,
   "id": "unusual-giving",
   "metadata": {
    "execution": {
     "iopub.execute_input": "2021-03-25T09:29:27.654133Z",
     "iopub.status.busy": "2021-03-25T09:29:27.653660Z",
     "iopub.status.idle": "2021-03-25T09:29:27.872766Z",
     "shell.execute_reply": "2021-03-25T09:29:27.871339Z"
    }
   },
   "outputs": [
    {
     "data": {
      "image/svg+xml": [
       "<?xml version=\"1.0\" encoding=\"UTF-8\" standalone=\"no\"?><svg xmlns=\"http://www.w3.org/2000/svg\" xmlns:xlink=\"http://www.w3.org/1999/xlink\" contentScriptType=\"application/ecmascript\" contentStyleType=\"text/css\" height=\"510px\" preserveAspectRatio=\"none\" style=\"width:559px;height:510px;\" version=\"1.1\" viewBox=\"0 0 559 510\" width=\"559px\" zoomAndPan=\"magnify\"><defs><filter height=\"300%\" id=\"fhu5yh63lz7av\" width=\"300%\" x=\"-1\" y=\"-1\"><feGaussianBlur result=\"blurOut\" stdDeviation=\"2.0\"/><feColorMatrix in=\"blurOut\" result=\"blurOut2\" type=\"matrix\" values=\"0 0 0 0 0 0 0 0 0 0 0 0 0 0 0 0 0 0 .4 0\"/><feOffset dx=\"4.0\" dy=\"4.0\" in=\"blurOut2\" result=\"blurOut3\"/><feBlend in=\"SourceGraphic\" in2=\"blurOut3\" mode=\"normal\"/></filter></defs><g><!--MD5=[fbc87193dbaf4d95561dea2c320d4a47]\n",
       "cluster E1--><a href=\"psysml:8952aa40-03a2-4df7-81e1-750bf2c7b589\" target=\"_top\" title=\"psysml:8952aa40-03a2-4df7-81e1-750bf2c7b589\" xlink:actuate=\"onRequest\" xlink:href=\"psysml:8952aa40-03a2-4df7-81e1-750bf2c7b589\" xlink:show=\"new\" xlink:title=\"psysml:8952aa40-03a2-4df7-81e1-750bf2c7b589\" xlink:type=\"simple\"><polygon fill=\"#FFFFFF\" filter=\"url(#fhu5yh63lz7av)\" points=\"21.42,6,153.42,6,160.42,28.2969,537.42,28.2969,537.42,498,21.42,498,21.42,6\" style=\"stroke: #000000; stroke-width: 1.5;\"/><line style=\"stroke: #000000; stroke-width: 1.5;\" x1=\"21.42\" x2=\"160.42\" y1=\"28.2969\" y2=\"28.2969\"/><text fill=\"#000000\" font-family=\"sans-serif\" font-size=\"14\" font-weight=\"bold\" lengthAdjust=\"spacingAndGlyphs\" textLength=\"126\" x=\"25.42\" y=\"20.9951\">TradeStudyTest</text></a><!--MD5=[b4997ac47864f28c2f74865a473b2911]\n",
       "class E2--><a href=\"psysml:ba5002a0-783d-43b2-abfa-70b37f90804c\" target=\"_top\" title=\"psysml:ba5002a0-783d-43b2-abfa-70b37f90804c\" xlink:actuate=\"onRequest\" xlink:href=\"psysml:ba5002a0-783d-43b2-abfa-70b37f90804c\" xlink:show=\"new\" xlink:title=\"psysml:ba5002a0-783d-43b2-abfa-70b37f90804c\" xlink:type=\"simple\"><rect fill=\"#FEFECE\" filter=\"url(#fhu5yh63lz7av)\" height=\"45.9375\" id=\"E2\" style=\"stroke: #A80036; stroke-width: 1.5;\" width=\"66\" x=\"201.42\" y=\"436\"/><text fill=\"#000000\" font-family=\"sans-serif\" font-size=\"12\" font-style=\"italic\" lengthAdjust=\"spacingAndGlyphs\" textLength=\"64\" x=\"202.42\" y=\"452.1387\">«part def»</text><text fill=\"#000000\" font-family=\"sans-serif\" font-size=\"12\" lengthAdjust=\"spacingAndGlyphs\" textLength=\"43\" x=\"212.92\" y=\"466.1074\">Engine</text><line style=\"stroke: #A80036; stroke-width: 1.5;\" x1=\"202.42\" x2=\"266.42\" y1=\"473.9375\" y2=\"473.9375\"/></a><!--MD5=[09b614a08d8cba4a07c9adeb5e0fee81]\n",
       "class E3--><a href=\"psysml:47ce73ab-2c54-4db4-9d19-7bcb338cdf44\" target=\"_top\" title=\"psysml:47ce73ab-2c54-4db4-9d19-7bcb338cdf44\" xlink:actuate=\"onRequest\" xlink:href=\"psysml:47ce73ab-2c54-4db4-9d19-7bcb338cdf44\" xlink:show=\"new\" xlink:title=\"psysml:47ce73ab-2c54-4db4-9d19-7bcb338cdf44\" xlink:type=\"simple\"><rect fill=\"#FEFECE\" filter=\"url(#fhu5yh63lz7av)\" height=\"45.9375\" id=\"E3\" rx=\"10\" ry=\"10\" style=\"stroke: #A80036; stroke-width: 1.5;\" width=\"108\" x=\"413.42\" y=\"329\"/><text fill=\"#000000\" font-family=\"sans-serif\" font-size=\"12\" font-style=\"italic\" lengthAdjust=\"spacingAndGlyphs\" textLength=\"40\" x=\"447.42\" y=\"345.1387\">«part»</text><text fill=\"#000000\" font-family=\"sans-serif\" font-size=\"12\" lengthAdjust=\"spacingAndGlyphs\" textLength=\"102\" x=\"416.42\" y=\"359.1074\">engine1: Engine</text><line style=\"stroke: #A80036; stroke-width: 1.5;\" x1=\"414.42\" x2=\"520.42\" y1=\"366.9375\" y2=\"366.9375\"/></a><!--MD5=[ebbe1d658d1005bcc118a6aa81145e00]\n",
       "class E4--><a href=\"psysml:7dfdc806-8438-4ccb-bd71-8b6bdaa69ab8\" target=\"_top\" title=\"psysml:7dfdc806-8438-4ccb-bd71-8b6bdaa69ab8\" xlink:actuate=\"onRequest\" xlink:href=\"psysml:7dfdc806-8438-4ccb-bd71-8b6bdaa69ab8\" xlink:show=\"new\" xlink:title=\"psysml:7dfdc806-8438-4ccb-bd71-8b6bdaa69ab8\" xlink:type=\"simple\"><rect fill=\"#FEFECE\" filter=\"url(#fhu5yh63lz7av)\" height=\"45.9375\" id=\"E4\" rx=\"10\" ry=\"10\" style=\"stroke: #A80036; stroke-width: 1.5;\" width=\"108\" x=\"270.42\" y=\"329\"/><text fill=\"#000000\" font-family=\"sans-serif\" font-size=\"12\" font-style=\"italic\" lengthAdjust=\"spacingAndGlyphs\" textLength=\"40\" x=\"304.42\" y=\"345.1387\">«part»</text><text fill=\"#000000\" font-family=\"sans-serif\" font-size=\"12\" lengthAdjust=\"spacingAndGlyphs\" textLength=\"102\" x=\"273.42\" y=\"359.1074\">engine2: Engine</text><line style=\"stroke: #A80036; stroke-width: 1.5;\" x1=\"271.42\" x2=\"377.42\" y1=\"366.9375\" y2=\"366.9375\"/></a><!--MD5=[270fce915f116d4de14055a7c1d9a0f3]\n",
       "class E5--><a href=\"psysml:cd38e840-8317-467c-8230-e0f8852492a9\" target=\"_top\" title=\"psysml:cd38e840-8317-467c-8230-e0f8852492a9\" xlink:actuate=\"onRequest\" xlink:href=\"psysml:cd38e840-8317-467c-8230-e0f8852492a9\" xlink:show=\"new\" xlink:title=\"psysml:cd38e840-8317-467c-8230-e0f8852492a9\" xlink:type=\"simple\"><rect fill=\"#FEFECE\" filter=\"url(#fhu5yh63lz7av)\" height=\"45.9375\" id=\"E5\" rx=\"10\" ry=\"10\" style=\"stroke: #A80036; stroke-width: 1.5;\" width=\"199\" x=\"242.92\" y=\"41\"/><text fill=\"#000000\" font-family=\"sans-serif\" font-size=\"12\" font-style=\"italic\" lengthAdjust=\"spacingAndGlyphs\" textLength=\"64\" x=\"310.42\" y=\"57.1387\">«analysis»</text><text fill=\"#000000\" font-family=\"sans-serif\" font-size=\"12\" lengthAdjust=\"spacingAndGlyphs\" textLength=\"193\" x=\"245.92\" y=\"71.1074\">engineTradeStudy: TradeStudy</text><line style=\"stroke: #A80036; stroke-width: 1.5;\" x1=\"243.92\" x2=\"440.92\" y1=\"78.9375\" y2=\"78.9375\"/></a><!--MD5=[60a26617385b1d2d0262a64233df1f8d]\n",
       "class E6--><a href=\"psysml:bf1db205-ea64-42b3-a829-2093a93eb81c\" target=\"_top\" title=\"psysml:bf1db205-ea64-42b3-a829-2093a93eb81c\" xlink:actuate=\"onRequest\" xlink:href=\"psysml:bf1db205-ea64-42b3-a829-2093a93eb81c\" xlink:show=\"new\" xlink:title=\"psysml:bf1db205-ea64-42b3-a829-2093a93eb81c\" xlink:type=\"simple\"><rect fill=\"#FEFECE\" filter=\"url(#fhu5yh63lz7av)\" height=\"45.9375\" id=\"E6\" rx=\"10\" ry=\"10\" style=\"stroke: #A80036; stroke-width: 1.5;\" width=\"251\" x=\"81.92\" y=\"170.5\"/><text fill=\"#000000\" font-family=\"sans-serif\" font-size=\"12\" font-style=\"italic\" lengthAdjust=\"spacingAndGlyphs\" textLength=\"91\" x=\"161.92\" y=\"186.6387\">«requirement»</text><text fill=\"#000000\" font-family=\"sans-serif\" font-size=\"12\" lengthAdjust=\"spacingAndGlyphs\" textLength=\"245\" x=\"84.92\" y=\"200.6074\">tradeStudyObjective: MaximizeObjective</text><line style=\"stroke: #A80036; stroke-width: 1.5;\" x1=\"82.92\" x2=\"331.92\" y1=\"208.4375\" y2=\"208.4375\"/></a><!--MD5=[2156ba9850f5573cc1fc38a6a4b2f02b]\n",
       "class E7--><a href=\"psysml:081fa6ee-8a6f-4292-82c4-f5eb64360f97\" target=\"_top\" title=\"psysml:081fa6ee-8a6f-4292-82c4-f5eb64360f97\" xlink:actuate=\"onRequest\" xlink:href=\"psysml:081fa6ee-8a6f-4292-82c4-f5eb64360f97\" xlink:show=\"new\" xlink:title=\"psysml:081fa6ee-8a6f-4292-82c4-f5eb64360f97\" xlink:type=\"simple\"><rect fill=\"#FEFECE\" filter=\"url(#fhu5yh63lz7av)\" height=\"58.7422\" id=\"E7\" rx=\"10\" ry=\"10\" style=\"stroke: #A80036; stroke-width: 1.5;\" width=\"116\" x=\"368.42\" y=\"164\"/><text fill=\"#000000\" font-family=\"sans-serif\" font-size=\"12\" font-style=\"italic\" lengthAdjust=\"spacingAndGlyphs\" textLength=\"82\" x=\"385.42\" y=\"180.1387\">«calculation»</text><text fill=\"#000000\" font-family=\"sans-serif\" font-size=\"12\" lengthAdjust=\"spacingAndGlyphs\" textLength=\"110\" x=\"371.42\" y=\"194.1074\">objectiveFunction</text><line style=\"stroke: #A80036; stroke-width: 1.5;\" x1=\"369.42\" x2=\"483.42\" y1=\"201.9375\" y2=\"201.9375\"/><text fill=\"#000000\" font-family=\"sans-serif\" font-size=\"11\" lengthAdjust=\"spacingAndGlyphs\" textLength=\"65\" x=\"374.42\" y=\"216.1479\">result: Real</text></a><!--MD5=[b9389687b975829384b498ac4b7476b2]\n",
       "class E8--><a href=\"psysml:dbdbccdb-5c16-4bd3-a501-4b1c7e9ddcab\" target=\"_top\" title=\"psysml:dbdbccdb-5c16-4bd3-a501-4b1c7e9ddcab\" xlink:actuate=\"onRequest\" xlink:href=\"psysml:dbdbccdb-5c16-4bd3-a501-4b1c7e9ddcab\" xlink:show=\"new\" xlink:title=\"psysml:dbdbccdb-5c16-4bd3-a501-4b1c7e9ddcab\" xlink:type=\"simple\"><rect fill=\"#FEFECE\" filter=\"url(#fhu5yh63lz7av)\" height=\"45.9375\" id=\"E8\" rx=\"10\" ry=\"10\" style=\"stroke: #A80036; stroke-width: 1.5;\" width=\"124\" x=\"74.42\" y=\"329\"/><text fill=\"#000000\" font-family=\"sans-serif\" font-size=\"12\" font-style=\"italic\" lengthAdjust=\"spacingAndGlyphs\" textLength=\"40\" x=\"116.42\" y=\"345.1387\">«part»</text><text fill=\"#000000\" font-family=\"sans-serif\" font-size=\"12\" lengthAdjust=\"spacingAndGlyphs\" textLength=\"118\" x=\"77.42\" y=\"359.1074\">alternative: Engine</text><line style=\"stroke: #A80036; stroke-width: 1.5;\" x1=\"75.42\" x2=\"197.42\" y1=\"366.9375\" y2=\"366.9375\"/></a><!--MD5=[fd4143e9d270a159db93a4ea2a975926]\n",
       "class E9--><a href=\"psysml:b6df212f-8018-4500-9608-46bc28de5179\" target=\"_top\" title=\"psysml:b6df212f-8018-4500-9608-46bc28de5179\" xlink:actuate=\"onRequest\" xlink:href=\"psysml:b6df212f-8018-4500-9608-46bc28de5179\" xlink:show=\"new\" xlink:title=\"psysml:b6df212f-8018-4500-9608-46bc28de5179\" xlink:type=\"simple\"><rect fill=\"#FEFECE\" filter=\"url(#fhu5yh63lz7av)\" height=\"45.9375\" id=\"E9\" rx=\"10\" ry=\"10\" style=\"stroke: #A80036; stroke-width: 1.5;\" width=\"178\" x=\"294.42\" y=\"253\"/><text fill=\"#000000\" font-family=\"sans-serif\" font-size=\"12\" font-style=\"italic\" lengthAdjust=\"spacingAndGlyphs\" textLength=\"40\" x=\"363.42\" y=\"269.1387\">«part»</text><text fill=\"#000000\" font-family=\"sans-serif\" font-size=\"12\" lengthAdjust=\"spacingAndGlyphs\" textLength=\"172\" x=\"297.42\" y=\"283.1074\">selectedAlternative: Engine</text><line style=\"stroke: #A80036; stroke-width: 1.5;\" x1=\"295.42\" x2=\"471.42\" y1=\"290.9375\" y2=\"290.9375\"/></a><!--MD5=[05d275557350bfb9b23a4ef7222b4c39]\n",
       "link E3 to E2--><a href=\"psysml:6a611645-87b6-456f-b99f-fe1a3075932c\" target=\"_top\" title=\"psysml:6a611645-87b6-456f-b99f-fe1a3075932c\" xlink:actuate=\"onRequest\" xlink:href=\"psysml:6a611645-87b6-456f-b99f-fe1a3075932c\" xlink:show=\"new\" xlink:title=\"psysml:6a611645-87b6-456f-b99f-fe1a3075932c\" xlink:type=\"simple\"><path d=\"M418.58,375.01 C379.67,392.54 325.37,417.01 285.81,434.84 \" fill=\"none\" id=\"E3-&gt;E2\" style=\"stroke: #A80036; stroke-width: 1.0;\"/><polygon fill=\"#FFFFFF\" points=\"267.44,443.12,281.8866,428.9321,287.6383,441.696,267.44,443.12\" style=\"stroke: #A80036; stroke-width: 1.0;\"/><ellipse cx=\"287.905\" cy=\"428.4137\" fill=\"#A80036\" rx=\"2\" ry=\"2\" style=\"stroke: #A80036; stroke-width: 1.0;\"/><ellipse cx=\"292.0134\" cy=\"437.5308\" fill=\"#A80036\" rx=\"2\" ry=\"2\" style=\"stroke: #A80036; stroke-width: 1.0;\"/></a><!--MD5=[185131fc0dcab0a4505a2ebe144e961b]\n",
       "link E4 to E2--><a href=\"psysml:c8f697e8-ebd5-44e8-8041-765052aa0dda\" target=\"_top\" title=\"psysml:c8f697e8-ebd5-44e8-8041-765052aa0dda\" xlink:actuate=\"onRequest\" xlink:href=\"psysml:c8f697e8-ebd5-44e8-8041-765052aa0dda\" xlink:show=\"new\" xlink:title=\"psysml:c8f697e8-ebd5-44e8-8041-765052aa0dda\" xlink:type=\"simple\"><path d=\"M305.55,375.01 C294.35,388.08 279.84,405.01 266.84,420.17 \" fill=\"none\" id=\"E4-&gt;E2\" style=\"stroke: #A80036; stroke-width: 1.0;\"/><polygon fill=\"#FFFFFF\" points=\"253.57,435.66,260.6188,416.678,271.2491,425.7883,253.57,435.66\" style=\"stroke: #A80036; stroke-width: 1.0;\"/><ellipse cx=\"265.8466\" cy=\"413.6515\" fill=\"#A80036\" rx=\"2\" ry=\"2\" style=\"stroke: #A80036; stroke-width: 1.0;\"/><ellipse cx=\"273.4396\" cy=\"420.1588\" fill=\"#A80036\" rx=\"2\" ry=\"2\" style=\"stroke: #A80036; stroke-width: 1.0;\"/></a><!--MD5=[15ebcb19ae302d9b601edb458606d402]\n",
       "link E5 to E2--><a href=\"psysml:2f46211a-dc33-450b-96f1-34c5430f413d\" target=\"_top\" title=\"psysml:2f46211a-dc33-450b-96f1-34c5430f413d\" xlink:actuate=\"onRequest\" xlink:href=\"psysml:2f46211a-dc33-450b-96f1-34c5430f413d\" xlink:show=\"new\" xlink:title=\"psysml:2f46211a-dc33-450b-96f1-34c5430f413d\" xlink:type=\"simple\"><path d=\"M242.78,73.16 C180.98,83.88 105.72,108.36 64.42,164 C8.48,239.35 6,295.85 56.42,375 C87.05,423.08 153.6,443.76 196.09,452.32 \" fill=\"none\" id=\"E5-&gt;E2\" style=\"stroke: #A80036; stroke-width: 1.0; stroke-dasharray: 7.0,7.0;\"/><polygon fill=\"#A80036\" points=\"201.14,453.31,193.0738,447.6588,196.2327,452.3514,191.5401,455.5104,201.14,453.31\" style=\"stroke: #A80036; stroke-width: 1.0;\"/><text fill=\"#000000\" font-family=\"sans-serif\" font-size=\"13\" lengthAdjust=\"spacingAndGlyphs\" textLength=\"62\" x=\"24.42\" y=\"280.5669\">«subject»</text></a><!--MD5=[9120cf2e5df3bff93db8f754bbbc09b4]\n",
       "link E5 to E6--><a href=\"psysml:285bfc51-142a-40f2-bdf1-cdd7141b9b55\" target=\"_top\" title=\"psysml:285bfc51-142a-40f2-bdf1-cdd7141b9b55\" xlink:actuate=\"onRequest\" xlink:href=\"psysml:285bfc51-142a-40f2-bdf1-cdd7141b9b55\" xlink:show=\"new\" xlink:title=\"psysml:285bfc51-142a-40f2-bdf1-cdd7141b9b55\" xlink:type=\"simple\"><path d=\"M318.9,87.21 C296.2,108.65 261.74,141.2 237.15,164.43 \" fill=\"none\" id=\"E5-&gt;E6\" style=\"stroke: #A80036; stroke-width: 1.0;\"/><polygon fill=\"#A80036\" points=\"231.12,170.12,238.9933,166.8018,234.8701,162.443,231.12,170.12\" style=\"stroke: #A80036; stroke-width: 1.0;\"/><text fill=\"#000000\" font-family=\"sans-serif\" font-size=\"13\" lengthAdjust=\"spacingAndGlyphs\" textLength=\"73\" x=\"287.42\" y=\"130.0669\">«objective»</text></a><!--MD5=[452b418e7f8a40397a49b8c0a78acc5b]\n",
       "reverse link E5 to E7--><a href=\"psysml:081fa6ee-8a6f-4292-82c4-f5eb64360f97\" target=\"_top\" title=\"psysml:081fa6ee-8a6f-4292-82c4-f5eb64360f97\" xlink:actuate=\"onRequest\" xlink:href=\"psysml:081fa6ee-8a6f-4292-82c4-f5eb64360f97\" xlink:show=\"new\" xlink:title=\"psysml:081fa6ee-8a6f-4292-82c4-f5eb64360f97\" xlink:type=\"simple\"><path d=\"M364.28,98.18 C377.7,118.55 394.71,144.36 407.54,163.84 \" fill=\"none\" id=\"E5&lt;-E7\" style=\"stroke: #A80036; stroke-width: 1.0;\"/><polygon fill=\"#A80036\" points=\"357.05,87.21,357.0126,94.421,363.6546,97.2289,363.6919,90.0179,357.05,87.21\" style=\"stroke: #A80036; stroke-width: 1.0;\"/></a><!--MD5=[f1f3f9f2fc535e6147756cb86a7f2e32]\n",
       "link E8 to E2--><a href=\"psysml:143d7cb3-4d47-41f0-bb56-6d1ae515b029\" target=\"_top\" title=\"psysml:143d7cb3-4d47-41f0-bb56-6d1ae515b029\" xlink:actuate=\"onRequest\" xlink:href=\"psysml:143d7cb3-4d47-41f0-bb56-6d1ae515b029\" xlink:show=\"new\" xlink:title=\"psysml:143d7cb3-4d47-41f0-bb56-6d1ae515b029\" xlink:type=\"simple\"><path d=\"M156.96,375.01 C169.29,388.22 185.3,405.38 199.56,420.65 \" fill=\"none\" id=\"E8-&gt;E2\" style=\"stroke: #A80036; stroke-width: 1.0;\"/><polygon fill=\"#FFFFFF\" points=\"213.57,435.66,195.4921,426.5393,205.7305,416.9907,213.57,435.66\" style=\"stroke: #A80036; stroke-width: 1.0;\"/><ellipse cx=\"193.0671\" cy=\"421.0067\" fill=\"#A80036\" rx=\"2\" ry=\"2\" style=\"stroke: #A80036; stroke-width: 1.0;\"/><ellipse cx=\"200.3802\" cy=\"414.1863\" fill=\"#A80036\" rx=\"2\" ry=\"2\" style=\"stroke: #A80036; stroke-width: 1.0;\"/></a><!--MD5=[dc164f5e8a733ab456ef1add180e9e34]\n",
       "reverse link E7 to E8--><a href=\"psysml:dbdbccdb-5c16-4bd3-a501-4b1c7e9ddcab\" target=\"_top\" title=\"psysml:dbdbccdb-5c16-4bd3-a501-4b1c7e9ddcab\" xlink:actuate=\"onRequest\" xlink:href=\"psysml:dbdbccdb-5c16-4bd3-a501-4b1c7e9ddcab\" xlink:show=\"new\" xlink:title=\"psysml:dbdbccdb-5c16-4bd3-a501-4b1c7e9ddcab\" xlink:type=\"simple\"><path d=\"M355.88,221.35 C321.17,234.71 285.12,248.88 277.42,253 C235.75,275.27 191.63,307.53 164.06,328.87 \" fill=\"none\" id=\"E7&lt;-E8\" style=\"stroke: #A80036; stroke-width: 1.0;\"/><polygon fill=\"#FFFFFF\" points=\"368.06,216.67,361.0255,215.0838,356.8558,220.9671,363.8903,222.5533,368.06,216.67\" style=\"stroke: #A80036; stroke-width: 1.0;\"/></a><!--MD5=[5c3bb36fe832a92c7f0e1807dd65209d]\n",
       "link E9 to E2--><a href=\"psysml:cb3e8ea7-f115-4f34-bcd9-dd1e6ba812b8\" target=\"_top\" title=\"psysml:cb3e8ea7-f115-4f34-bcd9-dd1e6ba812b8\" xlink:actuate=\"onRequest\" xlink:href=\"psysml:cb3e8ea7-f115-4f34-bcd9-dd1e6ba812b8\" xlink:show=\"new\" xlink:title=\"psysml:cb3e8ea7-f115-4f34-bcd9-dd1e6ba812b8\" xlink:type=\"simple\"><path d=\"M294.29,298.15 C278.67,305.56 264.04,315.55 253.42,329 C234.27,353.25 230.14,388.32 230.46,415.77 \" fill=\"none\" id=\"E9-&gt;E2\" style=\"stroke: #A80036; stroke-width: 1.0;\"/><polygon fill=\"#FFFFFF\" points=\"231.46,435.81,223.5186,417.1838,237.5011,416.4837,231.46,435.81\" style=\"stroke: #A80036; stroke-width: 1.0;\"/><ellipse cx=\"225.231\" cy=\"411.3909\" fill=\"#A80036\" rx=\"2\" ry=\"2\" style=\"stroke: #A80036; stroke-width: 1.0;\"/><ellipse cx=\"235.2185\" cy=\"410.8909\" fill=\"#A80036\" rx=\"2\" ry=\"2\" style=\"stroke: #A80036; stroke-width: 1.0;\"/></a><!--MD5=[9ae28de373ca99bb8a1b38d63370ca7e]\n",
       "reverse link E5 to E9--><a href=\"psysml:b6df212f-8018-4500-9608-46bc28de5179\" target=\"_top\" title=\"psysml:b6df212f-8018-4500-9608-46bc28de5179\" xlink:actuate=\"onRequest\" xlink:href=\"psysml:b6df212f-8018-4500-9608-46bc28de5179\" xlink:show=\"new\" xlink:title=\"psysml:b6df212f-8018-4500-9608-46bc28de5179\" xlink:type=\"simple\"><path d=\"M419.18,92.77 C450.88,108.48 484.37,131.61 502.42,164 C515.18,186.91 516.78,201.06 502.42,223 C493.96,235.92 481.51,245.65 467.81,252.97 \" fill=\"none\" id=\"E5&lt;-E9\" style=\"stroke: #A80036; stroke-width: 1.0;\"/><polygon fill=\"#FFFFFF\" points=\"407.16,87.11,410.8814,93.2867,418.0142,92.2272,414.2928,86.0505,407.16,87.11\" style=\"stroke: #A80036; stroke-width: 1.0;\"/></a><!--MD5=[7177d9f8ad20b8e7b4aa1f442116bf1f]\n",
       "@startuml\r\n",
       "skinparam wrapWidth 300\r\n",
       "hide circle\r\n",
       "\r\n",
       "package \"TradeStudyTest\" as E1  [[psysml:8952aa40-03a2-4df7-81e1-750bf2c7b589 ]]  {\r\n",
       "comp def \"Engine\" as E2  <<(T,blue)part def>> [[psysml:ba5002a0-783d-43b2-abfa-70b37f90804c ]] {\r\n",
       "}\r\n",
       "comp usage \"engine1: Engine\" as E3  <<(T,blue)part>> [[psysml:47ce73ab-2c54-4db4-9d19-7bcb338cdf44 ]] {\r\n",
       "}\r\n",
       "comp usage \"engine2: Engine\" as E4  <<(T,blue)part>> [[psysml:7dfdc806-8438-4ccb-bd71-8b6bdaa69ab8 ]] {\r\n",
       "}\r\n",
       "comp usage \"engineTradeStudy: TradeStudy\" as E5 <<analysis>> [[psysml:cd38e840-8317-467c-8230-e0f8852492a9 ]] {\r\n",
       "}\r\n",
       "comp usage \"tradeStudyObjective: MaximizeObjective\" as E6  <<(T,blue)requirement>> [[psysml:bf1db205-ea64-42b3-a829-2093a93eb81c ]] {\r\n",
       "}\r\n",
       "comp usage \"objectiveFunction\" as E7  <<(T,blue)calculation>> [[psysml:081fa6ee-8a6f-4292-82c4-f5eb64360f97 ]] {\r\n",
       "result: Real\r\n",
       "}\r\n",
       "comp usage \"alternative: Engine\" as E8  <<(T,blue)part>> [[psysml:dbdbccdb-5c16-4bd3-a501-4b1c7e9ddcab ]] {\r\n",
       "}\r\n",
       "comp usage \"selectedAlternative: Engine\" as E9  <<(T,blue)part>> [[psysml:b6df212f-8018-4500-9608-46bc28de5179 ]] {\r\n",
       "}\r\n",
       "E3 - -:|> E2 [[psysml:6a611645-87b6-456f-b99f-fe1a3075932c ]] \r\n",
       "E4 - -:|> E2 [[psysml:c8f697e8-ebd5-44e8-8041-765052aa0dda ]] \r\n",
       "E5 ..> E2 [[psysml:2f46211a-dc33-450b-96f1-34c5430f413d ]] : <<subject>>\r\n",
       "E5 - ->> E6 [[psysml:285bfc51-142a-40f2-bdf1-cdd7141b9b55 ]] : <<objective>>\r\n",
       "E5 *- - E7 [[psysml:081fa6ee-8a6f-4292-82c4-f5eb64360f97 ]] \r\n",
       "E8 - -:|> E2 [[psysml:143d7cb3-4d47-41f0-bb56-6d1ae515b029 ]] \r\n",
       "E7 o- - E8 [[psysml:dbdbccdb-5c16-4bd3-a501-4b1c7e9ddcab ]] \r\n",
       "E9 - -:|> E2 [[psysml:cb3e8ea7-f115-4f34-bcd9-dd1e6ba812b8 ]] \r\n",
       "E5 o- - E9 [[psysml:b6df212f-8018-4500-9608-46bc28de5179 ]] \r\n",
       "}\r\n",
       "@enduml\r\n",
       "\n",
       "PlantUML version 1.2020.13(Sat Jun 13 12:26:38 UTC 2020)\n",
       "(EPL source distribution)\n",
       "Java Runtime: OpenJDK Runtime Environment\n",
       "JVM: OpenJDK 64-Bit Server VM\n",
       "Default Encoding: UTF-8\n",
       "Language: en\n",
       "Country: null\n",
       "--></g></svg>"
      ]
     },
     "execution_count": 28,
     "metadata": {},
     "output_type": "execute_result"
    }
   ],
   "source": [
    "%viz --style=\"STDCOLOR\" --view=\"Sequence\" \"TradeStudyTest\""
   ]
  },
  {
   "cell_type": "code",
   "execution_count": 29,
   "id": "specified-hydrogen",
   "metadata": {
    "execution": {
     "iopub.execute_input": "2021-03-25T09:29:27.925751Z",
     "iopub.status.busy": "2021-03-25T09:29:27.925170Z",
     "iopub.status.idle": "2021-03-25T09:29:28.150813Z",
     "shell.execute_reply": "2021-03-25T09:29:28.149235Z"
    }
   },
   "outputs": [
    {
     "data": {
      "image/svg+xml": [
       "<?xml version=\"1.0\" encoding=\"UTF-8\" standalone=\"no\"?><svg xmlns=\"http://www.w3.org/2000/svg\" xmlns:xlink=\"http://www.w3.org/1999/xlink\" contentScriptType=\"application/ecmascript\" contentStyleType=\"text/css\" height=\"510px\" preserveAspectRatio=\"none\" style=\"width:559px;height:510px;\" version=\"1.1\" viewBox=\"0 0 559 510\" width=\"559px\" zoomAndPan=\"magnify\"><defs><filter height=\"300%\" id=\"fhu5yh63lz7av\" width=\"300%\" x=\"-1\" y=\"-1\"><feGaussianBlur result=\"blurOut\" stdDeviation=\"2.0\"/><feColorMatrix in=\"blurOut\" result=\"blurOut2\" type=\"matrix\" values=\"0 0 0 0 0 0 0 0 0 0 0 0 0 0 0 0 0 0 .4 0\"/><feOffset dx=\"4.0\" dy=\"4.0\" in=\"blurOut2\" result=\"blurOut3\"/><feBlend in=\"SourceGraphic\" in2=\"blurOut3\" mode=\"normal\"/></filter></defs><g><!--MD5=[fbc87193dbaf4d95561dea2c320d4a47]\n",
       "cluster E1--><a href=\"psysml:8952aa40-03a2-4df7-81e1-750bf2c7b589\" target=\"_top\" title=\"psysml:8952aa40-03a2-4df7-81e1-750bf2c7b589\" xlink:actuate=\"onRequest\" xlink:href=\"psysml:8952aa40-03a2-4df7-81e1-750bf2c7b589\" xlink:show=\"new\" xlink:title=\"psysml:8952aa40-03a2-4df7-81e1-750bf2c7b589\" xlink:type=\"simple\"><polygon fill=\"#FFFFFF\" filter=\"url(#fhu5yh63lz7av)\" points=\"21.42,6,153.42,6,160.42,28.2969,537.42,28.2969,537.42,498,21.42,498,21.42,6\" style=\"stroke: #000000; stroke-width: 1.5;\"/><line style=\"stroke: #000000; stroke-width: 1.5;\" x1=\"21.42\" x2=\"160.42\" y1=\"28.2969\" y2=\"28.2969\"/><text fill=\"#000000\" font-family=\"sans-serif\" font-size=\"14\" font-weight=\"bold\" lengthAdjust=\"spacingAndGlyphs\" textLength=\"126\" x=\"25.42\" y=\"20.9951\">TradeStudyTest</text></a><!--MD5=[b4997ac47864f28c2f74865a473b2911]\n",
       "class E2--><a href=\"psysml:ba5002a0-783d-43b2-abfa-70b37f90804c\" target=\"_top\" title=\"psysml:ba5002a0-783d-43b2-abfa-70b37f90804c\" xlink:actuate=\"onRequest\" xlink:href=\"psysml:ba5002a0-783d-43b2-abfa-70b37f90804c\" xlink:show=\"new\" xlink:title=\"psysml:ba5002a0-783d-43b2-abfa-70b37f90804c\" xlink:type=\"simple\"><rect fill=\"#FEFECE\" filter=\"url(#fhu5yh63lz7av)\" height=\"45.9375\" id=\"E2\" style=\"stroke: #A80036; stroke-width: 1.5;\" width=\"66\" x=\"201.42\" y=\"436\"/><text fill=\"#000000\" font-family=\"sans-serif\" font-size=\"12\" font-style=\"italic\" lengthAdjust=\"spacingAndGlyphs\" textLength=\"64\" x=\"202.42\" y=\"452.1387\">«part def»</text><text fill=\"#000000\" font-family=\"sans-serif\" font-size=\"12\" lengthAdjust=\"spacingAndGlyphs\" textLength=\"43\" x=\"212.92\" y=\"466.1074\">Engine</text><line style=\"stroke: #A80036; stroke-width: 1.5;\" x1=\"202.42\" x2=\"266.42\" y1=\"473.9375\" y2=\"473.9375\"/></a><!--MD5=[09b614a08d8cba4a07c9adeb5e0fee81]\n",
       "class E3--><a href=\"psysml:47ce73ab-2c54-4db4-9d19-7bcb338cdf44\" target=\"_top\" title=\"psysml:47ce73ab-2c54-4db4-9d19-7bcb338cdf44\" xlink:actuate=\"onRequest\" xlink:href=\"psysml:47ce73ab-2c54-4db4-9d19-7bcb338cdf44\" xlink:show=\"new\" xlink:title=\"psysml:47ce73ab-2c54-4db4-9d19-7bcb338cdf44\" xlink:type=\"simple\"><rect fill=\"#FEFECE\" filter=\"url(#fhu5yh63lz7av)\" height=\"45.9375\" id=\"E3\" rx=\"10\" ry=\"10\" style=\"stroke: #A80036; stroke-width: 1.5;\" width=\"108\" x=\"413.42\" y=\"329\"/><text fill=\"#000000\" font-family=\"sans-serif\" font-size=\"12\" font-style=\"italic\" lengthAdjust=\"spacingAndGlyphs\" textLength=\"40\" x=\"447.42\" y=\"345.1387\">«part»</text><text fill=\"#000000\" font-family=\"sans-serif\" font-size=\"12\" lengthAdjust=\"spacingAndGlyphs\" textLength=\"102\" x=\"416.42\" y=\"359.1074\">engine1: Engine</text><line style=\"stroke: #A80036; stroke-width: 1.5;\" x1=\"414.42\" x2=\"520.42\" y1=\"366.9375\" y2=\"366.9375\"/></a><!--MD5=[ebbe1d658d1005bcc118a6aa81145e00]\n",
       "class E4--><a href=\"psysml:7dfdc806-8438-4ccb-bd71-8b6bdaa69ab8\" target=\"_top\" title=\"psysml:7dfdc806-8438-4ccb-bd71-8b6bdaa69ab8\" xlink:actuate=\"onRequest\" xlink:href=\"psysml:7dfdc806-8438-4ccb-bd71-8b6bdaa69ab8\" xlink:show=\"new\" xlink:title=\"psysml:7dfdc806-8438-4ccb-bd71-8b6bdaa69ab8\" xlink:type=\"simple\"><rect fill=\"#FEFECE\" filter=\"url(#fhu5yh63lz7av)\" height=\"45.9375\" id=\"E4\" rx=\"10\" ry=\"10\" style=\"stroke: #A80036; stroke-width: 1.5;\" width=\"108\" x=\"270.42\" y=\"329\"/><text fill=\"#000000\" font-family=\"sans-serif\" font-size=\"12\" font-style=\"italic\" lengthAdjust=\"spacingAndGlyphs\" textLength=\"40\" x=\"304.42\" y=\"345.1387\">«part»</text><text fill=\"#000000\" font-family=\"sans-serif\" font-size=\"12\" lengthAdjust=\"spacingAndGlyphs\" textLength=\"102\" x=\"273.42\" y=\"359.1074\">engine2: Engine</text><line style=\"stroke: #A80036; stroke-width: 1.5;\" x1=\"271.42\" x2=\"377.42\" y1=\"366.9375\" y2=\"366.9375\"/></a><!--MD5=[270fce915f116d4de14055a7c1d9a0f3]\n",
       "class E5--><a href=\"psysml:cd38e840-8317-467c-8230-e0f8852492a9\" target=\"_top\" title=\"psysml:cd38e840-8317-467c-8230-e0f8852492a9\" xlink:actuate=\"onRequest\" xlink:href=\"psysml:cd38e840-8317-467c-8230-e0f8852492a9\" xlink:show=\"new\" xlink:title=\"psysml:cd38e840-8317-467c-8230-e0f8852492a9\" xlink:type=\"simple\"><rect fill=\"#FEFECE\" filter=\"url(#fhu5yh63lz7av)\" height=\"45.9375\" id=\"E5\" rx=\"10\" ry=\"10\" style=\"stroke: #A80036; stroke-width: 1.5;\" width=\"199\" x=\"242.92\" y=\"41\"/><text fill=\"#000000\" font-family=\"sans-serif\" font-size=\"12\" font-style=\"italic\" lengthAdjust=\"spacingAndGlyphs\" textLength=\"64\" x=\"310.42\" y=\"57.1387\">«analysis»</text><text fill=\"#000000\" font-family=\"sans-serif\" font-size=\"12\" lengthAdjust=\"spacingAndGlyphs\" textLength=\"193\" x=\"245.92\" y=\"71.1074\">engineTradeStudy: TradeStudy</text><line style=\"stroke: #A80036; stroke-width: 1.5;\" x1=\"243.92\" x2=\"440.92\" y1=\"78.9375\" y2=\"78.9375\"/></a><!--MD5=[60a26617385b1d2d0262a64233df1f8d]\n",
       "class E6--><a href=\"psysml:bf1db205-ea64-42b3-a829-2093a93eb81c\" target=\"_top\" title=\"psysml:bf1db205-ea64-42b3-a829-2093a93eb81c\" xlink:actuate=\"onRequest\" xlink:href=\"psysml:bf1db205-ea64-42b3-a829-2093a93eb81c\" xlink:show=\"new\" xlink:title=\"psysml:bf1db205-ea64-42b3-a829-2093a93eb81c\" xlink:type=\"simple\"><rect fill=\"#FEFECE\" filter=\"url(#fhu5yh63lz7av)\" height=\"45.9375\" id=\"E6\" rx=\"10\" ry=\"10\" style=\"stroke: #A80036; stroke-width: 1.5;\" width=\"251\" x=\"81.92\" y=\"170.5\"/><text fill=\"#000000\" font-family=\"sans-serif\" font-size=\"12\" font-style=\"italic\" lengthAdjust=\"spacingAndGlyphs\" textLength=\"91\" x=\"161.92\" y=\"186.6387\">«requirement»</text><text fill=\"#000000\" font-family=\"sans-serif\" font-size=\"12\" lengthAdjust=\"spacingAndGlyphs\" textLength=\"245\" x=\"84.92\" y=\"200.6074\">tradeStudyObjective: MaximizeObjective</text><line style=\"stroke: #A80036; stroke-width: 1.5;\" x1=\"82.92\" x2=\"331.92\" y1=\"208.4375\" y2=\"208.4375\"/></a><!--MD5=[2156ba9850f5573cc1fc38a6a4b2f02b]\n",
       "class E7--><a href=\"psysml:081fa6ee-8a6f-4292-82c4-f5eb64360f97\" target=\"_top\" title=\"psysml:081fa6ee-8a6f-4292-82c4-f5eb64360f97\" xlink:actuate=\"onRequest\" xlink:href=\"psysml:081fa6ee-8a6f-4292-82c4-f5eb64360f97\" xlink:show=\"new\" xlink:title=\"psysml:081fa6ee-8a6f-4292-82c4-f5eb64360f97\" xlink:type=\"simple\"><rect fill=\"#FEFECE\" filter=\"url(#fhu5yh63lz7av)\" height=\"58.7422\" id=\"E7\" rx=\"10\" ry=\"10\" style=\"stroke: #A80036; stroke-width: 1.5;\" width=\"116\" x=\"368.42\" y=\"164\"/><text fill=\"#000000\" font-family=\"sans-serif\" font-size=\"12\" font-style=\"italic\" lengthAdjust=\"spacingAndGlyphs\" textLength=\"82\" x=\"385.42\" y=\"180.1387\">«calculation»</text><text fill=\"#000000\" font-family=\"sans-serif\" font-size=\"12\" lengthAdjust=\"spacingAndGlyphs\" textLength=\"110\" x=\"371.42\" y=\"194.1074\">objectiveFunction</text><line style=\"stroke: #A80036; stroke-width: 1.5;\" x1=\"369.42\" x2=\"483.42\" y1=\"201.9375\" y2=\"201.9375\"/><text fill=\"#000000\" font-family=\"sans-serif\" font-size=\"11\" lengthAdjust=\"spacingAndGlyphs\" textLength=\"65\" x=\"374.42\" y=\"216.1479\">result: Real</text></a><!--MD5=[b9389687b975829384b498ac4b7476b2]\n",
       "class E8--><a href=\"psysml:dbdbccdb-5c16-4bd3-a501-4b1c7e9ddcab\" target=\"_top\" title=\"psysml:dbdbccdb-5c16-4bd3-a501-4b1c7e9ddcab\" xlink:actuate=\"onRequest\" xlink:href=\"psysml:dbdbccdb-5c16-4bd3-a501-4b1c7e9ddcab\" xlink:show=\"new\" xlink:title=\"psysml:dbdbccdb-5c16-4bd3-a501-4b1c7e9ddcab\" xlink:type=\"simple\"><rect fill=\"#FEFECE\" filter=\"url(#fhu5yh63lz7av)\" height=\"45.9375\" id=\"E8\" rx=\"10\" ry=\"10\" style=\"stroke: #A80036; stroke-width: 1.5;\" width=\"124\" x=\"74.42\" y=\"329\"/><text fill=\"#000000\" font-family=\"sans-serif\" font-size=\"12\" font-style=\"italic\" lengthAdjust=\"spacingAndGlyphs\" textLength=\"40\" x=\"116.42\" y=\"345.1387\">«part»</text><text fill=\"#000000\" font-family=\"sans-serif\" font-size=\"12\" lengthAdjust=\"spacingAndGlyphs\" textLength=\"118\" x=\"77.42\" y=\"359.1074\">alternative: Engine</text><line style=\"stroke: #A80036; stroke-width: 1.5;\" x1=\"75.42\" x2=\"197.42\" y1=\"366.9375\" y2=\"366.9375\"/></a><!--MD5=[fd4143e9d270a159db93a4ea2a975926]\n",
       "class E9--><a href=\"psysml:b6df212f-8018-4500-9608-46bc28de5179\" target=\"_top\" title=\"psysml:b6df212f-8018-4500-9608-46bc28de5179\" xlink:actuate=\"onRequest\" xlink:href=\"psysml:b6df212f-8018-4500-9608-46bc28de5179\" xlink:show=\"new\" xlink:title=\"psysml:b6df212f-8018-4500-9608-46bc28de5179\" xlink:type=\"simple\"><rect fill=\"#FEFECE\" filter=\"url(#fhu5yh63lz7av)\" height=\"45.9375\" id=\"E9\" rx=\"10\" ry=\"10\" style=\"stroke: #A80036; stroke-width: 1.5;\" width=\"178\" x=\"294.42\" y=\"253\"/><text fill=\"#000000\" font-family=\"sans-serif\" font-size=\"12\" font-style=\"italic\" lengthAdjust=\"spacingAndGlyphs\" textLength=\"40\" x=\"363.42\" y=\"269.1387\">«part»</text><text fill=\"#000000\" font-family=\"sans-serif\" font-size=\"12\" lengthAdjust=\"spacingAndGlyphs\" textLength=\"172\" x=\"297.42\" y=\"283.1074\">selectedAlternative: Engine</text><line style=\"stroke: #A80036; stroke-width: 1.5;\" x1=\"295.42\" x2=\"471.42\" y1=\"290.9375\" y2=\"290.9375\"/></a><!--MD5=[05d275557350bfb9b23a4ef7222b4c39]\n",
       "link E3 to E2--><a href=\"psysml:6a611645-87b6-456f-b99f-fe1a3075932c\" target=\"_top\" title=\"psysml:6a611645-87b6-456f-b99f-fe1a3075932c\" xlink:actuate=\"onRequest\" xlink:href=\"psysml:6a611645-87b6-456f-b99f-fe1a3075932c\" xlink:show=\"new\" xlink:title=\"psysml:6a611645-87b6-456f-b99f-fe1a3075932c\" xlink:type=\"simple\"><path d=\"M418.58,375.01 C379.67,392.54 325.37,417.01 285.81,434.84 \" fill=\"none\" id=\"E3-&gt;E2\" style=\"stroke: #A80036; stroke-width: 1.0;\"/><polygon fill=\"#FFFFFF\" points=\"267.44,443.12,281.8866,428.9321,287.6383,441.696,267.44,443.12\" style=\"stroke: #A80036; stroke-width: 1.0;\"/><ellipse cx=\"287.905\" cy=\"428.4137\" fill=\"#A80036\" rx=\"2\" ry=\"2\" style=\"stroke: #A80036; stroke-width: 1.0;\"/><ellipse cx=\"292.0134\" cy=\"437.5308\" fill=\"#A80036\" rx=\"2\" ry=\"2\" style=\"stroke: #A80036; stroke-width: 1.0;\"/></a><!--MD5=[185131fc0dcab0a4505a2ebe144e961b]\n",
       "link E4 to E2--><a href=\"psysml:c8f697e8-ebd5-44e8-8041-765052aa0dda\" target=\"_top\" title=\"psysml:c8f697e8-ebd5-44e8-8041-765052aa0dda\" xlink:actuate=\"onRequest\" xlink:href=\"psysml:c8f697e8-ebd5-44e8-8041-765052aa0dda\" xlink:show=\"new\" xlink:title=\"psysml:c8f697e8-ebd5-44e8-8041-765052aa0dda\" xlink:type=\"simple\"><path d=\"M305.55,375.01 C294.35,388.08 279.84,405.01 266.84,420.17 \" fill=\"none\" id=\"E4-&gt;E2\" style=\"stroke: #A80036; stroke-width: 1.0;\"/><polygon fill=\"#FFFFFF\" points=\"253.57,435.66,260.6188,416.678,271.2491,425.7883,253.57,435.66\" style=\"stroke: #A80036; stroke-width: 1.0;\"/><ellipse cx=\"265.8466\" cy=\"413.6515\" fill=\"#A80036\" rx=\"2\" ry=\"2\" style=\"stroke: #A80036; stroke-width: 1.0;\"/><ellipse cx=\"273.4396\" cy=\"420.1588\" fill=\"#A80036\" rx=\"2\" ry=\"2\" style=\"stroke: #A80036; stroke-width: 1.0;\"/></a><!--MD5=[15ebcb19ae302d9b601edb458606d402]\n",
       "link E5 to E2--><a href=\"psysml:2f46211a-dc33-450b-96f1-34c5430f413d\" target=\"_top\" title=\"psysml:2f46211a-dc33-450b-96f1-34c5430f413d\" xlink:actuate=\"onRequest\" xlink:href=\"psysml:2f46211a-dc33-450b-96f1-34c5430f413d\" xlink:show=\"new\" xlink:title=\"psysml:2f46211a-dc33-450b-96f1-34c5430f413d\" xlink:type=\"simple\"><path d=\"M242.78,73.16 C180.98,83.88 105.72,108.36 64.42,164 C8.48,239.35 6,295.85 56.42,375 C87.05,423.08 153.6,443.76 196.09,452.32 \" fill=\"none\" id=\"E5-&gt;E2\" style=\"stroke: #A80036; stroke-width: 1.0; stroke-dasharray: 7.0,7.0;\"/><polygon fill=\"#A80036\" points=\"201.14,453.31,193.0738,447.6588,196.2327,452.3514,191.5401,455.5104,201.14,453.31\" style=\"stroke: #A80036; stroke-width: 1.0;\"/><text fill=\"#000000\" font-family=\"sans-serif\" font-size=\"13\" lengthAdjust=\"spacingAndGlyphs\" textLength=\"62\" x=\"24.42\" y=\"280.5669\">«subject»</text></a><!--MD5=[9120cf2e5df3bff93db8f754bbbc09b4]\n",
       "link E5 to E6--><a href=\"psysml:285bfc51-142a-40f2-bdf1-cdd7141b9b55\" target=\"_top\" title=\"psysml:285bfc51-142a-40f2-bdf1-cdd7141b9b55\" xlink:actuate=\"onRequest\" xlink:href=\"psysml:285bfc51-142a-40f2-bdf1-cdd7141b9b55\" xlink:show=\"new\" xlink:title=\"psysml:285bfc51-142a-40f2-bdf1-cdd7141b9b55\" xlink:type=\"simple\"><path d=\"M318.9,87.21 C296.2,108.65 261.74,141.2 237.15,164.43 \" fill=\"none\" id=\"E5-&gt;E6\" style=\"stroke: #A80036; stroke-width: 1.0;\"/><polygon fill=\"#A80036\" points=\"231.12,170.12,238.9933,166.8018,234.8701,162.443,231.12,170.12\" style=\"stroke: #A80036; stroke-width: 1.0;\"/><text fill=\"#000000\" font-family=\"sans-serif\" font-size=\"13\" lengthAdjust=\"spacingAndGlyphs\" textLength=\"73\" x=\"287.42\" y=\"130.0669\">«objective»</text></a><!--MD5=[452b418e7f8a40397a49b8c0a78acc5b]\n",
       "reverse link E5 to E7--><a href=\"psysml:081fa6ee-8a6f-4292-82c4-f5eb64360f97\" target=\"_top\" title=\"psysml:081fa6ee-8a6f-4292-82c4-f5eb64360f97\" xlink:actuate=\"onRequest\" xlink:href=\"psysml:081fa6ee-8a6f-4292-82c4-f5eb64360f97\" xlink:show=\"new\" xlink:title=\"psysml:081fa6ee-8a6f-4292-82c4-f5eb64360f97\" xlink:type=\"simple\"><path d=\"M364.28,98.18 C377.7,118.55 394.71,144.36 407.54,163.84 \" fill=\"none\" id=\"E5&lt;-E7\" style=\"stroke: #A80036; stroke-width: 1.0;\"/><polygon fill=\"#A80036\" points=\"357.05,87.21,357.0126,94.421,363.6546,97.2289,363.6919,90.0179,357.05,87.21\" style=\"stroke: #A80036; stroke-width: 1.0;\"/></a><!--MD5=[f1f3f9f2fc535e6147756cb86a7f2e32]\n",
       "link E8 to E2--><a href=\"psysml:143d7cb3-4d47-41f0-bb56-6d1ae515b029\" target=\"_top\" title=\"psysml:143d7cb3-4d47-41f0-bb56-6d1ae515b029\" xlink:actuate=\"onRequest\" xlink:href=\"psysml:143d7cb3-4d47-41f0-bb56-6d1ae515b029\" xlink:show=\"new\" xlink:title=\"psysml:143d7cb3-4d47-41f0-bb56-6d1ae515b029\" xlink:type=\"simple\"><path d=\"M156.96,375.01 C169.29,388.22 185.3,405.38 199.56,420.65 \" fill=\"none\" id=\"E8-&gt;E2\" style=\"stroke: #A80036; stroke-width: 1.0;\"/><polygon fill=\"#FFFFFF\" points=\"213.57,435.66,195.4921,426.5393,205.7305,416.9907,213.57,435.66\" style=\"stroke: #A80036; stroke-width: 1.0;\"/><ellipse cx=\"193.0671\" cy=\"421.0067\" fill=\"#A80036\" rx=\"2\" ry=\"2\" style=\"stroke: #A80036; stroke-width: 1.0;\"/><ellipse cx=\"200.3802\" cy=\"414.1863\" fill=\"#A80036\" rx=\"2\" ry=\"2\" style=\"stroke: #A80036; stroke-width: 1.0;\"/></a><!--MD5=[dc164f5e8a733ab456ef1add180e9e34]\n",
       "reverse link E7 to E8--><a href=\"psysml:dbdbccdb-5c16-4bd3-a501-4b1c7e9ddcab\" target=\"_top\" title=\"psysml:dbdbccdb-5c16-4bd3-a501-4b1c7e9ddcab\" xlink:actuate=\"onRequest\" xlink:href=\"psysml:dbdbccdb-5c16-4bd3-a501-4b1c7e9ddcab\" xlink:show=\"new\" xlink:title=\"psysml:dbdbccdb-5c16-4bd3-a501-4b1c7e9ddcab\" xlink:type=\"simple\"><path d=\"M355.88,221.35 C321.17,234.71 285.12,248.88 277.42,253 C235.75,275.27 191.63,307.53 164.06,328.87 \" fill=\"none\" id=\"E7&lt;-E8\" style=\"stroke: #A80036; stroke-width: 1.0;\"/><polygon fill=\"#FFFFFF\" points=\"368.06,216.67,361.0255,215.0838,356.8558,220.9671,363.8903,222.5533,368.06,216.67\" style=\"stroke: #A80036; stroke-width: 1.0;\"/></a><!--MD5=[5c3bb36fe832a92c7f0e1807dd65209d]\n",
       "link E9 to E2--><a href=\"psysml:cb3e8ea7-f115-4f34-bcd9-dd1e6ba812b8\" target=\"_top\" title=\"psysml:cb3e8ea7-f115-4f34-bcd9-dd1e6ba812b8\" xlink:actuate=\"onRequest\" xlink:href=\"psysml:cb3e8ea7-f115-4f34-bcd9-dd1e6ba812b8\" xlink:show=\"new\" xlink:title=\"psysml:cb3e8ea7-f115-4f34-bcd9-dd1e6ba812b8\" xlink:type=\"simple\"><path d=\"M294.29,298.15 C278.67,305.56 264.04,315.55 253.42,329 C234.27,353.25 230.14,388.32 230.46,415.77 \" fill=\"none\" id=\"E9-&gt;E2\" style=\"stroke: #A80036; stroke-width: 1.0;\"/><polygon fill=\"#FFFFFF\" points=\"231.46,435.81,223.5186,417.1838,237.5011,416.4837,231.46,435.81\" style=\"stroke: #A80036; stroke-width: 1.0;\"/><ellipse cx=\"225.231\" cy=\"411.3909\" fill=\"#A80036\" rx=\"2\" ry=\"2\" style=\"stroke: #A80036; stroke-width: 1.0;\"/><ellipse cx=\"235.2185\" cy=\"410.8909\" fill=\"#A80036\" rx=\"2\" ry=\"2\" style=\"stroke: #A80036; stroke-width: 1.0;\"/></a><!--MD5=[9ae28de373ca99bb8a1b38d63370ca7e]\n",
       "reverse link E5 to E9--><a href=\"psysml:b6df212f-8018-4500-9608-46bc28de5179\" target=\"_top\" title=\"psysml:b6df212f-8018-4500-9608-46bc28de5179\" xlink:actuate=\"onRequest\" xlink:href=\"psysml:b6df212f-8018-4500-9608-46bc28de5179\" xlink:show=\"new\" xlink:title=\"psysml:b6df212f-8018-4500-9608-46bc28de5179\" xlink:type=\"simple\"><path d=\"M419.18,92.77 C450.88,108.48 484.37,131.61 502.42,164 C515.18,186.91 516.78,201.06 502.42,223 C493.96,235.92 481.51,245.65 467.81,252.97 \" fill=\"none\" id=\"E5&lt;-E9\" style=\"stroke: #A80036; stroke-width: 1.0;\"/><polygon fill=\"#FFFFFF\" points=\"407.16,87.11,410.8814,93.2867,418.0142,92.2272,414.2928,86.0505,407.16,87.11\" style=\"stroke: #A80036; stroke-width: 1.0;\"/></a><!--MD5=[7177d9f8ad20b8e7b4aa1f442116bf1f]\n",
       "@startuml\r\n",
       "skinparam wrapWidth 300\r\n",
       "hide circle\r\n",
       "\r\n",
       "package \"TradeStudyTest\" as E1  [[psysml:8952aa40-03a2-4df7-81e1-750bf2c7b589 ]]  {\r\n",
       "comp def \"Engine\" as E2  <<(T,blue)part def>> [[psysml:ba5002a0-783d-43b2-abfa-70b37f90804c ]] {\r\n",
       "}\r\n",
       "comp usage \"engine1: Engine\" as E3  <<(T,blue)part>> [[psysml:47ce73ab-2c54-4db4-9d19-7bcb338cdf44 ]] {\r\n",
       "}\r\n",
       "comp usage \"engine2: Engine\" as E4  <<(T,blue)part>> [[psysml:7dfdc806-8438-4ccb-bd71-8b6bdaa69ab8 ]] {\r\n",
       "}\r\n",
       "comp usage \"engineTradeStudy: TradeStudy\" as E5 <<analysis>> [[psysml:cd38e840-8317-467c-8230-e0f8852492a9 ]] {\r\n",
       "}\r\n",
       "comp usage \"tradeStudyObjective: MaximizeObjective\" as E6  <<(T,blue)requirement>> [[psysml:bf1db205-ea64-42b3-a829-2093a93eb81c ]] {\r\n",
       "}\r\n",
       "comp usage \"objectiveFunction\" as E7  <<(T,blue)calculation>> [[psysml:081fa6ee-8a6f-4292-82c4-f5eb64360f97 ]] {\r\n",
       "result: Real\r\n",
       "}\r\n",
       "comp usage \"alternative: Engine\" as E8  <<(T,blue)part>> [[psysml:dbdbccdb-5c16-4bd3-a501-4b1c7e9ddcab ]] {\r\n",
       "}\r\n",
       "comp usage \"selectedAlternative: Engine\" as E9  <<(T,blue)part>> [[psysml:b6df212f-8018-4500-9608-46bc28de5179 ]] {\r\n",
       "}\r\n",
       "E3 - -:|> E2 [[psysml:6a611645-87b6-456f-b99f-fe1a3075932c ]] \r\n",
       "E4 - -:|> E2 [[psysml:c8f697e8-ebd5-44e8-8041-765052aa0dda ]] \r\n",
       "E5 ..> E2 [[psysml:2f46211a-dc33-450b-96f1-34c5430f413d ]] : <<subject>>\r\n",
       "E5 - ->> E6 [[psysml:285bfc51-142a-40f2-bdf1-cdd7141b9b55 ]] : <<objective>>\r\n",
       "E5 *- - E7 [[psysml:081fa6ee-8a6f-4292-82c4-f5eb64360f97 ]] \r\n",
       "E8 - -:|> E2 [[psysml:143d7cb3-4d47-41f0-bb56-6d1ae515b029 ]] \r\n",
       "E7 o- - E8 [[psysml:dbdbccdb-5c16-4bd3-a501-4b1c7e9ddcab ]] \r\n",
       "E9 - -:|> E2 [[psysml:cb3e8ea7-f115-4f34-bcd9-dd1e6ba812b8 ]] \r\n",
       "E5 o- - E9 [[psysml:b6df212f-8018-4500-9608-46bc28de5179 ]] \r\n",
       "}\r\n",
       "@enduml\r\n",
       "\n",
       "PlantUML version 1.2020.13(Sat Jun 13 12:26:38 UTC 2020)\n",
       "(EPL source distribution)\n",
       "Java Runtime: OpenJDK Runtime Environment\n",
       "JVM: OpenJDK 64-Bit Server VM\n",
       "Default Encoding: UTF-8\n",
       "Language: en\n",
       "Country: null\n",
       "--></g></svg>"
      ]
     },
     "execution_count": 29,
     "metadata": {},
     "output_type": "execute_result"
    }
   ],
   "source": [
    "%viz --style=\"STDCOLOR\" --view=\"MIXED\" \"TradeStudyTest\""
   ]
  },
  {
   "cell_type": "code",
   "execution_count": 30,
   "id": "cellular-hunger",
   "metadata": {
    "execution": {
     "iopub.execute_input": "2021-03-25T09:29:28.201250Z",
     "iopub.status.busy": "2021-03-25T09:29:28.200631Z",
     "iopub.status.idle": "2021-03-25T09:29:28.470443Z",
     "shell.execute_reply": "2021-03-25T09:29:28.467789Z"
    }
   },
   "outputs": [
    {
     "data": {
      "image/svg+xml": [
       "<?xml version=\"1.0\" encoding=\"UTF-8\" standalone=\"no\"?><svg xmlns=\"http://www.w3.org/2000/svg\" xmlns:xlink=\"http://www.w3.org/1999/xlink\" contentScriptType=\"application/ecmascript\" contentStyleType=\"text/css\" height=\"504px\" preserveAspectRatio=\"none\" style=\"width:639px;height:504px;\" version=\"1.1\" viewBox=\"0 0 639 504\" width=\"639px\" zoomAndPan=\"magnify\"><defs><filter height=\"300%\" id=\"f1nle5ajqfk695\" width=\"300%\" x=\"-1\" y=\"-1\"><feGaussianBlur result=\"blurOut\" stdDeviation=\"2.0\"/><feColorMatrix in=\"blurOut\" result=\"blurOut2\" type=\"matrix\" values=\"0 0 0 0 0 0 0 0 0 0 0 0 0 0 0 0 0 0 .4 0\"/><feOffset dx=\"4.0\" dy=\"4.0\" in=\"blurOut2\" result=\"blurOut3\"/><feBlend in=\"SourceGraphic\" in2=\"blurOut3\" mode=\"normal\"/></filter></defs><g><!--MD5=[fbc87193dbaf4d95561dea2c320d4a47]\n",
       "cluster E1--><a href=\"psysml:8952aa40-03a2-4df7-81e1-750bf2c7b589\" target=\"_top\" title=\"psysml:8952aa40-03a2-4df7-81e1-750bf2c7b589\" xlink:actuate=\"onRequest\" xlink:href=\"psysml:8952aa40-03a2-4df7-81e1-750bf2c7b589\" xlink:show=\"new\" xlink:title=\"psysml:8952aa40-03a2-4df7-81e1-750bf2c7b589\" xlink:type=\"simple\"><polygon fill=\"#FFFFFF\" filter=\"url(#f1nle5ajqfk695)\" points=\"23.41,6,155.41,6,162.41,28.2969,617.41,28.2969,617.41,492,23.41,492,23.41,6\" style=\"stroke: #000000; stroke-width: 1.5;\"/><line style=\"stroke: #000000; stroke-width: 1.5;\" x1=\"23.41\" x2=\"162.41\" y1=\"28.2969\" y2=\"28.2969\"/><text fill=\"#000000\" font-family=\"sans-serif\" font-size=\"14\" font-weight=\"bold\" lengthAdjust=\"spacingAndGlyphs\" textLength=\"126\" x=\"27.41\" y=\"20.9951\">TradeStudyTest</text></a><!--MD5=[b4997ac47864f28c2f74865a473b2911]\n",
       "class E2--><a href=\"psysml:ba5002a0-783d-43b2-abfa-70b37f90804c\" target=\"_top\" title=\"psysml:ba5002a0-783d-43b2-abfa-70b37f90804c\" xlink:actuate=\"onRequest\" xlink:href=\"psysml:ba5002a0-783d-43b2-abfa-70b37f90804c\" xlink:show=\"new\" xlink:title=\"psysml:ba5002a0-783d-43b2-abfa-70b37f90804c\" xlink:type=\"simple\"><rect fill=\"#FEFECE\" filter=\"url(#f1nle5ajqfk695)\" height=\"40\" id=\"E2\" style=\"stroke: #A80036; stroke-width: 1.5;\" width=\"75\" x=\"224.91\" y=\"436\"/><ellipse cx=\"239.91\" cy=\"452\" fill=\"#008000\" rx=\"11\" ry=\"11\" style=\"stroke: #A80036; stroke-width: 1.0;\"/><path d=\"M238.8163,452.375 L238.8163,456.0469 L240.4413,456.0469 Q241.6131,456.0469 242.0819,455.6563 Q242.5506,455.25 242.5506,454.25 Q242.5506,453.25 242.0506,452.8125 Q241.5663,452.375 240.4413,452.375 L238.8163,452.375 Z M238.8163,447.5469 L238.8163,450.4219 L240.4413,450.4219 Q241.3631,450.4219 241.7538,450.0938 Q242.16,449.75 242.16,449 Q242.16,448.2344 241.7538,447.8906 Q241.3475,447.5469 240.4413,447.5469 L238.8163,447.5469 Z M236.4413,445.5938 L240.4413,445.5938 Q242.5038,445.5938 243.5506,446.375 Q244.5975,447.1563 244.5975,448.7188 Q244.5975,449.9219 243.9725,450.5938 Q243.3631,451.2656 242.1756,451.375 Q243.5975,451.5156 244.3163,452.3281 Q245.035,453.1406 245.035,454.5938 Q245.035,456.3906 243.9569,457.2031 Q242.8788,458 240.4413,458 L236.4413,458 L236.4413,445.5938 Z \"/><text fill=\"#000000\" font-family=\"sans-serif\" font-size=\"12\" lengthAdjust=\"spacingAndGlyphs\" textLength=\"43\" x=\"253.91\" y=\"456.1543\">Engine</text><line style=\"stroke: #A80036; stroke-width: 1.5;\" x1=\"225.91\" x2=\"298.91\" y1=\"468\" y2=\"468\"/></a><!--MD5=[09b614a08d8cba4a07c9adeb5e0fee81]\n",
       "class E3--><a href=\"psysml:47ce73ab-2c54-4db4-9d19-7bcb338cdf44\" target=\"_top\" title=\"psysml:47ce73ab-2c54-4db4-9d19-7bcb338cdf44\" xlink:actuate=\"onRequest\" xlink:href=\"psysml:47ce73ab-2c54-4db4-9d19-7bcb338cdf44\" xlink:show=\"new\" xlink:title=\"psysml:47ce73ab-2c54-4db4-9d19-7bcb338cdf44\" xlink:type=\"simple\"><rect fill=\"#FEFECE\" filter=\"url(#f1nle5ajqfk695)\" height=\"45.9375\" id=\"E3\" rx=\"10\" ry=\"10\" style=\"stroke: #A80036; stroke-width: 1.5;\" width=\"134\" x=\"467.41\" y=\"329\"/><ellipse cx=\"482.41\" cy=\"347.9688\" fill=\"#32CD32\" rx=\"11\" ry=\"11\" style=\"stroke: #A80036; stroke-width: 1.0;\"/><path d=\"M482.2069,343.6406 L482.2069,347.2656 L483.2069,347.2656 Q484.41,347.2656 484.8944,346.8594 Q485.3788,346.4531 485.3788,345.4531 Q485.3788,344.4531 484.8944,344.0469 Q484.41,343.6406 483.2069,343.6406 L482.2069,343.6406 Z M479.7538,341.5781 L483.1131,341.5781 Q485.6756,341.5781 486.8006,342.5 Q487.9256,343.4063 487.9256,345.4531 Q487.9256,347.5 486.8006,348.4219 Q485.6756,349.3281 483.1131,349.3281 L482.2069,349.3281 L482.2069,353.9688 L479.7538,353.9688 L479.7538,341.5781 Z \"/><text fill=\"#000000\" font-family=\"sans-serif\" font-size=\"12\" font-style=\"italic\" lengthAdjust=\"spacingAndGlyphs\" textLength=\"40\" x=\"527.41\" y=\"345.1387\">«part»</text><text fill=\"#000000\" font-family=\"sans-serif\" font-size=\"12\" lengthAdjust=\"spacingAndGlyphs\" textLength=\"102\" x=\"496.41\" y=\"359.1074\">engine1: Engine</text><line style=\"stroke: #A80036; stroke-width: 1.5;\" x1=\"468.41\" x2=\"600.41\" y1=\"366.9375\" y2=\"366.9375\"/></a><!--MD5=[ebbe1d658d1005bcc118a6aa81145e00]\n",
       "class E4--><a href=\"psysml:7dfdc806-8438-4ccb-bd71-8b6bdaa69ab8\" target=\"_top\" title=\"psysml:7dfdc806-8438-4ccb-bd71-8b6bdaa69ab8\" xlink:actuate=\"onRequest\" xlink:href=\"psysml:7dfdc806-8438-4ccb-bd71-8b6bdaa69ab8\" xlink:show=\"new\" xlink:title=\"psysml:7dfdc806-8438-4ccb-bd71-8b6bdaa69ab8\" xlink:type=\"simple\"><rect fill=\"#FEFECE\" filter=\"url(#f1nle5ajqfk695)\" height=\"45.9375\" id=\"E4\" rx=\"10\" ry=\"10\" style=\"stroke: #A80036; stroke-width: 1.5;\" width=\"134\" x=\"298.41\" y=\"329\"/><ellipse cx=\"313.41\" cy=\"347.9688\" fill=\"#32CD32\" rx=\"11\" ry=\"11\" style=\"stroke: #A80036; stroke-width: 1.0;\"/><path d=\"M313.2069,343.6406 L313.2069,347.2656 L314.2069,347.2656 Q315.41,347.2656 315.8944,346.8594 Q316.3788,346.4531 316.3788,345.4531 Q316.3788,344.4531 315.8944,344.0469 Q315.41,343.6406 314.2069,343.6406 L313.2069,343.6406 Z M310.7538,341.5781 L314.1131,341.5781 Q316.6756,341.5781 317.8006,342.5 Q318.9256,343.4063 318.9256,345.4531 Q318.9256,347.5 317.8006,348.4219 Q316.6756,349.3281 314.1131,349.3281 L313.2069,349.3281 L313.2069,353.9688 L310.7538,353.9688 L310.7538,341.5781 Z \"/><text fill=\"#000000\" font-family=\"sans-serif\" font-size=\"12\" font-style=\"italic\" lengthAdjust=\"spacingAndGlyphs\" textLength=\"40\" x=\"358.41\" y=\"345.1387\">«part»</text><text fill=\"#000000\" font-family=\"sans-serif\" font-size=\"12\" lengthAdjust=\"spacingAndGlyphs\" textLength=\"102\" x=\"327.41\" y=\"359.1074\">engine2: Engine</text><line style=\"stroke: #A80036; stroke-width: 1.5;\" x1=\"299.41\" x2=\"431.41\" y1=\"366.9375\" y2=\"366.9375\"/></a><!--MD5=[270fce915f116d4de14055a7c1d9a0f3]\n",
       "class E5--><a href=\"psysml:cd38e840-8317-467c-8230-e0f8852492a9\" target=\"_top\" title=\"psysml:cd38e840-8317-467c-8230-e0f8852492a9\" xlink:actuate=\"onRequest\" xlink:href=\"psysml:cd38e840-8317-467c-8230-e0f8852492a9\" xlink:show=\"new\" xlink:title=\"psysml:cd38e840-8317-467c-8230-e0f8852492a9\" xlink:type=\"simple\"><rect fill=\"#FEFECE\" filter=\"url(#f1nle5ajqfk695)\" height=\"45.9375\" id=\"E5\" rx=\"10\" ry=\"10\" style=\"stroke: #A80036; stroke-width: 1.5;\" width=\"225\" x=\"286.91\" y=\"41\"/><ellipse cx=\"301.91\" cy=\"59.9688\" fill=\"#B6DBBB\" rx=\"11\" ry=\"11\" style=\"stroke: #A80036; stroke-width: 1.0;\"/><path d=\"M297.785,61.8906 L297.785,54.0781 L300.2381,54.0781 L300.2381,62.5156 Q300.2381,63.4375 300.7069,63.9688 Q301.1913,64.5 302.0194,64.5 Q302.8631,64.5 303.3319,63.9688 Q303.8006,63.4375 303.8006,62.5156 L303.8006,54.0781 L306.2538,54.0781 L306.2538,61.8906 Q306.2538,64.4219 305.2538,65.5625 Q304.2538,66.7031 302.0194,66.7031 Q299.8006,66.7031 298.785,65.5625 Q297.785,64.4219 297.785,61.8906 Z \"/><text fill=\"#000000\" font-family=\"sans-serif\" font-size=\"12\" font-style=\"italic\" lengthAdjust=\"spacingAndGlyphs\" textLength=\"64\" x=\"380.41\" y=\"57.1387\">«analysis»</text><text fill=\"#000000\" font-family=\"sans-serif\" font-size=\"12\" lengthAdjust=\"spacingAndGlyphs\" textLength=\"193\" x=\"315.91\" y=\"71.1074\">engineTradeStudy: TradeStudy</text><line style=\"stroke: #A80036; stroke-width: 1.5;\" x1=\"287.91\" x2=\"510.91\" y1=\"78.9375\" y2=\"78.9375\"/></a><!--MD5=[60a26617385b1d2d0262a64233df1f8d]\n",
       "class E6--><a href=\"psysml:bf1db205-ea64-42b3-a829-2093a93eb81c\" target=\"_top\" title=\"psysml:bf1db205-ea64-42b3-a829-2093a93eb81c\" xlink:actuate=\"onRequest\" xlink:href=\"psysml:bf1db205-ea64-42b3-a829-2093a93eb81c\" xlink:show=\"new\" xlink:title=\"psysml:bf1db205-ea64-42b3-a829-2093a93eb81c\" xlink:type=\"simple\"><rect fill=\"#FEFECE\" filter=\"url(#f1nle5ajqfk695)\" height=\"45.9375\" id=\"E6\" rx=\"10\" ry=\"10\" style=\"stroke: #A80036; stroke-width: 1.5;\" width=\"277\" x=\"109.91\" y=\"170.5\"/><ellipse cx=\"124.91\" cy=\"189.4688\" fill=\"#FFA500\" rx=\"11\" ry=\"11\" style=\"stroke: #A80036; stroke-width: 1.0;\"/><path d=\"M120.785,191.3906 L120.785,183.5781 L123.2381,183.5781 L123.2381,192.0156 Q123.2381,192.9375 123.7069,193.4688 Q124.1913,194 125.0194,194 Q125.8631,194 126.3319,193.4688 Q126.8006,192.9375 126.8006,192.0156 L126.8006,183.5781 L129.2538,183.5781 L129.2538,191.3906 Q129.2538,193.9219 128.2538,195.0625 Q127.2538,196.2031 125.0194,196.2031 Q122.8006,196.2031 121.785,195.0625 Q120.785,193.9219 120.785,191.3906 Z \"/><text fill=\"#000000\" font-family=\"sans-serif\" font-size=\"12\" font-style=\"italic\" lengthAdjust=\"spacingAndGlyphs\" textLength=\"91\" x=\"215.91\" y=\"186.6387\">«requirement»</text><text fill=\"#000000\" font-family=\"sans-serif\" font-size=\"12\" lengthAdjust=\"spacingAndGlyphs\" textLength=\"245\" x=\"138.91\" y=\"200.6074\">tradeStudyObjective: MaximizeObjective</text><line style=\"stroke: #A80036; stroke-width: 1.5;\" x1=\"110.91\" x2=\"385.91\" y1=\"208.4375\" y2=\"208.4375\"/></a><!--MD5=[2156ba9850f5573cc1fc38a6a4b2f02b]\n",
       "class E7--><a href=\"psysml:081fa6ee-8a6f-4292-82c4-f5eb64360f97\" target=\"_top\" title=\"psysml:081fa6ee-8a6f-4292-82c4-f5eb64360f97\" xlink:actuate=\"onRequest\" xlink:href=\"psysml:081fa6ee-8a6f-4292-82c4-f5eb64360f97\" xlink:show=\"new\" xlink:title=\"psysml:081fa6ee-8a6f-4292-82c4-f5eb64360f97\" xlink:type=\"simple\"><rect fill=\"#FEFECE\" filter=\"url(#f1nle5ajqfk695)\" height=\"58.7422\" id=\"E7\" rx=\"10\" ry=\"10\" style=\"stroke: #A80036; stroke-width: 1.5;\" width=\"142\" x=\"422.41\" y=\"164\"/><ellipse cx=\"437.41\" cy=\"182.9688\" fill=\"#FFA500\" rx=\"11\" ry=\"11\" style=\"stroke: #A80036; stroke-width: 1.0;\"/><path d=\"M433.285,184.8906 L433.285,177.0781 L435.7381,177.0781 L435.7381,185.5156 Q435.7381,186.4375 436.2069,186.9688 Q436.6913,187.5 437.5194,187.5 Q438.3631,187.5 438.8319,186.9688 Q439.3006,186.4375 439.3006,185.5156 L439.3006,177.0781 L441.7538,177.0781 L441.7538,184.8906 Q441.7538,187.4219 440.7538,188.5625 Q439.7538,189.7031 437.5194,189.7031 Q435.3006,189.7031 434.285,188.5625 Q433.285,187.4219 433.285,184.8906 Z \"/><text fill=\"#000000\" font-family=\"sans-serif\" font-size=\"12\" font-style=\"italic\" lengthAdjust=\"spacingAndGlyphs\" textLength=\"82\" x=\"465.41\" y=\"180.1387\">«calculation»</text><text fill=\"#000000\" font-family=\"sans-serif\" font-size=\"12\" lengthAdjust=\"spacingAndGlyphs\" textLength=\"110\" x=\"451.41\" y=\"194.1074\">objectiveFunction</text><line style=\"stroke: #A80036; stroke-width: 1.5;\" x1=\"423.41\" x2=\"563.41\" y1=\"201.9375\" y2=\"201.9375\"/><text fill=\"#000000\" font-family=\"sans-serif\" font-size=\"11\" lengthAdjust=\"spacingAndGlyphs\" textLength=\"65\" x=\"428.41\" y=\"216.1479\">result: Real</text></a><!--MD5=[b9389687b975829384b498ac4b7476b2]\n",
       "class E8--><a href=\"psysml:dbdbccdb-5c16-4bd3-a501-4b1c7e9ddcab\" target=\"_top\" title=\"psysml:dbdbccdb-5c16-4bd3-a501-4b1c7e9ddcab\" xlink:actuate=\"onRequest\" xlink:href=\"psysml:dbdbccdb-5c16-4bd3-a501-4b1c7e9ddcab\" xlink:show=\"new\" xlink:title=\"psysml:dbdbccdb-5c16-4bd3-a501-4b1c7e9ddcab\" xlink:type=\"simple\"><rect fill=\"#FEFECE\" filter=\"url(#f1nle5ajqfk695)\" height=\"45.9375\" id=\"E8\" rx=\"10\" ry=\"10\" style=\"stroke: #A80036; stroke-width: 1.5;\" width=\"150\" x=\"76.41\" y=\"329\"/><ellipse cx=\"91.41\" cy=\"347.9688\" fill=\"#32CD32\" rx=\"11\" ry=\"11\" style=\"stroke: #A80036; stroke-width: 1.0;\"/><path d=\"M91.2069,343.6406 L91.2069,347.2656 L92.2069,347.2656 Q93.41,347.2656 93.8944,346.8594 Q94.3788,346.4531 94.3788,345.4531 Q94.3788,344.4531 93.8944,344.0469 Q93.41,343.6406 92.2069,343.6406 L91.2069,343.6406 Z M88.7538,341.5781 L92.1131,341.5781 Q94.6756,341.5781 95.8006,342.5 Q96.9256,343.4063 96.9256,345.4531 Q96.9256,347.5 95.8006,348.4219 Q94.6756,349.3281 92.1131,349.3281 L91.2069,349.3281 L91.2069,353.9688 L88.7538,353.9688 L88.7538,341.5781 Z \"/><text fill=\"#000000\" font-family=\"sans-serif\" font-size=\"12\" font-style=\"italic\" lengthAdjust=\"spacingAndGlyphs\" textLength=\"40\" x=\"144.41\" y=\"345.1387\">«part»</text><text fill=\"#000000\" font-family=\"sans-serif\" font-size=\"12\" lengthAdjust=\"spacingAndGlyphs\" textLength=\"118\" x=\"105.41\" y=\"359.1074\">alternative: Engine</text><line style=\"stroke: #A80036; stroke-width: 1.5;\" x1=\"77.41\" x2=\"225.41\" y1=\"366.9375\" y2=\"366.9375\"/></a><!--MD5=[fd4143e9d270a159db93a4ea2a975926]\n",
       "class E9--><a href=\"psysml:b6df212f-8018-4500-9608-46bc28de5179\" target=\"_top\" title=\"psysml:b6df212f-8018-4500-9608-46bc28de5179\" xlink:actuate=\"onRequest\" xlink:href=\"psysml:b6df212f-8018-4500-9608-46bc28de5179\" xlink:show=\"new\" xlink:title=\"psysml:b6df212f-8018-4500-9608-46bc28de5179\" xlink:type=\"simple\"><rect fill=\"#FEFECE\" filter=\"url(#f1nle5ajqfk695)\" height=\"45.9375\" id=\"E9\" rx=\"10\" ry=\"10\" style=\"stroke: #A80036; stroke-width: 1.5;\" width=\"204\" x=\"278.41\" y=\"253\"/><ellipse cx=\"293.41\" cy=\"271.9688\" fill=\"#32CD32\" rx=\"11\" ry=\"11\" style=\"stroke: #A80036; stroke-width: 1.0;\"/><path d=\"M293.2069,267.6406 L293.2069,271.2656 L294.2069,271.2656 Q295.41,271.2656 295.8944,270.8594 Q296.3788,270.4531 296.3788,269.4531 Q296.3788,268.4531 295.8944,268.0469 Q295.41,267.6406 294.2069,267.6406 L293.2069,267.6406 Z M290.7538,265.5781 L294.1131,265.5781 Q296.6756,265.5781 297.8006,266.5 Q298.9256,267.4063 298.9256,269.4531 Q298.9256,271.5 297.8006,272.4219 Q296.6756,273.3281 294.1131,273.3281 L293.2069,273.3281 L293.2069,277.9688 L290.7538,277.9688 L290.7538,265.5781 Z \"/><text fill=\"#000000\" font-family=\"sans-serif\" font-size=\"12\" font-style=\"italic\" lengthAdjust=\"spacingAndGlyphs\" textLength=\"40\" x=\"373.41\" y=\"269.1387\">«part»</text><text fill=\"#000000\" font-family=\"sans-serif\" font-size=\"12\" lengthAdjust=\"spacingAndGlyphs\" textLength=\"172\" x=\"307.41\" y=\"283.1074\">selectedAlternative: Engine</text><line style=\"stroke: #A80036; stroke-width: 1.5;\" x1=\"279.41\" x2=\"481.41\" y1=\"290.9375\" y2=\"290.9375\"/></a><!--MD5=[05d275557350bfb9b23a4ef7222b4c39]\n",
       "link E3 to E2--><a href=\"psysml:6a611645-87b6-456f-b99f-fe1a3075932c\" target=\"_top\" title=\"psysml:6a611645-87b6-456f-b99f-fe1a3075932c\" xlink:actuate=\"onRequest\" xlink:href=\"psysml:6a611645-87b6-456f-b99f-fe1a3075932c\" xlink:show=\"new\" xlink:title=\"psysml:6a611645-87b6-456f-b99f-fe1a3075932c\" xlink:type=\"simple\"><path d=\"M475.72,375.01 C429.33,392.4 364.97,416.54 319.11,433.74 \" fill=\"none\" id=\"E3-&gt;E2\" style=\"stroke: #A80036; stroke-width: 1.0;\"/><polygon fill=\"#FFFFFF\" points=\"300.08,440.87,315.4179,427.6508,320.3282,440.7614,300.08,440.87\" style=\"stroke: #A80036; stroke-width: 1.0;\"/><ellipse cx=\"321.4573\" cy=\"427.5245\" fill=\"#A80036\" rx=\"2\" ry=\"2\" style=\"stroke: #A80036; stroke-width: 1.0;\"/><ellipse cx=\"324.9646\" cy=\"436.8893\" fill=\"#A80036\" rx=\"2\" ry=\"2\" style=\"stroke: #A80036; stroke-width: 1.0;\"/></a><!--MD5=[185131fc0dcab0a4505a2ebe144e961b]\n",
       "link E4 to E2--><a href=\"psysml:c8f697e8-ebd5-44e8-8041-765052aa0dda\" target=\"_top\" title=\"psysml:c8f697e8-ebd5-44e8-8041-765052aa0dda\" xlink:actuate=\"onRequest\" xlink:href=\"psysml:c8f697e8-ebd5-44e8-8041-765052aa0dda\" xlink:show=\"new\" xlink:title=\"psysml:c8f697e8-ebd5-44e8-8041-765052aa0dda\" xlink:type=\"simple\"><path d=\"M343.06,375.13 C329.3,388.76 311.41,406.47 295.97,421.76 \" fill=\"none\" id=\"E4-&gt;E2\" style=\"stroke: #A80036; stroke-width: 1.0;\"/><polygon fill=\"#FFFFFF\" points=\"281.6,436,290.178,417.6583,300.0274,427.6077,281.6,436\" style=\"stroke: #A80036; stroke-width: 1.0;\"/><ellipse cx=\"295.6359\" cy=\"415.0695\" fill=\"#A80036\" rx=\"2\" ry=\"2\" style=\"stroke: #A80036; stroke-width: 1.0;\"/><ellipse cx=\"302.6712\" cy=\"422.1762\" fill=\"#A80036\" rx=\"2\" ry=\"2\" style=\"stroke: #A80036; stroke-width: 1.0;\"/></a><!--MD5=[15ebcb19ae302d9b601edb458606d402]\n",
       "link E5 to E2--><a href=\"psysml:2f46211a-dc33-450b-96f1-34c5430f413d\" target=\"_top\" title=\"psysml:2f46211a-dc33-450b-96f1-34c5430f413d\" xlink:actuate=\"onRequest\" xlink:href=\"psysml:2f46211a-dc33-450b-96f1-34c5430f413d\" xlink:show=\"new\" xlink:title=\"psysml:2f46211a-dc33-450b-96f1-34c5430f413d\" xlink:type=\"simple\"><path d=\"M286.6,73.53 C220.78,84.51 141.32,109.14 92.41,164 C29.25,234.85 6,296.54 59.41,375 C95.2,427.57 171.35,445.6 219.53,451.78 \" fill=\"none\" id=\"E5-&gt;E2\" style=\"stroke: #A80036; stroke-width: 1.0; stroke-dasharray: 7.0,7.0;\"/><polygon fill=\"#A80036\" points=\"224.69,452.41,216.2485,447.3365,219.7277,451.7968,215.2674,455.2761,224.69,452.41\" style=\"stroke: #A80036; stroke-width: 1.0;\"/><text fill=\"#000000\" font-family=\"sans-serif\" font-size=\"13\" lengthAdjust=\"spacingAndGlyphs\" textLength=\"62\" x=\"37.41\" y=\"280.5669\">«subject»</text></a><!--MD5=[9120cf2e5df3bff93db8f754bbbc09b4]\n",
       "link E5 to E6--><a href=\"psysml:285bfc51-142a-40f2-bdf1-cdd7141b9b55\" target=\"_top\" title=\"psysml:285bfc51-142a-40f2-bdf1-cdd7141b9b55\" xlink:actuate=\"onRequest\" xlink:href=\"psysml:285bfc51-142a-40f2-bdf1-cdd7141b9b55\" xlink:show=\"new\" xlink:title=\"psysml:285bfc51-142a-40f2-bdf1-cdd7141b9b55\" xlink:type=\"simple\"><path d=\"M373.11,87.21 C347.53,108.81 308.6,141.67 281.06,164.93 \" fill=\"none\" id=\"E5-&gt;E6\" style=\"stroke: #A80036; stroke-width: 1.0;\"/><polygon fill=\"#A80036\" points=\"274.66,170.33,282.7094,167.4653,278.841,162.8789,274.66,170.33\" style=\"stroke: #A80036; stroke-width: 1.0;\"/><text fill=\"#000000\" font-family=\"sans-serif\" font-size=\"13\" lengthAdjust=\"spacingAndGlyphs\" textLength=\"73\" x=\"338.41\" y=\"130.0669\">«objective»</text></a><!--MD5=[452b418e7f8a40397a49b8c0a78acc5b]\n",
       "reverse link E5 to E7--><a href=\"psysml:081fa6ee-8a6f-4292-82c4-f5eb64360f97\" target=\"_top\" title=\"psysml:081fa6ee-8a6f-4292-82c4-f5eb64360f97\" xlink:actuate=\"onRequest\" xlink:href=\"psysml:081fa6ee-8a6f-4292-82c4-f5eb64360f97\" xlink:show=\"new\" xlink:title=\"psysml:081fa6ee-8a6f-4292-82c4-f5eb64360f97\" xlink:type=\"simple\"><path d=\"M423.66,97.9 C438.71,118.31 457.85,144.27 472.28,163.84 \" fill=\"none\" id=\"E5&lt;-E7\" style=\"stroke: #A80036; stroke-width: 1.0;\"/><polygon fill=\"#A80036\" points=\"415.78,87.21,416.123,94.4129,422.9038,96.8667,422.5608,89.6637,415.78,87.21\" style=\"stroke: #A80036; stroke-width: 1.0;\"/></a><!--MD5=[f1f3f9f2fc535e6147756cb86a7f2e32]\n",
       "link E8 to E2--><a href=\"psysml:143d7cb3-4d47-41f0-bb56-6d1ae515b029\" target=\"_top\" title=\"psysml:143d7cb3-4d47-41f0-bb56-6d1ae515b029\" xlink:actuate=\"onRequest\" xlink:href=\"psysml:143d7cb3-4d47-41f0-bb56-6d1ae515b029\" xlink:show=\"new\" xlink:title=\"psysml:143d7cb3-4d47-41f0-bb56-6d1ae515b029\" xlink:type=\"simple\"><path d=\"M175.5,375.13 C190.47,388.9 210.01,406.84 226.76,422.24 \" fill=\"none\" id=\"E8-&gt;E2\" style=\"stroke: #A80036; stroke-width: 1.0;\"/><polygon fill=\"#FFFFFF\" points=\"241.73,436,223.0018,428.3024,232.4723,417.9918,241.73,436\" style=\"stroke: #A80036; stroke-width: 1.0;\"/><ellipse cx=\"220.1568\" cy=\"422.9736\" fill=\"#A80036\" rx=\"2\" ry=\"2\" style=\"stroke: #A80036; stroke-width: 1.0;\"/><ellipse cx=\"226.9215\" cy=\"415.6089\" fill=\"#A80036\" rx=\"2\" ry=\"2\" style=\"stroke: #A80036; stroke-width: 1.0;\"/></a><!--MD5=[dc164f5e8a733ab456ef1add180e9e34]\n",
       "reverse link E7 to E8--><a href=\"psysml:dbdbccdb-5c16-4bd3-a501-4b1c7e9ddcab\" target=\"_top\" title=\"psysml:dbdbccdb-5c16-4bd3-a501-4b1c7e9ddcab\" xlink:actuate=\"onRequest\" xlink:href=\"psysml:dbdbccdb-5c16-4bd3-a501-4b1c7e9ddcab\" xlink:show=\"new\" xlink:title=\"psysml:dbdbccdb-5c16-4bd3-a501-4b1c7e9ddcab\" xlink:type=\"simple\"><path d=\"M409.62,221.6 C407.87,222.08 406.13,222.54 404.41,223 C341.63,239.59 319.39,223.75 261.41,253 C224.42,271.66 190.19,305.95 170.05,328.61 \" fill=\"none\" id=\"E7&lt;-E8\" style=\"stroke: #A80036; stroke-width: 1.0;\"/><polygon fill=\"#FFFFFF\" points=\"422.19,218.02,415.3243,215.815,410.6482,221.3045,417.5139,223.5095,422.19,218.02\" style=\"stroke: #A80036; stroke-width: 1.0;\"/></a><!--MD5=[5c3bb36fe832a92c7f0e1807dd65209d]\n",
       "link E9 to E2--><a href=\"psysml:cb3e8ea7-f115-4f34-bcd9-dd1e6ba812b8\" target=\"_top\" title=\"psysml:cb3e8ea7-f115-4f34-bcd9-dd1e6ba812b8\" xlink:actuate=\"onRequest\" xlink:href=\"psysml:cb3e8ea7-f115-4f34-bcd9-dd1e6ba812b8\" xlink:show=\"new\" xlink:title=\"psysml:cb3e8ea7-f115-4f34-bcd9-dd1e6ba812b8\" xlink:type=\"simple\"><path d=\"M316.88,299.14 C303.3,306.64 290.36,316.42 281.41,329 C263.57,354.07 259.51,389.08 259.52,415.84 \" fill=\"none\" id=\"E9-&gt;E2\" style=\"stroke: #A80036; stroke-width: 1.0;\"/><polygon fill=\"#FFFFFF\" points=\"260.27,435.97,252.5691,417.2431,266.5594,416.7231,260.27,435.97\" style=\"stroke: #A80036; stroke-width: 1.0;\"/><ellipse cx=\"254.356\" cy=\"411.4728\" fill=\"#A80036\" rx=\"2\" ry=\"2\" style=\"stroke: #A80036; stroke-width: 1.0;\"/><ellipse cx=\"264.3491\" cy=\"411.1013\" fill=\"#A80036\" rx=\"2\" ry=\"2\" style=\"stroke: #A80036; stroke-width: 1.0;\"/></a><!--MD5=[9ae28de373ca99bb8a1b38d63370ca7e]\n",
       "reverse link E5 to E9--><a href=\"psysml:b6df212f-8018-4500-9608-46bc28de5179\" target=\"_top\" title=\"psysml:b6df212f-8018-4500-9608-46bc28de5179\" xlink:actuate=\"onRequest\" xlink:href=\"psysml:b6df212f-8018-4500-9608-46bc28de5179\" xlink:show=\"new\" xlink:title=\"psysml:b6df212f-8018-4500-9608-46bc28de5179\" xlink:type=\"simple\"><path d=\"M473.73,92.2 C541.02,121.02 623.75,169.67 582.41,223 C569.4,239.78 525.94,252.1 482.64,260.52 \" fill=\"none\" id=\"E5&lt;-E9\" style=\"stroke: #A80036; stroke-width: 1.0;\"/><polygon fill=\"#FFFFFF\" points=\"461.38,87.05,465.38,93.05,472.4569,91.6654,468.4569,85.6654,461.38,87.05\" style=\"stroke: #A80036; stroke-width: 1.0;\"/></a><!--MD5=[9e76054392fd4e00e08bb8a38ad0efce]\n",
       "@startuml\r\n",
       " \r\n",
       "package \"TradeStudyTest\" as E1  [[psysml:8952aa40-03a2-4df7-81e1-750bf2c7b589 ]]  {\r\n",
       "comp def \"Engine\" as E2  << (B,green) >> [[psysml:ba5002a0-783d-43b2-abfa-70b37f90804c ]] {\r\n",
       "}\r\n",
       "comp usage \"engine1: Engine\" as E3  << (P,limegreen) part>> [[psysml:47ce73ab-2c54-4db4-9d19-7bcb338cdf44 ]] {\r\n",
       "}\r\n",
       "comp usage \"engine2: Engine\" as E4  << (P,limegreen) part>> [[psysml:7dfdc806-8438-4ccb-bd71-8b6bdaa69ab8 ]] {\r\n",
       "}\r\n",
       "comp usage \"engineTradeStudy: TradeStudy\" as E5 <<analysis>> [[psysml:cd38e840-8317-467c-8230-e0f8852492a9 ]] {\r\n",
       "}\r\n",
       "comp usage \"tradeStudyObjective: MaximizeObjective\" as E6  <<(U,orange)requirement>> [[psysml:bf1db205-ea64-42b3-a829-2093a93eb81c ]] {\r\n",
       "}\r\n",
       "comp usage \"objectiveFunction\" as E7  <<(U,orange)calculation>> [[psysml:081fa6ee-8a6f-4292-82c4-f5eb64360f97 ]] {\r\n",
       "result: Real\r\n",
       "}\r\n",
       "comp usage \"alternative: Engine\" as E8  << (P,limegreen) part>> [[psysml:dbdbccdb-5c16-4bd3-a501-4b1c7e9ddcab ]] {\r\n",
       "}\r\n",
       "comp usage \"selectedAlternative: Engine\" as E9  << (P,limegreen) part>> [[psysml:b6df212f-8018-4500-9608-46bc28de5179 ]] {\r\n",
       "}\r\n",
       "E3 - -:|> E2 [[psysml:6a611645-87b6-456f-b99f-fe1a3075932c ]] \r\n",
       "E4 - -:|> E2 [[psysml:c8f697e8-ebd5-44e8-8041-765052aa0dda ]] \r\n",
       "E5 ..> E2 [[psysml:2f46211a-dc33-450b-96f1-34c5430f413d ]] : <<subject>>\r\n",
       "E5 - ->> E6 [[psysml:285bfc51-142a-40f2-bdf1-cdd7141b9b55 ]] : <<objective>>\r\n",
       "E5 *- - E7 [[psysml:081fa6ee-8a6f-4292-82c4-f5eb64360f97 ]] \r\n",
       "E8 - -:|> E2 [[psysml:143d7cb3-4d47-41f0-bb56-6d1ae515b029 ]] \r\n",
       "E7 o- - E8 [[psysml:dbdbccdb-5c16-4bd3-a501-4b1c7e9ddcab ]] \r\n",
       "E9 - -:|> E2 [[psysml:cb3e8ea7-f115-4f34-bcd9-dd1e6ba812b8 ]] \r\n",
       "E5 o- - E9 [[psysml:b6df212f-8018-4500-9608-46bc28de5179 ]] \r\n",
       "}\r\n",
       "@enduml\r\n",
       "\n",
       "PlantUML version 1.2020.13(Sat Jun 13 12:26:38 UTC 2020)\n",
       "(EPL source distribution)\n",
       "Java Runtime: OpenJDK Runtime Environment\n",
       "JVM: OpenJDK 64-Bit Server VM\n",
       "Default Encoding: UTF-8\n",
       "Language: en\n",
       "Country: null\n",
       "--></g></svg>"
      ]
     },
     "execution_count": 30,
     "metadata": {},
     "output_type": "execute_result"
    }
   ],
   "source": [
    "%viz --style=\"PLANTUML\" --view=\"Default\" \"TradeStudyTest\""
   ]
  },
  {
   "cell_type": "code",
   "execution_count": 31,
   "id": "formal-spiritual",
   "metadata": {
    "execution": {
     "iopub.execute_input": "2021-03-25T09:29:28.518699Z",
     "iopub.status.busy": "2021-03-25T09:29:28.518257Z",
     "iopub.status.idle": "2021-03-25T09:29:28.732237Z",
     "shell.execute_reply": "2021-03-25T09:29:28.730364Z"
    }
   },
   "outputs": [
    {
     "data": {
      "image/svg+xml": [
       "<?xml version=\"1.0\" encoding=\"UTF-8\" standalone=\"no\"?><svg xmlns=\"http://www.w3.org/2000/svg\" xmlns:xlink=\"http://www.w3.org/1999/xlink\" contentScriptType=\"application/ecmascript\" contentStyleType=\"text/css\" height=\"504px\" preserveAspectRatio=\"none\" style=\"width:639px;height:504px;\" version=\"1.1\" viewBox=\"0 0 639 504\" width=\"639px\" zoomAndPan=\"magnify\"><defs><filter height=\"300%\" id=\"f1nle5ajqfk695\" width=\"300%\" x=\"-1\" y=\"-1\"><feGaussianBlur result=\"blurOut\" stdDeviation=\"2.0\"/><feColorMatrix in=\"blurOut\" result=\"blurOut2\" type=\"matrix\" values=\"0 0 0 0 0 0 0 0 0 0 0 0 0 0 0 0 0 0 .4 0\"/><feOffset dx=\"4.0\" dy=\"4.0\" in=\"blurOut2\" result=\"blurOut3\"/><feBlend in=\"SourceGraphic\" in2=\"blurOut3\" mode=\"normal\"/></filter></defs><g><!--MD5=[fbc87193dbaf4d95561dea2c320d4a47]\n",
       "cluster E1--><a href=\"psysml:8952aa40-03a2-4df7-81e1-750bf2c7b589\" target=\"_top\" title=\"psysml:8952aa40-03a2-4df7-81e1-750bf2c7b589\" xlink:actuate=\"onRequest\" xlink:href=\"psysml:8952aa40-03a2-4df7-81e1-750bf2c7b589\" xlink:show=\"new\" xlink:title=\"psysml:8952aa40-03a2-4df7-81e1-750bf2c7b589\" xlink:type=\"simple\"><polygon fill=\"#FFFFFF\" filter=\"url(#f1nle5ajqfk695)\" points=\"23.41,6,155.41,6,162.41,28.2969,617.41,28.2969,617.41,492,23.41,492,23.41,6\" style=\"stroke: #000000; stroke-width: 1.5;\"/><line style=\"stroke: #000000; stroke-width: 1.5;\" x1=\"23.41\" x2=\"162.41\" y1=\"28.2969\" y2=\"28.2969\"/><text fill=\"#000000\" font-family=\"sans-serif\" font-size=\"14\" font-weight=\"bold\" lengthAdjust=\"spacingAndGlyphs\" textLength=\"126\" x=\"27.41\" y=\"20.9951\">TradeStudyTest</text></a><!--MD5=[b4997ac47864f28c2f74865a473b2911]\n",
       "class E2--><a href=\"psysml:ba5002a0-783d-43b2-abfa-70b37f90804c\" target=\"_top\" title=\"psysml:ba5002a0-783d-43b2-abfa-70b37f90804c\" xlink:actuate=\"onRequest\" xlink:href=\"psysml:ba5002a0-783d-43b2-abfa-70b37f90804c\" xlink:show=\"new\" xlink:title=\"psysml:ba5002a0-783d-43b2-abfa-70b37f90804c\" xlink:type=\"simple\"><rect fill=\"#FEFECE\" filter=\"url(#f1nle5ajqfk695)\" height=\"40\" id=\"E2\" style=\"stroke: #A80036; stroke-width: 1.5;\" width=\"75\" x=\"224.91\" y=\"436\"/><ellipse cx=\"239.91\" cy=\"452\" fill=\"#008000\" rx=\"11\" ry=\"11\" style=\"stroke: #A80036; stroke-width: 1.0;\"/><path d=\"M238.8163,452.375 L238.8163,456.0469 L240.4413,456.0469 Q241.6131,456.0469 242.0819,455.6563 Q242.5506,455.25 242.5506,454.25 Q242.5506,453.25 242.0506,452.8125 Q241.5663,452.375 240.4413,452.375 L238.8163,452.375 Z M238.8163,447.5469 L238.8163,450.4219 L240.4413,450.4219 Q241.3631,450.4219 241.7538,450.0938 Q242.16,449.75 242.16,449 Q242.16,448.2344 241.7538,447.8906 Q241.3475,447.5469 240.4413,447.5469 L238.8163,447.5469 Z M236.4413,445.5938 L240.4413,445.5938 Q242.5038,445.5938 243.5506,446.375 Q244.5975,447.1563 244.5975,448.7188 Q244.5975,449.9219 243.9725,450.5938 Q243.3631,451.2656 242.1756,451.375 Q243.5975,451.5156 244.3163,452.3281 Q245.035,453.1406 245.035,454.5938 Q245.035,456.3906 243.9569,457.2031 Q242.8788,458 240.4413,458 L236.4413,458 L236.4413,445.5938 Z \"/><text fill=\"#000000\" font-family=\"sans-serif\" font-size=\"12\" lengthAdjust=\"spacingAndGlyphs\" textLength=\"43\" x=\"253.91\" y=\"456.1543\">Engine</text><line style=\"stroke: #A80036; stroke-width: 1.5;\" x1=\"225.91\" x2=\"298.91\" y1=\"468\" y2=\"468\"/></a><!--MD5=[09b614a08d8cba4a07c9adeb5e0fee81]\n",
       "class E3--><a href=\"psysml:47ce73ab-2c54-4db4-9d19-7bcb338cdf44\" target=\"_top\" title=\"psysml:47ce73ab-2c54-4db4-9d19-7bcb338cdf44\" xlink:actuate=\"onRequest\" xlink:href=\"psysml:47ce73ab-2c54-4db4-9d19-7bcb338cdf44\" xlink:show=\"new\" xlink:title=\"psysml:47ce73ab-2c54-4db4-9d19-7bcb338cdf44\" xlink:type=\"simple\"><rect fill=\"#FEFECE\" filter=\"url(#f1nle5ajqfk695)\" height=\"45.9375\" id=\"E3\" rx=\"10\" ry=\"10\" style=\"stroke: #A80036; stroke-width: 1.5;\" width=\"134\" x=\"467.41\" y=\"329\"/><ellipse cx=\"482.41\" cy=\"347.9688\" fill=\"#32CD32\" rx=\"11\" ry=\"11\" style=\"stroke: #A80036; stroke-width: 1.0;\"/><path d=\"M482.2069,343.6406 L482.2069,347.2656 L483.2069,347.2656 Q484.41,347.2656 484.8944,346.8594 Q485.3788,346.4531 485.3788,345.4531 Q485.3788,344.4531 484.8944,344.0469 Q484.41,343.6406 483.2069,343.6406 L482.2069,343.6406 Z M479.7538,341.5781 L483.1131,341.5781 Q485.6756,341.5781 486.8006,342.5 Q487.9256,343.4063 487.9256,345.4531 Q487.9256,347.5 486.8006,348.4219 Q485.6756,349.3281 483.1131,349.3281 L482.2069,349.3281 L482.2069,353.9688 L479.7538,353.9688 L479.7538,341.5781 Z \"/><text fill=\"#000000\" font-family=\"sans-serif\" font-size=\"12\" font-style=\"italic\" lengthAdjust=\"spacingAndGlyphs\" textLength=\"40\" x=\"527.41\" y=\"345.1387\">«part»</text><text fill=\"#000000\" font-family=\"sans-serif\" font-size=\"12\" lengthAdjust=\"spacingAndGlyphs\" textLength=\"102\" x=\"496.41\" y=\"359.1074\">engine1: Engine</text><line style=\"stroke: #A80036; stroke-width: 1.5;\" x1=\"468.41\" x2=\"600.41\" y1=\"366.9375\" y2=\"366.9375\"/></a><!--MD5=[ebbe1d658d1005bcc118a6aa81145e00]\n",
       "class E4--><a href=\"psysml:7dfdc806-8438-4ccb-bd71-8b6bdaa69ab8\" target=\"_top\" title=\"psysml:7dfdc806-8438-4ccb-bd71-8b6bdaa69ab8\" xlink:actuate=\"onRequest\" xlink:href=\"psysml:7dfdc806-8438-4ccb-bd71-8b6bdaa69ab8\" xlink:show=\"new\" xlink:title=\"psysml:7dfdc806-8438-4ccb-bd71-8b6bdaa69ab8\" xlink:type=\"simple\"><rect fill=\"#FEFECE\" filter=\"url(#f1nle5ajqfk695)\" height=\"45.9375\" id=\"E4\" rx=\"10\" ry=\"10\" style=\"stroke: #A80036; stroke-width: 1.5;\" width=\"134\" x=\"298.41\" y=\"329\"/><ellipse cx=\"313.41\" cy=\"347.9688\" fill=\"#32CD32\" rx=\"11\" ry=\"11\" style=\"stroke: #A80036; stroke-width: 1.0;\"/><path d=\"M313.2069,343.6406 L313.2069,347.2656 L314.2069,347.2656 Q315.41,347.2656 315.8944,346.8594 Q316.3788,346.4531 316.3788,345.4531 Q316.3788,344.4531 315.8944,344.0469 Q315.41,343.6406 314.2069,343.6406 L313.2069,343.6406 Z M310.7538,341.5781 L314.1131,341.5781 Q316.6756,341.5781 317.8006,342.5 Q318.9256,343.4063 318.9256,345.4531 Q318.9256,347.5 317.8006,348.4219 Q316.6756,349.3281 314.1131,349.3281 L313.2069,349.3281 L313.2069,353.9688 L310.7538,353.9688 L310.7538,341.5781 Z \"/><text fill=\"#000000\" font-family=\"sans-serif\" font-size=\"12\" font-style=\"italic\" lengthAdjust=\"spacingAndGlyphs\" textLength=\"40\" x=\"358.41\" y=\"345.1387\">«part»</text><text fill=\"#000000\" font-family=\"sans-serif\" font-size=\"12\" lengthAdjust=\"spacingAndGlyphs\" textLength=\"102\" x=\"327.41\" y=\"359.1074\">engine2: Engine</text><line style=\"stroke: #A80036; stroke-width: 1.5;\" x1=\"299.41\" x2=\"431.41\" y1=\"366.9375\" y2=\"366.9375\"/></a><!--MD5=[270fce915f116d4de14055a7c1d9a0f3]\n",
       "class E5--><a href=\"psysml:cd38e840-8317-467c-8230-e0f8852492a9\" target=\"_top\" title=\"psysml:cd38e840-8317-467c-8230-e0f8852492a9\" xlink:actuate=\"onRequest\" xlink:href=\"psysml:cd38e840-8317-467c-8230-e0f8852492a9\" xlink:show=\"new\" xlink:title=\"psysml:cd38e840-8317-467c-8230-e0f8852492a9\" xlink:type=\"simple\"><rect fill=\"#FEFECE\" filter=\"url(#f1nle5ajqfk695)\" height=\"45.9375\" id=\"E5\" rx=\"10\" ry=\"10\" style=\"stroke: #A80036; stroke-width: 1.5;\" width=\"225\" x=\"286.91\" y=\"41\"/><ellipse cx=\"301.91\" cy=\"59.9688\" fill=\"#B6DBBB\" rx=\"11\" ry=\"11\" style=\"stroke: #A80036; stroke-width: 1.0;\"/><path d=\"M297.785,61.8906 L297.785,54.0781 L300.2381,54.0781 L300.2381,62.5156 Q300.2381,63.4375 300.7069,63.9688 Q301.1913,64.5 302.0194,64.5 Q302.8631,64.5 303.3319,63.9688 Q303.8006,63.4375 303.8006,62.5156 L303.8006,54.0781 L306.2538,54.0781 L306.2538,61.8906 Q306.2538,64.4219 305.2538,65.5625 Q304.2538,66.7031 302.0194,66.7031 Q299.8006,66.7031 298.785,65.5625 Q297.785,64.4219 297.785,61.8906 Z \"/><text fill=\"#000000\" font-family=\"sans-serif\" font-size=\"12\" font-style=\"italic\" lengthAdjust=\"spacingAndGlyphs\" textLength=\"64\" x=\"380.41\" y=\"57.1387\">«analysis»</text><text fill=\"#000000\" font-family=\"sans-serif\" font-size=\"12\" lengthAdjust=\"spacingAndGlyphs\" textLength=\"193\" x=\"315.91\" y=\"71.1074\">engineTradeStudy: TradeStudy</text><line style=\"stroke: #A80036; stroke-width: 1.5;\" x1=\"287.91\" x2=\"510.91\" y1=\"78.9375\" y2=\"78.9375\"/></a><!--MD5=[60a26617385b1d2d0262a64233df1f8d]\n",
       "class E6--><a href=\"psysml:bf1db205-ea64-42b3-a829-2093a93eb81c\" target=\"_top\" title=\"psysml:bf1db205-ea64-42b3-a829-2093a93eb81c\" xlink:actuate=\"onRequest\" xlink:href=\"psysml:bf1db205-ea64-42b3-a829-2093a93eb81c\" xlink:show=\"new\" xlink:title=\"psysml:bf1db205-ea64-42b3-a829-2093a93eb81c\" xlink:type=\"simple\"><rect fill=\"#FEFECE\" filter=\"url(#f1nle5ajqfk695)\" height=\"45.9375\" id=\"E6\" rx=\"10\" ry=\"10\" style=\"stroke: #A80036; stroke-width: 1.5;\" width=\"277\" x=\"109.91\" y=\"170.5\"/><ellipse cx=\"124.91\" cy=\"189.4688\" fill=\"#FFA500\" rx=\"11\" ry=\"11\" style=\"stroke: #A80036; stroke-width: 1.0;\"/><path d=\"M120.785,191.3906 L120.785,183.5781 L123.2381,183.5781 L123.2381,192.0156 Q123.2381,192.9375 123.7069,193.4688 Q124.1913,194 125.0194,194 Q125.8631,194 126.3319,193.4688 Q126.8006,192.9375 126.8006,192.0156 L126.8006,183.5781 L129.2538,183.5781 L129.2538,191.3906 Q129.2538,193.9219 128.2538,195.0625 Q127.2538,196.2031 125.0194,196.2031 Q122.8006,196.2031 121.785,195.0625 Q120.785,193.9219 120.785,191.3906 Z \"/><text fill=\"#000000\" font-family=\"sans-serif\" font-size=\"12\" font-style=\"italic\" lengthAdjust=\"spacingAndGlyphs\" textLength=\"91\" x=\"215.91\" y=\"186.6387\">«requirement»</text><text fill=\"#000000\" font-family=\"sans-serif\" font-size=\"12\" lengthAdjust=\"spacingAndGlyphs\" textLength=\"245\" x=\"138.91\" y=\"200.6074\">tradeStudyObjective: MaximizeObjective</text><line style=\"stroke: #A80036; stroke-width: 1.5;\" x1=\"110.91\" x2=\"385.91\" y1=\"208.4375\" y2=\"208.4375\"/></a><!--MD5=[2156ba9850f5573cc1fc38a6a4b2f02b]\n",
       "class E7--><a href=\"psysml:081fa6ee-8a6f-4292-82c4-f5eb64360f97\" target=\"_top\" title=\"psysml:081fa6ee-8a6f-4292-82c4-f5eb64360f97\" xlink:actuate=\"onRequest\" xlink:href=\"psysml:081fa6ee-8a6f-4292-82c4-f5eb64360f97\" xlink:show=\"new\" xlink:title=\"psysml:081fa6ee-8a6f-4292-82c4-f5eb64360f97\" xlink:type=\"simple\"><rect fill=\"#FEFECE\" filter=\"url(#f1nle5ajqfk695)\" height=\"58.7422\" id=\"E7\" rx=\"10\" ry=\"10\" style=\"stroke: #A80036; stroke-width: 1.5;\" width=\"142\" x=\"422.41\" y=\"164\"/><ellipse cx=\"437.41\" cy=\"182.9688\" fill=\"#FFA500\" rx=\"11\" ry=\"11\" style=\"stroke: #A80036; stroke-width: 1.0;\"/><path d=\"M433.285,184.8906 L433.285,177.0781 L435.7381,177.0781 L435.7381,185.5156 Q435.7381,186.4375 436.2069,186.9688 Q436.6913,187.5 437.5194,187.5 Q438.3631,187.5 438.8319,186.9688 Q439.3006,186.4375 439.3006,185.5156 L439.3006,177.0781 L441.7538,177.0781 L441.7538,184.8906 Q441.7538,187.4219 440.7538,188.5625 Q439.7538,189.7031 437.5194,189.7031 Q435.3006,189.7031 434.285,188.5625 Q433.285,187.4219 433.285,184.8906 Z \"/><text fill=\"#000000\" font-family=\"sans-serif\" font-size=\"12\" font-style=\"italic\" lengthAdjust=\"spacingAndGlyphs\" textLength=\"82\" x=\"465.41\" y=\"180.1387\">«calculation»</text><text fill=\"#000000\" font-family=\"sans-serif\" font-size=\"12\" lengthAdjust=\"spacingAndGlyphs\" textLength=\"110\" x=\"451.41\" y=\"194.1074\">objectiveFunction</text><line style=\"stroke: #A80036; stroke-width: 1.5;\" x1=\"423.41\" x2=\"563.41\" y1=\"201.9375\" y2=\"201.9375\"/><text fill=\"#000000\" font-family=\"sans-serif\" font-size=\"11\" lengthAdjust=\"spacingAndGlyphs\" textLength=\"65\" x=\"428.41\" y=\"216.1479\">result: Real</text></a><!--MD5=[b9389687b975829384b498ac4b7476b2]\n",
       "class E8--><a href=\"psysml:dbdbccdb-5c16-4bd3-a501-4b1c7e9ddcab\" target=\"_top\" title=\"psysml:dbdbccdb-5c16-4bd3-a501-4b1c7e9ddcab\" xlink:actuate=\"onRequest\" xlink:href=\"psysml:dbdbccdb-5c16-4bd3-a501-4b1c7e9ddcab\" xlink:show=\"new\" xlink:title=\"psysml:dbdbccdb-5c16-4bd3-a501-4b1c7e9ddcab\" xlink:type=\"simple\"><rect fill=\"#FEFECE\" filter=\"url(#f1nle5ajqfk695)\" height=\"45.9375\" id=\"E8\" rx=\"10\" ry=\"10\" style=\"stroke: #A80036; stroke-width: 1.5;\" width=\"150\" x=\"76.41\" y=\"329\"/><ellipse cx=\"91.41\" cy=\"347.9688\" fill=\"#32CD32\" rx=\"11\" ry=\"11\" style=\"stroke: #A80036; stroke-width: 1.0;\"/><path d=\"M91.2069,343.6406 L91.2069,347.2656 L92.2069,347.2656 Q93.41,347.2656 93.8944,346.8594 Q94.3788,346.4531 94.3788,345.4531 Q94.3788,344.4531 93.8944,344.0469 Q93.41,343.6406 92.2069,343.6406 L91.2069,343.6406 Z M88.7538,341.5781 L92.1131,341.5781 Q94.6756,341.5781 95.8006,342.5 Q96.9256,343.4063 96.9256,345.4531 Q96.9256,347.5 95.8006,348.4219 Q94.6756,349.3281 92.1131,349.3281 L91.2069,349.3281 L91.2069,353.9688 L88.7538,353.9688 L88.7538,341.5781 Z \"/><text fill=\"#000000\" font-family=\"sans-serif\" font-size=\"12\" font-style=\"italic\" lengthAdjust=\"spacingAndGlyphs\" textLength=\"40\" x=\"144.41\" y=\"345.1387\">«part»</text><text fill=\"#000000\" font-family=\"sans-serif\" font-size=\"12\" lengthAdjust=\"spacingAndGlyphs\" textLength=\"118\" x=\"105.41\" y=\"359.1074\">alternative: Engine</text><line style=\"stroke: #A80036; stroke-width: 1.5;\" x1=\"77.41\" x2=\"225.41\" y1=\"366.9375\" y2=\"366.9375\"/></a><!--MD5=[fd4143e9d270a159db93a4ea2a975926]\n",
       "class E9--><a href=\"psysml:b6df212f-8018-4500-9608-46bc28de5179\" target=\"_top\" title=\"psysml:b6df212f-8018-4500-9608-46bc28de5179\" xlink:actuate=\"onRequest\" xlink:href=\"psysml:b6df212f-8018-4500-9608-46bc28de5179\" xlink:show=\"new\" xlink:title=\"psysml:b6df212f-8018-4500-9608-46bc28de5179\" xlink:type=\"simple\"><rect fill=\"#FEFECE\" filter=\"url(#f1nle5ajqfk695)\" height=\"45.9375\" id=\"E9\" rx=\"10\" ry=\"10\" style=\"stroke: #A80036; stroke-width: 1.5;\" width=\"204\" x=\"278.41\" y=\"253\"/><ellipse cx=\"293.41\" cy=\"271.9688\" fill=\"#32CD32\" rx=\"11\" ry=\"11\" style=\"stroke: #A80036; stroke-width: 1.0;\"/><path d=\"M293.2069,267.6406 L293.2069,271.2656 L294.2069,271.2656 Q295.41,271.2656 295.8944,270.8594 Q296.3788,270.4531 296.3788,269.4531 Q296.3788,268.4531 295.8944,268.0469 Q295.41,267.6406 294.2069,267.6406 L293.2069,267.6406 Z M290.7538,265.5781 L294.1131,265.5781 Q296.6756,265.5781 297.8006,266.5 Q298.9256,267.4063 298.9256,269.4531 Q298.9256,271.5 297.8006,272.4219 Q296.6756,273.3281 294.1131,273.3281 L293.2069,273.3281 L293.2069,277.9688 L290.7538,277.9688 L290.7538,265.5781 Z \"/><text fill=\"#000000\" font-family=\"sans-serif\" font-size=\"12\" font-style=\"italic\" lengthAdjust=\"spacingAndGlyphs\" textLength=\"40\" x=\"373.41\" y=\"269.1387\">«part»</text><text fill=\"#000000\" font-family=\"sans-serif\" font-size=\"12\" lengthAdjust=\"spacingAndGlyphs\" textLength=\"172\" x=\"307.41\" y=\"283.1074\">selectedAlternative: Engine</text><line style=\"stroke: #A80036; stroke-width: 1.5;\" x1=\"279.41\" x2=\"481.41\" y1=\"290.9375\" y2=\"290.9375\"/></a><!--MD5=[05d275557350bfb9b23a4ef7222b4c39]\n",
       "link E3 to E2--><a href=\"psysml:6a611645-87b6-456f-b99f-fe1a3075932c\" target=\"_top\" title=\"psysml:6a611645-87b6-456f-b99f-fe1a3075932c\" xlink:actuate=\"onRequest\" xlink:href=\"psysml:6a611645-87b6-456f-b99f-fe1a3075932c\" xlink:show=\"new\" xlink:title=\"psysml:6a611645-87b6-456f-b99f-fe1a3075932c\" xlink:type=\"simple\"><path d=\"M475.72,375.01 C429.33,392.4 364.97,416.54 319.11,433.74 \" fill=\"none\" id=\"E3-&gt;E2\" style=\"stroke: #A80036; stroke-width: 1.0;\"/><polygon fill=\"#FFFFFF\" points=\"300.08,440.87,315.4179,427.6508,320.3282,440.7614,300.08,440.87\" style=\"stroke: #A80036; stroke-width: 1.0;\"/><ellipse cx=\"321.4573\" cy=\"427.5245\" fill=\"#A80036\" rx=\"2\" ry=\"2\" style=\"stroke: #A80036; stroke-width: 1.0;\"/><ellipse cx=\"324.9646\" cy=\"436.8893\" fill=\"#A80036\" rx=\"2\" ry=\"2\" style=\"stroke: #A80036; stroke-width: 1.0;\"/></a><!--MD5=[185131fc0dcab0a4505a2ebe144e961b]\n",
       "link E4 to E2--><a href=\"psysml:c8f697e8-ebd5-44e8-8041-765052aa0dda\" target=\"_top\" title=\"psysml:c8f697e8-ebd5-44e8-8041-765052aa0dda\" xlink:actuate=\"onRequest\" xlink:href=\"psysml:c8f697e8-ebd5-44e8-8041-765052aa0dda\" xlink:show=\"new\" xlink:title=\"psysml:c8f697e8-ebd5-44e8-8041-765052aa0dda\" xlink:type=\"simple\"><path d=\"M343.06,375.13 C329.3,388.76 311.41,406.47 295.97,421.76 \" fill=\"none\" id=\"E4-&gt;E2\" style=\"stroke: #A80036; stroke-width: 1.0;\"/><polygon fill=\"#FFFFFF\" points=\"281.6,436,290.178,417.6583,300.0274,427.6077,281.6,436\" style=\"stroke: #A80036; stroke-width: 1.0;\"/><ellipse cx=\"295.6359\" cy=\"415.0695\" fill=\"#A80036\" rx=\"2\" ry=\"2\" style=\"stroke: #A80036; stroke-width: 1.0;\"/><ellipse cx=\"302.6712\" cy=\"422.1762\" fill=\"#A80036\" rx=\"2\" ry=\"2\" style=\"stroke: #A80036; stroke-width: 1.0;\"/></a><!--MD5=[15ebcb19ae302d9b601edb458606d402]\n",
       "link E5 to E2--><a href=\"psysml:2f46211a-dc33-450b-96f1-34c5430f413d\" target=\"_top\" title=\"psysml:2f46211a-dc33-450b-96f1-34c5430f413d\" xlink:actuate=\"onRequest\" xlink:href=\"psysml:2f46211a-dc33-450b-96f1-34c5430f413d\" xlink:show=\"new\" xlink:title=\"psysml:2f46211a-dc33-450b-96f1-34c5430f413d\" xlink:type=\"simple\"><path d=\"M286.6,73.53 C220.78,84.51 141.32,109.14 92.41,164 C29.25,234.85 6,296.54 59.41,375 C95.2,427.57 171.35,445.6 219.53,451.78 \" fill=\"none\" id=\"E5-&gt;E2\" style=\"stroke: #A80036; stroke-width: 1.0; stroke-dasharray: 7.0,7.0;\"/><polygon fill=\"#A80036\" points=\"224.69,452.41,216.2485,447.3365,219.7277,451.7968,215.2674,455.2761,224.69,452.41\" style=\"stroke: #A80036; stroke-width: 1.0;\"/><text fill=\"#000000\" font-family=\"sans-serif\" font-size=\"13\" lengthAdjust=\"spacingAndGlyphs\" textLength=\"62\" x=\"37.41\" y=\"280.5669\">«subject»</text></a><!--MD5=[9120cf2e5df3bff93db8f754bbbc09b4]\n",
       "link E5 to E6--><a href=\"psysml:285bfc51-142a-40f2-bdf1-cdd7141b9b55\" target=\"_top\" title=\"psysml:285bfc51-142a-40f2-bdf1-cdd7141b9b55\" xlink:actuate=\"onRequest\" xlink:href=\"psysml:285bfc51-142a-40f2-bdf1-cdd7141b9b55\" xlink:show=\"new\" xlink:title=\"psysml:285bfc51-142a-40f2-bdf1-cdd7141b9b55\" xlink:type=\"simple\"><path d=\"M373.11,87.21 C347.53,108.81 308.6,141.67 281.06,164.93 \" fill=\"none\" id=\"E5-&gt;E6\" style=\"stroke: #A80036; stroke-width: 1.0;\"/><polygon fill=\"#A80036\" points=\"274.66,170.33,282.7094,167.4653,278.841,162.8789,274.66,170.33\" style=\"stroke: #A80036; stroke-width: 1.0;\"/><text fill=\"#000000\" font-family=\"sans-serif\" font-size=\"13\" lengthAdjust=\"spacingAndGlyphs\" textLength=\"73\" x=\"338.41\" y=\"130.0669\">«objective»</text></a><!--MD5=[452b418e7f8a40397a49b8c0a78acc5b]\n",
       "reverse link E5 to E7--><a href=\"psysml:081fa6ee-8a6f-4292-82c4-f5eb64360f97\" target=\"_top\" title=\"psysml:081fa6ee-8a6f-4292-82c4-f5eb64360f97\" xlink:actuate=\"onRequest\" xlink:href=\"psysml:081fa6ee-8a6f-4292-82c4-f5eb64360f97\" xlink:show=\"new\" xlink:title=\"psysml:081fa6ee-8a6f-4292-82c4-f5eb64360f97\" xlink:type=\"simple\"><path d=\"M423.66,97.9 C438.71,118.31 457.85,144.27 472.28,163.84 \" fill=\"none\" id=\"E5&lt;-E7\" style=\"stroke: #A80036; stroke-width: 1.0;\"/><polygon fill=\"#A80036\" points=\"415.78,87.21,416.123,94.4129,422.9038,96.8667,422.5608,89.6637,415.78,87.21\" style=\"stroke: #A80036; stroke-width: 1.0;\"/></a><!--MD5=[f1f3f9f2fc535e6147756cb86a7f2e32]\n",
       "link E8 to E2--><a href=\"psysml:143d7cb3-4d47-41f0-bb56-6d1ae515b029\" target=\"_top\" title=\"psysml:143d7cb3-4d47-41f0-bb56-6d1ae515b029\" xlink:actuate=\"onRequest\" xlink:href=\"psysml:143d7cb3-4d47-41f0-bb56-6d1ae515b029\" xlink:show=\"new\" xlink:title=\"psysml:143d7cb3-4d47-41f0-bb56-6d1ae515b029\" xlink:type=\"simple\"><path d=\"M175.5,375.13 C190.47,388.9 210.01,406.84 226.76,422.24 \" fill=\"none\" id=\"E8-&gt;E2\" style=\"stroke: #A80036; stroke-width: 1.0;\"/><polygon fill=\"#FFFFFF\" points=\"241.73,436,223.0018,428.3024,232.4723,417.9918,241.73,436\" style=\"stroke: #A80036; stroke-width: 1.0;\"/><ellipse cx=\"220.1568\" cy=\"422.9736\" fill=\"#A80036\" rx=\"2\" ry=\"2\" style=\"stroke: #A80036; stroke-width: 1.0;\"/><ellipse cx=\"226.9215\" cy=\"415.6089\" fill=\"#A80036\" rx=\"2\" ry=\"2\" style=\"stroke: #A80036; stroke-width: 1.0;\"/></a><!--MD5=[dc164f5e8a733ab456ef1add180e9e34]\n",
       "reverse link E7 to E8--><a href=\"psysml:dbdbccdb-5c16-4bd3-a501-4b1c7e9ddcab\" target=\"_top\" title=\"psysml:dbdbccdb-5c16-4bd3-a501-4b1c7e9ddcab\" xlink:actuate=\"onRequest\" xlink:href=\"psysml:dbdbccdb-5c16-4bd3-a501-4b1c7e9ddcab\" xlink:show=\"new\" xlink:title=\"psysml:dbdbccdb-5c16-4bd3-a501-4b1c7e9ddcab\" xlink:type=\"simple\"><path d=\"M409.62,221.6 C407.87,222.08 406.13,222.54 404.41,223 C341.63,239.59 319.39,223.75 261.41,253 C224.42,271.66 190.19,305.95 170.05,328.61 \" fill=\"none\" id=\"E7&lt;-E8\" style=\"stroke: #A80036; stroke-width: 1.0;\"/><polygon fill=\"#FFFFFF\" points=\"422.19,218.02,415.3243,215.815,410.6482,221.3045,417.5139,223.5095,422.19,218.02\" style=\"stroke: #A80036; stroke-width: 1.0;\"/></a><!--MD5=[5c3bb36fe832a92c7f0e1807dd65209d]\n",
       "link E9 to E2--><a href=\"psysml:cb3e8ea7-f115-4f34-bcd9-dd1e6ba812b8\" target=\"_top\" title=\"psysml:cb3e8ea7-f115-4f34-bcd9-dd1e6ba812b8\" xlink:actuate=\"onRequest\" xlink:href=\"psysml:cb3e8ea7-f115-4f34-bcd9-dd1e6ba812b8\" xlink:show=\"new\" xlink:title=\"psysml:cb3e8ea7-f115-4f34-bcd9-dd1e6ba812b8\" xlink:type=\"simple\"><path d=\"M316.88,299.14 C303.3,306.64 290.36,316.42 281.41,329 C263.57,354.07 259.51,389.08 259.52,415.84 \" fill=\"none\" id=\"E9-&gt;E2\" style=\"stroke: #A80036; stroke-width: 1.0;\"/><polygon fill=\"#FFFFFF\" points=\"260.27,435.97,252.5691,417.2431,266.5594,416.7231,260.27,435.97\" style=\"stroke: #A80036; stroke-width: 1.0;\"/><ellipse cx=\"254.356\" cy=\"411.4728\" fill=\"#A80036\" rx=\"2\" ry=\"2\" style=\"stroke: #A80036; stroke-width: 1.0;\"/><ellipse cx=\"264.3491\" cy=\"411.1013\" fill=\"#A80036\" rx=\"2\" ry=\"2\" style=\"stroke: #A80036; stroke-width: 1.0;\"/></a><!--MD5=[9ae28de373ca99bb8a1b38d63370ca7e]\n",
       "reverse link E5 to E9--><a href=\"psysml:b6df212f-8018-4500-9608-46bc28de5179\" target=\"_top\" title=\"psysml:b6df212f-8018-4500-9608-46bc28de5179\" xlink:actuate=\"onRequest\" xlink:href=\"psysml:b6df212f-8018-4500-9608-46bc28de5179\" xlink:show=\"new\" xlink:title=\"psysml:b6df212f-8018-4500-9608-46bc28de5179\" xlink:type=\"simple\"><path d=\"M473.73,92.2 C541.02,121.02 623.75,169.67 582.41,223 C569.4,239.78 525.94,252.1 482.64,260.52 \" fill=\"none\" id=\"E5&lt;-E9\" style=\"stroke: #A80036; stroke-width: 1.0;\"/><polygon fill=\"#FFFFFF\" points=\"461.38,87.05,465.38,93.05,472.4569,91.6654,468.4569,85.6654,461.38,87.05\" style=\"stroke: #A80036; stroke-width: 1.0;\"/></a><!--MD5=[9e76054392fd4e00e08bb8a38ad0efce]\n",
       "@startuml\r\n",
       " \r\n",
       "package \"TradeStudyTest\" as E1  [[psysml:8952aa40-03a2-4df7-81e1-750bf2c7b589 ]]  {\r\n",
       "comp def \"Engine\" as E2  << (B,green) >> [[psysml:ba5002a0-783d-43b2-abfa-70b37f90804c ]] {\r\n",
       "}\r\n",
       "comp usage \"engine1: Engine\" as E3  << (P,limegreen) part>> [[psysml:47ce73ab-2c54-4db4-9d19-7bcb338cdf44 ]] {\r\n",
       "}\r\n",
       "comp usage \"engine2: Engine\" as E4  << (P,limegreen) part>> [[psysml:7dfdc806-8438-4ccb-bd71-8b6bdaa69ab8 ]] {\r\n",
       "}\r\n",
       "comp usage \"engineTradeStudy: TradeStudy\" as E5 <<analysis>> [[psysml:cd38e840-8317-467c-8230-e0f8852492a9 ]] {\r\n",
       "}\r\n",
       "comp usage \"tradeStudyObjective: MaximizeObjective\" as E6  <<(U,orange)requirement>> [[psysml:bf1db205-ea64-42b3-a829-2093a93eb81c ]] {\r\n",
       "}\r\n",
       "comp usage \"objectiveFunction\" as E7  <<(U,orange)calculation>> [[psysml:081fa6ee-8a6f-4292-82c4-f5eb64360f97 ]] {\r\n",
       "result: Real\r\n",
       "}\r\n",
       "comp usage \"alternative: Engine\" as E8  << (P,limegreen) part>> [[psysml:dbdbccdb-5c16-4bd3-a501-4b1c7e9ddcab ]] {\r\n",
       "}\r\n",
       "comp usage \"selectedAlternative: Engine\" as E9  << (P,limegreen) part>> [[psysml:b6df212f-8018-4500-9608-46bc28de5179 ]] {\r\n",
       "}\r\n",
       "E3 - -:|> E2 [[psysml:6a611645-87b6-456f-b99f-fe1a3075932c ]] \r\n",
       "E4 - -:|> E2 [[psysml:c8f697e8-ebd5-44e8-8041-765052aa0dda ]] \r\n",
       "E5 ..> E2 [[psysml:2f46211a-dc33-450b-96f1-34c5430f413d ]] : <<subject>>\r\n",
       "E5 - ->> E6 [[psysml:285bfc51-142a-40f2-bdf1-cdd7141b9b55 ]] : <<objective>>\r\n",
       "E5 *- - E7 [[psysml:081fa6ee-8a6f-4292-82c4-f5eb64360f97 ]] \r\n",
       "E8 - -:|> E2 [[psysml:143d7cb3-4d47-41f0-bb56-6d1ae515b029 ]] \r\n",
       "E7 o- - E8 [[psysml:dbdbccdb-5c16-4bd3-a501-4b1c7e9ddcab ]] \r\n",
       "E9 - -:|> E2 [[psysml:cb3e8ea7-f115-4f34-bcd9-dd1e6ba812b8 ]] \r\n",
       "E5 o- - E9 [[psysml:b6df212f-8018-4500-9608-46bc28de5179 ]] \r\n",
       "}\r\n",
       "@enduml\r\n",
       "\n",
       "PlantUML version 1.2020.13(Sat Jun 13 12:26:38 UTC 2020)\n",
       "(EPL source distribution)\n",
       "Java Runtime: OpenJDK Runtime Environment\n",
       "JVM: OpenJDK 64-Bit Server VM\n",
       "Default Encoding: UTF-8\n",
       "Language: en\n",
       "Country: null\n",
       "--></g></svg>"
      ]
     },
     "execution_count": 31,
     "metadata": {},
     "output_type": "execute_result"
    }
   ],
   "source": [
    "%viz --style=\"PLANTUML\" --view=\"Tree\" \"TradeStudyTest\""
   ]
  },
  {
   "cell_type": "code",
   "execution_count": 32,
   "id": "capital-issue",
   "metadata": {
    "execution": {
     "iopub.execute_input": "2021-03-25T09:29:28.783205Z",
     "iopub.status.busy": "2021-03-25T09:29:28.782535Z",
     "iopub.status.idle": "2021-03-25T09:29:29.672920Z",
     "shell.execute_reply": "2021-03-25T09:29:29.671664Z"
    }
   },
   "outputs": [
    {
     "data": {
      "image/svg+xml": [
       "<?xml version=\"1.0\" encoding=\"UTF-8\" standalone=\"no\"?><svg xmlns=\"http://www.w3.org/2000/svg\" xmlns:xlink=\"http://www.w3.org/1999/xlink\" contentScriptType=\"application/ecmascript\" contentStyleType=\"text/css\" height=\"303px\" preserveAspectRatio=\"none\" style=\"width:603px;height:303px;background:#000000;\" version=\"1.1\" viewBox=\"0 0 603 303\" width=\"603px\" zoomAndPan=\"magnify\"><defs/><g><rect fill=\"#122619\" height=\"1\" style=\"stroke: #122619; stroke-width: 1.0;\" width=\"1\" x=\"0\" y=\"0\"/><rect fill=\"#FFFFFF\" height=\"205.5625\" style=\"stroke: #FFFFFF; stroke-width: 1.0;\" width=\"602\" x=\"0\" y=\"0\"/><text fill=\"#000000\" font-family=\"sans-serif\" font-size=\"12\" font-weight=\"bold\" lengthAdjust=\"spacingAndGlyphs\" textLength=\"159\" x=\"5\" y=\"16.1387\">Welcome to PlantUML!</text><text fill=\"#000000\" font-family=\"sans-serif\" font-size=\"12\" lengthAdjust=\"spacingAndGlyphs\" textLength=\"0\" x=\"9\" y=\"30.1074\"/><text fill=\"#000000\" font-family=\"sans-serif\" font-size=\"12\" lengthAdjust=\"spacingAndGlyphs\" textLength=\"293\" x=\"5\" y=\"44.0762\">If you use this software, you accept its license.</text><text fill=\"#000000\" font-family=\"sans-serif\" font-size=\"12\" lengthAdjust=\"spacingAndGlyphs\" textLength=\"107\" x=\"5\" y=\"58.0449\">(details by typing</text><text fill=\"#000000\" font-family=\"monospace\" font-size=\"12\" lengthAdjust=\"spacingAndGlyphs\" textLength=\"49\" x=\"116\" y=\"58.0449\">license</text><text fill=\"#000000\" font-family=\"sans-serif\" font-size=\"12\" lengthAdjust=\"spacingAndGlyphs\" textLength=\"56\" x=\"169\" y=\"58.0449\">keyword)</text><text fill=\"#000000\" font-family=\"sans-serif\" font-size=\"12\" lengthAdjust=\"spacingAndGlyphs\" textLength=\"0\" x=\"9\" y=\"72.0137\"/><text fill=\"#000000\" font-family=\"sans-serif\" font-size=\"12\" lengthAdjust=\"spacingAndGlyphs\" textLength=\"283\" x=\"5\" y=\"85.9824\">You can start with a simple UML Diagram like:</text><text fill=\"#000000\" font-family=\"sans-serif\" font-size=\"12\" lengthAdjust=\"spacingAndGlyphs\" textLength=\"0\" x=\"9\" y=\"99.9512\"/><text fill=\"#000000\" font-family=\"monospace\" font-size=\"12\" lengthAdjust=\"spacingAndGlyphs\" textLength=\"119\" x=\"5\" y=\"113.9199\">Bob-&gt;Alice: Hello</text><text fill=\"#000000\" font-family=\"sans-serif\" font-size=\"12\" lengthAdjust=\"spacingAndGlyphs\" textLength=\"0\" x=\"9\" y=\"127.8887\"/><text fill=\"#000000\" font-family=\"sans-serif\" font-size=\"12\" lengthAdjust=\"spacingAndGlyphs\" textLength=\"14\" x=\"5\" y=\"141.8574\">Or</text><text fill=\"#000000\" font-family=\"sans-serif\" font-size=\"12\" lengthAdjust=\"spacingAndGlyphs\" textLength=\"0\" x=\"9\" y=\"155.8262\"/><text fill=\"#000000\" font-family=\"monospace\" font-size=\"12\" lengthAdjust=\"spacingAndGlyphs\" textLength=\"91\" x=\"5\" y=\"169.7949\">class Example</text><text fill=\"#000000\" font-family=\"sans-serif\" font-size=\"12\" lengthAdjust=\"spacingAndGlyphs\" textLength=\"0\" x=\"9\" y=\"183.7637\"/><text fill=\"#000000\" font-family=\"sans-serif\" font-size=\"12\" lengthAdjust=\"spacingAndGlyphs\" textLength=\"349\" x=\"5\" y=\"197.7324\">You will find more information about PlantUML syntax on</text><text fill=\"#000000\" font-family=\"sans-serif\" font-size=\"12\" lengthAdjust=\"spacingAndGlyphs\" text-decoration=\"underline\" textLength=\"129\" x=\"358\" y=\"197.7324\">https://plantuml.com</text><image height=\"71\" width=\"80\" x=\"516\" xlink:href=\"data:image/png;base64,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\" y=\"6\"/><rect fill=\"#000000\" height=\"96.4844\" style=\"stroke: #000000; stroke-width: 1.0;\" width=\"602\" x=\"0\" y=\"205.5625\"/><rect fill=\"#33FF02\" height=\"21.2969\" style=\"stroke: #33FF02; stroke-width: 1.0;\" width=\"170\" x=\"5\" y=\"210.5625\"/><text fill=\"#000000\" font-family=\"sans-serif\" font-size=\"14\" font-weight=\"bold\" lengthAdjust=\"spacingAndGlyphs\" textLength=\"168\" x=\"6\" y=\"225.5625\">[From string (line 2) ]</text><text fill=\"#33FF02\" font-family=\"sans-serif\" font-size=\"14\" font-weight=\"bold\" lengthAdjust=\"spacingAndGlyphs\" textLength=\"0\" x=\"10\" y=\"245.8594\"/><text fill=\"#33FF02\" font-family=\"sans-serif\" font-size=\"14\" font-weight=\"bold\" lengthAdjust=\"spacingAndGlyphs\" textLength=\"79\" x=\"5\" y=\"262.1563\">@startuml</text><text fill=\"#33FF02\" font-family=\"sans-serif\" font-size=\"14\" font-weight=\"bold\" lengthAdjust=\"spacingAndGlyphs\" textLength=\"0\" x=\"10\" y=\"278.4531\"/><text fill=\"#FF0000\" font-family=\"sans-serif\" font-size=\"14\" font-weight=\"bold\" lengthAdjust=\"spacingAndGlyphs\" textLength=\"142\" x=\"10\" y=\"294.75\">Empty description</text><!--MD5=[f59edd8218d337f74d0c332fc6737304]\n",
       "@startuml\r\n",
       " \r\n",
       "@enduml\r\n",
       "\n",
       "PlantUML version 1.2020.13(Sat Jun 13 12:26:38 UTC 2020)\n",
       "(EPL source distribution)\n",
       "Java Runtime: OpenJDK Runtime Environment\n",
       "JVM: OpenJDK 64-Bit Server VM\n",
       "Default Encoding: UTF-8\n",
       "Language: en\n",
       "Country: null\n",
       "--></g></svg>"
      ]
     },
     "execution_count": 32,
     "metadata": {},
     "output_type": "execute_result"
    }
   ],
   "source": [
    "%viz --style=\"PLANTUML\" --view=\"State\" \"TradeStudyTest\""
   ]
  },
  {
   "cell_type": "code",
   "execution_count": 33,
   "id": "portuguese-bankruptcy",
   "metadata": {
    "execution": {
     "iopub.execute_input": "2021-03-25T09:29:29.723302Z",
     "iopub.status.busy": "2021-03-25T09:29:29.722862Z",
     "iopub.status.idle": "2021-03-25T09:29:29.770550Z",
     "shell.execute_reply": "2021-03-25T09:29:29.769176Z"
    }
   },
   "outputs": [
    {
     "data": {
      "image/svg+xml": [
       "<?xml version=\"1.0\" encoding=\"UTF-8\" standalone=\"no\"?><svg xmlns=\"http://www.w3.org/2000/svg\" xmlns:xlink=\"http://www.w3.org/1999/xlink\" contentScriptType=\"application/ecmascript\" contentStyleType=\"text/css\" height=\"109px\" preserveAspectRatio=\"none\" style=\"width:499px;height:109px;\" version=\"1.1\" viewBox=\"0 0 499 109\" width=\"499px\" zoomAndPan=\"magnify\"><defs><filter height=\"300%\" id=\"fv7d2extewo04\" width=\"300%\" x=\"-1\" y=\"-1\"><feGaussianBlur result=\"blurOut\" stdDeviation=\"2.0\"/><feColorMatrix in=\"blurOut\" result=\"blurOut2\" type=\"matrix\" values=\"0 0 0 0 0 0 0 0 0 0 0 0 0 0 0 0 0 0 .4 0\"/><feOffset dx=\"4.0\" dy=\"4.0\" in=\"blurOut2\" result=\"blurOut3\"/><feBlend in=\"SourceGraphic\" in2=\"blurOut3\" mode=\"normal\"/></filter></defs><g><!--MD5=[fbc87193dbaf4d95561dea2c320d4a47]\n",
       "cluster E1--><a href=\"psysml:8952aa40-03a2-4df7-81e1-750bf2c7b589\" target=\"_top\" title=\"psysml:8952aa40-03a2-4df7-81e1-750bf2c7b589\" xlink:actuate=\"onRequest\" xlink:href=\"psysml:8952aa40-03a2-4df7-81e1-750bf2c7b589\" xlink:show=\"new\" xlink:title=\"psysml:8952aa40-03a2-4df7-81e1-750bf2c7b589\" xlink:type=\"simple\"><polygon fill=\"#FFFFFF\" filter=\"url(#fv7d2extewo04)\" points=\"16,6,148,6,155,28.2969,477,28.2969,477,97,16,97,16,6\" style=\"stroke: #000000; stroke-width: 1.5;\"/><line style=\"stroke: #000000; stroke-width: 1.5;\" x1=\"16\" x2=\"155\" y1=\"28.2969\" y2=\"28.2969\"/><text fill=\"#000000\" font-family=\"sans-serif\" font-size=\"14\" font-weight=\"bold\" lengthAdjust=\"spacingAndGlyphs\" textLength=\"126\" x=\"20\" y=\"20.9951\">TradeStudyTest</text></a><g id=\"E1.E2\"><a href=\"psysml:ba5002a0-783d-43b2-abfa-70b37f90804c\" target=\"_top\" title=\"psysml:ba5002a0-783d-43b2-abfa-70b37f90804c\" xlink:actuate=\"onRequest\" xlink:href=\"psysml:ba5002a0-783d-43b2-abfa-70b37f90804c\" xlink:show=\"new\" xlink:title=\"psysml:ba5002a0-783d-43b2-abfa-70b37f90804c\" xlink:type=\"simple\"><rect fill=\"#FEFECE\" filter=\"url(#fv7d2extewo04)\" height=\"40\" id=\"E2\" style=\"stroke: #A80036; stroke-width: 1.5;\" width=\"80\" x=\"381\" y=\"41\"/><ellipse cx=\"398.25\" cy=\"57\" fill=\"#008000\" rx=\"11\" ry=\"11\" style=\"stroke: #A80036; stroke-width: 1.0;\"/><path d=\"M397.1563,57.375 L397.1563,61.0469 L398.7813,61.0469 Q399.9531,61.0469 400.4219,60.6563 Q400.8906,60.25 400.8906,59.25 Q400.8906,58.25 400.3906,57.8125 Q399.9063,57.375 398.7813,57.375 L397.1563,57.375 Z M397.1563,52.5469 L397.1563,55.4219 L398.7813,55.4219 Q399.7031,55.4219 400.0938,55.0938 Q400.5,54.75 400.5,54 Q400.5,53.2344 400.0938,52.8906 Q399.6875,52.5469 398.7813,52.5469 L397.1563,52.5469 Z M394.7813,50.5938 L398.7813,50.5938 Q400.8438,50.5938 401.8906,51.375 Q402.9375,52.1563 402.9375,53.7188 Q402.9375,54.9219 402.3125,55.5938 Q401.7031,56.2656 400.5156,56.375 Q401.9375,56.5156 402.6563,57.3281 Q403.375,58.1406 403.375,59.5938 Q403.375,61.3906 402.2969,62.2031 Q401.2188,63 398.7813,63 L394.7813,63 L394.7813,50.5938 Z \"/><text fill=\"#000000\" font-family=\"sans-serif\" font-size=\"12\" lengthAdjust=\"spacingAndGlyphs\" textLength=\"43\" x=\"412.75\" y=\"61.1543\">Engine</text></a></g><g id=\"E1.E3\"><a href=\"psysml:47ce73ab-2c54-4db4-9d19-7bcb338cdf44\" target=\"_top\" title=\"psysml:47ce73ab-2c54-4db4-9d19-7bcb338cdf44\" xlink:actuate=\"onRequest\" xlink:href=\"psysml:47ce73ab-2c54-4db4-9d19-7bcb338cdf44\" xlink:show=\"new\" xlink:title=\"psysml:47ce73ab-2c54-4db4-9d19-7bcb338cdf44\" xlink:type=\"simple\"><rect fill=\"#FEFECE\" filter=\"url(#fv7d2extewo04)\" height=\"40\" id=\"E3\" rx=\"10\" ry=\"10\" style=\"stroke: #A80036; stroke-width: 1.5;\" width=\"139\" x=\"206.5\" y=\"41\"/><ellipse cx=\"223.75\" cy=\"57\" fill=\"#B6DBBB\" rx=\"11\" ry=\"11\" style=\"stroke: #A80036; stroke-width: 1.0;\"/><path d=\"M219.625,58.9219 L219.625,51.1094 L222.0781,51.1094 L222.0781,59.5469 Q222.0781,60.4688 222.5469,61 Q223.0313,61.5313 223.8594,61.5313 Q224.7031,61.5313 225.1719,61 Q225.6406,60.4688 225.6406,59.5469 L225.6406,51.1094 L228.0938,51.1094 L228.0938,58.9219 Q228.0938,61.4531 227.0938,62.5938 Q226.0938,63.7344 223.8594,63.7344 Q221.6406,63.7344 220.625,62.5938 Q219.625,61.4531 219.625,58.9219 Z \"/><text fill=\"#000000\" font-family=\"sans-serif\" font-size=\"12\" lengthAdjust=\"spacingAndGlyphs\" textLength=\"102\" x=\"238.25\" y=\"61.1543\">engine1: Engine</text></a></g><g id=\"E1.E4\"><a href=\"psysml:7dfdc806-8438-4ccb-bd71-8b6bdaa69ab8\" target=\"_top\" title=\"psysml:7dfdc806-8438-4ccb-bd71-8b6bdaa69ab8\" xlink:actuate=\"onRequest\" xlink:href=\"psysml:7dfdc806-8438-4ccb-bd71-8b6bdaa69ab8\" xlink:show=\"new\" xlink:title=\"psysml:7dfdc806-8438-4ccb-bd71-8b6bdaa69ab8\" xlink:type=\"simple\"><rect fill=\"#FEFECE\" filter=\"url(#fv7d2extewo04)\" height=\"40\" id=\"E4\" rx=\"10\" ry=\"10\" style=\"stroke: #A80036; stroke-width: 1.5;\" width=\"139\" x=\"32.5\" y=\"41\"/><ellipse cx=\"49.75\" cy=\"57\" fill=\"#B6DBBB\" rx=\"11\" ry=\"11\" style=\"stroke: #A80036; stroke-width: 1.0;\"/><path d=\"M45.625,58.9219 L45.625,51.1094 L48.0781,51.1094 L48.0781,59.5469 Q48.0781,60.4688 48.5469,61 Q49.0313,61.5313 49.8594,61.5313 Q50.7031,61.5313 51.1719,61 Q51.6406,60.4688 51.6406,59.5469 L51.6406,51.1094 L54.0938,51.1094 L54.0938,58.9219 Q54.0938,61.4531 53.0938,62.5938 Q52.0938,63.7344 49.8594,63.7344 Q47.6406,63.7344 46.625,62.5938 Q45.625,61.4531 45.625,58.9219 Z \"/><text fill=\"#000000\" font-family=\"sans-serif\" font-size=\"12\" lengthAdjust=\"spacingAndGlyphs\" textLength=\"102\" x=\"64.25\" y=\"61.1543\">engine2: Engine</text></a></g><!--MD5=[153f6e7b403a512596fff9ed54140628]\n",
       "@startuml\r\n",
       "skinparam ranksep 8\r\n",
       "skinparam rectangle {\r\n",
       " backgroundColor<<block>> LightGreen\r\n",
       "}\r\n",
       " \r\n",
       "package \"TradeStudyTest\" as E1  [[psysml:8952aa40-03a2-4df7-81e1-750bf2c7b589 ]]  {\r\n",
       "rec def \"Engine\" as E2  << (B,green) >> [[psysml:ba5002a0-783d-43b2-abfa-70b37f90804c ]] {\r\n",
       "}\r\n",
       "rec usage \"engine1: Engine\" as E3  [[psysml:47ce73ab-2c54-4db4-9d19-7bcb338cdf44 ]] {\r\n",
       "}\r\n",
       "rec usage \"engine2: Engine\" as E4  [[psysml:7dfdc806-8438-4ccb-bd71-8b6bdaa69ab8 ]] {\r\n",
       "}\r\n",
       "}\r\n",
       "@enduml\r\n",
       "\n",
       "PlantUML version 1.2020.13(Sat Jun 13 12:26:38 UTC 2020)\n",
       "(EPL source distribution)\n",
       "Java Runtime: OpenJDK Runtime Environment\n",
       "JVM: OpenJDK 64-Bit Server VM\n",
       "Default Encoding: UTF-8\n",
       "Language: en\n",
       "Country: null\n",
       "--></g></svg>"
      ]
     },
     "execution_count": 33,
     "metadata": {},
     "output_type": "execute_result"
    }
   ],
   "source": [
    "%viz --style=\"PLANTUML\" --view=\"Interconnection\" \"TradeStudyTest\""
   ]
  },
  {
   "cell_type": "code",
   "execution_count": 34,
   "id": "democratic-flesh",
   "metadata": {
    "execution": {
     "iopub.execute_input": "2021-03-25T09:29:29.821544Z",
     "iopub.status.busy": "2021-03-25T09:29:29.821040Z",
     "iopub.status.idle": "2021-03-25T09:29:29.901841Z",
     "shell.execute_reply": "2021-03-25T09:29:29.901509Z"
    }
   },
   "outputs": [
    {
     "data": {
      "image/svg+xml": [
       "<?xml version=\"1.0\" encoding=\"UTF-8\" standalone=\"no\"?><svg xmlns=\"http://www.w3.org/2000/svg\" xmlns:xlink=\"http://www.w3.org/1999/xlink\" contentScriptType=\"application/ecmascript\" contentStyleType=\"text/css\" height=\"136px\" preserveAspectRatio=\"none\" style=\"width:206px;height:136px;\" version=\"1.1\" viewBox=\"0 0 206 136\" width=\"206px\" zoomAndPan=\"magnify\"><defs><filter height=\"300%\" id=\"fbv8fjbrqp0co\" width=\"300%\" x=\"-1\" y=\"-1\"><feGaussianBlur result=\"blurOut\" stdDeviation=\"2.0\"/><feColorMatrix in=\"blurOut\" result=\"blurOut2\" type=\"matrix\" values=\"0 0 0 0 0 0 0 0 0 0 0 0 0 0 0 0 0 0 .4 0\"/><feOffset dx=\"4.0\" dy=\"4.0\" in=\"blurOut2\" result=\"blurOut3\"/><feBlend in=\"SourceGraphic\" in2=\"blurOut3\" mode=\"normal\"/></filter></defs><g><!--MD5=[fbc87193dbaf4d95561dea2c320d4a47]\n",
       "cluster E1--><a href=\"psysml:cd38e840-8317-467c-8230-e0f8852492a9\" target=\"_top\" title=\"psysml:cd38e840-8317-467c-8230-e0f8852492a9\" xlink:actuate=\"onRequest\" xlink:href=\"psysml:cd38e840-8317-467c-8230-e0f8852492a9\" xlink:show=\"new\" xlink:title=\"psysml:cd38e840-8317-467c-8230-e0f8852492a9\" xlink:type=\"simple\"><rect fill=\"#FFFFFF\" filter=\"url(#fbv8fjbrqp0co)\" height=\"110\" id=\"E1\" rx=\"10\" ry=\"10\" style=\"stroke: #A80036; stroke-width: 1.5;\" width=\"180\" x=\"7\" y=\"7\"/><rect fill=\"#FEFECE\" height=\"37.9375\" rx=\"10\" ry=\"10\" style=\"stroke: #FEFECE; stroke-width: 1.5;\" width=\"180\" x=\"7\" y=\"7\"/><rect fill=\"#FEFECE\" height=\"10\" style=\"stroke: #FEFECE; stroke-width: 1.5;\" width=\"180\" x=\"7\" y=\"34.9375\"/><rect fill=\"none\" height=\"110\" id=\"E1\" rx=\"10\" ry=\"10\" style=\"stroke: #A80036; stroke-width: 1.5;\" width=\"180\" x=\"7\" y=\"7\"/><text fill=\"#000000\" font-family=\"sans-serif\" font-size=\"12\" font-style=\"italic\" lengthAdjust=\"spacingAndGlyphs\" textLength=\"64\" x=\"65\" y=\"23.1387\">«analysis»</text><text fill=\"#000000\" font-family=\"sans-serif\" font-size=\"12\" lengthAdjust=\"spacingAndGlyphs\" textLength=\"114\" x=\"40\" y=\"37.1074\">engineTradeStudy</text><line style=\"stroke: #A80036; stroke-width: 1.0;\" x1=\"7\" x2=\"187\" y1=\"44.9375\" y2=\"44.9375\"/></a><g id=\"E1.E2\"><a href=\"psysml:081fa6ee-8a6f-4292-82c4-f5eb64360f97\" target=\"_top\" title=\"psysml:081fa6ee-8a6f-4292-82c4-f5eb64360f97\" xlink:actuate=\"onRequest\" xlink:href=\"psysml:081fa6ee-8a6f-4292-82c4-f5eb64360f97\" xlink:show=\"new\" xlink:title=\"psysml:081fa6ee-8a6f-4292-82c4-f5eb64360f97\" xlink:type=\"simple\"><rect fill=\"#FEFECE\" filter=\"url(#fbv8fjbrqp0co)\" height=\"42.9375\" id=\"E2\" rx=\"10\" ry=\"10\" style=\"stroke: #A80036; stroke-width: 1.5;\" width=\"147\" x=\"23.5\" y=\"58\"/><ellipse cx=\"40.75\" cy=\"76.9688\" fill=\"#FFA500\" rx=\"11\" ry=\"11\" style=\"stroke: #A80036; stroke-width: 1.0;\"/><path d=\"M36.625,78.8906 L36.625,71.0781 L39.0781,71.0781 L39.0781,79.5156 Q39.0781,80.4375 39.5469,80.9688 Q40.0313,81.5 40.8594,81.5 Q41.7031,81.5 42.1719,80.9688 Q42.6406,80.4375 42.6406,79.5156 L42.6406,71.0781 L45.0938,71.0781 L45.0938,78.8906 Q45.0938,81.4219 44.0938,82.5625 Q43.0938,83.7031 40.8594,83.7031 Q38.6406,83.7031 37.625,82.5625 Q36.625,81.4219 36.625,78.8906 Z \"/><text fill=\"#000000\" font-family=\"sans-serif\" font-size=\"12\" font-style=\"italic\" lengthAdjust=\"spacingAndGlyphs\" textLength=\"82\" x=\"69.25\" y=\"74.1387\">«calculation»</text><text fill=\"#000000\" font-family=\"sans-serif\" font-size=\"12\" lengthAdjust=\"spacingAndGlyphs\" textLength=\"110\" x=\"55.25\" y=\"88.1074\">objectiveFunction</text></a></g><!--MD5=[b7c4aea9a1eec0172bb67b85cec7f010]\n",
       "@startuml\r\n",
       "skinparam ranksep 8\r\n",
       " \r\n",
       "rec usage \"engineTradeStudy\" as E1 <<analysis>> [[psysml:cd38e840-8317-467c-8230-e0f8852492a9 ]] {\r\n",
       "rec usage \"objectiveFunction\" as E2  <<(U,orange)calculation>> [[psysml:081fa6ee-8a6f-4292-82c4-f5eb64360f97 ]] {\r\n",
       "}\r\n",
       "\r\n",
       "}\r\n",
       "\r\n",
       "@enduml\r\n",
       "\n",
       "PlantUML version 1.2020.13(Sat Jun 13 12:26:38 UTC 2020)\n",
       "(EPL source distribution)\n",
       "Java Runtime: OpenJDK Runtime Environment\n",
       "JVM: OpenJDK 64-Bit Server VM\n",
       "Default Encoding: UTF-8\n",
       "Language: en\n",
       "Country: null\n",
       "--></g></svg>"
      ]
     },
     "execution_count": 34,
     "metadata": {},
     "output_type": "execute_result"
    }
   ],
   "source": [
    "%viz --style=\"PLANTUML\" --view=\"Action\" \"TradeStudyTest\""
   ]
  },
  {
   "cell_type": "code",
   "execution_count": 35,
   "id": "compound-symbol",
   "metadata": {
    "execution": {
     "iopub.execute_input": "2021-03-25T09:29:29.953756Z",
     "iopub.status.busy": "2021-03-25T09:29:29.953320Z",
     "iopub.status.idle": "2021-03-25T09:29:30.171737Z",
     "shell.execute_reply": "2021-03-25T09:29:30.169523Z"
    }
   },
   "outputs": [
    {
     "data": {
      "image/svg+xml": [
       "<?xml version=\"1.0\" encoding=\"UTF-8\" standalone=\"no\"?><svg xmlns=\"http://www.w3.org/2000/svg\" xmlns:xlink=\"http://www.w3.org/1999/xlink\" contentScriptType=\"application/ecmascript\" contentStyleType=\"text/css\" height=\"504px\" preserveAspectRatio=\"none\" style=\"width:639px;height:504px;\" version=\"1.1\" viewBox=\"0 0 639 504\" width=\"639px\" zoomAndPan=\"magnify\"><defs><filter height=\"300%\" id=\"f1nle5ajqfk695\" width=\"300%\" x=\"-1\" y=\"-1\"><feGaussianBlur result=\"blurOut\" stdDeviation=\"2.0\"/><feColorMatrix in=\"blurOut\" result=\"blurOut2\" type=\"matrix\" values=\"0 0 0 0 0 0 0 0 0 0 0 0 0 0 0 0 0 0 .4 0\"/><feOffset dx=\"4.0\" dy=\"4.0\" in=\"blurOut2\" result=\"blurOut3\"/><feBlend in=\"SourceGraphic\" in2=\"blurOut3\" mode=\"normal\"/></filter></defs><g><!--MD5=[fbc87193dbaf4d95561dea2c320d4a47]\n",
       "cluster E1--><a href=\"psysml:8952aa40-03a2-4df7-81e1-750bf2c7b589\" target=\"_top\" title=\"psysml:8952aa40-03a2-4df7-81e1-750bf2c7b589\" xlink:actuate=\"onRequest\" xlink:href=\"psysml:8952aa40-03a2-4df7-81e1-750bf2c7b589\" xlink:show=\"new\" xlink:title=\"psysml:8952aa40-03a2-4df7-81e1-750bf2c7b589\" xlink:type=\"simple\"><polygon fill=\"#FFFFFF\" filter=\"url(#f1nle5ajqfk695)\" points=\"23.41,6,155.41,6,162.41,28.2969,617.41,28.2969,617.41,492,23.41,492,23.41,6\" style=\"stroke: #000000; stroke-width: 1.5;\"/><line style=\"stroke: #000000; stroke-width: 1.5;\" x1=\"23.41\" x2=\"162.41\" y1=\"28.2969\" y2=\"28.2969\"/><text fill=\"#000000\" font-family=\"sans-serif\" font-size=\"14\" font-weight=\"bold\" lengthAdjust=\"spacingAndGlyphs\" textLength=\"126\" x=\"27.41\" y=\"20.9951\">TradeStudyTest</text></a><!--MD5=[b4997ac47864f28c2f74865a473b2911]\n",
       "class E2--><a href=\"psysml:ba5002a0-783d-43b2-abfa-70b37f90804c\" target=\"_top\" title=\"psysml:ba5002a0-783d-43b2-abfa-70b37f90804c\" xlink:actuate=\"onRequest\" xlink:href=\"psysml:ba5002a0-783d-43b2-abfa-70b37f90804c\" xlink:show=\"new\" xlink:title=\"psysml:ba5002a0-783d-43b2-abfa-70b37f90804c\" xlink:type=\"simple\"><rect fill=\"#FEFECE\" filter=\"url(#f1nle5ajqfk695)\" height=\"40\" id=\"E2\" style=\"stroke: #A80036; stroke-width: 1.5;\" width=\"75\" x=\"224.91\" y=\"436\"/><ellipse cx=\"239.91\" cy=\"452\" fill=\"#008000\" rx=\"11\" ry=\"11\" style=\"stroke: #A80036; stroke-width: 1.0;\"/><path d=\"M238.8163,452.375 L238.8163,456.0469 L240.4413,456.0469 Q241.6131,456.0469 242.0819,455.6563 Q242.5506,455.25 242.5506,454.25 Q242.5506,453.25 242.0506,452.8125 Q241.5663,452.375 240.4413,452.375 L238.8163,452.375 Z M238.8163,447.5469 L238.8163,450.4219 L240.4413,450.4219 Q241.3631,450.4219 241.7538,450.0938 Q242.16,449.75 242.16,449 Q242.16,448.2344 241.7538,447.8906 Q241.3475,447.5469 240.4413,447.5469 L238.8163,447.5469 Z M236.4413,445.5938 L240.4413,445.5938 Q242.5038,445.5938 243.5506,446.375 Q244.5975,447.1563 244.5975,448.7188 Q244.5975,449.9219 243.9725,450.5938 Q243.3631,451.2656 242.1756,451.375 Q243.5975,451.5156 244.3163,452.3281 Q245.035,453.1406 245.035,454.5938 Q245.035,456.3906 243.9569,457.2031 Q242.8788,458 240.4413,458 L236.4413,458 L236.4413,445.5938 Z \"/><text fill=\"#000000\" font-family=\"sans-serif\" font-size=\"12\" lengthAdjust=\"spacingAndGlyphs\" textLength=\"43\" x=\"253.91\" y=\"456.1543\">Engine</text><line style=\"stroke: #A80036; stroke-width: 1.5;\" x1=\"225.91\" x2=\"298.91\" y1=\"468\" y2=\"468\"/></a><!--MD5=[09b614a08d8cba4a07c9adeb5e0fee81]\n",
       "class E3--><a href=\"psysml:47ce73ab-2c54-4db4-9d19-7bcb338cdf44\" target=\"_top\" title=\"psysml:47ce73ab-2c54-4db4-9d19-7bcb338cdf44\" xlink:actuate=\"onRequest\" xlink:href=\"psysml:47ce73ab-2c54-4db4-9d19-7bcb338cdf44\" xlink:show=\"new\" xlink:title=\"psysml:47ce73ab-2c54-4db4-9d19-7bcb338cdf44\" xlink:type=\"simple\"><rect fill=\"#FEFECE\" filter=\"url(#f1nle5ajqfk695)\" height=\"45.9375\" id=\"E3\" rx=\"10\" ry=\"10\" style=\"stroke: #A80036; stroke-width: 1.5;\" width=\"134\" x=\"467.41\" y=\"329\"/><ellipse cx=\"482.41\" cy=\"347.9688\" fill=\"#32CD32\" rx=\"11\" ry=\"11\" style=\"stroke: #A80036; stroke-width: 1.0;\"/><path d=\"M482.2069,343.6406 L482.2069,347.2656 L483.2069,347.2656 Q484.41,347.2656 484.8944,346.8594 Q485.3788,346.4531 485.3788,345.4531 Q485.3788,344.4531 484.8944,344.0469 Q484.41,343.6406 483.2069,343.6406 L482.2069,343.6406 Z M479.7538,341.5781 L483.1131,341.5781 Q485.6756,341.5781 486.8006,342.5 Q487.9256,343.4063 487.9256,345.4531 Q487.9256,347.5 486.8006,348.4219 Q485.6756,349.3281 483.1131,349.3281 L482.2069,349.3281 L482.2069,353.9688 L479.7538,353.9688 L479.7538,341.5781 Z \"/><text fill=\"#000000\" font-family=\"sans-serif\" font-size=\"12\" font-style=\"italic\" lengthAdjust=\"spacingAndGlyphs\" textLength=\"40\" x=\"527.41\" y=\"345.1387\">«part»</text><text fill=\"#000000\" font-family=\"sans-serif\" font-size=\"12\" lengthAdjust=\"spacingAndGlyphs\" textLength=\"102\" x=\"496.41\" y=\"359.1074\">engine1: Engine</text><line style=\"stroke: #A80036; stroke-width: 1.5;\" x1=\"468.41\" x2=\"600.41\" y1=\"366.9375\" y2=\"366.9375\"/></a><!--MD5=[ebbe1d658d1005bcc118a6aa81145e00]\n",
       "class E4--><a href=\"psysml:7dfdc806-8438-4ccb-bd71-8b6bdaa69ab8\" target=\"_top\" title=\"psysml:7dfdc806-8438-4ccb-bd71-8b6bdaa69ab8\" xlink:actuate=\"onRequest\" xlink:href=\"psysml:7dfdc806-8438-4ccb-bd71-8b6bdaa69ab8\" xlink:show=\"new\" xlink:title=\"psysml:7dfdc806-8438-4ccb-bd71-8b6bdaa69ab8\" xlink:type=\"simple\"><rect fill=\"#FEFECE\" filter=\"url(#f1nle5ajqfk695)\" height=\"45.9375\" id=\"E4\" rx=\"10\" ry=\"10\" style=\"stroke: #A80036; stroke-width: 1.5;\" width=\"134\" x=\"298.41\" y=\"329\"/><ellipse cx=\"313.41\" cy=\"347.9688\" fill=\"#32CD32\" rx=\"11\" ry=\"11\" style=\"stroke: #A80036; stroke-width: 1.0;\"/><path d=\"M313.2069,343.6406 L313.2069,347.2656 L314.2069,347.2656 Q315.41,347.2656 315.8944,346.8594 Q316.3788,346.4531 316.3788,345.4531 Q316.3788,344.4531 315.8944,344.0469 Q315.41,343.6406 314.2069,343.6406 L313.2069,343.6406 Z M310.7538,341.5781 L314.1131,341.5781 Q316.6756,341.5781 317.8006,342.5 Q318.9256,343.4063 318.9256,345.4531 Q318.9256,347.5 317.8006,348.4219 Q316.6756,349.3281 314.1131,349.3281 L313.2069,349.3281 L313.2069,353.9688 L310.7538,353.9688 L310.7538,341.5781 Z \"/><text fill=\"#000000\" font-family=\"sans-serif\" font-size=\"12\" font-style=\"italic\" lengthAdjust=\"spacingAndGlyphs\" textLength=\"40\" x=\"358.41\" y=\"345.1387\">«part»</text><text fill=\"#000000\" font-family=\"sans-serif\" font-size=\"12\" lengthAdjust=\"spacingAndGlyphs\" textLength=\"102\" x=\"327.41\" y=\"359.1074\">engine2: Engine</text><line style=\"stroke: #A80036; stroke-width: 1.5;\" x1=\"299.41\" x2=\"431.41\" y1=\"366.9375\" y2=\"366.9375\"/></a><!--MD5=[270fce915f116d4de14055a7c1d9a0f3]\n",
       "class E5--><a href=\"psysml:cd38e840-8317-467c-8230-e0f8852492a9\" target=\"_top\" title=\"psysml:cd38e840-8317-467c-8230-e0f8852492a9\" xlink:actuate=\"onRequest\" xlink:href=\"psysml:cd38e840-8317-467c-8230-e0f8852492a9\" xlink:show=\"new\" xlink:title=\"psysml:cd38e840-8317-467c-8230-e0f8852492a9\" xlink:type=\"simple\"><rect fill=\"#FEFECE\" filter=\"url(#f1nle5ajqfk695)\" height=\"45.9375\" id=\"E5\" rx=\"10\" ry=\"10\" style=\"stroke: #A80036; stroke-width: 1.5;\" width=\"225\" x=\"286.91\" y=\"41\"/><ellipse cx=\"301.91\" cy=\"59.9688\" fill=\"#B6DBBB\" rx=\"11\" ry=\"11\" style=\"stroke: #A80036; stroke-width: 1.0;\"/><path d=\"M297.785,61.8906 L297.785,54.0781 L300.2381,54.0781 L300.2381,62.5156 Q300.2381,63.4375 300.7069,63.9688 Q301.1913,64.5 302.0194,64.5 Q302.8631,64.5 303.3319,63.9688 Q303.8006,63.4375 303.8006,62.5156 L303.8006,54.0781 L306.2538,54.0781 L306.2538,61.8906 Q306.2538,64.4219 305.2538,65.5625 Q304.2538,66.7031 302.0194,66.7031 Q299.8006,66.7031 298.785,65.5625 Q297.785,64.4219 297.785,61.8906 Z \"/><text fill=\"#000000\" font-family=\"sans-serif\" font-size=\"12\" font-style=\"italic\" lengthAdjust=\"spacingAndGlyphs\" textLength=\"64\" x=\"380.41\" y=\"57.1387\">«analysis»</text><text fill=\"#000000\" font-family=\"sans-serif\" font-size=\"12\" lengthAdjust=\"spacingAndGlyphs\" textLength=\"193\" x=\"315.91\" y=\"71.1074\">engineTradeStudy: TradeStudy</text><line style=\"stroke: #A80036; stroke-width: 1.5;\" x1=\"287.91\" x2=\"510.91\" y1=\"78.9375\" y2=\"78.9375\"/></a><!--MD5=[60a26617385b1d2d0262a64233df1f8d]\n",
       "class E6--><a href=\"psysml:bf1db205-ea64-42b3-a829-2093a93eb81c\" target=\"_top\" title=\"psysml:bf1db205-ea64-42b3-a829-2093a93eb81c\" xlink:actuate=\"onRequest\" xlink:href=\"psysml:bf1db205-ea64-42b3-a829-2093a93eb81c\" xlink:show=\"new\" xlink:title=\"psysml:bf1db205-ea64-42b3-a829-2093a93eb81c\" xlink:type=\"simple\"><rect fill=\"#FEFECE\" filter=\"url(#f1nle5ajqfk695)\" height=\"45.9375\" id=\"E6\" rx=\"10\" ry=\"10\" style=\"stroke: #A80036; stroke-width: 1.5;\" width=\"277\" x=\"109.91\" y=\"170.5\"/><ellipse cx=\"124.91\" cy=\"189.4688\" fill=\"#FFA500\" rx=\"11\" ry=\"11\" style=\"stroke: #A80036; stroke-width: 1.0;\"/><path d=\"M120.785,191.3906 L120.785,183.5781 L123.2381,183.5781 L123.2381,192.0156 Q123.2381,192.9375 123.7069,193.4688 Q124.1913,194 125.0194,194 Q125.8631,194 126.3319,193.4688 Q126.8006,192.9375 126.8006,192.0156 L126.8006,183.5781 L129.2538,183.5781 L129.2538,191.3906 Q129.2538,193.9219 128.2538,195.0625 Q127.2538,196.2031 125.0194,196.2031 Q122.8006,196.2031 121.785,195.0625 Q120.785,193.9219 120.785,191.3906 Z \"/><text fill=\"#000000\" font-family=\"sans-serif\" font-size=\"12\" font-style=\"italic\" lengthAdjust=\"spacingAndGlyphs\" textLength=\"91\" x=\"215.91\" y=\"186.6387\">«requirement»</text><text fill=\"#000000\" font-family=\"sans-serif\" font-size=\"12\" lengthAdjust=\"spacingAndGlyphs\" textLength=\"245\" x=\"138.91\" y=\"200.6074\">tradeStudyObjective: MaximizeObjective</text><line style=\"stroke: #A80036; stroke-width: 1.5;\" x1=\"110.91\" x2=\"385.91\" y1=\"208.4375\" y2=\"208.4375\"/></a><!--MD5=[2156ba9850f5573cc1fc38a6a4b2f02b]\n",
       "class E7--><a href=\"psysml:081fa6ee-8a6f-4292-82c4-f5eb64360f97\" target=\"_top\" title=\"psysml:081fa6ee-8a6f-4292-82c4-f5eb64360f97\" xlink:actuate=\"onRequest\" xlink:href=\"psysml:081fa6ee-8a6f-4292-82c4-f5eb64360f97\" xlink:show=\"new\" xlink:title=\"psysml:081fa6ee-8a6f-4292-82c4-f5eb64360f97\" xlink:type=\"simple\"><rect fill=\"#FEFECE\" filter=\"url(#f1nle5ajqfk695)\" height=\"58.7422\" id=\"E7\" rx=\"10\" ry=\"10\" style=\"stroke: #A80036; stroke-width: 1.5;\" width=\"142\" x=\"422.41\" y=\"164\"/><ellipse cx=\"437.41\" cy=\"182.9688\" fill=\"#FFA500\" rx=\"11\" ry=\"11\" style=\"stroke: #A80036; stroke-width: 1.0;\"/><path d=\"M433.285,184.8906 L433.285,177.0781 L435.7381,177.0781 L435.7381,185.5156 Q435.7381,186.4375 436.2069,186.9688 Q436.6913,187.5 437.5194,187.5 Q438.3631,187.5 438.8319,186.9688 Q439.3006,186.4375 439.3006,185.5156 L439.3006,177.0781 L441.7538,177.0781 L441.7538,184.8906 Q441.7538,187.4219 440.7538,188.5625 Q439.7538,189.7031 437.5194,189.7031 Q435.3006,189.7031 434.285,188.5625 Q433.285,187.4219 433.285,184.8906 Z \"/><text fill=\"#000000\" font-family=\"sans-serif\" font-size=\"12\" font-style=\"italic\" lengthAdjust=\"spacingAndGlyphs\" textLength=\"82\" x=\"465.41\" y=\"180.1387\">«calculation»</text><text fill=\"#000000\" font-family=\"sans-serif\" font-size=\"12\" lengthAdjust=\"spacingAndGlyphs\" textLength=\"110\" x=\"451.41\" y=\"194.1074\">objectiveFunction</text><line style=\"stroke: #A80036; stroke-width: 1.5;\" x1=\"423.41\" x2=\"563.41\" y1=\"201.9375\" y2=\"201.9375\"/><text fill=\"#000000\" font-family=\"sans-serif\" font-size=\"11\" lengthAdjust=\"spacingAndGlyphs\" textLength=\"65\" x=\"428.41\" y=\"216.1479\">result: Real</text></a><!--MD5=[b9389687b975829384b498ac4b7476b2]\n",
       "class E8--><a href=\"psysml:dbdbccdb-5c16-4bd3-a501-4b1c7e9ddcab\" target=\"_top\" title=\"psysml:dbdbccdb-5c16-4bd3-a501-4b1c7e9ddcab\" xlink:actuate=\"onRequest\" xlink:href=\"psysml:dbdbccdb-5c16-4bd3-a501-4b1c7e9ddcab\" xlink:show=\"new\" xlink:title=\"psysml:dbdbccdb-5c16-4bd3-a501-4b1c7e9ddcab\" xlink:type=\"simple\"><rect fill=\"#FEFECE\" filter=\"url(#f1nle5ajqfk695)\" height=\"45.9375\" id=\"E8\" rx=\"10\" ry=\"10\" style=\"stroke: #A80036; stroke-width: 1.5;\" width=\"150\" x=\"76.41\" y=\"329\"/><ellipse cx=\"91.41\" cy=\"347.9688\" fill=\"#32CD32\" rx=\"11\" ry=\"11\" style=\"stroke: #A80036; stroke-width: 1.0;\"/><path d=\"M91.2069,343.6406 L91.2069,347.2656 L92.2069,347.2656 Q93.41,347.2656 93.8944,346.8594 Q94.3788,346.4531 94.3788,345.4531 Q94.3788,344.4531 93.8944,344.0469 Q93.41,343.6406 92.2069,343.6406 L91.2069,343.6406 Z M88.7538,341.5781 L92.1131,341.5781 Q94.6756,341.5781 95.8006,342.5 Q96.9256,343.4063 96.9256,345.4531 Q96.9256,347.5 95.8006,348.4219 Q94.6756,349.3281 92.1131,349.3281 L91.2069,349.3281 L91.2069,353.9688 L88.7538,353.9688 L88.7538,341.5781 Z \"/><text fill=\"#000000\" font-family=\"sans-serif\" font-size=\"12\" font-style=\"italic\" lengthAdjust=\"spacingAndGlyphs\" textLength=\"40\" x=\"144.41\" y=\"345.1387\">«part»</text><text fill=\"#000000\" font-family=\"sans-serif\" font-size=\"12\" lengthAdjust=\"spacingAndGlyphs\" textLength=\"118\" x=\"105.41\" y=\"359.1074\">alternative: Engine</text><line style=\"stroke: #A80036; stroke-width: 1.5;\" x1=\"77.41\" x2=\"225.41\" y1=\"366.9375\" y2=\"366.9375\"/></a><!--MD5=[fd4143e9d270a159db93a4ea2a975926]\n",
       "class E9--><a href=\"psysml:b6df212f-8018-4500-9608-46bc28de5179\" target=\"_top\" title=\"psysml:b6df212f-8018-4500-9608-46bc28de5179\" xlink:actuate=\"onRequest\" xlink:href=\"psysml:b6df212f-8018-4500-9608-46bc28de5179\" xlink:show=\"new\" xlink:title=\"psysml:b6df212f-8018-4500-9608-46bc28de5179\" xlink:type=\"simple\"><rect fill=\"#FEFECE\" filter=\"url(#f1nle5ajqfk695)\" height=\"45.9375\" id=\"E9\" rx=\"10\" ry=\"10\" style=\"stroke: #A80036; stroke-width: 1.5;\" width=\"204\" x=\"278.41\" y=\"253\"/><ellipse cx=\"293.41\" cy=\"271.9688\" fill=\"#32CD32\" rx=\"11\" ry=\"11\" style=\"stroke: #A80036; stroke-width: 1.0;\"/><path d=\"M293.2069,267.6406 L293.2069,271.2656 L294.2069,271.2656 Q295.41,271.2656 295.8944,270.8594 Q296.3788,270.4531 296.3788,269.4531 Q296.3788,268.4531 295.8944,268.0469 Q295.41,267.6406 294.2069,267.6406 L293.2069,267.6406 Z M290.7538,265.5781 L294.1131,265.5781 Q296.6756,265.5781 297.8006,266.5 Q298.9256,267.4063 298.9256,269.4531 Q298.9256,271.5 297.8006,272.4219 Q296.6756,273.3281 294.1131,273.3281 L293.2069,273.3281 L293.2069,277.9688 L290.7538,277.9688 L290.7538,265.5781 Z \"/><text fill=\"#000000\" font-family=\"sans-serif\" font-size=\"12\" font-style=\"italic\" lengthAdjust=\"spacingAndGlyphs\" textLength=\"40\" x=\"373.41\" y=\"269.1387\">«part»</text><text fill=\"#000000\" font-family=\"sans-serif\" font-size=\"12\" lengthAdjust=\"spacingAndGlyphs\" textLength=\"172\" x=\"307.41\" y=\"283.1074\">selectedAlternative: Engine</text><line style=\"stroke: #A80036; stroke-width: 1.5;\" x1=\"279.41\" x2=\"481.41\" y1=\"290.9375\" y2=\"290.9375\"/></a><!--MD5=[05d275557350bfb9b23a4ef7222b4c39]\n",
       "link E3 to E2--><a href=\"psysml:6a611645-87b6-456f-b99f-fe1a3075932c\" target=\"_top\" title=\"psysml:6a611645-87b6-456f-b99f-fe1a3075932c\" xlink:actuate=\"onRequest\" xlink:href=\"psysml:6a611645-87b6-456f-b99f-fe1a3075932c\" xlink:show=\"new\" xlink:title=\"psysml:6a611645-87b6-456f-b99f-fe1a3075932c\" xlink:type=\"simple\"><path d=\"M475.72,375.01 C429.33,392.4 364.97,416.54 319.11,433.74 \" fill=\"none\" id=\"E3-&gt;E2\" style=\"stroke: #A80036; stroke-width: 1.0;\"/><polygon fill=\"#FFFFFF\" points=\"300.08,440.87,315.4179,427.6508,320.3282,440.7614,300.08,440.87\" style=\"stroke: #A80036; stroke-width: 1.0;\"/><ellipse cx=\"321.4573\" cy=\"427.5245\" fill=\"#A80036\" rx=\"2\" ry=\"2\" style=\"stroke: #A80036; stroke-width: 1.0;\"/><ellipse cx=\"324.9646\" cy=\"436.8893\" fill=\"#A80036\" rx=\"2\" ry=\"2\" style=\"stroke: #A80036; stroke-width: 1.0;\"/></a><!--MD5=[185131fc0dcab0a4505a2ebe144e961b]\n",
       "link E4 to E2--><a href=\"psysml:c8f697e8-ebd5-44e8-8041-765052aa0dda\" target=\"_top\" title=\"psysml:c8f697e8-ebd5-44e8-8041-765052aa0dda\" xlink:actuate=\"onRequest\" xlink:href=\"psysml:c8f697e8-ebd5-44e8-8041-765052aa0dda\" xlink:show=\"new\" xlink:title=\"psysml:c8f697e8-ebd5-44e8-8041-765052aa0dda\" xlink:type=\"simple\"><path d=\"M343.06,375.13 C329.3,388.76 311.41,406.47 295.97,421.76 \" fill=\"none\" id=\"E4-&gt;E2\" style=\"stroke: #A80036; stroke-width: 1.0;\"/><polygon fill=\"#FFFFFF\" points=\"281.6,436,290.178,417.6583,300.0274,427.6077,281.6,436\" style=\"stroke: #A80036; stroke-width: 1.0;\"/><ellipse cx=\"295.6359\" cy=\"415.0695\" fill=\"#A80036\" rx=\"2\" ry=\"2\" style=\"stroke: #A80036; stroke-width: 1.0;\"/><ellipse cx=\"302.6712\" cy=\"422.1762\" fill=\"#A80036\" rx=\"2\" ry=\"2\" style=\"stroke: #A80036; stroke-width: 1.0;\"/></a><!--MD5=[15ebcb19ae302d9b601edb458606d402]\n",
       "link E5 to E2--><a href=\"psysml:2f46211a-dc33-450b-96f1-34c5430f413d\" target=\"_top\" title=\"psysml:2f46211a-dc33-450b-96f1-34c5430f413d\" xlink:actuate=\"onRequest\" xlink:href=\"psysml:2f46211a-dc33-450b-96f1-34c5430f413d\" xlink:show=\"new\" xlink:title=\"psysml:2f46211a-dc33-450b-96f1-34c5430f413d\" xlink:type=\"simple\"><path d=\"M286.6,73.53 C220.78,84.51 141.32,109.14 92.41,164 C29.25,234.85 6,296.54 59.41,375 C95.2,427.57 171.35,445.6 219.53,451.78 \" fill=\"none\" id=\"E5-&gt;E2\" style=\"stroke: #A80036; stroke-width: 1.0; stroke-dasharray: 7.0,7.0;\"/><polygon fill=\"#A80036\" points=\"224.69,452.41,216.2485,447.3365,219.7277,451.7968,215.2674,455.2761,224.69,452.41\" style=\"stroke: #A80036; stroke-width: 1.0;\"/><text fill=\"#000000\" font-family=\"sans-serif\" font-size=\"13\" lengthAdjust=\"spacingAndGlyphs\" textLength=\"62\" x=\"37.41\" y=\"280.5669\">«subject»</text></a><!--MD5=[9120cf2e5df3bff93db8f754bbbc09b4]\n",
       "link E5 to E6--><a href=\"psysml:285bfc51-142a-40f2-bdf1-cdd7141b9b55\" target=\"_top\" title=\"psysml:285bfc51-142a-40f2-bdf1-cdd7141b9b55\" xlink:actuate=\"onRequest\" xlink:href=\"psysml:285bfc51-142a-40f2-bdf1-cdd7141b9b55\" xlink:show=\"new\" xlink:title=\"psysml:285bfc51-142a-40f2-bdf1-cdd7141b9b55\" xlink:type=\"simple\"><path d=\"M373.11,87.21 C347.53,108.81 308.6,141.67 281.06,164.93 \" fill=\"none\" id=\"E5-&gt;E6\" style=\"stroke: #A80036; stroke-width: 1.0;\"/><polygon fill=\"#A80036\" points=\"274.66,170.33,282.7094,167.4653,278.841,162.8789,274.66,170.33\" style=\"stroke: #A80036; stroke-width: 1.0;\"/><text fill=\"#000000\" font-family=\"sans-serif\" font-size=\"13\" lengthAdjust=\"spacingAndGlyphs\" textLength=\"73\" x=\"338.41\" y=\"130.0669\">«objective»</text></a><!--MD5=[452b418e7f8a40397a49b8c0a78acc5b]\n",
       "reverse link E5 to E7--><a href=\"psysml:081fa6ee-8a6f-4292-82c4-f5eb64360f97\" target=\"_top\" title=\"psysml:081fa6ee-8a6f-4292-82c4-f5eb64360f97\" xlink:actuate=\"onRequest\" xlink:href=\"psysml:081fa6ee-8a6f-4292-82c4-f5eb64360f97\" xlink:show=\"new\" xlink:title=\"psysml:081fa6ee-8a6f-4292-82c4-f5eb64360f97\" xlink:type=\"simple\"><path d=\"M423.66,97.9 C438.71,118.31 457.85,144.27 472.28,163.84 \" fill=\"none\" id=\"E5&lt;-E7\" style=\"stroke: #A80036; stroke-width: 1.0;\"/><polygon fill=\"#A80036\" points=\"415.78,87.21,416.123,94.4129,422.9038,96.8667,422.5608,89.6637,415.78,87.21\" style=\"stroke: #A80036; stroke-width: 1.0;\"/></a><!--MD5=[f1f3f9f2fc535e6147756cb86a7f2e32]\n",
       "link E8 to E2--><a href=\"psysml:143d7cb3-4d47-41f0-bb56-6d1ae515b029\" target=\"_top\" title=\"psysml:143d7cb3-4d47-41f0-bb56-6d1ae515b029\" xlink:actuate=\"onRequest\" xlink:href=\"psysml:143d7cb3-4d47-41f0-bb56-6d1ae515b029\" xlink:show=\"new\" xlink:title=\"psysml:143d7cb3-4d47-41f0-bb56-6d1ae515b029\" xlink:type=\"simple\"><path d=\"M175.5,375.13 C190.47,388.9 210.01,406.84 226.76,422.24 \" fill=\"none\" id=\"E8-&gt;E2\" style=\"stroke: #A80036; stroke-width: 1.0;\"/><polygon fill=\"#FFFFFF\" points=\"241.73,436,223.0018,428.3024,232.4723,417.9918,241.73,436\" style=\"stroke: #A80036; stroke-width: 1.0;\"/><ellipse cx=\"220.1568\" cy=\"422.9736\" fill=\"#A80036\" rx=\"2\" ry=\"2\" style=\"stroke: #A80036; stroke-width: 1.0;\"/><ellipse cx=\"226.9215\" cy=\"415.6089\" fill=\"#A80036\" rx=\"2\" ry=\"2\" style=\"stroke: #A80036; stroke-width: 1.0;\"/></a><!--MD5=[dc164f5e8a733ab456ef1add180e9e34]\n",
       "reverse link E7 to E8--><a href=\"psysml:dbdbccdb-5c16-4bd3-a501-4b1c7e9ddcab\" target=\"_top\" title=\"psysml:dbdbccdb-5c16-4bd3-a501-4b1c7e9ddcab\" xlink:actuate=\"onRequest\" xlink:href=\"psysml:dbdbccdb-5c16-4bd3-a501-4b1c7e9ddcab\" xlink:show=\"new\" xlink:title=\"psysml:dbdbccdb-5c16-4bd3-a501-4b1c7e9ddcab\" xlink:type=\"simple\"><path d=\"M409.62,221.6 C407.87,222.08 406.13,222.54 404.41,223 C341.63,239.59 319.39,223.75 261.41,253 C224.42,271.66 190.19,305.95 170.05,328.61 \" fill=\"none\" id=\"E7&lt;-E8\" style=\"stroke: #A80036; stroke-width: 1.0;\"/><polygon fill=\"#FFFFFF\" points=\"422.19,218.02,415.3243,215.815,410.6482,221.3045,417.5139,223.5095,422.19,218.02\" style=\"stroke: #A80036; stroke-width: 1.0;\"/></a><!--MD5=[5c3bb36fe832a92c7f0e1807dd65209d]\n",
       "link E9 to E2--><a href=\"psysml:cb3e8ea7-f115-4f34-bcd9-dd1e6ba812b8\" target=\"_top\" title=\"psysml:cb3e8ea7-f115-4f34-bcd9-dd1e6ba812b8\" xlink:actuate=\"onRequest\" xlink:href=\"psysml:cb3e8ea7-f115-4f34-bcd9-dd1e6ba812b8\" xlink:show=\"new\" xlink:title=\"psysml:cb3e8ea7-f115-4f34-bcd9-dd1e6ba812b8\" xlink:type=\"simple\"><path d=\"M316.88,299.14 C303.3,306.64 290.36,316.42 281.41,329 C263.57,354.07 259.51,389.08 259.52,415.84 \" fill=\"none\" id=\"E9-&gt;E2\" style=\"stroke: #A80036; stroke-width: 1.0;\"/><polygon fill=\"#FFFFFF\" points=\"260.27,435.97,252.5691,417.2431,266.5594,416.7231,260.27,435.97\" style=\"stroke: #A80036; stroke-width: 1.0;\"/><ellipse cx=\"254.356\" cy=\"411.4728\" fill=\"#A80036\" rx=\"2\" ry=\"2\" style=\"stroke: #A80036; stroke-width: 1.0;\"/><ellipse cx=\"264.3491\" cy=\"411.1013\" fill=\"#A80036\" rx=\"2\" ry=\"2\" style=\"stroke: #A80036; stroke-width: 1.0;\"/></a><!--MD5=[9ae28de373ca99bb8a1b38d63370ca7e]\n",
       "reverse link E5 to E9--><a href=\"psysml:b6df212f-8018-4500-9608-46bc28de5179\" target=\"_top\" title=\"psysml:b6df212f-8018-4500-9608-46bc28de5179\" xlink:actuate=\"onRequest\" xlink:href=\"psysml:b6df212f-8018-4500-9608-46bc28de5179\" xlink:show=\"new\" xlink:title=\"psysml:b6df212f-8018-4500-9608-46bc28de5179\" xlink:type=\"simple\"><path d=\"M473.73,92.2 C541.02,121.02 623.75,169.67 582.41,223 C569.4,239.78 525.94,252.1 482.64,260.52 \" fill=\"none\" id=\"E5&lt;-E9\" style=\"stroke: #A80036; stroke-width: 1.0;\"/><polygon fill=\"#FFFFFF\" points=\"461.38,87.05,465.38,93.05,472.4569,91.6654,468.4569,85.6654,461.38,87.05\" style=\"stroke: #A80036; stroke-width: 1.0;\"/></a><!--MD5=[9e76054392fd4e00e08bb8a38ad0efce]\n",
       "@startuml\r\n",
       " \r\n",
       "package \"TradeStudyTest\" as E1  [[psysml:8952aa40-03a2-4df7-81e1-750bf2c7b589 ]]  {\r\n",
       "comp def \"Engine\" as E2  << (B,green) >> [[psysml:ba5002a0-783d-43b2-abfa-70b37f90804c ]] {\r\n",
       "}\r\n",
       "comp usage \"engine1: Engine\" as E3  << (P,limegreen) part>> [[psysml:47ce73ab-2c54-4db4-9d19-7bcb338cdf44 ]] {\r\n",
       "}\r\n",
       "comp usage \"engine2: Engine\" as E4  << (P,limegreen) part>> [[psysml:7dfdc806-8438-4ccb-bd71-8b6bdaa69ab8 ]] {\r\n",
       "}\r\n",
       "comp usage \"engineTradeStudy: TradeStudy\" as E5 <<analysis>> [[psysml:cd38e840-8317-467c-8230-e0f8852492a9 ]] {\r\n",
       "}\r\n",
       "comp usage \"tradeStudyObjective: MaximizeObjective\" as E6  <<(U,orange)requirement>> [[psysml:bf1db205-ea64-42b3-a829-2093a93eb81c ]] {\r\n",
       "}\r\n",
       "comp usage \"objectiveFunction\" as E7  <<(U,orange)calculation>> [[psysml:081fa6ee-8a6f-4292-82c4-f5eb64360f97 ]] {\r\n",
       "result: Real\r\n",
       "}\r\n",
       "comp usage \"alternative: Engine\" as E8  << (P,limegreen) part>> [[psysml:dbdbccdb-5c16-4bd3-a501-4b1c7e9ddcab ]] {\r\n",
       "}\r\n",
       "comp usage \"selectedAlternative: Engine\" as E9  << (P,limegreen) part>> [[psysml:b6df212f-8018-4500-9608-46bc28de5179 ]] {\r\n",
       "}\r\n",
       "E3 - -:|> E2 [[psysml:6a611645-87b6-456f-b99f-fe1a3075932c ]] \r\n",
       "E4 - -:|> E2 [[psysml:c8f697e8-ebd5-44e8-8041-765052aa0dda ]] \r\n",
       "E5 ..> E2 [[psysml:2f46211a-dc33-450b-96f1-34c5430f413d ]] : <<subject>>\r\n",
       "E5 - ->> E6 [[psysml:285bfc51-142a-40f2-bdf1-cdd7141b9b55 ]] : <<objective>>\r\n",
       "E5 *- - E7 [[psysml:081fa6ee-8a6f-4292-82c4-f5eb64360f97 ]] \r\n",
       "E8 - -:|> E2 [[psysml:143d7cb3-4d47-41f0-bb56-6d1ae515b029 ]] \r\n",
       "E7 o- - E8 [[psysml:dbdbccdb-5c16-4bd3-a501-4b1c7e9ddcab ]] \r\n",
       "E9 - -:|> E2 [[psysml:cb3e8ea7-f115-4f34-bcd9-dd1e6ba812b8 ]] \r\n",
       "E5 o- - E9 [[psysml:b6df212f-8018-4500-9608-46bc28de5179 ]] \r\n",
       "}\r\n",
       "@enduml\r\n",
       "\n",
       "PlantUML version 1.2020.13(Sat Jun 13 12:26:38 UTC 2020)\n",
       "(EPL source distribution)\n",
       "Java Runtime: OpenJDK Runtime Environment\n",
       "JVM: OpenJDK 64-Bit Server VM\n",
       "Default Encoding: UTF-8\n",
       "Language: en\n",
       "Country: null\n",
       "--></g></svg>"
      ]
     },
     "execution_count": 35,
     "metadata": {},
     "output_type": "execute_result"
    }
   ],
   "source": [
    "%viz --style=\"PLANTUML\" --view=\"Sequence\" \"TradeStudyTest\""
   ]
  },
  {
   "cell_type": "code",
   "execution_count": 36,
   "id": "regulated-pollution",
   "metadata": {
    "execution": {
     "iopub.execute_input": "2021-03-25T09:29:30.222130Z",
     "iopub.status.busy": "2021-03-25T09:29:30.221586Z",
     "iopub.status.idle": "2021-03-25T09:29:30.465476Z",
     "shell.execute_reply": "2021-03-25T09:29:30.463228Z"
    }
   },
   "outputs": [
    {
     "data": {
      "image/svg+xml": [
       "<?xml version=\"1.0\" encoding=\"UTF-8\" standalone=\"no\"?><svg xmlns=\"http://www.w3.org/2000/svg\" xmlns:xlink=\"http://www.w3.org/1999/xlink\" contentScriptType=\"application/ecmascript\" contentStyleType=\"text/css\" height=\"504px\" preserveAspectRatio=\"none\" style=\"width:639px;height:504px;\" version=\"1.1\" viewBox=\"0 0 639 504\" width=\"639px\" zoomAndPan=\"magnify\"><defs><filter height=\"300%\" id=\"f1nle5ajqfk695\" width=\"300%\" x=\"-1\" y=\"-1\"><feGaussianBlur result=\"blurOut\" stdDeviation=\"2.0\"/><feColorMatrix in=\"blurOut\" result=\"blurOut2\" type=\"matrix\" values=\"0 0 0 0 0 0 0 0 0 0 0 0 0 0 0 0 0 0 .4 0\"/><feOffset dx=\"4.0\" dy=\"4.0\" in=\"blurOut2\" result=\"blurOut3\"/><feBlend in=\"SourceGraphic\" in2=\"blurOut3\" mode=\"normal\"/></filter></defs><g><!--MD5=[fbc87193dbaf4d95561dea2c320d4a47]\n",
       "cluster E1--><a href=\"psysml:8952aa40-03a2-4df7-81e1-750bf2c7b589\" target=\"_top\" title=\"psysml:8952aa40-03a2-4df7-81e1-750bf2c7b589\" xlink:actuate=\"onRequest\" xlink:href=\"psysml:8952aa40-03a2-4df7-81e1-750bf2c7b589\" xlink:show=\"new\" xlink:title=\"psysml:8952aa40-03a2-4df7-81e1-750bf2c7b589\" xlink:type=\"simple\"><polygon fill=\"#FFFFFF\" filter=\"url(#f1nle5ajqfk695)\" points=\"23.41,6,155.41,6,162.41,28.2969,617.41,28.2969,617.41,492,23.41,492,23.41,6\" style=\"stroke: #000000; stroke-width: 1.5;\"/><line style=\"stroke: #000000; stroke-width: 1.5;\" x1=\"23.41\" x2=\"162.41\" y1=\"28.2969\" y2=\"28.2969\"/><text fill=\"#000000\" font-family=\"sans-serif\" font-size=\"14\" font-weight=\"bold\" lengthAdjust=\"spacingAndGlyphs\" textLength=\"126\" x=\"27.41\" y=\"20.9951\">TradeStudyTest</text></a><!--MD5=[b4997ac47864f28c2f74865a473b2911]\n",
       "class E2--><a href=\"psysml:ba5002a0-783d-43b2-abfa-70b37f90804c\" target=\"_top\" title=\"psysml:ba5002a0-783d-43b2-abfa-70b37f90804c\" xlink:actuate=\"onRequest\" xlink:href=\"psysml:ba5002a0-783d-43b2-abfa-70b37f90804c\" xlink:show=\"new\" xlink:title=\"psysml:ba5002a0-783d-43b2-abfa-70b37f90804c\" xlink:type=\"simple\"><rect fill=\"#FEFECE\" filter=\"url(#f1nle5ajqfk695)\" height=\"40\" id=\"E2\" style=\"stroke: #A80036; stroke-width: 1.5;\" width=\"75\" x=\"224.91\" y=\"436\"/><ellipse cx=\"239.91\" cy=\"452\" fill=\"#008000\" rx=\"11\" ry=\"11\" style=\"stroke: #A80036; stroke-width: 1.0;\"/><path d=\"M238.8163,452.375 L238.8163,456.0469 L240.4413,456.0469 Q241.6131,456.0469 242.0819,455.6563 Q242.5506,455.25 242.5506,454.25 Q242.5506,453.25 242.0506,452.8125 Q241.5663,452.375 240.4413,452.375 L238.8163,452.375 Z M238.8163,447.5469 L238.8163,450.4219 L240.4413,450.4219 Q241.3631,450.4219 241.7538,450.0938 Q242.16,449.75 242.16,449 Q242.16,448.2344 241.7538,447.8906 Q241.3475,447.5469 240.4413,447.5469 L238.8163,447.5469 Z M236.4413,445.5938 L240.4413,445.5938 Q242.5038,445.5938 243.5506,446.375 Q244.5975,447.1563 244.5975,448.7188 Q244.5975,449.9219 243.9725,450.5938 Q243.3631,451.2656 242.1756,451.375 Q243.5975,451.5156 244.3163,452.3281 Q245.035,453.1406 245.035,454.5938 Q245.035,456.3906 243.9569,457.2031 Q242.8788,458 240.4413,458 L236.4413,458 L236.4413,445.5938 Z \"/><text fill=\"#000000\" font-family=\"sans-serif\" font-size=\"12\" lengthAdjust=\"spacingAndGlyphs\" textLength=\"43\" x=\"253.91\" y=\"456.1543\">Engine</text><line style=\"stroke: #A80036; stroke-width: 1.5;\" x1=\"225.91\" x2=\"298.91\" y1=\"468\" y2=\"468\"/></a><!--MD5=[09b614a08d8cba4a07c9adeb5e0fee81]\n",
       "class E3--><a href=\"psysml:47ce73ab-2c54-4db4-9d19-7bcb338cdf44\" target=\"_top\" title=\"psysml:47ce73ab-2c54-4db4-9d19-7bcb338cdf44\" xlink:actuate=\"onRequest\" xlink:href=\"psysml:47ce73ab-2c54-4db4-9d19-7bcb338cdf44\" xlink:show=\"new\" xlink:title=\"psysml:47ce73ab-2c54-4db4-9d19-7bcb338cdf44\" xlink:type=\"simple\"><rect fill=\"#FEFECE\" filter=\"url(#f1nle5ajqfk695)\" height=\"45.9375\" id=\"E3\" rx=\"10\" ry=\"10\" style=\"stroke: #A80036; stroke-width: 1.5;\" width=\"134\" x=\"467.41\" y=\"329\"/><ellipse cx=\"482.41\" cy=\"347.9688\" fill=\"#32CD32\" rx=\"11\" ry=\"11\" style=\"stroke: #A80036; stroke-width: 1.0;\"/><path d=\"M482.2069,343.6406 L482.2069,347.2656 L483.2069,347.2656 Q484.41,347.2656 484.8944,346.8594 Q485.3788,346.4531 485.3788,345.4531 Q485.3788,344.4531 484.8944,344.0469 Q484.41,343.6406 483.2069,343.6406 L482.2069,343.6406 Z M479.7538,341.5781 L483.1131,341.5781 Q485.6756,341.5781 486.8006,342.5 Q487.9256,343.4063 487.9256,345.4531 Q487.9256,347.5 486.8006,348.4219 Q485.6756,349.3281 483.1131,349.3281 L482.2069,349.3281 L482.2069,353.9688 L479.7538,353.9688 L479.7538,341.5781 Z \"/><text fill=\"#000000\" font-family=\"sans-serif\" font-size=\"12\" font-style=\"italic\" lengthAdjust=\"spacingAndGlyphs\" textLength=\"40\" x=\"527.41\" y=\"345.1387\">«part»</text><text fill=\"#000000\" font-family=\"sans-serif\" font-size=\"12\" lengthAdjust=\"spacingAndGlyphs\" textLength=\"102\" x=\"496.41\" y=\"359.1074\">engine1: Engine</text><line style=\"stroke: #A80036; stroke-width: 1.5;\" x1=\"468.41\" x2=\"600.41\" y1=\"366.9375\" y2=\"366.9375\"/></a><!--MD5=[ebbe1d658d1005bcc118a6aa81145e00]\n",
       "class E4--><a href=\"psysml:7dfdc806-8438-4ccb-bd71-8b6bdaa69ab8\" target=\"_top\" title=\"psysml:7dfdc806-8438-4ccb-bd71-8b6bdaa69ab8\" xlink:actuate=\"onRequest\" xlink:href=\"psysml:7dfdc806-8438-4ccb-bd71-8b6bdaa69ab8\" xlink:show=\"new\" xlink:title=\"psysml:7dfdc806-8438-4ccb-bd71-8b6bdaa69ab8\" xlink:type=\"simple\"><rect fill=\"#FEFECE\" filter=\"url(#f1nle5ajqfk695)\" height=\"45.9375\" id=\"E4\" rx=\"10\" ry=\"10\" style=\"stroke: #A80036; stroke-width: 1.5;\" width=\"134\" x=\"298.41\" y=\"329\"/><ellipse cx=\"313.41\" cy=\"347.9688\" fill=\"#32CD32\" rx=\"11\" ry=\"11\" style=\"stroke: #A80036; stroke-width: 1.0;\"/><path d=\"M313.2069,343.6406 L313.2069,347.2656 L314.2069,347.2656 Q315.41,347.2656 315.8944,346.8594 Q316.3788,346.4531 316.3788,345.4531 Q316.3788,344.4531 315.8944,344.0469 Q315.41,343.6406 314.2069,343.6406 L313.2069,343.6406 Z M310.7538,341.5781 L314.1131,341.5781 Q316.6756,341.5781 317.8006,342.5 Q318.9256,343.4063 318.9256,345.4531 Q318.9256,347.5 317.8006,348.4219 Q316.6756,349.3281 314.1131,349.3281 L313.2069,349.3281 L313.2069,353.9688 L310.7538,353.9688 L310.7538,341.5781 Z \"/><text fill=\"#000000\" font-family=\"sans-serif\" font-size=\"12\" font-style=\"italic\" lengthAdjust=\"spacingAndGlyphs\" textLength=\"40\" x=\"358.41\" y=\"345.1387\">«part»</text><text fill=\"#000000\" font-family=\"sans-serif\" font-size=\"12\" lengthAdjust=\"spacingAndGlyphs\" textLength=\"102\" x=\"327.41\" y=\"359.1074\">engine2: Engine</text><line style=\"stroke: #A80036; stroke-width: 1.5;\" x1=\"299.41\" x2=\"431.41\" y1=\"366.9375\" y2=\"366.9375\"/></a><!--MD5=[270fce915f116d4de14055a7c1d9a0f3]\n",
       "class E5--><a href=\"psysml:cd38e840-8317-467c-8230-e0f8852492a9\" target=\"_top\" title=\"psysml:cd38e840-8317-467c-8230-e0f8852492a9\" xlink:actuate=\"onRequest\" xlink:href=\"psysml:cd38e840-8317-467c-8230-e0f8852492a9\" xlink:show=\"new\" xlink:title=\"psysml:cd38e840-8317-467c-8230-e0f8852492a9\" xlink:type=\"simple\"><rect fill=\"#FEFECE\" filter=\"url(#f1nle5ajqfk695)\" height=\"45.9375\" id=\"E5\" rx=\"10\" ry=\"10\" style=\"stroke: #A80036; stroke-width: 1.5;\" width=\"225\" x=\"286.91\" y=\"41\"/><ellipse cx=\"301.91\" cy=\"59.9688\" fill=\"#B6DBBB\" rx=\"11\" ry=\"11\" style=\"stroke: #A80036; stroke-width: 1.0;\"/><path d=\"M297.785,61.8906 L297.785,54.0781 L300.2381,54.0781 L300.2381,62.5156 Q300.2381,63.4375 300.7069,63.9688 Q301.1913,64.5 302.0194,64.5 Q302.8631,64.5 303.3319,63.9688 Q303.8006,63.4375 303.8006,62.5156 L303.8006,54.0781 L306.2538,54.0781 L306.2538,61.8906 Q306.2538,64.4219 305.2538,65.5625 Q304.2538,66.7031 302.0194,66.7031 Q299.8006,66.7031 298.785,65.5625 Q297.785,64.4219 297.785,61.8906 Z \"/><text fill=\"#000000\" font-family=\"sans-serif\" font-size=\"12\" font-style=\"italic\" lengthAdjust=\"spacingAndGlyphs\" textLength=\"64\" x=\"380.41\" y=\"57.1387\">«analysis»</text><text fill=\"#000000\" font-family=\"sans-serif\" font-size=\"12\" lengthAdjust=\"spacingAndGlyphs\" textLength=\"193\" x=\"315.91\" y=\"71.1074\">engineTradeStudy: TradeStudy</text><line style=\"stroke: #A80036; stroke-width: 1.5;\" x1=\"287.91\" x2=\"510.91\" y1=\"78.9375\" y2=\"78.9375\"/></a><!--MD5=[60a26617385b1d2d0262a64233df1f8d]\n",
       "class E6--><a href=\"psysml:bf1db205-ea64-42b3-a829-2093a93eb81c\" target=\"_top\" title=\"psysml:bf1db205-ea64-42b3-a829-2093a93eb81c\" xlink:actuate=\"onRequest\" xlink:href=\"psysml:bf1db205-ea64-42b3-a829-2093a93eb81c\" xlink:show=\"new\" xlink:title=\"psysml:bf1db205-ea64-42b3-a829-2093a93eb81c\" xlink:type=\"simple\"><rect fill=\"#FEFECE\" filter=\"url(#f1nle5ajqfk695)\" height=\"45.9375\" id=\"E6\" rx=\"10\" ry=\"10\" style=\"stroke: #A80036; stroke-width: 1.5;\" width=\"277\" x=\"109.91\" y=\"170.5\"/><ellipse cx=\"124.91\" cy=\"189.4688\" fill=\"#FFA500\" rx=\"11\" ry=\"11\" style=\"stroke: #A80036; stroke-width: 1.0;\"/><path d=\"M120.785,191.3906 L120.785,183.5781 L123.2381,183.5781 L123.2381,192.0156 Q123.2381,192.9375 123.7069,193.4688 Q124.1913,194 125.0194,194 Q125.8631,194 126.3319,193.4688 Q126.8006,192.9375 126.8006,192.0156 L126.8006,183.5781 L129.2538,183.5781 L129.2538,191.3906 Q129.2538,193.9219 128.2538,195.0625 Q127.2538,196.2031 125.0194,196.2031 Q122.8006,196.2031 121.785,195.0625 Q120.785,193.9219 120.785,191.3906 Z \"/><text fill=\"#000000\" font-family=\"sans-serif\" font-size=\"12\" font-style=\"italic\" lengthAdjust=\"spacingAndGlyphs\" textLength=\"91\" x=\"215.91\" y=\"186.6387\">«requirement»</text><text fill=\"#000000\" font-family=\"sans-serif\" font-size=\"12\" lengthAdjust=\"spacingAndGlyphs\" textLength=\"245\" x=\"138.91\" y=\"200.6074\">tradeStudyObjective: MaximizeObjective</text><line style=\"stroke: #A80036; stroke-width: 1.5;\" x1=\"110.91\" x2=\"385.91\" y1=\"208.4375\" y2=\"208.4375\"/></a><!--MD5=[2156ba9850f5573cc1fc38a6a4b2f02b]\n",
       "class E7--><a href=\"psysml:081fa6ee-8a6f-4292-82c4-f5eb64360f97\" target=\"_top\" title=\"psysml:081fa6ee-8a6f-4292-82c4-f5eb64360f97\" xlink:actuate=\"onRequest\" xlink:href=\"psysml:081fa6ee-8a6f-4292-82c4-f5eb64360f97\" xlink:show=\"new\" xlink:title=\"psysml:081fa6ee-8a6f-4292-82c4-f5eb64360f97\" xlink:type=\"simple\"><rect fill=\"#FEFECE\" filter=\"url(#f1nle5ajqfk695)\" height=\"58.7422\" id=\"E7\" rx=\"10\" ry=\"10\" style=\"stroke: #A80036; stroke-width: 1.5;\" width=\"142\" x=\"422.41\" y=\"164\"/><ellipse cx=\"437.41\" cy=\"182.9688\" fill=\"#FFA500\" rx=\"11\" ry=\"11\" style=\"stroke: #A80036; stroke-width: 1.0;\"/><path d=\"M433.285,184.8906 L433.285,177.0781 L435.7381,177.0781 L435.7381,185.5156 Q435.7381,186.4375 436.2069,186.9688 Q436.6913,187.5 437.5194,187.5 Q438.3631,187.5 438.8319,186.9688 Q439.3006,186.4375 439.3006,185.5156 L439.3006,177.0781 L441.7538,177.0781 L441.7538,184.8906 Q441.7538,187.4219 440.7538,188.5625 Q439.7538,189.7031 437.5194,189.7031 Q435.3006,189.7031 434.285,188.5625 Q433.285,187.4219 433.285,184.8906 Z \"/><text fill=\"#000000\" font-family=\"sans-serif\" font-size=\"12\" font-style=\"italic\" lengthAdjust=\"spacingAndGlyphs\" textLength=\"82\" x=\"465.41\" y=\"180.1387\">«calculation»</text><text fill=\"#000000\" font-family=\"sans-serif\" font-size=\"12\" lengthAdjust=\"spacingAndGlyphs\" textLength=\"110\" x=\"451.41\" y=\"194.1074\">objectiveFunction</text><line style=\"stroke: #A80036; stroke-width: 1.5;\" x1=\"423.41\" x2=\"563.41\" y1=\"201.9375\" y2=\"201.9375\"/><text fill=\"#000000\" font-family=\"sans-serif\" font-size=\"11\" lengthAdjust=\"spacingAndGlyphs\" textLength=\"65\" x=\"428.41\" y=\"216.1479\">result: Real</text></a><!--MD5=[b9389687b975829384b498ac4b7476b2]\n",
       "class E8--><a href=\"psysml:dbdbccdb-5c16-4bd3-a501-4b1c7e9ddcab\" target=\"_top\" title=\"psysml:dbdbccdb-5c16-4bd3-a501-4b1c7e9ddcab\" xlink:actuate=\"onRequest\" xlink:href=\"psysml:dbdbccdb-5c16-4bd3-a501-4b1c7e9ddcab\" xlink:show=\"new\" xlink:title=\"psysml:dbdbccdb-5c16-4bd3-a501-4b1c7e9ddcab\" xlink:type=\"simple\"><rect fill=\"#FEFECE\" filter=\"url(#f1nle5ajqfk695)\" height=\"45.9375\" id=\"E8\" rx=\"10\" ry=\"10\" style=\"stroke: #A80036; stroke-width: 1.5;\" width=\"150\" x=\"76.41\" y=\"329\"/><ellipse cx=\"91.41\" cy=\"347.9688\" fill=\"#32CD32\" rx=\"11\" ry=\"11\" style=\"stroke: #A80036; stroke-width: 1.0;\"/><path d=\"M91.2069,343.6406 L91.2069,347.2656 L92.2069,347.2656 Q93.41,347.2656 93.8944,346.8594 Q94.3788,346.4531 94.3788,345.4531 Q94.3788,344.4531 93.8944,344.0469 Q93.41,343.6406 92.2069,343.6406 L91.2069,343.6406 Z M88.7538,341.5781 L92.1131,341.5781 Q94.6756,341.5781 95.8006,342.5 Q96.9256,343.4063 96.9256,345.4531 Q96.9256,347.5 95.8006,348.4219 Q94.6756,349.3281 92.1131,349.3281 L91.2069,349.3281 L91.2069,353.9688 L88.7538,353.9688 L88.7538,341.5781 Z \"/><text fill=\"#000000\" font-family=\"sans-serif\" font-size=\"12\" font-style=\"italic\" lengthAdjust=\"spacingAndGlyphs\" textLength=\"40\" x=\"144.41\" y=\"345.1387\">«part»</text><text fill=\"#000000\" font-family=\"sans-serif\" font-size=\"12\" lengthAdjust=\"spacingAndGlyphs\" textLength=\"118\" x=\"105.41\" y=\"359.1074\">alternative: Engine</text><line style=\"stroke: #A80036; stroke-width: 1.5;\" x1=\"77.41\" x2=\"225.41\" y1=\"366.9375\" y2=\"366.9375\"/></a><!--MD5=[fd4143e9d270a159db93a4ea2a975926]\n",
       "class E9--><a href=\"psysml:b6df212f-8018-4500-9608-46bc28de5179\" target=\"_top\" title=\"psysml:b6df212f-8018-4500-9608-46bc28de5179\" xlink:actuate=\"onRequest\" xlink:href=\"psysml:b6df212f-8018-4500-9608-46bc28de5179\" xlink:show=\"new\" xlink:title=\"psysml:b6df212f-8018-4500-9608-46bc28de5179\" xlink:type=\"simple\"><rect fill=\"#FEFECE\" filter=\"url(#f1nle5ajqfk695)\" height=\"45.9375\" id=\"E9\" rx=\"10\" ry=\"10\" style=\"stroke: #A80036; stroke-width: 1.5;\" width=\"204\" x=\"278.41\" y=\"253\"/><ellipse cx=\"293.41\" cy=\"271.9688\" fill=\"#32CD32\" rx=\"11\" ry=\"11\" style=\"stroke: #A80036; stroke-width: 1.0;\"/><path d=\"M293.2069,267.6406 L293.2069,271.2656 L294.2069,271.2656 Q295.41,271.2656 295.8944,270.8594 Q296.3788,270.4531 296.3788,269.4531 Q296.3788,268.4531 295.8944,268.0469 Q295.41,267.6406 294.2069,267.6406 L293.2069,267.6406 Z M290.7538,265.5781 L294.1131,265.5781 Q296.6756,265.5781 297.8006,266.5 Q298.9256,267.4063 298.9256,269.4531 Q298.9256,271.5 297.8006,272.4219 Q296.6756,273.3281 294.1131,273.3281 L293.2069,273.3281 L293.2069,277.9688 L290.7538,277.9688 L290.7538,265.5781 Z \"/><text fill=\"#000000\" font-family=\"sans-serif\" font-size=\"12\" font-style=\"italic\" lengthAdjust=\"spacingAndGlyphs\" textLength=\"40\" x=\"373.41\" y=\"269.1387\">«part»</text><text fill=\"#000000\" font-family=\"sans-serif\" font-size=\"12\" lengthAdjust=\"spacingAndGlyphs\" textLength=\"172\" x=\"307.41\" y=\"283.1074\">selectedAlternative: Engine</text><line style=\"stroke: #A80036; stroke-width: 1.5;\" x1=\"279.41\" x2=\"481.41\" y1=\"290.9375\" y2=\"290.9375\"/></a><!--MD5=[05d275557350bfb9b23a4ef7222b4c39]\n",
       "link E3 to E2--><a href=\"psysml:6a611645-87b6-456f-b99f-fe1a3075932c\" target=\"_top\" title=\"psysml:6a611645-87b6-456f-b99f-fe1a3075932c\" xlink:actuate=\"onRequest\" xlink:href=\"psysml:6a611645-87b6-456f-b99f-fe1a3075932c\" xlink:show=\"new\" xlink:title=\"psysml:6a611645-87b6-456f-b99f-fe1a3075932c\" xlink:type=\"simple\"><path d=\"M475.72,375.01 C429.33,392.4 364.97,416.54 319.11,433.74 \" fill=\"none\" id=\"E3-&gt;E2\" style=\"stroke: #A80036; stroke-width: 1.0;\"/><polygon fill=\"#FFFFFF\" points=\"300.08,440.87,315.4179,427.6508,320.3282,440.7614,300.08,440.87\" style=\"stroke: #A80036; stroke-width: 1.0;\"/><ellipse cx=\"321.4573\" cy=\"427.5245\" fill=\"#A80036\" rx=\"2\" ry=\"2\" style=\"stroke: #A80036; stroke-width: 1.0;\"/><ellipse cx=\"324.9646\" cy=\"436.8893\" fill=\"#A80036\" rx=\"2\" ry=\"2\" style=\"stroke: #A80036; stroke-width: 1.0;\"/></a><!--MD5=[185131fc0dcab0a4505a2ebe144e961b]\n",
       "link E4 to E2--><a href=\"psysml:c8f697e8-ebd5-44e8-8041-765052aa0dda\" target=\"_top\" title=\"psysml:c8f697e8-ebd5-44e8-8041-765052aa0dda\" xlink:actuate=\"onRequest\" xlink:href=\"psysml:c8f697e8-ebd5-44e8-8041-765052aa0dda\" xlink:show=\"new\" xlink:title=\"psysml:c8f697e8-ebd5-44e8-8041-765052aa0dda\" xlink:type=\"simple\"><path d=\"M343.06,375.13 C329.3,388.76 311.41,406.47 295.97,421.76 \" fill=\"none\" id=\"E4-&gt;E2\" style=\"stroke: #A80036; stroke-width: 1.0;\"/><polygon fill=\"#FFFFFF\" points=\"281.6,436,290.178,417.6583,300.0274,427.6077,281.6,436\" style=\"stroke: #A80036; stroke-width: 1.0;\"/><ellipse cx=\"295.6359\" cy=\"415.0695\" fill=\"#A80036\" rx=\"2\" ry=\"2\" style=\"stroke: #A80036; stroke-width: 1.0;\"/><ellipse cx=\"302.6712\" cy=\"422.1762\" fill=\"#A80036\" rx=\"2\" ry=\"2\" style=\"stroke: #A80036; stroke-width: 1.0;\"/></a><!--MD5=[15ebcb19ae302d9b601edb458606d402]\n",
       "link E5 to E2--><a href=\"psysml:2f46211a-dc33-450b-96f1-34c5430f413d\" target=\"_top\" title=\"psysml:2f46211a-dc33-450b-96f1-34c5430f413d\" xlink:actuate=\"onRequest\" xlink:href=\"psysml:2f46211a-dc33-450b-96f1-34c5430f413d\" xlink:show=\"new\" xlink:title=\"psysml:2f46211a-dc33-450b-96f1-34c5430f413d\" xlink:type=\"simple\"><path d=\"M286.6,73.53 C220.78,84.51 141.32,109.14 92.41,164 C29.25,234.85 6,296.54 59.41,375 C95.2,427.57 171.35,445.6 219.53,451.78 \" fill=\"none\" id=\"E5-&gt;E2\" style=\"stroke: #A80036; stroke-width: 1.0; stroke-dasharray: 7.0,7.0;\"/><polygon fill=\"#A80036\" points=\"224.69,452.41,216.2485,447.3365,219.7277,451.7968,215.2674,455.2761,224.69,452.41\" style=\"stroke: #A80036; stroke-width: 1.0;\"/><text fill=\"#000000\" font-family=\"sans-serif\" font-size=\"13\" lengthAdjust=\"spacingAndGlyphs\" textLength=\"62\" x=\"37.41\" y=\"280.5669\">«subject»</text></a><!--MD5=[9120cf2e5df3bff93db8f754bbbc09b4]\n",
       "link E5 to E6--><a href=\"psysml:285bfc51-142a-40f2-bdf1-cdd7141b9b55\" target=\"_top\" title=\"psysml:285bfc51-142a-40f2-bdf1-cdd7141b9b55\" xlink:actuate=\"onRequest\" xlink:href=\"psysml:285bfc51-142a-40f2-bdf1-cdd7141b9b55\" xlink:show=\"new\" xlink:title=\"psysml:285bfc51-142a-40f2-bdf1-cdd7141b9b55\" xlink:type=\"simple\"><path d=\"M373.11,87.21 C347.53,108.81 308.6,141.67 281.06,164.93 \" fill=\"none\" id=\"E5-&gt;E6\" style=\"stroke: #A80036; stroke-width: 1.0;\"/><polygon fill=\"#A80036\" points=\"274.66,170.33,282.7094,167.4653,278.841,162.8789,274.66,170.33\" style=\"stroke: #A80036; stroke-width: 1.0;\"/><text fill=\"#000000\" font-family=\"sans-serif\" font-size=\"13\" lengthAdjust=\"spacingAndGlyphs\" textLength=\"73\" x=\"338.41\" y=\"130.0669\">«objective»</text></a><!--MD5=[452b418e7f8a40397a49b8c0a78acc5b]\n",
       "reverse link E5 to E7--><a href=\"psysml:081fa6ee-8a6f-4292-82c4-f5eb64360f97\" target=\"_top\" title=\"psysml:081fa6ee-8a6f-4292-82c4-f5eb64360f97\" xlink:actuate=\"onRequest\" xlink:href=\"psysml:081fa6ee-8a6f-4292-82c4-f5eb64360f97\" xlink:show=\"new\" xlink:title=\"psysml:081fa6ee-8a6f-4292-82c4-f5eb64360f97\" xlink:type=\"simple\"><path d=\"M423.66,97.9 C438.71,118.31 457.85,144.27 472.28,163.84 \" fill=\"none\" id=\"E5&lt;-E7\" style=\"stroke: #A80036; stroke-width: 1.0;\"/><polygon fill=\"#A80036\" points=\"415.78,87.21,416.123,94.4129,422.9038,96.8667,422.5608,89.6637,415.78,87.21\" style=\"stroke: #A80036; stroke-width: 1.0;\"/></a><!--MD5=[f1f3f9f2fc535e6147756cb86a7f2e32]\n",
       "link E8 to E2--><a href=\"psysml:143d7cb3-4d47-41f0-bb56-6d1ae515b029\" target=\"_top\" title=\"psysml:143d7cb3-4d47-41f0-bb56-6d1ae515b029\" xlink:actuate=\"onRequest\" xlink:href=\"psysml:143d7cb3-4d47-41f0-bb56-6d1ae515b029\" xlink:show=\"new\" xlink:title=\"psysml:143d7cb3-4d47-41f0-bb56-6d1ae515b029\" xlink:type=\"simple\"><path d=\"M175.5,375.13 C190.47,388.9 210.01,406.84 226.76,422.24 \" fill=\"none\" id=\"E8-&gt;E2\" style=\"stroke: #A80036; stroke-width: 1.0;\"/><polygon fill=\"#FFFFFF\" points=\"241.73,436,223.0018,428.3024,232.4723,417.9918,241.73,436\" style=\"stroke: #A80036; stroke-width: 1.0;\"/><ellipse cx=\"220.1568\" cy=\"422.9736\" fill=\"#A80036\" rx=\"2\" ry=\"2\" style=\"stroke: #A80036; stroke-width: 1.0;\"/><ellipse cx=\"226.9215\" cy=\"415.6089\" fill=\"#A80036\" rx=\"2\" ry=\"2\" style=\"stroke: #A80036; stroke-width: 1.0;\"/></a><!--MD5=[dc164f5e8a733ab456ef1add180e9e34]\n",
       "reverse link E7 to E8--><a href=\"psysml:dbdbccdb-5c16-4bd3-a501-4b1c7e9ddcab\" target=\"_top\" title=\"psysml:dbdbccdb-5c16-4bd3-a501-4b1c7e9ddcab\" xlink:actuate=\"onRequest\" xlink:href=\"psysml:dbdbccdb-5c16-4bd3-a501-4b1c7e9ddcab\" xlink:show=\"new\" xlink:title=\"psysml:dbdbccdb-5c16-4bd3-a501-4b1c7e9ddcab\" xlink:type=\"simple\"><path d=\"M409.62,221.6 C407.87,222.08 406.13,222.54 404.41,223 C341.63,239.59 319.39,223.75 261.41,253 C224.42,271.66 190.19,305.95 170.05,328.61 \" fill=\"none\" id=\"E7&lt;-E8\" style=\"stroke: #A80036; stroke-width: 1.0;\"/><polygon fill=\"#FFFFFF\" points=\"422.19,218.02,415.3243,215.815,410.6482,221.3045,417.5139,223.5095,422.19,218.02\" style=\"stroke: #A80036; stroke-width: 1.0;\"/></a><!--MD5=[5c3bb36fe832a92c7f0e1807dd65209d]\n",
       "link E9 to E2--><a href=\"psysml:cb3e8ea7-f115-4f34-bcd9-dd1e6ba812b8\" target=\"_top\" title=\"psysml:cb3e8ea7-f115-4f34-bcd9-dd1e6ba812b8\" xlink:actuate=\"onRequest\" xlink:href=\"psysml:cb3e8ea7-f115-4f34-bcd9-dd1e6ba812b8\" xlink:show=\"new\" xlink:title=\"psysml:cb3e8ea7-f115-4f34-bcd9-dd1e6ba812b8\" xlink:type=\"simple\"><path d=\"M316.88,299.14 C303.3,306.64 290.36,316.42 281.41,329 C263.57,354.07 259.51,389.08 259.52,415.84 \" fill=\"none\" id=\"E9-&gt;E2\" style=\"stroke: #A80036; stroke-width: 1.0;\"/><polygon fill=\"#FFFFFF\" points=\"260.27,435.97,252.5691,417.2431,266.5594,416.7231,260.27,435.97\" style=\"stroke: #A80036; stroke-width: 1.0;\"/><ellipse cx=\"254.356\" cy=\"411.4728\" fill=\"#A80036\" rx=\"2\" ry=\"2\" style=\"stroke: #A80036; stroke-width: 1.0;\"/><ellipse cx=\"264.3491\" cy=\"411.1013\" fill=\"#A80036\" rx=\"2\" ry=\"2\" style=\"stroke: #A80036; stroke-width: 1.0;\"/></a><!--MD5=[9ae28de373ca99bb8a1b38d63370ca7e]\n",
       "reverse link E5 to E9--><a href=\"psysml:b6df212f-8018-4500-9608-46bc28de5179\" target=\"_top\" title=\"psysml:b6df212f-8018-4500-9608-46bc28de5179\" xlink:actuate=\"onRequest\" xlink:href=\"psysml:b6df212f-8018-4500-9608-46bc28de5179\" xlink:show=\"new\" xlink:title=\"psysml:b6df212f-8018-4500-9608-46bc28de5179\" xlink:type=\"simple\"><path d=\"M473.73,92.2 C541.02,121.02 623.75,169.67 582.41,223 C569.4,239.78 525.94,252.1 482.64,260.52 \" fill=\"none\" id=\"E5&lt;-E9\" style=\"stroke: #A80036; stroke-width: 1.0;\"/><polygon fill=\"#FFFFFF\" points=\"461.38,87.05,465.38,93.05,472.4569,91.6654,468.4569,85.6654,461.38,87.05\" style=\"stroke: #A80036; stroke-width: 1.0;\"/></a><!--MD5=[9e76054392fd4e00e08bb8a38ad0efce]\n",
       "@startuml\r\n",
       " \r\n",
       "package \"TradeStudyTest\" as E1  [[psysml:8952aa40-03a2-4df7-81e1-750bf2c7b589 ]]  {\r\n",
       "comp def \"Engine\" as E2  << (B,green) >> [[psysml:ba5002a0-783d-43b2-abfa-70b37f90804c ]] {\r\n",
       "}\r\n",
       "comp usage \"engine1: Engine\" as E3  << (P,limegreen) part>> [[psysml:47ce73ab-2c54-4db4-9d19-7bcb338cdf44 ]] {\r\n",
       "}\r\n",
       "comp usage \"engine2: Engine\" as E4  << (P,limegreen) part>> [[psysml:7dfdc806-8438-4ccb-bd71-8b6bdaa69ab8 ]] {\r\n",
       "}\r\n",
       "comp usage \"engineTradeStudy: TradeStudy\" as E5 <<analysis>> [[psysml:cd38e840-8317-467c-8230-e0f8852492a9 ]] {\r\n",
       "}\r\n",
       "comp usage \"tradeStudyObjective: MaximizeObjective\" as E6  <<(U,orange)requirement>> [[psysml:bf1db205-ea64-42b3-a829-2093a93eb81c ]] {\r\n",
       "}\r\n",
       "comp usage \"objectiveFunction\" as E7  <<(U,orange)calculation>> [[psysml:081fa6ee-8a6f-4292-82c4-f5eb64360f97 ]] {\r\n",
       "result: Real\r\n",
       "}\r\n",
       "comp usage \"alternative: Engine\" as E8  << (P,limegreen) part>> [[psysml:dbdbccdb-5c16-4bd3-a501-4b1c7e9ddcab ]] {\r\n",
       "}\r\n",
       "comp usage \"selectedAlternative: Engine\" as E9  << (P,limegreen) part>> [[psysml:b6df212f-8018-4500-9608-46bc28de5179 ]] {\r\n",
       "}\r\n",
       "E3 - -:|> E2 [[psysml:6a611645-87b6-456f-b99f-fe1a3075932c ]] \r\n",
       "E4 - -:|> E2 [[psysml:c8f697e8-ebd5-44e8-8041-765052aa0dda ]] \r\n",
       "E5 ..> E2 [[psysml:2f46211a-dc33-450b-96f1-34c5430f413d ]] : <<subject>>\r\n",
       "E5 - ->> E6 [[psysml:285bfc51-142a-40f2-bdf1-cdd7141b9b55 ]] : <<objective>>\r\n",
       "E5 *- - E7 [[psysml:081fa6ee-8a6f-4292-82c4-f5eb64360f97 ]] \r\n",
       "E8 - -:|> E2 [[psysml:143d7cb3-4d47-41f0-bb56-6d1ae515b029 ]] \r\n",
       "E7 o- - E8 [[psysml:dbdbccdb-5c16-4bd3-a501-4b1c7e9ddcab ]] \r\n",
       "E9 - -:|> E2 [[psysml:cb3e8ea7-f115-4f34-bcd9-dd1e6ba812b8 ]] \r\n",
       "E5 o- - E9 [[psysml:b6df212f-8018-4500-9608-46bc28de5179 ]] \r\n",
       "}\r\n",
       "@enduml\r\n",
       "\n",
       "PlantUML version 1.2020.13(Sat Jun 13 12:26:38 UTC 2020)\n",
       "(EPL source distribution)\n",
       "Java Runtime: OpenJDK Runtime Environment\n",
       "JVM: OpenJDK 64-Bit Server VM\n",
       "Default Encoding: UTF-8\n",
       "Language: en\n",
       "Country: null\n",
       "--></g></svg>"
      ]
     },
     "execution_count": 36,
     "metadata": {},
     "output_type": "execute_result"
    }
   ],
   "source": [
    "%viz --style=\"PLANTUML\" --view=\"MIXED\" \"TradeStudyTest\""
   ]
  },
  {
   "cell_type": "code",
   "execution_count": 37,
   "id": "brown-natural",
   "metadata": {
    "execution": {
     "iopub.execute_input": "2021-03-25T09:29:30.516023Z",
     "iopub.status.busy": "2021-03-25T09:29:30.515340Z",
     "iopub.status.idle": "2021-03-25T09:29:30.835959Z",
     "shell.execute_reply": "2021-03-25T09:29:30.834431Z"
    }
   },
   "outputs": [
    {
     "data": {
      "image/svg+xml": [
       "<?xml version=\"1.0\" encoding=\"UTF-8\" standalone=\"no\"?><svg xmlns=\"http://www.w3.org/2000/svg\" xmlns:xlink=\"http://www.w3.org/1999/xlink\" contentScriptType=\"application/ecmascript\" contentStyleType=\"text/css\" height=\"527px\" preserveAspectRatio=\"none\" style=\"width:563px;height:527px;\" version=\"1.1\" viewBox=\"0 0 563 527\" width=\"563px\" zoomAndPan=\"magnify\"><defs/><g><!--MD5=[fbc87193dbaf4d95561dea2c320d4a47]\n",
       "cluster E1--><a href=\"psysml:8952aa40-03a2-4df7-81e1-750bf2c7b589\" target=\"_top\" title=\"psysml:8952aa40-03a2-4df7-81e1-750bf2c7b589\" xlink:actuate=\"onRequest\" xlink:href=\"psysml:8952aa40-03a2-4df7-81e1-750bf2c7b589\" xlink:show=\"new\" xlink:title=\"psysml:8952aa40-03a2-4df7-81e1-750bf2c7b589\" xlink:type=\"simple\"><polygon fill=\"#FFFFFF\" points=\"25.48,6,157.48,6,164.48,28.2969,541.48,28.2969,541.48,515,25.48,515,25.48,6\" style=\"stroke: #000000; stroke-width: 1.5;\"/><line style=\"stroke: #000000; stroke-width: 1.5;\" x1=\"25.48\" x2=\"164.48\" y1=\"28.2969\" y2=\"28.2969\"/><text fill=\"#000000\" font-family=\"sans-serif\" font-size=\"14\" font-weight=\"bold\" lengthAdjust=\"spacingAndGlyphs\" textLength=\"126\" x=\"29.48\" y=\"20.9951\">TradeStudyTest</text></a><!--MD5=[b4997ac47864f28c2f74865a473b2911]\n",
       "class E2--><a href=\"psysml:ba5002a0-783d-43b2-abfa-70b37f90804c\" target=\"_top\" title=\"psysml:ba5002a0-783d-43b2-abfa-70b37f90804c\" xlink:actuate=\"onRequest\" xlink:href=\"psysml:ba5002a0-783d-43b2-abfa-70b37f90804c\" xlink:show=\"new\" xlink:title=\"psysml:ba5002a0-783d-43b2-abfa-70b37f90804c\" xlink:type=\"simple\"><rect fill=\"#FFFFFF\" height=\"45.9375\" id=\"E2\" style=\"stroke: #383838; stroke-width: 1.5;\" width=\"66\" x=\"205.48\" y=\"453\"/><text fill=\"#000000\" font-family=\"sans-serif\" font-size=\"12\" font-style=\"italic\" lengthAdjust=\"spacingAndGlyphs\" textLength=\"64\" x=\"206.48\" y=\"469.1387\">«part def»</text><text fill=\"#000000\" font-family=\"sans-serif\" font-size=\"12\" lengthAdjust=\"spacingAndGlyphs\" textLength=\"43\" x=\"216.98\" y=\"483.1074\">Engine</text><line style=\"stroke: #383838; stroke-width: 1.5;\" x1=\"206.48\" x2=\"270.48\" y1=\"490.9375\" y2=\"490.9375\"/></a><!--MD5=[09b614a08d8cba4a07c9adeb5e0fee81]\n",
       "class E3--><a href=\"psysml:47ce73ab-2c54-4db4-9d19-7bcb338cdf44\" target=\"_top\" title=\"psysml:47ce73ab-2c54-4db4-9d19-7bcb338cdf44\" xlink:actuate=\"onRequest\" xlink:href=\"psysml:47ce73ab-2c54-4db4-9d19-7bcb338cdf44\" xlink:show=\"new\" xlink:title=\"psysml:47ce73ab-2c54-4db4-9d19-7bcb338cdf44\" xlink:type=\"simple\"><rect fill=\"#FFFFFF\" height=\"45.9375\" id=\"E3\" rx=\"10\" ry=\"10\" style=\"stroke: #383838; stroke-width: 1.5;\" width=\"108\" x=\"417.48\" y=\"346\"/><text fill=\"#000000\" font-family=\"sans-serif\" font-size=\"12\" font-style=\"italic\" lengthAdjust=\"spacingAndGlyphs\" textLength=\"40\" x=\"451.48\" y=\"362.1387\">«part»</text><text fill=\"#000000\" font-family=\"sans-serif\" font-size=\"12\" lengthAdjust=\"spacingAndGlyphs\" textLength=\"102\" x=\"420.48\" y=\"376.1074\">engine1: Engine</text><line style=\"stroke: #383838; stroke-width: 1.5;\" x1=\"418.48\" x2=\"524.48\" y1=\"383.9375\" y2=\"383.9375\"/></a><!--MD5=[ebbe1d658d1005bcc118a6aa81145e00]\n",
       "class E4--><a href=\"psysml:7dfdc806-8438-4ccb-bd71-8b6bdaa69ab8\" target=\"_top\" title=\"psysml:7dfdc806-8438-4ccb-bd71-8b6bdaa69ab8\" xlink:actuate=\"onRequest\" xlink:href=\"psysml:7dfdc806-8438-4ccb-bd71-8b6bdaa69ab8\" xlink:show=\"new\" xlink:title=\"psysml:7dfdc806-8438-4ccb-bd71-8b6bdaa69ab8\" xlink:type=\"simple\"><rect fill=\"#FFFFFF\" height=\"45.9375\" id=\"E4\" rx=\"10\" ry=\"10\" style=\"stroke: #383838; stroke-width: 1.5;\" width=\"108\" x=\"274.48\" y=\"346\"/><text fill=\"#000000\" font-family=\"sans-serif\" font-size=\"12\" font-style=\"italic\" lengthAdjust=\"spacingAndGlyphs\" textLength=\"40\" x=\"308.48\" y=\"362.1387\">«part»</text><text fill=\"#000000\" font-family=\"sans-serif\" font-size=\"12\" lengthAdjust=\"spacingAndGlyphs\" textLength=\"102\" x=\"277.48\" y=\"376.1074\">engine2: Engine</text><line style=\"stroke: #383838; stroke-width: 1.5;\" x1=\"275.48\" x2=\"381.48\" y1=\"383.9375\" y2=\"383.9375\"/></a><!--MD5=[270fce915f116d4de14055a7c1d9a0f3]\n",
       "class E5--><a href=\"psysml:cd38e840-8317-467c-8230-e0f8852492a9\" target=\"_top\" title=\"psysml:cd38e840-8317-467c-8230-e0f8852492a9\" xlink:actuate=\"onRequest\" xlink:href=\"psysml:cd38e840-8317-467c-8230-e0f8852492a9\" xlink:show=\"new\" xlink:title=\"psysml:cd38e840-8317-467c-8230-e0f8852492a9\" xlink:type=\"simple\"><rect fill=\"#FFFFFF\" height=\"45.9375\" id=\"E5\" rx=\"10\" ry=\"10\" style=\"stroke: #383838; stroke-width: 1.5;\" width=\"199\" x=\"246.98\" y=\"41\"/><text fill=\"#000000\" font-family=\"sans-serif\" font-size=\"12\" font-style=\"italic\" lengthAdjust=\"spacingAndGlyphs\" textLength=\"64\" x=\"314.48\" y=\"57.1387\">«analysis»</text><text fill=\"#000000\" font-family=\"sans-serif\" font-size=\"12\" lengthAdjust=\"spacingAndGlyphs\" textLength=\"193\" x=\"249.98\" y=\"71.1074\">engineTradeStudy: TradeStudy</text><line style=\"stroke: #383838; stroke-width: 1.5;\" x1=\"247.98\" x2=\"444.98\" y1=\"78.9375\" y2=\"78.9375\"/></a><!--MD5=[60a26617385b1d2d0262a64233df1f8d]\n",
       "class E6--><a href=\"psysml:bf1db205-ea64-42b3-a829-2093a93eb81c\" target=\"_top\" title=\"psysml:bf1db205-ea64-42b3-a829-2093a93eb81c\" xlink:actuate=\"onRequest\" xlink:href=\"psysml:bf1db205-ea64-42b3-a829-2093a93eb81c\" xlink:show=\"new\" xlink:title=\"psysml:bf1db205-ea64-42b3-a829-2093a93eb81c\" xlink:type=\"simple\"><rect fill=\"#FFFFFF\" height=\"45.9375\" id=\"E6\" rx=\"10\" ry=\"10\" style=\"stroke: #383838; stroke-width: 1.5;\" width=\"251\" x=\"85.98\" y=\"179\"/><text fill=\"#000000\" font-family=\"sans-serif\" font-size=\"12\" font-style=\"italic\" lengthAdjust=\"spacingAndGlyphs\" textLength=\"91\" x=\"165.98\" y=\"195.1387\">«requirement»</text><text fill=\"#000000\" font-family=\"sans-serif\" font-size=\"12\" lengthAdjust=\"spacingAndGlyphs\" textLength=\"245\" x=\"88.98\" y=\"209.1074\">tradeStudyObjective: MaximizeObjective</text><line style=\"stroke: #383838; stroke-width: 1.5;\" x1=\"86.98\" x2=\"335.98\" y1=\"216.9375\" y2=\"216.9375\"/></a><!--MD5=[2156ba9850f5573cc1fc38a6a4b2f02b]\n",
       "class E7--><a href=\"psysml:081fa6ee-8a6f-4292-82c4-f5eb64360f97\" target=\"_top\" title=\"psysml:081fa6ee-8a6f-4292-82c4-f5eb64360f97\" xlink:actuate=\"onRequest\" xlink:href=\"psysml:081fa6ee-8a6f-4292-82c4-f5eb64360f97\" xlink:show=\"new\" xlink:title=\"psysml:081fa6ee-8a6f-4292-82c4-f5eb64360f97\" xlink:type=\"simple\"><rect fill=\"#FFFFFF\" height=\"75.5469\" id=\"E7\" rx=\"10\" ry=\"10\" style=\"stroke: #383838; stroke-width: 1.5;\" width=\"116\" x=\"372.48\" y=\"164\"/><text fill=\"#000000\" font-family=\"sans-serif\" font-size=\"12\" font-style=\"italic\" lengthAdjust=\"spacingAndGlyphs\" textLength=\"82\" x=\"389.48\" y=\"180.1387\">«calculation»</text><text fill=\"#000000\" font-family=\"sans-serif\" font-size=\"12\" lengthAdjust=\"spacingAndGlyphs\" textLength=\"110\" x=\"375.48\" y=\"194.1074\">objectiveFunction</text><line style=\"stroke: #383838; stroke-width: 1.5;\" x1=\"373.48\" x2=\"487.48\" y1=\"201.9375\" y2=\"201.9375\"/><text fill=\"#000000\" font-family=\"sans-serif\" font-size=\"11\" lengthAdjust=\"spacingAndGlyphs\" textLength=\"65\" x=\"378.48\" y=\"232.9526\">result: Real</text><line style=\"stroke: #383838; stroke-width: 1.0;\" x1=\"373.48\" x2=\"402.98\" y1=\"216.3398\" y2=\"216.3398\"/><text fill=\"#000000\" font-family=\"sans-serif\" font-size=\"11\" lengthAdjust=\"spacingAndGlyphs\" textLength=\"55\" x=\"402.98\" y=\"219.6479\">attributes</text><line style=\"stroke: #383838; stroke-width: 1.0;\" x1=\"457.98\" x2=\"487.48\" y1=\"216.3398\" y2=\"216.3398\"/></a><!--MD5=[b9389687b975829384b498ac4b7476b2]\n",
       "class E8--><a href=\"psysml:dbdbccdb-5c16-4bd3-a501-4b1c7e9ddcab\" target=\"_top\" title=\"psysml:dbdbccdb-5c16-4bd3-a501-4b1c7e9ddcab\" xlink:actuate=\"onRequest\" xlink:href=\"psysml:dbdbccdb-5c16-4bd3-a501-4b1c7e9ddcab\" xlink:show=\"new\" xlink:title=\"psysml:dbdbccdb-5c16-4bd3-a501-4b1c7e9ddcab\" xlink:type=\"simple\"><rect fill=\"#FFFFFF\" height=\"45.9375\" id=\"E8\" rx=\"10\" ry=\"10\" style=\"stroke: #383838; stroke-width: 1.5;\" width=\"124\" x=\"78.48\" y=\"346\"/><text fill=\"#000000\" font-family=\"sans-serif\" font-size=\"12\" font-style=\"italic\" lengthAdjust=\"spacingAndGlyphs\" textLength=\"40\" x=\"120.48\" y=\"362.1387\">«part»</text><text fill=\"#000000\" font-family=\"sans-serif\" font-size=\"12\" lengthAdjust=\"spacingAndGlyphs\" textLength=\"118\" x=\"81.48\" y=\"376.1074\">alternative: Engine</text><line style=\"stroke: #383838; stroke-width: 1.5;\" x1=\"79.48\" x2=\"201.48\" y1=\"383.9375\" y2=\"383.9375\"/></a><!--MD5=[fd4143e9d270a159db93a4ea2a975926]\n",
       "class E9--><a href=\"psysml:b6df212f-8018-4500-9608-46bc28de5179\" target=\"_top\" title=\"psysml:b6df212f-8018-4500-9608-46bc28de5179\" xlink:actuate=\"onRequest\" xlink:href=\"psysml:b6df212f-8018-4500-9608-46bc28de5179\" xlink:show=\"new\" xlink:title=\"psysml:b6df212f-8018-4500-9608-46bc28de5179\" xlink:type=\"simple\"><rect fill=\"#FFFFFF\" height=\"45.9375\" id=\"E9\" rx=\"10\" ry=\"10\" style=\"stroke: #383838; stroke-width: 1.5;\" width=\"178\" x=\"298.48\" y=\"270\"/><text fill=\"#000000\" font-family=\"sans-serif\" font-size=\"12\" font-style=\"italic\" lengthAdjust=\"spacingAndGlyphs\" textLength=\"40\" x=\"367.48\" y=\"286.1387\">«part»</text><text fill=\"#000000\" font-family=\"sans-serif\" font-size=\"12\" lengthAdjust=\"spacingAndGlyphs\" textLength=\"172\" x=\"301.48\" y=\"300.1074\">selectedAlternative: Engine</text><line style=\"stroke: #383838; stroke-width: 1.5;\" x1=\"299.48\" x2=\"475.48\" y1=\"307.9375\" y2=\"307.9375\"/></a><!--MD5=[05d275557350bfb9b23a4ef7222b4c39]\n",
       "link E3 to E2--><a href=\"psysml:6a611645-87b6-456f-b99f-fe1a3075932c\" target=\"_top\" title=\"psysml:6a611645-87b6-456f-b99f-fe1a3075932c\" xlink:actuate=\"onRequest\" xlink:href=\"psysml:6a611645-87b6-456f-b99f-fe1a3075932c\" xlink:show=\"new\" xlink:title=\"psysml:6a611645-87b6-456f-b99f-fe1a3075932c\" xlink:type=\"simple\"><path d=\"M422.64,392.01 C383.73,409.54 329.43,434.01 289.87,451.84 \" fill=\"none\" id=\"E3-&gt;E2\" style=\"stroke: #383838; stroke-width: 1.0;\"/><polygon fill=\"#FFFFFF\" points=\"271.5,460.12,285.9466,445.9321,291.6983,458.696,271.5,460.12\" style=\"stroke: #383838; stroke-width: 1.0;\"/><ellipse cx=\"291.965\" cy=\"445.4137\" fill=\"#383838\" rx=\"2\" ry=\"2\" style=\"stroke: #383838; stroke-width: 1.0;\"/><ellipse cx=\"296.0734\" cy=\"454.5308\" fill=\"#383838\" rx=\"2\" ry=\"2\" style=\"stroke: #383838; stroke-width: 1.0;\"/></a><!--MD5=[185131fc0dcab0a4505a2ebe144e961b]\n",
       "link E4 to E2--><a href=\"psysml:c8f697e8-ebd5-44e8-8041-765052aa0dda\" target=\"_top\" title=\"psysml:c8f697e8-ebd5-44e8-8041-765052aa0dda\" xlink:actuate=\"onRequest\" xlink:href=\"psysml:c8f697e8-ebd5-44e8-8041-765052aa0dda\" xlink:show=\"new\" xlink:title=\"psysml:c8f697e8-ebd5-44e8-8041-765052aa0dda\" xlink:type=\"simple\"><path d=\"M309.61,392.01 C298.41,405.08 283.9,422.01 270.9,437.17 \" fill=\"none\" id=\"E4-&gt;E2\" style=\"stroke: #383838; stroke-width: 1.0;\"/><polygon fill=\"#FFFFFF\" points=\"257.63,452.66,264.6788,433.678,275.3091,442.7883,257.63,452.66\" style=\"stroke: #383838; stroke-width: 1.0;\"/><ellipse cx=\"269.9066\" cy=\"430.6515\" fill=\"#383838\" rx=\"2\" ry=\"2\" style=\"stroke: #383838; stroke-width: 1.0;\"/><ellipse cx=\"277.4996\" cy=\"437.1588\" fill=\"#383838\" rx=\"2\" ry=\"2\" style=\"stroke: #383838; stroke-width: 1.0;\"/></a><!--MD5=[15ebcb19ae302d9b601edb458606d402]\n",
       "link E5 to E2--><a href=\"psysml:2f46211a-dc33-450b-96f1-34c5430f413d\" target=\"_top\" title=\"psysml:2f46211a-dc33-450b-96f1-34c5430f413d\" xlink:actuate=\"onRequest\" xlink:href=\"psysml:2f46211a-dc33-450b-96f1-34c5430f413d\" xlink:show=\"new\" xlink:title=\"psysml:2f46211a-dc33-450b-96f1-34c5430f413d\" xlink:type=\"simple\"><path d=\"M246.76,73.1 C184.92,83.79 109.66,108.27 68.48,164 C8.23,245.55 6,306.48 60.48,392 C91.11,440.08 157.66,460.76 200.15,469.32 \" fill=\"none\" id=\"E5-&gt;E2\" style=\"stroke: #383838; stroke-width: 1.0; stroke-dasharray: 7.0,7.0;\"/><polygon fill=\"#383838\" points=\"205.2,470.31,197.1338,464.6588,200.2927,469.3514,195.6001,472.5104,205.2,470.31\" style=\"stroke: #383838; stroke-width: 1.0;\"/><text fill=\"#000000\" font-family=\"sans-serif\" font-size=\"13\" lengthAdjust=\"spacingAndGlyphs\" textLength=\"62\" x=\"26.48\" y=\"297.5669\">«subject»</text></a><!--MD5=[9120cf2e5df3bff93db8f754bbbc09b4]\n",
       "link E5 to E6--><a href=\"psysml:285bfc51-142a-40f2-bdf1-cdd7141b9b55\" target=\"_top\" title=\"psysml:285bfc51-142a-40f2-bdf1-cdd7141b9b55\" xlink:actuate=\"onRequest\" xlink:href=\"psysml:285bfc51-142a-40f2-bdf1-cdd7141b9b55\" xlink:show=\"new\" xlink:title=\"psysml:285bfc51-142a-40f2-bdf1-cdd7141b9b55\" xlink:type=\"simple\"><path d=\"M324.49,87.15 C301.25,110.57 264.53,147.55 239.3,172.98 \" fill=\"none\" id=\"E5-&gt;E6\" style=\"stroke: #383838; stroke-width: 1.0;\"/><polygon fill=\"#383838\" points=\"233.46,178.86,241.2247,175.295,236.966,171.0685,233.46,178.86\" style=\"stroke: #383838; stroke-width: 1.0;\"/><text fill=\"#000000\" font-family=\"sans-serif\" font-size=\"13\" lengthAdjust=\"spacingAndGlyphs\" textLength=\"73\" x=\"291.48\" y=\"130.0669\">«objective»</text></a><!--MD5=[452b418e7f8a40397a49b8c0a78acc5b]\n",
       "reverse link E5 to E7--><a href=\"psysml:081fa6ee-8a6f-4292-82c4-f5eb64360f97\" target=\"_top\" title=\"psysml:081fa6ee-8a6f-4292-82c4-f5eb64360f97\" xlink:actuate=\"onRequest\" xlink:href=\"psysml:081fa6ee-8a6f-4292-82c4-f5eb64360f97\" xlink:show=\"new\" xlink:title=\"psysml:081fa6ee-8a6f-4292-82c4-f5eb64360f97\" xlink:type=\"simple\"><path d=\"M367.14,98.44 C379.4,118.3 394.98,143.52 407.61,163.97 \" fill=\"none\" id=\"E5&lt;-E7\" style=\"stroke: #383838; stroke-width: 1.0;\"/><polygon fill=\"#383838\" points=\"360.16,87.15,359.9052,94.3566,366.4595,97.3636,366.7142,90.157,360.16,87.15\" style=\"stroke: #383838; stroke-width: 1.0;\"/></a><!--MD5=[f1f3f9f2fc535e6147756cb86a7f2e32]\n",
       "link E8 to E2--><a href=\"psysml:143d7cb3-4d47-41f0-bb56-6d1ae515b029\" target=\"_top\" title=\"psysml:143d7cb3-4d47-41f0-bb56-6d1ae515b029\" xlink:actuate=\"onRequest\" xlink:href=\"psysml:143d7cb3-4d47-41f0-bb56-6d1ae515b029\" xlink:show=\"new\" xlink:title=\"psysml:143d7cb3-4d47-41f0-bb56-6d1ae515b029\" xlink:type=\"simple\"><path d=\"M161.02,392.01 C173.35,405.22 189.36,422.38 203.62,437.65 \" fill=\"none\" id=\"E8-&gt;E2\" style=\"stroke: #383838; stroke-width: 1.0;\"/><polygon fill=\"#FFFFFF\" points=\"217.63,452.66,199.5521,443.5393,209.7905,433.9907,217.63,452.66\" style=\"stroke: #383838; stroke-width: 1.0;\"/><ellipse cx=\"197.1271\" cy=\"438.0067\" fill=\"#383838\" rx=\"2\" ry=\"2\" style=\"stroke: #383838; stroke-width: 1.0;\"/><ellipse cx=\"204.4402\" cy=\"431.1863\" fill=\"#383838\" rx=\"2\" ry=\"2\" style=\"stroke: #383838; stroke-width: 1.0;\"/></a><!--MD5=[dc164f5e8a733ab456ef1add180e9e34]\n",
       "reverse link E7 to E8--><a href=\"psysml:dbdbccdb-5c16-4bd3-a501-4b1c7e9ddcab\" target=\"_top\" title=\"psysml:dbdbccdb-5c16-4bd3-a501-4b1c7e9ddcab\" xlink:actuate=\"onRequest\" xlink:href=\"psysml:dbdbccdb-5c16-4bd3-a501-4b1c7e9ddcab\" xlink:show=\"new\" xlink:title=\"psysml:dbdbccdb-5c16-4bd3-a501-4b1c7e9ddcab\" xlink:type=\"simple\"><path d=\"M360.21,237.41 C358.28,238.29 356.37,239.15 354.48,240 C322.47,254.35 312.29,253.22 281.48,270 C240.11,292.53 196.1,324.58 168.46,345.81 \" fill=\"none\" id=\"E7&lt;-E8\" style=\"stroke: #383838; stroke-width: 1.0;\"/><polygon fill=\"#FFFFFF\" points=\"372.15,231.86,365.0224,230.7655,361.2708,236.9238,368.3983,238.0183,372.15,231.86\" style=\"stroke: #383838; stroke-width: 1.0;\"/></a><!--MD5=[5c3bb36fe832a92c7f0e1807dd65209d]\n",
       "link E9 to E2--><a href=\"psysml:cb3e8ea7-f115-4f34-bcd9-dd1e6ba812b8\" target=\"_top\" title=\"psysml:cb3e8ea7-f115-4f34-bcd9-dd1e6ba812b8\" xlink:actuate=\"onRequest\" xlink:href=\"psysml:cb3e8ea7-f115-4f34-bcd9-dd1e6ba812b8\" xlink:show=\"new\" xlink:title=\"psysml:cb3e8ea7-f115-4f34-bcd9-dd1e6ba812b8\" xlink:type=\"simple\"><path d=\"M298.35,315.15 C282.73,322.56 268.1,332.55 257.48,346 C238.33,370.25 234.2,405.32 234.52,432.77 \" fill=\"none\" id=\"E9-&gt;E2\" style=\"stroke: #383838; stroke-width: 1.0;\"/><polygon fill=\"#FFFFFF\" points=\"235.52,452.81,227.5786,434.1838,241.5611,433.4837,235.52,452.81\" style=\"stroke: #383838; stroke-width: 1.0;\"/><ellipse cx=\"229.291\" cy=\"428.3909\" fill=\"#383838\" rx=\"2\" ry=\"2\" style=\"stroke: #383838; stroke-width: 1.0;\"/><ellipse cx=\"239.2785\" cy=\"427.8909\" fill=\"#383838\" rx=\"2\" ry=\"2\" style=\"stroke: #383838; stroke-width: 1.0;\"/></a><!--MD5=[9ae28de373ca99bb8a1b38d63370ca7e]\n",
       "reverse link E5 to E9--><a href=\"psysml:b6df212f-8018-4500-9608-46bc28de5179\" target=\"_top\" title=\"psysml:b6df212f-8018-4500-9608-46bc28de5179\" xlink:actuate=\"onRequest\" xlink:href=\"psysml:b6df212f-8018-4500-9608-46bc28de5179\" xlink:show=\"new\" xlink:title=\"psysml:b6df212f-8018-4500-9608-46bc28de5179\" xlink:type=\"simple\"><path d=\"M423.24,92.77 C454.94,108.48 488.43,131.61 506.48,164 C522.92,193.51 524.97,211.74 506.48,240 C498.02,252.92 485.57,262.65 471.87,269.97 \" fill=\"none\" id=\"E5&lt;-E9\" style=\"stroke: #383838; stroke-width: 1.0;\"/><polygon fill=\"#FFFFFF\" points=\"411.22,87.11,414.9414,93.2867,422.0742,92.2272,418.3528,86.0505,411.22,87.11\" style=\"stroke: #383838; stroke-width: 1.0;\"/></a><!--MD5=[4c90981f523607a24625a72325ec03a0]\n",
       "@startuml\r\n",
       "skinparam monochrome true\r\n",
       "skinparam classbackgroundcolor white\r\n",
       "skinparam shadowing false\r\n",
       "skinparam wrapWidth 300\r\n",
       "hide circle\r\n",
       "\r\n",
       "package \"TradeStudyTest\" as E1  [[psysml:8952aa40-03a2-4df7-81e1-750bf2c7b589 ]]  {\r\n",
       "comp def \"Engine\" as E2  <<(T,blue)part def>> [[psysml:ba5002a0-783d-43b2-abfa-70b37f90804c ]] {\r\n",
       "}\r\n",
       "comp usage \"engine1: Engine\" as E3  <<(T,blue)part>> [[psysml:47ce73ab-2c54-4db4-9d19-7bcb338cdf44 ]] {\r\n",
       "}\r\n",
       "comp usage \"engine2: Engine\" as E4  <<(T,blue)part>> [[psysml:7dfdc806-8438-4ccb-bd71-8b6bdaa69ab8 ]] {\r\n",
       "}\r\n",
       "comp usage \"engineTradeStudy: TradeStudy\" as E5 <<analysis>> [[psysml:cd38e840-8317-467c-8230-e0f8852492a9 ]] {\r\n",
       "}\r\n",
       "comp usage \"tradeStudyObjective: MaximizeObjective\" as E6  <<(T,blue)requirement>> [[psysml:bf1db205-ea64-42b3-a829-2093a93eb81c ]] {\r\n",
       "}\r\n",
       "comp usage \"objectiveFunction\" as E7  <<(T,blue)calculation>> [[psysml:081fa6ee-8a6f-4292-82c4-f5eb64360f97 ]] {\r\n",
       "- - attributes - -\r\n",
       "result: Real\r\n",
       "}\r\n",
       "comp usage \"alternative: Engine\" as E8  <<(T,blue)part>> [[psysml:dbdbccdb-5c16-4bd3-a501-4b1c7e9ddcab ]] {\r\n",
       "}\r\n",
       "comp usage \"selectedAlternative: Engine\" as E9  <<(T,blue)part>> [[psysml:b6df212f-8018-4500-9608-46bc28de5179 ]] {\r\n",
       "}\r\n",
       "E3 - -:|> E2 [[psysml:6a611645-87b6-456f-b99f-fe1a3075932c ]] \r\n",
       "E4 - -:|> E2 [[psysml:c8f697e8-ebd5-44e8-8041-765052aa0dda ]] \r\n",
       "E5 ..> E2 [[psysml:2f46211a-dc33-450b-96f1-34c5430f413d ]] : <<subject>>\r\n",
       "E5 - ->> E6 [[psysml:285bfc51-142a-40f2-bdf1-cdd7141b9b55 ]] : <<objective>>\r\n",
       "E5 *- - E7 [[psysml:081fa6ee-8a6f-4292-82c4-f5eb64360f97 ]] \r\n",
       "E8 - -:|> E2 [[psysml:143d7cb3-4d47-41f0-bb56-6d1ae515b029 ]] \r\n",
       "E7 o- - E8 [[psysml:dbdbccdb-5c16-4bd3-a501-4b1c7e9ddcab ]] \r\n",
       "E9 - -:|> E2 [[psysml:cb3e8ea7-f115-4f34-bcd9-dd1e6ba812b8 ]] \r\n",
       "E5 o- - E9 [[psysml:b6df212f-8018-4500-9608-46bc28de5179 ]] \r\n",
       "}\r\n",
       "@enduml\r\n",
       "\n",
       "PlantUML version 1.2020.13(Sat Jun 13 12:26:38 UTC 2020)\n",
       "(EPL source distribution)\n",
       "Java Runtime: OpenJDK Runtime Environment\n",
       "JVM: OpenJDK 64-Bit Server VM\n",
       "Default Encoding: UTF-8\n",
       "Language: en\n",
       "Country: null\n",
       "--></g></svg>"
      ]
     },
     "execution_count": 37,
     "metadata": {},
     "output_type": "execute_result"
    }
   ],
   "source": [
    "%viz --style=\"DEFAULT\" --view=\"Default\" \"TradeStudyTest\""
   ]
  },
  {
   "cell_type": "code",
   "execution_count": 38,
   "id": "fancy-tract",
   "metadata": {
    "execution": {
     "iopub.execute_input": "2021-03-25T09:29:30.886388Z",
     "iopub.status.busy": "2021-03-25T09:29:30.885624Z",
     "iopub.status.idle": "2021-03-25T09:29:31.196446Z",
     "shell.execute_reply": "2021-03-25T09:29:31.194940Z"
    }
   },
   "outputs": [
    {
     "data": {
      "image/svg+xml": [
       "<?xml version=\"1.0\" encoding=\"UTF-8\" standalone=\"no\"?><svg xmlns=\"http://www.w3.org/2000/svg\" xmlns:xlink=\"http://www.w3.org/1999/xlink\" contentScriptType=\"application/ecmascript\" contentStyleType=\"text/css\" height=\"527px\" preserveAspectRatio=\"none\" style=\"width:563px;height:527px;\" version=\"1.1\" viewBox=\"0 0 563 527\" width=\"563px\" zoomAndPan=\"magnify\"><defs/><g><!--MD5=[fbc87193dbaf4d95561dea2c320d4a47]\n",
       "cluster E1--><a href=\"psysml:8952aa40-03a2-4df7-81e1-750bf2c7b589\" target=\"_top\" title=\"psysml:8952aa40-03a2-4df7-81e1-750bf2c7b589\" xlink:actuate=\"onRequest\" xlink:href=\"psysml:8952aa40-03a2-4df7-81e1-750bf2c7b589\" xlink:show=\"new\" xlink:title=\"psysml:8952aa40-03a2-4df7-81e1-750bf2c7b589\" xlink:type=\"simple\"><polygon fill=\"#FFFFFF\" points=\"25.48,6,157.48,6,164.48,28.2969,541.48,28.2969,541.48,515,25.48,515,25.48,6\" style=\"stroke: #000000; stroke-width: 1.5;\"/><line style=\"stroke: #000000; stroke-width: 1.5;\" x1=\"25.48\" x2=\"164.48\" y1=\"28.2969\" y2=\"28.2969\"/><text fill=\"#000000\" font-family=\"sans-serif\" font-size=\"14\" font-weight=\"bold\" lengthAdjust=\"spacingAndGlyphs\" textLength=\"126\" x=\"29.48\" y=\"20.9951\">TradeStudyTest</text></a><!--MD5=[b4997ac47864f28c2f74865a473b2911]\n",
       "class E2--><a href=\"psysml:ba5002a0-783d-43b2-abfa-70b37f90804c\" target=\"_top\" title=\"psysml:ba5002a0-783d-43b2-abfa-70b37f90804c\" xlink:actuate=\"onRequest\" xlink:href=\"psysml:ba5002a0-783d-43b2-abfa-70b37f90804c\" xlink:show=\"new\" xlink:title=\"psysml:ba5002a0-783d-43b2-abfa-70b37f90804c\" xlink:type=\"simple\"><rect fill=\"#FFFFFF\" height=\"45.9375\" id=\"E2\" style=\"stroke: #383838; stroke-width: 1.5;\" width=\"66\" x=\"205.48\" y=\"453\"/><text fill=\"#000000\" font-family=\"sans-serif\" font-size=\"12\" font-style=\"italic\" lengthAdjust=\"spacingAndGlyphs\" textLength=\"64\" x=\"206.48\" y=\"469.1387\">«part def»</text><text fill=\"#000000\" font-family=\"sans-serif\" font-size=\"12\" lengthAdjust=\"spacingAndGlyphs\" textLength=\"43\" x=\"216.98\" y=\"483.1074\">Engine</text><line style=\"stroke: #383838; stroke-width: 1.5;\" x1=\"206.48\" x2=\"270.48\" y1=\"490.9375\" y2=\"490.9375\"/></a><!--MD5=[09b614a08d8cba4a07c9adeb5e0fee81]\n",
       "class E3--><a href=\"psysml:47ce73ab-2c54-4db4-9d19-7bcb338cdf44\" target=\"_top\" title=\"psysml:47ce73ab-2c54-4db4-9d19-7bcb338cdf44\" xlink:actuate=\"onRequest\" xlink:href=\"psysml:47ce73ab-2c54-4db4-9d19-7bcb338cdf44\" xlink:show=\"new\" xlink:title=\"psysml:47ce73ab-2c54-4db4-9d19-7bcb338cdf44\" xlink:type=\"simple\"><rect fill=\"#FFFFFF\" height=\"45.9375\" id=\"E3\" rx=\"10\" ry=\"10\" style=\"stroke: #383838; stroke-width: 1.5;\" width=\"108\" x=\"417.48\" y=\"346\"/><text fill=\"#000000\" font-family=\"sans-serif\" font-size=\"12\" font-style=\"italic\" lengthAdjust=\"spacingAndGlyphs\" textLength=\"40\" x=\"451.48\" y=\"362.1387\">«part»</text><text fill=\"#000000\" font-family=\"sans-serif\" font-size=\"12\" lengthAdjust=\"spacingAndGlyphs\" textLength=\"102\" x=\"420.48\" y=\"376.1074\">engine1: Engine</text><line style=\"stroke: #383838; stroke-width: 1.5;\" x1=\"418.48\" x2=\"524.48\" y1=\"383.9375\" y2=\"383.9375\"/></a><!--MD5=[ebbe1d658d1005bcc118a6aa81145e00]\n",
       "class E4--><a href=\"psysml:7dfdc806-8438-4ccb-bd71-8b6bdaa69ab8\" target=\"_top\" title=\"psysml:7dfdc806-8438-4ccb-bd71-8b6bdaa69ab8\" xlink:actuate=\"onRequest\" xlink:href=\"psysml:7dfdc806-8438-4ccb-bd71-8b6bdaa69ab8\" xlink:show=\"new\" xlink:title=\"psysml:7dfdc806-8438-4ccb-bd71-8b6bdaa69ab8\" xlink:type=\"simple\"><rect fill=\"#FFFFFF\" height=\"45.9375\" id=\"E4\" rx=\"10\" ry=\"10\" style=\"stroke: #383838; stroke-width: 1.5;\" width=\"108\" x=\"274.48\" y=\"346\"/><text fill=\"#000000\" font-family=\"sans-serif\" font-size=\"12\" font-style=\"italic\" lengthAdjust=\"spacingAndGlyphs\" textLength=\"40\" x=\"308.48\" y=\"362.1387\">«part»</text><text fill=\"#000000\" font-family=\"sans-serif\" font-size=\"12\" lengthAdjust=\"spacingAndGlyphs\" textLength=\"102\" x=\"277.48\" y=\"376.1074\">engine2: Engine</text><line style=\"stroke: #383838; stroke-width: 1.5;\" x1=\"275.48\" x2=\"381.48\" y1=\"383.9375\" y2=\"383.9375\"/></a><!--MD5=[270fce915f116d4de14055a7c1d9a0f3]\n",
       "class E5--><a href=\"psysml:cd38e840-8317-467c-8230-e0f8852492a9\" target=\"_top\" title=\"psysml:cd38e840-8317-467c-8230-e0f8852492a9\" xlink:actuate=\"onRequest\" xlink:href=\"psysml:cd38e840-8317-467c-8230-e0f8852492a9\" xlink:show=\"new\" xlink:title=\"psysml:cd38e840-8317-467c-8230-e0f8852492a9\" xlink:type=\"simple\"><rect fill=\"#FFFFFF\" height=\"45.9375\" id=\"E5\" rx=\"10\" ry=\"10\" style=\"stroke: #383838; stroke-width: 1.5;\" width=\"199\" x=\"246.98\" y=\"41\"/><text fill=\"#000000\" font-family=\"sans-serif\" font-size=\"12\" font-style=\"italic\" lengthAdjust=\"spacingAndGlyphs\" textLength=\"64\" x=\"314.48\" y=\"57.1387\">«analysis»</text><text fill=\"#000000\" font-family=\"sans-serif\" font-size=\"12\" lengthAdjust=\"spacingAndGlyphs\" textLength=\"193\" x=\"249.98\" y=\"71.1074\">engineTradeStudy: TradeStudy</text><line style=\"stroke: #383838; stroke-width: 1.5;\" x1=\"247.98\" x2=\"444.98\" y1=\"78.9375\" y2=\"78.9375\"/></a><!--MD5=[60a26617385b1d2d0262a64233df1f8d]\n",
       "class E6--><a href=\"psysml:bf1db205-ea64-42b3-a829-2093a93eb81c\" target=\"_top\" title=\"psysml:bf1db205-ea64-42b3-a829-2093a93eb81c\" xlink:actuate=\"onRequest\" xlink:href=\"psysml:bf1db205-ea64-42b3-a829-2093a93eb81c\" xlink:show=\"new\" xlink:title=\"psysml:bf1db205-ea64-42b3-a829-2093a93eb81c\" xlink:type=\"simple\"><rect fill=\"#FFFFFF\" height=\"45.9375\" id=\"E6\" rx=\"10\" ry=\"10\" style=\"stroke: #383838; stroke-width: 1.5;\" width=\"251\" x=\"85.98\" y=\"179\"/><text fill=\"#000000\" font-family=\"sans-serif\" font-size=\"12\" font-style=\"italic\" lengthAdjust=\"spacingAndGlyphs\" textLength=\"91\" x=\"165.98\" y=\"195.1387\">«requirement»</text><text fill=\"#000000\" font-family=\"sans-serif\" font-size=\"12\" lengthAdjust=\"spacingAndGlyphs\" textLength=\"245\" x=\"88.98\" y=\"209.1074\">tradeStudyObjective: MaximizeObjective</text><line style=\"stroke: #383838; stroke-width: 1.5;\" x1=\"86.98\" x2=\"335.98\" y1=\"216.9375\" y2=\"216.9375\"/></a><!--MD5=[2156ba9850f5573cc1fc38a6a4b2f02b]\n",
       "class E7--><a href=\"psysml:081fa6ee-8a6f-4292-82c4-f5eb64360f97\" target=\"_top\" title=\"psysml:081fa6ee-8a6f-4292-82c4-f5eb64360f97\" xlink:actuate=\"onRequest\" xlink:href=\"psysml:081fa6ee-8a6f-4292-82c4-f5eb64360f97\" xlink:show=\"new\" xlink:title=\"psysml:081fa6ee-8a6f-4292-82c4-f5eb64360f97\" xlink:type=\"simple\"><rect fill=\"#FFFFFF\" height=\"75.5469\" id=\"E7\" rx=\"10\" ry=\"10\" style=\"stroke: #383838; stroke-width: 1.5;\" width=\"116\" x=\"372.48\" y=\"164\"/><text fill=\"#000000\" font-family=\"sans-serif\" font-size=\"12\" font-style=\"italic\" lengthAdjust=\"spacingAndGlyphs\" textLength=\"82\" x=\"389.48\" y=\"180.1387\">«calculation»</text><text fill=\"#000000\" font-family=\"sans-serif\" font-size=\"12\" lengthAdjust=\"spacingAndGlyphs\" textLength=\"110\" x=\"375.48\" y=\"194.1074\">objectiveFunction</text><line style=\"stroke: #383838; stroke-width: 1.5;\" x1=\"373.48\" x2=\"487.48\" y1=\"201.9375\" y2=\"201.9375\"/><text fill=\"#000000\" font-family=\"sans-serif\" font-size=\"11\" lengthAdjust=\"spacingAndGlyphs\" textLength=\"65\" x=\"378.48\" y=\"232.9526\">result: Real</text><line style=\"stroke: #383838; stroke-width: 1.0;\" x1=\"373.48\" x2=\"402.98\" y1=\"216.3398\" y2=\"216.3398\"/><text fill=\"#000000\" font-family=\"sans-serif\" font-size=\"11\" lengthAdjust=\"spacingAndGlyphs\" textLength=\"55\" x=\"402.98\" y=\"219.6479\">attributes</text><line style=\"stroke: #383838; stroke-width: 1.0;\" x1=\"457.98\" x2=\"487.48\" y1=\"216.3398\" y2=\"216.3398\"/></a><!--MD5=[b9389687b975829384b498ac4b7476b2]\n",
       "class E8--><a href=\"psysml:dbdbccdb-5c16-4bd3-a501-4b1c7e9ddcab\" target=\"_top\" title=\"psysml:dbdbccdb-5c16-4bd3-a501-4b1c7e9ddcab\" xlink:actuate=\"onRequest\" xlink:href=\"psysml:dbdbccdb-5c16-4bd3-a501-4b1c7e9ddcab\" xlink:show=\"new\" xlink:title=\"psysml:dbdbccdb-5c16-4bd3-a501-4b1c7e9ddcab\" xlink:type=\"simple\"><rect fill=\"#FFFFFF\" height=\"45.9375\" id=\"E8\" rx=\"10\" ry=\"10\" style=\"stroke: #383838; stroke-width: 1.5;\" width=\"124\" x=\"78.48\" y=\"346\"/><text fill=\"#000000\" font-family=\"sans-serif\" font-size=\"12\" font-style=\"italic\" lengthAdjust=\"spacingAndGlyphs\" textLength=\"40\" x=\"120.48\" y=\"362.1387\">«part»</text><text fill=\"#000000\" font-family=\"sans-serif\" font-size=\"12\" lengthAdjust=\"spacingAndGlyphs\" textLength=\"118\" x=\"81.48\" y=\"376.1074\">alternative: Engine</text><line style=\"stroke: #383838; stroke-width: 1.5;\" x1=\"79.48\" x2=\"201.48\" y1=\"383.9375\" y2=\"383.9375\"/></a><!--MD5=[fd4143e9d270a159db93a4ea2a975926]\n",
       "class E9--><a href=\"psysml:b6df212f-8018-4500-9608-46bc28de5179\" target=\"_top\" title=\"psysml:b6df212f-8018-4500-9608-46bc28de5179\" xlink:actuate=\"onRequest\" xlink:href=\"psysml:b6df212f-8018-4500-9608-46bc28de5179\" xlink:show=\"new\" xlink:title=\"psysml:b6df212f-8018-4500-9608-46bc28de5179\" xlink:type=\"simple\"><rect fill=\"#FFFFFF\" height=\"45.9375\" id=\"E9\" rx=\"10\" ry=\"10\" style=\"stroke: #383838; stroke-width: 1.5;\" width=\"178\" x=\"298.48\" y=\"270\"/><text fill=\"#000000\" font-family=\"sans-serif\" font-size=\"12\" font-style=\"italic\" lengthAdjust=\"spacingAndGlyphs\" textLength=\"40\" x=\"367.48\" y=\"286.1387\">«part»</text><text fill=\"#000000\" font-family=\"sans-serif\" font-size=\"12\" lengthAdjust=\"spacingAndGlyphs\" textLength=\"172\" x=\"301.48\" y=\"300.1074\">selectedAlternative: Engine</text><line style=\"stroke: #383838; stroke-width: 1.5;\" x1=\"299.48\" x2=\"475.48\" y1=\"307.9375\" y2=\"307.9375\"/></a><!--MD5=[05d275557350bfb9b23a4ef7222b4c39]\n",
       "link E3 to E2--><a href=\"psysml:6a611645-87b6-456f-b99f-fe1a3075932c\" target=\"_top\" title=\"psysml:6a611645-87b6-456f-b99f-fe1a3075932c\" xlink:actuate=\"onRequest\" xlink:href=\"psysml:6a611645-87b6-456f-b99f-fe1a3075932c\" xlink:show=\"new\" xlink:title=\"psysml:6a611645-87b6-456f-b99f-fe1a3075932c\" xlink:type=\"simple\"><path d=\"M422.64,392.01 C383.73,409.54 329.43,434.01 289.87,451.84 \" fill=\"none\" id=\"E3-&gt;E2\" style=\"stroke: #383838; stroke-width: 1.0;\"/><polygon fill=\"#FFFFFF\" points=\"271.5,460.12,285.9466,445.9321,291.6983,458.696,271.5,460.12\" style=\"stroke: #383838; stroke-width: 1.0;\"/><ellipse cx=\"291.965\" cy=\"445.4137\" fill=\"#383838\" rx=\"2\" ry=\"2\" style=\"stroke: #383838; stroke-width: 1.0;\"/><ellipse cx=\"296.0734\" cy=\"454.5308\" fill=\"#383838\" rx=\"2\" ry=\"2\" style=\"stroke: #383838; stroke-width: 1.0;\"/></a><!--MD5=[185131fc0dcab0a4505a2ebe144e961b]\n",
       "link E4 to E2--><a href=\"psysml:c8f697e8-ebd5-44e8-8041-765052aa0dda\" target=\"_top\" title=\"psysml:c8f697e8-ebd5-44e8-8041-765052aa0dda\" xlink:actuate=\"onRequest\" xlink:href=\"psysml:c8f697e8-ebd5-44e8-8041-765052aa0dda\" xlink:show=\"new\" xlink:title=\"psysml:c8f697e8-ebd5-44e8-8041-765052aa0dda\" xlink:type=\"simple\"><path d=\"M309.61,392.01 C298.41,405.08 283.9,422.01 270.9,437.17 \" fill=\"none\" id=\"E4-&gt;E2\" style=\"stroke: #383838; stroke-width: 1.0;\"/><polygon fill=\"#FFFFFF\" points=\"257.63,452.66,264.6788,433.678,275.3091,442.7883,257.63,452.66\" style=\"stroke: #383838; stroke-width: 1.0;\"/><ellipse cx=\"269.9066\" cy=\"430.6515\" fill=\"#383838\" rx=\"2\" ry=\"2\" style=\"stroke: #383838; stroke-width: 1.0;\"/><ellipse cx=\"277.4996\" cy=\"437.1588\" fill=\"#383838\" rx=\"2\" ry=\"2\" style=\"stroke: #383838; stroke-width: 1.0;\"/></a><!--MD5=[15ebcb19ae302d9b601edb458606d402]\n",
       "link E5 to E2--><a href=\"psysml:2f46211a-dc33-450b-96f1-34c5430f413d\" target=\"_top\" title=\"psysml:2f46211a-dc33-450b-96f1-34c5430f413d\" xlink:actuate=\"onRequest\" xlink:href=\"psysml:2f46211a-dc33-450b-96f1-34c5430f413d\" xlink:show=\"new\" xlink:title=\"psysml:2f46211a-dc33-450b-96f1-34c5430f413d\" xlink:type=\"simple\"><path d=\"M246.76,73.1 C184.92,83.79 109.66,108.27 68.48,164 C8.23,245.55 6,306.48 60.48,392 C91.11,440.08 157.66,460.76 200.15,469.32 \" fill=\"none\" id=\"E5-&gt;E2\" style=\"stroke: #383838; stroke-width: 1.0; stroke-dasharray: 7.0,7.0;\"/><polygon fill=\"#383838\" points=\"205.2,470.31,197.1338,464.6588,200.2927,469.3514,195.6001,472.5104,205.2,470.31\" style=\"stroke: #383838; stroke-width: 1.0;\"/><text fill=\"#000000\" font-family=\"sans-serif\" font-size=\"13\" lengthAdjust=\"spacingAndGlyphs\" textLength=\"62\" x=\"26.48\" y=\"297.5669\">«subject»</text></a><!--MD5=[9120cf2e5df3bff93db8f754bbbc09b4]\n",
       "link E5 to E6--><a href=\"psysml:285bfc51-142a-40f2-bdf1-cdd7141b9b55\" target=\"_top\" title=\"psysml:285bfc51-142a-40f2-bdf1-cdd7141b9b55\" xlink:actuate=\"onRequest\" xlink:href=\"psysml:285bfc51-142a-40f2-bdf1-cdd7141b9b55\" xlink:show=\"new\" xlink:title=\"psysml:285bfc51-142a-40f2-bdf1-cdd7141b9b55\" xlink:type=\"simple\"><path d=\"M324.49,87.15 C301.25,110.57 264.53,147.55 239.3,172.98 \" fill=\"none\" id=\"E5-&gt;E6\" style=\"stroke: #383838; stroke-width: 1.0;\"/><polygon fill=\"#383838\" points=\"233.46,178.86,241.2247,175.295,236.966,171.0685,233.46,178.86\" style=\"stroke: #383838; stroke-width: 1.0;\"/><text fill=\"#000000\" font-family=\"sans-serif\" font-size=\"13\" lengthAdjust=\"spacingAndGlyphs\" textLength=\"73\" x=\"291.48\" y=\"130.0669\">«objective»</text></a><!--MD5=[452b418e7f8a40397a49b8c0a78acc5b]\n",
       "reverse link E5 to E7--><a href=\"psysml:081fa6ee-8a6f-4292-82c4-f5eb64360f97\" target=\"_top\" title=\"psysml:081fa6ee-8a6f-4292-82c4-f5eb64360f97\" xlink:actuate=\"onRequest\" xlink:href=\"psysml:081fa6ee-8a6f-4292-82c4-f5eb64360f97\" xlink:show=\"new\" xlink:title=\"psysml:081fa6ee-8a6f-4292-82c4-f5eb64360f97\" xlink:type=\"simple\"><path d=\"M367.14,98.44 C379.4,118.3 394.98,143.52 407.61,163.97 \" fill=\"none\" id=\"E5&lt;-E7\" style=\"stroke: #383838; stroke-width: 1.0;\"/><polygon fill=\"#383838\" points=\"360.16,87.15,359.9052,94.3566,366.4595,97.3636,366.7142,90.157,360.16,87.15\" style=\"stroke: #383838; stroke-width: 1.0;\"/></a><!--MD5=[f1f3f9f2fc535e6147756cb86a7f2e32]\n",
       "link E8 to E2--><a href=\"psysml:143d7cb3-4d47-41f0-bb56-6d1ae515b029\" target=\"_top\" title=\"psysml:143d7cb3-4d47-41f0-bb56-6d1ae515b029\" xlink:actuate=\"onRequest\" xlink:href=\"psysml:143d7cb3-4d47-41f0-bb56-6d1ae515b029\" xlink:show=\"new\" xlink:title=\"psysml:143d7cb3-4d47-41f0-bb56-6d1ae515b029\" xlink:type=\"simple\"><path d=\"M161.02,392.01 C173.35,405.22 189.36,422.38 203.62,437.65 \" fill=\"none\" id=\"E8-&gt;E2\" style=\"stroke: #383838; stroke-width: 1.0;\"/><polygon fill=\"#FFFFFF\" points=\"217.63,452.66,199.5521,443.5393,209.7905,433.9907,217.63,452.66\" style=\"stroke: #383838; stroke-width: 1.0;\"/><ellipse cx=\"197.1271\" cy=\"438.0067\" fill=\"#383838\" rx=\"2\" ry=\"2\" style=\"stroke: #383838; stroke-width: 1.0;\"/><ellipse cx=\"204.4402\" cy=\"431.1863\" fill=\"#383838\" rx=\"2\" ry=\"2\" style=\"stroke: #383838; stroke-width: 1.0;\"/></a><!--MD5=[dc164f5e8a733ab456ef1add180e9e34]\n",
       "reverse link E7 to E8--><a href=\"psysml:dbdbccdb-5c16-4bd3-a501-4b1c7e9ddcab\" target=\"_top\" title=\"psysml:dbdbccdb-5c16-4bd3-a501-4b1c7e9ddcab\" xlink:actuate=\"onRequest\" xlink:href=\"psysml:dbdbccdb-5c16-4bd3-a501-4b1c7e9ddcab\" xlink:show=\"new\" xlink:title=\"psysml:dbdbccdb-5c16-4bd3-a501-4b1c7e9ddcab\" xlink:type=\"simple\"><path d=\"M360.21,237.41 C358.28,238.29 356.37,239.15 354.48,240 C322.47,254.35 312.29,253.22 281.48,270 C240.11,292.53 196.1,324.58 168.46,345.81 \" fill=\"none\" id=\"E7&lt;-E8\" style=\"stroke: #383838; stroke-width: 1.0;\"/><polygon fill=\"#FFFFFF\" points=\"372.15,231.86,365.0224,230.7655,361.2708,236.9238,368.3983,238.0183,372.15,231.86\" style=\"stroke: #383838; stroke-width: 1.0;\"/></a><!--MD5=[5c3bb36fe832a92c7f0e1807dd65209d]\n",
       "link E9 to E2--><a href=\"psysml:cb3e8ea7-f115-4f34-bcd9-dd1e6ba812b8\" target=\"_top\" title=\"psysml:cb3e8ea7-f115-4f34-bcd9-dd1e6ba812b8\" xlink:actuate=\"onRequest\" xlink:href=\"psysml:cb3e8ea7-f115-4f34-bcd9-dd1e6ba812b8\" xlink:show=\"new\" xlink:title=\"psysml:cb3e8ea7-f115-4f34-bcd9-dd1e6ba812b8\" xlink:type=\"simple\"><path d=\"M298.35,315.15 C282.73,322.56 268.1,332.55 257.48,346 C238.33,370.25 234.2,405.32 234.52,432.77 \" fill=\"none\" id=\"E9-&gt;E2\" style=\"stroke: #383838; stroke-width: 1.0;\"/><polygon fill=\"#FFFFFF\" points=\"235.52,452.81,227.5786,434.1838,241.5611,433.4837,235.52,452.81\" style=\"stroke: #383838; stroke-width: 1.0;\"/><ellipse cx=\"229.291\" cy=\"428.3909\" fill=\"#383838\" rx=\"2\" ry=\"2\" style=\"stroke: #383838; stroke-width: 1.0;\"/><ellipse cx=\"239.2785\" cy=\"427.8909\" fill=\"#383838\" rx=\"2\" ry=\"2\" style=\"stroke: #383838; stroke-width: 1.0;\"/></a><!--MD5=[9ae28de373ca99bb8a1b38d63370ca7e]\n",
       "reverse link E5 to E9--><a href=\"psysml:b6df212f-8018-4500-9608-46bc28de5179\" target=\"_top\" title=\"psysml:b6df212f-8018-4500-9608-46bc28de5179\" xlink:actuate=\"onRequest\" xlink:href=\"psysml:b6df212f-8018-4500-9608-46bc28de5179\" xlink:show=\"new\" xlink:title=\"psysml:b6df212f-8018-4500-9608-46bc28de5179\" xlink:type=\"simple\"><path d=\"M423.24,92.77 C454.94,108.48 488.43,131.61 506.48,164 C522.92,193.51 524.97,211.74 506.48,240 C498.02,252.92 485.57,262.65 471.87,269.97 \" fill=\"none\" id=\"E5&lt;-E9\" style=\"stroke: #383838; stroke-width: 1.0;\"/><polygon fill=\"#FFFFFF\" points=\"411.22,87.11,414.9414,93.2867,422.0742,92.2272,418.3528,86.0505,411.22,87.11\" style=\"stroke: #383838; stroke-width: 1.0;\"/></a><!--MD5=[4c90981f523607a24625a72325ec03a0]\n",
       "@startuml\r\n",
       "skinparam monochrome true\r\n",
       "skinparam classbackgroundcolor white\r\n",
       "skinparam shadowing false\r\n",
       "skinparam wrapWidth 300\r\n",
       "hide circle\r\n",
       "\r\n",
       "package \"TradeStudyTest\" as E1  [[psysml:8952aa40-03a2-4df7-81e1-750bf2c7b589 ]]  {\r\n",
       "comp def \"Engine\" as E2  <<(T,blue)part def>> [[psysml:ba5002a0-783d-43b2-abfa-70b37f90804c ]] {\r\n",
       "}\r\n",
       "comp usage \"engine1: Engine\" as E3  <<(T,blue)part>> [[psysml:47ce73ab-2c54-4db4-9d19-7bcb338cdf44 ]] {\r\n",
       "}\r\n",
       "comp usage \"engine2: Engine\" as E4  <<(T,blue)part>> [[psysml:7dfdc806-8438-4ccb-bd71-8b6bdaa69ab8 ]] {\r\n",
       "}\r\n",
       "comp usage \"engineTradeStudy: TradeStudy\" as E5 <<analysis>> [[psysml:cd38e840-8317-467c-8230-e0f8852492a9 ]] {\r\n",
       "}\r\n",
       "comp usage \"tradeStudyObjective: MaximizeObjective\" as E6  <<(T,blue)requirement>> [[psysml:bf1db205-ea64-42b3-a829-2093a93eb81c ]] {\r\n",
       "}\r\n",
       "comp usage \"objectiveFunction\" as E7  <<(T,blue)calculation>> [[psysml:081fa6ee-8a6f-4292-82c4-f5eb64360f97 ]] {\r\n",
       "- - attributes - -\r\n",
       "result: Real\r\n",
       "}\r\n",
       "comp usage \"alternative: Engine\" as E8  <<(T,blue)part>> [[psysml:dbdbccdb-5c16-4bd3-a501-4b1c7e9ddcab ]] {\r\n",
       "}\r\n",
       "comp usage \"selectedAlternative: Engine\" as E9  <<(T,blue)part>> [[psysml:b6df212f-8018-4500-9608-46bc28de5179 ]] {\r\n",
       "}\r\n",
       "E3 - -:|> E2 [[psysml:6a611645-87b6-456f-b99f-fe1a3075932c ]] \r\n",
       "E4 - -:|> E2 [[psysml:c8f697e8-ebd5-44e8-8041-765052aa0dda ]] \r\n",
       "E5 ..> E2 [[psysml:2f46211a-dc33-450b-96f1-34c5430f413d ]] : <<subject>>\r\n",
       "E5 - ->> E6 [[psysml:285bfc51-142a-40f2-bdf1-cdd7141b9b55 ]] : <<objective>>\r\n",
       "E5 *- - E7 [[psysml:081fa6ee-8a6f-4292-82c4-f5eb64360f97 ]] \r\n",
       "E8 - -:|> E2 [[psysml:143d7cb3-4d47-41f0-bb56-6d1ae515b029 ]] \r\n",
       "E7 o- - E8 [[psysml:dbdbccdb-5c16-4bd3-a501-4b1c7e9ddcab ]] \r\n",
       "E9 - -:|> E2 [[psysml:cb3e8ea7-f115-4f34-bcd9-dd1e6ba812b8 ]] \r\n",
       "E5 o- - E9 [[psysml:b6df212f-8018-4500-9608-46bc28de5179 ]] \r\n",
       "}\r\n",
       "@enduml\r\n",
       "\n",
       "PlantUML version 1.2020.13(Sat Jun 13 12:26:38 UTC 2020)\n",
       "(EPL source distribution)\n",
       "Java Runtime: OpenJDK Runtime Environment\n",
       "JVM: OpenJDK 64-Bit Server VM\n",
       "Default Encoding: UTF-8\n",
       "Language: en\n",
       "Country: null\n",
       "--></g></svg>"
      ]
     },
     "execution_count": 38,
     "metadata": {},
     "output_type": "execute_result"
    }
   ],
   "source": [
    "%viz --style=\"DEFAULT\" --view=\"Tree\" \"TradeStudyTest\""
   ]
  },
  {
   "cell_type": "code",
   "execution_count": 39,
   "id": "affected-operations",
   "metadata": {
    "execution": {
     "iopub.execute_input": "2021-03-25T09:29:31.245790Z",
     "iopub.status.busy": "2021-03-25T09:29:31.245440Z",
     "iopub.status.idle": "2021-03-25T09:29:31.253368Z",
     "shell.execute_reply": "2021-03-25T09:29:31.253778Z"
    }
   },
   "outputs": [
    {
     "data": {
      "image/svg+xml": [
       "<?xml version=\"1.0\" encoding=\"UTF-8\" standalone=\"no\"?><svg xmlns=\"http://www.w3.org/2000/svg\" xmlns:xlink=\"http://www.w3.org/1999/xlink\" contentScriptType=\"application/ecmascript\" contentStyleType=\"text/css\" height=\"12px\" preserveAspectRatio=\"none\" style=\"width:12px;height:12px;\" version=\"1.1\" viewBox=\"0 0 12 12\" width=\"12px\" zoomAndPan=\"magnify\"><defs/><g><!--MD5=[c5f280e076d0d61ccf4b0f27871bda1d]\n",
       "@startuml\r\n",
       "skinparam monochrome true\r\n",
       "skinparam classbackgroundcolor white\r\n",
       "skinparam shadowing false\r\n",
       "skinparam wrapWidth 300\r\n",
       "hide circle\r\n",
       "\r\n",
       "@enduml\r\n",
       "\n",
       "PlantUML version 1.2020.13(Sat Jun 13 12:26:38 UTC 2020)\n",
       "(EPL source distribution)\n",
       "Java Runtime: OpenJDK Runtime Environment\n",
       "JVM: OpenJDK 64-Bit Server VM\n",
       "Default Encoding: UTF-8\n",
       "Language: en\n",
       "Country: null\n",
       "--></g></svg>"
      ]
     },
     "execution_count": 39,
     "metadata": {},
     "output_type": "execute_result"
    }
   ],
   "source": [
    "%viz --style=\"DEFAULT\" --view=\"State\" \"TradeStudyTest\""
   ]
  },
  {
   "cell_type": "code",
   "execution_count": 40,
   "id": "phantom-invite",
   "metadata": {
    "execution": {
     "iopub.execute_input": "2021-03-25T09:29:31.305922Z",
     "iopub.status.busy": "2021-03-25T09:29:31.305417Z",
     "iopub.status.idle": "2021-03-25T09:29:31.362827Z",
     "shell.execute_reply": "2021-03-25T09:29:31.362271Z"
    }
   },
   "outputs": [
    {
     "data": {
      "image/svg+xml": [
       "<?xml version=\"1.0\" encoding=\"UTF-8\" standalone=\"no\"?><svg xmlns=\"http://www.w3.org/2000/svg\" xmlns:xlink=\"http://www.w3.org/1999/xlink\" contentScriptType=\"application/ecmascript\" contentStyleType=\"text/css\" height=\"112px\" preserveAspectRatio=\"none\" style=\"width:438px;height:112px;\" version=\"1.1\" viewBox=\"0 0 438 112\" width=\"438px\" zoomAndPan=\"magnify\"><defs/><g><!--MD5=[fbc87193dbaf4d95561dea2c320d4a47]\n",
       "cluster E1--><a href=\"psysml:8952aa40-03a2-4df7-81e1-750bf2c7b589\" target=\"_top\" title=\"psysml:8952aa40-03a2-4df7-81e1-750bf2c7b589\" xlink:actuate=\"onRequest\" xlink:href=\"psysml:8952aa40-03a2-4df7-81e1-750bf2c7b589\" xlink:show=\"new\" xlink:title=\"psysml:8952aa40-03a2-4df7-81e1-750bf2c7b589\" xlink:type=\"simple\"><polygon fill=\"#FFFFFF\" points=\"16,6,148,6,155,28.2969,416,28.2969,416,100,16,100,16,6\" style=\"stroke: #000000; stroke-width: 1.5;\"/><line style=\"stroke: #000000; stroke-width: 1.5;\" x1=\"16\" x2=\"155\" y1=\"28.2969\" y2=\"28.2969\"/><text fill=\"#000000\" font-family=\"sans-serif\" font-size=\"14\" font-weight=\"bold\" lengthAdjust=\"spacingAndGlyphs\" textLength=\"126\" x=\"20\" y=\"20.9951\">TradeStudyTest</text></a><g id=\"E1.E2\"><a href=\"psysml:ba5002a0-783d-43b2-abfa-70b37f90804c\" target=\"_top\" title=\"psysml:ba5002a0-783d-43b2-abfa-70b37f90804c\" xlink:actuate=\"onRequest\" xlink:href=\"psysml:ba5002a0-783d-43b2-abfa-70b37f90804c\" xlink:show=\"new\" xlink:title=\"psysml:ba5002a0-783d-43b2-abfa-70b37f90804c\" xlink:type=\"simple\"><rect fill=\"#FFFFFF\" height=\"42.9375\" id=\"E2\" style=\"stroke: #383838; stroke-width: 1.5;\" width=\"71\" x=\"328.5\" y=\"41\"/><rect fill=\"#F8F8F8\" height=\"37.9375\" style=\"stroke: #383838; stroke-width: 1.5;\" width=\"71\" x=\"328.5\" y=\"41\"/><text fill=\"#000000\" font-family=\"sans-serif\" font-size=\"12\" font-style=\"italic\" lengthAdjust=\"spacingAndGlyphs\" textLength=\"64\" x=\"332\" y=\"57.1387\">«part def»</text><text fill=\"#000000\" font-family=\"sans-serif\" font-size=\"12\" lengthAdjust=\"spacingAndGlyphs\" textLength=\"43\" x=\"342.5\" y=\"71.1074\">Engine</text></a></g><g id=\"E1.E3\"><a href=\"psysml:47ce73ab-2c54-4db4-9d19-7bcb338cdf44\" target=\"_top\" title=\"psysml:47ce73ab-2c54-4db4-9d19-7bcb338cdf44\" xlink:actuate=\"onRequest\" xlink:href=\"psysml:47ce73ab-2c54-4db4-9d19-7bcb338cdf44\" xlink:show=\"new\" xlink:title=\"psysml:47ce73ab-2c54-4db4-9d19-7bcb338cdf44\" xlink:type=\"simple\"><rect fill=\"#FFFFFF\" height=\"40\" id=\"E3\" rx=\"10\" ry=\"10\" style=\"stroke: #383838; stroke-width: 1.5;\" width=\"113\" x=\"180.5\" y=\"42.5\"/><rect fill=\"#F8F8F8\" height=\"23.9688\" rx=\"10\" ry=\"10\" style=\"stroke: #F8F8F8; stroke-width: 1.5;\" width=\"113\" x=\"180.5\" y=\"42.5\"/><rect fill=\"#F8F8F8\" height=\"10\" style=\"stroke: #F8F8F8; stroke-width: 1.5;\" width=\"113\" x=\"180.5\" y=\"56.4688\"/><rect fill=\"none\" height=\"40\" id=\"E3\" rx=\"10\" ry=\"10\" style=\"stroke: #383838; stroke-width: 1.5;\" width=\"113\" x=\"180.5\" y=\"42.5\"/><text fill=\"#000000\" font-family=\"sans-serif\" font-size=\"12\" lengthAdjust=\"spacingAndGlyphs\" textLength=\"102\" x=\"186\" y=\"58.6387\">engine1: Engine</text></a></g><g id=\"E1.E4\"><a href=\"psysml:7dfdc806-8438-4ccb-bd71-8b6bdaa69ab8\" target=\"_top\" title=\"psysml:7dfdc806-8438-4ccb-bd71-8b6bdaa69ab8\" xlink:actuate=\"onRequest\" xlink:href=\"psysml:7dfdc806-8438-4ccb-bd71-8b6bdaa69ab8\" xlink:show=\"new\" xlink:title=\"psysml:7dfdc806-8438-4ccb-bd71-8b6bdaa69ab8\" xlink:type=\"simple\"><rect fill=\"#FFFFFF\" height=\"40\" id=\"E4\" rx=\"10\" ry=\"10\" style=\"stroke: #383838; stroke-width: 1.5;\" width=\"113\" x=\"32.5\" y=\"42.5\"/><rect fill=\"#F8F8F8\" height=\"23.9688\" rx=\"10\" ry=\"10\" style=\"stroke: #F8F8F8; stroke-width: 1.5;\" width=\"113\" x=\"32.5\" y=\"42.5\"/><rect fill=\"#F8F8F8\" height=\"10\" style=\"stroke: #F8F8F8; stroke-width: 1.5;\" width=\"113\" x=\"32.5\" y=\"56.4688\"/><rect fill=\"none\" height=\"40\" id=\"E4\" rx=\"10\" ry=\"10\" style=\"stroke: #383838; stroke-width: 1.5;\" width=\"113\" x=\"32.5\" y=\"42.5\"/><text fill=\"#000000\" font-family=\"sans-serif\" font-size=\"12\" lengthAdjust=\"spacingAndGlyphs\" textLength=\"102\" x=\"38\" y=\"58.6387\">engine2: Engine</text></a></g><!--MD5=[1fa34f8f98f3946b5c46a9f7029f2ea8]\n",
       "@startuml\r\n",
       "skinparam ranksep 8\r\n",
       "skinparam rectangle {\r\n",
       " backgroundColor<<block>> LightGreen\r\n",
       "}\r\n",
       "skinparam monochrome true\r\n",
       "skinparam classbackgroundcolor white\r\n",
       "skinparam shadowing false\r\n",
       "skinparam wrapWidth 300\r\n",
       "hide circle\r\n",
       "\r\n",
       "package \"TradeStudyTest\" as E1  [[psysml:8952aa40-03a2-4df7-81e1-750bf2c7b589 ]]  {\r\n",
       "rec def \"Engine\" as E2  <<(T,blue)part def>> [[psysml:ba5002a0-783d-43b2-abfa-70b37f90804c ]] {\r\n",
       "}\r\n",
       "rec usage \"engine1: Engine\" as E3  [[psysml:47ce73ab-2c54-4db4-9d19-7bcb338cdf44 ]] {\r\n",
       "}\r\n",
       "rec usage \"engine2: Engine\" as E4  [[psysml:7dfdc806-8438-4ccb-bd71-8b6bdaa69ab8 ]] {\r\n",
       "}\r\n",
       "}\r\n",
       "@enduml\r\n",
       "\n",
       "PlantUML version 1.2020.13(Sat Jun 13 12:26:38 UTC 2020)\n",
       "(EPL source distribution)\n",
       "Java Runtime: OpenJDK Runtime Environment\n",
       "JVM: OpenJDK 64-Bit Server VM\n",
       "Default Encoding: UTF-8\n",
       "Language: en\n",
       "Country: null\n",
       "--></g></svg>"
      ]
     },
     "execution_count": 40,
     "metadata": {},
     "output_type": "execute_result"
    }
   ],
   "source": [
    "%viz --style=\"DEFAULT\" --view=\"Interconnection\" \"TradeStudyTest\""
   ]
  },
  {
   "cell_type": "code",
   "execution_count": 41,
   "id": "physical-invitation",
   "metadata": {
    "execution": {
     "iopub.execute_input": "2021-03-25T09:29:31.413121Z",
     "iopub.status.busy": "2021-03-25T09:29:31.412749Z",
     "iopub.status.idle": "2021-03-25T09:29:31.495062Z",
     "shell.execute_reply": "2021-03-25T09:29:31.494713Z"
    }
   },
   "outputs": [
    {
     "data": {
      "image/svg+xml": [
       "<?xml version=\"1.0\" encoding=\"UTF-8\" standalone=\"no\"?><svg xmlns=\"http://www.w3.org/2000/svg\" xmlns:xlink=\"http://www.w3.org/1999/xlink\" contentScriptType=\"application/ecmascript\" contentStyleType=\"text/css\" height=\"128px\" preserveAspectRatio=\"none\" style=\"width:180px;height:128px;\" version=\"1.1\" viewBox=\"0 0 180 128\" width=\"180px\" zoomAndPan=\"magnify\"><defs/><g><!--MD5=[fbc87193dbaf4d95561dea2c320d4a47]\n",
       "cluster E1--><a href=\"psysml:cd38e840-8317-467c-8230-e0f8852492a9\" target=\"_top\" title=\"psysml:cd38e840-8317-467c-8230-e0f8852492a9\" xlink:actuate=\"onRequest\" xlink:href=\"psysml:cd38e840-8317-467c-8230-e0f8852492a9\" xlink:show=\"new\" xlink:title=\"psysml:cd38e840-8317-467c-8230-e0f8852492a9\" xlink:type=\"simple\"><rect fill=\"#FFFFFF\" height=\"110\" id=\"E1\" rx=\"10\" ry=\"10\" style=\"stroke: #383838; stroke-width: 1.5;\" width=\"161\" x=\"7\" y=\"7\"/><rect fill=\"#F8F8F8\" height=\"37.9375\" rx=\"10\" ry=\"10\" style=\"stroke: #F8F8F8; stroke-width: 1.5;\" width=\"161\" x=\"7\" y=\"7\"/><rect fill=\"#F8F8F8\" height=\"10\" style=\"stroke: #F8F8F8; stroke-width: 1.5;\" width=\"161\" x=\"7\" y=\"34.9375\"/><rect fill=\"none\" height=\"110\" id=\"E1\" rx=\"10\" ry=\"10\" style=\"stroke: #383838; stroke-width: 1.5;\" width=\"161\" x=\"7\" y=\"7\"/><text fill=\"#000000\" font-family=\"sans-serif\" font-size=\"12\" font-style=\"italic\" lengthAdjust=\"spacingAndGlyphs\" textLength=\"64\" x=\"55.5\" y=\"23.1387\">«analysis»</text><text fill=\"#000000\" font-family=\"sans-serif\" font-size=\"12\" lengthAdjust=\"spacingAndGlyphs\" textLength=\"114\" x=\"30.5\" y=\"37.1074\">engineTradeStudy</text><line style=\"stroke: #383838; stroke-width: 1.0;\" x1=\"7\" x2=\"168\" y1=\"44.9375\" y2=\"44.9375\"/></a><g id=\"E1.E2\"><a href=\"psysml:081fa6ee-8a6f-4292-82c4-f5eb64360f97\" target=\"_top\" title=\"psysml:081fa6ee-8a6f-4292-82c4-f5eb64360f97\" xlink:actuate=\"onRequest\" xlink:href=\"psysml:081fa6ee-8a6f-4292-82c4-f5eb64360f97\" xlink:show=\"new\" xlink:title=\"psysml:081fa6ee-8a6f-4292-82c4-f5eb64360f97\" xlink:type=\"simple\"><rect fill=\"#FFFFFF\" height=\"42.9375\" id=\"E2\" rx=\"10\" ry=\"10\" style=\"stroke: #383838; stroke-width: 1.5;\" width=\"121\" x=\"26.5\" y=\"58\"/><rect fill=\"#F8F8F8\" height=\"37.9375\" rx=\"10\" ry=\"10\" style=\"stroke: #F8F8F8; stroke-width: 1.5;\" width=\"121\" x=\"26.5\" y=\"58\"/><rect fill=\"#F8F8F8\" height=\"10\" style=\"stroke: #F8F8F8; stroke-width: 1.5;\" width=\"121\" x=\"26.5\" y=\"85.9375\"/><rect fill=\"none\" height=\"42.9375\" id=\"E2\" rx=\"10\" ry=\"10\" style=\"stroke: #383838; stroke-width: 1.5;\" width=\"121\" x=\"26.5\" y=\"58\"/><text fill=\"#000000\" font-family=\"sans-serif\" font-size=\"12\" font-style=\"italic\" lengthAdjust=\"spacingAndGlyphs\" textLength=\"82\" x=\"46\" y=\"74.1387\">«calculation»</text><text fill=\"#000000\" font-family=\"sans-serif\" font-size=\"12\" lengthAdjust=\"spacingAndGlyphs\" textLength=\"110\" x=\"32\" y=\"88.1074\">objectiveFunction</text></a></g><!--MD5=[8c7439ce3b97a7da2c30bbccf62d18d3]\n",
       "@startuml\r\n",
       "skinparam ranksep 8\r\n",
       "skinparam monochrome true\r\n",
       "skinparam classbackgroundcolor white\r\n",
       "skinparam shadowing false\r\n",
       "skinparam wrapWidth 300\r\n",
       "hide circle\r\n",
       "\r\n",
       "rec usage \"engineTradeStudy\" as E1 <<analysis>> [[psysml:cd38e840-8317-467c-8230-e0f8852492a9 ]] {\r\n",
       "rec usage \"objectiveFunction\" as E2  <<(T,blue)calculation>> [[psysml:081fa6ee-8a6f-4292-82c4-f5eb64360f97 ]] {\r\n",
       "}\r\n",
       "\r\n",
       "}\r\n",
       "\r\n",
       "@enduml\r\n",
       "\n",
       "PlantUML version 1.2020.13(Sat Jun 13 12:26:38 UTC 2020)\n",
       "(EPL source distribution)\n",
       "Java Runtime: OpenJDK Runtime Environment\n",
       "JVM: OpenJDK 64-Bit Server VM\n",
       "Default Encoding: UTF-8\n",
       "Language: en\n",
       "Country: null\n",
       "--></g></svg>"
      ]
     },
     "execution_count": 41,
     "metadata": {},
     "output_type": "execute_result"
    }
   ],
   "source": [
    "%viz --style=\"DEFAULT\" --view=\"Action\" \"TradeStudyTest\""
   ]
  },
  {
   "cell_type": "code",
   "execution_count": 42,
   "id": "incorporate-combination",
   "metadata": {
    "execution": {
     "iopub.execute_input": "2021-03-25T09:29:31.546077Z",
     "iopub.status.busy": "2021-03-25T09:29:31.545624Z",
     "iopub.status.idle": "2021-03-25T09:29:31.856663Z",
     "shell.execute_reply": "2021-03-25T09:29:31.854922Z"
    }
   },
   "outputs": [
    {
     "data": {
      "image/svg+xml": [
       "<?xml version=\"1.0\" encoding=\"UTF-8\" standalone=\"no\"?><svg xmlns=\"http://www.w3.org/2000/svg\" xmlns:xlink=\"http://www.w3.org/1999/xlink\" contentScriptType=\"application/ecmascript\" contentStyleType=\"text/css\" height=\"527px\" preserveAspectRatio=\"none\" style=\"width:563px;height:527px;\" version=\"1.1\" viewBox=\"0 0 563 527\" width=\"563px\" zoomAndPan=\"magnify\"><defs/><g><!--MD5=[fbc87193dbaf4d95561dea2c320d4a47]\n",
       "cluster E1--><a href=\"psysml:8952aa40-03a2-4df7-81e1-750bf2c7b589\" target=\"_top\" title=\"psysml:8952aa40-03a2-4df7-81e1-750bf2c7b589\" xlink:actuate=\"onRequest\" xlink:href=\"psysml:8952aa40-03a2-4df7-81e1-750bf2c7b589\" xlink:show=\"new\" xlink:title=\"psysml:8952aa40-03a2-4df7-81e1-750bf2c7b589\" xlink:type=\"simple\"><polygon fill=\"#FFFFFF\" points=\"25.48,6,157.48,6,164.48,28.2969,541.48,28.2969,541.48,515,25.48,515,25.48,6\" style=\"stroke: #000000; stroke-width: 1.5;\"/><line style=\"stroke: #000000; stroke-width: 1.5;\" x1=\"25.48\" x2=\"164.48\" y1=\"28.2969\" y2=\"28.2969\"/><text fill=\"#000000\" font-family=\"sans-serif\" font-size=\"14\" font-weight=\"bold\" lengthAdjust=\"spacingAndGlyphs\" textLength=\"126\" x=\"29.48\" y=\"20.9951\">TradeStudyTest</text></a><!--MD5=[b4997ac47864f28c2f74865a473b2911]\n",
       "class E2--><a href=\"psysml:ba5002a0-783d-43b2-abfa-70b37f90804c\" target=\"_top\" title=\"psysml:ba5002a0-783d-43b2-abfa-70b37f90804c\" xlink:actuate=\"onRequest\" xlink:href=\"psysml:ba5002a0-783d-43b2-abfa-70b37f90804c\" xlink:show=\"new\" xlink:title=\"psysml:ba5002a0-783d-43b2-abfa-70b37f90804c\" xlink:type=\"simple\"><rect fill=\"#FFFFFF\" height=\"45.9375\" id=\"E2\" style=\"stroke: #383838; stroke-width: 1.5;\" width=\"66\" x=\"205.48\" y=\"453\"/><text fill=\"#000000\" font-family=\"sans-serif\" font-size=\"12\" font-style=\"italic\" lengthAdjust=\"spacingAndGlyphs\" textLength=\"64\" x=\"206.48\" y=\"469.1387\">«part def»</text><text fill=\"#000000\" font-family=\"sans-serif\" font-size=\"12\" lengthAdjust=\"spacingAndGlyphs\" textLength=\"43\" x=\"216.98\" y=\"483.1074\">Engine</text><line style=\"stroke: #383838; stroke-width: 1.5;\" x1=\"206.48\" x2=\"270.48\" y1=\"490.9375\" y2=\"490.9375\"/></a><!--MD5=[09b614a08d8cba4a07c9adeb5e0fee81]\n",
       "class E3--><a href=\"psysml:47ce73ab-2c54-4db4-9d19-7bcb338cdf44\" target=\"_top\" title=\"psysml:47ce73ab-2c54-4db4-9d19-7bcb338cdf44\" xlink:actuate=\"onRequest\" xlink:href=\"psysml:47ce73ab-2c54-4db4-9d19-7bcb338cdf44\" xlink:show=\"new\" xlink:title=\"psysml:47ce73ab-2c54-4db4-9d19-7bcb338cdf44\" xlink:type=\"simple\"><rect fill=\"#FFFFFF\" height=\"45.9375\" id=\"E3\" rx=\"10\" ry=\"10\" style=\"stroke: #383838; stroke-width: 1.5;\" width=\"108\" x=\"417.48\" y=\"346\"/><text fill=\"#000000\" font-family=\"sans-serif\" font-size=\"12\" font-style=\"italic\" lengthAdjust=\"spacingAndGlyphs\" textLength=\"40\" x=\"451.48\" y=\"362.1387\">«part»</text><text fill=\"#000000\" font-family=\"sans-serif\" font-size=\"12\" lengthAdjust=\"spacingAndGlyphs\" textLength=\"102\" x=\"420.48\" y=\"376.1074\">engine1: Engine</text><line style=\"stroke: #383838; stroke-width: 1.5;\" x1=\"418.48\" x2=\"524.48\" y1=\"383.9375\" y2=\"383.9375\"/></a><!--MD5=[ebbe1d658d1005bcc118a6aa81145e00]\n",
       "class E4--><a href=\"psysml:7dfdc806-8438-4ccb-bd71-8b6bdaa69ab8\" target=\"_top\" title=\"psysml:7dfdc806-8438-4ccb-bd71-8b6bdaa69ab8\" xlink:actuate=\"onRequest\" xlink:href=\"psysml:7dfdc806-8438-4ccb-bd71-8b6bdaa69ab8\" xlink:show=\"new\" xlink:title=\"psysml:7dfdc806-8438-4ccb-bd71-8b6bdaa69ab8\" xlink:type=\"simple\"><rect fill=\"#FFFFFF\" height=\"45.9375\" id=\"E4\" rx=\"10\" ry=\"10\" style=\"stroke: #383838; stroke-width: 1.5;\" width=\"108\" x=\"274.48\" y=\"346\"/><text fill=\"#000000\" font-family=\"sans-serif\" font-size=\"12\" font-style=\"italic\" lengthAdjust=\"spacingAndGlyphs\" textLength=\"40\" x=\"308.48\" y=\"362.1387\">«part»</text><text fill=\"#000000\" font-family=\"sans-serif\" font-size=\"12\" lengthAdjust=\"spacingAndGlyphs\" textLength=\"102\" x=\"277.48\" y=\"376.1074\">engine2: Engine</text><line style=\"stroke: #383838; stroke-width: 1.5;\" x1=\"275.48\" x2=\"381.48\" y1=\"383.9375\" y2=\"383.9375\"/></a><!--MD5=[270fce915f116d4de14055a7c1d9a0f3]\n",
       "class E5--><a href=\"psysml:cd38e840-8317-467c-8230-e0f8852492a9\" target=\"_top\" title=\"psysml:cd38e840-8317-467c-8230-e0f8852492a9\" xlink:actuate=\"onRequest\" xlink:href=\"psysml:cd38e840-8317-467c-8230-e0f8852492a9\" xlink:show=\"new\" xlink:title=\"psysml:cd38e840-8317-467c-8230-e0f8852492a9\" xlink:type=\"simple\"><rect fill=\"#FFFFFF\" height=\"45.9375\" id=\"E5\" rx=\"10\" ry=\"10\" style=\"stroke: #383838; stroke-width: 1.5;\" width=\"199\" x=\"246.98\" y=\"41\"/><text fill=\"#000000\" font-family=\"sans-serif\" font-size=\"12\" font-style=\"italic\" lengthAdjust=\"spacingAndGlyphs\" textLength=\"64\" x=\"314.48\" y=\"57.1387\">«analysis»</text><text fill=\"#000000\" font-family=\"sans-serif\" font-size=\"12\" lengthAdjust=\"spacingAndGlyphs\" textLength=\"193\" x=\"249.98\" y=\"71.1074\">engineTradeStudy: TradeStudy</text><line style=\"stroke: #383838; stroke-width: 1.5;\" x1=\"247.98\" x2=\"444.98\" y1=\"78.9375\" y2=\"78.9375\"/></a><!--MD5=[60a26617385b1d2d0262a64233df1f8d]\n",
       "class E6--><a href=\"psysml:bf1db205-ea64-42b3-a829-2093a93eb81c\" target=\"_top\" title=\"psysml:bf1db205-ea64-42b3-a829-2093a93eb81c\" xlink:actuate=\"onRequest\" xlink:href=\"psysml:bf1db205-ea64-42b3-a829-2093a93eb81c\" xlink:show=\"new\" xlink:title=\"psysml:bf1db205-ea64-42b3-a829-2093a93eb81c\" xlink:type=\"simple\"><rect fill=\"#FFFFFF\" height=\"45.9375\" id=\"E6\" rx=\"10\" ry=\"10\" style=\"stroke: #383838; stroke-width: 1.5;\" width=\"251\" x=\"85.98\" y=\"179\"/><text fill=\"#000000\" font-family=\"sans-serif\" font-size=\"12\" font-style=\"italic\" lengthAdjust=\"spacingAndGlyphs\" textLength=\"91\" x=\"165.98\" y=\"195.1387\">«requirement»</text><text fill=\"#000000\" font-family=\"sans-serif\" font-size=\"12\" lengthAdjust=\"spacingAndGlyphs\" textLength=\"245\" x=\"88.98\" y=\"209.1074\">tradeStudyObjective: MaximizeObjective</text><line style=\"stroke: #383838; stroke-width: 1.5;\" x1=\"86.98\" x2=\"335.98\" y1=\"216.9375\" y2=\"216.9375\"/></a><!--MD5=[2156ba9850f5573cc1fc38a6a4b2f02b]\n",
       "class E7--><a href=\"psysml:081fa6ee-8a6f-4292-82c4-f5eb64360f97\" target=\"_top\" title=\"psysml:081fa6ee-8a6f-4292-82c4-f5eb64360f97\" xlink:actuate=\"onRequest\" xlink:href=\"psysml:081fa6ee-8a6f-4292-82c4-f5eb64360f97\" xlink:show=\"new\" xlink:title=\"psysml:081fa6ee-8a6f-4292-82c4-f5eb64360f97\" xlink:type=\"simple\"><rect fill=\"#FFFFFF\" height=\"75.5469\" id=\"E7\" rx=\"10\" ry=\"10\" style=\"stroke: #383838; stroke-width: 1.5;\" width=\"116\" x=\"372.48\" y=\"164\"/><text fill=\"#000000\" font-family=\"sans-serif\" font-size=\"12\" font-style=\"italic\" lengthAdjust=\"spacingAndGlyphs\" textLength=\"82\" x=\"389.48\" y=\"180.1387\">«calculation»</text><text fill=\"#000000\" font-family=\"sans-serif\" font-size=\"12\" lengthAdjust=\"spacingAndGlyphs\" textLength=\"110\" x=\"375.48\" y=\"194.1074\">objectiveFunction</text><line style=\"stroke: #383838; stroke-width: 1.5;\" x1=\"373.48\" x2=\"487.48\" y1=\"201.9375\" y2=\"201.9375\"/><text fill=\"#000000\" font-family=\"sans-serif\" font-size=\"11\" lengthAdjust=\"spacingAndGlyphs\" textLength=\"65\" x=\"378.48\" y=\"232.9526\">result: Real</text><line style=\"stroke: #383838; stroke-width: 1.0;\" x1=\"373.48\" x2=\"402.98\" y1=\"216.3398\" y2=\"216.3398\"/><text fill=\"#000000\" font-family=\"sans-serif\" font-size=\"11\" lengthAdjust=\"spacingAndGlyphs\" textLength=\"55\" x=\"402.98\" y=\"219.6479\">attributes</text><line style=\"stroke: #383838; stroke-width: 1.0;\" x1=\"457.98\" x2=\"487.48\" y1=\"216.3398\" y2=\"216.3398\"/></a><!--MD5=[b9389687b975829384b498ac4b7476b2]\n",
       "class E8--><a href=\"psysml:dbdbccdb-5c16-4bd3-a501-4b1c7e9ddcab\" target=\"_top\" title=\"psysml:dbdbccdb-5c16-4bd3-a501-4b1c7e9ddcab\" xlink:actuate=\"onRequest\" xlink:href=\"psysml:dbdbccdb-5c16-4bd3-a501-4b1c7e9ddcab\" xlink:show=\"new\" xlink:title=\"psysml:dbdbccdb-5c16-4bd3-a501-4b1c7e9ddcab\" xlink:type=\"simple\"><rect fill=\"#FFFFFF\" height=\"45.9375\" id=\"E8\" rx=\"10\" ry=\"10\" style=\"stroke: #383838; stroke-width: 1.5;\" width=\"124\" x=\"78.48\" y=\"346\"/><text fill=\"#000000\" font-family=\"sans-serif\" font-size=\"12\" font-style=\"italic\" lengthAdjust=\"spacingAndGlyphs\" textLength=\"40\" x=\"120.48\" y=\"362.1387\">«part»</text><text fill=\"#000000\" font-family=\"sans-serif\" font-size=\"12\" lengthAdjust=\"spacingAndGlyphs\" textLength=\"118\" x=\"81.48\" y=\"376.1074\">alternative: Engine</text><line style=\"stroke: #383838; stroke-width: 1.5;\" x1=\"79.48\" x2=\"201.48\" y1=\"383.9375\" y2=\"383.9375\"/></a><!--MD5=[fd4143e9d270a159db93a4ea2a975926]\n",
       "class E9--><a href=\"psysml:b6df212f-8018-4500-9608-46bc28de5179\" target=\"_top\" title=\"psysml:b6df212f-8018-4500-9608-46bc28de5179\" xlink:actuate=\"onRequest\" xlink:href=\"psysml:b6df212f-8018-4500-9608-46bc28de5179\" xlink:show=\"new\" xlink:title=\"psysml:b6df212f-8018-4500-9608-46bc28de5179\" xlink:type=\"simple\"><rect fill=\"#FFFFFF\" height=\"45.9375\" id=\"E9\" rx=\"10\" ry=\"10\" style=\"stroke: #383838; stroke-width: 1.5;\" width=\"178\" x=\"298.48\" y=\"270\"/><text fill=\"#000000\" font-family=\"sans-serif\" font-size=\"12\" font-style=\"italic\" lengthAdjust=\"spacingAndGlyphs\" textLength=\"40\" x=\"367.48\" y=\"286.1387\">«part»</text><text fill=\"#000000\" font-family=\"sans-serif\" font-size=\"12\" lengthAdjust=\"spacingAndGlyphs\" textLength=\"172\" x=\"301.48\" y=\"300.1074\">selectedAlternative: Engine</text><line style=\"stroke: #383838; stroke-width: 1.5;\" x1=\"299.48\" x2=\"475.48\" y1=\"307.9375\" y2=\"307.9375\"/></a><!--MD5=[05d275557350bfb9b23a4ef7222b4c39]\n",
       "link E3 to E2--><a href=\"psysml:6a611645-87b6-456f-b99f-fe1a3075932c\" target=\"_top\" title=\"psysml:6a611645-87b6-456f-b99f-fe1a3075932c\" xlink:actuate=\"onRequest\" xlink:href=\"psysml:6a611645-87b6-456f-b99f-fe1a3075932c\" xlink:show=\"new\" xlink:title=\"psysml:6a611645-87b6-456f-b99f-fe1a3075932c\" xlink:type=\"simple\"><path d=\"M422.64,392.01 C383.73,409.54 329.43,434.01 289.87,451.84 \" fill=\"none\" id=\"E3-&gt;E2\" style=\"stroke: #383838; stroke-width: 1.0;\"/><polygon fill=\"#FFFFFF\" points=\"271.5,460.12,285.9466,445.9321,291.6983,458.696,271.5,460.12\" style=\"stroke: #383838; stroke-width: 1.0;\"/><ellipse cx=\"291.965\" cy=\"445.4137\" fill=\"#383838\" rx=\"2\" ry=\"2\" style=\"stroke: #383838; stroke-width: 1.0;\"/><ellipse cx=\"296.0734\" cy=\"454.5308\" fill=\"#383838\" rx=\"2\" ry=\"2\" style=\"stroke: #383838; stroke-width: 1.0;\"/></a><!--MD5=[185131fc0dcab0a4505a2ebe144e961b]\n",
       "link E4 to E2--><a href=\"psysml:c8f697e8-ebd5-44e8-8041-765052aa0dda\" target=\"_top\" title=\"psysml:c8f697e8-ebd5-44e8-8041-765052aa0dda\" xlink:actuate=\"onRequest\" xlink:href=\"psysml:c8f697e8-ebd5-44e8-8041-765052aa0dda\" xlink:show=\"new\" xlink:title=\"psysml:c8f697e8-ebd5-44e8-8041-765052aa0dda\" xlink:type=\"simple\"><path d=\"M309.61,392.01 C298.41,405.08 283.9,422.01 270.9,437.17 \" fill=\"none\" id=\"E4-&gt;E2\" style=\"stroke: #383838; stroke-width: 1.0;\"/><polygon fill=\"#FFFFFF\" points=\"257.63,452.66,264.6788,433.678,275.3091,442.7883,257.63,452.66\" style=\"stroke: #383838; stroke-width: 1.0;\"/><ellipse cx=\"269.9066\" cy=\"430.6515\" fill=\"#383838\" rx=\"2\" ry=\"2\" style=\"stroke: #383838; stroke-width: 1.0;\"/><ellipse cx=\"277.4996\" cy=\"437.1588\" fill=\"#383838\" rx=\"2\" ry=\"2\" style=\"stroke: #383838; stroke-width: 1.0;\"/></a><!--MD5=[15ebcb19ae302d9b601edb458606d402]\n",
       "link E5 to E2--><a href=\"psysml:2f46211a-dc33-450b-96f1-34c5430f413d\" target=\"_top\" title=\"psysml:2f46211a-dc33-450b-96f1-34c5430f413d\" xlink:actuate=\"onRequest\" xlink:href=\"psysml:2f46211a-dc33-450b-96f1-34c5430f413d\" xlink:show=\"new\" xlink:title=\"psysml:2f46211a-dc33-450b-96f1-34c5430f413d\" xlink:type=\"simple\"><path d=\"M246.76,73.1 C184.92,83.79 109.66,108.27 68.48,164 C8.23,245.55 6,306.48 60.48,392 C91.11,440.08 157.66,460.76 200.15,469.32 \" fill=\"none\" id=\"E5-&gt;E2\" style=\"stroke: #383838; stroke-width: 1.0; stroke-dasharray: 7.0,7.0;\"/><polygon fill=\"#383838\" points=\"205.2,470.31,197.1338,464.6588,200.2927,469.3514,195.6001,472.5104,205.2,470.31\" style=\"stroke: #383838; stroke-width: 1.0;\"/><text fill=\"#000000\" font-family=\"sans-serif\" font-size=\"13\" lengthAdjust=\"spacingAndGlyphs\" textLength=\"62\" x=\"26.48\" y=\"297.5669\">«subject»</text></a><!--MD5=[9120cf2e5df3bff93db8f754bbbc09b4]\n",
       "link E5 to E6--><a href=\"psysml:285bfc51-142a-40f2-bdf1-cdd7141b9b55\" target=\"_top\" title=\"psysml:285bfc51-142a-40f2-bdf1-cdd7141b9b55\" xlink:actuate=\"onRequest\" xlink:href=\"psysml:285bfc51-142a-40f2-bdf1-cdd7141b9b55\" xlink:show=\"new\" xlink:title=\"psysml:285bfc51-142a-40f2-bdf1-cdd7141b9b55\" xlink:type=\"simple\"><path d=\"M324.49,87.15 C301.25,110.57 264.53,147.55 239.3,172.98 \" fill=\"none\" id=\"E5-&gt;E6\" style=\"stroke: #383838; stroke-width: 1.0;\"/><polygon fill=\"#383838\" points=\"233.46,178.86,241.2247,175.295,236.966,171.0685,233.46,178.86\" style=\"stroke: #383838; stroke-width: 1.0;\"/><text fill=\"#000000\" font-family=\"sans-serif\" font-size=\"13\" lengthAdjust=\"spacingAndGlyphs\" textLength=\"73\" x=\"291.48\" y=\"130.0669\">«objective»</text></a><!--MD5=[452b418e7f8a40397a49b8c0a78acc5b]\n",
       "reverse link E5 to E7--><a href=\"psysml:081fa6ee-8a6f-4292-82c4-f5eb64360f97\" target=\"_top\" title=\"psysml:081fa6ee-8a6f-4292-82c4-f5eb64360f97\" xlink:actuate=\"onRequest\" xlink:href=\"psysml:081fa6ee-8a6f-4292-82c4-f5eb64360f97\" xlink:show=\"new\" xlink:title=\"psysml:081fa6ee-8a6f-4292-82c4-f5eb64360f97\" xlink:type=\"simple\"><path d=\"M367.14,98.44 C379.4,118.3 394.98,143.52 407.61,163.97 \" fill=\"none\" id=\"E5&lt;-E7\" style=\"stroke: #383838; stroke-width: 1.0;\"/><polygon fill=\"#383838\" points=\"360.16,87.15,359.9052,94.3566,366.4595,97.3636,366.7142,90.157,360.16,87.15\" style=\"stroke: #383838; stroke-width: 1.0;\"/></a><!--MD5=[f1f3f9f2fc535e6147756cb86a7f2e32]\n",
       "link E8 to E2--><a href=\"psysml:143d7cb3-4d47-41f0-bb56-6d1ae515b029\" target=\"_top\" title=\"psysml:143d7cb3-4d47-41f0-bb56-6d1ae515b029\" xlink:actuate=\"onRequest\" xlink:href=\"psysml:143d7cb3-4d47-41f0-bb56-6d1ae515b029\" xlink:show=\"new\" xlink:title=\"psysml:143d7cb3-4d47-41f0-bb56-6d1ae515b029\" xlink:type=\"simple\"><path d=\"M161.02,392.01 C173.35,405.22 189.36,422.38 203.62,437.65 \" fill=\"none\" id=\"E8-&gt;E2\" style=\"stroke: #383838; stroke-width: 1.0;\"/><polygon fill=\"#FFFFFF\" points=\"217.63,452.66,199.5521,443.5393,209.7905,433.9907,217.63,452.66\" style=\"stroke: #383838; stroke-width: 1.0;\"/><ellipse cx=\"197.1271\" cy=\"438.0067\" fill=\"#383838\" rx=\"2\" ry=\"2\" style=\"stroke: #383838; stroke-width: 1.0;\"/><ellipse cx=\"204.4402\" cy=\"431.1863\" fill=\"#383838\" rx=\"2\" ry=\"2\" style=\"stroke: #383838; stroke-width: 1.0;\"/></a><!--MD5=[dc164f5e8a733ab456ef1add180e9e34]\n",
       "reverse link E7 to E8--><a href=\"psysml:dbdbccdb-5c16-4bd3-a501-4b1c7e9ddcab\" target=\"_top\" title=\"psysml:dbdbccdb-5c16-4bd3-a501-4b1c7e9ddcab\" xlink:actuate=\"onRequest\" xlink:href=\"psysml:dbdbccdb-5c16-4bd3-a501-4b1c7e9ddcab\" xlink:show=\"new\" xlink:title=\"psysml:dbdbccdb-5c16-4bd3-a501-4b1c7e9ddcab\" xlink:type=\"simple\"><path d=\"M360.21,237.41 C358.28,238.29 356.37,239.15 354.48,240 C322.47,254.35 312.29,253.22 281.48,270 C240.11,292.53 196.1,324.58 168.46,345.81 \" fill=\"none\" id=\"E7&lt;-E8\" style=\"stroke: #383838; stroke-width: 1.0;\"/><polygon fill=\"#FFFFFF\" points=\"372.15,231.86,365.0224,230.7655,361.2708,236.9238,368.3983,238.0183,372.15,231.86\" style=\"stroke: #383838; stroke-width: 1.0;\"/></a><!--MD5=[5c3bb36fe832a92c7f0e1807dd65209d]\n",
       "link E9 to E2--><a href=\"psysml:cb3e8ea7-f115-4f34-bcd9-dd1e6ba812b8\" target=\"_top\" title=\"psysml:cb3e8ea7-f115-4f34-bcd9-dd1e6ba812b8\" xlink:actuate=\"onRequest\" xlink:href=\"psysml:cb3e8ea7-f115-4f34-bcd9-dd1e6ba812b8\" xlink:show=\"new\" xlink:title=\"psysml:cb3e8ea7-f115-4f34-bcd9-dd1e6ba812b8\" xlink:type=\"simple\"><path d=\"M298.35,315.15 C282.73,322.56 268.1,332.55 257.48,346 C238.33,370.25 234.2,405.32 234.52,432.77 \" fill=\"none\" id=\"E9-&gt;E2\" style=\"stroke: #383838; stroke-width: 1.0;\"/><polygon fill=\"#FFFFFF\" points=\"235.52,452.81,227.5786,434.1838,241.5611,433.4837,235.52,452.81\" style=\"stroke: #383838; stroke-width: 1.0;\"/><ellipse cx=\"229.291\" cy=\"428.3909\" fill=\"#383838\" rx=\"2\" ry=\"2\" style=\"stroke: #383838; stroke-width: 1.0;\"/><ellipse cx=\"239.2785\" cy=\"427.8909\" fill=\"#383838\" rx=\"2\" ry=\"2\" style=\"stroke: #383838; stroke-width: 1.0;\"/></a><!--MD5=[9ae28de373ca99bb8a1b38d63370ca7e]\n",
       "reverse link E5 to E9--><a href=\"psysml:b6df212f-8018-4500-9608-46bc28de5179\" target=\"_top\" title=\"psysml:b6df212f-8018-4500-9608-46bc28de5179\" xlink:actuate=\"onRequest\" xlink:href=\"psysml:b6df212f-8018-4500-9608-46bc28de5179\" xlink:show=\"new\" xlink:title=\"psysml:b6df212f-8018-4500-9608-46bc28de5179\" xlink:type=\"simple\"><path d=\"M423.24,92.77 C454.94,108.48 488.43,131.61 506.48,164 C522.92,193.51 524.97,211.74 506.48,240 C498.02,252.92 485.57,262.65 471.87,269.97 \" fill=\"none\" id=\"E5&lt;-E9\" style=\"stroke: #383838; stroke-width: 1.0;\"/><polygon fill=\"#FFFFFF\" points=\"411.22,87.11,414.9414,93.2867,422.0742,92.2272,418.3528,86.0505,411.22,87.11\" style=\"stroke: #383838; stroke-width: 1.0;\"/></a><!--MD5=[4c90981f523607a24625a72325ec03a0]\n",
       "@startuml\r\n",
       "skinparam monochrome true\r\n",
       "skinparam classbackgroundcolor white\r\n",
       "skinparam shadowing false\r\n",
       "skinparam wrapWidth 300\r\n",
       "hide circle\r\n",
       "\r\n",
       "package \"TradeStudyTest\" as E1  [[psysml:8952aa40-03a2-4df7-81e1-750bf2c7b589 ]]  {\r\n",
       "comp def \"Engine\" as E2  <<(T,blue)part def>> [[psysml:ba5002a0-783d-43b2-abfa-70b37f90804c ]] {\r\n",
       "}\r\n",
       "comp usage \"engine1: Engine\" as E3  <<(T,blue)part>> [[psysml:47ce73ab-2c54-4db4-9d19-7bcb338cdf44 ]] {\r\n",
       "}\r\n",
       "comp usage \"engine2: Engine\" as E4  <<(T,blue)part>> [[psysml:7dfdc806-8438-4ccb-bd71-8b6bdaa69ab8 ]] {\r\n",
       "}\r\n",
       "comp usage \"engineTradeStudy: TradeStudy\" as E5 <<analysis>> [[psysml:cd38e840-8317-467c-8230-e0f8852492a9 ]] {\r\n",
       "}\r\n",
       "comp usage \"tradeStudyObjective: MaximizeObjective\" as E6  <<(T,blue)requirement>> [[psysml:bf1db205-ea64-42b3-a829-2093a93eb81c ]] {\r\n",
       "}\r\n",
       "comp usage \"objectiveFunction\" as E7  <<(T,blue)calculation>> [[psysml:081fa6ee-8a6f-4292-82c4-f5eb64360f97 ]] {\r\n",
       "- - attributes - -\r\n",
       "result: Real\r\n",
       "}\r\n",
       "comp usage \"alternative: Engine\" as E8  <<(T,blue)part>> [[psysml:dbdbccdb-5c16-4bd3-a501-4b1c7e9ddcab ]] {\r\n",
       "}\r\n",
       "comp usage \"selectedAlternative: Engine\" as E9  <<(T,blue)part>> [[psysml:b6df212f-8018-4500-9608-46bc28de5179 ]] {\r\n",
       "}\r\n",
       "E3 - -:|> E2 [[psysml:6a611645-87b6-456f-b99f-fe1a3075932c ]] \r\n",
       "E4 - -:|> E2 [[psysml:c8f697e8-ebd5-44e8-8041-765052aa0dda ]] \r\n",
       "E5 ..> E2 [[psysml:2f46211a-dc33-450b-96f1-34c5430f413d ]] : <<subject>>\r\n",
       "E5 - ->> E6 [[psysml:285bfc51-142a-40f2-bdf1-cdd7141b9b55 ]] : <<objective>>\r\n",
       "E5 *- - E7 [[psysml:081fa6ee-8a6f-4292-82c4-f5eb64360f97 ]] \r\n",
       "E8 - -:|> E2 [[psysml:143d7cb3-4d47-41f0-bb56-6d1ae515b029 ]] \r\n",
       "E7 o- - E8 [[psysml:dbdbccdb-5c16-4bd3-a501-4b1c7e9ddcab ]] \r\n",
       "E9 - -:|> E2 [[psysml:cb3e8ea7-f115-4f34-bcd9-dd1e6ba812b8 ]] \r\n",
       "E5 o- - E9 [[psysml:b6df212f-8018-4500-9608-46bc28de5179 ]] \r\n",
       "}\r\n",
       "@enduml\r\n",
       "\n",
       "PlantUML version 1.2020.13(Sat Jun 13 12:26:38 UTC 2020)\n",
       "(EPL source distribution)\n",
       "Java Runtime: OpenJDK Runtime Environment\n",
       "JVM: OpenJDK 64-Bit Server VM\n",
       "Default Encoding: UTF-8\n",
       "Language: en\n",
       "Country: null\n",
       "--></g></svg>"
      ]
     },
     "execution_count": 42,
     "metadata": {},
     "output_type": "execute_result"
    }
   ],
   "source": [
    "%viz --style=\"DEFAULT\" --view=\"Sequence\" \"TradeStudyTest\""
   ]
  },
  {
   "cell_type": "code",
   "execution_count": 43,
   "id": "transparent-missile",
   "metadata": {
    "execution": {
     "iopub.execute_input": "2021-03-25T09:29:31.907353Z",
     "iopub.status.busy": "2021-03-25T09:29:31.906615Z",
     "iopub.status.idle": "2021-03-25T09:29:32.211268Z",
     "shell.execute_reply": "2021-03-25T09:29:32.209584Z"
    }
   },
   "outputs": [
    {
     "data": {
      "image/svg+xml": [
       "<?xml version=\"1.0\" encoding=\"UTF-8\" standalone=\"no\"?><svg xmlns=\"http://www.w3.org/2000/svg\" xmlns:xlink=\"http://www.w3.org/1999/xlink\" contentScriptType=\"application/ecmascript\" contentStyleType=\"text/css\" height=\"527px\" preserveAspectRatio=\"none\" style=\"width:563px;height:527px;\" version=\"1.1\" viewBox=\"0 0 563 527\" width=\"563px\" zoomAndPan=\"magnify\"><defs/><g><!--MD5=[fbc87193dbaf4d95561dea2c320d4a47]\n",
       "cluster E1--><a href=\"psysml:8952aa40-03a2-4df7-81e1-750bf2c7b589\" target=\"_top\" title=\"psysml:8952aa40-03a2-4df7-81e1-750bf2c7b589\" xlink:actuate=\"onRequest\" xlink:href=\"psysml:8952aa40-03a2-4df7-81e1-750bf2c7b589\" xlink:show=\"new\" xlink:title=\"psysml:8952aa40-03a2-4df7-81e1-750bf2c7b589\" xlink:type=\"simple\"><polygon fill=\"#FFFFFF\" points=\"25.48,6,157.48,6,164.48,28.2969,541.48,28.2969,541.48,515,25.48,515,25.48,6\" style=\"stroke: #000000; stroke-width: 1.5;\"/><line style=\"stroke: #000000; stroke-width: 1.5;\" x1=\"25.48\" x2=\"164.48\" y1=\"28.2969\" y2=\"28.2969\"/><text fill=\"#000000\" font-family=\"sans-serif\" font-size=\"14\" font-weight=\"bold\" lengthAdjust=\"spacingAndGlyphs\" textLength=\"126\" x=\"29.48\" y=\"20.9951\">TradeStudyTest</text></a><!--MD5=[b4997ac47864f28c2f74865a473b2911]\n",
       "class E2--><a href=\"psysml:ba5002a0-783d-43b2-abfa-70b37f90804c\" target=\"_top\" title=\"psysml:ba5002a0-783d-43b2-abfa-70b37f90804c\" xlink:actuate=\"onRequest\" xlink:href=\"psysml:ba5002a0-783d-43b2-abfa-70b37f90804c\" xlink:show=\"new\" xlink:title=\"psysml:ba5002a0-783d-43b2-abfa-70b37f90804c\" xlink:type=\"simple\"><rect fill=\"#FFFFFF\" height=\"45.9375\" id=\"E2\" style=\"stroke: #383838; stroke-width: 1.5;\" width=\"66\" x=\"205.48\" y=\"453\"/><text fill=\"#000000\" font-family=\"sans-serif\" font-size=\"12\" font-style=\"italic\" lengthAdjust=\"spacingAndGlyphs\" textLength=\"64\" x=\"206.48\" y=\"469.1387\">«part def»</text><text fill=\"#000000\" font-family=\"sans-serif\" font-size=\"12\" lengthAdjust=\"spacingAndGlyphs\" textLength=\"43\" x=\"216.98\" y=\"483.1074\">Engine</text><line style=\"stroke: #383838; stroke-width: 1.5;\" x1=\"206.48\" x2=\"270.48\" y1=\"490.9375\" y2=\"490.9375\"/></a><!--MD5=[09b614a08d8cba4a07c9adeb5e0fee81]\n",
       "class E3--><a href=\"psysml:47ce73ab-2c54-4db4-9d19-7bcb338cdf44\" target=\"_top\" title=\"psysml:47ce73ab-2c54-4db4-9d19-7bcb338cdf44\" xlink:actuate=\"onRequest\" xlink:href=\"psysml:47ce73ab-2c54-4db4-9d19-7bcb338cdf44\" xlink:show=\"new\" xlink:title=\"psysml:47ce73ab-2c54-4db4-9d19-7bcb338cdf44\" xlink:type=\"simple\"><rect fill=\"#FFFFFF\" height=\"45.9375\" id=\"E3\" rx=\"10\" ry=\"10\" style=\"stroke: #383838; stroke-width: 1.5;\" width=\"108\" x=\"417.48\" y=\"346\"/><text fill=\"#000000\" font-family=\"sans-serif\" font-size=\"12\" font-style=\"italic\" lengthAdjust=\"spacingAndGlyphs\" textLength=\"40\" x=\"451.48\" y=\"362.1387\">«part»</text><text fill=\"#000000\" font-family=\"sans-serif\" font-size=\"12\" lengthAdjust=\"spacingAndGlyphs\" textLength=\"102\" x=\"420.48\" y=\"376.1074\">engine1: Engine</text><line style=\"stroke: #383838; stroke-width: 1.5;\" x1=\"418.48\" x2=\"524.48\" y1=\"383.9375\" y2=\"383.9375\"/></a><!--MD5=[ebbe1d658d1005bcc118a6aa81145e00]\n",
       "class E4--><a href=\"psysml:7dfdc806-8438-4ccb-bd71-8b6bdaa69ab8\" target=\"_top\" title=\"psysml:7dfdc806-8438-4ccb-bd71-8b6bdaa69ab8\" xlink:actuate=\"onRequest\" xlink:href=\"psysml:7dfdc806-8438-4ccb-bd71-8b6bdaa69ab8\" xlink:show=\"new\" xlink:title=\"psysml:7dfdc806-8438-4ccb-bd71-8b6bdaa69ab8\" xlink:type=\"simple\"><rect fill=\"#FFFFFF\" height=\"45.9375\" id=\"E4\" rx=\"10\" ry=\"10\" style=\"stroke: #383838; stroke-width: 1.5;\" width=\"108\" x=\"274.48\" y=\"346\"/><text fill=\"#000000\" font-family=\"sans-serif\" font-size=\"12\" font-style=\"italic\" lengthAdjust=\"spacingAndGlyphs\" textLength=\"40\" x=\"308.48\" y=\"362.1387\">«part»</text><text fill=\"#000000\" font-family=\"sans-serif\" font-size=\"12\" lengthAdjust=\"spacingAndGlyphs\" textLength=\"102\" x=\"277.48\" y=\"376.1074\">engine2: Engine</text><line style=\"stroke: #383838; stroke-width: 1.5;\" x1=\"275.48\" x2=\"381.48\" y1=\"383.9375\" y2=\"383.9375\"/></a><!--MD5=[270fce915f116d4de14055a7c1d9a0f3]\n",
       "class E5--><a href=\"psysml:cd38e840-8317-467c-8230-e0f8852492a9\" target=\"_top\" title=\"psysml:cd38e840-8317-467c-8230-e0f8852492a9\" xlink:actuate=\"onRequest\" xlink:href=\"psysml:cd38e840-8317-467c-8230-e0f8852492a9\" xlink:show=\"new\" xlink:title=\"psysml:cd38e840-8317-467c-8230-e0f8852492a9\" xlink:type=\"simple\"><rect fill=\"#FFFFFF\" height=\"45.9375\" id=\"E5\" rx=\"10\" ry=\"10\" style=\"stroke: #383838; stroke-width: 1.5;\" width=\"199\" x=\"246.98\" y=\"41\"/><text fill=\"#000000\" font-family=\"sans-serif\" font-size=\"12\" font-style=\"italic\" lengthAdjust=\"spacingAndGlyphs\" textLength=\"64\" x=\"314.48\" y=\"57.1387\">«analysis»</text><text fill=\"#000000\" font-family=\"sans-serif\" font-size=\"12\" lengthAdjust=\"spacingAndGlyphs\" textLength=\"193\" x=\"249.98\" y=\"71.1074\">engineTradeStudy: TradeStudy</text><line style=\"stroke: #383838; stroke-width: 1.5;\" x1=\"247.98\" x2=\"444.98\" y1=\"78.9375\" y2=\"78.9375\"/></a><!--MD5=[60a26617385b1d2d0262a64233df1f8d]\n",
       "class E6--><a href=\"psysml:bf1db205-ea64-42b3-a829-2093a93eb81c\" target=\"_top\" title=\"psysml:bf1db205-ea64-42b3-a829-2093a93eb81c\" xlink:actuate=\"onRequest\" xlink:href=\"psysml:bf1db205-ea64-42b3-a829-2093a93eb81c\" xlink:show=\"new\" xlink:title=\"psysml:bf1db205-ea64-42b3-a829-2093a93eb81c\" xlink:type=\"simple\"><rect fill=\"#FFFFFF\" height=\"45.9375\" id=\"E6\" rx=\"10\" ry=\"10\" style=\"stroke: #383838; stroke-width: 1.5;\" width=\"251\" x=\"85.98\" y=\"179\"/><text fill=\"#000000\" font-family=\"sans-serif\" font-size=\"12\" font-style=\"italic\" lengthAdjust=\"spacingAndGlyphs\" textLength=\"91\" x=\"165.98\" y=\"195.1387\">«requirement»</text><text fill=\"#000000\" font-family=\"sans-serif\" font-size=\"12\" lengthAdjust=\"spacingAndGlyphs\" textLength=\"245\" x=\"88.98\" y=\"209.1074\">tradeStudyObjective: MaximizeObjective</text><line style=\"stroke: #383838; stroke-width: 1.5;\" x1=\"86.98\" x2=\"335.98\" y1=\"216.9375\" y2=\"216.9375\"/></a><!--MD5=[2156ba9850f5573cc1fc38a6a4b2f02b]\n",
       "class E7--><a href=\"psysml:081fa6ee-8a6f-4292-82c4-f5eb64360f97\" target=\"_top\" title=\"psysml:081fa6ee-8a6f-4292-82c4-f5eb64360f97\" xlink:actuate=\"onRequest\" xlink:href=\"psysml:081fa6ee-8a6f-4292-82c4-f5eb64360f97\" xlink:show=\"new\" xlink:title=\"psysml:081fa6ee-8a6f-4292-82c4-f5eb64360f97\" xlink:type=\"simple\"><rect fill=\"#FFFFFF\" height=\"75.5469\" id=\"E7\" rx=\"10\" ry=\"10\" style=\"stroke: #383838; stroke-width: 1.5;\" width=\"116\" x=\"372.48\" y=\"164\"/><text fill=\"#000000\" font-family=\"sans-serif\" font-size=\"12\" font-style=\"italic\" lengthAdjust=\"spacingAndGlyphs\" textLength=\"82\" x=\"389.48\" y=\"180.1387\">«calculation»</text><text fill=\"#000000\" font-family=\"sans-serif\" font-size=\"12\" lengthAdjust=\"spacingAndGlyphs\" textLength=\"110\" x=\"375.48\" y=\"194.1074\">objectiveFunction</text><line style=\"stroke: #383838; stroke-width: 1.5;\" x1=\"373.48\" x2=\"487.48\" y1=\"201.9375\" y2=\"201.9375\"/><text fill=\"#000000\" font-family=\"sans-serif\" font-size=\"11\" lengthAdjust=\"spacingAndGlyphs\" textLength=\"65\" x=\"378.48\" y=\"232.9526\">result: Real</text><line style=\"stroke: #383838; stroke-width: 1.0;\" x1=\"373.48\" x2=\"402.98\" y1=\"216.3398\" y2=\"216.3398\"/><text fill=\"#000000\" font-family=\"sans-serif\" font-size=\"11\" lengthAdjust=\"spacingAndGlyphs\" textLength=\"55\" x=\"402.98\" y=\"219.6479\">attributes</text><line style=\"stroke: #383838; stroke-width: 1.0;\" x1=\"457.98\" x2=\"487.48\" y1=\"216.3398\" y2=\"216.3398\"/></a><!--MD5=[b9389687b975829384b498ac4b7476b2]\n",
       "class E8--><a href=\"psysml:dbdbccdb-5c16-4bd3-a501-4b1c7e9ddcab\" target=\"_top\" title=\"psysml:dbdbccdb-5c16-4bd3-a501-4b1c7e9ddcab\" xlink:actuate=\"onRequest\" xlink:href=\"psysml:dbdbccdb-5c16-4bd3-a501-4b1c7e9ddcab\" xlink:show=\"new\" xlink:title=\"psysml:dbdbccdb-5c16-4bd3-a501-4b1c7e9ddcab\" xlink:type=\"simple\"><rect fill=\"#FFFFFF\" height=\"45.9375\" id=\"E8\" rx=\"10\" ry=\"10\" style=\"stroke: #383838; stroke-width: 1.5;\" width=\"124\" x=\"78.48\" y=\"346\"/><text fill=\"#000000\" font-family=\"sans-serif\" font-size=\"12\" font-style=\"italic\" lengthAdjust=\"spacingAndGlyphs\" textLength=\"40\" x=\"120.48\" y=\"362.1387\">«part»</text><text fill=\"#000000\" font-family=\"sans-serif\" font-size=\"12\" lengthAdjust=\"spacingAndGlyphs\" textLength=\"118\" x=\"81.48\" y=\"376.1074\">alternative: Engine</text><line style=\"stroke: #383838; stroke-width: 1.5;\" x1=\"79.48\" x2=\"201.48\" y1=\"383.9375\" y2=\"383.9375\"/></a><!--MD5=[fd4143e9d270a159db93a4ea2a975926]\n",
       "class E9--><a href=\"psysml:b6df212f-8018-4500-9608-46bc28de5179\" target=\"_top\" title=\"psysml:b6df212f-8018-4500-9608-46bc28de5179\" xlink:actuate=\"onRequest\" xlink:href=\"psysml:b6df212f-8018-4500-9608-46bc28de5179\" xlink:show=\"new\" xlink:title=\"psysml:b6df212f-8018-4500-9608-46bc28de5179\" xlink:type=\"simple\"><rect fill=\"#FFFFFF\" height=\"45.9375\" id=\"E9\" rx=\"10\" ry=\"10\" style=\"stroke: #383838; stroke-width: 1.5;\" width=\"178\" x=\"298.48\" y=\"270\"/><text fill=\"#000000\" font-family=\"sans-serif\" font-size=\"12\" font-style=\"italic\" lengthAdjust=\"spacingAndGlyphs\" textLength=\"40\" x=\"367.48\" y=\"286.1387\">«part»</text><text fill=\"#000000\" font-family=\"sans-serif\" font-size=\"12\" lengthAdjust=\"spacingAndGlyphs\" textLength=\"172\" x=\"301.48\" y=\"300.1074\">selectedAlternative: Engine</text><line style=\"stroke: #383838; stroke-width: 1.5;\" x1=\"299.48\" x2=\"475.48\" y1=\"307.9375\" y2=\"307.9375\"/></a><!--MD5=[05d275557350bfb9b23a4ef7222b4c39]\n",
       "link E3 to E2--><a href=\"psysml:6a611645-87b6-456f-b99f-fe1a3075932c\" target=\"_top\" title=\"psysml:6a611645-87b6-456f-b99f-fe1a3075932c\" xlink:actuate=\"onRequest\" xlink:href=\"psysml:6a611645-87b6-456f-b99f-fe1a3075932c\" xlink:show=\"new\" xlink:title=\"psysml:6a611645-87b6-456f-b99f-fe1a3075932c\" xlink:type=\"simple\"><path d=\"M422.64,392.01 C383.73,409.54 329.43,434.01 289.87,451.84 \" fill=\"none\" id=\"E3-&gt;E2\" style=\"stroke: #383838; stroke-width: 1.0;\"/><polygon fill=\"#FFFFFF\" points=\"271.5,460.12,285.9466,445.9321,291.6983,458.696,271.5,460.12\" style=\"stroke: #383838; stroke-width: 1.0;\"/><ellipse cx=\"291.965\" cy=\"445.4137\" fill=\"#383838\" rx=\"2\" ry=\"2\" style=\"stroke: #383838; stroke-width: 1.0;\"/><ellipse cx=\"296.0734\" cy=\"454.5308\" fill=\"#383838\" rx=\"2\" ry=\"2\" style=\"stroke: #383838; stroke-width: 1.0;\"/></a><!--MD5=[185131fc0dcab0a4505a2ebe144e961b]\n",
       "link E4 to E2--><a href=\"psysml:c8f697e8-ebd5-44e8-8041-765052aa0dda\" target=\"_top\" title=\"psysml:c8f697e8-ebd5-44e8-8041-765052aa0dda\" xlink:actuate=\"onRequest\" xlink:href=\"psysml:c8f697e8-ebd5-44e8-8041-765052aa0dda\" xlink:show=\"new\" xlink:title=\"psysml:c8f697e8-ebd5-44e8-8041-765052aa0dda\" xlink:type=\"simple\"><path d=\"M309.61,392.01 C298.41,405.08 283.9,422.01 270.9,437.17 \" fill=\"none\" id=\"E4-&gt;E2\" style=\"stroke: #383838; stroke-width: 1.0;\"/><polygon fill=\"#FFFFFF\" points=\"257.63,452.66,264.6788,433.678,275.3091,442.7883,257.63,452.66\" style=\"stroke: #383838; stroke-width: 1.0;\"/><ellipse cx=\"269.9066\" cy=\"430.6515\" fill=\"#383838\" rx=\"2\" ry=\"2\" style=\"stroke: #383838; stroke-width: 1.0;\"/><ellipse cx=\"277.4996\" cy=\"437.1588\" fill=\"#383838\" rx=\"2\" ry=\"2\" style=\"stroke: #383838; stroke-width: 1.0;\"/></a><!--MD5=[15ebcb19ae302d9b601edb458606d402]\n",
       "link E5 to E2--><a href=\"psysml:2f46211a-dc33-450b-96f1-34c5430f413d\" target=\"_top\" title=\"psysml:2f46211a-dc33-450b-96f1-34c5430f413d\" xlink:actuate=\"onRequest\" xlink:href=\"psysml:2f46211a-dc33-450b-96f1-34c5430f413d\" xlink:show=\"new\" xlink:title=\"psysml:2f46211a-dc33-450b-96f1-34c5430f413d\" xlink:type=\"simple\"><path d=\"M246.76,73.1 C184.92,83.79 109.66,108.27 68.48,164 C8.23,245.55 6,306.48 60.48,392 C91.11,440.08 157.66,460.76 200.15,469.32 \" fill=\"none\" id=\"E5-&gt;E2\" style=\"stroke: #383838; stroke-width: 1.0; stroke-dasharray: 7.0,7.0;\"/><polygon fill=\"#383838\" points=\"205.2,470.31,197.1338,464.6588,200.2927,469.3514,195.6001,472.5104,205.2,470.31\" style=\"stroke: #383838; stroke-width: 1.0;\"/><text fill=\"#000000\" font-family=\"sans-serif\" font-size=\"13\" lengthAdjust=\"spacingAndGlyphs\" textLength=\"62\" x=\"26.48\" y=\"297.5669\">«subject»</text></a><!--MD5=[9120cf2e5df3bff93db8f754bbbc09b4]\n",
       "link E5 to E6--><a href=\"psysml:285bfc51-142a-40f2-bdf1-cdd7141b9b55\" target=\"_top\" title=\"psysml:285bfc51-142a-40f2-bdf1-cdd7141b9b55\" xlink:actuate=\"onRequest\" xlink:href=\"psysml:285bfc51-142a-40f2-bdf1-cdd7141b9b55\" xlink:show=\"new\" xlink:title=\"psysml:285bfc51-142a-40f2-bdf1-cdd7141b9b55\" xlink:type=\"simple\"><path d=\"M324.49,87.15 C301.25,110.57 264.53,147.55 239.3,172.98 \" fill=\"none\" id=\"E5-&gt;E6\" style=\"stroke: #383838; stroke-width: 1.0;\"/><polygon fill=\"#383838\" points=\"233.46,178.86,241.2247,175.295,236.966,171.0685,233.46,178.86\" style=\"stroke: #383838; stroke-width: 1.0;\"/><text fill=\"#000000\" font-family=\"sans-serif\" font-size=\"13\" lengthAdjust=\"spacingAndGlyphs\" textLength=\"73\" x=\"291.48\" y=\"130.0669\">«objective»</text></a><!--MD5=[452b418e7f8a40397a49b8c0a78acc5b]\n",
       "reverse link E5 to E7--><a href=\"psysml:081fa6ee-8a6f-4292-82c4-f5eb64360f97\" target=\"_top\" title=\"psysml:081fa6ee-8a6f-4292-82c4-f5eb64360f97\" xlink:actuate=\"onRequest\" xlink:href=\"psysml:081fa6ee-8a6f-4292-82c4-f5eb64360f97\" xlink:show=\"new\" xlink:title=\"psysml:081fa6ee-8a6f-4292-82c4-f5eb64360f97\" xlink:type=\"simple\"><path d=\"M367.14,98.44 C379.4,118.3 394.98,143.52 407.61,163.97 \" fill=\"none\" id=\"E5&lt;-E7\" style=\"stroke: #383838; stroke-width: 1.0;\"/><polygon fill=\"#383838\" points=\"360.16,87.15,359.9052,94.3566,366.4595,97.3636,366.7142,90.157,360.16,87.15\" style=\"stroke: #383838; stroke-width: 1.0;\"/></a><!--MD5=[f1f3f9f2fc535e6147756cb86a7f2e32]\n",
       "link E8 to E2--><a href=\"psysml:143d7cb3-4d47-41f0-bb56-6d1ae515b029\" target=\"_top\" title=\"psysml:143d7cb3-4d47-41f0-bb56-6d1ae515b029\" xlink:actuate=\"onRequest\" xlink:href=\"psysml:143d7cb3-4d47-41f0-bb56-6d1ae515b029\" xlink:show=\"new\" xlink:title=\"psysml:143d7cb3-4d47-41f0-bb56-6d1ae515b029\" xlink:type=\"simple\"><path d=\"M161.02,392.01 C173.35,405.22 189.36,422.38 203.62,437.65 \" fill=\"none\" id=\"E8-&gt;E2\" style=\"stroke: #383838; stroke-width: 1.0;\"/><polygon fill=\"#FFFFFF\" points=\"217.63,452.66,199.5521,443.5393,209.7905,433.9907,217.63,452.66\" style=\"stroke: #383838; stroke-width: 1.0;\"/><ellipse cx=\"197.1271\" cy=\"438.0067\" fill=\"#383838\" rx=\"2\" ry=\"2\" style=\"stroke: #383838; stroke-width: 1.0;\"/><ellipse cx=\"204.4402\" cy=\"431.1863\" fill=\"#383838\" rx=\"2\" ry=\"2\" style=\"stroke: #383838; stroke-width: 1.0;\"/></a><!--MD5=[dc164f5e8a733ab456ef1add180e9e34]\n",
       "reverse link E7 to E8--><a href=\"psysml:dbdbccdb-5c16-4bd3-a501-4b1c7e9ddcab\" target=\"_top\" title=\"psysml:dbdbccdb-5c16-4bd3-a501-4b1c7e9ddcab\" xlink:actuate=\"onRequest\" xlink:href=\"psysml:dbdbccdb-5c16-4bd3-a501-4b1c7e9ddcab\" xlink:show=\"new\" xlink:title=\"psysml:dbdbccdb-5c16-4bd3-a501-4b1c7e9ddcab\" xlink:type=\"simple\"><path d=\"M360.21,237.41 C358.28,238.29 356.37,239.15 354.48,240 C322.47,254.35 312.29,253.22 281.48,270 C240.11,292.53 196.1,324.58 168.46,345.81 \" fill=\"none\" id=\"E7&lt;-E8\" style=\"stroke: #383838; stroke-width: 1.0;\"/><polygon fill=\"#FFFFFF\" points=\"372.15,231.86,365.0224,230.7655,361.2708,236.9238,368.3983,238.0183,372.15,231.86\" style=\"stroke: #383838; stroke-width: 1.0;\"/></a><!--MD5=[5c3bb36fe832a92c7f0e1807dd65209d]\n",
       "link E9 to E2--><a href=\"psysml:cb3e8ea7-f115-4f34-bcd9-dd1e6ba812b8\" target=\"_top\" title=\"psysml:cb3e8ea7-f115-4f34-bcd9-dd1e6ba812b8\" xlink:actuate=\"onRequest\" xlink:href=\"psysml:cb3e8ea7-f115-4f34-bcd9-dd1e6ba812b8\" xlink:show=\"new\" xlink:title=\"psysml:cb3e8ea7-f115-4f34-bcd9-dd1e6ba812b8\" xlink:type=\"simple\"><path d=\"M298.35,315.15 C282.73,322.56 268.1,332.55 257.48,346 C238.33,370.25 234.2,405.32 234.52,432.77 \" fill=\"none\" id=\"E9-&gt;E2\" style=\"stroke: #383838; stroke-width: 1.0;\"/><polygon fill=\"#FFFFFF\" points=\"235.52,452.81,227.5786,434.1838,241.5611,433.4837,235.52,452.81\" style=\"stroke: #383838; stroke-width: 1.0;\"/><ellipse cx=\"229.291\" cy=\"428.3909\" fill=\"#383838\" rx=\"2\" ry=\"2\" style=\"stroke: #383838; stroke-width: 1.0;\"/><ellipse cx=\"239.2785\" cy=\"427.8909\" fill=\"#383838\" rx=\"2\" ry=\"2\" style=\"stroke: #383838; stroke-width: 1.0;\"/></a><!--MD5=[9ae28de373ca99bb8a1b38d63370ca7e]\n",
       "reverse link E5 to E9--><a href=\"psysml:b6df212f-8018-4500-9608-46bc28de5179\" target=\"_top\" title=\"psysml:b6df212f-8018-4500-9608-46bc28de5179\" xlink:actuate=\"onRequest\" xlink:href=\"psysml:b6df212f-8018-4500-9608-46bc28de5179\" xlink:show=\"new\" xlink:title=\"psysml:b6df212f-8018-4500-9608-46bc28de5179\" xlink:type=\"simple\"><path d=\"M423.24,92.77 C454.94,108.48 488.43,131.61 506.48,164 C522.92,193.51 524.97,211.74 506.48,240 C498.02,252.92 485.57,262.65 471.87,269.97 \" fill=\"none\" id=\"E5&lt;-E9\" style=\"stroke: #383838; stroke-width: 1.0;\"/><polygon fill=\"#FFFFFF\" points=\"411.22,87.11,414.9414,93.2867,422.0742,92.2272,418.3528,86.0505,411.22,87.11\" style=\"stroke: #383838; stroke-width: 1.0;\"/></a><!--MD5=[4c90981f523607a24625a72325ec03a0]\n",
       "@startuml\r\n",
       "skinparam monochrome true\r\n",
       "skinparam classbackgroundcolor white\r\n",
       "skinparam shadowing false\r\n",
       "skinparam wrapWidth 300\r\n",
       "hide circle\r\n",
       "\r\n",
       "package \"TradeStudyTest\" as E1  [[psysml:8952aa40-03a2-4df7-81e1-750bf2c7b589 ]]  {\r\n",
       "comp def \"Engine\" as E2  <<(T,blue)part def>> [[psysml:ba5002a0-783d-43b2-abfa-70b37f90804c ]] {\r\n",
       "}\r\n",
       "comp usage \"engine1: Engine\" as E3  <<(T,blue)part>> [[psysml:47ce73ab-2c54-4db4-9d19-7bcb338cdf44 ]] {\r\n",
       "}\r\n",
       "comp usage \"engine2: Engine\" as E4  <<(T,blue)part>> [[psysml:7dfdc806-8438-4ccb-bd71-8b6bdaa69ab8 ]] {\r\n",
       "}\r\n",
       "comp usage \"engineTradeStudy: TradeStudy\" as E5 <<analysis>> [[psysml:cd38e840-8317-467c-8230-e0f8852492a9 ]] {\r\n",
       "}\r\n",
       "comp usage \"tradeStudyObjective: MaximizeObjective\" as E6  <<(T,blue)requirement>> [[psysml:bf1db205-ea64-42b3-a829-2093a93eb81c ]] {\r\n",
       "}\r\n",
       "comp usage \"objectiveFunction\" as E7  <<(T,blue)calculation>> [[psysml:081fa6ee-8a6f-4292-82c4-f5eb64360f97 ]] {\r\n",
       "- - attributes - -\r\n",
       "result: Real\r\n",
       "}\r\n",
       "comp usage \"alternative: Engine\" as E8  <<(T,blue)part>> [[psysml:dbdbccdb-5c16-4bd3-a501-4b1c7e9ddcab ]] {\r\n",
       "}\r\n",
       "comp usage \"selectedAlternative: Engine\" as E9  <<(T,blue)part>> [[psysml:b6df212f-8018-4500-9608-46bc28de5179 ]] {\r\n",
       "}\r\n",
       "E3 - -:|> E2 [[psysml:6a611645-87b6-456f-b99f-fe1a3075932c ]] \r\n",
       "E4 - -:|> E2 [[psysml:c8f697e8-ebd5-44e8-8041-765052aa0dda ]] \r\n",
       "E5 ..> E2 [[psysml:2f46211a-dc33-450b-96f1-34c5430f413d ]] : <<subject>>\r\n",
       "E5 - ->> E6 [[psysml:285bfc51-142a-40f2-bdf1-cdd7141b9b55 ]] : <<objective>>\r\n",
       "E5 *- - E7 [[psysml:081fa6ee-8a6f-4292-82c4-f5eb64360f97 ]] \r\n",
       "E8 - -:|> E2 [[psysml:143d7cb3-4d47-41f0-bb56-6d1ae515b029 ]] \r\n",
       "E7 o- - E8 [[psysml:dbdbccdb-5c16-4bd3-a501-4b1c7e9ddcab ]] \r\n",
       "E9 - -:|> E2 [[psysml:cb3e8ea7-f115-4f34-bcd9-dd1e6ba812b8 ]] \r\n",
       "E5 o- - E9 [[psysml:b6df212f-8018-4500-9608-46bc28de5179 ]] \r\n",
       "}\r\n",
       "@enduml\r\n",
       "\n",
       "PlantUML version 1.2020.13(Sat Jun 13 12:26:38 UTC 2020)\n",
       "(EPL source distribution)\n",
       "Java Runtime: OpenJDK Runtime Environment\n",
       "JVM: OpenJDK 64-Bit Server VM\n",
       "Default Encoding: UTF-8\n",
       "Language: en\n",
       "Country: null\n",
       "--></g></svg>"
      ]
     },
     "execution_count": 43,
     "metadata": {},
     "output_type": "execute_result"
    }
   ],
   "source": [
    "%viz --style=\"DEFAULT\" --view=\"MIXED\" \"TradeStudyTest\""
   ]
  },
  {
   "cell_type": "code",
   "execution_count": 44,
   "id": "fatal-animation",
   "metadata": {
    "execution": {
     "iopub.execute_input": "2021-03-25T09:29:32.262620Z",
     "iopub.status.busy": "2021-03-25T09:29:32.261872Z",
     "iopub.status.idle": "2021-03-25T09:29:32.605066Z",
     "shell.execute_reply": "2021-03-25T09:29:32.603332Z"
    }
   },
   "outputs": [
    {
     "data": {
      "image/svg+xml": [
       "<?xml version=\"1.0\" encoding=\"UTF-8\" standalone=\"no\"?><svg xmlns=\"http://www.w3.org/2000/svg\" xmlns:xlink=\"http://www.w3.org/1999/xlink\" contentScriptType=\"application/ecmascript\" contentStyleType=\"text/css\" height=\"527px\" preserveAspectRatio=\"none\" style=\"width:563px;height:527px;\" version=\"1.1\" viewBox=\"0 0 563 527\" width=\"563px\" zoomAndPan=\"magnify\"><defs/><g><!--MD5=[fbc87193dbaf4d95561dea2c320d4a47]\n",
       "cluster E1--><a href=\"psysml:8952aa40-03a2-4df7-81e1-750bf2c7b589\" target=\"_top\" title=\"psysml:8952aa40-03a2-4df7-81e1-750bf2c7b589\" xlink:actuate=\"onRequest\" xlink:href=\"psysml:8952aa40-03a2-4df7-81e1-750bf2c7b589\" xlink:show=\"new\" xlink:title=\"psysml:8952aa40-03a2-4df7-81e1-750bf2c7b589\" xlink:type=\"simple\"><polygon fill=\"#FFFFFF\" points=\"25.48,6,157.48,6,164.48,28.2969,541.48,28.2969,541.48,515,25.48,515,25.48,6\" style=\"stroke: #000000; stroke-width: 1.5;\"/><line style=\"stroke: #000000; stroke-width: 1.5;\" x1=\"25.48\" x2=\"164.48\" y1=\"28.2969\" y2=\"28.2969\"/><text fill=\"#000000\" font-family=\"sans-serif\" font-size=\"14\" font-weight=\"bold\" lengthAdjust=\"spacingAndGlyphs\" textLength=\"126\" x=\"29.48\" y=\"20.9951\">TradeStudyTest</text></a><!--MD5=[b4997ac47864f28c2f74865a473b2911]\n",
       "class E2--><a href=\"psysml:ba5002a0-783d-43b2-abfa-70b37f90804c\" target=\"_top\" title=\"psysml:ba5002a0-783d-43b2-abfa-70b37f90804c\" xlink:actuate=\"onRequest\" xlink:href=\"psysml:ba5002a0-783d-43b2-abfa-70b37f90804c\" xlink:show=\"new\" xlink:title=\"psysml:ba5002a0-783d-43b2-abfa-70b37f90804c\" xlink:type=\"simple\"><rect fill=\"#FFFFFF\" height=\"45.9375\" id=\"E2\" style=\"stroke: #383838; stroke-width: 1.5;\" width=\"66\" x=\"205.48\" y=\"453\"/><text fill=\"#000000\" font-family=\"sans-serif\" font-size=\"12\" font-style=\"italic\" lengthAdjust=\"spacingAndGlyphs\" textLength=\"64\" x=\"206.48\" y=\"469.1387\">«part def»</text><text fill=\"#000000\" font-family=\"sans-serif\" font-size=\"12\" lengthAdjust=\"spacingAndGlyphs\" textLength=\"43\" x=\"216.98\" y=\"483.1074\">Engine</text><line style=\"stroke: #383838; stroke-width: 1.5;\" x1=\"206.48\" x2=\"270.48\" y1=\"490.9375\" y2=\"490.9375\"/></a><!--MD5=[09b614a08d8cba4a07c9adeb5e0fee81]\n",
       "class E3--><a href=\"psysml:47ce73ab-2c54-4db4-9d19-7bcb338cdf44\" target=\"_top\" title=\"psysml:47ce73ab-2c54-4db4-9d19-7bcb338cdf44\" xlink:actuate=\"onRequest\" xlink:href=\"psysml:47ce73ab-2c54-4db4-9d19-7bcb338cdf44\" xlink:show=\"new\" xlink:title=\"psysml:47ce73ab-2c54-4db4-9d19-7bcb338cdf44\" xlink:type=\"simple\"><rect fill=\"#FFFFFF\" height=\"45.9375\" id=\"E3\" rx=\"10\" ry=\"10\" style=\"stroke: #383838; stroke-width: 1.5;\" width=\"108\" x=\"417.48\" y=\"346\"/><text fill=\"#000000\" font-family=\"sans-serif\" font-size=\"12\" font-style=\"italic\" lengthAdjust=\"spacingAndGlyphs\" textLength=\"40\" x=\"451.48\" y=\"362.1387\">«part»</text><text fill=\"#000000\" font-family=\"sans-serif\" font-size=\"12\" lengthAdjust=\"spacingAndGlyphs\" textLength=\"102\" x=\"420.48\" y=\"376.1074\">engine1: Engine</text><line style=\"stroke: #383838; stroke-width: 1.5;\" x1=\"418.48\" x2=\"524.48\" y1=\"383.9375\" y2=\"383.9375\"/></a><!--MD5=[ebbe1d658d1005bcc118a6aa81145e00]\n",
       "class E4--><a href=\"psysml:7dfdc806-8438-4ccb-bd71-8b6bdaa69ab8\" target=\"_top\" title=\"psysml:7dfdc806-8438-4ccb-bd71-8b6bdaa69ab8\" xlink:actuate=\"onRequest\" xlink:href=\"psysml:7dfdc806-8438-4ccb-bd71-8b6bdaa69ab8\" xlink:show=\"new\" xlink:title=\"psysml:7dfdc806-8438-4ccb-bd71-8b6bdaa69ab8\" xlink:type=\"simple\"><rect fill=\"#FFFFFF\" height=\"45.9375\" id=\"E4\" rx=\"10\" ry=\"10\" style=\"stroke: #383838; stroke-width: 1.5;\" width=\"108\" x=\"274.48\" y=\"346\"/><text fill=\"#000000\" font-family=\"sans-serif\" font-size=\"12\" font-style=\"italic\" lengthAdjust=\"spacingAndGlyphs\" textLength=\"40\" x=\"308.48\" y=\"362.1387\">«part»</text><text fill=\"#000000\" font-family=\"sans-serif\" font-size=\"12\" lengthAdjust=\"spacingAndGlyphs\" textLength=\"102\" x=\"277.48\" y=\"376.1074\">engine2: Engine</text><line style=\"stroke: #383838; stroke-width: 1.5;\" x1=\"275.48\" x2=\"381.48\" y1=\"383.9375\" y2=\"383.9375\"/></a><!--MD5=[270fce915f116d4de14055a7c1d9a0f3]\n",
       "class E5--><a href=\"psysml:cd38e840-8317-467c-8230-e0f8852492a9\" target=\"_top\" title=\"psysml:cd38e840-8317-467c-8230-e0f8852492a9\" xlink:actuate=\"onRequest\" xlink:href=\"psysml:cd38e840-8317-467c-8230-e0f8852492a9\" xlink:show=\"new\" xlink:title=\"psysml:cd38e840-8317-467c-8230-e0f8852492a9\" xlink:type=\"simple\"><rect fill=\"#FFFFFF\" height=\"45.9375\" id=\"E5\" rx=\"10\" ry=\"10\" style=\"stroke: #383838; stroke-width: 1.5;\" width=\"199\" x=\"246.98\" y=\"41\"/><text fill=\"#000000\" font-family=\"sans-serif\" font-size=\"12\" font-style=\"italic\" lengthAdjust=\"spacingAndGlyphs\" textLength=\"64\" x=\"314.48\" y=\"57.1387\">«analysis»</text><text fill=\"#000000\" font-family=\"sans-serif\" font-size=\"12\" lengthAdjust=\"spacingAndGlyphs\" textLength=\"193\" x=\"249.98\" y=\"71.1074\">engineTradeStudy: TradeStudy</text><line style=\"stroke: #383838; stroke-width: 1.5;\" x1=\"247.98\" x2=\"444.98\" y1=\"78.9375\" y2=\"78.9375\"/></a><!--MD5=[60a26617385b1d2d0262a64233df1f8d]\n",
       "class E6--><a href=\"psysml:bf1db205-ea64-42b3-a829-2093a93eb81c\" target=\"_top\" title=\"psysml:bf1db205-ea64-42b3-a829-2093a93eb81c\" xlink:actuate=\"onRequest\" xlink:href=\"psysml:bf1db205-ea64-42b3-a829-2093a93eb81c\" xlink:show=\"new\" xlink:title=\"psysml:bf1db205-ea64-42b3-a829-2093a93eb81c\" xlink:type=\"simple\"><rect fill=\"#FFFFFF\" height=\"45.9375\" id=\"E6\" rx=\"10\" ry=\"10\" style=\"stroke: #383838; stroke-width: 1.5;\" width=\"251\" x=\"85.98\" y=\"179\"/><text fill=\"#000000\" font-family=\"sans-serif\" font-size=\"12\" font-style=\"italic\" lengthAdjust=\"spacingAndGlyphs\" textLength=\"91\" x=\"165.98\" y=\"195.1387\">«requirement»</text><text fill=\"#000000\" font-family=\"sans-serif\" font-size=\"12\" lengthAdjust=\"spacingAndGlyphs\" textLength=\"245\" x=\"88.98\" y=\"209.1074\">tradeStudyObjective: MaximizeObjective</text><line style=\"stroke: #383838; stroke-width: 1.5;\" x1=\"86.98\" x2=\"335.98\" y1=\"216.9375\" y2=\"216.9375\"/></a><!--MD5=[2156ba9850f5573cc1fc38a6a4b2f02b]\n",
       "class E7--><a href=\"psysml:081fa6ee-8a6f-4292-82c4-f5eb64360f97\" target=\"_top\" title=\"psysml:081fa6ee-8a6f-4292-82c4-f5eb64360f97\" xlink:actuate=\"onRequest\" xlink:href=\"psysml:081fa6ee-8a6f-4292-82c4-f5eb64360f97\" xlink:show=\"new\" xlink:title=\"psysml:081fa6ee-8a6f-4292-82c4-f5eb64360f97\" xlink:type=\"simple\"><rect fill=\"#FFFFFF\" height=\"75.5469\" id=\"E7\" rx=\"10\" ry=\"10\" style=\"stroke: #383838; stroke-width: 1.5;\" width=\"116\" x=\"372.48\" y=\"164\"/><text fill=\"#000000\" font-family=\"sans-serif\" font-size=\"12\" font-style=\"italic\" lengthAdjust=\"spacingAndGlyphs\" textLength=\"82\" x=\"389.48\" y=\"180.1387\">«calculation»</text><text fill=\"#000000\" font-family=\"sans-serif\" font-size=\"12\" lengthAdjust=\"spacingAndGlyphs\" textLength=\"110\" x=\"375.48\" y=\"194.1074\">objectiveFunction</text><line style=\"stroke: #383838; stroke-width: 1.5;\" x1=\"373.48\" x2=\"487.48\" y1=\"201.9375\" y2=\"201.9375\"/><text fill=\"#000000\" font-family=\"sans-serif\" font-size=\"11\" lengthAdjust=\"spacingAndGlyphs\" textLength=\"65\" x=\"378.48\" y=\"232.9526\">result: Real</text><line style=\"stroke: #383838; stroke-width: 1.0;\" x1=\"373.48\" x2=\"402.98\" y1=\"216.3398\" y2=\"216.3398\"/><text fill=\"#000000\" font-family=\"sans-serif\" font-size=\"11\" lengthAdjust=\"spacingAndGlyphs\" textLength=\"55\" x=\"402.98\" y=\"219.6479\">attributes</text><line style=\"stroke: #383838; stroke-width: 1.0;\" x1=\"457.98\" x2=\"487.48\" y1=\"216.3398\" y2=\"216.3398\"/></a><!--MD5=[b9389687b975829384b498ac4b7476b2]\n",
       "class E8--><a href=\"psysml:dbdbccdb-5c16-4bd3-a501-4b1c7e9ddcab\" target=\"_top\" title=\"psysml:dbdbccdb-5c16-4bd3-a501-4b1c7e9ddcab\" xlink:actuate=\"onRequest\" xlink:href=\"psysml:dbdbccdb-5c16-4bd3-a501-4b1c7e9ddcab\" xlink:show=\"new\" xlink:title=\"psysml:dbdbccdb-5c16-4bd3-a501-4b1c7e9ddcab\" xlink:type=\"simple\"><rect fill=\"#FFFFFF\" height=\"45.9375\" id=\"E8\" rx=\"10\" ry=\"10\" style=\"stroke: #383838; stroke-width: 1.5;\" width=\"124\" x=\"78.48\" y=\"346\"/><text fill=\"#000000\" font-family=\"sans-serif\" font-size=\"12\" font-style=\"italic\" lengthAdjust=\"spacingAndGlyphs\" textLength=\"40\" x=\"120.48\" y=\"362.1387\">«part»</text><text fill=\"#000000\" font-family=\"sans-serif\" font-size=\"12\" lengthAdjust=\"spacingAndGlyphs\" textLength=\"118\" x=\"81.48\" y=\"376.1074\">alternative: Engine</text><line style=\"stroke: #383838; stroke-width: 1.5;\" x1=\"79.48\" x2=\"201.48\" y1=\"383.9375\" y2=\"383.9375\"/></a><!--MD5=[fd4143e9d270a159db93a4ea2a975926]\n",
       "class E9--><a href=\"psysml:b6df212f-8018-4500-9608-46bc28de5179\" target=\"_top\" title=\"psysml:b6df212f-8018-4500-9608-46bc28de5179\" xlink:actuate=\"onRequest\" xlink:href=\"psysml:b6df212f-8018-4500-9608-46bc28de5179\" xlink:show=\"new\" xlink:title=\"psysml:b6df212f-8018-4500-9608-46bc28de5179\" xlink:type=\"simple\"><rect fill=\"#FFFFFF\" height=\"45.9375\" id=\"E9\" rx=\"10\" ry=\"10\" style=\"stroke: #383838; stroke-width: 1.5;\" width=\"178\" x=\"298.48\" y=\"270\"/><text fill=\"#000000\" font-family=\"sans-serif\" font-size=\"12\" font-style=\"italic\" lengthAdjust=\"spacingAndGlyphs\" textLength=\"40\" x=\"367.48\" y=\"286.1387\">«part»</text><text fill=\"#000000\" font-family=\"sans-serif\" font-size=\"12\" lengthAdjust=\"spacingAndGlyphs\" textLength=\"172\" x=\"301.48\" y=\"300.1074\">selectedAlternative: Engine</text><line style=\"stroke: #383838; stroke-width: 1.5;\" x1=\"299.48\" x2=\"475.48\" y1=\"307.9375\" y2=\"307.9375\"/></a><!--MD5=[05d275557350bfb9b23a4ef7222b4c39]\n",
       "link E3 to E2--><a href=\"psysml:6a611645-87b6-456f-b99f-fe1a3075932c\" target=\"_top\" title=\"psysml:6a611645-87b6-456f-b99f-fe1a3075932c\" xlink:actuate=\"onRequest\" xlink:href=\"psysml:6a611645-87b6-456f-b99f-fe1a3075932c\" xlink:show=\"new\" xlink:title=\"psysml:6a611645-87b6-456f-b99f-fe1a3075932c\" xlink:type=\"simple\"><path d=\"M422.64,392.01 C383.73,409.54 329.43,434.01 289.87,451.84 \" fill=\"none\" id=\"E3-&gt;E2\" style=\"stroke: #383838; stroke-width: 1.0;\"/><polygon fill=\"#FFFFFF\" points=\"271.5,460.12,285.9466,445.9321,291.6983,458.696,271.5,460.12\" style=\"stroke: #383838; stroke-width: 1.0;\"/><ellipse cx=\"291.965\" cy=\"445.4137\" fill=\"#383838\" rx=\"2\" ry=\"2\" style=\"stroke: #383838; stroke-width: 1.0;\"/><ellipse cx=\"296.0734\" cy=\"454.5308\" fill=\"#383838\" rx=\"2\" ry=\"2\" style=\"stroke: #383838; stroke-width: 1.0;\"/></a><!--MD5=[185131fc0dcab0a4505a2ebe144e961b]\n",
       "link E4 to E2--><a href=\"psysml:c8f697e8-ebd5-44e8-8041-765052aa0dda\" target=\"_top\" title=\"psysml:c8f697e8-ebd5-44e8-8041-765052aa0dda\" xlink:actuate=\"onRequest\" xlink:href=\"psysml:c8f697e8-ebd5-44e8-8041-765052aa0dda\" xlink:show=\"new\" xlink:title=\"psysml:c8f697e8-ebd5-44e8-8041-765052aa0dda\" xlink:type=\"simple\"><path d=\"M309.61,392.01 C298.41,405.08 283.9,422.01 270.9,437.17 \" fill=\"none\" id=\"E4-&gt;E2\" style=\"stroke: #383838; stroke-width: 1.0;\"/><polygon fill=\"#FFFFFF\" points=\"257.63,452.66,264.6788,433.678,275.3091,442.7883,257.63,452.66\" style=\"stroke: #383838; stroke-width: 1.0;\"/><ellipse cx=\"269.9066\" cy=\"430.6515\" fill=\"#383838\" rx=\"2\" ry=\"2\" style=\"stroke: #383838; stroke-width: 1.0;\"/><ellipse cx=\"277.4996\" cy=\"437.1588\" fill=\"#383838\" rx=\"2\" ry=\"2\" style=\"stroke: #383838; stroke-width: 1.0;\"/></a><!--MD5=[15ebcb19ae302d9b601edb458606d402]\n",
       "link E5 to E2--><a href=\"psysml:2f46211a-dc33-450b-96f1-34c5430f413d\" target=\"_top\" title=\"psysml:2f46211a-dc33-450b-96f1-34c5430f413d\" xlink:actuate=\"onRequest\" xlink:href=\"psysml:2f46211a-dc33-450b-96f1-34c5430f413d\" xlink:show=\"new\" xlink:title=\"psysml:2f46211a-dc33-450b-96f1-34c5430f413d\" xlink:type=\"simple\"><path d=\"M246.76,73.1 C184.92,83.79 109.66,108.27 68.48,164 C8.23,245.55 6,306.48 60.48,392 C91.11,440.08 157.66,460.76 200.15,469.32 \" fill=\"none\" id=\"E5-&gt;E2\" style=\"stroke: #383838; stroke-width: 1.0; stroke-dasharray: 7.0,7.0;\"/><polygon fill=\"#383838\" points=\"205.2,470.31,197.1338,464.6588,200.2927,469.3514,195.6001,472.5104,205.2,470.31\" style=\"stroke: #383838; stroke-width: 1.0;\"/><text fill=\"#000000\" font-family=\"sans-serif\" font-size=\"13\" lengthAdjust=\"spacingAndGlyphs\" textLength=\"62\" x=\"26.48\" y=\"297.5669\">«subject»</text></a><!--MD5=[9120cf2e5df3bff93db8f754bbbc09b4]\n",
       "link E5 to E6--><a href=\"psysml:285bfc51-142a-40f2-bdf1-cdd7141b9b55\" target=\"_top\" title=\"psysml:285bfc51-142a-40f2-bdf1-cdd7141b9b55\" xlink:actuate=\"onRequest\" xlink:href=\"psysml:285bfc51-142a-40f2-bdf1-cdd7141b9b55\" xlink:show=\"new\" xlink:title=\"psysml:285bfc51-142a-40f2-bdf1-cdd7141b9b55\" xlink:type=\"simple\"><path d=\"M324.49,87.15 C301.25,110.57 264.53,147.55 239.3,172.98 \" fill=\"none\" id=\"E5-&gt;E6\" style=\"stroke: #383838; stroke-width: 1.0;\"/><polygon fill=\"#383838\" points=\"233.46,178.86,241.2247,175.295,236.966,171.0685,233.46,178.86\" style=\"stroke: #383838; stroke-width: 1.0;\"/><text fill=\"#000000\" font-family=\"sans-serif\" font-size=\"13\" lengthAdjust=\"spacingAndGlyphs\" textLength=\"73\" x=\"291.48\" y=\"130.0669\">«objective»</text></a><!--MD5=[452b418e7f8a40397a49b8c0a78acc5b]\n",
       "reverse link E5 to E7--><a href=\"psysml:081fa6ee-8a6f-4292-82c4-f5eb64360f97\" target=\"_top\" title=\"psysml:081fa6ee-8a6f-4292-82c4-f5eb64360f97\" xlink:actuate=\"onRequest\" xlink:href=\"psysml:081fa6ee-8a6f-4292-82c4-f5eb64360f97\" xlink:show=\"new\" xlink:title=\"psysml:081fa6ee-8a6f-4292-82c4-f5eb64360f97\" xlink:type=\"simple\"><path d=\"M367.14,98.44 C379.4,118.3 394.98,143.52 407.61,163.97 \" fill=\"none\" id=\"E5&lt;-E7\" style=\"stroke: #383838; stroke-width: 1.0;\"/><polygon fill=\"#383838\" points=\"360.16,87.15,359.9052,94.3566,366.4595,97.3636,366.7142,90.157,360.16,87.15\" style=\"stroke: #383838; stroke-width: 1.0;\"/></a><!--MD5=[f1f3f9f2fc535e6147756cb86a7f2e32]\n",
       "link E8 to E2--><a href=\"psysml:143d7cb3-4d47-41f0-bb56-6d1ae515b029\" target=\"_top\" title=\"psysml:143d7cb3-4d47-41f0-bb56-6d1ae515b029\" xlink:actuate=\"onRequest\" xlink:href=\"psysml:143d7cb3-4d47-41f0-bb56-6d1ae515b029\" xlink:show=\"new\" xlink:title=\"psysml:143d7cb3-4d47-41f0-bb56-6d1ae515b029\" xlink:type=\"simple\"><path d=\"M161.02,392.01 C173.35,405.22 189.36,422.38 203.62,437.65 \" fill=\"none\" id=\"E8-&gt;E2\" style=\"stroke: #383838; stroke-width: 1.0;\"/><polygon fill=\"#FFFFFF\" points=\"217.63,452.66,199.5521,443.5393,209.7905,433.9907,217.63,452.66\" style=\"stroke: #383838; stroke-width: 1.0;\"/><ellipse cx=\"197.1271\" cy=\"438.0067\" fill=\"#383838\" rx=\"2\" ry=\"2\" style=\"stroke: #383838; stroke-width: 1.0;\"/><ellipse cx=\"204.4402\" cy=\"431.1863\" fill=\"#383838\" rx=\"2\" ry=\"2\" style=\"stroke: #383838; stroke-width: 1.0;\"/></a><!--MD5=[dc164f5e8a733ab456ef1add180e9e34]\n",
       "reverse link E7 to E8--><a href=\"psysml:dbdbccdb-5c16-4bd3-a501-4b1c7e9ddcab\" target=\"_top\" title=\"psysml:dbdbccdb-5c16-4bd3-a501-4b1c7e9ddcab\" xlink:actuate=\"onRequest\" xlink:href=\"psysml:dbdbccdb-5c16-4bd3-a501-4b1c7e9ddcab\" xlink:show=\"new\" xlink:title=\"psysml:dbdbccdb-5c16-4bd3-a501-4b1c7e9ddcab\" xlink:type=\"simple\"><path d=\"M360.21,237.41 C358.28,238.29 356.37,239.15 354.48,240 C322.47,254.35 312.29,253.22 281.48,270 C240.11,292.53 196.1,324.58 168.46,345.81 \" fill=\"none\" id=\"E7&lt;-E8\" style=\"stroke: #383838; stroke-width: 1.0;\"/><polygon fill=\"#FFFFFF\" points=\"372.15,231.86,365.0224,230.7655,361.2708,236.9238,368.3983,238.0183,372.15,231.86\" style=\"stroke: #383838; stroke-width: 1.0;\"/></a><!--MD5=[5c3bb36fe832a92c7f0e1807dd65209d]\n",
       "link E9 to E2--><a href=\"psysml:cb3e8ea7-f115-4f34-bcd9-dd1e6ba812b8\" target=\"_top\" title=\"psysml:cb3e8ea7-f115-4f34-bcd9-dd1e6ba812b8\" xlink:actuate=\"onRequest\" xlink:href=\"psysml:cb3e8ea7-f115-4f34-bcd9-dd1e6ba812b8\" xlink:show=\"new\" xlink:title=\"psysml:cb3e8ea7-f115-4f34-bcd9-dd1e6ba812b8\" xlink:type=\"simple\"><path d=\"M298.35,315.15 C282.73,322.56 268.1,332.55 257.48,346 C238.33,370.25 234.2,405.32 234.52,432.77 \" fill=\"none\" id=\"E9-&gt;E2\" style=\"stroke: #383838; stroke-width: 1.0;\"/><polygon fill=\"#FFFFFF\" points=\"235.52,452.81,227.5786,434.1838,241.5611,433.4837,235.52,452.81\" style=\"stroke: #383838; stroke-width: 1.0;\"/><ellipse cx=\"229.291\" cy=\"428.3909\" fill=\"#383838\" rx=\"2\" ry=\"2\" style=\"stroke: #383838; stroke-width: 1.0;\"/><ellipse cx=\"239.2785\" cy=\"427.8909\" fill=\"#383838\" rx=\"2\" ry=\"2\" style=\"stroke: #383838; stroke-width: 1.0;\"/></a><!--MD5=[9ae28de373ca99bb8a1b38d63370ca7e]\n",
       "reverse link E5 to E9--><a href=\"psysml:b6df212f-8018-4500-9608-46bc28de5179\" target=\"_top\" title=\"psysml:b6df212f-8018-4500-9608-46bc28de5179\" xlink:actuate=\"onRequest\" xlink:href=\"psysml:b6df212f-8018-4500-9608-46bc28de5179\" xlink:show=\"new\" xlink:title=\"psysml:b6df212f-8018-4500-9608-46bc28de5179\" xlink:type=\"simple\"><path d=\"M423.24,92.77 C454.94,108.48 488.43,131.61 506.48,164 C522.92,193.51 524.97,211.74 506.48,240 C498.02,252.92 485.57,262.65 471.87,269.97 \" fill=\"none\" id=\"E5&lt;-E9\" style=\"stroke: #383838; stroke-width: 1.0;\"/><polygon fill=\"#FFFFFF\" points=\"411.22,87.11,414.9414,93.2867,422.0742,92.2272,418.3528,86.0505,411.22,87.11\" style=\"stroke: #383838; stroke-width: 1.0;\"/></a><!--MD5=[80db76ebd5f8ac5962f980ca24bf1caa]\n",
       "@startuml\r\n",
       "top to bottom direction\r\n",
       "skinparam monochrome true\r\n",
       "skinparam classbackgroundcolor white\r\n",
       "skinparam shadowing false\r\n",
       "skinparam wrapWidth 300\r\n",
       "hide circle\r\n",
       "\r\n",
       "package \"TradeStudyTest\" as E1  [[psysml:8952aa40-03a2-4df7-81e1-750bf2c7b589 ]]  {\r\n",
       "comp def \"Engine\" as E2  <<(T,blue)part def>> [[psysml:ba5002a0-783d-43b2-abfa-70b37f90804c ]] {\r\n",
       "}\r\n",
       "comp usage \"engine1: Engine\" as E3  <<(T,blue)part>> [[psysml:47ce73ab-2c54-4db4-9d19-7bcb338cdf44 ]] {\r\n",
       "}\r\n",
       "comp usage \"engine2: Engine\" as E4  <<(T,blue)part>> [[psysml:7dfdc806-8438-4ccb-bd71-8b6bdaa69ab8 ]] {\r\n",
       "}\r\n",
       "comp usage \"engineTradeStudy: TradeStudy\" as E5 <<analysis>> [[psysml:cd38e840-8317-467c-8230-e0f8852492a9 ]] {\r\n",
       "}\r\n",
       "comp usage \"tradeStudyObjective: MaximizeObjective\" as E6  <<(T,blue)requirement>> [[psysml:bf1db205-ea64-42b3-a829-2093a93eb81c ]] {\r\n",
       "}\r\n",
       "comp usage \"objectiveFunction\" as E7  <<(T,blue)calculation>> [[psysml:081fa6ee-8a6f-4292-82c4-f5eb64360f97 ]] {\r\n",
       "- - attributes - -\r\n",
       "result: Real\r\n",
       "}\r\n",
       "comp usage \"alternative: Engine\" as E8  <<(T,blue)part>> [[psysml:dbdbccdb-5c16-4bd3-a501-4b1c7e9ddcab ]] {\r\n",
       "}\r\n",
       "comp usage \"selectedAlternative: Engine\" as E9  <<(T,blue)part>> [[psysml:b6df212f-8018-4500-9608-46bc28de5179 ]] {\r\n",
       "}\r\n",
       "E3 - -:|> E2 [[psysml:6a611645-87b6-456f-b99f-fe1a3075932c ]] \r\n",
       "E4 - -:|> E2 [[psysml:c8f697e8-ebd5-44e8-8041-765052aa0dda ]] \r\n",
       "E5 ..> E2 [[psysml:2f46211a-dc33-450b-96f1-34c5430f413d ]] : <<subject>>\r\n",
       "E5 - ->> E6 [[psysml:285bfc51-142a-40f2-bdf1-cdd7141b9b55 ]] : <<objective>>\r\n",
       "E5 *- - E7 [[psysml:081fa6ee-8a6f-4292-82c4-f5eb64360f97 ]] \r\n",
       "E8 - -:|> E2 [[psysml:143d7cb3-4d47-41f0-bb56-6d1ae515b029 ]] \r\n",
       "E7 o- - E8 [[psysml:dbdbccdb-5c16-4bd3-a501-4b1c7e9ddcab ]] \r\n",
       "E9 - -:|> E2 [[psysml:cb3e8ea7-f115-4f34-bcd9-dd1e6ba812b8 ]] \r\n",
       "E5 o- - E9 [[psysml:b6df212f-8018-4500-9608-46bc28de5179 ]] \r\n",
       "}\r\n",
       "@enduml\r\n",
       "\n",
       "PlantUML version 1.2020.13(Sat Jun 13 12:26:38 UTC 2020)\n",
       "(EPL source distribution)\n",
       "Java Runtime: OpenJDK Runtime Environment\n",
       "JVM: OpenJDK 64-Bit Server VM\n",
       "Default Encoding: UTF-8\n",
       "Language: en\n",
       "Country: null\n",
       "--></g></svg>"
      ]
     },
     "execution_count": 44,
     "metadata": {},
     "output_type": "execute_result"
    }
   ],
   "source": [
    "%viz --style=\"TB\" --view=\"Default\" \"TradeStudyTest\""
   ]
  },
  {
   "cell_type": "code",
   "execution_count": 45,
   "id": "beginning-business",
   "metadata": {
    "execution": {
     "iopub.execute_input": "2021-03-25T09:29:32.656405Z",
     "iopub.status.busy": "2021-03-25T09:29:32.655340Z",
     "iopub.status.idle": "2021-03-25T09:29:33.002603Z",
     "shell.execute_reply": "2021-03-25T09:29:33.003068Z"
    }
   },
   "outputs": [
    {
     "data": {
      "image/svg+xml": [
       "<?xml version=\"1.0\" encoding=\"UTF-8\" standalone=\"no\"?><svg xmlns=\"http://www.w3.org/2000/svg\" xmlns:xlink=\"http://www.w3.org/1999/xlink\" contentScriptType=\"application/ecmascript\" contentStyleType=\"text/css\" height=\"527px\" preserveAspectRatio=\"none\" style=\"width:563px;height:527px;\" version=\"1.1\" viewBox=\"0 0 563 527\" width=\"563px\" zoomAndPan=\"magnify\"><defs/><g><!--MD5=[fbc87193dbaf4d95561dea2c320d4a47]\n",
       "cluster E1--><a href=\"psysml:8952aa40-03a2-4df7-81e1-750bf2c7b589\" target=\"_top\" title=\"psysml:8952aa40-03a2-4df7-81e1-750bf2c7b589\" xlink:actuate=\"onRequest\" xlink:href=\"psysml:8952aa40-03a2-4df7-81e1-750bf2c7b589\" xlink:show=\"new\" xlink:title=\"psysml:8952aa40-03a2-4df7-81e1-750bf2c7b589\" xlink:type=\"simple\"><polygon fill=\"#FFFFFF\" points=\"25.48,6,157.48,6,164.48,28.2969,541.48,28.2969,541.48,515,25.48,515,25.48,6\" style=\"stroke: #000000; stroke-width: 1.5;\"/><line style=\"stroke: #000000; stroke-width: 1.5;\" x1=\"25.48\" x2=\"164.48\" y1=\"28.2969\" y2=\"28.2969\"/><text fill=\"#000000\" font-family=\"sans-serif\" font-size=\"14\" font-weight=\"bold\" lengthAdjust=\"spacingAndGlyphs\" textLength=\"126\" x=\"29.48\" y=\"20.9951\">TradeStudyTest</text></a><!--MD5=[b4997ac47864f28c2f74865a473b2911]\n",
       "class E2--><a href=\"psysml:ba5002a0-783d-43b2-abfa-70b37f90804c\" target=\"_top\" title=\"psysml:ba5002a0-783d-43b2-abfa-70b37f90804c\" xlink:actuate=\"onRequest\" xlink:href=\"psysml:ba5002a0-783d-43b2-abfa-70b37f90804c\" xlink:show=\"new\" xlink:title=\"psysml:ba5002a0-783d-43b2-abfa-70b37f90804c\" xlink:type=\"simple\"><rect fill=\"#FFFFFF\" height=\"45.9375\" id=\"E2\" style=\"stroke: #383838; stroke-width: 1.5;\" width=\"66\" x=\"205.48\" y=\"453\"/><text fill=\"#000000\" font-family=\"sans-serif\" font-size=\"12\" font-style=\"italic\" lengthAdjust=\"spacingAndGlyphs\" textLength=\"64\" x=\"206.48\" y=\"469.1387\">«part def»</text><text fill=\"#000000\" font-family=\"sans-serif\" font-size=\"12\" lengthAdjust=\"spacingAndGlyphs\" textLength=\"43\" x=\"216.98\" y=\"483.1074\">Engine</text><line style=\"stroke: #383838; stroke-width: 1.5;\" x1=\"206.48\" x2=\"270.48\" y1=\"490.9375\" y2=\"490.9375\"/></a><!--MD5=[09b614a08d8cba4a07c9adeb5e0fee81]\n",
       "class E3--><a href=\"psysml:47ce73ab-2c54-4db4-9d19-7bcb338cdf44\" target=\"_top\" title=\"psysml:47ce73ab-2c54-4db4-9d19-7bcb338cdf44\" xlink:actuate=\"onRequest\" xlink:href=\"psysml:47ce73ab-2c54-4db4-9d19-7bcb338cdf44\" xlink:show=\"new\" xlink:title=\"psysml:47ce73ab-2c54-4db4-9d19-7bcb338cdf44\" xlink:type=\"simple\"><rect fill=\"#FFFFFF\" height=\"45.9375\" id=\"E3\" rx=\"10\" ry=\"10\" style=\"stroke: #383838; stroke-width: 1.5;\" width=\"108\" x=\"417.48\" y=\"346\"/><text fill=\"#000000\" font-family=\"sans-serif\" font-size=\"12\" font-style=\"italic\" lengthAdjust=\"spacingAndGlyphs\" textLength=\"40\" x=\"451.48\" y=\"362.1387\">«part»</text><text fill=\"#000000\" font-family=\"sans-serif\" font-size=\"12\" lengthAdjust=\"spacingAndGlyphs\" textLength=\"102\" x=\"420.48\" y=\"376.1074\">engine1: Engine</text><line style=\"stroke: #383838; stroke-width: 1.5;\" x1=\"418.48\" x2=\"524.48\" y1=\"383.9375\" y2=\"383.9375\"/></a><!--MD5=[ebbe1d658d1005bcc118a6aa81145e00]\n",
       "class E4--><a href=\"psysml:7dfdc806-8438-4ccb-bd71-8b6bdaa69ab8\" target=\"_top\" title=\"psysml:7dfdc806-8438-4ccb-bd71-8b6bdaa69ab8\" xlink:actuate=\"onRequest\" xlink:href=\"psysml:7dfdc806-8438-4ccb-bd71-8b6bdaa69ab8\" xlink:show=\"new\" xlink:title=\"psysml:7dfdc806-8438-4ccb-bd71-8b6bdaa69ab8\" xlink:type=\"simple\"><rect fill=\"#FFFFFF\" height=\"45.9375\" id=\"E4\" rx=\"10\" ry=\"10\" style=\"stroke: #383838; stroke-width: 1.5;\" width=\"108\" x=\"274.48\" y=\"346\"/><text fill=\"#000000\" font-family=\"sans-serif\" font-size=\"12\" font-style=\"italic\" lengthAdjust=\"spacingAndGlyphs\" textLength=\"40\" x=\"308.48\" y=\"362.1387\">«part»</text><text fill=\"#000000\" font-family=\"sans-serif\" font-size=\"12\" lengthAdjust=\"spacingAndGlyphs\" textLength=\"102\" x=\"277.48\" y=\"376.1074\">engine2: Engine</text><line style=\"stroke: #383838; stroke-width: 1.5;\" x1=\"275.48\" x2=\"381.48\" y1=\"383.9375\" y2=\"383.9375\"/></a><!--MD5=[270fce915f116d4de14055a7c1d9a0f3]\n",
       "class E5--><a href=\"psysml:cd38e840-8317-467c-8230-e0f8852492a9\" target=\"_top\" title=\"psysml:cd38e840-8317-467c-8230-e0f8852492a9\" xlink:actuate=\"onRequest\" xlink:href=\"psysml:cd38e840-8317-467c-8230-e0f8852492a9\" xlink:show=\"new\" xlink:title=\"psysml:cd38e840-8317-467c-8230-e0f8852492a9\" xlink:type=\"simple\"><rect fill=\"#FFFFFF\" height=\"45.9375\" id=\"E5\" rx=\"10\" ry=\"10\" style=\"stroke: #383838; stroke-width: 1.5;\" width=\"199\" x=\"246.98\" y=\"41\"/><text fill=\"#000000\" font-family=\"sans-serif\" font-size=\"12\" font-style=\"italic\" lengthAdjust=\"spacingAndGlyphs\" textLength=\"64\" x=\"314.48\" y=\"57.1387\">«analysis»</text><text fill=\"#000000\" font-family=\"sans-serif\" font-size=\"12\" lengthAdjust=\"spacingAndGlyphs\" textLength=\"193\" x=\"249.98\" y=\"71.1074\">engineTradeStudy: TradeStudy</text><line style=\"stroke: #383838; stroke-width: 1.5;\" x1=\"247.98\" x2=\"444.98\" y1=\"78.9375\" y2=\"78.9375\"/></a><!--MD5=[60a26617385b1d2d0262a64233df1f8d]\n",
       "class E6--><a href=\"psysml:bf1db205-ea64-42b3-a829-2093a93eb81c\" target=\"_top\" title=\"psysml:bf1db205-ea64-42b3-a829-2093a93eb81c\" xlink:actuate=\"onRequest\" xlink:href=\"psysml:bf1db205-ea64-42b3-a829-2093a93eb81c\" xlink:show=\"new\" xlink:title=\"psysml:bf1db205-ea64-42b3-a829-2093a93eb81c\" xlink:type=\"simple\"><rect fill=\"#FFFFFF\" height=\"45.9375\" id=\"E6\" rx=\"10\" ry=\"10\" style=\"stroke: #383838; stroke-width: 1.5;\" width=\"251\" x=\"85.98\" y=\"179\"/><text fill=\"#000000\" font-family=\"sans-serif\" font-size=\"12\" font-style=\"italic\" lengthAdjust=\"spacingAndGlyphs\" textLength=\"91\" x=\"165.98\" y=\"195.1387\">«requirement»</text><text fill=\"#000000\" font-family=\"sans-serif\" font-size=\"12\" lengthAdjust=\"spacingAndGlyphs\" textLength=\"245\" x=\"88.98\" y=\"209.1074\">tradeStudyObjective: MaximizeObjective</text><line style=\"stroke: #383838; stroke-width: 1.5;\" x1=\"86.98\" x2=\"335.98\" y1=\"216.9375\" y2=\"216.9375\"/></a><!--MD5=[2156ba9850f5573cc1fc38a6a4b2f02b]\n",
       "class E7--><a href=\"psysml:081fa6ee-8a6f-4292-82c4-f5eb64360f97\" target=\"_top\" title=\"psysml:081fa6ee-8a6f-4292-82c4-f5eb64360f97\" xlink:actuate=\"onRequest\" xlink:href=\"psysml:081fa6ee-8a6f-4292-82c4-f5eb64360f97\" xlink:show=\"new\" xlink:title=\"psysml:081fa6ee-8a6f-4292-82c4-f5eb64360f97\" xlink:type=\"simple\"><rect fill=\"#FFFFFF\" height=\"75.5469\" id=\"E7\" rx=\"10\" ry=\"10\" style=\"stroke: #383838; stroke-width: 1.5;\" width=\"116\" x=\"372.48\" y=\"164\"/><text fill=\"#000000\" font-family=\"sans-serif\" font-size=\"12\" font-style=\"italic\" lengthAdjust=\"spacingAndGlyphs\" textLength=\"82\" x=\"389.48\" y=\"180.1387\">«calculation»</text><text fill=\"#000000\" font-family=\"sans-serif\" font-size=\"12\" lengthAdjust=\"spacingAndGlyphs\" textLength=\"110\" x=\"375.48\" y=\"194.1074\">objectiveFunction</text><line style=\"stroke: #383838; stroke-width: 1.5;\" x1=\"373.48\" x2=\"487.48\" y1=\"201.9375\" y2=\"201.9375\"/><text fill=\"#000000\" font-family=\"sans-serif\" font-size=\"11\" lengthAdjust=\"spacingAndGlyphs\" textLength=\"65\" x=\"378.48\" y=\"232.9526\">result: Real</text><line style=\"stroke: #383838; stroke-width: 1.0;\" x1=\"373.48\" x2=\"402.98\" y1=\"216.3398\" y2=\"216.3398\"/><text fill=\"#000000\" font-family=\"sans-serif\" font-size=\"11\" lengthAdjust=\"spacingAndGlyphs\" textLength=\"55\" x=\"402.98\" y=\"219.6479\">attributes</text><line style=\"stroke: #383838; stroke-width: 1.0;\" x1=\"457.98\" x2=\"487.48\" y1=\"216.3398\" y2=\"216.3398\"/></a><!--MD5=[b9389687b975829384b498ac4b7476b2]\n",
       "class E8--><a href=\"psysml:dbdbccdb-5c16-4bd3-a501-4b1c7e9ddcab\" target=\"_top\" title=\"psysml:dbdbccdb-5c16-4bd3-a501-4b1c7e9ddcab\" xlink:actuate=\"onRequest\" xlink:href=\"psysml:dbdbccdb-5c16-4bd3-a501-4b1c7e9ddcab\" xlink:show=\"new\" xlink:title=\"psysml:dbdbccdb-5c16-4bd3-a501-4b1c7e9ddcab\" xlink:type=\"simple\"><rect fill=\"#FFFFFF\" height=\"45.9375\" id=\"E8\" rx=\"10\" ry=\"10\" style=\"stroke: #383838; stroke-width: 1.5;\" width=\"124\" x=\"78.48\" y=\"346\"/><text fill=\"#000000\" font-family=\"sans-serif\" font-size=\"12\" font-style=\"italic\" lengthAdjust=\"spacingAndGlyphs\" textLength=\"40\" x=\"120.48\" y=\"362.1387\">«part»</text><text fill=\"#000000\" font-family=\"sans-serif\" font-size=\"12\" lengthAdjust=\"spacingAndGlyphs\" textLength=\"118\" x=\"81.48\" y=\"376.1074\">alternative: Engine</text><line style=\"stroke: #383838; stroke-width: 1.5;\" x1=\"79.48\" x2=\"201.48\" y1=\"383.9375\" y2=\"383.9375\"/></a><!--MD5=[fd4143e9d270a159db93a4ea2a975926]\n",
       "class E9--><a href=\"psysml:b6df212f-8018-4500-9608-46bc28de5179\" target=\"_top\" title=\"psysml:b6df212f-8018-4500-9608-46bc28de5179\" xlink:actuate=\"onRequest\" xlink:href=\"psysml:b6df212f-8018-4500-9608-46bc28de5179\" xlink:show=\"new\" xlink:title=\"psysml:b6df212f-8018-4500-9608-46bc28de5179\" xlink:type=\"simple\"><rect fill=\"#FFFFFF\" height=\"45.9375\" id=\"E9\" rx=\"10\" ry=\"10\" style=\"stroke: #383838; stroke-width: 1.5;\" width=\"178\" x=\"298.48\" y=\"270\"/><text fill=\"#000000\" font-family=\"sans-serif\" font-size=\"12\" font-style=\"italic\" lengthAdjust=\"spacingAndGlyphs\" textLength=\"40\" x=\"367.48\" y=\"286.1387\">«part»</text><text fill=\"#000000\" font-family=\"sans-serif\" font-size=\"12\" lengthAdjust=\"spacingAndGlyphs\" textLength=\"172\" x=\"301.48\" y=\"300.1074\">selectedAlternative: Engine</text><line style=\"stroke: #383838; stroke-width: 1.5;\" x1=\"299.48\" x2=\"475.48\" y1=\"307.9375\" y2=\"307.9375\"/></a><!--MD5=[05d275557350bfb9b23a4ef7222b4c39]\n",
       "link E3 to E2--><a href=\"psysml:6a611645-87b6-456f-b99f-fe1a3075932c\" target=\"_top\" title=\"psysml:6a611645-87b6-456f-b99f-fe1a3075932c\" xlink:actuate=\"onRequest\" xlink:href=\"psysml:6a611645-87b6-456f-b99f-fe1a3075932c\" xlink:show=\"new\" xlink:title=\"psysml:6a611645-87b6-456f-b99f-fe1a3075932c\" xlink:type=\"simple\"><path d=\"M422.64,392.01 C383.73,409.54 329.43,434.01 289.87,451.84 \" fill=\"none\" id=\"E3-&gt;E2\" style=\"stroke: #383838; stroke-width: 1.0;\"/><polygon fill=\"#FFFFFF\" points=\"271.5,460.12,285.9466,445.9321,291.6983,458.696,271.5,460.12\" style=\"stroke: #383838; stroke-width: 1.0;\"/><ellipse cx=\"291.965\" cy=\"445.4137\" fill=\"#383838\" rx=\"2\" ry=\"2\" style=\"stroke: #383838; stroke-width: 1.0;\"/><ellipse cx=\"296.0734\" cy=\"454.5308\" fill=\"#383838\" rx=\"2\" ry=\"2\" style=\"stroke: #383838; stroke-width: 1.0;\"/></a><!--MD5=[185131fc0dcab0a4505a2ebe144e961b]\n",
       "link E4 to E2--><a href=\"psysml:c8f697e8-ebd5-44e8-8041-765052aa0dda\" target=\"_top\" title=\"psysml:c8f697e8-ebd5-44e8-8041-765052aa0dda\" xlink:actuate=\"onRequest\" xlink:href=\"psysml:c8f697e8-ebd5-44e8-8041-765052aa0dda\" xlink:show=\"new\" xlink:title=\"psysml:c8f697e8-ebd5-44e8-8041-765052aa0dda\" xlink:type=\"simple\"><path d=\"M309.61,392.01 C298.41,405.08 283.9,422.01 270.9,437.17 \" fill=\"none\" id=\"E4-&gt;E2\" style=\"stroke: #383838; stroke-width: 1.0;\"/><polygon fill=\"#FFFFFF\" points=\"257.63,452.66,264.6788,433.678,275.3091,442.7883,257.63,452.66\" style=\"stroke: #383838; stroke-width: 1.0;\"/><ellipse cx=\"269.9066\" cy=\"430.6515\" fill=\"#383838\" rx=\"2\" ry=\"2\" style=\"stroke: #383838; stroke-width: 1.0;\"/><ellipse cx=\"277.4996\" cy=\"437.1588\" fill=\"#383838\" rx=\"2\" ry=\"2\" style=\"stroke: #383838; stroke-width: 1.0;\"/></a><!--MD5=[15ebcb19ae302d9b601edb458606d402]\n",
       "link E5 to E2--><a href=\"psysml:2f46211a-dc33-450b-96f1-34c5430f413d\" target=\"_top\" title=\"psysml:2f46211a-dc33-450b-96f1-34c5430f413d\" xlink:actuate=\"onRequest\" xlink:href=\"psysml:2f46211a-dc33-450b-96f1-34c5430f413d\" xlink:show=\"new\" xlink:title=\"psysml:2f46211a-dc33-450b-96f1-34c5430f413d\" xlink:type=\"simple\"><path d=\"M246.76,73.1 C184.92,83.79 109.66,108.27 68.48,164 C8.23,245.55 6,306.48 60.48,392 C91.11,440.08 157.66,460.76 200.15,469.32 \" fill=\"none\" id=\"E5-&gt;E2\" style=\"stroke: #383838; stroke-width: 1.0; stroke-dasharray: 7.0,7.0;\"/><polygon fill=\"#383838\" points=\"205.2,470.31,197.1338,464.6588,200.2927,469.3514,195.6001,472.5104,205.2,470.31\" style=\"stroke: #383838; stroke-width: 1.0;\"/><text fill=\"#000000\" font-family=\"sans-serif\" font-size=\"13\" lengthAdjust=\"spacingAndGlyphs\" textLength=\"62\" x=\"26.48\" y=\"297.5669\">«subject»</text></a><!--MD5=[9120cf2e5df3bff93db8f754bbbc09b4]\n",
       "link E5 to E6--><a href=\"psysml:285bfc51-142a-40f2-bdf1-cdd7141b9b55\" target=\"_top\" title=\"psysml:285bfc51-142a-40f2-bdf1-cdd7141b9b55\" xlink:actuate=\"onRequest\" xlink:href=\"psysml:285bfc51-142a-40f2-bdf1-cdd7141b9b55\" xlink:show=\"new\" xlink:title=\"psysml:285bfc51-142a-40f2-bdf1-cdd7141b9b55\" xlink:type=\"simple\"><path d=\"M324.49,87.15 C301.25,110.57 264.53,147.55 239.3,172.98 \" fill=\"none\" id=\"E5-&gt;E6\" style=\"stroke: #383838; stroke-width: 1.0;\"/><polygon fill=\"#383838\" points=\"233.46,178.86,241.2247,175.295,236.966,171.0685,233.46,178.86\" style=\"stroke: #383838; stroke-width: 1.0;\"/><text fill=\"#000000\" font-family=\"sans-serif\" font-size=\"13\" lengthAdjust=\"spacingAndGlyphs\" textLength=\"73\" x=\"291.48\" y=\"130.0669\">«objective»</text></a><!--MD5=[452b418e7f8a40397a49b8c0a78acc5b]\n",
       "reverse link E5 to E7--><a href=\"psysml:081fa6ee-8a6f-4292-82c4-f5eb64360f97\" target=\"_top\" title=\"psysml:081fa6ee-8a6f-4292-82c4-f5eb64360f97\" xlink:actuate=\"onRequest\" xlink:href=\"psysml:081fa6ee-8a6f-4292-82c4-f5eb64360f97\" xlink:show=\"new\" xlink:title=\"psysml:081fa6ee-8a6f-4292-82c4-f5eb64360f97\" xlink:type=\"simple\"><path d=\"M367.14,98.44 C379.4,118.3 394.98,143.52 407.61,163.97 \" fill=\"none\" id=\"E5&lt;-E7\" style=\"stroke: #383838; stroke-width: 1.0;\"/><polygon fill=\"#383838\" points=\"360.16,87.15,359.9052,94.3566,366.4595,97.3636,366.7142,90.157,360.16,87.15\" style=\"stroke: #383838; stroke-width: 1.0;\"/></a><!--MD5=[f1f3f9f2fc535e6147756cb86a7f2e32]\n",
       "link E8 to E2--><a href=\"psysml:143d7cb3-4d47-41f0-bb56-6d1ae515b029\" target=\"_top\" title=\"psysml:143d7cb3-4d47-41f0-bb56-6d1ae515b029\" xlink:actuate=\"onRequest\" xlink:href=\"psysml:143d7cb3-4d47-41f0-bb56-6d1ae515b029\" xlink:show=\"new\" xlink:title=\"psysml:143d7cb3-4d47-41f0-bb56-6d1ae515b029\" xlink:type=\"simple\"><path d=\"M161.02,392.01 C173.35,405.22 189.36,422.38 203.62,437.65 \" fill=\"none\" id=\"E8-&gt;E2\" style=\"stroke: #383838; stroke-width: 1.0;\"/><polygon fill=\"#FFFFFF\" points=\"217.63,452.66,199.5521,443.5393,209.7905,433.9907,217.63,452.66\" style=\"stroke: #383838; stroke-width: 1.0;\"/><ellipse cx=\"197.1271\" cy=\"438.0067\" fill=\"#383838\" rx=\"2\" ry=\"2\" style=\"stroke: #383838; stroke-width: 1.0;\"/><ellipse cx=\"204.4402\" cy=\"431.1863\" fill=\"#383838\" rx=\"2\" ry=\"2\" style=\"stroke: #383838; stroke-width: 1.0;\"/></a><!--MD5=[dc164f5e8a733ab456ef1add180e9e34]\n",
       "reverse link E7 to E8--><a href=\"psysml:dbdbccdb-5c16-4bd3-a501-4b1c7e9ddcab\" target=\"_top\" title=\"psysml:dbdbccdb-5c16-4bd3-a501-4b1c7e9ddcab\" xlink:actuate=\"onRequest\" xlink:href=\"psysml:dbdbccdb-5c16-4bd3-a501-4b1c7e9ddcab\" xlink:show=\"new\" xlink:title=\"psysml:dbdbccdb-5c16-4bd3-a501-4b1c7e9ddcab\" xlink:type=\"simple\"><path d=\"M360.21,237.41 C358.28,238.29 356.37,239.15 354.48,240 C322.47,254.35 312.29,253.22 281.48,270 C240.11,292.53 196.1,324.58 168.46,345.81 \" fill=\"none\" id=\"E7&lt;-E8\" style=\"stroke: #383838; stroke-width: 1.0;\"/><polygon fill=\"#FFFFFF\" points=\"372.15,231.86,365.0224,230.7655,361.2708,236.9238,368.3983,238.0183,372.15,231.86\" style=\"stroke: #383838; stroke-width: 1.0;\"/></a><!--MD5=[5c3bb36fe832a92c7f0e1807dd65209d]\n",
       "link E9 to E2--><a href=\"psysml:cb3e8ea7-f115-4f34-bcd9-dd1e6ba812b8\" target=\"_top\" title=\"psysml:cb3e8ea7-f115-4f34-bcd9-dd1e6ba812b8\" xlink:actuate=\"onRequest\" xlink:href=\"psysml:cb3e8ea7-f115-4f34-bcd9-dd1e6ba812b8\" xlink:show=\"new\" xlink:title=\"psysml:cb3e8ea7-f115-4f34-bcd9-dd1e6ba812b8\" xlink:type=\"simple\"><path d=\"M298.35,315.15 C282.73,322.56 268.1,332.55 257.48,346 C238.33,370.25 234.2,405.32 234.52,432.77 \" fill=\"none\" id=\"E9-&gt;E2\" style=\"stroke: #383838; stroke-width: 1.0;\"/><polygon fill=\"#FFFFFF\" points=\"235.52,452.81,227.5786,434.1838,241.5611,433.4837,235.52,452.81\" style=\"stroke: #383838; stroke-width: 1.0;\"/><ellipse cx=\"229.291\" cy=\"428.3909\" fill=\"#383838\" rx=\"2\" ry=\"2\" style=\"stroke: #383838; stroke-width: 1.0;\"/><ellipse cx=\"239.2785\" cy=\"427.8909\" fill=\"#383838\" rx=\"2\" ry=\"2\" style=\"stroke: #383838; stroke-width: 1.0;\"/></a><!--MD5=[9ae28de373ca99bb8a1b38d63370ca7e]\n",
       "reverse link E5 to E9--><a href=\"psysml:b6df212f-8018-4500-9608-46bc28de5179\" target=\"_top\" title=\"psysml:b6df212f-8018-4500-9608-46bc28de5179\" xlink:actuate=\"onRequest\" xlink:href=\"psysml:b6df212f-8018-4500-9608-46bc28de5179\" xlink:show=\"new\" xlink:title=\"psysml:b6df212f-8018-4500-9608-46bc28de5179\" xlink:type=\"simple\"><path d=\"M423.24,92.77 C454.94,108.48 488.43,131.61 506.48,164 C522.92,193.51 524.97,211.74 506.48,240 C498.02,252.92 485.57,262.65 471.87,269.97 \" fill=\"none\" id=\"E5&lt;-E9\" style=\"stroke: #383838; stroke-width: 1.0;\"/><polygon fill=\"#FFFFFF\" points=\"411.22,87.11,414.9414,93.2867,422.0742,92.2272,418.3528,86.0505,411.22,87.11\" style=\"stroke: #383838; stroke-width: 1.0;\"/></a><!--MD5=[80db76ebd5f8ac5962f980ca24bf1caa]\n",
       "@startuml\r\n",
       "top to bottom direction\r\n",
       "skinparam monochrome true\r\n",
       "skinparam classbackgroundcolor white\r\n",
       "skinparam shadowing false\r\n",
       "skinparam wrapWidth 300\r\n",
       "hide circle\r\n",
       "\r\n",
       "package \"TradeStudyTest\" as E1  [[psysml:8952aa40-03a2-4df7-81e1-750bf2c7b589 ]]  {\r\n",
       "comp def \"Engine\" as E2  <<(T,blue)part def>> [[psysml:ba5002a0-783d-43b2-abfa-70b37f90804c ]] {\r\n",
       "}\r\n",
       "comp usage \"engine1: Engine\" as E3  <<(T,blue)part>> [[psysml:47ce73ab-2c54-4db4-9d19-7bcb338cdf44 ]] {\r\n",
       "}\r\n",
       "comp usage \"engine2: Engine\" as E4  <<(T,blue)part>> [[psysml:7dfdc806-8438-4ccb-bd71-8b6bdaa69ab8 ]] {\r\n",
       "}\r\n",
       "comp usage \"engineTradeStudy: TradeStudy\" as E5 <<analysis>> [[psysml:cd38e840-8317-467c-8230-e0f8852492a9 ]] {\r\n",
       "}\r\n",
       "comp usage \"tradeStudyObjective: MaximizeObjective\" as E6  <<(T,blue)requirement>> [[psysml:bf1db205-ea64-42b3-a829-2093a93eb81c ]] {\r\n",
       "}\r\n",
       "comp usage \"objectiveFunction\" as E7  <<(T,blue)calculation>> [[psysml:081fa6ee-8a6f-4292-82c4-f5eb64360f97 ]] {\r\n",
       "- - attributes - -\r\n",
       "result: Real\r\n",
       "}\r\n",
       "comp usage \"alternative: Engine\" as E8  <<(T,blue)part>> [[psysml:dbdbccdb-5c16-4bd3-a501-4b1c7e9ddcab ]] {\r\n",
       "}\r\n",
       "comp usage \"selectedAlternative: Engine\" as E9  <<(T,blue)part>> [[psysml:b6df212f-8018-4500-9608-46bc28de5179 ]] {\r\n",
       "}\r\n",
       "E3 - -:|> E2 [[psysml:6a611645-87b6-456f-b99f-fe1a3075932c ]] \r\n",
       "E4 - -:|> E2 [[psysml:c8f697e8-ebd5-44e8-8041-765052aa0dda ]] \r\n",
       "E5 ..> E2 [[psysml:2f46211a-dc33-450b-96f1-34c5430f413d ]] : <<subject>>\r\n",
       "E5 - ->> E6 [[psysml:285bfc51-142a-40f2-bdf1-cdd7141b9b55 ]] : <<objective>>\r\n",
       "E5 *- - E7 [[psysml:081fa6ee-8a6f-4292-82c4-f5eb64360f97 ]] \r\n",
       "E8 - -:|> E2 [[psysml:143d7cb3-4d47-41f0-bb56-6d1ae515b029 ]] \r\n",
       "E7 o- - E8 [[psysml:dbdbccdb-5c16-4bd3-a501-4b1c7e9ddcab ]] \r\n",
       "E9 - -:|> E2 [[psysml:cb3e8ea7-f115-4f34-bcd9-dd1e6ba812b8 ]] \r\n",
       "E5 o- - E9 [[psysml:b6df212f-8018-4500-9608-46bc28de5179 ]] \r\n",
       "}\r\n",
       "@enduml\r\n",
       "\n",
       "PlantUML version 1.2020.13(Sat Jun 13 12:26:38 UTC 2020)\n",
       "(EPL source distribution)\n",
       "Java Runtime: OpenJDK Runtime Environment\n",
       "JVM: OpenJDK 64-Bit Server VM\n",
       "Default Encoding: UTF-8\n",
       "Language: en\n",
       "Country: null\n",
       "--></g></svg>"
      ]
     },
     "execution_count": 45,
     "metadata": {},
     "output_type": "execute_result"
    }
   ],
   "source": [
    "%viz --style=\"TB\" --view=\"Tree\" \"TradeStudyTest\""
   ]
  },
  {
   "cell_type": "code",
   "execution_count": 46,
   "id": "operating-domain",
   "metadata": {
    "execution": {
     "iopub.execute_input": "2021-03-25T09:29:33.053780Z",
     "iopub.status.busy": "2021-03-25T09:29:33.053031Z",
     "iopub.status.idle": "2021-03-25T09:29:33.060785Z",
     "shell.execute_reply": "2021-03-25T09:29:33.060303Z"
    }
   },
   "outputs": [
    {
     "data": {
      "image/svg+xml": [
       "<?xml version=\"1.0\" encoding=\"UTF-8\" standalone=\"no\"?><svg xmlns=\"http://www.w3.org/2000/svg\" xmlns:xlink=\"http://www.w3.org/1999/xlink\" contentScriptType=\"application/ecmascript\" contentStyleType=\"text/css\" height=\"12px\" preserveAspectRatio=\"none\" style=\"width:12px;height:12px;\" version=\"1.1\" viewBox=\"0 0 12 12\" width=\"12px\" zoomAndPan=\"magnify\"><defs/><g><!--MD5=[f4ee21bc66e489b5061b7c3e9601fdef]\n",
       "@startuml\r\n",
       "top to bottom direction\r\n",
       "skinparam monochrome true\r\n",
       "skinparam classbackgroundcolor white\r\n",
       "skinparam shadowing false\r\n",
       "skinparam wrapWidth 300\r\n",
       "hide circle\r\n",
       "\r\n",
       "@enduml\r\n",
       "\n",
       "PlantUML version 1.2020.13(Sat Jun 13 12:26:38 UTC 2020)\n",
       "(EPL source distribution)\n",
       "Java Runtime: OpenJDK Runtime Environment\n",
       "JVM: OpenJDK 64-Bit Server VM\n",
       "Default Encoding: UTF-8\n",
       "Language: en\n",
       "Country: null\n",
       "--></g></svg>"
      ]
     },
     "execution_count": 46,
     "metadata": {},
     "output_type": "execute_result"
    }
   ],
   "source": [
    "%viz --style=\"TB\" --view=\"State\" \"TradeStudyTest\""
   ]
  },
  {
   "cell_type": "code",
   "execution_count": 47,
   "id": "explicit-native",
   "metadata": {
    "execution": {
     "iopub.execute_input": "2021-03-25T09:29:33.118962Z",
     "iopub.status.busy": "2021-03-25T09:29:33.116126Z",
     "iopub.status.idle": "2021-03-25T09:29:33.216122Z",
     "shell.execute_reply": "2021-03-25T09:29:33.215336Z"
    }
   },
   "outputs": [
    {
     "data": {
      "image/svg+xml": [
       "<?xml version=\"1.0\" encoding=\"UTF-8\" standalone=\"no\"?><svg xmlns=\"http://www.w3.org/2000/svg\" xmlns:xlink=\"http://www.w3.org/1999/xlink\" contentScriptType=\"application/ecmascript\" contentStyleType=\"text/css\" height=\"112px\" preserveAspectRatio=\"none\" style=\"width:438px;height:112px;\" version=\"1.1\" viewBox=\"0 0 438 112\" width=\"438px\" zoomAndPan=\"magnify\"><defs/><g><!--MD5=[fbc87193dbaf4d95561dea2c320d4a47]\n",
       "cluster E1--><a href=\"psysml:8952aa40-03a2-4df7-81e1-750bf2c7b589\" target=\"_top\" title=\"psysml:8952aa40-03a2-4df7-81e1-750bf2c7b589\" xlink:actuate=\"onRequest\" xlink:href=\"psysml:8952aa40-03a2-4df7-81e1-750bf2c7b589\" xlink:show=\"new\" xlink:title=\"psysml:8952aa40-03a2-4df7-81e1-750bf2c7b589\" xlink:type=\"simple\"><polygon fill=\"#FFFFFF\" points=\"16,6,148,6,155,28.2969,416,28.2969,416,100,16,100,16,6\" style=\"stroke: #000000; stroke-width: 1.5;\"/><line style=\"stroke: #000000; stroke-width: 1.5;\" x1=\"16\" x2=\"155\" y1=\"28.2969\" y2=\"28.2969\"/><text fill=\"#000000\" font-family=\"sans-serif\" font-size=\"14\" font-weight=\"bold\" lengthAdjust=\"spacingAndGlyphs\" textLength=\"126\" x=\"20\" y=\"20.9951\">TradeStudyTest</text></a><g id=\"E1.E2\"><a href=\"psysml:ba5002a0-783d-43b2-abfa-70b37f90804c\" target=\"_top\" title=\"psysml:ba5002a0-783d-43b2-abfa-70b37f90804c\" xlink:actuate=\"onRequest\" xlink:href=\"psysml:ba5002a0-783d-43b2-abfa-70b37f90804c\" xlink:show=\"new\" xlink:title=\"psysml:ba5002a0-783d-43b2-abfa-70b37f90804c\" xlink:type=\"simple\"><rect fill=\"#FFFFFF\" height=\"42.9375\" id=\"E2\" style=\"stroke: #383838; stroke-width: 1.5;\" width=\"71\" x=\"328.5\" y=\"41\"/><rect fill=\"#F8F8F8\" height=\"37.9375\" style=\"stroke: #383838; stroke-width: 1.5;\" width=\"71\" x=\"328.5\" y=\"41\"/><text fill=\"#000000\" font-family=\"sans-serif\" font-size=\"12\" font-style=\"italic\" lengthAdjust=\"spacingAndGlyphs\" textLength=\"64\" x=\"332\" y=\"57.1387\">«part def»</text><text fill=\"#000000\" font-family=\"sans-serif\" font-size=\"12\" lengthAdjust=\"spacingAndGlyphs\" textLength=\"43\" x=\"342.5\" y=\"71.1074\">Engine</text></a></g><g id=\"E1.E3\"><a href=\"psysml:47ce73ab-2c54-4db4-9d19-7bcb338cdf44\" target=\"_top\" title=\"psysml:47ce73ab-2c54-4db4-9d19-7bcb338cdf44\" xlink:actuate=\"onRequest\" xlink:href=\"psysml:47ce73ab-2c54-4db4-9d19-7bcb338cdf44\" xlink:show=\"new\" xlink:title=\"psysml:47ce73ab-2c54-4db4-9d19-7bcb338cdf44\" xlink:type=\"simple\"><rect fill=\"#FFFFFF\" height=\"40\" id=\"E3\" rx=\"10\" ry=\"10\" style=\"stroke: #383838; stroke-width: 1.5;\" width=\"113\" x=\"180.5\" y=\"42.5\"/><rect fill=\"#F8F8F8\" height=\"23.9688\" rx=\"10\" ry=\"10\" style=\"stroke: #F8F8F8; stroke-width: 1.5;\" width=\"113\" x=\"180.5\" y=\"42.5\"/><rect fill=\"#F8F8F8\" height=\"10\" style=\"stroke: #F8F8F8; stroke-width: 1.5;\" width=\"113\" x=\"180.5\" y=\"56.4688\"/><rect fill=\"none\" height=\"40\" id=\"E3\" rx=\"10\" ry=\"10\" style=\"stroke: #383838; stroke-width: 1.5;\" width=\"113\" x=\"180.5\" y=\"42.5\"/><text fill=\"#000000\" font-family=\"sans-serif\" font-size=\"12\" lengthAdjust=\"spacingAndGlyphs\" textLength=\"102\" x=\"186\" y=\"58.6387\">engine1: Engine</text></a></g><g id=\"E1.E4\"><a href=\"psysml:7dfdc806-8438-4ccb-bd71-8b6bdaa69ab8\" target=\"_top\" title=\"psysml:7dfdc806-8438-4ccb-bd71-8b6bdaa69ab8\" xlink:actuate=\"onRequest\" xlink:href=\"psysml:7dfdc806-8438-4ccb-bd71-8b6bdaa69ab8\" xlink:show=\"new\" xlink:title=\"psysml:7dfdc806-8438-4ccb-bd71-8b6bdaa69ab8\" xlink:type=\"simple\"><rect fill=\"#FFFFFF\" height=\"40\" id=\"E4\" rx=\"10\" ry=\"10\" style=\"stroke: #383838; stroke-width: 1.5;\" width=\"113\" x=\"32.5\" y=\"42.5\"/><rect fill=\"#F8F8F8\" height=\"23.9688\" rx=\"10\" ry=\"10\" style=\"stroke: #F8F8F8; stroke-width: 1.5;\" width=\"113\" x=\"32.5\" y=\"42.5\"/><rect fill=\"#F8F8F8\" height=\"10\" style=\"stroke: #F8F8F8; stroke-width: 1.5;\" width=\"113\" x=\"32.5\" y=\"56.4688\"/><rect fill=\"none\" height=\"40\" id=\"E4\" rx=\"10\" ry=\"10\" style=\"stroke: #383838; stroke-width: 1.5;\" width=\"113\" x=\"32.5\" y=\"42.5\"/><text fill=\"#000000\" font-family=\"sans-serif\" font-size=\"12\" lengthAdjust=\"spacingAndGlyphs\" textLength=\"102\" x=\"38\" y=\"58.6387\">engine2: Engine</text></a></g><!--MD5=[d198b529b612dd91f55c16106d97b106]\n",
       "@startuml\r\n",
       "skinparam ranksep 8\r\n",
       "skinparam rectangle {\r\n",
       " backgroundColor<<block>> LightGreen\r\n",
       "}\r\n",
       "top to bottom direction\r\n",
       "skinparam monochrome true\r\n",
       "skinparam classbackgroundcolor white\r\n",
       "skinparam shadowing false\r\n",
       "skinparam wrapWidth 300\r\n",
       "hide circle\r\n",
       "\r\n",
       "package \"TradeStudyTest\" as E1  [[psysml:8952aa40-03a2-4df7-81e1-750bf2c7b589 ]]  {\r\n",
       "rec def \"Engine\" as E2  <<(T,blue)part def>> [[psysml:ba5002a0-783d-43b2-abfa-70b37f90804c ]] {\r\n",
       "}\r\n",
       "rec usage \"engine1: Engine\" as E3  [[psysml:47ce73ab-2c54-4db4-9d19-7bcb338cdf44 ]] {\r\n",
       "}\r\n",
       "rec usage \"engine2: Engine\" as E4  [[psysml:7dfdc806-8438-4ccb-bd71-8b6bdaa69ab8 ]] {\r\n",
       "}\r\n",
       "}\r\n",
       "@enduml\r\n",
       "\n",
       "PlantUML version 1.2020.13(Sat Jun 13 12:26:38 UTC 2020)\n",
       "(EPL source distribution)\n",
       "Java Runtime: OpenJDK Runtime Environment\n",
       "JVM: OpenJDK 64-Bit Server VM\n",
       "Default Encoding: UTF-8\n",
       "Language: en\n",
       "Country: null\n",
       "--></g></svg>"
      ]
     },
     "execution_count": 47,
     "metadata": {},
     "output_type": "execute_result"
    }
   ],
   "source": [
    "%viz --style=\"TB\" --view=\"Interconnection\" \"TradeStudyTest\""
   ]
  },
  {
   "cell_type": "code",
   "execution_count": 48,
   "id": "overall-premiere",
   "metadata": {
    "execution": {
     "iopub.execute_input": "2021-03-25T09:29:33.271521Z",
     "iopub.status.busy": "2021-03-25T09:29:33.269735Z",
     "iopub.status.idle": "2021-03-25T09:29:33.407960Z",
     "shell.execute_reply": "2021-03-25T09:29:33.408836Z"
    }
   },
   "outputs": [
    {
     "data": {
      "image/svg+xml": [
       "<?xml version=\"1.0\" encoding=\"UTF-8\" standalone=\"no\"?><svg xmlns=\"http://www.w3.org/2000/svg\" xmlns:xlink=\"http://www.w3.org/1999/xlink\" contentScriptType=\"application/ecmascript\" contentStyleType=\"text/css\" height=\"128px\" preserveAspectRatio=\"none\" style=\"width:180px;height:128px;\" version=\"1.1\" viewBox=\"0 0 180 128\" width=\"180px\" zoomAndPan=\"magnify\"><defs/><g><!--MD5=[fbc87193dbaf4d95561dea2c320d4a47]\n",
       "cluster E1--><a href=\"psysml:cd38e840-8317-467c-8230-e0f8852492a9\" target=\"_top\" title=\"psysml:cd38e840-8317-467c-8230-e0f8852492a9\" xlink:actuate=\"onRequest\" xlink:href=\"psysml:cd38e840-8317-467c-8230-e0f8852492a9\" xlink:show=\"new\" xlink:title=\"psysml:cd38e840-8317-467c-8230-e0f8852492a9\" xlink:type=\"simple\"><rect fill=\"#FFFFFF\" height=\"110\" id=\"E1\" rx=\"10\" ry=\"10\" style=\"stroke: #383838; stroke-width: 1.5;\" width=\"161\" x=\"7\" y=\"7\"/><rect fill=\"#F8F8F8\" height=\"37.9375\" rx=\"10\" ry=\"10\" style=\"stroke: #F8F8F8; stroke-width: 1.5;\" width=\"161\" x=\"7\" y=\"7\"/><rect fill=\"#F8F8F8\" height=\"10\" style=\"stroke: #F8F8F8; stroke-width: 1.5;\" width=\"161\" x=\"7\" y=\"34.9375\"/><rect fill=\"none\" height=\"110\" id=\"E1\" rx=\"10\" ry=\"10\" style=\"stroke: #383838; stroke-width: 1.5;\" width=\"161\" x=\"7\" y=\"7\"/><text fill=\"#000000\" font-family=\"sans-serif\" font-size=\"12\" font-style=\"italic\" lengthAdjust=\"spacingAndGlyphs\" textLength=\"64\" x=\"55.5\" y=\"23.1387\">«analysis»</text><text fill=\"#000000\" font-family=\"sans-serif\" font-size=\"12\" lengthAdjust=\"spacingAndGlyphs\" textLength=\"114\" x=\"30.5\" y=\"37.1074\">engineTradeStudy</text><line style=\"stroke: #383838; stroke-width: 1.0;\" x1=\"7\" x2=\"168\" y1=\"44.9375\" y2=\"44.9375\"/></a><g id=\"E1.E2\"><a href=\"psysml:081fa6ee-8a6f-4292-82c4-f5eb64360f97\" target=\"_top\" title=\"psysml:081fa6ee-8a6f-4292-82c4-f5eb64360f97\" xlink:actuate=\"onRequest\" xlink:href=\"psysml:081fa6ee-8a6f-4292-82c4-f5eb64360f97\" xlink:show=\"new\" xlink:title=\"psysml:081fa6ee-8a6f-4292-82c4-f5eb64360f97\" xlink:type=\"simple\"><rect fill=\"#FFFFFF\" height=\"42.9375\" id=\"E2\" rx=\"10\" ry=\"10\" style=\"stroke: #383838; stroke-width: 1.5;\" width=\"121\" x=\"26.5\" y=\"58\"/><rect fill=\"#F8F8F8\" height=\"37.9375\" rx=\"10\" ry=\"10\" style=\"stroke: #F8F8F8; stroke-width: 1.5;\" width=\"121\" x=\"26.5\" y=\"58\"/><rect fill=\"#F8F8F8\" height=\"10\" style=\"stroke: #F8F8F8; stroke-width: 1.5;\" width=\"121\" x=\"26.5\" y=\"85.9375\"/><rect fill=\"none\" height=\"42.9375\" id=\"E2\" rx=\"10\" ry=\"10\" style=\"stroke: #383838; stroke-width: 1.5;\" width=\"121\" x=\"26.5\" y=\"58\"/><text fill=\"#000000\" font-family=\"sans-serif\" font-size=\"12\" font-style=\"italic\" lengthAdjust=\"spacingAndGlyphs\" textLength=\"82\" x=\"46\" y=\"74.1387\">«calculation»</text><text fill=\"#000000\" font-family=\"sans-serif\" font-size=\"12\" lengthAdjust=\"spacingAndGlyphs\" textLength=\"110\" x=\"32\" y=\"88.1074\">objectiveFunction</text></a></g><!--MD5=[701ccc5416930e12bfd2f69a337422ab]\n",
       "@startuml\r\n",
       "skinparam ranksep 8\r\n",
       "top to bottom direction\r\n",
       "skinparam monochrome true\r\n",
       "skinparam classbackgroundcolor white\r\n",
       "skinparam shadowing false\r\n",
       "skinparam wrapWidth 300\r\n",
       "hide circle\r\n",
       "\r\n",
       "rec usage \"engineTradeStudy\" as E1 <<analysis>> [[psysml:cd38e840-8317-467c-8230-e0f8852492a9 ]] {\r\n",
       "rec usage \"objectiveFunction\" as E2  <<(T,blue)calculation>> [[psysml:081fa6ee-8a6f-4292-82c4-f5eb64360f97 ]] {\r\n",
       "}\r\n",
       "\r\n",
       "}\r\n",
       "\r\n",
       "@enduml\r\n",
       "\n",
       "PlantUML version 1.2020.13(Sat Jun 13 12:26:38 UTC 2020)\n",
       "(EPL source distribution)\n",
       "Java Runtime: OpenJDK Runtime Environment\n",
       "JVM: OpenJDK 64-Bit Server VM\n",
       "Default Encoding: UTF-8\n",
       "Language: en\n",
       "Country: null\n",
       "--></g></svg>"
      ]
     },
     "execution_count": 48,
     "metadata": {},
     "output_type": "execute_result"
    }
   ],
   "source": [
    "%viz --style=\"TB\" --view=\"Action\" \"TradeStudyTest\""
   ]
  },
  {
   "cell_type": "code",
   "execution_count": 49,
   "id": "diagnostic-tribe",
   "metadata": {
    "execution": {
     "iopub.execute_input": "2021-03-25T09:29:33.459513Z",
     "iopub.status.busy": "2021-03-25T09:29:33.458635Z",
     "iopub.status.idle": "2021-03-25T09:29:33.767636Z",
     "shell.execute_reply": "2021-03-25T09:29:33.766113Z"
    }
   },
   "outputs": [
    {
     "data": {
      "image/svg+xml": [
       "<?xml version=\"1.0\" encoding=\"UTF-8\" standalone=\"no\"?><svg xmlns=\"http://www.w3.org/2000/svg\" xmlns:xlink=\"http://www.w3.org/1999/xlink\" contentScriptType=\"application/ecmascript\" contentStyleType=\"text/css\" height=\"527px\" preserveAspectRatio=\"none\" style=\"width:563px;height:527px;\" version=\"1.1\" viewBox=\"0 0 563 527\" width=\"563px\" zoomAndPan=\"magnify\"><defs/><g><!--MD5=[fbc87193dbaf4d95561dea2c320d4a47]\n",
       "cluster E1--><a href=\"psysml:8952aa40-03a2-4df7-81e1-750bf2c7b589\" target=\"_top\" title=\"psysml:8952aa40-03a2-4df7-81e1-750bf2c7b589\" xlink:actuate=\"onRequest\" xlink:href=\"psysml:8952aa40-03a2-4df7-81e1-750bf2c7b589\" xlink:show=\"new\" xlink:title=\"psysml:8952aa40-03a2-4df7-81e1-750bf2c7b589\" xlink:type=\"simple\"><polygon fill=\"#FFFFFF\" points=\"25.48,6,157.48,6,164.48,28.2969,541.48,28.2969,541.48,515,25.48,515,25.48,6\" style=\"stroke: #000000; stroke-width: 1.5;\"/><line style=\"stroke: #000000; stroke-width: 1.5;\" x1=\"25.48\" x2=\"164.48\" y1=\"28.2969\" y2=\"28.2969\"/><text fill=\"#000000\" font-family=\"sans-serif\" font-size=\"14\" font-weight=\"bold\" lengthAdjust=\"spacingAndGlyphs\" textLength=\"126\" x=\"29.48\" y=\"20.9951\">TradeStudyTest</text></a><!--MD5=[b4997ac47864f28c2f74865a473b2911]\n",
       "class E2--><a href=\"psysml:ba5002a0-783d-43b2-abfa-70b37f90804c\" target=\"_top\" title=\"psysml:ba5002a0-783d-43b2-abfa-70b37f90804c\" xlink:actuate=\"onRequest\" xlink:href=\"psysml:ba5002a0-783d-43b2-abfa-70b37f90804c\" xlink:show=\"new\" xlink:title=\"psysml:ba5002a0-783d-43b2-abfa-70b37f90804c\" xlink:type=\"simple\"><rect fill=\"#FFFFFF\" height=\"45.9375\" id=\"E2\" style=\"stroke: #383838; stroke-width: 1.5;\" width=\"66\" x=\"205.48\" y=\"453\"/><text fill=\"#000000\" font-family=\"sans-serif\" font-size=\"12\" font-style=\"italic\" lengthAdjust=\"spacingAndGlyphs\" textLength=\"64\" x=\"206.48\" y=\"469.1387\">«part def»</text><text fill=\"#000000\" font-family=\"sans-serif\" font-size=\"12\" lengthAdjust=\"spacingAndGlyphs\" textLength=\"43\" x=\"216.98\" y=\"483.1074\">Engine</text><line style=\"stroke: #383838; stroke-width: 1.5;\" x1=\"206.48\" x2=\"270.48\" y1=\"490.9375\" y2=\"490.9375\"/></a><!--MD5=[09b614a08d8cba4a07c9adeb5e0fee81]\n",
       "class E3--><a href=\"psysml:47ce73ab-2c54-4db4-9d19-7bcb338cdf44\" target=\"_top\" title=\"psysml:47ce73ab-2c54-4db4-9d19-7bcb338cdf44\" xlink:actuate=\"onRequest\" xlink:href=\"psysml:47ce73ab-2c54-4db4-9d19-7bcb338cdf44\" xlink:show=\"new\" xlink:title=\"psysml:47ce73ab-2c54-4db4-9d19-7bcb338cdf44\" xlink:type=\"simple\"><rect fill=\"#FFFFFF\" height=\"45.9375\" id=\"E3\" rx=\"10\" ry=\"10\" style=\"stroke: #383838; stroke-width: 1.5;\" width=\"108\" x=\"417.48\" y=\"346\"/><text fill=\"#000000\" font-family=\"sans-serif\" font-size=\"12\" font-style=\"italic\" lengthAdjust=\"spacingAndGlyphs\" textLength=\"40\" x=\"451.48\" y=\"362.1387\">«part»</text><text fill=\"#000000\" font-family=\"sans-serif\" font-size=\"12\" lengthAdjust=\"spacingAndGlyphs\" textLength=\"102\" x=\"420.48\" y=\"376.1074\">engine1: Engine</text><line style=\"stroke: #383838; stroke-width: 1.5;\" x1=\"418.48\" x2=\"524.48\" y1=\"383.9375\" y2=\"383.9375\"/></a><!--MD5=[ebbe1d658d1005bcc118a6aa81145e00]\n",
       "class E4--><a href=\"psysml:7dfdc806-8438-4ccb-bd71-8b6bdaa69ab8\" target=\"_top\" title=\"psysml:7dfdc806-8438-4ccb-bd71-8b6bdaa69ab8\" xlink:actuate=\"onRequest\" xlink:href=\"psysml:7dfdc806-8438-4ccb-bd71-8b6bdaa69ab8\" xlink:show=\"new\" xlink:title=\"psysml:7dfdc806-8438-4ccb-bd71-8b6bdaa69ab8\" xlink:type=\"simple\"><rect fill=\"#FFFFFF\" height=\"45.9375\" id=\"E4\" rx=\"10\" ry=\"10\" style=\"stroke: #383838; stroke-width: 1.5;\" width=\"108\" x=\"274.48\" y=\"346\"/><text fill=\"#000000\" font-family=\"sans-serif\" font-size=\"12\" font-style=\"italic\" lengthAdjust=\"spacingAndGlyphs\" textLength=\"40\" x=\"308.48\" y=\"362.1387\">«part»</text><text fill=\"#000000\" font-family=\"sans-serif\" font-size=\"12\" lengthAdjust=\"spacingAndGlyphs\" textLength=\"102\" x=\"277.48\" y=\"376.1074\">engine2: Engine</text><line style=\"stroke: #383838; stroke-width: 1.5;\" x1=\"275.48\" x2=\"381.48\" y1=\"383.9375\" y2=\"383.9375\"/></a><!--MD5=[270fce915f116d4de14055a7c1d9a0f3]\n",
       "class E5--><a href=\"psysml:cd38e840-8317-467c-8230-e0f8852492a9\" target=\"_top\" title=\"psysml:cd38e840-8317-467c-8230-e0f8852492a9\" xlink:actuate=\"onRequest\" xlink:href=\"psysml:cd38e840-8317-467c-8230-e0f8852492a9\" xlink:show=\"new\" xlink:title=\"psysml:cd38e840-8317-467c-8230-e0f8852492a9\" xlink:type=\"simple\"><rect fill=\"#FFFFFF\" height=\"45.9375\" id=\"E5\" rx=\"10\" ry=\"10\" style=\"stroke: #383838; stroke-width: 1.5;\" width=\"199\" x=\"246.98\" y=\"41\"/><text fill=\"#000000\" font-family=\"sans-serif\" font-size=\"12\" font-style=\"italic\" lengthAdjust=\"spacingAndGlyphs\" textLength=\"64\" x=\"314.48\" y=\"57.1387\">«analysis»</text><text fill=\"#000000\" font-family=\"sans-serif\" font-size=\"12\" lengthAdjust=\"spacingAndGlyphs\" textLength=\"193\" x=\"249.98\" y=\"71.1074\">engineTradeStudy: TradeStudy</text><line style=\"stroke: #383838; stroke-width: 1.5;\" x1=\"247.98\" x2=\"444.98\" y1=\"78.9375\" y2=\"78.9375\"/></a><!--MD5=[60a26617385b1d2d0262a64233df1f8d]\n",
       "class E6--><a href=\"psysml:bf1db205-ea64-42b3-a829-2093a93eb81c\" target=\"_top\" title=\"psysml:bf1db205-ea64-42b3-a829-2093a93eb81c\" xlink:actuate=\"onRequest\" xlink:href=\"psysml:bf1db205-ea64-42b3-a829-2093a93eb81c\" xlink:show=\"new\" xlink:title=\"psysml:bf1db205-ea64-42b3-a829-2093a93eb81c\" xlink:type=\"simple\"><rect fill=\"#FFFFFF\" height=\"45.9375\" id=\"E6\" rx=\"10\" ry=\"10\" style=\"stroke: #383838; stroke-width: 1.5;\" width=\"251\" x=\"85.98\" y=\"179\"/><text fill=\"#000000\" font-family=\"sans-serif\" font-size=\"12\" font-style=\"italic\" lengthAdjust=\"spacingAndGlyphs\" textLength=\"91\" x=\"165.98\" y=\"195.1387\">«requirement»</text><text fill=\"#000000\" font-family=\"sans-serif\" font-size=\"12\" lengthAdjust=\"spacingAndGlyphs\" textLength=\"245\" x=\"88.98\" y=\"209.1074\">tradeStudyObjective: MaximizeObjective</text><line style=\"stroke: #383838; stroke-width: 1.5;\" x1=\"86.98\" x2=\"335.98\" y1=\"216.9375\" y2=\"216.9375\"/></a><!--MD5=[2156ba9850f5573cc1fc38a6a4b2f02b]\n",
       "class E7--><a href=\"psysml:081fa6ee-8a6f-4292-82c4-f5eb64360f97\" target=\"_top\" title=\"psysml:081fa6ee-8a6f-4292-82c4-f5eb64360f97\" xlink:actuate=\"onRequest\" xlink:href=\"psysml:081fa6ee-8a6f-4292-82c4-f5eb64360f97\" xlink:show=\"new\" xlink:title=\"psysml:081fa6ee-8a6f-4292-82c4-f5eb64360f97\" xlink:type=\"simple\"><rect fill=\"#FFFFFF\" height=\"75.5469\" id=\"E7\" rx=\"10\" ry=\"10\" style=\"stroke: #383838; stroke-width: 1.5;\" width=\"116\" x=\"372.48\" y=\"164\"/><text fill=\"#000000\" font-family=\"sans-serif\" font-size=\"12\" font-style=\"italic\" lengthAdjust=\"spacingAndGlyphs\" textLength=\"82\" x=\"389.48\" y=\"180.1387\">«calculation»</text><text fill=\"#000000\" font-family=\"sans-serif\" font-size=\"12\" lengthAdjust=\"spacingAndGlyphs\" textLength=\"110\" x=\"375.48\" y=\"194.1074\">objectiveFunction</text><line style=\"stroke: #383838; stroke-width: 1.5;\" x1=\"373.48\" x2=\"487.48\" y1=\"201.9375\" y2=\"201.9375\"/><text fill=\"#000000\" font-family=\"sans-serif\" font-size=\"11\" lengthAdjust=\"spacingAndGlyphs\" textLength=\"65\" x=\"378.48\" y=\"232.9526\">result: Real</text><line style=\"stroke: #383838; stroke-width: 1.0;\" x1=\"373.48\" x2=\"402.98\" y1=\"216.3398\" y2=\"216.3398\"/><text fill=\"#000000\" font-family=\"sans-serif\" font-size=\"11\" lengthAdjust=\"spacingAndGlyphs\" textLength=\"55\" x=\"402.98\" y=\"219.6479\">attributes</text><line style=\"stroke: #383838; stroke-width: 1.0;\" x1=\"457.98\" x2=\"487.48\" y1=\"216.3398\" y2=\"216.3398\"/></a><!--MD5=[b9389687b975829384b498ac4b7476b2]\n",
       "class E8--><a href=\"psysml:dbdbccdb-5c16-4bd3-a501-4b1c7e9ddcab\" target=\"_top\" title=\"psysml:dbdbccdb-5c16-4bd3-a501-4b1c7e9ddcab\" xlink:actuate=\"onRequest\" xlink:href=\"psysml:dbdbccdb-5c16-4bd3-a501-4b1c7e9ddcab\" xlink:show=\"new\" xlink:title=\"psysml:dbdbccdb-5c16-4bd3-a501-4b1c7e9ddcab\" xlink:type=\"simple\"><rect fill=\"#FFFFFF\" height=\"45.9375\" id=\"E8\" rx=\"10\" ry=\"10\" style=\"stroke: #383838; stroke-width: 1.5;\" width=\"124\" x=\"78.48\" y=\"346\"/><text fill=\"#000000\" font-family=\"sans-serif\" font-size=\"12\" font-style=\"italic\" lengthAdjust=\"spacingAndGlyphs\" textLength=\"40\" x=\"120.48\" y=\"362.1387\">«part»</text><text fill=\"#000000\" font-family=\"sans-serif\" font-size=\"12\" lengthAdjust=\"spacingAndGlyphs\" textLength=\"118\" x=\"81.48\" y=\"376.1074\">alternative: Engine</text><line style=\"stroke: #383838; stroke-width: 1.5;\" x1=\"79.48\" x2=\"201.48\" y1=\"383.9375\" y2=\"383.9375\"/></a><!--MD5=[fd4143e9d270a159db93a4ea2a975926]\n",
       "class E9--><a href=\"psysml:b6df212f-8018-4500-9608-46bc28de5179\" target=\"_top\" title=\"psysml:b6df212f-8018-4500-9608-46bc28de5179\" xlink:actuate=\"onRequest\" xlink:href=\"psysml:b6df212f-8018-4500-9608-46bc28de5179\" xlink:show=\"new\" xlink:title=\"psysml:b6df212f-8018-4500-9608-46bc28de5179\" xlink:type=\"simple\"><rect fill=\"#FFFFFF\" height=\"45.9375\" id=\"E9\" rx=\"10\" ry=\"10\" style=\"stroke: #383838; stroke-width: 1.5;\" width=\"178\" x=\"298.48\" y=\"270\"/><text fill=\"#000000\" font-family=\"sans-serif\" font-size=\"12\" font-style=\"italic\" lengthAdjust=\"spacingAndGlyphs\" textLength=\"40\" x=\"367.48\" y=\"286.1387\">«part»</text><text fill=\"#000000\" font-family=\"sans-serif\" font-size=\"12\" lengthAdjust=\"spacingAndGlyphs\" textLength=\"172\" x=\"301.48\" y=\"300.1074\">selectedAlternative: Engine</text><line style=\"stroke: #383838; stroke-width: 1.5;\" x1=\"299.48\" x2=\"475.48\" y1=\"307.9375\" y2=\"307.9375\"/></a><!--MD5=[05d275557350bfb9b23a4ef7222b4c39]\n",
       "link E3 to E2--><a href=\"psysml:6a611645-87b6-456f-b99f-fe1a3075932c\" target=\"_top\" title=\"psysml:6a611645-87b6-456f-b99f-fe1a3075932c\" xlink:actuate=\"onRequest\" xlink:href=\"psysml:6a611645-87b6-456f-b99f-fe1a3075932c\" xlink:show=\"new\" xlink:title=\"psysml:6a611645-87b6-456f-b99f-fe1a3075932c\" xlink:type=\"simple\"><path d=\"M422.64,392.01 C383.73,409.54 329.43,434.01 289.87,451.84 \" fill=\"none\" id=\"E3-&gt;E2\" style=\"stroke: #383838; stroke-width: 1.0;\"/><polygon fill=\"#FFFFFF\" points=\"271.5,460.12,285.9466,445.9321,291.6983,458.696,271.5,460.12\" style=\"stroke: #383838; stroke-width: 1.0;\"/><ellipse cx=\"291.965\" cy=\"445.4137\" fill=\"#383838\" rx=\"2\" ry=\"2\" style=\"stroke: #383838; stroke-width: 1.0;\"/><ellipse cx=\"296.0734\" cy=\"454.5308\" fill=\"#383838\" rx=\"2\" ry=\"2\" style=\"stroke: #383838; stroke-width: 1.0;\"/></a><!--MD5=[185131fc0dcab0a4505a2ebe144e961b]\n",
       "link E4 to E2--><a href=\"psysml:c8f697e8-ebd5-44e8-8041-765052aa0dda\" target=\"_top\" title=\"psysml:c8f697e8-ebd5-44e8-8041-765052aa0dda\" xlink:actuate=\"onRequest\" xlink:href=\"psysml:c8f697e8-ebd5-44e8-8041-765052aa0dda\" xlink:show=\"new\" xlink:title=\"psysml:c8f697e8-ebd5-44e8-8041-765052aa0dda\" xlink:type=\"simple\"><path d=\"M309.61,392.01 C298.41,405.08 283.9,422.01 270.9,437.17 \" fill=\"none\" id=\"E4-&gt;E2\" style=\"stroke: #383838; stroke-width: 1.0;\"/><polygon fill=\"#FFFFFF\" points=\"257.63,452.66,264.6788,433.678,275.3091,442.7883,257.63,452.66\" style=\"stroke: #383838; stroke-width: 1.0;\"/><ellipse cx=\"269.9066\" cy=\"430.6515\" fill=\"#383838\" rx=\"2\" ry=\"2\" style=\"stroke: #383838; stroke-width: 1.0;\"/><ellipse cx=\"277.4996\" cy=\"437.1588\" fill=\"#383838\" rx=\"2\" ry=\"2\" style=\"stroke: #383838; stroke-width: 1.0;\"/></a><!--MD5=[15ebcb19ae302d9b601edb458606d402]\n",
       "link E5 to E2--><a href=\"psysml:2f46211a-dc33-450b-96f1-34c5430f413d\" target=\"_top\" title=\"psysml:2f46211a-dc33-450b-96f1-34c5430f413d\" xlink:actuate=\"onRequest\" xlink:href=\"psysml:2f46211a-dc33-450b-96f1-34c5430f413d\" xlink:show=\"new\" xlink:title=\"psysml:2f46211a-dc33-450b-96f1-34c5430f413d\" xlink:type=\"simple\"><path d=\"M246.76,73.1 C184.92,83.79 109.66,108.27 68.48,164 C8.23,245.55 6,306.48 60.48,392 C91.11,440.08 157.66,460.76 200.15,469.32 \" fill=\"none\" id=\"E5-&gt;E2\" style=\"stroke: #383838; stroke-width: 1.0; stroke-dasharray: 7.0,7.0;\"/><polygon fill=\"#383838\" points=\"205.2,470.31,197.1338,464.6588,200.2927,469.3514,195.6001,472.5104,205.2,470.31\" style=\"stroke: #383838; stroke-width: 1.0;\"/><text fill=\"#000000\" font-family=\"sans-serif\" font-size=\"13\" lengthAdjust=\"spacingAndGlyphs\" textLength=\"62\" x=\"26.48\" y=\"297.5669\">«subject»</text></a><!--MD5=[9120cf2e5df3bff93db8f754bbbc09b4]\n",
       "link E5 to E6--><a href=\"psysml:285bfc51-142a-40f2-bdf1-cdd7141b9b55\" target=\"_top\" title=\"psysml:285bfc51-142a-40f2-bdf1-cdd7141b9b55\" xlink:actuate=\"onRequest\" xlink:href=\"psysml:285bfc51-142a-40f2-bdf1-cdd7141b9b55\" xlink:show=\"new\" xlink:title=\"psysml:285bfc51-142a-40f2-bdf1-cdd7141b9b55\" xlink:type=\"simple\"><path d=\"M324.49,87.15 C301.25,110.57 264.53,147.55 239.3,172.98 \" fill=\"none\" id=\"E5-&gt;E6\" style=\"stroke: #383838; stroke-width: 1.0;\"/><polygon fill=\"#383838\" points=\"233.46,178.86,241.2247,175.295,236.966,171.0685,233.46,178.86\" style=\"stroke: #383838; stroke-width: 1.0;\"/><text fill=\"#000000\" font-family=\"sans-serif\" font-size=\"13\" lengthAdjust=\"spacingAndGlyphs\" textLength=\"73\" x=\"291.48\" y=\"130.0669\">«objective»</text></a><!--MD5=[452b418e7f8a40397a49b8c0a78acc5b]\n",
       "reverse link E5 to E7--><a href=\"psysml:081fa6ee-8a6f-4292-82c4-f5eb64360f97\" target=\"_top\" title=\"psysml:081fa6ee-8a6f-4292-82c4-f5eb64360f97\" xlink:actuate=\"onRequest\" xlink:href=\"psysml:081fa6ee-8a6f-4292-82c4-f5eb64360f97\" xlink:show=\"new\" xlink:title=\"psysml:081fa6ee-8a6f-4292-82c4-f5eb64360f97\" xlink:type=\"simple\"><path d=\"M367.14,98.44 C379.4,118.3 394.98,143.52 407.61,163.97 \" fill=\"none\" id=\"E5&lt;-E7\" style=\"stroke: #383838; stroke-width: 1.0;\"/><polygon fill=\"#383838\" points=\"360.16,87.15,359.9052,94.3566,366.4595,97.3636,366.7142,90.157,360.16,87.15\" style=\"stroke: #383838; stroke-width: 1.0;\"/></a><!--MD5=[f1f3f9f2fc535e6147756cb86a7f2e32]\n",
       "link E8 to E2--><a href=\"psysml:143d7cb3-4d47-41f0-bb56-6d1ae515b029\" target=\"_top\" title=\"psysml:143d7cb3-4d47-41f0-bb56-6d1ae515b029\" xlink:actuate=\"onRequest\" xlink:href=\"psysml:143d7cb3-4d47-41f0-bb56-6d1ae515b029\" xlink:show=\"new\" xlink:title=\"psysml:143d7cb3-4d47-41f0-bb56-6d1ae515b029\" xlink:type=\"simple\"><path d=\"M161.02,392.01 C173.35,405.22 189.36,422.38 203.62,437.65 \" fill=\"none\" id=\"E8-&gt;E2\" style=\"stroke: #383838; stroke-width: 1.0;\"/><polygon fill=\"#FFFFFF\" points=\"217.63,452.66,199.5521,443.5393,209.7905,433.9907,217.63,452.66\" style=\"stroke: #383838; stroke-width: 1.0;\"/><ellipse cx=\"197.1271\" cy=\"438.0067\" fill=\"#383838\" rx=\"2\" ry=\"2\" style=\"stroke: #383838; stroke-width: 1.0;\"/><ellipse cx=\"204.4402\" cy=\"431.1863\" fill=\"#383838\" rx=\"2\" ry=\"2\" style=\"stroke: #383838; stroke-width: 1.0;\"/></a><!--MD5=[dc164f5e8a733ab456ef1add180e9e34]\n",
       "reverse link E7 to E8--><a href=\"psysml:dbdbccdb-5c16-4bd3-a501-4b1c7e9ddcab\" target=\"_top\" title=\"psysml:dbdbccdb-5c16-4bd3-a501-4b1c7e9ddcab\" xlink:actuate=\"onRequest\" xlink:href=\"psysml:dbdbccdb-5c16-4bd3-a501-4b1c7e9ddcab\" xlink:show=\"new\" xlink:title=\"psysml:dbdbccdb-5c16-4bd3-a501-4b1c7e9ddcab\" xlink:type=\"simple\"><path d=\"M360.21,237.41 C358.28,238.29 356.37,239.15 354.48,240 C322.47,254.35 312.29,253.22 281.48,270 C240.11,292.53 196.1,324.58 168.46,345.81 \" fill=\"none\" id=\"E7&lt;-E8\" style=\"stroke: #383838; stroke-width: 1.0;\"/><polygon fill=\"#FFFFFF\" points=\"372.15,231.86,365.0224,230.7655,361.2708,236.9238,368.3983,238.0183,372.15,231.86\" style=\"stroke: #383838; stroke-width: 1.0;\"/></a><!--MD5=[5c3bb36fe832a92c7f0e1807dd65209d]\n",
       "link E9 to E2--><a href=\"psysml:cb3e8ea7-f115-4f34-bcd9-dd1e6ba812b8\" target=\"_top\" title=\"psysml:cb3e8ea7-f115-4f34-bcd9-dd1e6ba812b8\" xlink:actuate=\"onRequest\" xlink:href=\"psysml:cb3e8ea7-f115-4f34-bcd9-dd1e6ba812b8\" xlink:show=\"new\" xlink:title=\"psysml:cb3e8ea7-f115-4f34-bcd9-dd1e6ba812b8\" xlink:type=\"simple\"><path d=\"M298.35,315.15 C282.73,322.56 268.1,332.55 257.48,346 C238.33,370.25 234.2,405.32 234.52,432.77 \" fill=\"none\" id=\"E9-&gt;E2\" style=\"stroke: #383838; stroke-width: 1.0;\"/><polygon fill=\"#FFFFFF\" points=\"235.52,452.81,227.5786,434.1838,241.5611,433.4837,235.52,452.81\" style=\"stroke: #383838; stroke-width: 1.0;\"/><ellipse cx=\"229.291\" cy=\"428.3909\" fill=\"#383838\" rx=\"2\" ry=\"2\" style=\"stroke: #383838; stroke-width: 1.0;\"/><ellipse cx=\"239.2785\" cy=\"427.8909\" fill=\"#383838\" rx=\"2\" ry=\"2\" style=\"stroke: #383838; stroke-width: 1.0;\"/></a><!--MD5=[9ae28de373ca99bb8a1b38d63370ca7e]\n",
       "reverse link E5 to E9--><a href=\"psysml:b6df212f-8018-4500-9608-46bc28de5179\" target=\"_top\" title=\"psysml:b6df212f-8018-4500-9608-46bc28de5179\" xlink:actuate=\"onRequest\" xlink:href=\"psysml:b6df212f-8018-4500-9608-46bc28de5179\" xlink:show=\"new\" xlink:title=\"psysml:b6df212f-8018-4500-9608-46bc28de5179\" xlink:type=\"simple\"><path d=\"M423.24,92.77 C454.94,108.48 488.43,131.61 506.48,164 C522.92,193.51 524.97,211.74 506.48,240 C498.02,252.92 485.57,262.65 471.87,269.97 \" fill=\"none\" id=\"E5&lt;-E9\" style=\"stroke: #383838; stroke-width: 1.0;\"/><polygon fill=\"#FFFFFF\" points=\"411.22,87.11,414.9414,93.2867,422.0742,92.2272,418.3528,86.0505,411.22,87.11\" style=\"stroke: #383838; stroke-width: 1.0;\"/></a><!--MD5=[80db76ebd5f8ac5962f980ca24bf1caa]\n",
       "@startuml\r\n",
       "top to bottom direction\r\n",
       "skinparam monochrome true\r\n",
       "skinparam classbackgroundcolor white\r\n",
       "skinparam shadowing false\r\n",
       "skinparam wrapWidth 300\r\n",
       "hide circle\r\n",
       "\r\n",
       "package \"TradeStudyTest\" as E1  [[psysml:8952aa40-03a2-4df7-81e1-750bf2c7b589 ]]  {\r\n",
       "comp def \"Engine\" as E2  <<(T,blue)part def>> [[psysml:ba5002a0-783d-43b2-abfa-70b37f90804c ]] {\r\n",
       "}\r\n",
       "comp usage \"engine1: Engine\" as E3  <<(T,blue)part>> [[psysml:47ce73ab-2c54-4db4-9d19-7bcb338cdf44 ]] {\r\n",
       "}\r\n",
       "comp usage \"engine2: Engine\" as E4  <<(T,blue)part>> [[psysml:7dfdc806-8438-4ccb-bd71-8b6bdaa69ab8 ]] {\r\n",
       "}\r\n",
       "comp usage \"engineTradeStudy: TradeStudy\" as E5 <<analysis>> [[psysml:cd38e840-8317-467c-8230-e0f8852492a9 ]] {\r\n",
       "}\r\n",
       "comp usage \"tradeStudyObjective: MaximizeObjective\" as E6  <<(T,blue)requirement>> [[psysml:bf1db205-ea64-42b3-a829-2093a93eb81c ]] {\r\n",
       "}\r\n",
       "comp usage \"objectiveFunction\" as E7  <<(T,blue)calculation>> [[psysml:081fa6ee-8a6f-4292-82c4-f5eb64360f97 ]] {\r\n",
       "- - attributes - -\r\n",
       "result: Real\r\n",
       "}\r\n",
       "comp usage \"alternative: Engine\" as E8  <<(T,blue)part>> [[psysml:dbdbccdb-5c16-4bd3-a501-4b1c7e9ddcab ]] {\r\n",
       "}\r\n",
       "comp usage \"selectedAlternative: Engine\" as E9  <<(T,blue)part>> [[psysml:b6df212f-8018-4500-9608-46bc28de5179 ]] {\r\n",
       "}\r\n",
       "E3 - -:|> E2 [[psysml:6a611645-87b6-456f-b99f-fe1a3075932c ]] \r\n",
       "E4 - -:|> E2 [[psysml:c8f697e8-ebd5-44e8-8041-765052aa0dda ]] \r\n",
       "E5 ..> E2 [[psysml:2f46211a-dc33-450b-96f1-34c5430f413d ]] : <<subject>>\r\n",
       "E5 - ->> E6 [[psysml:285bfc51-142a-40f2-bdf1-cdd7141b9b55 ]] : <<objective>>\r\n",
       "E5 *- - E7 [[psysml:081fa6ee-8a6f-4292-82c4-f5eb64360f97 ]] \r\n",
       "E8 - -:|> E2 [[psysml:143d7cb3-4d47-41f0-bb56-6d1ae515b029 ]] \r\n",
       "E7 o- - E8 [[psysml:dbdbccdb-5c16-4bd3-a501-4b1c7e9ddcab ]] \r\n",
       "E9 - -:|> E2 [[psysml:cb3e8ea7-f115-4f34-bcd9-dd1e6ba812b8 ]] \r\n",
       "E5 o- - E9 [[psysml:b6df212f-8018-4500-9608-46bc28de5179 ]] \r\n",
       "}\r\n",
       "@enduml\r\n",
       "\n",
       "PlantUML version 1.2020.13(Sat Jun 13 12:26:38 UTC 2020)\n",
       "(EPL source distribution)\n",
       "Java Runtime: OpenJDK Runtime Environment\n",
       "JVM: OpenJDK 64-Bit Server VM\n",
       "Default Encoding: UTF-8\n",
       "Language: en\n",
       "Country: null\n",
       "--></g></svg>"
      ]
     },
     "execution_count": 49,
     "metadata": {},
     "output_type": "execute_result"
    }
   ],
   "source": [
    "%viz --style=\"TB\" --view=\"Sequence\" \"TradeStudyTest\""
   ]
  },
  {
   "cell_type": "code",
   "execution_count": 50,
   "id": "documentary-thinking",
   "metadata": {
    "execution": {
     "iopub.execute_input": "2021-03-25T09:29:33.819159Z",
     "iopub.status.busy": "2021-03-25T09:29:33.818550Z",
     "iopub.status.idle": "2021-03-25T09:29:34.120827Z",
     "shell.execute_reply": "2021-03-25T09:29:34.119109Z"
    }
   },
   "outputs": [
    {
     "data": {
      "image/svg+xml": [
       "<?xml version=\"1.0\" encoding=\"UTF-8\" standalone=\"no\"?><svg xmlns=\"http://www.w3.org/2000/svg\" xmlns:xlink=\"http://www.w3.org/1999/xlink\" contentScriptType=\"application/ecmascript\" contentStyleType=\"text/css\" height=\"527px\" preserveAspectRatio=\"none\" style=\"width:563px;height:527px;\" version=\"1.1\" viewBox=\"0 0 563 527\" width=\"563px\" zoomAndPan=\"magnify\"><defs/><g><!--MD5=[fbc87193dbaf4d95561dea2c320d4a47]\n",
       "cluster E1--><a href=\"psysml:8952aa40-03a2-4df7-81e1-750bf2c7b589\" target=\"_top\" title=\"psysml:8952aa40-03a2-4df7-81e1-750bf2c7b589\" xlink:actuate=\"onRequest\" xlink:href=\"psysml:8952aa40-03a2-4df7-81e1-750bf2c7b589\" xlink:show=\"new\" xlink:title=\"psysml:8952aa40-03a2-4df7-81e1-750bf2c7b589\" xlink:type=\"simple\"><polygon fill=\"#FFFFFF\" points=\"25.48,6,157.48,6,164.48,28.2969,541.48,28.2969,541.48,515,25.48,515,25.48,6\" style=\"stroke: #000000; stroke-width: 1.5;\"/><line style=\"stroke: #000000; stroke-width: 1.5;\" x1=\"25.48\" x2=\"164.48\" y1=\"28.2969\" y2=\"28.2969\"/><text fill=\"#000000\" font-family=\"sans-serif\" font-size=\"14\" font-weight=\"bold\" lengthAdjust=\"spacingAndGlyphs\" textLength=\"126\" x=\"29.48\" y=\"20.9951\">TradeStudyTest</text></a><!--MD5=[b4997ac47864f28c2f74865a473b2911]\n",
       "class E2--><a href=\"psysml:ba5002a0-783d-43b2-abfa-70b37f90804c\" target=\"_top\" title=\"psysml:ba5002a0-783d-43b2-abfa-70b37f90804c\" xlink:actuate=\"onRequest\" xlink:href=\"psysml:ba5002a0-783d-43b2-abfa-70b37f90804c\" xlink:show=\"new\" xlink:title=\"psysml:ba5002a0-783d-43b2-abfa-70b37f90804c\" xlink:type=\"simple\"><rect fill=\"#FFFFFF\" height=\"45.9375\" id=\"E2\" style=\"stroke: #383838; stroke-width: 1.5;\" width=\"66\" x=\"205.48\" y=\"453\"/><text fill=\"#000000\" font-family=\"sans-serif\" font-size=\"12\" font-style=\"italic\" lengthAdjust=\"spacingAndGlyphs\" textLength=\"64\" x=\"206.48\" y=\"469.1387\">«part def»</text><text fill=\"#000000\" font-family=\"sans-serif\" font-size=\"12\" lengthAdjust=\"spacingAndGlyphs\" textLength=\"43\" x=\"216.98\" y=\"483.1074\">Engine</text><line style=\"stroke: #383838; stroke-width: 1.5;\" x1=\"206.48\" x2=\"270.48\" y1=\"490.9375\" y2=\"490.9375\"/></a><!--MD5=[09b614a08d8cba4a07c9adeb5e0fee81]\n",
       "class E3--><a href=\"psysml:47ce73ab-2c54-4db4-9d19-7bcb338cdf44\" target=\"_top\" title=\"psysml:47ce73ab-2c54-4db4-9d19-7bcb338cdf44\" xlink:actuate=\"onRequest\" xlink:href=\"psysml:47ce73ab-2c54-4db4-9d19-7bcb338cdf44\" xlink:show=\"new\" xlink:title=\"psysml:47ce73ab-2c54-4db4-9d19-7bcb338cdf44\" xlink:type=\"simple\"><rect fill=\"#FFFFFF\" height=\"45.9375\" id=\"E3\" rx=\"10\" ry=\"10\" style=\"stroke: #383838; stroke-width: 1.5;\" width=\"108\" x=\"417.48\" y=\"346\"/><text fill=\"#000000\" font-family=\"sans-serif\" font-size=\"12\" font-style=\"italic\" lengthAdjust=\"spacingAndGlyphs\" textLength=\"40\" x=\"451.48\" y=\"362.1387\">«part»</text><text fill=\"#000000\" font-family=\"sans-serif\" font-size=\"12\" lengthAdjust=\"spacingAndGlyphs\" textLength=\"102\" x=\"420.48\" y=\"376.1074\">engine1: Engine</text><line style=\"stroke: #383838; stroke-width: 1.5;\" x1=\"418.48\" x2=\"524.48\" y1=\"383.9375\" y2=\"383.9375\"/></a><!--MD5=[ebbe1d658d1005bcc118a6aa81145e00]\n",
       "class E4--><a href=\"psysml:7dfdc806-8438-4ccb-bd71-8b6bdaa69ab8\" target=\"_top\" title=\"psysml:7dfdc806-8438-4ccb-bd71-8b6bdaa69ab8\" xlink:actuate=\"onRequest\" xlink:href=\"psysml:7dfdc806-8438-4ccb-bd71-8b6bdaa69ab8\" xlink:show=\"new\" xlink:title=\"psysml:7dfdc806-8438-4ccb-bd71-8b6bdaa69ab8\" xlink:type=\"simple\"><rect fill=\"#FFFFFF\" height=\"45.9375\" id=\"E4\" rx=\"10\" ry=\"10\" style=\"stroke: #383838; stroke-width: 1.5;\" width=\"108\" x=\"274.48\" y=\"346\"/><text fill=\"#000000\" font-family=\"sans-serif\" font-size=\"12\" font-style=\"italic\" lengthAdjust=\"spacingAndGlyphs\" textLength=\"40\" x=\"308.48\" y=\"362.1387\">«part»</text><text fill=\"#000000\" font-family=\"sans-serif\" font-size=\"12\" lengthAdjust=\"spacingAndGlyphs\" textLength=\"102\" x=\"277.48\" y=\"376.1074\">engine2: Engine</text><line style=\"stroke: #383838; stroke-width: 1.5;\" x1=\"275.48\" x2=\"381.48\" y1=\"383.9375\" y2=\"383.9375\"/></a><!--MD5=[270fce915f116d4de14055a7c1d9a0f3]\n",
       "class E5--><a href=\"psysml:cd38e840-8317-467c-8230-e0f8852492a9\" target=\"_top\" title=\"psysml:cd38e840-8317-467c-8230-e0f8852492a9\" xlink:actuate=\"onRequest\" xlink:href=\"psysml:cd38e840-8317-467c-8230-e0f8852492a9\" xlink:show=\"new\" xlink:title=\"psysml:cd38e840-8317-467c-8230-e0f8852492a9\" xlink:type=\"simple\"><rect fill=\"#FFFFFF\" height=\"45.9375\" id=\"E5\" rx=\"10\" ry=\"10\" style=\"stroke: #383838; stroke-width: 1.5;\" width=\"199\" x=\"246.98\" y=\"41\"/><text fill=\"#000000\" font-family=\"sans-serif\" font-size=\"12\" font-style=\"italic\" lengthAdjust=\"spacingAndGlyphs\" textLength=\"64\" x=\"314.48\" y=\"57.1387\">«analysis»</text><text fill=\"#000000\" font-family=\"sans-serif\" font-size=\"12\" lengthAdjust=\"spacingAndGlyphs\" textLength=\"193\" x=\"249.98\" y=\"71.1074\">engineTradeStudy: TradeStudy</text><line style=\"stroke: #383838; stroke-width: 1.5;\" x1=\"247.98\" x2=\"444.98\" y1=\"78.9375\" y2=\"78.9375\"/></a><!--MD5=[60a26617385b1d2d0262a64233df1f8d]\n",
       "class E6--><a href=\"psysml:bf1db205-ea64-42b3-a829-2093a93eb81c\" target=\"_top\" title=\"psysml:bf1db205-ea64-42b3-a829-2093a93eb81c\" xlink:actuate=\"onRequest\" xlink:href=\"psysml:bf1db205-ea64-42b3-a829-2093a93eb81c\" xlink:show=\"new\" xlink:title=\"psysml:bf1db205-ea64-42b3-a829-2093a93eb81c\" xlink:type=\"simple\"><rect fill=\"#FFFFFF\" height=\"45.9375\" id=\"E6\" rx=\"10\" ry=\"10\" style=\"stroke: #383838; stroke-width: 1.5;\" width=\"251\" x=\"85.98\" y=\"179\"/><text fill=\"#000000\" font-family=\"sans-serif\" font-size=\"12\" font-style=\"italic\" lengthAdjust=\"spacingAndGlyphs\" textLength=\"91\" x=\"165.98\" y=\"195.1387\">«requirement»</text><text fill=\"#000000\" font-family=\"sans-serif\" font-size=\"12\" lengthAdjust=\"spacingAndGlyphs\" textLength=\"245\" x=\"88.98\" y=\"209.1074\">tradeStudyObjective: MaximizeObjective</text><line style=\"stroke: #383838; stroke-width: 1.5;\" x1=\"86.98\" x2=\"335.98\" y1=\"216.9375\" y2=\"216.9375\"/></a><!--MD5=[2156ba9850f5573cc1fc38a6a4b2f02b]\n",
       "class E7--><a href=\"psysml:081fa6ee-8a6f-4292-82c4-f5eb64360f97\" target=\"_top\" title=\"psysml:081fa6ee-8a6f-4292-82c4-f5eb64360f97\" xlink:actuate=\"onRequest\" xlink:href=\"psysml:081fa6ee-8a6f-4292-82c4-f5eb64360f97\" xlink:show=\"new\" xlink:title=\"psysml:081fa6ee-8a6f-4292-82c4-f5eb64360f97\" xlink:type=\"simple\"><rect fill=\"#FFFFFF\" height=\"75.5469\" id=\"E7\" rx=\"10\" ry=\"10\" style=\"stroke: #383838; stroke-width: 1.5;\" width=\"116\" x=\"372.48\" y=\"164\"/><text fill=\"#000000\" font-family=\"sans-serif\" font-size=\"12\" font-style=\"italic\" lengthAdjust=\"spacingAndGlyphs\" textLength=\"82\" x=\"389.48\" y=\"180.1387\">«calculation»</text><text fill=\"#000000\" font-family=\"sans-serif\" font-size=\"12\" lengthAdjust=\"spacingAndGlyphs\" textLength=\"110\" x=\"375.48\" y=\"194.1074\">objectiveFunction</text><line style=\"stroke: #383838; stroke-width: 1.5;\" x1=\"373.48\" x2=\"487.48\" y1=\"201.9375\" y2=\"201.9375\"/><text fill=\"#000000\" font-family=\"sans-serif\" font-size=\"11\" lengthAdjust=\"spacingAndGlyphs\" textLength=\"65\" x=\"378.48\" y=\"232.9526\">result: Real</text><line style=\"stroke: #383838; stroke-width: 1.0;\" x1=\"373.48\" x2=\"402.98\" y1=\"216.3398\" y2=\"216.3398\"/><text fill=\"#000000\" font-family=\"sans-serif\" font-size=\"11\" lengthAdjust=\"spacingAndGlyphs\" textLength=\"55\" x=\"402.98\" y=\"219.6479\">attributes</text><line style=\"stroke: #383838; stroke-width: 1.0;\" x1=\"457.98\" x2=\"487.48\" y1=\"216.3398\" y2=\"216.3398\"/></a><!--MD5=[b9389687b975829384b498ac4b7476b2]\n",
       "class E8--><a href=\"psysml:dbdbccdb-5c16-4bd3-a501-4b1c7e9ddcab\" target=\"_top\" title=\"psysml:dbdbccdb-5c16-4bd3-a501-4b1c7e9ddcab\" xlink:actuate=\"onRequest\" xlink:href=\"psysml:dbdbccdb-5c16-4bd3-a501-4b1c7e9ddcab\" xlink:show=\"new\" xlink:title=\"psysml:dbdbccdb-5c16-4bd3-a501-4b1c7e9ddcab\" xlink:type=\"simple\"><rect fill=\"#FFFFFF\" height=\"45.9375\" id=\"E8\" rx=\"10\" ry=\"10\" style=\"stroke: #383838; stroke-width: 1.5;\" width=\"124\" x=\"78.48\" y=\"346\"/><text fill=\"#000000\" font-family=\"sans-serif\" font-size=\"12\" font-style=\"italic\" lengthAdjust=\"spacingAndGlyphs\" textLength=\"40\" x=\"120.48\" y=\"362.1387\">«part»</text><text fill=\"#000000\" font-family=\"sans-serif\" font-size=\"12\" lengthAdjust=\"spacingAndGlyphs\" textLength=\"118\" x=\"81.48\" y=\"376.1074\">alternative: Engine</text><line style=\"stroke: #383838; stroke-width: 1.5;\" x1=\"79.48\" x2=\"201.48\" y1=\"383.9375\" y2=\"383.9375\"/></a><!--MD5=[fd4143e9d270a159db93a4ea2a975926]\n",
       "class E9--><a href=\"psysml:b6df212f-8018-4500-9608-46bc28de5179\" target=\"_top\" title=\"psysml:b6df212f-8018-4500-9608-46bc28de5179\" xlink:actuate=\"onRequest\" xlink:href=\"psysml:b6df212f-8018-4500-9608-46bc28de5179\" xlink:show=\"new\" xlink:title=\"psysml:b6df212f-8018-4500-9608-46bc28de5179\" xlink:type=\"simple\"><rect fill=\"#FFFFFF\" height=\"45.9375\" id=\"E9\" rx=\"10\" ry=\"10\" style=\"stroke: #383838; stroke-width: 1.5;\" width=\"178\" x=\"298.48\" y=\"270\"/><text fill=\"#000000\" font-family=\"sans-serif\" font-size=\"12\" font-style=\"italic\" lengthAdjust=\"spacingAndGlyphs\" textLength=\"40\" x=\"367.48\" y=\"286.1387\">«part»</text><text fill=\"#000000\" font-family=\"sans-serif\" font-size=\"12\" lengthAdjust=\"spacingAndGlyphs\" textLength=\"172\" x=\"301.48\" y=\"300.1074\">selectedAlternative: Engine</text><line style=\"stroke: #383838; stroke-width: 1.5;\" x1=\"299.48\" x2=\"475.48\" y1=\"307.9375\" y2=\"307.9375\"/></a><!--MD5=[05d275557350bfb9b23a4ef7222b4c39]\n",
       "link E3 to E2--><a href=\"psysml:6a611645-87b6-456f-b99f-fe1a3075932c\" target=\"_top\" title=\"psysml:6a611645-87b6-456f-b99f-fe1a3075932c\" xlink:actuate=\"onRequest\" xlink:href=\"psysml:6a611645-87b6-456f-b99f-fe1a3075932c\" xlink:show=\"new\" xlink:title=\"psysml:6a611645-87b6-456f-b99f-fe1a3075932c\" xlink:type=\"simple\"><path d=\"M422.64,392.01 C383.73,409.54 329.43,434.01 289.87,451.84 \" fill=\"none\" id=\"E3-&gt;E2\" style=\"stroke: #383838; stroke-width: 1.0;\"/><polygon fill=\"#FFFFFF\" points=\"271.5,460.12,285.9466,445.9321,291.6983,458.696,271.5,460.12\" style=\"stroke: #383838; stroke-width: 1.0;\"/><ellipse cx=\"291.965\" cy=\"445.4137\" fill=\"#383838\" rx=\"2\" ry=\"2\" style=\"stroke: #383838; stroke-width: 1.0;\"/><ellipse cx=\"296.0734\" cy=\"454.5308\" fill=\"#383838\" rx=\"2\" ry=\"2\" style=\"stroke: #383838; stroke-width: 1.0;\"/></a><!--MD5=[185131fc0dcab0a4505a2ebe144e961b]\n",
       "link E4 to E2--><a href=\"psysml:c8f697e8-ebd5-44e8-8041-765052aa0dda\" target=\"_top\" title=\"psysml:c8f697e8-ebd5-44e8-8041-765052aa0dda\" xlink:actuate=\"onRequest\" xlink:href=\"psysml:c8f697e8-ebd5-44e8-8041-765052aa0dda\" xlink:show=\"new\" xlink:title=\"psysml:c8f697e8-ebd5-44e8-8041-765052aa0dda\" xlink:type=\"simple\"><path d=\"M309.61,392.01 C298.41,405.08 283.9,422.01 270.9,437.17 \" fill=\"none\" id=\"E4-&gt;E2\" style=\"stroke: #383838; stroke-width: 1.0;\"/><polygon fill=\"#FFFFFF\" points=\"257.63,452.66,264.6788,433.678,275.3091,442.7883,257.63,452.66\" style=\"stroke: #383838; stroke-width: 1.0;\"/><ellipse cx=\"269.9066\" cy=\"430.6515\" fill=\"#383838\" rx=\"2\" ry=\"2\" style=\"stroke: #383838; stroke-width: 1.0;\"/><ellipse cx=\"277.4996\" cy=\"437.1588\" fill=\"#383838\" rx=\"2\" ry=\"2\" style=\"stroke: #383838; stroke-width: 1.0;\"/></a><!--MD5=[15ebcb19ae302d9b601edb458606d402]\n",
       "link E5 to E2--><a href=\"psysml:2f46211a-dc33-450b-96f1-34c5430f413d\" target=\"_top\" title=\"psysml:2f46211a-dc33-450b-96f1-34c5430f413d\" xlink:actuate=\"onRequest\" xlink:href=\"psysml:2f46211a-dc33-450b-96f1-34c5430f413d\" xlink:show=\"new\" xlink:title=\"psysml:2f46211a-dc33-450b-96f1-34c5430f413d\" xlink:type=\"simple\"><path d=\"M246.76,73.1 C184.92,83.79 109.66,108.27 68.48,164 C8.23,245.55 6,306.48 60.48,392 C91.11,440.08 157.66,460.76 200.15,469.32 \" fill=\"none\" id=\"E5-&gt;E2\" style=\"stroke: #383838; stroke-width: 1.0; stroke-dasharray: 7.0,7.0;\"/><polygon fill=\"#383838\" points=\"205.2,470.31,197.1338,464.6588,200.2927,469.3514,195.6001,472.5104,205.2,470.31\" style=\"stroke: #383838; stroke-width: 1.0;\"/><text fill=\"#000000\" font-family=\"sans-serif\" font-size=\"13\" lengthAdjust=\"spacingAndGlyphs\" textLength=\"62\" x=\"26.48\" y=\"297.5669\">«subject»</text></a><!--MD5=[9120cf2e5df3bff93db8f754bbbc09b4]\n",
       "link E5 to E6--><a href=\"psysml:285bfc51-142a-40f2-bdf1-cdd7141b9b55\" target=\"_top\" title=\"psysml:285bfc51-142a-40f2-bdf1-cdd7141b9b55\" xlink:actuate=\"onRequest\" xlink:href=\"psysml:285bfc51-142a-40f2-bdf1-cdd7141b9b55\" xlink:show=\"new\" xlink:title=\"psysml:285bfc51-142a-40f2-bdf1-cdd7141b9b55\" xlink:type=\"simple\"><path d=\"M324.49,87.15 C301.25,110.57 264.53,147.55 239.3,172.98 \" fill=\"none\" id=\"E5-&gt;E6\" style=\"stroke: #383838; stroke-width: 1.0;\"/><polygon fill=\"#383838\" points=\"233.46,178.86,241.2247,175.295,236.966,171.0685,233.46,178.86\" style=\"stroke: #383838; stroke-width: 1.0;\"/><text fill=\"#000000\" font-family=\"sans-serif\" font-size=\"13\" lengthAdjust=\"spacingAndGlyphs\" textLength=\"73\" x=\"291.48\" y=\"130.0669\">«objective»</text></a><!--MD5=[452b418e7f8a40397a49b8c0a78acc5b]\n",
       "reverse link E5 to E7--><a href=\"psysml:081fa6ee-8a6f-4292-82c4-f5eb64360f97\" target=\"_top\" title=\"psysml:081fa6ee-8a6f-4292-82c4-f5eb64360f97\" xlink:actuate=\"onRequest\" xlink:href=\"psysml:081fa6ee-8a6f-4292-82c4-f5eb64360f97\" xlink:show=\"new\" xlink:title=\"psysml:081fa6ee-8a6f-4292-82c4-f5eb64360f97\" xlink:type=\"simple\"><path d=\"M367.14,98.44 C379.4,118.3 394.98,143.52 407.61,163.97 \" fill=\"none\" id=\"E5&lt;-E7\" style=\"stroke: #383838; stroke-width: 1.0;\"/><polygon fill=\"#383838\" points=\"360.16,87.15,359.9052,94.3566,366.4595,97.3636,366.7142,90.157,360.16,87.15\" style=\"stroke: #383838; stroke-width: 1.0;\"/></a><!--MD5=[f1f3f9f2fc535e6147756cb86a7f2e32]\n",
       "link E8 to E2--><a href=\"psysml:143d7cb3-4d47-41f0-bb56-6d1ae515b029\" target=\"_top\" title=\"psysml:143d7cb3-4d47-41f0-bb56-6d1ae515b029\" xlink:actuate=\"onRequest\" xlink:href=\"psysml:143d7cb3-4d47-41f0-bb56-6d1ae515b029\" xlink:show=\"new\" xlink:title=\"psysml:143d7cb3-4d47-41f0-bb56-6d1ae515b029\" xlink:type=\"simple\"><path d=\"M161.02,392.01 C173.35,405.22 189.36,422.38 203.62,437.65 \" fill=\"none\" id=\"E8-&gt;E2\" style=\"stroke: #383838; stroke-width: 1.0;\"/><polygon fill=\"#FFFFFF\" points=\"217.63,452.66,199.5521,443.5393,209.7905,433.9907,217.63,452.66\" style=\"stroke: #383838; stroke-width: 1.0;\"/><ellipse cx=\"197.1271\" cy=\"438.0067\" fill=\"#383838\" rx=\"2\" ry=\"2\" style=\"stroke: #383838; stroke-width: 1.0;\"/><ellipse cx=\"204.4402\" cy=\"431.1863\" fill=\"#383838\" rx=\"2\" ry=\"2\" style=\"stroke: #383838; stroke-width: 1.0;\"/></a><!--MD5=[dc164f5e8a733ab456ef1add180e9e34]\n",
       "reverse link E7 to E8--><a href=\"psysml:dbdbccdb-5c16-4bd3-a501-4b1c7e9ddcab\" target=\"_top\" title=\"psysml:dbdbccdb-5c16-4bd3-a501-4b1c7e9ddcab\" xlink:actuate=\"onRequest\" xlink:href=\"psysml:dbdbccdb-5c16-4bd3-a501-4b1c7e9ddcab\" xlink:show=\"new\" xlink:title=\"psysml:dbdbccdb-5c16-4bd3-a501-4b1c7e9ddcab\" xlink:type=\"simple\"><path d=\"M360.21,237.41 C358.28,238.29 356.37,239.15 354.48,240 C322.47,254.35 312.29,253.22 281.48,270 C240.11,292.53 196.1,324.58 168.46,345.81 \" fill=\"none\" id=\"E7&lt;-E8\" style=\"stroke: #383838; stroke-width: 1.0;\"/><polygon fill=\"#FFFFFF\" points=\"372.15,231.86,365.0224,230.7655,361.2708,236.9238,368.3983,238.0183,372.15,231.86\" style=\"stroke: #383838; stroke-width: 1.0;\"/></a><!--MD5=[5c3bb36fe832a92c7f0e1807dd65209d]\n",
       "link E9 to E2--><a href=\"psysml:cb3e8ea7-f115-4f34-bcd9-dd1e6ba812b8\" target=\"_top\" title=\"psysml:cb3e8ea7-f115-4f34-bcd9-dd1e6ba812b8\" xlink:actuate=\"onRequest\" xlink:href=\"psysml:cb3e8ea7-f115-4f34-bcd9-dd1e6ba812b8\" xlink:show=\"new\" xlink:title=\"psysml:cb3e8ea7-f115-4f34-bcd9-dd1e6ba812b8\" xlink:type=\"simple\"><path d=\"M298.35,315.15 C282.73,322.56 268.1,332.55 257.48,346 C238.33,370.25 234.2,405.32 234.52,432.77 \" fill=\"none\" id=\"E9-&gt;E2\" style=\"stroke: #383838; stroke-width: 1.0;\"/><polygon fill=\"#FFFFFF\" points=\"235.52,452.81,227.5786,434.1838,241.5611,433.4837,235.52,452.81\" style=\"stroke: #383838; stroke-width: 1.0;\"/><ellipse cx=\"229.291\" cy=\"428.3909\" fill=\"#383838\" rx=\"2\" ry=\"2\" style=\"stroke: #383838; stroke-width: 1.0;\"/><ellipse cx=\"239.2785\" cy=\"427.8909\" fill=\"#383838\" rx=\"2\" ry=\"2\" style=\"stroke: #383838; stroke-width: 1.0;\"/></a><!--MD5=[9ae28de373ca99bb8a1b38d63370ca7e]\n",
       "reverse link E5 to E9--><a href=\"psysml:b6df212f-8018-4500-9608-46bc28de5179\" target=\"_top\" title=\"psysml:b6df212f-8018-4500-9608-46bc28de5179\" xlink:actuate=\"onRequest\" xlink:href=\"psysml:b6df212f-8018-4500-9608-46bc28de5179\" xlink:show=\"new\" xlink:title=\"psysml:b6df212f-8018-4500-9608-46bc28de5179\" xlink:type=\"simple\"><path d=\"M423.24,92.77 C454.94,108.48 488.43,131.61 506.48,164 C522.92,193.51 524.97,211.74 506.48,240 C498.02,252.92 485.57,262.65 471.87,269.97 \" fill=\"none\" id=\"E5&lt;-E9\" style=\"stroke: #383838; stroke-width: 1.0;\"/><polygon fill=\"#FFFFFF\" points=\"411.22,87.11,414.9414,93.2867,422.0742,92.2272,418.3528,86.0505,411.22,87.11\" style=\"stroke: #383838; stroke-width: 1.0;\"/></a><!--MD5=[80db76ebd5f8ac5962f980ca24bf1caa]\n",
       "@startuml\r\n",
       "top to bottom direction\r\n",
       "skinparam monochrome true\r\n",
       "skinparam classbackgroundcolor white\r\n",
       "skinparam shadowing false\r\n",
       "skinparam wrapWidth 300\r\n",
       "hide circle\r\n",
       "\r\n",
       "package \"TradeStudyTest\" as E1  [[psysml:8952aa40-03a2-4df7-81e1-750bf2c7b589 ]]  {\r\n",
       "comp def \"Engine\" as E2  <<(T,blue)part def>> [[psysml:ba5002a0-783d-43b2-abfa-70b37f90804c ]] {\r\n",
       "}\r\n",
       "comp usage \"engine1: Engine\" as E3  <<(T,blue)part>> [[psysml:47ce73ab-2c54-4db4-9d19-7bcb338cdf44 ]] {\r\n",
       "}\r\n",
       "comp usage \"engine2: Engine\" as E4  <<(T,blue)part>> [[psysml:7dfdc806-8438-4ccb-bd71-8b6bdaa69ab8 ]] {\r\n",
       "}\r\n",
       "comp usage \"engineTradeStudy: TradeStudy\" as E5 <<analysis>> [[psysml:cd38e840-8317-467c-8230-e0f8852492a9 ]] {\r\n",
       "}\r\n",
       "comp usage \"tradeStudyObjective: MaximizeObjective\" as E6  <<(T,blue)requirement>> [[psysml:bf1db205-ea64-42b3-a829-2093a93eb81c ]] {\r\n",
       "}\r\n",
       "comp usage \"objectiveFunction\" as E7  <<(T,blue)calculation>> [[psysml:081fa6ee-8a6f-4292-82c4-f5eb64360f97 ]] {\r\n",
       "- - attributes - -\r\n",
       "result: Real\r\n",
       "}\r\n",
       "comp usage \"alternative: Engine\" as E8  <<(T,blue)part>> [[psysml:dbdbccdb-5c16-4bd3-a501-4b1c7e9ddcab ]] {\r\n",
       "}\r\n",
       "comp usage \"selectedAlternative: Engine\" as E9  <<(T,blue)part>> [[psysml:b6df212f-8018-4500-9608-46bc28de5179 ]] {\r\n",
       "}\r\n",
       "E3 - -:|> E2 [[psysml:6a611645-87b6-456f-b99f-fe1a3075932c ]] \r\n",
       "E4 - -:|> E2 [[psysml:c8f697e8-ebd5-44e8-8041-765052aa0dda ]] \r\n",
       "E5 ..> E2 [[psysml:2f46211a-dc33-450b-96f1-34c5430f413d ]] : <<subject>>\r\n",
       "E5 - ->> E6 [[psysml:285bfc51-142a-40f2-bdf1-cdd7141b9b55 ]] : <<objective>>\r\n",
       "E5 *- - E7 [[psysml:081fa6ee-8a6f-4292-82c4-f5eb64360f97 ]] \r\n",
       "E8 - -:|> E2 [[psysml:143d7cb3-4d47-41f0-bb56-6d1ae515b029 ]] \r\n",
       "E7 o- - E8 [[psysml:dbdbccdb-5c16-4bd3-a501-4b1c7e9ddcab ]] \r\n",
       "E9 - -:|> E2 [[psysml:cb3e8ea7-f115-4f34-bcd9-dd1e6ba812b8 ]] \r\n",
       "E5 o- - E9 [[psysml:b6df212f-8018-4500-9608-46bc28de5179 ]] \r\n",
       "}\r\n",
       "@enduml\r\n",
       "\n",
       "PlantUML version 1.2020.13(Sat Jun 13 12:26:38 UTC 2020)\n",
       "(EPL source distribution)\n",
       "Java Runtime: OpenJDK Runtime Environment\n",
       "JVM: OpenJDK 64-Bit Server VM\n",
       "Default Encoding: UTF-8\n",
       "Language: en\n",
       "Country: null\n",
       "--></g></svg>"
      ]
     },
     "execution_count": 50,
     "metadata": {},
     "output_type": "execute_result"
    }
   ],
   "source": [
    "%viz --style=\"TB\" --view=\"MIXED\" \"TradeStudyTest\""
   ]
  },
  {
   "cell_type": "code",
   "execution_count": 51,
   "id": "bored-dollar",
   "metadata": {
    "execution": {
     "iopub.execute_input": "2021-03-25T09:29:34.170271Z",
     "iopub.status.busy": "2021-03-25T09:29:34.169900Z",
     "iopub.status.idle": "2021-03-25T09:29:34.486894Z",
     "shell.execute_reply": "2021-03-25T09:29:34.486528Z"
    }
   },
   "outputs": [
    {
     "data": {
      "image/svg+xml": [
       "<?xml version=\"1.0\" encoding=\"UTF-8\" standalone=\"no\"?><svg xmlns=\"http://www.w3.org/2000/svg\" xmlns:xlink=\"http://www.w3.org/1999/xlink\" contentScriptType=\"application/ecmascript\" contentStyleType=\"text/css\" height=\"527px\" preserveAspectRatio=\"none\" style=\"width:554px;height:527px;\" version=\"1.1\" viewBox=\"0 0 554 527\" width=\"554px\" zoomAndPan=\"magnify\"><defs/><g><!--MD5=[fbc87193dbaf4d95561dea2c320d4a47]\n",
       "cluster E1--><a href=\"psysml:8952aa40-03a2-4df7-81e1-750bf2c7b589\" target=\"_top\" title=\"psysml:8952aa40-03a2-4df7-81e1-750bf2c7b589\" xlink:actuate=\"onRequest\" xlink:href=\"psysml:8952aa40-03a2-4df7-81e1-750bf2c7b589\" xlink:show=\"new\" xlink:title=\"psysml:8952aa40-03a2-4df7-81e1-750bf2c7b589\" xlink:type=\"simple\"><polygon fill=\"#FFFFFF\" points=\"16,6,148,6,155,28.2969,532,28.2969,532,515,16,515,16,6\" style=\"stroke: #000000; stroke-width: 1.5;\"/><line style=\"stroke: #000000; stroke-width: 1.5;\" x1=\"16\" x2=\"155\" y1=\"28.2969\" y2=\"28.2969\"/><text fill=\"#000000\" font-family=\"sans-serif\" font-size=\"14\" font-weight=\"bold\" lengthAdjust=\"spacingAndGlyphs\" textLength=\"126\" x=\"20\" y=\"20.9951\">TradeStudyTest</text></a><!--MD5=[b4997ac47864f28c2f74865a473b2911]\n",
       "class E2--><a href=\"psysml:ba5002a0-783d-43b2-abfa-70b37f90804c\" target=\"_top\" title=\"psysml:ba5002a0-783d-43b2-abfa-70b37f90804c\" xlink:actuate=\"onRequest\" xlink:href=\"psysml:ba5002a0-783d-43b2-abfa-70b37f90804c\" xlink:show=\"new\" xlink:title=\"psysml:ba5002a0-783d-43b2-abfa-70b37f90804c\" xlink:type=\"simple\"><rect fill=\"#FFFFFF\" height=\"45.9375\" id=\"E2\" style=\"stroke: #383838; stroke-width: 1.5;\" width=\"66\" x=\"196\" y=\"453\"/><text fill=\"#000000\" font-family=\"sans-serif\" font-size=\"12\" font-style=\"italic\" lengthAdjust=\"spacingAndGlyphs\" textLength=\"64\" x=\"197\" y=\"469.1387\">«part def»</text><text fill=\"#000000\" font-family=\"sans-serif\" font-size=\"12\" lengthAdjust=\"spacingAndGlyphs\" textLength=\"43\" x=\"207.5\" y=\"483.1074\">Engine</text><line style=\"stroke: #383838; stroke-width: 1.5;\" x1=\"197\" x2=\"261\" y1=\"490.9375\" y2=\"490.9375\"/></a><!--MD5=[09b614a08d8cba4a07c9adeb5e0fee81]\n",
       "class E3--><a href=\"psysml:47ce73ab-2c54-4db4-9d19-7bcb338cdf44\" target=\"_top\" title=\"psysml:47ce73ab-2c54-4db4-9d19-7bcb338cdf44\" xlink:actuate=\"onRequest\" xlink:href=\"psysml:47ce73ab-2c54-4db4-9d19-7bcb338cdf44\" xlink:show=\"new\" xlink:title=\"psysml:47ce73ab-2c54-4db4-9d19-7bcb338cdf44\" xlink:type=\"simple\"><rect fill=\"#FFFFFF\" height=\"45.9375\" id=\"E3\" rx=\"10\" ry=\"10\" style=\"stroke: #383838; stroke-width: 1.5;\" width=\"108\" x=\"408\" y=\"346\"/><text fill=\"#000000\" font-family=\"sans-serif\" font-size=\"12\" font-style=\"italic\" lengthAdjust=\"spacingAndGlyphs\" textLength=\"40\" x=\"442\" y=\"362.1387\">«part»</text><text fill=\"#000000\" font-family=\"sans-serif\" font-size=\"12\" lengthAdjust=\"spacingAndGlyphs\" textLength=\"102\" x=\"411\" y=\"376.1074\">engine1: Engine</text><line style=\"stroke: #383838; stroke-width: 1.5;\" x1=\"409\" x2=\"515\" y1=\"383.9375\" y2=\"383.9375\"/></a><!--MD5=[ebbe1d658d1005bcc118a6aa81145e00]\n",
       "class E4--><a href=\"psysml:7dfdc806-8438-4ccb-bd71-8b6bdaa69ab8\" target=\"_top\" title=\"psysml:7dfdc806-8438-4ccb-bd71-8b6bdaa69ab8\" xlink:actuate=\"onRequest\" xlink:href=\"psysml:7dfdc806-8438-4ccb-bd71-8b6bdaa69ab8\" xlink:show=\"new\" xlink:title=\"psysml:7dfdc806-8438-4ccb-bd71-8b6bdaa69ab8\" xlink:type=\"simple\"><rect fill=\"#FFFFFF\" height=\"45.9375\" id=\"E4\" rx=\"10\" ry=\"10\" style=\"stroke: #383838; stroke-width: 1.5;\" width=\"108\" x=\"265\" y=\"346\"/><text fill=\"#000000\" font-family=\"sans-serif\" font-size=\"12\" font-style=\"italic\" lengthAdjust=\"spacingAndGlyphs\" textLength=\"40\" x=\"299\" y=\"362.1387\">«part»</text><text fill=\"#000000\" font-family=\"sans-serif\" font-size=\"12\" lengthAdjust=\"spacingAndGlyphs\" textLength=\"102\" x=\"268\" y=\"376.1074\">engine2: Engine</text><line style=\"stroke: #383838; stroke-width: 1.5;\" x1=\"266\" x2=\"372\" y1=\"383.9375\" y2=\"383.9375\"/></a><!--MD5=[270fce915f116d4de14055a7c1d9a0f3]\n",
       "class E5--><a href=\"psysml:cd38e840-8317-467c-8230-e0f8852492a9\" target=\"_top\" title=\"psysml:cd38e840-8317-467c-8230-e0f8852492a9\" xlink:actuate=\"onRequest\" xlink:href=\"psysml:cd38e840-8317-467c-8230-e0f8852492a9\" xlink:show=\"new\" xlink:title=\"psysml:cd38e840-8317-467c-8230-e0f8852492a9\" xlink:type=\"simple\"><rect fill=\"#FFFFFF\" height=\"45.9375\" id=\"E5\" rx=\"10\" ry=\"10\" style=\"stroke: #383838; stroke-width: 1.5;\" width=\"199\" x=\"237.5\" y=\"41\"/><text fill=\"#000000\" font-family=\"sans-serif\" font-size=\"12\" font-style=\"italic\" lengthAdjust=\"spacingAndGlyphs\" textLength=\"64\" x=\"305\" y=\"57.1387\">«analysis»</text><text fill=\"#000000\" font-family=\"sans-serif\" font-size=\"12\" lengthAdjust=\"spacingAndGlyphs\" textLength=\"193\" x=\"240.5\" y=\"71.1074\">engineTradeStudy: TradeStudy</text><line style=\"stroke: #383838; stroke-width: 1.5;\" x1=\"238.5\" x2=\"435.5\" y1=\"78.9375\" y2=\"78.9375\"/></a><!--MD5=[60a26617385b1d2d0262a64233df1f8d]\n",
       "class E6--><a href=\"psysml:bf1db205-ea64-42b3-a829-2093a93eb81c\" target=\"_top\" title=\"psysml:bf1db205-ea64-42b3-a829-2093a93eb81c\" xlink:actuate=\"onRequest\" xlink:href=\"psysml:bf1db205-ea64-42b3-a829-2093a93eb81c\" xlink:show=\"new\" xlink:title=\"psysml:bf1db205-ea64-42b3-a829-2093a93eb81c\" xlink:type=\"simple\"><rect fill=\"#FFFFFF\" height=\"45.9375\" id=\"E6\" rx=\"10\" ry=\"10\" style=\"stroke: #383838; stroke-width: 1.5;\" width=\"251\" x=\"76.5\" y=\"179\"/><text fill=\"#000000\" font-family=\"sans-serif\" font-size=\"12\" font-style=\"italic\" lengthAdjust=\"spacingAndGlyphs\" textLength=\"91\" x=\"156.5\" y=\"195.1387\">«requirement»</text><text fill=\"#000000\" font-family=\"sans-serif\" font-size=\"12\" lengthAdjust=\"spacingAndGlyphs\" textLength=\"245\" x=\"79.5\" y=\"209.1074\">tradeStudyObjective: MaximizeObjective</text><line style=\"stroke: #383838; stroke-width: 1.5;\" x1=\"77.5\" x2=\"326.5\" y1=\"216.9375\" y2=\"216.9375\"/></a><!--MD5=[2156ba9850f5573cc1fc38a6a4b2f02b]\n",
       "class E7--><a href=\"psysml:081fa6ee-8a6f-4292-82c4-f5eb64360f97\" target=\"_top\" title=\"psysml:081fa6ee-8a6f-4292-82c4-f5eb64360f97\" xlink:actuate=\"onRequest\" xlink:href=\"psysml:081fa6ee-8a6f-4292-82c4-f5eb64360f97\" xlink:show=\"new\" xlink:title=\"psysml:081fa6ee-8a6f-4292-82c4-f5eb64360f97\" xlink:type=\"simple\"><rect fill=\"#FFFFFF\" height=\"75.5469\" id=\"E7\" rx=\"10\" ry=\"10\" style=\"stroke: #383838; stroke-width: 1.5;\" width=\"116\" x=\"363\" y=\"164\"/><text fill=\"#000000\" font-family=\"sans-serif\" font-size=\"12\" font-style=\"italic\" lengthAdjust=\"spacingAndGlyphs\" textLength=\"82\" x=\"380\" y=\"180.1387\">«calculation»</text><text fill=\"#000000\" font-family=\"sans-serif\" font-size=\"12\" lengthAdjust=\"spacingAndGlyphs\" textLength=\"110\" x=\"366\" y=\"194.1074\">objectiveFunction</text><line style=\"stroke: #383838; stroke-width: 1.5;\" x1=\"364\" x2=\"478\" y1=\"201.9375\" y2=\"201.9375\"/><text fill=\"#000000\" font-family=\"sans-serif\" font-size=\"11\" lengthAdjust=\"spacingAndGlyphs\" textLength=\"65\" x=\"369\" y=\"232.9526\">result: Real</text><line style=\"stroke: #383838; stroke-width: 1.0;\" x1=\"364\" x2=\"393.5\" y1=\"216.3398\" y2=\"216.3398\"/><text fill=\"#000000\" font-family=\"sans-serif\" font-size=\"11\" lengthAdjust=\"spacingAndGlyphs\" textLength=\"55\" x=\"393.5\" y=\"219.6479\">attributes</text><line style=\"stroke: #383838; stroke-width: 1.0;\" x1=\"448.5\" x2=\"478\" y1=\"216.3398\" y2=\"216.3398\"/></a><!--MD5=[b9389687b975829384b498ac4b7476b2]\n",
       "class E8--><a href=\"psysml:dbdbccdb-5c16-4bd3-a501-4b1c7e9ddcab\" target=\"_top\" title=\"psysml:dbdbccdb-5c16-4bd3-a501-4b1c7e9ddcab\" xlink:actuate=\"onRequest\" xlink:href=\"psysml:dbdbccdb-5c16-4bd3-a501-4b1c7e9ddcab\" xlink:show=\"new\" xlink:title=\"psysml:dbdbccdb-5c16-4bd3-a501-4b1c7e9ddcab\" xlink:type=\"simple\"><rect fill=\"#FFFFFF\" height=\"45.9375\" id=\"E8\" rx=\"10\" ry=\"10\" style=\"stroke: #383838; stroke-width: 1.5;\" width=\"124\" x=\"69\" y=\"346\"/><text fill=\"#000000\" font-family=\"sans-serif\" font-size=\"12\" font-style=\"italic\" lengthAdjust=\"spacingAndGlyphs\" textLength=\"40\" x=\"111\" y=\"362.1387\">«part»</text><text fill=\"#000000\" font-family=\"sans-serif\" font-size=\"12\" lengthAdjust=\"spacingAndGlyphs\" textLength=\"118\" x=\"72\" y=\"376.1074\">alternative: Engine</text><line style=\"stroke: #383838; stroke-width: 1.5;\" x1=\"70\" x2=\"192\" y1=\"383.9375\" y2=\"383.9375\"/></a><!--MD5=[fd4143e9d270a159db93a4ea2a975926]\n",
       "class E9--><a href=\"psysml:b6df212f-8018-4500-9608-46bc28de5179\" target=\"_top\" title=\"psysml:b6df212f-8018-4500-9608-46bc28de5179\" xlink:actuate=\"onRequest\" xlink:href=\"psysml:b6df212f-8018-4500-9608-46bc28de5179\" xlink:show=\"new\" xlink:title=\"psysml:b6df212f-8018-4500-9608-46bc28de5179\" xlink:type=\"simple\"><rect fill=\"#FFFFFF\" height=\"45.9375\" id=\"E9\" rx=\"10\" ry=\"10\" style=\"stroke: #383838; stroke-width: 1.5;\" width=\"178\" x=\"289\" y=\"270\"/><text fill=\"#000000\" font-family=\"sans-serif\" font-size=\"12\" font-style=\"italic\" lengthAdjust=\"spacingAndGlyphs\" textLength=\"40\" x=\"358\" y=\"286.1387\">«part»</text><text fill=\"#000000\" font-family=\"sans-serif\" font-size=\"12\" lengthAdjust=\"spacingAndGlyphs\" textLength=\"172\" x=\"292\" y=\"300.1074\">selectedAlternative: Engine</text><line style=\"stroke: #383838; stroke-width: 1.5;\" x1=\"290\" x2=\"466\" y1=\"307.9375\" y2=\"307.9375\"/></a><!--MD5=[05d275557350bfb9b23a4ef7222b4c39]\n",
       "link E3 to E2--><a href=\"psysml:6a611645-87b6-456f-b99f-fe1a3075932c\" target=\"_top\" title=\"psysml:6a611645-87b6-456f-b99f-fe1a3075932c\" xlink:actuate=\"onRequest\" xlink:href=\"psysml:6a611645-87b6-456f-b99f-fe1a3075932c\" xlink:show=\"new\" xlink:title=\"psysml:6a611645-87b6-456f-b99f-fe1a3075932c\" xlink:type=\"simple\"><path d=\"M462,392.22 C462,423.69 462,476 462,476 C462,476 282.38,476 282.38,476 \" fill=\"none\" id=\"E3-&gt;E2\" style=\"stroke: #383838; stroke-width: 1.0;\"/><polygon fill=\"#FFFFFF\" points=\"262.38,476,281.38,469,281.38,483,262.38,476\" style=\"stroke: #383838; stroke-width: 1.0;\"/><ellipse cx=\"287.08\" cy=\"471\" fill=\"#383838\" rx=\"2\" ry=\"2\" style=\"stroke: #383838; stroke-width: 1.0;\"/><ellipse cx=\"287.08\" cy=\"481\" fill=\"#383838\" rx=\"2\" ry=\"2\" style=\"stroke: #383838; stroke-width: 1.0;\"/></a><!--MD5=[185131fc0dcab0a4505a2ebe144e961b]\n",
       "link E4 to E2--><a href=\"psysml:c8f697e8-ebd5-44e8-8041-765052aa0dda\" target=\"_top\" title=\"psysml:c8f697e8-ebd5-44e8-8041-765052aa0dda\" xlink:actuate=\"onRequest\" xlink:href=\"psysml:c8f697e8-ebd5-44e8-8041-765052aa0dda\" xlink:show=\"new\" xlink:title=\"psysml:c8f697e8-ebd5-44e8-8041-765052aa0dda\" xlink:type=\"simple\"><path d=\"M264.73,377 C255.49,377 248.8,377 248.8,377 C248.8,377 248.8,432.79 248.8,432.79 \" fill=\"none\" id=\"E4-&gt;E2\" style=\"stroke: #383838; stroke-width: 1.0;\"/><polygon fill=\"#FFFFFF\" points=\"248.8,452.79,241.8,433.79,255.8,433.79,248.8,452.79\" style=\"stroke: #383838; stroke-width: 1.0;\"/><ellipse cx=\"243.8\" cy=\"428.09\" fill=\"#383838\" rx=\"2\" ry=\"2\" style=\"stroke: #383838; stroke-width: 1.0;\"/><ellipse cx=\"253.8\" cy=\"428.09\" fill=\"#383838\" rx=\"2\" ry=\"2\" style=\"stroke: #383838; stroke-width: 1.0;\"/></a><!--MD5=[15ebcb19ae302d9b601edb458606d402]\n",
       "link E5 to E2--><a href=\"psysml:2f46211a-dc33-450b-96f1-34c5430f413d\" target=\"_top\" title=\"psysml:2f46211a-dc33-450b-96f1-34c5430f413d\" xlink:actuate=\"onRequest\" xlink:href=\"psysml:2f46211a-dc33-450b-96f1-34c5430f413d\" xlink:show=\"new\" xlink:title=\"psysml:2f46211a-dc33-450b-96f1-34c5430f413d\" xlink:type=\"simple\"><path d=\"M339.33,87.06 C339.33,133.74 339.33,235 339.33,235 C339.33,235 222.4,235 222.4,235 C222.4,235 222.4,447.89 222.4,447.89 \" fill=\"none\" id=\"E5-&gt;E2\" style=\"stroke: #383838; stroke-width: 1.0; stroke-dasharray: 7.0,7.0;\"/><polygon fill=\"#383838\" points=\"222.4,452.89,226.4,443.89,222.4,447.89,218.4,443.89,222.4,452.89\" style=\"stroke: #383838; stroke-width: 1.0;\"/><text fill=\"#000000\" font-family=\"sans-serif\" font-size=\"13\" lengthAdjust=\"spacingAndGlyphs\" textLength=\"62\" x=\"68\" y=\"297.5669\">«subject»</text></a><!--MD5=[9120cf2e5df3bff93db8f754bbbc09b4]\n",
       "link E5 to E6--><a href=\"psysml:285bfc51-142a-40f2-bdf1-cdd7141b9b55\" target=\"_top\" title=\"psysml:285bfc51-142a-40f2-bdf1-cdd7141b9b55\" xlink:actuate=\"onRequest\" xlink:href=\"psysml:285bfc51-142a-40f2-bdf1-cdd7141b9b55\" xlink:show=\"new\" xlink:title=\"psysml:285bfc51-142a-40f2-bdf1-cdd7141b9b55\" xlink:type=\"simple\"><path d=\"M282.5,87.1 C282.5,87.1 282.5,170.83 282.5,170.83 \" fill=\"none\" id=\"E5-&gt;E6\" style=\"stroke: #383838; stroke-width: 1.0;\"/><polygon fill=\"#383838\" points=\"282.5,178.83,285.5,170.83,279.5,170.83,282.5,178.83\" style=\"stroke: #383838; stroke-width: 1.0;\"/><text fill=\"#000000\" font-family=\"sans-serif\" font-size=\"13\" lengthAdjust=\"spacingAndGlyphs\" textLength=\"73\" x=\"231\" y=\"130.0669\">«objective»</text></a><!--MD5=[452b418e7f8a40397a49b8c0a78acc5b]\n",
       "reverse link E5 to E7--><a href=\"psysml:081fa6ee-8a6f-4292-82c4-f5eb64360f97\" target=\"_top\" title=\"psysml:081fa6ee-8a6f-4292-82c4-f5eb64360f97\" xlink:actuate=\"onRequest\" xlink:href=\"psysml:081fa6ee-8a6f-4292-82c4-f5eb64360f97\" xlink:show=\"new\" xlink:title=\"psysml:081fa6ee-8a6f-4292-82c4-f5eb64360f97\" xlink:type=\"simple\"><path d=\"M399.75,100.1 C399.75,100.1 399.75,163.96 399.75,163.96 \" fill=\"none\" id=\"E5&lt;-E7\" style=\"stroke: #383838; stroke-width: 1.0;\"/><polygon fill=\"#383838\" points=\"399.75,87.1,395.75,93.1,399.75,99.1,403.75,93.1,399.75,87.1\" style=\"stroke: #383838; stroke-width: 1.0;\"/></a><!--MD5=[f1f3f9f2fc535e6147756cb86a7f2e32]\n",
       "link E8 to E2--><a href=\"psysml:143d7cb3-4d47-41f0-bb56-6d1ae515b029\" target=\"_top\" title=\"psysml:143d7cb3-4d47-41f0-bb56-6d1ae515b029\" xlink:actuate=\"onRequest\" xlink:href=\"psysml:143d7cb3-4d47-41f0-bb56-6d1ae515b029\" xlink:show=\"new\" xlink:title=\"psysml:143d7cb3-4d47-41f0-bb56-6d1ae515b029\" xlink:type=\"simple\"><path d=\"M193.38,362 C202.67,362 209.2,362 209.2,362 C209.2,362 209.2,432.93 209.2,432.93 \" fill=\"none\" id=\"E8-&gt;E2\" style=\"stroke: #383838; stroke-width: 1.0;\"/><polygon fill=\"#FFFFFF\" points=\"209.2,452.93,202.2,433.93,216.2,433.93,209.2,452.93\" style=\"stroke: #383838; stroke-width: 1.0;\"/><ellipse cx=\"204.2\" cy=\"428.23\" fill=\"#383838\" rx=\"2\" ry=\"2\" style=\"stroke: #383838; stroke-width: 1.0;\"/><ellipse cx=\"214.2\" cy=\"428.23\" fill=\"#383838\" rx=\"2\" ry=\"2\" style=\"stroke: #383838; stroke-width: 1.0;\"/></a><!--MD5=[dc164f5e8a733ab456ef1add180e9e34]\n",
       "reverse link E7 to E8--><a href=\"psysml:dbdbccdb-5c16-4bd3-a501-4b1c7e9ddcab\" target=\"_top\" title=\"psysml:dbdbccdb-5c16-4bd3-a501-4b1c7e9ddcab\" xlink:actuate=\"onRequest\" xlink:href=\"psysml:dbdbccdb-5c16-4bd3-a501-4b1c7e9ddcab\" xlink:show=\"new\" xlink:title=\"psysml:dbdbccdb-5c16-4bd3-a501-4b1c7e9ddcab\" xlink:type=\"simple\"><path d=\"M349.73,230 C349.73,230 134.75,230 134.75,230 C134.75,230 134.75,306.16 134.75,345.73 \" fill=\"none\" id=\"E7&lt;-E8\" style=\"stroke: #383838; stroke-width: 1.0;\"/><polygon fill=\"#FFFFFF\" points=\"362.73,230,356.73,226,350.73,230,356.73,234,362.73,230\" style=\"stroke: #383838; stroke-width: 1.0;\"/></a><!--MD5=[5c3bb36fe832a92c7f0e1807dd65209d]\n",
       "link E9 to E2--><a href=\"psysml:cb3e8ea7-f115-4f34-bcd9-dd1e6ba812b8\" target=\"_top\" title=\"psysml:cb3e8ea7-f115-4f34-bcd9-dd1e6ba812b8\" xlink:actuate=\"onRequest\" xlink:href=\"psysml:cb3e8ea7-f115-4f34-bcd9-dd1e6ba812b8\" xlink:show=\"new\" xlink:title=\"psysml:cb3e8ea7-f115-4f34-bcd9-dd1e6ba812b8\" xlink:type=\"simple\"><path d=\"M288.62,293 C260.01,293 235.6,293 235.6,293 C235.6,293 235.6,432.82 235.6,432.82 \" fill=\"none\" id=\"E9-&gt;E2\" style=\"stroke: #383838; stroke-width: 1.0;\"/><polygon fill=\"#FFFFFF\" points=\"235.6,452.82,228.6,433.82,242.6,433.82,235.6,452.82\" style=\"stroke: #383838; stroke-width: 1.0;\"/><ellipse cx=\"230.6\" cy=\"428.12\" fill=\"#383838\" rx=\"2\" ry=\"2\" style=\"stroke: #383838; stroke-width: 1.0;\"/><ellipse cx=\"240.6\" cy=\"428.12\" fill=\"#383838\" rx=\"2\" ry=\"2\" style=\"stroke: #383838; stroke-width: 1.0;\"/></a><!--MD5=[9ae28de373ca99bb8a1b38d63370ca7e]\n",
       "reverse link E5 to E9--><a href=\"psysml:b6df212f-8018-4500-9608-46bc28de5179\" target=\"_top\" title=\"psysml:b6df212f-8018-4500-9608-46bc28de5179\" xlink:actuate=\"onRequest\" xlink:href=\"psysml:b6df212f-8018-4500-9608-46bc28de5179\" xlink:show=\"new\" xlink:title=\"psysml:b6df212f-8018-4500-9608-46bc28de5179\" xlink:type=\"simple\"><path d=\"M351.17,100.22 C351.17,100.22 351.17,269.72 351.17,269.72 \" fill=\"none\" id=\"E5&lt;-E9\" style=\"stroke: #383838; stroke-width: 1.0;\"/><polygon fill=\"#FFFFFF\" points=\"351.17,87.22,347.17,93.22,351.17,99.22,355.17,93.22,351.17,87.22\" style=\"stroke: #383838; stroke-width: 1.0;\"/></a><!--MD5=[f6da11e2abfc9525a1aa17eeed705711]\n",
       "@startuml\r\n",
       "skinparam linetype ortho\r\n",
       "skinparam monochrome true\r\n",
       "skinparam classbackgroundcolor white\r\n",
       "skinparam shadowing false\r\n",
       "skinparam wrapWidth 300\r\n",
       "hide circle\r\n",
       "\r\n",
       "package \"TradeStudyTest\" as E1  [[psysml:8952aa40-03a2-4df7-81e1-750bf2c7b589 ]]  {\r\n",
       "comp def \"Engine\" as E2  <<(T,blue)part def>> [[psysml:ba5002a0-783d-43b2-abfa-70b37f90804c ]] {\r\n",
       "}\r\n",
       "comp usage \"engine1: Engine\" as E3  <<(T,blue)part>> [[psysml:47ce73ab-2c54-4db4-9d19-7bcb338cdf44 ]] {\r\n",
       "}\r\n",
       "comp usage \"engine2: Engine\" as E4  <<(T,blue)part>> [[psysml:7dfdc806-8438-4ccb-bd71-8b6bdaa69ab8 ]] {\r\n",
       "}\r\n",
       "comp usage \"engineTradeStudy: TradeStudy\" as E5 <<analysis>> [[psysml:cd38e840-8317-467c-8230-e0f8852492a9 ]] {\r\n",
       "}\r\n",
       "comp usage \"tradeStudyObjective: MaximizeObjective\" as E6  <<(T,blue)requirement>> [[psysml:bf1db205-ea64-42b3-a829-2093a93eb81c ]] {\r\n",
       "}\r\n",
       "comp usage \"objectiveFunction\" as E7  <<(T,blue)calculation>> [[psysml:081fa6ee-8a6f-4292-82c4-f5eb64360f97 ]] {\r\n",
       "- - attributes - -\r\n",
       "result: Real\r\n",
       "}\r\n",
       "comp usage \"alternative: Engine\" as E8  <<(T,blue)part>> [[psysml:dbdbccdb-5c16-4bd3-a501-4b1c7e9ddcab ]] {\r\n",
       "}\r\n",
       "comp usage \"selectedAlternative: Engine\" as E9  <<(T,blue)part>> [[psysml:b6df212f-8018-4500-9608-46bc28de5179 ]] {\r\n",
       "}\r\n",
       "E3 - -:|> E2 [[psysml:6a611645-87b6-456f-b99f-fe1a3075932c ]] \r\n",
       "E4 - -:|> E2 [[psysml:c8f697e8-ebd5-44e8-8041-765052aa0dda ]] \r\n",
       "E5 ..> E2 [[psysml:2f46211a-dc33-450b-96f1-34c5430f413d ]] : <<subject>>\r\n",
       "E5 - ->> E6 [[psysml:285bfc51-142a-40f2-bdf1-cdd7141b9b55 ]] : <<objective>>\r\n",
       "E5 *- - E7 [[psysml:081fa6ee-8a6f-4292-82c4-f5eb64360f97 ]] \r\n",
       "E8 - -:|> E2 [[psysml:143d7cb3-4d47-41f0-bb56-6d1ae515b029 ]] \r\n",
       "E7 o- - E8 [[psysml:dbdbccdb-5c16-4bd3-a501-4b1c7e9ddcab ]] \r\n",
       "E9 - -:|> E2 [[psysml:cb3e8ea7-f115-4f34-bcd9-dd1e6ba812b8 ]] \r\n",
       "E5 o- - E9 [[psysml:b6df212f-8018-4500-9608-46bc28de5179 ]] \r\n",
       "}\r\n",
       "@enduml\r\n",
       "\n",
       "PlantUML version 1.2020.13(Sat Jun 13 12:26:38 UTC 2020)\n",
       "(EPL source distribution)\n",
       "Java Runtime: OpenJDK Runtime Environment\n",
       "JVM: OpenJDK 64-Bit Server VM\n",
       "Default Encoding: UTF-8\n",
       "Language: en\n",
       "Country: null\n",
       "--></g></svg>"
      ]
     },
     "execution_count": 51,
     "metadata": {},
     "output_type": "execute_result"
    }
   ],
   "source": [
    "%viz --style=\"ORTHOLINE\" --view=\"Default\" \"TradeStudyTest\""
   ]
  },
  {
   "cell_type": "code",
   "execution_count": 52,
   "id": "waiting-auditor",
   "metadata": {
    "execution": {
     "iopub.execute_input": "2021-03-25T09:29:34.537252Z",
     "iopub.status.busy": "2021-03-25T09:29:34.536705Z",
     "iopub.status.idle": "2021-03-25T09:29:34.840009Z",
     "shell.execute_reply": "2021-03-25T09:29:34.838126Z"
    }
   },
   "outputs": [
    {
     "data": {
      "image/svg+xml": [
       "<?xml version=\"1.0\" encoding=\"UTF-8\" standalone=\"no\"?><svg xmlns=\"http://www.w3.org/2000/svg\" xmlns:xlink=\"http://www.w3.org/1999/xlink\" contentScriptType=\"application/ecmascript\" contentStyleType=\"text/css\" height=\"527px\" preserveAspectRatio=\"none\" style=\"width:554px;height:527px;\" version=\"1.1\" viewBox=\"0 0 554 527\" width=\"554px\" zoomAndPan=\"magnify\"><defs/><g><!--MD5=[fbc87193dbaf4d95561dea2c320d4a47]\n",
       "cluster E1--><a href=\"psysml:8952aa40-03a2-4df7-81e1-750bf2c7b589\" target=\"_top\" title=\"psysml:8952aa40-03a2-4df7-81e1-750bf2c7b589\" xlink:actuate=\"onRequest\" xlink:href=\"psysml:8952aa40-03a2-4df7-81e1-750bf2c7b589\" xlink:show=\"new\" xlink:title=\"psysml:8952aa40-03a2-4df7-81e1-750bf2c7b589\" xlink:type=\"simple\"><polygon fill=\"#FFFFFF\" points=\"16,6,148,6,155,28.2969,532,28.2969,532,515,16,515,16,6\" style=\"stroke: #000000; stroke-width: 1.5;\"/><line style=\"stroke: #000000; stroke-width: 1.5;\" x1=\"16\" x2=\"155\" y1=\"28.2969\" y2=\"28.2969\"/><text fill=\"#000000\" font-family=\"sans-serif\" font-size=\"14\" font-weight=\"bold\" lengthAdjust=\"spacingAndGlyphs\" textLength=\"126\" x=\"20\" y=\"20.9951\">TradeStudyTest</text></a><!--MD5=[b4997ac47864f28c2f74865a473b2911]\n",
       "class E2--><a href=\"psysml:ba5002a0-783d-43b2-abfa-70b37f90804c\" target=\"_top\" title=\"psysml:ba5002a0-783d-43b2-abfa-70b37f90804c\" xlink:actuate=\"onRequest\" xlink:href=\"psysml:ba5002a0-783d-43b2-abfa-70b37f90804c\" xlink:show=\"new\" xlink:title=\"psysml:ba5002a0-783d-43b2-abfa-70b37f90804c\" xlink:type=\"simple\"><rect fill=\"#FFFFFF\" height=\"45.9375\" id=\"E2\" style=\"stroke: #383838; stroke-width: 1.5;\" width=\"66\" x=\"196\" y=\"453\"/><text fill=\"#000000\" font-family=\"sans-serif\" font-size=\"12\" font-style=\"italic\" lengthAdjust=\"spacingAndGlyphs\" textLength=\"64\" x=\"197\" y=\"469.1387\">«part def»</text><text fill=\"#000000\" font-family=\"sans-serif\" font-size=\"12\" lengthAdjust=\"spacingAndGlyphs\" textLength=\"43\" x=\"207.5\" y=\"483.1074\">Engine</text><line style=\"stroke: #383838; stroke-width: 1.5;\" x1=\"197\" x2=\"261\" y1=\"490.9375\" y2=\"490.9375\"/></a><!--MD5=[09b614a08d8cba4a07c9adeb5e0fee81]\n",
       "class E3--><a href=\"psysml:47ce73ab-2c54-4db4-9d19-7bcb338cdf44\" target=\"_top\" title=\"psysml:47ce73ab-2c54-4db4-9d19-7bcb338cdf44\" xlink:actuate=\"onRequest\" xlink:href=\"psysml:47ce73ab-2c54-4db4-9d19-7bcb338cdf44\" xlink:show=\"new\" xlink:title=\"psysml:47ce73ab-2c54-4db4-9d19-7bcb338cdf44\" xlink:type=\"simple\"><rect fill=\"#FFFFFF\" height=\"45.9375\" id=\"E3\" rx=\"10\" ry=\"10\" style=\"stroke: #383838; stroke-width: 1.5;\" width=\"108\" x=\"408\" y=\"346\"/><text fill=\"#000000\" font-family=\"sans-serif\" font-size=\"12\" font-style=\"italic\" lengthAdjust=\"spacingAndGlyphs\" textLength=\"40\" x=\"442\" y=\"362.1387\">«part»</text><text fill=\"#000000\" font-family=\"sans-serif\" font-size=\"12\" lengthAdjust=\"spacingAndGlyphs\" textLength=\"102\" x=\"411\" y=\"376.1074\">engine1: Engine</text><line style=\"stroke: #383838; stroke-width: 1.5;\" x1=\"409\" x2=\"515\" y1=\"383.9375\" y2=\"383.9375\"/></a><!--MD5=[ebbe1d658d1005bcc118a6aa81145e00]\n",
       "class E4--><a href=\"psysml:7dfdc806-8438-4ccb-bd71-8b6bdaa69ab8\" target=\"_top\" title=\"psysml:7dfdc806-8438-4ccb-bd71-8b6bdaa69ab8\" xlink:actuate=\"onRequest\" xlink:href=\"psysml:7dfdc806-8438-4ccb-bd71-8b6bdaa69ab8\" xlink:show=\"new\" xlink:title=\"psysml:7dfdc806-8438-4ccb-bd71-8b6bdaa69ab8\" xlink:type=\"simple\"><rect fill=\"#FFFFFF\" height=\"45.9375\" id=\"E4\" rx=\"10\" ry=\"10\" style=\"stroke: #383838; stroke-width: 1.5;\" width=\"108\" x=\"265\" y=\"346\"/><text fill=\"#000000\" font-family=\"sans-serif\" font-size=\"12\" font-style=\"italic\" lengthAdjust=\"spacingAndGlyphs\" textLength=\"40\" x=\"299\" y=\"362.1387\">«part»</text><text fill=\"#000000\" font-family=\"sans-serif\" font-size=\"12\" lengthAdjust=\"spacingAndGlyphs\" textLength=\"102\" x=\"268\" y=\"376.1074\">engine2: Engine</text><line style=\"stroke: #383838; stroke-width: 1.5;\" x1=\"266\" x2=\"372\" y1=\"383.9375\" y2=\"383.9375\"/></a><!--MD5=[270fce915f116d4de14055a7c1d9a0f3]\n",
       "class E5--><a href=\"psysml:cd38e840-8317-467c-8230-e0f8852492a9\" target=\"_top\" title=\"psysml:cd38e840-8317-467c-8230-e0f8852492a9\" xlink:actuate=\"onRequest\" xlink:href=\"psysml:cd38e840-8317-467c-8230-e0f8852492a9\" xlink:show=\"new\" xlink:title=\"psysml:cd38e840-8317-467c-8230-e0f8852492a9\" xlink:type=\"simple\"><rect fill=\"#FFFFFF\" height=\"45.9375\" id=\"E5\" rx=\"10\" ry=\"10\" style=\"stroke: #383838; stroke-width: 1.5;\" width=\"199\" x=\"237.5\" y=\"41\"/><text fill=\"#000000\" font-family=\"sans-serif\" font-size=\"12\" font-style=\"italic\" lengthAdjust=\"spacingAndGlyphs\" textLength=\"64\" x=\"305\" y=\"57.1387\">«analysis»</text><text fill=\"#000000\" font-family=\"sans-serif\" font-size=\"12\" lengthAdjust=\"spacingAndGlyphs\" textLength=\"193\" x=\"240.5\" y=\"71.1074\">engineTradeStudy: TradeStudy</text><line style=\"stroke: #383838; stroke-width: 1.5;\" x1=\"238.5\" x2=\"435.5\" y1=\"78.9375\" y2=\"78.9375\"/></a><!--MD5=[60a26617385b1d2d0262a64233df1f8d]\n",
       "class E6--><a href=\"psysml:bf1db205-ea64-42b3-a829-2093a93eb81c\" target=\"_top\" title=\"psysml:bf1db205-ea64-42b3-a829-2093a93eb81c\" xlink:actuate=\"onRequest\" xlink:href=\"psysml:bf1db205-ea64-42b3-a829-2093a93eb81c\" xlink:show=\"new\" xlink:title=\"psysml:bf1db205-ea64-42b3-a829-2093a93eb81c\" xlink:type=\"simple\"><rect fill=\"#FFFFFF\" height=\"45.9375\" id=\"E6\" rx=\"10\" ry=\"10\" style=\"stroke: #383838; stroke-width: 1.5;\" width=\"251\" x=\"76.5\" y=\"179\"/><text fill=\"#000000\" font-family=\"sans-serif\" font-size=\"12\" font-style=\"italic\" lengthAdjust=\"spacingAndGlyphs\" textLength=\"91\" x=\"156.5\" y=\"195.1387\">«requirement»</text><text fill=\"#000000\" font-family=\"sans-serif\" font-size=\"12\" lengthAdjust=\"spacingAndGlyphs\" textLength=\"245\" x=\"79.5\" y=\"209.1074\">tradeStudyObjective: MaximizeObjective</text><line style=\"stroke: #383838; stroke-width: 1.5;\" x1=\"77.5\" x2=\"326.5\" y1=\"216.9375\" y2=\"216.9375\"/></a><!--MD5=[2156ba9850f5573cc1fc38a6a4b2f02b]\n",
       "class E7--><a href=\"psysml:081fa6ee-8a6f-4292-82c4-f5eb64360f97\" target=\"_top\" title=\"psysml:081fa6ee-8a6f-4292-82c4-f5eb64360f97\" xlink:actuate=\"onRequest\" xlink:href=\"psysml:081fa6ee-8a6f-4292-82c4-f5eb64360f97\" xlink:show=\"new\" xlink:title=\"psysml:081fa6ee-8a6f-4292-82c4-f5eb64360f97\" xlink:type=\"simple\"><rect fill=\"#FFFFFF\" height=\"75.5469\" id=\"E7\" rx=\"10\" ry=\"10\" style=\"stroke: #383838; stroke-width: 1.5;\" width=\"116\" x=\"363\" y=\"164\"/><text fill=\"#000000\" font-family=\"sans-serif\" font-size=\"12\" font-style=\"italic\" lengthAdjust=\"spacingAndGlyphs\" textLength=\"82\" x=\"380\" y=\"180.1387\">«calculation»</text><text fill=\"#000000\" font-family=\"sans-serif\" font-size=\"12\" lengthAdjust=\"spacingAndGlyphs\" textLength=\"110\" x=\"366\" y=\"194.1074\">objectiveFunction</text><line style=\"stroke: #383838; stroke-width: 1.5;\" x1=\"364\" x2=\"478\" y1=\"201.9375\" y2=\"201.9375\"/><text fill=\"#000000\" font-family=\"sans-serif\" font-size=\"11\" lengthAdjust=\"spacingAndGlyphs\" textLength=\"65\" x=\"369\" y=\"232.9526\">result: Real</text><line style=\"stroke: #383838; stroke-width: 1.0;\" x1=\"364\" x2=\"393.5\" y1=\"216.3398\" y2=\"216.3398\"/><text fill=\"#000000\" font-family=\"sans-serif\" font-size=\"11\" lengthAdjust=\"spacingAndGlyphs\" textLength=\"55\" x=\"393.5\" y=\"219.6479\">attributes</text><line style=\"stroke: #383838; stroke-width: 1.0;\" x1=\"448.5\" x2=\"478\" y1=\"216.3398\" y2=\"216.3398\"/></a><!--MD5=[b9389687b975829384b498ac4b7476b2]\n",
       "class E8--><a href=\"psysml:dbdbccdb-5c16-4bd3-a501-4b1c7e9ddcab\" target=\"_top\" title=\"psysml:dbdbccdb-5c16-4bd3-a501-4b1c7e9ddcab\" xlink:actuate=\"onRequest\" xlink:href=\"psysml:dbdbccdb-5c16-4bd3-a501-4b1c7e9ddcab\" xlink:show=\"new\" xlink:title=\"psysml:dbdbccdb-5c16-4bd3-a501-4b1c7e9ddcab\" xlink:type=\"simple\"><rect fill=\"#FFFFFF\" height=\"45.9375\" id=\"E8\" rx=\"10\" ry=\"10\" style=\"stroke: #383838; stroke-width: 1.5;\" width=\"124\" x=\"69\" y=\"346\"/><text fill=\"#000000\" font-family=\"sans-serif\" font-size=\"12\" font-style=\"italic\" lengthAdjust=\"spacingAndGlyphs\" textLength=\"40\" x=\"111\" y=\"362.1387\">«part»</text><text fill=\"#000000\" font-family=\"sans-serif\" font-size=\"12\" lengthAdjust=\"spacingAndGlyphs\" textLength=\"118\" x=\"72\" y=\"376.1074\">alternative: Engine</text><line style=\"stroke: #383838; stroke-width: 1.5;\" x1=\"70\" x2=\"192\" y1=\"383.9375\" y2=\"383.9375\"/></a><!--MD5=[fd4143e9d270a159db93a4ea2a975926]\n",
       "class E9--><a href=\"psysml:b6df212f-8018-4500-9608-46bc28de5179\" target=\"_top\" title=\"psysml:b6df212f-8018-4500-9608-46bc28de5179\" xlink:actuate=\"onRequest\" xlink:href=\"psysml:b6df212f-8018-4500-9608-46bc28de5179\" xlink:show=\"new\" xlink:title=\"psysml:b6df212f-8018-4500-9608-46bc28de5179\" xlink:type=\"simple\"><rect fill=\"#FFFFFF\" height=\"45.9375\" id=\"E9\" rx=\"10\" ry=\"10\" style=\"stroke: #383838; stroke-width: 1.5;\" width=\"178\" x=\"289\" y=\"270\"/><text fill=\"#000000\" font-family=\"sans-serif\" font-size=\"12\" font-style=\"italic\" lengthAdjust=\"spacingAndGlyphs\" textLength=\"40\" x=\"358\" y=\"286.1387\">«part»</text><text fill=\"#000000\" font-family=\"sans-serif\" font-size=\"12\" lengthAdjust=\"spacingAndGlyphs\" textLength=\"172\" x=\"292\" y=\"300.1074\">selectedAlternative: Engine</text><line style=\"stroke: #383838; stroke-width: 1.5;\" x1=\"290\" x2=\"466\" y1=\"307.9375\" y2=\"307.9375\"/></a><!--MD5=[05d275557350bfb9b23a4ef7222b4c39]\n",
       "link E3 to E2--><a href=\"psysml:6a611645-87b6-456f-b99f-fe1a3075932c\" target=\"_top\" title=\"psysml:6a611645-87b6-456f-b99f-fe1a3075932c\" xlink:actuate=\"onRequest\" xlink:href=\"psysml:6a611645-87b6-456f-b99f-fe1a3075932c\" xlink:show=\"new\" xlink:title=\"psysml:6a611645-87b6-456f-b99f-fe1a3075932c\" xlink:type=\"simple\"><path d=\"M462,392.22 C462,423.69 462,476 462,476 C462,476 282.38,476 282.38,476 \" fill=\"none\" id=\"E3-&gt;E2\" style=\"stroke: #383838; stroke-width: 1.0;\"/><polygon fill=\"#FFFFFF\" points=\"262.38,476,281.38,469,281.38,483,262.38,476\" style=\"stroke: #383838; stroke-width: 1.0;\"/><ellipse cx=\"287.08\" cy=\"471\" fill=\"#383838\" rx=\"2\" ry=\"2\" style=\"stroke: #383838; stroke-width: 1.0;\"/><ellipse cx=\"287.08\" cy=\"481\" fill=\"#383838\" rx=\"2\" ry=\"2\" style=\"stroke: #383838; stroke-width: 1.0;\"/></a><!--MD5=[185131fc0dcab0a4505a2ebe144e961b]\n",
       "link E4 to E2--><a href=\"psysml:c8f697e8-ebd5-44e8-8041-765052aa0dda\" target=\"_top\" title=\"psysml:c8f697e8-ebd5-44e8-8041-765052aa0dda\" xlink:actuate=\"onRequest\" xlink:href=\"psysml:c8f697e8-ebd5-44e8-8041-765052aa0dda\" xlink:show=\"new\" xlink:title=\"psysml:c8f697e8-ebd5-44e8-8041-765052aa0dda\" xlink:type=\"simple\"><path d=\"M264.73,377 C255.49,377 248.8,377 248.8,377 C248.8,377 248.8,432.79 248.8,432.79 \" fill=\"none\" id=\"E4-&gt;E2\" style=\"stroke: #383838; stroke-width: 1.0;\"/><polygon fill=\"#FFFFFF\" points=\"248.8,452.79,241.8,433.79,255.8,433.79,248.8,452.79\" style=\"stroke: #383838; stroke-width: 1.0;\"/><ellipse cx=\"243.8\" cy=\"428.09\" fill=\"#383838\" rx=\"2\" ry=\"2\" style=\"stroke: #383838; stroke-width: 1.0;\"/><ellipse cx=\"253.8\" cy=\"428.09\" fill=\"#383838\" rx=\"2\" ry=\"2\" style=\"stroke: #383838; stroke-width: 1.0;\"/></a><!--MD5=[15ebcb19ae302d9b601edb458606d402]\n",
       "link E5 to E2--><a href=\"psysml:2f46211a-dc33-450b-96f1-34c5430f413d\" target=\"_top\" title=\"psysml:2f46211a-dc33-450b-96f1-34c5430f413d\" xlink:actuate=\"onRequest\" xlink:href=\"psysml:2f46211a-dc33-450b-96f1-34c5430f413d\" xlink:show=\"new\" xlink:title=\"psysml:2f46211a-dc33-450b-96f1-34c5430f413d\" xlink:type=\"simple\"><path d=\"M339.33,87.06 C339.33,133.74 339.33,235 339.33,235 C339.33,235 222.4,235 222.4,235 C222.4,235 222.4,447.89 222.4,447.89 \" fill=\"none\" id=\"E5-&gt;E2\" style=\"stroke: #383838; stroke-width: 1.0; stroke-dasharray: 7.0,7.0;\"/><polygon fill=\"#383838\" points=\"222.4,452.89,226.4,443.89,222.4,447.89,218.4,443.89,222.4,452.89\" style=\"stroke: #383838; stroke-width: 1.0;\"/><text fill=\"#000000\" font-family=\"sans-serif\" font-size=\"13\" lengthAdjust=\"spacingAndGlyphs\" textLength=\"62\" x=\"68\" y=\"297.5669\">«subject»</text></a><!--MD5=[9120cf2e5df3bff93db8f754bbbc09b4]\n",
       "link E5 to E6--><a href=\"psysml:285bfc51-142a-40f2-bdf1-cdd7141b9b55\" target=\"_top\" title=\"psysml:285bfc51-142a-40f2-bdf1-cdd7141b9b55\" xlink:actuate=\"onRequest\" xlink:href=\"psysml:285bfc51-142a-40f2-bdf1-cdd7141b9b55\" xlink:show=\"new\" xlink:title=\"psysml:285bfc51-142a-40f2-bdf1-cdd7141b9b55\" xlink:type=\"simple\"><path d=\"M282.5,87.1 C282.5,87.1 282.5,170.83 282.5,170.83 \" fill=\"none\" id=\"E5-&gt;E6\" style=\"stroke: #383838; stroke-width: 1.0;\"/><polygon fill=\"#383838\" points=\"282.5,178.83,285.5,170.83,279.5,170.83,282.5,178.83\" style=\"stroke: #383838; stroke-width: 1.0;\"/><text fill=\"#000000\" font-family=\"sans-serif\" font-size=\"13\" lengthAdjust=\"spacingAndGlyphs\" textLength=\"73\" x=\"231\" y=\"130.0669\">«objective»</text></a><!--MD5=[452b418e7f8a40397a49b8c0a78acc5b]\n",
       "reverse link E5 to E7--><a href=\"psysml:081fa6ee-8a6f-4292-82c4-f5eb64360f97\" target=\"_top\" title=\"psysml:081fa6ee-8a6f-4292-82c4-f5eb64360f97\" xlink:actuate=\"onRequest\" xlink:href=\"psysml:081fa6ee-8a6f-4292-82c4-f5eb64360f97\" xlink:show=\"new\" xlink:title=\"psysml:081fa6ee-8a6f-4292-82c4-f5eb64360f97\" xlink:type=\"simple\"><path d=\"M399.75,100.1 C399.75,100.1 399.75,163.96 399.75,163.96 \" fill=\"none\" id=\"E5&lt;-E7\" style=\"stroke: #383838; stroke-width: 1.0;\"/><polygon fill=\"#383838\" points=\"399.75,87.1,395.75,93.1,399.75,99.1,403.75,93.1,399.75,87.1\" style=\"stroke: #383838; stroke-width: 1.0;\"/></a><!--MD5=[f1f3f9f2fc535e6147756cb86a7f2e32]\n",
       "link E8 to E2--><a href=\"psysml:143d7cb3-4d47-41f0-bb56-6d1ae515b029\" target=\"_top\" title=\"psysml:143d7cb3-4d47-41f0-bb56-6d1ae515b029\" xlink:actuate=\"onRequest\" xlink:href=\"psysml:143d7cb3-4d47-41f0-bb56-6d1ae515b029\" xlink:show=\"new\" xlink:title=\"psysml:143d7cb3-4d47-41f0-bb56-6d1ae515b029\" xlink:type=\"simple\"><path d=\"M193.38,362 C202.67,362 209.2,362 209.2,362 C209.2,362 209.2,432.93 209.2,432.93 \" fill=\"none\" id=\"E8-&gt;E2\" style=\"stroke: #383838; stroke-width: 1.0;\"/><polygon fill=\"#FFFFFF\" points=\"209.2,452.93,202.2,433.93,216.2,433.93,209.2,452.93\" style=\"stroke: #383838; stroke-width: 1.0;\"/><ellipse cx=\"204.2\" cy=\"428.23\" fill=\"#383838\" rx=\"2\" ry=\"2\" style=\"stroke: #383838; stroke-width: 1.0;\"/><ellipse cx=\"214.2\" cy=\"428.23\" fill=\"#383838\" rx=\"2\" ry=\"2\" style=\"stroke: #383838; stroke-width: 1.0;\"/></a><!--MD5=[dc164f5e8a733ab456ef1add180e9e34]\n",
       "reverse link E7 to E8--><a href=\"psysml:dbdbccdb-5c16-4bd3-a501-4b1c7e9ddcab\" target=\"_top\" title=\"psysml:dbdbccdb-5c16-4bd3-a501-4b1c7e9ddcab\" xlink:actuate=\"onRequest\" xlink:href=\"psysml:dbdbccdb-5c16-4bd3-a501-4b1c7e9ddcab\" xlink:show=\"new\" xlink:title=\"psysml:dbdbccdb-5c16-4bd3-a501-4b1c7e9ddcab\" xlink:type=\"simple\"><path d=\"M349.73,230 C349.73,230 134.75,230 134.75,230 C134.75,230 134.75,306.16 134.75,345.73 \" fill=\"none\" id=\"E7&lt;-E8\" style=\"stroke: #383838; stroke-width: 1.0;\"/><polygon fill=\"#FFFFFF\" points=\"362.73,230,356.73,226,350.73,230,356.73,234,362.73,230\" style=\"stroke: #383838; stroke-width: 1.0;\"/></a><!--MD5=[5c3bb36fe832a92c7f0e1807dd65209d]\n",
       "link E9 to E2--><a href=\"psysml:cb3e8ea7-f115-4f34-bcd9-dd1e6ba812b8\" target=\"_top\" title=\"psysml:cb3e8ea7-f115-4f34-bcd9-dd1e6ba812b8\" xlink:actuate=\"onRequest\" xlink:href=\"psysml:cb3e8ea7-f115-4f34-bcd9-dd1e6ba812b8\" xlink:show=\"new\" xlink:title=\"psysml:cb3e8ea7-f115-4f34-bcd9-dd1e6ba812b8\" xlink:type=\"simple\"><path d=\"M288.62,293 C260.01,293 235.6,293 235.6,293 C235.6,293 235.6,432.82 235.6,432.82 \" fill=\"none\" id=\"E9-&gt;E2\" style=\"stroke: #383838; stroke-width: 1.0;\"/><polygon fill=\"#FFFFFF\" points=\"235.6,452.82,228.6,433.82,242.6,433.82,235.6,452.82\" style=\"stroke: #383838; stroke-width: 1.0;\"/><ellipse cx=\"230.6\" cy=\"428.12\" fill=\"#383838\" rx=\"2\" ry=\"2\" style=\"stroke: #383838; stroke-width: 1.0;\"/><ellipse cx=\"240.6\" cy=\"428.12\" fill=\"#383838\" rx=\"2\" ry=\"2\" style=\"stroke: #383838; stroke-width: 1.0;\"/></a><!--MD5=[9ae28de373ca99bb8a1b38d63370ca7e]\n",
       "reverse link E5 to E9--><a href=\"psysml:b6df212f-8018-4500-9608-46bc28de5179\" target=\"_top\" title=\"psysml:b6df212f-8018-4500-9608-46bc28de5179\" xlink:actuate=\"onRequest\" xlink:href=\"psysml:b6df212f-8018-4500-9608-46bc28de5179\" xlink:show=\"new\" xlink:title=\"psysml:b6df212f-8018-4500-9608-46bc28de5179\" xlink:type=\"simple\"><path d=\"M351.17,100.22 C351.17,100.22 351.17,269.72 351.17,269.72 \" fill=\"none\" id=\"E5&lt;-E9\" style=\"stroke: #383838; stroke-width: 1.0;\"/><polygon fill=\"#FFFFFF\" points=\"351.17,87.22,347.17,93.22,351.17,99.22,355.17,93.22,351.17,87.22\" style=\"stroke: #383838; stroke-width: 1.0;\"/></a><!--MD5=[f6da11e2abfc9525a1aa17eeed705711]\n",
       "@startuml\r\n",
       "skinparam linetype ortho\r\n",
       "skinparam monochrome true\r\n",
       "skinparam classbackgroundcolor white\r\n",
       "skinparam shadowing false\r\n",
       "skinparam wrapWidth 300\r\n",
       "hide circle\r\n",
       "\r\n",
       "package \"TradeStudyTest\" as E1  [[psysml:8952aa40-03a2-4df7-81e1-750bf2c7b589 ]]  {\r\n",
       "comp def \"Engine\" as E2  <<(T,blue)part def>> [[psysml:ba5002a0-783d-43b2-abfa-70b37f90804c ]] {\r\n",
       "}\r\n",
       "comp usage \"engine1: Engine\" as E3  <<(T,blue)part>> [[psysml:47ce73ab-2c54-4db4-9d19-7bcb338cdf44 ]] {\r\n",
       "}\r\n",
       "comp usage \"engine2: Engine\" as E4  <<(T,blue)part>> [[psysml:7dfdc806-8438-4ccb-bd71-8b6bdaa69ab8 ]] {\r\n",
       "}\r\n",
       "comp usage \"engineTradeStudy: TradeStudy\" as E5 <<analysis>> [[psysml:cd38e840-8317-467c-8230-e0f8852492a9 ]] {\r\n",
       "}\r\n",
       "comp usage \"tradeStudyObjective: MaximizeObjective\" as E6  <<(T,blue)requirement>> [[psysml:bf1db205-ea64-42b3-a829-2093a93eb81c ]] {\r\n",
       "}\r\n",
       "comp usage \"objectiveFunction\" as E7  <<(T,blue)calculation>> [[psysml:081fa6ee-8a6f-4292-82c4-f5eb64360f97 ]] {\r\n",
       "- - attributes - -\r\n",
       "result: Real\r\n",
       "}\r\n",
       "comp usage \"alternative: Engine\" as E8  <<(T,blue)part>> [[psysml:dbdbccdb-5c16-4bd3-a501-4b1c7e9ddcab ]] {\r\n",
       "}\r\n",
       "comp usage \"selectedAlternative: Engine\" as E9  <<(T,blue)part>> [[psysml:b6df212f-8018-4500-9608-46bc28de5179 ]] {\r\n",
       "}\r\n",
       "E3 - -:|> E2 [[psysml:6a611645-87b6-456f-b99f-fe1a3075932c ]] \r\n",
       "E4 - -:|> E2 [[psysml:c8f697e8-ebd5-44e8-8041-765052aa0dda ]] \r\n",
       "E5 ..> E2 [[psysml:2f46211a-dc33-450b-96f1-34c5430f413d ]] : <<subject>>\r\n",
       "E5 - ->> E6 [[psysml:285bfc51-142a-40f2-bdf1-cdd7141b9b55 ]] : <<objective>>\r\n",
       "E5 *- - E7 [[psysml:081fa6ee-8a6f-4292-82c4-f5eb64360f97 ]] \r\n",
       "E8 - -:|> E2 [[psysml:143d7cb3-4d47-41f0-bb56-6d1ae515b029 ]] \r\n",
       "E7 o- - E8 [[psysml:dbdbccdb-5c16-4bd3-a501-4b1c7e9ddcab ]] \r\n",
       "E9 - -:|> E2 [[psysml:cb3e8ea7-f115-4f34-bcd9-dd1e6ba812b8 ]] \r\n",
       "E5 o- - E9 [[psysml:b6df212f-8018-4500-9608-46bc28de5179 ]] \r\n",
       "}\r\n",
       "@enduml\r\n",
       "\n",
       "PlantUML version 1.2020.13(Sat Jun 13 12:26:38 UTC 2020)\n",
       "(EPL source distribution)\n",
       "Java Runtime: OpenJDK Runtime Environment\n",
       "JVM: OpenJDK 64-Bit Server VM\n",
       "Default Encoding: UTF-8\n",
       "Language: en\n",
       "Country: null\n",
       "--></g></svg>"
      ]
     },
     "execution_count": 52,
     "metadata": {},
     "output_type": "execute_result"
    }
   ],
   "source": [
    "%viz --style=\"ORTHOLINE\" --view=\"Tree\" \"TradeStudyTest\""
   ]
  },
  {
   "cell_type": "code",
   "execution_count": 53,
   "id": "prime-setup",
   "metadata": {
    "execution": {
     "iopub.execute_input": "2021-03-25T09:29:34.891400Z",
     "iopub.status.busy": "2021-03-25T09:29:34.890821Z",
     "iopub.status.idle": "2021-03-25T09:29:34.899806Z",
     "shell.execute_reply": "2021-03-25T09:29:34.899268Z"
    }
   },
   "outputs": [
    {
     "data": {
      "image/svg+xml": [
       "<?xml version=\"1.0\" encoding=\"UTF-8\" standalone=\"no\"?><svg xmlns=\"http://www.w3.org/2000/svg\" xmlns:xlink=\"http://www.w3.org/1999/xlink\" contentScriptType=\"application/ecmascript\" contentStyleType=\"text/css\" height=\"12px\" preserveAspectRatio=\"none\" style=\"width:12px;height:12px;\" version=\"1.1\" viewBox=\"0 0 12 12\" width=\"12px\" zoomAndPan=\"magnify\"><defs/><g><!--MD5=[97d6f38768b311333d388e66b2b27985]\n",
       "@startuml\r\n",
       "skinparam linetype ortho\r\n",
       "skinparam monochrome true\r\n",
       "skinparam classbackgroundcolor white\r\n",
       "skinparam shadowing false\r\n",
       "skinparam wrapWidth 300\r\n",
       "hide circle\r\n",
       "\r\n",
       "@enduml\r\n",
       "\n",
       "PlantUML version 1.2020.13(Sat Jun 13 12:26:38 UTC 2020)\n",
       "(EPL source distribution)\n",
       "Java Runtime: OpenJDK Runtime Environment\n",
       "JVM: OpenJDK 64-Bit Server VM\n",
       "Default Encoding: UTF-8\n",
       "Language: en\n",
       "Country: null\n",
       "--></g></svg>"
      ]
     },
     "execution_count": 53,
     "metadata": {},
     "output_type": "execute_result"
    }
   ],
   "source": [
    "%viz --style=\"ORTHOLINE\" --view=\"State\" \"TradeStudyTest\""
   ]
  },
  {
   "cell_type": "code",
   "execution_count": 54,
   "id": "whole-content",
   "metadata": {
    "execution": {
     "iopub.execute_input": "2021-03-25T09:29:34.951221Z",
     "iopub.status.busy": "2021-03-25T09:29:34.950726Z",
     "iopub.status.idle": "2021-03-25T09:29:35.009194Z",
     "shell.execute_reply": "2021-03-25T09:29:35.008820Z"
    }
   },
   "outputs": [
    {
     "data": {
      "image/svg+xml": [
       "<?xml version=\"1.0\" encoding=\"UTF-8\" standalone=\"no\"?><svg xmlns=\"http://www.w3.org/2000/svg\" xmlns:xlink=\"http://www.w3.org/1999/xlink\" contentScriptType=\"application/ecmascript\" contentStyleType=\"text/css\" height=\"112px\" preserveAspectRatio=\"none\" style=\"width:438px;height:112px;\" version=\"1.1\" viewBox=\"0 0 438 112\" width=\"438px\" zoomAndPan=\"magnify\"><defs/><g><!--MD5=[fbc87193dbaf4d95561dea2c320d4a47]\n",
       "cluster E1--><a href=\"psysml:8952aa40-03a2-4df7-81e1-750bf2c7b589\" target=\"_top\" title=\"psysml:8952aa40-03a2-4df7-81e1-750bf2c7b589\" xlink:actuate=\"onRequest\" xlink:href=\"psysml:8952aa40-03a2-4df7-81e1-750bf2c7b589\" xlink:show=\"new\" xlink:title=\"psysml:8952aa40-03a2-4df7-81e1-750bf2c7b589\" xlink:type=\"simple\"><polygon fill=\"#FFFFFF\" points=\"16,6,148,6,155,28.2969,416,28.2969,416,100,16,100,16,6\" style=\"stroke: #000000; stroke-width: 1.5;\"/><line style=\"stroke: #000000; stroke-width: 1.5;\" x1=\"16\" x2=\"155\" y1=\"28.2969\" y2=\"28.2969\"/><text fill=\"#000000\" font-family=\"sans-serif\" font-size=\"14\" font-weight=\"bold\" lengthAdjust=\"spacingAndGlyphs\" textLength=\"126\" x=\"20\" y=\"20.9951\">TradeStudyTest</text></a><g id=\"E1.E2\"><a href=\"psysml:ba5002a0-783d-43b2-abfa-70b37f90804c\" target=\"_top\" title=\"psysml:ba5002a0-783d-43b2-abfa-70b37f90804c\" xlink:actuate=\"onRequest\" xlink:href=\"psysml:ba5002a0-783d-43b2-abfa-70b37f90804c\" xlink:show=\"new\" xlink:title=\"psysml:ba5002a0-783d-43b2-abfa-70b37f90804c\" xlink:type=\"simple\"><rect fill=\"#FFFFFF\" height=\"42.9375\" id=\"E2\" style=\"stroke: #383838; stroke-width: 1.5;\" width=\"71\" x=\"328.5\" y=\"41\"/><rect fill=\"#F8F8F8\" height=\"37.9375\" style=\"stroke: #383838; stroke-width: 1.5;\" width=\"71\" x=\"328.5\" y=\"41\"/><text fill=\"#000000\" font-family=\"sans-serif\" font-size=\"12\" font-style=\"italic\" lengthAdjust=\"spacingAndGlyphs\" textLength=\"64\" x=\"332\" y=\"57.1387\">«part def»</text><text fill=\"#000000\" font-family=\"sans-serif\" font-size=\"12\" lengthAdjust=\"spacingAndGlyphs\" textLength=\"43\" x=\"342.5\" y=\"71.1074\">Engine</text></a></g><g id=\"E1.E3\"><a href=\"psysml:47ce73ab-2c54-4db4-9d19-7bcb338cdf44\" target=\"_top\" title=\"psysml:47ce73ab-2c54-4db4-9d19-7bcb338cdf44\" xlink:actuate=\"onRequest\" xlink:href=\"psysml:47ce73ab-2c54-4db4-9d19-7bcb338cdf44\" xlink:show=\"new\" xlink:title=\"psysml:47ce73ab-2c54-4db4-9d19-7bcb338cdf44\" xlink:type=\"simple\"><rect fill=\"#FFFFFF\" height=\"40\" id=\"E3\" rx=\"10\" ry=\"10\" style=\"stroke: #383838; stroke-width: 1.5;\" width=\"113\" x=\"180.5\" y=\"42.5\"/><rect fill=\"#F8F8F8\" height=\"23.9688\" rx=\"10\" ry=\"10\" style=\"stroke: #F8F8F8; stroke-width: 1.5;\" width=\"113\" x=\"180.5\" y=\"42.5\"/><rect fill=\"#F8F8F8\" height=\"10\" style=\"stroke: #F8F8F8; stroke-width: 1.5;\" width=\"113\" x=\"180.5\" y=\"56.4688\"/><rect fill=\"none\" height=\"40\" id=\"E3\" rx=\"10\" ry=\"10\" style=\"stroke: #383838; stroke-width: 1.5;\" width=\"113\" x=\"180.5\" y=\"42.5\"/><text fill=\"#000000\" font-family=\"sans-serif\" font-size=\"12\" lengthAdjust=\"spacingAndGlyphs\" textLength=\"102\" x=\"186\" y=\"58.6387\">engine1: Engine</text></a></g><g id=\"E1.E4\"><a href=\"psysml:7dfdc806-8438-4ccb-bd71-8b6bdaa69ab8\" target=\"_top\" title=\"psysml:7dfdc806-8438-4ccb-bd71-8b6bdaa69ab8\" xlink:actuate=\"onRequest\" xlink:href=\"psysml:7dfdc806-8438-4ccb-bd71-8b6bdaa69ab8\" xlink:show=\"new\" xlink:title=\"psysml:7dfdc806-8438-4ccb-bd71-8b6bdaa69ab8\" xlink:type=\"simple\"><rect fill=\"#FFFFFF\" height=\"40\" id=\"E4\" rx=\"10\" ry=\"10\" style=\"stroke: #383838; stroke-width: 1.5;\" width=\"113\" x=\"32.5\" y=\"42.5\"/><rect fill=\"#F8F8F8\" height=\"23.9688\" rx=\"10\" ry=\"10\" style=\"stroke: #F8F8F8; stroke-width: 1.5;\" width=\"113\" x=\"32.5\" y=\"42.5\"/><rect fill=\"#F8F8F8\" height=\"10\" style=\"stroke: #F8F8F8; stroke-width: 1.5;\" width=\"113\" x=\"32.5\" y=\"56.4688\"/><rect fill=\"none\" height=\"40\" id=\"E4\" rx=\"10\" ry=\"10\" style=\"stroke: #383838; stroke-width: 1.5;\" width=\"113\" x=\"32.5\" y=\"42.5\"/><text fill=\"#000000\" font-family=\"sans-serif\" font-size=\"12\" lengthAdjust=\"spacingAndGlyphs\" textLength=\"102\" x=\"38\" y=\"58.6387\">engine2: Engine</text></a></g><!--MD5=[a5a8459e554fd038891205e361eae900]\n",
       "@startuml\r\n",
       "skinparam ranksep 8\r\n",
       "skinparam rectangle {\r\n",
       " backgroundColor<<block>> LightGreen\r\n",
       "}\r\n",
       "skinparam linetype ortho\r\n",
       "skinparam monochrome true\r\n",
       "skinparam classbackgroundcolor white\r\n",
       "skinparam shadowing false\r\n",
       "skinparam wrapWidth 300\r\n",
       "hide circle\r\n",
       "\r\n",
       "package \"TradeStudyTest\" as E1  [[psysml:8952aa40-03a2-4df7-81e1-750bf2c7b589 ]]  {\r\n",
       "rec def \"Engine\" as E2  <<(T,blue)part def>> [[psysml:ba5002a0-783d-43b2-abfa-70b37f90804c ]] {\r\n",
       "}\r\n",
       "rec usage \"engine1: Engine\" as E3  [[psysml:47ce73ab-2c54-4db4-9d19-7bcb338cdf44 ]] {\r\n",
       "}\r\n",
       "rec usage \"engine2: Engine\" as E4  [[psysml:7dfdc806-8438-4ccb-bd71-8b6bdaa69ab8 ]] {\r\n",
       "}\r\n",
       "}\r\n",
       "@enduml\r\n",
       "\n",
       "PlantUML version 1.2020.13(Sat Jun 13 12:26:38 UTC 2020)\n",
       "(EPL source distribution)\n",
       "Java Runtime: OpenJDK Runtime Environment\n",
       "JVM: OpenJDK 64-Bit Server VM\n",
       "Default Encoding: UTF-8\n",
       "Language: en\n",
       "Country: null\n",
       "--></g></svg>"
      ]
     },
     "execution_count": 54,
     "metadata": {},
     "output_type": "execute_result"
    }
   ],
   "source": [
    "%viz --style=\"ORTHOLINE\" --view=\"Interconnection\" \"TradeStudyTest\""
   ]
  },
  {
   "cell_type": "code",
   "execution_count": 55,
   "id": "fatal-triangle",
   "metadata": {
    "execution": {
     "iopub.execute_input": "2021-03-25T09:29:35.059786Z",
     "iopub.status.busy": "2021-03-25T09:29:35.059153Z",
     "iopub.status.idle": "2021-03-25T09:29:35.141386Z",
     "shell.execute_reply": "2021-03-25T09:29:35.140871Z"
    }
   },
   "outputs": [
    {
     "data": {
      "image/svg+xml": [
       "<?xml version=\"1.0\" encoding=\"UTF-8\" standalone=\"no\"?><svg xmlns=\"http://www.w3.org/2000/svg\" xmlns:xlink=\"http://www.w3.org/1999/xlink\" contentScriptType=\"application/ecmascript\" contentStyleType=\"text/css\" height=\"128px\" preserveAspectRatio=\"none\" style=\"width:180px;height:128px;\" version=\"1.1\" viewBox=\"0 0 180 128\" width=\"180px\" zoomAndPan=\"magnify\"><defs/><g><!--MD5=[fbc87193dbaf4d95561dea2c320d4a47]\n",
       "cluster E1--><a href=\"psysml:cd38e840-8317-467c-8230-e0f8852492a9\" target=\"_top\" title=\"psysml:cd38e840-8317-467c-8230-e0f8852492a9\" xlink:actuate=\"onRequest\" xlink:href=\"psysml:cd38e840-8317-467c-8230-e0f8852492a9\" xlink:show=\"new\" xlink:title=\"psysml:cd38e840-8317-467c-8230-e0f8852492a9\" xlink:type=\"simple\"><rect fill=\"#FFFFFF\" height=\"110\" id=\"E1\" rx=\"10\" ry=\"10\" style=\"stroke: #383838; stroke-width: 1.5;\" width=\"161\" x=\"7\" y=\"7\"/><rect fill=\"#F8F8F8\" height=\"37.9375\" rx=\"10\" ry=\"10\" style=\"stroke: #F8F8F8; stroke-width: 1.5;\" width=\"161\" x=\"7\" y=\"7\"/><rect fill=\"#F8F8F8\" height=\"10\" style=\"stroke: #F8F8F8; stroke-width: 1.5;\" width=\"161\" x=\"7\" y=\"34.9375\"/><rect fill=\"none\" height=\"110\" id=\"E1\" rx=\"10\" ry=\"10\" style=\"stroke: #383838; stroke-width: 1.5;\" width=\"161\" x=\"7\" y=\"7\"/><text fill=\"#000000\" font-family=\"sans-serif\" font-size=\"12\" font-style=\"italic\" lengthAdjust=\"spacingAndGlyphs\" textLength=\"64\" x=\"55.5\" y=\"23.1387\">«analysis»</text><text fill=\"#000000\" font-family=\"sans-serif\" font-size=\"12\" lengthAdjust=\"spacingAndGlyphs\" textLength=\"114\" x=\"30.5\" y=\"37.1074\">engineTradeStudy</text><line style=\"stroke: #383838; stroke-width: 1.0;\" x1=\"7\" x2=\"168\" y1=\"44.9375\" y2=\"44.9375\"/></a><g id=\"E1.E2\"><a href=\"psysml:081fa6ee-8a6f-4292-82c4-f5eb64360f97\" target=\"_top\" title=\"psysml:081fa6ee-8a6f-4292-82c4-f5eb64360f97\" xlink:actuate=\"onRequest\" xlink:href=\"psysml:081fa6ee-8a6f-4292-82c4-f5eb64360f97\" xlink:show=\"new\" xlink:title=\"psysml:081fa6ee-8a6f-4292-82c4-f5eb64360f97\" xlink:type=\"simple\"><rect fill=\"#FFFFFF\" height=\"42.9375\" id=\"E2\" rx=\"10\" ry=\"10\" style=\"stroke: #383838; stroke-width: 1.5;\" width=\"121\" x=\"26.5\" y=\"58\"/><rect fill=\"#F8F8F8\" height=\"37.9375\" rx=\"10\" ry=\"10\" style=\"stroke: #F8F8F8; stroke-width: 1.5;\" width=\"121\" x=\"26.5\" y=\"58\"/><rect fill=\"#F8F8F8\" height=\"10\" style=\"stroke: #F8F8F8; stroke-width: 1.5;\" width=\"121\" x=\"26.5\" y=\"85.9375\"/><rect fill=\"none\" height=\"42.9375\" id=\"E2\" rx=\"10\" ry=\"10\" style=\"stroke: #383838; stroke-width: 1.5;\" width=\"121\" x=\"26.5\" y=\"58\"/><text fill=\"#000000\" font-family=\"sans-serif\" font-size=\"12\" font-style=\"italic\" lengthAdjust=\"spacingAndGlyphs\" textLength=\"82\" x=\"46\" y=\"74.1387\">«calculation»</text><text fill=\"#000000\" font-family=\"sans-serif\" font-size=\"12\" lengthAdjust=\"spacingAndGlyphs\" textLength=\"110\" x=\"32\" y=\"88.1074\">objectiveFunction</text></a></g><!--MD5=[44d99f0237da50aa8493aa7ce9cdeb13]\n",
       "@startuml\r\n",
       "skinparam ranksep 8\r\n",
       "skinparam linetype ortho\r\n",
       "skinparam monochrome true\r\n",
       "skinparam classbackgroundcolor white\r\n",
       "skinparam shadowing false\r\n",
       "skinparam wrapWidth 300\r\n",
       "hide circle\r\n",
       "\r\n",
       "rec usage \"engineTradeStudy\" as E1 <<analysis>> [[psysml:cd38e840-8317-467c-8230-e0f8852492a9 ]] {\r\n",
       "rec usage \"objectiveFunction\" as E2  <<(T,blue)calculation>> [[psysml:081fa6ee-8a6f-4292-82c4-f5eb64360f97 ]] {\r\n",
       "}\r\n",
       "\r\n",
       "}\r\n",
       "\r\n",
       "@enduml\r\n",
       "\n",
       "PlantUML version 1.2020.13(Sat Jun 13 12:26:38 UTC 2020)\n",
       "(EPL source distribution)\n",
       "Java Runtime: OpenJDK Runtime Environment\n",
       "JVM: OpenJDK 64-Bit Server VM\n",
       "Default Encoding: UTF-8\n",
       "Language: en\n",
       "Country: null\n",
       "--></g></svg>"
      ]
     },
     "execution_count": 55,
     "metadata": {},
     "output_type": "execute_result"
    }
   ],
   "source": [
    "%viz --style=\"ORTHOLINE\" --view=\"Action\" \"TradeStudyTest\""
   ]
  },
  {
   "cell_type": "code",
   "execution_count": 56,
   "id": "different-civilization",
   "metadata": {
    "execution": {
     "iopub.execute_input": "2021-03-25T09:29:35.194213Z",
     "iopub.status.busy": "2021-03-25T09:29:35.193508Z",
     "iopub.status.idle": "2021-03-25T09:29:35.497573Z",
     "shell.execute_reply": "2021-03-25T09:29:35.497948Z"
    }
   },
   "outputs": [
    {
     "data": {
      "image/svg+xml": [
       "<?xml version=\"1.0\" encoding=\"UTF-8\" standalone=\"no\"?><svg xmlns=\"http://www.w3.org/2000/svg\" xmlns:xlink=\"http://www.w3.org/1999/xlink\" contentScriptType=\"application/ecmascript\" contentStyleType=\"text/css\" height=\"527px\" preserveAspectRatio=\"none\" style=\"width:554px;height:527px;\" version=\"1.1\" viewBox=\"0 0 554 527\" width=\"554px\" zoomAndPan=\"magnify\"><defs/><g><!--MD5=[fbc87193dbaf4d95561dea2c320d4a47]\n",
       "cluster E1--><a href=\"psysml:8952aa40-03a2-4df7-81e1-750bf2c7b589\" target=\"_top\" title=\"psysml:8952aa40-03a2-4df7-81e1-750bf2c7b589\" xlink:actuate=\"onRequest\" xlink:href=\"psysml:8952aa40-03a2-4df7-81e1-750bf2c7b589\" xlink:show=\"new\" xlink:title=\"psysml:8952aa40-03a2-4df7-81e1-750bf2c7b589\" xlink:type=\"simple\"><polygon fill=\"#FFFFFF\" points=\"16,6,148,6,155,28.2969,532,28.2969,532,515,16,515,16,6\" style=\"stroke: #000000; stroke-width: 1.5;\"/><line style=\"stroke: #000000; stroke-width: 1.5;\" x1=\"16\" x2=\"155\" y1=\"28.2969\" y2=\"28.2969\"/><text fill=\"#000000\" font-family=\"sans-serif\" font-size=\"14\" font-weight=\"bold\" lengthAdjust=\"spacingAndGlyphs\" textLength=\"126\" x=\"20\" y=\"20.9951\">TradeStudyTest</text></a><!--MD5=[b4997ac47864f28c2f74865a473b2911]\n",
       "class E2--><a href=\"psysml:ba5002a0-783d-43b2-abfa-70b37f90804c\" target=\"_top\" title=\"psysml:ba5002a0-783d-43b2-abfa-70b37f90804c\" xlink:actuate=\"onRequest\" xlink:href=\"psysml:ba5002a0-783d-43b2-abfa-70b37f90804c\" xlink:show=\"new\" xlink:title=\"psysml:ba5002a0-783d-43b2-abfa-70b37f90804c\" xlink:type=\"simple\"><rect fill=\"#FFFFFF\" height=\"45.9375\" id=\"E2\" style=\"stroke: #383838; stroke-width: 1.5;\" width=\"66\" x=\"196\" y=\"453\"/><text fill=\"#000000\" font-family=\"sans-serif\" font-size=\"12\" font-style=\"italic\" lengthAdjust=\"spacingAndGlyphs\" textLength=\"64\" x=\"197\" y=\"469.1387\">«part def»</text><text fill=\"#000000\" font-family=\"sans-serif\" font-size=\"12\" lengthAdjust=\"spacingAndGlyphs\" textLength=\"43\" x=\"207.5\" y=\"483.1074\">Engine</text><line style=\"stroke: #383838; stroke-width: 1.5;\" x1=\"197\" x2=\"261\" y1=\"490.9375\" y2=\"490.9375\"/></a><!--MD5=[09b614a08d8cba4a07c9adeb5e0fee81]\n",
       "class E3--><a href=\"psysml:47ce73ab-2c54-4db4-9d19-7bcb338cdf44\" target=\"_top\" title=\"psysml:47ce73ab-2c54-4db4-9d19-7bcb338cdf44\" xlink:actuate=\"onRequest\" xlink:href=\"psysml:47ce73ab-2c54-4db4-9d19-7bcb338cdf44\" xlink:show=\"new\" xlink:title=\"psysml:47ce73ab-2c54-4db4-9d19-7bcb338cdf44\" xlink:type=\"simple\"><rect fill=\"#FFFFFF\" height=\"45.9375\" id=\"E3\" rx=\"10\" ry=\"10\" style=\"stroke: #383838; stroke-width: 1.5;\" width=\"108\" x=\"408\" y=\"346\"/><text fill=\"#000000\" font-family=\"sans-serif\" font-size=\"12\" font-style=\"italic\" lengthAdjust=\"spacingAndGlyphs\" textLength=\"40\" x=\"442\" y=\"362.1387\">«part»</text><text fill=\"#000000\" font-family=\"sans-serif\" font-size=\"12\" lengthAdjust=\"spacingAndGlyphs\" textLength=\"102\" x=\"411\" y=\"376.1074\">engine1: Engine</text><line style=\"stroke: #383838; stroke-width: 1.5;\" x1=\"409\" x2=\"515\" y1=\"383.9375\" y2=\"383.9375\"/></a><!--MD5=[ebbe1d658d1005bcc118a6aa81145e00]\n",
       "class E4--><a href=\"psysml:7dfdc806-8438-4ccb-bd71-8b6bdaa69ab8\" target=\"_top\" title=\"psysml:7dfdc806-8438-4ccb-bd71-8b6bdaa69ab8\" xlink:actuate=\"onRequest\" xlink:href=\"psysml:7dfdc806-8438-4ccb-bd71-8b6bdaa69ab8\" xlink:show=\"new\" xlink:title=\"psysml:7dfdc806-8438-4ccb-bd71-8b6bdaa69ab8\" xlink:type=\"simple\"><rect fill=\"#FFFFFF\" height=\"45.9375\" id=\"E4\" rx=\"10\" ry=\"10\" style=\"stroke: #383838; stroke-width: 1.5;\" width=\"108\" x=\"265\" y=\"346\"/><text fill=\"#000000\" font-family=\"sans-serif\" font-size=\"12\" font-style=\"italic\" lengthAdjust=\"spacingAndGlyphs\" textLength=\"40\" x=\"299\" y=\"362.1387\">«part»</text><text fill=\"#000000\" font-family=\"sans-serif\" font-size=\"12\" lengthAdjust=\"spacingAndGlyphs\" textLength=\"102\" x=\"268\" y=\"376.1074\">engine2: Engine</text><line style=\"stroke: #383838; stroke-width: 1.5;\" x1=\"266\" x2=\"372\" y1=\"383.9375\" y2=\"383.9375\"/></a><!--MD5=[270fce915f116d4de14055a7c1d9a0f3]\n",
       "class E5--><a href=\"psysml:cd38e840-8317-467c-8230-e0f8852492a9\" target=\"_top\" title=\"psysml:cd38e840-8317-467c-8230-e0f8852492a9\" xlink:actuate=\"onRequest\" xlink:href=\"psysml:cd38e840-8317-467c-8230-e0f8852492a9\" xlink:show=\"new\" xlink:title=\"psysml:cd38e840-8317-467c-8230-e0f8852492a9\" xlink:type=\"simple\"><rect fill=\"#FFFFFF\" height=\"45.9375\" id=\"E5\" rx=\"10\" ry=\"10\" style=\"stroke: #383838; stroke-width: 1.5;\" width=\"199\" x=\"237.5\" y=\"41\"/><text fill=\"#000000\" font-family=\"sans-serif\" font-size=\"12\" font-style=\"italic\" lengthAdjust=\"spacingAndGlyphs\" textLength=\"64\" x=\"305\" y=\"57.1387\">«analysis»</text><text fill=\"#000000\" font-family=\"sans-serif\" font-size=\"12\" lengthAdjust=\"spacingAndGlyphs\" textLength=\"193\" x=\"240.5\" y=\"71.1074\">engineTradeStudy: TradeStudy</text><line style=\"stroke: #383838; stroke-width: 1.5;\" x1=\"238.5\" x2=\"435.5\" y1=\"78.9375\" y2=\"78.9375\"/></a><!--MD5=[60a26617385b1d2d0262a64233df1f8d]\n",
       "class E6--><a href=\"psysml:bf1db205-ea64-42b3-a829-2093a93eb81c\" target=\"_top\" title=\"psysml:bf1db205-ea64-42b3-a829-2093a93eb81c\" xlink:actuate=\"onRequest\" xlink:href=\"psysml:bf1db205-ea64-42b3-a829-2093a93eb81c\" xlink:show=\"new\" xlink:title=\"psysml:bf1db205-ea64-42b3-a829-2093a93eb81c\" xlink:type=\"simple\"><rect fill=\"#FFFFFF\" height=\"45.9375\" id=\"E6\" rx=\"10\" ry=\"10\" style=\"stroke: #383838; stroke-width: 1.5;\" width=\"251\" x=\"76.5\" y=\"179\"/><text fill=\"#000000\" font-family=\"sans-serif\" font-size=\"12\" font-style=\"italic\" lengthAdjust=\"spacingAndGlyphs\" textLength=\"91\" x=\"156.5\" y=\"195.1387\">«requirement»</text><text fill=\"#000000\" font-family=\"sans-serif\" font-size=\"12\" lengthAdjust=\"spacingAndGlyphs\" textLength=\"245\" x=\"79.5\" y=\"209.1074\">tradeStudyObjective: MaximizeObjective</text><line style=\"stroke: #383838; stroke-width: 1.5;\" x1=\"77.5\" x2=\"326.5\" y1=\"216.9375\" y2=\"216.9375\"/></a><!--MD5=[2156ba9850f5573cc1fc38a6a4b2f02b]\n",
       "class E7--><a href=\"psysml:081fa6ee-8a6f-4292-82c4-f5eb64360f97\" target=\"_top\" title=\"psysml:081fa6ee-8a6f-4292-82c4-f5eb64360f97\" xlink:actuate=\"onRequest\" xlink:href=\"psysml:081fa6ee-8a6f-4292-82c4-f5eb64360f97\" xlink:show=\"new\" xlink:title=\"psysml:081fa6ee-8a6f-4292-82c4-f5eb64360f97\" xlink:type=\"simple\"><rect fill=\"#FFFFFF\" height=\"75.5469\" id=\"E7\" rx=\"10\" ry=\"10\" style=\"stroke: #383838; stroke-width: 1.5;\" width=\"116\" x=\"363\" y=\"164\"/><text fill=\"#000000\" font-family=\"sans-serif\" font-size=\"12\" font-style=\"italic\" lengthAdjust=\"spacingAndGlyphs\" textLength=\"82\" x=\"380\" y=\"180.1387\">«calculation»</text><text fill=\"#000000\" font-family=\"sans-serif\" font-size=\"12\" lengthAdjust=\"spacingAndGlyphs\" textLength=\"110\" x=\"366\" y=\"194.1074\">objectiveFunction</text><line style=\"stroke: #383838; stroke-width: 1.5;\" x1=\"364\" x2=\"478\" y1=\"201.9375\" y2=\"201.9375\"/><text fill=\"#000000\" font-family=\"sans-serif\" font-size=\"11\" lengthAdjust=\"spacingAndGlyphs\" textLength=\"65\" x=\"369\" y=\"232.9526\">result: Real</text><line style=\"stroke: #383838; stroke-width: 1.0;\" x1=\"364\" x2=\"393.5\" y1=\"216.3398\" y2=\"216.3398\"/><text fill=\"#000000\" font-family=\"sans-serif\" font-size=\"11\" lengthAdjust=\"spacingAndGlyphs\" textLength=\"55\" x=\"393.5\" y=\"219.6479\">attributes</text><line style=\"stroke: #383838; stroke-width: 1.0;\" x1=\"448.5\" x2=\"478\" y1=\"216.3398\" y2=\"216.3398\"/></a><!--MD5=[b9389687b975829384b498ac4b7476b2]\n",
       "class E8--><a href=\"psysml:dbdbccdb-5c16-4bd3-a501-4b1c7e9ddcab\" target=\"_top\" title=\"psysml:dbdbccdb-5c16-4bd3-a501-4b1c7e9ddcab\" xlink:actuate=\"onRequest\" xlink:href=\"psysml:dbdbccdb-5c16-4bd3-a501-4b1c7e9ddcab\" xlink:show=\"new\" xlink:title=\"psysml:dbdbccdb-5c16-4bd3-a501-4b1c7e9ddcab\" xlink:type=\"simple\"><rect fill=\"#FFFFFF\" height=\"45.9375\" id=\"E8\" rx=\"10\" ry=\"10\" style=\"stroke: #383838; stroke-width: 1.5;\" width=\"124\" x=\"69\" y=\"346\"/><text fill=\"#000000\" font-family=\"sans-serif\" font-size=\"12\" font-style=\"italic\" lengthAdjust=\"spacingAndGlyphs\" textLength=\"40\" x=\"111\" y=\"362.1387\">«part»</text><text fill=\"#000000\" font-family=\"sans-serif\" font-size=\"12\" lengthAdjust=\"spacingAndGlyphs\" textLength=\"118\" x=\"72\" y=\"376.1074\">alternative: Engine</text><line style=\"stroke: #383838; stroke-width: 1.5;\" x1=\"70\" x2=\"192\" y1=\"383.9375\" y2=\"383.9375\"/></a><!--MD5=[fd4143e9d270a159db93a4ea2a975926]\n",
       "class E9--><a href=\"psysml:b6df212f-8018-4500-9608-46bc28de5179\" target=\"_top\" title=\"psysml:b6df212f-8018-4500-9608-46bc28de5179\" xlink:actuate=\"onRequest\" xlink:href=\"psysml:b6df212f-8018-4500-9608-46bc28de5179\" xlink:show=\"new\" xlink:title=\"psysml:b6df212f-8018-4500-9608-46bc28de5179\" xlink:type=\"simple\"><rect fill=\"#FFFFFF\" height=\"45.9375\" id=\"E9\" rx=\"10\" ry=\"10\" style=\"stroke: #383838; stroke-width: 1.5;\" width=\"178\" x=\"289\" y=\"270\"/><text fill=\"#000000\" font-family=\"sans-serif\" font-size=\"12\" font-style=\"italic\" lengthAdjust=\"spacingAndGlyphs\" textLength=\"40\" x=\"358\" y=\"286.1387\">«part»</text><text fill=\"#000000\" font-family=\"sans-serif\" font-size=\"12\" lengthAdjust=\"spacingAndGlyphs\" textLength=\"172\" x=\"292\" y=\"300.1074\">selectedAlternative: Engine</text><line style=\"stroke: #383838; stroke-width: 1.5;\" x1=\"290\" x2=\"466\" y1=\"307.9375\" y2=\"307.9375\"/></a><!--MD5=[05d275557350bfb9b23a4ef7222b4c39]\n",
       "link E3 to E2--><a href=\"psysml:6a611645-87b6-456f-b99f-fe1a3075932c\" target=\"_top\" title=\"psysml:6a611645-87b6-456f-b99f-fe1a3075932c\" xlink:actuate=\"onRequest\" xlink:href=\"psysml:6a611645-87b6-456f-b99f-fe1a3075932c\" xlink:show=\"new\" xlink:title=\"psysml:6a611645-87b6-456f-b99f-fe1a3075932c\" xlink:type=\"simple\"><path d=\"M462,392.22 C462,423.69 462,476 462,476 C462,476 282.38,476 282.38,476 \" fill=\"none\" id=\"E3-&gt;E2\" style=\"stroke: #383838; stroke-width: 1.0;\"/><polygon fill=\"#FFFFFF\" points=\"262.38,476,281.38,469,281.38,483,262.38,476\" style=\"stroke: #383838; stroke-width: 1.0;\"/><ellipse cx=\"287.08\" cy=\"471\" fill=\"#383838\" rx=\"2\" ry=\"2\" style=\"stroke: #383838; stroke-width: 1.0;\"/><ellipse cx=\"287.08\" cy=\"481\" fill=\"#383838\" rx=\"2\" ry=\"2\" style=\"stroke: #383838; stroke-width: 1.0;\"/></a><!--MD5=[185131fc0dcab0a4505a2ebe144e961b]\n",
       "link E4 to E2--><a href=\"psysml:c8f697e8-ebd5-44e8-8041-765052aa0dda\" target=\"_top\" title=\"psysml:c8f697e8-ebd5-44e8-8041-765052aa0dda\" xlink:actuate=\"onRequest\" xlink:href=\"psysml:c8f697e8-ebd5-44e8-8041-765052aa0dda\" xlink:show=\"new\" xlink:title=\"psysml:c8f697e8-ebd5-44e8-8041-765052aa0dda\" xlink:type=\"simple\"><path d=\"M264.73,377 C255.49,377 248.8,377 248.8,377 C248.8,377 248.8,432.79 248.8,432.79 \" fill=\"none\" id=\"E4-&gt;E2\" style=\"stroke: #383838; stroke-width: 1.0;\"/><polygon fill=\"#FFFFFF\" points=\"248.8,452.79,241.8,433.79,255.8,433.79,248.8,452.79\" style=\"stroke: #383838; stroke-width: 1.0;\"/><ellipse cx=\"243.8\" cy=\"428.09\" fill=\"#383838\" rx=\"2\" ry=\"2\" style=\"stroke: #383838; stroke-width: 1.0;\"/><ellipse cx=\"253.8\" cy=\"428.09\" fill=\"#383838\" rx=\"2\" ry=\"2\" style=\"stroke: #383838; stroke-width: 1.0;\"/></a><!--MD5=[15ebcb19ae302d9b601edb458606d402]\n",
       "link E5 to E2--><a href=\"psysml:2f46211a-dc33-450b-96f1-34c5430f413d\" target=\"_top\" title=\"psysml:2f46211a-dc33-450b-96f1-34c5430f413d\" xlink:actuate=\"onRequest\" xlink:href=\"psysml:2f46211a-dc33-450b-96f1-34c5430f413d\" xlink:show=\"new\" xlink:title=\"psysml:2f46211a-dc33-450b-96f1-34c5430f413d\" xlink:type=\"simple\"><path d=\"M339.33,87.06 C339.33,133.74 339.33,235 339.33,235 C339.33,235 222.4,235 222.4,235 C222.4,235 222.4,447.89 222.4,447.89 \" fill=\"none\" id=\"E5-&gt;E2\" style=\"stroke: #383838; stroke-width: 1.0; stroke-dasharray: 7.0,7.0;\"/><polygon fill=\"#383838\" points=\"222.4,452.89,226.4,443.89,222.4,447.89,218.4,443.89,222.4,452.89\" style=\"stroke: #383838; stroke-width: 1.0;\"/><text fill=\"#000000\" font-family=\"sans-serif\" font-size=\"13\" lengthAdjust=\"spacingAndGlyphs\" textLength=\"62\" x=\"68\" y=\"297.5669\">«subject»</text></a><!--MD5=[9120cf2e5df3bff93db8f754bbbc09b4]\n",
       "link E5 to E6--><a href=\"psysml:285bfc51-142a-40f2-bdf1-cdd7141b9b55\" target=\"_top\" title=\"psysml:285bfc51-142a-40f2-bdf1-cdd7141b9b55\" xlink:actuate=\"onRequest\" xlink:href=\"psysml:285bfc51-142a-40f2-bdf1-cdd7141b9b55\" xlink:show=\"new\" xlink:title=\"psysml:285bfc51-142a-40f2-bdf1-cdd7141b9b55\" xlink:type=\"simple\"><path d=\"M282.5,87.1 C282.5,87.1 282.5,170.83 282.5,170.83 \" fill=\"none\" id=\"E5-&gt;E6\" style=\"stroke: #383838; stroke-width: 1.0;\"/><polygon fill=\"#383838\" points=\"282.5,178.83,285.5,170.83,279.5,170.83,282.5,178.83\" style=\"stroke: #383838; stroke-width: 1.0;\"/><text fill=\"#000000\" font-family=\"sans-serif\" font-size=\"13\" lengthAdjust=\"spacingAndGlyphs\" textLength=\"73\" x=\"231\" y=\"130.0669\">«objective»</text></a><!--MD5=[452b418e7f8a40397a49b8c0a78acc5b]\n",
       "reverse link E5 to E7--><a href=\"psysml:081fa6ee-8a6f-4292-82c4-f5eb64360f97\" target=\"_top\" title=\"psysml:081fa6ee-8a6f-4292-82c4-f5eb64360f97\" xlink:actuate=\"onRequest\" xlink:href=\"psysml:081fa6ee-8a6f-4292-82c4-f5eb64360f97\" xlink:show=\"new\" xlink:title=\"psysml:081fa6ee-8a6f-4292-82c4-f5eb64360f97\" xlink:type=\"simple\"><path d=\"M399.75,100.1 C399.75,100.1 399.75,163.96 399.75,163.96 \" fill=\"none\" id=\"E5&lt;-E7\" style=\"stroke: #383838; stroke-width: 1.0;\"/><polygon fill=\"#383838\" points=\"399.75,87.1,395.75,93.1,399.75,99.1,403.75,93.1,399.75,87.1\" style=\"stroke: #383838; stroke-width: 1.0;\"/></a><!--MD5=[f1f3f9f2fc535e6147756cb86a7f2e32]\n",
       "link E8 to E2--><a href=\"psysml:143d7cb3-4d47-41f0-bb56-6d1ae515b029\" target=\"_top\" title=\"psysml:143d7cb3-4d47-41f0-bb56-6d1ae515b029\" xlink:actuate=\"onRequest\" xlink:href=\"psysml:143d7cb3-4d47-41f0-bb56-6d1ae515b029\" xlink:show=\"new\" xlink:title=\"psysml:143d7cb3-4d47-41f0-bb56-6d1ae515b029\" xlink:type=\"simple\"><path d=\"M193.38,362 C202.67,362 209.2,362 209.2,362 C209.2,362 209.2,432.93 209.2,432.93 \" fill=\"none\" id=\"E8-&gt;E2\" style=\"stroke: #383838; stroke-width: 1.0;\"/><polygon fill=\"#FFFFFF\" points=\"209.2,452.93,202.2,433.93,216.2,433.93,209.2,452.93\" style=\"stroke: #383838; stroke-width: 1.0;\"/><ellipse cx=\"204.2\" cy=\"428.23\" fill=\"#383838\" rx=\"2\" ry=\"2\" style=\"stroke: #383838; stroke-width: 1.0;\"/><ellipse cx=\"214.2\" cy=\"428.23\" fill=\"#383838\" rx=\"2\" ry=\"2\" style=\"stroke: #383838; stroke-width: 1.0;\"/></a><!--MD5=[dc164f5e8a733ab456ef1add180e9e34]\n",
       "reverse link E7 to E8--><a href=\"psysml:dbdbccdb-5c16-4bd3-a501-4b1c7e9ddcab\" target=\"_top\" title=\"psysml:dbdbccdb-5c16-4bd3-a501-4b1c7e9ddcab\" xlink:actuate=\"onRequest\" xlink:href=\"psysml:dbdbccdb-5c16-4bd3-a501-4b1c7e9ddcab\" xlink:show=\"new\" xlink:title=\"psysml:dbdbccdb-5c16-4bd3-a501-4b1c7e9ddcab\" xlink:type=\"simple\"><path d=\"M349.73,230 C349.73,230 134.75,230 134.75,230 C134.75,230 134.75,306.16 134.75,345.73 \" fill=\"none\" id=\"E7&lt;-E8\" style=\"stroke: #383838; stroke-width: 1.0;\"/><polygon fill=\"#FFFFFF\" points=\"362.73,230,356.73,226,350.73,230,356.73,234,362.73,230\" style=\"stroke: #383838; stroke-width: 1.0;\"/></a><!--MD5=[5c3bb36fe832a92c7f0e1807dd65209d]\n",
       "link E9 to E2--><a href=\"psysml:cb3e8ea7-f115-4f34-bcd9-dd1e6ba812b8\" target=\"_top\" title=\"psysml:cb3e8ea7-f115-4f34-bcd9-dd1e6ba812b8\" xlink:actuate=\"onRequest\" xlink:href=\"psysml:cb3e8ea7-f115-4f34-bcd9-dd1e6ba812b8\" xlink:show=\"new\" xlink:title=\"psysml:cb3e8ea7-f115-4f34-bcd9-dd1e6ba812b8\" xlink:type=\"simple\"><path d=\"M288.62,293 C260.01,293 235.6,293 235.6,293 C235.6,293 235.6,432.82 235.6,432.82 \" fill=\"none\" id=\"E9-&gt;E2\" style=\"stroke: #383838; stroke-width: 1.0;\"/><polygon fill=\"#FFFFFF\" points=\"235.6,452.82,228.6,433.82,242.6,433.82,235.6,452.82\" style=\"stroke: #383838; stroke-width: 1.0;\"/><ellipse cx=\"230.6\" cy=\"428.12\" fill=\"#383838\" rx=\"2\" ry=\"2\" style=\"stroke: #383838; stroke-width: 1.0;\"/><ellipse cx=\"240.6\" cy=\"428.12\" fill=\"#383838\" rx=\"2\" ry=\"2\" style=\"stroke: #383838; stroke-width: 1.0;\"/></a><!--MD5=[9ae28de373ca99bb8a1b38d63370ca7e]\n",
       "reverse link E5 to E9--><a href=\"psysml:b6df212f-8018-4500-9608-46bc28de5179\" target=\"_top\" title=\"psysml:b6df212f-8018-4500-9608-46bc28de5179\" xlink:actuate=\"onRequest\" xlink:href=\"psysml:b6df212f-8018-4500-9608-46bc28de5179\" xlink:show=\"new\" xlink:title=\"psysml:b6df212f-8018-4500-9608-46bc28de5179\" xlink:type=\"simple\"><path d=\"M351.17,100.22 C351.17,100.22 351.17,269.72 351.17,269.72 \" fill=\"none\" id=\"E5&lt;-E9\" style=\"stroke: #383838; stroke-width: 1.0;\"/><polygon fill=\"#FFFFFF\" points=\"351.17,87.22,347.17,93.22,351.17,99.22,355.17,93.22,351.17,87.22\" style=\"stroke: #383838; stroke-width: 1.0;\"/></a><!--MD5=[f6da11e2abfc9525a1aa17eeed705711]\n",
       "@startuml\r\n",
       "skinparam linetype ortho\r\n",
       "skinparam monochrome true\r\n",
       "skinparam classbackgroundcolor white\r\n",
       "skinparam shadowing false\r\n",
       "skinparam wrapWidth 300\r\n",
       "hide circle\r\n",
       "\r\n",
       "package \"TradeStudyTest\" as E1  [[psysml:8952aa40-03a2-4df7-81e1-750bf2c7b589 ]]  {\r\n",
       "comp def \"Engine\" as E2  <<(T,blue)part def>> [[psysml:ba5002a0-783d-43b2-abfa-70b37f90804c ]] {\r\n",
       "}\r\n",
       "comp usage \"engine1: Engine\" as E3  <<(T,blue)part>> [[psysml:47ce73ab-2c54-4db4-9d19-7bcb338cdf44 ]] {\r\n",
       "}\r\n",
       "comp usage \"engine2: Engine\" as E4  <<(T,blue)part>> [[psysml:7dfdc806-8438-4ccb-bd71-8b6bdaa69ab8 ]] {\r\n",
       "}\r\n",
       "comp usage \"engineTradeStudy: TradeStudy\" as E5 <<analysis>> [[psysml:cd38e840-8317-467c-8230-e0f8852492a9 ]] {\r\n",
       "}\r\n",
       "comp usage \"tradeStudyObjective: MaximizeObjective\" as E6  <<(T,blue)requirement>> [[psysml:bf1db205-ea64-42b3-a829-2093a93eb81c ]] {\r\n",
       "}\r\n",
       "comp usage \"objectiveFunction\" as E7  <<(T,blue)calculation>> [[psysml:081fa6ee-8a6f-4292-82c4-f5eb64360f97 ]] {\r\n",
       "- - attributes - -\r\n",
       "result: Real\r\n",
       "}\r\n",
       "comp usage \"alternative: Engine\" as E8  <<(T,blue)part>> [[psysml:dbdbccdb-5c16-4bd3-a501-4b1c7e9ddcab ]] {\r\n",
       "}\r\n",
       "comp usage \"selectedAlternative: Engine\" as E9  <<(T,blue)part>> [[psysml:b6df212f-8018-4500-9608-46bc28de5179 ]] {\r\n",
       "}\r\n",
       "E3 - -:|> E2 [[psysml:6a611645-87b6-456f-b99f-fe1a3075932c ]] \r\n",
       "E4 - -:|> E2 [[psysml:c8f697e8-ebd5-44e8-8041-765052aa0dda ]] \r\n",
       "E5 ..> E2 [[psysml:2f46211a-dc33-450b-96f1-34c5430f413d ]] : <<subject>>\r\n",
       "E5 - ->> E6 [[psysml:285bfc51-142a-40f2-bdf1-cdd7141b9b55 ]] : <<objective>>\r\n",
       "E5 *- - E7 [[psysml:081fa6ee-8a6f-4292-82c4-f5eb64360f97 ]] \r\n",
       "E8 - -:|> E2 [[psysml:143d7cb3-4d47-41f0-bb56-6d1ae515b029 ]] \r\n",
       "E7 o- - E8 [[psysml:dbdbccdb-5c16-4bd3-a501-4b1c7e9ddcab ]] \r\n",
       "E9 - -:|> E2 [[psysml:cb3e8ea7-f115-4f34-bcd9-dd1e6ba812b8 ]] \r\n",
       "E5 o- - E9 [[psysml:b6df212f-8018-4500-9608-46bc28de5179 ]] \r\n",
       "}\r\n",
       "@enduml\r\n",
       "\n",
       "PlantUML version 1.2020.13(Sat Jun 13 12:26:38 UTC 2020)\n",
       "(EPL source distribution)\n",
       "Java Runtime: OpenJDK Runtime Environment\n",
       "JVM: OpenJDK 64-Bit Server VM\n",
       "Default Encoding: UTF-8\n",
       "Language: en\n",
       "Country: null\n",
       "--></g></svg>"
      ]
     },
     "execution_count": 56,
     "metadata": {},
     "output_type": "execute_result"
    }
   ],
   "source": [
    "%viz --style=\"ORTHOLINE\" --view=\"Sequence\" \"TradeStudyTest\""
   ]
  },
  {
   "cell_type": "code",
   "execution_count": 57,
   "id": "structural-alfred",
   "metadata": {
    "execution": {
     "iopub.execute_input": "2021-03-25T09:29:35.549786Z",
     "iopub.status.busy": "2021-03-25T09:29:35.549414Z",
     "iopub.status.idle": "2021-03-25T09:29:35.856476Z",
     "shell.execute_reply": "2021-03-25T09:29:35.854877Z"
    }
   },
   "outputs": [
    {
     "data": {
      "image/svg+xml": [
       "<?xml version=\"1.0\" encoding=\"UTF-8\" standalone=\"no\"?><svg xmlns=\"http://www.w3.org/2000/svg\" xmlns:xlink=\"http://www.w3.org/1999/xlink\" contentScriptType=\"application/ecmascript\" contentStyleType=\"text/css\" height=\"527px\" preserveAspectRatio=\"none\" style=\"width:554px;height:527px;\" version=\"1.1\" viewBox=\"0 0 554 527\" width=\"554px\" zoomAndPan=\"magnify\"><defs/><g><!--MD5=[fbc87193dbaf4d95561dea2c320d4a47]\n",
       "cluster E1--><a href=\"psysml:8952aa40-03a2-4df7-81e1-750bf2c7b589\" target=\"_top\" title=\"psysml:8952aa40-03a2-4df7-81e1-750bf2c7b589\" xlink:actuate=\"onRequest\" xlink:href=\"psysml:8952aa40-03a2-4df7-81e1-750bf2c7b589\" xlink:show=\"new\" xlink:title=\"psysml:8952aa40-03a2-4df7-81e1-750bf2c7b589\" xlink:type=\"simple\"><polygon fill=\"#FFFFFF\" points=\"16,6,148,6,155,28.2969,532,28.2969,532,515,16,515,16,6\" style=\"stroke: #000000; stroke-width: 1.5;\"/><line style=\"stroke: #000000; stroke-width: 1.5;\" x1=\"16\" x2=\"155\" y1=\"28.2969\" y2=\"28.2969\"/><text fill=\"#000000\" font-family=\"sans-serif\" font-size=\"14\" font-weight=\"bold\" lengthAdjust=\"spacingAndGlyphs\" textLength=\"126\" x=\"20\" y=\"20.9951\">TradeStudyTest</text></a><!--MD5=[b4997ac47864f28c2f74865a473b2911]\n",
       "class E2--><a href=\"psysml:ba5002a0-783d-43b2-abfa-70b37f90804c\" target=\"_top\" title=\"psysml:ba5002a0-783d-43b2-abfa-70b37f90804c\" xlink:actuate=\"onRequest\" xlink:href=\"psysml:ba5002a0-783d-43b2-abfa-70b37f90804c\" xlink:show=\"new\" xlink:title=\"psysml:ba5002a0-783d-43b2-abfa-70b37f90804c\" xlink:type=\"simple\"><rect fill=\"#FFFFFF\" height=\"45.9375\" id=\"E2\" style=\"stroke: #383838; stroke-width: 1.5;\" width=\"66\" x=\"196\" y=\"453\"/><text fill=\"#000000\" font-family=\"sans-serif\" font-size=\"12\" font-style=\"italic\" lengthAdjust=\"spacingAndGlyphs\" textLength=\"64\" x=\"197\" y=\"469.1387\">«part def»</text><text fill=\"#000000\" font-family=\"sans-serif\" font-size=\"12\" lengthAdjust=\"spacingAndGlyphs\" textLength=\"43\" x=\"207.5\" y=\"483.1074\">Engine</text><line style=\"stroke: #383838; stroke-width: 1.5;\" x1=\"197\" x2=\"261\" y1=\"490.9375\" y2=\"490.9375\"/></a><!--MD5=[09b614a08d8cba4a07c9adeb5e0fee81]\n",
       "class E3--><a href=\"psysml:47ce73ab-2c54-4db4-9d19-7bcb338cdf44\" target=\"_top\" title=\"psysml:47ce73ab-2c54-4db4-9d19-7bcb338cdf44\" xlink:actuate=\"onRequest\" xlink:href=\"psysml:47ce73ab-2c54-4db4-9d19-7bcb338cdf44\" xlink:show=\"new\" xlink:title=\"psysml:47ce73ab-2c54-4db4-9d19-7bcb338cdf44\" xlink:type=\"simple\"><rect fill=\"#FFFFFF\" height=\"45.9375\" id=\"E3\" rx=\"10\" ry=\"10\" style=\"stroke: #383838; stroke-width: 1.5;\" width=\"108\" x=\"408\" y=\"346\"/><text fill=\"#000000\" font-family=\"sans-serif\" font-size=\"12\" font-style=\"italic\" lengthAdjust=\"spacingAndGlyphs\" textLength=\"40\" x=\"442\" y=\"362.1387\">«part»</text><text fill=\"#000000\" font-family=\"sans-serif\" font-size=\"12\" lengthAdjust=\"spacingAndGlyphs\" textLength=\"102\" x=\"411\" y=\"376.1074\">engine1: Engine</text><line style=\"stroke: #383838; stroke-width: 1.5;\" x1=\"409\" x2=\"515\" y1=\"383.9375\" y2=\"383.9375\"/></a><!--MD5=[ebbe1d658d1005bcc118a6aa81145e00]\n",
       "class E4--><a href=\"psysml:7dfdc806-8438-4ccb-bd71-8b6bdaa69ab8\" target=\"_top\" title=\"psysml:7dfdc806-8438-4ccb-bd71-8b6bdaa69ab8\" xlink:actuate=\"onRequest\" xlink:href=\"psysml:7dfdc806-8438-4ccb-bd71-8b6bdaa69ab8\" xlink:show=\"new\" xlink:title=\"psysml:7dfdc806-8438-4ccb-bd71-8b6bdaa69ab8\" xlink:type=\"simple\"><rect fill=\"#FFFFFF\" height=\"45.9375\" id=\"E4\" rx=\"10\" ry=\"10\" style=\"stroke: #383838; stroke-width: 1.5;\" width=\"108\" x=\"265\" y=\"346\"/><text fill=\"#000000\" font-family=\"sans-serif\" font-size=\"12\" font-style=\"italic\" lengthAdjust=\"spacingAndGlyphs\" textLength=\"40\" x=\"299\" y=\"362.1387\">«part»</text><text fill=\"#000000\" font-family=\"sans-serif\" font-size=\"12\" lengthAdjust=\"spacingAndGlyphs\" textLength=\"102\" x=\"268\" y=\"376.1074\">engine2: Engine</text><line style=\"stroke: #383838; stroke-width: 1.5;\" x1=\"266\" x2=\"372\" y1=\"383.9375\" y2=\"383.9375\"/></a><!--MD5=[270fce915f116d4de14055a7c1d9a0f3]\n",
       "class E5--><a href=\"psysml:cd38e840-8317-467c-8230-e0f8852492a9\" target=\"_top\" title=\"psysml:cd38e840-8317-467c-8230-e0f8852492a9\" xlink:actuate=\"onRequest\" xlink:href=\"psysml:cd38e840-8317-467c-8230-e0f8852492a9\" xlink:show=\"new\" xlink:title=\"psysml:cd38e840-8317-467c-8230-e0f8852492a9\" xlink:type=\"simple\"><rect fill=\"#FFFFFF\" height=\"45.9375\" id=\"E5\" rx=\"10\" ry=\"10\" style=\"stroke: #383838; stroke-width: 1.5;\" width=\"199\" x=\"237.5\" y=\"41\"/><text fill=\"#000000\" font-family=\"sans-serif\" font-size=\"12\" font-style=\"italic\" lengthAdjust=\"spacingAndGlyphs\" textLength=\"64\" x=\"305\" y=\"57.1387\">«analysis»</text><text fill=\"#000000\" font-family=\"sans-serif\" font-size=\"12\" lengthAdjust=\"spacingAndGlyphs\" textLength=\"193\" x=\"240.5\" y=\"71.1074\">engineTradeStudy: TradeStudy</text><line style=\"stroke: #383838; stroke-width: 1.5;\" x1=\"238.5\" x2=\"435.5\" y1=\"78.9375\" y2=\"78.9375\"/></a><!--MD5=[60a26617385b1d2d0262a64233df1f8d]\n",
       "class E6--><a href=\"psysml:bf1db205-ea64-42b3-a829-2093a93eb81c\" target=\"_top\" title=\"psysml:bf1db205-ea64-42b3-a829-2093a93eb81c\" xlink:actuate=\"onRequest\" xlink:href=\"psysml:bf1db205-ea64-42b3-a829-2093a93eb81c\" xlink:show=\"new\" xlink:title=\"psysml:bf1db205-ea64-42b3-a829-2093a93eb81c\" xlink:type=\"simple\"><rect fill=\"#FFFFFF\" height=\"45.9375\" id=\"E6\" rx=\"10\" ry=\"10\" style=\"stroke: #383838; stroke-width: 1.5;\" width=\"251\" x=\"76.5\" y=\"179\"/><text fill=\"#000000\" font-family=\"sans-serif\" font-size=\"12\" font-style=\"italic\" lengthAdjust=\"spacingAndGlyphs\" textLength=\"91\" x=\"156.5\" y=\"195.1387\">«requirement»</text><text fill=\"#000000\" font-family=\"sans-serif\" font-size=\"12\" lengthAdjust=\"spacingAndGlyphs\" textLength=\"245\" x=\"79.5\" y=\"209.1074\">tradeStudyObjective: MaximizeObjective</text><line style=\"stroke: #383838; stroke-width: 1.5;\" x1=\"77.5\" x2=\"326.5\" y1=\"216.9375\" y2=\"216.9375\"/></a><!--MD5=[2156ba9850f5573cc1fc38a6a4b2f02b]\n",
       "class E7--><a href=\"psysml:081fa6ee-8a6f-4292-82c4-f5eb64360f97\" target=\"_top\" title=\"psysml:081fa6ee-8a6f-4292-82c4-f5eb64360f97\" xlink:actuate=\"onRequest\" xlink:href=\"psysml:081fa6ee-8a6f-4292-82c4-f5eb64360f97\" xlink:show=\"new\" xlink:title=\"psysml:081fa6ee-8a6f-4292-82c4-f5eb64360f97\" xlink:type=\"simple\"><rect fill=\"#FFFFFF\" height=\"75.5469\" id=\"E7\" rx=\"10\" ry=\"10\" style=\"stroke: #383838; stroke-width: 1.5;\" width=\"116\" x=\"363\" y=\"164\"/><text fill=\"#000000\" font-family=\"sans-serif\" font-size=\"12\" font-style=\"italic\" lengthAdjust=\"spacingAndGlyphs\" textLength=\"82\" x=\"380\" y=\"180.1387\">«calculation»</text><text fill=\"#000000\" font-family=\"sans-serif\" font-size=\"12\" lengthAdjust=\"spacingAndGlyphs\" textLength=\"110\" x=\"366\" y=\"194.1074\">objectiveFunction</text><line style=\"stroke: #383838; stroke-width: 1.5;\" x1=\"364\" x2=\"478\" y1=\"201.9375\" y2=\"201.9375\"/><text fill=\"#000000\" font-family=\"sans-serif\" font-size=\"11\" lengthAdjust=\"spacingAndGlyphs\" textLength=\"65\" x=\"369\" y=\"232.9526\">result: Real</text><line style=\"stroke: #383838; stroke-width: 1.0;\" x1=\"364\" x2=\"393.5\" y1=\"216.3398\" y2=\"216.3398\"/><text fill=\"#000000\" font-family=\"sans-serif\" font-size=\"11\" lengthAdjust=\"spacingAndGlyphs\" textLength=\"55\" x=\"393.5\" y=\"219.6479\">attributes</text><line style=\"stroke: #383838; stroke-width: 1.0;\" x1=\"448.5\" x2=\"478\" y1=\"216.3398\" y2=\"216.3398\"/></a><!--MD5=[b9389687b975829384b498ac4b7476b2]\n",
       "class E8--><a href=\"psysml:dbdbccdb-5c16-4bd3-a501-4b1c7e9ddcab\" target=\"_top\" title=\"psysml:dbdbccdb-5c16-4bd3-a501-4b1c7e9ddcab\" xlink:actuate=\"onRequest\" xlink:href=\"psysml:dbdbccdb-5c16-4bd3-a501-4b1c7e9ddcab\" xlink:show=\"new\" xlink:title=\"psysml:dbdbccdb-5c16-4bd3-a501-4b1c7e9ddcab\" xlink:type=\"simple\"><rect fill=\"#FFFFFF\" height=\"45.9375\" id=\"E8\" rx=\"10\" ry=\"10\" style=\"stroke: #383838; stroke-width: 1.5;\" width=\"124\" x=\"69\" y=\"346\"/><text fill=\"#000000\" font-family=\"sans-serif\" font-size=\"12\" font-style=\"italic\" lengthAdjust=\"spacingAndGlyphs\" textLength=\"40\" x=\"111\" y=\"362.1387\">«part»</text><text fill=\"#000000\" font-family=\"sans-serif\" font-size=\"12\" lengthAdjust=\"spacingAndGlyphs\" textLength=\"118\" x=\"72\" y=\"376.1074\">alternative: Engine</text><line style=\"stroke: #383838; stroke-width: 1.5;\" x1=\"70\" x2=\"192\" y1=\"383.9375\" y2=\"383.9375\"/></a><!--MD5=[fd4143e9d270a159db93a4ea2a975926]\n",
       "class E9--><a href=\"psysml:b6df212f-8018-4500-9608-46bc28de5179\" target=\"_top\" title=\"psysml:b6df212f-8018-4500-9608-46bc28de5179\" xlink:actuate=\"onRequest\" xlink:href=\"psysml:b6df212f-8018-4500-9608-46bc28de5179\" xlink:show=\"new\" xlink:title=\"psysml:b6df212f-8018-4500-9608-46bc28de5179\" xlink:type=\"simple\"><rect fill=\"#FFFFFF\" height=\"45.9375\" id=\"E9\" rx=\"10\" ry=\"10\" style=\"stroke: #383838; stroke-width: 1.5;\" width=\"178\" x=\"289\" y=\"270\"/><text fill=\"#000000\" font-family=\"sans-serif\" font-size=\"12\" font-style=\"italic\" lengthAdjust=\"spacingAndGlyphs\" textLength=\"40\" x=\"358\" y=\"286.1387\">«part»</text><text fill=\"#000000\" font-family=\"sans-serif\" font-size=\"12\" lengthAdjust=\"spacingAndGlyphs\" textLength=\"172\" x=\"292\" y=\"300.1074\">selectedAlternative: Engine</text><line style=\"stroke: #383838; stroke-width: 1.5;\" x1=\"290\" x2=\"466\" y1=\"307.9375\" y2=\"307.9375\"/></a><!--MD5=[05d275557350bfb9b23a4ef7222b4c39]\n",
       "link E3 to E2--><a href=\"psysml:6a611645-87b6-456f-b99f-fe1a3075932c\" target=\"_top\" title=\"psysml:6a611645-87b6-456f-b99f-fe1a3075932c\" xlink:actuate=\"onRequest\" xlink:href=\"psysml:6a611645-87b6-456f-b99f-fe1a3075932c\" xlink:show=\"new\" xlink:title=\"psysml:6a611645-87b6-456f-b99f-fe1a3075932c\" xlink:type=\"simple\"><path d=\"M462,392.22 C462,423.69 462,476 462,476 C462,476 282.38,476 282.38,476 \" fill=\"none\" id=\"E3-&gt;E2\" style=\"stroke: #383838; stroke-width: 1.0;\"/><polygon fill=\"#FFFFFF\" points=\"262.38,476,281.38,469,281.38,483,262.38,476\" style=\"stroke: #383838; stroke-width: 1.0;\"/><ellipse cx=\"287.08\" cy=\"471\" fill=\"#383838\" rx=\"2\" ry=\"2\" style=\"stroke: #383838; stroke-width: 1.0;\"/><ellipse cx=\"287.08\" cy=\"481\" fill=\"#383838\" rx=\"2\" ry=\"2\" style=\"stroke: #383838; stroke-width: 1.0;\"/></a><!--MD5=[185131fc0dcab0a4505a2ebe144e961b]\n",
       "link E4 to E2--><a href=\"psysml:c8f697e8-ebd5-44e8-8041-765052aa0dda\" target=\"_top\" title=\"psysml:c8f697e8-ebd5-44e8-8041-765052aa0dda\" xlink:actuate=\"onRequest\" xlink:href=\"psysml:c8f697e8-ebd5-44e8-8041-765052aa0dda\" xlink:show=\"new\" xlink:title=\"psysml:c8f697e8-ebd5-44e8-8041-765052aa0dda\" xlink:type=\"simple\"><path d=\"M264.73,377 C255.49,377 248.8,377 248.8,377 C248.8,377 248.8,432.79 248.8,432.79 \" fill=\"none\" id=\"E4-&gt;E2\" style=\"stroke: #383838; stroke-width: 1.0;\"/><polygon fill=\"#FFFFFF\" points=\"248.8,452.79,241.8,433.79,255.8,433.79,248.8,452.79\" style=\"stroke: #383838; stroke-width: 1.0;\"/><ellipse cx=\"243.8\" cy=\"428.09\" fill=\"#383838\" rx=\"2\" ry=\"2\" style=\"stroke: #383838; stroke-width: 1.0;\"/><ellipse cx=\"253.8\" cy=\"428.09\" fill=\"#383838\" rx=\"2\" ry=\"2\" style=\"stroke: #383838; stroke-width: 1.0;\"/></a><!--MD5=[15ebcb19ae302d9b601edb458606d402]\n",
       "link E5 to E2--><a href=\"psysml:2f46211a-dc33-450b-96f1-34c5430f413d\" target=\"_top\" title=\"psysml:2f46211a-dc33-450b-96f1-34c5430f413d\" xlink:actuate=\"onRequest\" xlink:href=\"psysml:2f46211a-dc33-450b-96f1-34c5430f413d\" xlink:show=\"new\" xlink:title=\"psysml:2f46211a-dc33-450b-96f1-34c5430f413d\" xlink:type=\"simple\"><path d=\"M339.33,87.06 C339.33,133.74 339.33,235 339.33,235 C339.33,235 222.4,235 222.4,235 C222.4,235 222.4,447.89 222.4,447.89 \" fill=\"none\" id=\"E5-&gt;E2\" style=\"stroke: #383838; stroke-width: 1.0; stroke-dasharray: 7.0,7.0;\"/><polygon fill=\"#383838\" points=\"222.4,452.89,226.4,443.89,222.4,447.89,218.4,443.89,222.4,452.89\" style=\"stroke: #383838; stroke-width: 1.0;\"/><text fill=\"#000000\" font-family=\"sans-serif\" font-size=\"13\" lengthAdjust=\"spacingAndGlyphs\" textLength=\"62\" x=\"68\" y=\"297.5669\">«subject»</text></a><!--MD5=[9120cf2e5df3bff93db8f754bbbc09b4]\n",
       "link E5 to E6--><a href=\"psysml:285bfc51-142a-40f2-bdf1-cdd7141b9b55\" target=\"_top\" title=\"psysml:285bfc51-142a-40f2-bdf1-cdd7141b9b55\" xlink:actuate=\"onRequest\" xlink:href=\"psysml:285bfc51-142a-40f2-bdf1-cdd7141b9b55\" xlink:show=\"new\" xlink:title=\"psysml:285bfc51-142a-40f2-bdf1-cdd7141b9b55\" xlink:type=\"simple\"><path d=\"M282.5,87.1 C282.5,87.1 282.5,170.83 282.5,170.83 \" fill=\"none\" id=\"E5-&gt;E6\" style=\"stroke: #383838; stroke-width: 1.0;\"/><polygon fill=\"#383838\" points=\"282.5,178.83,285.5,170.83,279.5,170.83,282.5,178.83\" style=\"stroke: #383838; stroke-width: 1.0;\"/><text fill=\"#000000\" font-family=\"sans-serif\" font-size=\"13\" lengthAdjust=\"spacingAndGlyphs\" textLength=\"73\" x=\"231\" y=\"130.0669\">«objective»</text></a><!--MD5=[452b418e7f8a40397a49b8c0a78acc5b]\n",
       "reverse link E5 to E7--><a href=\"psysml:081fa6ee-8a6f-4292-82c4-f5eb64360f97\" target=\"_top\" title=\"psysml:081fa6ee-8a6f-4292-82c4-f5eb64360f97\" xlink:actuate=\"onRequest\" xlink:href=\"psysml:081fa6ee-8a6f-4292-82c4-f5eb64360f97\" xlink:show=\"new\" xlink:title=\"psysml:081fa6ee-8a6f-4292-82c4-f5eb64360f97\" xlink:type=\"simple\"><path d=\"M399.75,100.1 C399.75,100.1 399.75,163.96 399.75,163.96 \" fill=\"none\" id=\"E5&lt;-E7\" style=\"stroke: #383838; stroke-width: 1.0;\"/><polygon fill=\"#383838\" points=\"399.75,87.1,395.75,93.1,399.75,99.1,403.75,93.1,399.75,87.1\" style=\"stroke: #383838; stroke-width: 1.0;\"/></a><!--MD5=[f1f3f9f2fc535e6147756cb86a7f2e32]\n",
       "link E8 to E2--><a href=\"psysml:143d7cb3-4d47-41f0-bb56-6d1ae515b029\" target=\"_top\" title=\"psysml:143d7cb3-4d47-41f0-bb56-6d1ae515b029\" xlink:actuate=\"onRequest\" xlink:href=\"psysml:143d7cb3-4d47-41f0-bb56-6d1ae515b029\" xlink:show=\"new\" xlink:title=\"psysml:143d7cb3-4d47-41f0-bb56-6d1ae515b029\" xlink:type=\"simple\"><path d=\"M193.38,362 C202.67,362 209.2,362 209.2,362 C209.2,362 209.2,432.93 209.2,432.93 \" fill=\"none\" id=\"E8-&gt;E2\" style=\"stroke: #383838; stroke-width: 1.0;\"/><polygon fill=\"#FFFFFF\" points=\"209.2,452.93,202.2,433.93,216.2,433.93,209.2,452.93\" style=\"stroke: #383838; stroke-width: 1.0;\"/><ellipse cx=\"204.2\" cy=\"428.23\" fill=\"#383838\" rx=\"2\" ry=\"2\" style=\"stroke: #383838; stroke-width: 1.0;\"/><ellipse cx=\"214.2\" cy=\"428.23\" fill=\"#383838\" rx=\"2\" ry=\"2\" style=\"stroke: #383838; stroke-width: 1.0;\"/></a><!--MD5=[dc164f5e8a733ab456ef1add180e9e34]\n",
       "reverse link E7 to E8--><a href=\"psysml:dbdbccdb-5c16-4bd3-a501-4b1c7e9ddcab\" target=\"_top\" title=\"psysml:dbdbccdb-5c16-4bd3-a501-4b1c7e9ddcab\" xlink:actuate=\"onRequest\" xlink:href=\"psysml:dbdbccdb-5c16-4bd3-a501-4b1c7e9ddcab\" xlink:show=\"new\" xlink:title=\"psysml:dbdbccdb-5c16-4bd3-a501-4b1c7e9ddcab\" xlink:type=\"simple\"><path d=\"M349.73,230 C349.73,230 134.75,230 134.75,230 C134.75,230 134.75,306.16 134.75,345.73 \" fill=\"none\" id=\"E7&lt;-E8\" style=\"stroke: #383838; stroke-width: 1.0;\"/><polygon fill=\"#FFFFFF\" points=\"362.73,230,356.73,226,350.73,230,356.73,234,362.73,230\" style=\"stroke: #383838; stroke-width: 1.0;\"/></a><!--MD5=[5c3bb36fe832a92c7f0e1807dd65209d]\n",
       "link E9 to E2--><a href=\"psysml:cb3e8ea7-f115-4f34-bcd9-dd1e6ba812b8\" target=\"_top\" title=\"psysml:cb3e8ea7-f115-4f34-bcd9-dd1e6ba812b8\" xlink:actuate=\"onRequest\" xlink:href=\"psysml:cb3e8ea7-f115-4f34-bcd9-dd1e6ba812b8\" xlink:show=\"new\" xlink:title=\"psysml:cb3e8ea7-f115-4f34-bcd9-dd1e6ba812b8\" xlink:type=\"simple\"><path d=\"M288.62,293 C260.01,293 235.6,293 235.6,293 C235.6,293 235.6,432.82 235.6,432.82 \" fill=\"none\" id=\"E9-&gt;E2\" style=\"stroke: #383838; stroke-width: 1.0;\"/><polygon fill=\"#FFFFFF\" points=\"235.6,452.82,228.6,433.82,242.6,433.82,235.6,452.82\" style=\"stroke: #383838; stroke-width: 1.0;\"/><ellipse cx=\"230.6\" cy=\"428.12\" fill=\"#383838\" rx=\"2\" ry=\"2\" style=\"stroke: #383838; stroke-width: 1.0;\"/><ellipse cx=\"240.6\" cy=\"428.12\" fill=\"#383838\" rx=\"2\" ry=\"2\" style=\"stroke: #383838; stroke-width: 1.0;\"/></a><!--MD5=[9ae28de373ca99bb8a1b38d63370ca7e]\n",
       "reverse link E5 to E9--><a href=\"psysml:b6df212f-8018-4500-9608-46bc28de5179\" target=\"_top\" title=\"psysml:b6df212f-8018-4500-9608-46bc28de5179\" xlink:actuate=\"onRequest\" xlink:href=\"psysml:b6df212f-8018-4500-9608-46bc28de5179\" xlink:show=\"new\" xlink:title=\"psysml:b6df212f-8018-4500-9608-46bc28de5179\" xlink:type=\"simple\"><path d=\"M351.17,100.22 C351.17,100.22 351.17,269.72 351.17,269.72 \" fill=\"none\" id=\"E5&lt;-E9\" style=\"stroke: #383838; stroke-width: 1.0;\"/><polygon fill=\"#FFFFFF\" points=\"351.17,87.22,347.17,93.22,351.17,99.22,355.17,93.22,351.17,87.22\" style=\"stroke: #383838; stroke-width: 1.0;\"/></a><!--MD5=[f6da11e2abfc9525a1aa17eeed705711]\n",
       "@startuml\r\n",
       "skinparam linetype ortho\r\n",
       "skinparam monochrome true\r\n",
       "skinparam classbackgroundcolor white\r\n",
       "skinparam shadowing false\r\n",
       "skinparam wrapWidth 300\r\n",
       "hide circle\r\n",
       "\r\n",
       "package \"TradeStudyTest\" as E1  [[psysml:8952aa40-03a2-4df7-81e1-750bf2c7b589 ]]  {\r\n",
       "comp def \"Engine\" as E2  <<(T,blue)part def>> [[psysml:ba5002a0-783d-43b2-abfa-70b37f90804c ]] {\r\n",
       "}\r\n",
       "comp usage \"engine1: Engine\" as E3  <<(T,blue)part>> [[psysml:47ce73ab-2c54-4db4-9d19-7bcb338cdf44 ]] {\r\n",
       "}\r\n",
       "comp usage \"engine2: Engine\" as E4  <<(T,blue)part>> [[psysml:7dfdc806-8438-4ccb-bd71-8b6bdaa69ab8 ]] {\r\n",
       "}\r\n",
       "comp usage \"engineTradeStudy: TradeStudy\" as E5 <<analysis>> [[psysml:cd38e840-8317-467c-8230-e0f8852492a9 ]] {\r\n",
       "}\r\n",
       "comp usage \"tradeStudyObjective: MaximizeObjective\" as E6  <<(T,blue)requirement>> [[psysml:bf1db205-ea64-42b3-a829-2093a93eb81c ]] {\r\n",
       "}\r\n",
       "comp usage \"objectiveFunction\" as E7  <<(T,blue)calculation>> [[psysml:081fa6ee-8a6f-4292-82c4-f5eb64360f97 ]] {\r\n",
       "- - attributes - -\r\n",
       "result: Real\r\n",
       "}\r\n",
       "comp usage \"alternative: Engine\" as E8  <<(T,blue)part>> [[psysml:dbdbccdb-5c16-4bd3-a501-4b1c7e9ddcab ]] {\r\n",
       "}\r\n",
       "comp usage \"selectedAlternative: Engine\" as E9  <<(T,blue)part>> [[psysml:b6df212f-8018-4500-9608-46bc28de5179 ]] {\r\n",
       "}\r\n",
       "E3 - -:|> E2 [[psysml:6a611645-87b6-456f-b99f-fe1a3075932c ]] \r\n",
       "E4 - -:|> E2 [[psysml:c8f697e8-ebd5-44e8-8041-765052aa0dda ]] \r\n",
       "E5 ..> E2 [[psysml:2f46211a-dc33-450b-96f1-34c5430f413d ]] : <<subject>>\r\n",
       "E5 - ->> E6 [[psysml:285bfc51-142a-40f2-bdf1-cdd7141b9b55 ]] : <<objective>>\r\n",
       "E5 *- - E7 [[psysml:081fa6ee-8a6f-4292-82c4-f5eb64360f97 ]] \r\n",
       "E8 - -:|> E2 [[psysml:143d7cb3-4d47-41f0-bb56-6d1ae515b029 ]] \r\n",
       "E7 o- - E8 [[psysml:dbdbccdb-5c16-4bd3-a501-4b1c7e9ddcab ]] \r\n",
       "E9 - -:|> E2 [[psysml:cb3e8ea7-f115-4f34-bcd9-dd1e6ba812b8 ]] \r\n",
       "E5 o- - E9 [[psysml:b6df212f-8018-4500-9608-46bc28de5179 ]] \r\n",
       "}\r\n",
       "@enduml\r\n",
       "\n",
       "PlantUML version 1.2020.13(Sat Jun 13 12:26:38 UTC 2020)\n",
       "(EPL source distribution)\n",
       "Java Runtime: OpenJDK Runtime Environment\n",
       "JVM: OpenJDK 64-Bit Server VM\n",
       "Default Encoding: UTF-8\n",
       "Language: en\n",
       "Country: null\n",
       "--></g></svg>"
      ]
     },
     "execution_count": 57,
     "metadata": {},
     "output_type": "execute_result"
    }
   ],
   "source": [
    "%viz --style=\"ORTHOLINE\" --view=\"MIXED\" \"TradeStudyTest\""
   ]
  }
 ],
 "metadata": {
  "kernelspec": {
   "display_name": "SysML",
   "language": "sysml",
   "name": "sysml"
  },
  "language_info": {
   "codemirror_mode": "sysml",
   "file_extension": ".sysml",
   "mimetype": "text/x-sysml",
   "name": "SysML",
   "pygments_lexer": "java",
   "version": "1.0.0"
  }
 },
 "nbformat": 4,
 "nbformat_minor": 5
}
