{
 "cells": [
  {
   "cell_type": "markdown",
   "id": "enabling-tamil",
   "metadata": {},
   "source": [
    "# SysML v2 Test Suite\n",
    "\n",
    "This can notebook can be cleared using menu `Edit --> Clear All Outputs` and then all cells can be\n",
    "run using menu `Run --> Run All Cells`.\n",
    "\n",
    "**WARNING**: This file is generated, all modifications here will be ignored.\n"
   ]
  },
  {
   "cell_type": "markdown",
   "id": "psychological-diameter",
   "metadata": {},
   "source": [
    "## File: ../../sysml/src/examples/Simple Tests/TradeStudyTest.sysml"
   ]
  },
  {
   "cell_type": "code",
   "execution_count": 1,
   "id": "agreed-florida",
   "metadata": {
    "execution": {
     "iopub.execute_input": "2021-03-25T13:19:13.526391Z",
     "iopub.status.busy": "2021-03-25T13:19:13.525613Z",
     "iopub.status.idle": "2021-03-25T13:19:14.214280Z",
     "shell.execute_reply": "2021-03-25T13:19:14.213341Z"
    }
   },
   "outputs": [
    {
     "data": {
      "text/plain": [
       "Package TradeStudyTest (ba3287d9-9abf-4a43-bbda-d2f9a45668b2)\n"
      ]
     },
     "execution_count": 1,
     "metadata": {},
     "output_type": "execute_result"
    }
   ],
   "source": [
    "package TradeStudyTest {\n",
    "\timport TradeStudies::*;\n",
    "\t\n",
    "\tpart def Engine;\n",
    "\tpart engine1: Engine;\n",
    "\tpart engine2: Engine;\n",
    "\t\n",
    "\tanalysis engineTradeStudy : TradeStudy {\n",
    "\t\tsubject : Engine[1..*] = {engine1, engine2};\n",
    "\t\tobjective : MaximizeObjective;\n",
    "\n",
    "\t\tcalc :>> objectiveFunction {\n",
    "\t\t\tin part : Engine;\n",
    "\t\t\treturn : Real;\n",
    "\t\t}\n",
    "\t\t\n",
    "\t\treturn part : Engine;\n",
    "\t}\n",
    "\t\n",
    "}"
   ]
  },
  {
   "cell_type": "code",
   "execution_count": 2,
   "id": "fundamental-impression",
   "metadata": {
    "execution": {
     "iopub.execute_input": "2021-03-25T13:19:14.267788Z",
     "iopub.status.busy": "2021-03-25T13:19:14.266908Z",
     "iopub.status.idle": "2021-03-25T13:19:15.351521Z",
     "shell.execute_reply": "2021-03-25T13:19:15.352626Z"
    }
   },
   "outputs": [
    {
     "data": {
      "image/svg+xml": [
       "<?xml version=\"1.0\" encoding=\"UTF-8\" standalone=\"no\"?><svg xmlns=\"http://www.w3.org/2000/svg\" xmlns:xlink=\"http://www.w3.org/1999/xlink\" contentScriptType=\"application/ecmascript\" contentStyleType=\"text/css\" height=\"497px\" preserveAspectRatio=\"none\" style=\"width:556px;height:497px;\" version=\"1.1\" viewBox=\"0 0 556 497\" width=\"556px\" zoomAndPan=\"magnify\"><defs/><g><!--MD5=[fbc87193dbaf4d95561dea2c320d4a47]\n",
       "cluster E1--><a href=\"psysml:656cfd98-5664-4901-a86b-535977508953\" target=\"_top\" title=\"psysml:656cfd98-5664-4901-a86b-535977508953\" xlink:actuate=\"onRequest\" xlink:href=\"psysml:656cfd98-5664-4901-a86b-535977508953\" xlink:show=\"new\" xlink:title=\"psysml:656cfd98-5664-4901-a86b-535977508953\" xlink:type=\"simple\"><polygon fill=\"#FFFFFF\" points=\"18.32,6,150.32,6,157.32,28.2969,534.32,28.2969,534.32,485,18.32,485,18.32,6\" style=\"stroke: #000000; stroke-width: 1.5;\"/><line style=\"stroke: #000000; stroke-width: 1.5;\" x1=\"18.32\" x2=\"157.32\" y1=\"28.2969\" y2=\"28.2969\"/><text fill=\"#000000\" font-family=\"sans-serif\" font-size=\"14\" font-weight=\"bold\" lengthAdjust=\"spacingAndGlyphs\" textLength=\"126\" x=\"22.32\" y=\"20.9951\">TradeStudyTest</text></a><!--MD5=[b4997ac47864f28c2f74865a473b2911]\n",
       "class E2--><a href=\"psysml:66c87936-3609-4f97-8f24-8ad3882372ee\" target=\"_top\" title=\"psysml:66c87936-3609-4f97-8f24-8ad3882372ee\" xlink:actuate=\"onRequest\" xlink:href=\"psysml:66c87936-3609-4f97-8f24-8ad3882372ee\" xlink:show=\"new\" xlink:title=\"psysml:66c87936-3609-4f97-8f24-8ad3882372ee\" xlink:type=\"simple\"><rect fill=\"#FFFFFF\" height=\"45.9375\" id=\"E2\" style=\"stroke: #383838; stroke-width: 1.5;\" width=\"66\" x=\"198.32\" y=\"423\"/><text fill=\"#000000\" font-family=\"sans-serif\" font-size=\"12\" font-style=\"italic\" lengthAdjust=\"spacingAndGlyphs\" textLength=\"64\" x=\"199.32\" y=\"439.1387\">«part def»</text><text fill=\"#000000\" font-family=\"sans-serif\" font-size=\"12\" lengthAdjust=\"spacingAndGlyphs\" textLength=\"43\" x=\"209.82\" y=\"453.1074\">Engine</text><line style=\"stroke: #383838; stroke-width: 1.5;\" x1=\"199.32\" x2=\"263.32\" y1=\"460.9375\" y2=\"460.9375\"/></a><!--MD5=[09b614a08d8cba4a07c9adeb5e0fee81]\n",
       "class E3--><a href=\"psysml:c974a942-078b-4d34-96c1-8ca70902d898\" target=\"_top\" title=\"psysml:c974a942-078b-4d34-96c1-8ca70902d898\" xlink:actuate=\"onRequest\" xlink:href=\"psysml:c974a942-078b-4d34-96c1-8ca70902d898\" xlink:show=\"new\" xlink:title=\"psysml:c974a942-078b-4d34-96c1-8ca70902d898\" xlink:type=\"simple\"><rect fill=\"#FFFFFF\" height=\"45.9375\" id=\"E3\" rx=\"10\" ry=\"10\" style=\"stroke: #383838; stroke-width: 1.5;\" width=\"108\" x=\"410.32\" y=\"316\"/><text fill=\"#000000\" font-family=\"sans-serif\" font-size=\"12\" font-style=\"italic\" lengthAdjust=\"spacingAndGlyphs\" textLength=\"40\" x=\"444.32\" y=\"332.1387\">«part»</text><text fill=\"#000000\" font-family=\"sans-serif\" font-size=\"12\" lengthAdjust=\"spacingAndGlyphs\" textLength=\"102\" x=\"413.32\" y=\"346.1074\">engine1: Engine</text><line style=\"stroke: #383838; stroke-width: 1.5;\" x1=\"411.32\" x2=\"517.32\" y1=\"353.9375\" y2=\"353.9375\"/></a><!--MD5=[ebbe1d658d1005bcc118a6aa81145e00]\n",
       "class E4--><a href=\"psysml:f4d0ec5b-d124-41e4-9ba9-3cb67b695e7c\" target=\"_top\" title=\"psysml:f4d0ec5b-d124-41e4-9ba9-3cb67b695e7c\" xlink:actuate=\"onRequest\" xlink:href=\"psysml:f4d0ec5b-d124-41e4-9ba9-3cb67b695e7c\" xlink:show=\"new\" xlink:title=\"psysml:f4d0ec5b-d124-41e4-9ba9-3cb67b695e7c\" xlink:type=\"simple\"><rect fill=\"#FFFFFF\" height=\"45.9375\" id=\"E4\" rx=\"10\" ry=\"10\" style=\"stroke: #383838; stroke-width: 1.5;\" width=\"108\" x=\"267.32\" y=\"316\"/><text fill=\"#000000\" font-family=\"sans-serif\" font-size=\"12\" font-style=\"italic\" lengthAdjust=\"spacingAndGlyphs\" textLength=\"40\" x=\"301.32\" y=\"332.1387\">«part»</text><text fill=\"#000000\" font-family=\"sans-serif\" font-size=\"12\" lengthAdjust=\"spacingAndGlyphs\" textLength=\"102\" x=\"270.32\" y=\"346.1074\">engine2: Engine</text><line style=\"stroke: #383838; stroke-width: 1.5;\" x1=\"268.32\" x2=\"374.32\" y1=\"353.9375\" y2=\"353.9375\"/></a><!--MD5=[270fce915f116d4de14055a7c1d9a0f3]\n",
       "class E5--><a href=\"psysml:2fd52497-3b24-4a66-a5d3-d77cdf8b2acf\" target=\"_top\" title=\"psysml:2fd52497-3b24-4a66-a5d3-d77cdf8b2acf\" xlink:actuate=\"onRequest\" xlink:href=\"psysml:2fd52497-3b24-4a66-a5d3-d77cdf8b2acf\" xlink:show=\"new\" xlink:title=\"psysml:2fd52497-3b24-4a66-a5d3-d77cdf8b2acf\" xlink:type=\"simple\"><rect fill=\"#FFFFFF\" height=\"45.9375\" id=\"E5\" rx=\"10\" ry=\"10\" style=\"stroke: #383838; stroke-width: 1.5;\" width=\"199\" x=\"239.82\" y=\"41\"/><text fill=\"#000000\" font-family=\"sans-serif\" font-size=\"12\" font-style=\"italic\" lengthAdjust=\"spacingAndGlyphs\" textLength=\"64\" x=\"307.32\" y=\"57.1387\">«analysis»</text><text fill=\"#000000\" font-family=\"sans-serif\" font-size=\"12\" lengthAdjust=\"spacingAndGlyphs\" textLength=\"193\" x=\"242.82\" y=\"71.1074\">engineTradeStudy: TradeStudy</text><line style=\"stroke: #383838; stroke-width: 1.5;\" x1=\"240.82\" x2=\"437.82\" y1=\"78.9375\" y2=\"78.9375\"/></a><!--MD5=[60a26617385b1d2d0262a64233df1f8d]\n",
       "class E6--><a href=\"psysml:2c27f52f-f536-4fc6-bf8d-fd6e3fd13c39\" target=\"_top\" title=\"psysml:2c27f52f-f536-4fc6-bf8d-fd6e3fd13c39\" xlink:actuate=\"onRequest\" xlink:href=\"psysml:2c27f52f-f536-4fc6-bf8d-fd6e3fd13c39\" xlink:show=\"new\" xlink:title=\"psysml:2c27f52f-f536-4fc6-bf8d-fd6e3fd13c39\" xlink:type=\"simple\"><rect fill=\"#FFFFFF\" height=\"45.9375\" id=\"E6\" rx=\"10\" ry=\"10\" style=\"stroke: #383838; stroke-width: 1.5;\" width=\"251\" x=\"78.82\" y=\"164\"/><text fill=\"#000000\" font-family=\"sans-serif\" font-size=\"12\" font-style=\"italic\" lengthAdjust=\"spacingAndGlyphs\" textLength=\"91\" x=\"158.82\" y=\"180.1387\">«requirement»</text><text fill=\"#000000\" font-family=\"sans-serif\" font-size=\"12\" lengthAdjust=\"spacingAndGlyphs\" textLength=\"245\" x=\"81.82\" y=\"194.1074\">tradeStudyObjective: MaximizeObjective</text><line style=\"stroke: #383838; stroke-width: 1.5;\" x1=\"79.82\" x2=\"328.82\" y1=\"201.9375\" y2=\"201.9375\"/></a><!--MD5=[2156ba9850f5573cc1fc38a6a4b2f02b]\n",
       "class E7--><a href=\"psysml:7b858bf3-8f8c-4105-a0db-0d0783f29576\" target=\"_top\" title=\"psysml:7b858bf3-8f8c-4105-a0db-0d0783f29576\" xlink:actuate=\"onRequest\" xlink:href=\"psysml:7b858bf3-8f8c-4105-a0db-0d0783f29576\" xlink:show=\"new\" xlink:title=\"psysml:7b858bf3-8f8c-4105-a0db-0d0783f29576\" xlink:type=\"simple\"><rect fill=\"#FFFFFF\" height=\"45.9375\" id=\"E7\" rx=\"10\" ry=\"10\" style=\"stroke: #383838; stroke-width: 1.5;\" width=\"116\" x=\"365.32\" y=\"164\"/><text fill=\"#000000\" font-family=\"sans-serif\" font-size=\"12\" font-style=\"italic\" lengthAdjust=\"spacingAndGlyphs\" textLength=\"82\" x=\"382.32\" y=\"180.1387\">«calculation»</text><text fill=\"#000000\" font-family=\"sans-serif\" font-size=\"12\" lengthAdjust=\"spacingAndGlyphs\" textLength=\"110\" x=\"368.32\" y=\"194.1074\">objectiveFunction</text><line style=\"stroke: #383838; stroke-width: 1.5;\" x1=\"366.32\" x2=\"480.32\" y1=\"201.9375\" y2=\"201.9375\"/></a><!--MD5=[b9389687b975829384b498ac4b7476b2]\n",
       "class E8--><a href=\"psysml:b0f7840c-11d7-45e2-a5a4-bf208bef1113\" target=\"_top\" title=\"psysml:b0f7840c-11d7-45e2-a5a4-bf208bef1113\" xlink:actuate=\"onRequest\" xlink:href=\"psysml:b0f7840c-11d7-45e2-a5a4-bf208bef1113\" xlink:show=\"new\" xlink:title=\"psysml:b0f7840c-11d7-45e2-a5a4-bf208bef1113\" xlink:type=\"simple\"><rect fill=\"#FFFFFF\" height=\"45.9375\" id=\"E8\" rx=\"10\" ry=\"10\" style=\"stroke: #383838; stroke-width: 1.5;\" width=\"124\" x=\"71.32\" y=\"316\"/><text fill=\"#000000\" font-family=\"sans-serif\" font-size=\"12\" font-style=\"italic\" lengthAdjust=\"spacingAndGlyphs\" textLength=\"40\" x=\"113.32\" y=\"332.1387\">«part»</text><text fill=\"#000000\" font-family=\"sans-serif\" font-size=\"12\" lengthAdjust=\"spacingAndGlyphs\" textLength=\"118\" x=\"74.32\" y=\"346.1074\">alternative: Engine</text><line style=\"stroke: #383838; stroke-width: 1.5;\" x1=\"72.32\" x2=\"194.32\" y1=\"353.9375\" y2=\"353.9375\"/></a><!--MD5=[fd4143e9d270a159db93a4ea2a975926]\n",
       "class E9--><a href=\"psysml:9d098c9e-1a7b-415f-a301-c2067e422f2c\" target=\"_top\" title=\"psysml:9d098c9e-1a7b-415f-a301-c2067e422f2c\" xlink:actuate=\"onRequest\" xlink:href=\"psysml:9d098c9e-1a7b-415f-a301-c2067e422f2c\" xlink:show=\"new\" xlink:title=\"psysml:9d098c9e-1a7b-415f-a301-c2067e422f2c\" xlink:type=\"simple\"><rect fill=\"#FFFFFF\" height=\"45.9375\" id=\"E9\" rx=\"10\" ry=\"10\" style=\"stroke: #383838; stroke-width: 1.5;\" width=\"178\" x=\"291.32\" y=\"240\"/><text fill=\"#000000\" font-family=\"sans-serif\" font-size=\"12\" font-style=\"italic\" lengthAdjust=\"spacingAndGlyphs\" textLength=\"40\" x=\"360.32\" y=\"256.1387\">«part»</text><text fill=\"#000000\" font-family=\"sans-serif\" font-size=\"12\" lengthAdjust=\"spacingAndGlyphs\" textLength=\"172\" x=\"294.32\" y=\"270.1074\">selectedAlternative: Engine</text><line style=\"stroke: #383838; stroke-width: 1.5;\" x1=\"292.32\" x2=\"468.32\" y1=\"277.9375\" y2=\"277.9375\"/></a><!--MD5=[05d275557350bfb9b23a4ef7222b4c39]\n",
       "link E3 to E2--><a href=\"psysml:6d15a19a-180f-471d-b762-c393731ed9f0\" target=\"_top\" title=\"psysml:6d15a19a-180f-471d-b762-c393731ed9f0\" xlink:actuate=\"onRequest\" xlink:href=\"psysml:6d15a19a-180f-471d-b762-c393731ed9f0\" xlink:show=\"new\" xlink:title=\"psysml:6d15a19a-180f-471d-b762-c393731ed9f0\" xlink:type=\"simple\"><path d=\"M415.48,362.01 C376.57,379.54 322.27,404.01 282.71,421.84 \" fill=\"none\" id=\"E3-&gt;E2\" style=\"stroke: #383838; stroke-width: 1.0;\"/><polygon fill=\"#FFFFFF\" points=\"264.34,430.12,278.7866,415.9321,284.5383,428.696,264.34,430.12\" style=\"stroke: #383838; stroke-width: 1.0;\"/><ellipse cx=\"284.805\" cy=\"415.4137\" fill=\"#383838\" rx=\"2\" ry=\"2\" style=\"stroke: #383838; stroke-width: 1.0;\"/><ellipse cx=\"288.9134\" cy=\"424.5308\" fill=\"#383838\" rx=\"2\" ry=\"2\" style=\"stroke: #383838; stroke-width: 1.0;\"/></a><!--MD5=[185131fc0dcab0a4505a2ebe144e961b]\n",
       "link E4 to E2--><a href=\"psysml:247dd621-3d2a-4448-8896-ee4a55c37d47\" target=\"_top\" title=\"psysml:247dd621-3d2a-4448-8896-ee4a55c37d47\" xlink:actuate=\"onRequest\" xlink:href=\"psysml:247dd621-3d2a-4448-8896-ee4a55c37d47\" xlink:show=\"new\" xlink:title=\"psysml:247dd621-3d2a-4448-8896-ee4a55c37d47\" xlink:type=\"simple\"><path d=\"M302.45,362.01 C291.25,375.08 276.74,392.01 263.74,407.17 \" fill=\"none\" id=\"E4-&gt;E2\" style=\"stroke: #383838; stroke-width: 1.0;\"/><polygon fill=\"#FFFFFF\" points=\"250.47,422.66,257.5188,403.678,268.1491,412.7883,250.47,422.66\" style=\"stroke: #383838; stroke-width: 1.0;\"/><ellipse cx=\"262.7466\" cy=\"400.6515\" fill=\"#383838\" rx=\"2\" ry=\"2\" style=\"stroke: #383838; stroke-width: 1.0;\"/><ellipse cx=\"270.3396\" cy=\"407.1588\" fill=\"#383838\" rx=\"2\" ry=\"2\" style=\"stroke: #383838; stroke-width: 1.0;\"/></a><!--MD5=[15ebcb19ae302d9b601edb458606d402]\n",
       "link E5 to E2--><a href=\"psysml:21b7132a-f544-4487-a747-91d198ad447d\" target=\"_top\" title=\"psysml:21b7132a-f544-4487-a747-91d198ad447d\" xlink:actuate=\"onRequest\" xlink:href=\"psysml:21b7132a-f544-4487-a747-91d198ad447d\" xlink:show=\"new\" xlink:title=\"psysml:21b7132a-f544-4487-a747-91d198ad447d\" xlink:type=\"simple\"><path d=\"M239.76,73.22 C177.99,83.96 102.74,108.45 61.32,164 C8.68,234.61 6,287.72 53.32,362 C83.95,410.08 150.5,430.76 192.99,439.32 \" fill=\"none\" id=\"E5-&gt;E2\" style=\"stroke: #383838; stroke-width: 1.0; stroke-dasharray: 7.0,7.0;\"/><polygon fill=\"#383838\" points=\"198.04,440.31,189.9738,434.6588,193.1327,439.3514,188.4401,442.5104,198.04,440.31\" style=\"stroke: #383838; stroke-width: 1.0;\"/><text fill=\"#000000\" font-family=\"sans-serif\" font-size=\"13\" lengthAdjust=\"spacingAndGlyphs\" textLength=\"62\" x=\"24.32\" y=\"267.5669\">«subject»</text></a><!--MD5=[9120cf2e5df3bff93db8f754bbbc09b4]\n",
       "link E5 to E6--><a href=\"psysml:44ec4945-cc63-4e9d-b8df-7b9a76da0bc7\" target=\"_top\" title=\"psysml:44ec4945-cc63-4e9d-b8df-7b9a76da0bc7\" xlink:actuate=\"onRequest\" xlink:href=\"psysml:44ec4945-cc63-4e9d-b8df-7b9a76da0bc7\" xlink:show=\"new\" xlink:title=\"psysml:44ec4945-cc63-4e9d-b8df-7b9a76da0bc7\" xlink:type=\"simple\"><path d=\"M314.56,87.19 C292.2,107.23 259.21,136.8 235.15,158.37 \" fill=\"none\" id=\"E5-&gt;E6\" style=\"stroke: #383838; stroke-width: 1.0;\"/><polygon fill=\"#383838\" points=\"228.92,163.95,236.8786,160.8419,232.8725,156.3752,228.92,163.95\" style=\"stroke: #383838; stroke-width: 1.0;\"/><text fill=\"#000000\" font-family=\"sans-serif\" font-size=\"13\" lengthAdjust=\"spacingAndGlyphs\" textLength=\"73\" x=\"280.32\" y=\"130.0669\">«objective»</text></a><!--MD5=[452b418e7f8a40397a49b8c0a78acc5b]\n",
       "reverse link E5 to E7--><a href=\"psysml:7b858bf3-8f8c-4105-a0db-0d0783f29576\" target=\"_top\" title=\"psysml:7b858bf3-8f8c-4105-a0db-0d0783f29576\" xlink:actuate=\"onRequest\" xlink:href=\"psysml:7b858bf3-8f8c-4105-a0db-0d0783f29576\" xlink:show=\"new\" xlink:title=\"psysml:7b858bf3-8f8c-4105-a0db-0d0783f29576\" xlink:type=\"simple\"><path d=\"M362.14,97.88 C376.71,118.86 395.19,145.48 408.01,163.95 \" fill=\"none\" id=\"E5&lt;-E7\" style=\"stroke: #383838; stroke-width: 1.0;\"/><polygon fill=\"#383838\" points=\"354.73,87.19,354.864,94.3999,361.5708,97.0492,361.4368,89.8393,354.73,87.19\" style=\"stroke: #383838; stroke-width: 1.0;\"/></a><!--MD5=[f1f3f9f2fc535e6147756cb86a7f2e32]\n",
       "link E8 to E2--><a href=\"psysml:2565caae-8b6e-420b-a56a-eab601fd4b55\" target=\"_top\" title=\"psysml:2565caae-8b6e-420b-a56a-eab601fd4b55\" xlink:actuate=\"onRequest\" xlink:href=\"psysml:2565caae-8b6e-420b-a56a-eab601fd4b55\" xlink:show=\"new\" xlink:title=\"psysml:2565caae-8b6e-420b-a56a-eab601fd4b55\" xlink:type=\"simple\"><path d=\"M153.86,362.01 C166.19,375.22 182.2,392.38 196.46,407.65 \" fill=\"none\" id=\"E8-&gt;E2\" style=\"stroke: #383838; stroke-width: 1.0;\"/><polygon fill=\"#FFFFFF\" points=\"210.47,422.66,192.3921,413.5393,202.6305,403.9907,210.47,422.66\" style=\"stroke: #383838; stroke-width: 1.0;\"/><ellipse cx=\"189.9671\" cy=\"408.0067\" fill=\"#383838\" rx=\"2\" ry=\"2\" style=\"stroke: #383838; stroke-width: 1.0;\"/><ellipse cx=\"197.2802\" cy=\"401.1863\" fill=\"#383838\" rx=\"2\" ry=\"2\" style=\"stroke: #383838; stroke-width: 1.0;\"/></a><!--MD5=[dc164f5e8a733ab456ef1add180e9e34]\n",
       "reverse link E7 to E8--><a href=\"psysml:b0f7840c-11d7-45e2-a5a4-bf208bef1113\" target=\"_top\" title=\"psysml:b0f7840c-11d7-45e2-a5a4-bf208bef1113\" xlink:actuate=\"onRequest\" xlink:href=\"psysml:b0f7840c-11d7-45e2-a5a4-bf208bef1113\" xlink:show=\"new\" xlink:title=\"psysml:b0f7840c-11d7-45e2-a5a4-bf208bef1113\" xlink:type=\"simple\"><path d=\"M352.67,208.29 C327.33,216.69 298.96,227.44 274.32,240 C231.96,261.6 187.65,294.33 160.26,315.93 \" fill=\"none\" id=\"E7&lt;-E8\" style=\"stroke: #383838; stroke-width: 1.0;\"/><polygon fill=\"#FFFFFF\" points=\"365.22,204.24,358.2818,202.2749,353.7994,207.9236,360.7376,209.8887,365.22,204.24\" style=\"stroke: #383838; stroke-width: 1.0;\"/></a><!--MD5=[5c3bb36fe832a92c7f0e1807dd65209d]\n",
       "link E9 to E2--><a href=\"psysml:a6aa3e55-56ca-44c6-92e8-1089eebb019a\" target=\"_top\" title=\"psysml:a6aa3e55-56ca-44c6-92e8-1089eebb019a\" xlink:actuate=\"onRequest\" xlink:href=\"psysml:a6aa3e55-56ca-44c6-92e8-1089eebb019a\" xlink:show=\"new\" xlink:title=\"psysml:a6aa3e55-56ca-44c6-92e8-1089eebb019a\" xlink:type=\"simple\"><path d=\"M291.19,285.15 C275.57,292.56 260.94,302.55 250.32,316 C231.17,340.25 227.04,375.32 227.36,402.77 \" fill=\"none\" id=\"E9-&gt;E2\" style=\"stroke: #383838; stroke-width: 1.0;\"/><polygon fill=\"#FFFFFF\" points=\"228.36,422.81,220.4186,404.1838,234.4011,403.4837,228.36,422.81\" style=\"stroke: #383838; stroke-width: 1.0;\"/><ellipse cx=\"222.131\" cy=\"398.3909\" fill=\"#383838\" rx=\"2\" ry=\"2\" style=\"stroke: #383838; stroke-width: 1.0;\"/><ellipse cx=\"232.1185\" cy=\"397.8909\" fill=\"#383838\" rx=\"2\" ry=\"2\" style=\"stroke: #383838; stroke-width: 1.0;\"/></a><!--MD5=[9ae28de373ca99bb8a1b38d63370ca7e]\n",
       "reverse link E5 to E9--><a href=\"psysml:9d098c9e-1a7b-415f-a301-c2067e422f2c\" target=\"_top\" title=\"psysml:9d098c9e-1a7b-415f-a301-c2067e422f2c\" xlink:actuate=\"onRequest\" xlink:href=\"psysml:9d098c9e-1a7b-415f-a301-c2067e422f2c\" xlink:show=\"new\" xlink:title=\"psysml:9d098c9e-1a7b-415f-a301-c2067e422f2c\" xlink:type=\"simple\"><path d=\"M416.08,92.77 C447.78,108.48 481.27,131.61 499.32,164 C509.27,181.86 510.51,192.89 499.32,210 C490.86,222.92 478.41,232.65 464.71,239.97 \" fill=\"none\" id=\"E5&lt;-E9\" style=\"stroke: #383838; stroke-width: 1.0;\"/><polygon fill=\"#FFFFFF\" points=\"404.06,87.11,407.7814,93.2867,414.9142,92.2272,411.1928,86.0505,404.06,87.11\" style=\"stroke: #383838; stroke-width: 1.0;\"/></a><!--MD5=[494821b554f50a4489e53c5cec43228b]\n",
       "@startuml\r\n",
       " skinparam monochrome true\r\n",
       "skinparam classbackgroundcolor white\r\n",
       "skinparam shadowing false\r\n",
       "skinparam wrapWidth 300\r\n",
       "hide circle\r\n",
       "\r\n",
       "package \"TradeStudyTest\" as E1  [[psysml:656cfd98-5664-4901-a86b-535977508953 ]]  {\r\n",
       "comp def \"Engine\" as E2  <<(T,blue)part def>> [[psysml:66c87936-3609-4f97-8f24-8ad3882372ee ]] {\r\n",
       "}\r\n",
       "comp usage \"engine1: Engine\" as E3  <<(T,blue)part>> [[psysml:c974a942-078b-4d34-96c1-8ca70902d898 ]] {\r\n",
       "}\r\n",
       "comp usage \"engine2: Engine\" as E4  <<(T,blue)part>> [[psysml:f4d0ec5b-d124-41e4-9ba9-3cb67b695e7c ]] {\r\n",
       "}\r\n",
       "comp usage \"engineTradeStudy: TradeStudy\" as E5 <<analysis>> [[psysml:2fd52497-3b24-4a66-a5d3-d77cdf8b2acf ]] {\r\n",
       "}\r\n",
       "comp usage \"tradeStudyObjective: MaximizeObjective\" as E6  <<(T,blue)requirement>> [[psysml:2c27f52f-f536-4fc6-bf8d-fd6e3fd13c39 ]] {\r\n",
       "}\r\n",
       "comp usage \"objectiveFunction\" as E7  <<(T,blue)calculation>> [[psysml:7b858bf3-8f8c-4105-a0db-0d0783f29576 ]] {\r\n",
       "}\r\n",
       "comp usage \"alternative: Engine\" as E8  <<(T,blue)part>> [[psysml:b0f7840c-11d7-45e2-a5a4-bf208bef1113 ]] {\r\n",
       "}\r\n",
       "comp usage \"selectedAlternative: Engine\" as E9  <<(T,blue)part>> [[psysml:9d098c9e-1a7b-415f-a301-c2067e422f2c ]] {\r\n",
       "}\r\n",
       "E3 - -:|> E2 [[psysml:6d15a19a-180f-471d-b762-c393731ed9f0 ]] \r\n",
       "E4 - -:|> E2 [[psysml:247dd621-3d2a-4448-8896-ee4a55c37d47 ]] \r\n",
       "E5 ..> E2 [[psysml:21b7132a-f544-4487-a747-91d198ad447d ]] : <<subject>>\r\n",
       "E5 - ->> E6 [[psysml:44ec4945-cc63-4e9d-b8df-7b9a76da0bc7 ]] : <<objective>>\r\n",
       "E5 *- - E7 [[psysml:7b858bf3-8f8c-4105-a0db-0d0783f29576 ]] \r\n",
       "E8 - -:|> E2 [[psysml:2565caae-8b6e-420b-a56a-eab601fd4b55 ]] \r\n",
       "E7 o- - E8 [[psysml:b0f7840c-11d7-45e2-a5a4-bf208bef1113 ]] \r\n",
       "E9 - -:|> E2 [[psysml:a6aa3e55-56ca-44c6-92e8-1089eebb019a ]] \r\n",
       "E5 o- - E9 [[psysml:9d098c9e-1a7b-415f-a301-c2067e422f2c ]] \r\n",
       "}\r\n",
       "@enduml\r\n",
       "\n",
       "PlantUML version 1.2020.13(Sat Jun 13 12:26:38 UTC 2020)\n",
       "(EPL source distribution)\n",
       "Java Runtime: OpenJDK Runtime Environment\n",
       "JVM: OpenJDK 64-Bit Server VM\n",
       "Default Encoding: UTF-8\n",
       "Language: en\n",
       "Country: null\n",
       "--></g></svg>"
      ]
     },
     "execution_count": 2,
     "metadata": {},
     "output_type": "execute_result"
    }
   ],
   "source": [
    "%viz --style=\"COMPTREE\" --view=\"Default\" \"TradeStudyTest\""
   ]
  },
  {
   "cell_type": "code",
   "execution_count": 3,
   "id": "spare-carrier",
   "metadata": {
    "execution": {
     "iopub.execute_input": "2021-03-25T13:19:15.402577Z",
     "iopub.status.busy": "2021-03-25T13:19:15.401669Z",
     "iopub.status.idle": "2021-03-25T13:19:15.664888Z",
     "shell.execute_reply": "2021-03-25T13:19:15.663571Z"
    }
   },
   "outputs": [
    {
     "data": {
      "image/svg+xml": [
       "<?xml version=\"1.0\" encoding=\"UTF-8\" standalone=\"no\"?><svg xmlns=\"http://www.w3.org/2000/svg\" xmlns:xlink=\"http://www.w3.org/1999/xlink\" contentScriptType=\"application/ecmascript\" contentStyleType=\"text/css\" height=\"497px\" preserveAspectRatio=\"none\" style=\"width:556px;height:497px;\" version=\"1.1\" viewBox=\"0 0 556 497\" width=\"556px\" zoomAndPan=\"magnify\"><defs/><g><!--MD5=[fbc87193dbaf4d95561dea2c320d4a47]\n",
       "cluster E1--><a href=\"psysml:656cfd98-5664-4901-a86b-535977508953\" target=\"_top\" title=\"psysml:656cfd98-5664-4901-a86b-535977508953\" xlink:actuate=\"onRequest\" xlink:href=\"psysml:656cfd98-5664-4901-a86b-535977508953\" xlink:show=\"new\" xlink:title=\"psysml:656cfd98-5664-4901-a86b-535977508953\" xlink:type=\"simple\"><polygon fill=\"#FFFFFF\" points=\"18.32,6,150.32,6,157.32,28.2969,534.32,28.2969,534.32,485,18.32,485,18.32,6\" style=\"stroke: #000000; stroke-width: 1.5;\"/><line style=\"stroke: #000000; stroke-width: 1.5;\" x1=\"18.32\" x2=\"157.32\" y1=\"28.2969\" y2=\"28.2969\"/><text fill=\"#000000\" font-family=\"sans-serif\" font-size=\"14\" font-weight=\"bold\" lengthAdjust=\"spacingAndGlyphs\" textLength=\"126\" x=\"22.32\" y=\"20.9951\">TradeStudyTest</text></a><!--MD5=[b4997ac47864f28c2f74865a473b2911]\n",
       "class E2--><a href=\"psysml:66c87936-3609-4f97-8f24-8ad3882372ee\" target=\"_top\" title=\"psysml:66c87936-3609-4f97-8f24-8ad3882372ee\" xlink:actuate=\"onRequest\" xlink:href=\"psysml:66c87936-3609-4f97-8f24-8ad3882372ee\" xlink:show=\"new\" xlink:title=\"psysml:66c87936-3609-4f97-8f24-8ad3882372ee\" xlink:type=\"simple\"><rect fill=\"#FFFFFF\" height=\"45.9375\" id=\"E2\" style=\"stroke: #383838; stroke-width: 1.5;\" width=\"66\" x=\"198.32\" y=\"423\"/><text fill=\"#000000\" font-family=\"sans-serif\" font-size=\"12\" font-style=\"italic\" lengthAdjust=\"spacingAndGlyphs\" textLength=\"64\" x=\"199.32\" y=\"439.1387\">«part def»</text><text fill=\"#000000\" font-family=\"sans-serif\" font-size=\"12\" lengthAdjust=\"spacingAndGlyphs\" textLength=\"43\" x=\"209.82\" y=\"453.1074\">Engine</text><line style=\"stroke: #383838; stroke-width: 1.5;\" x1=\"199.32\" x2=\"263.32\" y1=\"460.9375\" y2=\"460.9375\"/></a><!--MD5=[09b614a08d8cba4a07c9adeb5e0fee81]\n",
       "class E3--><a href=\"psysml:c974a942-078b-4d34-96c1-8ca70902d898\" target=\"_top\" title=\"psysml:c974a942-078b-4d34-96c1-8ca70902d898\" xlink:actuate=\"onRequest\" xlink:href=\"psysml:c974a942-078b-4d34-96c1-8ca70902d898\" xlink:show=\"new\" xlink:title=\"psysml:c974a942-078b-4d34-96c1-8ca70902d898\" xlink:type=\"simple\"><rect fill=\"#FFFFFF\" height=\"45.9375\" id=\"E3\" rx=\"10\" ry=\"10\" style=\"stroke: #383838; stroke-width: 1.5;\" width=\"108\" x=\"410.32\" y=\"316\"/><text fill=\"#000000\" font-family=\"sans-serif\" font-size=\"12\" font-style=\"italic\" lengthAdjust=\"spacingAndGlyphs\" textLength=\"40\" x=\"444.32\" y=\"332.1387\">«part»</text><text fill=\"#000000\" font-family=\"sans-serif\" font-size=\"12\" lengthAdjust=\"spacingAndGlyphs\" textLength=\"102\" x=\"413.32\" y=\"346.1074\">engine1: Engine</text><line style=\"stroke: #383838; stroke-width: 1.5;\" x1=\"411.32\" x2=\"517.32\" y1=\"353.9375\" y2=\"353.9375\"/></a><!--MD5=[ebbe1d658d1005bcc118a6aa81145e00]\n",
       "class E4--><a href=\"psysml:f4d0ec5b-d124-41e4-9ba9-3cb67b695e7c\" target=\"_top\" title=\"psysml:f4d0ec5b-d124-41e4-9ba9-3cb67b695e7c\" xlink:actuate=\"onRequest\" xlink:href=\"psysml:f4d0ec5b-d124-41e4-9ba9-3cb67b695e7c\" xlink:show=\"new\" xlink:title=\"psysml:f4d0ec5b-d124-41e4-9ba9-3cb67b695e7c\" xlink:type=\"simple\"><rect fill=\"#FFFFFF\" height=\"45.9375\" id=\"E4\" rx=\"10\" ry=\"10\" style=\"stroke: #383838; stroke-width: 1.5;\" width=\"108\" x=\"267.32\" y=\"316\"/><text fill=\"#000000\" font-family=\"sans-serif\" font-size=\"12\" font-style=\"italic\" lengthAdjust=\"spacingAndGlyphs\" textLength=\"40\" x=\"301.32\" y=\"332.1387\">«part»</text><text fill=\"#000000\" font-family=\"sans-serif\" font-size=\"12\" lengthAdjust=\"spacingAndGlyphs\" textLength=\"102\" x=\"270.32\" y=\"346.1074\">engine2: Engine</text><line style=\"stroke: #383838; stroke-width: 1.5;\" x1=\"268.32\" x2=\"374.32\" y1=\"353.9375\" y2=\"353.9375\"/></a><!--MD5=[270fce915f116d4de14055a7c1d9a0f3]\n",
       "class E5--><a href=\"psysml:2fd52497-3b24-4a66-a5d3-d77cdf8b2acf\" target=\"_top\" title=\"psysml:2fd52497-3b24-4a66-a5d3-d77cdf8b2acf\" xlink:actuate=\"onRequest\" xlink:href=\"psysml:2fd52497-3b24-4a66-a5d3-d77cdf8b2acf\" xlink:show=\"new\" xlink:title=\"psysml:2fd52497-3b24-4a66-a5d3-d77cdf8b2acf\" xlink:type=\"simple\"><rect fill=\"#FFFFFF\" height=\"45.9375\" id=\"E5\" rx=\"10\" ry=\"10\" style=\"stroke: #383838; stroke-width: 1.5;\" width=\"199\" x=\"239.82\" y=\"41\"/><text fill=\"#000000\" font-family=\"sans-serif\" font-size=\"12\" font-style=\"italic\" lengthAdjust=\"spacingAndGlyphs\" textLength=\"64\" x=\"307.32\" y=\"57.1387\">«analysis»</text><text fill=\"#000000\" font-family=\"sans-serif\" font-size=\"12\" lengthAdjust=\"spacingAndGlyphs\" textLength=\"193\" x=\"242.82\" y=\"71.1074\">engineTradeStudy: TradeStudy</text><line style=\"stroke: #383838; stroke-width: 1.5;\" x1=\"240.82\" x2=\"437.82\" y1=\"78.9375\" y2=\"78.9375\"/></a><!--MD5=[60a26617385b1d2d0262a64233df1f8d]\n",
       "class E6--><a href=\"psysml:2c27f52f-f536-4fc6-bf8d-fd6e3fd13c39\" target=\"_top\" title=\"psysml:2c27f52f-f536-4fc6-bf8d-fd6e3fd13c39\" xlink:actuate=\"onRequest\" xlink:href=\"psysml:2c27f52f-f536-4fc6-bf8d-fd6e3fd13c39\" xlink:show=\"new\" xlink:title=\"psysml:2c27f52f-f536-4fc6-bf8d-fd6e3fd13c39\" xlink:type=\"simple\"><rect fill=\"#FFFFFF\" height=\"45.9375\" id=\"E6\" rx=\"10\" ry=\"10\" style=\"stroke: #383838; stroke-width: 1.5;\" width=\"251\" x=\"78.82\" y=\"164\"/><text fill=\"#000000\" font-family=\"sans-serif\" font-size=\"12\" font-style=\"italic\" lengthAdjust=\"spacingAndGlyphs\" textLength=\"91\" x=\"158.82\" y=\"180.1387\">«requirement»</text><text fill=\"#000000\" font-family=\"sans-serif\" font-size=\"12\" lengthAdjust=\"spacingAndGlyphs\" textLength=\"245\" x=\"81.82\" y=\"194.1074\">tradeStudyObjective: MaximizeObjective</text><line style=\"stroke: #383838; stroke-width: 1.5;\" x1=\"79.82\" x2=\"328.82\" y1=\"201.9375\" y2=\"201.9375\"/></a><!--MD5=[2156ba9850f5573cc1fc38a6a4b2f02b]\n",
       "class E7--><a href=\"psysml:7b858bf3-8f8c-4105-a0db-0d0783f29576\" target=\"_top\" title=\"psysml:7b858bf3-8f8c-4105-a0db-0d0783f29576\" xlink:actuate=\"onRequest\" xlink:href=\"psysml:7b858bf3-8f8c-4105-a0db-0d0783f29576\" xlink:show=\"new\" xlink:title=\"psysml:7b858bf3-8f8c-4105-a0db-0d0783f29576\" xlink:type=\"simple\"><rect fill=\"#FFFFFF\" height=\"45.9375\" id=\"E7\" rx=\"10\" ry=\"10\" style=\"stroke: #383838; stroke-width: 1.5;\" width=\"116\" x=\"365.32\" y=\"164\"/><text fill=\"#000000\" font-family=\"sans-serif\" font-size=\"12\" font-style=\"italic\" lengthAdjust=\"spacingAndGlyphs\" textLength=\"82\" x=\"382.32\" y=\"180.1387\">«calculation»</text><text fill=\"#000000\" font-family=\"sans-serif\" font-size=\"12\" lengthAdjust=\"spacingAndGlyphs\" textLength=\"110\" x=\"368.32\" y=\"194.1074\">objectiveFunction</text><line style=\"stroke: #383838; stroke-width: 1.5;\" x1=\"366.32\" x2=\"480.32\" y1=\"201.9375\" y2=\"201.9375\"/></a><!--MD5=[b9389687b975829384b498ac4b7476b2]\n",
       "class E8--><a href=\"psysml:b0f7840c-11d7-45e2-a5a4-bf208bef1113\" target=\"_top\" title=\"psysml:b0f7840c-11d7-45e2-a5a4-bf208bef1113\" xlink:actuate=\"onRequest\" xlink:href=\"psysml:b0f7840c-11d7-45e2-a5a4-bf208bef1113\" xlink:show=\"new\" xlink:title=\"psysml:b0f7840c-11d7-45e2-a5a4-bf208bef1113\" xlink:type=\"simple\"><rect fill=\"#FFFFFF\" height=\"45.9375\" id=\"E8\" rx=\"10\" ry=\"10\" style=\"stroke: #383838; stroke-width: 1.5;\" width=\"124\" x=\"71.32\" y=\"316\"/><text fill=\"#000000\" font-family=\"sans-serif\" font-size=\"12\" font-style=\"italic\" lengthAdjust=\"spacingAndGlyphs\" textLength=\"40\" x=\"113.32\" y=\"332.1387\">«part»</text><text fill=\"#000000\" font-family=\"sans-serif\" font-size=\"12\" lengthAdjust=\"spacingAndGlyphs\" textLength=\"118\" x=\"74.32\" y=\"346.1074\">alternative: Engine</text><line style=\"stroke: #383838; stroke-width: 1.5;\" x1=\"72.32\" x2=\"194.32\" y1=\"353.9375\" y2=\"353.9375\"/></a><!--MD5=[fd4143e9d270a159db93a4ea2a975926]\n",
       "class E9--><a href=\"psysml:9d098c9e-1a7b-415f-a301-c2067e422f2c\" target=\"_top\" title=\"psysml:9d098c9e-1a7b-415f-a301-c2067e422f2c\" xlink:actuate=\"onRequest\" xlink:href=\"psysml:9d098c9e-1a7b-415f-a301-c2067e422f2c\" xlink:show=\"new\" xlink:title=\"psysml:9d098c9e-1a7b-415f-a301-c2067e422f2c\" xlink:type=\"simple\"><rect fill=\"#FFFFFF\" height=\"45.9375\" id=\"E9\" rx=\"10\" ry=\"10\" style=\"stroke: #383838; stroke-width: 1.5;\" width=\"178\" x=\"291.32\" y=\"240\"/><text fill=\"#000000\" font-family=\"sans-serif\" font-size=\"12\" font-style=\"italic\" lengthAdjust=\"spacingAndGlyphs\" textLength=\"40\" x=\"360.32\" y=\"256.1387\">«part»</text><text fill=\"#000000\" font-family=\"sans-serif\" font-size=\"12\" lengthAdjust=\"spacingAndGlyphs\" textLength=\"172\" x=\"294.32\" y=\"270.1074\">selectedAlternative: Engine</text><line style=\"stroke: #383838; stroke-width: 1.5;\" x1=\"292.32\" x2=\"468.32\" y1=\"277.9375\" y2=\"277.9375\"/></a><!--MD5=[05d275557350bfb9b23a4ef7222b4c39]\n",
       "link E3 to E2--><a href=\"psysml:6d15a19a-180f-471d-b762-c393731ed9f0\" target=\"_top\" title=\"psysml:6d15a19a-180f-471d-b762-c393731ed9f0\" xlink:actuate=\"onRequest\" xlink:href=\"psysml:6d15a19a-180f-471d-b762-c393731ed9f0\" xlink:show=\"new\" xlink:title=\"psysml:6d15a19a-180f-471d-b762-c393731ed9f0\" xlink:type=\"simple\"><path d=\"M415.48,362.01 C376.57,379.54 322.27,404.01 282.71,421.84 \" fill=\"none\" id=\"E3-&gt;E2\" style=\"stroke: #383838; stroke-width: 1.0;\"/><polygon fill=\"#FFFFFF\" points=\"264.34,430.12,278.7866,415.9321,284.5383,428.696,264.34,430.12\" style=\"stroke: #383838; stroke-width: 1.0;\"/><ellipse cx=\"284.805\" cy=\"415.4137\" fill=\"#383838\" rx=\"2\" ry=\"2\" style=\"stroke: #383838; stroke-width: 1.0;\"/><ellipse cx=\"288.9134\" cy=\"424.5308\" fill=\"#383838\" rx=\"2\" ry=\"2\" style=\"stroke: #383838; stroke-width: 1.0;\"/></a><!--MD5=[185131fc0dcab0a4505a2ebe144e961b]\n",
       "link E4 to E2--><a href=\"psysml:247dd621-3d2a-4448-8896-ee4a55c37d47\" target=\"_top\" title=\"psysml:247dd621-3d2a-4448-8896-ee4a55c37d47\" xlink:actuate=\"onRequest\" xlink:href=\"psysml:247dd621-3d2a-4448-8896-ee4a55c37d47\" xlink:show=\"new\" xlink:title=\"psysml:247dd621-3d2a-4448-8896-ee4a55c37d47\" xlink:type=\"simple\"><path d=\"M302.45,362.01 C291.25,375.08 276.74,392.01 263.74,407.17 \" fill=\"none\" id=\"E4-&gt;E2\" style=\"stroke: #383838; stroke-width: 1.0;\"/><polygon fill=\"#FFFFFF\" points=\"250.47,422.66,257.5188,403.678,268.1491,412.7883,250.47,422.66\" style=\"stroke: #383838; stroke-width: 1.0;\"/><ellipse cx=\"262.7466\" cy=\"400.6515\" fill=\"#383838\" rx=\"2\" ry=\"2\" style=\"stroke: #383838; stroke-width: 1.0;\"/><ellipse cx=\"270.3396\" cy=\"407.1588\" fill=\"#383838\" rx=\"2\" ry=\"2\" style=\"stroke: #383838; stroke-width: 1.0;\"/></a><!--MD5=[15ebcb19ae302d9b601edb458606d402]\n",
       "link E5 to E2--><a href=\"psysml:21b7132a-f544-4487-a747-91d198ad447d\" target=\"_top\" title=\"psysml:21b7132a-f544-4487-a747-91d198ad447d\" xlink:actuate=\"onRequest\" xlink:href=\"psysml:21b7132a-f544-4487-a747-91d198ad447d\" xlink:show=\"new\" xlink:title=\"psysml:21b7132a-f544-4487-a747-91d198ad447d\" xlink:type=\"simple\"><path d=\"M239.76,73.22 C177.99,83.96 102.74,108.45 61.32,164 C8.68,234.61 6,287.72 53.32,362 C83.95,410.08 150.5,430.76 192.99,439.32 \" fill=\"none\" id=\"E5-&gt;E2\" style=\"stroke: #383838; stroke-width: 1.0; stroke-dasharray: 7.0,7.0;\"/><polygon fill=\"#383838\" points=\"198.04,440.31,189.9738,434.6588,193.1327,439.3514,188.4401,442.5104,198.04,440.31\" style=\"stroke: #383838; stroke-width: 1.0;\"/><text fill=\"#000000\" font-family=\"sans-serif\" font-size=\"13\" lengthAdjust=\"spacingAndGlyphs\" textLength=\"62\" x=\"24.32\" y=\"267.5669\">«subject»</text></a><!--MD5=[9120cf2e5df3bff93db8f754bbbc09b4]\n",
       "link E5 to E6--><a href=\"psysml:44ec4945-cc63-4e9d-b8df-7b9a76da0bc7\" target=\"_top\" title=\"psysml:44ec4945-cc63-4e9d-b8df-7b9a76da0bc7\" xlink:actuate=\"onRequest\" xlink:href=\"psysml:44ec4945-cc63-4e9d-b8df-7b9a76da0bc7\" xlink:show=\"new\" xlink:title=\"psysml:44ec4945-cc63-4e9d-b8df-7b9a76da0bc7\" xlink:type=\"simple\"><path d=\"M314.56,87.19 C292.2,107.23 259.21,136.8 235.15,158.37 \" fill=\"none\" id=\"E5-&gt;E6\" style=\"stroke: #383838; stroke-width: 1.0;\"/><polygon fill=\"#383838\" points=\"228.92,163.95,236.8786,160.8419,232.8725,156.3752,228.92,163.95\" style=\"stroke: #383838; stroke-width: 1.0;\"/><text fill=\"#000000\" font-family=\"sans-serif\" font-size=\"13\" lengthAdjust=\"spacingAndGlyphs\" textLength=\"73\" x=\"280.32\" y=\"130.0669\">«objective»</text></a><!--MD5=[452b418e7f8a40397a49b8c0a78acc5b]\n",
       "reverse link E5 to E7--><a href=\"psysml:7b858bf3-8f8c-4105-a0db-0d0783f29576\" target=\"_top\" title=\"psysml:7b858bf3-8f8c-4105-a0db-0d0783f29576\" xlink:actuate=\"onRequest\" xlink:href=\"psysml:7b858bf3-8f8c-4105-a0db-0d0783f29576\" xlink:show=\"new\" xlink:title=\"psysml:7b858bf3-8f8c-4105-a0db-0d0783f29576\" xlink:type=\"simple\"><path d=\"M362.14,97.88 C376.71,118.86 395.19,145.48 408.01,163.95 \" fill=\"none\" id=\"E5&lt;-E7\" style=\"stroke: #383838; stroke-width: 1.0;\"/><polygon fill=\"#383838\" points=\"354.73,87.19,354.864,94.3999,361.5708,97.0492,361.4368,89.8393,354.73,87.19\" style=\"stroke: #383838; stroke-width: 1.0;\"/></a><!--MD5=[f1f3f9f2fc535e6147756cb86a7f2e32]\n",
       "link E8 to E2--><a href=\"psysml:2565caae-8b6e-420b-a56a-eab601fd4b55\" target=\"_top\" title=\"psysml:2565caae-8b6e-420b-a56a-eab601fd4b55\" xlink:actuate=\"onRequest\" xlink:href=\"psysml:2565caae-8b6e-420b-a56a-eab601fd4b55\" xlink:show=\"new\" xlink:title=\"psysml:2565caae-8b6e-420b-a56a-eab601fd4b55\" xlink:type=\"simple\"><path d=\"M153.86,362.01 C166.19,375.22 182.2,392.38 196.46,407.65 \" fill=\"none\" id=\"E8-&gt;E2\" style=\"stroke: #383838; stroke-width: 1.0;\"/><polygon fill=\"#FFFFFF\" points=\"210.47,422.66,192.3921,413.5393,202.6305,403.9907,210.47,422.66\" style=\"stroke: #383838; stroke-width: 1.0;\"/><ellipse cx=\"189.9671\" cy=\"408.0067\" fill=\"#383838\" rx=\"2\" ry=\"2\" style=\"stroke: #383838; stroke-width: 1.0;\"/><ellipse cx=\"197.2802\" cy=\"401.1863\" fill=\"#383838\" rx=\"2\" ry=\"2\" style=\"stroke: #383838; stroke-width: 1.0;\"/></a><!--MD5=[dc164f5e8a733ab456ef1add180e9e34]\n",
       "reverse link E7 to E8--><a href=\"psysml:b0f7840c-11d7-45e2-a5a4-bf208bef1113\" target=\"_top\" title=\"psysml:b0f7840c-11d7-45e2-a5a4-bf208bef1113\" xlink:actuate=\"onRequest\" xlink:href=\"psysml:b0f7840c-11d7-45e2-a5a4-bf208bef1113\" xlink:show=\"new\" xlink:title=\"psysml:b0f7840c-11d7-45e2-a5a4-bf208bef1113\" xlink:type=\"simple\"><path d=\"M352.67,208.29 C327.33,216.69 298.96,227.44 274.32,240 C231.96,261.6 187.65,294.33 160.26,315.93 \" fill=\"none\" id=\"E7&lt;-E8\" style=\"stroke: #383838; stroke-width: 1.0;\"/><polygon fill=\"#FFFFFF\" points=\"365.22,204.24,358.2818,202.2749,353.7994,207.9236,360.7376,209.8887,365.22,204.24\" style=\"stroke: #383838; stroke-width: 1.0;\"/></a><!--MD5=[5c3bb36fe832a92c7f0e1807dd65209d]\n",
       "link E9 to E2--><a href=\"psysml:a6aa3e55-56ca-44c6-92e8-1089eebb019a\" target=\"_top\" title=\"psysml:a6aa3e55-56ca-44c6-92e8-1089eebb019a\" xlink:actuate=\"onRequest\" xlink:href=\"psysml:a6aa3e55-56ca-44c6-92e8-1089eebb019a\" xlink:show=\"new\" xlink:title=\"psysml:a6aa3e55-56ca-44c6-92e8-1089eebb019a\" xlink:type=\"simple\"><path d=\"M291.19,285.15 C275.57,292.56 260.94,302.55 250.32,316 C231.17,340.25 227.04,375.32 227.36,402.77 \" fill=\"none\" id=\"E9-&gt;E2\" style=\"stroke: #383838; stroke-width: 1.0;\"/><polygon fill=\"#FFFFFF\" points=\"228.36,422.81,220.4186,404.1838,234.4011,403.4837,228.36,422.81\" style=\"stroke: #383838; stroke-width: 1.0;\"/><ellipse cx=\"222.131\" cy=\"398.3909\" fill=\"#383838\" rx=\"2\" ry=\"2\" style=\"stroke: #383838; stroke-width: 1.0;\"/><ellipse cx=\"232.1185\" cy=\"397.8909\" fill=\"#383838\" rx=\"2\" ry=\"2\" style=\"stroke: #383838; stroke-width: 1.0;\"/></a><!--MD5=[9ae28de373ca99bb8a1b38d63370ca7e]\n",
       "reverse link E5 to E9--><a href=\"psysml:9d098c9e-1a7b-415f-a301-c2067e422f2c\" target=\"_top\" title=\"psysml:9d098c9e-1a7b-415f-a301-c2067e422f2c\" xlink:actuate=\"onRequest\" xlink:href=\"psysml:9d098c9e-1a7b-415f-a301-c2067e422f2c\" xlink:show=\"new\" xlink:title=\"psysml:9d098c9e-1a7b-415f-a301-c2067e422f2c\" xlink:type=\"simple\"><path d=\"M416.08,92.77 C447.78,108.48 481.27,131.61 499.32,164 C509.27,181.86 510.51,192.89 499.32,210 C490.86,222.92 478.41,232.65 464.71,239.97 \" fill=\"none\" id=\"E5&lt;-E9\" style=\"stroke: #383838; stroke-width: 1.0;\"/><polygon fill=\"#FFFFFF\" points=\"404.06,87.11,407.7814,93.2867,414.9142,92.2272,411.1928,86.0505,404.06,87.11\" style=\"stroke: #383838; stroke-width: 1.0;\"/></a><!--MD5=[494821b554f50a4489e53c5cec43228b]\n",
       "@startuml\r\n",
       " skinparam monochrome true\r\n",
       "skinparam classbackgroundcolor white\r\n",
       "skinparam shadowing false\r\n",
       "skinparam wrapWidth 300\r\n",
       "hide circle\r\n",
       "\r\n",
       "package \"TradeStudyTest\" as E1  [[psysml:656cfd98-5664-4901-a86b-535977508953 ]]  {\r\n",
       "comp def \"Engine\" as E2  <<(T,blue)part def>> [[psysml:66c87936-3609-4f97-8f24-8ad3882372ee ]] {\r\n",
       "}\r\n",
       "comp usage \"engine1: Engine\" as E3  <<(T,blue)part>> [[psysml:c974a942-078b-4d34-96c1-8ca70902d898 ]] {\r\n",
       "}\r\n",
       "comp usage \"engine2: Engine\" as E4  <<(T,blue)part>> [[psysml:f4d0ec5b-d124-41e4-9ba9-3cb67b695e7c ]] {\r\n",
       "}\r\n",
       "comp usage \"engineTradeStudy: TradeStudy\" as E5 <<analysis>> [[psysml:2fd52497-3b24-4a66-a5d3-d77cdf8b2acf ]] {\r\n",
       "}\r\n",
       "comp usage \"tradeStudyObjective: MaximizeObjective\" as E6  <<(T,blue)requirement>> [[psysml:2c27f52f-f536-4fc6-bf8d-fd6e3fd13c39 ]] {\r\n",
       "}\r\n",
       "comp usage \"objectiveFunction\" as E7  <<(T,blue)calculation>> [[psysml:7b858bf3-8f8c-4105-a0db-0d0783f29576 ]] {\r\n",
       "}\r\n",
       "comp usage \"alternative: Engine\" as E8  <<(T,blue)part>> [[psysml:b0f7840c-11d7-45e2-a5a4-bf208bef1113 ]] {\r\n",
       "}\r\n",
       "comp usage \"selectedAlternative: Engine\" as E9  <<(T,blue)part>> [[psysml:9d098c9e-1a7b-415f-a301-c2067e422f2c ]] {\r\n",
       "}\r\n",
       "E3 - -:|> E2 [[psysml:6d15a19a-180f-471d-b762-c393731ed9f0 ]] \r\n",
       "E4 - -:|> E2 [[psysml:247dd621-3d2a-4448-8896-ee4a55c37d47 ]] \r\n",
       "E5 ..> E2 [[psysml:21b7132a-f544-4487-a747-91d198ad447d ]] : <<subject>>\r\n",
       "E5 - ->> E6 [[psysml:44ec4945-cc63-4e9d-b8df-7b9a76da0bc7 ]] : <<objective>>\r\n",
       "E5 *- - E7 [[psysml:7b858bf3-8f8c-4105-a0db-0d0783f29576 ]] \r\n",
       "E8 - -:|> E2 [[psysml:2565caae-8b6e-420b-a56a-eab601fd4b55 ]] \r\n",
       "E7 o- - E8 [[psysml:b0f7840c-11d7-45e2-a5a4-bf208bef1113 ]] \r\n",
       "E9 - -:|> E2 [[psysml:a6aa3e55-56ca-44c6-92e8-1089eebb019a ]] \r\n",
       "E5 o- - E9 [[psysml:9d098c9e-1a7b-415f-a301-c2067e422f2c ]] \r\n",
       "}\r\n",
       "@enduml\r\n",
       "\n",
       "PlantUML version 1.2020.13(Sat Jun 13 12:26:38 UTC 2020)\n",
       "(EPL source distribution)\n",
       "Java Runtime: OpenJDK Runtime Environment\n",
       "JVM: OpenJDK 64-Bit Server VM\n",
       "Default Encoding: UTF-8\n",
       "Language: en\n",
       "Country: null\n",
       "--></g></svg>"
      ]
     },
     "execution_count": 3,
     "metadata": {},
     "output_type": "execute_result"
    }
   ],
   "source": [
    "%viz --style=\"COMPTREE\" --view=\"Tree\" \"TradeStudyTest\""
   ]
  },
  {
   "cell_type": "code",
   "execution_count": 4,
   "id": "ranging-click",
   "metadata": {
    "execution": {
     "iopub.execute_input": "2021-03-25T13:19:15.718610Z",
     "iopub.status.busy": "2021-03-25T13:19:15.716593Z",
     "iopub.status.idle": "2021-03-25T13:19:15.748518Z",
     "shell.execute_reply": "2021-03-25T13:19:15.748090Z"
    }
   },
   "outputs": [
    {
     "data": {
      "image/svg+xml": [
       "<?xml version=\"1.0\" encoding=\"UTF-8\" standalone=\"no\"?><svg xmlns=\"http://www.w3.org/2000/svg\" xmlns:xlink=\"http://www.w3.org/1999/xlink\" contentScriptType=\"application/ecmascript\" contentStyleType=\"text/css\" height=\"12px\" preserveAspectRatio=\"none\" style=\"width:12px;height:12px;\" version=\"1.1\" viewBox=\"0 0 12 12\" width=\"12px\" zoomAndPan=\"magnify\"><defs/><g><!--MD5=[f19188ef49e11757b5c46753f95d9edc]\n",
       "@startuml\r\n",
       " skinparam monochrome true\r\n",
       "skinparam classbackgroundcolor white\r\n",
       "skinparam shadowing false\r\n",
       "skinparam wrapWidth 300\r\n",
       "hide circle\r\n",
       "\r\n",
       "@enduml\r\n",
       "\n",
       "PlantUML version 1.2020.13(Sat Jun 13 12:26:38 UTC 2020)\n",
       "(EPL source distribution)\n",
       "Java Runtime: OpenJDK Runtime Environment\n",
       "JVM: OpenJDK 64-Bit Server VM\n",
       "Default Encoding: UTF-8\n",
       "Language: en\n",
       "Country: null\n",
       "--></g></svg>"
      ]
     },
     "execution_count": 4,
     "metadata": {},
     "output_type": "execute_result"
    }
   ],
   "source": [
    "%viz --style=\"COMPTREE\" --view=\"State\" \"TradeStudyTest\""
   ]
  },
  {
   "cell_type": "code",
   "execution_count": 5,
   "id": "hungry-runner",
   "metadata": {
    "execution": {
     "iopub.execute_input": "2021-03-25T13:19:15.805804Z",
     "iopub.status.busy": "2021-03-25T13:19:15.805338Z",
     "iopub.status.idle": "2021-03-25T13:19:15.904920Z",
     "shell.execute_reply": "2021-03-25T13:19:15.902094Z"
    }
   },
   "outputs": [
    {
     "data": {
      "image/svg+xml": [
       "<?xml version=\"1.0\" encoding=\"UTF-8\" standalone=\"no\"?><svg xmlns=\"http://www.w3.org/2000/svg\" xmlns:xlink=\"http://www.w3.org/1999/xlink\" contentScriptType=\"application/ecmascript\" contentStyleType=\"text/css\" height=\"112px\" preserveAspectRatio=\"none\" style=\"width:438px;height:112px;\" version=\"1.1\" viewBox=\"0 0 438 112\" width=\"438px\" zoomAndPan=\"magnify\"><defs/><g><!--MD5=[fbc87193dbaf4d95561dea2c320d4a47]\n",
       "cluster E1--><a href=\"psysml:656cfd98-5664-4901-a86b-535977508953\" target=\"_top\" title=\"psysml:656cfd98-5664-4901-a86b-535977508953\" xlink:actuate=\"onRequest\" xlink:href=\"psysml:656cfd98-5664-4901-a86b-535977508953\" xlink:show=\"new\" xlink:title=\"psysml:656cfd98-5664-4901-a86b-535977508953\" xlink:type=\"simple\"><polygon fill=\"#FFFFFF\" points=\"16,6,148,6,155,28.2969,416,28.2969,416,100,16,100,16,6\" style=\"stroke: #000000; stroke-width: 1.5;\"/><line style=\"stroke: #000000; stroke-width: 1.5;\" x1=\"16\" x2=\"155\" y1=\"28.2969\" y2=\"28.2969\"/><text fill=\"#000000\" font-family=\"sans-serif\" font-size=\"14\" font-weight=\"bold\" lengthAdjust=\"spacingAndGlyphs\" textLength=\"126\" x=\"20\" y=\"20.9951\">TradeStudyTest</text></a><g id=\"E1.E2\"><a href=\"psysml:66c87936-3609-4f97-8f24-8ad3882372ee\" target=\"_top\" title=\"psysml:66c87936-3609-4f97-8f24-8ad3882372ee\" xlink:actuate=\"onRequest\" xlink:href=\"psysml:66c87936-3609-4f97-8f24-8ad3882372ee\" xlink:show=\"new\" xlink:title=\"psysml:66c87936-3609-4f97-8f24-8ad3882372ee\" xlink:type=\"simple\"><rect fill=\"#FFFFFF\" height=\"42.9375\" id=\"E2\" style=\"stroke: #383838; stroke-width: 1.5;\" width=\"71\" x=\"328.5\" y=\"41\"/><rect fill=\"#F8F8F8\" height=\"37.9375\" style=\"stroke: #383838; stroke-width: 1.5;\" width=\"71\" x=\"328.5\" y=\"41\"/><text fill=\"#000000\" font-family=\"sans-serif\" font-size=\"12\" font-style=\"italic\" lengthAdjust=\"spacingAndGlyphs\" textLength=\"64\" x=\"332\" y=\"57.1387\">«part def»</text><text fill=\"#000000\" font-family=\"sans-serif\" font-size=\"12\" lengthAdjust=\"spacingAndGlyphs\" textLength=\"43\" x=\"342.5\" y=\"71.1074\">Engine</text></a></g><g id=\"E1.E3\"><a href=\"psysml:c974a942-078b-4d34-96c1-8ca70902d898\" target=\"_top\" title=\"psysml:c974a942-078b-4d34-96c1-8ca70902d898\" xlink:actuate=\"onRequest\" xlink:href=\"psysml:c974a942-078b-4d34-96c1-8ca70902d898\" xlink:show=\"new\" xlink:title=\"psysml:c974a942-078b-4d34-96c1-8ca70902d898\" xlink:type=\"simple\"><rect fill=\"#FFFFFF\" height=\"40\" id=\"E3\" rx=\"10\" ry=\"10\" style=\"stroke: #383838; stroke-width: 1.5;\" width=\"113\" x=\"180.5\" y=\"42.5\"/><rect fill=\"#F8F8F8\" height=\"23.9688\" rx=\"10\" ry=\"10\" style=\"stroke: #F8F8F8; stroke-width: 1.5;\" width=\"113\" x=\"180.5\" y=\"42.5\"/><rect fill=\"#F8F8F8\" height=\"10\" style=\"stroke: #F8F8F8; stroke-width: 1.5;\" width=\"113\" x=\"180.5\" y=\"56.4688\"/><rect fill=\"none\" height=\"40\" id=\"E3\" rx=\"10\" ry=\"10\" style=\"stroke: #383838; stroke-width: 1.5;\" width=\"113\" x=\"180.5\" y=\"42.5\"/><text fill=\"#000000\" font-family=\"sans-serif\" font-size=\"12\" lengthAdjust=\"spacingAndGlyphs\" textLength=\"102\" x=\"186\" y=\"58.6387\">engine1: Engine</text></a></g><g id=\"E1.E4\"><a href=\"psysml:f4d0ec5b-d124-41e4-9ba9-3cb67b695e7c\" target=\"_top\" title=\"psysml:f4d0ec5b-d124-41e4-9ba9-3cb67b695e7c\" xlink:actuate=\"onRequest\" xlink:href=\"psysml:f4d0ec5b-d124-41e4-9ba9-3cb67b695e7c\" xlink:show=\"new\" xlink:title=\"psysml:f4d0ec5b-d124-41e4-9ba9-3cb67b695e7c\" xlink:type=\"simple\"><rect fill=\"#FFFFFF\" height=\"40\" id=\"E4\" rx=\"10\" ry=\"10\" style=\"stroke: #383838; stroke-width: 1.5;\" width=\"113\" x=\"32.5\" y=\"42.5\"/><rect fill=\"#F8F8F8\" height=\"23.9688\" rx=\"10\" ry=\"10\" style=\"stroke: #F8F8F8; stroke-width: 1.5;\" width=\"113\" x=\"32.5\" y=\"42.5\"/><rect fill=\"#F8F8F8\" height=\"10\" style=\"stroke: #F8F8F8; stroke-width: 1.5;\" width=\"113\" x=\"32.5\" y=\"56.4688\"/><rect fill=\"none\" height=\"40\" id=\"E4\" rx=\"10\" ry=\"10\" style=\"stroke: #383838; stroke-width: 1.5;\" width=\"113\" x=\"32.5\" y=\"42.5\"/><text fill=\"#000000\" font-family=\"sans-serif\" font-size=\"12\" lengthAdjust=\"spacingAndGlyphs\" textLength=\"102\" x=\"38\" y=\"58.6387\">engine2: Engine</text></a></g><!--MD5=[3dc3977ab7ff42638bbb8b52a04f0e6c]\n",
       "@startuml\r\n",
       "skinparam ranksep 8\r\n",
       "skinparam rectangle {\r\n",
       " backgroundColor<<block>> LightGreen\r\n",
       "}\r\n",
       " skinparam monochrome true\r\n",
       "skinparam classbackgroundcolor white\r\n",
       "skinparam shadowing false\r\n",
       "skinparam wrapWidth 300\r\n",
       "hide circle\r\n",
       "\r\n",
       "package \"TradeStudyTest\" as E1  [[psysml:656cfd98-5664-4901-a86b-535977508953 ]]  {\r\n",
       "rec def \"Engine\" as E2  <<(T,blue)part def>> [[psysml:66c87936-3609-4f97-8f24-8ad3882372ee ]] {\r\n",
       "}\r\n",
       "rec usage \"engine1: Engine\" as E3  [[psysml:c974a942-078b-4d34-96c1-8ca70902d898 ]] {\r\n",
       "}\r\n",
       "rec usage \"engine2: Engine\" as E4  [[psysml:f4d0ec5b-d124-41e4-9ba9-3cb67b695e7c ]] {\r\n",
       "}\r\n",
       "}\r\n",
       "@enduml\r\n",
       "\n",
       "PlantUML version 1.2020.13(Sat Jun 13 12:26:38 UTC 2020)\n",
       "(EPL source distribution)\n",
       "Java Runtime: OpenJDK Runtime Environment\n",
       "JVM: OpenJDK 64-Bit Server VM\n",
       "Default Encoding: UTF-8\n",
       "Language: en\n",
       "Country: null\n",
       "--></g></svg>"
      ]
     },
     "execution_count": 5,
     "metadata": {},
     "output_type": "execute_result"
    }
   ],
   "source": [
    "%viz --style=\"COMPTREE\" --view=\"Interconnection\" \"TradeStudyTest\""
   ]
  },
  {
   "cell_type": "code",
   "execution_count": 6,
   "id": "eleven-latter",
   "metadata": {
    "execution": {
     "iopub.execute_input": "2021-03-25T13:19:15.955637Z",
     "iopub.status.busy": "2021-03-25T13:19:15.954909Z",
     "iopub.status.idle": "2021-03-25T13:19:16.084027Z",
     "shell.execute_reply": "2021-03-25T13:19:16.084781Z"
    }
   },
   "outputs": [
    {
     "data": {
      "image/svg+xml": [
       "<?xml version=\"1.0\" encoding=\"UTF-8\" standalone=\"no\"?><svg xmlns=\"http://www.w3.org/2000/svg\" xmlns:xlink=\"http://www.w3.org/1999/xlink\" contentScriptType=\"application/ecmascript\" contentStyleType=\"text/css\" height=\"128px\" preserveAspectRatio=\"none\" style=\"width:180px;height:128px;\" version=\"1.1\" viewBox=\"0 0 180 128\" width=\"180px\" zoomAndPan=\"magnify\"><defs/><g><!--MD5=[fbc87193dbaf4d95561dea2c320d4a47]\n",
       "cluster E1--><a href=\"psysml:2fd52497-3b24-4a66-a5d3-d77cdf8b2acf\" target=\"_top\" title=\"psysml:2fd52497-3b24-4a66-a5d3-d77cdf8b2acf\" xlink:actuate=\"onRequest\" xlink:href=\"psysml:2fd52497-3b24-4a66-a5d3-d77cdf8b2acf\" xlink:show=\"new\" xlink:title=\"psysml:2fd52497-3b24-4a66-a5d3-d77cdf8b2acf\" xlink:type=\"simple\"><rect fill=\"#FFFFFF\" height=\"110\" id=\"E1\" rx=\"10\" ry=\"10\" style=\"stroke: #383838; stroke-width: 1.5;\" width=\"161\" x=\"7\" y=\"7\"/><rect fill=\"#F8F8F8\" height=\"37.9375\" rx=\"10\" ry=\"10\" style=\"stroke: #F8F8F8; stroke-width: 1.5;\" width=\"161\" x=\"7\" y=\"7\"/><rect fill=\"#F8F8F8\" height=\"10\" style=\"stroke: #F8F8F8; stroke-width: 1.5;\" width=\"161\" x=\"7\" y=\"34.9375\"/><rect fill=\"none\" height=\"110\" id=\"E1\" rx=\"10\" ry=\"10\" style=\"stroke: #383838; stroke-width: 1.5;\" width=\"161\" x=\"7\" y=\"7\"/><text fill=\"#000000\" font-family=\"sans-serif\" font-size=\"12\" font-style=\"italic\" lengthAdjust=\"spacingAndGlyphs\" textLength=\"64\" x=\"55.5\" y=\"23.1387\">«analysis»</text><text fill=\"#000000\" font-family=\"sans-serif\" font-size=\"12\" lengthAdjust=\"spacingAndGlyphs\" textLength=\"114\" x=\"30.5\" y=\"37.1074\">engineTradeStudy</text><line style=\"stroke: #383838; stroke-width: 1.0;\" x1=\"7\" x2=\"168\" y1=\"44.9375\" y2=\"44.9375\"/></a><g id=\"E1.E2\"><a href=\"psysml:7b858bf3-8f8c-4105-a0db-0d0783f29576\" target=\"_top\" title=\"psysml:7b858bf3-8f8c-4105-a0db-0d0783f29576\" xlink:actuate=\"onRequest\" xlink:href=\"psysml:7b858bf3-8f8c-4105-a0db-0d0783f29576\" xlink:show=\"new\" xlink:title=\"psysml:7b858bf3-8f8c-4105-a0db-0d0783f29576\" xlink:type=\"simple\"><rect fill=\"#FFFFFF\" height=\"42.9375\" id=\"E2\" rx=\"10\" ry=\"10\" style=\"stroke: #383838; stroke-width: 1.5;\" width=\"121\" x=\"26.5\" y=\"58\"/><rect fill=\"#F8F8F8\" height=\"37.9375\" rx=\"10\" ry=\"10\" style=\"stroke: #F8F8F8; stroke-width: 1.5;\" width=\"121\" x=\"26.5\" y=\"58\"/><rect fill=\"#F8F8F8\" height=\"10\" style=\"stroke: #F8F8F8; stroke-width: 1.5;\" width=\"121\" x=\"26.5\" y=\"85.9375\"/><rect fill=\"none\" height=\"42.9375\" id=\"E2\" rx=\"10\" ry=\"10\" style=\"stroke: #383838; stroke-width: 1.5;\" width=\"121\" x=\"26.5\" y=\"58\"/><text fill=\"#000000\" font-family=\"sans-serif\" font-size=\"12\" font-style=\"italic\" lengthAdjust=\"spacingAndGlyphs\" textLength=\"82\" x=\"46\" y=\"74.1387\">«calculation»</text><text fill=\"#000000\" font-family=\"sans-serif\" font-size=\"12\" lengthAdjust=\"spacingAndGlyphs\" textLength=\"110\" x=\"32\" y=\"88.1074\">objectiveFunction</text></a></g><!--MD5=[c7b6057298ce199d17fb7ca19334dae8]\n",
       "@startuml\r\n",
       "skinparam ranksep 8\r\n",
       " skinparam monochrome true\r\n",
       "skinparam classbackgroundcolor white\r\n",
       "skinparam shadowing false\r\n",
       "skinparam wrapWidth 300\r\n",
       "hide circle\r\n",
       "\r\n",
       "rec usage \"engineTradeStudy\" as E1 <<analysis>> [[psysml:2fd52497-3b24-4a66-a5d3-d77cdf8b2acf ]] {\r\n",
       "rec usage \"objectiveFunction\" as E2  <<(T,blue)calculation>> [[psysml:7b858bf3-8f8c-4105-a0db-0d0783f29576 ]] {\r\n",
       "}\r\n",
       "\r\n",
       "}\r\n",
       "\r\n",
       "@enduml\r\n",
       "\n",
       "PlantUML version 1.2020.13(Sat Jun 13 12:26:38 UTC 2020)\n",
       "(EPL source distribution)\n",
       "Java Runtime: OpenJDK Runtime Environment\n",
       "JVM: OpenJDK 64-Bit Server VM\n",
       "Default Encoding: UTF-8\n",
       "Language: en\n",
       "Country: null\n",
       "--></g></svg>"
      ]
     },
     "execution_count": 6,
     "metadata": {},
     "output_type": "execute_result"
    }
   ],
   "source": [
    "%viz --style=\"COMPTREE\" --view=\"Action\" \"TradeStudyTest\""
   ]
  },
  {
   "cell_type": "code",
   "execution_count": 7,
   "id": "owned-indicator",
   "metadata": {
    "execution": {
     "iopub.execute_input": "2021-03-25T13:19:16.135865Z",
     "iopub.status.busy": "2021-03-25T13:19:16.135077Z",
     "iopub.status.idle": "2021-03-25T13:19:16.407844Z",
     "shell.execute_reply": "2021-03-25T13:19:16.408499Z"
    }
   },
   "outputs": [
    {
     "data": {
      "image/svg+xml": [
       "<?xml version=\"1.0\" encoding=\"UTF-8\" standalone=\"no\"?><svg xmlns=\"http://www.w3.org/2000/svg\" xmlns:xlink=\"http://www.w3.org/1999/xlink\" contentScriptType=\"application/ecmascript\" contentStyleType=\"text/css\" height=\"497px\" preserveAspectRatio=\"none\" style=\"width:556px;height:497px;\" version=\"1.1\" viewBox=\"0 0 556 497\" width=\"556px\" zoomAndPan=\"magnify\"><defs/><g><!--MD5=[fbc87193dbaf4d95561dea2c320d4a47]\n",
       "cluster E1--><a href=\"psysml:656cfd98-5664-4901-a86b-535977508953\" target=\"_top\" title=\"psysml:656cfd98-5664-4901-a86b-535977508953\" xlink:actuate=\"onRequest\" xlink:href=\"psysml:656cfd98-5664-4901-a86b-535977508953\" xlink:show=\"new\" xlink:title=\"psysml:656cfd98-5664-4901-a86b-535977508953\" xlink:type=\"simple\"><polygon fill=\"#FFFFFF\" points=\"18.32,6,150.32,6,157.32,28.2969,534.32,28.2969,534.32,485,18.32,485,18.32,6\" style=\"stroke: #000000; stroke-width: 1.5;\"/><line style=\"stroke: #000000; stroke-width: 1.5;\" x1=\"18.32\" x2=\"157.32\" y1=\"28.2969\" y2=\"28.2969\"/><text fill=\"#000000\" font-family=\"sans-serif\" font-size=\"14\" font-weight=\"bold\" lengthAdjust=\"spacingAndGlyphs\" textLength=\"126\" x=\"22.32\" y=\"20.9951\">TradeStudyTest</text></a><!--MD5=[b4997ac47864f28c2f74865a473b2911]\n",
       "class E2--><a href=\"psysml:66c87936-3609-4f97-8f24-8ad3882372ee\" target=\"_top\" title=\"psysml:66c87936-3609-4f97-8f24-8ad3882372ee\" xlink:actuate=\"onRequest\" xlink:href=\"psysml:66c87936-3609-4f97-8f24-8ad3882372ee\" xlink:show=\"new\" xlink:title=\"psysml:66c87936-3609-4f97-8f24-8ad3882372ee\" xlink:type=\"simple\"><rect fill=\"#FFFFFF\" height=\"45.9375\" id=\"E2\" style=\"stroke: #383838; stroke-width: 1.5;\" width=\"66\" x=\"198.32\" y=\"423\"/><text fill=\"#000000\" font-family=\"sans-serif\" font-size=\"12\" font-style=\"italic\" lengthAdjust=\"spacingAndGlyphs\" textLength=\"64\" x=\"199.32\" y=\"439.1387\">«part def»</text><text fill=\"#000000\" font-family=\"sans-serif\" font-size=\"12\" lengthAdjust=\"spacingAndGlyphs\" textLength=\"43\" x=\"209.82\" y=\"453.1074\">Engine</text><line style=\"stroke: #383838; stroke-width: 1.5;\" x1=\"199.32\" x2=\"263.32\" y1=\"460.9375\" y2=\"460.9375\"/></a><!--MD5=[09b614a08d8cba4a07c9adeb5e0fee81]\n",
       "class E3--><a href=\"psysml:c974a942-078b-4d34-96c1-8ca70902d898\" target=\"_top\" title=\"psysml:c974a942-078b-4d34-96c1-8ca70902d898\" xlink:actuate=\"onRequest\" xlink:href=\"psysml:c974a942-078b-4d34-96c1-8ca70902d898\" xlink:show=\"new\" xlink:title=\"psysml:c974a942-078b-4d34-96c1-8ca70902d898\" xlink:type=\"simple\"><rect fill=\"#FFFFFF\" height=\"45.9375\" id=\"E3\" rx=\"10\" ry=\"10\" style=\"stroke: #383838; stroke-width: 1.5;\" width=\"108\" x=\"410.32\" y=\"316\"/><text fill=\"#000000\" font-family=\"sans-serif\" font-size=\"12\" font-style=\"italic\" lengthAdjust=\"spacingAndGlyphs\" textLength=\"40\" x=\"444.32\" y=\"332.1387\">«part»</text><text fill=\"#000000\" font-family=\"sans-serif\" font-size=\"12\" lengthAdjust=\"spacingAndGlyphs\" textLength=\"102\" x=\"413.32\" y=\"346.1074\">engine1: Engine</text><line style=\"stroke: #383838; stroke-width: 1.5;\" x1=\"411.32\" x2=\"517.32\" y1=\"353.9375\" y2=\"353.9375\"/></a><!--MD5=[ebbe1d658d1005bcc118a6aa81145e00]\n",
       "class E4--><a href=\"psysml:f4d0ec5b-d124-41e4-9ba9-3cb67b695e7c\" target=\"_top\" title=\"psysml:f4d0ec5b-d124-41e4-9ba9-3cb67b695e7c\" xlink:actuate=\"onRequest\" xlink:href=\"psysml:f4d0ec5b-d124-41e4-9ba9-3cb67b695e7c\" xlink:show=\"new\" xlink:title=\"psysml:f4d0ec5b-d124-41e4-9ba9-3cb67b695e7c\" xlink:type=\"simple\"><rect fill=\"#FFFFFF\" height=\"45.9375\" id=\"E4\" rx=\"10\" ry=\"10\" style=\"stroke: #383838; stroke-width: 1.5;\" width=\"108\" x=\"267.32\" y=\"316\"/><text fill=\"#000000\" font-family=\"sans-serif\" font-size=\"12\" font-style=\"italic\" lengthAdjust=\"spacingAndGlyphs\" textLength=\"40\" x=\"301.32\" y=\"332.1387\">«part»</text><text fill=\"#000000\" font-family=\"sans-serif\" font-size=\"12\" lengthAdjust=\"spacingAndGlyphs\" textLength=\"102\" x=\"270.32\" y=\"346.1074\">engine2: Engine</text><line style=\"stroke: #383838; stroke-width: 1.5;\" x1=\"268.32\" x2=\"374.32\" y1=\"353.9375\" y2=\"353.9375\"/></a><!--MD5=[270fce915f116d4de14055a7c1d9a0f3]\n",
       "class E5--><a href=\"psysml:2fd52497-3b24-4a66-a5d3-d77cdf8b2acf\" target=\"_top\" title=\"psysml:2fd52497-3b24-4a66-a5d3-d77cdf8b2acf\" xlink:actuate=\"onRequest\" xlink:href=\"psysml:2fd52497-3b24-4a66-a5d3-d77cdf8b2acf\" xlink:show=\"new\" xlink:title=\"psysml:2fd52497-3b24-4a66-a5d3-d77cdf8b2acf\" xlink:type=\"simple\"><rect fill=\"#FFFFFF\" height=\"45.9375\" id=\"E5\" rx=\"10\" ry=\"10\" style=\"stroke: #383838; stroke-width: 1.5;\" width=\"199\" x=\"239.82\" y=\"41\"/><text fill=\"#000000\" font-family=\"sans-serif\" font-size=\"12\" font-style=\"italic\" lengthAdjust=\"spacingAndGlyphs\" textLength=\"64\" x=\"307.32\" y=\"57.1387\">«analysis»</text><text fill=\"#000000\" font-family=\"sans-serif\" font-size=\"12\" lengthAdjust=\"spacingAndGlyphs\" textLength=\"193\" x=\"242.82\" y=\"71.1074\">engineTradeStudy: TradeStudy</text><line style=\"stroke: #383838; stroke-width: 1.5;\" x1=\"240.82\" x2=\"437.82\" y1=\"78.9375\" y2=\"78.9375\"/></a><!--MD5=[60a26617385b1d2d0262a64233df1f8d]\n",
       "class E6--><a href=\"psysml:2c27f52f-f536-4fc6-bf8d-fd6e3fd13c39\" target=\"_top\" title=\"psysml:2c27f52f-f536-4fc6-bf8d-fd6e3fd13c39\" xlink:actuate=\"onRequest\" xlink:href=\"psysml:2c27f52f-f536-4fc6-bf8d-fd6e3fd13c39\" xlink:show=\"new\" xlink:title=\"psysml:2c27f52f-f536-4fc6-bf8d-fd6e3fd13c39\" xlink:type=\"simple\"><rect fill=\"#FFFFFF\" height=\"45.9375\" id=\"E6\" rx=\"10\" ry=\"10\" style=\"stroke: #383838; stroke-width: 1.5;\" width=\"251\" x=\"78.82\" y=\"164\"/><text fill=\"#000000\" font-family=\"sans-serif\" font-size=\"12\" font-style=\"italic\" lengthAdjust=\"spacingAndGlyphs\" textLength=\"91\" x=\"158.82\" y=\"180.1387\">«requirement»</text><text fill=\"#000000\" font-family=\"sans-serif\" font-size=\"12\" lengthAdjust=\"spacingAndGlyphs\" textLength=\"245\" x=\"81.82\" y=\"194.1074\">tradeStudyObjective: MaximizeObjective</text><line style=\"stroke: #383838; stroke-width: 1.5;\" x1=\"79.82\" x2=\"328.82\" y1=\"201.9375\" y2=\"201.9375\"/></a><!--MD5=[2156ba9850f5573cc1fc38a6a4b2f02b]\n",
       "class E7--><a href=\"psysml:7b858bf3-8f8c-4105-a0db-0d0783f29576\" target=\"_top\" title=\"psysml:7b858bf3-8f8c-4105-a0db-0d0783f29576\" xlink:actuate=\"onRequest\" xlink:href=\"psysml:7b858bf3-8f8c-4105-a0db-0d0783f29576\" xlink:show=\"new\" xlink:title=\"psysml:7b858bf3-8f8c-4105-a0db-0d0783f29576\" xlink:type=\"simple\"><rect fill=\"#FFFFFF\" height=\"45.9375\" id=\"E7\" rx=\"10\" ry=\"10\" style=\"stroke: #383838; stroke-width: 1.5;\" width=\"116\" x=\"365.32\" y=\"164\"/><text fill=\"#000000\" font-family=\"sans-serif\" font-size=\"12\" font-style=\"italic\" lengthAdjust=\"spacingAndGlyphs\" textLength=\"82\" x=\"382.32\" y=\"180.1387\">«calculation»</text><text fill=\"#000000\" font-family=\"sans-serif\" font-size=\"12\" lengthAdjust=\"spacingAndGlyphs\" textLength=\"110\" x=\"368.32\" y=\"194.1074\">objectiveFunction</text><line style=\"stroke: #383838; stroke-width: 1.5;\" x1=\"366.32\" x2=\"480.32\" y1=\"201.9375\" y2=\"201.9375\"/></a><!--MD5=[b9389687b975829384b498ac4b7476b2]\n",
       "class E8--><a href=\"psysml:b0f7840c-11d7-45e2-a5a4-bf208bef1113\" target=\"_top\" title=\"psysml:b0f7840c-11d7-45e2-a5a4-bf208bef1113\" xlink:actuate=\"onRequest\" xlink:href=\"psysml:b0f7840c-11d7-45e2-a5a4-bf208bef1113\" xlink:show=\"new\" xlink:title=\"psysml:b0f7840c-11d7-45e2-a5a4-bf208bef1113\" xlink:type=\"simple\"><rect fill=\"#FFFFFF\" height=\"45.9375\" id=\"E8\" rx=\"10\" ry=\"10\" style=\"stroke: #383838; stroke-width: 1.5;\" width=\"124\" x=\"71.32\" y=\"316\"/><text fill=\"#000000\" font-family=\"sans-serif\" font-size=\"12\" font-style=\"italic\" lengthAdjust=\"spacingAndGlyphs\" textLength=\"40\" x=\"113.32\" y=\"332.1387\">«part»</text><text fill=\"#000000\" font-family=\"sans-serif\" font-size=\"12\" lengthAdjust=\"spacingAndGlyphs\" textLength=\"118\" x=\"74.32\" y=\"346.1074\">alternative: Engine</text><line style=\"stroke: #383838; stroke-width: 1.5;\" x1=\"72.32\" x2=\"194.32\" y1=\"353.9375\" y2=\"353.9375\"/></a><!--MD5=[fd4143e9d270a159db93a4ea2a975926]\n",
       "class E9--><a href=\"psysml:9d098c9e-1a7b-415f-a301-c2067e422f2c\" target=\"_top\" title=\"psysml:9d098c9e-1a7b-415f-a301-c2067e422f2c\" xlink:actuate=\"onRequest\" xlink:href=\"psysml:9d098c9e-1a7b-415f-a301-c2067e422f2c\" xlink:show=\"new\" xlink:title=\"psysml:9d098c9e-1a7b-415f-a301-c2067e422f2c\" xlink:type=\"simple\"><rect fill=\"#FFFFFF\" height=\"45.9375\" id=\"E9\" rx=\"10\" ry=\"10\" style=\"stroke: #383838; stroke-width: 1.5;\" width=\"178\" x=\"291.32\" y=\"240\"/><text fill=\"#000000\" font-family=\"sans-serif\" font-size=\"12\" font-style=\"italic\" lengthAdjust=\"spacingAndGlyphs\" textLength=\"40\" x=\"360.32\" y=\"256.1387\">«part»</text><text fill=\"#000000\" font-family=\"sans-serif\" font-size=\"12\" lengthAdjust=\"spacingAndGlyphs\" textLength=\"172\" x=\"294.32\" y=\"270.1074\">selectedAlternative: Engine</text><line style=\"stroke: #383838; stroke-width: 1.5;\" x1=\"292.32\" x2=\"468.32\" y1=\"277.9375\" y2=\"277.9375\"/></a><!--MD5=[05d275557350bfb9b23a4ef7222b4c39]\n",
       "link E3 to E2--><a href=\"psysml:6d15a19a-180f-471d-b762-c393731ed9f0\" target=\"_top\" title=\"psysml:6d15a19a-180f-471d-b762-c393731ed9f0\" xlink:actuate=\"onRequest\" xlink:href=\"psysml:6d15a19a-180f-471d-b762-c393731ed9f0\" xlink:show=\"new\" xlink:title=\"psysml:6d15a19a-180f-471d-b762-c393731ed9f0\" xlink:type=\"simple\"><path d=\"M415.48,362.01 C376.57,379.54 322.27,404.01 282.71,421.84 \" fill=\"none\" id=\"E3-&gt;E2\" style=\"stroke: #383838; stroke-width: 1.0;\"/><polygon fill=\"#FFFFFF\" points=\"264.34,430.12,278.7866,415.9321,284.5383,428.696,264.34,430.12\" style=\"stroke: #383838; stroke-width: 1.0;\"/><ellipse cx=\"284.805\" cy=\"415.4137\" fill=\"#383838\" rx=\"2\" ry=\"2\" style=\"stroke: #383838; stroke-width: 1.0;\"/><ellipse cx=\"288.9134\" cy=\"424.5308\" fill=\"#383838\" rx=\"2\" ry=\"2\" style=\"stroke: #383838; stroke-width: 1.0;\"/></a><!--MD5=[185131fc0dcab0a4505a2ebe144e961b]\n",
       "link E4 to E2--><a href=\"psysml:247dd621-3d2a-4448-8896-ee4a55c37d47\" target=\"_top\" title=\"psysml:247dd621-3d2a-4448-8896-ee4a55c37d47\" xlink:actuate=\"onRequest\" xlink:href=\"psysml:247dd621-3d2a-4448-8896-ee4a55c37d47\" xlink:show=\"new\" xlink:title=\"psysml:247dd621-3d2a-4448-8896-ee4a55c37d47\" xlink:type=\"simple\"><path d=\"M302.45,362.01 C291.25,375.08 276.74,392.01 263.74,407.17 \" fill=\"none\" id=\"E4-&gt;E2\" style=\"stroke: #383838; stroke-width: 1.0;\"/><polygon fill=\"#FFFFFF\" points=\"250.47,422.66,257.5188,403.678,268.1491,412.7883,250.47,422.66\" style=\"stroke: #383838; stroke-width: 1.0;\"/><ellipse cx=\"262.7466\" cy=\"400.6515\" fill=\"#383838\" rx=\"2\" ry=\"2\" style=\"stroke: #383838; stroke-width: 1.0;\"/><ellipse cx=\"270.3396\" cy=\"407.1588\" fill=\"#383838\" rx=\"2\" ry=\"2\" style=\"stroke: #383838; stroke-width: 1.0;\"/></a><!--MD5=[15ebcb19ae302d9b601edb458606d402]\n",
       "link E5 to E2--><a href=\"psysml:21b7132a-f544-4487-a747-91d198ad447d\" target=\"_top\" title=\"psysml:21b7132a-f544-4487-a747-91d198ad447d\" xlink:actuate=\"onRequest\" xlink:href=\"psysml:21b7132a-f544-4487-a747-91d198ad447d\" xlink:show=\"new\" xlink:title=\"psysml:21b7132a-f544-4487-a747-91d198ad447d\" xlink:type=\"simple\"><path d=\"M239.76,73.22 C177.99,83.96 102.74,108.45 61.32,164 C8.68,234.61 6,287.72 53.32,362 C83.95,410.08 150.5,430.76 192.99,439.32 \" fill=\"none\" id=\"E5-&gt;E2\" style=\"stroke: #383838; stroke-width: 1.0; stroke-dasharray: 7.0,7.0;\"/><polygon fill=\"#383838\" points=\"198.04,440.31,189.9738,434.6588,193.1327,439.3514,188.4401,442.5104,198.04,440.31\" style=\"stroke: #383838; stroke-width: 1.0;\"/><text fill=\"#000000\" font-family=\"sans-serif\" font-size=\"13\" lengthAdjust=\"spacingAndGlyphs\" textLength=\"62\" x=\"24.32\" y=\"267.5669\">«subject»</text></a><!--MD5=[9120cf2e5df3bff93db8f754bbbc09b4]\n",
       "link E5 to E6--><a href=\"psysml:44ec4945-cc63-4e9d-b8df-7b9a76da0bc7\" target=\"_top\" title=\"psysml:44ec4945-cc63-4e9d-b8df-7b9a76da0bc7\" xlink:actuate=\"onRequest\" xlink:href=\"psysml:44ec4945-cc63-4e9d-b8df-7b9a76da0bc7\" xlink:show=\"new\" xlink:title=\"psysml:44ec4945-cc63-4e9d-b8df-7b9a76da0bc7\" xlink:type=\"simple\"><path d=\"M314.56,87.19 C292.2,107.23 259.21,136.8 235.15,158.37 \" fill=\"none\" id=\"E5-&gt;E6\" style=\"stroke: #383838; stroke-width: 1.0;\"/><polygon fill=\"#383838\" points=\"228.92,163.95,236.8786,160.8419,232.8725,156.3752,228.92,163.95\" style=\"stroke: #383838; stroke-width: 1.0;\"/><text fill=\"#000000\" font-family=\"sans-serif\" font-size=\"13\" lengthAdjust=\"spacingAndGlyphs\" textLength=\"73\" x=\"280.32\" y=\"130.0669\">«objective»</text></a><!--MD5=[452b418e7f8a40397a49b8c0a78acc5b]\n",
       "reverse link E5 to E7--><a href=\"psysml:7b858bf3-8f8c-4105-a0db-0d0783f29576\" target=\"_top\" title=\"psysml:7b858bf3-8f8c-4105-a0db-0d0783f29576\" xlink:actuate=\"onRequest\" xlink:href=\"psysml:7b858bf3-8f8c-4105-a0db-0d0783f29576\" xlink:show=\"new\" xlink:title=\"psysml:7b858bf3-8f8c-4105-a0db-0d0783f29576\" xlink:type=\"simple\"><path d=\"M362.14,97.88 C376.71,118.86 395.19,145.48 408.01,163.95 \" fill=\"none\" id=\"E5&lt;-E7\" style=\"stroke: #383838; stroke-width: 1.0;\"/><polygon fill=\"#383838\" points=\"354.73,87.19,354.864,94.3999,361.5708,97.0492,361.4368,89.8393,354.73,87.19\" style=\"stroke: #383838; stroke-width: 1.0;\"/></a><!--MD5=[f1f3f9f2fc535e6147756cb86a7f2e32]\n",
       "link E8 to E2--><a href=\"psysml:2565caae-8b6e-420b-a56a-eab601fd4b55\" target=\"_top\" title=\"psysml:2565caae-8b6e-420b-a56a-eab601fd4b55\" xlink:actuate=\"onRequest\" xlink:href=\"psysml:2565caae-8b6e-420b-a56a-eab601fd4b55\" xlink:show=\"new\" xlink:title=\"psysml:2565caae-8b6e-420b-a56a-eab601fd4b55\" xlink:type=\"simple\"><path d=\"M153.86,362.01 C166.19,375.22 182.2,392.38 196.46,407.65 \" fill=\"none\" id=\"E8-&gt;E2\" style=\"stroke: #383838; stroke-width: 1.0;\"/><polygon fill=\"#FFFFFF\" points=\"210.47,422.66,192.3921,413.5393,202.6305,403.9907,210.47,422.66\" style=\"stroke: #383838; stroke-width: 1.0;\"/><ellipse cx=\"189.9671\" cy=\"408.0067\" fill=\"#383838\" rx=\"2\" ry=\"2\" style=\"stroke: #383838; stroke-width: 1.0;\"/><ellipse cx=\"197.2802\" cy=\"401.1863\" fill=\"#383838\" rx=\"2\" ry=\"2\" style=\"stroke: #383838; stroke-width: 1.0;\"/></a><!--MD5=[dc164f5e8a733ab456ef1add180e9e34]\n",
       "reverse link E7 to E8--><a href=\"psysml:b0f7840c-11d7-45e2-a5a4-bf208bef1113\" target=\"_top\" title=\"psysml:b0f7840c-11d7-45e2-a5a4-bf208bef1113\" xlink:actuate=\"onRequest\" xlink:href=\"psysml:b0f7840c-11d7-45e2-a5a4-bf208bef1113\" xlink:show=\"new\" xlink:title=\"psysml:b0f7840c-11d7-45e2-a5a4-bf208bef1113\" xlink:type=\"simple\"><path d=\"M352.67,208.29 C327.33,216.69 298.96,227.44 274.32,240 C231.96,261.6 187.65,294.33 160.26,315.93 \" fill=\"none\" id=\"E7&lt;-E8\" style=\"stroke: #383838; stroke-width: 1.0;\"/><polygon fill=\"#FFFFFF\" points=\"365.22,204.24,358.2818,202.2749,353.7994,207.9236,360.7376,209.8887,365.22,204.24\" style=\"stroke: #383838; stroke-width: 1.0;\"/></a><!--MD5=[5c3bb36fe832a92c7f0e1807dd65209d]\n",
       "link E9 to E2--><a href=\"psysml:a6aa3e55-56ca-44c6-92e8-1089eebb019a\" target=\"_top\" title=\"psysml:a6aa3e55-56ca-44c6-92e8-1089eebb019a\" xlink:actuate=\"onRequest\" xlink:href=\"psysml:a6aa3e55-56ca-44c6-92e8-1089eebb019a\" xlink:show=\"new\" xlink:title=\"psysml:a6aa3e55-56ca-44c6-92e8-1089eebb019a\" xlink:type=\"simple\"><path d=\"M291.19,285.15 C275.57,292.56 260.94,302.55 250.32,316 C231.17,340.25 227.04,375.32 227.36,402.77 \" fill=\"none\" id=\"E9-&gt;E2\" style=\"stroke: #383838; stroke-width: 1.0;\"/><polygon fill=\"#FFFFFF\" points=\"228.36,422.81,220.4186,404.1838,234.4011,403.4837,228.36,422.81\" style=\"stroke: #383838; stroke-width: 1.0;\"/><ellipse cx=\"222.131\" cy=\"398.3909\" fill=\"#383838\" rx=\"2\" ry=\"2\" style=\"stroke: #383838; stroke-width: 1.0;\"/><ellipse cx=\"232.1185\" cy=\"397.8909\" fill=\"#383838\" rx=\"2\" ry=\"2\" style=\"stroke: #383838; stroke-width: 1.0;\"/></a><!--MD5=[9ae28de373ca99bb8a1b38d63370ca7e]\n",
       "reverse link E5 to E9--><a href=\"psysml:9d098c9e-1a7b-415f-a301-c2067e422f2c\" target=\"_top\" title=\"psysml:9d098c9e-1a7b-415f-a301-c2067e422f2c\" xlink:actuate=\"onRequest\" xlink:href=\"psysml:9d098c9e-1a7b-415f-a301-c2067e422f2c\" xlink:show=\"new\" xlink:title=\"psysml:9d098c9e-1a7b-415f-a301-c2067e422f2c\" xlink:type=\"simple\"><path d=\"M416.08,92.77 C447.78,108.48 481.27,131.61 499.32,164 C509.27,181.86 510.51,192.89 499.32,210 C490.86,222.92 478.41,232.65 464.71,239.97 \" fill=\"none\" id=\"E5&lt;-E9\" style=\"stroke: #383838; stroke-width: 1.0;\"/><polygon fill=\"#FFFFFF\" points=\"404.06,87.11,407.7814,93.2867,414.9142,92.2272,411.1928,86.0505,404.06,87.11\" style=\"stroke: #383838; stroke-width: 1.0;\"/></a><!--MD5=[494821b554f50a4489e53c5cec43228b]\n",
       "@startuml\r\n",
       " skinparam monochrome true\r\n",
       "skinparam classbackgroundcolor white\r\n",
       "skinparam shadowing false\r\n",
       "skinparam wrapWidth 300\r\n",
       "hide circle\r\n",
       "\r\n",
       "package \"TradeStudyTest\" as E1  [[psysml:656cfd98-5664-4901-a86b-535977508953 ]]  {\r\n",
       "comp def \"Engine\" as E2  <<(T,blue)part def>> [[psysml:66c87936-3609-4f97-8f24-8ad3882372ee ]] {\r\n",
       "}\r\n",
       "comp usage \"engine1: Engine\" as E3  <<(T,blue)part>> [[psysml:c974a942-078b-4d34-96c1-8ca70902d898 ]] {\r\n",
       "}\r\n",
       "comp usage \"engine2: Engine\" as E4  <<(T,blue)part>> [[psysml:f4d0ec5b-d124-41e4-9ba9-3cb67b695e7c ]] {\r\n",
       "}\r\n",
       "comp usage \"engineTradeStudy: TradeStudy\" as E5 <<analysis>> [[psysml:2fd52497-3b24-4a66-a5d3-d77cdf8b2acf ]] {\r\n",
       "}\r\n",
       "comp usage \"tradeStudyObjective: MaximizeObjective\" as E6  <<(T,blue)requirement>> [[psysml:2c27f52f-f536-4fc6-bf8d-fd6e3fd13c39 ]] {\r\n",
       "}\r\n",
       "comp usage \"objectiveFunction\" as E7  <<(T,blue)calculation>> [[psysml:7b858bf3-8f8c-4105-a0db-0d0783f29576 ]] {\r\n",
       "}\r\n",
       "comp usage \"alternative: Engine\" as E8  <<(T,blue)part>> [[psysml:b0f7840c-11d7-45e2-a5a4-bf208bef1113 ]] {\r\n",
       "}\r\n",
       "comp usage \"selectedAlternative: Engine\" as E9  <<(T,blue)part>> [[psysml:9d098c9e-1a7b-415f-a301-c2067e422f2c ]] {\r\n",
       "}\r\n",
       "E3 - -:|> E2 [[psysml:6d15a19a-180f-471d-b762-c393731ed9f0 ]] \r\n",
       "E4 - -:|> E2 [[psysml:247dd621-3d2a-4448-8896-ee4a55c37d47 ]] \r\n",
       "E5 ..> E2 [[psysml:21b7132a-f544-4487-a747-91d198ad447d ]] : <<subject>>\r\n",
       "E5 - ->> E6 [[psysml:44ec4945-cc63-4e9d-b8df-7b9a76da0bc7 ]] : <<objective>>\r\n",
       "E5 *- - E7 [[psysml:7b858bf3-8f8c-4105-a0db-0d0783f29576 ]] \r\n",
       "E8 - -:|> E2 [[psysml:2565caae-8b6e-420b-a56a-eab601fd4b55 ]] \r\n",
       "E7 o- - E8 [[psysml:b0f7840c-11d7-45e2-a5a4-bf208bef1113 ]] \r\n",
       "E9 - -:|> E2 [[psysml:a6aa3e55-56ca-44c6-92e8-1089eebb019a ]] \r\n",
       "E5 o- - E9 [[psysml:9d098c9e-1a7b-415f-a301-c2067e422f2c ]] \r\n",
       "}\r\n",
       "@enduml\r\n",
       "\n",
       "PlantUML version 1.2020.13(Sat Jun 13 12:26:38 UTC 2020)\n",
       "(EPL source distribution)\n",
       "Java Runtime: OpenJDK Runtime Environment\n",
       "JVM: OpenJDK 64-Bit Server VM\n",
       "Default Encoding: UTF-8\n",
       "Language: en\n",
       "Country: null\n",
       "--></g></svg>"
      ]
     },
     "execution_count": 7,
     "metadata": {},
     "output_type": "execute_result"
    }
   ],
   "source": [
    "%viz --style=\"COMPTREE\" --view=\"Sequence\" \"TradeStudyTest\""
   ]
  },
  {
   "cell_type": "code",
   "execution_count": 8,
   "id": "theoretical-lodging",
   "metadata": {
    "execution": {
     "iopub.execute_input": "2021-03-25T13:19:16.458079Z",
     "iopub.status.busy": "2021-03-25T13:19:16.457357Z",
     "iopub.status.idle": "2021-03-25T13:19:16.705776Z",
     "shell.execute_reply": "2021-03-25T13:19:16.706494Z"
    }
   },
   "outputs": [
    {
     "data": {
      "image/svg+xml": [
       "<?xml version=\"1.0\" encoding=\"UTF-8\" standalone=\"no\"?><svg xmlns=\"http://www.w3.org/2000/svg\" xmlns:xlink=\"http://www.w3.org/1999/xlink\" contentScriptType=\"application/ecmascript\" contentStyleType=\"text/css\" height=\"497px\" preserveAspectRatio=\"none\" style=\"width:556px;height:497px;\" version=\"1.1\" viewBox=\"0 0 556 497\" width=\"556px\" zoomAndPan=\"magnify\"><defs/><g><!--MD5=[fbc87193dbaf4d95561dea2c320d4a47]\n",
       "cluster E1--><a href=\"psysml:656cfd98-5664-4901-a86b-535977508953\" target=\"_top\" title=\"psysml:656cfd98-5664-4901-a86b-535977508953\" xlink:actuate=\"onRequest\" xlink:href=\"psysml:656cfd98-5664-4901-a86b-535977508953\" xlink:show=\"new\" xlink:title=\"psysml:656cfd98-5664-4901-a86b-535977508953\" xlink:type=\"simple\"><polygon fill=\"#FFFFFF\" points=\"18.32,6,150.32,6,157.32,28.2969,534.32,28.2969,534.32,485,18.32,485,18.32,6\" style=\"stroke: #000000; stroke-width: 1.5;\"/><line style=\"stroke: #000000; stroke-width: 1.5;\" x1=\"18.32\" x2=\"157.32\" y1=\"28.2969\" y2=\"28.2969\"/><text fill=\"#000000\" font-family=\"sans-serif\" font-size=\"14\" font-weight=\"bold\" lengthAdjust=\"spacingAndGlyphs\" textLength=\"126\" x=\"22.32\" y=\"20.9951\">TradeStudyTest</text></a><!--MD5=[b4997ac47864f28c2f74865a473b2911]\n",
       "class E2--><a href=\"psysml:66c87936-3609-4f97-8f24-8ad3882372ee\" target=\"_top\" title=\"psysml:66c87936-3609-4f97-8f24-8ad3882372ee\" xlink:actuate=\"onRequest\" xlink:href=\"psysml:66c87936-3609-4f97-8f24-8ad3882372ee\" xlink:show=\"new\" xlink:title=\"psysml:66c87936-3609-4f97-8f24-8ad3882372ee\" xlink:type=\"simple\"><rect fill=\"#FFFFFF\" height=\"45.9375\" id=\"E2\" style=\"stroke: #383838; stroke-width: 1.5;\" width=\"66\" x=\"198.32\" y=\"423\"/><text fill=\"#000000\" font-family=\"sans-serif\" font-size=\"12\" font-style=\"italic\" lengthAdjust=\"spacingAndGlyphs\" textLength=\"64\" x=\"199.32\" y=\"439.1387\">«part def»</text><text fill=\"#000000\" font-family=\"sans-serif\" font-size=\"12\" lengthAdjust=\"spacingAndGlyphs\" textLength=\"43\" x=\"209.82\" y=\"453.1074\">Engine</text><line style=\"stroke: #383838; stroke-width: 1.5;\" x1=\"199.32\" x2=\"263.32\" y1=\"460.9375\" y2=\"460.9375\"/></a><!--MD5=[09b614a08d8cba4a07c9adeb5e0fee81]\n",
       "class E3--><a href=\"psysml:c974a942-078b-4d34-96c1-8ca70902d898\" target=\"_top\" title=\"psysml:c974a942-078b-4d34-96c1-8ca70902d898\" xlink:actuate=\"onRequest\" xlink:href=\"psysml:c974a942-078b-4d34-96c1-8ca70902d898\" xlink:show=\"new\" xlink:title=\"psysml:c974a942-078b-4d34-96c1-8ca70902d898\" xlink:type=\"simple\"><rect fill=\"#FFFFFF\" height=\"45.9375\" id=\"E3\" rx=\"10\" ry=\"10\" style=\"stroke: #383838; stroke-width: 1.5;\" width=\"108\" x=\"410.32\" y=\"316\"/><text fill=\"#000000\" font-family=\"sans-serif\" font-size=\"12\" font-style=\"italic\" lengthAdjust=\"spacingAndGlyphs\" textLength=\"40\" x=\"444.32\" y=\"332.1387\">«part»</text><text fill=\"#000000\" font-family=\"sans-serif\" font-size=\"12\" lengthAdjust=\"spacingAndGlyphs\" textLength=\"102\" x=\"413.32\" y=\"346.1074\">engine1: Engine</text><line style=\"stroke: #383838; stroke-width: 1.5;\" x1=\"411.32\" x2=\"517.32\" y1=\"353.9375\" y2=\"353.9375\"/></a><!--MD5=[ebbe1d658d1005bcc118a6aa81145e00]\n",
       "class E4--><a href=\"psysml:f4d0ec5b-d124-41e4-9ba9-3cb67b695e7c\" target=\"_top\" title=\"psysml:f4d0ec5b-d124-41e4-9ba9-3cb67b695e7c\" xlink:actuate=\"onRequest\" xlink:href=\"psysml:f4d0ec5b-d124-41e4-9ba9-3cb67b695e7c\" xlink:show=\"new\" xlink:title=\"psysml:f4d0ec5b-d124-41e4-9ba9-3cb67b695e7c\" xlink:type=\"simple\"><rect fill=\"#FFFFFF\" height=\"45.9375\" id=\"E4\" rx=\"10\" ry=\"10\" style=\"stroke: #383838; stroke-width: 1.5;\" width=\"108\" x=\"267.32\" y=\"316\"/><text fill=\"#000000\" font-family=\"sans-serif\" font-size=\"12\" font-style=\"italic\" lengthAdjust=\"spacingAndGlyphs\" textLength=\"40\" x=\"301.32\" y=\"332.1387\">«part»</text><text fill=\"#000000\" font-family=\"sans-serif\" font-size=\"12\" lengthAdjust=\"spacingAndGlyphs\" textLength=\"102\" x=\"270.32\" y=\"346.1074\">engine2: Engine</text><line style=\"stroke: #383838; stroke-width: 1.5;\" x1=\"268.32\" x2=\"374.32\" y1=\"353.9375\" y2=\"353.9375\"/></a><!--MD5=[270fce915f116d4de14055a7c1d9a0f3]\n",
       "class E5--><a href=\"psysml:2fd52497-3b24-4a66-a5d3-d77cdf8b2acf\" target=\"_top\" title=\"psysml:2fd52497-3b24-4a66-a5d3-d77cdf8b2acf\" xlink:actuate=\"onRequest\" xlink:href=\"psysml:2fd52497-3b24-4a66-a5d3-d77cdf8b2acf\" xlink:show=\"new\" xlink:title=\"psysml:2fd52497-3b24-4a66-a5d3-d77cdf8b2acf\" xlink:type=\"simple\"><rect fill=\"#FFFFFF\" height=\"45.9375\" id=\"E5\" rx=\"10\" ry=\"10\" style=\"stroke: #383838; stroke-width: 1.5;\" width=\"199\" x=\"239.82\" y=\"41\"/><text fill=\"#000000\" font-family=\"sans-serif\" font-size=\"12\" font-style=\"italic\" lengthAdjust=\"spacingAndGlyphs\" textLength=\"64\" x=\"307.32\" y=\"57.1387\">«analysis»</text><text fill=\"#000000\" font-family=\"sans-serif\" font-size=\"12\" lengthAdjust=\"spacingAndGlyphs\" textLength=\"193\" x=\"242.82\" y=\"71.1074\">engineTradeStudy: TradeStudy</text><line style=\"stroke: #383838; stroke-width: 1.5;\" x1=\"240.82\" x2=\"437.82\" y1=\"78.9375\" y2=\"78.9375\"/></a><!--MD5=[60a26617385b1d2d0262a64233df1f8d]\n",
       "class E6--><a href=\"psysml:2c27f52f-f536-4fc6-bf8d-fd6e3fd13c39\" target=\"_top\" title=\"psysml:2c27f52f-f536-4fc6-bf8d-fd6e3fd13c39\" xlink:actuate=\"onRequest\" xlink:href=\"psysml:2c27f52f-f536-4fc6-bf8d-fd6e3fd13c39\" xlink:show=\"new\" xlink:title=\"psysml:2c27f52f-f536-4fc6-bf8d-fd6e3fd13c39\" xlink:type=\"simple\"><rect fill=\"#FFFFFF\" height=\"45.9375\" id=\"E6\" rx=\"10\" ry=\"10\" style=\"stroke: #383838; stroke-width: 1.5;\" width=\"251\" x=\"78.82\" y=\"164\"/><text fill=\"#000000\" font-family=\"sans-serif\" font-size=\"12\" font-style=\"italic\" lengthAdjust=\"spacingAndGlyphs\" textLength=\"91\" x=\"158.82\" y=\"180.1387\">«requirement»</text><text fill=\"#000000\" font-family=\"sans-serif\" font-size=\"12\" lengthAdjust=\"spacingAndGlyphs\" textLength=\"245\" x=\"81.82\" y=\"194.1074\">tradeStudyObjective: MaximizeObjective</text><line style=\"stroke: #383838; stroke-width: 1.5;\" x1=\"79.82\" x2=\"328.82\" y1=\"201.9375\" y2=\"201.9375\"/></a><!--MD5=[2156ba9850f5573cc1fc38a6a4b2f02b]\n",
       "class E7--><a href=\"psysml:7b858bf3-8f8c-4105-a0db-0d0783f29576\" target=\"_top\" title=\"psysml:7b858bf3-8f8c-4105-a0db-0d0783f29576\" xlink:actuate=\"onRequest\" xlink:href=\"psysml:7b858bf3-8f8c-4105-a0db-0d0783f29576\" xlink:show=\"new\" xlink:title=\"psysml:7b858bf3-8f8c-4105-a0db-0d0783f29576\" xlink:type=\"simple\"><rect fill=\"#FFFFFF\" height=\"45.9375\" id=\"E7\" rx=\"10\" ry=\"10\" style=\"stroke: #383838; stroke-width: 1.5;\" width=\"116\" x=\"365.32\" y=\"164\"/><text fill=\"#000000\" font-family=\"sans-serif\" font-size=\"12\" font-style=\"italic\" lengthAdjust=\"spacingAndGlyphs\" textLength=\"82\" x=\"382.32\" y=\"180.1387\">«calculation»</text><text fill=\"#000000\" font-family=\"sans-serif\" font-size=\"12\" lengthAdjust=\"spacingAndGlyphs\" textLength=\"110\" x=\"368.32\" y=\"194.1074\">objectiveFunction</text><line style=\"stroke: #383838; stroke-width: 1.5;\" x1=\"366.32\" x2=\"480.32\" y1=\"201.9375\" y2=\"201.9375\"/></a><!--MD5=[b9389687b975829384b498ac4b7476b2]\n",
       "class E8--><a href=\"psysml:b0f7840c-11d7-45e2-a5a4-bf208bef1113\" target=\"_top\" title=\"psysml:b0f7840c-11d7-45e2-a5a4-bf208bef1113\" xlink:actuate=\"onRequest\" xlink:href=\"psysml:b0f7840c-11d7-45e2-a5a4-bf208bef1113\" xlink:show=\"new\" xlink:title=\"psysml:b0f7840c-11d7-45e2-a5a4-bf208bef1113\" xlink:type=\"simple\"><rect fill=\"#FFFFFF\" height=\"45.9375\" id=\"E8\" rx=\"10\" ry=\"10\" style=\"stroke: #383838; stroke-width: 1.5;\" width=\"124\" x=\"71.32\" y=\"316\"/><text fill=\"#000000\" font-family=\"sans-serif\" font-size=\"12\" font-style=\"italic\" lengthAdjust=\"spacingAndGlyphs\" textLength=\"40\" x=\"113.32\" y=\"332.1387\">«part»</text><text fill=\"#000000\" font-family=\"sans-serif\" font-size=\"12\" lengthAdjust=\"spacingAndGlyphs\" textLength=\"118\" x=\"74.32\" y=\"346.1074\">alternative: Engine</text><line style=\"stroke: #383838; stroke-width: 1.5;\" x1=\"72.32\" x2=\"194.32\" y1=\"353.9375\" y2=\"353.9375\"/></a><!--MD5=[fd4143e9d270a159db93a4ea2a975926]\n",
       "class E9--><a href=\"psysml:9d098c9e-1a7b-415f-a301-c2067e422f2c\" target=\"_top\" title=\"psysml:9d098c9e-1a7b-415f-a301-c2067e422f2c\" xlink:actuate=\"onRequest\" xlink:href=\"psysml:9d098c9e-1a7b-415f-a301-c2067e422f2c\" xlink:show=\"new\" xlink:title=\"psysml:9d098c9e-1a7b-415f-a301-c2067e422f2c\" xlink:type=\"simple\"><rect fill=\"#FFFFFF\" height=\"45.9375\" id=\"E9\" rx=\"10\" ry=\"10\" style=\"stroke: #383838; stroke-width: 1.5;\" width=\"178\" x=\"291.32\" y=\"240\"/><text fill=\"#000000\" font-family=\"sans-serif\" font-size=\"12\" font-style=\"italic\" lengthAdjust=\"spacingAndGlyphs\" textLength=\"40\" x=\"360.32\" y=\"256.1387\">«part»</text><text fill=\"#000000\" font-family=\"sans-serif\" font-size=\"12\" lengthAdjust=\"spacingAndGlyphs\" textLength=\"172\" x=\"294.32\" y=\"270.1074\">selectedAlternative: Engine</text><line style=\"stroke: #383838; stroke-width: 1.5;\" x1=\"292.32\" x2=\"468.32\" y1=\"277.9375\" y2=\"277.9375\"/></a><!--MD5=[05d275557350bfb9b23a4ef7222b4c39]\n",
       "link E3 to E2--><a href=\"psysml:6d15a19a-180f-471d-b762-c393731ed9f0\" target=\"_top\" title=\"psysml:6d15a19a-180f-471d-b762-c393731ed9f0\" xlink:actuate=\"onRequest\" xlink:href=\"psysml:6d15a19a-180f-471d-b762-c393731ed9f0\" xlink:show=\"new\" xlink:title=\"psysml:6d15a19a-180f-471d-b762-c393731ed9f0\" xlink:type=\"simple\"><path d=\"M415.48,362.01 C376.57,379.54 322.27,404.01 282.71,421.84 \" fill=\"none\" id=\"E3-&gt;E2\" style=\"stroke: #383838; stroke-width: 1.0;\"/><polygon fill=\"#FFFFFF\" points=\"264.34,430.12,278.7866,415.9321,284.5383,428.696,264.34,430.12\" style=\"stroke: #383838; stroke-width: 1.0;\"/><ellipse cx=\"284.805\" cy=\"415.4137\" fill=\"#383838\" rx=\"2\" ry=\"2\" style=\"stroke: #383838; stroke-width: 1.0;\"/><ellipse cx=\"288.9134\" cy=\"424.5308\" fill=\"#383838\" rx=\"2\" ry=\"2\" style=\"stroke: #383838; stroke-width: 1.0;\"/></a><!--MD5=[185131fc0dcab0a4505a2ebe144e961b]\n",
       "link E4 to E2--><a href=\"psysml:247dd621-3d2a-4448-8896-ee4a55c37d47\" target=\"_top\" title=\"psysml:247dd621-3d2a-4448-8896-ee4a55c37d47\" xlink:actuate=\"onRequest\" xlink:href=\"psysml:247dd621-3d2a-4448-8896-ee4a55c37d47\" xlink:show=\"new\" xlink:title=\"psysml:247dd621-3d2a-4448-8896-ee4a55c37d47\" xlink:type=\"simple\"><path d=\"M302.45,362.01 C291.25,375.08 276.74,392.01 263.74,407.17 \" fill=\"none\" id=\"E4-&gt;E2\" style=\"stroke: #383838; stroke-width: 1.0;\"/><polygon fill=\"#FFFFFF\" points=\"250.47,422.66,257.5188,403.678,268.1491,412.7883,250.47,422.66\" style=\"stroke: #383838; stroke-width: 1.0;\"/><ellipse cx=\"262.7466\" cy=\"400.6515\" fill=\"#383838\" rx=\"2\" ry=\"2\" style=\"stroke: #383838; stroke-width: 1.0;\"/><ellipse cx=\"270.3396\" cy=\"407.1588\" fill=\"#383838\" rx=\"2\" ry=\"2\" style=\"stroke: #383838; stroke-width: 1.0;\"/></a><!--MD5=[15ebcb19ae302d9b601edb458606d402]\n",
       "link E5 to E2--><a href=\"psysml:21b7132a-f544-4487-a747-91d198ad447d\" target=\"_top\" title=\"psysml:21b7132a-f544-4487-a747-91d198ad447d\" xlink:actuate=\"onRequest\" xlink:href=\"psysml:21b7132a-f544-4487-a747-91d198ad447d\" xlink:show=\"new\" xlink:title=\"psysml:21b7132a-f544-4487-a747-91d198ad447d\" xlink:type=\"simple\"><path d=\"M239.76,73.22 C177.99,83.96 102.74,108.45 61.32,164 C8.68,234.61 6,287.72 53.32,362 C83.95,410.08 150.5,430.76 192.99,439.32 \" fill=\"none\" id=\"E5-&gt;E2\" style=\"stroke: #383838; stroke-width: 1.0; stroke-dasharray: 7.0,7.0;\"/><polygon fill=\"#383838\" points=\"198.04,440.31,189.9738,434.6588,193.1327,439.3514,188.4401,442.5104,198.04,440.31\" style=\"stroke: #383838; stroke-width: 1.0;\"/><text fill=\"#000000\" font-family=\"sans-serif\" font-size=\"13\" lengthAdjust=\"spacingAndGlyphs\" textLength=\"62\" x=\"24.32\" y=\"267.5669\">«subject»</text></a><!--MD5=[9120cf2e5df3bff93db8f754bbbc09b4]\n",
       "link E5 to E6--><a href=\"psysml:44ec4945-cc63-4e9d-b8df-7b9a76da0bc7\" target=\"_top\" title=\"psysml:44ec4945-cc63-4e9d-b8df-7b9a76da0bc7\" xlink:actuate=\"onRequest\" xlink:href=\"psysml:44ec4945-cc63-4e9d-b8df-7b9a76da0bc7\" xlink:show=\"new\" xlink:title=\"psysml:44ec4945-cc63-4e9d-b8df-7b9a76da0bc7\" xlink:type=\"simple\"><path d=\"M314.56,87.19 C292.2,107.23 259.21,136.8 235.15,158.37 \" fill=\"none\" id=\"E5-&gt;E6\" style=\"stroke: #383838; stroke-width: 1.0;\"/><polygon fill=\"#383838\" points=\"228.92,163.95,236.8786,160.8419,232.8725,156.3752,228.92,163.95\" style=\"stroke: #383838; stroke-width: 1.0;\"/><text fill=\"#000000\" font-family=\"sans-serif\" font-size=\"13\" lengthAdjust=\"spacingAndGlyphs\" textLength=\"73\" x=\"280.32\" y=\"130.0669\">«objective»</text></a><!--MD5=[452b418e7f8a40397a49b8c0a78acc5b]\n",
       "reverse link E5 to E7--><a href=\"psysml:7b858bf3-8f8c-4105-a0db-0d0783f29576\" target=\"_top\" title=\"psysml:7b858bf3-8f8c-4105-a0db-0d0783f29576\" xlink:actuate=\"onRequest\" xlink:href=\"psysml:7b858bf3-8f8c-4105-a0db-0d0783f29576\" xlink:show=\"new\" xlink:title=\"psysml:7b858bf3-8f8c-4105-a0db-0d0783f29576\" xlink:type=\"simple\"><path d=\"M362.14,97.88 C376.71,118.86 395.19,145.48 408.01,163.95 \" fill=\"none\" id=\"E5&lt;-E7\" style=\"stroke: #383838; stroke-width: 1.0;\"/><polygon fill=\"#383838\" points=\"354.73,87.19,354.864,94.3999,361.5708,97.0492,361.4368,89.8393,354.73,87.19\" style=\"stroke: #383838; stroke-width: 1.0;\"/></a><!--MD5=[f1f3f9f2fc535e6147756cb86a7f2e32]\n",
       "link E8 to E2--><a href=\"psysml:2565caae-8b6e-420b-a56a-eab601fd4b55\" target=\"_top\" title=\"psysml:2565caae-8b6e-420b-a56a-eab601fd4b55\" xlink:actuate=\"onRequest\" xlink:href=\"psysml:2565caae-8b6e-420b-a56a-eab601fd4b55\" xlink:show=\"new\" xlink:title=\"psysml:2565caae-8b6e-420b-a56a-eab601fd4b55\" xlink:type=\"simple\"><path d=\"M153.86,362.01 C166.19,375.22 182.2,392.38 196.46,407.65 \" fill=\"none\" id=\"E8-&gt;E2\" style=\"stroke: #383838; stroke-width: 1.0;\"/><polygon fill=\"#FFFFFF\" points=\"210.47,422.66,192.3921,413.5393,202.6305,403.9907,210.47,422.66\" style=\"stroke: #383838; stroke-width: 1.0;\"/><ellipse cx=\"189.9671\" cy=\"408.0067\" fill=\"#383838\" rx=\"2\" ry=\"2\" style=\"stroke: #383838; stroke-width: 1.0;\"/><ellipse cx=\"197.2802\" cy=\"401.1863\" fill=\"#383838\" rx=\"2\" ry=\"2\" style=\"stroke: #383838; stroke-width: 1.0;\"/></a><!--MD5=[dc164f5e8a733ab456ef1add180e9e34]\n",
       "reverse link E7 to E8--><a href=\"psysml:b0f7840c-11d7-45e2-a5a4-bf208bef1113\" target=\"_top\" title=\"psysml:b0f7840c-11d7-45e2-a5a4-bf208bef1113\" xlink:actuate=\"onRequest\" xlink:href=\"psysml:b0f7840c-11d7-45e2-a5a4-bf208bef1113\" xlink:show=\"new\" xlink:title=\"psysml:b0f7840c-11d7-45e2-a5a4-bf208bef1113\" xlink:type=\"simple\"><path d=\"M352.67,208.29 C327.33,216.69 298.96,227.44 274.32,240 C231.96,261.6 187.65,294.33 160.26,315.93 \" fill=\"none\" id=\"E7&lt;-E8\" style=\"stroke: #383838; stroke-width: 1.0;\"/><polygon fill=\"#FFFFFF\" points=\"365.22,204.24,358.2818,202.2749,353.7994,207.9236,360.7376,209.8887,365.22,204.24\" style=\"stroke: #383838; stroke-width: 1.0;\"/></a><!--MD5=[5c3bb36fe832a92c7f0e1807dd65209d]\n",
       "link E9 to E2--><a href=\"psysml:a6aa3e55-56ca-44c6-92e8-1089eebb019a\" target=\"_top\" title=\"psysml:a6aa3e55-56ca-44c6-92e8-1089eebb019a\" xlink:actuate=\"onRequest\" xlink:href=\"psysml:a6aa3e55-56ca-44c6-92e8-1089eebb019a\" xlink:show=\"new\" xlink:title=\"psysml:a6aa3e55-56ca-44c6-92e8-1089eebb019a\" xlink:type=\"simple\"><path d=\"M291.19,285.15 C275.57,292.56 260.94,302.55 250.32,316 C231.17,340.25 227.04,375.32 227.36,402.77 \" fill=\"none\" id=\"E9-&gt;E2\" style=\"stroke: #383838; stroke-width: 1.0;\"/><polygon fill=\"#FFFFFF\" points=\"228.36,422.81,220.4186,404.1838,234.4011,403.4837,228.36,422.81\" style=\"stroke: #383838; stroke-width: 1.0;\"/><ellipse cx=\"222.131\" cy=\"398.3909\" fill=\"#383838\" rx=\"2\" ry=\"2\" style=\"stroke: #383838; stroke-width: 1.0;\"/><ellipse cx=\"232.1185\" cy=\"397.8909\" fill=\"#383838\" rx=\"2\" ry=\"2\" style=\"stroke: #383838; stroke-width: 1.0;\"/></a><!--MD5=[9ae28de373ca99bb8a1b38d63370ca7e]\n",
       "reverse link E5 to E9--><a href=\"psysml:9d098c9e-1a7b-415f-a301-c2067e422f2c\" target=\"_top\" title=\"psysml:9d098c9e-1a7b-415f-a301-c2067e422f2c\" xlink:actuate=\"onRequest\" xlink:href=\"psysml:9d098c9e-1a7b-415f-a301-c2067e422f2c\" xlink:show=\"new\" xlink:title=\"psysml:9d098c9e-1a7b-415f-a301-c2067e422f2c\" xlink:type=\"simple\"><path d=\"M416.08,92.77 C447.78,108.48 481.27,131.61 499.32,164 C509.27,181.86 510.51,192.89 499.32,210 C490.86,222.92 478.41,232.65 464.71,239.97 \" fill=\"none\" id=\"E5&lt;-E9\" style=\"stroke: #383838; stroke-width: 1.0;\"/><polygon fill=\"#FFFFFF\" points=\"404.06,87.11,407.7814,93.2867,414.9142,92.2272,411.1928,86.0505,404.06,87.11\" style=\"stroke: #383838; stroke-width: 1.0;\"/></a><!--MD5=[494821b554f50a4489e53c5cec43228b]\n",
       "@startuml\r\n",
       " skinparam monochrome true\r\n",
       "skinparam classbackgroundcolor white\r\n",
       "skinparam shadowing false\r\n",
       "skinparam wrapWidth 300\r\n",
       "hide circle\r\n",
       "\r\n",
       "package \"TradeStudyTest\" as E1  [[psysml:656cfd98-5664-4901-a86b-535977508953 ]]  {\r\n",
       "comp def \"Engine\" as E2  <<(T,blue)part def>> [[psysml:66c87936-3609-4f97-8f24-8ad3882372ee ]] {\r\n",
       "}\r\n",
       "comp usage \"engine1: Engine\" as E3  <<(T,blue)part>> [[psysml:c974a942-078b-4d34-96c1-8ca70902d898 ]] {\r\n",
       "}\r\n",
       "comp usage \"engine2: Engine\" as E4  <<(T,blue)part>> [[psysml:f4d0ec5b-d124-41e4-9ba9-3cb67b695e7c ]] {\r\n",
       "}\r\n",
       "comp usage \"engineTradeStudy: TradeStudy\" as E5 <<analysis>> [[psysml:2fd52497-3b24-4a66-a5d3-d77cdf8b2acf ]] {\r\n",
       "}\r\n",
       "comp usage \"tradeStudyObjective: MaximizeObjective\" as E6  <<(T,blue)requirement>> [[psysml:2c27f52f-f536-4fc6-bf8d-fd6e3fd13c39 ]] {\r\n",
       "}\r\n",
       "comp usage \"objectiveFunction\" as E7  <<(T,blue)calculation>> [[psysml:7b858bf3-8f8c-4105-a0db-0d0783f29576 ]] {\r\n",
       "}\r\n",
       "comp usage \"alternative: Engine\" as E8  <<(T,blue)part>> [[psysml:b0f7840c-11d7-45e2-a5a4-bf208bef1113 ]] {\r\n",
       "}\r\n",
       "comp usage \"selectedAlternative: Engine\" as E9  <<(T,blue)part>> [[psysml:9d098c9e-1a7b-415f-a301-c2067e422f2c ]] {\r\n",
       "}\r\n",
       "E3 - -:|> E2 [[psysml:6d15a19a-180f-471d-b762-c393731ed9f0 ]] \r\n",
       "E4 - -:|> E2 [[psysml:247dd621-3d2a-4448-8896-ee4a55c37d47 ]] \r\n",
       "E5 ..> E2 [[psysml:21b7132a-f544-4487-a747-91d198ad447d ]] : <<subject>>\r\n",
       "E5 - ->> E6 [[psysml:44ec4945-cc63-4e9d-b8df-7b9a76da0bc7 ]] : <<objective>>\r\n",
       "E5 *- - E7 [[psysml:7b858bf3-8f8c-4105-a0db-0d0783f29576 ]] \r\n",
       "E8 - -:|> E2 [[psysml:2565caae-8b6e-420b-a56a-eab601fd4b55 ]] \r\n",
       "E7 o- - E8 [[psysml:b0f7840c-11d7-45e2-a5a4-bf208bef1113 ]] \r\n",
       "E9 - -:|> E2 [[psysml:a6aa3e55-56ca-44c6-92e8-1089eebb019a ]] \r\n",
       "E5 o- - E9 [[psysml:9d098c9e-1a7b-415f-a301-c2067e422f2c ]] \r\n",
       "}\r\n",
       "@enduml\r\n",
       "\n",
       "PlantUML version 1.2020.13(Sat Jun 13 12:26:38 UTC 2020)\n",
       "(EPL source distribution)\n",
       "Java Runtime: OpenJDK Runtime Environment\n",
       "JVM: OpenJDK 64-Bit Server VM\n",
       "Default Encoding: UTF-8\n",
       "Language: en\n",
       "Country: null\n",
       "--></g></svg>"
      ]
     },
     "execution_count": 8,
     "metadata": {},
     "output_type": "execute_result"
    }
   ],
   "source": [
    "%viz --style=\"COMPTREE\" --view=\"MIXED\" \"TradeStudyTest\""
   ]
  },
  {
   "cell_type": "code",
   "execution_count": 9,
   "id": "ordered-ireland",
   "metadata": {
    "execution": {
     "iopub.execute_input": "2021-03-25T13:19:16.756563Z",
     "iopub.status.busy": "2021-03-25T13:19:16.755781Z",
     "iopub.status.idle": "2021-03-25T13:19:17.013068Z",
     "shell.execute_reply": "2021-03-25T13:19:17.013626Z"
    }
   },
   "outputs": [
    {
     "data": {
      "image/svg+xml": [
       "<?xml version=\"1.0\" encoding=\"UTF-8\" standalone=\"no\"?><svg xmlns=\"http://www.w3.org/2000/svg\" xmlns:xlink=\"http://www.w3.org/1999/xlink\" contentScriptType=\"application/ecmascript\" contentStyleType=\"text/css\" height=\"497px\" preserveAspectRatio=\"none\" style=\"width:554px;height:497px;\" version=\"1.1\" viewBox=\"0 0 554 497\" width=\"554px\" zoomAndPan=\"magnify\"><defs/><g><!--MD5=[fbc87193dbaf4d95561dea2c320d4a47]\n",
       "cluster E1--><a href=\"psysml:656cfd98-5664-4901-a86b-535977508953\" target=\"_top\" title=\"psysml:656cfd98-5664-4901-a86b-535977508953\" xlink:actuate=\"onRequest\" xlink:href=\"psysml:656cfd98-5664-4901-a86b-535977508953\" xlink:show=\"new\" xlink:title=\"psysml:656cfd98-5664-4901-a86b-535977508953\" xlink:type=\"simple\"><polygon fill=\"#FFFFFF\" points=\"16,6,148,6,155,28.2969,532,28.2969,532,485,16,485,16,6\" style=\"stroke: #000000; stroke-width: 1.5;\"/><line style=\"stroke: #000000; stroke-width: 1.5;\" x1=\"16\" x2=\"155\" y1=\"28.2969\" y2=\"28.2969\"/><text fill=\"#000000\" font-family=\"sans-serif\" font-size=\"14\" font-weight=\"bold\" lengthAdjust=\"spacingAndGlyphs\" textLength=\"126\" x=\"20\" y=\"20.9951\">TradeStudyTest</text></a><!--MD5=[b4997ac47864f28c2f74865a473b2911]\n",
       "class E2--><a href=\"psysml:66c87936-3609-4f97-8f24-8ad3882372ee\" target=\"_top\" title=\"psysml:66c87936-3609-4f97-8f24-8ad3882372ee\" xlink:actuate=\"onRequest\" xlink:href=\"psysml:66c87936-3609-4f97-8f24-8ad3882372ee\" xlink:show=\"new\" xlink:title=\"psysml:66c87936-3609-4f97-8f24-8ad3882372ee\" xlink:type=\"simple\"><rect fill=\"#FFFFFF\" height=\"45.9375\" id=\"E2\" style=\"stroke: #383838; stroke-width: 1.5;\" width=\"66\" x=\"196\" y=\"423\"/><text fill=\"#000000\" font-family=\"sans-serif\" font-size=\"12\" font-style=\"italic\" lengthAdjust=\"spacingAndGlyphs\" textLength=\"64\" x=\"197\" y=\"439.1387\">«part def»</text><text fill=\"#000000\" font-family=\"sans-serif\" font-size=\"12\" lengthAdjust=\"spacingAndGlyphs\" textLength=\"43\" x=\"207.5\" y=\"453.1074\">Engine</text><line style=\"stroke: #383838; stroke-width: 1.5;\" x1=\"197\" x2=\"261\" y1=\"460.9375\" y2=\"460.9375\"/></a><!--MD5=[09b614a08d8cba4a07c9adeb5e0fee81]\n",
       "class E3--><a href=\"psysml:c974a942-078b-4d34-96c1-8ca70902d898\" target=\"_top\" title=\"psysml:c974a942-078b-4d34-96c1-8ca70902d898\" xlink:actuate=\"onRequest\" xlink:href=\"psysml:c974a942-078b-4d34-96c1-8ca70902d898\" xlink:show=\"new\" xlink:title=\"psysml:c974a942-078b-4d34-96c1-8ca70902d898\" xlink:type=\"simple\"><rect fill=\"#FFFFFF\" height=\"45.9375\" id=\"E3\" rx=\"10\" ry=\"10\" style=\"stroke: #383838; stroke-width: 1.5;\" width=\"108\" x=\"408\" y=\"316\"/><text fill=\"#000000\" font-family=\"sans-serif\" font-size=\"12\" font-style=\"italic\" lengthAdjust=\"spacingAndGlyphs\" textLength=\"40\" x=\"442\" y=\"332.1387\">«part»</text><text fill=\"#000000\" font-family=\"sans-serif\" font-size=\"12\" lengthAdjust=\"spacingAndGlyphs\" textLength=\"102\" x=\"411\" y=\"346.1074\">engine1: Engine</text><line style=\"stroke: #383838; stroke-width: 1.5;\" x1=\"409\" x2=\"515\" y1=\"353.9375\" y2=\"353.9375\"/></a><!--MD5=[ebbe1d658d1005bcc118a6aa81145e00]\n",
       "class E4--><a href=\"psysml:f4d0ec5b-d124-41e4-9ba9-3cb67b695e7c\" target=\"_top\" title=\"psysml:f4d0ec5b-d124-41e4-9ba9-3cb67b695e7c\" xlink:actuate=\"onRequest\" xlink:href=\"psysml:f4d0ec5b-d124-41e4-9ba9-3cb67b695e7c\" xlink:show=\"new\" xlink:title=\"psysml:f4d0ec5b-d124-41e4-9ba9-3cb67b695e7c\" xlink:type=\"simple\"><rect fill=\"#FFFFFF\" height=\"45.9375\" id=\"E4\" rx=\"10\" ry=\"10\" style=\"stroke: #383838; stroke-width: 1.5;\" width=\"108\" x=\"265\" y=\"316\"/><text fill=\"#000000\" font-family=\"sans-serif\" font-size=\"12\" font-style=\"italic\" lengthAdjust=\"spacingAndGlyphs\" textLength=\"40\" x=\"299\" y=\"332.1387\">«part»</text><text fill=\"#000000\" font-family=\"sans-serif\" font-size=\"12\" lengthAdjust=\"spacingAndGlyphs\" textLength=\"102\" x=\"268\" y=\"346.1074\">engine2: Engine</text><line style=\"stroke: #383838; stroke-width: 1.5;\" x1=\"266\" x2=\"372\" y1=\"353.9375\" y2=\"353.9375\"/></a><!--MD5=[270fce915f116d4de14055a7c1d9a0f3]\n",
       "class E5--><a href=\"psysml:2fd52497-3b24-4a66-a5d3-d77cdf8b2acf\" target=\"_top\" title=\"psysml:2fd52497-3b24-4a66-a5d3-d77cdf8b2acf\" xlink:actuate=\"onRequest\" xlink:href=\"psysml:2fd52497-3b24-4a66-a5d3-d77cdf8b2acf\" xlink:show=\"new\" xlink:title=\"psysml:2fd52497-3b24-4a66-a5d3-d77cdf8b2acf\" xlink:type=\"simple\"><rect fill=\"#FFFFFF\" height=\"45.9375\" id=\"E5\" rx=\"10\" ry=\"10\" style=\"stroke: #383838; stroke-width: 1.5;\" width=\"199\" x=\"237.5\" y=\"41\"/><text fill=\"#000000\" font-family=\"sans-serif\" font-size=\"12\" font-style=\"italic\" lengthAdjust=\"spacingAndGlyphs\" textLength=\"64\" x=\"305\" y=\"57.1387\">«analysis»</text><text fill=\"#000000\" font-family=\"sans-serif\" font-size=\"12\" lengthAdjust=\"spacingAndGlyphs\" textLength=\"193\" x=\"240.5\" y=\"71.1074\">engineTradeStudy: TradeStudy</text><line style=\"stroke: #383838; stroke-width: 1.5;\" x1=\"238.5\" x2=\"435.5\" y1=\"78.9375\" y2=\"78.9375\"/></a><!--MD5=[60a26617385b1d2d0262a64233df1f8d]\n",
       "class E6--><a href=\"psysml:2c27f52f-f536-4fc6-bf8d-fd6e3fd13c39\" target=\"_top\" title=\"psysml:2c27f52f-f536-4fc6-bf8d-fd6e3fd13c39\" xlink:actuate=\"onRequest\" xlink:href=\"psysml:2c27f52f-f536-4fc6-bf8d-fd6e3fd13c39\" xlink:show=\"new\" xlink:title=\"psysml:2c27f52f-f536-4fc6-bf8d-fd6e3fd13c39\" xlink:type=\"simple\"><rect fill=\"#FFFFFF\" height=\"45.9375\" id=\"E6\" rx=\"10\" ry=\"10\" style=\"stroke: #383838; stroke-width: 1.5;\" width=\"251\" x=\"76.5\" y=\"164\"/><text fill=\"#000000\" font-family=\"sans-serif\" font-size=\"12\" font-style=\"italic\" lengthAdjust=\"spacingAndGlyphs\" textLength=\"91\" x=\"156.5\" y=\"180.1387\">«requirement»</text><text fill=\"#000000\" font-family=\"sans-serif\" font-size=\"12\" lengthAdjust=\"spacingAndGlyphs\" textLength=\"245\" x=\"79.5\" y=\"194.1074\">tradeStudyObjective: MaximizeObjective</text><line style=\"stroke: #383838; stroke-width: 1.5;\" x1=\"77.5\" x2=\"326.5\" y1=\"201.9375\" y2=\"201.9375\"/></a><!--MD5=[2156ba9850f5573cc1fc38a6a4b2f02b]\n",
       "class E7--><a href=\"psysml:7b858bf3-8f8c-4105-a0db-0d0783f29576\" target=\"_top\" title=\"psysml:7b858bf3-8f8c-4105-a0db-0d0783f29576\" xlink:actuate=\"onRequest\" xlink:href=\"psysml:7b858bf3-8f8c-4105-a0db-0d0783f29576\" xlink:show=\"new\" xlink:title=\"psysml:7b858bf3-8f8c-4105-a0db-0d0783f29576\" xlink:type=\"simple\"><rect fill=\"#FFFFFF\" height=\"45.9375\" id=\"E7\" rx=\"10\" ry=\"10\" style=\"stroke: #383838; stroke-width: 1.5;\" width=\"116\" x=\"363\" y=\"164\"/><text fill=\"#000000\" font-family=\"sans-serif\" font-size=\"12\" font-style=\"italic\" lengthAdjust=\"spacingAndGlyphs\" textLength=\"82\" x=\"380\" y=\"180.1387\">«calculation»</text><text fill=\"#000000\" font-family=\"sans-serif\" font-size=\"12\" lengthAdjust=\"spacingAndGlyphs\" textLength=\"110\" x=\"366\" y=\"194.1074\">objectiveFunction</text><line style=\"stroke: #383838; stroke-width: 1.5;\" x1=\"364\" x2=\"478\" y1=\"201.9375\" y2=\"201.9375\"/></a><!--MD5=[b9389687b975829384b498ac4b7476b2]\n",
       "class E8--><a href=\"psysml:b0f7840c-11d7-45e2-a5a4-bf208bef1113\" target=\"_top\" title=\"psysml:b0f7840c-11d7-45e2-a5a4-bf208bef1113\" xlink:actuate=\"onRequest\" xlink:href=\"psysml:b0f7840c-11d7-45e2-a5a4-bf208bef1113\" xlink:show=\"new\" xlink:title=\"psysml:b0f7840c-11d7-45e2-a5a4-bf208bef1113\" xlink:type=\"simple\"><rect fill=\"#FFFFFF\" height=\"45.9375\" id=\"E8\" rx=\"10\" ry=\"10\" style=\"stroke: #383838; stroke-width: 1.5;\" width=\"124\" x=\"69\" y=\"316\"/><text fill=\"#000000\" font-family=\"sans-serif\" font-size=\"12\" font-style=\"italic\" lengthAdjust=\"spacingAndGlyphs\" textLength=\"40\" x=\"111\" y=\"332.1387\">«part»</text><text fill=\"#000000\" font-family=\"sans-serif\" font-size=\"12\" lengthAdjust=\"spacingAndGlyphs\" textLength=\"118\" x=\"72\" y=\"346.1074\">alternative: Engine</text><line style=\"stroke: #383838; stroke-width: 1.5;\" x1=\"70\" x2=\"192\" y1=\"353.9375\" y2=\"353.9375\"/></a><!--MD5=[fd4143e9d270a159db93a4ea2a975926]\n",
       "class E9--><a href=\"psysml:9d098c9e-1a7b-415f-a301-c2067e422f2c\" target=\"_top\" title=\"psysml:9d098c9e-1a7b-415f-a301-c2067e422f2c\" xlink:actuate=\"onRequest\" xlink:href=\"psysml:9d098c9e-1a7b-415f-a301-c2067e422f2c\" xlink:show=\"new\" xlink:title=\"psysml:9d098c9e-1a7b-415f-a301-c2067e422f2c\" xlink:type=\"simple\"><rect fill=\"#FFFFFF\" height=\"45.9375\" id=\"E9\" rx=\"10\" ry=\"10\" style=\"stroke: #383838; stroke-width: 1.5;\" width=\"178\" x=\"289\" y=\"240\"/><text fill=\"#000000\" font-family=\"sans-serif\" font-size=\"12\" font-style=\"italic\" lengthAdjust=\"spacingAndGlyphs\" textLength=\"40\" x=\"358\" y=\"256.1387\">«part»</text><text fill=\"#000000\" font-family=\"sans-serif\" font-size=\"12\" lengthAdjust=\"spacingAndGlyphs\" textLength=\"172\" x=\"292\" y=\"270.1074\">selectedAlternative: Engine</text><line style=\"stroke: #383838; stroke-width: 1.5;\" x1=\"290\" x2=\"466\" y1=\"277.9375\" y2=\"277.9375\"/></a><!--MD5=[05d275557350bfb9b23a4ef7222b4c39]\n",
       "link E3 to E2--><a href=\"psysml:6d15a19a-180f-471d-b762-c393731ed9f0\" target=\"_top\" title=\"psysml:6d15a19a-180f-471d-b762-c393731ed9f0\" xlink:actuate=\"onRequest\" xlink:href=\"psysml:6d15a19a-180f-471d-b762-c393731ed9f0\" xlink:show=\"new\" xlink:title=\"psysml:6d15a19a-180f-471d-b762-c393731ed9f0\" xlink:type=\"simple\"><path d=\"M413.16,362.01 C374.25,379.54 319.95,404.01 280.39,421.84 \" fill=\"none\" id=\"E3-&gt;E2\" style=\"stroke: #383838; stroke-width: 1.0;\"/><polygon fill=\"#FFFFFF\" points=\"262.02,430.12,276.4666,415.9321,282.2183,428.696,262.02,430.12\" style=\"stroke: #383838; stroke-width: 1.0;\"/><ellipse cx=\"282.485\" cy=\"415.4137\" fill=\"#383838\" rx=\"2\" ry=\"2\" style=\"stroke: #383838; stroke-width: 1.0;\"/><ellipse cx=\"286.5934\" cy=\"424.5308\" fill=\"#383838\" rx=\"2\" ry=\"2\" style=\"stroke: #383838; stroke-width: 1.0;\"/></a><!--MD5=[185131fc0dcab0a4505a2ebe144e961b]\n",
       "link E4 to E2--><a href=\"psysml:247dd621-3d2a-4448-8896-ee4a55c37d47\" target=\"_top\" title=\"psysml:247dd621-3d2a-4448-8896-ee4a55c37d47\" xlink:actuate=\"onRequest\" xlink:href=\"psysml:247dd621-3d2a-4448-8896-ee4a55c37d47\" xlink:show=\"new\" xlink:title=\"psysml:247dd621-3d2a-4448-8896-ee4a55c37d47\" xlink:type=\"simple\"><path d=\"M300.13,362.01 C288.93,375.08 274.42,392.01 261.42,407.17 \" fill=\"none\" id=\"E4-&gt;E2\" style=\"stroke: #383838; stroke-width: 1.0;\"/><polygon fill=\"#FFFFFF\" points=\"248.15,422.66,255.1988,403.678,265.8291,412.7883,248.15,422.66\" style=\"stroke: #383838; stroke-width: 1.0;\"/><ellipse cx=\"260.4266\" cy=\"400.6515\" fill=\"#383838\" rx=\"2\" ry=\"2\" style=\"stroke: #383838; stroke-width: 1.0;\"/><ellipse cx=\"268.0196\" cy=\"407.1588\" fill=\"#383838\" rx=\"2\" ry=\"2\" style=\"stroke: #383838; stroke-width: 1.0;\"/></a><!--MD5=[15ebcb19ae302d9b601edb458606d402]\n",
       "link E5 to E2--><a href=\"psysml:21b7132a-f544-4487-a747-91d198ad447d\" target=\"_top\" title=\"psysml:21b7132a-f544-4487-a747-91d198ad447d\" xlink:actuate=\"onRequest\" xlink:href=\"psysml:21b7132a-f544-4487-a747-91d198ad447d\" xlink:show=\"new\" xlink:title=\"psysml:21b7132a-f544-4487-a747-91d198ad447d\" xlink:type=\"simple\"><path d=\"M274.96,87.09 C193.02,116.27 59,164 59,164 C59,164 51,316 51,316 C51,316 51,362 51,362 C51,362 139.06,403.06 191.31,427.42 \" fill=\"none\" id=\"E5-&gt;E2\" style=\"stroke: #383838; stroke-width: 1.0; stroke-dasharray: 7.0,7.0;\"/><polygon fill=\"#383838\" points=\"195.94,429.58,189.449,422.1728,191.4015,427.482,186.0922,429.4344,195.94,429.58\" style=\"stroke: #383838; stroke-width: 1.0;\"/><text fill=\"#000000\" font-family=\"sans-serif\" font-size=\"13\" lengthAdjust=\"spacingAndGlyphs\" textLength=\"62\" x=\"56\" y=\"267.5669\">«subject»</text></a><!--MD5=[9120cf2e5df3bff93db8f754bbbc09b4]\n",
       "link E5 to E6--><a href=\"psysml:44ec4945-cc63-4e9d-b8df-7b9a76da0bc7\" target=\"_top\" title=\"psysml:44ec4945-cc63-4e9d-b8df-7b9a76da0bc7\" xlink:actuate=\"onRequest\" xlink:href=\"psysml:44ec4945-cc63-4e9d-b8df-7b9a76da0bc7\" xlink:show=\"new\" xlink:title=\"psysml:44ec4945-cc63-4e9d-b8df-7b9a76da0bc7\" xlink:type=\"simple\"><path d=\"M312.24,87.19 C289.88,107.23 256.89,136.8 232.83,158.37 \" fill=\"none\" id=\"E5-&gt;E6\" style=\"stroke: #383838; stroke-width: 1.0;\"/><polygon fill=\"#383838\" points=\"226.6,163.95,234.5586,160.8419,230.5525,156.3752,226.6,163.95\" style=\"stroke: #383838; stroke-width: 1.0;\"/><text fill=\"#000000\" font-family=\"sans-serif\" font-size=\"13\" lengthAdjust=\"spacingAndGlyphs\" textLength=\"73\" x=\"278\" y=\"130.0669\">«objective»</text></a><!--MD5=[452b418e7f8a40397a49b8c0a78acc5b]\n",
       "reverse link E5 to E7--><a href=\"psysml:7b858bf3-8f8c-4105-a0db-0d0783f29576\" target=\"_top\" title=\"psysml:7b858bf3-8f8c-4105-a0db-0d0783f29576\" xlink:actuate=\"onRequest\" xlink:href=\"psysml:7b858bf3-8f8c-4105-a0db-0d0783f29576\" xlink:show=\"new\" xlink:title=\"psysml:7b858bf3-8f8c-4105-a0db-0d0783f29576\" xlink:type=\"simple\"><path d=\"M359.82,97.88 C374.39,118.86 392.87,145.48 405.69,163.95 \" fill=\"none\" id=\"E5&lt;-E7\" style=\"stroke: #383838; stroke-width: 1.0;\"/><polygon fill=\"#383838\" points=\"352.41,87.19,352.544,94.3999,359.2508,97.0492,359.1168,89.8393,352.41,87.19\" style=\"stroke: #383838; stroke-width: 1.0;\"/></a><!--MD5=[f1f3f9f2fc535e6147756cb86a7f2e32]\n",
       "link E8 to E2--><a href=\"psysml:2565caae-8b6e-420b-a56a-eab601fd4b55\" target=\"_top\" title=\"psysml:2565caae-8b6e-420b-a56a-eab601fd4b55\" xlink:actuate=\"onRequest\" xlink:href=\"psysml:2565caae-8b6e-420b-a56a-eab601fd4b55\" xlink:show=\"new\" xlink:title=\"psysml:2565caae-8b6e-420b-a56a-eab601fd4b55\" xlink:type=\"simple\"><path d=\"M151.54,362.01 C163.87,375.22 179.88,392.38 194.14,407.65 \" fill=\"none\" id=\"E8-&gt;E2\" style=\"stroke: #383838; stroke-width: 1.0;\"/><polygon fill=\"#FFFFFF\" points=\"208.15,422.66,190.0721,413.5393,200.3105,403.9907,208.15,422.66\" style=\"stroke: #383838; stroke-width: 1.0;\"/><ellipse cx=\"187.6471\" cy=\"408.0067\" fill=\"#383838\" rx=\"2\" ry=\"2\" style=\"stroke: #383838; stroke-width: 1.0;\"/><ellipse cx=\"194.9602\" cy=\"401.1863\" fill=\"#383838\" rx=\"2\" ry=\"2\" style=\"stroke: #383838; stroke-width: 1.0;\"/></a><!--MD5=[dc164f5e8a733ab456ef1add180e9e34]\n",
       "reverse link E7 to E8--><a href=\"psysml:b0f7840c-11d7-45e2-a5a4-bf208bef1113\" target=\"_top\" title=\"psysml:b0f7840c-11d7-45e2-a5a4-bf208bef1113\" xlink:actuate=\"onRequest\" xlink:href=\"psysml:b0f7840c-11d7-45e2-a5a4-bf208bef1113\" xlink:show=\"new\" xlink:title=\"psysml:b0f7840c-11d7-45e2-a5a4-bf208bef1113\" xlink:type=\"simple\"><path d=\"M350.55,212.59 C312,226.04 272,240 272,240 C272,240 204.6,286.85 163,315.76 \" fill=\"none\" id=\"E7&lt;-E8\" style=\"stroke: #383838; stroke-width: 1.0;\"/><polygon fill=\"#FFFFFF\" points=\"362.97,208.25,355.9867,206.452,351.641,212.2066,358.6244,214.0046,362.97,208.25\" style=\"stroke: #383838; stroke-width: 1.0;\"/></a><!--MD5=[5c3bb36fe832a92c7f0e1807dd65209d]\n",
       "link E9 to E2--><a href=\"psysml:a6aa3e55-56ca-44c6-92e8-1089eebb019a\" target=\"_top\" title=\"psysml:a6aa3e55-56ca-44c6-92e8-1089eebb019a\" xlink:actuate=\"onRequest\" xlink:href=\"psysml:a6aa3e55-56ca-44c6-92e8-1089eebb019a\" xlink:show=\"new\" xlink:title=\"psysml:a6aa3e55-56ca-44c6-92e8-1089eebb019a\" xlink:type=\"simple\"><path d=\"M322.87,286.05 C287.44,300.23 248,316 248,316 C248,316 240.73,365.33 235.19,402.98 \" fill=\"none\" id=\"E9-&gt;E2\" style=\"stroke: #383838; stroke-width: 1.0;\"/><polygon fill=\"#FFFFFF\" points=\"232.27,422.82,228.1134,403.0028,241.964,405.0429,232.27,422.82\" style=\"stroke: #383838; stroke-width: 1.0;\"/><ellipse cx=\"230.9227\" cy=\"397.6551\" fill=\"#383838\" rx=\"2\" ry=\"2\" style=\"stroke: #383838; stroke-width: 1.0;\"/><ellipse cx=\"240.8159\" cy=\"399.1123\" fill=\"#383838\" rx=\"2\" ry=\"2\" style=\"stroke: #383838; stroke-width: 1.0;\"/></a><!--MD5=[9ae28de373ca99bb8a1b38d63370ca7e]\n",
       "reverse link E5 to E9--><a href=\"psysml:9d098c9e-1a7b-415f-a301-c2067e422f2c\" target=\"_top\" title=\"psysml:9d098c9e-1a7b-415f-a301-c2067e422f2c\" xlink:actuate=\"onRequest\" xlink:href=\"psysml:9d098c9e-1a7b-415f-a301-c2067e422f2c\" xlink:show=\"new\" xlink:title=\"psysml:9d098c9e-1a7b-415f-a301-c2067e422f2c\" xlink:type=\"simple\"><path d=\"M384.16,94.18 C431.35,123.38 497,164 497,164 C497,164 497,210 497,210 C497,210 460.9,225.77 428.47,239.95 \" fill=\"none\" id=\"E5&lt;-E9\" style=\"stroke: #383838; stroke-width: 1.0;\"/><polygon fill=\"#FFFFFF\" points=\"372.91,87.22,375.907,93.7788,383.114,93.5349,380.117,86.9761,372.91,87.22\" style=\"stroke: #383838; stroke-width: 1.0;\"/></a><!--MD5=[7290e41f629f531b11fba2ff12dad42e]\n",
       "@startuml\r\n",
       "skinparam linetype polyline\r\n",
       "skinparam monochrome true\r\n",
       "skinparam classbackgroundcolor white\r\n",
       "skinparam shadowing false\r\n",
       "skinparam wrapWidth 300\r\n",
       "hide circle\r\n",
       "\r\n",
       "package \"TradeStudyTest\" as E1  [[psysml:656cfd98-5664-4901-a86b-535977508953 ]]  {\r\n",
       "comp def \"Engine\" as E2  <<(T,blue)part def>> [[psysml:66c87936-3609-4f97-8f24-8ad3882372ee ]] {\r\n",
       "}\r\n",
       "comp usage \"engine1: Engine\" as E3  <<(T,blue)part>> [[psysml:c974a942-078b-4d34-96c1-8ca70902d898 ]] {\r\n",
       "}\r\n",
       "comp usage \"engine2: Engine\" as E4  <<(T,blue)part>> [[psysml:f4d0ec5b-d124-41e4-9ba9-3cb67b695e7c ]] {\r\n",
       "}\r\n",
       "comp usage \"engineTradeStudy: TradeStudy\" as E5 <<analysis>> [[psysml:2fd52497-3b24-4a66-a5d3-d77cdf8b2acf ]] {\r\n",
       "}\r\n",
       "comp usage \"tradeStudyObjective: MaximizeObjective\" as E6  <<(T,blue)requirement>> [[psysml:2c27f52f-f536-4fc6-bf8d-fd6e3fd13c39 ]] {\r\n",
       "}\r\n",
       "comp usage \"objectiveFunction\" as E7  <<(T,blue)calculation>> [[psysml:7b858bf3-8f8c-4105-a0db-0d0783f29576 ]] {\r\n",
       "}\r\n",
       "comp usage \"alternative: Engine\" as E8  <<(T,blue)part>> [[psysml:b0f7840c-11d7-45e2-a5a4-bf208bef1113 ]] {\r\n",
       "}\r\n",
       "comp usage \"selectedAlternative: Engine\" as E9  <<(T,blue)part>> [[psysml:9d098c9e-1a7b-415f-a301-c2067e422f2c ]] {\r\n",
       "}\r\n",
       "E3 - -:|> E2 [[psysml:6d15a19a-180f-471d-b762-c393731ed9f0 ]] \r\n",
       "E4 - -:|> E2 [[psysml:247dd621-3d2a-4448-8896-ee4a55c37d47 ]] \r\n",
       "E5 ..> E2 [[psysml:21b7132a-f544-4487-a747-91d198ad447d ]] : <<subject>>\r\n",
       "E5 - ->> E6 [[psysml:44ec4945-cc63-4e9d-b8df-7b9a76da0bc7 ]] : <<objective>>\r\n",
       "E5 *- - E7 [[psysml:7b858bf3-8f8c-4105-a0db-0d0783f29576 ]] \r\n",
       "E8 - -:|> E2 [[psysml:2565caae-8b6e-420b-a56a-eab601fd4b55 ]] \r\n",
       "E7 o- - E8 [[psysml:b0f7840c-11d7-45e2-a5a4-bf208bef1113 ]] \r\n",
       "E9 - -:|> E2 [[psysml:a6aa3e55-56ca-44c6-92e8-1089eebb019a ]] \r\n",
       "E5 o- - E9 [[psysml:9d098c9e-1a7b-415f-a301-c2067e422f2c ]] \r\n",
       "}\r\n",
       "@enduml\r\n",
       "\n",
       "PlantUML version 1.2020.13(Sat Jun 13 12:26:38 UTC 2020)\n",
       "(EPL source distribution)\n",
       "Java Runtime: OpenJDK Runtime Environment\n",
       "JVM: OpenJDK 64-Bit Server VM\n",
       "Default Encoding: UTF-8\n",
       "Language: en\n",
       "Country: null\n",
       "--></g></svg>"
      ]
     },
     "execution_count": 9,
     "metadata": {},
     "output_type": "execute_result"
    }
   ],
   "source": [
    "%viz --style=\"POLYLINE\" --view=\"Default\" \"TradeStudyTest\""
   ]
  },
  {
   "cell_type": "code",
   "execution_count": 10,
   "id": "greater-welsh",
   "metadata": {
    "execution": {
     "iopub.execute_input": "2021-03-25T13:19:17.063929Z",
     "iopub.status.busy": "2021-03-25T13:19:17.063241Z",
     "iopub.status.idle": "2021-03-25T13:19:17.320704Z",
     "shell.execute_reply": "2021-03-25T13:19:17.321945Z"
    }
   },
   "outputs": [
    {
     "data": {
      "image/svg+xml": [
       "<?xml version=\"1.0\" encoding=\"UTF-8\" standalone=\"no\"?><svg xmlns=\"http://www.w3.org/2000/svg\" xmlns:xlink=\"http://www.w3.org/1999/xlink\" contentScriptType=\"application/ecmascript\" contentStyleType=\"text/css\" height=\"497px\" preserveAspectRatio=\"none\" style=\"width:554px;height:497px;\" version=\"1.1\" viewBox=\"0 0 554 497\" width=\"554px\" zoomAndPan=\"magnify\"><defs/><g><!--MD5=[fbc87193dbaf4d95561dea2c320d4a47]\n",
       "cluster E1--><a href=\"psysml:656cfd98-5664-4901-a86b-535977508953\" target=\"_top\" title=\"psysml:656cfd98-5664-4901-a86b-535977508953\" xlink:actuate=\"onRequest\" xlink:href=\"psysml:656cfd98-5664-4901-a86b-535977508953\" xlink:show=\"new\" xlink:title=\"psysml:656cfd98-5664-4901-a86b-535977508953\" xlink:type=\"simple\"><polygon fill=\"#FFFFFF\" points=\"16,6,148,6,155,28.2969,532,28.2969,532,485,16,485,16,6\" style=\"stroke: #000000; stroke-width: 1.5;\"/><line style=\"stroke: #000000; stroke-width: 1.5;\" x1=\"16\" x2=\"155\" y1=\"28.2969\" y2=\"28.2969\"/><text fill=\"#000000\" font-family=\"sans-serif\" font-size=\"14\" font-weight=\"bold\" lengthAdjust=\"spacingAndGlyphs\" textLength=\"126\" x=\"20\" y=\"20.9951\">TradeStudyTest</text></a><!--MD5=[b4997ac47864f28c2f74865a473b2911]\n",
       "class E2--><a href=\"psysml:66c87936-3609-4f97-8f24-8ad3882372ee\" target=\"_top\" title=\"psysml:66c87936-3609-4f97-8f24-8ad3882372ee\" xlink:actuate=\"onRequest\" xlink:href=\"psysml:66c87936-3609-4f97-8f24-8ad3882372ee\" xlink:show=\"new\" xlink:title=\"psysml:66c87936-3609-4f97-8f24-8ad3882372ee\" xlink:type=\"simple\"><rect fill=\"#FFFFFF\" height=\"45.9375\" id=\"E2\" style=\"stroke: #383838; stroke-width: 1.5;\" width=\"66\" x=\"196\" y=\"423\"/><text fill=\"#000000\" font-family=\"sans-serif\" font-size=\"12\" font-style=\"italic\" lengthAdjust=\"spacingAndGlyphs\" textLength=\"64\" x=\"197\" y=\"439.1387\">«part def»</text><text fill=\"#000000\" font-family=\"sans-serif\" font-size=\"12\" lengthAdjust=\"spacingAndGlyphs\" textLength=\"43\" x=\"207.5\" y=\"453.1074\">Engine</text><line style=\"stroke: #383838; stroke-width: 1.5;\" x1=\"197\" x2=\"261\" y1=\"460.9375\" y2=\"460.9375\"/></a><!--MD5=[09b614a08d8cba4a07c9adeb5e0fee81]\n",
       "class E3--><a href=\"psysml:c974a942-078b-4d34-96c1-8ca70902d898\" target=\"_top\" title=\"psysml:c974a942-078b-4d34-96c1-8ca70902d898\" xlink:actuate=\"onRequest\" xlink:href=\"psysml:c974a942-078b-4d34-96c1-8ca70902d898\" xlink:show=\"new\" xlink:title=\"psysml:c974a942-078b-4d34-96c1-8ca70902d898\" xlink:type=\"simple\"><rect fill=\"#FFFFFF\" height=\"45.9375\" id=\"E3\" rx=\"10\" ry=\"10\" style=\"stroke: #383838; stroke-width: 1.5;\" width=\"108\" x=\"408\" y=\"316\"/><text fill=\"#000000\" font-family=\"sans-serif\" font-size=\"12\" font-style=\"italic\" lengthAdjust=\"spacingAndGlyphs\" textLength=\"40\" x=\"442\" y=\"332.1387\">«part»</text><text fill=\"#000000\" font-family=\"sans-serif\" font-size=\"12\" lengthAdjust=\"spacingAndGlyphs\" textLength=\"102\" x=\"411\" y=\"346.1074\">engine1: Engine</text><line style=\"stroke: #383838; stroke-width: 1.5;\" x1=\"409\" x2=\"515\" y1=\"353.9375\" y2=\"353.9375\"/></a><!--MD5=[ebbe1d658d1005bcc118a6aa81145e00]\n",
       "class E4--><a href=\"psysml:f4d0ec5b-d124-41e4-9ba9-3cb67b695e7c\" target=\"_top\" title=\"psysml:f4d0ec5b-d124-41e4-9ba9-3cb67b695e7c\" xlink:actuate=\"onRequest\" xlink:href=\"psysml:f4d0ec5b-d124-41e4-9ba9-3cb67b695e7c\" xlink:show=\"new\" xlink:title=\"psysml:f4d0ec5b-d124-41e4-9ba9-3cb67b695e7c\" xlink:type=\"simple\"><rect fill=\"#FFFFFF\" height=\"45.9375\" id=\"E4\" rx=\"10\" ry=\"10\" style=\"stroke: #383838; stroke-width: 1.5;\" width=\"108\" x=\"265\" y=\"316\"/><text fill=\"#000000\" font-family=\"sans-serif\" font-size=\"12\" font-style=\"italic\" lengthAdjust=\"spacingAndGlyphs\" textLength=\"40\" x=\"299\" y=\"332.1387\">«part»</text><text fill=\"#000000\" font-family=\"sans-serif\" font-size=\"12\" lengthAdjust=\"spacingAndGlyphs\" textLength=\"102\" x=\"268\" y=\"346.1074\">engine2: Engine</text><line style=\"stroke: #383838; stroke-width: 1.5;\" x1=\"266\" x2=\"372\" y1=\"353.9375\" y2=\"353.9375\"/></a><!--MD5=[270fce915f116d4de14055a7c1d9a0f3]\n",
       "class E5--><a href=\"psysml:2fd52497-3b24-4a66-a5d3-d77cdf8b2acf\" target=\"_top\" title=\"psysml:2fd52497-3b24-4a66-a5d3-d77cdf8b2acf\" xlink:actuate=\"onRequest\" xlink:href=\"psysml:2fd52497-3b24-4a66-a5d3-d77cdf8b2acf\" xlink:show=\"new\" xlink:title=\"psysml:2fd52497-3b24-4a66-a5d3-d77cdf8b2acf\" xlink:type=\"simple\"><rect fill=\"#FFFFFF\" height=\"45.9375\" id=\"E5\" rx=\"10\" ry=\"10\" style=\"stroke: #383838; stroke-width: 1.5;\" width=\"199\" x=\"237.5\" y=\"41\"/><text fill=\"#000000\" font-family=\"sans-serif\" font-size=\"12\" font-style=\"italic\" lengthAdjust=\"spacingAndGlyphs\" textLength=\"64\" x=\"305\" y=\"57.1387\">«analysis»</text><text fill=\"#000000\" font-family=\"sans-serif\" font-size=\"12\" lengthAdjust=\"spacingAndGlyphs\" textLength=\"193\" x=\"240.5\" y=\"71.1074\">engineTradeStudy: TradeStudy</text><line style=\"stroke: #383838; stroke-width: 1.5;\" x1=\"238.5\" x2=\"435.5\" y1=\"78.9375\" y2=\"78.9375\"/></a><!--MD5=[60a26617385b1d2d0262a64233df1f8d]\n",
       "class E6--><a href=\"psysml:2c27f52f-f536-4fc6-bf8d-fd6e3fd13c39\" target=\"_top\" title=\"psysml:2c27f52f-f536-4fc6-bf8d-fd6e3fd13c39\" xlink:actuate=\"onRequest\" xlink:href=\"psysml:2c27f52f-f536-4fc6-bf8d-fd6e3fd13c39\" xlink:show=\"new\" xlink:title=\"psysml:2c27f52f-f536-4fc6-bf8d-fd6e3fd13c39\" xlink:type=\"simple\"><rect fill=\"#FFFFFF\" height=\"45.9375\" id=\"E6\" rx=\"10\" ry=\"10\" style=\"stroke: #383838; stroke-width: 1.5;\" width=\"251\" x=\"76.5\" y=\"164\"/><text fill=\"#000000\" font-family=\"sans-serif\" font-size=\"12\" font-style=\"italic\" lengthAdjust=\"spacingAndGlyphs\" textLength=\"91\" x=\"156.5\" y=\"180.1387\">«requirement»</text><text fill=\"#000000\" font-family=\"sans-serif\" font-size=\"12\" lengthAdjust=\"spacingAndGlyphs\" textLength=\"245\" x=\"79.5\" y=\"194.1074\">tradeStudyObjective: MaximizeObjective</text><line style=\"stroke: #383838; stroke-width: 1.5;\" x1=\"77.5\" x2=\"326.5\" y1=\"201.9375\" y2=\"201.9375\"/></a><!--MD5=[2156ba9850f5573cc1fc38a6a4b2f02b]\n",
       "class E7--><a href=\"psysml:7b858bf3-8f8c-4105-a0db-0d0783f29576\" target=\"_top\" title=\"psysml:7b858bf3-8f8c-4105-a0db-0d0783f29576\" xlink:actuate=\"onRequest\" xlink:href=\"psysml:7b858bf3-8f8c-4105-a0db-0d0783f29576\" xlink:show=\"new\" xlink:title=\"psysml:7b858bf3-8f8c-4105-a0db-0d0783f29576\" xlink:type=\"simple\"><rect fill=\"#FFFFFF\" height=\"45.9375\" id=\"E7\" rx=\"10\" ry=\"10\" style=\"stroke: #383838; stroke-width: 1.5;\" width=\"116\" x=\"363\" y=\"164\"/><text fill=\"#000000\" font-family=\"sans-serif\" font-size=\"12\" font-style=\"italic\" lengthAdjust=\"spacingAndGlyphs\" textLength=\"82\" x=\"380\" y=\"180.1387\">«calculation»</text><text fill=\"#000000\" font-family=\"sans-serif\" font-size=\"12\" lengthAdjust=\"spacingAndGlyphs\" textLength=\"110\" x=\"366\" y=\"194.1074\">objectiveFunction</text><line style=\"stroke: #383838; stroke-width: 1.5;\" x1=\"364\" x2=\"478\" y1=\"201.9375\" y2=\"201.9375\"/></a><!--MD5=[b9389687b975829384b498ac4b7476b2]\n",
       "class E8--><a href=\"psysml:b0f7840c-11d7-45e2-a5a4-bf208bef1113\" target=\"_top\" title=\"psysml:b0f7840c-11d7-45e2-a5a4-bf208bef1113\" xlink:actuate=\"onRequest\" xlink:href=\"psysml:b0f7840c-11d7-45e2-a5a4-bf208bef1113\" xlink:show=\"new\" xlink:title=\"psysml:b0f7840c-11d7-45e2-a5a4-bf208bef1113\" xlink:type=\"simple\"><rect fill=\"#FFFFFF\" height=\"45.9375\" id=\"E8\" rx=\"10\" ry=\"10\" style=\"stroke: #383838; stroke-width: 1.5;\" width=\"124\" x=\"69\" y=\"316\"/><text fill=\"#000000\" font-family=\"sans-serif\" font-size=\"12\" font-style=\"italic\" lengthAdjust=\"spacingAndGlyphs\" textLength=\"40\" x=\"111\" y=\"332.1387\">«part»</text><text fill=\"#000000\" font-family=\"sans-serif\" font-size=\"12\" lengthAdjust=\"spacingAndGlyphs\" textLength=\"118\" x=\"72\" y=\"346.1074\">alternative: Engine</text><line style=\"stroke: #383838; stroke-width: 1.5;\" x1=\"70\" x2=\"192\" y1=\"353.9375\" y2=\"353.9375\"/></a><!--MD5=[fd4143e9d270a159db93a4ea2a975926]\n",
       "class E9--><a href=\"psysml:9d098c9e-1a7b-415f-a301-c2067e422f2c\" target=\"_top\" title=\"psysml:9d098c9e-1a7b-415f-a301-c2067e422f2c\" xlink:actuate=\"onRequest\" xlink:href=\"psysml:9d098c9e-1a7b-415f-a301-c2067e422f2c\" xlink:show=\"new\" xlink:title=\"psysml:9d098c9e-1a7b-415f-a301-c2067e422f2c\" xlink:type=\"simple\"><rect fill=\"#FFFFFF\" height=\"45.9375\" id=\"E9\" rx=\"10\" ry=\"10\" style=\"stroke: #383838; stroke-width: 1.5;\" width=\"178\" x=\"289\" y=\"240\"/><text fill=\"#000000\" font-family=\"sans-serif\" font-size=\"12\" font-style=\"italic\" lengthAdjust=\"spacingAndGlyphs\" textLength=\"40\" x=\"358\" y=\"256.1387\">«part»</text><text fill=\"#000000\" font-family=\"sans-serif\" font-size=\"12\" lengthAdjust=\"spacingAndGlyphs\" textLength=\"172\" x=\"292\" y=\"270.1074\">selectedAlternative: Engine</text><line style=\"stroke: #383838; stroke-width: 1.5;\" x1=\"290\" x2=\"466\" y1=\"277.9375\" y2=\"277.9375\"/></a><!--MD5=[05d275557350bfb9b23a4ef7222b4c39]\n",
       "link E3 to E2--><a href=\"psysml:6d15a19a-180f-471d-b762-c393731ed9f0\" target=\"_top\" title=\"psysml:6d15a19a-180f-471d-b762-c393731ed9f0\" xlink:actuate=\"onRequest\" xlink:href=\"psysml:6d15a19a-180f-471d-b762-c393731ed9f0\" xlink:show=\"new\" xlink:title=\"psysml:6d15a19a-180f-471d-b762-c393731ed9f0\" xlink:type=\"simple\"><path d=\"M413.16,362.01 C374.25,379.54 319.95,404.01 280.39,421.84 \" fill=\"none\" id=\"E3-&gt;E2\" style=\"stroke: #383838; stroke-width: 1.0;\"/><polygon fill=\"#FFFFFF\" points=\"262.02,430.12,276.4666,415.9321,282.2183,428.696,262.02,430.12\" style=\"stroke: #383838; stroke-width: 1.0;\"/><ellipse cx=\"282.485\" cy=\"415.4137\" fill=\"#383838\" rx=\"2\" ry=\"2\" style=\"stroke: #383838; stroke-width: 1.0;\"/><ellipse cx=\"286.5934\" cy=\"424.5308\" fill=\"#383838\" rx=\"2\" ry=\"2\" style=\"stroke: #383838; stroke-width: 1.0;\"/></a><!--MD5=[185131fc0dcab0a4505a2ebe144e961b]\n",
       "link E4 to E2--><a href=\"psysml:247dd621-3d2a-4448-8896-ee4a55c37d47\" target=\"_top\" title=\"psysml:247dd621-3d2a-4448-8896-ee4a55c37d47\" xlink:actuate=\"onRequest\" xlink:href=\"psysml:247dd621-3d2a-4448-8896-ee4a55c37d47\" xlink:show=\"new\" xlink:title=\"psysml:247dd621-3d2a-4448-8896-ee4a55c37d47\" xlink:type=\"simple\"><path d=\"M300.13,362.01 C288.93,375.08 274.42,392.01 261.42,407.17 \" fill=\"none\" id=\"E4-&gt;E2\" style=\"stroke: #383838; stroke-width: 1.0;\"/><polygon fill=\"#FFFFFF\" points=\"248.15,422.66,255.1988,403.678,265.8291,412.7883,248.15,422.66\" style=\"stroke: #383838; stroke-width: 1.0;\"/><ellipse cx=\"260.4266\" cy=\"400.6515\" fill=\"#383838\" rx=\"2\" ry=\"2\" style=\"stroke: #383838; stroke-width: 1.0;\"/><ellipse cx=\"268.0196\" cy=\"407.1588\" fill=\"#383838\" rx=\"2\" ry=\"2\" style=\"stroke: #383838; stroke-width: 1.0;\"/></a><!--MD5=[15ebcb19ae302d9b601edb458606d402]\n",
       "link E5 to E2--><a href=\"psysml:21b7132a-f544-4487-a747-91d198ad447d\" target=\"_top\" title=\"psysml:21b7132a-f544-4487-a747-91d198ad447d\" xlink:actuate=\"onRequest\" xlink:href=\"psysml:21b7132a-f544-4487-a747-91d198ad447d\" xlink:show=\"new\" xlink:title=\"psysml:21b7132a-f544-4487-a747-91d198ad447d\" xlink:type=\"simple\"><path d=\"M274.96,87.09 C193.02,116.27 59,164 59,164 C59,164 51,316 51,316 C51,316 51,362 51,362 C51,362 139.06,403.06 191.31,427.42 \" fill=\"none\" id=\"E5-&gt;E2\" style=\"stroke: #383838; stroke-width: 1.0; stroke-dasharray: 7.0,7.0;\"/><polygon fill=\"#383838\" points=\"195.94,429.58,189.449,422.1728,191.4015,427.482,186.0922,429.4344,195.94,429.58\" style=\"stroke: #383838; stroke-width: 1.0;\"/><text fill=\"#000000\" font-family=\"sans-serif\" font-size=\"13\" lengthAdjust=\"spacingAndGlyphs\" textLength=\"62\" x=\"56\" y=\"267.5669\">«subject»</text></a><!--MD5=[9120cf2e5df3bff93db8f754bbbc09b4]\n",
       "link E5 to E6--><a href=\"psysml:44ec4945-cc63-4e9d-b8df-7b9a76da0bc7\" target=\"_top\" title=\"psysml:44ec4945-cc63-4e9d-b8df-7b9a76da0bc7\" xlink:actuate=\"onRequest\" xlink:href=\"psysml:44ec4945-cc63-4e9d-b8df-7b9a76da0bc7\" xlink:show=\"new\" xlink:title=\"psysml:44ec4945-cc63-4e9d-b8df-7b9a76da0bc7\" xlink:type=\"simple\"><path d=\"M312.24,87.19 C289.88,107.23 256.89,136.8 232.83,158.37 \" fill=\"none\" id=\"E5-&gt;E6\" style=\"stroke: #383838; stroke-width: 1.0;\"/><polygon fill=\"#383838\" points=\"226.6,163.95,234.5586,160.8419,230.5525,156.3752,226.6,163.95\" style=\"stroke: #383838; stroke-width: 1.0;\"/><text fill=\"#000000\" font-family=\"sans-serif\" font-size=\"13\" lengthAdjust=\"spacingAndGlyphs\" textLength=\"73\" x=\"278\" y=\"130.0669\">«objective»</text></a><!--MD5=[452b418e7f8a40397a49b8c0a78acc5b]\n",
       "reverse link E5 to E7--><a href=\"psysml:7b858bf3-8f8c-4105-a0db-0d0783f29576\" target=\"_top\" title=\"psysml:7b858bf3-8f8c-4105-a0db-0d0783f29576\" xlink:actuate=\"onRequest\" xlink:href=\"psysml:7b858bf3-8f8c-4105-a0db-0d0783f29576\" xlink:show=\"new\" xlink:title=\"psysml:7b858bf3-8f8c-4105-a0db-0d0783f29576\" xlink:type=\"simple\"><path d=\"M359.82,97.88 C374.39,118.86 392.87,145.48 405.69,163.95 \" fill=\"none\" id=\"E5&lt;-E7\" style=\"stroke: #383838; stroke-width: 1.0;\"/><polygon fill=\"#383838\" points=\"352.41,87.19,352.544,94.3999,359.2508,97.0492,359.1168,89.8393,352.41,87.19\" style=\"stroke: #383838; stroke-width: 1.0;\"/></a><!--MD5=[f1f3f9f2fc535e6147756cb86a7f2e32]\n",
       "link E8 to E2--><a href=\"psysml:2565caae-8b6e-420b-a56a-eab601fd4b55\" target=\"_top\" title=\"psysml:2565caae-8b6e-420b-a56a-eab601fd4b55\" xlink:actuate=\"onRequest\" xlink:href=\"psysml:2565caae-8b6e-420b-a56a-eab601fd4b55\" xlink:show=\"new\" xlink:title=\"psysml:2565caae-8b6e-420b-a56a-eab601fd4b55\" xlink:type=\"simple\"><path d=\"M151.54,362.01 C163.87,375.22 179.88,392.38 194.14,407.65 \" fill=\"none\" id=\"E8-&gt;E2\" style=\"stroke: #383838; stroke-width: 1.0;\"/><polygon fill=\"#FFFFFF\" points=\"208.15,422.66,190.0721,413.5393,200.3105,403.9907,208.15,422.66\" style=\"stroke: #383838; stroke-width: 1.0;\"/><ellipse cx=\"187.6471\" cy=\"408.0067\" fill=\"#383838\" rx=\"2\" ry=\"2\" style=\"stroke: #383838; stroke-width: 1.0;\"/><ellipse cx=\"194.9602\" cy=\"401.1863\" fill=\"#383838\" rx=\"2\" ry=\"2\" style=\"stroke: #383838; stroke-width: 1.0;\"/></a><!--MD5=[dc164f5e8a733ab456ef1add180e9e34]\n",
       "reverse link E7 to E8--><a href=\"psysml:b0f7840c-11d7-45e2-a5a4-bf208bef1113\" target=\"_top\" title=\"psysml:b0f7840c-11d7-45e2-a5a4-bf208bef1113\" xlink:actuate=\"onRequest\" xlink:href=\"psysml:b0f7840c-11d7-45e2-a5a4-bf208bef1113\" xlink:show=\"new\" xlink:title=\"psysml:b0f7840c-11d7-45e2-a5a4-bf208bef1113\" xlink:type=\"simple\"><path d=\"M350.55,212.59 C312,226.04 272,240 272,240 C272,240 204.6,286.85 163,315.76 \" fill=\"none\" id=\"E7&lt;-E8\" style=\"stroke: #383838; stroke-width: 1.0;\"/><polygon fill=\"#FFFFFF\" points=\"362.97,208.25,355.9867,206.452,351.641,212.2066,358.6244,214.0046,362.97,208.25\" style=\"stroke: #383838; stroke-width: 1.0;\"/></a><!--MD5=[5c3bb36fe832a92c7f0e1807dd65209d]\n",
       "link E9 to E2--><a href=\"psysml:a6aa3e55-56ca-44c6-92e8-1089eebb019a\" target=\"_top\" title=\"psysml:a6aa3e55-56ca-44c6-92e8-1089eebb019a\" xlink:actuate=\"onRequest\" xlink:href=\"psysml:a6aa3e55-56ca-44c6-92e8-1089eebb019a\" xlink:show=\"new\" xlink:title=\"psysml:a6aa3e55-56ca-44c6-92e8-1089eebb019a\" xlink:type=\"simple\"><path d=\"M322.87,286.05 C287.44,300.23 248,316 248,316 C248,316 240.73,365.33 235.19,402.98 \" fill=\"none\" id=\"E9-&gt;E2\" style=\"stroke: #383838; stroke-width: 1.0;\"/><polygon fill=\"#FFFFFF\" points=\"232.27,422.82,228.1134,403.0028,241.964,405.0429,232.27,422.82\" style=\"stroke: #383838; stroke-width: 1.0;\"/><ellipse cx=\"230.9227\" cy=\"397.6551\" fill=\"#383838\" rx=\"2\" ry=\"2\" style=\"stroke: #383838; stroke-width: 1.0;\"/><ellipse cx=\"240.8159\" cy=\"399.1123\" fill=\"#383838\" rx=\"2\" ry=\"2\" style=\"stroke: #383838; stroke-width: 1.0;\"/></a><!--MD5=[9ae28de373ca99bb8a1b38d63370ca7e]\n",
       "reverse link E5 to E9--><a href=\"psysml:9d098c9e-1a7b-415f-a301-c2067e422f2c\" target=\"_top\" title=\"psysml:9d098c9e-1a7b-415f-a301-c2067e422f2c\" xlink:actuate=\"onRequest\" xlink:href=\"psysml:9d098c9e-1a7b-415f-a301-c2067e422f2c\" xlink:show=\"new\" xlink:title=\"psysml:9d098c9e-1a7b-415f-a301-c2067e422f2c\" xlink:type=\"simple\"><path d=\"M384.16,94.18 C431.35,123.38 497,164 497,164 C497,164 497,210 497,210 C497,210 460.9,225.77 428.47,239.95 \" fill=\"none\" id=\"E5&lt;-E9\" style=\"stroke: #383838; stroke-width: 1.0;\"/><polygon fill=\"#FFFFFF\" points=\"372.91,87.22,375.907,93.7788,383.114,93.5349,380.117,86.9761,372.91,87.22\" style=\"stroke: #383838; stroke-width: 1.0;\"/></a><!--MD5=[7290e41f629f531b11fba2ff12dad42e]\n",
       "@startuml\r\n",
       "skinparam linetype polyline\r\n",
       "skinparam monochrome true\r\n",
       "skinparam classbackgroundcolor white\r\n",
       "skinparam shadowing false\r\n",
       "skinparam wrapWidth 300\r\n",
       "hide circle\r\n",
       "\r\n",
       "package \"TradeStudyTest\" as E1  [[psysml:656cfd98-5664-4901-a86b-535977508953 ]]  {\r\n",
       "comp def \"Engine\" as E2  <<(T,blue)part def>> [[psysml:66c87936-3609-4f97-8f24-8ad3882372ee ]] {\r\n",
       "}\r\n",
       "comp usage \"engine1: Engine\" as E3  <<(T,blue)part>> [[psysml:c974a942-078b-4d34-96c1-8ca70902d898 ]] {\r\n",
       "}\r\n",
       "comp usage \"engine2: Engine\" as E4  <<(T,blue)part>> [[psysml:f4d0ec5b-d124-41e4-9ba9-3cb67b695e7c ]] {\r\n",
       "}\r\n",
       "comp usage \"engineTradeStudy: TradeStudy\" as E5 <<analysis>> [[psysml:2fd52497-3b24-4a66-a5d3-d77cdf8b2acf ]] {\r\n",
       "}\r\n",
       "comp usage \"tradeStudyObjective: MaximizeObjective\" as E6  <<(T,blue)requirement>> [[psysml:2c27f52f-f536-4fc6-bf8d-fd6e3fd13c39 ]] {\r\n",
       "}\r\n",
       "comp usage \"objectiveFunction\" as E7  <<(T,blue)calculation>> [[psysml:7b858bf3-8f8c-4105-a0db-0d0783f29576 ]] {\r\n",
       "}\r\n",
       "comp usage \"alternative: Engine\" as E8  <<(T,blue)part>> [[psysml:b0f7840c-11d7-45e2-a5a4-bf208bef1113 ]] {\r\n",
       "}\r\n",
       "comp usage \"selectedAlternative: Engine\" as E9  <<(T,blue)part>> [[psysml:9d098c9e-1a7b-415f-a301-c2067e422f2c ]] {\r\n",
       "}\r\n",
       "E3 - -:|> E2 [[psysml:6d15a19a-180f-471d-b762-c393731ed9f0 ]] \r\n",
       "E4 - -:|> E2 [[psysml:247dd621-3d2a-4448-8896-ee4a55c37d47 ]] \r\n",
       "E5 ..> E2 [[psysml:21b7132a-f544-4487-a747-91d198ad447d ]] : <<subject>>\r\n",
       "E5 - ->> E6 [[psysml:44ec4945-cc63-4e9d-b8df-7b9a76da0bc7 ]] : <<objective>>\r\n",
       "E5 *- - E7 [[psysml:7b858bf3-8f8c-4105-a0db-0d0783f29576 ]] \r\n",
       "E8 - -:|> E2 [[psysml:2565caae-8b6e-420b-a56a-eab601fd4b55 ]] \r\n",
       "E7 o- - E8 [[psysml:b0f7840c-11d7-45e2-a5a4-bf208bef1113 ]] \r\n",
       "E9 - -:|> E2 [[psysml:a6aa3e55-56ca-44c6-92e8-1089eebb019a ]] \r\n",
       "E5 o- - E9 [[psysml:9d098c9e-1a7b-415f-a301-c2067e422f2c ]] \r\n",
       "}\r\n",
       "@enduml\r\n",
       "\n",
       "PlantUML version 1.2020.13(Sat Jun 13 12:26:38 UTC 2020)\n",
       "(EPL source distribution)\n",
       "Java Runtime: OpenJDK Runtime Environment\n",
       "JVM: OpenJDK 64-Bit Server VM\n",
       "Default Encoding: UTF-8\n",
       "Language: en\n",
       "Country: null\n",
       "--></g></svg>"
      ]
     },
     "execution_count": 10,
     "metadata": {},
     "output_type": "execute_result"
    }
   ],
   "source": [
    "%viz --style=\"POLYLINE\" --view=\"Tree\" \"TradeStudyTest\""
   ]
  },
  {
   "cell_type": "code",
   "execution_count": 11,
   "id": "offensive-currency",
   "metadata": {
    "execution": {
     "iopub.execute_input": "2021-03-25T13:19:17.371939Z",
     "iopub.status.busy": "2021-03-25T13:19:17.370651Z",
     "iopub.status.idle": "2021-03-25T13:19:17.382314Z",
     "shell.execute_reply": "2021-03-25T13:19:17.382748Z"
    }
   },
   "outputs": [
    {
     "data": {
      "image/svg+xml": [
       "<?xml version=\"1.0\" encoding=\"UTF-8\" standalone=\"no\"?><svg xmlns=\"http://www.w3.org/2000/svg\" xmlns:xlink=\"http://www.w3.org/1999/xlink\" contentScriptType=\"application/ecmascript\" contentStyleType=\"text/css\" height=\"12px\" preserveAspectRatio=\"none\" style=\"width:12px;height:12px;\" version=\"1.1\" viewBox=\"0 0 12 12\" width=\"12px\" zoomAndPan=\"magnify\"><defs/><g><!--MD5=[896ac0e7a515d8dd7765a661cb4ee08b]\n",
       "@startuml\r\n",
       "skinparam linetype polyline\r\n",
       "skinparam monochrome true\r\n",
       "skinparam classbackgroundcolor white\r\n",
       "skinparam shadowing false\r\n",
       "skinparam wrapWidth 300\r\n",
       "hide circle\r\n",
       "\r\n",
       "@enduml\r\n",
       "\n",
       "PlantUML version 1.2020.13(Sat Jun 13 12:26:38 UTC 2020)\n",
       "(EPL source distribution)\n",
       "Java Runtime: OpenJDK Runtime Environment\n",
       "JVM: OpenJDK 64-Bit Server VM\n",
       "Default Encoding: UTF-8\n",
       "Language: en\n",
       "Country: null\n",
       "--></g></svg>"
      ]
     },
     "execution_count": 11,
     "metadata": {},
     "output_type": "execute_result"
    }
   ],
   "source": [
    "%viz --style=\"POLYLINE\" --view=\"State\" \"TradeStudyTest\""
   ]
  },
  {
   "cell_type": "code",
   "execution_count": 12,
   "id": "flying-synthesis",
   "metadata": {
    "execution": {
     "iopub.execute_input": "2021-03-25T13:19:17.434446Z",
     "iopub.status.busy": "2021-03-25T13:19:17.433469Z",
     "iopub.status.idle": "2021-03-25T13:19:17.519587Z",
     "shell.execute_reply": "2021-03-25T13:19:17.521210Z"
    }
   },
   "outputs": [
    {
     "data": {
      "image/svg+xml": [
       "<?xml version=\"1.0\" encoding=\"UTF-8\" standalone=\"no\"?><svg xmlns=\"http://www.w3.org/2000/svg\" xmlns:xlink=\"http://www.w3.org/1999/xlink\" contentScriptType=\"application/ecmascript\" contentStyleType=\"text/css\" height=\"112px\" preserveAspectRatio=\"none\" style=\"width:438px;height:112px;\" version=\"1.1\" viewBox=\"0 0 438 112\" width=\"438px\" zoomAndPan=\"magnify\"><defs/><g><!--MD5=[fbc87193dbaf4d95561dea2c320d4a47]\n",
       "cluster E1--><a href=\"psysml:656cfd98-5664-4901-a86b-535977508953\" target=\"_top\" title=\"psysml:656cfd98-5664-4901-a86b-535977508953\" xlink:actuate=\"onRequest\" xlink:href=\"psysml:656cfd98-5664-4901-a86b-535977508953\" xlink:show=\"new\" xlink:title=\"psysml:656cfd98-5664-4901-a86b-535977508953\" xlink:type=\"simple\"><polygon fill=\"#FFFFFF\" points=\"16,6,148,6,155,28.2969,416,28.2969,416,100,16,100,16,6\" style=\"stroke: #000000; stroke-width: 1.5;\"/><line style=\"stroke: #000000; stroke-width: 1.5;\" x1=\"16\" x2=\"155\" y1=\"28.2969\" y2=\"28.2969\"/><text fill=\"#000000\" font-family=\"sans-serif\" font-size=\"14\" font-weight=\"bold\" lengthAdjust=\"spacingAndGlyphs\" textLength=\"126\" x=\"20\" y=\"20.9951\">TradeStudyTest</text></a><g id=\"E1.E2\"><a href=\"psysml:66c87936-3609-4f97-8f24-8ad3882372ee\" target=\"_top\" title=\"psysml:66c87936-3609-4f97-8f24-8ad3882372ee\" xlink:actuate=\"onRequest\" xlink:href=\"psysml:66c87936-3609-4f97-8f24-8ad3882372ee\" xlink:show=\"new\" xlink:title=\"psysml:66c87936-3609-4f97-8f24-8ad3882372ee\" xlink:type=\"simple\"><rect fill=\"#FFFFFF\" height=\"42.9375\" id=\"E2\" style=\"stroke: #383838; stroke-width: 1.5;\" width=\"71\" x=\"328.5\" y=\"41\"/><rect fill=\"#F8F8F8\" height=\"37.9375\" style=\"stroke: #383838; stroke-width: 1.5;\" width=\"71\" x=\"328.5\" y=\"41\"/><text fill=\"#000000\" font-family=\"sans-serif\" font-size=\"12\" font-style=\"italic\" lengthAdjust=\"spacingAndGlyphs\" textLength=\"64\" x=\"332\" y=\"57.1387\">«part def»</text><text fill=\"#000000\" font-family=\"sans-serif\" font-size=\"12\" lengthAdjust=\"spacingAndGlyphs\" textLength=\"43\" x=\"342.5\" y=\"71.1074\">Engine</text></a></g><g id=\"E1.E3\"><a href=\"psysml:c974a942-078b-4d34-96c1-8ca70902d898\" target=\"_top\" title=\"psysml:c974a942-078b-4d34-96c1-8ca70902d898\" xlink:actuate=\"onRequest\" xlink:href=\"psysml:c974a942-078b-4d34-96c1-8ca70902d898\" xlink:show=\"new\" xlink:title=\"psysml:c974a942-078b-4d34-96c1-8ca70902d898\" xlink:type=\"simple\"><rect fill=\"#FFFFFF\" height=\"40\" id=\"E3\" rx=\"10\" ry=\"10\" style=\"stroke: #383838; stroke-width: 1.5;\" width=\"113\" x=\"180.5\" y=\"42.5\"/><rect fill=\"#F8F8F8\" height=\"23.9688\" rx=\"10\" ry=\"10\" style=\"stroke: #F8F8F8; stroke-width: 1.5;\" width=\"113\" x=\"180.5\" y=\"42.5\"/><rect fill=\"#F8F8F8\" height=\"10\" style=\"stroke: #F8F8F8; stroke-width: 1.5;\" width=\"113\" x=\"180.5\" y=\"56.4688\"/><rect fill=\"none\" height=\"40\" id=\"E3\" rx=\"10\" ry=\"10\" style=\"stroke: #383838; stroke-width: 1.5;\" width=\"113\" x=\"180.5\" y=\"42.5\"/><text fill=\"#000000\" font-family=\"sans-serif\" font-size=\"12\" lengthAdjust=\"spacingAndGlyphs\" textLength=\"102\" x=\"186\" y=\"58.6387\">engine1: Engine</text></a></g><g id=\"E1.E4\"><a href=\"psysml:f4d0ec5b-d124-41e4-9ba9-3cb67b695e7c\" target=\"_top\" title=\"psysml:f4d0ec5b-d124-41e4-9ba9-3cb67b695e7c\" xlink:actuate=\"onRequest\" xlink:href=\"psysml:f4d0ec5b-d124-41e4-9ba9-3cb67b695e7c\" xlink:show=\"new\" xlink:title=\"psysml:f4d0ec5b-d124-41e4-9ba9-3cb67b695e7c\" xlink:type=\"simple\"><rect fill=\"#FFFFFF\" height=\"40\" id=\"E4\" rx=\"10\" ry=\"10\" style=\"stroke: #383838; stroke-width: 1.5;\" width=\"113\" x=\"32.5\" y=\"42.5\"/><rect fill=\"#F8F8F8\" height=\"23.9688\" rx=\"10\" ry=\"10\" style=\"stroke: #F8F8F8; stroke-width: 1.5;\" width=\"113\" x=\"32.5\" y=\"42.5\"/><rect fill=\"#F8F8F8\" height=\"10\" style=\"stroke: #F8F8F8; stroke-width: 1.5;\" width=\"113\" x=\"32.5\" y=\"56.4688\"/><rect fill=\"none\" height=\"40\" id=\"E4\" rx=\"10\" ry=\"10\" style=\"stroke: #383838; stroke-width: 1.5;\" width=\"113\" x=\"32.5\" y=\"42.5\"/><text fill=\"#000000\" font-family=\"sans-serif\" font-size=\"12\" lengthAdjust=\"spacingAndGlyphs\" textLength=\"102\" x=\"38\" y=\"58.6387\">engine2: Engine</text></a></g><!--MD5=[941fad619ca30edc8717508dfc54eaca]\n",
       "@startuml\r\n",
       "skinparam ranksep 8\r\n",
       "skinparam rectangle {\r\n",
       " backgroundColor<<block>> LightGreen\r\n",
       "}\r\n",
       "skinparam linetype polyline\r\n",
       "skinparam monochrome true\r\n",
       "skinparam classbackgroundcolor white\r\n",
       "skinparam shadowing false\r\n",
       "skinparam wrapWidth 300\r\n",
       "hide circle\r\n",
       "\r\n",
       "package \"TradeStudyTest\" as E1  [[psysml:656cfd98-5664-4901-a86b-535977508953 ]]  {\r\n",
       "rec def \"Engine\" as E2  <<(T,blue)part def>> [[psysml:66c87936-3609-4f97-8f24-8ad3882372ee ]] {\r\n",
       "}\r\n",
       "rec usage \"engine1: Engine\" as E3  [[psysml:c974a942-078b-4d34-96c1-8ca70902d898 ]] {\r\n",
       "}\r\n",
       "rec usage \"engine2: Engine\" as E4  [[psysml:f4d0ec5b-d124-41e4-9ba9-3cb67b695e7c ]] {\r\n",
       "}\r\n",
       "}\r\n",
       "@enduml\r\n",
       "\n",
       "PlantUML version 1.2020.13(Sat Jun 13 12:26:38 UTC 2020)\n",
       "(EPL source distribution)\n",
       "Java Runtime: OpenJDK Runtime Environment\n",
       "JVM: OpenJDK 64-Bit Server VM\n",
       "Default Encoding: UTF-8\n",
       "Language: en\n",
       "Country: null\n",
       "--></g></svg>"
      ]
     },
     "execution_count": 12,
     "metadata": {},
     "output_type": "execute_result"
    }
   ],
   "source": [
    "%viz --style=\"POLYLINE\" --view=\"Interconnection\" \"TradeStudyTest\""
   ]
  },
  {
   "cell_type": "code",
   "execution_count": 13,
   "id": "hollywood-armenia",
   "metadata": {
    "execution": {
     "iopub.execute_input": "2021-03-25T13:19:17.571314Z",
     "iopub.status.busy": "2021-03-25T13:19:17.570473Z",
     "iopub.status.idle": "2021-03-25T13:19:17.678916Z",
     "shell.execute_reply": "2021-03-25T13:19:17.679424Z"
    }
   },
   "outputs": [
    {
     "data": {
      "image/svg+xml": [
       "<?xml version=\"1.0\" encoding=\"UTF-8\" standalone=\"no\"?><svg xmlns=\"http://www.w3.org/2000/svg\" xmlns:xlink=\"http://www.w3.org/1999/xlink\" contentScriptType=\"application/ecmascript\" contentStyleType=\"text/css\" height=\"128px\" preserveAspectRatio=\"none\" style=\"width:180px;height:128px;\" version=\"1.1\" viewBox=\"0 0 180 128\" width=\"180px\" zoomAndPan=\"magnify\"><defs/><g><!--MD5=[fbc87193dbaf4d95561dea2c320d4a47]\n",
       "cluster E1--><a href=\"psysml:2fd52497-3b24-4a66-a5d3-d77cdf8b2acf\" target=\"_top\" title=\"psysml:2fd52497-3b24-4a66-a5d3-d77cdf8b2acf\" xlink:actuate=\"onRequest\" xlink:href=\"psysml:2fd52497-3b24-4a66-a5d3-d77cdf8b2acf\" xlink:show=\"new\" xlink:title=\"psysml:2fd52497-3b24-4a66-a5d3-d77cdf8b2acf\" xlink:type=\"simple\"><rect fill=\"#FFFFFF\" height=\"110\" id=\"E1\" rx=\"10\" ry=\"10\" style=\"stroke: #383838; stroke-width: 1.5;\" width=\"161\" x=\"7\" y=\"7\"/><rect fill=\"#F8F8F8\" height=\"37.9375\" rx=\"10\" ry=\"10\" style=\"stroke: #F8F8F8; stroke-width: 1.5;\" width=\"161\" x=\"7\" y=\"7\"/><rect fill=\"#F8F8F8\" height=\"10\" style=\"stroke: #F8F8F8; stroke-width: 1.5;\" width=\"161\" x=\"7\" y=\"34.9375\"/><rect fill=\"none\" height=\"110\" id=\"E1\" rx=\"10\" ry=\"10\" style=\"stroke: #383838; stroke-width: 1.5;\" width=\"161\" x=\"7\" y=\"7\"/><text fill=\"#000000\" font-family=\"sans-serif\" font-size=\"12\" font-style=\"italic\" lengthAdjust=\"spacingAndGlyphs\" textLength=\"64\" x=\"55.5\" y=\"23.1387\">«analysis»</text><text fill=\"#000000\" font-family=\"sans-serif\" font-size=\"12\" lengthAdjust=\"spacingAndGlyphs\" textLength=\"114\" x=\"30.5\" y=\"37.1074\">engineTradeStudy</text><line style=\"stroke: #383838; stroke-width: 1.0;\" x1=\"7\" x2=\"168\" y1=\"44.9375\" y2=\"44.9375\"/></a><g id=\"E1.E2\"><a href=\"psysml:7b858bf3-8f8c-4105-a0db-0d0783f29576\" target=\"_top\" title=\"psysml:7b858bf3-8f8c-4105-a0db-0d0783f29576\" xlink:actuate=\"onRequest\" xlink:href=\"psysml:7b858bf3-8f8c-4105-a0db-0d0783f29576\" xlink:show=\"new\" xlink:title=\"psysml:7b858bf3-8f8c-4105-a0db-0d0783f29576\" xlink:type=\"simple\"><rect fill=\"#FFFFFF\" height=\"42.9375\" id=\"E2\" rx=\"10\" ry=\"10\" style=\"stroke: #383838; stroke-width: 1.5;\" width=\"121\" x=\"26.5\" y=\"58\"/><rect fill=\"#F8F8F8\" height=\"37.9375\" rx=\"10\" ry=\"10\" style=\"stroke: #F8F8F8; stroke-width: 1.5;\" width=\"121\" x=\"26.5\" y=\"58\"/><rect fill=\"#F8F8F8\" height=\"10\" style=\"stroke: #F8F8F8; stroke-width: 1.5;\" width=\"121\" x=\"26.5\" y=\"85.9375\"/><rect fill=\"none\" height=\"42.9375\" id=\"E2\" rx=\"10\" ry=\"10\" style=\"stroke: #383838; stroke-width: 1.5;\" width=\"121\" x=\"26.5\" y=\"58\"/><text fill=\"#000000\" font-family=\"sans-serif\" font-size=\"12\" font-style=\"italic\" lengthAdjust=\"spacingAndGlyphs\" textLength=\"82\" x=\"46\" y=\"74.1387\">«calculation»</text><text fill=\"#000000\" font-family=\"sans-serif\" font-size=\"12\" lengthAdjust=\"spacingAndGlyphs\" textLength=\"110\" x=\"32\" y=\"88.1074\">objectiveFunction</text></a></g><!--MD5=[8b6b0775606bf8c61e957b5cad7616f4]\n",
       "@startuml\r\n",
       "skinparam ranksep 8\r\n",
       "skinparam linetype polyline\r\n",
       "skinparam monochrome true\r\n",
       "skinparam classbackgroundcolor white\r\n",
       "skinparam shadowing false\r\n",
       "skinparam wrapWidth 300\r\n",
       "hide circle\r\n",
       "\r\n",
       "rec usage \"engineTradeStudy\" as E1 <<analysis>> [[psysml:2fd52497-3b24-4a66-a5d3-d77cdf8b2acf ]] {\r\n",
       "rec usage \"objectiveFunction\" as E2  <<(T,blue)calculation>> [[psysml:7b858bf3-8f8c-4105-a0db-0d0783f29576 ]] {\r\n",
       "}\r\n",
       "\r\n",
       "}\r\n",
       "\r\n",
       "@enduml\r\n",
       "\n",
       "PlantUML version 1.2020.13(Sat Jun 13 12:26:38 UTC 2020)\n",
       "(EPL source distribution)\n",
       "Java Runtime: OpenJDK Runtime Environment\n",
       "JVM: OpenJDK 64-Bit Server VM\n",
       "Default Encoding: UTF-8\n",
       "Language: en\n",
       "Country: null\n",
       "--></g></svg>"
      ]
     },
     "execution_count": 13,
     "metadata": {},
     "output_type": "execute_result"
    }
   ],
   "source": [
    "%viz --style=\"POLYLINE\" --view=\"Action\" \"TradeStudyTest\""
   ]
  },
  {
   "cell_type": "code",
   "execution_count": 14,
   "id": "rotary-discretion",
   "metadata": {
    "execution": {
     "iopub.execute_input": "2021-03-25T13:19:17.730494Z",
     "iopub.status.busy": "2021-03-25T13:19:17.730046Z",
     "iopub.status.idle": "2021-03-25T13:19:17.931394Z",
     "shell.execute_reply": "2021-03-25T13:19:17.931783Z"
    }
   },
   "outputs": [
    {
     "data": {
      "image/svg+xml": [
       "<?xml version=\"1.0\" encoding=\"UTF-8\" standalone=\"no\"?><svg xmlns=\"http://www.w3.org/2000/svg\" xmlns:xlink=\"http://www.w3.org/1999/xlink\" contentScriptType=\"application/ecmascript\" contentStyleType=\"text/css\" height=\"497px\" preserveAspectRatio=\"none\" style=\"width:554px;height:497px;\" version=\"1.1\" viewBox=\"0 0 554 497\" width=\"554px\" zoomAndPan=\"magnify\"><defs/><g><!--MD5=[fbc87193dbaf4d95561dea2c320d4a47]\n",
       "cluster E1--><a href=\"psysml:656cfd98-5664-4901-a86b-535977508953\" target=\"_top\" title=\"psysml:656cfd98-5664-4901-a86b-535977508953\" xlink:actuate=\"onRequest\" xlink:href=\"psysml:656cfd98-5664-4901-a86b-535977508953\" xlink:show=\"new\" xlink:title=\"psysml:656cfd98-5664-4901-a86b-535977508953\" xlink:type=\"simple\"><polygon fill=\"#FFFFFF\" points=\"16,6,148,6,155,28.2969,532,28.2969,532,485,16,485,16,6\" style=\"stroke: #000000; stroke-width: 1.5;\"/><line style=\"stroke: #000000; stroke-width: 1.5;\" x1=\"16\" x2=\"155\" y1=\"28.2969\" y2=\"28.2969\"/><text fill=\"#000000\" font-family=\"sans-serif\" font-size=\"14\" font-weight=\"bold\" lengthAdjust=\"spacingAndGlyphs\" textLength=\"126\" x=\"20\" y=\"20.9951\">TradeStudyTest</text></a><!--MD5=[b4997ac47864f28c2f74865a473b2911]\n",
       "class E2--><a href=\"psysml:66c87936-3609-4f97-8f24-8ad3882372ee\" target=\"_top\" title=\"psysml:66c87936-3609-4f97-8f24-8ad3882372ee\" xlink:actuate=\"onRequest\" xlink:href=\"psysml:66c87936-3609-4f97-8f24-8ad3882372ee\" xlink:show=\"new\" xlink:title=\"psysml:66c87936-3609-4f97-8f24-8ad3882372ee\" xlink:type=\"simple\"><rect fill=\"#FFFFFF\" height=\"45.9375\" id=\"E2\" style=\"stroke: #383838; stroke-width: 1.5;\" width=\"66\" x=\"196\" y=\"423\"/><text fill=\"#000000\" font-family=\"sans-serif\" font-size=\"12\" font-style=\"italic\" lengthAdjust=\"spacingAndGlyphs\" textLength=\"64\" x=\"197\" y=\"439.1387\">«part def»</text><text fill=\"#000000\" font-family=\"sans-serif\" font-size=\"12\" lengthAdjust=\"spacingAndGlyphs\" textLength=\"43\" x=\"207.5\" y=\"453.1074\">Engine</text><line style=\"stroke: #383838; stroke-width: 1.5;\" x1=\"197\" x2=\"261\" y1=\"460.9375\" y2=\"460.9375\"/></a><!--MD5=[09b614a08d8cba4a07c9adeb5e0fee81]\n",
       "class E3--><a href=\"psysml:c974a942-078b-4d34-96c1-8ca70902d898\" target=\"_top\" title=\"psysml:c974a942-078b-4d34-96c1-8ca70902d898\" xlink:actuate=\"onRequest\" xlink:href=\"psysml:c974a942-078b-4d34-96c1-8ca70902d898\" xlink:show=\"new\" xlink:title=\"psysml:c974a942-078b-4d34-96c1-8ca70902d898\" xlink:type=\"simple\"><rect fill=\"#FFFFFF\" height=\"45.9375\" id=\"E3\" rx=\"10\" ry=\"10\" style=\"stroke: #383838; stroke-width: 1.5;\" width=\"108\" x=\"408\" y=\"316\"/><text fill=\"#000000\" font-family=\"sans-serif\" font-size=\"12\" font-style=\"italic\" lengthAdjust=\"spacingAndGlyphs\" textLength=\"40\" x=\"442\" y=\"332.1387\">«part»</text><text fill=\"#000000\" font-family=\"sans-serif\" font-size=\"12\" lengthAdjust=\"spacingAndGlyphs\" textLength=\"102\" x=\"411\" y=\"346.1074\">engine1: Engine</text><line style=\"stroke: #383838; stroke-width: 1.5;\" x1=\"409\" x2=\"515\" y1=\"353.9375\" y2=\"353.9375\"/></a><!--MD5=[ebbe1d658d1005bcc118a6aa81145e00]\n",
       "class E4--><a href=\"psysml:f4d0ec5b-d124-41e4-9ba9-3cb67b695e7c\" target=\"_top\" title=\"psysml:f4d0ec5b-d124-41e4-9ba9-3cb67b695e7c\" xlink:actuate=\"onRequest\" xlink:href=\"psysml:f4d0ec5b-d124-41e4-9ba9-3cb67b695e7c\" xlink:show=\"new\" xlink:title=\"psysml:f4d0ec5b-d124-41e4-9ba9-3cb67b695e7c\" xlink:type=\"simple\"><rect fill=\"#FFFFFF\" height=\"45.9375\" id=\"E4\" rx=\"10\" ry=\"10\" style=\"stroke: #383838; stroke-width: 1.5;\" width=\"108\" x=\"265\" y=\"316\"/><text fill=\"#000000\" font-family=\"sans-serif\" font-size=\"12\" font-style=\"italic\" lengthAdjust=\"spacingAndGlyphs\" textLength=\"40\" x=\"299\" y=\"332.1387\">«part»</text><text fill=\"#000000\" font-family=\"sans-serif\" font-size=\"12\" lengthAdjust=\"spacingAndGlyphs\" textLength=\"102\" x=\"268\" y=\"346.1074\">engine2: Engine</text><line style=\"stroke: #383838; stroke-width: 1.5;\" x1=\"266\" x2=\"372\" y1=\"353.9375\" y2=\"353.9375\"/></a><!--MD5=[270fce915f116d4de14055a7c1d9a0f3]\n",
       "class E5--><a href=\"psysml:2fd52497-3b24-4a66-a5d3-d77cdf8b2acf\" target=\"_top\" title=\"psysml:2fd52497-3b24-4a66-a5d3-d77cdf8b2acf\" xlink:actuate=\"onRequest\" xlink:href=\"psysml:2fd52497-3b24-4a66-a5d3-d77cdf8b2acf\" xlink:show=\"new\" xlink:title=\"psysml:2fd52497-3b24-4a66-a5d3-d77cdf8b2acf\" xlink:type=\"simple\"><rect fill=\"#FFFFFF\" height=\"45.9375\" id=\"E5\" rx=\"10\" ry=\"10\" style=\"stroke: #383838; stroke-width: 1.5;\" width=\"199\" x=\"237.5\" y=\"41\"/><text fill=\"#000000\" font-family=\"sans-serif\" font-size=\"12\" font-style=\"italic\" lengthAdjust=\"spacingAndGlyphs\" textLength=\"64\" x=\"305\" y=\"57.1387\">«analysis»</text><text fill=\"#000000\" font-family=\"sans-serif\" font-size=\"12\" lengthAdjust=\"spacingAndGlyphs\" textLength=\"193\" x=\"240.5\" y=\"71.1074\">engineTradeStudy: TradeStudy</text><line style=\"stroke: #383838; stroke-width: 1.5;\" x1=\"238.5\" x2=\"435.5\" y1=\"78.9375\" y2=\"78.9375\"/></a><!--MD5=[60a26617385b1d2d0262a64233df1f8d]\n",
       "class E6--><a href=\"psysml:2c27f52f-f536-4fc6-bf8d-fd6e3fd13c39\" target=\"_top\" title=\"psysml:2c27f52f-f536-4fc6-bf8d-fd6e3fd13c39\" xlink:actuate=\"onRequest\" xlink:href=\"psysml:2c27f52f-f536-4fc6-bf8d-fd6e3fd13c39\" xlink:show=\"new\" xlink:title=\"psysml:2c27f52f-f536-4fc6-bf8d-fd6e3fd13c39\" xlink:type=\"simple\"><rect fill=\"#FFFFFF\" height=\"45.9375\" id=\"E6\" rx=\"10\" ry=\"10\" style=\"stroke: #383838; stroke-width: 1.5;\" width=\"251\" x=\"76.5\" y=\"164\"/><text fill=\"#000000\" font-family=\"sans-serif\" font-size=\"12\" font-style=\"italic\" lengthAdjust=\"spacingAndGlyphs\" textLength=\"91\" x=\"156.5\" y=\"180.1387\">«requirement»</text><text fill=\"#000000\" font-family=\"sans-serif\" font-size=\"12\" lengthAdjust=\"spacingAndGlyphs\" textLength=\"245\" x=\"79.5\" y=\"194.1074\">tradeStudyObjective: MaximizeObjective</text><line style=\"stroke: #383838; stroke-width: 1.5;\" x1=\"77.5\" x2=\"326.5\" y1=\"201.9375\" y2=\"201.9375\"/></a><!--MD5=[2156ba9850f5573cc1fc38a6a4b2f02b]\n",
       "class E7--><a href=\"psysml:7b858bf3-8f8c-4105-a0db-0d0783f29576\" target=\"_top\" title=\"psysml:7b858bf3-8f8c-4105-a0db-0d0783f29576\" xlink:actuate=\"onRequest\" xlink:href=\"psysml:7b858bf3-8f8c-4105-a0db-0d0783f29576\" xlink:show=\"new\" xlink:title=\"psysml:7b858bf3-8f8c-4105-a0db-0d0783f29576\" xlink:type=\"simple\"><rect fill=\"#FFFFFF\" height=\"45.9375\" id=\"E7\" rx=\"10\" ry=\"10\" style=\"stroke: #383838; stroke-width: 1.5;\" width=\"116\" x=\"363\" y=\"164\"/><text fill=\"#000000\" font-family=\"sans-serif\" font-size=\"12\" font-style=\"italic\" lengthAdjust=\"spacingAndGlyphs\" textLength=\"82\" x=\"380\" y=\"180.1387\">«calculation»</text><text fill=\"#000000\" font-family=\"sans-serif\" font-size=\"12\" lengthAdjust=\"spacingAndGlyphs\" textLength=\"110\" x=\"366\" y=\"194.1074\">objectiveFunction</text><line style=\"stroke: #383838; stroke-width: 1.5;\" x1=\"364\" x2=\"478\" y1=\"201.9375\" y2=\"201.9375\"/></a><!--MD5=[b9389687b975829384b498ac4b7476b2]\n",
       "class E8--><a href=\"psysml:b0f7840c-11d7-45e2-a5a4-bf208bef1113\" target=\"_top\" title=\"psysml:b0f7840c-11d7-45e2-a5a4-bf208bef1113\" xlink:actuate=\"onRequest\" xlink:href=\"psysml:b0f7840c-11d7-45e2-a5a4-bf208bef1113\" xlink:show=\"new\" xlink:title=\"psysml:b0f7840c-11d7-45e2-a5a4-bf208bef1113\" xlink:type=\"simple\"><rect fill=\"#FFFFFF\" height=\"45.9375\" id=\"E8\" rx=\"10\" ry=\"10\" style=\"stroke: #383838; stroke-width: 1.5;\" width=\"124\" x=\"69\" y=\"316\"/><text fill=\"#000000\" font-family=\"sans-serif\" font-size=\"12\" font-style=\"italic\" lengthAdjust=\"spacingAndGlyphs\" textLength=\"40\" x=\"111\" y=\"332.1387\">«part»</text><text fill=\"#000000\" font-family=\"sans-serif\" font-size=\"12\" lengthAdjust=\"spacingAndGlyphs\" textLength=\"118\" x=\"72\" y=\"346.1074\">alternative: Engine</text><line style=\"stroke: #383838; stroke-width: 1.5;\" x1=\"70\" x2=\"192\" y1=\"353.9375\" y2=\"353.9375\"/></a><!--MD5=[fd4143e9d270a159db93a4ea2a975926]\n",
       "class E9--><a href=\"psysml:9d098c9e-1a7b-415f-a301-c2067e422f2c\" target=\"_top\" title=\"psysml:9d098c9e-1a7b-415f-a301-c2067e422f2c\" xlink:actuate=\"onRequest\" xlink:href=\"psysml:9d098c9e-1a7b-415f-a301-c2067e422f2c\" xlink:show=\"new\" xlink:title=\"psysml:9d098c9e-1a7b-415f-a301-c2067e422f2c\" xlink:type=\"simple\"><rect fill=\"#FFFFFF\" height=\"45.9375\" id=\"E9\" rx=\"10\" ry=\"10\" style=\"stroke: #383838; stroke-width: 1.5;\" width=\"178\" x=\"289\" y=\"240\"/><text fill=\"#000000\" font-family=\"sans-serif\" font-size=\"12\" font-style=\"italic\" lengthAdjust=\"spacingAndGlyphs\" textLength=\"40\" x=\"358\" y=\"256.1387\">«part»</text><text fill=\"#000000\" font-family=\"sans-serif\" font-size=\"12\" lengthAdjust=\"spacingAndGlyphs\" textLength=\"172\" x=\"292\" y=\"270.1074\">selectedAlternative: Engine</text><line style=\"stroke: #383838; stroke-width: 1.5;\" x1=\"290\" x2=\"466\" y1=\"277.9375\" y2=\"277.9375\"/></a><!--MD5=[05d275557350bfb9b23a4ef7222b4c39]\n",
       "link E3 to E2--><a href=\"psysml:6d15a19a-180f-471d-b762-c393731ed9f0\" target=\"_top\" title=\"psysml:6d15a19a-180f-471d-b762-c393731ed9f0\" xlink:actuate=\"onRequest\" xlink:href=\"psysml:6d15a19a-180f-471d-b762-c393731ed9f0\" xlink:show=\"new\" xlink:title=\"psysml:6d15a19a-180f-471d-b762-c393731ed9f0\" xlink:type=\"simple\"><path d=\"M413.16,362.01 C374.25,379.54 319.95,404.01 280.39,421.84 \" fill=\"none\" id=\"E3-&gt;E2\" style=\"stroke: #383838; stroke-width: 1.0;\"/><polygon fill=\"#FFFFFF\" points=\"262.02,430.12,276.4666,415.9321,282.2183,428.696,262.02,430.12\" style=\"stroke: #383838; stroke-width: 1.0;\"/><ellipse cx=\"282.485\" cy=\"415.4137\" fill=\"#383838\" rx=\"2\" ry=\"2\" style=\"stroke: #383838; stroke-width: 1.0;\"/><ellipse cx=\"286.5934\" cy=\"424.5308\" fill=\"#383838\" rx=\"2\" ry=\"2\" style=\"stroke: #383838; stroke-width: 1.0;\"/></a><!--MD5=[185131fc0dcab0a4505a2ebe144e961b]\n",
       "link E4 to E2--><a href=\"psysml:247dd621-3d2a-4448-8896-ee4a55c37d47\" target=\"_top\" title=\"psysml:247dd621-3d2a-4448-8896-ee4a55c37d47\" xlink:actuate=\"onRequest\" xlink:href=\"psysml:247dd621-3d2a-4448-8896-ee4a55c37d47\" xlink:show=\"new\" xlink:title=\"psysml:247dd621-3d2a-4448-8896-ee4a55c37d47\" xlink:type=\"simple\"><path d=\"M300.13,362.01 C288.93,375.08 274.42,392.01 261.42,407.17 \" fill=\"none\" id=\"E4-&gt;E2\" style=\"stroke: #383838; stroke-width: 1.0;\"/><polygon fill=\"#FFFFFF\" points=\"248.15,422.66,255.1988,403.678,265.8291,412.7883,248.15,422.66\" style=\"stroke: #383838; stroke-width: 1.0;\"/><ellipse cx=\"260.4266\" cy=\"400.6515\" fill=\"#383838\" rx=\"2\" ry=\"2\" style=\"stroke: #383838; stroke-width: 1.0;\"/><ellipse cx=\"268.0196\" cy=\"407.1588\" fill=\"#383838\" rx=\"2\" ry=\"2\" style=\"stroke: #383838; stroke-width: 1.0;\"/></a><!--MD5=[15ebcb19ae302d9b601edb458606d402]\n",
       "link E5 to E2--><a href=\"psysml:21b7132a-f544-4487-a747-91d198ad447d\" target=\"_top\" title=\"psysml:21b7132a-f544-4487-a747-91d198ad447d\" xlink:actuate=\"onRequest\" xlink:href=\"psysml:21b7132a-f544-4487-a747-91d198ad447d\" xlink:show=\"new\" xlink:title=\"psysml:21b7132a-f544-4487-a747-91d198ad447d\" xlink:type=\"simple\"><path d=\"M274.96,87.09 C193.02,116.27 59,164 59,164 C59,164 51,316 51,316 C51,316 51,362 51,362 C51,362 139.06,403.06 191.31,427.42 \" fill=\"none\" id=\"E5-&gt;E2\" style=\"stroke: #383838; stroke-width: 1.0; stroke-dasharray: 7.0,7.0;\"/><polygon fill=\"#383838\" points=\"195.94,429.58,189.449,422.1728,191.4015,427.482,186.0922,429.4344,195.94,429.58\" style=\"stroke: #383838; stroke-width: 1.0;\"/><text fill=\"#000000\" font-family=\"sans-serif\" font-size=\"13\" lengthAdjust=\"spacingAndGlyphs\" textLength=\"62\" x=\"56\" y=\"267.5669\">«subject»</text></a><!--MD5=[9120cf2e5df3bff93db8f754bbbc09b4]\n",
       "link E5 to E6--><a href=\"psysml:44ec4945-cc63-4e9d-b8df-7b9a76da0bc7\" target=\"_top\" title=\"psysml:44ec4945-cc63-4e9d-b8df-7b9a76da0bc7\" xlink:actuate=\"onRequest\" xlink:href=\"psysml:44ec4945-cc63-4e9d-b8df-7b9a76da0bc7\" xlink:show=\"new\" xlink:title=\"psysml:44ec4945-cc63-4e9d-b8df-7b9a76da0bc7\" xlink:type=\"simple\"><path d=\"M312.24,87.19 C289.88,107.23 256.89,136.8 232.83,158.37 \" fill=\"none\" id=\"E5-&gt;E6\" style=\"stroke: #383838; stroke-width: 1.0;\"/><polygon fill=\"#383838\" points=\"226.6,163.95,234.5586,160.8419,230.5525,156.3752,226.6,163.95\" style=\"stroke: #383838; stroke-width: 1.0;\"/><text fill=\"#000000\" font-family=\"sans-serif\" font-size=\"13\" lengthAdjust=\"spacingAndGlyphs\" textLength=\"73\" x=\"278\" y=\"130.0669\">«objective»</text></a><!--MD5=[452b418e7f8a40397a49b8c0a78acc5b]\n",
       "reverse link E5 to E7--><a href=\"psysml:7b858bf3-8f8c-4105-a0db-0d0783f29576\" target=\"_top\" title=\"psysml:7b858bf3-8f8c-4105-a0db-0d0783f29576\" xlink:actuate=\"onRequest\" xlink:href=\"psysml:7b858bf3-8f8c-4105-a0db-0d0783f29576\" xlink:show=\"new\" xlink:title=\"psysml:7b858bf3-8f8c-4105-a0db-0d0783f29576\" xlink:type=\"simple\"><path d=\"M359.82,97.88 C374.39,118.86 392.87,145.48 405.69,163.95 \" fill=\"none\" id=\"E5&lt;-E7\" style=\"stroke: #383838; stroke-width: 1.0;\"/><polygon fill=\"#383838\" points=\"352.41,87.19,352.544,94.3999,359.2508,97.0492,359.1168,89.8393,352.41,87.19\" style=\"stroke: #383838; stroke-width: 1.0;\"/></a><!--MD5=[f1f3f9f2fc535e6147756cb86a7f2e32]\n",
       "link E8 to E2--><a href=\"psysml:2565caae-8b6e-420b-a56a-eab601fd4b55\" target=\"_top\" title=\"psysml:2565caae-8b6e-420b-a56a-eab601fd4b55\" xlink:actuate=\"onRequest\" xlink:href=\"psysml:2565caae-8b6e-420b-a56a-eab601fd4b55\" xlink:show=\"new\" xlink:title=\"psysml:2565caae-8b6e-420b-a56a-eab601fd4b55\" xlink:type=\"simple\"><path d=\"M151.54,362.01 C163.87,375.22 179.88,392.38 194.14,407.65 \" fill=\"none\" id=\"E8-&gt;E2\" style=\"stroke: #383838; stroke-width: 1.0;\"/><polygon fill=\"#FFFFFF\" points=\"208.15,422.66,190.0721,413.5393,200.3105,403.9907,208.15,422.66\" style=\"stroke: #383838; stroke-width: 1.0;\"/><ellipse cx=\"187.6471\" cy=\"408.0067\" fill=\"#383838\" rx=\"2\" ry=\"2\" style=\"stroke: #383838; stroke-width: 1.0;\"/><ellipse cx=\"194.9602\" cy=\"401.1863\" fill=\"#383838\" rx=\"2\" ry=\"2\" style=\"stroke: #383838; stroke-width: 1.0;\"/></a><!--MD5=[dc164f5e8a733ab456ef1add180e9e34]\n",
       "reverse link E7 to E8--><a href=\"psysml:b0f7840c-11d7-45e2-a5a4-bf208bef1113\" target=\"_top\" title=\"psysml:b0f7840c-11d7-45e2-a5a4-bf208bef1113\" xlink:actuate=\"onRequest\" xlink:href=\"psysml:b0f7840c-11d7-45e2-a5a4-bf208bef1113\" xlink:show=\"new\" xlink:title=\"psysml:b0f7840c-11d7-45e2-a5a4-bf208bef1113\" xlink:type=\"simple\"><path d=\"M350.55,212.59 C312,226.04 272,240 272,240 C272,240 204.6,286.85 163,315.76 \" fill=\"none\" id=\"E7&lt;-E8\" style=\"stroke: #383838; stroke-width: 1.0;\"/><polygon fill=\"#FFFFFF\" points=\"362.97,208.25,355.9867,206.452,351.641,212.2066,358.6244,214.0046,362.97,208.25\" style=\"stroke: #383838; stroke-width: 1.0;\"/></a><!--MD5=[5c3bb36fe832a92c7f0e1807dd65209d]\n",
       "link E9 to E2--><a href=\"psysml:a6aa3e55-56ca-44c6-92e8-1089eebb019a\" target=\"_top\" title=\"psysml:a6aa3e55-56ca-44c6-92e8-1089eebb019a\" xlink:actuate=\"onRequest\" xlink:href=\"psysml:a6aa3e55-56ca-44c6-92e8-1089eebb019a\" xlink:show=\"new\" xlink:title=\"psysml:a6aa3e55-56ca-44c6-92e8-1089eebb019a\" xlink:type=\"simple\"><path d=\"M322.87,286.05 C287.44,300.23 248,316 248,316 C248,316 240.73,365.33 235.19,402.98 \" fill=\"none\" id=\"E9-&gt;E2\" style=\"stroke: #383838; stroke-width: 1.0;\"/><polygon fill=\"#FFFFFF\" points=\"232.27,422.82,228.1134,403.0028,241.964,405.0429,232.27,422.82\" style=\"stroke: #383838; stroke-width: 1.0;\"/><ellipse cx=\"230.9227\" cy=\"397.6551\" fill=\"#383838\" rx=\"2\" ry=\"2\" style=\"stroke: #383838; stroke-width: 1.0;\"/><ellipse cx=\"240.8159\" cy=\"399.1123\" fill=\"#383838\" rx=\"2\" ry=\"2\" style=\"stroke: #383838; stroke-width: 1.0;\"/></a><!--MD5=[9ae28de373ca99bb8a1b38d63370ca7e]\n",
       "reverse link E5 to E9--><a href=\"psysml:9d098c9e-1a7b-415f-a301-c2067e422f2c\" target=\"_top\" title=\"psysml:9d098c9e-1a7b-415f-a301-c2067e422f2c\" xlink:actuate=\"onRequest\" xlink:href=\"psysml:9d098c9e-1a7b-415f-a301-c2067e422f2c\" xlink:show=\"new\" xlink:title=\"psysml:9d098c9e-1a7b-415f-a301-c2067e422f2c\" xlink:type=\"simple\"><path d=\"M384.16,94.18 C431.35,123.38 497,164 497,164 C497,164 497,210 497,210 C497,210 460.9,225.77 428.47,239.95 \" fill=\"none\" id=\"E5&lt;-E9\" style=\"stroke: #383838; stroke-width: 1.0;\"/><polygon fill=\"#FFFFFF\" points=\"372.91,87.22,375.907,93.7788,383.114,93.5349,380.117,86.9761,372.91,87.22\" style=\"stroke: #383838; stroke-width: 1.0;\"/></a><!--MD5=[7290e41f629f531b11fba2ff12dad42e]\n",
       "@startuml\r\n",
       "skinparam linetype polyline\r\n",
       "skinparam monochrome true\r\n",
       "skinparam classbackgroundcolor white\r\n",
       "skinparam shadowing false\r\n",
       "skinparam wrapWidth 300\r\n",
       "hide circle\r\n",
       "\r\n",
       "package \"TradeStudyTest\" as E1  [[psysml:656cfd98-5664-4901-a86b-535977508953 ]]  {\r\n",
       "comp def \"Engine\" as E2  <<(T,blue)part def>> [[psysml:66c87936-3609-4f97-8f24-8ad3882372ee ]] {\r\n",
       "}\r\n",
       "comp usage \"engine1: Engine\" as E3  <<(T,blue)part>> [[psysml:c974a942-078b-4d34-96c1-8ca70902d898 ]] {\r\n",
       "}\r\n",
       "comp usage \"engine2: Engine\" as E4  <<(T,blue)part>> [[psysml:f4d0ec5b-d124-41e4-9ba9-3cb67b695e7c ]] {\r\n",
       "}\r\n",
       "comp usage \"engineTradeStudy: TradeStudy\" as E5 <<analysis>> [[psysml:2fd52497-3b24-4a66-a5d3-d77cdf8b2acf ]] {\r\n",
       "}\r\n",
       "comp usage \"tradeStudyObjective: MaximizeObjective\" as E6  <<(T,blue)requirement>> [[psysml:2c27f52f-f536-4fc6-bf8d-fd6e3fd13c39 ]] {\r\n",
       "}\r\n",
       "comp usage \"objectiveFunction\" as E7  <<(T,blue)calculation>> [[psysml:7b858bf3-8f8c-4105-a0db-0d0783f29576 ]] {\r\n",
       "}\r\n",
       "comp usage \"alternative: Engine\" as E8  <<(T,blue)part>> [[psysml:b0f7840c-11d7-45e2-a5a4-bf208bef1113 ]] {\r\n",
       "}\r\n",
       "comp usage \"selectedAlternative: Engine\" as E9  <<(T,blue)part>> [[psysml:9d098c9e-1a7b-415f-a301-c2067e422f2c ]] {\r\n",
       "}\r\n",
       "E3 - -:|> E2 [[psysml:6d15a19a-180f-471d-b762-c393731ed9f0 ]] \r\n",
       "E4 - -:|> E2 [[psysml:247dd621-3d2a-4448-8896-ee4a55c37d47 ]] \r\n",
       "E5 ..> E2 [[psysml:21b7132a-f544-4487-a747-91d198ad447d ]] : <<subject>>\r\n",
       "E5 - ->> E6 [[psysml:44ec4945-cc63-4e9d-b8df-7b9a76da0bc7 ]] : <<objective>>\r\n",
       "E5 *- - E7 [[psysml:7b858bf3-8f8c-4105-a0db-0d0783f29576 ]] \r\n",
       "E8 - -:|> E2 [[psysml:2565caae-8b6e-420b-a56a-eab601fd4b55 ]] \r\n",
       "E7 o- - E8 [[psysml:b0f7840c-11d7-45e2-a5a4-bf208bef1113 ]] \r\n",
       "E9 - -:|> E2 [[psysml:a6aa3e55-56ca-44c6-92e8-1089eebb019a ]] \r\n",
       "E5 o- - E9 [[psysml:9d098c9e-1a7b-415f-a301-c2067e422f2c ]] \r\n",
       "}\r\n",
       "@enduml\r\n",
       "\n",
       "PlantUML version 1.2020.13(Sat Jun 13 12:26:38 UTC 2020)\n",
       "(EPL source distribution)\n",
       "Java Runtime: OpenJDK Runtime Environment\n",
       "JVM: OpenJDK 64-Bit Server VM\n",
       "Default Encoding: UTF-8\n",
       "Language: en\n",
       "Country: null\n",
       "--></g></svg>"
      ]
     },
     "execution_count": 14,
     "metadata": {},
     "output_type": "execute_result"
    }
   ],
   "source": [
    "%viz --style=\"POLYLINE\" --view=\"Sequence\" \"TradeStudyTest\""
   ]
  },
  {
   "cell_type": "code",
   "execution_count": 15,
   "id": "proof-polish",
   "metadata": {
    "execution": {
     "iopub.execute_input": "2021-03-25T13:19:17.983050Z",
     "iopub.status.busy": "2021-03-25T13:19:17.982234Z",
     "iopub.status.idle": "2021-03-25T13:19:18.184774Z",
     "shell.execute_reply": "2021-03-25T13:19:18.185225Z"
    }
   },
   "outputs": [
    {
     "data": {
      "image/svg+xml": [
       "<?xml version=\"1.0\" encoding=\"UTF-8\" standalone=\"no\"?><svg xmlns=\"http://www.w3.org/2000/svg\" xmlns:xlink=\"http://www.w3.org/1999/xlink\" contentScriptType=\"application/ecmascript\" contentStyleType=\"text/css\" height=\"497px\" preserveAspectRatio=\"none\" style=\"width:554px;height:497px;\" version=\"1.1\" viewBox=\"0 0 554 497\" width=\"554px\" zoomAndPan=\"magnify\"><defs/><g><!--MD5=[fbc87193dbaf4d95561dea2c320d4a47]\n",
       "cluster E1--><a href=\"psysml:656cfd98-5664-4901-a86b-535977508953\" target=\"_top\" title=\"psysml:656cfd98-5664-4901-a86b-535977508953\" xlink:actuate=\"onRequest\" xlink:href=\"psysml:656cfd98-5664-4901-a86b-535977508953\" xlink:show=\"new\" xlink:title=\"psysml:656cfd98-5664-4901-a86b-535977508953\" xlink:type=\"simple\"><polygon fill=\"#FFFFFF\" points=\"16,6,148,6,155,28.2969,532,28.2969,532,485,16,485,16,6\" style=\"stroke: #000000; stroke-width: 1.5;\"/><line style=\"stroke: #000000; stroke-width: 1.5;\" x1=\"16\" x2=\"155\" y1=\"28.2969\" y2=\"28.2969\"/><text fill=\"#000000\" font-family=\"sans-serif\" font-size=\"14\" font-weight=\"bold\" lengthAdjust=\"spacingAndGlyphs\" textLength=\"126\" x=\"20\" y=\"20.9951\">TradeStudyTest</text></a><!--MD5=[b4997ac47864f28c2f74865a473b2911]\n",
       "class E2--><a href=\"psysml:66c87936-3609-4f97-8f24-8ad3882372ee\" target=\"_top\" title=\"psysml:66c87936-3609-4f97-8f24-8ad3882372ee\" xlink:actuate=\"onRequest\" xlink:href=\"psysml:66c87936-3609-4f97-8f24-8ad3882372ee\" xlink:show=\"new\" xlink:title=\"psysml:66c87936-3609-4f97-8f24-8ad3882372ee\" xlink:type=\"simple\"><rect fill=\"#FFFFFF\" height=\"45.9375\" id=\"E2\" style=\"stroke: #383838; stroke-width: 1.5;\" width=\"66\" x=\"196\" y=\"423\"/><text fill=\"#000000\" font-family=\"sans-serif\" font-size=\"12\" font-style=\"italic\" lengthAdjust=\"spacingAndGlyphs\" textLength=\"64\" x=\"197\" y=\"439.1387\">«part def»</text><text fill=\"#000000\" font-family=\"sans-serif\" font-size=\"12\" lengthAdjust=\"spacingAndGlyphs\" textLength=\"43\" x=\"207.5\" y=\"453.1074\">Engine</text><line style=\"stroke: #383838; stroke-width: 1.5;\" x1=\"197\" x2=\"261\" y1=\"460.9375\" y2=\"460.9375\"/></a><!--MD5=[09b614a08d8cba4a07c9adeb5e0fee81]\n",
       "class E3--><a href=\"psysml:c974a942-078b-4d34-96c1-8ca70902d898\" target=\"_top\" title=\"psysml:c974a942-078b-4d34-96c1-8ca70902d898\" xlink:actuate=\"onRequest\" xlink:href=\"psysml:c974a942-078b-4d34-96c1-8ca70902d898\" xlink:show=\"new\" xlink:title=\"psysml:c974a942-078b-4d34-96c1-8ca70902d898\" xlink:type=\"simple\"><rect fill=\"#FFFFFF\" height=\"45.9375\" id=\"E3\" rx=\"10\" ry=\"10\" style=\"stroke: #383838; stroke-width: 1.5;\" width=\"108\" x=\"408\" y=\"316\"/><text fill=\"#000000\" font-family=\"sans-serif\" font-size=\"12\" font-style=\"italic\" lengthAdjust=\"spacingAndGlyphs\" textLength=\"40\" x=\"442\" y=\"332.1387\">«part»</text><text fill=\"#000000\" font-family=\"sans-serif\" font-size=\"12\" lengthAdjust=\"spacingAndGlyphs\" textLength=\"102\" x=\"411\" y=\"346.1074\">engine1: Engine</text><line style=\"stroke: #383838; stroke-width: 1.5;\" x1=\"409\" x2=\"515\" y1=\"353.9375\" y2=\"353.9375\"/></a><!--MD5=[ebbe1d658d1005bcc118a6aa81145e00]\n",
       "class E4--><a href=\"psysml:f4d0ec5b-d124-41e4-9ba9-3cb67b695e7c\" target=\"_top\" title=\"psysml:f4d0ec5b-d124-41e4-9ba9-3cb67b695e7c\" xlink:actuate=\"onRequest\" xlink:href=\"psysml:f4d0ec5b-d124-41e4-9ba9-3cb67b695e7c\" xlink:show=\"new\" xlink:title=\"psysml:f4d0ec5b-d124-41e4-9ba9-3cb67b695e7c\" xlink:type=\"simple\"><rect fill=\"#FFFFFF\" height=\"45.9375\" id=\"E4\" rx=\"10\" ry=\"10\" style=\"stroke: #383838; stroke-width: 1.5;\" width=\"108\" x=\"265\" y=\"316\"/><text fill=\"#000000\" font-family=\"sans-serif\" font-size=\"12\" font-style=\"italic\" lengthAdjust=\"spacingAndGlyphs\" textLength=\"40\" x=\"299\" y=\"332.1387\">«part»</text><text fill=\"#000000\" font-family=\"sans-serif\" font-size=\"12\" lengthAdjust=\"spacingAndGlyphs\" textLength=\"102\" x=\"268\" y=\"346.1074\">engine2: Engine</text><line style=\"stroke: #383838; stroke-width: 1.5;\" x1=\"266\" x2=\"372\" y1=\"353.9375\" y2=\"353.9375\"/></a><!--MD5=[270fce915f116d4de14055a7c1d9a0f3]\n",
       "class E5--><a href=\"psysml:2fd52497-3b24-4a66-a5d3-d77cdf8b2acf\" target=\"_top\" title=\"psysml:2fd52497-3b24-4a66-a5d3-d77cdf8b2acf\" xlink:actuate=\"onRequest\" xlink:href=\"psysml:2fd52497-3b24-4a66-a5d3-d77cdf8b2acf\" xlink:show=\"new\" xlink:title=\"psysml:2fd52497-3b24-4a66-a5d3-d77cdf8b2acf\" xlink:type=\"simple\"><rect fill=\"#FFFFFF\" height=\"45.9375\" id=\"E5\" rx=\"10\" ry=\"10\" style=\"stroke: #383838; stroke-width: 1.5;\" width=\"199\" x=\"237.5\" y=\"41\"/><text fill=\"#000000\" font-family=\"sans-serif\" font-size=\"12\" font-style=\"italic\" lengthAdjust=\"spacingAndGlyphs\" textLength=\"64\" x=\"305\" y=\"57.1387\">«analysis»</text><text fill=\"#000000\" font-family=\"sans-serif\" font-size=\"12\" lengthAdjust=\"spacingAndGlyphs\" textLength=\"193\" x=\"240.5\" y=\"71.1074\">engineTradeStudy: TradeStudy</text><line style=\"stroke: #383838; stroke-width: 1.5;\" x1=\"238.5\" x2=\"435.5\" y1=\"78.9375\" y2=\"78.9375\"/></a><!--MD5=[60a26617385b1d2d0262a64233df1f8d]\n",
       "class E6--><a href=\"psysml:2c27f52f-f536-4fc6-bf8d-fd6e3fd13c39\" target=\"_top\" title=\"psysml:2c27f52f-f536-4fc6-bf8d-fd6e3fd13c39\" xlink:actuate=\"onRequest\" xlink:href=\"psysml:2c27f52f-f536-4fc6-bf8d-fd6e3fd13c39\" xlink:show=\"new\" xlink:title=\"psysml:2c27f52f-f536-4fc6-bf8d-fd6e3fd13c39\" xlink:type=\"simple\"><rect fill=\"#FFFFFF\" height=\"45.9375\" id=\"E6\" rx=\"10\" ry=\"10\" style=\"stroke: #383838; stroke-width: 1.5;\" width=\"251\" x=\"76.5\" y=\"164\"/><text fill=\"#000000\" font-family=\"sans-serif\" font-size=\"12\" font-style=\"italic\" lengthAdjust=\"spacingAndGlyphs\" textLength=\"91\" x=\"156.5\" y=\"180.1387\">«requirement»</text><text fill=\"#000000\" font-family=\"sans-serif\" font-size=\"12\" lengthAdjust=\"spacingAndGlyphs\" textLength=\"245\" x=\"79.5\" y=\"194.1074\">tradeStudyObjective: MaximizeObjective</text><line style=\"stroke: #383838; stroke-width: 1.5;\" x1=\"77.5\" x2=\"326.5\" y1=\"201.9375\" y2=\"201.9375\"/></a><!--MD5=[2156ba9850f5573cc1fc38a6a4b2f02b]\n",
       "class E7--><a href=\"psysml:7b858bf3-8f8c-4105-a0db-0d0783f29576\" target=\"_top\" title=\"psysml:7b858bf3-8f8c-4105-a0db-0d0783f29576\" xlink:actuate=\"onRequest\" xlink:href=\"psysml:7b858bf3-8f8c-4105-a0db-0d0783f29576\" xlink:show=\"new\" xlink:title=\"psysml:7b858bf3-8f8c-4105-a0db-0d0783f29576\" xlink:type=\"simple\"><rect fill=\"#FFFFFF\" height=\"45.9375\" id=\"E7\" rx=\"10\" ry=\"10\" style=\"stroke: #383838; stroke-width: 1.5;\" width=\"116\" x=\"363\" y=\"164\"/><text fill=\"#000000\" font-family=\"sans-serif\" font-size=\"12\" font-style=\"italic\" lengthAdjust=\"spacingAndGlyphs\" textLength=\"82\" x=\"380\" y=\"180.1387\">«calculation»</text><text fill=\"#000000\" font-family=\"sans-serif\" font-size=\"12\" lengthAdjust=\"spacingAndGlyphs\" textLength=\"110\" x=\"366\" y=\"194.1074\">objectiveFunction</text><line style=\"stroke: #383838; stroke-width: 1.5;\" x1=\"364\" x2=\"478\" y1=\"201.9375\" y2=\"201.9375\"/></a><!--MD5=[b9389687b975829384b498ac4b7476b2]\n",
       "class E8--><a href=\"psysml:b0f7840c-11d7-45e2-a5a4-bf208bef1113\" target=\"_top\" title=\"psysml:b0f7840c-11d7-45e2-a5a4-bf208bef1113\" xlink:actuate=\"onRequest\" xlink:href=\"psysml:b0f7840c-11d7-45e2-a5a4-bf208bef1113\" xlink:show=\"new\" xlink:title=\"psysml:b0f7840c-11d7-45e2-a5a4-bf208bef1113\" xlink:type=\"simple\"><rect fill=\"#FFFFFF\" height=\"45.9375\" id=\"E8\" rx=\"10\" ry=\"10\" style=\"stroke: #383838; stroke-width: 1.5;\" width=\"124\" x=\"69\" y=\"316\"/><text fill=\"#000000\" font-family=\"sans-serif\" font-size=\"12\" font-style=\"italic\" lengthAdjust=\"spacingAndGlyphs\" textLength=\"40\" x=\"111\" y=\"332.1387\">«part»</text><text fill=\"#000000\" font-family=\"sans-serif\" font-size=\"12\" lengthAdjust=\"spacingAndGlyphs\" textLength=\"118\" x=\"72\" y=\"346.1074\">alternative: Engine</text><line style=\"stroke: #383838; stroke-width: 1.5;\" x1=\"70\" x2=\"192\" y1=\"353.9375\" y2=\"353.9375\"/></a><!--MD5=[fd4143e9d270a159db93a4ea2a975926]\n",
       "class E9--><a href=\"psysml:9d098c9e-1a7b-415f-a301-c2067e422f2c\" target=\"_top\" title=\"psysml:9d098c9e-1a7b-415f-a301-c2067e422f2c\" xlink:actuate=\"onRequest\" xlink:href=\"psysml:9d098c9e-1a7b-415f-a301-c2067e422f2c\" xlink:show=\"new\" xlink:title=\"psysml:9d098c9e-1a7b-415f-a301-c2067e422f2c\" xlink:type=\"simple\"><rect fill=\"#FFFFFF\" height=\"45.9375\" id=\"E9\" rx=\"10\" ry=\"10\" style=\"stroke: #383838; stroke-width: 1.5;\" width=\"178\" x=\"289\" y=\"240\"/><text fill=\"#000000\" font-family=\"sans-serif\" font-size=\"12\" font-style=\"italic\" lengthAdjust=\"spacingAndGlyphs\" textLength=\"40\" x=\"358\" y=\"256.1387\">«part»</text><text fill=\"#000000\" font-family=\"sans-serif\" font-size=\"12\" lengthAdjust=\"spacingAndGlyphs\" textLength=\"172\" x=\"292\" y=\"270.1074\">selectedAlternative: Engine</text><line style=\"stroke: #383838; stroke-width: 1.5;\" x1=\"290\" x2=\"466\" y1=\"277.9375\" y2=\"277.9375\"/></a><!--MD5=[05d275557350bfb9b23a4ef7222b4c39]\n",
       "link E3 to E2--><a href=\"psysml:6d15a19a-180f-471d-b762-c393731ed9f0\" target=\"_top\" title=\"psysml:6d15a19a-180f-471d-b762-c393731ed9f0\" xlink:actuate=\"onRequest\" xlink:href=\"psysml:6d15a19a-180f-471d-b762-c393731ed9f0\" xlink:show=\"new\" xlink:title=\"psysml:6d15a19a-180f-471d-b762-c393731ed9f0\" xlink:type=\"simple\"><path d=\"M413.16,362.01 C374.25,379.54 319.95,404.01 280.39,421.84 \" fill=\"none\" id=\"E3-&gt;E2\" style=\"stroke: #383838; stroke-width: 1.0;\"/><polygon fill=\"#FFFFFF\" points=\"262.02,430.12,276.4666,415.9321,282.2183,428.696,262.02,430.12\" style=\"stroke: #383838; stroke-width: 1.0;\"/><ellipse cx=\"282.485\" cy=\"415.4137\" fill=\"#383838\" rx=\"2\" ry=\"2\" style=\"stroke: #383838; stroke-width: 1.0;\"/><ellipse cx=\"286.5934\" cy=\"424.5308\" fill=\"#383838\" rx=\"2\" ry=\"2\" style=\"stroke: #383838; stroke-width: 1.0;\"/></a><!--MD5=[185131fc0dcab0a4505a2ebe144e961b]\n",
       "link E4 to E2--><a href=\"psysml:247dd621-3d2a-4448-8896-ee4a55c37d47\" target=\"_top\" title=\"psysml:247dd621-3d2a-4448-8896-ee4a55c37d47\" xlink:actuate=\"onRequest\" xlink:href=\"psysml:247dd621-3d2a-4448-8896-ee4a55c37d47\" xlink:show=\"new\" xlink:title=\"psysml:247dd621-3d2a-4448-8896-ee4a55c37d47\" xlink:type=\"simple\"><path d=\"M300.13,362.01 C288.93,375.08 274.42,392.01 261.42,407.17 \" fill=\"none\" id=\"E4-&gt;E2\" style=\"stroke: #383838; stroke-width: 1.0;\"/><polygon fill=\"#FFFFFF\" points=\"248.15,422.66,255.1988,403.678,265.8291,412.7883,248.15,422.66\" style=\"stroke: #383838; stroke-width: 1.0;\"/><ellipse cx=\"260.4266\" cy=\"400.6515\" fill=\"#383838\" rx=\"2\" ry=\"2\" style=\"stroke: #383838; stroke-width: 1.0;\"/><ellipse cx=\"268.0196\" cy=\"407.1588\" fill=\"#383838\" rx=\"2\" ry=\"2\" style=\"stroke: #383838; stroke-width: 1.0;\"/></a><!--MD5=[15ebcb19ae302d9b601edb458606d402]\n",
       "link E5 to E2--><a href=\"psysml:21b7132a-f544-4487-a747-91d198ad447d\" target=\"_top\" title=\"psysml:21b7132a-f544-4487-a747-91d198ad447d\" xlink:actuate=\"onRequest\" xlink:href=\"psysml:21b7132a-f544-4487-a747-91d198ad447d\" xlink:show=\"new\" xlink:title=\"psysml:21b7132a-f544-4487-a747-91d198ad447d\" xlink:type=\"simple\"><path d=\"M274.96,87.09 C193.02,116.27 59,164 59,164 C59,164 51,316 51,316 C51,316 51,362 51,362 C51,362 139.06,403.06 191.31,427.42 \" fill=\"none\" id=\"E5-&gt;E2\" style=\"stroke: #383838; stroke-width: 1.0; stroke-dasharray: 7.0,7.0;\"/><polygon fill=\"#383838\" points=\"195.94,429.58,189.449,422.1728,191.4015,427.482,186.0922,429.4344,195.94,429.58\" style=\"stroke: #383838; stroke-width: 1.0;\"/><text fill=\"#000000\" font-family=\"sans-serif\" font-size=\"13\" lengthAdjust=\"spacingAndGlyphs\" textLength=\"62\" x=\"56\" y=\"267.5669\">«subject»</text></a><!--MD5=[9120cf2e5df3bff93db8f754bbbc09b4]\n",
       "link E5 to E6--><a href=\"psysml:44ec4945-cc63-4e9d-b8df-7b9a76da0bc7\" target=\"_top\" title=\"psysml:44ec4945-cc63-4e9d-b8df-7b9a76da0bc7\" xlink:actuate=\"onRequest\" xlink:href=\"psysml:44ec4945-cc63-4e9d-b8df-7b9a76da0bc7\" xlink:show=\"new\" xlink:title=\"psysml:44ec4945-cc63-4e9d-b8df-7b9a76da0bc7\" xlink:type=\"simple\"><path d=\"M312.24,87.19 C289.88,107.23 256.89,136.8 232.83,158.37 \" fill=\"none\" id=\"E5-&gt;E6\" style=\"stroke: #383838; stroke-width: 1.0;\"/><polygon fill=\"#383838\" points=\"226.6,163.95,234.5586,160.8419,230.5525,156.3752,226.6,163.95\" style=\"stroke: #383838; stroke-width: 1.0;\"/><text fill=\"#000000\" font-family=\"sans-serif\" font-size=\"13\" lengthAdjust=\"spacingAndGlyphs\" textLength=\"73\" x=\"278\" y=\"130.0669\">«objective»</text></a><!--MD5=[452b418e7f8a40397a49b8c0a78acc5b]\n",
       "reverse link E5 to E7--><a href=\"psysml:7b858bf3-8f8c-4105-a0db-0d0783f29576\" target=\"_top\" title=\"psysml:7b858bf3-8f8c-4105-a0db-0d0783f29576\" xlink:actuate=\"onRequest\" xlink:href=\"psysml:7b858bf3-8f8c-4105-a0db-0d0783f29576\" xlink:show=\"new\" xlink:title=\"psysml:7b858bf3-8f8c-4105-a0db-0d0783f29576\" xlink:type=\"simple\"><path d=\"M359.82,97.88 C374.39,118.86 392.87,145.48 405.69,163.95 \" fill=\"none\" id=\"E5&lt;-E7\" style=\"stroke: #383838; stroke-width: 1.0;\"/><polygon fill=\"#383838\" points=\"352.41,87.19,352.544,94.3999,359.2508,97.0492,359.1168,89.8393,352.41,87.19\" style=\"stroke: #383838; stroke-width: 1.0;\"/></a><!--MD5=[f1f3f9f2fc535e6147756cb86a7f2e32]\n",
       "link E8 to E2--><a href=\"psysml:2565caae-8b6e-420b-a56a-eab601fd4b55\" target=\"_top\" title=\"psysml:2565caae-8b6e-420b-a56a-eab601fd4b55\" xlink:actuate=\"onRequest\" xlink:href=\"psysml:2565caae-8b6e-420b-a56a-eab601fd4b55\" xlink:show=\"new\" xlink:title=\"psysml:2565caae-8b6e-420b-a56a-eab601fd4b55\" xlink:type=\"simple\"><path d=\"M151.54,362.01 C163.87,375.22 179.88,392.38 194.14,407.65 \" fill=\"none\" id=\"E8-&gt;E2\" style=\"stroke: #383838; stroke-width: 1.0;\"/><polygon fill=\"#FFFFFF\" points=\"208.15,422.66,190.0721,413.5393,200.3105,403.9907,208.15,422.66\" style=\"stroke: #383838; stroke-width: 1.0;\"/><ellipse cx=\"187.6471\" cy=\"408.0067\" fill=\"#383838\" rx=\"2\" ry=\"2\" style=\"stroke: #383838; stroke-width: 1.0;\"/><ellipse cx=\"194.9602\" cy=\"401.1863\" fill=\"#383838\" rx=\"2\" ry=\"2\" style=\"stroke: #383838; stroke-width: 1.0;\"/></a><!--MD5=[dc164f5e8a733ab456ef1add180e9e34]\n",
       "reverse link E7 to E8--><a href=\"psysml:b0f7840c-11d7-45e2-a5a4-bf208bef1113\" target=\"_top\" title=\"psysml:b0f7840c-11d7-45e2-a5a4-bf208bef1113\" xlink:actuate=\"onRequest\" xlink:href=\"psysml:b0f7840c-11d7-45e2-a5a4-bf208bef1113\" xlink:show=\"new\" xlink:title=\"psysml:b0f7840c-11d7-45e2-a5a4-bf208bef1113\" xlink:type=\"simple\"><path d=\"M350.55,212.59 C312,226.04 272,240 272,240 C272,240 204.6,286.85 163,315.76 \" fill=\"none\" id=\"E7&lt;-E8\" style=\"stroke: #383838; stroke-width: 1.0;\"/><polygon fill=\"#FFFFFF\" points=\"362.97,208.25,355.9867,206.452,351.641,212.2066,358.6244,214.0046,362.97,208.25\" style=\"stroke: #383838; stroke-width: 1.0;\"/></a><!--MD5=[5c3bb36fe832a92c7f0e1807dd65209d]\n",
       "link E9 to E2--><a href=\"psysml:a6aa3e55-56ca-44c6-92e8-1089eebb019a\" target=\"_top\" title=\"psysml:a6aa3e55-56ca-44c6-92e8-1089eebb019a\" xlink:actuate=\"onRequest\" xlink:href=\"psysml:a6aa3e55-56ca-44c6-92e8-1089eebb019a\" xlink:show=\"new\" xlink:title=\"psysml:a6aa3e55-56ca-44c6-92e8-1089eebb019a\" xlink:type=\"simple\"><path d=\"M322.87,286.05 C287.44,300.23 248,316 248,316 C248,316 240.73,365.33 235.19,402.98 \" fill=\"none\" id=\"E9-&gt;E2\" style=\"stroke: #383838; stroke-width: 1.0;\"/><polygon fill=\"#FFFFFF\" points=\"232.27,422.82,228.1134,403.0028,241.964,405.0429,232.27,422.82\" style=\"stroke: #383838; stroke-width: 1.0;\"/><ellipse cx=\"230.9227\" cy=\"397.6551\" fill=\"#383838\" rx=\"2\" ry=\"2\" style=\"stroke: #383838; stroke-width: 1.0;\"/><ellipse cx=\"240.8159\" cy=\"399.1123\" fill=\"#383838\" rx=\"2\" ry=\"2\" style=\"stroke: #383838; stroke-width: 1.0;\"/></a><!--MD5=[9ae28de373ca99bb8a1b38d63370ca7e]\n",
       "reverse link E5 to E9--><a href=\"psysml:9d098c9e-1a7b-415f-a301-c2067e422f2c\" target=\"_top\" title=\"psysml:9d098c9e-1a7b-415f-a301-c2067e422f2c\" xlink:actuate=\"onRequest\" xlink:href=\"psysml:9d098c9e-1a7b-415f-a301-c2067e422f2c\" xlink:show=\"new\" xlink:title=\"psysml:9d098c9e-1a7b-415f-a301-c2067e422f2c\" xlink:type=\"simple\"><path d=\"M384.16,94.18 C431.35,123.38 497,164 497,164 C497,164 497,210 497,210 C497,210 460.9,225.77 428.47,239.95 \" fill=\"none\" id=\"E5&lt;-E9\" style=\"stroke: #383838; stroke-width: 1.0;\"/><polygon fill=\"#FFFFFF\" points=\"372.91,87.22,375.907,93.7788,383.114,93.5349,380.117,86.9761,372.91,87.22\" style=\"stroke: #383838; stroke-width: 1.0;\"/></a><!--MD5=[7290e41f629f531b11fba2ff12dad42e]\n",
       "@startuml\r\n",
       "skinparam linetype polyline\r\n",
       "skinparam monochrome true\r\n",
       "skinparam classbackgroundcolor white\r\n",
       "skinparam shadowing false\r\n",
       "skinparam wrapWidth 300\r\n",
       "hide circle\r\n",
       "\r\n",
       "package \"TradeStudyTest\" as E1  [[psysml:656cfd98-5664-4901-a86b-535977508953 ]]  {\r\n",
       "comp def \"Engine\" as E2  <<(T,blue)part def>> [[psysml:66c87936-3609-4f97-8f24-8ad3882372ee ]] {\r\n",
       "}\r\n",
       "comp usage \"engine1: Engine\" as E3  <<(T,blue)part>> [[psysml:c974a942-078b-4d34-96c1-8ca70902d898 ]] {\r\n",
       "}\r\n",
       "comp usage \"engine2: Engine\" as E4  <<(T,blue)part>> [[psysml:f4d0ec5b-d124-41e4-9ba9-3cb67b695e7c ]] {\r\n",
       "}\r\n",
       "comp usage \"engineTradeStudy: TradeStudy\" as E5 <<analysis>> [[psysml:2fd52497-3b24-4a66-a5d3-d77cdf8b2acf ]] {\r\n",
       "}\r\n",
       "comp usage \"tradeStudyObjective: MaximizeObjective\" as E6  <<(T,blue)requirement>> [[psysml:2c27f52f-f536-4fc6-bf8d-fd6e3fd13c39 ]] {\r\n",
       "}\r\n",
       "comp usage \"objectiveFunction\" as E7  <<(T,blue)calculation>> [[psysml:7b858bf3-8f8c-4105-a0db-0d0783f29576 ]] {\r\n",
       "}\r\n",
       "comp usage \"alternative: Engine\" as E8  <<(T,blue)part>> [[psysml:b0f7840c-11d7-45e2-a5a4-bf208bef1113 ]] {\r\n",
       "}\r\n",
       "comp usage \"selectedAlternative: Engine\" as E9  <<(T,blue)part>> [[psysml:9d098c9e-1a7b-415f-a301-c2067e422f2c ]] {\r\n",
       "}\r\n",
       "E3 - -:|> E2 [[psysml:6d15a19a-180f-471d-b762-c393731ed9f0 ]] \r\n",
       "E4 - -:|> E2 [[psysml:247dd621-3d2a-4448-8896-ee4a55c37d47 ]] \r\n",
       "E5 ..> E2 [[psysml:21b7132a-f544-4487-a747-91d198ad447d ]] : <<subject>>\r\n",
       "E5 - ->> E6 [[psysml:44ec4945-cc63-4e9d-b8df-7b9a76da0bc7 ]] : <<objective>>\r\n",
       "E5 *- - E7 [[psysml:7b858bf3-8f8c-4105-a0db-0d0783f29576 ]] \r\n",
       "E8 - -:|> E2 [[psysml:2565caae-8b6e-420b-a56a-eab601fd4b55 ]] \r\n",
       "E7 o- - E8 [[psysml:b0f7840c-11d7-45e2-a5a4-bf208bef1113 ]] \r\n",
       "E9 - -:|> E2 [[psysml:a6aa3e55-56ca-44c6-92e8-1089eebb019a ]] \r\n",
       "E5 o- - E9 [[psysml:9d098c9e-1a7b-415f-a301-c2067e422f2c ]] \r\n",
       "}\r\n",
       "@enduml\r\n",
       "\n",
       "PlantUML version 1.2020.13(Sat Jun 13 12:26:38 UTC 2020)\n",
       "(EPL source distribution)\n",
       "Java Runtime: OpenJDK Runtime Environment\n",
       "JVM: OpenJDK 64-Bit Server VM\n",
       "Default Encoding: UTF-8\n",
       "Language: en\n",
       "Country: null\n",
       "--></g></svg>"
      ]
     },
     "execution_count": 15,
     "metadata": {},
     "output_type": "execute_result"
    }
   ],
   "source": [
    "%viz --style=\"POLYLINE\" --view=\"MIXED\" \"TradeStudyTest\""
   ]
  },
  {
   "cell_type": "code",
   "execution_count": 16,
   "id": "mental-renaissance",
   "metadata": {
    "execution": {
     "iopub.execute_input": "2021-03-25T13:19:18.235675Z",
     "iopub.status.busy": "2021-03-25T13:19:18.235061Z",
     "iopub.status.idle": "2021-03-25T13:19:18.446664Z",
     "shell.execute_reply": "2021-03-25T13:19:18.447115Z"
    }
   },
   "outputs": [
    {
     "data": {
      "image/svg+xml": [
       "<?xml version=\"1.0\" encoding=\"UTF-8\" standalone=\"no\"?><svg xmlns=\"http://www.w3.org/2000/svg\" xmlns:xlink=\"http://www.w3.org/1999/xlink\" contentScriptType=\"application/ecmascript\" contentStyleType=\"text/css\" height=\"351px\" preserveAspectRatio=\"none\" style=\"width:1144px;height:351px;\" version=\"1.1\" viewBox=\"0 0 1144 351\" width=\"1144px\" zoomAndPan=\"magnify\"><defs/><g><!--MD5=[fbc87193dbaf4d95561dea2c320d4a47]\n",
       "cluster E1--><a href=\"psysml:656cfd98-5664-4901-a86b-535977508953\" target=\"_top\" title=\"psysml:656cfd98-5664-4901-a86b-535977508953\" xlink:actuate=\"onRequest\" xlink:href=\"psysml:656cfd98-5664-4901-a86b-535977508953\" xlink:show=\"new\" xlink:title=\"psysml:656cfd98-5664-4901-a86b-535977508953\" xlink:type=\"simple\"><polygon fill=\"#FFFFFF\" points=\"16,6,148,6,155,28.2969,1122,28.2969,1122,339,16,339,16,6\" style=\"stroke: #000000; stroke-width: 1.5;\"/><line style=\"stroke: #000000; stroke-width: 1.5;\" x1=\"16\" x2=\"155\" y1=\"28.2969\" y2=\"28.2969\"/><text fill=\"#000000\" font-family=\"sans-serif\" font-size=\"14\" font-weight=\"bold\" lengthAdjust=\"spacingAndGlyphs\" textLength=\"126\" x=\"20\" y=\"20.9951\">TradeStudyTest</text></a><!--MD5=[b4997ac47864f28c2f74865a473b2911]\n",
       "class E2--><a href=\"psysml:66c87936-3609-4f97-8f24-8ad3882372ee\" target=\"_top\" title=\"psysml:66c87936-3609-4f97-8f24-8ad3882372ee\" xlink:actuate=\"onRequest\" xlink:href=\"psysml:66c87936-3609-4f97-8f24-8ad3882372ee\" xlink:show=\"new\" xlink:title=\"psysml:66c87936-3609-4f97-8f24-8ad3882372ee\" xlink:type=\"simple\"><rect fill=\"#FFFFFF\" height=\"45.9375\" id=\"E2\" style=\"stroke: #383838; stroke-width: 1.5;\" width=\"66\" x=\"1040\" y=\"181\"/><text fill=\"#000000\" font-family=\"sans-serif\" font-size=\"12\" font-style=\"italic\" lengthAdjust=\"spacingAndGlyphs\" textLength=\"64\" x=\"1041\" y=\"197.1387\">«part def»</text><text fill=\"#000000\" font-family=\"sans-serif\" font-size=\"12\" lengthAdjust=\"spacingAndGlyphs\" textLength=\"43\" x=\"1051.5\" y=\"211.1074\">Engine</text><line style=\"stroke: #383838; stroke-width: 1.5;\" x1=\"1041\" x2=\"1105\" y1=\"218.9375\" y2=\"218.9375\"/></a><!--MD5=[09b614a08d8cba4a07c9adeb5e0fee81]\n",
       "class E3--><a href=\"psysml:c974a942-078b-4d34-96c1-8ca70902d898\" target=\"_top\" title=\"psysml:c974a942-078b-4d34-96c1-8ca70902d898\" xlink:actuate=\"onRequest\" xlink:href=\"psysml:c974a942-078b-4d34-96c1-8ca70902d898\" xlink:show=\"new\" xlink:title=\"psysml:c974a942-078b-4d34-96c1-8ca70902d898\" xlink:type=\"simple\"><rect fill=\"#FFFFFF\" height=\"45.9375\" id=\"E3\" rx=\"10\" ry=\"10\" style=\"stroke: #383838; stroke-width: 1.5;\" width=\"108\" x=\"863\" y=\"41\"/><text fill=\"#000000\" font-family=\"sans-serif\" font-size=\"12\" font-style=\"italic\" lengthAdjust=\"spacingAndGlyphs\" textLength=\"40\" x=\"897\" y=\"57.1387\">«part»</text><text fill=\"#000000\" font-family=\"sans-serif\" font-size=\"12\" lengthAdjust=\"spacingAndGlyphs\" textLength=\"102\" x=\"866\" y=\"71.1074\">engine1: Engine</text><line style=\"stroke: #383838; stroke-width: 1.5;\" x1=\"864\" x2=\"970\" y1=\"78.9375\" y2=\"78.9375\"/></a><!--MD5=[ebbe1d658d1005bcc118a6aa81145e00]\n",
       "class E4--><a href=\"psysml:f4d0ec5b-d124-41e4-9ba9-3cb67b695e7c\" target=\"_top\" title=\"psysml:f4d0ec5b-d124-41e4-9ba9-3cb67b695e7c\" xlink:actuate=\"onRequest\" xlink:href=\"psysml:f4d0ec5b-d124-41e4-9ba9-3cb67b695e7c\" xlink:show=\"new\" xlink:title=\"psysml:f4d0ec5b-d124-41e4-9ba9-3cb67b695e7c\" xlink:type=\"simple\"><rect fill=\"#FFFFFF\" height=\"45.9375\" id=\"E4\" rx=\"10\" ry=\"10\" style=\"stroke: #383838; stroke-width: 1.5;\" width=\"108\" x=\"863\" y=\"122\"/><text fill=\"#000000\" font-family=\"sans-serif\" font-size=\"12\" font-style=\"italic\" lengthAdjust=\"spacingAndGlyphs\" textLength=\"40\" x=\"897\" y=\"138.1387\">«part»</text><text fill=\"#000000\" font-family=\"sans-serif\" font-size=\"12\" lengthAdjust=\"spacingAndGlyphs\" textLength=\"102\" x=\"866\" y=\"152.1074\">engine2: Engine</text><line style=\"stroke: #383838; stroke-width: 1.5;\" x1=\"864\" x2=\"970\" y1=\"159.9375\" y2=\"159.9375\"/></a><!--MD5=[270fce915f116d4de14055a7c1d9a0f3]\n",
       "class E5--><a href=\"psysml:2fd52497-3b24-4a66-a5d3-d77cdf8b2acf\" target=\"_top\" title=\"psysml:2fd52497-3b24-4a66-a5d3-d77cdf8b2acf\" xlink:actuate=\"onRequest\" xlink:href=\"psysml:2fd52497-3b24-4a66-a5d3-d77cdf8b2acf\" xlink:show=\"new\" xlink:title=\"psysml:2fd52497-3b24-4a66-a5d3-d77cdf8b2acf\" xlink:type=\"simple\"><rect fill=\"#FFFFFF\" height=\"45.9375\" id=\"E5\" rx=\"10\" ry=\"10\" style=\"stroke: #383838; stroke-width: 1.5;\" width=\"199\" x=\"32\" y=\"173\"/><text fill=\"#000000\" font-family=\"sans-serif\" font-size=\"12\" font-style=\"italic\" lengthAdjust=\"spacingAndGlyphs\" textLength=\"64\" x=\"99.5\" y=\"189.1387\">«analysis»</text><text fill=\"#000000\" font-family=\"sans-serif\" font-size=\"12\" lengthAdjust=\"spacingAndGlyphs\" textLength=\"193\" x=\"35\" y=\"203.1074\">engineTradeStudy: TradeStudy</text><line style=\"stroke: #383838; stroke-width: 1.5;\" x1=\"33\" x2=\"230\" y1=\"210.9375\" y2=\"210.9375\"/></a><!--MD5=[60a26617385b1d2d0262a64233df1f8d]\n",
       "class E6--><a href=\"psysml:2c27f52f-f536-4fc6-bf8d-fd6e3fd13c39\" target=\"_top\" title=\"psysml:2c27f52f-f536-4fc6-bf8d-fd6e3fd13c39\" xlink:actuate=\"onRequest\" xlink:href=\"psysml:2c27f52f-f536-4fc6-bf8d-fd6e3fd13c39\" xlink:show=\"new\" xlink:title=\"psysml:2c27f52f-f536-4fc6-bf8d-fd6e3fd13c39\" xlink:type=\"simple\"><rect fill=\"#FFFFFF\" height=\"45.9375\" id=\"E6\" rx=\"10\" ry=\"10\" style=\"stroke: #383838; stroke-width: 1.5;\" width=\"251\" x=\"366\" y=\"206\"/><text fill=\"#000000\" font-family=\"sans-serif\" font-size=\"12\" font-style=\"italic\" lengthAdjust=\"spacingAndGlyphs\" textLength=\"91\" x=\"446\" y=\"222.1387\">«requirement»</text><text fill=\"#000000\" font-family=\"sans-serif\" font-size=\"12\" lengthAdjust=\"spacingAndGlyphs\" textLength=\"245\" x=\"369\" y=\"236.1074\">tradeStudyObjective: MaximizeObjective</text><line style=\"stroke: #383838; stroke-width: 1.5;\" x1=\"367\" x2=\"616\" y1=\"243.9375\" y2=\"243.9375\"/></a><!--MD5=[2156ba9850f5573cc1fc38a6a4b2f02b]\n",
       "class E7--><a href=\"psysml:7b858bf3-8f8c-4105-a0db-0d0783f29576\" target=\"_top\" title=\"psysml:7b858bf3-8f8c-4105-a0db-0d0783f29576\" xlink:actuate=\"onRequest\" xlink:href=\"psysml:7b858bf3-8f8c-4105-a0db-0d0783f29576\" xlink:show=\"new\" xlink:title=\"psysml:7b858bf3-8f8c-4105-a0db-0d0783f29576\" xlink:type=\"simple\"><rect fill=\"#FFFFFF\" height=\"45.9375\" id=\"E7\" rx=\"10\" ry=\"10\" style=\"stroke: #383838; stroke-width: 1.5;\" width=\"116\" x=\"433.5\" y=\"125\"/><text fill=\"#000000\" font-family=\"sans-serif\" font-size=\"12\" font-style=\"italic\" lengthAdjust=\"spacingAndGlyphs\" textLength=\"82\" x=\"450.5\" y=\"141.1387\">«calculation»</text><text fill=\"#000000\" font-family=\"sans-serif\" font-size=\"12\" lengthAdjust=\"spacingAndGlyphs\" textLength=\"110\" x=\"436.5\" y=\"155.1074\">objectiveFunction</text><line style=\"stroke: #383838; stroke-width: 1.5;\" x1=\"434.5\" x2=\"548.5\" y1=\"162.9375\" y2=\"162.9375\"/></a><!--MD5=[b9389687b975829384b498ac4b7476b2]\n",
       "class E8--><a href=\"psysml:b0f7840c-11d7-45e2-a5a4-bf208bef1113\" target=\"_top\" title=\"psysml:b0f7840c-11d7-45e2-a5a4-bf208bef1113\" xlink:actuate=\"onRequest\" xlink:href=\"psysml:b0f7840c-11d7-45e2-a5a4-bf208bef1113\" xlink:show=\"new\" xlink:title=\"psysml:b0f7840c-11d7-45e2-a5a4-bf208bef1113\" xlink:type=\"simple\"><rect fill=\"#FFFFFF\" height=\"45.9375\" id=\"E8\" rx=\"10\" ry=\"10\" style=\"stroke: #383838; stroke-width: 1.5;\" width=\"124\" x=\"855\" y=\"240\"/><text fill=\"#000000\" font-family=\"sans-serif\" font-size=\"12\" font-style=\"italic\" lengthAdjust=\"spacingAndGlyphs\" textLength=\"40\" x=\"897\" y=\"256.1387\">«part»</text><text fill=\"#000000\" font-family=\"sans-serif\" font-size=\"12\" lengthAdjust=\"spacingAndGlyphs\" textLength=\"118\" x=\"858\" y=\"270.1074\">alternative: Engine</text><line style=\"stroke: #383838; stroke-width: 1.5;\" x1=\"856\" x2=\"978\" y1=\"277.9375\" y2=\"277.9375\"/></a><!--MD5=[fd4143e9d270a159db93a4ea2a975926]\n",
       "class E9--><a href=\"psysml:9d098c9e-1a7b-415f-a301-c2067e422f2c\" target=\"_top\" title=\"psysml:9d098c9e-1a7b-415f-a301-c2067e422f2c\" xlink:actuate=\"onRequest\" xlink:href=\"psysml:9d098c9e-1a7b-415f-a301-c2067e422f2c\" xlink:show=\"new\" xlink:title=\"psysml:9d098c9e-1a7b-415f-a301-c2067e422f2c\" xlink:type=\"simple\"><rect fill=\"#FFFFFF\" height=\"45.9375\" id=\"E9\" rx=\"10\" ry=\"10\" style=\"stroke: #383838; stroke-width: 1.5;\" width=\"178\" x=\"647\" y=\"124\"/><text fill=\"#000000\" font-family=\"sans-serif\" font-size=\"12\" font-style=\"italic\" lengthAdjust=\"spacingAndGlyphs\" textLength=\"40\" x=\"716\" y=\"140.1387\">«part»</text><text fill=\"#000000\" font-family=\"sans-serif\" font-size=\"12\" lengthAdjust=\"spacingAndGlyphs\" textLength=\"172\" x=\"650\" y=\"154.1074\">selectedAlternative: Engine</text><line style=\"stroke: #383838; stroke-width: 1.5;\" x1=\"648\" x2=\"824\" y1=\"161.9375\" y2=\"161.9375\"/></a><!--MD5=[05d275557350bfb9b23a4ef7222b4c39]\n",
       "link E3 to E2--><a href=\"psysml:6d15a19a-180f-471d-b762-c393731ed9f0\" target=\"_top\" title=\"psysml:6d15a19a-180f-471d-b762-c393731ed9f0\" xlink:actuate=\"onRequest\" xlink:href=\"psysml:6d15a19a-180f-471d-b762-c393731ed9f0\" xlink:show=\"new\" xlink:title=\"psysml:6d15a19a-180f-471d-b762-c393731ed9f0\" xlink:type=\"simple\"><path d=\"M956.44,87.17 C964.16,92.38 972.03,98.12 979,104 C1000.94,122.52 1022.93,145.89 1040.02,165.38 \" fill=\"none\" id=\"E3-&gt;E2\" style=\"stroke: #383838; stroke-width: 1.0;\"/><polygon fill=\"#FFFFFF\" points=\"1053.11,180.65,1035.4256,170.7879,1046.0509,161.6719,1053.11,180.65\" style=\"stroke: #383838; stroke-width: 1.0;\"/><ellipse cx=\"1033.232\" cy=\"165.1596\" fill=\"#383838\" rx=\"2\" ry=\"2\" style=\"stroke: #383838; stroke-width: 1.0;\"/><ellipse cx=\"1040.8215\" cy=\"158.6481\" fill=\"#383838\" rx=\"2\" ry=\"2\" style=\"stroke: #383838; stroke-width: 1.0;\"/></a><!--MD5=[185131fc0dcab0a4505a2ebe144e961b]\n",
       "link E4 to E2--><a href=\"psysml:247dd621-3d2a-4448-8896-ee4a55c37d47\" target=\"_top\" title=\"psysml:247dd621-3d2a-4448-8896-ee4a55c37d47\" xlink:actuate=\"onRequest\" xlink:href=\"psysml:247dd621-3d2a-4448-8896-ee4a55c37d47\" xlink:show=\"new\" xlink:title=\"psysml:247dd621-3d2a-4448-8896-ee4a55c37d47\" xlink:type=\"simple\"><path d=\"M971.43,165.47 C987.52,171.64 1005.13,178.38 1021.06,184.48 \" fill=\"none\" id=\"E4-&gt;E2\" style=\"stroke: #383838; stroke-width: 1.0;\"/><polygon fill=\"#FFFFFF\" points=\"1039.76,191.65,1019.5133,191.3857,1024.5242,178.3132,1039.76,191.65\" style=\"stroke: #383838; stroke-width: 1.0;\"/><ellipse cx=\"1014.9067\" cy=\"187.478\" fill=\"#383838\" rx=\"2\" ry=\"2\" style=\"stroke: #383838; stroke-width: 1.0;\"/><ellipse cx=\"1018.486\" cy=\"178.1405\" fill=\"#383838\" rx=\"2\" ry=\"2\" style=\"stroke: #383838; stroke-width: 1.0;\"/></a><!--MD5=[15ebcb19ae302d9b601edb458606d402]\n",
       "link E5 to E2--><a href=\"psysml:21b7132a-f544-4487-a747-91d198ad447d\" target=\"_top\" title=\"psysml:21b7132a-f544-4487-a747-91d198ad447d\" xlink:actuate=\"onRequest\" xlink:href=\"psysml:21b7132a-f544-4487-a747-91d198ad447d\" xlink:show=\"new\" xlink:title=\"psysml:21b7132a-f544-4487-a747-91d198ad447d\" xlink:type=\"simple\"><path d=\"M192.97,219.15 C239.54,235.94 305.91,257.62 366,269 C580.08,309.56 637.25,296.22 855,304 C910.08,305.97 928.47,326.01 979,304 C1012.76,289.29 1039.79,255.62 1055.83,231.41 \" fill=\"none\" id=\"E5-&gt;E2\" style=\"stroke: #383838; stroke-width: 1.0; stroke-dasharray: 7.0,7.0;\"/><polygon fill=\"#383838\" points=\"1058.7,227,1050.4426,232.368,1055.9761,231.1929,1057.1512,236.7263,1058.7,227\" style=\"stroke: #383838; stroke-width: 1.0;\"/><text fill=\"#000000\" font-family=\"sans-serif\" font-size=\"13\" lengthAdjust=\"spacingAndGlyphs\" textLength=\"62\" x=\"705\" y=\"296.0669\">«subject»</text></a><!--MD5=[9120cf2e5df3bff93db8f754bbbc09b4]\n",
       "link E5 to E6--><a href=\"psysml:44ec4945-cc63-4e9d-b8df-7b9a76da0bc7\" target=\"_top\" title=\"psysml:44ec4945-cc63-4e9d-b8df-7b9a76da0bc7\" xlink:actuate=\"onRequest\" xlink:href=\"psysml:44ec4945-cc63-4e9d-b8df-7b9a76da0bc7\" xlink:show=\"new\" xlink:title=\"psysml:44ec4945-cc63-4e9d-b8df-7b9a76da0bc7\" xlink:type=\"simple\"><path d=\"M231.27,205.1 C270.35,208.71 315.87,212.9 357.75,216.76 \" fill=\"none\" id=\"E5-&gt;E6\" style=\"stroke: #383838; stroke-width: 1.0;\"/><polygon fill=\"#383838\" points=\"365.81,217.51,358.1229,213.7806,357.5661,219.7548,365.81,217.51\" style=\"stroke: #383838; stroke-width: 1.0;\"/><text fill=\"#000000\" font-family=\"sans-serif\" font-size=\"13\" lengthAdjust=\"spacingAndGlyphs\" textLength=\"73\" x=\"262\" y=\"205.0669\">«objective»</text></a><!--MD5=[452b418e7f8a40397a49b8c0a78acc5b]\n",
       "reverse link E5 to E7--><a href=\"psysml:7b858bf3-8f8c-4105-a0db-0d0783f29576\" target=\"_top\" title=\"psysml:7b858bf3-8f8c-4105-a0db-0d0783f29576\" xlink:actuate=\"onRequest\" xlink:href=\"psysml:7b858bf3-8f8c-4105-a0db-0d0783f29576\" xlink:show=\"new\" xlink:title=\"psysml:7b858bf3-8f8c-4105-a0db-0d0783f29576\" xlink:type=\"simple\"><path d=\"M244.44,180.99 C307.13,172.59 382.64,162.46 433.34,155.66 \" fill=\"none\" id=\"E5&lt;-E7\" style=\"stroke: #383838; stroke-width: 1.0;\"/><polygon fill=\"#383838\" points=\"231.27,182.76,237.7486,185.9268,243.1635,181.1645,236.6849,177.9978,231.27,182.76\" style=\"stroke: #383838; stroke-width: 1.0;\"/></a><!--MD5=[f1f3f9f2fc535e6147756cb86a7f2e32]\n",
       "link E8 to E2--><a href=\"psysml:2565caae-8b6e-420b-a56a-eab601fd4b55\" target=\"_top\" title=\"psysml:2565caae-8b6e-420b-a56a-eab601fd4b55\" xlink:actuate=\"onRequest\" xlink:href=\"psysml:2565caae-8b6e-420b-a56a-eab601fd4b55\" xlink:show=\"new\" xlink:title=\"psysml:2565caae-8b6e-420b-a56a-eab601fd4b55\" xlink:type=\"simple\"><path d=\"M978.42,239.85 C992.46,234.47 1007.28,228.8 1020.87,223.59 \" fill=\"none\" id=\"E8-&gt;E2\" style=\"stroke: #383838; stroke-width: 1.0;\"/><polygon fill=\"#FFFFFF\" points=\"1039.69,216.38,1024.4542,229.7168,1019.4433,216.6443,1039.69,216.38\" style=\"stroke: #383838; stroke-width: 1.0;\"/><ellipse cx=\"1018.416\" cy=\"229.8895\" fill=\"#383838\" rx=\"2\" ry=\"2\" style=\"stroke: #383838; stroke-width: 1.0;\"/><ellipse cx=\"1014.8367\" cy=\"220.552\" fill=\"#383838\" rx=\"2\" ry=\"2\" style=\"stroke: #383838; stroke-width: 1.0;\"/></a><!--MD5=[dc164f5e8a733ab456ef1add180e9e34]\n",
       "reverse link E7 to E8--><a href=\"psysml:b0f7840c-11d7-45e2-a5a4-bf208bef1113\" target=\"_top\" title=\"psysml:b0f7840c-11d7-45e2-a5a4-bf208bef1113\" xlink:actuate=\"onRequest\" xlink:href=\"psysml:b0f7840c-11d7-45e2-a5a4-bf208bef1113\" xlink:show=\"new\" xlink:title=\"psysml:b0f7840c-11d7-45e2-a5a4-bf208bef1113\" xlink:type=\"simple\"><path d=\"M562.22,166.93 C643.63,189.04 777.02,225.26 854.65,246.34 \" fill=\"none\" id=\"E7&lt;-E8\" style=\"stroke: #383838; stroke-width: 1.0;\"/><polygon fill=\"#FFFFFF\" points=\"549.62,163.51,554.3645,168.9404,561.202,166.6495,556.4575,161.2191,549.62,163.51\" style=\"stroke: #383838; stroke-width: 1.0;\"/></a><!--MD5=[5c3bb36fe832a92c7f0e1807dd65209d]\n",
       "link E9 to E2--><a href=\"psysml:a6aa3e55-56ca-44c6-92e8-1089eebb019a\" target=\"_top\" title=\"psysml:a6aa3e55-56ca-44c6-92e8-1089eebb019a\" xlink:actuate=\"onRequest\" xlink:href=\"psysml:a6aa3e55-56ca-44c6-92e8-1089eebb019a\" xlink:show=\"new\" xlink:title=\"psysml:a6aa3e55-56ca-44c6-92e8-1089eebb019a\" xlink:type=\"simple\"><path d=\"M799.69,170.07 C817.36,175.78 836.75,181.31 855,185 C910.46,196.21 975.22,200.81 1019.46,202.69 \" fill=\"none\" id=\"E9-&gt;E2\" style=\"stroke: #383838; stroke-width: 1.0;\"/><polygon fill=\"#FFFFFF\" points=\"1039.69,203.42,1020.4478,209.7237,1020.9574,195.733,1039.69,203.42\" style=\"stroke: #383838; stroke-width: 1.0;\"/><ellipse cx=\"1014.8244\" cy=\"207.5175\" fill=\"#383838\" rx=\"2\" ry=\"2\" style=\"stroke: #383838; stroke-width: 1.0;\"/><ellipse cx=\"1015.1884\" cy=\"197.5241\" fill=\"#383838\" rx=\"2\" ry=\"2\" style=\"stroke: #383838; stroke-width: 1.0;\"/></a><!--MD5=[9ae28de373ca99bb8a1b38d63370ca7e]\n",
       "reverse link E5 to E9--><a href=\"psysml:9d098c9e-1a7b-415f-a301-c2067e422f2c\" target=\"_top\" title=\"psysml:9d098c9e-1a7b-415f-a301-c2067e422f2c\" xlink:actuate=\"onRequest\" xlink:href=\"psysml:9d098c9e-1a7b-415f-a301-c2067e422f2c\" xlink:show=\"new\" xlink:title=\"psysml:9d098c9e-1a7b-415f-a301-c2067e422f2c\" xlink:type=\"simple\"><path d=\"M189.89,167.36 C236.14,145.96 303.53,118.5 366,107 C475.71,86.8 506.93,88.85 617,107 C637.81,110.43 659.88,117.05 679.24,123.93 \" fill=\"none\" id=\"E5&lt;-E9\" style=\"stroke: #383838; stroke-width: 1.0;\"/><polygon fill=\"#FFFFFF\" points=\"178.01,172.94,185.1402,174.017,188.8768,167.8495,181.7466,166.7725,178.01,172.94\" style=\"stroke: #383838; stroke-width: 1.0;\"/></a><!--MD5=[5de3df0c66ee969759b48f907d5e5a87]\n",
       "@startuml\r\n",
       "left to right direction\r\n",
       "skinparam monochrome true\r\n",
       "skinparam classbackgroundcolor white\r\n",
       "skinparam shadowing false\r\n",
       "skinparam wrapWidth 300\r\n",
       "hide circle\r\n",
       "\r\n",
       "package \"TradeStudyTest\" as E1  [[psysml:656cfd98-5664-4901-a86b-535977508953 ]]  {\r\n",
       "comp def \"Engine\" as E2  <<(T,blue)part def>> [[psysml:66c87936-3609-4f97-8f24-8ad3882372ee ]] {\r\n",
       "}\r\n",
       "comp usage \"engine1: Engine\" as E3  <<(T,blue)part>> [[psysml:c974a942-078b-4d34-96c1-8ca70902d898 ]] {\r\n",
       "}\r\n",
       "comp usage \"engine2: Engine\" as E4  <<(T,blue)part>> [[psysml:f4d0ec5b-d124-41e4-9ba9-3cb67b695e7c ]] {\r\n",
       "}\r\n",
       "comp usage \"engineTradeStudy: TradeStudy\" as E5 <<analysis>> [[psysml:2fd52497-3b24-4a66-a5d3-d77cdf8b2acf ]] {\r\n",
       "}\r\n",
       "comp usage \"tradeStudyObjective: MaximizeObjective\" as E6  <<(T,blue)requirement>> [[psysml:2c27f52f-f536-4fc6-bf8d-fd6e3fd13c39 ]] {\r\n",
       "}\r\n",
       "comp usage \"objectiveFunction\" as E7  <<(T,blue)calculation>> [[psysml:7b858bf3-8f8c-4105-a0db-0d0783f29576 ]] {\r\n",
       "}\r\n",
       "comp usage \"alternative: Engine\" as E8  <<(T,blue)part>> [[psysml:b0f7840c-11d7-45e2-a5a4-bf208bef1113 ]] {\r\n",
       "}\r\n",
       "comp usage \"selectedAlternative: Engine\" as E9  <<(T,blue)part>> [[psysml:9d098c9e-1a7b-415f-a301-c2067e422f2c ]] {\r\n",
       "}\r\n",
       "E3 - -:|> E2 [[psysml:6d15a19a-180f-471d-b762-c393731ed9f0 ]] \r\n",
       "E4 - -:|> E2 [[psysml:247dd621-3d2a-4448-8896-ee4a55c37d47 ]] \r\n",
       "E5 ..> E2 [[psysml:21b7132a-f544-4487-a747-91d198ad447d ]] : <<subject>>\r\n",
       "E5 - ->> E6 [[psysml:44ec4945-cc63-4e9d-b8df-7b9a76da0bc7 ]] : <<objective>>\r\n",
       "E5 *- - E7 [[psysml:7b858bf3-8f8c-4105-a0db-0d0783f29576 ]] \r\n",
       "E8 - -:|> E2 [[psysml:2565caae-8b6e-420b-a56a-eab601fd4b55 ]] \r\n",
       "E7 o- - E8 [[psysml:b0f7840c-11d7-45e2-a5a4-bf208bef1113 ]] \r\n",
       "E9 - -:|> E2 [[psysml:a6aa3e55-56ca-44c6-92e8-1089eebb019a ]] \r\n",
       "E5 o- - E9 [[psysml:9d098c9e-1a7b-415f-a301-c2067e422f2c ]] \r\n",
       "}\r\n",
       "@enduml\r\n",
       "\n",
       "PlantUML version 1.2020.13(Sat Jun 13 12:26:38 UTC 2020)\n",
       "(EPL source distribution)\n",
       "Java Runtime: OpenJDK Runtime Environment\n",
       "JVM: OpenJDK 64-Bit Server VM\n",
       "Default Encoding: UTF-8\n",
       "Language: en\n",
       "Country: null\n",
       "--></g></svg>"
      ]
     },
     "execution_count": 16,
     "metadata": {},
     "output_type": "execute_result"
    }
   ],
   "source": [
    "%viz --style=\"LR\" --view=\"Default\" \"TradeStudyTest\""
   ]
  },
  {
   "cell_type": "code",
   "execution_count": 17,
   "id": "speaking-dividend",
   "metadata": {
    "execution": {
     "iopub.execute_input": "2021-03-25T13:19:18.496630Z",
     "iopub.status.busy": "2021-03-25T13:19:18.496146Z",
     "iopub.status.idle": "2021-03-25T13:19:18.699792Z",
     "shell.execute_reply": "2021-03-25T13:19:18.700293Z"
    }
   },
   "outputs": [
    {
     "data": {
      "image/svg+xml": [
       "<?xml version=\"1.0\" encoding=\"UTF-8\" standalone=\"no\"?><svg xmlns=\"http://www.w3.org/2000/svg\" xmlns:xlink=\"http://www.w3.org/1999/xlink\" contentScriptType=\"application/ecmascript\" contentStyleType=\"text/css\" height=\"351px\" preserveAspectRatio=\"none\" style=\"width:1144px;height:351px;\" version=\"1.1\" viewBox=\"0 0 1144 351\" width=\"1144px\" zoomAndPan=\"magnify\"><defs/><g><!--MD5=[fbc87193dbaf4d95561dea2c320d4a47]\n",
       "cluster E1--><a href=\"psysml:656cfd98-5664-4901-a86b-535977508953\" target=\"_top\" title=\"psysml:656cfd98-5664-4901-a86b-535977508953\" xlink:actuate=\"onRequest\" xlink:href=\"psysml:656cfd98-5664-4901-a86b-535977508953\" xlink:show=\"new\" xlink:title=\"psysml:656cfd98-5664-4901-a86b-535977508953\" xlink:type=\"simple\"><polygon fill=\"#FFFFFF\" points=\"16,6,148,6,155,28.2969,1122,28.2969,1122,339,16,339,16,6\" style=\"stroke: #000000; stroke-width: 1.5;\"/><line style=\"stroke: #000000; stroke-width: 1.5;\" x1=\"16\" x2=\"155\" y1=\"28.2969\" y2=\"28.2969\"/><text fill=\"#000000\" font-family=\"sans-serif\" font-size=\"14\" font-weight=\"bold\" lengthAdjust=\"spacingAndGlyphs\" textLength=\"126\" x=\"20\" y=\"20.9951\">TradeStudyTest</text></a><!--MD5=[b4997ac47864f28c2f74865a473b2911]\n",
       "class E2--><a href=\"psysml:66c87936-3609-4f97-8f24-8ad3882372ee\" target=\"_top\" title=\"psysml:66c87936-3609-4f97-8f24-8ad3882372ee\" xlink:actuate=\"onRequest\" xlink:href=\"psysml:66c87936-3609-4f97-8f24-8ad3882372ee\" xlink:show=\"new\" xlink:title=\"psysml:66c87936-3609-4f97-8f24-8ad3882372ee\" xlink:type=\"simple\"><rect fill=\"#FFFFFF\" height=\"45.9375\" id=\"E2\" style=\"stroke: #383838; stroke-width: 1.5;\" width=\"66\" x=\"1040\" y=\"181\"/><text fill=\"#000000\" font-family=\"sans-serif\" font-size=\"12\" font-style=\"italic\" lengthAdjust=\"spacingAndGlyphs\" textLength=\"64\" x=\"1041\" y=\"197.1387\">«part def»</text><text fill=\"#000000\" font-family=\"sans-serif\" font-size=\"12\" lengthAdjust=\"spacingAndGlyphs\" textLength=\"43\" x=\"1051.5\" y=\"211.1074\">Engine</text><line style=\"stroke: #383838; stroke-width: 1.5;\" x1=\"1041\" x2=\"1105\" y1=\"218.9375\" y2=\"218.9375\"/></a><!--MD5=[09b614a08d8cba4a07c9adeb5e0fee81]\n",
       "class E3--><a href=\"psysml:c974a942-078b-4d34-96c1-8ca70902d898\" target=\"_top\" title=\"psysml:c974a942-078b-4d34-96c1-8ca70902d898\" xlink:actuate=\"onRequest\" xlink:href=\"psysml:c974a942-078b-4d34-96c1-8ca70902d898\" xlink:show=\"new\" xlink:title=\"psysml:c974a942-078b-4d34-96c1-8ca70902d898\" xlink:type=\"simple\"><rect fill=\"#FFFFFF\" height=\"45.9375\" id=\"E3\" rx=\"10\" ry=\"10\" style=\"stroke: #383838; stroke-width: 1.5;\" width=\"108\" x=\"863\" y=\"41\"/><text fill=\"#000000\" font-family=\"sans-serif\" font-size=\"12\" font-style=\"italic\" lengthAdjust=\"spacingAndGlyphs\" textLength=\"40\" x=\"897\" y=\"57.1387\">«part»</text><text fill=\"#000000\" font-family=\"sans-serif\" font-size=\"12\" lengthAdjust=\"spacingAndGlyphs\" textLength=\"102\" x=\"866\" y=\"71.1074\">engine1: Engine</text><line style=\"stroke: #383838; stroke-width: 1.5;\" x1=\"864\" x2=\"970\" y1=\"78.9375\" y2=\"78.9375\"/></a><!--MD5=[ebbe1d658d1005bcc118a6aa81145e00]\n",
       "class E4--><a href=\"psysml:f4d0ec5b-d124-41e4-9ba9-3cb67b695e7c\" target=\"_top\" title=\"psysml:f4d0ec5b-d124-41e4-9ba9-3cb67b695e7c\" xlink:actuate=\"onRequest\" xlink:href=\"psysml:f4d0ec5b-d124-41e4-9ba9-3cb67b695e7c\" xlink:show=\"new\" xlink:title=\"psysml:f4d0ec5b-d124-41e4-9ba9-3cb67b695e7c\" xlink:type=\"simple\"><rect fill=\"#FFFFFF\" height=\"45.9375\" id=\"E4\" rx=\"10\" ry=\"10\" style=\"stroke: #383838; stroke-width: 1.5;\" width=\"108\" x=\"863\" y=\"122\"/><text fill=\"#000000\" font-family=\"sans-serif\" font-size=\"12\" font-style=\"italic\" lengthAdjust=\"spacingAndGlyphs\" textLength=\"40\" x=\"897\" y=\"138.1387\">«part»</text><text fill=\"#000000\" font-family=\"sans-serif\" font-size=\"12\" lengthAdjust=\"spacingAndGlyphs\" textLength=\"102\" x=\"866\" y=\"152.1074\">engine2: Engine</text><line style=\"stroke: #383838; stroke-width: 1.5;\" x1=\"864\" x2=\"970\" y1=\"159.9375\" y2=\"159.9375\"/></a><!--MD5=[270fce915f116d4de14055a7c1d9a0f3]\n",
       "class E5--><a href=\"psysml:2fd52497-3b24-4a66-a5d3-d77cdf8b2acf\" target=\"_top\" title=\"psysml:2fd52497-3b24-4a66-a5d3-d77cdf8b2acf\" xlink:actuate=\"onRequest\" xlink:href=\"psysml:2fd52497-3b24-4a66-a5d3-d77cdf8b2acf\" xlink:show=\"new\" xlink:title=\"psysml:2fd52497-3b24-4a66-a5d3-d77cdf8b2acf\" xlink:type=\"simple\"><rect fill=\"#FFFFFF\" height=\"45.9375\" id=\"E5\" rx=\"10\" ry=\"10\" style=\"stroke: #383838; stroke-width: 1.5;\" width=\"199\" x=\"32\" y=\"173\"/><text fill=\"#000000\" font-family=\"sans-serif\" font-size=\"12\" font-style=\"italic\" lengthAdjust=\"spacingAndGlyphs\" textLength=\"64\" x=\"99.5\" y=\"189.1387\">«analysis»</text><text fill=\"#000000\" font-family=\"sans-serif\" font-size=\"12\" lengthAdjust=\"spacingAndGlyphs\" textLength=\"193\" x=\"35\" y=\"203.1074\">engineTradeStudy: TradeStudy</text><line style=\"stroke: #383838; stroke-width: 1.5;\" x1=\"33\" x2=\"230\" y1=\"210.9375\" y2=\"210.9375\"/></a><!--MD5=[60a26617385b1d2d0262a64233df1f8d]\n",
       "class E6--><a href=\"psysml:2c27f52f-f536-4fc6-bf8d-fd6e3fd13c39\" target=\"_top\" title=\"psysml:2c27f52f-f536-4fc6-bf8d-fd6e3fd13c39\" xlink:actuate=\"onRequest\" xlink:href=\"psysml:2c27f52f-f536-4fc6-bf8d-fd6e3fd13c39\" xlink:show=\"new\" xlink:title=\"psysml:2c27f52f-f536-4fc6-bf8d-fd6e3fd13c39\" xlink:type=\"simple\"><rect fill=\"#FFFFFF\" height=\"45.9375\" id=\"E6\" rx=\"10\" ry=\"10\" style=\"stroke: #383838; stroke-width: 1.5;\" width=\"251\" x=\"366\" y=\"206\"/><text fill=\"#000000\" font-family=\"sans-serif\" font-size=\"12\" font-style=\"italic\" lengthAdjust=\"spacingAndGlyphs\" textLength=\"91\" x=\"446\" y=\"222.1387\">«requirement»</text><text fill=\"#000000\" font-family=\"sans-serif\" font-size=\"12\" lengthAdjust=\"spacingAndGlyphs\" textLength=\"245\" x=\"369\" y=\"236.1074\">tradeStudyObjective: MaximizeObjective</text><line style=\"stroke: #383838; stroke-width: 1.5;\" x1=\"367\" x2=\"616\" y1=\"243.9375\" y2=\"243.9375\"/></a><!--MD5=[2156ba9850f5573cc1fc38a6a4b2f02b]\n",
       "class E7--><a href=\"psysml:7b858bf3-8f8c-4105-a0db-0d0783f29576\" target=\"_top\" title=\"psysml:7b858bf3-8f8c-4105-a0db-0d0783f29576\" xlink:actuate=\"onRequest\" xlink:href=\"psysml:7b858bf3-8f8c-4105-a0db-0d0783f29576\" xlink:show=\"new\" xlink:title=\"psysml:7b858bf3-8f8c-4105-a0db-0d0783f29576\" xlink:type=\"simple\"><rect fill=\"#FFFFFF\" height=\"45.9375\" id=\"E7\" rx=\"10\" ry=\"10\" style=\"stroke: #383838; stroke-width: 1.5;\" width=\"116\" x=\"433.5\" y=\"125\"/><text fill=\"#000000\" font-family=\"sans-serif\" font-size=\"12\" font-style=\"italic\" lengthAdjust=\"spacingAndGlyphs\" textLength=\"82\" x=\"450.5\" y=\"141.1387\">«calculation»</text><text fill=\"#000000\" font-family=\"sans-serif\" font-size=\"12\" lengthAdjust=\"spacingAndGlyphs\" textLength=\"110\" x=\"436.5\" y=\"155.1074\">objectiveFunction</text><line style=\"stroke: #383838; stroke-width: 1.5;\" x1=\"434.5\" x2=\"548.5\" y1=\"162.9375\" y2=\"162.9375\"/></a><!--MD5=[b9389687b975829384b498ac4b7476b2]\n",
       "class E8--><a href=\"psysml:b0f7840c-11d7-45e2-a5a4-bf208bef1113\" target=\"_top\" title=\"psysml:b0f7840c-11d7-45e2-a5a4-bf208bef1113\" xlink:actuate=\"onRequest\" xlink:href=\"psysml:b0f7840c-11d7-45e2-a5a4-bf208bef1113\" xlink:show=\"new\" xlink:title=\"psysml:b0f7840c-11d7-45e2-a5a4-bf208bef1113\" xlink:type=\"simple\"><rect fill=\"#FFFFFF\" height=\"45.9375\" id=\"E8\" rx=\"10\" ry=\"10\" style=\"stroke: #383838; stroke-width: 1.5;\" width=\"124\" x=\"855\" y=\"240\"/><text fill=\"#000000\" font-family=\"sans-serif\" font-size=\"12\" font-style=\"italic\" lengthAdjust=\"spacingAndGlyphs\" textLength=\"40\" x=\"897\" y=\"256.1387\">«part»</text><text fill=\"#000000\" font-family=\"sans-serif\" font-size=\"12\" lengthAdjust=\"spacingAndGlyphs\" textLength=\"118\" x=\"858\" y=\"270.1074\">alternative: Engine</text><line style=\"stroke: #383838; stroke-width: 1.5;\" x1=\"856\" x2=\"978\" y1=\"277.9375\" y2=\"277.9375\"/></a><!--MD5=[fd4143e9d270a159db93a4ea2a975926]\n",
       "class E9--><a href=\"psysml:9d098c9e-1a7b-415f-a301-c2067e422f2c\" target=\"_top\" title=\"psysml:9d098c9e-1a7b-415f-a301-c2067e422f2c\" xlink:actuate=\"onRequest\" xlink:href=\"psysml:9d098c9e-1a7b-415f-a301-c2067e422f2c\" xlink:show=\"new\" xlink:title=\"psysml:9d098c9e-1a7b-415f-a301-c2067e422f2c\" xlink:type=\"simple\"><rect fill=\"#FFFFFF\" height=\"45.9375\" id=\"E9\" rx=\"10\" ry=\"10\" style=\"stroke: #383838; stroke-width: 1.5;\" width=\"178\" x=\"647\" y=\"124\"/><text fill=\"#000000\" font-family=\"sans-serif\" font-size=\"12\" font-style=\"italic\" lengthAdjust=\"spacingAndGlyphs\" textLength=\"40\" x=\"716\" y=\"140.1387\">«part»</text><text fill=\"#000000\" font-family=\"sans-serif\" font-size=\"12\" lengthAdjust=\"spacingAndGlyphs\" textLength=\"172\" x=\"650\" y=\"154.1074\">selectedAlternative: Engine</text><line style=\"stroke: #383838; stroke-width: 1.5;\" x1=\"648\" x2=\"824\" y1=\"161.9375\" y2=\"161.9375\"/></a><!--MD5=[05d275557350bfb9b23a4ef7222b4c39]\n",
       "link E3 to E2--><a href=\"psysml:6d15a19a-180f-471d-b762-c393731ed9f0\" target=\"_top\" title=\"psysml:6d15a19a-180f-471d-b762-c393731ed9f0\" xlink:actuate=\"onRequest\" xlink:href=\"psysml:6d15a19a-180f-471d-b762-c393731ed9f0\" xlink:show=\"new\" xlink:title=\"psysml:6d15a19a-180f-471d-b762-c393731ed9f0\" xlink:type=\"simple\"><path d=\"M956.44,87.17 C964.16,92.38 972.03,98.12 979,104 C1000.94,122.52 1022.93,145.89 1040.02,165.38 \" fill=\"none\" id=\"E3-&gt;E2\" style=\"stroke: #383838; stroke-width: 1.0;\"/><polygon fill=\"#FFFFFF\" points=\"1053.11,180.65,1035.4256,170.7879,1046.0509,161.6719,1053.11,180.65\" style=\"stroke: #383838; stroke-width: 1.0;\"/><ellipse cx=\"1033.232\" cy=\"165.1596\" fill=\"#383838\" rx=\"2\" ry=\"2\" style=\"stroke: #383838; stroke-width: 1.0;\"/><ellipse cx=\"1040.8215\" cy=\"158.6481\" fill=\"#383838\" rx=\"2\" ry=\"2\" style=\"stroke: #383838; stroke-width: 1.0;\"/></a><!--MD5=[185131fc0dcab0a4505a2ebe144e961b]\n",
       "link E4 to E2--><a href=\"psysml:247dd621-3d2a-4448-8896-ee4a55c37d47\" target=\"_top\" title=\"psysml:247dd621-3d2a-4448-8896-ee4a55c37d47\" xlink:actuate=\"onRequest\" xlink:href=\"psysml:247dd621-3d2a-4448-8896-ee4a55c37d47\" xlink:show=\"new\" xlink:title=\"psysml:247dd621-3d2a-4448-8896-ee4a55c37d47\" xlink:type=\"simple\"><path d=\"M971.43,165.47 C987.52,171.64 1005.13,178.38 1021.06,184.48 \" fill=\"none\" id=\"E4-&gt;E2\" style=\"stroke: #383838; stroke-width: 1.0;\"/><polygon fill=\"#FFFFFF\" points=\"1039.76,191.65,1019.5133,191.3857,1024.5242,178.3132,1039.76,191.65\" style=\"stroke: #383838; stroke-width: 1.0;\"/><ellipse cx=\"1014.9067\" cy=\"187.478\" fill=\"#383838\" rx=\"2\" ry=\"2\" style=\"stroke: #383838; stroke-width: 1.0;\"/><ellipse cx=\"1018.486\" cy=\"178.1405\" fill=\"#383838\" rx=\"2\" ry=\"2\" style=\"stroke: #383838; stroke-width: 1.0;\"/></a><!--MD5=[15ebcb19ae302d9b601edb458606d402]\n",
       "link E5 to E2--><a href=\"psysml:21b7132a-f544-4487-a747-91d198ad447d\" target=\"_top\" title=\"psysml:21b7132a-f544-4487-a747-91d198ad447d\" xlink:actuate=\"onRequest\" xlink:href=\"psysml:21b7132a-f544-4487-a747-91d198ad447d\" xlink:show=\"new\" xlink:title=\"psysml:21b7132a-f544-4487-a747-91d198ad447d\" xlink:type=\"simple\"><path d=\"M192.97,219.15 C239.54,235.94 305.91,257.62 366,269 C580.08,309.56 637.25,296.22 855,304 C910.08,305.97 928.47,326.01 979,304 C1012.76,289.29 1039.79,255.62 1055.83,231.41 \" fill=\"none\" id=\"E5-&gt;E2\" style=\"stroke: #383838; stroke-width: 1.0; stroke-dasharray: 7.0,7.0;\"/><polygon fill=\"#383838\" points=\"1058.7,227,1050.4426,232.368,1055.9761,231.1929,1057.1512,236.7263,1058.7,227\" style=\"stroke: #383838; stroke-width: 1.0;\"/><text fill=\"#000000\" font-family=\"sans-serif\" font-size=\"13\" lengthAdjust=\"spacingAndGlyphs\" textLength=\"62\" x=\"705\" y=\"296.0669\">«subject»</text></a><!--MD5=[9120cf2e5df3bff93db8f754bbbc09b4]\n",
       "link E5 to E6--><a href=\"psysml:44ec4945-cc63-4e9d-b8df-7b9a76da0bc7\" target=\"_top\" title=\"psysml:44ec4945-cc63-4e9d-b8df-7b9a76da0bc7\" xlink:actuate=\"onRequest\" xlink:href=\"psysml:44ec4945-cc63-4e9d-b8df-7b9a76da0bc7\" xlink:show=\"new\" xlink:title=\"psysml:44ec4945-cc63-4e9d-b8df-7b9a76da0bc7\" xlink:type=\"simple\"><path d=\"M231.27,205.1 C270.35,208.71 315.87,212.9 357.75,216.76 \" fill=\"none\" id=\"E5-&gt;E6\" style=\"stroke: #383838; stroke-width: 1.0;\"/><polygon fill=\"#383838\" points=\"365.81,217.51,358.1229,213.7806,357.5661,219.7548,365.81,217.51\" style=\"stroke: #383838; stroke-width: 1.0;\"/><text fill=\"#000000\" font-family=\"sans-serif\" font-size=\"13\" lengthAdjust=\"spacingAndGlyphs\" textLength=\"73\" x=\"262\" y=\"205.0669\">«objective»</text></a><!--MD5=[452b418e7f8a40397a49b8c0a78acc5b]\n",
       "reverse link E5 to E7--><a href=\"psysml:7b858bf3-8f8c-4105-a0db-0d0783f29576\" target=\"_top\" title=\"psysml:7b858bf3-8f8c-4105-a0db-0d0783f29576\" xlink:actuate=\"onRequest\" xlink:href=\"psysml:7b858bf3-8f8c-4105-a0db-0d0783f29576\" xlink:show=\"new\" xlink:title=\"psysml:7b858bf3-8f8c-4105-a0db-0d0783f29576\" xlink:type=\"simple\"><path d=\"M244.44,180.99 C307.13,172.59 382.64,162.46 433.34,155.66 \" fill=\"none\" id=\"E5&lt;-E7\" style=\"stroke: #383838; stroke-width: 1.0;\"/><polygon fill=\"#383838\" points=\"231.27,182.76,237.7486,185.9268,243.1635,181.1645,236.6849,177.9978,231.27,182.76\" style=\"stroke: #383838; stroke-width: 1.0;\"/></a><!--MD5=[f1f3f9f2fc535e6147756cb86a7f2e32]\n",
       "link E8 to E2--><a href=\"psysml:2565caae-8b6e-420b-a56a-eab601fd4b55\" target=\"_top\" title=\"psysml:2565caae-8b6e-420b-a56a-eab601fd4b55\" xlink:actuate=\"onRequest\" xlink:href=\"psysml:2565caae-8b6e-420b-a56a-eab601fd4b55\" xlink:show=\"new\" xlink:title=\"psysml:2565caae-8b6e-420b-a56a-eab601fd4b55\" xlink:type=\"simple\"><path d=\"M978.42,239.85 C992.46,234.47 1007.28,228.8 1020.87,223.59 \" fill=\"none\" id=\"E8-&gt;E2\" style=\"stroke: #383838; stroke-width: 1.0;\"/><polygon fill=\"#FFFFFF\" points=\"1039.69,216.38,1024.4542,229.7168,1019.4433,216.6443,1039.69,216.38\" style=\"stroke: #383838; stroke-width: 1.0;\"/><ellipse cx=\"1018.416\" cy=\"229.8895\" fill=\"#383838\" rx=\"2\" ry=\"2\" style=\"stroke: #383838; stroke-width: 1.0;\"/><ellipse cx=\"1014.8367\" cy=\"220.552\" fill=\"#383838\" rx=\"2\" ry=\"2\" style=\"stroke: #383838; stroke-width: 1.0;\"/></a><!--MD5=[dc164f5e8a733ab456ef1add180e9e34]\n",
       "reverse link E7 to E8--><a href=\"psysml:b0f7840c-11d7-45e2-a5a4-bf208bef1113\" target=\"_top\" title=\"psysml:b0f7840c-11d7-45e2-a5a4-bf208bef1113\" xlink:actuate=\"onRequest\" xlink:href=\"psysml:b0f7840c-11d7-45e2-a5a4-bf208bef1113\" xlink:show=\"new\" xlink:title=\"psysml:b0f7840c-11d7-45e2-a5a4-bf208bef1113\" xlink:type=\"simple\"><path d=\"M562.22,166.93 C643.63,189.04 777.02,225.26 854.65,246.34 \" fill=\"none\" id=\"E7&lt;-E8\" style=\"stroke: #383838; stroke-width: 1.0;\"/><polygon fill=\"#FFFFFF\" points=\"549.62,163.51,554.3645,168.9404,561.202,166.6495,556.4575,161.2191,549.62,163.51\" style=\"stroke: #383838; stroke-width: 1.0;\"/></a><!--MD5=[5c3bb36fe832a92c7f0e1807dd65209d]\n",
       "link E9 to E2--><a href=\"psysml:a6aa3e55-56ca-44c6-92e8-1089eebb019a\" target=\"_top\" title=\"psysml:a6aa3e55-56ca-44c6-92e8-1089eebb019a\" xlink:actuate=\"onRequest\" xlink:href=\"psysml:a6aa3e55-56ca-44c6-92e8-1089eebb019a\" xlink:show=\"new\" xlink:title=\"psysml:a6aa3e55-56ca-44c6-92e8-1089eebb019a\" xlink:type=\"simple\"><path d=\"M799.69,170.07 C817.36,175.78 836.75,181.31 855,185 C910.46,196.21 975.22,200.81 1019.46,202.69 \" fill=\"none\" id=\"E9-&gt;E2\" style=\"stroke: #383838; stroke-width: 1.0;\"/><polygon fill=\"#FFFFFF\" points=\"1039.69,203.42,1020.4478,209.7237,1020.9574,195.733,1039.69,203.42\" style=\"stroke: #383838; stroke-width: 1.0;\"/><ellipse cx=\"1014.8244\" cy=\"207.5175\" fill=\"#383838\" rx=\"2\" ry=\"2\" style=\"stroke: #383838; stroke-width: 1.0;\"/><ellipse cx=\"1015.1884\" cy=\"197.5241\" fill=\"#383838\" rx=\"2\" ry=\"2\" style=\"stroke: #383838; stroke-width: 1.0;\"/></a><!--MD5=[9ae28de373ca99bb8a1b38d63370ca7e]\n",
       "reverse link E5 to E9--><a href=\"psysml:9d098c9e-1a7b-415f-a301-c2067e422f2c\" target=\"_top\" title=\"psysml:9d098c9e-1a7b-415f-a301-c2067e422f2c\" xlink:actuate=\"onRequest\" xlink:href=\"psysml:9d098c9e-1a7b-415f-a301-c2067e422f2c\" xlink:show=\"new\" xlink:title=\"psysml:9d098c9e-1a7b-415f-a301-c2067e422f2c\" xlink:type=\"simple\"><path d=\"M189.89,167.36 C236.14,145.96 303.53,118.5 366,107 C475.71,86.8 506.93,88.85 617,107 C637.81,110.43 659.88,117.05 679.24,123.93 \" fill=\"none\" id=\"E5&lt;-E9\" style=\"stroke: #383838; stroke-width: 1.0;\"/><polygon fill=\"#FFFFFF\" points=\"178.01,172.94,185.1402,174.017,188.8768,167.8495,181.7466,166.7725,178.01,172.94\" style=\"stroke: #383838; stroke-width: 1.0;\"/></a><!--MD5=[5de3df0c66ee969759b48f907d5e5a87]\n",
       "@startuml\r\n",
       "left to right direction\r\n",
       "skinparam monochrome true\r\n",
       "skinparam classbackgroundcolor white\r\n",
       "skinparam shadowing false\r\n",
       "skinparam wrapWidth 300\r\n",
       "hide circle\r\n",
       "\r\n",
       "package \"TradeStudyTest\" as E1  [[psysml:656cfd98-5664-4901-a86b-535977508953 ]]  {\r\n",
       "comp def \"Engine\" as E2  <<(T,blue)part def>> [[psysml:66c87936-3609-4f97-8f24-8ad3882372ee ]] {\r\n",
       "}\r\n",
       "comp usage \"engine1: Engine\" as E3  <<(T,blue)part>> [[psysml:c974a942-078b-4d34-96c1-8ca70902d898 ]] {\r\n",
       "}\r\n",
       "comp usage \"engine2: Engine\" as E4  <<(T,blue)part>> [[psysml:f4d0ec5b-d124-41e4-9ba9-3cb67b695e7c ]] {\r\n",
       "}\r\n",
       "comp usage \"engineTradeStudy: TradeStudy\" as E5 <<analysis>> [[psysml:2fd52497-3b24-4a66-a5d3-d77cdf8b2acf ]] {\r\n",
       "}\r\n",
       "comp usage \"tradeStudyObjective: MaximizeObjective\" as E6  <<(T,blue)requirement>> [[psysml:2c27f52f-f536-4fc6-bf8d-fd6e3fd13c39 ]] {\r\n",
       "}\r\n",
       "comp usage \"objectiveFunction\" as E7  <<(T,blue)calculation>> [[psysml:7b858bf3-8f8c-4105-a0db-0d0783f29576 ]] {\r\n",
       "}\r\n",
       "comp usage \"alternative: Engine\" as E8  <<(T,blue)part>> [[psysml:b0f7840c-11d7-45e2-a5a4-bf208bef1113 ]] {\r\n",
       "}\r\n",
       "comp usage \"selectedAlternative: Engine\" as E9  <<(T,blue)part>> [[psysml:9d098c9e-1a7b-415f-a301-c2067e422f2c ]] {\r\n",
       "}\r\n",
       "E3 - -:|> E2 [[psysml:6d15a19a-180f-471d-b762-c393731ed9f0 ]] \r\n",
       "E4 - -:|> E2 [[psysml:247dd621-3d2a-4448-8896-ee4a55c37d47 ]] \r\n",
       "E5 ..> E2 [[psysml:21b7132a-f544-4487-a747-91d198ad447d ]] : <<subject>>\r\n",
       "E5 - ->> E6 [[psysml:44ec4945-cc63-4e9d-b8df-7b9a76da0bc7 ]] : <<objective>>\r\n",
       "E5 *- - E7 [[psysml:7b858bf3-8f8c-4105-a0db-0d0783f29576 ]] \r\n",
       "E8 - -:|> E2 [[psysml:2565caae-8b6e-420b-a56a-eab601fd4b55 ]] \r\n",
       "E7 o- - E8 [[psysml:b0f7840c-11d7-45e2-a5a4-bf208bef1113 ]] \r\n",
       "E9 - -:|> E2 [[psysml:a6aa3e55-56ca-44c6-92e8-1089eebb019a ]] \r\n",
       "E5 o- - E9 [[psysml:9d098c9e-1a7b-415f-a301-c2067e422f2c ]] \r\n",
       "}\r\n",
       "@enduml\r\n",
       "\n",
       "PlantUML version 1.2020.13(Sat Jun 13 12:26:38 UTC 2020)\n",
       "(EPL source distribution)\n",
       "Java Runtime: OpenJDK Runtime Environment\n",
       "JVM: OpenJDK 64-Bit Server VM\n",
       "Default Encoding: UTF-8\n",
       "Language: en\n",
       "Country: null\n",
       "--></g></svg>"
      ]
     },
     "execution_count": 17,
     "metadata": {},
     "output_type": "execute_result"
    }
   ],
   "source": [
    "%viz --style=\"LR\" --view=\"Tree\" \"TradeStudyTest\""
   ]
  },
  {
   "cell_type": "code",
   "execution_count": 18,
   "id": "lovely-sessions",
   "metadata": {
    "execution": {
     "iopub.execute_input": "2021-03-25T13:19:18.750174Z",
     "iopub.status.busy": "2021-03-25T13:19:18.749313Z",
     "iopub.status.idle": "2021-03-25T13:19:18.757970Z",
     "shell.execute_reply": "2021-03-25T13:19:18.758494Z"
    }
   },
   "outputs": [
    {
     "data": {
      "image/svg+xml": [
       "<?xml version=\"1.0\" encoding=\"UTF-8\" standalone=\"no\"?><svg xmlns=\"http://www.w3.org/2000/svg\" xmlns:xlink=\"http://www.w3.org/1999/xlink\" contentScriptType=\"application/ecmascript\" contentStyleType=\"text/css\" height=\"12px\" preserveAspectRatio=\"none\" style=\"width:12px;height:12px;\" version=\"1.1\" viewBox=\"0 0 12 12\" width=\"12px\" zoomAndPan=\"magnify\"><defs/><g><!--MD5=[19d285c9d72a204eba4e2cd117d745e8]\n",
       "@startuml\r\n",
       "left to right direction\r\n",
       "skinparam monochrome true\r\n",
       "skinparam classbackgroundcolor white\r\n",
       "skinparam shadowing false\r\n",
       "skinparam wrapWidth 300\r\n",
       "hide circle\r\n",
       "\r\n",
       "@enduml\r\n",
       "\n",
       "PlantUML version 1.2020.13(Sat Jun 13 12:26:38 UTC 2020)\n",
       "(EPL source distribution)\n",
       "Java Runtime: OpenJDK Runtime Environment\n",
       "JVM: OpenJDK 64-Bit Server VM\n",
       "Default Encoding: UTF-8\n",
       "Language: en\n",
       "Country: null\n",
       "--></g></svg>"
      ]
     },
     "execution_count": 18,
     "metadata": {},
     "output_type": "execute_result"
    }
   ],
   "source": [
    "%viz --style=\"LR\" --view=\"State\" \"TradeStudyTest\""
   ]
  },
  {
   "cell_type": "code",
   "execution_count": 19,
   "id": "fundamental-public",
   "metadata": {
    "execution": {
     "iopub.execute_input": "2021-03-25T13:19:18.810220Z",
     "iopub.status.busy": "2021-03-25T13:19:18.809701Z",
     "iopub.status.idle": "2021-03-25T13:19:18.873797Z",
     "shell.execute_reply": "2021-03-25T13:19:18.874308Z"
    }
   },
   "outputs": [
    {
     "data": {
      "image/svg+xml": [
       "<?xml version=\"1.0\" encoding=\"UTF-8\" standalone=\"no\"?><svg xmlns=\"http://www.w3.org/2000/svg\" xmlns:xlink=\"http://www.w3.org/1999/xlink\" contentScriptType=\"application/ecmascript\" contentStyleType=\"text/css\" height=\"263px\" preserveAspectRatio=\"none\" style=\"width:183px;height:263px;\" version=\"1.1\" viewBox=\"0 0 183 263\" width=\"183px\" zoomAndPan=\"magnify\"><defs/><g><!--MD5=[fbc87193dbaf4d95561dea2c320d4a47]\n",
       "cluster E1--><a href=\"psysml:656cfd98-5664-4901-a86b-535977508953\" target=\"_top\" title=\"psysml:656cfd98-5664-4901-a86b-535977508953\" xlink:actuate=\"onRequest\" xlink:href=\"psysml:656cfd98-5664-4901-a86b-535977508953\" xlink:show=\"new\" xlink:title=\"psysml:656cfd98-5664-4901-a86b-535977508953\" xlink:type=\"simple\"><polygon fill=\"#FFFFFF\" points=\"16,6,148,6,155,28.2969,161,28.2969,161,251,16,251,16,6\" style=\"stroke: #000000; stroke-width: 1.5;\"/><line style=\"stroke: #000000; stroke-width: 1.5;\" x1=\"16\" x2=\"155\" y1=\"28.2969\" y2=\"28.2969\"/><text fill=\"#000000\" font-family=\"sans-serif\" font-size=\"14\" font-weight=\"bold\" lengthAdjust=\"spacingAndGlyphs\" textLength=\"126\" x=\"20\" y=\"20.9951\">TradeStudyTest</text></a><g id=\"E1.E2\"><a href=\"psysml:66c87936-3609-4f97-8f24-8ad3882372ee\" target=\"_top\" title=\"psysml:66c87936-3609-4f97-8f24-8ad3882372ee\" xlink:actuate=\"onRequest\" xlink:href=\"psysml:66c87936-3609-4f97-8f24-8ad3882372ee\" xlink:show=\"new\" xlink:title=\"psysml:66c87936-3609-4f97-8f24-8ad3882372ee\" xlink:type=\"simple\"><rect fill=\"#FFFFFF\" height=\"42.9375\" id=\"E2\" style=\"stroke: #383838; stroke-width: 1.5;\" width=\"71\" x=\"53\" y=\"41.5\"/><rect fill=\"#F8F8F8\" height=\"37.9375\" style=\"stroke: #383838; stroke-width: 1.5;\" width=\"71\" x=\"53\" y=\"41.5\"/><text fill=\"#000000\" font-family=\"sans-serif\" font-size=\"12\" font-style=\"italic\" lengthAdjust=\"spacingAndGlyphs\" textLength=\"64\" x=\"56.5\" y=\"57.6387\">«part def»</text><text fill=\"#000000\" font-family=\"sans-serif\" font-size=\"12\" lengthAdjust=\"spacingAndGlyphs\" textLength=\"43\" x=\"67\" y=\"71.6074\">Engine</text></a></g><g id=\"E1.E3\"><a href=\"psysml:c974a942-078b-4d34-96c1-8ca70902d898\" target=\"_top\" title=\"psysml:c974a942-078b-4d34-96c1-8ca70902d898\" xlink:actuate=\"onRequest\" xlink:href=\"psysml:c974a942-078b-4d34-96c1-8ca70902d898\" xlink:show=\"new\" xlink:title=\"psysml:c974a942-078b-4d34-96c1-8ca70902d898\" xlink:type=\"simple\"><rect fill=\"#FFFFFF\" height=\"40\" id=\"E3\" rx=\"10\" ry=\"10\" style=\"stroke: #383838; stroke-width: 1.5;\" width=\"113\" x=\"32\" y=\"120\"/><rect fill=\"#F8F8F8\" height=\"23.9688\" rx=\"10\" ry=\"10\" style=\"stroke: #F8F8F8; stroke-width: 1.5;\" width=\"113\" x=\"32\" y=\"120\"/><rect fill=\"#F8F8F8\" height=\"10\" style=\"stroke: #F8F8F8; stroke-width: 1.5;\" width=\"113\" x=\"32\" y=\"133.9688\"/><rect fill=\"none\" height=\"40\" id=\"E3\" rx=\"10\" ry=\"10\" style=\"stroke: #383838; stroke-width: 1.5;\" width=\"113\" x=\"32\" y=\"120\"/><text fill=\"#000000\" font-family=\"sans-serif\" font-size=\"12\" lengthAdjust=\"spacingAndGlyphs\" textLength=\"102\" x=\"37.5\" y=\"136.1387\">engine1: Engine</text></a></g><g id=\"E1.E4\"><a href=\"psysml:f4d0ec5b-d124-41e4-9ba9-3cb67b695e7c\" target=\"_top\" title=\"psysml:f4d0ec5b-d124-41e4-9ba9-3cb67b695e7c\" xlink:actuate=\"onRequest\" xlink:href=\"psysml:f4d0ec5b-d124-41e4-9ba9-3cb67b695e7c\" xlink:show=\"new\" xlink:title=\"psysml:f4d0ec5b-d124-41e4-9ba9-3cb67b695e7c\" xlink:type=\"simple\"><rect fill=\"#FFFFFF\" height=\"40\" id=\"E4\" rx=\"10\" ry=\"10\" style=\"stroke: #383838; stroke-width: 1.5;\" width=\"113\" x=\"32\" y=\"195\"/><rect fill=\"#F8F8F8\" height=\"23.9688\" rx=\"10\" ry=\"10\" style=\"stroke: #F8F8F8; stroke-width: 1.5;\" width=\"113\" x=\"32\" y=\"195\"/><rect fill=\"#F8F8F8\" height=\"10\" style=\"stroke: #F8F8F8; stroke-width: 1.5;\" width=\"113\" x=\"32\" y=\"208.9688\"/><rect fill=\"none\" height=\"40\" id=\"E4\" rx=\"10\" ry=\"10\" style=\"stroke: #383838; stroke-width: 1.5;\" width=\"113\" x=\"32\" y=\"195\"/><text fill=\"#000000\" font-family=\"sans-serif\" font-size=\"12\" lengthAdjust=\"spacingAndGlyphs\" textLength=\"102\" x=\"37.5\" y=\"211.1387\">engine2: Engine</text></a></g><!--MD5=[d21036e3672b9a9832d2db06f0cc092f]\n",
       "@startuml\r\n",
       "skinparam ranksep 8\r\n",
       "skinparam rectangle {\r\n",
       " backgroundColor<<block>> LightGreen\r\n",
       "}\r\n",
       "left to right direction\r\n",
       "skinparam monochrome true\r\n",
       "skinparam classbackgroundcolor white\r\n",
       "skinparam shadowing false\r\n",
       "skinparam wrapWidth 300\r\n",
       "hide circle\r\n",
       "\r\n",
       "package \"TradeStudyTest\" as E1  [[psysml:656cfd98-5664-4901-a86b-535977508953 ]]  {\r\n",
       "rec def \"Engine\" as E2  <<(T,blue)part def>> [[psysml:66c87936-3609-4f97-8f24-8ad3882372ee ]] {\r\n",
       "}\r\n",
       "rec usage \"engine1: Engine\" as E3  [[psysml:c974a942-078b-4d34-96c1-8ca70902d898 ]] {\r\n",
       "}\r\n",
       "rec usage \"engine2: Engine\" as E4  [[psysml:f4d0ec5b-d124-41e4-9ba9-3cb67b695e7c ]] {\r\n",
       "}\r\n",
       "}\r\n",
       "@enduml\r\n",
       "\n",
       "PlantUML version 1.2020.13(Sat Jun 13 12:26:38 UTC 2020)\n",
       "(EPL source distribution)\n",
       "Java Runtime: OpenJDK Runtime Environment\n",
       "JVM: OpenJDK 64-Bit Server VM\n",
       "Default Encoding: UTF-8\n",
       "Language: en\n",
       "Country: null\n",
       "--></g></svg>"
      ]
     },
     "execution_count": 19,
     "metadata": {},
     "output_type": "execute_result"
    }
   ],
   "source": [
    "%viz --style=\"LR\" --view=\"Interconnection\" \"TradeStudyTest\""
   ]
  },
  {
   "cell_type": "code",
   "execution_count": 20,
   "id": "average-affairs",
   "metadata": {
    "execution": {
     "iopub.execute_input": "2021-03-25T13:19:18.925114Z",
     "iopub.status.busy": "2021-03-25T13:19:18.924537Z",
     "iopub.status.idle": "2021-03-25T13:19:19.018147Z",
     "shell.execute_reply": "2021-03-25T13:19:19.017723Z"
    }
   },
   "outputs": [
    {
     "data": {
      "image/svg+xml": [
       "<?xml version=\"1.0\" encoding=\"UTF-8\" standalone=\"no\"?><svg xmlns=\"http://www.w3.org/2000/svg\" xmlns:xlink=\"http://www.w3.org/1999/xlink\" contentScriptType=\"application/ecmascript\" contentStyleType=\"text/css\" height=\"129px\" preserveAspectRatio=\"none\" style=\"width:180px;height:129px;\" version=\"1.1\" viewBox=\"0 0 180 129\" width=\"180px\" zoomAndPan=\"magnify\"><defs/><g><!--MD5=[fbc87193dbaf4d95561dea2c320d4a47]\n",
       "cluster E1--><a href=\"psysml:2fd52497-3b24-4a66-a5d3-d77cdf8b2acf\" target=\"_top\" title=\"psysml:2fd52497-3b24-4a66-a5d3-d77cdf8b2acf\" xlink:actuate=\"onRequest\" xlink:href=\"psysml:2fd52497-3b24-4a66-a5d3-d77cdf8b2acf\" xlink:show=\"new\" xlink:title=\"psysml:2fd52497-3b24-4a66-a5d3-d77cdf8b2acf\" xlink:type=\"simple\"><rect fill=\"#FFFFFF\" height=\"111\" id=\"E1\" rx=\"10\" ry=\"10\" style=\"stroke: #383838; stroke-width: 1.5;\" width=\"161\" x=\"7\" y=\"7\"/><rect fill=\"#F8F8F8\" height=\"37.9375\" rx=\"10\" ry=\"10\" style=\"stroke: #F8F8F8; stroke-width: 1.5;\" width=\"161\" x=\"7\" y=\"7\"/><rect fill=\"#F8F8F8\" height=\"10\" style=\"stroke: #F8F8F8; stroke-width: 1.5;\" width=\"161\" x=\"7\" y=\"34.9375\"/><rect fill=\"none\" height=\"111\" id=\"E1\" rx=\"10\" ry=\"10\" style=\"stroke: #383838; stroke-width: 1.5;\" width=\"161\" x=\"7\" y=\"7\"/><text fill=\"#000000\" font-family=\"sans-serif\" font-size=\"12\" font-style=\"italic\" lengthAdjust=\"spacingAndGlyphs\" textLength=\"64\" x=\"55.5\" y=\"23.1387\">«analysis»</text><text fill=\"#000000\" font-family=\"sans-serif\" font-size=\"12\" lengthAdjust=\"spacingAndGlyphs\" textLength=\"114\" x=\"30.5\" y=\"37.1074\">engineTradeStudy</text><line style=\"stroke: #383838; stroke-width: 1.0;\" x1=\"7\" x2=\"168\" y1=\"44.9375\" y2=\"44.9375\"/></a><g id=\"E1.E2\"><a href=\"psysml:7b858bf3-8f8c-4105-a0db-0d0783f29576\" target=\"_top\" title=\"psysml:7b858bf3-8f8c-4105-a0db-0d0783f29576\" xlink:actuate=\"onRequest\" xlink:href=\"psysml:7b858bf3-8f8c-4105-a0db-0d0783f29576\" xlink:show=\"new\" xlink:title=\"psysml:7b858bf3-8f8c-4105-a0db-0d0783f29576\" xlink:type=\"simple\"><rect fill=\"#FFFFFF\" height=\"42.9375\" id=\"E2\" rx=\"10\" ry=\"10\" style=\"stroke: #383838; stroke-width: 1.5;\" width=\"121\" x=\"27\" y=\"58.5\"/><rect fill=\"#F8F8F8\" height=\"37.9375\" rx=\"10\" ry=\"10\" style=\"stroke: #F8F8F8; stroke-width: 1.5;\" width=\"121\" x=\"27\" y=\"58.5\"/><rect fill=\"#F8F8F8\" height=\"10\" style=\"stroke: #F8F8F8; stroke-width: 1.5;\" width=\"121\" x=\"27\" y=\"86.4375\"/><rect fill=\"none\" height=\"42.9375\" id=\"E2\" rx=\"10\" ry=\"10\" style=\"stroke: #383838; stroke-width: 1.5;\" width=\"121\" x=\"27\" y=\"58.5\"/><text fill=\"#000000\" font-family=\"sans-serif\" font-size=\"12\" font-style=\"italic\" lengthAdjust=\"spacingAndGlyphs\" textLength=\"82\" x=\"46.5\" y=\"74.6387\">«calculation»</text><text fill=\"#000000\" font-family=\"sans-serif\" font-size=\"12\" lengthAdjust=\"spacingAndGlyphs\" textLength=\"110\" x=\"32.5\" y=\"88.6074\">objectiveFunction</text></a></g><!--MD5=[2985730b617348705a4152c66e8888a5]\n",
       "@startuml\r\n",
       "skinparam ranksep 8\r\n",
       "left to right direction\r\n",
       "skinparam monochrome true\r\n",
       "skinparam classbackgroundcolor white\r\n",
       "skinparam shadowing false\r\n",
       "skinparam wrapWidth 300\r\n",
       "hide circle\r\n",
       "\r\n",
       "rec usage \"engineTradeStudy\" as E1 <<analysis>> [[psysml:2fd52497-3b24-4a66-a5d3-d77cdf8b2acf ]] {\r\n",
       "rec usage \"objectiveFunction\" as E2  <<(T,blue)calculation>> [[psysml:7b858bf3-8f8c-4105-a0db-0d0783f29576 ]] {\r\n",
       "}\r\n",
       "\r\n",
       "}\r\n",
       "\r\n",
       "@enduml\r\n",
       "\n",
       "PlantUML version 1.2020.13(Sat Jun 13 12:26:38 UTC 2020)\n",
       "(EPL source distribution)\n",
       "Java Runtime: OpenJDK Runtime Environment\n",
       "JVM: OpenJDK 64-Bit Server VM\n",
       "Default Encoding: UTF-8\n",
       "Language: en\n",
       "Country: null\n",
       "--></g></svg>"
      ]
     },
     "execution_count": 20,
     "metadata": {},
     "output_type": "execute_result"
    }
   ],
   "source": [
    "%viz --style=\"LR\" --view=\"Action\" \"TradeStudyTest\""
   ]
  },
  {
   "cell_type": "code",
   "execution_count": 21,
   "id": "streaming-castle",
   "metadata": {
    "execution": {
     "iopub.execute_input": "2021-03-25T13:19:19.069593Z",
     "iopub.status.busy": "2021-03-25T13:19:19.068703Z",
     "iopub.status.idle": "2021-03-25T13:19:19.261493Z",
     "shell.execute_reply": "2021-03-25T13:19:19.258927Z"
    }
   },
   "outputs": [
    {
     "data": {
      "image/svg+xml": [
       "<?xml version=\"1.0\" encoding=\"UTF-8\" standalone=\"no\"?><svg xmlns=\"http://www.w3.org/2000/svg\" xmlns:xlink=\"http://www.w3.org/1999/xlink\" contentScriptType=\"application/ecmascript\" contentStyleType=\"text/css\" height=\"351px\" preserveAspectRatio=\"none\" style=\"width:1144px;height:351px;\" version=\"1.1\" viewBox=\"0 0 1144 351\" width=\"1144px\" zoomAndPan=\"magnify\"><defs/><g><!--MD5=[fbc87193dbaf4d95561dea2c320d4a47]\n",
       "cluster E1--><a href=\"psysml:656cfd98-5664-4901-a86b-535977508953\" target=\"_top\" title=\"psysml:656cfd98-5664-4901-a86b-535977508953\" xlink:actuate=\"onRequest\" xlink:href=\"psysml:656cfd98-5664-4901-a86b-535977508953\" xlink:show=\"new\" xlink:title=\"psysml:656cfd98-5664-4901-a86b-535977508953\" xlink:type=\"simple\"><polygon fill=\"#FFFFFF\" points=\"16,6,148,6,155,28.2969,1122,28.2969,1122,339,16,339,16,6\" style=\"stroke: #000000; stroke-width: 1.5;\"/><line style=\"stroke: #000000; stroke-width: 1.5;\" x1=\"16\" x2=\"155\" y1=\"28.2969\" y2=\"28.2969\"/><text fill=\"#000000\" font-family=\"sans-serif\" font-size=\"14\" font-weight=\"bold\" lengthAdjust=\"spacingAndGlyphs\" textLength=\"126\" x=\"20\" y=\"20.9951\">TradeStudyTest</text></a><!--MD5=[b4997ac47864f28c2f74865a473b2911]\n",
       "class E2--><a href=\"psysml:66c87936-3609-4f97-8f24-8ad3882372ee\" target=\"_top\" title=\"psysml:66c87936-3609-4f97-8f24-8ad3882372ee\" xlink:actuate=\"onRequest\" xlink:href=\"psysml:66c87936-3609-4f97-8f24-8ad3882372ee\" xlink:show=\"new\" xlink:title=\"psysml:66c87936-3609-4f97-8f24-8ad3882372ee\" xlink:type=\"simple\"><rect fill=\"#FFFFFF\" height=\"45.9375\" id=\"E2\" style=\"stroke: #383838; stroke-width: 1.5;\" width=\"66\" x=\"1040\" y=\"181\"/><text fill=\"#000000\" font-family=\"sans-serif\" font-size=\"12\" font-style=\"italic\" lengthAdjust=\"spacingAndGlyphs\" textLength=\"64\" x=\"1041\" y=\"197.1387\">«part def»</text><text fill=\"#000000\" font-family=\"sans-serif\" font-size=\"12\" lengthAdjust=\"spacingAndGlyphs\" textLength=\"43\" x=\"1051.5\" y=\"211.1074\">Engine</text><line style=\"stroke: #383838; stroke-width: 1.5;\" x1=\"1041\" x2=\"1105\" y1=\"218.9375\" y2=\"218.9375\"/></a><!--MD5=[09b614a08d8cba4a07c9adeb5e0fee81]\n",
       "class E3--><a href=\"psysml:c974a942-078b-4d34-96c1-8ca70902d898\" target=\"_top\" title=\"psysml:c974a942-078b-4d34-96c1-8ca70902d898\" xlink:actuate=\"onRequest\" xlink:href=\"psysml:c974a942-078b-4d34-96c1-8ca70902d898\" xlink:show=\"new\" xlink:title=\"psysml:c974a942-078b-4d34-96c1-8ca70902d898\" xlink:type=\"simple\"><rect fill=\"#FFFFFF\" height=\"45.9375\" id=\"E3\" rx=\"10\" ry=\"10\" style=\"stroke: #383838; stroke-width: 1.5;\" width=\"108\" x=\"863\" y=\"41\"/><text fill=\"#000000\" font-family=\"sans-serif\" font-size=\"12\" font-style=\"italic\" lengthAdjust=\"spacingAndGlyphs\" textLength=\"40\" x=\"897\" y=\"57.1387\">«part»</text><text fill=\"#000000\" font-family=\"sans-serif\" font-size=\"12\" lengthAdjust=\"spacingAndGlyphs\" textLength=\"102\" x=\"866\" y=\"71.1074\">engine1: Engine</text><line style=\"stroke: #383838; stroke-width: 1.5;\" x1=\"864\" x2=\"970\" y1=\"78.9375\" y2=\"78.9375\"/></a><!--MD5=[ebbe1d658d1005bcc118a6aa81145e00]\n",
       "class E4--><a href=\"psysml:f4d0ec5b-d124-41e4-9ba9-3cb67b695e7c\" target=\"_top\" title=\"psysml:f4d0ec5b-d124-41e4-9ba9-3cb67b695e7c\" xlink:actuate=\"onRequest\" xlink:href=\"psysml:f4d0ec5b-d124-41e4-9ba9-3cb67b695e7c\" xlink:show=\"new\" xlink:title=\"psysml:f4d0ec5b-d124-41e4-9ba9-3cb67b695e7c\" xlink:type=\"simple\"><rect fill=\"#FFFFFF\" height=\"45.9375\" id=\"E4\" rx=\"10\" ry=\"10\" style=\"stroke: #383838; stroke-width: 1.5;\" width=\"108\" x=\"863\" y=\"122\"/><text fill=\"#000000\" font-family=\"sans-serif\" font-size=\"12\" font-style=\"italic\" lengthAdjust=\"spacingAndGlyphs\" textLength=\"40\" x=\"897\" y=\"138.1387\">«part»</text><text fill=\"#000000\" font-family=\"sans-serif\" font-size=\"12\" lengthAdjust=\"spacingAndGlyphs\" textLength=\"102\" x=\"866\" y=\"152.1074\">engine2: Engine</text><line style=\"stroke: #383838; stroke-width: 1.5;\" x1=\"864\" x2=\"970\" y1=\"159.9375\" y2=\"159.9375\"/></a><!--MD5=[270fce915f116d4de14055a7c1d9a0f3]\n",
       "class E5--><a href=\"psysml:2fd52497-3b24-4a66-a5d3-d77cdf8b2acf\" target=\"_top\" title=\"psysml:2fd52497-3b24-4a66-a5d3-d77cdf8b2acf\" xlink:actuate=\"onRequest\" xlink:href=\"psysml:2fd52497-3b24-4a66-a5d3-d77cdf8b2acf\" xlink:show=\"new\" xlink:title=\"psysml:2fd52497-3b24-4a66-a5d3-d77cdf8b2acf\" xlink:type=\"simple\"><rect fill=\"#FFFFFF\" height=\"45.9375\" id=\"E5\" rx=\"10\" ry=\"10\" style=\"stroke: #383838; stroke-width: 1.5;\" width=\"199\" x=\"32\" y=\"173\"/><text fill=\"#000000\" font-family=\"sans-serif\" font-size=\"12\" font-style=\"italic\" lengthAdjust=\"spacingAndGlyphs\" textLength=\"64\" x=\"99.5\" y=\"189.1387\">«analysis»</text><text fill=\"#000000\" font-family=\"sans-serif\" font-size=\"12\" lengthAdjust=\"spacingAndGlyphs\" textLength=\"193\" x=\"35\" y=\"203.1074\">engineTradeStudy: TradeStudy</text><line style=\"stroke: #383838; stroke-width: 1.5;\" x1=\"33\" x2=\"230\" y1=\"210.9375\" y2=\"210.9375\"/></a><!--MD5=[60a26617385b1d2d0262a64233df1f8d]\n",
       "class E6--><a href=\"psysml:2c27f52f-f536-4fc6-bf8d-fd6e3fd13c39\" target=\"_top\" title=\"psysml:2c27f52f-f536-4fc6-bf8d-fd6e3fd13c39\" xlink:actuate=\"onRequest\" xlink:href=\"psysml:2c27f52f-f536-4fc6-bf8d-fd6e3fd13c39\" xlink:show=\"new\" xlink:title=\"psysml:2c27f52f-f536-4fc6-bf8d-fd6e3fd13c39\" xlink:type=\"simple\"><rect fill=\"#FFFFFF\" height=\"45.9375\" id=\"E6\" rx=\"10\" ry=\"10\" style=\"stroke: #383838; stroke-width: 1.5;\" width=\"251\" x=\"366\" y=\"206\"/><text fill=\"#000000\" font-family=\"sans-serif\" font-size=\"12\" font-style=\"italic\" lengthAdjust=\"spacingAndGlyphs\" textLength=\"91\" x=\"446\" y=\"222.1387\">«requirement»</text><text fill=\"#000000\" font-family=\"sans-serif\" font-size=\"12\" lengthAdjust=\"spacingAndGlyphs\" textLength=\"245\" x=\"369\" y=\"236.1074\">tradeStudyObjective: MaximizeObjective</text><line style=\"stroke: #383838; stroke-width: 1.5;\" x1=\"367\" x2=\"616\" y1=\"243.9375\" y2=\"243.9375\"/></a><!--MD5=[2156ba9850f5573cc1fc38a6a4b2f02b]\n",
       "class E7--><a href=\"psysml:7b858bf3-8f8c-4105-a0db-0d0783f29576\" target=\"_top\" title=\"psysml:7b858bf3-8f8c-4105-a0db-0d0783f29576\" xlink:actuate=\"onRequest\" xlink:href=\"psysml:7b858bf3-8f8c-4105-a0db-0d0783f29576\" xlink:show=\"new\" xlink:title=\"psysml:7b858bf3-8f8c-4105-a0db-0d0783f29576\" xlink:type=\"simple\"><rect fill=\"#FFFFFF\" height=\"45.9375\" id=\"E7\" rx=\"10\" ry=\"10\" style=\"stroke: #383838; stroke-width: 1.5;\" width=\"116\" x=\"433.5\" y=\"125\"/><text fill=\"#000000\" font-family=\"sans-serif\" font-size=\"12\" font-style=\"italic\" lengthAdjust=\"spacingAndGlyphs\" textLength=\"82\" x=\"450.5\" y=\"141.1387\">«calculation»</text><text fill=\"#000000\" font-family=\"sans-serif\" font-size=\"12\" lengthAdjust=\"spacingAndGlyphs\" textLength=\"110\" x=\"436.5\" y=\"155.1074\">objectiveFunction</text><line style=\"stroke: #383838; stroke-width: 1.5;\" x1=\"434.5\" x2=\"548.5\" y1=\"162.9375\" y2=\"162.9375\"/></a><!--MD5=[b9389687b975829384b498ac4b7476b2]\n",
       "class E8--><a href=\"psysml:b0f7840c-11d7-45e2-a5a4-bf208bef1113\" target=\"_top\" title=\"psysml:b0f7840c-11d7-45e2-a5a4-bf208bef1113\" xlink:actuate=\"onRequest\" xlink:href=\"psysml:b0f7840c-11d7-45e2-a5a4-bf208bef1113\" xlink:show=\"new\" xlink:title=\"psysml:b0f7840c-11d7-45e2-a5a4-bf208bef1113\" xlink:type=\"simple\"><rect fill=\"#FFFFFF\" height=\"45.9375\" id=\"E8\" rx=\"10\" ry=\"10\" style=\"stroke: #383838; stroke-width: 1.5;\" width=\"124\" x=\"855\" y=\"240\"/><text fill=\"#000000\" font-family=\"sans-serif\" font-size=\"12\" font-style=\"italic\" lengthAdjust=\"spacingAndGlyphs\" textLength=\"40\" x=\"897\" y=\"256.1387\">«part»</text><text fill=\"#000000\" font-family=\"sans-serif\" font-size=\"12\" lengthAdjust=\"spacingAndGlyphs\" textLength=\"118\" x=\"858\" y=\"270.1074\">alternative: Engine</text><line style=\"stroke: #383838; stroke-width: 1.5;\" x1=\"856\" x2=\"978\" y1=\"277.9375\" y2=\"277.9375\"/></a><!--MD5=[fd4143e9d270a159db93a4ea2a975926]\n",
       "class E9--><a href=\"psysml:9d098c9e-1a7b-415f-a301-c2067e422f2c\" target=\"_top\" title=\"psysml:9d098c9e-1a7b-415f-a301-c2067e422f2c\" xlink:actuate=\"onRequest\" xlink:href=\"psysml:9d098c9e-1a7b-415f-a301-c2067e422f2c\" xlink:show=\"new\" xlink:title=\"psysml:9d098c9e-1a7b-415f-a301-c2067e422f2c\" xlink:type=\"simple\"><rect fill=\"#FFFFFF\" height=\"45.9375\" id=\"E9\" rx=\"10\" ry=\"10\" style=\"stroke: #383838; stroke-width: 1.5;\" width=\"178\" x=\"647\" y=\"124\"/><text fill=\"#000000\" font-family=\"sans-serif\" font-size=\"12\" font-style=\"italic\" lengthAdjust=\"spacingAndGlyphs\" textLength=\"40\" x=\"716\" y=\"140.1387\">«part»</text><text fill=\"#000000\" font-family=\"sans-serif\" font-size=\"12\" lengthAdjust=\"spacingAndGlyphs\" textLength=\"172\" x=\"650\" y=\"154.1074\">selectedAlternative: Engine</text><line style=\"stroke: #383838; stroke-width: 1.5;\" x1=\"648\" x2=\"824\" y1=\"161.9375\" y2=\"161.9375\"/></a><!--MD5=[05d275557350bfb9b23a4ef7222b4c39]\n",
       "link E3 to E2--><a href=\"psysml:6d15a19a-180f-471d-b762-c393731ed9f0\" target=\"_top\" title=\"psysml:6d15a19a-180f-471d-b762-c393731ed9f0\" xlink:actuate=\"onRequest\" xlink:href=\"psysml:6d15a19a-180f-471d-b762-c393731ed9f0\" xlink:show=\"new\" xlink:title=\"psysml:6d15a19a-180f-471d-b762-c393731ed9f0\" xlink:type=\"simple\"><path d=\"M956.44,87.17 C964.16,92.38 972.03,98.12 979,104 C1000.94,122.52 1022.93,145.89 1040.02,165.38 \" fill=\"none\" id=\"E3-&gt;E2\" style=\"stroke: #383838; stroke-width: 1.0;\"/><polygon fill=\"#FFFFFF\" points=\"1053.11,180.65,1035.4256,170.7879,1046.0509,161.6719,1053.11,180.65\" style=\"stroke: #383838; stroke-width: 1.0;\"/><ellipse cx=\"1033.232\" cy=\"165.1596\" fill=\"#383838\" rx=\"2\" ry=\"2\" style=\"stroke: #383838; stroke-width: 1.0;\"/><ellipse cx=\"1040.8215\" cy=\"158.6481\" fill=\"#383838\" rx=\"2\" ry=\"2\" style=\"stroke: #383838; stroke-width: 1.0;\"/></a><!--MD5=[185131fc0dcab0a4505a2ebe144e961b]\n",
       "link E4 to E2--><a href=\"psysml:247dd621-3d2a-4448-8896-ee4a55c37d47\" target=\"_top\" title=\"psysml:247dd621-3d2a-4448-8896-ee4a55c37d47\" xlink:actuate=\"onRequest\" xlink:href=\"psysml:247dd621-3d2a-4448-8896-ee4a55c37d47\" xlink:show=\"new\" xlink:title=\"psysml:247dd621-3d2a-4448-8896-ee4a55c37d47\" xlink:type=\"simple\"><path d=\"M971.43,165.47 C987.52,171.64 1005.13,178.38 1021.06,184.48 \" fill=\"none\" id=\"E4-&gt;E2\" style=\"stroke: #383838; stroke-width: 1.0;\"/><polygon fill=\"#FFFFFF\" points=\"1039.76,191.65,1019.5133,191.3857,1024.5242,178.3132,1039.76,191.65\" style=\"stroke: #383838; stroke-width: 1.0;\"/><ellipse cx=\"1014.9067\" cy=\"187.478\" fill=\"#383838\" rx=\"2\" ry=\"2\" style=\"stroke: #383838; stroke-width: 1.0;\"/><ellipse cx=\"1018.486\" cy=\"178.1405\" fill=\"#383838\" rx=\"2\" ry=\"2\" style=\"stroke: #383838; stroke-width: 1.0;\"/></a><!--MD5=[15ebcb19ae302d9b601edb458606d402]\n",
       "link E5 to E2--><a href=\"psysml:21b7132a-f544-4487-a747-91d198ad447d\" target=\"_top\" title=\"psysml:21b7132a-f544-4487-a747-91d198ad447d\" xlink:actuate=\"onRequest\" xlink:href=\"psysml:21b7132a-f544-4487-a747-91d198ad447d\" xlink:show=\"new\" xlink:title=\"psysml:21b7132a-f544-4487-a747-91d198ad447d\" xlink:type=\"simple\"><path d=\"M192.97,219.15 C239.54,235.94 305.91,257.62 366,269 C580.08,309.56 637.25,296.22 855,304 C910.08,305.97 928.47,326.01 979,304 C1012.76,289.29 1039.79,255.62 1055.83,231.41 \" fill=\"none\" id=\"E5-&gt;E2\" style=\"stroke: #383838; stroke-width: 1.0; stroke-dasharray: 7.0,7.0;\"/><polygon fill=\"#383838\" points=\"1058.7,227,1050.4426,232.368,1055.9761,231.1929,1057.1512,236.7263,1058.7,227\" style=\"stroke: #383838; stroke-width: 1.0;\"/><text fill=\"#000000\" font-family=\"sans-serif\" font-size=\"13\" lengthAdjust=\"spacingAndGlyphs\" textLength=\"62\" x=\"705\" y=\"296.0669\">«subject»</text></a><!--MD5=[9120cf2e5df3bff93db8f754bbbc09b4]\n",
       "link E5 to E6--><a href=\"psysml:44ec4945-cc63-4e9d-b8df-7b9a76da0bc7\" target=\"_top\" title=\"psysml:44ec4945-cc63-4e9d-b8df-7b9a76da0bc7\" xlink:actuate=\"onRequest\" xlink:href=\"psysml:44ec4945-cc63-4e9d-b8df-7b9a76da0bc7\" xlink:show=\"new\" xlink:title=\"psysml:44ec4945-cc63-4e9d-b8df-7b9a76da0bc7\" xlink:type=\"simple\"><path d=\"M231.27,205.1 C270.35,208.71 315.87,212.9 357.75,216.76 \" fill=\"none\" id=\"E5-&gt;E6\" style=\"stroke: #383838; stroke-width: 1.0;\"/><polygon fill=\"#383838\" points=\"365.81,217.51,358.1229,213.7806,357.5661,219.7548,365.81,217.51\" style=\"stroke: #383838; stroke-width: 1.0;\"/><text fill=\"#000000\" font-family=\"sans-serif\" font-size=\"13\" lengthAdjust=\"spacingAndGlyphs\" textLength=\"73\" x=\"262\" y=\"205.0669\">«objective»</text></a><!--MD5=[452b418e7f8a40397a49b8c0a78acc5b]\n",
       "reverse link E5 to E7--><a href=\"psysml:7b858bf3-8f8c-4105-a0db-0d0783f29576\" target=\"_top\" title=\"psysml:7b858bf3-8f8c-4105-a0db-0d0783f29576\" xlink:actuate=\"onRequest\" xlink:href=\"psysml:7b858bf3-8f8c-4105-a0db-0d0783f29576\" xlink:show=\"new\" xlink:title=\"psysml:7b858bf3-8f8c-4105-a0db-0d0783f29576\" xlink:type=\"simple\"><path d=\"M244.44,180.99 C307.13,172.59 382.64,162.46 433.34,155.66 \" fill=\"none\" id=\"E5&lt;-E7\" style=\"stroke: #383838; stroke-width: 1.0;\"/><polygon fill=\"#383838\" points=\"231.27,182.76,237.7486,185.9268,243.1635,181.1645,236.6849,177.9978,231.27,182.76\" style=\"stroke: #383838; stroke-width: 1.0;\"/></a><!--MD5=[f1f3f9f2fc535e6147756cb86a7f2e32]\n",
       "link E8 to E2--><a href=\"psysml:2565caae-8b6e-420b-a56a-eab601fd4b55\" target=\"_top\" title=\"psysml:2565caae-8b6e-420b-a56a-eab601fd4b55\" xlink:actuate=\"onRequest\" xlink:href=\"psysml:2565caae-8b6e-420b-a56a-eab601fd4b55\" xlink:show=\"new\" xlink:title=\"psysml:2565caae-8b6e-420b-a56a-eab601fd4b55\" xlink:type=\"simple\"><path d=\"M978.42,239.85 C992.46,234.47 1007.28,228.8 1020.87,223.59 \" fill=\"none\" id=\"E8-&gt;E2\" style=\"stroke: #383838; stroke-width: 1.0;\"/><polygon fill=\"#FFFFFF\" points=\"1039.69,216.38,1024.4542,229.7168,1019.4433,216.6443,1039.69,216.38\" style=\"stroke: #383838; stroke-width: 1.0;\"/><ellipse cx=\"1018.416\" cy=\"229.8895\" fill=\"#383838\" rx=\"2\" ry=\"2\" style=\"stroke: #383838; stroke-width: 1.0;\"/><ellipse cx=\"1014.8367\" cy=\"220.552\" fill=\"#383838\" rx=\"2\" ry=\"2\" style=\"stroke: #383838; stroke-width: 1.0;\"/></a><!--MD5=[dc164f5e8a733ab456ef1add180e9e34]\n",
       "reverse link E7 to E8--><a href=\"psysml:b0f7840c-11d7-45e2-a5a4-bf208bef1113\" target=\"_top\" title=\"psysml:b0f7840c-11d7-45e2-a5a4-bf208bef1113\" xlink:actuate=\"onRequest\" xlink:href=\"psysml:b0f7840c-11d7-45e2-a5a4-bf208bef1113\" xlink:show=\"new\" xlink:title=\"psysml:b0f7840c-11d7-45e2-a5a4-bf208bef1113\" xlink:type=\"simple\"><path d=\"M562.22,166.93 C643.63,189.04 777.02,225.26 854.65,246.34 \" fill=\"none\" id=\"E7&lt;-E8\" style=\"stroke: #383838; stroke-width: 1.0;\"/><polygon fill=\"#FFFFFF\" points=\"549.62,163.51,554.3645,168.9404,561.202,166.6495,556.4575,161.2191,549.62,163.51\" style=\"stroke: #383838; stroke-width: 1.0;\"/></a><!--MD5=[5c3bb36fe832a92c7f0e1807dd65209d]\n",
       "link E9 to E2--><a href=\"psysml:a6aa3e55-56ca-44c6-92e8-1089eebb019a\" target=\"_top\" title=\"psysml:a6aa3e55-56ca-44c6-92e8-1089eebb019a\" xlink:actuate=\"onRequest\" xlink:href=\"psysml:a6aa3e55-56ca-44c6-92e8-1089eebb019a\" xlink:show=\"new\" xlink:title=\"psysml:a6aa3e55-56ca-44c6-92e8-1089eebb019a\" xlink:type=\"simple\"><path d=\"M799.69,170.07 C817.36,175.78 836.75,181.31 855,185 C910.46,196.21 975.22,200.81 1019.46,202.69 \" fill=\"none\" id=\"E9-&gt;E2\" style=\"stroke: #383838; stroke-width: 1.0;\"/><polygon fill=\"#FFFFFF\" points=\"1039.69,203.42,1020.4478,209.7237,1020.9574,195.733,1039.69,203.42\" style=\"stroke: #383838; stroke-width: 1.0;\"/><ellipse cx=\"1014.8244\" cy=\"207.5175\" fill=\"#383838\" rx=\"2\" ry=\"2\" style=\"stroke: #383838; stroke-width: 1.0;\"/><ellipse cx=\"1015.1884\" cy=\"197.5241\" fill=\"#383838\" rx=\"2\" ry=\"2\" style=\"stroke: #383838; stroke-width: 1.0;\"/></a><!--MD5=[9ae28de373ca99bb8a1b38d63370ca7e]\n",
       "reverse link E5 to E9--><a href=\"psysml:9d098c9e-1a7b-415f-a301-c2067e422f2c\" target=\"_top\" title=\"psysml:9d098c9e-1a7b-415f-a301-c2067e422f2c\" xlink:actuate=\"onRequest\" xlink:href=\"psysml:9d098c9e-1a7b-415f-a301-c2067e422f2c\" xlink:show=\"new\" xlink:title=\"psysml:9d098c9e-1a7b-415f-a301-c2067e422f2c\" xlink:type=\"simple\"><path d=\"M189.89,167.36 C236.14,145.96 303.53,118.5 366,107 C475.71,86.8 506.93,88.85 617,107 C637.81,110.43 659.88,117.05 679.24,123.93 \" fill=\"none\" id=\"E5&lt;-E9\" style=\"stroke: #383838; stroke-width: 1.0;\"/><polygon fill=\"#FFFFFF\" points=\"178.01,172.94,185.1402,174.017,188.8768,167.8495,181.7466,166.7725,178.01,172.94\" style=\"stroke: #383838; stroke-width: 1.0;\"/></a><!--MD5=[5de3df0c66ee969759b48f907d5e5a87]\n",
       "@startuml\r\n",
       "left to right direction\r\n",
       "skinparam monochrome true\r\n",
       "skinparam classbackgroundcolor white\r\n",
       "skinparam shadowing false\r\n",
       "skinparam wrapWidth 300\r\n",
       "hide circle\r\n",
       "\r\n",
       "package \"TradeStudyTest\" as E1  [[psysml:656cfd98-5664-4901-a86b-535977508953 ]]  {\r\n",
       "comp def \"Engine\" as E2  <<(T,blue)part def>> [[psysml:66c87936-3609-4f97-8f24-8ad3882372ee ]] {\r\n",
       "}\r\n",
       "comp usage \"engine1: Engine\" as E3  <<(T,blue)part>> [[psysml:c974a942-078b-4d34-96c1-8ca70902d898 ]] {\r\n",
       "}\r\n",
       "comp usage \"engine2: Engine\" as E4  <<(T,blue)part>> [[psysml:f4d0ec5b-d124-41e4-9ba9-3cb67b695e7c ]] {\r\n",
       "}\r\n",
       "comp usage \"engineTradeStudy: TradeStudy\" as E5 <<analysis>> [[psysml:2fd52497-3b24-4a66-a5d3-d77cdf8b2acf ]] {\r\n",
       "}\r\n",
       "comp usage \"tradeStudyObjective: MaximizeObjective\" as E6  <<(T,blue)requirement>> [[psysml:2c27f52f-f536-4fc6-bf8d-fd6e3fd13c39 ]] {\r\n",
       "}\r\n",
       "comp usage \"objectiveFunction\" as E7  <<(T,blue)calculation>> [[psysml:7b858bf3-8f8c-4105-a0db-0d0783f29576 ]] {\r\n",
       "}\r\n",
       "comp usage \"alternative: Engine\" as E8  <<(T,blue)part>> [[psysml:b0f7840c-11d7-45e2-a5a4-bf208bef1113 ]] {\r\n",
       "}\r\n",
       "comp usage \"selectedAlternative: Engine\" as E9  <<(T,blue)part>> [[psysml:9d098c9e-1a7b-415f-a301-c2067e422f2c ]] {\r\n",
       "}\r\n",
       "E3 - -:|> E2 [[psysml:6d15a19a-180f-471d-b762-c393731ed9f0 ]] \r\n",
       "E4 - -:|> E2 [[psysml:247dd621-3d2a-4448-8896-ee4a55c37d47 ]] \r\n",
       "E5 ..> E2 [[psysml:21b7132a-f544-4487-a747-91d198ad447d ]] : <<subject>>\r\n",
       "E5 - ->> E6 [[psysml:44ec4945-cc63-4e9d-b8df-7b9a76da0bc7 ]] : <<objective>>\r\n",
       "E5 *- - E7 [[psysml:7b858bf3-8f8c-4105-a0db-0d0783f29576 ]] \r\n",
       "E8 - -:|> E2 [[psysml:2565caae-8b6e-420b-a56a-eab601fd4b55 ]] \r\n",
       "E7 o- - E8 [[psysml:b0f7840c-11d7-45e2-a5a4-bf208bef1113 ]] \r\n",
       "E9 - -:|> E2 [[psysml:a6aa3e55-56ca-44c6-92e8-1089eebb019a ]] \r\n",
       "E5 o- - E9 [[psysml:9d098c9e-1a7b-415f-a301-c2067e422f2c ]] \r\n",
       "}\r\n",
       "@enduml\r\n",
       "\n",
       "PlantUML version 1.2020.13(Sat Jun 13 12:26:38 UTC 2020)\n",
       "(EPL source distribution)\n",
       "Java Runtime: OpenJDK Runtime Environment\n",
       "JVM: OpenJDK 64-Bit Server VM\n",
       "Default Encoding: UTF-8\n",
       "Language: en\n",
       "Country: null\n",
       "--></g></svg>"
      ]
     },
     "execution_count": 21,
     "metadata": {},
     "output_type": "execute_result"
    }
   ],
   "source": [
    "%viz --style=\"LR\" --view=\"Sequence\" \"TradeStudyTest\""
   ]
  },
  {
   "cell_type": "code",
   "execution_count": 22,
   "id": "superb-keeping",
   "metadata": {
    "execution": {
     "iopub.execute_input": "2021-03-25T13:19:19.310875Z",
     "iopub.status.busy": "2021-03-25T13:19:19.310043Z",
     "iopub.status.idle": "2021-03-25T13:19:19.506657Z",
     "shell.execute_reply": "2021-03-25T13:19:19.503993Z"
    }
   },
   "outputs": [
    {
     "data": {
      "image/svg+xml": [
       "<?xml version=\"1.0\" encoding=\"UTF-8\" standalone=\"no\"?><svg xmlns=\"http://www.w3.org/2000/svg\" xmlns:xlink=\"http://www.w3.org/1999/xlink\" contentScriptType=\"application/ecmascript\" contentStyleType=\"text/css\" height=\"351px\" preserveAspectRatio=\"none\" style=\"width:1144px;height:351px;\" version=\"1.1\" viewBox=\"0 0 1144 351\" width=\"1144px\" zoomAndPan=\"magnify\"><defs/><g><!--MD5=[fbc87193dbaf4d95561dea2c320d4a47]\n",
       "cluster E1--><a href=\"psysml:656cfd98-5664-4901-a86b-535977508953\" target=\"_top\" title=\"psysml:656cfd98-5664-4901-a86b-535977508953\" xlink:actuate=\"onRequest\" xlink:href=\"psysml:656cfd98-5664-4901-a86b-535977508953\" xlink:show=\"new\" xlink:title=\"psysml:656cfd98-5664-4901-a86b-535977508953\" xlink:type=\"simple\"><polygon fill=\"#FFFFFF\" points=\"16,6,148,6,155,28.2969,1122,28.2969,1122,339,16,339,16,6\" style=\"stroke: #000000; stroke-width: 1.5;\"/><line style=\"stroke: #000000; stroke-width: 1.5;\" x1=\"16\" x2=\"155\" y1=\"28.2969\" y2=\"28.2969\"/><text fill=\"#000000\" font-family=\"sans-serif\" font-size=\"14\" font-weight=\"bold\" lengthAdjust=\"spacingAndGlyphs\" textLength=\"126\" x=\"20\" y=\"20.9951\">TradeStudyTest</text></a><!--MD5=[b4997ac47864f28c2f74865a473b2911]\n",
       "class E2--><a href=\"psysml:66c87936-3609-4f97-8f24-8ad3882372ee\" target=\"_top\" title=\"psysml:66c87936-3609-4f97-8f24-8ad3882372ee\" xlink:actuate=\"onRequest\" xlink:href=\"psysml:66c87936-3609-4f97-8f24-8ad3882372ee\" xlink:show=\"new\" xlink:title=\"psysml:66c87936-3609-4f97-8f24-8ad3882372ee\" xlink:type=\"simple\"><rect fill=\"#FFFFFF\" height=\"45.9375\" id=\"E2\" style=\"stroke: #383838; stroke-width: 1.5;\" width=\"66\" x=\"1040\" y=\"181\"/><text fill=\"#000000\" font-family=\"sans-serif\" font-size=\"12\" font-style=\"italic\" lengthAdjust=\"spacingAndGlyphs\" textLength=\"64\" x=\"1041\" y=\"197.1387\">«part def»</text><text fill=\"#000000\" font-family=\"sans-serif\" font-size=\"12\" lengthAdjust=\"spacingAndGlyphs\" textLength=\"43\" x=\"1051.5\" y=\"211.1074\">Engine</text><line style=\"stroke: #383838; stroke-width: 1.5;\" x1=\"1041\" x2=\"1105\" y1=\"218.9375\" y2=\"218.9375\"/></a><!--MD5=[09b614a08d8cba4a07c9adeb5e0fee81]\n",
       "class E3--><a href=\"psysml:c974a942-078b-4d34-96c1-8ca70902d898\" target=\"_top\" title=\"psysml:c974a942-078b-4d34-96c1-8ca70902d898\" xlink:actuate=\"onRequest\" xlink:href=\"psysml:c974a942-078b-4d34-96c1-8ca70902d898\" xlink:show=\"new\" xlink:title=\"psysml:c974a942-078b-4d34-96c1-8ca70902d898\" xlink:type=\"simple\"><rect fill=\"#FFFFFF\" height=\"45.9375\" id=\"E3\" rx=\"10\" ry=\"10\" style=\"stroke: #383838; stroke-width: 1.5;\" width=\"108\" x=\"863\" y=\"41\"/><text fill=\"#000000\" font-family=\"sans-serif\" font-size=\"12\" font-style=\"italic\" lengthAdjust=\"spacingAndGlyphs\" textLength=\"40\" x=\"897\" y=\"57.1387\">«part»</text><text fill=\"#000000\" font-family=\"sans-serif\" font-size=\"12\" lengthAdjust=\"spacingAndGlyphs\" textLength=\"102\" x=\"866\" y=\"71.1074\">engine1: Engine</text><line style=\"stroke: #383838; stroke-width: 1.5;\" x1=\"864\" x2=\"970\" y1=\"78.9375\" y2=\"78.9375\"/></a><!--MD5=[ebbe1d658d1005bcc118a6aa81145e00]\n",
       "class E4--><a href=\"psysml:f4d0ec5b-d124-41e4-9ba9-3cb67b695e7c\" target=\"_top\" title=\"psysml:f4d0ec5b-d124-41e4-9ba9-3cb67b695e7c\" xlink:actuate=\"onRequest\" xlink:href=\"psysml:f4d0ec5b-d124-41e4-9ba9-3cb67b695e7c\" xlink:show=\"new\" xlink:title=\"psysml:f4d0ec5b-d124-41e4-9ba9-3cb67b695e7c\" xlink:type=\"simple\"><rect fill=\"#FFFFFF\" height=\"45.9375\" id=\"E4\" rx=\"10\" ry=\"10\" style=\"stroke: #383838; stroke-width: 1.5;\" width=\"108\" x=\"863\" y=\"122\"/><text fill=\"#000000\" font-family=\"sans-serif\" font-size=\"12\" font-style=\"italic\" lengthAdjust=\"spacingAndGlyphs\" textLength=\"40\" x=\"897\" y=\"138.1387\">«part»</text><text fill=\"#000000\" font-family=\"sans-serif\" font-size=\"12\" lengthAdjust=\"spacingAndGlyphs\" textLength=\"102\" x=\"866\" y=\"152.1074\">engine2: Engine</text><line style=\"stroke: #383838; stroke-width: 1.5;\" x1=\"864\" x2=\"970\" y1=\"159.9375\" y2=\"159.9375\"/></a><!--MD5=[270fce915f116d4de14055a7c1d9a0f3]\n",
       "class E5--><a href=\"psysml:2fd52497-3b24-4a66-a5d3-d77cdf8b2acf\" target=\"_top\" title=\"psysml:2fd52497-3b24-4a66-a5d3-d77cdf8b2acf\" xlink:actuate=\"onRequest\" xlink:href=\"psysml:2fd52497-3b24-4a66-a5d3-d77cdf8b2acf\" xlink:show=\"new\" xlink:title=\"psysml:2fd52497-3b24-4a66-a5d3-d77cdf8b2acf\" xlink:type=\"simple\"><rect fill=\"#FFFFFF\" height=\"45.9375\" id=\"E5\" rx=\"10\" ry=\"10\" style=\"stroke: #383838; stroke-width: 1.5;\" width=\"199\" x=\"32\" y=\"173\"/><text fill=\"#000000\" font-family=\"sans-serif\" font-size=\"12\" font-style=\"italic\" lengthAdjust=\"spacingAndGlyphs\" textLength=\"64\" x=\"99.5\" y=\"189.1387\">«analysis»</text><text fill=\"#000000\" font-family=\"sans-serif\" font-size=\"12\" lengthAdjust=\"spacingAndGlyphs\" textLength=\"193\" x=\"35\" y=\"203.1074\">engineTradeStudy: TradeStudy</text><line style=\"stroke: #383838; stroke-width: 1.5;\" x1=\"33\" x2=\"230\" y1=\"210.9375\" y2=\"210.9375\"/></a><!--MD5=[60a26617385b1d2d0262a64233df1f8d]\n",
       "class E6--><a href=\"psysml:2c27f52f-f536-4fc6-bf8d-fd6e3fd13c39\" target=\"_top\" title=\"psysml:2c27f52f-f536-4fc6-bf8d-fd6e3fd13c39\" xlink:actuate=\"onRequest\" xlink:href=\"psysml:2c27f52f-f536-4fc6-bf8d-fd6e3fd13c39\" xlink:show=\"new\" xlink:title=\"psysml:2c27f52f-f536-4fc6-bf8d-fd6e3fd13c39\" xlink:type=\"simple\"><rect fill=\"#FFFFFF\" height=\"45.9375\" id=\"E6\" rx=\"10\" ry=\"10\" style=\"stroke: #383838; stroke-width: 1.5;\" width=\"251\" x=\"366\" y=\"206\"/><text fill=\"#000000\" font-family=\"sans-serif\" font-size=\"12\" font-style=\"italic\" lengthAdjust=\"spacingAndGlyphs\" textLength=\"91\" x=\"446\" y=\"222.1387\">«requirement»</text><text fill=\"#000000\" font-family=\"sans-serif\" font-size=\"12\" lengthAdjust=\"spacingAndGlyphs\" textLength=\"245\" x=\"369\" y=\"236.1074\">tradeStudyObjective: MaximizeObjective</text><line style=\"stroke: #383838; stroke-width: 1.5;\" x1=\"367\" x2=\"616\" y1=\"243.9375\" y2=\"243.9375\"/></a><!--MD5=[2156ba9850f5573cc1fc38a6a4b2f02b]\n",
       "class E7--><a href=\"psysml:7b858bf3-8f8c-4105-a0db-0d0783f29576\" target=\"_top\" title=\"psysml:7b858bf3-8f8c-4105-a0db-0d0783f29576\" xlink:actuate=\"onRequest\" xlink:href=\"psysml:7b858bf3-8f8c-4105-a0db-0d0783f29576\" xlink:show=\"new\" xlink:title=\"psysml:7b858bf3-8f8c-4105-a0db-0d0783f29576\" xlink:type=\"simple\"><rect fill=\"#FFFFFF\" height=\"45.9375\" id=\"E7\" rx=\"10\" ry=\"10\" style=\"stroke: #383838; stroke-width: 1.5;\" width=\"116\" x=\"433.5\" y=\"125\"/><text fill=\"#000000\" font-family=\"sans-serif\" font-size=\"12\" font-style=\"italic\" lengthAdjust=\"spacingAndGlyphs\" textLength=\"82\" x=\"450.5\" y=\"141.1387\">«calculation»</text><text fill=\"#000000\" font-family=\"sans-serif\" font-size=\"12\" lengthAdjust=\"spacingAndGlyphs\" textLength=\"110\" x=\"436.5\" y=\"155.1074\">objectiveFunction</text><line style=\"stroke: #383838; stroke-width: 1.5;\" x1=\"434.5\" x2=\"548.5\" y1=\"162.9375\" y2=\"162.9375\"/></a><!--MD5=[b9389687b975829384b498ac4b7476b2]\n",
       "class E8--><a href=\"psysml:b0f7840c-11d7-45e2-a5a4-bf208bef1113\" target=\"_top\" title=\"psysml:b0f7840c-11d7-45e2-a5a4-bf208bef1113\" xlink:actuate=\"onRequest\" xlink:href=\"psysml:b0f7840c-11d7-45e2-a5a4-bf208bef1113\" xlink:show=\"new\" xlink:title=\"psysml:b0f7840c-11d7-45e2-a5a4-bf208bef1113\" xlink:type=\"simple\"><rect fill=\"#FFFFFF\" height=\"45.9375\" id=\"E8\" rx=\"10\" ry=\"10\" style=\"stroke: #383838; stroke-width: 1.5;\" width=\"124\" x=\"855\" y=\"240\"/><text fill=\"#000000\" font-family=\"sans-serif\" font-size=\"12\" font-style=\"italic\" lengthAdjust=\"spacingAndGlyphs\" textLength=\"40\" x=\"897\" y=\"256.1387\">«part»</text><text fill=\"#000000\" font-family=\"sans-serif\" font-size=\"12\" lengthAdjust=\"spacingAndGlyphs\" textLength=\"118\" x=\"858\" y=\"270.1074\">alternative: Engine</text><line style=\"stroke: #383838; stroke-width: 1.5;\" x1=\"856\" x2=\"978\" y1=\"277.9375\" y2=\"277.9375\"/></a><!--MD5=[fd4143e9d270a159db93a4ea2a975926]\n",
       "class E9--><a href=\"psysml:9d098c9e-1a7b-415f-a301-c2067e422f2c\" target=\"_top\" title=\"psysml:9d098c9e-1a7b-415f-a301-c2067e422f2c\" xlink:actuate=\"onRequest\" xlink:href=\"psysml:9d098c9e-1a7b-415f-a301-c2067e422f2c\" xlink:show=\"new\" xlink:title=\"psysml:9d098c9e-1a7b-415f-a301-c2067e422f2c\" xlink:type=\"simple\"><rect fill=\"#FFFFFF\" height=\"45.9375\" id=\"E9\" rx=\"10\" ry=\"10\" style=\"stroke: #383838; stroke-width: 1.5;\" width=\"178\" x=\"647\" y=\"124\"/><text fill=\"#000000\" font-family=\"sans-serif\" font-size=\"12\" font-style=\"italic\" lengthAdjust=\"spacingAndGlyphs\" textLength=\"40\" x=\"716\" y=\"140.1387\">«part»</text><text fill=\"#000000\" font-family=\"sans-serif\" font-size=\"12\" lengthAdjust=\"spacingAndGlyphs\" textLength=\"172\" x=\"650\" y=\"154.1074\">selectedAlternative: Engine</text><line style=\"stroke: #383838; stroke-width: 1.5;\" x1=\"648\" x2=\"824\" y1=\"161.9375\" y2=\"161.9375\"/></a><!--MD5=[05d275557350bfb9b23a4ef7222b4c39]\n",
       "link E3 to E2--><a href=\"psysml:6d15a19a-180f-471d-b762-c393731ed9f0\" target=\"_top\" title=\"psysml:6d15a19a-180f-471d-b762-c393731ed9f0\" xlink:actuate=\"onRequest\" xlink:href=\"psysml:6d15a19a-180f-471d-b762-c393731ed9f0\" xlink:show=\"new\" xlink:title=\"psysml:6d15a19a-180f-471d-b762-c393731ed9f0\" xlink:type=\"simple\"><path d=\"M956.44,87.17 C964.16,92.38 972.03,98.12 979,104 C1000.94,122.52 1022.93,145.89 1040.02,165.38 \" fill=\"none\" id=\"E3-&gt;E2\" style=\"stroke: #383838; stroke-width: 1.0;\"/><polygon fill=\"#FFFFFF\" points=\"1053.11,180.65,1035.4256,170.7879,1046.0509,161.6719,1053.11,180.65\" style=\"stroke: #383838; stroke-width: 1.0;\"/><ellipse cx=\"1033.232\" cy=\"165.1596\" fill=\"#383838\" rx=\"2\" ry=\"2\" style=\"stroke: #383838; stroke-width: 1.0;\"/><ellipse cx=\"1040.8215\" cy=\"158.6481\" fill=\"#383838\" rx=\"2\" ry=\"2\" style=\"stroke: #383838; stroke-width: 1.0;\"/></a><!--MD5=[185131fc0dcab0a4505a2ebe144e961b]\n",
       "link E4 to E2--><a href=\"psysml:247dd621-3d2a-4448-8896-ee4a55c37d47\" target=\"_top\" title=\"psysml:247dd621-3d2a-4448-8896-ee4a55c37d47\" xlink:actuate=\"onRequest\" xlink:href=\"psysml:247dd621-3d2a-4448-8896-ee4a55c37d47\" xlink:show=\"new\" xlink:title=\"psysml:247dd621-3d2a-4448-8896-ee4a55c37d47\" xlink:type=\"simple\"><path d=\"M971.43,165.47 C987.52,171.64 1005.13,178.38 1021.06,184.48 \" fill=\"none\" id=\"E4-&gt;E2\" style=\"stroke: #383838; stroke-width: 1.0;\"/><polygon fill=\"#FFFFFF\" points=\"1039.76,191.65,1019.5133,191.3857,1024.5242,178.3132,1039.76,191.65\" style=\"stroke: #383838; stroke-width: 1.0;\"/><ellipse cx=\"1014.9067\" cy=\"187.478\" fill=\"#383838\" rx=\"2\" ry=\"2\" style=\"stroke: #383838; stroke-width: 1.0;\"/><ellipse cx=\"1018.486\" cy=\"178.1405\" fill=\"#383838\" rx=\"2\" ry=\"2\" style=\"stroke: #383838; stroke-width: 1.0;\"/></a><!--MD5=[15ebcb19ae302d9b601edb458606d402]\n",
       "link E5 to E2--><a href=\"psysml:21b7132a-f544-4487-a747-91d198ad447d\" target=\"_top\" title=\"psysml:21b7132a-f544-4487-a747-91d198ad447d\" xlink:actuate=\"onRequest\" xlink:href=\"psysml:21b7132a-f544-4487-a747-91d198ad447d\" xlink:show=\"new\" xlink:title=\"psysml:21b7132a-f544-4487-a747-91d198ad447d\" xlink:type=\"simple\"><path d=\"M192.97,219.15 C239.54,235.94 305.91,257.62 366,269 C580.08,309.56 637.25,296.22 855,304 C910.08,305.97 928.47,326.01 979,304 C1012.76,289.29 1039.79,255.62 1055.83,231.41 \" fill=\"none\" id=\"E5-&gt;E2\" style=\"stroke: #383838; stroke-width: 1.0; stroke-dasharray: 7.0,7.0;\"/><polygon fill=\"#383838\" points=\"1058.7,227,1050.4426,232.368,1055.9761,231.1929,1057.1512,236.7263,1058.7,227\" style=\"stroke: #383838; stroke-width: 1.0;\"/><text fill=\"#000000\" font-family=\"sans-serif\" font-size=\"13\" lengthAdjust=\"spacingAndGlyphs\" textLength=\"62\" x=\"705\" y=\"296.0669\">«subject»</text></a><!--MD5=[9120cf2e5df3bff93db8f754bbbc09b4]\n",
       "link E5 to E6--><a href=\"psysml:44ec4945-cc63-4e9d-b8df-7b9a76da0bc7\" target=\"_top\" title=\"psysml:44ec4945-cc63-4e9d-b8df-7b9a76da0bc7\" xlink:actuate=\"onRequest\" xlink:href=\"psysml:44ec4945-cc63-4e9d-b8df-7b9a76da0bc7\" xlink:show=\"new\" xlink:title=\"psysml:44ec4945-cc63-4e9d-b8df-7b9a76da0bc7\" xlink:type=\"simple\"><path d=\"M231.27,205.1 C270.35,208.71 315.87,212.9 357.75,216.76 \" fill=\"none\" id=\"E5-&gt;E6\" style=\"stroke: #383838; stroke-width: 1.0;\"/><polygon fill=\"#383838\" points=\"365.81,217.51,358.1229,213.7806,357.5661,219.7548,365.81,217.51\" style=\"stroke: #383838; stroke-width: 1.0;\"/><text fill=\"#000000\" font-family=\"sans-serif\" font-size=\"13\" lengthAdjust=\"spacingAndGlyphs\" textLength=\"73\" x=\"262\" y=\"205.0669\">«objective»</text></a><!--MD5=[452b418e7f8a40397a49b8c0a78acc5b]\n",
       "reverse link E5 to E7--><a href=\"psysml:7b858bf3-8f8c-4105-a0db-0d0783f29576\" target=\"_top\" title=\"psysml:7b858bf3-8f8c-4105-a0db-0d0783f29576\" xlink:actuate=\"onRequest\" xlink:href=\"psysml:7b858bf3-8f8c-4105-a0db-0d0783f29576\" xlink:show=\"new\" xlink:title=\"psysml:7b858bf3-8f8c-4105-a0db-0d0783f29576\" xlink:type=\"simple\"><path d=\"M244.44,180.99 C307.13,172.59 382.64,162.46 433.34,155.66 \" fill=\"none\" id=\"E5&lt;-E7\" style=\"stroke: #383838; stroke-width: 1.0;\"/><polygon fill=\"#383838\" points=\"231.27,182.76,237.7486,185.9268,243.1635,181.1645,236.6849,177.9978,231.27,182.76\" style=\"stroke: #383838; stroke-width: 1.0;\"/></a><!--MD5=[f1f3f9f2fc535e6147756cb86a7f2e32]\n",
       "link E8 to E2--><a href=\"psysml:2565caae-8b6e-420b-a56a-eab601fd4b55\" target=\"_top\" title=\"psysml:2565caae-8b6e-420b-a56a-eab601fd4b55\" xlink:actuate=\"onRequest\" xlink:href=\"psysml:2565caae-8b6e-420b-a56a-eab601fd4b55\" xlink:show=\"new\" xlink:title=\"psysml:2565caae-8b6e-420b-a56a-eab601fd4b55\" xlink:type=\"simple\"><path d=\"M978.42,239.85 C992.46,234.47 1007.28,228.8 1020.87,223.59 \" fill=\"none\" id=\"E8-&gt;E2\" style=\"stroke: #383838; stroke-width: 1.0;\"/><polygon fill=\"#FFFFFF\" points=\"1039.69,216.38,1024.4542,229.7168,1019.4433,216.6443,1039.69,216.38\" style=\"stroke: #383838; stroke-width: 1.0;\"/><ellipse cx=\"1018.416\" cy=\"229.8895\" fill=\"#383838\" rx=\"2\" ry=\"2\" style=\"stroke: #383838; stroke-width: 1.0;\"/><ellipse cx=\"1014.8367\" cy=\"220.552\" fill=\"#383838\" rx=\"2\" ry=\"2\" style=\"stroke: #383838; stroke-width: 1.0;\"/></a><!--MD5=[dc164f5e8a733ab456ef1add180e9e34]\n",
       "reverse link E7 to E8--><a href=\"psysml:b0f7840c-11d7-45e2-a5a4-bf208bef1113\" target=\"_top\" title=\"psysml:b0f7840c-11d7-45e2-a5a4-bf208bef1113\" xlink:actuate=\"onRequest\" xlink:href=\"psysml:b0f7840c-11d7-45e2-a5a4-bf208bef1113\" xlink:show=\"new\" xlink:title=\"psysml:b0f7840c-11d7-45e2-a5a4-bf208bef1113\" xlink:type=\"simple\"><path d=\"M562.22,166.93 C643.63,189.04 777.02,225.26 854.65,246.34 \" fill=\"none\" id=\"E7&lt;-E8\" style=\"stroke: #383838; stroke-width: 1.0;\"/><polygon fill=\"#FFFFFF\" points=\"549.62,163.51,554.3645,168.9404,561.202,166.6495,556.4575,161.2191,549.62,163.51\" style=\"stroke: #383838; stroke-width: 1.0;\"/></a><!--MD5=[5c3bb36fe832a92c7f0e1807dd65209d]\n",
       "link E9 to E2--><a href=\"psysml:a6aa3e55-56ca-44c6-92e8-1089eebb019a\" target=\"_top\" title=\"psysml:a6aa3e55-56ca-44c6-92e8-1089eebb019a\" xlink:actuate=\"onRequest\" xlink:href=\"psysml:a6aa3e55-56ca-44c6-92e8-1089eebb019a\" xlink:show=\"new\" xlink:title=\"psysml:a6aa3e55-56ca-44c6-92e8-1089eebb019a\" xlink:type=\"simple\"><path d=\"M799.69,170.07 C817.36,175.78 836.75,181.31 855,185 C910.46,196.21 975.22,200.81 1019.46,202.69 \" fill=\"none\" id=\"E9-&gt;E2\" style=\"stroke: #383838; stroke-width: 1.0;\"/><polygon fill=\"#FFFFFF\" points=\"1039.69,203.42,1020.4478,209.7237,1020.9574,195.733,1039.69,203.42\" style=\"stroke: #383838; stroke-width: 1.0;\"/><ellipse cx=\"1014.8244\" cy=\"207.5175\" fill=\"#383838\" rx=\"2\" ry=\"2\" style=\"stroke: #383838; stroke-width: 1.0;\"/><ellipse cx=\"1015.1884\" cy=\"197.5241\" fill=\"#383838\" rx=\"2\" ry=\"2\" style=\"stroke: #383838; stroke-width: 1.0;\"/></a><!--MD5=[9ae28de373ca99bb8a1b38d63370ca7e]\n",
       "reverse link E5 to E9--><a href=\"psysml:9d098c9e-1a7b-415f-a301-c2067e422f2c\" target=\"_top\" title=\"psysml:9d098c9e-1a7b-415f-a301-c2067e422f2c\" xlink:actuate=\"onRequest\" xlink:href=\"psysml:9d098c9e-1a7b-415f-a301-c2067e422f2c\" xlink:show=\"new\" xlink:title=\"psysml:9d098c9e-1a7b-415f-a301-c2067e422f2c\" xlink:type=\"simple\"><path d=\"M189.89,167.36 C236.14,145.96 303.53,118.5 366,107 C475.71,86.8 506.93,88.85 617,107 C637.81,110.43 659.88,117.05 679.24,123.93 \" fill=\"none\" id=\"E5&lt;-E9\" style=\"stroke: #383838; stroke-width: 1.0;\"/><polygon fill=\"#FFFFFF\" points=\"178.01,172.94,185.1402,174.017,188.8768,167.8495,181.7466,166.7725,178.01,172.94\" style=\"stroke: #383838; stroke-width: 1.0;\"/></a><!--MD5=[5de3df0c66ee969759b48f907d5e5a87]\n",
       "@startuml\r\n",
       "left to right direction\r\n",
       "skinparam monochrome true\r\n",
       "skinparam classbackgroundcolor white\r\n",
       "skinparam shadowing false\r\n",
       "skinparam wrapWidth 300\r\n",
       "hide circle\r\n",
       "\r\n",
       "package \"TradeStudyTest\" as E1  [[psysml:656cfd98-5664-4901-a86b-535977508953 ]]  {\r\n",
       "comp def \"Engine\" as E2  <<(T,blue)part def>> [[psysml:66c87936-3609-4f97-8f24-8ad3882372ee ]] {\r\n",
       "}\r\n",
       "comp usage \"engine1: Engine\" as E3  <<(T,blue)part>> [[psysml:c974a942-078b-4d34-96c1-8ca70902d898 ]] {\r\n",
       "}\r\n",
       "comp usage \"engine2: Engine\" as E4  <<(T,blue)part>> [[psysml:f4d0ec5b-d124-41e4-9ba9-3cb67b695e7c ]] {\r\n",
       "}\r\n",
       "comp usage \"engineTradeStudy: TradeStudy\" as E5 <<analysis>> [[psysml:2fd52497-3b24-4a66-a5d3-d77cdf8b2acf ]] {\r\n",
       "}\r\n",
       "comp usage \"tradeStudyObjective: MaximizeObjective\" as E6  <<(T,blue)requirement>> [[psysml:2c27f52f-f536-4fc6-bf8d-fd6e3fd13c39 ]] {\r\n",
       "}\r\n",
       "comp usage \"objectiveFunction\" as E7  <<(T,blue)calculation>> [[psysml:7b858bf3-8f8c-4105-a0db-0d0783f29576 ]] {\r\n",
       "}\r\n",
       "comp usage \"alternative: Engine\" as E8  <<(T,blue)part>> [[psysml:b0f7840c-11d7-45e2-a5a4-bf208bef1113 ]] {\r\n",
       "}\r\n",
       "comp usage \"selectedAlternative: Engine\" as E9  <<(T,blue)part>> [[psysml:9d098c9e-1a7b-415f-a301-c2067e422f2c ]] {\r\n",
       "}\r\n",
       "E3 - -:|> E2 [[psysml:6d15a19a-180f-471d-b762-c393731ed9f0 ]] \r\n",
       "E4 - -:|> E2 [[psysml:247dd621-3d2a-4448-8896-ee4a55c37d47 ]] \r\n",
       "E5 ..> E2 [[psysml:21b7132a-f544-4487-a747-91d198ad447d ]] : <<subject>>\r\n",
       "E5 - ->> E6 [[psysml:44ec4945-cc63-4e9d-b8df-7b9a76da0bc7 ]] : <<objective>>\r\n",
       "E5 *- - E7 [[psysml:7b858bf3-8f8c-4105-a0db-0d0783f29576 ]] \r\n",
       "E8 - -:|> E2 [[psysml:2565caae-8b6e-420b-a56a-eab601fd4b55 ]] \r\n",
       "E7 o- - E8 [[psysml:b0f7840c-11d7-45e2-a5a4-bf208bef1113 ]] \r\n",
       "E9 - -:|> E2 [[psysml:a6aa3e55-56ca-44c6-92e8-1089eebb019a ]] \r\n",
       "E5 o- - E9 [[psysml:9d098c9e-1a7b-415f-a301-c2067e422f2c ]] \r\n",
       "}\r\n",
       "@enduml\r\n",
       "\n",
       "PlantUML version 1.2020.13(Sat Jun 13 12:26:38 UTC 2020)\n",
       "(EPL source distribution)\n",
       "Java Runtime: OpenJDK Runtime Environment\n",
       "JVM: OpenJDK 64-Bit Server VM\n",
       "Default Encoding: UTF-8\n",
       "Language: en\n",
       "Country: null\n",
       "--></g></svg>"
      ]
     },
     "execution_count": 22,
     "metadata": {},
     "output_type": "execute_result"
    }
   ],
   "source": [
    "%viz --style=\"LR\" --view=\"MIXED\" \"TradeStudyTest\""
   ]
  },
  {
   "cell_type": "code",
   "execution_count": 23,
   "id": "intensive-priority",
   "metadata": {
    "execution": {
     "iopub.execute_input": "2021-03-25T13:19:19.555733Z",
     "iopub.status.busy": "2021-03-25T13:19:19.555080Z",
     "iopub.status.idle": "2021-03-25T13:19:19.737251Z",
     "shell.execute_reply": "2021-03-25T13:19:19.735574Z"
    }
   },
   "outputs": [
    {
     "data": {
      "image/svg+xml": [
       "<?xml version=\"1.0\" encoding=\"UTF-8\" standalone=\"no\"?><svg xmlns=\"http://www.w3.org/2000/svg\" xmlns:xlink=\"http://www.w3.org/1999/xlink\" contentScriptType=\"application/ecmascript\" contentStyleType=\"text/css\" height=\"497px\" preserveAspectRatio=\"none\" style=\"width:556px;height:497px;\" version=\"1.1\" viewBox=\"0 0 556 497\" width=\"556px\" zoomAndPan=\"magnify\"><defs><filter height=\"300%\" id=\"fp1iuaate4oto\" width=\"300%\" x=\"-1\" y=\"-1\"><feGaussianBlur result=\"blurOut\" stdDeviation=\"2.0\"/><feColorMatrix in=\"blurOut\" result=\"blurOut2\" type=\"matrix\" values=\"0 0 0 0 0 0 0 0 0 0 0 0 0 0 0 0 0 0 .4 0\"/><feOffset dx=\"4.0\" dy=\"4.0\" in=\"blurOut2\" result=\"blurOut3\"/><feBlend in=\"SourceGraphic\" in2=\"blurOut3\" mode=\"normal\"/></filter></defs><g><!--MD5=[fbc87193dbaf4d95561dea2c320d4a47]\n",
       "cluster E1--><a href=\"psysml:656cfd98-5664-4901-a86b-535977508953\" target=\"_top\" title=\"psysml:656cfd98-5664-4901-a86b-535977508953\" xlink:actuate=\"onRequest\" xlink:href=\"psysml:656cfd98-5664-4901-a86b-535977508953\" xlink:show=\"new\" xlink:title=\"psysml:656cfd98-5664-4901-a86b-535977508953\" xlink:type=\"simple\"><polygon fill=\"#FFFFFF\" filter=\"url(#fp1iuaate4oto)\" points=\"18.32,6,150.32,6,157.32,28.2969,534.32,28.2969,534.32,485,18.32,485,18.32,6\" style=\"stroke: #000000; stroke-width: 1.5;\"/><line style=\"stroke: #000000; stroke-width: 1.5;\" x1=\"18.32\" x2=\"157.32\" y1=\"28.2969\" y2=\"28.2969\"/><text fill=\"#000000\" font-family=\"sans-serif\" font-size=\"14\" font-weight=\"bold\" lengthAdjust=\"spacingAndGlyphs\" textLength=\"126\" x=\"22.32\" y=\"20.9951\">TradeStudyTest</text></a><!--MD5=[b4997ac47864f28c2f74865a473b2911]\n",
       "class E2--><a href=\"psysml:66c87936-3609-4f97-8f24-8ad3882372ee\" target=\"_top\" title=\"psysml:66c87936-3609-4f97-8f24-8ad3882372ee\" xlink:actuate=\"onRequest\" xlink:href=\"psysml:66c87936-3609-4f97-8f24-8ad3882372ee\" xlink:show=\"new\" xlink:title=\"psysml:66c87936-3609-4f97-8f24-8ad3882372ee\" xlink:type=\"simple\"><rect fill=\"#FEFECE\" filter=\"url(#fp1iuaate4oto)\" height=\"45.9375\" id=\"E2\" style=\"stroke: #A80036; stroke-width: 1.5;\" width=\"66\" x=\"198.32\" y=\"423\"/><text fill=\"#000000\" font-family=\"sans-serif\" font-size=\"12\" font-style=\"italic\" lengthAdjust=\"spacingAndGlyphs\" textLength=\"64\" x=\"199.32\" y=\"439.1387\">«part def»</text><text fill=\"#000000\" font-family=\"sans-serif\" font-size=\"12\" lengthAdjust=\"spacingAndGlyphs\" textLength=\"43\" x=\"209.82\" y=\"453.1074\">Engine</text><line style=\"stroke: #A80036; stroke-width: 1.5;\" x1=\"199.32\" x2=\"263.32\" y1=\"460.9375\" y2=\"460.9375\"/></a><!--MD5=[09b614a08d8cba4a07c9adeb5e0fee81]\n",
       "class E3--><a href=\"psysml:c974a942-078b-4d34-96c1-8ca70902d898\" target=\"_top\" title=\"psysml:c974a942-078b-4d34-96c1-8ca70902d898\" xlink:actuate=\"onRequest\" xlink:href=\"psysml:c974a942-078b-4d34-96c1-8ca70902d898\" xlink:show=\"new\" xlink:title=\"psysml:c974a942-078b-4d34-96c1-8ca70902d898\" xlink:type=\"simple\"><rect fill=\"#FEFECE\" filter=\"url(#fp1iuaate4oto)\" height=\"45.9375\" id=\"E3\" rx=\"10\" ry=\"10\" style=\"stroke: #A80036; stroke-width: 1.5;\" width=\"108\" x=\"410.32\" y=\"316\"/><text fill=\"#000000\" font-family=\"sans-serif\" font-size=\"12\" font-style=\"italic\" lengthAdjust=\"spacingAndGlyphs\" textLength=\"40\" x=\"444.32\" y=\"332.1387\">«part»</text><text fill=\"#000000\" font-family=\"sans-serif\" font-size=\"12\" lengthAdjust=\"spacingAndGlyphs\" textLength=\"102\" x=\"413.32\" y=\"346.1074\">engine1: Engine</text><line style=\"stroke: #A80036; stroke-width: 1.5;\" x1=\"411.32\" x2=\"517.32\" y1=\"353.9375\" y2=\"353.9375\"/></a><!--MD5=[ebbe1d658d1005bcc118a6aa81145e00]\n",
       "class E4--><a href=\"psysml:f4d0ec5b-d124-41e4-9ba9-3cb67b695e7c\" target=\"_top\" title=\"psysml:f4d0ec5b-d124-41e4-9ba9-3cb67b695e7c\" xlink:actuate=\"onRequest\" xlink:href=\"psysml:f4d0ec5b-d124-41e4-9ba9-3cb67b695e7c\" xlink:show=\"new\" xlink:title=\"psysml:f4d0ec5b-d124-41e4-9ba9-3cb67b695e7c\" xlink:type=\"simple\"><rect fill=\"#FEFECE\" filter=\"url(#fp1iuaate4oto)\" height=\"45.9375\" id=\"E4\" rx=\"10\" ry=\"10\" style=\"stroke: #A80036; stroke-width: 1.5;\" width=\"108\" x=\"267.32\" y=\"316\"/><text fill=\"#000000\" font-family=\"sans-serif\" font-size=\"12\" font-style=\"italic\" lengthAdjust=\"spacingAndGlyphs\" textLength=\"40\" x=\"301.32\" y=\"332.1387\">«part»</text><text fill=\"#000000\" font-family=\"sans-serif\" font-size=\"12\" lengthAdjust=\"spacingAndGlyphs\" textLength=\"102\" x=\"270.32\" y=\"346.1074\">engine2: Engine</text><line style=\"stroke: #A80036; stroke-width: 1.5;\" x1=\"268.32\" x2=\"374.32\" y1=\"353.9375\" y2=\"353.9375\"/></a><!--MD5=[270fce915f116d4de14055a7c1d9a0f3]\n",
       "class E5--><a href=\"psysml:2fd52497-3b24-4a66-a5d3-d77cdf8b2acf\" target=\"_top\" title=\"psysml:2fd52497-3b24-4a66-a5d3-d77cdf8b2acf\" xlink:actuate=\"onRequest\" xlink:href=\"psysml:2fd52497-3b24-4a66-a5d3-d77cdf8b2acf\" xlink:show=\"new\" xlink:title=\"psysml:2fd52497-3b24-4a66-a5d3-d77cdf8b2acf\" xlink:type=\"simple\"><rect fill=\"#FEFECE\" filter=\"url(#fp1iuaate4oto)\" height=\"45.9375\" id=\"E5\" rx=\"10\" ry=\"10\" style=\"stroke: #A80036; stroke-width: 1.5;\" width=\"199\" x=\"239.82\" y=\"41\"/><text fill=\"#000000\" font-family=\"sans-serif\" font-size=\"12\" font-style=\"italic\" lengthAdjust=\"spacingAndGlyphs\" textLength=\"64\" x=\"307.32\" y=\"57.1387\">«analysis»</text><text fill=\"#000000\" font-family=\"sans-serif\" font-size=\"12\" lengthAdjust=\"spacingAndGlyphs\" textLength=\"193\" x=\"242.82\" y=\"71.1074\">engineTradeStudy: TradeStudy</text><line style=\"stroke: #A80036; stroke-width: 1.5;\" x1=\"240.82\" x2=\"437.82\" y1=\"78.9375\" y2=\"78.9375\"/></a><!--MD5=[60a26617385b1d2d0262a64233df1f8d]\n",
       "class E6--><a href=\"psysml:2c27f52f-f536-4fc6-bf8d-fd6e3fd13c39\" target=\"_top\" title=\"psysml:2c27f52f-f536-4fc6-bf8d-fd6e3fd13c39\" xlink:actuate=\"onRequest\" xlink:href=\"psysml:2c27f52f-f536-4fc6-bf8d-fd6e3fd13c39\" xlink:show=\"new\" xlink:title=\"psysml:2c27f52f-f536-4fc6-bf8d-fd6e3fd13c39\" xlink:type=\"simple\"><rect fill=\"#FEFECE\" filter=\"url(#fp1iuaate4oto)\" height=\"45.9375\" id=\"E6\" rx=\"10\" ry=\"10\" style=\"stroke: #A80036; stroke-width: 1.5;\" width=\"251\" x=\"78.82\" y=\"164\"/><text fill=\"#000000\" font-family=\"sans-serif\" font-size=\"12\" font-style=\"italic\" lengthAdjust=\"spacingAndGlyphs\" textLength=\"91\" x=\"158.82\" y=\"180.1387\">«requirement»</text><text fill=\"#000000\" font-family=\"sans-serif\" font-size=\"12\" lengthAdjust=\"spacingAndGlyphs\" textLength=\"245\" x=\"81.82\" y=\"194.1074\">tradeStudyObjective: MaximizeObjective</text><line style=\"stroke: #A80036; stroke-width: 1.5;\" x1=\"79.82\" x2=\"328.82\" y1=\"201.9375\" y2=\"201.9375\"/></a><!--MD5=[2156ba9850f5573cc1fc38a6a4b2f02b]\n",
       "class E7--><a href=\"psysml:7b858bf3-8f8c-4105-a0db-0d0783f29576\" target=\"_top\" title=\"psysml:7b858bf3-8f8c-4105-a0db-0d0783f29576\" xlink:actuate=\"onRequest\" xlink:href=\"psysml:7b858bf3-8f8c-4105-a0db-0d0783f29576\" xlink:show=\"new\" xlink:title=\"psysml:7b858bf3-8f8c-4105-a0db-0d0783f29576\" xlink:type=\"simple\"><rect fill=\"#FEFECE\" filter=\"url(#fp1iuaate4oto)\" height=\"45.9375\" id=\"E7\" rx=\"10\" ry=\"10\" style=\"stroke: #A80036; stroke-width: 1.5;\" width=\"116\" x=\"365.32\" y=\"164\"/><text fill=\"#000000\" font-family=\"sans-serif\" font-size=\"12\" font-style=\"italic\" lengthAdjust=\"spacingAndGlyphs\" textLength=\"82\" x=\"382.32\" y=\"180.1387\">«calculation»</text><text fill=\"#000000\" font-family=\"sans-serif\" font-size=\"12\" lengthAdjust=\"spacingAndGlyphs\" textLength=\"110\" x=\"368.32\" y=\"194.1074\">objectiveFunction</text><line style=\"stroke: #A80036; stroke-width: 1.5;\" x1=\"366.32\" x2=\"480.32\" y1=\"201.9375\" y2=\"201.9375\"/></a><!--MD5=[b9389687b975829384b498ac4b7476b2]\n",
       "class E8--><a href=\"psysml:b0f7840c-11d7-45e2-a5a4-bf208bef1113\" target=\"_top\" title=\"psysml:b0f7840c-11d7-45e2-a5a4-bf208bef1113\" xlink:actuate=\"onRequest\" xlink:href=\"psysml:b0f7840c-11d7-45e2-a5a4-bf208bef1113\" xlink:show=\"new\" xlink:title=\"psysml:b0f7840c-11d7-45e2-a5a4-bf208bef1113\" xlink:type=\"simple\"><rect fill=\"#FEFECE\" filter=\"url(#fp1iuaate4oto)\" height=\"45.9375\" id=\"E8\" rx=\"10\" ry=\"10\" style=\"stroke: #A80036; stroke-width: 1.5;\" width=\"124\" x=\"71.32\" y=\"316\"/><text fill=\"#000000\" font-family=\"sans-serif\" font-size=\"12\" font-style=\"italic\" lengthAdjust=\"spacingAndGlyphs\" textLength=\"40\" x=\"113.32\" y=\"332.1387\">«part»</text><text fill=\"#000000\" font-family=\"sans-serif\" font-size=\"12\" lengthAdjust=\"spacingAndGlyphs\" textLength=\"118\" x=\"74.32\" y=\"346.1074\">alternative: Engine</text><line style=\"stroke: #A80036; stroke-width: 1.5;\" x1=\"72.32\" x2=\"194.32\" y1=\"353.9375\" y2=\"353.9375\"/></a><!--MD5=[fd4143e9d270a159db93a4ea2a975926]\n",
       "class E9--><a href=\"psysml:9d098c9e-1a7b-415f-a301-c2067e422f2c\" target=\"_top\" title=\"psysml:9d098c9e-1a7b-415f-a301-c2067e422f2c\" xlink:actuate=\"onRequest\" xlink:href=\"psysml:9d098c9e-1a7b-415f-a301-c2067e422f2c\" xlink:show=\"new\" xlink:title=\"psysml:9d098c9e-1a7b-415f-a301-c2067e422f2c\" xlink:type=\"simple\"><rect fill=\"#FEFECE\" filter=\"url(#fp1iuaate4oto)\" height=\"45.9375\" id=\"E9\" rx=\"10\" ry=\"10\" style=\"stroke: #A80036; stroke-width: 1.5;\" width=\"178\" x=\"291.32\" y=\"240\"/><text fill=\"#000000\" font-family=\"sans-serif\" font-size=\"12\" font-style=\"italic\" lengthAdjust=\"spacingAndGlyphs\" textLength=\"40\" x=\"360.32\" y=\"256.1387\">«part»</text><text fill=\"#000000\" font-family=\"sans-serif\" font-size=\"12\" lengthAdjust=\"spacingAndGlyphs\" textLength=\"172\" x=\"294.32\" y=\"270.1074\">selectedAlternative: Engine</text><line style=\"stroke: #A80036; stroke-width: 1.5;\" x1=\"292.32\" x2=\"468.32\" y1=\"277.9375\" y2=\"277.9375\"/></a><!--MD5=[05d275557350bfb9b23a4ef7222b4c39]\n",
       "link E3 to E2--><a href=\"psysml:6d15a19a-180f-471d-b762-c393731ed9f0\" target=\"_top\" title=\"psysml:6d15a19a-180f-471d-b762-c393731ed9f0\" xlink:actuate=\"onRequest\" xlink:href=\"psysml:6d15a19a-180f-471d-b762-c393731ed9f0\" xlink:show=\"new\" xlink:title=\"psysml:6d15a19a-180f-471d-b762-c393731ed9f0\" xlink:type=\"simple\"><path d=\"M415.48,362.01 C376.57,379.54 322.27,404.01 282.71,421.84 \" fill=\"none\" id=\"E3-&gt;E2\" style=\"stroke: #A80036; stroke-width: 1.0;\"/><polygon fill=\"#FFFFFF\" points=\"264.34,430.12,278.7866,415.9321,284.5383,428.696,264.34,430.12\" style=\"stroke: #A80036; stroke-width: 1.0;\"/><ellipse cx=\"284.805\" cy=\"415.4137\" fill=\"#A80036\" rx=\"2\" ry=\"2\" style=\"stroke: #A80036; stroke-width: 1.0;\"/><ellipse cx=\"288.9134\" cy=\"424.5308\" fill=\"#A80036\" rx=\"2\" ry=\"2\" style=\"stroke: #A80036; stroke-width: 1.0;\"/></a><!--MD5=[185131fc0dcab0a4505a2ebe144e961b]\n",
       "link E4 to E2--><a href=\"psysml:247dd621-3d2a-4448-8896-ee4a55c37d47\" target=\"_top\" title=\"psysml:247dd621-3d2a-4448-8896-ee4a55c37d47\" xlink:actuate=\"onRequest\" xlink:href=\"psysml:247dd621-3d2a-4448-8896-ee4a55c37d47\" xlink:show=\"new\" xlink:title=\"psysml:247dd621-3d2a-4448-8896-ee4a55c37d47\" xlink:type=\"simple\"><path d=\"M302.45,362.01 C291.25,375.08 276.74,392.01 263.74,407.17 \" fill=\"none\" id=\"E4-&gt;E2\" style=\"stroke: #A80036; stroke-width: 1.0;\"/><polygon fill=\"#FFFFFF\" points=\"250.47,422.66,257.5188,403.678,268.1491,412.7883,250.47,422.66\" style=\"stroke: #A80036; stroke-width: 1.0;\"/><ellipse cx=\"262.7466\" cy=\"400.6515\" fill=\"#A80036\" rx=\"2\" ry=\"2\" style=\"stroke: #A80036; stroke-width: 1.0;\"/><ellipse cx=\"270.3396\" cy=\"407.1588\" fill=\"#A80036\" rx=\"2\" ry=\"2\" style=\"stroke: #A80036; stroke-width: 1.0;\"/></a><!--MD5=[15ebcb19ae302d9b601edb458606d402]\n",
       "link E5 to E2--><a href=\"psysml:21b7132a-f544-4487-a747-91d198ad447d\" target=\"_top\" title=\"psysml:21b7132a-f544-4487-a747-91d198ad447d\" xlink:actuate=\"onRequest\" xlink:href=\"psysml:21b7132a-f544-4487-a747-91d198ad447d\" xlink:show=\"new\" xlink:title=\"psysml:21b7132a-f544-4487-a747-91d198ad447d\" xlink:type=\"simple\"><path d=\"M239.76,73.22 C177.99,83.96 102.74,108.45 61.32,164 C8.68,234.61 6,287.72 53.32,362 C83.95,410.08 150.5,430.76 192.99,439.32 \" fill=\"none\" id=\"E5-&gt;E2\" style=\"stroke: #A80036; stroke-width: 1.0; stroke-dasharray: 7.0,7.0;\"/><polygon fill=\"#A80036\" points=\"198.04,440.31,189.9738,434.6588,193.1327,439.3514,188.4401,442.5104,198.04,440.31\" style=\"stroke: #A80036; stroke-width: 1.0;\"/><text fill=\"#000000\" font-family=\"sans-serif\" font-size=\"13\" lengthAdjust=\"spacingAndGlyphs\" textLength=\"62\" x=\"24.32\" y=\"267.5669\">«subject»</text></a><!--MD5=[9120cf2e5df3bff93db8f754bbbc09b4]\n",
       "link E5 to E6--><a href=\"psysml:44ec4945-cc63-4e9d-b8df-7b9a76da0bc7\" target=\"_top\" title=\"psysml:44ec4945-cc63-4e9d-b8df-7b9a76da0bc7\" xlink:actuate=\"onRequest\" xlink:href=\"psysml:44ec4945-cc63-4e9d-b8df-7b9a76da0bc7\" xlink:show=\"new\" xlink:title=\"psysml:44ec4945-cc63-4e9d-b8df-7b9a76da0bc7\" xlink:type=\"simple\"><path d=\"M314.56,87.19 C292.2,107.23 259.21,136.8 235.15,158.37 \" fill=\"none\" id=\"E5-&gt;E6\" style=\"stroke: #A80036; stroke-width: 1.0;\"/><polygon fill=\"#A80036\" points=\"228.92,163.95,236.8786,160.8419,232.8725,156.3752,228.92,163.95\" style=\"stroke: #A80036; stroke-width: 1.0;\"/><text fill=\"#000000\" font-family=\"sans-serif\" font-size=\"13\" lengthAdjust=\"spacingAndGlyphs\" textLength=\"73\" x=\"280.32\" y=\"130.0669\">«objective»</text></a><!--MD5=[452b418e7f8a40397a49b8c0a78acc5b]\n",
       "reverse link E5 to E7--><a href=\"psysml:7b858bf3-8f8c-4105-a0db-0d0783f29576\" target=\"_top\" title=\"psysml:7b858bf3-8f8c-4105-a0db-0d0783f29576\" xlink:actuate=\"onRequest\" xlink:href=\"psysml:7b858bf3-8f8c-4105-a0db-0d0783f29576\" xlink:show=\"new\" xlink:title=\"psysml:7b858bf3-8f8c-4105-a0db-0d0783f29576\" xlink:type=\"simple\"><path d=\"M362.14,97.88 C376.71,118.86 395.19,145.48 408.01,163.95 \" fill=\"none\" id=\"E5&lt;-E7\" style=\"stroke: #A80036; stroke-width: 1.0;\"/><polygon fill=\"#A80036\" points=\"354.73,87.19,354.864,94.3999,361.5708,97.0492,361.4368,89.8393,354.73,87.19\" style=\"stroke: #A80036; stroke-width: 1.0;\"/></a><!--MD5=[f1f3f9f2fc535e6147756cb86a7f2e32]\n",
       "link E8 to E2--><a href=\"psysml:2565caae-8b6e-420b-a56a-eab601fd4b55\" target=\"_top\" title=\"psysml:2565caae-8b6e-420b-a56a-eab601fd4b55\" xlink:actuate=\"onRequest\" xlink:href=\"psysml:2565caae-8b6e-420b-a56a-eab601fd4b55\" xlink:show=\"new\" xlink:title=\"psysml:2565caae-8b6e-420b-a56a-eab601fd4b55\" xlink:type=\"simple\"><path d=\"M153.86,362.01 C166.19,375.22 182.2,392.38 196.46,407.65 \" fill=\"none\" id=\"E8-&gt;E2\" style=\"stroke: #A80036; stroke-width: 1.0;\"/><polygon fill=\"#FFFFFF\" points=\"210.47,422.66,192.3921,413.5393,202.6305,403.9907,210.47,422.66\" style=\"stroke: #A80036; stroke-width: 1.0;\"/><ellipse cx=\"189.9671\" cy=\"408.0067\" fill=\"#A80036\" rx=\"2\" ry=\"2\" style=\"stroke: #A80036; stroke-width: 1.0;\"/><ellipse cx=\"197.2802\" cy=\"401.1863\" fill=\"#A80036\" rx=\"2\" ry=\"2\" style=\"stroke: #A80036; stroke-width: 1.0;\"/></a><!--MD5=[dc164f5e8a733ab456ef1add180e9e34]\n",
       "reverse link E7 to E8--><a href=\"psysml:b0f7840c-11d7-45e2-a5a4-bf208bef1113\" target=\"_top\" title=\"psysml:b0f7840c-11d7-45e2-a5a4-bf208bef1113\" xlink:actuate=\"onRequest\" xlink:href=\"psysml:b0f7840c-11d7-45e2-a5a4-bf208bef1113\" xlink:show=\"new\" xlink:title=\"psysml:b0f7840c-11d7-45e2-a5a4-bf208bef1113\" xlink:type=\"simple\"><path d=\"M352.67,208.29 C327.33,216.69 298.96,227.44 274.32,240 C231.96,261.6 187.65,294.33 160.26,315.93 \" fill=\"none\" id=\"E7&lt;-E8\" style=\"stroke: #A80036; stroke-width: 1.0;\"/><polygon fill=\"#FFFFFF\" points=\"365.22,204.24,358.2818,202.2749,353.7994,207.9236,360.7376,209.8887,365.22,204.24\" style=\"stroke: #A80036; stroke-width: 1.0;\"/></a><!--MD5=[5c3bb36fe832a92c7f0e1807dd65209d]\n",
       "link E9 to E2--><a href=\"psysml:a6aa3e55-56ca-44c6-92e8-1089eebb019a\" target=\"_top\" title=\"psysml:a6aa3e55-56ca-44c6-92e8-1089eebb019a\" xlink:actuate=\"onRequest\" xlink:href=\"psysml:a6aa3e55-56ca-44c6-92e8-1089eebb019a\" xlink:show=\"new\" xlink:title=\"psysml:a6aa3e55-56ca-44c6-92e8-1089eebb019a\" xlink:type=\"simple\"><path d=\"M291.19,285.15 C275.57,292.56 260.94,302.55 250.32,316 C231.17,340.25 227.04,375.32 227.36,402.77 \" fill=\"none\" id=\"E9-&gt;E2\" style=\"stroke: #A80036; stroke-width: 1.0;\"/><polygon fill=\"#FFFFFF\" points=\"228.36,422.81,220.4186,404.1838,234.4011,403.4837,228.36,422.81\" style=\"stroke: #A80036; stroke-width: 1.0;\"/><ellipse cx=\"222.131\" cy=\"398.3909\" fill=\"#A80036\" rx=\"2\" ry=\"2\" style=\"stroke: #A80036; stroke-width: 1.0;\"/><ellipse cx=\"232.1185\" cy=\"397.8909\" fill=\"#A80036\" rx=\"2\" ry=\"2\" style=\"stroke: #A80036; stroke-width: 1.0;\"/></a><!--MD5=[9ae28de373ca99bb8a1b38d63370ca7e]\n",
       "reverse link E5 to E9--><a href=\"psysml:9d098c9e-1a7b-415f-a301-c2067e422f2c\" target=\"_top\" title=\"psysml:9d098c9e-1a7b-415f-a301-c2067e422f2c\" xlink:actuate=\"onRequest\" xlink:href=\"psysml:9d098c9e-1a7b-415f-a301-c2067e422f2c\" xlink:show=\"new\" xlink:title=\"psysml:9d098c9e-1a7b-415f-a301-c2067e422f2c\" xlink:type=\"simple\"><path d=\"M416.08,92.77 C447.78,108.48 481.27,131.61 499.32,164 C509.27,181.86 510.51,192.89 499.32,210 C490.86,222.92 478.41,232.65 464.71,239.97 \" fill=\"none\" id=\"E5&lt;-E9\" style=\"stroke: #A80036; stroke-width: 1.0;\"/><polygon fill=\"#FFFFFF\" points=\"404.06,87.11,407.7814,93.2867,414.9142,92.2272,411.1928,86.0505,404.06,87.11\" style=\"stroke: #A80036; stroke-width: 1.0;\"/></a><!--MD5=[ee416e5c1c68cc2b4df0c2aab9768fbb]\n",
       "@startuml\r\n",
       "skinparam wrapWidth 300\r\n",
       "hide circle\r\n",
       "\r\n",
       "package \"TradeStudyTest\" as E1  [[psysml:656cfd98-5664-4901-a86b-535977508953 ]]  {\r\n",
       "comp def \"Engine\" as E2  <<(T,blue)part def>> [[psysml:66c87936-3609-4f97-8f24-8ad3882372ee ]] {\r\n",
       "}\r\n",
       "comp usage \"engine1: Engine\" as E3  <<(T,blue)part>> [[psysml:c974a942-078b-4d34-96c1-8ca70902d898 ]] {\r\n",
       "}\r\n",
       "comp usage \"engine2: Engine\" as E4  <<(T,blue)part>> [[psysml:f4d0ec5b-d124-41e4-9ba9-3cb67b695e7c ]] {\r\n",
       "}\r\n",
       "comp usage \"engineTradeStudy: TradeStudy\" as E5 <<analysis>> [[psysml:2fd52497-3b24-4a66-a5d3-d77cdf8b2acf ]] {\r\n",
       "}\r\n",
       "comp usage \"tradeStudyObjective: MaximizeObjective\" as E6  <<(T,blue)requirement>> [[psysml:2c27f52f-f536-4fc6-bf8d-fd6e3fd13c39 ]] {\r\n",
       "}\r\n",
       "comp usage \"objectiveFunction\" as E7  <<(T,blue)calculation>> [[psysml:7b858bf3-8f8c-4105-a0db-0d0783f29576 ]] {\r\n",
       "}\r\n",
       "comp usage \"alternative: Engine\" as E8  <<(T,blue)part>> [[psysml:b0f7840c-11d7-45e2-a5a4-bf208bef1113 ]] {\r\n",
       "}\r\n",
       "comp usage \"selectedAlternative: Engine\" as E9  <<(T,blue)part>> [[psysml:9d098c9e-1a7b-415f-a301-c2067e422f2c ]] {\r\n",
       "}\r\n",
       "E3 - -:|> E2 [[psysml:6d15a19a-180f-471d-b762-c393731ed9f0 ]] \r\n",
       "E4 - -:|> E2 [[psysml:247dd621-3d2a-4448-8896-ee4a55c37d47 ]] \r\n",
       "E5 ..> E2 [[psysml:21b7132a-f544-4487-a747-91d198ad447d ]] : <<subject>>\r\n",
       "E5 - ->> E6 [[psysml:44ec4945-cc63-4e9d-b8df-7b9a76da0bc7 ]] : <<objective>>\r\n",
       "E5 *- - E7 [[psysml:7b858bf3-8f8c-4105-a0db-0d0783f29576 ]] \r\n",
       "E8 - -:|> E2 [[psysml:2565caae-8b6e-420b-a56a-eab601fd4b55 ]] \r\n",
       "E7 o- - E8 [[psysml:b0f7840c-11d7-45e2-a5a4-bf208bef1113 ]] \r\n",
       "E9 - -:|> E2 [[psysml:a6aa3e55-56ca-44c6-92e8-1089eebb019a ]] \r\n",
       "E5 o- - E9 [[psysml:9d098c9e-1a7b-415f-a301-c2067e422f2c ]] \r\n",
       "}\r\n",
       "@enduml\r\n",
       "\n",
       "PlantUML version 1.2020.13(Sat Jun 13 12:26:38 UTC 2020)\n",
       "(EPL source distribution)\n",
       "Java Runtime: OpenJDK Runtime Environment\n",
       "JVM: OpenJDK 64-Bit Server VM\n",
       "Default Encoding: UTF-8\n",
       "Language: en\n",
       "Country: null\n",
       "--></g></svg>"
      ]
     },
     "execution_count": 23,
     "metadata": {},
     "output_type": "execute_result"
    }
   ],
   "source": [
    "%viz --style=\"STDCOLOR\" --view=\"Default\" \"TradeStudyTest\""
   ]
  },
  {
   "cell_type": "code",
   "execution_count": 24,
   "id": "completed-defendant",
   "metadata": {
    "execution": {
     "iopub.execute_input": "2021-03-25T13:19:19.788029Z",
     "iopub.status.busy": "2021-03-25T13:19:19.787369Z",
     "iopub.status.idle": "2021-03-25T13:19:19.973359Z",
     "shell.execute_reply": "2021-03-25T13:19:19.971689Z"
    }
   },
   "outputs": [
    {
     "data": {
      "image/svg+xml": [
       "<?xml version=\"1.0\" encoding=\"UTF-8\" standalone=\"no\"?><svg xmlns=\"http://www.w3.org/2000/svg\" xmlns:xlink=\"http://www.w3.org/1999/xlink\" contentScriptType=\"application/ecmascript\" contentStyleType=\"text/css\" height=\"497px\" preserveAspectRatio=\"none\" style=\"width:556px;height:497px;\" version=\"1.1\" viewBox=\"0 0 556 497\" width=\"556px\" zoomAndPan=\"magnify\"><defs><filter height=\"300%\" id=\"fp1iuaate4oto\" width=\"300%\" x=\"-1\" y=\"-1\"><feGaussianBlur result=\"blurOut\" stdDeviation=\"2.0\"/><feColorMatrix in=\"blurOut\" result=\"blurOut2\" type=\"matrix\" values=\"0 0 0 0 0 0 0 0 0 0 0 0 0 0 0 0 0 0 .4 0\"/><feOffset dx=\"4.0\" dy=\"4.0\" in=\"blurOut2\" result=\"blurOut3\"/><feBlend in=\"SourceGraphic\" in2=\"blurOut3\" mode=\"normal\"/></filter></defs><g><!--MD5=[fbc87193dbaf4d95561dea2c320d4a47]\n",
       "cluster E1--><a href=\"psysml:656cfd98-5664-4901-a86b-535977508953\" target=\"_top\" title=\"psysml:656cfd98-5664-4901-a86b-535977508953\" xlink:actuate=\"onRequest\" xlink:href=\"psysml:656cfd98-5664-4901-a86b-535977508953\" xlink:show=\"new\" xlink:title=\"psysml:656cfd98-5664-4901-a86b-535977508953\" xlink:type=\"simple\"><polygon fill=\"#FFFFFF\" filter=\"url(#fp1iuaate4oto)\" points=\"18.32,6,150.32,6,157.32,28.2969,534.32,28.2969,534.32,485,18.32,485,18.32,6\" style=\"stroke: #000000; stroke-width: 1.5;\"/><line style=\"stroke: #000000; stroke-width: 1.5;\" x1=\"18.32\" x2=\"157.32\" y1=\"28.2969\" y2=\"28.2969\"/><text fill=\"#000000\" font-family=\"sans-serif\" font-size=\"14\" font-weight=\"bold\" lengthAdjust=\"spacingAndGlyphs\" textLength=\"126\" x=\"22.32\" y=\"20.9951\">TradeStudyTest</text></a><!--MD5=[b4997ac47864f28c2f74865a473b2911]\n",
       "class E2--><a href=\"psysml:66c87936-3609-4f97-8f24-8ad3882372ee\" target=\"_top\" title=\"psysml:66c87936-3609-4f97-8f24-8ad3882372ee\" xlink:actuate=\"onRequest\" xlink:href=\"psysml:66c87936-3609-4f97-8f24-8ad3882372ee\" xlink:show=\"new\" xlink:title=\"psysml:66c87936-3609-4f97-8f24-8ad3882372ee\" xlink:type=\"simple\"><rect fill=\"#FEFECE\" filter=\"url(#fp1iuaate4oto)\" height=\"45.9375\" id=\"E2\" style=\"stroke: #A80036; stroke-width: 1.5;\" width=\"66\" x=\"198.32\" y=\"423\"/><text fill=\"#000000\" font-family=\"sans-serif\" font-size=\"12\" font-style=\"italic\" lengthAdjust=\"spacingAndGlyphs\" textLength=\"64\" x=\"199.32\" y=\"439.1387\">«part def»</text><text fill=\"#000000\" font-family=\"sans-serif\" font-size=\"12\" lengthAdjust=\"spacingAndGlyphs\" textLength=\"43\" x=\"209.82\" y=\"453.1074\">Engine</text><line style=\"stroke: #A80036; stroke-width: 1.5;\" x1=\"199.32\" x2=\"263.32\" y1=\"460.9375\" y2=\"460.9375\"/></a><!--MD5=[09b614a08d8cba4a07c9adeb5e0fee81]\n",
       "class E3--><a href=\"psysml:c974a942-078b-4d34-96c1-8ca70902d898\" target=\"_top\" title=\"psysml:c974a942-078b-4d34-96c1-8ca70902d898\" xlink:actuate=\"onRequest\" xlink:href=\"psysml:c974a942-078b-4d34-96c1-8ca70902d898\" xlink:show=\"new\" xlink:title=\"psysml:c974a942-078b-4d34-96c1-8ca70902d898\" xlink:type=\"simple\"><rect fill=\"#FEFECE\" filter=\"url(#fp1iuaate4oto)\" height=\"45.9375\" id=\"E3\" rx=\"10\" ry=\"10\" style=\"stroke: #A80036; stroke-width: 1.5;\" width=\"108\" x=\"410.32\" y=\"316\"/><text fill=\"#000000\" font-family=\"sans-serif\" font-size=\"12\" font-style=\"italic\" lengthAdjust=\"spacingAndGlyphs\" textLength=\"40\" x=\"444.32\" y=\"332.1387\">«part»</text><text fill=\"#000000\" font-family=\"sans-serif\" font-size=\"12\" lengthAdjust=\"spacingAndGlyphs\" textLength=\"102\" x=\"413.32\" y=\"346.1074\">engine1: Engine</text><line style=\"stroke: #A80036; stroke-width: 1.5;\" x1=\"411.32\" x2=\"517.32\" y1=\"353.9375\" y2=\"353.9375\"/></a><!--MD5=[ebbe1d658d1005bcc118a6aa81145e00]\n",
       "class E4--><a href=\"psysml:f4d0ec5b-d124-41e4-9ba9-3cb67b695e7c\" target=\"_top\" title=\"psysml:f4d0ec5b-d124-41e4-9ba9-3cb67b695e7c\" xlink:actuate=\"onRequest\" xlink:href=\"psysml:f4d0ec5b-d124-41e4-9ba9-3cb67b695e7c\" xlink:show=\"new\" xlink:title=\"psysml:f4d0ec5b-d124-41e4-9ba9-3cb67b695e7c\" xlink:type=\"simple\"><rect fill=\"#FEFECE\" filter=\"url(#fp1iuaate4oto)\" height=\"45.9375\" id=\"E4\" rx=\"10\" ry=\"10\" style=\"stroke: #A80036; stroke-width: 1.5;\" width=\"108\" x=\"267.32\" y=\"316\"/><text fill=\"#000000\" font-family=\"sans-serif\" font-size=\"12\" font-style=\"italic\" lengthAdjust=\"spacingAndGlyphs\" textLength=\"40\" x=\"301.32\" y=\"332.1387\">«part»</text><text fill=\"#000000\" font-family=\"sans-serif\" font-size=\"12\" lengthAdjust=\"spacingAndGlyphs\" textLength=\"102\" x=\"270.32\" y=\"346.1074\">engine2: Engine</text><line style=\"stroke: #A80036; stroke-width: 1.5;\" x1=\"268.32\" x2=\"374.32\" y1=\"353.9375\" y2=\"353.9375\"/></a><!--MD5=[270fce915f116d4de14055a7c1d9a0f3]\n",
       "class E5--><a href=\"psysml:2fd52497-3b24-4a66-a5d3-d77cdf8b2acf\" target=\"_top\" title=\"psysml:2fd52497-3b24-4a66-a5d3-d77cdf8b2acf\" xlink:actuate=\"onRequest\" xlink:href=\"psysml:2fd52497-3b24-4a66-a5d3-d77cdf8b2acf\" xlink:show=\"new\" xlink:title=\"psysml:2fd52497-3b24-4a66-a5d3-d77cdf8b2acf\" xlink:type=\"simple\"><rect fill=\"#FEFECE\" filter=\"url(#fp1iuaate4oto)\" height=\"45.9375\" id=\"E5\" rx=\"10\" ry=\"10\" style=\"stroke: #A80036; stroke-width: 1.5;\" width=\"199\" x=\"239.82\" y=\"41\"/><text fill=\"#000000\" font-family=\"sans-serif\" font-size=\"12\" font-style=\"italic\" lengthAdjust=\"spacingAndGlyphs\" textLength=\"64\" x=\"307.32\" y=\"57.1387\">«analysis»</text><text fill=\"#000000\" font-family=\"sans-serif\" font-size=\"12\" lengthAdjust=\"spacingAndGlyphs\" textLength=\"193\" x=\"242.82\" y=\"71.1074\">engineTradeStudy: TradeStudy</text><line style=\"stroke: #A80036; stroke-width: 1.5;\" x1=\"240.82\" x2=\"437.82\" y1=\"78.9375\" y2=\"78.9375\"/></a><!--MD5=[60a26617385b1d2d0262a64233df1f8d]\n",
       "class E6--><a href=\"psysml:2c27f52f-f536-4fc6-bf8d-fd6e3fd13c39\" target=\"_top\" title=\"psysml:2c27f52f-f536-4fc6-bf8d-fd6e3fd13c39\" xlink:actuate=\"onRequest\" xlink:href=\"psysml:2c27f52f-f536-4fc6-bf8d-fd6e3fd13c39\" xlink:show=\"new\" xlink:title=\"psysml:2c27f52f-f536-4fc6-bf8d-fd6e3fd13c39\" xlink:type=\"simple\"><rect fill=\"#FEFECE\" filter=\"url(#fp1iuaate4oto)\" height=\"45.9375\" id=\"E6\" rx=\"10\" ry=\"10\" style=\"stroke: #A80036; stroke-width: 1.5;\" width=\"251\" x=\"78.82\" y=\"164\"/><text fill=\"#000000\" font-family=\"sans-serif\" font-size=\"12\" font-style=\"italic\" lengthAdjust=\"spacingAndGlyphs\" textLength=\"91\" x=\"158.82\" y=\"180.1387\">«requirement»</text><text fill=\"#000000\" font-family=\"sans-serif\" font-size=\"12\" lengthAdjust=\"spacingAndGlyphs\" textLength=\"245\" x=\"81.82\" y=\"194.1074\">tradeStudyObjective: MaximizeObjective</text><line style=\"stroke: #A80036; stroke-width: 1.5;\" x1=\"79.82\" x2=\"328.82\" y1=\"201.9375\" y2=\"201.9375\"/></a><!--MD5=[2156ba9850f5573cc1fc38a6a4b2f02b]\n",
       "class E7--><a href=\"psysml:7b858bf3-8f8c-4105-a0db-0d0783f29576\" target=\"_top\" title=\"psysml:7b858bf3-8f8c-4105-a0db-0d0783f29576\" xlink:actuate=\"onRequest\" xlink:href=\"psysml:7b858bf3-8f8c-4105-a0db-0d0783f29576\" xlink:show=\"new\" xlink:title=\"psysml:7b858bf3-8f8c-4105-a0db-0d0783f29576\" xlink:type=\"simple\"><rect fill=\"#FEFECE\" filter=\"url(#fp1iuaate4oto)\" height=\"45.9375\" id=\"E7\" rx=\"10\" ry=\"10\" style=\"stroke: #A80036; stroke-width: 1.5;\" width=\"116\" x=\"365.32\" y=\"164\"/><text fill=\"#000000\" font-family=\"sans-serif\" font-size=\"12\" font-style=\"italic\" lengthAdjust=\"spacingAndGlyphs\" textLength=\"82\" x=\"382.32\" y=\"180.1387\">«calculation»</text><text fill=\"#000000\" font-family=\"sans-serif\" font-size=\"12\" lengthAdjust=\"spacingAndGlyphs\" textLength=\"110\" x=\"368.32\" y=\"194.1074\">objectiveFunction</text><line style=\"stroke: #A80036; stroke-width: 1.5;\" x1=\"366.32\" x2=\"480.32\" y1=\"201.9375\" y2=\"201.9375\"/></a><!--MD5=[b9389687b975829384b498ac4b7476b2]\n",
       "class E8--><a href=\"psysml:b0f7840c-11d7-45e2-a5a4-bf208bef1113\" target=\"_top\" title=\"psysml:b0f7840c-11d7-45e2-a5a4-bf208bef1113\" xlink:actuate=\"onRequest\" xlink:href=\"psysml:b0f7840c-11d7-45e2-a5a4-bf208bef1113\" xlink:show=\"new\" xlink:title=\"psysml:b0f7840c-11d7-45e2-a5a4-bf208bef1113\" xlink:type=\"simple\"><rect fill=\"#FEFECE\" filter=\"url(#fp1iuaate4oto)\" height=\"45.9375\" id=\"E8\" rx=\"10\" ry=\"10\" style=\"stroke: #A80036; stroke-width: 1.5;\" width=\"124\" x=\"71.32\" y=\"316\"/><text fill=\"#000000\" font-family=\"sans-serif\" font-size=\"12\" font-style=\"italic\" lengthAdjust=\"spacingAndGlyphs\" textLength=\"40\" x=\"113.32\" y=\"332.1387\">«part»</text><text fill=\"#000000\" font-family=\"sans-serif\" font-size=\"12\" lengthAdjust=\"spacingAndGlyphs\" textLength=\"118\" x=\"74.32\" y=\"346.1074\">alternative: Engine</text><line style=\"stroke: #A80036; stroke-width: 1.5;\" x1=\"72.32\" x2=\"194.32\" y1=\"353.9375\" y2=\"353.9375\"/></a><!--MD5=[fd4143e9d270a159db93a4ea2a975926]\n",
       "class E9--><a href=\"psysml:9d098c9e-1a7b-415f-a301-c2067e422f2c\" target=\"_top\" title=\"psysml:9d098c9e-1a7b-415f-a301-c2067e422f2c\" xlink:actuate=\"onRequest\" xlink:href=\"psysml:9d098c9e-1a7b-415f-a301-c2067e422f2c\" xlink:show=\"new\" xlink:title=\"psysml:9d098c9e-1a7b-415f-a301-c2067e422f2c\" xlink:type=\"simple\"><rect fill=\"#FEFECE\" filter=\"url(#fp1iuaate4oto)\" height=\"45.9375\" id=\"E9\" rx=\"10\" ry=\"10\" style=\"stroke: #A80036; stroke-width: 1.5;\" width=\"178\" x=\"291.32\" y=\"240\"/><text fill=\"#000000\" font-family=\"sans-serif\" font-size=\"12\" font-style=\"italic\" lengthAdjust=\"spacingAndGlyphs\" textLength=\"40\" x=\"360.32\" y=\"256.1387\">«part»</text><text fill=\"#000000\" font-family=\"sans-serif\" font-size=\"12\" lengthAdjust=\"spacingAndGlyphs\" textLength=\"172\" x=\"294.32\" y=\"270.1074\">selectedAlternative: Engine</text><line style=\"stroke: #A80036; stroke-width: 1.5;\" x1=\"292.32\" x2=\"468.32\" y1=\"277.9375\" y2=\"277.9375\"/></a><!--MD5=[05d275557350bfb9b23a4ef7222b4c39]\n",
       "link E3 to E2--><a href=\"psysml:6d15a19a-180f-471d-b762-c393731ed9f0\" target=\"_top\" title=\"psysml:6d15a19a-180f-471d-b762-c393731ed9f0\" xlink:actuate=\"onRequest\" xlink:href=\"psysml:6d15a19a-180f-471d-b762-c393731ed9f0\" xlink:show=\"new\" xlink:title=\"psysml:6d15a19a-180f-471d-b762-c393731ed9f0\" xlink:type=\"simple\"><path d=\"M415.48,362.01 C376.57,379.54 322.27,404.01 282.71,421.84 \" fill=\"none\" id=\"E3-&gt;E2\" style=\"stroke: #A80036; stroke-width: 1.0;\"/><polygon fill=\"#FFFFFF\" points=\"264.34,430.12,278.7866,415.9321,284.5383,428.696,264.34,430.12\" style=\"stroke: #A80036; stroke-width: 1.0;\"/><ellipse cx=\"284.805\" cy=\"415.4137\" fill=\"#A80036\" rx=\"2\" ry=\"2\" style=\"stroke: #A80036; stroke-width: 1.0;\"/><ellipse cx=\"288.9134\" cy=\"424.5308\" fill=\"#A80036\" rx=\"2\" ry=\"2\" style=\"stroke: #A80036; stroke-width: 1.0;\"/></a><!--MD5=[185131fc0dcab0a4505a2ebe144e961b]\n",
       "link E4 to E2--><a href=\"psysml:247dd621-3d2a-4448-8896-ee4a55c37d47\" target=\"_top\" title=\"psysml:247dd621-3d2a-4448-8896-ee4a55c37d47\" xlink:actuate=\"onRequest\" xlink:href=\"psysml:247dd621-3d2a-4448-8896-ee4a55c37d47\" xlink:show=\"new\" xlink:title=\"psysml:247dd621-3d2a-4448-8896-ee4a55c37d47\" xlink:type=\"simple\"><path d=\"M302.45,362.01 C291.25,375.08 276.74,392.01 263.74,407.17 \" fill=\"none\" id=\"E4-&gt;E2\" style=\"stroke: #A80036; stroke-width: 1.0;\"/><polygon fill=\"#FFFFFF\" points=\"250.47,422.66,257.5188,403.678,268.1491,412.7883,250.47,422.66\" style=\"stroke: #A80036; stroke-width: 1.0;\"/><ellipse cx=\"262.7466\" cy=\"400.6515\" fill=\"#A80036\" rx=\"2\" ry=\"2\" style=\"stroke: #A80036; stroke-width: 1.0;\"/><ellipse cx=\"270.3396\" cy=\"407.1588\" fill=\"#A80036\" rx=\"2\" ry=\"2\" style=\"stroke: #A80036; stroke-width: 1.0;\"/></a><!--MD5=[15ebcb19ae302d9b601edb458606d402]\n",
       "link E5 to E2--><a href=\"psysml:21b7132a-f544-4487-a747-91d198ad447d\" target=\"_top\" title=\"psysml:21b7132a-f544-4487-a747-91d198ad447d\" xlink:actuate=\"onRequest\" xlink:href=\"psysml:21b7132a-f544-4487-a747-91d198ad447d\" xlink:show=\"new\" xlink:title=\"psysml:21b7132a-f544-4487-a747-91d198ad447d\" xlink:type=\"simple\"><path d=\"M239.76,73.22 C177.99,83.96 102.74,108.45 61.32,164 C8.68,234.61 6,287.72 53.32,362 C83.95,410.08 150.5,430.76 192.99,439.32 \" fill=\"none\" id=\"E5-&gt;E2\" style=\"stroke: #A80036; stroke-width: 1.0; stroke-dasharray: 7.0,7.0;\"/><polygon fill=\"#A80036\" points=\"198.04,440.31,189.9738,434.6588,193.1327,439.3514,188.4401,442.5104,198.04,440.31\" style=\"stroke: #A80036; stroke-width: 1.0;\"/><text fill=\"#000000\" font-family=\"sans-serif\" font-size=\"13\" lengthAdjust=\"spacingAndGlyphs\" textLength=\"62\" x=\"24.32\" y=\"267.5669\">«subject»</text></a><!--MD5=[9120cf2e5df3bff93db8f754bbbc09b4]\n",
       "link E5 to E6--><a href=\"psysml:44ec4945-cc63-4e9d-b8df-7b9a76da0bc7\" target=\"_top\" title=\"psysml:44ec4945-cc63-4e9d-b8df-7b9a76da0bc7\" xlink:actuate=\"onRequest\" xlink:href=\"psysml:44ec4945-cc63-4e9d-b8df-7b9a76da0bc7\" xlink:show=\"new\" xlink:title=\"psysml:44ec4945-cc63-4e9d-b8df-7b9a76da0bc7\" xlink:type=\"simple\"><path d=\"M314.56,87.19 C292.2,107.23 259.21,136.8 235.15,158.37 \" fill=\"none\" id=\"E5-&gt;E6\" style=\"stroke: #A80036; stroke-width: 1.0;\"/><polygon fill=\"#A80036\" points=\"228.92,163.95,236.8786,160.8419,232.8725,156.3752,228.92,163.95\" style=\"stroke: #A80036; stroke-width: 1.0;\"/><text fill=\"#000000\" font-family=\"sans-serif\" font-size=\"13\" lengthAdjust=\"spacingAndGlyphs\" textLength=\"73\" x=\"280.32\" y=\"130.0669\">«objective»</text></a><!--MD5=[452b418e7f8a40397a49b8c0a78acc5b]\n",
       "reverse link E5 to E7--><a href=\"psysml:7b858bf3-8f8c-4105-a0db-0d0783f29576\" target=\"_top\" title=\"psysml:7b858bf3-8f8c-4105-a0db-0d0783f29576\" xlink:actuate=\"onRequest\" xlink:href=\"psysml:7b858bf3-8f8c-4105-a0db-0d0783f29576\" xlink:show=\"new\" xlink:title=\"psysml:7b858bf3-8f8c-4105-a0db-0d0783f29576\" xlink:type=\"simple\"><path d=\"M362.14,97.88 C376.71,118.86 395.19,145.48 408.01,163.95 \" fill=\"none\" id=\"E5&lt;-E7\" style=\"stroke: #A80036; stroke-width: 1.0;\"/><polygon fill=\"#A80036\" points=\"354.73,87.19,354.864,94.3999,361.5708,97.0492,361.4368,89.8393,354.73,87.19\" style=\"stroke: #A80036; stroke-width: 1.0;\"/></a><!--MD5=[f1f3f9f2fc535e6147756cb86a7f2e32]\n",
       "link E8 to E2--><a href=\"psysml:2565caae-8b6e-420b-a56a-eab601fd4b55\" target=\"_top\" title=\"psysml:2565caae-8b6e-420b-a56a-eab601fd4b55\" xlink:actuate=\"onRequest\" xlink:href=\"psysml:2565caae-8b6e-420b-a56a-eab601fd4b55\" xlink:show=\"new\" xlink:title=\"psysml:2565caae-8b6e-420b-a56a-eab601fd4b55\" xlink:type=\"simple\"><path d=\"M153.86,362.01 C166.19,375.22 182.2,392.38 196.46,407.65 \" fill=\"none\" id=\"E8-&gt;E2\" style=\"stroke: #A80036; stroke-width: 1.0;\"/><polygon fill=\"#FFFFFF\" points=\"210.47,422.66,192.3921,413.5393,202.6305,403.9907,210.47,422.66\" style=\"stroke: #A80036; stroke-width: 1.0;\"/><ellipse cx=\"189.9671\" cy=\"408.0067\" fill=\"#A80036\" rx=\"2\" ry=\"2\" style=\"stroke: #A80036; stroke-width: 1.0;\"/><ellipse cx=\"197.2802\" cy=\"401.1863\" fill=\"#A80036\" rx=\"2\" ry=\"2\" style=\"stroke: #A80036; stroke-width: 1.0;\"/></a><!--MD5=[dc164f5e8a733ab456ef1add180e9e34]\n",
       "reverse link E7 to E8--><a href=\"psysml:b0f7840c-11d7-45e2-a5a4-bf208bef1113\" target=\"_top\" title=\"psysml:b0f7840c-11d7-45e2-a5a4-bf208bef1113\" xlink:actuate=\"onRequest\" xlink:href=\"psysml:b0f7840c-11d7-45e2-a5a4-bf208bef1113\" xlink:show=\"new\" xlink:title=\"psysml:b0f7840c-11d7-45e2-a5a4-bf208bef1113\" xlink:type=\"simple\"><path d=\"M352.67,208.29 C327.33,216.69 298.96,227.44 274.32,240 C231.96,261.6 187.65,294.33 160.26,315.93 \" fill=\"none\" id=\"E7&lt;-E8\" style=\"stroke: #A80036; stroke-width: 1.0;\"/><polygon fill=\"#FFFFFF\" points=\"365.22,204.24,358.2818,202.2749,353.7994,207.9236,360.7376,209.8887,365.22,204.24\" style=\"stroke: #A80036; stroke-width: 1.0;\"/></a><!--MD5=[5c3bb36fe832a92c7f0e1807dd65209d]\n",
       "link E9 to E2--><a href=\"psysml:a6aa3e55-56ca-44c6-92e8-1089eebb019a\" target=\"_top\" title=\"psysml:a6aa3e55-56ca-44c6-92e8-1089eebb019a\" xlink:actuate=\"onRequest\" xlink:href=\"psysml:a6aa3e55-56ca-44c6-92e8-1089eebb019a\" xlink:show=\"new\" xlink:title=\"psysml:a6aa3e55-56ca-44c6-92e8-1089eebb019a\" xlink:type=\"simple\"><path d=\"M291.19,285.15 C275.57,292.56 260.94,302.55 250.32,316 C231.17,340.25 227.04,375.32 227.36,402.77 \" fill=\"none\" id=\"E9-&gt;E2\" style=\"stroke: #A80036; stroke-width: 1.0;\"/><polygon fill=\"#FFFFFF\" points=\"228.36,422.81,220.4186,404.1838,234.4011,403.4837,228.36,422.81\" style=\"stroke: #A80036; stroke-width: 1.0;\"/><ellipse cx=\"222.131\" cy=\"398.3909\" fill=\"#A80036\" rx=\"2\" ry=\"2\" style=\"stroke: #A80036; stroke-width: 1.0;\"/><ellipse cx=\"232.1185\" cy=\"397.8909\" fill=\"#A80036\" rx=\"2\" ry=\"2\" style=\"stroke: #A80036; stroke-width: 1.0;\"/></a><!--MD5=[9ae28de373ca99bb8a1b38d63370ca7e]\n",
       "reverse link E5 to E9--><a href=\"psysml:9d098c9e-1a7b-415f-a301-c2067e422f2c\" target=\"_top\" title=\"psysml:9d098c9e-1a7b-415f-a301-c2067e422f2c\" xlink:actuate=\"onRequest\" xlink:href=\"psysml:9d098c9e-1a7b-415f-a301-c2067e422f2c\" xlink:show=\"new\" xlink:title=\"psysml:9d098c9e-1a7b-415f-a301-c2067e422f2c\" xlink:type=\"simple\"><path d=\"M416.08,92.77 C447.78,108.48 481.27,131.61 499.32,164 C509.27,181.86 510.51,192.89 499.32,210 C490.86,222.92 478.41,232.65 464.71,239.97 \" fill=\"none\" id=\"E5&lt;-E9\" style=\"stroke: #A80036; stroke-width: 1.0;\"/><polygon fill=\"#FFFFFF\" points=\"404.06,87.11,407.7814,93.2867,414.9142,92.2272,411.1928,86.0505,404.06,87.11\" style=\"stroke: #A80036; stroke-width: 1.0;\"/></a><!--MD5=[ee416e5c1c68cc2b4df0c2aab9768fbb]\n",
       "@startuml\r\n",
       "skinparam wrapWidth 300\r\n",
       "hide circle\r\n",
       "\r\n",
       "package \"TradeStudyTest\" as E1  [[psysml:656cfd98-5664-4901-a86b-535977508953 ]]  {\r\n",
       "comp def \"Engine\" as E2  <<(T,blue)part def>> [[psysml:66c87936-3609-4f97-8f24-8ad3882372ee ]] {\r\n",
       "}\r\n",
       "comp usage \"engine1: Engine\" as E3  <<(T,blue)part>> [[psysml:c974a942-078b-4d34-96c1-8ca70902d898 ]] {\r\n",
       "}\r\n",
       "comp usage \"engine2: Engine\" as E4  <<(T,blue)part>> [[psysml:f4d0ec5b-d124-41e4-9ba9-3cb67b695e7c ]] {\r\n",
       "}\r\n",
       "comp usage \"engineTradeStudy: TradeStudy\" as E5 <<analysis>> [[psysml:2fd52497-3b24-4a66-a5d3-d77cdf8b2acf ]] {\r\n",
       "}\r\n",
       "comp usage \"tradeStudyObjective: MaximizeObjective\" as E6  <<(T,blue)requirement>> [[psysml:2c27f52f-f536-4fc6-bf8d-fd6e3fd13c39 ]] {\r\n",
       "}\r\n",
       "comp usage \"objectiveFunction\" as E7  <<(T,blue)calculation>> [[psysml:7b858bf3-8f8c-4105-a0db-0d0783f29576 ]] {\r\n",
       "}\r\n",
       "comp usage \"alternative: Engine\" as E8  <<(T,blue)part>> [[psysml:b0f7840c-11d7-45e2-a5a4-bf208bef1113 ]] {\r\n",
       "}\r\n",
       "comp usage \"selectedAlternative: Engine\" as E9  <<(T,blue)part>> [[psysml:9d098c9e-1a7b-415f-a301-c2067e422f2c ]] {\r\n",
       "}\r\n",
       "E3 - -:|> E2 [[psysml:6d15a19a-180f-471d-b762-c393731ed9f0 ]] \r\n",
       "E4 - -:|> E2 [[psysml:247dd621-3d2a-4448-8896-ee4a55c37d47 ]] \r\n",
       "E5 ..> E2 [[psysml:21b7132a-f544-4487-a747-91d198ad447d ]] : <<subject>>\r\n",
       "E5 - ->> E6 [[psysml:44ec4945-cc63-4e9d-b8df-7b9a76da0bc7 ]] : <<objective>>\r\n",
       "E5 *- - E7 [[psysml:7b858bf3-8f8c-4105-a0db-0d0783f29576 ]] \r\n",
       "E8 - -:|> E2 [[psysml:2565caae-8b6e-420b-a56a-eab601fd4b55 ]] \r\n",
       "E7 o- - E8 [[psysml:b0f7840c-11d7-45e2-a5a4-bf208bef1113 ]] \r\n",
       "E9 - -:|> E2 [[psysml:a6aa3e55-56ca-44c6-92e8-1089eebb019a ]] \r\n",
       "E5 o- - E9 [[psysml:9d098c9e-1a7b-415f-a301-c2067e422f2c ]] \r\n",
       "}\r\n",
       "@enduml\r\n",
       "\n",
       "PlantUML version 1.2020.13(Sat Jun 13 12:26:38 UTC 2020)\n",
       "(EPL source distribution)\n",
       "Java Runtime: OpenJDK Runtime Environment\n",
       "JVM: OpenJDK 64-Bit Server VM\n",
       "Default Encoding: UTF-8\n",
       "Language: en\n",
       "Country: null\n",
       "--></g></svg>"
      ]
     },
     "execution_count": 24,
     "metadata": {},
     "output_type": "execute_result"
    }
   ],
   "source": [
    "%viz --style=\"STDCOLOR\" --view=\"Tree\" \"TradeStudyTest\""
   ]
  },
  {
   "cell_type": "code",
   "execution_count": 25,
   "id": "black-growth",
   "metadata": {
    "execution": {
     "iopub.execute_input": "2021-03-25T13:19:20.023479Z",
     "iopub.status.busy": "2021-03-25T13:19:20.022912Z",
     "iopub.status.idle": "2021-03-25T13:19:20.029826Z",
     "shell.execute_reply": "2021-03-25T13:19:20.029455Z"
    }
   },
   "outputs": [
    {
     "data": {
      "image/svg+xml": [
       "<?xml version=\"1.0\" encoding=\"UTF-8\" standalone=\"no\"?><svg xmlns=\"http://www.w3.org/2000/svg\" xmlns:xlink=\"http://www.w3.org/1999/xlink\" contentScriptType=\"application/ecmascript\" contentStyleType=\"text/css\" height=\"12px\" preserveAspectRatio=\"none\" style=\"width:12px;height:12px;\" version=\"1.1\" viewBox=\"0 0 12 12\" width=\"12px\" zoomAndPan=\"magnify\"><defs/><g><!--MD5=[aeeef50f102b80d730deb6443d14f702]\n",
       "@startuml\r\n",
       "skinparam wrapWidth 300\r\n",
       "hide circle\r\n",
       "\r\n",
       "@enduml\r\n",
       "\n",
       "PlantUML version 1.2020.13(Sat Jun 13 12:26:38 UTC 2020)\n",
       "(EPL source distribution)\n",
       "Java Runtime: OpenJDK Runtime Environment\n",
       "JVM: OpenJDK 64-Bit Server VM\n",
       "Default Encoding: UTF-8\n",
       "Language: en\n",
       "Country: null\n",
       "--></g></svg>"
      ]
     },
     "execution_count": 25,
     "metadata": {},
     "output_type": "execute_result"
    }
   ],
   "source": [
    "%viz --style=\"STDCOLOR\" --view=\"State\" \"TradeStudyTest\""
   ]
  },
  {
   "cell_type": "code",
   "execution_count": 26,
   "id": "improving-ecology",
   "metadata": {
    "execution": {
     "iopub.execute_input": "2021-03-25T13:19:20.080945Z",
     "iopub.status.busy": "2021-03-25T13:19:20.080400Z",
     "iopub.status.idle": "2021-03-25T13:19:20.137479Z",
     "shell.execute_reply": "2021-03-25T13:19:20.136970Z"
    }
   },
   "outputs": [
    {
     "data": {
      "image/svg+xml": [
       "<?xml version=\"1.0\" encoding=\"UTF-8\" standalone=\"no\"?><svg xmlns=\"http://www.w3.org/2000/svg\" xmlns:xlink=\"http://www.w3.org/1999/xlink\" contentScriptType=\"application/ecmascript\" contentStyleType=\"text/css\" height=\"112px\" preserveAspectRatio=\"none\" style=\"width:438px;height:112px;\" version=\"1.1\" viewBox=\"0 0 438 112\" width=\"438px\" zoomAndPan=\"magnify\"><defs><filter height=\"300%\" id=\"fx3wmx4y06q55\" width=\"300%\" x=\"-1\" y=\"-1\"><feGaussianBlur result=\"blurOut\" stdDeviation=\"2.0\"/><feColorMatrix in=\"blurOut\" result=\"blurOut2\" type=\"matrix\" values=\"0 0 0 0 0 0 0 0 0 0 0 0 0 0 0 0 0 0 .4 0\"/><feOffset dx=\"4.0\" dy=\"4.0\" in=\"blurOut2\" result=\"blurOut3\"/><feBlend in=\"SourceGraphic\" in2=\"blurOut3\" mode=\"normal\"/></filter></defs><g><!--MD5=[fbc87193dbaf4d95561dea2c320d4a47]\n",
       "cluster E1--><a href=\"psysml:656cfd98-5664-4901-a86b-535977508953\" target=\"_top\" title=\"psysml:656cfd98-5664-4901-a86b-535977508953\" xlink:actuate=\"onRequest\" xlink:href=\"psysml:656cfd98-5664-4901-a86b-535977508953\" xlink:show=\"new\" xlink:title=\"psysml:656cfd98-5664-4901-a86b-535977508953\" xlink:type=\"simple\"><polygon fill=\"#FFFFFF\" filter=\"url(#fx3wmx4y06q55)\" points=\"16,6,148,6,155,28.2969,416,28.2969,416,100,16,100,16,6\" style=\"stroke: #000000; stroke-width: 1.5;\"/><line style=\"stroke: #000000; stroke-width: 1.5;\" x1=\"16\" x2=\"155\" y1=\"28.2969\" y2=\"28.2969\"/><text fill=\"#000000\" font-family=\"sans-serif\" font-size=\"14\" font-weight=\"bold\" lengthAdjust=\"spacingAndGlyphs\" textLength=\"126\" x=\"20\" y=\"20.9951\">TradeStudyTest</text></a><g id=\"E1.E2\"><a href=\"psysml:66c87936-3609-4f97-8f24-8ad3882372ee\" target=\"_top\" title=\"psysml:66c87936-3609-4f97-8f24-8ad3882372ee\" xlink:actuate=\"onRequest\" xlink:href=\"psysml:66c87936-3609-4f97-8f24-8ad3882372ee\" xlink:show=\"new\" xlink:title=\"psysml:66c87936-3609-4f97-8f24-8ad3882372ee\" xlink:type=\"simple\"><rect fill=\"#FEFECE\" filter=\"url(#fx3wmx4y06q55)\" height=\"42.9375\" id=\"E2\" style=\"stroke: #A80036; stroke-width: 1.5;\" width=\"71\" x=\"328.5\" y=\"41\"/><text fill=\"#000000\" font-family=\"sans-serif\" font-size=\"12\" font-style=\"italic\" lengthAdjust=\"spacingAndGlyphs\" textLength=\"64\" x=\"332\" y=\"57.1387\">«part def»</text><text fill=\"#000000\" font-family=\"sans-serif\" font-size=\"12\" lengthAdjust=\"spacingAndGlyphs\" textLength=\"43\" x=\"342.5\" y=\"71.1074\">Engine</text></a></g><g id=\"E1.E3\"><a href=\"psysml:c974a942-078b-4d34-96c1-8ca70902d898\" target=\"_top\" title=\"psysml:c974a942-078b-4d34-96c1-8ca70902d898\" xlink:actuate=\"onRequest\" xlink:href=\"psysml:c974a942-078b-4d34-96c1-8ca70902d898\" xlink:show=\"new\" xlink:title=\"psysml:c974a942-078b-4d34-96c1-8ca70902d898\" xlink:type=\"simple\"><rect fill=\"#FEFECE\" filter=\"url(#fx3wmx4y06q55)\" height=\"40\" id=\"E3\" rx=\"10\" ry=\"10\" style=\"stroke: #A80036; stroke-width: 1.5;\" width=\"113\" x=\"180.5\" y=\"42.5\"/><text fill=\"#000000\" font-family=\"sans-serif\" font-size=\"12\" lengthAdjust=\"spacingAndGlyphs\" textLength=\"102\" x=\"186\" y=\"58.6387\">engine1: Engine</text></a></g><g id=\"E1.E4\"><a href=\"psysml:f4d0ec5b-d124-41e4-9ba9-3cb67b695e7c\" target=\"_top\" title=\"psysml:f4d0ec5b-d124-41e4-9ba9-3cb67b695e7c\" xlink:actuate=\"onRequest\" xlink:href=\"psysml:f4d0ec5b-d124-41e4-9ba9-3cb67b695e7c\" xlink:show=\"new\" xlink:title=\"psysml:f4d0ec5b-d124-41e4-9ba9-3cb67b695e7c\" xlink:type=\"simple\"><rect fill=\"#FEFECE\" filter=\"url(#fx3wmx4y06q55)\" height=\"40\" id=\"E4\" rx=\"10\" ry=\"10\" style=\"stroke: #A80036; stroke-width: 1.5;\" width=\"113\" x=\"32.5\" y=\"42.5\"/><text fill=\"#000000\" font-family=\"sans-serif\" font-size=\"12\" lengthAdjust=\"spacingAndGlyphs\" textLength=\"102\" x=\"38\" y=\"58.6387\">engine2: Engine</text></a></g><!--MD5=[2d9d391d2b0b4bd4b899b1375ffab438]\n",
       "@startuml\r\n",
       "skinparam ranksep 8\r\n",
       "skinparam rectangle {\r\n",
       " backgroundColor<<block>> LightGreen\r\n",
       "}\r\n",
       "skinparam wrapWidth 300\r\n",
       "hide circle\r\n",
       "\r\n",
       "package \"TradeStudyTest\" as E1  [[psysml:656cfd98-5664-4901-a86b-535977508953 ]]  {\r\n",
       "rec def \"Engine\" as E2  <<(T,blue)part def>> [[psysml:66c87936-3609-4f97-8f24-8ad3882372ee ]] {\r\n",
       "}\r\n",
       "rec usage \"engine1: Engine\" as E3  [[psysml:c974a942-078b-4d34-96c1-8ca70902d898 ]] {\r\n",
       "}\r\n",
       "rec usage \"engine2: Engine\" as E4  [[psysml:f4d0ec5b-d124-41e4-9ba9-3cb67b695e7c ]] {\r\n",
       "}\r\n",
       "}\r\n",
       "@enduml\r\n",
       "\n",
       "PlantUML version 1.2020.13(Sat Jun 13 12:26:38 UTC 2020)\n",
       "(EPL source distribution)\n",
       "Java Runtime: OpenJDK Runtime Environment\n",
       "JVM: OpenJDK 64-Bit Server VM\n",
       "Default Encoding: UTF-8\n",
       "Language: en\n",
       "Country: null\n",
       "--></g></svg>"
      ]
     },
     "execution_count": 26,
     "metadata": {},
     "output_type": "execute_result"
    }
   ],
   "source": [
    "%viz --style=\"STDCOLOR\" --view=\"Interconnection\" \"TradeStudyTest\""
   ]
  },
  {
   "cell_type": "code",
   "execution_count": 27,
   "id": "searching-constitution",
   "metadata": {
    "execution": {
     "iopub.execute_input": "2021-03-25T13:19:20.188583Z",
     "iopub.status.busy": "2021-03-25T13:19:20.188061Z",
     "iopub.status.idle": "2021-03-25T13:19:20.276159Z",
     "shell.execute_reply": "2021-03-25T13:19:20.276576Z"
    }
   },
   "outputs": [
    {
     "data": {
      "image/svg+xml": [
       "<?xml version=\"1.0\" encoding=\"UTF-8\" standalone=\"no\"?><svg xmlns=\"http://www.w3.org/2000/svg\" xmlns:xlink=\"http://www.w3.org/1999/xlink\" contentScriptType=\"application/ecmascript\" contentStyleType=\"text/css\" height=\"136px\" preserveAspectRatio=\"none\" style=\"width:187px;height:136px;\" version=\"1.1\" viewBox=\"0 0 187 136\" width=\"187px\" zoomAndPan=\"magnify\"><defs><filter height=\"300%\" id=\"feyzglvgtb8lp\" width=\"300%\" x=\"-1\" y=\"-1\"><feGaussianBlur result=\"blurOut\" stdDeviation=\"2.0\"/><feColorMatrix in=\"blurOut\" result=\"blurOut2\" type=\"matrix\" values=\"0 0 0 0 0 0 0 0 0 0 0 0 0 0 0 0 0 0 .4 0\"/><feOffset dx=\"4.0\" dy=\"4.0\" in=\"blurOut2\" result=\"blurOut3\"/><feBlend in=\"SourceGraphic\" in2=\"blurOut3\" mode=\"normal\"/></filter></defs><g><!--MD5=[fbc87193dbaf4d95561dea2c320d4a47]\n",
       "cluster E1--><a href=\"psysml:2fd52497-3b24-4a66-a5d3-d77cdf8b2acf\" target=\"_top\" title=\"psysml:2fd52497-3b24-4a66-a5d3-d77cdf8b2acf\" xlink:actuate=\"onRequest\" xlink:href=\"psysml:2fd52497-3b24-4a66-a5d3-d77cdf8b2acf\" xlink:show=\"new\" xlink:title=\"psysml:2fd52497-3b24-4a66-a5d3-d77cdf8b2acf\" xlink:type=\"simple\"><rect fill=\"#FFFFFF\" filter=\"url(#feyzglvgtb8lp)\" height=\"110\" id=\"E1\" rx=\"10\" ry=\"10\" style=\"stroke: #A80036; stroke-width: 1.5;\" width=\"161\" x=\"7\" y=\"7\"/><rect fill=\"#FEFECE\" height=\"37.9375\" rx=\"10\" ry=\"10\" style=\"stroke: #FEFECE; stroke-width: 1.5;\" width=\"161\" x=\"7\" y=\"7\"/><rect fill=\"#FEFECE\" height=\"10\" style=\"stroke: #FEFECE; stroke-width: 1.5;\" width=\"161\" x=\"7\" y=\"34.9375\"/><rect fill=\"none\" height=\"110\" id=\"E1\" rx=\"10\" ry=\"10\" style=\"stroke: #A80036; stroke-width: 1.5;\" width=\"161\" x=\"7\" y=\"7\"/><text fill=\"#000000\" font-family=\"sans-serif\" font-size=\"12\" font-style=\"italic\" lengthAdjust=\"spacingAndGlyphs\" textLength=\"64\" x=\"55.5\" y=\"23.1387\">«analysis»</text><text fill=\"#000000\" font-family=\"sans-serif\" font-size=\"12\" lengthAdjust=\"spacingAndGlyphs\" textLength=\"114\" x=\"30.5\" y=\"37.1074\">engineTradeStudy</text><line style=\"stroke: #A80036; stroke-width: 1.0;\" x1=\"7\" x2=\"168\" y1=\"44.9375\" y2=\"44.9375\"/></a><g id=\"E1.E2\"><a href=\"psysml:7b858bf3-8f8c-4105-a0db-0d0783f29576\" target=\"_top\" title=\"psysml:7b858bf3-8f8c-4105-a0db-0d0783f29576\" xlink:actuate=\"onRequest\" xlink:href=\"psysml:7b858bf3-8f8c-4105-a0db-0d0783f29576\" xlink:show=\"new\" xlink:title=\"psysml:7b858bf3-8f8c-4105-a0db-0d0783f29576\" xlink:type=\"simple\"><rect fill=\"#FEFECE\" filter=\"url(#feyzglvgtb8lp)\" height=\"42.9375\" id=\"E2\" rx=\"10\" ry=\"10\" style=\"stroke: #A80036; stroke-width: 1.5;\" width=\"121\" x=\"26.5\" y=\"58\"/><text fill=\"#000000\" font-family=\"sans-serif\" font-size=\"12\" font-style=\"italic\" lengthAdjust=\"spacingAndGlyphs\" textLength=\"82\" x=\"46\" y=\"74.1387\">«calculation»</text><text fill=\"#000000\" font-family=\"sans-serif\" font-size=\"12\" lengthAdjust=\"spacingAndGlyphs\" textLength=\"110\" x=\"32\" y=\"88.1074\">objectiveFunction</text></a></g><!--MD5=[acea10032a94e07de015ed07302f02da]\n",
       "@startuml\r\n",
       "skinparam ranksep 8\r\n",
       "skinparam wrapWidth 300\r\n",
       "hide circle\r\n",
       "\r\n",
       "rec usage \"engineTradeStudy\" as E1 <<analysis>> [[psysml:2fd52497-3b24-4a66-a5d3-d77cdf8b2acf ]] {\r\n",
       "rec usage \"objectiveFunction\" as E2  <<(T,blue)calculation>> [[psysml:7b858bf3-8f8c-4105-a0db-0d0783f29576 ]] {\r\n",
       "}\r\n",
       "\r\n",
       "}\r\n",
       "\r\n",
       "@enduml\r\n",
       "\n",
       "PlantUML version 1.2020.13(Sat Jun 13 12:26:38 UTC 2020)\n",
       "(EPL source distribution)\n",
       "Java Runtime: OpenJDK Runtime Environment\n",
       "JVM: OpenJDK 64-Bit Server VM\n",
       "Default Encoding: UTF-8\n",
       "Language: en\n",
       "Country: null\n",
       "--></g></svg>"
      ]
     },
     "execution_count": 27,
     "metadata": {},
     "output_type": "execute_result"
    }
   ],
   "source": [
    "%viz --style=\"STDCOLOR\" --view=\"Action\" \"TradeStudyTest\""
   ]
  },
  {
   "cell_type": "code",
   "execution_count": 28,
   "id": "lucky-newsletter",
   "metadata": {
    "execution": {
     "iopub.execute_input": "2021-03-25T13:19:20.329545Z",
     "iopub.status.busy": "2021-03-25T13:19:20.329038Z",
     "iopub.status.idle": "2021-03-25T13:19:20.515956Z",
     "shell.execute_reply": "2021-03-25T13:19:20.514284Z"
    }
   },
   "outputs": [
    {
     "data": {
      "image/svg+xml": [
       "<?xml version=\"1.0\" encoding=\"UTF-8\" standalone=\"no\"?><svg xmlns=\"http://www.w3.org/2000/svg\" xmlns:xlink=\"http://www.w3.org/1999/xlink\" contentScriptType=\"application/ecmascript\" contentStyleType=\"text/css\" height=\"497px\" preserveAspectRatio=\"none\" style=\"width:556px;height:497px;\" version=\"1.1\" viewBox=\"0 0 556 497\" width=\"556px\" zoomAndPan=\"magnify\"><defs><filter height=\"300%\" id=\"fp1iuaate4oto\" width=\"300%\" x=\"-1\" y=\"-1\"><feGaussianBlur result=\"blurOut\" stdDeviation=\"2.0\"/><feColorMatrix in=\"blurOut\" result=\"blurOut2\" type=\"matrix\" values=\"0 0 0 0 0 0 0 0 0 0 0 0 0 0 0 0 0 0 .4 0\"/><feOffset dx=\"4.0\" dy=\"4.0\" in=\"blurOut2\" result=\"blurOut3\"/><feBlend in=\"SourceGraphic\" in2=\"blurOut3\" mode=\"normal\"/></filter></defs><g><!--MD5=[fbc87193dbaf4d95561dea2c320d4a47]\n",
       "cluster E1--><a href=\"psysml:656cfd98-5664-4901-a86b-535977508953\" target=\"_top\" title=\"psysml:656cfd98-5664-4901-a86b-535977508953\" xlink:actuate=\"onRequest\" xlink:href=\"psysml:656cfd98-5664-4901-a86b-535977508953\" xlink:show=\"new\" xlink:title=\"psysml:656cfd98-5664-4901-a86b-535977508953\" xlink:type=\"simple\"><polygon fill=\"#FFFFFF\" filter=\"url(#fp1iuaate4oto)\" points=\"18.32,6,150.32,6,157.32,28.2969,534.32,28.2969,534.32,485,18.32,485,18.32,6\" style=\"stroke: #000000; stroke-width: 1.5;\"/><line style=\"stroke: #000000; stroke-width: 1.5;\" x1=\"18.32\" x2=\"157.32\" y1=\"28.2969\" y2=\"28.2969\"/><text fill=\"#000000\" font-family=\"sans-serif\" font-size=\"14\" font-weight=\"bold\" lengthAdjust=\"spacingAndGlyphs\" textLength=\"126\" x=\"22.32\" y=\"20.9951\">TradeStudyTest</text></a><!--MD5=[b4997ac47864f28c2f74865a473b2911]\n",
       "class E2--><a href=\"psysml:66c87936-3609-4f97-8f24-8ad3882372ee\" target=\"_top\" title=\"psysml:66c87936-3609-4f97-8f24-8ad3882372ee\" xlink:actuate=\"onRequest\" xlink:href=\"psysml:66c87936-3609-4f97-8f24-8ad3882372ee\" xlink:show=\"new\" xlink:title=\"psysml:66c87936-3609-4f97-8f24-8ad3882372ee\" xlink:type=\"simple\"><rect fill=\"#FEFECE\" filter=\"url(#fp1iuaate4oto)\" height=\"45.9375\" id=\"E2\" style=\"stroke: #A80036; stroke-width: 1.5;\" width=\"66\" x=\"198.32\" y=\"423\"/><text fill=\"#000000\" font-family=\"sans-serif\" font-size=\"12\" font-style=\"italic\" lengthAdjust=\"spacingAndGlyphs\" textLength=\"64\" x=\"199.32\" y=\"439.1387\">«part def»</text><text fill=\"#000000\" font-family=\"sans-serif\" font-size=\"12\" lengthAdjust=\"spacingAndGlyphs\" textLength=\"43\" x=\"209.82\" y=\"453.1074\">Engine</text><line style=\"stroke: #A80036; stroke-width: 1.5;\" x1=\"199.32\" x2=\"263.32\" y1=\"460.9375\" y2=\"460.9375\"/></a><!--MD5=[09b614a08d8cba4a07c9adeb5e0fee81]\n",
       "class E3--><a href=\"psysml:c974a942-078b-4d34-96c1-8ca70902d898\" target=\"_top\" title=\"psysml:c974a942-078b-4d34-96c1-8ca70902d898\" xlink:actuate=\"onRequest\" xlink:href=\"psysml:c974a942-078b-4d34-96c1-8ca70902d898\" xlink:show=\"new\" xlink:title=\"psysml:c974a942-078b-4d34-96c1-8ca70902d898\" xlink:type=\"simple\"><rect fill=\"#FEFECE\" filter=\"url(#fp1iuaate4oto)\" height=\"45.9375\" id=\"E3\" rx=\"10\" ry=\"10\" style=\"stroke: #A80036; stroke-width: 1.5;\" width=\"108\" x=\"410.32\" y=\"316\"/><text fill=\"#000000\" font-family=\"sans-serif\" font-size=\"12\" font-style=\"italic\" lengthAdjust=\"spacingAndGlyphs\" textLength=\"40\" x=\"444.32\" y=\"332.1387\">«part»</text><text fill=\"#000000\" font-family=\"sans-serif\" font-size=\"12\" lengthAdjust=\"spacingAndGlyphs\" textLength=\"102\" x=\"413.32\" y=\"346.1074\">engine1: Engine</text><line style=\"stroke: #A80036; stroke-width: 1.5;\" x1=\"411.32\" x2=\"517.32\" y1=\"353.9375\" y2=\"353.9375\"/></a><!--MD5=[ebbe1d658d1005bcc118a6aa81145e00]\n",
       "class E4--><a href=\"psysml:f4d0ec5b-d124-41e4-9ba9-3cb67b695e7c\" target=\"_top\" title=\"psysml:f4d0ec5b-d124-41e4-9ba9-3cb67b695e7c\" xlink:actuate=\"onRequest\" xlink:href=\"psysml:f4d0ec5b-d124-41e4-9ba9-3cb67b695e7c\" xlink:show=\"new\" xlink:title=\"psysml:f4d0ec5b-d124-41e4-9ba9-3cb67b695e7c\" xlink:type=\"simple\"><rect fill=\"#FEFECE\" filter=\"url(#fp1iuaate4oto)\" height=\"45.9375\" id=\"E4\" rx=\"10\" ry=\"10\" style=\"stroke: #A80036; stroke-width: 1.5;\" width=\"108\" x=\"267.32\" y=\"316\"/><text fill=\"#000000\" font-family=\"sans-serif\" font-size=\"12\" font-style=\"italic\" lengthAdjust=\"spacingAndGlyphs\" textLength=\"40\" x=\"301.32\" y=\"332.1387\">«part»</text><text fill=\"#000000\" font-family=\"sans-serif\" font-size=\"12\" lengthAdjust=\"spacingAndGlyphs\" textLength=\"102\" x=\"270.32\" y=\"346.1074\">engine2: Engine</text><line style=\"stroke: #A80036; stroke-width: 1.5;\" x1=\"268.32\" x2=\"374.32\" y1=\"353.9375\" y2=\"353.9375\"/></a><!--MD5=[270fce915f116d4de14055a7c1d9a0f3]\n",
       "class E5--><a href=\"psysml:2fd52497-3b24-4a66-a5d3-d77cdf8b2acf\" target=\"_top\" title=\"psysml:2fd52497-3b24-4a66-a5d3-d77cdf8b2acf\" xlink:actuate=\"onRequest\" xlink:href=\"psysml:2fd52497-3b24-4a66-a5d3-d77cdf8b2acf\" xlink:show=\"new\" xlink:title=\"psysml:2fd52497-3b24-4a66-a5d3-d77cdf8b2acf\" xlink:type=\"simple\"><rect fill=\"#FEFECE\" filter=\"url(#fp1iuaate4oto)\" height=\"45.9375\" id=\"E5\" rx=\"10\" ry=\"10\" style=\"stroke: #A80036; stroke-width: 1.5;\" width=\"199\" x=\"239.82\" y=\"41\"/><text fill=\"#000000\" font-family=\"sans-serif\" font-size=\"12\" font-style=\"italic\" lengthAdjust=\"spacingAndGlyphs\" textLength=\"64\" x=\"307.32\" y=\"57.1387\">«analysis»</text><text fill=\"#000000\" font-family=\"sans-serif\" font-size=\"12\" lengthAdjust=\"spacingAndGlyphs\" textLength=\"193\" x=\"242.82\" y=\"71.1074\">engineTradeStudy: TradeStudy</text><line style=\"stroke: #A80036; stroke-width: 1.5;\" x1=\"240.82\" x2=\"437.82\" y1=\"78.9375\" y2=\"78.9375\"/></a><!--MD5=[60a26617385b1d2d0262a64233df1f8d]\n",
       "class E6--><a href=\"psysml:2c27f52f-f536-4fc6-bf8d-fd6e3fd13c39\" target=\"_top\" title=\"psysml:2c27f52f-f536-4fc6-bf8d-fd6e3fd13c39\" xlink:actuate=\"onRequest\" xlink:href=\"psysml:2c27f52f-f536-4fc6-bf8d-fd6e3fd13c39\" xlink:show=\"new\" xlink:title=\"psysml:2c27f52f-f536-4fc6-bf8d-fd6e3fd13c39\" xlink:type=\"simple\"><rect fill=\"#FEFECE\" filter=\"url(#fp1iuaate4oto)\" height=\"45.9375\" id=\"E6\" rx=\"10\" ry=\"10\" style=\"stroke: #A80036; stroke-width: 1.5;\" width=\"251\" x=\"78.82\" y=\"164\"/><text fill=\"#000000\" font-family=\"sans-serif\" font-size=\"12\" font-style=\"italic\" lengthAdjust=\"spacingAndGlyphs\" textLength=\"91\" x=\"158.82\" y=\"180.1387\">«requirement»</text><text fill=\"#000000\" font-family=\"sans-serif\" font-size=\"12\" lengthAdjust=\"spacingAndGlyphs\" textLength=\"245\" x=\"81.82\" y=\"194.1074\">tradeStudyObjective: MaximizeObjective</text><line style=\"stroke: #A80036; stroke-width: 1.5;\" x1=\"79.82\" x2=\"328.82\" y1=\"201.9375\" y2=\"201.9375\"/></a><!--MD5=[2156ba9850f5573cc1fc38a6a4b2f02b]\n",
       "class E7--><a href=\"psysml:7b858bf3-8f8c-4105-a0db-0d0783f29576\" target=\"_top\" title=\"psysml:7b858bf3-8f8c-4105-a0db-0d0783f29576\" xlink:actuate=\"onRequest\" xlink:href=\"psysml:7b858bf3-8f8c-4105-a0db-0d0783f29576\" xlink:show=\"new\" xlink:title=\"psysml:7b858bf3-8f8c-4105-a0db-0d0783f29576\" xlink:type=\"simple\"><rect fill=\"#FEFECE\" filter=\"url(#fp1iuaate4oto)\" height=\"45.9375\" id=\"E7\" rx=\"10\" ry=\"10\" style=\"stroke: #A80036; stroke-width: 1.5;\" width=\"116\" x=\"365.32\" y=\"164\"/><text fill=\"#000000\" font-family=\"sans-serif\" font-size=\"12\" font-style=\"italic\" lengthAdjust=\"spacingAndGlyphs\" textLength=\"82\" x=\"382.32\" y=\"180.1387\">«calculation»</text><text fill=\"#000000\" font-family=\"sans-serif\" font-size=\"12\" lengthAdjust=\"spacingAndGlyphs\" textLength=\"110\" x=\"368.32\" y=\"194.1074\">objectiveFunction</text><line style=\"stroke: #A80036; stroke-width: 1.5;\" x1=\"366.32\" x2=\"480.32\" y1=\"201.9375\" y2=\"201.9375\"/></a><!--MD5=[b9389687b975829384b498ac4b7476b2]\n",
       "class E8--><a href=\"psysml:b0f7840c-11d7-45e2-a5a4-bf208bef1113\" target=\"_top\" title=\"psysml:b0f7840c-11d7-45e2-a5a4-bf208bef1113\" xlink:actuate=\"onRequest\" xlink:href=\"psysml:b0f7840c-11d7-45e2-a5a4-bf208bef1113\" xlink:show=\"new\" xlink:title=\"psysml:b0f7840c-11d7-45e2-a5a4-bf208bef1113\" xlink:type=\"simple\"><rect fill=\"#FEFECE\" filter=\"url(#fp1iuaate4oto)\" height=\"45.9375\" id=\"E8\" rx=\"10\" ry=\"10\" style=\"stroke: #A80036; stroke-width: 1.5;\" width=\"124\" x=\"71.32\" y=\"316\"/><text fill=\"#000000\" font-family=\"sans-serif\" font-size=\"12\" font-style=\"italic\" lengthAdjust=\"spacingAndGlyphs\" textLength=\"40\" x=\"113.32\" y=\"332.1387\">«part»</text><text fill=\"#000000\" font-family=\"sans-serif\" font-size=\"12\" lengthAdjust=\"spacingAndGlyphs\" textLength=\"118\" x=\"74.32\" y=\"346.1074\">alternative: Engine</text><line style=\"stroke: #A80036; stroke-width: 1.5;\" x1=\"72.32\" x2=\"194.32\" y1=\"353.9375\" y2=\"353.9375\"/></a><!--MD5=[fd4143e9d270a159db93a4ea2a975926]\n",
       "class E9--><a href=\"psysml:9d098c9e-1a7b-415f-a301-c2067e422f2c\" target=\"_top\" title=\"psysml:9d098c9e-1a7b-415f-a301-c2067e422f2c\" xlink:actuate=\"onRequest\" xlink:href=\"psysml:9d098c9e-1a7b-415f-a301-c2067e422f2c\" xlink:show=\"new\" xlink:title=\"psysml:9d098c9e-1a7b-415f-a301-c2067e422f2c\" xlink:type=\"simple\"><rect fill=\"#FEFECE\" filter=\"url(#fp1iuaate4oto)\" height=\"45.9375\" id=\"E9\" rx=\"10\" ry=\"10\" style=\"stroke: #A80036; stroke-width: 1.5;\" width=\"178\" x=\"291.32\" y=\"240\"/><text fill=\"#000000\" font-family=\"sans-serif\" font-size=\"12\" font-style=\"italic\" lengthAdjust=\"spacingAndGlyphs\" textLength=\"40\" x=\"360.32\" y=\"256.1387\">«part»</text><text fill=\"#000000\" font-family=\"sans-serif\" font-size=\"12\" lengthAdjust=\"spacingAndGlyphs\" textLength=\"172\" x=\"294.32\" y=\"270.1074\">selectedAlternative: Engine</text><line style=\"stroke: #A80036; stroke-width: 1.5;\" x1=\"292.32\" x2=\"468.32\" y1=\"277.9375\" y2=\"277.9375\"/></a><!--MD5=[05d275557350bfb9b23a4ef7222b4c39]\n",
       "link E3 to E2--><a href=\"psysml:6d15a19a-180f-471d-b762-c393731ed9f0\" target=\"_top\" title=\"psysml:6d15a19a-180f-471d-b762-c393731ed9f0\" xlink:actuate=\"onRequest\" xlink:href=\"psysml:6d15a19a-180f-471d-b762-c393731ed9f0\" xlink:show=\"new\" xlink:title=\"psysml:6d15a19a-180f-471d-b762-c393731ed9f0\" xlink:type=\"simple\"><path d=\"M415.48,362.01 C376.57,379.54 322.27,404.01 282.71,421.84 \" fill=\"none\" id=\"E3-&gt;E2\" style=\"stroke: #A80036; stroke-width: 1.0;\"/><polygon fill=\"#FFFFFF\" points=\"264.34,430.12,278.7866,415.9321,284.5383,428.696,264.34,430.12\" style=\"stroke: #A80036; stroke-width: 1.0;\"/><ellipse cx=\"284.805\" cy=\"415.4137\" fill=\"#A80036\" rx=\"2\" ry=\"2\" style=\"stroke: #A80036; stroke-width: 1.0;\"/><ellipse cx=\"288.9134\" cy=\"424.5308\" fill=\"#A80036\" rx=\"2\" ry=\"2\" style=\"stroke: #A80036; stroke-width: 1.0;\"/></a><!--MD5=[185131fc0dcab0a4505a2ebe144e961b]\n",
       "link E4 to E2--><a href=\"psysml:247dd621-3d2a-4448-8896-ee4a55c37d47\" target=\"_top\" title=\"psysml:247dd621-3d2a-4448-8896-ee4a55c37d47\" xlink:actuate=\"onRequest\" xlink:href=\"psysml:247dd621-3d2a-4448-8896-ee4a55c37d47\" xlink:show=\"new\" xlink:title=\"psysml:247dd621-3d2a-4448-8896-ee4a55c37d47\" xlink:type=\"simple\"><path d=\"M302.45,362.01 C291.25,375.08 276.74,392.01 263.74,407.17 \" fill=\"none\" id=\"E4-&gt;E2\" style=\"stroke: #A80036; stroke-width: 1.0;\"/><polygon fill=\"#FFFFFF\" points=\"250.47,422.66,257.5188,403.678,268.1491,412.7883,250.47,422.66\" style=\"stroke: #A80036; stroke-width: 1.0;\"/><ellipse cx=\"262.7466\" cy=\"400.6515\" fill=\"#A80036\" rx=\"2\" ry=\"2\" style=\"stroke: #A80036; stroke-width: 1.0;\"/><ellipse cx=\"270.3396\" cy=\"407.1588\" fill=\"#A80036\" rx=\"2\" ry=\"2\" style=\"stroke: #A80036; stroke-width: 1.0;\"/></a><!--MD5=[15ebcb19ae302d9b601edb458606d402]\n",
       "link E5 to E2--><a href=\"psysml:21b7132a-f544-4487-a747-91d198ad447d\" target=\"_top\" title=\"psysml:21b7132a-f544-4487-a747-91d198ad447d\" xlink:actuate=\"onRequest\" xlink:href=\"psysml:21b7132a-f544-4487-a747-91d198ad447d\" xlink:show=\"new\" xlink:title=\"psysml:21b7132a-f544-4487-a747-91d198ad447d\" xlink:type=\"simple\"><path d=\"M239.76,73.22 C177.99,83.96 102.74,108.45 61.32,164 C8.68,234.61 6,287.72 53.32,362 C83.95,410.08 150.5,430.76 192.99,439.32 \" fill=\"none\" id=\"E5-&gt;E2\" style=\"stroke: #A80036; stroke-width: 1.0; stroke-dasharray: 7.0,7.0;\"/><polygon fill=\"#A80036\" points=\"198.04,440.31,189.9738,434.6588,193.1327,439.3514,188.4401,442.5104,198.04,440.31\" style=\"stroke: #A80036; stroke-width: 1.0;\"/><text fill=\"#000000\" font-family=\"sans-serif\" font-size=\"13\" lengthAdjust=\"spacingAndGlyphs\" textLength=\"62\" x=\"24.32\" y=\"267.5669\">«subject»</text></a><!--MD5=[9120cf2e5df3bff93db8f754bbbc09b4]\n",
       "link E5 to E6--><a href=\"psysml:44ec4945-cc63-4e9d-b8df-7b9a76da0bc7\" target=\"_top\" title=\"psysml:44ec4945-cc63-4e9d-b8df-7b9a76da0bc7\" xlink:actuate=\"onRequest\" xlink:href=\"psysml:44ec4945-cc63-4e9d-b8df-7b9a76da0bc7\" xlink:show=\"new\" xlink:title=\"psysml:44ec4945-cc63-4e9d-b8df-7b9a76da0bc7\" xlink:type=\"simple\"><path d=\"M314.56,87.19 C292.2,107.23 259.21,136.8 235.15,158.37 \" fill=\"none\" id=\"E5-&gt;E6\" style=\"stroke: #A80036; stroke-width: 1.0;\"/><polygon fill=\"#A80036\" points=\"228.92,163.95,236.8786,160.8419,232.8725,156.3752,228.92,163.95\" style=\"stroke: #A80036; stroke-width: 1.0;\"/><text fill=\"#000000\" font-family=\"sans-serif\" font-size=\"13\" lengthAdjust=\"spacingAndGlyphs\" textLength=\"73\" x=\"280.32\" y=\"130.0669\">«objective»</text></a><!--MD5=[452b418e7f8a40397a49b8c0a78acc5b]\n",
       "reverse link E5 to E7--><a href=\"psysml:7b858bf3-8f8c-4105-a0db-0d0783f29576\" target=\"_top\" title=\"psysml:7b858bf3-8f8c-4105-a0db-0d0783f29576\" xlink:actuate=\"onRequest\" xlink:href=\"psysml:7b858bf3-8f8c-4105-a0db-0d0783f29576\" xlink:show=\"new\" xlink:title=\"psysml:7b858bf3-8f8c-4105-a0db-0d0783f29576\" xlink:type=\"simple\"><path d=\"M362.14,97.88 C376.71,118.86 395.19,145.48 408.01,163.95 \" fill=\"none\" id=\"E5&lt;-E7\" style=\"stroke: #A80036; stroke-width: 1.0;\"/><polygon fill=\"#A80036\" points=\"354.73,87.19,354.864,94.3999,361.5708,97.0492,361.4368,89.8393,354.73,87.19\" style=\"stroke: #A80036; stroke-width: 1.0;\"/></a><!--MD5=[f1f3f9f2fc535e6147756cb86a7f2e32]\n",
       "link E8 to E2--><a href=\"psysml:2565caae-8b6e-420b-a56a-eab601fd4b55\" target=\"_top\" title=\"psysml:2565caae-8b6e-420b-a56a-eab601fd4b55\" xlink:actuate=\"onRequest\" xlink:href=\"psysml:2565caae-8b6e-420b-a56a-eab601fd4b55\" xlink:show=\"new\" xlink:title=\"psysml:2565caae-8b6e-420b-a56a-eab601fd4b55\" xlink:type=\"simple\"><path d=\"M153.86,362.01 C166.19,375.22 182.2,392.38 196.46,407.65 \" fill=\"none\" id=\"E8-&gt;E2\" style=\"stroke: #A80036; stroke-width: 1.0;\"/><polygon fill=\"#FFFFFF\" points=\"210.47,422.66,192.3921,413.5393,202.6305,403.9907,210.47,422.66\" style=\"stroke: #A80036; stroke-width: 1.0;\"/><ellipse cx=\"189.9671\" cy=\"408.0067\" fill=\"#A80036\" rx=\"2\" ry=\"2\" style=\"stroke: #A80036; stroke-width: 1.0;\"/><ellipse cx=\"197.2802\" cy=\"401.1863\" fill=\"#A80036\" rx=\"2\" ry=\"2\" style=\"stroke: #A80036; stroke-width: 1.0;\"/></a><!--MD5=[dc164f5e8a733ab456ef1add180e9e34]\n",
       "reverse link E7 to E8--><a href=\"psysml:b0f7840c-11d7-45e2-a5a4-bf208bef1113\" target=\"_top\" title=\"psysml:b0f7840c-11d7-45e2-a5a4-bf208bef1113\" xlink:actuate=\"onRequest\" xlink:href=\"psysml:b0f7840c-11d7-45e2-a5a4-bf208bef1113\" xlink:show=\"new\" xlink:title=\"psysml:b0f7840c-11d7-45e2-a5a4-bf208bef1113\" xlink:type=\"simple\"><path d=\"M352.67,208.29 C327.33,216.69 298.96,227.44 274.32,240 C231.96,261.6 187.65,294.33 160.26,315.93 \" fill=\"none\" id=\"E7&lt;-E8\" style=\"stroke: #A80036; stroke-width: 1.0;\"/><polygon fill=\"#FFFFFF\" points=\"365.22,204.24,358.2818,202.2749,353.7994,207.9236,360.7376,209.8887,365.22,204.24\" style=\"stroke: #A80036; stroke-width: 1.0;\"/></a><!--MD5=[5c3bb36fe832a92c7f0e1807dd65209d]\n",
       "link E9 to E2--><a href=\"psysml:a6aa3e55-56ca-44c6-92e8-1089eebb019a\" target=\"_top\" title=\"psysml:a6aa3e55-56ca-44c6-92e8-1089eebb019a\" xlink:actuate=\"onRequest\" xlink:href=\"psysml:a6aa3e55-56ca-44c6-92e8-1089eebb019a\" xlink:show=\"new\" xlink:title=\"psysml:a6aa3e55-56ca-44c6-92e8-1089eebb019a\" xlink:type=\"simple\"><path d=\"M291.19,285.15 C275.57,292.56 260.94,302.55 250.32,316 C231.17,340.25 227.04,375.32 227.36,402.77 \" fill=\"none\" id=\"E9-&gt;E2\" style=\"stroke: #A80036; stroke-width: 1.0;\"/><polygon fill=\"#FFFFFF\" points=\"228.36,422.81,220.4186,404.1838,234.4011,403.4837,228.36,422.81\" style=\"stroke: #A80036; stroke-width: 1.0;\"/><ellipse cx=\"222.131\" cy=\"398.3909\" fill=\"#A80036\" rx=\"2\" ry=\"2\" style=\"stroke: #A80036; stroke-width: 1.0;\"/><ellipse cx=\"232.1185\" cy=\"397.8909\" fill=\"#A80036\" rx=\"2\" ry=\"2\" style=\"stroke: #A80036; stroke-width: 1.0;\"/></a><!--MD5=[9ae28de373ca99bb8a1b38d63370ca7e]\n",
       "reverse link E5 to E9--><a href=\"psysml:9d098c9e-1a7b-415f-a301-c2067e422f2c\" target=\"_top\" title=\"psysml:9d098c9e-1a7b-415f-a301-c2067e422f2c\" xlink:actuate=\"onRequest\" xlink:href=\"psysml:9d098c9e-1a7b-415f-a301-c2067e422f2c\" xlink:show=\"new\" xlink:title=\"psysml:9d098c9e-1a7b-415f-a301-c2067e422f2c\" xlink:type=\"simple\"><path d=\"M416.08,92.77 C447.78,108.48 481.27,131.61 499.32,164 C509.27,181.86 510.51,192.89 499.32,210 C490.86,222.92 478.41,232.65 464.71,239.97 \" fill=\"none\" id=\"E5&lt;-E9\" style=\"stroke: #A80036; stroke-width: 1.0;\"/><polygon fill=\"#FFFFFF\" points=\"404.06,87.11,407.7814,93.2867,414.9142,92.2272,411.1928,86.0505,404.06,87.11\" style=\"stroke: #A80036; stroke-width: 1.0;\"/></a><!--MD5=[ee416e5c1c68cc2b4df0c2aab9768fbb]\n",
       "@startuml\r\n",
       "skinparam wrapWidth 300\r\n",
       "hide circle\r\n",
       "\r\n",
       "package \"TradeStudyTest\" as E1  [[psysml:656cfd98-5664-4901-a86b-535977508953 ]]  {\r\n",
       "comp def \"Engine\" as E2  <<(T,blue)part def>> [[psysml:66c87936-3609-4f97-8f24-8ad3882372ee ]] {\r\n",
       "}\r\n",
       "comp usage \"engine1: Engine\" as E3  <<(T,blue)part>> [[psysml:c974a942-078b-4d34-96c1-8ca70902d898 ]] {\r\n",
       "}\r\n",
       "comp usage \"engine2: Engine\" as E4  <<(T,blue)part>> [[psysml:f4d0ec5b-d124-41e4-9ba9-3cb67b695e7c ]] {\r\n",
       "}\r\n",
       "comp usage \"engineTradeStudy: TradeStudy\" as E5 <<analysis>> [[psysml:2fd52497-3b24-4a66-a5d3-d77cdf8b2acf ]] {\r\n",
       "}\r\n",
       "comp usage \"tradeStudyObjective: MaximizeObjective\" as E6  <<(T,blue)requirement>> [[psysml:2c27f52f-f536-4fc6-bf8d-fd6e3fd13c39 ]] {\r\n",
       "}\r\n",
       "comp usage \"objectiveFunction\" as E7  <<(T,blue)calculation>> [[psysml:7b858bf3-8f8c-4105-a0db-0d0783f29576 ]] {\r\n",
       "}\r\n",
       "comp usage \"alternative: Engine\" as E8  <<(T,blue)part>> [[psysml:b0f7840c-11d7-45e2-a5a4-bf208bef1113 ]] {\r\n",
       "}\r\n",
       "comp usage \"selectedAlternative: Engine\" as E9  <<(T,blue)part>> [[psysml:9d098c9e-1a7b-415f-a301-c2067e422f2c ]] {\r\n",
       "}\r\n",
       "E3 - -:|> E2 [[psysml:6d15a19a-180f-471d-b762-c393731ed9f0 ]] \r\n",
       "E4 - -:|> E2 [[psysml:247dd621-3d2a-4448-8896-ee4a55c37d47 ]] \r\n",
       "E5 ..> E2 [[psysml:21b7132a-f544-4487-a747-91d198ad447d ]] : <<subject>>\r\n",
       "E5 - ->> E6 [[psysml:44ec4945-cc63-4e9d-b8df-7b9a76da0bc7 ]] : <<objective>>\r\n",
       "E5 *- - E7 [[psysml:7b858bf3-8f8c-4105-a0db-0d0783f29576 ]] \r\n",
       "E8 - -:|> E2 [[psysml:2565caae-8b6e-420b-a56a-eab601fd4b55 ]] \r\n",
       "E7 o- - E8 [[psysml:b0f7840c-11d7-45e2-a5a4-bf208bef1113 ]] \r\n",
       "E9 - -:|> E2 [[psysml:a6aa3e55-56ca-44c6-92e8-1089eebb019a ]] \r\n",
       "E5 o- - E9 [[psysml:9d098c9e-1a7b-415f-a301-c2067e422f2c ]] \r\n",
       "}\r\n",
       "@enduml\r\n",
       "\n",
       "PlantUML version 1.2020.13(Sat Jun 13 12:26:38 UTC 2020)\n",
       "(EPL source distribution)\n",
       "Java Runtime: OpenJDK Runtime Environment\n",
       "JVM: OpenJDK 64-Bit Server VM\n",
       "Default Encoding: UTF-8\n",
       "Language: en\n",
       "Country: null\n",
       "--></g></svg>"
      ]
     },
     "execution_count": 28,
     "metadata": {},
     "output_type": "execute_result"
    }
   ],
   "source": [
    "%viz --style=\"STDCOLOR\" --view=\"Sequence\" \"TradeStudyTest\""
   ]
  },
  {
   "cell_type": "code",
   "execution_count": 29,
   "id": "conceptual-eclipse",
   "metadata": {
    "execution": {
     "iopub.execute_input": "2021-03-25T13:19:20.565801Z",
     "iopub.status.busy": "2021-03-25T13:19:20.565390Z",
     "iopub.status.idle": "2021-03-25T13:19:20.729457Z",
     "shell.execute_reply": "2021-03-25T13:19:20.729904Z"
    }
   },
   "outputs": [
    {
     "data": {
      "image/svg+xml": [
       "<?xml version=\"1.0\" encoding=\"UTF-8\" standalone=\"no\"?><svg xmlns=\"http://www.w3.org/2000/svg\" xmlns:xlink=\"http://www.w3.org/1999/xlink\" contentScriptType=\"application/ecmascript\" contentStyleType=\"text/css\" height=\"497px\" preserveAspectRatio=\"none\" style=\"width:556px;height:497px;\" version=\"1.1\" viewBox=\"0 0 556 497\" width=\"556px\" zoomAndPan=\"magnify\"><defs><filter height=\"300%\" id=\"fp1iuaate4oto\" width=\"300%\" x=\"-1\" y=\"-1\"><feGaussianBlur result=\"blurOut\" stdDeviation=\"2.0\"/><feColorMatrix in=\"blurOut\" result=\"blurOut2\" type=\"matrix\" values=\"0 0 0 0 0 0 0 0 0 0 0 0 0 0 0 0 0 0 .4 0\"/><feOffset dx=\"4.0\" dy=\"4.0\" in=\"blurOut2\" result=\"blurOut3\"/><feBlend in=\"SourceGraphic\" in2=\"blurOut3\" mode=\"normal\"/></filter></defs><g><!--MD5=[fbc87193dbaf4d95561dea2c320d4a47]\n",
       "cluster E1--><a href=\"psysml:656cfd98-5664-4901-a86b-535977508953\" target=\"_top\" title=\"psysml:656cfd98-5664-4901-a86b-535977508953\" xlink:actuate=\"onRequest\" xlink:href=\"psysml:656cfd98-5664-4901-a86b-535977508953\" xlink:show=\"new\" xlink:title=\"psysml:656cfd98-5664-4901-a86b-535977508953\" xlink:type=\"simple\"><polygon fill=\"#FFFFFF\" filter=\"url(#fp1iuaate4oto)\" points=\"18.32,6,150.32,6,157.32,28.2969,534.32,28.2969,534.32,485,18.32,485,18.32,6\" style=\"stroke: #000000; stroke-width: 1.5;\"/><line style=\"stroke: #000000; stroke-width: 1.5;\" x1=\"18.32\" x2=\"157.32\" y1=\"28.2969\" y2=\"28.2969\"/><text fill=\"#000000\" font-family=\"sans-serif\" font-size=\"14\" font-weight=\"bold\" lengthAdjust=\"spacingAndGlyphs\" textLength=\"126\" x=\"22.32\" y=\"20.9951\">TradeStudyTest</text></a><!--MD5=[b4997ac47864f28c2f74865a473b2911]\n",
       "class E2--><a href=\"psysml:66c87936-3609-4f97-8f24-8ad3882372ee\" target=\"_top\" title=\"psysml:66c87936-3609-4f97-8f24-8ad3882372ee\" xlink:actuate=\"onRequest\" xlink:href=\"psysml:66c87936-3609-4f97-8f24-8ad3882372ee\" xlink:show=\"new\" xlink:title=\"psysml:66c87936-3609-4f97-8f24-8ad3882372ee\" xlink:type=\"simple\"><rect fill=\"#FEFECE\" filter=\"url(#fp1iuaate4oto)\" height=\"45.9375\" id=\"E2\" style=\"stroke: #A80036; stroke-width: 1.5;\" width=\"66\" x=\"198.32\" y=\"423\"/><text fill=\"#000000\" font-family=\"sans-serif\" font-size=\"12\" font-style=\"italic\" lengthAdjust=\"spacingAndGlyphs\" textLength=\"64\" x=\"199.32\" y=\"439.1387\">«part def»</text><text fill=\"#000000\" font-family=\"sans-serif\" font-size=\"12\" lengthAdjust=\"spacingAndGlyphs\" textLength=\"43\" x=\"209.82\" y=\"453.1074\">Engine</text><line style=\"stroke: #A80036; stroke-width: 1.5;\" x1=\"199.32\" x2=\"263.32\" y1=\"460.9375\" y2=\"460.9375\"/></a><!--MD5=[09b614a08d8cba4a07c9adeb5e0fee81]\n",
       "class E3--><a href=\"psysml:c974a942-078b-4d34-96c1-8ca70902d898\" target=\"_top\" title=\"psysml:c974a942-078b-4d34-96c1-8ca70902d898\" xlink:actuate=\"onRequest\" xlink:href=\"psysml:c974a942-078b-4d34-96c1-8ca70902d898\" xlink:show=\"new\" xlink:title=\"psysml:c974a942-078b-4d34-96c1-8ca70902d898\" xlink:type=\"simple\"><rect fill=\"#FEFECE\" filter=\"url(#fp1iuaate4oto)\" height=\"45.9375\" id=\"E3\" rx=\"10\" ry=\"10\" style=\"stroke: #A80036; stroke-width: 1.5;\" width=\"108\" x=\"410.32\" y=\"316\"/><text fill=\"#000000\" font-family=\"sans-serif\" font-size=\"12\" font-style=\"italic\" lengthAdjust=\"spacingAndGlyphs\" textLength=\"40\" x=\"444.32\" y=\"332.1387\">«part»</text><text fill=\"#000000\" font-family=\"sans-serif\" font-size=\"12\" lengthAdjust=\"spacingAndGlyphs\" textLength=\"102\" x=\"413.32\" y=\"346.1074\">engine1: Engine</text><line style=\"stroke: #A80036; stroke-width: 1.5;\" x1=\"411.32\" x2=\"517.32\" y1=\"353.9375\" y2=\"353.9375\"/></a><!--MD5=[ebbe1d658d1005bcc118a6aa81145e00]\n",
       "class E4--><a href=\"psysml:f4d0ec5b-d124-41e4-9ba9-3cb67b695e7c\" target=\"_top\" title=\"psysml:f4d0ec5b-d124-41e4-9ba9-3cb67b695e7c\" xlink:actuate=\"onRequest\" xlink:href=\"psysml:f4d0ec5b-d124-41e4-9ba9-3cb67b695e7c\" xlink:show=\"new\" xlink:title=\"psysml:f4d0ec5b-d124-41e4-9ba9-3cb67b695e7c\" xlink:type=\"simple\"><rect fill=\"#FEFECE\" filter=\"url(#fp1iuaate4oto)\" height=\"45.9375\" id=\"E4\" rx=\"10\" ry=\"10\" style=\"stroke: #A80036; stroke-width: 1.5;\" width=\"108\" x=\"267.32\" y=\"316\"/><text fill=\"#000000\" font-family=\"sans-serif\" font-size=\"12\" font-style=\"italic\" lengthAdjust=\"spacingAndGlyphs\" textLength=\"40\" x=\"301.32\" y=\"332.1387\">«part»</text><text fill=\"#000000\" font-family=\"sans-serif\" font-size=\"12\" lengthAdjust=\"spacingAndGlyphs\" textLength=\"102\" x=\"270.32\" y=\"346.1074\">engine2: Engine</text><line style=\"stroke: #A80036; stroke-width: 1.5;\" x1=\"268.32\" x2=\"374.32\" y1=\"353.9375\" y2=\"353.9375\"/></a><!--MD5=[270fce915f116d4de14055a7c1d9a0f3]\n",
       "class E5--><a href=\"psysml:2fd52497-3b24-4a66-a5d3-d77cdf8b2acf\" target=\"_top\" title=\"psysml:2fd52497-3b24-4a66-a5d3-d77cdf8b2acf\" xlink:actuate=\"onRequest\" xlink:href=\"psysml:2fd52497-3b24-4a66-a5d3-d77cdf8b2acf\" xlink:show=\"new\" xlink:title=\"psysml:2fd52497-3b24-4a66-a5d3-d77cdf8b2acf\" xlink:type=\"simple\"><rect fill=\"#FEFECE\" filter=\"url(#fp1iuaate4oto)\" height=\"45.9375\" id=\"E5\" rx=\"10\" ry=\"10\" style=\"stroke: #A80036; stroke-width: 1.5;\" width=\"199\" x=\"239.82\" y=\"41\"/><text fill=\"#000000\" font-family=\"sans-serif\" font-size=\"12\" font-style=\"italic\" lengthAdjust=\"spacingAndGlyphs\" textLength=\"64\" x=\"307.32\" y=\"57.1387\">«analysis»</text><text fill=\"#000000\" font-family=\"sans-serif\" font-size=\"12\" lengthAdjust=\"spacingAndGlyphs\" textLength=\"193\" x=\"242.82\" y=\"71.1074\">engineTradeStudy: TradeStudy</text><line style=\"stroke: #A80036; stroke-width: 1.5;\" x1=\"240.82\" x2=\"437.82\" y1=\"78.9375\" y2=\"78.9375\"/></a><!--MD5=[60a26617385b1d2d0262a64233df1f8d]\n",
       "class E6--><a href=\"psysml:2c27f52f-f536-4fc6-bf8d-fd6e3fd13c39\" target=\"_top\" title=\"psysml:2c27f52f-f536-4fc6-bf8d-fd6e3fd13c39\" xlink:actuate=\"onRequest\" xlink:href=\"psysml:2c27f52f-f536-4fc6-bf8d-fd6e3fd13c39\" xlink:show=\"new\" xlink:title=\"psysml:2c27f52f-f536-4fc6-bf8d-fd6e3fd13c39\" xlink:type=\"simple\"><rect fill=\"#FEFECE\" filter=\"url(#fp1iuaate4oto)\" height=\"45.9375\" id=\"E6\" rx=\"10\" ry=\"10\" style=\"stroke: #A80036; stroke-width: 1.5;\" width=\"251\" x=\"78.82\" y=\"164\"/><text fill=\"#000000\" font-family=\"sans-serif\" font-size=\"12\" font-style=\"italic\" lengthAdjust=\"spacingAndGlyphs\" textLength=\"91\" x=\"158.82\" y=\"180.1387\">«requirement»</text><text fill=\"#000000\" font-family=\"sans-serif\" font-size=\"12\" lengthAdjust=\"spacingAndGlyphs\" textLength=\"245\" x=\"81.82\" y=\"194.1074\">tradeStudyObjective: MaximizeObjective</text><line style=\"stroke: #A80036; stroke-width: 1.5;\" x1=\"79.82\" x2=\"328.82\" y1=\"201.9375\" y2=\"201.9375\"/></a><!--MD5=[2156ba9850f5573cc1fc38a6a4b2f02b]\n",
       "class E7--><a href=\"psysml:7b858bf3-8f8c-4105-a0db-0d0783f29576\" target=\"_top\" title=\"psysml:7b858bf3-8f8c-4105-a0db-0d0783f29576\" xlink:actuate=\"onRequest\" xlink:href=\"psysml:7b858bf3-8f8c-4105-a0db-0d0783f29576\" xlink:show=\"new\" xlink:title=\"psysml:7b858bf3-8f8c-4105-a0db-0d0783f29576\" xlink:type=\"simple\"><rect fill=\"#FEFECE\" filter=\"url(#fp1iuaate4oto)\" height=\"45.9375\" id=\"E7\" rx=\"10\" ry=\"10\" style=\"stroke: #A80036; stroke-width: 1.5;\" width=\"116\" x=\"365.32\" y=\"164\"/><text fill=\"#000000\" font-family=\"sans-serif\" font-size=\"12\" font-style=\"italic\" lengthAdjust=\"spacingAndGlyphs\" textLength=\"82\" x=\"382.32\" y=\"180.1387\">«calculation»</text><text fill=\"#000000\" font-family=\"sans-serif\" font-size=\"12\" lengthAdjust=\"spacingAndGlyphs\" textLength=\"110\" x=\"368.32\" y=\"194.1074\">objectiveFunction</text><line style=\"stroke: #A80036; stroke-width: 1.5;\" x1=\"366.32\" x2=\"480.32\" y1=\"201.9375\" y2=\"201.9375\"/></a><!--MD5=[b9389687b975829384b498ac4b7476b2]\n",
       "class E8--><a href=\"psysml:b0f7840c-11d7-45e2-a5a4-bf208bef1113\" target=\"_top\" title=\"psysml:b0f7840c-11d7-45e2-a5a4-bf208bef1113\" xlink:actuate=\"onRequest\" xlink:href=\"psysml:b0f7840c-11d7-45e2-a5a4-bf208bef1113\" xlink:show=\"new\" xlink:title=\"psysml:b0f7840c-11d7-45e2-a5a4-bf208bef1113\" xlink:type=\"simple\"><rect fill=\"#FEFECE\" filter=\"url(#fp1iuaate4oto)\" height=\"45.9375\" id=\"E8\" rx=\"10\" ry=\"10\" style=\"stroke: #A80036; stroke-width: 1.5;\" width=\"124\" x=\"71.32\" y=\"316\"/><text fill=\"#000000\" font-family=\"sans-serif\" font-size=\"12\" font-style=\"italic\" lengthAdjust=\"spacingAndGlyphs\" textLength=\"40\" x=\"113.32\" y=\"332.1387\">«part»</text><text fill=\"#000000\" font-family=\"sans-serif\" font-size=\"12\" lengthAdjust=\"spacingAndGlyphs\" textLength=\"118\" x=\"74.32\" y=\"346.1074\">alternative: Engine</text><line style=\"stroke: #A80036; stroke-width: 1.5;\" x1=\"72.32\" x2=\"194.32\" y1=\"353.9375\" y2=\"353.9375\"/></a><!--MD5=[fd4143e9d270a159db93a4ea2a975926]\n",
       "class E9--><a href=\"psysml:9d098c9e-1a7b-415f-a301-c2067e422f2c\" target=\"_top\" title=\"psysml:9d098c9e-1a7b-415f-a301-c2067e422f2c\" xlink:actuate=\"onRequest\" xlink:href=\"psysml:9d098c9e-1a7b-415f-a301-c2067e422f2c\" xlink:show=\"new\" xlink:title=\"psysml:9d098c9e-1a7b-415f-a301-c2067e422f2c\" xlink:type=\"simple\"><rect fill=\"#FEFECE\" filter=\"url(#fp1iuaate4oto)\" height=\"45.9375\" id=\"E9\" rx=\"10\" ry=\"10\" style=\"stroke: #A80036; stroke-width: 1.5;\" width=\"178\" x=\"291.32\" y=\"240\"/><text fill=\"#000000\" font-family=\"sans-serif\" font-size=\"12\" font-style=\"italic\" lengthAdjust=\"spacingAndGlyphs\" textLength=\"40\" x=\"360.32\" y=\"256.1387\">«part»</text><text fill=\"#000000\" font-family=\"sans-serif\" font-size=\"12\" lengthAdjust=\"spacingAndGlyphs\" textLength=\"172\" x=\"294.32\" y=\"270.1074\">selectedAlternative: Engine</text><line style=\"stroke: #A80036; stroke-width: 1.5;\" x1=\"292.32\" x2=\"468.32\" y1=\"277.9375\" y2=\"277.9375\"/></a><!--MD5=[05d275557350bfb9b23a4ef7222b4c39]\n",
       "link E3 to E2--><a href=\"psysml:6d15a19a-180f-471d-b762-c393731ed9f0\" target=\"_top\" title=\"psysml:6d15a19a-180f-471d-b762-c393731ed9f0\" xlink:actuate=\"onRequest\" xlink:href=\"psysml:6d15a19a-180f-471d-b762-c393731ed9f0\" xlink:show=\"new\" xlink:title=\"psysml:6d15a19a-180f-471d-b762-c393731ed9f0\" xlink:type=\"simple\"><path d=\"M415.48,362.01 C376.57,379.54 322.27,404.01 282.71,421.84 \" fill=\"none\" id=\"E3-&gt;E2\" style=\"stroke: #A80036; stroke-width: 1.0;\"/><polygon fill=\"#FFFFFF\" points=\"264.34,430.12,278.7866,415.9321,284.5383,428.696,264.34,430.12\" style=\"stroke: #A80036; stroke-width: 1.0;\"/><ellipse cx=\"284.805\" cy=\"415.4137\" fill=\"#A80036\" rx=\"2\" ry=\"2\" style=\"stroke: #A80036; stroke-width: 1.0;\"/><ellipse cx=\"288.9134\" cy=\"424.5308\" fill=\"#A80036\" rx=\"2\" ry=\"2\" style=\"stroke: #A80036; stroke-width: 1.0;\"/></a><!--MD5=[185131fc0dcab0a4505a2ebe144e961b]\n",
       "link E4 to E2--><a href=\"psysml:247dd621-3d2a-4448-8896-ee4a55c37d47\" target=\"_top\" title=\"psysml:247dd621-3d2a-4448-8896-ee4a55c37d47\" xlink:actuate=\"onRequest\" xlink:href=\"psysml:247dd621-3d2a-4448-8896-ee4a55c37d47\" xlink:show=\"new\" xlink:title=\"psysml:247dd621-3d2a-4448-8896-ee4a55c37d47\" xlink:type=\"simple\"><path d=\"M302.45,362.01 C291.25,375.08 276.74,392.01 263.74,407.17 \" fill=\"none\" id=\"E4-&gt;E2\" style=\"stroke: #A80036; stroke-width: 1.0;\"/><polygon fill=\"#FFFFFF\" points=\"250.47,422.66,257.5188,403.678,268.1491,412.7883,250.47,422.66\" style=\"stroke: #A80036; stroke-width: 1.0;\"/><ellipse cx=\"262.7466\" cy=\"400.6515\" fill=\"#A80036\" rx=\"2\" ry=\"2\" style=\"stroke: #A80036; stroke-width: 1.0;\"/><ellipse cx=\"270.3396\" cy=\"407.1588\" fill=\"#A80036\" rx=\"2\" ry=\"2\" style=\"stroke: #A80036; stroke-width: 1.0;\"/></a><!--MD5=[15ebcb19ae302d9b601edb458606d402]\n",
       "link E5 to E2--><a href=\"psysml:21b7132a-f544-4487-a747-91d198ad447d\" target=\"_top\" title=\"psysml:21b7132a-f544-4487-a747-91d198ad447d\" xlink:actuate=\"onRequest\" xlink:href=\"psysml:21b7132a-f544-4487-a747-91d198ad447d\" xlink:show=\"new\" xlink:title=\"psysml:21b7132a-f544-4487-a747-91d198ad447d\" xlink:type=\"simple\"><path d=\"M239.76,73.22 C177.99,83.96 102.74,108.45 61.32,164 C8.68,234.61 6,287.72 53.32,362 C83.95,410.08 150.5,430.76 192.99,439.32 \" fill=\"none\" id=\"E5-&gt;E2\" style=\"stroke: #A80036; stroke-width: 1.0; stroke-dasharray: 7.0,7.0;\"/><polygon fill=\"#A80036\" points=\"198.04,440.31,189.9738,434.6588,193.1327,439.3514,188.4401,442.5104,198.04,440.31\" style=\"stroke: #A80036; stroke-width: 1.0;\"/><text fill=\"#000000\" font-family=\"sans-serif\" font-size=\"13\" lengthAdjust=\"spacingAndGlyphs\" textLength=\"62\" x=\"24.32\" y=\"267.5669\">«subject»</text></a><!--MD5=[9120cf2e5df3bff93db8f754bbbc09b4]\n",
       "link E5 to E6--><a href=\"psysml:44ec4945-cc63-4e9d-b8df-7b9a76da0bc7\" target=\"_top\" title=\"psysml:44ec4945-cc63-4e9d-b8df-7b9a76da0bc7\" xlink:actuate=\"onRequest\" xlink:href=\"psysml:44ec4945-cc63-4e9d-b8df-7b9a76da0bc7\" xlink:show=\"new\" xlink:title=\"psysml:44ec4945-cc63-4e9d-b8df-7b9a76da0bc7\" xlink:type=\"simple\"><path d=\"M314.56,87.19 C292.2,107.23 259.21,136.8 235.15,158.37 \" fill=\"none\" id=\"E5-&gt;E6\" style=\"stroke: #A80036; stroke-width: 1.0;\"/><polygon fill=\"#A80036\" points=\"228.92,163.95,236.8786,160.8419,232.8725,156.3752,228.92,163.95\" style=\"stroke: #A80036; stroke-width: 1.0;\"/><text fill=\"#000000\" font-family=\"sans-serif\" font-size=\"13\" lengthAdjust=\"spacingAndGlyphs\" textLength=\"73\" x=\"280.32\" y=\"130.0669\">«objective»</text></a><!--MD5=[452b418e7f8a40397a49b8c0a78acc5b]\n",
       "reverse link E5 to E7--><a href=\"psysml:7b858bf3-8f8c-4105-a0db-0d0783f29576\" target=\"_top\" title=\"psysml:7b858bf3-8f8c-4105-a0db-0d0783f29576\" xlink:actuate=\"onRequest\" xlink:href=\"psysml:7b858bf3-8f8c-4105-a0db-0d0783f29576\" xlink:show=\"new\" xlink:title=\"psysml:7b858bf3-8f8c-4105-a0db-0d0783f29576\" xlink:type=\"simple\"><path d=\"M362.14,97.88 C376.71,118.86 395.19,145.48 408.01,163.95 \" fill=\"none\" id=\"E5&lt;-E7\" style=\"stroke: #A80036; stroke-width: 1.0;\"/><polygon fill=\"#A80036\" points=\"354.73,87.19,354.864,94.3999,361.5708,97.0492,361.4368,89.8393,354.73,87.19\" style=\"stroke: #A80036; stroke-width: 1.0;\"/></a><!--MD5=[f1f3f9f2fc535e6147756cb86a7f2e32]\n",
       "link E8 to E2--><a href=\"psysml:2565caae-8b6e-420b-a56a-eab601fd4b55\" target=\"_top\" title=\"psysml:2565caae-8b6e-420b-a56a-eab601fd4b55\" xlink:actuate=\"onRequest\" xlink:href=\"psysml:2565caae-8b6e-420b-a56a-eab601fd4b55\" xlink:show=\"new\" xlink:title=\"psysml:2565caae-8b6e-420b-a56a-eab601fd4b55\" xlink:type=\"simple\"><path d=\"M153.86,362.01 C166.19,375.22 182.2,392.38 196.46,407.65 \" fill=\"none\" id=\"E8-&gt;E2\" style=\"stroke: #A80036; stroke-width: 1.0;\"/><polygon fill=\"#FFFFFF\" points=\"210.47,422.66,192.3921,413.5393,202.6305,403.9907,210.47,422.66\" style=\"stroke: #A80036; stroke-width: 1.0;\"/><ellipse cx=\"189.9671\" cy=\"408.0067\" fill=\"#A80036\" rx=\"2\" ry=\"2\" style=\"stroke: #A80036; stroke-width: 1.0;\"/><ellipse cx=\"197.2802\" cy=\"401.1863\" fill=\"#A80036\" rx=\"2\" ry=\"2\" style=\"stroke: #A80036; stroke-width: 1.0;\"/></a><!--MD5=[dc164f5e8a733ab456ef1add180e9e34]\n",
       "reverse link E7 to E8--><a href=\"psysml:b0f7840c-11d7-45e2-a5a4-bf208bef1113\" target=\"_top\" title=\"psysml:b0f7840c-11d7-45e2-a5a4-bf208bef1113\" xlink:actuate=\"onRequest\" xlink:href=\"psysml:b0f7840c-11d7-45e2-a5a4-bf208bef1113\" xlink:show=\"new\" xlink:title=\"psysml:b0f7840c-11d7-45e2-a5a4-bf208bef1113\" xlink:type=\"simple\"><path d=\"M352.67,208.29 C327.33,216.69 298.96,227.44 274.32,240 C231.96,261.6 187.65,294.33 160.26,315.93 \" fill=\"none\" id=\"E7&lt;-E8\" style=\"stroke: #A80036; stroke-width: 1.0;\"/><polygon fill=\"#FFFFFF\" points=\"365.22,204.24,358.2818,202.2749,353.7994,207.9236,360.7376,209.8887,365.22,204.24\" style=\"stroke: #A80036; stroke-width: 1.0;\"/></a><!--MD5=[5c3bb36fe832a92c7f0e1807dd65209d]\n",
       "link E9 to E2--><a href=\"psysml:a6aa3e55-56ca-44c6-92e8-1089eebb019a\" target=\"_top\" title=\"psysml:a6aa3e55-56ca-44c6-92e8-1089eebb019a\" xlink:actuate=\"onRequest\" xlink:href=\"psysml:a6aa3e55-56ca-44c6-92e8-1089eebb019a\" xlink:show=\"new\" xlink:title=\"psysml:a6aa3e55-56ca-44c6-92e8-1089eebb019a\" xlink:type=\"simple\"><path d=\"M291.19,285.15 C275.57,292.56 260.94,302.55 250.32,316 C231.17,340.25 227.04,375.32 227.36,402.77 \" fill=\"none\" id=\"E9-&gt;E2\" style=\"stroke: #A80036; stroke-width: 1.0;\"/><polygon fill=\"#FFFFFF\" points=\"228.36,422.81,220.4186,404.1838,234.4011,403.4837,228.36,422.81\" style=\"stroke: #A80036; stroke-width: 1.0;\"/><ellipse cx=\"222.131\" cy=\"398.3909\" fill=\"#A80036\" rx=\"2\" ry=\"2\" style=\"stroke: #A80036; stroke-width: 1.0;\"/><ellipse cx=\"232.1185\" cy=\"397.8909\" fill=\"#A80036\" rx=\"2\" ry=\"2\" style=\"stroke: #A80036; stroke-width: 1.0;\"/></a><!--MD5=[9ae28de373ca99bb8a1b38d63370ca7e]\n",
       "reverse link E5 to E9--><a href=\"psysml:9d098c9e-1a7b-415f-a301-c2067e422f2c\" target=\"_top\" title=\"psysml:9d098c9e-1a7b-415f-a301-c2067e422f2c\" xlink:actuate=\"onRequest\" xlink:href=\"psysml:9d098c9e-1a7b-415f-a301-c2067e422f2c\" xlink:show=\"new\" xlink:title=\"psysml:9d098c9e-1a7b-415f-a301-c2067e422f2c\" xlink:type=\"simple\"><path d=\"M416.08,92.77 C447.78,108.48 481.27,131.61 499.32,164 C509.27,181.86 510.51,192.89 499.32,210 C490.86,222.92 478.41,232.65 464.71,239.97 \" fill=\"none\" id=\"E5&lt;-E9\" style=\"stroke: #A80036; stroke-width: 1.0;\"/><polygon fill=\"#FFFFFF\" points=\"404.06,87.11,407.7814,93.2867,414.9142,92.2272,411.1928,86.0505,404.06,87.11\" style=\"stroke: #A80036; stroke-width: 1.0;\"/></a><!--MD5=[ee416e5c1c68cc2b4df0c2aab9768fbb]\n",
       "@startuml\r\n",
       "skinparam wrapWidth 300\r\n",
       "hide circle\r\n",
       "\r\n",
       "package \"TradeStudyTest\" as E1  [[psysml:656cfd98-5664-4901-a86b-535977508953 ]]  {\r\n",
       "comp def \"Engine\" as E2  <<(T,blue)part def>> [[psysml:66c87936-3609-4f97-8f24-8ad3882372ee ]] {\r\n",
       "}\r\n",
       "comp usage \"engine1: Engine\" as E3  <<(T,blue)part>> [[psysml:c974a942-078b-4d34-96c1-8ca70902d898 ]] {\r\n",
       "}\r\n",
       "comp usage \"engine2: Engine\" as E4  <<(T,blue)part>> [[psysml:f4d0ec5b-d124-41e4-9ba9-3cb67b695e7c ]] {\r\n",
       "}\r\n",
       "comp usage \"engineTradeStudy: TradeStudy\" as E5 <<analysis>> [[psysml:2fd52497-3b24-4a66-a5d3-d77cdf8b2acf ]] {\r\n",
       "}\r\n",
       "comp usage \"tradeStudyObjective: MaximizeObjective\" as E6  <<(T,blue)requirement>> [[psysml:2c27f52f-f536-4fc6-bf8d-fd6e3fd13c39 ]] {\r\n",
       "}\r\n",
       "comp usage \"objectiveFunction\" as E7  <<(T,blue)calculation>> [[psysml:7b858bf3-8f8c-4105-a0db-0d0783f29576 ]] {\r\n",
       "}\r\n",
       "comp usage \"alternative: Engine\" as E8  <<(T,blue)part>> [[psysml:b0f7840c-11d7-45e2-a5a4-bf208bef1113 ]] {\r\n",
       "}\r\n",
       "comp usage \"selectedAlternative: Engine\" as E9  <<(T,blue)part>> [[psysml:9d098c9e-1a7b-415f-a301-c2067e422f2c ]] {\r\n",
       "}\r\n",
       "E3 - -:|> E2 [[psysml:6d15a19a-180f-471d-b762-c393731ed9f0 ]] \r\n",
       "E4 - -:|> E2 [[psysml:247dd621-3d2a-4448-8896-ee4a55c37d47 ]] \r\n",
       "E5 ..> E2 [[psysml:21b7132a-f544-4487-a747-91d198ad447d ]] : <<subject>>\r\n",
       "E5 - ->> E6 [[psysml:44ec4945-cc63-4e9d-b8df-7b9a76da0bc7 ]] : <<objective>>\r\n",
       "E5 *- - E7 [[psysml:7b858bf3-8f8c-4105-a0db-0d0783f29576 ]] \r\n",
       "E8 - -:|> E2 [[psysml:2565caae-8b6e-420b-a56a-eab601fd4b55 ]] \r\n",
       "E7 o- - E8 [[psysml:b0f7840c-11d7-45e2-a5a4-bf208bef1113 ]] \r\n",
       "E9 - -:|> E2 [[psysml:a6aa3e55-56ca-44c6-92e8-1089eebb019a ]] \r\n",
       "E5 o- - E9 [[psysml:9d098c9e-1a7b-415f-a301-c2067e422f2c ]] \r\n",
       "}\r\n",
       "@enduml\r\n",
       "\n",
       "PlantUML version 1.2020.13(Sat Jun 13 12:26:38 UTC 2020)\n",
       "(EPL source distribution)\n",
       "Java Runtime: OpenJDK Runtime Environment\n",
       "JVM: OpenJDK 64-Bit Server VM\n",
       "Default Encoding: UTF-8\n",
       "Language: en\n",
       "Country: null\n",
       "--></g></svg>"
      ]
     },
     "execution_count": 29,
     "metadata": {},
     "output_type": "execute_result"
    }
   ],
   "source": [
    "%viz --style=\"STDCOLOR\" --view=\"MIXED\" \"TradeStudyTest\""
   ]
  },
  {
   "cell_type": "code",
   "execution_count": 30,
   "id": "running-student",
   "metadata": {
    "execution": {
     "iopub.execute_input": "2021-03-25T13:19:20.780371Z",
     "iopub.status.busy": "2021-03-25T13:19:20.779716Z",
     "iopub.status.idle": "2021-03-25T13:19:20.968305Z",
     "shell.execute_reply": "2021-03-25T13:19:20.966516Z"
    }
   },
   "outputs": [
    {
     "data": {
      "image/svg+xml": [
       "<?xml version=\"1.0\" encoding=\"UTF-8\" standalone=\"no\"?><svg xmlns=\"http://www.w3.org/2000/svg\" xmlns:xlink=\"http://www.w3.org/1999/xlink\" contentScriptType=\"application/ecmascript\" contentStyleType=\"text/css\" height=\"491px\" preserveAspectRatio=\"none\" style=\"width:636px;height:491px;\" version=\"1.1\" viewBox=\"0 0 636 491\" width=\"636px\" zoomAndPan=\"magnify\"><defs><filter height=\"300%\" id=\"f1fqylhbmp07p0\" width=\"300%\" x=\"-1\" y=\"-1\"><feGaussianBlur result=\"blurOut\" stdDeviation=\"2.0\"/><feColorMatrix in=\"blurOut\" result=\"blurOut2\" type=\"matrix\" values=\"0 0 0 0 0 0 0 0 0 0 0 0 0 0 0 0 0 0 .4 0\"/><feOffset dx=\"4.0\" dy=\"4.0\" in=\"blurOut2\" result=\"blurOut3\"/><feBlend in=\"SourceGraphic\" in2=\"blurOut3\" mode=\"normal\"/></filter></defs><g><!--MD5=[fbc87193dbaf4d95561dea2c320d4a47]\n",
       "cluster E1--><a href=\"psysml:656cfd98-5664-4901-a86b-535977508953\" target=\"_top\" title=\"psysml:656cfd98-5664-4901-a86b-535977508953\" xlink:actuate=\"onRequest\" xlink:href=\"psysml:656cfd98-5664-4901-a86b-535977508953\" xlink:show=\"new\" xlink:title=\"psysml:656cfd98-5664-4901-a86b-535977508953\" xlink:type=\"simple\"><polygon fill=\"#FFFFFF\" filter=\"url(#f1fqylhbmp07p0)\" points=\"20.2,6,152.2,6,159.2,28.2969,614.2,28.2969,614.2,479,20.2,479,20.2,6\" style=\"stroke: #000000; stroke-width: 1.5;\"/><line style=\"stroke: #000000; stroke-width: 1.5;\" x1=\"20.2\" x2=\"159.2\" y1=\"28.2969\" y2=\"28.2969\"/><text fill=\"#000000\" font-family=\"sans-serif\" font-size=\"14\" font-weight=\"bold\" lengthAdjust=\"spacingAndGlyphs\" textLength=\"126\" x=\"24.2\" y=\"20.9951\">TradeStudyTest</text></a><!--MD5=[b4997ac47864f28c2f74865a473b2911]\n",
       "class E2--><a href=\"psysml:66c87936-3609-4f97-8f24-8ad3882372ee\" target=\"_top\" title=\"psysml:66c87936-3609-4f97-8f24-8ad3882372ee\" xlink:actuate=\"onRequest\" xlink:href=\"psysml:66c87936-3609-4f97-8f24-8ad3882372ee\" xlink:show=\"new\" xlink:title=\"psysml:66c87936-3609-4f97-8f24-8ad3882372ee\" xlink:type=\"simple\"><rect fill=\"#FEFECE\" filter=\"url(#f1fqylhbmp07p0)\" height=\"40\" id=\"E2\" style=\"stroke: #A80036; stroke-width: 1.5;\" width=\"75\" x=\"221.7\" y=\"423\"/><ellipse cx=\"236.7\" cy=\"439\" fill=\"#008000\" rx=\"11\" ry=\"11\" style=\"stroke: #A80036; stroke-width: 1.0;\"/><path d=\"M235.6063,439.375 L235.6063,443.0469 L237.2313,443.0469 Q238.4031,443.0469 238.8719,442.6563 Q239.3406,442.25 239.3406,441.25 Q239.3406,440.25 238.8406,439.8125 Q238.3563,439.375 237.2313,439.375 L235.6063,439.375 Z M235.6063,434.5469 L235.6063,437.4219 L237.2313,437.4219 Q238.1531,437.4219 238.5438,437.0938 Q238.95,436.75 238.95,436 Q238.95,435.2344 238.5438,434.8906 Q238.1375,434.5469 237.2313,434.5469 L235.6063,434.5469 Z M233.2313,432.5938 L237.2313,432.5938 Q239.2938,432.5938 240.3406,433.375 Q241.3875,434.1563 241.3875,435.7188 Q241.3875,436.9219 240.7625,437.5938 Q240.1531,438.2656 238.9656,438.375 Q240.3875,438.5156 241.1063,439.3281 Q241.825,440.1406 241.825,441.5938 Q241.825,443.3906 240.7469,444.2031 Q239.6688,445 237.2313,445 L233.2313,445 L233.2313,432.5938 Z \"/><text fill=\"#000000\" font-family=\"sans-serif\" font-size=\"12\" lengthAdjust=\"spacingAndGlyphs\" textLength=\"43\" x=\"250.7\" y=\"443.1543\">Engine</text><line style=\"stroke: #A80036; stroke-width: 1.5;\" x1=\"222.7\" x2=\"295.7\" y1=\"455\" y2=\"455\"/></a><!--MD5=[09b614a08d8cba4a07c9adeb5e0fee81]\n",
       "class E3--><a href=\"psysml:c974a942-078b-4d34-96c1-8ca70902d898\" target=\"_top\" title=\"psysml:c974a942-078b-4d34-96c1-8ca70902d898\" xlink:actuate=\"onRequest\" xlink:href=\"psysml:c974a942-078b-4d34-96c1-8ca70902d898\" xlink:show=\"new\" xlink:title=\"psysml:c974a942-078b-4d34-96c1-8ca70902d898\" xlink:type=\"simple\"><rect fill=\"#FEFECE\" filter=\"url(#f1fqylhbmp07p0)\" height=\"45.9375\" id=\"E3\" rx=\"10\" ry=\"10\" style=\"stroke: #A80036; stroke-width: 1.5;\" width=\"134\" x=\"464.2\" y=\"316\"/><ellipse cx=\"479.2\" cy=\"334.9688\" fill=\"#32CD32\" rx=\"11\" ry=\"11\" style=\"stroke: #A80036; stroke-width: 1.0;\"/><path d=\"M478.9969,330.6406 L478.9969,334.2656 L479.9969,334.2656 Q481.2,334.2656 481.6844,333.8594 Q482.1688,333.4531 482.1688,332.4531 Q482.1688,331.4531 481.6844,331.0469 Q481.2,330.6406 479.9969,330.6406 L478.9969,330.6406 Z M476.5438,328.5781 L479.9031,328.5781 Q482.4656,328.5781 483.5906,329.5 Q484.7156,330.4063 484.7156,332.4531 Q484.7156,334.5 483.5906,335.4219 Q482.4656,336.3281 479.9031,336.3281 L478.9969,336.3281 L478.9969,340.9688 L476.5438,340.9688 L476.5438,328.5781 Z \"/><text fill=\"#000000\" font-family=\"sans-serif\" font-size=\"12\" font-style=\"italic\" lengthAdjust=\"spacingAndGlyphs\" textLength=\"40\" x=\"524.2\" y=\"332.1387\">«part»</text><text fill=\"#000000\" font-family=\"sans-serif\" font-size=\"12\" lengthAdjust=\"spacingAndGlyphs\" textLength=\"102\" x=\"493.2\" y=\"346.1074\">engine1: Engine</text><line style=\"stroke: #A80036; stroke-width: 1.5;\" x1=\"465.2\" x2=\"597.2\" y1=\"353.9375\" y2=\"353.9375\"/></a><!--MD5=[ebbe1d658d1005bcc118a6aa81145e00]\n",
       "class E4--><a href=\"psysml:f4d0ec5b-d124-41e4-9ba9-3cb67b695e7c\" target=\"_top\" title=\"psysml:f4d0ec5b-d124-41e4-9ba9-3cb67b695e7c\" xlink:actuate=\"onRequest\" xlink:href=\"psysml:f4d0ec5b-d124-41e4-9ba9-3cb67b695e7c\" xlink:show=\"new\" xlink:title=\"psysml:f4d0ec5b-d124-41e4-9ba9-3cb67b695e7c\" xlink:type=\"simple\"><rect fill=\"#FEFECE\" filter=\"url(#f1fqylhbmp07p0)\" height=\"45.9375\" id=\"E4\" rx=\"10\" ry=\"10\" style=\"stroke: #A80036; stroke-width: 1.5;\" width=\"134\" x=\"295.2\" y=\"316\"/><ellipse cx=\"310.2\" cy=\"334.9688\" fill=\"#32CD32\" rx=\"11\" ry=\"11\" style=\"stroke: #A80036; stroke-width: 1.0;\"/><path d=\"M309.9969,330.6406 L309.9969,334.2656 L310.9969,334.2656 Q312.2,334.2656 312.6844,333.8594 Q313.1688,333.4531 313.1688,332.4531 Q313.1688,331.4531 312.6844,331.0469 Q312.2,330.6406 310.9969,330.6406 L309.9969,330.6406 Z M307.5438,328.5781 L310.9031,328.5781 Q313.4656,328.5781 314.5906,329.5 Q315.7156,330.4063 315.7156,332.4531 Q315.7156,334.5 314.5906,335.4219 Q313.4656,336.3281 310.9031,336.3281 L309.9969,336.3281 L309.9969,340.9688 L307.5438,340.9688 L307.5438,328.5781 Z \"/><text fill=\"#000000\" font-family=\"sans-serif\" font-size=\"12\" font-style=\"italic\" lengthAdjust=\"spacingAndGlyphs\" textLength=\"40\" x=\"355.2\" y=\"332.1387\">«part»</text><text fill=\"#000000\" font-family=\"sans-serif\" font-size=\"12\" lengthAdjust=\"spacingAndGlyphs\" textLength=\"102\" x=\"324.2\" y=\"346.1074\">engine2: Engine</text><line style=\"stroke: #A80036; stroke-width: 1.5;\" x1=\"296.2\" x2=\"428.2\" y1=\"353.9375\" y2=\"353.9375\"/></a><!--MD5=[270fce915f116d4de14055a7c1d9a0f3]\n",
       "class E5--><a href=\"psysml:2fd52497-3b24-4a66-a5d3-d77cdf8b2acf\" target=\"_top\" title=\"psysml:2fd52497-3b24-4a66-a5d3-d77cdf8b2acf\" xlink:actuate=\"onRequest\" xlink:href=\"psysml:2fd52497-3b24-4a66-a5d3-d77cdf8b2acf\" xlink:show=\"new\" xlink:title=\"psysml:2fd52497-3b24-4a66-a5d3-d77cdf8b2acf\" xlink:type=\"simple\"><rect fill=\"#FEFECE\" filter=\"url(#f1fqylhbmp07p0)\" height=\"45.9375\" id=\"E5\" rx=\"10\" ry=\"10\" style=\"stroke: #A80036; stroke-width: 1.5;\" width=\"225\" x=\"283.7\" y=\"41\"/><ellipse cx=\"298.7\" cy=\"59.9688\" fill=\"#B6DBBB\" rx=\"11\" ry=\"11\" style=\"stroke: #A80036; stroke-width: 1.0;\"/><path d=\"M294.575,61.8906 L294.575,54.0781 L297.0281,54.0781 L297.0281,62.5156 Q297.0281,63.4375 297.4969,63.9688 Q297.9813,64.5 298.8094,64.5 Q299.6531,64.5 300.1219,63.9688 Q300.5906,63.4375 300.5906,62.5156 L300.5906,54.0781 L303.0438,54.0781 L303.0438,61.8906 Q303.0438,64.4219 302.0438,65.5625 Q301.0438,66.7031 298.8094,66.7031 Q296.5906,66.7031 295.575,65.5625 Q294.575,64.4219 294.575,61.8906 Z \"/><text fill=\"#000000\" font-family=\"sans-serif\" font-size=\"12\" font-style=\"italic\" lengthAdjust=\"spacingAndGlyphs\" textLength=\"64\" x=\"377.2\" y=\"57.1387\">«analysis»</text><text fill=\"#000000\" font-family=\"sans-serif\" font-size=\"12\" lengthAdjust=\"spacingAndGlyphs\" textLength=\"193\" x=\"312.7\" y=\"71.1074\">engineTradeStudy: TradeStudy</text><line style=\"stroke: #A80036; stroke-width: 1.5;\" x1=\"284.7\" x2=\"507.7\" y1=\"78.9375\" y2=\"78.9375\"/></a><!--MD5=[60a26617385b1d2d0262a64233df1f8d]\n",
       "class E6--><a href=\"psysml:2c27f52f-f536-4fc6-bf8d-fd6e3fd13c39\" target=\"_top\" title=\"psysml:2c27f52f-f536-4fc6-bf8d-fd6e3fd13c39\" xlink:actuate=\"onRequest\" xlink:href=\"psysml:2c27f52f-f536-4fc6-bf8d-fd6e3fd13c39\" xlink:show=\"new\" xlink:title=\"psysml:2c27f52f-f536-4fc6-bf8d-fd6e3fd13c39\" xlink:type=\"simple\"><rect fill=\"#FEFECE\" filter=\"url(#f1fqylhbmp07p0)\" height=\"45.9375\" id=\"E6\" rx=\"10\" ry=\"10\" style=\"stroke: #A80036; stroke-width: 1.5;\" width=\"277\" x=\"106.7\" y=\"164\"/><ellipse cx=\"121.7\" cy=\"182.9688\" fill=\"#FFA500\" rx=\"11\" ry=\"11\" style=\"stroke: #A80036; stroke-width: 1.0;\"/><path d=\"M117.575,184.8906 L117.575,177.0781 L120.0281,177.0781 L120.0281,185.5156 Q120.0281,186.4375 120.4969,186.9688 Q120.9813,187.5 121.8094,187.5 Q122.6531,187.5 123.1219,186.9688 Q123.5906,186.4375 123.5906,185.5156 L123.5906,177.0781 L126.0438,177.0781 L126.0438,184.8906 Q126.0438,187.4219 125.0438,188.5625 Q124.0438,189.7031 121.8094,189.7031 Q119.5906,189.7031 118.575,188.5625 Q117.575,187.4219 117.575,184.8906 Z \"/><text fill=\"#000000\" font-family=\"sans-serif\" font-size=\"12\" font-style=\"italic\" lengthAdjust=\"spacingAndGlyphs\" textLength=\"91\" x=\"212.7\" y=\"180.1387\">«requirement»</text><text fill=\"#000000\" font-family=\"sans-serif\" font-size=\"12\" lengthAdjust=\"spacingAndGlyphs\" textLength=\"245\" x=\"135.7\" y=\"194.1074\">tradeStudyObjective: MaximizeObjective</text><line style=\"stroke: #A80036; stroke-width: 1.5;\" x1=\"107.7\" x2=\"382.7\" y1=\"201.9375\" y2=\"201.9375\"/></a><!--MD5=[2156ba9850f5573cc1fc38a6a4b2f02b]\n",
       "class E7--><a href=\"psysml:7b858bf3-8f8c-4105-a0db-0d0783f29576\" target=\"_top\" title=\"psysml:7b858bf3-8f8c-4105-a0db-0d0783f29576\" xlink:actuate=\"onRequest\" xlink:href=\"psysml:7b858bf3-8f8c-4105-a0db-0d0783f29576\" xlink:show=\"new\" xlink:title=\"psysml:7b858bf3-8f8c-4105-a0db-0d0783f29576\" xlink:type=\"simple\"><rect fill=\"#FEFECE\" filter=\"url(#f1fqylhbmp07p0)\" height=\"45.9375\" id=\"E7\" rx=\"10\" ry=\"10\" style=\"stroke: #A80036; stroke-width: 1.5;\" width=\"142\" x=\"419.2\" y=\"164\"/><ellipse cx=\"434.2\" cy=\"182.9688\" fill=\"#FFA500\" rx=\"11\" ry=\"11\" style=\"stroke: #A80036; stroke-width: 1.0;\"/><path d=\"M430.075,184.8906 L430.075,177.0781 L432.5281,177.0781 L432.5281,185.5156 Q432.5281,186.4375 432.9969,186.9688 Q433.4813,187.5 434.3094,187.5 Q435.1531,187.5 435.6219,186.9688 Q436.0906,186.4375 436.0906,185.5156 L436.0906,177.0781 L438.5438,177.0781 L438.5438,184.8906 Q438.5438,187.4219 437.5438,188.5625 Q436.5438,189.7031 434.3094,189.7031 Q432.0906,189.7031 431.075,188.5625 Q430.075,187.4219 430.075,184.8906 Z \"/><text fill=\"#000000\" font-family=\"sans-serif\" font-size=\"12\" font-style=\"italic\" lengthAdjust=\"spacingAndGlyphs\" textLength=\"82\" x=\"462.2\" y=\"180.1387\">«calculation»</text><text fill=\"#000000\" font-family=\"sans-serif\" font-size=\"12\" lengthAdjust=\"spacingAndGlyphs\" textLength=\"110\" x=\"448.2\" y=\"194.1074\">objectiveFunction</text><line style=\"stroke: #A80036; stroke-width: 1.5;\" x1=\"420.2\" x2=\"560.2\" y1=\"201.9375\" y2=\"201.9375\"/></a><!--MD5=[b9389687b975829384b498ac4b7476b2]\n",
       "class E8--><a href=\"psysml:b0f7840c-11d7-45e2-a5a4-bf208bef1113\" target=\"_top\" title=\"psysml:b0f7840c-11d7-45e2-a5a4-bf208bef1113\" xlink:actuate=\"onRequest\" xlink:href=\"psysml:b0f7840c-11d7-45e2-a5a4-bf208bef1113\" xlink:show=\"new\" xlink:title=\"psysml:b0f7840c-11d7-45e2-a5a4-bf208bef1113\" xlink:type=\"simple\"><rect fill=\"#FEFECE\" filter=\"url(#f1fqylhbmp07p0)\" height=\"45.9375\" id=\"E8\" rx=\"10\" ry=\"10\" style=\"stroke: #A80036; stroke-width: 1.5;\" width=\"150\" x=\"73.2\" y=\"316\"/><ellipse cx=\"88.2\" cy=\"334.9688\" fill=\"#32CD32\" rx=\"11\" ry=\"11\" style=\"stroke: #A80036; stroke-width: 1.0;\"/><path d=\"M87.9969,330.6406 L87.9969,334.2656 L88.9969,334.2656 Q90.2,334.2656 90.6844,333.8594 Q91.1688,333.4531 91.1688,332.4531 Q91.1688,331.4531 90.6844,331.0469 Q90.2,330.6406 88.9969,330.6406 L87.9969,330.6406 Z M85.5438,328.5781 L88.9031,328.5781 Q91.4656,328.5781 92.5906,329.5 Q93.7156,330.4063 93.7156,332.4531 Q93.7156,334.5 92.5906,335.4219 Q91.4656,336.3281 88.9031,336.3281 L87.9969,336.3281 L87.9969,340.9688 L85.5438,340.9688 L85.5438,328.5781 Z \"/><text fill=\"#000000\" font-family=\"sans-serif\" font-size=\"12\" font-style=\"italic\" lengthAdjust=\"spacingAndGlyphs\" textLength=\"40\" x=\"141.2\" y=\"332.1387\">«part»</text><text fill=\"#000000\" font-family=\"sans-serif\" font-size=\"12\" lengthAdjust=\"spacingAndGlyphs\" textLength=\"118\" x=\"102.2\" y=\"346.1074\">alternative: Engine</text><line style=\"stroke: #A80036; stroke-width: 1.5;\" x1=\"74.2\" x2=\"222.2\" y1=\"353.9375\" y2=\"353.9375\"/></a><!--MD5=[fd4143e9d270a159db93a4ea2a975926]\n",
       "class E9--><a href=\"psysml:9d098c9e-1a7b-415f-a301-c2067e422f2c\" target=\"_top\" title=\"psysml:9d098c9e-1a7b-415f-a301-c2067e422f2c\" xlink:actuate=\"onRequest\" xlink:href=\"psysml:9d098c9e-1a7b-415f-a301-c2067e422f2c\" xlink:show=\"new\" xlink:title=\"psysml:9d098c9e-1a7b-415f-a301-c2067e422f2c\" xlink:type=\"simple\"><rect fill=\"#FEFECE\" filter=\"url(#f1fqylhbmp07p0)\" height=\"45.9375\" id=\"E9\" rx=\"10\" ry=\"10\" style=\"stroke: #A80036; stroke-width: 1.5;\" width=\"204\" x=\"275.2\" y=\"240\"/><ellipse cx=\"290.2\" cy=\"258.9688\" fill=\"#32CD32\" rx=\"11\" ry=\"11\" style=\"stroke: #A80036; stroke-width: 1.0;\"/><path d=\"M289.9969,254.6406 L289.9969,258.2656 L290.9969,258.2656 Q292.2,258.2656 292.6844,257.8594 Q293.1688,257.4531 293.1688,256.4531 Q293.1688,255.4531 292.6844,255.0469 Q292.2,254.6406 290.9969,254.6406 L289.9969,254.6406 Z M287.5438,252.5781 L290.9031,252.5781 Q293.4656,252.5781 294.5906,253.5 Q295.7156,254.4063 295.7156,256.4531 Q295.7156,258.5 294.5906,259.4219 Q293.4656,260.3281 290.9031,260.3281 L289.9969,260.3281 L289.9969,264.9688 L287.5438,264.9688 L287.5438,252.5781 Z \"/><text fill=\"#000000\" font-family=\"sans-serif\" font-size=\"12\" font-style=\"italic\" lengthAdjust=\"spacingAndGlyphs\" textLength=\"40\" x=\"370.2\" y=\"256.1387\">«part»</text><text fill=\"#000000\" font-family=\"sans-serif\" font-size=\"12\" lengthAdjust=\"spacingAndGlyphs\" textLength=\"172\" x=\"304.2\" y=\"270.1074\">selectedAlternative: Engine</text><line style=\"stroke: #A80036; stroke-width: 1.5;\" x1=\"276.2\" x2=\"478.2\" y1=\"277.9375\" y2=\"277.9375\"/></a><!--MD5=[05d275557350bfb9b23a4ef7222b4c39]\n",
       "link E3 to E2--><a href=\"psysml:6d15a19a-180f-471d-b762-c393731ed9f0\" target=\"_top\" title=\"psysml:6d15a19a-180f-471d-b762-c393731ed9f0\" xlink:actuate=\"onRequest\" xlink:href=\"psysml:6d15a19a-180f-471d-b762-c393731ed9f0\" xlink:show=\"new\" xlink:title=\"psysml:6d15a19a-180f-471d-b762-c393731ed9f0\" xlink:type=\"simple\"><path d=\"M472.51,362.01 C426.12,379.4 361.76,403.54 315.9,420.74 \" fill=\"none\" id=\"E3-&gt;E2\" style=\"stroke: #A80036; stroke-width: 1.0;\"/><polygon fill=\"#FFFFFF\" points=\"296.87,427.87,312.2079,414.6508,317.1182,427.7614,296.87,427.87\" style=\"stroke: #A80036; stroke-width: 1.0;\"/><ellipse cx=\"318.2473\" cy=\"414.5245\" fill=\"#A80036\" rx=\"2\" ry=\"2\" style=\"stroke: #A80036; stroke-width: 1.0;\"/><ellipse cx=\"321.7546\" cy=\"423.8893\" fill=\"#A80036\" rx=\"2\" ry=\"2\" style=\"stroke: #A80036; stroke-width: 1.0;\"/></a><!--MD5=[185131fc0dcab0a4505a2ebe144e961b]\n",
       "link E4 to E2--><a href=\"psysml:247dd621-3d2a-4448-8896-ee4a55c37d47\" target=\"_top\" title=\"psysml:247dd621-3d2a-4448-8896-ee4a55c37d47\" xlink:actuate=\"onRequest\" xlink:href=\"psysml:247dd621-3d2a-4448-8896-ee4a55c37d47\" xlink:show=\"new\" xlink:title=\"psysml:247dd621-3d2a-4448-8896-ee4a55c37d47\" xlink:type=\"simple\"><path d=\"M339.85,362.13 C326.09,375.76 308.2,393.47 292.76,408.76 \" fill=\"none\" id=\"E4-&gt;E2\" style=\"stroke: #A80036; stroke-width: 1.0;\"/><polygon fill=\"#FFFFFF\" points=\"278.39,423,286.968,404.6583,296.8174,414.6077,278.39,423\" style=\"stroke: #A80036; stroke-width: 1.0;\"/><ellipse cx=\"292.4259\" cy=\"402.0695\" fill=\"#A80036\" rx=\"2\" ry=\"2\" style=\"stroke: #A80036; stroke-width: 1.0;\"/><ellipse cx=\"299.4612\" cy=\"409.1762\" fill=\"#A80036\" rx=\"2\" ry=\"2\" style=\"stroke: #A80036; stroke-width: 1.0;\"/></a><!--MD5=[15ebcb19ae302d9b601edb458606d402]\n",
       "link E5 to E2--><a href=\"psysml:21b7132a-f544-4487-a747-91d198ad447d\" target=\"_top\" title=\"psysml:21b7132a-f544-4487-a747-91d198ad447d\" xlink:actuate=\"onRequest\" xlink:href=\"psysml:21b7132a-f544-4487-a747-91d198ad447d\" xlink:show=\"new\" xlink:title=\"psysml:21b7132a-f544-4487-a747-91d198ad447d\" xlink:type=\"simple\"><path d=\"M283.33,73.88 C217.7,84.99 138.47,109.64 89.2,164 C29.29,230.1 6,288.25 56.2,362 C91.99,414.57 168.14,432.6 216.32,438.78 \" fill=\"none\" id=\"E5-&gt;E2\" style=\"stroke: #A80036; stroke-width: 1.0; stroke-dasharray: 7.0,7.0;\"/><polygon fill=\"#A80036\" points=\"221.48,439.41,213.0385,434.3365,216.5177,438.7968,212.0574,442.2761,221.48,439.41\" style=\"stroke: #A80036; stroke-width: 1.0;\"/><text fill=\"#000000\" font-family=\"sans-serif\" font-size=\"13\" lengthAdjust=\"spacingAndGlyphs\" textLength=\"62\" x=\"39.2\" y=\"267.5669\">«subject»</text></a><!--MD5=[9120cf2e5df3bff93db8f754bbbc09b4]\n",
       "link E5 to E6--><a href=\"psysml:44ec4945-cc63-4e9d-b8df-7b9a76da0bc7\" target=\"_top\" title=\"psysml:44ec4945-cc63-4e9d-b8df-7b9a76da0bc7\" xlink:actuate=\"onRequest\" xlink:href=\"psysml:44ec4945-cc63-4e9d-b8df-7b9a76da0bc7\" xlink:show=\"new\" xlink:title=\"psysml:44ec4945-cc63-4e9d-b8df-7b9a76da0bc7\" xlink:type=\"simple\"><path d=\"M368.5,87.19 C343.28,107.41 305.97,137.31 279,158.92 \" fill=\"none\" id=\"E5-&gt;E6\" style=\"stroke: #A80036; stroke-width: 1.0;\"/><polygon fill=\"#A80036\" points=\"272.72,163.95,280.8396,161.2905,277.0888,156.6074,272.72,163.95\" style=\"stroke: #A80036; stroke-width: 1.0;\"/><text fill=\"#000000\" font-family=\"sans-serif\" font-size=\"13\" lengthAdjust=\"spacingAndGlyphs\" textLength=\"73\" x=\"330.2\" y=\"130.0669\">«objective»</text></a><!--MD5=[452b418e7f8a40397a49b8c0a78acc5b]\n",
       "reverse link E5 to E7--><a href=\"psysml:7b858bf3-8f8c-4105-a0db-0d0783f29576\" target=\"_top\" title=\"psysml:7b858bf3-8f8c-4105-a0db-0d0783f29576\" xlink:actuate=\"onRequest\" xlink:href=\"psysml:7b858bf3-8f8c-4105-a0db-0d0783f29576\" xlink:show=\"new\" xlink:title=\"psysml:7b858bf3-8f8c-4105-a0db-0d0783f29576\" xlink:type=\"simple\"><path d=\"M421.52,97.59 C437.85,118.61 458.66,145.4 473.07,163.95 \" fill=\"none\" id=\"E5&lt;-E7\" style=\"stroke: #A80036; stroke-width: 1.0;\"/><polygon fill=\"#A80036\" points=\"413.44,87.19,413.9586,94.3824,420.7972,96.67,420.2786,89.4776,413.44,87.19\" style=\"stroke: #A80036; stroke-width: 1.0;\"/></a><!--MD5=[f1f3f9f2fc535e6147756cb86a7f2e32]\n",
       "link E8 to E2--><a href=\"psysml:2565caae-8b6e-420b-a56a-eab601fd4b55\" target=\"_top\" title=\"psysml:2565caae-8b6e-420b-a56a-eab601fd4b55\" xlink:actuate=\"onRequest\" xlink:href=\"psysml:2565caae-8b6e-420b-a56a-eab601fd4b55\" xlink:show=\"new\" xlink:title=\"psysml:2565caae-8b6e-420b-a56a-eab601fd4b55\" xlink:type=\"simple\"><path d=\"M172.29,362.13 C187.26,375.9 206.8,393.84 223.55,409.24 \" fill=\"none\" id=\"E8-&gt;E2\" style=\"stroke: #A80036; stroke-width: 1.0;\"/><polygon fill=\"#FFFFFF\" points=\"238.52,423,219.7918,415.3024,229.2623,404.9918,238.52,423\" style=\"stroke: #A80036; stroke-width: 1.0;\"/><ellipse cx=\"216.9468\" cy=\"409.9736\" fill=\"#A80036\" rx=\"2\" ry=\"2\" style=\"stroke: #A80036; stroke-width: 1.0;\"/><ellipse cx=\"223.7115\" cy=\"402.6089\" fill=\"#A80036\" rx=\"2\" ry=\"2\" style=\"stroke: #A80036; stroke-width: 1.0;\"/></a><!--MD5=[dc164f5e8a733ab456ef1add180e9e34]\n",
       "reverse link E7 to E8--><a href=\"psysml:b0f7840c-11d7-45e2-a5a4-bf208bef1113\" target=\"_top\" title=\"psysml:b0f7840c-11d7-45e2-a5a4-bf208bef1113\" xlink:actuate=\"onRequest\" xlink:href=\"psysml:b0f7840c-11d7-45e2-a5a4-bf208bef1113\" xlink:show=\"new\" xlink:title=\"psysml:b0f7840c-11d7-45e2-a5a4-bf208bef1113\" xlink:type=\"simple\"><path d=\"M406.09,208.88 C404.45,209.26 402.81,209.63 401.2,210 C337.89,224.46 316.18,210.75 258.2,240 C221.21,258.66 186.98,292.95 166.84,315.61 \" fill=\"none\" id=\"E7&lt;-E8\" style=\"stroke: #A80036; stroke-width: 1.0;\"/><polygon fill=\"#FFFFFF\" points=\"418.84,205.88,412.0846,203.3572,407.1576,208.6226,413.913,211.1454,418.84,205.88\" style=\"stroke: #A80036; stroke-width: 1.0;\"/></a><!--MD5=[5c3bb36fe832a92c7f0e1807dd65209d]\n",
       "link E9 to E2--><a href=\"psysml:a6aa3e55-56ca-44c6-92e8-1089eebb019a\" target=\"_top\" title=\"psysml:a6aa3e55-56ca-44c6-92e8-1089eebb019a\" xlink:actuate=\"onRequest\" xlink:href=\"psysml:a6aa3e55-56ca-44c6-92e8-1089eebb019a\" xlink:show=\"new\" xlink:title=\"psysml:a6aa3e55-56ca-44c6-92e8-1089eebb019a\" xlink:type=\"simple\"><path d=\"M313.67,286.14 C300.09,293.64 287.15,303.42 278.2,316 C260.36,341.07 256.3,376.08 256.31,402.84 \" fill=\"none\" id=\"E9-&gt;E2\" style=\"stroke: #A80036; stroke-width: 1.0;\"/><polygon fill=\"#FFFFFF\" points=\"257.06,422.97,249.3591,404.2431,263.3494,403.7231,257.06,422.97\" style=\"stroke: #A80036; stroke-width: 1.0;\"/><ellipse cx=\"251.146\" cy=\"398.4728\" fill=\"#A80036\" rx=\"2\" ry=\"2\" style=\"stroke: #A80036; stroke-width: 1.0;\"/><ellipse cx=\"261.1391\" cy=\"398.1013\" fill=\"#A80036\" rx=\"2\" ry=\"2\" style=\"stroke: #A80036; stroke-width: 1.0;\"/></a><!--MD5=[9ae28de373ca99bb8a1b38d63370ca7e]\n",
       "reverse link E5 to E9--><a href=\"psysml:9d098c9e-1a7b-415f-a301-c2067e422f2c\" target=\"_top\" title=\"psysml:9d098c9e-1a7b-415f-a301-c2067e422f2c\" xlink:actuate=\"onRequest\" xlink:href=\"psysml:9d098c9e-1a7b-415f-a301-c2067e422f2c\" xlink:show=\"new\" xlink:title=\"psysml:9d098c9e-1a7b-415f-a301-c2067e422f2c\" xlink:type=\"simple\"><path d=\"M477.44,91.83 C542.71,117.79 617.64,160.42 579.2,210 C566.19,226.78 522.73,239.1 479.43,247.52 \" fill=\"none\" id=\"E5&lt;-E9\" style=\"stroke: #A80036; stroke-width: 1.0;\"/><polygon fill=\"#FFFFFF\" points=\"464.97,87.02,469.1253,92.9135,476.1637,91.3445,472.0083,85.451,464.97,87.02\" style=\"stroke: #A80036; stroke-width: 1.0;\"/></a><!--MD5=[16280a16cba2ef5368d9a76d29f726da]\n",
       "@startuml\r\n",
       " \r\n",
       "package \"TradeStudyTest\" as E1  [[psysml:656cfd98-5664-4901-a86b-535977508953 ]]  {\r\n",
       "comp def \"Engine\" as E2  << (B,green) >> [[psysml:66c87936-3609-4f97-8f24-8ad3882372ee ]] {\r\n",
       "}\r\n",
       "comp usage \"engine1: Engine\" as E3  << (P,limegreen) part>> [[psysml:c974a942-078b-4d34-96c1-8ca70902d898 ]] {\r\n",
       "}\r\n",
       "comp usage \"engine2: Engine\" as E4  << (P,limegreen) part>> [[psysml:f4d0ec5b-d124-41e4-9ba9-3cb67b695e7c ]] {\r\n",
       "}\r\n",
       "comp usage \"engineTradeStudy: TradeStudy\" as E5 <<analysis>> [[psysml:2fd52497-3b24-4a66-a5d3-d77cdf8b2acf ]] {\r\n",
       "}\r\n",
       "comp usage \"tradeStudyObjective: MaximizeObjective\" as E6  <<(U,orange)requirement>> [[psysml:2c27f52f-f536-4fc6-bf8d-fd6e3fd13c39 ]] {\r\n",
       "}\r\n",
       "comp usage \"objectiveFunction\" as E7  <<(U,orange)calculation>> [[psysml:7b858bf3-8f8c-4105-a0db-0d0783f29576 ]] {\r\n",
       "}\r\n",
       "comp usage \"alternative: Engine\" as E8  << (P,limegreen) part>> [[psysml:b0f7840c-11d7-45e2-a5a4-bf208bef1113 ]] {\r\n",
       "}\r\n",
       "comp usage \"selectedAlternative: Engine\" as E9  << (P,limegreen) part>> [[psysml:9d098c9e-1a7b-415f-a301-c2067e422f2c ]] {\r\n",
       "}\r\n",
       "E3 - -:|> E2 [[psysml:6d15a19a-180f-471d-b762-c393731ed9f0 ]] \r\n",
       "E4 - -:|> E2 [[psysml:247dd621-3d2a-4448-8896-ee4a55c37d47 ]] \r\n",
       "E5 ..> E2 [[psysml:21b7132a-f544-4487-a747-91d198ad447d ]] : <<subject>>\r\n",
       "E5 - ->> E6 [[psysml:44ec4945-cc63-4e9d-b8df-7b9a76da0bc7 ]] : <<objective>>\r\n",
       "E5 *- - E7 [[psysml:7b858bf3-8f8c-4105-a0db-0d0783f29576 ]] \r\n",
       "E8 - -:|> E2 [[psysml:2565caae-8b6e-420b-a56a-eab601fd4b55 ]] \r\n",
       "E7 o- - E8 [[psysml:b0f7840c-11d7-45e2-a5a4-bf208bef1113 ]] \r\n",
       "E9 - -:|> E2 [[psysml:a6aa3e55-56ca-44c6-92e8-1089eebb019a ]] \r\n",
       "E5 o- - E9 [[psysml:9d098c9e-1a7b-415f-a301-c2067e422f2c ]] \r\n",
       "}\r\n",
       "@enduml\r\n",
       "\n",
       "PlantUML version 1.2020.13(Sat Jun 13 12:26:38 UTC 2020)\n",
       "(EPL source distribution)\n",
       "Java Runtime: OpenJDK Runtime Environment\n",
       "JVM: OpenJDK 64-Bit Server VM\n",
       "Default Encoding: UTF-8\n",
       "Language: en\n",
       "Country: null\n",
       "--></g></svg>"
      ]
     },
     "execution_count": 30,
     "metadata": {},
     "output_type": "execute_result"
    }
   ],
   "source": [
    "%viz --style=\"PLANTUML\" --view=\"Default\" \"TradeStudyTest\""
   ]
  },
  {
   "cell_type": "code",
   "execution_count": 31,
   "id": "moral-affect",
   "metadata": {
    "execution": {
     "iopub.execute_input": "2021-03-25T13:19:21.019766Z",
     "iopub.status.busy": "2021-03-25T13:19:21.018611Z",
     "iopub.status.idle": "2021-03-25T13:19:21.188006Z",
     "shell.execute_reply": "2021-03-25T13:19:21.186185Z"
    }
   },
   "outputs": [
    {
     "data": {
      "image/svg+xml": [
       "<?xml version=\"1.0\" encoding=\"UTF-8\" standalone=\"no\"?><svg xmlns=\"http://www.w3.org/2000/svg\" xmlns:xlink=\"http://www.w3.org/1999/xlink\" contentScriptType=\"application/ecmascript\" contentStyleType=\"text/css\" height=\"491px\" preserveAspectRatio=\"none\" style=\"width:636px;height:491px;\" version=\"1.1\" viewBox=\"0 0 636 491\" width=\"636px\" zoomAndPan=\"magnify\"><defs><filter height=\"300%\" id=\"f1fqylhbmp07p0\" width=\"300%\" x=\"-1\" y=\"-1\"><feGaussianBlur result=\"blurOut\" stdDeviation=\"2.0\"/><feColorMatrix in=\"blurOut\" result=\"blurOut2\" type=\"matrix\" values=\"0 0 0 0 0 0 0 0 0 0 0 0 0 0 0 0 0 0 .4 0\"/><feOffset dx=\"4.0\" dy=\"4.0\" in=\"blurOut2\" result=\"blurOut3\"/><feBlend in=\"SourceGraphic\" in2=\"blurOut3\" mode=\"normal\"/></filter></defs><g><!--MD5=[fbc87193dbaf4d95561dea2c320d4a47]\n",
       "cluster E1--><a href=\"psysml:656cfd98-5664-4901-a86b-535977508953\" target=\"_top\" title=\"psysml:656cfd98-5664-4901-a86b-535977508953\" xlink:actuate=\"onRequest\" xlink:href=\"psysml:656cfd98-5664-4901-a86b-535977508953\" xlink:show=\"new\" xlink:title=\"psysml:656cfd98-5664-4901-a86b-535977508953\" xlink:type=\"simple\"><polygon fill=\"#FFFFFF\" filter=\"url(#f1fqylhbmp07p0)\" points=\"20.2,6,152.2,6,159.2,28.2969,614.2,28.2969,614.2,479,20.2,479,20.2,6\" style=\"stroke: #000000; stroke-width: 1.5;\"/><line style=\"stroke: #000000; stroke-width: 1.5;\" x1=\"20.2\" x2=\"159.2\" y1=\"28.2969\" y2=\"28.2969\"/><text fill=\"#000000\" font-family=\"sans-serif\" font-size=\"14\" font-weight=\"bold\" lengthAdjust=\"spacingAndGlyphs\" textLength=\"126\" x=\"24.2\" y=\"20.9951\">TradeStudyTest</text></a><!--MD5=[b4997ac47864f28c2f74865a473b2911]\n",
       "class E2--><a href=\"psysml:66c87936-3609-4f97-8f24-8ad3882372ee\" target=\"_top\" title=\"psysml:66c87936-3609-4f97-8f24-8ad3882372ee\" xlink:actuate=\"onRequest\" xlink:href=\"psysml:66c87936-3609-4f97-8f24-8ad3882372ee\" xlink:show=\"new\" xlink:title=\"psysml:66c87936-3609-4f97-8f24-8ad3882372ee\" xlink:type=\"simple\"><rect fill=\"#FEFECE\" filter=\"url(#f1fqylhbmp07p0)\" height=\"40\" id=\"E2\" style=\"stroke: #A80036; stroke-width: 1.5;\" width=\"75\" x=\"221.7\" y=\"423\"/><ellipse cx=\"236.7\" cy=\"439\" fill=\"#008000\" rx=\"11\" ry=\"11\" style=\"stroke: #A80036; stroke-width: 1.0;\"/><path d=\"M235.6063,439.375 L235.6063,443.0469 L237.2313,443.0469 Q238.4031,443.0469 238.8719,442.6563 Q239.3406,442.25 239.3406,441.25 Q239.3406,440.25 238.8406,439.8125 Q238.3563,439.375 237.2313,439.375 L235.6063,439.375 Z M235.6063,434.5469 L235.6063,437.4219 L237.2313,437.4219 Q238.1531,437.4219 238.5438,437.0938 Q238.95,436.75 238.95,436 Q238.95,435.2344 238.5438,434.8906 Q238.1375,434.5469 237.2313,434.5469 L235.6063,434.5469 Z M233.2313,432.5938 L237.2313,432.5938 Q239.2938,432.5938 240.3406,433.375 Q241.3875,434.1563 241.3875,435.7188 Q241.3875,436.9219 240.7625,437.5938 Q240.1531,438.2656 238.9656,438.375 Q240.3875,438.5156 241.1063,439.3281 Q241.825,440.1406 241.825,441.5938 Q241.825,443.3906 240.7469,444.2031 Q239.6688,445 237.2313,445 L233.2313,445 L233.2313,432.5938 Z \"/><text fill=\"#000000\" font-family=\"sans-serif\" font-size=\"12\" lengthAdjust=\"spacingAndGlyphs\" textLength=\"43\" x=\"250.7\" y=\"443.1543\">Engine</text><line style=\"stroke: #A80036; stroke-width: 1.5;\" x1=\"222.7\" x2=\"295.7\" y1=\"455\" y2=\"455\"/></a><!--MD5=[09b614a08d8cba4a07c9adeb5e0fee81]\n",
       "class E3--><a href=\"psysml:c974a942-078b-4d34-96c1-8ca70902d898\" target=\"_top\" title=\"psysml:c974a942-078b-4d34-96c1-8ca70902d898\" xlink:actuate=\"onRequest\" xlink:href=\"psysml:c974a942-078b-4d34-96c1-8ca70902d898\" xlink:show=\"new\" xlink:title=\"psysml:c974a942-078b-4d34-96c1-8ca70902d898\" xlink:type=\"simple\"><rect fill=\"#FEFECE\" filter=\"url(#f1fqylhbmp07p0)\" height=\"45.9375\" id=\"E3\" rx=\"10\" ry=\"10\" style=\"stroke: #A80036; stroke-width: 1.5;\" width=\"134\" x=\"464.2\" y=\"316\"/><ellipse cx=\"479.2\" cy=\"334.9688\" fill=\"#32CD32\" rx=\"11\" ry=\"11\" style=\"stroke: #A80036; stroke-width: 1.0;\"/><path d=\"M478.9969,330.6406 L478.9969,334.2656 L479.9969,334.2656 Q481.2,334.2656 481.6844,333.8594 Q482.1688,333.4531 482.1688,332.4531 Q482.1688,331.4531 481.6844,331.0469 Q481.2,330.6406 479.9969,330.6406 L478.9969,330.6406 Z M476.5438,328.5781 L479.9031,328.5781 Q482.4656,328.5781 483.5906,329.5 Q484.7156,330.4063 484.7156,332.4531 Q484.7156,334.5 483.5906,335.4219 Q482.4656,336.3281 479.9031,336.3281 L478.9969,336.3281 L478.9969,340.9688 L476.5438,340.9688 L476.5438,328.5781 Z \"/><text fill=\"#000000\" font-family=\"sans-serif\" font-size=\"12\" font-style=\"italic\" lengthAdjust=\"spacingAndGlyphs\" textLength=\"40\" x=\"524.2\" y=\"332.1387\">«part»</text><text fill=\"#000000\" font-family=\"sans-serif\" font-size=\"12\" lengthAdjust=\"spacingAndGlyphs\" textLength=\"102\" x=\"493.2\" y=\"346.1074\">engine1: Engine</text><line style=\"stroke: #A80036; stroke-width: 1.5;\" x1=\"465.2\" x2=\"597.2\" y1=\"353.9375\" y2=\"353.9375\"/></a><!--MD5=[ebbe1d658d1005bcc118a6aa81145e00]\n",
       "class E4--><a href=\"psysml:f4d0ec5b-d124-41e4-9ba9-3cb67b695e7c\" target=\"_top\" title=\"psysml:f4d0ec5b-d124-41e4-9ba9-3cb67b695e7c\" xlink:actuate=\"onRequest\" xlink:href=\"psysml:f4d0ec5b-d124-41e4-9ba9-3cb67b695e7c\" xlink:show=\"new\" xlink:title=\"psysml:f4d0ec5b-d124-41e4-9ba9-3cb67b695e7c\" xlink:type=\"simple\"><rect fill=\"#FEFECE\" filter=\"url(#f1fqylhbmp07p0)\" height=\"45.9375\" id=\"E4\" rx=\"10\" ry=\"10\" style=\"stroke: #A80036; stroke-width: 1.5;\" width=\"134\" x=\"295.2\" y=\"316\"/><ellipse cx=\"310.2\" cy=\"334.9688\" fill=\"#32CD32\" rx=\"11\" ry=\"11\" style=\"stroke: #A80036; stroke-width: 1.0;\"/><path d=\"M309.9969,330.6406 L309.9969,334.2656 L310.9969,334.2656 Q312.2,334.2656 312.6844,333.8594 Q313.1688,333.4531 313.1688,332.4531 Q313.1688,331.4531 312.6844,331.0469 Q312.2,330.6406 310.9969,330.6406 L309.9969,330.6406 Z M307.5438,328.5781 L310.9031,328.5781 Q313.4656,328.5781 314.5906,329.5 Q315.7156,330.4063 315.7156,332.4531 Q315.7156,334.5 314.5906,335.4219 Q313.4656,336.3281 310.9031,336.3281 L309.9969,336.3281 L309.9969,340.9688 L307.5438,340.9688 L307.5438,328.5781 Z \"/><text fill=\"#000000\" font-family=\"sans-serif\" font-size=\"12\" font-style=\"italic\" lengthAdjust=\"spacingAndGlyphs\" textLength=\"40\" x=\"355.2\" y=\"332.1387\">«part»</text><text fill=\"#000000\" font-family=\"sans-serif\" font-size=\"12\" lengthAdjust=\"spacingAndGlyphs\" textLength=\"102\" x=\"324.2\" y=\"346.1074\">engine2: Engine</text><line style=\"stroke: #A80036; stroke-width: 1.5;\" x1=\"296.2\" x2=\"428.2\" y1=\"353.9375\" y2=\"353.9375\"/></a><!--MD5=[270fce915f116d4de14055a7c1d9a0f3]\n",
       "class E5--><a href=\"psysml:2fd52497-3b24-4a66-a5d3-d77cdf8b2acf\" target=\"_top\" title=\"psysml:2fd52497-3b24-4a66-a5d3-d77cdf8b2acf\" xlink:actuate=\"onRequest\" xlink:href=\"psysml:2fd52497-3b24-4a66-a5d3-d77cdf8b2acf\" xlink:show=\"new\" xlink:title=\"psysml:2fd52497-3b24-4a66-a5d3-d77cdf8b2acf\" xlink:type=\"simple\"><rect fill=\"#FEFECE\" filter=\"url(#f1fqylhbmp07p0)\" height=\"45.9375\" id=\"E5\" rx=\"10\" ry=\"10\" style=\"stroke: #A80036; stroke-width: 1.5;\" width=\"225\" x=\"283.7\" y=\"41\"/><ellipse cx=\"298.7\" cy=\"59.9688\" fill=\"#B6DBBB\" rx=\"11\" ry=\"11\" style=\"stroke: #A80036; stroke-width: 1.0;\"/><path d=\"M294.575,61.8906 L294.575,54.0781 L297.0281,54.0781 L297.0281,62.5156 Q297.0281,63.4375 297.4969,63.9688 Q297.9813,64.5 298.8094,64.5 Q299.6531,64.5 300.1219,63.9688 Q300.5906,63.4375 300.5906,62.5156 L300.5906,54.0781 L303.0438,54.0781 L303.0438,61.8906 Q303.0438,64.4219 302.0438,65.5625 Q301.0438,66.7031 298.8094,66.7031 Q296.5906,66.7031 295.575,65.5625 Q294.575,64.4219 294.575,61.8906 Z \"/><text fill=\"#000000\" font-family=\"sans-serif\" font-size=\"12\" font-style=\"italic\" lengthAdjust=\"spacingAndGlyphs\" textLength=\"64\" x=\"377.2\" y=\"57.1387\">«analysis»</text><text fill=\"#000000\" font-family=\"sans-serif\" font-size=\"12\" lengthAdjust=\"spacingAndGlyphs\" textLength=\"193\" x=\"312.7\" y=\"71.1074\">engineTradeStudy: TradeStudy</text><line style=\"stroke: #A80036; stroke-width: 1.5;\" x1=\"284.7\" x2=\"507.7\" y1=\"78.9375\" y2=\"78.9375\"/></a><!--MD5=[60a26617385b1d2d0262a64233df1f8d]\n",
       "class E6--><a href=\"psysml:2c27f52f-f536-4fc6-bf8d-fd6e3fd13c39\" target=\"_top\" title=\"psysml:2c27f52f-f536-4fc6-bf8d-fd6e3fd13c39\" xlink:actuate=\"onRequest\" xlink:href=\"psysml:2c27f52f-f536-4fc6-bf8d-fd6e3fd13c39\" xlink:show=\"new\" xlink:title=\"psysml:2c27f52f-f536-4fc6-bf8d-fd6e3fd13c39\" xlink:type=\"simple\"><rect fill=\"#FEFECE\" filter=\"url(#f1fqylhbmp07p0)\" height=\"45.9375\" id=\"E6\" rx=\"10\" ry=\"10\" style=\"stroke: #A80036; stroke-width: 1.5;\" width=\"277\" x=\"106.7\" y=\"164\"/><ellipse cx=\"121.7\" cy=\"182.9688\" fill=\"#FFA500\" rx=\"11\" ry=\"11\" style=\"stroke: #A80036; stroke-width: 1.0;\"/><path d=\"M117.575,184.8906 L117.575,177.0781 L120.0281,177.0781 L120.0281,185.5156 Q120.0281,186.4375 120.4969,186.9688 Q120.9813,187.5 121.8094,187.5 Q122.6531,187.5 123.1219,186.9688 Q123.5906,186.4375 123.5906,185.5156 L123.5906,177.0781 L126.0438,177.0781 L126.0438,184.8906 Q126.0438,187.4219 125.0438,188.5625 Q124.0438,189.7031 121.8094,189.7031 Q119.5906,189.7031 118.575,188.5625 Q117.575,187.4219 117.575,184.8906 Z \"/><text fill=\"#000000\" font-family=\"sans-serif\" font-size=\"12\" font-style=\"italic\" lengthAdjust=\"spacingAndGlyphs\" textLength=\"91\" x=\"212.7\" y=\"180.1387\">«requirement»</text><text fill=\"#000000\" font-family=\"sans-serif\" font-size=\"12\" lengthAdjust=\"spacingAndGlyphs\" textLength=\"245\" x=\"135.7\" y=\"194.1074\">tradeStudyObjective: MaximizeObjective</text><line style=\"stroke: #A80036; stroke-width: 1.5;\" x1=\"107.7\" x2=\"382.7\" y1=\"201.9375\" y2=\"201.9375\"/></a><!--MD5=[2156ba9850f5573cc1fc38a6a4b2f02b]\n",
       "class E7--><a href=\"psysml:7b858bf3-8f8c-4105-a0db-0d0783f29576\" target=\"_top\" title=\"psysml:7b858bf3-8f8c-4105-a0db-0d0783f29576\" xlink:actuate=\"onRequest\" xlink:href=\"psysml:7b858bf3-8f8c-4105-a0db-0d0783f29576\" xlink:show=\"new\" xlink:title=\"psysml:7b858bf3-8f8c-4105-a0db-0d0783f29576\" xlink:type=\"simple\"><rect fill=\"#FEFECE\" filter=\"url(#f1fqylhbmp07p0)\" height=\"45.9375\" id=\"E7\" rx=\"10\" ry=\"10\" style=\"stroke: #A80036; stroke-width: 1.5;\" width=\"142\" x=\"419.2\" y=\"164\"/><ellipse cx=\"434.2\" cy=\"182.9688\" fill=\"#FFA500\" rx=\"11\" ry=\"11\" style=\"stroke: #A80036; stroke-width: 1.0;\"/><path d=\"M430.075,184.8906 L430.075,177.0781 L432.5281,177.0781 L432.5281,185.5156 Q432.5281,186.4375 432.9969,186.9688 Q433.4813,187.5 434.3094,187.5 Q435.1531,187.5 435.6219,186.9688 Q436.0906,186.4375 436.0906,185.5156 L436.0906,177.0781 L438.5438,177.0781 L438.5438,184.8906 Q438.5438,187.4219 437.5438,188.5625 Q436.5438,189.7031 434.3094,189.7031 Q432.0906,189.7031 431.075,188.5625 Q430.075,187.4219 430.075,184.8906 Z \"/><text fill=\"#000000\" font-family=\"sans-serif\" font-size=\"12\" font-style=\"italic\" lengthAdjust=\"spacingAndGlyphs\" textLength=\"82\" x=\"462.2\" y=\"180.1387\">«calculation»</text><text fill=\"#000000\" font-family=\"sans-serif\" font-size=\"12\" lengthAdjust=\"spacingAndGlyphs\" textLength=\"110\" x=\"448.2\" y=\"194.1074\">objectiveFunction</text><line style=\"stroke: #A80036; stroke-width: 1.5;\" x1=\"420.2\" x2=\"560.2\" y1=\"201.9375\" y2=\"201.9375\"/></a><!--MD5=[b9389687b975829384b498ac4b7476b2]\n",
       "class E8--><a href=\"psysml:b0f7840c-11d7-45e2-a5a4-bf208bef1113\" target=\"_top\" title=\"psysml:b0f7840c-11d7-45e2-a5a4-bf208bef1113\" xlink:actuate=\"onRequest\" xlink:href=\"psysml:b0f7840c-11d7-45e2-a5a4-bf208bef1113\" xlink:show=\"new\" xlink:title=\"psysml:b0f7840c-11d7-45e2-a5a4-bf208bef1113\" xlink:type=\"simple\"><rect fill=\"#FEFECE\" filter=\"url(#f1fqylhbmp07p0)\" height=\"45.9375\" id=\"E8\" rx=\"10\" ry=\"10\" style=\"stroke: #A80036; stroke-width: 1.5;\" width=\"150\" x=\"73.2\" y=\"316\"/><ellipse cx=\"88.2\" cy=\"334.9688\" fill=\"#32CD32\" rx=\"11\" ry=\"11\" style=\"stroke: #A80036; stroke-width: 1.0;\"/><path d=\"M87.9969,330.6406 L87.9969,334.2656 L88.9969,334.2656 Q90.2,334.2656 90.6844,333.8594 Q91.1688,333.4531 91.1688,332.4531 Q91.1688,331.4531 90.6844,331.0469 Q90.2,330.6406 88.9969,330.6406 L87.9969,330.6406 Z M85.5438,328.5781 L88.9031,328.5781 Q91.4656,328.5781 92.5906,329.5 Q93.7156,330.4063 93.7156,332.4531 Q93.7156,334.5 92.5906,335.4219 Q91.4656,336.3281 88.9031,336.3281 L87.9969,336.3281 L87.9969,340.9688 L85.5438,340.9688 L85.5438,328.5781 Z \"/><text fill=\"#000000\" font-family=\"sans-serif\" font-size=\"12\" font-style=\"italic\" lengthAdjust=\"spacingAndGlyphs\" textLength=\"40\" x=\"141.2\" y=\"332.1387\">«part»</text><text fill=\"#000000\" font-family=\"sans-serif\" font-size=\"12\" lengthAdjust=\"spacingAndGlyphs\" textLength=\"118\" x=\"102.2\" y=\"346.1074\">alternative: Engine</text><line style=\"stroke: #A80036; stroke-width: 1.5;\" x1=\"74.2\" x2=\"222.2\" y1=\"353.9375\" y2=\"353.9375\"/></a><!--MD5=[fd4143e9d270a159db93a4ea2a975926]\n",
       "class E9--><a href=\"psysml:9d098c9e-1a7b-415f-a301-c2067e422f2c\" target=\"_top\" title=\"psysml:9d098c9e-1a7b-415f-a301-c2067e422f2c\" xlink:actuate=\"onRequest\" xlink:href=\"psysml:9d098c9e-1a7b-415f-a301-c2067e422f2c\" xlink:show=\"new\" xlink:title=\"psysml:9d098c9e-1a7b-415f-a301-c2067e422f2c\" xlink:type=\"simple\"><rect fill=\"#FEFECE\" filter=\"url(#f1fqylhbmp07p0)\" height=\"45.9375\" id=\"E9\" rx=\"10\" ry=\"10\" style=\"stroke: #A80036; stroke-width: 1.5;\" width=\"204\" x=\"275.2\" y=\"240\"/><ellipse cx=\"290.2\" cy=\"258.9688\" fill=\"#32CD32\" rx=\"11\" ry=\"11\" style=\"stroke: #A80036; stroke-width: 1.0;\"/><path d=\"M289.9969,254.6406 L289.9969,258.2656 L290.9969,258.2656 Q292.2,258.2656 292.6844,257.8594 Q293.1688,257.4531 293.1688,256.4531 Q293.1688,255.4531 292.6844,255.0469 Q292.2,254.6406 290.9969,254.6406 L289.9969,254.6406 Z M287.5438,252.5781 L290.9031,252.5781 Q293.4656,252.5781 294.5906,253.5 Q295.7156,254.4063 295.7156,256.4531 Q295.7156,258.5 294.5906,259.4219 Q293.4656,260.3281 290.9031,260.3281 L289.9969,260.3281 L289.9969,264.9688 L287.5438,264.9688 L287.5438,252.5781 Z \"/><text fill=\"#000000\" font-family=\"sans-serif\" font-size=\"12\" font-style=\"italic\" lengthAdjust=\"spacingAndGlyphs\" textLength=\"40\" x=\"370.2\" y=\"256.1387\">«part»</text><text fill=\"#000000\" font-family=\"sans-serif\" font-size=\"12\" lengthAdjust=\"spacingAndGlyphs\" textLength=\"172\" x=\"304.2\" y=\"270.1074\">selectedAlternative: Engine</text><line style=\"stroke: #A80036; stroke-width: 1.5;\" x1=\"276.2\" x2=\"478.2\" y1=\"277.9375\" y2=\"277.9375\"/></a><!--MD5=[05d275557350bfb9b23a4ef7222b4c39]\n",
       "link E3 to E2--><a href=\"psysml:6d15a19a-180f-471d-b762-c393731ed9f0\" target=\"_top\" title=\"psysml:6d15a19a-180f-471d-b762-c393731ed9f0\" xlink:actuate=\"onRequest\" xlink:href=\"psysml:6d15a19a-180f-471d-b762-c393731ed9f0\" xlink:show=\"new\" xlink:title=\"psysml:6d15a19a-180f-471d-b762-c393731ed9f0\" xlink:type=\"simple\"><path d=\"M472.51,362.01 C426.12,379.4 361.76,403.54 315.9,420.74 \" fill=\"none\" id=\"E3-&gt;E2\" style=\"stroke: #A80036; stroke-width: 1.0;\"/><polygon fill=\"#FFFFFF\" points=\"296.87,427.87,312.2079,414.6508,317.1182,427.7614,296.87,427.87\" style=\"stroke: #A80036; stroke-width: 1.0;\"/><ellipse cx=\"318.2473\" cy=\"414.5245\" fill=\"#A80036\" rx=\"2\" ry=\"2\" style=\"stroke: #A80036; stroke-width: 1.0;\"/><ellipse cx=\"321.7546\" cy=\"423.8893\" fill=\"#A80036\" rx=\"2\" ry=\"2\" style=\"stroke: #A80036; stroke-width: 1.0;\"/></a><!--MD5=[185131fc0dcab0a4505a2ebe144e961b]\n",
       "link E4 to E2--><a href=\"psysml:247dd621-3d2a-4448-8896-ee4a55c37d47\" target=\"_top\" title=\"psysml:247dd621-3d2a-4448-8896-ee4a55c37d47\" xlink:actuate=\"onRequest\" xlink:href=\"psysml:247dd621-3d2a-4448-8896-ee4a55c37d47\" xlink:show=\"new\" xlink:title=\"psysml:247dd621-3d2a-4448-8896-ee4a55c37d47\" xlink:type=\"simple\"><path d=\"M339.85,362.13 C326.09,375.76 308.2,393.47 292.76,408.76 \" fill=\"none\" id=\"E4-&gt;E2\" style=\"stroke: #A80036; stroke-width: 1.0;\"/><polygon fill=\"#FFFFFF\" points=\"278.39,423,286.968,404.6583,296.8174,414.6077,278.39,423\" style=\"stroke: #A80036; stroke-width: 1.0;\"/><ellipse cx=\"292.4259\" cy=\"402.0695\" fill=\"#A80036\" rx=\"2\" ry=\"2\" style=\"stroke: #A80036; stroke-width: 1.0;\"/><ellipse cx=\"299.4612\" cy=\"409.1762\" fill=\"#A80036\" rx=\"2\" ry=\"2\" style=\"stroke: #A80036; stroke-width: 1.0;\"/></a><!--MD5=[15ebcb19ae302d9b601edb458606d402]\n",
       "link E5 to E2--><a href=\"psysml:21b7132a-f544-4487-a747-91d198ad447d\" target=\"_top\" title=\"psysml:21b7132a-f544-4487-a747-91d198ad447d\" xlink:actuate=\"onRequest\" xlink:href=\"psysml:21b7132a-f544-4487-a747-91d198ad447d\" xlink:show=\"new\" xlink:title=\"psysml:21b7132a-f544-4487-a747-91d198ad447d\" xlink:type=\"simple\"><path d=\"M283.33,73.88 C217.7,84.99 138.47,109.64 89.2,164 C29.29,230.1 6,288.25 56.2,362 C91.99,414.57 168.14,432.6 216.32,438.78 \" fill=\"none\" id=\"E5-&gt;E2\" style=\"stroke: #A80036; stroke-width: 1.0; stroke-dasharray: 7.0,7.0;\"/><polygon fill=\"#A80036\" points=\"221.48,439.41,213.0385,434.3365,216.5177,438.7968,212.0574,442.2761,221.48,439.41\" style=\"stroke: #A80036; stroke-width: 1.0;\"/><text fill=\"#000000\" font-family=\"sans-serif\" font-size=\"13\" lengthAdjust=\"spacingAndGlyphs\" textLength=\"62\" x=\"39.2\" y=\"267.5669\">«subject»</text></a><!--MD5=[9120cf2e5df3bff93db8f754bbbc09b4]\n",
       "link E5 to E6--><a href=\"psysml:44ec4945-cc63-4e9d-b8df-7b9a76da0bc7\" target=\"_top\" title=\"psysml:44ec4945-cc63-4e9d-b8df-7b9a76da0bc7\" xlink:actuate=\"onRequest\" xlink:href=\"psysml:44ec4945-cc63-4e9d-b8df-7b9a76da0bc7\" xlink:show=\"new\" xlink:title=\"psysml:44ec4945-cc63-4e9d-b8df-7b9a76da0bc7\" xlink:type=\"simple\"><path d=\"M368.5,87.19 C343.28,107.41 305.97,137.31 279,158.92 \" fill=\"none\" id=\"E5-&gt;E6\" style=\"stroke: #A80036; stroke-width: 1.0;\"/><polygon fill=\"#A80036\" points=\"272.72,163.95,280.8396,161.2905,277.0888,156.6074,272.72,163.95\" style=\"stroke: #A80036; stroke-width: 1.0;\"/><text fill=\"#000000\" font-family=\"sans-serif\" font-size=\"13\" lengthAdjust=\"spacingAndGlyphs\" textLength=\"73\" x=\"330.2\" y=\"130.0669\">«objective»</text></a><!--MD5=[452b418e7f8a40397a49b8c0a78acc5b]\n",
       "reverse link E5 to E7--><a href=\"psysml:7b858bf3-8f8c-4105-a0db-0d0783f29576\" target=\"_top\" title=\"psysml:7b858bf3-8f8c-4105-a0db-0d0783f29576\" xlink:actuate=\"onRequest\" xlink:href=\"psysml:7b858bf3-8f8c-4105-a0db-0d0783f29576\" xlink:show=\"new\" xlink:title=\"psysml:7b858bf3-8f8c-4105-a0db-0d0783f29576\" xlink:type=\"simple\"><path d=\"M421.52,97.59 C437.85,118.61 458.66,145.4 473.07,163.95 \" fill=\"none\" id=\"E5&lt;-E7\" style=\"stroke: #A80036; stroke-width: 1.0;\"/><polygon fill=\"#A80036\" points=\"413.44,87.19,413.9586,94.3824,420.7972,96.67,420.2786,89.4776,413.44,87.19\" style=\"stroke: #A80036; stroke-width: 1.0;\"/></a><!--MD5=[f1f3f9f2fc535e6147756cb86a7f2e32]\n",
       "link E8 to E2--><a href=\"psysml:2565caae-8b6e-420b-a56a-eab601fd4b55\" target=\"_top\" title=\"psysml:2565caae-8b6e-420b-a56a-eab601fd4b55\" xlink:actuate=\"onRequest\" xlink:href=\"psysml:2565caae-8b6e-420b-a56a-eab601fd4b55\" xlink:show=\"new\" xlink:title=\"psysml:2565caae-8b6e-420b-a56a-eab601fd4b55\" xlink:type=\"simple\"><path d=\"M172.29,362.13 C187.26,375.9 206.8,393.84 223.55,409.24 \" fill=\"none\" id=\"E8-&gt;E2\" style=\"stroke: #A80036; stroke-width: 1.0;\"/><polygon fill=\"#FFFFFF\" points=\"238.52,423,219.7918,415.3024,229.2623,404.9918,238.52,423\" style=\"stroke: #A80036; stroke-width: 1.0;\"/><ellipse cx=\"216.9468\" cy=\"409.9736\" fill=\"#A80036\" rx=\"2\" ry=\"2\" style=\"stroke: #A80036; stroke-width: 1.0;\"/><ellipse cx=\"223.7115\" cy=\"402.6089\" fill=\"#A80036\" rx=\"2\" ry=\"2\" style=\"stroke: #A80036; stroke-width: 1.0;\"/></a><!--MD5=[dc164f5e8a733ab456ef1add180e9e34]\n",
       "reverse link E7 to E8--><a href=\"psysml:b0f7840c-11d7-45e2-a5a4-bf208bef1113\" target=\"_top\" title=\"psysml:b0f7840c-11d7-45e2-a5a4-bf208bef1113\" xlink:actuate=\"onRequest\" xlink:href=\"psysml:b0f7840c-11d7-45e2-a5a4-bf208bef1113\" xlink:show=\"new\" xlink:title=\"psysml:b0f7840c-11d7-45e2-a5a4-bf208bef1113\" xlink:type=\"simple\"><path d=\"M406.09,208.88 C404.45,209.26 402.81,209.63 401.2,210 C337.89,224.46 316.18,210.75 258.2,240 C221.21,258.66 186.98,292.95 166.84,315.61 \" fill=\"none\" id=\"E7&lt;-E8\" style=\"stroke: #A80036; stroke-width: 1.0;\"/><polygon fill=\"#FFFFFF\" points=\"418.84,205.88,412.0846,203.3572,407.1576,208.6226,413.913,211.1454,418.84,205.88\" style=\"stroke: #A80036; stroke-width: 1.0;\"/></a><!--MD5=[5c3bb36fe832a92c7f0e1807dd65209d]\n",
       "link E9 to E2--><a href=\"psysml:a6aa3e55-56ca-44c6-92e8-1089eebb019a\" target=\"_top\" title=\"psysml:a6aa3e55-56ca-44c6-92e8-1089eebb019a\" xlink:actuate=\"onRequest\" xlink:href=\"psysml:a6aa3e55-56ca-44c6-92e8-1089eebb019a\" xlink:show=\"new\" xlink:title=\"psysml:a6aa3e55-56ca-44c6-92e8-1089eebb019a\" xlink:type=\"simple\"><path d=\"M313.67,286.14 C300.09,293.64 287.15,303.42 278.2,316 C260.36,341.07 256.3,376.08 256.31,402.84 \" fill=\"none\" id=\"E9-&gt;E2\" style=\"stroke: #A80036; stroke-width: 1.0;\"/><polygon fill=\"#FFFFFF\" points=\"257.06,422.97,249.3591,404.2431,263.3494,403.7231,257.06,422.97\" style=\"stroke: #A80036; stroke-width: 1.0;\"/><ellipse cx=\"251.146\" cy=\"398.4728\" fill=\"#A80036\" rx=\"2\" ry=\"2\" style=\"stroke: #A80036; stroke-width: 1.0;\"/><ellipse cx=\"261.1391\" cy=\"398.1013\" fill=\"#A80036\" rx=\"2\" ry=\"2\" style=\"stroke: #A80036; stroke-width: 1.0;\"/></a><!--MD5=[9ae28de373ca99bb8a1b38d63370ca7e]\n",
       "reverse link E5 to E9--><a href=\"psysml:9d098c9e-1a7b-415f-a301-c2067e422f2c\" target=\"_top\" title=\"psysml:9d098c9e-1a7b-415f-a301-c2067e422f2c\" xlink:actuate=\"onRequest\" xlink:href=\"psysml:9d098c9e-1a7b-415f-a301-c2067e422f2c\" xlink:show=\"new\" xlink:title=\"psysml:9d098c9e-1a7b-415f-a301-c2067e422f2c\" xlink:type=\"simple\"><path d=\"M477.44,91.83 C542.71,117.79 617.64,160.42 579.2,210 C566.19,226.78 522.73,239.1 479.43,247.52 \" fill=\"none\" id=\"E5&lt;-E9\" style=\"stroke: #A80036; stroke-width: 1.0;\"/><polygon fill=\"#FFFFFF\" points=\"464.97,87.02,469.1253,92.9135,476.1637,91.3445,472.0083,85.451,464.97,87.02\" style=\"stroke: #A80036; stroke-width: 1.0;\"/></a><!--MD5=[16280a16cba2ef5368d9a76d29f726da]\n",
       "@startuml\r\n",
       " \r\n",
       "package \"TradeStudyTest\" as E1  [[psysml:656cfd98-5664-4901-a86b-535977508953 ]]  {\r\n",
       "comp def \"Engine\" as E2  << (B,green) >> [[psysml:66c87936-3609-4f97-8f24-8ad3882372ee ]] {\r\n",
       "}\r\n",
       "comp usage \"engine1: Engine\" as E3  << (P,limegreen) part>> [[psysml:c974a942-078b-4d34-96c1-8ca70902d898 ]] {\r\n",
       "}\r\n",
       "comp usage \"engine2: Engine\" as E4  << (P,limegreen) part>> [[psysml:f4d0ec5b-d124-41e4-9ba9-3cb67b695e7c ]] {\r\n",
       "}\r\n",
       "comp usage \"engineTradeStudy: TradeStudy\" as E5 <<analysis>> [[psysml:2fd52497-3b24-4a66-a5d3-d77cdf8b2acf ]] {\r\n",
       "}\r\n",
       "comp usage \"tradeStudyObjective: MaximizeObjective\" as E6  <<(U,orange)requirement>> [[psysml:2c27f52f-f536-4fc6-bf8d-fd6e3fd13c39 ]] {\r\n",
       "}\r\n",
       "comp usage \"objectiveFunction\" as E7  <<(U,orange)calculation>> [[psysml:7b858bf3-8f8c-4105-a0db-0d0783f29576 ]] {\r\n",
       "}\r\n",
       "comp usage \"alternative: Engine\" as E8  << (P,limegreen) part>> [[psysml:b0f7840c-11d7-45e2-a5a4-bf208bef1113 ]] {\r\n",
       "}\r\n",
       "comp usage \"selectedAlternative: Engine\" as E9  << (P,limegreen) part>> [[psysml:9d098c9e-1a7b-415f-a301-c2067e422f2c ]] {\r\n",
       "}\r\n",
       "E3 - -:|> E2 [[psysml:6d15a19a-180f-471d-b762-c393731ed9f0 ]] \r\n",
       "E4 - -:|> E2 [[psysml:247dd621-3d2a-4448-8896-ee4a55c37d47 ]] \r\n",
       "E5 ..> E2 [[psysml:21b7132a-f544-4487-a747-91d198ad447d ]] : <<subject>>\r\n",
       "E5 - ->> E6 [[psysml:44ec4945-cc63-4e9d-b8df-7b9a76da0bc7 ]] : <<objective>>\r\n",
       "E5 *- - E7 [[psysml:7b858bf3-8f8c-4105-a0db-0d0783f29576 ]] \r\n",
       "E8 - -:|> E2 [[psysml:2565caae-8b6e-420b-a56a-eab601fd4b55 ]] \r\n",
       "E7 o- - E8 [[psysml:b0f7840c-11d7-45e2-a5a4-bf208bef1113 ]] \r\n",
       "E9 - -:|> E2 [[psysml:a6aa3e55-56ca-44c6-92e8-1089eebb019a ]] \r\n",
       "E5 o- - E9 [[psysml:9d098c9e-1a7b-415f-a301-c2067e422f2c ]] \r\n",
       "}\r\n",
       "@enduml\r\n",
       "\n",
       "PlantUML version 1.2020.13(Sat Jun 13 12:26:38 UTC 2020)\n",
       "(EPL source distribution)\n",
       "Java Runtime: OpenJDK Runtime Environment\n",
       "JVM: OpenJDK 64-Bit Server VM\n",
       "Default Encoding: UTF-8\n",
       "Language: en\n",
       "Country: null\n",
       "--></g></svg>"
      ]
     },
     "execution_count": 31,
     "metadata": {},
     "output_type": "execute_result"
    }
   ],
   "source": [
    "%viz --style=\"PLANTUML\" --view=\"Tree\" \"TradeStudyTest\""
   ]
  },
  {
   "cell_type": "code",
   "execution_count": 32,
   "id": "associate-hunter",
   "metadata": {
    "execution": {
     "iopub.execute_input": "2021-03-25T13:19:21.238269Z",
     "iopub.status.busy": "2021-03-25T13:19:21.237546Z",
     "iopub.status.idle": "2021-03-25T13:19:22.170907Z",
     "shell.execute_reply": "2021-03-25T13:19:22.171363Z"
    }
   },
   "outputs": [
    {
     "data": {
      "image/svg+xml": [
       "<?xml version=\"1.0\" encoding=\"UTF-8\" standalone=\"no\"?><svg xmlns=\"http://www.w3.org/2000/svg\" xmlns:xlink=\"http://www.w3.org/1999/xlink\" contentScriptType=\"application/ecmascript\" contentStyleType=\"text/css\" height=\"303px\" preserveAspectRatio=\"none\" style=\"width:603px;height:303px;background:#000000;\" version=\"1.1\" viewBox=\"0 0 603 303\" width=\"603px\" zoomAndPan=\"magnify\"><defs/><g><rect fill=\"#230822\" height=\"1\" style=\"stroke: #230822; stroke-width: 1.0;\" width=\"1\" x=\"0\" y=\"0\"/><rect fill=\"#FFFFFF\" height=\"205.5625\" style=\"stroke: #FFFFFF; stroke-width: 1.0;\" width=\"602\" x=\"0\" y=\"0\"/><text fill=\"#000000\" font-family=\"sans-serif\" font-size=\"12\" font-weight=\"bold\" lengthAdjust=\"spacingAndGlyphs\" textLength=\"159\" x=\"5\" y=\"16.1387\">Welcome to PlantUML!</text><text fill=\"#000000\" font-family=\"sans-serif\" font-size=\"12\" lengthAdjust=\"spacingAndGlyphs\" textLength=\"0\" x=\"9\" y=\"30.1074\"/><text fill=\"#000000\" font-family=\"sans-serif\" font-size=\"12\" lengthAdjust=\"spacingAndGlyphs\" textLength=\"293\" x=\"5\" y=\"44.0762\">If you use this software, you accept its license.</text><text fill=\"#000000\" font-family=\"sans-serif\" font-size=\"12\" lengthAdjust=\"spacingAndGlyphs\" textLength=\"107\" x=\"5\" y=\"58.0449\">(details by typing</text><text fill=\"#000000\" font-family=\"monospace\" font-size=\"12\" lengthAdjust=\"spacingAndGlyphs\" textLength=\"49\" x=\"116\" y=\"58.0449\">license</text><text fill=\"#000000\" font-family=\"sans-serif\" font-size=\"12\" lengthAdjust=\"spacingAndGlyphs\" textLength=\"56\" x=\"169\" y=\"58.0449\">keyword)</text><text fill=\"#000000\" font-family=\"sans-serif\" font-size=\"12\" lengthAdjust=\"spacingAndGlyphs\" textLength=\"0\" x=\"9\" y=\"72.0137\"/><text fill=\"#000000\" font-family=\"sans-serif\" font-size=\"12\" lengthAdjust=\"spacingAndGlyphs\" textLength=\"283\" x=\"5\" y=\"85.9824\">You can start with a simple UML Diagram like:</text><text fill=\"#000000\" font-family=\"sans-serif\" font-size=\"12\" lengthAdjust=\"spacingAndGlyphs\" textLength=\"0\" x=\"9\" y=\"99.9512\"/><text fill=\"#000000\" font-family=\"monospace\" font-size=\"12\" lengthAdjust=\"spacingAndGlyphs\" textLength=\"119\" x=\"5\" y=\"113.9199\">Bob-&gt;Alice: Hello</text><text fill=\"#000000\" font-family=\"sans-serif\" font-size=\"12\" lengthAdjust=\"spacingAndGlyphs\" textLength=\"0\" x=\"9\" y=\"127.8887\"/><text fill=\"#000000\" font-family=\"sans-serif\" font-size=\"12\" lengthAdjust=\"spacingAndGlyphs\" textLength=\"14\" x=\"5\" y=\"141.8574\">Or</text><text fill=\"#000000\" font-family=\"sans-serif\" font-size=\"12\" lengthAdjust=\"spacingAndGlyphs\" textLength=\"0\" x=\"9\" y=\"155.8262\"/><text fill=\"#000000\" font-family=\"monospace\" font-size=\"12\" lengthAdjust=\"spacingAndGlyphs\" textLength=\"91\" x=\"5\" y=\"169.7949\">class Example</text><text fill=\"#000000\" font-family=\"sans-serif\" font-size=\"12\" lengthAdjust=\"spacingAndGlyphs\" textLength=\"0\" x=\"9\" y=\"183.7637\"/><text fill=\"#000000\" font-family=\"sans-serif\" font-size=\"12\" lengthAdjust=\"spacingAndGlyphs\" textLength=\"349\" x=\"5\" y=\"197.7324\">You will find more information about PlantUML syntax on</text><text fill=\"#000000\" font-family=\"sans-serif\" font-size=\"12\" lengthAdjust=\"spacingAndGlyphs\" text-decoration=\"underline\" textLength=\"129\" x=\"358\" y=\"197.7324\">https://plantuml.com</text><image height=\"71\" width=\"80\" x=\"516\" xlink:href=\"data:image/png;base64,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\" y=\"6\"/><rect fill=\"#000000\" height=\"96.4844\" style=\"stroke: #000000; stroke-width: 1.0;\" width=\"602\" x=\"0\" y=\"205.5625\"/><rect fill=\"#33FF02\" height=\"21.2969\" style=\"stroke: #33FF02; stroke-width: 1.0;\" width=\"170\" x=\"5\" y=\"210.5625\"/><text fill=\"#000000\" font-family=\"sans-serif\" font-size=\"14\" font-weight=\"bold\" lengthAdjust=\"spacingAndGlyphs\" textLength=\"168\" x=\"6\" y=\"225.5625\">[From string (line 2) ]</text><text fill=\"#33FF02\" font-family=\"sans-serif\" font-size=\"14\" font-weight=\"bold\" lengthAdjust=\"spacingAndGlyphs\" textLength=\"0\" x=\"10\" y=\"245.8594\"/><text fill=\"#33FF02\" font-family=\"sans-serif\" font-size=\"14\" font-weight=\"bold\" lengthAdjust=\"spacingAndGlyphs\" textLength=\"79\" x=\"5\" y=\"262.1563\">@startuml</text><text fill=\"#33FF02\" font-family=\"sans-serif\" font-size=\"14\" font-weight=\"bold\" lengthAdjust=\"spacingAndGlyphs\" textLength=\"0\" x=\"10\" y=\"278.4531\"/><text fill=\"#FF0000\" font-family=\"sans-serif\" font-size=\"14\" font-weight=\"bold\" lengthAdjust=\"spacingAndGlyphs\" textLength=\"142\" x=\"10\" y=\"294.75\">Empty description</text><!--MD5=[f59edd8218d337f74d0c332fc6737304]\n",
       "@startuml\r\n",
       " \r\n",
       "@enduml\r\n",
       "\n",
       "PlantUML version 1.2020.13(Sat Jun 13 12:26:38 UTC 2020)\n",
       "(EPL source distribution)\n",
       "Java Runtime: OpenJDK Runtime Environment\n",
       "JVM: OpenJDK 64-Bit Server VM\n",
       "Default Encoding: UTF-8\n",
       "Language: en\n",
       "Country: null\n",
       "--></g></svg>"
      ]
     },
     "execution_count": 32,
     "metadata": {},
     "output_type": "execute_result"
    }
   ],
   "source": [
    "%viz --style=\"PLANTUML\" --view=\"State\" \"TradeStudyTest\""
   ]
  },
  {
   "cell_type": "code",
   "execution_count": 33,
   "id": "first-statement",
   "metadata": {
    "execution": {
     "iopub.execute_input": "2021-03-25T13:19:22.222777Z",
     "iopub.status.busy": "2021-03-25T13:19:22.222018Z",
     "iopub.status.idle": "2021-03-25T13:19:22.273400Z",
     "shell.execute_reply": "2021-03-25T13:19:22.273849Z"
    }
   },
   "outputs": [
    {
     "data": {
      "image/svg+xml": [
       "<?xml version=\"1.0\" encoding=\"UTF-8\" standalone=\"no\"?><svg xmlns=\"http://www.w3.org/2000/svg\" xmlns:xlink=\"http://www.w3.org/1999/xlink\" contentScriptType=\"application/ecmascript\" contentStyleType=\"text/css\" height=\"109px\" preserveAspectRatio=\"none\" style=\"width:499px;height:109px;\" version=\"1.1\" viewBox=\"0 0 499 109\" width=\"499px\" zoomAndPan=\"magnify\"><defs><filter height=\"300%\" id=\"f8k63q9bnnl07\" width=\"300%\" x=\"-1\" y=\"-1\"><feGaussianBlur result=\"blurOut\" stdDeviation=\"2.0\"/><feColorMatrix in=\"blurOut\" result=\"blurOut2\" type=\"matrix\" values=\"0 0 0 0 0 0 0 0 0 0 0 0 0 0 0 0 0 0 .4 0\"/><feOffset dx=\"4.0\" dy=\"4.0\" in=\"blurOut2\" result=\"blurOut3\"/><feBlend in=\"SourceGraphic\" in2=\"blurOut3\" mode=\"normal\"/></filter></defs><g><!--MD5=[fbc87193dbaf4d95561dea2c320d4a47]\n",
       "cluster E1--><a href=\"psysml:656cfd98-5664-4901-a86b-535977508953\" target=\"_top\" title=\"psysml:656cfd98-5664-4901-a86b-535977508953\" xlink:actuate=\"onRequest\" xlink:href=\"psysml:656cfd98-5664-4901-a86b-535977508953\" xlink:show=\"new\" xlink:title=\"psysml:656cfd98-5664-4901-a86b-535977508953\" xlink:type=\"simple\"><polygon fill=\"#FFFFFF\" filter=\"url(#f8k63q9bnnl07)\" points=\"16,6,148,6,155,28.2969,477,28.2969,477,97,16,97,16,6\" style=\"stroke: #000000; stroke-width: 1.5;\"/><line style=\"stroke: #000000; stroke-width: 1.5;\" x1=\"16\" x2=\"155\" y1=\"28.2969\" y2=\"28.2969\"/><text fill=\"#000000\" font-family=\"sans-serif\" font-size=\"14\" font-weight=\"bold\" lengthAdjust=\"spacingAndGlyphs\" textLength=\"126\" x=\"20\" y=\"20.9951\">TradeStudyTest</text></a><g id=\"E1.E2\"><a href=\"psysml:66c87936-3609-4f97-8f24-8ad3882372ee\" target=\"_top\" title=\"psysml:66c87936-3609-4f97-8f24-8ad3882372ee\" xlink:actuate=\"onRequest\" xlink:href=\"psysml:66c87936-3609-4f97-8f24-8ad3882372ee\" xlink:show=\"new\" xlink:title=\"psysml:66c87936-3609-4f97-8f24-8ad3882372ee\" xlink:type=\"simple\"><rect fill=\"#FEFECE\" filter=\"url(#f8k63q9bnnl07)\" height=\"40\" id=\"E2\" style=\"stroke: #A80036; stroke-width: 1.5;\" width=\"80\" x=\"381\" y=\"41\"/><ellipse cx=\"398.25\" cy=\"57\" fill=\"#008000\" rx=\"11\" ry=\"11\" style=\"stroke: #A80036; stroke-width: 1.0;\"/><path d=\"M397.1563,57.375 L397.1563,61.0469 L398.7813,61.0469 Q399.9531,61.0469 400.4219,60.6563 Q400.8906,60.25 400.8906,59.25 Q400.8906,58.25 400.3906,57.8125 Q399.9063,57.375 398.7813,57.375 L397.1563,57.375 Z M397.1563,52.5469 L397.1563,55.4219 L398.7813,55.4219 Q399.7031,55.4219 400.0938,55.0938 Q400.5,54.75 400.5,54 Q400.5,53.2344 400.0938,52.8906 Q399.6875,52.5469 398.7813,52.5469 L397.1563,52.5469 Z M394.7813,50.5938 L398.7813,50.5938 Q400.8438,50.5938 401.8906,51.375 Q402.9375,52.1563 402.9375,53.7188 Q402.9375,54.9219 402.3125,55.5938 Q401.7031,56.2656 400.5156,56.375 Q401.9375,56.5156 402.6563,57.3281 Q403.375,58.1406 403.375,59.5938 Q403.375,61.3906 402.2969,62.2031 Q401.2188,63 398.7813,63 L394.7813,63 L394.7813,50.5938 Z \"/><text fill=\"#000000\" font-family=\"sans-serif\" font-size=\"12\" lengthAdjust=\"spacingAndGlyphs\" textLength=\"43\" x=\"412.75\" y=\"61.1543\">Engine</text></a></g><g id=\"E1.E3\"><a href=\"psysml:c974a942-078b-4d34-96c1-8ca70902d898\" target=\"_top\" title=\"psysml:c974a942-078b-4d34-96c1-8ca70902d898\" xlink:actuate=\"onRequest\" xlink:href=\"psysml:c974a942-078b-4d34-96c1-8ca70902d898\" xlink:show=\"new\" xlink:title=\"psysml:c974a942-078b-4d34-96c1-8ca70902d898\" xlink:type=\"simple\"><rect fill=\"#FEFECE\" filter=\"url(#f8k63q9bnnl07)\" height=\"40\" id=\"E3\" rx=\"10\" ry=\"10\" style=\"stroke: #A80036; stroke-width: 1.5;\" width=\"139\" x=\"206.5\" y=\"41\"/><ellipse cx=\"223.75\" cy=\"57\" fill=\"#B6DBBB\" rx=\"11\" ry=\"11\" style=\"stroke: #A80036; stroke-width: 1.0;\"/><path d=\"M219.625,58.9219 L219.625,51.1094 L222.0781,51.1094 L222.0781,59.5469 Q222.0781,60.4688 222.5469,61 Q223.0313,61.5313 223.8594,61.5313 Q224.7031,61.5313 225.1719,61 Q225.6406,60.4688 225.6406,59.5469 L225.6406,51.1094 L228.0938,51.1094 L228.0938,58.9219 Q228.0938,61.4531 227.0938,62.5938 Q226.0938,63.7344 223.8594,63.7344 Q221.6406,63.7344 220.625,62.5938 Q219.625,61.4531 219.625,58.9219 Z \"/><text fill=\"#000000\" font-family=\"sans-serif\" font-size=\"12\" lengthAdjust=\"spacingAndGlyphs\" textLength=\"102\" x=\"238.25\" y=\"61.1543\">engine1: Engine</text></a></g><g id=\"E1.E4\"><a href=\"psysml:f4d0ec5b-d124-41e4-9ba9-3cb67b695e7c\" target=\"_top\" title=\"psysml:f4d0ec5b-d124-41e4-9ba9-3cb67b695e7c\" xlink:actuate=\"onRequest\" xlink:href=\"psysml:f4d0ec5b-d124-41e4-9ba9-3cb67b695e7c\" xlink:show=\"new\" xlink:title=\"psysml:f4d0ec5b-d124-41e4-9ba9-3cb67b695e7c\" xlink:type=\"simple\"><rect fill=\"#FEFECE\" filter=\"url(#f8k63q9bnnl07)\" height=\"40\" id=\"E4\" rx=\"10\" ry=\"10\" style=\"stroke: #A80036; stroke-width: 1.5;\" width=\"139\" x=\"32.5\" y=\"41\"/><ellipse cx=\"49.75\" cy=\"57\" fill=\"#B6DBBB\" rx=\"11\" ry=\"11\" style=\"stroke: #A80036; stroke-width: 1.0;\"/><path d=\"M45.625,58.9219 L45.625,51.1094 L48.0781,51.1094 L48.0781,59.5469 Q48.0781,60.4688 48.5469,61 Q49.0313,61.5313 49.8594,61.5313 Q50.7031,61.5313 51.1719,61 Q51.6406,60.4688 51.6406,59.5469 L51.6406,51.1094 L54.0938,51.1094 L54.0938,58.9219 Q54.0938,61.4531 53.0938,62.5938 Q52.0938,63.7344 49.8594,63.7344 Q47.6406,63.7344 46.625,62.5938 Q45.625,61.4531 45.625,58.9219 Z \"/><text fill=\"#000000\" font-family=\"sans-serif\" font-size=\"12\" lengthAdjust=\"spacingAndGlyphs\" textLength=\"102\" x=\"64.25\" y=\"61.1543\">engine2: Engine</text></a></g><!--MD5=[bb776db3b624933d3289c908e0e08982]\n",
       "@startuml\r\n",
       "skinparam ranksep 8\r\n",
       "skinparam rectangle {\r\n",
       " backgroundColor<<block>> LightGreen\r\n",
       "}\r\n",
       " \r\n",
       "package \"TradeStudyTest\" as E1  [[psysml:656cfd98-5664-4901-a86b-535977508953 ]]  {\r\n",
       "rec def \"Engine\" as E2  << (B,green) >> [[psysml:66c87936-3609-4f97-8f24-8ad3882372ee ]] {\r\n",
       "}\r\n",
       "rec usage \"engine1: Engine\" as E3  [[psysml:c974a942-078b-4d34-96c1-8ca70902d898 ]] {\r\n",
       "}\r\n",
       "rec usage \"engine2: Engine\" as E4  [[psysml:f4d0ec5b-d124-41e4-9ba9-3cb67b695e7c ]] {\r\n",
       "}\r\n",
       "}\r\n",
       "@enduml\r\n",
       "\n",
       "PlantUML version 1.2020.13(Sat Jun 13 12:26:38 UTC 2020)\n",
       "(EPL source distribution)\n",
       "Java Runtime: OpenJDK Runtime Environment\n",
       "JVM: OpenJDK 64-Bit Server VM\n",
       "Default Encoding: UTF-8\n",
       "Language: en\n",
       "Country: null\n",
       "--></g></svg>"
      ]
     },
     "execution_count": 33,
     "metadata": {},
     "output_type": "execute_result"
    }
   ],
   "source": [
    "%viz --style=\"PLANTUML\" --view=\"Interconnection\" \"TradeStudyTest\""
   ]
  },
  {
   "cell_type": "code",
   "execution_count": 34,
   "id": "serial-guidance",
   "metadata": {
    "execution": {
     "iopub.execute_input": "2021-03-25T13:19:22.325392Z",
     "iopub.status.busy": "2021-03-25T13:19:22.324863Z",
     "iopub.status.idle": "2021-03-25T13:19:22.410548Z",
     "shell.execute_reply": "2021-03-25T13:19:22.409564Z"
    }
   },
   "outputs": [
    {
     "data": {
      "image/svg+xml": [
       "<?xml version=\"1.0\" encoding=\"UTF-8\" standalone=\"no\"?><svg xmlns=\"http://www.w3.org/2000/svg\" xmlns:xlink=\"http://www.w3.org/1999/xlink\" contentScriptType=\"application/ecmascript\" contentStyleType=\"text/css\" height=\"136px\" preserveAspectRatio=\"none\" style=\"width:206px;height:136px;\" version=\"1.1\" viewBox=\"0 0 206 136\" width=\"206px\" zoomAndPan=\"magnify\"><defs><filter height=\"300%\" id=\"f1nj17kbuwcvp3\" width=\"300%\" x=\"-1\" y=\"-1\"><feGaussianBlur result=\"blurOut\" stdDeviation=\"2.0\"/><feColorMatrix in=\"blurOut\" result=\"blurOut2\" type=\"matrix\" values=\"0 0 0 0 0 0 0 0 0 0 0 0 0 0 0 0 0 0 .4 0\"/><feOffset dx=\"4.0\" dy=\"4.0\" in=\"blurOut2\" result=\"blurOut3\"/><feBlend in=\"SourceGraphic\" in2=\"blurOut3\" mode=\"normal\"/></filter></defs><g><!--MD5=[fbc87193dbaf4d95561dea2c320d4a47]\n",
       "cluster E1--><a href=\"psysml:2fd52497-3b24-4a66-a5d3-d77cdf8b2acf\" target=\"_top\" title=\"psysml:2fd52497-3b24-4a66-a5d3-d77cdf8b2acf\" xlink:actuate=\"onRequest\" xlink:href=\"psysml:2fd52497-3b24-4a66-a5d3-d77cdf8b2acf\" xlink:show=\"new\" xlink:title=\"psysml:2fd52497-3b24-4a66-a5d3-d77cdf8b2acf\" xlink:type=\"simple\"><rect fill=\"#FFFFFF\" filter=\"url(#f1nj17kbuwcvp3)\" height=\"110\" id=\"E1\" rx=\"10\" ry=\"10\" style=\"stroke: #A80036; stroke-width: 1.5;\" width=\"180\" x=\"7\" y=\"7\"/><rect fill=\"#FEFECE\" height=\"37.9375\" rx=\"10\" ry=\"10\" style=\"stroke: #FEFECE; stroke-width: 1.5;\" width=\"180\" x=\"7\" y=\"7\"/><rect fill=\"#FEFECE\" height=\"10\" style=\"stroke: #FEFECE; stroke-width: 1.5;\" width=\"180\" x=\"7\" y=\"34.9375\"/><rect fill=\"none\" height=\"110\" id=\"E1\" rx=\"10\" ry=\"10\" style=\"stroke: #A80036; stroke-width: 1.5;\" width=\"180\" x=\"7\" y=\"7\"/><text fill=\"#000000\" font-family=\"sans-serif\" font-size=\"12\" font-style=\"italic\" lengthAdjust=\"spacingAndGlyphs\" textLength=\"64\" x=\"65\" y=\"23.1387\">«analysis»</text><text fill=\"#000000\" font-family=\"sans-serif\" font-size=\"12\" lengthAdjust=\"spacingAndGlyphs\" textLength=\"114\" x=\"40\" y=\"37.1074\">engineTradeStudy</text><line style=\"stroke: #A80036; stroke-width: 1.0;\" x1=\"7\" x2=\"187\" y1=\"44.9375\" y2=\"44.9375\"/></a><g id=\"E1.E2\"><a href=\"psysml:7b858bf3-8f8c-4105-a0db-0d0783f29576\" target=\"_top\" title=\"psysml:7b858bf3-8f8c-4105-a0db-0d0783f29576\" xlink:actuate=\"onRequest\" xlink:href=\"psysml:7b858bf3-8f8c-4105-a0db-0d0783f29576\" xlink:show=\"new\" xlink:title=\"psysml:7b858bf3-8f8c-4105-a0db-0d0783f29576\" xlink:type=\"simple\"><rect fill=\"#FEFECE\" filter=\"url(#f1nj17kbuwcvp3)\" height=\"42.9375\" id=\"E2\" rx=\"10\" ry=\"10\" style=\"stroke: #A80036; stroke-width: 1.5;\" width=\"147\" x=\"23.5\" y=\"58\"/><ellipse cx=\"40.75\" cy=\"76.9688\" fill=\"#FFA500\" rx=\"11\" ry=\"11\" style=\"stroke: #A80036; stroke-width: 1.0;\"/><path d=\"M36.625,78.8906 L36.625,71.0781 L39.0781,71.0781 L39.0781,79.5156 Q39.0781,80.4375 39.5469,80.9688 Q40.0313,81.5 40.8594,81.5 Q41.7031,81.5 42.1719,80.9688 Q42.6406,80.4375 42.6406,79.5156 L42.6406,71.0781 L45.0938,71.0781 L45.0938,78.8906 Q45.0938,81.4219 44.0938,82.5625 Q43.0938,83.7031 40.8594,83.7031 Q38.6406,83.7031 37.625,82.5625 Q36.625,81.4219 36.625,78.8906 Z \"/><text fill=\"#000000\" font-family=\"sans-serif\" font-size=\"12\" font-style=\"italic\" lengthAdjust=\"spacingAndGlyphs\" textLength=\"82\" x=\"69.25\" y=\"74.1387\">«calculation»</text><text fill=\"#000000\" font-family=\"sans-serif\" font-size=\"12\" lengthAdjust=\"spacingAndGlyphs\" textLength=\"110\" x=\"55.25\" y=\"88.1074\">objectiveFunction</text></a></g><!--MD5=[561fbff81a74f3e739aac16387d24443]\n",
       "@startuml\r\n",
       "skinparam ranksep 8\r\n",
       " \r\n",
       "rec usage \"engineTradeStudy\" as E1 <<analysis>> [[psysml:2fd52497-3b24-4a66-a5d3-d77cdf8b2acf ]] {\r\n",
       "rec usage \"objectiveFunction\" as E2  <<(U,orange)calculation>> [[psysml:7b858bf3-8f8c-4105-a0db-0d0783f29576 ]] {\r\n",
       "}\r\n",
       "\r\n",
       "}\r\n",
       "\r\n",
       "@enduml\r\n",
       "\n",
       "PlantUML version 1.2020.13(Sat Jun 13 12:26:38 UTC 2020)\n",
       "(EPL source distribution)\n",
       "Java Runtime: OpenJDK Runtime Environment\n",
       "JVM: OpenJDK 64-Bit Server VM\n",
       "Default Encoding: UTF-8\n",
       "Language: en\n",
       "Country: null\n",
       "--></g></svg>"
      ]
     },
     "execution_count": 34,
     "metadata": {},
     "output_type": "execute_result"
    }
   ],
   "source": [
    "%viz --style=\"PLANTUML\" --view=\"Action\" \"TradeStudyTest\""
   ]
  },
  {
   "cell_type": "code",
   "execution_count": 35,
   "id": "velvet-continent",
   "metadata": {
    "execution": {
     "iopub.execute_input": "2021-03-25T13:19:22.464282Z",
     "iopub.status.busy": "2021-03-25T13:19:22.463694Z",
     "iopub.status.idle": "2021-03-25T13:19:22.640922Z",
     "shell.execute_reply": "2021-03-25T13:19:22.636176Z"
    }
   },
   "outputs": [
    {
     "data": {
      "image/svg+xml": [
       "<?xml version=\"1.0\" encoding=\"UTF-8\" standalone=\"no\"?><svg xmlns=\"http://www.w3.org/2000/svg\" xmlns:xlink=\"http://www.w3.org/1999/xlink\" contentScriptType=\"application/ecmascript\" contentStyleType=\"text/css\" height=\"491px\" preserveAspectRatio=\"none\" style=\"width:636px;height:491px;\" version=\"1.1\" viewBox=\"0 0 636 491\" width=\"636px\" zoomAndPan=\"magnify\"><defs><filter height=\"300%\" id=\"f1fqylhbmp07p0\" width=\"300%\" x=\"-1\" y=\"-1\"><feGaussianBlur result=\"blurOut\" stdDeviation=\"2.0\"/><feColorMatrix in=\"blurOut\" result=\"blurOut2\" type=\"matrix\" values=\"0 0 0 0 0 0 0 0 0 0 0 0 0 0 0 0 0 0 .4 0\"/><feOffset dx=\"4.0\" dy=\"4.0\" in=\"blurOut2\" result=\"blurOut3\"/><feBlend in=\"SourceGraphic\" in2=\"blurOut3\" mode=\"normal\"/></filter></defs><g><!--MD5=[fbc87193dbaf4d95561dea2c320d4a47]\n",
       "cluster E1--><a href=\"psysml:656cfd98-5664-4901-a86b-535977508953\" target=\"_top\" title=\"psysml:656cfd98-5664-4901-a86b-535977508953\" xlink:actuate=\"onRequest\" xlink:href=\"psysml:656cfd98-5664-4901-a86b-535977508953\" xlink:show=\"new\" xlink:title=\"psysml:656cfd98-5664-4901-a86b-535977508953\" xlink:type=\"simple\"><polygon fill=\"#FFFFFF\" filter=\"url(#f1fqylhbmp07p0)\" points=\"20.2,6,152.2,6,159.2,28.2969,614.2,28.2969,614.2,479,20.2,479,20.2,6\" style=\"stroke: #000000; stroke-width: 1.5;\"/><line style=\"stroke: #000000; stroke-width: 1.5;\" x1=\"20.2\" x2=\"159.2\" y1=\"28.2969\" y2=\"28.2969\"/><text fill=\"#000000\" font-family=\"sans-serif\" font-size=\"14\" font-weight=\"bold\" lengthAdjust=\"spacingAndGlyphs\" textLength=\"126\" x=\"24.2\" y=\"20.9951\">TradeStudyTest</text></a><!--MD5=[b4997ac47864f28c2f74865a473b2911]\n",
       "class E2--><a href=\"psysml:66c87936-3609-4f97-8f24-8ad3882372ee\" target=\"_top\" title=\"psysml:66c87936-3609-4f97-8f24-8ad3882372ee\" xlink:actuate=\"onRequest\" xlink:href=\"psysml:66c87936-3609-4f97-8f24-8ad3882372ee\" xlink:show=\"new\" xlink:title=\"psysml:66c87936-3609-4f97-8f24-8ad3882372ee\" xlink:type=\"simple\"><rect fill=\"#FEFECE\" filter=\"url(#f1fqylhbmp07p0)\" height=\"40\" id=\"E2\" style=\"stroke: #A80036; stroke-width: 1.5;\" width=\"75\" x=\"221.7\" y=\"423\"/><ellipse cx=\"236.7\" cy=\"439\" fill=\"#008000\" rx=\"11\" ry=\"11\" style=\"stroke: #A80036; stroke-width: 1.0;\"/><path d=\"M235.6063,439.375 L235.6063,443.0469 L237.2313,443.0469 Q238.4031,443.0469 238.8719,442.6563 Q239.3406,442.25 239.3406,441.25 Q239.3406,440.25 238.8406,439.8125 Q238.3563,439.375 237.2313,439.375 L235.6063,439.375 Z M235.6063,434.5469 L235.6063,437.4219 L237.2313,437.4219 Q238.1531,437.4219 238.5438,437.0938 Q238.95,436.75 238.95,436 Q238.95,435.2344 238.5438,434.8906 Q238.1375,434.5469 237.2313,434.5469 L235.6063,434.5469 Z M233.2313,432.5938 L237.2313,432.5938 Q239.2938,432.5938 240.3406,433.375 Q241.3875,434.1563 241.3875,435.7188 Q241.3875,436.9219 240.7625,437.5938 Q240.1531,438.2656 238.9656,438.375 Q240.3875,438.5156 241.1063,439.3281 Q241.825,440.1406 241.825,441.5938 Q241.825,443.3906 240.7469,444.2031 Q239.6688,445 237.2313,445 L233.2313,445 L233.2313,432.5938 Z \"/><text fill=\"#000000\" font-family=\"sans-serif\" font-size=\"12\" lengthAdjust=\"spacingAndGlyphs\" textLength=\"43\" x=\"250.7\" y=\"443.1543\">Engine</text><line style=\"stroke: #A80036; stroke-width: 1.5;\" x1=\"222.7\" x2=\"295.7\" y1=\"455\" y2=\"455\"/></a><!--MD5=[09b614a08d8cba4a07c9adeb5e0fee81]\n",
       "class E3--><a href=\"psysml:c974a942-078b-4d34-96c1-8ca70902d898\" target=\"_top\" title=\"psysml:c974a942-078b-4d34-96c1-8ca70902d898\" xlink:actuate=\"onRequest\" xlink:href=\"psysml:c974a942-078b-4d34-96c1-8ca70902d898\" xlink:show=\"new\" xlink:title=\"psysml:c974a942-078b-4d34-96c1-8ca70902d898\" xlink:type=\"simple\"><rect fill=\"#FEFECE\" filter=\"url(#f1fqylhbmp07p0)\" height=\"45.9375\" id=\"E3\" rx=\"10\" ry=\"10\" style=\"stroke: #A80036; stroke-width: 1.5;\" width=\"134\" x=\"464.2\" y=\"316\"/><ellipse cx=\"479.2\" cy=\"334.9688\" fill=\"#32CD32\" rx=\"11\" ry=\"11\" style=\"stroke: #A80036; stroke-width: 1.0;\"/><path d=\"M478.9969,330.6406 L478.9969,334.2656 L479.9969,334.2656 Q481.2,334.2656 481.6844,333.8594 Q482.1688,333.4531 482.1688,332.4531 Q482.1688,331.4531 481.6844,331.0469 Q481.2,330.6406 479.9969,330.6406 L478.9969,330.6406 Z M476.5438,328.5781 L479.9031,328.5781 Q482.4656,328.5781 483.5906,329.5 Q484.7156,330.4063 484.7156,332.4531 Q484.7156,334.5 483.5906,335.4219 Q482.4656,336.3281 479.9031,336.3281 L478.9969,336.3281 L478.9969,340.9688 L476.5438,340.9688 L476.5438,328.5781 Z \"/><text fill=\"#000000\" font-family=\"sans-serif\" font-size=\"12\" font-style=\"italic\" lengthAdjust=\"spacingAndGlyphs\" textLength=\"40\" x=\"524.2\" y=\"332.1387\">«part»</text><text fill=\"#000000\" font-family=\"sans-serif\" font-size=\"12\" lengthAdjust=\"spacingAndGlyphs\" textLength=\"102\" x=\"493.2\" y=\"346.1074\">engine1: Engine</text><line style=\"stroke: #A80036; stroke-width: 1.5;\" x1=\"465.2\" x2=\"597.2\" y1=\"353.9375\" y2=\"353.9375\"/></a><!--MD5=[ebbe1d658d1005bcc118a6aa81145e00]\n",
       "class E4--><a href=\"psysml:f4d0ec5b-d124-41e4-9ba9-3cb67b695e7c\" target=\"_top\" title=\"psysml:f4d0ec5b-d124-41e4-9ba9-3cb67b695e7c\" xlink:actuate=\"onRequest\" xlink:href=\"psysml:f4d0ec5b-d124-41e4-9ba9-3cb67b695e7c\" xlink:show=\"new\" xlink:title=\"psysml:f4d0ec5b-d124-41e4-9ba9-3cb67b695e7c\" xlink:type=\"simple\"><rect fill=\"#FEFECE\" filter=\"url(#f1fqylhbmp07p0)\" height=\"45.9375\" id=\"E4\" rx=\"10\" ry=\"10\" style=\"stroke: #A80036; stroke-width: 1.5;\" width=\"134\" x=\"295.2\" y=\"316\"/><ellipse cx=\"310.2\" cy=\"334.9688\" fill=\"#32CD32\" rx=\"11\" ry=\"11\" style=\"stroke: #A80036; stroke-width: 1.0;\"/><path d=\"M309.9969,330.6406 L309.9969,334.2656 L310.9969,334.2656 Q312.2,334.2656 312.6844,333.8594 Q313.1688,333.4531 313.1688,332.4531 Q313.1688,331.4531 312.6844,331.0469 Q312.2,330.6406 310.9969,330.6406 L309.9969,330.6406 Z M307.5438,328.5781 L310.9031,328.5781 Q313.4656,328.5781 314.5906,329.5 Q315.7156,330.4063 315.7156,332.4531 Q315.7156,334.5 314.5906,335.4219 Q313.4656,336.3281 310.9031,336.3281 L309.9969,336.3281 L309.9969,340.9688 L307.5438,340.9688 L307.5438,328.5781 Z \"/><text fill=\"#000000\" font-family=\"sans-serif\" font-size=\"12\" font-style=\"italic\" lengthAdjust=\"spacingAndGlyphs\" textLength=\"40\" x=\"355.2\" y=\"332.1387\">«part»</text><text fill=\"#000000\" font-family=\"sans-serif\" font-size=\"12\" lengthAdjust=\"spacingAndGlyphs\" textLength=\"102\" x=\"324.2\" y=\"346.1074\">engine2: Engine</text><line style=\"stroke: #A80036; stroke-width: 1.5;\" x1=\"296.2\" x2=\"428.2\" y1=\"353.9375\" y2=\"353.9375\"/></a><!--MD5=[270fce915f116d4de14055a7c1d9a0f3]\n",
       "class E5--><a href=\"psysml:2fd52497-3b24-4a66-a5d3-d77cdf8b2acf\" target=\"_top\" title=\"psysml:2fd52497-3b24-4a66-a5d3-d77cdf8b2acf\" xlink:actuate=\"onRequest\" xlink:href=\"psysml:2fd52497-3b24-4a66-a5d3-d77cdf8b2acf\" xlink:show=\"new\" xlink:title=\"psysml:2fd52497-3b24-4a66-a5d3-d77cdf8b2acf\" xlink:type=\"simple\"><rect fill=\"#FEFECE\" filter=\"url(#f1fqylhbmp07p0)\" height=\"45.9375\" id=\"E5\" rx=\"10\" ry=\"10\" style=\"stroke: #A80036; stroke-width: 1.5;\" width=\"225\" x=\"283.7\" y=\"41\"/><ellipse cx=\"298.7\" cy=\"59.9688\" fill=\"#B6DBBB\" rx=\"11\" ry=\"11\" style=\"stroke: #A80036; stroke-width: 1.0;\"/><path d=\"M294.575,61.8906 L294.575,54.0781 L297.0281,54.0781 L297.0281,62.5156 Q297.0281,63.4375 297.4969,63.9688 Q297.9813,64.5 298.8094,64.5 Q299.6531,64.5 300.1219,63.9688 Q300.5906,63.4375 300.5906,62.5156 L300.5906,54.0781 L303.0438,54.0781 L303.0438,61.8906 Q303.0438,64.4219 302.0438,65.5625 Q301.0438,66.7031 298.8094,66.7031 Q296.5906,66.7031 295.575,65.5625 Q294.575,64.4219 294.575,61.8906 Z \"/><text fill=\"#000000\" font-family=\"sans-serif\" font-size=\"12\" font-style=\"italic\" lengthAdjust=\"spacingAndGlyphs\" textLength=\"64\" x=\"377.2\" y=\"57.1387\">«analysis»</text><text fill=\"#000000\" font-family=\"sans-serif\" font-size=\"12\" lengthAdjust=\"spacingAndGlyphs\" textLength=\"193\" x=\"312.7\" y=\"71.1074\">engineTradeStudy: TradeStudy</text><line style=\"stroke: #A80036; stroke-width: 1.5;\" x1=\"284.7\" x2=\"507.7\" y1=\"78.9375\" y2=\"78.9375\"/></a><!--MD5=[60a26617385b1d2d0262a64233df1f8d]\n",
       "class E6--><a href=\"psysml:2c27f52f-f536-4fc6-bf8d-fd6e3fd13c39\" target=\"_top\" title=\"psysml:2c27f52f-f536-4fc6-bf8d-fd6e3fd13c39\" xlink:actuate=\"onRequest\" xlink:href=\"psysml:2c27f52f-f536-4fc6-bf8d-fd6e3fd13c39\" xlink:show=\"new\" xlink:title=\"psysml:2c27f52f-f536-4fc6-bf8d-fd6e3fd13c39\" xlink:type=\"simple\"><rect fill=\"#FEFECE\" filter=\"url(#f1fqylhbmp07p0)\" height=\"45.9375\" id=\"E6\" rx=\"10\" ry=\"10\" style=\"stroke: #A80036; stroke-width: 1.5;\" width=\"277\" x=\"106.7\" y=\"164\"/><ellipse cx=\"121.7\" cy=\"182.9688\" fill=\"#FFA500\" rx=\"11\" ry=\"11\" style=\"stroke: #A80036; stroke-width: 1.0;\"/><path d=\"M117.575,184.8906 L117.575,177.0781 L120.0281,177.0781 L120.0281,185.5156 Q120.0281,186.4375 120.4969,186.9688 Q120.9813,187.5 121.8094,187.5 Q122.6531,187.5 123.1219,186.9688 Q123.5906,186.4375 123.5906,185.5156 L123.5906,177.0781 L126.0438,177.0781 L126.0438,184.8906 Q126.0438,187.4219 125.0438,188.5625 Q124.0438,189.7031 121.8094,189.7031 Q119.5906,189.7031 118.575,188.5625 Q117.575,187.4219 117.575,184.8906 Z \"/><text fill=\"#000000\" font-family=\"sans-serif\" font-size=\"12\" font-style=\"italic\" lengthAdjust=\"spacingAndGlyphs\" textLength=\"91\" x=\"212.7\" y=\"180.1387\">«requirement»</text><text fill=\"#000000\" font-family=\"sans-serif\" font-size=\"12\" lengthAdjust=\"spacingAndGlyphs\" textLength=\"245\" x=\"135.7\" y=\"194.1074\">tradeStudyObjective: MaximizeObjective</text><line style=\"stroke: #A80036; stroke-width: 1.5;\" x1=\"107.7\" x2=\"382.7\" y1=\"201.9375\" y2=\"201.9375\"/></a><!--MD5=[2156ba9850f5573cc1fc38a6a4b2f02b]\n",
       "class E7--><a href=\"psysml:7b858bf3-8f8c-4105-a0db-0d0783f29576\" target=\"_top\" title=\"psysml:7b858bf3-8f8c-4105-a0db-0d0783f29576\" xlink:actuate=\"onRequest\" xlink:href=\"psysml:7b858bf3-8f8c-4105-a0db-0d0783f29576\" xlink:show=\"new\" xlink:title=\"psysml:7b858bf3-8f8c-4105-a0db-0d0783f29576\" xlink:type=\"simple\"><rect fill=\"#FEFECE\" filter=\"url(#f1fqylhbmp07p0)\" height=\"45.9375\" id=\"E7\" rx=\"10\" ry=\"10\" style=\"stroke: #A80036; stroke-width: 1.5;\" width=\"142\" x=\"419.2\" y=\"164\"/><ellipse cx=\"434.2\" cy=\"182.9688\" fill=\"#FFA500\" rx=\"11\" ry=\"11\" style=\"stroke: #A80036; stroke-width: 1.0;\"/><path d=\"M430.075,184.8906 L430.075,177.0781 L432.5281,177.0781 L432.5281,185.5156 Q432.5281,186.4375 432.9969,186.9688 Q433.4813,187.5 434.3094,187.5 Q435.1531,187.5 435.6219,186.9688 Q436.0906,186.4375 436.0906,185.5156 L436.0906,177.0781 L438.5438,177.0781 L438.5438,184.8906 Q438.5438,187.4219 437.5438,188.5625 Q436.5438,189.7031 434.3094,189.7031 Q432.0906,189.7031 431.075,188.5625 Q430.075,187.4219 430.075,184.8906 Z \"/><text fill=\"#000000\" font-family=\"sans-serif\" font-size=\"12\" font-style=\"italic\" lengthAdjust=\"spacingAndGlyphs\" textLength=\"82\" x=\"462.2\" y=\"180.1387\">«calculation»</text><text fill=\"#000000\" font-family=\"sans-serif\" font-size=\"12\" lengthAdjust=\"spacingAndGlyphs\" textLength=\"110\" x=\"448.2\" y=\"194.1074\">objectiveFunction</text><line style=\"stroke: #A80036; stroke-width: 1.5;\" x1=\"420.2\" x2=\"560.2\" y1=\"201.9375\" y2=\"201.9375\"/></a><!--MD5=[b9389687b975829384b498ac4b7476b2]\n",
       "class E8--><a href=\"psysml:b0f7840c-11d7-45e2-a5a4-bf208bef1113\" target=\"_top\" title=\"psysml:b0f7840c-11d7-45e2-a5a4-bf208bef1113\" xlink:actuate=\"onRequest\" xlink:href=\"psysml:b0f7840c-11d7-45e2-a5a4-bf208bef1113\" xlink:show=\"new\" xlink:title=\"psysml:b0f7840c-11d7-45e2-a5a4-bf208bef1113\" xlink:type=\"simple\"><rect fill=\"#FEFECE\" filter=\"url(#f1fqylhbmp07p0)\" height=\"45.9375\" id=\"E8\" rx=\"10\" ry=\"10\" style=\"stroke: #A80036; stroke-width: 1.5;\" width=\"150\" x=\"73.2\" y=\"316\"/><ellipse cx=\"88.2\" cy=\"334.9688\" fill=\"#32CD32\" rx=\"11\" ry=\"11\" style=\"stroke: #A80036; stroke-width: 1.0;\"/><path d=\"M87.9969,330.6406 L87.9969,334.2656 L88.9969,334.2656 Q90.2,334.2656 90.6844,333.8594 Q91.1688,333.4531 91.1688,332.4531 Q91.1688,331.4531 90.6844,331.0469 Q90.2,330.6406 88.9969,330.6406 L87.9969,330.6406 Z M85.5438,328.5781 L88.9031,328.5781 Q91.4656,328.5781 92.5906,329.5 Q93.7156,330.4063 93.7156,332.4531 Q93.7156,334.5 92.5906,335.4219 Q91.4656,336.3281 88.9031,336.3281 L87.9969,336.3281 L87.9969,340.9688 L85.5438,340.9688 L85.5438,328.5781 Z \"/><text fill=\"#000000\" font-family=\"sans-serif\" font-size=\"12\" font-style=\"italic\" lengthAdjust=\"spacingAndGlyphs\" textLength=\"40\" x=\"141.2\" y=\"332.1387\">«part»</text><text fill=\"#000000\" font-family=\"sans-serif\" font-size=\"12\" lengthAdjust=\"spacingAndGlyphs\" textLength=\"118\" x=\"102.2\" y=\"346.1074\">alternative: Engine</text><line style=\"stroke: #A80036; stroke-width: 1.5;\" x1=\"74.2\" x2=\"222.2\" y1=\"353.9375\" y2=\"353.9375\"/></a><!--MD5=[fd4143e9d270a159db93a4ea2a975926]\n",
       "class E9--><a href=\"psysml:9d098c9e-1a7b-415f-a301-c2067e422f2c\" target=\"_top\" title=\"psysml:9d098c9e-1a7b-415f-a301-c2067e422f2c\" xlink:actuate=\"onRequest\" xlink:href=\"psysml:9d098c9e-1a7b-415f-a301-c2067e422f2c\" xlink:show=\"new\" xlink:title=\"psysml:9d098c9e-1a7b-415f-a301-c2067e422f2c\" xlink:type=\"simple\"><rect fill=\"#FEFECE\" filter=\"url(#f1fqylhbmp07p0)\" height=\"45.9375\" id=\"E9\" rx=\"10\" ry=\"10\" style=\"stroke: #A80036; stroke-width: 1.5;\" width=\"204\" x=\"275.2\" y=\"240\"/><ellipse cx=\"290.2\" cy=\"258.9688\" fill=\"#32CD32\" rx=\"11\" ry=\"11\" style=\"stroke: #A80036; stroke-width: 1.0;\"/><path d=\"M289.9969,254.6406 L289.9969,258.2656 L290.9969,258.2656 Q292.2,258.2656 292.6844,257.8594 Q293.1688,257.4531 293.1688,256.4531 Q293.1688,255.4531 292.6844,255.0469 Q292.2,254.6406 290.9969,254.6406 L289.9969,254.6406 Z M287.5438,252.5781 L290.9031,252.5781 Q293.4656,252.5781 294.5906,253.5 Q295.7156,254.4063 295.7156,256.4531 Q295.7156,258.5 294.5906,259.4219 Q293.4656,260.3281 290.9031,260.3281 L289.9969,260.3281 L289.9969,264.9688 L287.5438,264.9688 L287.5438,252.5781 Z \"/><text fill=\"#000000\" font-family=\"sans-serif\" font-size=\"12\" font-style=\"italic\" lengthAdjust=\"spacingAndGlyphs\" textLength=\"40\" x=\"370.2\" y=\"256.1387\">«part»</text><text fill=\"#000000\" font-family=\"sans-serif\" font-size=\"12\" lengthAdjust=\"spacingAndGlyphs\" textLength=\"172\" x=\"304.2\" y=\"270.1074\">selectedAlternative: Engine</text><line style=\"stroke: #A80036; stroke-width: 1.5;\" x1=\"276.2\" x2=\"478.2\" y1=\"277.9375\" y2=\"277.9375\"/></a><!--MD5=[05d275557350bfb9b23a4ef7222b4c39]\n",
       "link E3 to E2--><a href=\"psysml:6d15a19a-180f-471d-b762-c393731ed9f0\" target=\"_top\" title=\"psysml:6d15a19a-180f-471d-b762-c393731ed9f0\" xlink:actuate=\"onRequest\" xlink:href=\"psysml:6d15a19a-180f-471d-b762-c393731ed9f0\" xlink:show=\"new\" xlink:title=\"psysml:6d15a19a-180f-471d-b762-c393731ed9f0\" xlink:type=\"simple\"><path d=\"M472.51,362.01 C426.12,379.4 361.76,403.54 315.9,420.74 \" fill=\"none\" id=\"E3-&gt;E2\" style=\"stroke: #A80036; stroke-width: 1.0;\"/><polygon fill=\"#FFFFFF\" points=\"296.87,427.87,312.2079,414.6508,317.1182,427.7614,296.87,427.87\" style=\"stroke: #A80036; stroke-width: 1.0;\"/><ellipse cx=\"318.2473\" cy=\"414.5245\" fill=\"#A80036\" rx=\"2\" ry=\"2\" style=\"stroke: #A80036; stroke-width: 1.0;\"/><ellipse cx=\"321.7546\" cy=\"423.8893\" fill=\"#A80036\" rx=\"2\" ry=\"2\" style=\"stroke: #A80036; stroke-width: 1.0;\"/></a><!--MD5=[185131fc0dcab0a4505a2ebe144e961b]\n",
       "link E4 to E2--><a href=\"psysml:247dd621-3d2a-4448-8896-ee4a55c37d47\" target=\"_top\" title=\"psysml:247dd621-3d2a-4448-8896-ee4a55c37d47\" xlink:actuate=\"onRequest\" xlink:href=\"psysml:247dd621-3d2a-4448-8896-ee4a55c37d47\" xlink:show=\"new\" xlink:title=\"psysml:247dd621-3d2a-4448-8896-ee4a55c37d47\" xlink:type=\"simple\"><path d=\"M339.85,362.13 C326.09,375.76 308.2,393.47 292.76,408.76 \" fill=\"none\" id=\"E4-&gt;E2\" style=\"stroke: #A80036; stroke-width: 1.0;\"/><polygon fill=\"#FFFFFF\" points=\"278.39,423,286.968,404.6583,296.8174,414.6077,278.39,423\" style=\"stroke: #A80036; stroke-width: 1.0;\"/><ellipse cx=\"292.4259\" cy=\"402.0695\" fill=\"#A80036\" rx=\"2\" ry=\"2\" style=\"stroke: #A80036; stroke-width: 1.0;\"/><ellipse cx=\"299.4612\" cy=\"409.1762\" fill=\"#A80036\" rx=\"2\" ry=\"2\" style=\"stroke: #A80036; stroke-width: 1.0;\"/></a><!--MD5=[15ebcb19ae302d9b601edb458606d402]\n",
       "link E5 to E2--><a href=\"psysml:21b7132a-f544-4487-a747-91d198ad447d\" target=\"_top\" title=\"psysml:21b7132a-f544-4487-a747-91d198ad447d\" xlink:actuate=\"onRequest\" xlink:href=\"psysml:21b7132a-f544-4487-a747-91d198ad447d\" xlink:show=\"new\" xlink:title=\"psysml:21b7132a-f544-4487-a747-91d198ad447d\" xlink:type=\"simple\"><path d=\"M283.33,73.88 C217.7,84.99 138.47,109.64 89.2,164 C29.29,230.1 6,288.25 56.2,362 C91.99,414.57 168.14,432.6 216.32,438.78 \" fill=\"none\" id=\"E5-&gt;E2\" style=\"stroke: #A80036; stroke-width: 1.0; stroke-dasharray: 7.0,7.0;\"/><polygon fill=\"#A80036\" points=\"221.48,439.41,213.0385,434.3365,216.5177,438.7968,212.0574,442.2761,221.48,439.41\" style=\"stroke: #A80036; stroke-width: 1.0;\"/><text fill=\"#000000\" font-family=\"sans-serif\" font-size=\"13\" lengthAdjust=\"spacingAndGlyphs\" textLength=\"62\" x=\"39.2\" y=\"267.5669\">«subject»</text></a><!--MD5=[9120cf2e5df3bff93db8f754bbbc09b4]\n",
       "link E5 to E6--><a href=\"psysml:44ec4945-cc63-4e9d-b8df-7b9a76da0bc7\" target=\"_top\" title=\"psysml:44ec4945-cc63-4e9d-b8df-7b9a76da0bc7\" xlink:actuate=\"onRequest\" xlink:href=\"psysml:44ec4945-cc63-4e9d-b8df-7b9a76da0bc7\" xlink:show=\"new\" xlink:title=\"psysml:44ec4945-cc63-4e9d-b8df-7b9a76da0bc7\" xlink:type=\"simple\"><path d=\"M368.5,87.19 C343.28,107.41 305.97,137.31 279,158.92 \" fill=\"none\" id=\"E5-&gt;E6\" style=\"stroke: #A80036; stroke-width: 1.0;\"/><polygon fill=\"#A80036\" points=\"272.72,163.95,280.8396,161.2905,277.0888,156.6074,272.72,163.95\" style=\"stroke: #A80036; stroke-width: 1.0;\"/><text fill=\"#000000\" font-family=\"sans-serif\" font-size=\"13\" lengthAdjust=\"spacingAndGlyphs\" textLength=\"73\" x=\"330.2\" y=\"130.0669\">«objective»</text></a><!--MD5=[452b418e7f8a40397a49b8c0a78acc5b]\n",
       "reverse link E5 to E7--><a href=\"psysml:7b858bf3-8f8c-4105-a0db-0d0783f29576\" target=\"_top\" title=\"psysml:7b858bf3-8f8c-4105-a0db-0d0783f29576\" xlink:actuate=\"onRequest\" xlink:href=\"psysml:7b858bf3-8f8c-4105-a0db-0d0783f29576\" xlink:show=\"new\" xlink:title=\"psysml:7b858bf3-8f8c-4105-a0db-0d0783f29576\" xlink:type=\"simple\"><path d=\"M421.52,97.59 C437.85,118.61 458.66,145.4 473.07,163.95 \" fill=\"none\" id=\"E5&lt;-E7\" style=\"stroke: #A80036; stroke-width: 1.0;\"/><polygon fill=\"#A80036\" points=\"413.44,87.19,413.9586,94.3824,420.7972,96.67,420.2786,89.4776,413.44,87.19\" style=\"stroke: #A80036; stroke-width: 1.0;\"/></a><!--MD5=[f1f3f9f2fc535e6147756cb86a7f2e32]\n",
       "link E8 to E2--><a href=\"psysml:2565caae-8b6e-420b-a56a-eab601fd4b55\" target=\"_top\" title=\"psysml:2565caae-8b6e-420b-a56a-eab601fd4b55\" xlink:actuate=\"onRequest\" xlink:href=\"psysml:2565caae-8b6e-420b-a56a-eab601fd4b55\" xlink:show=\"new\" xlink:title=\"psysml:2565caae-8b6e-420b-a56a-eab601fd4b55\" xlink:type=\"simple\"><path d=\"M172.29,362.13 C187.26,375.9 206.8,393.84 223.55,409.24 \" fill=\"none\" id=\"E8-&gt;E2\" style=\"stroke: #A80036; stroke-width: 1.0;\"/><polygon fill=\"#FFFFFF\" points=\"238.52,423,219.7918,415.3024,229.2623,404.9918,238.52,423\" style=\"stroke: #A80036; stroke-width: 1.0;\"/><ellipse cx=\"216.9468\" cy=\"409.9736\" fill=\"#A80036\" rx=\"2\" ry=\"2\" style=\"stroke: #A80036; stroke-width: 1.0;\"/><ellipse cx=\"223.7115\" cy=\"402.6089\" fill=\"#A80036\" rx=\"2\" ry=\"2\" style=\"stroke: #A80036; stroke-width: 1.0;\"/></a><!--MD5=[dc164f5e8a733ab456ef1add180e9e34]\n",
       "reverse link E7 to E8--><a href=\"psysml:b0f7840c-11d7-45e2-a5a4-bf208bef1113\" target=\"_top\" title=\"psysml:b0f7840c-11d7-45e2-a5a4-bf208bef1113\" xlink:actuate=\"onRequest\" xlink:href=\"psysml:b0f7840c-11d7-45e2-a5a4-bf208bef1113\" xlink:show=\"new\" xlink:title=\"psysml:b0f7840c-11d7-45e2-a5a4-bf208bef1113\" xlink:type=\"simple\"><path d=\"M406.09,208.88 C404.45,209.26 402.81,209.63 401.2,210 C337.89,224.46 316.18,210.75 258.2,240 C221.21,258.66 186.98,292.95 166.84,315.61 \" fill=\"none\" id=\"E7&lt;-E8\" style=\"stroke: #A80036; stroke-width: 1.0;\"/><polygon fill=\"#FFFFFF\" points=\"418.84,205.88,412.0846,203.3572,407.1576,208.6226,413.913,211.1454,418.84,205.88\" style=\"stroke: #A80036; stroke-width: 1.0;\"/></a><!--MD5=[5c3bb36fe832a92c7f0e1807dd65209d]\n",
       "link E9 to E2--><a href=\"psysml:a6aa3e55-56ca-44c6-92e8-1089eebb019a\" target=\"_top\" title=\"psysml:a6aa3e55-56ca-44c6-92e8-1089eebb019a\" xlink:actuate=\"onRequest\" xlink:href=\"psysml:a6aa3e55-56ca-44c6-92e8-1089eebb019a\" xlink:show=\"new\" xlink:title=\"psysml:a6aa3e55-56ca-44c6-92e8-1089eebb019a\" xlink:type=\"simple\"><path d=\"M313.67,286.14 C300.09,293.64 287.15,303.42 278.2,316 C260.36,341.07 256.3,376.08 256.31,402.84 \" fill=\"none\" id=\"E9-&gt;E2\" style=\"stroke: #A80036; stroke-width: 1.0;\"/><polygon fill=\"#FFFFFF\" points=\"257.06,422.97,249.3591,404.2431,263.3494,403.7231,257.06,422.97\" style=\"stroke: #A80036; stroke-width: 1.0;\"/><ellipse cx=\"251.146\" cy=\"398.4728\" fill=\"#A80036\" rx=\"2\" ry=\"2\" style=\"stroke: #A80036; stroke-width: 1.0;\"/><ellipse cx=\"261.1391\" cy=\"398.1013\" fill=\"#A80036\" rx=\"2\" ry=\"2\" style=\"stroke: #A80036; stroke-width: 1.0;\"/></a><!--MD5=[9ae28de373ca99bb8a1b38d63370ca7e]\n",
       "reverse link E5 to E9--><a href=\"psysml:9d098c9e-1a7b-415f-a301-c2067e422f2c\" target=\"_top\" title=\"psysml:9d098c9e-1a7b-415f-a301-c2067e422f2c\" xlink:actuate=\"onRequest\" xlink:href=\"psysml:9d098c9e-1a7b-415f-a301-c2067e422f2c\" xlink:show=\"new\" xlink:title=\"psysml:9d098c9e-1a7b-415f-a301-c2067e422f2c\" xlink:type=\"simple\"><path d=\"M477.44,91.83 C542.71,117.79 617.64,160.42 579.2,210 C566.19,226.78 522.73,239.1 479.43,247.52 \" fill=\"none\" id=\"E5&lt;-E9\" style=\"stroke: #A80036; stroke-width: 1.0;\"/><polygon fill=\"#FFFFFF\" points=\"464.97,87.02,469.1253,92.9135,476.1637,91.3445,472.0083,85.451,464.97,87.02\" style=\"stroke: #A80036; stroke-width: 1.0;\"/></a><!--MD5=[16280a16cba2ef5368d9a76d29f726da]\n",
       "@startuml\r\n",
       " \r\n",
       "package \"TradeStudyTest\" as E1  [[psysml:656cfd98-5664-4901-a86b-535977508953 ]]  {\r\n",
       "comp def \"Engine\" as E2  << (B,green) >> [[psysml:66c87936-3609-4f97-8f24-8ad3882372ee ]] {\r\n",
       "}\r\n",
       "comp usage \"engine1: Engine\" as E3  << (P,limegreen) part>> [[psysml:c974a942-078b-4d34-96c1-8ca70902d898 ]] {\r\n",
       "}\r\n",
       "comp usage \"engine2: Engine\" as E4  << (P,limegreen) part>> [[psysml:f4d0ec5b-d124-41e4-9ba9-3cb67b695e7c ]] {\r\n",
       "}\r\n",
       "comp usage \"engineTradeStudy: TradeStudy\" as E5 <<analysis>> [[psysml:2fd52497-3b24-4a66-a5d3-d77cdf8b2acf ]] {\r\n",
       "}\r\n",
       "comp usage \"tradeStudyObjective: MaximizeObjective\" as E6  <<(U,orange)requirement>> [[psysml:2c27f52f-f536-4fc6-bf8d-fd6e3fd13c39 ]] {\r\n",
       "}\r\n",
       "comp usage \"objectiveFunction\" as E7  <<(U,orange)calculation>> [[psysml:7b858bf3-8f8c-4105-a0db-0d0783f29576 ]] {\r\n",
       "}\r\n",
       "comp usage \"alternative: Engine\" as E8  << (P,limegreen) part>> [[psysml:b0f7840c-11d7-45e2-a5a4-bf208bef1113 ]] {\r\n",
       "}\r\n",
       "comp usage \"selectedAlternative: Engine\" as E9  << (P,limegreen) part>> [[psysml:9d098c9e-1a7b-415f-a301-c2067e422f2c ]] {\r\n",
       "}\r\n",
       "E3 - -:|> E2 [[psysml:6d15a19a-180f-471d-b762-c393731ed9f0 ]] \r\n",
       "E4 - -:|> E2 [[psysml:247dd621-3d2a-4448-8896-ee4a55c37d47 ]] \r\n",
       "E5 ..> E2 [[psysml:21b7132a-f544-4487-a747-91d198ad447d ]] : <<subject>>\r\n",
       "E5 - ->> E6 [[psysml:44ec4945-cc63-4e9d-b8df-7b9a76da0bc7 ]] : <<objective>>\r\n",
       "E5 *- - E7 [[psysml:7b858bf3-8f8c-4105-a0db-0d0783f29576 ]] \r\n",
       "E8 - -:|> E2 [[psysml:2565caae-8b6e-420b-a56a-eab601fd4b55 ]] \r\n",
       "E7 o- - E8 [[psysml:b0f7840c-11d7-45e2-a5a4-bf208bef1113 ]] \r\n",
       "E9 - -:|> E2 [[psysml:a6aa3e55-56ca-44c6-92e8-1089eebb019a ]] \r\n",
       "E5 o- - E9 [[psysml:9d098c9e-1a7b-415f-a301-c2067e422f2c ]] \r\n",
       "}\r\n",
       "@enduml\r\n",
       "\n",
       "PlantUML version 1.2020.13(Sat Jun 13 12:26:38 UTC 2020)\n",
       "(EPL source distribution)\n",
       "Java Runtime: OpenJDK Runtime Environment\n",
       "JVM: OpenJDK 64-Bit Server VM\n",
       "Default Encoding: UTF-8\n",
       "Language: en\n",
       "Country: null\n",
       "--></g></svg>"
      ]
     },
     "execution_count": 35,
     "metadata": {},
     "output_type": "execute_result"
    }
   ],
   "source": [
    "%viz --style=\"PLANTUML\" --view=\"Sequence\" \"TradeStudyTest\""
   ]
  },
  {
   "cell_type": "code",
   "execution_count": 36,
   "id": "latter-glenn",
   "metadata": {
    "execution": {
     "iopub.execute_input": "2021-03-25T13:19:22.693034Z",
     "iopub.status.busy": "2021-03-25T13:19:22.692130Z",
     "iopub.status.idle": "2021-03-25T13:19:22.863673Z",
     "shell.execute_reply": "2021-03-25T13:19:22.859119Z"
    }
   },
   "outputs": [
    {
     "data": {
      "image/svg+xml": [
       "<?xml version=\"1.0\" encoding=\"UTF-8\" standalone=\"no\"?><svg xmlns=\"http://www.w3.org/2000/svg\" xmlns:xlink=\"http://www.w3.org/1999/xlink\" contentScriptType=\"application/ecmascript\" contentStyleType=\"text/css\" height=\"491px\" preserveAspectRatio=\"none\" style=\"width:636px;height:491px;\" version=\"1.1\" viewBox=\"0 0 636 491\" width=\"636px\" zoomAndPan=\"magnify\"><defs><filter height=\"300%\" id=\"f1fqylhbmp07p0\" width=\"300%\" x=\"-1\" y=\"-1\"><feGaussianBlur result=\"blurOut\" stdDeviation=\"2.0\"/><feColorMatrix in=\"blurOut\" result=\"blurOut2\" type=\"matrix\" values=\"0 0 0 0 0 0 0 0 0 0 0 0 0 0 0 0 0 0 .4 0\"/><feOffset dx=\"4.0\" dy=\"4.0\" in=\"blurOut2\" result=\"blurOut3\"/><feBlend in=\"SourceGraphic\" in2=\"blurOut3\" mode=\"normal\"/></filter></defs><g><!--MD5=[fbc87193dbaf4d95561dea2c320d4a47]\n",
       "cluster E1--><a href=\"psysml:656cfd98-5664-4901-a86b-535977508953\" target=\"_top\" title=\"psysml:656cfd98-5664-4901-a86b-535977508953\" xlink:actuate=\"onRequest\" xlink:href=\"psysml:656cfd98-5664-4901-a86b-535977508953\" xlink:show=\"new\" xlink:title=\"psysml:656cfd98-5664-4901-a86b-535977508953\" xlink:type=\"simple\"><polygon fill=\"#FFFFFF\" filter=\"url(#f1fqylhbmp07p0)\" points=\"20.2,6,152.2,6,159.2,28.2969,614.2,28.2969,614.2,479,20.2,479,20.2,6\" style=\"stroke: #000000; stroke-width: 1.5;\"/><line style=\"stroke: #000000; stroke-width: 1.5;\" x1=\"20.2\" x2=\"159.2\" y1=\"28.2969\" y2=\"28.2969\"/><text fill=\"#000000\" font-family=\"sans-serif\" font-size=\"14\" font-weight=\"bold\" lengthAdjust=\"spacingAndGlyphs\" textLength=\"126\" x=\"24.2\" y=\"20.9951\">TradeStudyTest</text></a><!--MD5=[b4997ac47864f28c2f74865a473b2911]\n",
       "class E2--><a href=\"psysml:66c87936-3609-4f97-8f24-8ad3882372ee\" target=\"_top\" title=\"psysml:66c87936-3609-4f97-8f24-8ad3882372ee\" xlink:actuate=\"onRequest\" xlink:href=\"psysml:66c87936-3609-4f97-8f24-8ad3882372ee\" xlink:show=\"new\" xlink:title=\"psysml:66c87936-3609-4f97-8f24-8ad3882372ee\" xlink:type=\"simple\"><rect fill=\"#FEFECE\" filter=\"url(#f1fqylhbmp07p0)\" height=\"40\" id=\"E2\" style=\"stroke: #A80036; stroke-width: 1.5;\" width=\"75\" x=\"221.7\" y=\"423\"/><ellipse cx=\"236.7\" cy=\"439\" fill=\"#008000\" rx=\"11\" ry=\"11\" style=\"stroke: #A80036; stroke-width: 1.0;\"/><path d=\"M235.6063,439.375 L235.6063,443.0469 L237.2313,443.0469 Q238.4031,443.0469 238.8719,442.6563 Q239.3406,442.25 239.3406,441.25 Q239.3406,440.25 238.8406,439.8125 Q238.3563,439.375 237.2313,439.375 L235.6063,439.375 Z M235.6063,434.5469 L235.6063,437.4219 L237.2313,437.4219 Q238.1531,437.4219 238.5438,437.0938 Q238.95,436.75 238.95,436 Q238.95,435.2344 238.5438,434.8906 Q238.1375,434.5469 237.2313,434.5469 L235.6063,434.5469 Z M233.2313,432.5938 L237.2313,432.5938 Q239.2938,432.5938 240.3406,433.375 Q241.3875,434.1563 241.3875,435.7188 Q241.3875,436.9219 240.7625,437.5938 Q240.1531,438.2656 238.9656,438.375 Q240.3875,438.5156 241.1063,439.3281 Q241.825,440.1406 241.825,441.5938 Q241.825,443.3906 240.7469,444.2031 Q239.6688,445 237.2313,445 L233.2313,445 L233.2313,432.5938 Z \"/><text fill=\"#000000\" font-family=\"sans-serif\" font-size=\"12\" lengthAdjust=\"spacingAndGlyphs\" textLength=\"43\" x=\"250.7\" y=\"443.1543\">Engine</text><line style=\"stroke: #A80036; stroke-width: 1.5;\" x1=\"222.7\" x2=\"295.7\" y1=\"455\" y2=\"455\"/></a><!--MD5=[09b614a08d8cba4a07c9adeb5e0fee81]\n",
       "class E3--><a href=\"psysml:c974a942-078b-4d34-96c1-8ca70902d898\" target=\"_top\" title=\"psysml:c974a942-078b-4d34-96c1-8ca70902d898\" xlink:actuate=\"onRequest\" xlink:href=\"psysml:c974a942-078b-4d34-96c1-8ca70902d898\" xlink:show=\"new\" xlink:title=\"psysml:c974a942-078b-4d34-96c1-8ca70902d898\" xlink:type=\"simple\"><rect fill=\"#FEFECE\" filter=\"url(#f1fqylhbmp07p0)\" height=\"45.9375\" id=\"E3\" rx=\"10\" ry=\"10\" style=\"stroke: #A80036; stroke-width: 1.5;\" width=\"134\" x=\"464.2\" y=\"316\"/><ellipse cx=\"479.2\" cy=\"334.9688\" fill=\"#32CD32\" rx=\"11\" ry=\"11\" style=\"stroke: #A80036; stroke-width: 1.0;\"/><path d=\"M478.9969,330.6406 L478.9969,334.2656 L479.9969,334.2656 Q481.2,334.2656 481.6844,333.8594 Q482.1688,333.4531 482.1688,332.4531 Q482.1688,331.4531 481.6844,331.0469 Q481.2,330.6406 479.9969,330.6406 L478.9969,330.6406 Z M476.5438,328.5781 L479.9031,328.5781 Q482.4656,328.5781 483.5906,329.5 Q484.7156,330.4063 484.7156,332.4531 Q484.7156,334.5 483.5906,335.4219 Q482.4656,336.3281 479.9031,336.3281 L478.9969,336.3281 L478.9969,340.9688 L476.5438,340.9688 L476.5438,328.5781 Z \"/><text fill=\"#000000\" font-family=\"sans-serif\" font-size=\"12\" font-style=\"italic\" lengthAdjust=\"spacingAndGlyphs\" textLength=\"40\" x=\"524.2\" y=\"332.1387\">«part»</text><text fill=\"#000000\" font-family=\"sans-serif\" font-size=\"12\" lengthAdjust=\"spacingAndGlyphs\" textLength=\"102\" x=\"493.2\" y=\"346.1074\">engine1: Engine</text><line style=\"stroke: #A80036; stroke-width: 1.5;\" x1=\"465.2\" x2=\"597.2\" y1=\"353.9375\" y2=\"353.9375\"/></a><!--MD5=[ebbe1d658d1005bcc118a6aa81145e00]\n",
       "class E4--><a href=\"psysml:f4d0ec5b-d124-41e4-9ba9-3cb67b695e7c\" target=\"_top\" title=\"psysml:f4d0ec5b-d124-41e4-9ba9-3cb67b695e7c\" xlink:actuate=\"onRequest\" xlink:href=\"psysml:f4d0ec5b-d124-41e4-9ba9-3cb67b695e7c\" xlink:show=\"new\" xlink:title=\"psysml:f4d0ec5b-d124-41e4-9ba9-3cb67b695e7c\" xlink:type=\"simple\"><rect fill=\"#FEFECE\" filter=\"url(#f1fqylhbmp07p0)\" height=\"45.9375\" id=\"E4\" rx=\"10\" ry=\"10\" style=\"stroke: #A80036; stroke-width: 1.5;\" width=\"134\" x=\"295.2\" y=\"316\"/><ellipse cx=\"310.2\" cy=\"334.9688\" fill=\"#32CD32\" rx=\"11\" ry=\"11\" style=\"stroke: #A80036; stroke-width: 1.0;\"/><path d=\"M309.9969,330.6406 L309.9969,334.2656 L310.9969,334.2656 Q312.2,334.2656 312.6844,333.8594 Q313.1688,333.4531 313.1688,332.4531 Q313.1688,331.4531 312.6844,331.0469 Q312.2,330.6406 310.9969,330.6406 L309.9969,330.6406 Z M307.5438,328.5781 L310.9031,328.5781 Q313.4656,328.5781 314.5906,329.5 Q315.7156,330.4063 315.7156,332.4531 Q315.7156,334.5 314.5906,335.4219 Q313.4656,336.3281 310.9031,336.3281 L309.9969,336.3281 L309.9969,340.9688 L307.5438,340.9688 L307.5438,328.5781 Z \"/><text fill=\"#000000\" font-family=\"sans-serif\" font-size=\"12\" font-style=\"italic\" lengthAdjust=\"spacingAndGlyphs\" textLength=\"40\" x=\"355.2\" y=\"332.1387\">«part»</text><text fill=\"#000000\" font-family=\"sans-serif\" font-size=\"12\" lengthAdjust=\"spacingAndGlyphs\" textLength=\"102\" x=\"324.2\" y=\"346.1074\">engine2: Engine</text><line style=\"stroke: #A80036; stroke-width: 1.5;\" x1=\"296.2\" x2=\"428.2\" y1=\"353.9375\" y2=\"353.9375\"/></a><!--MD5=[270fce915f116d4de14055a7c1d9a0f3]\n",
       "class E5--><a href=\"psysml:2fd52497-3b24-4a66-a5d3-d77cdf8b2acf\" target=\"_top\" title=\"psysml:2fd52497-3b24-4a66-a5d3-d77cdf8b2acf\" xlink:actuate=\"onRequest\" xlink:href=\"psysml:2fd52497-3b24-4a66-a5d3-d77cdf8b2acf\" xlink:show=\"new\" xlink:title=\"psysml:2fd52497-3b24-4a66-a5d3-d77cdf8b2acf\" xlink:type=\"simple\"><rect fill=\"#FEFECE\" filter=\"url(#f1fqylhbmp07p0)\" height=\"45.9375\" id=\"E5\" rx=\"10\" ry=\"10\" style=\"stroke: #A80036; stroke-width: 1.5;\" width=\"225\" x=\"283.7\" y=\"41\"/><ellipse cx=\"298.7\" cy=\"59.9688\" fill=\"#B6DBBB\" rx=\"11\" ry=\"11\" style=\"stroke: #A80036; stroke-width: 1.0;\"/><path d=\"M294.575,61.8906 L294.575,54.0781 L297.0281,54.0781 L297.0281,62.5156 Q297.0281,63.4375 297.4969,63.9688 Q297.9813,64.5 298.8094,64.5 Q299.6531,64.5 300.1219,63.9688 Q300.5906,63.4375 300.5906,62.5156 L300.5906,54.0781 L303.0438,54.0781 L303.0438,61.8906 Q303.0438,64.4219 302.0438,65.5625 Q301.0438,66.7031 298.8094,66.7031 Q296.5906,66.7031 295.575,65.5625 Q294.575,64.4219 294.575,61.8906 Z \"/><text fill=\"#000000\" font-family=\"sans-serif\" font-size=\"12\" font-style=\"italic\" lengthAdjust=\"spacingAndGlyphs\" textLength=\"64\" x=\"377.2\" y=\"57.1387\">«analysis»</text><text fill=\"#000000\" font-family=\"sans-serif\" font-size=\"12\" lengthAdjust=\"spacingAndGlyphs\" textLength=\"193\" x=\"312.7\" y=\"71.1074\">engineTradeStudy: TradeStudy</text><line style=\"stroke: #A80036; stroke-width: 1.5;\" x1=\"284.7\" x2=\"507.7\" y1=\"78.9375\" y2=\"78.9375\"/></a><!--MD5=[60a26617385b1d2d0262a64233df1f8d]\n",
       "class E6--><a href=\"psysml:2c27f52f-f536-4fc6-bf8d-fd6e3fd13c39\" target=\"_top\" title=\"psysml:2c27f52f-f536-4fc6-bf8d-fd6e3fd13c39\" xlink:actuate=\"onRequest\" xlink:href=\"psysml:2c27f52f-f536-4fc6-bf8d-fd6e3fd13c39\" xlink:show=\"new\" xlink:title=\"psysml:2c27f52f-f536-4fc6-bf8d-fd6e3fd13c39\" xlink:type=\"simple\"><rect fill=\"#FEFECE\" filter=\"url(#f1fqylhbmp07p0)\" height=\"45.9375\" id=\"E6\" rx=\"10\" ry=\"10\" style=\"stroke: #A80036; stroke-width: 1.5;\" width=\"277\" x=\"106.7\" y=\"164\"/><ellipse cx=\"121.7\" cy=\"182.9688\" fill=\"#FFA500\" rx=\"11\" ry=\"11\" style=\"stroke: #A80036; stroke-width: 1.0;\"/><path d=\"M117.575,184.8906 L117.575,177.0781 L120.0281,177.0781 L120.0281,185.5156 Q120.0281,186.4375 120.4969,186.9688 Q120.9813,187.5 121.8094,187.5 Q122.6531,187.5 123.1219,186.9688 Q123.5906,186.4375 123.5906,185.5156 L123.5906,177.0781 L126.0438,177.0781 L126.0438,184.8906 Q126.0438,187.4219 125.0438,188.5625 Q124.0438,189.7031 121.8094,189.7031 Q119.5906,189.7031 118.575,188.5625 Q117.575,187.4219 117.575,184.8906 Z \"/><text fill=\"#000000\" font-family=\"sans-serif\" font-size=\"12\" font-style=\"italic\" lengthAdjust=\"spacingAndGlyphs\" textLength=\"91\" x=\"212.7\" y=\"180.1387\">«requirement»</text><text fill=\"#000000\" font-family=\"sans-serif\" font-size=\"12\" lengthAdjust=\"spacingAndGlyphs\" textLength=\"245\" x=\"135.7\" y=\"194.1074\">tradeStudyObjective: MaximizeObjective</text><line style=\"stroke: #A80036; stroke-width: 1.5;\" x1=\"107.7\" x2=\"382.7\" y1=\"201.9375\" y2=\"201.9375\"/></a><!--MD5=[2156ba9850f5573cc1fc38a6a4b2f02b]\n",
       "class E7--><a href=\"psysml:7b858bf3-8f8c-4105-a0db-0d0783f29576\" target=\"_top\" title=\"psysml:7b858bf3-8f8c-4105-a0db-0d0783f29576\" xlink:actuate=\"onRequest\" xlink:href=\"psysml:7b858bf3-8f8c-4105-a0db-0d0783f29576\" xlink:show=\"new\" xlink:title=\"psysml:7b858bf3-8f8c-4105-a0db-0d0783f29576\" xlink:type=\"simple\"><rect fill=\"#FEFECE\" filter=\"url(#f1fqylhbmp07p0)\" height=\"45.9375\" id=\"E7\" rx=\"10\" ry=\"10\" style=\"stroke: #A80036; stroke-width: 1.5;\" width=\"142\" x=\"419.2\" y=\"164\"/><ellipse cx=\"434.2\" cy=\"182.9688\" fill=\"#FFA500\" rx=\"11\" ry=\"11\" style=\"stroke: #A80036; stroke-width: 1.0;\"/><path d=\"M430.075,184.8906 L430.075,177.0781 L432.5281,177.0781 L432.5281,185.5156 Q432.5281,186.4375 432.9969,186.9688 Q433.4813,187.5 434.3094,187.5 Q435.1531,187.5 435.6219,186.9688 Q436.0906,186.4375 436.0906,185.5156 L436.0906,177.0781 L438.5438,177.0781 L438.5438,184.8906 Q438.5438,187.4219 437.5438,188.5625 Q436.5438,189.7031 434.3094,189.7031 Q432.0906,189.7031 431.075,188.5625 Q430.075,187.4219 430.075,184.8906 Z \"/><text fill=\"#000000\" font-family=\"sans-serif\" font-size=\"12\" font-style=\"italic\" lengthAdjust=\"spacingAndGlyphs\" textLength=\"82\" x=\"462.2\" y=\"180.1387\">«calculation»</text><text fill=\"#000000\" font-family=\"sans-serif\" font-size=\"12\" lengthAdjust=\"spacingAndGlyphs\" textLength=\"110\" x=\"448.2\" y=\"194.1074\">objectiveFunction</text><line style=\"stroke: #A80036; stroke-width: 1.5;\" x1=\"420.2\" x2=\"560.2\" y1=\"201.9375\" y2=\"201.9375\"/></a><!--MD5=[b9389687b975829384b498ac4b7476b2]\n",
       "class E8--><a href=\"psysml:b0f7840c-11d7-45e2-a5a4-bf208bef1113\" target=\"_top\" title=\"psysml:b0f7840c-11d7-45e2-a5a4-bf208bef1113\" xlink:actuate=\"onRequest\" xlink:href=\"psysml:b0f7840c-11d7-45e2-a5a4-bf208bef1113\" xlink:show=\"new\" xlink:title=\"psysml:b0f7840c-11d7-45e2-a5a4-bf208bef1113\" xlink:type=\"simple\"><rect fill=\"#FEFECE\" filter=\"url(#f1fqylhbmp07p0)\" height=\"45.9375\" id=\"E8\" rx=\"10\" ry=\"10\" style=\"stroke: #A80036; stroke-width: 1.5;\" width=\"150\" x=\"73.2\" y=\"316\"/><ellipse cx=\"88.2\" cy=\"334.9688\" fill=\"#32CD32\" rx=\"11\" ry=\"11\" style=\"stroke: #A80036; stroke-width: 1.0;\"/><path d=\"M87.9969,330.6406 L87.9969,334.2656 L88.9969,334.2656 Q90.2,334.2656 90.6844,333.8594 Q91.1688,333.4531 91.1688,332.4531 Q91.1688,331.4531 90.6844,331.0469 Q90.2,330.6406 88.9969,330.6406 L87.9969,330.6406 Z M85.5438,328.5781 L88.9031,328.5781 Q91.4656,328.5781 92.5906,329.5 Q93.7156,330.4063 93.7156,332.4531 Q93.7156,334.5 92.5906,335.4219 Q91.4656,336.3281 88.9031,336.3281 L87.9969,336.3281 L87.9969,340.9688 L85.5438,340.9688 L85.5438,328.5781 Z \"/><text fill=\"#000000\" font-family=\"sans-serif\" font-size=\"12\" font-style=\"italic\" lengthAdjust=\"spacingAndGlyphs\" textLength=\"40\" x=\"141.2\" y=\"332.1387\">«part»</text><text fill=\"#000000\" font-family=\"sans-serif\" font-size=\"12\" lengthAdjust=\"spacingAndGlyphs\" textLength=\"118\" x=\"102.2\" y=\"346.1074\">alternative: Engine</text><line style=\"stroke: #A80036; stroke-width: 1.5;\" x1=\"74.2\" x2=\"222.2\" y1=\"353.9375\" y2=\"353.9375\"/></a><!--MD5=[fd4143e9d270a159db93a4ea2a975926]\n",
       "class E9--><a href=\"psysml:9d098c9e-1a7b-415f-a301-c2067e422f2c\" target=\"_top\" title=\"psysml:9d098c9e-1a7b-415f-a301-c2067e422f2c\" xlink:actuate=\"onRequest\" xlink:href=\"psysml:9d098c9e-1a7b-415f-a301-c2067e422f2c\" xlink:show=\"new\" xlink:title=\"psysml:9d098c9e-1a7b-415f-a301-c2067e422f2c\" xlink:type=\"simple\"><rect fill=\"#FEFECE\" filter=\"url(#f1fqylhbmp07p0)\" height=\"45.9375\" id=\"E9\" rx=\"10\" ry=\"10\" style=\"stroke: #A80036; stroke-width: 1.5;\" width=\"204\" x=\"275.2\" y=\"240\"/><ellipse cx=\"290.2\" cy=\"258.9688\" fill=\"#32CD32\" rx=\"11\" ry=\"11\" style=\"stroke: #A80036; stroke-width: 1.0;\"/><path d=\"M289.9969,254.6406 L289.9969,258.2656 L290.9969,258.2656 Q292.2,258.2656 292.6844,257.8594 Q293.1688,257.4531 293.1688,256.4531 Q293.1688,255.4531 292.6844,255.0469 Q292.2,254.6406 290.9969,254.6406 L289.9969,254.6406 Z M287.5438,252.5781 L290.9031,252.5781 Q293.4656,252.5781 294.5906,253.5 Q295.7156,254.4063 295.7156,256.4531 Q295.7156,258.5 294.5906,259.4219 Q293.4656,260.3281 290.9031,260.3281 L289.9969,260.3281 L289.9969,264.9688 L287.5438,264.9688 L287.5438,252.5781 Z \"/><text fill=\"#000000\" font-family=\"sans-serif\" font-size=\"12\" font-style=\"italic\" lengthAdjust=\"spacingAndGlyphs\" textLength=\"40\" x=\"370.2\" y=\"256.1387\">«part»</text><text fill=\"#000000\" font-family=\"sans-serif\" font-size=\"12\" lengthAdjust=\"spacingAndGlyphs\" textLength=\"172\" x=\"304.2\" y=\"270.1074\">selectedAlternative: Engine</text><line style=\"stroke: #A80036; stroke-width: 1.5;\" x1=\"276.2\" x2=\"478.2\" y1=\"277.9375\" y2=\"277.9375\"/></a><!--MD5=[05d275557350bfb9b23a4ef7222b4c39]\n",
       "link E3 to E2--><a href=\"psysml:6d15a19a-180f-471d-b762-c393731ed9f0\" target=\"_top\" title=\"psysml:6d15a19a-180f-471d-b762-c393731ed9f0\" xlink:actuate=\"onRequest\" xlink:href=\"psysml:6d15a19a-180f-471d-b762-c393731ed9f0\" xlink:show=\"new\" xlink:title=\"psysml:6d15a19a-180f-471d-b762-c393731ed9f0\" xlink:type=\"simple\"><path d=\"M472.51,362.01 C426.12,379.4 361.76,403.54 315.9,420.74 \" fill=\"none\" id=\"E3-&gt;E2\" style=\"stroke: #A80036; stroke-width: 1.0;\"/><polygon fill=\"#FFFFFF\" points=\"296.87,427.87,312.2079,414.6508,317.1182,427.7614,296.87,427.87\" style=\"stroke: #A80036; stroke-width: 1.0;\"/><ellipse cx=\"318.2473\" cy=\"414.5245\" fill=\"#A80036\" rx=\"2\" ry=\"2\" style=\"stroke: #A80036; stroke-width: 1.0;\"/><ellipse cx=\"321.7546\" cy=\"423.8893\" fill=\"#A80036\" rx=\"2\" ry=\"2\" style=\"stroke: #A80036; stroke-width: 1.0;\"/></a><!--MD5=[185131fc0dcab0a4505a2ebe144e961b]\n",
       "link E4 to E2--><a href=\"psysml:247dd621-3d2a-4448-8896-ee4a55c37d47\" target=\"_top\" title=\"psysml:247dd621-3d2a-4448-8896-ee4a55c37d47\" xlink:actuate=\"onRequest\" xlink:href=\"psysml:247dd621-3d2a-4448-8896-ee4a55c37d47\" xlink:show=\"new\" xlink:title=\"psysml:247dd621-3d2a-4448-8896-ee4a55c37d47\" xlink:type=\"simple\"><path d=\"M339.85,362.13 C326.09,375.76 308.2,393.47 292.76,408.76 \" fill=\"none\" id=\"E4-&gt;E2\" style=\"stroke: #A80036; stroke-width: 1.0;\"/><polygon fill=\"#FFFFFF\" points=\"278.39,423,286.968,404.6583,296.8174,414.6077,278.39,423\" style=\"stroke: #A80036; stroke-width: 1.0;\"/><ellipse cx=\"292.4259\" cy=\"402.0695\" fill=\"#A80036\" rx=\"2\" ry=\"2\" style=\"stroke: #A80036; stroke-width: 1.0;\"/><ellipse cx=\"299.4612\" cy=\"409.1762\" fill=\"#A80036\" rx=\"2\" ry=\"2\" style=\"stroke: #A80036; stroke-width: 1.0;\"/></a><!--MD5=[15ebcb19ae302d9b601edb458606d402]\n",
       "link E5 to E2--><a href=\"psysml:21b7132a-f544-4487-a747-91d198ad447d\" target=\"_top\" title=\"psysml:21b7132a-f544-4487-a747-91d198ad447d\" xlink:actuate=\"onRequest\" xlink:href=\"psysml:21b7132a-f544-4487-a747-91d198ad447d\" xlink:show=\"new\" xlink:title=\"psysml:21b7132a-f544-4487-a747-91d198ad447d\" xlink:type=\"simple\"><path d=\"M283.33,73.88 C217.7,84.99 138.47,109.64 89.2,164 C29.29,230.1 6,288.25 56.2,362 C91.99,414.57 168.14,432.6 216.32,438.78 \" fill=\"none\" id=\"E5-&gt;E2\" style=\"stroke: #A80036; stroke-width: 1.0; stroke-dasharray: 7.0,7.0;\"/><polygon fill=\"#A80036\" points=\"221.48,439.41,213.0385,434.3365,216.5177,438.7968,212.0574,442.2761,221.48,439.41\" style=\"stroke: #A80036; stroke-width: 1.0;\"/><text fill=\"#000000\" font-family=\"sans-serif\" font-size=\"13\" lengthAdjust=\"spacingAndGlyphs\" textLength=\"62\" x=\"39.2\" y=\"267.5669\">«subject»</text></a><!--MD5=[9120cf2e5df3bff93db8f754bbbc09b4]\n",
       "link E5 to E6--><a href=\"psysml:44ec4945-cc63-4e9d-b8df-7b9a76da0bc7\" target=\"_top\" title=\"psysml:44ec4945-cc63-4e9d-b8df-7b9a76da0bc7\" xlink:actuate=\"onRequest\" xlink:href=\"psysml:44ec4945-cc63-4e9d-b8df-7b9a76da0bc7\" xlink:show=\"new\" xlink:title=\"psysml:44ec4945-cc63-4e9d-b8df-7b9a76da0bc7\" xlink:type=\"simple\"><path d=\"M368.5,87.19 C343.28,107.41 305.97,137.31 279,158.92 \" fill=\"none\" id=\"E5-&gt;E6\" style=\"stroke: #A80036; stroke-width: 1.0;\"/><polygon fill=\"#A80036\" points=\"272.72,163.95,280.8396,161.2905,277.0888,156.6074,272.72,163.95\" style=\"stroke: #A80036; stroke-width: 1.0;\"/><text fill=\"#000000\" font-family=\"sans-serif\" font-size=\"13\" lengthAdjust=\"spacingAndGlyphs\" textLength=\"73\" x=\"330.2\" y=\"130.0669\">«objective»</text></a><!--MD5=[452b418e7f8a40397a49b8c0a78acc5b]\n",
       "reverse link E5 to E7--><a href=\"psysml:7b858bf3-8f8c-4105-a0db-0d0783f29576\" target=\"_top\" title=\"psysml:7b858bf3-8f8c-4105-a0db-0d0783f29576\" xlink:actuate=\"onRequest\" xlink:href=\"psysml:7b858bf3-8f8c-4105-a0db-0d0783f29576\" xlink:show=\"new\" xlink:title=\"psysml:7b858bf3-8f8c-4105-a0db-0d0783f29576\" xlink:type=\"simple\"><path d=\"M421.52,97.59 C437.85,118.61 458.66,145.4 473.07,163.95 \" fill=\"none\" id=\"E5&lt;-E7\" style=\"stroke: #A80036; stroke-width: 1.0;\"/><polygon fill=\"#A80036\" points=\"413.44,87.19,413.9586,94.3824,420.7972,96.67,420.2786,89.4776,413.44,87.19\" style=\"stroke: #A80036; stroke-width: 1.0;\"/></a><!--MD5=[f1f3f9f2fc535e6147756cb86a7f2e32]\n",
       "link E8 to E2--><a href=\"psysml:2565caae-8b6e-420b-a56a-eab601fd4b55\" target=\"_top\" title=\"psysml:2565caae-8b6e-420b-a56a-eab601fd4b55\" xlink:actuate=\"onRequest\" xlink:href=\"psysml:2565caae-8b6e-420b-a56a-eab601fd4b55\" xlink:show=\"new\" xlink:title=\"psysml:2565caae-8b6e-420b-a56a-eab601fd4b55\" xlink:type=\"simple\"><path d=\"M172.29,362.13 C187.26,375.9 206.8,393.84 223.55,409.24 \" fill=\"none\" id=\"E8-&gt;E2\" style=\"stroke: #A80036; stroke-width: 1.0;\"/><polygon fill=\"#FFFFFF\" points=\"238.52,423,219.7918,415.3024,229.2623,404.9918,238.52,423\" style=\"stroke: #A80036; stroke-width: 1.0;\"/><ellipse cx=\"216.9468\" cy=\"409.9736\" fill=\"#A80036\" rx=\"2\" ry=\"2\" style=\"stroke: #A80036; stroke-width: 1.0;\"/><ellipse cx=\"223.7115\" cy=\"402.6089\" fill=\"#A80036\" rx=\"2\" ry=\"2\" style=\"stroke: #A80036; stroke-width: 1.0;\"/></a><!--MD5=[dc164f5e8a733ab456ef1add180e9e34]\n",
       "reverse link E7 to E8--><a href=\"psysml:b0f7840c-11d7-45e2-a5a4-bf208bef1113\" target=\"_top\" title=\"psysml:b0f7840c-11d7-45e2-a5a4-bf208bef1113\" xlink:actuate=\"onRequest\" xlink:href=\"psysml:b0f7840c-11d7-45e2-a5a4-bf208bef1113\" xlink:show=\"new\" xlink:title=\"psysml:b0f7840c-11d7-45e2-a5a4-bf208bef1113\" xlink:type=\"simple\"><path d=\"M406.09,208.88 C404.45,209.26 402.81,209.63 401.2,210 C337.89,224.46 316.18,210.75 258.2,240 C221.21,258.66 186.98,292.95 166.84,315.61 \" fill=\"none\" id=\"E7&lt;-E8\" style=\"stroke: #A80036; stroke-width: 1.0;\"/><polygon fill=\"#FFFFFF\" points=\"418.84,205.88,412.0846,203.3572,407.1576,208.6226,413.913,211.1454,418.84,205.88\" style=\"stroke: #A80036; stroke-width: 1.0;\"/></a><!--MD5=[5c3bb36fe832a92c7f0e1807dd65209d]\n",
       "link E9 to E2--><a href=\"psysml:a6aa3e55-56ca-44c6-92e8-1089eebb019a\" target=\"_top\" title=\"psysml:a6aa3e55-56ca-44c6-92e8-1089eebb019a\" xlink:actuate=\"onRequest\" xlink:href=\"psysml:a6aa3e55-56ca-44c6-92e8-1089eebb019a\" xlink:show=\"new\" xlink:title=\"psysml:a6aa3e55-56ca-44c6-92e8-1089eebb019a\" xlink:type=\"simple\"><path d=\"M313.67,286.14 C300.09,293.64 287.15,303.42 278.2,316 C260.36,341.07 256.3,376.08 256.31,402.84 \" fill=\"none\" id=\"E9-&gt;E2\" style=\"stroke: #A80036; stroke-width: 1.0;\"/><polygon fill=\"#FFFFFF\" points=\"257.06,422.97,249.3591,404.2431,263.3494,403.7231,257.06,422.97\" style=\"stroke: #A80036; stroke-width: 1.0;\"/><ellipse cx=\"251.146\" cy=\"398.4728\" fill=\"#A80036\" rx=\"2\" ry=\"2\" style=\"stroke: #A80036; stroke-width: 1.0;\"/><ellipse cx=\"261.1391\" cy=\"398.1013\" fill=\"#A80036\" rx=\"2\" ry=\"2\" style=\"stroke: #A80036; stroke-width: 1.0;\"/></a><!--MD5=[9ae28de373ca99bb8a1b38d63370ca7e]\n",
       "reverse link E5 to E9--><a href=\"psysml:9d098c9e-1a7b-415f-a301-c2067e422f2c\" target=\"_top\" title=\"psysml:9d098c9e-1a7b-415f-a301-c2067e422f2c\" xlink:actuate=\"onRequest\" xlink:href=\"psysml:9d098c9e-1a7b-415f-a301-c2067e422f2c\" xlink:show=\"new\" xlink:title=\"psysml:9d098c9e-1a7b-415f-a301-c2067e422f2c\" xlink:type=\"simple\"><path d=\"M477.44,91.83 C542.71,117.79 617.64,160.42 579.2,210 C566.19,226.78 522.73,239.1 479.43,247.52 \" fill=\"none\" id=\"E5&lt;-E9\" style=\"stroke: #A80036; stroke-width: 1.0;\"/><polygon fill=\"#FFFFFF\" points=\"464.97,87.02,469.1253,92.9135,476.1637,91.3445,472.0083,85.451,464.97,87.02\" style=\"stroke: #A80036; stroke-width: 1.0;\"/></a><!--MD5=[16280a16cba2ef5368d9a76d29f726da]\n",
       "@startuml\r\n",
       " \r\n",
       "package \"TradeStudyTest\" as E1  [[psysml:656cfd98-5664-4901-a86b-535977508953 ]]  {\r\n",
       "comp def \"Engine\" as E2  << (B,green) >> [[psysml:66c87936-3609-4f97-8f24-8ad3882372ee ]] {\r\n",
       "}\r\n",
       "comp usage \"engine1: Engine\" as E3  << (P,limegreen) part>> [[psysml:c974a942-078b-4d34-96c1-8ca70902d898 ]] {\r\n",
       "}\r\n",
       "comp usage \"engine2: Engine\" as E4  << (P,limegreen) part>> [[psysml:f4d0ec5b-d124-41e4-9ba9-3cb67b695e7c ]] {\r\n",
       "}\r\n",
       "comp usage \"engineTradeStudy: TradeStudy\" as E5 <<analysis>> [[psysml:2fd52497-3b24-4a66-a5d3-d77cdf8b2acf ]] {\r\n",
       "}\r\n",
       "comp usage \"tradeStudyObjective: MaximizeObjective\" as E6  <<(U,orange)requirement>> [[psysml:2c27f52f-f536-4fc6-bf8d-fd6e3fd13c39 ]] {\r\n",
       "}\r\n",
       "comp usage \"objectiveFunction\" as E7  <<(U,orange)calculation>> [[psysml:7b858bf3-8f8c-4105-a0db-0d0783f29576 ]] {\r\n",
       "}\r\n",
       "comp usage \"alternative: Engine\" as E8  << (P,limegreen) part>> [[psysml:b0f7840c-11d7-45e2-a5a4-bf208bef1113 ]] {\r\n",
       "}\r\n",
       "comp usage \"selectedAlternative: Engine\" as E9  << (P,limegreen) part>> [[psysml:9d098c9e-1a7b-415f-a301-c2067e422f2c ]] {\r\n",
       "}\r\n",
       "E3 - -:|> E2 [[psysml:6d15a19a-180f-471d-b762-c393731ed9f0 ]] \r\n",
       "E4 - -:|> E2 [[psysml:247dd621-3d2a-4448-8896-ee4a55c37d47 ]] \r\n",
       "E5 ..> E2 [[psysml:21b7132a-f544-4487-a747-91d198ad447d ]] : <<subject>>\r\n",
       "E5 - ->> E6 [[psysml:44ec4945-cc63-4e9d-b8df-7b9a76da0bc7 ]] : <<objective>>\r\n",
       "E5 *- - E7 [[psysml:7b858bf3-8f8c-4105-a0db-0d0783f29576 ]] \r\n",
       "E8 - -:|> E2 [[psysml:2565caae-8b6e-420b-a56a-eab601fd4b55 ]] \r\n",
       "E7 o- - E8 [[psysml:b0f7840c-11d7-45e2-a5a4-bf208bef1113 ]] \r\n",
       "E9 - -:|> E2 [[psysml:a6aa3e55-56ca-44c6-92e8-1089eebb019a ]] \r\n",
       "E5 o- - E9 [[psysml:9d098c9e-1a7b-415f-a301-c2067e422f2c ]] \r\n",
       "}\r\n",
       "@enduml\r\n",
       "\n",
       "PlantUML version 1.2020.13(Sat Jun 13 12:26:38 UTC 2020)\n",
       "(EPL source distribution)\n",
       "Java Runtime: OpenJDK Runtime Environment\n",
       "JVM: OpenJDK 64-Bit Server VM\n",
       "Default Encoding: UTF-8\n",
       "Language: en\n",
       "Country: null\n",
       "--></g></svg>"
      ]
     },
     "execution_count": 36,
     "metadata": {},
     "output_type": "execute_result"
    }
   ],
   "source": [
    "%viz --style=\"PLANTUML\" --view=\"MIXED\" \"TradeStudyTest\""
   ]
  },
  {
   "cell_type": "code",
   "execution_count": 37,
   "id": "ranking-account",
   "metadata": {
    "execution": {
     "iopub.execute_input": "2021-03-25T13:19:22.915357Z",
     "iopub.status.busy": "2021-03-25T13:19:22.914683Z",
     "iopub.status.idle": "2021-03-25T13:19:23.079752Z",
     "shell.execute_reply": "2021-03-25T13:19:23.078169Z"
    }
   },
   "outputs": [
    {
     "data": {
      "image/svg+xml": [
       "<?xml version=\"1.0\" encoding=\"UTF-8\" standalone=\"no\"?><svg xmlns=\"http://www.w3.org/2000/svg\" xmlns:xlink=\"http://www.w3.org/1999/xlink\" contentScriptType=\"application/ecmascript\" contentStyleType=\"text/css\" height=\"497px\" preserveAspectRatio=\"none\" style=\"width:556px;height:497px;\" version=\"1.1\" viewBox=\"0 0 556 497\" width=\"556px\" zoomAndPan=\"magnify\"><defs/><g><!--MD5=[fbc87193dbaf4d95561dea2c320d4a47]\n",
       "cluster E1--><a href=\"psysml:656cfd98-5664-4901-a86b-535977508953\" target=\"_top\" title=\"psysml:656cfd98-5664-4901-a86b-535977508953\" xlink:actuate=\"onRequest\" xlink:href=\"psysml:656cfd98-5664-4901-a86b-535977508953\" xlink:show=\"new\" xlink:title=\"psysml:656cfd98-5664-4901-a86b-535977508953\" xlink:type=\"simple\"><polygon fill=\"#FFFFFF\" points=\"18.32,6,150.32,6,157.32,28.2969,534.32,28.2969,534.32,485,18.32,485,18.32,6\" style=\"stroke: #000000; stroke-width: 1.5;\"/><line style=\"stroke: #000000; stroke-width: 1.5;\" x1=\"18.32\" x2=\"157.32\" y1=\"28.2969\" y2=\"28.2969\"/><text fill=\"#000000\" font-family=\"sans-serif\" font-size=\"14\" font-weight=\"bold\" lengthAdjust=\"spacingAndGlyphs\" textLength=\"126\" x=\"22.32\" y=\"20.9951\">TradeStudyTest</text></a><!--MD5=[b4997ac47864f28c2f74865a473b2911]\n",
       "class E2--><a href=\"psysml:66c87936-3609-4f97-8f24-8ad3882372ee\" target=\"_top\" title=\"psysml:66c87936-3609-4f97-8f24-8ad3882372ee\" xlink:actuate=\"onRequest\" xlink:href=\"psysml:66c87936-3609-4f97-8f24-8ad3882372ee\" xlink:show=\"new\" xlink:title=\"psysml:66c87936-3609-4f97-8f24-8ad3882372ee\" xlink:type=\"simple\"><rect fill=\"#FFFFFF\" height=\"45.9375\" id=\"E2\" style=\"stroke: #383838; stroke-width: 1.5;\" width=\"66\" x=\"198.32\" y=\"423\"/><text fill=\"#000000\" font-family=\"sans-serif\" font-size=\"12\" font-style=\"italic\" lengthAdjust=\"spacingAndGlyphs\" textLength=\"64\" x=\"199.32\" y=\"439.1387\">«part def»</text><text fill=\"#000000\" font-family=\"sans-serif\" font-size=\"12\" lengthAdjust=\"spacingAndGlyphs\" textLength=\"43\" x=\"209.82\" y=\"453.1074\">Engine</text><line style=\"stroke: #383838; stroke-width: 1.5;\" x1=\"199.32\" x2=\"263.32\" y1=\"460.9375\" y2=\"460.9375\"/></a><!--MD5=[09b614a08d8cba4a07c9adeb5e0fee81]\n",
       "class E3--><a href=\"psysml:c974a942-078b-4d34-96c1-8ca70902d898\" target=\"_top\" title=\"psysml:c974a942-078b-4d34-96c1-8ca70902d898\" xlink:actuate=\"onRequest\" xlink:href=\"psysml:c974a942-078b-4d34-96c1-8ca70902d898\" xlink:show=\"new\" xlink:title=\"psysml:c974a942-078b-4d34-96c1-8ca70902d898\" xlink:type=\"simple\"><rect fill=\"#FFFFFF\" height=\"45.9375\" id=\"E3\" rx=\"10\" ry=\"10\" style=\"stroke: #383838; stroke-width: 1.5;\" width=\"108\" x=\"410.32\" y=\"316\"/><text fill=\"#000000\" font-family=\"sans-serif\" font-size=\"12\" font-style=\"italic\" lengthAdjust=\"spacingAndGlyphs\" textLength=\"40\" x=\"444.32\" y=\"332.1387\">«part»</text><text fill=\"#000000\" font-family=\"sans-serif\" font-size=\"12\" lengthAdjust=\"spacingAndGlyphs\" textLength=\"102\" x=\"413.32\" y=\"346.1074\">engine1: Engine</text><line style=\"stroke: #383838; stroke-width: 1.5;\" x1=\"411.32\" x2=\"517.32\" y1=\"353.9375\" y2=\"353.9375\"/></a><!--MD5=[ebbe1d658d1005bcc118a6aa81145e00]\n",
       "class E4--><a href=\"psysml:f4d0ec5b-d124-41e4-9ba9-3cb67b695e7c\" target=\"_top\" title=\"psysml:f4d0ec5b-d124-41e4-9ba9-3cb67b695e7c\" xlink:actuate=\"onRequest\" xlink:href=\"psysml:f4d0ec5b-d124-41e4-9ba9-3cb67b695e7c\" xlink:show=\"new\" xlink:title=\"psysml:f4d0ec5b-d124-41e4-9ba9-3cb67b695e7c\" xlink:type=\"simple\"><rect fill=\"#FFFFFF\" height=\"45.9375\" id=\"E4\" rx=\"10\" ry=\"10\" style=\"stroke: #383838; stroke-width: 1.5;\" width=\"108\" x=\"267.32\" y=\"316\"/><text fill=\"#000000\" font-family=\"sans-serif\" font-size=\"12\" font-style=\"italic\" lengthAdjust=\"spacingAndGlyphs\" textLength=\"40\" x=\"301.32\" y=\"332.1387\">«part»</text><text fill=\"#000000\" font-family=\"sans-serif\" font-size=\"12\" lengthAdjust=\"spacingAndGlyphs\" textLength=\"102\" x=\"270.32\" y=\"346.1074\">engine2: Engine</text><line style=\"stroke: #383838; stroke-width: 1.5;\" x1=\"268.32\" x2=\"374.32\" y1=\"353.9375\" y2=\"353.9375\"/></a><!--MD5=[270fce915f116d4de14055a7c1d9a0f3]\n",
       "class E5--><a href=\"psysml:2fd52497-3b24-4a66-a5d3-d77cdf8b2acf\" target=\"_top\" title=\"psysml:2fd52497-3b24-4a66-a5d3-d77cdf8b2acf\" xlink:actuate=\"onRequest\" xlink:href=\"psysml:2fd52497-3b24-4a66-a5d3-d77cdf8b2acf\" xlink:show=\"new\" xlink:title=\"psysml:2fd52497-3b24-4a66-a5d3-d77cdf8b2acf\" xlink:type=\"simple\"><rect fill=\"#FFFFFF\" height=\"45.9375\" id=\"E5\" rx=\"10\" ry=\"10\" style=\"stroke: #383838; stroke-width: 1.5;\" width=\"199\" x=\"239.82\" y=\"41\"/><text fill=\"#000000\" font-family=\"sans-serif\" font-size=\"12\" font-style=\"italic\" lengthAdjust=\"spacingAndGlyphs\" textLength=\"64\" x=\"307.32\" y=\"57.1387\">«analysis»</text><text fill=\"#000000\" font-family=\"sans-serif\" font-size=\"12\" lengthAdjust=\"spacingAndGlyphs\" textLength=\"193\" x=\"242.82\" y=\"71.1074\">engineTradeStudy: TradeStudy</text><line style=\"stroke: #383838; stroke-width: 1.5;\" x1=\"240.82\" x2=\"437.82\" y1=\"78.9375\" y2=\"78.9375\"/></a><!--MD5=[60a26617385b1d2d0262a64233df1f8d]\n",
       "class E6--><a href=\"psysml:2c27f52f-f536-4fc6-bf8d-fd6e3fd13c39\" target=\"_top\" title=\"psysml:2c27f52f-f536-4fc6-bf8d-fd6e3fd13c39\" xlink:actuate=\"onRequest\" xlink:href=\"psysml:2c27f52f-f536-4fc6-bf8d-fd6e3fd13c39\" xlink:show=\"new\" xlink:title=\"psysml:2c27f52f-f536-4fc6-bf8d-fd6e3fd13c39\" xlink:type=\"simple\"><rect fill=\"#FFFFFF\" height=\"45.9375\" id=\"E6\" rx=\"10\" ry=\"10\" style=\"stroke: #383838; stroke-width: 1.5;\" width=\"251\" x=\"78.82\" y=\"164\"/><text fill=\"#000000\" font-family=\"sans-serif\" font-size=\"12\" font-style=\"italic\" lengthAdjust=\"spacingAndGlyphs\" textLength=\"91\" x=\"158.82\" y=\"180.1387\">«requirement»</text><text fill=\"#000000\" font-family=\"sans-serif\" font-size=\"12\" lengthAdjust=\"spacingAndGlyphs\" textLength=\"245\" x=\"81.82\" y=\"194.1074\">tradeStudyObjective: MaximizeObjective</text><line style=\"stroke: #383838; stroke-width: 1.5;\" x1=\"79.82\" x2=\"328.82\" y1=\"201.9375\" y2=\"201.9375\"/></a><!--MD5=[2156ba9850f5573cc1fc38a6a4b2f02b]\n",
       "class E7--><a href=\"psysml:7b858bf3-8f8c-4105-a0db-0d0783f29576\" target=\"_top\" title=\"psysml:7b858bf3-8f8c-4105-a0db-0d0783f29576\" xlink:actuate=\"onRequest\" xlink:href=\"psysml:7b858bf3-8f8c-4105-a0db-0d0783f29576\" xlink:show=\"new\" xlink:title=\"psysml:7b858bf3-8f8c-4105-a0db-0d0783f29576\" xlink:type=\"simple\"><rect fill=\"#FFFFFF\" height=\"45.9375\" id=\"E7\" rx=\"10\" ry=\"10\" style=\"stroke: #383838; stroke-width: 1.5;\" width=\"116\" x=\"365.32\" y=\"164\"/><text fill=\"#000000\" font-family=\"sans-serif\" font-size=\"12\" font-style=\"italic\" lengthAdjust=\"spacingAndGlyphs\" textLength=\"82\" x=\"382.32\" y=\"180.1387\">«calculation»</text><text fill=\"#000000\" font-family=\"sans-serif\" font-size=\"12\" lengthAdjust=\"spacingAndGlyphs\" textLength=\"110\" x=\"368.32\" y=\"194.1074\">objectiveFunction</text><line style=\"stroke: #383838; stroke-width: 1.5;\" x1=\"366.32\" x2=\"480.32\" y1=\"201.9375\" y2=\"201.9375\"/></a><!--MD5=[b9389687b975829384b498ac4b7476b2]\n",
       "class E8--><a href=\"psysml:b0f7840c-11d7-45e2-a5a4-bf208bef1113\" target=\"_top\" title=\"psysml:b0f7840c-11d7-45e2-a5a4-bf208bef1113\" xlink:actuate=\"onRequest\" xlink:href=\"psysml:b0f7840c-11d7-45e2-a5a4-bf208bef1113\" xlink:show=\"new\" xlink:title=\"psysml:b0f7840c-11d7-45e2-a5a4-bf208bef1113\" xlink:type=\"simple\"><rect fill=\"#FFFFFF\" height=\"45.9375\" id=\"E8\" rx=\"10\" ry=\"10\" style=\"stroke: #383838; stroke-width: 1.5;\" width=\"124\" x=\"71.32\" y=\"316\"/><text fill=\"#000000\" font-family=\"sans-serif\" font-size=\"12\" font-style=\"italic\" lengthAdjust=\"spacingAndGlyphs\" textLength=\"40\" x=\"113.32\" y=\"332.1387\">«part»</text><text fill=\"#000000\" font-family=\"sans-serif\" font-size=\"12\" lengthAdjust=\"spacingAndGlyphs\" textLength=\"118\" x=\"74.32\" y=\"346.1074\">alternative: Engine</text><line style=\"stroke: #383838; stroke-width: 1.5;\" x1=\"72.32\" x2=\"194.32\" y1=\"353.9375\" y2=\"353.9375\"/></a><!--MD5=[fd4143e9d270a159db93a4ea2a975926]\n",
       "class E9--><a href=\"psysml:9d098c9e-1a7b-415f-a301-c2067e422f2c\" target=\"_top\" title=\"psysml:9d098c9e-1a7b-415f-a301-c2067e422f2c\" xlink:actuate=\"onRequest\" xlink:href=\"psysml:9d098c9e-1a7b-415f-a301-c2067e422f2c\" xlink:show=\"new\" xlink:title=\"psysml:9d098c9e-1a7b-415f-a301-c2067e422f2c\" xlink:type=\"simple\"><rect fill=\"#FFFFFF\" height=\"45.9375\" id=\"E9\" rx=\"10\" ry=\"10\" style=\"stroke: #383838; stroke-width: 1.5;\" width=\"178\" x=\"291.32\" y=\"240\"/><text fill=\"#000000\" font-family=\"sans-serif\" font-size=\"12\" font-style=\"italic\" lengthAdjust=\"spacingAndGlyphs\" textLength=\"40\" x=\"360.32\" y=\"256.1387\">«part»</text><text fill=\"#000000\" font-family=\"sans-serif\" font-size=\"12\" lengthAdjust=\"spacingAndGlyphs\" textLength=\"172\" x=\"294.32\" y=\"270.1074\">selectedAlternative: Engine</text><line style=\"stroke: #383838; stroke-width: 1.5;\" x1=\"292.32\" x2=\"468.32\" y1=\"277.9375\" y2=\"277.9375\"/></a><!--MD5=[05d275557350bfb9b23a4ef7222b4c39]\n",
       "link E3 to E2--><a href=\"psysml:6d15a19a-180f-471d-b762-c393731ed9f0\" target=\"_top\" title=\"psysml:6d15a19a-180f-471d-b762-c393731ed9f0\" xlink:actuate=\"onRequest\" xlink:href=\"psysml:6d15a19a-180f-471d-b762-c393731ed9f0\" xlink:show=\"new\" xlink:title=\"psysml:6d15a19a-180f-471d-b762-c393731ed9f0\" xlink:type=\"simple\"><path d=\"M415.48,362.01 C376.57,379.54 322.27,404.01 282.71,421.84 \" fill=\"none\" id=\"E3-&gt;E2\" style=\"stroke: #383838; stroke-width: 1.0;\"/><polygon fill=\"#FFFFFF\" points=\"264.34,430.12,278.7866,415.9321,284.5383,428.696,264.34,430.12\" style=\"stroke: #383838; stroke-width: 1.0;\"/><ellipse cx=\"284.805\" cy=\"415.4137\" fill=\"#383838\" rx=\"2\" ry=\"2\" style=\"stroke: #383838; stroke-width: 1.0;\"/><ellipse cx=\"288.9134\" cy=\"424.5308\" fill=\"#383838\" rx=\"2\" ry=\"2\" style=\"stroke: #383838; stroke-width: 1.0;\"/></a><!--MD5=[185131fc0dcab0a4505a2ebe144e961b]\n",
       "link E4 to E2--><a href=\"psysml:247dd621-3d2a-4448-8896-ee4a55c37d47\" target=\"_top\" title=\"psysml:247dd621-3d2a-4448-8896-ee4a55c37d47\" xlink:actuate=\"onRequest\" xlink:href=\"psysml:247dd621-3d2a-4448-8896-ee4a55c37d47\" xlink:show=\"new\" xlink:title=\"psysml:247dd621-3d2a-4448-8896-ee4a55c37d47\" xlink:type=\"simple\"><path d=\"M302.45,362.01 C291.25,375.08 276.74,392.01 263.74,407.17 \" fill=\"none\" id=\"E4-&gt;E2\" style=\"stroke: #383838; stroke-width: 1.0;\"/><polygon fill=\"#FFFFFF\" points=\"250.47,422.66,257.5188,403.678,268.1491,412.7883,250.47,422.66\" style=\"stroke: #383838; stroke-width: 1.0;\"/><ellipse cx=\"262.7466\" cy=\"400.6515\" fill=\"#383838\" rx=\"2\" ry=\"2\" style=\"stroke: #383838; stroke-width: 1.0;\"/><ellipse cx=\"270.3396\" cy=\"407.1588\" fill=\"#383838\" rx=\"2\" ry=\"2\" style=\"stroke: #383838; stroke-width: 1.0;\"/></a><!--MD5=[15ebcb19ae302d9b601edb458606d402]\n",
       "link E5 to E2--><a href=\"psysml:21b7132a-f544-4487-a747-91d198ad447d\" target=\"_top\" title=\"psysml:21b7132a-f544-4487-a747-91d198ad447d\" xlink:actuate=\"onRequest\" xlink:href=\"psysml:21b7132a-f544-4487-a747-91d198ad447d\" xlink:show=\"new\" xlink:title=\"psysml:21b7132a-f544-4487-a747-91d198ad447d\" xlink:type=\"simple\"><path d=\"M239.76,73.22 C177.99,83.96 102.74,108.45 61.32,164 C8.68,234.61 6,287.72 53.32,362 C83.95,410.08 150.5,430.76 192.99,439.32 \" fill=\"none\" id=\"E5-&gt;E2\" style=\"stroke: #383838; stroke-width: 1.0; stroke-dasharray: 7.0,7.0;\"/><polygon fill=\"#383838\" points=\"198.04,440.31,189.9738,434.6588,193.1327,439.3514,188.4401,442.5104,198.04,440.31\" style=\"stroke: #383838; stroke-width: 1.0;\"/><text fill=\"#000000\" font-family=\"sans-serif\" font-size=\"13\" lengthAdjust=\"spacingAndGlyphs\" textLength=\"62\" x=\"24.32\" y=\"267.5669\">«subject»</text></a><!--MD5=[9120cf2e5df3bff93db8f754bbbc09b4]\n",
       "link E5 to E6--><a href=\"psysml:44ec4945-cc63-4e9d-b8df-7b9a76da0bc7\" target=\"_top\" title=\"psysml:44ec4945-cc63-4e9d-b8df-7b9a76da0bc7\" xlink:actuate=\"onRequest\" xlink:href=\"psysml:44ec4945-cc63-4e9d-b8df-7b9a76da0bc7\" xlink:show=\"new\" xlink:title=\"psysml:44ec4945-cc63-4e9d-b8df-7b9a76da0bc7\" xlink:type=\"simple\"><path d=\"M314.56,87.19 C292.2,107.23 259.21,136.8 235.15,158.37 \" fill=\"none\" id=\"E5-&gt;E6\" style=\"stroke: #383838; stroke-width: 1.0;\"/><polygon fill=\"#383838\" points=\"228.92,163.95,236.8786,160.8419,232.8725,156.3752,228.92,163.95\" style=\"stroke: #383838; stroke-width: 1.0;\"/><text fill=\"#000000\" font-family=\"sans-serif\" font-size=\"13\" lengthAdjust=\"spacingAndGlyphs\" textLength=\"73\" x=\"280.32\" y=\"130.0669\">«objective»</text></a><!--MD5=[452b418e7f8a40397a49b8c0a78acc5b]\n",
       "reverse link E5 to E7--><a href=\"psysml:7b858bf3-8f8c-4105-a0db-0d0783f29576\" target=\"_top\" title=\"psysml:7b858bf3-8f8c-4105-a0db-0d0783f29576\" xlink:actuate=\"onRequest\" xlink:href=\"psysml:7b858bf3-8f8c-4105-a0db-0d0783f29576\" xlink:show=\"new\" xlink:title=\"psysml:7b858bf3-8f8c-4105-a0db-0d0783f29576\" xlink:type=\"simple\"><path d=\"M362.14,97.88 C376.71,118.86 395.19,145.48 408.01,163.95 \" fill=\"none\" id=\"E5&lt;-E7\" style=\"stroke: #383838; stroke-width: 1.0;\"/><polygon fill=\"#383838\" points=\"354.73,87.19,354.864,94.3999,361.5708,97.0492,361.4368,89.8393,354.73,87.19\" style=\"stroke: #383838; stroke-width: 1.0;\"/></a><!--MD5=[f1f3f9f2fc535e6147756cb86a7f2e32]\n",
       "link E8 to E2--><a href=\"psysml:2565caae-8b6e-420b-a56a-eab601fd4b55\" target=\"_top\" title=\"psysml:2565caae-8b6e-420b-a56a-eab601fd4b55\" xlink:actuate=\"onRequest\" xlink:href=\"psysml:2565caae-8b6e-420b-a56a-eab601fd4b55\" xlink:show=\"new\" xlink:title=\"psysml:2565caae-8b6e-420b-a56a-eab601fd4b55\" xlink:type=\"simple\"><path d=\"M153.86,362.01 C166.19,375.22 182.2,392.38 196.46,407.65 \" fill=\"none\" id=\"E8-&gt;E2\" style=\"stroke: #383838; stroke-width: 1.0;\"/><polygon fill=\"#FFFFFF\" points=\"210.47,422.66,192.3921,413.5393,202.6305,403.9907,210.47,422.66\" style=\"stroke: #383838; stroke-width: 1.0;\"/><ellipse cx=\"189.9671\" cy=\"408.0067\" fill=\"#383838\" rx=\"2\" ry=\"2\" style=\"stroke: #383838; stroke-width: 1.0;\"/><ellipse cx=\"197.2802\" cy=\"401.1863\" fill=\"#383838\" rx=\"2\" ry=\"2\" style=\"stroke: #383838; stroke-width: 1.0;\"/></a><!--MD5=[dc164f5e8a733ab456ef1add180e9e34]\n",
       "reverse link E7 to E8--><a href=\"psysml:b0f7840c-11d7-45e2-a5a4-bf208bef1113\" target=\"_top\" title=\"psysml:b0f7840c-11d7-45e2-a5a4-bf208bef1113\" xlink:actuate=\"onRequest\" xlink:href=\"psysml:b0f7840c-11d7-45e2-a5a4-bf208bef1113\" xlink:show=\"new\" xlink:title=\"psysml:b0f7840c-11d7-45e2-a5a4-bf208bef1113\" xlink:type=\"simple\"><path d=\"M352.67,208.29 C327.33,216.69 298.96,227.44 274.32,240 C231.96,261.6 187.65,294.33 160.26,315.93 \" fill=\"none\" id=\"E7&lt;-E8\" style=\"stroke: #383838; stroke-width: 1.0;\"/><polygon fill=\"#FFFFFF\" points=\"365.22,204.24,358.2818,202.2749,353.7994,207.9236,360.7376,209.8887,365.22,204.24\" style=\"stroke: #383838; stroke-width: 1.0;\"/></a><!--MD5=[5c3bb36fe832a92c7f0e1807dd65209d]\n",
       "link E9 to E2--><a href=\"psysml:a6aa3e55-56ca-44c6-92e8-1089eebb019a\" target=\"_top\" title=\"psysml:a6aa3e55-56ca-44c6-92e8-1089eebb019a\" xlink:actuate=\"onRequest\" xlink:href=\"psysml:a6aa3e55-56ca-44c6-92e8-1089eebb019a\" xlink:show=\"new\" xlink:title=\"psysml:a6aa3e55-56ca-44c6-92e8-1089eebb019a\" xlink:type=\"simple\"><path d=\"M291.19,285.15 C275.57,292.56 260.94,302.55 250.32,316 C231.17,340.25 227.04,375.32 227.36,402.77 \" fill=\"none\" id=\"E9-&gt;E2\" style=\"stroke: #383838; stroke-width: 1.0;\"/><polygon fill=\"#FFFFFF\" points=\"228.36,422.81,220.4186,404.1838,234.4011,403.4837,228.36,422.81\" style=\"stroke: #383838; stroke-width: 1.0;\"/><ellipse cx=\"222.131\" cy=\"398.3909\" fill=\"#383838\" rx=\"2\" ry=\"2\" style=\"stroke: #383838; stroke-width: 1.0;\"/><ellipse cx=\"232.1185\" cy=\"397.8909\" fill=\"#383838\" rx=\"2\" ry=\"2\" style=\"stroke: #383838; stroke-width: 1.0;\"/></a><!--MD5=[9ae28de373ca99bb8a1b38d63370ca7e]\n",
       "reverse link E5 to E9--><a href=\"psysml:9d098c9e-1a7b-415f-a301-c2067e422f2c\" target=\"_top\" title=\"psysml:9d098c9e-1a7b-415f-a301-c2067e422f2c\" xlink:actuate=\"onRequest\" xlink:href=\"psysml:9d098c9e-1a7b-415f-a301-c2067e422f2c\" xlink:show=\"new\" xlink:title=\"psysml:9d098c9e-1a7b-415f-a301-c2067e422f2c\" xlink:type=\"simple\"><path d=\"M416.08,92.77 C447.78,108.48 481.27,131.61 499.32,164 C509.27,181.86 510.51,192.89 499.32,210 C490.86,222.92 478.41,232.65 464.71,239.97 \" fill=\"none\" id=\"E5&lt;-E9\" style=\"stroke: #383838; stroke-width: 1.0;\"/><polygon fill=\"#FFFFFF\" points=\"404.06,87.11,407.7814,93.2867,414.9142,92.2272,411.1928,86.0505,404.06,87.11\" style=\"stroke: #383838; stroke-width: 1.0;\"/></a><!--MD5=[e83b35814c332dc4abad0de8c2ee4dbb]\n",
       "@startuml\r\n",
       "skinparam monochrome true\r\n",
       "skinparam classbackgroundcolor white\r\n",
       "skinparam shadowing false\r\n",
       "skinparam wrapWidth 300\r\n",
       "hide circle\r\n",
       "\r\n",
       "package \"TradeStudyTest\" as E1  [[psysml:656cfd98-5664-4901-a86b-535977508953 ]]  {\r\n",
       "comp def \"Engine\" as E2  <<(T,blue)part def>> [[psysml:66c87936-3609-4f97-8f24-8ad3882372ee ]] {\r\n",
       "}\r\n",
       "comp usage \"engine1: Engine\" as E3  <<(T,blue)part>> [[psysml:c974a942-078b-4d34-96c1-8ca70902d898 ]] {\r\n",
       "}\r\n",
       "comp usage \"engine2: Engine\" as E4  <<(T,blue)part>> [[psysml:f4d0ec5b-d124-41e4-9ba9-3cb67b695e7c ]] {\r\n",
       "}\r\n",
       "comp usage \"engineTradeStudy: TradeStudy\" as E5 <<analysis>> [[psysml:2fd52497-3b24-4a66-a5d3-d77cdf8b2acf ]] {\r\n",
       "}\r\n",
       "comp usage \"tradeStudyObjective: MaximizeObjective\" as E6  <<(T,blue)requirement>> [[psysml:2c27f52f-f536-4fc6-bf8d-fd6e3fd13c39 ]] {\r\n",
       "}\r\n",
       "comp usage \"objectiveFunction\" as E7  <<(T,blue)calculation>> [[psysml:7b858bf3-8f8c-4105-a0db-0d0783f29576 ]] {\r\n",
       "}\r\n",
       "comp usage \"alternative: Engine\" as E8  <<(T,blue)part>> [[psysml:b0f7840c-11d7-45e2-a5a4-bf208bef1113 ]] {\r\n",
       "}\r\n",
       "comp usage \"selectedAlternative: Engine\" as E9  <<(T,blue)part>> [[psysml:9d098c9e-1a7b-415f-a301-c2067e422f2c ]] {\r\n",
       "}\r\n",
       "E3 - -:|> E2 [[psysml:6d15a19a-180f-471d-b762-c393731ed9f0 ]] \r\n",
       "E4 - -:|> E2 [[psysml:247dd621-3d2a-4448-8896-ee4a55c37d47 ]] \r\n",
       "E5 ..> E2 [[psysml:21b7132a-f544-4487-a747-91d198ad447d ]] : <<subject>>\r\n",
       "E5 - ->> E6 [[psysml:44ec4945-cc63-4e9d-b8df-7b9a76da0bc7 ]] : <<objective>>\r\n",
       "E5 *- - E7 [[psysml:7b858bf3-8f8c-4105-a0db-0d0783f29576 ]] \r\n",
       "E8 - -:|> E2 [[psysml:2565caae-8b6e-420b-a56a-eab601fd4b55 ]] \r\n",
       "E7 o- - E8 [[psysml:b0f7840c-11d7-45e2-a5a4-bf208bef1113 ]] \r\n",
       "E9 - -:|> E2 [[psysml:a6aa3e55-56ca-44c6-92e8-1089eebb019a ]] \r\n",
       "E5 o- - E9 [[psysml:9d098c9e-1a7b-415f-a301-c2067e422f2c ]] \r\n",
       "}\r\n",
       "@enduml\r\n",
       "\n",
       "PlantUML version 1.2020.13(Sat Jun 13 12:26:38 UTC 2020)\n",
       "(EPL source distribution)\n",
       "Java Runtime: OpenJDK Runtime Environment\n",
       "JVM: OpenJDK 64-Bit Server VM\n",
       "Default Encoding: UTF-8\n",
       "Language: en\n",
       "Country: null\n",
       "--></g></svg>"
      ]
     },
     "execution_count": 37,
     "metadata": {},
     "output_type": "execute_result"
    }
   ],
   "source": [
    "%viz --style=\"DEFAULT\" --view=\"Default\" \"TradeStudyTest\""
   ]
  },
  {
   "cell_type": "code",
   "execution_count": 38,
   "id": "printable-fruit",
   "metadata": {
    "execution": {
     "iopub.execute_input": "2021-03-25T13:19:23.127939Z",
     "iopub.status.busy": "2021-03-25T13:19:23.126226Z",
     "iopub.status.idle": "2021-03-25T13:19:23.288600Z",
     "shell.execute_reply": "2021-03-25T13:19:23.288979Z"
    }
   },
   "outputs": [
    {
     "data": {
      "image/svg+xml": [
       "<?xml version=\"1.0\" encoding=\"UTF-8\" standalone=\"no\"?><svg xmlns=\"http://www.w3.org/2000/svg\" xmlns:xlink=\"http://www.w3.org/1999/xlink\" contentScriptType=\"application/ecmascript\" contentStyleType=\"text/css\" height=\"497px\" preserveAspectRatio=\"none\" style=\"width:556px;height:497px;\" version=\"1.1\" viewBox=\"0 0 556 497\" width=\"556px\" zoomAndPan=\"magnify\"><defs/><g><!--MD5=[fbc87193dbaf4d95561dea2c320d4a47]\n",
       "cluster E1--><a href=\"psysml:656cfd98-5664-4901-a86b-535977508953\" target=\"_top\" title=\"psysml:656cfd98-5664-4901-a86b-535977508953\" xlink:actuate=\"onRequest\" xlink:href=\"psysml:656cfd98-5664-4901-a86b-535977508953\" xlink:show=\"new\" xlink:title=\"psysml:656cfd98-5664-4901-a86b-535977508953\" xlink:type=\"simple\"><polygon fill=\"#FFFFFF\" points=\"18.32,6,150.32,6,157.32,28.2969,534.32,28.2969,534.32,485,18.32,485,18.32,6\" style=\"stroke: #000000; stroke-width: 1.5;\"/><line style=\"stroke: #000000; stroke-width: 1.5;\" x1=\"18.32\" x2=\"157.32\" y1=\"28.2969\" y2=\"28.2969\"/><text fill=\"#000000\" font-family=\"sans-serif\" font-size=\"14\" font-weight=\"bold\" lengthAdjust=\"spacingAndGlyphs\" textLength=\"126\" x=\"22.32\" y=\"20.9951\">TradeStudyTest</text></a><!--MD5=[b4997ac47864f28c2f74865a473b2911]\n",
       "class E2--><a href=\"psysml:66c87936-3609-4f97-8f24-8ad3882372ee\" target=\"_top\" title=\"psysml:66c87936-3609-4f97-8f24-8ad3882372ee\" xlink:actuate=\"onRequest\" xlink:href=\"psysml:66c87936-3609-4f97-8f24-8ad3882372ee\" xlink:show=\"new\" xlink:title=\"psysml:66c87936-3609-4f97-8f24-8ad3882372ee\" xlink:type=\"simple\"><rect fill=\"#FFFFFF\" height=\"45.9375\" id=\"E2\" style=\"stroke: #383838; stroke-width: 1.5;\" width=\"66\" x=\"198.32\" y=\"423\"/><text fill=\"#000000\" font-family=\"sans-serif\" font-size=\"12\" font-style=\"italic\" lengthAdjust=\"spacingAndGlyphs\" textLength=\"64\" x=\"199.32\" y=\"439.1387\">«part def»</text><text fill=\"#000000\" font-family=\"sans-serif\" font-size=\"12\" lengthAdjust=\"spacingAndGlyphs\" textLength=\"43\" x=\"209.82\" y=\"453.1074\">Engine</text><line style=\"stroke: #383838; stroke-width: 1.5;\" x1=\"199.32\" x2=\"263.32\" y1=\"460.9375\" y2=\"460.9375\"/></a><!--MD5=[09b614a08d8cba4a07c9adeb5e0fee81]\n",
       "class E3--><a href=\"psysml:c974a942-078b-4d34-96c1-8ca70902d898\" target=\"_top\" title=\"psysml:c974a942-078b-4d34-96c1-8ca70902d898\" xlink:actuate=\"onRequest\" xlink:href=\"psysml:c974a942-078b-4d34-96c1-8ca70902d898\" xlink:show=\"new\" xlink:title=\"psysml:c974a942-078b-4d34-96c1-8ca70902d898\" xlink:type=\"simple\"><rect fill=\"#FFFFFF\" height=\"45.9375\" id=\"E3\" rx=\"10\" ry=\"10\" style=\"stroke: #383838; stroke-width: 1.5;\" width=\"108\" x=\"410.32\" y=\"316\"/><text fill=\"#000000\" font-family=\"sans-serif\" font-size=\"12\" font-style=\"italic\" lengthAdjust=\"spacingAndGlyphs\" textLength=\"40\" x=\"444.32\" y=\"332.1387\">«part»</text><text fill=\"#000000\" font-family=\"sans-serif\" font-size=\"12\" lengthAdjust=\"spacingAndGlyphs\" textLength=\"102\" x=\"413.32\" y=\"346.1074\">engine1: Engine</text><line style=\"stroke: #383838; stroke-width: 1.5;\" x1=\"411.32\" x2=\"517.32\" y1=\"353.9375\" y2=\"353.9375\"/></a><!--MD5=[ebbe1d658d1005bcc118a6aa81145e00]\n",
       "class E4--><a href=\"psysml:f4d0ec5b-d124-41e4-9ba9-3cb67b695e7c\" target=\"_top\" title=\"psysml:f4d0ec5b-d124-41e4-9ba9-3cb67b695e7c\" xlink:actuate=\"onRequest\" xlink:href=\"psysml:f4d0ec5b-d124-41e4-9ba9-3cb67b695e7c\" xlink:show=\"new\" xlink:title=\"psysml:f4d0ec5b-d124-41e4-9ba9-3cb67b695e7c\" xlink:type=\"simple\"><rect fill=\"#FFFFFF\" height=\"45.9375\" id=\"E4\" rx=\"10\" ry=\"10\" style=\"stroke: #383838; stroke-width: 1.5;\" width=\"108\" x=\"267.32\" y=\"316\"/><text fill=\"#000000\" font-family=\"sans-serif\" font-size=\"12\" font-style=\"italic\" lengthAdjust=\"spacingAndGlyphs\" textLength=\"40\" x=\"301.32\" y=\"332.1387\">«part»</text><text fill=\"#000000\" font-family=\"sans-serif\" font-size=\"12\" lengthAdjust=\"spacingAndGlyphs\" textLength=\"102\" x=\"270.32\" y=\"346.1074\">engine2: Engine</text><line style=\"stroke: #383838; stroke-width: 1.5;\" x1=\"268.32\" x2=\"374.32\" y1=\"353.9375\" y2=\"353.9375\"/></a><!--MD5=[270fce915f116d4de14055a7c1d9a0f3]\n",
       "class E5--><a href=\"psysml:2fd52497-3b24-4a66-a5d3-d77cdf8b2acf\" target=\"_top\" title=\"psysml:2fd52497-3b24-4a66-a5d3-d77cdf8b2acf\" xlink:actuate=\"onRequest\" xlink:href=\"psysml:2fd52497-3b24-4a66-a5d3-d77cdf8b2acf\" xlink:show=\"new\" xlink:title=\"psysml:2fd52497-3b24-4a66-a5d3-d77cdf8b2acf\" xlink:type=\"simple\"><rect fill=\"#FFFFFF\" height=\"45.9375\" id=\"E5\" rx=\"10\" ry=\"10\" style=\"stroke: #383838; stroke-width: 1.5;\" width=\"199\" x=\"239.82\" y=\"41\"/><text fill=\"#000000\" font-family=\"sans-serif\" font-size=\"12\" font-style=\"italic\" lengthAdjust=\"spacingAndGlyphs\" textLength=\"64\" x=\"307.32\" y=\"57.1387\">«analysis»</text><text fill=\"#000000\" font-family=\"sans-serif\" font-size=\"12\" lengthAdjust=\"spacingAndGlyphs\" textLength=\"193\" x=\"242.82\" y=\"71.1074\">engineTradeStudy: TradeStudy</text><line style=\"stroke: #383838; stroke-width: 1.5;\" x1=\"240.82\" x2=\"437.82\" y1=\"78.9375\" y2=\"78.9375\"/></a><!--MD5=[60a26617385b1d2d0262a64233df1f8d]\n",
       "class E6--><a href=\"psysml:2c27f52f-f536-4fc6-bf8d-fd6e3fd13c39\" target=\"_top\" title=\"psysml:2c27f52f-f536-4fc6-bf8d-fd6e3fd13c39\" xlink:actuate=\"onRequest\" xlink:href=\"psysml:2c27f52f-f536-4fc6-bf8d-fd6e3fd13c39\" xlink:show=\"new\" xlink:title=\"psysml:2c27f52f-f536-4fc6-bf8d-fd6e3fd13c39\" xlink:type=\"simple\"><rect fill=\"#FFFFFF\" height=\"45.9375\" id=\"E6\" rx=\"10\" ry=\"10\" style=\"stroke: #383838; stroke-width: 1.5;\" width=\"251\" x=\"78.82\" y=\"164\"/><text fill=\"#000000\" font-family=\"sans-serif\" font-size=\"12\" font-style=\"italic\" lengthAdjust=\"spacingAndGlyphs\" textLength=\"91\" x=\"158.82\" y=\"180.1387\">«requirement»</text><text fill=\"#000000\" font-family=\"sans-serif\" font-size=\"12\" lengthAdjust=\"spacingAndGlyphs\" textLength=\"245\" x=\"81.82\" y=\"194.1074\">tradeStudyObjective: MaximizeObjective</text><line style=\"stroke: #383838; stroke-width: 1.5;\" x1=\"79.82\" x2=\"328.82\" y1=\"201.9375\" y2=\"201.9375\"/></a><!--MD5=[2156ba9850f5573cc1fc38a6a4b2f02b]\n",
       "class E7--><a href=\"psysml:7b858bf3-8f8c-4105-a0db-0d0783f29576\" target=\"_top\" title=\"psysml:7b858bf3-8f8c-4105-a0db-0d0783f29576\" xlink:actuate=\"onRequest\" xlink:href=\"psysml:7b858bf3-8f8c-4105-a0db-0d0783f29576\" xlink:show=\"new\" xlink:title=\"psysml:7b858bf3-8f8c-4105-a0db-0d0783f29576\" xlink:type=\"simple\"><rect fill=\"#FFFFFF\" height=\"45.9375\" id=\"E7\" rx=\"10\" ry=\"10\" style=\"stroke: #383838; stroke-width: 1.5;\" width=\"116\" x=\"365.32\" y=\"164\"/><text fill=\"#000000\" font-family=\"sans-serif\" font-size=\"12\" font-style=\"italic\" lengthAdjust=\"spacingAndGlyphs\" textLength=\"82\" x=\"382.32\" y=\"180.1387\">«calculation»</text><text fill=\"#000000\" font-family=\"sans-serif\" font-size=\"12\" lengthAdjust=\"spacingAndGlyphs\" textLength=\"110\" x=\"368.32\" y=\"194.1074\">objectiveFunction</text><line style=\"stroke: #383838; stroke-width: 1.5;\" x1=\"366.32\" x2=\"480.32\" y1=\"201.9375\" y2=\"201.9375\"/></a><!--MD5=[b9389687b975829384b498ac4b7476b2]\n",
       "class E8--><a href=\"psysml:b0f7840c-11d7-45e2-a5a4-bf208bef1113\" target=\"_top\" title=\"psysml:b0f7840c-11d7-45e2-a5a4-bf208bef1113\" xlink:actuate=\"onRequest\" xlink:href=\"psysml:b0f7840c-11d7-45e2-a5a4-bf208bef1113\" xlink:show=\"new\" xlink:title=\"psysml:b0f7840c-11d7-45e2-a5a4-bf208bef1113\" xlink:type=\"simple\"><rect fill=\"#FFFFFF\" height=\"45.9375\" id=\"E8\" rx=\"10\" ry=\"10\" style=\"stroke: #383838; stroke-width: 1.5;\" width=\"124\" x=\"71.32\" y=\"316\"/><text fill=\"#000000\" font-family=\"sans-serif\" font-size=\"12\" font-style=\"italic\" lengthAdjust=\"spacingAndGlyphs\" textLength=\"40\" x=\"113.32\" y=\"332.1387\">«part»</text><text fill=\"#000000\" font-family=\"sans-serif\" font-size=\"12\" lengthAdjust=\"spacingAndGlyphs\" textLength=\"118\" x=\"74.32\" y=\"346.1074\">alternative: Engine</text><line style=\"stroke: #383838; stroke-width: 1.5;\" x1=\"72.32\" x2=\"194.32\" y1=\"353.9375\" y2=\"353.9375\"/></a><!--MD5=[fd4143e9d270a159db93a4ea2a975926]\n",
       "class E9--><a href=\"psysml:9d098c9e-1a7b-415f-a301-c2067e422f2c\" target=\"_top\" title=\"psysml:9d098c9e-1a7b-415f-a301-c2067e422f2c\" xlink:actuate=\"onRequest\" xlink:href=\"psysml:9d098c9e-1a7b-415f-a301-c2067e422f2c\" xlink:show=\"new\" xlink:title=\"psysml:9d098c9e-1a7b-415f-a301-c2067e422f2c\" xlink:type=\"simple\"><rect fill=\"#FFFFFF\" height=\"45.9375\" id=\"E9\" rx=\"10\" ry=\"10\" style=\"stroke: #383838; stroke-width: 1.5;\" width=\"178\" x=\"291.32\" y=\"240\"/><text fill=\"#000000\" font-family=\"sans-serif\" font-size=\"12\" font-style=\"italic\" lengthAdjust=\"spacingAndGlyphs\" textLength=\"40\" x=\"360.32\" y=\"256.1387\">«part»</text><text fill=\"#000000\" font-family=\"sans-serif\" font-size=\"12\" lengthAdjust=\"spacingAndGlyphs\" textLength=\"172\" x=\"294.32\" y=\"270.1074\">selectedAlternative: Engine</text><line style=\"stroke: #383838; stroke-width: 1.5;\" x1=\"292.32\" x2=\"468.32\" y1=\"277.9375\" y2=\"277.9375\"/></a><!--MD5=[05d275557350bfb9b23a4ef7222b4c39]\n",
       "link E3 to E2--><a href=\"psysml:6d15a19a-180f-471d-b762-c393731ed9f0\" target=\"_top\" title=\"psysml:6d15a19a-180f-471d-b762-c393731ed9f0\" xlink:actuate=\"onRequest\" xlink:href=\"psysml:6d15a19a-180f-471d-b762-c393731ed9f0\" xlink:show=\"new\" xlink:title=\"psysml:6d15a19a-180f-471d-b762-c393731ed9f0\" xlink:type=\"simple\"><path d=\"M415.48,362.01 C376.57,379.54 322.27,404.01 282.71,421.84 \" fill=\"none\" id=\"E3-&gt;E2\" style=\"stroke: #383838; stroke-width: 1.0;\"/><polygon fill=\"#FFFFFF\" points=\"264.34,430.12,278.7866,415.9321,284.5383,428.696,264.34,430.12\" style=\"stroke: #383838; stroke-width: 1.0;\"/><ellipse cx=\"284.805\" cy=\"415.4137\" fill=\"#383838\" rx=\"2\" ry=\"2\" style=\"stroke: #383838; stroke-width: 1.0;\"/><ellipse cx=\"288.9134\" cy=\"424.5308\" fill=\"#383838\" rx=\"2\" ry=\"2\" style=\"stroke: #383838; stroke-width: 1.0;\"/></a><!--MD5=[185131fc0dcab0a4505a2ebe144e961b]\n",
       "link E4 to E2--><a href=\"psysml:247dd621-3d2a-4448-8896-ee4a55c37d47\" target=\"_top\" title=\"psysml:247dd621-3d2a-4448-8896-ee4a55c37d47\" xlink:actuate=\"onRequest\" xlink:href=\"psysml:247dd621-3d2a-4448-8896-ee4a55c37d47\" xlink:show=\"new\" xlink:title=\"psysml:247dd621-3d2a-4448-8896-ee4a55c37d47\" xlink:type=\"simple\"><path d=\"M302.45,362.01 C291.25,375.08 276.74,392.01 263.74,407.17 \" fill=\"none\" id=\"E4-&gt;E2\" style=\"stroke: #383838; stroke-width: 1.0;\"/><polygon fill=\"#FFFFFF\" points=\"250.47,422.66,257.5188,403.678,268.1491,412.7883,250.47,422.66\" style=\"stroke: #383838; stroke-width: 1.0;\"/><ellipse cx=\"262.7466\" cy=\"400.6515\" fill=\"#383838\" rx=\"2\" ry=\"2\" style=\"stroke: #383838; stroke-width: 1.0;\"/><ellipse cx=\"270.3396\" cy=\"407.1588\" fill=\"#383838\" rx=\"2\" ry=\"2\" style=\"stroke: #383838; stroke-width: 1.0;\"/></a><!--MD5=[15ebcb19ae302d9b601edb458606d402]\n",
       "link E5 to E2--><a href=\"psysml:21b7132a-f544-4487-a747-91d198ad447d\" target=\"_top\" title=\"psysml:21b7132a-f544-4487-a747-91d198ad447d\" xlink:actuate=\"onRequest\" xlink:href=\"psysml:21b7132a-f544-4487-a747-91d198ad447d\" xlink:show=\"new\" xlink:title=\"psysml:21b7132a-f544-4487-a747-91d198ad447d\" xlink:type=\"simple\"><path d=\"M239.76,73.22 C177.99,83.96 102.74,108.45 61.32,164 C8.68,234.61 6,287.72 53.32,362 C83.95,410.08 150.5,430.76 192.99,439.32 \" fill=\"none\" id=\"E5-&gt;E2\" style=\"stroke: #383838; stroke-width: 1.0; stroke-dasharray: 7.0,7.0;\"/><polygon fill=\"#383838\" points=\"198.04,440.31,189.9738,434.6588,193.1327,439.3514,188.4401,442.5104,198.04,440.31\" style=\"stroke: #383838; stroke-width: 1.0;\"/><text fill=\"#000000\" font-family=\"sans-serif\" font-size=\"13\" lengthAdjust=\"spacingAndGlyphs\" textLength=\"62\" x=\"24.32\" y=\"267.5669\">«subject»</text></a><!--MD5=[9120cf2e5df3bff93db8f754bbbc09b4]\n",
       "link E5 to E6--><a href=\"psysml:44ec4945-cc63-4e9d-b8df-7b9a76da0bc7\" target=\"_top\" title=\"psysml:44ec4945-cc63-4e9d-b8df-7b9a76da0bc7\" xlink:actuate=\"onRequest\" xlink:href=\"psysml:44ec4945-cc63-4e9d-b8df-7b9a76da0bc7\" xlink:show=\"new\" xlink:title=\"psysml:44ec4945-cc63-4e9d-b8df-7b9a76da0bc7\" xlink:type=\"simple\"><path d=\"M314.56,87.19 C292.2,107.23 259.21,136.8 235.15,158.37 \" fill=\"none\" id=\"E5-&gt;E6\" style=\"stroke: #383838; stroke-width: 1.0;\"/><polygon fill=\"#383838\" points=\"228.92,163.95,236.8786,160.8419,232.8725,156.3752,228.92,163.95\" style=\"stroke: #383838; stroke-width: 1.0;\"/><text fill=\"#000000\" font-family=\"sans-serif\" font-size=\"13\" lengthAdjust=\"spacingAndGlyphs\" textLength=\"73\" x=\"280.32\" y=\"130.0669\">«objective»</text></a><!--MD5=[452b418e7f8a40397a49b8c0a78acc5b]\n",
       "reverse link E5 to E7--><a href=\"psysml:7b858bf3-8f8c-4105-a0db-0d0783f29576\" target=\"_top\" title=\"psysml:7b858bf3-8f8c-4105-a0db-0d0783f29576\" xlink:actuate=\"onRequest\" xlink:href=\"psysml:7b858bf3-8f8c-4105-a0db-0d0783f29576\" xlink:show=\"new\" xlink:title=\"psysml:7b858bf3-8f8c-4105-a0db-0d0783f29576\" xlink:type=\"simple\"><path d=\"M362.14,97.88 C376.71,118.86 395.19,145.48 408.01,163.95 \" fill=\"none\" id=\"E5&lt;-E7\" style=\"stroke: #383838; stroke-width: 1.0;\"/><polygon fill=\"#383838\" points=\"354.73,87.19,354.864,94.3999,361.5708,97.0492,361.4368,89.8393,354.73,87.19\" style=\"stroke: #383838; stroke-width: 1.0;\"/></a><!--MD5=[f1f3f9f2fc535e6147756cb86a7f2e32]\n",
       "link E8 to E2--><a href=\"psysml:2565caae-8b6e-420b-a56a-eab601fd4b55\" target=\"_top\" title=\"psysml:2565caae-8b6e-420b-a56a-eab601fd4b55\" xlink:actuate=\"onRequest\" xlink:href=\"psysml:2565caae-8b6e-420b-a56a-eab601fd4b55\" xlink:show=\"new\" xlink:title=\"psysml:2565caae-8b6e-420b-a56a-eab601fd4b55\" xlink:type=\"simple\"><path d=\"M153.86,362.01 C166.19,375.22 182.2,392.38 196.46,407.65 \" fill=\"none\" id=\"E8-&gt;E2\" style=\"stroke: #383838; stroke-width: 1.0;\"/><polygon fill=\"#FFFFFF\" points=\"210.47,422.66,192.3921,413.5393,202.6305,403.9907,210.47,422.66\" style=\"stroke: #383838; stroke-width: 1.0;\"/><ellipse cx=\"189.9671\" cy=\"408.0067\" fill=\"#383838\" rx=\"2\" ry=\"2\" style=\"stroke: #383838; stroke-width: 1.0;\"/><ellipse cx=\"197.2802\" cy=\"401.1863\" fill=\"#383838\" rx=\"2\" ry=\"2\" style=\"stroke: #383838; stroke-width: 1.0;\"/></a><!--MD5=[dc164f5e8a733ab456ef1add180e9e34]\n",
       "reverse link E7 to E8--><a href=\"psysml:b0f7840c-11d7-45e2-a5a4-bf208bef1113\" target=\"_top\" title=\"psysml:b0f7840c-11d7-45e2-a5a4-bf208bef1113\" xlink:actuate=\"onRequest\" xlink:href=\"psysml:b0f7840c-11d7-45e2-a5a4-bf208bef1113\" xlink:show=\"new\" xlink:title=\"psysml:b0f7840c-11d7-45e2-a5a4-bf208bef1113\" xlink:type=\"simple\"><path d=\"M352.67,208.29 C327.33,216.69 298.96,227.44 274.32,240 C231.96,261.6 187.65,294.33 160.26,315.93 \" fill=\"none\" id=\"E7&lt;-E8\" style=\"stroke: #383838; stroke-width: 1.0;\"/><polygon fill=\"#FFFFFF\" points=\"365.22,204.24,358.2818,202.2749,353.7994,207.9236,360.7376,209.8887,365.22,204.24\" style=\"stroke: #383838; stroke-width: 1.0;\"/></a><!--MD5=[5c3bb36fe832a92c7f0e1807dd65209d]\n",
       "link E9 to E2--><a href=\"psysml:a6aa3e55-56ca-44c6-92e8-1089eebb019a\" target=\"_top\" title=\"psysml:a6aa3e55-56ca-44c6-92e8-1089eebb019a\" xlink:actuate=\"onRequest\" xlink:href=\"psysml:a6aa3e55-56ca-44c6-92e8-1089eebb019a\" xlink:show=\"new\" xlink:title=\"psysml:a6aa3e55-56ca-44c6-92e8-1089eebb019a\" xlink:type=\"simple\"><path d=\"M291.19,285.15 C275.57,292.56 260.94,302.55 250.32,316 C231.17,340.25 227.04,375.32 227.36,402.77 \" fill=\"none\" id=\"E9-&gt;E2\" style=\"stroke: #383838; stroke-width: 1.0;\"/><polygon fill=\"#FFFFFF\" points=\"228.36,422.81,220.4186,404.1838,234.4011,403.4837,228.36,422.81\" style=\"stroke: #383838; stroke-width: 1.0;\"/><ellipse cx=\"222.131\" cy=\"398.3909\" fill=\"#383838\" rx=\"2\" ry=\"2\" style=\"stroke: #383838; stroke-width: 1.0;\"/><ellipse cx=\"232.1185\" cy=\"397.8909\" fill=\"#383838\" rx=\"2\" ry=\"2\" style=\"stroke: #383838; stroke-width: 1.0;\"/></a><!--MD5=[9ae28de373ca99bb8a1b38d63370ca7e]\n",
       "reverse link E5 to E9--><a href=\"psysml:9d098c9e-1a7b-415f-a301-c2067e422f2c\" target=\"_top\" title=\"psysml:9d098c9e-1a7b-415f-a301-c2067e422f2c\" xlink:actuate=\"onRequest\" xlink:href=\"psysml:9d098c9e-1a7b-415f-a301-c2067e422f2c\" xlink:show=\"new\" xlink:title=\"psysml:9d098c9e-1a7b-415f-a301-c2067e422f2c\" xlink:type=\"simple\"><path d=\"M416.08,92.77 C447.78,108.48 481.27,131.61 499.32,164 C509.27,181.86 510.51,192.89 499.32,210 C490.86,222.92 478.41,232.65 464.71,239.97 \" fill=\"none\" id=\"E5&lt;-E9\" style=\"stroke: #383838; stroke-width: 1.0;\"/><polygon fill=\"#FFFFFF\" points=\"404.06,87.11,407.7814,93.2867,414.9142,92.2272,411.1928,86.0505,404.06,87.11\" style=\"stroke: #383838; stroke-width: 1.0;\"/></a><!--MD5=[e83b35814c332dc4abad0de8c2ee4dbb]\n",
       "@startuml\r\n",
       "skinparam monochrome true\r\n",
       "skinparam classbackgroundcolor white\r\n",
       "skinparam shadowing false\r\n",
       "skinparam wrapWidth 300\r\n",
       "hide circle\r\n",
       "\r\n",
       "package \"TradeStudyTest\" as E1  [[psysml:656cfd98-5664-4901-a86b-535977508953 ]]  {\r\n",
       "comp def \"Engine\" as E2  <<(T,blue)part def>> [[psysml:66c87936-3609-4f97-8f24-8ad3882372ee ]] {\r\n",
       "}\r\n",
       "comp usage \"engine1: Engine\" as E3  <<(T,blue)part>> [[psysml:c974a942-078b-4d34-96c1-8ca70902d898 ]] {\r\n",
       "}\r\n",
       "comp usage \"engine2: Engine\" as E4  <<(T,blue)part>> [[psysml:f4d0ec5b-d124-41e4-9ba9-3cb67b695e7c ]] {\r\n",
       "}\r\n",
       "comp usage \"engineTradeStudy: TradeStudy\" as E5 <<analysis>> [[psysml:2fd52497-3b24-4a66-a5d3-d77cdf8b2acf ]] {\r\n",
       "}\r\n",
       "comp usage \"tradeStudyObjective: MaximizeObjective\" as E6  <<(T,blue)requirement>> [[psysml:2c27f52f-f536-4fc6-bf8d-fd6e3fd13c39 ]] {\r\n",
       "}\r\n",
       "comp usage \"objectiveFunction\" as E7  <<(T,blue)calculation>> [[psysml:7b858bf3-8f8c-4105-a0db-0d0783f29576 ]] {\r\n",
       "}\r\n",
       "comp usage \"alternative: Engine\" as E8  <<(T,blue)part>> [[psysml:b0f7840c-11d7-45e2-a5a4-bf208bef1113 ]] {\r\n",
       "}\r\n",
       "comp usage \"selectedAlternative: Engine\" as E9  <<(T,blue)part>> [[psysml:9d098c9e-1a7b-415f-a301-c2067e422f2c ]] {\r\n",
       "}\r\n",
       "E3 - -:|> E2 [[psysml:6d15a19a-180f-471d-b762-c393731ed9f0 ]] \r\n",
       "E4 - -:|> E2 [[psysml:247dd621-3d2a-4448-8896-ee4a55c37d47 ]] \r\n",
       "E5 ..> E2 [[psysml:21b7132a-f544-4487-a747-91d198ad447d ]] : <<subject>>\r\n",
       "E5 - ->> E6 [[psysml:44ec4945-cc63-4e9d-b8df-7b9a76da0bc7 ]] : <<objective>>\r\n",
       "E5 *- - E7 [[psysml:7b858bf3-8f8c-4105-a0db-0d0783f29576 ]] \r\n",
       "E8 - -:|> E2 [[psysml:2565caae-8b6e-420b-a56a-eab601fd4b55 ]] \r\n",
       "E7 o- - E8 [[psysml:b0f7840c-11d7-45e2-a5a4-bf208bef1113 ]] \r\n",
       "E9 - -:|> E2 [[psysml:a6aa3e55-56ca-44c6-92e8-1089eebb019a ]] \r\n",
       "E5 o- - E9 [[psysml:9d098c9e-1a7b-415f-a301-c2067e422f2c ]] \r\n",
       "}\r\n",
       "@enduml\r\n",
       "\n",
       "PlantUML version 1.2020.13(Sat Jun 13 12:26:38 UTC 2020)\n",
       "(EPL source distribution)\n",
       "Java Runtime: OpenJDK Runtime Environment\n",
       "JVM: OpenJDK 64-Bit Server VM\n",
       "Default Encoding: UTF-8\n",
       "Language: en\n",
       "Country: null\n",
       "--></g></svg>"
      ]
     },
     "execution_count": 38,
     "metadata": {},
     "output_type": "execute_result"
    }
   ],
   "source": [
    "%viz --style=\"DEFAULT\" --view=\"Tree\" \"TradeStudyTest\""
   ]
  },
  {
   "cell_type": "code",
   "execution_count": 39,
   "id": "educational-citation",
   "metadata": {
    "execution": {
     "iopub.execute_input": "2021-03-25T13:19:23.339004Z",
     "iopub.status.busy": "2021-03-25T13:19:23.338534Z",
     "iopub.status.idle": "2021-03-25T13:19:23.345444Z",
     "shell.execute_reply": "2021-03-25T13:19:23.345834Z"
    }
   },
   "outputs": [
    {
     "data": {
      "image/svg+xml": [
       "<?xml version=\"1.0\" encoding=\"UTF-8\" standalone=\"no\"?><svg xmlns=\"http://www.w3.org/2000/svg\" xmlns:xlink=\"http://www.w3.org/1999/xlink\" contentScriptType=\"application/ecmascript\" contentStyleType=\"text/css\" height=\"12px\" preserveAspectRatio=\"none\" style=\"width:12px;height:12px;\" version=\"1.1\" viewBox=\"0 0 12 12\" width=\"12px\" zoomAndPan=\"magnify\"><defs/><g><!--MD5=[c5f280e076d0d61ccf4b0f27871bda1d]\n",
       "@startuml\r\n",
       "skinparam monochrome true\r\n",
       "skinparam classbackgroundcolor white\r\n",
       "skinparam shadowing false\r\n",
       "skinparam wrapWidth 300\r\n",
       "hide circle\r\n",
       "\r\n",
       "@enduml\r\n",
       "\n",
       "PlantUML version 1.2020.13(Sat Jun 13 12:26:38 UTC 2020)\n",
       "(EPL source distribution)\n",
       "Java Runtime: OpenJDK Runtime Environment\n",
       "JVM: OpenJDK 64-Bit Server VM\n",
       "Default Encoding: UTF-8\n",
       "Language: en\n",
       "Country: null\n",
       "--></g></svg>"
      ]
     },
     "execution_count": 39,
     "metadata": {},
     "output_type": "execute_result"
    }
   ],
   "source": [
    "%viz --style=\"DEFAULT\" --view=\"State\" \"TradeStudyTest\""
   ]
  },
  {
   "cell_type": "code",
   "execution_count": 40,
   "id": "searching-showcase",
   "metadata": {
    "execution": {
     "iopub.execute_input": "2021-03-25T13:19:23.398284Z",
     "iopub.status.busy": "2021-03-25T13:19:23.397217Z",
     "iopub.status.idle": "2021-03-25T13:19:23.455289Z",
     "shell.execute_reply": "2021-03-25T13:19:23.455720Z"
    }
   },
   "outputs": [
    {
     "data": {
      "image/svg+xml": [
       "<?xml version=\"1.0\" encoding=\"UTF-8\" standalone=\"no\"?><svg xmlns=\"http://www.w3.org/2000/svg\" xmlns:xlink=\"http://www.w3.org/1999/xlink\" contentScriptType=\"application/ecmascript\" contentStyleType=\"text/css\" height=\"112px\" preserveAspectRatio=\"none\" style=\"width:438px;height:112px;\" version=\"1.1\" viewBox=\"0 0 438 112\" width=\"438px\" zoomAndPan=\"magnify\"><defs/><g><!--MD5=[fbc87193dbaf4d95561dea2c320d4a47]\n",
       "cluster E1--><a href=\"psysml:656cfd98-5664-4901-a86b-535977508953\" target=\"_top\" title=\"psysml:656cfd98-5664-4901-a86b-535977508953\" xlink:actuate=\"onRequest\" xlink:href=\"psysml:656cfd98-5664-4901-a86b-535977508953\" xlink:show=\"new\" xlink:title=\"psysml:656cfd98-5664-4901-a86b-535977508953\" xlink:type=\"simple\"><polygon fill=\"#FFFFFF\" points=\"16,6,148,6,155,28.2969,416,28.2969,416,100,16,100,16,6\" style=\"stroke: #000000; stroke-width: 1.5;\"/><line style=\"stroke: #000000; stroke-width: 1.5;\" x1=\"16\" x2=\"155\" y1=\"28.2969\" y2=\"28.2969\"/><text fill=\"#000000\" font-family=\"sans-serif\" font-size=\"14\" font-weight=\"bold\" lengthAdjust=\"spacingAndGlyphs\" textLength=\"126\" x=\"20\" y=\"20.9951\">TradeStudyTest</text></a><g id=\"E1.E2\"><a href=\"psysml:66c87936-3609-4f97-8f24-8ad3882372ee\" target=\"_top\" title=\"psysml:66c87936-3609-4f97-8f24-8ad3882372ee\" xlink:actuate=\"onRequest\" xlink:href=\"psysml:66c87936-3609-4f97-8f24-8ad3882372ee\" xlink:show=\"new\" xlink:title=\"psysml:66c87936-3609-4f97-8f24-8ad3882372ee\" xlink:type=\"simple\"><rect fill=\"#FFFFFF\" height=\"42.9375\" id=\"E2\" style=\"stroke: #383838; stroke-width: 1.5;\" width=\"71\" x=\"328.5\" y=\"41\"/><rect fill=\"#F8F8F8\" height=\"37.9375\" style=\"stroke: #383838; stroke-width: 1.5;\" width=\"71\" x=\"328.5\" y=\"41\"/><text fill=\"#000000\" font-family=\"sans-serif\" font-size=\"12\" font-style=\"italic\" lengthAdjust=\"spacingAndGlyphs\" textLength=\"64\" x=\"332\" y=\"57.1387\">«part def»</text><text fill=\"#000000\" font-family=\"sans-serif\" font-size=\"12\" lengthAdjust=\"spacingAndGlyphs\" textLength=\"43\" x=\"342.5\" y=\"71.1074\">Engine</text></a></g><g id=\"E1.E3\"><a href=\"psysml:c974a942-078b-4d34-96c1-8ca70902d898\" target=\"_top\" title=\"psysml:c974a942-078b-4d34-96c1-8ca70902d898\" xlink:actuate=\"onRequest\" xlink:href=\"psysml:c974a942-078b-4d34-96c1-8ca70902d898\" xlink:show=\"new\" xlink:title=\"psysml:c974a942-078b-4d34-96c1-8ca70902d898\" xlink:type=\"simple\"><rect fill=\"#FFFFFF\" height=\"40\" id=\"E3\" rx=\"10\" ry=\"10\" style=\"stroke: #383838; stroke-width: 1.5;\" width=\"113\" x=\"180.5\" y=\"42.5\"/><rect fill=\"#F8F8F8\" height=\"23.9688\" rx=\"10\" ry=\"10\" style=\"stroke: #F8F8F8; stroke-width: 1.5;\" width=\"113\" x=\"180.5\" y=\"42.5\"/><rect fill=\"#F8F8F8\" height=\"10\" style=\"stroke: #F8F8F8; stroke-width: 1.5;\" width=\"113\" x=\"180.5\" y=\"56.4688\"/><rect fill=\"none\" height=\"40\" id=\"E3\" rx=\"10\" ry=\"10\" style=\"stroke: #383838; stroke-width: 1.5;\" width=\"113\" x=\"180.5\" y=\"42.5\"/><text fill=\"#000000\" font-family=\"sans-serif\" font-size=\"12\" lengthAdjust=\"spacingAndGlyphs\" textLength=\"102\" x=\"186\" y=\"58.6387\">engine1: Engine</text></a></g><g id=\"E1.E4\"><a href=\"psysml:f4d0ec5b-d124-41e4-9ba9-3cb67b695e7c\" target=\"_top\" title=\"psysml:f4d0ec5b-d124-41e4-9ba9-3cb67b695e7c\" xlink:actuate=\"onRequest\" xlink:href=\"psysml:f4d0ec5b-d124-41e4-9ba9-3cb67b695e7c\" xlink:show=\"new\" xlink:title=\"psysml:f4d0ec5b-d124-41e4-9ba9-3cb67b695e7c\" xlink:type=\"simple\"><rect fill=\"#FFFFFF\" height=\"40\" id=\"E4\" rx=\"10\" ry=\"10\" style=\"stroke: #383838; stroke-width: 1.5;\" width=\"113\" x=\"32.5\" y=\"42.5\"/><rect fill=\"#F8F8F8\" height=\"23.9688\" rx=\"10\" ry=\"10\" style=\"stroke: #F8F8F8; stroke-width: 1.5;\" width=\"113\" x=\"32.5\" y=\"42.5\"/><rect fill=\"#F8F8F8\" height=\"10\" style=\"stroke: #F8F8F8; stroke-width: 1.5;\" width=\"113\" x=\"32.5\" y=\"56.4688\"/><rect fill=\"none\" height=\"40\" id=\"E4\" rx=\"10\" ry=\"10\" style=\"stroke: #383838; stroke-width: 1.5;\" width=\"113\" x=\"32.5\" y=\"42.5\"/><text fill=\"#000000\" font-family=\"sans-serif\" font-size=\"12\" lengthAdjust=\"spacingAndGlyphs\" textLength=\"102\" x=\"38\" y=\"58.6387\">engine2: Engine</text></a></g><!--MD5=[ec786992cad72f509418ca6ea637eb3c]\n",
       "@startuml\r\n",
       "skinparam ranksep 8\r\n",
       "skinparam rectangle {\r\n",
       " backgroundColor<<block>> LightGreen\r\n",
       "}\r\n",
       "skinparam monochrome true\r\n",
       "skinparam classbackgroundcolor white\r\n",
       "skinparam shadowing false\r\n",
       "skinparam wrapWidth 300\r\n",
       "hide circle\r\n",
       "\r\n",
       "package \"TradeStudyTest\" as E1  [[psysml:656cfd98-5664-4901-a86b-535977508953 ]]  {\r\n",
       "rec def \"Engine\" as E2  <<(T,blue)part def>> [[psysml:66c87936-3609-4f97-8f24-8ad3882372ee ]] {\r\n",
       "}\r\n",
       "rec usage \"engine1: Engine\" as E3  [[psysml:c974a942-078b-4d34-96c1-8ca70902d898 ]] {\r\n",
       "}\r\n",
       "rec usage \"engine2: Engine\" as E4  [[psysml:f4d0ec5b-d124-41e4-9ba9-3cb67b695e7c ]] {\r\n",
       "}\r\n",
       "}\r\n",
       "@enduml\r\n",
       "\n",
       "PlantUML version 1.2020.13(Sat Jun 13 12:26:38 UTC 2020)\n",
       "(EPL source distribution)\n",
       "Java Runtime: OpenJDK Runtime Environment\n",
       "JVM: OpenJDK 64-Bit Server VM\n",
       "Default Encoding: UTF-8\n",
       "Language: en\n",
       "Country: null\n",
       "--></g></svg>"
      ]
     },
     "execution_count": 40,
     "metadata": {},
     "output_type": "execute_result"
    }
   ],
   "source": [
    "%viz --style=\"DEFAULT\" --view=\"Interconnection\" \"TradeStudyTest\""
   ]
  },
  {
   "cell_type": "code",
   "execution_count": 41,
   "id": "better-conclusion",
   "metadata": {
    "execution": {
     "iopub.execute_input": "2021-03-25T13:19:23.505738Z",
     "iopub.status.busy": "2021-03-25T13:19:23.505328Z",
     "iopub.status.idle": "2021-03-25T13:19:23.596656Z",
     "shell.execute_reply": "2021-03-25T13:19:23.597196Z"
    }
   },
   "outputs": [
    {
     "data": {
      "image/svg+xml": [
       "<?xml version=\"1.0\" encoding=\"UTF-8\" standalone=\"no\"?><svg xmlns=\"http://www.w3.org/2000/svg\" xmlns:xlink=\"http://www.w3.org/1999/xlink\" contentScriptType=\"application/ecmascript\" contentStyleType=\"text/css\" height=\"128px\" preserveAspectRatio=\"none\" style=\"width:180px;height:128px;\" version=\"1.1\" viewBox=\"0 0 180 128\" width=\"180px\" zoomAndPan=\"magnify\"><defs/><g><!--MD5=[fbc87193dbaf4d95561dea2c320d4a47]\n",
       "cluster E1--><a href=\"psysml:2fd52497-3b24-4a66-a5d3-d77cdf8b2acf\" target=\"_top\" title=\"psysml:2fd52497-3b24-4a66-a5d3-d77cdf8b2acf\" xlink:actuate=\"onRequest\" xlink:href=\"psysml:2fd52497-3b24-4a66-a5d3-d77cdf8b2acf\" xlink:show=\"new\" xlink:title=\"psysml:2fd52497-3b24-4a66-a5d3-d77cdf8b2acf\" xlink:type=\"simple\"><rect fill=\"#FFFFFF\" height=\"110\" id=\"E1\" rx=\"10\" ry=\"10\" style=\"stroke: #383838; stroke-width: 1.5;\" width=\"161\" x=\"7\" y=\"7\"/><rect fill=\"#F8F8F8\" height=\"37.9375\" rx=\"10\" ry=\"10\" style=\"stroke: #F8F8F8; stroke-width: 1.5;\" width=\"161\" x=\"7\" y=\"7\"/><rect fill=\"#F8F8F8\" height=\"10\" style=\"stroke: #F8F8F8; stroke-width: 1.5;\" width=\"161\" x=\"7\" y=\"34.9375\"/><rect fill=\"none\" height=\"110\" id=\"E1\" rx=\"10\" ry=\"10\" style=\"stroke: #383838; stroke-width: 1.5;\" width=\"161\" x=\"7\" y=\"7\"/><text fill=\"#000000\" font-family=\"sans-serif\" font-size=\"12\" font-style=\"italic\" lengthAdjust=\"spacingAndGlyphs\" textLength=\"64\" x=\"55.5\" y=\"23.1387\">«analysis»</text><text fill=\"#000000\" font-family=\"sans-serif\" font-size=\"12\" lengthAdjust=\"spacingAndGlyphs\" textLength=\"114\" x=\"30.5\" y=\"37.1074\">engineTradeStudy</text><line style=\"stroke: #383838; stroke-width: 1.0;\" x1=\"7\" x2=\"168\" y1=\"44.9375\" y2=\"44.9375\"/></a><g id=\"E1.E2\"><a href=\"psysml:7b858bf3-8f8c-4105-a0db-0d0783f29576\" target=\"_top\" title=\"psysml:7b858bf3-8f8c-4105-a0db-0d0783f29576\" xlink:actuate=\"onRequest\" xlink:href=\"psysml:7b858bf3-8f8c-4105-a0db-0d0783f29576\" xlink:show=\"new\" xlink:title=\"psysml:7b858bf3-8f8c-4105-a0db-0d0783f29576\" xlink:type=\"simple\"><rect fill=\"#FFFFFF\" height=\"42.9375\" id=\"E2\" rx=\"10\" ry=\"10\" style=\"stroke: #383838; stroke-width: 1.5;\" width=\"121\" x=\"26.5\" y=\"58\"/><rect fill=\"#F8F8F8\" height=\"37.9375\" rx=\"10\" ry=\"10\" style=\"stroke: #F8F8F8; stroke-width: 1.5;\" width=\"121\" x=\"26.5\" y=\"58\"/><rect fill=\"#F8F8F8\" height=\"10\" style=\"stroke: #F8F8F8; stroke-width: 1.5;\" width=\"121\" x=\"26.5\" y=\"85.9375\"/><rect fill=\"none\" height=\"42.9375\" id=\"E2\" rx=\"10\" ry=\"10\" style=\"stroke: #383838; stroke-width: 1.5;\" width=\"121\" x=\"26.5\" y=\"58\"/><text fill=\"#000000\" font-family=\"sans-serif\" font-size=\"12\" font-style=\"italic\" lengthAdjust=\"spacingAndGlyphs\" textLength=\"82\" x=\"46\" y=\"74.1387\">«calculation»</text><text fill=\"#000000\" font-family=\"sans-serif\" font-size=\"12\" lengthAdjust=\"spacingAndGlyphs\" textLength=\"110\" x=\"32\" y=\"88.1074\">objectiveFunction</text></a></g><!--MD5=[02e042cae7848e6cd378c7522c7ae47e]\n",
       "@startuml\r\n",
       "skinparam ranksep 8\r\n",
       "skinparam monochrome true\r\n",
       "skinparam classbackgroundcolor white\r\n",
       "skinparam shadowing false\r\n",
       "skinparam wrapWidth 300\r\n",
       "hide circle\r\n",
       "\r\n",
       "rec usage \"engineTradeStudy\" as E1 <<analysis>> [[psysml:2fd52497-3b24-4a66-a5d3-d77cdf8b2acf ]] {\r\n",
       "rec usage \"objectiveFunction\" as E2  <<(T,blue)calculation>> [[psysml:7b858bf3-8f8c-4105-a0db-0d0783f29576 ]] {\r\n",
       "}\r\n",
       "\r\n",
       "}\r\n",
       "\r\n",
       "@enduml\r\n",
       "\n",
       "PlantUML version 1.2020.13(Sat Jun 13 12:26:38 UTC 2020)\n",
       "(EPL source distribution)\n",
       "Java Runtime: OpenJDK Runtime Environment\n",
       "JVM: OpenJDK 64-Bit Server VM\n",
       "Default Encoding: UTF-8\n",
       "Language: en\n",
       "Country: null\n",
       "--></g></svg>"
      ]
     },
     "execution_count": 41,
     "metadata": {},
     "output_type": "execute_result"
    }
   ],
   "source": [
    "%viz --style=\"DEFAULT\" --view=\"Action\" \"TradeStudyTest\""
   ]
  },
  {
   "cell_type": "code",
   "execution_count": 42,
   "id": "recent-laser",
   "metadata": {
    "execution": {
     "iopub.execute_input": "2021-03-25T13:19:23.648399Z",
     "iopub.status.busy": "2021-03-25T13:19:23.647831Z",
     "iopub.status.idle": "2021-03-25T13:19:23.804312Z",
     "shell.execute_reply": "2021-03-25T13:19:23.802628Z"
    }
   },
   "outputs": [
    {
     "data": {
      "image/svg+xml": [
       "<?xml version=\"1.0\" encoding=\"UTF-8\" standalone=\"no\"?><svg xmlns=\"http://www.w3.org/2000/svg\" xmlns:xlink=\"http://www.w3.org/1999/xlink\" contentScriptType=\"application/ecmascript\" contentStyleType=\"text/css\" height=\"497px\" preserveAspectRatio=\"none\" style=\"width:556px;height:497px;\" version=\"1.1\" viewBox=\"0 0 556 497\" width=\"556px\" zoomAndPan=\"magnify\"><defs/><g><!--MD5=[fbc87193dbaf4d95561dea2c320d4a47]\n",
       "cluster E1--><a href=\"psysml:656cfd98-5664-4901-a86b-535977508953\" target=\"_top\" title=\"psysml:656cfd98-5664-4901-a86b-535977508953\" xlink:actuate=\"onRequest\" xlink:href=\"psysml:656cfd98-5664-4901-a86b-535977508953\" xlink:show=\"new\" xlink:title=\"psysml:656cfd98-5664-4901-a86b-535977508953\" xlink:type=\"simple\"><polygon fill=\"#FFFFFF\" points=\"18.32,6,150.32,6,157.32,28.2969,534.32,28.2969,534.32,485,18.32,485,18.32,6\" style=\"stroke: #000000; stroke-width: 1.5;\"/><line style=\"stroke: #000000; stroke-width: 1.5;\" x1=\"18.32\" x2=\"157.32\" y1=\"28.2969\" y2=\"28.2969\"/><text fill=\"#000000\" font-family=\"sans-serif\" font-size=\"14\" font-weight=\"bold\" lengthAdjust=\"spacingAndGlyphs\" textLength=\"126\" x=\"22.32\" y=\"20.9951\">TradeStudyTest</text></a><!--MD5=[b4997ac47864f28c2f74865a473b2911]\n",
       "class E2--><a href=\"psysml:66c87936-3609-4f97-8f24-8ad3882372ee\" target=\"_top\" title=\"psysml:66c87936-3609-4f97-8f24-8ad3882372ee\" xlink:actuate=\"onRequest\" xlink:href=\"psysml:66c87936-3609-4f97-8f24-8ad3882372ee\" xlink:show=\"new\" xlink:title=\"psysml:66c87936-3609-4f97-8f24-8ad3882372ee\" xlink:type=\"simple\"><rect fill=\"#FFFFFF\" height=\"45.9375\" id=\"E2\" style=\"stroke: #383838; stroke-width: 1.5;\" width=\"66\" x=\"198.32\" y=\"423\"/><text fill=\"#000000\" font-family=\"sans-serif\" font-size=\"12\" font-style=\"italic\" lengthAdjust=\"spacingAndGlyphs\" textLength=\"64\" x=\"199.32\" y=\"439.1387\">«part def»</text><text fill=\"#000000\" font-family=\"sans-serif\" font-size=\"12\" lengthAdjust=\"spacingAndGlyphs\" textLength=\"43\" x=\"209.82\" y=\"453.1074\">Engine</text><line style=\"stroke: #383838; stroke-width: 1.5;\" x1=\"199.32\" x2=\"263.32\" y1=\"460.9375\" y2=\"460.9375\"/></a><!--MD5=[09b614a08d8cba4a07c9adeb5e0fee81]\n",
       "class E3--><a href=\"psysml:c974a942-078b-4d34-96c1-8ca70902d898\" target=\"_top\" title=\"psysml:c974a942-078b-4d34-96c1-8ca70902d898\" xlink:actuate=\"onRequest\" xlink:href=\"psysml:c974a942-078b-4d34-96c1-8ca70902d898\" xlink:show=\"new\" xlink:title=\"psysml:c974a942-078b-4d34-96c1-8ca70902d898\" xlink:type=\"simple\"><rect fill=\"#FFFFFF\" height=\"45.9375\" id=\"E3\" rx=\"10\" ry=\"10\" style=\"stroke: #383838; stroke-width: 1.5;\" width=\"108\" x=\"410.32\" y=\"316\"/><text fill=\"#000000\" font-family=\"sans-serif\" font-size=\"12\" font-style=\"italic\" lengthAdjust=\"spacingAndGlyphs\" textLength=\"40\" x=\"444.32\" y=\"332.1387\">«part»</text><text fill=\"#000000\" font-family=\"sans-serif\" font-size=\"12\" lengthAdjust=\"spacingAndGlyphs\" textLength=\"102\" x=\"413.32\" y=\"346.1074\">engine1: Engine</text><line style=\"stroke: #383838; stroke-width: 1.5;\" x1=\"411.32\" x2=\"517.32\" y1=\"353.9375\" y2=\"353.9375\"/></a><!--MD5=[ebbe1d658d1005bcc118a6aa81145e00]\n",
       "class E4--><a href=\"psysml:f4d0ec5b-d124-41e4-9ba9-3cb67b695e7c\" target=\"_top\" title=\"psysml:f4d0ec5b-d124-41e4-9ba9-3cb67b695e7c\" xlink:actuate=\"onRequest\" xlink:href=\"psysml:f4d0ec5b-d124-41e4-9ba9-3cb67b695e7c\" xlink:show=\"new\" xlink:title=\"psysml:f4d0ec5b-d124-41e4-9ba9-3cb67b695e7c\" xlink:type=\"simple\"><rect fill=\"#FFFFFF\" height=\"45.9375\" id=\"E4\" rx=\"10\" ry=\"10\" style=\"stroke: #383838; stroke-width: 1.5;\" width=\"108\" x=\"267.32\" y=\"316\"/><text fill=\"#000000\" font-family=\"sans-serif\" font-size=\"12\" font-style=\"italic\" lengthAdjust=\"spacingAndGlyphs\" textLength=\"40\" x=\"301.32\" y=\"332.1387\">«part»</text><text fill=\"#000000\" font-family=\"sans-serif\" font-size=\"12\" lengthAdjust=\"spacingAndGlyphs\" textLength=\"102\" x=\"270.32\" y=\"346.1074\">engine2: Engine</text><line style=\"stroke: #383838; stroke-width: 1.5;\" x1=\"268.32\" x2=\"374.32\" y1=\"353.9375\" y2=\"353.9375\"/></a><!--MD5=[270fce915f116d4de14055a7c1d9a0f3]\n",
       "class E5--><a href=\"psysml:2fd52497-3b24-4a66-a5d3-d77cdf8b2acf\" target=\"_top\" title=\"psysml:2fd52497-3b24-4a66-a5d3-d77cdf8b2acf\" xlink:actuate=\"onRequest\" xlink:href=\"psysml:2fd52497-3b24-4a66-a5d3-d77cdf8b2acf\" xlink:show=\"new\" xlink:title=\"psysml:2fd52497-3b24-4a66-a5d3-d77cdf8b2acf\" xlink:type=\"simple\"><rect fill=\"#FFFFFF\" height=\"45.9375\" id=\"E5\" rx=\"10\" ry=\"10\" style=\"stroke: #383838; stroke-width: 1.5;\" width=\"199\" x=\"239.82\" y=\"41\"/><text fill=\"#000000\" font-family=\"sans-serif\" font-size=\"12\" font-style=\"italic\" lengthAdjust=\"spacingAndGlyphs\" textLength=\"64\" x=\"307.32\" y=\"57.1387\">«analysis»</text><text fill=\"#000000\" font-family=\"sans-serif\" font-size=\"12\" lengthAdjust=\"spacingAndGlyphs\" textLength=\"193\" x=\"242.82\" y=\"71.1074\">engineTradeStudy: TradeStudy</text><line style=\"stroke: #383838; stroke-width: 1.5;\" x1=\"240.82\" x2=\"437.82\" y1=\"78.9375\" y2=\"78.9375\"/></a><!--MD5=[60a26617385b1d2d0262a64233df1f8d]\n",
       "class E6--><a href=\"psysml:2c27f52f-f536-4fc6-bf8d-fd6e3fd13c39\" target=\"_top\" title=\"psysml:2c27f52f-f536-4fc6-bf8d-fd6e3fd13c39\" xlink:actuate=\"onRequest\" xlink:href=\"psysml:2c27f52f-f536-4fc6-bf8d-fd6e3fd13c39\" xlink:show=\"new\" xlink:title=\"psysml:2c27f52f-f536-4fc6-bf8d-fd6e3fd13c39\" xlink:type=\"simple\"><rect fill=\"#FFFFFF\" height=\"45.9375\" id=\"E6\" rx=\"10\" ry=\"10\" style=\"stroke: #383838; stroke-width: 1.5;\" width=\"251\" x=\"78.82\" y=\"164\"/><text fill=\"#000000\" font-family=\"sans-serif\" font-size=\"12\" font-style=\"italic\" lengthAdjust=\"spacingAndGlyphs\" textLength=\"91\" x=\"158.82\" y=\"180.1387\">«requirement»</text><text fill=\"#000000\" font-family=\"sans-serif\" font-size=\"12\" lengthAdjust=\"spacingAndGlyphs\" textLength=\"245\" x=\"81.82\" y=\"194.1074\">tradeStudyObjective: MaximizeObjective</text><line style=\"stroke: #383838; stroke-width: 1.5;\" x1=\"79.82\" x2=\"328.82\" y1=\"201.9375\" y2=\"201.9375\"/></a><!--MD5=[2156ba9850f5573cc1fc38a6a4b2f02b]\n",
       "class E7--><a href=\"psysml:7b858bf3-8f8c-4105-a0db-0d0783f29576\" target=\"_top\" title=\"psysml:7b858bf3-8f8c-4105-a0db-0d0783f29576\" xlink:actuate=\"onRequest\" xlink:href=\"psysml:7b858bf3-8f8c-4105-a0db-0d0783f29576\" xlink:show=\"new\" xlink:title=\"psysml:7b858bf3-8f8c-4105-a0db-0d0783f29576\" xlink:type=\"simple\"><rect fill=\"#FFFFFF\" height=\"45.9375\" id=\"E7\" rx=\"10\" ry=\"10\" style=\"stroke: #383838; stroke-width: 1.5;\" width=\"116\" x=\"365.32\" y=\"164\"/><text fill=\"#000000\" font-family=\"sans-serif\" font-size=\"12\" font-style=\"italic\" lengthAdjust=\"spacingAndGlyphs\" textLength=\"82\" x=\"382.32\" y=\"180.1387\">«calculation»</text><text fill=\"#000000\" font-family=\"sans-serif\" font-size=\"12\" lengthAdjust=\"spacingAndGlyphs\" textLength=\"110\" x=\"368.32\" y=\"194.1074\">objectiveFunction</text><line style=\"stroke: #383838; stroke-width: 1.5;\" x1=\"366.32\" x2=\"480.32\" y1=\"201.9375\" y2=\"201.9375\"/></a><!--MD5=[b9389687b975829384b498ac4b7476b2]\n",
       "class E8--><a href=\"psysml:b0f7840c-11d7-45e2-a5a4-bf208bef1113\" target=\"_top\" title=\"psysml:b0f7840c-11d7-45e2-a5a4-bf208bef1113\" xlink:actuate=\"onRequest\" xlink:href=\"psysml:b0f7840c-11d7-45e2-a5a4-bf208bef1113\" xlink:show=\"new\" xlink:title=\"psysml:b0f7840c-11d7-45e2-a5a4-bf208bef1113\" xlink:type=\"simple\"><rect fill=\"#FFFFFF\" height=\"45.9375\" id=\"E8\" rx=\"10\" ry=\"10\" style=\"stroke: #383838; stroke-width: 1.5;\" width=\"124\" x=\"71.32\" y=\"316\"/><text fill=\"#000000\" font-family=\"sans-serif\" font-size=\"12\" font-style=\"italic\" lengthAdjust=\"spacingAndGlyphs\" textLength=\"40\" x=\"113.32\" y=\"332.1387\">«part»</text><text fill=\"#000000\" font-family=\"sans-serif\" font-size=\"12\" lengthAdjust=\"spacingAndGlyphs\" textLength=\"118\" x=\"74.32\" y=\"346.1074\">alternative: Engine</text><line style=\"stroke: #383838; stroke-width: 1.5;\" x1=\"72.32\" x2=\"194.32\" y1=\"353.9375\" y2=\"353.9375\"/></a><!--MD5=[fd4143e9d270a159db93a4ea2a975926]\n",
       "class E9--><a href=\"psysml:9d098c9e-1a7b-415f-a301-c2067e422f2c\" target=\"_top\" title=\"psysml:9d098c9e-1a7b-415f-a301-c2067e422f2c\" xlink:actuate=\"onRequest\" xlink:href=\"psysml:9d098c9e-1a7b-415f-a301-c2067e422f2c\" xlink:show=\"new\" xlink:title=\"psysml:9d098c9e-1a7b-415f-a301-c2067e422f2c\" xlink:type=\"simple\"><rect fill=\"#FFFFFF\" height=\"45.9375\" id=\"E9\" rx=\"10\" ry=\"10\" style=\"stroke: #383838; stroke-width: 1.5;\" width=\"178\" x=\"291.32\" y=\"240\"/><text fill=\"#000000\" font-family=\"sans-serif\" font-size=\"12\" font-style=\"italic\" lengthAdjust=\"spacingAndGlyphs\" textLength=\"40\" x=\"360.32\" y=\"256.1387\">«part»</text><text fill=\"#000000\" font-family=\"sans-serif\" font-size=\"12\" lengthAdjust=\"spacingAndGlyphs\" textLength=\"172\" x=\"294.32\" y=\"270.1074\">selectedAlternative: Engine</text><line style=\"stroke: #383838; stroke-width: 1.5;\" x1=\"292.32\" x2=\"468.32\" y1=\"277.9375\" y2=\"277.9375\"/></a><!--MD5=[05d275557350bfb9b23a4ef7222b4c39]\n",
       "link E3 to E2--><a href=\"psysml:6d15a19a-180f-471d-b762-c393731ed9f0\" target=\"_top\" title=\"psysml:6d15a19a-180f-471d-b762-c393731ed9f0\" xlink:actuate=\"onRequest\" xlink:href=\"psysml:6d15a19a-180f-471d-b762-c393731ed9f0\" xlink:show=\"new\" xlink:title=\"psysml:6d15a19a-180f-471d-b762-c393731ed9f0\" xlink:type=\"simple\"><path d=\"M415.48,362.01 C376.57,379.54 322.27,404.01 282.71,421.84 \" fill=\"none\" id=\"E3-&gt;E2\" style=\"stroke: #383838; stroke-width: 1.0;\"/><polygon fill=\"#FFFFFF\" points=\"264.34,430.12,278.7866,415.9321,284.5383,428.696,264.34,430.12\" style=\"stroke: #383838; stroke-width: 1.0;\"/><ellipse cx=\"284.805\" cy=\"415.4137\" fill=\"#383838\" rx=\"2\" ry=\"2\" style=\"stroke: #383838; stroke-width: 1.0;\"/><ellipse cx=\"288.9134\" cy=\"424.5308\" fill=\"#383838\" rx=\"2\" ry=\"2\" style=\"stroke: #383838; stroke-width: 1.0;\"/></a><!--MD5=[185131fc0dcab0a4505a2ebe144e961b]\n",
       "link E4 to E2--><a href=\"psysml:247dd621-3d2a-4448-8896-ee4a55c37d47\" target=\"_top\" title=\"psysml:247dd621-3d2a-4448-8896-ee4a55c37d47\" xlink:actuate=\"onRequest\" xlink:href=\"psysml:247dd621-3d2a-4448-8896-ee4a55c37d47\" xlink:show=\"new\" xlink:title=\"psysml:247dd621-3d2a-4448-8896-ee4a55c37d47\" xlink:type=\"simple\"><path d=\"M302.45,362.01 C291.25,375.08 276.74,392.01 263.74,407.17 \" fill=\"none\" id=\"E4-&gt;E2\" style=\"stroke: #383838; stroke-width: 1.0;\"/><polygon fill=\"#FFFFFF\" points=\"250.47,422.66,257.5188,403.678,268.1491,412.7883,250.47,422.66\" style=\"stroke: #383838; stroke-width: 1.0;\"/><ellipse cx=\"262.7466\" cy=\"400.6515\" fill=\"#383838\" rx=\"2\" ry=\"2\" style=\"stroke: #383838; stroke-width: 1.0;\"/><ellipse cx=\"270.3396\" cy=\"407.1588\" fill=\"#383838\" rx=\"2\" ry=\"2\" style=\"stroke: #383838; stroke-width: 1.0;\"/></a><!--MD5=[15ebcb19ae302d9b601edb458606d402]\n",
       "link E5 to E2--><a href=\"psysml:21b7132a-f544-4487-a747-91d198ad447d\" target=\"_top\" title=\"psysml:21b7132a-f544-4487-a747-91d198ad447d\" xlink:actuate=\"onRequest\" xlink:href=\"psysml:21b7132a-f544-4487-a747-91d198ad447d\" xlink:show=\"new\" xlink:title=\"psysml:21b7132a-f544-4487-a747-91d198ad447d\" xlink:type=\"simple\"><path d=\"M239.76,73.22 C177.99,83.96 102.74,108.45 61.32,164 C8.68,234.61 6,287.72 53.32,362 C83.95,410.08 150.5,430.76 192.99,439.32 \" fill=\"none\" id=\"E5-&gt;E2\" style=\"stroke: #383838; stroke-width: 1.0; stroke-dasharray: 7.0,7.0;\"/><polygon fill=\"#383838\" points=\"198.04,440.31,189.9738,434.6588,193.1327,439.3514,188.4401,442.5104,198.04,440.31\" style=\"stroke: #383838; stroke-width: 1.0;\"/><text fill=\"#000000\" font-family=\"sans-serif\" font-size=\"13\" lengthAdjust=\"spacingAndGlyphs\" textLength=\"62\" x=\"24.32\" y=\"267.5669\">«subject»</text></a><!--MD5=[9120cf2e5df3bff93db8f754bbbc09b4]\n",
       "link E5 to E6--><a href=\"psysml:44ec4945-cc63-4e9d-b8df-7b9a76da0bc7\" target=\"_top\" title=\"psysml:44ec4945-cc63-4e9d-b8df-7b9a76da0bc7\" xlink:actuate=\"onRequest\" xlink:href=\"psysml:44ec4945-cc63-4e9d-b8df-7b9a76da0bc7\" xlink:show=\"new\" xlink:title=\"psysml:44ec4945-cc63-4e9d-b8df-7b9a76da0bc7\" xlink:type=\"simple\"><path d=\"M314.56,87.19 C292.2,107.23 259.21,136.8 235.15,158.37 \" fill=\"none\" id=\"E5-&gt;E6\" style=\"stroke: #383838; stroke-width: 1.0;\"/><polygon fill=\"#383838\" points=\"228.92,163.95,236.8786,160.8419,232.8725,156.3752,228.92,163.95\" style=\"stroke: #383838; stroke-width: 1.0;\"/><text fill=\"#000000\" font-family=\"sans-serif\" font-size=\"13\" lengthAdjust=\"spacingAndGlyphs\" textLength=\"73\" x=\"280.32\" y=\"130.0669\">«objective»</text></a><!--MD5=[452b418e7f8a40397a49b8c0a78acc5b]\n",
       "reverse link E5 to E7--><a href=\"psysml:7b858bf3-8f8c-4105-a0db-0d0783f29576\" target=\"_top\" title=\"psysml:7b858bf3-8f8c-4105-a0db-0d0783f29576\" xlink:actuate=\"onRequest\" xlink:href=\"psysml:7b858bf3-8f8c-4105-a0db-0d0783f29576\" xlink:show=\"new\" xlink:title=\"psysml:7b858bf3-8f8c-4105-a0db-0d0783f29576\" xlink:type=\"simple\"><path d=\"M362.14,97.88 C376.71,118.86 395.19,145.48 408.01,163.95 \" fill=\"none\" id=\"E5&lt;-E7\" style=\"stroke: #383838; stroke-width: 1.0;\"/><polygon fill=\"#383838\" points=\"354.73,87.19,354.864,94.3999,361.5708,97.0492,361.4368,89.8393,354.73,87.19\" style=\"stroke: #383838; stroke-width: 1.0;\"/></a><!--MD5=[f1f3f9f2fc535e6147756cb86a7f2e32]\n",
       "link E8 to E2--><a href=\"psysml:2565caae-8b6e-420b-a56a-eab601fd4b55\" target=\"_top\" title=\"psysml:2565caae-8b6e-420b-a56a-eab601fd4b55\" xlink:actuate=\"onRequest\" xlink:href=\"psysml:2565caae-8b6e-420b-a56a-eab601fd4b55\" xlink:show=\"new\" xlink:title=\"psysml:2565caae-8b6e-420b-a56a-eab601fd4b55\" xlink:type=\"simple\"><path d=\"M153.86,362.01 C166.19,375.22 182.2,392.38 196.46,407.65 \" fill=\"none\" id=\"E8-&gt;E2\" style=\"stroke: #383838; stroke-width: 1.0;\"/><polygon fill=\"#FFFFFF\" points=\"210.47,422.66,192.3921,413.5393,202.6305,403.9907,210.47,422.66\" style=\"stroke: #383838; stroke-width: 1.0;\"/><ellipse cx=\"189.9671\" cy=\"408.0067\" fill=\"#383838\" rx=\"2\" ry=\"2\" style=\"stroke: #383838; stroke-width: 1.0;\"/><ellipse cx=\"197.2802\" cy=\"401.1863\" fill=\"#383838\" rx=\"2\" ry=\"2\" style=\"stroke: #383838; stroke-width: 1.0;\"/></a><!--MD5=[dc164f5e8a733ab456ef1add180e9e34]\n",
       "reverse link E7 to E8--><a href=\"psysml:b0f7840c-11d7-45e2-a5a4-bf208bef1113\" target=\"_top\" title=\"psysml:b0f7840c-11d7-45e2-a5a4-bf208bef1113\" xlink:actuate=\"onRequest\" xlink:href=\"psysml:b0f7840c-11d7-45e2-a5a4-bf208bef1113\" xlink:show=\"new\" xlink:title=\"psysml:b0f7840c-11d7-45e2-a5a4-bf208bef1113\" xlink:type=\"simple\"><path d=\"M352.67,208.29 C327.33,216.69 298.96,227.44 274.32,240 C231.96,261.6 187.65,294.33 160.26,315.93 \" fill=\"none\" id=\"E7&lt;-E8\" style=\"stroke: #383838; stroke-width: 1.0;\"/><polygon fill=\"#FFFFFF\" points=\"365.22,204.24,358.2818,202.2749,353.7994,207.9236,360.7376,209.8887,365.22,204.24\" style=\"stroke: #383838; stroke-width: 1.0;\"/></a><!--MD5=[5c3bb36fe832a92c7f0e1807dd65209d]\n",
       "link E9 to E2--><a href=\"psysml:a6aa3e55-56ca-44c6-92e8-1089eebb019a\" target=\"_top\" title=\"psysml:a6aa3e55-56ca-44c6-92e8-1089eebb019a\" xlink:actuate=\"onRequest\" xlink:href=\"psysml:a6aa3e55-56ca-44c6-92e8-1089eebb019a\" xlink:show=\"new\" xlink:title=\"psysml:a6aa3e55-56ca-44c6-92e8-1089eebb019a\" xlink:type=\"simple\"><path d=\"M291.19,285.15 C275.57,292.56 260.94,302.55 250.32,316 C231.17,340.25 227.04,375.32 227.36,402.77 \" fill=\"none\" id=\"E9-&gt;E2\" style=\"stroke: #383838; stroke-width: 1.0;\"/><polygon fill=\"#FFFFFF\" points=\"228.36,422.81,220.4186,404.1838,234.4011,403.4837,228.36,422.81\" style=\"stroke: #383838; stroke-width: 1.0;\"/><ellipse cx=\"222.131\" cy=\"398.3909\" fill=\"#383838\" rx=\"2\" ry=\"2\" style=\"stroke: #383838; stroke-width: 1.0;\"/><ellipse cx=\"232.1185\" cy=\"397.8909\" fill=\"#383838\" rx=\"2\" ry=\"2\" style=\"stroke: #383838; stroke-width: 1.0;\"/></a><!--MD5=[9ae28de373ca99bb8a1b38d63370ca7e]\n",
       "reverse link E5 to E9--><a href=\"psysml:9d098c9e-1a7b-415f-a301-c2067e422f2c\" target=\"_top\" title=\"psysml:9d098c9e-1a7b-415f-a301-c2067e422f2c\" xlink:actuate=\"onRequest\" xlink:href=\"psysml:9d098c9e-1a7b-415f-a301-c2067e422f2c\" xlink:show=\"new\" xlink:title=\"psysml:9d098c9e-1a7b-415f-a301-c2067e422f2c\" xlink:type=\"simple\"><path d=\"M416.08,92.77 C447.78,108.48 481.27,131.61 499.32,164 C509.27,181.86 510.51,192.89 499.32,210 C490.86,222.92 478.41,232.65 464.71,239.97 \" fill=\"none\" id=\"E5&lt;-E9\" style=\"stroke: #383838; stroke-width: 1.0;\"/><polygon fill=\"#FFFFFF\" points=\"404.06,87.11,407.7814,93.2867,414.9142,92.2272,411.1928,86.0505,404.06,87.11\" style=\"stroke: #383838; stroke-width: 1.0;\"/></a><!--MD5=[e83b35814c332dc4abad0de8c2ee4dbb]\n",
       "@startuml\r\n",
       "skinparam monochrome true\r\n",
       "skinparam classbackgroundcolor white\r\n",
       "skinparam shadowing false\r\n",
       "skinparam wrapWidth 300\r\n",
       "hide circle\r\n",
       "\r\n",
       "package \"TradeStudyTest\" as E1  [[psysml:656cfd98-5664-4901-a86b-535977508953 ]]  {\r\n",
       "comp def \"Engine\" as E2  <<(T,blue)part def>> [[psysml:66c87936-3609-4f97-8f24-8ad3882372ee ]] {\r\n",
       "}\r\n",
       "comp usage \"engine1: Engine\" as E3  <<(T,blue)part>> [[psysml:c974a942-078b-4d34-96c1-8ca70902d898 ]] {\r\n",
       "}\r\n",
       "comp usage \"engine2: Engine\" as E4  <<(T,blue)part>> [[psysml:f4d0ec5b-d124-41e4-9ba9-3cb67b695e7c ]] {\r\n",
       "}\r\n",
       "comp usage \"engineTradeStudy: TradeStudy\" as E5 <<analysis>> [[psysml:2fd52497-3b24-4a66-a5d3-d77cdf8b2acf ]] {\r\n",
       "}\r\n",
       "comp usage \"tradeStudyObjective: MaximizeObjective\" as E6  <<(T,blue)requirement>> [[psysml:2c27f52f-f536-4fc6-bf8d-fd6e3fd13c39 ]] {\r\n",
       "}\r\n",
       "comp usage \"objectiveFunction\" as E7  <<(T,blue)calculation>> [[psysml:7b858bf3-8f8c-4105-a0db-0d0783f29576 ]] {\r\n",
       "}\r\n",
       "comp usage \"alternative: Engine\" as E8  <<(T,blue)part>> [[psysml:b0f7840c-11d7-45e2-a5a4-bf208bef1113 ]] {\r\n",
       "}\r\n",
       "comp usage \"selectedAlternative: Engine\" as E9  <<(T,blue)part>> [[psysml:9d098c9e-1a7b-415f-a301-c2067e422f2c ]] {\r\n",
       "}\r\n",
       "E3 - -:|> E2 [[psysml:6d15a19a-180f-471d-b762-c393731ed9f0 ]] \r\n",
       "E4 - -:|> E2 [[psysml:247dd621-3d2a-4448-8896-ee4a55c37d47 ]] \r\n",
       "E5 ..> E2 [[psysml:21b7132a-f544-4487-a747-91d198ad447d ]] : <<subject>>\r\n",
       "E5 - ->> E6 [[psysml:44ec4945-cc63-4e9d-b8df-7b9a76da0bc7 ]] : <<objective>>\r\n",
       "E5 *- - E7 [[psysml:7b858bf3-8f8c-4105-a0db-0d0783f29576 ]] \r\n",
       "E8 - -:|> E2 [[psysml:2565caae-8b6e-420b-a56a-eab601fd4b55 ]] \r\n",
       "E7 o- - E8 [[psysml:b0f7840c-11d7-45e2-a5a4-bf208bef1113 ]] \r\n",
       "E9 - -:|> E2 [[psysml:a6aa3e55-56ca-44c6-92e8-1089eebb019a ]] \r\n",
       "E5 o- - E9 [[psysml:9d098c9e-1a7b-415f-a301-c2067e422f2c ]] \r\n",
       "}\r\n",
       "@enduml\r\n",
       "\n",
       "PlantUML version 1.2020.13(Sat Jun 13 12:26:38 UTC 2020)\n",
       "(EPL source distribution)\n",
       "Java Runtime: OpenJDK Runtime Environment\n",
       "JVM: OpenJDK 64-Bit Server VM\n",
       "Default Encoding: UTF-8\n",
       "Language: en\n",
       "Country: null\n",
       "--></g></svg>"
      ]
     },
     "execution_count": 42,
     "metadata": {},
     "output_type": "execute_result"
    }
   ],
   "source": [
    "%viz --style=\"DEFAULT\" --view=\"Sequence\" \"TradeStudyTest\""
   ]
  },
  {
   "cell_type": "code",
   "execution_count": 43,
   "id": "congressional-damages",
   "metadata": {
    "execution": {
     "iopub.execute_input": "2021-03-25T13:19:23.854299Z",
     "iopub.status.busy": "2021-03-25T13:19:23.853273Z",
     "iopub.status.idle": "2021-03-25T13:19:24.005777Z",
     "shell.execute_reply": "2021-03-25T13:19:24.006203Z"
    }
   },
   "outputs": [
    {
     "data": {
      "image/svg+xml": [
       "<?xml version=\"1.0\" encoding=\"UTF-8\" standalone=\"no\"?><svg xmlns=\"http://www.w3.org/2000/svg\" xmlns:xlink=\"http://www.w3.org/1999/xlink\" contentScriptType=\"application/ecmascript\" contentStyleType=\"text/css\" height=\"497px\" preserveAspectRatio=\"none\" style=\"width:556px;height:497px;\" version=\"1.1\" viewBox=\"0 0 556 497\" width=\"556px\" zoomAndPan=\"magnify\"><defs/><g><!--MD5=[fbc87193dbaf4d95561dea2c320d4a47]\n",
       "cluster E1--><a href=\"psysml:656cfd98-5664-4901-a86b-535977508953\" target=\"_top\" title=\"psysml:656cfd98-5664-4901-a86b-535977508953\" xlink:actuate=\"onRequest\" xlink:href=\"psysml:656cfd98-5664-4901-a86b-535977508953\" xlink:show=\"new\" xlink:title=\"psysml:656cfd98-5664-4901-a86b-535977508953\" xlink:type=\"simple\"><polygon fill=\"#FFFFFF\" points=\"18.32,6,150.32,6,157.32,28.2969,534.32,28.2969,534.32,485,18.32,485,18.32,6\" style=\"stroke: #000000; stroke-width: 1.5;\"/><line style=\"stroke: #000000; stroke-width: 1.5;\" x1=\"18.32\" x2=\"157.32\" y1=\"28.2969\" y2=\"28.2969\"/><text fill=\"#000000\" font-family=\"sans-serif\" font-size=\"14\" font-weight=\"bold\" lengthAdjust=\"spacingAndGlyphs\" textLength=\"126\" x=\"22.32\" y=\"20.9951\">TradeStudyTest</text></a><!--MD5=[b4997ac47864f28c2f74865a473b2911]\n",
       "class E2--><a href=\"psysml:66c87936-3609-4f97-8f24-8ad3882372ee\" target=\"_top\" title=\"psysml:66c87936-3609-4f97-8f24-8ad3882372ee\" xlink:actuate=\"onRequest\" xlink:href=\"psysml:66c87936-3609-4f97-8f24-8ad3882372ee\" xlink:show=\"new\" xlink:title=\"psysml:66c87936-3609-4f97-8f24-8ad3882372ee\" xlink:type=\"simple\"><rect fill=\"#FFFFFF\" height=\"45.9375\" id=\"E2\" style=\"stroke: #383838; stroke-width: 1.5;\" width=\"66\" x=\"198.32\" y=\"423\"/><text fill=\"#000000\" font-family=\"sans-serif\" font-size=\"12\" font-style=\"italic\" lengthAdjust=\"spacingAndGlyphs\" textLength=\"64\" x=\"199.32\" y=\"439.1387\">«part def»</text><text fill=\"#000000\" font-family=\"sans-serif\" font-size=\"12\" lengthAdjust=\"spacingAndGlyphs\" textLength=\"43\" x=\"209.82\" y=\"453.1074\">Engine</text><line style=\"stroke: #383838; stroke-width: 1.5;\" x1=\"199.32\" x2=\"263.32\" y1=\"460.9375\" y2=\"460.9375\"/></a><!--MD5=[09b614a08d8cba4a07c9adeb5e0fee81]\n",
       "class E3--><a href=\"psysml:c974a942-078b-4d34-96c1-8ca70902d898\" target=\"_top\" title=\"psysml:c974a942-078b-4d34-96c1-8ca70902d898\" xlink:actuate=\"onRequest\" xlink:href=\"psysml:c974a942-078b-4d34-96c1-8ca70902d898\" xlink:show=\"new\" xlink:title=\"psysml:c974a942-078b-4d34-96c1-8ca70902d898\" xlink:type=\"simple\"><rect fill=\"#FFFFFF\" height=\"45.9375\" id=\"E3\" rx=\"10\" ry=\"10\" style=\"stroke: #383838; stroke-width: 1.5;\" width=\"108\" x=\"410.32\" y=\"316\"/><text fill=\"#000000\" font-family=\"sans-serif\" font-size=\"12\" font-style=\"italic\" lengthAdjust=\"spacingAndGlyphs\" textLength=\"40\" x=\"444.32\" y=\"332.1387\">«part»</text><text fill=\"#000000\" font-family=\"sans-serif\" font-size=\"12\" lengthAdjust=\"spacingAndGlyphs\" textLength=\"102\" x=\"413.32\" y=\"346.1074\">engine1: Engine</text><line style=\"stroke: #383838; stroke-width: 1.5;\" x1=\"411.32\" x2=\"517.32\" y1=\"353.9375\" y2=\"353.9375\"/></a><!--MD5=[ebbe1d658d1005bcc118a6aa81145e00]\n",
       "class E4--><a href=\"psysml:f4d0ec5b-d124-41e4-9ba9-3cb67b695e7c\" target=\"_top\" title=\"psysml:f4d0ec5b-d124-41e4-9ba9-3cb67b695e7c\" xlink:actuate=\"onRequest\" xlink:href=\"psysml:f4d0ec5b-d124-41e4-9ba9-3cb67b695e7c\" xlink:show=\"new\" xlink:title=\"psysml:f4d0ec5b-d124-41e4-9ba9-3cb67b695e7c\" xlink:type=\"simple\"><rect fill=\"#FFFFFF\" height=\"45.9375\" id=\"E4\" rx=\"10\" ry=\"10\" style=\"stroke: #383838; stroke-width: 1.5;\" width=\"108\" x=\"267.32\" y=\"316\"/><text fill=\"#000000\" font-family=\"sans-serif\" font-size=\"12\" font-style=\"italic\" lengthAdjust=\"spacingAndGlyphs\" textLength=\"40\" x=\"301.32\" y=\"332.1387\">«part»</text><text fill=\"#000000\" font-family=\"sans-serif\" font-size=\"12\" lengthAdjust=\"spacingAndGlyphs\" textLength=\"102\" x=\"270.32\" y=\"346.1074\">engine2: Engine</text><line style=\"stroke: #383838; stroke-width: 1.5;\" x1=\"268.32\" x2=\"374.32\" y1=\"353.9375\" y2=\"353.9375\"/></a><!--MD5=[270fce915f116d4de14055a7c1d9a0f3]\n",
       "class E5--><a href=\"psysml:2fd52497-3b24-4a66-a5d3-d77cdf8b2acf\" target=\"_top\" title=\"psysml:2fd52497-3b24-4a66-a5d3-d77cdf8b2acf\" xlink:actuate=\"onRequest\" xlink:href=\"psysml:2fd52497-3b24-4a66-a5d3-d77cdf8b2acf\" xlink:show=\"new\" xlink:title=\"psysml:2fd52497-3b24-4a66-a5d3-d77cdf8b2acf\" xlink:type=\"simple\"><rect fill=\"#FFFFFF\" height=\"45.9375\" id=\"E5\" rx=\"10\" ry=\"10\" style=\"stroke: #383838; stroke-width: 1.5;\" width=\"199\" x=\"239.82\" y=\"41\"/><text fill=\"#000000\" font-family=\"sans-serif\" font-size=\"12\" font-style=\"italic\" lengthAdjust=\"spacingAndGlyphs\" textLength=\"64\" x=\"307.32\" y=\"57.1387\">«analysis»</text><text fill=\"#000000\" font-family=\"sans-serif\" font-size=\"12\" lengthAdjust=\"spacingAndGlyphs\" textLength=\"193\" x=\"242.82\" y=\"71.1074\">engineTradeStudy: TradeStudy</text><line style=\"stroke: #383838; stroke-width: 1.5;\" x1=\"240.82\" x2=\"437.82\" y1=\"78.9375\" y2=\"78.9375\"/></a><!--MD5=[60a26617385b1d2d0262a64233df1f8d]\n",
       "class E6--><a href=\"psysml:2c27f52f-f536-4fc6-bf8d-fd6e3fd13c39\" target=\"_top\" title=\"psysml:2c27f52f-f536-4fc6-bf8d-fd6e3fd13c39\" xlink:actuate=\"onRequest\" xlink:href=\"psysml:2c27f52f-f536-4fc6-bf8d-fd6e3fd13c39\" xlink:show=\"new\" xlink:title=\"psysml:2c27f52f-f536-4fc6-bf8d-fd6e3fd13c39\" xlink:type=\"simple\"><rect fill=\"#FFFFFF\" height=\"45.9375\" id=\"E6\" rx=\"10\" ry=\"10\" style=\"stroke: #383838; stroke-width: 1.5;\" width=\"251\" x=\"78.82\" y=\"164\"/><text fill=\"#000000\" font-family=\"sans-serif\" font-size=\"12\" font-style=\"italic\" lengthAdjust=\"spacingAndGlyphs\" textLength=\"91\" x=\"158.82\" y=\"180.1387\">«requirement»</text><text fill=\"#000000\" font-family=\"sans-serif\" font-size=\"12\" lengthAdjust=\"spacingAndGlyphs\" textLength=\"245\" x=\"81.82\" y=\"194.1074\">tradeStudyObjective: MaximizeObjective</text><line style=\"stroke: #383838; stroke-width: 1.5;\" x1=\"79.82\" x2=\"328.82\" y1=\"201.9375\" y2=\"201.9375\"/></a><!--MD5=[2156ba9850f5573cc1fc38a6a4b2f02b]\n",
       "class E7--><a href=\"psysml:7b858bf3-8f8c-4105-a0db-0d0783f29576\" target=\"_top\" title=\"psysml:7b858bf3-8f8c-4105-a0db-0d0783f29576\" xlink:actuate=\"onRequest\" xlink:href=\"psysml:7b858bf3-8f8c-4105-a0db-0d0783f29576\" xlink:show=\"new\" xlink:title=\"psysml:7b858bf3-8f8c-4105-a0db-0d0783f29576\" xlink:type=\"simple\"><rect fill=\"#FFFFFF\" height=\"45.9375\" id=\"E7\" rx=\"10\" ry=\"10\" style=\"stroke: #383838; stroke-width: 1.5;\" width=\"116\" x=\"365.32\" y=\"164\"/><text fill=\"#000000\" font-family=\"sans-serif\" font-size=\"12\" font-style=\"italic\" lengthAdjust=\"spacingAndGlyphs\" textLength=\"82\" x=\"382.32\" y=\"180.1387\">«calculation»</text><text fill=\"#000000\" font-family=\"sans-serif\" font-size=\"12\" lengthAdjust=\"spacingAndGlyphs\" textLength=\"110\" x=\"368.32\" y=\"194.1074\">objectiveFunction</text><line style=\"stroke: #383838; stroke-width: 1.5;\" x1=\"366.32\" x2=\"480.32\" y1=\"201.9375\" y2=\"201.9375\"/></a><!--MD5=[b9389687b975829384b498ac4b7476b2]\n",
       "class E8--><a href=\"psysml:b0f7840c-11d7-45e2-a5a4-bf208bef1113\" target=\"_top\" title=\"psysml:b0f7840c-11d7-45e2-a5a4-bf208bef1113\" xlink:actuate=\"onRequest\" xlink:href=\"psysml:b0f7840c-11d7-45e2-a5a4-bf208bef1113\" xlink:show=\"new\" xlink:title=\"psysml:b0f7840c-11d7-45e2-a5a4-bf208bef1113\" xlink:type=\"simple\"><rect fill=\"#FFFFFF\" height=\"45.9375\" id=\"E8\" rx=\"10\" ry=\"10\" style=\"stroke: #383838; stroke-width: 1.5;\" width=\"124\" x=\"71.32\" y=\"316\"/><text fill=\"#000000\" font-family=\"sans-serif\" font-size=\"12\" font-style=\"italic\" lengthAdjust=\"spacingAndGlyphs\" textLength=\"40\" x=\"113.32\" y=\"332.1387\">«part»</text><text fill=\"#000000\" font-family=\"sans-serif\" font-size=\"12\" lengthAdjust=\"spacingAndGlyphs\" textLength=\"118\" x=\"74.32\" y=\"346.1074\">alternative: Engine</text><line style=\"stroke: #383838; stroke-width: 1.5;\" x1=\"72.32\" x2=\"194.32\" y1=\"353.9375\" y2=\"353.9375\"/></a><!--MD5=[fd4143e9d270a159db93a4ea2a975926]\n",
       "class E9--><a href=\"psysml:9d098c9e-1a7b-415f-a301-c2067e422f2c\" target=\"_top\" title=\"psysml:9d098c9e-1a7b-415f-a301-c2067e422f2c\" xlink:actuate=\"onRequest\" xlink:href=\"psysml:9d098c9e-1a7b-415f-a301-c2067e422f2c\" xlink:show=\"new\" xlink:title=\"psysml:9d098c9e-1a7b-415f-a301-c2067e422f2c\" xlink:type=\"simple\"><rect fill=\"#FFFFFF\" height=\"45.9375\" id=\"E9\" rx=\"10\" ry=\"10\" style=\"stroke: #383838; stroke-width: 1.5;\" width=\"178\" x=\"291.32\" y=\"240\"/><text fill=\"#000000\" font-family=\"sans-serif\" font-size=\"12\" font-style=\"italic\" lengthAdjust=\"spacingAndGlyphs\" textLength=\"40\" x=\"360.32\" y=\"256.1387\">«part»</text><text fill=\"#000000\" font-family=\"sans-serif\" font-size=\"12\" lengthAdjust=\"spacingAndGlyphs\" textLength=\"172\" x=\"294.32\" y=\"270.1074\">selectedAlternative: Engine</text><line style=\"stroke: #383838; stroke-width: 1.5;\" x1=\"292.32\" x2=\"468.32\" y1=\"277.9375\" y2=\"277.9375\"/></a><!--MD5=[05d275557350bfb9b23a4ef7222b4c39]\n",
       "link E3 to E2--><a href=\"psysml:6d15a19a-180f-471d-b762-c393731ed9f0\" target=\"_top\" title=\"psysml:6d15a19a-180f-471d-b762-c393731ed9f0\" xlink:actuate=\"onRequest\" xlink:href=\"psysml:6d15a19a-180f-471d-b762-c393731ed9f0\" xlink:show=\"new\" xlink:title=\"psysml:6d15a19a-180f-471d-b762-c393731ed9f0\" xlink:type=\"simple\"><path d=\"M415.48,362.01 C376.57,379.54 322.27,404.01 282.71,421.84 \" fill=\"none\" id=\"E3-&gt;E2\" style=\"stroke: #383838; stroke-width: 1.0;\"/><polygon fill=\"#FFFFFF\" points=\"264.34,430.12,278.7866,415.9321,284.5383,428.696,264.34,430.12\" style=\"stroke: #383838; stroke-width: 1.0;\"/><ellipse cx=\"284.805\" cy=\"415.4137\" fill=\"#383838\" rx=\"2\" ry=\"2\" style=\"stroke: #383838; stroke-width: 1.0;\"/><ellipse cx=\"288.9134\" cy=\"424.5308\" fill=\"#383838\" rx=\"2\" ry=\"2\" style=\"stroke: #383838; stroke-width: 1.0;\"/></a><!--MD5=[185131fc0dcab0a4505a2ebe144e961b]\n",
       "link E4 to E2--><a href=\"psysml:247dd621-3d2a-4448-8896-ee4a55c37d47\" target=\"_top\" title=\"psysml:247dd621-3d2a-4448-8896-ee4a55c37d47\" xlink:actuate=\"onRequest\" xlink:href=\"psysml:247dd621-3d2a-4448-8896-ee4a55c37d47\" xlink:show=\"new\" xlink:title=\"psysml:247dd621-3d2a-4448-8896-ee4a55c37d47\" xlink:type=\"simple\"><path d=\"M302.45,362.01 C291.25,375.08 276.74,392.01 263.74,407.17 \" fill=\"none\" id=\"E4-&gt;E2\" style=\"stroke: #383838; stroke-width: 1.0;\"/><polygon fill=\"#FFFFFF\" points=\"250.47,422.66,257.5188,403.678,268.1491,412.7883,250.47,422.66\" style=\"stroke: #383838; stroke-width: 1.0;\"/><ellipse cx=\"262.7466\" cy=\"400.6515\" fill=\"#383838\" rx=\"2\" ry=\"2\" style=\"stroke: #383838; stroke-width: 1.0;\"/><ellipse cx=\"270.3396\" cy=\"407.1588\" fill=\"#383838\" rx=\"2\" ry=\"2\" style=\"stroke: #383838; stroke-width: 1.0;\"/></a><!--MD5=[15ebcb19ae302d9b601edb458606d402]\n",
       "link E5 to E2--><a href=\"psysml:21b7132a-f544-4487-a747-91d198ad447d\" target=\"_top\" title=\"psysml:21b7132a-f544-4487-a747-91d198ad447d\" xlink:actuate=\"onRequest\" xlink:href=\"psysml:21b7132a-f544-4487-a747-91d198ad447d\" xlink:show=\"new\" xlink:title=\"psysml:21b7132a-f544-4487-a747-91d198ad447d\" xlink:type=\"simple\"><path d=\"M239.76,73.22 C177.99,83.96 102.74,108.45 61.32,164 C8.68,234.61 6,287.72 53.32,362 C83.95,410.08 150.5,430.76 192.99,439.32 \" fill=\"none\" id=\"E5-&gt;E2\" style=\"stroke: #383838; stroke-width: 1.0; stroke-dasharray: 7.0,7.0;\"/><polygon fill=\"#383838\" points=\"198.04,440.31,189.9738,434.6588,193.1327,439.3514,188.4401,442.5104,198.04,440.31\" style=\"stroke: #383838; stroke-width: 1.0;\"/><text fill=\"#000000\" font-family=\"sans-serif\" font-size=\"13\" lengthAdjust=\"spacingAndGlyphs\" textLength=\"62\" x=\"24.32\" y=\"267.5669\">«subject»</text></a><!--MD5=[9120cf2e5df3bff93db8f754bbbc09b4]\n",
       "link E5 to E6--><a href=\"psysml:44ec4945-cc63-4e9d-b8df-7b9a76da0bc7\" target=\"_top\" title=\"psysml:44ec4945-cc63-4e9d-b8df-7b9a76da0bc7\" xlink:actuate=\"onRequest\" xlink:href=\"psysml:44ec4945-cc63-4e9d-b8df-7b9a76da0bc7\" xlink:show=\"new\" xlink:title=\"psysml:44ec4945-cc63-4e9d-b8df-7b9a76da0bc7\" xlink:type=\"simple\"><path d=\"M314.56,87.19 C292.2,107.23 259.21,136.8 235.15,158.37 \" fill=\"none\" id=\"E5-&gt;E6\" style=\"stroke: #383838; stroke-width: 1.0;\"/><polygon fill=\"#383838\" points=\"228.92,163.95,236.8786,160.8419,232.8725,156.3752,228.92,163.95\" style=\"stroke: #383838; stroke-width: 1.0;\"/><text fill=\"#000000\" font-family=\"sans-serif\" font-size=\"13\" lengthAdjust=\"spacingAndGlyphs\" textLength=\"73\" x=\"280.32\" y=\"130.0669\">«objective»</text></a><!--MD5=[452b418e7f8a40397a49b8c0a78acc5b]\n",
       "reverse link E5 to E7--><a href=\"psysml:7b858bf3-8f8c-4105-a0db-0d0783f29576\" target=\"_top\" title=\"psysml:7b858bf3-8f8c-4105-a0db-0d0783f29576\" xlink:actuate=\"onRequest\" xlink:href=\"psysml:7b858bf3-8f8c-4105-a0db-0d0783f29576\" xlink:show=\"new\" xlink:title=\"psysml:7b858bf3-8f8c-4105-a0db-0d0783f29576\" xlink:type=\"simple\"><path d=\"M362.14,97.88 C376.71,118.86 395.19,145.48 408.01,163.95 \" fill=\"none\" id=\"E5&lt;-E7\" style=\"stroke: #383838; stroke-width: 1.0;\"/><polygon fill=\"#383838\" points=\"354.73,87.19,354.864,94.3999,361.5708,97.0492,361.4368,89.8393,354.73,87.19\" style=\"stroke: #383838; stroke-width: 1.0;\"/></a><!--MD5=[f1f3f9f2fc535e6147756cb86a7f2e32]\n",
       "link E8 to E2--><a href=\"psysml:2565caae-8b6e-420b-a56a-eab601fd4b55\" target=\"_top\" title=\"psysml:2565caae-8b6e-420b-a56a-eab601fd4b55\" xlink:actuate=\"onRequest\" xlink:href=\"psysml:2565caae-8b6e-420b-a56a-eab601fd4b55\" xlink:show=\"new\" xlink:title=\"psysml:2565caae-8b6e-420b-a56a-eab601fd4b55\" xlink:type=\"simple\"><path d=\"M153.86,362.01 C166.19,375.22 182.2,392.38 196.46,407.65 \" fill=\"none\" id=\"E8-&gt;E2\" style=\"stroke: #383838; stroke-width: 1.0;\"/><polygon fill=\"#FFFFFF\" points=\"210.47,422.66,192.3921,413.5393,202.6305,403.9907,210.47,422.66\" style=\"stroke: #383838; stroke-width: 1.0;\"/><ellipse cx=\"189.9671\" cy=\"408.0067\" fill=\"#383838\" rx=\"2\" ry=\"2\" style=\"stroke: #383838; stroke-width: 1.0;\"/><ellipse cx=\"197.2802\" cy=\"401.1863\" fill=\"#383838\" rx=\"2\" ry=\"2\" style=\"stroke: #383838; stroke-width: 1.0;\"/></a><!--MD5=[dc164f5e8a733ab456ef1add180e9e34]\n",
       "reverse link E7 to E8--><a href=\"psysml:b0f7840c-11d7-45e2-a5a4-bf208bef1113\" target=\"_top\" title=\"psysml:b0f7840c-11d7-45e2-a5a4-bf208bef1113\" xlink:actuate=\"onRequest\" xlink:href=\"psysml:b0f7840c-11d7-45e2-a5a4-bf208bef1113\" xlink:show=\"new\" xlink:title=\"psysml:b0f7840c-11d7-45e2-a5a4-bf208bef1113\" xlink:type=\"simple\"><path d=\"M352.67,208.29 C327.33,216.69 298.96,227.44 274.32,240 C231.96,261.6 187.65,294.33 160.26,315.93 \" fill=\"none\" id=\"E7&lt;-E8\" style=\"stroke: #383838; stroke-width: 1.0;\"/><polygon fill=\"#FFFFFF\" points=\"365.22,204.24,358.2818,202.2749,353.7994,207.9236,360.7376,209.8887,365.22,204.24\" style=\"stroke: #383838; stroke-width: 1.0;\"/></a><!--MD5=[5c3bb36fe832a92c7f0e1807dd65209d]\n",
       "link E9 to E2--><a href=\"psysml:a6aa3e55-56ca-44c6-92e8-1089eebb019a\" target=\"_top\" title=\"psysml:a6aa3e55-56ca-44c6-92e8-1089eebb019a\" xlink:actuate=\"onRequest\" xlink:href=\"psysml:a6aa3e55-56ca-44c6-92e8-1089eebb019a\" xlink:show=\"new\" xlink:title=\"psysml:a6aa3e55-56ca-44c6-92e8-1089eebb019a\" xlink:type=\"simple\"><path d=\"M291.19,285.15 C275.57,292.56 260.94,302.55 250.32,316 C231.17,340.25 227.04,375.32 227.36,402.77 \" fill=\"none\" id=\"E9-&gt;E2\" style=\"stroke: #383838; stroke-width: 1.0;\"/><polygon fill=\"#FFFFFF\" points=\"228.36,422.81,220.4186,404.1838,234.4011,403.4837,228.36,422.81\" style=\"stroke: #383838; stroke-width: 1.0;\"/><ellipse cx=\"222.131\" cy=\"398.3909\" fill=\"#383838\" rx=\"2\" ry=\"2\" style=\"stroke: #383838; stroke-width: 1.0;\"/><ellipse cx=\"232.1185\" cy=\"397.8909\" fill=\"#383838\" rx=\"2\" ry=\"2\" style=\"stroke: #383838; stroke-width: 1.0;\"/></a><!--MD5=[9ae28de373ca99bb8a1b38d63370ca7e]\n",
       "reverse link E5 to E9--><a href=\"psysml:9d098c9e-1a7b-415f-a301-c2067e422f2c\" target=\"_top\" title=\"psysml:9d098c9e-1a7b-415f-a301-c2067e422f2c\" xlink:actuate=\"onRequest\" xlink:href=\"psysml:9d098c9e-1a7b-415f-a301-c2067e422f2c\" xlink:show=\"new\" xlink:title=\"psysml:9d098c9e-1a7b-415f-a301-c2067e422f2c\" xlink:type=\"simple\"><path d=\"M416.08,92.77 C447.78,108.48 481.27,131.61 499.32,164 C509.27,181.86 510.51,192.89 499.32,210 C490.86,222.92 478.41,232.65 464.71,239.97 \" fill=\"none\" id=\"E5&lt;-E9\" style=\"stroke: #383838; stroke-width: 1.0;\"/><polygon fill=\"#FFFFFF\" points=\"404.06,87.11,407.7814,93.2867,414.9142,92.2272,411.1928,86.0505,404.06,87.11\" style=\"stroke: #383838; stroke-width: 1.0;\"/></a><!--MD5=[e83b35814c332dc4abad0de8c2ee4dbb]\n",
       "@startuml\r\n",
       "skinparam monochrome true\r\n",
       "skinparam classbackgroundcolor white\r\n",
       "skinparam shadowing false\r\n",
       "skinparam wrapWidth 300\r\n",
       "hide circle\r\n",
       "\r\n",
       "package \"TradeStudyTest\" as E1  [[psysml:656cfd98-5664-4901-a86b-535977508953 ]]  {\r\n",
       "comp def \"Engine\" as E2  <<(T,blue)part def>> [[psysml:66c87936-3609-4f97-8f24-8ad3882372ee ]] {\r\n",
       "}\r\n",
       "comp usage \"engine1: Engine\" as E3  <<(T,blue)part>> [[psysml:c974a942-078b-4d34-96c1-8ca70902d898 ]] {\r\n",
       "}\r\n",
       "comp usage \"engine2: Engine\" as E4  <<(T,blue)part>> [[psysml:f4d0ec5b-d124-41e4-9ba9-3cb67b695e7c ]] {\r\n",
       "}\r\n",
       "comp usage \"engineTradeStudy: TradeStudy\" as E5 <<analysis>> [[psysml:2fd52497-3b24-4a66-a5d3-d77cdf8b2acf ]] {\r\n",
       "}\r\n",
       "comp usage \"tradeStudyObjective: MaximizeObjective\" as E6  <<(T,blue)requirement>> [[psysml:2c27f52f-f536-4fc6-bf8d-fd6e3fd13c39 ]] {\r\n",
       "}\r\n",
       "comp usage \"objectiveFunction\" as E7  <<(T,blue)calculation>> [[psysml:7b858bf3-8f8c-4105-a0db-0d0783f29576 ]] {\r\n",
       "}\r\n",
       "comp usage \"alternative: Engine\" as E8  <<(T,blue)part>> [[psysml:b0f7840c-11d7-45e2-a5a4-bf208bef1113 ]] {\r\n",
       "}\r\n",
       "comp usage \"selectedAlternative: Engine\" as E9  <<(T,blue)part>> [[psysml:9d098c9e-1a7b-415f-a301-c2067e422f2c ]] {\r\n",
       "}\r\n",
       "E3 - -:|> E2 [[psysml:6d15a19a-180f-471d-b762-c393731ed9f0 ]] \r\n",
       "E4 - -:|> E2 [[psysml:247dd621-3d2a-4448-8896-ee4a55c37d47 ]] \r\n",
       "E5 ..> E2 [[psysml:21b7132a-f544-4487-a747-91d198ad447d ]] : <<subject>>\r\n",
       "E5 - ->> E6 [[psysml:44ec4945-cc63-4e9d-b8df-7b9a76da0bc7 ]] : <<objective>>\r\n",
       "E5 *- - E7 [[psysml:7b858bf3-8f8c-4105-a0db-0d0783f29576 ]] \r\n",
       "E8 - -:|> E2 [[psysml:2565caae-8b6e-420b-a56a-eab601fd4b55 ]] \r\n",
       "E7 o- - E8 [[psysml:b0f7840c-11d7-45e2-a5a4-bf208bef1113 ]] \r\n",
       "E9 - -:|> E2 [[psysml:a6aa3e55-56ca-44c6-92e8-1089eebb019a ]] \r\n",
       "E5 o- - E9 [[psysml:9d098c9e-1a7b-415f-a301-c2067e422f2c ]] \r\n",
       "}\r\n",
       "@enduml\r\n",
       "\n",
       "PlantUML version 1.2020.13(Sat Jun 13 12:26:38 UTC 2020)\n",
       "(EPL source distribution)\n",
       "Java Runtime: OpenJDK Runtime Environment\n",
       "JVM: OpenJDK 64-Bit Server VM\n",
       "Default Encoding: UTF-8\n",
       "Language: en\n",
       "Country: null\n",
       "--></g></svg>"
      ]
     },
     "execution_count": 43,
     "metadata": {},
     "output_type": "execute_result"
    }
   ],
   "source": [
    "%viz --style=\"DEFAULT\" --view=\"MIXED\" \"TradeStudyTest\""
   ]
  },
  {
   "cell_type": "code",
   "execution_count": 44,
   "id": "golden-criticism",
   "metadata": {
    "execution": {
     "iopub.execute_input": "2021-03-25T13:19:24.058430Z",
     "iopub.status.busy": "2021-03-25T13:19:24.057720Z",
     "iopub.status.idle": "2021-03-25T13:19:24.221594Z",
     "shell.execute_reply": "2021-03-25T13:19:24.219773Z"
    }
   },
   "outputs": [
    {
     "data": {
      "image/svg+xml": [
       "<?xml version=\"1.0\" encoding=\"UTF-8\" standalone=\"no\"?><svg xmlns=\"http://www.w3.org/2000/svg\" xmlns:xlink=\"http://www.w3.org/1999/xlink\" contentScriptType=\"application/ecmascript\" contentStyleType=\"text/css\" height=\"497px\" preserveAspectRatio=\"none\" style=\"width:556px;height:497px;\" version=\"1.1\" viewBox=\"0 0 556 497\" width=\"556px\" zoomAndPan=\"magnify\"><defs/><g><!--MD5=[fbc87193dbaf4d95561dea2c320d4a47]\n",
       "cluster E1--><a href=\"psysml:656cfd98-5664-4901-a86b-535977508953\" target=\"_top\" title=\"psysml:656cfd98-5664-4901-a86b-535977508953\" xlink:actuate=\"onRequest\" xlink:href=\"psysml:656cfd98-5664-4901-a86b-535977508953\" xlink:show=\"new\" xlink:title=\"psysml:656cfd98-5664-4901-a86b-535977508953\" xlink:type=\"simple\"><polygon fill=\"#FFFFFF\" points=\"18.32,6,150.32,6,157.32,28.2969,534.32,28.2969,534.32,485,18.32,485,18.32,6\" style=\"stroke: #000000; stroke-width: 1.5;\"/><line style=\"stroke: #000000; stroke-width: 1.5;\" x1=\"18.32\" x2=\"157.32\" y1=\"28.2969\" y2=\"28.2969\"/><text fill=\"#000000\" font-family=\"sans-serif\" font-size=\"14\" font-weight=\"bold\" lengthAdjust=\"spacingAndGlyphs\" textLength=\"126\" x=\"22.32\" y=\"20.9951\">TradeStudyTest</text></a><!--MD5=[b4997ac47864f28c2f74865a473b2911]\n",
       "class E2--><a href=\"psysml:66c87936-3609-4f97-8f24-8ad3882372ee\" target=\"_top\" title=\"psysml:66c87936-3609-4f97-8f24-8ad3882372ee\" xlink:actuate=\"onRequest\" xlink:href=\"psysml:66c87936-3609-4f97-8f24-8ad3882372ee\" xlink:show=\"new\" xlink:title=\"psysml:66c87936-3609-4f97-8f24-8ad3882372ee\" xlink:type=\"simple\"><rect fill=\"#FFFFFF\" height=\"45.9375\" id=\"E2\" style=\"stroke: #383838; stroke-width: 1.5;\" width=\"66\" x=\"198.32\" y=\"423\"/><text fill=\"#000000\" font-family=\"sans-serif\" font-size=\"12\" font-style=\"italic\" lengthAdjust=\"spacingAndGlyphs\" textLength=\"64\" x=\"199.32\" y=\"439.1387\">«part def»</text><text fill=\"#000000\" font-family=\"sans-serif\" font-size=\"12\" lengthAdjust=\"spacingAndGlyphs\" textLength=\"43\" x=\"209.82\" y=\"453.1074\">Engine</text><line style=\"stroke: #383838; stroke-width: 1.5;\" x1=\"199.32\" x2=\"263.32\" y1=\"460.9375\" y2=\"460.9375\"/></a><!--MD5=[09b614a08d8cba4a07c9adeb5e0fee81]\n",
       "class E3--><a href=\"psysml:c974a942-078b-4d34-96c1-8ca70902d898\" target=\"_top\" title=\"psysml:c974a942-078b-4d34-96c1-8ca70902d898\" xlink:actuate=\"onRequest\" xlink:href=\"psysml:c974a942-078b-4d34-96c1-8ca70902d898\" xlink:show=\"new\" xlink:title=\"psysml:c974a942-078b-4d34-96c1-8ca70902d898\" xlink:type=\"simple\"><rect fill=\"#FFFFFF\" height=\"45.9375\" id=\"E3\" rx=\"10\" ry=\"10\" style=\"stroke: #383838; stroke-width: 1.5;\" width=\"108\" x=\"410.32\" y=\"316\"/><text fill=\"#000000\" font-family=\"sans-serif\" font-size=\"12\" font-style=\"italic\" lengthAdjust=\"spacingAndGlyphs\" textLength=\"40\" x=\"444.32\" y=\"332.1387\">«part»</text><text fill=\"#000000\" font-family=\"sans-serif\" font-size=\"12\" lengthAdjust=\"spacingAndGlyphs\" textLength=\"102\" x=\"413.32\" y=\"346.1074\">engine1: Engine</text><line style=\"stroke: #383838; stroke-width: 1.5;\" x1=\"411.32\" x2=\"517.32\" y1=\"353.9375\" y2=\"353.9375\"/></a><!--MD5=[ebbe1d658d1005bcc118a6aa81145e00]\n",
       "class E4--><a href=\"psysml:f4d0ec5b-d124-41e4-9ba9-3cb67b695e7c\" target=\"_top\" title=\"psysml:f4d0ec5b-d124-41e4-9ba9-3cb67b695e7c\" xlink:actuate=\"onRequest\" xlink:href=\"psysml:f4d0ec5b-d124-41e4-9ba9-3cb67b695e7c\" xlink:show=\"new\" xlink:title=\"psysml:f4d0ec5b-d124-41e4-9ba9-3cb67b695e7c\" xlink:type=\"simple\"><rect fill=\"#FFFFFF\" height=\"45.9375\" id=\"E4\" rx=\"10\" ry=\"10\" style=\"stroke: #383838; stroke-width: 1.5;\" width=\"108\" x=\"267.32\" y=\"316\"/><text fill=\"#000000\" font-family=\"sans-serif\" font-size=\"12\" font-style=\"italic\" lengthAdjust=\"spacingAndGlyphs\" textLength=\"40\" x=\"301.32\" y=\"332.1387\">«part»</text><text fill=\"#000000\" font-family=\"sans-serif\" font-size=\"12\" lengthAdjust=\"spacingAndGlyphs\" textLength=\"102\" x=\"270.32\" y=\"346.1074\">engine2: Engine</text><line style=\"stroke: #383838; stroke-width: 1.5;\" x1=\"268.32\" x2=\"374.32\" y1=\"353.9375\" y2=\"353.9375\"/></a><!--MD5=[270fce915f116d4de14055a7c1d9a0f3]\n",
       "class E5--><a href=\"psysml:2fd52497-3b24-4a66-a5d3-d77cdf8b2acf\" target=\"_top\" title=\"psysml:2fd52497-3b24-4a66-a5d3-d77cdf8b2acf\" xlink:actuate=\"onRequest\" xlink:href=\"psysml:2fd52497-3b24-4a66-a5d3-d77cdf8b2acf\" xlink:show=\"new\" xlink:title=\"psysml:2fd52497-3b24-4a66-a5d3-d77cdf8b2acf\" xlink:type=\"simple\"><rect fill=\"#FFFFFF\" height=\"45.9375\" id=\"E5\" rx=\"10\" ry=\"10\" style=\"stroke: #383838; stroke-width: 1.5;\" width=\"199\" x=\"239.82\" y=\"41\"/><text fill=\"#000000\" font-family=\"sans-serif\" font-size=\"12\" font-style=\"italic\" lengthAdjust=\"spacingAndGlyphs\" textLength=\"64\" x=\"307.32\" y=\"57.1387\">«analysis»</text><text fill=\"#000000\" font-family=\"sans-serif\" font-size=\"12\" lengthAdjust=\"spacingAndGlyphs\" textLength=\"193\" x=\"242.82\" y=\"71.1074\">engineTradeStudy: TradeStudy</text><line style=\"stroke: #383838; stroke-width: 1.5;\" x1=\"240.82\" x2=\"437.82\" y1=\"78.9375\" y2=\"78.9375\"/></a><!--MD5=[60a26617385b1d2d0262a64233df1f8d]\n",
       "class E6--><a href=\"psysml:2c27f52f-f536-4fc6-bf8d-fd6e3fd13c39\" target=\"_top\" title=\"psysml:2c27f52f-f536-4fc6-bf8d-fd6e3fd13c39\" xlink:actuate=\"onRequest\" xlink:href=\"psysml:2c27f52f-f536-4fc6-bf8d-fd6e3fd13c39\" xlink:show=\"new\" xlink:title=\"psysml:2c27f52f-f536-4fc6-bf8d-fd6e3fd13c39\" xlink:type=\"simple\"><rect fill=\"#FFFFFF\" height=\"45.9375\" id=\"E6\" rx=\"10\" ry=\"10\" style=\"stroke: #383838; stroke-width: 1.5;\" width=\"251\" x=\"78.82\" y=\"164\"/><text fill=\"#000000\" font-family=\"sans-serif\" font-size=\"12\" font-style=\"italic\" lengthAdjust=\"spacingAndGlyphs\" textLength=\"91\" x=\"158.82\" y=\"180.1387\">«requirement»</text><text fill=\"#000000\" font-family=\"sans-serif\" font-size=\"12\" lengthAdjust=\"spacingAndGlyphs\" textLength=\"245\" x=\"81.82\" y=\"194.1074\">tradeStudyObjective: MaximizeObjective</text><line style=\"stroke: #383838; stroke-width: 1.5;\" x1=\"79.82\" x2=\"328.82\" y1=\"201.9375\" y2=\"201.9375\"/></a><!--MD5=[2156ba9850f5573cc1fc38a6a4b2f02b]\n",
       "class E7--><a href=\"psysml:7b858bf3-8f8c-4105-a0db-0d0783f29576\" target=\"_top\" title=\"psysml:7b858bf3-8f8c-4105-a0db-0d0783f29576\" xlink:actuate=\"onRequest\" xlink:href=\"psysml:7b858bf3-8f8c-4105-a0db-0d0783f29576\" xlink:show=\"new\" xlink:title=\"psysml:7b858bf3-8f8c-4105-a0db-0d0783f29576\" xlink:type=\"simple\"><rect fill=\"#FFFFFF\" height=\"45.9375\" id=\"E7\" rx=\"10\" ry=\"10\" style=\"stroke: #383838; stroke-width: 1.5;\" width=\"116\" x=\"365.32\" y=\"164\"/><text fill=\"#000000\" font-family=\"sans-serif\" font-size=\"12\" font-style=\"italic\" lengthAdjust=\"spacingAndGlyphs\" textLength=\"82\" x=\"382.32\" y=\"180.1387\">«calculation»</text><text fill=\"#000000\" font-family=\"sans-serif\" font-size=\"12\" lengthAdjust=\"spacingAndGlyphs\" textLength=\"110\" x=\"368.32\" y=\"194.1074\">objectiveFunction</text><line style=\"stroke: #383838; stroke-width: 1.5;\" x1=\"366.32\" x2=\"480.32\" y1=\"201.9375\" y2=\"201.9375\"/></a><!--MD5=[b9389687b975829384b498ac4b7476b2]\n",
       "class E8--><a href=\"psysml:b0f7840c-11d7-45e2-a5a4-bf208bef1113\" target=\"_top\" title=\"psysml:b0f7840c-11d7-45e2-a5a4-bf208bef1113\" xlink:actuate=\"onRequest\" xlink:href=\"psysml:b0f7840c-11d7-45e2-a5a4-bf208bef1113\" xlink:show=\"new\" xlink:title=\"psysml:b0f7840c-11d7-45e2-a5a4-bf208bef1113\" xlink:type=\"simple\"><rect fill=\"#FFFFFF\" height=\"45.9375\" id=\"E8\" rx=\"10\" ry=\"10\" style=\"stroke: #383838; stroke-width: 1.5;\" width=\"124\" x=\"71.32\" y=\"316\"/><text fill=\"#000000\" font-family=\"sans-serif\" font-size=\"12\" font-style=\"italic\" lengthAdjust=\"spacingAndGlyphs\" textLength=\"40\" x=\"113.32\" y=\"332.1387\">«part»</text><text fill=\"#000000\" font-family=\"sans-serif\" font-size=\"12\" lengthAdjust=\"spacingAndGlyphs\" textLength=\"118\" x=\"74.32\" y=\"346.1074\">alternative: Engine</text><line style=\"stroke: #383838; stroke-width: 1.5;\" x1=\"72.32\" x2=\"194.32\" y1=\"353.9375\" y2=\"353.9375\"/></a><!--MD5=[fd4143e9d270a159db93a4ea2a975926]\n",
       "class E9--><a href=\"psysml:9d098c9e-1a7b-415f-a301-c2067e422f2c\" target=\"_top\" title=\"psysml:9d098c9e-1a7b-415f-a301-c2067e422f2c\" xlink:actuate=\"onRequest\" xlink:href=\"psysml:9d098c9e-1a7b-415f-a301-c2067e422f2c\" xlink:show=\"new\" xlink:title=\"psysml:9d098c9e-1a7b-415f-a301-c2067e422f2c\" xlink:type=\"simple\"><rect fill=\"#FFFFFF\" height=\"45.9375\" id=\"E9\" rx=\"10\" ry=\"10\" style=\"stroke: #383838; stroke-width: 1.5;\" width=\"178\" x=\"291.32\" y=\"240\"/><text fill=\"#000000\" font-family=\"sans-serif\" font-size=\"12\" font-style=\"italic\" lengthAdjust=\"spacingAndGlyphs\" textLength=\"40\" x=\"360.32\" y=\"256.1387\">«part»</text><text fill=\"#000000\" font-family=\"sans-serif\" font-size=\"12\" lengthAdjust=\"spacingAndGlyphs\" textLength=\"172\" x=\"294.32\" y=\"270.1074\">selectedAlternative: Engine</text><line style=\"stroke: #383838; stroke-width: 1.5;\" x1=\"292.32\" x2=\"468.32\" y1=\"277.9375\" y2=\"277.9375\"/></a><!--MD5=[05d275557350bfb9b23a4ef7222b4c39]\n",
       "link E3 to E2--><a href=\"psysml:6d15a19a-180f-471d-b762-c393731ed9f0\" target=\"_top\" title=\"psysml:6d15a19a-180f-471d-b762-c393731ed9f0\" xlink:actuate=\"onRequest\" xlink:href=\"psysml:6d15a19a-180f-471d-b762-c393731ed9f0\" xlink:show=\"new\" xlink:title=\"psysml:6d15a19a-180f-471d-b762-c393731ed9f0\" xlink:type=\"simple\"><path d=\"M415.48,362.01 C376.57,379.54 322.27,404.01 282.71,421.84 \" fill=\"none\" id=\"E3-&gt;E2\" style=\"stroke: #383838; stroke-width: 1.0;\"/><polygon fill=\"#FFFFFF\" points=\"264.34,430.12,278.7866,415.9321,284.5383,428.696,264.34,430.12\" style=\"stroke: #383838; stroke-width: 1.0;\"/><ellipse cx=\"284.805\" cy=\"415.4137\" fill=\"#383838\" rx=\"2\" ry=\"2\" style=\"stroke: #383838; stroke-width: 1.0;\"/><ellipse cx=\"288.9134\" cy=\"424.5308\" fill=\"#383838\" rx=\"2\" ry=\"2\" style=\"stroke: #383838; stroke-width: 1.0;\"/></a><!--MD5=[185131fc0dcab0a4505a2ebe144e961b]\n",
       "link E4 to E2--><a href=\"psysml:247dd621-3d2a-4448-8896-ee4a55c37d47\" target=\"_top\" title=\"psysml:247dd621-3d2a-4448-8896-ee4a55c37d47\" xlink:actuate=\"onRequest\" xlink:href=\"psysml:247dd621-3d2a-4448-8896-ee4a55c37d47\" xlink:show=\"new\" xlink:title=\"psysml:247dd621-3d2a-4448-8896-ee4a55c37d47\" xlink:type=\"simple\"><path d=\"M302.45,362.01 C291.25,375.08 276.74,392.01 263.74,407.17 \" fill=\"none\" id=\"E4-&gt;E2\" style=\"stroke: #383838; stroke-width: 1.0;\"/><polygon fill=\"#FFFFFF\" points=\"250.47,422.66,257.5188,403.678,268.1491,412.7883,250.47,422.66\" style=\"stroke: #383838; stroke-width: 1.0;\"/><ellipse cx=\"262.7466\" cy=\"400.6515\" fill=\"#383838\" rx=\"2\" ry=\"2\" style=\"stroke: #383838; stroke-width: 1.0;\"/><ellipse cx=\"270.3396\" cy=\"407.1588\" fill=\"#383838\" rx=\"2\" ry=\"2\" style=\"stroke: #383838; stroke-width: 1.0;\"/></a><!--MD5=[15ebcb19ae302d9b601edb458606d402]\n",
       "link E5 to E2--><a href=\"psysml:21b7132a-f544-4487-a747-91d198ad447d\" target=\"_top\" title=\"psysml:21b7132a-f544-4487-a747-91d198ad447d\" xlink:actuate=\"onRequest\" xlink:href=\"psysml:21b7132a-f544-4487-a747-91d198ad447d\" xlink:show=\"new\" xlink:title=\"psysml:21b7132a-f544-4487-a747-91d198ad447d\" xlink:type=\"simple\"><path d=\"M239.76,73.22 C177.99,83.96 102.74,108.45 61.32,164 C8.68,234.61 6,287.72 53.32,362 C83.95,410.08 150.5,430.76 192.99,439.32 \" fill=\"none\" id=\"E5-&gt;E2\" style=\"stroke: #383838; stroke-width: 1.0; stroke-dasharray: 7.0,7.0;\"/><polygon fill=\"#383838\" points=\"198.04,440.31,189.9738,434.6588,193.1327,439.3514,188.4401,442.5104,198.04,440.31\" style=\"stroke: #383838; stroke-width: 1.0;\"/><text fill=\"#000000\" font-family=\"sans-serif\" font-size=\"13\" lengthAdjust=\"spacingAndGlyphs\" textLength=\"62\" x=\"24.32\" y=\"267.5669\">«subject»</text></a><!--MD5=[9120cf2e5df3bff93db8f754bbbc09b4]\n",
       "link E5 to E6--><a href=\"psysml:44ec4945-cc63-4e9d-b8df-7b9a76da0bc7\" target=\"_top\" title=\"psysml:44ec4945-cc63-4e9d-b8df-7b9a76da0bc7\" xlink:actuate=\"onRequest\" xlink:href=\"psysml:44ec4945-cc63-4e9d-b8df-7b9a76da0bc7\" xlink:show=\"new\" xlink:title=\"psysml:44ec4945-cc63-4e9d-b8df-7b9a76da0bc7\" xlink:type=\"simple\"><path d=\"M314.56,87.19 C292.2,107.23 259.21,136.8 235.15,158.37 \" fill=\"none\" id=\"E5-&gt;E6\" style=\"stroke: #383838; stroke-width: 1.0;\"/><polygon fill=\"#383838\" points=\"228.92,163.95,236.8786,160.8419,232.8725,156.3752,228.92,163.95\" style=\"stroke: #383838; stroke-width: 1.0;\"/><text fill=\"#000000\" font-family=\"sans-serif\" font-size=\"13\" lengthAdjust=\"spacingAndGlyphs\" textLength=\"73\" x=\"280.32\" y=\"130.0669\">«objective»</text></a><!--MD5=[452b418e7f8a40397a49b8c0a78acc5b]\n",
       "reverse link E5 to E7--><a href=\"psysml:7b858bf3-8f8c-4105-a0db-0d0783f29576\" target=\"_top\" title=\"psysml:7b858bf3-8f8c-4105-a0db-0d0783f29576\" xlink:actuate=\"onRequest\" xlink:href=\"psysml:7b858bf3-8f8c-4105-a0db-0d0783f29576\" xlink:show=\"new\" xlink:title=\"psysml:7b858bf3-8f8c-4105-a0db-0d0783f29576\" xlink:type=\"simple\"><path d=\"M362.14,97.88 C376.71,118.86 395.19,145.48 408.01,163.95 \" fill=\"none\" id=\"E5&lt;-E7\" style=\"stroke: #383838; stroke-width: 1.0;\"/><polygon fill=\"#383838\" points=\"354.73,87.19,354.864,94.3999,361.5708,97.0492,361.4368,89.8393,354.73,87.19\" style=\"stroke: #383838; stroke-width: 1.0;\"/></a><!--MD5=[f1f3f9f2fc535e6147756cb86a7f2e32]\n",
       "link E8 to E2--><a href=\"psysml:2565caae-8b6e-420b-a56a-eab601fd4b55\" target=\"_top\" title=\"psysml:2565caae-8b6e-420b-a56a-eab601fd4b55\" xlink:actuate=\"onRequest\" xlink:href=\"psysml:2565caae-8b6e-420b-a56a-eab601fd4b55\" xlink:show=\"new\" xlink:title=\"psysml:2565caae-8b6e-420b-a56a-eab601fd4b55\" xlink:type=\"simple\"><path d=\"M153.86,362.01 C166.19,375.22 182.2,392.38 196.46,407.65 \" fill=\"none\" id=\"E8-&gt;E2\" style=\"stroke: #383838; stroke-width: 1.0;\"/><polygon fill=\"#FFFFFF\" points=\"210.47,422.66,192.3921,413.5393,202.6305,403.9907,210.47,422.66\" style=\"stroke: #383838; stroke-width: 1.0;\"/><ellipse cx=\"189.9671\" cy=\"408.0067\" fill=\"#383838\" rx=\"2\" ry=\"2\" style=\"stroke: #383838; stroke-width: 1.0;\"/><ellipse cx=\"197.2802\" cy=\"401.1863\" fill=\"#383838\" rx=\"2\" ry=\"2\" style=\"stroke: #383838; stroke-width: 1.0;\"/></a><!--MD5=[dc164f5e8a733ab456ef1add180e9e34]\n",
       "reverse link E7 to E8--><a href=\"psysml:b0f7840c-11d7-45e2-a5a4-bf208bef1113\" target=\"_top\" title=\"psysml:b0f7840c-11d7-45e2-a5a4-bf208bef1113\" xlink:actuate=\"onRequest\" xlink:href=\"psysml:b0f7840c-11d7-45e2-a5a4-bf208bef1113\" xlink:show=\"new\" xlink:title=\"psysml:b0f7840c-11d7-45e2-a5a4-bf208bef1113\" xlink:type=\"simple\"><path d=\"M352.67,208.29 C327.33,216.69 298.96,227.44 274.32,240 C231.96,261.6 187.65,294.33 160.26,315.93 \" fill=\"none\" id=\"E7&lt;-E8\" style=\"stroke: #383838; stroke-width: 1.0;\"/><polygon fill=\"#FFFFFF\" points=\"365.22,204.24,358.2818,202.2749,353.7994,207.9236,360.7376,209.8887,365.22,204.24\" style=\"stroke: #383838; stroke-width: 1.0;\"/></a><!--MD5=[5c3bb36fe832a92c7f0e1807dd65209d]\n",
       "link E9 to E2--><a href=\"psysml:a6aa3e55-56ca-44c6-92e8-1089eebb019a\" target=\"_top\" title=\"psysml:a6aa3e55-56ca-44c6-92e8-1089eebb019a\" xlink:actuate=\"onRequest\" xlink:href=\"psysml:a6aa3e55-56ca-44c6-92e8-1089eebb019a\" xlink:show=\"new\" xlink:title=\"psysml:a6aa3e55-56ca-44c6-92e8-1089eebb019a\" xlink:type=\"simple\"><path d=\"M291.19,285.15 C275.57,292.56 260.94,302.55 250.32,316 C231.17,340.25 227.04,375.32 227.36,402.77 \" fill=\"none\" id=\"E9-&gt;E2\" style=\"stroke: #383838; stroke-width: 1.0;\"/><polygon fill=\"#FFFFFF\" points=\"228.36,422.81,220.4186,404.1838,234.4011,403.4837,228.36,422.81\" style=\"stroke: #383838; stroke-width: 1.0;\"/><ellipse cx=\"222.131\" cy=\"398.3909\" fill=\"#383838\" rx=\"2\" ry=\"2\" style=\"stroke: #383838; stroke-width: 1.0;\"/><ellipse cx=\"232.1185\" cy=\"397.8909\" fill=\"#383838\" rx=\"2\" ry=\"2\" style=\"stroke: #383838; stroke-width: 1.0;\"/></a><!--MD5=[9ae28de373ca99bb8a1b38d63370ca7e]\n",
       "reverse link E5 to E9--><a href=\"psysml:9d098c9e-1a7b-415f-a301-c2067e422f2c\" target=\"_top\" title=\"psysml:9d098c9e-1a7b-415f-a301-c2067e422f2c\" xlink:actuate=\"onRequest\" xlink:href=\"psysml:9d098c9e-1a7b-415f-a301-c2067e422f2c\" xlink:show=\"new\" xlink:title=\"psysml:9d098c9e-1a7b-415f-a301-c2067e422f2c\" xlink:type=\"simple\"><path d=\"M416.08,92.77 C447.78,108.48 481.27,131.61 499.32,164 C509.27,181.86 510.51,192.89 499.32,210 C490.86,222.92 478.41,232.65 464.71,239.97 \" fill=\"none\" id=\"E5&lt;-E9\" style=\"stroke: #383838; stroke-width: 1.0;\"/><polygon fill=\"#FFFFFF\" points=\"404.06,87.11,407.7814,93.2867,414.9142,92.2272,411.1928,86.0505,404.06,87.11\" style=\"stroke: #383838; stroke-width: 1.0;\"/></a><!--MD5=[0eda15e9952d2021382cbc3c6eee1a19]\n",
       "@startuml\r\n",
       "top to bottom direction\r\n",
       "skinparam monochrome true\r\n",
       "skinparam classbackgroundcolor white\r\n",
       "skinparam shadowing false\r\n",
       "skinparam wrapWidth 300\r\n",
       "hide circle\r\n",
       "\r\n",
       "package \"TradeStudyTest\" as E1  [[psysml:656cfd98-5664-4901-a86b-535977508953 ]]  {\r\n",
       "comp def \"Engine\" as E2  <<(T,blue)part def>> [[psysml:66c87936-3609-4f97-8f24-8ad3882372ee ]] {\r\n",
       "}\r\n",
       "comp usage \"engine1: Engine\" as E3  <<(T,blue)part>> [[psysml:c974a942-078b-4d34-96c1-8ca70902d898 ]] {\r\n",
       "}\r\n",
       "comp usage \"engine2: Engine\" as E4  <<(T,blue)part>> [[psysml:f4d0ec5b-d124-41e4-9ba9-3cb67b695e7c ]] {\r\n",
       "}\r\n",
       "comp usage \"engineTradeStudy: TradeStudy\" as E5 <<analysis>> [[psysml:2fd52497-3b24-4a66-a5d3-d77cdf8b2acf ]] {\r\n",
       "}\r\n",
       "comp usage \"tradeStudyObjective: MaximizeObjective\" as E6  <<(T,blue)requirement>> [[psysml:2c27f52f-f536-4fc6-bf8d-fd6e3fd13c39 ]] {\r\n",
       "}\r\n",
       "comp usage \"objectiveFunction\" as E7  <<(T,blue)calculation>> [[psysml:7b858bf3-8f8c-4105-a0db-0d0783f29576 ]] {\r\n",
       "}\r\n",
       "comp usage \"alternative: Engine\" as E8  <<(T,blue)part>> [[psysml:b0f7840c-11d7-45e2-a5a4-bf208bef1113 ]] {\r\n",
       "}\r\n",
       "comp usage \"selectedAlternative: Engine\" as E9  <<(T,blue)part>> [[psysml:9d098c9e-1a7b-415f-a301-c2067e422f2c ]] {\r\n",
       "}\r\n",
       "E3 - -:|> E2 [[psysml:6d15a19a-180f-471d-b762-c393731ed9f0 ]] \r\n",
       "E4 - -:|> E2 [[psysml:247dd621-3d2a-4448-8896-ee4a55c37d47 ]] \r\n",
       "E5 ..> E2 [[psysml:21b7132a-f544-4487-a747-91d198ad447d ]] : <<subject>>\r\n",
       "E5 - ->> E6 [[psysml:44ec4945-cc63-4e9d-b8df-7b9a76da0bc7 ]] : <<objective>>\r\n",
       "E5 *- - E7 [[psysml:7b858bf3-8f8c-4105-a0db-0d0783f29576 ]] \r\n",
       "E8 - -:|> E2 [[psysml:2565caae-8b6e-420b-a56a-eab601fd4b55 ]] \r\n",
       "E7 o- - E8 [[psysml:b0f7840c-11d7-45e2-a5a4-bf208bef1113 ]] \r\n",
       "E9 - -:|> E2 [[psysml:a6aa3e55-56ca-44c6-92e8-1089eebb019a ]] \r\n",
       "E5 o- - E9 [[psysml:9d098c9e-1a7b-415f-a301-c2067e422f2c ]] \r\n",
       "}\r\n",
       "@enduml\r\n",
       "\n",
       "PlantUML version 1.2020.13(Sat Jun 13 12:26:38 UTC 2020)\n",
       "(EPL source distribution)\n",
       "Java Runtime: OpenJDK Runtime Environment\n",
       "JVM: OpenJDK 64-Bit Server VM\n",
       "Default Encoding: UTF-8\n",
       "Language: en\n",
       "Country: null\n",
       "--></g></svg>"
      ]
     },
     "execution_count": 44,
     "metadata": {},
     "output_type": "execute_result"
    }
   ],
   "source": [
    "%viz --style=\"TB\" --view=\"Default\" \"TradeStudyTest\""
   ]
  },
  {
   "cell_type": "code",
   "execution_count": 45,
   "id": "nervous-camping",
   "metadata": {
    "execution": {
     "iopub.execute_input": "2021-03-25T13:19:24.271480Z",
     "iopub.status.busy": "2021-03-25T13:19:24.271044Z",
     "iopub.status.idle": "2021-03-25T13:19:24.420432Z",
     "shell.execute_reply": "2021-03-25T13:19:24.418474Z"
    }
   },
   "outputs": [
    {
     "data": {
      "image/svg+xml": [
       "<?xml version=\"1.0\" encoding=\"UTF-8\" standalone=\"no\"?><svg xmlns=\"http://www.w3.org/2000/svg\" xmlns:xlink=\"http://www.w3.org/1999/xlink\" contentScriptType=\"application/ecmascript\" contentStyleType=\"text/css\" height=\"497px\" preserveAspectRatio=\"none\" style=\"width:556px;height:497px;\" version=\"1.1\" viewBox=\"0 0 556 497\" width=\"556px\" zoomAndPan=\"magnify\"><defs/><g><!--MD5=[fbc87193dbaf4d95561dea2c320d4a47]\n",
       "cluster E1--><a href=\"psysml:656cfd98-5664-4901-a86b-535977508953\" target=\"_top\" title=\"psysml:656cfd98-5664-4901-a86b-535977508953\" xlink:actuate=\"onRequest\" xlink:href=\"psysml:656cfd98-5664-4901-a86b-535977508953\" xlink:show=\"new\" xlink:title=\"psysml:656cfd98-5664-4901-a86b-535977508953\" xlink:type=\"simple\"><polygon fill=\"#FFFFFF\" points=\"18.32,6,150.32,6,157.32,28.2969,534.32,28.2969,534.32,485,18.32,485,18.32,6\" style=\"stroke: #000000; stroke-width: 1.5;\"/><line style=\"stroke: #000000; stroke-width: 1.5;\" x1=\"18.32\" x2=\"157.32\" y1=\"28.2969\" y2=\"28.2969\"/><text fill=\"#000000\" font-family=\"sans-serif\" font-size=\"14\" font-weight=\"bold\" lengthAdjust=\"spacingAndGlyphs\" textLength=\"126\" x=\"22.32\" y=\"20.9951\">TradeStudyTest</text></a><!--MD5=[b4997ac47864f28c2f74865a473b2911]\n",
       "class E2--><a href=\"psysml:66c87936-3609-4f97-8f24-8ad3882372ee\" target=\"_top\" title=\"psysml:66c87936-3609-4f97-8f24-8ad3882372ee\" xlink:actuate=\"onRequest\" xlink:href=\"psysml:66c87936-3609-4f97-8f24-8ad3882372ee\" xlink:show=\"new\" xlink:title=\"psysml:66c87936-3609-4f97-8f24-8ad3882372ee\" xlink:type=\"simple\"><rect fill=\"#FFFFFF\" height=\"45.9375\" id=\"E2\" style=\"stroke: #383838; stroke-width: 1.5;\" width=\"66\" x=\"198.32\" y=\"423\"/><text fill=\"#000000\" font-family=\"sans-serif\" font-size=\"12\" font-style=\"italic\" lengthAdjust=\"spacingAndGlyphs\" textLength=\"64\" x=\"199.32\" y=\"439.1387\">«part def»</text><text fill=\"#000000\" font-family=\"sans-serif\" font-size=\"12\" lengthAdjust=\"spacingAndGlyphs\" textLength=\"43\" x=\"209.82\" y=\"453.1074\">Engine</text><line style=\"stroke: #383838; stroke-width: 1.5;\" x1=\"199.32\" x2=\"263.32\" y1=\"460.9375\" y2=\"460.9375\"/></a><!--MD5=[09b614a08d8cba4a07c9adeb5e0fee81]\n",
       "class E3--><a href=\"psysml:c974a942-078b-4d34-96c1-8ca70902d898\" target=\"_top\" title=\"psysml:c974a942-078b-4d34-96c1-8ca70902d898\" xlink:actuate=\"onRequest\" xlink:href=\"psysml:c974a942-078b-4d34-96c1-8ca70902d898\" xlink:show=\"new\" xlink:title=\"psysml:c974a942-078b-4d34-96c1-8ca70902d898\" xlink:type=\"simple\"><rect fill=\"#FFFFFF\" height=\"45.9375\" id=\"E3\" rx=\"10\" ry=\"10\" style=\"stroke: #383838; stroke-width: 1.5;\" width=\"108\" x=\"410.32\" y=\"316\"/><text fill=\"#000000\" font-family=\"sans-serif\" font-size=\"12\" font-style=\"italic\" lengthAdjust=\"spacingAndGlyphs\" textLength=\"40\" x=\"444.32\" y=\"332.1387\">«part»</text><text fill=\"#000000\" font-family=\"sans-serif\" font-size=\"12\" lengthAdjust=\"spacingAndGlyphs\" textLength=\"102\" x=\"413.32\" y=\"346.1074\">engine1: Engine</text><line style=\"stroke: #383838; stroke-width: 1.5;\" x1=\"411.32\" x2=\"517.32\" y1=\"353.9375\" y2=\"353.9375\"/></a><!--MD5=[ebbe1d658d1005bcc118a6aa81145e00]\n",
       "class E4--><a href=\"psysml:f4d0ec5b-d124-41e4-9ba9-3cb67b695e7c\" target=\"_top\" title=\"psysml:f4d0ec5b-d124-41e4-9ba9-3cb67b695e7c\" xlink:actuate=\"onRequest\" xlink:href=\"psysml:f4d0ec5b-d124-41e4-9ba9-3cb67b695e7c\" xlink:show=\"new\" xlink:title=\"psysml:f4d0ec5b-d124-41e4-9ba9-3cb67b695e7c\" xlink:type=\"simple\"><rect fill=\"#FFFFFF\" height=\"45.9375\" id=\"E4\" rx=\"10\" ry=\"10\" style=\"stroke: #383838; stroke-width: 1.5;\" width=\"108\" x=\"267.32\" y=\"316\"/><text fill=\"#000000\" font-family=\"sans-serif\" font-size=\"12\" font-style=\"italic\" lengthAdjust=\"spacingAndGlyphs\" textLength=\"40\" x=\"301.32\" y=\"332.1387\">«part»</text><text fill=\"#000000\" font-family=\"sans-serif\" font-size=\"12\" lengthAdjust=\"spacingAndGlyphs\" textLength=\"102\" x=\"270.32\" y=\"346.1074\">engine2: Engine</text><line style=\"stroke: #383838; stroke-width: 1.5;\" x1=\"268.32\" x2=\"374.32\" y1=\"353.9375\" y2=\"353.9375\"/></a><!--MD5=[270fce915f116d4de14055a7c1d9a0f3]\n",
       "class E5--><a href=\"psysml:2fd52497-3b24-4a66-a5d3-d77cdf8b2acf\" target=\"_top\" title=\"psysml:2fd52497-3b24-4a66-a5d3-d77cdf8b2acf\" xlink:actuate=\"onRequest\" xlink:href=\"psysml:2fd52497-3b24-4a66-a5d3-d77cdf8b2acf\" xlink:show=\"new\" xlink:title=\"psysml:2fd52497-3b24-4a66-a5d3-d77cdf8b2acf\" xlink:type=\"simple\"><rect fill=\"#FFFFFF\" height=\"45.9375\" id=\"E5\" rx=\"10\" ry=\"10\" style=\"stroke: #383838; stroke-width: 1.5;\" width=\"199\" x=\"239.82\" y=\"41\"/><text fill=\"#000000\" font-family=\"sans-serif\" font-size=\"12\" font-style=\"italic\" lengthAdjust=\"spacingAndGlyphs\" textLength=\"64\" x=\"307.32\" y=\"57.1387\">«analysis»</text><text fill=\"#000000\" font-family=\"sans-serif\" font-size=\"12\" lengthAdjust=\"spacingAndGlyphs\" textLength=\"193\" x=\"242.82\" y=\"71.1074\">engineTradeStudy: TradeStudy</text><line style=\"stroke: #383838; stroke-width: 1.5;\" x1=\"240.82\" x2=\"437.82\" y1=\"78.9375\" y2=\"78.9375\"/></a><!--MD5=[60a26617385b1d2d0262a64233df1f8d]\n",
       "class E6--><a href=\"psysml:2c27f52f-f536-4fc6-bf8d-fd6e3fd13c39\" target=\"_top\" title=\"psysml:2c27f52f-f536-4fc6-bf8d-fd6e3fd13c39\" xlink:actuate=\"onRequest\" xlink:href=\"psysml:2c27f52f-f536-4fc6-bf8d-fd6e3fd13c39\" xlink:show=\"new\" xlink:title=\"psysml:2c27f52f-f536-4fc6-bf8d-fd6e3fd13c39\" xlink:type=\"simple\"><rect fill=\"#FFFFFF\" height=\"45.9375\" id=\"E6\" rx=\"10\" ry=\"10\" style=\"stroke: #383838; stroke-width: 1.5;\" width=\"251\" x=\"78.82\" y=\"164\"/><text fill=\"#000000\" font-family=\"sans-serif\" font-size=\"12\" font-style=\"italic\" lengthAdjust=\"spacingAndGlyphs\" textLength=\"91\" x=\"158.82\" y=\"180.1387\">«requirement»</text><text fill=\"#000000\" font-family=\"sans-serif\" font-size=\"12\" lengthAdjust=\"spacingAndGlyphs\" textLength=\"245\" x=\"81.82\" y=\"194.1074\">tradeStudyObjective: MaximizeObjective</text><line style=\"stroke: #383838; stroke-width: 1.5;\" x1=\"79.82\" x2=\"328.82\" y1=\"201.9375\" y2=\"201.9375\"/></a><!--MD5=[2156ba9850f5573cc1fc38a6a4b2f02b]\n",
       "class E7--><a href=\"psysml:7b858bf3-8f8c-4105-a0db-0d0783f29576\" target=\"_top\" title=\"psysml:7b858bf3-8f8c-4105-a0db-0d0783f29576\" xlink:actuate=\"onRequest\" xlink:href=\"psysml:7b858bf3-8f8c-4105-a0db-0d0783f29576\" xlink:show=\"new\" xlink:title=\"psysml:7b858bf3-8f8c-4105-a0db-0d0783f29576\" xlink:type=\"simple\"><rect fill=\"#FFFFFF\" height=\"45.9375\" id=\"E7\" rx=\"10\" ry=\"10\" style=\"stroke: #383838; stroke-width: 1.5;\" width=\"116\" x=\"365.32\" y=\"164\"/><text fill=\"#000000\" font-family=\"sans-serif\" font-size=\"12\" font-style=\"italic\" lengthAdjust=\"spacingAndGlyphs\" textLength=\"82\" x=\"382.32\" y=\"180.1387\">«calculation»</text><text fill=\"#000000\" font-family=\"sans-serif\" font-size=\"12\" lengthAdjust=\"spacingAndGlyphs\" textLength=\"110\" x=\"368.32\" y=\"194.1074\">objectiveFunction</text><line style=\"stroke: #383838; stroke-width: 1.5;\" x1=\"366.32\" x2=\"480.32\" y1=\"201.9375\" y2=\"201.9375\"/></a><!--MD5=[b9389687b975829384b498ac4b7476b2]\n",
       "class E8--><a href=\"psysml:b0f7840c-11d7-45e2-a5a4-bf208bef1113\" target=\"_top\" title=\"psysml:b0f7840c-11d7-45e2-a5a4-bf208bef1113\" xlink:actuate=\"onRequest\" xlink:href=\"psysml:b0f7840c-11d7-45e2-a5a4-bf208bef1113\" xlink:show=\"new\" xlink:title=\"psysml:b0f7840c-11d7-45e2-a5a4-bf208bef1113\" xlink:type=\"simple\"><rect fill=\"#FFFFFF\" height=\"45.9375\" id=\"E8\" rx=\"10\" ry=\"10\" style=\"stroke: #383838; stroke-width: 1.5;\" width=\"124\" x=\"71.32\" y=\"316\"/><text fill=\"#000000\" font-family=\"sans-serif\" font-size=\"12\" font-style=\"italic\" lengthAdjust=\"spacingAndGlyphs\" textLength=\"40\" x=\"113.32\" y=\"332.1387\">«part»</text><text fill=\"#000000\" font-family=\"sans-serif\" font-size=\"12\" lengthAdjust=\"spacingAndGlyphs\" textLength=\"118\" x=\"74.32\" y=\"346.1074\">alternative: Engine</text><line style=\"stroke: #383838; stroke-width: 1.5;\" x1=\"72.32\" x2=\"194.32\" y1=\"353.9375\" y2=\"353.9375\"/></a><!--MD5=[fd4143e9d270a159db93a4ea2a975926]\n",
       "class E9--><a href=\"psysml:9d098c9e-1a7b-415f-a301-c2067e422f2c\" target=\"_top\" title=\"psysml:9d098c9e-1a7b-415f-a301-c2067e422f2c\" xlink:actuate=\"onRequest\" xlink:href=\"psysml:9d098c9e-1a7b-415f-a301-c2067e422f2c\" xlink:show=\"new\" xlink:title=\"psysml:9d098c9e-1a7b-415f-a301-c2067e422f2c\" xlink:type=\"simple\"><rect fill=\"#FFFFFF\" height=\"45.9375\" id=\"E9\" rx=\"10\" ry=\"10\" style=\"stroke: #383838; stroke-width: 1.5;\" width=\"178\" x=\"291.32\" y=\"240\"/><text fill=\"#000000\" font-family=\"sans-serif\" font-size=\"12\" font-style=\"italic\" lengthAdjust=\"spacingAndGlyphs\" textLength=\"40\" x=\"360.32\" y=\"256.1387\">«part»</text><text fill=\"#000000\" font-family=\"sans-serif\" font-size=\"12\" lengthAdjust=\"spacingAndGlyphs\" textLength=\"172\" x=\"294.32\" y=\"270.1074\">selectedAlternative: Engine</text><line style=\"stroke: #383838; stroke-width: 1.5;\" x1=\"292.32\" x2=\"468.32\" y1=\"277.9375\" y2=\"277.9375\"/></a><!--MD5=[05d275557350bfb9b23a4ef7222b4c39]\n",
       "link E3 to E2--><a href=\"psysml:6d15a19a-180f-471d-b762-c393731ed9f0\" target=\"_top\" title=\"psysml:6d15a19a-180f-471d-b762-c393731ed9f0\" xlink:actuate=\"onRequest\" xlink:href=\"psysml:6d15a19a-180f-471d-b762-c393731ed9f0\" xlink:show=\"new\" xlink:title=\"psysml:6d15a19a-180f-471d-b762-c393731ed9f0\" xlink:type=\"simple\"><path d=\"M415.48,362.01 C376.57,379.54 322.27,404.01 282.71,421.84 \" fill=\"none\" id=\"E3-&gt;E2\" style=\"stroke: #383838; stroke-width: 1.0;\"/><polygon fill=\"#FFFFFF\" points=\"264.34,430.12,278.7866,415.9321,284.5383,428.696,264.34,430.12\" style=\"stroke: #383838; stroke-width: 1.0;\"/><ellipse cx=\"284.805\" cy=\"415.4137\" fill=\"#383838\" rx=\"2\" ry=\"2\" style=\"stroke: #383838; stroke-width: 1.0;\"/><ellipse cx=\"288.9134\" cy=\"424.5308\" fill=\"#383838\" rx=\"2\" ry=\"2\" style=\"stroke: #383838; stroke-width: 1.0;\"/></a><!--MD5=[185131fc0dcab0a4505a2ebe144e961b]\n",
       "link E4 to E2--><a href=\"psysml:247dd621-3d2a-4448-8896-ee4a55c37d47\" target=\"_top\" title=\"psysml:247dd621-3d2a-4448-8896-ee4a55c37d47\" xlink:actuate=\"onRequest\" xlink:href=\"psysml:247dd621-3d2a-4448-8896-ee4a55c37d47\" xlink:show=\"new\" xlink:title=\"psysml:247dd621-3d2a-4448-8896-ee4a55c37d47\" xlink:type=\"simple\"><path d=\"M302.45,362.01 C291.25,375.08 276.74,392.01 263.74,407.17 \" fill=\"none\" id=\"E4-&gt;E2\" style=\"stroke: #383838; stroke-width: 1.0;\"/><polygon fill=\"#FFFFFF\" points=\"250.47,422.66,257.5188,403.678,268.1491,412.7883,250.47,422.66\" style=\"stroke: #383838; stroke-width: 1.0;\"/><ellipse cx=\"262.7466\" cy=\"400.6515\" fill=\"#383838\" rx=\"2\" ry=\"2\" style=\"stroke: #383838; stroke-width: 1.0;\"/><ellipse cx=\"270.3396\" cy=\"407.1588\" fill=\"#383838\" rx=\"2\" ry=\"2\" style=\"stroke: #383838; stroke-width: 1.0;\"/></a><!--MD5=[15ebcb19ae302d9b601edb458606d402]\n",
       "link E5 to E2--><a href=\"psysml:21b7132a-f544-4487-a747-91d198ad447d\" target=\"_top\" title=\"psysml:21b7132a-f544-4487-a747-91d198ad447d\" xlink:actuate=\"onRequest\" xlink:href=\"psysml:21b7132a-f544-4487-a747-91d198ad447d\" xlink:show=\"new\" xlink:title=\"psysml:21b7132a-f544-4487-a747-91d198ad447d\" xlink:type=\"simple\"><path d=\"M239.76,73.22 C177.99,83.96 102.74,108.45 61.32,164 C8.68,234.61 6,287.72 53.32,362 C83.95,410.08 150.5,430.76 192.99,439.32 \" fill=\"none\" id=\"E5-&gt;E2\" style=\"stroke: #383838; stroke-width: 1.0; stroke-dasharray: 7.0,7.0;\"/><polygon fill=\"#383838\" points=\"198.04,440.31,189.9738,434.6588,193.1327,439.3514,188.4401,442.5104,198.04,440.31\" style=\"stroke: #383838; stroke-width: 1.0;\"/><text fill=\"#000000\" font-family=\"sans-serif\" font-size=\"13\" lengthAdjust=\"spacingAndGlyphs\" textLength=\"62\" x=\"24.32\" y=\"267.5669\">«subject»</text></a><!--MD5=[9120cf2e5df3bff93db8f754bbbc09b4]\n",
       "link E5 to E6--><a href=\"psysml:44ec4945-cc63-4e9d-b8df-7b9a76da0bc7\" target=\"_top\" title=\"psysml:44ec4945-cc63-4e9d-b8df-7b9a76da0bc7\" xlink:actuate=\"onRequest\" xlink:href=\"psysml:44ec4945-cc63-4e9d-b8df-7b9a76da0bc7\" xlink:show=\"new\" xlink:title=\"psysml:44ec4945-cc63-4e9d-b8df-7b9a76da0bc7\" xlink:type=\"simple\"><path d=\"M314.56,87.19 C292.2,107.23 259.21,136.8 235.15,158.37 \" fill=\"none\" id=\"E5-&gt;E6\" style=\"stroke: #383838; stroke-width: 1.0;\"/><polygon fill=\"#383838\" points=\"228.92,163.95,236.8786,160.8419,232.8725,156.3752,228.92,163.95\" style=\"stroke: #383838; stroke-width: 1.0;\"/><text fill=\"#000000\" font-family=\"sans-serif\" font-size=\"13\" lengthAdjust=\"spacingAndGlyphs\" textLength=\"73\" x=\"280.32\" y=\"130.0669\">«objective»</text></a><!--MD5=[452b418e7f8a40397a49b8c0a78acc5b]\n",
       "reverse link E5 to E7--><a href=\"psysml:7b858bf3-8f8c-4105-a0db-0d0783f29576\" target=\"_top\" title=\"psysml:7b858bf3-8f8c-4105-a0db-0d0783f29576\" xlink:actuate=\"onRequest\" xlink:href=\"psysml:7b858bf3-8f8c-4105-a0db-0d0783f29576\" xlink:show=\"new\" xlink:title=\"psysml:7b858bf3-8f8c-4105-a0db-0d0783f29576\" xlink:type=\"simple\"><path d=\"M362.14,97.88 C376.71,118.86 395.19,145.48 408.01,163.95 \" fill=\"none\" id=\"E5&lt;-E7\" style=\"stroke: #383838; stroke-width: 1.0;\"/><polygon fill=\"#383838\" points=\"354.73,87.19,354.864,94.3999,361.5708,97.0492,361.4368,89.8393,354.73,87.19\" style=\"stroke: #383838; stroke-width: 1.0;\"/></a><!--MD5=[f1f3f9f2fc535e6147756cb86a7f2e32]\n",
       "link E8 to E2--><a href=\"psysml:2565caae-8b6e-420b-a56a-eab601fd4b55\" target=\"_top\" title=\"psysml:2565caae-8b6e-420b-a56a-eab601fd4b55\" xlink:actuate=\"onRequest\" xlink:href=\"psysml:2565caae-8b6e-420b-a56a-eab601fd4b55\" xlink:show=\"new\" xlink:title=\"psysml:2565caae-8b6e-420b-a56a-eab601fd4b55\" xlink:type=\"simple\"><path d=\"M153.86,362.01 C166.19,375.22 182.2,392.38 196.46,407.65 \" fill=\"none\" id=\"E8-&gt;E2\" style=\"stroke: #383838; stroke-width: 1.0;\"/><polygon fill=\"#FFFFFF\" points=\"210.47,422.66,192.3921,413.5393,202.6305,403.9907,210.47,422.66\" style=\"stroke: #383838; stroke-width: 1.0;\"/><ellipse cx=\"189.9671\" cy=\"408.0067\" fill=\"#383838\" rx=\"2\" ry=\"2\" style=\"stroke: #383838; stroke-width: 1.0;\"/><ellipse cx=\"197.2802\" cy=\"401.1863\" fill=\"#383838\" rx=\"2\" ry=\"2\" style=\"stroke: #383838; stroke-width: 1.0;\"/></a><!--MD5=[dc164f5e8a733ab456ef1add180e9e34]\n",
       "reverse link E7 to E8--><a href=\"psysml:b0f7840c-11d7-45e2-a5a4-bf208bef1113\" target=\"_top\" title=\"psysml:b0f7840c-11d7-45e2-a5a4-bf208bef1113\" xlink:actuate=\"onRequest\" xlink:href=\"psysml:b0f7840c-11d7-45e2-a5a4-bf208bef1113\" xlink:show=\"new\" xlink:title=\"psysml:b0f7840c-11d7-45e2-a5a4-bf208bef1113\" xlink:type=\"simple\"><path d=\"M352.67,208.29 C327.33,216.69 298.96,227.44 274.32,240 C231.96,261.6 187.65,294.33 160.26,315.93 \" fill=\"none\" id=\"E7&lt;-E8\" style=\"stroke: #383838; stroke-width: 1.0;\"/><polygon fill=\"#FFFFFF\" points=\"365.22,204.24,358.2818,202.2749,353.7994,207.9236,360.7376,209.8887,365.22,204.24\" style=\"stroke: #383838; stroke-width: 1.0;\"/></a><!--MD5=[5c3bb36fe832a92c7f0e1807dd65209d]\n",
       "link E9 to E2--><a href=\"psysml:a6aa3e55-56ca-44c6-92e8-1089eebb019a\" target=\"_top\" title=\"psysml:a6aa3e55-56ca-44c6-92e8-1089eebb019a\" xlink:actuate=\"onRequest\" xlink:href=\"psysml:a6aa3e55-56ca-44c6-92e8-1089eebb019a\" xlink:show=\"new\" xlink:title=\"psysml:a6aa3e55-56ca-44c6-92e8-1089eebb019a\" xlink:type=\"simple\"><path d=\"M291.19,285.15 C275.57,292.56 260.94,302.55 250.32,316 C231.17,340.25 227.04,375.32 227.36,402.77 \" fill=\"none\" id=\"E9-&gt;E2\" style=\"stroke: #383838; stroke-width: 1.0;\"/><polygon fill=\"#FFFFFF\" points=\"228.36,422.81,220.4186,404.1838,234.4011,403.4837,228.36,422.81\" style=\"stroke: #383838; stroke-width: 1.0;\"/><ellipse cx=\"222.131\" cy=\"398.3909\" fill=\"#383838\" rx=\"2\" ry=\"2\" style=\"stroke: #383838; stroke-width: 1.0;\"/><ellipse cx=\"232.1185\" cy=\"397.8909\" fill=\"#383838\" rx=\"2\" ry=\"2\" style=\"stroke: #383838; stroke-width: 1.0;\"/></a><!--MD5=[9ae28de373ca99bb8a1b38d63370ca7e]\n",
       "reverse link E5 to E9--><a href=\"psysml:9d098c9e-1a7b-415f-a301-c2067e422f2c\" target=\"_top\" title=\"psysml:9d098c9e-1a7b-415f-a301-c2067e422f2c\" xlink:actuate=\"onRequest\" xlink:href=\"psysml:9d098c9e-1a7b-415f-a301-c2067e422f2c\" xlink:show=\"new\" xlink:title=\"psysml:9d098c9e-1a7b-415f-a301-c2067e422f2c\" xlink:type=\"simple\"><path d=\"M416.08,92.77 C447.78,108.48 481.27,131.61 499.32,164 C509.27,181.86 510.51,192.89 499.32,210 C490.86,222.92 478.41,232.65 464.71,239.97 \" fill=\"none\" id=\"E5&lt;-E9\" style=\"stroke: #383838; stroke-width: 1.0;\"/><polygon fill=\"#FFFFFF\" points=\"404.06,87.11,407.7814,93.2867,414.9142,92.2272,411.1928,86.0505,404.06,87.11\" style=\"stroke: #383838; stroke-width: 1.0;\"/></a><!--MD5=[0eda15e9952d2021382cbc3c6eee1a19]\n",
       "@startuml\r\n",
       "top to bottom direction\r\n",
       "skinparam monochrome true\r\n",
       "skinparam classbackgroundcolor white\r\n",
       "skinparam shadowing false\r\n",
       "skinparam wrapWidth 300\r\n",
       "hide circle\r\n",
       "\r\n",
       "package \"TradeStudyTest\" as E1  [[psysml:656cfd98-5664-4901-a86b-535977508953 ]]  {\r\n",
       "comp def \"Engine\" as E2  <<(T,blue)part def>> [[psysml:66c87936-3609-4f97-8f24-8ad3882372ee ]] {\r\n",
       "}\r\n",
       "comp usage \"engine1: Engine\" as E3  <<(T,blue)part>> [[psysml:c974a942-078b-4d34-96c1-8ca70902d898 ]] {\r\n",
       "}\r\n",
       "comp usage \"engine2: Engine\" as E4  <<(T,blue)part>> [[psysml:f4d0ec5b-d124-41e4-9ba9-3cb67b695e7c ]] {\r\n",
       "}\r\n",
       "comp usage \"engineTradeStudy: TradeStudy\" as E5 <<analysis>> [[psysml:2fd52497-3b24-4a66-a5d3-d77cdf8b2acf ]] {\r\n",
       "}\r\n",
       "comp usage \"tradeStudyObjective: MaximizeObjective\" as E6  <<(T,blue)requirement>> [[psysml:2c27f52f-f536-4fc6-bf8d-fd6e3fd13c39 ]] {\r\n",
       "}\r\n",
       "comp usage \"objectiveFunction\" as E7  <<(T,blue)calculation>> [[psysml:7b858bf3-8f8c-4105-a0db-0d0783f29576 ]] {\r\n",
       "}\r\n",
       "comp usage \"alternative: Engine\" as E8  <<(T,blue)part>> [[psysml:b0f7840c-11d7-45e2-a5a4-bf208bef1113 ]] {\r\n",
       "}\r\n",
       "comp usage \"selectedAlternative: Engine\" as E9  <<(T,blue)part>> [[psysml:9d098c9e-1a7b-415f-a301-c2067e422f2c ]] {\r\n",
       "}\r\n",
       "E3 - -:|> E2 [[psysml:6d15a19a-180f-471d-b762-c393731ed9f0 ]] \r\n",
       "E4 - -:|> E2 [[psysml:247dd621-3d2a-4448-8896-ee4a55c37d47 ]] \r\n",
       "E5 ..> E2 [[psysml:21b7132a-f544-4487-a747-91d198ad447d ]] : <<subject>>\r\n",
       "E5 - ->> E6 [[psysml:44ec4945-cc63-4e9d-b8df-7b9a76da0bc7 ]] : <<objective>>\r\n",
       "E5 *- - E7 [[psysml:7b858bf3-8f8c-4105-a0db-0d0783f29576 ]] \r\n",
       "E8 - -:|> E2 [[psysml:2565caae-8b6e-420b-a56a-eab601fd4b55 ]] \r\n",
       "E7 o- - E8 [[psysml:b0f7840c-11d7-45e2-a5a4-bf208bef1113 ]] \r\n",
       "E9 - -:|> E2 [[psysml:a6aa3e55-56ca-44c6-92e8-1089eebb019a ]] \r\n",
       "E5 o- - E9 [[psysml:9d098c9e-1a7b-415f-a301-c2067e422f2c ]] \r\n",
       "}\r\n",
       "@enduml\r\n",
       "\n",
       "PlantUML version 1.2020.13(Sat Jun 13 12:26:38 UTC 2020)\n",
       "(EPL source distribution)\n",
       "Java Runtime: OpenJDK Runtime Environment\n",
       "JVM: OpenJDK 64-Bit Server VM\n",
       "Default Encoding: UTF-8\n",
       "Language: en\n",
       "Country: null\n",
       "--></g></svg>"
      ]
     },
     "execution_count": 45,
     "metadata": {},
     "output_type": "execute_result"
    }
   ],
   "source": [
    "%viz --style=\"TB\" --view=\"Tree\" \"TradeStudyTest\""
   ]
  },
  {
   "cell_type": "code",
   "execution_count": 46,
   "id": "durable-attendance",
   "metadata": {
    "execution": {
     "iopub.execute_input": "2021-03-25T13:19:24.470010Z",
     "iopub.status.busy": "2021-03-25T13:19:24.469611Z",
     "iopub.status.idle": "2021-03-25T13:19:24.474791Z",
     "shell.execute_reply": "2021-03-25T13:19:24.475222Z"
    }
   },
   "outputs": [
    {
     "data": {
      "image/svg+xml": [
       "<?xml version=\"1.0\" encoding=\"UTF-8\" standalone=\"no\"?><svg xmlns=\"http://www.w3.org/2000/svg\" xmlns:xlink=\"http://www.w3.org/1999/xlink\" contentScriptType=\"application/ecmascript\" contentStyleType=\"text/css\" height=\"12px\" preserveAspectRatio=\"none\" style=\"width:12px;height:12px;\" version=\"1.1\" viewBox=\"0 0 12 12\" width=\"12px\" zoomAndPan=\"magnify\"><defs/><g><!--MD5=[f4ee21bc66e489b5061b7c3e9601fdef]\n",
       "@startuml\r\n",
       "top to bottom direction\r\n",
       "skinparam monochrome true\r\n",
       "skinparam classbackgroundcolor white\r\n",
       "skinparam shadowing false\r\n",
       "skinparam wrapWidth 300\r\n",
       "hide circle\r\n",
       "\r\n",
       "@enduml\r\n",
       "\n",
       "PlantUML version 1.2020.13(Sat Jun 13 12:26:38 UTC 2020)\n",
       "(EPL source distribution)\n",
       "Java Runtime: OpenJDK Runtime Environment\n",
       "JVM: OpenJDK 64-Bit Server VM\n",
       "Default Encoding: UTF-8\n",
       "Language: en\n",
       "Country: null\n",
       "--></g></svg>"
      ]
     },
     "execution_count": 46,
     "metadata": {},
     "output_type": "execute_result"
    }
   ],
   "source": [
    "%viz --style=\"TB\" --view=\"State\" \"TradeStudyTest\""
   ]
  },
  {
   "cell_type": "code",
   "execution_count": 47,
   "id": "protected-opinion",
   "metadata": {
    "execution": {
     "iopub.execute_input": "2021-03-25T13:19:24.526991Z",
     "iopub.status.busy": "2021-03-25T13:19:24.526301Z",
     "iopub.status.idle": "2021-03-25T13:19:24.582493Z",
     "shell.execute_reply": "2021-03-25T13:19:24.582154Z"
    }
   },
   "outputs": [
    {
     "data": {
      "image/svg+xml": [
       "<?xml version=\"1.0\" encoding=\"UTF-8\" standalone=\"no\"?><svg xmlns=\"http://www.w3.org/2000/svg\" xmlns:xlink=\"http://www.w3.org/1999/xlink\" contentScriptType=\"application/ecmascript\" contentStyleType=\"text/css\" height=\"112px\" preserveAspectRatio=\"none\" style=\"width:438px;height:112px;\" version=\"1.1\" viewBox=\"0 0 438 112\" width=\"438px\" zoomAndPan=\"magnify\"><defs/><g><!--MD5=[fbc87193dbaf4d95561dea2c320d4a47]\n",
       "cluster E1--><a href=\"psysml:656cfd98-5664-4901-a86b-535977508953\" target=\"_top\" title=\"psysml:656cfd98-5664-4901-a86b-535977508953\" xlink:actuate=\"onRequest\" xlink:href=\"psysml:656cfd98-5664-4901-a86b-535977508953\" xlink:show=\"new\" xlink:title=\"psysml:656cfd98-5664-4901-a86b-535977508953\" xlink:type=\"simple\"><polygon fill=\"#FFFFFF\" points=\"16,6,148,6,155,28.2969,416,28.2969,416,100,16,100,16,6\" style=\"stroke: #000000; stroke-width: 1.5;\"/><line style=\"stroke: #000000; stroke-width: 1.5;\" x1=\"16\" x2=\"155\" y1=\"28.2969\" y2=\"28.2969\"/><text fill=\"#000000\" font-family=\"sans-serif\" font-size=\"14\" font-weight=\"bold\" lengthAdjust=\"spacingAndGlyphs\" textLength=\"126\" x=\"20\" y=\"20.9951\">TradeStudyTest</text></a><g id=\"E1.E2\"><a href=\"psysml:66c87936-3609-4f97-8f24-8ad3882372ee\" target=\"_top\" title=\"psysml:66c87936-3609-4f97-8f24-8ad3882372ee\" xlink:actuate=\"onRequest\" xlink:href=\"psysml:66c87936-3609-4f97-8f24-8ad3882372ee\" xlink:show=\"new\" xlink:title=\"psysml:66c87936-3609-4f97-8f24-8ad3882372ee\" xlink:type=\"simple\"><rect fill=\"#FFFFFF\" height=\"42.9375\" id=\"E2\" style=\"stroke: #383838; stroke-width: 1.5;\" width=\"71\" x=\"328.5\" y=\"41\"/><rect fill=\"#F8F8F8\" height=\"37.9375\" style=\"stroke: #383838; stroke-width: 1.5;\" width=\"71\" x=\"328.5\" y=\"41\"/><text fill=\"#000000\" font-family=\"sans-serif\" font-size=\"12\" font-style=\"italic\" lengthAdjust=\"spacingAndGlyphs\" textLength=\"64\" x=\"332\" y=\"57.1387\">«part def»</text><text fill=\"#000000\" font-family=\"sans-serif\" font-size=\"12\" lengthAdjust=\"spacingAndGlyphs\" textLength=\"43\" x=\"342.5\" y=\"71.1074\">Engine</text></a></g><g id=\"E1.E3\"><a href=\"psysml:c974a942-078b-4d34-96c1-8ca70902d898\" target=\"_top\" title=\"psysml:c974a942-078b-4d34-96c1-8ca70902d898\" xlink:actuate=\"onRequest\" xlink:href=\"psysml:c974a942-078b-4d34-96c1-8ca70902d898\" xlink:show=\"new\" xlink:title=\"psysml:c974a942-078b-4d34-96c1-8ca70902d898\" xlink:type=\"simple\"><rect fill=\"#FFFFFF\" height=\"40\" id=\"E3\" rx=\"10\" ry=\"10\" style=\"stroke: #383838; stroke-width: 1.5;\" width=\"113\" x=\"180.5\" y=\"42.5\"/><rect fill=\"#F8F8F8\" height=\"23.9688\" rx=\"10\" ry=\"10\" style=\"stroke: #F8F8F8; stroke-width: 1.5;\" width=\"113\" x=\"180.5\" y=\"42.5\"/><rect fill=\"#F8F8F8\" height=\"10\" style=\"stroke: #F8F8F8; stroke-width: 1.5;\" width=\"113\" x=\"180.5\" y=\"56.4688\"/><rect fill=\"none\" height=\"40\" id=\"E3\" rx=\"10\" ry=\"10\" style=\"stroke: #383838; stroke-width: 1.5;\" width=\"113\" x=\"180.5\" y=\"42.5\"/><text fill=\"#000000\" font-family=\"sans-serif\" font-size=\"12\" lengthAdjust=\"spacingAndGlyphs\" textLength=\"102\" x=\"186\" y=\"58.6387\">engine1: Engine</text></a></g><g id=\"E1.E4\"><a href=\"psysml:f4d0ec5b-d124-41e4-9ba9-3cb67b695e7c\" target=\"_top\" title=\"psysml:f4d0ec5b-d124-41e4-9ba9-3cb67b695e7c\" xlink:actuate=\"onRequest\" xlink:href=\"psysml:f4d0ec5b-d124-41e4-9ba9-3cb67b695e7c\" xlink:show=\"new\" xlink:title=\"psysml:f4d0ec5b-d124-41e4-9ba9-3cb67b695e7c\" xlink:type=\"simple\"><rect fill=\"#FFFFFF\" height=\"40\" id=\"E4\" rx=\"10\" ry=\"10\" style=\"stroke: #383838; stroke-width: 1.5;\" width=\"113\" x=\"32.5\" y=\"42.5\"/><rect fill=\"#F8F8F8\" height=\"23.9688\" rx=\"10\" ry=\"10\" style=\"stroke: #F8F8F8; stroke-width: 1.5;\" width=\"113\" x=\"32.5\" y=\"42.5\"/><rect fill=\"#F8F8F8\" height=\"10\" style=\"stroke: #F8F8F8; stroke-width: 1.5;\" width=\"113\" x=\"32.5\" y=\"56.4688\"/><rect fill=\"none\" height=\"40\" id=\"E4\" rx=\"10\" ry=\"10\" style=\"stroke: #383838; stroke-width: 1.5;\" width=\"113\" x=\"32.5\" y=\"42.5\"/><text fill=\"#000000\" font-family=\"sans-serif\" font-size=\"12\" lengthAdjust=\"spacingAndGlyphs\" textLength=\"102\" x=\"38\" y=\"58.6387\">engine2: Engine</text></a></g><!--MD5=[4b691f0eda8e4269a56cfeca77a1e5ff]\n",
       "@startuml\r\n",
       "skinparam ranksep 8\r\n",
       "skinparam rectangle {\r\n",
       " backgroundColor<<block>> LightGreen\r\n",
       "}\r\n",
       "top to bottom direction\r\n",
       "skinparam monochrome true\r\n",
       "skinparam classbackgroundcolor white\r\n",
       "skinparam shadowing false\r\n",
       "skinparam wrapWidth 300\r\n",
       "hide circle\r\n",
       "\r\n",
       "package \"TradeStudyTest\" as E1  [[psysml:656cfd98-5664-4901-a86b-535977508953 ]]  {\r\n",
       "rec def \"Engine\" as E2  <<(T,blue)part def>> [[psysml:66c87936-3609-4f97-8f24-8ad3882372ee ]] {\r\n",
       "}\r\n",
       "rec usage \"engine1: Engine\" as E3  [[psysml:c974a942-078b-4d34-96c1-8ca70902d898 ]] {\r\n",
       "}\r\n",
       "rec usage \"engine2: Engine\" as E4  [[psysml:f4d0ec5b-d124-41e4-9ba9-3cb67b695e7c ]] {\r\n",
       "}\r\n",
       "}\r\n",
       "@enduml\r\n",
       "\n",
       "PlantUML version 1.2020.13(Sat Jun 13 12:26:38 UTC 2020)\n",
       "(EPL source distribution)\n",
       "Java Runtime: OpenJDK Runtime Environment\n",
       "JVM: OpenJDK 64-Bit Server VM\n",
       "Default Encoding: UTF-8\n",
       "Language: en\n",
       "Country: null\n",
       "--></g></svg>"
      ]
     },
     "execution_count": 47,
     "metadata": {},
     "output_type": "execute_result"
    }
   ],
   "source": [
    "%viz --style=\"TB\" --view=\"Interconnection\" \"TradeStudyTest\""
   ]
  },
  {
   "cell_type": "code",
   "execution_count": 48,
   "id": "crude-endorsement",
   "metadata": {
    "execution": {
     "iopub.execute_input": "2021-03-25T13:19:24.629908Z",
     "iopub.status.busy": "2021-03-25T13:19:24.629391Z",
     "iopub.status.idle": "2021-03-25T13:19:24.711008Z",
     "shell.execute_reply": "2021-03-25T13:19:24.710664Z"
    }
   },
   "outputs": [
    {
     "data": {
      "image/svg+xml": [
       "<?xml version=\"1.0\" encoding=\"UTF-8\" standalone=\"no\"?><svg xmlns=\"http://www.w3.org/2000/svg\" xmlns:xlink=\"http://www.w3.org/1999/xlink\" contentScriptType=\"application/ecmascript\" contentStyleType=\"text/css\" height=\"128px\" preserveAspectRatio=\"none\" style=\"width:180px;height:128px;\" version=\"1.1\" viewBox=\"0 0 180 128\" width=\"180px\" zoomAndPan=\"magnify\"><defs/><g><!--MD5=[fbc87193dbaf4d95561dea2c320d4a47]\n",
       "cluster E1--><a href=\"psysml:2fd52497-3b24-4a66-a5d3-d77cdf8b2acf\" target=\"_top\" title=\"psysml:2fd52497-3b24-4a66-a5d3-d77cdf8b2acf\" xlink:actuate=\"onRequest\" xlink:href=\"psysml:2fd52497-3b24-4a66-a5d3-d77cdf8b2acf\" xlink:show=\"new\" xlink:title=\"psysml:2fd52497-3b24-4a66-a5d3-d77cdf8b2acf\" xlink:type=\"simple\"><rect fill=\"#FFFFFF\" height=\"110\" id=\"E1\" rx=\"10\" ry=\"10\" style=\"stroke: #383838; stroke-width: 1.5;\" width=\"161\" x=\"7\" y=\"7\"/><rect fill=\"#F8F8F8\" height=\"37.9375\" rx=\"10\" ry=\"10\" style=\"stroke: #F8F8F8; stroke-width: 1.5;\" width=\"161\" x=\"7\" y=\"7\"/><rect fill=\"#F8F8F8\" height=\"10\" style=\"stroke: #F8F8F8; stroke-width: 1.5;\" width=\"161\" x=\"7\" y=\"34.9375\"/><rect fill=\"none\" height=\"110\" id=\"E1\" rx=\"10\" ry=\"10\" style=\"stroke: #383838; stroke-width: 1.5;\" width=\"161\" x=\"7\" y=\"7\"/><text fill=\"#000000\" font-family=\"sans-serif\" font-size=\"12\" font-style=\"italic\" lengthAdjust=\"spacingAndGlyphs\" textLength=\"64\" x=\"55.5\" y=\"23.1387\">«analysis»</text><text fill=\"#000000\" font-family=\"sans-serif\" font-size=\"12\" lengthAdjust=\"spacingAndGlyphs\" textLength=\"114\" x=\"30.5\" y=\"37.1074\">engineTradeStudy</text><line style=\"stroke: #383838; stroke-width: 1.0;\" x1=\"7\" x2=\"168\" y1=\"44.9375\" y2=\"44.9375\"/></a><g id=\"E1.E2\"><a href=\"psysml:7b858bf3-8f8c-4105-a0db-0d0783f29576\" target=\"_top\" title=\"psysml:7b858bf3-8f8c-4105-a0db-0d0783f29576\" xlink:actuate=\"onRequest\" xlink:href=\"psysml:7b858bf3-8f8c-4105-a0db-0d0783f29576\" xlink:show=\"new\" xlink:title=\"psysml:7b858bf3-8f8c-4105-a0db-0d0783f29576\" xlink:type=\"simple\"><rect fill=\"#FFFFFF\" height=\"42.9375\" id=\"E2\" rx=\"10\" ry=\"10\" style=\"stroke: #383838; stroke-width: 1.5;\" width=\"121\" x=\"26.5\" y=\"58\"/><rect fill=\"#F8F8F8\" height=\"37.9375\" rx=\"10\" ry=\"10\" style=\"stroke: #F8F8F8; stroke-width: 1.5;\" width=\"121\" x=\"26.5\" y=\"58\"/><rect fill=\"#F8F8F8\" height=\"10\" style=\"stroke: #F8F8F8; stroke-width: 1.5;\" width=\"121\" x=\"26.5\" y=\"85.9375\"/><rect fill=\"none\" height=\"42.9375\" id=\"E2\" rx=\"10\" ry=\"10\" style=\"stroke: #383838; stroke-width: 1.5;\" width=\"121\" x=\"26.5\" y=\"58\"/><text fill=\"#000000\" font-family=\"sans-serif\" font-size=\"12\" font-style=\"italic\" lengthAdjust=\"spacingAndGlyphs\" textLength=\"82\" x=\"46\" y=\"74.1387\">«calculation»</text><text fill=\"#000000\" font-family=\"sans-serif\" font-size=\"12\" lengthAdjust=\"spacingAndGlyphs\" textLength=\"110\" x=\"32\" y=\"88.1074\">objectiveFunction</text></a></g><!--MD5=[796f515b5a8b31efed84b5ca6b6179c8]\n",
       "@startuml\r\n",
       "skinparam ranksep 8\r\n",
       "top to bottom direction\r\n",
       "skinparam monochrome true\r\n",
       "skinparam classbackgroundcolor white\r\n",
       "skinparam shadowing false\r\n",
       "skinparam wrapWidth 300\r\n",
       "hide circle\r\n",
       "\r\n",
       "rec usage \"engineTradeStudy\" as E1 <<analysis>> [[psysml:2fd52497-3b24-4a66-a5d3-d77cdf8b2acf ]] {\r\n",
       "rec usage \"objectiveFunction\" as E2  <<(T,blue)calculation>> [[psysml:7b858bf3-8f8c-4105-a0db-0d0783f29576 ]] {\r\n",
       "}\r\n",
       "\r\n",
       "}\r\n",
       "\r\n",
       "@enduml\r\n",
       "\n",
       "PlantUML version 1.2020.13(Sat Jun 13 12:26:38 UTC 2020)\n",
       "(EPL source distribution)\n",
       "Java Runtime: OpenJDK Runtime Environment\n",
       "JVM: OpenJDK 64-Bit Server VM\n",
       "Default Encoding: UTF-8\n",
       "Language: en\n",
       "Country: null\n",
       "--></g></svg>"
      ]
     },
     "execution_count": 48,
     "metadata": {},
     "output_type": "execute_result"
    }
   ],
   "source": [
    "%viz --style=\"TB\" --view=\"Action\" \"TradeStudyTest\""
   ]
  },
  {
   "cell_type": "code",
   "execution_count": 49,
   "id": "proper-waters",
   "metadata": {
    "execution": {
     "iopub.execute_input": "2021-03-25T13:19:24.761684Z",
     "iopub.status.busy": "2021-03-25T13:19:24.761179Z",
     "iopub.status.idle": "2021-03-25T13:19:24.909435Z",
     "shell.execute_reply": "2021-03-25T13:19:24.907936Z"
    }
   },
   "outputs": [
    {
     "data": {
      "image/svg+xml": [
       "<?xml version=\"1.0\" encoding=\"UTF-8\" standalone=\"no\"?><svg xmlns=\"http://www.w3.org/2000/svg\" xmlns:xlink=\"http://www.w3.org/1999/xlink\" contentScriptType=\"application/ecmascript\" contentStyleType=\"text/css\" height=\"497px\" preserveAspectRatio=\"none\" style=\"width:556px;height:497px;\" version=\"1.1\" viewBox=\"0 0 556 497\" width=\"556px\" zoomAndPan=\"magnify\"><defs/><g><!--MD5=[fbc87193dbaf4d95561dea2c320d4a47]\n",
       "cluster E1--><a href=\"psysml:656cfd98-5664-4901-a86b-535977508953\" target=\"_top\" title=\"psysml:656cfd98-5664-4901-a86b-535977508953\" xlink:actuate=\"onRequest\" xlink:href=\"psysml:656cfd98-5664-4901-a86b-535977508953\" xlink:show=\"new\" xlink:title=\"psysml:656cfd98-5664-4901-a86b-535977508953\" xlink:type=\"simple\"><polygon fill=\"#FFFFFF\" points=\"18.32,6,150.32,6,157.32,28.2969,534.32,28.2969,534.32,485,18.32,485,18.32,6\" style=\"stroke: #000000; stroke-width: 1.5;\"/><line style=\"stroke: #000000; stroke-width: 1.5;\" x1=\"18.32\" x2=\"157.32\" y1=\"28.2969\" y2=\"28.2969\"/><text fill=\"#000000\" font-family=\"sans-serif\" font-size=\"14\" font-weight=\"bold\" lengthAdjust=\"spacingAndGlyphs\" textLength=\"126\" x=\"22.32\" y=\"20.9951\">TradeStudyTest</text></a><!--MD5=[b4997ac47864f28c2f74865a473b2911]\n",
       "class E2--><a href=\"psysml:66c87936-3609-4f97-8f24-8ad3882372ee\" target=\"_top\" title=\"psysml:66c87936-3609-4f97-8f24-8ad3882372ee\" xlink:actuate=\"onRequest\" xlink:href=\"psysml:66c87936-3609-4f97-8f24-8ad3882372ee\" xlink:show=\"new\" xlink:title=\"psysml:66c87936-3609-4f97-8f24-8ad3882372ee\" xlink:type=\"simple\"><rect fill=\"#FFFFFF\" height=\"45.9375\" id=\"E2\" style=\"stroke: #383838; stroke-width: 1.5;\" width=\"66\" x=\"198.32\" y=\"423\"/><text fill=\"#000000\" font-family=\"sans-serif\" font-size=\"12\" font-style=\"italic\" lengthAdjust=\"spacingAndGlyphs\" textLength=\"64\" x=\"199.32\" y=\"439.1387\">«part def»</text><text fill=\"#000000\" font-family=\"sans-serif\" font-size=\"12\" lengthAdjust=\"spacingAndGlyphs\" textLength=\"43\" x=\"209.82\" y=\"453.1074\">Engine</text><line style=\"stroke: #383838; stroke-width: 1.5;\" x1=\"199.32\" x2=\"263.32\" y1=\"460.9375\" y2=\"460.9375\"/></a><!--MD5=[09b614a08d8cba4a07c9adeb5e0fee81]\n",
       "class E3--><a href=\"psysml:c974a942-078b-4d34-96c1-8ca70902d898\" target=\"_top\" title=\"psysml:c974a942-078b-4d34-96c1-8ca70902d898\" xlink:actuate=\"onRequest\" xlink:href=\"psysml:c974a942-078b-4d34-96c1-8ca70902d898\" xlink:show=\"new\" xlink:title=\"psysml:c974a942-078b-4d34-96c1-8ca70902d898\" xlink:type=\"simple\"><rect fill=\"#FFFFFF\" height=\"45.9375\" id=\"E3\" rx=\"10\" ry=\"10\" style=\"stroke: #383838; stroke-width: 1.5;\" width=\"108\" x=\"410.32\" y=\"316\"/><text fill=\"#000000\" font-family=\"sans-serif\" font-size=\"12\" font-style=\"italic\" lengthAdjust=\"spacingAndGlyphs\" textLength=\"40\" x=\"444.32\" y=\"332.1387\">«part»</text><text fill=\"#000000\" font-family=\"sans-serif\" font-size=\"12\" lengthAdjust=\"spacingAndGlyphs\" textLength=\"102\" x=\"413.32\" y=\"346.1074\">engine1: Engine</text><line style=\"stroke: #383838; stroke-width: 1.5;\" x1=\"411.32\" x2=\"517.32\" y1=\"353.9375\" y2=\"353.9375\"/></a><!--MD5=[ebbe1d658d1005bcc118a6aa81145e00]\n",
       "class E4--><a href=\"psysml:f4d0ec5b-d124-41e4-9ba9-3cb67b695e7c\" target=\"_top\" title=\"psysml:f4d0ec5b-d124-41e4-9ba9-3cb67b695e7c\" xlink:actuate=\"onRequest\" xlink:href=\"psysml:f4d0ec5b-d124-41e4-9ba9-3cb67b695e7c\" xlink:show=\"new\" xlink:title=\"psysml:f4d0ec5b-d124-41e4-9ba9-3cb67b695e7c\" xlink:type=\"simple\"><rect fill=\"#FFFFFF\" height=\"45.9375\" id=\"E4\" rx=\"10\" ry=\"10\" style=\"stroke: #383838; stroke-width: 1.5;\" width=\"108\" x=\"267.32\" y=\"316\"/><text fill=\"#000000\" font-family=\"sans-serif\" font-size=\"12\" font-style=\"italic\" lengthAdjust=\"spacingAndGlyphs\" textLength=\"40\" x=\"301.32\" y=\"332.1387\">«part»</text><text fill=\"#000000\" font-family=\"sans-serif\" font-size=\"12\" lengthAdjust=\"spacingAndGlyphs\" textLength=\"102\" x=\"270.32\" y=\"346.1074\">engine2: Engine</text><line style=\"stroke: #383838; stroke-width: 1.5;\" x1=\"268.32\" x2=\"374.32\" y1=\"353.9375\" y2=\"353.9375\"/></a><!--MD5=[270fce915f116d4de14055a7c1d9a0f3]\n",
       "class E5--><a href=\"psysml:2fd52497-3b24-4a66-a5d3-d77cdf8b2acf\" target=\"_top\" title=\"psysml:2fd52497-3b24-4a66-a5d3-d77cdf8b2acf\" xlink:actuate=\"onRequest\" xlink:href=\"psysml:2fd52497-3b24-4a66-a5d3-d77cdf8b2acf\" xlink:show=\"new\" xlink:title=\"psysml:2fd52497-3b24-4a66-a5d3-d77cdf8b2acf\" xlink:type=\"simple\"><rect fill=\"#FFFFFF\" height=\"45.9375\" id=\"E5\" rx=\"10\" ry=\"10\" style=\"stroke: #383838; stroke-width: 1.5;\" width=\"199\" x=\"239.82\" y=\"41\"/><text fill=\"#000000\" font-family=\"sans-serif\" font-size=\"12\" font-style=\"italic\" lengthAdjust=\"spacingAndGlyphs\" textLength=\"64\" x=\"307.32\" y=\"57.1387\">«analysis»</text><text fill=\"#000000\" font-family=\"sans-serif\" font-size=\"12\" lengthAdjust=\"spacingAndGlyphs\" textLength=\"193\" x=\"242.82\" y=\"71.1074\">engineTradeStudy: TradeStudy</text><line style=\"stroke: #383838; stroke-width: 1.5;\" x1=\"240.82\" x2=\"437.82\" y1=\"78.9375\" y2=\"78.9375\"/></a><!--MD5=[60a26617385b1d2d0262a64233df1f8d]\n",
       "class E6--><a href=\"psysml:2c27f52f-f536-4fc6-bf8d-fd6e3fd13c39\" target=\"_top\" title=\"psysml:2c27f52f-f536-4fc6-bf8d-fd6e3fd13c39\" xlink:actuate=\"onRequest\" xlink:href=\"psysml:2c27f52f-f536-4fc6-bf8d-fd6e3fd13c39\" xlink:show=\"new\" xlink:title=\"psysml:2c27f52f-f536-4fc6-bf8d-fd6e3fd13c39\" xlink:type=\"simple\"><rect fill=\"#FFFFFF\" height=\"45.9375\" id=\"E6\" rx=\"10\" ry=\"10\" style=\"stroke: #383838; stroke-width: 1.5;\" width=\"251\" x=\"78.82\" y=\"164\"/><text fill=\"#000000\" font-family=\"sans-serif\" font-size=\"12\" font-style=\"italic\" lengthAdjust=\"spacingAndGlyphs\" textLength=\"91\" x=\"158.82\" y=\"180.1387\">«requirement»</text><text fill=\"#000000\" font-family=\"sans-serif\" font-size=\"12\" lengthAdjust=\"spacingAndGlyphs\" textLength=\"245\" x=\"81.82\" y=\"194.1074\">tradeStudyObjective: MaximizeObjective</text><line style=\"stroke: #383838; stroke-width: 1.5;\" x1=\"79.82\" x2=\"328.82\" y1=\"201.9375\" y2=\"201.9375\"/></a><!--MD5=[2156ba9850f5573cc1fc38a6a4b2f02b]\n",
       "class E7--><a href=\"psysml:7b858bf3-8f8c-4105-a0db-0d0783f29576\" target=\"_top\" title=\"psysml:7b858bf3-8f8c-4105-a0db-0d0783f29576\" xlink:actuate=\"onRequest\" xlink:href=\"psysml:7b858bf3-8f8c-4105-a0db-0d0783f29576\" xlink:show=\"new\" xlink:title=\"psysml:7b858bf3-8f8c-4105-a0db-0d0783f29576\" xlink:type=\"simple\"><rect fill=\"#FFFFFF\" height=\"45.9375\" id=\"E7\" rx=\"10\" ry=\"10\" style=\"stroke: #383838; stroke-width: 1.5;\" width=\"116\" x=\"365.32\" y=\"164\"/><text fill=\"#000000\" font-family=\"sans-serif\" font-size=\"12\" font-style=\"italic\" lengthAdjust=\"spacingAndGlyphs\" textLength=\"82\" x=\"382.32\" y=\"180.1387\">«calculation»</text><text fill=\"#000000\" font-family=\"sans-serif\" font-size=\"12\" lengthAdjust=\"spacingAndGlyphs\" textLength=\"110\" x=\"368.32\" y=\"194.1074\">objectiveFunction</text><line style=\"stroke: #383838; stroke-width: 1.5;\" x1=\"366.32\" x2=\"480.32\" y1=\"201.9375\" y2=\"201.9375\"/></a><!--MD5=[b9389687b975829384b498ac4b7476b2]\n",
       "class E8--><a href=\"psysml:b0f7840c-11d7-45e2-a5a4-bf208bef1113\" target=\"_top\" title=\"psysml:b0f7840c-11d7-45e2-a5a4-bf208bef1113\" xlink:actuate=\"onRequest\" xlink:href=\"psysml:b0f7840c-11d7-45e2-a5a4-bf208bef1113\" xlink:show=\"new\" xlink:title=\"psysml:b0f7840c-11d7-45e2-a5a4-bf208bef1113\" xlink:type=\"simple\"><rect fill=\"#FFFFFF\" height=\"45.9375\" id=\"E8\" rx=\"10\" ry=\"10\" style=\"stroke: #383838; stroke-width: 1.5;\" width=\"124\" x=\"71.32\" y=\"316\"/><text fill=\"#000000\" font-family=\"sans-serif\" font-size=\"12\" font-style=\"italic\" lengthAdjust=\"spacingAndGlyphs\" textLength=\"40\" x=\"113.32\" y=\"332.1387\">«part»</text><text fill=\"#000000\" font-family=\"sans-serif\" font-size=\"12\" lengthAdjust=\"spacingAndGlyphs\" textLength=\"118\" x=\"74.32\" y=\"346.1074\">alternative: Engine</text><line style=\"stroke: #383838; stroke-width: 1.5;\" x1=\"72.32\" x2=\"194.32\" y1=\"353.9375\" y2=\"353.9375\"/></a><!--MD5=[fd4143e9d270a159db93a4ea2a975926]\n",
       "class E9--><a href=\"psysml:9d098c9e-1a7b-415f-a301-c2067e422f2c\" target=\"_top\" title=\"psysml:9d098c9e-1a7b-415f-a301-c2067e422f2c\" xlink:actuate=\"onRequest\" xlink:href=\"psysml:9d098c9e-1a7b-415f-a301-c2067e422f2c\" xlink:show=\"new\" xlink:title=\"psysml:9d098c9e-1a7b-415f-a301-c2067e422f2c\" xlink:type=\"simple\"><rect fill=\"#FFFFFF\" height=\"45.9375\" id=\"E9\" rx=\"10\" ry=\"10\" style=\"stroke: #383838; stroke-width: 1.5;\" width=\"178\" x=\"291.32\" y=\"240\"/><text fill=\"#000000\" font-family=\"sans-serif\" font-size=\"12\" font-style=\"italic\" lengthAdjust=\"spacingAndGlyphs\" textLength=\"40\" x=\"360.32\" y=\"256.1387\">«part»</text><text fill=\"#000000\" font-family=\"sans-serif\" font-size=\"12\" lengthAdjust=\"spacingAndGlyphs\" textLength=\"172\" x=\"294.32\" y=\"270.1074\">selectedAlternative: Engine</text><line style=\"stroke: #383838; stroke-width: 1.5;\" x1=\"292.32\" x2=\"468.32\" y1=\"277.9375\" y2=\"277.9375\"/></a><!--MD5=[05d275557350bfb9b23a4ef7222b4c39]\n",
       "link E3 to E2--><a href=\"psysml:6d15a19a-180f-471d-b762-c393731ed9f0\" target=\"_top\" title=\"psysml:6d15a19a-180f-471d-b762-c393731ed9f0\" xlink:actuate=\"onRequest\" xlink:href=\"psysml:6d15a19a-180f-471d-b762-c393731ed9f0\" xlink:show=\"new\" xlink:title=\"psysml:6d15a19a-180f-471d-b762-c393731ed9f0\" xlink:type=\"simple\"><path d=\"M415.48,362.01 C376.57,379.54 322.27,404.01 282.71,421.84 \" fill=\"none\" id=\"E3-&gt;E2\" style=\"stroke: #383838; stroke-width: 1.0;\"/><polygon fill=\"#FFFFFF\" points=\"264.34,430.12,278.7866,415.9321,284.5383,428.696,264.34,430.12\" style=\"stroke: #383838; stroke-width: 1.0;\"/><ellipse cx=\"284.805\" cy=\"415.4137\" fill=\"#383838\" rx=\"2\" ry=\"2\" style=\"stroke: #383838; stroke-width: 1.0;\"/><ellipse cx=\"288.9134\" cy=\"424.5308\" fill=\"#383838\" rx=\"2\" ry=\"2\" style=\"stroke: #383838; stroke-width: 1.0;\"/></a><!--MD5=[185131fc0dcab0a4505a2ebe144e961b]\n",
       "link E4 to E2--><a href=\"psysml:247dd621-3d2a-4448-8896-ee4a55c37d47\" target=\"_top\" title=\"psysml:247dd621-3d2a-4448-8896-ee4a55c37d47\" xlink:actuate=\"onRequest\" xlink:href=\"psysml:247dd621-3d2a-4448-8896-ee4a55c37d47\" xlink:show=\"new\" xlink:title=\"psysml:247dd621-3d2a-4448-8896-ee4a55c37d47\" xlink:type=\"simple\"><path d=\"M302.45,362.01 C291.25,375.08 276.74,392.01 263.74,407.17 \" fill=\"none\" id=\"E4-&gt;E2\" style=\"stroke: #383838; stroke-width: 1.0;\"/><polygon fill=\"#FFFFFF\" points=\"250.47,422.66,257.5188,403.678,268.1491,412.7883,250.47,422.66\" style=\"stroke: #383838; stroke-width: 1.0;\"/><ellipse cx=\"262.7466\" cy=\"400.6515\" fill=\"#383838\" rx=\"2\" ry=\"2\" style=\"stroke: #383838; stroke-width: 1.0;\"/><ellipse cx=\"270.3396\" cy=\"407.1588\" fill=\"#383838\" rx=\"2\" ry=\"2\" style=\"stroke: #383838; stroke-width: 1.0;\"/></a><!--MD5=[15ebcb19ae302d9b601edb458606d402]\n",
       "link E5 to E2--><a href=\"psysml:21b7132a-f544-4487-a747-91d198ad447d\" target=\"_top\" title=\"psysml:21b7132a-f544-4487-a747-91d198ad447d\" xlink:actuate=\"onRequest\" xlink:href=\"psysml:21b7132a-f544-4487-a747-91d198ad447d\" xlink:show=\"new\" xlink:title=\"psysml:21b7132a-f544-4487-a747-91d198ad447d\" xlink:type=\"simple\"><path d=\"M239.76,73.22 C177.99,83.96 102.74,108.45 61.32,164 C8.68,234.61 6,287.72 53.32,362 C83.95,410.08 150.5,430.76 192.99,439.32 \" fill=\"none\" id=\"E5-&gt;E2\" style=\"stroke: #383838; stroke-width: 1.0; stroke-dasharray: 7.0,7.0;\"/><polygon fill=\"#383838\" points=\"198.04,440.31,189.9738,434.6588,193.1327,439.3514,188.4401,442.5104,198.04,440.31\" style=\"stroke: #383838; stroke-width: 1.0;\"/><text fill=\"#000000\" font-family=\"sans-serif\" font-size=\"13\" lengthAdjust=\"spacingAndGlyphs\" textLength=\"62\" x=\"24.32\" y=\"267.5669\">«subject»</text></a><!--MD5=[9120cf2e5df3bff93db8f754bbbc09b4]\n",
       "link E5 to E6--><a href=\"psysml:44ec4945-cc63-4e9d-b8df-7b9a76da0bc7\" target=\"_top\" title=\"psysml:44ec4945-cc63-4e9d-b8df-7b9a76da0bc7\" xlink:actuate=\"onRequest\" xlink:href=\"psysml:44ec4945-cc63-4e9d-b8df-7b9a76da0bc7\" xlink:show=\"new\" xlink:title=\"psysml:44ec4945-cc63-4e9d-b8df-7b9a76da0bc7\" xlink:type=\"simple\"><path d=\"M314.56,87.19 C292.2,107.23 259.21,136.8 235.15,158.37 \" fill=\"none\" id=\"E5-&gt;E6\" style=\"stroke: #383838; stroke-width: 1.0;\"/><polygon fill=\"#383838\" points=\"228.92,163.95,236.8786,160.8419,232.8725,156.3752,228.92,163.95\" style=\"stroke: #383838; stroke-width: 1.0;\"/><text fill=\"#000000\" font-family=\"sans-serif\" font-size=\"13\" lengthAdjust=\"spacingAndGlyphs\" textLength=\"73\" x=\"280.32\" y=\"130.0669\">«objective»</text></a><!--MD5=[452b418e7f8a40397a49b8c0a78acc5b]\n",
       "reverse link E5 to E7--><a href=\"psysml:7b858bf3-8f8c-4105-a0db-0d0783f29576\" target=\"_top\" title=\"psysml:7b858bf3-8f8c-4105-a0db-0d0783f29576\" xlink:actuate=\"onRequest\" xlink:href=\"psysml:7b858bf3-8f8c-4105-a0db-0d0783f29576\" xlink:show=\"new\" xlink:title=\"psysml:7b858bf3-8f8c-4105-a0db-0d0783f29576\" xlink:type=\"simple\"><path d=\"M362.14,97.88 C376.71,118.86 395.19,145.48 408.01,163.95 \" fill=\"none\" id=\"E5&lt;-E7\" style=\"stroke: #383838; stroke-width: 1.0;\"/><polygon fill=\"#383838\" points=\"354.73,87.19,354.864,94.3999,361.5708,97.0492,361.4368,89.8393,354.73,87.19\" style=\"stroke: #383838; stroke-width: 1.0;\"/></a><!--MD5=[f1f3f9f2fc535e6147756cb86a7f2e32]\n",
       "link E8 to E2--><a href=\"psysml:2565caae-8b6e-420b-a56a-eab601fd4b55\" target=\"_top\" title=\"psysml:2565caae-8b6e-420b-a56a-eab601fd4b55\" xlink:actuate=\"onRequest\" xlink:href=\"psysml:2565caae-8b6e-420b-a56a-eab601fd4b55\" xlink:show=\"new\" xlink:title=\"psysml:2565caae-8b6e-420b-a56a-eab601fd4b55\" xlink:type=\"simple\"><path d=\"M153.86,362.01 C166.19,375.22 182.2,392.38 196.46,407.65 \" fill=\"none\" id=\"E8-&gt;E2\" style=\"stroke: #383838; stroke-width: 1.0;\"/><polygon fill=\"#FFFFFF\" points=\"210.47,422.66,192.3921,413.5393,202.6305,403.9907,210.47,422.66\" style=\"stroke: #383838; stroke-width: 1.0;\"/><ellipse cx=\"189.9671\" cy=\"408.0067\" fill=\"#383838\" rx=\"2\" ry=\"2\" style=\"stroke: #383838; stroke-width: 1.0;\"/><ellipse cx=\"197.2802\" cy=\"401.1863\" fill=\"#383838\" rx=\"2\" ry=\"2\" style=\"stroke: #383838; stroke-width: 1.0;\"/></a><!--MD5=[dc164f5e8a733ab456ef1add180e9e34]\n",
       "reverse link E7 to E8--><a href=\"psysml:b0f7840c-11d7-45e2-a5a4-bf208bef1113\" target=\"_top\" title=\"psysml:b0f7840c-11d7-45e2-a5a4-bf208bef1113\" xlink:actuate=\"onRequest\" xlink:href=\"psysml:b0f7840c-11d7-45e2-a5a4-bf208bef1113\" xlink:show=\"new\" xlink:title=\"psysml:b0f7840c-11d7-45e2-a5a4-bf208bef1113\" xlink:type=\"simple\"><path d=\"M352.67,208.29 C327.33,216.69 298.96,227.44 274.32,240 C231.96,261.6 187.65,294.33 160.26,315.93 \" fill=\"none\" id=\"E7&lt;-E8\" style=\"stroke: #383838; stroke-width: 1.0;\"/><polygon fill=\"#FFFFFF\" points=\"365.22,204.24,358.2818,202.2749,353.7994,207.9236,360.7376,209.8887,365.22,204.24\" style=\"stroke: #383838; stroke-width: 1.0;\"/></a><!--MD5=[5c3bb36fe832a92c7f0e1807dd65209d]\n",
       "link E9 to E2--><a href=\"psysml:a6aa3e55-56ca-44c6-92e8-1089eebb019a\" target=\"_top\" title=\"psysml:a6aa3e55-56ca-44c6-92e8-1089eebb019a\" xlink:actuate=\"onRequest\" xlink:href=\"psysml:a6aa3e55-56ca-44c6-92e8-1089eebb019a\" xlink:show=\"new\" xlink:title=\"psysml:a6aa3e55-56ca-44c6-92e8-1089eebb019a\" xlink:type=\"simple\"><path d=\"M291.19,285.15 C275.57,292.56 260.94,302.55 250.32,316 C231.17,340.25 227.04,375.32 227.36,402.77 \" fill=\"none\" id=\"E9-&gt;E2\" style=\"stroke: #383838; stroke-width: 1.0;\"/><polygon fill=\"#FFFFFF\" points=\"228.36,422.81,220.4186,404.1838,234.4011,403.4837,228.36,422.81\" style=\"stroke: #383838; stroke-width: 1.0;\"/><ellipse cx=\"222.131\" cy=\"398.3909\" fill=\"#383838\" rx=\"2\" ry=\"2\" style=\"stroke: #383838; stroke-width: 1.0;\"/><ellipse cx=\"232.1185\" cy=\"397.8909\" fill=\"#383838\" rx=\"2\" ry=\"2\" style=\"stroke: #383838; stroke-width: 1.0;\"/></a><!--MD5=[9ae28de373ca99bb8a1b38d63370ca7e]\n",
       "reverse link E5 to E9--><a href=\"psysml:9d098c9e-1a7b-415f-a301-c2067e422f2c\" target=\"_top\" title=\"psysml:9d098c9e-1a7b-415f-a301-c2067e422f2c\" xlink:actuate=\"onRequest\" xlink:href=\"psysml:9d098c9e-1a7b-415f-a301-c2067e422f2c\" xlink:show=\"new\" xlink:title=\"psysml:9d098c9e-1a7b-415f-a301-c2067e422f2c\" xlink:type=\"simple\"><path d=\"M416.08,92.77 C447.78,108.48 481.27,131.61 499.32,164 C509.27,181.86 510.51,192.89 499.32,210 C490.86,222.92 478.41,232.65 464.71,239.97 \" fill=\"none\" id=\"E5&lt;-E9\" style=\"stroke: #383838; stroke-width: 1.0;\"/><polygon fill=\"#FFFFFF\" points=\"404.06,87.11,407.7814,93.2867,414.9142,92.2272,411.1928,86.0505,404.06,87.11\" style=\"stroke: #383838; stroke-width: 1.0;\"/></a><!--MD5=[0eda15e9952d2021382cbc3c6eee1a19]\n",
       "@startuml\r\n",
       "top to bottom direction\r\n",
       "skinparam monochrome true\r\n",
       "skinparam classbackgroundcolor white\r\n",
       "skinparam shadowing false\r\n",
       "skinparam wrapWidth 300\r\n",
       "hide circle\r\n",
       "\r\n",
       "package \"TradeStudyTest\" as E1  [[psysml:656cfd98-5664-4901-a86b-535977508953 ]]  {\r\n",
       "comp def \"Engine\" as E2  <<(T,blue)part def>> [[psysml:66c87936-3609-4f97-8f24-8ad3882372ee ]] {\r\n",
       "}\r\n",
       "comp usage \"engine1: Engine\" as E3  <<(T,blue)part>> [[psysml:c974a942-078b-4d34-96c1-8ca70902d898 ]] {\r\n",
       "}\r\n",
       "comp usage \"engine2: Engine\" as E4  <<(T,blue)part>> [[psysml:f4d0ec5b-d124-41e4-9ba9-3cb67b695e7c ]] {\r\n",
       "}\r\n",
       "comp usage \"engineTradeStudy: TradeStudy\" as E5 <<analysis>> [[psysml:2fd52497-3b24-4a66-a5d3-d77cdf8b2acf ]] {\r\n",
       "}\r\n",
       "comp usage \"tradeStudyObjective: MaximizeObjective\" as E6  <<(T,blue)requirement>> [[psysml:2c27f52f-f536-4fc6-bf8d-fd6e3fd13c39 ]] {\r\n",
       "}\r\n",
       "comp usage \"objectiveFunction\" as E7  <<(T,blue)calculation>> [[psysml:7b858bf3-8f8c-4105-a0db-0d0783f29576 ]] {\r\n",
       "}\r\n",
       "comp usage \"alternative: Engine\" as E8  <<(T,blue)part>> [[psysml:b0f7840c-11d7-45e2-a5a4-bf208bef1113 ]] {\r\n",
       "}\r\n",
       "comp usage \"selectedAlternative: Engine\" as E9  <<(T,blue)part>> [[psysml:9d098c9e-1a7b-415f-a301-c2067e422f2c ]] {\r\n",
       "}\r\n",
       "E3 - -:|> E2 [[psysml:6d15a19a-180f-471d-b762-c393731ed9f0 ]] \r\n",
       "E4 - -:|> E2 [[psysml:247dd621-3d2a-4448-8896-ee4a55c37d47 ]] \r\n",
       "E5 ..> E2 [[psysml:21b7132a-f544-4487-a747-91d198ad447d ]] : <<subject>>\r\n",
       "E5 - ->> E6 [[psysml:44ec4945-cc63-4e9d-b8df-7b9a76da0bc7 ]] : <<objective>>\r\n",
       "E5 *- - E7 [[psysml:7b858bf3-8f8c-4105-a0db-0d0783f29576 ]] \r\n",
       "E8 - -:|> E2 [[psysml:2565caae-8b6e-420b-a56a-eab601fd4b55 ]] \r\n",
       "E7 o- - E8 [[psysml:b0f7840c-11d7-45e2-a5a4-bf208bef1113 ]] \r\n",
       "E9 - -:|> E2 [[psysml:a6aa3e55-56ca-44c6-92e8-1089eebb019a ]] \r\n",
       "E5 o- - E9 [[psysml:9d098c9e-1a7b-415f-a301-c2067e422f2c ]] \r\n",
       "}\r\n",
       "@enduml\r\n",
       "\n",
       "PlantUML version 1.2020.13(Sat Jun 13 12:26:38 UTC 2020)\n",
       "(EPL source distribution)\n",
       "Java Runtime: OpenJDK Runtime Environment\n",
       "JVM: OpenJDK 64-Bit Server VM\n",
       "Default Encoding: UTF-8\n",
       "Language: en\n",
       "Country: null\n",
       "--></g></svg>"
      ]
     },
     "execution_count": 49,
     "metadata": {},
     "output_type": "execute_result"
    }
   ],
   "source": [
    "%viz --style=\"TB\" --view=\"Sequence\" \"TradeStudyTest\""
   ]
  },
  {
   "cell_type": "code",
   "execution_count": 50,
   "id": "scientific-senegal",
   "metadata": {
    "execution": {
     "iopub.execute_input": "2021-03-25T13:19:24.959489Z",
     "iopub.status.busy": "2021-03-25T13:19:24.959001Z",
     "iopub.status.idle": "2021-03-25T13:19:25.109442Z",
     "shell.execute_reply": "2021-03-25T13:19:25.107897Z"
    }
   },
   "outputs": [
    {
     "data": {
      "image/svg+xml": [
       "<?xml version=\"1.0\" encoding=\"UTF-8\" standalone=\"no\"?><svg xmlns=\"http://www.w3.org/2000/svg\" xmlns:xlink=\"http://www.w3.org/1999/xlink\" contentScriptType=\"application/ecmascript\" contentStyleType=\"text/css\" height=\"497px\" preserveAspectRatio=\"none\" style=\"width:556px;height:497px;\" version=\"1.1\" viewBox=\"0 0 556 497\" width=\"556px\" zoomAndPan=\"magnify\"><defs/><g><!--MD5=[fbc87193dbaf4d95561dea2c320d4a47]\n",
       "cluster E1--><a href=\"psysml:656cfd98-5664-4901-a86b-535977508953\" target=\"_top\" title=\"psysml:656cfd98-5664-4901-a86b-535977508953\" xlink:actuate=\"onRequest\" xlink:href=\"psysml:656cfd98-5664-4901-a86b-535977508953\" xlink:show=\"new\" xlink:title=\"psysml:656cfd98-5664-4901-a86b-535977508953\" xlink:type=\"simple\"><polygon fill=\"#FFFFFF\" points=\"18.32,6,150.32,6,157.32,28.2969,534.32,28.2969,534.32,485,18.32,485,18.32,6\" style=\"stroke: #000000; stroke-width: 1.5;\"/><line style=\"stroke: #000000; stroke-width: 1.5;\" x1=\"18.32\" x2=\"157.32\" y1=\"28.2969\" y2=\"28.2969\"/><text fill=\"#000000\" font-family=\"sans-serif\" font-size=\"14\" font-weight=\"bold\" lengthAdjust=\"spacingAndGlyphs\" textLength=\"126\" x=\"22.32\" y=\"20.9951\">TradeStudyTest</text></a><!--MD5=[b4997ac47864f28c2f74865a473b2911]\n",
       "class E2--><a href=\"psysml:66c87936-3609-4f97-8f24-8ad3882372ee\" target=\"_top\" title=\"psysml:66c87936-3609-4f97-8f24-8ad3882372ee\" xlink:actuate=\"onRequest\" xlink:href=\"psysml:66c87936-3609-4f97-8f24-8ad3882372ee\" xlink:show=\"new\" xlink:title=\"psysml:66c87936-3609-4f97-8f24-8ad3882372ee\" xlink:type=\"simple\"><rect fill=\"#FFFFFF\" height=\"45.9375\" id=\"E2\" style=\"stroke: #383838; stroke-width: 1.5;\" width=\"66\" x=\"198.32\" y=\"423\"/><text fill=\"#000000\" font-family=\"sans-serif\" font-size=\"12\" font-style=\"italic\" lengthAdjust=\"spacingAndGlyphs\" textLength=\"64\" x=\"199.32\" y=\"439.1387\">«part def»</text><text fill=\"#000000\" font-family=\"sans-serif\" font-size=\"12\" lengthAdjust=\"spacingAndGlyphs\" textLength=\"43\" x=\"209.82\" y=\"453.1074\">Engine</text><line style=\"stroke: #383838; stroke-width: 1.5;\" x1=\"199.32\" x2=\"263.32\" y1=\"460.9375\" y2=\"460.9375\"/></a><!--MD5=[09b614a08d8cba4a07c9adeb5e0fee81]\n",
       "class E3--><a href=\"psysml:c974a942-078b-4d34-96c1-8ca70902d898\" target=\"_top\" title=\"psysml:c974a942-078b-4d34-96c1-8ca70902d898\" xlink:actuate=\"onRequest\" xlink:href=\"psysml:c974a942-078b-4d34-96c1-8ca70902d898\" xlink:show=\"new\" xlink:title=\"psysml:c974a942-078b-4d34-96c1-8ca70902d898\" xlink:type=\"simple\"><rect fill=\"#FFFFFF\" height=\"45.9375\" id=\"E3\" rx=\"10\" ry=\"10\" style=\"stroke: #383838; stroke-width: 1.5;\" width=\"108\" x=\"410.32\" y=\"316\"/><text fill=\"#000000\" font-family=\"sans-serif\" font-size=\"12\" font-style=\"italic\" lengthAdjust=\"spacingAndGlyphs\" textLength=\"40\" x=\"444.32\" y=\"332.1387\">«part»</text><text fill=\"#000000\" font-family=\"sans-serif\" font-size=\"12\" lengthAdjust=\"spacingAndGlyphs\" textLength=\"102\" x=\"413.32\" y=\"346.1074\">engine1: Engine</text><line style=\"stroke: #383838; stroke-width: 1.5;\" x1=\"411.32\" x2=\"517.32\" y1=\"353.9375\" y2=\"353.9375\"/></a><!--MD5=[ebbe1d658d1005bcc118a6aa81145e00]\n",
       "class E4--><a href=\"psysml:f4d0ec5b-d124-41e4-9ba9-3cb67b695e7c\" target=\"_top\" title=\"psysml:f4d0ec5b-d124-41e4-9ba9-3cb67b695e7c\" xlink:actuate=\"onRequest\" xlink:href=\"psysml:f4d0ec5b-d124-41e4-9ba9-3cb67b695e7c\" xlink:show=\"new\" xlink:title=\"psysml:f4d0ec5b-d124-41e4-9ba9-3cb67b695e7c\" xlink:type=\"simple\"><rect fill=\"#FFFFFF\" height=\"45.9375\" id=\"E4\" rx=\"10\" ry=\"10\" style=\"stroke: #383838; stroke-width: 1.5;\" width=\"108\" x=\"267.32\" y=\"316\"/><text fill=\"#000000\" font-family=\"sans-serif\" font-size=\"12\" font-style=\"italic\" lengthAdjust=\"spacingAndGlyphs\" textLength=\"40\" x=\"301.32\" y=\"332.1387\">«part»</text><text fill=\"#000000\" font-family=\"sans-serif\" font-size=\"12\" lengthAdjust=\"spacingAndGlyphs\" textLength=\"102\" x=\"270.32\" y=\"346.1074\">engine2: Engine</text><line style=\"stroke: #383838; stroke-width: 1.5;\" x1=\"268.32\" x2=\"374.32\" y1=\"353.9375\" y2=\"353.9375\"/></a><!--MD5=[270fce915f116d4de14055a7c1d9a0f3]\n",
       "class E5--><a href=\"psysml:2fd52497-3b24-4a66-a5d3-d77cdf8b2acf\" target=\"_top\" title=\"psysml:2fd52497-3b24-4a66-a5d3-d77cdf8b2acf\" xlink:actuate=\"onRequest\" xlink:href=\"psysml:2fd52497-3b24-4a66-a5d3-d77cdf8b2acf\" xlink:show=\"new\" xlink:title=\"psysml:2fd52497-3b24-4a66-a5d3-d77cdf8b2acf\" xlink:type=\"simple\"><rect fill=\"#FFFFFF\" height=\"45.9375\" id=\"E5\" rx=\"10\" ry=\"10\" style=\"stroke: #383838; stroke-width: 1.5;\" width=\"199\" x=\"239.82\" y=\"41\"/><text fill=\"#000000\" font-family=\"sans-serif\" font-size=\"12\" font-style=\"italic\" lengthAdjust=\"spacingAndGlyphs\" textLength=\"64\" x=\"307.32\" y=\"57.1387\">«analysis»</text><text fill=\"#000000\" font-family=\"sans-serif\" font-size=\"12\" lengthAdjust=\"spacingAndGlyphs\" textLength=\"193\" x=\"242.82\" y=\"71.1074\">engineTradeStudy: TradeStudy</text><line style=\"stroke: #383838; stroke-width: 1.5;\" x1=\"240.82\" x2=\"437.82\" y1=\"78.9375\" y2=\"78.9375\"/></a><!--MD5=[60a26617385b1d2d0262a64233df1f8d]\n",
       "class E6--><a href=\"psysml:2c27f52f-f536-4fc6-bf8d-fd6e3fd13c39\" target=\"_top\" title=\"psysml:2c27f52f-f536-4fc6-bf8d-fd6e3fd13c39\" xlink:actuate=\"onRequest\" xlink:href=\"psysml:2c27f52f-f536-4fc6-bf8d-fd6e3fd13c39\" xlink:show=\"new\" xlink:title=\"psysml:2c27f52f-f536-4fc6-bf8d-fd6e3fd13c39\" xlink:type=\"simple\"><rect fill=\"#FFFFFF\" height=\"45.9375\" id=\"E6\" rx=\"10\" ry=\"10\" style=\"stroke: #383838; stroke-width: 1.5;\" width=\"251\" x=\"78.82\" y=\"164\"/><text fill=\"#000000\" font-family=\"sans-serif\" font-size=\"12\" font-style=\"italic\" lengthAdjust=\"spacingAndGlyphs\" textLength=\"91\" x=\"158.82\" y=\"180.1387\">«requirement»</text><text fill=\"#000000\" font-family=\"sans-serif\" font-size=\"12\" lengthAdjust=\"spacingAndGlyphs\" textLength=\"245\" x=\"81.82\" y=\"194.1074\">tradeStudyObjective: MaximizeObjective</text><line style=\"stroke: #383838; stroke-width: 1.5;\" x1=\"79.82\" x2=\"328.82\" y1=\"201.9375\" y2=\"201.9375\"/></a><!--MD5=[2156ba9850f5573cc1fc38a6a4b2f02b]\n",
       "class E7--><a href=\"psysml:7b858bf3-8f8c-4105-a0db-0d0783f29576\" target=\"_top\" title=\"psysml:7b858bf3-8f8c-4105-a0db-0d0783f29576\" xlink:actuate=\"onRequest\" xlink:href=\"psysml:7b858bf3-8f8c-4105-a0db-0d0783f29576\" xlink:show=\"new\" xlink:title=\"psysml:7b858bf3-8f8c-4105-a0db-0d0783f29576\" xlink:type=\"simple\"><rect fill=\"#FFFFFF\" height=\"45.9375\" id=\"E7\" rx=\"10\" ry=\"10\" style=\"stroke: #383838; stroke-width: 1.5;\" width=\"116\" x=\"365.32\" y=\"164\"/><text fill=\"#000000\" font-family=\"sans-serif\" font-size=\"12\" font-style=\"italic\" lengthAdjust=\"spacingAndGlyphs\" textLength=\"82\" x=\"382.32\" y=\"180.1387\">«calculation»</text><text fill=\"#000000\" font-family=\"sans-serif\" font-size=\"12\" lengthAdjust=\"spacingAndGlyphs\" textLength=\"110\" x=\"368.32\" y=\"194.1074\">objectiveFunction</text><line style=\"stroke: #383838; stroke-width: 1.5;\" x1=\"366.32\" x2=\"480.32\" y1=\"201.9375\" y2=\"201.9375\"/></a><!--MD5=[b9389687b975829384b498ac4b7476b2]\n",
       "class E8--><a href=\"psysml:b0f7840c-11d7-45e2-a5a4-bf208bef1113\" target=\"_top\" title=\"psysml:b0f7840c-11d7-45e2-a5a4-bf208bef1113\" xlink:actuate=\"onRequest\" xlink:href=\"psysml:b0f7840c-11d7-45e2-a5a4-bf208bef1113\" xlink:show=\"new\" xlink:title=\"psysml:b0f7840c-11d7-45e2-a5a4-bf208bef1113\" xlink:type=\"simple\"><rect fill=\"#FFFFFF\" height=\"45.9375\" id=\"E8\" rx=\"10\" ry=\"10\" style=\"stroke: #383838; stroke-width: 1.5;\" width=\"124\" x=\"71.32\" y=\"316\"/><text fill=\"#000000\" font-family=\"sans-serif\" font-size=\"12\" font-style=\"italic\" lengthAdjust=\"spacingAndGlyphs\" textLength=\"40\" x=\"113.32\" y=\"332.1387\">«part»</text><text fill=\"#000000\" font-family=\"sans-serif\" font-size=\"12\" lengthAdjust=\"spacingAndGlyphs\" textLength=\"118\" x=\"74.32\" y=\"346.1074\">alternative: Engine</text><line style=\"stroke: #383838; stroke-width: 1.5;\" x1=\"72.32\" x2=\"194.32\" y1=\"353.9375\" y2=\"353.9375\"/></a><!--MD5=[fd4143e9d270a159db93a4ea2a975926]\n",
       "class E9--><a href=\"psysml:9d098c9e-1a7b-415f-a301-c2067e422f2c\" target=\"_top\" title=\"psysml:9d098c9e-1a7b-415f-a301-c2067e422f2c\" xlink:actuate=\"onRequest\" xlink:href=\"psysml:9d098c9e-1a7b-415f-a301-c2067e422f2c\" xlink:show=\"new\" xlink:title=\"psysml:9d098c9e-1a7b-415f-a301-c2067e422f2c\" xlink:type=\"simple\"><rect fill=\"#FFFFFF\" height=\"45.9375\" id=\"E9\" rx=\"10\" ry=\"10\" style=\"stroke: #383838; stroke-width: 1.5;\" width=\"178\" x=\"291.32\" y=\"240\"/><text fill=\"#000000\" font-family=\"sans-serif\" font-size=\"12\" font-style=\"italic\" lengthAdjust=\"spacingAndGlyphs\" textLength=\"40\" x=\"360.32\" y=\"256.1387\">«part»</text><text fill=\"#000000\" font-family=\"sans-serif\" font-size=\"12\" lengthAdjust=\"spacingAndGlyphs\" textLength=\"172\" x=\"294.32\" y=\"270.1074\">selectedAlternative: Engine</text><line style=\"stroke: #383838; stroke-width: 1.5;\" x1=\"292.32\" x2=\"468.32\" y1=\"277.9375\" y2=\"277.9375\"/></a><!--MD5=[05d275557350bfb9b23a4ef7222b4c39]\n",
       "link E3 to E2--><a href=\"psysml:6d15a19a-180f-471d-b762-c393731ed9f0\" target=\"_top\" title=\"psysml:6d15a19a-180f-471d-b762-c393731ed9f0\" xlink:actuate=\"onRequest\" xlink:href=\"psysml:6d15a19a-180f-471d-b762-c393731ed9f0\" xlink:show=\"new\" xlink:title=\"psysml:6d15a19a-180f-471d-b762-c393731ed9f0\" xlink:type=\"simple\"><path d=\"M415.48,362.01 C376.57,379.54 322.27,404.01 282.71,421.84 \" fill=\"none\" id=\"E3-&gt;E2\" style=\"stroke: #383838; stroke-width: 1.0;\"/><polygon fill=\"#FFFFFF\" points=\"264.34,430.12,278.7866,415.9321,284.5383,428.696,264.34,430.12\" style=\"stroke: #383838; stroke-width: 1.0;\"/><ellipse cx=\"284.805\" cy=\"415.4137\" fill=\"#383838\" rx=\"2\" ry=\"2\" style=\"stroke: #383838; stroke-width: 1.0;\"/><ellipse cx=\"288.9134\" cy=\"424.5308\" fill=\"#383838\" rx=\"2\" ry=\"2\" style=\"stroke: #383838; stroke-width: 1.0;\"/></a><!--MD5=[185131fc0dcab0a4505a2ebe144e961b]\n",
       "link E4 to E2--><a href=\"psysml:247dd621-3d2a-4448-8896-ee4a55c37d47\" target=\"_top\" title=\"psysml:247dd621-3d2a-4448-8896-ee4a55c37d47\" xlink:actuate=\"onRequest\" xlink:href=\"psysml:247dd621-3d2a-4448-8896-ee4a55c37d47\" xlink:show=\"new\" xlink:title=\"psysml:247dd621-3d2a-4448-8896-ee4a55c37d47\" xlink:type=\"simple\"><path d=\"M302.45,362.01 C291.25,375.08 276.74,392.01 263.74,407.17 \" fill=\"none\" id=\"E4-&gt;E2\" style=\"stroke: #383838; stroke-width: 1.0;\"/><polygon fill=\"#FFFFFF\" points=\"250.47,422.66,257.5188,403.678,268.1491,412.7883,250.47,422.66\" style=\"stroke: #383838; stroke-width: 1.0;\"/><ellipse cx=\"262.7466\" cy=\"400.6515\" fill=\"#383838\" rx=\"2\" ry=\"2\" style=\"stroke: #383838; stroke-width: 1.0;\"/><ellipse cx=\"270.3396\" cy=\"407.1588\" fill=\"#383838\" rx=\"2\" ry=\"2\" style=\"stroke: #383838; stroke-width: 1.0;\"/></a><!--MD5=[15ebcb19ae302d9b601edb458606d402]\n",
       "link E5 to E2--><a href=\"psysml:21b7132a-f544-4487-a747-91d198ad447d\" target=\"_top\" title=\"psysml:21b7132a-f544-4487-a747-91d198ad447d\" xlink:actuate=\"onRequest\" xlink:href=\"psysml:21b7132a-f544-4487-a747-91d198ad447d\" xlink:show=\"new\" xlink:title=\"psysml:21b7132a-f544-4487-a747-91d198ad447d\" xlink:type=\"simple\"><path d=\"M239.76,73.22 C177.99,83.96 102.74,108.45 61.32,164 C8.68,234.61 6,287.72 53.32,362 C83.95,410.08 150.5,430.76 192.99,439.32 \" fill=\"none\" id=\"E5-&gt;E2\" style=\"stroke: #383838; stroke-width: 1.0; stroke-dasharray: 7.0,7.0;\"/><polygon fill=\"#383838\" points=\"198.04,440.31,189.9738,434.6588,193.1327,439.3514,188.4401,442.5104,198.04,440.31\" style=\"stroke: #383838; stroke-width: 1.0;\"/><text fill=\"#000000\" font-family=\"sans-serif\" font-size=\"13\" lengthAdjust=\"spacingAndGlyphs\" textLength=\"62\" x=\"24.32\" y=\"267.5669\">«subject»</text></a><!--MD5=[9120cf2e5df3bff93db8f754bbbc09b4]\n",
       "link E5 to E6--><a href=\"psysml:44ec4945-cc63-4e9d-b8df-7b9a76da0bc7\" target=\"_top\" title=\"psysml:44ec4945-cc63-4e9d-b8df-7b9a76da0bc7\" xlink:actuate=\"onRequest\" xlink:href=\"psysml:44ec4945-cc63-4e9d-b8df-7b9a76da0bc7\" xlink:show=\"new\" xlink:title=\"psysml:44ec4945-cc63-4e9d-b8df-7b9a76da0bc7\" xlink:type=\"simple\"><path d=\"M314.56,87.19 C292.2,107.23 259.21,136.8 235.15,158.37 \" fill=\"none\" id=\"E5-&gt;E6\" style=\"stroke: #383838; stroke-width: 1.0;\"/><polygon fill=\"#383838\" points=\"228.92,163.95,236.8786,160.8419,232.8725,156.3752,228.92,163.95\" style=\"stroke: #383838; stroke-width: 1.0;\"/><text fill=\"#000000\" font-family=\"sans-serif\" font-size=\"13\" lengthAdjust=\"spacingAndGlyphs\" textLength=\"73\" x=\"280.32\" y=\"130.0669\">«objective»</text></a><!--MD5=[452b418e7f8a40397a49b8c0a78acc5b]\n",
       "reverse link E5 to E7--><a href=\"psysml:7b858bf3-8f8c-4105-a0db-0d0783f29576\" target=\"_top\" title=\"psysml:7b858bf3-8f8c-4105-a0db-0d0783f29576\" xlink:actuate=\"onRequest\" xlink:href=\"psysml:7b858bf3-8f8c-4105-a0db-0d0783f29576\" xlink:show=\"new\" xlink:title=\"psysml:7b858bf3-8f8c-4105-a0db-0d0783f29576\" xlink:type=\"simple\"><path d=\"M362.14,97.88 C376.71,118.86 395.19,145.48 408.01,163.95 \" fill=\"none\" id=\"E5&lt;-E7\" style=\"stroke: #383838; stroke-width: 1.0;\"/><polygon fill=\"#383838\" points=\"354.73,87.19,354.864,94.3999,361.5708,97.0492,361.4368,89.8393,354.73,87.19\" style=\"stroke: #383838; stroke-width: 1.0;\"/></a><!--MD5=[f1f3f9f2fc535e6147756cb86a7f2e32]\n",
       "link E8 to E2--><a href=\"psysml:2565caae-8b6e-420b-a56a-eab601fd4b55\" target=\"_top\" title=\"psysml:2565caae-8b6e-420b-a56a-eab601fd4b55\" xlink:actuate=\"onRequest\" xlink:href=\"psysml:2565caae-8b6e-420b-a56a-eab601fd4b55\" xlink:show=\"new\" xlink:title=\"psysml:2565caae-8b6e-420b-a56a-eab601fd4b55\" xlink:type=\"simple\"><path d=\"M153.86,362.01 C166.19,375.22 182.2,392.38 196.46,407.65 \" fill=\"none\" id=\"E8-&gt;E2\" style=\"stroke: #383838; stroke-width: 1.0;\"/><polygon fill=\"#FFFFFF\" points=\"210.47,422.66,192.3921,413.5393,202.6305,403.9907,210.47,422.66\" style=\"stroke: #383838; stroke-width: 1.0;\"/><ellipse cx=\"189.9671\" cy=\"408.0067\" fill=\"#383838\" rx=\"2\" ry=\"2\" style=\"stroke: #383838; stroke-width: 1.0;\"/><ellipse cx=\"197.2802\" cy=\"401.1863\" fill=\"#383838\" rx=\"2\" ry=\"2\" style=\"stroke: #383838; stroke-width: 1.0;\"/></a><!--MD5=[dc164f5e8a733ab456ef1add180e9e34]\n",
       "reverse link E7 to E8--><a href=\"psysml:b0f7840c-11d7-45e2-a5a4-bf208bef1113\" target=\"_top\" title=\"psysml:b0f7840c-11d7-45e2-a5a4-bf208bef1113\" xlink:actuate=\"onRequest\" xlink:href=\"psysml:b0f7840c-11d7-45e2-a5a4-bf208bef1113\" xlink:show=\"new\" xlink:title=\"psysml:b0f7840c-11d7-45e2-a5a4-bf208bef1113\" xlink:type=\"simple\"><path d=\"M352.67,208.29 C327.33,216.69 298.96,227.44 274.32,240 C231.96,261.6 187.65,294.33 160.26,315.93 \" fill=\"none\" id=\"E7&lt;-E8\" style=\"stroke: #383838; stroke-width: 1.0;\"/><polygon fill=\"#FFFFFF\" points=\"365.22,204.24,358.2818,202.2749,353.7994,207.9236,360.7376,209.8887,365.22,204.24\" style=\"stroke: #383838; stroke-width: 1.0;\"/></a><!--MD5=[5c3bb36fe832a92c7f0e1807dd65209d]\n",
       "link E9 to E2--><a href=\"psysml:a6aa3e55-56ca-44c6-92e8-1089eebb019a\" target=\"_top\" title=\"psysml:a6aa3e55-56ca-44c6-92e8-1089eebb019a\" xlink:actuate=\"onRequest\" xlink:href=\"psysml:a6aa3e55-56ca-44c6-92e8-1089eebb019a\" xlink:show=\"new\" xlink:title=\"psysml:a6aa3e55-56ca-44c6-92e8-1089eebb019a\" xlink:type=\"simple\"><path d=\"M291.19,285.15 C275.57,292.56 260.94,302.55 250.32,316 C231.17,340.25 227.04,375.32 227.36,402.77 \" fill=\"none\" id=\"E9-&gt;E2\" style=\"stroke: #383838; stroke-width: 1.0;\"/><polygon fill=\"#FFFFFF\" points=\"228.36,422.81,220.4186,404.1838,234.4011,403.4837,228.36,422.81\" style=\"stroke: #383838; stroke-width: 1.0;\"/><ellipse cx=\"222.131\" cy=\"398.3909\" fill=\"#383838\" rx=\"2\" ry=\"2\" style=\"stroke: #383838; stroke-width: 1.0;\"/><ellipse cx=\"232.1185\" cy=\"397.8909\" fill=\"#383838\" rx=\"2\" ry=\"2\" style=\"stroke: #383838; stroke-width: 1.0;\"/></a><!--MD5=[9ae28de373ca99bb8a1b38d63370ca7e]\n",
       "reverse link E5 to E9--><a href=\"psysml:9d098c9e-1a7b-415f-a301-c2067e422f2c\" target=\"_top\" title=\"psysml:9d098c9e-1a7b-415f-a301-c2067e422f2c\" xlink:actuate=\"onRequest\" xlink:href=\"psysml:9d098c9e-1a7b-415f-a301-c2067e422f2c\" xlink:show=\"new\" xlink:title=\"psysml:9d098c9e-1a7b-415f-a301-c2067e422f2c\" xlink:type=\"simple\"><path d=\"M416.08,92.77 C447.78,108.48 481.27,131.61 499.32,164 C509.27,181.86 510.51,192.89 499.32,210 C490.86,222.92 478.41,232.65 464.71,239.97 \" fill=\"none\" id=\"E5&lt;-E9\" style=\"stroke: #383838; stroke-width: 1.0;\"/><polygon fill=\"#FFFFFF\" points=\"404.06,87.11,407.7814,93.2867,414.9142,92.2272,411.1928,86.0505,404.06,87.11\" style=\"stroke: #383838; stroke-width: 1.0;\"/></a><!--MD5=[0eda15e9952d2021382cbc3c6eee1a19]\n",
       "@startuml\r\n",
       "top to bottom direction\r\n",
       "skinparam monochrome true\r\n",
       "skinparam classbackgroundcolor white\r\n",
       "skinparam shadowing false\r\n",
       "skinparam wrapWidth 300\r\n",
       "hide circle\r\n",
       "\r\n",
       "package \"TradeStudyTest\" as E1  [[psysml:656cfd98-5664-4901-a86b-535977508953 ]]  {\r\n",
       "comp def \"Engine\" as E2  <<(T,blue)part def>> [[psysml:66c87936-3609-4f97-8f24-8ad3882372ee ]] {\r\n",
       "}\r\n",
       "comp usage \"engine1: Engine\" as E3  <<(T,blue)part>> [[psysml:c974a942-078b-4d34-96c1-8ca70902d898 ]] {\r\n",
       "}\r\n",
       "comp usage \"engine2: Engine\" as E4  <<(T,blue)part>> [[psysml:f4d0ec5b-d124-41e4-9ba9-3cb67b695e7c ]] {\r\n",
       "}\r\n",
       "comp usage \"engineTradeStudy: TradeStudy\" as E5 <<analysis>> [[psysml:2fd52497-3b24-4a66-a5d3-d77cdf8b2acf ]] {\r\n",
       "}\r\n",
       "comp usage \"tradeStudyObjective: MaximizeObjective\" as E6  <<(T,blue)requirement>> [[psysml:2c27f52f-f536-4fc6-bf8d-fd6e3fd13c39 ]] {\r\n",
       "}\r\n",
       "comp usage \"objectiveFunction\" as E7  <<(T,blue)calculation>> [[psysml:7b858bf3-8f8c-4105-a0db-0d0783f29576 ]] {\r\n",
       "}\r\n",
       "comp usage \"alternative: Engine\" as E8  <<(T,blue)part>> [[psysml:b0f7840c-11d7-45e2-a5a4-bf208bef1113 ]] {\r\n",
       "}\r\n",
       "comp usage \"selectedAlternative: Engine\" as E9  <<(T,blue)part>> [[psysml:9d098c9e-1a7b-415f-a301-c2067e422f2c ]] {\r\n",
       "}\r\n",
       "E3 - -:|> E2 [[psysml:6d15a19a-180f-471d-b762-c393731ed9f0 ]] \r\n",
       "E4 - -:|> E2 [[psysml:247dd621-3d2a-4448-8896-ee4a55c37d47 ]] \r\n",
       "E5 ..> E2 [[psysml:21b7132a-f544-4487-a747-91d198ad447d ]] : <<subject>>\r\n",
       "E5 - ->> E6 [[psysml:44ec4945-cc63-4e9d-b8df-7b9a76da0bc7 ]] : <<objective>>\r\n",
       "E5 *- - E7 [[psysml:7b858bf3-8f8c-4105-a0db-0d0783f29576 ]] \r\n",
       "E8 - -:|> E2 [[psysml:2565caae-8b6e-420b-a56a-eab601fd4b55 ]] \r\n",
       "E7 o- - E8 [[psysml:b0f7840c-11d7-45e2-a5a4-bf208bef1113 ]] \r\n",
       "E9 - -:|> E2 [[psysml:a6aa3e55-56ca-44c6-92e8-1089eebb019a ]] \r\n",
       "E5 o- - E9 [[psysml:9d098c9e-1a7b-415f-a301-c2067e422f2c ]] \r\n",
       "}\r\n",
       "@enduml\r\n",
       "\n",
       "PlantUML version 1.2020.13(Sat Jun 13 12:26:38 UTC 2020)\n",
       "(EPL source distribution)\n",
       "Java Runtime: OpenJDK Runtime Environment\n",
       "JVM: OpenJDK 64-Bit Server VM\n",
       "Default Encoding: UTF-8\n",
       "Language: en\n",
       "Country: null\n",
       "--></g></svg>"
      ]
     },
     "execution_count": 50,
     "metadata": {},
     "output_type": "execute_result"
    }
   ],
   "source": [
    "%viz --style=\"TB\" --view=\"MIXED\" \"TradeStudyTest\""
   ]
  },
  {
   "cell_type": "code",
   "execution_count": 51,
   "id": "modified-marking",
   "metadata": {
    "execution": {
     "iopub.execute_input": "2021-03-25T13:19:25.156516Z",
     "iopub.status.busy": "2021-03-25T13:19:25.156032Z",
     "iopub.status.idle": "2021-03-25T13:19:25.307630Z",
     "shell.execute_reply": "2021-03-25T13:19:25.306170Z"
    }
   },
   "outputs": [
    {
     "data": {
      "image/svg+xml": [
       "<?xml version=\"1.0\" encoding=\"UTF-8\" standalone=\"no\"?><svg xmlns=\"http://www.w3.org/2000/svg\" xmlns:xlink=\"http://www.w3.org/1999/xlink\" contentScriptType=\"application/ecmascript\" contentStyleType=\"text/css\" height=\"497px\" preserveAspectRatio=\"none\" style=\"width:554px;height:497px;\" version=\"1.1\" viewBox=\"0 0 554 497\" width=\"554px\" zoomAndPan=\"magnify\"><defs/><g><!--MD5=[fbc87193dbaf4d95561dea2c320d4a47]\n",
       "cluster E1--><a href=\"psysml:656cfd98-5664-4901-a86b-535977508953\" target=\"_top\" title=\"psysml:656cfd98-5664-4901-a86b-535977508953\" xlink:actuate=\"onRequest\" xlink:href=\"psysml:656cfd98-5664-4901-a86b-535977508953\" xlink:show=\"new\" xlink:title=\"psysml:656cfd98-5664-4901-a86b-535977508953\" xlink:type=\"simple\"><polygon fill=\"#FFFFFF\" points=\"16,6,148,6,155,28.2969,532,28.2969,532,485,16,485,16,6\" style=\"stroke: #000000; stroke-width: 1.5;\"/><line style=\"stroke: #000000; stroke-width: 1.5;\" x1=\"16\" x2=\"155\" y1=\"28.2969\" y2=\"28.2969\"/><text fill=\"#000000\" font-family=\"sans-serif\" font-size=\"14\" font-weight=\"bold\" lengthAdjust=\"spacingAndGlyphs\" textLength=\"126\" x=\"20\" y=\"20.9951\">TradeStudyTest</text></a><!--MD5=[b4997ac47864f28c2f74865a473b2911]\n",
       "class E2--><a href=\"psysml:66c87936-3609-4f97-8f24-8ad3882372ee\" target=\"_top\" title=\"psysml:66c87936-3609-4f97-8f24-8ad3882372ee\" xlink:actuate=\"onRequest\" xlink:href=\"psysml:66c87936-3609-4f97-8f24-8ad3882372ee\" xlink:show=\"new\" xlink:title=\"psysml:66c87936-3609-4f97-8f24-8ad3882372ee\" xlink:type=\"simple\"><rect fill=\"#FFFFFF\" height=\"45.9375\" id=\"E2\" style=\"stroke: #383838; stroke-width: 1.5;\" width=\"66\" x=\"196\" y=\"423\"/><text fill=\"#000000\" font-family=\"sans-serif\" font-size=\"12\" font-style=\"italic\" lengthAdjust=\"spacingAndGlyphs\" textLength=\"64\" x=\"197\" y=\"439.1387\">«part def»</text><text fill=\"#000000\" font-family=\"sans-serif\" font-size=\"12\" lengthAdjust=\"spacingAndGlyphs\" textLength=\"43\" x=\"207.5\" y=\"453.1074\">Engine</text><line style=\"stroke: #383838; stroke-width: 1.5;\" x1=\"197\" x2=\"261\" y1=\"460.9375\" y2=\"460.9375\"/></a><!--MD5=[09b614a08d8cba4a07c9adeb5e0fee81]\n",
       "class E3--><a href=\"psysml:c974a942-078b-4d34-96c1-8ca70902d898\" target=\"_top\" title=\"psysml:c974a942-078b-4d34-96c1-8ca70902d898\" xlink:actuate=\"onRequest\" xlink:href=\"psysml:c974a942-078b-4d34-96c1-8ca70902d898\" xlink:show=\"new\" xlink:title=\"psysml:c974a942-078b-4d34-96c1-8ca70902d898\" xlink:type=\"simple\"><rect fill=\"#FFFFFF\" height=\"45.9375\" id=\"E3\" rx=\"10\" ry=\"10\" style=\"stroke: #383838; stroke-width: 1.5;\" width=\"108\" x=\"408\" y=\"316\"/><text fill=\"#000000\" font-family=\"sans-serif\" font-size=\"12\" font-style=\"italic\" lengthAdjust=\"spacingAndGlyphs\" textLength=\"40\" x=\"442\" y=\"332.1387\">«part»</text><text fill=\"#000000\" font-family=\"sans-serif\" font-size=\"12\" lengthAdjust=\"spacingAndGlyphs\" textLength=\"102\" x=\"411\" y=\"346.1074\">engine1: Engine</text><line style=\"stroke: #383838; stroke-width: 1.5;\" x1=\"409\" x2=\"515\" y1=\"353.9375\" y2=\"353.9375\"/></a><!--MD5=[ebbe1d658d1005bcc118a6aa81145e00]\n",
       "class E4--><a href=\"psysml:f4d0ec5b-d124-41e4-9ba9-3cb67b695e7c\" target=\"_top\" title=\"psysml:f4d0ec5b-d124-41e4-9ba9-3cb67b695e7c\" xlink:actuate=\"onRequest\" xlink:href=\"psysml:f4d0ec5b-d124-41e4-9ba9-3cb67b695e7c\" xlink:show=\"new\" xlink:title=\"psysml:f4d0ec5b-d124-41e4-9ba9-3cb67b695e7c\" xlink:type=\"simple\"><rect fill=\"#FFFFFF\" height=\"45.9375\" id=\"E4\" rx=\"10\" ry=\"10\" style=\"stroke: #383838; stroke-width: 1.5;\" width=\"108\" x=\"265\" y=\"316\"/><text fill=\"#000000\" font-family=\"sans-serif\" font-size=\"12\" font-style=\"italic\" lengthAdjust=\"spacingAndGlyphs\" textLength=\"40\" x=\"299\" y=\"332.1387\">«part»</text><text fill=\"#000000\" font-family=\"sans-serif\" font-size=\"12\" lengthAdjust=\"spacingAndGlyphs\" textLength=\"102\" x=\"268\" y=\"346.1074\">engine2: Engine</text><line style=\"stroke: #383838; stroke-width: 1.5;\" x1=\"266\" x2=\"372\" y1=\"353.9375\" y2=\"353.9375\"/></a><!--MD5=[270fce915f116d4de14055a7c1d9a0f3]\n",
       "class E5--><a href=\"psysml:2fd52497-3b24-4a66-a5d3-d77cdf8b2acf\" target=\"_top\" title=\"psysml:2fd52497-3b24-4a66-a5d3-d77cdf8b2acf\" xlink:actuate=\"onRequest\" xlink:href=\"psysml:2fd52497-3b24-4a66-a5d3-d77cdf8b2acf\" xlink:show=\"new\" xlink:title=\"psysml:2fd52497-3b24-4a66-a5d3-d77cdf8b2acf\" xlink:type=\"simple\"><rect fill=\"#FFFFFF\" height=\"45.9375\" id=\"E5\" rx=\"10\" ry=\"10\" style=\"stroke: #383838; stroke-width: 1.5;\" width=\"199\" x=\"237.5\" y=\"41\"/><text fill=\"#000000\" font-family=\"sans-serif\" font-size=\"12\" font-style=\"italic\" lengthAdjust=\"spacingAndGlyphs\" textLength=\"64\" x=\"305\" y=\"57.1387\">«analysis»</text><text fill=\"#000000\" font-family=\"sans-serif\" font-size=\"12\" lengthAdjust=\"spacingAndGlyphs\" textLength=\"193\" x=\"240.5\" y=\"71.1074\">engineTradeStudy: TradeStudy</text><line style=\"stroke: #383838; stroke-width: 1.5;\" x1=\"238.5\" x2=\"435.5\" y1=\"78.9375\" y2=\"78.9375\"/></a><!--MD5=[60a26617385b1d2d0262a64233df1f8d]\n",
       "class E6--><a href=\"psysml:2c27f52f-f536-4fc6-bf8d-fd6e3fd13c39\" target=\"_top\" title=\"psysml:2c27f52f-f536-4fc6-bf8d-fd6e3fd13c39\" xlink:actuate=\"onRequest\" xlink:href=\"psysml:2c27f52f-f536-4fc6-bf8d-fd6e3fd13c39\" xlink:show=\"new\" xlink:title=\"psysml:2c27f52f-f536-4fc6-bf8d-fd6e3fd13c39\" xlink:type=\"simple\"><rect fill=\"#FFFFFF\" height=\"45.9375\" id=\"E6\" rx=\"10\" ry=\"10\" style=\"stroke: #383838; stroke-width: 1.5;\" width=\"251\" x=\"76.5\" y=\"164\"/><text fill=\"#000000\" font-family=\"sans-serif\" font-size=\"12\" font-style=\"italic\" lengthAdjust=\"spacingAndGlyphs\" textLength=\"91\" x=\"156.5\" y=\"180.1387\">«requirement»</text><text fill=\"#000000\" font-family=\"sans-serif\" font-size=\"12\" lengthAdjust=\"spacingAndGlyphs\" textLength=\"245\" x=\"79.5\" y=\"194.1074\">tradeStudyObjective: MaximizeObjective</text><line style=\"stroke: #383838; stroke-width: 1.5;\" x1=\"77.5\" x2=\"326.5\" y1=\"201.9375\" y2=\"201.9375\"/></a><!--MD5=[2156ba9850f5573cc1fc38a6a4b2f02b]\n",
       "class E7--><a href=\"psysml:7b858bf3-8f8c-4105-a0db-0d0783f29576\" target=\"_top\" title=\"psysml:7b858bf3-8f8c-4105-a0db-0d0783f29576\" xlink:actuate=\"onRequest\" xlink:href=\"psysml:7b858bf3-8f8c-4105-a0db-0d0783f29576\" xlink:show=\"new\" xlink:title=\"psysml:7b858bf3-8f8c-4105-a0db-0d0783f29576\" xlink:type=\"simple\"><rect fill=\"#FFFFFF\" height=\"45.9375\" id=\"E7\" rx=\"10\" ry=\"10\" style=\"stroke: #383838; stroke-width: 1.5;\" width=\"116\" x=\"363\" y=\"164\"/><text fill=\"#000000\" font-family=\"sans-serif\" font-size=\"12\" font-style=\"italic\" lengthAdjust=\"spacingAndGlyphs\" textLength=\"82\" x=\"380\" y=\"180.1387\">«calculation»</text><text fill=\"#000000\" font-family=\"sans-serif\" font-size=\"12\" lengthAdjust=\"spacingAndGlyphs\" textLength=\"110\" x=\"366\" y=\"194.1074\">objectiveFunction</text><line style=\"stroke: #383838; stroke-width: 1.5;\" x1=\"364\" x2=\"478\" y1=\"201.9375\" y2=\"201.9375\"/></a><!--MD5=[b9389687b975829384b498ac4b7476b2]\n",
       "class E8--><a href=\"psysml:b0f7840c-11d7-45e2-a5a4-bf208bef1113\" target=\"_top\" title=\"psysml:b0f7840c-11d7-45e2-a5a4-bf208bef1113\" xlink:actuate=\"onRequest\" xlink:href=\"psysml:b0f7840c-11d7-45e2-a5a4-bf208bef1113\" xlink:show=\"new\" xlink:title=\"psysml:b0f7840c-11d7-45e2-a5a4-bf208bef1113\" xlink:type=\"simple\"><rect fill=\"#FFFFFF\" height=\"45.9375\" id=\"E8\" rx=\"10\" ry=\"10\" style=\"stroke: #383838; stroke-width: 1.5;\" width=\"124\" x=\"69\" y=\"316\"/><text fill=\"#000000\" font-family=\"sans-serif\" font-size=\"12\" font-style=\"italic\" lengthAdjust=\"spacingAndGlyphs\" textLength=\"40\" x=\"111\" y=\"332.1387\">«part»</text><text fill=\"#000000\" font-family=\"sans-serif\" font-size=\"12\" lengthAdjust=\"spacingAndGlyphs\" textLength=\"118\" x=\"72\" y=\"346.1074\">alternative: Engine</text><line style=\"stroke: #383838; stroke-width: 1.5;\" x1=\"70\" x2=\"192\" y1=\"353.9375\" y2=\"353.9375\"/></a><!--MD5=[fd4143e9d270a159db93a4ea2a975926]\n",
       "class E9--><a href=\"psysml:9d098c9e-1a7b-415f-a301-c2067e422f2c\" target=\"_top\" title=\"psysml:9d098c9e-1a7b-415f-a301-c2067e422f2c\" xlink:actuate=\"onRequest\" xlink:href=\"psysml:9d098c9e-1a7b-415f-a301-c2067e422f2c\" xlink:show=\"new\" xlink:title=\"psysml:9d098c9e-1a7b-415f-a301-c2067e422f2c\" xlink:type=\"simple\"><rect fill=\"#FFFFFF\" height=\"45.9375\" id=\"E9\" rx=\"10\" ry=\"10\" style=\"stroke: #383838; stroke-width: 1.5;\" width=\"178\" x=\"289\" y=\"240\"/><text fill=\"#000000\" font-family=\"sans-serif\" font-size=\"12\" font-style=\"italic\" lengthAdjust=\"spacingAndGlyphs\" textLength=\"40\" x=\"358\" y=\"256.1387\">«part»</text><text fill=\"#000000\" font-family=\"sans-serif\" font-size=\"12\" lengthAdjust=\"spacingAndGlyphs\" textLength=\"172\" x=\"292\" y=\"270.1074\">selectedAlternative: Engine</text><line style=\"stroke: #383838; stroke-width: 1.5;\" x1=\"290\" x2=\"466\" y1=\"277.9375\" y2=\"277.9375\"/></a><!--MD5=[05d275557350bfb9b23a4ef7222b4c39]\n",
       "link E3 to E2--><a href=\"psysml:6d15a19a-180f-471d-b762-c393731ed9f0\" target=\"_top\" title=\"psysml:6d15a19a-180f-471d-b762-c393731ed9f0\" xlink:actuate=\"onRequest\" xlink:href=\"psysml:6d15a19a-180f-471d-b762-c393731ed9f0\" xlink:show=\"new\" xlink:title=\"psysml:6d15a19a-180f-471d-b762-c393731ed9f0\" xlink:type=\"simple\"><path d=\"M462,362.22 C462,393.69 462,446 462,446 C462,446 282.38,446 282.38,446 \" fill=\"none\" id=\"E3-&gt;E2\" style=\"stroke: #383838; stroke-width: 1.0;\"/><polygon fill=\"#FFFFFF\" points=\"262.38,446,281.38,439,281.38,453,262.38,446\" style=\"stroke: #383838; stroke-width: 1.0;\"/><ellipse cx=\"287.08\" cy=\"441\" fill=\"#383838\" rx=\"2\" ry=\"2\" style=\"stroke: #383838; stroke-width: 1.0;\"/><ellipse cx=\"287.08\" cy=\"451\" fill=\"#383838\" rx=\"2\" ry=\"2\" style=\"stroke: #383838; stroke-width: 1.0;\"/></a><!--MD5=[185131fc0dcab0a4505a2ebe144e961b]\n",
       "link E4 to E2--><a href=\"psysml:247dd621-3d2a-4448-8896-ee4a55c37d47\" target=\"_top\" title=\"psysml:247dd621-3d2a-4448-8896-ee4a55c37d47\" xlink:actuate=\"onRequest\" xlink:href=\"psysml:247dd621-3d2a-4448-8896-ee4a55c37d47\" xlink:show=\"new\" xlink:title=\"psysml:247dd621-3d2a-4448-8896-ee4a55c37d47\" xlink:type=\"simple\"><path d=\"M264.73,347 C255.49,347 248.8,347 248.8,347 C248.8,347 248.8,402.79 248.8,402.79 \" fill=\"none\" id=\"E4-&gt;E2\" style=\"stroke: #383838; stroke-width: 1.0;\"/><polygon fill=\"#FFFFFF\" points=\"248.8,422.79,241.8,403.79,255.8,403.79,248.8,422.79\" style=\"stroke: #383838; stroke-width: 1.0;\"/><ellipse cx=\"243.8\" cy=\"398.09\" fill=\"#383838\" rx=\"2\" ry=\"2\" style=\"stroke: #383838; stroke-width: 1.0;\"/><ellipse cx=\"253.8\" cy=\"398.09\" fill=\"#383838\" rx=\"2\" ry=\"2\" style=\"stroke: #383838; stroke-width: 1.0;\"/></a><!--MD5=[15ebcb19ae302d9b601edb458606d402]\n",
       "link E5 to E2--><a href=\"psysml:21b7132a-f544-4487-a747-91d198ad447d\" target=\"_top\" title=\"psysml:21b7132a-f544-4487-a747-91d198ad447d\" xlink:actuate=\"onRequest\" xlink:href=\"psysml:21b7132a-f544-4487-a747-91d198ad447d\" xlink:show=\"new\" xlink:title=\"psysml:21b7132a-f544-4487-a747-91d198ad447d\" xlink:type=\"simple\"><path d=\"M339.33,87.02 C339.33,130.41 339.33,220 339.33,220 C339.33,220 222.4,220 222.4,220 C222.4,220 222.4,417.67 222.4,417.67 \" fill=\"none\" id=\"E5-&gt;E2\" style=\"stroke: #383838; stroke-width: 1.0; stroke-dasharray: 7.0,7.0;\"/><polygon fill=\"#383838\" points=\"222.4,422.67,226.4,413.67,222.4,417.67,218.4,413.67,222.4,422.67\" style=\"stroke: #383838; stroke-width: 1.0;\"/><text fill=\"#000000\" font-family=\"sans-serif\" font-size=\"13\" lengthAdjust=\"spacingAndGlyphs\" textLength=\"62\" x=\"68\" y=\"267.5669\">«subject»</text></a><!--MD5=[9120cf2e5df3bff93db8f754bbbc09b4]\n",
       "link E5 to E6--><a href=\"psysml:44ec4945-cc63-4e9d-b8df-7b9a76da0bc7\" target=\"_top\" title=\"psysml:44ec4945-cc63-4e9d-b8df-7b9a76da0bc7\" xlink:actuate=\"onRequest\" xlink:href=\"psysml:44ec4945-cc63-4e9d-b8df-7b9a76da0bc7\" xlink:show=\"new\" xlink:title=\"psysml:44ec4945-cc63-4e9d-b8df-7b9a76da0bc7\" xlink:type=\"simple\"><path d=\"M282.5,87.14 C282.5,87.14 282.5,155.97 282.5,155.97 \" fill=\"none\" id=\"E5-&gt;E6\" style=\"stroke: #383838; stroke-width: 1.0;\"/><polygon fill=\"#383838\" points=\"282.5,163.97,285.5,155.97,279.5,155.97,282.5,163.97\" style=\"stroke: #383838; stroke-width: 1.0;\"/><text fill=\"#000000\" font-family=\"sans-serif\" font-size=\"13\" lengthAdjust=\"spacingAndGlyphs\" textLength=\"73\" x=\"231\" y=\"130.0669\">«objective»</text></a><!--MD5=[452b418e7f8a40397a49b8c0a78acc5b]\n",
       "reverse link E5 to E7--><a href=\"psysml:7b858bf3-8f8c-4105-a0db-0d0783f29576\" target=\"_top\" title=\"psysml:7b858bf3-8f8c-4105-a0db-0d0783f29576\" xlink:actuate=\"onRequest\" xlink:href=\"psysml:7b858bf3-8f8c-4105-a0db-0d0783f29576\" xlink:show=\"new\" xlink:title=\"psysml:7b858bf3-8f8c-4105-a0db-0d0783f29576\" xlink:type=\"simple\"><path d=\"M399.75,100.14 C399.75,100.14 399.75,163.97 399.75,163.97 \" fill=\"none\" id=\"E5&lt;-E7\" style=\"stroke: #383838; stroke-width: 1.0;\"/><polygon fill=\"#383838\" points=\"399.75,87.14,395.75,93.14,399.75,99.14,403.75,93.14,399.75,87.14\" style=\"stroke: #383838; stroke-width: 1.0;\"/></a><!--MD5=[f1f3f9f2fc535e6147756cb86a7f2e32]\n",
       "link E8 to E2--><a href=\"psysml:2565caae-8b6e-420b-a56a-eab601fd4b55\" target=\"_top\" title=\"psysml:2565caae-8b6e-420b-a56a-eab601fd4b55\" xlink:actuate=\"onRequest\" xlink:href=\"psysml:2565caae-8b6e-420b-a56a-eab601fd4b55\" xlink:show=\"new\" xlink:title=\"psysml:2565caae-8b6e-420b-a56a-eab601fd4b55\" xlink:type=\"simple\"><path d=\"M193.38,332 C202.67,332 209.2,332 209.2,332 C209.2,332 209.2,402.93 209.2,402.93 \" fill=\"none\" id=\"E8-&gt;E2\" style=\"stroke: #383838; stroke-width: 1.0;\"/><polygon fill=\"#FFFFFF\" points=\"209.2,422.93,202.2,403.93,216.2,403.93,209.2,422.93\" style=\"stroke: #383838; stroke-width: 1.0;\"/><ellipse cx=\"204.2\" cy=\"398.23\" fill=\"#383838\" rx=\"2\" ry=\"2\" style=\"stroke: #383838; stroke-width: 1.0;\"/><ellipse cx=\"214.2\" cy=\"398.23\" fill=\"#383838\" rx=\"2\" ry=\"2\" style=\"stroke: #383838; stroke-width: 1.0;\"/></a><!--MD5=[dc164f5e8a733ab456ef1add180e9e34]\n",
       "reverse link E7 to E8--><a href=\"psysml:b0f7840c-11d7-45e2-a5a4-bf208bef1113\" target=\"_top\" title=\"psysml:b0f7840c-11d7-45e2-a5a4-bf208bef1113\" xlink:actuate=\"onRequest\" xlink:href=\"psysml:b0f7840c-11d7-45e2-a5a4-bf208bef1113\" xlink:show=\"new\" xlink:title=\"psysml:b0f7840c-11d7-45e2-a5a4-bf208bef1113\" xlink:type=\"simple\"><path d=\"M415,223.01 C415,223.01 415,230 415,230 C415,230 134.75,230 134.75,230 C134.75,230 134.75,283.89 134.75,315.88 \" fill=\"none\" id=\"E7&lt;-E8\" style=\"stroke: #383838; stroke-width: 1.0;\"/><polygon fill=\"#FFFFFF\" points=\"415,210.01,411,216.01,415,222.01,419,216.01,415,210.01\" style=\"stroke: #383838; stroke-width: 1.0;\"/></a><!--MD5=[5c3bb36fe832a92c7f0e1807dd65209d]\n",
       "link E9 to E2--><a href=\"psysml:a6aa3e55-56ca-44c6-92e8-1089eebb019a\" target=\"_top\" title=\"psysml:a6aa3e55-56ca-44c6-92e8-1089eebb019a\" xlink:actuate=\"onRequest\" xlink:href=\"psysml:a6aa3e55-56ca-44c6-92e8-1089eebb019a\" xlink:show=\"new\" xlink:title=\"psysml:a6aa3e55-56ca-44c6-92e8-1089eebb019a\" xlink:type=\"simple\"><path d=\"M288.62,263 C260.01,263 235.6,263 235.6,263 C235.6,263 235.6,402.82 235.6,402.82 \" fill=\"none\" id=\"E9-&gt;E2\" style=\"stroke: #383838; stroke-width: 1.0;\"/><polygon fill=\"#FFFFFF\" points=\"235.6,422.82,228.6,403.82,242.6,403.82,235.6,422.82\" style=\"stroke: #383838; stroke-width: 1.0;\"/><ellipse cx=\"230.6\" cy=\"398.12\" fill=\"#383838\" rx=\"2\" ry=\"2\" style=\"stroke: #383838; stroke-width: 1.0;\"/><ellipse cx=\"240.6\" cy=\"398.12\" fill=\"#383838\" rx=\"2\" ry=\"2\" style=\"stroke: #383838; stroke-width: 1.0;\"/></a><!--MD5=[9ae28de373ca99bb8a1b38d63370ca7e]\n",
       "reverse link E5 to E9--><a href=\"psysml:9d098c9e-1a7b-415f-a301-c2067e422f2c\" target=\"_top\" title=\"psysml:9d098c9e-1a7b-415f-a301-c2067e422f2c\" xlink:actuate=\"onRequest\" xlink:href=\"psysml:9d098c9e-1a7b-415f-a301-c2067e422f2c\" xlink:show=\"new\" xlink:title=\"psysml:9d098c9e-1a7b-415f-a301-c2067e422f2c\" xlink:type=\"simple\"><path d=\"M351.17,100.22 C351.17,100.22 351.17,239.93 351.17,239.93 \" fill=\"none\" id=\"E5&lt;-E9\" style=\"stroke: #383838; stroke-width: 1.0;\"/><polygon fill=\"#FFFFFF\" points=\"351.17,87.22,347.17,93.22,351.17,99.22,355.17,93.22,351.17,87.22\" style=\"stroke: #383838; stroke-width: 1.0;\"/></a><!--MD5=[6201b7a7598338314bb23645e28ffa72]\n",
       "@startuml\r\n",
       "skinparam linetype ortho\r\n",
       "skinparam monochrome true\r\n",
       "skinparam classbackgroundcolor white\r\n",
       "skinparam shadowing false\r\n",
       "skinparam wrapWidth 300\r\n",
       "hide circle\r\n",
       "\r\n",
       "package \"TradeStudyTest\" as E1  [[psysml:656cfd98-5664-4901-a86b-535977508953 ]]  {\r\n",
       "comp def \"Engine\" as E2  <<(T,blue)part def>> [[psysml:66c87936-3609-4f97-8f24-8ad3882372ee ]] {\r\n",
       "}\r\n",
       "comp usage \"engine1: Engine\" as E3  <<(T,blue)part>> [[psysml:c974a942-078b-4d34-96c1-8ca70902d898 ]] {\r\n",
       "}\r\n",
       "comp usage \"engine2: Engine\" as E4  <<(T,blue)part>> [[psysml:f4d0ec5b-d124-41e4-9ba9-3cb67b695e7c ]] {\r\n",
       "}\r\n",
       "comp usage \"engineTradeStudy: TradeStudy\" as E5 <<analysis>> [[psysml:2fd52497-3b24-4a66-a5d3-d77cdf8b2acf ]] {\r\n",
       "}\r\n",
       "comp usage \"tradeStudyObjective: MaximizeObjective\" as E6  <<(T,blue)requirement>> [[psysml:2c27f52f-f536-4fc6-bf8d-fd6e3fd13c39 ]] {\r\n",
       "}\r\n",
       "comp usage \"objectiveFunction\" as E7  <<(T,blue)calculation>> [[psysml:7b858bf3-8f8c-4105-a0db-0d0783f29576 ]] {\r\n",
       "}\r\n",
       "comp usage \"alternative: Engine\" as E8  <<(T,blue)part>> [[psysml:b0f7840c-11d7-45e2-a5a4-bf208bef1113 ]] {\r\n",
       "}\r\n",
       "comp usage \"selectedAlternative: Engine\" as E9  <<(T,blue)part>> [[psysml:9d098c9e-1a7b-415f-a301-c2067e422f2c ]] {\r\n",
       "}\r\n",
       "E3 - -:|> E2 [[psysml:6d15a19a-180f-471d-b762-c393731ed9f0 ]] \r\n",
       "E4 - -:|> E2 [[psysml:247dd621-3d2a-4448-8896-ee4a55c37d47 ]] \r\n",
       "E5 ..> E2 [[psysml:21b7132a-f544-4487-a747-91d198ad447d ]] : <<subject>>\r\n",
       "E5 - ->> E6 [[psysml:44ec4945-cc63-4e9d-b8df-7b9a76da0bc7 ]] : <<objective>>\r\n",
       "E5 *- - E7 [[psysml:7b858bf3-8f8c-4105-a0db-0d0783f29576 ]] \r\n",
       "E8 - -:|> E2 [[psysml:2565caae-8b6e-420b-a56a-eab601fd4b55 ]] \r\n",
       "E7 o- - E8 [[psysml:b0f7840c-11d7-45e2-a5a4-bf208bef1113 ]] \r\n",
       "E9 - -:|> E2 [[psysml:a6aa3e55-56ca-44c6-92e8-1089eebb019a ]] \r\n",
       "E5 o- - E9 [[psysml:9d098c9e-1a7b-415f-a301-c2067e422f2c ]] \r\n",
       "}\r\n",
       "@enduml\r\n",
       "\n",
       "PlantUML version 1.2020.13(Sat Jun 13 12:26:38 UTC 2020)\n",
       "(EPL source distribution)\n",
       "Java Runtime: OpenJDK Runtime Environment\n",
       "JVM: OpenJDK 64-Bit Server VM\n",
       "Default Encoding: UTF-8\n",
       "Language: en\n",
       "Country: null\n",
       "--></g></svg>"
      ]
     },
     "execution_count": 51,
     "metadata": {},
     "output_type": "execute_result"
    }
   ],
   "source": [
    "%viz --style=\"ORTHOLINE\" --view=\"Default\" \"TradeStudyTest\""
   ]
  },
  {
   "cell_type": "code",
   "execution_count": 52,
   "id": "annual-brass",
   "metadata": {
    "execution": {
     "iopub.execute_input": "2021-03-25T13:19:25.358496Z",
     "iopub.status.busy": "2021-03-25T13:19:25.357999Z",
     "iopub.status.idle": "2021-03-25T13:19:25.522158Z",
     "shell.execute_reply": "2021-03-25T13:19:25.520516Z"
    }
   },
   "outputs": [
    {
     "data": {
      "image/svg+xml": [
       "<?xml version=\"1.0\" encoding=\"UTF-8\" standalone=\"no\"?><svg xmlns=\"http://www.w3.org/2000/svg\" xmlns:xlink=\"http://www.w3.org/1999/xlink\" contentScriptType=\"application/ecmascript\" contentStyleType=\"text/css\" height=\"497px\" preserveAspectRatio=\"none\" style=\"width:554px;height:497px;\" version=\"1.1\" viewBox=\"0 0 554 497\" width=\"554px\" zoomAndPan=\"magnify\"><defs/><g><!--MD5=[fbc87193dbaf4d95561dea2c320d4a47]\n",
       "cluster E1--><a href=\"psysml:656cfd98-5664-4901-a86b-535977508953\" target=\"_top\" title=\"psysml:656cfd98-5664-4901-a86b-535977508953\" xlink:actuate=\"onRequest\" xlink:href=\"psysml:656cfd98-5664-4901-a86b-535977508953\" xlink:show=\"new\" xlink:title=\"psysml:656cfd98-5664-4901-a86b-535977508953\" xlink:type=\"simple\"><polygon fill=\"#FFFFFF\" points=\"16,6,148,6,155,28.2969,532,28.2969,532,485,16,485,16,6\" style=\"stroke: #000000; stroke-width: 1.5;\"/><line style=\"stroke: #000000; stroke-width: 1.5;\" x1=\"16\" x2=\"155\" y1=\"28.2969\" y2=\"28.2969\"/><text fill=\"#000000\" font-family=\"sans-serif\" font-size=\"14\" font-weight=\"bold\" lengthAdjust=\"spacingAndGlyphs\" textLength=\"126\" x=\"20\" y=\"20.9951\">TradeStudyTest</text></a><!--MD5=[b4997ac47864f28c2f74865a473b2911]\n",
       "class E2--><a href=\"psysml:66c87936-3609-4f97-8f24-8ad3882372ee\" target=\"_top\" title=\"psysml:66c87936-3609-4f97-8f24-8ad3882372ee\" xlink:actuate=\"onRequest\" xlink:href=\"psysml:66c87936-3609-4f97-8f24-8ad3882372ee\" xlink:show=\"new\" xlink:title=\"psysml:66c87936-3609-4f97-8f24-8ad3882372ee\" xlink:type=\"simple\"><rect fill=\"#FFFFFF\" height=\"45.9375\" id=\"E2\" style=\"stroke: #383838; stroke-width: 1.5;\" width=\"66\" x=\"196\" y=\"423\"/><text fill=\"#000000\" font-family=\"sans-serif\" font-size=\"12\" font-style=\"italic\" lengthAdjust=\"spacingAndGlyphs\" textLength=\"64\" x=\"197\" y=\"439.1387\">«part def»</text><text fill=\"#000000\" font-family=\"sans-serif\" font-size=\"12\" lengthAdjust=\"spacingAndGlyphs\" textLength=\"43\" x=\"207.5\" y=\"453.1074\">Engine</text><line style=\"stroke: #383838; stroke-width: 1.5;\" x1=\"197\" x2=\"261\" y1=\"460.9375\" y2=\"460.9375\"/></a><!--MD5=[09b614a08d8cba4a07c9adeb5e0fee81]\n",
       "class E3--><a href=\"psysml:c974a942-078b-4d34-96c1-8ca70902d898\" target=\"_top\" title=\"psysml:c974a942-078b-4d34-96c1-8ca70902d898\" xlink:actuate=\"onRequest\" xlink:href=\"psysml:c974a942-078b-4d34-96c1-8ca70902d898\" xlink:show=\"new\" xlink:title=\"psysml:c974a942-078b-4d34-96c1-8ca70902d898\" xlink:type=\"simple\"><rect fill=\"#FFFFFF\" height=\"45.9375\" id=\"E3\" rx=\"10\" ry=\"10\" style=\"stroke: #383838; stroke-width: 1.5;\" width=\"108\" x=\"408\" y=\"316\"/><text fill=\"#000000\" font-family=\"sans-serif\" font-size=\"12\" font-style=\"italic\" lengthAdjust=\"spacingAndGlyphs\" textLength=\"40\" x=\"442\" y=\"332.1387\">«part»</text><text fill=\"#000000\" font-family=\"sans-serif\" font-size=\"12\" lengthAdjust=\"spacingAndGlyphs\" textLength=\"102\" x=\"411\" y=\"346.1074\">engine1: Engine</text><line style=\"stroke: #383838; stroke-width: 1.5;\" x1=\"409\" x2=\"515\" y1=\"353.9375\" y2=\"353.9375\"/></a><!--MD5=[ebbe1d658d1005bcc118a6aa81145e00]\n",
       "class E4--><a href=\"psysml:f4d0ec5b-d124-41e4-9ba9-3cb67b695e7c\" target=\"_top\" title=\"psysml:f4d0ec5b-d124-41e4-9ba9-3cb67b695e7c\" xlink:actuate=\"onRequest\" xlink:href=\"psysml:f4d0ec5b-d124-41e4-9ba9-3cb67b695e7c\" xlink:show=\"new\" xlink:title=\"psysml:f4d0ec5b-d124-41e4-9ba9-3cb67b695e7c\" xlink:type=\"simple\"><rect fill=\"#FFFFFF\" height=\"45.9375\" id=\"E4\" rx=\"10\" ry=\"10\" style=\"stroke: #383838; stroke-width: 1.5;\" width=\"108\" x=\"265\" y=\"316\"/><text fill=\"#000000\" font-family=\"sans-serif\" font-size=\"12\" font-style=\"italic\" lengthAdjust=\"spacingAndGlyphs\" textLength=\"40\" x=\"299\" y=\"332.1387\">«part»</text><text fill=\"#000000\" font-family=\"sans-serif\" font-size=\"12\" lengthAdjust=\"spacingAndGlyphs\" textLength=\"102\" x=\"268\" y=\"346.1074\">engine2: Engine</text><line style=\"stroke: #383838; stroke-width: 1.5;\" x1=\"266\" x2=\"372\" y1=\"353.9375\" y2=\"353.9375\"/></a><!--MD5=[270fce915f116d4de14055a7c1d9a0f3]\n",
       "class E5--><a href=\"psysml:2fd52497-3b24-4a66-a5d3-d77cdf8b2acf\" target=\"_top\" title=\"psysml:2fd52497-3b24-4a66-a5d3-d77cdf8b2acf\" xlink:actuate=\"onRequest\" xlink:href=\"psysml:2fd52497-3b24-4a66-a5d3-d77cdf8b2acf\" xlink:show=\"new\" xlink:title=\"psysml:2fd52497-3b24-4a66-a5d3-d77cdf8b2acf\" xlink:type=\"simple\"><rect fill=\"#FFFFFF\" height=\"45.9375\" id=\"E5\" rx=\"10\" ry=\"10\" style=\"stroke: #383838; stroke-width: 1.5;\" width=\"199\" x=\"237.5\" y=\"41\"/><text fill=\"#000000\" font-family=\"sans-serif\" font-size=\"12\" font-style=\"italic\" lengthAdjust=\"spacingAndGlyphs\" textLength=\"64\" x=\"305\" y=\"57.1387\">«analysis»</text><text fill=\"#000000\" font-family=\"sans-serif\" font-size=\"12\" lengthAdjust=\"spacingAndGlyphs\" textLength=\"193\" x=\"240.5\" y=\"71.1074\">engineTradeStudy: TradeStudy</text><line style=\"stroke: #383838; stroke-width: 1.5;\" x1=\"238.5\" x2=\"435.5\" y1=\"78.9375\" y2=\"78.9375\"/></a><!--MD5=[60a26617385b1d2d0262a64233df1f8d]\n",
       "class E6--><a href=\"psysml:2c27f52f-f536-4fc6-bf8d-fd6e3fd13c39\" target=\"_top\" title=\"psysml:2c27f52f-f536-4fc6-bf8d-fd6e3fd13c39\" xlink:actuate=\"onRequest\" xlink:href=\"psysml:2c27f52f-f536-4fc6-bf8d-fd6e3fd13c39\" xlink:show=\"new\" xlink:title=\"psysml:2c27f52f-f536-4fc6-bf8d-fd6e3fd13c39\" xlink:type=\"simple\"><rect fill=\"#FFFFFF\" height=\"45.9375\" id=\"E6\" rx=\"10\" ry=\"10\" style=\"stroke: #383838; stroke-width: 1.5;\" width=\"251\" x=\"76.5\" y=\"164\"/><text fill=\"#000000\" font-family=\"sans-serif\" font-size=\"12\" font-style=\"italic\" lengthAdjust=\"spacingAndGlyphs\" textLength=\"91\" x=\"156.5\" y=\"180.1387\">«requirement»</text><text fill=\"#000000\" font-family=\"sans-serif\" font-size=\"12\" lengthAdjust=\"spacingAndGlyphs\" textLength=\"245\" x=\"79.5\" y=\"194.1074\">tradeStudyObjective: MaximizeObjective</text><line style=\"stroke: #383838; stroke-width: 1.5;\" x1=\"77.5\" x2=\"326.5\" y1=\"201.9375\" y2=\"201.9375\"/></a><!--MD5=[2156ba9850f5573cc1fc38a6a4b2f02b]\n",
       "class E7--><a href=\"psysml:7b858bf3-8f8c-4105-a0db-0d0783f29576\" target=\"_top\" title=\"psysml:7b858bf3-8f8c-4105-a0db-0d0783f29576\" xlink:actuate=\"onRequest\" xlink:href=\"psysml:7b858bf3-8f8c-4105-a0db-0d0783f29576\" xlink:show=\"new\" xlink:title=\"psysml:7b858bf3-8f8c-4105-a0db-0d0783f29576\" xlink:type=\"simple\"><rect fill=\"#FFFFFF\" height=\"45.9375\" id=\"E7\" rx=\"10\" ry=\"10\" style=\"stroke: #383838; stroke-width: 1.5;\" width=\"116\" x=\"363\" y=\"164\"/><text fill=\"#000000\" font-family=\"sans-serif\" font-size=\"12\" font-style=\"italic\" lengthAdjust=\"spacingAndGlyphs\" textLength=\"82\" x=\"380\" y=\"180.1387\">«calculation»</text><text fill=\"#000000\" font-family=\"sans-serif\" font-size=\"12\" lengthAdjust=\"spacingAndGlyphs\" textLength=\"110\" x=\"366\" y=\"194.1074\">objectiveFunction</text><line style=\"stroke: #383838; stroke-width: 1.5;\" x1=\"364\" x2=\"478\" y1=\"201.9375\" y2=\"201.9375\"/></a><!--MD5=[b9389687b975829384b498ac4b7476b2]\n",
       "class E8--><a href=\"psysml:b0f7840c-11d7-45e2-a5a4-bf208bef1113\" target=\"_top\" title=\"psysml:b0f7840c-11d7-45e2-a5a4-bf208bef1113\" xlink:actuate=\"onRequest\" xlink:href=\"psysml:b0f7840c-11d7-45e2-a5a4-bf208bef1113\" xlink:show=\"new\" xlink:title=\"psysml:b0f7840c-11d7-45e2-a5a4-bf208bef1113\" xlink:type=\"simple\"><rect fill=\"#FFFFFF\" height=\"45.9375\" id=\"E8\" rx=\"10\" ry=\"10\" style=\"stroke: #383838; stroke-width: 1.5;\" width=\"124\" x=\"69\" y=\"316\"/><text fill=\"#000000\" font-family=\"sans-serif\" font-size=\"12\" font-style=\"italic\" lengthAdjust=\"spacingAndGlyphs\" textLength=\"40\" x=\"111\" y=\"332.1387\">«part»</text><text fill=\"#000000\" font-family=\"sans-serif\" font-size=\"12\" lengthAdjust=\"spacingAndGlyphs\" textLength=\"118\" x=\"72\" y=\"346.1074\">alternative: Engine</text><line style=\"stroke: #383838; stroke-width: 1.5;\" x1=\"70\" x2=\"192\" y1=\"353.9375\" y2=\"353.9375\"/></a><!--MD5=[fd4143e9d270a159db93a4ea2a975926]\n",
       "class E9--><a href=\"psysml:9d098c9e-1a7b-415f-a301-c2067e422f2c\" target=\"_top\" title=\"psysml:9d098c9e-1a7b-415f-a301-c2067e422f2c\" xlink:actuate=\"onRequest\" xlink:href=\"psysml:9d098c9e-1a7b-415f-a301-c2067e422f2c\" xlink:show=\"new\" xlink:title=\"psysml:9d098c9e-1a7b-415f-a301-c2067e422f2c\" xlink:type=\"simple\"><rect fill=\"#FFFFFF\" height=\"45.9375\" id=\"E9\" rx=\"10\" ry=\"10\" style=\"stroke: #383838; stroke-width: 1.5;\" width=\"178\" x=\"289\" y=\"240\"/><text fill=\"#000000\" font-family=\"sans-serif\" font-size=\"12\" font-style=\"italic\" lengthAdjust=\"spacingAndGlyphs\" textLength=\"40\" x=\"358\" y=\"256.1387\">«part»</text><text fill=\"#000000\" font-family=\"sans-serif\" font-size=\"12\" lengthAdjust=\"spacingAndGlyphs\" textLength=\"172\" x=\"292\" y=\"270.1074\">selectedAlternative: Engine</text><line style=\"stroke: #383838; stroke-width: 1.5;\" x1=\"290\" x2=\"466\" y1=\"277.9375\" y2=\"277.9375\"/></a><!--MD5=[05d275557350bfb9b23a4ef7222b4c39]\n",
       "link E3 to E2--><a href=\"psysml:6d15a19a-180f-471d-b762-c393731ed9f0\" target=\"_top\" title=\"psysml:6d15a19a-180f-471d-b762-c393731ed9f0\" xlink:actuate=\"onRequest\" xlink:href=\"psysml:6d15a19a-180f-471d-b762-c393731ed9f0\" xlink:show=\"new\" xlink:title=\"psysml:6d15a19a-180f-471d-b762-c393731ed9f0\" xlink:type=\"simple\"><path d=\"M462,362.22 C462,393.69 462,446 462,446 C462,446 282.38,446 282.38,446 \" fill=\"none\" id=\"E3-&gt;E2\" style=\"stroke: #383838; stroke-width: 1.0;\"/><polygon fill=\"#FFFFFF\" points=\"262.38,446,281.38,439,281.38,453,262.38,446\" style=\"stroke: #383838; stroke-width: 1.0;\"/><ellipse cx=\"287.08\" cy=\"441\" fill=\"#383838\" rx=\"2\" ry=\"2\" style=\"stroke: #383838; stroke-width: 1.0;\"/><ellipse cx=\"287.08\" cy=\"451\" fill=\"#383838\" rx=\"2\" ry=\"2\" style=\"stroke: #383838; stroke-width: 1.0;\"/></a><!--MD5=[185131fc0dcab0a4505a2ebe144e961b]\n",
       "link E4 to E2--><a href=\"psysml:247dd621-3d2a-4448-8896-ee4a55c37d47\" target=\"_top\" title=\"psysml:247dd621-3d2a-4448-8896-ee4a55c37d47\" xlink:actuate=\"onRequest\" xlink:href=\"psysml:247dd621-3d2a-4448-8896-ee4a55c37d47\" xlink:show=\"new\" xlink:title=\"psysml:247dd621-3d2a-4448-8896-ee4a55c37d47\" xlink:type=\"simple\"><path d=\"M264.73,347 C255.49,347 248.8,347 248.8,347 C248.8,347 248.8,402.79 248.8,402.79 \" fill=\"none\" id=\"E4-&gt;E2\" style=\"stroke: #383838; stroke-width: 1.0;\"/><polygon fill=\"#FFFFFF\" points=\"248.8,422.79,241.8,403.79,255.8,403.79,248.8,422.79\" style=\"stroke: #383838; stroke-width: 1.0;\"/><ellipse cx=\"243.8\" cy=\"398.09\" fill=\"#383838\" rx=\"2\" ry=\"2\" style=\"stroke: #383838; stroke-width: 1.0;\"/><ellipse cx=\"253.8\" cy=\"398.09\" fill=\"#383838\" rx=\"2\" ry=\"2\" style=\"stroke: #383838; stroke-width: 1.0;\"/></a><!--MD5=[15ebcb19ae302d9b601edb458606d402]\n",
       "link E5 to E2--><a href=\"psysml:21b7132a-f544-4487-a747-91d198ad447d\" target=\"_top\" title=\"psysml:21b7132a-f544-4487-a747-91d198ad447d\" xlink:actuate=\"onRequest\" xlink:href=\"psysml:21b7132a-f544-4487-a747-91d198ad447d\" xlink:show=\"new\" xlink:title=\"psysml:21b7132a-f544-4487-a747-91d198ad447d\" xlink:type=\"simple\"><path d=\"M339.33,87.02 C339.33,130.41 339.33,220 339.33,220 C339.33,220 222.4,220 222.4,220 C222.4,220 222.4,417.67 222.4,417.67 \" fill=\"none\" id=\"E5-&gt;E2\" style=\"stroke: #383838; stroke-width: 1.0; stroke-dasharray: 7.0,7.0;\"/><polygon fill=\"#383838\" points=\"222.4,422.67,226.4,413.67,222.4,417.67,218.4,413.67,222.4,422.67\" style=\"stroke: #383838; stroke-width: 1.0;\"/><text fill=\"#000000\" font-family=\"sans-serif\" font-size=\"13\" lengthAdjust=\"spacingAndGlyphs\" textLength=\"62\" x=\"68\" y=\"267.5669\">«subject»</text></a><!--MD5=[9120cf2e5df3bff93db8f754bbbc09b4]\n",
       "link E5 to E6--><a href=\"psysml:44ec4945-cc63-4e9d-b8df-7b9a76da0bc7\" target=\"_top\" title=\"psysml:44ec4945-cc63-4e9d-b8df-7b9a76da0bc7\" xlink:actuate=\"onRequest\" xlink:href=\"psysml:44ec4945-cc63-4e9d-b8df-7b9a76da0bc7\" xlink:show=\"new\" xlink:title=\"psysml:44ec4945-cc63-4e9d-b8df-7b9a76da0bc7\" xlink:type=\"simple\"><path d=\"M282.5,87.14 C282.5,87.14 282.5,155.97 282.5,155.97 \" fill=\"none\" id=\"E5-&gt;E6\" style=\"stroke: #383838; stroke-width: 1.0;\"/><polygon fill=\"#383838\" points=\"282.5,163.97,285.5,155.97,279.5,155.97,282.5,163.97\" style=\"stroke: #383838; stroke-width: 1.0;\"/><text fill=\"#000000\" font-family=\"sans-serif\" font-size=\"13\" lengthAdjust=\"spacingAndGlyphs\" textLength=\"73\" x=\"231\" y=\"130.0669\">«objective»</text></a><!--MD5=[452b418e7f8a40397a49b8c0a78acc5b]\n",
       "reverse link E5 to E7--><a href=\"psysml:7b858bf3-8f8c-4105-a0db-0d0783f29576\" target=\"_top\" title=\"psysml:7b858bf3-8f8c-4105-a0db-0d0783f29576\" xlink:actuate=\"onRequest\" xlink:href=\"psysml:7b858bf3-8f8c-4105-a0db-0d0783f29576\" xlink:show=\"new\" xlink:title=\"psysml:7b858bf3-8f8c-4105-a0db-0d0783f29576\" xlink:type=\"simple\"><path d=\"M399.75,100.14 C399.75,100.14 399.75,163.97 399.75,163.97 \" fill=\"none\" id=\"E5&lt;-E7\" style=\"stroke: #383838; stroke-width: 1.0;\"/><polygon fill=\"#383838\" points=\"399.75,87.14,395.75,93.14,399.75,99.14,403.75,93.14,399.75,87.14\" style=\"stroke: #383838; stroke-width: 1.0;\"/></a><!--MD5=[f1f3f9f2fc535e6147756cb86a7f2e32]\n",
       "link E8 to E2--><a href=\"psysml:2565caae-8b6e-420b-a56a-eab601fd4b55\" target=\"_top\" title=\"psysml:2565caae-8b6e-420b-a56a-eab601fd4b55\" xlink:actuate=\"onRequest\" xlink:href=\"psysml:2565caae-8b6e-420b-a56a-eab601fd4b55\" xlink:show=\"new\" xlink:title=\"psysml:2565caae-8b6e-420b-a56a-eab601fd4b55\" xlink:type=\"simple\"><path d=\"M193.38,332 C202.67,332 209.2,332 209.2,332 C209.2,332 209.2,402.93 209.2,402.93 \" fill=\"none\" id=\"E8-&gt;E2\" style=\"stroke: #383838; stroke-width: 1.0;\"/><polygon fill=\"#FFFFFF\" points=\"209.2,422.93,202.2,403.93,216.2,403.93,209.2,422.93\" style=\"stroke: #383838; stroke-width: 1.0;\"/><ellipse cx=\"204.2\" cy=\"398.23\" fill=\"#383838\" rx=\"2\" ry=\"2\" style=\"stroke: #383838; stroke-width: 1.0;\"/><ellipse cx=\"214.2\" cy=\"398.23\" fill=\"#383838\" rx=\"2\" ry=\"2\" style=\"stroke: #383838; stroke-width: 1.0;\"/></a><!--MD5=[dc164f5e8a733ab456ef1add180e9e34]\n",
       "reverse link E7 to E8--><a href=\"psysml:b0f7840c-11d7-45e2-a5a4-bf208bef1113\" target=\"_top\" title=\"psysml:b0f7840c-11d7-45e2-a5a4-bf208bef1113\" xlink:actuate=\"onRequest\" xlink:href=\"psysml:b0f7840c-11d7-45e2-a5a4-bf208bef1113\" xlink:show=\"new\" xlink:title=\"psysml:b0f7840c-11d7-45e2-a5a4-bf208bef1113\" xlink:type=\"simple\"><path d=\"M415,223.01 C415,223.01 415,230 415,230 C415,230 134.75,230 134.75,230 C134.75,230 134.75,283.89 134.75,315.88 \" fill=\"none\" id=\"E7&lt;-E8\" style=\"stroke: #383838; stroke-width: 1.0;\"/><polygon fill=\"#FFFFFF\" points=\"415,210.01,411,216.01,415,222.01,419,216.01,415,210.01\" style=\"stroke: #383838; stroke-width: 1.0;\"/></a><!--MD5=[5c3bb36fe832a92c7f0e1807dd65209d]\n",
       "link E9 to E2--><a href=\"psysml:a6aa3e55-56ca-44c6-92e8-1089eebb019a\" target=\"_top\" title=\"psysml:a6aa3e55-56ca-44c6-92e8-1089eebb019a\" xlink:actuate=\"onRequest\" xlink:href=\"psysml:a6aa3e55-56ca-44c6-92e8-1089eebb019a\" xlink:show=\"new\" xlink:title=\"psysml:a6aa3e55-56ca-44c6-92e8-1089eebb019a\" xlink:type=\"simple\"><path d=\"M288.62,263 C260.01,263 235.6,263 235.6,263 C235.6,263 235.6,402.82 235.6,402.82 \" fill=\"none\" id=\"E9-&gt;E2\" style=\"stroke: #383838; stroke-width: 1.0;\"/><polygon fill=\"#FFFFFF\" points=\"235.6,422.82,228.6,403.82,242.6,403.82,235.6,422.82\" style=\"stroke: #383838; stroke-width: 1.0;\"/><ellipse cx=\"230.6\" cy=\"398.12\" fill=\"#383838\" rx=\"2\" ry=\"2\" style=\"stroke: #383838; stroke-width: 1.0;\"/><ellipse cx=\"240.6\" cy=\"398.12\" fill=\"#383838\" rx=\"2\" ry=\"2\" style=\"stroke: #383838; stroke-width: 1.0;\"/></a><!--MD5=[9ae28de373ca99bb8a1b38d63370ca7e]\n",
       "reverse link E5 to E9--><a href=\"psysml:9d098c9e-1a7b-415f-a301-c2067e422f2c\" target=\"_top\" title=\"psysml:9d098c9e-1a7b-415f-a301-c2067e422f2c\" xlink:actuate=\"onRequest\" xlink:href=\"psysml:9d098c9e-1a7b-415f-a301-c2067e422f2c\" xlink:show=\"new\" xlink:title=\"psysml:9d098c9e-1a7b-415f-a301-c2067e422f2c\" xlink:type=\"simple\"><path d=\"M351.17,100.22 C351.17,100.22 351.17,239.93 351.17,239.93 \" fill=\"none\" id=\"E5&lt;-E9\" style=\"stroke: #383838; stroke-width: 1.0;\"/><polygon fill=\"#FFFFFF\" points=\"351.17,87.22,347.17,93.22,351.17,99.22,355.17,93.22,351.17,87.22\" style=\"stroke: #383838; stroke-width: 1.0;\"/></a><!--MD5=[6201b7a7598338314bb23645e28ffa72]\n",
       "@startuml\r\n",
       "skinparam linetype ortho\r\n",
       "skinparam monochrome true\r\n",
       "skinparam classbackgroundcolor white\r\n",
       "skinparam shadowing false\r\n",
       "skinparam wrapWidth 300\r\n",
       "hide circle\r\n",
       "\r\n",
       "package \"TradeStudyTest\" as E1  [[psysml:656cfd98-5664-4901-a86b-535977508953 ]]  {\r\n",
       "comp def \"Engine\" as E2  <<(T,blue)part def>> [[psysml:66c87936-3609-4f97-8f24-8ad3882372ee ]] {\r\n",
       "}\r\n",
       "comp usage \"engine1: Engine\" as E3  <<(T,blue)part>> [[psysml:c974a942-078b-4d34-96c1-8ca70902d898 ]] {\r\n",
       "}\r\n",
       "comp usage \"engine2: Engine\" as E4  <<(T,blue)part>> [[psysml:f4d0ec5b-d124-41e4-9ba9-3cb67b695e7c ]] {\r\n",
       "}\r\n",
       "comp usage \"engineTradeStudy: TradeStudy\" as E5 <<analysis>> [[psysml:2fd52497-3b24-4a66-a5d3-d77cdf8b2acf ]] {\r\n",
       "}\r\n",
       "comp usage \"tradeStudyObjective: MaximizeObjective\" as E6  <<(T,blue)requirement>> [[psysml:2c27f52f-f536-4fc6-bf8d-fd6e3fd13c39 ]] {\r\n",
       "}\r\n",
       "comp usage \"objectiveFunction\" as E7  <<(T,blue)calculation>> [[psysml:7b858bf3-8f8c-4105-a0db-0d0783f29576 ]] {\r\n",
       "}\r\n",
       "comp usage \"alternative: Engine\" as E8  <<(T,blue)part>> [[psysml:b0f7840c-11d7-45e2-a5a4-bf208bef1113 ]] {\r\n",
       "}\r\n",
       "comp usage \"selectedAlternative: Engine\" as E9  <<(T,blue)part>> [[psysml:9d098c9e-1a7b-415f-a301-c2067e422f2c ]] {\r\n",
       "}\r\n",
       "E3 - -:|> E2 [[psysml:6d15a19a-180f-471d-b762-c393731ed9f0 ]] \r\n",
       "E4 - -:|> E2 [[psysml:247dd621-3d2a-4448-8896-ee4a55c37d47 ]] \r\n",
       "E5 ..> E2 [[psysml:21b7132a-f544-4487-a747-91d198ad447d ]] : <<subject>>\r\n",
       "E5 - ->> E6 [[psysml:44ec4945-cc63-4e9d-b8df-7b9a76da0bc7 ]] : <<objective>>\r\n",
       "E5 *- - E7 [[psysml:7b858bf3-8f8c-4105-a0db-0d0783f29576 ]] \r\n",
       "E8 - -:|> E2 [[psysml:2565caae-8b6e-420b-a56a-eab601fd4b55 ]] \r\n",
       "E7 o- - E8 [[psysml:b0f7840c-11d7-45e2-a5a4-bf208bef1113 ]] \r\n",
       "E9 - -:|> E2 [[psysml:a6aa3e55-56ca-44c6-92e8-1089eebb019a ]] \r\n",
       "E5 o- - E9 [[psysml:9d098c9e-1a7b-415f-a301-c2067e422f2c ]] \r\n",
       "}\r\n",
       "@enduml\r\n",
       "\n",
       "PlantUML version 1.2020.13(Sat Jun 13 12:26:38 UTC 2020)\n",
       "(EPL source distribution)\n",
       "Java Runtime: OpenJDK Runtime Environment\n",
       "JVM: OpenJDK 64-Bit Server VM\n",
       "Default Encoding: UTF-8\n",
       "Language: en\n",
       "Country: null\n",
       "--></g></svg>"
      ]
     },
     "execution_count": 52,
     "metadata": {},
     "output_type": "execute_result"
    }
   ],
   "source": [
    "%viz --style=\"ORTHOLINE\" --view=\"Tree\" \"TradeStudyTest\""
   ]
  },
  {
   "cell_type": "code",
   "execution_count": 53,
   "id": "executed-novelty",
   "metadata": {
    "execution": {
     "iopub.execute_input": "2021-03-25T13:19:25.576245Z",
     "iopub.status.busy": "2021-03-25T13:19:25.575789Z",
     "iopub.status.idle": "2021-03-25T13:19:25.578938Z",
     "shell.execute_reply": "2021-03-25T13:19:25.579387Z"
    }
   },
   "outputs": [
    {
     "data": {
      "image/svg+xml": [
       "<?xml version=\"1.0\" encoding=\"UTF-8\" standalone=\"no\"?><svg xmlns=\"http://www.w3.org/2000/svg\" xmlns:xlink=\"http://www.w3.org/1999/xlink\" contentScriptType=\"application/ecmascript\" contentStyleType=\"text/css\" height=\"12px\" preserveAspectRatio=\"none\" style=\"width:12px;height:12px;\" version=\"1.1\" viewBox=\"0 0 12 12\" width=\"12px\" zoomAndPan=\"magnify\"><defs/><g><!--MD5=[97d6f38768b311333d388e66b2b27985]\n",
       "@startuml\r\n",
       "skinparam linetype ortho\r\n",
       "skinparam monochrome true\r\n",
       "skinparam classbackgroundcolor white\r\n",
       "skinparam shadowing false\r\n",
       "skinparam wrapWidth 300\r\n",
       "hide circle\r\n",
       "\r\n",
       "@enduml\r\n",
       "\n",
       "PlantUML version 1.2020.13(Sat Jun 13 12:26:38 UTC 2020)\n",
       "(EPL source distribution)\n",
       "Java Runtime: OpenJDK Runtime Environment\n",
       "JVM: OpenJDK 64-Bit Server VM\n",
       "Default Encoding: UTF-8\n",
       "Language: en\n",
       "Country: null\n",
       "--></g></svg>"
      ]
     },
     "execution_count": 53,
     "metadata": {},
     "output_type": "execute_result"
    }
   ],
   "source": [
    "%viz --style=\"ORTHOLINE\" --view=\"State\" \"TradeStudyTest\""
   ]
  },
  {
   "cell_type": "code",
   "execution_count": 54,
   "id": "atlantic-cooling",
   "metadata": {
    "execution": {
     "iopub.execute_input": "2021-03-25T13:19:25.630252Z",
     "iopub.status.busy": "2021-03-25T13:19:25.629775Z",
     "iopub.status.idle": "2021-03-25T13:19:25.682346Z",
     "shell.execute_reply": "2021-03-25T13:19:25.682010Z"
    }
   },
   "outputs": [
    {
     "data": {
      "image/svg+xml": [
       "<?xml version=\"1.0\" encoding=\"UTF-8\" standalone=\"no\"?><svg xmlns=\"http://www.w3.org/2000/svg\" xmlns:xlink=\"http://www.w3.org/1999/xlink\" contentScriptType=\"application/ecmascript\" contentStyleType=\"text/css\" height=\"112px\" preserveAspectRatio=\"none\" style=\"width:438px;height:112px;\" version=\"1.1\" viewBox=\"0 0 438 112\" width=\"438px\" zoomAndPan=\"magnify\"><defs/><g><!--MD5=[fbc87193dbaf4d95561dea2c320d4a47]\n",
       "cluster E1--><a href=\"psysml:656cfd98-5664-4901-a86b-535977508953\" target=\"_top\" title=\"psysml:656cfd98-5664-4901-a86b-535977508953\" xlink:actuate=\"onRequest\" xlink:href=\"psysml:656cfd98-5664-4901-a86b-535977508953\" xlink:show=\"new\" xlink:title=\"psysml:656cfd98-5664-4901-a86b-535977508953\" xlink:type=\"simple\"><polygon fill=\"#FFFFFF\" points=\"16,6,148,6,155,28.2969,416,28.2969,416,100,16,100,16,6\" style=\"stroke: #000000; stroke-width: 1.5;\"/><line style=\"stroke: #000000; stroke-width: 1.5;\" x1=\"16\" x2=\"155\" y1=\"28.2969\" y2=\"28.2969\"/><text fill=\"#000000\" font-family=\"sans-serif\" font-size=\"14\" font-weight=\"bold\" lengthAdjust=\"spacingAndGlyphs\" textLength=\"126\" x=\"20\" y=\"20.9951\">TradeStudyTest</text></a><g id=\"E1.E2\"><a href=\"psysml:66c87936-3609-4f97-8f24-8ad3882372ee\" target=\"_top\" title=\"psysml:66c87936-3609-4f97-8f24-8ad3882372ee\" xlink:actuate=\"onRequest\" xlink:href=\"psysml:66c87936-3609-4f97-8f24-8ad3882372ee\" xlink:show=\"new\" xlink:title=\"psysml:66c87936-3609-4f97-8f24-8ad3882372ee\" xlink:type=\"simple\"><rect fill=\"#FFFFFF\" height=\"42.9375\" id=\"E2\" style=\"stroke: #383838; stroke-width: 1.5;\" width=\"71\" x=\"328.5\" y=\"41\"/><rect fill=\"#F8F8F8\" height=\"37.9375\" style=\"stroke: #383838; stroke-width: 1.5;\" width=\"71\" x=\"328.5\" y=\"41\"/><text fill=\"#000000\" font-family=\"sans-serif\" font-size=\"12\" font-style=\"italic\" lengthAdjust=\"spacingAndGlyphs\" textLength=\"64\" x=\"332\" y=\"57.1387\">«part def»</text><text fill=\"#000000\" font-family=\"sans-serif\" font-size=\"12\" lengthAdjust=\"spacingAndGlyphs\" textLength=\"43\" x=\"342.5\" y=\"71.1074\">Engine</text></a></g><g id=\"E1.E3\"><a href=\"psysml:c974a942-078b-4d34-96c1-8ca70902d898\" target=\"_top\" title=\"psysml:c974a942-078b-4d34-96c1-8ca70902d898\" xlink:actuate=\"onRequest\" xlink:href=\"psysml:c974a942-078b-4d34-96c1-8ca70902d898\" xlink:show=\"new\" xlink:title=\"psysml:c974a942-078b-4d34-96c1-8ca70902d898\" xlink:type=\"simple\"><rect fill=\"#FFFFFF\" height=\"40\" id=\"E3\" rx=\"10\" ry=\"10\" style=\"stroke: #383838; stroke-width: 1.5;\" width=\"113\" x=\"180.5\" y=\"42.5\"/><rect fill=\"#F8F8F8\" height=\"23.9688\" rx=\"10\" ry=\"10\" style=\"stroke: #F8F8F8; stroke-width: 1.5;\" width=\"113\" x=\"180.5\" y=\"42.5\"/><rect fill=\"#F8F8F8\" height=\"10\" style=\"stroke: #F8F8F8; stroke-width: 1.5;\" width=\"113\" x=\"180.5\" y=\"56.4688\"/><rect fill=\"none\" height=\"40\" id=\"E3\" rx=\"10\" ry=\"10\" style=\"stroke: #383838; stroke-width: 1.5;\" width=\"113\" x=\"180.5\" y=\"42.5\"/><text fill=\"#000000\" font-family=\"sans-serif\" font-size=\"12\" lengthAdjust=\"spacingAndGlyphs\" textLength=\"102\" x=\"186\" y=\"58.6387\">engine1: Engine</text></a></g><g id=\"E1.E4\"><a href=\"psysml:f4d0ec5b-d124-41e4-9ba9-3cb67b695e7c\" target=\"_top\" title=\"psysml:f4d0ec5b-d124-41e4-9ba9-3cb67b695e7c\" xlink:actuate=\"onRequest\" xlink:href=\"psysml:f4d0ec5b-d124-41e4-9ba9-3cb67b695e7c\" xlink:show=\"new\" xlink:title=\"psysml:f4d0ec5b-d124-41e4-9ba9-3cb67b695e7c\" xlink:type=\"simple\"><rect fill=\"#FFFFFF\" height=\"40\" id=\"E4\" rx=\"10\" ry=\"10\" style=\"stroke: #383838; stroke-width: 1.5;\" width=\"113\" x=\"32.5\" y=\"42.5\"/><rect fill=\"#F8F8F8\" height=\"23.9688\" rx=\"10\" ry=\"10\" style=\"stroke: #F8F8F8; stroke-width: 1.5;\" width=\"113\" x=\"32.5\" y=\"42.5\"/><rect fill=\"#F8F8F8\" height=\"10\" style=\"stroke: #F8F8F8; stroke-width: 1.5;\" width=\"113\" x=\"32.5\" y=\"56.4688\"/><rect fill=\"none\" height=\"40\" id=\"E4\" rx=\"10\" ry=\"10\" style=\"stroke: #383838; stroke-width: 1.5;\" width=\"113\" x=\"32.5\" y=\"42.5\"/><text fill=\"#000000\" font-family=\"sans-serif\" font-size=\"12\" lengthAdjust=\"spacingAndGlyphs\" textLength=\"102\" x=\"38\" y=\"58.6387\">engine2: Engine</text></a></g><!--MD5=[398bbe885aa917192ef29ecb88e0fe4f]\n",
       "@startuml\r\n",
       "skinparam ranksep 8\r\n",
       "skinparam rectangle {\r\n",
       " backgroundColor<<block>> LightGreen\r\n",
       "}\r\n",
       "skinparam linetype ortho\r\n",
       "skinparam monochrome true\r\n",
       "skinparam classbackgroundcolor white\r\n",
       "skinparam shadowing false\r\n",
       "skinparam wrapWidth 300\r\n",
       "hide circle\r\n",
       "\r\n",
       "package \"TradeStudyTest\" as E1  [[psysml:656cfd98-5664-4901-a86b-535977508953 ]]  {\r\n",
       "rec def \"Engine\" as E2  <<(T,blue)part def>> [[psysml:66c87936-3609-4f97-8f24-8ad3882372ee ]] {\r\n",
       "}\r\n",
       "rec usage \"engine1: Engine\" as E3  [[psysml:c974a942-078b-4d34-96c1-8ca70902d898 ]] {\r\n",
       "}\r\n",
       "rec usage \"engine2: Engine\" as E4  [[psysml:f4d0ec5b-d124-41e4-9ba9-3cb67b695e7c ]] {\r\n",
       "}\r\n",
       "}\r\n",
       "@enduml\r\n",
       "\n",
       "PlantUML version 1.2020.13(Sat Jun 13 12:26:38 UTC 2020)\n",
       "(EPL source distribution)\n",
       "Java Runtime: OpenJDK Runtime Environment\n",
       "JVM: OpenJDK 64-Bit Server VM\n",
       "Default Encoding: UTF-8\n",
       "Language: en\n",
       "Country: null\n",
       "--></g></svg>"
      ]
     },
     "execution_count": 54,
     "metadata": {},
     "output_type": "execute_result"
    }
   ],
   "source": [
    "%viz --style=\"ORTHOLINE\" --view=\"Interconnection\" \"TradeStudyTest\""
   ]
  },
  {
   "cell_type": "code",
   "execution_count": 55,
   "id": "junior-guard",
   "metadata": {
    "execution": {
     "iopub.execute_input": "2021-03-25T13:19:25.733322Z",
     "iopub.status.busy": "2021-03-25T13:19:25.732725Z",
     "iopub.status.idle": "2021-03-25T13:19:25.815833Z",
     "shell.execute_reply": "2021-03-25T13:19:25.815285Z"
    }
   },
   "outputs": [
    {
     "data": {
      "image/svg+xml": [
       "<?xml version=\"1.0\" encoding=\"UTF-8\" standalone=\"no\"?><svg xmlns=\"http://www.w3.org/2000/svg\" xmlns:xlink=\"http://www.w3.org/1999/xlink\" contentScriptType=\"application/ecmascript\" contentStyleType=\"text/css\" height=\"128px\" preserveAspectRatio=\"none\" style=\"width:180px;height:128px;\" version=\"1.1\" viewBox=\"0 0 180 128\" width=\"180px\" zoomAndPan=\"magnify\"><defs/><g><!--MD5=[fbc87193dbaf4d95561dea2c320d4a47]\n",
       "cluster E1--><a href=\"psysml:2fd52497-3b24-4a66-a5d3-d77cdf8b2acf\" target=\"_top\" title=\"psysml:2fd52497-3b24-4a66-a5d3-d77cdf8b2acf\" xlink:actuate=\"onRequest\" xlink:href=\"psysml:2fd52497-3b24-4a66-a5d3-d77cdf8b2acf\" xlink:show=\"new\" xlink:title=\"psysml:2fd52497-3b24-4a66-a5d3-d77cdf8b2acf\" xlink:type=\"simple\"><rect fill=\"#FFFFFF\" height=\"110\" id=\"E1\" rx=\"10\" ry=\"10\" style=\"stroke: #383838; stroke-width: 1.5;\" width=\"161\" x=\"7\" y=\"7\"/><rect fill=\"#F8F8F8\" height=\"37.9375\" rx=\"10\" ry=\"10\" style=\"stroke: #F8F8F8; stroke-width: 1.5;\" width=\"161\" x=\"7\" y=\"7\"/><rect fill=\"#F8F8F8\" height=\"10\" style=\"stroke: #F8F8F8; stroke-width: 1.5;\" width=\"161\" x=\"7\" y=\"34.9375\"/><rect fill=\"none\" height=\"110\" id=\"E1\" rx=\"10\" ry=\"10\" style=\"stroke: #383838; stroke-width: 1.5;\" width=\"161\" x=\"7\" y=\"7\"/><text fill=\"#000000\" font-family=\"sans-serif\" font-size=\"12\" font-style=\"italic\" lengthAdjust=\"spacingAndGlyphs\" textLength=\"64\" x=\"55.5\" y=\"23.1387\">«analysis»</text><text fill=\"#000000\" font-family=\"sans-serif\" font-size=\"12\" lengthAdjust=\"spacingAndGlyphs\" textLength=\"114\" x=\"30.5\" y=\"37.1074\">engineTradeStudy</text><line style=\"stroke: #383838; stroke-width: 1.0;\" x1=\"7\" x2=\"168\" y1=\"44.9375\" y2=\"44.9375\"/></a><g id=\"E1.E2\"><a href=\"psysml:7b858bf3-8f8c-4105-a0db-0d0783f29576\" target=\"_top\" title=\"psysml:7b858bf3-8f8c-4105-a0db-0d0783f29576\" xlink:actuate=\"onRequest\" xlink:href=\"psysml:7b858bf3-8f8c-4105-a0db-0d0783f29576\" xlink:show=\"new\" xlink:title=\"psysml:7b858bf3-8f8c-4105-a0db-0d0783f29576\" xlink:type=\"simple\"><rect fill=\"#FFFFFF\" height=\"42.9375\" id=\"E2\" rx=\"10\" ry=\"10\" style=\"stroke: #383838; stroke-width: 1.5;\" width=\"121\" x=\"26.5\" y=\"58\"/><rect fill=\"#F8F8F8\" height=\"37.9375\" rx=\"10\" ry=\"10\" style=\"stroke: #F8F8F8; stroke-width: 1.5;\" width=\"121\" x=\"26.5\" y=\"58\"/><rect fill=\"#F8F8F8\" height=\"10\" style=\"stroke: #F8F8F8; stroke-width: 1.5;\" width=\"121\" x=\"26.5\" y=\"85.9375\"/><rect fill=\"none\" height=\"42.9375\" id=\"E2\" rx=\"10\" ry=\"10\" style=\"stroke: #383838; stroke-width: 1.5;\" width=\"121\" x=\"26.5\" y=\"58\"/><text fill=\"#000000\" font-family=\"sans-serif\" font-size=\"12\" font-style=\"italic\" lengthAdjust=\"spacingAndGlyphs\" textLength=\"82\" x=\"46\" y=\"74.1387\">«calculation»</text><text fill=\"#000000\" font-family=\"sans-serif\" font-size=\"12\" lengthAdjust=\"spacingAndGlyphs\" textLength=\"110\" x=\"32\" y=\"88.1074\">objectiveFunction</text></a></g><!--MD5=[ba2ac412ca7c11a4bd268a7b20094d15]\n",
       "@startuml\r\n",
       "skinparam ranksep 8\r\n",
       "skinparam linetype ortho\r\n",
       "skinparam monochrome true\r\n",
       "skinparam classbackgroundcolor white\r\n",
       "skinparam shadowing false\r\n",
       "skinparam wrapWidth 300\r\n",
       "hide circle\r\n",
       "\r\n",
       "rec usage \"engineTradeStudy\" as E1 <<analysis>> [[psysml:2fd52497-3b24-4a66-a5d3-d77cdf8b2acf ]] {\r\n",
       "rec usage \"objectiveFunction\" as E2  <<(T,blue)calculation>> [[psysml:7b858bf3-8f8c-4105-a0db-0d0783f29576 ]] {\r\n",
       "}\r\n",
       "\r\n",
       "}\r\n",
       "\r\n",
       "@enduml\r\n",
       "\n",
       "PlantUML version 1.2020.13(Sat Jun 13 12:26:38 UTC 2020)\n",
       "(EPL source distribution)\n",
       "Java Runtime: OpenJDK Runtime Environment\n",
       "JVM: OpenJDK 64-Bit Server VM\n",
       "Default Encoding: UTF-8\n",
       "Language: en\n",
       "Country: null\n",
       "--></g></svg>"
      ]
     },
     "execution_count": 55,
     "metadata": {},
     "output_type": "execute_result"
    }
   ],
   "source": [
    "%viz --style=\"ORTHOLINE\" --view=\"Action\" \"TradeStudyTest\""
   ]
  },
  {
   "cell_type": "code",
   "execution_count": 56,
   "id": "nonprofit-twelve",
   "metadata": {
    "execution": {
     "iopub.execute_input": "2021-03-25T13:19:25.869529Z",
     "iopub.status.busy": "2021-03-25T13:19:25.868446Z",
     "iopub.status.idle": "2021-03-25T13:19:26.017358Z",
     "shell.execute_reply": "2021-03-25T13:19:26.015555Z"
    }
   },
   "outputs": [
    {
     "data": {
      "image/svg+xml": [
       "<?xml version=\"1.0\" encoding=\"UTF-8\" standalone=\"no\"?><svg xmlns=\"http://www.w3.org/2000/svg\" xmlns:xlink=\"http://www.w3.org/1999/xlink\" contentScriptType=\"application/ecmascript\" contentStyleType=\"text/css\" height=\"497px\" preserveAspectRatio=\"none\" style=\"width:554px;height:497px;\" version=\"1.1\" viewBox=\"0 0 554 497\" width=\"554px\" zoomAndPan=\"magnify\"><defs/><g><!--MD5=[fbc87193dbaf4d95561dea2c320d4a47]\n",
       "cluster E1--><a href=\"psysml:656cfd98-5664-4901-a86b-535977508953\" target=\"_top\" title=\"psysml:656cfd98-5664-4901-a86b-535977508953\" xlink:actuate=\"onRequest\" xlink:href=\"psysml:656cfd98-5664-4901-a86b-535977508953\" xlink:show=\"new\" xlink:title=\"psysml:656cfd98-5664-4901-a86b-535977508953\" xlink:type=\"simple\"><polygon fill=\"#FFFFFF\" points=\"16,6,148,6,155,28.2969,532,28.2969,532,485,16,485,16,6\" style=\"stroke: #000000; stroke-width: 1.5;\"/><line style=\"stroke: #000000; stroke-width: 1.5;\" x1=\"16\" x2=\"155\" y1=\"28.2969\" y2=\"28.2969\"/><text fill=\"#000000\" font-family=\"sans-serif\" font-size=\"14\" font-weight=\"bold\" lengthAdjust=\"spacingAndGlyphs\" textLength=\"126\" x=\"20\" y=\"20.9951\">TradeStudyTest</text></a><!--MD5=[b4997ac47864f28c2f74865a473b2911]\n",
       "class E2--><a href=\"psysml:66c87936-3609-4f97-8f24-8ad3882372ee\" target=\"_top\" title=\"psysml:66c87936-3609-4f97-8f24-8ad3882372ee\" xlink:actuate=\"onRequest\" xlink:href=\"psysml:66c87936-3609-4f97-8f24-8ad3882372ee\" xlink:show=\"new\" xlink:title=\"psysml:66c87936-3609-4f97-8f24-8ad3882372ee\" xlink:type=\"simple\"><rect fill=\"#FFFFFF\" height=\"45.9375\" id=\"E2\" style=\"stroke: #383838; stroke-width: 1.5;\" width=\"66\" x=\"196\" y=\"423\"/><text fill=\"#000000\" font-family=\"sans-serif\" font-size=\"12\" font-style=\"italic\" lengthAdjust=\"spacingAndGlyphs\" textLength=\"64\" x=\"197\" y=\"439.1387\">«part def»</text><text fill=\"#000000\" font-family=\"sans-serif\" font-size=\"12\" lengthAdjust=\"spacingAndGlyphs\" textLength=\"43\" x=\"207.5\" y=\"453.1074\">Engine</text><line style=\"stroke: #383838; stroke-width: 1.5;\" x1=\"197\" x2=\"261\" y1=\"460.9375\" y2=\"460.9375\"/></a><!--MD5=[09b614a08d8cba4a07c9adeb5e0fee81]\n",
       "class E3--><a href=\"psysml:c974a942-078b-4d34-96c1-8ca70902d898\" target=\"_top\" title=\"psysml:c974a942-078b-4d34-96c1-8ca70902d898\" xlink:actuate=\"onRequest\" xlink:href=\"psysml:c974a942-078b-4d34-96c1-8ca70902d898\" xlink:show=\"new\" xlink:title=\"psysml:c974a942-078b-4d34-96c1-8ca70902d898\" xlink:type=\"simple\"><rect fill=\"#FFFFFF\" height=\"45.9375\" id=\"E3\" rx=\"10\" ry=\"10\" style=\"stroke: #383838; stroke-width: 1.5;\" width=\"108\" x=\"408\" y=\"316\"/><text fill=\"#000000\" font-family=\"sans-serif\" font-size=\"12\" font-style=\"italic\" lengthAdjust=\"spacingAndGlyphs\" textLength=\"40\" x=\"442\" y=\"332.1387\">«part»</text><text fill=\"#000000\" font-family=\"sans-serif\" font-size=\"12\" lengthAdjust=\"spacingAndGlyphs\" textLength=\"102\" x=\"411\" y=\"346.1074\">engine1: Engine</text><line style=\"stroke: #383838; stroke-width: 1.5;\" x1=\"409\" x2=\"515\" y1=\"353.9375\" y2=\"353.9375\"/></a><!--MD5=[ebbe1d658d1005bcc118a6aa81145e00]\n",
       "class E4--><a href=\"psysml:f4d0ec5b-d124-41e4-9ba9-3cb67b695e7c\" target=\"_top\" title=\"psysml:f4d0ec5b-d124-41e4-9ba9-3cb67b695e7c\" xlink:actuate=\"onRequest\" xlink:href=\"psysml:f4d0ec5b-d124-41e4-9ba9-3cb67b695e7c\" xlink:show=\"new\" xlink:title=\"psysml:f4d0ec5b-d124-41e4-9ba9-3cb67b695e7c\" xlink:type=\"simple\"><rect fill=\"#FFFFFF\" height=\"45.9375\" id=\"E4\" rx=\"10\" ry=\"10\" style=\"stroke: #383838; stroke-width: 1.5;\" width=\"108\" x=\"265\" y=\"316\"/><text fill=\"#000000\" font-family=\"sans-serif\" font-size=\"12\" font-style=\"italic\" lengthAdjust=\"spacingAndGlyphs\" textLength=\"40\" x=\"299\" y=\"332.1387\">«part»</text><text fill=\"#000000\" font-family=\"sans-serif\" font-size=\"12\" lengthAdjust=\"spacingAndGlyphs\" textLength=\"102\" x=\"268\" y=\"346.1074\">engine2: Engine</text><line style=\"stroke: #383838; stroke-width: 1.5;\" x1=\"266\" x2=\"372\" y1=\"353.9375\" y2=\"353.9375\"/></a><!--MD5=[270fce915f116d4de14055a7c1d9a0f3]\n",
       "class E5--><a href=\"psysml:2fd52497-3b24-4a66-a5d3-d77cdf8b2acf\" target=\"_top\" title=\"psysml:2fd52497-3b24-4a66-a5d3-d77cdf8b2acf\" xlink:actuate=\"onRequest\" xlink:href=\"psysml:2fd52497-3b24-4a66-a5d3-d77cdf8b2acf\" xlink:show=\"new\" xlink:title=\"psysml:2fd52497-3b24-4a66-a5d3-d77cdf8b2acf\" xlink:type=\"simple\"><rect fill=\"#FFFFFF\" height=\"45.9375\" id=\"E5\" rx=\"10\" ry=\"10\" style=\"stroke: #383838; stroke-width: 1.5;\" width=\"199\" x=\"237.5\" y=\"41\"/><text fill=\"#000000\" font-family=\"sans-serif\" font-size=\"12\" font-style=\"italic\" lengthAdjust=\"spacingAndGlyphs\" textLength=\"64\" x=\"305\" y=\"57.1387\">«analysis»</text><text fill=\"#000000\" font-family=\"sans-serif\" font-size=\"12\" lengthAdjust=\"spacingAndGlyphs\" textLength=\"193\" x=\"240.5\" y=\"71.1074\">engineTradeStudy: TradeStudy</text><line style=\"stroke: #383838; stroke-width: 1.5;\" x1=\"238.5\" x2=\"435.5\" y1=\"78.9375\" y2=\"78.9375\"/></a><!--MD5=[60a26617385b1d2d0262a64233df1f8d]\n",
       "class E6--><a href=\"psysml:2c27f52f-f536-4fc6-bf8d-fd6e3fd13c39\" target=\"_top\" title=\"psysml:2c27f52f-f536-4fc6-bf8d-fd6e3fd13c39\" xlink:actuate=\"onRequest\" xlink:href=\"psysml:2c27f52f-f536-4fc6-bf8d-fd6e3fd13c39\" xlink:show=\"new\" xlink:title=\"psysml:2c27f52f-f536-4fc6-bf8d-fd6e3fd13c39\" xlink:type=\"simple\"><rect fill=\"#FFFFFF\" height=\"45.9375\" id=\"E6\" rx=\"10\" ry=\"10\" style=\"stroke: #383838; stroke-width: 1.5;\" width=\"251\" x=\"76.5\" y=\"164\"/><text fill=\"#000000\" font-family=\"sans-serif\" font-size=\"12\" font-style=\"italic\" lengthAdjust=\"spacingAndGlyphs\" textLength=\"91\" x=\"156.5\" y=\"180.1387\">«requirement»</text><text fill=\"#000000\" font-family=\"sans-serif\" font-size=\"12\" lengthAdjust=\"spacingAndGlyphs\" textLength=\"245\" x=\"79.5\" y=\"194.1074\">tradeStudyObjective: MaximizeObjective</text><line style=\"stroke: #383838; stroke-width: 1.5;\" x1=\"77.5\" x2=\"326.5\" y1=\"201.9375\" y2=\"201.9375\"/></a><!--MD5=[2156ba9850f5573cc1fc38a6a4b2f02b]\n",
       "class E7--><a href=\"psysml:7b858bf3-8f8c-4105-a0db-0d0783f29576\" target=\"_top\" title=\"psysml:7b858bf3-8f8c-4105-a0db-0d0783f29576\" xlink:actuate=\"onRequest\" xlink:href=\"psysml:7b858bf3-8f8c-4105-a0db-0d0783f29576\" xlink:show=\"new\" xlink:title=\"psysml:7b858bf3-8f8c-4105-a0db-0d0783f29576\" xlink:type=\"simple\"><rect fill=\"#FFFFFF\" height=\"45.9375\" id=\"E7\" rx=\"10\" ry=\"10\" style=\"stroke: #383838; stroke-width: 1.5;\" width=\"116\" x=\"363\" y=\"164\"/><text fill=\"#000000\" font-family=\"sans-serif\" font-size=\"12\" font-style=\"italic\" lengthAdjust=\"spacingAndGlyphs\" textLength=\"82\" x=\"380\" y=\"180.1387\">«calculation»</text><text fill=\"#000000\" font-family=\"sans-serif\" font-size=\"12\" lengthAdjust=\"spacingAndGlyphs\" textLength=\"110\" x=\"366\" y=\"194.1074\">objectiveFunction</text><line style=\"stroke: #383838; stroke-width: 1.5;\" x1=\"364\" x2=\"478\" y1=\"201.9375\" y2=\"201.9375\"/></a><!--MD5=[b9389687b975829384b498ac4b7476b2]\n",
       "class E8--><a href=\"psysml:b0f7840c-11d7-45e2-a5a4-bf208bef1113\" target=\"_top\" title=\"psysml:b0f7840c-11d7-45e2-a5a4-bf208bef1113\" xlink:actuate=\"onRequest\" xlink:href=\"psysml:b0f7840c-11d7-45e2-a5a4-bf208bef1113\" xlink:show=\"new\" xlink:title=\"psysml:b0f7840c-11d7-45e2-a5a4-bf208bef1113\" xlink:type=\"simple\"><rect fill=\"#FFFFFF\" height=\"45.9375\" id=\"E8\" rx=\"10\" ry=\"10\" style=\"stroke: #383838; stroke-width: 1.5;\" width=\"124\" x=\"69\" y=\"316\"/><text fill=\"#000000\" font-family=\"sans-serif\" font-size=\"12\" font-style=\"italic\" lengthAdjust=\"spacingAndGlyphs\" textLength=\"40\" x=\"111\" y=\"332.1387\">«part»</text><text fill=\"#000000\" font-family=\"sans-serif\" font-size=\"12\" lengthAdjust=\"spacingAndGlyphs\" textLength=\"118\" x=\"72\" y=\"346.1074\">alternative: Engine</text><line style=\"stroke: #383838; stroke-width: 1.5;\" x1=\"70\" x2=\"192\" y1=\"353.9375\" y2=\"353.9375\"/></a><!--MD5=[fd4143e9d270a159db93a4ea2a975926]\n",
       "class E9--><a href=\"psysml:9d098c9e-1a7b-415f-a301-c2067e422f2c\" target=\"_top\" title=\"psysml:9d098c9e-1a7b-415f-a301-c2067e422f2c\" xlink:actuate=\"onRequest\" xlink:href=\"psysml:9d098c9e-1a7b-415f-a301-c2067e422f2c\" xlink:show=\"new\" xlink:title=\"psysml:9d098c9e-1a7b-415f-a301-c2067e422f2c\" xlink:type=\"simple\"><rect fill=\"#FFFFFF\" height=\"45.9375\" id=\"E9\" rx=\"10\" ry=\"10\" style=\"stroke: #383838; stroke-width: 1.5;\" width=\"178\" x=\"289\" y=\"240\"/><text fill=\"#000000\" font-family=\"sans-serif\" font-size=\"12\" font-style=\"italic\" lengthAdjust=\"spacingAndGlyphs\" textLength=\"40\" x=\"358\" y=\"256.1387\">«part»</text><text fill=\"#000000\" font-family=\"sans-serif\" font-size=\"12\" lengthAdjust=\"spacingAndGlyphs\" textLength=\"172\" x=\"292\" y=\"270.1074\">selectedAlternative: Engine</text><line style=\"stroke: #383838; stroke-width: 1.5;\" x1=\"290\" x2=\"466\" y1=\"277.9375\" y2=\"277.9375\"/></a><!--MD5=[05d275557350bfb9b23a4ef7222b4c39]\n",
       "link E3 to E2--><a href=\"psysml:6d15a19a-180f-471d-b762-c393731ed9f0\" target=\"_top\" title=\"psysml:6d15a19a-180f-471d-b762-c393731ed9f0\" xlink:actuate=\"onRequest\" xlink:href=\"psysml:6d15a19a-180f-471d-b762-c393731ed9f0\" xlink:show=\"new\" xlink:title=\"psysml:6d15a19a-180f-471d-b762-c393731ed9f0\" xlink:type=\"simple\"><path d=\"M462,362.22 C462,393.69 462,446 462,446 C462,446 282.38,446 282.38,446 \" fill=\"none\" id=\"E3-&gt;E2\" style=\"stroke: #383838; stroke-width: 1.0;\"/><polygon fill=\"#FFFFFF\" points=\"262.38,446,281.38,439,281.38,453,262.38,446\" style=\"stroke: #383838; stroke-width: 1.0;\"/><ellipse cx=\"287.08\" cy=\"441\" fill=\"#383838\" rx=\"2\" ry=\"2\" style=\"stroke: #383838; stroke-width: 1.0;\"/><ellipse cx=\"287.08\" cy=\"451\" fill=\"#383838\" rx=\"2\" ry=\"2\" style=\"stroke: #383838; stroke-width: 1.0;\"/></a><!--MD5=[185131fc0dcab0a4505a2ebe144e961b]\n",
       "link E4 to E2--><a href=\"psysml:247dd621-3d2a-4448-8896-ee4a55c37d47\" target=\"_top\" title=\"psysml:247dd621-3d2a-4448-8896-ee4a55c37d47\" xlink:actuate=\"onRequest\" xlink:href=\"psysml:247dd621-3d2a-4448-8896-ee4a55c37d47\" xlink:show=\"new\" xlink:title=\"psysml:247dd621-3d2a-4448-8896-ee4a55c37d47\" xlink:type=\"simple\"><path d=\"M264.73,347 C255.49,347 248.8,347 248.8,347 C248.8,347 248.8,402.79 248.8,402.79 \" fill=\"none\" id=\"E4-&gt;E2\" style=\"stroke: #383838; stroke-width: 1.0;\"/><polygon fill=\"#FFFFFF\" points=\"248.8,422.79,241.8,403.79,255.8,403.79,248.8,422.79\" style=\"stroke: #383838; stroke-width: 1.0;\"/><ellipse cx=\"243.8\" cy=\"398.09\" fill=\"#383838\" rx=\"2\" ry=\"2\" style=\"stroke: #383838; stroke-width: 1.0;\"/><ellipse cx=\"253.8\" cy=\"398.09\" fill=\"#383838\" rx=\"2\" ry=\"2\" style=\"stroke: #383838; stroke-width: 1.0;\"/></a><!--MD5=[15ebcb19ae302d9b601edb458606d402]\n",
       "link E5 to E2--><a href=\"psysml:21b7132a-f544-4487-a747-91d198ad447d\" target=\"_top\" title=\"psysml:21b7132a-f544-4487-a747-91d198ad447d\" xlink:actuate=\"onRequest\" xlink:href=\"psysml:21b7132a-f544-4487-a747-91d198ad447d\" xlink:show=\"new\" xlink:title=\"psysml:21b7132a-f544-4487-a747-91d198ad447d\" xlink:type=\"simple\"><path d=\"M339.33,87.02 C339.33,130.41 339.33,220 339.33,220 C339.33,220 222.4,220 222.4,220 C222.4,220 222.4,417.67 222.4,417.67 \" fill=\"none\" id=\"E5-&gt;E2\" style=\"stroke: #383838; stroke-width: 1.0; stroke-dasharray: 7.0,7.0;\"/><polygon fill=\"#383838\" points=\"222.4,422.67,226.4,413.67,222.4,417.67,218.4,413.67,222.4,422.67\" style=\"stroke: #383838; stroke-width: 1.0;\"/><text fill=\"#000000\" font-family=\"sans-serif\" font-size=\"13\" lengthAdjust=\"spacingAndGlyphs\" textLength=\"62\" x=\"68\" y=\"267.5669\">«subject»</text></a><!--MD5=[9120cf2e5df3bff93db8f754bbbc09b4]\n",
       "link E5 to E6--><a href=\"psysml:44ec4945-cc63-4e9d-b8df-7b9a76da0bc7\" target=\"_top\" title=\"psysml:44ec4945-cc63-4e9d-b8df-7b9a76da0bc7\" xlink:actuate=\"onRequest\" xlink:href=\"psysml:44ec4945-cc63-4e9d-b8df-7b9a76da0bc7\" xlink:show=\"new\" xlink:title=\"psysml:44ec4945-cc63-4e9d-b8df-7b9a76da0bc7\" xlink:type=\"simple\"><path d=\"M282.5,87.14 C282.5,87.14 282.5,155.97 282.5,155.97 \" fill=\"none\" id=\"E5-&gt;E6\" style=\"stroke: #383838; stroke-width: 1.0;\"/><polygon fill=\"#383838\" points=\"282.5,163.97,285.5,155.97,279.5,155.97,282.5,163.97\" style=\"stroke: #383838; stroke-width: 1.0;\"/><text fill=\"#000000\" font-family=\"sans-serif\" font-size=\"13\" lengthAdjust=\"spacingAndGlyphs\" textLength=\"73\" x=\"231\" y=\"130.0669\">«objective»</text></a><!--MD5=[452b418e7f8a40397a49b8c0a78acc5b]\n",
       "reverse link E5 to E7--><a href=\"psysml:7b858bf3-8f8c-4105-a0db-0d0783f29576\" target=\"_top\" title=\"psysml:7b858bf3-8f8c-4105-a0db-0d0783f29576\" xlink:actuate=\"onRequest\" xlink:href=\"psysml:7b858bf3-8f8c-4105-a0db-0d0783f29576\" xlink:show=\"new\" xlink:title=\"psysml:7b858bf3-8f8c-4105-a0db-0d0783f29576\" xlink:type=\"simple\"><path d=\"M399.75,100.14 C399.75,100.14 399.75,163.97 399.75,163.97 \" fill=\"none\" id=\"E5&lt;-E7\" style=\"stroke: #383838; stroke-width: 1.0;\"/><polygon fill=\"#383838\" points=\"399.75,87.14,395.75,93.14,399.75,99.14,403.75,93.14,399.75,87.14\" style=\"stroke: #383838; stroke-width: 1.0;\"/></a><!--MD5=[f1f3f9f2fc535e6147756cb86a7f2e32]\n",
       "link E8 to E2--><a href=\"psysml:2565caae-8b6e-420b-a56a-eab601fd4b55\" target=\"_top\" title=\"psysml:2565caae-8b6e-420b-a56a-eab601fd4b55\" xlink:actuate=\"onRequest\" xlink:href=\"psysml:2565caae-8b6e-420b-a56a-eab601fd4b55\" xlink:show=\"new\" xlink:title=\"psysml:2565caae-8b6e-420b-a56a-eab601fd4b55\" xlink:type=\"simple\"><path d=\"M193.38,332 C202.67,332 209.2,332 209.2,332 C209.2,332 209.2,402.93 209.2,402.93 \" fill=\"none\" id=\"E8-&gt;E2\" style=\"stroke: #383838; stroke-width: 1.0;\"/><polygon fill=\"#FFFFFF\" points=\"209.2,422.93,202.2,403.93,216.2,403.93,209.2,422.93\" style=\"stroke: #383838; stroke-width: 1.0;\"/><ellipse cx=\"204.2\" cy=\"398.23\" fill=\"#383838\" rx=\"2\" ry=\"2\" style=\"stroke: #383838; stroke-width: 1.0;\"/><ellipse cx=\"214.2\" cy=\"398.23\" fill=\"#383838\" rx=\"2\" ry=\"2\" style=\"stroke: #383838; stroke-width: 1.0;\"/></a><!--MD5=[dc164f5e8a733ab456ef1add180e9e34]\n",
       "reverse link E7 to E8--><a href=\"psysml:b0f7840c-11d7-45e2-a5a4-bf208bef1113\" target=\"_top\" title=\"psysml:b0f7840c-11d7-45e2-a5a4-bf208bef1113\" xlink:actuate=\"onRequest\" xlink:href=\"psysml:b0f7840c-11d7-45e2-a5a4-bf208bef1113\" xlink:show=\"new\" xlink:title=\"psysml:b0f7840c-11d7-45e2-a5a4-bf208bef1113\" xlink:type=\"simple\"><path d=\"M415,223.01 C415,223.01 415,230 415,230 C415,230 134.75,230 134.75,230 C134.75,230 134.75,283.89 134.75,315.88 \" fill=\"none\" id=\"E7&lt;-E8\" style=\"stroke: #383838; stroke-width: 1.0;\"/><polygon fill=\"#FFFFFF\" points=\"415,210.01,411,216.01,415,222.01,419,216.01,415,210.01\" style=\"stroke: #383838; stroke-width: 1.0;\"/></a><!--MD5=[5c3bb36fe832a92c7f0e1807dd65209d]\n",
       "link E9 to E2--><a href=\"psysml:a6aa3e55-56ca-44c6-92e8-1089eebb019a\" target=\"_top\" title=\"psysml:a6aa3e55-56ca-44c6-92e8-1089eebb019a\" xlink:actuate=\"onRequest\" xlink:href=\"psysml:a6aa3e55-56ca-44c6-92e8-1089eebb019a\" xlink:show=\"new\" xlink:title=\"psysml:a6aa3e55-56ca-44c6-92e8-1089eebb019a\" xlink:type=\"simple\"><path d=\"M288.62,263 C260.01,263 235.6,263 235.6,263 C235.6,263 235.6,402.82 235.6,402.82 \" fill=\"none\" id=\"E9-&gt;E2\" style=\"stroke: #383838; stroke-width: 1.0;\"/><polygon fill=\"#FFFFFF\" points=\"235.6,422.82,228.6,403.82,242.6,403.82,235.6,422.82\" style=\"stroke: #383838; stroke-width: 1.0;\"/><ellipse cx=\"230.6\" cy=\"398.12\" fill=\"#383838\" rx=\"2\" ry=\"2\" style=\"stroke: #383838; stroke-width: 1.0;\"/><ellipse cx=\"240.6\" cy=\"398.12\" fill=\"#383838\" rx=\"2\" ry=\"2\" style=\"stroke: #383838; stroke-width: 1.0;\"/></a><!--MD5=[9ae28de373ca99bb8a1b38d63370ca7e]\n",
       "reverse link E5 to E9--><a href=\"psysml:9d098c9e-1a7b-415f-a301-c2067e422f2c\" target=\"_top\" title=\"psysml:9d098c9e-1a7b-415f-a301-c2067e422f2c\" xlink:actuate=\"onRequest\" xlink:href=\"psysml:9d098c9e-1a7b-415f-a301-c2067e422f2c\" xlink:show=\"new\" xlink:title=\"psysml:9d098c9e-1a7b-415f-a301-c2067e422f2c\" xlink:type=\"simple\"><path d=\"M351.17,100.22 C351.17,100.22 351.17,239.93 351.17,239.93 \" fill=\"none\" id=\"E5&lt;-E9\" style=\"stroke: #383838; stroke-width: 1.0;\"/><polygon fill=\"#FFFFFF\" points=\"351.17,87.22,347.17,93.22,351.17,99.22,355.17,93.22,351.17,87.22\" style=\"stroke: #383838; stroke-width: 1.0;\"/></a><!--MD5=[6201b7a7598338314bb23645e28ffa72]\n",
       "@startuml\r\n",
       "skinparam linetype ortho\r\n",
       "skinparam monochrome true\r\n",
       "skinparam classbackgroundcolor white\r\n",
       "skinparam shadowing false\r\n",
       "skinparam wrapWidth 300\r\n",
       "hide circle\r\n",
       "\r\n",
       "package \"TradeStudyTest\" as E1  [[psysml:656cfd98-5664-4901-a86b-535977508953 ]]  {\r\n",
       "comp def \"Engine\" as E2  <<(T,blue)part def>> [[psysml:66c87936-3609-4f97-8f24-8ad3882372ee ]] {\r\n",
       "}\r\n",
       "comp usage \"engine1: Engine\" as E3  <<(T,blue)part>> [[psysml:c974a942-078b-4d34-96c1-8ca70902d898 ]] {\r\n",
       "}\r\n",
       "comp usage \"engine2: Engine\" as E4  <<(T,blue)part>> [[psysml:f4d0ec5b-d124-41e4-9ba9-3cb67b695e7c ]] {\r\n",
       "}\r\n",
       "comp usage \"engineTradeStudy: TradeStudy\" as E5 <<analysis>> [[psysml:2fd52497-3b24-4a66-a5d3-d77cdf8b2acf ]] {\r\n",
       "}\r\n",
       "comp usage \"tradeStudyObjective: MaximizeObjective\" as E6  <<(T,blue)requirement>> [[psysml:2c27f52f-f536-4fc6-bf8d-fd6e3fd13c39 ]] {\r\n",
       "}\r\n",
       "comp usage \"objectiveFunction\" as E7  <<(T,blue)calculation>> [[psysml:7b858bf3-8f8c-4105-a0db-0d0783f29576 ]] {\r\n",
       "}\r\n",
       "comp usage \"alternative: Engine\" as E8  <<(T,blue)part>> [[psysml:b0f7840c-11d7-45e2-a5a4-bf208bef1113 ]] {\r\n",
       "}\r\n",
       "comp usage \"selectedAlternative: Engine\" as E9  <<(T,blue)part>> [[psysml:9d098c9e-1a7b-415f-a301-c2067e422f2c ]] {\r\n",
       "}\r\n",
       "E3 - -:|> E2 [[psysml:6d15a19a-180f-471d-b762-c393731ed9f0 ]] \r\n",
       "E4 - -:|> E2 [[psysml:247dd621-3d2a-4448-8896-ee4a55c37d47 ]] \r\n",
       "E5 ..> E2 [[psysml:21b7132a-f544-4487-a747-91d198ad447d ]] : <<subject>>\r\n",
       "E5 - ->> E6 [[psysml:44ec4945-cc63-4e9d-b8df-7b9a76da0bc7 ]] : <<objective>>\r\n",
       "E5 *- - E7 [[psysml:7b858bf3-8f8c-4105-a0db-0d0783f29576 ]] \r\n",
       "E8 - -:|> E2 [[psysml:2565caae-8b6e-420b-a56a-eab601fd4b55 ]] \r\n",
       "E7 o- - E8 [[psysml:b0f7840c-11d7-45e2-a5a4-bf208bef1113 ]] \r\n",
       "E9 - -:|> E2 [[psysml:a6aa3e55-56ca-44c6-92e8-1089eebb019a ]] \r\n",
       "E5 o- - E9 [[psysml:9d098c9e-1a7b-415f-a301-c2067e422f2c ]] \r\n",
       "}\r\n",
       "@enduml\r\n",
       "\n",
       "PlantUML version 1.2020.13(Sat Jun 13 12:26:38 UTC 2020)\n",
       "(EPL source distribution)\n",
       "Java Runtime: OpenJDK Runtime Environment\n",
       "JVM: OpenJDK 64-Bit Server VM\n",
       "Default Encoding: UTF-8\n",
       "Language: en\n",
       "Country: null\n",
       "--></g></svg>"
      ]
     },
     "execution_count": 56,
     "metadata": {},
     "output_type": "execute_result"
    }
   ],
   "source": [
    "%viz --style=\"ORTHOLINE\" --view=\"Sequence\" \"TradeStudyTest\""
   ]
  },
  {
   "cell_type": "code",
   "execution_count": 57,
   "id": "phantom-legislation",
   "metadata": {
    "execution": {
     "iopub.execute_input": "2021-03-25T13:19:26.070148Z",
     "iopub.status.busy": "2021-03-25T13:19:26.066879Z",
     "iopub.status.idle": "2021-03-25T13:19:26.217137Z",
     "shell.execute_reply": "2021-03-25T13:19:26.215270Z"
    }
   },
   "outputs": [
    {
     "data": {
      "image/svg+xml": [
       "<?xml version=\"1.0\" encoding=\"UTF-8\" standalone=\"no\"?><svg xmlns=\"http://www.w3.org/2000/svg\" xmlns:xlink=\"http://www.w3.org/1999/xlink\" contentScriptType=\"application/ecmascript\" contentStyleType=\"text/css\" height=\"497px\" preserveAspectRatio=\"none\" style=\"width:554px;height:497px;\" version=\"1.1\" viewBox=\"0 0 554 497\" width=\"554px\" zoomAndPan=\"magnify\"><defs/><g><!--MD5=[fbc87193dbaf4d95561dea2c320d4a47]\n",
       "cluster E1--><a href=\"psysml:656cfd98-5664-4901-a86b-535977508953\" target=\"_top\" title=\"psysml:656cfd98-5664-4901-a86b-535977508953\" xlink:actuate=\"onRequest\" xlink:href=\"psysml:656cfd98-5664-4901-a86b-535977508953\" xlink:show=\"new\" xlink:title=\"psysml:656cfd98-5664-4901-a86b-535977508953\" xlink:type=\"simple\"><polygon fill=\"#FFFFFF\" points=\"16,6,148,6,155,28.2969,532,28.2969,532,485,16,485,16,6\" style=\"stroke: #000000; stroke-width: 1.5;\"/><line style=\"stroke: #000000; stroke-width: 1.5;\" x1=\"16\" x2=\"155\" y1=\"28.2969\" y2=\"28.2969\"/><text fill=\"#000000\" font-family=\"sans-serif\" font-size=\"14\" font-weight=\"bold\" lengthAdjust=\"spacingAndGlyphs\" textLength=\"126\" x=\"20\" y=\"20.9951\">TradeStudyTest</text></a><!--MD5=[b4997ac47864f28c2f74865a473b2911]\n",
       "class E2--><a href=\"psysml:66c87936-3609-4f97-8f24-8ad3882372ee\" target=\"_top\" title=\"psysml:66c87936-3609-4f97-8f24-8ad3882372ee\" xlink:actuate=\"onRequest\" xlink:href=\"psysml:66c87936-3609-4f97-8f24-8ad3882372ee\" xlink:show=\"new\" xlink:title=\"psysml:66c87936-3609-4f97-8f24-8ad3882372ee\" xlink:type=\"simple\"><rect fill=\"#FFFFFF\" height=\"45.9375\" id=\"E2\" style=\"stroke: #383838; stroke-width: 1.5;\" width=\"66\" x=\"196\" y=\"423\"/><text fill=\"#000000\" font-family=\"sans-serif\" font-size=\"12\" font-style=\"italic\" lengthAdjust=\"spacingAndGlyphs\" textLength=\"64\" x=\"197\" y=\"439.1387\">«part def»</text><text fill=\"#000000\" font-family=\"sans-serif\" font-size=\"12\" lengthAdjust=\"spacingAndGlyphs\" textLength=\"43\" x=\"207.5\" y=\"453.1074\">Engine</text><line style=\"stroke: #383838; stroke-width: 1.5;\" x1=\"197\" x2=\"261\" y1=\"460.9375\" y2=\"460.9375\"/></a><!--MD5=[09b614a08d8cba4a07c9adeb5e0fee81]\n",
       "class E3--><a href=\"psysml:c974a942-078b-4d34-96c1-8ca70902d898\" target=\"_top\" title=\"psysml:c974a942-078b-4d34-96c1-8ca70902d898\" xlink:actuate=\"onRequest\" xlink:href=\"psysml:c974a942-078b-4d34-96c1-8ca70902d898\" xlink:show=\"new\" xlink:title=\"psysml:c974a942-078b-4d34-96c1-8ca70902d898\" xlink:type=\"simple\"><rect fill=\"#FFFFFF\" height=\"45.9375\" id=\"E3\" rx=\"10\" ry=\"10\" style=\"stroke: #383838; stroke-width: 1.5;\" width=\"108\" x=\"408\" y=\"316\"/><text fill=\"#000000\" font-family=\"sans-serif\" font-size=\"12\" font-style=\"italic\" lengthAdjust=\"spacingAndGlyphs\" textLength=\"40\" x=\"442\" y=\"332.1387\">«part»</text><text fill=\"#000000\" font-family=\"sans-serif\" font-size=\"12\" lengthAdjust=\"spacingAndGlyphs\" textLength=\"102\" x=\"411\" y=\"346.1074\">engine1: Engine</text><line style=\"stroke: #383838; stroke-width: 1.5;\" x1=\"409\" x2=\"515\" y1=\"353.9375\" y2=\"353.9375\"/></a><!--MD5=[ebbe1d658d1005bcc118a6aa81145e00]\n",
       "class E4--><a href=\"psysml:f4d0ec5b-d124-41e4-9ba9-3cb67b695e7c\" target=\"_top\" title=\"psysml:f4d0ec5b-d124-41e4-9ba9-3cb67b695e7c\" xlink:actuate=\"onRequest\" xlink:href=\"psysml:f4d0ec5b-d124-41e4-9ba9-3cb67b695e7c\" xlink:show=\"new\" xlink:title=\"psysml:f4d0ec5b-d124-41e4-9ba9-3cb67b695e7c\" xlink:type=\"simple\"><rect fill=\"#FFFFFF\" height=\"45.9375\" id=\"E4\" rx=\"10\" ry=\"10\" style=\"stroke: #383838; stroke-width: 1.5;\" width=\"108\" x=\"265\" y=\"316\"/><text fill=\"#000000\" font-family=\"sans-serif\" font-size=\"12\" font-style=\"italic\" lengthAdjust=\"spacingAndGlyphs\" textLength=\"40\" x=\"299\" y=\"332.1387\">«part»</text><text fill=\"#000000\" font-family=\"sans-serif\" font-size=\"12\" lengthAdjust=\"spacingAndGlyphs\" textLength=\"102\" x=\"268\" y=\"346.1074\">engine2: Engine</text><line style=\"stroke: #383838; stroke-width: 1.5;\" x1=\"266\" x2=\"372\" y1=\"353.9375\" y2=\"353.9375\"/></a><!--MD5=[270fce915f116d4de14055a7c1d9a0f3]\n",
       "class E5--><a href=\"psysml:2fd52497-3b24-4a66-a5d3-d77cdf8b2acf\" target=\"_top\" title=\"psysml:2fd52497-3b24-4a66-a5d3-d77cdf8b2acf\" xlink:actuate=\"onRequest\" xlink:href=\"psysml:2fd52497-3b24-4a66-a5d3-d77cdf8b2acf\" xlink:show=\"new\" xlink:title=\"psysml:2fd52497-3b24-4a66-a5d3-d77cdf8b2acf\" xlink:type=\"simple\"><rect fill=\"#FFFFFF\" height=\"45.9375\" id=\"E5\" rx=\"10\" ry=\"10\" style=\"stroke: #383838; stroke-width: 1.5;\" width=\"199\" x=\"237.5\" y=\"41\"/><text fill=\"#000000\" font-family=\"sans-serif\" font-size=\"12\" font-style=\"italic\" lengthAdjust=\"spacingAndGlyphs\" textLength=\"64\" x=\"305\" y=\"57.1387\">«analysis»</text><text fill=\"#000000\" font-family=\"sans-serif\" font-size=\"12\" lengthAdjust=\"spacingAndGlyphs\" textLength=\"193\" x=\"240.5\" y=\"71.1074\">engineTradeStudy: TradeStudy</text><line style=\"stroke: #383838; stroke-width: 1.5;\" x1=\"238.5\" x2=\"435.5\" y1=\"78.9375\" y2=\"78.9375\"/></a><!--MD5=[60a26617385b1d2d0262a64233df1f8d]\n",
       "class E6--><a href=\"psysml:2c27f52f-f536-4fc6-bf8d-fd6e3fd13c39\" target=\"_top\" title=\"psysml:2c27f52f-f536-4fc6-bf8d-fd6e3fd13c39\" xlink:actuate=\"onRequest\" xlink:href=\"psysml:2c27f52f-f536-4fc6-bf8d-fd6e3fd13c39\" xlink:show=\"new\" xlink:title=\"psysml:2c27f52f-f536-4fc6-bf8d-fd6e3fd13c39\" xlink:type=\"simple\"><rect fill=\"#FFFFFF\" height=\"45.9375\" id=\"E6\" rx=\"10\" ry=\"10\" style=\"stroke: #383838; stroke-width: 1.5;\" width=\"251\" x=\"76.5\" y=\"164\"/><text fill=\"#000000\" font-family=\"sans-serif\" font-size=\"12\" font-style=\"italic\" lengthAdjust=\"spacingAndGlyphs\" textLength=\"91\" x=\"156.5\" y=\"180.1387\">«requirement»</text><text fill=\"#000000\" font-family=\"sans-serif\" font-size=\"12\" lengthAdjust=\"spacingAndGlyphs\" textLength=\"245\" x=\"79.5\" y=\"194.1074\">tradeStudyObjective: MaximizeObjective</text><line style=\"stroke: #383838; stroke-width: 1.5;\" x1=\"77.5\" x2=\"326.5\" y1=\"201.9375\" y2=\"201.9375\"/></a><!--MD5=[2156ba9850f5573cc1fc38a6a4b2f02b]\n",
       "class E7--><a href=\"psysml:7b858bf3-8f8c-4105-a0db-0d0783f29576\" target=\"_top\" title=\"psysml:7b858bf3-8f8c-4105-a0db-0d0783f29576\" xlink:actuate=\"onRequest\" xlink:href=\"psysml:7b858bf3-8f8c-4105-a0db-0d0783f29576\" xlink:show=\"new\" xlink:title=\"psysml:7b858bf3-8f8c-4105-a0db-0d0783f29576\" xlink:type=\"simple\"><rect fill=\"#FFFFFF\" height=\"45.9375\" id=\"E7\" rx=\"10\" ry=\"10\" style=\"stroke: #383838; stroke-width: 1.5;\" width=\"116\" x=\"363\" y=\"164\"/><text fill=\"#000000\" font-family=\"sans-serif\" font-size=\"12\" font-style=\"italic\" lengthAdjust=\"spacingAndGlyphs\" textLength=\"82\" x=\"380\" y=\"180.1387\">«calculation»</text><text fill=\"#000000\" font-family=\"sans-serif\" font-size=\"12\" lengthAdjust=\"spacingAndGlyphs\" textLength=\"110\" x=\"366\" y=\"194.1074\">objectiveFunction</text><line style=\"stroke: #383838; stroke-width: 1.5;\" x1=\"364\" x2=\"478\" y1=\"201.9375\" y2=\"201.9375\"/></a><!--MD5=[b9389687b975829384b498ac4b7476b2]\n",
       "class E8--><a href=\"psysml:b0f7840c-11d7-45e2-a5a4-bf208bef1113\" target=\"_top\" title=\"psysml:b0f7840c-11d7-45e2-a5a4-bf208bef1113\" xlink:actuate=\"onRequest\" xlink:href=\"psysml:b0f7840c-11d7-45e2-a5a4-bf208bef1113\" xlink:show=\"new\" xlink:title=\"psysml:b0f7840c-11d7-45e2-a5a4-bf208bef1113\" xlink:type=\"simple\"><rect fill=\"#FFFFFF\" height=\"45.9375\" id=\"E8\" rx=\"10\" ry=\"10\" style=\"stroke: #383838; stroke-width: 1.5;\" width=\"124\" x=\"69\" y=\"316\"/><text fill=\"#000000\" font-family=\"sans-serif\" font-size=\"12\" font-style=\"italic\" lengthAdjust=\"spacingAndGlyphs\" textLength=\"40\" x=\"111\" y=\"332.1387\">«part»</text><text fill=\"#000000\" font-family=\"sans-serif\" font-size=\"12\" lengthAdjust=\"spacingAndGlyphs\" textLength=\"118\" x=\"72\" y=\"346.1074\">alternative: Engine</text><line style=\"stroke: #383838; stroke-width: 1.5;\" x1=\"70\" x2=\"192\" y1=\"353.9375\" y2=\"353.9375\"/></a><!--MD5=[fd4143e9d270a159db93a4ea2a975926]\n",
       "class E9--><a href=\"psysml:9d098c9e-1a7b-415f-a301-c2067e422f2c\" target=\"_top\" title=\"psysml:9d098c9e-1a7b-415f-a301-c2067e422f2c\" xlink:actuate=\"onRequest\" xlink:href=\"psysml:9d098c9e-1a7b-415f-a301-c2067e422f2c\" xlink:show=\"new\" xlink:title=\"psysml:9d098c9e-1a7b-415f-a301-c2067e422f2c\" xlink:type=\"simple\"><rect fill=\"#FFFFFF\" height=\"45.9375\" id=\"E9\" rx=\"10\" ry=\"10\" style=\"stroke: #383838; stroke-width: 1.5;\" width=\"178\" x=\"289\" y=\"240\"/><text fill=\"#000000\" font-family=\"sans-serif\" font-size=\"12\" font-style=\"italic\" lengthAdjust=\"spacingAndGlyphs\" textLength=\"40\" x=\"358\" y=\"256.1387\">«part»</text><text fill=\"#000000\" font-family=\"sans-serif\" font-size=\"12\" lengthAdjust=\"spacingAndGlyphs\" textLength=\"172\" x=\"292\" y=\"270.1074\">selectedAlternative: Engine</text><line style=\"stroke: #383838; stroke-width: 1.5;\" x1=\"290\" x2=\"466\" y1=\"277.9375\" y2=\"277.9375\"/></a><!--MD5=[05d275557350bfb9b23a4ef7222b4c39]\n",
       "link E3 to E2--><a href=\"psysml:6d15a19a-180f-471d-b762-c393731ed9f0\" target=\"_top\" title=\"psysml:6d15a19a-180f-471d-b762-c393731ed9f0\" xlink:actuate=\"onRequest\" xlink:href=\"psysml:6d15a19a-180f-471d-b762-c393731ed9f0\" xlink:show=\"new\" xlink:title=\"psysml:6d15a19a-180f-471d-b762-c393731ed9f0\" xlink:type=\"simple\"><path d=\"M462,362.22 C462,393.69 462,446 462,446 C462,446 282.38,446 282.38,446 \" fill=\"none\" id=\"E3-&gt;E2\" style=\"stroke: #383838; stroke-width: 1.0;\"/><polygon fill=\"#FFFFFF\" points=\"262.38,446,281.38,439,281.38,453,262.38,446\" style=\"stroke: #383838; stroke-width: 1.0;\"/><ellipse cx=\"287.08\" cy=\"441\" fill=\"#383838\" rx=\"2\" ry=\"2\" style=\"stroke: #383838; stroke-width: 1.0;\"/><ellipse cx=\"287.08\" cy=\"451\" fill=\"#383838\" rx=\"2\" ry=\"2\" style=\"stroke: #383838; stroke-width: 1.0;\"/></a><!--MD5=[185131fc0dcab0a4505a2ebe144e961b]\n",
       "link E4 to E2--><a href=\"psysml:247dd621-3d2a-4448-8896-ee4a55c37d47\" target=\"_top\" title=\"psysml:247dd621-3d2a-4448-8896-ee4a55c37d47\" xlink:actuate=\"onRequest\" xlink:href=\"psysml:247dd621-3d2a-4448-8896-ee4a55c37d47\" xlink:show=\"new\" xlink:title=\"psysml:247dd621-3d2a-4448-8896-ee4a55c37d47\" xlink:type=\"simple\"><path d=\"M264.73,347 C255.49,347 248.8,347 248.8,347 C248.8,347 248.8,402.79 248.8,402.79 \" fill=\"none\" id=\"E4-&gt;E2\" style=\"stroke: #383838; stroke-width: 1.0;\"/><polygon fill=\"#FFFFFF\" points=\"248.8,422.79,241.8,403.79,255.8,403.79,248.8,422.79\" style=\"stroke: #383838; stroke-width: 1.0;\"/><ellipse cx=\"243.8\" cy=\"398.09\" fill=\"#383838\" rx=\"2\" ry=\"2\" style=\"stroke: #383838; stroke-width: 1.0;\"/><ellipse cx=\"253.8\" cy=\"398.09\" fill=\"#383838\" rx=\"2\" ry=\"2\" style=\"stroke: #383838; stroke-width: 1.0;\"/></a><!--MD5=[15ebcb19ae302d9b601edb458606d402]\n",
       "link E5 to E2--><a href=\"psysml:21b7132a-f544-4487-a747-91d198ad447d\" target=\"_top\" title=\"psysml:21b7132a-f544-4487-a747-91d198ad447d\" xlink:actuate=\"onRequest\" xlink:href=\"psysml:21b7132a-f544-4487-a747-91d198ad447d\" xlink:show=\"new\" xlink:title=\"psysml:21b7132a-f544-4487-a747-91d198ad447d\" xlink:type=\"simple\"><path d=\"M339.33,87.02 C339.33,130.41 339.33,220 339.33,220 C339.33,220 222.4,220 222.4,220 C222.4,220 222.4,417.67 222.4,417.67 \" fill=\"none\" id=\"E5-&gt;E2\" style=\"stroke: #383838; stroke-width: 1.0; stroke-dasharray: 7.0,7.0;\"/><polygon fill=\"#383838\" points=\"222.4,422.67,226.4,413.67,222.4,417.67,218.4,413.67,222.4,422.67\" style=\"stroke: #383838; stroke-width: 1.0;\"/><text fill=\"#000000\" font-family=\"sans-serif\" font-size=\"13\" lengthAdjust=\"spacingAndGlyphs\" textLength=\"62\" x=\"68\" y=\"267.5669\">«subject»</text></a><!--MD5=[9120cf2e5df3bff93db8f754bbbc09b4]\n",
       "link E5 to E6--><a href=\"psysml:44ec4945-cc63-4e9d-b8df-7b9a76da0bc7\" target=\"_top\" title=\"psysml:44ec4945-cc63-4e9d-b8df-7b9a76da0bc7\" xlink:actuate=\"onRequest\" xlink:href=\"psysml:44ec4945-cc63-4e9d-b8df-7b9a76da0bc7\" xlink:show=\"new\" xlink:title=\"psysml:44ec4945-cc63-4e9d-b8df-7b9a76da0bc7\" xlink:type=\"simple\"><path d=\"M282.5,87.14 C282.5,87.14 282.5,155.97 282.5,155.97 \" fill=\"none\" id=\"E5-&gt;E6\" style=\"stroke: #383838; stroke-width: 1.0;\"/><polygon fill=\"#383838\" points=\"282.5,163.97,285.5,155.97,279.5,155.97,282.5,163.97\" style=\"stroke: #383838; stroke-width: 1.0;\"/><text fill=\"#000000\" font-family=\"sans-serif\" font-size=\"13\" lengthAdjust=\"spacingAndGlyphs\" textLength=\"73\" x=\"231\" y=\"130.0669\">«objective»</text></a><!--MD5=[452b418e7f8a40397a49b8c0a78acc5b]\n",
       "reverse link E5 to E7--><a href=\"psysml:7b858bf3-8f8c-4105-a0db-0d0783f29576\" target=\"_top\" title=\"psysml:7b858bf3-8f8c-4105-a0db-0d0783f29576\" xlink:actuate=\"onRequest\" xlink:href=\"psysml:7b858bf3-8f8c-4105-a0db-0d0783f29576\" xlink:show=\"new\" xlink:title=\"psysml:7b858bf3-8f8c-4105-a0db-0d0783f29576\" xlink:type=\"simple\"><path d=\"M399.75,100.14 C399.75,100.14 399.75,163.97 399.75,163.97 \" fill=\"none\" id=\"E5&lt;-E7\" style=\"stroke: #383838; stroke-width: 1.0;\"/><polygon fill=\"#383838\" points=\"399.75,87.14,395.75,93.14,399.75,99.14,403.75,93.14,399.75,87.14\" style=\"stroke: #383838; stroke-width: 1.0;\"/></a><!--MD5=[f1f3f9f2fc535e6147756cb86a7f2e32]\n",
       "link E8 to E2--><a href=\"psysml:2565caae-8b6e-420b-a56a-eab601fd4b55\" target=\"_top\" title=\"psysml:2565caae-8b6e-420b-a56a-eab601fd4b55\" xlink:actuate=\"onRequest\" xlink:href=\"psysml:2565caae-8b6e-420b-a56a-eab601fd4b55\" xlink:show=\"new\" xlink:title=\"psysml:2565caae-8b6e-420b-a56a-eab601fd4b55\" xlink:type=\"simple\"><path d=\"M193.38,332 C202.67,332 209.2,332 209.2,332 C209.2,332 209.2,402.93 209.2,402.93 \" fill=\"none\" id=\"E8-&gt;E2\" style=\"stroke: #383838; stroke-width: 1.0;\"/><polygon fill=\"#FFFFFF\" points=\"209.2,422.93,202.2,403.93,216.2,403.93,209.2,422.93\" style=\"stroke: #383838; stroke-width: 1.0;\"/><ellipse cx=\"204.2\" cy=\"398.23\" fill=\"#383838\" rx=\"2\" ry=\"2\" style=\"stroke: #383838; stroke-width: 1.0;\"/><ellipse cx=\"214.2\" cy=\"398.23\" fill=\"#383838\" rx=\"2\" ry=\"2\" style=\"stroke: #383838; stroke-width: 1.0;\"/></a><!--MD5=[dc164f5e8a733ab456ef1add180e9e34]\n",
       "reverse link E7 to E8--><a href=\"psysml:b0f7840c-11d7-45e2-a5a4-bf208bef1113\" target=\"_top\" title=\"psysml:b0f7840c-11d7-45e2-a5a4-bf208bef1113\" xlink:actuate=\"onRequest\" xlink:href=\"psysml:b0f7840c-11d7-45e2-a5a4-bf208bef1113\" xlink:show=\"new\" xlink:title=\"psysml:b0f7840c-11d7-45e2-a5a4-bf208bef1113\" xlink:type=\"simple\"><path d=\"M415,223.01 C415,223.01 415,230 415,230 C415,230 134.75,230 134.75,230 C134.75,230 134.75,283.89 134.75,315.88 \" fill=\"none\" id=\"E7&lt;-E8\" style=\"stroke: #383838; stroke-width: 1.0;\"/><polygon fill=\"#FFFFFF\" points=\"415,210.01,411,216.01,415,222.01,419,216.01,415,210.01\" style=\"stroke: #383838; stroke-width: 1.0;\"/></a><!--MD5=[5c3bb36fe832a92c7f0e1807dd65209d]\n",
       "link E9 to E2--><a href=\"psysml:a6aa3e55-56ca-44c6-92e8-1089eebb019a\" target=\"_top\" title=\"psysml:a6aa3e55-56ca-44c6-92e8-1089eebb019a\" xlink:actuate=\"onRequest\" xlink:href=\"psysml:a6aa3e55-56ca-44c6-92e8-1089eebb019a\" xlink:show=\"new\" xlink:title=\"psysml:a6aa3e55-56ca-44c6-92e8-1089eebb019a\" xlink:type=\"simple\"><path d=\"M288.62,263 C260.01,263 235.6,263 235.6,263 C235.6,263 235.6,402.82 235.6,402.82 \" fill=\"none\" id=\"E9-&gt;E2\" style=\"stroke: #383838; stroke-width: 1.0;\"/><polygon fill=\"#FFFFFF\" points=\"235.6,422.82,228.6,403.82,242.6,403.82,235.6,422.82\" style=\"stroke: #383838; stroke-width: 1.0;\"/><ellipse cx=\"230.6\" cy=\"398.12\" fill=\"#383838\" rx=\"2\" ry=\"2\" style=\"stroke: #383838; stroke-width: 1.0;\"/><ellipse cx=\"240.6\" cy=\"398.12\" fill=\"#383838\" rx=\"2\" ry=\"2\" style=\"stroke: #383838; stroke-width: 1.0;\"/></a><!--MD5=[9ae28de373ca99bb8a1b38d63370ca7e]\n",
       "reverse link E5 to E9--><a href=\"psysml:9d098c9e-1a7b-415f-a301-c2067e422f2c\" target=\"_top\" title=\"psysml:9d098c9e-1a7b-415f-a301-c2067e422f2c\" xlink:actuate=\"onRequest\" xlink:href=\"psysml:9d098c9e-1a7b-415f-a301-c2067e422f2c\" xlink:show=\"new\" xlink:title=\"psysml:9d098c9e-1a7b-415f-a301-c2067e422f2c\" xlink:type=\"simple\"><path d=\"M351.17,100.22 C351.17,100.22 351.17,239.93 351.17,239.93 \" fill=\"none\" id=\"E5&lt;-E9\" style=\"stroke: #383838; stroke-width: 1.0;\"/><polygon fill=\"#FFFFFF\" points=\"351.17,87.22,347.17,93.22,351.17,99.22,355.17,93.22,351.17,87.22\" style=\"stroke: #383838; stroke-width: 1.0;\"/></a><!--MD5=[6201b7a7598338314bb23645e28ffa72]\n",
       "@startuml\r\n",
       "skinparam linetype ortho\r\n",
       "skinparam monochrome true\r\n",
       "skinparam classbackgroundcolor white\r\n",
       "skinparam shadowing false\r\n",
       "skinparam wrapWidth 300\r\n",
       "hide circle\r\n",
       "\r\n",
       "package \"TradeStudyTest\" as E1  [[psysml:656cfd98-5664-4901-a86b-535977508953 ]]  {\r\n",
       "comp def \"Engine\" as E2  <<(T,blue)part def>> [[psysml:66c87936-3609-4f97-8f24-8ad3882372ee ]] {\r\n",
       "}\r\n",
       "comp usage \"engine1: Engine\" as E3  <<(T,blue)part>> [[psysml:c974a942-078b-4d34-96c1-8ca70902d898 ]] {\r\n",
       "}\r\n",
       "comp usage \"engine2: Engine\" as E4  <<(T,blue)part>> [[psysml:f4d0ec5b-d124-41e4-9ba9-3cb67b695e7c ]] {\r\n",
       "}\r\n",
       "comp usage \"engineTradeStudy: TradeStudy\" as E5 <<analysis>> [[psysml:2fd52497-3b24-4a66-a5d3-d77cdf8b2acf ]] {\r\n",
       "}\r\n",
       "comp usage \"tradeStudyObjective: MaximizeObjective\" as E6  <<(T,blue)requirement>> [[psysml:2c27f52f-f536-4fc6-bf8d-fd6e3fd13c39 ]] {\r\n",
       "}\r\n",
       "comp usage \"objectiveFunction\" as E7  <<(T,blue)calculation>> [[psysml:7b858bf3-8f8c-4105-a0db-0d0783f29576 ]] {\r\n",
       "}\r\n",
       "comp usage \"alternative: Engine\" as E8  <<(T,blue)part>> [[psysml:b0f7840c-11d7-45e2-a5a4-bf208bef1113 ]] {\r\n",
       "}\r\n",
       "comp usage \"selectedAlternative: Engine\" as E9  <<(T,blue)part>> [[psysml:9d098c9e-1a7b-415f-a301-c2067e422f2c ]] {\r\n",
       "}\r\n",
       "E3 - -:|> E2 [[psysml:6d15a19a-180f-471d-b762-c393731ed9f0 ]] \r\n",
       "E4 - -:|> E2 [[psysml:247dd621-3d2a-4448-8896-ee4a55c37d47 ]] \r\n",
       "E5 ..> E2 [[psysml:21b7132a-f544-4487-a747-91d198ad447d ]] : <<subject>>\r\n",
       "E5 - ->> E6 [[psysml:44ec4945-cc63-4e9d-b8df-7b9a76da0bc7 ]] : <<objective>>\r\n",
       "E5 *- - E7 [[psysml:7b858bf3-8f8c-4105-a0db-0d0783f29576 ]] \r\n",
       "E8 - -:|> E2 [[psysml:2565caae-8b6e-420b-a56a-eab601fd4b55 ]] \r\n",
       "E7 o- - E8 [[psysml:b0f7840c-11d7-45e2-a5a4-bf208bef1113 ]] \r\n",
       "E9 - -:|> E2 [[psysml:a6aa3e55-56ca-44c6-92e8-1089eebb019a ]] \r\n",
       "E5 o- - E9 [[psysml:9d098c9e-1a7b-415f-a301-c2067e422f2c ]] \r\n",
       "}\r\n",
       "@enduml\r\n",
       "\n",
       "PlantUML version 1.2020.13(Sat Jun 13 12:26:38 UTC 2020)\n",
       "(EPL source distribution)\n",
       "Java Runtime: OpenJDK Runtime Environment\n",
       "JVM: OpenJDK 64-Bit Server VM\n",
       "Default Encoding: UTF-8\n",
       "Language: en\n",
       "Country: null\n",
       "--></g></svg>"
      ]
     },
     "execution_count": 57,
     "metadata": {},
     "output_type": "execute_result"
    }
   ],
   "source": [
    "%viz --style=\"ORTHOLINE\" --view=\"MIXED\" \"TradeStudyTest\""
   ]
  }
 ],
 "metadata": {
  "kernelspec": {
   "display_name": "SysML",
   "language": "sysml",
   "name": "sysml"
  },
  "language_info": {
   "codemirror_mode": "sysml",
   "file_extension": ".sysml",
   "mimetype": "text/x-sysml",
   "name": "SysML",
   "pygments_lexer": "java",
   "version": "1.0.0"
  }
 },
 "nbformat": 4,
 "nbformat_minor": 5
}
