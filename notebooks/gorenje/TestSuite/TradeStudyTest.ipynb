{
 "cells": [
  {
   "cell_type": "markdown",
   "id": "23daa616",
   "metadata": {},
   "source": [
    "# SysML v2 Test Suite\n",
    "\n",
    "This can notebook can be cleared using menu `Edit --> Clear All Outputs` and then all cells can be\n",
    "run using menu `Run --> Run All Cells`.\n",
    "\n",
    "**WARNING**: This file is generated, all modifications here will be ignored.\n"
   ]
  },
  {
   "cell_type": "markdown",
   "id": "7a6b9f7a",
   "metadata": {},
   "source": [
    "## File: ../../sysml/src/examples/Simple Tests/TradeStudyTest.sysml"
   ]
  },
  {
   "cell_type": "code",
   "execution_count": 1,
   "id": "2a14c1fb",
   "metadata": {
    "execution": {
     "iopub.execute_input": "2024-12-16T14:21:06.135327Z",
     "iopub.status.busy": "2024-12-16T14:21:06.134854Z",
     "iopub.status.idle": "2024-12-16T14:21:06.559830Z",
     "shell.execute_reply": "2024-12-16T14:21:06.559582Z"
    }
   },
   "outputs": [
    {
     "data": {
      "text/plain": [
       "Package TradeStudyTest (a91f55f8-3969-42e6-b46f-82de9da3fdc7)\n"
      ]
     },
     "execution_count": 1,
     "metadata": {},
     "output_type": "execute_result"
    }
   ],
   "source": [
    "package TradeStudyTest {\n",
    "\tprivate import ScalarValues::Real;\n",
    "\tprivate import TradeStudies::*;\n",
    "\t\n",
    "\tpart def Engine;\n",
    "\tpart engine1: Engine;\n",
    "\tpart engine2: Engine;\n",
    "\t\n",
    "\tanalysis engineTradeStudy : TradeStudy {\n",
    "\t\tsubject : Engine[1..*] = (engine1, engine2);\n",
    "\t\tobjective : MaximizeObjective;\n",
    "\n",
    "\t\tcalc :>> evaluationFunction {\n",
    "\t\t\tin part : Engine;\n",
    "\t\t\treturn : Real;\n",
    "\t\t}\n",
    "\t\t\n",
    "\t\treturn part : Engine;\n",
    "\t}\n",
    "\t\n",
    "}"
   ]
  },
  {
   "cell_type": "code",
   "execution_count": 2,
   "id": "43e793e5",
   "metadata": {
    "execution": {
     "iopub.execute_input": "2024-12-16T14:21:06.612189Z",
     "iopub.status.busy": "2024-12-16T14:21:06.611959Z",
     "iopub.status.idle": "2024-12-16T14:21:07.035729Z",
     "shell.execute_reply": "2024-12-16T14:21:07.035544Z"
    }
   },
   "outputs": [
    {
     "data": {
      "image/svg+xml": [
       "<?xml version=\"1.0\" encoding=\"UTF-8\" standalone=\"no\"?><svg xmlns=\"http://www.w3.org/2000/svg\" xmlns:xlink=\"http://www.w3.org/1999/xlink\" contentStyleType=\"text/css\" height=\"538px\" preserveAspectRatio=\"none\" style=\"width:570px;height:538px;background:#FFFFFF;\" version=\"1.1\" viewBox=\"0 0 570 538\" width=\"570px\" zoomAndPan=\"magnify\"><defs/><g><!--MD5=[fbc87193dbaf4d95561dea2c320d4a47]\n",
       "cluster E1--><g id=\"cluster_E1\"><a href=\"psysml:a91f55f8-3969-42e6-b46f-82de9da3fdc7\" target=\"_top\" title=\"psysml:a91f55f8-3969-42e6-b46f-82de9da3fdc7\" xlink:actuate=\"onRequest\" xlink:href=\"psysml:a91f55f8-3969-42e6-b46f-82de9da3fdc7\" xlink:show=\"new\" xlink:title=\"psysml:a91f55f8-3969-42e6-b46f-82de9da3fdc7\" xlink:type=\"simple\"><polygon fill=\"none\" points=\"16,6,138.125,6,145.125,28.2969,553,28.2969,553,531,16,531,16,6\" style=\"stroke:#000000;stroke-width:1.5;\"/><line style=\"stroke:#000000;stroke-width:1.5;\" x1=\"16\" x2=\"145.125\" y1=\"28.2969\" y2=\"28.2969\"/><text fill=\"#000000\" font-family=\"sans-serif\" font-size=\"14\" font-weight=\"bold\" lengthAdjust=\"spacing\" textLength=\"116.125\" x=\"20\" y=\"20.9951\">TradeStudyTest</text></a></g><!--MD5=[de5ec2e2e8f62f467e546659f5068c88]\n",
       "cluster E5--><g id=\"cluster_E5\"><a href=\"psysml:538ece1f-cb66-4e09-817f-0abcddd62ddd\" target=\"_top\" title=\"psysml:538ece1f-cb66-4e09-817f-0abcddd62ddd\" xlink:actuate=\"onRequest\" xlink:href=\"psysml:538ece1f-cb66-4e09-817f-0abcddd62ddd\" xlink:show=\"new\" xlink:title=\"psysml:538ece1f-cb66-4e09-817f-0abcddd62ddd\" xlink:type=\"simple\"><rect fill=\"#FFFFFF\" height=\"158\" id=\"E5\" rx=\"10\" ry=\"10\" style=\"stroke:#383838;stroke-width:1.5;\" width=\"250\" x=\"236\" y=\"57\"/><text fill=\"#000000\" font-family=\"sans-serif\" font-size=\"12\" font-style=\"italic\" lengthAdjust=\"spacing\" textLength=\"64\" x=\"329\" y=\"73.1387\">«analysis»</text><text fill=\"#000000\" font-family=\"sans-serif\" font-size=\"14\" lengthAdjust=\"spacing\" textLength=\"215\" x=\"249.5\" y=\"88.9639\">engineTradeStudy: TradeStudy</text><line style=\"stroke:#383838;stroke-width:1.0;\" x1=\"236\" x2=\"486\" y1=\"97.2656\" y2=\"97.2656\"/></a></g><!--MD5=[b4997ac47864f28c2f74865a473b2911]\n",
       "class E2--><a href=\"psysml:8055cf29-c4ca-4370-b025-bca5bf4f4944\" target=\"_top\" title=\"psysml:8055cf29-c4ca-4370-b025-bca5bf4f4944\" xlink:actuate=\"onRequest\" xlink:href=\"psysml:8055cf29-c4ca-4370-b025-bca5bf4f4944\" xlink:show=\"new\" xlink:title=\"psysml:8055cf29-c4ca-4370-b025-bca5bf4f4944\" xlink:type=\"simple\"><g id=\"elem_E2\"><rect fill=\"#FFFFFF\" height=\"48.2656\" id=\"E2\" style=\"stroke:#181818;stroke-width:0.5;\" width=\"70\" x=\"309\" y=\"467\"/><text fill=\"#000000\" font-family=\"sans-serif\" font-size=\"12\" font-style=\"italic\" lengthAdjust=\"spacing\" textLength=\"68\" x=\"310\" y=\"483.1387\">«part  def»</text><text fill=\"#000000\" font-family=\"sans-serif\" font-size=\"14\" lengthAdjust=\"spacing\" textLength=\"48\" x=\"320\" y=\"498.9639\">Engine</text><line style=\"stroke:#181818;stroke-width:0.5;\" x1=\"310\" x2=\"378\" y1=\"507.2656\" y2=\"507.2656\"/></g></a><!--MD5=[09b614a08d8cba4a07c9adeb5e0fee81]\n",
       "class E3--><a href=\"psysml:479197b1-ce2e-480f-b2ef-7f257dc343b8\" target=\"_top\" title=\"psysml:479197b1-ce2e-480f-b2ef-7f257dc343b8\" xlink:actuate=\"onRequest\" xlink:href=\"psysml:479197b1-ce2e-480f-b2ef-7f257dc343b8\" xlink:show=\"new\" xlink:title=\"psysml:479197b1-ce2e-480f-b2ef-7f257dc343b8\" xlink:type=\"simple\"><g id=\"elem_E3\"><rect fill=\"#FFFFFF\" height=\"48.2656\" id=\"E3\" rx=\"10\" ry=\"10\" style=\"stroke:#181818;stroke-width:0.5;\" width=\"128\" x=\"195\" y=\"359\"/><text fill=\"#000000\" font-family=\"sans-serif\" font-size=\"12\" font-style=\"italic\" lengthAdjust=\"spacing\" textLength=\"40\" x=\"239\" y=\"375.1387\">«part»</text><text fill=\"#000000\" font-family=\"sans-serif\" font-size=\"14\" lengthAdjust=\"spacing\" textLength=\"114\" x=\"198\" y=\"390.9639\">engine1: Engine</text><line style=\"stroke:#181818;stroke-width:0.5;\" x1=\"196\" x2=\"322\" y1=\"399.2656\" y2=\"399.2656\"/></g></a><!--MD5=[ebbe1d658d1005bcc118a6aa81145e00]\n",
       "class E4--><a href=\"psysml:df8f9049-6917-4fa7-a1c9-f212538c9a4e\" target=\"_top\" title=\"psysml:df8f9049-6917-4fa7-a1c9-f212538c9a4e\" xlink:actuate=\"onRequest\" xlink:href=\"psysml:df8f9049-6917-4fa7-a1c9-f212538c9a4e\" xlink:show=\"new\" xlink:title=\"psysml:df8f9049-6917-4fa7-a1c9-f212538c9a4e\" xlink:type=\"simple\"><g id=\"elem_E4\"><rect fill=\"#FFFFFF\" height=\"48.2656\" id=\"E4\" rx=\"10\" ry=\"10\" style=\"stroke:#181818;stroke-width:0.5;\" width=\"128\" x=\"32\" y=\"359\"/><text fill=\"#000000\" font-family=\"sans-serif\" font-size=\"12\" font-style=\"italic\" lengthAdjust=\"spacing\" textLength=\"40\" x=\"76\" y=\"375.1387\">«part»</text><text fill=\"#000000\" font-family=\"sans-serif\" font-size=\"14\" lengthAdjust=\"spacing\" textLength=\"114\" x=\"35\" y=\"390.9639\">engine2: Engine</text><line style=\"stroke:#181818;stroke-width:0.5;\" x1=\"33\" x2=\"159\" y1=\"399.2656\" y2=\"399.2656\"/></g></a><!--MD5=[2156ba9850f5573cc1fc38a6a4b2f02b]\n",
       "class E7--><a href=\"psysml:f253b0d3-72ce-4ec1-aa97-c21cff35f053\" target=\"_top\" title=\"psysml:f253b0d3-72ce-4ec1-aa97-c21cff35f053\" xlink:actuate=\"onRequest\" xlink:href=\"psysml:f253b0d3-72ce-4ec1-aa97-c21cff35f053\" xlink:show=\"new\" xlink:title=\"psysml:f253b0d3-72ce-4ec1-aa97-c21cff35f053\" xlink:type=\"simple\"><g id=\"elem_E7\"><rect fill=\"#FFFFFF\" height=\"48.2656\" id=\"E7\" rx=\"10\" ry=\"10\" style=\"stroke:#181818;stroke-width:0.5;\" width=\"144\" x=\"155\" y=\"251\"/><text fill=\"#000000\" font-family=\"sans-serif\" font-size=\"12\" font-style=\"italic\" lengthAdjust=\"spacing\" textLength=\"82\" x=\"186\" y=\"267.1387\">«calculation»</text><text fill=\"#000000\" font-family=\"sans-serif\" font-size=\"14\" lengthAdjust=\"spacing\" textLength=\"130\" x=\"158\" y=\"282.9639\">evaluationFunction</text><line style=\"stroke:#181818;stroke-width:0.5;\" x1=\"156\" x2=\"298\" y1=\"291.2656\" y2=\"291.2656\"/></g></a><!--MD5=[b9389687b975829384b498ac4b7476b2]\n",
       "class E8--><a href=\"psysml:753de58d-f4ea-44a5-91ee-5ffc5e7a177d\" target=\"_top\" title=\"psysml:753de58d-f4ea-44a5-91ee-5ffc5e7a177d\" xlink:actuate=\"onRequest\" xlink:href=\"psysml:753de58d-f4ea-44a5-91ee-5ffc5e7a177d\" xlink:show=\"new\" xlink:title=\"psysml:753de58d-f4ea-44a5-91ee-5ffc5e7a177d\" xlink:type=\"simple\"><g id=\"elem_E8\"><rect fill=\"#FFFFFF\" height=\"48.2656\" id=\"E8\" rx=\"10\" ry=\"10\" style=\"stroke:#181818;stroke-width:0.5;\" width=\"142\" x=\"358\" y=\"359\"/><text fill=\"#000000\" font-family=\"sans-serif\" font-size=\"12\" font-style=\"italic\" lengthAdjust=\"spacing\" textLength=\"40\" x=\"409\" y=\"375.1387\">«part»</text><text fill=\"#000000\" font-family=\"sans-serif\" font-size=\"14\" lengthAdjust=\"spacing\" textLength=\"128\" x=\"361\" y=\"390.9639\">alternative: Engine</text><line style=\"stroke:#181818;stroke-width:0.5;\" x1=\"359\" x2=\"499\" y1=\"399.2656\" y2=\"399.2656\"/></g></a><!--MD5=[fd4143e9d270a159db93a4ea2a975926]\n",
       "class E9--><a href=\"psysml:76ff8411-b0e7-4dd9-89c0-3f2666988fc0\" target=\"_top\" title=\"psysml:76ff8411-b0e7-4dd9-89c0-3f2666988fc0\" xlink:actuate=\"onRequest\" xlink:href=\"psysml:76ff8411-b0e7-4dd9-89c0-3f2666988fc0\" xlink:show=\"new\" xlink:title=\"psysml:76ff8411-b0e7-4dd9-89c0-3f2666988fc0\" xlink:type=\"simple\"><g id=\"elem_E9\"><rect fill=\"#FFFFFF\" height=\"48.2656\" id=\"E9\" rx=\"10\" ry=\"10\" style=\"stroke:#181818;stroke-width:0.5;\" width=\"203\" x=\"334.5\" y=\"251\"/><text fill=\"#000000\" font-family=\"sans-serif\" font-size=\"12\" font-style=\"italic\" lengthAdjust=\"spacing\" textLength=\"40\" x=\"416\" y=\"267.1387\">«part»</text><text fill=\"#000000\" font-family=\"sans-serif\" font-size=\"14\" lengthAdjust=\"spacing\" textLength=\"189\" x=\"337.5\" y=\"282.9639\">selectedAlternative: Engine</text><line style=\"stroke:#181818;stroke-width:0.5;\" x1=\"335.5\" x2=\"536.5\" y1=\"291.2656\" y2=\"291.2656\"/></g></a><!--MD5=[60a26617385b1d2d0262a64233df1f8d]\n",
       "class E6--><a href=\"psysml:4f755969-6586-456d-bfaa-2c124f0f3312\" target=\"_top\" title=\"psysml:4f755969-6586-456d-bfaa-2c124f0f3312\" xlink:actuate=\"onRequest\" xlink:href=\"psysml:4f755969-6586-456d-bfaa-2c124f0f3312\" xlink:show=\"new\" xlink:title=\"psysml:4f755969-6586-456d-bfaa-2c124f0f3312\" xlink:type=\"simple\"><g id=\"elem_E6\"><rect fill=\"#FFFFFF\" height=\"75.0813\" id=\"E6\" rx=\"10\" ry=\"10\" style=\"stroke:#181818;stroke-width:0.5;\" width=\"145\" x=\"306.5\" y=\"116\"/><text fill=\"#000000\" font-family=\"sans-serif\" font-size=\"12\" font-style=\"italic\" lengthAdjust=\"spacing\" textLength=\"70\" x=\"344\" y=\"132.1387\">«objective»</text><text fill=\"#000000\" font-family=\"sans-serif\" font-size=\"14\" lengthAdjust=\"spacing\" textLength=\"139\" x=\"309.5\" y=\"147.9639\">tradeStudyObjective</text><line style=\"stroke:#181818;stroke-width:0.5;\" x1=\"307.5\" x2=\"450.5\" y1=\"156.2656\" y2=\"156.2656\"/><text fill=\"#000000\" font-family=\"sans-serif\" font-size=\"14\" lengthAdjust=\"spacing\" textLength=\"132\" x=\"312.5\" y=\"183.7795\">selectedAlternative</text><text fill=\"#000000\" font-family=\"sans-serif\" font-size=\"14\" font-style=\"italic\" lengthAdjust=\"spacing\" textLength=\"51\" x=\"353.5\" y=\"168.6123\">subject</text></g></a><!--MD5=[05d275557350bfb9b23a4ef7222b4c39]\n",
       "link E3 to E2--><g id=\"link_E3_E2\"><a href=\"psysml:bc3cf079-eae7-49ce-b297-ec132a977e50\" target=\"_top\" title=\"psysml:bc3cf079-eae7-49ce-b297-ec132a977e50\" xlink:actuate=\"onRequest\" xlink:href=\"psysml:bc3cf079-eae7-49ce-b297-ec132a977e50\" xlink:show=\"new\" xlink:title=\"psysml:bc3cf079-eae7-49ce-b297-ec132a977e50\" xlink:type=\"simple\"><path d=\"M277.44,407 C287.73,419.83 300.82,436.16 312.67,450.93 \" fill=\"none\" id=\"E3-to-E2\" style=\"stroke:#181818;stroke-width:1.0;\"/><polygon fill=\"#FFFFFF\" points=\"325.3,466.68,307.9565,456.2299,318.8819,447.4756,325.3,466.68\" style=\"stroke:#181818;stroke-width:1.0;\"/><ellipse cx=\"305.9531\" cy=\"450.5311\" fill=\"#181818\" rx=\"2\" ry=\"2\" style=\"stroke:#181818;stroke-width:1.0;\"/><ellipse cx=\"313.7569\" cy=\"444.2781\" fill=\"#181818\" rx=\"2\" ry=\"2\" style=\"stroke:#181818;stroke-width:1.0;\"/></a></g><!--MD5=[185131fc0dcab0a4505a2ebe144e961b]\n",
       "link E4 to E2--><g id=\"link_E4_E2\"><a href=\"psysml:aa1a99dc-dc69-45ac-b95f-3bcc471ea5d4\" target=\"_top\" title=\"psysml:aa1a99dc-dc69-45ac-b95f-3bcc471ea5d4\" xlink:actuate=\"onRequest\" xlink:href=\"psysml:aa1a99dc-dc69-45ac-b95f-3bcc471ea5d4\" xlink:show=\"new\" xlink:title=\"psysml:aa1a99dc-dc69-45ac-b95f-3bcc471ea5d4\" xlink:type=\"simple\"><path d=\"M149.81,407 C191.38,424.77 248.64,449.24 290.2,467.01 \" fill=\"none\" id=\"E4-to-E2\" style=\"stroke:#181818;stroke-width:1.0;\"/><polygon fill=\"#FFFFFF\" points=\"308.64,474.89,288.4184,473.8471,293.9285,460.977,308.64,474.89\" style=\"stroke:#181818;stroke-width:1.0;\"/><ellipse cx=\"283.9656\" cy=\"469.7652\" fill=\"#181818\" rx=\"2\" ry=\"2\" style=\"stroke:#181818;stroke-width:1.0;\"/><ellipse cx=\"287.9013\" cy=\"460.5722\" fill=\"#181818\" rx=\"2\" ry=\"2\" style=\"stroke:#181818;stroke-width:1.0;\"/></a></g><!--MD5=[452b418e7f8a40397a49b8c0a78acc5b]\n",
       "reverse link E5 to E7--><g id=\"link_E5_E7\"><a href=\"psysml:ae0ddffd-d94b-4ee5-a4cb-a499b90c2b96\" target=\"_top\" title=\"psysml:ae0ddffd-d94b-4ee5-a4cb-a499b90c2b96\" xlink:actuate=\"onRequest\" xlink:href=\"psysml:ae0ddffd-d94b-4ee5-a4cb-a499b90c2b96\" xlink:show=\"new\" xlink:title=\"psysml:ae0ddffd-d94b-4ee5-a4cb-a499b90c2b96\" xlink:type=\"simple\"><path d=\"M244.1719,215.3826 C244.124,215.5464 244.076,215.7101 244.0281,215.8739 C243.8363,216.5288 243.6446,217.1834 243.453,217.8375 C243.0699,219.1456 242.6874,220.4515 242.3064,221.7525 C239.2581,232.1606 236.3,242.26 233.81,250.76 \" fill=\"none\" id=\"E5-backto-E7\" style=\"stroke:#181818;stroke-width:1.0;\"/><polygon fill=\"#181818\" points=\"244.1719,215.3826,238.6468,220.0166,240.7992,226.8989,246.3243,222.265,244.1719,215.3826\" style=\"stroke:#181818;stroke-width:1.0;\"/></a></g><!--MD5=[dc164f5e8a733ab456ef1add180e9e34]\n",
       "reverse link E7 to E8--><g id=\"link_E7_E8\"><a href=\"psysml:a8c82a2a-741b-4fac-ac9b-98beb228d3cb\" target=\"_top\" title=\"psysml:a8c82a2a-741b-4fac-ac9b-98beb228d3cb\" xlink:actuate=\"onRequest\" xlink:href=\"psysml:a8c82a2a-741b-4fac-ac9b-98beb228d3cb\" xlink:show=\"new\" xlink:title=\"psysml:a8c82a2a-741b-4fac-ac9b-98beb228d3cb\" xlink:type=\"simple\"><path d=\"M282.76,305.26 C314.96,322.16 354.91,343.12 384.91,358.86 \" fill=\"none\" id=\"E7-backto-E8\" style=\"stroke:#181818;stroke-width:1.0;\"/><polygon fill=\"none\" points=\"270.83,299,274.284,305.3301,281.4556,304.5765,278.0016,298.2464,270.83,299\" style=\"stroke:#181818;stroke-width:1.0;\"/></a></g><!--MD5=[f1f3f9f2fc535e6147756cb86a7f2e32]\n",
       "link E8 to E2--><g id=\"link_E8_E2\"><a href=\"psysml:199cdd6b-9599-4ee9-8d7a-04a31416ec15\" target=\"_top\" title=\"psysml:199cdd6b-9599-4ee9-8d7a-04a31416ec15\" xlink:actuate=\"onRequest\" xlink:href=\"psysml:199cdd6b-9599-4ee9-8d7a-04a31416ec15\" xlink:show=\"new\" xlink:title=\"psysml:199cdd6b-9599-4ee9-8d7a-04a31416ec15\" xlink:type=\"simple\"><path d=\"M410.56,407 C400.27,419.83 387.18,436.16 375.33,450.93 \" fill=\"none\" id=\"E8-to-E2\" style=\"stroke:#181818;stroke-width:1.0;\"/><polygon fill=\"#FFFFFF\" points=\"362.7,466.68,369.1181,447.4756,380.0435,456.2299,362.7,466.68\" style=\"stroke:#181818;stroke-width:1.0;\"/><ellipse cx=\"374.2431\" cy=\"444.2781\" fill=\"#181818\" rx=\"2\" ry=\"2\" style=\"stroke:#181818;stroke-width:1.0;\"/><ellipse cx=\"382.0469\" cy=\"450.5311\" fill=\"#181818\" rx=\"2\" ry=\"2\" style=\"stroke:#181818;stroke-width:1.0;\"/></a></g><!--MD5=[9ae28de373ca99bb8a1b38d63370ca7e]\n",
       "reverse link E5 to E9--><g id=\"link_E5_E9\"><a href=\"psysml:549a8511-5afb-4107-9df8-0f136ad572ec\" target=\"_top\" title=\"psysml:549a8511-5afb-4107-9df8-0f136ad572ec\" xlink:actuate=\"onRequest\" xlink:href=\"psysml:549a8511-5afb-4107-9df8-0f136ad572ec\" xlink:show=\"new\" xlink:title=\"psysml:549a8511-5afb-4107-9df8-0f136ad572ec\" xlink:type=\"simple\"><path d=\"M277.9238,215.3079 C279.0235,217.2432 280.1988,219.1321 281.4547,220.9571 C283.9666,224.607 286.8013,228.0013 290,231 C302.53,242.75 318.11,251.3 334.38,257.53 \" fill=\"none\" id=\"E5-backto-E9\" style=\"stroke:#181818;stroke-width:1.0;\"/><polygon fill=\"none\" points=\"277.9238,215.3079,277.4102,222.5006,283.8521,225.7412,284.3658,218.5484,277.9238,215.3079\" style=\"stroke:#181818;stroke-width:1.0;\"/></a></g><!--MD5=[5c3bb36fe832a92c7f0e1807dd65209d]\n",
       "link E9 to E2--><g id=\"link_E9_E2\"><a href=\"psysml:94a3a0b9-9284-4132-a69a-1dbd276e1390\" target=\"_top\" title=\"psysml:94a3a0b9-9284-4132-a69a-1dbd276e1390\" xlink:actuate=\"onRequest\" xlink:href=\"psysml:94a3a0b9-9284-4132-a69a-1dbd276e1390\" xlink:show=\"new\" xlink:title=\"psysml:94a3a0b9-9284-4132-a69a-1dbd276e1390\" xlink:type=\"simple\"><path d=\"M468.09,299.22 C500.23,325.43 541.77,369.33 518,407 C492.01,448.19 439.34,469.37 398.72,479.98 \" fill=\"none\" id=\"E9-to-E2\" style=\"stroke:#181818;stroke-width:1.0;\"/><polygon fill=\"#FFFFFF\" points=\"379.07,484.56,395.9826,473.4261,399.1635,487.06,379.07,484.56\" style=\"stroke:#181818;stroke-width:1.0;\"/><ellipse cx=\"401.988\" cy=\"474.0788\" fill=\"#181818\" rx=\"2\" ry=\"2\" style=\"stroke:#181818;stroke-width:1.0;\"/><ellipse cx=\"404.26\" cy=\"483.8172\" fill=\"#181818\" rx=\"2\" ry=\"2\" style=\"stroke:#181818;stroke-width:1.0;\"/></a></g><!--MD5=[b95e5c43394bfbebc23950c6784f09f8]\n",
       "@startuml\r\n",
       "skin sysmlbw\r\n",
       "skinparam monochrome true\r\n",
       "skinparam wrapWidth 300\r\n",
       "hide circle\r\n",
       " \r\n",
       "package \"TradeStudyTest\" as E1  [[psysml:a91f55f8-3969-42e6-b46f-82de9da3fdc7 ]]  {\r\n",
       "comp def \"Engine\" as E2  <<(T,blue) part  def>> [[psysml:8055cf29-c4ca-4370-b025-bca5bf4f4944 ]] {\r\n",
       "}\r\n",
       "comp usage \"engine1: Engine  \" as E3  <<(T,blue) part>> [[psysml:479197b1-ce2e-480f-b2ef-7f257dc343b8 ]] {\r\n",
       "}\r\n",
       "comp usage \"engine2: Engine  \" as E4  <<(T,blue) part>> [[psysml:df8f9049-6917-4fa7-a1c9-f212538c9a4e ]] {\r\n",
       "}\r\n",
       "rec usage \"engineTradeStudy: TradeStudy  \" as E5  << analysis>> [[psysml:538ece1f-cb66-4e09-817f-0abcddd62ddd ]] {\r\n",
       "comp usage \"tradeStudyObjective\" as E6  <<objective>> [[psysml:4f755969-6586-456d-bfaa-2c124f0f3312 ]] {\r\n",
       "##//subject//##\r\n",
       "selectedAlternative\r\n",
       "}\r\n",
       "}\r\n",
       "comp usage \"evaluationFunction  \" as E7  <<(T,blue) calculation>> [[psysml:f253b0d3-72ce-4ec1-aa97-c21cff35f053 ]] {\r\n",
       "}\r\n",
       "comp usage \"alternative: Engine  \" as E8  <<(T,blue) part>> [[psysml:753de58d-f4ea-44a5-91ee-5ffc5e7a177d ]] {\r\n",
       "}\r\n",
       "comp usage \"selectedAlternative: Engine  \" as E9  <<(T,blue) part>> [[psysml:76ff8411-b0e7-4dd9-89c0-3f2666988fc0 ]] {\r\n",
       "}\r\n",
       "}\r\n",
       "E3 - -:|> E2 [[psysml:bc3cf079-eae7-49ce-b297-ec132a977e50 ]] \r\n",
       "E4 - -:|> E2 [[psysml:aa1a99dc-dc69-45ac-b95f-3bcc471ea5d4 ]] \r\n",
       "E5 *- - E7 [[psysml:ae0ddffd-d94b-4ee5-a4cb-a499b90c2b96 ]] \r\n",
       "E7 o- - E8 [[psysml:a8c82a2a-741b-4fac-ac9b-98beb228d3cb ]] \r\n",
       "E8 - -:|> E2 [[psysml:199cdd6b-9599-4ee9-8d7a-04a31416ec15 ]] \r\n",
       "E5 o- - E9 [[psysml:549a8511-5afb-4107-9df8-0f136ad572ec ]] \r\n",
       "E9 - -:|> E2 [[psysml:94a3a0b9-9284-4132-a69a-1dbd276e1390 ]] \r\n",
       "@enduml\r\n",
       "\n",
       "PlantUML version 1.2022.7(Mon Aug 22 17:01:30 UTC 2022)\n",
       "(EPL source distribution)\n",
       "Java Runtime: OpenJDK Runtime Environment\n",
       "JVM: OpenJDK 64-Bit Server VM\n",
       "Default Encoding: UTF-8\n",
       "Language: en\n",
       "Country: null\n",
       "--></g></svg>"
      ]
     },
     "execution_count": 2,
     "metadata": {},
     "output_type": "execute_result"
    }
   ],
   "source": [
    "%viz --style=\"COMPTREE\" --view=\"Default\" \"TradeStudyTest\""
   ]
  },
  {
   "cell_type": "code",
   "execution_count": 3,
   "id": "20a90d05",
   "metadata": {
    "execution": {
     "iopub.execute_input": "2024-12-16T14:21:07.091159Z",
     "iopub.status.busy": "2024-12-16T14:21:07.090927Z",
     "iopub.status.idle": "2024-12-16T14:21:07.152636Z",
     "shell.execute_reply": "2024-12-16T14:21:07.152774Z"
    }
   },
   "outputs": [
    {
     "data": {
      "image/svg+xml": [
       "<?xml version=\"1.0\" encoding=\"UTF-8\" standalone=\"no\"?><svg xmlns=\"http://www.w3.org/2000/svg\" xmlns:xlink=\"http://www.w3.org/1999/xlink\" contentStyleType=\"text/css\" height=\"572px\" preserveAspectRatio=\"none\" style=\"width:570px;height:572px;background:#FFFFFF;\" version=\"1.1\" viewBox=\"0 0 570 572\" width=\"570px\" zoomAndPan=\"magnify\"><defs/><g><!--MD5=[fbc87193dbaf4d95561dea2c320d4a47]\n",
       "cluster E1--><g id=\"cluster_E1\"><a href=\"psysml:a91f55f8-3969-42e6-b46f-82de9da3fdc7\" target=\"_top\" title=\"psysml:a91f55f8-3969-42e6-b46f-82de9da3fdc7\" xlink:actuate=\"onRequest\" xlink:href=\"psysml:a91f55f8-3969-42e6-b46f-82de9da3fdc7\" xlink:show=\"new\" xlink:title=\"psysml:a91f55f8-3969-42e6-b46f-82de9da3fdc7\" xlink:type=\"simple\"><polygon fill=\"none\" points=\"16,6,138.125,6,145.125,28.2969,553,28.2969,553,565,16,565,16,6\" style=\"stroke:#000000;stroke-width:1.5;\"/><line style=\"stroke:#000000;stroke-width:1.5;\" x1=\"16\" x2=\"145.125\" y1=\"28.2969\" y2=\"28.2969\"/><text fill=\"#000000\" font-family=\"sans-serif\" font-size=\"14\" font-weight=\"bold\" lengthAdjust=\"spacing\" textLength=\"116.125\" x=\"20\" y=\"20.9951\">TradeStudyTest</text></a></g><!--MD5=[b4997ac47864f28c2f74865a473b2911]\n",
       "class E2--><a href=\"psysml:8055cf29-c4ca-4370-b025-bca5bf4f4944\" target=\"_top\" title=\"psysml:8055cf29-c4ca-4370-b025-bca5bf4f4944\" xlink:actuate=\"onRequest\" xlink:href=\"psysml:8055cf29-c4ca-4370-b025-bca5bf4f4944\" xlink:show=\"new\" xlink:title=\"psysml:8055cf29-c4ca-4370-b025-bca5bf4f4944\" xlink:type=\"simple\"><g id=\"elem_E2\"><rect fill=\"#FFFFFF\" height=\"48.2656\" id=\"E2\" style=\"stroke:#181818;stroke-width:0.5;\" width=\"70\" x=\"202\" y=\"501\"/><text fill=\"#000000\" font-family=\"sans-serif\" font-size=\"12\" font-style=\"italic\" lengthAdjust=\"spacing\" textLength=\"68\" x=\"203\" y=\"517.1387\">«part  def»</text><text fill=\"#000000\" font-family=\"sans-serif\" font-size=\"14\" lengthAdjust=\"spacing\" textLength=\"48\" x=\"213\" y=\"532.9639\">Engine</text><line style=\"stroke:#181818;stroke-width:0.5;\" x1=\"203\" x2=\"271\" y1=\"541.2656\" y2=\"541.2656\"/></g></a><!--MD5=[09b614a08d8cba4a07c9adeb5e0fee81]\n",
       "class E3--><a href=\"psysml:479197b1-ce2e-480f-b2ef-7f257dc343b8\" target=\"_top\" title=\"psysml:479197b1-ce2e-480f-b2ef-7f257dc343b8\" xlink:actuate=\"onRequest\" xlink:href=\"psysml:479197b1-ce2e-480f-b2ef-7f257dc343b8\" xlink:show=\"new\" xlink:title=\"psysml:479197b1-ce2e-480f-b2ef-7f257dc343b8\" xlink:type=\"simple\"><g id=\"elem_E3\"><rect fill=\"#FFFFFF\" height=\"48.2656\" id=\"E3\" rx=\"10\" ry=\"10\" style=\"stroke:#181818;stroke-width:0.5;\" width=\"128\" x=\"409\" y=\"392\"/><text fill=\"#000000\" font-family=\"sans-serif\" font-size=\"12\" font-style=\"italic\" lengthAdjust=\"spacing\" textLength=\"40\" x=\"453\" y=\"408.1387\">«part»</text><text fill=\"#000000\" font-family=\"sans-serif\" font-size=\"14\" lengthAdjust=\"spacing\" textLength=\"114\" x=\"412\" y=\"423.9639\">engine1: Engine</text><line style=\"stroke:#181818;stroke-width:0.5;\" x1=\"410\" x2=\"536\" y1=\"432.2656\" y2=\"432.2656\"/></g></a><!--MD5=[ebbe1d658d1005bcc118a6aa81145e00]\n",
       "class E4--><a href=\"psysml:df8f9049-6917-4fa7-a1c9-f212538c9a4e\" target=\"_top\" title=\"psysml:df8f9049-6917-4fa7-a1c9-f212538c9a4e\" xlink:actuate=\"onRequest\" xlink:href=\"psysml:df8f9049-6917-4fa7-a1c9-f212538c9a4e\" xlink:show=\"new\" xlink:title=\"psysml:df8f9049-6917-4fa7-a1c9-f212538c9a4e\" xlink:type=\"simple\"><g id=\"elem_E4\"><rect fill=\"#FFFFFF\" height=\"48.2656\" id=\"E4\" rx=\"10\" ry=\"10\" style=\"stroke:#181818;stroke-width:0.5;\" width=\"128\" x=\"246\" y=\"392\"/><text fill=\"#000000\" font-family=\"sans-serif\" font-size=\"12\" font-style=\"italic\" lengthAdjust=\"spacing\" textLength=\"40\" x=\"290\" y=\"408.1387\">«part»</text><text fill=\"#000000\" font-family=\"sans-serif\" font-size=\"14\" lengthAdjust=\"spacing\" textLength=\"114\" x=\"249\" y=\"423.9639\">engine2: Engine</text><line style=\"stroke:#181818;stroke-width:0.5;\" x1=\"247\" x2=\"373\" y1=\"432.2656\" y2=\"432.2656\"/></g></a><!--MD5=[270fce915f116d4de14055a7c1d9a0f3]\n",
       "class E5--><a href=\"psysml:538ece1f-cb66-4e09-817f-0abcddd62ddd\" target=\"_top\" title=\"psysml:538ece1f-cb66-4e09-817f-0abcddd62ddd\" xlink:actuate=\"onRequest\" xlink:href=\"psysml:538ece1f-cb66-4e09-817f-0abcddd62ddd\" xlink:show=\"new\" xlink:title=\"psysml:538ece1f-cb66-4e09-817f-0abcddd62ddd\" xlink:type=\"simple\"><g id=\"elem_E5\"><rect fill=\"#FFFFFF\" height=\"91.3781\" id=\"E5\" rx=\"10\" ry=\"10\" style=\"stroke:#181818;stroke-width:0.5;\" width=\"277\" x=\"259.5\" y=\"41\"/><text fill=\"#000000\" font-family=\"sans-serif\" font-size=\"12\" font-style=\"italic\" lengthAdjust=\"spacing\" textLength=\"64\" x=\"366\" y=\"57.1387\">«analysis»</text><text fill=\"#000000\" font-family=\"sans-serif\" font-size=\"14\" lengthAdjust=\"spacing\" textLength=\"215\" x=\"286.5\" y=\"72.9639\">engineTradeStudy: TradeStudy</text><line style=\"stroke:#181818;stroke-width:0.5;\" x1=\"260.5\" x2=\"535.5\" y1=\"81.2656\" y2=\"81.2656\"/><text fill=\"#000000\" font-family=\"sans-serif\" font-size=\"14\" lengthAdjust=\"spacing\" textLength=\"261\" x=\"265.5\" y=\"108.7795\">studyAlternatives: Engine = (engine1,</text><text fill=\"#000000\" font-family=\"sans-serif\" font-size=\"14\" lengthAdjust=\"spacing\" textLength=\"62\" x=\"265.5\" y=\"125.0764\">engine2)</text><text fill=\"#000000\" font-family=\"sans-serif\" font-size=\"14\" font-style=\"italic\" lengthAdjust=\"spacing\" textLength=\"51\" x=\"372.5\" y=\"93.6123\">subject</text></g></a><!--MD5=[60a26617385b1d2d0262a64233df1f8d]\n",
       "class E6--><a href=\"psysml:4f755969-6586-456d-bfaa-2c124f0f3312\" target=\"_top\" title=\"psysml:4f755969-6586-456d-bfaa-2c124f0f3312\" xlink:actuate=\"onRequest\" xlink:href=\"psysml:4f755969-6586-456d-bfaa-2c124f0f3312\" xlink:show=\"new\" xlink:title=\"psysml:4f755969-6586-456d-bfaa-2c124f0f3312\" xlink:type=\"simple\"><g id=\"elem_E6\"><rect fill=\"#FFFFFF\" height=\"75.0813\" id=\"E6\" rx=\"10\" ry=\"10\" style=\"stroke:#181818;stroke-width:0.5;\" width=\"289\" x=\"31.5\" y=\"209\"/><text fill=\"#000000\" font-family=\"sans-serif\" font-size=\"12\" font-style=\"italic\" lengthAdjust=\"spacing\" textLength=\"91\" x=\"130.5\" y=\"225.1387\">«requirement»</text><text fill=\"#000000\" font-family=\"sans-serif\" font-size=\"14\" lengthAdjust=\"spacing\" textLength=\"275\" x=\"34.5\" y=\"240.9639\">tradeStudyObjective: MaximizeObjective</text><line style=\"stroke:#181818;stroke-width:0.5;\" x1=\"32.5\" x2=\"319.5\" y1=\"249.2656\" y2=\"249.2656\"/><text fill=\"#000000\" font-family=\"sans-serif\" font-size=\"14\" lengthAdjust=\"spacing\" textLength=\"132\" x=\"37.5\" y=\"276.7795\">selectedAlternative</text><text fill=\"#000000\" font-family=\"sans-serif\" font-size=\"14\" font-style=\"italic\" lengthAdjust=\"spacing\" textLength=\"51\" x=\"150.5\" y=\"261.6123\">subject</text></g></a><!--MD5=[2156ba9850f5573cc1fc38a6a4b2f02b]\n",
       "class E7--><a href=\"psysml:f253b0d3-72ce-4ec1-aa97-c21cff35f053\" target=\"_top\" title=\"psysml:f253b0d3-72ce-4ec1-aa97-c21cff35f053\" xlink:actuate=\"onRequest\" xlink:href=\"psysml:f253b0d3-72ce-4ec1-aa97-c21cff35f053\" xlink:show=\"new\" xlink:title=\"psysml:f253b0d3-72ce-4ec1-aa97-c21cff35f053\" xlink:type=\"simple\"><g id=\"elem_E7\"><rect fill=\"#FFFFFF\" height=\"48.2656\" id=\"E7\" rx=\"10\" ry=\"10\" style=\"stroke:#181818;stroke-width:0.5;\" width=\"144\" x=\"355\" y=\"222.5\"/><text fill=\"#000000\" font-family=\"sans-serif\" font-size=\"12\" font-style=\"italic\" lengthAdjust=\"spacing\" textLength=\"82\" x=\"386\" y=\"238.6387\">«calculation»</text><text fill=\"#000000\" font-family=\"sans-serif\" font-size=\"14\" lengthAdjust=\"spacing\" textLength=\"130\" x=\"358\" y=\"254.4639\">evaluationFunction</text><line style=\"stroke:#181818;stroke-width:0.5;\" x1=\"356\" x2=\"498\" y1=\"262.7656\" y2=\"262.7656\"/></g></a><!--MD5=[b9389687b975829384b498ac4b7476b2]\n",
       "class E8--><a href=\"psysml:753de58d-f4ea-44a5-91ee-5ffc5e7a177d\" target=\"_top\" title=\"psysml:753de58d-f4ea-44a5-91ee-5ffc5e7a177d\" xlink:actuate=\"onRequest\" xlink:href=\"psysml:753de58d-f4ea-44a5-91ee-5ffc5e7a177d\" xlink:show=\"new\" xlink:title=\"psysml:753de58d-f4ea-44a5-91ee-5ffc5e7a177d\" xlink:type=\"simple\"><g id=\"elem_E8\"><rect fill=\"#FFFFFF\" height=\"48.2656\" id=\"E8\" rx=\"10\" ry=\"10\" style=\"stroke:#181818;stroke-width:0.5;\" width=\"142\" x=\"32\" y=\"392\"/><text fill=\"#000000\" font-family=\"sans-serif\" font-size=\"12\" font-style=\"italic\" lengthAdjust=\"spacing\" textLength=\"40\" x=\"83\" y=\"408.1387\">«part»</text><text fill=\"#000000\" font-family=\"sans-serif\" font-size=\"14\" lengthAdjust=\"spacing\" textLength=\"128\" x=\"35\" y=\"423.9639\">alternative: Engine</text><line style=\"stroke:#181818;stroke-width:0.5;\" x1=\"33\" x2=\"173\" y1=\"432.2656\" y2=\"432.2656\"/></g></a><!--MD5=[fd4143e9d270a159db93a4ea2a975926]\n",
       "class E9--><a href=\"psysml:76ff8411-b0e7-4dd9-89c0-3f2666988fc0\" target=\"_top\" title=\"psysml:76ff8411-b0e7-4dd9-89c0-3f2666988fc0\" xlink:actuate=\"onRequest\" xlink:href=\"psysml:76ff8411-b0e7-4dd9-89c0-3f2666988fc0\" xlink:show=\"new\" xlink:title=\"psysml:76ff8411-b0e7-4dd9-89c0-3f2666988fc0\" xlink:type=\"simple\"><g id=\"elem_E9\"><rect fill=\"#FFFFFF\" height=\"48.2656\" id=\"E9\" rx=\"10\" ry=\"10\" style=\"stroke:#181818;stroke-width:0.5;\" width=\"203\" x=\"277.5\" y=\"314\"/><text fill=\"#000000\" font-family=\"sans-serif\" font-size=\"12\" font-style=\"italic\" lengthAdjust=\"spacing\" textLength=\"40\" x=\"359\" y=\"330.1387\">«part»</text><text fill=\"#000000\" font-family=\"sans-serif\" font-size=\"14\" lengthAdjust=\"spacing\" textLength=\"189\" x=\"280.5\" y=\"345.9639\">selectedAlternative: Engine</text><line style=\"stroke:#181818;stroke-width:0.5;\" x1=\"278.5\" x2=\"479.5\" y1=\"354.2656\" y2=\"354.2656\"/></g></a><!--MD5=[05d275557350bfb9b23a4ef7222b4c39]\n",
       "link E3 to E2--><g id=\"link_E3_E2\"><a href=\"psysml:bc3cf079-eae7-49ce-b297-ec132a977e50\" target=\"_top\" title=\"psysml:bc3cf079-eae7-49ce-b297-ec132a977e50\" xlink:actuate=\"onRequest\" xlink:href=\"psysml:bc3cf079-eae7-49ce-b297-ec132a977e50\" xlink:show=\"new\" xlink:title=\"psysml:bc3cf079-eae7-49ce-b297-ec132a977e50\" xlink:type=\"simple\"><path d=\"M422.08,440.09 C383.28,457.68 329.98,481.84 290.54,499.73 \" fill=\"none\" id=\"E3-to-E2\" style=\"stroke:#181818;stroke-width:1.0;\"/><polygon fill=\"#FFFFFF\" points=\"272.15,508.07,286.5646,493.8497,292.3451,506.6006,272.15,508.07\" style=\"stroke:#181818;stroke-width:1.0;\"/><ellipse cx=\"292.5819\" cy=\"493.3178\" fill=\"#181818\" rx=\"2\" ry=\"2\" style=\"stroke:#181818;stroke-width:1.0;\"/><ellipse cx=\"296.7108\" cy=\"502.4256\" fill=\"#181818\" rx=\"2\" ry=\"2\" style=\"stroke:#181818;stroke-width:1.0;\"/></a></g><!--MD5=[185131fc0dcab0a4505a2ebe144e961b]\n",
       "link E4 to E2--><g id=\"link_E4_E2\"><a href=\"psysml:aa1a99dc-dc69-45ac-b95f-3bcc471ea5d4\" target=\"_top\" title=\"psysml:aa1a99dc-dc69-45ac-b95f-3bcc471ea5d4\" xlink:actuate=\"onRequest\" xlink:href=\"psysml:aa1a99dc-dc69-45ac-b95f-3bcc471ea5d4\" xlink:show=\"new\" xlink:title=\"psysml:aa1a99dc-dc69-45ac-b95f-3bcc471ea5d4\" xlink:type=\"simple\"><path d=\"M294.16,440.22 C285.45,452.98 274.41,469.16 264.36,483.9 \" fill=\"none\" id=\"E4-to-E2\" style=\"stroke:#181818;stroke-width:1.0;\"/><polygon fill=\"#FFFFFF\" points=\"252.81,500.83,257.7393,481.1907,269.3027,489.083,252.81,500.83\" style=\"stroke:#181818;stroke-width:1.0;\"/><ellipse cx=\"262.6045\" cy=\"477.6102\" fill=\"#181818\" rx=\"2\" ry=\"2\" style=\"stroke:#181818;stroke-width:1.0;\"/><ellipse cx=\"270.8641\" cy=\"483.2476\" fill=\"#181818\" rx=\"2\" ry=\"2\" style=\"stroke:#181818;stroke-width:1.0;\"/></a></g><!--MD5=[9120cf2e5df3bff93db8f754bbbc09b4]\n",
       "link E5 to E6--><g id=\"link_E5_E6\"><a href=\"psysml:8e017d7e-1da3-4c9b-9b63-350890040555\" target=\"_top\" title=\"psysml:8e017d7e-1da3-4c9b-9b63-350890040555\" xlink:actuate=\"onRequest\" xlink:href=\"psysml:8e017d7e-1da3-4c9b-9b63-350890040555\" xlink:show=\"new\" xlink:title=\"psysml:8e017d7e-1da3-4c9b-9b63-350890040555\" xlink:type=\"simple\"><path d=\"M335.27,132.14 C303.43,154.8 265.01,182.15 233.88,204.31 \" fill=\"none\" id=\"E5-to-E6\" style=\"stroke:#181818;stroke-width:1.0;\"/><polygon fill=\"#181818\" points=\"227.35,208.95,235.6091,206.7619,232.1338,201.8708,227.35,208.95\" style=\"stroke:#181818;stroke-width:1.0;\"/><text fill=\"#000000\" font-family=\"sans-serif\" font-size=\"13\" lengthAdjust=\"spacing\" textLength=\"73\" x=\"288\" y=\"175.0669\">«objective»</text></a></g><!--MD5=[452b418e7f8a40397a49b8c0a78acc5b]\n",
       "reverse link E5 to E7--><g id=\"link_E5_E7\"><a href=\"psysml:ae0ddffd-d94b-4ee5-a4cb-a499b90c2b96\" target=\"_top\" title=\"psysml:ae0ddffd-d94b-4ee5-a4cb-a499b90c2b96\" xlink:actuate=\"onRequest\" xlink:href=\"psysml:ae0ddffd-d94b-4ee5-a4cb-a499b90c2b96\" xlink:show=\"new\" xlink:title=\"psysml:ae0ddffd-d94b-4ee5-a4cb-a499b90c2b96\" xlink:type=\"simple\"><path d=\"M408.58,145.15 C413.49,171.92 419.06,202.22 422.77,222.46 \" fill=\"none\" id=\"E5-backto-E7\" style=\"stroke:#181818;stroke-width:1.0;\"/><polygon fill=\"#181818\" points=\"406.23,132.35,403.3769,138.9727,408.3929,144.1535,411.2459,137.5308,406.23,132.35\" style=\"stroke:#181818;stroke-width:1.0;\"/></a></g><!--MD5=[dc164f5e8a733ab456ef1add180e9e34]\n",
       "reverse link E7 to E8--><g id=\"link_E7_E8\"><a href=\"psysml:a8c82a2a-741b-4fac-ac9b-98beb228d3cb\" target=\"_top\" title=\"psysml:a8c82a2a-741b-4fac-ac9b-98beb228d3cb\" xlink:actuate=\"onRequest\" xlink:href=\"psysml:a8c82a2a-741b-4fac-ac9b-98beb228d3cb\" xlink:show=\"new\" xlink:title=\"psysml:a8c82a2a-741b-4fac-ac9b-98beb228d3cb\" xlink:type=\"simple\"><path d=\"M358.87,275.62 C351.83,278.47 344.78,281.31 338,284 C303.48,297.71 293.12,297.2 260,314 C214.48,337.09 165.54,370 134.62,391.9 \" fill=\"none\" id=\"E7-backto-E8\" style=\"stroke:#181818;stroke-width:1.0;\"/><polygon fill=\"none\" points=\"371.05,270.66,363.9849,269.2162,359.9348,275.1825,366.9999,276.6263,371.05,270.66\" style=\"stroke:#181818;stroke-width:1.0;\"/></a></g><!--MD5=[f1f3f9f2fc535e6147756cb86a7f2e32]\n",
       "link E8 to E2--><g id=\"link_E8_E2\"><a href=\"psysml:199cdd6b-9599-4ee9-8d7a-04a31416ec15\" target=\"_top\" title=\"psysml:199cdd6b-9599-4ee9-8d7a-04a31416ec15\" xlink:actuate=\"onRequest\" xlink:href=\"psysml:199cdd6b-9599-4ee9-8d7a-04a31416ec15\" xlink:show=\"new\" xlink:title=\"psysml:199cdd6b-9599-4ee9-8d7a-04a31416ec15\" xlink:type=\"simple\"><path d=\"M132.08,440.22 C149.64,454.24 172.38,472.4 192.2,488.22 \" fill=\"none\" id=\"E8-to-E2\" style=\"stroke:#181818;stroke-width:1.0;\"/><polygon fill=\"#FFFFFF\" points=\"207.98,500.83,188.7663,494.4397,197.5048,483.5017,207.98,500.83\" style=\"stroke:#181818;stroke-width:1.0;\"/><ellipse cx=\"185.5614\" cy=\"489.3194\" fill=\"#181818\" rx=\"2\" ry=\"2\" style=\"stroke:#181818;stroke-width:1.0;\"/><ellipse cx=\"191.8031\" cy=\"481.5065\" fill=\"#181818\" rx=\"2\" ry=\"2\" style=\"stroke:#181818;stroke-width:1.0;\"/></a></g><!--MD5=[9ae28de373ca99bb8a1b38d63370ca7e]\n",
       "reverse link E5 to E9--><g id=\"link_E5_E9\"><a href=\"psysml:549a8511-5afb-4107-9df8-0f136ad572ec\" target=\"_top\" title=\"psysml:549a8511-5afb-4107-9df8-0f136ad572ec\" xlink:actuate=\"onRequest\" xlink:href=\"psysml:549a8511-5afb-4107-9df8-0f136ad572ec\" xlink:show=\"new\" xlink:title=\"psysml:549a8511-5afb-4107-9df8-0f136ad572ec\" xlink:type=\"simple\"><path d=\"M465.82,140.94 C508.28,181.06 549.34,236.94 517,284 C507.92,297.22 495.04,307.14 480.77,314.59 \" fill=\"none\" id=\"E5-backto-E9\" style=\"stroke:#181818;stroke-width:1.0;\"/><polygon fill=\"none\" points=\"456.19,132.12,457.9105,139.1228,465.0364,140.2281,463.3159,133.2253,456.19,132.12\" style=\"stroke:#181818;stroke-width:1.0;\"/></a></g><!--MD5=[5c3bb36fe832a92c7f0e1807dd65209d]\n",
       "link E9 to E2--><g id=\"link_E9_E2\"><a href=\"psysml:94a3a0b9-9284-4132-a69a-1dbd276e1390\" target=\"_top\" title=\"psysml:94a3a0b9-9284-4132-a69a-1dbd276e1390\" xlink:actuate=\"onRequest\" xlink:href=\"psysml:94a3a0b9-9284-4132-a69a-1dbd276e1390\" xlink:show=\"new\" xlink:title=\"psysml:94a3a0b9-9284-4132-a69a-1dbd276e1390\" xlink:type=\"simple\"><path d=\"M277.25,355.97 C258.31,363.85 240.8,375.31 229,392 C210.88,417.62 214.39,453.5 221.59,481.39 \" fill=\"none\" id=\"E9-to-E2\" style=\"stroke:#181818;stroke-width:1.0;\"/><polygon fill=\"#FFFFFF\" points=\"227.53,500.86,215.2849,484.7337,228.6742,480.6439,227.53,500.86\" style=\"stroke:#181818;stroke-width:1.0;\"/><ellipse cx=\"215.5325\" cy=\"478.6981\" fill=\"#181818\" rx=\"2\" ry=\"2\" style=\"stroke:#181818;stroke-width:1.0;\"/><ellipse cx=\"225.0963\" cy=\"475.7768\" fill=\"#181818\" rx=\"2\" ry=\"2\" style=\"stroke:#181818;stroke-width:1.0;\"/></a></g><!--MD5=[7b7cde78af25f55f794266b4e37c2a09]\n",
       "@startuml\r\n",
       "skin sysmlbw\r\n",
       "skinparam monochrome true\r\n",
       "skinparam wrapWidth 300\r\n",
       "hide circle\r\n",
       " \r\n",
       "package \"TradeStudyTest\" as E1  [[psysml:a91f55f8-3969-42e6-b46f-82de9da3fdc7 ]]  {\r\n",
       "comp def \"Engine\" as E2  <<(T,blue) part  def>> [[psysml:8055cf29-c4ca-4370-b025-bca5bf4f4944 ]] {\r\n",
       "}\r\n",
       "comp usage \"engine1: Engine  \" as E3  <<(T,blue) part>> [[psysml:479197b1-ce2e-480f-b2ef-7f257dc343b8 ]] {\r\n",
       "}\r\n",
       "comp usage \"engine2: Engine  \" as E4  <<(T,blue) part>> [[psysml:df8f9049-6917-4fa7-a1c9-f212538c9a4e ]] {\r\n",
       "}\r\n",
       "comp usage \"engineTradeStudy: TradeStudy  \" as E5  << analysis>> [[psysml:538ece1f-cb66-4e09-817f-0abcddd62ddd ]] {\r\n",
       "##//subject//##\r\n",
       "studyAlternatives: Engine <U+003D> (engine1, engine2)\r\n",
       "}\r\n",
       "comp usage \"tradeStudyObjective: MaximizeObjective  \" as E6  <<(T,blue) requirement>> [[psysml:4f755969-6586-456d-bfaa-2c124f0f3312 ]] {\r\n",
       "##//subject//##\r\n",
       "selectedAlternative\r\n",
       "}\r\n",
       "comp usage \"evaluationFunction  \" as E7  <<(T,blue) calculation>> [[psysml:f253b0d3-72ce-4ec1-aa97-c21cff35f053 ]] {\r\n",
       "}\r\n",
       "comp usage \"alternative: Engine  \" as E8  <<(T,blue) part>> [[psysml:753de58d-f4ea-44a5-91ee-5ffc5e7a177d ]] {\r\n",
       "}\r\n",
       "comp usage \"selectedAlternative: Engine  \" as E9  <<(T,blue) part>> [[psysml:76ff8411-b0e7-4dd9-89c0-3f2666988fc0 ]] {\r\n",
       "}\r\n",
       "}\r\n",
       "E3 - -:|> E2 [[psysml:bc3cf079-eae7-49ce-b297-ec132a977e50 ]] \r\n",
       "E4 - -:|> E2 [[psysml:aa1a99dc-dc69-45ac-b95f-3bcc471ea5d4 ]] \r\n",
       "E5 - ->> E6 [[psysml:8e017d7e-1da3-4c9b-9b63-350890040555 ]] : <<objective>>\r\n",
       "E5 *- - E7 [[psysml:ae0ddffd-d94b-4ee5-a4cb-a499b90c2b96 ]] \r\n",
       "E7 o- - E8 [[psysml:a8c82a2a-741b-4fac-ac9b-98beb228d3cb ]] \r\n",
       "E8 - -:|> E2 [[psysml:199cdd6b-9599-4ee9-8d7a-04a31416ec15 ]] \r\n",
       "E5 o- - E9 [[psysml:549a8511-5afb-4107-9df8-0f136ad572ec ]] \r\n",
       "E9 - -:|> E2 [[psysml:94a3a0b9-9284-4132-a69a-1dbd276e1390 ]] \r\n",
       "@enduml\r\n",
       "\n",
       "PlantUML version 1.2022.7(Mon Aug 22 17:01:30 UTC 2022)\n",
       "(EPL source distribution)\n",
       "Java Runtime: OpenJDK Runtime Environment\n",
       "JVM: OpenJDK 64-Bit Server VM\n",
       "Default Encoding: UTF-8\n",
       "Language: en\n",
       "Country: null\n",
       "--></g></svg>"
      ]
     },
     "execution_count": 3,
     "metadata": {},
     "output_type": "execute_result"
    }
   ],
   "source": [
    "%viz --style=\"COMPTREE\" --view=\"Tree\" \"TradeStudyTest\""
   ]
  },
  {
   "cell_type": "code",
   "execution_count": 4,
   "id": "9f5bd2a0",
   "metadata": {
    "execution": {
     "iopub.execute_input": "2024-12-16T14:21:07.205074Z",
     "iopub.status.busy": "2024-12-16T14:21:07.204854Z",
     "iopub.status.idle": "2024-12-16T14:21:07.213735Z",
     "shell.execute_reply": "2024-12-16T14:21:07.213871Z"
    }
   },
   "outputs": [
    {
     "data": {
      "image/svg+xml": [
       "<?xml version=\"1.0\" encoding=\"UTF-8\" standalone=\"no\"?><svg xmlns=\"http://www.w3.org/2000/svg\" xmlns:xlink=\"http://www.w3.org/1999/xlink\" contentStyleType=\"text/css\" height=\"10px\" preserveAspectRatio=\"none\" style=\"width:10px;height:10px;background:#FFFFFF;\" version=\"1.1\" viewBox=\"0 0 10 10\" width=\"10px\" zoomAndPan=\"magnify\"><defs/><g><!--MD5=[ee07d3037018df61283447c7fdb4a44f]\n",
       "@startuml\r\n",
       "skin sysmlbw\r\n",
       "skinparam monochrome true\r\n",
       "skinparam wrapWidth 300\r\n",
       "hide circle\r\n",
       " \r\n",
       "@enduml\r\n",
       "\n",
       "PlantUML version 1.2022.7(Mon Aug 22 17:01:30 UTC 2022)\n",
       "(EPL source distribution)\n",
       "Java Runtime: OpenJDK Runtime Environment\n",
       "JVM: OpenJDK 64-Bit Server VM\n",
       "Default Encoding: UTF-8\n",
       "Language: en\n",
       "Country: null\n",
       "--></g></svg>"
      ]
     },
     "execution_count": 4,
     "metadata": {},
     "output_type": "execute_result"
    }
   ],
   "source": [
    "%viz --style=\"COMPTREE\" --view=\"State\" \"TradeStudyTest\""
   ]
  },
  {
   "cell_type": "code",
   "execution_count": 5,
   "id": "90366ca8",
   "metadata": {
    "execution": {
     "iopub.execute_input": "2024-12-16T14:21:07.269757Z",
     "iopub.status.busy": "2024-12-16T14:21:07.269511Z",
     "iopub.status.idle": "2024-12-16T14:21:07.309747Z",
     "shell.execute_reply": "2024-12-16T14:21:07.309883Z"
    }
   },
   "outputs": [
    {
     "data": {
      "image/svg+xml": [
       "<?xml version=\"1.0\" encoding=\"UTF-8\" standalone=\"no\"?><svg xmlns=\"http://www.w3.org/2000/svg\" xmlns:xlink=\"http://www.w3.org/1999/xlink\" contentStyleType=\"text/css\" height=\"415px\" preserveAspectRatio=\"none\" style=\"width:565px;height:415px;background:#FFFFFF;\" version=\"1.1\" viewBox=\"0 0 565 415\" width=\"565px\" zoomAndPan=\"magnify\"><defs/><g><!--MD5=[fbc87193dbaf4d95561dea2c320d4a47]\n",
       "cluster E1--><g id=\"cluster_E1\"><a href=\"psysml:a91f55f8-3969-42e6-b46f-82de9da3fdc7\" target=\"_top\" title=\"psysml:a91f55f8-3969-42e6-b46f-82de9da3fdc7\" xlink:actuate=\"onRequest\" xlink:href=\"psysml:a91f55f8-3969-42e6-b46f-82de9da3fdc7\" xlink:show=\"new\" xlink:title=\"psysml:a91f55f8-3969-42e6-b46f-82de9da3fdc7\" xlink:type=\"simple\"><polygon fill=\"none\" points=\"16,6,138.125,6,145.125,28.2969,548,28.2969,548,408,16,408,16,6\" style=\"stroke:#000000;stroke-width:1.5;\"/><line style=\"stroke:#000000;stroke-width:1.5;\" x1=\"16\" x2=\"145.125\" y1=\"28.2969\" y2=\"28.2969\"/><text fill=\"#000000\" font-family=\"sans-serif\" font-size=\"14\" font-weight=\"bold\" lengthAdjust=\"spacing\" textLength=\"116.125\" x=\"20\" y=\"20.9951\">TradeStudyTest</text></a></g><!--MD5=[de5ec2e2e8f62f467e546659f5068c88]\n",
       "cluster E5--><g id=\"cluster_E5\"><a href=\"psysml:538ece1f-cb66-4e09-817f-0abcddd62ddd\" target=\"_top\" title=\"psysml:538ece1f-cb66-4e09-817f-0abcddd62ddd\" xlink:actuate=\"onRequest\" xlink:href=\"psysml:538ece1f-cb66-4e09-817f-0abcddd62ddd\" xlink:show=\"new\" xlink:title=\"psysml:538ece1f-cb66-4e09-817f-0abcddd62ddd\" xlink:type=\"simple\"><rect fill=\"#FFFFFF\" height=\"158\" id=\"E5\" rx=\"10\" ry=\"10\" style=\"stroke:#383838;stroke-width:1.5;\" width=\"250\" x=\"231\" y=\"57\"/><text fill=\"#000000\" font-family=\"sans-serif\" font-size=\"12\" font-style=\"italic\" lengthAdjust=\"spacing\" textLength=\"64\" x=\"324\" y=\"73.1387\">«analysis»</text><text fill=\"#000000\" font-family=\"sans-serif\" font-size=\"14\" lengthAdjust=\"spacing\" textLength=\"215\" x=\"244.5\" y=\"88.9639\">engineTradeStudy: TradeStudy</text><line style=\"stroke:#383838;stroke-width:1.0;\" x1=\"231\" x2=\"481\" y1=\"97.2656\" y2=\"97.2656\"/></a></g><!--MD5=[2156ba9850f5573cc1fc38a6a4b2f02b]\n",
       "class E7--><a href=\"psysml:f253b0d3-72ce-4ec1-aa97-c21cff35f053\" target=\"_top\" title=\"psysml:f253b0d3-72ce-4ec1-aa97-c21cff35f053\" xlink:actuate=\"onRequest\" xlink:href=\"psysml:f253b0d3-72ce-4ec1-aa97-c21cff35f053\" xlink:show=\"new\" xlink:title=\"psysml:f253b0d3-72ce-4ec1-aa97-c21cff35f053\" xlink:type=\"simple\"><g id=\"elem_E7\"><rect fill=\"#FFFFFF\" height=\"48.2656\" id=\"E7\" rx=\"10\" ry=\"10\" style=\"stroke:#181818;stroke-width:0.5;\" width=\"144\" x=\"150\" y=\"239\"/><text fill=\"#000000\" font-family=\"sans-serif\" font-size=\"12\" font-style=\"italic\" lengthAdjust=\"spacing\" textLength=\"82\" x=\"181\" y=\"255.1387\">«calculation»</text><text fill=\"#000000\" font-family=\"sans-serif\" font-size=\"14\" lengthAdjust=\"spacing\" textLength=\"130\" x=\"153\" y=\"270.9639\">evaluationFunction</text><line style=\"stroke:#181818;stroke-width:0.5;\" x1=\"151\" x2=\"293\" y1=\"279.2656\" y2=\"279.2656\"/></g></a><!--MD5=[b9389687b975829384b498ac4b7476b2]\n",
       "class E8--><a href=\"psysml:753de58d-f4ea-44a5-91ee-5ffc5e7a177d\" target=\"_top\" title=\"psysml:753de58d-f4ea-44a5-91ee-5ffc5e7a177d\" xlink:actuate=\"onRequest\" xlink:href=\"psysml:753de58d-f4ea-44a5-91ee-5ffc5e7a177d\" xlink:show=\"new\" xlink:title=\"psysml:753de58d-f4ea-44a5-91ee-5ffc5e7a177d\" xlink:type=\"simple\"><g id=\"elem_E8\"><rect fill=\"#FFFFFF\" height=\"34.2969\" id=\"E8\" rx=\"10\" ry=\"10\" style=\"stroke:#181818;stroke-width:0.5;\" width=\"142\" x=\"353\" y=\"300\"/><text fill=\"#000000\" font-family=\"sans-serif\" font-size=\"14\" lengthAdjust=\"spacing\" textLength=\"128\" x=\"356\" y=\"317.9951\">alternative: Engine</text><line style=\"stroke:#181818;stroke-width:0.5;\" x1=\"354\" x2=\"494\" y1=\"326.2969\" y2=\"326.2969\"/></g></a><!--MD5=[fd4143e9d270a159db93a4ea2a975926]\n",
       "class E9--><a href=\"psysml:76ff8411-b0e7-4dd9-89c0-3f2666988fc0\" target=\"_top\" title=\"psysml:76ff8411-b0e7-4dd9-89c0-3f2666988fc0\" xlink:actuate=\"onRequest\" xlink:href=\"psysml:76ff8411-b0e7-4dd9-89c0-3f2666988fc0\" xlink:show=\"new\" xlink:title=\"psysml:76ff8411-b0e7-4dd9-89c0-3f2666988fc0\" xlink:type=\"simple\"><g id=\"elem_E9\"><rect fill=\"#FFFFFF\" height=\"34.2969\" id=\"E9\" rx=\"10\" ry=\"10\" style=\"stroke:#181818;stroke-width:0.5;\" width=\"203\" x=\"329.5\" y=\"246\"/><text fill=\"#000000\" font-family=\"sans-serif\" font-size=\"14\" lengthAdjust=\"spacing\" textLength=\"189\" x=\"332.5\" y=\"263.9951\">selectedAlternative: Engine</text><line style=\"stroke:#181818;stroke-width:0.5;\" x1=\"330.5\" x2=\"531.5\" y1=\"272.2969\" y2=\"272.2969\"/></g></a><g><a href=\"psysml:8055cf29-c4ca-4370-b025-bca5bf4f4944\" target=\"_top\" title=\"psysml:8055cf29-c4ca-4370-b025-bca5bf4f4944\" xlink:actuate=\"onRequest\" xlink:href=\"psysml:8055cf29-c4ca-4370-b025-bca5bf4f4944\" xlink:show=\"new\" xlink:title=\"psysml:8055cf29-c4ca-4370-b025-bca5bf4f4944\" xlink:type=\"simple\"><rect fill=\"#FFFFFF\" height=\"45.2656\" id=\"E2\" style=\"stroke:#383838;stroke-width:1.5;\" width=\"75\" x=\"301.5\" y=\"347\"/><text fill=\"#000000\" font-family=\"sans-serif\" font-size=\"12\" font-style=\"italic\" lengthAdjust=\"spacing\" textLength=\"68\" x=\"305\" y=\"363.1387\">«part  def»</text><text fill=\"#000000\" font-family=\"sans-serif\" font-size=\"14\" lengthAdjust=\"spacing\" textLength=\"48\" x=\"315\" y=\"378.9639\">Engine</text></a></g><g><a href=\"psysml:479197b1-ce2e-480f-b2ef-7f257dc343b8\" target=\"_top\" title=\"psysml:479197b1-ce2e-480f-b2ef-7f257dc343b8\" xlink:actuate=\"onRequest\" xlink:href=\"psysml:479197b1-ce2e-480f-b2ef-7f257dc343b8\" xlink:show=\"new\" xlink:title=\"psysml:479197b1-ce2e-480f-b2ef-7f257dc343b8\" xlink:type=\"simple\"><rect fill=\"#FFFFFF\" height=\"40\" id=\"E3\" rx=\"10\" ry=\"10\" style=\"stroke:#383838;stroke-width:1.5;\" width=\"125\" x=\"192.5\" y=\"297\"/><text fill=\"#000000\" font-family=\"sans-serif\" font-size=\"14\" lengthAdjust=\"spacing\" textLength=\"114\" x=\"198\" y=\"314.9951\">engine1: Engine</text></a></g><g><a href=\"psysml:df8f9049-6917-4fa7-a1c9-f212538c9a4e\" target=\"_top\" title=\"psysml:df8f9049-6917-4fa7-a1c9-f212538c9a4e\" xlink:actuate=\"onRequest\" xlink:href=\"psysml:df8f9049-6917-4fa7-a1c9-f212538c9a4e\" xlink:show=\"new\" xlink:title=\"psysml:df8f9049-6917-4fa7-a1c9-f212538c9a4e\" xlink:type=\"simple\"><rect fill=\"#FFFFFF\" height=\"40\" id=\"E4\" rx=\"10\" ry=\"10\" style=\"stroke:#383838;stroke-width:1.5;\" width=\"125\" x=\"32.5\" y=\"297\"/><text fill=\"#000000\" font-family=\"sans-serif\" font-size=\"14\" lengthAdjust=\"spacing\" textLength=\"114\" x=\"38\" y=\"314.9951\">engine2: Engine</text></a></g><!--MD5=[60a26617385b1d2d0262a64233df1f8d]\n",
       "class E6--><a href=\"psysml:4f755969-6586-456d-bfaa-2c124f0f3312\" target=\"_top\" title=\"psysml:4f755969-6586-456d-bfaa-2c124f0f3312\" xlink:actuate=\"onRequest\" xlink:href=\"psysml:4f755969-6586-456d-bfaa-2c124f0f3312\" xlink:show=\"new\" xlink:title=\"psysml:4f755969-6586-456d-bfaa-2c124f0f3312\" xlink:type=\"simple\"><g id=\"elem_E6\"><rect fill=\"#FFFFFF\" height=\"75.0813\" id=\"E6\" rx=\"10\" ry=\"10\" style=\"stroke:#181818;stroke-width:0.5;\" width=\"145\" x=\"301.5\" y=\"116\"/><text fill=\"#000000\" font-family=\"sans-serif\" font-size=\"12\" font-style=\"italic\" lengthAdjust=\"spacing\" textLength=\"70\" x=\"339\" y=\"132.1387\">«objective»</text><text fill=\"#000000\" font-family=\"sans-serif\" font-size=\"14\" lengthAdjust=\"spacing\" textLength=\"139\" x=\"304.5\" y=\"147.9639\">tradeStudyObjective</text><line style=\"stroke:#181818;stroke-width:0.5;\" x1=\"302.5\" x2=\"445.5\" y1=\"156.2656\" y2=\"156.2656\"/><text fill=\"#000000\" font-family=\"sans-serif\" font-size=\"14\" lengthAdjust=\"spacing\" textLength=\"132\" x=\"307.5\" y=\"183.7795\">selectedAlternative</text><text fill=\"#000000\" font-family=\"sans-serif\" font-size=\"14\" font-style=\"italic\" lengthAdjust=\"spacing\" textLength=\"51\" x=\"348.5\" y=\"168.6123\">subject</text></g></a><!--MD5=[05d275557350bfb9b23a4ef7222b4c39]\n",
       "link E3 to E2--><g id=\"link_E3_E2\"><a href=\"psysml:bc3cf079-eae7-49ce-b297-ec132a977e50\" target=\"_top\" title=\"psysml:bc3cf079-eae7-49ce-b297-ec132a977e50\" xlink:actuate=\"onRequest\" xlink:href=\"psysml:bc3cf079-eae7-49ce-b297-ec132a977e50\" xlink:show=\"new\" xlink:title=\"psysml:bc3cf079-eae7-49ce-b297-ec132a977e50\" xlink:type=\"simple\"><path d=\"M286.76,337.09 C286.92,337.19 287.09,337.29 287.25,337.39 \" fill=\"none\" id=\"E3-to-E2\" style=\"stroke:#181818;stroke-width:1.0;\"/><polygon fill=\"#FFFFFF\" points=\"302.97,346.84,283.0785,343.0548,290.2888,331.0544,302.97,346.84\" style=\"stroke:#181818;stroke-width:1.0;\"/><ellipse cx=\"279.2226\" cy=\"338.4049\" fill=\"#181818\" rx=\"2\" ry=\"2\" style=\"stroke:#181818;stroke-width:1.0;\"/><ellipse cx=\"284.3728\" cy=\"329.8331\" fill=\"#181818\" rx=\"2\" ry=\"2\" style=\"stroke:#181818;stroke-width:1.0;\"/></a></g><!--MD5=[185131fc0dcab0a4505a2ebe144e961b]\n",
       "link E4 to E2--><g id=\"link_E4_E2\"><a href=\"psysml:aa1a99dc-dc69-45ac-b95f-3bcc471ea5d4\" target=\"_top\" title=\"psysml:aa1a99dc-dc69-45ac-b95f-3bcc471ea5d4\" xlink:actuate=\"onRequest\" xlink:href=\"psysml:aa1a99dc-dc69-45ac-b95f-3bcc471ea5d4\" xlink:show=\"new\" xlink:title=\"psysml:aa1a99dc-dc69-45ac-b95f-3bcc471ea5d4\" xlink:type=\"simple\"><path d=\"M157.83,333.19 C163.63,334.51 169.42,335.8 175,337 C210.29,344.58 250.05,352.23 281.58,358.1 \" fill=\"none\" id=\"E4-to-E2\" style=\"stroke:#181818;stroke-width:1.0;\"/><polygon fill=\"#FFFFFF\" points=\"301.45,361.77,281.4974,365.2187,284.0291,351.4495,301.45,361.77\" style=\"stroke:#181818;stroke-width:1.0;\"/><ellipse cx=\"276.253\" cy=\"362.2209\" fill=\"#181818\" rx=\"2\" ry=\"2\" style=\"stroke:#181818;stroke-width:1.0;\"/><ellipse cx=\"278.0614\" cy=\"352.3858\" fill=\"#181818\" rx=\"2\" ry=\"2\" style=\"stroke:#181818;stroke-width:1.0;\"/></a></g><!--MD5=[452b418e7f8a40397a49b8c0a78acc5b]\n",
       "reverse link E5 to E7--><g id=\"link_E5_E7\"><a href=\"psysml:ae0ddffd-d94b-4ee5-a4cb-a499b90c2b96\" target=\"_top\" title=\"psysml:ae0ddffd-d94b-4ee5-a4cb-a499b90c2b96\" xlink:actuate=\"onRequest\" xlink:href=\"psysml:ae0ddffd-d94b-4ee5-a4cb-a499b90c2b96\" xlink:show=\"new\" xlink:title=\"psysml:ae0ddffd-d94b-4ee5-a4cb-a499b90c2b96\" xlink:type=\"simple\"><path d=\"M237.286,215.0586 C237.2396,215.2013 237.1932,215.3439 237.1468,215.4865 C237.0539,215.7716 236.9612,216.0564 236.8686,216.3409 C236.4981,217.4789 236.1292,218.612 235.7626,219.738 C235.0295,221.99 234.3055,224.2138 233.5962,226.3926 C232.1775,230.7502 230.8175,234.9275 229.56,238.79 \" fill=\"none\" id=\"E5-backto-E7\" style=\"stroke:#181818;stroke-width:1.0;\"/><polygon fill=\"#181818\" points=\"237.286,215.0586,231.6251,219.5256,233.5713,226.4692,239.2322,222.0022,237.286,215.0586\" style=\"stroke:#181818;stroke-width:1.0;\"/></a></g><!--MD5=[dc164f5e8a733ab456ef1add180e9e34]\n",
       "reverse link E7 to E8--><g id=\"link_E7_E8\"><a href=\"psysml:a8c82a2a-741b-4fac-ac9b-98beb228d3cb\" target=\"_top\" title=\"psysml:a8c82a2a-741b-4fac-ac9b-98beb228d3cb\" xlink:actuate=\"onRequest\" xlink:href=\"psysml:a8c82a2a-741b-4fac-ac9b-98beb228d3cb\" xlink:show=\"new\" xlink:title=\"psysml:a8c82a2a-741b-4fac-ac9b-98beb228d3cb\" xlink:type=\"simple\"><path d=\"M306.68,285.8 C325.11,290.54 344.29,295.48 361.66,299.95 \" fill=\"none\" id=\"E7-backto-E8\" style=\"stroke:#181818;stroke-width:1.0;\"/><polygon fill=\"none\" points=\"294.07,282.55,298.8822,287.9206,305.6905,285.5441,300.8783,280.1736,294.07,282.55\" style=\"stroke:#181818;stroke-width:1.0;\"/></a></g><!--MD5=[f1f3f9f2fc535e6147756cb86a7f2e32]\n",
       "link E8 to E2--><g id=\"link_E8_E2\"><a href=\"psysml:199cdd6b-9599-4ee9-8d7a-04a31416ec15\" target=\"_top\" title=\"psysml:199cdd6b-9599-4ee9-8d7a-04a31416ec15\" xlink:actuate=\"onRequest\" xlink:href=\"psysml:199cdd6b-9599-4ee9-8d7a-04a31416ec15\" xlink:show=\"new\" xlink:title=\"psysml:199cdd6b-9599-4ee9-8d7a-04a31416ec15\" xlink:type=\"simple\"><path d=\"M396.64,334.26 C395.36,335.01 394.07,335.78 392.76,336.56 \" fill=\"none\" id=\"E8-to-E2\" style=\"stroke:#181818;stroke-width:1.0;\"/><polygon fill=\"#FFFFFF\" points=\"375.31,346.93,388.0569,331.1973,395.2171,343.2277,375.31,346.93\" style=\"stroke:#181818;stroke-width:1.0;\"/><ellipse cx=\"393.9779\" cy=\"330.0007\" fill=\"#181818\" rx=\"2\" ry=\"2\" style=\"stroke:#181818;stroke-width:1.0;\"/><ellipse cx=\"399.0923\" cy=\"338.5939\" fill=\"#181818\" rx=\"2\" ry=\"2\" style=\"stroke:#181818;stroke-width:1.0;\"/></a></g><!--MD5=[9ae28de373ca99bb8a1b38d63370ca7e]\n",
       "reverse link E5 to E9--><g id=\"link_E5_E9\"><a href=\"psysml:549a8511-5afb-4107-9df8-0f136ad572ec\" target=\"_top\" title=\"psysml:549a8511-5afb-4107-9df8-0f136ad572ec\" xlink:actuate=\"onRequest\" xlink:href=\"psysml:549a8511-5afb-4107-9df8-0f136ad572ec\" xlink:show=\"new\" xlink:title=\"psysml:549a8511-5afb-4107-9df8-0f136ad572ec\" xlink:type=\"simple\"><path d=\"M272.3761,215.329 C272.4455,215.4489 272.5152,215.5686 272.5853,215.688 C273.7058,217.6 274.9069,219.4598 276.1942,221.2495 C278.7689,224.8289 281.6888,228.1275 285,231 C287.75,233.39 316.28,239.66 347.4,245.95 \" fill=\"none\" id=\"E5-backto-E9\" style=\"stroke:#181818;stroke-width:1.0;\"/><polygon fill=\"none\" points=\"272.3761,215.329,271.9203,222.5256,278.3881,225.7143,278.8439,218.5177,272.3761,215.329\" style=\"stroke:#181818;stroke-width:1.0;\"/></a></g><!--MD5=[5c3bb36fe832a92c7f0e1807dd65209d]\n",
       "link E9 to E2--><g id=\"link_E9_E2\"><a href=\"psysml:94a3a0b9-9284-4132-a69a-1dbd276e1390\" target=\"_top\" title=\"psysml:94a3a0b9-9284-4132-a69a-1dbd276e1390\" xlink:actuate=\"onRequest\" xlink:href=\"psysml:94a3a0b9-9284-4132-a69a-1dbd276e1390\" xlink:show=\"new\" xlink:title=\"psysml:94a3a0b9-9284-4132-a69a-1dbd276e1390\" xlink:type=\"simple\"><path d=\"M494.53,280.15 C501.8,284.49 508.28,290.01 513,297 C522.95,311.73 524.4,323.36 513,337 C498.3,354.59 441.54,362.38 396.79,365.82 \" fill=\"none\" id=\"E9-to-E2\" style=\"stroke:#181818;stroke-width:1.0;\"/><polygon fill=\"#FFFFFF\" points=\"376.64,367.14,395.1389,358.9066,396.0589,372.8763,376.64,367.14\" style=\"stroke:#181818;stroke-width:1.0;\"/><ellipse cx=\"400.958\" cy=\"360.5277\" fill=\"#181818\" rx=\"2\" ry=\"2\" style=\"stroke:#181818;stroke-width:1.0;\"/><ellipse cx=\"401.6152\" cy=\"370.5061\" fill=\"#181818\" rx=\"2\" ry=\"2\" style=\"stroke:#181818;stroke-width:1.0;\"/></a></g><!--MD5=[65d9af6cec2649171716279017635286]\n",
       "@startuml\r\n",
       "skin sysmlbw\r\n",
       "skinparam monochrome true\r\n",
       "skinparam wrapWidth 300\r\n",
       "hide circle\r\n",
       " skinparam ranksep 10\r\n",
       "skinparam rectangle {\r\n",
       " backgroundColor<<block>> LightGreen\r\n",
       "}\r\n",
       "\r\n",
       "package \"TradeStudyTest\" as E1  [[psysml:a91f55f8-3969-42e6-b46f-82de9da3fdc7 ]]  {\r\n",
       "rec def \"Engine\" as E2  <<(T,blue) part  def>> [[psysml:8055cf29-c4ca-4370-b025-bca5bf4f4944 ]] {\r\n",
       "}\r\n",
       "rec usage \"engine1: Engine\" as E3 [[psysml:479197b1-ce2e-480f-b2ef-7f257dc343b8 ]] {\r\n",
       "}\r\n",
       "rec usage \"engine2: Engine\" as E4 [[psysml:df8f9049-6917-4fa7-a1c9-f212538c9a4e ]] {\r\n",
       "}\r\n",
       "rec usage \"engineTradeStudy: TradeStudy  \" as E5  << analysis>> [[psysml:538ece1f-cb66-4e09-817f-0abcddd62ddd ]] {\r\n",
       "comp usage \"tradeStudyObjective\" as E6  <<objective>> [[psysml:4f755969-6586-456d-bfaa-2c124f0f3312 ]] {\r\n",
       "##//subject//##\r\n",
       "selectedAlternative\r\n",
       "}\r\n",
       "}\r\n",
       "comp usage \"evaluationFunction  \" as E7  <<(T,blue) calculation>> [[psysml:f253b0d3-72ce-4ec1-aa97-c21cff35f053 ]] {\r\n",
       "}\r\n",
       "comp usage \"alternative: Engine  \" as E8 [[psysml:753de58d-f4ea-44a5-91ee-5ffc5e7a177d ]] {\r\n",
       "}\r\n",
       "comp usage \"selectedAlternative: Engine  \" as E9 [[psysml:76ff8411-b0e7-4dd9-89c0-3f2666988fc0 ]] {\r\n",
       "}\r\n",
       "}\r\n",
       "E3 - -:|> E2 [[psysml:bc3cf079-eae7-49ce-b297-ec132a977e50 ]] \r\n",
       "E4 - -:|> E2 [[psysml:aa1a99dc-dc69-45ac-b95f-3bcc471ea5d4 ]] \r\n",
       "E5 *- - E7 [[psysml:ae0ddffd-d94b-4ee5-a4cb-a499b90c2b96 ]] \r\n",
       "E7 o- - E8 [[psysml:a8c82a2a-741b-4fac-ac9b-98beb228d3cb ]] \r\n",
       "E8 - -:|> E2 [[psysml:199cdd6b-9599-4ee9-8d7a-04a31416ec15 ]] \r\n",
       "E5 o- - E9 [[psysml:549a8511-5afb-4107-9df8-0f136ad572ec ]] \r\n",
       "E9 - -:|> E2 [[psysml:94a3a0b9-9284-4132-a69a-1dbd276e1390 ]] \r\n",
       "@enduml\r\n",
       "\n",
       "PlantUML version 1.2022.7(Mon Aug 22 17:01:30 UTC 2022)\n",
       "(EPL source distribution)\n",
       "Java Runtime: OpenJDK Runtime Environment\n",
       "JVM: OpenJDK 64-Bit Server VM\n",
       "Default Encoding: UTF-8\n",
       "Language: en\n",
       "Country: null\n",
       "--></g></svg>"
      ]
     },
     "execution_count": 5,
     "metadata": {},
     "output_type": "execute_result"
    }
   ],
   "source": [
    "%viz --style=\"COMPTREE\" --view=\"Interconnection\" \"TradeStudyTest\""
   ]
  },
  {
   "cell_type": "code",
   "execution_count": 6,
   "id": "6a52077b",
   "metadata": {
    "execution": {
     "iopub.execute_input": "2024-12-16T14:21:07.363635Z",
     "iopub.status.busy": "2024-12-16T14:21:07.363425Z",
     "iopub.status.idle": "2024-12-16T14:21:07.401232Z",
     "shell.execute_reply": "2024-12-16T14:21:07.400983Z"
    }
   },
   "outputs": [
    {
     "data": {
      "image/svg+xml": [
       "<?xml version=\"1.0\" encoding=\"UTF-8\" standalone=\"no\"?><svg xmlns=\"http://www.w3.org/2000/svg\" xmlns:xlink=\"http://www.w3.org/1999/xlink\" contentStyleType=\"text/css\" height=\"222px\" preserveAspectRatio=\"none\" style=\"width:448px;height:222px;background:#FFFFFF;\" version=\"1.1\" viewBox=\"0 0 448 222\" width=\"448px\" zoomAndPan=\"magnify\"><defs/><g><!--MD5=[fbc87193dbaf4d95561dea2c320d4a47]\n",
       "cluster E1--><g id=\"cluster_E1\"><a href=\"psysml:538ece1f-cb66-4e09-817f-0abcddd62ddd\" target=\"_top\" title=\"psysml:538ece1f-cb66-4e09-817f-0abcddd62ddd\" xlink:actuate=\"onRequest\" xlink:href=\"psysml:538ece1f-cb66-4e09-817f-0abcddd62ddd\" xlink:show=\"new\" xlink:title=\"psysml:538ece1f-cb66-4e09-817f-0abcddd62ddd\" xlink:type=\"simple\"><rect fill=\"#FFFFFF\" height=\"174.36\" id=\"E1\" rx=\"10\" ry=\"10\" style=\"stroke:#383838;stroke-width:1.5;\" width=\"328\" x=\"47\" y=\"42.0986\"/><text fill=\"#000000\" font-family=\"sans-serif\" font-size=\"12\" font-style=\"italic\" lengthAdjust=\"spacing\" textLength=\"64\" x=\"179\" y=\"58.2373\">«analysis»</text><text fill=\"#000000\" font-family=\"sans-serif\" font-size=\"14\" lengthAdjust=\"spacing\" textLength=\"127\" x=\"147.5\" y=\"74.0625\">engineTradeStudy</text><line style=\"stroke:#383838;stroke-width:1.0;\" x1=\"47\" x2=\"375\" y1=\"82.3643\" y2=\"82.3643\"/></a></g><!--MD5=[d5e69f78d87373223dbae638b30a9c99]\n",
       "cluster E3--><g id=\"cluster_E3\"><a href=\"psysml:f253b0d3-72ce-4ec1-aa97-c21cff35f053\" target=\"_top\" title=\"psysml:f253b0d3-72ce-4ec1-aa97-c21cff35f053\" xlink:actuate=\"onRequest\" xlink:href=\"psysml:f253b0d3-72ce-4ec1-aa97-c21cff35f053\" xlink:show=\"new\" xlink:title=\"psysml:f253b0d3-72ce-4ec1-aa97-c21cff35f053\" xlink:type=\"simple\"><rect fill=\"#FFFFFF\" height=\"104.86\" id=\"E3\" rx=\"10\" ry=\"10\" style=\"stroke:#383838;stroke-width:1.5;\" width=\"186\" x=\"148\" y=\"81.5986\"/><text fill=\"#000000\" font-family=\"sans-serif\" font-size=\"12\" font-style=\"italic\" lengthAdjust=\"spacing\" textLength=\"82\" x=\"200\" y=\"97.7373\">«calculation»</text><text fill=\"#000000\" font-family=\"sans-serif\" font-size=\"14\" lengthAdjust=\"spacing\" textLength=\"130\" x=\"176\" y=\"113.5625\">evaluationFunction</text><line style=\"stroke:#383838;stroke-width:1.0;\" x1=\"148\" x2=\"334\" y1=\"121.8643\" y2=\"121.8643\"/></a></g><text fill=\"#000000\" font-family=\"sans-serif\" font-size=\"14\" lengthAdjust=\"spacing\" textLength=\"118\" x=\"6\" y=\"20.7969\">studyAlternatives</text><rect fill=\"#FFFFFF\" height=\"12\" style=\"stroke:#181818;stroke-width:1.5;\" width=\"12\" x=\"59\" y=\"36.0986\"/><text fill=\"#000000\" font-family=\"sans-serif\" font-size=\"14\" lengthAdjust=\"spacing\" textLength=\"132\" x=\"309\" y=\"183.0938\">selectedAlternative</text><rect fill=\"#FFFFFF\" height=\"12\" style=\"stroke:#181818;stroke-width:1.5;\" width=\"12\" x=\"369\" y=\"158.0986\"/><text fill=\"#000000\" font-family=\"sans-serif\" font-size=\"14\" lengthAdjust=\"spacing\" textLength=\"71\" x=\"205.5\" y=\"60.2969\">alternative</text><rect fill=\"#FFFFFF\" height=\"12\" style=\"stroke:#181818;stroke-width:1.5;\" width=\"12\" x=\"235\" y=\"75.5986\"/><text fill=\"#000000\" font-family=\"sans-serif\" font-size=\"14\" lengthAdjust=\"spacing\" textLength=\"39\" x=\"221.5\" y=\"205.4538\">result</text><rect fill=\"#FFFFFF\" height=\"12\" style=\"stroke:#181818;stroke-width:1.5;\" width=\"12\" x=\"235\" y=\"180.4586\"/><!--MD5=[402fdf59f299f0162ab4327228576167]\n",
       "@startuml\r\n",
       "skin sysmlbw\r\n",
       "skinparam monochrome true\r\n",
       "skinparam wrapWidth 300\r\n",
       "hide circle\r\n",
       " skinparam ranksep 8\r\n",
       "\r\n",
       "rec usage \"engineTradeStudy\" as E1  << analysis>> [[psysml:538ece1f-cb66-4e09-817f-0abcddd62ddd ]] {\r\n",
       "portin \"studyAlternatives\" as E2  [[psysml:44e81398-f8fc-476c-9aa8-f3c568baa242 ]] \r\n",
       "rec usage \"evaluationFunction\" as E3  <<(T,blue) calculation>> [[psysml:f253b0d3-72ce-4ec1-aa97-c21cff35f053 ]] {\r\n",
       "portin \"alternative\" as E4  [[psysml:753de58d-f4ea-44a5-91ee-5ffc5e7a177d ]] \r\n",
       "portout \"result\" as E5  [[psysml:523b4531-6566-4396-be10-86694663e2d0 ]] \r\n",
       "}\r\n",
       "\r\n",
       "portout \"selectedAlternative\" as E6  [[psysml:76ff8411-b0e7-4dd9-89c0-3f2666988fc0 ]] \r\n",
       "}\r\n",
       "\r\n",
       "@enduml\r\n",
       "\n",
       "PlantUML version 1.2022.7(Mon Aug 22 17:01:30 UTC 2022)\n",
       "(EPL source distribution)\n",
       "Java Runtime: OpenJDK Runtime Environment\n",
       "JVM: OpenJDK 64-Bit Server VM\n",
       "Default Encoding: UTF-8\n",
       "Language: en\n",
       "Country: null\n",
       "--></g></svg>"
      ]
     },
     "execution_count": 6,
     "metadata": {},
     "output_type": "execute_result"
    }
   ],
   "source": [
    "%viz --style=\"COMPTREE\" --view=\"Action\" \"TradeStudyTest\""
   ]
  },
  {
   "cell_type": "code",
   "execution_count": 7,
   "id": "0a30965e",
   "metadata": {
    "execution": {
     "iopub.execute_input": "2024-12-16T14:21:07.457548Z",
     "iopub.status.busy": "2024-12-16T14:21:07.457317Z",
     "iopub.status.idle": "2024-12-16T14:21:07.470180Z",
     "shell.execute_reply": "2024-12-16T14:21:07.470015Z"
    }
   },
   "outputs": [
    {
     "data": {
      "image/svg+xml": [
       "<?xml version=\"1.0\" encoding=\"UTF-8\" standalone=\"no\"?><svg xmlns=\"http://www.w3.org/2000/svg\" xmlns:xlink=\"http://www.w3.org/1999/xlink\" contentStyleType=\"text/css\" height=\"10px\" preserveAspectRatio=\"none\" style=\"width:10px;height:10px;background:#FFFFFF;\" version=\"1.1\" viewBox=\"0 0 10 10\" width=\"10px\" zoomAndPan=\"magnify\"><defs/><g><!--MD5=[f5e9abf0a6c8dccaf40d0172f495ca0b]\n",
       "@startuml\r\n",
       "skin sysmlbw\r\n",
       "skinparam monochrome true\r\n",
       "skinparam wrapWidth 300\r\n",
       "hide circle\r\n",
       " skinparam roundcorner 20\r\n",
       "skinparam BoxPadding 20\r\n",
       "skinparam SequenceBoxBackgroundColor #white\r\n",
       "skinparam style strictuml\r\n",
       "skinparam maxMessageSize 100\r\n",
       "\r\n",
       "@enduml\r\n",
       "\n",
       "PlantUML version 1.2022.7(Mon Aug 22 17:01:30 UTC 2022)\n",
       "(EPL source distribution)\n",
       "Java Runtime: OpenJDK Runtime Environment\n",
       "JVM: OpenJDK 64-Bit Server VM\n",
       "Default Encoding: UTF-8\n",
       "Language: en\n",
       "Country: null\n",
       "--></g></svg>"
      ]
     },
     "execution_count": 7,
     "metadata": {},
     "output_type": "execute_result"
    }
   ],
   "source": [
    "%viz --style=\"COMPTREE\" --view=\"Sequence\" \"TradeStudyTest\""
   ]
  },
  {
   "cell_type": "code",
   "execution_count": 8,
   "id": "ef026647",
   "metadata": {
    "execution": {
     "iopub.execute_input": "2024-12-16T14:21:07.524679Z",
     "iopub.status.busy": "2024-12-16T14:21:07.524373Z",
     "iopub.status.idle": "2024-12-16T14:21:07.567212Z",
     "shell.execute_reply": "2024-12-16T14:21:07.567034Z"
    }
   },
   "outputs": [
    {
     "data": {
      "image/svg+xml": [
       "<?xml version=\"1.0\" encoding=\"UTF-8\" standalone=\"no\"?><svg xmlns=\"http://www.w3.org/2000/svg\" xmlns:xlink=\"http://www.w3.org/1999/xlink\" contentStyleType=\"text/css\" height=\"538px\" preserveAspectRatio=\"none\" style=\"width:570px;height:538px;background:#FFFFFF;\" version=\"1.1\" viewBox=\"0 0 570 538\" width=\"570px\" zoomAndPan=\"magnify\"><defs/><g><!--MD5=[fbc87193dbaf4d95561dea2c320d4a47]\n",
       "cluster E1--><g id=\"cluster_E1\"><a href=\"psysml:a91f55f8-3969-42e6-b46f-82de9da3fdc7\" target=\"_top\" title=\"psysml:a91f55f8-3969-42e6-b46f-82de9da3fdc7\" xlink:actuate=\"onRequest\" xlink:href=\"psysml:a91f55f8-3969-42e6-b46f-82de9da3fdc7\" xlink:show=\"new\" xlink:title=\"psysml:a91f55f8-3969-42e6-b46f-82de9da3fdc7\" xlink:type=\"simple\"><polygon fill=\"none\" points=\"16,6,138.125,6,145.125,28.2969,553,28.2969,553,531,16,531,16,6\" style=\"stroke:#000000;stroke-width:1.5;\"/><line style=\"stroke:#000000;stroke-width:1.5;\" x1=\"16\" x2=\"145.125\" y1=\"28.2969\" y2=\"28.2969\"/><text fill=\"#000000\" font-family=\"sans-serif\" font-size=\"14\" font-weight=\"bold\" lengthAdjust=\"spacing\" textLength=\"116.125\" x=\"20\" y=\"20.9951\">TradeStudyTest</text></a></g><!--MD5=[de5ec2e2e8f62f467e546659f5068c88]\n",
       "cluster E5--><g id=\"cluster_E5\"><a href=\"psysml:538ece1f-cb66-4e09-817f-0abcddd62ddd\" target=\"_top\" title=\"psysml:538ece1f-cb66-4e09-817f-0abcddd62ddd\" xlink:actuate=\"onRequest\" xlink:href=\"psysml:538ece1f-cb66-4e09-817f-0abcddd62ddd\" xlink:show=\"new\" xlink:title=\"psysml:538ece1f-cb66-4e09-817f-0abcddd62ddd\" xlink:type=\"simple\"><rect fill=\"#FFFFFF\" height=\"158\" id=\"E5\" rx=\"10\" ry=\"10\" style=\"stroke:#383838;stroke-width:1.5;\" width=\"250\" x=\"236\" y=\"57\"/><text fill=\"#000000\" font-family=\"sans-serif\" font-size=\"12\" font-style=\"italic\" lengthAdjust=\"spacing\" textLength=\"64\" x=\"329\" y=\"73.1387\">«analysis»</text><text fill=\"#000000\" font-family=\"sans-serif\" font-size=\"14\" lengthAdjust=\"spacing\" textLength=\"215\" x=\"249.5\" y=\"88.9639\">engineTradeStudy: TradeStudy</text><line style=\"stroke:#383838;stroke-width:1.0;\" x1=\"236\" x2=\"486\" y1=\"97.2656\" y2=\"97.2656\"/></a></g><!--MD5=[b4997ac47864f28c2f74865a473b2911]\n",
       "class E2--><a href=\"psysml:8055cf29-c4ca-4370-b025-bca5bf4f4944\" target=\"_top\" title=\"psysml:8055cf29-c4ca-4370-b025-bca5bf4f4944\" xlink:actuate=\"onRequest\" xlink:href=\"psysml:8055cf29-c4ca-4370-b025-bca5bf4f4944\" xlink:show=\"new\" xlink:title=\"psysml:8055cf29-c4ca-4370-b025-bca5bf4f4944\" xlink:type=\"simple\"><g id=\"elem_E2\"><rect fill=\"#FFFFFF\" height=\"48.2656\" id=\"E2\" style=\"stroke:#181818;stroke-width:0.5;\" width=\"70\" x=\"309\" y=\"467\"/><text fill=\"#000000\" font-family=\"sans-serif\" font-size=\"12\" font-style=\"italic\" lengthAdjust=\"spacing\" textLength=\"68\" x=\"310\" y=\"483.1387\">«part  def»</text><text fill=\"#000000\" font-family=\"sans-serif\" font-size=\"14\" lengthAdjust=\"spacing\" textLength=\"48\" x=\"320\" y=\"498.9639\">Engine</text><line style=\"stroke:#181818;stroke-width:0.5;\" x1=\"310\" x2=\"378\" y1=\"507.2656\" y2=\"507.2656\"/></g></a><!--MD5=[09b614a08d8cba4a07c9adeb5e0fee81]\n",
       "class E3--><a href=\"psysml:479197b1-ce2e-480f-b2ef-7f257dc343b8\" target=\"_top\" title=\"psysml:479197b1-ce2e-480f-b2ef-7f257dc343b8\" xlink:actuate=\"onRequest\" xlink:href=\"psysml:479197b1-ce2e-480f-b2ef-7f257dc343b8\" xlink:show=\"new\" xlink:title=\"psysml:479197b1-ce2e-480f-b2ef-7f257dc343b8\" xlink:type=\"simple\"><g id=\"elem_E3\"><rect fill=\"#FFFFFF\" height=\"48.2656\" id=\"E3\" rx=\"10\" ry=\"10\" style=\"stroke:#181818;stroke-width:0.5;\" width=\"128\" x=\"195\" y=\"359\"/><text fill=\"#000000\" font-family=\"sans-serif\" font-size=\"12\" font-style=\"italic\" lengthAdjust=\"spacing\" textLength=\"40\" x=\"239\" y=\"375.1387\">«part»</text><text fill=\"#000000\" font-family=\"sans-serif\" font-size=\"14\" lengthAdjust=\"spacing\" textLength=\"114\" x=\"198\" y=\"390.9639\">engine1: Engine</text><line style=\"stroke:#181818;stroke-width:0.5;\" x1=\"196\" x2=\"322\" y1=\"399.2656\" y2=\"399.2656\"/></g></a><!--MD5=[ebbe1d658d1005bcc118a6aa81145e00]\n",
       "class E4--><a href=\"psysml:df8f9049-6917-4fa7-a1c9-f212538c9a4e\" target=\"_top\" title=\"psysml:df8f9049-6917-4fa7-a1c9-f212538c9a4e\" xlink:actuate=\"onRequest\" xlink:href=\"psysml:df8f9049-6917-4fa7-a1c9-f212538c9a4e\" xlink:show=\"new\" xlink:title=\"psysml:df8f9049-6917-4fa7-a1c9-f212538c9a4e\" xlink:type=\"simple\"><g id=\"elem_E4\"><rect fill=\"#FFFFFF\" height=\"48.2656\" id=\"E4\" rx=\"10\" ry=\"10\" style=\"stroke:#181818;stroke-width:0.5;\" width=\"128\" x=\"32\" y=\"359\"/><text fill=\"#000000\" font-family=\"sans-serif\" font-size=\"12\" font-style=\"italic\" lengthAdjust=\"spacing\" textLength=\"40\" x=\"76\" y=\"375.1387\">«part»</text><text fill=\"#000000\" font-family=\"sans-serif\" font-size=\"14\" lengthAdjust=\"spacing\" textLength=\"114\" x=\"35\" y=\"390.9639\">engine2: Engine</text><line style=\"stroke:#181818;stroke-width:0.5;\" x1=\"33\" x2=\"159\" y1=\"399.2656\" y2=\"399.2656\"/></g></a><!--MD5=[2156ba9850f5573cc1fc38a6a4b2f02b]\n",
       "class E7--><a href=\"psysml:f253b0d3-72ce-4ec1-aa97-c21cff35f053\" target=\"_top\" title=\"psysml:f253b0d3-72ce-4ec1-aa97-c21cff35f053\" xlink:actuate=\"onRequest\" xlink:href=\"psysml:f253b0d3-72ce-4ec1-aa97-c21cff35f053\" xlink:show=\"new\" xlink:title=\"psysml:f253b0d3-72ce-4ec1-aa97-c21cff35f053\" xlink:type=\"simple\"><g id=\"elem_E7\"><rect fill=\"#FFFFFF\" height=\"48.2656\" id=\"E7\" rx=\"10\" ry=\"10\" style=\"stroke:#181818;stroke-width:0.5;\" width=\"144\" x=\"155\" y=\"251\"/><text fill=\"#000000\" font-family=\"sans-serif\" font-size=\"12\" font-style=\"italic\" lengthAdjust=\"spacing\" textLength=\"82\" x=\"186\" y=\"267.1387\">«calculation»</text><text fill=\"#000000\" font-family=\"sans-serif\" font-size=\"14\" lengthAdjust=\"spacing\" textLength=\"130\" x=\"158\" y=\"282.9639\">evaluationFunction</text><line style=\"stroke:#181818;stroke-width:0.5;\" x1=\"156\" x2=\"298\" y1=\"291.2656\" y2=\"291.2656\"/></g></a><!--MD5=[b9389687b975829384b498ac4b7476b2]\n",
       "class E8--><a href=\"psysml:753de58d-f4ea-44a5-91ee-5ffc5e7a177d\" target=\"_top\" title=\"psysml:753de58d-f4ea-44a5-91ee-5ffc5e7a177d\" xlink:actuate=\"onRequest\" xlink:href=\"psysml:753de58d-f4ea-44a5-91ee-5ffc5e7a177d\" xlink:show=\"new\" xlink:title=\"psysml:753de58d-f4ea-44a5-91ee-5ffc5e7a177d\" xlink:type=\"simple\"><g id=\"elem_E8\"><rect fill=\"#FFFFFF\" height=\"48.2656\" id=\"E8\" rx=\"10\" ry=\"10\" style=\"stroke:#181818;stroke-width:0.5;\" width=\"142\" x=\"358\" y=\"359\"/><text fill=\"#000000\" font-family=\"sans-serif\" font-size=\"12\" font-style=\"italic\" lengthAdjust=\"spacing\" textLength=\"40\" x=\"409\" y=\"375.1387\">«part»</text><text fill=\"#000000\" font-family=\"sans-serif\" font-size=\"14\" lengthAdjust=\"spacing\" textLength=\"128\" x=\"361\" y=\"390.9639\">alternative: Engine</text><line style=\"stroke:#181818;stroke-width:0.5;\" x1=\"359\" x2=\"499\" y1=\"399.2656\" y2=\"399.2656\"/></g></a><!--MD5=[fd4143e9d270a159db93a4ea2a975926]\n",
       "class E9--><a href=\"psysml:76ff8411-b0e7-4dd9-89c0-3f2666988fc0\" target=\"_top\" title=\"psysml:76ff8411-b0e7-4dd9-89c0-3f2666988fc0\" xlink:actuate=\"onRequest\" xlink:href=\"psysml:76ff8411-b0e7-4dd9-89c0-3f2666988fc0\" xlink:show=\"new\" xlink:title=\"psysml:76ff8411-b0e7-4dd9-89c0-3f2666988fc0\" xlink:type=\"simple\"><g id=\"elem_E9\"><rect fill=\"#FFFFFF\" height=\"48.2656\" id=\"E9\" rx=\"10\" ry=\"10\" style=\"stroke:#181818;stroke-width:0.5;\" width=\"203\" x=\"334.5\" y=\"251\"/><text fill=\"#000000\" font-family=\"sans-serif\" font-size=\"12\" font-style=\"italic\" lengthAdjust=\"spacing\" textLength=\"40\" x=\"416\" y=\"267.1387\">«part»</text><text fill=\"#000000\" font-family=\"sans-serif\" font-size=\"14\" lengthAdjust=\"spacing\" textLength=\"189\" x=\"337.5\" y=\"282.9639\">selectedAlternative: Engine</text><line style=\"stroke:#181818;stroke-width:0.5;\" x1=\"335.5\" x2=\"536.5\" y1=\"291.2656\" y2=\"291.2656\"/></g></a><!--MD5=[60a26617385b1d2d0262a64233df1f8d]\n",
       "class E6--><a href=\"psysml:4f755969-6586-456d-bfaa-2c124f0f3312\" target=\"_top\" title=\"psysml:4f755969-6586-456d-bfaa-2c124f0f3312\" xlink:actuate=\"onRequest\" xlink:href=\"psysml:4f755969-6586-456d-bfaa-2c124f0f3312\" xlink:show=\"new\" xlink:title=\"psysml:4f755969-6586-456d-bfaa-2c124f0f3312\" xlink:type=\"simple\"><g id=\"elem_E6\"><rect fill=\"#FFFFFF\" height=\"75.0813\" id=\"E6\" rx=\"10\" ry=\"10\" style=\"stroke:#181818;stroke-width:0.5;\" width=\"145\" x=\"306.5\" y=\"116\"/><text fill=\"#000000\" font-family=\"sans-serif\" font-size=\"12\" font-style=\"italic\" lengthAdjust=\"spacing\" textLength=\"70\" x=\"344\" y=\"132.1387\">«objective»</text><text fill=\"#000000\" font-family=\"sans-serif\" font-size=\"14\" lengthAdjust=\"spacing\" textLength=\"139\" x=\"309.5\" y=\"147.9639\">tradeStudyObjective</text><line style=\"stroke:#181818;stroke-width:0.5;\" x1=\"307.5\" x2=\"450.5\" y1=\"156.2656\" y2=\"156.2656\"/><text fill=\"#000000\" font-family=\"sans-serif\" font-size=\"14\" lengthAdjust=\"spacing\" textLength=\"132\" x=\"312.5\" y=\"183.7795\">selectedAlternative</text><text fill=\"#000000\" font-family=\"sans-serif\" font-size=\"14\" font-style=\"italic\" lengthAdjust=\"spacing\" textLength=\"51\" x=\"353.5\" y=\"168.6123\">subject</text></g></a><!--MD5=[05d275557350bfb9b23a4ef7222b4c39]\n",
       "link E3 to E2--><g id=\"link_E3_E2\"><a href=\"psysml:bc3cf079-eae7-49ce-b297-ec132a977e50\" target=\"_top\" title=\"psysml:bc3cf079-eae7-49ce-b297-ec132a977e50\" xlink:actuate=\"onRequest\" xlink:href=\"psysml:bc3cf079-eae7-49ce-b297-ec132a977e50\" xlink:show=\"new\" xlink:title=\"psysml:bc3cf079-eae7-49ce-b297-ec132a977e50\" xlink:type=\"simple\"><path d=\"M277.44,407 C287.73,419.83 300.82,436.16 312.67,450.93 \" fill=\"none\" id=\"E3-to-E2\" style=\"stroke:#181818;stroke-width:1.0;\"/><polygon fill=\"#FFFFFF\" points=\"325.3,466.68,307.9565,456.2299,318.8819,447.4756,325.3,466.68\" style=\"stroke:#181818;stroke-width:1.0;\"/><ellipse cx=\"305.9531\" cy=\"450.5311\" fill=\"#181818\" rx=\"2\" ry=\"2\" style=\"stroke:#181818;stroke-width:1.0;\"/><ellipse cx=\"313.7569\" cy=\"444.2781\" fill=\"#181818\" rx=\"2\" ry=\"2\" style=\"stroke:#181818;stroke-width:1.0;\"/></a></g><!--MD5=[185131fc0dcab0a4505a2ebe144e961b]\n",
       "link E4 to E2--><g id=\"link_E4_E2\"><a href=\"psysml:aa1a99dc-dc69-45ac-b95f-3bcc471ea5d4\" target=\"_top\" title=\"psysml:aa1a99dc-dc69-45ac-b95f-3bcc471ea5d4\" xlink:actuate=\"onRequest\" xlink:href=\"psysml:aa1a99dc-dc69-45ac-b95f-3bcc471ea5d4\" xlink:show=\"new\" xlink:title=\"psysml:aa1a99dc-dc69-45ac-b95f-3bcc471ea5d4\" xlink:type=\"simple\"><path d=\"M149.81,407 C191.38,424.77 248.64,449.24 290.2,467.01 \" fill=\"none\" id=\"E4-to-E2\" style=\"stroke:#181818;stroke-width:1.0;\"/><polygon fill=\"#FFFFFF\" points=\"308.64,474.89,288.4184,473.8471,293.9285,460.977,308.64,474.89\" style=\"stroke:#181818;stroke-width:1.0;\"/><ellipse cx=\"283.9656\" cy=\"469.7652\" fill=\"#181818\" rx=\"2\" ry=\"2\" style=\"stroke:#181818;stroke-width:1.0;\"/><ellipse cx=\"287.9013\" cy=\"460.5722\" fill=\"#181818\" rx=\"2\" ry=\"2\" style=\"stroke:#181818;stroke-width:1.0;\"/></a></g><!--MD5=[452b418e7f8a40397a49b8c0a78acc5b]\n",
       "reverse link E5 to E7--><g id=\"link_E5_E7\"><a href=\"psysml:ae0ddffd-d94b-4ee5-a4cb-a499b90c2b96\" target=\"_top\" title=\"psysml:ae0ddffd-d94b-4ee5-a4cb-a499b90c2b96\" xlink:actuate=\"onRequest\" xlink:href=\"psysml:ae0ddffd-d94b-4ee5-a4cb-a499b90c2b96\" xlink:show=\"new\" xlink:title=\"psysml:ae0ddffd-d94b-4ee5-a4cb-a499b90c2b96\" xlink:type=\"simple\"><path d=\"M244.1719,215.3826 C244.124,215.5464 244.076,215.7101 244.0281,215.8739 C243.8363,216.5288 243.6446,217.1834 243.453,217.8375 C243.0699,219.1456 242.6874,220.4515 242.3064,221.7525 C239.2581,232.1606 236.3,242.26 233.81,250.76 \" fill=\"none\" id=\"E5-backto-E7\" style=\"stroke:#181818;stroke-width:1.0;\"/><polygon fill=\"#181818\" points=\"244.1719,215.3826,238.6468,220.0166,240.7992,226.8989,246.3243,222.265,244.1719,215.3826\" style=\"stroke:#181818;stroke-width:1.0;\"/></a></g><!--MD5=[dc164f5e8a733ab456ef1add180e9e34]\n",
       "reverse link E7 to E8--><g id=\"link_E7_E8\"><a href=\"psysml:a8c82a2a-741b-4fac-ac9b-98beb228d3cb\" target=\"_top\" title=\"psysml:a8c82a2a-741b-4fac-ac9b-98beb228d3cb\" xlink:actuate=\"onRequest\" xlink:href=\"psysml:a8c82a2a-741b-4fac-ac9b-98beb228d3cb\" xlink:show=\"new\" xlink:title=\"psysml:a8c82a2a-741b-4fac-ac9b-98beb228d3cb\" xlink:type=\"simple\"><path d=\"M282.76,305.26 C314.96,322.16 354.91,343.12 384.91,358.86 \" fill=\"none\" id=\"E7-backto-E8\" style=\"stroke:#181818;stroke-width:1.0;\"/><polygon fill=\"none\" points=\"270.83,299,274.284,305.3301,281.4556,304.5765,278.0016,298.2464,270.83,299\" style=\"stroke:#181818;stroke-width:1.0;\"/></a></g><!--MD5=[f1f3f9f2fc535e6147756cb86a7f2e32]\n",
       "link E8 to E2--><g id=\"link_E8_E2\"><a href=\"psysml:199cdd6b-9599-4ee9-8d7a-04a31416ec15\" target=\"_top\" title=\"psysml:199cdd6b-9599-4ee9-8d7a-04a31416ec15\" xlink:actuate=\"onRequest\" xlink:href=\"psysml:199cdd6b-9599-4ee9-8d7a-04a31416ec15\" xlink:show=\"new\" xlink:title=\"psysml:199cdd6b-9599-4ee9-8d7a-04a31416ec15\" xlink:type=\"simple\"><path d=\"M410.56,407 C400.27,419.83 387.18,436.16 375.33,450.93 \" fill=\"none\" id=\"E8-to-E2\" style=\"stroke:#181818;stroke-width:1.0;\"/><polygon fill=\"#FFFFFF\" points=\"362.7,466.68,369.1181,447.4756,380.0435,456.2299,362.7,466.68\" style=\"stroke:#181818;stroke-width:1.0;\"/><ellipse cx=\"374.2431\" cy=\"444.2781\" fill=\"#181818\" rx=\"2\" ry=\"2\" style=\"stroke:#181818;stroke-width:1.0;\"/><ellipse cx=\"382.0469\" cy=\"450.5311\" fill=\"#181818\" rx=\"2\" ry=\"2\" style=\"stroke:#181818;stroke-width:1.0;\"/></a></g><!--MD5=[9ae28de373ca99bb8a1b38d63370ca7e]\n",
       "reverse link E5 to E9--><g id=\"link_E5_E9\"><a href=\"psysml:549a8511-5afb-4107-9df8-0f136ad572ec\" target=\"_top\" title=\"psysml:549a8511-5afb-4107-9df8-0f136ad572ec\" xlink:actuate=\"onRequest\" xlink:href=\"psysml:549a8511-5afb-4107-9df8-0f136ad572ec\" xlink:show=\"new\" xlink:title=\"psysml:549a8511-5afb-4107-9df8-0f136ad572ec\" xlink:type=\"simple\"><path d=\"M277.9238,215.3079 C279.0235,217.2432 280.1988,219.1321 281.4547,220.9571 C283.9666,224.607 286.8013,228.0013 290,231 C302.53,242.75 318.11,251.3 334.38,257.53 \" fill=\"none\" id=\"E5-backto-E9\" style=\"stroke:#181818;stroke-width:1.0;\"/><polygon fill=\"none\" points=\"277.9238,215.3079,277.4102,222.5006,283.8521,225.7412,284.3658,218.5484,277.9238,215.3079\" style=\"stroke:#181818;stroke-width:1.0;\"/></a></g><!--MD5=[5c3bb36fe832a92c7f0e1807dd65209d]\n",
       "link E9 to E2--><g id=\"link_E9_E2\"><a href=\"psysml:94a3a0b9-9284-4132-a69a-1dbd276e1390\" target=\"_top\" title=\"psysml:94a3a0b9-9284-4132-a69a-1dbd276e1390\" xlink:actuate=\"onRequest\" xlink:href=\"psysml:94a3a0b9-9284-4132-a69a-1dbd276e1390\" xlink:show=\"new\" xlink:title=\"psysml:94a3a0b9-9284-4132-a69a-1dbd276e1390\" xlink:type=\"simple\"><path d=\"M468.09,299.22 C500.23,325.43 541.77,369.33 518,407 C492.01,448.19 439.34,469.37 398.72,479.98 \" fill=\"none\" id=\"E9-to-E2\" style=\"stroke:#181818;stroke-width:1.0;\"/><polygon fill=\"#FFFFFF\" points=\"379.07,484.56,395.9826,473.4261,399.1635,487.06,379.07,484.56\" style=\"stroke:#181818;stroke-width:1.0;\"/><ellipse cx=\"401.988\" cy=\"474.0788\" fill=\"#181818\" rx=\"2\" ry=\"2\" style=\"stroke:#181818;stroke-width:1.0;\"/><ellipse cx=\"404.26\" cy=\"483.8172\" fill=\"#181818\" rx=\"2\" ry=\"2\" style=\"stroke:#181818;stroke-width:1.0;\"/></a></g><!--MD5=[b95e5c43394bfbebc23950c6784f09f8]\n",
       "@startuml\r\n",
       "skin sysmlbw\r\n",
       "skinparam monochrome true\r\n",
       "skinparam wrapWidth 300\r\n",
       "hide circle\r\n",
       " \r\n",
       "package \"TradeStudyTest\" as E1  [[psysml:a91f55f8-3969-42e6-b46f-82de9da3fdc7 ]]  {\r\n",
       "comp def \"Engine\" as E2  <<(T,blue) part  def>> [[psysml:8055cf29-c4ca-4370-b025-bca5bf4f4944 ]] {\r\n",
       "}\r\n",
       "comp usage \"engine1: Engine  \" as E3  <<(T,blue) part>> [[psysml:479197b1-ce2e-480f-b2ef-7f257dc343b8 ]] {\r\n",
       "}\r\n",
       "comp usage \"engine2: Engine  \" as E4  <<(T,blue) part>> [[psysml:df8f9049-6917-4fa7-a1c9-f212538c9a4e ]] {\r\n",
       "}\r\n",
       "rec usage \"engineTradeStudy: TradeStudy  \" as E5  << analysis>> [[psysml:538ece1f-cb66-4e09-817f-0abcddd62ddd ]] {\r\n",
       "comp usage \"tradeStudyObjective\" as E6  <<objective>> [[psysml:4f755969-6586-456d-bfaa-2c124f0f3312 ]] {\r\n",
       "##//subject//##\r\n",
       "selectedAlternative\r\n",
       "}\r\n",
       "}\r\n",
       "comp usage \"evaluationFunction  \" as E7  <<(T,blue) calculation>> [[psysml:f253b0d3-72ce-4ec1-aa97-c21cff35f053 ]] {\r\n",
       "}\r\n",
       "comp usage \"alternative: Engine  \" as E8  <<(T,blue) part>> [[psysml:753de58d-f4ea-44a5-91ee-5ffc5e7a177d ]] {\r\n",
       "}\r\n",
       "comp usage \"selectedAlternative: Engine  \" as E9  <<(T,blue) part>> [[psysml:76ff8411-b0e7-4dd9-89c0-3f2666988fc0 ]] {\r\n",
       "}\r\n",
       "}\r\n",
       "E3 - -:|> E2 [[psysml:bc3cf079-eae7-49ce-b297-ec132a977e50 ]] \r\n",
       "E4 - -:|> E2 [[psysml:aa1a99dc-dc69-45ac-b95f-3bcc471ea5d4 ]] \r\n",
       "E5 *- - E7 [[psysml:ae0ddffd-d94b-4ee5-a4cb-a499b90c2b96 ]] \r\n",
       "E7 o- - E8 [[psysml:a8c82a2a-741b-4fac-ac9b-98beb228d3cb ]] \r\n",
       "E8 - -:|> E2 [[psysml:199cdd6b-9599-4ee9-8d7a-04a31416ec15 ]] \r\n",
       "E5 o- - E9 [[psysml:549a8511-5afb-4107-9df8-0f136ad572ec ]] \r\n",
       "E9 - -:|> E2 [[psysml:94a3a0b9-9284-4132-a69a-1dbd276e1390 ]] \r\n",
       "@enduml\r\n",
       "\n",
       "PlantUML version 1.2022.7(Mon Aug 22 17:01:30 UTC 2022)\n",
       "(EPL source distribution)\n",
       "Java Runtime: OpenJDK Runtime Environment\n",
       "JVM: OpenJDK 64-Bit Server VM\n",
       "Default Encoding: UTF-8\n",
       "Language: en\n",
       "Country: null\n",
       "--></g></svg>"
      ]
     },
     "execution_count": 8,
     "metadata": {},
     "output_type": "execute_result"
    }
   ],
   "source": [
    "%viz --style=\"COMPTREE\" --view=\"MIXED\" \"TradeStudyTest\""
   ]
  },
  {
   "cell_type": "code",
   "execution_count": 9,
   "id": "6e2a0f1c",
   "metadata": {
    "execution": {
     "iopub.execute_input": "2024-12-16T14:21:07.623074Z",
     "iopub.status.busy": "2024-12-16T14:21:07.622850Z",
     "iopub.status.idle": "2024-12-16T14:21:07.659862Z",
     "shell.execute_reply": "2024-12-16T14:21:07.659000Z"
    }
   },
   "outputs": [
    {
     "data": {
      "image/svg+xml": [
       "<?xml version=\"1.0\" encoding=\"UTF-8\" standalone=\"no\"?><svg xmlns=\"http://www.w3.org/2000/svg\" xmlns:xlink=\"http://www.w3.org/1999/xlink\" contentStyleType=\"text/css\" height=\"538px\" preserveAspectRatio=\"none\" style=\"width:570px;height:538px;background:#FFFFFF;\" version=\"1.1\" viewBox=\"0 0 570 538\" width=\"570px\" zoomAndPan=\"magnify\"><defs/><g><!--MD5=[fbc87193dbaf4d95561dea2c320d4a47]\n",
       "cluster E1--><g id=\"cluster_E1\"><a href=\"psysml:a91f55f8-3969-42e6-b46f-82de9da3fdc7\" target=\"_top\" title=\"psysml:a91f55f8-3969-42e6-b46f-82de9da3fdc7\" xlink:actuate=\"onRequest\" xlink:href=\"psysml:a91f55f8-3969-42e6-b46f-82de9da3fdc7\" xlink:show=\"new\" xlink:title=\"psysml:a91f55f8-3969-42e6-b46f-82de9da3fdc7\" xlink:type=\"simple\"><polygon fill=\"none\" points=\"16,6,138.125,6,145.125,28.2969,553,28.2969,553,531,16,531,16,6\" style=\"stroke:#000000;stroke-width:1.5;\"/><line style=\"stroke:#000000;stroke-width:1.5;\" x1=\"16\" x2=\"145.125\" y1=\"28.2969\" y2=\"28.2969\"/><text fill=\"#000000\" font-family=\"sans-serif\" font-size=\"14\" font-weight=\"bold\" lengthAdjust=\"spacing\" textLength=\"116.125\" x=\"20\" y=\"20.9951\">TradeStudyTest</text></a></g><!--MD5=[de5ec2e2e8f62f467e546659f5068c88]\n",
       "cluster E5--><g id=\"cluster_E5\"><a href=\"psysml:538ece1f-cb66-4e09-817f-0abcddd62ddd\" target=\"_top\" title=\"psysml:538ece1f-cb66-4e09-817f-0abcddd62ddd\" xlink:actuate=\"onRequest\" xlink:href=\"psysml:538ece1f-cb66-4e09-817f-0abcddd62ddd\" xlink:show=\"new\" xlink:title=\"psysml:538ece1f-cb66-4e09-817f-0abcddd62ddd\" xlink:type=\"simple\"><rect fill=\"#FFFFFF\" height=\"158\" id=\"E5\" rx=\"10\" ry=\"10\" style=\"stroke:#383838;stroke-width:1.5;\" width=\"250\" x=\"236\" y=\"57\"/><text fill=\"#000000\" font-family=\"sans-serif\" font-size=\"12\" font-style=\"italic\" lengthAdjust=\"spacing\" textLength=\"64\" x=\"329\" y=\"73.1387\">«analysis»</text><text fill=\"#000000\" font-family=\"sans-serif\" font-size=\"14\" lengthAdjust=\"spacing\" textLength=\"215\" x=\"249.5\" y=\"88.9639\">engineTradeStudy: TradeStudy</text><line style=\"stroke:#383838;stroke-width:1.0;\" x1=\"236\" x2=\"486\" y1=\"97.2656\" y2=\"97.2656\"/></a></g><!--MD5=[b4997ac47864f28c2f74865a473b2911]\n",
       "class E2--><a href=\"psysml:8055cf29-c4ca-4370-b025-bca5bf4f4944\" target=\"_top\" title=\"psysml:8055cf29-c4ca-4370-b025-bca5bf4f4944\" xlink:actuate=\"onRequest\" xlink:href=\"psysml:8055cf29-c4ca-4370-b025-bca5bf4f4944\" xlink:show=\"new\" xlink:title=\"psysml:8055cf29-c4ca-4370-b025-bca5bf4f4944\" xlink:type=\"simple\"><g id=\"elem_E2\"><rect fill=\"#FFFFFF\" height=\"48.2656\" id=\"E2\" style=\"stroke:#181818;stroke-width:0.5;\" width=\"70\" x=\"309\" y=\"467\"/><text fill=\"#000000\" font-family=\"sans-serif\" font-size=\"12\" font-style=\"italic\" lengthAdjust=\"spacing\" textLength=\"68\" x=\"310\" y=\"483.1387\">«part  def»</text><text fill=\"#000000\" font-family=\"sans-serif\" font-size=\"14\" lengthAdjust=\"spacing\" textLength=\"48\" x=\"320\" y=\"498.9639\">Engine</text><line style=\"stroke:#181818;stroke-width:0.5;\" x1=\"310\" x2=\"378\" y1=\"507.2656\" y2=\"507.2656\"/></g></a><!--MD5=[09b614a08d8cba4a07c9adeb5e0fee81]\n",
       "class E3--><a href=\"psysml:479197b1-ce2e-480f-b2ef-7f257dc343b8\" target=\"_top\" title=\"psysml:479197b1-ce2e-480f-b2ef-7f257dc343b8\" xlink:actuate=\"onRequest\" xlink:href=\"psysml:479197b1-ce2e-480f-b2ef-7f257dc343b8\" xlink:show=\"new\" xlink:title=\"psysml:479197b1-ce2e-480f-b2ef-7f257dc343b8\" xlink:type=\"simple\"><g id=\"elem_E3\"><rect fill=\"#FFFFFF\" height=\"48.2656\" id=\"E3\" rx=\"10\" ry=\"10\" style=\"stroke:#181818;stroke-width:0.5;\" width=\"128\" x=\"195\" y=\"359\"/><text fill=\"#000000\" font-family=\"sans-serif\" font-size=\"12\" font-style=\"italic\" lengthAdjust=\"spacing\" textLength=\"40\" x=\"239\" y=\"375.1387\">«part»</text><text fill=\"#000000\" font-family=\"sans-serif\" font-size=\"14\" lengthAdjust=\"spacing\" textLength=\"114\" x=\"198\" y=\"390.9639\">engine1: Engine</text><line style=\"stroke:#181818;stroke-width:0.5;\" x1=\"196\" x2=\"322\" y1=\"399.2656\" y2=\"399.2656\"/></g></a><!--MD5=[ebbe1d658d1005bcc118a6aa81145e00]\n",
       "class E4--><a href=\"psysml:df8f9049-6917-4fa7-a1c9-f212538c9a4e\" target=\"_top\" title=\"psysml:df8f9049-6917-4fa7-a1c9-f212538c9a4e\" xlink:actuate=\"onRequest\" xlink:href=\"psysml:df8f9049-6917-4fa7-a1c9-f212538c9a4e\" xlink:show=\"new\" xlink:title=\"psysml:df8f9049-6917-4fa7-a1c9-f212538c9a4e\" xlink:type=\"simple\"><g id=\"elem_E4\"><rect fill=\"#FFFFFF\" height=\"48.2656\" id=\"E4\" rx=\"10\" ry=\"10\" style=\"stroke:#181818;stroke-width:0.5;\" width=\"128\" x=\"32\" y=\"359\"/><text fill=\"#000000\" font-family=\"sans-serif\" font-size=\"12\" font-style=\"italic\" lengthAdjust=\"spacing\" textLength=\"40\" x=\"76\" y=\"375.1387\">«part»</text><text fill=\"#000000\" font-family=\"sans-serif\" font-size=\"14\" lengthAdjust=\"spacing\" textLength=\"114\" x=\"35\" y=\"390.9639\">engine2: Engine</text><line style=\"stroke:#181818;stroke-width:0.5;\" x1=\"33\" x2=\"159\" y1=\"399.2656\" y2=\"399.2656\"/></g></a><!--MD5=[2156ba9850f5573cc1fc38a6a4b2f02b]\n",
       "class E7--><a href=\"psysml:f253b0d3-72ce-4ec1-aa97-c21cff35f053\" target=\"_top\" title=\"psysml:f253b0d3-72ce-4ec1-aa97-c21cff35f053\" xlink:actuate=\"onRequest\" xlink:href=\"psysml:f253b0d3-72ce-4ec1-aa97-c21cff35f053\" xlink:show=\"new\" xlink:title=\"psysml:f253b0d3-72ce-4ec1-aa97-c21cff35f053\" xlink:type=\"simple\"><g id=\"elem_E7\"><rect fill=\"#FFFFFF\" height=\"48.2656\" id=\"E7\" rx=\"10\" ry=\"10\" style=\"stroke:#181818;stroke-width:0.5;\" width=\"144\" x=\"155\" y=\"251\"/><text fill=\"#000000\" font-family=\"sans-serif\" font-size=\"12\" font-style=\"italic\" lengthAdjust=\"spacing\" textLength=\"82\" x=\"186\" y=\"267.1387\">«calculation»</text><text fill=\"#000000\" font-family=\"sans-serif\" font-size=\"14\" lengthAdjust=\"spacing\" textLength=\"130\" x=\"158\" y=\"282.9639\">evaluationFunction</text><line style=\"stroke:#181818;stroke-width:0.5;\" x1=\"156\" x2=\"298\" y1=\"291.2656\" y2=\"291.2656\"/></g></a><!--MD5=[b9389687b975829384b498ac4b7476b2]\n",
       "class E8--><a href=\"psysml:753de58d-f4ea-44a5-91ee-5ffc5e7a177d\" target=\"_top\" title=\"psysml:753de58d-f4ea-44a5-91ee-5ffc5e7a177d\" xlink:actuate=\"onRequest\" xlink:href=\"psysml:753de58d-f4ea-44a5-91ee-5ffc5e7a177d\" xlink:show=\"new\" xlink:title=\"psysml:753de58d-f4ea-44a5-91ee-5ffc5e7a177d\" xlink:type=\"simple\"><g id=\"elem_E8\"><rect fill=\"#FFFFFF\" height=\"48.2656\" id=\"E8\" rx=\"10\" ry=\"10\" style=\"stroke:#181818;stroke-width:0.5;\" width=\"142\" x=\"358\" y=\"359\"/><text fill=\"#000000\" font-family=\"sans-serif\" font-size=\"12\" font-style=\"italic\" lengthAdjust=\"spacing\" textLength=\"40\" x=\"409\" y=\"375.1387\">«part»</text><text fill=\"#000000\" font-family=\"sans-serif\" font-size=\"14\" lengthAdjust=\"spacing\" textLength=\"128\" x=\"361\" y=\"390.9639\">alternative: Engine</text><line style=\"stroke:#181818;stroke-width:0.5;\" x1=\"359\" x2=\"499\" y1=\"399.2656\" y2=\"399.2656\"/></g></a><!--MD5=[fd4143e9d270a159db93a4ea2a975926]\n",
       "class E9--><a href=\"psysml:76ff8411-b0e7-4dd9-89c0-3f2666988fc0\" target=\"_top\" title=\"psysml:76ff8411-b0e7-4dd9-89c0-3f2666988fc0\" xlink:actuate=\"onRequest\" xlink:href=\"psysml:76ff8411-b0e7-4dd9-89c0-3f2666988fc0\" xlink:show=\"new\" xlink:title=\"psysml:76ff8411-b0e7-4dd9-89c0-3f2666988fc0\" xlink:type=\"simple\"><g id=\"elem_E9\"><rect fill=\"#FFFFFF\" height=\"48.2656\" id=\"E9\" rx=\"10\" ry=\"10\" style=\"stroke:#181818;stroke-width:0.5;\" width=\"203\" x=\"334.5\" y=\"251\"/><text fill=\"#000000\" font-family=\"sans-serif\" font-size=\"12\" font-style=\"italic\" lengthAdjust=\"spacing\" textLength=\"40\" x=\"416\" y=\"267.1387\">«part»</text><text fill=\"#000000\" font-family=\"sans-serif\" font-size=\"14\" lengthAdjust=\"spacing\" textLength=\"189\" x=\"337.5\" y=\"282.9639\">selectedAlternative: Engine</text><line style=\"stroke:#181818;stroke-width:0.5;\" x1=\"335.5\" x2=\"536.5\" y1=\"291.2656\" y2=\"291.2656\"/></g></a><!--MD5=[60a26617385b1d2d0262a64233df1f8d]\n",
       "class E6--><a href=\"psysml:4f755969-6586-456d-bfaa-2c124f0f3312\" target=\"_top\" title=\"psysml:4f755969-6586-456d-bfaa-2c124f0f3312\" xlink:actuate=\"onRequest\" xlink:href=\"psysml:4f755969-6586-456d-bfaa-2c124f0f3312\" xlink:show=\"new\" xlink:title=\"psysml:4f755969-6586-456d-bfaa-2c124f0f3312\" xlink:type=\"simple\"><g id=\"elem_E6\"><rect fill=\"#FFFFFF\" height=\"75.0813\" id=\"E6\" rx=\"10\" ry=\"10\" style=\"stroke:#181818;stroke-width:0.5;\" width=\"145\" x=\"306.5\" y=\"116\"/><text fill=\"#000000\" font-family=\"sans-serif\" font-size=\"12\" font-style=\"italic\" lengthAdjust=\"spacing\" textLength=\"70\" x=\"344\" y=\"132.1387\">«objective»</text><text fill=\"#000000\" font-family=\"sans-serif\" font-size=\"14\" lengthAdjust=\"spacing\" textLength=\"139\" x=\"309.5\" y=\"147.9639\">tradeStudyObjective</text><line style=\"stroke:#181818;stroke-width:0.5;\" x1=\"307.5\" x2=\"450.5\" y1=\"156.2656\" y2=\"156.2656\"/><text fill=\"#000000\" font-family=\"sans-serif\" font-size=\"14\" lengthAdjust=\"spacing\" textLength=\"132\" x=\"312.5\" y=\"183.7795\">selectedAlternative</text><text fill=\"#000000\" font-family=\"sans-serif\" font-size=\"14\" font-style=\"italic\" lengthAdjust=\"spacing\" textLength=\"51\" x=\"353.5\" y=\"168.6123\">subject</text></g></a><!--MD5=[05d275557350bfb9b23a4ef7222b4c39]\n",
       "link E3 to E2--><g id=\"link_E3_E2\"><a href=\"psysml:bc3cf079-eae7-49ce-b297-ec132a977e50\" target=\"_top\" title=\"psysml:bc3cf079-eae7-49ce-b297-ec132a977e50\" xlink:actuate=\"onRequest\" xlink:href=\"psysml:bc3cf079-eae7-49ce-b297-ec132a977e50\" xlink:show=\"new\" xlink:title=\"psysml:bc3cf079-eae7-49ce-b297-ec132a977e50\" xlink:type=\"simple\"><path d=\"M277.44,407 C287.73,419.83 300.82,436.16 312.67,450.93 \" fill=\"none\" id=\"E3-to-E2\" style=\"stroke:#181818;stroke-width:1.0;\"/><polygon fill=\"#FFFFFF\" points=\"325.3,466.68,307.9565,456.2299,318.8819,447.4756,325.3,466.68\" style=\"stroke:#181818;stroke-width:1.0;\"/><ellipse cx=\"305.9531\" cy=\"450.5311\" fill=\"#181818\" rx=\"2\" ry=\"2\" style=\"stroke:#181818;stroke-width:1.0;\"/><ellipse cx=\"313.7569\" cy=\"444.2781\" fill=\"#181818\" rx=\"2\" ry=\"2\" style=\"stroke:#181818;stroke-width:1.0;\"/></a></g><!--MD5=[185131fc0dcab0a4505a2ebe144e961b]\n",
       "link E4 to E2--><g id=\"link_E4_E2\"><a href=\"psysml:aa1a99dc-dc69-45ac-b95f-3bcc471ea5d4\" target=\"_top\" title=\"psysml:aa1a99dc-dc69-45ac-b95f-3bcc471ea5d4\" xlink:actuate=\"onRequest\" xlink:href=\"psysml:aa1a99dc-dc69-45ac-b95f-3bcc471ea5d4\" xlink:show=\"new\" xlink:title=\"psysml:aa1a99dc-dc69-45ac-b95f-3bcc471ea5d4\" xlink:type=\"simple\"><path d=\"M149.81,407 C191.38,424.77 248.64,449.24 290.2,467.01 \" fill=\"none\" id=\"E4-to-E2\" style=\"stroke:#181818;stroke-width:1.0;\"/><polygon fill=\"#FFFFFF\" points=\"308.64,474.89,288.4184,473.8471,293.9285,460.977,308.64,474.89\" style=\"stroke:#181818;stroke-width:1.0;\"/><ellipse cx=\"283.9656\" cy=\"469.7652\" fill=\"#181818\" rx=\"2\" ry=\"2\" style=\"stroke:#181818;stroke-width:1.0;\"/><ellipse cx=\"287.9013\" cy=\"460.5722\" fill=\"#181818\" rx=\"2\" ry=\"2\" style=\"stroke:#181818;stroke-width:1.0;\"/></a></g><!--MD5=[452b418e7f8a40397a49b8c0a78acc5b]\n",
       "reverse link E5 to E7--><g id=\"link_E5_E7\"><a href=\"psysml:ae0ddffd-d94b-4ee5-a4cb-a499b90c2b96\" target=\"_top\" title=\"psysml:ae0ddffd-d94b-4ee5-a4cb-a499b90c2b96\" xlink:actuate=\"onRequest\" xlink:href=\"psysml:ae0ddffd-d94b-4ee5-a4cb-a499b90c2b96\" xlink:show=\"new\" xlink:title=\"psysml:ae0ddffd-d94b-4ee5-a4cb-a499b90c2b96\" xlink:type=\"simple\"><path d=\"M244.1719,215.3826 C244.124,215.5464 244.076,215.7101 244.0281,215.8739 C243.8363,216.5288 243.6446,217.1834 243.453,217.8375 C243.0699,219.1456 242.6874,220.4515 242.3064,221.7525 C239.2581,232.1606 236.3,242.26 233.81,250.76 \" fill=\"none\" id=\"E5-backto-E7\" style=\"stroke:#181818;stroke-width:1.0;\"/><polygon fill=\"#181818\" points=\"244.1719,215.3826,238.6468,220.0166,240.7992,226.8989,246.3243,222.265,244.1719,215.3826\" style=\"stroke:#181818;stroke-width:1.0;\"/></a></g><!--MD5=[dc164f5e8a733ab456ef1add180e9e34]\n",
       "reverse link E7 to E8--><g id=\"link_E7_E8\"><a href=\"psysml:a8c82a2a-741b-4fac-ac9b-98beb228d3cb\" target=\"_top\" title=\"psysml:a8c82a2a-741b-4fac-ac9b-98beb228d3cb\" xlink:actuate=\"onRequest\" xlink:href=\"psysml:a8c82a2a-741b-4fac-ac9b-98beb228d3cb\" xlink:show=\"new\" xlink:title=\"psysml:a8c82a2a-741b-4fac-ac9b-98beb228d3cb\" xlink:type=\"simple\"><path d=\"M282.76,305.26 C314.96,322.16 354.91,343.12 384.91,358.86 \" fill=\"none\" id=\"E7-backto-E8\" style=\"stroke:#181818;stroke-width:1.0;\"/><polygon fill=\"none\" points=\"270.83,299,274.284,305.3301,281.4556,304.5765,278.0016,298.2464,270.83,299\" style=\"stroke:#181818;stroke-width:1.0;\"/></a></g><!--MD5=[f1f3f9f2fc535e6147756cb86a7f2e32]\n",
       "link E8 to E2--><g id=\"link_E8_E2\"><a href=\"psysml:199cdd6b-9599-4ee9-8d7a-04a31416ec15\" target=\"_top\" title=\"psysml:199cdd6b-9599-4ee9-8d7a-04a31416ec15\" xlink:actuate=\"onRequest\" xlink:href=\"psysml:199cdd6b-9599-4ee9-8d7a-04a31416ec15\" xlink:show=\"new\" xlink:title=\"psysml:199cdd6b-9599-4ee9-8d7a-04a31416ec15\" xlink:type=\"simple\"><path d=\"M410.56,407 C400.27,419.83 387.18,436.16 375.33,450.93 \" fill=\"none\" id=\"E8-to-E2\" style=\"stroke:#181818;stroke-width:1.0;\"/><polygon fill=\"#FFFFFF\" points=\"362.7,466.68,369.1181,447.4756,380.0435,456.2299,362.7,466.68\" style=\"stroke:#181818;stroke-width:1.0;\"/><ellipse cx=\"374.2431\" cy=\"444.2781\" fill=\"#181818\" rx=\"2\" ry=\"2\" style=\"stroke:#181818;stroke-width:1.0;\"/><ellipse cx=\"382.0469\" cy=\"450.5311\" fill=\"#181818\" rx=\"2\" ry=\"2\" style=\"stroke:#181818;stroke-width:1.0;\"/></a></g><!--MD5=[9ae28de373ca99bb8a1b38d63370ca7e]\n",
       "reverse link E5 to E9--><g id=\"link_E5_E9\"><a href=\"psysml:549a8511-5afb-4107-9df8-0f136ad572ec\" target=\"_top\" title=\"psysml:549a8511-5afb-4107-9df8-0f136ad572ec\" xlink:actuate=\"onRequest\" xlink:href=\"psysml:549a8511-5afb-4107-9df8-0f136ad572ec\" xlink:show=\"new\" xlink:title=\"psysml:549a8511-5afb-4107-9df8-0f136ad572ec\" xlink:type=\"simple\"><path d=\"M284.2242,215.2185 C284.4023,215.7052 284.5777,216.1845 284.7502,216.6556 C285.095,217.5979 285.4281,218.5079 285.7477,219.3811 C288.3044,226.3669 290,231 290,231 C290,231 323.16,240.77 357.87,250.99 \" fill=\"none\" id=\"E5-backto-E9\" style=\"stroke:#181818;stroke-width:1.0;\"/><polygon fill=\"none\" points=\"284.2242,215.2185,282.53,222.2278,288.3485,226.4875,290.0427,219.4782,284.2242,215.2185\" style=\"stroke:#181818;stroke-width:1.0;\"/></a></g><!--MD5=[5c3bb36fe832a92c7f0e1807dd65209d]\n",
       "link E9 to E2--><g id=\"link_E9_E2\"><a href=\"psysml:94a3a0b9-9284-4132-a69a-1dbd276e1390\" target=\"_top\" title=\"psysml:94a3a0b9-9284-4132-a69a-1dbd276e1390\" xlink:actuate=\"onRequest\" xlink:href=\"psysml:94a3a0b9-9284-4132-a69a-1dbd276e1390\" xlink:show=\"new\" xlink:title=\"psysml:94a3a0b9-9284-4132-a69a-1dbd276e1390\" xlink:type=\"simple\"><path d=\"M458.84,299.12 C483.1,323.68 518,359 518,359 C518,359 518,407 518,407 C518,407 448.55,440.13 397.4,464.53 \" fill=\"none\" id=\"E9-to-E2\" style=\"stroke:#181818;stroke-width:1.0;\"/><polygon fill=\"#FFFFFF\" points=\"379.21,473.2,393.3446,458.7013,399.3726,471.337,379.21,473.2\" style=\"stroke:#181818;stroke-width:1.0;\"/><ellipse cx=\"399.3503\" cy=\"458.0521\" fill=\"#181818\" rx=\"2\" ry=\"2\" style=\"stroke:#181818;stroke-width:1.0;\"/><ellipse cx=\"403.656\" cy=\"467.0777\" fill=\"#181818\" rx=\"2\" ry=\"2\" style=\"stroke:#181818;stroke-width:1.0;\"/></a></g><!--MD5=[b6360fa1722926d63e0383b987bc9dd8]\n",
       "@startuml\r\n",
       "skin sysmlbw\r\n",
       "skinparam monochrome true\r\n",
       "skinparam wrapWidth 300\r\n",
       "hide circle\r\n",
       "skinparam linetype polyline\r\n",
       "\r\n",
       "package \"TradeStudyTest\" as E1  [[psysml:a91f55f8-3969-42e6-b46f-82de9da3fdc7 ]]  {\r\n",
       "comp def \"Engine\" as E2  <<(T,blue) part  def>> [[psysml:8055cf29-c4ca-4370-b025-bca5bf4f4944 ]] {\r\n",
       "}\r\n",
       "comp usage \"engine1: Engine  \" as E3  <<(T,blue) part>> [[psysml:479197b1-ce2e-480f-b2ef-7f257dc343b8 ]] {\r\n",
       "}\r\n",
       "comp usage \"engine2: Engine  \" as E4  <<(T,blue) part>> [[psysml:df8f9049-6917-4fa7-a1c9-f212538c9a4e ]] {\r\n",
       "}\r\n",
       "rec usage \"engineTradeStudy: TradeStudy  \" as E5  << analysis>> [[psysml:538ece1f-cb66-4e09-817f-0abcddd62ddd ]] {\r\n",
       "comp usage \"tradeStudyObjective\" as E6  <<objective>> [[psysml:4f755969-6586-456d-bfaa-2c124f0f3312 ]] {\r\n",
       "##//subject//##\r\n",
       "selectedAlternative\r\n",
       "}\r\n",
       "}\r\n",
       "comp usage \"evaluationFunction  \" as E7  <<(T,blue) calculation>> [[psysml:f253b0d3-72ce-4ec1-aa97-c21cff35f053 ]] {\r\n",
       "}\r\n",
       "comp usage \"alternative: Engine  \" as E8  <<(T,blue) part>> [[psysml:753de58d-f4ea-44a5-91ee-5ffc5e7a177d ]] {\r\n",
       "}\r\n",
       "comp usage \"selectedAlternative: Engine  \" as E9  <<(T,blue) part>> [[psysml:76ff8411-b0e7-4dd9-89c0-3f2666988fc0 ]] {\r\n",
       "}\r\n",
       "}\r\n",
       "E3 - -:|> E2 [[psysml:bc3cf079-eae7-49ce-b297-ec132a977e50 ]] \r\n",
       "E4 - -:|> E2 [[psysml:aa1a99dc-dc69-45ac-b95f-3bcc471ea5d4 ]] \r\n",
       "E5 *- - E7 [[psysml:ae0ddffd-d94b-4ee5-a4cb-a499b90c2b96 ]] \r\n",
       "E7 o- - E8 [[psysml:a8c82a2a-741b-4fac-ac9b-98beb228d3cb ]] \r\n",
       "E8 - -:|> E2 [[psysml:199cdd6b-9599-4ee9-8d7a-04a31416ec15 ]] \r\n",
       "E5 o- - E9 [[psysml:549a8511-5afb-4107-9df8-0f136ad572ec ]] \r\n",
       "E9 - -:|> E2 [[psysml:94a3a0b9-9284-4132-a69a-1dbd276e1390 ]] \r\n",
       "@enduml\r\n",
       "\n",
       "PlantUML version 1.2022.7(Mon Aug 22 17:01:30 UTC 2022)\n",
       "(EPL source distribution)\n",
       "Java Runtime: OpenJDK Runtime Environment\n",
       "JVM: OpenJDK 64-Bit Server VM\n",
       "Default Encoding: UTF-8\n",
       "Language: en\n",
       "Country: null\n",
       "--></g></svg>"
      ]
     },
     "execution_count": 9,
     "metadata": {},
     "output_type": "execute_result"
    }
   ],
   "source": [
    "%viz --style=\"POLYLINE\" --view=\"Default\" \"TradeStudyTest\""
   ]
  },
  {
   "cell_type": "code",
   "execution_count": 10,
   "id": "0acd0edc",
   "metadata": {
    "execution": {
     "iopub.execute_input": "2024-12-16T14:21:07.715279Z",
     "iopub.status.busy": "2024-12-16T14:21:07.715050Z",
     "iopub.status.idle": "2024-12-16T14:21:07.750025Z",
     "shell.execute_reply": "2024-12-16T14:21:07.749834Z"
    }
   },
   "outputs": [
    {
     "data": {
      "image/svg+xml": [
       "<?xml version=\"1.0\" encoding=\"UTF-8\" standalone=\"no\"?><svg xmlns=\"http://www.w3.org/2000/svg\" xmlns:xlink=\"http://www.w3.org/1999/xlink\" contentStyleType=\"text/css\" height=\"572px\" preserveAspectRatio=\"none\" style=\"width:570px;height:572px;background:#FFFFFF;\" version=\"1.1\" viewBox=\"0 0 570 572\" width=\"570px\" zoomAndPan=\"magnify\"><defs/><g><!--MD5=[fbc87193dbaf4d95561dea2c320d4a47]\n",
       "cluster E1--><g id=\"cluster_E1\"><a href=\"psysml:a91f55f8-3969-42e6-b46f-82de9da3fdc7\" target=\"_top\" title=\"psysml:a91f55f8-3969-42e6-b46f-82de9da3fdc7\" xlink:actuate=\"onRequest\" xlink:href=\"psysml:a91f55f8-3969-42e6-b46f-82de9da3fdc7\" xlink:show=\"new\" xlink:title=\"psysml:a91f55f8-3969-42e6-b46f-82de9da3fdc7\" xlink:type=\"simple\"><polygon fill=\"none\" points=\"16,6,138.125,6,145.125,28.2969,553,28.2969,553,565,16,565,16,6\" style=\"stroke:#000000;stroke-width:1.5;\"/><line style=\"stroke:#000000;stroke-width:1.5;\" x1=\"16\" x2=\"145.125\" y1=\"28.2969\" y2=\"28.2969\"/><text fill=\"#000000\" font-family=\"sans-serif\" font-size=\"14\" font-weight=\"bold\" lengthAdjust=\"spacing\" textLength=\"116.125\" x=\"20\" y=\"20.9951\">TradeStudyTest</text></a></g><!--MD5=[b4997ac47864f28c2f74865a473b2911]\n",
       "class E2--><a href=\"psysml:8055cf29-c4ca-4370-b025-bca5bf4f4944\" target=\"_top\" title=\"psysml:8055cf29-c4ca-4370-b025-bca5bf4f4944\" xlink:actuate=\"onRequest\" xlink:href=\"psysml:8055cf29-c4ca-4370-b025-bca5bf4f4944\" xlink:show=\"new\" xlink:title=\"psysml:8055cf29-c4ca-4370-b025-bca5bf4f4944\" xlink:type=\"simple\"><g id=\"elem_E2\"><rect fill=\"#FFFFFF\" height=\"48.2656\" id=\"E2\" style=\"stroke:#181818;stroke-width:0.5;\" width=\"70\" x=\"202\" y=\"501\"/><text fill=\"#000000\" font-family=\"sans-serif\" font-size=\"12\" font-style=\"italic\" lengthAdjust=\"spacing\" textLength=\"68\" x=\"203\" y=\"517.1387\">«part  def»</text><text fill=\"#000000\" font-family=\"sans-serif\" font-size=\"14\" lengthAdjust=\"spacing\" textLength=\"48\" x=\"213\" y=\"532.9639\">Engine</text><line style=\"stroke:#181818;stroke-width:0.5;\" x1=\"203\" x2=\"271\" y1=\"541.2656\" y2=\"541.2656\"/></g></a><!--MD5=[09b614a08d8cba4a07c9adeb5e0fee81]\n",
       "class E3--><a href=\"psysml:479197b1-ce2e-480f-b2ef-7f257dc343b8\" target=\"_top\" title=\"psysml:479197b1-ce2e-480f-b2ef-7f257dc343b8\" xlink:actuate=\"onRequest\" xlink:href=\"psysml:479197b1-ce2e-480f-b2ef-7f257dc343b8\" xlink:show=\"new\" xlink:title=\"psysml:479197b1-ce2e-480f-b2ef-7f257dc343b8\" xlink:type=\"simple\"><g id=\"elem_E3\"><rect fill=\"#FFFFFF\" height=\"48.2656\" id=\"E3\" rx=\"10\" ry=\"10\" style=\"stroke:#181818;stroke-width:0.5;\" width=\"128\" x=\"409\" y=\"392\"/><text fill=\"#000000\" font-family=\"sans-serif\" font-size=\"12\" font-style=\"italic\" lengthAdjust=\"spacing\" textLength=\"40\" x=\"453\" y=\"408.1387\">«part»</text><text fill=\"#000000\" font-family=\"sans-serif\" font-size=\"14\" lengthAdjust=\"spacing\" textLength=\"114\" x=\"412\" y=\"423.9639\">engine1: Engine</text><line style=\"stroke:#181818;stroke-width:0.5;\" x1=\"410\" x2=\"536\" y1=\"432.2656\" y2=\"432.2656\"/></g></a><!--MD5=[ebbe1d658d1005bcc118a6aa81145e00]\n",
       "class E4--><a href=\"psysml:df8f9049-6917-4fa7-a1c9-f212538c9a4e\" target=\"_top\" title=\"psysml:df8f9049-6917-4fa7-a1c9-f212538c9a4e\" xlink:actuate=\"onRequest\" xlink:href=\"psysml:df8f9049-6917-4fa7-a1c9-f212538c9a4e\" xlink:show=\"new\" xlink:title=\"psysml:df8f9049-6917-4fa7-a1c9-f212538c9a4e\" xlink:type=\"simple\"><g id=\"elem_E4\"><rect fill=\"#FFFFFF\" height=\"48.2656\" id=\"E4\" rx=\"10\" ry=\"10\" style=\"stroke:#181818;stroke-width:0.5;\" width=\"128\" x=\"246\" y=\"392\"/><text fill=\"#000000\" font-family=\"sans-serif\" font-size=\"12\" font-style=\"italic\" lengthAdjust=\"spacing\" textLength=\"40\" x=\"290\" y=\"408.1387\">«part»</text><text fill=\"#000000\" font-family=\"sans-serif\" font-size=\"14\" lengthAdjust=\"spacing\" textLength=\"114\" x=\"249\" y=\"423.9639\">engine2: Engine</text><line style=\"stroke:#181818;stroke-width:0.5;\" x1=\"247\" x2=\"373\" y1=\"432.2656\" y2=\"432.2656\"/></g></a><!--MD5=[270fce915f116d4de14055a7c1d9a0f3]\n",
       "class E5--><a href=\"psysml:538ece1f-cb66-4e09-817f-0abcddd62ddd\" target=\"_top\" title=\"psysml:538ece1f-cb66-4e09-817f-0abcddd62ddd\" xlink:actuate=\"onRequest\" xlink:href=\"psysml:538ece1f-cb66-4e09-817f-0abcddd62ddd\" xlink:show=\"new\" xlink:title=\"psysml:538ece1f-cb66-4e09-817f-0abcddd62ddd\" xlink:type=\"simple\"><g id=\"elem_E5\"><rect fill=\"#FFFFFF\" height=\"91.3781\" id=\"E5\" rx=\"10\" ry=\"10\" style=\"stroke:#181818;stroke-width:0.5;\" width=\"277\" x=\"259.5\" y=\"41\"/><text fill=\"#000000\" font-family=\"sans-serif\" font-size=\"12\" font-style=\"italic\" lengthAdjust=\"spacing\" textLength=\"64\" x=\"366\" y=\"57.1387\">«analysis»</text><text fill=\"#000000\" font-family=\"sans-serif\" font-size=\"14\" lengthAdjust=\"spacing\" textLength=\"215\" x=\"286.5\" y=\"72.9639\">engineTradeStudy: TradeStudy</text><line style=\"stroke:#181818;stroke-width:0.5;\" x1=\"260.5\" x2=\"535.5\" y1=\"81.2656\" y2=\"81.2656\"/><text fill=\"#000000\" font-family=\"sans-serif\" font-size=\"14\" lengthAdjust=\"spacing\" textLength=\"261\" x=\"265.5\" y=\"108.7795\">studyAlternatives: Engine = (engine1,</text><text fill=\"#000000\" font-family=\"sans-serif\" font-size=\"14\" lengthAdjust=\"spacing\" textLength=\"62\" x=\"265.5\" y=\"125.0764\">engine2)</text><text fill=\"#000000\" font-family=\"sans-serif\" font-size=\"14\" font-style=\"italic\" lengthAdjust=\"spacing\" textLength=\"51\" x=\"372.5\" y=\"93.6123\">subject</text></g></a><!--MD5=[60a26617385b1d2d0262a64233df1f8d]\n",
       "class E6--><a href=\"psysml:4f755969-6586-456d-bfaa-2c124f0f3312\" target=\"_top\" title=\"psysml:4f755969-6586-456d-bfaa-2c124f0f3312\" xlink:actuate=\"onRequest\" xlink:href=\"psysml:4f755969-6586-456d-bfaa-2c124f0f3312\" xlink:show=\"new\" xlink:title=\"psysml:4f755969-6586-456d-bfaa-2c124f0f3312\" xlink:type=\"simple\"><g id=\"elem_E6\"><rect fill=\"#FFFFFF\" height=\"75.0813\" id=\"E6\" rx=\"10\" ry=\"10\" style=\"stroke:#181818;stroke-width:0.5;\" width=\"289\" x=\"31.5\" y=\"209\"/><text fill=\"#000000\" font-family=\"sans-serif\" font-size=\"12\" font-style=\"italic\" lengthAdjust=\"spacing\" textLength=\"91\" x=\"130.5\" y=\"225.1387\">«requirement»</text><text fill=\"#000000\" font-family=\"sans-serif\" font-size=\"14\" lengthAdjust=\"spacing\" textLength=\"275\" x=\"34.5\" y=\"240.9639\">tradeStudyObjective: MaximizeObjective</text><line style=\"stroke:#181818;stroke-width:0.5;\" x1=\"32.5\" x2=\"319.5\" y1=\"249.2656\" y2=\"249.2656\"/><text fill=\"#000000\" font-family=\"sans-serif\" font-size=\"14\" lengthAdjust=\"spacing\" textLength=\"132\" x=\"37.5\" y=\"276.7795\">selectedAlternative</text><text fill=\"#000000\" font-family=\"sans-serif\" font-size=\"14\" font-style=\"italic\" lengthAdjust=\"spacing\" textLength=\"51\" x=\"150.5\" y=\"261.6123\">subject</text></g></a><!--MD5=[2156ba9850f5573cc1fc38a6a4b2f02b]\n",
       "class E7--><a href=\"psysml:f253b0d3-72ce-4ec1-aa97-c21cff35f053\" target=\"_top\" title=\"psysml:f253b0d3-72ce-4ec1-aa97-c21cff35f053\" xlink:actuate=\"onRequest\" xlink:href=\"psysml:f253b0d3-72ce-4ec1-aa97-c21cff35f053\" xlink:show=\"new\" xlink:title=\"psysml:f253b0d3-72ce-4ec1-aa97-c21cff35f053\" xlink:type=\"simple\"><g id=\"elem_E7\"><rect fill=\"#FFFFFF\" height=\"48.2656\" id=\"E7\" rx=\"10\" ry=\"10\" style=\"stroke:#181818;stroke-width:0.5;\" width=\"144\" x=\"355\" y=\"222.5\"/><text fill=\"#000000\" font-family=\"sans-serif\" font-size=\"12\" font-style=\"italic\" lengthAdjust=\"spacing\" textLength=\"82\" x=\"386\" y=\"238.6387\">«calculation»</text><text fill=\"#000000\" font-family=\"sans-serif\" font-size=\"14\" lengthAdjust=\"spacing\" textLength=\"130\" x=\"358\" y=\"254.4639\">evaluationFunction</text><line style=\"stroke:#181818;stroke-width:0.5;\" x1=\"356\" x2=\"498\" y1=\"262.7656\" y2=\"262.7656\"/></g></a><!--MD5=[b9389687b975829384b498ac4b7476b2]\n",
       "class E8--><a href=\"psysml:753de58d-f4ea-44a5-91ee-5ffc5e7a177d\" target=\"_top\" title=\"psysml:753de58d-f4ea-44a5-91ee-5ffc5e7a177d\" xlink:actuate=\"onRequest\" xlink:href=\"psysml:753de58d-f4ea-44a5-91ee-5ffc5e7a177d\" xlink:show=\"new\" xlink:title=\"psysml:753de58d-f4ea-44a5-91ee-5ffc5e7a177d\" xlink:type=\"simple\"><g id=\"elem_E8\"><rect fill=\"#FFFFFF\" height=\"48.2656\" id=\"E8\" rx=\"10\" ry=\"10\" style=\"stroke:#181818;stroke-width:0.5;\" width=\"142\" x=\"32\" y=\"392\"/><text fill=\"#000000\" font-family=\"sans-serif\" font-size=\"12\" font-style=\"italic\" lengthAdjust=\"spacing\" textLength=\"40\" x=\"83\" y=\"408.1387\">«part»</text><text fill=\"#000000\" font-family=\"sans-serif\" font-size=\"14\" lengthAdjust=\"spacing\" textLength=\"128\" x=\"35\" y=\"423.9639\">alternative: Engine</text><line style=\"stroke:#181818;stroke-width:0.5;\" x1=\"33\" x2=\"173\" y1=\"432.2656\" y2=\"432.2656\"/></g></a><!--MD5=[fd4143e9d270a159db93a4ea2a975926]\n",
       "class E9--><a href=\"psysml:76ff8411-b0e7-4dd9-89c0-3f2666988fc0\" target=\"_top\" title=\"psysml:76ff8411-b0e7-4dd9-89c0-3f2666988fc0\" xlink:actuate=\"onRequest\" xlink:href=\"psysml:76ff8411-b0e7-4dd9-89c0-3f2666988fc0\" xlink:show=\"new\" xlink:title=\"psysml:76ff8411-b0e7-4dd9-89c0-3f2666988fc0\" xlink:type=\"simple\"><g id=\"elem_E9\"><rect fill=\"#FFFFFF\" height=\"48.2656\" id=\"E9\" rx=\"10\" ry=\"10\" style=\"stroke:#181818;stroke-width:0.5;\" width=\"203\" x=\"277.5\" y=\"314\"/><text fill=\"#000000\" font-family=\"sans-serif\" font-size=\"12\" font-style=\"italic\" lengthAdjust=\"spacing\" textLength=\"40\" x=\"359\" y=\"330.1387\">«part»</text><text fill=\"#000000\" font-family=\"sans-serif\" font-size=\"14\" lengthAdjust=\"spacing\" textLength=\"189\" x=\"280.5\" y=\"345.9639\">selectedAlternative: Engine</text><line style=\"stroke:#181818;stroke-width:0.5;\" x1=\"278.5\" x2=\"479.5\" y1=\"354.2656\" y2=\"354.2656\"/></g></a><!--MD5=[05d275557350bfb9b23a4ef7222b4c39]\n",
       "link E3 to E2--><g id=\"link_E3_E2\"><a href=\"psysml:bc3cf079-eae7-49ce-b297-ec132a977e50\" target=\"_top\" title=\"psysml:bc3cf079-eae7-49ce-b297-ec132a977e50\" xlink:actuate=\"onRequest\" xlink:href=\"psysml:bc3cf079-eae7-49ce-b297-ec132a977e50\" xlink:show=\"new\" xlink:title=\"psysml:bc3cf079-eae7-49ce-b297-ec132a977e50\" xlink:type=\"simple\"><path d=\"M422.08,440.09 C383.28,457.68 329.98,481.84 290.54,499.73 \" fill=\"none\" id=\"E3-to-E2\" style=\"stroke:#181818;stroke-width:1.0;\"/><polygon fill=\"#FFFFFF\" points=\"272.15,508.07,286.5646,493.8497,292.3451,506.6006,272.15,508.07\" style=\"stroke:#181818;stroke-width:1.0;\"/><ellipse cx=\"292.5819\" cy=\"493.3178\" fill=\"#181818\" rx=\"2\" ry=\"2\" style=\"stroke:#181818;stroke-width:1.0;\"/><ellipse cx=\"296.7108\" cy=\"502.4256\" fill=\"#181818\" rx=\"2\" ry=\"2\" style=\"stroke:#181818;stroke-width:1.0;\"/></a></g><!--MD5=[185131fc0dcab0a4505a2ebe144e961b]\n",
       "link E4 to E2--><g id=\"link_E4_E2\"><a href=\"psysml:aa1a99dc-dc69-45ac-b95f-3bcc471ea5d4\" target=\"_top\" title=\"psysml:aa1a99dc-dc69-45ac-b95f-3bcc471ea5d4\" xlink:actuate=\"onRequest\" xlink:href=\"psysml:aa1a99dc-dc69-45ac-b95f-3bcc471ea5d4\" xlink:show=\"new\" xlink:title=\"psysml:aa1a99dc-dc69-45ac-b95f-3bcc471ea5d4\" xlink:type=\"simple\"><path d=\"M294.16,440.22 C285.45,452.98 274.41,469.16 264.36,483.9 \" fill=\"none\" id=\"E4-to-E2\" style=\"stroke:#181818;stroke-width:1.0;\"/><polygon fill=\"#FFFFFF\" points=\"252.81,500.83,257.7393,481.1907,269.3027,489.083,252.81,500.83\" style=\"stroke:#181818;stroke-width:1.0;\"/><ellipse cx=\"262.6045\" cy=\"477.6102\" fill=\"#181818\" rx=\"2\" ry=\"2\" style=\"stroke:#181818;stroke-width:1.0;\"/><ellipse cx=\"270.8641\" cy=\"483.2476\" fill=\"#181818\" rx=\"2\" ry=\"2\" style=\"stroke:#181818;stroke-width:1.0;\"/></a></g><!--MD5=[9120cf2e5df3bff93db8f754bbbc09b4]\n",
       "link E5 to E6--><g id=\"link_E5_E6\"><a href=\"psysml:8e017d7e-1da3-4c9b-9b63-350890040555\" target=\"_top\" title=\"psysml:8e017d7e-1da3-4c9b-9b63-350890040555\" xlink:actuate=\"onRequest\" xlink:href=\"psysml:8e017d7e-1da3-4c9b-9b63-350890040555\" xlink:show=\"new\" xlink:title=\"psysml:8e017d7e-1da3-4c9b-9b63-350890040555\" xlink:type=\"simple\"><path d=\"M335.27,132.14 C303.43,154.8 265.01,182.15 233.88,204.31 \" fill=\"none\" id=\"E5-to-E6\" style=\"stroke:#181818;stroke-width:1.0;\"/><polygon fill=\"#181818\" points=\"227.35,208.95,235.6091,206.7619,232.1338,201.8708,227.35,208.95\" style=\"stroke:#181818;stroke-width:1.0;\"/><text fill=\"#000000\" font-family=\"sans-serif\" font-size=\"13\" lengthAdjust=\"spacing\" textLength=\"73\" x=\"288\" y=\"175.0669\">«objective»</text></a></g><!--MD5=[452b418e7f8a40397a49b8c0a78acc5b]\n",
       "reverse link E5 to E7--><g id=\"link_E5_E7\"><a href=\"psysml:ae0ddffd-d94b-4ee5-a4cb-a499b90c2b96\" target=\"_top\" title=\"psysml:ae0ddffd-d94b-4ee5-a4cb-a499b90c2b96\" xlink:actuate=\"onRequest\" xlink:href=\"psysml:ae0ddffd-d94b-4ee5-a4cb-a499b90c2b96\" xlink:show=\"new\" xlink:title=\"psysml:ae0ddffd-d94b-4ee5-a4cb-a499b90c2b96\" xlink:type=\"simple\"><path d=\"M408.58,145.15 C413.49,171.92 419.06,202.22 422.77,222.46 \" fill=\"none\" id=\"E5-backto-E7\" style=\"stroke:#181818;stroke-width:1.0;\"/><polygon fill=\"#181818\" points=\"406.23,132.35,403.3769,138.9727,408.3929,144.1535,411.2459,137.5308,406.23,132.35\" style=\"stroke:#181818;stroke-width:1.0;\"/></a></g><!--MD5=[dc164f5e8a733ab456ef1add180e9e34]\n",
       "reverse link E7 to E8--><g id=\"link_E7_E8\"><a href=\"psysml:a8c82a2a-741b-4fac-ac9b-98beb228d3cb\" target=\"_top\" title=\"psysml:a8c82a2a-741b-4fac-ac9b-98beb228d3cb\" xlink:actuate=\"onRequest\" xlink:href=\"psysml:a8c82a2a-741b-4fac-ac9b-98beb228d3cb\" xlink:show=\"new\" xlink:title=\"psysml:a8c82a2a-741b-4fac-ac9b-98beb228d3cb\" xlink:type=\"simple\"><path d=\"M358.62,275.54 C346.68,280.44 338,284 338,284 C338,284 260,314 260,314 C260,314 185.37,362.01 139.02,391.83 \" fill=\"none\" id=\"E7-backto-E8\" style=\"stroke:#181818;stroke-width:1.0;\"/><polygon fill=\"none\" points=\"370.89,270.51,363.8194,269.0937,359.7925,275.0757,366.8631,276.492,370.89,270.51\" style=\"stroke:#181818;stroke-width:1.0;\"/></a></g><!--MD5=[f1f3f9f2fc535e6147756cb86a7f2e32]\n",
       "link E8 to E2--><g id=\"link_E8_E2\"><a href=\"psysml:199cdd6b-9599-4ee9-8d7a-04a31416ec15\" target=\"_top\" title=\"psysml:199cdd6b-9599-4ee9-8d7a-04a31416ec15\" xlink:actuate=\"onRequest\" xlink:href=\"psysml:199cdd6b-9599-4ee9-8d7a-04a31416ec15\" xlink:show=\"new\" xlink:title=\"psysml:199cdd6b-9599-4ee9-8d7a-04a31416ec15\" xlink:type=\"simple\"><path d=\"M132.08,440.22 C149.64,454.24 172.38,472.4 192.2,488.22 \" fill=\"none\" id=\"E8-to-E2\" style=\"stroke:#181818;stroke-width:1.0;\"/><polygon fill=\"#FFFFFF\" points=\"207.98,500.83,188.7663,494.4397,197.5048,483.5017,207.98,500.83\" style=\"stroke:#181818;stroke-width:1.0;\"/><ellipse cx=\"185.5614\" cy=\"489.3194\" fill=\"#181818\" rx=\"2\" ry=\"2\" style=\"stroke:#181818;stroke-width:1.0;\"/><ellipse cx=\"191.8031\" cy=\"481.5065\" fill=\"#181818\" rx=\"2\" ry=\"2\" style=\"stroke:#181818;stroke-width:1.0;\"/></a></g><!--MD5=[9ae28de373ca99bb8a1b38d63370ca7e]\n",
       "reverse link E5 to E9--><g id=\"link_E5_E9\"><a href=\"psysml:549a8511-5afb-4107-9df8-0f136ad572ec\" target=\"_top\" title=\"psysml:549a8511-5afb-4107-9df8-0f136ad572ec\" xlink:actuate=\"onRequest\" xlink:href=\"psysml:549a8511-5afb-4107-9df8-0f136ad572ec\" xlink:show=\"new\" xlink:title=\"psysml:549a8511-5afb-4107-9df8-0f136ad572ec\" xlink:type=\"simple\"><path d=\"M450.93,141.55 C482.7,173.98 517,209 517,209 C517,209 517,284 517,284 C517,284 476.32,299.63 439.13,313.91 \" fill=\"none\" id=\"E5-backto-E9\" style=\"stroke:#181818;stroke-width:1.0;\"/><polygon fill=\"none\" points=\"441.64,132.05,442.9772,139.136,450.0324,140.6271,448.6953,133.5411,441.64,132.05\" style=\"stroke:#181818;stroke-width:1.0;\"/></a></g><!--MD5=[5c3bb36fe832a92c7f0e1807dd65209d]\n",
       "link E9 to E2--><g id=\"link_E9_E2\"><a href=\"psysml:94a3a0b9-9284-4132-a69a-1dbd276e1390\" target=\"_top\" title=\"psysml:94a3a0b9-9284-4132-a69a-1dbd276e1390\" xlink:actuate=\"onRequest\" xlink:href=\"psysml:94a3a0b9-9284-4132-a69a-1dbd276e1390\" xlink:show=\"new\" xlink:title=\"psysml:94a3a0b9-9284-4132-a69a-1dbd276e1390\" xlink:type=\"simple\"><path d=\"M313.64,362.09 C273.22,376.37 229,392 229,392 C229,392 229,440 229,440 C229,440 230.91,460.11 232.87,480.65 \" fill=\"none\" id=\"E9-to-E2\" style=\"stroke:#181818;stroke-width:1.0;\"/><polygon fill=\"#FFFFFF\" points=\"234.77,500.6,225.9958,482.3513,239.9325,481.0207,234.77,500.6\" style=\"stroke:#181818;stroke-width:1.0;\"/><ellipse cx=\"227.445\" cy=\"476.487\" fill=\"#181818\" rx=\"2\" ry=\"2\" style=\"stroke:#181818;stroke-width:1.0;\"/><ellipse cx=\"237.3997\" cy=\"475.5366\" fill=\"#181818\" rx=\"2\" ry=\"2\" style=\"stroke:#181818;stroke-width:1.0;\"/></a></g><!--MD5=[25022899a56ce03e922146184fbe6dd1]\n",
       "@startuml\r\n",
       "skin sysmlbw\r\n",
       "skinparam monochrome true\r\n",
       "skinparam wrapWidth 300\r\n",
       "hide circle\r\n",
       "skinparam linetype polyline\r\n",
       "\r\n",
       "package \"TradeStudyTest\" as E1  [[psysml:a91f55f8-3969-42e6-b46f-82de9da3fdc7 ]]  {\r\n",
       "comp def \"Engine\" as E2  <<(T,blue) part  def>> [[psysml:8055cf29-c4ca-4370-b025-bca5bf4f4944 ]] {\r\n",
       "}\r\n",
       "comp usage \"engine1: Engine  \" as E3  <<(T,blue) part>> [[psysml:479197b1-ce2e-480f-b2ef-7f257dc343b8 ]] {\r\n",
       "}\r\n",
       "comp usage \"engine2: Engine  \" as E4  <<(T,blue) part>> [[psysml:df8f9049-6917-4fa7-a1c9-f212538c9a4e ]] {\r\n",
       "}\r\n",
       "comp usage \"engineTradeStudy: TradeStudy  \" as E5  << analysis>> [[psysml:538ece1f-cb66-4e09-817f-0abcddd62ddd ]] {\r\n",
       "##//subject//##\r\n",
       "studyAlternatives: Engine <U+003D> (engine1, engine2)\r\n",
       "}\r\n",
       "comp usage \"tradeStudyObjective: MaximizeObjective  \" as E6  <<(T,blue) requirement>> [[psysml:4f755969-6586-456d-bfaa-2c124f0f3312 ]] {\r\n",
       "##//subject//##\r\n",
       "selectedAlternative\r\n",
       "}\r\n",
       "comp usage \"evaluationFunction  \" as E7  <<(T,blue) calculation>> [[psysml:f253b0d3-72ce-4ec1-aa97-c21cff35f053 ]] {\r\n",
       "}\r\n",
       "comp usage \"alternative: Engine  \" as E8  <<(T,blue) part>> [[psysml:753de58d-f4ea-44a5-91ee-5ffc5e7a177d ]] {\r\n",
       "}\r\n",
       "comp usage \"selectedAlternative: Engine  \" as E9  <<(T,blue) part>> [[psysml:76ff8411-b0e7-4dd9-89c0-3f2666988fc0 ]] {\r\n",
       "}\r\n",
       "}\r\n",
       "E3 - -:|> E2 [[psysml:bc3cf079-eae7-49ce-b297-ec132a977e50 ]] \r\n",
       "E4 - -:|> E2 [[psysml:aa1a99dc-dc69-45ac-b95f-3bcc471ea5d4 ]] \r\n",
       "E5 - ->> E6 [[psysml:8e017d7e-1da3-4c9b-9b63-350890040555 ]] : <<objective>>\r\n",
       "E5 *- - E7 [[psysml:ae0ddffd-d94b-4ee5-a4cb-a499b90c2b96 ]] \r\n",
       "E7 o- - E8 [[psysml:a8c82a2a-741b-4fac-ac9b-98beb228d3cb ]] \r\n",
       "E8 - -:|> E2 [[psysml:199cdd6b-9599-4ee9-8d7a-04a31416ec15 ]] \r\n",
       "E5 o- - E9 [[psysml:549a8511-5afb-4107-9df8-0f136ad572ec ]] \r\n",
       "E9 - -:|> E2 [[psysml:94a3a0b9-9284-4132-a69a-1dbd276e1390 ]] \r\n",
       "@enduml\r\n",
       "\n",
       "PlantUML version 1.2022.7(Mon Aug 22 17:01:30 UTC 2022)\n",
       "(EPL source distribution)\n",
       "Java Runtime: OpenJDK Runtime Environment\n",
       "JVM: OpenJDK 64-Bit Server VM\n",
       "Default Encoding: UTF-8\n",
       "Language: en\n",
       "Country: null\n",
       "--></g></svg>"
      ]
     },
     "execution_count": 10,
     "metadata": {},
     "output_type": "execute_result"
    }
   ],
   "source": [
    "%viz --style=\"POLYLINE\" --view=\"Tree\" \"TradeStudyTest\""
   ]
  },
  {
   "cell_type": "code",
   "execution_count": 11,
   "id": "2c276ea2",
   "metadata": {
    "execution": {
     "iopub.execute_input": "2024-12-16T14:21:07.805950Z",
     "iopub.status.busy": "2024-12-16T14:21:07.805717Z",
     "iopub.status.idle": "2024-12-16T14:21:07.813641Z",
     "shell.execute_reply": "2024-12-16T14:21:07.813447Z"
    }
   },
   "outputs": [
    {
     "data": {
      "image/svg+xml": [
       "<?xml version=\"1.0\" encoding=\"UTF-8\" standalone=\"no\"?><svg xmlns=\"http://www.w3.org/2000/svg\" xmlns:xlink=\"http://www.w3.org/1999/xlink\" contentStyleType=\"text/css\" height=\"10px\" preserveAspectRatio=\"none\" style=\"width:10px;height:10px;background:#FFFFFF;\" version=\"1.1\" viewBox=\"0 0 10 10\" width=\"10px\" zoomAndPan=\"magnify\"><defs/><g><!--MD5=[20bed88d98f2aabbefdc8661420d403d]\n",
       "@startuml\r\n",
       "skin sysmlbw\r\n",
       "skinparam monochrome true\r\n",
       "skinparam wrapWidth 300\r\n",
       "hide circle\r\n",
       "skinparam linetype polyline\r\n",
       "\r\n",
       "@enduml\r\n",
       "\n",
       "PlantUML version 1.2022.7(Mon Aug 22 17:01:30 UTC 2022)\n",
       "(EPL source distribution)\n",
       "Java Runtime: OpenJDK Runtime Environment\n",
       "JVM: OpenJDK 64-Bit Server VM\n",
       "Default Encoding: UTF-8\n",
       "Language: en\n",
       "Country: null\n",
       "--></g></svg>"
      ]
     },
     "execution_count": 11,
     "metadata": {},
     "output_type": "execute_result"
    }
   ],
   "source": [
    "%viz --style=\"POLYLINE\" --view=\"State\" \"TradeStudyTest\""
   ]
  },
  {
   "cell_type": "code",
   "execution_count": 12,
   "id": "067d5cb3",
   "metadata": {
    "execution": {
     "iopub.execute_input": "2024-12-16T14:21:07.864778Z",
     "iopub.status.busy": "2024-12-16T14:21:07.864542Z",
     "iopub.status.idle": "2024-12-16T14:21:07.899916Z",
     "shell.execute_reply": "2024-12-16T14:21:07.899028Z"
    }
   },
   "outputs": [
    {
     "data": {
      "image/svg+xml": [
       "<?xml version=\"1.0\" encoding=\"UTF-8\" standalone=\"no\"?><svg xmlns=\"http://www.w3.org/2000/svg\" xmlns:xlink=\"http://www.w3.org/1999/xlink\" contentStyleType=\"text/css\" height=\"415px\" preserveAspectRatio=\"none\" style=\"width:565px;height:415px;background:#FFFFFF;\" version=\"1.1\" viewBox=\"0 0 565 415\" width=\"565px\" zoomAndPan=\"magnify\"><defs/><g><!--MD5=[fbc87193dbaf4d95561dea2c320d4a47]\n",
       "cluster E1--><g id=\"cluster_E1\"><a href=\"psysml:a91f55f8-3969-42e6-b46f-82de9da3fdc7\" target=\"_top\" title=\"psysml:a91f55f8-3969-42e6-b46f-82de9da3fdc7\" xlink:actuate=\"onRequest\" xlink:href=\"psysml:a91f55f8-3969-42e6-b46f-82de9da3fdc7\" xlink:show=\"new\" xlink:title=\"psysml:a91f55f8-3969-42e6-b46f-82de9da3fdc7\" xlink:type=\"simple\"><polygon fill=\"none\" points=\"16,6,138.125,6,145.125,28.2969,548,28.2969,548,408,16,408,16,6\" style=\"stroke:#000000;stroke-width:1.5;\"/><line style=\"stroke:#000000;stroke-width:1.5;\" x1=\"16\" x2=\"145.125\" y1=\"28.2969\" y2=\"28.2969\"/><text fill=\"#000000\" font-family=\"sans-serif\" font-size=\"14\" font-weight=\"bold\" lengthAdjust=\"spacing\" textLength=\"116.125\" x=\"20\" y=\"20.9951\">TradeStudyTest</text></a></g><!--MD5=[de5ec2e2e8f62f467e546659f5068c88]\n",
       "cluster E5--><g id=\"cluster_E5\"><a href=\"psysml:538ece1f-cb66-4e09-817f-0abcddd62ddd\" target=\"_top\" title=\"psysml:538ece1f-cb66-4e09-817f-0abcddd62ddd\" xlink:actuate=\"onRequest\" xlink:href=\"psysml:538ece1f-cb66-4e09-817f-0abcddd62ddd\" xlink:show=\"new\" xlink:title=\"psysml:538ece1f-cb66-4e09-817f-0abcddd62ddd\" xlink:type=\"simple\"><rect fill=\"#FFFFFF\" height=\"158\" id=\"E5\" rx=\"10\" ry=\"10\" style=\"stroke:#383838;stroke-width:1.5;\" width=\"250\" x=\"231\" y=\"57\"/><text fill=\"#000000\" font-family=\"sans-serif\" font-size=\"12\" font-style=\"italic\" lengthAdjust=\"spacing\" textLength=\"64\" x=\"324\" y=\"73.1387\">«analysis»</text><text fill=\"#000000\" font-family=\"sans-serif\" font-size=\"14\" lengthAdjust=\"spacing\" textLength=\"215\" x=\"244.5\" y=\"88.9639\">engineTradeStudy: TradeStudy</text><line style=\"stroke:#383838;stroke-width:1.0;\" x1=\"231\" x2=\"481\" y1=\"97.2656\" y2=\"97.2656\"/></a></g><!--MD5=[2156ba9850f5573cc1fc38a6a4b2f02b]\n",
       "class E7--><a href=\"psysml:f253b0d3-72ce-4ec1-aa97-c21cff35f053\" target=\"_top\" title=\"psysml:f253b0d3-72ce-4ec1-aa97-c21cff35f053\" xlink:actuate=\"onRequest\" xlink:href=\"psysml:f253b0d3-72ce-4ec1-aa97-c21cff35f053\" xlink:show=\"new\" xlink:title=\"psysml:f253b0d3-72ce-4ec1-aa97-c21cff35f053\" xlink:type=\"simple\"><g id=\"elem_E7\"><rect fill=\"#FFFFFF\" height=\"48.2656\" id=\"E7\" rx=\"10\" ry=\"10\" style=\"stroke:#181818;stroke-width:0.5;\" width=\"144\" x=\"150\" y=\"239\"/><text fill=\"#000000\" font-family=\"sans-serif\" font-size=\"12\" font-style=\"italic\" lengthAdjust=\"spacing\" textLength=\"82\" x=\"181\" y=\"255.1387\">«calculation»</text><text fill=\"#000000\" font-family=\"sans-serif\" font-size=\"14\" lengthAdjust=\"spacing\" textLength=\"130\" x=\"153\" y=\"270.9639\">evaluationFunction</text><line style=\"stroke:#181818;stroke-width:0.5;\" x1=\"151\" x2=\"293\" y1=\"279.2656\" y2=\"279.2656\"/></g></a><!--MD5=[b9389687b975829384b498ac4b7476b2]\n",
       "class E8--><a href=\"psysml:753de58d-f4ea-44a5-91ee-5ffc5e7a177d\" target=\"_top\" title=\"psysml:753de58d-f4ea-44a5-91ee-5ffc5e7a177d\" xlink:actuate=\"onRequest\" xlink:href=\"psysml:753de58d-f4ea-44a5-91ee-5ffc5e7a177d\" xlink:show=\"new\" xlink:title=\"psysml:753de58d-f4ea-44a5-91ee-5ffc5e7a177d\" xlink:type=\"simple\"><g id=\"elem_E8\"><rect fill=\"#FFFFFF\" height=\"34.2969\" id=\"E8\" rx=\"10\" ry=\"10\" style=\"stroke:#181818;stroke-width:0.5;\" width=\"142\" x=\"353\" y=\"300\"/><text fill=\"#000000\" font-family=\"sans-serif\" font-size=\"14\" lengthAdjust=\"spacing\" textLength=\"128\" x=\"356\" y=\"317.9951\">alternative: Engine</text><line style=\"stroke:#181818;stroke-width:0.5;\" x1=\"354\" x2=\"494\" y1=\"326.2969\" y2=\"326.2969\"/></g></a><!--MD5=[fd4143e9d270a159db93a4ea2a975926]\n",
       "class E9--><a href=\"psysml:76ff8411-b0e7-4dd9-89c0-3f2666988fc0\" target=\"_top\" title=\"psysml:76ff8411-b0e7-4dd9-89c0-3f2666988fc0\" xlink:actuate=\"onRequest\" xlink:href=\"psysml:76ff8411-b0e7-4dd9-89c0-3f2666988fc0\" xlink:show=\"new\" xlink:title=\"psysml:76ff8411-b0e7-4dd9-89c0-3f2666988fc0\" xlink:type=\"simple\"><g id=\"elem_E9\"><rect fill=\"#FFFFFF\" height=\"34.2969\" id=\"E9\" rx=\"10\" ry=\"10\" style=\"stroke:#181818;stroke-width:0.5;\" width=\"203\" x=\"329.5\" y=\"246\"/><text fill=\"#000000\" font-family=\"sans-serif\" font-size=\"14\" lengthAdjust=\"spacing\" textLength=\"189\" x=\"332.5\" y=\"263.9951\">selectedAlternative: Engine</text><line style=\"stroke:#181818;stroke-width:0.5;\" x1=\"330.5\" x2=\"531.5\" y1=\"272.2969\" y2=\"272.2969\"/></g></a><g><a href=\"psysml:8055cf29-c4ca-4370-b025-bca5bf4f4944\" target=\"_top\" title=\"psysml:8055cf29-c4ca-4370-b025-bca5bf4f4944\" xlink:actuate=\"onRequest\" xlink:href=\"psysml:8055cf29-c4ca-4370-b025-bca5bf4f4944\" xlink:show=\"new\" xlink:title=\"psysml:8055cf29-c4ca-4370-b025-bca5bf4f4944\" xlink:type=\"simple\"><rect fill=\"#FFFFFF\" height=\"45.2656\" id=\"E2\" style=\"stroke:#383838;stroke-width:1.5;\" width=\"75\" x=\"301.5\" y=\"347\"/><text fill=\"#000000\" font-family=\"sans-serif\" font-size=\"12\" font-style=\"italic\" lengthAdjust=\"spacing\" textLength=\"68\" x=\"305\" y=\"363.1387\">«part  def»</text><text fill=\"#000000\" font-family=\"sans-serif\" font-size=\"14\" lengthAdjust=\"spacing\" textLength=\"48\" x=\"315\" y=\"378.9639\">Engine</text></a></g><g><a href=\"psysml:479197b1-ce2e-480f-b2ef-7f257dc343b8\" target=\"_top\" title=\"psysml:479197b1-ce2e-480f-b2ef-7f257dc343b8\" xlink:actuate=\"onRequest\" xlink:href=\"psysml:479197b1-ce2e-480f-b2ef-7f257dc343b8\" xlink:show=\"new\" xlink:title=\"psysml:479197b1-ce2e-480f-b2ef-7f257dc343b8\" xlink:type=\"simple\"><rect fill=\"#FFFFFF\" height=\"40\" id=\"E3\" rx=\"10\" ry=\"10\" style=\"stroke:#383838;stroke-width:1.5;\" width=\"125\" x=\"192.5\" y=\"297\"/><text fill=\"#000000\" font-family=\"sans-serif\" font-size=\"14\" lengthAdjust=\"spacing\" textLength=\"114\" x=\"198\" y=\"314.9951\">engine1: Engine</text></a></g><g><a href=\"psysml:df8f9049-6917-4fa7-a1c9-f212538c9a4e\" target=\"_top\" title=\"psysml:df8f9049-6917-4fa7-a1c9-f212538c9a4e\" xlink:actuate=\"onRequest\" xlink:href=\"psysml:df8f9049-6917-4fa7-a1c9-f212538c9a4e\" xlink:show=\"new\" xlink:title=\"psysml:df8f9049-6917-4fa7-a1c9-f212538c9a4e\" xlink:type=\"simple\"><rect fill=\"#FFFFFF\" height=\"40\" id=\"E4\" rx=\"10\" ry=\"10\" style=\"stroke:#383838;stroke-width:1.5;\" width=\"125\" x=\"32.5\" y=\"297\"/><text fill=\"#000000\" font-family=\"sans-serif\" font-size=\"14\" lengthAdjust=\"spacing\" textLength=\"114\" x=\"38\" y=\"314.9951\">engine2: Engine</text></a></g><!--MD5=[60a26617385b1d2d0262a64233df1f8d]\n",
       "class E6--><a href=\"psysml:4f755969-6586-456d-bfaa-2c124f0f3312\" target=\"_top\" title=\"psysml:4f755969-6586-456d-bfaa-2c124f0f3312\" xlink:actuate=\"onRequest\" xlink:href=\"psysml:4f755969-6586-456d-bfaa-2c124f0f3312\" xlink:show=\"new\" xlink:title=\"psysml:4f755969-6586-456d-bfaa-2c124f0f3312\" xlink:type=\"simple\"><g id=\"elem_E6\"><rect fill=\"#FFFFFF\" height=\"75.0813\" id=\"E6\" rx=\"10\" ry=\"10\" style=\"stroke:#181818;stroke-width:0.5;\" width=\"145\" x=\"301.5\" y=\"116\"/><text fill=\"#000000\" font-family=\"sans-serif\" font-size=\"12\" font-style=\"italic\" lengthAdjust=\"spacing\" textLength=\"70\" x=\"339\" y=\"132.1387\">«objective»</text><text fill=\"#000000\" font-family=\"sans-serif\" font-size=\"14\" lengthAdjust=\"spacing\" textLength=\"139\" x=\"304.5\" y=\"147.9639\">tradeStudyObjective</text><line style=\"stroke:#181818;stroke-width:0.5;\" x1=\"302.5\" x2=\"445.5\" y1=\"156.2656\" y2=\"156.2656\"/><text fill=\"#000000\" font-family=\"sans-serif\" font-size=\"14\" lengthAdjust=\"spacing\" textLength=\"132\" x=\"307.5\" y=\"183.7795\">selectedAlternative</text><text fill=\"#000000\" font-family=\"sans-serif\" font-size=\"14\" font-style=\"italic\" lengthAdjust=\"spacing\" textLength=\"51\" x=\"348.5\" y=\"168.6123\">subject</text></g></a><!--MD5=[05d275557350bfb9b23a4ef7222b4c39]\n",
       "link E3 to E2--><g id=\"link_E3_E2\"><a href=\"psysml:bc3cf079-eae7-49ce-b297-ec132a977e50\" target=\"_top\" title=\"psysml:bc3cf079-eae7-49ce-b297-ec132a977e50\" xlink:actuate=\"onRequest\" xlink:href=\"psysml:bc3cf079-eae7-49ce-b297-ec132a977e50\" xlink:show=\"new\" xlink:title=\"psysml:bc3cf079-eae7-49ce-b297-ec132a977e50\" xlink:type=\"simple\"><path d=\"M286.76,337.09 C286.92,337.19 287.09,337.29 287.25,337.39 \" fill=\"none\" id=\"E3-to-E2\" style=\"stroke:#181818;stroke-width:1.0;\"/><polygon fill=\"#FFFFFF\" points=\"302.97,346.84,283.0785,343.0548,290.2888,331.0544,302.97,346.84\" style=\"stroke:#181818;stroke-width:1.0;\"/><ellipse cx=\"279.2226\" cy=\"338.4049\" fill=\"#181818\" rx=\"2\" ry=\"2\" style=\"stroke:#181818;stroke-width:1.0;\"/><ellipse cx=\"284.3728\" cy=\"329.8331\" fill=\"#181818\" rx=\"2\" ry=\"2\" style=\"stroke:#181818;stroke-width:1.0;\"/></a></g><!--MD5=[185131fc0dcab0a4505a2ebe144e961b]\n",
       "link E4 to E2--><g id=\"link_E4_E2\"><a href=\"psysml:aa1a99dc-dc69-45ac-b95f-3bcc471ea5d4\" target=\"_top\" title=\"psysml:aa1a99dc-dc69-45ac-b95f-3bcc471ea5d4\" xlink:actuate=\"onRequest\" xlink:href=\"psysml:aa1a99dc-dc69-45ac-b95f-3bcc471ea5d4\" xlink:show=\"new\" xlink:title=\"psysml:aa1a99dc-dc69-45ac-b95f-3bcc471ea5d4\" xlink:type=\"simple\"><path d=\"M157.64,332.88 C167.76,335.28 175,337 175,337 C175,337 234.42,348.41 281.73,357.5 \" fill=\"none\" id=\"E4-to-E2\" style=\"stroke:#181818;stroke-width:1.0;\"/><polygon fill=\"#FFFFFF\" points=\"301.38,361.27,281.4009,364.5619,284.0407,350.813,301.38,361.27\" style=\"stroke:#181818;stroke-width:1.0;\"/><ellipse cx=\"276.1803\" cy=\"361.523\" fill=\"#181818\" rx=\"2\" ry=\"2\" style=\"stroke:#181818;stroke-width:1.0;\"/><ellipse cx=\"278.0658\" cy=\"351.7024\" fill=\"#181818\" rx=\"2\" ry=\"2\" style=\"stroke:#181818;stroke-width:1.0;\"/></a></g><!--MD5=[452b418e7f8a40397a49b8c0a78acc5b]\n",
       "reverse link E5 to E7--><g id=\"link_E5_E7\"><a href=\"psysml:ae0ddffd-d94b-4ee5-a4cb-a499b90c2b96\" target=\"_top\" title=\"psysml:ae0ddffd-d94b-4ee5-a4cb-a499b90c2b96\" xlink:actuate=\"onRequest\" xlink:href=\"psysml:ae0ddffd-d94b-4ee5-a4cb-a499b90c2b96\" xlink:show=\"new\" xlink:title=\"psysml:ae0ddffd-d94b-4ee5-a4cb-a499b90c2b96\" xlink:type=\"simple\"><path d=\"M237.286,215.0586 C237.2396,215.2013 237.1932,215.3439 237.1468,215.4865 C237.0539,215.7716 236.9612,216.0564 236.8686,216.3409 C236.4981,217.4789 236.1292,218.612 235.7626,219.738 C235.0295,221.99 234.3055,224.2138 233.5962,226.3926 C232.1775,230.7502 230.8175,234.9275 229.56,238.79 \" fill=\"none\" id=\"E5-backto-E7\" style=\"stroke:#181818;stroke-width:1.0;\"/><polygon fill=\"#181818\" points=\"237.286,215.0586,231.6251,219.5256,233.5713,226.4692,239.2322,222.0022,237.286,215.0586\" style=\"stroke:#181818;stroke-width:1.0;\"/></a></g><!--MD5=[dc164f5e8a733ab456ef1add180e9e34]\n",
       "reverse link E7 to E8--><g id=\"link_E7_E8\"><a href=\"psysml:a8c82a2a-741b-4fac-ac9b-98beb228d3cb\" target=\"_top\" title=\"psysml:a8c82a2a-741b-4fac-ac9b-98beb228d3cb\" xlink:actuate=\"onRequest\" xlink:href=\"psysml:a8c82a2a-741b-4fac-ac9b-98beb228d3cb\" xlink:show=\"new\" xlink:title=\"psysml:a8c82a2a-741b-4fac-ac9b-98beb228d3cb\" xlink:type=\"simple\"><path d=\"M306.68,285.8 C325.11,290.54 344.29,295.48 361.66,299.95 \" fill=\"none\" id=\"E7-backto-E8\" style=\"stroke:#181818;stroke-width:1.0;\"/><polygon fill=\"none\" points=\"294.07,282.55,298.8822,287.9206,305.6905,285.5441,300.8783,280.1736,294.07,282.55\" style=\"stroke:#181818;stroke-width:1.0;\"/></a></g><!--MD5=[f1f3f9f2fc535e6147756cb86a7f2e32]\n",
       "link E8 to E2--><g id=\"link_E8_E2\"><a href=\"psysml:199cdd6b-9599-4ee9-8d7a-04a31416ec15\" target=\"_top\" title=\"psysml:199cdd6b-9599-4ee9-8d7a-04a31416ec15\" xlink:actuate=\"onRequest\" xlink:href=\"psysml:199cdd6b-9599-4ee9-8d7a-04a31416ec15\" xlink:show=\"new\" xlink:title=\"psysml:199cdd6b-9599-4ee9-8d7a-04a31416ec15\" xlink:type=\"simple\"><path d=\"M396.64,334.26 C395.36,335.01 394.07,335.78 392.76,336.56 \" fill=\"none\" id=\"E8-to-E2\" style=\"stroke:#181818;stroke-width:1.0;\"/><polygon fill=\"#FFFFFF\" points=\"375.31,346.93,388.0569,331.1973,395.2171,343.2277,375.31,346.93\" style=\"stroke:#181818;stroke-width:1.0;\"/><ellipse cx=\"393.9779\" cy=\"330.0007\" fill=\"#181818\" rx=\"2\" ry=\"2\" style=\"stroke:#181818;stroke-width:1.0;\"/><ellipse cx=\"399.0923\" cy=\"338.5939\" fill=\"#181818\" rx=\"2\" ry=\"2\" style=\"stroke:#181818;stroke-width:1.0;\"/></a></g><!--MD5=[9ae28de373ca99bb8a1b38d63370ca7e]\n",
       "reverse link E5 to E9--><g id=\"link_E5_E9\"><a href=\"psysml:549a8511-5afb-4107-9df8-0f136ad572ec\" target=\"_top\" title=\"psysml:549a8511-5afb-4107-9df8-0f136ad572ec\" xlink:actuate=\"onRequest\" xlink:href=\"psysml:549a8511-5afb-4107-9df8-0f136ad572ec\" xlink:show=\"new\" xlink:title=\"psysml:549a8511-5afb-4107-9df8-0f136ad572ec\" xlink:type=\"simple\"><path d=\"M279.2242,215.2185 C279.4023,215.7052 279.5777,216.1845 279.7502,216.6556 C280.095,217.5979 280.4281,218.5079 280.7477,219.3811 C283.3044,226.3669 285,231 285,231 C285,231 319.81,238.39 355.43,245.96 \" fill=\"none\" id=\"E5-backto-E9\" style=\"stroke:#181818;stroke-width:1.0;\"/><polygon fill=\"none\" points=\"279.2242,215.2185,277.53,222.2278,283.3485,226.4875,285.0427,219.4782,279.2242,215.2185\" style=\"stroke:#181818;stroke-width:1.0;\"/></a></g><!--MD5=[5c3bb36fe832a92c7f0e1807dd65209d]\n",
       "link E9 to E2--><g id=\"link_E9_E2\"><a href=\"psysml:94a3a0b9-9284-4132-a69a-1dbd276e1390\" target=\"_top\" title=\"psysml:94a3a0b9-9284-4132-a69a-1dbd276e1390\" xlink:actuate=\"onRequest\" xlink:href=\"psysml:94a3a0b9-9284-4132-a69a-1dbd276e1390\" xlink:show=\"new\" xlink:title=\"psysml:94a3a0b9-9284-4132-a69a-1dbd276e1390\" xlink:type=\"simple\"><path d=\"M471.04,280.11 C491.85,288.49 513,297 513,297 C513,297 513,337 513,337 C513,337 447.29,348.9 396.63,358.07 \" fill=\"none\" id=\"E9-to-E2\" style=\"stroke:#181818;stroke-width:1.0;\"/><polygon fill=\"#FFFFFF\" points=\"376.76,361.66,394.2125,351.393,396.7019,365.1699,376.76,361.66\" style=\"stroke:#181818;stroke-width:1.0;\"/><ellipse cx=\"400.1773\" cy=\"352.3476\" fill=\"#181818\" rx=\"2\" ry=\"2\" style=\"stroke:#181818;stroke-width:1.0;\"/><ellipse cx=\"401.9555\" cy=\"362.1882\" fill=\"#181818\" rx=\"2\" ry=\"2\" style=\"stroke:#181818;stroke-width:1.0;\"/></a></g><!--MD5=[c5109ddc427172757e877568cdc0a078]\n",
       "@startuml\r\n",
       "skin sysmlbw\r\n",
       "skinparam monochrome true\r\n",
       "skinparam wrapWidth 300\r\n",
       "hide circle\r\n",
       "skinparam linetype polyline\r\n",
       "skinparam ranksep 10\r\n",
       "skinparam rectangle {\r\n",
       " backgroundColor<<block>> LightGreen\r\n",
       "}\r\n",
       "\r\n",
       "package \"TradeStudyTest\" as E1  [[psysml:a91f55f8-3969-42e6-b46f-82de9da3fdc7 ]]  {\r\n",
       "rec def \"Engine\" as E2  <<(T,blue) part  def>> [[psysml:8055cf29-c4ca-4370-b025-bca5bf4f4944 ]] {\r\n",
       "}\r\n",
       "rec usage \"engine1: Engine\" as E3 [[psysml:479197b1-ce2e-480f-b2ef-7f257dc343b8 ]] {\r\n",
       "}\r\n",
       "rec usage \"engine2: Engine\" as E4 [[psysml:df8f9049-6917-4fa7-a1c9-f212538c9a4e ]] {\r\n",
       "}\r\n",
       "rec usage \"engineTradeStudy: TradeStudy  \" as E5  << analysis>> [[psysml:538ece1f-cb66-4e09-817f-0abcddd62ddd ]] {\r\n",
       "comp usage \"tradeStudyObjective\" as E6  <<objective>> [[psysml:4f755969-6586-456d-bfaa-2c124f0f3312 ]] {\r\n",
       "##//subject//##\r\n",
       "selectedAlternative\r\n",
       "}\r\n",
       "}\r\n",
       "comp usage \"evaluationFunction  \" as E7  <<(T,blue) calculation>> [[psysml:f253b0d3-72ce-4ec1-aa97-c21cff35f053 ]] {\r\n",
       "}\r\n",
       "comp usage \"alternative: Engine  \" as E8 [[psysml:753de58d-f4ea-44a5-91ee-5ffc5e7a177d ]] {\r\n",
       "}\r\n",
       "comp usage \"selectedAlternative: Engine  \" as E9 [[psysml:76ff8411-b0e7-4dd9-89c0-3f2666988fc0 ]] {\r\n",
       "}\r\n",
       "}\r\n",
       "E3 - -:|> E2 [[psysml:bc3cf079-eae7-49ce-b297-ec132a977e50 ]] \r\n",
       "E4 - -:|> E2 [[psysml:aa1a99dc-dc69-45ac-b95f-3bcc471ea5d4 ]] \r\n",
       "E5 *- - E7 [[psysml:ae0ddffd-d94b-4ee5-a4cb-a499b90c2b96 ]] \r\n",
       "E7 o- - E8 [[psysml:a8c82a2a-741b-4fac-ac9b-98beb228d3cb ]] \r\n",
       "E8 - -:|> E2 [[psysml:199cdd6b-9599-4ee9-8d7a-04a31416ec15 ]] \r\n",
       "E5 o- - E9 [[psysml:549a8511-5afb-4107-9df8-0f136ad572ec ]] \r\n",
       "E9 - -:|> E2 [[psysml:94a3a0b9-9284-4132-a69a-1dbd276e1390 ]] \r\n",
       "@enduml\r\n",
       "\n",
       "PlantUML version 1.2022.7(Mon Aug 22 17:01:30 UTC 2022)\n",
       "(EPL source distribution)\n",
       "Java Runtime: OpenJDK Runtime Environment\n",
       "JVM: OpenJDK 64-Bit Server VM\n",
       "Default Encoding: UTF-8\n",
       "Language: en\n",
       "Country: null\n",
       "--></g></svg>"
      ]
     },
     "execution_count": 12,
     "metadata": {},
     "output_type": "execute_result"
    }
   ],
   "source": [
    "%viz --style=\"POLYLINE\" --view=\"Interconnection\" \"TradeStudyTest\""
   ]
  },
  {
   "cell_type": "code",
   "execution_count": 13,
   "id": "4f3a6726",
   "metadata": {
    "execution": {
     "iopub.execute_input": "2024-12-16T14:21:07.952858Z",
     "iopub.status.busy": "2024-12-16T14:21:07.952646Z",
     "iopub.status.idle": "2024-12-16T14:21:07.971296Z",
     "shell.execute_reply": "2024-12-16T14:21:07.971092Z"
    }
   },
   "outputs": [
    {
     "data": {
      "image/svg+xml": [
       "<?xml version=\"1.0\" encoding=\"UTF-8\" standalone=\"no\"?><svg xmlns=\"http://www.w3.org/2000/svg\" xmlns:xlink=\"http://www.w3.org/1999/xlink\" contentStyleType=\"text/css\" height=\"222px\" preserveAspectRatio=\"none\" style=\"width:448px;height:222px;background:#FFFFFF;\" version=\"1.1\" viewBox=\"0 0 448 222\" width=\"448px\" zoomAndPan=\"magnify\"><defs/><g><!--MD5=[fbc87193dbaf4d95561dea2c320d4a47]\n",
       "cluster E1--><g id=\"cluster_E1\"><a href=\"psysml:538ece1f-cb66-4e09-817f-0abcddd62ddd\" target=\"_top\" title=\"psysml:538ece1f-cb66-4e09-817f-0abcddd62ddd\" xlink:actuate=\"onRequest\" xlink:href=\"psysml:538ece1f-cb66-4e09-817f-0abcddd62ddd\" xlink:show=\"new\" xlink:title=\"psysml:538ece1f-cb66-4e09-817f-0abcddd62ddd\" xlink:type=\"simple\"><rect fill=\"#FFFFFF\" height=\"174.36\" id=\"E1\" rx=\"10\" ry=\"10\" style=\"stroke:#383838;stroke-width:1.5;\" width=\"328\" x=\"47\" y=\"42.0986\"/><text fill=\"#000000\" font-family=\"sans-serif\" font-size=\"12\" font-style=\"italic\" lengthAdjust=\"spacing\" textLength=\"64\" x=\"179\" y=\"58.2373\">«analysis»</text><text fill=\"#000000\" font-family=\"sans-serif\" font-size=\"14\" lengthAdjust=\"spacing\" textLength=\"127\" x=\"147.5\" y=\"74.0625\">engineTradeStudy</text><line style=\"stroke:#383838;stroke-width:1.0;\" x1=\"47\" x2=\"375\" y1=\"82.3643\" y2=\"82.3643\"/></a></g><!--MD5=[d5e69f78d87373223dbae638b30a9c99]\n",
       "cluster E3--><g id=\"cluster_E3\"><a href=\"psysml:f253b0d3-72ce-4ec1-aa97-c21cff35f053\" target=\"_top\" title=\"psysml:f253b0d3-72ce-4ec1-aa97-c21cff35f053\" xlink:actuate=\"onRequest\" xlink:href=\"psysml:f253b0d3-72ce-4ec1-aa97-c21cff35f053\" xlink:show=\"new\" xlink:title=\"psysml:f253b0d3-72ce-4ec1-aa97-c21cff35f053\" xlink:type=\"simple\"><rect fill=\"#FFFFFF\" height=\"104.86\" id=\"E3\" rx=\"10\" ry=\"10\" style=\"stroke:#383838;stroke-width:1.5;\" width=\"186\" x=\"148\" y=\"81.5986\"/><text fill=\"#000000\" font-family=\"sans-serif\" font-size=\"12\" font-style=\"italic\" lengthAdjust=\"spacing\" textLength=\"82\" x=\"200\" y=\"97.7373\">«calculation»</text><text fill=\"#000000\" font-family=\"sans-serif\" font-size=\"14\" lengthAdjust=\"spacing\" textLength=\"130\" x=\"176\" y=\"113.5625\">evaluationFunction</text><line style=\"stroke:#383838;stroke-width:1.0;\" x1=\"148\" x2=\"334\" y1=\"121.8643\" y2=\"121.8643\"/></a></g><text fill=\"#000000\" font-family=\"sans-serif\" font-size=\"14\" lengthAdjust=\"spacing\" textLength=\"118\" x=\"6\" y=\"20.7969\">studyAlternatives</text><rect fill=\"#FFFFFF\" height=\"12\" style=\"stroke:#181818;stroke-width:1.5;\" width=\"12\" x=\"59\" y=\"36.0986\"/><text fill=\"#000000\" font-family=\"sans-serif\" font-size=\"14\" lengthAdjust=\"spacing\" textLength=\"132\" x=\"309\" y=\"183.0938\">selectedAlternative</text><rect fill=\"#FFFFFF\" height=\"12\" style=\"stroke:#181818;stroke-width:1.5;\" width=\"12\" x=\"369\" y=\"158.0986\"/><text fill=\"#000000\" font-family=\"sans-serif\" font-size=\"14\" lengthAdjust=\"spacing\" textLength=\"71\" x=\"205.5\" y=\"60.2969\">alternative</text><rect fill=\"#FFFFFF\" height=\"12\" style=\"stroke:#181818;stroke-width:1.5;\" width=\"12\" x=\"235\" y=\"75.5986\"/><text fill=\"#000000\" font-family=\"sans-serif\" font-size=\"14\" lengthAdjust=\"spacing\" textLength=\"39\" x=\"221.5\" y=\"205.4538\">result</text><rect fill=\"#FFFFFF\" height=\"12\" style=\"stroke:#181818;stroke-width:1.5;\" width=\"12\" x=\"235\" y=\"180.4586\"/><!--MD5=[825659b41ae0ed5d3d5c0caeb692d0f6]\n",
       "@startuml\r\n",
       "skin sysmlbw\r\n",
       "skinparam monochrome true\r\n",
       "skinparam wrapWidth 300\r\n",
       "hide circle\r\n",
       "skinparam linetype polyline\r\n",
       "skinparam ranksep 8\r\n",
       "\r\n",
       "rec usage \"engineTradeStudy\" as E1  << analysis>> [[psysml:538ece1f-cb66-4e09-817f-0abcddd62ddd ]] {\r\n",
       "portin \"studyAlternatives\" as E2  [[psysml:44e81398-f8fc-476c-9aa8-f3c568baa242 ]] \r\n",
       "rec usage \"evaluationFunction\" as E3  <<(T,blue) calculation>> [[psysml:f253b0d3-72ce-4ec1-aa97-c21cff35f053 ]] {\r\n",
       "portin \"alternative\" as E4  [[psysml:753de58d-f4ea-44a5-91ee-5ffc5e7a177d ]] \r\n",
       "portout \"result\" as E5  [[psysml:523b4531-6566-4396-be10-86694663e2d0 ]] \r\n",
       "}\r\n",
       "\r\n",
       "portout \"selectedAlternative\" as E6  [[psysml:76ff8411-b0e7-4dd9-89c0-3f2666988fc0 ]] \r\n",
       "}\r\n",
       "\r\n",
       "@enduml\r\n",
       "\n",
       "PlantUML version 1.2022.7(Mon Aug 22 17:01:30 UTC 2022)\n",
       "(EPL source distribution)\n",
       "Java Runtime: OpenJDK Runtime Environment\n",
       "JVM: OpenJDK 64-Bit Server VM\n",
       "Default Encoding: UTF-8\n",
       "Language: en\n",
       "Country: null\n",
       "--></g></svg>"
      ]
     },
     "execution_count": 13,
     "metadata": {},
     "output_type": "execute_result"
    }
   ],
   "source": [
    "%viz --style=\"POLYLINE\" --view=\"Action\" \"TradeStudyTest\""
   ]
  },
  {
   "cell_type": "code",
   "execution_count": 14,
   "id": "9d8319b7",
   "metadata": {
    "execution": {
     "iopub.execute_input": "2024-12-16T14:21:08.023425Z",
     "iopub.status.busy": "2024-12-16T14:21:08.023206Z",
     "iopub.status.idle": "2024-12-16T14:21:08.029480Z",
     "shell.execute_reply": "2024-12-16T14:21:08.029603Z"
    }
   },
   "outputs": [
    {
     "data": {
      "image/svg+xml": [
       "<?xml version=\"1.0\" encoding=\"UTF-8\" standalone=\"no\"?><svg xmlns=\"http://www.w3.org/2000/svg\" xmlns:xlink=\"http://www.w3.org/1999/xlink\" contentStyleType=\"text/css\" height=\"10px\" preserveAspectRatio=\"none\" style=\"width:10px;height:10px;background:#FFFFFF;\" version=\"1.1\" viewBox=\"0 0 10 10\" width=\"10px\" zoomAndPan=\"magnify\"><defs/><g><!--MD5=[efefafbf36b45173e0355713d9054f90]\n",
       "@startuml\r\n",
       "skin sysmlbw\r\n",
       "skinparam monochrome true\r\n",
       "skinparam wrapWidth 300\r\n",
       "hide circle\r\n",
       "skinparam linetype polyline\r\n",
       "skinparam roundcorner 20\r\n",
       "skinparam BoxPadding 20\r\n",
       "skinparam SequenceBoxBackgroundColor #white\r\n",
       "skinparam style strictuml\r\n",
       "skinparam maxMessageSize 100\r\n",
       "\r\n",
       "@enduml\r\n",
       "\n",
       "PlantUML version 1.2022.7(Mon Aug 22 17:01:30 UTC 2022)\n",
       "(EPL source distribution)\n",
       "Java Runtime: OpenJDK Runtime Environment\n",
       "JVM: OpenJDK 64-Bit Server VM\n",
       "Default Encoding: UTF-8\n",
       "Language: en\n",
       "Country: null\n",
       "--></g></svg>"
      ]
     },
     "execution_count": 14,
     "metadata": {},
     "output_type": "execute_result"
    }
   ],
   "source": [
    "%viz --style=\"POLYLINE\" --view=\"Sequence\" \"TradeStudyTest\""
   ]
  },
  {
   "cell_type": "code",
   "execution_count": 15,
   "id": "ca54d49f",
   "metadata": {
    "execution": {
     "iopub.execute_input": "2024-12-16T14:21:08.082576Z",
     "iopub.status.busy": "2024-12-16T14:21:08.082323Z",
     "iopub.status.idle": "2024-12-16T14:21:08.112305Z",
     "shell.execute_reply": "2024-12-16T14:21:08.112139Z"
    }
   },
   "outputs": [
    {
     "data": {
      "image/svg+xml": [
       "<?xml version=\"1.0\" encoding=\"UTF-8\" standalone=\"no\"?><svg xmlns=\"http://www.w3.org/2000/svg\" xmlns:xlink=\"http://www.w3.org/1999/xlink\" contentStyleType=\"text/css\" height=\"538px\" preserveAspectRatio=\"none\" style=\"width:570px;height:538px;background:#FFFFFF;\" version=\"1.1\" viewBox=\"0 0 570 538\" width=\"570px\" zoomAndPan=\"magnify\"><defs/><g><!--MD5=[fbc87193dbaf4d95561dea2c320d4a47]\n",
       "cluster E1--><g id=\"cluster_E1\"><a href=\"psysml:a91f55f8-3969-42e6-b46f-82de9da3fdc7\" target=\"_top\" title=\"psysml:a91f55f8-3969-42e6-b46f-82de9da3fdc7\" xlink:actuate=\"onRequest\" xlink:href=\"psysml:a91f55f8-3969-42e6-b46f-82de9da3fdc7\" xlink:show=\"new\" xlink:title=\"psysml:a91f55f8-3969-42e6-b46f-82de9da3fdc7\" xlink:type=\"simple\"><polygon fill=\"none\" points=\"16,6,138.125,6,145.125,28.2969,553,28.2969,553,531,16,531,16,6\" style=\"stroke:#000000;stroke-width:1.5;\"/><line style=\"stroke:#000000;stroke-width:1.5;\" x1=\"16\" x2=\"145.125\" y1=\"28.2969\" y2=\"28.2969\"/><text fill=\"#000000\" font-family=\"sans-serif\" font-size=\"14\" font-weight=\"bold\" lengthAdjust=\"spacing\" textLength=\"116.125\" x=\"20\" y=\"20.9951\">TradeStudyTest</text></a></g><!--MD5=[de5ec2e2e8f62f467e546659f5068c88]\n",
       "cluster E5--><g id=\"cluster_E5\"><a href=\"psysml:538ece1f-cb66-4e09-817f-0abcddd62ddd\" target=\"_top\" title=\"psysml:538ece1f-cb66-4e09-817f-0abcddd62ddd\" xlink:actuate=\"onRequest\" xlink:href=\"psysml:538ece1f-cb66-4e09-817f-0abcddd62ddd\" xlink:show=\"new\" xlink:title=\"psysml:538ece1f-cb66-4e09-817f-0abcddd62ddd\" xlink:type=\"simple\"><rect fill=\"#FFFFFF\" height=\"158\" id=\"E5\" rx=\"10\" ry=\"10\" style=\"stroke:#383838;stroke-width:1.5;\" width=\"250\" x=\"236\" y=\"57\"/><text fill=\"#000000\" font-family=\"sans-serif\" font-size=\"12\" font-style=\"italic\" lengthAdjust=\"spacing\" textLength=\"64\" x=\"329\" y=\"73.1387\">«analysis»</text><text fill=\"#000000\" font-family=\"sans-serif\" font-size=\"14\" lengthAdjust=\"spacing\" textLength=\"215\" x=\"249.5\" y=\"88.9639\">engineTradeStudy: TradeStudy</text><line style=\"stroke:#383838;stroke-width:1.0;\" x1=\"236\" x2=\"486\" y1=\"97.2656\" y2=\"97.2656\"/></a></g><!--MD5=[b4997ac47864f28c2f74865a473b2911]\n",
       "class E2--><a href=\"psysml:8055cf29-c4ca-4370-b025-bca5bf4f4944\" target=\"_top\" title=\"psysml:8055cf29-c4ca-4370-b025-bca5bf4f4944\" xlink:actuate=\"onRequest\" xlink:href=\"psysml:8055cf29-c4ca-4370-b025-bca5bf4f4944\" xlink:show=\"new\" xlink:title=\"psysml:8055cf29-c4ca-4370-b025-bca5bf4f4944\" xlink:type=\"simple\"><g id=\"elem_E2\"><rect fill=\"#FFFFFF\" height=\"48.2656\" id=\"E2\" style=\"stroke:#181818;stroke-width:0.5;\" width=\"70\" x=\"309\" y=\"467\"/><text fill=\"#000000\" font-family=\"sans-serif\" font-size=\"12\" font-style=\"italic\" lengthAdjust=\"spacing\" textLength=\"68\" x=\"310\" y=\"483.1387\">«part  def»</text><text fill=\"#000000\" font-family=\"sans-serif\" font-size=\"14\" lengthAdjust=\"spacing\" textLength=\"48\" x=\"320\" y=\"498.9639\">Engine</text><line style=\"stroke:#181818;stroke-width:0.5;\" x1=\"310\" x2=\"378\" y1=\"507.2656\" y2=\"507.2656\"/></g></a><!--MD5=[09b614a08d8cba4a07c9adeb5e0fee81]\n",
       "class E3--><a href=\"psysml:479197b1-ce2e-480f-b2ef-7f257dc343b8\" target=\"_top\" title=\"psysml:479197b1-ce2e-480f-b2ef-7f257dc343b8\" xlink:actuate=\"onRequest\" xlink:href=\"psysml:479197b1-ce2e-480f-b2ef-7f257dc343b8\" xlink:show=\"new\" xlink:title=\"psysml:479197b1-ce2e-480f-b2ef-7f257dc343b8\" xlink:type=\"simple\"><g id=\"elem_E3\"><rect fill=\"#FFFFFF\" height=\"48.2656\" id=\"E3\" rx=\"10\" ry=\"10\" style=\"stroke:#181818;stroke-width:0.5;\" width=\"128\" x=\"195\" y=\"359\"/><text fill=\"#000000\" font-family=\"sans-serif\" font-size=\"12\" font-style=\"italic\" lengthAdjust=\"spacing\" textLength=\"40\" x=\"239\" y=\"375.1387\">«part»</text><text fill=\"#000000\" font-family=\"sans-serif\" font-size=\"14\" lengthAdjust=\"spacing\" textLength=\"114\" x=\"198\" y=\"390.9639\">engine1: Engine</text><line style=\"stroke:#181818;stroke-width:0.5;\" x1=\"196\" x2=\"322\" y1=\"399.2656\" y2=\"399.2656\"/></g></a><!--MD5=[ebbe1d658d1005bcc118a6aa81145e00]\n",
       "class E4--><a href=\"psysml:df8f9049-6917-4fa7-a1c9-f212538c9a4e\" target=\"_top\" title=\"psysml:df8f9049-6917-4fa7-a1c9-f212538c9a4e\" xlink:actuate=\"onRequest\" xlink:href=\"psysml:df8f9049-6917-4fa7-a1c9-f212538c9a4e\" xlink:show=\"new\" xlink:title=\"psysml:df8f9049-6917-4fa7-a1c9-f212538c9a4e\" xlink:type=\"simple\"><g id=\"elem_E4\"><rect fill=\"#FFFFFF\" height=\"48.2656\" id=\"E4\" rx=\"10\" ry=\"10\" style=\"stroke:#181818;stroke-width:0.5;\" width=\"128\" x=\"32\" y=\"359\"/><text fill=\"#000000\" font-family=\"sans-serif\" font-size=\"12\" font-style=\"italic\" lengthAdjust=\"spacing\" textLength=\"40\" x=\"76\" y=\"375.1387\">«part»</text><text fill=\"#000000\" font-family=\"sans-serif\" font-size=\"14\" lengthAdjust=\"spacing\" textLength=\"114\" x=\"35\" y=\"390.9639\">engine2: Engine</text><line style=\"stroke:#181818;stroke-width:0.5;\" x1=\"33\" x2=\"159\" y1=\"399.2656\" y2=\"399.2656\"/></g></a><!--MD5=[2156ba9850f5573cc1fc38a6a4b2f02b]\n",
       "class E7--><a href=\"psysml:f253b0d3-72ce-4ec1-aa97-c21cff35f053\" target=\"_top\" title=\"psysml:f253b0d3-72ce-4ec1-aa97-c21cff35f053\" xlink:actuate=\"onRequest\" xlink:href=\"psysml:f253b0d3-72ce-4ec1-aa97-c21cff35f053\" xlink:show=\"new\" xlink:title=\"psysml:f253b0d3-72ce-4ec1-aa97-c21cff35f053\" xlink:type=\"simple\"><g id=\"elem_E7\"><rect fill=\"#FFFFFF\" height=\"48.2656\" id=\"E7\" rx=\"10\" ry=\"10\" style=\"stroke:#181818;stroke-width:0.5;\" width=\"144\" x=\"155\" y=\"251\"/><text fill=\"#000000\" font-family=\"sans-serif\" font-size=\"12\" font-style=\"italic\" lengthAdjust=\"spacing\" textLength=\"82\" x=\"186\" y=\"267.1387\">«calculation»</text><text fill=\"#000000\" font-family=\"sans-serif\" font-size=\"14\" lengthAdjust=\"spacing\" textLength=\"130\" x=\"158\" y=\"282.9639\">evaluationFunction</text><line style=\"stroke:#181818;stroke-width:0.5;\" x1=\"156\" x2=\"298\" y1=\"291.2656\" y2=\"291.2656\"/></g></a><!--MD5=[b9389687b975829384b498ac4b7476b2]\n",
       "class E8--><a href=\"psysml:753de58d-f4ea-44a5-91ee-5ffc5e7a177d\" target=\"_top\" title=\"psysml:753de58d-f4ea-44a5-91ee-5ffc5e7a177d\" xlink:actuate=\"onRequest\" xlink:href=\"psysml:753de58d-f4ea-44a5-91ee-5ffc5e7a177d\" xlink:show=\"new\" xlink:title=\"psysml:753de58d-f4ea-44a5-91ee-5ffc5e7a177d\" xlink:type=\"simple\"><g id=\"elem_E8\"><rect fill=\"#FFFFFF\" height=\"48.2656\" id=\"E8\" rx=\"10\" ry=\"10\" style=\"stroke:#181818;stroke-width:0.5;\" width=\"142\" x=\"358\" y=\"359\"/><text fill=\"#000000\" font-family=\"sans-serif\" font-size=\"12\" font-style=\"italic\" lengthAdjust=\"spacing\" textLength=\"40\" x=\"409\" y=\"375.1387\">«part»</text><text fill=\"#000000\" font-family=\"sans-serif\" font-size=\"14\" lengthAdjust=\"spacing\" textLength=\"128\" x=\"361\" y=\"390.9639\">alternative: Engine</text><line style=\"stroke:#181818;stroke-width:0.5;\" x1=\"359\" x2=\"499\" y1=\"399.2656\" y2=\"399.2656\"/></g></a><!--MD5=[fd4143e9d270a159db93a4ea2a975926]\n",
       "class E9--><a href=\"psysml:76ff8411-b0e7-4dd9-89c0-3f2666988fc0\" target=\"_top\" title=\"psysml:76ff8411-b0e7-4dd9-89c0-3f2666988fc0\" xlink:actuate=\"onRequest\" xlink:href=\"psysml:76ff8411-b0e7-4dd9-89c0-3f2666988fc0\" xlink:show=\"new\" xlink:title=\"psysml:76ff8411-b0e7-4dd9-89c0-3f2666988fc0\" xlink:type=\"simple\"><g id=\"elem_E9\"><rect fill=\"#FFFFFF\" height=\"48.2656\" id=\"E9\" rx=\"10\" ry=\"10\" style=\"stroke:#181818;stroke-width:0.5;\" width=\"203\" x=\"334.5\" y=\"251\"/><text fill=\"#000000\" font-family=\"sans-serif\" font-size=\"12\" font-style=\"italic\" lengthAdjust=\"spacing\" textLength=\"40\" x=\"416\" y=\"267.1387\">«part»</text><text fill=\"#000000\" font-family=\"sans-serif\" font-size=\"14\" lengthAdjust=\"spacing\" textLength=\"189\" x=\"337.5\" y=\"282.9639\">selectedAlternative: Engine</text><line style=\"stroke:#181818;stroke-width:0.5;\" x1=\"335.5\" x2=\"536.5\" y1=\"291.2656\" y2=\"291.2656\"/></g></a><!--MD5=[60a26617385b1d2d0262a64233df1f8d]\n",
       "class E6--><a href=\"psysml:4f755969-6586-456d-bfaa-2c124f0f3312\" target=\"_top\" title=\"psysml:4f755969-6586-456d-bfaa-2c124f0f3312\" xlink:actuate=\"onRequest\" xlink:href=\"psysml:4f755969-6586-456d-bfaa-2c124f0f3312\" xlink:show=\"new\" xlink:title=\"psysml:4f755969-6586-456d-bfaa-2c124f0f3312\" xlink:type=\"simple\"><g id=\"elem_E6\"><rect fill=\"#FFFFFF\" height=\"75.0813\" id=\"E6\" rx=\"10\" ry=\"10\" style=\"stroke:#181818;stroke-width:0.5;\" width=\"145\" x=\"306.5\" y=\"116\"/><text fill=\"#000000\" font-family=\"sans-serif\" font-size=\"12\" font-style=\"italic\" lengthAdjust=\"spacing\" textLength=\"70\" x=\"344\" y=\"132.1387\">«objective»</text><text fill=\"#000000\" font-family=\"sans-serif\" font-size=\"14\" lengthAdjust=\"spacing\" textLength=\"139\" x=\"309.5\" y=\"147.9639\">tradeStudyObjective</text><line style=\"stroke:#181818;stroke-width:0.5;\" x1=\"307.5\" x2=\"450.5\" y1=\"156.2656\" y2=\"156.2656\"/><text fill=\"#000000\" font-family=\"sans-serif\" font-size=\"14\" lengthAdjust=\"spacing\" textLength=\"132\" x=\"312.5\" y=\"183.7795\">selectedAlternative</text><text fill=\"#000000\" font-family=\"sans-serif\" font-size=\"14\" font-style=\"italic\" lengthAdjust=\"spacing\" textLength=\"51\" x=\"353.5\" y=\"168.6123\">subject</text></g></a><!--MD5=[05d275557350bfb9b23a4ef7222b4c39]\n",
       "link E3 to E2--><g id=\"link_E3_E2\"><a href=\"psysml:bc3cf079-eae7-49ce-b297-ec132a977e50\" target=\"_top\" title=\"psysml:bc3cf079-eae7-49ce-b297-ec132a977e50\" xlink:actuate=\"onRequest\" xlink:href=\"psysml:bc3cf079-eae7-49ce-b297-ec132a977e50\" xlink:show=\"new\" xlink:title=\"psysml:bc3cf079-eae7-49ce-b297-ec132a977e50\" xlink:type=\"simple\"><path d=\"M277.44,407 C287.73,419.83 300.82,436.16 312.67,450.93 \" fill=\"none\" id=\"E3-to-E2\" style=\"stroke:#181818;stroke-width:1.0;\"/><polygon fill=\"#FFFFFF\" points=\"325.3,466.68,307.9565,456.2299,318.8819,447.4756,325.3,466.68\" style=\"stroke:#181818;stroke-width:1.0;\"/><ellipse cx=\"305.9531\" cy=\"450.5311\" fill=\"#181818\" rx=\"2\" ry=\"2\" style=\"stroke:#181818;stroke-width:1.0;\"/><ellipse cx=\"313.7569\" cy=\"444.2781\" fill=\"#181818\" rx=\"2\" ry=\"2\" style=\"stroke:#181818;stroke-width:1.0;\"/></a></g><!--MD5=[185131fc0dcab0a4505a2ebe144e961b]\n",
       "link E4 to E2--><g id=\"link_E4_E2\"><a href=\"psysml:aa1a99dc-dc69-45ac-b95f-3bcc471ea5d4\" target=\"_top\" title=\"psysml:aa1a99dc-dc69-45ac-b95f-3bcc471ea5d4\" xlink:actuate=\"onRequest\" xlink:href=\"psysml:aa1a99dc-dc69-45ac-b95f-3bcc471ea5d4\" xlink:show=\"new\" xlink:title=\"psysml:aa1a99dc-dc69-45ac-b95f-3bcc471ea5d4\" xlink:type=\"simple\"><path d=\"M149.81,407 C191.38,424.77 248.64,449.24 290.2,467.01 \" fill=\"none\" id=\"E4-to-E2\" style=\"stroke:#181818;stroke-width:1.0;\"/><polygon fill=\"#FFFFFF\" points=\"308.64,474.89,288.4184,473.8471,293.9285,460.977,308.64,474.89\" style=\"stroke:#181818;stroke-width:1.0;\"/><ellipse cx=\"283.9656\" cy=\"469.7652\" fill=\"#181818\" rx=\"2\" ry=\"2\" style=\"stroke:#181818;stroke-width:1.0;\"/><ellipse cx=\"287.9013\" cy=\"460.5722\" fill=\"#181818\" rx=\"2\" ry=\"2\" style=\"stroke:#181818;stroke-width:1.0;\"/></a></g><!--MD5=[452b418e7f8a40397a49b8c0a78acc5b]\n",
       "reverse link E5 to E7--><g id=\"link_E5_E7\"><a href=\"psysml:ae0ddffd-d94b-4ee5-a4cb-a499b90c2b96\" target=\"_top\" title=\"psysml:ae0ddffd-d94b-4ee5-a4cb-a499b90c2b96\" xlink:actuate=\"onRequest\" xlink:href=\"psysml:ae0ddffd-d94b-4ee5-a4cb-a499b90c2b96\" xlink:show=\"new\" xlink:title=\"psysml:ae0ddffd-d94b-4ee5-a4cb-a499b90c2b96\" xlink:type=\"simple\"><path d=\"M244.1719,215.3826 C244.124,215.5464 244.076,215.7101 244.0281,215.8739 C243.8363,216.5288 243.6446,217.1834 243.453,217.8375 C243.0699,219.1456 242.6874,220.4515 242.3064,221.7525 C239.2581,232.1606 236.3,242.26 233.81,250.76 \" fill=\"none\" id=\"E5-backto-E7\" style=\"stroke:#181818;stroke-width:1.0;\"/><polygon fill=\"#181818\" points=\"244.1719,215.3826,238.6468,220.0166,240.7992,226.8989,246.3243,222.265,244.1719,215.3826\" style=\"stroke:#181818;stroke-width:1.0;\"/></a></g><!--MD5=[dc164f5e8a733ab456ef1add180e9e34]\n",
       "reverse link E7 to E8--><g id=\"link_E7_E8\"><a href=\"psysml:a8c82a2a-741b-4fac-ac9b-98beb228d3cb\" target=\"_top\" title=\"psysml:a8c82a2a-741b-4fac-ac9b-98beb228d3cb\" xlink:actuate=\"onRequest\" xlink:href=\"psysml:a8c82a2a-741b-4fac-ac9b-98beb228d3cb\" xlink:show=\"new\" xlink:title=\"psysml:a8c82a2a-741b-4fac-ac9b-98beb228d3cb\" xlink:type=\"simple\"><path d=\"M282.76,305.26 C314.96,322.16 354.91,343.12 384.91,358.86 \" fill=\"none\" id=\"E7-backto-E8\" style=\"stroke:#181818;stroke-width:1.0;\"/><polygon fill=\"none\" points=\"270.83,299,274.284,305.3301,281.4556,304.5765,278.0016,298.2464,270.83,299\" style=\"stroke:#181818;stroke-width:1.0;\"/></a></g><!--MD5=[f1f3f9f2fc535e6147756cb86a7f2e32]\n",
       "link E8 to E2--><g id=\"link_E8_E2\"><a href=\"psysml:199cdd6b-9599-4ee9-8d7a-04a31416ec15\" target=\"_top\" title=\"psysml:199cdd6b-9599-4ee9-8d7a-04a31416ec15\" xlink:actuate=\"onRequest\" xlink:href=\"psysml:199cdd6b-9599-4ee9-8d7a-04a31416ec15\" xlink:show=\"new\" xlink:title=\"psysml:199cdd6b-9599-4ee9-8d7a-04a31416ec15\" xlink:type=\"simple\"><path d=\"M410.56,407 C400.27,419.83 387.18,436.16 375.33,450.93 \" fill=\"none\" id=\"E8-to-E2\" style=\"stroke:#181818;stroke-width:1.0;\"/><polygon fill=\"#FFFFFF\" points=\"362.7,466.68,369.1181,447.4756,380.0435,456.2299,362.7,466.68\" style=\"stroke:#181818;stroke-width:1.0;\"/><ellipse cx=\"374.2431\" cy=\"444.2781\" fill=\"#181818\" rx=\"2\" ry=\"2\" style=\"stroke:#181818;stroke-width:1.0;\"/><ellipse cx=\"382.0469\" cy=\"450.5311\" fill=\"#181818\" rx=\"2\" ry=\"2\" style=\"stroke:#181818;stroke-width:1.0;\"/></a></g><!--MD5=[9ae28de373ca99bb8a1b38d63370ca7e]\n",
       "reverse link E5 to E9--><g id=\"link_E5_E9\"><a href=\"psysml:549a8511-5afb-4107-9df8-0f136ad572ec\" target=\"_top\" title=\"psysml:549a8511-5afb-4107-9df8-0f136ad572ec\" xlink:actuate=\"onRequest\" xlink:href=\"psysml:549a8511-5afb-4107-9df8-0f136ad572ec\" xlink:show=\"new\" xlink:title=\"psysml:549a8511-5afb-4107-9df8-0f136ad572ec\" xlink:type=\"simple\"><path d=\"M284.2242,215.2185 C284.4023,215.7052 284.5777,216.1845 284.7502,216.6556 C285.095,217.5979 285.4281,218.5079 285.7477,219.3811 C288.3044,226.3669 290,231 290,231 C290,231 323.16,240.77 357.87,250.99 \" fill=\"none\" id=\"E5-backto-E9\" style=\"stroke:#181818;stroke-width:1.0;\"/><polygon fill=\"none\" points=\"284.2242,215.2185,282.53,222.2278,288.3485,226.4875,290.0427,219.4782,284.2242,215.2185\" style=\"stroke:#181818;stroke-width:1.0;\"/></a></g><!--MD5=[5c3bb36fe832a92c7f0e1807dd65209d]\n",
       "link E9 to E2--><g id=\"link_E9_E2\"><a href=\"psysml:94a3a0b9-9284-4132-a69a-1dbd276e1390\" target=\"_top\" title=\"psysml:94a3a0b9-9284-4132-a69a-1dbd276e1390\" xlink:actuate=\"onRequest\" xlink:href=\"psysml:94a3a0b9-9284-4132-a69a-1dbd276e1390\" xlink:show=\"new\" xlink:title=\"psysml:94a3a0b9-9284-4132-a69a-1dbd276e1390\" xlink:type=\"simple\"><path d=\"M458.84,299.12 C483.1,323.68 518,359 518,359 C518,359 518,407 518,407 C518,407 448.55,440.13 397.4,464.53 \" fill=\"none\" id=\"E9-to-E2\" style=\"stroke:#181818;stroke-width:1.0;\"/><polygon fill=\"#FFFFFF\" points=\"379.21,473.2,393.3446,458.7013,399.3726,471.337,379.21,473.2\" style=\"stroke:#181818;stroke-width:1.0;\"/><ellipse cx=\"399.3503\" cy=\"458.0521\" fill=\"#181818\" rx=\"2\" ry=\"2\" style=\"stroke:#181818;stroke-width:1.0;\"/><ellipse cx=\"403.656\" cy=\"467.0777\" fill=\"#181818\" rx=\"2\" ry=\"2\" style=\"stroke:#181818;stroke-width:1.0;\"/></a></g><!--MD5=[b6360fa1722926d63e0383b987bc9dd8]\n",
       "@startuml\r\n",
       "skin sysmlbw\r\n",
       "skinparam monochrome true\r\n",
       "skinparam wrapWidth 300\r\n",
       "hide circle\r\n",
       "skinparam linetype polyline\r\n",
       "\r\n",
       "package \"TradeStudyTest\" as E1  [[psysml:a91f55f8-3969-42e6-b46f-82de9da3fdc7 ]]  {\r\n",
       "comp def \"Engine\" as E2  <<(T,blue) part  def>> [[psysml:8055cf29-c4ca-4370-b025-bca5bf4f4944 ]] {\r\n",
       "}\r\n",
       "comp usage \"engine1: Engine  \" as E3  <<(T,blue) part>> [[psysml:479197b1-ce2e-480f-b2ef-7f257dc343b8 ]] {\r\n",
       "}\r\n",
       "comp usage \"engine2: Engine  \" as E4  <<(T,blue) part>> [[psysml:df8f9049-6917-4fa7-a1c9-f212538c9a4e ]] {\r\n",
       "}\r\n",
       "rec usage \"engineTradeStudy: TradeStudy  \" as E5  << analysis>> [[psysml:538ece1f-cb66-4e09-817f-0abcddd62ddd ]] {\r\n",
       "comp usage \"tradeStudyObjective\" as E6  <<objective>> [[psysml:4f755969-6586-456d-bfaa-2c124f0f3312 ]] {\r\n",
       "##//subject//##\r\n",
       "selectedAlternative\r\n",
       "}\r\n",
       "}\r\n",
       "comp usage \"evaluationFunction  \" as E7  <<(T,blue) calculation>> [[psysml:f253b0d3-72ce-4ec1-aa97-c21cff35f053 ]] {\r\n",
       "}\r\n",
       "comp usage \"alternative: Engine  \" as E8  <<(T,blue) part>> [[psysml:753de58d-f4ea-44a5-91ee-5ffc5e7a177d ]] {\r\n",
       "}\r\n",
       "comp usage \"selectedAlternative: Engine  \" as E9  <<(T,blue) part>> [[psysml:76ff8411-b0e7-4dd9-89c0-3f2666988fc0 ]] {\r\n",
       "}\r\n",
       "}\r\n",
       "E3 - -:|> E2 [[psysml:bc3cf079-eae7-49ce-b297-ec132a977e50 ]] \r\n",
       "E4 - -:|> E2 [[psysml:aa1a99dc-dc69-45ac-b95f-3bcc471ea5d4 ]] \r\n",
       "E5 *- - E7 [[psysml:ae0ddffd-d94b-4ee5-a4cb-a499b90c2b96 ]] \r\n",
       "E7 o- - E8 [[psysml:a8c82a2a-741b-4fac-ac9b-98beb228d3cb ]] \r\n",
       "E8 - -:|> E2 [[psysml:199cdd6b-9599-4ee9-8d7a-04a31416ec15 ]] \r\n",
       "E5 o- - E9 [[psysml:549a8511-5afb-4107-9df8-0f136ad572ec ]] \r\n",
       "E9 - -:|> E2 [[psysml:94a3a0b9-9284-4132-a69a-1dbd276e1390 ]] \r\n",
       "@enduml\r\n",
       "\n",
       "PlantUML version 1.2022.7(Mon Aug 22 17:01:30 UTC 2022)\n",
       "(EPL source distribution)\n",
       "Java Runtime: OpenJDK Runtime Environment\n",
       "JVM: OpenJDK 64-Bit Server VM\n",
       "Default Encoding: UTF-8\n",
       "Language: en\n",
       "Country: null\n",
       "--></g></svg>"
      ]
     },
     "execution_count": 15,
     "metadata": {},
     "output_type": "execute_result"
    }
   ],
   "source": [
    "%viz --style=\"POLYLINE\" --view=\"MIXED\" \"TradeStudyTest\""
   ]
  },
  {
   "cell_type": "code",
   "execution_count": 16,
   "id": "500a0dd8",
   "metadata": {
    "execution": {
     "iopub.execute_input": "2024-12-16T14:21:08.168501Z",
     "iopub.status.busy": "2024-12-16T14:21:08.168279Z",
     "iopub.status.idle": "2024-12-16T14:21:08.195793Z",
     "shell.execute_reply": "2024-12-16T14:21:08.194973Z"
    }
   },
   "outputs": [
    {
     "data": {
      "image/svg+xml": [
       "<?xml version=\"1.0\" encoding=\"UTF-8\" standalone=\"no\"?><svg xmlns=\"http://www.w3.org/2000/svg\" xmlns:xlink=\"http://www.w3.org/1999/xlink\" contentStyleType=\"text/css\" height=\"315px\" preserveAspectRatio=\"none\" style=\"width:926px;height:315px;background:#FFFFFF;\" version=\"1.1\" viewBox=\"0 0 926 315\" width=\"926px\" zoomAndPan=\"magnify\"><defs/><g><!--MD5=[fbc87193dbaf4d95561dea2c320d4a47]\n",
       "cluster E1--><g id=\"cluster_E1\"><a href=\"psysml:a91f55f8-3969-42e6-b46f-82de9da3fdc7\" target=\"_top\" title=\"psysml:a91f55f8-3969-42e6-b46f-82de9da3fdc7\" xlink:actuate=\"onRequest\" xlink:href=\"psysml:a91f55f8-3969-42e6-b46f-82de9da3fdc7\" xlink:show=\"new\" xlink:title=\"psysml:a91f55f8-3969-42e6-b46f-82de9da3fdc7\" xlink:type=\"simple\"><polygon fill=\"none\" points=\"16,6,138.125,6,145.125,28.2969,909,28.2969,909,308,16,308,16,6\" style=\"stroke:#000000;stroke-width:1.5;\"/><line style=\"stroke:#000000;stroke-width:1.5;\" x1=\"16\" x2=\"145.125\" y1=\"28.2969\" y2=\"28.2969\"/><text fill=\"#000000\" font-family=\"sans-serif\" font-size=\"14\" font-weight=\"bold\" lengthAdjust=\"spacing\" textLength=\"116.125\" x=\"20\" y=\"20.9951\">TradeStudyTest</text></a></g><!--MD5=[de5ec2e2e8f62f467e546659f5068c88]\n",
       "cluster E5--><g id=\"cluster_E5\"><a href=\"psysml:538ece1f-cb66-4e09-817f-0abcddd62ddd\" target=\"_top\" title=\"psysml:538ece1f-cb66-4e09-817f-0abcddd62ddd\" xlink:actuate=\"onRequest\" xlink:href=\"psysml:538ece1f-cb66-4e09-817f-0abcddd62ddd\" xlink:show=\"new\" xlink:title=\"psysml:538ece1f-cb66-4e09-817f-0abcddd62ddd\" xlink:type=\"simple\"><rect fill=\"#FFFFFF\" height=\"177\" id=\"E5\" rx=\"10\" ry=\"10\" style=\"stroke:#383838;stroke-width:1.5;\" width=\"250\" x=\"48\" y=\"57\"/><text fill=\"#000000\" font-family=\"sans-serif\" font-size=\"12\" font-style=\"italic\" lengthAdjust=\"spacing\" textLength=\"64\" x=\"141\" y=\"73.1387\">«analysis»</text><text fill=\"#000000\" font-family=\"sans-serif\" font-size=\"14\" lengthAdjust=\"spacing\" textLength=\"215\" x=\"61.5\" y=\"88.9639\">engineTradeStudy: TradeStudy</text><line style=\"stroke:#383838;stroke-width:1.0;\" x1=\"48\" x2=\"298\" y1=\"97.2656\" y2=\"97.2656\"/></a></g><!--MD5=[b4997ac47864f28c2f74865a473b2911]\n",
       "class E2--><a href=\"psysml:8055cf29-c4ca-4370-b025-bca5bf4f4944\" target=\"_top\" title=\"psysml:8055cf29-c4ca-4370-b025-bca5bf4f4944\" xlink:actuate=\"onRequest\" xlink:href=\"psysml:8055cf29-c4ca-4370-b025-bca5bf4f4944\" xlink:show=\"new\" xlink:title=\"psysml:8055cf29-c4ca-4370-b025-bca5bf4f4944\" xlink:type=\"simple\"><g id=\"elem_E2\"><rect fill=\"#FFFFFF\" height=\"48.2656\" id=\"E2\" style=\"stroke:#181818;stroke-width:0.5;\" width=\"70\" x=\"823\" y=\"120\"/><text fill=\"#000000\" font-family=\"sans-serif\" font-size=\"12\" font-style=\"italic\" lengthAdjust=\"spacing\" textLength=\"68\" x=\"824\" y=\"136.1387\">«part  def»</text><text fill=\"#000000\" font-family=\"sans-serif\" font-size=\"14\" lengthAdjust=\"spacing\" textLength=\"48\" x=\"834\" y=\"151.9639\">Engine</text><line style=\"stroke:#181818;stroke-width:0.5;\" x1=\"824\" x2=\"892\" y1=\"160.2656\" y2=\"160.2656\"/></g></a><!--MD5=[09b614a08d8cba4a07c9adeb5e0fee81]\n",
       "class E3--><a href=\"psysml:479197b1-ce2e-480f-b2ef-7f257dc343b8\" target=\"_top\" title=\"psysml:479197b1-ce2e-480f-b2ef-7f257dc343b8\" xlink:actuate=\"onRequest\" xlink:href=\"psysml:479197b1-ce2e-480f-b2ef-7f257dc343b8\" xlink:show=\"new\" xlink:title=\"psysml:479197b1-ce2e-480f-b2ef-7f257dc343b8\" xlink:type=\"simple\"><g id=\"elem_E3\"><rect fill=\"#FFFFFF\" height=\"48.2656\" id=\"E3\" rx=\"10\" ry=\"10\" style=\"stroke:#181818;stroke-width:0.5;\" width=\"128\" x=\"628\" y=\"161\"/><text fill=\"#000000\" font-family=\"sans-serif\" font-size=\"12\" font-style=\"italic\" lengthAdjust=\"spacing\" textLength=\"40\" x=\"672\" y=\"177.1387\">«part»</text><text fill=\"#000000\" font-family=\"sans-serif\" font-size=\"14\" lengthAdjust=\"spacing\" textLength=\"114\" x=\"631\" y=\"192.9639\">engine1: Engine</text><line style=\"stroke:#181818;stroke-width:0.5;\" x1=\"629\" x2=\"755\" y1=\"201.2656\" y2=\"201.2656\"/></g></a><!--MD5=[ebbe1d658d1005bcc118a6aa81145e00]\n",
       "class E4--><a href=\"psysml:df8f9049-6917-4fa7-a1c9-f212538c9a4e\" target=\"_top\" title=\"psysml:df8f9049-6917-4fa7-a1c9-f212538c9a4e\" xlink:actuate=\"onRequest\" xlink:href=\"psysml:df8f9049-6917-4fa7-a1c9-f212538c9a4e\" xlink:show=\"new\" xlink:title=\"psysml:df8f9049-6917-4fa7-a1c9-f212538c9a4e\" xlink:type=\"simple\"><g id=\"elem_E4\"><rect fill=\"#FFFFFF\" height=\"48.2656\" id=\"E4\" rx=\"10\" ry=\"10\" style=\"stroke:#181818;stroke-width:0.5;\" width=\"128\" x=\"628\" y=\"244\"/><text fill=\"#000000\" font-family=\"sans-serif\" font-size=\"12\" font-style=\"italic\" lengthAdjust=\"spacing\" textLength=\"40\" x=\"672\" y=\"260.1387\">«part»</text><text fill=\"#000000\" font-family=\"sans-serif\" font-size=\"14\" lengthAdjust=\"spacing\" textLength=\"114\" x=\"631\" y=\"275.9639\">engine2: Engine</text><line style=\"stroke:#181818;stroke-width:0.5;\" x1=\"629\" x2=\"755\" y1=\"284.2656\" y2=\"284.2656\"/></g></a><!--MD5=[2156ba9850f5573cc1fc38a6a4b2f02b]\n",
       "class E7--><a href=\"psysml:f253b0d3-72ce-4ec1-aa97-c21cff35f053\" target=\"_top\" title=\"psysml:f253b0d3-72ce-4ec1-aa97-c21cff35f053\" xlink:actuate=\"onRequest\" xlink:href=\"psysml:f253b0d3-72ce-4ec1-aa97-c21cff35f053\" xlink:show=\"new\" xlink:title=\"psysml:f253b0d3-72ce-4ec1-aa97-c21cff35f053\" xlink:type=\"simple\"><g id=\"elem_E7\"><rect fill=\"#FFFFFF\" height=\"48.2656\" id=\"E7\" rx=\"10\" ry=\"10\" style=\"stroke:#181818;stroke-width:0.5;\" width=\"144\" x=\"387.5\" y=\"183\"/><text fill=\"#000000\" font-family=\"sans-serif\" font-size=\"12\" font-style=\"italic\" lengthAdjust=\"spacing\" textLength=\"82\" x=\"418.5\" y=\"199.1387\">«calculation»</text><text fill=\"#000000\" font-family=\"sans-serif\" font-size=\"14\" lengthAdjust=\"spacing\" textLength=\"130\" x=\"390.5\" y=\"214.9639\">evaluationFunction</text><line style=\"stroke:#181818;stroke-width:0.5;\" x1=\"388.5\" x2=\"530.5\" y1=\"223.2656\" y2=\"223.2656\"/></g></a><!--MD5=[b9389687b975829384b498ac4b7476b2]\n",
       "class E8--><a href=\"psysml:753de58d-f4ea-44a5-91ee-5ffc5e7a177d\" target=\"_top\" title=\"psysml:753de58d-f4ea-44a5-91ee-5ffc5e7a177d\" xlink:actuate=\"onRequest\" xlink:href=\"psysml:753de58d-f4ea-44a5-91ee-5ffc5e7a177d\" xlink:show=\"new\" xlink:title=\"psysml:753de58d-f4ea-44a5-91ee-5ffc5e7a177d\" xlink:type=\"simple\"><g id=\"elem_E8\"><rect fill=\"#FFFFFF\" height=\"48.2656\" id=\"E8\" rx=\"10\" ry=\"10\" style=\"stroke:#181818;stroke-width:0.5;\" width=\"142\" x=\"621\" y=\"78\"/><text fill=\"#000000\" font-family=\"sans-serif\" font-size=\"12\" font-style=\"italic\" lengthAdjust=\"spacing\" textLength=\"40\" x=\"672\" y=\"94.1387\">«part»</text><text fill=\"#000000\" font-family=\"sans-serif\" font-size=\"14\" lengthAdjust=\"spacing\" textLength=\"128\" x=\"624\" y=\"109.9639\">alternative: Engine</text><line style=\"stroke:#181818;stroke-width:0.5;\" x1=\"622\" x2=\"762\" y1=\"118.2656\" y2=\"118.2656\"/></g></a><!--MD5=[fd4143e9d270a159db93a4ea2a975926]\n",
       "class E9--><a href=\"psysml:76ff8411-b0e7-4dd9-89c0-3f2666988fc0\" target=\"_top\" title=\"psysml:76ff8411-b0e7-4dd9-89c0-3f2666988fc0\" xlink:actuate=\"onRequest\" xlink:href=\"psysml:76ff8411-b0e7-4dd9-89c0-3f2666988fc0\" xlink:show=\"new\" xlink:title=\"psysml:76ff8411-b0e7-4dd9-89c0-3f2666988fc0\" xlink:type=\"simple\"><g id=\"elem_E9\"><rect fill=\"#FFFFFF\" height=\"48.2656\" id=\"E9\" rx=\"10\" ry=\"10\" style=\"stroke:#181818;stroke-width:0.5;\" width=\"203\" x=\"358\" y=\"61\"/><text fill=\"#000000\" font-family=\"sans-serif\" font-size=\"12\" font-style=\"italic\" lengthAdjust=\"spacing\" textLength=\"40\" x=\"439.5\" y=\"77.1387\">«part»</text><text fill=\"#000000\" font-family=\"sans-serif\" font-size=\"14\" lengthAdjust=\"spacing\" textLength=\"189\" x=\"361\" y=\"92.9639\">selectedAlternative: Engine</text><line style=\"stroke:#181818;stroke-width:0.5;\" x1=\"359\" x2=\"560\" y1=\"101.2656\" y2=\"101.2656\"/></g></a><!--MD5=[60a26617385b1d2d0262a64233df1f8d]\n",
       "class E6--><a href=\"psysml:4f755969-6586-456d-bfaa-2c124f0f3312\" target=\"_top\" title=\"psysml:4f755969-6586-456d-bfaa-2c124f0f3312\" xlink:actuate=\"onRequest\" xlink:href=\"psysml:4f755969-6586-456d-bfaa-2c124f0f3312\" xlink:show=\"new\" xlink:title=\"psysml:4f755969-6586-456d-bfaa-2c124f0f3312\" xlink:type=\"simple\"><g id=\"elem_E6\"><rect fill=\"#FFFFFF\" height=\"75.0813\" id=\"E6\" rx=\"10\" ry=\"10\" style=\"stroke:#181818;stroke-width:0.5;\" width=\"145\" x=\"100\" y=\"115.5\"/><text fill=\"#000000\" font-family=\"sans-serif\" font-size=\"12\" font-style=\"italic\" lengthAdjust=\"spacing\" textLength=\"70\" x=\"137.5\" y=\"131.6387\">«objective»</text><text fill=\"#000000\" font-family=\"sans-serif\" font-size=\"14\" lengthAdjust=\"spacing\" textLength=\"139\" x=\"103\" y=\"147.4639\">tradeStudyObjective</text><line style=\"stroke:#181818;stroke-width:0.5;\" x1=\"101\" x2=\"244\" y1=\"155.7656\" y2=\"155.7656\"/><text fill=\"#000000\" font-family=\"sans-serif\" font-size=\"14\" lengthAdjust=\"spacing\" textLength=\"132\" x=\"106\" y=\"183.2795\">selectedAlternative</text><text fill=\"#000000\" font-family=\"sans-serif\" font-size=\"14\" font-style=\"italic\" lengthAdjust=\"spacing\" textLength=\"51\" x=\"147\" y=\"168.1123\">subject</text></g></a><!--MD5=[05d275557350bfb9b23a4ef7222b4c39]\n",
       "link E3 to E2--><g id=\"link_E3_E2\"><a href=\"psysml:bc3cf079-eae7-49ce-b297-ec132a977e50\" target=\"_top\" title=\"psysml:bc3cf079-eae7-49ce-b297-ec132a977e50\" xlink:actuate=\"onRequest\" xlink:href=\"psysml:bc3cf079-eae7-49ce-b297-ec132a977e50\" xlink:show=\"new\" xlink:title=\"psysml:bc3cf079-eae7-49ce-b297-ec132a977e50\" xlink:type=\"simple\"><path d=\"M756.41,169.15 C771.81,165.3 788.14,161.22 803.06,157.49 \" fill=\"none\" id=\"E3-to-E2\" style=\"stroke:#181818;stroke-width:1.0;\"/><polygon fill=\"#FFFFFF\" points=\"822.64,152.59,805.9011,163.9834,802.5103,150.4002,822.64,152.59\" style=\"stroke:#181818;stroke-width:1.0;\"/><ellipse cx=\"799.8864\" cy=\"163.4235\" fill=\"#181818\" rx=\"2\" ry=\"2\" style=\"stroke:#181818;stroke-width:1.0;\"/><ellipse cx=\"797.4644\" cy=\"153.7212\" fill=\"#181818\" rx=\"2\" ry=\"2\" style=\"stroke:#181818;stroke-width:1.0;\"/></a></g><!--MD5=[185131fc0dcab0a4505a2ebe144e961b]\n",
       "link E4 to E2--><g id=\"link_E4_E2\"><a href=\"psysml:aa1a99dc-dc69-45ac-b95f-3bcc471ea5d4\" target=\"_top\" title=\"psysml:aa1a99dc-dc69-45ac-b95f-3bcc471ea5d4\" xlink:actuate=\"onRequest\" xlink:href=\"psysml:aa1a99dc-dc69-45ac-b95f-3bcc471ea5d4\" xlink:show=\"new\" xlink:title=\"psysml:aa1a99dc-dc69-45ac-b95f-3bcc471ea5d4\" xlink:type=\"simple\"><path d=\"M735.97,243.85 C745.09,238.28 754.52,232.17 763,226 C781.48,212.55 800.71,196.26 816.91,181.75 \" fill=\"none\" id=\"E4-to-E2\" style=\"stroke:#181818;stroke-width:1.0;\"/><polygon fill=\"#FFFFFF\" points=\"831.69,168.27,822.3597,186.2407,812.9308,175.8919,831.69,168.27\" style=\"stroke:#181818;stroke-width:1.0;\"/><ellipse cx=\"816.7993\" cy=\"188.6012\" fill=\"#181818\" rx=\"2\" ry=\"2\" style=\"stroke:#181818;stroke-width:1.0;\"/><ellipse cx=\"810.0644\" cy=\"181.2092\" fill=\"#181818\" rx=\"2\" ry=\"2\" style=\"stroke:#181818;stroke-width:1.0;\"/></a></g><!--MD5=[452b418e7f8a40397a49b8c0a78acc5b]\n",
       "reverse link E5 to E7--><g id=\"link_E5_E7\"><a href=\"psysml:ae0ddffd-d94b-4ee5-a4cb-a499b90c2b96\" target=\"_top\" title=\"psysml:ae0ddffd-d94b-4ee5-a4cb-a499b90c2b96\" xlink:actuate=\"onRequest\" xlink:href=\"psysml:ae0ddffd-d94b-4ee5-a4cb-a499b90c2b96\" xlink:show=\"new\" xlink:title=\"psysml:ae0ddffd-d94b-4ee5-a4cb-a499b90c2b96\" xlink:type=\"simple\"><path d=\"M299.0398,217.6304 C299.7761,217.5813 300.5131,217.5321 301.2507,217.4829 C307.1509,217.0894 313.0852,216.6936 319.0125,216.2983 C342.7219,214.7169 366.32,213.1425 387.18,211.75 \" fill=\"none\" id=\"E5-backto-E7\" style=\"stroke:#181818;stroke-width:1.0;\"/><polygon fill=\"#181818\" points=\"299.0398,217.6304,305.2926,221.2222,311.0132,216.8318,304.7603,213.24,299.0398,217.6304\" style=\"stroke:#181818;stroke-width:1.0;\"/></a></g><!--MD5=[dc164f5e8a733ab456ef1add180e9e34]\n",
       "reverse link E7 to E8--><g id=\"link_E7_E8\"><a href=\"psysml:a8c82a2a-741b-4fac-ac9b-98beb228d3cb\" target=\"_top\" title=\"psysml:a8c82a2a-741b-4fac-ac9b-98beb228d3cb\" xlink:actuate=\"onRequest\" xlink:href=\"psysml:a8c82a2a-741b-4fac-ac9b-98beb228d3cb\" xlink:show=\"new\" xlink:title=\"psysml:a8c82a2a-741b-4fac-ac9b-98beb228d3cb\" xlink:type=\"simple\"><path d=\"M525.59,177.35 C561.11,161.17 604.53,141.39 637.97,126.16 \" fill=\"none\" id=\"E7-backto-E8\" style=\"stroke:#181818;stroke-width:1.0;\"/><polygon fill=\"none\" points=\"513.38,182.91,520.4981,184.0641,524.3012,177.9374,517.1831,176.7833,513.38,182.91\" style=\"stroke:#181818;stroke-width:1.0;\"/></a></g><!--MD5=[f1f3f9f2fc535e6147756cb86a7f2e32]\n",
       "link E8 to E2--><g id=\"link_E8_E2\"><a href=\"psysml:199cdd6b-9599-4ee9-8d7a-04a31416ec15\" target=\"_top\" title=\"psysml:199cdd6b-9599-4ee9-8d7a-04a31416ec15\" xlink:actuate=\"onRequest\" xlink:href=\"psysml:199cdd6b-9599-4ee9-8d7a-04a31416ec15\" xlink:show=\"new\" xlink:title=\"psysml:199cdd6b-9599-4ee9-8d7a-04a31416ec15\" xlink:type=\"simple\"><path d=\"M763.03,119.93 C776.46,123.37 790.34,126.93 803.16,130.21 \" fill=\"none\" id=\"E8-to-E2\" style=\"stroke:#181818;stroke-width:1.0;\"/><polygon fill=\"#FFFFFF\" points=\"822.87,135.26,802.7277,137.3312,806.1985,123.7682,822.87,135.26\" style=\"stroke:#181818;stroke-width:1.0;\"/><ellipse cx=\"797.7015\" cy=\"133.9805\" fill=\"#181818\" rx=\"2\" ry=\"2\" style=\"stroke:#181818;stroke-width:1.0;\"/><ellipse cx=\"800.1806\" cy=\"124.2927\" fill=\"#181818\" rx=\"2\" ry=\"2\" style=\"stroke:#181818;stroke-width:1.0;\"/></a></g><!--MD5=[9ae28de373ca99bb8a1b38d63370ca7e]\n",
       "reverse link E5 to E9--><g id=\"link_E5_E9\"><a href=\"psysml:549a8511-5afb-4107-9df8-0f136ad572ec\" target=\"_top\" title=\"psysml:549a8511-5afb-4107-9df8-0f136ad572ec\" xlink:actuate=\"onRequest\" xlink:href=\"psysml:549a8511-5afb-4107-9df8-0f136ad572ec\" xlink:show=\"new\" xlink:title=\"psysml:549a8511-5afb-4107-9df8-0f136ad572ec\" xlink:type=\"simple\"><path d=\"M298.3512,212.4372 C298.5848,212.3548 298.8182,212.2719 299.0514,212.1886 C299.5177,212.0219 299.9829,211.8534 300.4471,211.683 C301.3755,211.3423 302.2996,210.9942 303.219,210.6386 C306.8965,209.2161 310.4988,207.6731 314,206 C338.12,194.48 337.75,182.45 358,165 C380.47,145.64 406.72,124.8 426.75,109.25 \" fill=\"none\" id=\"E5-backto-E9\" style=\"stroke:#181818;stroke-width:1.0;\"/><polygon fill=\"none\" points=\"298.3512,212.4372,305.3401,214.2132,309.6675,208.4448,302.6786,206.6689,298.3512,212.4372\" style=\"stroke:#181818;stroke-width:1.0;\"/></a></g><!--MD5=[5c3bb36fe832a92c7f0e1807dd65209d]\n",
       "link E9 to E2--><g id=\"link_E9_E2\"><a href=\"psysml:94a3a0b9-9284-4132-a69a-1dbd276e1390\" target=\"_top\" title=\"psysml:94a3a0b9-9284-4132-a69a-1dbd276e1390\" xlink:actuate=\"onRequest\" xlink:href=\"psysml:94a3a0b9-9284-4132-a69a-1dbd276e1390\" xlink:show=\"new\" xlink:title=\"psysml:94a3a0b9-9284-4132-a69a-1dbd276e1390\" xlink:type=\"simple\"><path d=\"M536.1,60.95 C598.9,45.11 689.52,31.95 763,60 C787.07,69.19 808.89,87.69 825.43,105 \" fill=\"none\" id=\"E9-to-E2\" style=\"stroke:#181818;stroke-width:1.0;\"/><polygon fill=\"#FFFFFF\" points=\"838.79,119.95,820.9098,110.4475,831.3487,101.1185,838.79,119.95\" style=\"stroke:#181818;stroke-width:1.0;\"/><ellipse cx=\"818.6028\" cy=\"104.8646\" fill=\"#181818\" rx=\"2\" ry=\"2\" style=\"stroke:#181818;stroke-width:1.0;\"/><ellipse cx=\"826.0592\" cy=\"98.2011\" fill=\"#181818\" rx=\"2\" ry=\"2\" style=\"stroke:#181818;stroke-width:1.0;\"/></a></g><!--MD5=[510a2460d38bc86d4ebf5075cd388b57]\n",
       "@startuml\r\n",
       "skin sysmlbw\r\n",
       "skinparam monochrome true\r\n",
       "skinparam wrapWidth 300\r\n",
       "hide circle\r\n",
       "left to right direction\r\n",
       "\r\n",
       "package \"TradeStudyTest\" as E1  [[psysml:a91f55f8-3969-42e6-b46f-82de9da3fdc7 ]]  {\r\n",
       "comp def \"Engine\" as E2  <<(T,blue) part  def>> [[psysml:8055cf29-c4ca-4370-b025-bca5bf4f4944 ]] {\r\n",
       "}\r\n",
       "comp usage \"engine1: Engine  \" as E3  <<(T,blue) part>> [[psysml:479197b1-ce2e-480f-b2ef-7f257dc343b8 ]] {\r\n",
       "}\r\n",
       "comp usage \"engine2: Engine  \" as E4  <<(T,blue) part>> [[psysml:df8f9049-6917-4fa7-a1c9-f212538c9a4e ]] {\r\n",
       "}\r\n",
       "rec usage \"engineTradeStudy: TradeStudy  \" as E5  << analysis>> [[psysml:538ece1f-cb66-4e09-817f-0abcddd62ddd ]] {\r\n",
       "comp usage \"tradeStudyObjective\" as E6  <<objective>> [[psysml:4f755969-6586-456d-bfaa-2c124f0f3312 ]] {\r\n",
       "##//subject//##\r\n",
       "selectedAlternative\r\n",
       "}\r\n",
       "}\r\n",
       "comp usage \"evaluationFunction  \" as E7  <<(T,blue) calculation>> [[psysml:f253b0d3-72ce-4ec1-aa97-c21cff35f053 ]] {\r\n",
       "}\r\n",
       "comp usage \"alternative: Engine  \" as E8  <<(T,blue) part>> [[psysml:753de58d-f4ea-44a5-91ee-5ffc5e7a177d ]] {\r\n",
       "}\r\n",
       "comp usage \"selectedAlternative: Engine  \" as E9  <<(T,blue) part>> [[psysml:76ff8411-b0e7-4dd9-89c0-3f2666988fc0 ]] {\r\n",
       "}\r\n",
       "}\r\n",
       "E3 - -:|> E2 [[psysml:bc3cf079-eae7-49ce-b297-ec132a977e50 ]] \r\n",
       "E4 - -:|> E2 [[psysml:aa1a99dc-dc69-45ac-b95f-3bcc471ea5d4 ]] \r\n",
       "E5 *- - E7 [[psysml:ae0ddffd-d94b-4ee5-a4cb-a499b90c2b96 ]] \r\n",
       "E7 o- - E8 [[psysml:a8c82a2a-741b-4fac-ac9b-98beb228d3cb ]] \r\n",
       "E8 - -:|> E2 [[psysml:199cdd6b-9599-4ee9-8d7a-04a31416ec15 ]] \r\n",
       "E5 o- - E9 [[psysml:549a8511-5afb-4107-9df8-0f136ad572ec ]] \r\n",
       "E9 - -:|> E2 [[psysml:94a3a0b9-9284-4132-a69a-1dbd276e1390 ]] \r\n",
       "@enduml\r\n",
       "\n",
       "PlantUML version 1.2022.7(Mon Aug 22 17:01:30 UTC 2022)\n",
       "(EPL source distribution)\n",
       "Java Runtime: OpenJDK Runtime Environment\n",
       "JVM: OpenJDK 64-Bit Server VM\n",
       "Default Encoding: UTF-8\n",
       "Language: en\n",
       "Country: null\n",
       "--></g></svg>"
      ]
     },
     "execution_count": 16,
     "metadata": {},
     "output_type": "execute_result"
    }
   ],
   "source": [
    "%viz --style=\"LR\" --view=\"Default\" \"TradeStudyTest\""
   ]
  },
  {
   "cell_type": "code",
   "execution_count": 17,
   "id": "7dd9afd3",
   "metadata": {
    "execution": {
     "iopub.execute_input": "2024-12-16T14:21:08.249926Z",
     "iopub.status.busy": "2024-12-16T14:21:08.249562Z",
     "iopub.status.idle": "2024-12-16T14:21:08.277319Z",
     "shell.execute_reply": "2024-12-16T14:21:08.276354Z"
    }
   },
   "outputs": [
    {
     "data": {
      "image/svg+xml": [
       "<?xml version=\"1.0\" encoding=\"UTF-8\" standalone=\"no\"?><svg xmlns=\"http://www.w3.org/2000/svg\" xmlns:xlink=\"http://www.w3.org/1999/xlink\" contentStyleType=\"text/css\" height=\"315px\" preserveAspectRatio=\"none\" style=\"width:1302px;height:315px;background:#FFFFFF;\" version=\"1.1\" viewBox=\"0 0 1302 315\" width=\"1302px\" zoomAndPan=\"magnify\"><defs/><g><!--MD5=[fbc87193dbaf4d95561dea2c320d4a47]\n",
       "cluster E1--><g id=\"cluster_E1\"><a href=\"psysml:a91f55f8-3969-42e6-b46f-82de9da3fdc7\" target=\"_top\" title=\"psysml:a91f55f8-3969-42e6-b46f-82de9da3fdc7\" xlink:actuate=\"onRequest\" xlink:href=\"psysml:a91f55f8-3969-42e6-b46f-82de9da3fdc7\" xlink:show=\"new\" xlink:title=\"psysml:a91f55f8-3969-42e6-b46f-82de9da3fdc7\" xlink:type=\"simple\"><polygon fill=\"none\" points=\"16,6,138.125,6,145.125,28.2969,1285,28.2969,1285,308,16,308,16,6\" style=\"stroke:#000000;stroke-width:1.5;\"/><line style=\"stroke:#000000;stroke-width:1.5;\" x1=\"16\" x2=\"145.125\" y1=\"28.2969\" y2=\"28.2969\"/><text fill=\"#000000\" font-family=\"sans-serif\" font-size=\"14\" font-weight=\"bold\" lengthAdjust=\"spacing\" textLength=\"116.125\" x=\"20\" y=\"20.9951\">TradeStudyTest</text></a></g><!--MD5=[b4997ac47864f28c2f74865a473b2911]\n",
       "class E2--><a href=\"psysml:8055cf29-c4ca-4370-b025-bca5bf4f4944\" target=\"_top\" title=\"psysml:8055cf29-c4ca-4370-b025-bca5bf4f4944\" xlink:actuate=\"onRequest\" xlink:href=\"psysml:8055cf29-c4ca-4370-b025-bca5bf4f4944\" xlink:show=\"new\" xlink:title=\"psysml:8055cf29-c4ca-4370-b025-bca5bf4f4944\" xlink:type=\"simple\"><g id=\"elem_E2\"><rect fill=\"#FFFFFF\" height=\"48.2656\" id=\"E2\" style=\"stroke:#181818;stroke-width:0.5;\" width=\"70\" x=\"1199\" y=\"167\"/><text fill=\"#000000\" font-family=\"sans-serif\" font-size=\"12\" font-style=\"italic\" lengthAdjust=\"spacing\" textLength=\"68\" x=\"1200\" y=\"183.1387\">«part  def»</text><text fill=\"#000000\" font-family=\"sans-serif\" font-size=\"14\" lengthAdjust=\"spacing\" textLength=\"48\" x=\"1210\" y=\"198.9639\">Engine</text><line style=\"stroke:#181818;stroke-width:0.5;\" x1=\"1200\" x2=\"1268\" y1=\"207.2656\" y2=\"207.2656\"/></g></a><!--MD5=[09b614a08d8cba4a07c9adeb5e0fee81]\n",
       "class E3--><a href=\"psysml:479197b1-ce2e-480f-b2ef-7f257dc343b8\" target=\"_top\" title=\"psysml:479197b1-ce2e-480f-b2ef-7f257dc343b8\" xlink:actuate=\"onRequest\" xlink:href=\"psysml:479197b1-ce2e-480f-b2ef-7f257dc343b8\" xlink:show=\"new\" xlink:title=\"psysml:479197b1-ce2e-480f-b2ef-7f257dc343b8\" xlink:type=\"simple\"><g id=\"elem_E3\"><rect fill=\"#FFFFFF\" height=\"48.2656\" id=\"E3\" rx=\"10\" ry=\"10\" style=\"stroke:#181818;stroke-width:0.5;\" width=\"128\" x=\"1003\" y=\"41\"/><text fill=\"#000000\" font-family=\"sans-serif\" font-size=\"12\" font-style=\"italic\" lengthAdjust=\"spacing\" textLength=\"40\" x=\"1047\" y=\"57.1387\">«part»</text><text fill=\"#000000\" font-family=\"sans-serif\" font-size=\"14\" lengthAdjust=\"spacing\" textLength=\"114\" x=\"1006\" y=\"72.9639\">engine1: Engine</text><line style=\"stroke:#181818;stroke-width:0.5;\" x1=\"1004\" x2=\"1130\" y1=\"81.2656\" y2=\"81.2656\"/></g></a><!--MD5=[ebbe1d658d1005bcc118a6aa81145e00]\n",
       "class E4--><a href=\"psysml:df8f9049-6917-4fa7-a1c9-f212538c9a4e\" target=\"_top\" title=\"psysml:df8f9049-6917-4fa7-a1c9-f212538c9a4e\" xlink:actuate=\"onRequest\" xlink:href=\"psysml:df8f9049-6917-4fa7-a1c9-f212538c9a4e\" xlink:show=\"new\" xlink:title=\"psysml:df8f9049-6917-4fa7-a1c9-f212538c9a4e\" xlink:type=\"simple\"><g id=\"elem_E4\"><rect fill=\"#FFFFFF\" height=\"48.2656\" id=\"E4\" rx=\"10\" ry=\"10\" style=\"stroke:#181818;stroke-width:0.5;\" width=\"128\" x=\"1003\" y=\"124\"/><text fill=\"#000000\" font-family=\"sans-serif\" font-size=\"12\" font-style=\"italic\" lengthAdjust=\"spacing\" textLength=\"40\" x=\"1047\" y=\"140.1387\">«part»</text><text fill=\"#000000\" font-family=\"sans-serif\" font-size=\"14\" lengthAdjust=\"spacing\" textLength=\"114\" x=\"1006\" y=\"155.9639\">engine2: Engine</text><line style=\"stroke:#181818;stroke-width:0.5;\" x1=\"1004\" x2=\"1130\" y1=\"164.2656\" y2=\"164.2656\"/></g></a><!--MD5=[270fce915f116d4de14055a7c1d9a0f3]\n",
       "class E5--><a href=\"psysml:538ece1f-cb66-4e09-817f-0abcddd62ddd\" target=\"_top\" title=\"psysml:538ece1f-cb66-4e09-817f-0abcddd62ddd\" xlink:actuate=\"onRequest\" xlink:href=\"psysml:538ece1f-cb66-4e09-817f-0abcddd62ddd\" xlink:show=\"new\" xlink:title=\"psysml:538ece1f-cb66-4e09-817f-0abcddd62ddd\" xlink:type=\"simple\"><g id=\"elem_E5\"><rect fill=\"#FFFFFF\" height=\"91.3781\" id=\"E5\" rx=\"10\" ry=\"10\" style=\"stroke:#181818;stroke-width:0.5;\" width=\"277\" x=\"32\" y=\"112.5\"/><text fill=\"#000000\" font-family=\"sans-serif\" font-size=\"12\" font-style=\"italic\" lengthAdjust=\"spacing\" textLength=\"64\" x=\"138.5\" y=\"128.6387\">«analysis»</text><text fill=\"#000000\" font-family=\"sans-serif\" font-size=\"14\" lengthAdjust=\"spacing\" textLength=\"215\" x=\"59\" y=\"144.4639\">engineTradeStudy: TradeStudy</text><line style=\"stroke:#181818;stroke-width:0.5;\" x1=\"33\" x2=\"308\" y1=\"152.7656\" y2=\"152.7656\"/><text fill=\"#000000\" font-family=\"sans-serif\" font-size=\"14\" lengthAdjust=\"spacing\" textLength=\"261\" x=\"38\" y=\"180.2795\">studyAlternatives: Engine = (engine1,</text><text fill=\"#000000\" font-family=\"sans-serif\" font-size=\"14\" lengthAdjust=\"spacing\" textLength=\"62\" x=\"38\" y=\"196.5764\">engine2)</text><text fill=\"#000000\" font-family=\"sans-serif\" font-size=\"14\" font-style=\"italic\" lengthAdjust=\"spacing\" textLength=\"51\" x=\"145\" y=\"165.1123\">subject</text></g></a><!--MD5=[60a26617385b1d2d0262a64233df1f8d]\n",
       "class E6--><a href=\"psysml:4f755969-6586-456d-bfaa-2c124f0f3312\" target=\"_top\" title=\"psysml:4f755969-6586-456d-bfaa-2c124f0f3312\" xlink:actuate=\"onRequest\" xlink:href=\"psysml:4f755969-6586-456d-bfaa-2c124f0f3312\" xlink:show=\"new\" xlink:title=\"psysml:4f755969-6586-456d-bfaa-2c124f0f3312\" xlink:type=\"simple\"><g id=\"elem_E6\"><rect fill=\"#FFFFFF\" height=\"75.0813\" id=\"E6\" rx=\"10\" ry=\"10\" style=\"stroke:#181818;stroke-width:0.5;\" width=\"289\" x=\"444\" y=\"217.5\"/><text fill=\"#000000\" font-family=\"sans-serif\" font-size=\"12\" font-style=\"italic\" lengthAdjust=\"spacing\" textLength=\"91\" x=\"543\" y=\"233.6387\">«requirement»</text><text fill=\"#000000\" font-family=\"sans-serif\" font-size=\"14\" lengthAdjust=\"spacing\" textLength=\"275\" x=\"447\" y=\"249.4639\">tradeStudyObjective: MaximizeObjective</text><line style=\"stroke:#181818;stroke-width:0.5;\" x1=\"445\" x2=\"732\" y1=\"257.7656\" y2=\"257.7656\"/><text fill=\"#000000\" font-family=\"sans-serif\" font-size=\"14\" lengthAdjust=\"spacing\" textLength=\"132\" x=\"450\" y=\"285.2795\">selectedAlternative</text><text fill=\"#000000\" font-family=\"sans-serif\" font-size=\"14\" font-style=\"italic\" lengthAdjust=\"spacing\" textLength=\"51\" x=\"563\" y=\"270.1123\">subject</text></g></a><!--MD5=[2156ba9850f5573cc1fc38a6a4b2f02b]\n",
       "class E7--><a href=\"psysml:f253b0d3-72ce-4ec1-aa97-c21cff35f053\" target=\"_top\" title=\"psysml:f253b0d3-72ce-4ec1-aa97-c21cff35f053\" xlink:actuate=\"onRequest\" xlink:href=\"psysml:f253b0d3-72ce-4ec1-aa97-c21cff35f053\" xlink:show=\"new\" xlink:title=\"psysml:f253b0d3-72ce-4ec1-aa97-c21cff35f053\" xlink:type=\"simple\"><g id=\"elem_E7\"><rect fill=\"#FFFFFF\" height=\"48.2656\" id=\"E7\" rx=\"10\" ry=\"10\" style=\"stroke:#181818;stroke-width:0.5;\" width=\"144\" x=\"516.5\" y=\"134\"/><text fill=\"#000000\" font-family=\"sans-serif\" font-size=\"12\" font-style=\"italic\" lengthAdjust=\"spacing\" textLength=\"82\" x=\"547.5\" y=\"150.1387\">«calculation»</text><text fill=\"#000000\" font-family=\"sans-serif\" font-size=\"14\" lengthAdjust=\"spacing\" textLength=\"130\" x=\"519.5\" y=\"165.9639\">evaluationFunction</text><line style=\"stroke:#181818;stroke-width:0.5;\" x1=\"517.5\" x2=\"659.5\" y1=\"174.2656\" y2=\"174.2656\"/></g></a><!--MD5=[b9389687b975829384b498ac4b7476b2]\n",
       "class E8--><a href=\"psysml:753de58d-f4ea-44a5-91ee-5ffc5e7a177d\" target=\"_top\" title=\"psysml:753de58d-f4ea-44a5-91ee-5ffc5e7a177d\" xlink:actuate=\"onRequest\" xlink:href=\"psysml:753de58d-f4ea-44a5-91ee-5ffc5e7a177d\" xlink:show=\"new\" xlink:title=\"psysml:753de58d-f4ea-44a5-91ee-5ffc5e7a177d\" xlink:type=\"simple\"><g id=\"elem_E8\"><rect fill=\"#FFFFFF\" height=\"48.2656\" id=\"E8\" rx=\"10\" ry=\"10\" style=\"stroke:#181818;stroke-width:0.5;\" width=\"142\" x=\"996\" y=\"244\"/><text fill=\"#000000\" font-family=\"sans-serif\" font-size=\"12\" font-style=\"italic\" lengthAdjust=\"spacing\" textLength=\"40\" x=\"1047\" y=\"260.1387\">«part»</text><text fill=\"#000000\" font-family=\"sans-serif\" font-size=\"14\" lengthAdjust=\"spacing\" textLength=\"128\" x=\"999\" y=\"275.9639\">alternative: Engine</text><line style=\"stroke:#181818;stroke-width:0.5;\" x1=\"997\" x2=\"1137\" y1=\"284.2656\" y2=\"284.2656\"/></g></a><!--MD5=[fd4143e9d270a159db93a4ea2a975926]\n",
       "class E9--><a href=\"psysml:76ff8411-b0e7-4dd9-89c0-3f2666988fc0\" target=\"_top\" title=\"psysml:76ff8411-b0e7-4dd9-89c0-3f2666988fc0\" xlink:actuate=\"onRequest\" xlink:href=\"psysml:76ff8411-b0e7-4dd9-89c0-3f2666988fc0\" xlink:show=\"new\" xlink:title=\"psysml:76ff8411-b0e7-4dd9-89c0-3f2666988fc0\" xlink:type=\"simple\"><g id=\"elem_E9\"><rect fill=\"#FFFFFF\" height=\"48.2656\" id=\"E9\" rx=\"10\" ry=\"10\" style=\"stroke:#181818;stroke-width:0.5;\" width=\"203\" x=\"763\" y=\"129\"/><text fill=\"#000000\" font-family=\"sans-serif\" font-size=\"12\" font-style=\"italic\" lengthAdjust=\"spacing\" textLength=\"40\" x=\"844.5\" y=\"145.1387\">«part»</text><text fill=\"#000000\" font-family=\"sans-serif\" font-size=\"14\" lengthAdjust=\"spacing\" textLength=\"189\" x=\"766\" y=\"160.9639\">selectedAlternative: Engine</text><line style=\"stroke:#181818;stroke-width:0.5;\" x1=\"764\" x2=\"965\" y1=\"169.2656\" y2=\"169.2656\"/></g></a><!--MD5=[05d275557350bfb9b23a4ef7222b4c39]\n",
       "link E3 to E2--><g id=\"link_E3_E2\"><a href=\"psysml:bc3cf079-eae7-49ce-b297-ec132a977e50\" target=\"_top\" title=\"psysml:bc3cf079-eae7-49ce-b297-ec132a977e50\" xlink:actuate=\"onRequest\" xlink:href=\"psysml:bc3cf079-eae7-49ce-b297-ec132a977e50\" xlink:show=\"new\" xlink:title=\"psysml:bc3cf079-eae7-49ce-b297-ec132a977e50\" xlink:type=\"simple\"><path d=\"M1112.17,89.06 C1120.94,94.33 1129.92,100.11 1138,106 C1157.38,120.13 1177.38,137.53 1193.99,152.89 \" fill=\"none\" id=\"E3-to-E2\" style=\"stroke:#181818;stroke-width:1.0;\"/><polygon fill=\"#FFFFFF\" points=\"1208.76,166.83,1190.1385,158.8775,1199.7489,148.6971,1208.76,166.83\" style=\"stroke:#181818;stroke-width:1.0;\"/><ellipse cx=\"1187.3666\" cy=\"153.5104\" fill=\"#181818\" rx=\"2\" ry=\"2\" style=\"stroke:#181818;stroke-width:1.0;\"/><ellipse cx=\"1194.2311\" cy=\"146.2387\" fill=\"#181818\" rx=\"2\" ry=\"2\" style=\"stroke:#181818;stroke-width:1.0;\"/></a></g><!--MD5=[185131fc0dcab0a4505a2ebe144e961b]\n",
       "link E4 to E2--><g id=\"link_E4_E2\"><a href=\"psysml:aa1a99dc-dc69-45ac-b95f-3bcc471ea5d4\" target=\"_top\" title=\"psysml:aa1a99dc-dc69-45ac-b95f-3bcc471ea5d4\" xlink:actuate=\"onRequest\" xlink:href=\"psysml:aa1a99dc-dc69-45ac-b95f-3bcc471ea5d4\" xlink:show=\"new\" xlink:title=\"psysml:aa1a99dc-dc69-45ac-b95f-3bcc471ea5d4\" xlink:type=\"simple\"><path d=\"M1131.32,164.5 C1147.16,168.63 1163.99,173.02 1179.31,177.01 \" fill=\"none\" id=\"E4-to-E2\" style=\"stroke:#181818;stroke-width:1.0;\"/><polygon fill=\"#FFFFFF\" points=\"1198.69,182.06,1178.539,184.044,1182.0684,170.4962,1198.69,182.06\" style=\"stroke:#181818;stroke-width:1.0;\"/><ellipse cx=\"1173.5273\" cy=\"180.6716\" fill=\"#181818\" rx=\"2\" ry=\"2\" style=\"stroke:#181818;stroke-width:1.0;\"/><ellipse cx=\"1176.0483\" cy=\"170.9946\" fill=\"#181818\" rx=\"2\" ry=\"2\" style=\"stroke:#181818;stroke-width:1.0;\"/></a></g><!--MD5=[9120cf2e5df3bff93db8f754bbbc09b4]\n",
       "link E5 to E6--><g id=\"link_E5_E6\"><a href=\"psysml:8e017d7e-1da3-4c9b-9b63-350890040555\" target=\"_top\" title=\"psysml:8e017d7e-1da3-4c9b-9b63-350890040555\" xlink:actuate=\"onRequest\" xlink:href=\"psysml:8e017d7e-1da3-4c9b-9b63-350890040555\" xlink:show=\"new\" xlink:title=\"psysml:8e017d7e-1da3-4c9b-9b63-350890040555\" xlink:type=\"simple\"><path d=\"M309.16,190.1 C349.72,199.56 394.33,209.96 435.72,219.61 \" fill=\"none\" id=\"E5-to-E6\" style=\"stroke:#181818;stroke-width:1.0;\"/><polygon fill=\"#181818\" points=\"443.69,221.47,436.5777,216.7356,435.2184,222.5796,443.69,221.47\" style=\"stroke:#181818;stroke-width:1.0;\"/><text fill=\"#000000\" font-family=\"sans-serif\" font-size=\"13\" lengthAdjust=\"spacing\" textLength=\"73\" x=\"340\" y=\"194.0669\">«objective»</text></a></g><!--MD5=[452b418e7f8a40397a49b8c0a78acc5b]\n",
       "reverse link E5 to E7--><g id=\"link_E5_E7\"><a href=\"psysml:ae0ddffd-d94b-4ee5-a4cb-a499b90c2b96\" target=\"_top\" title=\"psysml:ae0ddffd-d94b-4ee5-a4cb-a499b90c2b96\" xlink:actuate=\"onRequest\" xlink:href=\"psysml:ae0ddffd-d94b-4ee5-a4cb-a499b90c2b96\" xlink:show=\"new\" xlink:title=\"psysml:ae0ddffd-d94b-4ee5-a4cb-a499b90c2b96\" xlink:type=\"simple\"><path d=\"M322.28,158 C388.52,158 463.16,158 516.34,158 \" fill=\"none\" id=\"E5-backto-E7\" style=\"stroke:#181818;stroke-width:1.0;\"/><polygon fill=\"#181818\" points=\"309.16,158,315.16,162,321.16,158,315.16,154,309.16,158\" style=\"stroke:#181818;stroke-width:1.0;\"/></a></g><!--MD5=[dc164f5e8a733ab456ef1add180e9e34]\n",
       "reverse link E7 to E8--><g id=\"link_E7_E8\"><a href=\"psysml:a8c82a2a-741b-4fac-ac9b-98beb228d3cb\" target=\"_top\" title=\"psysml:a8c82a2a-741b-4fac-ac9b-98beb228d3cb\" xlink:actuate=\"onRequest\" xlink:href=\"psysml:a8c82a2a-741b-4fac-ac9b-98beb228d3cb\" xlink:show=\"new\" xlink:title=\"psysml:a8c82a2a-741b-4fac-ac9b-98beb228d3cb\" xlink:type=\"simple\"><path d=\"M673.41,177.37 C764.94,198.5 909.84,231.95 995.65,251.76 \" fill=\"none\" id=\"E7-backto-E8\" style=\"stroke:#181818;stroke-width:1.0;\"/><polygon fill=\"none\" points=\"660.58,174.41,665.5252,179.6584,672.2718,177.1122,667.3266,171.8638,660.58,174.41\" style=\"stroke:#181818;stroke-width:1.0;\"/></a></g><!--MD5=[f1f3f9f2fc535e6147756cb86a7f2e32]\n",
       "link E8 to E2--><g id=\"link_E8_E2\"><a href=\"psysml:199cdd6b-9599-4ee9-8d7a-04a31416ec15\" target=\"_top\" title=\"psysml:199cdd6b-9599-4ee9-8d7a-04a31416ec15\" xlink:actuate=\"onRequest\" xlink:href=\"psysml:199cdd6b-9599-4ee9-8d7a-04a31416ec15\" xlink:show=\"new\" xlink:title=\"psysml:199cdd6b-9599-4ee9-8d7a-04a31416ec15\" xlink:type=\"simple\"><path d=\"M1119.75,243.85 C1139.03,234.85 1160.93,224.63 1180.29,215.6 \" fill=\"none\" id=\"E8-to-E2\" style=\"stroke:#181818;stroke-width:1.0;\"/><polygon fill=\"#FFFFFF\" points=\"1198.62,207.04,1184.3652,221.4206,1178.4426,208.735,1198.62,207.04\" style=\"stroke:#181818;stroke-width:1.0;\"/><ellipse cx=\"1178.3543\" cy=\"222.0197\" fill=\"#181818\" rx=\"2\" ry=\"2\" style=\"stroke:#181818;stroke-width:1.0;\"/><ellipse cx=\"1174.1239\" cy=\"212.9586\" fill=\"#181818\" rx=\"2\" ry=\"2\" style=\"stroke:#181818;stroke-width:1.0;\"/></a></g><!--MD5=[9ae28de373ca99bb8a1b38d63370ca7e]\n",
       "reverse link E5 to E9--><g id=\"link_E5_E9\"><a href=\"psysml:549a8511-5afb-4107-9df8-0f136ad572ec\" target=\"_top\" title=\"psysml:549a8511-5afb-4107-9df8-0f136ad572ec\" xlink:actuate=\"onRequest\" xlink:href=\"psysml:549a8511-5afb-4107-9df8-0f136ad572ec\" xlink:show=\"new\" xlink:title=\"psysml:549a8511-5afb-4107-9df8-0f136ad572ec\" xlink:type=\"simple\"><path d=\"M321.93,129.46 C435.32,112.14 594.44,96.74 733,116 C752.48,118.71 773.13,123.59 792.12,128.93 \" fill=\"none\" id=\"E5-backto-E9\" style=\"stroke:#181818;stroke-width:1.0;\"/><polygon fill=\"none\" points=\"309.03,131.47,315.574,134.4991,320.8871,129.6235,314.343,126.5944,309.03,131.47\" style=\"stroke:#181818;stroke-width:1.0;\"/></a></g><!--MD5=[5c3bb36fe832a92c7f0e1807dd65209d]\n",
       "link E9 to E2--><g id=\"link_E9_E2\"><a href=\"psysml:94a3a0b9-9284-4132-a69a-1dbd276e1390\" target=\"_top\" title=\"psysml:94a3a0b9-9284-4132-a69a-1dbd276e1390\" xlink:actuate=\"onRequest\" xlink:href=\"psysml:94a3a0b9-9284-4132-a69a-1dbd276e1390\" xlink:show=\"new\" xlink:title=\"psysml:94a3a0b9-9284-4132-a69a-1dbd276e1390\" xlink:type=\"simple\"><path d=\"M939.67,177.05 C957.9,181.96 977.5,186.41 996,189 C1058.16,197.68 1130.39,196.73 1178.61,194.54 \" fill=\"none\" id=\"E9-to-E2\" style=\"stroke:#181818;stroke-width:1.0;\"/><polygon fill=\"#FFFFFF\" points=\"1198.65,193.49,1180.0409,201.4713,1179.3108,187.4903,1198.65,193.49\" style=\"stroke:#181818;stroke-width:1.0;\"/><ellipse cx=\"1174.2443\" cy=\"199.7712\" fill=\"#181818\" rx=\"2\" ry=\"2\" style=\"stroke:#181818;stroke-width:1.0;\"/><ellipse cx=\"1173.7229\" cy=\"189.7848\" fill=\"#181818\" rx=\"2\" ry=\"2\" style=\"stroke:#181818;stroke-width:1.0;\"/></a></g><!--MD5=[90e8d7d9b0aab10eed2fcf12fd680de5]\n",
       "@startuml\r\n",
       "skin sysmlbw\r\n",
       "skinparam monochrome true\r\n",
       "skinparam wrapWidth 300\r\n",
       "hide circle\r\n",
       "left to right direction\r\n",
       "\r\n",
       "package \"TradeStudyTest\" as E1  [[psysml:a91f55f8-3969-42e6-b46f-82de9da3fdc7 ]]  {\r\n",
       "comp def \"Engine\" as E2  <<(T,blue) part  def>> [[psysml:8055cf29-c4ca-4370-b025-bca5bf4f4944 ]] {\r\n",
       "}\r\n",
       "comp usage \"engine1: Engine  \" as E3  <<(T,blue) part>> [[psysml:479197b1-ce2e-480f-b2ef-7f257dc343b8 ]] {\r\n",
       "}\r\n",
       "comp usage \"engine2: Engine  \" as E4  <<(T,blue) part>> [[psysml:df8f9049-6917-4fa7-a1c9-f212538c9a4e ]] {\r\n",
       "}\r\n",
       "comp usage \"engineTradeStudy: TradeStudy  \" as E5  << analysis>> [[psysml:538ece1f-cb66-4e09-817f-0abcddd62ddd ]] {\r\n",
       "##//subject//##\r\n",
       "studyAlternatives: Engine <U+003D> (engine1, engine2)\r\n",
       "}\r\n",
       "comp usage \"tradeStudyObjective: MaximizeObjective  \" as E6  <<(T,blue) requirement>> [[psysml:4f755969-6586-456d-bfaa-2c124f0f3312 ]] {\r\n",
       "##//subject//##\r\n",
       "selectedAlternative\r\n",
       "}\r\n",
       "comp usage \"evaluationFunction  \" as E7  <<(T,blue) calculation>> [[psysml:f253b0d3-72ce-4ec1-aa97-c21cff35f053 ]] {\r\n",
       "}\r\n",
       "comp usage \"alternative: Engine  \" as E8  <<(T,blue) part>> [[psysml:753de58d-f4ea-44a5-91ee-5ffc5e7a177d ]] {\r\n",
       "}\r\n",
       "comp usage \"selectedAlternative: Engine  \" as E9  <<(T,blue) part>> [[psysml:76ff8411-b0e7-4dd9-89c0-3f2666988fc0 ]] {\r\n",
       "}\r\n",
       "}\r\n",
       "E3 - -:|> E2 [[psysml:bc3cf079-eae7-49ce-b297-ec132a977e50 ]] \r\n",
       "E4 - -:|> E2 [[psysml:aa1a99dc-dc69-45ac-b95f-3bcc471ea5d4 ]] \r\n",
       "E5 - ->> E6 [[psysml:8e017d7e-1da3-4c9b-9b63-350890040555 ]] : <<objective>>\r\n",
       "E5 *- - E7 [[psysml:ae0ddffd-d94b-4ee5-a4cb-a499b90c2b96 ]] \r\n",
       "E7 o- - E8 [[psysml:a8c82a2a-741b-4fac-ac9b-98beb228d3cb ]] \r\n",
       "E8 - -:|> E2 [[psysml:199cdd6b-9599-4ee9-8d7a-04a31416ec15 ]] \r\n",
       "E5 o- - E9 [[psysml:549a8511-5afb-4107-9df8-0f136ad572ec ]] \r\n",
       "E9 - -:|> E2 [[psysml:94a3a0b9-9284-4132-a69a-1dbd276e1390 ]] \r\n",
       "@enduml\r\n",
       "\n",
       "PlantUML version 1.2022.7(Mon Aug 22 17:01:30 UTC 2022)\n",
       "(EPL source distribution)\n",
       "Java Runtime: OpenJDK Runtime Environment\n",
       "JVM: OpenJDK 64-Bit Server VM\n",
       "Default Encoding: UTF-8\n",
       "Language: en\n",
       "Country: null\n",
       "--></g></svg>"
      ]
     },
     "execution_count": 17,
     "metadata": {},
     "output_type": "execute_result"
    }
   ],
   "source": [
    "%viz --style=\"LR\" --view=\"Tree\" \"TradeStudyTest\""
   ]
  },
  {
   "cell_type": "code",
   "execution_count": 18,
   "id": "8bda164f",
   "metadata": {
    "execution": {
     "iopub.execute_input": "2024-12-16T14:21:08.333433Z",
     "iopub.status.busy": "2024-12-16T14:21:08.333194Z",
     "iopub.status.idle": "2024-12-16T14:21:08.338747Z",
     "shell.execute_reply": "2024-12-16T14:21:08.338568Z"
    }
   },
   "outputs": [
    {
     "data": {
      "image/svg+xml": [
       "<?xml version=\"1.0\" encoding=\"UTF-8\" standalone=\"no\"?><svg xmlns=\"http://www.w3.org/2000/svg\" xmlns:xlink=\"http://www.w3.org/1999/xlink\" contentStyleType=\"text/css\" height=\"10px\" preserveAspectRatio=\"none\" style=\"width:10px;height:10px;background:#FFFFFF;\" version=\"1.1\" viewBox=\"0 0 10 10\" width=\"10px\" zoomAndPan=\"magnify\"><defs/><g><!--MD5=[fb420fbd7a91d32138f4344b927a323c]\n",
       "@startuml\r\n",
       "skin sysmlbw\r\n",
       "skinparam monochrome true\r\n",
       "skinparam wrapWidth 300\r\n",
       "hide circle\r\n",
       "left to right direction\r\n",
       "\r\n",
       "@enduml\r\n",
       "\n",
       "PlantUML version 1.2022.7(Mon Aug 22 17:01:30 UTC 2022)\n",
       "(EPL source distribution)\n",
       "Java Runtime: OpenJDK Runtime Environment\n",
       "JVM: OpenJDK 64-Bit Server VM\n",
       "Default Encoding: UTF-8\n",
       "Language: en\n",
       "Country: null\n",
       "--></g></svg>"
      ]
     },
     "execution_count": 18,
     "metadata": {},
     "output_type": "execute_result"
    }
   ],
   "source": [
    "%viz --style=\"LR\" --view=\"State\" \"TradeStudyTest\""
   ]
  },
  {
   "cell_type": "code",
   "execution_count": 19,
   "id": "64f02a3f",
   "metadata": {
    "execution": {
     "iopub.execute_input": "2024-12-16T14:21:08.395441Z",
     "iopub.status.busy": "2024-12-16T14:21:08.395175Z",
     "iopub.status.idle": "2024-12-16T14:21:08.423587Z",
     "shell.execute_reply": "2024-12-16T14:21:08.422652Z"
    }
   },
   "outputs": [
    {
     "data": {
      "image/svg+xml": [
       "<?xml version=\"1.0\" encoding=\"UTF-8\" standalone=\"no\"?><svg xmlns=\"http://www.w3.org/2000/svg\" xmlns:xlink=\"http://www.w3.org/1999/xlink\" contentStyleType=\"text/css\" height=\"285px\" preserveAspectRatio=\"none\" style=\"width:819px;height:285px;background:#FFFFFF;\" version=\"1.1\" viewBox=\"0 0 819 285\" width=\"819px\" zoomAndPan=\"magnify\"><defs/><g><!--MD5=[fbc87193dbaf4d95561dea2c320d4a47]\n",
       "cluster E1--><g id=\"cluster_E1\"><a href=\"psysml:a91f55f8-3969-42e6-b46f-82de9da3fdc7\" target=\"_top\" title=\"psysml:a91f55f8-3969-42e6-b46f-82de9da3fdc7\" xlink:actuate=\"onRequest\" xlink:href=\"psysml:a91f55f8-3969-42e6-b46f-82de9da3fdc7\" xlink:show=\"new\" xlink:title=\"psysml:a91f55f8-3969-42e6-b46f-82de9da3fdc7\" xlink:type=\"simple\"><polygon fill=\"none\" points=\"16,6,138.125,6,145.125,28.2969,802,28.2969,802,278,16,278,16,6\" style=\"stroke:#000000;stroke-width:1.5;\"/><line style=\"stroke:#000000;stroke-width:1.5;\" x1=\"16\" x2=\"145.125\" y1=\"28.2969\" y2=\"28.2969\"/><text fill=\"#000000\" font-family=\"sans-serif\" font-size=\"14\" font-weight=\"bold\" lengthAdjust=\"spacing\" textLength=\"116.125\" x=\"20\" y=\"20.9951\">TradeStudyTest</text></a></g><!--MD5=[de5ec2e2e8f62f467e546659f5068c88]\n",
       "cluster E5--><g id=\"cluster_E5\"><a href=\"psysml:538ece1f-cb66-4e09-817f-0abcddd62ddd\" target=\"_top\" title=\"psysml:538ece1f-cb66-4e09-817f-0abcddd62ddd\" xlink:actuate=\"onRequest\" xlink:href=\"psysml:538ece1f-cb66-4e09-817f-0abcddd62ddd\" xlink:show=\"new\" xlink:title=\"psysml:538ece1f-cb66-4e09-817f-0abcddd62ddd\" xlink:type=\"simple\"><rect fill=\"#FFFFFF\" height=\"177\" id=\"E5\" rx=\"10\" ry=\"10\" style=\"stroke:#383838;stroke-width:1.5;\" width=\"250\" x=\"48\" y=\"57\"/><text fill=\"#000000\" font-family=\"sans-serif\" font-size=\"12\" font-style=\"italic\" lengthAdjust=\"spacing\" textLength=\"64\" x=\"141\" y=\"73.1387\">«analysis»</text><text fill=\"#000000\" font-family=\"sans-serif\" font-size=\"14\" lengthAdjust=\"spacing\" textLength=\"215\" x=\"61.5\" y=\"88.9639\">engineTradeStudy: TradeStudy</text><line style=\"stroke:#383838;stroke-width:1.0;\" x1=\"48\" x2=\"298\" y1=\"97.2656\" y2=\"97.2656\"/></a></g><!--MD5=[2156ba9850f5573cc1fc38a6a4b2f02b]\n",
       "class E7--><a href=\"psysml:f253b0d3-72ce-4ec1-aa97-c21cff35f053\" target=\"_top\" title=\"psysml:f253b0d3-72ce-4ec1-aa97-c21cff35f053\" xlink:actuate=\"onRequest\" xlink:href=\"psysml:f253b0d3-72ce-4ec1-aa97-c21cff35f053\" xlink:show=\"new\" xlink:title=\"psysml:f253b0d3-72ce-4ec1-aa97-c21cff35f053\" xlink:type=\"simple\"><g id=\"elem_E7\"><rect fill=\"#FFFFFF\" height=\"48.2656\" id=\"E7\" rx=\"10\" ry=\"10\" style=\"stroke:#181818;stroke-width:0.5;\" width=\"144\" x=\"375.5\" y=\"179\"/><text fill=\"#000000\" font-family=\"sans-serif\" font-size=\"12\" font-style=\"italic\" lengthAdjust=\"spacing\" textLength=\"82\" x=\"406.5\" y=\"195.1387\">«calculation»</text><text fill=\"#000000\" font-family=\"sans-serif\" font-size=\"14\" lengthAdjust=\"spacing\" textLength=\"130\" x=\"378.5\" y=\"210.9639\">evaluationFunction</text><line style=\"stroke:#181818;stroke-width:0.5;\" x1=\"376.5\" x2=\"518.5\" y1=\"219.2656\" y2=\"219.2656\"/></g></a><!--MD5=[b9389687b975829384b498ac4b7476b2]\n",
       "class E8--><a href=\"psysml:753de58d-f4ea-44a5-91ee-5ffc5e7a177d\" target=\"_top\" title=\"psysml:753de58d-f4ea-44a5-91ee-5ffc5e7a177d\" xlink:actuate=\"onRequest\" xlink:href=\"psysml:753de58d-f4ea-44a5-91ee-5ffc5e7a177d\" xlink:show=\"new\" xlink:title=\"psysml:753de58d-f4ea-44a5-91ee-5ffc5e7a177d\" xlink:type=\"simple\"><g id=\"elem_E8\"><rect fill=\"#FFFFFF\" height=\"34.2969\" id=\"E8\" rx=\"10\" ry=\"10\" style=\"stroke:#181818;stroke-width:0.5;\" width=\"142\" x=\"559\" y=\"78\"/><text fill=\"#000000\" font-family=\"sans-serif\" font-size=\"14\" lengthAdjust=\"spacing\" textLength=\"128\" x=\"562\" y=\"95.9951\">alternative: Engine</text><line style=\"stroke:#181818;stroke-width:0.5;\" x1=\"560\" x2=\"700\" y1=\"104.2969\" y2=\"104.2969\"/></g></a><!--MD5=[fd4143e9d270a159db93a4ea2a975926]\n",
       "class E9--><a href=\"psysml:76ff8411-b0e7-4dd9-89c0-3f2666988fc0\" target=\"_top\" title=\"psysml:76ff8411-b0e7-4dd9-89c0-3f2666988fc0\" xlink:actuate=\"onRequest\" xlink:href=\"psysml:76ff8411-b0e7-4dd9-89c0-3f2666988fc0\" xlink:show=\"new\" xlink:title=\"psysml:76ff8411-b0e7-4dd9-89c0-3f2666988fc0\" xlink:type=\"simple\"><g id=\"elem_E9\"><rect fill=\"#FFFFFF\" height=\"34.2969\" id=\"E9\" rx=\"10\" ry=\"10\" style=\"stroke:#181818;stroke-width:0.5;\" width=\"203\" x=\"346\" y=\"64\"/><text fill=\"#000000\" font-family=\"sans-serif\" font-size=\"14\" lengthAdjust=\"spacing\" textLength=\"189\" x=\"349\" y=\"81.9951\">selectedAlternative: Engine</text><line style=\"stroke:#181818;stroke-width:0.5;\" x1=\"347\" x2=\"548\" y1=\"90.2969\" y2=\"90.2969\"/></g></a><g><a href=\"psysml:8055cf29-c4ca-4370-b025-bca5bf4f4944\" target=\"_top\" title=\"psysml:8055cf29-c4ca-4370-b025-bca5bf4f4944\" xlink:actuate=\"onRequest\" xlink:href=\"psysml:8055cf29-c4ca-4370-b025-bca5bf4f4944\" xlink:show=\"new\" xlink:title=\"psysml:8055cf29-c4ca-4370-b025-bca5bf4f4944\" xlink:type=\"simple\"><rect fill=\"#FFFFFF\" height=\"45.2656\" id=\"E2\" style=\"stroke:#383838;stroke-width:1.5;\" width=\"75\" x=\"711\" y=\"108.5\"/><text fill=\"#000000\" font-family=\"sans-serif\" font-size=\"12\" font-style=\"italic\" lengthAdjust=\"spacing\" textLength=\"68\" x=\"714.5\" y=\"124.6387\">«part  def»</text><text fill=\"#000000\" font-family=\"sans-serif\" font-size=\"14\" lengthAdjust=\"spacing\" textLength=\"48\" x=\"724.5\" y=\"140.4639\">Engine</text></a></g><g><a href=\"psysml:479197b1-ce2e-480f-b2ef-7f257dc343b8\" target=\"_top\" title=\"psysml:479197b1-ce2e-480f-b2ef-7f257dc343b8\" xlink:actuate=\"onRequest\" xlink:href=\"psysml:479197b1-ce2e-480f-b2ef-7f257dc343b8\" xlink:show=\"new\" xlink:title=\"psysml:479197b1-ce2e-480f-b2ef-7f257dc343b8\" xlink:type=\"simple\"><rect fill=\"#FFFFFF\" height=\"40\" id=\"E3\" rx=\"10\" ry=\"10\" style=\"stroke:#383838;stroke-width:1.5;\" width=\"125\" x=\"567.5\" y=\"147\"/><text fill=\"#000000\" font-family=\"sans-serif\" font-size=\"14\" lengthAdjust=\"spacing\" textLength=\"114\" x=\"573\" y=\"164.9951\">engine1: Engine</text></a></g><g><a href=\"psysml:df8f9049-6917-4fa7-a1c9-f212538c9a4e\" target=\"_top\" title=\"psysml:df8f9049-6917-4fa7-a1c9-f212538c9a4e\" xlink:actuate=\"onRequest\" xlink:href=\"psysml:df8f9049-6917-4fa7-a1c9-f212538c9a4e\" xlink:show=\"new\" xlink:title=\"psysml:df8f9049-6917-4fa7-a1c9-f212538c9a4e\" xlink:type=\"simple\"><rect fill=\"#FFFFFF\" height=\"40\" id=\"E4\" rx=\"10\" ry=\"10\" style=\"stroke:#383838;stroke-width:1.5;\" width=\"125\" x=\"567.5\" y=\"222\"/><text fill=\"#000000\" font-family=\"sans-serif\" font-size=\"14\" lengthAdjust=\"spacing\" textLength=\"114\" x=\"573\" y=\"239.9951\">engine2: Engine</text></a></g><!--MD5=[60a26617385b1d2d0262a64233df1f8d]\n",
       "class E6--><a href=\"psysml:4f755969-6586-456d-bfaa-2c124f0f3312\" target=\"_top\" title=\"psysml:4f755969-6586-456d-bfaa-2c124f0f3312\" xlink:actuate=\"onRequest\" xlink:href=\"psysml:4f755969-6586-456d-bfaa-2c124f0f3312\" xlink:show=\"new\" xlink:title=\"psysml:4f755969-6586-456d-bfaa-2c124f0f3312\" xlink:type=\"simple\"><g id=\"elem_E6\"><rect fill=\"#FFFFFF\" height=\"75.0813\" id=\"E6\" rx=\"10\" ry=\"10\" style=\"stroke:#181818;stroke-width:0.5;\" width=\"145\" x=\"100\" y=\"115.5\"/><text fill=\"#000000\" font-family=\"sans-serif\" font-size=\"12\" font-style=\"italic\" lengthAdjust=\"spacing\" textLength=\"70\" x=\"137.5\" y=\"131.6387\">«objective»</text><text fill=\"#000000\" font-family=\"sans-serif\" font-size=\"14\" lengthAdjust=\"spacing\" textLength=\"139\" x=\"103\" y=\"147.4639\">tradeStudyObjective</text><line style=\"stroke:#181818;stroke-width:0.5;\" x1=\"101\" x2=\"244\" y1=\"155.7656\" y2=\"155.7656\"/><text fill=\"#000000\" font-family=\"sans-serif\" font-size=\"14\" lengthAdjust=\"spacing\" textLength=\"132\" x=\"106\" y=\"183.2795\">selectedAlternative</text><text fill=\"#000000\" font-family=\"sans-serif\" font-size=\"14\" font-style=\"italic\" lengthAdjust=\"spacing\" textLength=\"51\" x=\"147\" y=\"168.1123\">subject</text></g></a><!--MD5=[05d275557350bfb9b23a4ef7222b4c39]\n",
       "link E3 to E2--><g id=\"link_E3_E2\"><a href=\"psysml:bc3cf079-eae7-49ce-b297-ec132a977e50\" target=\"_top\" title=\"psysml:bc3cf079-eae7-49ce-b297-ec132a977e50\" xlink:actuate=\"onRequest\" xlink:href=\"psysml:bc3cf079-eae7-49ce-b297-ec132a977e50\" xlink:show=\"new\" xlink:title=\"psysml:bc3cf079-eae7-49ce-b297-ec132a977e50\" xlink:type=\"simple\"><path d=\"M692.66,147.95 C692.76,147.92 692.86,147.89 692.95,147.86 \" fill=\"none\" id=\"E3-to-E2\" style=\"stroke:#181818;stroke-width:1.0;\"/><polygon fill=\"#FFFFFF\" points=\"710.89,142.31,694.7998,154.6025,690.6706,141.2252,710.89,142.31\" style=\"stroke:#181818;stroke-width:1.0;\"/><ellipse cx=\"688.7634\" cy=\"154.3726\" fill=\"#181818\" rx=\"2\" ry=\"2\" style=\"stroke:#181818;stroke-width:1.0;\"/><ellipse cx=\"685.8141\" cy=\"144.8174\" fill=\"#181818\" rx=\"2\" ry=\"2\" style=\"stroke:#181818;stroke-width:1.0;\"/><line style=\"stroke:#181818;stroke-width:1.0;\" x1=\"692.66\" x2=\"710.89\" y1=\"147.95\" y2=\"142.31\"/></a></g><!--MD5=[185131fc0dcab0a4505a2ebe144e961b]\n",
       "link E4 to E2--><g id=\"link_E4_E2\"><a href=\"psysml:aa1a99dc-dc69-45ac-b95f-3bcc471ea5d4\" target=\"_top\" title=\"psysml:aa1a99dc-dc69-45ac-b95f-3bcc471ea5d4\" xlink:actuate=\"onRequest\" xlink:href=\"psysml:aa1a99dc-dc69-45ac-b95f-3bcc471ea5d4\" xlink:show=\"new\" xlink:title=\"psysml:aa1a99dc-dc69-45ac-b95f-3bcc471ea5d4\" xlink:type=\"simple\"><path d=\"M676.22,221.85 C685,216.77 693.72,210.79 701,204 C710.98,194.7 719.72,182.81 726.86,171.35 \" fill=\"none\" id=\"E4-to-E2\" style=\"stroke:#181818;stroke-width:1.0;\"/><polygon fill=\"#FFFFFF\" points=\"736.99,153.54,733.6835,173.5167,721.5134,166.5966,736.99,153.54\" style=\"stroke:#181818;stroke-width:1.0;\"/><ellipse cx=\"729.1275\" cy=\"177.4831\" fill=\"#181818\" rx=\"2\" ry=\"2\" style=\"stroke:#181818;stroke-width:1.0;\"/><ellipse cx=\"720.4345\" cy=\"172.5402\" fill=\"#181818\" rx=\"2\" ry=\"2\" style=\"stroke:#181818;stroke-width:1.0;\"/></a></g><!--MD5=[452b418e7f8a40397a49b8c0a78acc5b]\n",
       "reverse link E5 to E7--><g id=\"link_E5_E7\"><a href=\"psysml:ae0ddffd-d94b-4ee5-a4cb-a499b90c2b96\" target=\"_top\" title=\"psysml:ae0ddffd-d94b-4ee5-a4cb-a499b90c2b96\" xlink:actuate=\"onRequest\" xlink:href=\"psysml:ae0ddffd-d94b-4ee5-a4cb-a499b90c2b96\" xlink:show=\"new\" xlink:title=\"psysml:ae0ddffd-d94b-4ee5-a4cb-a499b90c2b96\" xlink:type=\"simple\"><path d=\"M298.9444,215.4321 C299.2942,215.4026 299.6441,215.3731 299.9941,215.3436 C300.694,215.2847 301.3943,215.2256 302.0949,215.1666 C304.8971,214.9305 307.7039,214.694 310.5103,214.4575 C332.9619,212.5656 355.395,210.675 375.38,208.99 \" fill=\"none\" id=\"E5-backto-E7\" style=\"stroke:#181818;stroke-width:1.0;\"/><polygon fill=\"#181818\" points=\"298.9444,215.4321,305.2591,218.9142,310.9021,214.4245,304.5874,210.9424,298.9444,215.4321\" style=\"stroke:#181818;stroke-width:1.0;\"/></a></g><!--MD5=[dc164f5e8a733ab456ef1add180e9e34]\n",
       "reverse link E7 to E8--><g id=\"link_E7_E8\"><a href=\"psysml:a8c82a2a-741b-4fac-ac9b-98beb228d3cb\" target=\"_top\" title=\"psysml:a8c82a2a-741b-4fac-ac9b-98beb228d3cb\" xlink:actuate=\"onRequest\" xlink:href=\"psysml:a8c82a2a-741b-4fac-ac9b-98beb228d3cb\" xlink:show=\"new\" xlink:title=\"psysml:a8c82a2a-741b-4fac-ac9b-98beb228d3cb\" xlink:type=\"simple\"><path d=\"M492.93,171.21 C512.75,157.56 536.63,141.84 559,129 C569.31,123.08 580.8,117.21 591.45,112.06 \" fill=\"none\" id=\"E7-backto-E8\" style=\"stroke:#181818;stroke-width:1.0;\"/><polygon fill=\"none\" points=\"482.07,178.75,489.2798,178.6115,491.9249,171.903,484.7151,172.0415,482.07,178.75\" style=\"stroke:#181818;stroke-width:1.0;\"/></a></g><!--MD5=[f1f3f9f2fc535e6147756cb86a7f2e32]\n",
       "link E8 to E2--><g id=\"link_E8_E2\"><a href=\"psysml:199cdd6b-9599-4ee9-8d7a-04a31416ec15\" target=\"_top\" title=\"psysml:199cdd6b-9599-4ee9-8d7a-04a31416ec15\" xlink:actuate=\"onRequest\" xlink:href=\"psysml:199cdd6b-9599-4ee9-8d7a-04a31416ec15\" xlink:show=\"new\" xlink:title=\"psysml:199cdd6b-9599-4ee9-8d7a-04a31416ec15\" xlink:type=\"simple\"><path d=\"M686.18,112.05 C688.01,112.62 689.84,113.18 691.66,113.75 \" fill=\"none\" id=\"E8-to-E2\" style=\"stroke:#181818;stroke-width:1.0;\"/><polygon fill=\"#FFFFFF\" points=\"710.8,119.66,690.5797,120.7267,694.7208,107.3532,710.8,119.66\" style=\"stroke:#181818;stroke-width:1.0;\"/><ellipse cx=\"685.7263\" cy=\"117.1302\" fill=\"#181818\" rx=\"2\" ry=\"2\" style=\"stroke:#181818;stroke-width:1.0;\"/><ellipse cx=\"688.6842\" cy=\"107.5777\" fill=\"#181818\" rx=\"2\" ry=\"2\" style=\"stroke:#181818;stroke-width:1.0;\"/></a></g><!--MD5=[9ae28de373ca99bb8a1b38d63370ca7e]\n",
       "reverse link E5 to E9--><g id=\"link_E5_E9\"><a href=\"psysml:549a8511-5afb-4107-9df8-0f136ad572ec\" target=\"_top\" title=\"psysml:549a8511-5afb-4107-9df8-0f136ad572ec\" xlink:actuate=\"onRequest\" xlink:href=\"psysml:549a8511-5afb-4107-9df8-0f136ad572ec\" xlink:show=\"new\" xlink:title=\"psysml:549a8511-5afb-4107-9df8-0f136ad572ec\" xlink:type=\"simple\"><path d=\"M298.3422,213.9646 C300.1541,213.199 301.9455,212.3953 303.7127,211.5518 C307.2473,209.8648 310.6856,208.0188 314,206 C334.96,193.23 329.12,178.82 346,161 C369,136.71 399.55,113.42 420.91,98.3 \" fill=\"none\" id=\"E5-backto-E9\" style=\"stroke:#181818;stroke-width:1.0;\"/><polygon fill=\"none\" points=\"298.3422,213.9646,305.426,215.3137,309.3959,209.2937,302.3121,207.9446,298.3422,213.9646\" style=\"stroke:#181818;stroke-width:1.0;\"/></a></g><!--MD5=[5c3bb36fe832a92c7f0e1807dd65209d]\n",
       "link E9 to E2--><g id=\"link_E9_E2\"><a href=\"psysml:94a3a0b9-9284-4132-a69a-1dbd276e1390\" target=\"_top\" title=\"psysml:94a3a0b9-9284-4132-a69a-1dbd276e1390\" xlink:actuate=\"onRequest\" xlink:href=\"psysml:94a3a0b9-9284-4132-a69a-1dbd276e1390\" xlink:show=\"new\" xlink:title=\"psysml:94a3a0b9-9284-4132-a69a-1dbd276e1390\" xlink:type=\"simple\"><path d=\"M491.18,63.92 C543.87,45.75 634.63,24.13 701,60 C713.33,66.67 722.92,78.19 730.11,90.03 \" fill=\"none\" id=\"E9-to-E2\" style=\"stroke:#181818;stroke-width:1.0;\"/><polygon fill=\"#FFFFFF\" points=\"739.46,108.26,724.561,94.5479,737.0184,88.1593,739.46,108.26\" style=\"stroke:#181818;stroke-width:1.0;\"/><ellipse cx=\"723.7396\" cy=\"88.5633\" fill=\"#181818\" rx=\"2\" ry=\"2\" style=\"stroke:#181818;stroke-width:1.0;\"/><ellipse cx=\"732.6377\" cy=\"84\" fill=\"#181818\" rx=\"2\" ry=\"2\" style=\"stroke:#181818;stroke-width:1.0;\"/></a></g><!--MD5=[7ca1b71ceef01d93e142e147dd3e2643]\n",
       "@startuml\r\n",
       "skin sysmlbw\r\n",
       "skinparam monochrome true\r\n",
       "skinparam wrapWidth 300\r\n",
       "hide circle\r\n",
       "left to right direction\r\n",
       "skinparam ranksep 10\r\n",
       "skinparam rectangle {\r\n",
       " backgroundColor<<block>> LightGreen\r\n",
       "}\r\n",
       "\r\n",
       "package \"TradeStudyTest\" as E1  [[psysml:a91f55f8-3969-42e6-b46f-82de9da3fdc7 ]]  {\r\n",
       "rec def \"Engine\" as E2  <<(T,blue) part  def>> [[psysml:8055cf29-c4ca-4370-b025-bca5bf4f4944 ]] {\r\n",
       "}\r\n",
       "rec usage \"engine1: Engine\" as E3 [[psysml:479197b1-ce2e-480f-b2ef-7f257dc343b8 ]] {\r\n",
       "}\r\n",
       "rec usage \"engine2: Engine\" as E4 [[psysml:df8f9049-6917-4fa7-a1c9-f212538c9a4e ]] {\r\n",
       "}\r\n",
       "rec usage \"engineTradeStudy: TradeStudy  \" as E5  << analysis>> [[psysml:538ece1f-cb66-4e09-817f-0abcddd62ddd ]] {\r\n",
       "comp usage \"tradeStudyObjective\" as E6  <<objective>> [[psysml:4f755969-6586-456d-bfaa-2c124f0f3312 ]] {\r\n",
       "##//subject//##\r\n",
       "selectedAlternative\r\n",
       "}\r\n",
       "}\r\n",
       "comp usage \"evaluationFunction  \" as E7  <<(T,blue) calculation>> [[psysml:f253b0d3-72ce-4ec1-aa97-c21cff35f053 ]] {\r\n",
       "}\r\n",
       "comp usage \"alternative: Engine  \" as E8 [[psysml:753de58d-f4ea-44a5-91ee-5ffc5e7a177d ]] {\r\n",
       "}\r\n",
       "comp usage \"selectedAlternative: Engine  \" as E9 [[psysml:76ff8411-b0e7-4dd9-89c0-3f2666988fc0 ]] {\r\n",
       "}\r\n",
       "}\r\n",
       "E3 - -:|> E2 [[psysml:bc3cf079-eae7-49ce-b297-ec132a977e50 ]] \r\n",
       "E4 - -:|> E2 [[psysml:aa1a99dc-dc69-45ac-b95f-3bcc471ea5d4 ]] \r\n",
       "E5 *- - E7 [[psysml:ae0ddffd-d94b-4ee5-a4cb-a499b90c2b96 ]] \r\n",
       "E7 o- - E8 [[psysml:a8c82a2a-741b-4fac-ac9b-98beb228d3cb ]] \r\n",
       "E8 - -:|> E2 [[psysml:199cdd6b-9599-4ee9-8d7a-04a31416ec15 ]] \r\n",
       "E5 o- - E9 [[psysml:549a8511-5afb-4107-9df8-0f136ad572ec ]] \r\n",
       "E9 - -:|> E2 [[psysml:94a3a0b9-9284-4132-a69a-1dbd276e1390 ]] \r\n",
       "@enduml\r\n",
       "\n",
       "PlantUML version 1.2022.7(Mon Aug 22 17:01:30 UTC 2022)\n",
       "(EPL source distribution)\n",
       "Java Runtime: OpenJDK Runtime Environment\n",
       "JVM: OpenJDK 64-Bit Server VM\n",
       "Default Encoding: UTF-8\n",
       "Language: en\n",
       "Country: null\n",
       "--></g></svg>"
      ]
     },
     "execution_count": 19,
     "metadata": {},
     "output_type": "execute_result"
    }
   ],
   "source": [
    "%viz --style=\"LR\" --view=\"Interconnection\" \"TradeStudyTest\""
   ]
  },
  {
   "cell_type": "code",
   "execution_count": 20,
   "id": "0f59dc1d",
   "metadata": {
    "execution": {
     "iopub.execute_input": "2024-12-16T14:21:08.479294Z",
     "iopub.status.busy": "2024-12-16T14:21:08.479069Z",
     "iopub.status.idle": "2024-12-16T14:21:08.494659Z",
     "shell.execute_reply": "2024-12-16T14:21:08.494468Z"
    }
   },
   "outputs": [
    {
     "data": {
      "image/svg+xml": [
       "<?xml version=\"1.0\" encoding=\"UTF-8\" standalone=\"no\"?><svg xmlns=\"http://www.w3.org/2000/svg\" xmlns:xlink=\"http://www.w3.org/1999/xlink\" contentStyleType=\"text/css\" height=\"204px\" preserveAspectRatio=\"none\" style=\"width:493px;height:204px;background:#FFFFFF;\" version=\"1.1\" viewBox=\"0 0 493 204\" width=\"493px\" zoomAndPan=\"magnify\"><defs/><g><!--MD5=[fbc87193dbaf4d95561dea2c320d4a47]\n",
       "cluster E1--><g id=\"cluster_E1\"><a href=\"psysml:538ece1f-cb66-4e09-817f-0abcddd62ddd\" target=\"_top\" title=\"psysml:538ece1f-cb66-4e09-817f-0abcddd62ddd\" xlink:actuate=\"onRequest\" xlink:href=\"psysml:538ece1f-cb66-4e09-817f-0abcddd62ddd\" xlink:show=\"new\" xlink:title=\"psysml:538ece1f-cb66-4e09-817f-0abcddd62ddd\" xlink:type=\"simple\"><rect fill=\"#FFFFFF\" height=\"135\" id=\"E1\" rx=\"10\" ry=\"10\" style=\"stroke:#383838;stroke-width:1.5;\" width=\"425.36\" x=\"47\" y=\"42.0986\"/><text fill=\"#000000\" font-family=\"sans-serif\" font-size=\"12\" font-style=\"italic\" lengthAdjust=\"spacing\" textLength=\"64\" x=\"227.68\" y=\"58.2373\">«analysis»</text><text fill=\"#000000\" font-family=\"sans-serif\" font-size=\"14\" lengthAdjust=\"spacing\" textLength=\"127\" x=\"196.18\" y=\"74.0625\">engineTradeStudy</text><line style=\"stroke:#383838;stroke-width:1.0;\" x1=\"47\" x2=\"472.36\" y1=\"82.3643\" y2=\"82.3643\"/></a></g><!--MD5=[d5e69f78d87373223dbae638b30a9c99]\n",
       "cluster E3--><g id=\"cluster_E3\"><a href=\"psysml:f253b0d3-72ce-4ec1-aa97-c21cff35f053\" target=\"_top\" title=\"psysml:f253b0d3-72ce-4ec1-aa97-c21cff35f053\" xlink:actuate=\"onRequest\" xlink:href=\"psysml:f253b0d3-72ce-4ec1-aa97-c21cff35f053\" xlink:show=\"new\" xlink:title=\"psysml:f253b0d3-72ce-4ec1-aa97-c21cff35f053\" xlink:type=\"simple\"><rect fill=\"#FFFFFF\" height=\"68\" id=\"E3\" rx=\"10\" ry=\"10\" style=\"stroke:#383838;stroke-width:1.5;\" width=\"280.36\" x=\"162\" y=\"83.0986\"/><text fill=\"#000000\" font-family=\"sans-serif\" font-size=\"12\" font-style=\"italic\" lengthAdjust=\"spacing\" textLength=\"82\" x=\"261.18\" y=\"99.2373\">«calculation»</text><text fill=\"#000000\" font-family=\"sans-serif\" font-size=\"14\" lengthAdjust=\"spacing\" textLength=\"130\" x=\"237.18\" y=\"115.0625\">evaluationFunction</text><line style=\"stroke:#383838;stroke-width:1.0;\" x1=\"162\" x2=\"442.36\" y1=\"123.3643\" y2=\"123.3643\"/></a></g><text fill=\"#000000\" font-family=\"sans-serif\" font-size=\"14\" lengthAdjust=\"spacing\" textLength=\"118\" x=\"6\" y=\"196.0938\">studyAlternatives</text><rect fill=\"#FFFFFF\" height=\"12\" style=\"stroke:#181818;stroke-width:1.5;\" width=\"12\" x=\"59\" y=\"171.0986\"/><text fill=\"#000000\" font-family=\"sans-serif\" font-size=\"14\" lengthAdjust=\"spacing\" textLength=\"132\" x=\"354\" y=\"20.7969\">selectedAlternative</text><rect fill=\"#FFFFFF\" height=\"12\" style=\"stroke:#181818;stroke-width:1.5;\" width=\"12\" x=\"414\" y=\"36.0986\"/><text fill=\"#000000\" font-family=\"sans-serif\" font-size=\"14\" lengthAdjust=\"spacing\" textLength=\"71\" x=\"126.5\" y=\"95.7969\">alternative</text><rect fill=\"#FFFFFF\" height=\"12\" style=\"stroke:#181818;stroke-width:1.5;\" width=\"12\" x=\"156\" y=\"111.0986\"/><text fill=\"#000000\" font-family=\"sans-serif\" font-size=\"14\" lengthAdjust=\"spacing\" textLength=\"39\" x=\"422.86\" y=\"95.7969\">result</text><rect fill=\"#FFFFFF\" height=\"12\" style=\"stroke:#181818;stroke-width:1.5;\" width=\"12\" x=\"436.36\" y=\"111.0986\"/><!--MD5=[6c1de56b88f36425b5a51d2d87907bec]\n",
       "@startuml\r\n",
       "skin sysmlbw\r\n",
       "skinparam monochrome true\r\n",
       "skinparam wrapWidth 300\r\n",
       "hide circle\r\n",
       "left to right direction\r\n",
       "skinparam ranksep 8\r\n",
       "\r\n",
       "rec usage \"engineTradeStudy\" as E1  << analysis>> [[psysml:538ece1f-cb66-4e09-817f-0abcddd62ddd ]] {\r\n",
       "portin \"studyAlternatives\" as E2  [[psysml:44e81398-f8fc-476c-9aa8-f3c568baa242 ]] \r\n",
       "rec usage \"evaluationFunction\" as E3  <<(T,blue) calculation>> [[psysml:f253b0d3-72ce-4ec1-aa97-c21cff35f053 ]] {\r\n",
       "portin \"alternative\" as E4  [[psysml:753de58d-f4ea-44a5-91ee-5ffc5e7a177d ]] \r\n",
       "portout \"result\" as E5  [[psysml:523b4531-6566-4396-be10-86694663e2d0 ]] \r\n",
       "}\r\n",
       "\r\n",
       "portout \"selectedAlternative\" as E6  [[psysml:76ff8411-b0e7-4dd9-89c0-3f2666988fc0 ]] \r\n",
       "}\r\n",
       "\r\n",
       "@enduml\r\n",
       "\n",
       "PlantUML version 1.2022.7(Mon Aug 22 17:01:30 UTC 2022)\n",
       "(EPL source distribution)\n",
       "Java Runtime: OpenJDK Runtime Environment\n",
       "JVM: OpenJDK 64-Bit Server VM\n",
       "Default Encoding: UTF-8\n",
       "Language: en\n",
       "Country: null\n",
       "--></g></svg>"
      ]
     },
     "execution_count": 20,
     "metadata": {},
     "output_type": "execute_result"
    }
   ],
   "source": [
    "%viz --style=\"LR\" --view=\"Action\" \"TradeStudyTest\""
   ]
  },
  {
   "cell_type": "code",
   "execution_count": 21,
   "id": "b310545b",
   "metadata": {
    "execution": {
     "iopub.execute_input": "2024-12-16T14:21:08.550790Z",
     "iopub.status.busy": "2024-12-16T14:21:08.550511Z",
     "iopub.status.idle": "2024-12-16T14:21:08.558142Z",
     "shell.execute_reply": "2024-12-16T14:21:08.557941Z"
    }
   },
   "outputs": [
    {
     "data": {
      "image/svg+xml": [
       "<?xml version=\"1.0\" encoding=\"UTF-8\" standalone=\"no\"?><svg xmlns=\"http://www.w3.org/2000/svg\" xmlns:xlink=\"http://www.w3.org/1999/xlink\" contentStyleType=\"text/css\" height=\"10px\" preserveAspectRatio=\"none\" style=\"width:10px;height:10px;background:#FFFFFF;\" version=\"1.1\" viewBox=\"0 0 10 10\" width=\"10px\" zoomAndPan=\"magnify\"><defs/><g><!--MD5=[3d7abb46b795db4c9d99c7acf425de78]\n",
       "@startuml\r\n",
       "skin sysmlbw\r\n",
       "skinparam monochrome true\r\n",
       "skinparam wrapWidth 300\r\n",
       "hide circle\r\n",
       "left to right direction\r\n",
       "skinparam roundcorner 20\r\n",
       "skinparam BoxPadding 20\r\n",
       "skinparam SequenceBoxBackgroundColor #white\r\n",
       "skinparam style strictuml\r\n",
       "skinparam maxMessageSize 100\r\n",
       "\r\n",
       "@enduml\r\n",
       "\n",
       "PlantUML version 1.2022.7(Mon Aug 22 17:01:30 UTC 2022)\n",
       "(EPL source distribution)\n",
       "Java Runtime: OpenJDK Runtime Environment\n",
       "JVM: OpenJDK 64-Bit Server VM\n",
       "Default Encoding: UTF-8\n",
       "Language: en\n",
       "Country: null\n",
       "--></g></svg>"
      ]
     },
     "execution_count": 21,
     "metadata": {},
     "output_type": "execute_result"
    }
   ],
   "source": [
    "%viz --style=\"LR\" --view=\"Sequence\" \"TradeStudyTest\""
   ]
  },
  {
   "cell_type": "code",
   "execution_count": 22,
   "id": "d6a091ea",
   "metadata": {
    "execution": {
     "iopub.execute_input": "2024-12-16T14:21:08.614906Z",
     "iopub.status.busy": "2024-12-16T14:21:08.614644Z",
     "iopub.status.idle": "2024-12-16T14:21:08.643363Z",
     "shell.execute_reply": "2024-12-16T14:21:08.642455Z"
    }
   },
   "outputs": [
    {
     "data": {
      "image/svg+xml": [
       "<?xml version=\"1.0\" encoding=\"UTF-8\" standalone=\"no\"?><svg xmlns=\"http://www.w3.org/2000/svg\" xmlns:xlink=\"http://www.w3.org/1999/xlink\" contentStyleType=\"text/css\" height=\"315px\" preserveAspectRatio=\"none\" style=\"width:926px;height:315px;background:#FFFFFF;\" version=\"1.1\" viewBox=\"0 0 926 315\" width=\"926px\" zoomAndPan=\"magnify\"><defs/><g><!--MD5=[fbc87193dbaf4d95561dea2c320d4a47]\n",
       "cluster E1--><g id=\"cluster_E1\"><a href=\"psysml:a91f55f8-3969-42e6-b46f-82de9da3fdc7\" target=\"_top\" title=\"psysml:a91f55f8-3969-42e6-b46f-82de9da3fdc7\" xlink:actuate=\"onRequest\" xlink:href=\"psysml:a91f55f8-3969-42e6-b46f-82de9da3fdc7\" xlink:show=\"new\" xlink:title=\"psysml:a91f55f8-3969-42e6-b46f-82de9da3fdc7\" xlink:type=\"simple\"><polygon fill=\"none\" points=\"16,6,138.125,6,145.125,28.2969,909,28.2969,909,308,16,308,16,6\" style=\"stroke:#000000;stroke-width:1.5;\"/><line style=\"stroke:#000000;stroke-width:1.5;\" x1=\"16\" x2=\"145.125\" y1=\"28.2969\" y2=\"28.2969\"/><text fill=\"#000000\" font-family=\"sans-serif\" font-size=\"14\" font-weight=\"bold\" lengthAdjust=\"spacing\" textLength=\"116.125\" x=\"20\" y=\"20.9951\">TradeStudyTest</text></a></g><!--MD5=[de5ec2e2e8f62f467e546659f5068c88]\n",
       "cluster E5--><g id=\"cluster_E5\"><a href=\"psysml:538ece1f-cb66-4e09-817f-0abcddd62ddd\" target=\"_top\" title=\"psysml:538ece1f-cb66-4e09-817f-0abcddd62ddd\" xlink:actuate=\"onRequest\" xlink:href=\"psysml:538ece1f-cb66-4e09-817f-0abcddd62ddd\" xlink:show=\"new\" xlink:title=\"psysml:538ece1f-cb66-4e09-817f-0abcddd62ddd\" xlink:type=\"simple\"><rect fill=\"#FFFFFF\" height=\"177\" id=\"E5\" rx=\"10\" ry=\"10\" style=\"stroke:#383838;stroke-width:1.5;\" width=\"250\" x=\"48\" y=\"57\"/><text fill=\"#000000\" font-family=\"sans-serif\" font-size=\"12\" font-style=\"italic\" lengthAdjust=\"spacing\" textLength=\"64\" x=\"141\" y=\"73.1387\">«analysis»</text><text fill=\"#000000\" font-family=\"sans-serif\" font-size=\"14\" lengthAdjust=\"spacing\" textLength=\"215\" x=\"61.5\" y=\"88.9639\">engineTradeStudy: TradeStudy</text><line style=\"stroke:#383838;stroke-width:1.0;\" x1=\"48\" x2=\"298\" y1=\"97.2656\" y2=\"97.2656\"/></a></g><!--MD5=[b4997ac47864f28c2f74865a473b2911]\n",
       "class E2--><a href=\"psysml:8055cf29-c4ca-4370-b025-bca5bf4f4944\" target=\"_top\" title=\"psysml:8055cf29-c4ca-4370-b025-bca5bf4f4944\" xlink:actuate=\"onRequest\" xlink:href=\"psysml:8055cf29-c4ca-4370-b025-bca5bf4f4944\" xlink:show=\"new\" xlink:title=\"psysml:8055cf29-c4ca-4370-b025-bca5bf4f4944\" xlink:type=\"simple\"><g id=\"elem_E2\"><rect fill=\"#FFFFFF\" height=\"48.2656\" id=\"E2\" style=\"stroke:#181818;stroke-width:0.5;\" width=\"70\" x=\"823\" y=\"120\"/><text fill=\"#000000\" font-family=\"sans-serif\" font-size=\"12\" font-style=\"italic\" lengthAdjust=\"spacing\" textLength=\"68\" x=\"824\" y=\"136.1387\">«part  def»</text><text fill=\"#000000\" font-family=\"sans-serif\" font-size=\"14\" lengthAdjust=\"spacing\" textLength=\"48\" x=\"834\" y=\"151.9639\">Engine</text><line style=\"stroke:#181818;stroke-width:0.5;\" x1=\"824\" x2=\"892\" y1=\"160.2656\" y2=\"160.2656\"/></g></a><!--MD5=[09b614a08d8cba4a07c9adeb5e0fee81]\n",
       "class E3--><a href=\"psysml:479197b1-ce2e-480f-b2ef-7f257dc343b8\" target=\"_top\" title=\"psysml:479197b1-ce2e-480f-b2ef-7f257dc343b8\" xlink:actuate=\"onRequest\" xlink:href=\"psysml:479197b1-ce2e-480f-b2ef-7f257dc343b8\" xlink:show=\"new\" xlink:title=\"psysml:479197b1-ce2e-480f-b2ef-7f257dc343b8\" xlink:type=\"simple\"><g id=\"elem_E3\"><rect fill=\"#FFFFFF\" height=\"48.2656\" id=\"E3\" rx=\"10\" ry=\"10\" style=\"stroke:#181818;stroke-width:0.5;\" width=\"128\" x=\"628\" y=\"161\"/><text fill=\"#000000\" font-family=\"sans-serif\" font-size=\"12\" font-style=\"italic\" lengthAdjust=\"spacing\" textLength=\"40\" x=\"672\" y=\"177.1387\">«part»</text><text fill=\"#000000\" font-family=\"sans-serif\" font-size=\"14\" lengthAdjust=\"spacing\" textLength=\"114\" x=\"631\" y=\"192.9639\">engine1: Engine</text><line style=\"stroke:#181818;stroke-width:0.5;\" x1=\"629\" x2=\"755\" y1=\"201.2656\" y2=\"201.2656\"/></g></a><!--MD5=[ebbe1d658d1005bcc118a6aa81145e00]\n",
       "class E4--><a href=\"psysml:df8f9049-6917-4fa7-a1c9-f212538c9a4e\" target=\"_top\" title=\"psysml:df8f9049-6917-4fa7-a1c9-f212538c9a4e\" xlink:actuate=\"onRequest\" xlink:href=\"psysml:df8f9049-6917-4fa7-a1c9-f212538c9a4e\" xlink:show=\"new\" xlink:title=\"psysml:df8f9049-6917-4fa7-a1c9-f212538c9a4e\" xlink:type=\"simple\"><g id=\"elem_E4\"><rect fill=\"#FFFFFF\" height=\"48.2656\" id=\"E4\" rx=\"10\" ry=\"10\" style=\"stroke:#181818;stroke-width:0.5;\" width=\"128\" x=\"628\" y=\"244\"/><text fill=\"#000000\" font-family=\"sans-serif\" font-size=\"12\" font-style=\"italic\" lengthAdjust=\"spacing\" textLength=\"40\" x=\"672\" y=\"260.1387\">«part»</text><text fill=\"#000000\" font-family=\"sans-serif\" font-size=\"14\" lengthAdjust=\"spacing\" textLength=\"114\" x=\"631\" y=\"275.9639\">engine2: Engine</text><line style=\"stroke:#181818;stroke-width:0.5;\" x1=\"629\" x2=\"755\" y1=\"284.2656\" y2=\"284.2656\"/></g></a><!--MD5=[2156ba9850f5573cc1fc38a6a4b2f02b]\n",
       "class E7--><a href=\"psysml:f253b0d3-72ce-4ec1-aa97-c21cff35f053\" target=\"_top\" title=\"psysml:f253b0d3-72ce-4ec1-aa97-c21cff35f053\" xlink:actuate=\"onRequest\" xlink:href=\"psysml:f253b0d3-72ce-4ec1-aa97-c21cff35f053\" xlink:show=\"new\" xlink:title=\"psysml:f253b0d3-72ce-4ec1-aa97-c21cff35f053\" xlink:type=\"simple\"><g id=\"elem_E7\"><rect fill=\"#FFFFFF\" height=\"48.2656\" id=\"E7\" rx=\"10\" ry=\"10\" style=\"stroke:#181818;stroke-width:0.5;\" width=\"144\" x=\"387.5\" y=\"183\"/><text fill=\"#000000\" font-family=\"sans-serif\" font-size=\"12\" font-style=\"italic\" lengthAdjust=\"spacing\" textLength=\"82\" x=\"418.5\" y=\"199.1387\">«calculation»</text><text fill=\"#000000\" font-family=\"sans-serif\" font-size=\"14\" lengthAdjust=\"spacing\" textLength=\"130\" x=\"390.5\" y=\"214.9639\">evaluationFunction</text><line style=\"stroke:#181818;stroke-width:0.5;\" x1=\"388.5\" x2=\"530.5\" y1=\"223.2656\" y2=\"223.2656\"/></g></a><!--MD5=[b9389687b975829384b498ac4b7476b2]\n",
       "class E8--><a href=\"psysml:753de58d-f4ea-44a5-91ee-5ffc5e7a177d\" target=\"_top\" title=\"psysml:753de58d-f4ea-44a5-91ee-5ffc5e7a177d\" xlink:actuate=\"onRequest\" xlink:href=\"psysml:753de58d-f4ea-44a5-91ee-5ffc5e7a177d\" xlink:show=\"new\" xlink:title=\"psysml:753de58d-f4ea-44a5-91ee-5ffc5e7a177d\" xlink:type=\"simple\"><g id=\"elem_E8\"><rect fill=\"#FFFFFF\" height=\"48.2656\" id=\"E8\" rx=\"10\" ry=\"10\" style=\"stroke:#181818;stroke-width:0.5;\" width=\"142\" x=\"621\" y=\"78\"/><text fill=\"#000000\" font-family=\"sans-serif\" font-size=\"12\" font-style=\"italic\" lengthAdjust=\"spacing\" textLength=\"40\" x=\"672\" y=\"94.1387\">«part»</text><text fill=\"#000000\" font-family=\"sans-serif\" font-size=\"14\" lengthAdjust=\"spacing\" textLength=\"128\" x=\"624\" y=\"109.9639\">alternative: Engine</text><line style=\"stroke:#181818;stroke-width:0.5;\" x1=\"622\" x2=\"762\" y1=\"118.2656\" y2=\"118.2656\"/></g></a><!--MD5=[fd4143e9d270a159db93a4ea2a975926]\n",
       "class E9--><a href=\"psysml:76ff8411-b0e7-4dd9-89c0-3f2666988fc0\" target=\"_top\" title=\"psysml:76ff8411-b0e7-4dd9-89c0-3f2666988fc0\" xlink:actuate=\"onRequest\" xlink:href=\"psysml:76ff8411-b0e7-4dd9-89c0-3f2666988fc0\" xlink:show=\"new\" xlink:title=\"psysml:76ff8411-b0e7-4dd9-89c0-3f2666988fc0\" xlink:type=\"simple\"><g id=\"elem_E9\"><rect fill=\"#FFFFFF\" height=\"48.2656\" id=\"E9\" rx=\"10\" ry=\"10\" style=\"stroke:#181818;stroke-width:0.5;\" width=\"203\" x=\"358\" y=\"61\"/><text fill=\"#000000\" font-family=\"sans-serif\" font-size=\"12\" font-style=\"italic\" lengthAdjust=\"spacing\" textLength=\"40\" x=\"439.5\" y=\"77.1387\">«part»</text><text fill=\"#000000\" font-family=\"sans-serif\" font-size=\"14\" lengthAdjust=\"spacing\" textLength=\"189\" x=\"361\" y=\"92.9639\">selectedAlternative: Engine</text><line style=\"stroke:#181818;stroke-width:0.5;\" x1=\"359\" x2=\"560\" y1=\"101.2656\" y2=\"101.2656\"/></g></a><!--MD5=[60a26617385b1d2d0262a64233df1f8d]\n",
       "class E6--><a href=\"psysml:4f755969-6586-456d-bfaa-2c124f0f3312\" target=\"_top\" title=\"psysml:4f755969-6586-456d-bfaa-2c124f0f3312\" xlink:actuate=\"onRequest\" xlink:href=\"psysml:4f755969-6586-456d-bfaa-2c124f0f3312\" xlink:show=\"new\" xlink:title=\"psysml:4f755969-6586-456d-bfaa-2c124f0f3312\" xlink:type=\"simple\"><g id=\"elem_E6\"><rect fill=\"#FFFFFF\" height=\"75.0813\" id=\"E6\" rx=\"10\" ry=\"10\" style=\"stroke:#181818;stroke-width:0.5;\" width=\"145\" x=\"100\" y=\"115.5\"/><text fill=\"#000000\" font-family=\"sans-serif\" font-size=\"12\" font-style=\"italic\" lengthAdjust=\"spacing\" textLength=\"70\" x=\"137.5\" y=\"131.6387\">«objective»</text><text fill=\"#000000\" font-family=\"sans-serif\" font-size=\"14\" lengthAdjust=\"spacing\" textLength=\"139\" x=\"103\" y=\"147.4639\">tradeStudyObjective</text><line style=\"stroke:#181818;stroke-width:0.5;\" x1=\"101\" x2=\"244\" y1=\"155.7656\" y2=\"155.7656\"/><text fill=\"#000000\" font-family=\"sans-serif\" font-size=\"14\" lengthAdjust=\"spacing\" textLength=\"132\" x=\"106\" y=\"183.2795\">selectedAlternative</text><text fill=\"#000000\" font-family=\"sans-serif\" font-size=\"14\" font-style=\"italic\" lengthAdjust=\"spacing\" textLength=\"51\" x=\"147\" y=\"168.1123\">subject</text></g></a><!--MD5=[05d275557350bfb9b23a4ef7222b4c39]\n",
       "link E3 to E2--><g id=\"link_E3_E2\"><a href=\"psysml:bc3cf079-eae7-49ce-b297-ec132a977e50\" target=\"_top\" title=\"psysml:bc3cf079-eae7-49ce-b297-ec132a977e50\" xlink:actuate=\"onRequest\" xlink:href=\"psysml:bc3cf079-eae7-49ce-b297-ec132a977e50\" xlink:show=\"new\" xlink:title=\"psysml:bc3cf079-eae7-49ce-b297-ec132a977e50\" xlink:type=\"simple\"><path d=\"M756.41,169.15 C771.81,165.3 788.14,161.22 803.06,157.49 \" fill=\"none\" id=\"E3-to-E2\" style=\"stroke:#181818;stroke-width:1.0;\"/><polygon fill=\"#FFFFFF\" points=\"822.64,152.59,805.9011,163.9834,802.5103,150.4002,822.64,152.59\" style=\"stroke:#181818;stroke-width:1.0;\"/><ellipse cx=\"799.8864\" cy=\"163.4235\" fill=\"#181818\" rx=\"2\" ry=\"2\" style=\"stroke:#181818;stroke-width:1.0;\"/><ellipse cx=\"797.4644\" cy=\"153.7212\" fill=\"#181818\" rx=\"2\" ry=\"2\" style=\"stroke:#181818;stroke-width:1.0;\"/></a></g><!--MD5=[185131fc0dcab0a4505a2ebe144e961b]\n",
       "link E4 to E2--><g id=\"link_E4_E2\"><a href=\"psysml:aa1a99dc-dc69-45ac-b95f-3bcc471ea5d4\" target=\"_top\" title=\"psysml:aa1a99dc-dc69-45ac-b95f-3bcc471ea5d4\" xlink:actuate=\"onRequest\" xlink:href=\"psysml:aa1a99dc-dc69-45ac-b95f-3bcc471ea5d4\" xlink:show=\"new\" xlink:title=\"psysml:aa1a99dc-dc69-45ac-b95f-3bcc471ea5d4\" xlink:type=\"simple\"><path d=\"M735.97,243.85 C745.09,238.28 754.52,232.17 763,226 C781.48,212.55 800.71,196.26 816.91,181.75 \" fill=\"none\" id=\"E4-to-E2\" style=\"stroke:#181818;stroke-width:1.0;\"/><polygon fill=\"#FFFFFF\" points=\"831.69,168.27,822.3597,186.2407,812.9308,175.8919,831.69,168.27\" style=\"stroke:#181818;stroke-width:1.0;\"/><ellipse cx=\"816.7993\" cy=\"188.6012\" fill=\"#181818\" rx=\"2\" ry=\"2\" style=\"stroke:#181818;stroke-width:1.0;\"/><ellipse cx=\"810.0644\" cy=\"181.2092\" fill=\"#181818\" rx=\"2\" ry=\"2\" style=\"stroke:#181818;stroke-width:1.0;\"/></a></g><!--MD5=[452b418e7f8a40397a49b8c0a78acc5b]\n",
       "reverse link E5 to E7--><g id=\"link_E5_E7\"><a href=\"psysml:ae0ddffd-d94b-4ee5-a4cb-a499b90c2b96\" target=\"_top\" title=\"psysml:ae0ddffd-d94b-4ee5-a4cb-a499b90c2b96\" xlink:actuate=\"onRequest\" xlink:href=\"psysml:ae0ddffd-d94b-4ee5-a4cb-a499b90c2b96\" xlink:show=\"new\" xlink:title=\"psysml:ae0ddffd-d94b-4ee5-a4cb-a499b90c2b96\" xlink:type=\"simple\"><path d=\"M299.0398,217.6304 C299.7761,217.5813 300.5131,217.5321 301.2507,217.4829 C307.1509,217.0894 313.0852,216.6936 319.0125,216.2983 C342.7219,214.7169 366.32,213.1425 387.18,211.75 \" fill=\"none\" id=\"E5-backto-E7\" style=\"stroke:#181818;stroke-width:1.0;\"/><polygon fill=\"#181818\" points=\"299.0398,217.6304,305.2926,221.2222,311.0132,216.8318,304.7603,213.24,299.0398,217.6304\" style=\"stroke:#181818;stroke-width:1.0;\"/></a></g><!--MD5=[dc164f5e8a733ab456ef1add180e9e34]\n",
       "reverse link E7 to E8--><g id=\"link_E7_E8\"><a href=\"psysml:a8c82a2a-741b-4fac-ac9b-98beb228d3cb\" target=\"_top\" title=\"psysml:a8c82a2a-741b-4fac-ac9b-98beb228d3cb\" xlink:actuate=\"onRequest\" xlink:href=\"psysml:a8c82a2a-741b-4fac-ac9b-98beb228d3cb\" xlink:show=\"new\" xlink:title=\"psysml:a8c82a2a-741b-4fac-ac9b-98beb228d3cb\" xlink:type=\"simple\"><path d=\"M525.59,177.35 C561.11,161.17 604.53,141.39 637.97,126.16 \" fill=\"none\" id=\"E7-backto-E8\" style=\"stroke:#181818;stroke-width:1.0;\"/><polygon fill=\"none\" points=\"513.38,182.91,520.4981,184.0641,524.3012,177.9374,517.1831,176.7833,513.38,182.91\" style=\"stroke:#181818;stroke-width:1.0;\"/></a></g><!--MD5=[f1f3f9f2fc535e6147756cb86a7f2e32]\n",
       "link E8 to E2--><g id=\"link_E8_E2\"><a href=\"psysml:199cdd6b-9599-4ee9-8d7a-04a31416ec15\" target=\"_top\" title=\"psysml:199cdd6b-9599-4ee9-8d7a-04a31416ec15\" xlink:actuate=\"onRequest\" xlink:href=\"psysml:199cdd6b-9599-4ee9-8d7a-04a31416ec15\" xlink:show=\"new\" xlink:title=\"psysml:199cdd6b-9599-4ee9-8d7a-04a31416ec15\" xlink:type=\"simple\"><path d=\"M763.03,119.93 C776.46,123.37 790.34,126.93 803.16,130.21 \" fill=\"none\" id=\"E8-to-E2\" style=\"stroke:#181818;stroke-width:1.0;\"/><polygon fill=\"#FFFFFF\" points=\"822.87,135.26,802.7277,137.3312,806.1985,123.7682,822.87,135.26\" style=\"stroke:#181818;stroke-width:1.0;\"/><ellipse cx=\"797.7015\" cy=\"133.9805\" fill=\"#181818\" rx=\"2\" ry=\"2\" style=\"stroke:#181818;stroke-width:1.0;\"/><ellipse cx=\"800.1806\" cy=\"124.2927\" fill=\"#181818\" rx=\"2\" ry=\"2\" style=\"stroke:#181818;stroke-width:1.0;\"/></a></g><!--MD5=[9ae28de373ca99bb8a1b38d63370ca7e]\n",
       "reverse link E5 to E9--><g id=\"link_E5_E9\"><a href=\"psysml:549a8511-5afb-4107-9df8-0f136ad572ec\" target=\"_top\" title=\"psysml:549a8511-5afb-4107-9df8-0f136ad572ec\" xlink:actuate=\"onRequest\" xlink:href=\"psysml:549a8511-5afb-4107-9df8-0f136ad572ec\" xlink:show=\"new\" xlink:title=\"psysml:549a8511-5afb-4107-9df8-0f136ad572ec\" xlink:type=\"simple\"><path d=\"M298.3512,212.4372 C298.5848,212.3548 298.8182,212.2719 299.0514,212.1886 C299.5177,212.0219 299.9829,211.8534 300.4471,211.683 C301.3755,211.3423 302.2996,210.9942 303.219,210.6386 C306.8965,209.2161 310.4988,207.6731 314,206 C338.12,194.48 337.75,182.45 358,165 C380.47,145.64 406.72,124.8 426.75,109.25 \" fill=\"none\" id=\"E5-backto-E9\" style=\"stroke:#181818;stroke-width:1.0;\"/><polygon fill=\"none\" points=\"298.3512,212.4372,305.3401,214.2132,309.6675,208.4448,302.6786,206.6689,298.3512,212.4372\" style=\"stroke:#181818;stroke-width:1.0;\"/></a></g><!--MD5=[5c3bb36fe832a92c7f0e1807dd65209d]\n",
       "link E9 to E2--><g id=\"link_E9_E2\"><a href=\"psysml:94a3a0b9-9284-4132-a69a-1dbd276e1390\" target=\"_top\" title=\"psysml:94a3a0b9-9284-4132-a69a-1dbd276e1390\" xlink:actuate=\"onRequest\" xlink:href=\"psysml:94a3a0b9-9284-4132-a69a-1dbd276e1390\" xlink:show=\"new\" xlink:title=\"psysml:94a3a0b9-9284-4132-a69a-1dbd276e1390\" xlink:type=\"simple\"><path d=\"M536.1,60.95 C598.9,45.11 689.52,31.95 763,60 C787.07,69.19 808.89,87.69 825.43,105 \" fill=\"none\" id=\"E9-to-E2\" style=\"stroke:#181818;stroke-width:1.0;\"/><polygon fill=\"#FFFFFF\" points=\"838.79,119.95,820.9098,110.4475,831.3487,101.1185,838.79,119.95\" style=\"stroke:#181818;stroke-width:1.0;\"/><ellipse cx=\"818.6028\" cy=\"104.8646\" fill=\"#181818\" rx=\"2\" ry=\"2\" style=\"stroke:#181818;stroke-width:1.0;\"/><ellipse cx=\"826.0592\" cy=\"98.2011\" fill=\"#181818\" rx=\"2\" ry=\"2\" style=\"stroke:#181818;stroke-width:1.0;\"/></a></g><!--MD5=[510a2460d38bc86d4ebf5075cd388b57]\n",
       "@startuml\r\n",
       "skin sysmlbw\r\n",
       "skinparam monochrome true\r\n",
       "skinparam wrapWidth 300\r\n",
       "hide circle\r\n",
       "left to right direction\r\n",
       "\r\n",
       "package \"TradeStudyTest\" as E1  [[psysml:a91f55f8-3969-42e6-b46f-82de9da3fdc7 ]]  {\r\n",
       "comp def \"Engine\" as E2  <<(T,blue) part  def>> [[psysml:8055cf29-c4ca-4370-b025-bca5bf4f4944 ]] {\r\n",
       "}\r\n",
       "comp usage \"engine1: Engine  \" as E3  <<(T,blue) part>> [[psysml:479197b1-ce2e-480f-b2ef-7f257dc343b8 ]] {\r\n",
       "}\r\n",
       "comp usage \"engine2: Engine  \" as E4  <<(T,blue) part>> [[psysml:df8f9049-6917-4fa7-a1c9-f212538c9a4e ]] {\r\n",
       "}\r\n",
       "rec usage \"engineTradeStudy: TradeStudy  \" as E5  << analysis>> [[psysml:538ece1f-cb66-4e09-817f-0abcddd62ddd ]] {\r\n",
       "comp usage \"tradeStudyObjective\" as E6  <<objective>> [[psysml:4f755969-6586-456d-bfaa-2c124f0f3312 ]] {\r\n",
       "##//subject//##\r\n",
       "selectedAlternative\r\n",
       "}\r\n",
       "}\r\n",
       "comp usage \"evaluationFunction  \" as E7  <<(T,blue) calculation>> [[psysml:f253b0d3-72ce-4ec1-aa97-c21cff35f053 ]] {\r\n",
       "}\r\n",
       "comp usage \"alternative: Engine  \" as E8  <<(T,blue) part>> [[psysml:753de58d-f4ea-44a5-91ee-5ffc5e7a177d ]] {\r\n",
       "}\r\n",
       "comp usage \"selectedAlternative: Engine  \" as E9  <<(T,blue) part>> [[psysml:76ff8411-b0e7-4dd9-89c0-3f2666988fc0 ]] {\r\n",
       "}\r\n",
       "}\r\n",
       "E3 - -:|> E2 [[psysml:bc3cf079-eae7-49ce-b297-ec132a977e50 ]] \r\n",
       "E4 - -:|> E2 [[psysml:aa1a99dc-dc69-45ac-b95f-3bcc471ea5d4 ]] \r\n",
       "E5 *- - E7 [[psysml:ae0ddffd-d94b-4ee5-a4cb-a499b90c2b96 ]] \r\n",
       "E7 o- - E8 [[psysml:a8c82a2a-741b-4fac-ac9b-98beb228d3cb ]] \r\n",
       "E8 - -:|> E2 [[psysml:199cdd6b-9599-4ee9-8d7a-04a31416ec15 ]] \r\n",
       "E5 o- - E9 [[psysml:549a8511-5afb-4107-9df8-0f136ad572ec ]] \r\n",
       "E9 - -:|> E2 [[psysml:94a3a0b9-9284-4132-a69a-1dbd276e1390 ]] \r\n",
       "@enduml\r\n",
       "\n",
       "PlantUML version 1.2022.7(Mon Aug 22 17:01:30 UTC 2022)\n",
       "(EPL source distribution)\n",
       "Java Runtime: OpenJDK Runtime Environment\n",
       "JVM: OpenJDK 64-Bit Server VM\n",
       "Default Encoding: UTF-8\n",
       "Language: en\n",
       "Country: null\n",
       "--></g></svg>"
      ]
     },
     "execution_count": 22,
     "metadata": {},
     "output_type": "execute_result"
    }
   ],
   "source": [
    "%viz --style=\"LR\" --view=\"MIXED\" \"TradeStudyTest\""
   ]
  },
  {
   "cell_type": "code",
   "execution_count": 23,
   "id": "d4735a11",
   "metadata": {
    "execution": {
     "iopub.execute_input": "2024-12-16T14:21:08.696975Z",
     "iopub.status.busy": "2024-12-16T14:21:08.696729Z",
     "iopub.status.idle": "2024-12-16T14:21:08.728928Z",
     "shell.execute_reply": "2024-12-16T14:21:08.728026Z"
    }
   },
   "outputs": [
    {
     "data": {
      "image/svg+xml": [
       "<?xml version=\"1.0\" encoding=\"UTF-8\" standalone=\"no\"?><svg xmlns=\"http://www.w3.org/2000/svg\" xmlns:xlink=\"http://www.w3.org/1999/xlink\" contentStyleType=\"text/css\" height=\"538px\" preserveAspectRatio=\"none\" style=\"width:570px;height:538px;background:#FFFFFF;\" version=\"1.1\" viewBox=\"0 0 570 538\" width=\"570px\" zoomAndPan=\"magnify\"><defs><filter height=\"300%\" id=\"f1i9wzgpinszm3\" width=\"300%\" x=\"-1\" y=\"-1\"><feGaussianBlur result=\"blurOut\" stdDeviation=\"2.0\"/><feColorMatrix in=\"blurOut\" result=\"blurOut2\" type=\"matrix\" values=\"0 0 0 0 0 0 0 0 0 0 0 0 0 0 0 0 0 0 .4 0\"/><feOffset dx=\"4.0\" dy=\"4.0\" in=\"blurOut2\" result=\"blurOut3\"/><feBlend in=\"SourceGraphic\" in2=\"blurOut3\" mode=\"normal\"/></filter></defs><g><!--MD5=[fbc87193dbaf4d95561dea2c320d4a47]\n",
       "cluster E1--><g id=\"cluster_E1\"><a href=\"psysml:a91f55f8-3969-42e6-b46f-82de9da3fdc7\" target=\"_top\" title=\"psysml:a91f55f8-3969-42e6-b46f-82de9da3fdc7\" xlink:actuate=\"onRequest\" xlink:href=\"psysml:a91f55f8-3969-42e6-b46f-82de9da3fdc7\" xlink:show=\"new\" xlink:title=\"psysml:a91f55f8-3969-42e6-b46f-82de9da3fdc7\" xlink:type=\"simple\"><polygon fill=\"none\" filter=\"url(#f1i9wzgpinszm3)\" points=\"16,6,138.125,6,145.125,28.2969,553,28.2969,553,531,16,531,16,6\" style=\"stroke:#000000;stroke-width:1.5;\"/><line style=\"stroke:#000000;stroke-width:1.5;\" x1=\"16\" x2=\"145.125\" y1=\"28.2969\" y2=\"28.2969\"/><text fill=\"#000000\" font-family=\"sans-serif\" font-size=\"14\" font-weight=\"bold\" lengthAdjust=\"spacing\" textLength=\"116.125\" x=\"20\" y=\"20.9951\">TradeStudyTest</text></a></g><!--MD5=[de5ec2e2e8f62f467e546659f5068c88]\n",
       "cluster E5--><g id=\"cluster_E5\"><a href=\"psysml:538ece1f-cb66-4e09-817f-0abcddd62ddd\" target=\"_top\" title=\"psysml:538ece1f-cb66-4e09-817f-0abcddd62ddd\" xlink:actuate=\"onRequest\" xlink:href=\"psysml:538ece1f-cb66-4e09-817f-0abcddd62ddd\" xlink:show=\"new\" xlink:title=\"psysml:538ece1f-cb66-4e09-817f-0abcddd62ddd\" xlink:type=\"simple\"><rect fill=\"#FFFFFF\" filter=\"url(#f1i9wzgpinszm3)\" height=\"158\" id=\"E5\" rx=\"10\" ry=\"10\" style=\"stroke:#A80036;stroke-width:1.5;\" width=\"250\" x=\"236\" y=\"57\"/><rect fill=\"#FFFACD\" height=\"40.2656\" rx=\"10\" ry=\"10\" style=\"stroke:#FFFACD;stroke-width:1.5;\" width=\"250\" x=\"236\" y=\"57\"/><rect fill=\"#FFFACD\" height=\"10\" style=\"stroke:#FFFACD;stroke-width:1.5;\" width=\"250\" x=\"236\" y=\"87.2656\"/><rect fill=\"none\" height=\"158\" id=\"E5\" rx=\"10\" ry=\"10\" style=\"stroke:#A80036;stroke-width:1.5;\" width=\"250\" x=\"236\" y=\"57\"/><text fill=\"#000000\" font-family=\"sans-serif\" font-size=\"12\" font-style=\"italic\" lengthAdjust=\"spacing\" textLength=\"64\" x=\"329\" y=\"73.1387\">«analysis»</text><text fill=\"#000000\" font-family=\"sans-serif\" font-size=\"14\" lengthAdjust=\"spacing\" textLength=\"215\" x=\"249.5\" y=\"88.9639\">engineTradeStudy: TradeStudy</text><line style=\"stroke:#A80036;stroke-width:1.0;\" x1=\"236\" x2=\"486\" y1=\"97.2656\" y2=\"97.2656\"/></a></g><!--MD5=[b4997ac47864f28c2f74865a473b2911]\n",
       "class E2--><a href=\"psysml:8055cf29-c4ca-4370-b025-bca5bf4f4944\" target=\"_top\" title=\"psysml:8055cf29-c4ca-4370-b025-bca5bf4f4944\" xlink:actuate=\"onRequest\" xlink:href=\"psysml:8055cf29-c4ca-4370-b025-bca5bf4f4944\" xlink:show=\"new\" xlink:title=\"psysml:8055cf29-c4ca-4370-b025-bca5bf4f4944\" xlink:type=\"simple\"><g id=\"elem_E2\"><rect fill=\"#FFFACD\" filter=\"url(#f1i9wzgpinszm3)\" height=\"48.2656\" id=\"E2\" style=\"stroke:#181818;stroke-width:0.5;\" width=\"70\" x=\"309\" y=\"467\"/><text fill=\"#000000\" font-family=\"sans-serif\" font-size=\"12\" font-style=\"italic\" lengthAdjust=\"spacing\" textLength=\"68\" x=\"310\" y=\"483.1387\">«part  def»</text><text fill=\"#000000\" font-family=\"sans-serif\" font-size=\"14\" lengthAdjust=\"spacing\" textLength=\"48\" x=\"320\" y=\"498.9639\">Engine</text><line style=\"stroke:#181818;stroke-width:0.5;\" x1=\"310\" x2=\"378\" y1=\"507.2656\" y2=\"507.2656\"/></g></a><!--MD5=[09b614a08d8cba4a07c9adeb5e0fee81]\n",
       "class E3--><a href=\"psysml:479197b1-ce2e-480f-b2ef-7f257dc343b8\" target=\"_top\" title=\"psysml:479197b1-ce2e-480f-b2ef-7f257dc343b8\" xlink:actuate=\"onRequest\" xlink:href=\"psysml:479197b1-ce2e-480f-b2ef-7f257dc343b8\" xlink:show=\"new\" xlink:title=\"psysml:479197b1-ce2e-480f-b2ef-7f257dc343b8\" xlink:type=\"simple\"><g id=\"elem_E3\"><rect fill=\"#FFFACD\" filter=\"url(#f1i9wzgpinszm3)\" height=\"48.2656\" id=\"E3\" rx=\"10\" ry=\"10\" style=\"stroke:#181818;stroke-width:0.5;\" width=\"128\" x=\"195\" y=\"359\"/><text fill=\"#000000\" font-family=\"sans-serif\" font-size=\"12\" font-style=\"italic\" lengthAdjust=\"spacing\" textLength=\"40\" x=\"239\" y=\"375.1387\">«part»</text><text fill=\"#000000\" font-family=\"sans-serif\" font-size=\"14\" lengthAdjust=\"spacing\" textLength=\"114\" x=\"198\" y=\"390.9639\">engine1: Engine</text><line style=\"stroke:#181818;stroke-width:0.5;\" x1=\"196\" x2=\"322\" y1=\"399.2656\" y2=\"399.2656\"/></g></a><!--MD5=[ebbe1d658d1005bcc118a6aa81145e00]\n",
       "class E4--><a href=\"psysml:df8f9049-6917-4fa7-a1c9-f212538c9a4e\" target=\"_top\" title=\"psysml:df8f9049-6917-4fa7-a1c9-f212538c9a4e\" xlink:actuate=\"onRequest\" xlink:href=\"psysml:df8f9049-6917-4fa7-a1c9-f212538c9a4e\" xlink:show=\"new\" xlink:title=\"psysml:df8f9049-6917-4fa7-a1c9-f212538c9a4e\" xlink:type=\"simple\"><g id=\"elem_E4\"><rect fill=\"#FFFACD\" filter=\"url(#f1i9wzgpinszm3)\" height=\"48.2656\" id=\"E4\" rx=\"10\" ry=\"10\" style=\"stroke:#181818;stroke-width:0.5;\" width=\"128\" x=\"32\" y=\"359\"/><text fill=\"#000000\" font-family=\"sans-serif\" font-size=\"12\" font-style=\"italic\" lengthAdjust=\"spacing\" textLength=\"40\" x=\"76\" y=\"375.1387\">«part»</text><text fill=\"#000000\" font-family=\"sans-serif\" font-size=\"14\" lengthAdjust=\"spacing\" textLength=\"114\" x=\"35\" y=\"390.9639\">engine2: Engine</text><line style=\"stroke:#181818;stroke-width:0.5;\" x1=\"33\" x2=\"159\" y1=\"399.2656\" y2=\"399.2656\"/></g></a><!--MD5=[2156ba9850f5573cc1fc38a6a4b2f02b]\n",
       "class E7--><a href=\"psysml:f253b0d3-72ce-4ec1-aa97-c21cff35f053\" target=\"_top\" title=\"psysml:f253b0d3-72ce-4ec1-aa97-c21cff35f053\" xlink:actuate=\"onRequest\" xlink:href=\"psysml:f253b0d3-72ce-4ec1-aa97-c21cff35f053\" xlink:show=\"new\" xlink:title=\"psysml:f253b0d3-72ce-4ec1-aa97-c21cff35f053\" xlink:type=\"simple\"><g id=\"elem_E7\"><rect fill=\"#FFFACD\" filter=\"url(#f1i9wzgpinszm3)\" height=\"48.2656\" id=\"E7\" rx=\"10\" ry=\"10\" style=\"stroke:#181818;stroke-width:0.5;\" width=\"144\" x=\"155\" y=\"251\"/><text fill=\"#000000\" font-family=\"sans-serif\" font-size=\"12\" font-style=\"italic\" lengthAdjust=\"spacing\" textLength=\"82\" x=\"186\" y=\"267.1387\">«calculation»</text><text fill=\"#000000\" font-family=\"sans-serif\" font-size=\"14\" lengthAdjust=\"spacing\" textLength=\"130\" x=\"158\" y=\"282.9639\">evaluationFunction</text><line style=\"stroke:#181818;stroke-width:0.5;\" x1=\"156\" x2=\"298\" y1=\"291.2656\" y2=\"291.2656\"/></g></a><!--MD5=[b9389687b975829384b498ac4b7476b2]\n",
       "class E8--><a href=\"psysml:753de58d-f4ea-44a5-91ee-5ffc5e7a177d\" target=\"_top\" title=\"psysml:753de58d-f4ea-44a5-91ee-5ffc5e7a177d\" xlink:actuate=\"onRequest\" xlink:href=\"psysml:753de58d-f4ea-44a5-91ee-5ffc5e7a177d\" xlink:show=\"new\" xlink:title=\"psysml:753de58d-f4ea-44a5-91ee-5ffc5e7a177d\" xlink:type=\"simple\"><g id=\"elem_E8\"><rect fill=\"#FFFACD\" filter=\"url(#f1i9wzgpinszm3)\" height=\"48.2656\" id=\"E8\" rx=\"10\" ry=\"10\" style=\"stroke:#181818;stroke-width:0.5;\" width=\"142\" x=\"358\" y=\"359\"/><text fill=\"#000000\" font-family=\"sans-serif\" font-size=\"12\" font-style=\"italic\" lengthAdjust=\"spacing\" textLength=\"40\" x=\"409\" y=\"375.1387\">«part»</text><text fill=\"#000000\" font-family=\"sans-serif\" font-size=\"14\" lengthAdjust=\"spacing\" textLength=\"128\" x=\"361\" y=\"390.9639\">alternative: Engine</text><line style=\"stroke:#181818;stroke-width:0.5;\" x1=\"359\" x2=\"499\" y1=\"399.2656\" y2=\"399.2656\"/></g></a><!--MD5=[fd4143e9d270a159db93a4ea2a975926]\n",
       "class E9--><a href=\"psysml:76ff8411-b0e7-4dd9-89c0-3f2666988fc0\" target=\"_top\" title=\"psysml:76ff8411-b0e7-4dd9-89c0-3f2666988fc0\" xlink:actuate=\"onRequest\" xlink:href=\"psysml:76ff8411-b0e7-4dd9-89c0-3f2666988fc0\" xlink:show=\"new\" xlink:title=\"psysml:76ff8411-b0e7-4dd9-89c0-3f2666988fc0\" xlink:type=\"simple\"><g id=\"elem_E9\"><rect fill=\"#FFFACD\" filter=\"url(#f1i9wzgpinszm3)\" height=\"48.2656\" id=\"E9\" rx=\"10\" ry=\"10\" style=\"stroke:#181818;stroke-width:0.5;\" width=\"203\" x=\"334.5\" y=\"251\"/><text fill=\"#000000\" font-family=\"sans-serif\" font-size=\"12\" font-style=\"italic\" lengthAdjust=\"spacing\" textLength=\"40\" x=\"416\" y=\"267.1387\">«part»</text><text fill=\"#000000\" font-family=\"sans-serif\" font-size=\"14\" lengthAdjust=\"spacing\" textLength=\"189\" x=\"337.5\" y=\"282.9639\">selectedAlternative: Engine</text><line style=\"stroke:#181818;stroke-width:0.5;\" x1=\"335.5\" x2=\"536.5\" y1=\"291.2656\" y2=\"291.2656\"/></g></a><!--MD5=[60a26617385b1d2d0262a64233df1f8d]\n",
       "class E6--><a href=\"psysml:4f755969-6586-456d-bfaa-2c124f0f3312\" target=\"_top\" title=\"psysml:4f755969-6586-456d-bfaa-2c124f0f3312\" xlink:actuate=\"onRequest\" xlink:href=\"psysml:4f755969-6586-456d-bfaa-2c124f0f3312\" xlink:show=\"new\" xlink:title=\"psysml:4f755969-6586-456d-bfaa-2c124f0f3312\" xlink:type=\"simple\"><g id=\"elem_E6\"><rect fill=\"#FFFACD\" filter=\"url(#f1i9wzgpinszm3)\" height=\"75.0813\" id=\"E6\" rx=\"10\" ry=\"10\" style=\"stroke:#181818;stroke-width:0.5;\" width=\"145\" x=\"306.5\" y=\"116\"/><text fill=\"#000000\" font-family=\"sans-serif\" font-size=\"12\" font-style=\"italic\" lengthAdjust=\"spacing\" textLength=\"70\" x=\"344\" y=\"132.1387\">«objective»</text><text fill=\"#000000\" font-family=\"sans-serif\" font-size=\"14\" lengthAdjust=\"spacing\" textLength=\"139\" x=\"309.5\" y=\"147.9639\">tradeStudyObjective</text><line style=\"stroke:#181818;stroke-width:0.5;\" x1=\"307.5\" x2=\"450.5\" y1=\"156.2656\" y2=\"156.2656\"/><text fill=\"#000000\" font-family=\"sans-serif\" font-size=\"14\" lengthAdjust=\"spacing\" textLength=\"132\" x=\"312.5\" y=\"183.7795\">selectedAlternative</text><text fill=\"#000000\" font-family=\"sans-serif\" font-size=\"14\" font-style=\"italic\" lengthAdjust=\"spacing\" textLength=\"51\" x=\"353.5\" y=\"168.6123\">subject</text></g></a><!--MD5=[05d275557350bfb9b23a4ef7222b4c39]\n",
       "link E3 to E2--><g id=\"link_E3_E2\"><a href=\"psysml:bc3cf079-eae7-49ce-b297-ec132a977e50\" target=\"_top\" title=\"psysml:bc3cf079-eae7-49ce-b297-ec132a977e50\" xlink:actuate=\"onRequest\" xlink:href=\"psysml:bc3cf079-eae7-49ce-b297-ec132a977e50\" xlink:show=\"new\" xlink:title=\"psysml:bc3cf079-eae7-49ce-b297-ec132a977e50\" xlink:type=\"simple\"><path d=\"M277.44,407 C287.73,419.83 300.82,436.16 312.67,450.93 \" fill=\"none\" id=\"E3-to-E2\" style=\"stroke:#181818;stroke-width:1.0;\"/><polygon fill=\"#FFFFFF\" points=\"325.3,466.68,307.9565,456.2299,318.8819,447.4756,325.3,466.68\" style=\"stroke:#181818;stroke-width:1.0;\"/><ellipse cx=\"305.9531\" cy=\"450.5311\" fill=\"#181818\" rx=\"2\" ry=\"2\" style=\"stroke:#181818;stroke-width:1.0;\"/><ellipse cx=\"313.7569\" cy=\"444.2781\" fill=\"#181818\" rx=\"2\" ry=\"2\" style=\"stroke:#181818;stroke-width:1.0;\"/></a></g><!--MD5=[185131fc0dcab0a4505a2ebe144e961b]\n",
       "link E4 to E2--><g id=\"link_E4_E2\"><a href=\"psysml:aa1a99dc-dc69-45ac-b95f-3bcc471ea5d4\" target=\"_top\" title=\"psysml:aa1a99dc-dc69-45ac-b95f-3bcc471ea5d4\" xlink:actuate=\"onRequest\" xlink:href=\"psysml:aa1a99dc-dc69-45ac-b95f-3bcc471ea5d4\" xlink:show=\"new\" xlink:title=\"psysml:aa1a99dc-dc69-45ac-b95f-3bcc471ea5d4\" xlink:type=\"simple\"><path d=\"M149.81,407 C191.38,424.77 248.64,449.24 290.2,467.01 \" fill=\"none\" id=\"E4-to-E2\" style=\"stroke:#181818;stroke-width:1.0;\"/><polygon fill=\"#FFFFFF\" points=\"308.64,474.89,288.4184,473.8471,293.9285,460.977,308.64,474.89\" style=\"stroke:#181818;stroke-width:1.0;\"/><ellipse cx=\"283.9656\" cy=\"469.7652\" fill=\"#181818\" rx=\"2\" ry=\"2\" style=\"stroke:#181818;stroke-width:1.0;\"/><ellipse cx=\"287.9013\" cy=\"460.5722\" fill=\"#181818\" rx=\"2\" ry=\"2\" style=\"stroke:#181818;stroke-width:1.0;\"/></a></g><!--MD5=[452b418e7f8a40397a49b8c0a78acc5b]\n",
       "reverse link E5 to E7--><g id=\"link_E5_E7\"><a href=\"psysml:ae0ddffd-d94b-4ee5-a4cb-a499b90c2b96\" target=\"_top\" title=\"psysml:ae0ddffd-d94b-4ee5-a4cb-a499b90c2b96\" xlink:actuate=\"onRequest\" xlink:href=\"psysml:ae0ddffd-d94b-4ee5-a4cb-a499b90c2b96\" xlink:show=\"new\" xlink:title=\"psysml:ae0ddffd-d94b-4ee5-a4cb-a499b90c2b96\" xlink:type=\"simple\"><path d=\"M244.1719,215.3826 C244.124,215.5464 244.076,215.7101 244.0281,215.8739 C243.8363,216.5288 243.6446,217.1834 243.453,217.8375 C243.0699,219.1456 242.6874,220.4515 242.3064,221.7525 C239.2581,232.1606 236.3,242.26 233.81,250.76 \" fill=\"none\" id=\"E5-backto-E7\" style=\"stroke:#181818;stroke-width:1.0;\"/><polygon fill=\"#181818\" points=\"244.1719,215.3826,238.6468,220.0166,240.7992,226.8989,246.3243,222.265,244.1719,215.3826\" style=\"stroke:#181818;stroke-width:1.0;\"/></a></g><!--MD5=[dc164f5e8a733ab456ef1add180e9e34]\n",
       "reverse link E7 to E8--><g id=\"link_E7_E8\"><a href=\"psysml:a8c82a2a-741b-4fac-ac9b-98beb228d3cb\" target=\"_top\" title=\"psysml:a8c82a2a-741b-4fac-ac9b-98beb228d3cb\" xlink:actuate=\"onRequest\" xlink:href=\"psysml:a8c82a2a-741b-4fac-ac9b-98beb228d3cb\" xlink:show=\"new\" xlink:title=\"psysml:a8c82a2a-741b-4fac-ac9b-98beb228d3cb\" xlink:type=\"simple\"><path d=\"M282.76,305.26 C314.96,322.16 354.91,343.12 384.91,358.86 \" fill=\"none\" id=\"E7-backto-E8\" style=\"stroke:#181818;stroke-width:1.0;\"/><polygon fill=\"none\" points=\"270.83,299,274.284,305.3301,281.4556,304.5765,278.0016,298.2464,270.83,299\" style=\"stroke:#181818;stroke-width:1.0;\"/></a></g><!--MD5=[f1f3f9f2fc535e6147756cb86a7f2e32]\n",
       "link E8 to E2--><g id=\"link_E8_E2\"><a href=\"psysml:199cdd6b-9599-4ee9-8d7a-04a31416ec15\" target=\"_top\" title=\"psysml:199cdd6b-9599-4ee9-8d7a-04a31416ec15\" xlink:actuate=\"onRequest\" xlink:href=\"psysml:199cdd6b-9599-4ee9-8d7a-04a31416ec15\" xlink:show=\"new\" xlink:title=\"psysml:199cdd6b-9599-4ee9-8d7a-04a31416ec15\" xlink:type=\"simple\"><path d=\"M410.56,407 C400.27,419.83 387.18,436.16 375.33,450.93 \" fill=\"none\" id=\"E8-to-E2\" style=\"stroke:#181818;stroke-width:1.0;\"/><polygon fill=\"#FFFFFF\" points=\"362.7,466.68,369.1181,447.4756,380.0435,456.2299,362.7,466.68\" style=\"stroke:#181818;stroke-width:1.0;\"/><ellipse cx=\"374.2431\" cy=\"444.2781\" fill=\"#181818\" rx=\"2\" ry=\"2\" style=\"stroke:#181818;stroke-width:1.0;\"/><ellipse cx=\"382.0469\" cy=\"450.5311\" fill=\"#181818\" rx=\"2\" ry=\"2\" style=\"stroke:#181818;stroke-width:1.0;\"/></a></g><!--MD5=[9ae28de373ca99bb8a1b38d63370ca7e]\n",
       "reverse link E5 to E9--><g id=\"link_E5_E9\"><a href=\"psysml:549a8511-5afb-4107-9df8-0f136ad572ec\" target=\"_top\" title=\"psysml:549a8511-5afb-4107-9df8-0f136ad572ec\" xlink:actuate=\"onRequest\" xlink:href=\"psysml:549a8511-5afb-4107-9df8-0f136ad572ec\" xlink:show=\"new\" xlink:title=\"psysml:549a8511-5afb-4107-9df8-0f136ad572ec\" xlink:type=\"simple\"><path d=\"M277.9238,215.3079 C279.0235,217.2432 280.1988,219.1321 281.4547,220.9571 C283.9666,224.607 286.8013,228.0013 290,231 C302.53,242.75 318.11,251.3 334.38,257.53 \" fill=\"none\" id=\"E5-backto-E9\" style=\"stroke:#181818;stroke-width:1.0;\"/><polygon fill=\"none\" points=\"277.9238,215.3079,277.4102,222.5006,283.8521,225.7412,284.3658,218.5484,277.9238,215.3079\" style=\"stroke:#181818;stroke-width:1.0;\"/></a></g><!--MD5=[5c3bb36fe832a92c7f0e1807dd65209d]\n",
       "link E9 to E2--><g id=\"link_E9_E2\"><a href=\"psysml:94a3a0b9-9284-4132-a69a-1dbd276e1390\" target=\"_top\" title=\"psysml:94a3a0b9-9284-4132-a69a-1dbd276e1390\" xlink:actuate=\"onRequest\" xlink:href=\"psysml:94a3a0b9-9284-4132-a69a-1dbd276e1390\" xlink:show=\"new\" xlink:title=\"psysml:94a3a0b9-9284-4132-a69a-1dbd276e1390\" xlink:type=\"simple\"><path d=\"M468.09,299.22 C500.23,325.43 541.77,369.33 518,407 C492.01,448.19 439.34,469.37 398.72,479.98 \" fill=\"none\" id=\"E9-to-E2\" style=\"stroke:#181818;stroke-width:1.0;\"/><polygon fill=\"#FFFFFF\" points=\"379.07,484.56,395.9826,473.4261,399.1635,487.06,379.07,484.56\" style=\"stroke:#181818;stroke-width:1.0;\"/><ellipse cx=\"401.988\" cy=\"474.0788\" fill=\"#181818\" rx=\"2\" ry=\"2\" style=\"stroke:#181818;stroke-width:1.0;\"/><ellipse cx=\"404.26\" cy=\"483.8172\" fill=\"#181818\" rx=\"2\" ry=\"2\" style=\"stroke:#181818;stroke-width:1.0;\"/></a></g><!--MD5=[646eb601da0b5128101b5f1d99840db1]\n",
       "@startuml\r\n",
       "skin sysmlc\r\n",
       "skinparam wrapWidth 300\r\n",
       "hide circle\r\n",
       "\r\n",
       "package \"TradeStudyTest\" as E1  [[psysml:a91f55f8-3969-42e6-b46f-82de9da3fdc7 ]]  {\r\n",
       "comp def \"Engine\" as E2  <<(T,blue) part  def>> [[psysml:8055cf29-c4ca-4370-b025-bca5bf4f4944 ]] {\r\n",
       "}\r\n",
       "comp usage \"engine1: Engine  \" as E3  <<(T,blue) part>> [[psysml:479197b1-ce2e-480f-b2ef-7f257dc343b8 ]] {\r\n",
       "}\r\n",
       "comp usage \"engine2: Engine  \" as E4  <<(T,blue) part>> [[psysml:df8f9049-6917-4fa7-a1c9-f212538c9a4e ]] {\r\n",
       "}\r\n",
       "rec usage \"engineTradeStudy: TradeStudy  \" as E5  << analysis>> [[psysml:538ece1f-cb66-4e09-817f-0abcddd62ddd ]] {\r\n",
       "comp usage \"tradeStudyObjective\" as E6  <<objective>> [[psysml:4f755969-6586-456d-bfaa-2c124f0f3312 ]] {\r\n",
       "##//subject//##\r\n",
       "selectedAlternative\r\n",
       "}\r\n",
       "}\r\n",
       "comp usage \"evaluationFunction  \" as E7  <<(T,blue) calculation>> [[psysml:f253b0d3-72ce-4ec1-aa97-c21cff35f053 ]] {\r\n",
       "}\r\n",
       "comp usage \"alternative: Engine  \" as E8  <<(T,blue) part>> [[psysml:753de58d-f4ea-44a5-91ee-5ffc5e7a177d ]] {\r\n",
       "}\r\n",
       "comp usage \"selectedAlternative: Engine  \" as E9  <<(T,blue) part>> [[psysml:76ff8411-b0e7-4dd9-89c0-3f2666988fc0 ]] {\r\n",
       "}\r\n",
       "}\r\n",
       "E3 - -:|> E2 [[psysml:bc3cf079-eae7-49ce-b297-ec132a977e50 ]] \r\n",
       "E4 - -:|> E2 [[psysml:aa1a99dc-dc69-45ac-b95f-3bcc471ea5d4 ]] \r\n",
       "E5 *- - E7 [[psysml:ae0ddffd-d94b-4ee5-a4cb-a499b90c2b96 ]] \r\n",
       "E7 o- - E8 [[psysml:a8c82a2a-741b-4fac-ac9b-98beb228d3cb ]] \r\n",
       "E8 - -:|> E2 [[psysml:199cdd6b-9599-4ee9-8d7a-04a31416ec15 ]] \r\n",
       "E5 o- - E9 [[psysml:549a8511-5afb-4107-9df8-0f136ad572ec ]] \r\n",
       "E9 - -:|> E2 [[psysml:94a3a0b9-9284-4132-a69a-1dbd276e1390 ]] \r\n",
       "@enduml\r\n",
       "\n",
       "PlantUML version 1.2022.7(Mon Aug 22 17:01:30 UTC 2022)\n",
       "(EPL source distribution)\n",
       "Java Runtime: OpenJDK Runtime Environment\n",
       "JVM: OpenJDK 64-Bit Server VM\n",
       "Default Encoding: UTF-8\n",
       "Language: en\n",
       "Country: null\n",
       "--></g></svg>"
      ]
     },
     "execution_count": 23,
     "metadata": {},
     "output_type": "execute_result"
    }
   ],
   "source": [
    "%viz --style=\"STDCOLOR\" --view=\"Default\" \"TradeStudyTest\""
   ]
  },
  {
   "cell_type": "code",
   "execution_count": 24,
   "id": "8bae4148",
   "metadata": {
    "execution": {
     "iopub.execute_input": "2024-12-16T14:21:08.780740Z",
     "iopub.status.busy": "2024-12-16T14:21:08.780480Z",
     "iopub.status.idle": "2024-12-16T14:21:08.815501Z",
     "shell.execute_reply": "2024-12-16T14:21:08.814489Z"
    }
   },
   "outputs": [
    {
     "data": {
      "image/svg+xml": [
       "<?xml version=\"1.0\" encoding=\"UTF-8\" standalone=\"no\"?><svg xmlns=\"http://www.w3.org/2000/svg\" xmlns:xlink=\"http://www.w3.org/1999/xlink\" contentStyleType=\"text/css\" height=\"572px\" preserveAspectRatio=\"none\" style=\"width:570px;height:572px;background:#FFFFFF;\" version=\"1.1\" viewBox=\"0 0 570 572\" width=\"570px\" zoomAndPan=\"magnify\"><defs><filter height=\"300%\" id=\"fh1qz4u0xnbfl\" width=\"300%\" x=\"-1\" y=\"-1\"><feGaussianBlur result=\"blurOut\" stdDeviation=\"2.0\"/><feColorMatrix in=\"blurOut\" result=\"blurOut2\" type=\"matrix\" values=\"0 0 0 0 0 0 0 0 0 0 0 0 0 0 0 0 0 0 .4 0\"/><feOffset dx=\"4.0\" dy=\"4.0\" in=\"blurOut2\" result=\"blurOut3\"/><feBlend in=\"SourceGraphic\" in2=\"blurOut3\" mode=\"normal\"/></filter></defs><g><!--MD5=[fbc87193dbaf4d95561dea2c320d4a47]\n",
       "cluster E1--><g id=\"cluster_E1\"><a href=\"psysml:a91f55f8-3969-42e6-b46f-82de9da3fdc7\" target=\"_top\" title=\"psysml:a91f55f8-3969-42e6-b46f-82de9da3fdc7\" xlink:actuate=\"onRequest\" xlink:href=\"psysml:a91f55f8-3969-42e6-b46f-82de9da3fdc7\" xlink:show=\"new\" xlink:title=\"psysml:a91f55f8-3969-42e6-b46f-82de9da3fdc7\" xlink:type=\"simple\"><polygon fill=\"none\" filter=\"url(#fh1qz4u0xnbfl)\" points=\"16,6,138.125,6,145.125,28.2969,553,28.2969,553,565,16,565,16,6\" style=\"stroke:#000000;stroke-width:1.5;\"/><line style=\"stroke:#000000;stroke-width:1.5;\" x1=\"16\" x2=\"145.125\" y1=\"28.2969\" y2=\"28.2969\"/><text fill=\"#000000\" font-family=\"sans-serif\" font-size=\"14\" font-weight=\"bold\" lengthAdjust=\"spacing\" textLength=\"116.125\" x=\"20\" y=\"20.9951\">TradeStudyTest</text></a></g><!--MD5=[b4997ac47864f28c2f74865a473b2911]\n",
       "class E2--><a href=\"psysml:8055cf29-c4ca-4370-b025-bca5bf4f4944\" target=\"_top\" title=\"psysml:8055cf29-c4ca-4370-b025-bca5bf4f4944\" xlink:actuate=\"onRequest\" xlink:href=\"psysml:8055cf29-c4ca-4370-b025-bca5bf4f4944\" xlink:show=\"new\" xlink:title=\"psysml:8055cf29-c4ca-4370-b025-bca5bf4f4944\" xlink:type=\"simple\"><g id=\"elem_E2\"><rect fill=\"#FFFACD\" filter=\"url(#fh1qz4u0xnbfl)\" height=\"48.2656\" id=\"E2\" style=\"stroke:#181818;stroke-width:0.5;\" width=\"70\" x=\"202\" y=\"501\"/><text fill=\"#000000\" font-family=\"sans-serif\" font-size=\"12\" font-style=\"italic\" lengthAdjust=\"spacing\" textLength=\"68\" x=\"203\" y=\"517.1387\">«part  def»</text><text fill=\"#000000\" font-family=\"sans-serif\" font-size=\"14\" lengthAdjust=\"spacing\" textLength=\"48\" x=\"213\" y=\"532.9639\">Engine</text><line style=\"stroke:#181818;stroke-width:0.5;\" x1=\"203\" x2=\"271\" y1=\"541.2656\" y2=\"541.2656\"/></g></a><!--MD5=[09b614a08d8cba4a07c9adeb5e0fee81]\n",
       "class E3--><a href=\"psysml:479197b1-ce2e-480f-b2ef-7f257dc343b8\" target=\"_top\" title=\"psysml:479197b1-ce2e-480f-b2ef-7f257dc343b8\" xlink:actuate=\"onRequest\" xlink:href=\"psysml:479197b1-ce2e-480f-b2ef-7f257dc343b8\" xlink:show=\"new\" xlink:title=\"psysml:479197b1-ce2e-480f-b2ef-7f257dc343b8\" xlink:type=\"simple\"><g id=\"elem_E3\"><rect fill=\"#FFFACD\" filter=\"url(#fh1qz4u0xnbfl)\" height=\"48.2656\" id=\"E3\" rx=\"10\" ry=\"10\" style=\"stroke:#181818;stroke-width:0.5;\" width=\"128\" x=\"409\" y=\"392\"/><text fill=\"#000000\" font-family=\"sans-serif\" font-size=\"12\" font-style=\"italic\" lengthAdjust=\"spacing\" textLength=\"40\" x=\"453\" y=\"408.1387\">«part»</text><text fill=\"#000000\" font-family=\"sans-serif\" font-size=\"14\" lengthAdjust=\"spacing\" textLength=\"114\" x=\"412\" y=\"423.9639\">engine1: Engine</text><line style=\"stroke:#181818;stroke-width:0.5;\" x1=\"410\" x2=\"536\" y1=\"432.2656\" y2=\"432.2656\"/></g></a><!--MD5=[ebbe1d658d1005bcc118a6aa81145e00]\n",
       "class E4--><a href=\"psysml:df8f9049-6917-4fa7-a1c9-f212538c9a4e\" target=\"_top\" title=\"psysml:df8f9049-6917-4fa7-a1c9-f212538c9a4e\" xlink:actuate=\"onRequest\" xlink:href=\"psysml:df8f9049-6917-4fa7-a1c9-f212538c9a4e\" xlink:show=\"new\" xlink:title=\"psysml:df8f9049-6917-4fa7-a1c9-f212538c9a4e\" xlink:type=\"simple\"><g id=\"elem_E4\"><rect fill=\"#FFFACD\" filter=\"url(#fh1qz4u0xnbfl)\" height=\"48.2656\" id=\"E4\" rx=\"10\" ry=\"10\" style=\"stroke:#181818;stroke-width:0.5;\" width=\"128\" x=\"246\" y=\"392\"/><text fill=\"#000000\" font-family=\"sans-serif\" font-size=\"12\" font-style=\"italic\" lengthAdjust=\"spacing\" textLength=\"40\" x=\"290\" y=\"408.1387\">«part»</text><text fill=\"#000000\" font-family=\"sans-serif\" font-size=\"14\" lengthAdjust=\"spacing\" textLength=\"114\" x=\"249\" y=\"423.9639\">engine2: Engine</text><line style=\"stroke:#181818;stroke-width:0.5;\" x1=\"247\" x2=\"373\" y1=\"432.2656\" y2=\"432.2656\"/></g></a><!--MD5=[270fce915f116d4de14055a7c1d9a0f3]\n",
       "class E5--><a href=\"psysml:538ece1f-cb66-4e09-817f-0abcddd62ddd\" target=\"_top\" title=\"psysml:538ece1f-cb66-4e09-817f-0abcddd62ddd\" xlink:actuate=\"onRequest\" xlink:href=\"psysml:538ece1f-cb66-4e09-817f-0abcddd62ddd\" xlink:show=\"new\" xlink:title=\"psysml:538ece1f-cb66-4e09-817f-0abcddd62ddd\" xlink:type=\"simple\"><g id=\"elem_E5\"><rect fill=\"#FFFACD\" filter=\"url(#fh1qz4u0xnbfl)\" height=\"91.3781\" id=\"E5\" rx=\"10\" ry=\"10\" style=\"stroke:#181818;stroke-width:0.5;\" width=\"277\" x=\"259.5\" y=\"41\"/><text fill=\"#000000\" font-family=\"sans-serif\" font-size=\"12\" font-style=\"italic\" lengthAdjust=\"spacing\" textLength=\"64\" x=\"366\" y=\"57.1387\">«analysis»</text><text fill=\"#000000\" font-family=\"sans-serif\" font-size=\"14\" lengthAdjust=\"spacing\" textLength=\"215\" x=\"286.5\" y=\"72.9639\">engineTradeStudy: TradeStudy</text><line style=\"stroke:#181818;stroke-width:0.5;\" x1=\"260.5\" x2=\"535.5\" y1=\"81.2656\" y2=\"81.2656\"/><text fill=\"#000000\" font-family=\"sans-serif\" font-size=\"14\" lengthAdjust=\"spacing\" textLength=\"261\" x=\"265.5\" y=\"108.7795\">studyAlternatives: Engine = (engine1,</text><text fill=\"#000000\" font-family=\"sans-serif\" font-size=\"14\" lengthAdjust=\"spacing\" textLength=\"62\" x=\"265.5\" y=\"125.0764\">engine2)</text><text fill=\"#000000\" font-family=\"sans-serif\" font-size=\"14\" font-style=\"italic\" lengthAdjust=\"spacing\" textLength=\"51\" x=\"372.5\" y=\"93.6123\">subject</text></g></a><!--MD5=[60a26617385b1d2d0262a64233df1f8d]\n",
       "class E6--><a href=\"psysml:4f755969-6586-456d-bfaa-2c124f0f3312\" target=\"_top\" title=\"psysml:4f755969-6586-456d-bfaa-2c124f0f3312\" xlink:actuate=\"onRequest\" xlink:href=\"psysml:4f755969-6586-456d-bfaa-2c124f0f3312\" xlink:show=\"new\" xlink:title=\"psysml:4f755969-6586-456d-bfaa-2c124f0f3312\" xlink:type=\"simple\"><g id=\"elem_E6\"><rect fill=\"#FFFACD\" filter=\"url(#fh1qz4u0xnbfl)\" height=\"75.0813\" id=\"E6\" rx=\"10\" ry=\"10\" style=\"stroke:#181818;stroke-width:0.5;\" width=\"289\" x=\"31.5\" y=\"209\"/><text fill=\"#000000\" font-family=\"sans-serif\" font-size=\"12\" font-style=\"italic\" lengthAdjust=\"spacing\" textLength=\"91\" x=\"130.5\" y=\"225.1387\">«requirement»</text><text fill=\"#000000\" font-family=\"sans-serif\" font-size=\"14\" lengthAdjust=\"spacing\" textLength=\"275\" x=\"34.5\" y=\"240.9639\">tradeStudyObjective: MaximizeObjective</text><line style=\"stroke:#181818;stroke-width:0.5;\" x1=\"32.5\" x2=\"319.5\" y1=\"249.2656\" y2=\"249.2656\"/><text fill=\"#000000\" font-family=\"sans-serif\" font-size=\"14\" lengthAdjust=\"spacing\" textLength=\"132\" x=\"37.5\" y=\"276.7795\">selectedAlternative</text><text fill=\"#000000\" font-family=\"sans-serif\" font-size=\"14\" font-style=\"italic\" lengthAdjust=\"spacing\" textLength=\"51\" x=\"150.5\" y=\"261.6123\">subject</text></g></a><!--MD5=[2156ba9850f5573cc1fc38a6a4b2f02b]\n",
       "class E7--><a href=\"psysml:f253b0d3-72ce-4ec1-aa97-c21cff35f053\" target=\"_top\" title=\"psysml:f253b0d3-72ce-4ec1-aa97-c21cff35f053\" xlink:actuate=\"onRequest\" xlink:href=\"psysml:f253b0d3-72ce-4ec1-aa97-c21cff35f053\" xlink:show=\"new\" xlink:title=\"psysml:f253b0d3-72ce-4ec1-aa97-c21cff35f053\" xlink:type=\"simple\"><g id=\"elem_E7\"><rect fill=\"#FFFACD\" filter=\"url(#fh1qz4u0xnbfl)\" height=\"48.2656\" id=\"E7\" rx=\"10\" ry=\"10\" style=\"stroke:#181818;stroke-width:0.5;\" width=\"144\" x=\"355\" y=\"222.5\"/><text fill=\"#000000\" font-family=\"sans-serif\" font-size=\"12\" font-style=\"italic\" lengthAdjust=\"spacing\" textLength=\"82\" x=\"386\" y=\"238.6387\">«calculation»</text><text fill=\"#000000\" font-family=\"sans-serif\" font-size=\"14\" lengthAdjust=\"spacing\" textLength=\"130\" x=\"358\" y=\"254.4639\">evaluationFunction</text><line style=\"stroke:#181818;stroke-width:0.5;\" x1=\"356\" x2=\"498\" y1=\"262.7656\" y2=\"262.7656\"/></g></a><!--MD5=[b9389687b975829384b498ac4b7476b2]\n",
       "class E8--><a href=\"psysml:753de58d-f4ea-44a5-91ee-5ffc5e7a177d\" target=\"_top\" title=\"psysml:753de58d-f4ea-44a5-91ee-5ffc5e7a177d\" xlink:actuate=\"onRequest\" xlink:href=\"psysml:753de58d-f4ea-44a5-91ee-5ffc5e7a177d\" xlink:show=\"new\" xlink:title=\"psysml:753de58d-f4ea-44a5-91ee-5ffc5e7a177d\" xlink:type=\"simple\"><g id=\"elem_E8\"><rect fill=\"#FFFACD\" filter=\"url(#fh1qz4u0xnbfl)\" height=\"48.2656\" id=\"E8\" rx=\"10\" ry=\"10\" style=\"stroke:#181818;stroke-width:0.5;\" width=\"142\" x=\"32\" y=\"392\"/><text fill=\"#000000\" font-family=\"sans-serif\" font-size=\"12\" font-style=\"italic\" lengthAdjust=\"spacing\" textLength=\"40\" x=\"83\" y=\"408.1387\">«part»</text><text fill=\"#000000\" font-family=\"sans-serif\" font-size=\"14\" lengthAdjust=\"spacing\" textLength=\"128\" x=\"35\" y=\"423.9639\">alternative: Engine</text><line style=\"stroke:#181818;stroke-width:0.5;\" x1=\"33\" x2=\"173\" y1=\"432.2656\" y2=\"432.2656\"/></g></a><!--MD5=[fd4143e9d270a159db93a4ea2a975926]\n",
       "class E9--><a href=\"psysml:76ff8411-b0e7-4dd9-89c0-3f2666988fc0\" target=\"_top\" title=\"psysml:76ff8411-b0e7-4dd9-89c0-3f2666988fc0\" xlink:actuate=\"onRequest\" xlink:href=\"psysml:76ff8411-b0e7-4dd9-89c0-3f2666988fc0\" xlink:show=\"new\" xlink:title=\"psysml:76ff8411-b0e7-4dd9-89c0-3f2666988fc0\" xlink:type=\"simple\"><g id=\"elem_E9\"><rect fill=\"#FFFACD\" filter=\"url(#fh1qz4u0xnbfl)\" height=\"48.2656\" id=\"E9\" rx=\"10\" ry=\"10\" style=\"stroke:#181818;stroke-width:0.5;\" width=\"203\" x=\"277.5\" y=\"314\"/><text fill=\"#000000\" font-family=\"sans-serif\" font-size=\"12\" font-style=\"italic\" lengthAdjust=\"spacing\" textLength=\"40\" x=\"359\" y=\"330.1387\">«part»</text><text fill=\"#000000\" font-family=\"sans-serif\" font-size=\"14\" lengthAdjust=\"spacing\" textLength=\"189\" x=\"280.5\" y=\"345.9639\">selectedAlternative: Engine</text><line style=\"stroke:#181818;stroke-width:0.5;\" x1=\"278.5\" x2=\"479.5\" y1=\"354.2656\" y2=\"354.2656\"/></g></a><!--MD5=[05d275557350bfb9b23a4ef7222b4c39]\n",
       "link E3 to E2--><g id=\"link_E3_E2\"><a href=\"psysml:bc3cf079-eae7-49ce-b297-ec132a977e50\" target=\"_top\" title=\"psysml:bc3cf079-eae7-49ce-b297-ec132a977e50\" xlink:actuate=\"onRequest\" xlink:href=\"psysml:bc3cf079-eae7-49ce-b297-ec132a977e50\" xlink:show=\"new\" xlink:title=\"psysml:bc3cf079-eae7-49ce-b297-ec132a977e50\" xlink:type=\"simple\"><path d=\"M422.08,440.09 C383.28,457.68 329.98,481.84 290.54,499.73 \" fill=\"none\" id=\"E3-to-E2\" style=\"stroke:#181818;stroke-width:1.0;\"/><polygon fill=\"#FFFFFF\" points=\"272.15,508.07,286.5646,493.8497,292.3451,506.6006,272.15,508.07\" style=\"stroke:#181818;stroke-width:1.0;\"/><ellipse cx=\"292.5819\" cy=\"493.3178\" fill=\"#181818\" rx=\"2\" ry=\"2\" style=\"stroke:#181818;stroke-width:1.0;\"/><ellipse cx=\"296.7108\" cy=\"502.4256\" fill=\"#181818\" rx=\"2\" ry=\"2\" style=\"stroke:#181818;stroke-width:1.0;\"/></a></g><!--MD5=[185131fc0dcab0a4505a2ebe144e961b]\n",
       "link E4 to E2--><g id=\"link_E4_E2\"><a href=\"psysml:aa1a99dc-dc69-45ac-b95f-3bcc471ea5d4\" target=\"_top\" title=\"psysml:aa1a99dc-dc69-45ac-b95f-3bcc471ea5d4\" xlink:actuate=\"onRequest\" xlink:href=\"psysml:aa1a99dc-dc69-45ac-b95f-3bcc471ea5d4\" xlink:show=\"new\" xlink:title=\"psysml:aa1a99dc-dc69-45ac-b95f-3bcc471ea5d4\" xlink:type=\"simple\"><path d=\"M294.16,440.22 C285.45,452.98 274.41,469.16 264.36,483.9 \" fill=\"none\" id=\"E4-to-E2\" style=\"stroke:#181818;stroke-width:1.0;\"/><polygon fill=\"#FFFFFF\" points=\"252.81,500.83,257.7393,481.1907,269.3027,489.083,252.81,500.83\" style=\"stroke:#181818;stroke-width:1.0;\"/><ellipse cx=\"262.6045\" cy=\"477.6102\" fill=\"#181818\" rx=\"2\" ry=\"2\" style=\"stroke:#181818;stroke-width:1.0;\"/><ellipse cx=\"270.8641\" cy=\"483.2476\" fill=\"#181818\" rx=\"2\" ry=\"2\" style=\"stroke:#181818;stroke-width:1.0;\"/></a></g><!--MD5=[9120cf2e5df3bff93db8f754bbbc09b4]\n",
       "link E5 to E6--><g id=\"link_E5_E6\"><a href=\"psysml:8e017d7e-1da3-4c9b-9b63-350890040555\" target=\"_top\" title=\"psysml:8e017d7e-1da3-4c9b-9b63-350890040555\" xlink:actuate=\"onRequest\" xlink:href=\"psysml:8e017d7e-1da3-4c9b-9b63-350890040555\" xlink:show=\"new\" xlink:title=\"psysml:8e017d7e-1da3-4c9b-9b63-350890040555\" xlink:type=\"simple\"><path d=\"M335.27,132.14 C303.43,154.8 265.01,182.15 233.88,204.31 \" fill=\"none\" id=\"E5-to-E6\" style=\"stroke:#181818;stroke-width:1.0;\"/><polygon fill=\"#181818\" points=\"227.35,208.95,235.6091,206.7619,232.1338,201.8708,227.35,208.95\" style=\"stroke:#181818;stroke-width:1.0;\"/><text fill=\"#000000\" font-family=\"sans-serif\" font-size=\"13\" lengthAdjust=\"spacing\" textLength=\"73\" x=\"288\" y=\"175.0669\">«objective»</text></a></g><!--MD5=[452b418e7f8a40397a49b8c0a78acc5b]\n",
       "reverse link E5 to E7--><g id=\"link_E5_E7\"><a href=\"psysml:ae0ddffd-d94b-4ee5-a4cb-a499b90c2b96\" target=\"_top\" title=\"psysml:ae0ddffd-d94b-4ee5-a4cb-a499b90c2b96\" xlink:actuate=\"onRequest\" xlink:href=\"psysml:ae0ddffd-d94b-4ee5-a4cb-a499b90c2b96\" xlink:show=\"new\" xlink:title=\"psysml:ae0ddffd-d94b-4ee5-a4cb-a499b90c2b96\" xlink:type=\"simple\"><path d=\"M408.58,145.15 C413.49,171.92 419.06,202.22 422.77,222.46 \" fill=\"none\" id=\"E5-backto-E7\" style=\"stroke:#181818;stroke-width:1.0;\"/><polygon fill=\"#181818\" points=\"406.23,132.35,403.3769,138.9727,408.3929,144.1535,411.2459,137.5308,406.23,132.35\" style=\"stroke:#181818;stroke-width:1.0;\"/></a></g><!--MD5=[dc164f5e8a733ab456ef1add180e9e34]\n",
       "reverse link E7 to E8--><g id=\"link_E7_E8\"><a href=\"psysml:a8c82a2a-741b-4fac-ac9b-98beb228d3cb\" target=\"_top\" title=\"psysml:a8c82a2a-741b-4fac-ac9b-98beb228d3cb\" xlink:actuate=\"onRequest\" xlink:href=\"psysml:a8c82a2a-741b-4fac-ac9b-98beb228d3cb\" xlink:show=\"new\" xlink:title=\"psysml:a8c82a2a-741b-4fac-ac9b-98beb228d3cb\" xlink:type=\"simple\"><path d=\"M358.87,275.62 C351.83,278.47 344.78,281.31 338,284 C303.48,297.71 293.12,297.2 260,314 C214.48,337.09 165.54,370 134.62,391.9 \" fill=\"none\" id=\"E7-backto-E8\" style=\"stroke:#181818;stroke-width:1.0;\"/><polygon fill=\"none\" points=\"371.05,270.66,363.9849,269.2162,359.9348,275.1825,366.9999,276.6263,371.05,270.66\" style=\"stroke:#181818;stroke-width:1.0;\"/></a></g><!--MD5=[f1f3f9f2fc535e6147756cb86a7f2e32]\n",
       "link E8 to E2--><g id=\"link_E8_E2\"><a href=\"psysml:199cdd6b-9599-4ee9-8d7a-04a31416ec15\" target=\"_top\" title=\"psysml:199cdd6b-9599-4ee9-8d7a-04a31416ec15\" xlink:actuate=\"onRequest\" xlink:href=\"psysml:199cdd6b-9599-4ee9-8d7a-04a31416ec15\" xlink:show=\"new\" xlink:title=\"psysml:199cdd6b-9599-4ee9-8d7a-04a31416ec15\" xlink:type=\"simple\"><path d=\"M132.08,440.22 C149.64,454.24 172.38,472.4 192.2,488.22 \" fill=\"none\" id=\"E8-to-E2\" style=\"stroke:#181818;stroke-width:1.0;\"/><polygon fill=\"#FFFFFF\" points=\"207.98,500.83,188.7663,494.4397,197.5048,483.5017,207.98,500.83\" style=\"stroke:#181818;stroke-width:1.0;\"/><ellipse cx=\"185.5614\" cy=\"489.3194\" fill=\"#181818\" rx=\"2\" ry=\"2\" style=\"stroke:#181818;stroke-width:1.0;\"/><ellipse cx=\"191.8031\" cy=\"481.5065\" fill=\"#181818\" rx=\"2\" ry=\"2\" style=\"stroke:#181818;stroke-width:1.0;\"/></a></g><!--MD5=[9ae28de373ca99bb8a1b38d63370ca7e]\n",
       "reverse link E5 to E9--><g id=\"link_E5_E9\"><a href=\"psysml:549a8511-5afb-4107-9df8-0f136ad572ec\" target=\"_top\" title=\"psysml:549a8511-5afb-4107-9df8-0f136ad572ec\" xlink:actuate=\"onRequest\" xlink:href=\"psysml:549a8511-5afb-4107-9df8-0f136ad572ec\" xlink:show=\"new\" xlink:title=\"psysml:549a8511-5afb-4107-9df8-0f136ad572ec\" xlink:type=\"simple\"><path d=\"M465.82,140.94 C508.28,181.06 549.34,236.94 517,284 C507.92,297.22 495.04,307.14 480.77,314.59 \" fill=\"none\" id=\"E5-backto-E9\" style=\"stroke:#181818;stroke-width:1.0;\"/><polygon fill=\"none\" points=\"456.19,132.12,457.9105,139.1228,465.0364,140.2281,463.3159,133.2253,456.19,132.12\" style=\"stroke:#181818;stroke-width:1.0;\"/></a></g><!--MD5=[5c3bb36fe832a92c7f0e1807dd65209d]\n",
       "link E9 to E2--><g id=\"link_E9_E2\"><a href=\"psysml:94a3a0b9-9284-4132-a69a-1dbd276e1390\" target=\"_top\" title=\"psysml:94a3a0b9-9284-4132-a69a-1dbd276e1390\" xlink:actuate=\"onRequest\" xlink:href=\"psysml:94a3a0b9-9284-4132-a69a-1dbd276e1390\" xlink:show=\"new\" xlink:title=\"psysml:94a3a0b9-9284-4132-a69a-1dbd276e1390\" xlink:type=\"simple\"><path d=\"M277.25,355.97 C258.31,363.85 240.8,375.31 229,392 C210.88,417.62 214.39,453.5 221.59,481.39 \" fill=\"none\" id=\"E9-to-E2\" style=\"stroke:#181818;stroke-width:1.0;\"/><polygon fill=\"#FFFFFF\" points=\"227.53,500.86,215.2849,484.7337,228.6742,480.6439,227.53,500.86\" style=\"stroke:#181818;stroke-width:1.0;\"/><ellipse cx=\"215.5325\" cy=\"478.6981\" fill=\"#181818\" rx=\"2\" ry=\"2\" style=\"stroke:#181818;stroke-width:1.0;\"/><ellipse cx=\"225.0963\" cy=\"475.7768\" fill=\"#181818\" rx=\"2\" ry=\"2\" style=\"stroke:#181818;stroke-width:1.0;\"/></a></g><!--MD5=[0ea731eda44cb83ddea6eba21a1fa90d]\n",
       "@startuml\r\n",
       "skin sysmlc\r\n",
       "skinparam wrapWidth 300\r\n",
       "hide circle\r\n",
       "\r\n",
       "package \"TradeStudyTest\" as E1  [[psysml:a91f55f8-3969-42e6-b46f-82de9da3fdc7 ]]  {\r\n",
       "comp def \"Engine\" as E2  <<(T,blue) part  def>> [[psysml:8055cf29-c4ca-4370-b025-bca5bf4f4944 ]] {\r\n",
       "}\r\n",
       "comp usage \"engine1: Engine  \" as E3  <<(T,blue) part>> [[psysml:479197b1-ce2e-480f-b2ef-7f257dc343b8 ]] {\r\n",
       "}\r\n",
       "comp usage \"engine2: Engine  \" as E4  <<(T,blue) part>> [[psysml:df8f9049-6917-4fa7-a1c9-f212538c9a4e ]] {\r\n",
       "}\r\n",
       "comp usage \"engineTradeStudy: TradeStudy  \" as E5  << analysis>> [[psysml:538ece1f-cb66-4e09-817f-0abcddd62ddd ]] {\r\n",
       "##//subject//##\r\n",
       "studyAlternatives: Engine <U+003D> (engine1, engine2)\r\n",
       "}\r\n",
       "comp usage \"tradeStudyObjective: MaximizeObjective  \" as E6  <<(T,blue) requirement>> [[psysml:4f755969-6586-456d-bfaa-2c124f0f3312 ]] {\r\n",
       "##//subject//##\r\n",
       "selectedAlternative\r\n",
       "}\r\n",
       "comp usage \"evaluationFunction  \" as E7  <<(T,blue) calculation>> [[psysml:f253b0d3-72ce-4ec1-aa97-c21cff35f053 ]] {\r\n",
       "}\r\n",
       "comp usage \"alternative: Engine  \" as E8  <<(T,blue) part>> [[psysml:753de58d-f4ea-44a5-91ee-5ffc5e7a177d ]] {\r\n",
       "}\r\n",
       "comp usage \"selectedAlternative: Engine  \" as E9  <<(T,blue) part>> [[psysml:76ff8411-b0e7-4dd9-89c0-3f2666988fc0 ]] {\r\n",
       "}\r\n",
       "}\r\n",
       "E3 - -:|> E2 [[psysml:bc3cf079-eae7-49ce-b297-ec132a977e50 ]] \r\n",
       "E4 - -:|> E2 [[psysml:aa1a99dc-dc69-45ac-b95f-3bcc471ea5d4 ]] \r\n",
       "E5 - ->> E6 [[psysml:8e017d7e-1da3-4c9b-9b63-350890040555 ]] : <<objective>>\r\n",
       "E5 *- - E7 [[psysml:ae0ddffd-d94b-4ee5-a4cb-a499b90c2b96 ]] \r\n",
       "E7 o- - E8 [[psysml:a8c82a2a-741b-4fac-ac9b-98beb228d3cb ]] \r\n",
       "E8 - -:|> E2 [[psysml:199cdd6b-9599-4ee9-8d7a-04a31416ec15 ]] \r\n",
       "E5 o- - E9 [[psysml:549a8511-5afb-4107-9df8-0f136ad572ec ]] \r\n",
       "E9 - -:|> E2 [[psysml:94a3a0b9-9284-4132-a69a-1dbd276e1390 ]] \r\n",
       "@enduml\r\n",
       "\n",
       "PlantUML version 1.2022.7(Mon Aug 22 17:01:30 UTC 2022)\n",
       "(EPL source distribution)\n",
       "Java Runtime: OpenJDK Runtime Environment\n",
       "JVM: OpenJDK 64-Bit Server VM\n",
       "Default Encoding: UTF-8\n",
       "Language: en\n",
       "Country: null\n",
       "--></g></svg>"
      ]
     },
     "execution_count": 24,
     "metadata": {},
     "output_type": "execute_result"
    }
   ],
   "source": [
    "%viz --style=\"STDCOLOR\" --view=\"Tree\" \"TradeStudyTest\""
   ]
  },
  {
   "cell_type": "code",
   "execution_count": 25,
   "id": "19f52d95",
   "metadata": {
    "execution": {
     "iopub.execute_input": "2024-12-16T14:21:08.867175Z",
     "iopub.status.busy": "2024-12-16T14:21:08.866924Z",
     "iopub.status.idle": "2024-12-16T14:21:08.872948Z",
     "shell.execute_reply": "2024-12-16T14:21:08.872773Z"
    }
   },
   "outputs": [
    {
     "data": {
      "image/svg+xml": [
       "<?xml version=\"1.0\" encoding=\"UTF-8\" standalone=\"no\"?><svg xmlns=\"http://www.w3.org/2000/svg\" xmlns:xlink=\"http://www.w3.org/1999/xlink\" contentStyleType=\"text/css\" height=\"10px\" preserveAspectRatio=\"none\" style=\"width:10px;height:10px;background:#FFFFFF;\" version=\"1.1\" viewBox=\"0 0 10 10\" width=\"10px\" zoomAndPan=\"magnify\"><defs/><g><!--MD5=[a1048f16c75022af837d4b7065e6f600]\n",
       "@startuml\r\n",
       "skin sysmlc\r\n",
       "skinparam wrapWidth 300\r\n",
       "hide circle\r\n",
       "\r\n",
       "@enduml\r\n",
       "\n",
       "PlantUML version 1.2022.7(Mon Aug 22 17:01:30 UTC 2022)\n",
       "(EPL source distribution)\n",
       "Java Runtime: OpenJDK Runtime Environment\n",
       "JVM: OpenJDK 64-Bit Server VM\n",
       "Default Encoding: UTF-8\n",
       "Language: en\n",
       "Country: null\n",
       "--></g></svg>"
      ]
     },
     "execution_count": 25,
     "metadata": {},
     "output_type": "execute_result"
    }
   ],
   "source": [
    "%viz --style=\"STDCOLOR\" --view=\"State\" \"TradeStudyTest\""
   ]
  },
  {
   "cell_type": "code",
   "execution_count": 26,
   "id": "e0942b3c",
   "metadata": {
    "execution": {
     "iopub.execute_input": "2024-12-16T14:21:08.928885Z",
     "iopub.status.busy": "2024-12-16T14:21:08.928673Z",
     "iopub.status.idle": "2024-12-16T14:21:08.954225Z",
     "shell.execute_reply": "2024-12-16T14:21:08.953323Z"
    }
   },
   "outputs": [
    {
     "data": {
      "image/svg+xml": [
       "<?xml version=\"1.0\" encoding=\"UTF-8\" standalone=\"no\"?><svg xmlns=\"http://www.w3.org/2000/svg\" xmlns:xlink=\"http://www.w3.org/1999/xlink\" contentStyleType=\"text/css\" height=\"415px\" preserveAspectRatio=\"none\" style=\"width:565px;height:415px;background:#FFFFFF;\" version=\"1.1\" viewBox=\"0 0 565 415\" width=\"565px\" zoomAndPan=\"magnify\"><defs><filter height=\"300%\" id=\"f12jh8kqwmb2r3\" width=\"300%\" x=\"-1\" y=\"-1\"><feGaussianBlur result=\"blurOut\" stdDeviation=\"2.0\"/><feColorMatrix in=\"blurOut\" result=\"blurOut2\" type=\"matrix\" values=\"0 0 0 0 0 0 0 0 0 0 0 0 0 0 0 0 0 0 .4 0\"/><feOffset dx=\"4.0\" dy=\"4.0\" in=\"blurOut2\" result=\"blurOut3\"/><feBlend in=\"SourceGraphic\" in2=\"blurOut3\" mode=\"normal\"/></filter></defs><g><!--MD5=[fbc87193dbaf4d95561dea2c320d4a47]\n",
       "cluster E1--><g id=\"cluster_E1\"><a href=\"psysml:a91f55f8-3969-42e6-b46f-82de9da3fdc7\" target=\"_top\" title=\"psysml:a91f55f8-3969-42e6-b46f-82de9da3fdc7\" xlink:actuate=\"onRequest\" xlink:href=\"psysml:a91f55f8-3969-42e6-b46f-82de9da3fdc7\" xlink:show=\"new\" xlink:title=\"psysml:a91f55f8-3969-42e6-b46f-82de9da3fdc7\" xlink:type=\"simple\"><polygon fill=\"none\" filter=\"url(#f12jh8kqwmb2r3)\" points=\"16,6,138.125,6,145.125,28.2969,548,28.2969,548,408,16,408,16,6\" style=\"stroke:#000000;stroke-width:1.5;\"/><line style=\"stroke:#000000;stroke-width:1.5;\" x1=\"16\" x2=\"145.125\" y1=\"28.2969\" y2=\"28.2969\"/><text fill=\"#000000\" font-family=\"sans-serif\" font-size=\"14\" font-weight=\"bold\" lengthAdjust=\"spacing\" textLength=\"116.125\" x=\"20\" y=\"20.9951\">TradeStudyTest</text></a></g><!--MD5=[de5ec2e2e8f62f467e546659f5068c88]\n",
       "cluster E5--><g id=\"cluster_E5\"><a href=\"psysml:538ece1f-cb66-4e09-817f-0abcddd62ddd\" target=\"_top\" title=\"psysml:538ece1f-cb66-4e09-817f-0abcddd62ddd\" xlink:actuate=\"onRequest\" xlink:href=\"psysml:538ece1f-cb66-4e09-817f-0abcddd62ddd\" xlink:show=\"new\" xlink:title=\"psysml:538ece1f-cb66-4e09-817f-0abcddd62ddd\" xlink:type=\"simple\"><rect fill=\"#FFFFFF\" filter=\"url(#f12jh8kqwmb2r3)\" height=\"158\" id=\"E5\" rx=\"10\" ry=\"10\" style=\"stroke:#A80036;stroke-width:1.5;\" width=\"250\" x=\"231\" y=\"57\"/><rect fill=\"#FFFACD\" height=\"40.2656\" rx=\"10\" ry=\"10\" style=\"stroke:#FFFACD;stroke-width:1.5;\" width=\"250\" x=\"231\" y=\"57\"/><rect fill=\"#FFFACD\" height=\"10\" style=\"stroke:#FFFACD;stroke-width:1.5;\" width=\"250\" x=\"231\" y=\"87.2656\"/><rect fill=\"none\" height=\"158\" id=\"E5\" rx=\"10\" ry=\"10\" style=\"stroke:#A80036;stroke-width:1.5;\" width=\"250\" x=\"231\" y=\"57\"/><text fill=\"#000000\" font-family=\"sans-serif\" font-size=\"12\" font-style=\"italic\" lengthAdjust=\"spacing\" textLength=\"64\" x=\"324\" y=\"73.1387\">«analysis»</text><text fill=\"#000000\" font-family=\"sans-serif\" font-size=\"14\" lengthAdjust=\"spacing\" textLength=\"215\" x=\"244.5\" y=\"88.9639\">engineTradeStudy: TradeStudy</text><line style=\"stroke:#A80036;stroke-width:1.0;\" x1=\"231\" x2=\"481\" y1=\"97.2656\" y2=\"97.2656\"/></a></g><!--MD5=[2156ba9850f5573cc1fc38a6a4b2f02b]\n",
       "class E7--><a href=\"psysml:f253b0d3-72ce-4ec1-aa97-c21cff35f053\" target=\"_top\" title=\"psysml:f253b0d3-72ce-4ec1-aa97-c21cff35f053\" xlink:actuate=\"onRequest\" xlink:href=\"psysml:f253b0d3-72ce-4ec1-aa97-c21cff35f053\" xlink:show=\"new\" xlink:title=\"psysml:f253b0d3-72ce-4ec1-aa97-c21cff35f053\" xlink:type=\"simple\"><g id=\"elem_E7\"><rect fill=\"#FFFACD\" filter=\"url(#f12jh8kqwmb2r3)\" height=\"48.2656\" id=\"E7\" rx=\"10\" ry=\"10\" style=\"stroke:#181818;stroke-width:0.5;\" width=\"144\" x=\"150\" y=\"239\"/><text fill=\"#000000\" font-family=\"sans-serif\" font-size=\"12\" font-style=\"italic\" lengthAdjust=\"spacing\" textLength=\"82\" x=\"181\" y=\"255.1387\">«calculation»</text><text fill=\"#000000\" font-family=\"sans-serif\" font-size=\"14\" lengthAdjust=\"spacing\" textLength=\"130\" x=\"153\" y=\"270.9639\">evaluationFunction</text><line style=\"stroke:#181818;stroke-width:0.5;\" x1=\"151\" x2=\"293\" y1=\"279.2656\" y2=\"279.2656\"/></g></a><!--MD5=[b9389687b975829384b498ac4b7476b2]\n",
       "class E8--><a href=\"psysml:753de58d-f4ea-44a5-91ee-5ffc5e7a177d\" target=\"_top\" title=\"psysml:753de58d-f4ea-44a5-91ee-5ffc5e7a177d\" xlink:actuate=\"onRequest\" xlink:href=\"psysml:753de58d-f4ea-44a5-91ee-5ffc5e7a177d\" xlink:show=\"new\" xlink:title=\"psysml:753de58d-f4ea-44a5-91ee-5ffc5e7a177d\" xlink:type=\"simple\"><g id=\"elem_E8\"><rect fill=\"#FFFACD\" filter=\"url(#f12jh8kqwmb2r3)\" height=\"34.2969\" id=\"E8\" rx=\"10\" ry=\"10\" style=\"stroke:#181818;stroke-width:0.5;\" width=\"142\" x=\"353\" y=\"300\"/><text fill=\"#000000\" font-family=\"sans-serif\" font-size=\"14\" lengthAdjust=\"spacing\" textLength=\"128\" x=\"356\" y=\"317.9951\">alternative: Engine</text><line style=\"stroke:#181818;stroke-width:0.5;\" x1=\"354\" x2=\"494\" y1=\"326.2969\" y2=\"326.2969\"/></g></a><!--MD5=[fd4143e9d270a159db93a4ea2a975926]\n",
       "class E9--><a href=\"psysml:76ff8411-b0e7-4dd9-89c0-3f2666988fc0\" target=\"_top\" title=\"psysml:76ff8411-b0e7-4dd9-89c0-3f2666988fc0\" xlink:actuate=\"onRequest\" xlink:href=\"psysml:76ff8411-b0e7-4dd9-89c0-3f2666988fc0\" xlink:show=\"new\" xlink:title=\"psysml:76ff8411-b0e7-4dd9-89c0-3f2666988fc0\" xlink:type=\"simple\"><g id=\"elem_E9\"><rect fill=\"#FFFACD\" filter=\"url(#f12jh8kqwmb2r3)\" height=\"34.2969\" id=\"E9\" rx=\"10\" ry=\"10\" style=\"stroke:#181818;stroke-width:0.5;\" width=\"203\" x=\"329.5\" y=\"246\"/><text fill=\"#000000\" font-family=\"sans-serif\" font-size=\"14\" lengthAdjust=\"spacing\" textLength=\"189\" x=\"332.5\" y=\"263.9951\">selectedAlternative: Engine</text><line style=\"stroke:#181818;stroke-width:0.5;\" x1=\"330.5\" x2=\"531.5\" y1=\"272.2969\" y2=\"272.2969\"/></g></a><g><a href=\"psysml:8055cf29-c4ca-4370-b025-bca5bf4f4944\" target=\"_top\" title=\"psysml:8055cf29-c4ca-4370-b025-bca5bf4f4944\" xlink:actuate=\"onRequest\" xlink:href=\"psysml:8055cf29-c4ca-4370-b025-bca5bf4f4944\" xlink:show=\"new\" xlink:title=\"psysml:8055cf29-c4ca-4370-b025-bca5bf4f4944\" xlink:type=\"simple\"><rect fill=\"#FFFACD\" filter=\"url(#f12jh8kqwmb2r3)\" height=\"45.2656\" id=\"E2\" style=\"stroke:#A80036;stroke-width:1.5;\" width=\"75\" x=\"301.5\" y=\"347\"/><text fill=\"#000000\" font-family=\"sans-serif\" font-size=\"12\" font-style=\"italic\" lengthAdjust=\"spacing\" textLength=\"68\" x=\"305\" y=\"363.1387\">«part  def»</text><text fill=\"#000000\" font-family=\"sans-serif\" font-size=\"14\" lengthAdjust=\"spacing\" textLength=\"48\" x=\"315\" y=\"378.9639\">Engine</text></a></g><g><a href=\"psysml:479197b1-ce2e-480f-b2ef-7f257dc343b8\" target=\"_top\" title=\"psysml:479197b1-ce2e-480f-b2ef-7f257dc343b8\" xlink:actuate=\"onRequest\" xlink:href=\"psysml:479197b1-ce2e-480f-b2ef-7f257dc343b8\" xlink:show=\"new\" xlink:title=\"psysml:479197b1-ce2e-480f-b2ef-7f257dc343b8\" xlink:type=\"simple\"><rect fill=\"#FFFACD\" filter=\"url(#f12jh8kqwmb2r3)\" height=\"40\" id=\"E3\" rx=\"10\" ry=\"10\" style=\"stroke:#A80036;stroke-width:1.5;\" width=\"125\" x=\"192.5\" y=\"297\"/><text fill=\"#000000\" font-family=\"sans-serif\" font-size=\"14\" lengthAdjust=\"spacing\" textLength=\"114\" x=\"198\" y=\"314.9951\">engine1: Engine</text></a></g><g><a href=\"psysml:df8f9049-6917-4fa7-a1c9-f212538c9a4e\" target=\"_top\" title=\"psysml:df8f9049-6917-4fa7-a1c9-f212538c9a4e\" xlink:actuate=\"onRequest\" xlink:href=\"psysml:df8f9049-6917-4fa7-a1c9-f212538c9a4e\" xlink:show=\"new\" xlink:title=\"psysml:df8f9049-6917-4fa7-a1c9-f212538c9a4e\" xlink:type=\"simple\"><rect fill=\"#FFFACD\" filter=\"url(#f12jh8kqwmb2r3)\" height=\"40\" id=\"E4\" rx=\"10\" ry=\"10\" style=\"stroke:#A80036;stroke-width:1.5;\" width=\"125\" x=\"32.5\" y=\"297\"/><text fill=\"#000000\" font-family=\"sans-serif\" font-size=\"14\" lengthAdjust=\"spacing\" textLength=\"114\" x=\"38\" y=\"314.9951\">engine2: Engine</text></a></g><!--MD5=[60a26617385b1d2d0262a64233df1f8d]\n",
       "class E6--><a href=\"psysml:4f755969-6586-456d-bfaa-2c124f0f3312\" target=\"_top\" title=\"psysml:4f755969-6586-456d-bfaa-2c124f0f3312\" xlink:actuate=\"onRequest\" xlink:href=\"psysml:4f755969-6586-456d-bfaa-2c124f0f3312\" xlink:show=\"new\" xlink:title=\"psysml:4f755969-6586-456d-bfaa-2c124f0f3312\" xlink:type=\"simple\"><g id=\"elem_E6\"><rect fill=\"#FFFACD\" filter=\"url(#f12jh8kqwmb2r3)\" height=\"75.0813\" id=\"E6\" rx=\"10\" ry=\"10\" style=\"stroke:#181818;stroke-width:0.5;\" width=\"145\" x=\"301.5\" y=\"116\"/><text fill=\"#000000\" font-family=\"sans-serif\" font-size=\"12\" font-style=\"italic\" lengthAdjust=\"spacing\" textLength=\"70\" x=\"339\" y=\"132.1387\">«objective»</text><text fill=\"#000000\" font-family=\"sans-serif\" font-size=\"14\" lengthAdjust=\"spacing\" textLength=\"139\" x=\"304.5\" y=\"147.9639\">tradeStudyObjective</text><line style=\"stroke:#181818;stroke-width:0.5;\" x1=\"302.5\" x2=\"445.5\" y1=\"156.2656\" y2=\"156.2656\"/><text fill=\"#000000\" font-family=\"sans-serif\" font-size=\"14\" lengthAdjust=\"spacing\" textLength=\"132\" x=\"307.5\" y=\"183.7795\">selectedAlternative</text><text fill=\"#000000\" font-family=\"sans-serif\" font-size=\"14\" font-style=\"italic\" lengthAdjust=\"spacing\" textLength=\"51\" x=\"348.5\" y=\"168.6123\">subject</text></g></a><!--MD5=[05d275557350bfb9b23a4ef7222b4c39]\n",
       "link E3 to E2--><g id=\"link_E3_E2\"><a href=\"psysml:bc3cf079-eae7-49ce-b297-ec132a977e50\" target=\"_top\" title=\"psysml:bc3cf079-eae7-49ce-b297-ec132a977e50\" xlink:actuate=\"onRequest\" xlink:href=\"psysml:bc3cf079-eae7-49ce-b297-ec132a977e50\" xlink:show=\"new\" xlink:title=\"psysml:bc3cf079-eae7-49ce-b297-ec132a977e50\" xlink:type=\"simple\"><path d=\"M286.76,337.09 C286.92,337.19 287.09,337.29 287.25,337.39 \" fill=\"none\" id=\"E3-to-E2\" style=\"stroke:#181818;stroke-width:1.0;\"/><polygon fill=\"#FFFFFF\" points=\"302.97,346.84,283.0785,343.0548,290.2888,331.0544,302.97,346.84\" style=\"stroke:#181818;stroke-width:1.0;\"/><ellipse cx=\"279.2226\" cy=\"338.4049\" fill=\"#181818\" rx=\"2\" ry=\"2\" style=\"stroke:#181818;stroke-width:1.0;\"/><ellipse cx=\"284.3728\" cy=\"329.8331\" fill=\"#181818\" rx=\"2\" ry=\"2\" style=\"stroke:#181818;stroke-width:1.0;\"/></a></g><!--MD5=[185131fc0dcab0a4505a2ebe144e961b]\n",
       "link E4 to E2--><g id=\"link_E4_E2\"><a href=\"psysml:aa1a99dc-dc69-45ac-b95f-3bcc471ea5d4\" target=\"_top\" title=\"psysml:aa1a99dc-dc69-45ac-b95f-3bcc471ea5d4\" xlink:actuate=\"onRequest\" xlink:href=\"psysml:aa1a99dc-dc69-45ac-b95f-3bcc471ea5d4\" xlink:show=\"new\" xlink:title=\"psysml:aa1a99dc-dc69-45ac-b95f-3bcc471ea5d4\" xlink:type=\"simple\"><path d=\"M157.83,333.19 C163.63,334.51 169.42,335.8 175,337 C210.29,344.58 250.05,352.23 281.58,358.1 \" fill=\"none\" id=\"E4-to-E2\" style=\"stroke:#181818;stroke-width:1.0;\"/><polygon fill=\"#FFFFFF\" points=\"301.45,361.77,281.4974,365.2187,284.0291,351.4495,301.45,361.77\" style=\"stroke:#181818;stroke-width:1.0;\"/><ellipse cx=\"276.253\" cy=\"362.2209\" fill=\"#181818\" rx=\"2\" ry=\"2\" style=\"stroke:#181818;stroke-width:1.0;\"/><ellipse cx=\"278.0614\" cy=\"352.3858\" fill=\"#181818\" rx=\"2\" ry=\"2\" style=\"stroke:#181818;stroke-width:1.0;\"/></a></g><!--MD5=[452b418e7f8a40397a49b8c0a78acc5b]\n",
       "reverse link E5 to E7--><g id=\"link_E5_E7\"><a href=\"psysml:ae0ddffd-d94b-4ee5-a4cb-a499b90c2b96\" target=\"_top\" title=\"psysml:ae0ddffd-d94b-4ee5-a4cb-a499b90c2b96\" xlink:actuate=\"onRequest\" xlink:href=\"psysml:ae0ddffd-d94b-4ee5-a4cb-a499b90c2b96\" xlink:show=\"new\" xlink:title=\"psysml:ae0ddffd-d94b-4ee5-a4cb-a499b90c2b96\" xlink:type=\"simple\"><path d=\"M237.286,215.0586 C237.2396,215.2013 237.1932,215.3439 237.1468,215.4865 C237.0539,215.7716 236.9612,216.0564 236.8686,216.3409 C236.4981,217.4789 236.1292,218.612 235.7626,219.738 C235.0295,221.99 234.3055,224.2138 233.5962,226.3926 C232.1775,230.7502 230.8175,234.9275 229.56,238.79 \" fill=\"none\" id=\"E5-backto-E7\" style=\"stroke:#181818;stroke-width:1.0;\"/><polygon fill=\"#181818\" points=\"237.286,215.0586,231.6251,219.5256,233.5713,226.4692,239.2322,222.0022,237.286,215.0586\" style=\"stroke:#181818;stroke-width:1.0;\"/></a></g><!--MD5=[dc164f5e8a733ab456ef1add180e9e34]\n",
       "reverse link E7 to E8--><g id=\"link_E7_E8\"><a href=\"psysml:a8c82a2a-741b-4fac-ac9b-98beb228d3cb\" target=\"_top\" title=\"psysml:a8c82a2a-741b-4fac-ac9b-98beb228d3cb\" xlink:actuate=\"onRequest\" xlink:href=\"psysml:a8c82a2a-741b-4fac-ac9b-98beb228d3cb\" xlink:show=\"new\" xlink:title=\"psysml:a8c82a2a-741b-4fac-ac9b-98beb228d3cb\" xlink:type=\"simple\"><path d=\"M306.68,285.8 C325.11,290.54 344.29,295.48 361.66,299.95 \" fill=\"none\" id=\"E7-backto-E8\" style=\"stroke:#181818;stroke-width:1.0;\"/><polygon fill=\"none\" points=\"294.07,282.55,298.8822,287.9206,305.6905,285.5441,300.8783,280.1736,294.07,282.55\" style=\"stroke:#181818;stroke-width:1.0;\"/></a></g><!--MD5=[f1f3f9f2fc535e6147756cb86a7f2e32]\n",
       "link E8 to E2--><g id=\"link_E8_E2\"><a href=\"psysml:199cdd6b-9599-4ee9-8d7a-04a31416ec15\" target=\"_top\" title=\"psysml:199cdd6b-9599-4ee9-8d7a-04a31416ec15\" xlink:actuate=\"onRequest\" xlink:href=\"psysml:199cdd6b-9599-4ee9-8d7a-04a31416ec15\" xlink:show=\"new\" xlink:title=\"psysml:199cdd6b-9599-4ee9-8d7a-04a31416ec15\" xlink:type=\"simple\"><path d=\"M396.64,334.26 C395.36,335.01 394.07,335.78 392.76,336.56 \" fill=\"none\" id=\"E8-to-E2\" style=\"stroke:#181818;stroke-width:1.0;\"/><polygon fill=\"#FFFFFF\" points=\"375.31,346.93,388.0569,331.1973,395.2171,343.2277,375.31,346.93\" style=\"stroke:#181818;stroke-width:1.0;\"/><ellipse cx=\"393.9779\" cy=\"330.0007\" fill=\"#181818\" rx=\"2\" ry=\"2\" style=\"stroke:#181818;stroke-width:1.0;\"/><ellipse cx=\"399.0923\" cy=\"338.5939\" fill=\"#181818\" rx=\"2\" ry=\"2\" style=\"stroke:#181818;stroke-width:1.0;\"/></a></g><!--MD5=[9ae28de373ca99bb8a1b38d63370ca7e]\n",
       "reverse link E5 to E9--><g id=\"link_E5_E9\"><a href=\"psysml:549a8511-5afb-4107-9df8-0f136ad572ec\" target=\"_top\" title=\"psysml:549a8511-5afb-4107-9df8-0f136ad572ec\" xlink:actuate=\"onRequest\" xlink:href=\"psysml:549a8511-5afb-4107-9df8-0f136ad572ec\" xlink:show=\"new\" xlink:title=\"psysml:549a8511-5afb-4107-9df8-0f136ad572ec\" xlink:type=\"simple\"><path d=\"M272.3761,215.329 C272.4455,215.4489 272.5152,215.5686 272.5853,215.688 C273.7058,217.6 274.9069,219.4598 276.1942,221.2495 C278.7689,224.8289 281.6888,228.1275 285,231 C287.75,233.39 316.28,239.66 347.4,245.95 \" fill=\"none\" id=\"E5-backto-E9\" style=\"stroke:#181818;stroke-width:1.0;\"/><polygon fill=\"none\" points=\"272.3761,215.329,271.9203,222.5256,278.3881,225.7143,278.8439,218.5177,272.3761,215.329\" style=\"stroke:#181818;stroke-width:1.0;\"/></a></g><!--MD5=[5c3bb36fe832a92c7f0e1807dd65209d]\n",
       "link E9 to E2--><g id=\"link_E9_E2\"><a href=\"psysml:94a3a0b9-9284-4132-a69a-1dbd276e1390\" target=\"_top\" title=\"psysml:94a3a0b9-9284-4132-a69a-1dbd276e1390\" xlink:actuate=\"onRequest\" xlink:href=\"psysml:94a3a0b9-9284-4132-a69a-1dbd276e1390\" xlink:show=\"new\" xlink:title=\"psysml:94a3a0b9-9284-4132-a69a-1dbd276e1390\" xlink:type=\"simple\"><path d=\"M494.53,280.15 C501.8,284.49 508.28,290.01 513,297 C522.95,311.73 524.4,323.36 513,337 C498.3,354.59 441.54,362.38 396.79,365.82 \" fill=\"none\" id=\"E9-to-E2\" style=\"stroke:#181818;stroke-width:1.0;\"/><polygon fill=\"#FFFFFF\" points=\"376.64,367.14,395.1389,358.9066,396.0589,372.8763,376.64,367.14\" style=\"stroke:#181818;stroke-width:1.0;\"/><ellipse cx=\"400.958\" cy=\"360.5277\" fill=\"#181818\" rx=\"2\" ry=\"2\" style=\"stroke:#181818;stroke-width:1.0;\"/><ellipse cx=\"401.6152\" cy=\"370.5061\" fill=\"#181818\" rx=\"2\" ry=\"2\" style=\"stroke:#181818;stroke-width:1.0;\"/></a></g><!--MD5=[240f63701c510cd42b613ae950beb64c]\n",
       "@startuml\r\n",
       "skin sysmlc\r\n",
       "skinparam wrapWidth 300\r\n",
       "hide circle\r\n",
       "skinparam ranksep 10\r\n",
       "skinparam rectangle {\r\n",
       " backgroundColor<<block>> LightGreen\r\n",
       "}\r\n",
       "\r\n",
       "package \"TradeStudyTest\" as E1  [[psysml:a91f55f8-3969-42e6-b46f-82de9da3fdc7 ]]  {\r\n",
       "rec def \"Engine\" as E2  <<(T,blue) part  def>> [[psysml:8055cf29-c4ca-4370-b025-bca5bf4f4944 ]] {\r\n",
       "}\r\n",
       "rec usage \"engine1: Engine\" as E3 [[psysml:479197b1-ce2e-480f-b2ef-7f257dc343b8 ]] {\r\n",
       "}\r\n",
       "rec usage \"engine2: Engine\" as E4 [[psysml:df8f9049-6917-4fa7-a1c9-f212538c9a4e ]] {\r\n",
       "}\r\n",
       "rec usage \"engineTradeStudy: TradeStudy  \" as E5  << analysis>> [[psysml:538ece1f-cb66-4e09-817f-0abcddd62ddd ]] {\r\n",
       "comp usage \"tradeStudyObjective\" as E6  <<objective>> [[psysml:4f755969-6586-456d-bfaa-2c124f0f3312 ]] {\r\n",
       "##//subject//##\r\n",
       "selectedAlternative\r\n",
       "}\r\n",
       "}\r\n",
       "comp usage \"evaluationFunction  \" as E7  <<(T,blue) calculation>> [[psysml:f253b0d3-72ce-4ec1-aa97-c21cff35f053 ]] {\r\n",
       "}\r\n",
       "comp usage \"alternative: Engine  \" as E8 [[psysml:753de58d-f4ea-44a5-91ee-5ffc5e7a177d ]] {\r\n",
       "}\r\n",
       "comp usage \"selectedAlternative: Engine  \" as E9 [[psysml:76ff8411-b0e7-4dd9-89c0-3f2666988fc0 ]] {\r\n",
       "}\r\n",
       "}\r\n",
       "E3 - -:|> E2 [[psysml:bc3cf079-eae7-49ce-b297-ec132a977e50 ]] \r\n",
       "E4 - -:|> E2 [[psysml:aa1a99dc-dc69-45ac-b95f-3bcc471ea5d4 ]] \r\n",
       "E5 *- - E7 [[psysml:ae0ddffd-d94b-4ee5-a4cb-a499b90c2b96 ]] \r\n",
       "E7 o- - E8 [[psysml:a8c82a2a-741b-4fac-ac9b-98beb228d3cb ]] \r\n",
       "E8 - -:|> E2 [[psysml:199cdd6b-9599-4ee9-8d7a-04a31416ec15 ]] \r\n",
       "E5 o- - E9 [[psysml:549a8511-5afb-4107-9df8-0f136ad572ec ]] \r\n",
       "E9 - -:|> E2 [[psysml:94a3a0b9-9284-4132-a69a-1dbd276e1390 ]] \r\n",
       "@enduml\r\n",
       "\n",
       "PlantUML version 1.2022.7(Mon Aug 22 17:01:30 UTC 2022)\n",
       "(EPL source distribution)\n",
       "Java Runtime: OpenJDK Runtime Environment\n",
       "JVM: OpenJDK 64-Bit Server VM\n",
       "Default Encoding: UTF-8\n",
       "Language: en\n",
       "Country: null\n",
       "--></g></svg>"
      ]
     },
     "execution_count": 26,
     "metadata": {},
     "output_type": "execute_result"
    }
   ],
   "source": [
    "%viz --style=\"STDCOLOR\" --view=\"Interconnection\" \"TradeStudyTest\""
   ]
  },
  {
   "cell_type": "code",
   "execution_count": 27,
   "id": "2d83e39e",
   "metadata": {
    "execution": {
     "iopub.execute_input": "2024-12-16T14:21:09.005933Z",
     "iopub.status.busy": "2024-12-16T14:21:09.005701Z",
     "iopub.status.idle": "2024-12-16T14:21:09.022891Z",
     "shell.execute_reply": "2024-12-16T14:21:09.022727Z"
    }
   },
   "outputs": [
    {
     "data": {
      "image/svg+xml": [
       "<?xml version=\"1.0\" encoding=\"UTF-8\" standalone=\"no\"?><svg xmlns=\"http://www.w3.org/2000/svg\" xmlns:xlink=\"http://www.w3.org/1999/xlink\" contentStyleType=\"text/css\" height=\"228px\" preserveAspectRatio=\"none\" style=\"width:448px;height:228px;background:#FFFFFF;\" version=\"1.1\" viewBox=\"0 0 448 228\" width=\"448px\" zoomAndPan=\"magnify\"><defs><filter height=\"300%\" id=\"f15rjonhwjndtb\" width=\"300%\" x=\"-1\" y=\"-1\"><feGaussianBlur result=\"blurOut\" stdDeviation=\"2.0\"/><feColorMatrix in=\"blurOut\" result=\"blurOut2\" type=\"matrix\" values=\"0 0 0 0 0 0 0 0 0 0 0 0 0 0 0 0 0 0 .4 0\"/><feOffset dx=\"4.0\" dy=\"4.0\" in=\"blurOut2\" result=\"blurOut3\"/><feBlend in=\"SourceGraphic\" in2=\"blurOut3\" mode=\"normal\"/></filter></defs><g><!--MD5=[fbc87193dbaf4d95561dea2c320d4a47]\n",
       "cluster E1--><g id=\"cluster_E1\"><a href=\"psysml:538ece1f-cb66-4e09-817f-0abcddd62ddd\" target=\"_top\" title=\"psysml:538ece1f-cb66-4e09-817f-0abcddd62ddd\" xlink:actuate=\"onRequest\" xlink:href=\"psysml:538ece1f-cb66-4e09-817f-0abcddd62ddd\" xlink:show=\"new\" xlink:title=\"psysml:538ece1f-cb66-4e09-817f-0abcddd62ddd\" xlink:type=\"simple\"><rect fill=\"#FFFFFF\" filter=\"url(#f15rjonhwjndtb)\" height=\"174.36\" id=\"E1\" rx=\"10\" ry=\"10\" style=\"stroke:#A80036;stroke-width:1.5;\" width=\"328\" x=\"47\" y=\"42.0986\"/><rect fill=\"#FFFACD\" height=\"40.2656\" rx=\"10\" ry=\"10\" style=\"stroke:#FFFACD;stroke-width:1.5;\" width=\"328\" x=\"47\" y=\"42.0986\"/><rect fill=\"#FFFACD\" height=\"10\" style=\"stroke:#FFFACD;stroke-width:1.5;\" width=\"328\" x=\"47\" y=\"72.3643\"/><rect fill=\"none\" height=\"174.36\" id=\"E1\" rx=\"10\" ry=\"10\" style=\"stroke:#A80036;stroke-width:1.5;\" width=\"328\" x=\"47\" y=\"42.0986\"/><text fill=\"#000000\" font-family=\"sans-serif\" font-size=\"12\" font-style=\"italic\" lengthAdjust=\"spacing\" textLength=\"64\" x=\"179\" y=\"58.2373\">«analysis»</text><text fill=\"#000000\" font-family=\"sans-serif\" font-size=\"14\" lengthAdjust=\"spacing\" textLength=\"127\" x=\"147.5\" y=\"74.0625\">engineTradeStudy</text><line style=\"stroke:#A80036;stroke-width:1.0;\" x1=\"47\" x2=\"375\" y1=\"82.3643\" y2=\"82.3643\"/></a></g><!--MD5=[d5e69f78d87373223dbae638b30a9c99]\n",
       "cluster E3--><g id=\"cluster_E3\"><a href=\"psysml:f253b0d3-72ce-4ec1-aa97-c21cff35f053\" target=\"_top\" title=\"psysml:f253b0d3-72ce-4ec1-aa97-c21cff35f053\" xlink:actuate=\"onRequest\" xlink:href=\"psysml:f253b0d3-72ce-4ec1-aa97-c21cff35f053\" xlink:show=\"new\" xlink:title=\"psysml:f253b0d3-72ce-4ec1-aa97-c21cff35f053\" xlink:type=\"simple\"><rect fill=\"#FFFFFF\" filter=\"url(#f15rjonhwjndtb)\" height=\"104.86\" id=\"E3\" rx=\"10\" ry=\"10\" style=\"stroke:#A80036;stroke-width:1.5;\" width=\"186\" x=\"148\" y=\"81.5986\"/><rect fill=\"#FFFACD\" height=\"40.2656\" rx=\"10\" ry=\"10\" style=\"stroke:#FFFACD;stroke-width:1.5;\" width=\"186\" x=\"148\" y=\"81.5986\"/><rect fill=\"#FFFACD\" height=\"10\" style=\"stroke:#FFFACD;stroke-width:1.5;\" width=\"186\" x=\"148\" y=\"111.8643\"/><rect fill=\"none\" height=\"104.86\" id=\"E3\" rx=\"10\" ry=\"10\" style=\"stroke:#A80036;stroke-width:1.5;\" width=\"186\" x=\"148\" y=\"81.5986\"/><text fill=\"#000000\" font-family=\"sans-serif\" font-size=\"12\" font-style=\"italic\" lengthAdjust=\"spacing\" textLength=\"82\" x=\"200\" y=\"97.7373\">«calculation»</text><text fill=\"#000000\" font-family=\"sans-serif\" font-size=\"14\" lengthAdjust=\"spacing\" textLength=\"130\" x=\"176\" y=\"113.5625\">evaluationFunction</text><line style=\"stroke:#A80036;stroke-width:1.0;\" x1=\"148\" x2=\"334\" y1=\"121.8643\" y2=\"121.8643\"/></a></g><text fill=\"#000000\" font-family=\"sans-serif\" font-size=\"14\" lengthAdjust=\"spacing\" textLength=\"118\" x=\"6\" y=\"20.7969\">studyAlternatives</text><rect fill=\"#FFFACD\" height=\"12\" style=\"stroke:#181818;stroke-width:1.5;\" width=\"12\" x=\"59\" y=\"36.0986\"/><text fill=\"#000000\" font-family=\"sans-serif\" font-size=\"14\" lengthAdjust=\"spacing\" textLength=\"132\" x=\"309\" y=\"183.0938\">selectedAlternative</text><rect fill=\"#FFFACD\" height=\"12\" style=\"stroke:#181818;stroke-width:1.5;\" width=\"12\" x=\"369\" y=\"158.0986\"/><text fill=\"#000000\" font-family=\"sans-serif\" font-size=\"14\" lengthAdjust=\"spacing\" textLength=\"71\" x=\"205.5\" y=\"60.2969\">alternative</text><rect fill=\"#FFFACD\" height=\"12\" style=\"stroke:#181818;stroke-width:1.5;\" width=\"12\" x=\"235\" y=\"75.5986\"/><text fill=\"#000000\" font-family=\"sans-serif\" font-size=\"14\" lengthAdjust=\"spacing\" textLength=\"39\" x=\"221.5\" y=\"205.4538\">result</text><rect fill=\"#FFFACD\" height=\"12\" style=\"stroke:#181818;stroke-width:1.5;\" width=\"12\" x=\"235\" y=\"180.4586\"/><!--MD5=[38041b636ebb4ff73b21415518d7a50c]\n",
       "@startuml\r\n",
       "skin sysmlc\r\n",
       "skinparam wrapWidth 300\r\n",
       "hide circle\r\n",
       "skinparam ranksep 8\r\n",
       "\r\n",
       "rec usage \"engineTradeStudy\" as E1  << analysis>> [[psysml:538ece1f-cb66-4e09-817f-0abcddd62ddd ]] {\r\n",
       "portin \"studyAlternatives\" as E2  [[psysml:44e81398-f8fc-476c-9aa8-f3c568baa242 ]] \r\n",
       "rec usage \"evaluationFunction\" as E3  <<(T,blue) calculation>> [[psysml:f253b0d3-72ce-4ec1-aa97-c21cff35f053 ]] {\r\n",
       "portin \"alternative\" as E4  [[psysml:753de58d-f4ea-44a5-91ee-5ffc5e7a177d ]] \r\n",
       "portout \"result\" as E5  [[psysml:523b4531-6566-4396-be10-86694663e2d0 ]] \r\n",
       "}\r\n",
       "\r\n",
       "portout \"selectedAlternative\" as E6  [[psysml:76ff8411-b0e7-4dd9-89c0-3f2666988fc0 ]] \r\n",
       "}\r\n",
       "\r\n",
       "@enduml\r\n",
       "\n",
       "PlantUML version 1.2022.7(Mon Aug 22 17:01:30 UTC 2022)\n",
       "(EPL source distribution)\n",
       "Java Runtime: OpenJDK Runtime Environment\n",
       "JVM: OpenJDK 64-Bit Server VM\n",
       "Default Encoding: UTF-8\n",
       "Language: en\n",
       "Country: null\n",
       "--></g></svg>"
      ]
     },
     "execution_count": 27,
     "metadata": {},
     "output_type": "execute_result"
    }
   ],
   "source": [
    "%viz --style=\"STDCOLOR\" --view=\"Action\" \"TradeStudyTest\""
   ]
  },
  {
   "cell_type": "code",
   "execution_count": 28,
   "id": "4130bdb7",
   "metadata": {
    "execution": {
     "iopub.execute_input": "2024-12-16T14:21:09.075332Z",
     "iopub.status.busy": "2024-12-16T14:21:09.075107Z",
     "iopub.status.idle": "2024-12-16T14:21:09.081086Z",
     "shell.execute_reply": "2024-12-16T14:21:09.080912Z"
    }
   },
   "outputs": [
    {
     "data": {
      "image/svg+xml": [
       "<?xml version=\"1.0\" encoding=\"UTF-8\" standalone=\"no\"?><svg xmlns=\"http://www.w3.org/2000/svg\" xmlns:xlink=\"http://www.w3.org/1999/xlink\" contentStyleType=\"text/css\" height=\"10px\" preserveAspectRatio=\"none\" style=\"width:10px;height:10px;background:#FFFFFF;\" version=\"1.1\" viewBox=\"0 0 10 10\" width=\"10px\" zoomAndPan=\"magnify\"><defs/><g><!--MD5=[e54413e611bf323face5c486cd3a32bb]\n",
       "@startuml\r\n",
       "skin sysmlc\r\n",
       "skinparam wrapWidth 300\r\n",
       "hide circle\r\n",
       "skinparam roundcorner 20\r\n",
       "skinparam BoxPadding 20\r\n",
       "skinparam SequenceBoxBackgroundColor #white\r\n",
       "skinparam style strictuml\r\n",
       "skinparam maxMessageSize 100\r\n",
       "\r\n",
       "@enduml\r\n",
       "\n",
       "PlantUML version 1.2022.7(Mon Aug 22 17:01:30 UTC 2022)\n",
       "(EPL source distribution)\n",
       "Java Runtime: OpenJDK Runtime Environment\n",
       "JVM: OpenJDK 64-Bit Server VM\n",
       "Default Encoding: UTF-8\n",
       "Language: en\n",
       "Country: null\n",
       "--></g></svg>"
      ]
     },
     "execution_count": 28,
     "metadata": {},
     "output_type": "execute_result"
    }
   ],
   "source": [
    "%viz --style=\"STDCOLOR\" --view=\"Sequence\" \"TradeStudyTest\""
   ]
  },
  {
   "cell_type": "code",
   "execution_count": 29,
   "id": "362cfc91",
   "metadata": {
    "execution": {
     "iopub.execute_input": "2024-12-16T14:21:09.133561Z",
     "iopub.status.busy": "2024-12-16T14:21:09.133262Z",
     "iopub.status.idle": "2024-12-16T14:21:09.158973Z",
     "shell.execute_reply": "2024-12-16T14:21:09.158802Z"
    }
   },
   "outputs": [
    {
     "data": {
      "image/svg+xml": [
       "<?xml version=\"1.0\" encoding=\"UTF-8\" standalone=\"no\"?><svg xmlns=\"http://www.w3.org/2000/svg\" xmlns:xlink=\"http://www.w3.org/1999/xlink\" contentStyleType=\"text/css\" height=\"538px\" preserveAspectRatio=\"none\" style=\"width:570px;height:538px;background:#FFFFFF;\" version=\"1.1\" viewBox=\"0 0 570 538\" width=\"570px\" zoomAndPan=\"magnify\"><defs><filter height=\"300%\" id=\"f1i9wzgpinszm3\" width=\"300%\" x=\"-1\" y=\"-1\"><feGaussianBlur result=\"blurOut\" stdDeviation=\"2.0\"/><feColorMatrix in=\"blurOut\" result=\"blurOut2\" type=\"matrix\" values=\"0 0 0 0 0 0 0 0 0 0 0 0 0 0 0 0 0 0 .4 0\"/><feOffset dx=\"4.0\" dy=\"4.0\" in=\"blurOut2\" result=\"blurOut3\"/><feBlend in=\"SourceGraphic\" in2=\"blurOut3\" mode=\"normal\"/></filter></defs><g><!--MD5=[fbc87193dbaf4d95561dea2c320d4a47]\n",
       "cluster E1--><g id=\"cluster_E1\"><a href=\"psysml:a91f55f8-3969-42e6-b46f-82de9da3fdc7\" target=\"_top\" title=\"psysml:a91f55f8-3969-42e6-b46f-82de9da3fdc7\" xlink:actuate=\"onRequest\" xlink:href=\"psysml:a91f55f8-3969-42e6-b46f-82de9da3fdc7\" xlink:show=\"new\" xlink:title=\"psysml:a91f55f8-3969-42e6-b46f-82de9da3fdc7\" xlink:type=\"simple\"><polygon fill=\"none\" filter=\"url(#f1i9wzgpinszm3)\" points=\"16,6,138.125,6,145.125,28.2969,553,28.2969,553,531,16,531,16,6\" style=\"stroke:#000000;stroke-width:1.5;\"/><line style=\"stroke:#000000;stroke-width:1.5;\" x1=\"16\" x2=\"145.125\" y1=\"28.2969\" y2=\"28.2969\"/><text fill=\"#000000\" font-family=\"sans-serif\" font-size=\"14\" font-weight=\"bold\" lengthAdjust=\"spacing\" textLength=\"116.125\" x=\"20\" y=\"20.9951\">TradeStudyTest</text></a></g><!--MD5=[de5ec2e2e8f62f467e546659f5068c88]\n",
       "cluster E5--><g id=\"cluster_E5\"><a href=\"psysml:538ece1f-cb66-4e09-817f-0abcddd62ddd\" target=\"_top\" title=\"psysml:538ece1f-cb66-4e09-817f-0abcddd62ddd\" xlink:actuate=\"onRequest\" xlink:href=\"psysml:538ece1f-cb66-4e09-817f-0abcddd62ddd\" xlink:show=\"new\" xlink:title=\"psysml:538ece1f-cb66-4e09-817f-0abcddd62ddd\" xlink:type=\"simple\"><rect fill=\"#FFFFFF\" filter=\"url(#f1i9wzgpinszm3)\" height=\"158\" id=\"E5\" rx=\"10\" ry=\"10\" style=\"stroke:#A80036;stroke-width:1.5;\" width=\"250\" x=\"236\" y=\"57\"/><rect fill=\"#FFFACD\" height=\"40.2656\" rx=\"10\" ry=\"10\" style=\"stroke:#FFFACD;stroke-width:1.5;\" width=\"250\" x=\"236\" y=\"57\"/><rect fill=\"#FFFACD\" height=\"10\" style=\"stroke:#FFFACD;stroke-width:1.5;\" width=\"250\" x=\"236\" y=\"87.2656\"/><rect fill=\"none\" height=\"158\" id=\"E5\" rx=\"10\" ry=\"10\" style=\"stroke:#A80036;stroke-width:1.5;\" width=\"250\" x=\"236\" y=\"57\"/><text fill=\"#000000\" font-family=\"sans-serif\" font-size=\"12\" font-style=\"italic\" lengthAdjust=\"spacing\" textLength=\"64\" x=\"329\" y=\"73.1387\">«analysis»</text><text fill=\"#000000\" font-family=\"sans-serif\" font-size=\"14\" lengthAdjust=\"spacing\" textLength=\"215\" x=\"249.5\" y=\"88.9639\">engineTradeStudy: TradeStudy</text><line style=\"stroke:#A80036;stroke-width:1.0;\" x1=\"236\" x2=\"486\" y1=\"97.2656\" y2=\"97.2656\"/></a></g><!--MD5=[b4997ac47864f28c2f74865a473b2911]\n",
       "class E2--><a href=\"psysml:8055cf29-c4ca-4370-b025-bca5bf4f4944\" target=\"_top\" title=\"psysml:8055cf29-c4ca-4370-b025-bca5bf4f4944\" xlink:actuate=\"onRequest\" xlink:href=\"psysml:8055cf29-c4ca-4370-b025-bca5bf4f4944\" xlink:show=\"new\" xlink:title=\"psysml:8055cf29-c4ca-4370-b025-bca5bf4f4944\" xlink:type=\"simple\"><g id=\"elem_E2\"><rect fill=\"#FFFACD\" filter=\"url(#f1i9wzgpinszm3)\" height=\"48.2656\" id=\"E2\" style=\"stroke:#181818;stroke-width:0.5;\" width=\"70\" x=\"309\" y=\"467\"/><text fill=\"#000000\" font-family=\"sans-serif\" font-size=\"12\" font-style=\"italic\" lengthAdjust=\"spacing\" textLength=\"68\" x=\"310\" y=\"483.1387\">«part  def»</text><text fill=\"#000000\" font-family=\"sans-serif\" font-size=\"14\" lengthAdjust=\"spacing\" textLength=\"48\" x=\"320\" y=\"498.9639\">Engine</text><line style=\"stroke:#181818;stroke-width:0.5;\" x1=\"310\" x2=\"378\" y1=\"507.2656\" y2=\"507.2656\"/></g></a><!--MD5=[09b614a08d8cba4a07c9adeb5e0fee81]\n",
       "class E3--><a href=\"psysml:479197b1-ce2e-480f-b2ef-7f257dc343b8\" target=\"_top\" title=\"psysml:479197b1-ce2e-480f-b2ef-7f257dc343b8\" xlink:actuate=\"onRequest\" xlink:href=\"psysml:479197b1-ce2e-480f-b2ef-7f257dc343b8\" xlink:show=\"new\" xlink:title=\"psysml:479197b1-ce2e-480f-b2ef-7f257dc343b8\" xlink:type=\"simple\"><g id=\"elem_E3\"><rect fill=\"#FFFACD\" filter=\"url(#f1i9wzgpinszm3)\" height=\"48.2656\" id=\"E3\" rx=\"10\" ry=\"10\" style=\"stroke:#181818;stroke-width:0.5;\" width=\"128\" x=\"195\" y=\"359\"/><text fill=\"#000000\" font-family=\"sans-serif\" font-size=\"12\" font-style=\"italic\" lengthAdjust=\"spacing\" textLength=\"40\" x=\"239\" y=\"375.1387\">«part»</text><text fill=\"#000000\" font-family=\"sans-serif\" font-size=\"14\" lengthAdjust=\"spacing\" textLength=\"114\" x=\"198\" y=\"390.9639\">engine1: Engine</text><line style=\"stroke:#181818;stroke-width:0.5;\" x1=\"196\" x2=\"322\" y1=\"399.2656\" y2=\"399.2656\"/></g></a><!--MD5=[ebbe1d658d1005bcc118a6aa81145e00]\n",
       "class E4--><a href=\"psysml:df8f9049-6917-4fa7-a1c9-f212538c9a4e\" target=\"_top\" title=\"psysml:df8f9049-6917-4fa7-a1c9-f212538c9a4e\" xlink:actuate=\"onRequest\" xlink:href=\"psysml:df8f9049-6917-4fa7-a1c9-f212538c9a4e\" xlink:show=\"new\" xlink:title=\"psysml:df8f9049-6917-4fa7-a1c9-f212538c9a4e\" xlink:type=\"simple\"><g id=\"elem_E4\"><rect fill=\"#FFFACD\" filter=\"url(#f1i9wzgpinszm3)\" height=\"48.2656\" id=\"E4\" rx=\"10\" ry=\"10\" style=\"stroke:#181818;stroke-width:0.5;\" width=\"128\" x=\"32\" y=\"359\"/><text fill=\"#000000\" font-family=\"sans-serif\" font-size=\"12\" font-style=\"italic\" lengthAdjust=\"spacing\" textLength=\"40\" x=\"76\" y=\"375.1387\">«part»</text><text fill=\"#000000\" font-family=\"sans-serif\" font-size=\"14\" lengthAdjust=\"spacing\" textLength=\"114\" x=\"35\" y=\"390.9639\">engine2: Engine</text><line style=\"stroke:#181818;stroke-width:0.5;\" x1=\"33\" x2=\"159\" y1=\"399.2656\" y2=\"399.2656\"/></g></a><!--MD5=[2156ba9850f5573cc1fc38a6a4b2f02b]\n",
       "class E7--><a href=\"psysml:f253b0d3-72ce-4ec1-aa97-c21cff35f053\" target=\"_top\" title=\"psysml:f253b0d3-72ce-4ec1-aa97-c21cff35f053\" xlink:actuate=\"onRequest\" xlink:href=\"psysml:f253b0d3-72ce-4ec1-aa97-c21cff35f053\" xlink:show=\"new\" xlink:title=\"psysml:f253b0d3-72ce-4ec1-aa97-c21cff35f053\" xlink:type=\"simple\"><g id=\"elem_E7\"><rect fill=\"#FFFACD\" filter=\"url(#f1i9wzgpinszm3)\" height=\"48.2656\" id=\"E7\" rx=\"10\" ry=\"10\" style=\"stroke:#181818;stroke-width:0.5;\" width=\"144\" x=\"155\" y=\"251\"/><text fill=\"#000000\" font-family=\"sans-serif\" font-size=\"12\" font-style=\"italic\" lengthAdjust=\"spacing\" textLength=\"82\" x=\"186\" y=\"267.1387\">«calculation»</text><text fill=\"#000000\" font-family=\"sans-serif\" font-size=\"14\" lengthAdjust=\"spacing\" textLength=\"130\" x=\"158\" y=\"282.9639\">evaluationFunction</text><line style=\"stroke:#181818;stroke-width:0.5;\" x1=\"156\" x2=\"298\" y1=\"291.2656\" y2=\"291.2656\"/></g></a><!--MD5=[b9389687b975829384b498ac4b7476b2]\n",
       "class E8--><a href=\"psysml:753de58d-f4ea-44a5-91ee-5ffc5e7a177d\" target=\"_top\" title=\"psysml:753de58d-f4ea-44a5-91ee-5ffc5e7a177d\" xlink:actuate=\"onRequest\" xlink:href=\"psysml:753de58d-f4ea-44a5-91ee-5ffc5e7a177d\" xlink:show=\"new\" xlink:title=\"psysml:753de58d-f4ea-44a5-91ee-5ffc5e7a177d\" xlink:type=\"simple\"><g id=\"elem_E8\"><rect fill=\"#FFFACD\" filter=\"url(#f1i9wzgpinszm3)\" height=\"48.2656\" id=\"E8\" rx=\"10\" ry=\"10\" style=\"stroke:#181818;stroke-width:0.5;\" width=\"142\" x=\"358\" y=\"359\"/><text fill=\"#000000\" font-family=\"sans-serif\" font-size=\"12\" font-style=\"italic\" lengthAdjust=\"spacing\" textLength=\"40\" x=\"409\" y=\"375.1387\">«part»</text><text fill=\"#000000\" font-family=\"sans-serif\" font-size=\"14\" lengthAdjust=\"spacing\" textLength=\"128\" x=\"361\" y=\"390.9639\">alternative: Engine</text><line style=\"stroke:#181818;stroke-width:0.5;\" x1=\"359\" x2=\"499\" y1=\"399.2656\" y2=\"399.2656\"/></g></a><!--MD5=[fd4143e9d270a159db93a4ea2a975926]\n",
       "class E9--><a href=\"psysml:76ff8411-b0e7-4dd9-89c0-3f2666988fc0\" target=\"_top\" title=\"psysml:76ff8411-b0e7-4dd9-89c0-3f2666988fc0\" xlink:actuate=\"onRequest\" xlink:href=\"psysml:76ff8411-b0e7-4dd9-89c0-3f2666988fc0\" xlink:show=\"new\" xlink:title=\"psysml:76ff8411-b0e7-4dd9-89c0-3f2666988fc0\" xlink:type=\"simple\"><g id=\"elem_E9\"><rect fill=\"#FFFACD\" filter=\"url(#f1i9wzgpinszm3)\" height=\"48.2656\" id=\"E9\" rx=\"10\" ry=\"10\" style=\"stroke:#181818;stroke-width:0.5;\" width=\"203\" x=\"334.5\" y=\"251\"/><text fill=\"#000000\" font-family=\"sans-serif\" font-size=\"12\" font-style=\"italic\" lengthAdjust=\"spacing\" textLength=\"40\" x=\"416\" y=\"267.1387\">«part»</text><text fill=\"#000000\" font-family=\"sans-serif\" font-size=\"14\" lengthAdjust=\"spacing\" textLength=\"189\" x=\"337.5\" y=\"282.9639\">selectedAlternative: Engine</text><line style=\"stroke:#181818;stroke-width:0.5;\" x1=\"335.5\" x2=\"536.5\" y1=\"291.2656\" y2=\"291.2656\"/></g></a><!--MD5=[60a26617385b1d2d0262a64233df1f8d]\n",
       "class E6--><a href=\"psysml:4f755969-6586-456d-bfaa-2c124f0f3312\" target=\"_top\" title=\"psysml:4f755969-6586-456d-bfaa-2c124f0f3312\" xlink:actuate=\"onRequest\" xlink:href=\"psysml:4f755969-6586-456d-bfaa-2c124f0f3312\" xlink:show=\"new\" xlink:title=\"psysml:4f755969-6586-456d-bfaa-2c124f0f3312\" xlink:type=\"simple\"><g id=\"elem_E6\"><rect fill=\"#FFFACD\" filter=\"url(#f1i9wzgpinszm3)\" height=\"75.0813\" id=\"E6\" rx=\"10\" ry=\"10\" style=\"stroke:#181818;stroke-width:0.5;\" width=\"145\" x=\"306.5\" y=\"116\"/><text fill=\"#000000\" font-family=\"sans-serif\" font-size=\"12\" font-style=\"italic\" lengthAdjust=\"spacing\" textLength=\"70\" x=\"344\" y=\"132.1387\">«objective»</text><text fill=\"#000000\" font-family=\"sans-serif\" font-size=\"14\" lengthAdjust=\"spacing\" textLength=\"139\" x=\"309.5\" y=\"147.9639\">tradeStudyObjective</text><line style=\"stroke:#181818;stroke-width:0.5;\" x1=\"307.5\" x2=\"450.5\" y1=\"156.2656\" y2=\"156.2656\"/><text fill=\"#000000\" font-family=\"sans-serif\" font-size=\"14\" lengthAdjust=\"spacing\" textLength=\"132\" x=\"312.5\" y=\"183.7795\">selectedAlternative</text><text fill=\"#000000\" font-family=\"sans-serif\" font-size=\"14\" font-style=\"italic\" lengthAdjust=\"spacing\" textLength=\"51\" x=\"353.5\" y=\"168.6123\">subject</text></g></a><!--MD5=[05d275557350bfb9b23a4ef7222b4c39]\n",
       "link E3 to E2--><g id=\"link_E3_E2\"><a href=\"psysml:bc3cf079-eae7-49ce-b297-ec132a977e50\" target=\"_top\" title=\"psysml:bc3cf079-eae7-49ce-b297-ec132a977e50\" xlink:actuate=\"onRequest\" xlink:href=\"psysml:bc3cf079-eae7-49ce-b297-ec132a977e50\" xlink:show=\"new\" xlink:title=\"psysml:bc3cf079-eae7-49ce-b297-ec132a977e50\" xlink:type=\"simple\"><path d=\"M277.44,407 C287.73,419.83 300.82,436.16 312.67,450.93 \" fill=\"none\" id=\"E3-to-E2\" style=\"stroke:#181818;stroke-width:1.0;\"/><polygon fill=\"#FFFFFF\" points=\"325.3,466.68,307.9565,456.2299,318.8819,447.4756,325.3,466.68\" style=\"stroke:#181818;stroke-width:1.0;\"/><ellipse cx=\"305.9531\" cy=\"450.5311\" fill=\"#181818\" rx=\"2\" ry=\"2\" style=\"stroke:#181818;stroke-width:1.0;\"/><ellipse cx=\"313.7569\" cy=\"444.2781\" fill=\"#181818\" rx=\"2\" ry=\"2\" style=\"stroke:#181818;stroke-width:1.0;\"/></a></g><!--MD5=[185131fc0dcab0a4505a2ebe144e961b]\n",
       "link E4 to E2--><g id=\"link_E4_E2\"><a href=\"psysml:aa1a99dc-dc69-45ac-b95f-3bcc471ea5d4\" target=\"_top\" title=\"psysml:aa1a99dc-dc69-45ac-b95f-3bcc471ea5d4\" xlink:actuate=\"onRequest\" xlink:href=\"psysml:aa1a99dc-dc69-45ac-b95f-3bcc471ea5d4\" xlink:show=\"new\" xlink:title=\"psysml:aa1a99dc-dc69-45ac-b95f-3bcc471ea5d4\" xlink:type=\"simple\"><path d=\"M149.81,407 C191.38,424.77 248.64,449.24 290.2,467.01 \" fill=\"none\" id=\"E4-to-E2\" style=\"stroke:#181818;stroke-width:1.0;\"/><polygon fill=\"#FFFFFF\" points=\"308.64,474.89,288.4184,473.8471,293.9285,460.977,308.64,474.89\" style=\"stroke:#181818;stroke-width:1.0;\"/><ellipse cx=\"283.9656\" cy=\"469.7652\" fill=\"#181818\" rx=\"2\" ry=\"2\" style=\"stroke:#181818;stroke-width:1.0;\"/><ellipse cx=\"287.9013\" cy=\"460.5722\" fill=\"#181818\" rx=\"2\" ry=\"2\" style=\"stroke:#181818;stroke-width:1.0;\"/></a></g><!--MD5=[452b418e7f8a40397a49b8c0a78acc5b]\n",
       "reverse link E5 to E7--><g id=\"link_E5_E7\"><a href=\"psysml:ae0ddffd-d94b-4ee5-a4cb-a499b90c2b96\" target=\"_top\" title=\"psysml:ae0ddffd-d94b-4ee5-a4cb-a499b90c2b96\" xlink:actuate=\"onRequest\" xlink:href=\"psysml:ae0ddffd-d94b-4ee5-a4cb-a499b90c2b96\" xlink:show=\"new\" xlink:title=\"psysml:ae0ddffd-d94b-4ee5-a4cb-a499b90c2b96\" xlink:type=\"simple\"><path d=\"M244.1719,215.3826 C244.124,215.5464 244.076,215.7101 244.0281,215.8739 C243.8363,216.5288 243.6446,217.1834 243.453,217.8375 C243.0699,219.1456 242.6874,220.4515 242.3064,221.7525 C239.2581,232.1606 236.3,242.26 233.81,250.76 \" fill=\"none\" id=\"E5-backto-E7\" style=\"stroke:#181818;stroke-width:1.0;\"/><polygon fill=\"#181818\" points=\"244.1719,215.3826,238.6468,220.0166,240.7992,226.8989,246.3243,222.265,244.1719,215.3826\" style=\"stroke:#181818;stroke-width:1.0;\"/></a></g><!--MD5=[dc164f5e8a733ab456ef1add180e9e34]\n",
       "reverse link E7 to E8--><g id=\"link_E7_E8\"><a href=\"psysml:a8c82a2a-741b-4fac-ac9b-98beb228d3cb\" target=\"_top\" title=\"psysml:a8c82a2a-741b-4fac-ac9b-98beb228d3cb\" xlink:actuate=\"onRequest\" xlink:href=\"psysml:a8c82a2a-741b-4fac-ac9b-98beb228d3cb\" xlink:show=\"new\" xlink:title=\"psysml:a8c82a2a-741b-4fac-ac9b-98beb228d3cb\" xlink:type=\"simple\"><path d=\"M282.76,305.26 C314.96,322.16 354.91,343.12 384.91,358.86 \" fill=\"none\" id=\"E7-backto-E8\" style=\"stroke:#181818;stroke-width:1.0;\"/><polygon fill=\"none\" points=\"270.83,299,274.284,305.3301,281.4556,304.5765,278.0016,298.2464,270.83,299\" style=\"stroke:#181818;stroke-width:1.0;\"/></a></g><!--MD5=[f1f3f9f2fc535e6147756cb86a7f2e32]\n",
       "link E8 to E2--><g id=\"link_E8_E2\"><a href=\"psysml:199cdd6b-9599-4ee9-8d7a-04a31416ec15\" target=\"_top\" title=\"psysml:199cdd6b-9599-4ee9-8d7a-04a31416ec15\" xlink:actuate=\"onRequest\" xlink:href=\"psysml:199cdd6b-9599-4ee9-8d7a-04a31416ec15\" xlink:show=\"new\" xlink:title=\"psysml:199cdd6b-9599-4ee9-8d7a-04a31416ec15\" xlink:type=\"simple\"><path d=\"M410.56,407 C400.27,419.83 387.18,436.16 375.33,450.93 \" fill=\"none\" id=\"E8-to-E2\" style=\"stroke:#181818;stroke-width:1.0;\"/><polygon fill=\"#FFFFFF\" points=\"362.7,466.68,369.1181,447.4756,380.0435,456.2299,362.7,466.68\" style=\"stroke:#181818;stroke-width:1.0;\"/><ellipse cx=\"374.2431\" cy=\"444.2781\" fill=\"#181818\" rx=\"2\" ry=\"2\" style=\"stroke:#181818;stroke-width:1.0;\"/><ellipse cx=\"382.0469\" cy=\"450.5311\" fill=\"#181818\" rx=\"2\" ry=\"2\" style=\"stroke:#181818;stroke-width:1.0;\"/></a></g><!--MD5=[9ae28de373ca99bb8a1b38d63370ca7e]\n",
       "reverse link E5 to E9--><g id=\"link_E5_E9\"><a href=\"psysml:549a8511-5afb-4107-9df8-0f136ad572ec\" target=\"_top\" title=\"psysml:549a8511-5afb-4107-9df8-0f136ad572ec\" xlink:actuate=\"onRequest\" xlink:href=\"psysml:549a8511-5afb-4107-9df8-0f136ad572ec\" xlink:show=\"new\" xlink:title=\"psysml:549a8511-5afb-4107-9df8-0f136ad572ec\" xlink:type=\"simple\"><path d=\"M277.9238,215.3079 C279.0235,217.2432 280.1988,219.1321 281.4547,220.9571 C283.9666,224.607 286.8013,228.0013 290,231 C302.53,242.75 318.11,251.3 334.38,257.53 \" fill=\"none\" id=\"E5-backto-E9\" style=\"stroke:#181818;stroke-width:1.0;\"/><polygon fill=\"none\" points=\"277.9238,215.3079,277.4102,222.5006,283.8521,225.7412,284.3658,218.5484,277.9238,215.3079\" style=\"stroke:#181818;stroke-width:1.0;\"/></a></g><!--MD5=[5c3bb36fe832a92c7f0e1807dd65209d]\n",
       "link E9 to E2--><g id=\"link_E9_E2\"><a href=\"psysml:94a3a0b9-9284-4132-a69a-1dbd276e1390\" target=\"_top\" title=\"psysml:94a3a0b9-9284-4132-a69a-1dbd276e1390\" xlink:actuate=\"onRequest\" xlink:href=\"psysml:94a3a0b9-9284-4132-a69a-1dbd276e1390\" xlink:show=\"new\" xlink:title=\"psysml:94a3a0b9-9284-4132-a69a-1dbd276e1390\" xlink:type=\"simple\"><path d=\"M468.09,299.22 C500.23,325.43 541.77,369.33 518,407 C492.01,448.19 439.34,469.37 398.72,479.98 \" fill=\"none\" id=\"E9-to-E2\" style=\"stroke:#181818;stroke-width:1.0;\"/><polygon fill=\"#FFFFFF\" points=\"379.07,484.56,395.9826,473.4261,399.1635,487.06,379.07,484.56\" style=\"stroke:#181818;stroke-width:1.0;\"/><ellipse cx=\"401.988\" cy=\"474.0788\" fill=\"#181818\" rx=\"2\" ry=\"2\" style=\"stroke:#181818;stroke-width:1.0;\"/><ellipse cx=\"404.26\" cy=\"483.8172\" fill=\"#181818\" rx=\"2\" ry=\"2\" style=\"stroke:#181818;stroke-width:1.0;\"/></a></g><!--MD5=[646eb601da0b5128101b5f1d99840db1]\n",
       "@startuml\r\n",
       "skin sysmlc\r\n",
       "skinparam wrapWidth 300\r\n",
       "hide circle\r\n",
       "\r\n",
       "package \"TradeStudyTest\" as E1  [[psysml:a91f55f8-3969-42e6-b46f-82de9da3fdc7 ]]  {\r\n",
       "comp def \"Engine\" as E2  <<(T,blue) part  def>> [[psysml:8055cf29-c4ca-4370-b025-bca5bf4f4944 ]] {\r\n",
       "}\r\n",
       "comp usage \"engine1: Engine  \" as E3  <<(T,blue) part>> [[psysml:479197b1-ce2e-480f-b2ef-7f257dc343b8 ]] {\r\n",
       "}\r\n",
       "comp usage \"engine2: Engine  \" as E4  <<(T,blue) part>> [[psysml:df8f9049-6917-4fa7-a1c9-f212538c9a4e ]] {\r\n",
       "}\r\n",
       "rec usage \"engineTradeStudy: TradeStudy  \" as E5  << analysis>> [[psysml:538ece1f-cb66-4e09-817f-0abcddd62ddd ]] {\r\n",
       "comp usage \"tradeStudyObjective\" as E6  <<objective>> [[psysml:4f755969-6586-456d-bfaa-2c124f0f3312 ]] {\r\n",
       "##//subject//##\r\n",
       "selectedAlternative\r\n",
       "}\r\n",
       "}\r\n",
       "comp usage \"evaluationFunction  \" as E7  <<(T,blue) calculation>> [[psysml:f253b0d3-72ce-4ec1-aa97-c21cff35f053 ]] {\r\n",
       "}\r\n",
       "comp usage \"alternative: Engine  \" as E8  <<(T,blue) part>> [[psysml:753de58d-f4ea-44a5-91ee-5ffc5e7a177d ]] {\r\n",
       "}\r\n",
       "comp usage \"selectedAlternative: Engine  \" as E9  <<(T,blue) part>> [[psysml:76ff8411-b0e7-4dd9-89c0-3f2666988fc0 ]] {\r\n",
       "}\r\n",
       "}\r\n",
       "E3 - -:|> E2 [[psysml:bc3cf079-eae7-49ce-b297-ec132a977e50 ]] \r\n",
       "E4 - -:|> E2 [[psysml:aa1a99dc-dc69-45ac-b95f-3bcc471ea5d4 ]] \r\n",
       "E5 *- - E7 [[psysml:ae0ddffd-d94b-4ee5-a4cb-a499b90c2b96 ]] \r\n",
       "E7 o- - E8 [[psysml:a8c82a2a-741b-4fac-ac9b-98beb228d3cb ]] \r\n",
       "E8 - -:|> E2 [[psysml:199cdd6b-9599-4ee9-8d7a-04a31416ec15 ]] \r\n",
       "E5 o- - E9 [[psysml:549a8511-5afb-4107-9df8-0f136ad572ec ]] \r\n",
       "E9 - -:|> E2 [[psysml:94a3a0b9-9284-4132-a69a-1dbd276e1390 ]] \r\n",
       "@enduml\r\n",
       "\n",
       "PlantUML version 1.2022.7(Mon Aug 22 17:01:30 UTC 2022)\n",
       "(EPL source distribution)\n",
       "Java Runtime: OpenJDK Runtime Environment\n",
       "JVM: OpenJDK 64-Bit Server VM\n",
       "Default Encoding: UTF-8\n",
       "Language: en\n",
       "Country: null\n",
       "--></g></svg>"
      ]
     },
     "execution_count": 29,
     "metadata": {},
     "output_type": "execute_result"
    }
   ],
   "source": [
    "%viz --style=\"STDCOLOR\" --view=\"MIXED\" \"TradeStudyTest\""
   ]
  },
  {
   "cell_type": "code",
   "execution_count": 30,
   "id": "0f5c2e8a",
   "metadata": {
    "execution": {
     "iopub.execute_input": "2024-12-16T14:21:09.211189Z",
     "iopub.status.busy": "2024-12-16T14:21:09.210937Z",
     "iopub.status.idle": "2024-12-16T14:21:09.363981Z",
     "shell.execute_reply": "2024-12-16T14:21:09.363816Z"
    }
   },
   "outputs": [
    {
     "data": {
      "image/svg+xml": [
       "<?xml version=\"1.0\" encoding=\"UTF-8\" standalone=\"no\"?><svg xmlns=\"http://www.w3.org/2000/svg\" xmlns:xlink=\"http://www.w3.org/1999/xlink\" contentStyleType=\"text/css\" height=\"530px\" preserveAspectRatio=\"none\" style=\"width:628px;height:530px;background:#FFFFFF;\" version=\"1.1\" viewBox=\"0 0 628 530\" width=\"628px\" zoomAndPan=\"magnify\"><defs/><g><!--MD5=[fbc87193dbaf4d95561dea2c320d4a47]\n",
       "cluster E1--><g id=\"cluster_E1\"><a href=\"psysml:a91f55f8-3969-42e6-b46f-82de9da3fdc7\" target=\"_top\" title=\"psysml:a91f55f8-3969-42e6-b46f-82de9da3fdc7\" xlink:actuate=\"onRequest\" xlink:href=\"psysml:a91f55f8-3969-42e6-b46f-82de9da3fdc7\" xlink:show=\"new\" xlink:title=\"psysml:a91f55f8-3969-42e6-b46f-82de9da3fdc7\" xlink:type=\"simple\"><path d=\"M8.5,6 L125.625,6 A3.75,3.75 0 0 1 128.125,8.5 L135.125,28.2969 L618.5,28.2969 A2.5,2.5 0 0 1 621,30.7969 L621,520.5 A2.5,2.5 0 0 1 618.5,523 L8.5,523 A2.5,2.5 0 0 1 6,520.5 L6,8.5 A2.5,2.5 0 0 1 8.5,6 \" fill=\"none\" style=\"stroke:#000000;stroke-width:1.5;\"/><line style=\"stroke:#000000;stroke-width:1.5;\" x1=\"6\" x2=\"135.125\" y1=\"28.2969\" y2=\"28.2969\"/><text fill=\"#000000\" font-family=\"sans-serif\" font-size=\"14\" font-weight=\"bold\" lengthAdjust=\"spacing\" textLength=\"116.125\" x=\"10\" y=\"20.9951\">TradeStudyTest</text></a></g><!--MD5=[de5ec2e2e8f62f467e546659f5068c88]\n",
       "cluster E5--><g id=\"cluster_E5\"><a href=\"psysml:538ece1f-cb66-4e09-817f-0abcddd62ddd\" target=\"_top\" title=\"psysml:538ece1f-cb66-4e09-817f-0abcddd62ddd\" xlink:actuate=\"onRequest\" xlink:href=\"psysml:538ece1f-cb66-4e09-817f-0abcddd62ddd\" xlink:show=\"new\" xlink:title=\"psysml:538ece1f-cb66-4e09-817f-0abcddd62ddd\" xlink:type=\"simple\"><rect fill=\"#FFFFFF\" height=\"158\" id=\"E5\" rx=\"10\" ry=\"10\" style=\"stroke:#A80036;stroke-width:1.5;\" width=\"250\" x=\"290\" y=\"57\"/><rect fill=\"#F1F1F1\" height=\"40.2656\" rx=\"10\" ry=\"10\" style=\"stroke:#F1F1F1;stroke-width:1.5;\" width=\"250\" x=\"290\" y=\"57\"/><rect fill=\"#F1F1F1\" height=\"10\" style=\"stroke:#F1F1F1;stroke-width:1.5;\" width=\"250\" x=\"290\" y=\"87.2656\"/><rect fill=\"none\" height=\"158\" id=\"E5\" rx=\"10\" ry=\"10\" style=\"stroke:#A80036;stroke-width:1.5;\" width=\"250\" x=\"290\" y=\"57\"/><text fill=\"#000000\" font-family=\"sans-serif\" font-size=\"12\" font-style=\"italic\" lengthAdjust=\"spacing\" textLength=\"64\" x=\"383\" y=\"73.1387\">«analysis»</text><text fill=\"#000000\" font-family=\"sans-serif\" font-size=\"14\" lengthAdjust=\"spacing\" textLength=\"215\" x=\"303.5\" y=\"88.9639\">engineTradeStudy: TradeStudy</text><line style=\"stroke:#A80036;stroke-width:1.0;\" x1=\"290\" x2=\"540\" y1=\"97.2656\" y2=\"97.2656\"/></a></g><!--MD5=[b4997ac47864f28c2f74865a473b2911]\n",
       "class E2--><a href=\"psysml:8055cf29-c4ca-4370-b025-bca5bf4f4944\" target=\"_top\" title=\"psysml:8055cf29-c4ca-4370-b025-bca5bf4f4944\" xlink:actuate=\"onRequest\" xlink:href=\"psysml:8055cf29-c4ca-4370-b025-bca5bf4f4944\" xlink:show=\"new\" xlink:title=\"psysml:8055cf29-c4ca-4370-b025-bca5bf4f4944\" xlink:type=\"simple\"><g id=\"elem_E2\"><rect fill=\"#F1F1F1\" height=\"40\" id=\"E2\" rx=\"2.5\" ry=\"2.5\" style=\"stroke:#181818;stroke-width:0.5;\" width=\"80\" x=\"346\" y=\"467\"/><ellipse cx=\"361\" cy=\"483\" fill=\"#008000\" rx=\"11\" ry=\"11\" style=\"stroke:#181818;stroke-width:1.0;\"/><path d=\"M357.8594,489.5 L357.8594,477.3594 L361.6563,477.3594 Q363.6563,477.3594 364.7031,478.0625 Q365.7656,478.7656 365.7656,480.3438 Q365.7656,481.4375 365.2656,482.1563 Q364.7813,482.875 363.9531,483.0625 L363.9531,483.1406 Q364.875,483.3594 365.4375,484.0313 Q366.0156,484.6875 366.0156,485.9531 Q366.0156,487.6094 364.9688,488.5625 Q363.9219,489.5 362.0625,489.5 L357.8594,489.5 Z M361.6406,482.1406 Q362.5313,482.1406 362.8906,481.8125 Q363.2656,481.4688 363.2656,480.7656 Q363.2656,480.0313 362.875,479.7188 Q362.4844,479.3906 361.5469,479.3906 L360.1563,479.3906 L360.1563,482.1406 L361.6406,482.1406 Z M361.8281,487.4844 Q362.7344,487.4844 363.0938,487.0469 Q363.4531,486.5938 363.4531,485.8125 Q363.4531,485.0313 363.0781,484.6406 Q362.7188,484.2344 361.7344,484.2344 L360.1563,484.2344 L360.1563,487.4844 L361.8281,487.4844 Z \" fill=\"#000000\"/><text fill=\"#000000\" font-family=\"sans-serif\" font-size=\"14\" lengthAdjust=\"spacing\" textLength=\"48\" x=\"375\" y=\"487.8467\">Engine</text><line style=\"stroke:#181818;stroke-width:0.5;\" x1=\"347\" x2=\"425\" y1=\"499\" y2=\"499\"/></g></a><!--MD5=[09b614a08d8cba4a07c9adeb5e0fee81]\n",
       "class E3--><a href=\"psysml:479197b1-ce2e-480f-b2ef-7f257dc343b8\" target=\"_top\" title=\"psysml:479197b1-ce2e-480f-b2ef-7f257dc343b8\" xlink:actuate=\"onRequest\" xlink:href=\"psysml:479197b1-ce2e-480f-b2ef-7f257dc343b8\" xlink:show=\"new\" xlink:title=\"psysml:479197b1-ce2e-480f-b2ef-7f257dc343b8\" xlink:type=\"simple\"><g id=\"elem_E3\"><rect fill=\"#F1F1F1\" height=\"48.2656\" id=\"E3\" rx=\"10\" ry=\"10\" style=\"stroke:#181818;stroke-width:0.5;\" width=\"154\" x=\"211\" y=\"359\"/><ellipse cx=\"226\" cy=\"379.1328\" fill=\"#32CD32\" rx=\"11\" ry=\"11\" style=\"stroke:#181818;stroke-width:1.0;\"/><path d=\"M222.8594,385.6328 L222.8594,373.4922 L226.8906,373.4922 Q228.9844,373.4922 230,374.4766 Q231.0156,375.4453 231.0156,377.2734 Q231.0156,378.4766 230.5781,379.3828 Q230.1563,380.2891 229.2031,380.8047 Q228.2656,381.3203 226.7344,381.3203 L225.2344,381.3203 L225.2344,385.6328 L222.8594,385.6328 Z M226.4844,379.2266 Q227.5313,379.2266 228.0469,378.7422 Q228.5781,378.2578 228.5781,377.3672 Q228.5781,376.4766 228.1406,376.0391 Q227.7188,375.5859 226.7969,375.5859 L225.2344,375.5859 L225.2344,379.2266 L226.4844,379.2266 Z \" fill=\"#000000\"/><text fill=\"#000000\" font-family=\"sans-serif\" font-size=\"12\" font-style=\"italic\" lengthAdjust=\"spacing\" textLength=\"40\" x=\"281\" y=\"375.1387\">«part»</text><text fill=\"#000000\" font-family=\"sans-serif\" font-size=\"14\" lengthAdjust=\"spacing\" textLength=\"114\" x=\"240\" y=\"390.9639\">engine1: Engine</text><line style=\"stroke:#181818;stroke-width:0.5;\" x1=\"212\" x2=\"364\" y1=\"399.2656\" y2=\"399.2656\"/></g></a><!--MD5=[ebbe1d658d1005bcc118a6aa81145e00]\n",
       "class E4--><a href=\"psysml:df8f9049-6917-4fa7-a1c9-f212538c9a4e\" target=\"_top\" title=\"psysml:df8f9049-6917-4fa7-a1c9-f212538c9a4e\" xlink:actuate=\"onRequest\" xlink:href=\"psysml:df8f9049-6917-4fa7-a1c9-f212538c9a4e\" xlink:show=\"new\" xlink:title=\"psysml:df8f9049-6917-4fa7-a1c9-f212538c9a4e\" xlink:type=\"simple\"><g id=\"elem_E4\"><rect fill=\"#F1F1F1\" height=\"48.2656\" id=\"E4\" rx=\"10\" ry=\"10\" style=\"stroke:#181818;stroke-width:0.5;\" width=\"154\" x=\"22\" y=\"359\"/><ellipse cx=\"37\" cy=\"379.1328\" fill=\"#32CD32\" rx=\"11\" ry=\"11\" style=\"stroke:#181818;stroke-width:1.0;\"/><path d=\"M33.8594,385.6328 L33.8594,373.4922 L37.8906,373.4922 Q39.9844,373.4922 41,374.4766 Q42.0156,375.4453 42.0156,377.2734 Q42.0156,378.4766 41.5781,379.3828 Q41.1563,380.2891 40.2031,380.8047 Q39.2656,381.3203 37.7344,381.3203 L36.2344,381.3203 L36.2344,385.6328 L33.8594,385.6328 Z M37.4844,379.2266 Q38.5313,379.2266 39.0469,378.7422 Q39.5781,378.2578 39.5781,377.3672 Q39.5781,376.4766 39.1406,376.0391 Q38.7188,375.5859 37.7969,375.5859 L36.2344,375.5859 L36.2344,379.2266 L37.4844,379.2266 Z \" fill=\"#000000\"/><text fill=\"#000000\" font-family=\"sans-serif\" font-size=\"12\" font-style=\"italic\" lengthAdjust=\"spacing\" textLength=\"40\" x=\"92\" y=\"375.1387\">«part»</text><text fill=\"#000000\" font-family=\"sans-serif\" font-size=\"14\" lengthAdjust=\"spacing\" textLength=\"114\" x=\"51\" y=\"390.9639\">engine2: Engine</text><line style=\"stroke:#181818;stroke-width:0.5;\" x1=\"23\" x2=\"175\" y1=\"399.2656\" y2=\"399.2656\"/></g></a><!--MD5=[2156ba9850f5573cc1fc38a6a4b2f02b]\n",
       "class E7--><a href=\"psysml:f253b0d3-72ce-4ec1-aa97-c21cff35f053\" target=\"_top\" title=\"psysml:f253b0d3-72ce-4ec1-aa97-c21cff35f053\" xlink:actuate=\"onRequest\" xlink:href=\"psysml:f253b0d3-72ce-4ec1-aa97-c21cff35f053\" xlink:show=\"new\" xlink:title=\"psysml:f253b0d3-72ce-4ec1-aa97-c21cff35f053\" xlink:type=\"simple\"><g id=\"elem_E7\"><rect fill=\"#F1F1F1\" height=\"48.2656\" id=\"E7\" rx=\"10\" ry=\"10\" style=\"stroke:#181818;stroke-width:0.5;\" width=\"170\" x=\"170\" y=\"251\"/><ellipse cx=\"185\" cy=\"271.1328\" fill=\"#FFA500\" rx=\"11\" ry=\"11\" style=\"stroke:#181818;stroke-width:1.0;\"/><path d=\"M185.0625,278.3047 Q182.9531,278.3047 181.8594,277.1797 Q180.7656,276.0547 180.7656,274.0078 L180.7656,265.9922 L183.2344,265.9922 L183.2344,273.5703 Q183.2344,275.0078 183.6875,275.6016 Q184.1406,276.1797 185.0938,276.1797 Q186.1094,276.1797 186.5313,275.5703 Q186.9688,274.9609 186.9688,273.5547 L186.9688,265.9922 L189.4375,265.9922 L189.4375,273.9922 Q189.4375,275.9766 188.3438,277.1484 Q187.2656,278.3047 185.0625,278.3047 Z \" fill=\"#000000\"/><text fill=\"#000000\" font-family=\"sans-serif\" font-size=\"12\" font-style=\"italic\" lengthAdjust=\"spacing\" textLength=\"82\" x=\"227\" y=\"267.1387\">«calculation»</text><text fill=\"#000000\" font-family=\"sans-serif\" font-size=\"14\" lengthAdjust=\"spacing\" textLength=\"130\" x=\"199\" y=\"282.9639\">evaluationFunction</text><line style=\"stroke:#181818;stroke-width:0.5;\" x1=\"171\" x2=\"339\" y1=\"291.2656\" y2=\"291.2656\"/></g></a><!--MD5=[b9389687b975829384b498ac4b7476b2]\n",
       "class E8--><a href=\"psysml:753de58d-f4ea-44a5-91ee-5ffc5e7a177d\" target=\"_top\" title=\"psysml:753de58d-f4ea-44a5-91ee-5ffc5e7a177d\" xlink:actuate=\"onRequest\" xlink:href=\"psysml:753de58d-f4ea-44a5-91ee-5ffc5e7a177d\" xlink:show=\"new\" xlink:title=\"psysml:753de58d-f4ea-44a5-91ee-5ffc5e7a177d\" xlink:type=\"simple\"><g id=\"elem_E8\"><rect fill=\"#F1F1F1\" height=\"48.2656\" id=\"E8\" rx=\"10\" ry=\"10\" style=\"stroke:#181818;stroke-width:0.5;\" width=\"168\" x=\"400\" y=\"359\"/><ellipse cx=\"415\" cy=\"379.1328\" fill=\"#32CD32\" rx=\"11\" ry=\"11\" style=\"stroke:#181818;stroke-width:1.0;\"/><path d=\"M411.8594,385.6328 L411.8594,373.4922 L415.8906,373.4922 Q417.9844,373.4922 419,374.4766 Q420.0156,375.4453 420.0156,377.2734 Q420.0156,378.4766 419.5781,379.3828 Q419.1563,380.2891 418.2031,380.8047 Q417.2656,381.3203 415.7344,381.3203 L414.2344,381.3203 L414.2344,385.6328 L411.8594,385.6328 Z M415.4844,379.2266 Q416.5313,379.2266 417.0469,378.7422 Q417.5781,378.2578 417.5781,377.3672 Q417.5781,376.4766 417.1406,376.0391 Q416.7188,375.5859 415.7969,375.5859 L414.2344,375.5859 L414.2344,379.2266 L415.4844,379.2266 Z \" fill=\"#000000\"/><text fill=\"#000000\" font-family=\"sans-serif\" font-size=\"12\" font-style=\"italic\" lengthAdjust=\"spacing\" textLength=\"40\" x=\"477\" y=\"375.1387\">«part»</text><text fill=\"#000000\" font-family=\"sans-serif\" font-size=\"14\" lengthAdjust=\"spacing\" textLength=\"128\" x=\"429\" y=\"390.9639\">alternative: Engine</text><line style=\"stroke:#181818;stroke-width:0.5;\" x1=\"401\" x2=\"567\" y1=\"399.2656\" y2=\"399.2656\"/></g></a><!--MD5=[fd4143e9d270a159db93a4ea2a975926]\n",
       "class E9--><a href=\"psysml:76ff8411-b0e7-4dd9-89c0-3f2666988fc0\" target=\"_top\" title=\"psysml:76ff8411-b0e7-4dd9-89c0-3f2666988fc0\" xlink:actuate=\"onRequest\" xlink:href=\"psysml:76ff8411-b0e7-4dd9-89c0-3f2666988fc0\" xlink:show=\"new\" xlink:title=\"psysml:76ff8411-b0e7-4dd9-89c0-3f2666988fc0\" xlink:type=\"simple\"><g id=\"elem_E9\"><rect fill=\"#F1F1F1\" height=\"48.2656\" id=\"E9\" rx=\"10\" ry=\"10\" style=\"stroke:#181818;stroke-width:0.5;\" width=\"229\" x=\"375.5\" y=\"251\"/><ellipse cx=\"390.5\" cy=\"271.1328\" fill=\"#32CD32\" rx=\"11\" ry=\"11\" style=\"stroke:#181818;stroke-width:1.0;\"/><path d=\"M387.3594,277.6328 L387.3594,265.4922 L391.3906,265.4922 Q393.4844,265.4922 394.5,266.4766 Q395.5156,267.4453 395.5156,269.2734 Q395.5156,270.4766 395.0781,271.3828 Q394.6563,272.2891 393.7031,272.8047 Q392.7656,273.3203 391.2344,273.3203 L389.7344,273.3203 L389.7344,277.6328 L387.3594,277.6328 Z M390.9844,271.2266 Q392.0313,271.2266 392.5469,270.7422 Q393.0781,270.2578 393.0781,269.3672 Q393.0781,268.4766 392.6406,268.0391 Q392.2188,267.5859 391.2969,267.5859 L389.7344,267.5859 L389.7344,271.2266 L390.9844,271.2266 Z \" fill=\"#000000\"/><text fill=\"#000000\" font-family=\"sans-serif\" font-size=\"12\" font-style=\"italic\" lengthAdjust=\"spacing\" textLength=\"40\" x=\"483\" y=\"267.1387\">«part»</text><text fill=\"#000000\" font-family=\"sans-serif\" font-size=\"14\" lengthAdjust=\"spacing\" textLength=\"189\" x=\"404.5\" y=\"282.9639\">selectedAlternative: Engine</text><line style=\"stroke:#181818;stroke-width:0.5;\" x1=\"376.5\" x2=\"603.5\" y1=\"291.2656\" y2=\"291.2656\"/></g></a><!--MD5=[60a26617385b1d2d0262a64233df1f8d]\n",
       "class E6--><a href=\"psysml:4f755969-6586-456d-bfaa-2c124f0f3312\" target=\"_top\" title=\"psysml:4f755969-6586-456d-bfaa-2c124f0f3312\" xlink:actuate=\"onRequest\" xlink:href=\"psysml:4f755969-6586-456d-bfaa-2c124f0f3312\" xlink:show=\"new\" xlink:title=\"psysml:4f755969-6586-456d-bfaa-2c124f0f3312\" xlink:type=\"simple\"><g id=\"elem_E6\"><rect fill=\"#F1F1F1\" height=\"75.0813\" id=\"E6\" rx=\"10\" ry=\"10\" style=\"stroke:#181818;stroke-width:0.5;\" width=\"171\" x=\"341.5\" y=\"116\"/><ellipse cx=\"356.5\" cy=\"136.1328\" fill=\"#F1F1F1\" rx=\"11\" ry=\"11\" style=\"stroke:#181818;stroke-width:1.0;\"/><path d=\"M356.5625,143.3047 Q354.4531,143.3047 353.3594,142.1797 Q352.2656,141.0547 352.2656,139.0078 L352.2656,130.9922 L354.7344,130.9922 L354.7344,138.5703 Q354.7344,140.0078 355.1875,140.6016 Q355.6406,141.1797 356.5938,141.1797 Q357.6094,141.1797 358.0313,140.5703 Q358.4688,139.9609 358.4688,138.5547 L358.4688,130.9922 L360.9375,130.9922 L360.9375,138.9922 Q360.9375,140.9766 359.8438,142.1484 Q358.7656,143.3047 356.5625,143.3047 Z \" fill=\"#000000\"/><text fill=\"#000000\" font-family=\"sans-serif\" font-size=\"12\" font-style=\"italic\" lengthAdjust=\"spacing\" textLength=\"70\" x=\"405\" y=\"132.1387\">«objective»</text><text fill=\"#000000\" font-family=\"sans-serif\" font-size=\"14\" lengthAdjust=\"spacing\" textLength=\"139\" x=\"370.5\" y=\"147.9639\">tradeStudyObjective</text><line style=\"stroke:#181818;stroke-width:0.5;\" x1=\"342.5\" x2=\"511.5\" y1=\"156.2656\" y2=\"156.2656\"/><text fill=\"#000000\" font-family=\"sans-serif\" font-size=\"14\" lengthAdjust=\"spacing\" textLength=\"132\" x=\"347.5\" y=\"183.7795\">selectedAlternative</text><text fill=\"#000000\" font-family=\"sans-serif\" font-size=\"14\" font-style=\"italic\" lengthAdjust=\"spacing\" textLength=\"51\" x=\"401.5\" y=\"168.6123\">subject</text></g></a><!--MD5=[05d275557350bfb9b23a4ef7222b4c39]\n",
       "link E3 to E2--><g id=\"link_E3_E2\"><a href=\"psysml:bc3cf079-eae7-49ce-b297-ec132a977e50\" target=\"_top\" title=\"psysml:bc3cf079-eae7-49ce-b297-ec132a977e50\" xlink:actuate=\"onRequest\" xlink:href=\"psysml:bc3cf079-eae7-49ce-b297-ec132a977e50\" xlink:show=\"new\" xlink:title=\"psysml:bc3cf079-eae7-49ce-b297-ec132a977e50\" xlink:type=\"simple\"><path d=\"M310.24,407.15 C322.93,420.35 339.07,437.16 353.2,451.86 \" fill=\"none\" id=\"E3-to-E2\" style=\"stroke:#181818;stroke-width:1.0;\"/><polygon fill=\"#FFFFFF\" points=\"367.47,466.71,349.2604,457.8551,359.3578,448.1576,367.47,466.71\" style=\"stroke:#181818;stroke-width:1.0;\"/><ellipse cx=\"346.7546\" cy=\"452.3587\" fill=\"#181818\" rx=\"2\" ry=\"2\" style=\"stroke:#181818;stroke-width:1.0;\"/><ellipse cx=\"353.967\" cy=\"445.4319\" fill=\"#181818\" rx=\"2\" ry=\"2\" style=\"stroke:#181818;stroke-width:1.0;\"/></a></g><!--MD5=[185131fc0dcab0a4505a2ebe144e961b]\n",
       "link E4 to E2--><g id=\"link_E4_E2\"><a href=\"psysml:aa1a99dc-dc69-45ac-b95f-3bcc471ea5d4\" target=\"_top\" title=\"psysml:aa1a99dc-dc69-45ac-b95f-3bcc471ea5d4\" xlink:actuate=\"onRequest\" xlink:href=\"psysml:aa1a99dc-dc69-45ac-b95f-3bcc471ea5d4\" xlink:show=\"new\" xlink:title=\"psysml:aa1a99dc-dc69-45ac-b95f-3bcc471ea5d4\" xlink:type=\"simple\"><path d=\"M163.77,407.02 C212.66,424.4 279.22,448.05 326.72,464.93 \" fill=\"none\" id=\"E4-to-E2\" style=\"stroke:#181818;stroke-width:1.0;\"/><polygon fill=\"#FFFFFF\" points=\"345.81,471.72,325.5628,471.95,330.2532,458.7591,345.81,471.72\" style=\"stroke:#181818;stroke-width:1.0;\"/><ellipse cx=\"320.8623\" cy=\"468.156\" fill=\"#181818\" rx=\"2\" ry=\"2\" style=\"stroke:#181818;stroke-width:1.0;\"/><ellipse cx=\"324.2125\" cy=\"458.7339\" fill=\"#181818\" rx=\"2\" ry=\"2\" style=\"stroke:#181818;stroke-width:1.0;\"/></a></g><!--MD5=[452b418e7f8a40397a49b8c0a78acc5b]\n",
       "reverse link E5 to E7--><g id=\"link_E5_E7\"><a href=\"psysml:ae0ddffd-d94b-4ee5-a4cb-a499b90c2b96\" target=\"_top\" title=\"psysml:ae0ddffd-d94b-4ee5-a4cb-a499b90c2b96\" xlink:actuate=\"onRequest\" xlink:href=\"psysml:ae0ddffd-d94b-4ee5-a4cb-a499b90c2b96\" xlink:show=\"new\" xlink:title=\"psysml:ae0ddffd-d94b-4ee5-a4cb-a499b90c2b96\" xlink:type=\"simple\"><path d=\"M289.8297,187.2904 C289.3542,188.4741 288.8714,189.6756 288.3825,190.8925 C280.56,210.3625 271.16,233.76 264.33,250.76 \" fill=\"none\" id=\"E5-backto-E7\" style=\"stroke:#181818;stroke-width:1.0;\"/><polygon fill=\"#181818\" points=\"289.8297,187.2904,283.8812,191.3666,285.356,198.4253,291.3045,194.3491,289.8297,187.2904\" style=\"stroke:#181818;stroke-width:1.0;\"/></a></g><!--MD5=[dc164f5e8a733ab456ef1add180e9e34]\n",
       "reverse link E7 to E8--><g id=\"link_E7_E8\"><a href=\"psysml:a8c82a2a-741b-4fac-ac9b-98beb228d3cb\" target=\"_top\" title=\"psysml:a8c82a2a-741b-4fac-ac9b-98beb228d3cb\" xlink:actuate=\"onRequest\" xlink:href=\"psysml:a8c82a2a-741b-4fac-ac9b-98beb228d3cb\" xlink:show=\"new\" xlink:title=\"psysml:a8c82a2a-741b-4fac-ac9b-98beb228d3cb\" xlink:type=\"simple\"><path d=\"M316.77,304.59 C353.52,321.6 399.55,342.91 434.01,358.86 \" fill=\"none\" id=\"E7-backto-E8\" style=\"stroke:#181818;stroke-width:1.0;\"/><polygon fill=\"none\" points=\"304.69,299,308.4568,305.1491,315.5817,304.0371,311.8148,297.888,304.69,299\" style=\"stroke:#181818;stroke-width:1.0;\"/></a></g><!--MD5=[f1f3f9f2fc535e6147756cb86a7f2e32]\n",
       "link E8 to E2--><g id=\"link_E8_E2\"><a href=\"psysml:199cdd6b-9599-4ee9-8d7a-04a31416ec15\" target=\"_top\" title=\"psysml:199cdd6b-9599-4ee9-8d7a-04a31416ec15\" xlink:actuate=\"onRequest\" xlink:href=\"psysml:199cdd6b-9599-4ee9-8d7a-04a31416ec15\" xlink:show=\"new\" xlink:title=\"psysml:199cdd6b-9599-4ee9-8d7a-04a31416ec15\" xlink:type=\"simple\"><path d=\"M461.76,407.15 C449.07,420.35 432.93,437.16 418.8,451.86 \" fill=\"none\" id=\"E8-to-E2\" style=\"stroke:#181818;stroke-width:1.0;\"/><polygon fill=\"#FFFFFF\" points=\"404.53,466.71,412.6422,448.1576,422.7396,457.8551,404.53,466.71\" style=\"stroke:#181818;stroke-width:1.0;\"/><ellipse cx=\"418.033\" cy=\"445.4319\" fill=\"#181818\" rx=\"2\" ry=\"2\" style=\"stroke:#181818;stroke-width:1.0;\"/><ellipse cx=\"425.2454\" cy=\"452.3587\" fill=\"#181818\" rx=\"2\" ry=\"2\" style=\"stroke:#181818;stroke-width:1.0;\"/></a></g><!--MD5=[9ae28de373ca99bb8a1b38d63370ca7e]\n",
       "reverse link E5 to E9--><g id=\"link_E5_E9\"><a href=\"psysml:549a8511-5afb-4107-9df8-0f136ad572ec\" target=\"_top\" title=\"psysml:549a8511-5afb-4107-9df8-0f136ad572ec\" xlink:actuate=\"onRequest\" xlink:href=\"psysml:549a8511-5afb-4107-9df8-0f136ad572ec\" xlink:show=\"new\" xlink:title=\"psysml:549a8511-5afb-4107-9df8-0f136ad572ec\" xlink:type=\"simple\"><path d=\"M313.8416,215.3301 C314.8088,217.2642 315.8598,219.1514 317.0016,220.9743 C319.2853,224.6202 321.9325,228.0088 325,231 C333.48,239.27 352.77,246.57 375.29,252.7 \" fill=\"none\" id=\"E5-backto-E9\" style=\"stroke:#181818;stroke-width:1.0;\"/><polygon fill=\"none\" points=\"313.8416,215.3301,312.9477,222.4856,319.209,226.0629,320.1029,218.9074,313.8416,215.3301\" style=\"stroke:#181818;stroke-width:1.0;\"/></a></g><!--MD5=[5c3bb36fe832a92c7f0e1807dd65209d]\n",
       "link E9 to E2--><g id=\"link_E9_E2\"><a href=\"psysml:94a3a0b9-9284-4132-a69a-1dbd276e1390\" target=\"_top\" title=\"psysml:94a3a0b9-9284-4132-a69a-1dbd276e1390\" xlink:actuate=\"onRequest\" xlink:href=\"psysml:94a3a0b9-9284-4132-a69a-1dbd276e1390\" xlink:show=\"new\" xlink:title=\"psysml:94a3a0b9-9284-4132-a69a-1dbd276e1390\" xlink:type=\"simple\"><path d=\"M527.35,299.07 C564.43,324.97 612.24,368.42 586,407 C554.89,452.74 492.78,472 445.98,480.11 \" fill=\"none\" id=\"E9-to-E2\" style=\"stroke:#181818;stroke-width:1.0;\"/><polygon fill=\"#FFFFFF\" points=\"426.05,483.06,443.8124,473.3391,445.8735,487.1865,426.05,483.06\" style=\"stroke:#181818;stroke-width:1.0;\"/><ellipse cx=\"449.7447\" cy=\"474.4781\" fill=\"#181818\" rx=\"2\" ry=\"2\" style=\"stroke:#181818;stroke-width:1.0;\"/><ellipse cx=\"451.217\" cy=\"484.3691\" fill=\"#181818\" rx=\"2\" ry=\"2\" style=\"stroke:#181818;stroke-width:1.0;\"/></a></g><!--MD5=[c64a8ab8d03db3d5b833ad46c28c763f]\n",
       "@startuml\r\n",
       " \r\n",
       "package \"TradeStudyTest\" as E1  [[psysml:a91f55f8-3969-42e6-b46f-82de9da3fdc7 ]]  {\r\n",
       "comp def \"Engine\" as E2  << << (B,green) >> [[psysml:8055cf29-c4ca-4370-b025-bca5bf4f4944 ]] {\r\n",
       "}\r\n",
       "comp usage \"engine1: Engine  \" as E3  << << (P,limegreen) part>> [[psysml:479197b1-ce2e-480f-b2ef-7f257dc343b8 ]] {\r\n",
       "}\r\n",
       "comp usage \"engine2: Engine  \" as E4  << << (P,limegreen) part>> [[psysml:df8f9049-6917-4fa7-a1c9-f212538c9a4e ]] {\r\n",
       "}\r\n",
       "rec usage \"engineTradeStudy: TradeStudy  \" as E5  << analysis>> [[psysml:538ece1f-cb66-4e09-817f-0abcddd62ddd ]] {\r\n",
       "comp usage \"tradeStudyObjective\" as E6  <<objective>> [[psysml:4f755969-6586-456d-bfaa-2c124f0f3312 ]] {\r\n",
       "##//subject//##\r\n",
       "selectedAlternative\r\n",
       "}\r\n",
       "}\r\n",
       "comp usage \"evaluationFunction  \" as E7  << <<(U,orange) calculation>> [[psysml:f253b0d3-72ce-4ec1-aa97-c21cff35f053 ]] {\r\n",
       "}\r\n",
       "comp usage \"alternative: Engine  \" as E8  << << (P,limegreen) part>> [[psysml:753de58d-f4ea-44a5-91ee-5ffc5e7a177d ]] {\r\n",
       "}\r\n",
       "comp usage \"selectedAlternative: Engine  \" as E9  << << (P,limegreen) part>> [[psysml:76ff8411-b0e7-4dd9-89c0-3f2666988fc0 ]] {\r\n",
       "}\r\n",
       "}\r\n",
       "E3 - -:|> E2 [[psysml:bc3cf079-eae7-49ce-b297-ec132a977e50 ]] \r\n",
       "E4 - -:|> E2 [[psysml:aa1a99dc-dc69-45ac-b95f-3bcc471ea5d4 ]] \r\n",
       "E5 *- - E7 [[psysml:ae0ddffd-d94b-4ee5-a4cb-a499b90c2b96 ]] \r\n",
       "E7 o- - E8 [[psysml:a8c82a2a-741b-4fac-ac9b-98beb228d3cb ]] \r\n",
       "E8 - -:|> E2 [[psysml:199cdd6b-9599-4ee9-8d7a-04a31416ec15 ]] \r\n",
       "E5 o- - E9 [[psysml:549a8511-5afb-4107-9df8-0f136ad572ec ]] \r\n",
       "E9 - -:|> E2 [[psysml:94a3a0b9-9284-4132-a69a-1dbd276e1390 ]] \r\n",
       "@enduml\r\n",
       "\n",
       "PlantUML version 1.2022.7(Mon Aug 22 17:01:30 UTC 2022)\n",
       "(EPL source distribution)\n",
       "Java Runtime: OpenJDK Runtime Environment\n",
       "JVM: OpenJDK 64-Bit Server VM\n",
       "Default Encoding: UTF-8\n",
       "Language: en\n",
       "Country: null\n",
       "--></g></svg>"
      ]
     },
     "execution_count": 30,
     "metadata": {},
     "output_type": "execute_result"
    }
   ],
   "source": [
    "%viz --style=\"PLANTUML\" --view=\"Default\" \"TradeStudyTest\""
   ]
  },
  {
   "cell_type": "code",
   "execution_count": 31,
   "id": "f006a316",
   "metadata": {
    "execution": {
     "iopub.execute_input": "2024-12-16T14:21:09.420102Z",
     "iopub.status.busy": "2024-12-16T14:21:09.419879Z",
     "iopub.status.idle": "2024-12-16T14:21:09.455359Z",
     "shell.execute_reply": "2024-12-16T14:21:09.454366Z"
    }
   },
   "outputs": [
    {
     "data": {
      "image/svg+xml": [
       "<?xml version=\"1.0\" encoding=\"UTF-8\" standalone=\"no\"?><svg xmlns=\"http://www.w3.org/2000/svg\" xmlns:xlink=\"http://www.w3.org/1999/xlink\" contentStyleType=\"text/css\" height=\"548px\" preserveAspectRatio=\"none\" style=\"width:628px;height:548px;background:#FFFFFF;\" version=\"1.1\" viewBox=\"0 0 628 548\" width=\"628px\" zoomAndPan=\"magnify\"><defs/><g><!--MD5=[fbc87193dbaf4d95561dea2c320d4a47]\n",
       "cluster E1--><g id=\"cluster_E1\"><a href=\"psysml:a91f55f8-3969-42e6-b46f-82de9da3fdc7\" target=\"_top\" title=\"psysml:a91f55f8-3969-42e6-b46f-82de9da3fdc7\" xlink:actuate=\"onRequest\" xlink:href=\"psysml:a91f55f8-3969-42e6-b46f-82de9da3fdc7\" xlink:show=\"new\" xlink:title=\"psysml:a91f55f8-3969-42e6-b46f-82de9da3fdc7\" xlink:type=\"simple\"><path d=\"M8.5,6 L125.625,6 A3.75,3.75 0 0 1 128.125,8.5 L135.125,28.2969 L618.5,28.2969 A2.5,2.5 0 0 1 621,30.7969 L621,538.5 A2.5,2.5 0 0 1 618.5,541 L8.5,541 A2.5,2.5 0 0 1 6,538.5 L6,8.5 A2.5,2.5 0 0 1 8.5,6 \" fill=\"none\" style=\"stroke:#000000;stroke-width:1.5;\"/><line style=\"stroke:#000000;stroke-width:1.5;\" x1=\"6\" x2=\"135.125\" y1=\"28.2969\" y2=\"28.2969\"/><text fill=\"#000000\" font-family=\"sans-serif\" font-size=\"14\" font-weight=\"bold\" lengthAdjust=\"spacing\" textLength=\"116.125\" x=\"10\" y=\"20.9951\">TradeStudyTest</text></a></g><!--MD5=[b4997ac47864f28c2f74865a473b2911]\n",
       "class E2--><a href=\"psysml:8055cf29-c4ca-4370-b025-bca5bf4f4944\" target=\"_top\" title=\"psysml:8055cf29-c4ca-4370-b025-bca5bf4f4944\" xlink:actuate=\"onRequest\" xlink:href=\"psysml:8055cf29-c4ca-4370-b025-bca5bf4f4944\" xlink:show=\"new\" xlink:title=\"psysml:8055cf29-c4ca-4370-b025-bca5bf4f4944\" xlink:type=\"simple\"><g id=\"elem_E2\"><rect fill=\"#F1F1F1\" height=\"40\" id=\"E2\" rx=\"2.5\" ry=\"2.5\" style=\"stroke:#181818;stroke-width:0.5;\" width=\"80\" x=\"216\" y=\"485\"/><ellipse cx=\"231\" cy=\"501\" fill=\"#008000\" rx=\"11\" ry=\"11\" style=\"stroke:#181818;stroke-width:1.0;\"/><path d=\"M227.8594,507.5 L227.8594,495.3594 L231.6563,495.3594 Q233.6563,495.3594 234.7031,496.0625 Q235.7656,496.7656 235.7656,498.3438 Q235.7656,499.4375 235.2656,500.1563 Q234.7813,500.875 233.9531,501.0625 L233.9531,501.1406 Q234.875,501.3594 235.4375,502.0313 Q236.0156,502.6875 236.0156,503.9531 Q236.0156,505.6094 234.9688,506.5625 Q233.9219,507.5 232.0625,507.5 L227.8594,507.5 Z M231.6406,500.1406 Q232.5313,500.1406 232.8906,499.8125 Q233.2656,499.4688 233.2656,498.7656 Q233.2656,498.0313 232.875,497.7188 Q232.4844,497.3906 231.5469,497.3906 L230.1563,497.3906 L230.1563,500.1406 L231.6406,500.1406 Z M231.8281,505.4844 Q232.7344,505.4844 233.0938,505.0469 Q233.4531,504.5938 233.4531,503.8125 Q233.4531,503.0313 233.0781,502.6406 Q232.7188,502.2344 231.7344,502.2344 L230.1563,502.2344 L230.1563,505.4844 L231.8281,505.4844 Z \" fill=\"#000000\"/><text fill=\"#000000\" font-family=\"sans-serif\" font-size=\"14\" lengthAdjust=\"spacing\" textLength=\"48\" x=\"245\" y=\"505.8467\">Engine</text><line style=\"stroke:#181818;stroke-width:0.5;\" x1=\"217\" x2=\"295\" y1=\"517\" y2=\"517\"/></g></a><!--MD5=[09b614a08d8cba4a07c9adeb5e0fee81]\n",
       "class E3--><a href=\"psysml:479197b1-ce2e-480f-b2ef-7f257dc343b8\" target=\"_top\" title=\"psysml:479197b1-ce2e-480f-b2ef-7f257dc343b8\" xlink:actuate=\"onRequest\" xlink:href=\"psysml:479197b1-ce2e-480f-b2ef-7f257dc343b8\" xlink:show=\"new\" xlink:title=\"psysml:479197b1-ce2e-480f-b2ef-7f257dc343b8\" xlink:type=\"simple\"><g id=\"elem_E3\"><rect fill=\"#F1F1F1\" height=\"48.2656\" id=\"E3\" rx=\"10\" ry=\"10\" style=\"stroke:#181818;stroke-width:0.5;\" width=\"154\" x=\"451\" y=\"376\"/><ellipse cx=\"466\" cy=\"396.1328\" fill=\"#32CD32\" rx=\"11\" ry=\"11\" style=\"stroke:#181818;stroke-width:1.0;\"/><path d=\"M462.8594,402.6328 L462.8594,390.4922 L466.8906,390.4922 Q468.9844,390.4922 470,391.4766 Q471.0156,392.4453 471.0156,394.2734 Q471.0156,395.4766 470.5781,396.3828 Q470.1563,397.2891 469.2031,397.8047 Q468.2656,398.3203 466.7344,398.3203 L465.2344,398.3203 L465.2344,402.6328 L462.8594,402.6328 Z M466.4844,396.2266 Q467.5313,396.2266 468.0469,395.7422 Q468.5781,395.2578 468.5781,394.3672 Q468.5781,393.4766 468.1406,393.0391 Q467.7188,392.5859 466.7969,392.5859 L465.2344,392.5859 L465.2344,396.2266 L466.4844,396.2266 Z \" fill=\"#000000\"/><text fill=\"#000000\" font-family=\"sans-serif\" font-size=\"12\" font-style=\"italic\" lengthAdjust=\"spacing\" textLength=\"40\" x=\"521\" y=\"392.1387\">«part»</text><text fill=\"#000000\" font-family=\"sans-serif\" font-size=\"14\" lengthAdjust=\"spacing\" textLength=\"114\" x=\"480\" y=\"407.9639\">engine1: Engine</text><line style=\"stroke:#181818;stroke-width:0.5;\" x1=\"452\" x2=\"604\" y1=\"416.2656\" y2=\"416.2656\"/></g></a><!--MD5=[ebbe1d658d1005bcc118a6aa81145e00]\n",
       "class E4--><a href=\"psysml:df8f9049-6917-4fa7-a1c9-f212538c9a4e\" target=\"_top\" title=\"psysml:df8f9049-6917-4fa7-a1c9-f212538c9a4e\" xlink:actuate=\"onRequest\" xlink:href=\"psysml:df8f9049-6917-4fa7-a1c9-f212538c9a4e\" xlink:show=\"new\" xlink:title=\"psysml:df8f9049-6917-4fa7-a1c9-f212538c9a4e\" xlink:type=\"simple\"><g id=\"elem_E4\"><rect fill=\"#F1F1F1\" height=\"48.2656\" id=\"E4\" rx=\"10\" ry=\"10\" style=\"stroke:#181818;stroke-width:0.5;\" width=\"154\" x=\"262\" y=\"376\"/><ellipse cx=\"277\" cy=\"396.1328\" fill=\"#32CD32\" rx=\"11\" ry=\"11\" style=\"stroke:#181818;stroke-width:1.0;\"/><path d=\"M273.8594,402.6328 L273.8594,390.4922 L277.8906,390.4922 Q279.9844,390.4922 281,391.4766 Q282.0156,392.4453 282.0156,394.2734 Q282.0156,395.4766 281.5781,396.3828 Q281.1563,397.2891 280.2031,397.8047 Q279.2656,398.3203 277.7344,398.3203 L276.2344,398.3203 L276.2344,402.6328 L273.8594,402.6328 Z M277.4844,396.2266 Q278.5313,396.2266 279.0469,395.7422 Q279.5781,395.2578 279.5781,394.3672 Q279.5781,393.4766 279.1406,393.0391 Q278.7188,392.5859 277.7969,392.5859 L276.2344,392.5859 L276.2344,396.2266 L277.4844,396.2266 Z \" fill=\"#000000\"/><text fill=\"#000000\" font-family=\"sans-serif\" font-size=\"12\" font-style=\"italic\" lengthAdjust=\"spacing\" textLength=\"40\" x=\"332\" y=\"392.1387\">«part»</text><text fill=\"#000000\" font-family=\"sans-serif\" font-size=\"14\" lengthAdjust=\"spacing\" textLength=\"114\" x=\"291\" y=\"407.9639\">engine2: Engine</text><line style=\"stroke:#181818;stroke-width:0.5;\" x1=\"263\" x2=\"415\" y1=\"416.2656\" y2=\"416.2656\"/></g></a><!--MD5=[270fce915f116d4de14055a7c1d9a0f3]\n",
       "class E5--><a href=\"psysml:538ece1f-cb66-4e09-817f-0abcddd62ddd\" target=\"_top\" title=\"psysml:538ece1f-cb66-4e09-817f-0abcddd62ddd\" xlink:actuate=\"onRequest\" xlink:href=\"psysml:538ece1f-cb66-4e09-817f-0abcddd62ddd\" xlink:show=\"new\" xlink:title=\"psysml:538ece1f-cb66-4e09-817f-0abcddd62ddd\" xlink:type=\"simple\"><g id=\"elem_E5\"><rect fill=\"#F1F1F1\" height=\"75.0813\" id=\"E5\" rx=\"10\" ry=\"10\" style=\"stroke:#181818;stroke-width:0.5;\" width=\"339\" x=\"265.5\" y=\"41\"/><ellipse cx=\"319.25\" cy=\"61.1328\" fill=\"#F1F1F1\" rx=\"11\" ry=\"11\" style=\"stroke:#181818;stroke-width:1.0;\"/><path d=\"M319.3125,68.3047 Q317.2031,68.3047 316.1094,67.1797 Q315.0156,66.0547 315.0156,64.0078 L315.0156,55.9922 L317.4844,55.9922 L317.4844,63.5703 Q317.4844,65.0078 317.9375,65.6016 Q318.3906,66.1797 319.3438,66.1797 Q320.3594,66.1797 320.7813,65.5703 Q321.2188,64.9609 321.2188,63.5547 L321.2188,55.9922 L323.6875,55.9922 L323.6875,63.9922 Q323.6875,65.9766 322.5938,67.1484 Q321.5156,68.3047 319.3125,68.3047 Z \" fill=\"#000000\"/><text fill=\"#000000\" font-family=\"sans-serif\" font-size=\"12\" font-style=\"italic\" lengthAdjust=\"spacing\" textLength=\"64\" x=\"419.25\" y=\"57.1387\">«analysis»</text><text fill=\"#000000\" font-family=\"sans-serif\" font-size=\"14\" lengthAdjust=\"spacing\" textLength=\"215\" x=\"339.75\" y=\"72.9639\">engineTradeStudy: TradeStudy</text><line style=\"stroke:#181818;stroke-width:0.5;\" x1=\"266.5\" x2=\"603.5\" y1=\"81.2656\" y2=\"81.2656\"/><text fill=\"#000000\" font-family=\"sans-serif\" font-size=\"14\" lengthAdjust=\"spacing\" textLength=\"327\" x=\"271.5\" y=\"108.7795\">studyAlternatives: Engine = (engine1, engine2)</text><text fill=\"#000000\" font-family=\"sans-serif\" font-size=\"14\" font-style=\"italic\" lengthAdjust=\"spacing\" textLength=\"51\" x=\"409.5\" y=\"93.6123\">subject</text></g></a><!--MD5=[60a26617385b1d2d0262a64233df1f8d]\n",
       "class E6--><a href=\"psysml:4f755969-6586-456d-bfaa-2c124f0f3312\" target=\"_top\" title=\"psysml:4f755969-6586-456d-bfaa-2c124f0f3312\" xlink:actuate=\"onRequest\" xlink:href=\"psysml:4f755969-6586-456d-bfaa-2c124f0f3312\" xlink:show=\"new\" xlink:title=\"psysml:4f755969-6586-456d-bfaa-2c124f0f3312\" xlink:type=\"simple\"><g id=\"elem_E6\"><rect fill=\"#F1F1F1\" height=\"75.0813\" id=\"E6\" rx=\"10\" ry=\"10\" style=\"stroke:#181818;stroke-width:0.5;\" width=\"315\" x=\"22.5\" y=\"193\"/><ellipse cx=\"37.5\" cy=\"213.1328\" fill=\"#FFA500\" rx=\"11\" ry=\"11\" style=\"stroke:#181818;stroke-width:1.0;\"/><path d=\"M37.5625,220.3047 Q35.4531,220.3047 34.3594,219.1797 Q33.2656,218.0547 33.2656,216.0078 L33.2656,207.9922 L35.7344,207.9922 L35.7344,215.5703 Q35.7344,217.0078 36.1875,217.6016 Q36.6406,218.1797 37.5938,218.1797 Q38.6094,218.1797 39.0313,217.5703 Q39.4688,216.9609 39.4688,215.5547 L39.4688,207.9922 L41.9375,207.9922 L41.9375,215.9922 Q41.9375,217.9766 40.8438,219.1484 Q39.7656,220.3047 37.5625,220.3047 Z \" fill=\"#000000\"/><text fill=\"#000000\" font-family=\"sans-serif\" font-size=\"12\" font-style=\"italic\" lengthAdjust=\"spacing\" textLength=\"91\" x=\"147.5\" y=\"209.1387\">«requirement»</text><text fill=\"#000000\" font-family=\"sans-serif\" font-size=\"14\" lengthAdjust=\"spacing\" textLength=\"275\" x=\"51.5\" y=\"224.9639\">tradeStudyObjective: MaximizeObjective</text><line style=\"stroke:#181818;stroke-width:0.5;\" x1=\"23.5\" x2=\"336.5\" y1=\"233.2656\" y2=\"233.2656\"/><text fill=\"#000000\" font-family=\"sans-serif\" font-size=\"14\" lengthAdjust=\"spacing\" textLength=\"132\" x=\"28.5\" y=\"260.7795\">selectedAlternative</text><text fill=\"#000000\" font-family=\"sans-serif\" font-size=\"14\" font-style=\"italic\" lengthAdjust=\"spacing\" textLength=\"51\" x=\"154.5\" y=\"245.6123\">subject</text></g></a><!--MD5=[2156ba9850f5573cc1fc38a6a4b2f02b]\n",
       "class E7--><a href=\"psysml:f253b0d3-72ce-4ec1-aa97-c21cff35f053\" target=\"_top\" title=\"psysml:f253b0d3-72ce-4ec1-aa97-c21cff35f053\" xlink:actuate=\"onRequest\" xlink:href=\"psysml:f253b0d3-72ce-4ec1-aa97-c21cff35f053\" xlink:show=\"new\" xlink:title=\"psysml:f253b0d3-72ce-4ec1-aa97-c21cff35f053\" xlink:type=\"simple\"><g id=\"elem_E7\"><rect fill=\"#F1F1F1\" height=\"48.2656\" id=\"E7\" rx=\"10\" ry=\"10\" style=\"stroke:#181818;stroke-width:0.5;\" width=\"170\" x=\"373\" y=\"206.5\"/><ellipse cx=\"388\" cy=\"226.6328\" fill=\"#FFA500\" rx=\"11\" ry=\"11\" style=\"stroke:#181818;stroke-width:1.0;\"/><path d=\"M388.0625,233.8047 Q385.9531,233.8047 384.8594,232.6797 Q383.7656,231.5547 383.7656,229.5078 L383.7656,221.4922 L386.2344,221.4922 L386.2344,229.0703 Q386.2344,230.5078 386.6875,231.1016 Q387.1406,231.6797 388.0938,231.6797 Q389.1094,231.6797 389.5313,231.0703 Q389.9688,230.4609 389.9688,229.0547 L389.9688,221.4922 L392.4375,221.4922 L392.4375,229.4922 Q392.4375,231.4766 391.3438,232.6484 Q390.2656,233.8047 388.0625,233.8047 Z \" fill=\"#000000\"/><text fill=\"#000000\" font-family=\"sans-serif\" font-size=\"12\" font-style=\"italic\" lengthAdjust=\"spacing\" textLength=\"82\" x=\"430\" y=\"222.6387\">«calculation»</text><text fill=\"#000000\" font-family=\"sans-serif\" font-size=\"14\" lengthAdjust=\"spacing\" textLength=\"130\" x=\"402\" y=\"238.4639\">evaluationFunction</text><line style=\"stroke:#181818;stroke-width:0.5;\" x1=\"374\" x2=\"542\" y1=\"246.7656\" y2=\"246.7656\"/></g></a><!--MD5=[b9389687b975829384b498ac4b7476b2]\n",
       "class E8--><a href=\"psysml:753de58d-f4ea-44a5-91ee-5ffc5e7a177d\" target=\"_top\" title=\"psysml:753de58d-f4ea-44a5-91ee-5ffc5e7a177d\" xlink:actuate=\"onRequest\" xlink:href=\"psysml:753de58d-f4ea-44a5-91ee-5ffc5e7a177d\" xlink:show=\"new\" xlink:title=\"psysml:753de58d-f4ea-44a5-91ee-5ffc5e7a177d\" xlink:type=\"simple\"><g id=\"elem_E8\"><rect fill=\"#F1F1F1\" height=\"48.2656\" id=\"E8\" rx=\"10\" ry=\"10\" style=\"stroke:#181818;stroke-width:0.5;\" width=\"168\" x=\"22\" y=\"376\"/><ellipse cx=\"37\" cy=\"396.1328\" fill=\"#32CD32\" rx=\"11\" ry=\"11\" style=\"stroke:#181818;stroke-width:1.0;\"/><path d=\"M33.8594,402.6328 L33.8594,390.4922 L37.8906,390.4922 Q39.9844,390.4922 41,391.4766 Q42.0156,392.4453 42.0156,394.2734 Q42.0156,395.4766 41.5781,396.3828 Q41.1563,397.2891 40.2031,397.8047 Q39.2656,398.3203 37.7344,398.3203 L36.2344,398.3203 L36.2344,402.6328 L33.8594,402.6328 Z M37.4844,396.2266 Q38.5313,396.2266 39.0469,395.7422 Q39.5781,395.2578 39.5781,394.3672 Q39.5781,393.4766 39.1406,393.0391 Q38.7188,392.5859 37.7969,392.5859 L36.2344,392.5859 L36.2344,396.2266 L37.4844,396.2266 Z \" fill=\"#000000\"/><text fill=\"#000000\" font-family=\"sans-serif\" font-size=\"12\" font-style=\"italic\" lengthAdjust=\"spacing\" textLength=\"40\" x=\"99\" y=\"392.1387\">«part»</text><text fill=\"#000000\" font-family=\"sans-serif\" font-size=\"14\" lengthAdjust=\"spacing\" textLength=\"128\" x=\"51\" y=\"407.9639\">alternative: Engine</text><line style=\"stroke:#181818;stroke-width:0.5;\" x1=\"23\" x2=\"189\" y1=\"416.2656\" y2=\"416.2656\"/></g></a><!--MD5=[fd4143e9d270a159db93a4ea2a975926]\n",
       "class E9--><a href=\"psysml:76ff8411-b0e7-4dd9-89c0-3f2666988fc0\" target=\"_top\" title=\"psysml:76ff8411-b0e7-4dd9-89c0-3f2666988fc0\" xlink:actuate=\"onRequest\" xlink:href=\"psysml:76ff8411-b0e7-4dd9-89c0-3f2666988fc0\" xlink:show=\"new\" xlink:title=\"psysml:76ff8411-b0e7-4dd9-89c0-3f2666988fc0\" xlink:type=\"simple\"><g id=\"elem_E9\"><rect fill=\"#F1F1F1\" height=\"48.2656\" id=\"E9\" rx=\"10\" ry=\"10\" style=\"stroke:#181818;stroke-width:0.5;\" width=\"229\" x=\"309.5\" y=\"298\"/><ellipse cx=\"324.5\" cy=\"318.1328\" fill=\"#32CD32\" rx=\"11\" ry=\"11\" style=\"stroke:#181818;stroke-width:1.0;\"/><path d=\"M321.3594,324.6328 L321.3594,312.4922 L325.3906,312.4922 Q327.4844,312.4922 328.5,313.4766 Q329.5156,314.4453 329.5156,316.2734 Q329.5156,317.4766 329.0781,318.3828 Q328.6563,319.2891 327.7031,319.8047 Q326.7656,320.3203 325.2344,320.3203 L323.7344,320.3203 L323.7344,324.6328 L321.3594,324.6328 Z M324.9844,318.2266 Q326.0313,318.2266 326.5469,317.7422 Q327.0781,317.2578 327.0781,316.3672 Q327.0781,315.4766 326.6406,315.0391 Q326.2188,314.5859 325.2969,314.5859 L323.7344,314.5859 L323.7344,318.2266 L324.9844,318.2266 Z \" fill=\"#000000\"/><text fill=\"#000000\" font-family=\"sans-serif\" font-size=\"12\" font-style=\"italic\" lengthAdjust=\"spacing\" textLength=\"40\" x=\"417\" y=\"314.1387\">«part»</text><text fill=\"#000000\" font-family=\"sans-serif\" font-size=\"14\" lengthAdjust=\"spacing\" textLength=\"189\" x=\"338.5\" y=\"329.9639\">selectedAlternative: Engine</text><line style=\"stroke:#181818;stroke-width:0.5;\" x1=\"310.5\" x2=\"537.5\" y1=\"338.2656\" y2=\"338.2656\"/></g></a><!--MD5=[05d275557350bfb9b23a4ef7222b4c39]\n",
       "link E3 to E2--><g id=\"link_E3_E2\"><a href=\"psysml:bc3cf079-eae7-49ce-b297-ec132a977e50\" target=\"_top\" title=\"psysml:bc3cf079-eae7-49ce-b297-ec132a977e50\" xlink:actuate=\"onRequest\" xlink:href=\"psysml:bc3cf079-eae7-49ce-b297-ec132a977e50\" xlink:show=\"new\" xlink:title=\"psysml:bc3cf079-eae7-49ce-b297-ec132a977e50\" xlink:type=\"simple\"><path d=\"M466.96,424.12 C421.52,441.32 359.86,464.67 314.94,481.68 \" fill=\"none\" id=\"E3-to-E2\" style=\"stroke:#181818;stroke-width:1.0;\"/><polygon fill=\"#FFFFFF\" points=\"296.2,488.78,311.487,475.5019,316.4476,488.5935,296.2,488.78\" style=\"stroke:#181818;stroke-width:1.0;\"/><ellipse cx=\"317.5258\" cy=\"475.3524\" fill=\"#181818\" rx=\"2\" ry=\"2\" style=\"stroke:#181818;stroke-width:1.0;\"/><ellipse cx=\"321.0691\" cy=\"484.7036\" fill=\"#181818\" rx=\"2\" ry=\"2\" style=\"stroke:#181818;stroke-width:1.0;\"/></a></g><!--MD5=[185131fc0dcab0a4505a2ebe144e961b]\n",
       "link E4 to E2--><g id=\"link_E4_E2\"><a href=\"psysml:aa1a99dc-dc69-45ac-b95f-3bcc471ea5d4\" target=\"_top\" title=\"psysml:aa1a99dc-dc69-45ac-b95f-3bcc471ea5d4\" xlink:actuate=\"onRequest\" xlink:href=\"psysml:aa1a99dc-dc69-45ac-b95f-3bcc471ea5d4\" xlink:show=\"new\" xlink:title=\"psysml:aa1a99dc-dc69-45ac-b95f-3bcc471ea5d4\" xlink:type=\"simple\"><path d=\"M320.37,424.12 C309.68,437.39 296.03,454.32 284.06,469.18 \" fill=\"none\" id=\"E4-to-E2\" style=\"stroke:#181818;stroke-width:1.0;\"/><polygon fill=\"#FFFFFF\" points=\"271.5,484.76,277.9674,465.5722,288.8702,474.3544,271.5,484.76\" style=\"stroke:#181818;stroke-width:1.0;\"/><ellipse cx=\"283.1006\" cy=\"462.3878\" fill=\"#181818\" rx=\"2\" ry=\"2\" style=\"stroke:#181818;stroke-width:1.0;\"/><ellipse cx=\"290.8883\" cy=\"468.6608\" fill=\"#181818\" rx=\"2\" ry=\"2\" style=\"stroke:#181818;stroke-width:1.0;\"/></a></g><!--MD5=[9120cf2e5df3bff93db8f754bbbc09b4]\n",
       "link E5 to E6--><g id=\"link_E5_E6\"><a href=\"psysml:8e017d7e-1da3-4c9b-9b63-350890040555\" target=\"_top\" title=\"psysml:8e017d7e-1da3-4c9b-9b63-350890040555\" xlink:actuate=\"onRequest\" xlink:href=\"psysml:8e017d7e-1da3-4c9b-9b63-350890040555\" xlink:show=\"new\" xlink:title=\"psysml:8e017d7e-1da3-4c9b-9b63-350890040555\" xlink:type=\"simple\"><path d=\"M372.95,116 C335.61,137.96 288.01,165.97 249.43,188.66 \" fill=\"none\" id=\"E5-to-E6\" style=\"stroke:#181818;stroke-width:1.0;\"/><polygon fill=\"#181818\" points=\"242.33,192.83,250.7468,191.3612,247.7056,186.189,242.33,192.83\" style=\"stroke:#181818;stroke-width:1.0;\"/><text fill=\"#000000\" font-family=\"sans-serif\" font-size=\"13\" lengthAdjust=\"spacing\" textLength=\"73\" x=\"316\" y=\"159.0669\">«objective»</text></a></g><!--MD5=[452b418e7f8a40397a49b8c0a78acc5b]\n",
       "reverse link E5 to E7--><g id=\"link_E5_E7\"><a href=\"psysml:ae0ddffd-d94b-4ee5-a4cb-a499b90c2b96\" target=\"_top\" title=\"psysml:ae0ddffd-d94b-4ee5-a4cb-a499b90c2b96\" xlink:actuate=\"onRequest\" xlink:href=\"psysml:ae0ddffd-d94b-4ee5-a4cb-a499b90c2b96\" xlink:show=\"new\" xlink:title=\"psysml:ae0ddffd-d94b-4ee5-a4cb-a499b90c2b96\" xlink:type=\"simple\"><path d=\"M442.63,129.28 C446.61,155.24 451.3,185.77 454.44,206.26 \" fill=\"none\" id=\"E5-backto-E7\" style=\"stroke:#181818;stroke-width:1.0;\"/><polygon fill=\"#181818\" points=\"440.63,116.19,437.5867,122.7274,442.4507,128.0511,445.4941,121.5136,440.63,116.19\" style=\"stroke:#181818;stroke-width:1.0;\"/></a></g><!--MD5=[dc164f5e8a733ab456ef1add180e9e34]\n",
       "reverse link E7 to E8--><g id=\"link_E7_E8\"><a href=\"psysml:a8c82a2a-741b-4fac-ac9b-98beb228d3cb\" target=\"_top\" title=\"psysml:a8c82a2a-741b-4fac-ac9b-98beb228d3cb\" xlink:actuate=\"onRequest\" xlink:href=\"psysml:a8c82a2a-741b-4fac-ac9b-98beb228d3cb\" xlink:show=\"new\" xlink:title=\"psysml:a8c82a2a-741b-4fac-ac9b-98beb228d3cb\" xlink:type=\"simple\"><path d=\"M382.92,259.44 C354.16,270.69 321.25,284.26 292,298 C240.12,322.38 182.4,354.55 145.22,375.96 \" fill=\"none\" id=\"E7-backto-E8\" style=\"stroke:#181818;stroke-width:1.0;\"/><polygon fill=\"none\" points=\"395.38,254.6,388.34,253.0383,384.1908,258.936,391.2307,260.4977,395.38,254.6\" style=\"stroke:#181818;stroke-width:1.0;\"/></a></g><!--MD5=[f1f3f9f2fc535e6147756cb86a7f2e32]\n",
       "link E8 to E2--><g id=\"link_E8_E2\"><a href=\"psysml:199cdd6b-9599-4ee9-8d7a-04a31416ec15\" target=\"_top\" title=\"psysml:199cdd6b-9599-4ee9-8d7a-04a31416ec15\" xlink:actuate=\"onRequest\" xlink:href=\"psysml:199cdd6b-9599-4ee9-8d7a-04a31416ec15\" xlink:show=\"new\" xlink:title=\"psysml:199cdd6b-9599-4ee9-8d7a-04a31416ec15\" xlink:type=\"simple\"><path d=\"M139.66,424.12 C160.86,438.67 188.47,457.63 211.47,473.42 \" fill=\"none\" id=\"E8-to-E2\" style=\"stroke:#181818;stroke-width:1.0;\"/><polygon fill=\"#FFFFFF\" points=\"227.98,484.76,208.3564,479.7686,216.2853,468.2302,227.98,484.76\" style=\"stroke:#181818;stroke-width:1.0;\"/><ellipse cx=\"204.7913\" cy=\"474.8921\" fill=\"#181818\" rx=\"2\" ry=\"2\" style=\"stroke:#181818;stroke-width:1.0;\"/><ellipse cx=\"210.4548\" cy=\"466.6504\" fill=\"#181818\" rx=\"2\" ry=\"2\" style=\"stroke:#181818;stroke-width:1.0;\"/></a></g><!--MD5=[9ae28de373ca99bb8a1b38d63370ca7e]\n",
       "reverse link E5 to E9--><g id=\"link_E5_E9\"><a href=\"psysml:549a8511-5afb-4107-9df8-0f136ad572ec\" target=\"_top\" title=\"psysml:549a8511-5afb-4107-9df8-0f136ad572ec\" xlink:actuate=\"onRequest\" xlink:href=\"psysml:549a8511-5afb-4107-9df8-0f136ad572ec\" xlink:show=\"new\" xlink:title=\"psysml:549a8511-5afb-4107-9df8-0f136ad572ec\" xlink:type=\"simple\"><path d=\"M504.61,124.28 C526.92,142.62 548.96,165.94 561,193 C574.55,223.45 579.84,240.5 561,268 C552.21,280.83 539.82,290.56 526.06,297.93 \" fill=\"none\" id=\"E5-backto-E9\" style=\"stroke:#181818;stroke-width:1.0;\"/><polygon fill=\"none\" points=\"494.37,116.21,496.6035,123.0665,503.7916,123.6419,501.5581,116.7854,494.37,116.21\" style=\"stroke:#181818;stroke-width:1.0;\"/></a></g><!--MD5=[5c3bb36fe832a92c7f0e1807dd65209d]\n",
       "link E9 to E2--><g id=\"link_E9_E2\"><a href=\"psysml:94a3a0b9-9284-4132-a69a-1dbd276e1390\" target=\"_top\" title=\"psysml:94a3a0b9-9284-4132-a69a-1dbd276e1390\" xlink:actuate=\"onRequest\" xlink:href=\"psysml:94a3a0b9-9284-4132-a69a-1dbd276e1390\" xlink:show=\"new\" xlink:title=\"psysml:94a3a0b9-9284-4132-a69a-1dbd276e1390\" xlink:type=\"simple\"><path d=\"M309.2,345.55 C279.83,353.74 253.97,363.99 245,376 C225.96,401.49 231.56,438.31 240.24,465.93 \" fill=\"none\" id=\"E9-to-E2\" style=\"stroke:#181818;stroke-width:1.0;\"/><polygon fill=\"#FFFFFF\" points=\"247.13,484.91,234.064,469.4413,247.2228,464.6618,247.13,484.91\" style=\"stroke:#181818;stroke-width:1.0;\"/><ellipse cx=\"233.9979\" cy=\"463.401\" fill=\"#181818\" rx=\"2\" ry=\"2\" style=\"stroke:#181818;stroke-width:1.0;\"/><ellipse cx=\"243.397\" cy=\"459.987\" fill=\"#181818\" rx=\"2\" ry=\"2\" style=\"stroke:#181818;stroke-width:1.0;\"/></a></g><!--MD5=[16015d8434570b108f00efd13fb56ce2]\n",
       "@startuml\r\n",
       " \r\n",
       "package \"TradeStudyTest\" as E1  [[psysml:a91f55f8-3969-42e6-b46f-82de9da3fdc7 ]]  {\r\n",
       "comp def \"Engine\" as E2  << << (B,green) >> [[psysml:8055cf29-c4ca-4370-b025-bca5bf4f4944 ]] {\r\n",
       "}\r\n",
       "comp usage \"engine1: Engine  \" as E3  << << (P,limegreen) part>> [[psysml:479197b1-ce2e-480f-b2ef-7f257dc343b8 ]] {\r\n",
       "}\r\n",
       "comp usage \"engine2: Engine  \" as E4  << << (P,limegreen) part>> [[psysml:df8f9049-6917-4fa7-a1c9-f212538c9a4e ]] {\r\n",
       "}\r\n",
       "comp usage \"engineTradeStudy: TradeStudy  \" as E5  << analysis>> [[psysml:538ece1f-cb66-4e09-817f-0abcddd62ddd ]] {\r\n",
       "##//subject//##\r\n",
       "studyAlternatives: Engine <U+003D> (engine1, engine2)\r\n",
       "}\r\n",
       "comp usage \"tradeStudyObjective: MaximizeObjective  \" as E6  << <<(U,orange) requirement>> [[psysml:4f755969-6586-456d-bfaa-2c124f0f3312 ]] {\r\n",
       "##//subject//##\r\n",
       "selectedAlternative\r\n",
       "}\r\n",
       "comp usage \"evaluationFunction  \" as E7  << <<(U,orange) calculation>> [[psysml:f253b0d3-72ce-4ec1-aa97-c21cff35f053 ]] {\r\n",
       "}\r\n",
       "comp usage \"alternative: Engine  \" as E8  << << (P,limegreen) part>> [[psysml:753de58d-f4ea-44a5-91ee-5ffc5e7a177d ]] {\r\n",
       "}\r\n",
       "comp usage \"selectedAlternative: Engine  \" as E9  << << (P,limegreen) part>> [[psysml:76ff8411-b0e7-4dd9-89c0-3f2666988fc0 ]] {\r\n",
       "}\r\n",
       "}\r\n",
       "E3 - -:|> E2 [[psysml:bc3cf079-eae7-49ce-b297-ec132a977e50 ]] \r\n",
       "E4 - -:|> E2 [[psysml:aa1a99dc-dc69-45ac-b95f-3bcc471ea5d4 ]] \r\n",
       "E5 - ->> E6 [[psysml:8e017d7e-1da3-4c9b-9b63-350890040555 ]] : <<objective>>\r\n",
       "E5 *- - E7 [[psysml:ae0ddffd-d94b-4ee5-a4cb-a499b90c2b96 ]] \r\n",
       "E7 o- - E8 [[psysml:a8c82a2a-741b-4fac-ac9b-98beb228d3cb ]] \r\n",
       "E8 - -:|> E2 [[psysml:199cdd6b-9599-4ee9-8d7a-04a31416ec15 ]] \r\n",
       "E5 o- - E9 [[psysml:549a8511-5afb-4107-9df8-0f136ad572ec ]] \r\n",
       "E9 - -:|> E2 [[psysml:94a3a0b9-9284-4132-a69a-1dbd276e1390 ]] \r\n",
       "@enduml\r\n",
       "\n",
       "PlantUML version 1.2022.7(Mon Aug 22 17:01:30 UTC 2022)\n",
       "(EPL source distribution)\n",
       "Java Runtime: OpenJDK Runtime Environment\n",
       "JVM: OpenJDK 64-Bit Server VM\n",
       "Default Encoding: UTF-8\n",
       "Language: en\n",
       "Country: null\n",
       "--></g></svg>"
      ]
     },
     "execution_count": 31,
     "metadata": {},
     "output_type": "execute_result"
    }
   ],
   "source": [
    "%viz --style=\"PLANTUML\" --view=\"Tree\" \"TradeStudyTest\""
   ]
  },
  {
   "cell_type": "code",
   "execution_count": 32,
   "id": "2affb7a4",
   "metadata": {
    "execution": {
     "iopub.execute_input": "2024-12-16T14:21:09.509407Z",
     "iopub.status.busy": "2024-12-16T14:21:09.509178Z",
     "iopub.status.idle": "2024-12-16T14:21:09.547740Z",
     "shell.execute_reply": "2024-12-16T14:21:09.546999Z"
    }
   },
   "outputs": [
    {
     "data": {
      "image/svg+xml": [
       "<?xml version=\"1.0\" encoding=\"UTF-8\" standalone=\"no\"?><svg xmlns=\"http://www.w3.org/2000/svg\" xmlns:xlink=\"http://www.w3.org/1999/xlink\" contentStyleType=\"text/css\" height=\"389px\" preserveAspectRatio=\"none\" style=\"width:603px;height:389px;background:#000000;\" version=\"1.1\" viewBox=\"0 0 603 389\" width=\"603px\" zoomAndPan=\"magnify\"><defs/><g><rect fill=\"#161A08\" height=\"1\" style=\"stroke:#161A08;stroke-width:1.0;\" width=\"1\" x=\"0\" y=\"0\"/><rect fill=\"#FFFFFF\" height=\"226.6573\" style=\"stroke:#FFFFFF;stroke-width:1.0;\" width=\"602\" x=\"0\" y=\"0\"/><text fill=\"#000000\" font-family=\"sans-serif\" font-size=\"12\" font-weight=\"bold\" lengthAdjust=\"spacing\" textLength=\"145.75\" x=\"5\" y=\"16.1387\">Welcome to PlantUML!</text><text fill=\"#000000\" font-family=\"sans-serif\" font-size=\"12\" lengthAdjust=\"spacing\" textLength=\"4\" x=\"5\" y=\"30.1074\"> </text><text fill=\"#000000\" font-family=\"sans-serif\" font-size=\"12\" lengthAdjust=\"spacing\" textLength=\"283\" x=\"5\" y=\"44.0762\">You can start with a simple UML Diagram like:</text><text fill=\"#000000\" font-family=\"sans-serif\" font-size=\"12\" lengthAdjust=\"spacing\" textLength=\"4\" x=\"5\" y=\"58.0449\"> </text><text fill=\"#000000\" font-family=\"monospace\" font-size=\"12\" lengthAdjust=\"spacing\" textLength=\"119\" x=\"5\" y=\"73.7031\">Bob-&gt;Alice: Hello</text><text fill=\"#000000\" font-family=\"sans-serif\" font-size=\"12\" lengthAdjust=\"spacing\" textLength=\"4\" x=\"5\" y=\"88.3578\"> </text><text fill=\"#000000\" font-family=\"sans-serif\" font-size=\"12\" lengthAdjust=\"spacing\" textLength=\"14\" x=\"5\" y=\"102.3265\">Or</text><text fill=\"#000000\" font-family=\"sans-serif\" font-size=\"12\" lengthAdjust=\"spacing\" textLength=\"4\" x=\"5\" y=\"116.2953\"> </text><text fill=\"#000000\" font-family=\"monospace\" font-size=\"12\" lengthAdjust=\"spacing\" textLength=\"91\" x=\"5\" y=\"131.9535\">class Example</text><text fill=\"#000000\" font-family=\"sans-serif\" font-size=\"12\" lengthAdjust=\"spacing\" textLength=\"4\" x=\"5\" y=\"146.6082\"> </text><text fill=\"#000000\" font-family=\"sans-serif\" font-size=\"12\" lengthAdjust=\"spacing\" textLength=\"349\" x=\"5\" y=\"160.5769\">You will find more information about PlantUML syntax on</text><text fill=\"#000000\" font-family=\"sans-serif\" font-size=\"12\" lengthAdjust=\"spacing\" text-decoration=\"underline\" textLength=\"129\" x=\"358\" y=\"160.5769\">https://plantuml.com</text><text fill=\"#000000\" font-family=\"sans-serif\" font-size=\"12\" lengthAdjust=\"spacing\" textLength=\"4\" x=\"5\" y=\"174.5457\"> </text><text fill=\"#000000\" font-family=\"sans-serif\" font-size=\"12\" lengthAdjust=\"spacing\" textLength=\"299\" x=\"5\" y=\"188.5144\">(If you use this software, you accept its license)</text><text fill=\"#000000\" font-family=\"sans-serif\" font-size=\"12\" lengthAdjust=\"spacing\" textLength=\"108\" x=\"5\" y=\"204.8585\">(Details by typing</text><text fill=\"#000000\" font-family=\"monospace\" font-size=\"12\" lengthAdjust=\"spacing\" textLength=\"49\" x=\"117\" y=\"204.1726\">license</text><text fill=\"#000000\" font-family=\"sans-serif\" font-size=\"12\" lengthAdjust=\"spacing\" textLength=\"56\" x=\"170\" y=\"204.8585\">keyword)</text><text fill=\"#000000\" font-family=\"sans-serif\" font-size=\"12\" lengthAdjust=\"spacing\" textLength=\"4\" x=\"5\" y=\"218.8273\"> </text><image height=\"71\" width=\"80\" x=\"516\" xlink:href=\"data:image/png;base64,iVBORw0KGgoAAAANSUhEUgAAAFAAAABHCAMAAACnHDC8AAADAFBMVEX///+BpbvD3u/f7vfPz8+nz+g3ksuZEDkWADr/ujlvsdpTodLCwsOLwOEbg8T//v6pqamZETnLysvT09To5+jqLS4VATj9/f27u7vDw8MTfsK+v7/j4+SOweJprdjL4/KxsbEri8jk8PgXa57c29uUETez1utQoNJ1tNtEmc9cptWBut6ayOW/3O6YEDjY6vUfhcXBwcHs7Ozw9/v83t79uTn7+/vX19ehoaHx8fG2tLXHx8fuVlfrNTYaBjn/vUH5+fmko6WXl5f/+fn95ub+9PT+8PD3qKidmaMxIUrnqDWcFj7n5eX09PTu7u2SkpKfnZ6rq6z0lJTm4tzJrHUfDT339/eFGDn6tjcrEzOvrbBuZ3l4eomSMS7Hz9Smpqasu8SFiYuQETfa2du1m6OOM051J0NWTWL5xse4uLj6zc33r6/4vb7ydHXqLi/72dntTE3tR0ijbn5jW3C+u8NANVQrG0XFubqRVGZza4GQGT2VaS7a0NPJtI6IJj/zszrfqkXXzr/Hw8cgC0LUqltOQ2JsSC5bTGjOpFafSi2+iDGtyt14m7TJhTCPJUSwoIG/qa+ikHiIgpCRHjI9j8KXbnaQH0FLf6FGPlp0cnYyKE2rg49Wj7dFXHmcwtrp6uu+xMjvYWLvW1z97e3sPD3sP0DuUlP709PYzdDPmzqZWWySRVygfHHd1smWkZ+PgnibETqsl260q5fLuppJLC/dpj2HPFLTtHv/ujrTwJy5s6iWjIi0iD3joTTCmU3trjuvZS2zlFvjq0HSyLbYp0qRts10XGxEKC9yPVBQZIOPdlNvMk2NeYNqRlujtcCVrr3j5eY1gK9Qn9GLp7lbeJXRxrCkiZDaozyukoJ+H0B3rc+OYy+iprJkYXdhmr6ee0afs79xq9BikrGKjI3FomEiLFO0ay6nfIm4pZXRjTFuhZSZWm0zcZyJN0KNTk4eebNfdIGGlZ93h5kcED5nOVYyRWbziIk9dJ4kerE5ZYxRUnLG1d7p8PTvY2PtTk/1nZ1ycV/bAAAFx0lEQVR4Xu1Ye1BUVRg/e3dhl4csKyxqPlBJQVETF2icAY13GogkEFqizqRRpoBpTCIapaUOhWNjUdOMSBpqJYZTg4KigFKADzSIVZ4qD5VFluXhLgvbPee+r49R7v2z3+zcc77fOfPb7zvfPd85uwCIhwT4wPisANwPAuIKHnbHH1I+KwAXDA18ShDW58CneCEnXl8JGwmfHylCPSvlZ/FWxh8YIRIxTWkZAEofkTz8sNq7tAqE2gODOB6GYZobVaH20SVZ4oQcdmXV0L7c4b8OFvJHRoYwdVIoyPX3gxtFDA+V8e6mM8pBoCjij4wQiWo/ALzV/kpkifBi13p4waZuGrJEECycixcEVSbYgFwUozg4/qSraOxrP7O8Eogj2HDxyMWmzpk6823+yIjhvR7fLOpDsCuGhwC0WfbkjQq8A0MWC0EgIYzPCYMymM8Iwcvz6K4IWw8skTrgq3iPMIQnxdfKrvyedpyvbSsyBQt6zcH6OxXmjqYxg9PbgXBBveK6aRAXNEl1Ssc+hz7Bgntyohb/ggQlNrrdzfIuoYKSb79067PrRoLmGo25SeghJRn1yMrSbPTptZaoBlwtlWbBHspxiW+mW8+46ereVnMXGxbFQ+mjofiHZTrclJn5E14UEgdrO9tRVph0HDJlYlRsLv4XFA7RBA1kK5ogBb7gtn08AvxWymc2b+YzLHC3nnOCNHvdayUsZpnnwnPqGf+yGKcPKlv92vtJC209zGyRWJmgyd16sSGGT/AmM2rdKZKZHxwCz7KUodLzJOO8th4OBqxdo0c2tfUkNr3QlJkZQWWMBP0uwBHvmQQb3zRVCMnsMO6ATazf3f0kkza0HTaPCdIhpyTknqP61Te1eV2gRpr1FUn4xtxRT72pDHhj09/UnBLjiv72p4d8FEtlLibBd7Qg0xK5+XfS9q2AzxSVHPnNIMBS8BQPw8N1W4glQWj0mtp4+nSHhvKYOM4GL6vH1jGTcDQ3p1979AQPI5agXEDYwuS5awknJ73rHU56RyLAr6ACpO5iMRGvp3XykjImgs4Fgm2/7URc8dhbeD9jdhYVNon0mdFcAjTIXbmC75VrmVHcQ+JDIXbuNmYUYlZoYx6XcWjKTWavYXd1WzU9OEh9wLFfEVFza5PEhVhDAvfLx60cWM3ePMa9hyZG5DNr6DbQiCUcYU0AKGzGyYxlkf+wxnCk+wdwCbA/TkWH7Dbgoq8dcmKNssQQ3F/JmMxlIj/fzo/7s9OIwUMebbYzbh2zLfk7ehBGzIau6OeO+xzGKlBRwCGAXNaCFgYbRoKG+hMTfMff4M6h0LYxpmv/92ym9tIxc4uRzawynCEWGhum7odf9/75vh8zg0bKijX5AMxhMacsK8pBxaJihtnQqr1KG8yFMzq/dutJ2iKwNCbXA7Yamsm2Xn0XtgtowY3Xy8rpYc4NNqon8eM49k+NtzU55GtMleGAkNR6oldDMhH+e9EX0JB+UYKv4WgLZrLCjHV7wnyYlzJZvYV6A6d1w6xEph842UUyTkjGIbzwRA/JIOBJKSt88yglqND1h6TpiQqQV99wmJ7nknQcgIIHqd00EwSzgudigGYQUHE4qFMcGJb22kp7lNop8p6znStvg5S2e1TVRti56w/zj8fZzKLiDa317MqBQFbs+J3dcbSgo+H4D0kLOokJ82/NR8KZbp9eIZgllwKR8Ec1ejIX827POk/06HpYffGd5dkoZJXMqDAVXd1Nbhavlx4OyuAiPcyAF3Ick8faXAuE5WToApkMxykL1PbNRJ91SDkXOyymPFR1UMlw9GjRPKCrPsRSvUnbzbkELj2PSSRkQLiH1AvROTutlpryLHQAoCD+C2BBP4npMwd9zsIgzgaDsK+bctmVw3hetai5t9RS4PEqub4QnCvxteGzOZyQXxjscxkhHisWKMi72+T0p1dxGeGYkG0ez+eeG7In/n/oNOexC9fzIiLvPxVtKp84iza+AAAAAElFTkSuQmCC\" y=\"6\"/><rect fill=\"#000000\" height=\"160.3594\" style=\"stroke:#000000;stroke-width:1.0;\" width=\"602\" x=\"0\" y=\"226.6573\"/><text fill=\"#33FF02\" font-family=\"sans-serif\" font-size=\"12\" font-style=\"italic\" font-weight=\"bold\" lengthAdjust=\"spacing\" textLength=\"123\" x=\"5\" y=\"243.6573\">PlantUML 1.2022.7</text><text fill=\"#33FF02\" font-family=\"sans-serif\" font-size=\"12\" font-style=\"italic\" font-weight=\"bold\" lengthAdjust=\"spacing\" textLength=\"4\" x=\"5\" y=\"257.6261\"> </text><text fill=\"#33FF02\" font-family=\"sans-serif\" font-size=\"12\" font-style=\"italic\" font-weight=\"bold\" lengthAdjust=\"spacing\" textLength=\"390\" x=\"5\" y=\"271.5948\">&lt;b&gt;This version of PlantUML is 846 days old, so you should</text><text fill=\"#33FF02\" font-family=\"sans-serif\" font-size=\"12\" font-style=\"italic\" font-weight=\"bold\" lengthAdjust=\"spacing\" textLength=\"398.875\" x=\"5\" y=\"285.5636\">&lt;b&gt;consider upgrading from https://plantuml.com/download</text><rect fill=\"#33FF02\" height=\"21.2969\" style=\"stroke:#33FF02;stroke-width:1.0;\" width=\"153.3125\" x=\"5\" y=\"295.5323\"/><text fill=\"#000000\" font-family=\"sans-serif\" font-size=\"14\" font-weight=\"bold\" lengthAdjust=\"spacing\" textLength=\"151.3125\" x=\"6\" y=\"310.5323\">[From string (line 2) ]</text><text fill=\"#33FF02\" font-family=\"sans-serif\" font-size=\"14\" font-weight=\"bold\" lengthAdjust=\"spacing\" textLength=\"4\" x=\"5\" y=\"330.8292\"> </text><text fill=\"#33FF02\" font-family=\"sans-serif\" font-size=\"14\" font-weight=\"bold\" lengthAdjust=\"spacing\" textLength=\"73.9375\" x=\"5\" y=\"347.1261\">@startuml</text><text fill=\"#33FF02\" font-family=\"sans-serif\" font-size=\"14\" font-weight=\"bold\" lengthAdjust=\"spacing\" text-decoration=\"wavy underline\" textLength=\"4\" x=\"5\" y=\"363.423\"> </text><text fill=\"#FF0000\" font-family=\"sans-serif\" font-size=\"14\" font-weight=\"bold\" lengthAdjust=\"spacing\" textLength=\"131\" x=\"9\" y=\"379.7198\">Empty description</text><!--MD5=[5b6570bdd48fecdb4121f0162c378f28]\n",
       "@startuml\r\n",
       " \r\n",
       "@enduml\r\n",
       "\n",
       "PlantUML version 1.2022.7(Mon Aug 22 17:01:30 UTC 2022)\n",
       "(EPL source distribution)\n",
       "Java Runtime: OpenJDK Runtime Environment\n",
       "JVM: OpenJDK 64-Bit Server VM\n",
       "Default Encoding: UTF-8\n",
       "Language: en\n",
       "Country: null\n",
       "--></g></svg>"
      ]
     },
     "execution_count": 32,
     "metadata": {},
     "output_type": "execute_result"
    }
   ],
   "source": [
    "%viz --style=\"PLANTUML\" --view=\"State\" \"TradeStudyTest\""
   ]
  },
  {
   "cell_type": "code",
   "execution_count": 33,
   "id": "102e335d",
   "metadata": {
    "execution": {
     "iopub.execute_input": "2024-12-16T14:21:09.598245Z",
     "iopub.status.busy": "2024-12-16T14:21:09.598034Z",
     "iopub.status.idle": "2024-12-16T14:21:09.626715Z",
     "shell.execute_reply": "2024-12-16T14:21:09.626489Z"
    }
   },
   "outputs": [
    {
     "data": {
      "image/svg+xml": [
       "<?xml version=\"1.0\" encoding=\"UTF-8\" standalone=\"no\"?><svg xmlns=\"http://www.w3.org/2000/svg\" xmlns:xlink=\"http://www.w3.org/1999/xlink\" contentStyleType=\"text/css\" height=\"410px\" preserveAspectRatio=\"none\" style=\"width:623px;height:410px;background:#FFFFFF;\" version=\"1.1\" viewBox=\"0 0 623 410\" width=\"623px\" zoomAndPan=\"magnify\"><defs/><g><!--MD5=[fbc87193dbaf4d95561dea2c320d4a47]\n",
       "cluster E1--><g id=\"cluster_E1\"><a href=\"psysml:a91f55f8-3969-42e6-b46f-82de9da3fdc7\" target=\"_top\" title=\"psysml:a91f55f8-3969-42e6-b46f-82de9da3fdc7\" xlink:actuate=\"onRequest\" xlink:href=\"psysml:a91f55f8-3969-42e6-b46f-82de9da3fdc7\" xlink:show=\"new\" xlink:title=\"psysml:a91f55f8-3969-42e6-b46f-82de9da3fdc7\" xlink:type=\"simple\"><path d=\"M8.5,6 L125.625,6 A3.75,3.75 0 0 1 128.125,8.5 L135.125,28.2969 L613.5,28.2969 A2.5,2.5 0 0 1 616,30.7969 L616,400.5 A2.5,2.5 0 0 1 613.5,403 L8.5,403 A2.5,2.5 0 0 1 6,400.5 L6,8.5 A2.5,2.5 0 0 1 8.5,6 \" fill=\"none\" style=\"stroke:#000000;stroke-width:1.5;\"/><line style=\"stroke:#000000;stroke-width:1.5;\" x1=\"6\" x2=\"135.125\" y1=\"28.2969\" y2=\"28.2969\"/><text fill=\"#000000\" font-family=\"sans-serif\" font-size=\"14\" font-weight=\"bold\" lengthAdjust=\"spacing\" textLength=\"116.125\" x=\"10\" y=\"20.9951\">TradeStudyTest</text></a></g><!--MD5=[de5ec2e2e8f62f467e546659f5068c88]\n",
       "cluster E5--><g id=\"cluster_E5\"><a href=\"psysml:538ece1f-cb66-4e09-817f-0abcddd62ddd\" target=\"_top\" title=\"psysml:538ece1f-cb66-4e09-817f-0abcddd62ddd\" xlink:actuate=\"onRequest\" xlink:href=\"psysml:538ece1f-cb66-4e09-817f-0abcddd62ddd\" xlink:show=\"new\" xlink:title=\"psysml:538ece1f-cb66-4e09-817f-0abcddd62ddd\" xlink:type=\"simple\"><rect fill=\"#FFFFFF\" height=\"158\" id=\"E5\" rx=\"10\" ry=\"10\" style=\"stroke:#A80036;stroke-width:1.5;\" width=\"250\" x=\"285\" y=\"57\"/><rect fill=\"#F1F1F1\" height=\"40.2656\" rx=\"10\" ry=\"10\" style=\"stroke:#F1F1F1;stroke-width:1.5;\" width=\"250\" x=\"285\" y=\"57\"/><rect fill=\"#F1F1F1\" height=\"10\" style=\"stroke:#F1F1F1;stroke-width:1.5;\" width=\"250\" x=\"285\" y=\"87.2656\"/><rect fill=\"none\" height=\"158\" id=\"E5\" rx=\"10\" ry=\"10\" style=\"stroke:#A80036;stroke-width:1.5;\" width=\"250\" x=\"285\" y=\"57\"/><text fill=\"#000000\" font-family=\"sans-serif\" font-size=\"12\" font-style=\"italic\" lengthAdjust=\"spacing\" textLength=\"64\" x=\"378\" y=\"73.1387\">«analysis»</text><text fill=\"#000000\" font-family=\"sans-serif\" font-size=\"14\" lengthAdjust=\"spacing\" textLength=\"215\" x=\"298.5\" y=\"88.9639\">engineTradeStudy: TradeStudy</text><line style=\"stroke:#A80036;stroke-width:1.0;\" x1=\"285\" x2=\"535\" y1=\"97.2656\" y2=\"97.2656\"/></a></g><!--MD5=[2156ba9850f5573cc1fc38a6a4b2f02b]\n",
       "class E7--><a href=\"psysml:f253b0d3-72ce-4ec1-aa97-c21cff35f053\" target=\"_top\" title=\"psysml:f253b0d3-72ce-4ec1-aa97-c21cff35f053\" xlink:actuate=\"onRequest\" xlink:href=\"psysml:f253b0d3-72ce-4ec1-aa97-c21cff35f053\" xlink:show=\"new\" xlink:title=\"psysml:f253b0d3-72ce-4ec1-aa97-c21cff35f053\" xlink:type=\"simple\"><g id=\"elem_E7\"><rect fill=\"#F1F1F1\" height=\"48.2656\" id=\"E7\" rx=\"10\" ry=\"10\" style=\"stroke:#181818;stroke-width:0.5;\" width=\"170\" x=\"165\" y=\"239\"/><ellipse cx=\"180\" cy=\"259.1328\" fill=\"#FFA500\" rx=\"11\" ry=\"11\" style=\"stroke:#181818;stroke-width:1.0;\"/><path d=\"M180.0625,266.3047 Q177.9531,266.3047 176.8594,265.1797 Q175.7656,264.0547 175.7656,262.0078 L175.7656,253.9922 L178.2344,253.9922 L178.2344,261.5703 Q178.2344,263.0078 178.6875,263.6016 Q179.1406,264.1797 180.0938,264.1797 Q181.1094,264.1797 181.5313,263.5703 Q181.9688,262.9609 181.9688,261.5547 L181.9688,253.9922 L184.4375,253.9922 L184.4375,261.9922 Q184.4375,263.9766 183.3438,265.1484 Q182.2656,266.3047 180.0625,266.3047 Z \" fill=\"#000000\"/><text fill=\"#000000\" font-family=\"sans-serif\" font-size=\"12\" font-style=\"italic\" lengthAdjust=\"spacing\" textLength=\"82\" x=\"222\" y=\"255.1387\">«calculation»</text><text fill=\"#000000\" font-family=\"sans-serif\" font-size=\"14\" lengthAdjust=\"spacing\" textLength=\"130\" x=\"194\" y=\"270.9639\">evaluationFunction</text><line style=\"stroke:#181818;stroke-width:0.5;\" x1=\"166\" x2=\"334\" y1=\"279.2656\" y2=\"279.2656\"/></g></a><!--MD5=[b9389687b975829384b498ac4b7476b2]\n",
       "class E8--><a href=\"psysml:753de58d-f4ea-44a5-91ee-5ffc5e7a177d\" target=\"_top\" title=\"psysml:753de58d-f4ea-44a5-91ee-5ffc5e7a177d\" xlink:actuate=\"onRequest\" xlink:href=\"psysml:753de58d-f4ea-44a5-91ee-5ffc5e7a177d\" xlink:show=\"new\" xlink:title=\"psysml:753de58d-f4ea-44a5-91ee-5ffc5e7a177d\" xlink:type=\"simple\"><g id=\"elem_E8\"><rect fill=\"#F1F1F1\" height=\"40\" id=\"E8\" rx=\"10\" ry=\"10\" style=\"stroke:#181818;stroke-width:0.5;\" width=\"168\" x=\"395\" y=\"297\"/><ellipse cx=\"410\" cy=\"313\" fill=\"#F1F1F1\" rx=\"11\" ry=\"11\" style=\"stroke:#181818;stroke-width:1.0;\"/><path d=\"M410.0625,320.1719 Q407.9531,320.1719 406.8594,319.0469 Q405.7656,317.9219 405.7656,315.875 L405.7656,307.8594 L408.2344,307.8594 L408.2344,315.4375 Q408.2344,316.875 408.6875,317.4688 Q409.1406,318.0469 410.0938,318.0469 Q411.1094,318.0469 411.5313,317.4375 Q411.9688,316.8281 411.9688,315.4219 L411.9688,307.8594 L414.4375,307.8594 L414.4375,315.8594 Q414.4375,317.8438 413.3438,319.0156 Q412.2656,320.1719 410.0625,320.1719 Z \" fill=\"#000000\"/><text fill=\"#000000\" font-family=\"sans-serif\" font-size=\"14\" lengthAdjust=\"spacing\" textLength=\"128\" x=\"424\" y=\"317.8467\">alternative: Engine</text><line style=\"stroke:#181818;stroke-width:0.5;\" x1=\"396\" x2=\"562\" y1=\"329\" y2=\"329\"/></g></a><!--MD5=[fd4143e9d270a159db93a4ea2a975926]\n",
       "class E9--><a href=\"psysml:76ff8411-b0e7-4dd9-89c0-3f2666988fc0\" target=\"_top\" title=\"psysml:76ff8411-b0e7-4dd9-89c0-3f2666988fc0\" xlink:actuate=\"onRequest\" xlink:href=\"psysml:76ff8411-b0e7-4dd9-89c0-3f2666988fc0\" xlink:show=\"new\" xlink:title=\"psysml:76ff8411-b0e7-4dd9-89c0-3f2666988fc0\" xlink:type=\"simple\"><g id=\"elem_E9\"><rect fill=\"#F1F1F1\" height=\"40\" id=\"E9\" rx=\"10\" ry=\"10\" style=\"stroke:#181818;stroke-width:0.5;\" width=\"229\" x=\"370.5\" y=\"243\"/><ellipse cx=\"385.5\" cy=\"259\" fill=\"#F1F1F1\" rx=\"11\" ry=\"11\" style=\"stroke:#181818;stroke-width:1.0;\"/><path d=\"M385.5625,266.1719 Q383.4531,266.1719 382.3594,265.0469 Q381.2656,263.9219 381.2656,261.875 L381.2656,253.8594 L383.7344,253.8594 L383.7344,261.4375 Q383.7344,262.875 384.1875,263.4688 Q384.6406,264.0469 385.5938,264.0469 Q386.6094,264.0469 387.0313,263.4375 Q387.4688,262.8281 387.4688,261.4219 L387.4688,253.8594 L389.9375,253.8594 L389.9375,261.8594 Q389.9375,263.8438 388.8438,265.0156 Q387.7656,266.1719 385.5625,266.1719 Z \" fill=\"#000000\"/><text fill=\"#000000\" font-family=\"sans-serif\" font-size=\"14\" lengthAdjust=\"spacing\" textLength=\"189\" x=\"399.5\" y=\"263.8467\">selectedAlternative: Engine</text><line style=\"stroke:#181818;stroke-width:0.5;\" x1=\"371.5\" x2=\"598.5\" y1=\"275\" y2=\"275\"/></g></a><g><a href=\"psysml:8055cf29-c4ca-4370-b025-bca5bf4f4944\" target=\"_top\" title=\"psysml:8055cf29-c4ca-4370-b025-bca5bf4f4944\" xlink:actuate=\"onRequest\" xlink:href=\"psysml:8055cf29-c4ca-4370-b025-bca5bf4f4944\" xlink:show=\"new\" xlink:title=\"psysml:8055cf29-c4ca-4370-b025-bca5bf4f4944\" xlink:type=\"simple\"><rect fill=\"#F1F1F1\" height=\"40\" id=\"E2\" style=\"stroke:#A80036;stroke-width:1.5;\" width=\"85\" x=\"338.5\" y=\"347\"/><ellipse cx=\"355.75\" cy=\"363\" fill=\"#008000\" rx=\"11\" ry=\"11\" style=\"stroke:#181818;stroke-width:1.0;\"/><path d=\"M352.6094,369.5 L352.6094,357.3594 L356.4063,357.3594 Q358.4063,357.3594 359.4531,358.0625 Q360.5156,358.7656 360.5156,360.3438 Q360.5156,361.4375 360.0156,362.1563 Q359.5313,362.875 358.7031,363.0625 L358.7031,363.1406 Q359.625,363.3594 360.1875,364.0313 Q360.7656,364.6875 360.7656,365.9531 Q360.7656,367.6094 359.7188,368.5625 Q358.6719,369.5 356.8125,369.5 L352.6094,369.5 Z M356.3906,362.1406 Q357.2813,362.1406 357.6406,361.8125 Q358.0156,361.4688 358.0156,360.7656 Q358.0156,360.0313 357.625,359.7188 Q357.2344,359.3906 356.2969,359.3906 L354.9063,359.3906 L354.9063,362.1406 L356.3906,362.1406 Z M356.5781,367.4844 Q357.4844,367.4844 357.8438,367.0469 Q358.2031,366.5938 358.2031,365.8125 Q358.2031,365.0313 357.8281,364.6406 Q357.4688,364.2344 356.4844,364.2344 L354.9063,364.2344 L354.9063,367.4844 L356.5781,367.4844 Z \" fill=\"#000000\"/><text fill=\"#000000\" font-family=\"sans-serif\" font-size=\"14\" lengthAdjust=\"spacing\" textLength=\"48\" x=\"370.25\" y=\"367.8467\">Engine</text></a></g><g><a href=\"psysml:479197b1-ce2e-480f-b2ef-7f257dc343b8\" target=\"_top\" title=\"psysml:479197b1-ce2e-480f-b2ef-7f257dc343b8\" xlink:actuate=\"onRequest\" xlink:href=\"psysml:479197b1-ce2e-480f-b2ef-7f257dc343b8\" xlink:show=\"new\" xlink:title=\"psysml:479197b1-ce2e-480f-b2ef-7f257dc343b8\" xlink:type=\"simple\"><rect fill=\"#F1F1F1\" height=\"40\" id=\"E3\" rx=\"10\" ry=\"10\" style=\"stroke:#A80036;stroke-width:1.5;\" width=\"151\" x=\"208.5\" y=\"297\"/><ellipse cx=\"225.75\" cy=\"313\" fill=\"#F1F1F1\" rx=\"11\" ry=\"11\" style=\"stroke:#181818;stroke-width:1.0;\"/><path d=\"M225.8125,320.1719 Q223.7031,320.1719 222.6094,319.0469 Q221.5156,317.9219 221.5156,315.875 L221.5156,307.8594 L223.9844,307.8594 L223.9844,315.4375 Q223.9844,316.875 224.4375,317.4688 Q224.8906,318.0469 225.8438,318.0469 Q226.8594,318.0469 227.2813,317.4375 Q227.7188,316.8281 227.7188,315.4219 L227.7188,307.8594 L230.1875,307.8594 L230.1875,315.8594 Q230.1875,317.8438 229.0938,319.0156 Q228.0156,320.1719 225.8125,320.1719 Z \" fill=\"#000000\"/><text fill=\"#000000\" font-family=\"sans-serif\" font-size=\"14\" lengthAdjust=\"spacing\" textLength=\"114\" x=\"240.25\" y=\"317.8467\">engine1: Engine</text></a></g><g><a href=\"psysml:df8f9049-6917-4fa7-a1c9-f212538c9a4e\" target=\"_top\" title=\"psysml:df8f9049-6917-4fa7-a1c9-f212538c9a4e\" xlink:actuate=\"onRequest\" xlink:href=\"psysml:df8f9049-6917-4fa7-a1c9-f212538c9a4e\" xlink:show=\"new\" xlink:title=\"psysml:df8f9049-6917-4fa7-a1c9-f212538c9a4e\" xlink:type=\"simple\"><rect fill=\"#F1F1F1\" height=\"40\" id=\"E4\" rx=\"10\" ry=\"10\" style=\"stroke:#A80036;stroke-width:1.5;\" width=\"151\" x=\"22.5\" y=\"297\"/><ellipse cx=\"39.75\" cy=\"313\" fill=\"#F1F1F1\" rx=\"11\" ry=\"11\" style=\"stroke:#181818;stroke-width:1.0;\"/><path d=\"M39.8125,320.1719 Q37.7031,320.1719 36.6094,319.0469 Q35.5156,317.9219 35.5156,315.875 L35.5156,307.8594 L37.9844,307.8594 L37.9844,315.4375 Q37.9844,316.875 38.4375,317.4688 Q38.8906,318.0469 39.8438,318.0469 Q40.8594,318.0469 41.2813,317.4375 Q41.7188,316.8281 41.7188,315.4219 L41.7188,307.8594 L44.1875,307.8594 L44.1875,315.8594 Q44.1875,317.8438 43.0938,319.0156 Q42.0156,320.1719 39.8125,320.1719 Z \" fill=\"#000000\"/><text fill=\"#000000\" font-family=\"sans-serif\" font-size=\"14\" lengthAdjust=\"spacing\" textLength=\"114\" x=\"54.25\" y=\"317.8467\">engine2: Engine</text></a></g><!--MD5=[60a26617385b1d2d0262a64233df1f8d]\n",
       "class E6--><a href=\"psysml:4f755969-6586-456d-bfaa-2c124f0f3312\" target=\"_top\" title=\"psysml:4f755969-6586-456d-bfaa-2c124f0f3312\" xlink:actuate=\"onRequest\" xlink:href=\"psysml:4f755969-6586-456d-bfaa-2c124f0f3312\" xlink:show=\"new\" xlink:title=\"psysml:4f755969-6586-456d-bfaa-2c124f0f3312\" xlink:type=\"simple\"><g id=\"elem_E6\"><rect fill=\"#F1F1F1\" height=\"75.0813\" id=\"E6\" rx=\"10\" ry=\"10\" style=\"stroke:#181818;stroke-width:0.5;\" width=\"171\" x=\"336.5\" y=\"116\"/><ellipse cx=\"351.5\" cy=\"136.1328\" fill=\"#F1F1F1\" rx=\"11\" ry=\"11\" style=\"stroke:#181818;stroke-width:1.0;\"/><path d=\"M351.5625,143.3047 Q349.4531,143.3047 348.3594,142.1797 Q347.2656,141.0547 347.2656,139.0078 L347.2656,130.9922 L349.7344,130.9922 L349.7344,138.5703 Q349.7344,140.0078 350.1875,140.6016 Q350.6406,141.1797 351.5938,141.1797 Q352.6094,141.1797 353.0313,140.5703 Q353.4688,139.9609 353.4688,138.5547 L353.4688,130.9922 L355.9375,130.9922 L355.9375,138.9922 Q355.9375,140.9766 354.8438,142.1484 Q353.7656,143.3047 351.5625,143.3047 Z \" fill=\"#000000\"/><text fill=\"#000000\" font-family=\"sans-serif\" font-size=\"12\" font-style=\"italic\" lengthAdjust=\"spacing\" textLength=\"70\" x=\"400\" y=\"132.1387\">«objective»</text><text fill=\"#000000\" font-family=\"sans-serif\" font-size=\"14\" lengthAdjust=\"spacing\" textLength=\"139\" x=\"365.5\" y=\"147.9639\">tradeStudyObjective</text><line style=\"stroke:#181818;stroke-width:0.5;\" x1=\"337.5\" x2=\"506.5\" y1=\"156.2656\" y2=\"156.2656\"/><text fill=\"#000000\" font-family=\"sans-serif\" font-size=\"14\" lengthAdjust=\"spacing\" textLength=\"132\" x=\"342.5\" y=\"183.7795\">selectedAlternative</text><text fill=\"#000000\" font-family=\"sans-serif\" font-size=\"14\" font-style=\"italic\" lengthAdjust=\"spacing\" textLength=\"51\" x=\"396.5\" y=\"168.6123\">subject</text></g></a><!--MD5=[05d275557350bfb9b23a4ef7222b4c39]\n",
       "link E3 to E2--><g id=\"link_E3_E2\"><a href=\"psysml:bc3cf079-eae7-49ce-b297-ec132a977e50\" target=\"_top\" title=\"psysml:bc3cf079-eae7-49ce-b297-ec132a977e50\" xlink:actuate=\"onRequest\" xlink:href=\"psysml:bc3cf079-eae7-49ce-b297-ec132a977e50\" xlink:show=\"new\" xlink:title=\"psysml:bc3cf079-eae7-49ce-b297-ec132a977e50\" xlink:type=\"simple\"><path d=\"M322.62,337.11 C323.23,337.41 323.85,337.72 324.46,338.02 \" fill=\"none\" id=\"E3-to-E2\" style=\"stroke:#181818;stroke-width:1.0;\"/><polygon fill=\"#FFFFFF\" points=\"342.52,346.96,322.3863,344.8075,328.5952,332.2596,342.52,346.96\" style=\"stroke:#181818;stroke-width:1.0;\"/><ellipse cx=\"318.1645\" cy=\"340.487\" fill=\"#181818\" rx=\"2\" ry=\"2\" style=\"stroke:#181818;stroke-width:1.0;\"/><ellipse cx=\"322.5995\" cy=\"331.5243\" fill=\"#181818\" rx=\"2\" ry=\"2\" style=\"stroke:#181818;stroke-width:1.0;\"/></a></g><!--MD5=[185131fc0dcab0a4505a2ebe144e961b]\n",
       "link E4 to E2--><g id=\"link_E4_E2\"><a href=\"psysml:aa1a99dc-dc69-45ac-b95f-3bcc471ea5d4\" target=\"_top\" title=\"psysml:aa1a99dc-dc69-45ac-b95f-3bcc471ea5d4\" xlink:actuate=\"onRequest\" xlink:href=\"psysml:aa1a99dc-dc69-45ac-b95f-3bcc471ea5d4\" xlink:show=\"new\" xlink:title=\"psysml:aa1a99dc-dc69-45ac-b95f-3bcc471ea5d4\" xlink:type=\"simple\"><path d=\"M173.57,333.77 C179.46,334.9 185.32,335.99 191,337 C233.35,344.55 281.23,351.85 318.33,357.24 \" fill=\"none\" id=\"E4-to-E2\" style=\"stroke:#181818;stroke-width:1.0;\"/><polygon fill=\"#FFFFFF\" points=\"338.26,360.1,318.458,364.3286,320.4477,350.4708,338.26,360.1\" style=\"stroke:#181818;stroke-width:1.0;\"/><ellipse cx=\"313.1001\" cy=\"361.5389\" fill=\"#181818\" rx=\"2\" ry=\"2\" style=\"stroke:#181818;stroke-width:1.0;\"/><ellipse cx=\"314.5213\" cy=\"351.6404\" fill=\"#181818\" rx=\"2\" ry=\"2\" style=\"stroke:#181818;stroke-width:1.0;\"/></a></g><!--MD5=[452b418e7f8a40397a49b8c0a78acc5b]\n",
       "reverse link E5 to E7--><g id=\"link_E5_E7\"><a href=\"psysml:ae0ddffd-d94b-4ee5-a4cb-a499b90c2b96\" target=\"_top\" title=\"psysml:ae0ddffd-d94b-4ee5-a4cb-a499b90c2b96\" xlink:actuate=\"onRequest\" xlink:href=\"psysml:ae0ddffd-d94b-4ee5-a4cb-a499b90c2b96\" xlink:show=\"new\" xlink:title=\"psysml:ae0ddffd-d94b-4ee5-a4cb-a499b90c2b96\" xlink:type=\"simple\"><path d=\"M284.8347,183.9806 C284.7768,184.1104 284.7187,184.2404 284.6605,184.3707 C284.4278,184.8918 284.1934,185.4166 283.9575,185.945 C276.4075,202.8525 267.26,223.34 260.36,238.79 \" fill=\"none\" id=\"E5-backto-E7\" style=\"stroke:#181818;stroke-width:1.0;\"/><polygon fill=\"#181818\" points=\"284.8347,183.9806,278.7359,187.8281,279.9418,194.9377,286.0406,191.0901,284.8347,183.9806\" style=\"stroke:#181818;stroke-width:1.0;\"/></a></g><!--MD5=[dc164f5e8a733ab456ef1add180e9e34]\n",
       "reverse link E7 to E8--><g id=\"link_E7_E8\"><a href=\"psysml:a8c82a2a-741b-4fac-ac9b-98beb228d3cb\" target=\"_top\" title=\"psysml:a8c82a2a-741b-4fac-ac9b-98beb228d3cb\" xlink:actuate=\"onRequest\" xlink:href=\"psysml:a8c82a2a-741b-4fac-ac9b-98beb228d3cb\" xlink:show=\"new\" xlink:title=\"psysml:a8c82a2a-741b-4fac-ac9b-98beb228d3cb\" xlink:type=\"simple\"><path d=\"M348.27,286.32 C363.9,289.86 379.93,293.5 395.18,296.97 \" fill=\"none\" id=\"E7-backto-E8\" style=\"stroke:#181818;stroke-width:1.0;\"/><polygon fill=\"none\" points=\"335.27,283.36,340.2333,288.5912,346.9711,286.0217,342.0078,280.7905,335.27,283.36\" style=\"stroke:#181818;stroke-width:1.0;\"/></a></g><!--MD5=[f1f3f9f2fc535e6147756cb86a7f2e32]\n",
       "link E8 to E2--><g id=\"link_E8_E2\"><a href=\"psysml:199cdd6b-9599-4ee9-8d7a-04a31416ec15\" target=\"_top\" title=\"psysml:199cdd6b-9599-4ee9-8d7a-04a31416ec15\" xlink:actuate=\"onRequest\" xlink:href=\"psysml:199cdd6b-9599-4ee9-8d7a-04a31416ec15\" xlink:show=\"new\" xlink:title=\"psysml:199cdd6b-9599-4ee9-8d7a-04a31416ec15\" xlink:type=\"simple\"><path d=\"M439.99,337.11 C439.37,337.41 438.74,337.72 438.12,338.02 \" fill=\"none\" id=\"E8-to-E2\" style=\"stroke:#181818;stroke-width:1.0;\"/><polygon fill=\"#FFFFFF\" points=\"419.88,346.96,433.8657,332.3175,440.0225,344.8911,419.88,346.96\" style=\"stroke:#181818;stroke-width:1.0;\"/><ellipse cx=\"439.8644\" cy=\"331.6071\" fill=\"#181818\" rx=\"2\" ry=\"2\" style=\"stroke:#181818;stroke-width:1.0;\"/><ellipse cx=\"444.2622\" cy=\"340.5881\" fill=\"#181818\" rx=\"2\" ry=\"2\" style=\"stroke:#181818;stroke-width:1.0;\"/></a></g><!--MD5=[9ae28de373ca99bb8a1b38d63370ca7e]\n",
       "reverse link E5 to E9--><g id=\"link_E5_E9\"><a href=\"psysml:549a8511-5afb-4107-9df8-0f136ad572ec\" target=\"_top\" title=\"psysml:549a8511-5afb-4107-9df8-0f136ad572ec\" xlink:actuate=\"onRequest\" xlink:href=\"psysml:549a8511-5afb-4107-9df8-0f136ad572ec\" xlink:show=\"new\" xlink:title=\"psysml:549a8511-5afb-4107-9df8-0f136ad572ec\" xlink:type=\"simple\"><path d=\"M308.3527,215.298 C308.4136,215.418 308.4749,215.5379 308.5365,215.6575 C309.5226,217.5713 310.5968,219.4336 311.767,221.2262 C314.1073,224.8113 316.8313,228.1175 320,231 C321.35,232.23 347.07,237.27 377.82,242.95 \" fill=\"none\" id=\"E5-backto-E9\" style=\"stroke:#181818;stroke-width:1.0;\"/><polygon fill=\"none\" points=\"308.3527,215.298,307.5026,222.4589,313.7856,225.9977,314.6357,218.8369,308.3527,215.298\" style=\"stroke:#181818;stroke-width:1.0;\"/></a></g><!--MD5=[5c3bb36fe832a92c7f0e1807dd65209d]\n",
       "link E9 to E2--><g id=\"link_E9_E2\"><a href=\"psysml:94a3a0b9-9284-4132-a69a-1dbd276e1390\" target=\"_top\" title=\"psysml:94a3a0b9-9284-4132-a69a-1dbd276e1390\" xlink:actuate=\"onRequest\" xlink:href=\"psysml:94a3a0b9-9284-4132-a69a-1dbd276e1390\" xlink:show=\"new\" xlink:title=\"psysml:94a3a0b9-9284-4132-a69a-1dbd276e1390\" xlink:type=\"simple\"><path d=\"M566.82,283.18 C572.26,286.99 577.11,291.55 581,297 C591.33,311.47 592.63,323.56 581,337 C563.46,357.27 495.58,363.68 443.72,365.54 \" fill=\"none\" id=\"E9-to-E2\" style=\"stroke:#181818;stroke-width:1.0;\"/><polygon fill=\"#FFFFFF\" points=\"423.72,366.08,442.5283,358.5801,442.8984,372.5752,423.72,366.08\" style=\"stroke:#181818;stroke-width:1.0;\"/><ellipse cx=\"448.2792\" cy=\"360.4287\" fill=\"#181818\" rx=\"2\" ry=\"2\" style=\"stroke:#181818;stroke-width:1.0;\"/><ellipse cx=\"448.5436\" cy=\"370.4252\" fill=\"#181818\" rx=\"2\" ry=\"2\" style=\"stroke:#181818;stroke-width:1.0;\"/></a></g><!--MD5=[421c5919ecd2f5ac95cb4e3153aa65c1]\n",
       "@startuml\r\n",
       " skinparam ranksep 10\r\n",
       "skinparam rectangle {\r\n",
       " backgroundColor<<block>> LightGreen\r\n",
       "}\r\n",
       "\r\n",
       "package \"TradeStudyTest\" as E1  [[psysml:a91f55f8-3969-42e6-b46f-82de9da3fdc7 ]]  {\r\n",
       "rec def \"Engine\" as E2  << << (B,green) >> [[psysml:8055cf29-c4ca-4370-b025-bca5bf4f4944 ]] {\r\n",
       "}\r\n",
       "rec usage \"engine1: Engine\" as E3 [[psysml:479197b1-ce2e-480f-b2ef-7f257dc343b8 ]] {\r\n",
       "}\r\n",
       "rec usage \"engine2: Engine\" as E4 [[psysml:df8f9049-6917-4fa7-a1c9-f212538c9a4e ]] {\r\n",
       "}\r\n",
       "rec usage \"engineTradeStudy: TradeStudy  \" as E5  << analysis>> [[psysml:538ece1f-cb66-4e09-817f-0abcddd62ddd ]] {\r\n",
       "comp usage \"tradeStudyObjective\" as E6  <<objective>> [[psysml:4f755969-6586-456d-bfaa-2c124f0f3312 ]] {\r\n",
       "##//subject//##\r\n",
       "selectedAlternative\r\n",
       "}\r\n",
       "}\r\n",
       "comp usage \"evaluationFunction  \" as E7  << <<(U,orange) calculation>> [[psysml:f253b0d3-72ce-4ec1-aa97-c21cff35f053 ]] {\r\n",
       "}\r\n",
       "comp usage \"alternative: Engine  \" as E8 [[psysml:753de58d-f4ea-44a5-91ee-5ffc5e7a177d ]] {\r\n",
       "}\r\n",
       "comp usage \"selectedAlternative: Engine  \" as E9 [[psysml:76ff8411-b0e7-4dd9-89c0-3f2666988fc0 ]] {\r\n",
       "}\r\n",
       "}\r\n",
       "E3 - -:|> E2 [[psysml:bc3cf079-eae7-49ce-b297-ec132a977e50 ]] \r\n",
       "E4 - -:|> E2 [[psysml:aa1a99dc-dc69-45ac-b95f-3bcc471ea5d4 ]] \r\n",
       "E5 *- - E7 [[psysml:ae0ddffd-d94b-4ee5-a4cb-a499b90c2b96 ]] \r\n",
       "E7 o- - E8 [[psysml:a8c82a2a-741b-4fac-ac9b-98beb228d3cb ]] \r\n",
       "E8 - -:|> E2 [[psysml:199cdd6b-9599-4ee9-8d7a-04a31416ec15 ]] \r\n",
       "E5 o- - E9 [[psysml:549a8511-5afb-4107-9df8-0f136ad572ec ]] \r\n",
       "E9 - -:|> E2 [[psysml:94a3a0b9-9284-4132-a69a-1dbd276e1390 ]] \r\n",
       "@enduml\r\n",
       "\n",
       "PlantUML version 1.2022.7(Mon Aug 22 17:01:30 UTC 2022)\n",
       "(EPL source distribution)\n",
       "Java Runtime: OpenJDK Runtime Environment\n",
       "JVM: OpenJDK 64-Bit Server VM\n",
       "Default Encoding: UTF-8\n",
       "Language: en\n",
       "Country: null\n",
       "--></g></svg>"
      ]
     },
     "execution_count": 33,
     "metadata": {},
     "output_type": "execute_result"
    }
   ],
   "source": [
    "%viz --style=\"PLANTUML\" --view=\"Interconnection\" \"TradeStudyTest\""
   ]
  },
  {
   "cell_type": "code",
   "execution_count": 34,
   "id": "c192b17e",
   "metadata": {
    "execution": {
     "iopub.execute_input": "2024-12-16T14:21:09.678836Z",
     "iopub.status.busy": "2024-12-16T14:21:09.678541Z",
     "iopub.status.idle": "2024-12-16T14:21:09.694301Z",
     "shell.execute_reply": "2024-12-16T14:21:09.694131Z"
    }
   },
   "outputs": [
    {
     "data": {
      "image/svg+xml": [
       "<?xml version=\"1.0\" encoding=\"UTF-8\" standalone=\"no\"?><svg xmlns=\"http://www.w3.org/2000/svg\" xmlns:xlink=\"http://www.w3.org/1999/xlink\" contentStyleType=\"text/css\" height=\"222px\" preserveAspectRatio=\"none\" style=\"width:448px;height:222px;background:#FFFFFF;\" version=\"1.1\" viewBox=\"0 0 448 222\" width=\"448px\" zoomAndPan=\"magnify\"><defs/><g><!--MD5=[fbc87193dbaf4d95561dea2c320d4a47]\n",
       "cluster E1--><g id=\"cluster_E1\"><a href=\"psysml:538ece1f-cb66-4e09-817f-0abcddd62ddd\" target=\"_top\" title=\"psysml:538ece1f-cb66-4e09-817f-0abcddd62ddd\" xlink:actuate=\"onRequest\" xlink:href=\"psysml:538ece1f-cb66-4e09-817f-0abcddd62ddd\" xlink:show=\"new\" xlink:title=\"psysml:538ece1f-cb66-4e09-817f-0abcddd62ddd\" xlink:type=\"simple\"><rect fill=\"#FFFFFF\" height=\"174.36\" id=\"E1\" rx=\"10\" ry=\"10\" style=\"stroke:#A80036;stroke-width:1.5;\" width=\"328\" x=\"47\" y=\"42.0986\"/><rect fill=\"#F1F1F1\" height=\"40.2656\" rx=\"10\" ry=\"10\" style=\"stroke:#F1F1F1;stroke-width:1.5;\" width=\"328\" x=\"47\" y=\"42.0986\"/><rect fill=\"#F1F1F1\" height=\"10\" style=\"stroke:#F1F1F1;stroke-width:1.5;\" width=\"328\" x=\"47\" y=\"72.3643\"/><rect fill=\"none\" height=\"174.36\" id=\"E1\" rx=\"10\" ry=\"10\" style=\"stroke:#A80036;stroke-width:1.5;\" width=\"328\" x=\"47\" y=\"42.0986\"/><text fill=\"#000000\" font-family=\"sans-serif\" font-size=\"12\" font-style=\"italic\" lengthAdjust=\"spacing\" textLength=\"64\" x=\"179\" y=\"58.2373\">«analysis»</text><text fill=\"#000000\" font-family=\"sans-serif\" font-size=\"14\" lengthAdjust=\"spacing\" textLength=\"127\" x=\"147.5\" y=\"74.0625\">engineTradeStudy</text><line style=\"stroke:#A80036;stroke-width:1.0;\" x1=\"47\" x2=\"375\" y1=\"82.3643\" y2=\"82.3643\"/></a></g><!--MD5=[d5e69f78d87373223dbae638b30a9c99]\n",
       "cluster E3--><g id=\"cluster_E3\"><a href=\"psysml:f253b0d3-72ce-4ec1-aa97-c21cff35f053\" target=\"_top\" title=\"psysml:f253b0d3-72ce-4ec1-aa97-c21cff35f053\" xlink:actuate=\"onRequest\" xlink:href=\"psysml:f253b0d3-72ce-4ec1-aa97-c21cff35f053\" xlink:show=\"new\" xlink:title=\"psysml:f253b0d3-72ce-4ec1-aa97-c21cff35f053\" xlink:type=\"simple\"><rect fill=\"#FFFFFF\" height=\"104.86\" id=\"E3\" rx=\"10\" ry=\"10\" style=\"stroke:#A80036;stroke-width:1.5;\" width=\"186\" x=\"148\" y=\"81.5986\"/><rect fill=\"#F1F1F1\" height=\"40.2656\" rx=\"10\" ry=\"10\" style=\"stroke:#F1F1F1;stroke-width:1.5;\" width=\"186\" x=\"148\" y=\"81.5986\"/><rect fill=\"#F1F1F1\" height=\"10\" style=\"stroke:#F1F1F1;stroke-width:1.5;\" width=\"186\" x=\"148\" y=\"111.8643\"/><rect fill=\"none\" height=\"104.86\" id=\"E3\" rx=\"10\" ry=\"10\" style=\"stroke:#A80036;stroke-width:1.5;\" width=\"186\" x=\"148\" y=\"81.5986\"/><text fill=\"#000000\" font-family=\"sans-serif\" font-size=\"12\" font-style=\"italic\" lengthAdjust=\"spacing\" textLength=\"82\" x=\"200\" y=\"97.7373\">«calculation»</text><text fill=\"#000000\" font-family=\"sans-serif\" font-size=\"14\" lengthAdjust=\"spacing\" textLength=\"130\" x=\"176\" y=\"113.5625\">evaluationFunction</text><line style=\"stroke:#A80036;stroke-width:1.0;\" x1=\"148\" x2=\"334\" y1=\"121.8643\" y2=\"121.8643\"/></a></g><text fill=\"#000000\" font-family=\"sans-serif\" font-size=\"14\" lengthAdjust=\"spacing\" textLength=\"118\" x=\"6\" y=\"20.7969\">studyAlternatives</text><rect fill=\"#F1F1F1\" height=\"12\" style=\"stroke:#181818;stroke-width:1.5;\" width=\"12\" x=\"59\" y=\"36.0986\"/><text fill=\"#000000\" font-family=\"sans-serif\" font-size=\"14\" lengthAdjust=\"spacing\" textLength=\"132\" x=\"309\" y=\"183.0938\">selectedAlternative</text><rect fill=\"#F1F1F1\" height=\"12\" style=\"stroke:#181818;stroke-width:1.5;\" width=\"12\" x=\"369\" y=\"158.0986\"/><text fill=\"#000000\" font-family=\"sans-serif\" font-size=\"14\" lengthAdjust=\"spacing\" textLength=\"71\" x=\"205.5\" y=\"60.2969\">alternative</text><rect fill=\"#F1F1F1\" height=\"12\" style=\"stroke:#181818;stroke-width:1.5;\" width=\"12\" x=\"235\" y=\"75.5986\"/><text fill=\"#000000\" font-family=\"sans-serif\" font-size=\"14\" lengthAdjust=\"spacing\" textLength=\"39\" x=\"221.5\" y=\"205.4538\">result</text><rect fill=\"#F1F1F1\" height=\"12\" style=\"stroke:#181818;stroke-width:1.5;\" width=\"12\" x=\"235\" y=\"180.4586\"/><!--MD5=[4ab66ba4585a77379945604d08db6ce9]\n",
       "@startuml\r\n",
       " skinparam ranksep 8\r\n",
       "\r\n",
       "rec usage \"engineTradeStudy\" as E1  << analysis>> [[psysml:538ece1f-cb66-4e09-817f-0abcddd62ddd ]] {\r\n",
       "portin \"studyAlternatives\" as E2  [[psysml:44e81398-f8fc-476c-9aa8-f3c568baa242 ]] \r\n",
       "rec usage \"evaluationFunction\" as E3  << <<(U,orange) calculation>> [[psysml:f253b0d3-72ce-4ec1-aa97-c21cff35f053 ]] {\r\n",
       "portin \"alternative\" as E4  [[psysml:753de58d-f4ea-44a5-91ee-5ffc5e7a177d ]] \r\n",
       "portout \"result\" as E5  [[psysml:523b4531-6566-4396-be10-86694663e2d0 ]] \r\n",
       "}\r\n",
       "\r\n",
       "portout \"selectedAlternative\" as E6  [[psysml:76ff8411-b0e7-4dd9-89c0-3f2666988fc0 ]] \r\n",
       "}\r\n",
       "\r\n",
       "@enduml\r\n",
       "\n",
       "PlantUML version 1.2022.7(Mon Aug 22 17:01:30 UTC 2022)\n",
       "(EPL source distribution)\n",
       "Java Runtime: OpenJDK Runtime Environment\n",
       "JVM: OpenJDK 64-Bit Server VM\n",
       "Default Encoding: UTF-8\n",
       "Language: en\n",
       "Country: null\n",
       "--></g></svg>"
      ]
     },
     "execution_count": 34,
     "metadata": {},
     "output_type": "execute_result"
    }
   ],
   "source": [
    "%viz --style=\"PLANTUML\" --view=\"Action\" \"TradeStudyTest\""
   ]
  },
  {
   "cell_type": "code",
   "execution_count": 35,
   "id": "36a38f0a",
   "metadata": {
    "execution": {
     "iopub.execute_input": "2024-12-16T14:21:09.745430Z",
     "iopub.status.busy": "2024-12-16T14:21:09.745175Z",
     "iopub.status.idle": "2024-12-16T14:21:09.751740Z",
     "shell.execute_reply": "2024-12-16T14:21:09.751545Z"
    }
   },
   "outputs": [
    {
     "data": {
      "image/svg+xml": [
       "<?xml version=\"1.0\" encoding=\"UTF-8\" standalone=\"no\"?><svg xmlns=\"http://www.w3.org/2000/svg\" xmlns:xlink=\"http://www.w3.org/1999/xlink\" contentStyleType=\"text/css\" height=\"10px\" preserveAspectRatio=\"none\" style=\"width:10px;height:10px;background:#FFFFFF;\" version=\"1.1\" viewBox=\"0 0 10 10\" width=\"10px\" zoomAndPan=\"magnify\"><defs/><g><!--MD5=[395e82ba475bd2e80052467b56fa0251]\n",
       "@startuml\r\n",
       " skinparam roundcorner 20\r\n",
       "skinparam BoxPadding 20\r\n",
       "skinparam SequenceBoxBackgroundColor #white\r\n",
       "skinparam style strictuml\r\n",
       "skinparam maxMessageSize 100\r\n",
       "\r\n",
       "@enduml\r\n",
       "\n",
       "PlantUML version 1.2022.7(Mon Aug 22 17:01:30 UTC 2022)\n",
       "(EPL source distribution)\n",
       "Java Runtime: OpenJDK Runtime Environment\n",
       "JVM: OpenJDK 64-Bit Server VM\n",
       "Default Encoding: UTF-8\n",
       "Language: en\n",
       "Country: null\n",
       "--></g></svg>"
      ]
     },
     "execution_count": 35,
     "metadata": {},
     "output_type": "execute_result"
    }
   ],
   "source": [
    "%viz --style=\"PLANTUML\" --view=\"Sequence\" \"TradeStudyTest\""
   ]
  },
  {
   "cell_type": "code",
   "execution_count": 36,
   "id": "7039b439",
   "metadata": {
    "execution": {
     "iopub.execute_input": "2024-12-16T14:21:09.805247Z",
     "iopub.status.busy": "2024-12-16T14:21:09.804888Z",
     "iopub.status.idle": "2024-12-16T14:21:09.834306Z",
     "shell.execute_reply": "2024-12-16T14:21:09.833335Z"
    }
   },
   "outputs": [
    {
     "data": {
      "image/svg+xml": [
       "<?xml version=\"1.0\" encoding=\"UTF-8\" standalone=\"no\"?><svg xmlns=\"http://www.w3.org/2000/svg\" xmlns:xlink=\"http://www.w3.org/1999/xlink\" contentStyleType=\"text/css\" height=\"530px\" preserveAspectRatio=\"none\" style=\"width:628px;height:530px;background:#FFFFFF;\" version=\"1.1\" viewBox=\"0 0 628 530\" width=\"628px\" zoomAndPan=\"magnify\"><defs/><g><!--MD5=[fbc87193dbaf4d95561dea2c320d4a47]\n",
       "cluster E1--><g id=\"cluster_E1\"><a href=\"psysml:a91f55f8-3969-42e6-b46f-82de9da3fdc7\" target=\"_top\" title=\"psysml:a91f55f8-3969-42e6-b46f-82de9da3fdc7\" xlink:actuate=\"onRequest\" xlink:href=\"psysml:a91f55f8-3969-42e6-b46f-82de9da3fdc7\" xlink:show=\"new\" xlink:title=\"psysml:a91f55f8-3969-42e6-b46f-82de9da3fdc7\" xlink:type=\"simple\"><path d=\"M8.5,6 L125.625,6 A3.75,3.75 0 0 1 128.125,8.5 L135.125,28.2969 L618.5,28.2969 A2.5,2.5 0 0 1 621,30.7969 L621,520.5 A2.5,2.5 0 0 1 618.5,523 L8.5,523 A2.5,2.5 0 0 1 6,520.5 L6,8.5 A2.5,2.5 0 0 1 8.5,6 \" fill=\"none\" style=\"stroke:#000000;stroke-width:1.5;\"/><line style=\"stroke:#000000;stroke-width:1.5;\" x1=\"6\" x2=\"135.125\" y1=\"28.2969\" y2=\"28.2969\"/><text fill=\"#000000\" font-family=\"sans-serif\" font-size=\"14\" font-weight=\"bold\" lengthAdjust=\"spacing\" textLength=\"116.125\" x=\"10\" y=\"20.9951\">TradeStudyTest</text></a></g><!--MD5=[de5ec2e2e8f62f467e546659f5068c88]\n",
       "cluster E5--><g id=\"cluster_E5\"><a href=\"psysml:538ece1f-cb66-4e09-817f-0abcddd62ddd\" target=\"_top\" title=\"psysml:538ece1f-cb66-4e09-817f-0abcddd62ddd\" xlink:actuate=\"onRequest\" xlink:href=\"psysml:538ece1f-cb66-4e09-817f-0abcddd62ddd\" xlink:show=\"new\" xlink:title=\"psysml:538ece1f-cb66-4e09-817f-0abcddd62ddd\" xlink:type=\"simple\"><rect fill=\"#FFFFFF\" height=\"158\" id=\"E5\" rx=\"10\" ry=\"10\" style=\"stroke:#A80036;stroke-width:1.5;\" width=\"250\" x=\"290\" y=\"57\"/><rect fill=\"#F1F1F1\" height=\"40.2656\" rx=\"10\" ry=\"10\" style=\"stroke:#F1F1F1;stroke-width:1.5;\" width=\"250\" x=\"290\" y=\"57\"/><rect fill=\"#F1F1F1\" height=\"10\" style=\"stroke:#F1F1F1;stroke-width:1.5;\" width=\"250\" x=\"290\" y=\"87.2656\"/><rect fill=\"none\" height=\"158\" id=\"E5\" rx=\"10\" ry=\"10\" style=\"stroke:#A80036;stroke-width:1.5;\" width=\"250\" x=\"290\" y=\"57\"/><text fill=\"#000000\" font-family=\"sans-serif\" font-size=\"12\" font-style=\"italic\" lengthAdjust=\"spacing\" textLength=\"64\" x=\"383\" y=\"73.1387\">«analysis»</text><text fill=\"#000000\" font-family=\"sans-serif\" font-size=\"14\" lengthAdjust=\"spacing\" textLength=\"215\" x=\"303.5\" y=\"88.9639\">engineTradeStudy: TradeStudy</text><line style=\"stroke:#A80036;stroke-width:1.0;\" x1=\"290\" x2=\"540\" y1=\"97.2656\" y2=\"97.2656\"/></a></g><!--MD5=[b4997ac47864f28c2f74865a473b2911]\n",
       "class E2--><a href=\"psysml:8055cf29-c4ca-4370-b025-bca5bf4f4944\" target=\"_top\" title=\"psysml:8055cf29-c4ca-4370-b025-bca5bf4f4944\" xlink:actuate=\"onRequest\" xlink:href=\"psysml:8055cf29-c4ca-4370-b025-bca5bf4f4944\" xlink:show=\"new\" xlink:title=\"psysml:8055cf29-c4ca-4370-b025-bca5bf4f4944\" xlink:type=\"simple\"><g id=\"elem_E2\"><rect fill=\"#F1F1F1\" height=\"40\" id=\"E2\" rx=\"2.5\" ry=\"2.5\" style=\"stroke:#181818;stroke-width:0.5;\" width=\"80\" x=\"346\" y=\"467\"/><ellipse cx=\"361\" cy=\"483\" fill=\"#008000\" rx=\"11\" ry=\"11\" style=\"stroke:#181818;stroke-width:1.0;\"/><path d=\"M357.8594,489.5 L357.8594,477.3594 L361.6563,477.3594 Q363.6563,477.3594 364.7031,478.0625 Q365.7656,478.7656 365.7656,480.3438 Q365.7656,481.4375 365.2656,482.1563 Q364.7813,482.875 363.9531,483.0625 L363.9531,483.1406 Q364.875,483.3594 365.4375,484.0313 Q366.0156,484.6875 366.0156,485.9531 Q366.0156,487.6094 364.9688,488.5625 Q363.9219,489.5 362.0625,489.5 L357.8594,489.5 Z M361.6406,482.1406 Q362.5313,482.1406 362.8906,481.8125 Q363.2656,481.4688 363.2656,480.7656 Q363.2656,480.0313 362.875,479.7188 Q362.4844,479.3906 361.5469,479.3906 L360.1563,479.3906 L360.1563,482.1406 L361.6406,482.1406 Z M361.8281,487.4844 Q362.7344,487.4844 363.0938,487.0469 Q363.4531,486.5938 363.4531,485.8125 Q363.4531,485.0313 363.0781,484.6406 Q362.7188,484.2344 361.7344,484.2344 L360.1563,484.2344 L360.1563,487.4844 L361.8281,487.4844 Z \" fill=\"#000000\"/><text fill=\"#000000\" font-family=\"sans-serif\" font-size=\"14\" lengthAdjust=\"spacing\" textLength=\"48\" x=\"375\" y=\"487.8467\">Engine</text><line style=\"stroke:#181818;stroke-width:0.5;\" x1=\"347\" x2=\"425\" y1=\"499\" y2=\"499\"/></g></a><!--MD5=[09b614a08d8cba4a07c9adeb5e0fee81]\n",
       "class E3--><a href=\"psysml:479197b1-ce2e-480f-b2ef-7f257dc343b8\" target=\"_top\" title=\"psysml:479197b1-ce2e-480f-b2ef-7f257dc343b8\" xlink:actuate=\"onRequest\" xlink:href=\"psysml:479197b1-ce2e-480f-b2ef-7f257dc343b8\" xlink:show=\"new\" xlink:title=\"psysml:479197b1-ce2e-480f-b2ef-7f257dc343b8\" xlink:type=\"simple\"><g id=\"elem_E3\"><rect fill=\"#F1F1F1\" height=\"48.2656\" id=\"E3\" rx=\"10\" ry=\"10\" style=\"stroke:#181818;stroke-width:0.5;\" width=\"154\" x=\"211\" y=\"359\"/><ellipse cx=\"226\" cy=\"379.1328\" fill=\"#32CD32\" rx=\"11\" ry=\"11\" style=\"stroke:#181818;stroke-width:1.0;\"/><path d=\"M222.8594,385.6328 L222.8594,373.4922 L226.8906,373.4922 Q228.9844,373.4922 230,374.4766 Q231.0156,375.4453 231.0156,377.2734 Q231.0156,378.4766 230.5781,379.3828 Q230.1563,380.2891 229.2031,380.8047 Q228.2656,381.3203 226.7344,381.3203 L225.2344,381.3203 L225.2344,385.6328 L222.8594,385.6328 Z M226.4844,379.2266 Q227.5313,379.2266 228.0469,378.7422 Q228.5781,378.2578 228.5781,377.3672 Q228.5781,376.4766 228.1406,376.0391 Q227.7188,375.5859 226.7969,375.5859 L225.2344,375.5859 L225.2344,379.2266 L226.4844,379.2266 Z \" fill=\"#000000\"/><text fill=\"#000000\" font-family=\"sans-serif\" font-size=\"12\" font-style=\"italic\" lengthAdjust=\"spacing\" textLength=\"40\" x=\"281\" y=\"375.1387\">«part»</text><text fill=\"#000000\" font-family=\"sans-serif\" font-size=\"14\" lengthAdjust=\"spacing\" textLength=\"114\" x=\"240\" y=\"390.9639\">engine1: Engine</text><line style=\"stroke:#181818;stroke-width:0.5;\" x1=\"212\" x2=\"364\" y1=\"399.2656\" y2=\"399.2656\"/></g></a><!--MD5=[ebbe1d658d1005bcc118a6aa81145e00]\n",
       "class E4--><a href=\"psysml:df8f9049-6917-4fa7-a1c9-f212538c9a4e\" target=\"_top\" title=\"psysml:df8f9049-6917-4fa7-a1c9-f212538c9a4e\" xlink:actuate=\"onRequest\" xlink:href=\"psysml:df8f9049-6917-4fa7-a1c9-f212538c9a4e\" xlink:show=\"new\" xlink:title=\"psysml:df8f9049-6917-4fa7-a1c9-f212538c9a4e\" xlink:type=\"simple\"><g id=\"elem_E4\"><rect fill=\"#F1F1F1\" height=\"48.2656\" id=\"E4\" rx=\"10\" ry=\"10\" style=\"stroke:#181818;stroke-width:0.5;\" width=\"154\" x=\"22\" y=\"359\"/><ellipse cx=\"37\" cy=\"379.1328\" fill=\"#32CD32\" rx=\"11\" ry=\"11\" style=\"stroke:#181818;stroke-width:1.0;\"/><path d=\"M33.8594,385.6328 L33.8594,373.4922 L37.8906,373.4922 Q39.9844,373.4922 41,374.4766 Q42.0156,375.4453 42.0156,377.2734 Q42.0156,378.4766 41.5781,379.3828 Q41.1563,380.2891 40.2031,380.8047 Q39.2656,381.3203 37.7344,381.3203 L36.2344,381.3203 L36.2344,385.6328 L33.8594,385.6328 Z M37.4844,379.2266 Q38.5313,379.2266 39.0469,378.7422 Q39.5781,378.2578 39.5781,377.3672 Q39.5781,376.4766 39.1406,376.0391 Q38.7188,375.5859 37.7969,375.5859 L36.2344,375.5859 L36.2344,379.2266 L37.4844,379.2266 Z \" fill=\"#000000\"/><text fill=\"#000000\" font-family=\"sans-serif\" font-size=\"12\" font-style=\"italic\" lengthAdjust=\"spacing\" textLength=\"40\" x=\"92\" y=\"375.1387\">«part»</text><text fill=\"#000000\" font-family=\"sans-serif\" font-size=\"14\" lengthAdjust=\"spacing\" textLength=\"114\" x=\"51\" y=\"390.9639\">engine2: Engine</text><line style=\"stroke:#181818;stroke-width:0.5;\" x1=\"23\" x2=\"175\" y1=\"399.2656\" y2=\"399.2656\"/></g></a><!--MD5=[2156ba9850f5573cc1fc38a6a4b2f02b]\n",
       "class E7--><a href=\"psysml:f253b0d3-72ce-4ec1-aa97-c21cff35f053\" target=\"_top\" title=\"psysml:f253b0d3-72ce-4ec1-aa97-c21cff35f053\" xlink:actuate=\"onRequest\" xlink:href=\"psysml:f253b0d3-72ce-4ec1-aa97-c21cff35f053\" xlink:show=\"new\" xlink:title=\"psysml:f253b0d3-72ce-4ec1-aa97-c21cff35f053\" xlink:type=\"simple\"><g id=\"elem_E7\"><rect fill=\"#F1F1F1\" height=\"48.2656\" id=\"E7\" rx=\"10\" ry=\"10\" style=\"stroke:#181818;stroke-width:0.5;\" width=\"170\" x=\"170\" y=\"251\"/><ellipse cx=\"185\" cy=\"271.1328\" fill=\"#FFA500\" rx=\"11\" ry=\"11\" style=\"stroke:#181818;stroke-width:1.0;\"/><path d=\"M185.0625,278.3047 Q182.9531,278.3047 181.8594,277.1797 Q180.7656,276.0547 180.7656,274.0078 L180.7656,265.9922 L183.2344,265.9922 L183.2344,273.5703 Q183.2344,275.0078 183.6875,275.6016 Q184.1406,276.1797 185.0938,276.1797 Q186.1094,276.1797 186.5313,275.5703 Q186.9688,274.9609 186.9688,273.5547 L186.9688,265.9922 L189.4375,265.9922 L189.4375,273.9922 Q189.4375,275.9766 188.3438,277.1484 Q187.2656,278.3047 185.0625,278.3047 Z \" fill=\"#000000\"/><text fill=\"#000000\" font-family=\"sans-serif\" font-size=\"12\" font-style=\"italic\" lengthAdjust=\"spacing\" textLength=\"82\" x=\"227\" y=\"267.1387\">«calculation»</text><text fill=\"#000000\" font-family=\"sans-serif\" font-size=\"14\" lengthAdjust=\"spacing\" textLength=\"130\" x=\"199\" y=\"282.9639\">evaluationFunction</text><line style=\"stroke:#181818;stroke-width:0.5;\" x1=\"171\" x2=\"339\" y1=\"291.2656\" y2=\"291.2656\"/></g></a><!--MD5=[b9389687b975829384b498ac4b7476b2]\n",
       "class E8--><a href=\"psysml:753de58d-f4ea-44a5-91ee-5ffc5e7a177d\" target=\"_top\" title=\"psysml:753de58d-f4ea-44a5-91ee-5ffc5e7a177d\" xlink:actuate=\"onRequest\" xlink:href=\"psysml:753de58d-f4ea-44a5-91ee-5ffc5e7a177d\" xlink:show=\"new\" xlink:title=\"psysml:753de58d-f4ea-44a5-91ee-5ffc5e7a177d\" xlink:type=\"simple\"><g id=\"elem_E8\"><rect fill=\"#F1F1F1\" height=\"48.2656\" id=\"E8\" rx=\"10\" ry=\"10\" style=\"stroke:#181818;stroke-width:0.5;\" width=\"168\" x=\"400\" y=\"359\"/><ellipse cx=\"415\" cy=\"379.1328\" fill=\"#32CD32\" rx=\"11\" ry=\"11\" style=\"stroke:#181818;stroke-width:1.0;\"/><path d=\"M411.8594,385.6328 L411.8594,373.4922 L415.8906,373.4922 Q417.9844,373.4922 419,374.4766 Q420.0156,375.4453 420.0156,377.2734 Q420.0156,378.4766 419.5781,379.3828 Q419.1563,380.2891 418.2031,380.8047 Q417.2656,381.3203 415.7344,381.3203 L414.2344,381.3203 L414.2344,385.6328 L411.8594,385.6328 Z M415.4844,379.2266 Q416.5313,379.2266 417.0469,378.7422 Q417.5781,378.2578 417.5781,377.3672 Q417.5781,376.4766 417.1406,376.0391 Q416.7188,375.5859 415.7969,375.5859 L414.2344,375.5859 L414.2344,379.2266 L415.4844,379.2266 Z \" fill=\"#000000\"/><text fill=\"#000000\" font-family=\"sans-serif\" font-size=\"12\" font-style=\"italic\" lengthAdjust=\"spacing\" textLength=\"40\" x=\"477\" y=\"375.1387\">«part»</text><text fill=\"#000000\" font-family=\"sans-serif\" font-size=\"14\" lengthAdjust=\"spacing\" textLength=\"128\" x=\"429\" y=\"390.9639\">alternative: Engine</text><line style=\"stroke:#181818;stroke-width:0.5;\" x1=\"401\" x2=\"567\" y1=\"399.2656\" y2=\"399.2656\"/></g></a><!--MD5=[fd4143e9d270a159db93a4ea2a975926]\n",
       "class E9--><a href=\"psysml:76ff8411-b0e7-4dd9-89c0-3f2666988fc0\" target=\"_top\" title=\"psysml:76ff8411-b0e7-4dd9-89c0-3f2666988fc0\" xlink:actuate=\"onRequest\" xlink:href=\"psysml:76ff8411-b0e7-4dd9-89c0-3f2666988fc0\" xlink:show=\"new\" xlink:title=\"psysml:76ff8411-b0e7-4dd9-89c0-3f2666988fc0\" xlink:type=\"simple\"><g id=\"elem_E9\"><rect fill=\"#F1F1F1\" height=\"48.2656\" id=\"E9\" rx=\"10\" ry=\"10\" style=\"stroke:#181818;stroke-width:0.5;\" width=\"229\" x=\"375.5\" y=\"251\"/><ellipse cx=\"390.5\" cy=\"271.1328\" fill=\"#32CD32\" rx=\"11\" ry=\"11\" style=\"stroke:#181818;stroke-width:1.0;\"/><path d=\"M387.3594,277.6328 L387.3594,265.4922 L391.3906,265.4922 Q393.4844,265.4922 394.5,266.4766 Q395.5156,267.4453 395.5156,269.2734 Q395.5156,270.4766 395.0781,271.3828 Q394.6563,272.2891 393.7031,272.8047 Q392.7656,273.3203 391.2344,273.3203 L389.7344,273.3203 L389.7344,277.6328 L387.3594,277.6328 Z M390.9844,271.2266 Q392.0313,271.2266 392.5469,270.7422 Q393.0781,270.2578 393.0781,269.3672 Q393.0781,268.4766 392.6406,268.0391 Q392.2188,267.5859 391.2969,267.5859 L389.7344,267.5859 L389.7344,271.2266 L390.9844,271.2266 Z \" fill=\"#000000\"/><text fill=\"#000000\" font-family=\"sans-serif\" font-size=\"12\" font-style=\"italic\" lengthAdjust=\"spacing\" textLength=\"40\" x=\"483\" y=\"267.1387\">«part»</text><text fill=\"#000000\" font-family=\"sans-serif\" font-size=\"14\" lengthAdjust=\"spacing\" textLength=\"189\" x=\"404.5\" y=\"282.9639\">selectedAlternative: Engine</text><line style=\"stroke:#181818;stroke-width:0.5;\" x1=\"376.5\" x2=\"603.5\" y1=\"291.2656\" y2=\"291.2656\"/></g></a><!--MD5=[60a26617385b1d2d0262a64233df1f8d]\n",
       "class E6--><a href=\"psysml:4f755969-6586-456d-bfaa-2c124f0f3312\" target=\"_top\" title=\"psysml:4f755969-6586-456d-bfaa-2c124f0f3312\" xlink:actuate=\"onRequest\" xlink:href=\"psysml:4f755969-6586-456d-bfaa-2c124f0f3312\" xlink:show=\"new\" xlink:title=\"psysml:4f755969-6586-456d-bfaa-2c124f0f3312\" xlink:type=\"simple\"><g id=\"elem_E6\"><rect fill=\"#F1F1F1\" height=\"75.0813\" id=\"E6\" rx=\"10\" ry=\"10\" style=\"stroke:#181818;stroke-width:0.5;\" width=\"171\" x=\"341.5\" y=\"116\"/><ellipse cx=\"356.5\" cy=\"136.1328\" fill=\"#F1F1F1\" rx=\"11\" ry=\"11\" style=\"stroke:#181818;stroke-width:1.0;\"/><path d=\"M356.5625,143.3047 Q354.4531,143.3047 353.3594,142.1797 Q352.2656,141.0547 352.2656,139.0078 L352.2656,130.9922 L354.7344,130.9922 L354.7344,138.5703 Q354.7344,140.0078 355.1875,140.6016 Q355.6406,141.1797 356.5938,141.1797 Q357.6094,141.1797 358.0313,140.5703 Q358.4688,139.9609 358.4688,138.5547 L358.4688,130.9922 L360.9375,130.9922 L360.9375,138.9922 Q360.9375,140.9766 359.8438,142.1484 Q358.7656,143.3047 356.5625,143.3047 Z \" fill=\"#000000\"/><text fill=\"#000000\" font-family=\"sans-serif\" font-size=\"12\" font-style=\"italic\" lengthAdjust=\"spacing\" textLength=\"70\" x=\"405\" y=\"132.1387\">«objective»</text><text fill=\"#000000\" font-family=\"sans-serif\" font-size=\"14\" lengthAdjust=\"spacing\" textLength=\"139\" x=\"370.5\" y=\"147.9639\">tradeStudyObjective</text><line style=\"stroke:#181818;stroke-width:0.5;\" x1=\"342.5\" x2=\"511.5\" y1=\"156.2656\" y2=\"156.2656\"/><text fill=\"#000000\" font-family=\"sans-serif\" font-size=\"14\" lengthAdjust=\"spacing\" textLength=\"132\" x=\"347.5\" y=\"183.7795\">selectedAlternative</text><text fill=\"#000000\" font-family=\"sans-serif\" font-size=\"14\" font-style=\"italic\" lengthAdjust=\"spacing\" textLength=\"51\" x=\"401.5\" y=\"168.6123\">subject</text></g></a><!--MD5=[05d275557350bfb9b23a4ef7222b4c39]\n",
       "link E3 to E2--><g id=\"link_E3_E2\"><a href=\"psysml:bc3cf079-eae7-49ce-b297-ec132a977e50\" target=\"_top\" title=\"psysml:bc3cf079-eae7-49ce-b297-ec132a977e50\" xlink:actuate=\"onRequest\" xlink:href=\"psysml:bc3cf079-eae7-49ce-b297-ec132a977e50\" xlink:show=\"new\" xlink:title=\"psysml:bc3cf079-eae7-49ce-b297-ec132a977e50\" xlink:type=\"simple\"><path d=\"M310.24,407.15 C322.93,420.35 339.07,437.16 353.2,451.86 \" fill=\"none\" id=\"E3-to-E2\" style=\"stroke:#181818;stroke-width:1.0;\"/><polygon fill=\"#FFFFFF\" points=\"367.47,466.71,349.2604,457.8551,359.3578,448.1576,367.47,466.71\" style=\"stroke:#181818;stroke-width:1.0;\"/><ellipse cx=\"346.7546\" cy=\"452.3587\" fill=\"#181818\" rx=\"2\" ry=\"2\" style=\"stroke:#181818;stroke-width:1.0;\"/><ellipse cx=\"353.967\" cy=\"445.4319\" fill=\"#181818\" rx=\"2\" ry=\"2\" style=\"stroke:#181818;stroke-width:1.0;\"/></a></g><!--MD5=[185131fc0dcab0a4505a2ebe144e961b]\n",
       "link E4 to E2--><g id=\"link_E4_E2\"><a href=\"psysml:aa1a99dc-dc69-45ac-b95f-3bcc471ea5d4\" target=\"_top\" title=\"psysml:aa1a99dc-dc69-45ac-b95f-3bcc471ea5d4\" xlink:actuate=\"onRequest\" xlink:href=\"psysml:aa1a99dc-dc69-45ac-b95f-3bcc471ea5d4\" xlink:show=\"new\" xlink:title=\"psysml:aa1a99dc-dc69-45ac-b95f-3bcc471ea5d4\" xlink:type=\"simple\"><path d=\"M163.77,407.02 C212.66,424.4 279.22,448.05 326.72,464.93 \" fill=\"none\" id=\"E4-to-E2\" style=\"stroke:#181818;stroke-width:1.0;\"/><polygon fill=\"#FFFFFF\" points=\"345.81,471.72,325.5628,471.95,330.2532,458.7591,345.81,471.72\" style=\"stroke:#181818;stroke-width:1.0;\"/><ellipse cx=\"320.8623\" cy=\"468.156\" fill=\"#181818\" rx=\"2\" ry=\"2\" style=\"stroke:#181818;stroke-width:1.0;\"/><ellipse cx=\"324.2125\" cy=\"458.7339\" fill=\"#181818\" rx=\"2\" ry=\"2\" style=\"stroke:#181818;stroke-width:1.0;\"/></a></g><!--MD5=[452b418e7f8a40397a49b8c0a78acc5b]\n",
       "reverse link E5 to E7--><g id=\"link_E5_E7\"><a href=\"psysml:ae0ddffd-d94b-4ee5-a4cb-a499b90c2b96\" target=\"_top\" title=\"psysml:ae0ddffd-d94b-4ee5-a4cb-a499b90c2b96\" xlink:actuate=\"onRequest\" xlink:href=\"psysml:ae0ddffd-d94b-4ee5-a4cb-a499b90c2b96\" xlink:show=\"new\" xlink:title=\"psysml:ae0ddffd-d94b-4ee5-a4cb-a499b90c2b96\" xlink:type=\"simple\"><path d=\"M289.8297,187.2904 C289.3542,188.4741 288.8714,189.6756 288.3825,190.8925 C280.56,210.3625 271.16,233.76 264.33,250.76 \" fill=\"none\" id=\"E5-backto-E7\" style=\"stroke:#181818;stroke-width:1.0;\"/><polygon fill=\"#181818\" points=\"289.8297,187.2904,283.8812,191.3666,285.356,198.4253,291.3045,194.3491,289.8297,187.2904\" style=\"stroke:#181818;stroke-width:1.0;\"/></a></g><!--MD5=[dc164f5e8a733ab456ef1add180e9e34]\n",
       "reverse link E7 to E8--><g id=\"link_E7_E8\"><a href=\"psysml:a8c82a2a-741b-4fac-ac9b-98beb228d3cb\" target=\"_top\" title=\"psysml:a8c82a2a-741b-4fac-ac9b-98beb228d3cb\" xlink:actuate=\"onRequest\" xlink:href=\"psysml:a8c82a2a-741b-4fac-ac9b-98beb228d3cb\" xlink:show=\"new\" xlink:title=\"psysml:a8c82a2a-741b-4fac-ac9b-98beb228d3cb\" xlink:type=\"simple\"><path d=\"M316.77,304.59 C353.52,321.6 399.55,342.91 434.01,358.86 \" fill=\"none\" id=\"E7-backto-E8\" style=\"stroke:#181818;stroke-width:1.0;\"/><polygon fill=\"none\" points=\"304.69,299,308.4568,305.1491,315.5817,304.0371,311.8148,297.888,304.69,299\" style=\"stroke:#181818;stroke-width:1.0;\"/></a></g><!--MD5=[f1f3f9f2fc535e6147756cb86a7f2e32]\n",
       "link E8 to E2--><g id=\"link_E8_E2\"><a href=\"psysml:199cdd6b-9599-4ee9-8d7a-04a31416ec15\" target=\"_top\" title=\"psysml:199cdd6b-9599-4ee9-8d7a-04a31416ec15\" xlink:actuate=\"onRequest\" xlink:href=\"psysml:199cdd6b-9599-4ee9-8d7a-04a31416ec15\" xlink:show=\"new\" xlink:title=\"psysml:199cdd6b-9599-4ee9-8d7a-04a31416ec15\" xlink:type=\"simple\"><path d=\"M461.76,407.15 C449.07,420.35 432.93,437.16 418.8,451.86 \" fill=\"none\" id=\"E8-to-E2\" style=\"stroke:#181818;stroke-width:1.0;\"/><polygon fill=\"#FFFFFF\" points=\"404.53,466.71,412.6422,448.1576,422.7396,457.8551,404.53,466.71\" style=\"stroke:#181818;stroke-width:1.0;\"/><ellipse cx=\"418.033\" cy=\"445.4319\" fill=\"#181818\" rx=\"2\" ry=\"2\" style=\"stroke:#181818;stroke-width:1.0;\"/><ellipse cx=\"425.2454\" cy=\"452.3587\" fill=\"#181818\" rx=\"2\" ry=\"2\" style=\"stroke:#181818;stroke-width:1.0;\"/></a></g><!--MD5=[9ae28de373ca99bb8a1b38d63370ca7e]\n",
       "reverse link E5 to E9--><g id=\"link_E5_E9\"><a href=\"psysml:549a8511-5afb-4107-9df8-0f136ad572ec\" target=\"_top\" title=\"psysml:549a8511-5afb-4107-9df8-0f136ad572ec\" xlink:actuate=\"onRequest\" xlink:href=\"psysml:549a8511-5afb-4107-9df8-0f136ad572ec\" xlink:show=\"new\" xlink:title=\"psysml:549a8511-5afb-4107-9df8-0f136ad572ec\" xlink:type=\"simple\"><path d=\"M313.8416,215.3301 C314.8088,217.2642 315.8598,219.1514 317.0016,220.9743 C319.2853,224.6202 321.9325,228.0088 325,231 C333.48,239.27 352.77,246.57 375.29,252.7 \" fill=\"none\" id=\"E5-backto-E9\" style=\"stroke:#181818;stroke-width:1.0;\"/><polygon fill=\"none\" points=\"313.8416,215.3301,312.9477,222.4856,319.209,226.0629,320.1029,218.9074,313.8416,215.3301\" style=\"stroke:#181818;stroke-width:1.0;\"/></a></g><!--MD5=[5c3bb36fe832a92c7f0e1807dd65209d]\n",
       "link E9 to E2--><g id=\"link_E9_E2\"><a href=\"psysml:94a3a0b9-9284-4132-a69a-1dbd276e1390\" target=\"_top\" title=\"psysml:94a3a0b9-9284-4132-a69a-1dbd276e1390\" xlink:actuate=\"onRequest\" xlink:href=\"psysml:94a3a0b9-9284-4132-a69a-1dbd276e1390\" xlink:show=\"new\" xlink:title=\"psysml:94a3a0b9-9284-4132-a69a-1dbd276e1390\" xlink:type=\"simple\"><path d=\"M527.35,299.07 C564.43,324.97 612.24,368.42 586,407 C554.89,452.74 492.78,472 445.98,480.11 \" fill=\"none\" id=\"E9-to-E2\" style=\"stroke:#181818;stroke-width:1.0;\"/><polygon fill=\"#FFFFFF\" points=\"426.05,483.06,443.8124,473.3391,445.8735,487.1865,426.05,483.06\" style=\"stroke:#181818;stroke-width:1.0;\"/><ellipse cx=\"449.7447\" cy=\"474.4781\" fill=\"#181818\" rx=\"2\" ry=\"2\" style=\"stroke:#181818;stroke-width:1.0;\"/><ellipse cx=\"451.217\" cy=\"484.3691\" fill=\"#181818\" rx=\"2\" ry=\"2\" style=\"stroke:#181818;stroke-width:1.0;\"/></a></g><!--MD5=[c64a8ab8d03db3d5b833ad46c28c763f]\n",
       "@startuml\r\n",
       " \r\n",
       "package \"TradeStudyTest\" as E1  [[psysml:a91f55f8-3969-42e6-b46f-82de9da3fdc7 ]]  {\r\n",
       "comp def \"Engine\" as E2  << << (B,green) >> [[psysml:8055cf29-c4ca-4370-b025-bca5bf4f4944 ]] {\r\n",
       "}\r\n",
       "comp usage \"engine1: Engine  \" as E3  << << (P,limegreen) part>> [[psysml:479197b1-ce2e-480f-b2ef-7f257dc343b8 ]] {\r\n",
       "}\r\n",
       "comp usage \"engine2: Engine  \" as E4  << << (P,limegreen) part>> [[psysml:df8f9049-6917-4fa7-a1c9-f212538c9a4e ]] {\r\n",
       "}\r\n",
       "rec usage \"engineTradeStudy: TradeStudy  \" as E5  << analysis>> [[psysml:538ece1f-cb66-4e09-817f-0abcddd62ddd ]] {\r\n",
       "comp usage \"tradeStudyObjective\" as E6  <<objective>> [[psysml:4f755969-6586-456d-bfaa-2c124f0f3312 ]] {\r\n",
       "##//subject//##\r\n",
       "selectedAlternative\r\n",
       "}\r\n",
       "}\r\n",
       "comp usage \"evaluationFunction  \" as E7  << <<(U,orange) calculation>> [[psysml:f253b0d3-72ce-4ec1-aa97-c21cff35f053 ]] {\r\n",
       "}\r\n",
       "comp usage \"alternative: Engine  \" as E8  << << (P,limegreen) part>> [[psysml:753de58d-f4ea-44a5-91ee-5ffc5e7a177d ]] {\r\n",
       "}\r\n",
       "comp usage \"selectedAlternative: Engine  \" as E9  << << (P,limegreen) part>> [[psysml:76ff8411-b0e7-4dd9-89c0-3f2666988fc0 ]] {\r\n",
       "}\r\n",
       "}\r\n",
       "E3 - -:|> E2 [[psysml:bc3cf079-eae7-49ce-b297-ec132a977e50 ]] \r\n",
       "E4 - -:|> E2 [[psysml:aa1a99dc-dc69-45ac-b95f-3bcc471ea5d4 ]] \r\n",
       "E5 *- - E7 [[psysml:ae0ddffd-d94b-4ee5-a4cb-a499b90c2b96 ]] \r\n",
       "E7 o- - E8 [[psysml:a8c82a2a-741b-4fac-ac9b-98beb228d3cb ]] \r\n",
       "E8 - -:|> E2 [[psysml:199cdd6b-9599-4ee9-8d7a-04a31416ec15 ]] \r\n",
       "E5 o- - E9 [[psysml:549a8511-5afb-4107-9df8-0f136ad572ec ]] \r\n",
       "E9 - -:|> E2 [[psysml:94a3a0b9-9284-4132-a69a-1dbd276e1390 ]] \r\n",
       "@enduml\r\n",
       "\n",
       "PlantUML version 1.2022.7(Mon Aug 22 17:01:30 UTC 2022)\n",
       "(EPL source distribution)\n",
       "Java Runtime: OpenJDK Runtime Environment\n",
       "JVM: OpenJDK 64-Bit Server VM\n",
       "Default Encoding: UTF-8\n",
       "Language: en\n",
       "Country: null\n",
       "--></g></svg>"
      ]
     },
     "execution_count": 36,
     "metadata": {},
     "output_type": "execute_result"
    }
   ],
   "source": [
    "%viz --style=\"PLANTUML\" --view=\"MIXED\" \"TradeStudyTest\""
   ]
  },
  {
   "cell_type": "code",
   "execution_count": 37,
   "id": "a605995b",
   "metadata": {
    "execution": {
     "iopub.execute_input": "2024-12-16T14:21:09.885389Z",
     "iopub.status.busy": "2024-12-16T14:21:09.885182Z",
     "iopub.status.idle": "2024-12-16T14:21:09.906681Z",
     "shell.execute_reply": "2024-12-16T14:21:09.905713Z"
    }
   },
   "outputs": [
    {
     "data": {
      "image/svg+xml": [
       "<?xml version=\"1.0\" encoding=\"UTF-8\" standalone=\"no\"?><svg xmlns=\"http://www.w3.org/2000/svg\" xmlns:xlink=\"http://www.w3.org/1999/xlink\" contentStyleType=\"text/css\" height=\"538px\" preserveAspectRatio=\"none\" style=\"width:570px;height:538px;background:#FFFFFF;\" version=\"1.1\" viewBox=\"0 0 570 538\" width=\"570px\" zoomAndPan=\"magnify\"><defs/><g><!--MD5=[fbc87193dbaf4d95561dea2c320d4a47]\n",
       "cluster E1--><g id=\"cluster_E1\"><a href=\"psysml:a91f55f8-3969-42e6-b46f-82de9da3fdc7\" target=\"_top\" title=\"psysml:a91f55f8-3969-42e6-b46f-82de9da3fdc7\" xlink:actuate=\"onRequest\" xlink:href=\"psysml:a91f55f8-3969-42e6-b46f-82de9da3fdc7\" xlink:show=\"new\" xlink:title=\"psysml:a91f55f8-3969-42e6-b46f-82de9da3fdc7\" xlink:type=\"simple\"><polygon fill=\"none\" points=\"16,6,138.125,6,145.125,28.2969,553,28.2969,553,531,16,531,16,6\" style=\"stroke:#000000;stroke-width:1.5;\"/><line style=\"stroke:#000000;stroke-width:1.5;\" x1=\"16\" x2=\"145.125\" y1=\"28.2969\" y2=\"28.2969\"/><text fill=\"#000000\" font-family=\"sans-serif\" font-size=\"14\" font-weight=\"bold\" lengthAdjust=\"spacing\" textLength=\"116.125\" x=\"20\" y=\"20.9951\">TradeStudyTest</text></a></g><!--MD5=[de5ec2e2e8f62f467e546659f5068c88]\n",
       "cluster E5--><g id=\"cluster_E5\"><a href=\"psysml:538ece1f-cb66-4e09-817f-0abcddd62ddd\" target=\"_top\" title=\"psysml:538ece1f-cb66-4e09-817f-0abcddd62ddd\" xlink:actuate=\"onRequest\" xlink:href=\"psysml:538ece1f-cb66-4e09-817f-0abcddd62ddd\" xlink:show=\"new\" xlink:title=\"psysml:538ece1f-cb66-4e09-817f-0abcddd62ddd\" xlink:type=\"simple\"><rect fill=\"#FFFFFF\" height=\"158\" id=\"E5\" rx=\"10\" ry=\"10\" style=\"stroke:#383838;stroke-width:1.5;\" width=\"250\" x=\"236\" y=\"57\"/><text fill=\"#000000\" font-family=\"sans-serif\" font-size=\"12\" font-style=\"italic\" lengthAdjust=\"spacing\" textLength=\"64\" x=\"329\" y=\"73.1387\">«analysis»</text><text fill=\"#000000\" font-family=\"sans-serif\" font-size=\"14\" lengthAdjust=\"spacing\" textLength=\"215\" x=\"249.5\" y=\"88.9639\">engineTradeStudy: TradeStudy</text><line style=\"stroke:#383838;stroke-width:1.0;\" x1=\"236\" x2=\"486\" y1=\"97.2656\" y2=\"97.2656\"/></a></g><!--MD5=[b4997ac47864f28c2f74865a473b2911]\n",
       "class E2--><a href=\"psysml:8055cf29-c4ca-4370-b025-bca5bf4f4944\" target=\"_top\" title=\"psysml:8055cf29-c4ca-4370-b025-bca5bf4f4944\" xlink:actuate=\"onRequest\" xlink:href=\"psysml:8055cf29-c4ca-4370-b025-bca5bf4f4944\" xlink:show=\"new\" xlink:title=\"psysml:8055cf29-c4ca-4370-b025-bca5bf4f4944\" xlink:type=\"simple\"><g id=\"elem_E2\"><rect fill=\"#FFFFFF\" height=\"48.2656\" id=\"E2\" style=\"stroke:#181818;stroke-width:0.5;\" width=\"70\" x=\"309\" y=\"467\"/><text fill=\"#000000\" font-family=\"sans-serif\" font-size=\"12\" font-style=\"italic\" lengthAdjust=\"spacing\" textLength=\"68\" x=\"310\" y=\"483.1387\">«part  def»</text><text fill=\"#000000\" font-family=\"sans-serif\" font-size=\"14\" lengthAdjust=\"spacing\" textLength=\"48\" x=\"320\" y=\"498.9639\">Engine</text><line style=\"stroke:#181818;stroke-width:0.5;\" x1=\"310\" x2=\"378\" y1=\"507.2656\" y2=\"507.2656\"/></g></a><!--MD5=[09b614a08d8cba4a07c9adeb5e0fee81]\n",
       "class E3--><a href=\"psysml:479197b1-ce2e-480f-b2ef-7f257dc343b8\" target=\"_top\" title=\"psysml:479197b1-ce2e-480f-b2ef-7f257dc343b8\" xlink:actuate=\"onRequest\" xlink:href=\"psysml:479197b1-ce2e-480f-b2ef-7f257dc343b8\" xlink:show=\"new\" xlink:title=\"psysml:479197b1-ce2e-480f-b2ef-7f257dc343b8\" xlink:type=\"simple\"><g id=\"elem_E3\"><rect fill=\"#FFFFFF\" height=\"48.2656\" id=\"E3\" rx=\"10\" ry=\"10\" style=\"stroke:#181818;stroke-width:0.5;\" width=\"128\" x=\"195\" y=\"359\"/><text fill=\"#000000\" font-family=\"sans-serif\" font-size=\"12\" font-style=\"italic\" lengthAdjust=\"spacing\" textLength=\"40\" x=\"239\" y=\"375.1387\">«part»</text><text fill=\"#000000\" font-family=\"sans-serif\" font-size=\"14\" lengthAdjust=\"spacing\" textLength=\"114\" x=\"198\" y=\"390.9639\">engine1: Engine</text><line style=\"stroke:#181818;stroke-width:0.5;\" x1=\"196\" x2=\"322\" y1=\"399.2656\" y2=\"399.2656\"/></g></a><!--MD5=[ebbe1d658d1005bcc118a6aa81145e00]\n",
       "class E4--><a href=\"psysml:df8f9049-6917-4fa7-a1c9-f212538c9a4e\" target=\"_top\" title=\"psysml:df8f9049-6917-4fa7-a1c9-f212538c9a4e\" xlink:actuate=\"onRequest\" xlink:href=\"psysml:df8f9049-6917-4fa7-a1c9-f212538c9a4e\" xlink:show=\"new\" xlink:title=\"psysml:df8f9049-6917-4fa7-a1c9-f212538c9a4e\" xlink:type=\"simple\"><g id=\"elem_E4\"><rect fill=\"#FFFFFF\" height=\"48.2656\" id=\"E4\" rx=\"10\" ry=\"10\" style=\"stroke:#181818;stroke-width:0.5;\" width=\"128\" x=\"32\" y=\"359\"/><text fill=\"#000000\" font-family=\"sans-serif\" font-size=\"12\" font-style=\"italic\" lengthAdjust=\"spacing\" textLength=\"40\" x=\"76\" y=\"375.1387\">«part»</text><text fill=\"#000000\" font-family=\"sans-serif\" font-size=\"14\" lengthAdjust=\"spacing\" textLength=\"114\" x=\"35\" y=\"390.9639\">engine2: Engine</text><line style=\"stroke:#181818;stroke-width:0.5;\" x1=\"33\" x2=\"159\" y1=\"399.2656\" y2=\"399.2656\"/></g></a><!--MD5=[2156ba9850f5573cc1fc38a6a4b2f02b]\n",
       "class E7--><a href=\"psysml:f253b0d3-72ce-4ec1-aa97-c21cff35f053\" target=\"_top\" title=\"psysml:f253b0d3-72ce-4ec1-aa97-c21cff35f053\" xlink:actuate=\"onRequest\" xlink:href=\"psysml:f253b0d3-72ce-4ec1-aa97-c21cff35f053\" xlink:show=\"new\" xlink:title=\"psysml:f253b0d3-72ce-4ec1-aa97-c21cff35f053\" xlink:type=\"simple\"><g id=\"elem_E7\"><rect fill=\"#FFFFFF\" height=\"48.2656\" id=\"E7\" rx=\"10\" ry=\"10\" style=\"stroke:#181818;stroke-width:0.5;\" width=\"144\" x=\"155\" y=\"251\"/><text fill=\"#000000\" font-family=\"sans-serif\" font-size=\"12\" font-style=\"italic\" lengthAdjust=\"spacing\" textLength=\"82\" x=\"186\" y=\"267.1387\">«calculation»</text><text fill=\"#000000\" font-family=\"sans-serif\" font-size=\"14\" lengthAdjust=\"spacing\" textLength=\"130\" x=\"158\" y=\"282.9639\">evaluationFunction</text><line style=\"stroke:#181818;stroke-width:0.5;\" x1=\"156\" x2=\"298\" y1=\"291.2656\" y2=\"291.2656\"/></g></a><!--MD5=[b9389687b975829384b498ac4b7476b2]\n",
       "class E8--><a href=\"psysml:753de58d-f4ea-44a5-91ee-5ffc5e7a177d\" target=\"_top\" title=\"psysml:753de58d-f4ea-44a5-91ee-5ffc5e7a177d\" xlink:actuate=\"onRequest\" xlink:href=\"psysml:753de58d-f4ea-44a5-91ee-5ffc5e7a177d\" xlink:show=\"new\" xlink:title=\"psysml:753de58d-f4ea-44a5-91ee-5ffc5e7a177d\" xlink:type=\"simple\"><g id=\"elem_E8\"><rect fill=\"#FFFFFF\" height=\"48.2656\" id=\"E8\" rx=\"10\" ry=\"10\" style=\"stroke:#181818;stroke-width:0.5;\" width=\"142\" x=\"358\" y=\"359\"/><text fill=\"#000000\" font-family=\"sans-serif\" font-size=\"12\" font-style=\"italic\" lengthAdjust=\"spacing\" textLength=\"40\" x=\"409\" y=\"375.1387\">«part»</text><text fill=\"#000000\" font-family=\"sans-serif\" font-size=\"14\" lengthAdjust=\"spacing\" textLength=\"128\" x=\"361\" y=\"390.9639\">alternative: Engine</text><line style=\"stroke:#181818;stroke-width:0.5;\" x1=\"359\" x2=\"499\" y1=\"399.2656\" y2=\"399.2656\"/></g></a><!--MD5=[fd4143e9d270a159db93a4ea2a975926]\n",
       "class E9--><a href=\"psysml:76ff8411-b0e7-4dd9-89c0-3f2666988fc0\" target=\"_top\" title=\"psysml:76ff8411-b0e7-4dd9-89c0-3f2666988fc0\" xlink:actuate=\"onRequest\" xlink:href=\"psysml:76ff8411-b0e7-4dd9-89c0-3f2666988fc0\" xlink:show=\"new\" xlink:title=\"psysml:76ff8411-b0e7-4dd9-89c0-3f2666988fc0\" xlink:type=\"simple\"><g id=\"elem_E9\"><rect fill=\"#FFFFFF\" height=\"48.2656\" id=\"E9\" rx=\"10\" ry=\"10\" style=\"stroke:#181818;stroke-width:0.5;\" width=\"203\" x=\"334.5\" y=\"251\"/><text fill=\"#000000\" font-family=\"sans-serif\" font-size=\"12\" font-style=\"italic\" lengthAdjust=\"spacing\" textLength=\"40\" x=\"416\" y=\"267.1387\">«part»</text><text fill=\"#000000\" font-family=\"sans-serif\" font-size=\"14\" lengthAdjust=\"spacing\" textLength=\"189\" x=\"337.5\" y=\"282.9639\">selectedAlternative: Engine</text><line style=\"stroke:#181818;stroke-width:0.5;\" x1=\"335.5\" x2=\"536.5\" y1=\"291.2656\" y2=\"291.2656\"/></g></a><!--MD5=[60a26617385b1d2d0262a64233df1f8d]\n",
       "class E6--><a href=\"psysml:4f755969-6586-456d-bfaa-2c124f0f3312\" target=\"_top\" title=\"psysml:4f755969-6586-456d-bfaa-2c124f0f3312\" xlink:actuate=\"onRequest\" xlink:href=\"psysml:4f755969-6586-456d-bfaa-2c124f0f3312\" xlink:show=\"new\" xlink:title=\"psysml:4f755969-6586-456d-bfaa-2c124f0f3312\" xlink:type=\"simple\"><g id=\"elem_E6\"><rect fill=\"#FFFFFF\" height=\"75.0813\" id=\"E6\" rx=\"10\" ry=\"10\" style=\"stroke:#181818;stroke-width:0.5;\" width=\"145\" x=\"306.5\" y=\"116\"/><text fill=\"#000000\" font-family=\"sans-serif\" font-size=\"12\" font-style=\"italic\" lengthAdjust=\"spacing\" textLength=\"70\" x=\"344\" y=\"132.1387\">«objective»</text><text fill=\"#000000\" font-family=\"sans-serif\" font-size=\"14\" lengthAdjust=\"spacing\" textLength=\"139\" x=\"309.5\" y=\"147.9639\">tradeStudyObjective</text><line style=\"stroke:#181818;stroke-width:0.5;\" x1=\"307.5\" x2=\"450.5\" y1=\"156.2656\" y2=\"156.2656\"/><text fill=\"#000000\" font-family=\"sans-serif\" font-size=\"14\" lengthAdjust=\"spacing\" textLength=\"132\" x=\"312.5\" y=\"183.7795\">selectedAlternative</text><text fill=\"#000000\" font-family=\"sans-serif\" font-size=\"14\" font-style=\"italic\" lengthAdjust=\"spacing\" textLength=\"51\" x=\"353.5\" y=\"168.6123\">subject</text></g></a><!--MD5=[05d275557350bfb9b23a4ef7222b4c39]\n",
       "link E3 to E2--><g id=\"link_E3_E2\"><a href=\"psysml:bc3cf079-eae7-49ce-b297-ec132a977e50\" target=\"_top\" title=\"psysml:bc3cf079-eae7-49ce-b297-ec132a977e50\" xlink:actuate=\"onRequest\" xlink:href=\"psysml:bc3cf079-eae7-49ce-b297-ec132a977e50\" xlink:show=\"new\" xlink:title=\"psysml:bc3cf079-eae7-49ce-b297-ec132a977e50\" xlink:type=\"simple\"><path d=\"M277.44,407 C287.73,419.83 300.82,436.16 312.67,450.93 \" fill=\"none\" id=\"E3-to-E2\" style=\"stroke:#181818;stroke-width:1.0;\"/><polygon fill=\"#FFFFFF\" points=\"325.3,466.68,307.9565,456.2299,318.8819,447.4756,325.3,466.68\" style=\"stroke:#181818;stroke-width:1.0;\"/><ellipse cx=\"305.9531\" cy=\"450.5311\" fill=\"#181818\" rx=\"2\" ry=\"2\" style=\"stroke:#181818;stroke-width:1.0;\"/><ellipse cx=\"313.7569\" cy=\"444.2781\" fill=\"#181818\" rx=\"2\" ry=\"2\" style=\"stroke:#181818;stroke-width:1.0;\"/></a></g><!--MD5=[185131fc0dcab0a4505a2ebe144e961b]\n",
       "link E4 to E2--><g id=\"link_E4_E2\"><a href=\"psysml:aa1a99dc-dc69-45ac-b95f-3bcc471ea5d4\" target=\"_top\" title=\"psysml:aa1a99dc-dc69-45ac-b95f-3bcc471ea5d4\" xlink:actuate=\"onRequest\" xlink:href=\"psysml:aa1a99dc-dc69-45ac-b95f-3bcc471ea5d4\" xlink:show=\"new\" xlink:title=\"psysml:aa1a99dc-dc69-45ac-b95f-3bcc471ea5d4\" xlink:type=\"simple\"><path d=\"M149.81,407 C191.38,424.77 248.64,449.24 290.2,467.01 \" fill=\"none\" id=\"E4-to-E2\" style=\"stroke:#181818;stroke-width:1.0;\"/><polygon fill=\"#FFFFFF\" points=\"308.64,474.89,288.4184,473.8471,293.9285,460.977,308.64,474.89\" style=\"stroke:#181818;stroke-width:1.0;\"/><ellipse cx=\"283.9656\" cy=\"469.7652\" fill=\"#181818\" rx=\"2\" ry=\"2\" style=\"stroke:#181818;stroke-width:1.0;\"/><ellipse cx=\"287.9013\" cy=\"460.5722\" fill=\"#181818\" rx=\"2\" ry=\"2\" style=\"stroke:#181818;stroke-width:1.0;\"/></a></g><!--MD5=[452b418e7f8a40397a49b8c0a78acc5b]\n",
       "reverse link E5 to E7--><g id=\"link_E5_E7\"><a href=\"psysml:ae0ddffd-d94b-4ee5-a4cb-a499b90c2b96\" target=\"_top\" title=\"psysml:ae0ddffd-d94b-4ee5-a4cb-a499b90c2b96\" xlink:actuate=\"onRequest\" xlink:href=\"psysml:ae0ddffd-d94b-4ee5-a4cb-a499b90c2b96\" xlink:show=\"new\" xlink:title=\"psysml:ae0ddffd-d94b-4ee5-a4cb-a499b90c2b96\" xlink:type=\"simple\"><path d=\"M244.1719,215.3826 C244.124,215.5464 244.076,215.7101 244.0281,215.8739 C243.8363,216.5288 243.6446,217.1834 243.453,217.8375 C243.0699,219.1456 242.6874,220.4515 242.3064,221.7525 C239.2581,232.1606 236.3,242.26 233.81,250.76 \" fill=\"none\" id=\"E5-backto-E7\" style=\"stroke:#181818;stroke-width:1.0;\"/><polygon fill=\"#181818\" points=\"244.1719,215.3826,238.6468,220.0166,240.7992,226.8989,246.3243,222.265,244.1719,215.3826\" style=\"stroke:#181818;stroke-width:1.0;\"/></a></g><!--MD5=[dc164f5e8a733ab456ef1add180e9e34]\n",
       "reverse link E7 to E8--><g id=\"link_E7_E8\"><a href=\"psysml:a8c82a2a-741b-4fac-ac9b-98beb228d3cb\" target=\"_top\" title=\"psysml:a8c82a2a-741b-4fac-ac9b-98beb228d3cb\" xlink:actuate=\"onRequest\" xlink:href=\"psysml:a8c82a2a-741b-4fac-ac9b-98beb228d3cb\" xlink:show=\"new\" xlink:title=\"psysml:a8c82a2a-741b-4fac-ac9b-98beb228d3cb\" xlink:type=\"simple\"><path d=\"M282.76,305.26 C314.96,322.16 354.91,343.12 384.91,358.86 \" fill=\"none\" id=\"E7-backto-E8\" style=\"stroke:#181818;stroke-width:1.0;\"/><polygon fill=\"none\" points=\"270.83,299,274.284,305.3301,281.4556,304.5765,278.0016,298.2464,270.83,299\" style=\"stroke:#181818;stroke-width:1.0;\"/></a></g><!--MD5=[f1f3f9f2fc535e6147756cb86a7f2e32]\n",
       "link E8 to E2--><g id=\"link_E8_E2\"><a href=\"psysml:199cdd6b-9599-4ee9-8d7a-04a31416ec15\" target=\"_top\" title=\"psysml:199cdd6b-9599-4ee9-8d7a-04a31416ec15\" xlink:actuate=\"onRequest\" xlink:href=\"psysml:199cdd6b-9599-4ee9-8d7a-04a31416ec15\" xlink:show=\"new\" xlink:title=\"psysml:199cdd6b-9599-4ee9-8d7a-04a31416ec15\" xlink:type=\"simple\"><path d=\"M410.56,407 C400.27,419.83 387.18,436.16 375.33,450.93 \" fill=\"none\" id=\"E8-to-E2\" style=\"stroke:#181818;stroke-width:1.0;\"/><polygon fill=\"#FFFFFF\" points=\"362.7,466.68,369.1181,447.4756,380.0435,456.2299,362.7,466.68\" style=\"stroke:#181818;stroke-width:1.0;\"/><ellipse cx=\"374.2431\" cy=\"444.2781\" fill=\"#181818\" rx=\"2\" ry=\"2\" style=\"stroke:#181818;stroke-width:1.0;\"/><ellipse cx=\"382.0469\" cy=\"450.5311\" fill=\"#181818\" rx=\"2\" ry=\"2\" style=\"stroke:#181818;stroke-width:1.0;\"/></a></g><!--MD5=[9ae28de373ca99bb8a1b38d63370ca7e]\n",
       "reverse link E5 to E9--><g id=\"link_E5_E9\"><a href=\"psysml:549a8511-5afb-4107-9df8-0f136ad572ec\" target=\"_top\" title=\"psysml:549a8511-5afb-4107-9df8-0f136ad572ec\" xlink:actuate=\"onRequest\" xlink:href=\"psysml:549a8511-5afb-4107-9df8-0f136ad572ec\" xlink:show=\"new\" xlink:title=\"psysml:549a8511-5afb-4107-9df8-0f136ad572ec\" xlink:type=\"simple\"><path d=\"M277.9238,215.3079 C279.0235,217.2432 280.1988,219.1321 281.4547,220.9571 C283.9666,224.607 286.8013,228.0013 290,231 C302.53,242.75 318.11,251.3 334.38,257.53 \" fill=\"none\" id=\"E5-backto-E9\" style=\"stroke:#181818;stroke-width:1.0;\"/><polygon fill=\"none\" points=\"277.9238,215.3079,277.4102,222.5006,283.8521,225.7412,284.3658,218.5484,277.9238,215.3079\" style=\"stroke:#181818;stroke-width:1.0;\"/></a></g><!--MD5=[5c3bb36fe832a92c7f0e1807dd65209d]\n",
       "link E9 to E2--><g id=\"link_E9_E2\"><a href=\"psysml:94a3a0b9-9284-4132-a69a-1dbd276e1390\" target=\"_top\" title=\"psysml:94a3a0b9-9284-4132-a69a-1dbd276e1390\" xlink:actuate=\"onRequest\" xlink:href=\"psysml:94a3a0b9-9284-4132-a69a-1dbd276e1390\" xlink:show=\"new\" xlink:title=\"psysml:94a3a0b9-9284-4132-a69a-1dbd276e1390\" xlink:type=\"simple\"><path d=\"M468.09,299.22 C500.23,325.43 541.77,369.33 518,407 C492.01,448.19 439.34,469.37 398.72,479.98 \" fill=\"none\" id=\"E9-to-E2\" style=\"stroke:#181818;stroke-width:1.0;\"/><polygon fill=\"#FFFFFF\" points=\"379.07,484.56,395.9826,473.4261,399.1635,487.06,379.07,484.56\" style=\"stroke:#181818;stroke-width:1.0;\"/><ellipse cx=\"401.988\" cy=\"474.0788\" fill=\"#181818\" rx=\"2\" ry=\"2\" style=\"stroke:#181818;stroke-width:1.0;\"/><ellipse cx=\"404.26\" cy=\"483.8172\" fill=\"#181818\" rx=\"2\" ry=\"2\" style=\"stroke:#181818;stroke-width:1.0;\"/></a></g><!--MD5=[dd09071f52d18dfda4b6e64dbd4c10bd]\n",
       "@startuml\r\n",
       "skin sysmlbw\r\n",
       "skinparam monochrome true\r\n",
       "skinparam wrapWidth 300\r\n",
       "hide circle\r\n",
       "\r\n",
       "package \"TradeStudyTest\" as E1  [[psysml:a91f55f8-3969-42e6-b46f-82de9da3fdc7 ]]  {\r\n",
       "comp def \"Engine\" as E2  <<(T,blue) part  def>> [[psysml:8055cf29-c4ca-4370-b025-bca5bf4f4944 ]] {\r\n",
       "}\r\n",
       "comp usage \"engine1: Engine  \" as E3  <<(T,blue) part>> [[psysml:479197b1-ce2e-480f-b2ef-7f257dc343b8 ]] {\r\n",
       "}\r\n",
       "comp usage \"engine2: Engine  \" as E4  <<(T,blue) part>> [[psysml:df8f9049-6917-4fa7-a1c9-f212538c9a4e ]] {\r\n",
       "}\r\n",
       "rec usage \"engineTradeStudy: TradeStudy  \" as E5  << analysis>> [[psysml:538ece1f-cb66-4e09-817f-0abcddd62ddd ]] {\r\n",
       "comp usage \"tradeStudyObjective\" as E6  <<objective>> [[psysml:4f755969-6586-456d-bfaa-2c124f0f3312 ]] {\r\n",
       "##//subject//##\r\n",
       "selectedAlternative\r\n",
       "}\r\n",
       "}\r\n",
       "comp usage \"evaluationFunction  \" as E7  <<(T,blue) calculation>> [[psysml:f253b0d3-72ce-4ec1-aa97-c21cff35f053 ]] {\r\n",
       "}\r\n",
       "comp usage \"alternative: Engine  \" as E8  <<(T,blue) part>> [[psysml:753de58d-f4ea-44a5-91ee-5ffc5e7a177d ]] {\r\n",
       "}\r\n",
       "comp usage \"selectedAlternative: Engine  \" as E9  <<(T,blue) part>> [[psysml:76ff8411-b0e7-4dd9-89c0-3f2666988fc0 ]] {\r\n",
       "}\r\n",
       "}\r\n",
       "E3 - -:|> E2 [[psysml:bc3cf079-eae7-49ce-b297-ec132a977e50 ]] \r\n",
       "E4 - -:|> E2 [[psysml:aa1a99dc-dc69-45ac-b95f-3bcc471ea5d4 ]] \r\n",
       "E5 *- - E7 [[psysml:ae0ddffd-d94b-4ee5-a4cb-a499b90c2b96 ]] \r\n",
       "E7 o- - E8 [[psysml:a8c82a2a-741b-4fac-ac9b-98beb228d3cb ]] \r\n",
       "E8 - -:|> E2 [[psysml:199cdd6b-9599-4ee9-8d7a-04a31416ec15 ]] \r\n",
       "E5 o- - E9 [[psysml:549a8511-5afb-4107-9df8-0f136ad572ec ]] \r\n",
       "E9 - -:|> E2 [[psysml:94a3a0b9-9284-4132-a69a-1dbd276e1390 ]] \r\n",
       "@enduml\r\n",
       "\n",
       "PlantUML version 1.2022.7(Mon Aug 22 17:01:30 UTC 2022)\n",
       "(EPL source distribution)\n",
       "Java Runtime: OpenJDK Runtime Environment\n",
       "JVM: OpenJDK 64-Bit Server VM\n",
       "Default Encoding: UTF-8\n",
       "Language: en\n",
       "Country: null\n",
       "--></g></svg>"
      ]
     },
     "execution_count": 37,
     "metadata": {},
     "output_type": "execute_result"
    }
   ],
   "source": [
    "%viz --style=\"DEFAULT\" --view=\"Default\" \"TradeStudyTest\""
   ]
  },
  {
   "cell_type": "code",
   "execution_count": 38,
   "id": "c5b53642",
   "metadata": {
    "execution": {
     "iopub.execute_input": "2024-12-16T14:21:09.958526Z",
     "iopub.status.busy": "2024-12-16T14:21:09.958305Z",
     "iopub.status.idle": "2024-12-16T14:21:09.981999Z",
     "shell.execute_reply": "2024-12-16T14:21:09.981070Z"
    }
   },
   "outputs": [
    {
     "data": {
      "image/svg+xml": [
       "<?xml version=\"1.0\" encoding=\"UTF-8\" standalone=\"no\"?><svg xmlns=\"http://www.w3.org/2000/svg\" xmlns:xlink=\"http://www.w3.org/1999/xlink\" contentStyleType=\"text/css\" height=\"572px\" preserveAspectRatio=\"none\" style=\"width:570px;height:572px;background:#FFFFFF;\" version=\"1.1\" viewBox=\"0 0 570 572\" width=\"570px\" zoomAndPan=\"magnify\"><defs/><g><!--MD5=[fbc87193dbaf4d95561dea2c320d4a47]\n",
       "cluster E1--><g id=\"cluster_E1\"><a href=\"psysml:a91f55f8-3969-42e6-b46f-82de9da3fdc7\" target=\"_top\" title=\"psysml:a91f55f8-3969-42e6-b46f-82de9da3fdc7\" xlink:actuate=\"onRequest\" xlink:href=\"psysml:a91f55f8-3969-42e6-b46f-82de9da3fdc7\" xlink:show=\"new\" xlink:title=\"psysml:a91f55f8-3969-42e6-b46f-82de9da3fdc7\" xlink:type=\"simple\"><polygon fill=\"none\" points=\"16,6,138.125,6,145.125,28.2969,553,28.2969,553,565,16,565,16,6\" style=\"stroke:#000000;stroke-width:1.5;\"/><line style=\"stroke:#000000;stroke-width:1.5;\" x1=\"16\" x2=\"145.125\" y1=\"28.2969\" y2=\"28.2969\"/><text fill=\"#000000\" font-family=\"sans-serif\" font-size=\"14\" font-weight=\"bold\" lengthAdjust=\"spacing\" textLength=\"116.125\" x=\"20\" y=\"20.9951\">TradeStudyTest</text></a></g><!--MD5=[b4997ac47864f28c2f74865a473b2911]\n",
       "class E2--><a href=\"psysml:8055cf29-c4ca-4370-b025-bca5bf4f4944\" target=\"_top\" title=\"psysml:8055cf29-c4ca-4370-b025-bca5bf4f4944\" xlink:actuate=\"onRequest\" xlink:href=\"psysml:8055cf29-c4ca-4370-b025-bca5bf4f4944\" xlink:show=\"new\" xlink:title=\"psysml:8055cf29-c4ca-4370-b025-bca5bf4f4944\" xlink:type=\"simple\"><g id=\"elem_E2\"><rect fill=\"#FFFFFF\" height=\"48.2656\" id=\"E2\" style=\"stroke:#181818;stroke-width:0.5;\" width=\"70\" x=\"202\" y=\"501\"/><text fill=\"#000000\" font-family=\"sans-serif\" font-size=\"12\" font-style=\"italic\" lengthAdjust=\"spacing\" textLength=\"68\" x=\"203\" y=\"517.1387\">«part  def»</text><text fill=\"#000000\" font-family=\"sans-serif\" font-size=\"14\" lengthAdjust=\"spacing\" textLength=\"48\" x=\"213\" y=\"532.9639\">Engine</text><line style=\"stroke:#181818;stroke-width:0.5;\" x1=\"203\" x2=\"271\" y1=\"541.2656\" y2=\"541.2656\"/></g></a><!--MD5=[09b614a08d8cba4a07c9adeb5e0fee81]\n",
       "class E3--><a href=\"psysml:479197b1-ce2e-480f-b2ef-7f257dc343b8\" target=\"_top\" title=\"psysml:479197b1-ce2e-480f-b2ef-7f257dc343b8\" xlink:actuate=\"onRequest\" xlink:href=\"psysml:479197b1-ce2e-480f-b2ef-7f257dc343b8\" xlink:show=\"new\" xlink:title=\"psysml:479197b1-ce2e-480f-b2ef-7f257dc343b8\" xlink:type=\"simple\"><g id=\"elem_E3\"><rect fill=\"#FFFFFF\" height=\"48.2656\" id=\"E3\" rx=\"10\" ry=\"10\" style=\"stroke:#181818;stroke-width:0.5;\" width=\"128\" x=\"409\" y=\"392\"/><text fill=\"#000000\" font-family=\"sans-serif\" font-size=\"12\" font-style=\"italic\" lengthAdjust=\"spacing\" textLength=\"40\" x=\"453\" y=\"408.1387\">«part»</text><text fill=\"#000000\" font-family=\"sans-serif\" font-size=\"14\" lengthAdjust=\"spacing\" textLength=\"114\" x=\"412\" y=\"423.9639\">engine1: Engine</text><line style=\"stroke:#181818;stroke-width:0.5;\" x1=\"410\" x2=\"536\" y1=\"432.2656\" y2=\"432.2656\"/></g></a><!--MD5=[ebbe1d658d1005bcc118a6aa81145e00]\n",
       "class E4--><a href=\"psysml:df8f9049-6917-4fa7-a1c9-f212538c9a4e\" target=\"_top\" title=\"psysml:df8f9049-6917-4fa7-a1c9-f212538c9a4e\" xlink:actuate=\"onRequest\" xlink:href=\"psysml:df8f9049-6917-4fa7-a1c9-f212538c9a4e\" xlink:show=\"new\" xlink:title=\"psysml:df8f9049-6917-4fa7-a1c9-f212538c9a4e\" xlink:type=\"simple\"><g id=\"elem_E4\"><rect fill=\"#FFFFFF\" height=\"48.2656\" id=\"E4\" rx=\"10\" ry=\"10\" style=\"stroke:#181818;stroke-width:0.5;\" width=\"128\" x=\"246\" y=\"392\"/><text fill=\"#000000\" font-family=\"sans-serif\" font-size=\"12\" font-style=\"italic\" lengthAdjust=\"spacing\" textLength=\"40\" x=\"290\" y=\"408.1387\">«part»</text><text fill=\"#000000\" font-family=\"sans-serif\" font-size=\"14\" lengthAdjust=\"spacing\" textLength=\"114\" x=\"249\" y=\"423.9639\">engine2: Engine</text><line style=\"stroke:#181818;stroke-width:0.5;\" x1=\"247\" x2=\"373\" y1=\"432.2656\" y2=\"432.2656\"/></g></a><!--MD5=[270fce915f116d4de14055a7c1d9a0f3]\n",
       "class E5--><a href=\"psysml:538ece1f-cb66-4e09-817f-0abcddd62ddd\" target=\"_top\" title=\"psysml:538ece1f-cb66-4e09-817f-0abcddd62ddd\" xlink:actuate=\"onRequest\" xlink:href=\"psysml:538ece1f-cb66-4e09-817f-0abcddd62ddd\" xlink:show=\"new\" xlink:title=\"psysml:538ece1f-cb66-4e09-817f-0abcddd62ddd\" xlink:type=\"simple\"><g id=\"elem_E5\"><rect fill=\"#FFFFFF\" height=\"91.3781\" id=\"E5\" rx=\"10\" ry=\"10\" style=\"stroke:#181818;stroke-width:0.5;\" width=\"277\" x=\"259.5\" y=\"41\"/><text fill=\"#000000\" font-family=\"sans-serif\" font-size=\"12\" font-style=\"italic\" lengthAdjust=\"spacing\" textLength=\"64\" x=\"366\" y=\"57.1387\">«analysis»</text><text fill=\"#000000\" font-family=\"sans-serif\" font-size=\"14\" lengthAdjust=\"spacing\" textLength=\"215\" x=\"286.5\" y=\"72.9639\">engineTradeStudy: TradeStudy</text><line style=\"stroke:#181818;stroke-width:0.5;\" x1=\"260.5\" x2=\"535.5\" y1=\"81.2656\" y2=\"81.2656\"/><text fill=\"#000000\" font-family=\"sans-serif\" font-size=\"14\" lengthAdjust=\"spacing\" textLength=\"261\" x=\"265.5\" y=\"108.7795\">studyAlternatives: Engine = (engine1,</text><text fill=\"#000000\" font-family=\"sans-serif\" font-size=\"14\" lengthAdjust=\"spacing\" textLength=\"62\" x=\"265.5\" y=\"125.0764\">engine2)</text><text fill=\"#000000\" font-family=\"sans-serif\" font-size=\"14\" font-style=\"italic\" lengthAdjust=\"spacing\" textLength=\"51\" x=\"372.5\" y=\"93.6123\">subject</text></g></a><!--MD5=[60a26617385b1d2d0262a64233df1f8d]\n",
       "class E6--><a href=\"psysml:4f755969-6586-456d-bfaa-2c124f0f3312\" target=\"_top\" title=\"psysml:4f755969-6586-456d-bfaa-2c124f0f3312\" xlink:actuate=\"onRequest\" xlink:href=\"psysml:4f755969-6586-456d-bfaa-2c124f0f3312\" xlink:show=\"new\" xlink:title=\"psysml:4f755969-6586-456d-bfaa-2c124f0f3312\" xlink:type=\"simple\"><g id=\"elem_E6\"><rect fill=\"#FFFFFF\" height=\"75.0813\" id=\"E6\" rx=\"10\" ry=\"10\" style=\"stroke:#181818;stroke-width:0.5;\" width=\"289\" x=\"31.5\" y=\"209\"/><text fill=\"#000000\" font-family=\"sans-serif\" font-size=\"12\" font-style=\"italic\" lengthAdjust=\"spacing\" textLength=\"91\" x=\"130.5\" y=\"225.1387\">«requirement»</text><text fill=\"#000000\" font-family=\"sans-serif\" font-size=\"14\" lengthAdjust=\"spacing\" textLength=\"275\" x=\"34.5\" y=\"240.9639\">tradeStudyObjective: MaximizeObjective</text><line style=\"stroke:#181818;stroke-width:0.5;\" x1=\"32.5\" x2=\"319.5\" y1=\"249.2656\" y2=\"249.2656\"/><text fill=\"#000000\" font-family=\"sans-serif\" font-size=\"14\" lengthAdjust=\"spacing\" textLength=\"132\" x=\"37.5\" y=\"276.7795\">selectedAlternative</text><text fill=\"#000000\" font-family=\"sans-serif\" font-size=\"14\" font-style=\"italic\" lengthAdjust=\"spacing\" textLength=\"51\" x=\"150.5\" y=\"261.6123\">subject</text></g></a><!--MD5=[2156ba9850f5573cc1fc38a6a4b2f02b]\n",
       "class E7--><a href=\"psysml:f253b0d3-72ce-4ec1-aa97-c21cff35f053\" target=\"_top\" title=\"psysml:f253b0d3-72ce-4ec1-aa97-c21cff35f053\" xlink:actuate=\"onRequest\" xlink:href=\"psysml:f253b0d3-72ce-4ec1-aa97-c21cff35f053\" xlink:show=\"new\" xlink:title=\"psysml:f253b0d3-72ce-4ec1-aa97-c21cff35f053\" xlink:type=\"simple\"><g id=\"elem_E7\"><rect fill=\"#FFFFFF\" height=\"48.2656\" id=\"E7\" rx=\"10\" ry=\"10\" style=\"stroke:#181818;stroke-width:0.5;\" width=\"144\" x=\"355\" y=\"222.5\"/><text fill=\"#000000\" font-family=\"sans-serif\" font-size=\"12\" font-style=\"italic\" lengthAdjust=\"spacing\" textLength=\"82\" x=\"386\" y=\"238.6387\">«calculation»</text><text fill=\"#000000\" font-family=\"sans-serif\" font-size=\"14\" lengthAdjust=\"spacing\" textLength=\"130\" x=\"358\" y=\"254.4639\">evaluationFunction</text><line style=\"stroke:#181818;stroke-width:0.5;\" x1=\"356\" x2=\"498\" y1=\"262.7656\" y2=\"262.7656\"/></g></a><!--MD5=[b9389687b975829384b498ac4b7476b2]\n",
       "class E8--><a href=\"psysml:753de58d-f4ea-44a5-91ee-5ffc5e7a177d\" target=\"_top\" title=\"psysml:753de58d-f4ea-44a5-91ee-5ffc5e7a177d\" xlink:actuate=\"onRequest\" xlink:href=\"psysml:753de58d-f4ea-44a5-91ee-5ffc5e7a177d\" xlink:show=\"new\" xlink:title=\"psysml:753de58d-f4ea-44a5-91ee-5ffc5e7a177d\" xlink:type=\"simple\"><g id=\"elem_E8\"><rect fill=\"#FFFFFF\" height=\"48.2656\" id=\"E8\" rx=\"10\" ry=\"10\" style=\"stroke:#181818;stroke-width:0.5;\" width=\"142\" x=\"32\" y=\"392\"/><text fill=\"#000000\" font-family=\"sans-serif\" font-size=\"12\" font-style=\"italic\" lengthAdjust=\"spacing\" textLength=\"40\" x=\"83\" y=\"408.1387\">«part»</text><text fill=\"#000000\" font-family=\"sans-serif\" font-size=\"14\" lengthAdjust=\"spacing\" textLength=\"128\" x=\"35\" y=\"423.9639\">alternative: Engine</text><line style=\"stroke:#181818;stroke-width:0.5;\" x1=\"33\" x2=\"173\" y1=\"432.2656\" y2=\"432.2656\"/></g></a><!--MD5=[fd4143e9d270a159db93a4ea2a975926]\n",
       "class E9--><a href=\"psysml:76ff8411-b0e7-4dd9-89c0-3f2666988fc0\" target=\"_top\" title=\"psysml:76ff8411-b0e7-4dd9-89c0-3f2666988fc0\" xlink:actuate=\"onRequest\" xlink:href=\"psysml:76ff8411-b0e7-4dd9-89c0-3f2666988fc0\" xlink:show=\"new\" xlink:title=\"psysml:76ff8411-b0e7-4dd9-89c0-3f2666988fc0\" xlink:type=\"simple\"><g id=\"elem_E9\"><rect fill=\"#FFFFFF\" height=\"48.2656\" id=\"E9\" rx=\"10\" ry=\"10\" style=\"stroke:#181818;stroke-width:0.5;\" width=\"203\" x=\"277.5\" y=\"314\"/><text fill=\"#000000\" font-family=\"sans-serif\" font-size=\"12\" font-style=\"italic\" lengthAdjust=\"spacing\" textLength=\"40\" x=\"359\" y=\"330.1387\">«part»</text><text fill=\"#000000\" font-family=\"sans-serif\" font-size=\"14\" lengthAdjust=\"spacing\" textLength=\"189\" x=\"280.5\" y=\"345.9639\">selectedAlternative: Engine</text><line style=\"stroke:#181818;stroke-width:0.5;\" x1=\"278.5\" x2=\"479.5\" y1=\"354.2656\" y2=\"354.2656\"/></g></a><!--MD5=[05d275557350bfb9b23a4ef7222b4c39]\n",
       "link E3 to E2--><g id=\"link_E3_E2\"><a href=\"psysml:bc3cf079-eae7-49ce-b297-ec132a977e50\" target=\"_top\" title=\"psysml:bc3cf079-eae7-49ce-b297-ec132a977e50\" xlink:actuate=\"onRequest\" xlink:href=\"psysml:bc3cf079-eae7-49ce-b297-ec132a977e50\" xlink:show=\"new\" xlink:title=\"psysml:bc3cf079-eae7-49ce-b297-ec132a977e50\" xlink:type=\"simple\"><path d=\"M422.08,440.09 C383.28,457.68 329.98,481.84 290.54,499.73 \" fill=\"none\" id=\"E3-to-E2\" style=\"stroke:#181818;stroke-width:1.0;\"/><polygon fill=\"#FFFFFF\" points=\"272.15,508.07,286.5646,493.8497,292.3451,506.6006,272.15,508.07\" style=\"stroke:#181818;stroke-width:1.0;\"/><ellipse cx=\"292.5819\" cy=\"493.3178\" fill=\"#181818\" rx=\"2\" ry=\"2\" style=\"stroke:#181818;stroke-width:1.0;\"/><ellipse cx=\"296.7108\" cy=\"502.4256\" fill=\"#181818\" rx=\"2\" ry=\"2\" style=\"stroke:#181818;stroke-width:1.0;\"/></a></g><!--MD5=[185131fc0dcab0a4505a2ebe144e961b]\n",
       "link E4 to E2--><g id=\"link_E4_E2\"><a href=\"psysml:aa1a99dc-dc69-45ac-b95f-3bcc471ea5d4\" target=\"_top\" title=\"psysml:aa1a99dc-dc69-45ac-b95f-3bcc471ea5d4\" xlink:actuate=\"onRequest\" xlink:href=\"psysml:aa1a99dc-dc69-45ac-b95f-3bcc471ea5d4\" xlink:show=\"new\" xlink:title=\"psysml:aa1a99dc-dc69-45ac-b95f-3bcc471ea5d4\" xlink:type=\"simple\"><path d=\"M294.16,440.22 C285.45,452.98 274.41,469.16 264.36,483.9 \" fill=\"none\" id=\"E4-to-E2\" style=\"stroke:#181818;stroke-width:1.0;\"/><polygon fill=\"#FFFFFF\" points=\"252.81,500.83,257.7393,481.1907,269.3027,489.083,252.81,500.83\" style=\"stroke:#181818;stroke-width:1.0;\"/><ellipse cx=\"262.6045\" cy=\"477.6102\" fill=\"#181818\" rx=\"2\" ry=\"2\" style=\"stroke:#181818;stroke-width:1.0;\"/><ellipse cx=\"270.8641\" cy=\"483.2476\" fill=\"#181818\" rx=\"2\" ry=\"2\" style=\"stroke:#181818;stroke-width:1.0;\"/></a></g><!--MD5=[9120cf2e5df3bff93db8f754bbbc09b4]\n",
       "link E5 to E6--><g id=\"link_E5_E6\"><a href=\"psysml:8e017d7e-1da3-4c9b-9b63-350890040555\" target=\"_top\" title=\"psysml:8e017d7e-1da3-4c9b-9b63-350890040555\" xlink:actuate=\"onRequest\" xlink:href=\"psysml:8e017d7e-1da3-4c9b-9b63-350890040555\" xlink:show=\"new\" xlink:title=\"psysml:8e017d7e-1da3-4c9b-9b63-350890040555\" xlink:type=\"simple\"><path d=\"M335.27,132.14 C303.43,154.8 265.01,182.15 233.88,204.31 \" fill=\"none\" id=\"E5-to-E6\" style=\"stroke:#181818;stroke-width:1.0;\"/><polygon fill=\"#181818\" points=\"227.35,208.95,235.6091,206.7619,232.1338,201.8708,227.35,208.95\" style=\"stroke:#181818;stroke-width:1.0;\"/><text fill=\"#000000\" font-family=\"sans-serif\" font-size=\"13\" lengthAdjust=\"spacing\" textLength=\"73\" x=\"288\" y=\"175.0669\">«objective»</text></a></g><!--MD5=[452b418e7f8a40397a49b8c0a78acc5b]\n",
       "reverse link E5 to E7--><g id=\"link_E5_E7\"><a href=\"psysml:ae0ddffd-d94b-4ee5-a4cb-a499b90c2b96\" target=\"_top\" title=\"psysml:ae0ddffd-d94b-4ee5-a4cb-a499b90c2b96\" xlink:actuate=\"onRequest\" xlink:href=\"psysml:ae0ddffd-d94b-4ee5-a4cb-a499b90c2b96\" xlink:show=\"new\" xlink:title=\"psysml:ae0ddffd-d94b-4ee5-a4cb-a499b90c2b96\" xlink:type=\"simple\"><path d=\"M408.58,145.15 C413.49,171.92 419.06,202.22 422.77,222.46 \" fill=\"none\" id=\"E5-backto-E7\" style=\"stroke:#181818;stroke-width:1.0;\"/><polygon fill=\"#181818\" points=\"406.23,132.35,403.3769,138.9727,408.3929,144.1535,411.2459,137.5308,406.23,132.35\" style=\"stroke:#181818;stroke-width:1.0;\"/></a></g><!--MD5=[dc164f5e8a733ab456ef1add180e9e34]\n",
       "reverse link E7 to E8--><g id=\"link_E7_E8\"><a href=\"psysml:a8c82a2a-741b-4fac-ac9b-98beb228d3cb\" target=\"_top\" title=\"psysml:a8c82a2a-741b-4fac-ac9b-98beb228d3cb\" xlink:actuate=\"onRequest\" xlink:href=\"psysml:a8c82a2a-741b-4fac-ac9b-98beb228d3cb\" xlink:show=\"new\" xlink:title=\"psysml:a8c82a2a-741b-4fac-ac9b-98beb228d3cb\" xlink:type=\"simple\"><path d=\"M358.87,275.62 C351.83,278.47 344.78,281.31 338,284 C303.48,297.71 293.12,297.2 260,314 C214.48,337.09 165.54,370 134.62,391.9 \" fill=\"none\" id=\"E7-backto-E8\" style=\"stroke:#181818;stroke-width:1.0;\"/><polygon fill=\"none\" points=\"371.05,270.66,363.9849,269.2162,359.9348,275.1825,366.9999,276.6263,371.05,270.66\" style=\"stroke:#181818;stroke-width:1.0;\"/></a></g><!--MD5=[f1f3f9f2fc535e6147756cb86a7f2e32]\n",
       "link E8 to E2--><g id=\"link_E8_E2\"><a href=\"psysml:199cdd6b-9599-4ee9-8d7a-04a31416ec15\" target=\"_top\" title=\"psysml:199cdd6b-9599-4ee9-8d7a-04a31416ec15\" xlink:actuate=\"onRequest\" xlink:href=\"psysml:199cdd6b-9599-4ee9-8d7a-04a31416ec15\" xlink:show=\"new\" xlink:title=\"psysml:199cdd6b-9599-4ee9-8d7a-04a31416ec15\" xlink:type=\"simple\"><path d=\"M132.08,440.22 C149.64,454.24 172.38,472.4 192.2,488.22 \" fill=\"none\" id=\"E8-to-E2\" style=\"stroke:#181818;stroke-width:1.0;\"/><polygon fill=\"#FFFFFF\" points=\"207.98,500.83,188.7663,494.4397,197.5048,483.5017,207.98,500.83\" style=\"stroke:#181818;stroke-width:1.0;\"/><ellipse cx=\"185.5614\" cy=\"489.3194\" fill=\"#181818\" rx=\"2\" ry=\"2\" style=\"stroke:#181818;stroke-width:1.0;\"/><ellipse cx=\"191.8031\" cy=\"481.5065\" fill=\"#181818\" rx=\"2\" ry=\"2\" style=\"stroke:#181818;stroke-width:1.0;\"/></a></g><!--MD5=[9ae28de373ca99bb8a1b38d63370ca7e]\n",
       "reverse link E5 to E9--><g id=\"link_E5_E9\"><a href=\"psysml:549a8511-5afb-4107-9df8-0f136ad572ec\" target=\"_top\" title=\"psysml:549a8511-5afb-4107-9df8-0f136ad572ec\" xlink:actuate=\"onRequest\" xlink:href=\"psysml:549a8511-5afb-4107-9df8-0f136ad572ec\" xlink:show=\"new\" xlink:title=\"psysml:549a8511-5afb-4107-9df8-0f136ad572ec\" xlink:type=\"simple\"><path d=\"M465.82,140.94 C508.28,181.06 549.34,236.94 517,284 C507.92,297.22 495.04,307.14 480.77,314.59 \" fill=\"none\" id=\"E5-backto-E9\" style=\"stroke:#181818;stroke-width:1.0;\"/><polygon fill=\"none\" points=\"456.19,132.12,457.9105,139.1228,465.0364,140.2281,463.3159,133.2253,456.19,132.12\" style=\"stroke:#181818;stroke-width:1.0;\"/></a></g><!--MD5=[5c3bb36fe832a92c7f0e1807dd65209d]\n",
       "link E9 to E2--><g id=\"link_E9_E2\"><a href=\"psysml:94a3a0b9-9284-4132-a69a-1dbd276e1390\" target=\"_top\" title=\"psysml:94a3a0b9-9284-4132-a69a-1dbd276e1390\" xlink:actuate=\"onRequest\" xlink:href=\"psysml:94a3a0b9-9284-4132-a69a-1dbd276e1390\" xlink:show=\"new\" xlink:title=\"psysml:94a3a0b9-9284-4132-a69a-1dbd276e1390\" xlink:type=\"simple\"><path d=\"M277.25,355.97 C258.31,363.85 240.8,375.31 229,392 C210.88,417.62 214.39,453.5 221.59,481.39 \" fill=\"none\" id=\"E9-to-E2\" style=\"stroke:#181818;stroke-width:1.0;\"/><polygon fill=\"#FFFFFF\" points=\"227.53,500.86,215.2849,484.7337,228.6742,480.6439,227.53,500.86\" style=\"stroke:#181818;stroke-width:1.0;\"/><ellipse cx=\"215.5325\" cy=\"478.6981\" fill=\"#181818\" rx=\"2\" ry=\"2\" style=\"stroke:#181818;stroke-width:1.0;\"/><ellipse cx=\"225.0963\" cy=\"475.7768\" fill=\"#181818\" rx=\"2\" ry=\"2\" style=\"stroke:#181818;stroke-width:1.0;\"/></a></g><!--MD5=[5b9f96782210e03fbbf22be78574883d]\n",
       "@startuml\r\n",
       "skin sysmlbw\r\n",
       "skinparam monochrome true\r\n",
       "skinparam wrapWidth 300\r\n",
       "hide circle\r\n",
       "\r\n",
       "package \"TradeStudyTest\" as E1  [[psysml:a91f55f8-3969-42e6-b46f-82de9da3fdc7 ]]  {\r\n",
       "comp def \"Engine\" as E2  <<(T,blue) part  def>> [[psysml:8055cf29-c4ca-4370-b025-bca5bf4f4944 ]] {\r\n",
       "}\r\n",
       "comp usage \"engine1: Engine  \" as E3  <<(T,blue) part>> [[psysml:479197b1-ce2e-480f-b2ef-7f257dc343b8 ]] {\r\n",
       "}\r\n",
       "comp usage \"engine2: Engine  \" as E4  <<(T,blue) part>> [[psysml:df8f9049-6917-4fa7-a1c9-f212538c9a4e ]] {\r\n",
       "}\r\n",
       "comp usage \"engineTradeStudy: TradeStudy  \" as E5  << analysis>> [[psysml:538ece1f-cb66-4e09-817f-0abcddd62ddd ]] {\r\n",
       "##//subject//##\r\n",
       "studyAlternatives: Engine <U+003D> (engine1, engine2)\r\n",
       "}\r\n",
       "comp usage \"tradeStudyObjective: MaximizeObjective  \" as E6  <<(T,blue) requirement>> [[psysml:4f755969-6586-456d-bfaa-2c124f0f3312 ]] {\r\n",
       "##//subject//##\r\n",
       "selectedAlternative\r\n",
       "}\r\n",
       "comp usage \"evaluationFunction  \" as E7  <<(T,blue) calculation>> [[psysml:f253b0d3-72ce-4ec1-aa97-c21cff35f053 ]] {\r\n",
       "}\r\n",
       "comp usage \"alternative: Engine  \" as E8  <<(T,blue) part>> [[psysml:753de58d-f4ea-44a5-91ee-5ffc5e7a177d ]] {\r\n",
       "}\r\n",
       "comp usage \"selectedAlternative: Engine  \" as E9  <<(T,blue) part>> [[psysml:76ff8411-b0e7-4dd9-89c0-3f2666988fc0 ]] {\r\n",
       "}\r\n",
       "}\r\n",
       "E3 - -:|> E2 [[psysml:bc3cf079-eae7-49ce-b297-ec132a977e50 ]] \r\n",
       "E4 - -:|> E2 [[psysml:aa1a99dc-dc69-45ac-b95f-3bcc471ea5d4 ]] \r\n",
       "E5 - ->> E6 [[psysml:8e017d7e-1da3-4c9b-9b63-350890040555 ]] : <<objective>>\r\n",
       "E5 *- - E7 [[psysml:ae0ddffd-d94b-4ee5-a4cb-a499b90c2b96 ]] \r\n",
       "E7 o- - E8 [[psysml:a8c82a2a-741b-4fac-ac9b-98beb228d3cb ]] \r\n",
       "E8 - -:|> E2 [[psysml:199cdd6b-9599-4ee9-8d7a-04a31416ec15 ]] \r\n",
       "E5 o- - E9 [[psysml:549a8511-5afb-4107-9df8-0f136ad572ec ]] \r\n",
       "E9 - -:|> E2 [[psysml:94a3a0b9-9284-4132-a69a-1dbd276e1390 ]] \r\n",
       "@enduml\r\n",
       "\n",
       "PlantUML version 1.2022.7(Mon Aug 22 17:01:30 UTC 2022)\n",
       "(EPL source distribution)\n",
       "Java Runtime: OpenJDK Runtime Environment\n",
       "JVM: OpenJDK 64-Bit Server VM\n",
       "Default Encoding: UTF-8\n",
       "Language: en\n",
       "Country: null\n",
       "--></g></svg>"
      ]
     },
     "execution_count": 38,
     "metadata": {},
     "output_type": "execute_result"
    }
   ],
   "source": [
    "%viz --style=\"DEFAULT\" --view=\"Tree\" \"TradeStudyTest\""
   ]
  },
  {
   "cell_type": "code",
   "execution_count": 39,
   "id": "196add61",
   "metadata": {
    "execution": {
     "iopub.execute_input": "2024-12-16T14:21:10.033211Z",
     "iopub.status.busy": "2024-12-16T14:21:10.032976Z",
     "iopub.status.idle": "2024-12-16T14:21:10.038167Z",
     "shell.execute_reply": "2024-12-16T14:21:10.037995Z"
    }
   },
   "outputs": [
    {
     "data": {
      "image/svg+xml": [
       "<?xml version=\"1.0\" encoding=\"UTF-8\" standalone=\"no\"?><svg xmlns=\"http://www.w3.org/2000/svg\" xmlns:xlink=\"http://www.w3.org/1999/xlink\" contentStyleType=\"text/css\" height=\"10px\" preserveAspectRatio=\"none\" style=\"width:10px;height:10px;background:#FFFFFF;\" version=\"1.1\" viewBox=\"0 0 10 10\" width=\"10px\" zoomAndPan=\"magnify\"><defs/><g><!--MD5=[ac12e6954f3af68464267ee74ddf8a9f]\n",
       "@startuml\r\n",
       "skin sysmlbw\r\n",
       "skinparam monochrome true\r\n",
       "skinparam wrapWidth 300\r\n",
       "hide circle\r\n",
       "\r\n",
       "@enduml\r\n",
       "\n",
       "PlantUML version 1.2022.7(Mon Aug 22 17:01:30 UTC 2022)\n",
       "(EPL source distribution)\n",
       "Java Runtime: OpenJDK Runtime Environment\n",
       "JVM: OpenJDK 64-Bit Server VM\n",
       "Default Encoding: UTF-8\n",
       "Language: en\n",
       "Country: null\n",
       "--></g></svg>"
      ]
     },
     "execution_count": 39,
     "metadata": {},
     "output_type": "execute_result"
    }
   ],
   "source": [
    "%viz --style=\"DEFAULT\" --view=\"State\" \"TradeStudyTest\""
   ]
  },
  {
   "cell_type": "code",
   "execution_count": 40,
   "id": "2820831a",
   "metadata": {
    "execution": {
     "iopub.execute_input": "2024-12-16T14:21:10.090605Z",
     "iopub.status.busy": "2024-12-16T14:21:10.090383Z",
     "iopub.status.idle": "2024-12-16T14:21:10.117188Z",
     "shell.execute_reply": "2024-12-16T14:21:10.116315Z"
    }
   },
   "outputs": [
    {
     "data": {
      "image/svg+xml": [
       "<?xml version=\"1.0\" encoding=\"UTF-8\" standalone=\"no\"?><svg xmlns=\"http://www.w3.org/2000/svg\" xmlns:xlink=\"http://www.w3.org/1999/xlink\" contentStyleType=\"text/css\" height=\"415px\" preserveAspectRatio=\"none\" style=\"width:565px;height:415px;background:#FFFFFF;\" version=\"1.1\" viewBox=\"0 0 565 415\" width=\"565px\" zoomAndPan=\"magnify\"><defs/><g><!--MD5=[fbc87193dbaf4d95561dea2c320d4a47]\n",
       "cluster E1--><g id=\"cluster_E1\"><a href=\"psysml:a91f55f8-3969-42e6-b46f-82de9da3fdc7\" target=\"_top\" title=\"psysml:a91f55f8-3969-42e6-b46f-82de9da3fdc7\" xlink:actuate=\"onRequest\" xlink:href=\"psysml:a91f55f8-3969-42e6-b46f-82de9da3fdc7\" xlink:show=\"new\" xlink:title=\"psysml:a91f55f8-3969-42e6-b46f-82de9da3fdc7\" xlink:type=\"simple\"><polygon fill=\"none\" points=\"16,6,138.125,6,145.125,28.2969,548,28.2969,548,408,16,408,16,6\" style=\"stroke:#000000;stroke-width:1.5;\"/><line style=\"stroke:#000000;stroke-width:1.5;\" x1=\"16\" x2=\"145.125\" y1=\"28.2969\" y2=\"28.2969\"/><text fill=\"#000000\" font-family=\"sans-serif\" font-size=\"14\" font-weight=\"bold\" lengthAdjust=\"spacing\" textLength=\"116.125\" x=\"20\" y=\"20.9951\">TradeStudyTest</text></a></g><!--MD5=[de5ec2e2e8f62f467e546659f5068c88]\n",
       "cluster E5--><g id=\"cluster_E5\"><a href=\"psysml:538ece1f-cb66-4e09-817f-0abcddd62ddd\" target=\"_top\" title=\"psysml:538ece1f-cb66-4e09-817f-0abcddd62ddd\" xlink:actuate=\"onRequest\" xlink:href=\"psysml:538ece1f-cb66-4e09-817f-0abcddd62ddd\" xlink:show=\"new\" xlink:title=\"psysml:538ece1f-cb66-4e09-817f-0abcddd62ddd\" xlink:type=\"simple\"><rect fill=\"#FFFFFF\" height=\"158\" id=\"E5\" rx=\"10\" ry=\"10\" style=\"stroke:#383838;stroke-width:1.5;\" width=\"250\" x=\"231\" y=\"57\"/><text fill=\"#000000\" font-family=\"sans-serif\" font-size=\"12\" font-style=\"italic\" lengthAdjust=\"spacing\" textLength=\"64\" x=\"324\" y=\"73.1387\">«analysis»</text><text fill=\"#000000\" font-family=\"sans-serif\" font-size=\"14\" lengthAdjust=\"spacing\" textLength=\"215\" x=\"244.5\" y=\"88.9639\">engineTradeStudy: TradeStudy</text><line style=\"stroke:#383838;stroke-width:1.0;\" x1=\"231\" x2=\"481\" y1=\"97.2656\" y2=\"97.2656\"/></a></g><!--MD5=[2156ba9850f5573cc1fc38a6a4b2f02b]\n",
       "class E7--><a href=\"psysml:f253b0d3-72ce-4ec1-aa97-c21cff35f053\" target=\"_top\" title=\"psysml:f253b0d3-72ce-4ec1-aa97-c21cff35f053\" xlink:actuate=\"onRequest\" xlink:href=\"psysml:f253b0d3-72ce-4ec1-aa97-c21cff35f053\" xlink:show=\"new\" xlink:title=\"psysml:f253b0d3-72ce-4ec1-aa97-c21cff35f053\" xlink:type=\"simple\"><g id=\"elem_E7\"><rect fill=\"#FFFFFF\" height=\"48.2656\" id=\"E7\" rx=\"10\" ry=\"10\" style=\"stroke:#181818;stroke-width:0.5;\" width=\"144\" x=\"150\" y=\"239\"/><text fill=\"#000000\" font-family=\"sans-serif\" font-size=\"12\" font-style=\"italic\" lengthAdjust=\"spacing\" textLength=\"82\" x=\"181\" y=\"255.1387\">«calculation»</text><text fill=\"#000000\" font-family=\"sans-serif\" font-size=\"14\" lengthAdjust=\"spacing\" textLength=\"130\" x=\"153\" y=\"270.9639\">evaluationFunction</text><line style=\"stroke:#181818;stroke-width:0.5;\" x1=\"151\" x2=\"293\" y1=\"279.2656\" y2=\"279.2656\"/></g></a><!--MD5=[b9389687b975829384b498ac4b7476b2]\n",
       "class E8--><a href=\"psysml:753de58d-f4ea-44a5-91ee-5ffc5e7a177d\" target=\"_top\" title=\"psysml:753de58d-f4ea-44a5-91ee-5ffc5e7a177d\" xlink:actuate=\"onRequest\" xlink:href=\"psysml:753de58d-f4ea-44a5-91ee-5ffc5e7a177d\" xlink:show=\"new\" xlink:title=\"psysml:753de58d-f4ea-44a5-91ee-5ffc5e7a177d\" xlink:type=\"simple\"><g id=\"elem_E8\"><rect fill=\"#FFFFFF\" height=\"34.2969\" id=\"E8\" rx=\"10\" ry=\"10\" style=\"stroke:#181818;stroke-width:0.5;\" width=\"142\" x=\"353\" y=\"300\"/><text fill=\"#000000\" font-family=\"sans-serif\" font-size=\"14\" lengthAdjust=\"spacing\" textLength=\"128\" x=\"356\" y=\"317.9951\">alternative: Engine</text><line style=\"stroke:#181818;stroke-width:0.5;\" x1=\"354\" x2=\"494\" y1=\"326.2969\" y2=\"326.2969\"/></g></a><!--MD5=[fd4143e9d270a159db93a4ea2a975926]\n",
       "class E9--><a href=\"psysml:76ff8411-b0e7-4dd9-89c0-3f2666988fc0\" target=\"_top\" title=\"psysml:76ff8411-b0e7-4dd9-89c0-3f2666988fc0\" xlink:actuate=\"onRequest\" xlink:href=\"psysml:76ff8411-b0e7-4dd9-89c0-3f2666988fc0\" xlink:show=\"new\" xlink:title=\"psysml:76ff8411-b0e7-4dd9-89c0-3f2666988fc0\" xlink:type=\"simple\"><g id=\"elem_E9\"><rect fill=\"#FFFFFF\" height=\"34.2969\" id=\"E9\" rx=\"10\" ry=\"10\" style=\"stroke:#181818;stroke-width:0.5;\" width=\"203\" x=\"329.5\" y=\"246\"/><text fill=\"#000000\" font-family=\"sans-serif\" font-size=\"14\" lengthAdjust=\"spacing\" textLength=\"189\" x=\"332.5\" y=\"263.9951\">selectedAlternative: Engine</text><line style=\"stroke:#181818;stroke-width:0.5;\" x1=\"330.5\" x2=\"531.5\" y1=\"272.2969\" y2=\"272.2969\"/></g></a><g><a href=\"psysml:8055cf29-c4ca-4370-b025-bca5bf4f4944\" target=\"_top\" title=\"psysml:8055cf29-c4ca-4370-b025-bca5bf4f4944\" xlink:actuate=\"onRequest\" xlink:href=\"psysml:8055cf29-c4ca-4370-b025-bca5bf4f4944\" xlink:show=\"new\" xlink:title=\"psysml:8055cf29-c4ca-4370-b025-bca5bf4f4944\" xlink:type=\"simple\"><rect fill=\"#FFFFFF\" height=\"45.2656\" id=\"E2\" style=\"stroke:#383838;stroke-width:1.5;\" width=\"75\" x=\"301.5\" y=\"347\"/><text fill=\"#000000\" font-family=\"sans-serif\" font-size=\"12\" font-style=\"italic\" lengthAdjust=\"spacing\" textLength=\"68\" x=\"305\" y=\"363.1387\">«part  def»</text><text fill=\"#000000\" font-family=\"sans-serif\" font-size=\"14\" lengthAdjust=\"spacing\" textLength=\"48\" x=\"315\" y=\"378.9639\">Engine</text></a></g><g><a href=\"psysml:479197b1-ce2e-480f-b2ef-7f257dc343b8\" target=\"_top\" title=\"psysml:479197b1-ce2e-480f-b2ef-7f257dc343b8\" xlink:actuate=\"onRequest\" xlink:href=\"psysml:479197b1-ce2e-480f-b2ef-7f257dc343b8\" xlink:show=\"new\" xlink:title=\"psysml:479197b1-ce2e-480f-b2ef-7f257dc343b8\" xlink:type=\"simple\"><rect fill=\"#FFFFFF\" height=\"40\" id=\"E3\" rx=\"10\" ry=\"10\" style=\"stroke:#383838;stroke-width:1.5;\" width=\"125\" x=\"192.5\" y=\"297\"/><text fill=\"#000000\" font-family=\"sans-serif\" font-size=\"14\" lengthAdjust=\"spacing\" textLength=\"114\" x=\"198\" y=\"314.9951\">engine1: Engine</text></a></g><g><a href=\"psysml:df8f9049-6917-4fa7-a1c9-f212538c9a4e\" target=\"_top\" title=\"psysml:df8f9049-6917-4fa7-a1c9-f212538c9a4e\" xlink:actuate=\"onRequest\" xlink:href=\"psysml:df8f9049-6917-4fa7-a1c9-f212538c9a4e\" xlink:show=\"new\" xlink:title=\"psysml:df8f9049-6917-4fa7-a1c9-f212538c9a4e\" xlink:type=\"simple\"><rect fill=\"#FFFFFF\" height=\"40\" id=\"E4\" rx=\"10\" ry=\"10\" style=\"stroke:#383838;stroke-width:1.5;\" width=\"125\" x=\"32.5\" y=\"297\"/><text fill=\"#000000\" font-family=\"sans-serif\" font-size=\"14\" lengthAdjust=\"spacing\" textLength=\"114\" x=\"38\" y=\"314.9951\">engine2: Engine</text></a></g><!--MD5=[60a26617385b1d2d0262a64233df1f8d]\n",
       "class E6--><a href=\"psysml:4f755969-6586-456d-bfaa-2c124f0f3312\" target=\"_top\" title=\"psysml:4f755969-6586-456d-bfaa-2c124f0f3312\" xlink:actuate=\"onRequest\" xlink:href=\"psysml:4f755969-6586-456d-bfaa-2c124f0f3312\" xlink:show=\"new\" xlink:title=\"psysml:4f755969-6586-456d-bfaa-2c124f0f3312\" xlink:type=\"simple\"><g id=\"elem_E6\"><rect fill=\"#FFFFFF\" height=\"75.0813\" id=\"E6\" rx=\"10\" ry=\"10\" style=\"stroke:#181818;stroke-width:0.5;\" width=\"145\" x=\"301.5\" y=\"116\"/><text fill=\"#000000\" font-family=\"sans-serif\" font-size=\"12\" font-style=\"italic\" lengthAdjust=\"spacing\" textLength=\"70\" x=\"339\" y=\"132.1387\">«objective»</text><text fill=\"#000000\" font-family=\"sans-serif\" font-size=\"14\" lengthAdjust=\"spacing\" textLength=\"139\" x=\"304.5\" y=\"147.9639\">tradeStudyObjective</text><line style=\"stroke:#181818;stroke-width:0.5;\" x1=\"302.5\" x2=\"445.5\" y1=\"156.2656\" y2=\"156.2656\"/><text fill=\"#000000\" font-family=\"sans-serif\" font-size=\"14\" lengthAdjust=\"spacing\" textLength=\"132\" x=\"307.5\" y=\"183.7795\">selectedAlternative</text><text fill=\"#000000\" font-family=\"sans-serif\" font-size=\"14\" font-style=\"italic\" lengthAdjust=\"spacing\" textLength=\"51\" x=\"348.5\" y=\"168.6123\">subject</text></g></a><!--MD5=[05d275557350bfb9b23a4ef7222b4c39]\n",
       "link E3 to E2--><g id=\"link_E3_E2\"><a href=\"psysml:bc3cf079-eae7-49ce-b297-ec132a977e50\" target=\"_top\" title=\"psysml:bc3cf079-eae7-49ce-b297-ec132a977e50\" xlink:actuate=\"onRequest\" xlink:href=\"psysml:bc3cf079-eae7-49ce-b297-ec132a977e50\" xlink:show=\"new\" xlink:title=\"psysml:bc3cf079-eae7-49ce-b297-ec132a977e50\" xlink:type=\"simple\"><path d=\"M286.76,337.09 C286.92,337.19 287.09,337.29 287.25,337.39 \" fill=\"none\" id=\"E3-to-E2\" style=\"stroke:#181818;stroke-width:1.0;\"/><polygon fill=\"#FFFFFF\" points=\"302.97,346.84,283.0785,343.0548,290.2888,331.0544,302.97,346.84\" style=\"stroke:#181818;stroke-width:1.0;\"/><ellipse cx=\"279.2226\" cy=\"338.4049\" fill=\"#181818\" rx=\"2\" ry=\"2\" style=\"stroke:#181818;stroke-width:1.0;\"/><ellipse cx=\"284.3728\" cy=\"329.8331\" fill=\"#181818\" rx=\"2\" ry=\"2\" style=\"stroke:#181818;stroke-width:1.0;\"/></a></g><!--MD5=[185131fc0dcab0a4505a2ebe144e961b]\n",
       "link E4 to E2--><g id=\"link_E4_E2\"><a href=\"psysml:aa1a99dc-dc69-45ac-b95f-3bcc471ea5d4\" target=\"_top\" title=\"psysml:aa1a99dc-dc69-45ac-b95f-3bcc471ea5d4\" xlink:actuate=\"onRequest\" xlink:href=\"psysml:aa1a99dc-dc69-45ac-b95f-3bcc471ea5d4\" xlink:show=\"new\" xlink:title=\"psysml:aa1a99dc-dc69-45ac-b95f-3bcc471ea5d4\" xlink:type=\"simple\"><path d=\"M157.83,333.19 C163.63,334.51 169.42,335.8 175,337 C210.29,344.58 250.05,352.23 281.58,358.1 \" fill=\"none\" id=\"E4-to-E2\" style=\"stroke:#181818;stroke-width:1.0;\"/><polygon fill=\"#FFFFFF\" points=\"301.45,361.77,281.4974,365.2187,284.0291,351.4495,301.45,361.77\" style=\"stroke:#181818;stroke-width:1.0;\"/><ellipse cx=\"276.253\" cy=\"362.2209\" fill=\"#181818\" rx=\"2\" ry=\"2\" style=\"stroke:#181818;stroke-width:1.0;\"/><ellipse cx=\"278.0614\" cy=\"352.3858\" fill=\"#181818\" rx=\"2\" ry=\"2\" style=\"stroke:#181818;stroke-width:1.0;\"/></a></g><!--MD5=[452b418e7f8a40397a49b8c0a78acc5b]\n",
       "reverse link E5 to E7--><g id=\"link_E5_E7\"><a href=\"psysml:ae0ddffd-d94b-4ee5-a4cb-a499b90c2b96\" target=\"_top\" title=\"psysml:ae0ddffd-d94b-4ee5-a4cb-a499b90c2b96\" xlink:actuate=\"onRequest\" xlink:href=\"psysml:ae0ddffd-d94b-4ee5-a4cb-a499b90c2b96\" xlink:show=\"new\" xlink:title=\"psysml:ae0ddffd-d94b-4ee5-a4cb-a499b90c2b96\" xlink:type=\"simple\"><path d=\"M237.286,215.0586 C237.2396,215.2013 237.1932,215.3439 237.1468,215.4865 C237.0539,215.7716 236.9612,216.0564 236.8686,216.3409 C236.4981,217.4789 236.1292,218.612 235.7626,219.738 C235.0295,221.99 234.3055,224.2138 233.5962,226.3926 C232.1775,230.7502 230.8175,234.9275 229.56,238.79 \" fill=\"none\" id=\"E5-backto-E7\" style=\"stroke:#181818;stroke-width:1.0;\"/><polygon fill=\"#181818\" points=\"237.286,215.0586,231.6251,219.5256,233.5713,226.4692,239.2322,222.0022,237.286,215.0586\" style=\"stroke:#181818;stroke-width:1.0;\"/></a></g><!--MD5=[dc164f5e8a733ab456ef1add180e9e34]\n",
       "reverse link E7 to E8--><g id=\"link_E7_E8\"><a href=\"psysml:a8c82a2a-741b-4fac-ac9b-98beb228d3cb\" target=\"_top\" title=\"psysml:a8c82a2a-741b-4fac-ac9b-98beb228d3cb\" xlink:actuate=\"onRequest\" xlink:href=\"psysml:a8c82a2a-741b-4fac-ac9b-98beb228d3cb\" xlink:show=\"new\" xlink:title=\"psysml:a8c82a2a-741b-4fac-ac9b-98beb228d3cb\" xlink:type=\"simple\"><path d=\"M306.68,285.8 C325.11,290.54 344.29,295.48 361.66,299.95 \" fill=\"none\" id=\"E7-backto-E8\" style=\"stroke:#181818;stroke-width:1.0;\"/><polygon fill=\"none\" points=\"294.07,282.55,298.8822,287.9206,305.6905,285.5441,300.8783,280.1736,294.07,282.55\" style=\"stroke:#181818;stroke-width:1.0;\"/></a></g><!--MD5=[f1f3f9f2fc535e6147756cb86a7f2e32]\n",
       "link E8 to E2--><g id=\"link_E8_E2\"><a href=\"psysml:199cdd6b-9599-4ee9-8d7a-04a31416ec15\" target=\"_top\" title=\"psysml:199cdd6b-9599-4ee9-8d7a-04a31416ec15\" xlink:actuate=\"onRequest\" xlink:href=\"psysml:199cdd6b-9599-4ee9-8d7a-04a31416ec15\" xlink:show=\"new\" xlink:title=\"psysml:199cdd6b-9599-4ee9-8d7a-04a31416ec15\" xlink:type=\"simple\"><path d=\"M396.64,334.26 C395.36,335.01 394.07,335.78 392.76,336.56 \" fill=\"none\" id=\"E8-to-E2\" style=\"stroke:#181818;stroke-width:1.0;\"/><polygon fill=\"#FFFFFF\" points=\"375.31,346.93,388.0569,331.1973,395.2171,343.2277,375.31,346.93\" style=\"stroke:#181818;stroke-width:1.0;\"/><ellipse cx=\"393.9779\" cy=\"330.0007\" fill=\"#181818\" rx=\"2\" ry=\"2\" style=\"stroke:#181818;stroke-width:1.0;\"/><ellipse cx=\"399.0923\" cy=\"338.5939\" fill=\"#181818\" rx=\"2\" ry=\"2\" style=\"stroke:#181818;stroke-width:1.0;\"/></a></g><!--MD5=[9ae28de373ca99bb8a1b38d63370ca7e]\n",
       "reverse link E5 to E9--><g id=\"link_E5_E9\"><a href=\"psysml:549a8511-5afb-4107-9df8-0f136ad572ec\" target=\"_top\" title=\"psysml:549a8511-5afb-4107-9df8-0f136ad572ec\" xlink:actuate=\"onRequest\" xlink:href=\"psysml:549a8511-5afb-4107-9df8-0f136ad572ec\" xlink:show=\"new\" xlink:title=\"psysml:549a8511-5afb-4107-9df8-0f136ad572ec\" xlink:type=\"simple\"><path d=\"M272.3761,215.329 C272.4455,215.4489 272.5152,215.5686 272.5853,215.688 C273.7058,217.6 274.9069,219.4598 276.1942,221.2495 C278.7689,224.8289 281.6888,228.1275 285,231 C287.75,233.39 316.28,239.66 347.4,245.95 \" fill=\"none\" id=\"E5-backto-E9\" style=\"stroke:#181818;stroke-width:1.0;\"/><polygon fill=\"none\" points=\"272.3761,215.329,271.9203,222.5256,278.3881,225.7143,278.8439,218.5177,272.3761,215.329\" style=\"stroke:#181818;stroke-width:1.0;\"/></a></g><!--MD5=[5c3bb36fe832a92c7f0e1807dd65209d]\n",
       "link E9 to E2--><g id=\"link_E9_E2\"><a href=\"psysml:94a3a0b9-9284-4132-a69a-1dbd276e1390\" target=\"_top\" title=\"psysml:94a3a0b9-9284-4132-a69a-1dbd276e1390\" xlink:actuate=\"onRequest\" xlink:href=\"psysml:94a3a0b9-9284-4132-a69a-1dbd276e1390\" xlink:show=\"new\" xlink:title=\"psysml:94a3a0b9-9284-4132-a69a-1dbd276e1390\" xlink:type=\"simple\"><path d=\"M494.53,280.15 C501.8,284.49 508.28,290.01 513,297 C522.95,311.73 524.4,323.36 513,337 C498.3,354.59 441.54,362.38 396.79,365.82 \" fill=\"none\" id=\"E9-to-E2\" style=\"stroke:#181818;stroke-width:1.0;\"/><polygon fill=\"#FFFFFF\" points=\"376.64,367.14,395.1389,358.9066,396.0589,372.8763,376.64,367.14\" style=\"stroke:#181818;stroke-width:1.0;\"/><ellipse cx=\"400.958\" cy=\"360.5277\" fill=\"#181818\" rx=\"2\" ry=\"2\" style=\"stroke:#181818;stroke-width:1.0;\"/><ellipse cx=\"401.6152\" cy=\"370.5061\" fill=\"#181818\" rx=\"2\" ry=\"2\" style=\"stroke:#181818;stroke-width:1.0;\"/></a></g><!--MD5=[f4805fb14c32087f3a3aa3d7aec8deb3]\n",
       "@startuml\r\n",
       "skin sysmlbw\r\n",
       "skinparam monochrome true\r\n",
       "skinparam wrapWidth 300\r\n",
       "hide circle\r\n",
       "skinparam ranksep 10\r\n",
       "skinparam rectangle {\r\n",
       " backgroundColor<<block>> LightGreen\r\n",
       "}\r\n",
       "\r\n",
       "package \"TradeStudyTest\" as E1  [[psysml:a91f55f8-3969-42e6-b46f-82de9da3fdc7 ]]  {\r\n",
       "rec def \"Engine\" as E2  <<(T,blue) part  def>> [[psysml:8055cf29-c4ca-4370-b025-bca5bf4f4944 ]] {\r\n",
       "}\r\n",
       "rec usage \"engine1: Engine\" as E3 [[psysml:479197b1-ce2e-480f-b2ef-7f257dc343b8 ]] {\r\n",
       "}\r\n",
       "rec usage \"engine2: Engine\" as E4 [[psysml:df8f9049-6917-4fa7-a1c9-f212538c9a4e ]] {\r\n",
       "}\r\n",
       "rec usage \"engineTradeStudy: TradeStudy  \" as E5  << analysis>> [[psysml:538ece1f-cb66-4e09-817f-0abcddd62ddd ]] {\r\n",
       "comp usage \"tradeStudyObjective\" as E6  <<objective>> [[psysml:4f755969-6586-456d-bfaa-2c124f0f3312 ]] {\r\n",
       "##//subject//##\r\n",
       "selectedAlternative\r\n",
       "}\r\n",
       "}\r\n",
       "comp usage \"evaluationFunction  \" as E7  <<(T,blue) calculation>> [[psysml:f253b0d3-72ce-4ec1-aa97-c21cff35f053 ]] {\r\n",
       "}\r\n",
       "comp usage \"alternative: Engine  \" as E8 [[psysml:753de58d-f4ea-44a5-91ee-5ffc5e7a177d ]] {\r\n",
       "}\r\n",
       "comp usage \"selectedAlternative: Engine  \" as E9 [[psysml:76ff8411-b0e7-4dd9-89c0-3f2666988fc0 ]] {\r\n",
       "}\r\n",
       "}\r\n",
       "E3 - -:|> E2 [[psysml:bc3cf079-eae7-49ce-b297-ec132a977e50 ]] \r\n",
       "E4 - -:|> E2 [[psysml:aa1a99dc-dc69-45ac-b95f-3bcc471ea5d4 ]] \r\n",
       "E5 *- - E7 [[psysml:ae0ddffd-d94b-4ee5-a4cb-a499b90c2b96 ]] \r\n",
       "E7 o- - E8 [[psysml:a8c82a2a-741b-4fac-ac9b-98beb228d3cb ]] \r\n",
       "E8 - -:|> E2 [[psysml:199cdd6b-9599-4ee9-8d7a-04a31416ec15 ]] \r\n",
       "E5 o- - E9 [[psysml:549a8511-5afb-4107-9df8-0f136ad572ec ]] \r\n",
       "E9 - -:|> E2 [[psysml:94a3a0b9-9284-4132-a69a-1dbd276e1390 ]] \r\n",
       "@enduml\r\n",
       "\n",
       "PlantUML version 1.2022.7(Mon Aug 22 17:01:30 UTC 2022)\n",
       "(EPL source distribution)\n",
       "Java Runtime: OpenJDK Runtime Environment\n",
       "JVM: OpenJDK 64-Bit Server VM\n",
       "Default Encoding: UTF-8\n",
       "Language: en\n",
       "Country: null\n",
       "--></g></svg>"
      ]
     },
     "execution_count": 40,
     "metadata": {},
     "output_type": "execute_result"
    }
   ],
   "source": [
    "%viz --style=\"DEFAULT\" --view=\"Interconnection\" \"TradeStudyTest\""
   ]
  },
  {
   "cell_type": "code",
   "execution_count": 41,
   "id": "71b32c25",
   "metadata": {
    "execution": {
     "iopub.execute_input": "2024-12-16T14:21:10.169866Z",
     "iopub.status.busy": "2024-12-16T14:21:10.169638Z",
     "iopub.status.idle": "2024-12-16T14:21:10.184319Z",
     "shell.execute_reply": "2024-12-16T14:21:10.184138Z"
    }
   },
   "outputs": [
    {
     "data": {
      "image/svg+xml": [
       "<?xml version=\"1.0\" encoding=\"UTF-8\" standalone=\"no\"?><svg xmlns=\"http://www.w3.org/2000/svg\" xmlns:xlink=\"http://www.w3.org/1999/xlink\" contentStyleType=\"text/css\" height=\"222px\" preserveAspectRatio=\"none\" style=\"width:448px;height:222px;background:#FFFFFF;\" version=\"1.1\" viewBox=\"0 0 448 222\" width=\"448px\" zoomAndPan=\"magnify\"><defs/><g><!--MD5=[fbc87193dbaf4d95561dea2c320d4a47]\n",
       "cluster E1--><g id=\"cluster_E1\"><a href=\"psysml:538ece1f-cb66-4e09-817f-0abcddd62ddd\" target=\"_top\" title=\"psysml:538ece1f-cb66-4e09-817f-0abcddd62ddd\" xlink:actuate=\"onRequest\" xlink:href=\"psysml:538ece1f-cb66-4e09-817f-0abcddd62ddd\" xlink:show=\"new\" xlink:title=\"psysml:538ece1f-cb66-4e09-817f-0abcddd62ddd\" xlink:type=\"simple\"><rect fill=\"#FFFFFF\" height=\"174.36\" id=\"E1\" rx=\"10\" ry=\"10\" style=\"stroke:#383838;stroke-width:1.5;\" width=\"328\" x=\"47\" y=\"42.0986\"/><text fill=\"#000000\" font-family=\"sans-serif\" font-size=\"12\" font-style=\"italic\" lengthAdjust=\"spacing\" textLength=\"64\" x=\"179\" y=\"58.2373\">«analysis»</text><text fill=\"#000000\" font-family=\"sans-serif\" font-size=\"14\" lengthAdjust=\"spacing\" textLength=\"127\" x=\"147.5\" y=\"74.0625\">engineTradeStudy</text><line style=\"stroke:#383838;stroke-width:1.0;\" x1=\"47\" x2=\"375\" y1=\"82.3643\" y2=\"82.3643\"/></a></g><!--MD5=[d5e69f78d87373223dbae638b30a9c99]\n",
       "cluster E3--><g id=\"cluster_E3\"><a href=\"psysml:f253b0d3-72ce-4ec1-aa97-c21cff35f053\" target=\"_top\" title=\"psysml:f253b0d3-72ce-4ec1-aa97-c21cff35f053\" xlink:actuate=\"onRequest\" xlink:href=\"psysml:f253b0d3-72ce-4ec1-aa97-c21cff35f053\" xlink:show=\"new\" xlink:title=\"psysml:f253b0d3-72ce-4ec1-aa97-c21cff35f053\" xlink:type=\"simple\"><rect fill=\"#FFFFFF\" height=\"104.86\" id=\"E3\" rx=\"10\" ry=\"10\" style=\"stroke:#383838;stroke-width:1.5;\" width=\"186\" x=\"148\" y=\"81.5986\"/><text fill=\"#000000\" font-family=\"sans-serif\" font-size=\"12\" font-style=\"italic\" lengthAdjust=\"spacing\" textLength=\"82\" x=\"200\" y=\"97.7373\">«calculation»</text><text fill=\"#000000\" font-family=\"sans-serif\" font-size=\"14\" lengthAdjust=\"spacing\" textLength=\"130\" x=\"176\" y=\"113.5625\">evaluationFunction</text><line style=\"stroke:#383838;stroke-width:1.0;\" x1=\"148\" x2=\"334\" y1=\"121.8643\" y2=\"121.8643\"/></a></g><text fill=\"#000000\" font-family=\"sans-serif\" font-size=\"14\" lengthAdjust=\"spacing\" textLength=\"118\" x=\"6\" y=\"20.7969\">studyAlternatives</text><rect fill=\"#FFFFFF\" height=\"12\" style=\"stroke:#181818;stroke-width:1.5;\" width=\"12\" x=\"59\" y=\"36.0986\"/><text fill=\"#000000\" font-family=\"sans-serif\" font-size=\"14\" lengthAdjust=\"spacing\" textLength=\"132\" x=\"309\" y=\"183.0938\">selectedAlternative</text><rect fill=\"#FFFFFF\" height=\"12\" style=\"stroke:#181818;stroke-width:1.5;\" width=\"12\" x=\"369\" y=\"158.0986\"/><text fill=\"#000000\" font-family=\"sans-serif\" font-size=\"14\" lengthAdjust=\"spacing\" textLength=\"71\" x=\"205.5\" y=\"60.2969\">alternative</text><rect fill=\"#FFFFFF\" height=\"12\" style=\"stroke:#181818;stroke-width:1.5;\" width=\"12\" x=\"235\" y=\"75.5986\"/><text fill=\"#000000\" font-family=\"sans-serif\" font-size=\"14\" lengthAdjust=\"spacing\" textLength=\"39\" x=\"221.5\" y=\"205.4538\">result</text><rect fill=\"#FFFFFF\" height=\"12\" style=\"stroke:#181818;stroke-width:1.5;\" width=\"12\" x=\"235\" y=\"180.4586\"/><!--MD5=[cbabe0d2fcc518ed06bfa44be404dd6f]\n",
       "@startuml\r\n",
       "skin sysmlbw\r\n",
       "skinparam monochrome true\r\n",
       "skinparam wrapWidth 300\r\n",
       "hide circle\r\n",
       "skinparam ranksep 8\r\n",
       "\r\n",
       "rec usage \"engineTradeStudy\" as E1  << analysis>> [[psysml:538ece1f-cb66-4e09-817f-0abcddd62ddd ]] {\r\n",
       "portin \"studyAlternatives\" as E2  [[psysml:44e81398-f8fc-476c-9aa8-f3c568baa242 ]] \r\n",
       "rec usage \"evaluationFunction\" as E3  <<(T,blue) calculation>> [[psysml:f253b0d3-72ce-4ec1-aa97-c21cff35f053 ]] {\r\n",
       "portin \"alternative\" as E4  [[psysml:753de58d-f4ea-44a5-91ee-5ffc5e7a177d ]] \r\n",
       "portout \"result\" as E5  [[psysml:523b4531-6566-4396-be10-86694663e2d0 ]] \r\n",
       "}\r\n",
       "\r\n",
       "portout \"selectedAlternative\" as E6  [[psysml:76ff8411-b0e7-4dd9-89c0-3f2666988fc0 ]] \r\n",
       "}\r\n",
       "\r\n",
       "@enduml\r\n",
       "\n",
       "PlantUML version 1.2022.7(Mon Aug 22 17:01:30 UTC 2022)\n",
       "(EPL source distribution)\n",
       "Java Runtime: OpenJDK Runtime Environment\n",
       "JVM: OpenJDK 64-Bit Server VM\n",
       "Default Encoding: UTF-8\n",
       "Language: en\n",
       "Country: null\n",
       "--></g></svg>"
      ]
     },
     "execution_count": 41,
     "metadata": {},
     "output_type": "execute_result"
    }
   ],
   "source": [
    "%viz --style=\"DEFAULT\" --view=\"Action\" \"TradeStudyTest\""
   ]
  },
  {
   "cell_type": "code",
   "execution_count": 42,
   "id": "2c94df12",
   "metadata": {
    "execution": {
     "iopub.execute_input": "2024-12-16T14:21:10.236079Z",
     "iopub.status.busy": "2024-12-16T14:21:10.235848Z",
     "iopub.status.idle": "2024-12-16T14:21:10.243049Z",
     "shell.execute_reply": "2024-12-16T14:21:10.242871Z"
    }
   },
   "outputs": [
    {
     "data": {
      "image/svg+xml": [
       "<?xml version=\"1.0\" encoding=\"UTF-8\" standalone=\"no\"?><svg xmlns=\"http://www.w3.org/2000/svg\" xmlns:xlink=\"http://www.w3.org/1999/xlink\" contentStyleType=\"text/css\" height=\"10px\" preserveAspectRatio=\"none\" style=\"width:10px;height:10px;background:#FFFFFF;\" version=\"1.1\" viewBox=\"0 0 10 10\" width=\"10px\" zoomAndPan=\"magnify\"><defs/><g><!--MD5=[075159388321915a295a256e9638f934]\n",
       "@startuml\r\n",
       "skin sysmlbw\r\n",
       "skinparam monochrome true\r\n",
       "skinparam wrapWidth 300\r\n",
       "hide circle\r\n",
       "skinparam roundcorner 20\r\n",
       "skinparam BoxPadding 20\r\n",
       "skinparam SequenceBoxBackgroundColor #white\r\n",
       "skinparam style strictuml\r\n",
       "skinparam maxMessageSize 100\r\n",
       "\r\n",
       "@enduml\r\n",
       "\n",
       "PlantUML version 1.2022.7(Mon Aug 22 17:01:30 UTC 2022)\n",
       "(EPL source distribution)\n",
       "Java Runtime: OpenJDK Runtime Environment\n",
       "JVM: OpenJDK 64-Bit Server VM\n",
       "Default Encoding: UTF-8\n",
       "Language: en\n",
       "Country: null\n",
       "--></g></svg>"
      ]
     },
     "execution_count": 42,
     "metadata": {},
     "output_type": "execute_result"
    }
   ],
   "source": [
    "%viz --style=\"DEFAULT\" --view=\"Sequence\" \"TradeStudyTest\""
   ]
  },
  {
   "cell_type": "code",
   "execution_count": 43,
   "id": "041e463f",
   "metadata": {
    "execution": {
     "iopub.execute_input": "2024-12-16T14:21:10.297874Z",
     "iopub.status.busy": "2024-12-16T14:21:10.297589Z",
     "iopub.status.idle": "2024-12-16T14:21:10.323099Z",
     "shell.execute_reply": "2024-12-16T14:21:10.321937Z"
    }
   },
   "outputs": [
    {
     "data": {
      "image/svg+xml": [
       "<?xml version=\"1.0\" encoding=\"UTF-8\" standalone=\"no\"?><svg xmlns=\"http://www.w3.org/2000/svg\" xmlns:xlink=\"http://www.w3.org/1999/xlink\" contentStyleType=\"text/css\" height=\"538px\" preserveAspectRatio=\"none\" style=\"width:570px;height:538px;background:#FFFFFF;\" version=\"1.1\" viewBox=\"0 0 570 538\" width=\"570px\" zoomAndPan=\"magnify\"><defs/><g><!--MD5=[fbc87193dbaf4d95561dea2c320d4a47]\n",
       "cluster E1--><g id=\"cluster_E1\"><a href=\"psysml:a91f55f8-3969-42e6-b46f-82de9da3fdc7\" target=\"_top\" title=\"psysml:a91f55f8-3969-42e6-b46f-82de9da3fdc7\" xlink:actuate=\"onRequest\" xlink:href=\"psysml:a91f55f8-3969-42e6-b46f-82de9da3fdc7\" xlink:show=\"new\" xlink:title=\"psysml:a91f55f8-3969-42e6-b46f-82de9da3fdc7\" xlink:type=\"simple\"><polygon fill=\"none\" points=\"16,6,138.125,6,145.125,28.2969,553,28.2969,553,531,16,531,16,6\" style=\"stroke:#000000;stroke-width:1.5;\"/><line style=\"stroke:#000000;stroke-width:1.5;\" x1=\"16\" x2=\"145.125\" y1=\"28.2969\" y2=\"28.2969\"/><text fill=\"#000000\" font-family=\"sans-serif\" font-size=\"14\" font-weight=\"bold\" lengthAdjust=\"spacing\" textLength=\"116.125\" x=\"20\" y=\"20.9951\">TradeStudyTest</text></a></g><!--MD5=[de5ec2e2e8f62f467e546659f5068c88]\n",
       "cluster E5--><g id=\"cluster_E5\"><a href=\"psysml:538ece1f-cb66-4e09-817f-0abcddd62ddd\" target=\"_top\" title=\"psysml:538ece1f-cb66-4e09-817f-0abcddd62ddd\" xlink:actuate=\"onRequest\" xlink:href=\"psysml:538ece1f-cb66-4e09-817f-0abcddd62ddd\" xlink:show=\"new\" xlink:title=\"psysml:538ece1f-cb66-4e09-817f-0abcddd62ddd\" xlink:type=\"simple\"><rect fill=\"#FFFFFF\" height=\"158\" id=\"E5\" rx=\"10\" ry=\"10\" style=\"stroke:#383838;stroke-width:1.5;\" width=\"250\" x=\"236\" y=\"57\"/><text fill=\"#000000\" font-family=\"sans-serif\" font-size=\"12\" font-style=\"italic\" lengthAdjust=\"spacing\" textLength=\"64\" x=\"329\" y=\"73.1387\">«analysis»</text><text fill=\"#000000\" font-family=\"sans-serif\" font-size=\"14\" lengthAdjust=\"spacing\" textLength=\"215\" x=\"249.5\" y=\"88.9639\">engineTradeStudy: TradeStudy</text><line style=\"stroke:#383838;stroke-width:1.0;\" x1=\"236\" x2=\"486\" y1=\"97.2656\" y2=\"97.2656\"/></a></g><!--MD5=[b4997ac47864f28c2f74865a473b2911]\n",
       "class E2--><a href=\"psysml:8055cf29-c4ca-4370-b025-bca5bf4f4944\" target=\"_top\" title=\"psysml:8055cf29-c4ca-4370-b025-bca5bf4f4944\" xlink:actuate=\"onRequest\" xlink:href=\"psysml:8055cf29-c4ca-4370-b025-bca5bf4f4944\" xlink:show=\"new\" xlink:title=\"psysml:8055cf29-c4ca-4370-b025-bca5bf4f4944\" xlink:type=\"simple\"><g id=\"elem_E2\"><rect fill=\"#FFFFFF\" height=\"48.2656\" id=\"E2\" style=\"stroke:#181818;stroke-width:0.5;\" width=\"70\" x=\"309\" y=\"467\"/><text fill=\"#000000\" font-family=\"sans-serif\" font-size=\"12\" font-style=\"italic\" lengthAdjust=\"spacing\" textLength=\"68\" x=\"310\" y=\"483.1387\">«part  def»</text><text fill=\"#000000\" font-family=\"sans-serif\" font-size=\"14\" lengthAdjust=\"spacing\" textLength=\"48\" x=\"320\" y=\"498.9639\">Engine</text><line style=\"stroke:#181818;stroke-width:0.5;\" x1=\"310\" x2=\"378\" y1=\"507.2656\" y2=\"507.2656\"/></g></a><!--MD5=[09b614a08d8cba4a07c9adeb5e0fee81]\n",
       "class E3--><a href=\"psysml:479197b1-ce2e-480f-b2ef-7f257dc343b8\" target=\"_top\" title=\"psysml:479197b1-ce2e-480f-b2ef-7f257dc343b8\" xlink:actuate=\"onRequest\" xlink:href=\"psysml:479197b1-ce2e-480f-b2ef-7f257dc343b8\" xlink:show=\"new\" xlink:title=\"psysml:479197b1-ce2e-480f-b2ef-7f257dc343b8\" xlink:type=\"simple\"><g id=\"elem_E3\"><rect fill=\"#FFFFFF\" height=\"48.2656\" id=\"E3\" rx=\"10\" ry=\"10\" style=\"stroke:#181818;stroke-width:0.5;\" width=\"128\" x=\"195\" y=\"359\"/><text fill=\"#000000\" font-family=\"sans-serif\" font-size=\"12\" font-style=\"italic\" lengthAdjust=\"spacing\" textLength=\"40\" x=\"239\" y=\"375.1387\">«part»</text><text fill=\"#000000\" font-family=\"sans-serif\" font-size=\"14\" lengthAdjust=\"spacing\" textLength=\"114\" x=\"198\" y=\"390.9639\">engine1: Engine</text><line style=\"stroke:#181818;stroke-width:0.5;\" x1=\"196\" x2=\"322\" y1=\"399.2656\" y2=\"399.2656\"/></g></a><!--MD5=[ebbe1d658d1005bcc118a6aa81145e00]\n",
       "class E4--><a href=\"psysml:df8f9049-6917-4fa7-a1c9-f212538c9a4e\" target=\"_top\" title=\"psysml:df8f9049-6917-4fa7-a1c9-f212538c9a4e\" xlink:actuate=\"onRequest\" xlink:href=\"psysml:df8f9049-6917-4fa7-a1c9-f212538c9a4e\" xlink:show=\"new\" xlink:title=\"psysml:df8f9049-6917-4fa7-a1c9-f212538c9a4e\" xlink:type=\"simple\"><g id=\"elem_E4\"><rect fill=\"#FFFFFF\" height=\"48.2656\" id=\"E4\" rx=\"10\" ry=\"10\" style=\"stroke:#181818;stroke-width:0.5;\" width=\"128\" x=\"32\" y=\"359\"/><text fill=\"#000000\" font-family=\"sans-serif\" font-size=\"12\" font-style=\"italic\" lengthAdjust=\"spacing\" textLength=\"40\" x=\"76\" y=\"375.1387\">«part»</text><text fill=\"#000000\" font-family=\"sans-serif\" font-size=\"14\" lengthAdjust=\"spacing\" textLength=\"114\" x=\"35\" y=\"390.9639\">engine2: Engine</text><line style=\"stroke:#181818;stroke-width:0.5;\" x1=\"33\" x2=\"159\" y1=\"399.2656\" y2=\"399.2656\"/></g></a><!--MD5=[2156ba9850f5573cc1fc38a6a4b2f02b]\n",
       "class E7--><a href=\"psysml:f253b0d3-72ce-4ec1-aa97-c21cff35f053\" target=\"_top\" title=\"psysml:f253b0d3-72ce-4ec1-aa97-c21cff35f053\" xlink:actuate=\"onRequest\" xlink:href=\"psysml:f253b0d3-72ce-4ec1-aa97-c21cff35f053\" xlink:show=\"new\" xlink:title=\"psysml:f253b0d3-72ce-4ec1-aa97-c21cff35f053\" xlink:type=\"simple\"><g id=\"elem_E7\"><rect fill=\"#FFFFFF\" height=\"48.2656\" id=\"E7\" rx=\"10\" ry=\"10\" style=\"stroke:#181818;stroke-width:0.5;\" width=\"144\" x=\"155\" y=\"251\"/><text fill=\"#000000\" font-family=\"sans-serif\" font-size=\"12\" font-style=\"italic\" lengthAdjust=\"spacing\" textLength=\"82\" x=\"186\" y=\"267.1387\">«calculation»</text><text fill=\"#000000\" font-family=\"sans-serif\" font-size=\"14\" lengthAdjust=\"spacing\" textLength=\"130\" x=\"158\" y=\"282.9639\">evaluationFunction</text><line style=\"stroke:#181818;stroke-width:0.5;\" x1=\"156\" x2=\"298\" y1=\"291.2656\" y2=\"291.2656\"/></g></a><!--MD5=[b9389687b975829384b498ac4b7476b2]\n",
       "class E8--><a href=\"psysml:753de58d-f4ea-44a5-91ee-5ffc5e7a177d\" target=\"_top\" title=\"psysml:753de58d-f4ea-44a5-91ee-5ffc5e7a177d\" xlink:actuate=\"onRequest\" xlink:href=\"psysml:753de58d-f4ea-44a5-91ee-5ffc5e7a177d\" xlink:show=\"new\" xlink:title=\"psysml:753de58d-f4ea-44a5-91ee-5ffc5e7a177d\" xlink:type=\"simple\"><g id=\"elem_E8\"><rect fill=\"#FFFFFF\" height=\"48.2656\" id=\"E8\" rx=\"10\" ry=\"10\" style=\"stroke:#181818;stroke-width:0.5;\" width=\"142\" x=\"358\" y=\"359\"/><text fill=\"#000000\" font-family=\"sans-serif\" font-size=\"12\" font-style=\"italic\" lengthAdjust=\"spacing\" textLength=\"40\" x=\"409\" y=\"375.1387\">«part»</text><text fill=\"#000000\" font-family=\"sans-serif\" font-size=\"14\" lengthAdjust=\"spacing\" textLength=\"128\" x=\"361\" y=\"390.9639\">alternative: Engine</text><line style=\"stroke:#181818;stroke-width:0.5;\" x1=\"359\" x2=\"499\" y1=\"399.2656\" y2=\"399.2656\"/></g></a><!--MD5=[fd4143e9d270a159db93a4ea2a975926]\n",
       "class E9--><a href=\"psysml:76ff8411-b0e7-4dd9-89c0-3f2666988fc0\" target=\"_top\" title=\"psysml:76ff8411-b0e7-4dd9-89c0-3f2666988fc0\" xlink:actuate=\"onRequest\" xlink:href=\"psysml:76ff8411-b0e7-4dd9-89c0-3f2666988fc0\" xlink:show=\"new\" xlink:title=\"psysml:76ff8411-b0e7-4dd9-89c0-3f2666988fc0\" xlink:type=\"simple\"><g id=\"elem_E9\"><rect fill=\"#FFFFFF\" height=\"48.2656\" id=\"E9\" rx=\"10\" ry=\"10\" style=\"stroke:#181818;stroke-width:0.5;\" width=\"203\" x=\"334.5\" y=\"251\"/><text fill=\"#000000\" font-family=\"sans-serif\" font-size=\"12\" font-style=\"italic\" lengthAdjust=\"spacing\" textLength=\"40\" x=\"416\" y=\"267.1387\">«part»</text><text fill=\"#000000\" font-family=\"sans-serif\" font-size=\"14\" lengthAdjust=\"spacing\" textLength=\"189\" x=\"337.5\" y=\"282.9639\">selectedAlternative: Engine</text><line style=\"stroke:#181818;stroke-width:0.5;\" x1=\"335.5\" x2=\"536.5\" y1=\"291.2656\" y2=\"291.2656\"/></g></a><!--MD5=[60a26617385b1d2d0262a64233df1f8d]\n",
       "class E6--><a href=\"psysml:4f755969-6586-456d-bfaa-2c124f0f3312\" target=\"_top\" title=\"psysml:4f755969-6586-456d-bfaa-2c124f0f3312\" xlink:actuate=\"onRequest\" xlink:href=\"psysml:4f755969-6586-456d-bfaa-2c124f0f3312\" xlink:show=\"new\" xlink:title=\"psysml:4f755969-6586-456d-bfaa-2c124f0f3312\" xlink:type=\"simple\"><g id=\"elem_E6\"><rect fill=\"#FFFFFF\" height=\"75.0813\" id=\"E6\" rx=\"10\" ry=\"10\" style=\"stroke:#181818;stroke-width:0.5;\" width=\"145\" x=\"306.5\" y=\"116\"/><text fill=\"#000000\" font-family=\"sans-serif\" font-size=\"12\" font-style=\"italic\" lengthAdjust=\"spacing\" textLength=\"70\" x=\"344\" y=\"132.1387\">«objective»</text><text fill=\"#000000\" font-family=\"sans-serif\" font-size=\"14\" lengthAdjust=\"spacing\" textLength=\"139\" x=\"309.5\" y=\"147.9639\">tradeStudyObjective</text><line style=\"stroke:#181818;stroke-width:0.5;\" x1=\"307.5\" x2=\"450.5\" y1=\"156.2656\" y2=\"156.2656\"/><text fill=\"#000000\" font-family=\"sans-serif\" font-size=\"14\" lengthAdjust=\"spacing\" textLength=\"132\" x=\"312.5\" y=\"183.7795\">selectedAlternative</text><text fill=\"#000000\" font-family=\"sans-serif\" font-size=\"14\" font-style=\"italic\" lengthAdjust=\"spacing\" textLength=\"51\" x=\"353.5\" y=\"168.6123\">subject</text></g></a><!--MD5=[05d275557350bfb9b23a4ef7222b4c39]\n",
       "link E3 to E2--><g id=\"link_E3_E2\"><a href=\"psysml:bc3cf079-eae7-49ce-b297-ec132a977e50\" target=\"_top\" title=\"psysml:bc3cf079-eae7-49ce-b297-ec132a977e50\" xlink:actuate=\"onRequest\" xlink:href=\"psysml:bc3cf079-eae7-49ce-b297-ec132a977e50\" xlink:show=\"new\" xlink:title=\"psysml:bc3cf079-eae7-49ce-b297-ec132a977e50\" xlink:type=\"simple\"><path d=\"M277.44,407 C287.73,419.83 300.82,436.16 312.67,450.93 \" fill=\"none\" id=\"E3-to-E2\" style=\"stroke:#181818;stroke-width:1.0;\"/><polygon fill=\"#FFFFFF\" points=\"325.3,466.68,307.9565,456.2299,318.8819,447.4756,325.3,466.68\" style=\"stroke:#181818;stroke-width:1.0;\"/><ellipse cx=\"305.9531\" cy=\"450.5311\" fill=\"#181818\" rx=\"2\" ry=\"2\" style=\"stroke:#181818;stroke-width:1.0;\"/><ellipse cx=\"313.7569\" cy=\"444.2781\" fill=\"#181818\" rx=\"2\" ry=\"2\" style=\"stroke:#181818;stroke-width:1.0;\"/></a></g><!--MD5=[185131fc0dcab0a4505a2ebe144e961b]\n",
       "link E4 to E2--><g id=\"link_E4_E2\"><a href=\"psysml:aa1a99dc-dc69-45ac-b95f-3bcc471ea5d4\" target=\"_top\" title=\"psysml:aa1a99dc-dc69-45ac-b95f-3bcc471ea5d4\" xlink:actuate=\"onRequest\" xlink:href=\"psysml:aa1a99dc-dc69-45ac-b95f-3bcc471ea5d4\" xlink:show=\"new\" xlink:title=\"psysml:aa1a99dc-dc69-45ac-b95f-3bcc471ea5d4\" xlink:type=\"simple\"><path d=\"M149.81,407 C191.38,424.77 248.64,449.24 290.2,467.01 \" fill=\"none\" id=\"E4-to-E2\" style=\"stroke:#181818;stroke-width:1.0;\"/><polygon fill=\"#FFFFFF\" points=\"308.64,474.89,288.4184,473.8471,293.9285,460.977,308.64,474.89\" style=\"stroke:#181818;stroke-width:1.0;\"/><ellipse cx=\"283.9656\" cy=\"469.7652\" fill=\"#181818\" rx=\"2\" ry=\"2\" style=\"stroke:#181818;stroke-width:1.0;\"/><ellipse cx=\"287.9013\" cy=\"460.5722\" fill=\"#181818\" rx=\"2\" ry=\"2\" style=\"stroke:#181818;stroke-width:1.0;\"/></a></g><!--MD5=[452b418e7f8a40397a49b8c0a78acc5b]\n",
       "reverse link E5 to E7--><g id=\"link_E5_E7\"><a href=\"psysml:ae0ddffd-d94b-4ee5-a4cb-a499b90c2b96\" target=\"_top\" title=\"psysml:ae0ddffd-d94b-4ee5-a4cb-a499b90c2b96\" xlink:actuate=\"onRequest\" xlink:href=\"psysml:ae0ddffd-d94b-4ee5-a4cb-a499b90c2b96\" xlink:show=\"new\" xlink:title=\"psysml:ae0ddffd-d94b-4ee5-a4cb-a499b90c2b96\" xlink:type=\"simple\"><path d=\"M244.1719,215.3826 C244.124,215.5464 244.076,215.7101 244.0281,215.8739 C243.8363,216.5288 243.6446,217.1834 243.453,217.8375 C243.0699,219.1456 242.6874,220.4515 242.3064,221.7525 C239.2581,232.1606 236.3,242.26 233.81,250.76 \" fill=\"none\" id=\"E5-backto-E7\" style=\"stroke:#181818;stroke-width:1.0;\"/><polygon fill=\"#181818\" points=\"244.1719,215.3826,238.6468,220.0166,240.7992,226.8989,246.3243,222.265,244.1719,215.3826\" style=\"stroke:#181818;stroke-width:1.0;\"/></a></g><!--MD5=[dc164f5e8a733ab456ef1add180e9e34]\n",
       "reverse link E7 to E8--><g id=\"link_E7_E8\"><a href=\"psysml:a8c82a2a-741b-4fac-ac9b-98beb228d3cb\" target=\"_top\" title=\"psysml:a8c82a2a-741b-4fac-ac9b-98beb228d3cb\" xlink:actuate=\"onRequest\" xlink:href=\"psysml:a8c82a2a-741b-4fac-ac9b-98beb228d3cb\" xlink:show=\"new\" xlink:title=\"psysml:a8c82a2a-741b-4fac-ac9b-98beb228d3cb\" xlink:type=\"simple\"><path d=\"M282.76,305.26 C314.96,322.16 354.91,343.12 384.91,358.86 \" fill=\"none\" id=\"E7-backto-E8\" style=\"stroke:#181818;stroke-width:1.0;\"/><polygon fill=\"none\" points=\"270.83,299,274.284,305.3301,281.4556,304.5765,278.0016,298.2464,270.83,299\" style=\"stroke:#181818;stroke-width:1.0;\"/></a></g><!--MD5=[f1f3f9f2fc535e6147756cb86a7f2e32]\n",
       "link E8 to E2--><g id=\"link_E8_E2\"><a href=\"psysml:199cdd6b-9599-4ee9-8d7a-04a31416ec15\" target=\"_top\" title=\"psysml:199cdd6b-9599-4ee9-8d7a-04a31416ec15\" xlink:actuate=\"onRequest\" xlink:href=\"psysml:199cdd6b-9599-4ee9-8d7a-04a31416ec15\" xlink:show=\"new\" xlink:title=\"psysml:199cdd6b-9599-4ee9-8d7a-04a31416ec15\" xlink:type=\"simple\"><path d=\"M410.56,407 C400.27,419.83 387.18,436.16 375.33,450.93 \" fill=\"none\" id=\"E8-to-E2\" style=\"stroke:#181818;stroke-width:1.0;\"/><polygon fill=\"#FFFFFF\" points=\"362.7,466.68,369.1181,447.4756,380.0435,456.2299,362.7,466.68\" style=\"stroke:#181818;stroke-width:1.0;\"/><ellipse cx=\"374.2431\" cy=\"444.2781\" fill=\"#181818\" rx=\"2\" ry=\"2\" style=\"stroke:#181818;stroke-width:1.0;\"/><ellipse cx=\"382.0469\" cy=\"450.5311\" fill=\"#181818\" rx=\"2\" ry=\"2\" style=\"stroke:#181818;stroke-width:1.0;\"/></a></g><!--MD5=[9ae28de373ca99bb8a1b38d63370ca7e]\n",
       "reverse link E5 to E9--><g id=\"link_E5_E9\"><a href=\"psysml:549a8511-5afb-4107-9df8-0f136ad572ec\" target=\"_top\" title=\"psysml:549a8511-5afb-4107-9df8-0f136ad572ec\" xlink:actuate=\"onRequest\" xlink:href=\"psysml:549a8511-5afb-4107-9df8-0f136ad572ec\" xlink:show=\"new\" xlink:title=\"psysml:549a8511-5afb-4107-9df8-0f136ad572ec\" xlink:type=\"simple\"><path d=\"M277.9238,215.3079 C279.0235,217.2432 280.1988,219.1321 281.4547,220.9571 C283.9666,224.607 286.8013,228.0013 290,231 C302.53,242.75 318.11,251.3 334.38,257.53 \" fill=\"none\" id=\"E5-backto-E9\" style=\"stroke:#181818;stroke-width:1.0;\"/><polygon fill=\"none\" points=\"277.9238,215.3079,277.4102,222.5006,283.8521,225.7412,284.3658,218.5484,277.9238,215.3079\" style=\"stroke:#181818;stroke-width:1.0;\"/></a></g><!--MD5=[5c3bb36fe832a92c7f0e1807dd65209d]\n",
       "link E9 to E2--><g id=\"link_E9_E2\"><a href=\"psysml:94a3a0b9-9284-4132-a69a-1dbd276e1390\" target=\"_top\" title=\"psysml:94a3a0b9-9284-4132-a69a-1dbd276e1390\" xlink:actuate=\"onRequest\" xlink:href=\"psysml:94a3a0b9-9284-4132-a69a-1dbd276e1390\" xlink:show=\"new\" xlink:title=\"psysml:94a3a0b9-9284-4132-a69a-1dbd276e1390\" xlink:type=\"simple\"><path d=\"M468.09,299.22 C500.23,325.43 541.77,369.33 518,407 C492.01,448.19 439.34,469.37 398.72,479.98 \" fill=\"none\" id=\"E9-to-E2\" style=\"stroke:#181818;stroke-width:1.0;\"/><polygon fill=\"#FFFFFF\" points=\"379.07,484.56,395.9826,473.4261,399.1635,487.06,379.07,484.56\" style=\"stroke:#181818;stroke-width:1.0;\"/><ellipse cx=\"401.988\" cy=\"474.0788\" fill=\"#181818\" rx=\"2\" ry=\"2\" style=\"stroke:#181818;stroke-width:1.0;\"/><ellipse cx=\"404.26\" cy=\"483.8172\" fill=\"#181818\" rx=\"2\" ry=\"2\" style=\"stroke:#181818;stroke-width:1.0;\"/></a></g><!--MD5=[dd09071f52d18dfda4b6e64dbd4c10bd]\n",
       "@startuml\r\n",
       "skin sysmlbw\r\n",
       "skinparam monochrome true\r\n",
       "skinparam wrapWidth 300\r\n",
       "hide circle\r\n",
       "\r\n",
       "package \"TradeStudyTest\" as E1  [[psysml:a91f55f8-3969-42e6-b46f-82de9da3fdc7 ]]  {\r\n",
       "comp def \"Engine\" as E2  <<(T,blue) part  def>> [[psysml:8055cf29-c4ca-4370-b025-bca5bf4f4944 ]] {\r\n",
       "}\r\n",
       "comp usage \"engine1: Engine  \" as E3  <<(T,blue) part>> [[psysml:479197b1-ce2e-480f-b2ef-7f257dc343b8 ]] {\r\n",
       "}\r\n",
       "comp usage \"engine2: Engine  \" as E4  <<(T,blue) part>> [[psysml:df8f9049-6917-4fa7-a1c9-f212538c9a4e ]] {\r\n",
       "}\r\n",
       "rec usage \"engineTradeStudy: TradeStudy  \" as E5  << analysis>> [[psysml:538ece1f-cb66-4e09-817f-0abcddd62ddd ]] {\r\n",
       "comp usage \"tradeStudyObjective\" as E6  <<objective>> [[psysml:4f755969-6586-456d-bfaa-2c124f0f3312 ]] {\r\n",
       "##//subject//##\r\n",
       "selectedAlternative\r\n",
       "}\r\n",
       "}\r\n",
       "comp usage \"evaluationFunction  \" as E7  <<(T,blue) calculation>> [[psysml:f253b0d3-72ce-4ec1-aa97-c21cff35f053 ]] {\r\n",
       "}\r\n",
       "comp usage \"alternative: Engine  \" as E8  <<(T,blue) part>> [[psysml:753de58d-f4ea-44a5-91ee-5ffc5e7a177d ]] {\r\n",
       "}\r\n",
       "comp usage \"selectedAlternative: Engine  \" as E9  <<(T,blue) part>> [[psysml:76ff8411-b0e7-4dd9-89c0-3f2666988fc0 ]] {\r\n",
       "}\r\n",
       "}\r\n",
       "E3 - -:|> E2 [[psysml:bc3cf079-eae7-49ce-b297-ec132a977e50 ]] \r\n",
       "E4 - -:|> E2 [[psysml:aa1a99dc-dc69-45ac-b95f-3bcc471ea5d4 ]] \r\n",
       "E5 *- - E7 [[psysml:ae0ddffd-d94b-4ee5-a4cb-a499b90c2b96 ]] \r\n",
       "E7 o- - E8 [[psysml:a8c82a2a-741b-4fac-ac9b-98beb228d3cb ]] \r\n",
       "E8 - -:|> E2 [[psysml:199cdd6b-9599-4ee9-8d7a-04a31416ec15 ]] \r\n",
       "E5 o- - E9 [[psysml:549a8511-5afb-4107-9df8-0f136ad572ec ]] \r\n",
       "E9 - -:|> E2 [[psysml:94a3a0b9-9284-4132-a69a-1dbd276e1390 ]] \r\n",
       "@enduml\r\n",
       "\n",
       "PlantUML version 1.2022.7(Mon Aug 22 17:01:30 UTC 2022)\n",
       "(EPL source distribution)\n",
       "Java Runtime: OpenJDK Runtime Environment\n",
       "JVM: OpenJDK 64-Bit Server VM\n",
       "Default Encoding: UTF-8\n",
       "Language: en\n",
       "Country: null\n",
       "--></g></svg>"
      ]
     },
     "execution_count": 43,
     "metadata": {},
     "output_type": "execute_result"
    }
   ],
   "source": [
    "%viz --style=\"DEFAULT\" --view=\"MIXED\" \"TradeStudyTest\""
   ]
  },
  {
   "cell_type": "code",
   "execution_count": 44,
   "id": "a4e2c063",
   "metadata": {
    "execution": {
     "iopub.execute_input": "2024-12-16T14:21:10.376590Z",
     "iopub.status.busy": "2024-12-16T14:21:10.376352Z",
     "iopub.status.idle": "2024-12-16T14:21:10.397740Z",
     "shell.execute_reply": "2024-12-16T14:21:10.396898Z"
    }
   },
   "outputs": [
    {
     "data": {
      "image/svg+xml": [
       "<?xml version=\"1.0\" encoding=\"UTF-8\" standalone=\"no\"?><svg xmlns=\"http://www.w3.org/2000/svg\" xmlns:xlink=\"http://www.w3.org/1999/xlink\" contentStyleType=\"text/css\" height=\"538px\" preserveAspectRatio=\"none\" style=\"width:570px;height:538px;background:#FFFFFF;\" version=\"1.1\" viewBox=\"0 0 570 538\" width=\"570px\" zoomAndPan=\"magnify\"><defs/><g><!--MD5=[fbc87193dbaf4d95561dea2c320d4a47]\n",
       "cluster E1--><g id=\"cluster_E1\"><a href=\"psysml:a91f55f8-3969-42e6-b46f-82de9da3fdc7\" target=\"_top\" title=\"psysml:a91f55f8-3969-42e6-b46f-82de9da3fdc7\" xlink:actuate=\"onRequest\" xlink:href=\"psysml:a91f55f8-3969-42e6-b46f-82de9da3fdc7\" xlink:show=\"new\" xlink:title=\"psysml:a91f55f8-3969-42e6-b46f-82de9da3fdc7\" xlink:type=\"simple\"><polygon fill=\"none\" points=\"16,6,138.125,6,145.125,28.2969,553,28.2969,553,531,16,531,16,6\" style=\"stroke:#000000;stroke-width:1.5;\"/><line style=\"stroke:#000000;stroke-width:1.5;\" x1=\"16\" x2=\"145.125\" y1=\"28.2969\" y2=\"28.2969\"/><text fill=\"#000000\" font-family=\"sans-serif\" font-size=\"14\" font-weight=\"bold\" lengthAdjust=\"spacing\" textLength=\"116.125\" x=\"20\" y=\"20.9951\">TradeStudyTest</text></a></g><!--MD5=[de5ec2e2e8f62f467e546659f5068c88]\n",
       "cluster E5--><g id=\"cluster_E5\"><a href=\"psysml:538ece1f-cb66-4e09-817f-0abcddd62ddd\" target=\"_top\" title=\"psysml:538ece1f-cb66-4e09-817f-0abcddd62ddd\" xlink:actuate=\"onRequest\" xlink:href=\"psysml:538ece1f-cb66-4e09-817f-0abcddd62ddd\" xlink:show=\"new\" xlink:title=\"psysml:538ece1f-cb66-4e09-817f-0abcddd62ddd\" xlink:type=\"simple\"><rect fill=\"#FFFFFF\" height=\"158\" id=\"E5\" rx=\"10\" ry=\"10\" style=\"stroke:#383838;stroke-width:1.5;\" width=\"250\" x=\"236\" y=\"57\"/><text fill=\"#000000\" font-family=\"sans-serif\" font-size=\"12\" font-style=\"italic\" lengthAdjust=\"spacing\" textLength=\"64\" x=\"329\" y=\"73.1387\">«analysis»</text><text fill=\"#000000\" font-family=\"sans-serif\" font-size=\"14\" lengthAdjust=\"spacing\" textLength=\"215\" x=\"249.5\" y=\"88.9639\">engineTradeStudy: TradeStudy</text><line style=\"stroke:#383838;stroke-width:1.0;\" x1=\"236\" x2=\"486\" y1=\"97.2656\" y2=\"97.2656\"/></a></g><!--MD5=[b4997ac47864f28c2f74865a473b2911]\n",
       "class E2--><a href=\"psysml:8055cf29-c4ca-4370-b025-bca5bf4f4944\" target=\"_top\" title=\"psysml:8055cf29-c4ca-4370-b025-bca5bf4f4944\" xlink:actuate=\"onRequest\" xlink:href=\"psysml:8055cf29-c4ca-4370-b025-bca5bf4f4944\" xlink:show=\"new\" xlink:title=\"psysml:8055cf29-c4ca-4370-b025-bca5bf4f4944\" xlink:type=\"simple\"><g id=\"elem_E2\"><rect fill=\"#FFFFFF\" height=\"48.2656\" id=\"E2\" style=\"stroke:#181818;stroke-width:0.5;\" width=\"70\" x=\"309\" y=\"467\"/><text fill=\"#000000\" font-family=\"sans-serif\" font-size=\"12\" font-style=\"italic\" lengthAdjust=\"spacing\" textLength=\"68\" x=\"310\" y=\"483.1387\">«part  def»</text><text fill=\"#000000\" font-family=\"sans-serif\" font-size=\"14\" lengthAdjust=\"spacing\" textLength=\"48\" x=\"320\" y=\"498.9639\">Engine</text><line style=\"stroke:#181818;stroke-width:0.5;\" x1=\"310\" x2=\"378\" y1=\"507.2656\" y2=\"507.2656\"/></g></a><!--MD5=[09b614a08d8cba4a07c9adeb5e0fee81]\n",
       "class E3--><a href=\"psysml:479197b1-ce2e-480f-b2ef-7f257dc343b8\" target=\"_top\" title=\"psysml:479197b1-ce2e-480f-b2ef-7f257dc343b8\" xlink:actuate=\"onRequest\" xlink:href=\"psysml:479197b1-ce2e-480f-b2ef-7f257dc343b8\" xlink:show=\"new\" xlink:title=\"psysml:479197b1-ce2e-480f-b2ef-7f257dc343b8\" xlink:type=\"simple\"><g id=\"elem_E3\"><rect fill=\"#FFFFFF\" height=\"48.2656\" id=\"E3\" rx=\"10\" ry=\"10\" style=\"stroke:#181818;stroke-width:0.5;\" width=\"128\" x=\"195\" y=\"359\"/><text fill=\"#000000\" font-family=\"sans-serif\" font-size=\"12\" font-style=\"italic\" lengthAdjust=\"spacing\" textLength=\"40\" x=\"239\" y=\"375.1387\">«part»</text><text fill=\"#000000\" font-family=\"sans-serif\" font-size=\"14\" lengthAdjust=\"spacing\" textLength=\"114\" x=\"198\" y=\"390.9639\">engine1: Engine</text><line style=\"stroke:#181818;stroke-width:0.5;\" x1=\"196\" x2=\"322\" y1=\"399.2656\" y2=\"399.2656\"/></g></a><!--MD5=[ebbe1d658d1005bcc118a6aa81145e00]\n",
       "class E4--><a href=\"psysml:df8f9049-6917-4fa7-a1c9-f212538c9a4e\" target=\"_top\" title=\"psysml:df8f9049-6917-4fa7-a1c9-f212538c9a4e\" xlink:actuate=\"onRequest\" xlink:href=\"psysml:df8f9049-6917-4fa7-a1c9-f212538c9a4e\" xlink:show=\"new\" xlink:title=\"psysml:df8f9049-6917-4fa7-a1c9-f212538c9a4e\" xlink:type=\"simple\"><g id=\"elem_E4\"><rect fill=\"#FFFFFF\" height=\"48.2656\" id=\"E4\" rx=\"10\" ry=\"10\" style=\"stroke:#181818;stroke-width:0.5;\" width=\"128\" x=\"32\" y=\"359\"/><text fill=\"#000000\" font-family=\"sans-serif\" font-size=\"12\" font-style=\"italic\" lengthAdjust=\"spacing\" textLength=\"40\" x=\"76\" y=\"375.1387\">«part»</text><text fill=\"#000000\" font-family=\"sans-serif\" font-size=\"14\" lengthAdjust=\"spacing\" textLength=\"114\" x=\"35\" y=\"390.9639\">engine2: Engine</text><line style=\"stroke:#181818;stroke-width:0.5;\" x1=\"33\" x2=\"159\" y1=\"399.2656\" y2=\"399.2656\"/></g></a><!--MD5=[2156ba9850f5573cc1fc38a6a4b2f02b]\n",
       "class E7--><a href=\"psysml:f253b0d3-72ce-4ec1-aa97-c21cff35f053\" target=\"_top\" title=\"psysml:f253b0d3-72ce-4ec1-aa97-c21cff35f053\" xlink:actuate=\"onRequest\" xlink:href=\"psysml:f253b0d3-72ce-4ec1-aa97-c21cff35f053\" xlink:show=\"new\" xlink:title=\"psysml:f253b0d3-72ce-4ec1-aa97-c21cff35f053\" xlink:type=\"simple\"><g id=\"elem_E7\"><rect fill=\"#FFFFFF\" height=\"48.2656\" id=\"E7\" rx=\"10\" ry=\"10\" style=\"stroke:#181818;stroke-width:0.5;\" width=\"144\" x=\"155\" y=\"251\"/><text fill=\"#000000\" font-family=\"sans-serif\" font-size=\"12\" font-style=\"italic\" lengthAdjust=\"spacing\" textLength=\"82\" x=\"186\" y=\"267.1387\">«calculation»</text><text fill=\"#000000\" font-family=\"sans-serif\" font-size=\"14\" lengthAdjust=\"spacing\" textLength=\"130\" x=\"158\" y=\"282.9639\">evaluationFunction</text><line style=\"stroke:#181818;stroke-width:0.5;\" x1=\"156\" x2=\"298\" y1=\"291.2656\" y2=\"291.2656\"/></g></a><!--MD5=[b9389687b975829384b498ac4b7476b2]\n",
       "class E8--><a href=\"psysml:753de58d-f4ea-44a5-91ee-5ffc5e7a177d\" target=\"_top\" title=\"psysml:753de58d-f4ea-44a5-91ee-5ffc5e7a177d\" xlink:actuate=\"onRequest\" xlink:href=\"psysml:753de58d-f4ea-44a5-91ee-5ffc5e7a177d\" xlink:show=\"new\" xlink:title=\"psysml:753de58d-f4ea-44a5-91ee-5ffc5e7a177d\" xlink:type=\"simple\"><g id=\"elem_E8\"><rect fill=\"#FFFFFF\" height=\"48.2656\" id=\"E8\" rx=\"10\" ry=\"10\" style=\"stroke:#181818;stroke-width:0.5;\" width=\"142\" x=\"358\" y=\"359\"/><text fill=\"#000000\" font-family=\"sans-serif\" font-size=\"12\" font-style=\"italic\" lengthAdjust=\"spacing\" textLength=\"40\" x=\"409\" y=\"375.1387\">«part»</text><text fill=\"#000000\" font-family=\"sans-serif\" font-size=\"14\" lengthAdjust=\"spacing\" textLength=\"128\" x=\"361\" y=\"390.9639\">alternative: Engine</text><line style=\"stroke:#181818;stroke-width:0.5;\" x1=\"359\" x2=\"499\" y1=\"399.2656\" y2=\"399.2656\"/></g></a><!--MD5=[fd4143e9d270a159db93a4ea2a975926]\n",
       "class E9--><a href=\"psysml:76ff8411-b0e7-4dd9-89c0-3f2666988fc0\" target=\"_top\" title=\"psysml:76ff8411-b0e7-4dd9-89c0-3f2666988fc0\" xlink:actuate=\"onRequest\" xlink:href=\"psysml:76ff8411-b0e7-4dd9-89c0-3f2666988fc0\" xlink:show=\"new\" xlink:title=\"psysml:76ff8411-b0e7-4dd9-89c0-3f2666988fc0\" xlink:type=\"simple\"><g id=\"elem_E9\"><rect fill=\"#FFFFFF\" height=\"48.2656\" id=\"E9\" rx=\"10\" ry=\"10\" style=\"stroke:#181818;stroke-width:0.5;\" width=\"203\" x=\"334.5\" y=\"251\"/><text fill=\"#000000\" font-family=\"sans-serif\" font-size=\"12\" font-style=\"italic\" lengthAdjust=\"spacing\" textLength=\"40\" x=\"416\" y=\"267.1387\">«part»</text><text fill=\"#000000\" font-family=\"sans-serif\" font-size=\"14\" lengthAdjust=\"spacing\" textLength=\"189\" x=\"337.5\" y=\"282.9639\">selectedAlternative: Engine</text><line style=\"stroke:#181818;stroke-width:0.5;\" x1=\"335.5\" x2=\"536.5\" y1=\"291.2656\" y2=\"291.2656\"/></g></a><!--MD5=[60a26617385b1d2d0262a64233df1f8d]\n",
       "class E6--><a href=\"psysml:4f755969-6586-456d-bfaa-2c124f0f3312\" target=\"_top\" title=\"psysml:4f755969-6586-456d-bfaa-2c124f0f3312\" xlink:actuate=\"onRequest\" xlink:href=\"psysml:4f755969-6586-456d-bfaa-2c124f0f3312\" xlink:show=\"new\" xlink:title=\"psysml:4f755969-6586-456d-bfaa-2c124f0f3312\" xlink:type=\"simple\"><g id=\"elem_E6\"><rect fill=\"#FFFFFF\" height=\"75.0813\" id=\"E6\" rx=\"10\" ry=\"10\" style=\"stroke:#181818;stroke-width:0.5;\" width=\"145\" x=\"306.5\" y=\"116\"/><text fill=\"#000000\" font-family=\"sans-serif\" font-size=\"12\" font-style=\"italic\" lengthAdjust=\"spacing\" textLength=\"70\" x=\"344\" y=\"132.1387\">«objective»</text><text fill=\"#000000\" font-family=\"sans-serif\" font-size=\"14\" lengthAdjust=\"spacing\" textLength=\"139\" x=\"309.5\" y=\"147.9639\">tradeStudyObjective</text><line style=\"stroke:#181818;stroke-width:0.5;\" x1=\"307.5\" x2=\"450.5\" y1=\"156.2656\" y2=\"156.2656\"/><text fill=\"#000000\" font-family=\"sans-serif\" font-size=\"14\" lengthAdjust=\"spacing\" textLength=\"132\" x=\"312.5\" y=\"183.7795\">selectedAlternative</text><text fill=\"#000000\" font-family=\"sans-serif\" font-size=\"14\" font-style=\"italic\" lengthAdjust=\"spacing\" textLength=\"51\" x=\"353.5\" y=\"168.6123\">subject</text></g></a><!--MD5=[05d275557350bfb9b23a4ef7222b4c39]\n",
       "link E3 to E2--><g id=\"link_E3_E2\"><a href=\"psysml:bc3cf079-eae7-49ce-b297-ec132a977e50\" target=\"_top\" title=\"psysml:bc3cf079-eae7-49ce-b297-ec132a977e50\" xlink:actuate=\"onRequest\" xlink:href=\"psysml:bc3cf079-eae7-49ce-b297-ec132a977e50\" xlink:show=\"new\" xlink:title=\"psysml:bc3cf079-eae7-49ce-b297-ec132a977e50\" xlink:type=\"simple\"><path d=\"M277.44,407 C287.73,419.83 300.82,436.16 312.67,450.93 \" fill=\"none\" id=\"E3-to-E2\" style=\"stroke:#181818;stroke-width:1.0;\"/><polygon fill=\"#FFFFFF\" points=\"325.3,466.68,307.9565,456.2299,318.8819,447.4756,325.3,466.68\" style=\"stroke:#181818;stroke-width:1.0;\"/><ellipse cx=\"305.9531\" cy=\"450.5311\" fill=\"#181818\" rx=\"2\" ry=\"2\" style=\"stroke:#181818;stroke-width:1.0;\"/><ellipse cx=\"313.7569\" cy=\"444.2781\" fill=\"#181818\" rx=\"2\" ry=\"2\" style=\"stroke:#181818;stroke-width:1.0;\"/></a></g><!--MD5=[185131fc0dcab0a4505a2ebe144e961b]\n",
       "link E4 to E2--><g id=\"link_E4_E2\"><a href=\"psysml:aa1a99dc-dc69-45ac-b95f-3bcc471ea5d4\" target=\"_top\" title=\"psysml:aa1a99dc-dc69-45ac-b95f-3bcc471ea5d4\" xlink:actuate=\"onRequest\" xlink:href=\"psysml:aa1a99dc-dc69-45ac-b95f-3bcc471ea5d4\" xlink:show=\"new\" xlink:title=\"psysml:aa1a99dc-dc69-45ac-b95f-3bcc471ea5d4\" xlink:type=\"simple\"><path d=\"M149.81,407 C191.38,424.77 248.64,449.24 290.2,467.01 \" fill=\"none\" id=\"E4-to-E2\" style=\"stroke:#181818;stroke-width:1.0;\"/><polygon fill=\"#FFFFFF\" points=\"308.64,474.89,288.4184,473.8471,293.9285,460.977,308.64,474.89\" style=\"stroke:#181818;stroke-width:1.0;\"/><ellipse cx=\"283.9656\" cy=\"469.7652\" fill=\"#181818\" rx=\"2\" ry=\"2\" style=\"stroke:#181818;stroke-width:1.0;\"/><ellipse cx=\"287.9013\" cy=\"460.5722\" fill=\"#181818\" rx=\"2\" ry=\"2\" style=\"stroke:#181818;stroke-width:1.0;\"/></a></g><!--MD5=[452b418e7f8a40397a49b8c0a78acc5b]\n",
       "reverse link E5 to E7--><g id=\"link_E5_E7\"><a href=\"psysml:ae0ddffd-d94b-4ee5-a4cb-a499b90c2b96\" target=\"_top\" title=\"psysml:ae0ddffd-d94b-4ee5-a4cb-a499b90c2b96\" xlink:actuate=\"onRequest\" xlink:href=\"psysml:ae0ddffd-d94b-4ee5-a4cb-a499b90c2b96\" xlink:show=\"new\" xlink:title=\"psysml:ae0ddffd-d94b-4ee5-a4cb-a499b90c2b96\" xlink:type=\"simple\"><path d=\"M244.1719,215.3826 C244.124,215.5464 244.076,215.7101 244.0281,215.8739 C243.8363,216.5288 243.6446,217.1834 243.453,217.8375 C243.0699,219.1456 242.6874,220.4515 242.3064,221.7525 C239.2581,232.1606 236.3,242.26 233.81,250.76 \" fill=\"none\" id=\"E5-backto-E7\" style=\"stroke:#181818;stroke-width:1.0;\"/><polygon fill=\"#181818\" points=\"244.1719,215.3826,238.6468,220.0166,240.7992,226.8989,246.3243,222.265,244.1719,215.3826\" style=\"stroke:#181818;stroke-width:1.0;\"/></a></g><!--MD5=[dc164f5e8a733ab456ef1add180e9e34]\n",
       "reverse link E7 to E8--><g id=\"link_E7_E8\"><a href=\"psysml:a8c82a2a-741b-4fac-ac9b-98beb228d3cb\" target=\"_top\" title=\"psysml:a8c82a2a-741b-4fac-ac9b-98beb228d3cb\" xlink:actuate=\"onRequest\" xlink:href=\"psysml:a8c82a2a-741b-4fac-ac9b-98beb228d3cb\" xlink:show=\"new\" xlink:title=\"psysml:a8c82a2a-741b-4fac-ac9b-98beb228d3cb\" xlink:type=\"simple\"><path d=\"M282.76,305.26 C314.96,322.16 354.91,343.12 384.91,358.86 \" fill=\"none\" id=\"E7-backto-E8\" style=\"stroke:#181818;stroke-width:1.0;\"/><polygon fill=\"none\" points=\"270.83,299,274.284,305.3301,281.4556,304.5765,278.0016,298.2464,270.83,299\" style=\"stroke:#181818;stroke-width:1.0;\"/></a></g><!--MD5=[f1f3f9f2fc535e6147756cb86a7f2e32]\n",
       "link E8 to E2--><g id=\"link_E8_E2\"><a href=\"psysml:199cdd6b-9599-4ee9-8d7a-04a31416ec15\" target=\"_top\" title=\"psysml:199cdd6b-9599-4ee9-8d7a-04a31416ec15\" xlink:actuate=\"onRequest\" xlink:href=\"psysml:199cdd6b-9599-4ee9-8d7a-04a31416ec15\" xlink:show=\"new\" xlink:title=\"psysml:199cdd6b-9599-4ee9-8d7a-04a31416ec15\" xlink:type=\"simple\"><path d=\"M410.56,407 C400.27,419.83 387.18,436.16 375.33,450.93 \" fill=\"none\" id=\"E8-to-E2\" style=\"stroke:#181818;stroke-width:1.0;\"/><polygon fill=\"#FFFFFF\" points=\"362.7,466.68,369.1181,447.4756,380.0435,456.2299,362.7,466.68\" style=\"stroke:#181818;stroke-width:1.0;\"/><ellipse cx=\"374.2431\" cy=\"444.2781\" fill=\"#181818\" rx=\"2\" ry=\"2\" style=\"stroke:#181818;stroke-width:1.0;\"/><ellipse cx=\"382.0469\" cy=\"450.5311\" fill=\"#181818\" rx=\"2\" ry=\"2\" style=\"stroke:#181818;stroke-width:1.0;\"/></a></g><!--MD5=[9ae28de373ca99bb8a1b38d63370ca7e]\n",
       "reverse link E5 to E9--><g id=\"link_E5_E9\"><a href=\"psysml:549a8511-5afb-4107-9df8-0f136ad572ec\" target=\"_top\" title=\"psysml:549a8511-5afb-4107-9df8-0f136ad572ec\" xlink:actuate=\"onRequest\" xlink:href=\"psysml:549a8511-5afb-4107-9df8-0f136ad572ec\" xlink:show=\"new\" xlink:title=\"psysml:549a8511-5afb-4107-9df8-0f136ad572ec\" xlink:type=\"simple\"><path d=\"M277.9238,215.3079 C279.0235,217.2432 280.1988,219.1321 281.4547,220.9571 C283.9666,224.607 286.8013,228.0013 290,231 C302.53,242.75 318.11,251.3 334.38,257.53 \" fill=\"none\" id=\"E5-backto-E9\" style=\"stroke:#181818;stroke-width:1.0;\"/><polygon fill=\"none\" points=\"277.9238,215.3079,277.4102,222.5006,283.8521,225.7412,284.3658,218.5484,277.9238,215.3079\" style=\"stroke:#181818;stroke-width:1.0;\"/></a></g><!--MD5=[5c3bb36fe832a92c7f0e1807dd65209d]\n",
       "link E9 to E2--><g id=\"link_E9_E2\"><a href=\"psysml:94a3a0b9-9284-4132-a69a-1dbd276e1390\" target=\"_top\" title=\"psysml:94a3a0b9-9284-4132-a69a-1dbd276e1390\" xlink:actuate=\"onRequest\" xlink:href=\"psysml:94a3a0b9-9284-4132-a69a-1dbd276e1390\" xlink:show=\"new\" xlink:title=\"psysml:94a3a0b9-9284-4132-a69a-1dbd276e1390\" xlink:type=\"simple\"><path d=\"M468.09,299.22 C500.23,325.43 541.77,369.33 518,407 C492.01,448.19 439.34,469.37 398.72,479.98 \" fill=\"none\" id=\"E9-to-E2\" style=\"stroke:#181818;stroke-width:1.0;\"/><polygon fill=\"#FFFFFF\" points=\"379.07,484.56,395.9826,473.4261,399.1635,487.06,379.07,484.56\" style=\"stroke:#181818;stroke-width:1.0;\"/><ellipse cx=\"401.988\" cy=\"474.0788\" fill=\"#181818\" rx=\"2\" ry=\"2\" style=\"stroke:#181818;stroke-width:1.0;\"/><ellipse cx=\"404.26\" cy=\"483.8172\" fill=\"#181818\" rx=\"2\" ry=\"2\" style=\"stroke:#181818;stroke-width:1.0;\"/></a></g><!--MD5=[2a54779d20b16929fd6f8ab446f43d10]\n",
       "@startuml\r\n",
       "skin sysmlbw\r\n",
       "skinparam monochrome true\r\n",
       "skinparam wrapWidth 300\r\n",
       "hide circle\r\n",
       "top to bottom direction\r\n",
       "\r\n",
       "package \"TradeStudyTest\" as E1  [[psysml:a91f55f8-3969-42e6-b46f-82de9da3fdc7 ]]  {\r\n",
       "comp def \"Engine\" as E2  <<(T,blue) part  def>> [[psysml:8055cf29-c4ca-4370-b025-bca5bf4f4944 ]] {\r\n",
       "}\r\n",
       "comp usage \"engine1: Engine  \" as E3  <<(T,blue) part>> [[psysml:479197b1-ce2e-480f-b2ef-7f257dc343b8 ]] {\r\n",
       "}\r\n",
       "comp usage \"engine2: Engine  \" as E4  <<(T,blue) part>> [[psysml:df8f9049-6917-4fa7-a1c9-f212538c9a4e ]] {\r\n",
       "}\r\n",
       "rec usage \"engineTradeStudy: TradeStudy  \" as E5  << analysis>> [[psysml:538ece1f-cb66-4e09-817f-0abcddd62ddd ]] {\r\n",
       "comp usage \"tradeStudyObjective\" as E6  <<objective>> [[psysml:4f755969-6586-456d-bfaa-2c124f0f3312 ]] {\r\n",
       "##//subject//##\r\n",
       "selectedAlternative\r\n",
       "}\r\n",
       "}\r\n",
       "comp usage \"evaluationFunction  \" as E7  <<(T,blue) calculation>> [[psysml:f253b0d3-72ce-4ec1-aa97-c21cff35f053 ]] {\r\n",
       "}\r\n",
       "comp usage \"alternative: Engine  \" as E8  <<(T,blue) part>> [[psysml:753de58d-f4ea-44a5-91ee-5ffc5e7a177d ]] {\r\n",
       "}\r\n",
       "comp usage \"selectedAlternative: Engine  \" as E9  <<(T,blue) part>> [[psysml:76ff8411-b0e7-4dd9-89c0-3f2666988fc0 ]] {\r\n",
       "}\r\n",
       "}\r\n",
       "E3 - -:|> E2 [[psysml:bc3cf079-eae7-49ce-b297-ec132a977e50 ]] \r\n",
       "E4 - -:|> E2 [[psysml:aa1a99dc-dc69-45ac-b95f-3bcc471ea5d4 ]] \r\n",
       "E5 *- - E7 [[psysml:ae0ddffd-d94b-4ee5-a4cb-a499b90c2b96 ]] \r\n",
       "E7 o- - E8 [[psysml:a8c82a2a-741b-4fac-ac9b-98beb228d3cb ]] \r\n",
       "E8 - -:|> E2 [[psysml:199cdd6b-9599-4ee9-8d7a-04a31416ec15 ]] \r\n",
       "E5 o- - E9 [[psysml:549a8511-5afb-4107-9df8-0f136ad572ec ]] \r\n",
       "E9 - -:|> E2 [[psysml:94a3a0b9-9284-4132-a69a-1dbd276e1390 ]] \r\n",
       "@enduml\r\n",
       "\n",
       "PlantUML version 1.2022.7(Mon Aug 22 17:01:30 UTC 2022)\n",
       "(EPL source distribution)\n",
       "Java Runtime: OpenJDK Runtime Environment\n",
       "JVM: OpenJDK 64-Bit Server VM\n",
       "Default Encoding: UTF-8\n",
       "Language: en\n",
       "Country: null\n",
       "--></g></svg>"
      ]
     },
     "execution_count": 44,
     "metadata": {},
     "output_type": "execute_result"
    }
   ],
   "source": [
    "%viz --style=\"TB\" --view=\"Default\" \"TradeStudyTest\""
   ]
  },
  {
   "cell_type": "code",
   "execution_count": 45,
   "id": "c131e31a",
   "metadata": {
    "execution": {
     "iopub.execute_input": "2024-12-16T14:21:10.449546Z",
     "iopub.status.busy": "2024-12-16T14:21:10.449284Z",
     "iopub.status.idle": "2024-12-16T14:21:10.474248Z",
     "shell.execute_reply": "2024-12-16T14:21:10.473155Z"
    }
   },
   "outputs": [
    {
     "data": {
      "image/svg+xml": [
       "<?xml version=\"1.0\" encoding=\"UTF-8\" standalone=\"no\"?><svg xmlns=\"http://www.w3.org/2000/svg\" xmlns:xlink=\"http://www.w3.org/1999/xlink\" contentStyleType=\"text/css\" height=\"572px\" preserveAspectRatio=\"none\" style=\"width:570px;height:572px;background:#FFFFFF;\" version=\"1.1\" viewBox=\"0 0 570 572\" width=\"570px\" zoomAndPan=\"magnify\"><defs/><g><!--MD5=[fbc87193dbaf4d95561dea2c320d4a47]\n",
       "cluster E1--><g id=\"cluster_E1\"><a href=\"psysml:a91f55f8-3969-42e6-b46f-82de9da3fdc7\" target=\"_top\" title=\"psysml:a91f55f8-3969-42e6-b46f-82de9da3fdc7\" xlink:actuate=\"onRequest\" xlink:href=\"psysml:a91f55f8-3969-42e6-b46f-82de9da3fdc7\" xlink:show=\"new\" xlink:title=\"psysml:a91f55f8-3969-42e6-b46f-82de9da3fdc7\" xlink:type=\"simple\"><polygon fill=\"none\" points=\"16,6,138.125,6,145.125,28.2969,553,28.2969,553,565,16,565,16,6\" style=\"stroke:#000000;stroke-width:1.5;\"/><line style=\"stroke:#000000;stroke-width:1.5;\" x1=\"16\" x2=\"145.125\" y1=\"28.2969\" y2=\"28.2969\"/><text fill=\"#000000\" font-family=\"sans-serif\" font-size=\"14\" font-weight=\"bold\" lengthAdjust=\"spacing\" textLength=\"116.125\" x=\"20\" y=\"20.9951\">TradeStudyTest</text></a></g><!--MD5=[b4997ac47864f28c2f74865a473b2911]\n",
       "class E2--><a href=\"psysml:8055cf29-c4ca-4370-b025-bca5bf4f4944\" target=\"_top\" title=\"psysml:8055cf29-c4ca-4370-b025-bca5bf4f4944\" xlink:actuate=\"onRequest\" xlink:href=\"psysml:8055cf29-c4ca-4370-b025-bca5bf4f4944\" xlink:show=\"new\" xlink:title=\"psysml:8055cf29-c4ca-4370-b025-bca5bf4f4944\" xlink:type=\"simple\"><g id=\"elem_E2\"><rect fill=\"#FFFFFF\" height=\"48.2656\" id=\"E2\" style=\"stroke:#181818;stroke-width:0.5;\" width=\"70\" x=\"202\" y=\"501\"/><text fill=\"#000000\" font-family=\"sans-serif\" font-size=\"12\" font-style=\"italic\" lengthAdjust=\"spacing\" textLength=\"68\" x=\"203\" y=\"517.1387\">«part  def»</text><text fill=\"#000000\" font-family=\"sans-serif\" font-size=\"14\" lengthAdjust=\"spacing\" textLength=\"48\" x=\"213\" y=\"532.9639\">Engine</text><line style=\"stroke:#181818;stroke-width:0.5;\" x1=\"203\" x2=\"271\" y1=\"541.2656\" y2=\"541.2656\"/></g></a><!--MD5=[09b614a08d8cba4a07c9adeb5e0fee81]\n",
       "class E3--><a href=\"psysml:479197b1-ce2e-480f-b2ef-7f257dc343b8\" target=\"_top\" title=\"psysml:479197b1-ce2e-480f-b2ef-7f257dc343b8\" xlink:actuate=\"onRequest\" xlink:href=\"psysml:479197b1-ce2e-480f-b2ef-7f257dc343b8\" xlink:show=\"new\" xlink:title=\"psysml:479197b1-ce2e-480f-b2ef-7f257dc343b8\" xlink:type=\"simple\"><g id=\"elem_E3\"><rect fill=\"#FFFFFF\" height=\"48.2656\" id=\"E3\" rx=\"10\" ry=\"10\" style=\"stroke:#181818;stroke-width:0.5;\" width=\"128\" x=\"409\" y=\"392\"/><text fill=\"#000000\" font-family=\"sans-serif\" font-size=\"12\" font-style=\"italic\" lengthAdjust=\"spacing\" textLength=\"40\" x=\"453\" y=\"408.1387\">«part»</text><text fill=\"#000000\" font-family=\"sans-serif\" font-size=\"14\" lengthAdjust=\"spacing\" textLength=\"114\" x=\"412\" y=\"423.9639\">engine1: Engine</text><line style=\"stroke:#181818;stroke-width:0.5;\" x1=\"410\" x2=\"536\" y1=\"432.2656\" y2=\"432.2656\"/></g></a><!--MD5=[ebbe1d658d1005bcc118a6aa81145e00]\n",
       "class E4--><a href=\"psysml:df8f9049-6917-4fa7-a1c9-f212538c9a4e\" target=\"_top\" title=\"psysml:df8f9049-6917-4fa7-a1c9-f212538c9a4e\" xlink:actuate=\"onRequest\" xlink:href=\"psysml:df8f9049-6917-4fa7-a1c9-f212538c9a4e\" xlink:show=\"new\" xlink:title=\"psysml:df8f9049-6917-4fa7-a1c9-f212538c9a4e\" xlink:type=\"simple\"><g id=\"elem_E4\"><rect fill=\"#FFFFFF\" height=\"48.2656\" id=\"E4\" rx=\"10\" ry=\"10\" style=\"stroke:#181818;stroke-width:0.5;\" width=\"128\" x=\"246\" y=\"392\"/><text fill=\"#000000\" font-family=\"sans-serif\" font-size=\"12\" font-style=\"italic\" lengthAdjust=\"spacing\" textLength=\"40\" x=\"290\" y=\"408.1387\">«part»</text><text fill=\"#000000\" font-family=\"sans-serif\" font-size=\"14\" lengthAdjust=\"spacing\" textLength=\"114\" x=\"249\" y=\"423.9639\">engine2: Engine</text><line style=\"stroke:#181818;stroke-width:0.5;\" x1=\"247\" x2=\"373\" y1=\"432.2656\" y2=\"432.2656\"/></g></a><!--MD5=[270fce915f116d4de14055a7c1d9a0f3]\n",
       "class E5--><a href=\"psysml:538ece1f-cb66-4e09-817f-0abcddd62ddd\" target=\"_top\" title=\"psysml:538ece1f-cb66-4e09-817f-0abcddd62ddd\" xlink:actuate=\"onRequest\" xlink:href=\"psysml:538ece1f-cb66-4e09-817f-0abcddd62ddd\" xlink:show=\"new\" xlink:title=\"psysml:538ece1f-cb66-4e09-817f-0abcddd62ddd\" xlink:type=\"simple\"><g id=\"elem_E5\"><rect fill=\"#FFFFFF\" height=\"91.3781\" id=\"E5\" rx=\"10\" ry=\"10\" style=\"stroke:#181818;stroke-width:0.5;\" width=\"277\" x=\"259.5\" y=\"41\"/><text fill=\"#000000\" font-family=\"sans-serif\" font-size=\"12\" font-style=\"italic\" lengthAdjust=\"spacing\" textLength=\"64\" x=\"366\" y=\"57.1387\">«analysis»</text><text fill=\"#000000\" font-family=\"sans-serif\" font-size=\"14\" lengthAdjust=\"spacing\" textLength=\"215\" x=\"286.5\" y=\"72.9639\">engineTradeStudy: TradeStudy</text><line style=\"stroke:#181818;stroke-width:0.5;\" x1=\"260.5\" x2=\"535.5\" y1=\"81.2656\" y2=\"81.2656\"/><text fill=\"#000000\" font-family=\"sans-serif\" font-size=\"14\" lengthAdjust=\"spacing\" textLength=\"261\" x=\"265.5\" y=\"108.7795\">studyAlternatives: Engine = (engine1,</text><text fill=\"#000000\" font-family=\"sans-serif\" font-size=\"14\" lengthAdjust=\"spacing\" textLength=\"62\" x=\"265.5\" y=\"125.0764\">engine2)</text><text fill=\"#000000\" font-family=\"sans-serif\" font-size=\"14\" font-style=\"italic\" lengthAdjust=\"spacing\" textLength=\"51\" x=\"372.5\" y=\"93.6123\">subject</text></g></a><!--MD5=[60a26617385b1d2d0262a64233df1f8d]\n",
       "class E6--><a href=\"psysml:4f755969-6586-456d-bfaa-2c124f0f3312\" target=\"_top\" title=\"psysml:4f755969-6586-456d-bfaa-2c124f0f3312\" xlink:actuate=\"onRequest\" xlink:href=\"psysml:4f755969-6586-456d-bfaa-2c124f0f3312\" xlink:show=\"new\" xlink:title=\"psysml:4f755969-6586-456d-bfaa-2c124f0f3312\" xlink:type=\"simple\"><g id=\"elem_E6\"><rect fill=\"#FFFFFF\" height=\"75.0813\" id=\"E6\" rx=\"10\" ry=\"10\" style=\"stroke:#181818;stroke-width:0.5;\" width=\"289\" x=\"31.5\" y=\"209\"/><text fill=\"#000000\" font-family=\"sans-serif\" font-size=\"12\" font-style=\"italic\" lengthAdjust=\"spacing\" textLength=\"91\" x=\"130.5\" y=\"225.1387\">«requirement»</text><text fill=\"#000000\" font-family=\"sans-serif\" font-size=\"14\" lengthAdjust=\"spacing\" textLength=\"275\" x=\"34.5\" y=\"240.9639\">tradeStudyObjective: MaximizeObjective</text><line style=\"stroke:#181818;stroke-width:0.5;\" x1=\"32.5\" x2=\"319.5\" y1=\"249.2656\" y2=\"249.2656\"/><text fill=\"#000000\" font-family=\"sans-serif\" font-size=\"14\" lengthAdjust=\"spacing\" textLength=\"132\" x=\"37.5\" y=\"276.7795\">selectedAlternative</text><text fill=\"#000000\" font-family=\"sans-serif\" font-size=\"14\" font-style=\"italic\" lengthAdjust=\"spacing\" textLength=\"51\" x=\"150.5\" y=\"261.6123\">subject</text></g></a><!--MD5=[2156ba9850f5573cc1fc38a6a4b2f02b]\n",
       "class E7--><a href=\"psysml:f253b0d3-72ce-4ec1-aa97-c21cff35f053\" target=\"_top\" title=\"psysml:f253b0d3-72ce-4ec1-aa97-c21cff35f053\" xlink:actuate=\"onRequest\" xlink:href=\"psysml:f253b0d3-72ce-4ec1-aa97-c21cff35f053\" xlink:show=\"new\" xlink:title=\"psysml:f253b0d3-72ce-4ec1-aa97-c21cff35f053\" xlink:type=\"simple\"><g id=\"elem_E7\"><rect fill=\"#FFFFFF\" height=\"48.2656\" id=\"E7\" rx=\"10\" ry=\"10\" style=\"stroke:#181818;stroke-width:0.5;\" width=\"144\" x=\"355\" y=\"222.5\"/><text fill=\"#000000\" font-family=\"sans-serif\" font-size=\"12\" font-style=\"italic\" lengthAdjust=\"spacing\" textLength=\"82\" x=\"386\" y=\"238.6387\">«calculation»</text><text fill=\"#000000\" font-family=\"sans-serif\" font-size=\"14\" lengthAdjust=\"spacing\" textLength=\"130\" x=\"358\" y=\"254.4639\">evaluationFunction</text><line style=\"stroke:#181818;stroke-width:0.5;\" x1=\"356\" x2=\"498\" y1=\"262.7656\" y2=\"262.7656\"/></g></a><!--MD5=[b9389687b975829384b498ac4b7476b2]\n",
       "class E8--><a href=\"psysml:753de58d-f4ea-44a5-91ee-5ffc5e7a177d\" target=\"_top\" title=\"psysml:753de58d-f4ea-44a5-91ee-5ffc5e7a177d\" xlink:actuate=\"onRequest\" xlink:href=\"psysml:753de58d-f4ea-44a5-91ee-5ffc5e7a177d\" xlink:show=\"new\" xlink:title=\"psysml:753de58d-f4ea-44a5-91ee-5ffc5e7a177d\" xlink:type=\"simple\"><g id=\"elem_E8\"><rect fill=\"#FFFFFF\" height=\"48.2656\" id=\"E8\" rx=\"10\" ry=\"10\" style=\"stroke:#181818;stroke-width:0.5;\" width=\"142\" x=\"32\" y=\"392\"/><text fill=\"#000000\" font-family=\"sans-serif\" font-size=\"12\" font-style=\"italic\" lengthAdjust=\"spacing\" textLength=\"40\" x=\"83\" y=\"408.1387\">«part»</text><text fill=\"#000000\" font-family=\"sans-serif\" font-size=\"14\" lengthAdjust=\"spacing\" textLength=\"128\" x=\"35\" y=\"423.9639\">alternative: Engine</text><line style=\"stroke:#181818;stroke-width:0.5;\" x1=\"33\" x2=\"173\" y1=\"432.2656\" y2=\"432.2656\"/></g></a><!--MD5=[fd4143e9d270a159db93a4ea2a975926]\n",
       "class E9--><a href=\"psysml:76ff8411-b0e7-4dd9-89c0-3f2666988fc0\" target=\"_top\" title=\"psysml:76ff8411-b0e7-4dd9-89c0-3f2666988fc0\" xlink:actuate=\"onRequest\" xlink:href=\"psysml:76ff8411-b0e7-4dd9-89c0-3f2666988fc0\" xlink:show=\"new\" xlink:title=\"psysml:76ff8411-b0e7-4dd9-89c0-3f2666988fc0\" xlink:type=\"simple\"><g id=\"elem_E9\"><rect fill=\"#FFFFFF\" height=\"48.2656\" id=\"E9\" rx=\"10\" ry=\"10\" style=\"stroke:#181818;stroke-width:0.5;\" width=\"203\" x=\"277.5\" y=\"314\"/><text fill=\"#000000\" font-family=\"sans-serif\" font-size=\"12\" font-style=\"italic\" lengthAdjust=\"spacing\" textLength=\"40\" x=\"359\" y=\"330.1387\">«part»</text><text fill=\"#000000\" font-family=\"sans-serif\" font-size=\"14\" lengthAdjust=\"spacing\" textLength=\"189\" x=\"280.5\" y=\"345.9639\">selectedAlternative: Engine</text><line style=\"stroke:#181818;stroke-width:0.5;\" x1=\"278.5\" x2=\"479.5\" y1=\"354.2656\" y2=\"354.2656\"/></g></a><!--MD5=[05d275557350bfb9b23a4ef7222b4c39]\n",
       "link E3 to E2--><g id=\"link_E3_E2\"><a href=\"psysml:bc3cf079-eae7-49ce-b297-ec132a977e50\" target=\"_top\" title=\"psysml:bc3cf079-eae7-49ce-b297-ec132a977e50\" xlink:actuate=\"onRequest\" xlink:href=\"psysml:bc3cf079-eae7-49ce-b297-ec132a977e50\" xlink:show=\"new\" xlink:title=\"psysml:bc3cf079-eae7-49ce-b297-ec132a977e50\" xlink:type=\"simple\"><path d=\"M422.08,440.09 C383.28,457.68 329.98,481.84 290.54,499.73 \" fill=\"none\" id=\"E3-to-E2\" style=\"stroke:#181818;stroke-width:1.0;\"/><polygon fill=\"#FFFFFF\" points=\"272.15,508.07,286.5646,493.8497,292.3451,506.6006,272.15,508.07\" style=\"stroke:#181818;stroke-width:1.0;\"/><ellipse cx=\"292.5819\" cy=\"493.3178\" fill=\"#181818\" rx=\"2\" ry=\"2\" style=\"stroke:#181818;stroke-width:1.0;\"/><ellipse cx=\"296.7108\" cy=\"502.4256\" fill=\"#181818\" rx=\"2\" ry=\"2\" style=\"stroke:#181818;stroke-width:1.0;\"/></a></g><!--MD5=[185131fc0dcab0a4505a2ebe144e961b]\n",
       "link E4 to E2--><g id=\"link_E4_E2\"><a href=\"psysml:aa1a99dc-dc69-45ac-b95f-3bcc471ea5d4\" target=\"_top\" title=\"psysml:aa1a99dc-dc69-45ac-b95f-3bcc471ea5d4\" xlink:actuate=\"onRequest\" xlink:href=\"psysml:aa1a99dc-dc69-45ac-b95f-3bcc471ea5d4\" xlink:show=\"new\" xlink:title=\"psysml:aa1a99dc-dc69-45ac-b95f-3bcc471ea5d4\" xlink:type=\"simple\"><path d=\"M294.16,440.22 C285.45,452.98 274.41,469.16 264.36,483.9 \" fill=\"none\" id=\"E4-to-E2\" style=\"stroke:#181818;stroke-width:1.0;\"/><polygon fill=\"#FFFFFF\" points=\"252.81,500.83,257.7393,481.1907,269.3027,489.083,252.81,500.83\" style=\"stroke:#181818;stroke-width:1.0;\"/><ellipse cx=\"262.6045\" cy=\"477.6102\" fill=\"#181818\" rx=\"2\" ry=\"2\" style=\"stroke:#181818;stroke-width:1.0;\"/><ellipse cx=\"270.8641\" cy=\"483.2476\" fill=\"#181818\" rx=\"2\" ry=\"2\" style=\"stroke:#181818;stroke-width:1.0;\"/></a></g><!--MD5=[9120cf2e5df3bff93db8f754bbbc09b4]\n",
       "link E5 to E6--><g id=\"link_E5_E6\"><a href=\"psysml:8e017d7e-1da3-4c9b-9b63-350890040555\" target=\"_top\" title=\"psysml:8e017d7e-1da3-4c9b-9b63-350890040555\" xlink:actuate=\"onRequest\" xlink:href=\"psysml:8e017d7e-1da3-4c9b-9b63-350890040555\" xlink:show=\"new\" xlink:title=\"psysml:8e017d7e-1da3-4c9b-9b63-350890040555\" xlink:type=\"simple\"><path d=\"M335.27,132.14 C303.43,154.8 265.01,182.15 233.88,204.31 \" fill=\"none\" id=\"E5-to-E6\" style=\"stroke:#181818;stroke-width:1.0;\"/><polygon fill=\"#181818\" points=\"227.35,208.95,235.6091,206.7619,232.1338,201.8708,227.35,208.95\" style=\"stroke:#181818;stroke-width:1.0;\"/><text fill=\"#000000\" font-family=\"sans-serif\" font-size=\"13\" lengthAdjust=\"spacing\" textLength=\"73\" x=\"288\" y=\"175.0669\">«objective»</text></a></g><!--MD5=[452b418e7f8a40397a49b8c0a78acc5b]\n",
       "reverse link E5 to E7--><g id=\"link_E5_E7\"><a href=\"psysml:ae0ddffd-d94b-4ee5-a4cb-a499b90c2b96\" target=\"_top\" title=\"psysml:ae0ddffd-d94b-4ee5-a4cb-a499b90c2b96\" xlink:actuate=\"onRequest\" xlink:href=\"psysml:ae0ddffd-d94b-4ee5-a4cb-a499b90c2b96\" xlink:show=\"new\" xlink:title=\"psysml:ae0ddffd-d94b-4ee5-a4cb-a499b90c2b96\" xlink:type=\"simple\"><path d=\"M408.58,145.15 C413.49,171.92 419.06,202.22 422.77,222.46 \" fill=\"none\" id=\"E5-backto-E7\" style=\"stroke:#181818;stroke-width:1.0;\"/><polygon fill=\"#181818\" points=\"406.23,132.35,403.3769,138.9727,408.3929,144.1535,411.2459,137.5308,406.23,132.35\" style=\"stroke:#181818;stroke-width:1.0;\"/></a></g><!--MD5=[dc164f5e8a733ab456ef1add180e9e34]\n",
       "reverse link E7 to E8--><g id=\"link_E7_E8\"><a href=\"psysml:a8c82a2a-741b-4fac-ac9b-98beb228d3cb\" target=\"_top\" title=\"psysml:a8c82a2a-741b-4fac-ac9b-98beb228d3cb\" xlink:actuate=\"onRequest\" xlink:href=\"psysml:a8c82a2a-741b-4fac-ac9b-98beb228d3cb\" xlink:show=\"new\" xlink:title=\"psysml:a8c82a2a-741b-4fac-ac9b-98beb228d3cb\" xlink:type=\"simple\"><path d=\"M358.87,275.62 C351.83,278.47 344.78,281.31 338,284 C303.48,297.71 293.12,297.2 260,314 C214.48,337.09 165.54,370 134.62,391.9 \" fill=\"none\" id=\"E7-backto-E8\" style=\"stroke:#181818;stroke-width:1.0;\"/><polygon fill=\"none\" points=\"371.05,270.66,363.9849,269.2162,359.9348,275.1825,366.9999,276.6263,371.05,270.66\" style=\"stroke:#181818;stroke-width:1.0;\"/></a></g><!--MD5=[f1f3f9f2fc535e6147756cb86a7f2e32]\n",
       "link E8 to E2--><g id=\"link_E8_E2\"><a href=\"psysml:199cdd6b-9599-4ee9-8d7a-04a31416ec15\" target=\"_top\" title=\"psysml:199cdd6b-9599-4ee9-8d7a-04a31416ec15\" xlink:actuate=\"onRequest\" xlink:href=\"psysml:199cdd6b-9599-4ee9-8d7a-04a31416ec15\" xlink:show=\"new\" xlink:title=\"psysml:199cdd6b-9599-4ee9-8d7a-04a31416ec15\" xlink:type=\"simple\"><path d=\"M132.08,440.22 C149.64,454.24 172.38,472.4 192.2,488.22 \" fill=\"none\" id=\"E8-to-E2\" style=\"stroke:#181818;stroke-width:1.0;\"/><polygon fill=\"#FFFFFF\" points=\"207.98,500.83,188.7663,494.4397,197.5048,483.5017,207.98,500.83\" style=\"stroke:#181818;stroke-width:1.0;\"/><ellipse cx=\"185.5614\" cy=\"489.3194\" fill=\"#181818\" rx=\"2\" ry=\"2\" style=\"stroke:#181818;stroke-width:1.0;\"/><ellipse cx=\"191.8031\" cy=\"481.5065\" fill=\"#181818\" rx=\"2\" ry=\"2\" style=\"stroke:#181818;stroke-width:1.0;\"/></a></g><!--MD5=[9ae28de373ca99bb8a1b38d63370ca7e]\n",
       "reverse link E5 to E9--><g id=\"link_E5_E9\"><a href=\"psysml:549a8511-5afb-4107-9df8-0f136ad572ec\" target=\"_top\" title=\"psysml:549a8511-5afb-4107-9df8-0f136ad572ec\" xlink:actuate=\"onRequest\" xlink:href=\"psysml:549a8511-5afb-4107-9df8-0f136ad572ec\" xlink:show=\"new\" xlink:title=\"psysml:549a8511-5afb-4107-9df8-0f136ad572ec\" xlink:type=\"simple\"><path d=\"M465.82,140.94 C508.28,181.06 549.34,236.94 517,284 C507.92,297.22 495.04,307.14 480.77,314.59 \" fill=\"none\" id=\"E5-backto-E9\" style=\"stroke:#181818;stroke-width:1.0;\"/><polygon fill=\"none\" points=\"456.19,132.12,457.9105,139.1228,465.0364,140.2281,463.3159,133.2253,456.19,132.12\" style=\"stroke:#181818;stroke-width:1.0;\"/></a></g><!--MD5=[5c3bb36fe832a92c7f0e1807dd65209d]\n",
       "link E9 to E2--><g id=\"link_E9_E2\"><a href=\"psysml:94a3a0b9-9284-4132-a69a-1dbd276e1390\" target=\"_top\" title=\"psysml:94a3a0b9-9284-4132-a69a-1dbd276e1390\" xlink:actuate=\"onRequest\" xlink:href=\"psysml:94a3a0b9-9284-4132-a69a-1dbd276e1390\" xlink:show=\"new\" xlink:title=\"psysml:94a3a0b9-9284-4132-a69a-1dbd276e1390\" xlink:type=\"simple\"><path d=\"M277.25,355.97 C258.31,363.85 240.8,375.31 229,392 C210.88,417.62 214.39,453.5 221.59,481.39 \" fill=\"none\" id=\"E9-to-E2\" style=\"stroke:#181818;stroke-width:1.0;\"/><polygon fill=\"#FFFFFF\" points=\"227.53,500.86,215.2849,484.7337,228.6742,480.6439,227.53,500.86\" style=\"stroke:#181818;stroke-width:1.0;\"/><ellipse cx=\"215.5325\" cy=\"478.6981\" fill=\"#181818\" rx=\"2\" ry=\"2\" style=\"stroke:#181818;stroke-width:1.0;\"/><ellipse cx=\"225.0963\" cy=\"475.7768\" fill=\"#181818\" rx=\"2\" ry=\"2\" style=\"stroke:#181818;stroke-width:1.0;\"/></a></g><!--MD5=[20889280c3fc84c10dba3448a55749fc]\n",
       "@startuml\r\n",
       "skin sysmlbw\r\n",
       "skinparam monochrome true\r\n",
       "skinparam wrapWidth 300\r\n",
       "hide circle\r\n",
       "top to bottom direction\r\n",
       "\r\n",
       "package \"TradeStudyTest\" as E1  [[psysml:a91f55f8-3969-42e6-b46f-82de9da3fdc7 ]]  {\r\n",
       "comp def \"Engine\" as E2  <<(T,blue) part  def>> [[psysml:8055cf29-c4ca-4370-b025-bca5bf4f4944 ]] {\r\n",
       "}\r\n",
       "comp usage \"engine1: Engine  \" as E3  <<(T,blue) part>> [[psysml:479197b1-ce2e-480f-b2ef-7f257dc343b8 ]] {\r\n",
       "}\r\n",
       "comp usage \"engine2: Engine  \" as E4  <<(T,blue) part>> [[psysml:df8f9049-6917-4fa7-a1c9-f212538c9a4e ]] {\r\n",
       "}\r\n",
       "comp usage \"engineTradeStudy: TradeStudy  \" as E5  << analysis>> [[psysml:538ece1f-cb66-4e09-817f-0abcddd62ddd ]] {\r\n",
       "##//subject//##\r\n",
       "studyAlternatives: Engine <U+003D> (engine1, engine2)\r\n",
       "}\r\n",
       "comp usage \"tradeStudyObjective: MaximizeObjective  \" as E6  <<(T,blue) requirement>> [[psysml:4f755969-6586-456d-bfaa-2c124f0f3312 ]] {\r\n",
       "##//subject//##\r\n",
       "selectedAlternative\r\n",
       "}\r\n",
       "comp usage \"evaluationFunction  \" as E7  <<(T,blue) calculation>> [[psysml:f253b0d3-72ce-4ec1-aa97-c21cff35f053 ]] {\r\n",
       "}\r\n",
       "comp usage \"alternative: Engine  \" as E8  <<(T,blue) part>> [[psysml:753de58d-f4ea-44a5-91ee-5ffc5e7a177d ]] {\r\n",
       "}\r\n",
       "comp usage \"selectedAlternative: Engine  \" as E9  <<(T,blue) part>> [[psysml:76ff8411-b0e7-4dd9-89c0-3f2666988fc0 ]] {\r\n",
       "}\r\n",
       "}\r\n",
       "E3 - -:|> E2 [[psysml:bc3cf079-eae7-49ce-b297-ec132a977e50 ]] \r\n",
       "E4 - -:|> E2 [[psysml:aa1a99dc-dc69-45ac-b95f-3bcc471ea5d4 ]] \r\n",
       "E5 - ->> E6 [[psysml:8e017d7e-1da3-4c9b-9b63-350890040555 ]] : <<objective>>\r\n",
       "E5 *- - E7 [[psysml:ae0ddffd-d94b-4ee5-a4cb-a499b90c2b96 ]] \r\n",
       "E7 o- - E8 [[psysml:a8c82a2a-741b-4fac-ac9b-98beb228d3cb ]] \r\n",
       "E8 - -:|> E2 [[psysml:199cdd6b-9599-4ee9-8d7a-04a31416ec15 ]] \r\n",
       "E5 o- - E9 [[psysml:549a8511-5afb-4107-9df8-0f136ad572ec ]] \r\n",
       "E9 - -:|> E2 [[psysml:94a3a0b9-9284-4132-a69a-1dbd276e1390 ]] \r\n",
       "@enduml\r\n",
       "\n",
       "PlantUML version 1.2022.7(Mon Aug 22 17:01:30 UTC 2022)\n",
       "(EPL source distribution)\n",
       "Java Runtime: OpenJDK Runtime Environment\n",
       "JVM: OpenJDK 64-Bit Server VM\n",
       "Default Encoding: UTF-8\n",
       "Language: en\n",
       "Country: null\n",
       "--></g></svg>"
      ]
     },
     "execution_count": 45,
     "metadata": {},
     "output_type": "execute_result"
    }
   ],
   "source": [
    "%viz --style=\"TB\" --view=\"Tree\" \"TradeStudyTest\""
   ]
  },
  {
   "cell_type": "code",
   "execution_count": 46,
   "id": "dca47781",
   "metadata": {
    "execution": {
     "iopub.execute_input": "2024-12-16T14:21:10.526147Z",
     "iopub.status.busy": "2024-12-16T14:21:10.525733Z",
     "iopub.status.idle": "2024-12-16T14:21:10.531412Z",
     "shell.execute_reply": "2024-12-16T14:21:10.531214Z"
    }
   },
   "outputs": [
    {
     "data": {
      "image/svg+xml": [
       "<?xml version=\"1.0\" encoding=\"UTF-8\" standalone=\"no\"?><svg xmlns=\"http://www.w3.org/2000/svg\" xmlns:xlink=\"http://www.w3.org/1999/xlink\" contentStyleType=\"text/css\" height=\"10px\" preserveAspectRatio=\"none\" style=\"width:10px;height:10px;background:#FFFFFF;\" version=\"1.1\" viewBox=\"0 0 10 10\" width=\"10px\" zoomAndPan=\"magnify\"><defs/><g><!--MD5=[457d54036ad86991b1ebb71db2c9a3b1]\n",
       "@startuml\r\n",
       "skin sysmlbw\r\n",
       "skinparam monochrome true\r\n",
       "skinparam wrapWidth 300\r\n",
       "hide circle\r\n",
       "top to bottom direction\r\n",
       "\r\n",
       "@enduml\r\n",
       "\n",
       "PlantUML version 1.2022.7(Mon Aug 22 17:01:30 UTC 2022)\n",
       "(EPL source distribution)\n",
       "Java Runtime: OpenJDK Runtime Environment\n",
       "JVM: OpenJDK 64-Bit Server VM\n",
       "Default Encoding: UTF-8\n",
       "Language: en\n",
       "Country: null\n",
       "--></g></svg>"
      ]
     },
     "execution_count": 46,
     "metadata": {},
     "output_type": "execute_result"
    }
   ],
   "source": [
    "%viz --style=\"TB\" --view=\"State\" \"TradeStudyTest\""
   ]
  },
  {
   "cell_type": "code",
   "execution_count": 47,
   "id": "66e45d0f",
   "metadata": {
    "execution": {
     "iopub.execute_input": "2024-12-16T14:21:10.585134Z",
     "iopub.status.busy": "2024-12-16T14:21:10.584866Z",
     "iopub.status.idle": "2024-12-16T14:21:10.610226Z",
     "shell.execute_reply": "2024-12-16T14:21:10.609167Z"
    }
   },
   "outputs": [
    {
     "data": {
      "image/svg+xml": [
       "<?xml version=\"1.0\" encoding=\"UTF-8\" standalone=\"no\"?><svg xmlns=\"http://www.w3.org/2000/svg\" xmlns:xlink=\"http://www.w3.org/1999/xlink\" contentStyleType=\"text/css\" height=\"415px\" preserveAspectRatio=\"none\" style=\"width:565px;height:415px;background:#FFFFFF;\" version=\"1.1\" viewBox=\"0 0 565 415\" width=\"565px\" zoomAndPan=\"magnify\"><defs/><g><!--MD5=[fbc87193dbaf4d95561dea2c320d4a47]\n",
       "cluster E1--><g id=\"cluster_E1\"><a href=\"psysml:a91f55f8-3969-42e6-b46f-82de9da3fdc7\" target=\"_top\" title=\"psysml:a91f55f8-3969-42e6-b46f-82de9da3fdc7\" xlink:actuate=\"onRequest\" xlink:href=\"psysml:a91f55f8-3969-42e6-b46f-82de9da3fdc7\" xlink:show=\"new\" xlink:title=\"psysml:a91f55f8-3969-42e6-b46f-82de9da3fdc7\" xlink:type=\"simple\"><polygon fill=\"none\" points=\"16,6,138.125,6,145.125,28.2969,548,28.2969,548,408,16,408,16,6\" style=\"stroke:#000000;stroke-width:1.5;\"/><line style=\"stroke:#000000;stroke-width:1.5;\" x1=\"16\" x2=\"145.125\" y1=\"28.2969\" y2=\"28.2969\"/><text fill=\"#000000\" font-family=\"sans-serif\" font-size=\"14\" font-weight=\"bold\" lengthAdjust=\"spacing\" textLength=\"116.125\" x=\"20\" y=\"20.9951\">TradeStudyTest</text></a></g><!--MD5=[de5ec2e2e8f62f467e546659f5068c88]\n",
       "cluster E5--><g id=\"cluster_E5\"><a href=\"psysml:538ece1f-cb66-4e09-817f-0abcddd62ddd\" target=\"_top\" title=\"psysml:538ece1f-cb66-4e09-817f-0abcddd62ddd\" xlink:actuate=\"onRequest\" xlink:href=\"psysml:538ece1f-cb66-4e09-817f-0abcddd62ddd\" xlink:show=\"new\" xlink:title=\"psysml:538ece1f-cb66-4e09-817f-0abcddd62ddd\" xlink:type=\"simple\"><rect fill=\"#FFFFFF\" height=\"158\" id=\"E5\" rx=\"10\" ry=\"10\" style=\"stroke:#383838;stroke-width:1.5;\" width=\"250\" x=\"231\" y=\"57\"/><text fill=\"#000000\" font-family=\"sans-serif\" font-size=\"12\" font-style=\"italic\" lengthAdjust=\"spacing\" textLength=\"64\" x=\"324\" y=\"73.1387\">«analysis»</text><text fill=\"#000000\" font-family=\"sans-serif\" font-size=\"14\" lengthAdjust=\"spacing\" textLength=\"215\" x=\"244.5\" y=\"88.9639\">engineTradeStudy: TradeStudy</text><line style=\"stroke:#383838;stroke-width:1.0;\" x1=\"231\" x2=\"481\" y1=\"97.2656\" y2=\"97.2656\"/></a></g><!--MD5=[2156ba9850f5573cc1fc38a6a4b2f02b]\n",
       "class E7--><a href=\"psysml:f253b0d3-72ce-4ec1-aa97-c21cff35f053\" target=\"_top\" title=\"psysml:f253b0d3-72ce-4ec1-aa97-c21cff35f053\" xlink:actuate=\"onRequest\" xlink:href=\"psysml:f253b0d3-72ce-4ec1-aa97-c21cff35f053\" xlink:show=\"new\" xlink:title=\"psysml:f253b0d3-72ce-4ec1-aa97-c21cff35f053\" xlink:type=\"simple\"><g id=\"elem_E7\"><rect fill=\"#FFFFFF\" height=\"48.2656\" id=\"E7\" rx=\"10\" ry=\"10\" style=\"stroke:#181818;stroke-width:0.5;\" width=\"144\" x=\"150\" y=\"239\"/><text fill=\"#000000\" font-family=\"sans-serif\" font-size=\"12\" font-style=\"italic\" lengthAdjust=\"spacing\" textLength=\"82\" x=\"181\" y=\"255.1387\">«calculation»</text><text fill=\"#000000\" font-family=\"sans-serif\" font-size=\"14\" lengthAdjust=\"spacing\" textLength=\"130\" x=\"153\" y=\"270.9639\">evaluationFunction</text><line style=\"stroke:#181818;stroke-width:0.5;\" x1=\"151\" x2=\"293\" y1=\"279.2656\" y2=\"279.2656\"/></g></a><!--MD5=[b9389687b975829384b498ac4b7476b2]\n",
       "class E8--><a href=\"psysml:753de58d-f4ea-44a5-91ee-5ffc5e7a177d\" target=\"_top\" title=\"psysml:753de58d-f4ea-44a5-91ee-5ffc5e7a177d\" xlink:actuate=\"onRequest\" xlink:href=\"psysml:753de58d-f4ea-44a5-91ee-5ffc5e7a177d\" xlink:show=\"new\" xlink:title=\"psysml:753de58d-f4ea-44a5-91ee-5ffc5e7a177d\" xlink:type=\"simple\"><g id=\"elem_E8\"><rect fill=\"#FFFFFF\" height=\"34.2969\" id=\"E8\" rx=\"10\" ry=\"10\" style=\"stroke:#181818;stroke-width:0.5;\" width=\"142\" x=\"353\" y=\"300\"/><text fill=\"#000000\" font-family=\"sans-serif\" font-size=\"14\" lengthAdjust=\"spacing\" textLength=\"128\" x=\"356\" y=\"317.9951\">alternative: Engine</text><line style=\"stroke:#181818;stroke-width:0.5;\" x1=\"354\" x2=\"494\" y1=\"326.2969\" y2=\"326.2969\"/></g></a><!--MD5=[fd4143e9d270a159db93a4ea2a975926]\n",
       "class E9--><a href=\"psysml:76ff8411-b0e7-4dd9-89c0-3f2666988fc0\" target=\"_top\" title=\"psysml:76ff8411-b0e7-4dd9-89c0-3f2666988fc0\" xlink:actuate=\"onRequest\" xlink:href=\"psysml:76ff8411-b0e7-4dd9-89c0-3f2666988fc0\" xlink:show=\"new\" xlink:title=\"psysml:76ff8411-b0e7-4dd9-89c0-3f2666988fc0\" xlink:type=\"simple\"><g id=\"elem_E9\"><rect fill=\"#FFFFFF\" height=\"34.2969\" id=\"E9\" rx=\"10\" ry=\"10\" style=\"stroke:#181818;stroke-width:0.5;\" width=\"203\" x=\"329.5\" y=\"246\"/><text fill=\"#000000\" font-family=\"sans-serif\" font-size=\"14\" lengthAdjust=\"spacing\" textLength=\"189\" x=\"332.5\" y=\"263.9951\">selectedAlternative: Engine</text><line style=\"stroke:#181818;stroke-width:0.5;\" x1=\"330.5\" x2=\"531.5\" y1=\"272.2969\" y2=\"272.2969\"/></g></a><g><a href=\"psysml:8055cf29-c4ca-4370-b025-bca5bf4f4944\" target=\"_top\" title=\"psysml:8055cf29-c4ca-4370-b025-bca5bf4f4944\" xlink:actuate=\"onRequest\" xlink:href=\"psysml:8055cf29-c4ca-4370-b025-bca5bf4f4944\" xlink:show=\"new\" xlink:title=\"psysml:8055cf29-c4ca-4370-b025-bca5bf4f4944\" xlink:type=\"simple\"><rect fill=\"#FFFFFF\" height=\"45.2656\" id=\"E2\" style=\"stroke:#383838;stroke-width:1.5;\" width=\"75\" x=\"301.5\" y=\"347\"/><text fill=\"#000000\" font-family=\"sans-serif\" font-size=\"12\" font-style=\"italic\" lengthAdjust=\"spacing\" textLength=\"68\" x=\"305\" y=\"363.1387\">«part  def»</text><text fill=\"#000000\" font-family=\"sans-serif\" font-size=\"14\" lengthAdjust=\"spacing\" textLength=\"48\" x=\"315\" y=\"378.9639\">Engine</text></a></g><g><a href=\"psysml:479197b1-ce2e-480f-b2ef-7f257dc343b8\" target=\"_top\" title=\"psysml:479197b1-ce2e-480f-b2ef-7f257dc343b8\" xlink:actuate=\"onRequest\" xlink:href=\"psysml:479197b1-ce2e-480f-b2ef-7f257dc343b8\" xlink:show=\"new\" xlink:title=\"psysml:479197b1-ce2e-480f-b2ef-7f257dc343b8\" xlink:type=\"simple\"><rect fill=\"#FFFFFF\" height=\"40\" id=\"E3\" rx=\"10\" ry=\"10\" style=\"stroke:#383838;stroke-width:1.5;\" width=\"125\" x=\"192.5\" y=\"297\"/><text fill=\"#000000\" font-family=\"sans-serif\" font-size=\"14\" lengthAdjust=\"spacing\" textLength=\"114\" x=\"198\" y=\"314.9951\">engine1: Engine</text></a></g><g><a href=\"psysml:df8f9049-6917-4fa7-a1c9-f212538c9a4e\" target=\"_top\" title=\"psysml:df8f9049-6917-4fa7-a1c9-f212538c9a4e\" xlink:actuate=\"onRequest\" xlink:href=\"psysml:df8f9049-6917-4fa7-a1c9-f212538c9a4e\" xlink:show=\"new\" xlink:title=\"psysml:df8f9049-6917-4fa7-a1c9-f212538c9a4e\" xlink:type=\"simple\"><rect fill=\"#FFFFFF\" height=\"40\" id=\"E4\" rx=\"10\" ry=\"10\" style=\"stroke:#383838;stroke-width:1.5;\" width=\"125\" x=\"32.5\" y=\"297\"/><text fill=\"#000000\" font-family=\"sans-serif\" font-size=\"14\" lengthAdjust=\"spacing\" textLength=\"114\" x=\"38\" y=\"314.9951\">engine2: Engine</text></a></g><!--MD5=[60a26617385b1d2d0262a64233df1f8d]\n",
       "class E6--><a href=\"psysml:4f755969-6586-456d-bfaa-2c124f0f3312\" target=\"_top\" title=\"psysml:4f755969-6586-456d-bfaa-2c124f0f3312\" xlink:actuate=\"onRequest\" xlink:href=\"psysml:4f755969-6586-456d-bfaa-2c124f0f3312\" xlink:show=\"new\" xlink:title=\"psysml:4f755969-6586-456d-bfaa-2c124f0f3312\" xlink:type=\"simple\"><g id=\"elem_E6\"><rect fill=\"#FFFFFF\" height=\"75.0813\" id=\"E6\" rx=\"10\" ry=\"10\" style=\"stroke:#181818;stroke-width:0.5;\" width=\"145\" x=\"301.5\" y=\"116\"/><text fill=\"#000000\" font-family=\"sans-serif\" font-size=\"12\" font-style=\"italic\" lengthAdjust=\"spacing\" textLength=\"70\" x=\"339\" y=\"132.1387\">«objective»</text><text fill=\"#000000\" font-family=\"sans-serif\" font-size=\"14\" lengthAdjust=\"spacing\" textLength=\"139\" x=\"304.5\" y=\"147.9639\">tradeStudyObjective</text><line style=\"stroke:#181818;stroke-width:0.5;\" x1=\"302.5\" x2=\"445.5\" y1=\"156.2656\" y2=\"156.2656\"/><text fill=\"#000000\" font-family=\"sans-serif\" font-size=\"14\" lengthAdjust=\"spacing\" textLength=\"132\" x=\"307.5\" y=\"183.7795\">selectedAlternative</text><text fill=\"#000000\" font-family=\"sans-serif\" font-size=\"14\" font-style=\"italic\" lengthAdjust=\"spacing\" textLength=\"51\" x=\"348.5\" y=\"168.6123\">subject</text></g></a><!--MD5=[05d275557350bfb9b23a4ef7222b4c39]\n",
       "link E3 to E2--><g id=\"link_E3_E2\"><a href=\"psysml:bc3cf079-eae7-49ce-b297-ec132a977e50\" target=\"_top\" title=\"psysml:bc3cf079-eae7-49ce-b297-ec132a977e50\" xlink:actuate=\"onRequest\" xlink:href=\"psysml:bc3cf079-eae7-49ce-b297-ec132a977e50\" xlink:show=\"new\" xlink:title=\"psysml:bc3cf079-eae7-49ce-b297-ec132a977e50\" xlink:type=\"simple\"><path d=\"M286.76,337.09 C286.92,337.19 287.09,337.29 287.25,337.39 \" fill=\"none\" id=\"E3-to-E2\" style=\"stroke:#181818;stroke-width:1.0;\"/><polygon fill=\"#FFFFFF\" points=\"302.97,346.84,283.0785,343.0548,290.2888,331.0544,302.97,346.84\" style=\"stroke:#181818;stroke-width:1.0;\"/><ellipse cx=\"279.2226\" cy=\"338.4049\" fill=\"#181818\" rx=\"2\" ry=\"2\" style=\"stroke:#181818;stroke-width:1.0;\"/><ellipse cx=\"284.3728\" cy=\"329.8331\" fill=\"#181818\" rx=\"2\" ry=\"2\" style=\"stroke:#181818;stroke-width:1.0;\"/></a></g><!--MD5=[185131fc0dcab0a4505a2ebe144e961b]\n",
       "link E4 to E2--><g id=\"link_E4_E2\"><a href=\"psysml:aa1a99dc-dc69-45ac-b95f-3bcc471ea5d4\" target=\"_top\" title=\"psysml:aa1a99dc-dc69-45ac-b95f-3bcc471ea5d4\" xlink:actuate=\"onRequest\" xlink:href=\"psysml:aa1a99dc-dc69-45ac-b95f-3bcc471ea5d4\" xlink:show=\"new\" xlink:title=\"psysml:aa1a99dc-dc69-45ac-b95f-3bcc471ea5d4\" xlink:type=\"simple\"><path d=\"M157.83,333.19 C163.63,334.51 169.42,335.8 175,337 C210.29,344.58 250.05,352.23 281.58,358.1 \" fill=\"none\" id=\"E4-to-E2\" style=\"stroke:#181818;stroke-width:1.0;\"/><polygon fill=\"#FFFFFF\" points=\"301.45,361.77,281.4974,365.2187,284.0291,351.4495,301.45,361.77\" style=\"stroke:#181818;stroke-width:1.0;\"/><ellipse cx=\"276.253\" cy=\"362.2209\" fill=\"#181818\" rx=\"2\" ry=\"2\" style=\"stroke:#181818;stroke-width:1.0;\"/><ellipse cx=\"278.0614\" cy=\"352.3858\" fill=\"#181818\" rx=\"2\" ry=\"2\" style=\"stroke:#181818;stroke-width:1.0;\"/></a></g><!--MD5=[452b418e7f8a40397a49b8c0a78acc5b]\n",
       "reverse link E5 to E7--><g id=\"link_E5_E7\"><a href=\"psysml:ae0ddffd-d94b-4ee5-a4cb-a499b90c2b96\" target=\"_top\" title=\"psysml:ae0ddffd-d94b-4ee5-a4cb-a499b90c2b96\" xlink:actuate=\"onRequest\" xlink:href=\"psysml:ae0ddffd-d94b-4ee5-a4cb-a499b90c2b96\" xlink:show=\"new\" xlink:title=\"psysml:ae0ddffd-d94b-4ee5-a4cb-a499b90c2b96\" xlink:type=\"simple\"><path d=\"M237.286,215.0586 C237.2396,215.2013 237.1932,215.3439 237.1468,215.4865 C237.0539,215.7716 236.9612,216.0564 236.8686,216.3409 C236.4981,217.4789 236.1292,218.612 235.7626,219.738 C235.0295,221.99 234.3055,224.2138 233.5962,226.3926 C232.1775,230.7502 230.8175,234.9275 229.56,238.79 \" fill=\"none\" id=\"E5-backto-E7\" style=\"stroke:#181818;stroke-width:1.0;\"/><polygon fill=\"#181818\" points=\"237.286,215.0586,231.6251,219.5256,233.5713,226.4692,239.2322,222.0022,237.286,215.0586\" style=\"stroke:#181818;stroke-width:1.0;\"/></a></g><!--MD5=[dc164f5e8a733ab456ef1add180e9e34]\n",
       "reverse link E7 to E8--><g id=\"link_E7_E8\"><a href=\"psysml:a8c82a2a-741b-4fac-ac9b-98beb228d3cb\" target=\"_top\" title=\"psysml:a8c82a2a-741b-4fac-ac9b-98beb228d3cb\" xlink:actuate=\"onRequest\" xlink:href=\"psysml:a8c82a2a-741b-4fac-ac9b-98beb228d3cb\" xlink:show=\"new\" xlink:title=\"psysml:a8c82a2a-741b-4fac-ac9b-98beb228d3cb\" xlink:type=\"simple\"><path d=\"M306.68,285.8 C325.11,290.54 344.29,295.48 361.66,299.95 \" fill=\"none\" id=\"E7-backto-E8\" style=\"stroke:#181818;stroke-width:1.0;\"/><polygon fill=\"none\" points=\"294.07,282.55,298.8822,287.9206,305.6905,285.5441,300.8783,280.1736,294.07,282.55\" style=\"stroke:#181818;stroke-width:1.0;\"/></a></g><!--MD5=[f1f3f9f2fc535e6147756cb86a7f2e32]\n",
       "link E8 to E2--><g id=\"link_E8_E2\"><a href=\"psysml:199cdd6b-9599-4ee9-8d7a-04a31416ec15\" target=\"_top\" title=\"psysml:199cdd6b-9599-4ee9-8d7a-04a31416ec15\" xlink:actuate=\"onRequest\" xlink:href=\"psysml:199cdd6b-9599-4ee9-8d7a-04a31416ec15\" xlink:show=\"new\" xlink:title=\"psysml:199cdd6b-9599-4ee9-8d7a-04a31416ec15\" xlink:type=\"simple\"><path d=\"M396.64,334.26 C395.36,335.01 394.07,335.78 392.76,336.56 \" fill=\"none\" id=\"E8-to-E2\" style=\"stroke:#181818;stroke-width:1.0;\"/><polygon fill=\"#FFFFFF\" points=\"375.31,346.93,388.0569,331.1973,395.2171,343.2277,375.31,346.93\" style=\"stroke:#181818;stroke-width:1.0;\"/><ellipse cx=\"393.9779\" cy=\"330.0007\" fill=\"#181818\" rx=\"2\" ry=\"2\" style=\"stroke:#181818;stroke-width:1.0;\"/><ellipse cx=\"399.0923\" cy=\"338.5939\" fill=\"#181818\" rx=\"2\" ry=\"2\" style=\"stroke:#181818;stroke-width:1.0;\"/></a></g><!--MD5=[9ae28de373ca99bb8a1b38d63370ca7e]\n",
       "reverse link E5 to E9--><g id=\"link_E5_E9\"><a href=\"psysml:549a8511-5afb-4107-9df8-0f136ad572ec\" target=\"_top\" title=\"psysml:549a8511-5afb-4107-9df8-0f136ad572ec\" xlink:actuate=\"onRequest\" xlink:href=\"psysml:549a8511-5afb-4107-9df8-0f136ad572ec\" xlink:show=\"new\" xlink:title=\"psysml:549a8511-5afb-4107-9df8-0f136ad572ec\" xlink:type=\"simple\"><path d=\"M272.3761,215.329 C272.4455,215.4489 272.5152,215.5686 272.5853,215.688 C273.7058,217.6 274.9069,219.4598 276.1942,221.2495 C278.7689,224.8289 281.6888,228.1275 285,231 C287.75,233.39 316.28,239.66 347.4,245.95 \" fill=\"none\" id=\"E5-backto-E9\" style=\"stroke:#181818;stroke-width:1.0;\"/><polygon fill=\"none\" points=\"272.3761,215.329,271.9203,222.5256,278.3881,225.7143,278.8439,218.5177,272.3761,215.329\" style=\"stroke:#181818;stroke-width:1.0;\"/></a></g><!--MD5=[5c3bb36fe832a92c7f0e1807dd65209d]\n",
       "link E9 to E2--><g id=\"link_E9_E2\"><a href=\"psysml:94a3a0b9-9284-4132-a69a-1dbd276e1390\" target=\"_top\" title=\"psysml:94a3a0b9-9284-4132-a69a-1dbd276e1390\" xlink:actuate=\"onRequest\" xlink:href=\"psysml:94a3a0b9-9284-4132-a69a-1dbd276e1390\" xlink:show=\"new\" xlink:title=\"psysml:94a3a0b9-9284-4132-a69a-1dbd276e1390\" xlink:type=\"simple\"><path d=\"M494.53,280.15 C501.8,284.49 508.28,290.01 513,297 C522.95,311.73 524.4,323.36 513,337 C498.3,354.59 441.54,362.38 396.79,365.82 \" fill=\"none\" id=\"E9-to-E2\" style=\"stroke:#181818;stroke-width:1.0;\"/><polygon fill=\"#FFFFFF\" points=\"376.64,367.14,395.1389,358.9066,396.0589,372.8763,376.64,367.14\" style=\"stroke:#181818;stroke-width:1.0;\"/><ellipse cx=\"400.958\" cy=\"360.5277\" fill=\"#181818\" rx=\"2\" ry=\"2\" style=\"stroke:#181818;stroke-width:1.0;\"/><ellipse cx=\"401.6152\" cy=\"370.5061\" fill=\"#181818\" rx=\"2\" ry=\"2\" style=\"stroke:#181818;stroke-width:1.0;\"/></a></g><!--MD5=[8c3ae52e286450d6415e9c22a0ef23a0]\n",
       "@startuml\r\n",
       "skin sysmlbw\r\n",
       "skinparam monochrome true\r\n",
       "skinparam wrapWidth 300\r\n",
       "hide circle\r\n",
       "top to bottom direction\r\n",
       "skinparam ranksep 10\r\n",
       "skinparam rectangle {\r\n",
       " backgroundColor<<block>> LightGreen\r\n",
       "}\r\n",
       "\r\n",
       "package \"TradeStudyTest\" as E1  [[psysml:a91f55f8-3969-42e6-b46f-82de9da3fdc7 ]]  {\r\n",
       "rec def \"Engine\" as E2  <<(T,blue) part  def>> [[psysml:8055cf29-c4ca-4370-b025-bca5bf4f4944 ]] {\r\n",
       "}\r\n",
       "rec usage \"engine1: Engine\" as E3 [[psysml:479197b1-ce2e-480f-b2ef-7f257dc343b8 ]] {\r\n",
       "}\r\n",
       "rec usage \"engine2: Engine\" as E4 [[psysml:df8f9049-6917-4fa7-a1c9-f212538c9a4e ]] {\r\n",
       "}\r\n",
       "rec usage \"engineTradeStudy: TradeStudy  \" as E5  << analysis>> [[psysml:538ece1f-cb66-4e09-817f-0abcddd62ddd ]] {\r\n",
       "comp usage \"tradeStudyObjective\" as E6  <<objective>> [[psysml:4f755969-6586-456d-bfaa-2c124f0f3312 ]] {\r\n",
       "##//subject//##\r\n",
       "selectedAlternative\r\n",
       "}\r\n",
       "}\r\n",
       "comp usage \"evaluationFunction  \" as E7  <<(T,blue) calculation>> [[psysml:f253b0d3-72ce-4ec1-aa97-c21cff35f053 ]] {\r\n",
       "}\r\n",
       "comp usage \"alternative: Engine  \" as E8 [[psysml:753de58d-f4ea-44a5-91ee-5ffc5e7a177d ]] {\r\n",
       "}\r\n",
       "comp usage \"selectedAlternative: Engine  \" as E9 [[psysml:76ff8411-b0e7-4dd9-89c0-3f2666988fc0 ]] {\r\n",
       "}\r\n",
       "}\r\n",
       "E3 - -:|> E2 [[psysml:bc3cf079-eae7-49ce-b297-ec132a977e50 ]] \r\n",
       "E4 - -:|> E2 [[psysml:aa1a99dc-dc69-45ac-b95f-3bcc471ea5d4 ]] \r\n",
       "E5 *- - E7 [[psysml:ae0ddffd-d94b-4ee5-a4cb-a499b90c2b96 ]] \r\n",
       "E7 o- - E8 [[psysml:a8c82a2a-741b-4fac-ac9b-98beb228d3cb ]] \r\n",
       "E8 - -:|> E2 [[psysml:199cdd6b-9599-4ee9-8d7a-04a31416ec15 ]] \r\n",
       "E5 o- - E9 [[psysml:549a8511-5afb-4107-9df8-0f136ad572ec ]] \r\n",
       "E9 - -:|> E2 [[psysml:94a3a0b9-9284-4132-a69a-1dbd276e1390 ]] \r\n",
       "@enduml\r\n",
       "\n",
       "PlantUML version 1.2022.7(Mon Aug 22 17:01:30 UTC 2022)\n",
       "(EPL source distribution)\n",
       "Java Runtime: OpenJDK Runtime Environment\n",
       "JVM: OpenJDK 64-Bit Server VM\n",
       "Default Encoding: UTF-8\n",
       "Language: en\n",
       "Country: null\n",
       "--></g></svg>"
      ]
     },
     "execution_count": 47,
     "metadata": {},
     "output_type": "execute_result"
    }
   ],
   "source": [
    "%viz --style=\"TB\" --view=\"Interconnection\" \"TradeStudyTest\""
   ]
  },
  {
   "cell_type": "code",
   "execution_count": 48,
   "id": "bf66b570",
   "metadata": {
    "execution": {
     "iopub.execute_input": "2024-12-16T14:21:10.660436Z",
     "iopub.status.busy": "2024-12-16T14:21:10.660213Z",
     "iopub.status.idle": "2024-12-16T14:21:10.675909Z",
     "shell.execute_reply": "2024-12-16T14:21:10.675738Z"
    }
   },
   "outputs": [
    {
     "data": {
      "image/svg+xml": [
       "<?xml version=\"1.0\" encoding=\"UTF-8\" standalone=\"no\"?><svg xmlns=\"http://www.w3.org/2000/svg\" xmlns:xlink=\"http://www.w3.org/1999/xlink\" contentStyleType=\"text/css\" height=\"222px\" preserveAspectRatio=\"none\" style=\"width:448px;height:222px;background:#FFFFFF;\" version=\"1.1\" viewBox=\"0 0 448 222\" width=\"448px\" zoomAndPan=\"magnify\"><defs/><g><!--MD5=[fbc87193dbaf4d95561dea2c320d4a47]\n",
       "cluster E1--><g id=\"cluster_E1\"><a href=\"psysml:538ece1f-cb66-4e09-817f-0abcddd62ddd\" target=\"_top\" title=\"psysml:538ece1f-cb66-4e09-817f-0abcddd62ddd\" xlink:actuate=\"onRequest\" xlink:href=\"psysml:538ece1f-cb66-4e09-817f-0abcddd62ddd\" xlink:show=\"new\" xlink:title=\"psysml:538ece1f-cb66-4e09-817f-0abcddd62ddd\" xlink:type=\"simple\"><rect fill=\"#FFFFFF\" height=\"174.36\" id=\"E1\" rx=\"10\" ry=\"10\" style=\"stroke:#383838;stroke-width:1.5;\" width=\"328\" x=\"47\" y=\"42.0986\"/><text fill=\"#000000\" font-family=\"sans-serif\" font-size=\"12\" font-style=\"italic\" lengthAdjust=\"spacing\" textLength=\"64\" x=\"179\" y=\"58.2373\">«analysis»</text><text fill=\"#000000\" font-family=\"sans-serif\" font-size=\"14\" lengthAdjust=\"spacing\" textLength=\"127\" x=\"147.5\" y=\"74.0625\">engineTradeStudy</text><line style=\"stroke:#383838;stroke-width:1.0;\" x1=\"47\" x2=\"375\" y1=\"82.3643\" y2=\"82.3643\"/></a></g><!--MD5=[d5e69f78d87373223dbae638b30a9c99]\n",
       "cluster E3--><g id=\"cluster_E3\"><a href=\"psysml:f253b0d3-72ce-4ec1-aa97-c21cff35f053\" target=\"_top\" title=\"psysml:f253b0d3-72ce-4ec1-aa97-c21cff35f053\" xlink:actuate=\"onRequest\" xlink:href=\"psysml:f253b0d3-72ce-4ec1-aa97-c21cff35f053\" xlink:show=\"new\" xlink:title=\"psysml:f253b0d3-72ce-4ec1-aa97-c21cff35f053\" xlink:type=\"simple\"><rect fill=\"#FFFFFF\" height=\"104.86\" id=\"E3\" rx=\"10\" ry=\"10\" style=\"stroke:#383838;stroke-width:1.5;\" width=\"186\" x=\"148\" y=\"81.5986\"/><text fill=\"#000000\" font-family=\"sans-serif\" font-size=\"12\" font-style=\"italic\" lengthAdjust=\"spacing\" textLength=\"82\" x=\"200\" y=\"97.7373\">«calculation»</text><text fill=\"#000000\" font-family=\"sans-serif\" font-size=\"14\" lengthAdjust=\"spacing\" textLength=\"130\" x=\"176\" y=\"113.5625\">evaluationFunction</text><line style=\"stroke:#383838;stroke-width:1.0;\" x1=\"148\" x2=\"334\" y1=\"121.8643\" y2=\"121.8643\"/></a></g><text fill=\"#000000\" font-family=\"sans-serif\" font-size=\"14\" lengthAdjust=\"spacing\" textLength=\"118\" x=\"6\" y=\"20.7969\">studyAlternatives</text><rect fill=\"#FFFFFF\" height=\"12\" style=\"stroke:#181818;stroke-width:1.5;\" width=\"12\" x=\"59\" y=\"36.0986\"/><text fill=\"#000000\" font-family=\"sans-serif\" font-size=\"14\" lengthAdjust=\"spacing\" textLength=\"132\" x=\"309\" y=\"183.0938\">selectedAlternative</text><rect fill=\"#FFFFFF\" height=\"12\" style=\"stroke:#181818;stroke-width:1.5;\" width=\"12\" x=\"369\" y=\"158.0986\"/><text fill=\"#000000\" font-family=\"sans-serif\" font-size=\"14\" lengthAdjust=\"spacing\" textLength=\"71\" x=\"205.5\" y=\"60.2969\">alternative</text><rect fill=\"#FFFFFF\" height=\"12\" style=\"stroke:#181818;stroke-width:1.5;\" width=\"12\" x=\"235\" y=\"75.5986\"/><text fill=\"#000000\" font-family=\"sans-serif\" font-size=\"14\" lengthAdjust=\"spacing\" textLength=\"39\" x=\"221.5\" y=\"205.4538\">result</text><rect fill=\"#FFFFFF\" height=\"12\" style=\"stroke:#181818;stroke-width:1.5;\" width=\"12\" x=\"235\" y=\"180.4586\"/><!--MD5=[da6ccdfe4c045eec3c96e21b4475855e]\n",
       "@startuml\r\n",
       "skin sysmlbw\r\n",
       "skinparam monochrome true\r\n",
       "skinparam wrapWidth 300\r\n",
       "hide circle\r\n",
       "top to bottom direction\r\n",
       "skinparam ranksep 8\r\n",
       "\r\n",
       "rec usage \"engineTradeStudy\" as E1  << analysis>> [[psysml:538ece1f-cb66-4e09-817f-0abcddd62ddd ]] {\r\n",
       "portin \"studyAlternatives\" as E2  [[psysml:44e81398-f8fc-476c-9aa8-f3c568baa242 ]] \r\n",
       "rec usage \"evaluationFunction\" as E3  <<(T,blue) calculation>> [[psysml:f253b0d3-72ce-4ec1-aa97-c21cff35f053 ]] {\r\n",
       "portin \"alternative\" as E4  [[psysml:753de58d-f4ea-44a5-91ee-5ffc5e7a177d ]] \r\n",
       "portout \"result\" as E5  [[psysml:523b4531-6566-4396-be10-86694663e2d0 ]] \r\n",
       "}\r\n",
       "\r\n",
       "portout \"selectedAlternative\" as E6  [[psysml:76ff8411-b0e7-4dd9-89c0-3f2666988fc0 ]] \r\n",
       "}\r\n",
       "\r\n",
       "@enduml\r\n",
       "\n",
       "PlantUML version 1.2022.7(Mon Aug 22 17:01:30 UTC 2022)\n",
       "(EPL source distribution)\n",
       "Java Runtime: OpenJDK Runtime Environment\n",
       "JVM: OpenJDK 64-Bit Server VM\n",
       "Default Encoding: UTF-8\n",
       "Language: en\n",
       "Country: null\n",
       "--></g></svg>"
      ]
     },
     "execution_count": 48,
     "metadata": {},
     "output_type": "execute_result"
    }
   ],
   "source": [
    "%viz --style=\"TB\" --view=\"Action\" \"TradeStudyTest\""
   ]
  },
  {
   "cell_type": "code",
   "execution_count": 49,
   "id": "37220415",
   "metadata": {
    "execution": {
     "iopub.execute_input": "2024-12-16T14:21:10.727743Z",
     "iopub.status.busy": "2024-12-16T14:21:10.727489Z",
     "iopub.status.idle": "2024-12-16T14:21:10.733647Z",
     "shell.execute_reply": "2024-12-16T14:21:10.733425Z"
    }
   },
   "outputs": [
    {
     "data": {
      "image/svg+xml": [
       "<?xml version=\"1.0\" encoding=\"UTF-8\" standalone=\"no\"?><svg xmlns=\"http://www.w3.org/2000/svg\" xmlns:xlink=\"http://www.w3.org/1999/xlink\" contentStyleType=\"text/css\" height=\"10px\" preserveAspectRatio=\"none\" style=\"width:10px;height:10px;background:#FFFFFF;\" version=\"1.1\" viewBox=\"0 0 10 10\" width=\"10px\" zoomAndPan=\"magnify\"><defs/><g><!--MD5=[228a58293b408a2cee091b1559da5a28]\n",
       "@startuml\r\n",
       "skin sysmlbw\r\n",
       "skinparam monochrome true\r\n",
       "skinparam wrapWidth 300\r\n",
       "hide circle\r\n",
       "top to bottom direction\r\n",
       "skinparam roundcorner 20\r\n",
       "skinparam BoxPadding 20\r\n",
       "skinparam SequenceBoxBackgroundColor #white\r\n",
       "skinparam style strictuml\r\n",
       "skinparam maxMessageSize 100\r\n",
       "\r\n",
       "@enduml\r\n",
       "\n",
       "PlantUML version 1.2022.7(Mon Aug 22 17:01:30 UTC 2022)\n",
       "(EPL source distribution)\n",
       "Java Runtime: OpenJDK Runtime Environment\n",
       "JVM: OpenJDK 64-Bit Server VM\n",
       "Default Encoding: UTF-8\n",
       "Language: en\n",
       "Country: null\n",
       "--></g></svg>"
      ]
     },
     "execution_count": 49,
     "metadata": {},
     "output_type": "execute_result"
    }
   ],
   "source": [
    "%viz --style=\"TB\" --view=\"Sequence\" \"TradeStudyTest\""
   ]
  },
  {
   "cell_type": "code",
   "execution_count": 50,
   "id": "20705226",
   "metadata": {
    "execution": {
     "iopub.execute_input": "2024-12-16T14:21:10.788859Z",
     "iopub.status.busy": "2024-12-16T14:21:10.788594Z",
     "iopub.status.idle": "2024-12-16T14:21:10.814249Z",
     "shell.execute_reply": "2024-12-16T14:21:10.813350Z"
    }
   },
   "outputs": [
    {
     "data": {
      "image/svg+xml": [
       "<?xml version=\"1.0\" encoding=\"UTF-8\" standalone=\"no\"?><svg xmlns=\"http://www.w3.org/2000/svg\" xmlns:xlink=\"http://www.w3.org/1999/xlink\" contentStyleType=\"text/css\" height=\"538px\" preserveAspectRatio=\"none\" style=\"width:570px;height:538px;background:#FFFFFF;\" version=\"1.1\" viewBox=\"0 0 570 538\" width=\"570px\" zoomAndPan=\"magnify\"><defs/><g><!--MD5=[fbc87193dbaf4d95561dea2c320d4a47]\n",
       "cluster E1--><g id=\"cluster_E1\"><a href=\"psysml:a91f55f8-3969-42e6-b46f-82de9da3fdc7\" target=\"_top\" title=\"psysml:a91f55f8-3969-42e6-b46f-82de9da3fdc7\" xlink:actuate=\"onRequest\" xlink:href=\"psysml:a91f55f8-3969-42e6-b46f-82de9da3fdc7\" xlink:show=\"new\" xlink:title=\"psysml:a91f55f8-3969-42e6-b46f-82de9da3fdc7\" xlink:type=\"simple\"><polygon fill=\"none\" points=\"16,6,138.125,6,145.125,28.2969,553,28.2969,553,531,16,531,16,6\" style=\"stroke:#000000;stroke-width:1.5;\"/><line style=\"stroke:#000000;stroke-width:1.5;\" x1=\"16\" x2=\"145.125\" y1=\"28.2969\" y2=\"28.2969\"/><text fill=\"#000000\" font-family=\"sans-serif\" font-size=\"14\" font-weight=\"bold\" lengthAdjust=\"spacing\" textLength=\"116.125\" x=\"20\" y=\"20.9951\">TradeStudyTest</text></a></g><!--MD5=[de5ec2e2e8f62f467e546659f5068c88]\n",
       "cluster E5--><g id=\"cluster_E5\"><a href=\"psysml:538ece1f-cb66-4e09-817f-0abcddd62ddd\" target=\"_top\" title=\"psysml:538ece1f-cb66-4e09-817f-0abcddd62ddd\" xlink:actuate=\"onRequest\" xlink:href=\"psysml:538ece1f-cb66-4e09-817f-0abcddd62ddd\" xlink:show=\"new\" xlink:title=\"psysml:538ece1f-cb66-4e09-817f-0abcddd62ddd\" xlink:type=\"simple\"><rect fill=\"#FFFFFF\" height=\"158\" id=\"E5\" rx=\"10\" ry=\"10\" style=\"stroke:#383838;stroke-width:1.5;\" width=\"250\" x=\"236\" y=\"57\"/><text fill=\"#000000\" font-family=\"sans-serif\" font-size=\"12\" font-style=\"italic\" lengthAdjust=\"spacing\" textLength=\"64\" x=\"329\" y=\"73.1387\">«analysis»</text><text fill=\"#000000\" font-family=\"sans-serif\" font-size=\"14\" lengthAdjust=\"spacing\" textLength=\"215\" x=\"249.5\" y=\"88.9639\">engineTradeStudy: TradeStudy</text><line style=\"stroke:#383838;stroke-width:1.0;\" x1=\"236\" x2=\"486\" y1=\"97.2656\" y2=\"97.2656\"/></a></g><!--MD5=[b4997ac47864f28c2f74865a473b2911]\n",
       "class E2--><a href=\"psysml:8055cf29-c4ca-4370-b025-bca5bf4f4944\" target=\"_top\" title=\"psysml:8055cf29-c4ca-4370-b025-bca5bf4f4944\" xlink:actuate=\"onRequest\" xlink:href=\"psysml:8055cf29-c4ca-4370-b025-bca5bf4f4944\" xlink:show=\"new\" xlink:title=\"psysml:8055cf29-c4ca-4370-b025-bca5bf4f4944\" xlink:type=\"simple\"><g id=\"elem_E2\"><rect fill=\"#FFFFFF\" height=\"48.2656\" id=\"E2\" style=\"stroke:#181818;stroke-width:0.5;\" width=\"70\" x=\"309\" y=\"467\"/><text fill=\"#000000\" font-family=\"sans-serif\" font-size=\"12\" font-style=\"italic\" lengthAdjust=\"spacing\" textLength=\"68\" x=\"310\" y=\"483.1387\">«part  def»</text><text fill=\"#000000\" font-family=\"sans-serif\" font-size=\"14\" lengthAdjust=\"spacing\" textLength=\"48\" x=\"320\" y=\"498.9639\">Engine</text><line style=\"stroke:#181818;stroke-width:0.5;\" x1=\"310\" x2=\"378\" y1=\"507.2656\" y2=\"507.2656\"/></g></a><!--MD5=[09b614a08d8cba4a07c9adeb5e0fee81]\n",
       "class E3--><a href=\"psysml:479197b1-ce2e-480f-b2ef-7f257dc343b8\" target=\"_top\" title=\"psysml:479197b1-ce2e-480f-b2ef-7f257dc343b8\" xlink:actuate=\"onRequest\" xlink:href=\"psysml:479197b1-ce2e-480f-b2ef-7f257dc343b8\" xlink:show=\"new\" xlink:title=\"psysml:479197b1-ce2e-480f-b2ef-7f257dc343b8\" xlink:type=\"simple\"><g id=\"elem_E3\"><rect fill=\"#FFFFFF\" height=\"48.2656\" id=\"E3\" rx=\"10\" ry=\"10\" style=\"stroke:#181818;stroke-width:0.5;\" width=\"128\" x=\"195\" y=\"359\"/><text fill=\"#000000\" font-family=\"sans-serif\" font-size=\"12\" font-style=\"italic\" lengthAdjust=\"spacing\" textLength=\"40\" x=\"239\" y=\"375.1387\">«part»</text><text fill=\"#000000\" font-family=\"sans-serif\" font-size=\"14\" lengthAdjust=\"spacing\" textLength=\"114\" x=\"198\" y=\"390.9639\">engine1: Engine</text><line style=\"stroke:#181818;stroke-width:0.5;\" x1=\"196\" x2=\"322\" y1=\"399.2656\" y2=\"399.2656\"/></g></a><!--MD5=[ebbe1d658d1005bcc118a6aa81145e00]\n",
       "class E4--><a href=\"psysml:df8f9049-6917-4fa7-a1c9-f212538c9a4e\" target=\"_top\" title=\"psysml:df8f9049-6917-4fa7-a1c9-f212538c9a4e\" xlink:actuate=\"onRequest\" xlink:href=\"psysml:df8f9049-6917-4fa7-a1c9-f212538c9a4e\" xlink:show=\"new\" xlink:title=\"psysml:df8f9049-6917-4fa7-a1c9-f212538c9a4e\" xlink:type=\"simple\"><g id=\"elem_E4\"><rect fill=\"#FFFFFF\" height=\"48.2656\" id=\"E4\" rx=\"10\" ry=\"10\" style=\"stroke:#181818;stroke-width:0.5;\" width=\"128\" x=\"32\" y=\"359\"/><text fill=\"#000000\" font-family=\"sans-serif\" font-size=\"12\" font-style=\"italic\" lengthAdjust=\"spacing\" textLength=\"40\" x=\"76\" y=\"375.1387\">«part»</text><text fill=\"#000000\" font-family=\"sans-serif\" font-size=\"14\" lengthAdjust=\"spacing\" textLength=\"114\" x=\"35\" y=\"390.9639\">engine2: Engine</text><line style=\"stroke:#181818;stroke-width:0.5;\" x1=\"33\" x2=\"159\" y1=\"399.2656\" y2=\"399.2656\"/></g></a><!--MD5=[2156ba9850f5573cc1fc38a6a4b2f02b]\n",
       "class E7--><a href=\"psysml:f253b0d3-72ce-4ec1-aa97-c21cff35f053\" target=\"_top\" title=\"psysml:f253b0d3-72ce-4ec1-aa97-c21cff35f053\" xlink:actuate=\"onRequest\" xlink:href=\"psysml:f253b0d3-72ce-4ec1-aa97-c21cff35f053\" xlink:show=\"new\" xlink:title=\"psysml:f253b0d3-72ce-4ec1-aa97-c21cff35f053\" xlink:type=\"simple\"><g id=\"elem_E7\"><rect fill=\"#FFFFFF\" height=\"48.2656\" id=\"E7\" rx=\"10\" ry=\"10\" style=\"stroke:#181818;stroke-width:0.5;\" width=\"144\" x=\"155\" y=\"251\"/><text fill=\"#000000\" font-family=\"sans-serif\" font-size=\"12\" font-style=\"italic\" lengthAdjust=\"spacing\" textLength=\"82\" x=\"186\" y=\"267.1387\">«calculation»</text><text fill=\"#000000\" font-family=\"sans-serif\" font-size=\"14\" lengthAdjust=\"spacing\" textLength=\"130\" x=\"158\" y=\"282.9639\">evaluationFunction</text><line style=\"stroke:#181818;stroke-width:0.5;\" x1=\"156\" x2=\"298\" y1=\"291.2656\" y2=\"291.2656\"/></g></a><!--MD5=[b9389687b975829384b498ac4b7476b2]\n",
       "class E8--><a href=\"psysml:753de58d-f4ea-44a5-91ee-5ffc5e7a177d\" target=\"_top\" title=\"psysml:753de58d-f4ea-44a5-91ee-5ffc5e7a177d\" xlink:actuate=\"onRequest\" xlink:href=\"psysml:753de58d-f4ea-44a5-91ee-5ffc5e7a177d\" xlink:show=\"new\" xlink:title=\"psysml:753de58d-f4ea-44a5-91ee-5ffc5e7a177d\" xlink:type=\"simple\"><g id=\"elem_E8\"><rect fill=\"#FFFFFF\" height=\"48.2656\" id=\"E8\" rx=\"10\" ry=\"10\" style=\"stroke:#181818;stroke-width:0.5;\" width=\"142\" x=\"358\" y=\"359\"/><text fill=\"#000000\" font-family=\"sans-serif\" font-size=\"12\" font-style=\"italic\" lengthAdjust=\"spacing\" textLength=\"40\" x=\"409\" y=\"375.1387\">«part»</text><text fill=\"#000000\" font-family=\"sans-serif\" font-size=\"14\" lengthAdjust=\"spacing\" textLength=\"128\" x=\"361\" y=\"390.9639\">alternative: Engine</text><line style=\"stroke:#181818;stroke-width:0.5;\" x1=\"359\" x2=\"499\" y1=\"399.2656\" y2=\"399.2656\"/></g></a><!--MD5=[fd4143e9d270a159db93a4ea2a975926]\n",
       "class E9--><a href=\"psysml:76ff8411-b0e7-4dd9-89c0-3f2666988fc0\" target=\"_top\" title=\"psysml:76ff8411-b0e7-4dd9-89c0-3f2666988fc0\" xlink:actuate=\"onRequest\" xlink:href=\"psysml:76ff8411-b0e7-4dd9-89c0-3f2666988fc0\" xlink:show=\"new\" xlink:title=\"psysml:76ff8411-b0e7-4dd9-89c0-3f2666988fc0\" xlink:type=\"simple\"><g id=\"elem_E9\"><rect fill=\"#FFFFFF\" height=\"48.2656\" id=\"E9\" rx=\"10\" ry=\"10\" style=\"stroke:#181818;stroke-width:0.5;\" width=\"203\" x=\"334.5\" y=\"251\"/><text fill=\"#000000\" font-family=\"sans-serif\" font-size=\"12\" font-style=\"italic\" lengthAdjust=\"spacing\" textLength=\"40\" x=\"416\" y=\"267.1387\">«part»</text><text fill=\"#000000\" font-family=\"sans-serif\" font-size=\"14\" lengthAdjust=\"spacing\" textLength=\"189\" x=\"337.5\" y=\"282.9639\">selectedAlternative: Engine</text><line style=\"stroke:#181818;stroke-width:0.5;\" x1=\"335.5\" x2=\"536.5\" y1=\"291.2656\" y2=\"291.2656\"/></g></a><!--MD5=[60a26617385b1d2d0262a64233df1f8d]\n",
       "class E6--><a href=\"psysml:4f755969-6586-456d-bfaa-2c124f0f3312\" target=\"_top\" title=\"psysml:4f755969-6586-456d-bfaa-2c124f0f3312\" xlink:actuate=\"onRequest\" xlink:href=\"psysml:4f755969-6586-456d-bfaa-2c124f0f3312\" xlink:show=\"new\" xlink:title=\"psysml:4f755969-6586-456d-bfaa-2c124f0f3312\" xlink:type=\"simple\"><g id=\"elem_E6\"><rect fill=\"#FFFFFF\" height=\"75.0813\" id=\"E6\" rx=\"10\" ry=\"10\" style=\"stroke:#181818;stroke-width:0.5;\" width=\"145\" x=\"306.5\" y=\"116\"/><text fill=\"#000000\" font-family=\"sans-serif\" font-size=\"12\" font-style=\"italic\" lengthAdjust=\"spacing\" textLength=\"70\" x=\"344\" y=\"132.1387\">«objective»</text><text fill=\"#000000\" font-family=\"sans-serif\" font-size=\"14\" lengthAdjust=\"spacing\" textLength=\"139\" x=\"309.5\" y=\"147.9639\">tradeStudyObjective</text><line style=\"stroke:#181818;stroke-width:0.5;\" x1=\"307.5\" x2=\"450.5\" y1=\"156.2656\" y2=\"156.2656\"/><text fill=\"#000000\" font-family=\"sans-serif\" font-size=\"14\" lengthAdjust=\"spacing\" textLength=\"132\" x=\"312.5\" y=\"183.7795\">selectedAlternative</text><text fill=\"#000000\" font-family=\"sans-serif\" font-size=\"14\" font-style=\"italic\" lengthAdjust=\"spacing\" textLength=\"51\" x=\"353.5\" y=\"168.6123\">subject</text></g></a><!--MD5=[05d275557350bfb9b23a4ef7222b4c39]\n",
       "link E3 to E2--><g id=\"link_E3_E2\"><a href=\"psysml:bc3cf079-eae7-49ce-b297-ec132a977e50\" target=\"_top\" title=\"psysml:bc3cf079-eae7-49ce-b297-ec132a977e50\" xlink:actuate=\"onRequest\" xlink:href=\"psysml:bc3cf079-eae7-49ce-b297-ec132a977e50\" xlink:show=\"new\" xlink:title=\"psysml:bc3cf079-eae7-49ce-b297-ec132a977e50\" xlink:type=\"simple\"><path d=\"M277.44,407 C287.73,419.83 300.82,436.16 312.67,450.93 \" fill=\"none\" id=\"E3-to-E2\" style=\"stroke:#181818;stroke-width:1.0;\"/><polygon fill=\"#FFFFFF\" points=\"325.3,466.68,307.9565,456.2299,318.8819,447.4756,325.3,466.68\" style=\"stroke:#181818;stroke-width:1.0;\"/><ellipse cx=\"305.9531\" cy=\"450.5311\" fill=\"#181818\" rx=\"2\" ry=\"2\" style=\"stroke:#181818;stroke-width:1.0;\"/><ellipse cx=\"313.7569\" cy=\"444.2781\" fill=\"#181818\" rx=\"2\" ry=\"2\" style=\"stroke:#181818;stroke-width:1.0;\"/></a></g><!--MD5=[185131fc0dcab0a4505a2ebe144e961b]\n",
       "link E4 to E2--><g id=\"link_E4_E2\"><a href=\"psysml:aa1a99dc-dc69-45ac-b95f-3bcc471ea5d4\" target=\"_top\" title=\"psysml:aa1a99dc-dc69-45ac-b95f-3bcc471ea5d4\" xlink:actuate=\"onRequest\" xlink:href=\"psysml:aa1a99dc-dc69-45ac-b95f-3bcc471ea5d4\" xlink:show=\"new\" xlink:title=\"psysml:aa1a99dc-dc69-45ac-b95f-3bcc471ea5d4\" xlink:type=\"simple\"><path d=\"M149.81,407 C191.38,424.77 248.64,449.24 290.2,467.01 \" fill=\"none\" id=\"E4-to-E2\" style=\"stroke:#181818;stroke-width:1.0;\"/><polygon fill=\"#FFFFFF\" points=\"308.64,474.89,288.4184,473.8471,293.9285,460.977,308.64,474.89\" style=\"stroke:#181818;stroke-width:1.0;\"/><ellipse cx=\"283.9656\" cy=\"469.7652\" fill=\"#181818\" rx=\"2\" ry=\"2\" style=\"stroke:#181818;stroke-width:1.0;\"/><ellipse cx=\"287.9013\" cy=\"460.5722\" fill=\"#181818\" rx=\"2\" ry=\"2\" style=\"stroke:#181818;stroke-width:1.0;\"/></a></g><!--MD5=[452b418e7f8a40397a49b8c0a78acc5b]\n",
       "reverse link E5 to E7--><g id=\"link_E5_E7\"><a href=\"psysml:ae0ddffd-d94b-4ee5-a4cb-a499b90c2b96\" target=\"_top\" title=\"psysml:ae0ddffd-d94b-4ee5-a4cb-a499b90c2b96\" xlink:actuate=\"onRequest\" xlink:href=\"psysml:ae0ddffd-d94b-4ee5-a4cb-a499b90c2b96\" xlink:show=\"new\" xlink:title=\"psysml:ae0ddffd-d94b-4ee5-a4cb-a499b90c2b96\" xlink:type=\"simple\"><path d=\"M244.1719,215.3826 C244.124,215.5464 244.076,215.7101 244.0281,215.8739 C243.8363,216.5288 243.6446,217.1834 243.453,217.8375 C243.0699,219.1456 242.6874,220.4515 242.3064,221.7525 C239.2581,232.1606 236.3,242.26 233.81,250.76 \" fill=\"none\" id=\"E5-backto-E7\" style=\"stroke:#181818;stroke-width:1.0;\"/><polygon fill=\"#181818\" points=\"244.1719,215.3826,238.6468,220.0166,240.7992,226.8989,246.3243,222.265,244.1719,215.3826\" style=\"stroke:#181818;stroke-width:1.0;\"/></a></g><!--MD5=[dc164f5e8a733ab456ef1add180e9e34]\n",
       "reverse link E7 to E8--><g id=\"link_E7_E8\"><a href=\"psysml:a8c82a2a-741b-4fac-ac9b-98beb228d3cb\" target=\"_top\" title=\"psysml:a8c82a2a-741b-4fac-ac9b-98beb228d3cb\" xlink:actuate=\"onRequest\" xlink:href=\"psysml:a8c82a2a-741b-4fac-ac9b-98beb228d3cb\" xlink:show=\"new\" xlink:title=\"psysml:a8c82a2a-741b-4fac-ac9b-98beb228d3cb\" xlink:type=\"simple\"><path d=\"M282.76,305.26 C314.96,322.16 354.91,343.12 384.91,358.86 \" fill=\"none\" id=\"E7-backto-E8\" style=\"stroke:#181818;stroke-width:1.0;\"/><polygon fill=\"none\" points=\"270.83,299,274.284,305.3301,281.4556,304.5765,278.0016,298.2464,270.83,299\" style=\"stroke:#181818;stroke-width:1.0;\"/></a></g><!--MD5=[f1f3f9f2fc535e6147756cb86a7f2e32]\n",
       "link E8 to E2--><g id=\"link_E8_E2\"><a href=\"psysml:199cdd6b-9599-4ee9-8d7a-04a31416ec15\" target=\"_top\" title=\"psysml:199cdd6b-9599-4ee9-8d7a-04a31416ec15\" xlink:actuate=\"onRequest\" xlink:href=\"psysml:199cdd6b-9599-4ee9-8d7a-04a31416ec15\" xlink:show=\"new\" xlink:title=\"psysml:199cdd6b-9599-4ee9-8d7a-04a31416ec15\" xlink:type=\"simple\"><path d=\"M410.56,407 C400.27,419.83 387.18,436.16 375.33,450.93 \" fill=\"none\" id=\"E8-to-E2\" style=\"stroke:#181818;stroke-width:1.0;\"/><polygon fill=\"#FFFFFF\" points=\"362.7,466.68,369.1181,447.4756,380.0435,456.2299,362.7,466.68\" style=\"stroke:#181818;stroke-width:1.0;\"/><ellipse cx=\"374.2431\" cy=\"444.2781\" fill=\"#181818\" rx=\"2\" ry=\"2\" style=\"stroke:#181818;stroke-width:1.0;\"/><ellipse cx=\"382.0469\" cy=\"450.5311\" fill=\"#181818\" rx=\"2\" ry=\"2\" style=\"stroke:#181818;stroke-width:1.0;\"/></a></g><!--MD5=[9ae28de373ca99bb8a1b38d63370ca7e]\n",
       "reverse link E5 to E9--><g id=\"link_E5_E9\"><a href=\"psysml:549a8511-5afb-4107-9df8-0f136ad572ec\" target=\"_top\" title=\"psysml:549a8511-5afb-4107-9df8-0f136ad572ec\" xlink:actuate=\"onRequest\" xlink:href=\"psysml:549a8511-5afb-4107-9df8-0f136ad572ec\" xlink:show=\"new\" xlink:title=\"psysml:549a8511-5afb-4107-9df8-0f136ad572ec\" xlink:type=\"simple\"><path d=\"M277.9238,215.3079 C279.0235,217.2432 280.1988,219.1321 281.4547,220.9571 C283.9666,224.607 286.8013,228.0013 290,231 C302.53,242.75 318.11,251.3 334.38,257.53 \" fill=\"none\" id=\"E5-backto-E9\" style=\"stroke:#181818;stroke-width:1.0;\"/><polygon fill=\"none\" points=\"277.9238,215.3079,277.4102,222.5006,283.8521,225.7412,284.3658,218.5484,277.9238,215.3079\" style=\"stroke:#181818;stroke-width:1.0;\"/></a></g><!--MD5=[5c3bb36fe832a92c7f0e1807dd65209d]\n",
       "link E9 to E2--><g id=\"link_E9_E2\"><a href=\"psysml:94a3a0b9-9284-4132-a69a-1dbd276e1390\" target=\"_top\" title=\"psysml:94a3a0b9-9284-4132-a69a-1dbd276e1390\" xlink:actuate=\"onRequest\" xlink:href=\"psysml:94a3a0b9-9284-4132-a69a-1dbd276e1390\" xlink:show=\"new\" xlink:title=\"psysml:94a3a0b9-9284-4132-a69a-1dbd276e1390\" xlink:type=\"simple\"><path d=\"M468.09,299.22 C500.23,325.43 541.77,369.33 518,407 C492.01,448.19 439.34,469.37 398.72,479.98 \" fill=\"none\" id=\"E9-to-E2\" style=\"stroke:#181818;stroke-width:1.0;\"/><polygon fill=\"#FFFFFF\" points=\"379.07,484.56,395.9826,473.4261,399.1635,487.06,379.07,484.56\" style=\"stroke:#181818;stroke-width:1.0;\"/><ellipse cx=\"401.988\" cy=\"474.0788\" fill=\"#181818\" rx=\"2\" ry=\"2\" style=\"stroke:#181818;stroke-width:1.0;\"/><ellipse cx=\"404.26\" cy=\"483.8172\" fill=\"#181818\" rx=\"2\" ry=\"2\" style=\"stroke:#181818;stroke-width:1.0;\"/></a></g><!--MD5=[2a54779d20b16929fd6f8ab446f43d10]\n",
       "@startuml\r\n",
       "skin sysmlbw\r\n",
       "skinparam monochrome true\r\n",
       "skinparam wrapWidth 300\r\n",
       "hide circle\r\n",
       "top to bottom direction\r\n",
       "\r\n",
       "package \"TradeStudyTest\" as E1  [[psysml:a91f55f8-3969-42e6-b46f-82de9da3fdc7 ]]  {\r\n",
       "comp def \"Engine\" as E2  <<(T,blue) part  def>> [[psysml:8055cf29-c4ca-4370-b025-bca5bf4f4944 ]] {\r\n",
       "}\r\n",
       "comp usage \"engine1: Engine  \" as E3  <<(T,blue) part>> [[psysml:479197b1-ce2e-480f-b2ef-7f257dc343b8 ]] {\r\n",
       "}\r\n",
       "comp usage \"engine2: Engine  \" as E4  <<(T,blue) part>> [[psysml:df8f9049-6917-4fa7-a1c9-f212538c9a4e ]] {\r\n",
       "}\r\n",
       "rec usage \"engineTradeStudy: TradeStudy  \" as E5  << analysis>> [[psysml:538ece1f-cb66-4e09-817f-0abcddd62ddd ]] {\r\n",
       "comp usage \"tradeStudyObjective\" as E6  <<objective>> [[psysml:4f755969-6586-456d-bfaa-2c124f0f3312 ]] {\r\n",
       "##//subject//##\r\n",
       "selectedAlternative\r\n",
       "}\r\n",
       "}\r\n",
       "comp usage \"evaluationFunction  \" as E7  <<(T,blue) calculation>> [[psysml:f253b0d3-72ce-4ec1-aa97-c21cff35f053 ]] {\r\n",
       "}\r\n",
       "comp usage \"alternative: Engine  \" as E8  <<(T,blue) part>> [[psysml:753de58d-f4ea-44a5-91ee-5ffc5e7a177d ]] {\r\n",
       "}\r\n",
       "comp usage \"selectedAlternative: Engine  \" as E9  <<(T,blue) part>> [[psysml:76ff8411-b0e7-4dd9-89c0-3f2666988fc0 ]] {\r\n",
       "}\r\n",
       "}\r\n",
       "E3 - -:|> E2 [[psysml:bc3cf079-eae7-49ce-b297-ec132a977e50 ]] \r\n",
       "E4 - -:|> E2 [[psysml:aa1a99dc-dc69-45ac-b95f-3bcc471ea5d4 ]] \r\n",
       "E5 *- - E7 [[psysml:ae0ddffd-d94b-4ee5-a4cb-a499b90c2b96 ]] \r\n",
       "E7 o- - E8 [[psysml:a8c82a2a-741b-4fac-ac9b-98beb228d3cb ]] \r\n",
       "E8 - -:|> E2 [[psysml:199cdd6b-9599-4ee9-8d7a-04a31416ec15 ]] \r\n",
       "E5 o- - E9 [[psysml:549a8511-5afb-4107-9df8-0f136ad572ec ]] \r\n",
       "E9 - -:|> E2 [[psysml:94a3a0b9-9284-4132-a69a-1dbd276e1390 ]] \r\n",
       "@enduml\r\n",
       "\n",
       "PlantUML version 1.2022.7(Mon Aug 22 17:01:30 UTC 2022)\n",
       "(EPL source distribution)\n",
       "Java Runtime: OpenJDK Runtime Environment\n",
       "JVM: OpenJDK 64-Bit Server VM\n",
       "Default Encoding: UTF-8\n",
       "Language: en\n",
       "Country: null\n",
       "--></g></svg>"
      ]
     },
     "execution_count": 50,
     "metadata": {},
     "output_type": "execute_result"
    }
   ],
   "source": [
    "%viz --style=\"TB\" --view=\"MIXED\" \"TradeStudyTest\""
   ]
  },
  {
   "cell_type": "code",
   "execution_count": 51,
   "id": "9513fb73",
   "metadata": {
    "execution": {
     "iopub.execute_input": "2024-12-16T14:21:10.866827Z",
     "iopub.status.busy": "2024-12-16T14:21:10.866587Z",
     "iopub.status.idle": "2024-12-16T14:21:10.889384Z",
     "shell.execute_reply": "2024-12-16T14:21:10.888498Z"
    }
   },
   "outputs": [
    {
     "data": {
      "image/svg+xml": [
       "<?xml version=\"1.0\" encoding=\"UTF-8\" standalone=\"no\"?><svg xmlns=\"http://www.w3.org/2000/svg\" xmlns:xlink=\"http://www.w3.org/1999/xlink\" contentStyleType=\"text/css\" height=\"538px\" preserveAspectRatio=\"none\" style=\"width:570px;height:538px;background:#FFFFFF;\" version=\"1.1\" viewBox=\"0 0 570 538\" width=\"570px\" zoomAndPan=\"magnify\"><defs/><g><!--MD5=[fbc87193dbaf4d95561dea2c320d4a47]\n",
       "cluster E1--><g id=\"cluster_E1\"><a href=\"psysml:a91f55f8-3969-42e6-b46f-82de9da3fdc7\" target=\"_top\" title=\"psysml:a91f55f8-3969-42e6-b46f-82de9da3fdc7\" xlink:actuate=\"onRequest\" xlink:href=\"psysml:a91f55f8-3969-42e6-b46f-82de9da3fdc7\" xlink:show=\"new\" xlink:title=\"psysml:a91f55f8-3969-42e6-b46f-82de9da3fdc7\" xlink:type=\"simple\"><polygon fill=\"none\" points=\"16,6,138.125,6,145.125,28.2969,553,28.2969,553,531,16,531,16,6\" style=\"stroke:#000000;stroke-width:1.5;\"/><line style=\"stroke:#000000;stroke-width:1.5;\" x1=\"16\" x2=\"145.125\" y1=\"28.2969\" y2=\"28.2969\"/><text fill=\"#000000\" font-family=\"sans-serif\" font-size=\"14\" font-weight=\"bold\" lengthAdjust=\"spacing\" textLength=\"116.125\" x=\"20\" y=\"20.9951\">TradeStudyTest</text></a></g><!--MD5=[de5ec2e2e8f62f467e546659f5068c88]\n",
       "cluster E5--><g id=\"cluster_E5\"><a href=\"psysml:538ece1f-cb66-4e09-817f-0abcddd62ddd\" target=\"_top\" title=\"psysml:538ece1f-cb66-4e09-817f-0abcddd62ddd\" xlink:actuate=\"onRequest\" xlink:href=\"psysml:538ece1f-cb66-4e09-817f-0abcddd62ddd\" xlink:show=\"new\" xlink:title=\"psysml:538ece1f-cb66-4e09-817f-0abcddd62ddd\" xlink:type=\"simple\"><rect fill=\"#FFFFFF\" height=\"158\" id=\"E5\" rx=\"10\" ry=\"10\" style=\"stroke:#383838;stroke-width:1.5;\" width=\"250\" x=\"236\" y=\"57\"/><text fill=\"#000000\" font-family=\"sans-serif\" font-size=\"12\" font-style=\"italic\" lengthAdjust=\"spacing\" textLength=\"64\" x=\"329\" y=\"73.1387\">«analysis»</text><text fill=\"#000000\" font-family=\"sans-serif\" font-size=\"14\" lengthAdjust=\"spacing\" textLength=\"215\" x=\"249.5\" y=\"88.9639\">engineTradeStudy: TradeStudy</text><line style=\"stroke:#383838;stroke-width:1.0;\" x1=\"236\" x2=\"486\" y1=\"97.2656\" y2=\"97.2656\"/></a></g><!--MD5=[b4997ac47864f28c2f74865a473b2911]\n",
       "class E2--><a href=\"psysml:8055cf29-c4ca-4370-b025-bca5bf4f4944\" target=\"_top\" title=\"psysml:8055cf29-c4ca-4370-b025-bca5bf4f4944\" xlink:actuate=\"onRequest\" xlink:href=\"psysml:8055cf29-c4ca-4370-b025-bca5bf4f4944\" xlink:show=\"new\" xlink:title=\"psysml:8055cf29-c4ca-4370-b025-bca5bf4f4944\" xlink:type=\"simple\"><g id=\"elem_E2\"><rect fill=\"#FFFFFF\" height=\"48.2656\" id=\"E2\" style=\"stroke:#181818;stroke-width:0.5;\" width=\"70\" x=\"309\" y=\"467\"/><text fill=\"#000000\" font-family=\"sans-serif\" font-size=\"12\" font-style=\"italic\" lengthAdjust=\"spacing\" textLength=\"68\" x=\"310\" y=\"483.1387\">«part  def»</text><text fill=\"#000000\" font-family=\"sans-serif\" font-size=\"14\" lengthAdjust=\"spacing\" textLength=\"48\" x=\"320\" y=\"498.9639\">Engine</text><line style=\"stroke:#181818;stroke-width:0.5;\" x1=\"310\" x2=\"378\" y1=\"507.2656\" y2=\"507.2656\"/></g></a><!--MD5=[09b614a08d8cba4a07c9adeb5e0fee81]\n",
       "class E3--><a href=\"psysml:479197b1-ce2e-480f-b2ef-7f257dc343b8\" target=\"_top\" title=\"psysml:479197b1-ce2e-480f-b2ef-7f257dc343b8\" xlink:actuate=\"onRequest\" xlink:href=\"psysml:479197b1-ce2e-480f-b2ef-7f257dc343b8\" xlink:show=\"new\" xlink:title=\"psysml:479197b1-ce2e-480f-b2ef-7f257dc343b8\" xlink:type=\"simple\"><g id=\"elem_E3\"><rect fill=\"#FFFFFF\" height=\"48.2656\" id=\"E3\" rx=\"10\" ry=\"10\" style=\"stroke:#181818;stroke-width:0.5;\" width=\"128\" x=\"195\" y=\"359\"/><text fill=\"#000000\" font-family=\"sans-serif\" font-size=\"12\" font-style=\"italic\" lengthAdjust=\"spacing\" textLength=\"40\" x=\"239\" y=\"375.1387\">«part»</text><text fill=\"#000000\" font-family=\"sans-serif\" font-size=\"14\" lengthAdjust=\"spacing\" textLength=\"114\" x=\"198\" y=\"390.9639\">engine1: Engine</text><line style=\"stroke:#181818;stroke-width:0.5;\" x1=\"196\" x2=\"322\" y1=\"399.2656\" y2=\"399.2656\"/></g></a><!--MD5=[ebbe1d658d1005bcc118a6aa81145e00]\n",
       "class E4--><a href=\"psysml:df8f9049-6917-4fa7-a1c9-f212538c9a4e\" target=\"_top\" title=\"psysml:df8f9049-6917-4fa7-a1c9-f212538c9a4e\" xlink:actuate=\"onRequest\" xlink:href=\"psysml:df8f9049-6917-4fa7-a1c9-f212538c9a4e\" xlink:show=\"new\" xlink:title=\"psysml:df8f9049-6917-4fa7-a1c9-f212538c9a4e\" xlink:type=\"simple\"><g id=\"elem_E4\"><rect fill=\"#FFFFFF\" height=\"48.2656\" id=\"E4\" rx=\"10\" ry=\"10\" style=\"stroke:#181818;stroke-width:0.5;\" width=\"128\" x=\"32\" y=\"359\"/><text fill=\"#000000\" font-family=\"sans-serif\" font-size=\"12\" font-style=\"italic\" lengthAdjust=\"spacing\" textLength=\"40\" x=\"76\" y=\"375.1387\">«part»</text><text fill=\"#000000\" font-family=\"sans-serif\" font-size=\"14\" lengthAdjust=\"spacing\" textLength=\"114\" x=\"35\" y=\"390.9639\">engine2: Engine</text><line style=\"stroke:#181818;stroke-width:0.5;\" x1=\"33\" x2=\"159\" y1=\"399.2656\" y2=\"399.2656\"/></g></a><!--MD5=[2156ba9850f5573cc1fc38a6a4b2f02b]\n",
       "class E7--><a href=\"psysml:f253b0d3-72ce-4ec1-aa97-c21cff35f053\" target=\"_top\" title=\"psysml:f253b0d3-72ce-4ec1-aa97-c21cff35f053\" xlink:actuate=\"onRequest\" xlink:href=\"psysml:f253b0d3-72ce-4ec1-aa97-c21cff35f053\" xlink:show=\"new\" xlink:title=\"psysml:f253b0d3-72ce-4ec1-aa97-c21cff35f053\" xlink:type=\"simple\"><g id=\"elem_E7\"><rect fill=\"#FFFFFF\" height=\"48.2656\" id=\"E7\" rx=\"10\" ry=\"10\" style=\"stroke:#181818;stroke-width:0.5;\" width=\"144\" x=\"155\" y=\"251\"/><text fill=\"#000000\" font-family=\"sans-serif\" font-size=\"12\" font-style=\"italic\" lengthAdjust=\"spacing\" textLength=\"82\" x=\"186\" y=\"267.1387\">«calculation»</text><text fill=\"#000000\" font-family=\"sans-serif\" font-size=\"14\" lengthAdjust=\"spacing\" textLength=\"130\" x=\"158\" y=\"282.9639\">evaluationFunction</text><line style=\"stroke:#181818;stroke-width:0.5;\" x1=\"156\" x2=\"298\" y1=\"291.2656\" y2=\"291.2656\"/></g></a><!--MD5=[b9389687b975829384b498ac4b7476b2]\n",
       "class E8--><a href=\"psysml:753de58d-f4ea-44a5-91ee-5ffc5e7a177d\" target=\"_top\" title=\"psysml:753de58d-f4ea-44a5-91ee-5ffc5e7a177d\" xlink:actuate=\"onRequest\" xlink:href=\"psysml:753de58d-f4ea-44a5-91ee-5ffc5e7a177d\" xlink:show=\"new\" xlink:title=\"psysml:753de58d-f4ea-44a5-91ee-5ffc5e7a177d\" xlink:type=\"simple\"><g id=\"elem_E8\"><rect fill=\"#FFFFFF\" height=\"48.2656\" id=\"E8\" rx=\"10\" ry=\"10\" style=\"stroke:#181818;stroke-width:0.5;\" width=\"142\" x=\"358\" y=\"359\"/><text fill=\"#000000\" font-family=\"sans-serif\" font-size=\"12\" font-style=\"italic\" lengthAdjust=\"spacing\" textLength=\"40\" x=\"409\" y=\"375.1387\">«part»</text><text fill=\"#000000\" font-family=\"sans-serif\" font-size=\"14\" lengthAdjust=\"spacing\" textLength=\"128\" x=\"361\" y=\"390.9639\">alternative: Engine</text><line style=\"stroke:#181818;stroke-width:0.5;\" x1=\"359\" x2=\"499\" y1=\"399.2656\" y2=\"399.2656\"/></g></a><!--MD5=[fd4143e9d270a159db93a4ea2a975926]\n",
       "class E9--><a href=\"psysml:76ff8411-b0e7-4dd9-89c0-3f2666988fc0\" target=\"_top\" title=\"psysml:76ff8411-b0e7-4dd9-89c0-3f2666988fc0\" xlink:actuate=\"onRequest\" xlink:href=\"psysml:76ff8411-b0e7-4dd9-89c0-3f2666988fc0\" xlink:show=\"new\" xlink:title=\"psysml:76ff8411-b0e7-4dd9-89c0-3f2666988fc0\" xlink:type=\"simple\"><g id=\"elem_E9\"><rect fill=\"#FFFFFF\" height=\"48.2656\" id=\"E9\" rx=\"10\" ry=\"10\" style=\"stroke:#181818;stroke-width:0.5;\" width=\"203\" x=\"334.5\" y=\"251\"/><text fill=\"#000000\" font-family=\"sans-serif\" font-size=\"12\" font-style=\"italic\" lengthAdjust=\"spacing\" textLength=\"40\" x=\"416\" y=\"267.1387\">«part»</text><text fill=\"#000000\" font-family=\"sans-serif\" font-size=\"14\" lengthAdjust=\"spacing\" textLength=\"189\" x=\"337.5\" y=\"282.9639\">selectedAlternative: Engine</text><line style=\"stroke:#181818;stroke-width:0.5;\" x1=\"335.5\" x2=\"536.5\" y1=\"291.2656\" y2=\"291.2656\"/></g></a><!--MD5=[60a26617385b1d2d0262a64233df1f8d]\n",
       "class E6--><a href=\"psysml:4f755969-6586-456d-bfaa-2c124f0f3312\" target=\"_top\" title=\"psysml:4f755969-6586-456d-bfaa-2c124f0f3312\" xlink:actuate=\"onRequest\" xlink:href=\"psysml:4f755969-6586-456d-bfaa-2c124f0f3312\" xlink:show=\"new\" xlink:title=\"psysml:4f755969-6586-456d-bfaa-2c124f0f3312\" xlink:type=\"simple\"><g id=\"elem_E6\"><rect fill=\"#FFFFFF\" height=\"75.0813\" id=\"E6\" rx=\"10\" ry=\"10\" style=\"stroke:#181818;stroke-width:0.5;\" width=\"145\" x=\"306.5\" y=\"116\"/><text fill=\"#000000\" font-family=\"sans-serif\" font-size=\"12\" font-style=\"italic\" lengthAdjust=\"spacing\" textLength=\"70\" x=\"344\" y=\"132.1387\">«objective»</text><text fill=\"#000000\" font-family=\"sans-serif\" font-size=\"14\" lengthAdjust=\"spacing\" textLength=\"139\" x=\"309.5\" y=\"147.9639\">tradeStudyObjective</text><line style=\"stroke:#181818;stroke-width:0.5;\" x1=\"307.5\" x2=\"450.5\" y1=\"156.2656\" y2=\"156.2656\"/><text fill=\"#000000\" font-family=\"sans-serif\" font-size=\"14\" lengthAdjust=\"spacing\" textLength=\"132\" x=\"312.5\" y=\"183.7795\">selectedAlternative</text><text fill=\"#000000\" font-family=\"sans-serif\" font-size=\"14\" font-style=\"italic\" lengthAdjust=\"spacing\" textLength=\"51\" x=\"353.5\" y=\"168.6123\">subject</text></g></a><!--MD5=[05d275557350bfb9b23a4ef7222b4c39]\n",
       "link E3 to E2--><g id=\"link_E3_E2\"><a href=\"psysml:bc3cf079-eae7-49ce-b297-ec132a977e50\" target=\"_top\" title=\"psysml:bc3cf079-eae7-49ce-b297-ec132a977e50\" xlink:actuate=\"onRequest\" xlink:href=\"psysml:bc3cf079-eae7-49ce-b297-ec132a977e50\" xlink:show=\"new\" xlink:title=\"psysml:bc3cf079-eae7-49ce-b297-ec132a977e50\" xlink:type=\"simple\"><path d=\"M316,407.24 C316,407.24 316,446.84 316,446.84 \" fill=\"none\" id=\"E3-to-E2\" style=\"stroke:#181818;stroke-width:1.0;\"/><polygon fill=\"#FFFFFF\" points=\"316,466.84,309,447.84,323,447.84,316,466.84\" style=\"stroke:#181818;stroke-width:1.0;\"/><ellipse cx=\"311\" cy=\"442.14\" fill=\"#181818\" rx=\"2\" ry=\"2\" style=\"stroke:#181818;stroke-width:1.0;\"/><ellipse cx=\"321\" cy=\"442.14\" fill=\"#181818\" rx=\"2\" ry=\"2\" style=\"stroke:#181818;stroke-width:1.0;\"/></a></g><!--MD5=[185131fc0dcab0a4505a2ebe144e961b]\n",
       "link E4 to E2--><g id=\"link_E4_E2\"><a href=\"psysml:aa1a99dc-dc69-45ac-b95f-3bcc471ea5d4\" target=\"_top\" title=\"psysml:aa1a99dc-dc69-45ac-b95f-3bcc471ea5d4\" xlink:actuate=\"onRequest\" xlink:href=\"psysml:aa1a99dc-dc69-45ac-b95f-3bcc471ea5d4\" xlink:show=\"new\" xlink:title=\"psysml:aa1a99dc-dc69-45ac-b95f-3bcc471ea5d4\" xlink:type=\"simple\"><path d=\"M96,407.24 C96,439.08 96,491 96,491 C96,491 288.99,491 288.99,491 \" fill=\"none\" id=\"E4-to-E2\" style=\"stroke:#181818;stroke-width:1.0;\"/><polygon fill=\"#FFFFFF\" points=\"308.99,491,289.99,498,289.99,484,308.99,491\" style=\"stroke:#181818;stroke-width:1.0;\"/><ellipse cx=\"284.29\" cy=\"496\" fill=\"#181818\" rx=\"2\" ry=\"2\" style=\"stroke:#181818;stroke-width:1.0;\"/><ellipse cx=\"284.29\" cy=\"486\" fill=\"#181818\" rx=\"2\" ry=\"2\" style=\"stroke:#181818;stroke-width:1.0;\"/></a></g><!--MD5=[452b418e7f8a40397a49b8c0a78acc5b]\n",
       "reverse link E5 to E7--><g id=\"link_E5_E7\"><a href=\"psysml:ae0ddffd-d94b-4ee5-a4cb-a499b90c2b96\" target=\"_top\" title=\"psysml:ae0ddffd-d94b-4ee5-a4cb-a499b90c2b96\" xlink:actuate=\"onRequest\" xlink:href=\"psysml:ae0ddffd-d94b-4ee5-a4cb-a499b90c2b96\" xlink:show=\"new\" xlink:title=\"psysml:ae0ddffd-d94b-4ee5-a4cb-a499b90c2b96\" xlink:type=\"simple\"><path d=\"M262,215.171 C262,217.7012 262,220.2293 262,222.7377 C262,232.7713 262,242.49 262,250.77 \" fill=\"none\" id=\"E5-backto-E7\" style=\"stroke:#181818;stroke-width:1.0;\"/><polygon fill=\"#181818\" points=\"262,215.171,258,221.171,262,227.171,266,221.171,262,215.171\" style=\"stroke:#181818;stroke-width:1.0;\"/></a></g><!--MD5=[dc164f5e8a733ab456ef1add180e9e34]\n",
       "reverse link E7 to E8--><g id=\"link_E7_E8\"><a href=\"psysml:a8c82a2a-741b-4fac-ac9b-98beb228d3cb\" target=\"_top\" title=\"psysml:a8c82a2a-741b-4fac-ac9b-98beb228d3cb\" xlink:actuate=\"onRequest\" xlink:href=\"psysml:a8c82a2a-741b-4fac-ac9b-98beb228d3cb\" xlink:show=\"new\" xlink:title=\"psysml:a8c82a2a-741b-4fac-ac9b-98beb228d3cb\" xlink:type=\"simple\"><path d=\"M312.05,283 C312.05,283 328.75,283 328.75,283 C328.75,283 328.75,383 328.75,383 C328.75,383 341.42,383 357.75,383 \" fill=\"none\" id=\"E7-backto-E8\" style=\"stroke:#181818;stroke-width:1.0;\"/><polygon fill=\"none\" points=\"299.05,283,305.05,287,311.05,283,305.05,279,299.05,283\" style=\"stroke:#181818;stroke-width:1.0;\"/></a></g><!--MD5=[f1f3f9f2fc535e6147756cb86a7f2e32]\n",
       "link E8 to E2--><g id=\"link_E8_E2\"><a href=\"psysml:199cdd6b-9599-4ee9-8d7a-04a31416ec15\" target=\"_top\" title=\"psysml:199cdd6b-9599-4ee9-8d7a-04a31416ec15\" xlink:actuate=\"onRequest\" xlink:href=\"psysml:199cdd6b-9599-4ee9-8d7a-04a31416ec15\" xlink:show=\"new\" xlink:title=\"psysml:199cdd6b-9599-4ee9-8d7a-04a31416ec15\" xlink:type=\"simple\"><path d=\"M368.5,407.24 C368.5,407.24 368.5,446.84 368.5,446.84 \" fill=\"none\" id=\"E8-to-E2\" style=\"stroke:#181818;stroke-width:1.0;\"/><polygon fill=\"#FFFFFF\" points=\"368.5,466.84,361.5,447.84,375.5,447.84,368.5,466.84\" style=\"stroke:#181818;stroke-width:1.0;\"/><ellipse cx=\"363.5\" cy=\"442.14\" fill=\"#181818\" rx=\"2\" ry=\"2\" style=\"stroke:#181818;stroke-width:1.0;\"/><ellipse cx=\"373.5\" cy=\"442.14\" fill=\"#181818\" rx=\"2\" ry=\"2\" style=\"stroke:#181818;stroke-width:1.0;\"/></a></g><!--MD5=[9ae28de373ca99bb8a1b38d63370ca7e]\n",
       "reverse link E5 to E9--><g id=\"link_E5_E9\"><a href=\"psysml:549a8511-5afb-4107-9df8-0f136ad572ec\" target=\"_top\" title=\"psysml:549a8511-5afb-4107-9df8-0f136ad572ec\" xlink:actuate=\"onRequest\" xlink:href=\"psysml:549a8511-5afb-4107-9df8-0f136ad572ec\" xlink:show=\"new\" xlink:title=\"psysml:549a8511-5afb-4107-9df8-0f136ad572ec\" xlink:type=\"simple\"><path d=\"M302.75,215.1301 C302.75,215.3502 302.75,215.5701 302.75,215.79 C302.75,217.5487 302.75,219.3005 302.75,221.0386 C302.75,224.5146 302.75,227.9355 302.75,231.2461 C302.75,237.8672 302.75,244.0469 302.75,249.3438 C302.75,259.9375 302.75,267 302.75,267 C302.75,267 316.09,267 334.33,267 \" fill=\"none\" id=\"E5-backto-E9\" style=\"stroke:#181818;stroke-width:1.0;\"/><polygon fill=\"none\" points=\"302.75,215.1301,298.75,221.1301,302.75,227.1301,306.75,221.1301,302.75,215.1301\" style=\"stroke:#181818;stroke-width:1.0;\"/></a></g><!--MD5=[5c3bb36fe832a92c7f0e1807dd65209d]\n",
       "link E9 to E2--><g id=\"link_E9_E2\"><a href=\"psysml:94a3a0b9-9284-4132-a69a-1dbd276e1390\" target=\"_top\" title=\"psysml:94a3a0b9-9284-4132-a69a-1dbd276e1390\" xlink:actuate=\"onRequest\" xlink:href=\"psysml:94a3a0b9-9284-4132-a69a-1dbd276e1390\" xlink:show=\"new\" xlink:title=\"psysml:94a3a0b9-9284-4132-a69a-1dbd276e1390\" xlink:type=\"simple\"><path d=\"M346.25,299.36 C346.25,299.36 346.25,446.73 346.25,446.73 \" fill=\"none\" id=\"E9-to-E2\" style=\"stroke:#181818;stroke-width:1.0;\"/><polygon fill=\"#FFFFFF\" points=\"346.25,466.73,339.25,447.73,353.25,447.73,346.25,466.73\" style=\"stroke:#181818;stroke-width:1.0;\"/><ellipse cx=\"341.25\" cy=\"442.03\" fill=\"#181818\" rx=\"2\" ry=\"2\" style=\"stroke:#181818;stroke-width:1.0;\"/><ellipse cx=\"351.25\" cy=\"442.03\" fill=\"#181818\" rx=\"2\" ry=\"2\" style=\"stroke:#181818;stroke-width:1.0;\"/></a></g><!--MD5=[588b1499e68f6be896df5561bbd0c31e]\n",
       "@startuml\r\n",
       "skin sysmlbw\r\n",
       "skinparam monochrome true\r\n",
       "skinparam wrapWidth 300\r\n",
       "hide circle\r\n",
       "skinparam linetype ortho\r\n",
       "\r\n",
       "package \"TradeStudyTest\" as E1  [[psysml:a91f55f8-3969-42e6-b46f-82de9da3fdc7 ]]  {\r\n",
       "comp def \"Engine\" as E2  <<(T,blue) part  def>> [[psysml:8055cf29-c4ca-4370-b025-bca5bf4f4944 ]] {\r\n",
       "}\r\n",
       "comp usage \"engine1: Engine  \" as E3  <<(T,blue) part>> [[psysml:479197b1-ce2e-480f-b2ef-7f257dc343b8 ]] {\r\n",
       "}\r\n",
       "comp usage \"engine2: Engine  \" as E4  <<(T,blue) part>> [[psysml:df8f9049-6917-4fa7-a1c9-f212538c9a4e ]] {\r\n",
       "}\r\n",
       "rec usage \"engineTradeStudy: TradeStudy  \" as E5  << analysis>> [[psysml:538ece1f-cb66-4e09-817f-0abcddd62ddd ]] {\r\n",
       "comp usage \"tradeStudyObjective\" as E6  <<objective>> [[psysml:4f755969-6586-456d-bfaa-2c124f0f3312 ]] {\r\n",
       "##//subject//##\r\n",
       "selectedAlternative\r\n",
       "}\r\n",
       "}\r\n",
       "comp usage \"evaluationFunction  \" as E7  <<(T,blue) calculation>> [[psysml:f253b0d3-72ce-4ec1-aa97-c21cff35f053 ]] {\r\n",
       "}\r\n",
       "comp usage \"alternative: Engine  \" as E8  <<(T,blue) part>> [[psysml:753de58d-f4ea-44a5-91ee-5ffc5e7a177d ]] {\r\n",
       "}\r\n",
       "comp usage \"selectedAlternative: Engine  \" as E9  <<(T,blue) part>> [[psysml:76ff8411-b0e7-4dd9-89c0-3f2666988fc0 ]] {\r\n",
       "}\r\n",
       "}\r\n",
       "E3 - -:|> E2 [[psysml:bc3cf079-eae7-49ce-b297-ec132a977e50 ]] \r\n",
       "E4 - -:|> E2 [[psysml:aa1a99dc-dc69-45ac-b95f-3bcc471ea5d4 ]] \r\n",
       "E5 *- - E7 [[psysml:ae0ddffd-d94b-4ee5-a4cb-a499b90c2b96 ]] \r\n",
       "E7 o- - E8 [[psysml:a8c82a2a-741b-4fac-ac9b-98beb228d3cb ]] \r\n",
       "E8 - -:|> E2 [[psysml:199cdd6b-9599-4ee9-8d7a-04a31416ec15 ]] \r\n",
       "E5 o- - E9 [[psysml:549a8511-5afb-4107-9df8-0f136ad572ec ]] \r\n",
       "E9 - -:|> E2 [[psysml:94a3a0b9-9284-4132-a69a-1dbd276e1390 ]] \r\n",
       "@enduml\r\n",
       "\n",
       "PlantUML version 1.2022.7(Mon Aug 22 17:01:30 UTC 2022)\n",
       "(EPL source distribution)\n",
       "Java Runtime: OpenJDK Runtime Environment\n",
       "JVM: OpenJDK 64-Bit Server VM\n",
       "Default Encoding: UTF-8\n",
       "Language: en\n",
       "Country: null\n",
       "--></g></svg>"
      ]
     },
     "execution_count": 51,
     "metadata": {},
     "output_type": "execute_result"
    }
   ],
   "source": [
    "%viz --style=\"ORTHOLINE\" --view=\"Default\" \"TradeStudyTest\""
   ]
  },
  {
   "cell_type": "code",
   "execution_count": 52,
   "id": "6bd1e130",
   "metadata": {
    "execution": {
     "iopub.execute_input": "2024-12-16T14:21:10.945210Z",
     "iopub.status.busy": "2024-12-16T14:21:10.944978Z",
     "iopub.status.idle": "2024-12-16T14:21:10.968392Z",
     "shell.execute_reply": "2024-12-16T14:21:10.967460Z"
    }
   },
   "outputs": [
    {
     "data": {
      "image/svg+xml": [
       "<?xml version=\"1.0\" encoding=\"UTF-8\" standalone=\"no\"?><svg xmlns=\"http://www.w3.org/2000/svg\" xmlns:xlink=\"http://www.w3.org/1999/xlink\" contentStyleType=\"text/css\" height=\"506px\" preserveAspectRatio=\"none\" style=\"width:770px;height:506px;background:#FFFFFF;\" version=\"1.1\" viewBox=\"0 0 770 506\" width=\"770px\" zoomAndPan=\"magnify\"><defs/><g><!--MD5=[fbc87193dbaf4d95561dea2c320d4a47]\n",
       "cluster E1--><g id=\"cluster_E1\"><a href=\"psysml:a91f55f8-3969-42e6-b46f-82de9da3fdc7\" target=\"_top\" title=\"psysml:a91f55f8-3969-42e6-b46f-82de9da3fdc7\" xlink:actuate=\"onRequest\" xlink:href=\"psysml:a91f55f8-3969-42e6-b46f-82de9da3fdc7\" xlink:show=\"new\" xlink:title=\"psysml:a91f55f8-3969-42e6-b46f-82de9da3fdc7\" xlink:type=\"simple\"><polygon fill=\"none\" points=\"16,6,138.125,6,145.125,28.2969,753,28.2969,753,499,16,499,16,6\" style=\"stroke:#000000;stroke-width:1.5;\"/><line style=\"stroke:#000000;stroke-width:1.5;\" x1=\"16\" x2=\"145.125\" y1=\"28.2969\" y2=\"28.2969\"/><text fill=\"#000000\" font-family=\"sans-serif\" font-size=\"14\" font-weight=\"bold\" lengthAdjust=\"spacing\" textLength=\"116.125\" x=\"20\" y=\"20.9951\">TradeStudyTest</text></a></g><!--MD5=[b4997ac47864f28c2f74865a473b2911]\n",
       "class E2--><a href=\"psysml:8055cf29-c4ca-4370-b025-bca5bf4f4944\" target=\"_top\" title=\"psysml:8055cf29-c4ca-4370-b025-bca5bf4f4944\" xlink:actuate=\"onRequest\" xlink:href=\"psysml:8055cf29-c4ca-4370-b025-bca5bf4f4944\" xlink:show=\"new\" xlink:title=\"psysml:8055cf29-c4ca-4370-b025-bca5bf4f4944\" xlink:type=\"simple\"><g id=\"elem_E2\"><rect fill=\"#FFFFFF\" height=\"48.2656\" id=\"E2\" style=\"stroke:#181818;stroke-width:0.5;\" width=\"70\" x=\"425\" y=\"435\"/><text fill=\"#000000\" font-family=\"sans-serif\" font-size=\"12\" font-style=\"italic\" lengthAdjust=\"spacing\" textLength=\"68\" x=\"426\" y=\"451.1387\">«part  def»</text><text fill=\"#000000\" font-family=\"sans-serif\" font-size=\"14\" lengthAdjust=\"spacing\" textLength=\"48\" x=\"436\" y=\"466.9639\">Engine</text><line style=\"stroke:#181818;stroke-width:0.5;\" x1=\"426\" x2=\"494\" y1=\"475.2656\" y2=\"475.2656\"/></g></a><!--MD5=[09b614a08d8cba4a07c9adeb5e0fee81]\n",
       "class E3--><a href=\"psysml:479197b1-ce2e-480f-b2ef-7f257dc343b8\" target=\"_top\" title=\"psysml:479197b1-ce2e-480f-b2ef-7f257dc343b8\" xlink:actuate=\"onRequest\" xlink:href=\"psysml:479197b1-ce2e-480f-b2ef-7f257dc343b8\" xlink:show=\"new\" xlink:title=\"psysml:479197b1-ce2e-480f-b2ef-7f257dc343b8\" xlink:type=\"simple\"><g id=\"elem_E3\"><rect fill=\"#FFFFFF\" height=\"48.2656\" id=\"E3\" rx=\"10\" ry=\"10\" style=\"stroke:#181818;stroke-width:0.5;\" width=\"128\" x=\"609\" y=\"327\"/><text fill=\"#000000\" font-family=\"sans-serif\" font-size=\"12\" font-style=\"italic\" lengthAdjust=\"spacing\" textLength=\"40\" x=\"653\" y=\"343.1387\">«part»</text><text fill=\"#000000\" font-family=\"sans-serif\" font-size=\"14\" lengthAdjust=\"spacing\" textLength=\"114\" x=\"612\" y=\"358.9639\">engine1: Engine</text><line style=\"stroke:#181818;stroke-width:0.5;\" x1=\"610\" x2=\"736\" y1=\"367.2656\" y2=\"367.2656\"/></g></a><!--MD5=[ebbe1d658d1005bcc118a6aa81145e00]\n",
       "class E4--><a href=\"psysml:df8f9049-6917-4fa7-a1c9-f212538c9a4e\" target=\"_top\" title=\"psysml:df8f9049-6917-4fa7-a1c9-f212538c9a4e\" xlink:actuate=\"onRequest\" xlink:href=\"psysml:df8f9049-6917-4fa7-a1c9-f212538c9a4e\" xlink:show=\"new\" xlink:title=\"psysml:df8f9049-6917-4fa7-a1c9-f212538c9a4e\" xlink:type=\"simple\"><g id=\"elem_E4\"><rect fill=\"#FFFFFF\" height=\"48.2656\" id=\"E4\" rx=\"10\" ry=\"10\" style=\"stroke:#181818;stroke-width:0.5;\" width=\"128\" x=\"446\" y=\"327\"/><text fill=\"#000000\" font-family=\"sans-serif\" font-size=\"12\" font-style=\"italic\" lengthAdjust=\"spacing\" textLength=\"40\" x=\"490\" y=\"343.1387\">«part»</text><text fill=\"#000000\" font-family=\"sans-serif\" font-size=\"14\" lengthAdjust=\"spacing\" textLength=\"114\" x=\"449\" y=\"358.9639\">engine2: Engine</text><line style=\"stroke:#181818;stroke-width:0.5;\" x1=\"447\" x2=\"573\" y1=\"367.2656\" y2=\"367.2656\"/></g></a><!--MD5=[270fce915f116d4de14055a7c1d9a0f3]\n",
       "class E5--><a href=\"psysml:538ece1f-cb66-4e09-817f-0abcddd62ddd\" target=\"_top\" title=\"psysml:538ece1f-cb66-4e09-817f-0abcddd62ddd\" xlink:actuate=\"onRequest\" xlink:href=\"psysml:538ece1f-cb66-4e09-817f-0abcddd62ddd\" xlink:show=\"new\" xlink:title=\"psysml:538ece1f-cb66-4e09-817f-0abcddd62ddd\" xlink:type=\"simple\"><g id=\"elem_E5\"><rect fill=\"#FFFFFF\" height=\"91.3781\" id=\"E5\" rx=\"10\" ry=\"10\" style=\"stroke:#181818;stroke-width:0.5;\" width=\"277\" x=\"288.5\" y=\"41\"/><text fill=\"#000000\" font-family=\"sans-serif\" font-size=\"12\" font-style=\"italic\" lengthAdjust=\"spacing\" textLength=\"64\" x=\"395\" y=\"57.1387\">«analysis»</text><text fill=\"#000000\" font-family=\"sans-serif\" font-size=\"14\" lengthAdjust=\"spacing\" textLength=\"215\" x=\"315.5\" y=\"72.9639\">engineTradeStudy: TradeStudy</text><line style=\"stroke:#181818;stroke-width:0.5;\" x1=\"289.5\" x2=\"564.5\" y1=\"81.2656\" y2=\"81.2656\"/><text fill=\"#000000\" font-family=\"sans-serif\" font-size=\"14\" lengthAdjust=\"spacing\" textLength=\"261\" x=\"294.5\" y=\"108.7795\">studyAlternatives: Engine = (engine1,</text><text fill=\"#000000\" font-family=\"sans-serif\" font-size=\"14\" lengthAdjust=\"spacing\" textLength=\"62\" x=\"294.5\" y=\"125.0764\">engine2)</text><text fill=\"#000000\" font-family=\"sans-serif\" font-size=\"14\" font-style=\"italic\" lengthAdjust=\"spacing\" textLength=\"51\" x=\"401.5\" y=\"93.6123\">subject</text></g></a><!--MD5=[60a26617385b1d2d0262a64233df1f8d]\n",
       "class E6--><a href=\"psysml:4f755969-6586-456d-bfaa-2c124f0f3312\" target=\"_top\" title=\"psysml:4f755969-6586-456d-bfaa-2c124f0f3312\" xlink:actuate=\"onRequest\" xlink:href=\"psysml:4f755969-6586-456d-bfaa-2c124f0f3312\" xlink:show=\"new\" xlink:title=\"psysml:4f755969-6586-456d-bfaa-2c124f0f3312\" xlink:type=\"simple\"><g id=\"elem_E6\"><rect fill=\"#FFFFFF\" height=\"75.0813\" id=\"E6\" rx=\"10\" ry=\"10\" style=\"stroke:#181818;stroke-width:0.5;\" width=\"289\" x=\"31.5\" y=\"192\"/><text fill=\"#000000\" font-family=\"sans-serif\" font-size=\"12\" font-style=\"italic\" lengthAdjust=\"spacing\" textLength=\"91\" x=\"130.5\" y=\"208.1387\">«requirement»</text><text fill=\"#000000\" font-family=\"sans-serif\" font-size=\"14\" lengthAdjust=\"spacing\" textLength=\"275\" x=\"34.5\" y=\"223.9639\">tradeStudyObjective: MaximizeObjective</text><line style=\"stroke:#181818;stroke-width:0.5;\" x1=\"32.5\" x2=\"319.5\" y1=\"232.2656\" y2=\"232.2656\"/><text fill=\"#000000\" font-family=\"sans-serif\" font-size=\"14\" lengthAdjust=\"spacing\" textLength=\"132\" x=\"37.5\" y=\"259.7795\">selectedAlternative</text><text fill=\"#000000\" font-family=\"sans-serif\" font-size=\"14\" font-style=\"italic\" lengthAdjust=\"spacing\" textLength=\"51\" x=\"150.5\" y=\"244.6123\">subject</text></g></a><!--MD5=[2156ba9850f5573cc1fc38a6a4b2f02b]\n",
       "class E7--><a href=\"psysml:f253b0d3-72ce-4ec1-aa97-c21cff35f053\" target=\"_top\" title=\"psysml:f253b0d3-72ce-4ec1-aa97-c21cff35f053\" xlink:actuate=\"onRequest\" xlink:href=\"psysml:f253b0d3-72ce-4ec1-aa97-c21cff35f053\" xlink:show=\"new\" xlink:title=\"psysml:f253b0d3-72ce-4ec1-aa97-c21cff35f053\" xlink:type=\"simple\"><g id=\"elem_E7\"><rect fill=\"#FFFFFF\" height=\"48.2656\" id=\"E7\" rx=\"10\" ry=\"10\" style=\"stroke:#181818;stroke-width:0.5;\" width=\"144\" x=\"355\" y=\"205.5\"/><text fill=\"#000000\" font-family=\"sans-serif\" font-size=\"12\" font-style=\"italic\" lengthAdjust=\"spacing\" textLength=\"82\" x=\"386\" y=\"221.6387\">«calculation»</text><text fill=\"#000000\" font-family=\"sans-serif\" font-size=\"14\" lengthAdjust=\"spacing\" textLength=\"130\" x=\"358\" y=\"237.4639\">evaluationFunction</text><line style=\"stroke:#181818;stroke-width:0.5;\" x1=\"356\" x2=\"498\" y1=\"245.7656\" y2=\"245.7656\"/></g></a><!--MD5=[b9389687b975829384b498ac4b7476b2]\n",
       "class E8--><a href=\"psysml:753de58d-f4ea-44a5-91ee-5ffc5e7a177d\" target=\"_top\" title=\"psysml:753de58d-f4ea-44a5-91ee-5ffc5e7a177d\" xlink:actuate=\"onRequest\" xlink:href=\"psysml:753de58d-f4ea-44a5-91ee-5ffc5e7a177d\" xlink:show=\"new\" xlink:title=\"psysml:753de58d-f4ea-44a5-91ee-5ffc5e7a177d\" xlink:type=\"simple\"><g id=\"elem_E8\"><rect fill=\"#FFFFFF\" height=\"48.2656\" id=\"E8\" rx=\"10\" ry=\"10\" style=\"stroke:#181818;stroke-width:0.5;\" width=\"142\" x=\"232\" y=\"327\"/><text fill=\"#000000\" font-family=\"sans-serif\" font-size=\"12\" font-style=\"italic\" lengthAdjust=\"spacing\" textLength=\"40\" x=\"283\" y=\"343.1387\">«part»</text><text fill=\"#000000\" font-family=\"sans-serif\" font-size=\"14\" lengthAdjust=\"spacing\" textLength=\"128\" x=\"235\" y=\"358.9639\">alternative: Engine</text><line style=\"stroke:#181818;stroke-width:0.5;\" x1=\"233\" x2=\"373\" y1=\"367.2656\" y2=\"367.2656\"/></g></a><!--MD5=[fd4143e9d270a159db93a4ea2a975926]\n",
       "class E9--><a href=\"psysml:76ff8411-b0e7-4dd9-89c0-3f2666988fc0\" target=\"_top\" title=\"psysml:76ff8411-b0e7-4dd9-89c0-3f2666988fc0\" xlink:actuate=\"onRequest\" xlink:href=\"psysml:76ff8411-b0e7-4dd9-89c0-3f2666988fc0\" xlink:show=\"new\" xlink:title=\"psysml:76ff8411-b0e7-4dd9-89c0-3f2666988fc0\" xlink:type=\"simple\"><g id=\"elem_E9\"><rect fill=\"#FFFFFF\" height=\"48.2656\" id=\"E9\" rx=\"10\" ry=\"10\" style=\"stroke:#181818;stroke-width:0.5;\" width=\"203\" x=\"534.5\" y=\"205.5\"/><text fill=\"#000000\" font-family=\"sans-serif\" font-size=\"12\" font-style=\"italic\" lengthAdjust=\"spacing\" textLength=\"40\" x=\"616\" y=\"221.6387\">«part»</text><text fill=\"#000000\" font-family=\"sans-serif\" font-size=\"14\" lengthAdjust=\"spacing\" textLength=\"189\" x=\"537.5\" y=\"237.4639\">selectedAlternative: Engine</text><line style=\"stroke:#181818;stroke-width:0.5;\" x1=\"535.5\" x2=\"736.5\" y1=\"245.7656\" y2=\"245.7656\"/></g></a><!--MD5=[05d275557350bfb9b23a4ef7222b4c39]\n",
       "link E3 to E2--><g id=\"link_E3_E2\"><a href=\"psysml:bc3cf079-eae7-49ce-b297-ec132a977e50\" target=\"_top\" title=\"psysml:bc3cf079-eae7-49ce-b297-ec132a977e50\" xlink:actuate=\"onRequest\" xlink:href=\"psysml:bc3cf079-eae7-49ce-b297-ec132a977e50\" xlink:show=\"new\" xlink:title=\"psysml:bc3cf079-eae7-49ce-b297-ec132a977e50\" xlink:type=\"simple\"><path d=\"M673,375.04 C673,409.01 673,467 673,467 C673,467 515.17,467 515.17,467 \" fill=\"none\" id=\"E3-to-E2\" style=\"stroke:#181818;stroke-width:1.0;\"/><polygon fill=\"#FFFFFF\" points=\"495.17,467,514.17,460,514.17,474,495.17,467\" style=\"stroke:#181818;stroke-width:1.0;\"/><ellipse cx=\"519.87\" cy=\"462\" fill=\"#181818\" rx=\"2\" ry=\"2\" style=\"stroke:#181818;stroke-width:1.0;\"/><ellipse cx=\"519.87\" cy=\"472\" fill=\"#181818\" rx=\"2\" ry=\"2\" style=\"stroke:#181818;stroke-width:1.0;\"/></a></g><!--MD5=[185131fc0dcab0a4505a2ebe144e961b]\n",
       "link E4 to E2--><g id=\"link_E4_E2\"><a href=\"psysml:aa1a99dc-dc69-45ac-b95f-3bcc471ea5d4\" target=\"_top\" title=\"psysml:aa1a99dc-dc69-45ac-b95f-3bcc471ea5d4\" xlink:actuate=\"onRequest\" xlink:href=\"psysml:aa1a99dc-dc69-45ac-b95f-3bcc471ea5d4\" xlink:show=\"new\" xlink:title=\"psysml:aa1a99dc-dc69-45ac-b95f-3bcc471ea5d4\" xlink:type=\"simple\"><path d=\"M470.5,375.24 C470.5,375.24 470.5,414.84 470.5,414.84 \" fill=\"none\" id=\"E4-to-E2\" style=\"stroke:#181818;stroke-width:1.0;\"/><polygon fill=\"#FFFFFF\" points=\"470.5,434.84,463.5,415.84,477.5,415.84,470.5,434.84\" style=\"stroke:#181818;stroke-width:1.0;\"/><ellipse cx=\"465.5\" cy=\"410.14\" fill=\"#181818\" rx=\"2\" ry=\"2\" style=\"stroke:#181818;stroke-width:1.0;\"/><ellipse cx=\"475.5\" cy=\"410.14\" fill=\"#181818\" rx=\"2\" ry=\"2\" style=\"stroke:#181818;stroke-width:1.0;\"/></a></g><!--MD5=[9120cf2e5df3bff93db8f754bbbc09b4]\n",
       "link E5 to E6--><g id=\"link_E5_E6\"><a href=\"psysml:8e017d7e-1da3-4c9b-9b63-350890040555\" target=\"_top\" title=\"psysml:8e017d7e-1da3-4c9b-9b63-350890040555\" xlink:actuate=\"onRequest\" xlink:href=\"psysml:8e017d7e-1da3-4c9b-9b63-350890040555\" xlink:show=\"new\" xlink:title=\"psysml:8e017d7e-1da3-4c9b-9b63-350890040555\" xlink:type=\"simple\"><path d=\"M304.5,132.14 C304.5,132.14 304.5,183.94 304.5,183.94 \" fill=\"none\" id=\"E5-to-E6\" style=\"stroke:#181818;stroke-width:1.0;\"/><polygon fill=\"#181818\" points=\"304.5,191.94,307.5,183.94,301.5,183.94,304.5,191.94\" style=\"stroke:#181818;stroke-width:1.0;\"/><text fill=\"#000000\" font-family=\"sans-serif\" font-size=\"13\" lengthAdjust=\"spacing\" textLength=\"73\" x=\"230.5\" y=\"154.1069\">«objective»</text></a></g><!--MD5=[452b418e7f8a40397a49b8c0a78acc5b]\n",
       "reverse link E5 to E7--><g id=\"link_E5_E7\"><a href=\"psysml:ae0ddffd-d94b-4ee5-a4cb-a499b90c2b96\" target=\"_top\" title=\"psysml:ae0ddffd-d94b-4ee5-a4cb-a499b90c2b96\" xlink:actuate=\"onRequest\" xlink:href=\"psysml:ae0ddffd-d94b-4ee5-a4cb-a499b90c2b96\" xlink:show=\"new\" xlink:title=\"psysml:ae0ddffd-d94b-4ee5-a4cb-a499b90c2b96\" xlink:type=\"simple\"><path d=\"M427,145.14 C427,145.14 427,205.46 427,205.46 \" fill=\"none\" id=\"E5-backto-E7\" style=\"stroke:#181818;stroke-width:1.0;\"/><polygon fill=\"#181818\" points=\"427,132.14,423,138.14,427,144.14,431,138.14,427,132.14\" style=\"stroke:#181818;stroke-width:1.0;\"/></a></g><!--MD5=[dc164f5e8a733ab456ef1add180e9e34]\n",
       "reverse link E7 to E8--><g id=\"link_E7_E8\"><a href=\"psysml:a8c82a2a-741b-4fac-ac9b-98beb228d3cb\" target=\"_top\" title=\"psysml:a8c82a2a-741b-4fac-ac9b-98beb228d3cb\" xlink:actuate=\"onRequest\" xlink:href=\"psysml:a8c82a2a-741b-4fac-ac9b-98beb228d3cb\" xlink:show=\"new\" xlink:title=\"psysml:a8c82a2a-741b-4fac-ac9b-98beb228d3cb\" xlink:type=\"simple\"><path d=\"M364.5,266.5 C364.5,266.5 364.5,326.63 364.5,326.63 \" fill=\"none\" id=\"E7-backto-E8\" style=\"stroke:#181818;stroke-width:1.0;\"/><polygon fill=\"none\" points=\"364.5,253.5,360.5,259.5,364.5,265.5,368.5,259.5,364.5,253.5\" style=\"stroke:#181818;stroke-width:1.0;\"/></a></g><!--MD5=[f1f3f9f2fc535e6147756cb86a7f2e32]\n",
       "link E8 to E2--><g id=\"link_E8_E2\"><a href=\"psysml:199cdd6b-9599-4ee9-8d7a-04a31416ec15\" target=\"_top\" title=\"psysml:199cdd6b-9599-4ee9-8d7a-04a31416ec15\" xlink:actuate=\"onRequest\" xlink:href=\"psysml:199cdd6b-9599-4ee9-8d7a-04a31416ec15\" xlink:show=\"new\" xlink:title=\"psysml:199cdd6b-9599-4ee9-8d7a-04a31416ec15\" xlink:type=\"simple\"><path d=\"M374.29,351 C405.65,351 435.5,351 435.5,351 C435.5,351 435.5,414.76 435.5,414.76 \" fill=\"none\" id=\"E8-to-E2\" style=\"stroke:#181818;stroke-width:1.0;\"/><polygon fill=\"#FFFFFF\" points=\"435.5,434.76,428.5,415.76,442.5,415.76,435.5,434.76\" style=\"stroke:#181818;stroke-width:1.0;\"/><ellipse cx=\"430.5\" cy=\"410.06\" fill=\"#181818\" rx=\"2\" ry=\"2\" style=\"stroke:#181818;stroke-width:1.0;\"/><ellipse cx=\"440.5\" cy=\"410.06\" fill=\"#181818\" rx=\"2\" ry=\"2\" style=\"stroke:#181818;stroke-width:1.0;\"/></a></g><!--MD5=[9ae28de373ca99bb8a1b38d63370ca7e]\n",
       "reverse link E5 to E9--><g id=\"link_E5_E9\"><a href=\"psysml:549a8511-5afb-4107-9df8-0f136ad572ec\" target=\"_top\" title=\"psysml:549a8511-5afb-4107-9df8-0f136ad572ec\" xlink:actuate=\"onRequest\" xlink:href=\"psysml:549a8511-5afb-4107-9df8-0f136ad572ec\" xlink:show=\"new\" xlink:title=\"psysml:549a8511-5afb-4107-9df8-0f136ad572ec\" xlink:type=\"simple\"><path d=\"M550,145.14 C550,145.14 550,205.46 550,205.46 \" fill=\"none\" id=\"E5-backto-E9\" style=\"stroke:#181818;stroke-width:1.0;\"/><polygon fill=\"none\" points=\"550,132.14,546,138.14,550,144.14,554,138.14,550,132.14\" style=\"stroke:#181818;stroke-width:1.0;\"/></a></g><!--MD5=[5c3bb36fe832a92c7f0e1807dd65209d]\n",
       "link E9 to E2--><g id=\"link_E9_E2\"><a href=\"psysml:94a3a0b9-9284-4132-a69a-1dbd276e1390\" target=\"_top\" title=\"psysml:94a3a0b9-9284-4132-a69a-1dbd276e1390\" xlink:actuate=\"onRequest\" xlink:href=\"psysml:94a3a0b9-9284-4132-a69a-1dbd276e1390\" xlink:show=\"new\" xlink:title=\"psysml:94a3a0b9-9284-4132-a69a-1dbd276e1390\" xlink:type=\"simple\"><path d=\"M591.5,253.63 C591.5,311.03 591.5,451 591.5,451 C591.5,451 515.24,451 515.24,451 \" fill=\"none\" id=\"E9-to-E2\" style=\"stroke:#181818;stroke-width:1.0;\"/><polygon fill=\"#FFFFFF\" points=\"495.24,451,514.24,444,514.24,458,495.24,451\" style=\"stroke:#181818;stroke-width:1.0;\"/><ellipse cx=\"519.94\" cy=\"446\" fill=\"#181818\" rx=\"2\" ry=\"2\" style=\"stroke:#181818;stroke-width:1.0;\"/><ellipse cx=\"519.94\" cy=\"456\" fill=\"#181818\" rx=\"2\" ry=\"2\" style=\"stroke:#181818;stroke-width:1.0;\"/></a></g><!--MD5=[b5b8a76eefdc3c6da5be48d6ad5f546f]\n",
       "@startuml\r\n",
       "skin sysmlbw\r\n",
       "skinparam monochrome true\r\n",
       "skinparam wrapWidth 300\r\n",
       "hide circle\r\n",
       "skinparam linetype ortho\r\n",
       "\r\n",
       "package \"TradeStudyTest\" as E1  [[psysml:a91f55f8-3969-42e6-b46f-82de9da3fdc7 ]]  {\r\n",
       "comp def \"Engine\" as E2  <<(T,blue) part  def>> [[psysml:8055cf29-c4ca-4370-b025-bca5bf4f4944 ]] {\r\n",
       "}\r\n",
       "comp usage \"engine1: Engine  \" as E3  <<(T,blue) part>> [[psysml:479197b1-ce2e-480f-b2ef-7f257dc343b8 ]] {\r\n",
       "}\r\n",
       "comp usage \"engine2: Engine  \" as E4  <<(T,blue) part>> [[psysml:df8f9049-6917-4fa7-a1c9-f212538c9a4e ]] {\r\n",
       "}\r\n",
       "comp usage \"engineTradeStudy: TradeStudy  \" as E5  << analysis>> [[psysml:538ece1f-cb66-4e09-817f-0abcddd62ddd ]] {\r\n",
       "##//subject//##\r\n",
       "studyAlternatives: Engine <U+003D> (engine1, engine2)\r\n",
       "}\r\n",
       "comp usage \"tradeStudyObjective: MaximizeObjective  \" as E6  <<(T,blue) requirement>> [[psysml:4f755969-6586-456d-bfaa-2c124f0f3312 ]] {\r\n",
       "##//subject//##\r\n",
       "selectedAlternative\r\n",
       "}\r\n",
       "comp usage \"evaluationFunction  \" as E7  <<(T,blue) calculation>> [[psysml:f253b0d3-72ce-4ec1-aa97-c21cff35f053 ]] {\r\n",
       "}\r\n",
       "comp usage \"alternative: Engine  \" as E8  <<(T,blue) part>> [[psysml:753de58d-f4ea-44a5-91ee-5ffc5e7a177d ]] {\r\n",
       "}\r\n",
       "comp usage \"selectedAlternative: Engine  \" as E9  <<(T,blue) part>> [[psysml:76ff8411-b0e7-4dd9-89c0-3f2666988fc0 ]] {\r\n",
       "}\r\n",
       "}\r\n",
       "E3 - -:|> E2 [[psysml:bc3cf079-eae7-49ce-b297-ec132a977e50 ]] \r\n",
       "E4 - -:|> E2 [[psysml:aa1a99dc-dc69-45ac-b95f-3bcc471ea5d4 ]] \r\n",
       "E5 - ->> E6 [[psysml:8e017d7e-1da3-4c9b-9b63-350890040555 ]] : <<objective>>\r\n",
       "E5 *- - E7 [[psysml:ae0ddffd-d94b-4ee5-a4cb-a499b90c2b96 ]] \r\n",
       "E7 o- - E8 [[psysml:a8c82a2a-741b-4fac-ac9b-98beb228d3cb ]] \r\n",
       "E8 - -:|> E2 [[psysml:199cdd6b-9599-4ee9-8d7a-04a31416ec15 ]] \r\n",
       "E5 o- - E9 [[psysml:549a8511-5afb-4107-9df8-0f136ad572ec ]] \r\n",
       "E9 - -:|> E2 [[psysml:94a3a0b9-9284-4132-a69a-1dbd276e1390 ]] \r\n",
       "@enduml\r\n",
       "\n",
       "PlantUML version 1.2022.7(Mon Aug 22 17:01:30 UTC 2022)\n",
       "(EPL source distribution)\n",
       "Java Runtime: OpenJDK Runtime Environment\n",
       "JVM: OpenJDK 64-Bit Server VM\n",
       "Default Encoding: UTF-8\n",
       "Language: en\n",
       "Country: null\n",
       "--></g></svg>"
      ]
     },
     "execution_count": 52,
     "metadata": {},
     "output_type": "execute_result"
    }
   ],
   "source": [
    "%viz --style=\"ORTHOLINE\" --view=\"Tree\" \"TradeStudyTest\""
   ]
  },
  {
   "cell_type": "code",
   "execution_count": 53,
   "id": "b3b2732f",
   "metadata": {
    "execution": {
     "iopub.execute_input": "2024-12-16T14:21:11.021862Z",
     "iopub.status.busy": "2024-12-16T14:21:11.021644Z",
     "iopub.status.idle": "2024-12-16T14:21:11.027285Z",
     "shell.execute_reply": "2024-12-16T14:21:11.027420Z"
    }
   },
   "outputs": [
    {
     "data": {
      "image/svg+xml": [
       "<?xml version=\"1.0\" encoding=\"UTF-8\" standalone=\"no\"?><svg xmlns=\"http://www.w3.org/2000/svg\" xmlns:xlink=\"http://www.w3.org/1999/xlink\" contentStyleType=\"text/css\" height=\"10px\" preserveAspectRatio=\"none\" style=\"width:10px;height:10px;background:#FFFFFF;\" version=\"1.1\" viewBox=\"0 0 10 10\" width=\"10px\" zoomAndPan=\"magnify\"><defs/><g><!--MD5=[db5337d1ba6fd3a35e07e04988169323]\n",
       "@startuml\r\n",
       "skin sysmlbw\r\n",
       "skinparam monochrome true\r\n",
       "skinparam wrapWidth 300\r\n",
       "hide circle\r\n",
       "skinparam linetype ortho\r\n",
       "\r\n",
       "@enduml\r\n",
       "\n",
       "PlantUML version 1.2022.7(Mon Aug 22 17:01:30 UTC 2022)\n",
       "(EPL source distribution)\n",
       "Java Runtime: OpenJDK Runtime Environment\n",
       "JVM: OpenJDK 64-Bit Server VM\n",
       "Default Encoding: UTF-8\n",
       "Language: en\n",
       "Country: null\n",
       "--></g></svg>"
      ]
     },
     "execution_count": 53,
     "metadata": {},
     "output_type": "execute_result"
    }
   ],
   "source": [
    "%viz --style=\"ORTHOLINE\" --view=\"State\" \"TradeStudyTest\""
   ]
  },
  {
   "cell_type": "code",
   "execution_count": 54,
   "id": "9ba92b2d",
   "metadata": {
    "execution": {
     "iopub.execute_input": "2024-12-16T14:21:11.083481Z",
     "iopub.status.busy": "2024-12-16T14:21:11.083130Z",
     "iopub.status.idle": "2024-12-16T14:21:11.107522Z",
     "shell.execute_reply": "2024-12-16T14:21:11.106706Z"
    }
   },
   "outputs": [
    {
     "data": {
      "image/svg+xml": [
       "<?xml version=\"1.0\" encoding=\"UTF-8\" standalone=\"no\"?><svg xmlns=\"http://www.w3.org/2000/svg\" xmlns:xlink=\"http://www.w3.org/1999/xlink\" contentStyleType=\"text/css\" height=\"415px\" preserveAspectRatio=\"none\" style=\"width:565px;height:415px;background:#FFFFFF;\" version=\"1.1\" viewBox=\"0 0 565 415\" width=\"565px\" zoomAndPan=\"magnify\"><defs/><g><!--MD5=[fbc87193dbaf4d95561dea2c320d4a47]\n",
       "cluster E1--><g id=\"cluster_E1\"><a href=\"psysml:a91f55f8-3969-42e6-b46f-82de9da3fdc7\" target=\"_top\" title=\"psysml:a91f55f8-3969-42e6-b46f-82de9da3fdc7\" xlink:actuate=\"onRequest\" xlink:href=\"psysml:a91f55f8-3969-42e6-b46f-82de9da3fdc7\" xlink:show=\"new\" xlink:title=\"psysml:a91f55f8-3969-42e6-b46f-82de9da3fdc7\" xlink:type=\"simple\"><polygon fill=\"none\" points=\"16,6,138.125,6,145.125,28.2969,548,28.2969,548,408,16,408,16,6\" style=\"stroke:#000000;stroke-width:1.5;\"/><line style=\"stroke:#000000;stroke-width:1.5;\" x1=\"16\" x2=\"145.125\" y1=\"28.2969\" y2=\"28.2969\"/><text fill=\"#000000\" font-family=\"sans-serif\" font-size=\"14\" font-weight=\"bold\" lengthAdjust=\"spacing\" textLength=\"116.125\" x=\"20\" y=\"20.9951\">TradeStudyTest</text></a></g><!--MD5=[de5ec2e2e8f62f467e546659f5068c88]\n",
       "cluster E5--><g id=\"cluster_E5\"><a href=\"psysml:538ece1f-cb66-4e09-817f-0abcddd62ddd\" target=\"_top\" title=\"psysml:538ece1f-cb66-4e09-817f-0abcddd62ddd\" xlink:actuate=\"onRequest\" xlink:href=\"psysml:538ece1f-cb66-4e09-817f-0abcddd62ddd\" xlink:show=\"new\" xlink:title=\"psysml:538ece1f-cb66-4e09-817f-0abcddd62ddd\" xlink:type=\"simple\"><rect fill=\"#FFFFFF\" height=\"158\" id=\"E5\" rx=\"10\" ry=\"10\" style=\"stroke:#383838;stroke-width:1.5;\" width=\"250\" x=\"231\" y=\"57\"/><text fill=\"#000000\" font-family=\"sans-serif\" font-size=\"12\" font-style=\"italic\" lengthAdjust=\"spacing\" textLength=\"64\" x=\"324\" y=\"73.1387\">«analysis»</text><text fill=\"#000000\" font-family=\"sans-serif\" font-size=\"14\" lengthAdjust=\"spacing\" textLength=\"215\" x=\"244.5\" y=\"88.9639\">engineTradeStudy: TradeStudy</text><line style=\"stroke:#383838;stroke-width:1.0;\" x1=\"231\" x2=\"481\" y1=\"97.2656\" y2=\"97.2656\"/></a></g><!--MD5=[2156ba9850f5573cc1fc38a6a4b2f02b]\n",
       "class E7--><a href=\"psysml:f253b0d3-72ce-4ec1-aa97-c21cff35f053\" target=\"_top\" title=\"psysml:f253b0d3-72ce-4ec1-aa97-c21cff35f053\" xlink:actuate=\"onRequest\" xlink:href=\"psysml:f253b0d3-72ce-4ec1-aa97-c21cff35f053\" xlink:show=\"new\" xlink:title=\"psysml:f253b0d3-72ce-4ec1-aa97-c21cff35f053\" xlink:type=\"simple\"><g id=\"elem_E7\"><rect fill=\"#FFFFFF\" height=\"48.2656\" id=\"E7\" rx=\"10\" ry=\"10\" style=\"stroke:#181818;stroke-width:0.5;\" width=\"144\" x=\"150\" y=\"239\"/><text fill=\"#000000\" font-family=\"sans-serif\" font-size=\"12\" font-style=\"italic\" lengthAdjust=\"spacing\" textLength=\"82\" x=\"181\" y=\"255.1387\">«calculation»</text><text fill=\"#000000\" font-family=\"sans-serif\" font-size=\"14\" lengthAdjust=\"spacing\" textLength=\"130\" x=\"153\" y=\"270.9639\">evaluationFunction</text><line style=\"stroke:#181818;stroke-width:0.5;\" x1=\"151\" x2=\"293\" y1=\"279.2656\" y2=\"279.2656\"/></g></a><!--MD5=[b9389687b975829384b498ac4b7476b2]\n",
       "class E8--><a href=\"psysml:753de58d-f4ea-44a5-91ee-5ffc5e7a177d\" target=\"_top\" title=\"psysml:753de58d-f4ea-44a5-91ee-5ffc5e7a177d\" xlink:actuate=\"onRequest\" xlink:href=\"psysml:753de58d-f4ea-44a5-91ee-5ffc5e7a177d\" xlink:show=\"new\" xlink:title=\"psysml:753de58d-f4ea-44a5-91ee-5ffc5e7a177d\" xlink:type=\"simple\"><g id=\"elem_E8\"><rect fill=\"#FFFFFF\" height=\"34.2969\" id=\"E8\" rx=\"10\" ry=\"10\" style=\"stroke:#181818;stroke-width:0.5;\" width=\"142\" x=\"353\" y=\"300\"/><text fill=\"#000000\" font-family=\"sans-serif\" font-size=\"14\" lengthAdjust=\"spacing\" textLength=\"128\" x=\"356\" y=\"317.9951\">alternative: Engine</text><line style=\"stroke:#181818;stroke-width:0.5;\" x1=\"354\" x2=\"494\" y1=\"326.2969\" y2=\"326.2969\"/></g></a><!--MD5=[fd4143e9d270a159db93a4ea2a975926]\n",
       "class E9--><a href=\"psysml:76ff8411-b0e7-4dd9-89c0-3f2666988fc0\" target=\"_top\" title=\"psysml:76ff8411-b0e7-4dd9-89c0-3f2666988fc0\" xlink:actuate=\"onRequest\" xlink:href=\"psysml:76ff8411-b0e7-4dd9-89c0-3f2666988fc0\" xlink:show=\"new\" xlink:title=\"psysml:76ff8411-b0e7-4dd9-89c0-3f2666988fc0\" xlink:type=\"simple\"><g id=\"elem_E9\"><rect fill=\"#FFFFFF\" height=\"34.2969\" id=\"E9\" rx=\"10\" ry=\"10\" style=\"stroke:#181818;stroke-width:0.5;\" width=\"203\" x=\"329.5\" y=\"246\"/><text fill=\"#000000\" font-family=\"sans-serif\" font-size=\"14\" lengthAdjust=\"spacing\" textLength=\"189\" x=\"332.5\" y=\"263.9951\">selectedAlternative: Engine</text><line style=\"stroke:#181818;stroke-width:0.5;\" x1=\"330.5\" x2=\"531.5\" y1=\"272.2969\" y2=\"272.2969\"/></g></a><g><a href=\"psysml:8055cf29-c4ca-4370-b025-bca5bf4f4944\" target=\"_top\" title=\"psysml:8055cf29-c4ca-4370-b025-bca5bf4f4944\" xlink:actuate=\"onRequest\" xlink:href=\"psysml:8055cf29-c4ca-4370-b025-bca5bf4f4944\" xlink:show=\"new\" xlink:title=\"psysml:8055cf29-c4ca-4370-b025-bca5bf4f4944\" xlink:type=\"simple\"><rect fill=\"#FFFFFF\" height=\"45.2656\" id=\"E2\" style=\"stroke:#383838;stroke-width:1.5;\" width=\"75\" x=\"301.5\" y=\"347\"/><text fill=\"#000000\" font-family=\"sans-serif\" font-size=\"12\" font-style=\"italic\" lengthAdjust=\"spacing\" textLength=\"68\" x=\"305\" y=\"363.1387\">«part  def»</text><text fill=\"#000000\" font-family=\"sans-serif\" font-size=\"14\" lengthAdjust=\"spacing\" textLength=\"48\" x=\"315\" y=\"378.9639\">Engine</text></a></g><g><a href=\"psysml:479197b1-ce2e-480f-b2ef-7f257dc343b8\" target=\"_top\" title=\"psysml:479197b1-ce2e-480f-b2ef-7f257dc343b8\" xlink:actuate=\"onRequest\" xlink:href=\"psysml:479197b1-ce2e-480f-b2ef-7f257dc343b8\" xlink:show=\"new\" xlink:title=\"psysml:479197b1-ce2e-480f-b2ef-7f257dc343b8\" xlink:type=\"simple\"><rect fill=\"#FFFFFF\" height=\"40\" id=\"E3\" rx=\"10\" ry=\"10\" style=\"stroke:#383838;stroke-width:1.5;\" width=\"125\" x=\"192.5\" y=\"297\"/><text fill=\"#000000\" font-family=\"sans-serif\" font-size=\"14\" lengthAdjust=\"spacing\" textLength=\"114\" x=\"198\" y=\"314.9951\">engine1: Engine</text></a></g><g><a href=\"psysml:df8f9049-6917-4fa7-a1c9-f212538c9a4e\" target=\"_top\" title=\"psysml:df8f9049-6917-4fa7-a1c9-f212538c9a4e\" xlink:actuate=\"onRequest\" xlink:href=\"psysml:df8f9049-6917-4fa7-a1c9-f212538c9a4e\" xlink:show=\"new\" xlink:title=\"psysml:df8f9049-6917-4fa7-a1c9-f212538c9a4e\" xlink:type=\"simple\"><rect fill=\"#FFFFFF\" height=\"40\" id=\"E4\" rx=\"10\" ry=\"10\" style=\"stroke:#383838;stroke-width:1.5;\" width=\"125\" x=\"32.5\" y=\"297\"/><text fill=\"#000000\" font-family=\"sans-serif\" font-size=\"14\" lengthAdjust=\"spacing\" textLength=\"114\" x=\"38\" y=\"314.9951\">engine2: Engine</text></a></g><!--MD5=[60a26617385b1d2d0262a64233df1f8d]\n",
       "class E6--><a href=\"psysml:4f755969-6586-456d-bfaa-2c124f0f3312\" target=\"_top\" title=\"psysml:4f755969-6586-456d-bfaa-2c124f0f3312\" xlink:actuate=\"onRequest\" xlink:href=\"psysml:4f755969-6586-456d-bfaa-2c124f0f3312\" xlink:show=\"new\" xlink:title=\"psysml:4f755969-6586-456d-bfaa-2c124f0f3312\" xlink:type=\"simple\"><g id=\"elem_E6\"><rect fill=\"#FFFFFF\" height=\"75.0813\" id=\"E6\" rx=\"10\" ry=\"10\" style=\"stroke:#181818;stroke-width:0.5;\" width=\"145\" x=\"301.5\" y=\"116\"/><text fill=\"#000000\" font-family=\"sans-serif\" font-size=\"12\" font-style=\"italic\" lengthAdjust=\"spacing\" textLength=\"70\" x=\"339\" y=\"132.1387\">«objective»</text><text fill=\"#000000\" font-family=\"sans-serif\" font-size=\"14\" lengthAdjust=\"spacing\" textLength=\"139\" x=\"304.5\" y=\"147.9639\">tradeStudyObjective</text><line style=\"stroke:#181818;stroke-width:0.5;\" x1=\"302.5\" x2=\"445.5\" y1=\"156.2656\" y2=\"156.2656\"/><text fill=\"#000000\" font-family=\"sans-serif\" font-size=\"14\" lengthAdjust=\"spacing\" textLength=\"132\" x=\"307.5\" y=\"183.7795\">selectedAlternative</text><text fill=\"#000000\" font-family=\"sans-serif\" font-size=\"14\" font-style=\"italic\" lengthAdjust=\"spacing\" textLength=\"51\" x=\"348.5\" y=\"168.6123\">subject</text></g></a><!--MD5=[05d275557350bfb9b23a4ef7222b4c39]\n",
       "link E3 to E2--><g id=\"link_E3_E2\"><a href=\"psysml:bc3cf079-eae7-49ce-b297-ec132a977e50\" target=\"_top\" title=\"psysml:bc3cf079-eae7-49ce-b297-ec132a977e50\" xlink:actuate=\"onRequest\" xlink:href=\"psysml:bc3cf079-eae7-49ce-b297-ec132a977e50\" xlink:show=\"new\" xlink:title=\"psysml:bc3cf079-eae7-49ce-b297-ec132a977e50\" xlink:type=\"simple\"><path d=\"M309.5,337.15 C309.5,337.15 309.5,338.1 309.5,338.1 \" fill=\"none\" id=\"E3-to-E2\" style=\"stroke:#181818;stroke-width:1.0;\"/><polygon fill=\"#FFFFFF\" points=\"309.5,346.69,302.5,327.69,316.5,327.69,309.5,346.69\" style=\"stroke:#181818;stroke-width:1.0;\"/><ellipse cx=\"304.5\" cy=\"321.99\" fill=\"#181818\" rx=\"2\" ry=\"2\" style=\"stroke:#181818;stroke-width:1.0;\"/><ellipse cx=\"314.5\" cy=\"321.99\" fill=\"#181818\" rx=\"2\" ry=\"2\" style=\"stroke:#181818;stroke-width:1.0;\"/></a></g><!--MD5=[185131fc0dcab0a4505a2ebe144e961b]\n",
       "link E4 to E2--><g id=\"link_E4_E2\"><a href=\"psysml:aa1a99dc-dc69-45ac-b95f-3bcc471ea5d4\" target=\"_top\" title=\"psysml:aa1a99dc-dc69-45ac-b95f-3bcc471ea5d4\" xlink:actuate=\"onRequest\" xlink:href=\"psysml:aa1a99dc-dc69-45ac-b95f-3bcc471ea5d4\" xlink:show=\"new\" xlink:title=\"psysml:aa1a99dc-dc69-45ac-b95f-3bcc471ea5d4\" xlink:type=\"simple\"><path d=\"M95,337.04 C95,352.05 95,370 95,370 C95,370 281.41,370 281.41,370 \" fill=\"none\" id=\"E4-to-E2\" style=\"stroke:#181818;stroke-width:1.0;\"/><polygon fill=\"#FFFFFF\" points=\"301.41,370,282.41,377,282.41,363,301.41,370\" style=\"stroke:#181818;stroke-width:1.0;\"/><ellipse cx=\"276.71\" cy=\"375\" fill=\"#181818\" rx=\"2\" ry=\"2\" style=\"stroke:#181818;stroke-width:1.0;\"/><ellipse cx=\"276.71\" cy=\"365\" fill=\"#181818\" rx=\"2\" ry=\"2\" style=\"stroke:#181818;stroke-width:1.0;\"/></a></g><!--MD5=[452b418e7f8a40397a49b8c0a78acc5b]\n",
       "reverse link E5 to E7--><g id=\"link_E5_E7\"><a href=\"psysml:ae0ddffd-d94b-4ee5-a4cb-a499b90c2b96\" target=\"_top\" title=\"psysml:ae0ddffd-d94b-4ee5-a4cb-a499b90c2b96\" xlink:actuate=\"onRequest\" xlink:href=\"psysml:ae0ddffd-d94b-4ee5-a4cb-a499b90c2b96\" xlink:show=\"new\" xlink:title=\"psysml:ae0ddffd-d94b-4ee5-a4cb-a499b90c2b96\" xlink:type=\"simple\"><path d=\"M257,215.0921 C257,215.2301 257,215.368 257,215.5058 C257,216.0572 257,216.6076 257,217.1567 C257,218.2551 257,219.3485 257,220.4351 C257,222.6084 257,224.7547 257,226.8593 C257,231.0686 257,235.1113 257,238.87 \" fill=\"none\" id=\"E5-backto-E7\" style=\"stroke:#181818;stroke-width:1.0;\"/><polygon fill=\"#181818\" points=\"257,215.0921,253,221.0921,257,227.0921,261,221.0921,257,215.0921\" style=\"stroke:#181818;stroke-width:1.0;\"/></a></g><!--MD5=[dc164f5e8a733ab456ef1add180e9e34]\n",
       "reverse link E7 to E8--><g id=\"link_E7_E8\"><a href=\"psysml:a8c82a2a-741b-4fac-ac9b-98beb228d3cb\" target=\"_top\" title=\"psysml:a8c82a2a-741b-4fac-ac9b-98beb228d3cb\" xlink:actuate=\"onRequest\" xlink:href=\"psysml:a8c82a2a-741b-4fac-ac9b-98beb228d3cb\" xlink:show=\"new\" xlink:title=\"psysml:a8c82a2a-741b-4fac-ac9b-98beb228d3cb\" xlink:type=\"simple\"><path d=\"M307.07,284 C307.07,284 424,284 424,284 C424,284 424,291.74 424,299.73 \" fill=\"none\" id=\"E7-backto-E8\" style=\"stroke:#181818;stroke-width:1.0;\"/><polygon fill=\"none\" points=\"294.07,284,300.07,288,306.07,284,300.07,280,294.07,284\" style=\"stroke:#181818;stroke-width:1.0;\"/></a></g><!--MD5=[f1f3f9f2fc535e6147756cb86a7f2e32]\n",
       "link E8 to E2--><g id=\"link_E8_E2\"><a href=\"psysml:199cdd6b-9599-4ee9-8d7a-04a31416ec15\" target=\"_top\" title=\"psysml:199cdd6b-9599-4ee9-8d7a-04a31416ec15\" xlink:actuate=\"onRequest\" xlink:href=\"psysml:199cdd6b-9599-4ee9-8d7a-04a31416ec15\" xlink:show=\"new\" xlink:title=\"psysml:199cdd6b-9599-4ee9-8d7a-04a31416ec15\" xlink:type=\"simple\"><path d=\"M364.75,334.19 C364.75,334.19 364.75,335.46 364.75,335.46 \" fill=\"none\" id=\"E8-to-E2\" style=\"stroke:#181818;stroke-width:1.0;\"/><polygon fill=\"#FFFFFF\" points=\"364.75,346.92,357.75,327.92,371.75,327.92,364.75,346.92\" style=\"stroke:#181818;stroke-width:1.0;\"/><ellipse cx=\"359.75\" cy=\"322.22\" fill=\"#181818\" rx=\"2\" ry=\"2\" style=\"stroke:#181818;stroke-width:1.0;\"/><ellipse cx=\"369.75\" cy=\"322.22\" fill=\"#181818\" rx=\"2\" ry=\"2\" style=\"stroke:#181818;stroke-width:1.0;\"/></a></g><!--MD5=[9ae28de373ca99bb8a1b38d63370ca7e]\n",
       "reverse link E5 to E9--><g id=\"link_E5_E9\"><a href=\"psysml:549a8511-5afb-4107-9df8-0f136ad572ec\" target=\"_top\" title=\"psysml:549a8511-5afb-4107-9df8-0f136ad572ec\" xlink:actuate=\"onRequest\" xlink:href=\"psysml:549a8511-5afb-4107-9df8-0f136ad572ec\" xlink:show=\"new\" xlink:title=\"psysml:549a8511-5afb-4107-9df8-0f136ad572ec\" xlink:type=\"simple\"><path d=\"M297.75,215.5081 C297.75,215.7194 297.75,215.9306 297.75,216.1416 C297.75,216.9857 297.75,217.8273 297.75,218.6655 C297.75,222.0186 297.75,225.3184 297.75,228.5117 C297.75,234.8984 297.75,240.8594 297.75,245.9688 C297.75,256.1875 297.75,263 297.75,263 C297.75,263 311.09,263 329.33,263 \" fill=\"none\" id=\"E5-backto-E9\" style=\"stroke:#181818;stroke-width:1.0;\"/><polygon fill=\"none\" points=\"297.75,215.5081,293.75,221.5081,297.75,227.5081,301.75,221.5081,297.75,215.5081\" style=\"stroke:#181818;stroke-width:1.0;\"/></a></g><!--MD5=[5c3bb36fe832a92c7f0e1807dd65209d]\n",
       "link E9 to E2--><g id=\"link_E9_E2\"><a href=\"psysml:94a3a0b9-9284-4132-a69a-1dbd276e1390\" target=\"_top\" title=\"psysml:94a3a0b9-9284-4132-a69a-1dbd276e1390\" xlink:actuate=\"onRequest\" xlink:href=\"psysml:94a3a0b9-9284-4132-a69a-1dbd276e1390\" xlink:show=\"new\" xlink:title=\"psysml:94a3a0b9-9284-4132-a69a-1dbd276e1390\" xlink:type=\"simple\"><path d=\"M341.25,280.11 C341.25,280.11 341.25,326.86 341.25,326.86 \" fill=\"none\" id=\"E9-to-E2\" style=\"stroke:#181818;stroke-width:1.0;\"/><polygon fill=\"#FFFFFF\" points=\"341.25,346.86,334.25,327.86,348.25,327.86,341.25,346.86\" style=\"stroke:#181818;stroke-width:1.0;\"/><ellipse cx=\"336.25\" cy=\"322.16\" fill=\"#181818\" rx=\"2\" ry=\"2\" style=\"stroke:#181818;stroke-width:1.0;\"/><ellipse cx=\"346.25\" cy=\"322.16\" fill=\"#181818\" rx=\"2\" ry=\"2\" style=\"stroke:#181818;stroke-width:1.0;\"/></a></g><!--MD5=[93cc6eb8acda26571d4ed34fa70352e2]\n",
       "@startuml\r\n",
       "skin sysmlbw\r\n",
       "skinparam monochrome true\r\n",
       "skinparam wrapWidth 300\r\n",
       "hide circle\r\n",
       "skinparam linetype ortho\r\n",
       "skinparam ranksep 10\r\n",
       "skinparam rectangle {\r\n",
       " backgroundColor<<block>> LightGreen\r\n",
       "}\r\n",
       "\r\n",
       "package \"TradeStudyTest\" as E1  [[psysml:a91f55f8-3969-42e6-b46f-82de9da3fdc7 ]]  {\r\n",
       "rec def \"Engine\" as E2  <<(T,blue) part  def>> [[psysml:8055cf29-c4ca-4370-b025-bca5bf4f4944 ]] {\r\n",
       "}\r\n",
       "rec usage \"engine1: Engine\" as E3 [[psysml:479197b1-ce2e-480f-b2ef-7f257dc343b8 ]] {\r\n",
       "}\r\n",
       "rec usage \"engine2: Engine\" as E4 [[psysml:df8f9049-6917-4fa7-a1c9-f212538c9a4e ]] {\r\n",
       "}\r\n",
       "rec usage \"engineTradeStudy: TradeStudy  \" as E5  << analysis>> [[psysml:538ece1f-cb66-4e09-817f-0abcddd62ddd ]] {\r\n",
       "comp usage \"tradeStudyObjective\" as E6  <<objective>> [[psysml:4f755969-6586-456d-bfaa-2c124f0f3312 ]] {\r\n",
       "##//subject//##\r\n",
       "selectedAlternative\r\n",
       "}\r\n",
       "}\r\n",
       "comp usage \"evaluationFunction  \" as E7  <<(T,blue) calculation>> [[psysml:f253b0d3-72ce-4ec1-aa97-c21cff35f053 ]] {\r\n",
       "}\r\n",
       "comp usage \"alternative: Engine  \" as E8 [[psysml:753de58d-f4ea-44a5-91ee-5ffc5e7a177d ]] {\r\n",
       "}\r\n",
       "comp usage \"selectedAlternative: Engine  \" as E9 [[psysml:76ff8411-b0e7-4dd9-89c0-3f2666988fc0 ]] {\r\n",
       "}\r\n",
       "}\r\n",
       "E3 - -:|> E2 [[psysml:bc3cf079-eae7-49ce-b297-ec132a977e50 ]] \r\n",
       "E4 - -:|> E2 [[psysml:aa1a99dc-dc69-45ac-b95f-3bcc471ea5d4 ]] \r\n",
       "E5 *- - E7 [[psysml:ae0ddffd-d94b-4ee5-a4cb-a499b90c2b96 ]] \r\n",
       "E7 o- - E8 [[psysml:a8c82a2a-741b-4fac-ac9b-98beb228d3cb ]] \r\n",
       "E8 - -:|> E2 [[psysml:199cdd6b-9599-4ee9-8d7a-04a31416ec15 ]] \r\n",
       "E5 o- - E9 [[psysml:549a8511-5afb-4107-9df8-0f136ad572ec ]] \r\n",
       "E9 - -:|> E2 [[psysml:94a3a0b9-9284-4132-a69a-1dbd276e1390 ]] \r\n",
       "@enduml\r\n",
       "\n",
       "PlantUML version 1.2022.7(Mon Aug 22 17:01:30 UTC 2022)\n",
       "(EPL source distribution)\n",
       "Java Runtime: OpenJDK Runtime Environment\n",
       "JVM: OpenJDK 64-Bit Server VM\n",
       "Default Encoding: UTF-8\n",
       "Language: en\n",
       "Country: null\n",
       "--></g></svg>"
      ]
     },
     "execution_count": 54,
     "metadata": {},
     "output_type": "execute_result"
    }
   ],
   "source": [
    "%viz --style=\"ORTHOLINE\" --view=\"Interconnection\" \"TradeStudyTest\""
   ]
  },
  {
   "cell_type": "code",
   "execution_count": 55,
   "id": "764fa622",
   "metadata": {
    "execution": {
     "iopub.execute_input": "2024-12-16T14:21:11.163253Z",
     "iopub.status.busy": "2024-12-16T14:21:11.163036Z",
     "iopub.status.idle": "2024-12-16T14:21:11.177093Z",
     "shell.execute_reply": "2024-12-16T14:21:11.176902Z"
    }
   },
   "outputs": [
    {
     "data": {
      "image/svg+xml": [
       "<?xml version=\"1.0\" encoding=\"UTF-8\" standalone=\"no\"?><svg xmlns=\"http://www.w3.org/2000/svg\" xmlns:xlink=\"http://www.w3.org/1999/xlink\" contentStyleType=\"text/css\" height=\"222px\" preserveAspectRatio=\"none\" style=\"width:448px;height:222px;background:#FFFFFF;\" version=\"1.1\" viewBox=\"0 0 448 222\" width=\"448px\" zoomAndPan=\"magnify\"><defs/><g><!--MD5=[fbc87193dbaf4d95561dea2c320d4a47]\n",
       "cluster E1--><g id=\"cluster_E1\"><a href=\"psysml:538ece1f-cb66-4e09-817f-0abcddd62ddd\" target=\"_top\" title=\"psysml:538ece1f-cb66-4e09-817f-0abcddd62ddd\" xlink:actuate=\"onRequest\" xlink:href=\"psysml:538ece1f-cb66-4e09-817f-0abcddd62ddd\" xlink:show=\"new\" xlink:title=\"psysml:538ece1f-cb66-4e09-817f-0abcddd62ddd\" xlink:type=\"simple\"><rect fill=\"#FFFFFF\" height=\"174.36\" id=\"E1\" rx=\"10\" ry=\"10\" style=\"stroke:#383838;stroke-width:1.5;\" width=\"328\" x=\"47\" y=\"42.0986\"/><text fill=\"#000000\" font-family=\"sans-serif\" font-size=\"12\" font-style=\"italic\" lengthAdjust=\"spacing\" textLength=\"64\" x=\"179\" y=\"58.2373\">«analysis»</text><text fill=\"#000000\" font-family=\"sans-serif\" font-size=\"14\" lengthAdjust=\"spacing\" textLength=\"127\" x=\"147.5\" y=\"74.0625\">engineTradeStudy</text><line style=\"stroke:#383838;stroke-width:1.0;\" x1=\"47\" x2=\"375\" y1=\"82.3643\" y2=\"82.3643\"/></a></g><!--MD5=[d5e69f78d87373223dbae638b30a9c99]\n",
       "cluster E3--><g id=\"cluster_E3\"><a href=\"psysml:f253b0d3-72ce-4ec1-aa97-c21cff35f053\" target=\"_top\" title=\"psysml:f253b0d3-72ce-4ec1-aa97-c21cff35f053\" xlink:actuate=\"onRequest\" xlink:href=\"psysml:f253b0d3-72ce-4ec1-aa97-c21cff35f053\" xlink:show=\"new\" xlink:title=\"psysml:f253b0d3-72ce-4ec1-aa97-c21cff35f053\" xlink:type=\"simple\"><rect fill=\"#FFFFFF\" height=\"104.86\" id=\"E3\" rx=\"10\" ry=\"10\" style=\"stroke:#383838;stroke-width:1.5;\" width=\"186\" x=\"148\" y=\"81.5986\"/><text fill=\"#000000\" font-family=\"sans-serif\" font-size=\"12\" font-style=\"italic\" lengthAdjust=\"spacing\" textLength=\"82\" x=\"200\" y=\"97.7373\">«calculation»</text><text fill=\"#000000\" font-family=\"sans-serif\" font-size=\"14\" lengthAdjust=\"spacing\" textLength=\"130\" x=\"176\" y=\"113.5625\">evaluationFunction</text><line style=\"stroke:#383838;stroke-width:1.0;\" x1=\"148\" x2=\"334\" y1=\"121.8643\" y2=\"121.8643\"/></a></g><text fill=\"#000000\" font-family=\"sans-serif\" font-size=\"14\" lengthAdjust=\"spacing\" textLength=\"118\" x=\"6\" y=\"20.7969\">studyAlternatives</text><rect fill=\"#FFFFFF\" height=\"12\" style=\"stroke:#181818;stroke-width:1.5;\" width=\"12\" x=\"59\" y=\"36.0986\"/><text fill=\"#000000\" font-family=\"sans-serif\" font-size=\"14\" lengthAdjust=\"spacing\" textLength=\"132\" x=\"309\" y=\"183.0938\">selectedAlternative</text><rect fill=\"#FFFFFF\" height=\"12\" style=\"stroke:#181818;stroke-width:1.5;\" width=\"12\" x=\"369\" y=\"158.0986\"/><text fill=\"#000000\" font-family=\"sans-serif\" font-size=\"14\" lengthAdjust=\"spacing\" textLength=\"71\" x=\"205.5\" y=\"60.2969\">alternative</text><rect fill=\"#FFFFFF\" height=\"12\" style=\"stroke:#181818;stroke-width:1.5;\" width=\"12\" x=\"235\" y=\"75.5986\"/><text fill=\"#000000\" font-family=\"sans-serif\" font-size=\"14\" lengthAdjust=\"spacing\" textLength=\"39\" x=\"221.5\" y=\"205.4538\">result</text><rect fill=\"#FFFFFF\" height=\"12\" style=\"stroke:#181818;stroke-width:1.5;\" width=\"12\" x=\"235\" y=\"180.4586\"/><!--MD5=[7ffe09285c51f5463168588776648e24]\n",
       "@startuml\r\n",
       "skin sysmlbw\r\n",
       "skinparam monochrome true\r\n",
       "skinparam wrapWidth 300\r\n",
       "hide circle\r\n",
       "skinparam linetype ortho\r\n",
       "skinparam ranksep 8\r\n",
       "\r\n",
       "rec usage \"engineTradeStudy\" as E1  << analysis>> [[psysml:538ece1f-cb66-4e09-817f-0abcddd62ddd ]] {\r\n",
       "portin \"studyAlternatives\" as E2  [[psysml:44e81398-f8fc-476c-9aa8-f3c568baa242 ]] \r\n",
       "rec usage \"evaluationFunction\" as E3  <<(T,blue) calculation>> [[psysml:f253b0d3-72ce-4ec1-aa97-c21cff35f053 ]] {\r\n",
       "portin \"alternative\" as E4  [[psysml:753de58d-f4ea-44a5-91ee-5ffc5e7a177d ]] \r\n",
       "portout \"result\" as E5  [[psysml:523b4531-6566-4396-be10-86694663e2d0 ]] \r\n",
       "}\r\n",
       "\r\n",
       "portout \"selectedAlternative\" as E6  [[psysml:76ff8411-b0e7-4dd9-89c0-3f2666988fc0 ]] \r\n",
       "}\r\n",
       "\r\n",
       "@enduml\r\n",
       "\n",
       "PlantUML version 1.2022.7(Mon Aug 22 17:01:30 UTC 2022)\n",
       "(EPL source distribution)\n",
       "Java Runtime: OpenJDK Runtime Environment\n",
       "JVM: OpenJDK 64-Bit Server VM\n",
       "Default Encoding: UTF-8\n",
       "Language: en\n",
       "Country: null\n",
       "--></g></svg>"
      ]
     },
     "execution_count": 55,
     "metadata": {},
     "output_type": "execute_result"
    }
   ],
   "source": [
    "%viz --style=\"ORTHOLINE\" --view=\"Action\" \"TradeStudyTest\""
   ]
  },
  {
   "cell_type": "code",
   "execution_count": 56,
   "id": "68046f63",
   "metadata": {
    "execution": {
     "iopub.execute_input": "2024-12-16T14:21:11.229033Z",
     "iopub.status.busy": "2024-12-16T14:21:11.228814Z",
     "iopub.status.idle": "2024-12-16T14:21:11.233866Z",
     "shell.execute_reply": "2024-12-16T14:21:11.233994Z"
    }
   },
   "outputs": [
    {
     "data": {
      "image/svg+xml": [
       "<?xml version=\"1.0\" encoding=\"UTF-8\" standalone=\"no\"?><svg xmlns=\"http://www.w3.org/2000/svg\" xmlns:xlink=\"http://www.w3.org/1999/xlink\" contentStyleType=\"text/css\" height=\"10px\" preserveAspectRatio=\"none\" style=\"width:10px;height:10px;background:#FFFFFF;\" version=\"1.1\" viewBox=\"0 0 10 10\" width=\"10px\" zoomAndPan=\"magnify\"><defs/><g><!--MD5=[5b6eb85285460e34b0e63326afe72cc5]\n",
       "@startuml\r\n",
       "skin sysmlbw\r\n",
       "skinparam monochrome true\r\n",
       "skinparam wrapWidth 300\r\n",
       "hide circle\r\n",
       "skinparam linetype ortho\r\n",
       "skinparam roundcorner 20\r\n",
       "skinparam BoxPadding 20\r\n",
       "skinparam SequenceBoxBackgroundColor #white\r\n",
       "skinparam style strictuml\r\n",
       "skinparam maxMessageSize 100\r\n",
       "\r\n",
       "@enduml\r\n",
       "\n",
       "PlantUML version 1.2022.7(Mon Aug 22 17:01:30 UTC 2022)\n",
       "(EPL source distribution)\n",
       "Java Runtime: OpenJDK Runtime Environment\n",
       "JVM: OpenJDK 64-Bit Server VM\n",
       "Default Encoding: UTF-8\n",
       "Language: en\n",
       "Country: null\n",
       "--></g></svg>"
      ]
     },
     "execution_count": 56,
     "metadata": {},
     "output_type": "execute_result"
    }
   ],
   "source": [
    "%viz --style=\"ORTHOLINE\" --view=\"Sequence\" \"TradeStudyTest\""
   ]
  },
  {
   "cell_type": "code",
   "execution_count": 57,
   "id": "f20cab53",
   "metadata": {
    "execution": {
     "iopub.execute_input": "2024-12-16T14:21:11.285732Z",
     "iopub.status.busy": "2024-12-16T14:21:11.285470Z",
     "iopub.status.idle": "2024-12-16T14:21:11.306595Z",
     "shell.execute_reply": "2024-12-16T14:21:11.305608Z"
    }
   },
   "outputs": [
    {
     "data": {
      "image/svg+xml": [
       "<?xml version=\"1.0\" encoding=\"UTF-8\" standalone=\"no\"?><svg xmlns=\"http://www.w3.org/2000/svg\" xmlns:xlink=\"http://www.w3.org/1999/xlink\" contentStyleType=\"text/css\" height=\"538px\" preserveAspectRatio=\"none\" style=\"width:570px;height:538px;background:#FFFFFF;\" version=\"1.1\" viewBox=\"0 0 570 538\" width=\"570px\" zoomAndPan=\"magnify\"><defs/><g><!--MD5=[fbc87193dbaf4d95561dea2c320d4a47]\n",
       "cluster E1--><g id=\"cluster_E1\"><a href=\"psysml:a91f55f8-3969-42e6-b46f-82de9da3fdc7\" target=\"_top\" title=\"psysml:a91f55f8-3969-42e6-b46f-82de9da3fdc7\" xlink:actuate=\"onRequest\" xlink:href=\"psysml:a91f55f8-3969-42e6-b46f-82de9da3fdc7\" xlink:show=\"new\" xlink:title=\"psysml:a91f55f8-3969-42e6-b46f-82de9da3fdc7\" xlink:type=\"simple\"><polygon fill=\"none\" points=\"16,6,138.125,6,145.125,28.2969,553,28.2969,553,531,16,531,16,6\" style=\"stroke:#000000;stroke-width:1.5;\"/><line style=\"stroke:#000000;stroke-width:1.5;\" x1=\"16\" x2=\"145.125\" y1=\"28.2969\" y2=\"28.2969\"/><text fill=\"#000000\" font-family=\"sans-serif\" font-size=\"14\" font-weight=\"bold\" lengthAdjust=\"spacing\" textLength=\"116.125\" x=\"20\" y=\"20.9951\">TradeStudyTest</text></a></g><!--MD5=[de5ec2e2e8f62f467e546659f5068c88]\n",
       "cluster E5--><g id=\"cluster_E5\"><a href=\"psysml:538ece1f-cb66-4e09-817f-0abcddd62ddd\" target=\"_top\" title=\"psysml:538ece1f-cb66-4e09-817f-0abcddd62ddd\" xlink:actuate=\"onRequest\" xlink:href=\"psysml:538ece1f-cb66-4e09-817f-0abcddd62ddd\" xlink:show=\"new\" xlink:title=\"psysml:538ece1f-cb66-4e09-817f-0abcddd62ddd\" xlink:type=\"simple\"><rect fill=\"#FFFFFF\" height=\"158\" id=\"E5\" rx=\"10\" ry=\"10\" style=\"stroke:#383838;stroke-width:1.5;\" width=\"250\" x=\"236\" y=\"57\"/><text fill=\"#000000\" font-family=\"sans-serif\" font-size=\"12\" font-style=\"italic\" lengthAdjust=\"spacing\" textLength=\"64\" x=\"329\" y=\"73.1387\">«analysis»</text><text fill=\"#000000\" font-family=\"sans-serif\" font-size=\"14\" lengthAdjust=\"spacing\" textLength=\"215\" x=\"249.5\" y=\"88.9639\">engineTradeStudy: TradeStudy</text><line style=\"stroke:#383838;stroke-width:1.0;\" x1=\"236\" x2=\"486\" y1=\"97.2656\" y2=\"97.2656\"/></a></g><!--MD5=[b4997ac47864f28c2f74865a473b2911]\n",
       "class E2--><a href=\"psysml:8055cf29-c4ca-4370-b025-bca5bf4f4944\" target=\"_top\" title=\"psysml:8055cf29-c4ca-4370-b025-bca5bf4f4944\" xlink:actuate=\"onRequest\" xlink:href=\"psysml:8055cf29-c4ca-4370-b025-bca5bf4f4944\" xlink:show=\"new\" xlink:title=\"psysml:8055cf29-c4ca-4370-b025-bca5bf4f4944\" xlink:type=\"simple\"><g id=\"elem_E2\"><rect fill=\"#FFFFFF\" height=\"48.2656\" id=\"E2\" style=\"stroke:#181818;stroke-width:0.5;\" width=\"70\" x=\"309\" y=\"467\"/><text fill=\"#000000\" font-family=\"sans-serif\" font-size=\"12\" font-style=\"italic\" lengthAdjust=\"spacing\" textLength=\"68\" x=\"310\" y=\"483.1387\">«part  def»</text><text fill=\"#000000\" font-family=\"sans-serif\" font-size=\"14\" lengthAdjust=\"spacing\" textLength=\"48\" x=\"320\" y=\"498.9639\">Engine</text><line style=\"stroke:#181818;stroke-width:0.5;\" x1=\"310\" x2=\"378\" y1=\"507.2656\" y2=\"507.2656\"/></g></a><!--MD5=[09b614a08d8cba4a07c9adeb5e0fee81]\n",
       "class E3--><a href=\"psysml:479197b1-ce2e-480f-b2ef-7f257dc343b8\" target=\"_top\" title=\"psysml:479197b1-ce2e-480f-b2ef-7f257dc343b8\" xlink:actuate=\"onRequest\" xlink:href=\"psysml:479197b1-ce2e-480f-b2ef-7f257dc343b8\" xlink:show=\"new\" xlink:title=\"psysml:479197b1-ce2e-480f-b2ef-7f257dc343b8\" xlink:type=\"simple\"><g id=\"elem_E3\"><rect fill=\"#FFFFFF\" height=\"48.2656\" id=\"E3\" rx=\"10\" ry=\"10\" style=\"stroke:#181818;stroke-width:0.5;\" width=\"128\" x=\"195\" y=\"359\"/><text fill=\"#000000\" font-family=\"sans-serif\" font-size=\"12\" font-style=\"italic\" lengthAdjust=\"spacing\" textLength=\"40\" x=\"239\" y=\"375.1387\">«part»</text><text fill=\"#000000\" font-family=\"sans-serif\" font-size=\"14\" lengthAdjust=\"spacing\" textLength=\"114\" x=\"198\" y=\"390.9639\">engine1: Engine</text><line style=\"stroke:#181818;stroke-width:0.5;\" x1=\"196\" x2=\"322\" y1=\"399.2656\" y2=\"399.2656\"/></g></a><!--MD5=[ebbe1d658d1005bcc118a6aa81145e00]\n",
       "class E4--><a href=\"psysml:df8f9049-6917-4fa7-a1c9-f212538c9a4e\" target=\"_top\" title=\"psysml:df8f9049-6917-4fa7-a1c9-f212538c9a4e\" xlink:actuate=\"onRequest\" xlink:href=\"psysml:df8f9049-6917-4fa7-a1c9-f212538c9a4e\" xlink:show=\"new\" xlink:title=\"psysml:df8f9049-6917-4fa7-a1c9-f212538c9a4e\" xlink:type=\"simple\"><g id=\"elem_E4\"><rect fill=\"#FFFFFF\" height=\"48.2656\" id=\"E4\" rx=\"10\" ry=\"10\" style=\"stroke:#181818;stroke-width:0.5;\" width=\"128\" x=\"32\" y=\"359\"/><text fill=\"#000000\" font-family=\"sans-serif\" font-size=\"12\" font-style=\"italic\" lengthAdjust=\"spacing\" textLength=\"40\" x=\"76\" y=\"375.1387\">«part»</text><text fill=\"#000000\" font-family=\"sans-serif\" font-size=\"14\" lengthAdjust=\"spacing\" textLength=\"114\" x=\"35\" y=\"390.9639\">engine2: Engine</text><line style=\"stroke:#181818;stroke-width:0.5;\" x1=\"33\" x2=\"159\" y1=\"399.2656\" y2=\"399.2656\"/></g></a><!--MD5=[2156ba9850f5573cc1fc38a6a4b2f02b]\n",
       "class E7--><a href=\"psysml:f253b0d3-72ce-4ec1-aa97-c21cff35f053\" target=\"_top\" title=\"psysml:f253b0d3-72ce-4ec1-aa97-c21cff35f053\" xlink:actuate=\"onRequest\" xlink:href=\"psysml:f253b0d3-72ce-4ec1-aa97-c21cff35f053\" xlink:show=\"new\" xlink:title=\"psysml:f253b0d3-72ce-4ec1-aa97-c21cff35f053\" xlink:type=\"simple\"><g id=\"elem_E7\"><rect fill=\"#FFFFFF\" height=\"48.2656\" id=\"E7\" rx=\"10\" ry=\"10\" style=\"stroke:#181818;stroke-width:0.5;\" width=\"144\" x=\"155\" y=\"251\"/><text fill=\"#000000\" font-family=\"sans-serif\" font-size=\"12\" font-style=\"italic\" lengthAdjust=\"spacing\" textLength=\"82\" x=\"186\" y=\"267.1387\">«calculation»</text><text fill=\"#000000\" font-family=\"sans-serif\" font-size=\"14\" lengthAdjust=\"spacing\" textLength=\"130\" x=\"158\" y=\"282.9639\">evaluationFunction</text><line style=\"stroke:#181818;stroke-width:0.5;\" x1=\"156\" x2=\"298\" y1=\"291.2656\" y2=\"291.2656\"/></g></a><!--MD5=[b9389687b975829384b498ac4b7476b2]\n",
       "class E8--><a href=\"psysml:753de58d-f4ea-44a5-91ee-5ffc5e7a177d\" target=\"_top\" title=\"psysml:753de58d-f4ea-44a5-91ee-5ffc5e7a177d\" xlink:actuate=\"onRequest\" xlink:href=\"psysml:753de58d-f4ea-44a5-91ee-5ffc5e7a177d\" xlink:show=\"new\" xlink:title=\"psysml:753de58d-f4ea-44a5-91ee-5ffc5e7a177d\" xlink:type=\"simple\"><g id=\"elem_E8\"><rect fill=\"#FFFFFF\" height=\"48.2656\" id=\"E8\" rx=\"10\" ry=\"10\" style=\"stroke:#181818;stroke-width:0.5;\" width=\"142\" x=\"358\" y=\"359\"/><text fill=\"#000000\" font-family=\"sans-serif\" font-size=\"12\" font-style=\"italic\" lengthAdjust=\"spacing\" textLength=\"40\" x=\"409\" y=\"375.1387\">«part»</text><text fill=\"#000000\" font-family=\"sans-serif\" font-size=\"14\" lengthAdjust=\"spacing\" textLength=\"128\" x=\"361\" y=\"390.9639\">alternative: Engine</text><line style=\"stroke:#181818;stroke-width:0.5;\" x1=\"359\" x2=\"499\" y1=\"399.2656\" y2=\"399.2656\"/></g></a><!--MD5=[fd4143e9d270a159db93a4ea2a975926]\n",
       "class E9--><a href=\"psysml:76ff8411-b0e7-4dd9-89c0-3f2666988fc0\" target=\"_top\" title=\"psysml:76ff8411-b0e7-4dd9-89c0-3f2666988fc0\" xlink:actuate=\"onRequest\" xlink:href=\"psysml:76ff8411-b0e7-4dd9-89c0-3f2666988fc0\" xlink:show=\"new\" xlink:title=\"psysml:76ff8411-b0e7-4dd9-89c0-3f2666988fc0\" xlink:type=\"simple\"><g id=\"elem_E9\"><rect fill=\"#FFFFFF\" height=\"48.2656\" id=\"E9\" rx=\"10\" ry=\"10\" style=\"stroke:#181818;stroke-width:0.5;\" width=\"203\" x=\"334.5\" y=\"251\"/><text fill=\"#000000\" font-family=\"sans-serif\" font-size=\"12\" font-style=\"italic\" lengthAdjust=\"spacing\" textLength=\"40\" x=\"416\" y=\"267.1387\">«part»</text><text fill=\"#000000\" font-family=\"sans-serif\" font-size=\"14\" lengthAdjust=\"spacing\" textLength=\"189\" x=\"337.5\" y=\"282.9639\">selectedAlternative: Engine</text><line style=\"stroke:#181818;stroke-width:0.5;\" x1=\"335.5\" x2=\"536.5\" y1=\"291.2656\" y2=\"291.2656\"/></g></a><!--MD5=[60a26617385b1d2d0262a64233df1f8d]\n",
       "class E6--><a href=\"psysml:4f755969-6586-456d-bfaa-2c124f0f3312\" target=\"_top\" title=\"psysml:4f755969-6586-456d-bfaa-2c124f0f3312\" xlink:actuate=\"onRequest\" xlink:href=\"psysml:4f755969-6586-456d-bfaa-2c124f0f3312\" xlink:show=\"new\" xlink:title=\"psysml:4f755969-6586-456d-bfaa-2c124f0f3312\" xlink:type=\"simple\"><g id=\"elem_E6\"><rect fill=\"#FFFFFF\" height=\"75.0813\" id=\"E6\" rx=\"10\" ry=\"10\" style=\"stroke:#181818;stroke-width:0.5;\" width=\"145\" x=\"306.5\" y=\"116\"/><text fill=\"#000000\" font-family=\"sans-serif\" font-size=\"12\" font-style=\"italic\" lengthAdjust=\"spacing\" textLength=\"70\" x=\"344\" y=\"132.1387\">«objective»</text><text fill=\"#000000\" font-family=\"sans-serif\" font-size=\"14\" lengthAdjust=\"spacing\" textLength=\"139\" x=\"309.5\" y=\"147.9639\">tradeStudyObjective</text><line style=\"stroke:#181818;stroke-width:0.5;\" x1=\"307.5\" x2=\"450.5\" y1=\"156.2656\" y2=\"156.2656\"/><text fill=\"#000000\" font-family=\"sans-serif\" font-size=\"14\" lengthAdjust=\"spacing\" textLength=\"132\" x=\"312.5\" y=\"183.7795\">selectedAlternative</text><text fill=\"#000000\" font-family=\"sans-serif\" font-size=\"14\" font-style=\"italic\" lengthAdjust=\"spacing\" textLength=\"51\" x=\"353.5\" y=\"168.6123\">subject</text></g></a><!--MD5=[05d275557350bfb9b23a4ef7222b4c39]\n",
       "link E3 to E2--><g id=\"link_E3_E2\"><a href=\"psysml:bc3cf079-eae7-49ce-b297-ec132a977e50\" target=\"_top\" title=\"psysml:bc3cf079-eae7-49ce-b297-ec132a977e50\" xlink:actuate=\"onRequest\" xlink:href=\"psysml:bc3cf079-eae7-49ce-b297-ec132a977e50\" xlink:show=\"new\" xlink:title=\"psysml:bc3cf079-eae7-49ce-b297-ec132a977e50\" xlink:type=\"simple\"><path d=\"M316,407.24 C316,407.24 316,446.84 316,446.84 \" fill=\"none\" id=\"E3-to-E2\" style=\"stroke:#181818;stroke-width:1.0;\"/><polygon fill=\"#FFFFFF\" points=\"316,466.84,309,447.84,323,447.84,316,466.84\" style=\"stroke:#181818;stroke-width:1.0;\"/><ellipse cx=\"311\" cy=\"442.14\" fill=\"#181818\" rx=\"2\" ry=\"2\" style=\"stroke:#181818;stroke-width:1.0;\"/><ellipse cx=\"321\" cy=\"442.14\" fill=\"#181818\" rx=\"2\" ry=\"2\" style=\"stroke:#181818;stroke-width:1.0;\"/></a></g><!--MD5=[185131fc0dcab0a4505a2ebe144e961b]\n",
       "link E4 to E2--><g id=\"link_E4_E2\"><a href=\"psysml:aa1a99dc-dc69-45ac-b95f-3bcc471ea5d4\" target=\"_top\" title=\"psysml:aa1a99dc-dc69-45ac-b95f-3bcc471ea5d4\" xlink:actuate=\"onRequest\" xlink:href=\"psysml:aa1a99dc-dc69-45ac-b95f-3bcc471ea5d4\" xlink:show=\"new\" xlink:title=\"psysml:aa1a99dc-dc69-45ac-b95f-3bcc471ea5d4\" xlink:type=\"simple\"><path d=\"M96,407.24 C96,439.08 96,491 96,491 C96,491 288.99,491 288.99,491 \" fill=\"none\" id=\"E4-to-E2\" style=\"stroke:#181818;stroke-width:1.0;\"/><polygon fill=\"#FFFFFF\" points=\"308.99,491,289.99,498,289.99,484,308.99,491\" style=\"stroke:#181818;stroke-width:1.0;\"/><ellipse cx=\"284.29\" cy=\"496\" fill=\"#181818\" rx=\"2\" ry=\"2\" style=\"stroke:#181818;stroke-width:1.0;\"/><ellipse cx=\"284.29\" cy=\"486\" fill=\"#181818\" rx=\"2\" ry=\"2\" style=\"stroke:#181818;stroke-width:1.0;\"/></a></g><!--MD5=[452b418e7f8a40397a49b8c0a78acc5b]\n",
       "reverse link E5 to E7--><g id=\"link_E5_E7\"><a href=\"psysml:ae0ddffd-d94b-4ee5-a4cb-a499b90c2b96\" target=\"_top\" title=\"psysml:ae0ddffd-d94b-4ee5-a4cb-a499b90c2b96\" xlink:actuate=\"onRequest\" xlink:href=\"psysml:ae0ddffd-d94b-4ee5-a4cb-a499b90c2b96\" xlink:show=\"new\" xlink:title=\"psysml:ae0ddffd-d94b-4ee5-a4cb-a499b90c2b96\" xlink:type=\"simple\"><path d=\"M262,215.171 C262,217.7012 262,220.2293 262,222.7377 C262,232.7713 262,242.49 262,250.77 \" fill=\"none\" id=\"E5-backto-E7\" style=\"stroke:#181818;stroke-width:1.0;\"/><polygon fill=\"#181818\" points=\"262,215.171,258,221.171,262,227.171,266,221.171,262,215.171\" style=\"stroke:#181818;stroke-width:1.0;\"/></a></g><!--MD5=[dc164f5e8a733ab456ef1add180e9e34]\n",
       "reverse link E7 to E8--><g id=\"link_E7_E8\"><a href=\"psysml:a8c82a2a-741b-4fac-ac9b-98beb228d3cb\" target=\"_top\" title=\"psysml:a8c82a2a-741b-4fac-ac9b-98beb228d3cb\" xlink:actuate=\"onRequest\" xlink:href=\"psysml:a8c82a2a-741b-4fac-ac9b-98beb228d3cb\" xlink:show=\"new\" xlink:title=\"psysml:a8c82a2a-741b-4fac-ac9b-98beb228d3cb\" xlink:type=\"simple\"><path d=\"M312.05,283 C312.05,283 328.75,283 328.75,283 C328.75,283 328.75,383 328.75,383 C328.75,383 341.42,383 357.75,383 \" fill=\"none\" id=\"E7-backto-E8\" style=\"stroke:#181818;stroke-width:1.0;\"/><polygon fill=\"none\" points=\"299.05,283,305.05,287,311.05,283,305.05,279,299.05,283\" style=\"stroke:#181818;stroke-width:1.0;\"/></a></g><!--MD5=[f1f3f9f2fc535e6147756cb86a7f2e32]\n",
       "link E8 to E2--><g id=\"link_E8_E2\"><a href=\"psysml:199cdd6b-9599-4ee9-8d7a-04a31416ec15\" target=\"_top\" title=\"psysml:199cdd6b-9599-4ee9-8d7a-04a31416ec15\" xlink:actuate=\"onRequest\" xlink:href=\"psysml:199cdd6b-9599-4ee9-8d7a-04a31416ec15\" xlink:show=\"new\" xlink:title=\"psysml:199cdd6b-9599-4ee9-8d7a-04a31416ec15\" xlink:type=\"simple\"><path d=\"M368.5,407.24 C368.5,407.24 368.5,446.84 368.5,446.84 \" fill=\"none\" id=\"E8-to-E2\" style=\"stroke:#181818;stroke-width:1.0;\"/><polygon fill=\"#FFFFFF\" points=\"368.5,466.84,361.5,447.84,375.5,447.84,368.5,466.84\" style=\"stroke:#181818;stroke-width:1.0;\"/><ellipse cx=\"363.5\" cy=\"442.14\" fill=\"#181818\" rx=\"2\" ry=\"2\" style=\"stroke:#181818;stroke-width:1.0;\"/><ellipse cx=\"373.5\" cy=\"442.14\" fill=\"#181818\" rx=\"2\" ry=\"2\" style=\"stroke:#181818;stroke-width:1.0;\"/></a></g><!--MD5=[9ae28de373ca99bb8a1b38d63370ca7e]\n",
       "reverse link E5 to E9--><g id=\"link_E5_E9\"><a href=\"psysml:549a8511-5afb-4107-9df8-0f136ad572ec\" target=\"_top\" title=\"psysml:549a8511-5afb-4107-9df8-0f136ad572ec\" xlink:actuate=\"onRequest\" xlink:href=\"psysml:549a8511-5afb-4107-9df8-0f136ad572ec\" xlink:show=\"new\" xlink:title=\"psysml:549a8511-5afb-4107-9df8-0f136ad572ec\" xlink:type=\"simple\"><path d=\"M302.75,215.1301 C302.75,215.3502 302.75,215.5701 302.75,215.79 C302.75,217.5487 302.75,219.3005 302.75,221.0386 C302.75,224.5146 302.75,227.9355 302.75,231.2461 C302.75,237.8672 302.75,244.0469 302.75,249.3438 C302.75,259.9375 302.75,267 302.75,267 C302.75,267 316.09,267 334.33,267 \" fill=\"none\" id=\"E5-backto-E9\" style=\"stroke:#181818;stroke-width:1.0;\"/><polygon fill=\"none\" points=\"302.75,215.1301,298.75,221.1301,302.75,227.1301,306.75,221.1301,302.75,215.1301\" style=\"stroke:#181818;stroke-width:1.0;\"/></a></g><!--MD5=[5c3bb36fe832a92c7f0e1807dd65209d]\n",
       "link E9 to E2--><g id=\"link_E9_E2\"><a href=\"psysml:94a3a0b9-9284-4132-a69a-1dbd276e1390\" target=\"_top\" title=\"psysml:94a3a0b9-9284-4132-a69a-1dbd276e1390\" xlink:actuate=\"onRequest\" xlink:href=\"psysml:94a3a0b9-9284-4132-a69a-1dbd276e1390\" xlink:show=\"new\" xlink:title=\"psysml:94a3a0b9-9284-4132-a69a-1dbd276e1390\" xlink:type=\"simple\"><path d=\"M346.25,299.36 C346.25,299.36 346.25,446.73 346.25,446.73 \" fill=\"none\" id=\"E9-to-E2\" style=\"stroke:#181818;stroke-width:1.0;\"/><polygon fill=\"#FFFFFF\" points=\"346.25,466.73,339.25,447.73,353.25,447.73,346.25,466.73\" style=\"stroke:#181818;stroke-width:1.0;\"/><ellipse cx=\"341.25\" cy=\"442.03\" fill=\"#181818\" rx=\"2\" ry=\"2\" style=\"stroke:#181818;stroke-width:1.0;\"/><ellipse cx=\"351.25\" cy=\"442.03\" fill=\"#181818\" rx=\"2\" ry=\"2\" style=\"stroke:#181818;stroke-width:1.0;\"/></a></g><!--MD5=[588b1499e68f6be896df5561bbd0c31e]\n",
       "@startuml\r\n",
       "skin sysmlbw\r\n",
       "skinparam monochrome true\r\n",
       "skinparam wrapWidth 300\r\n",
       "hide circle\r\n",
       "skinparam linetype ortho\r\n",
       "\r\n",
       "package \"TradeStudyTest\" as E1  [[psysml:a91f55f8-3969-42e6-b46f-82de9da3fdc7 ]]  {\r\n",
       "comp def \"Engine\" as E2  <<(T,blue) part  def>> [[psysml:8055cf29-c4ca-4370-b025-bca5bf4f4944 ]] {\r\n",
       "}\r\n",
       "comp usage \"engine1: Engine  \" as E3  <<(T,blue) part>> [[psysml:479197b1-ce2e-480f-b2ef-7f257dc343b8 ]] {\r\n",
       "}\r\n",
       "comp usage \"engine2: Engine  \" as E4  <<(T,blue) part>> [[psysml:df8f9049-6917-4fa7-a1c9-f212538c9a4e ]] {\r\n",
       "}\r\n",
       "rec usage \"engineTradeStudy: TradeStudy  \" as E5  << analysis>> [[psysml:538ece1f-cb66-4e09-817f-0abcddd62ddd ]] {\r\n",
       "comp usage \"tradeStudyObjective\" as E6  <<objective>> [[psysml:4f755969-6586-456d-bfaa-2c124f0f3312 ]] {\r\n",
       "##//subject//##\r\n",
       "selectedAlternative\r\n",
       "}\r\n",
       "}\r\n",
       "comp usage \"evaluationFunction  \" as E7  <<(T,blue) calculation>> [[psysml:f253b0d3-72ce-4ec1-aa97-c21cff35f053 ]] {\r\n",
       "}\r\n",
       "comp usage \"alternative: Engine  \" as E8  <<(T,blue) part>> [[psysml:753de58d-f4ea-44a5-91ee-5ffc5e7a177d ]] {\r\n",
       "}\r\n",
       "comp usage \"selectedAlternative: Engine  \" as E9  <<(T,blue) part>> [[psysml:76ff8411-b0e7-4dd9-89c0-3f2666988fc0 ]] {\r\n",
       "}\r\n",
       "}\r\n",
       "E3 - -:|> E2 [[psysml:bc3cf079-eae7-49ce-b297-ec132a977e50 ]] \r\n",
       "E4 - -:|> E2 [[psysml:aa1a99dc-dc69-45ac-b95f-3bcc471ea5d4 ]] \r\n",
       "E5 *- - E7 [[psysml:ae0ddffd-d94b-4ee5-a4cb-a499b90c2b96 ]] \r\n",
       "E7 o- - E8 [[psysml:a8c82a2a-741b-4fac-ac9b-98beb228d3cb ]] \r\n",
       "E8 - -:|> E2 [[psysml:199cdd6b-9599-4ee9-8d7a-04a31416ec15 ]] \r\n",
       "E5 o- - E9 [[psysml:549a8511-5afb-4107-9df8-0f136ad572ec ]] \r\n",
       "E9 - -:|> E2 [[psysml:94a3a0b9-9284-4132-a69a-1dbd276e1390 ]] \r\n",
       "@enduml\r\n",
       "\n",
       "PlantUML version 1.2022.7(Mon Aug 22 17:01:30 UTC 2022)\n",
       "(EPL source distribution)\n",
       "Java Runtime: OpenJDK Runtime Environment\n",
       "JVM: OpenJDK 64-Bit Server VM\n",
       "Default Encoding: UTF-8\n",
       "Language: en\n",
       "Country: null\n",
       "--></g></svg>"
      ]
     },
     "execution_count": 57,
     "metadata": {},
     "output_type": "execute_result"
    }
   ],
   "source": [
    "%viz --style=\"ORTHOLINE\" --view=\"MIXED\" \"TradeStudyTest\""
   ]
  }
 ],
 "metadata": {
  "kernelspec": {
   "display_name": "SysML",
   "language": "sysml",
   "name": "sysml"
  },
  "language_info": {
   "codemirror_mode": "sysml",
   "file_extension": ".sysml",
   "mimetype": "text/x-sysml",
   "name": "SysML",
   "pygments_lexer": "java",
   "version": "1.0.0"
  }
 },
 "nbformat": 4,
 "nbformat_minor": 5
}
