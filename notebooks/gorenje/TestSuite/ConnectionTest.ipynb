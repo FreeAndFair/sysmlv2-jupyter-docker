{
 "cells": [
  {
   "cell_type": "markdown",
   "id": "wrapped-stable",
   "metadata": {},
   "source": [
    "# SysML v2 Test Suite\n",
    "\n",
    "This can notebook can be cleared using menu `Edit --> Clear All Outputs` and then all cells can be\n",
    "run using menu `Run --> Run All Cells`.\n",
    "\n",
    "**WARNING**: This file is generated, all modifications here will be ignored.\n"
   ]
  },
  {
   "cell_type": "markdown",
   "id": "civil-climate",
   "metadata": {},
   "source": [
    "## File: ../../sysml/src/examples/Simple Tests/ConnectionTest.sysml"
   ]
  },
  {
   "cell_type": "code",
   "execution_count": 1,
   "id": "divine-variance",
   "metadata": {
    "execution": {
     "iopub.execute_input": "2021-03-25T13:50:00.380181Z",
     "iopub.status.busy": "2021-03-25T13:50:00.379679Z",
     "iopub.status.idle": "2021-03-25T13:50:00.652235Z",
     "shell.execute_reply": "2021-03-25T13:50:00.651599Z"
    }
   },
   "outputs": [
    {
     "data": {
      "text/plain": [
       "Package ConnectionTest (63f07a8d-cbb8-4b93-871f-ce9fe8419884)\n"
      ]
     },
     "execution_count": 1,
     "metadata": {},
     "output_type": "execute_result"
    }
   ],
   "source": [
    "package ConnectionTest {\n",
    "\t\n",
    "\tpart p {\n",
    "\t\tpart x;\n",
    "\t}\n",
    "\t\n",
    "\tpart def P {\n",
    "\t\tpart y;\n",
    "\t\t\t\n",
    "\t\tconnect p to y;\n",
    "\t\t\n",
    "\t\tpart p1 :> p {\n",
    "\t\t\tpart :>> x;\n",
    "\t\t}\n",
    "\t\n",
    "\t\tconnect p1::x to y;\n",
    "\t}\n",
    "}"
   ]
  },
  {
   "cell_type": "code",
   "execution_count": 2,
   "id": "joined-voltage",
   "metadata": {
    "execution": {
     "iopub.execute_input": "2021-03-25T13:50:00.705698Z",
     "iopub.status.busy": "2021-03-25T13:50:00.704951Z",
     "iopub.status.idle": "2021-03-25T13:50:01.452485Z",
     "shell.execute_reply": "2021-03-25T13:50:01.452066Z"
    }
   },
   "outputs": [
    {
     "data": {
      "image/svg+xml": [
       "<?xml version=\"1.0\" encoding=\"UTF-8\" standalone=\"no\"?><svg xmlns=\"http://www.w3.org/2000/svg\" xmlns:xlink=\"http://www.w3.org/1999/xlink\" contentScriptType=\"application/ecmascript\" contentStyleType=\"text/css\" height=\"433px\" preserveAspectRatio=\"none\" style=\"width:189px;height:433px;\" version=\"1.1\" viewBox=\"0 0 189 433\" width=\"189px\" zoomAndPan=\"magnify\"><defs/><g><!--MD5=[fbc87193dbaf4d95561dea2c320d4a47]\n",
       "cluster E1--><a href=\"psysml:1fa0c0c0-6c41-491a-9601-36d7e4e40543\" target=\"_top\" title=\"psysml:1fa0c0c0-6c41-491a-9601-36d7e4e40543\" xlink:actuate=\"onRequest\" xlink:href=\"psysml:1fa0c0c0-6c41-491a-9601-36d7e4e40543\" xlink:show=\"new\" xlink:title=\"psysml:1fa0c0c0-6c41-491a-9601-36d7e4e40543\" xlink:type=\"simple\"><polygon fill=\"#FFFFFF\" points=\"16,6,147,6,154,28.2969,167,28.2969,167,421,16,421,16,6\" style=\"stroke: #000000; stroke-width: 1.5;\"/><line style=\"stroke: #000000; stroke-width: 1.5;\" x1=\"16\" x2=\"154\" y1=\"28.2969\" y2=\"28.2969\"/><text fill=\"#000000\" font-family=\"sans-serif\" font-size=\"14\" font-weight=\"bold\" lengthAdjust=\"spacingAndGlyphs\" textLength=\"125\" x=\"20\" y=\"20.9951\">ConnectionTest</text></a><!--MD5=[b4997ac47864f28c2f74865a473b2911]\n",
       "class E2--><a href=\"psysml:5f85cf43-367b-49d0-8c6e-b9320e7aab66\" target=\"_top\" title=\"psysml:5f85cf43-367b-49d0-8c6e-b9320e7aab66\" xlink:actuate=\"onRequest\" xlink:href=\"psysml:5f85cf43-367b-49d0-8c6e-b9320e7aab66\" xlink:show=\"new\" xlink:title=\"psysml:5f85cf43-367b-49d0-8c6e-b9320e7aab66\" xlink:type=\"simple\"><rect fill=\"#FFFFFF\" height=\"45.9375\" id=\"E2\" rx=\"10\" ry=\"10\" style=\"stroke: #383838; stroke-width: 1.5;\" width=\"42\" x=\"32\" y=\"253\"/><text fill=\"#000000\" font-family=\"sans-serif\" font-size=\"12\" font-style=\"italic\" lengthAdjust=\"spacingAndGlyphs\" textLength=\"40\" x=\"33\" y=\"269.1387\">«part»</text><text fill=\"#000000\" font-family=\"sans-serif\" font-size=\"12\" lengthAdjust=\"spacingAndGlyphs\" textLength=\"8\" x=\"49\" y=\"283.1074\">p</text><line style=\"stroke: #383838; stroke-width: 1.5;\" x1=\"33\" x2=\"73\" y1=\"290.9375\" y2=\"290.9375\"/></a><!--MD5=[09b614a08d8cba4a07c9adeb5e0fee81]\n",
       "class E3--><a href=\"psysml:03220e95-b237-4532-8361-eb1844ca39e9\" target=\"_top\" title=\"psysml:03220e95-b237-4532-8361-eb1844ca39e9\" xlink:actuate=\"onRequest\" xlink:href=\"psysml:03220e95-b237-4532-8361-eb1844ca39e9\" xlink:show=\"new\" xlink:title=\"psysml:03220e95-b237-4532-8361-eb1844ca39e9\" xlink:type=\"simple\"><rect fill=\"#FFFFFF\" height=\"45.9375\" id=\"E3\" rx=\"10\" ry=\"10\" style=\"stroke: #383838; stroke-width: 1.5;\" width=\"42\" x=\"70\" y=\"359\"/><text fill=\"#000000\" font-family=\"sans-serif\" font-size=\"12\" font-style=\"italic\" lengthAdjust=\"spacingAndGlyphs\" textLength=\"40\" x=\"71\" y=\"375.1387\">«part»</text><text fill=\"#000000\" font-family=\"sans-serif\" font-size=\"12\" lengthAdjust=\"spacingAndGlyphs\" textLength=\"6\" x=\"88\" y=\"389.1074\">x</text><line style=\"stroke: #383838; stroke-width: 1.5;\" x1=\"71\" x2=\"111\" y1=\"396.9375\" y2=\"396.9375\"/></a><!--MD5=[ebbe1d658d1005bcc118a6aa81145e00]\n",
       "class E4--><a href=\"psysml:deb35dd4-2c3a-4fce-b73d-f2bc7012e274\" target=\"_top\" title=\"psysml:deb35dd4-2c3a-4fce-b73d-f2bc7012e274\" xlink:actuate=\"onRequest\" xlink:href=\"psysml:deb35dd4-2c3a-4fce-b73d-f2bc7012e274\" xlink:show=\"new\" xlink:title=\"psysml:deb35dd4-2c3a-4fce-b73d-f2bc7012e274\" xlink:type=\"simple\"><rect fill=\"#FFFFFF\" height=\"45.9375\" id=\"E4\" style=\"stroke: #383838; stroke-width: 1.5;\" width=\"66\" x=\"58\" y=\"41\"/><text fill=\"#000000\" font-family=\"sans-serif\" font-size=\"12\" font-style=\"italic\" lengthAdjust=\"spacingAndGlyphs\" textLength=\"64\" x=\"59\" y=\"57.1387\">«part def»</text><text fill=\"#000000\" font-family=\"sans-serif\" font-size=\"12\" lengthAdjust=\"spacingAndGlyphs\" textLength=\"8\" x=\"87\" y=\"71.1074\">P</text><line style=\"stroke: #383838; stroke-width: 1.5;\" x1=\"59\" x2=\"123\" y1=\"78.9375\" y2=\"78.9375\"/></a><!--MD5=[270fce915f116d4de14055a7c1d9a0f3]\n",
       "class E5--><a href=\"psysml:021693d6-d6d0-45d3-85e9-0e056c3c99ea\" target=\"_top\" title=\"psysml:021693d6-d6d0-45d3-85e9-0e056c3c99ea\" xlink:actuate=\"onRequest\" xlink:href=\"psysml:021693d6-d6d0-45d3-85e9-0e056c3c99ea\" xlink:show=\"new\" xlink:title=\"psysml:021693d6-d6d0-45d3-85e9-0e056c3c99ea\" xlink:type=\"simple\"><rect fill=\"#FFFFFF\" height=\"45.9375\" id=\"E5\" rx=\"10\" ry=\"10\" style=\"stroke: #383838; stroke-width: 1.5;\" width=\"42\" x=\"32\" y=\"147\"/><text fill=\"#000000\" font-family=\"sans-serif\" font-size=\"12\" font-style=\"italic\" lengthAdjust=\"spacingAndGlyphs\" textLength=\"40\" x=\"33\" y=\"163.1387\">«part»</text><text fill=\"#000000\" font-family=\"sans-serif\" font-size=\"12\" lengthAdjust=\"spacingAndGlyphs\" textLength=\"6\" x=\"50\" y=\"177.1074\">y</text><line style=\"stroke: #383838; stroke-width: 1.5;\" x1=\"33\" x2=\"73\" y1=\"184.9375\" y2=\"184.9375\"/></a><!--MD5=[60a26617385b1d2d0262a64233df1f8d]\n",
       "class E6--><a href=\"psysml:48ad0273-6ae0-4e72-b6eb-52596fa39c0f\" target=\"_top\" title=\"psysml:48ad0273-6ae0-4e72-b6eb-52596fa39c0f\" xlink:actuate=\"onRequest\" xlink:href=\"psysml:48ad0273-6ae0-4e72-b6eb-52596fa39c0f\" xlink:show=\"new\" xlink:title=\"psysml:48ad0273-6ae0-4e72-b6eb-52596fa39c0f\" xlink:type=\"simple\"><rect fill=\"#FFFFFF\" height=\"45.9375\" id=\"E6\" rx=\"10\" ry=\"10\" style=\"stroke: #383838; stroke-width: 1.5;\" width=\"42\" x=\"109\" y=\"147\"/><text fill=\"#000000\" font-family=\"sans-serif\" font-size=\"12\" font-style=\"italic\" lengthAdjust=\"spacingAndGlyphs\" textLength=\"40\" x=\"110\" y=\"163.1387\">«part»</text><text fill=\"#000000\" font-family=\"sans-serif\" font-size=\"12\" lengthAdjust=\"spacingAndGlyphs\" textLength=\"16\" x=\"122\" y=\"177.1074\">p1</text><line style=\"stroke: #383838; stroke-width: 1.5;\" x1=\"110\" x2=\"150\" y1=\"184.9375\" y2=\"184.9375\"/></a><!--MD5=[2156ba9850f5573cc1fc38a6a4b2f02b]\n",
       "class E7--><a href=\"psysml:3d476d3d-b46e-46da-94ef-54f71581d8bd\" target=\"_top\" title=\"psysml:3d476d3d-b46e-46da-94ef-54f71581d8bd\" xlink:actuate=\"onRequest\" xlink:href=\"psysml:3d476d3d-b46e-46da-94ef-54f71581d8bd\" xlink:show=\"new\" xlink:title=\"psysml:3d476d3d-b46e-46da-94ef-54f71581d8bd\" xlink:type=\"simple\"><rect fill=\"#FFFFFF\" height=\"45.9375\" id=\"E7\" rx=\"10\" ry=\"10\" style=\"stroke: #383838; stroke-width: 1.5;\" width=\"42\" x=\"109\" y=\"253\"/><text fill=\"#000000\" font-family=\"sans-serif\" font-size=\"12\" font-style=\"italic\" lengthAdjust=\"spacingAndGlyphs\" textLength=\"40\" x=\"110\" y=\"269.1387\">«part»</text><text fill=\"#000000\" font-family=\"sans-serif\" font-size=\"12\" lengthAdjust=\"spacingAndGlyphs\" textLength=\"6\" x=\"127\" y=\"283.1074\">x</text><line style=\"stroke: #383838; stroke-width: 1.5;\" x1=\"110\" x2=\"150\" y1=\"290.9375\" y2=\"290.9375\"/></a><!--MD5=[209b3feb70ccb6233bfe1053d122c12c]\n",
       "reverse link E2 to E3--><a href=\"psysml:03220e95-b237-4532-8361-eb1844ca39e9\" target=\"_top\" title=\"psysml:03220e95-b237-4532-8361-eb1844ca39e9\" xlink:actuate=\"onRequest\" xlink:href=\"psysml:03220e95-b237-4532-8361-eb1844ca39e9\" xlink:show=\"new\" xlink:title=\"psysml:03220e95-b237-4532-8361-eb1844ca39e9\" xlink:type=\"simple\"><path d=\"M65.6,311.49 C71.32,327.15 77.92,345.19 82.95,358.98 \" fill=\"none\" id=\"E2&lt;-E3\" style=\"stroke: #383838; stroke-width: 1.0;\"/><polygon fill=\"#383838\" points=\"61.06,299.06,59.3691,306.07,65.1895,310.3271,66.8804,303.317,61.06,299.06\" style=\"stroke: #383838; stroke-width: 1.0;\"/></a><!--MD5=[62aa6af11e70f752912c1cb0466f24f7]\n",
       "reverse link E4 to E5--><a href=\"psysml:021693d6-d6d0-45d3-85e9-0e056c3c99ea\" target=\"_top\" title=\"psysml:021693d6-d6d0-45d3-85e9-0e056c3c99ea\" xlink:actuate=\"onRequest\" xlink:href=\"psysml:021693d6-d6d0-45d3-85e9-0e056c3c99ea\" xlink:show=\"new\" xlink:title=\"psysml:021693d6-d6d0-45d3-85e9-0e056c3c99ea\" xlink:type=\"simple\"><path d=\"M78.4,99.49 C72.68,115.15 66.08,133.19 61.05,146.98 \" fill=\"none\" id=\"E4&lt;-E5\" style=\"stroke: #383838; stroke-width: 1.0;\"/><polygon fill=\"#383838\" points=\"82.94,87.06,77.1196,91.317,78.8105,98.3271,84.6309,94.07,82.94,87.06\" style=\"stroke: #383838; stroke-width: 1.0;\"/></a><!--MD5=[2351f337d6de0f557b50152ba70847b5]\n",
       "link E6 to E2--><a href=\"psysml:9890fb32-dc37-43db-abbc-6177a2056fad\" target=\"_top\" title=\"psysml:9890fb32-dc37-43db-abbc-6177a2056fad\" xlink:actuate=\"onRequest\" xlink:href=\"psysml:9890fb32-dc37-43db-abbc-6177a2056fad\" xlink:show=\"new\" xlink:title=\"psysml:9890fb32-dc37-43db-abbc-6177a2056fad\" xlink:type=\"simple\"><path d=\"M113.67,193.06 C104.28,205.74 92.22,222.03 81.32,236.74 \" fill=\"none\" id=\"E6-&gt;E2\" style=\"stroke: #383838; stroke-width: 1.0;\"/><polygon fill=\"none\" points=\"86.83,241.07,69.31,252.98,75.58,232.74,86.83,241.07\" style=\"stroke: #383838; stroke-width: 1.0;\"/></a><!--MD5=[6db378b65e1aef66a01cb3103812b399]\n",
       "reverse link E4 to E6--><a href=\"psysml:48ad0273-6ae0-4e72-b6eb-52596fa39c0f\" target=\"_top\" title=\"psysml:48ad0273-6ae0-4e72-b6eb-52596fa39c0f\" xlink:actuate=\"onRequest\" xlink:href=\"psysml:48ad0273-6ae0-4e72-b6eb-52596fa39c0f\" xlink:show=\"new\" xlink:title=\"psysml:48ad0273-6ae0-4e72-b6eb-52596fa39c0f\" xlink:type=\"simple\"><path d=\"M103.94,99.49 C109.8,115.15 116.57,133.19 121.74,146.98 \" fill=\"none\" id=\"E4&lt;-E6\" style=\"stroke: #383838; stroke-width: 1.0;\"/><polygon fill=\"#383838\" points=\"99.27,87.06,97.635,94.0833,103.4893,98.2938,105.1242,91.2705,99.27,87.06\" style=\"stroke: #383838; stroke-width: 1.0;\"/></a><!--MD5=[14ccda38c055a5c0da953d572bc50960]\n",
       "link E7 to E3--><a href=\"psysml:6e6cfa00-bc1f-4d19-92ba-1126ed543e13\" target=\"_top\" title=\"psysml:6e6cfa00-bc1f-4d19-92ba-1126ed543e13\" xlink:actuate=\"onRequest\" xlink:href=\"psysml:6e6cfa00-bc1f-4d19-92ba-1126ed543e13\" xlink:show=\"new\" xlink:title=\"psysml:6e6cfa00-bc1f-4d19-92ba-1126ed543e13\" xlink:type=\"simple\"><path d=\"M121.73,299.06 C117.28,310.91 111.65,325.92 106.43,339.85 \" fill=\"none\" id=\"E7-&gt;E3\" style=\"stroke: #383838; stroke-width: 1.0;\"/><polygon fill=\"#FFFFFF\" points=\"99.26,358.98,99.3821,338.7319,112.4895,343.6509,99.26,358.98\" style=\"stroke: #383838; stroke-width: 1.0;\"/><line style=\"stroke: #383838; stroke-width: 2.0;\" x1=\"100.7173\" x2=\"113.8247\" y1=\"335.1742\" y2=\"340.0932\"/></a><!--MD5=[3f50a3473f1dfb74d3f76443e03635af]\n",
       "reverse link E6 to E7--><a href=\"psysml:3d476d3d-b46e-46da-94ef-54f71581d8bd\" target=\"_top\" title=\"psysml:3d476d3d-b46e-46da-94ef-54f71581d8bd\" xlink:actuate=\"onRequest\" xlink:href=\"psysml:3d476d3d-b46e-46da-94ef-54f71581d8bd\" xlink:show=\"new\" xlink:title=\"psysml:3d476d3d-b46e-46da-94ef-54f71581d8bd\" xlink:type=\"simple\"><path d=\"M130,206.44 C130,221.87 130,239.47 130,252.98 \" fill=\"none\" id=\"E6&lt;-E7\" style=\"stroke: #383838; stroke-width: 1.0;\"/><polygon fill=\"#383838\" points=\"130,193.06,126,199.06,130,205.06,134,199.06,130,193.06\" style=\"stroke: #383838; stroke-width: 1.0;\"/></a><!--MD5=[0ddcfecc48e3cf461aecac7a7b977f80]\n",
       "@startuml\r\n",
       " skinparam monochrome true\r\n",
       "skinparam classbackgroundcolor white\r\n",
       "skinparam shadowing false\r\n",
       "skinparam wrapWidth 300\r\n",
       "hide circle\r\n",
       "\r\n",
       "package \"ConnectionTest\" as E1  [[psysml:1fa0c0c0-6c41-491a-9601-36d7e4e40543 ]]  {\r\n",
       "comp usage \"p\" as E2  <<(T,blue)part>> [[psysml:5f85cf43-367b-49d0-8c6e-b9320e7aab66 ]] {\r\n",
       "}\r\n",
       "comp usage \"x\" as E3  <<(T,blue)part>> [[psysml:03220e95-b237-4532-8361-eb1844ca39e9 ]] {\r\n",
       "}\r\n",
       "comp def \"P\" as E4  <<(T,blue)part def>> [[psysml:deb35dd4-2c3a-4fce-b73d-f2bc7012e274 ]] {\r\n",
       "}\r\n",
       "comp usage \"y\" as E5  <<(T,blue)part>> [[psysml:021693d6-d6d0-45d3-85e9-0e056c3c99ea ]] {\r\n",
       "}\r\n",
       "comp usage \"p1\" as E6  <<(T,blue)part>> [[psysml:48ad0273-6ae0-4e72-b6eb-52596fa39c0f ]] {\r\n",
       "}\r\n",
       "comp usage \"x\" as E7  <<(T,blue)part>> [[psysml:3d476d3d-b46e-46da-94ef-54f71581d8bd ]] {\r\n",
       "}\r\n",
       "E2 *- - E3 [[psysml:03220e95-b237-4532-8361-eb1844ca39e9 ]] \r\n",
       "E4 *- - E5 [[psysml:021693d6-d6d0-45d3-85e9-0e056c3c99ea ]] \r\n",
       "E6 - -|> E2 [[psysml:9890fb32-dc37-43db-abbc-6177a2056fad ]] \r\n",
       "E4 *- - E6 [[psysml:48ad0273-6ae0-4e72-b6eb-52596fa39c0f ]] \r\n",
       "E7 - -||> E3 [[psysml:6e6cfa00-bc1f-4d19-92ba-1126ed543e13 ]] \r\n",
       "E6 *- - E7 [[psysml:3d476d3d-b46e-46da-94ef-54f71581d8bd ]] \r\n",
       "}\r\n",
       "@enduml\r\n",
       "\n",
       "PlantUML version 1.2020.13(Sat Jun 13 12:26:38 UTC 2020)\n",
       "(EPL source distribution)\n",
       "Java Runtime: OpenJDK Runtime Environment\n",
       "JVM: OpenJDK 64-Bit Server VM\n",
       "Default Encoding: UTF-8\n",
       "Language: en\n",
       "Country: null\n",
       "--></g></svg>"
      ]
     },
     "execution_count": 2,
     "metadata": {},
     "output_type": "execute_result"
    }
   ],
   "source": [
    "%viz --style=\"COMPTREE\" --view=\"Default\" \"ConnectionTest\""
   ]
  },
  {
   "cell_type": "code",
   "execution_count": 3,
   "id": "asian-pickup",
   "metadata": {
    "execution": {
     "iopub.execute_input": "2021-03-25T13:50:01.502940Z",
     "iopub.status.busy": "2021-03-25T13:50:01.502356Z",
     "iopub.status.idle": "2021-03-25T13:50:01.615615Z",
     "shell.execute_reply": "2021-03-25T13:50:01.613848Z"
    }
   },
   "outputs": [
    {
     "data": {
      "image/svg+xml": [
       "<?xml version=\"1.0\" encoding=\"UTF-8\" standalone=\"no\"?><svg xmlns=\"http://www.w3.org/2000/svg\" xmlns:xlink=\"http://www.w3.org/1999/xlink\" contentScriptType=\"application/ecmascript\" contentStyleType=\"text/css\" height=\"433px\" preserveAspectRatio=\"none\" style=\"width:189px;height:433px;\" version=\"1.1\" viewBox=\"0 0 189 433\" width=\"189px\" zoomAndPan=\"magnify\"><defs/><g><!--MD5=[fbc87193dbaf4d95561dea2c320d4a47]\n",
       "cluster E1--><a href=\"psysml:1fa0c0c0-6c41-491a-9601-36d7e4e40543\" target=\"_top\" title=\"psysml:1fa0c0c0-6c41-491a-9601-36d7e4e40543\" xlink:actuate=\"onRequest\" xlink:href=\"psysml:1fa0c0c0-6c41-491a-9601-36d7e4e40543\" xlink:show=\"new\" xlink:title=\"psysml:1fa0c0c0-6c41-491a-9601-36d7e4e40543\" xlink:type=\"simple\"><polygon fill=\"#FFFFFF\" points=\"16,6,147,6,154,28.2969,167,28.2969,167,421,16,421,16,6\" style=\"stroke: #000000; stroke-width: 1.5;\"/><line style=\"stroke: #000000; stroke-width: 1.5;\" x1=\"16\" x2=\"154\" y1=\"28.2969\" y2=\"28.2969\"/><text fill=\"#000000\" font-family=\"sans-serif\" font-size=\"14\" font-weight=\"bold\" lengthAdjust=\"spacingAndGlyphs\" textLength=\"125\" x=\"20\" y=\"20.9951\">ConnectionTest</text></a><!--MD5=[b4997ac47864f28c2f74865a473b2911]\n",
       "class E2--><a href=\"psysml:5f85cf43-367b-49d0-8c6e-b9320e7aab66\" target=\"_top\" title=\"psysml:5f85cf43-367b-49d0-8c6e-b9320e7aab66\" xlink:actuate=\"onRequest\" xlink:href=\"psysml:5f85cf43-367b-49d0-8c6e-b9320e7aab66\" xlink:show=\"new\" xlink:title=\"psysml:5f85cf43-367b-49d0-8c6e-b9320e7aab66\" xlink:type=\"simple\"><rect fill=\"#FFFFFF\" height=\"45.9375\" id=\"E2\" rx=\"10\" ry=\"10\" style=\"stroke: #383838; stroke-width: 1.5;\" width=\"42\" x=\"32\" y=\"253\"/><text fill=\"#000000\" font-family=\"sans-serif\" font-size=\"12\" font-style=\"italic\" lengthAdjust=\"spacingAndGlyphs\" textLength=\"40\" x=\"33\" y=\"269.1387\">«part»</text><text fill=\"#000000\" font-family=\"sans-serif\" font-size=\"12\" lengthAdjust=\"spacingAndGlyphs\" textLength=\"8\" x=\"49\" y=\"283.1074\">p</text><line style=\"stroke: #383838; stroke-width: 1.5;\" x1=\"33\" x2=\"73\" y1=\"290.9375\" y2=\"290.9375\"/></a><!--MD5=[09b614a08d8cba4a07c9adeb5e0fee81]\n",
       "class E3--><a href=\"psysml:03220e95-b237-4532-8361-eb1844ca39e9\" target=\"_top\" title=\"psysml:03220e95-b237-4532-8361-eb1844ca39e9\" xlink:actuate=\"onRequest\" xlink:href=\"psysml:03220e95-b237-4532-8361-eb1844ca39e9\" xlink:show=\"new\" xlink:title=\"psysml:03220e95-b237-4532-8361-eb1844ca39e9\" xlink:type=\"simple\"><rect fill=\"#FFFFFF\" height=\"45.9375\" id=\"E3\" rx=\"10\" ry=\"10\" style=\"stroke: #383838; stroke-width: 1.5;\" width=\"42\" x=\"70\" y=\"359\"/><text fill=\"#000000\" font-family=\"sans-serif\" font-size=\"12\" font-style=\"italic\" lengthAdjust=\"spacingAndGlyphs\" textLength=\"40\" x=\"71\" y=\"375.1387\">«part»</text><text fill=\"#000000\" font-family=\"sans-serif\" font-size=\"12\" lengthAdjust=\"spacingAndGlyphs\" textLength=\"6\" x=\"88\" y=\"389.1074\">x</text><line style=\"stroke: #383838; stroke-width: 1.5;\" x1=\"71\" x2=\"111\" y1=\"396.9375\" y2=\"396.9375\"/></a><!--MD5=[ebbe1d658d1005bcc118a6aa81145e00]\n",
       "class E4--><a href=\"psysml:deb35dd4-2c3a-4fce-b73d-f2bc7012e274\" target=\"_top\" title=\"psysml:deb35dd4-2c3a-4fce-b73d-f2bc7012e274\" xlink:actuate=\"onRequest\" xlink:href=\"psysml:deb35dd4-2c3a-4fce-b73d-f2bc7012e274\" xlink:show=\"new\" xlink:title=\"psysml:deb35dd4-2c3a-4fce-b73d-f2bc7012e274\" xlink:type=\"simple\"><rect fill=\"#FFFFFF\" height=\"45.9375\" id=\"E4\" style=\"stroke: #383838; stroke-width: 1.5;\" width=\"66\" x=\"58\" y=\"41\"/><text fill=\"#000000\" font-family=\"sans-serif\" font-size=\"12\" font-style=\"italic\" lengthAdjust=\"spacingAndGlyphs\" textLength=\"64\" x=\"59\" y=\"57.1387\">«part def»</text><text fill=\"#000000\" font-family=\"sans-serif\" font-size=\"12\" lengthAdjust=\"spacingAndGlyphs\" textLength=\"8\" x=\"87\" y=\"71.1074\">P</text><line style=\"stroke: #383838; stroke-width: 1.5;\" x1=\"59\" x2=\"123\" y1=\"78.9375\" y2=\"78.9375\"/></a><!--MD5=[270fce915f116d4de14055a7c1d9a0f3]\n",
       "class E5--><a href=\"psysml:021693d6-d6d0-45d3-85e9-0e056c3c99ea\" target=\"_top\" title=\"psysml:021693d6-d6d0-45d3-85e9-0e056c3c99ea\" xlink:actuate=\"onRequest\" xlink:href=\"psysml:021693d6-d6d0-45d3-85e9-0e056c3c99ea\" xlink:show=\"new\" xlink:title=\"psysml:021693d6-d6d0-45d3-85e9-0e056c3c99ea\" xlink:type=\"simple\"><rect fill=\"#FFFFFF\" height=\"45.9375\" id=\"E5\" rx=\"10\" ry=\"10\" style=\"stroke: #383838; stroke-width: 1.5;\" width=\"42\" x=\"32\" y=\"147\"/><text fill=\"#000000\" font-family=\"sans-serif\" font-size=\"12\" font-style=\"italic\" lengthAdjust=\"spacingAndGlyphs\" textLength=\"40\" x=\"33\" y=\"163.1387\">«part»</text><text fill=\"#000000\" font-family=\"sans-serif\" font-size=\"12\" lengthAdjust=\"spacingAndGlyphs\" textLength=\"6\" x=\"50\" y=\"177.1074\">y</text><line style=\"stroke: #383838; stroke-width: 1.5;\" x1=\"33\" x2=\"73\" y1=\"184.9375\" y2=\"184.9375\"/></a><!--MD5=[60a26617385b1d2d0262a64233df1f8d]\n",
       "class E6--><a href=\"psysml:48ad0273-6ae0-4e72-b6eb-52596fa39c0f\" target=\"_top\" title=\"psysml:48ad0273-6ae0-4e72-b6eb-52596fa39c0f\" xlink:actuate=\"onRequest\" xlink:href=\"psysml:48ad0273-6ae0-4e72-b6eb-52596fa39c0f\" xlink:show=\"new\" xlink:title=\"psysml:48ad0273-6ae0-4e72-b6eb-52596fa39c0f\" xlink:type=\"simple\"><rect fill=\"#FFFFFF\" height=\"45.9375\" id=\"E6\" rx=\"10\" ry=\"10\" style=\"stroke: #383838; stroke-width: 1.5;\" width=\"42\" x=\"109\" y=\"147\"/><text fill=\"#000000\" font-family=\"sans-serif\" font-size=\"12\" font-style=\"italic\" lengthAdjust=\"spacingAndGlyphs\" textLength=\"40\" x=\"110\" y=\"163.1387\">«part»</text><text fill=\"#000000\" font-family=\"sans-serif\" font-size=\"12\" lengthAdjust=\"spacingAndGlyphs\" textLength=\"16\" x=\"122\" y=\"177.1074\">p1</text><line style=\"stroke: #383838; stroke-width: 1.5;\" x1=\"110\" x2=\"150\" y1=\"184.9375\" y2=\"184.9375\"/></a><!--MD5=[2156ba9850f5573cc1fc38a6a4b2f02b]\n",
       "class E7--><a href=\"psysml:3d476d3d-b46e-46da-94ef-54f71581d8bd\" target=\"_top\" title=\"psysml:3d476d3d-b46e-46da-94ef-54f71581d8bd\" xlink:actuate=\"onRequest\" xlink:href=\"psysml:3d476d3d-b46e-46da-94ef-54f71581d8bd\" xlink:show=\"new\" xlink:title=\"psysml:3d476d3d-b46e-46da-94ef-54f71581d8bd\" xlink:type=\"simple\"><rect fill=\"#FFFFFF\" height=\"45.9375\" id=\"E7\" rx=\"10\" ry=\"10\" style=\"stroke: #383838; stroke-width: 1.5;\" width=\"42\" x=\"109\" y=\"253\"/><text fill=\"#000000\" font-family=\"sans-serif\" font-size=\"12\" font-style=\"italic\" lengthAdjust=\"spacingAndGlyphs\" textLength=\"40\" x=\"110\" y=\"269.1387\">«part»</text><text fill=\"#000000\" font-family=\"sans-serif\" font-size=\"12\" lengthAdjust=\"spacingAndGlyphs\" textLength=\"6\" x=\"127\" y=\"283.1074\">x</text><line style=\"stroke: #383838; stroke-width: 1.5;\" x1=\"110\" x2=\"150\" y1=\"290.9375\" y2=\"290.9375\"/></a><!--MD5=[209b3feb70ccb6233bfe1053d122c12c]\n",
       "reverse link E2 to E3--><a href=\"psysml:03220e95-b237-4532-8361-eb1844ca39e9\" target=\"_top\" title=\"psysml:03220e95-b237-4532-8361-eb1844ca39e9\" xlink:actuate=\"onRequest\" xlink:href=\"psysml:03220e95-b237-4532-8361-eb1844ca39e9\" xlink:show=\"new\" xlink:title=\"psysml:03220e95-b237-4532-8361-eb1844ca39e9\" xlink:type=\"simple\"><path d=\"M65.6,311.49 C71.32,327.15 77.92,345.19 82.95,358.98 \" fill=\"none\" id=\"E2&lt;-E3\" style=\"stroke: #383838; stroke-width: 1.0;\"/><polygon fill=\"#383838\" points=\"61.06,299.06,59.3691,306.07,65.1895,310.3271,66.8804,303.317,61.06,299.06\" style=\"stroke: #383838; stroke-width: 1.0;\"/></a><!--MD5=[62aa6af11e70f752912c1cb0466f24f7]\n",
       "reverse link E4 to E5--><a href=\"psysml:021693d6-d6d0-45d3-85e9-0e056c3c99ea\" target=\"_top\" title=\"psysml:021693d6-d6d0-45d3-85e9-0e056c3c99ea\" xlink:actuate=\"onRequest\" xlink:href=\"psysml:021693d6-d6d0-45d3-85e9-0e056c3c99ea\" xlink:show=\"new\" xlink:title=\"psysml:021693d6-d6d0-45d3-85e9-0e056c3c99ea\" xlink:type=\"simple\"><path d=\"M78.4,99.49 C72.68,115.15 66.08,133.19 61.05,146.98 \" fill=\"none\" id=\"E4&lt;-E5\" style=\"stroke: #383838; stroke-width: 1.0;\"/><polygon fill=\"#383838\" points=\"82.94,87.06,77.1196,91.317,78.8105,98.3271,84.6309,94.07,82.94,87.06\" style=\"stroke: #383838; stroke-width: 1.0;\"/></a><!--MD5=[2351f337d6de0f557b50152ba70847b5]\n",
       "link E6 to E2--><a href=\"psysml:9890fb32-dc37-43db-abbc-6177a2056fad\" target=\"_top\" title=\"psysml:9890fb32-dc37-43db-abbc-6177a2056fad\" xlink:actuate=\"onRequest\" xlink:href=\"psysml:9890fb32-dc37-43db-abbc-6177a2056fad\" xlink:show=\"new\" xlink:title=\"psysml:9890fb32-dc37-43db-abbc-6177a2056fad\" xlink:type=\"simple\"><path d=\"M113.67,193.06 C104.28,205.74 92.22,222.03 81.32,236.74 \" fill=\"none\" id=\"E6-&gt;E2\" style=\"stroke: #383838; stroke-width: 1.0;\"/><polygon fill=\"none\" points=\"86.83,241.07,69.31,252.98,75.58,232.74,86.83,241.07\" style=\"stroke: #383838; stroke-width: 1.0;\"/></a><!--MD5=[6db378b65e1aef66a01cb3103812b399]\n",
       "reverse link E4 to E6--><a href=\"psysml:48ad0273-6ae0-4e72-b6eb-52596fa39c0f\" target=\"_top\" title=\"psysml:48ad0273-6ae0-4e72-b6eb-52596fa39c0f\" xlink:actuate=\"onRequest\" xlink:href=\"psysml:48ad0273-6ae0-4e72-b6eb-52596fa39c0f\" xlink:show=\"new\" xlink:title=\"psysml:48ad0273-6ae0-4e72-b6eb-52596fa39c0f\" xlink:type=\"simple\"><path d=\"M103.94,99.49 C109.8,115.15 116.57,133.19 121.74,146.98 \" fill=\"none\" id=\"E4&lt;-E6\" style=\"stroke: #383838; stroke-width: 1.0;\"/><polygon fill=\"#383838\" points=\"99.27,87.06,97.635,94.0833,103.4893,98.2938,105.1242,91.2705,99.27,87.06\" style=\"stroke: #383838; stroke-width: 1.0;\"/></a><!--MD5=[14ccda38c055a5c0da953d572bc50960]\n",
       "link E7 to E3--><a href=\"psysml:6e6cfa00-bc1f-4d19-92ba-1126ed543e13\" target=\"_top\" title=\"psysml:6e6cfa00-bc1f-4d19-92ba-1126ed543e13\" xlink:actuate=\"onRequest\" xlink:href=\"psysml:6e6cfa00-bc1f-4d19-92ba-1126ed543e13\" xlink:show=\"new\" xlink:title=\"psysml:6e6cfa00-bc1f-4d19-92ba-1126ed543e13\" xlink:type=\"simple\"><path d=\"M121.73,299.06 C117.28,310.91 111.65,325.92 106.43,339.85 \" fill=\"none\" id=\"E7-&gt;E3\" style=\"stroke: #383838; stroke-width: 1.0;\"/><polygon fill=\"#FFFFFF\" points=\"99.26,358.98,99.3821,338.7319,112.4895,343.6509,99.26,358.98\" style=\"stroke: #383838; stroke-width: 1.0;\"/><line style=\"stroke: #383838; stroke-width: 2.0;\" x1=\"100.7173\" x2=\"113.8247\" y1=\"335.1742\" y2=\"340.0932\"/></a><!--MD5=[3f50a3473f1dfb74d3f76443e03635af]\n",
       "reverse link E6 to E7--><a href=\"psysml:3d476d3d-b46e-46da-94ef-54f71581d8bd\" target=\"_top\" title=\"psysml:3d476d3d-b46e-46da-94ef-54f71581d8bd\" xlink:actuate=\"onRequest\" xlink:href=\"psysml:3d476d3d-b46e-46da-94ef-54f71581d8bd\" xlink:show=\"new\" xlink:title=\"psysml:3d476d3d-b46e-46da-94ef-54f71581d8bd\" xlink:type=\"simple\"><path d=\"M130,206.44 C130,221.87 130,239.47 130,252.98 \" fill=\"none\" id=\"E6&lt;-E7\" style=\"stroke: #383838; stroke-width: 1.0;\"/><polygon fill=\"#383838\" points=\"130,193.06,126,199.06,130,205.06,134,199.06,130,193.06\" style=\"stroke: #383838; stroke-width: 1.0;\"/></a><!--MD5=[0ddcfecc48e3cf461aecac7a7b977f80]\n",
       "@startuml\r\n",
       " skinparam monochrome true\r\n",
       "skinparam classbackgroundcolor white\r\n",
       "skinparam shadowing false\r\n",
       "skinparam wrapWidth 300\r\n",
       "hide circle\r\n",
       "\r\n",
       "package \"ConnectionTest\" as E1  [[psysml:1fa0c0c0-6c41-491a-9601-36d7e4e40543 ]]  {\r\n",
       "comp usage \"p\" as E2  <<(T,blue)part>> [[psysml:5f85cf43-367b-49d0-8c6e-b9320e7aab66 ]] {\r\n",
       "}\r\n",
       "comp usage \"x\" as E3  <<(T,blue)part>> [[psysml:03220e95-b237-4532-8361-eb1844ca39e9 ]] {\r\n",
       "}\r\n",
       "comp def \"P\" as E4  <<(T,blue)part def>> [[psysml:deb35dd4-2c3a-4fce-b73d-f2bc7012e274 ]] {\r\n",
       "}\r\n",
       "comp usage \"y\" as E5  <<(T,blue)part>> [[psysml:021693d6-d6d0-45d3-85e9-0e056c3c99ea ]] {\r\n",
       "}\r\n",
       "comp usage \"p1\" as E6  <<(T,blue)part>> [[psysml:48ad0273-6ae0-4e72-b6eb-52596fa39c0f ]] {\r\n",
       "}\r\n",
       "comp usage \"x\" as E7  <<(T,blue)part>> [[psysml:3d476d3d-b46e-46da-94ef-54f71581d8bd ]] {\r\n",
       "}\r\n",
       "E2 *- - E3 [[psysml:03220e95-b237-4532-8361-eb1844ca39e9 ]] \r\n",
       "E4 *- - E5 [[psysml:021693d6-d6d0-45d3-85e9-0e056c3c99ea ]] \r\n",
       "E6 - -|> E2 [[psysml:9890fb32-dc37-43db-abbc-6177a2056fad ]] \r\n",
       "E4 *- - E6 [[psysml:48ad0273-6ae0-4e72-b6eb-52596fa39c0f ]] \r\n",
       "E7 - -||> E3 [[psysml:6e6cfa00-bc1f-4d19-92ba-1126ed543e13 ]] \r\n",
       "E6 *- - E7 [[psysml:3d476d3d-b46e-46da-94ef-54f71581d8bd ]] \r\n",
       "}\r\n",
       "@enduml\r\n",
       "\n",
       "PlantUML version 1.2020.13(Sat Jun 13 12:26:38 UTC 2020)\n",
       "(EPL source distribution)\n",
       "Java Runtime: OpenJDK Runtime Environment\n",
       "JVM: OpenJDK 64-Bit Server VM\n",
       "Default Encoding: UTF-8\n",
       "Language: en\n",
       "Country: null\n",
       "--></g></svg>"
      ]
     },
     "execution_count": 3,
     "metadata": {},
     "output_type": "execute_result"
    }
   ],
   "source": [
    "%viz --style=\"COMPTREE\" --view=\"Tree\" \"ConnectionTest\""
   ]
  },
  {
   "cell_type": "code",
   "execution_count": 4,
   "id": "informed-circular",
   "metadata": {
    "execution": {
     "iopub.execute_input": "2021-03-25T13:50:01.666131Z",
     "iopub.status.busy": "2021-03-25T13:50:01.665619Z",
     "iopub.status.idle": "2021-03-25T13:50:01.679151Z",
     "shell.execute_reply": "2021-03-25T13:50:01.679606Z"
    }
   },
   "outputs": [
    {
     "data": {
      "image/svg+xml": [
       "<?xml version=\"1.0\" encoding=\"UTF-8\" standalone=\"no\"?><svg xmlns=\"http://www.w3.org/2000/svg\" xmlns:xlink=\"http://www.w3.org/1999/xlink\" contentScriptType=\"application/ecmascript\" contentStyleType=\"text/css\" height=\"12px\" preserveAspectRatio=\"none\" style=\"width:12px;height:12px;\" version=\"1.1\" viewBox=\"0 0 12 12\" width=\"12px\" zoomAndPan=\"magnify\"><defs/><g><!--MD5=[f19188ef49e11757b5c46753f95d9edc]\n",
       "@startuml\r\n",
       " skinparam monochrome true\r\n",
       "skinparam classbackgroundcolor white\r\n",
       "skinparam shadowing false\r\n",
       "skinparam wrapWidth 300\r\n",
       "hide circle\r\n",
       "\r\n",
       "@enduml\r\n",
       "\n",
       "PlantUML version 1.2020.13(Sat Jun 13 12:26:38 UTC 2020)\n",
       "(EPL source distribution)\n",
       "Java Runtime: OpenJDK Runtime Environment\n",
       "JVM: OpenJDK 64-Bit Server VM\n",
       "Default Encoding: UTF-8\n",
       "Language: en\n",
       "Country: null\n",
       "--></g></svg>"
      ]
     },
     "execution_count": 4,
     "metadata": {},
     "output_type": "execute_result"
    }
   ],
   "source": [
    "%viz --style=\"COMPTREE\" --view=\"State\" \"ConnectionTest\""
   ]
  },
  {
   "cell_type": "code",
   "execution_count": 5,
   "id": "documented-vitamin",
   "metadata": {
    "execution": {
     "iopub.execute_input": "2021-03-25T13:50:01.730698Z",
     "iopub.status.busy": "2021-03-25T13:50:01.730148Z",
     "iopub.status.idle": "2021-03-25T13:50:01.848583Z",
     "shell.execute_reply": "2021-03-25T13:50:01.846928Z"
    }
   },
   "outputs": [
    {
     "data": {
      "image/svg+xml": [
       "<?xml version=\"1.0\" encoding=\"UTF-8\" standalone=\"no\"?><svg xmlns=\"http://www.w3.org/2000/svg\" xmlns:xlink=\"http://www.w3.org/1999/xlink\" contentScriptType=\"application/ecmascript\" contentStyleType=\"text/css\" height=\"324px\" preserveAspectRatio=\"none\" style=\"width:385px;height:324px;\" version=\"1.1\" viewBox=\"0 0 385 324\" width=\"385px\" zoomAndPan=\"magnify\"><defs/><g><!--MD5=[fbc87193dbaf4d95561dea2c320d4a47]\n",
       "cluster E1--><a href=\"psysml:1fa0c0c0-6c41-491a-9601-36d7e4e40543\" target=\"_top\" title=\"psysml:1fa0c0c0-6c41-491a-9601-36d7e4e40543\" xlink:actuate=\"onRequest\" xlink:href=\"psysml:1fa0c0c0-6c41-491a-9601-36d7e4e40543\" xlink:show=\"new\" xlink:title=\"psysml:1fa0c0c0-6c41-491a-9601-36d7e4e40543\" xlink:type=\"simple\"><polygon fill=\"#FFFFFF\" points=\"16,6,147,6,154,28.2969,363,28.2969,363,312.5,16,312.5,16,6\" style=\"stroke: #000000; stroke-width: 1.5;\"/><line style=\"stroke: #000000; stroke-width: 1.5;\" x1=\"16\" x2=\"154\" y1=\"28.2969\" y2=\"28.2969\"/><text fill=\"#000000\" font-family=\"sans-serif\" font-size=\"14\" font-weight=\"bold\" lengthAdjust=\"spacingAndGlyphs\" textLength=\"125\" x=\"20\" y=\"20.9951\">ConnectionTest</text></a><!--MD5=[e4f7fae6ed58524ba242bb0b0d3be6b7]\n",
       "cluster E2--><a href=\"psysml:5f85cf43-367b-49d0-8c6e-b9320e7aab66\" target=\"_top\" title=\"psysml:5f85cf43-367b-49d0-8c6e-b9320e7aab66\" xlink:actuate=\"onRequest\" xlink:href=\"psysml:5f85cf43-367b-49d0-8c6e-b9320e7aab66\" xlink:show=\"new\" xlink:title=\"psysml:5f85cf43-367b-49d0-8c6e-b9320e7aab66\" xlink:type=\"simple\"><rect fill=\"#FFFFFF\" height=\"107\" id=\"E2\" rx=\"10\" ry=\"10\" style=\"stroke: #383838; stroke-width: 1.5;\" width=\"117\" x=\"214\" y=\"164\"/><rect fill=\"#F8F8F8\" height=\"23.9688\" rx=\"10\" ry=\"10\" style=\"stroke: #F8F8F8; stroke-width: 1.5;\" width=\"117\" x=\"214\" y=\"164\"/><rect fill=\"#F8F8F8\" height=\"10\" style=\"stroke: #F8F8F8; stroke-width: 1.5;\" width=\"117\" x=\"214\" y=\"177.9688\"/><rect fill=\"none\" height=\"107\" id=\"E2\" rx=\"10\" ry=\"10\" style=\"stroke: #383838; stroke-width: 1.5;\" width=\"117\" x=\"214\" y=\"164\"/><text fill=\"#000000\" font-family=\"sans-serif\" font-size=\"12\" lengthAdjust=\"spacingAndGlyphs\" textLength=\"8\" x=\"268.5\" y=\"180.1387\">p</text><line style=\"stroke: #383838; stroke-width: 1.0;\" x1=\"214\" x2=\"331\" y1=\"187.9688\" y2=\"187.9688\"/></a><!--MD5=[f6df4d0ebaf0b5dfb2ced0ae5af7c670]\n",
       "cluster E4--><a href=\"psysml:deb35dd4-2c3a-4fce-b73d-f2bc7012e274\" target=\"_top\" title=\"psysml:deb35dd4-2c3a-4fce-b73d-f2bc7012e274\" xlink:actuate=\"onRequest\" xlink:href=\"psysml:deb35dd4-2c3a-4fce-b73d-f2bc7012e274\" xlink:show=\"new\" xlink:title=\"psysml:deb35dd4-2c3a-4fce-b73d-f2bc7012e274\" xlink:type=\"simple\"><rect fill=\"#FFFFFF\" height=\"239.5\" id=\"E4\" style=\"stroke: #383838; stroke-width: 1.5;\" width=\"142\" x=\"40\" y=\"49\"/><rect fill=\"#F8F8F8\" height=\"37.9375\" style=\"stroke: #383838; stroke-width: 1.5;\" width=\"142\" x=\"40\" y=\"49\"/><text fill=\"#000000\" font-family=\"sans-serif\" font-size=\"12\" font-style=\"italic\" lengthAdjust=\"spacingAndGlyphs\" textLength=\"64\" x=\"79\" y=\"65.1387\">«part def»</text><text fill=\"#000000\" font-family=\"sans-serif\" font-size=\"12\" lengthAdjust=\"spacingAndGlyphs\" textLength=\"8\" x=\"107\" y=\"79.1074\">P</text></a><!--MD5=[14e3b0961a2654348d326746436168a1]\n",
       "cluster E6--><a href=\"psysml:48ad0273-6ae0-4e72-b6eb-52596fa39c0f\" target=\"_top\" title=\"psysml:48ad0273-6ae0-4e72-b6eb-52596fa39c0f\" xlink:actuate=\"onRequest\" xlink:href=\"psysml:48ad0273-6ae0-4e72-b6eb-52596fa39c0f\" xlink:show=\"new\" xlink:title=\"psysml:48ad0273-6ae0-4e72-b6eb-52596fa39c0f\" xlink:type=\"simple\"><rect fill=\"#FFFFFF\" height=\"94\" id=\"E6\" rx=\"10\" ry=\"10\" style=\"stroke: #383838; stroke-width: 1.5;\" width=\"94\" x=\"64\" y=\"170.5\"/><rect fill=\"#F8F8F8\" height=\"23.9688\" rx=\"10\" ry=\"10\" style=\"stroke: #F8F8F8; stroke-width: 1.5;\" width=\"94\" x=\"64\" y=\"170.5\"/><rect fill=\"#F8F8F8\" height=\"10\" style=\"stroke: #F8F8F8; stroke-width: 1.5;\" width=\"94\" x=\"64\" y=\"184.4688\"/><rect fill=\"none\" height=\"94\" id=\"E6\" rx=\"10\" ry=\"10\" style=\"stroke: #383838; stroke-width: 1.5;\" width=\"94\" x=\"64\" y=\"170.5\"/><text fill=\"#000000\" font-family=\"sans-serif\" font-size=\"12\" lengthAdjust=\"spacingAndGlyphs\" textLength=\"16\" x=\"103\" y=\"186.6387\">p1</text><line style=\"stroke: #383838; stroke-width: 1.0;\" x1=\"64\" x2=\"158\" y1=\"194.4688\" y2=\"194.4688\"/></a><g id=\"E1.E2.E3\"><a href=\"psysml:03220e95-b237-4532-8361-eb1844ca39e9\" target=\"_top\" title=\"psysml:03220e95-b237-4532-8361-eb1844ca39e9\" xlink:actuate=\"onRequest\" xlink:href=\"psysml:03220e95-b237-4532-8361-eb1844ca39e9\" xlink:show=\"new\" xlink:title=\"psysml:03220e95-b237-4532-8361-eb1844ca39e9\" xlink:type=\"simple\"><rect fill=\"#FFFFFF\" height=\"40\" id=\"E3\" rx=\"10\" ry=\"10\" style=\"stroke: #383838; stroke-width: 1.5;\" width=\"50\" x=\"257\" y=\"207\"/><rect fill=\"#F8F8F8\" height=\"23.9688\" rx=\"10\" ry=\"10\" style=\"stroke: #F8F8F8; stroke-width: 1.5;\" width=\"50\" x=\"257\" y=\"207\"/><rect fill=\"#F8F8F8\" height=\"10\" style=\"stroke: #F8F8F8; stroke-width: 1.5;\" width=\"50\" x=\"257\" y=\"220.9688\"/><rect fill=\"none\" height=\"40\" id=\"E3\" rx=\"10\" ry=\"10\" style=\"stroke: #383838; stroke-width: 1.5;\" width=\"50\" x=\"257\" y=\"207\"/><text fill=\"#000000\" font-family=\"sans-serif\" font-size=\"12\" lengthAdjust=\"spacingAndGlyphs\" textLength=\"6\" x=\"279\" y=\"223.1387\">x</text></a></g><g id=\"E1.E4.E5\"><a href=\"psysml:021693d6-d6d0-45d3-85e9-0e056c3c99ea\" target=\"_top\" title=\"psysml:021693d6-d6d0-45d3-85e9-0e056c3c99ea\" xlink:actuate=\"onRequest\" xlink:href=\"psysml:021693d6-d6d0-45d3-85e9-0e056c3c99ea\" xlink:show=\"new\" xlink:title=\"psysml:021693d6-d6d0-45d3-85e9-0e056c3c99ea\" xlink:type=\"simple\"><rect fill=\"#FFFFFF\" height=\"40\" id=\"E5\" rx=\"10\" ry=\"10\" style=\"stroke: #383838; stroke-width: 1.5;\" width=\"50\" x=\"101\" y=\"100\"/><rect fill=\"#F8F8F8\" height=\"23.9688\" rx=\"10\" ry=\"10\" style=\"stroke: #F8F8F8; stroke-width: 1.5;\" width=\"50\" x=\"101\" y=\"100\"/><rect fill=\"#F8F8F8\" height=\"10\" style=\"stroke: #F8F8F8; stroke-width: 1.5;\" width=\"50\" x=\"101\" y=\"113.9688\"/><rect fill=\"none\" height=\"40\" id=\"E5\" rx=\"10\" ry=\"10\" style=\"stroke: #383838; stroke-width: 1.5;\" width=\"50\" x=\"101\" y=\"100\"/><text fill=\"#000000\" font-family=\"sans-serif\" font-size=\"12\" lengthAdjust=\"spacingAndGlyphs\" textLength=\"6\" x=\"123\" y=\"116.1387\">y</text></a></g><g id=\"E1.E4.E6.E7\"><a href=\"psysml:3d476d3d-b46e-46da-94ef-54f71581d8bd\" target=\"_top\" title=\"psysml:3d476d3d-b46e-46da-94ef-54f71581d8bd\" xlink:actuate=\"onRequest\" xlink:href=\"psysml:3d476d3d-b46e-46da-94ef-54f71581d8bd\" xlink:show=\"new\" xlink:title=\"psysml:3d476d3d-b46e-46da-94ef-54f71581d8bd\" xlink:type=\"simple\"><rect fill=\"#FFFFFF\" height=\"42.9375\" id=\"E7\" rx=\"10\" ry=\"10\" style=\"stroke: #383838; stroke-width: 1.5;\" width=\"61\" x=\"80.5\" y=\"205.5\"/><rect fill=\"#F8F8F8\" height=\"37.9375\" rx=\"10\" ry=\"10\" style=\"stroke: #F8F8F8; stroke-width: 1.5;\" width=\"61\" x=\"80.5\" y=\"205.5\"/><rect fill=\"#F8F8F8\" height=\"10\" style=\"stroke: #F8F8F8; stroke-width: 1.5;\" width=\"61\" x=\"80.5\" y=\"233.4375\"/><rect fill=\"none\" height=\"42.9375\" id=\"E7\" rx=\"10\" ry=\"10\" style=\"stroke: #383838; stroke-width: 1.5;\" width=\"61\" x=\"80.5\" y=\"205.5\"/><text fill=\"#000000\" font-family=\"sans-serif\" font-size=\"12\" lengthAdjust=\"spacingAndGlyphs\" textLength=\"6\" x=\"108\" y=\"221.6387\">x</text><text fill=\"#000000\" font-family=\"sans-serif\" font-size=\"12\" font-style=\"italic\" lengthAdjust=\"spacingAndGlyphs\" textLength=\"46\" x=\"86\" y=\"235.6074\">:&gt;&gt;p::x</text><text fill=\"#000000\" font-family=\"sans-serif\" font-size=\"12\" lengthAdjust=\"spacingAndGlyphs\" textLength=\"0\" x=\"136\" y=\"235.6074\"/></a></g><!--MD5=[15ebcb19ae302d9b601edb458606d402]\n",
       "link E5 to E2--><a href=\"psysml:a2e30144-7cbb-4348-81c9-870149c1f1e3\" target=\"_top\" title=\"psysml:a2e30144-7cbb-4348-81c9-870149c1f1e3\" xlink:actuate=\"onRequest\" xlink:href=\"psysml:a2e30144-7cbb-4348-81c9-870149c1f1e3\" xlink:show=\"new\" xlink:title=\"psysml:a2e30144-7cbb-4348-81c9-870149c1f1e3\" xlink:type=\"simple\"><path d=\"M149.86,140.29 C152.67,142.81 155.45,145.41 158,148 C173.255,163.465 188.7475,182.2475 200.6688,197.5063 C203.6491,201.3209 206.4062,204.9154 208.8806,208.1827 C210.1178,209.8164 211.2843,211.3683 212.3727,212.825 C212.9169,213.5534 213.4416,214.2579 213.9458,214.9371 \" fill=\"none\" id=\"E5-E2\" style=\"stroke: #383838; stroke-width: 3.0;\"/></a><!--MD5=[3a9b96bfbf6b6ad89c494e81751bda47]\n",
       "link E5 to E7--><a href=\"psysml:81751fd3-19d9-42b1-be5d-d1a292525231\" target=\"_top\" title=\"psysml:81751fd3-19d9-42b1-be5d-d1a292525231\" xlink:actuate=\"onRequest\" xlink:href=\"psysml:81751fd3-19d9-42b1-be5d-d1a292525231\" xlink:show=\"new\" xlink:title=\"psysml:81751fd3-19d9-42b1-be5d-d1a292525231\" xlink:type=\"simple\"><path d=\"M123.25,140.26 C120.61,158.73 116.64,186.53 113.94,205.43 \" fill=\"none\" id=\"E5-E7\" style=\"stroke: #383838; stroke-width: 3.0;\"/></a><!--MD5=[3291e221138fdf8d711d488b5d32b311]\n",
       "@startuml\r\n",
       "skinparam ranksep 8\r\n",
       "skinparam rectangle {\r\n",
       " backgroundColor<<block>> LightGreen\r\n",
       "}\r\n",
       " skinparam monochrome true\r\n",
       "skinparam classbackgroundcolor white\r\n",
       "skinparam shadowing false\r\n",
       "skinparam wrapWidth 300\r\n",
       "hide circle\r\n",
       "\r\n",
       "package \"ConnectionTest\" as E1  [[psysml:1fa0c0c0-6c41-491a-9601-36d7e4e40543 ]]  {\r\n",
       "rec usage \"p\" as E2  [[psysml:5f85cf43-367b-49d0-8c6e-b9320e7aab66 ]] {\r\n",
       "rec usage \"x\" as E3  [[psysml:03220e95-b237-4532-8361-eb1844ca39e9 ]] {\r\n",
       "}\r\n",
       "}\r\n",
       "rec def \"P\" as E4  <<(T,blue)part def>> [[psysml:deb35dd4-2c3a-4fce-b73d-f2bc7012e274 ]] {\r\n",
       "rec usage \"y\" as E5  [[psysml:021693d6-d6d0-45d3-85e9-0e056c3c99ea ]] {\r\n",
       "}\r\n",
       "rec usage \"p1\" as E6  [[psysml:48ad0273-6ae0-4e72-b6eb-52596fa39c0f ]] {\r\n",
       "rec usage \"x\\n//:>>p::x// \" as E7  [[psysml:3d476d3d-b46e-46da-94ef-54f71581d8bd ]] {\r\n",
       "}\r\n",
       "}\r\n",
       "}\r\n",
       "E5 -[thickness=3]- E2 [[psysml:a2e30144-7cbb-4348-81c9-870149c1f1e3 ]] \r\n",
       "E5 -[thickness=3]- E7 [[psysml:81751fd3-19d9-42b1-be5d-d1a292525231 ]] \r\n",
       "}\r\n",
       "@enduml\r\n",
       "\n",
       "PlantUML version 1.2020.13(Sat Jun 13 12:26:38 UTC 2020)\n",
       "(EPL source distribution)\n",
       "Java Runtime: OpenJDK Runtime Environment\n",
       "JVM: OpenJDK 64-Bit Server VM\n",
       "Default Encoding: UTF-8\n",
       "Language: en\n",
       "Country: null\n",
       "--></g></svg>"
      ]
     },
     "execution_count": 5,
     "metadata": {},
     "output_type": "execute_result"
    }
   ],
   "source": [
    "%viz --style=\"COMPTREE\" --view=\"Interconnection\" \"ConnectionTest\""
   ]
  },
  {
   "cell_type": "code",
   "execution_count": 6,
   "id": "essential-movement",
   "metadata": {
    "execution": {
     "iopub.execute_input": "2021-03-25T13:50:01.899682Z",
     "iopub.status.busy": "2021-03-25T13:50:01.898607Z",
     "iopub.status.idle": "2021-03-25T13:50:01.912380Z",
     "shell.execute_reply": "2021-03-25T13:50:01.912799Z"
    }
   },
   "outputs": [
    {
     "data": {
      "image/svg+xml": [
       "<?xml version=\"1.0\" encoding=\"UTF-8\" standalone=\"no\"?><svg xmlns=\"http://www.w3.org/2000/svg\" xmlns:xlink=\"http://www.w3.org/1999/xlink\" contentScriptType=\"application/ecmascript\" contentStyleType=\"text/css\" height=\"12px\" preserveAspectRatio=\"none\" style=\"width:12px;height:12px;\" version=\"1.1\" viewBox=\"0 0 12 12\" width=\"12px\" zoomAndPan=\"magnify\"><defs/><g><!--MD5=[655b888544ca4751ea36af1068543f84]\n",
       "@startuml\r\n",
       "skinparam ranksep 8\r\n",
       " skinparam monochrome true\r\n",
       "skinparam classbackgroundcolor white\r\n",
       "skinparam shadowing false\r\n",
       "skinparam wrapWidth 300\r\n",
       "hide circle\r\n",
       "\r\n",
       "@enduml\r\n",
       "\n",
       "PlantUML version 1.2020.13(Sat Jun 13 12:26:38 UTC 2020)\n",
       "(EPL source distribution)\n",
       "Java Runtime: OpenJDK Runtime Environment\n",
       "JVM: OpenJDK 64-Bit Server VM\n",
       "Default Encoding: UTF-8\n",
       "Language: en\n",
       "Country: null\n",
       "--></g></svg>"
      ]
     },
     "execution_count": 6,
     "metadata": {},
     "output_type": "execute_result"
    }
   ],
   "source": [
    "%viz --style=\"COMPTREE\" --view=\"Action\" \"ConnectionTest\""
   ]
  },
  {
   "cell_type": "code",
   "execution_count": 7,
   "id": "distinct-active",
   "metadata": {
    "execution": {
     "iopub.execute_input": "2021-03-25T13:50:01.963694Z",
     "iopub.status.busy": "2021-03-25T13:50:01.963321Z",
     "iopub.status.idle": "2021-03-25T13:50:02.056866Z",
     "shell.execute_reply": "2021-03-25T13:50:02.054720Z"
    }
   },
   "outputs": [
    {
     "data": {
      "image/svg+xml": [
       "<?xml version=\"1.0\" encoding=\"UTF-8\" standalone=\"no\"?><svg xmlns=\"http://www.w3.org/2000/svg\" xmlns:xlink=\"http://www.w3.org/1999/xlink\" contentScriptType=\"application/ecmascript\" contentStyleType=\"text/css\" height=\"433px\" preserveAspectRatio=\"none\" style=\"width:189px;height:433px;\" version=\"1.1\" viewBox=\"0 0 189 433\" width=\"189px\" zoomAndPan=\"magnify\"><defs/><g><!--MD5=[fbc87193dbaf4d95561dea2c320d4a47]\n",
       "cluster E1--><a href=\"psysml:1fa0c0c0-6c41-491a-9601-36d7e4e40543\" target=\"_top\" title=\"psysml:1fa0c0c0-6c41-491a-9601-36d7e4e40543\" xlink:actuate=\"onRequest\" xlink:href=\"psysml:1fa0c0c0-6c41-491a-9601-36d7e4e40543\" xlink:show=\"new\" xlink:title=\"psysml:1fa0c0c0-6c41-491a-9601-36d7e4e40543\" xlink:type=\"simple\"><polygon fill=\"#FFFFFF\" points=\"16,6,147,6,154,28.2969,167,28.2969,167,421,16,421,16,6\" style=\"stroke: #000000; stroke-width: 1.5;\"/><line style=\"stroke: #000000; stroke-width: 1.5;\" x1=\"16\" x2=\"154\" y1=\"28.2969\" y2=\"28.2969\"/><text fill=\"#000000\" font-family=\"sans-serif\" font-size=\"14\" font-weight=\"bold\" lengthAdjust=\"spacingAndGlyphs\" textLength=\"125\" x=\"20\" y=\"20.9951\">ConnectionTest</text></a><!--MD5=[b4997ac47864f28c2f74865a473b2911]\n",
       "class E2--><a href=\"psysml:5f85cf43-367b-49d0-8c6e-b9320e7aab66\" target=\"_top\" title=\"psysml:5f85cf43-367b-49d0-8c6e-b9320e7aab66\" xlink:actuate=\"onRequest\" xlink:href=\"psysml:5f85cf43-367b-49d0-8c6e-b9320e7aab66\" xlink:show=\"new\" xlink:title=\"psysml:5f85cf43-367b-49d0-8c6e-b9320e7aab66\" xlink:type=\"simple\"><rect fill=\"#FFFFFF\" height=\"45.9375\" id=\"E2\" rx=\"10\" ry=\"10\" style=\"stroke: #383838; stroke-width: 1.5;\" width=\"42\" x=\"32\" y=\"253\"/><text fill=\"#000000\" font-family=\"sans-serif\" font-size=\"12\" font-style=\"italic\" lengthAdjust=\"spacingAndGlyphs\" textLength=\"40\" x=\"33\" y=\"269.1387\">«part»</text><text fill=\"#000000\" font-family=\"sans-serif\" font-size=\"12\" lengthAdjust=\"spacingAndGlyphs\" textLength=\"8\" x=\"49\" y=\"283.1074\">p</text><line style=\"stroke: #383838; stroke-width: 1.5;\" x1=\"33\" x2=\"73\" y1=\"290.9375\" y2=\"290.9375\"/></a><!--MD5=[09b614a08d8cba4a07c9adeb5e0fee81]\n",
       "class E3--><a href=\"psysml:03220e95-b237-4532-8361-eb1844ca39e9\" target=\"_top\" title=\"psysml:03220e95-b237-4532-8361-eb1844ca39e9\" xlink:actuate=\"onRequest\" xlink:href=\"psysml:03220e95-b237-4532-8361-eb1844ca39e9\" xlink:show=\"new\" xlink:title=\"psysml:03220e95-b237-4532-8361-eb1844ca39e9\" xlink:type=\"simple\"><rect fill=\"#FFFFFF\" height=\"45.9375\" id=\"E3\" rx=\"10\" ry=\"10\" style=\"stroke: #383838; stroke-width: 1.5;\" width=\"42\" x=\"70\" y=\"359\"/><text fill=\"#000000\" font-family=\"sans-serif\" font-size=\"12\" font-style=\"italic\" lengthAdjust=\"spacingAndGlyphs\" textLength=\"40\" x=\"71\" y=\"375.1387\">«part»</text><text fill=\"#000000\" font-family=\"sans-serif\" font-size=\"12\" lengthAdjust=\"spacingAndGlyphs\" textLength=\"6\" x=\"88\" y=\"389.1074\">x</text><line style=\"stroke: #383838; stroke-width: 1.5;\" x1=\"71\" x2=\"111\" y1=\"396.9375\" y2=\"396.9375\"/></a><!--MD5=[ebbe1d658d1005bcc118a6aa81145e00]\n",
       "class E4--><a href=\"psysml:deb35dd4-2c3a-4fce-b73d-f2bc7012e274\" target=\"_top\" title=\"psysml:deb35dd4-2c3a-4fce-b73d-f2bc7012e274\" xlink:actuate=\"onRequest\" xlink:href=\"psysml:deb35dd4-2c3a-4fce-b73d-f2bc7012e274\" xlink:show=\"new\" xlink:title=\"psysml:deb35dd4-2c3a-4fce-b73d-f2bc7012e274\" xlink:type=\"simple\"><rect fill=\"#FFFFFF\" height=\"45.9375\" id=\"E4\" style=\"stroke: #383838; stroke-width: 1.5;\" width=\"66\" x=\"58\" y=\"41\"/><text fill=\"#000000\" font-family=\"sans-serif\" font-size=\"12\" font-style=\"italic\" lengthAdjust=\"spacingAndGlyphs\" textLength=\"64\" x=\"59\" y=\"57.1387\">«part def»</text><text fill=\"#000000\" font-family=\"sans-serif\" font-size=\"12\" lengthAdjust=\"spacingAndGlyphs\" textLength=\"8\" x=\"87\" y=\"71.1074\">P</text><line style=\"stroke: #383838; stroke-width: 1.5;\" x1=\"59\" x2=\"123\" y1=\"78.9375\" y2=\"78.9375\"/></a><!--MD5=[270fce915f116d4de14055a7c1d9a0f3]\n",
       "class E5--><a href=\"psysml:021693d6-d6d0-45d3-85e9-0e056c3c99ea\" target=\"_top\" title=\"psysml:021693d6-d6d0-45d3-85e9-0e056c3c99ea\" xlink:actuate=\"onRequest\" xlink:href=\"psysml:021693d6-d6d0-45d3-85e9-0e056c3c99ea\" xlink:show=\"new\" xlink:title=\"psysml:021693d6-d6d0-45d3-85e9-0e056c3c99ea\" xlink:type=\"simple\"><rect fill=\"#FFFFFF\" height=\"45.9375\" id=\"E5\" rx=\"10\" ry=\"10\" style=\"stroke: #383838; stroke-width: 1.5;\" width=\"42\" x=\"32\" y=\"147\"/><text fill=\"#000000\" font-family=\"sans-serif\" font-size=\"12\" font-style=\"italic\" lengthAdjust=\"spacingAndGlyphs\" textLength=\"40\" x=\"33\" y=\"163.1387\">«part»</text><text fill=\"#000000\" font-family=\"sans-serif\" font-size=\"12\" lengthAdjust=\"spacingAndGlyphs\" textLength=\"6\" x=\"50\" y=\"177.1074\">y</text><line style=\"stroke: #383838; stroke-width: 1.5;\" x1=\"33\" x2=\"73\" y1=\"184.9375\" y2=\"184.9375\"/></a><!--MD5=[60a26617385b1d2d0262a64233df1f8d]\n",
       "class E6--><a href=\"psysml:48ad0273-6ae0-4e72-b6eb-52596fa39c0f\" target=\"_top\" title=\"psysml:48ad0273-6ae0-4e72-b6eb-52596fa39c0f\" xlink:actuate=\"onRequest\" xlink:href=\"psysml:48ad0273-6ae0-4e72-b6eb-52596fa39c0f\" xlink:show=\"new\" xlink:title=\"psysml:48ad0273-6ae0-4e72-b6eb-52596fa39c0f\" xlink:type=\"simple\"><rect fill=\"#FFFFFF\" height=\"45.9375\" id=\"E6\" rx=\"10\" ry=\"10\" style=\"stroke: #383838; stroke-width: 1.5;\" width=\"42\" x=\"109\" y=\"147\"/><text fill=\"#000000\" font-family=\"sans-serif\" font-size=\"12\" font-style=\"italic\" lengthAdjust=\"spacingAndGlyphs\" textLength=\"40\" x=\"110\" y=\"163.1387\">«part»</text><text fill=\"#000000\" font-family=\"sans-serif\" font-size=\"12\" lengthAdjust=\"spacingAndGlyphs\" textLength=\"16\" x=\"122\" y=\"177.1074\">p1</text><line style=\"stroke: #383838; stroke-width: 1.5;\" x1=\"110\" x2=\"150\" y1=\"184.9375\" y2=\"184.9375\"/></a><!--MD5=[2156ba9850f5573cc1fc38a6a4b2f02b]\n",
       "class E7--><a href=\"psysml:3d476d3d-b46e-46da-94ef-54f71581d8bd\" target=\"_top\" title=\"psysml:3d476d3d-b46e-46da-94ef-54f71581d8bd\" xlink:actuate=\"onRequest\" xlink:href=\"psysml:3d476d3d-b46e-46da-94ef-54f71581d8bd\" xlink:show=\"new\" xlink:title=\"psysml:3d476d3d-b46e-46da-94ef-54f71581d8bd\" xlink:type=\"simple\"><rect fill=\"#FFFFFF\" height=\"45.9375\" id=\"E7\" rx=\"10\" ry=\"10\" style=\"stroke: #383838; stroke-width: 1.5;\" width=\"42\" x=\"109\" y=\"253\"/><text fill=\"#000000\" font-family=\"sans-serif\" font-size=\"12\" font-style=\"italic\" lengthAdjust=\"spacingAndGlyphs\" textLength=\"40\" x=\"110\" y=\"269.1387\">«part»</text><text fill=\"#000000\" font-family=\"sans-serif\" font-size=\"12\" lengthAdjust=\"spacingAndGlyphs\" textLength=\"6\" x=\"127\" y=\"283.1074\">x</text><line style=\"stroke: #383838; stroke-width: 1.5;\" x1=\"110\" x2=\"150\" y1=\"290.9375\" y2=\"290.9375\"/></a><!--MD5=[209b3feb70ccb6233bfe1053d122c12c]\n",
       "reverse link E2 to E3--><a href=\"psysml:03220e95-b237-4532-8361-eb1844ca39e9\" target=\"_top\" title=\"psysml:03220e95-b237-4532-8361-eb1844ca39e9\" xlink:actuate=\"onRequest\" xlink:href=\"psysml:03220e95-b237-4532-8361-eb1844ca39e9\" xlink:show=\"new\" xlink:title=\"psysml:03220e95-b237-4532-8361-eb1844ca39e9\" xlink:type=\"simple\"><path d=\"M65.6,311.49 C71.32,327.15 77.92,345.19 82.95,358.98 \" fill=\"none\" id=\"E2&lt;-E3\" style=\"stroke: #383838; stroke-width: 1.0;\"/><polygon fill=\"#383838\" points=\"61.06,299.06,59.3691,306.07,65.1895,310.3271,66.8804,303.317,61.06,299.06\" style=\"stroke: #383838; stroke-width: 1.0;\"/></a><!--MD5=[62aa6af11e70f752912c1cb0466f24f7]\n",
       "reverse link E4 to E5--><a href=\"psysml:021693d6-d6d0-45d3-85e9-0e056c3c99ea\" target=\"_top\" title=\"psysml:021693d6-d6d0-45d3-85e9-0e056c3c99ea\" xlink:actuate=\"onRequest\" xlink:href=\"psysml:021693d6-d6d0-45d3-85e9-0e056c3c99ea\" xlink:show=\"new\" xlink:title=\"psysml:021693d6-d6d0-45d3-85e9-0e056c3c99ea\" xlink:type=\"simple\"><path d=\"M78.4,99.49 C72.68,115.15 66.08,133.19 61.05,146.98 \" fill=\"none\" id=\"E4&lt;-E5\" style=\"stroke: #383838; stroke-width: 1.0;\"/><polygon fill=\"#383838\" points=\"82.94,87.06,77.1196,91.317,78.8105,98.3271,84.6309,94.07,82.94,87.06\" style=\"stroke: #383838; stroke-width: 1.0;\"/></a><!--MD5=[2351f337d6de0f557b50152ba70847b5]\n",
       "link E6 to E2--><a href=\"psysml:9890fb32-dc37-43db-abbc-6177a2056fad\" target=\"_top\" title=\"psysml:9890fb32-dc37-43db-abbc-6177a2056fad\" xlink:actuate=\"onRequest\" xlink:href=\"psysml:9890fb32-dc37-43db-abbc-6177a2056fad\" xlink:show=\"new\" xlink:title=\"psysml:9890fb32-dc37-43db-abbc-6177a2056fad\" xlink:type=\"simple\"><path d=\"M113.67,193.06 C104.28,205.74 92.22,222.03 81.32,236.74 \" fill=\"none\" id=\"E6-&gt;E2\" style=\"stroke: #383838; stroke-width: 1.0;\"/><polygon fill=\"none\" points=\"86.83,241.07,69.31,252.98,75.58,232.74,86.83,241.07\" style=\"stroke: #383838; stroke-width: 1.0;\"/></a><!--MD5=[6db378b65e1aef66a01cb3103812b399]\n",
       "reverse link E4 to E6--><a href=\"psysml:48ad0273-6ae0-4e72-b6eb-52596fa39c0f\" target=\"_top\" title=\"psysml:48ad0273-6ae0-4e72-b6eb-52596fa39c0f\" xlink:actuate=\"onRequest\" xlink:href=\"psysml:48ad0273-6ae0-4e72-b6eb-52596fa39c0f\" xlink:show=\"new\" xlink:title=\"psysml:48ad0273-6ae0-4e72-b6eb-52596fa39c0f\" xlink:type=\"simple\"><path d=\"M103.94,99.49 C109.8,115.15 116.57,133.19 121.74,146.98 \" fill=\"none\" id=\"E4&lt;-E6\" style=\"stroke: #383838; stroke-width: 1.0;\"/><polygon fill=\"#383838\" points=\"99.27,87.06,97.635,94.0833,103.4893,98.2938,105.1242,91.2705,99.27,87.06\" style=\"stroke: #383838; stroke-width: 1.0;\"/></a><!--MD5=[14ccda38c055a5c0da953d572bc50960]\n",
       "link E7 to E3--><a href=\"psysml:6e6cfa00-bc1f-4d19-92ba-1126ed543e13\" target=\"_top\" title=\"psysml:6e6cfa00-bc1f-4d19-92ba-1126ed543e13\" xlink:actuate=\"onRequest\" xlink:href=\"psysml:6e6cfa00-bc1f-4d19-92ba-1126ed543e13\" xlink:show=\"new\" xlink:title=\"psysml:6e6cfa00-bc1f-4d19-92ba-1126ed543e13\" xlink:type=\"simple\"><path d=\"M121.73,299.06 C117.28,310.91 111.65,325.92 106.43,339.85 \" fill=\"none\" id=\"E7-&gt;E3\" style=\"stroke: #383838; stroke-width: 1.0;\"/><polygon fill=\"#FFFFFF\" points=\"99.26,358.98,99.3821,338.7319,112.4895,343.6509,99.26,358.98\" style=\"stroke: #383838; stroke-width: 1.0;\"/><line style=\"stroke: #383838; stroke-width: 2.0;\" x1=\"100.7173\" x2=\"113.8247\" y1=\"335.1742\" y2=\"340.0932\"/></a><!--MD5=[3f50a3473f1dfb74d3f76443e03635af]\n",
       "reverse link E6 to E7--><a href=\"psysml:3d476d3d-b46e-46da-94ef-54f71581d8bd\" target=\"_top\" title=\"psysml:3d476d3d-b46e-46da-94ef-54f71581d8bd\" xlink:actuate=\"onRequest\" xlink:href=\"psysml:3d476d3d-b46e-46da-94ef-54f71581d8bd\" xlink:show=\"new\" xlink:title=\"psysml:3d476d3d-b46e-46da-94ef-54f71581d8bd\" xlink:type=\"simple\"><path d=\"M130,206.44 C130,221.87 130,239.47 130,252.98 \" fill=\"none\" id=\"E6&lt;-E7\" style=\"stroke: #383838; stroke-width: 1.0;\"/><polygon fill=\"#383838\" points=\"130,193.06,126,199.06,130,205.06,134,199.06,130,193.06\" style=\"stroke: #383838; stroke-width: 1.0;\"/></a><!--MD5=[0ddcfecc48e3cf461aecac7a7b977f80]\n",
       "@startuml\r\n",
       " skinparam monochrome true\r\n",
       "skinparam classbackgroundcolor white\r\n",
       "skinparam shadowing false\r\n",
       "skinparam wrapWidth 300\r\n",
       "hide circle\r\n",
       "\r\n",
       "package \"ConnectionTest\" as E1  [[psysml:1fa0c0c0-6c41-491a-9601-36d7e4e40543 ]]  {\r\n",
       "comp usage \"p\" as E2  <<(T,blue)part>> [[psysml:5f85cf43-367b-49d0-8c6e-b9320e7aab66 ]] {\r\n",
       "}\r\n",
       "comp usage \"x\" as E3  <<(T,blue)part>> [[psysml:03220e95-b237-4532-8361-eb1844ca39e9 ]] {\r\n",
       "}\r\n",
       "comp def \"P\" as E4  <<(T,blue)part def>> [[psysml:deb35dd4-2c3a-4fce-b73d-f2bc7012e274 ]] {\r\n",
       "}\r\n",
       "comp usage \"y\" as E5  <<(T,blue)part>> [[psysml:021693d6-d6d0-45d3-85e9-0e056c3c99ea ]] {\r\n",
       "}\r\n",
       "comp usage \"p1\" as E6  <<(T,blue)part>> [[psysml:48ad0273-6ae0-4e72-b6eb-52596fa39c0f ]] {\r\n",
       "}\r\n",
       "comp usage \"x\" as E7  <<(T,blue)part>> [[psysml:3d476d3d-b46e-46da-94ef-54f71581d8bd ]] {\r\n",
       "}\r\n",
       "E2 *- - E3 [[psysml:03220e95-b237-4532-8361-eb1844ca39e9 ]] \r\n",
       "E4 *- - E5 [[psysml:021693d6-d6d0-45d3-85e9-0e056c3c99ea ]] \r\n",
       "E6 - -|> E2 [[psysml:9890fb32-dc37-43db-abbc-6177a2056fad ]] \r\n",
       "E4 *- - E6 [[psysml:48ad0273-6ae0-4e72-b6eb-52596fa39c0f ]] \r\n",
       "E7 - -||> E3 [[psysml:6e6cfa00-bc1f-4d19-92ba-1126ed543e13 ]] \r\n",
       "E6 *- - E7 [[psysml:3d476d3d-b46e-46da-94ef-54f71581d8bd ]] \r\n",
       "}\r\n",
       "@enduml\r\n",
       "\n",
       "PlantUML version 1.2020.13(Sat Jun 13 12:26:38 UTC 2020)\n",
       "(EPL source distribution)\n",
       "Java Runtime: OpenJDK Runtime Environment\n",
       "JVM: OpenJDK 64-Bit Server VM\n",
       "Default Encoding: UTF-8\n",
       "Language: en\n",
       "Country: null\n",
       "--></g></svg>"
      ]
     },
     "execution_count": 7,
     "metadata": {},
     "output_type": "execute_result"
    }
   ],
   "source": [
    "%viz --style=\"COMPTREE\" --view=\"Sequence\" \"ConnectionTest\""
   ]
  },
  {
   "cell_type": "code",
   "execution_count": 8,
   "id": "alike-elevation",
   "metadata": {
    "execution": {
     "iopub.execute_input": "2021-03-25T13:50:02.107631Z",
     "iopub.status.busy": "2021-03-25T13:50:02.106850Z",
     "iopub.status.idle": "2021-03-25T13:50:02.199390Z",
     "shell.execute_reply": "2021-03-25T13:50:02.199803Z"
    }
   },
   "outputs": [
    {
     "data": {
      "image/svg+xml": [
       "<?xml version=\"1.0\" encoding=\"UTF-8\" standalone=\"no\"?><svg xmlns=\"http://www.w3.org/2000/svg\" xmlns:xlink=\"http://www.w3.org/1999/xlink\" contentScriptType=\"application/ecmascript\" contentStyleType=\"text/css\" height=\"433px\" preserveAspectRatio=\"none\" style=\"width:189px;height:433px;\" version=\"1.1\" viewBox=\"0 0 189 433\" width=\"189px\" zoomAndPan=\"magnify\"><defs/><g><!--MD5=[fbc87193dbaf4d95561dea2c320d4a47]\n",
       "cluster E1--><a href=\"psysml:1fa0c0c0-6c41-491a-9601-36d7e4e40543\" target=\"_top\" title=\"psysml:1fa0c0c0-6c41-491a-9601-36d7e4e40543\" xlink:actuate=\"onRequest\" xlink:href=\"psysml:1fa0c0c0-6c41-491a-9601-36d7e4e40543\" xlink:show=\"new\" xlink:title=\"psysml:1fa0c0c0-6c41-491a-9601-36d7e4e40543\" xlink:type=\"simple\"><polygon fill=\"#FFFFFF\" points=\"16,6,147,6,154,28.2969,167,28.2969,167,421,16,421,16,6\" style=\"stroke: #000000; stroke-width: 1.5;\"/><line style=\"stroke: #000000; stroke-width: 1.5;\" x1=\"16\" x2=\"154\" y1=\"28.2969\" y2=\"28.2969\"/><text fill=\"#000000\" font-family=\"sans-serif\" font-size=\"14\" font-weight=\"bold\" lengthAdjust=\"spacingAndGlyphs\" textLength=\"125\" x=\"20\" y=\"20.9951\">ConnectionTest</text></a><!--MD5=[b4997ac47864f28c2f74865a473b2911]\n",
       "class E2--><a href=\"psysml:5f85cf43-367b-49d0-8c6e-b9320e7aab66\" target=\"_top\" title=\"psysml:5f85cf43-367b-49d0-8c6e-b9320e7aab66\" xlink:actuate=\"onRequest\" xlink:href=\"psysml:5f85cf43-367b-49d0-8c6e-b9320e7aab66\" xlink:show=\"new\" xlink:title=\"psysml:5f85cf43-367b-49d0-8c6e-b9320e7aab66\" xlink:type=\"simple\"><rect fill=\"#FFFFFF\" height=\"45.9375\" id=\"E2\" rx=\"10\" ry=\"10\" style=\"stroke: #383838; stroke-width: 1.5;\" width=\"42\" x=\"32\" y=\"253\"/><text fill=\"#000000\" font-family=\"sans-serif\" font-size=\"12\" font-style=\"italic\" lengthAdjust=\"spacingAndGlyphs\" textLength=\"40\" x=\"33\" y=\"269.1387\">«part»</text><text fill=\"#000000\" font-family=\"sans-serif\" font-size=\"12\" lengthAdjust=\"spacingAndGlyphs\" textLength=\"8\" x=\"49\" y=\"283.1074\">p</text><line style=\"stroke: #383838; stroke-width: 1.5;\" x1=\"33\" x2=\"73\" y1=\"290.9375\" y2=\"290.9375\"/></a><!--MD5=[09b614a08d8cba4a07c9adeb5e0fee81]\n",
       "class E3--><a href=\"psysml:03220e95-b237-4532-8361-eb1844ca39e9\" target=\"_top\" title=\"psysml:03220e95-b237-4532-8361-eb1844ca39e9\" xlink:actuate=\"onRequest\" xlink:href=\"psysml:03220e95-b237-4532-8361-eb1844ca39e9\" xlink:show=\"new\" xlink:title=\"psysml:03220e95-b237-4532-8361-eb1844ca39e9\" xlink:type=\"simple\"><rect fill=\"#FFFFFF\" height=\"45.9375\" id=\"E3\" rx=\"10\" ry=\"10\" style=\"stroke: #383838; stroke-width: 1.5;\" width=\"42\" x=\"70\" y=\"359\"/><text fill=\"#000000\" font-family=\"sans-serif\" font-size=\"12\" font-style=\"italic\" lengthAdjust=\"spacingAndGlyphs\" textLength=\"40\" x=\"71\" y=\"375.1387\">«part»</text><text fill=\"#000000\" font-family=\"sans-serif\" font-size=\"12\" lengthAdjust=\"spacingAndGlyphs\" textLength=\"6\" x=\"88\" y=\"389.1074\">x</text><line style=\"stroke: #383838; stroke-width: 1.5;\" x1=\"71\" x2=\"111\" y1=\"396.9375\" y2=\"396.9375\"/></a><!--MD5=[ebbe1d658d1005bcc118a6aa81145e00]\n",
       "class E4--><a href=\"psysml:deb35dd4-2c3a-4fce-b73d-f2bc7012e274\" target=\"_top\" title=\"psysml:deb35dd4-2c3a-4fce-b73d-f2bc7012e274\" xlink:actuate=\"onRequest\" xlink:href=\"psysml:deb35dd4-2c3a-4fce-b73d-f2bc7012e274\" xlink:show=\"new\" xlink:title=\"psysml:deb35dd4-2c3a-4fce-b73d-f2bc7012e274\" xlink:type=\"simple\"><rect fill=\"#FFFFFF\" height=\"45.9375\" id=\"E4\" style=\"stroke: #383838; stroke-width: 1.5;\" width=\"66\" x=\"58\" y=\"41\"/><text fill=\"#000000\" font-family=\"sans-serif\" font-size=\"12\" font-style=\"italic\" lengthAdjust=\"spacingAndGlyphs\" textLength=\"64\" x=\"59\" y=\"57.1387\">«part def»</text><text fill=\"#000000\" font-family=\"sans-serif\" font-size=\"12\" lengthAdjust=\"spacingAndGlyphs\" textLength=\"8\" x=\"87\" y=\"71.1074\">P</text><line style=\"stroke: #383838; stroke-width: 1.5;\" x1=\"59\" x2=\"123\" y1=\"78.9375\" y2=\"78.9375\"/></a><!--MD5=[270fce915f116d4de14055a7c1d9a0f3]\n",
       "class E5--><a href=\"psysml:021693d6-d6d0-45d3-85e9-0e056c3c99ea\" target=\"_top\" title=\"psysml:021693d6-d6d0-45d3-85e9-0e056c3c99ea\" xlink:actuate=\"onRequest\" xlink:href=\"psysml:021693d6-d6d0-45d3-85e9-0e056c3c99ea\" xlink:show=\"new\" xlink:title=\"psysml:021693d6-d6d0-45d3-85e9-0e056c3c99ea\" xlink:type=\"simple\"><rect fill=\"#FFFFFF\" height=\"45.9375\" id=\"E5\" rx=\"10\" ry=\"10\" style=\"stroke: #383838; stroke-width: 1.5;\" width=\"42\" x=\"32\" y=\"147\"/><text fill=\"#000000\" font-family=\"sans-serif\" font-size=\"12\" font-style=\"italic\" lengthAdjust=\"spacingAndGlyphs\" textLength=\"40\" x=\"33\" y=\"163.1387\">«part»</text><text fill=\"#000000\" font-family=\"sans-serif\" font-size=\"12\" lengthAdjust=\"spacingAndGlyphs\" textLength=\"6\" x=\"50\" y=\"177.1074\">y</text><line style=\"stroke: #383838; stroke-width: 1.5;\" x1=\"33\" x2=\"73\" y1=\"184.9375\" y2=\"184.9375\"/></a><!--MD5=[60a26617385b1d2d0262a64233df1f8d]\n",
       "class E6--><a href=\"psysml:48ad0273-6ae0-4e72-b6eb-52596fa39c0f\" target=\"_top\" title=\"psysml:48ad0273-6ae0-4e72-b6eb-52596fa39c0f\" xlink:actuate=\"onRequest\" xlink:href=\"psysml:48ad0273-6ae0-4e72-b6eb-52596fa39c0f\" xlink:show=\"new\" xlink:title=\"psysml:48ad0273-6ae0-4e72-b6eb-52596fa39c0f\" xlink:type=\"simple\"><rect fill=\"#FFFFFF\" height=\"45.9375\" id=\"E6\" rx=\"10\" ry=\"10\" style=\"stroke: #383838; stroke-width: 1.5;\" width=\"42\" x=\"109\" y=\"147\"/><text fill=\"#000000\" font-family=\"sans-serif\" font-size=\"12\" font-style=\"italic\" lengthAdjust=\"spacingAndGlyphs\" textLength=\"40\" x=\"110\" y=\"163.1387\">«part»</text><text fill=\"#000000\" font-family=\"sans-serif\" font-size=\"12\" lengthAdjust=\"spacingAndGlyphs\" textLength=\"16\" x=\"122\" y=\"177.1074\">p1</text><line style=\"stroke: #383838; stroke-width: 1.5;\" x1=\"110\" x2=\"150\" y1=\"184.9375\" y2=\"184.9375\"/></a><!--MD5=[2156ba9850f5573cc1fc38a6a4b2f02b]\n",
       "class E7--><a href=\"psysml:3d476d3d-b46e-46da-94ef-54f71581d8bd\" target=\"_top\" title=\"psysml:3d476d3d-b46e-46da-94ef-54f71581d8bd\" xlink:actuate=\"onRequest\" xlink:href=\"psysml:3d476d3d-b46e-46da-94ef-54f71581d8bd\" xlink:show=\"new\" xlink:title=\"psysml:3d476d3d-b46e-46da-94ef-54f71581d8bd\" xlink:type=\"simple\"><rect fill=\"#FFFFFF\" height=\"45.9375\" id=\"E7\" rx=\"10\" ry=\"10\" style=\"stroke: #383838; stroke-width: 1.5;\" width=\"42\" x=\"109\" y=\"253\"/><text fill=\"#000000\" font-family=\"sans-serif\" font-size=\"12\" font-style=\"italic\" lengthAdjust=\"spacingAndGlyphs\" textLength=\"40\" x=\"110\" y=\"269.1387\">«part»</text><text fill=\"#000000\" font-family=\"sans-serif\" font-size=\"12\" lengthAdjust=\"spacingAndGlyphs\" textLength=\"6\" x=\"127\" y=\"283.1074\">x</text><line style=\"stroke: #383838; stroke-width: 1.5;\" x1=\"110\" x2=\"150\" y1=\"290.9375\" y2=\"290.9375\"/></a><!--MD5=[209b3feb70ccb6233bfe1053d122c12c]\n",
       "reverse link E2 to E3--><a href=\"psysml:03220e95-b237-4532-8361-eb1844ca39e9\" target=\"_top\" title=\"psysml:03220e95-b237-4532-8361-eb1844ca39e9\" xlink:actuate=\"onRequest\" xlink:href=\"psysml:03220e95-b237-4532-8361-eb1844ca39e9\" xlink:show=\"new\" xlink:title=\"psysml:03220e95-b237-4532-8361-eb1844ca39e9\" xlink:type=\"simple\"><path d=\"M65.6,311.49 C71.32,327.15 77.92,345.19 82.95,358.98 \" fill=\"none\" id=\"E2&lt;-E3\" style=\"stroke: #383838; stroke-width: 1.0;\"/><polygon fill=\"#383838\" points=\"61.06,299.06,59.3691,306.07,65.1895,310.3271,66.8804,303.317,61.06,299.06\" style=\"stroke: #383838; stroke-width: 1.0;\"/></a><!--MD5=[62aa6af11e70f752912c1cb0466f24f7]\n",
       "reverse link E4 to E5--><a href=\"psysml:021693d6-d6d0-45d3-85e9-0e056c3c99ea\" target=\"_top\" title=\"psysml:021693d6-d6d0-45d3-85e9-0e056c3c99ea\" xlink:actuate=\"onRequest\" xlink:href=\"psysml:021693d6-d6d0-45d3-85e9-0e056c3c99ea\" xlink:show=\"new\" xlink:title=\"psysml:021693d6-d6d0-45d3-85e9-0e056c3c99ea\" xlink:type=\"simple\"><path d=\"M78.4,99.49 C72.68,115.15 66.08,133.19 61.05,146.98 \" fill=\"none\" id=\"E4&lt;-E5\" style=\"stroke: #383838; stroke-width: 1.0;\"/><polygon fill=\"#383838\" points=\"82.94,87.06,77.1196,91.317,78.8105,98.3271,84.6309,94.07,82.94,87.06\" style=\"stroke: #383838; stroke-width: 1.0;\"/></a><!--MD5=[2351f337d6de0f557b50152ba70847b5]\n",
       "link E6 to E2--><a href=\"psysml:9890fb32-dc37-43db-abbc-6177a2056fad\" target=\"_top\" title=\"psysml:9890fb32-dc37-43db-abbc-6177a2056fad\" xlink:actuate=\"onRequest\" xlink:href=\"psysml:9890fb32-dc37-43db-abbc-6177a2056fad\" xlink:show=\"new\" xlink:title=\"psysml:9890fb32-dc37-43db-abbc-6177a2056fad\" xlink:type=\"simple\"><path d=\"M113.67,193.06 C104.28,205.74 92.22,222.03 81.32,236.74 \" fill=\"none\" id=\"E6-&gt;E2\" style=\"stroke: #383838; stroke-width: 1.0;\"/><polygon fill=\"none\" points=\"86.83,241.07,69.31,252.98,75.58,232.74,86.83,241.07\" style=\"stroke: #383838; stroke-width: 1.0;\"/></a><!--MD5=[6db378b65e1aef66a01cb3103812b399]\n",
       "reverse link E4 to E6--><a href=\"psysml:48ad0273-6ae0-4e72-b6eb-52596fa39c0f\" target=\"_top\" title=\"psysml:48ad0273-6ae0-4e72-b6eb-52596fa39c0f\" xlink:actuate=\"onRequest\" xlink:href=\"psysml:48ad0273-6ae0-4e72-b6eb-52596fa39c0f\" xlink:show=\"new\" xlink:title=\"psysml:48ad0273-6ae0-4e72-b6eb-52596fa39c0f\" xlink:type=\"simple\"><path d=\"M103.94,99.49 C109.8,115.15 116.57,133.19 121.74,146.98 \" fill=\"none\" id=\"E4&lt;-E6\" style=\"stroke: #383838; stroke-width: 1.0;\"/><polygon fill=\"#383838\" points=\"99.27,87.06,97.635,94.0833,103.4893,98.2938,105.1242,91.2705,99.27,87.06\" style=\"stroke: #383838; stroke-width: 1.0;\"/></a><!--MD5=[14ccda38c055a5c0da953d572bc50960]\n",
       "link E7 to E3--><a href=\"psysml:6e6cfa00-bc1f-4d19-92ba-1126ed543e13\" target=\"_top\" title=\"psysml:6e6cfa00-bc1f-4d19-92ba-1126ed543e13\" xlink:actuate=\"onRequest\" xlink:href=\"psysml:6e6cfa00-bc1f-4d19-92ba-1126ed543e13\" xlink:show=\"new\" xlink:title=\"psysml:6e6cfa00-bc1f-4d19-92ba-1126ed543e13\" xlink:type=\"simple\"><path d=\"M121.73,299.06 C117.28,310.91 111.65,325.92 106.43,339.85 \" fill=\"none\" id=\"E7-&gt;E3\" style=\"stroke: #383838; stroke-width: 1.0;\"/><polygon fill=\"#FFFFFF\" points=\"99.26,358.98,99.3821,338.7319,112.4895,343.6509,99.26,358.98\" style=\"stroke: #383838; stroke-width: 1.0;\"/><line style=\"stroke: #383838; stroke-width: 2.0;\" x1=\"100.7173\" x2=\"113.8247\" y1=\"335.1742\" y2=\"340.0932\"/></a><!--MD5=[3f50a3473f1dfb74d3f76443e03635af]\n",
       "reverse link E6 to E7--><a href=\"psysml:3d476d3d-b46e-46da-94ef-54f71581d8bd\" target=\"_top\" title=\"psysml:3d476d3d-b46e-46da-94ef-54f71581d8bd\" xlink:actuate=\"onRequest\" xlink:href=\"psysml:3d476d3d-b46e-46da-94ef-54f71581d8bd\" xlink:show=\"new\" xlink:title=\"psysml:3d476d3d-b46e-46da-94ef-54f71581d8bd\" xlink:type=\"simple\"><path d=\"M130,206.44 C130,221.87 130,239.47 130,252.98 \" fill=\"none\" id=\"E6&lt;-E7\" style=\"stroke: #383838; stroke-width: 1.0;\"/><polygon fill=\"#383838\" points=\"130,193.06,126,199.06,130,205.06,134,199.06,130,193.06\" style=\"stroke: #383838; stroke-width: 1.0;\"/></a><!--MD5=[0ddcfecc48e3cf461aecac7a7b977f80]\n",
       "@startuml\r\n",
       " skinparam monochrome true\r\n",
       "skinparam classbackgroundcolor white\r\n",
       "skinparam shadowing false\r\n",
       "skinparam wrapWidth 300\r\n",
       "hide circle\r\n",
       "\r\n",
       "package \"ConnectionTest\" as E1  [[psysml:1fa0c0c0-6c41-491a-9601-36d7e4e40543 ]]  {\r\n",
       "comp usage \"p\" as E2  <<(T,blue)part>> [[psysml:5f85cf43-367b-49d0-8c6e-b9320e7aab66 ]] {\r\n",
       "}\r\n",
       "comp usage \"x\" as E3  <<(T,blue)part>> [[psysml:03220e95-b237-4532-8361-eb1844ca39e9 ]] {\r\n",
       "}\r\n",
       "comp def \"P\" as E4  <<(T,blue)part def>> [[psysml:deb35dd4-2c3a-4fce-b73d-f2bc7012e274 ]] {\r\n",
       "}\r\n",
       "comp usage \"y\" as E5  <<(T,blue)part>> [[psysml:021693d6-d6d0-45d3-85e9-0e056c3c99ea ]] {\r\n",
       "}\r\n",
       "comp usage \"p1\" as E6  <<(T,blue)part>> [[psysml:48ad0273-6ae0-4e72-b6eb-52596fa39c0f ]] {\r\n",
       "}\r\n",
       "comp usage \"x\" as E7  <<(T,blue)part>> [[psysml:3d476d3d-b46e-46da-94ef-54f71581d8bd ]] {\r\n",
       "}\r\n",
       "E2 *- - E3 [[psysml:03220e95-b237-4532-8361-eb1844ca39e9 ]] \r\n",
       "E4 *- - E5 [[psysml:021693d6-d6d0-45d3-85e9-0e056c3c99ea ]] \r\n",
       "E6 - -|> E2 [[psysml:9890fb32-dc37-43db-abbc-6177a2056fad ]] \r\n",
       "E4 *- - E6 [[psysml:48ad0273-6ae0-4e72-b6eb-52596fa39c0f ]] \r\n",
       "E7 - -||> E3 [[psysml:6e6cfa00-bc1f-4d19-92ba-1126ed543e13 ]] \r\n",
       "E6 *- - E7 [[psysml:3d476d3d-b46e-46da-94ef-54f71581d8bd ]] \r\n",
       "}\r\n",
       "@enduml\r\n",
       "\n",
       "PlantUML version 1.2020.13(Sat Jun 13 12:26:38 UTC 2020)\n",
       "(EPL source distribution)\n",
       "Java Runtime: OpenJDK Runtime Environment\n",
       "JVM: OpenJDK 64-Bit Server VM\n",
       "Default Encoding: UTF-8\n",
       "Language: en\n",
       "Country: null\n",
       "--></g></svg>"
      ]
     },
     "execution_count": 8,
     "metadata": {},
     "output_type": "execute_result"
    }
   ],
   "source": [
    "%viz --style=\"COMPTREE\" --view=\"MIXED\" \"ConnectionTest\""
   ]
  },
  {
   "cell_type": "code",
   "execution_count": 9,
   "id": "returning-avenue",
   "metadata": {
    "execution": {
     "iopub.execute_input": "2021-03-25T13:50:02.251093Z",
     "iopub.status.busy": "2021-03-25T13:50:02.250589Z",
     "iopub.status.idle": "2021-03-25T13:50:02.337865Z",
     "shell.execute_reply": "2021-03-25T13:50:02.335828Z"
    }
   },
   "outputs": [
    {
     "data": {
      "image/svg+xml": [
       "<?xml version=\"1.0\" encoding=\"UTF-8\" standalone=\"no\"?><svg xmlns=\"http://www.w3.org/2000/svg\" xmlns:xlink=\"http://www.w3.org/1999/xlink\" contentScriptType=\"application/ecmascript\" contentStyleType=\"text/css\" height=\"433px\" preserveAspectRatio=\"none\" style=\"width:189px;height:433px;\" version=\"1.1\" viewBox=\"0 0 189 433\" width=\"189px\" zoomAndPan=\"magnify\"><defs/><g><!--MD5=[fbc87193dbaf4d95561dea2c320d4a47]\n",
       "cluster E1--><a href=\"psysml:1fa0c0c0-6c41-491a-9601-36d7e4e40543\" target=\"_top\" title=\"psysml:1fa0c0c0-6c41-491a-9601-36d7e4e40543\" xlink:actuate=\"onRequest\" xlink:href=\"psysml:1fa0c0c0-6c41-491a-9601-36d7e4e40543\" xlink:show=\"new\" xlink:title=\"psysml:1fa0c0c0-6c41-491a-9601-36d7e4e40543\" xlink:type=\"simple\"><polygon fill=\"#FFFFFF\" points=\"16,6,147,6,154,28.2969,167,28.2969,167,421,16,421,16,6\" style=\"stroke: #000000; stroke-width: 1.5;\"/><line style=\"stroke: #000000; stroke-width: 1.5;\" x1=\"16\" x2=\"154\" y1=\"28.2969\" y2=\"28.2969\"/><text fill=\"#000000\" font-family=\"sans-serif\" font-size=\"14\" font-weight=\"bold\" lengthAdjust=\"spacingAndGlyphs\" textLength=\"125\" x=\"20\" y=\"20.9951\">ConnectionTest</text></a><!--MD5=[b4997ac47864f28c2f74865a473b2911]\n",
       "class E2--><a href=\"psysml:5f85cf43-367b-49d0-8c6e-b9320e7aab66\" target=\"_top\" title=\"psysml:5f85cf43-367b-49d0-8c6e-b9320e7aab66\" xlink:actuate=\"onRequest\" xlink:href=\"psysml:5f85cf43-367b-49d0-8c6e-b9320e7aab66\" xlink:show=\"new\" xlink:title=\"psysml:5f85cf43-367b-49d0-8c6e-b9320e7aab66\" xlink:type=\"simple\"><rect fill=\"#FFFFFF\" height=\"45.9375\" id=\"E2\" rx=\"10\" ry=\"10\" style=\"stroke: #383838; stroke-width: 1.5;\" width=\"42\" x=\"32\" y=\"253\"/><text fill=\"#000000\" font-family=\"sans-serif\" font-size=\"12\" font-style=\"italic\" lengthAdjust=\"spacingAndGlyphs\" textLength=\"40\" x=\"33\" y=\"269.1387\">«part»</text><text fill=\"#000000\" font-family=\"sans-serif\" font-size=\"12\" lengthAdjust=\"spacingAndGlyphs\" textLength=\"8\" x=\"49\" y=\"283.1074\">p</text><line style=\"stroke: #383838; stroke-width: 1.5;\" x1=\"33\" x2=\"73\" y1=\"290.9375\" y2=\"290.9375\"/></a><!--MD5=[09b614a08d8cba4a07c9adeb5e0fee81]\n",
       "class E3--><a href=\"psysml:03220e95-b237-4532-8361-eb1844ca39e9\" target=\"_top\" title=\"psysml:03220e95-b237-4532-8361-eb1844ca39e9\" xlink:actuate=\"onRequest\" xlink:href=\"psysml:03220e95-b237-4532-8361-eb1844ca39e9\" xlink:show=\"new\" xlink:title=\"psysml:03220e95-b237-4532-8361-eb1844ca39e9\" xlink:type=\"simple\"><rect fill=\"#FFFFFF\" height=\"45.9375\" id=\"E3\" rx=\"10\" ry=\"10\" style=\"stroke: #383838; stroke-width: 1.5;\" width=\"42\" x=\"70\" y=\"359\"/><text fill=\"#000000\" font-family=\"sans-serif\" font-size=\"12\" font-style=\"italic\" lengthAdjust=\"spacingAndGlyphs\" textLength=\"40\" x=\"71\" y=\"375.1387\">«part»</text><text fill=\"#000000\" font-family=\"sans-serif\" font-size=\"12\" lengthAdjust=\"spacingAndGlyphs\" textLength=\"6\" x=\"88\" y=\"389.1074\">x</text><line style=\"stroke: #383838; stroke-width: 1.5;\" x1=\"71\" x2=\"111\" y1=\"396.9375\" y2=\"396.9375\"/></a><!--MD5=[ebbe1d658d1005bcc118a6aa81145e00]\n",
       "class E4--><a href=\"psysml:deb35dd4-2c3a-4fce-b73d-f2bc7012e274\" target=\"_top\" title=\"psysml:deb35dd4-2c3a-4fce-b73d-f2bc7012e274\" xlink:actuate=\"onRequest\" xlink:href=\"psysml:deb35dd4-2c3a-4fce-b73d-f2bc7012e274\" xlink:show=\"new\" xlink:title=\"psysml:deb35dd4-2c3a-4fce-b73d-f2bc7012e274\" xlink:type=\"simple\"><rect fill=\"#FFFFFF\" height=\"45.9375\" id=\"E4\" style=\"stroke: #383838; stroke-width: 1.5;\" width=\"66\" x=\"58\" y=\"41\"/><text fill=\"#000000\" font-family=\"sans-serif\" font-size=\"12\" font-style=\"italic\" lengthAdjust=\"spacingAndGlyphs\" textLength=\"64\" x=\"59\" y=\"57.1387\">«part def»</text><text fill=\"#000000\" font-family=\"sans-serif\" font-size=\"12\" lengthAdjust=\"spacingAndGlyphs\" textLength=\"8\" x=\"87\" y=\"71.1074\">P</text><line style=\"stroke: #383838; stroke-width: 1.5;\" x1=\"59\" x2=\"123\" y1=\"78.9375\" y2=\"78.9375\"/></a><!--MD5=[270fce915f116d4de14055a7c1d9a0f3]\n",
       "class E5--><a href=\"psysml:021693d6-d6d0-45d3-85e9-0e056c3c99ea\" target=\"_top\" title=\"psysml:021693d6-d6d0-45d3-85e9-0e056c3c99ea\" xlink:actuate=\"onRequest\" xlink:href=\"psysml:021693d6-d6d0-45d3-85e9-0e056c3c99ea\" xlink:show=\"new\" xlink:title=\"psysml:021693d6-d6d0-45d3-85e9-0e056c3c99ea\" xlink:type=\"simple\"><rect fill=\"#FFFFFF\" height=\"45.9375\" id=\"E5\" rx=\"10\" ry=\"10\" style=\"stroke: #383838; stroke-width: 1.5;\" width=\"42\" x=\"32\" y=\"147\"/><text fill=\"#000000\" font-family=\"sans-serif\" font-size=\"12\" font-style=\"italic\" lengthAdjust=\"spacingAndGlyphs\" textLength=\"40\" x=\"33\" y=\"163.1387\">«part»</text><text fill=\"#000000\" font-family=\"sans-serif\" font-size=\"12\" lengthAdjust=\"spacingAndGlyphs\" textLength=\"6\" x=\"50\" y=\"177.1074\">y</text><line style=\"stroke: #383838; stroke-width: 1.5;\" x1=\"33\" x2=\"73\" y1=\"184.9375\" y2=\"184.9375\"/></a><!--MD5=[60a26617385b1d2d0262a64233df1f8d]\n",
       "class E6--><a href=\"psysml:48ad0273-6ae0-4e72-b6eb-52596fa39c0f\" target=\"_top\" title=\"psysml:48ad0273-6ae0-4e72-b6eb-52596fa39c0f\" xlink:actuate=\"onRequest\" xlink:href=\"psysml:48ad0273-6ae0-4e72-b6eb-52596fa39c0f\" xlink:show=\"new\" xlink:title=\"psysml:48ad0273-6ae0-4e72-b6eb-52596fa39c0f\" xlink:type=\"simple\"><rect fill=\"#FFFFFF\" height=\"45.9375\" id=\"E6\" rx=\"10\" ry=\"10\" style=\"stroke: #383838; stroke-width: 1.5;\" width=\"42\" x=\"109\" y=\"147\"/><text fill=\"#000000\" font-family=\"sans-serif\" font-size=\"12\" font-style=\"italic\" lengthAdjust=\"spacingAndGlyphs\" textLength=\"40\" x=\"110\" y=\"163.1387\">«part»</text><text fill=\"#000000\" font-family=\"sans-serif\" font-size=\"12\" lengthAdjust=\"spacingAndGlyphs\" textLength=\"16\" x=\"122\" y=\"177.1074\">p1</text><line style=\"stroke: #383838; stroke-width: 1.5;\" x1=\"110\" x2=\"150\" y1=\"184.9375\" y2=\"184.9375\"/></a><!--MD5=[2156ba9850f5573cc1fc38a6a4b2f02b]\n",
       "class E7--><a href=\"psysml:3d476d3d-b46e-46da-94ef-54f71581d8bd\" target=\"_top\" title=\"psysml:3d476d3d-b46e-46da-94ef-54f71581d8bd\" xlink:actuate=\"onRequest\" xlink:href=\"psysml:3d476d3d-b46e-46da-94ef-54f71581d8bd\" xlink:show=\"new\" xlink:title=\"psysml:3d476d3d-b46e-46da-94ef-54f71581d8bd\" xlink:type=\"simple\"><rect fill=\"#FFFFFF\" height=\"45.9375\" id=\"E7\" rx=\"10\" ry=\"10\" style=\"stroke: #383838; stroke-width: 1.5;\" width=\"42\" x=\"109\" y=\"253\"/><text fill=\"#000000\" font-family=\"sans-serif\" font-size=\"12\" font-style=\"italic\" lengthAdjust=\"spacingAndGlyphs\" textLength=\"40\" x=\"110\" y=\"269.1387\">«part»</text><text fill=\"#000000\" font-family=\"sans-serif\" font-size=\"12\" lengthAdjust=\"spacingAndGlyphs\" textLength=\"6\" x=\"127\" y=\"283.1074\">x</text><line style=\"stroke: #383838; stroke-width: 1.5;\" x1=\"110\" x2=\"150\" y1=\"290.9375\" y2=\"290.9375\"/></a><!--MD5=[209b3feb70ccb6233bfe1053d122c12c]\n",
       "reverse link E2 to E3--><a href=\"psysml:03220e95-b237-4532-8361-eb1844ca39e9\" target=\"_top\" title=\"psysml:03220e95-b237-4532-8361-eb1844ca39e9\" xlink:actuate=\"onRequest\" xlink:href=\"psysml:03220e95-b237-4532-8361-eb1844ca39e9\" xlink:show=\"new\" xlink:title=\"psysml:03220e95-b237-4532-8361-eb1844ca39e9\" xlink:type=\"simple\"><path d=\"M65.6,311.49 C71.32,327.15 77.92,345.19 82.95,358.98 \" fill=\"none\" id=\"E2&lt;-E3\" style=\"stroke: #383838; stroke-width: 1.0;\"/><polygon fill=\"#383838\" points=\"61.06,299.06,59.3691,306.07,65.1895,310.3271,66.8804,303.317,61.06,299.06\" style=\"stroke: #383838; stroke-width: 1.0;\"/></a><!--MD5=[62aa6af11e70f752912c1cb0466f24f7]\n",
       "reverse link E4 to E5--><a href=\"psysml:021693d6-d6d0-45d3-85e9-0e056c3c99ea\" target=\"_top\" title=\"psysml:021693d6-d6d0-45d3-85e9-0e056c3c99ea\" xlink:actuate=\"onRequest\" xlink:href=\"psysml:021693d6-d6d0-45d3-85e9-0e056c3c99ea\" xlink:show=\"new\" xlink:title=\"psysml:021693d6-d6d0-45d3-85e9-0e056c3c99ea\" xlink:type=\"simple\"><path d=\"M78.4,99.49 C72.68,115.15 66.08,133.19 61.05,146.98 \" fill=\"none\" id=\"E4&lt;-E5\" style=\"stroke: #383838; stroke-width: 1.0;\"/><polygon fill=\"#383838\" points=\"82.94,87.06,77.1196,91.317,78.8105,98.3271,84.6309,94.07,82.94,87.06\" style=\"stroke: #383838; stroke-width: 1.0;\"/></a><!--MD5=[2351f337d6de0f557b50152ba70847b5]\n",
       "link E6 to E2--><a href=\"psysml:9890fb32-dc37-43db-abbc-6177a2056fad\" target=\"_top\" title=\"psysml:9890fb32-dc37-43db-abbc-6177a2056fad\" xlink:actuate=\"onRequest\" xlink:href=\"psysml:9890fb32-dc37-43db-abbc-6177a2056fad\" xlink:show=\"new\" xlink:title=\"psysml:9890fb32-dc37-43db-abbc-6177a2056fad\" xlink:type=\"simple\"><path d=\"M113.67,193.06 C104.28,205.74 92.22,222.03 81.32,236.74 \" fill=\"none\" id=\"E6-&gt;E2\" style=\"stroke: #383838; stroke-width: 1.0;\"/><polygon fill=\"none\" points=\"86.83,241.07,69.31,252.98,75.58,232.74,86.83,241.07\" style=\"stroke: #383838; stroke-width: 1.0;\"/></a><!--MD5=[6db378b65e1aef66a01cb3103812b399]\n",
       "reverse link E4 to E6--><a href=\"psysml:48ad0273-6ae0-4e72-b6eb-52596fa39c0f\" target=\"_top\" title=\"psysml:48ad0273-6ae0-4e72-b6eb-52596fa39c0f\" xlink:actuate=\"onRequest\" xlink:href=\"psysml:48ad0273-6ae0-4e72-b6eb-52596fa39c0f\" xlink:show=\"new\" xlink:title=\"psysml:48ad0273-6ae0-4e72-b6eb-52596fa39c0f\" xlink:type=\"simple\"><path d=\"M103.94,99.49 C109.8,115.15 116.57,133.19 121.74,146.98 \" fill=\"none\" id=\"E4&lt;-E6\" style=\"stroke: #383838; stroke-width: 1.0;\"/><polygon fill=\"#383838\" points=\"99.27,87.06,97.635,94.0833,103.4893,98.2938,105.1242,91.2705,99.27,87.06\" style=\"stroke: #383838; stroke-width: 1.0;\"/></a><!--MD5=[14ccda38c055a5c0da953d572bc50960]\n",
       "link E7 to E3--><a href=\"psysml:6e6cfa00-bc1f-4d19-92ba-1126ed543e13\" target=\"_top\" title=\"psysml:6e6cfa00-bc1f-4d19-92ba-1126ed543e13\" xlink:actuate=\"onRequest\" xlink:href=\"psysml:6e6cfa00-bc1f-4d19-92ba-1126ed543e13\" xlink:show=\"new\" xlink:title=\"psysml:6e6cfa00-bc1f-4d19-92ba-1126ed543e13\" xlink:type=\"simple\"><path d=\"M121.73,299.06 C117.28,310.91 111.65,325.92 106.43,339.85 \" fill=\"none\" id=\"E7-&gt;E3\" style=\"stroke: #383838; stroke-width: 1.0;\"/><polygon fill=\"#FFFFFF\" points=\"99.26,358.98,99.3821,338.7319,112.4895,343.6509,99.26,358.98\" style=\"stroke: #383838; stroke-width: 1.0;\"/><line style=\"stroke: #383838; stroke-width: 2.0;\" x1=\"100.7173\" x2=\"113.8247\" y1=\"335.1742\" y2=\"340.0932\"/></a><!--MD5=[3f50a3473f1dfb74d3f76443e03635af]\n",
       "reverse link E6 to E7--><a href=\"psysml:3d476d3d-b46e-46da-94ef-54f71581d8bd\" target=\"_top\" title=\"psysml:3d476d3d-b46e-46da-94ef-54f71581d8bd\" xlink:actuate=\"onRequest\" xlink:href=\"psysml:3d476d3d-b46e-46da-94ef-54f71581d8bd\" xlink:show=\"new\" xlink:title=\"psysml:3d476d3d-b46e-46da-94ef-54f71581d8bd\" xlink:type=\"simple\"><path d=\"M130,206.44 C130,221.87 130,239.47 130,252.98 \" fill=\"none\" id=\"E6&lt;-E7\" style=\"stroke: #383838; stroke-width: 1.0;\"/><polygon fill=\"#383838\" points=\"130,193.06,126,199.06,130,205.06,134,199.06,130,193.06\" style=\"stroke: #383838; stroke-width: 1.0;\"/></a><!--MD5=[41d6ef5af983658c365d24602fb17c86]\n",
       "@startuml\r\n",
       "skinparam linetype polyline\r\n",
       "skinparam monochrome true\r\n",
       "skinparam classbackgroundcolor white\r\n",
       "skinparam shadowing false\r\n",
       "skinparam wrapWidth 300\r\n",
       "hide circle\r\n",
       "\r\n",
       "package \"ConnectionTest\" as E1  [[psysml:1fa0c0c0-6c41-491a-9601-36d7e4e40543 ]]  {\r\n",
       "comp usage \"p\" as E2  <<(T,blue)part>> [[psysml:5f85cf43-367b-49d0-8c6e-b9320e7aab66 ]] {\r\n",
       "}\r\n",
       "comp usage \"x\" as E3  <<(T,blue)part>> [[psysml:03220e95-b237-4532-8361-eb1844ca39e9 ]] {\r\n",
       "}\r\n",
       "comp def \"P\" as E4  <<(T,blue)part def>> [[psysml:deb35dd4-2c3a-4fce-b73d-f2bc7012e274 ]] {\r\n",
       "}\r\n",
       "comp usage \"y\" as E5  <<(T,blue)part>> [[psysml:021693d6-d6d0-45d3-85e9-0e056c3c99ea ]] {\r\n",
       "}\r\n",
       "comp usage \"p1\" as E6  <<(T,blue)part>> [[psysml:48ad0273-6ae0-4e72-b6eb-52596fa39c0f ]] {\r\n",
       "}\r\n",
       "comp usage \"x\" as E7  <<(T,blue)part>> [[psysml:3d476d3d-b46e-46da-94ef-54f71581d8bd ]] {\r\n",
       "}\r\n",
       "E2 *- - E3 [[psysml:03220e95-b237-4532-8361-eb1844ca39e9 ]] \r\n",
       "E4 *- - E5 [[psysml:021693d6-d6d0-45d3-85e9-0e056c3c99ea ]] \r\n",
       "E6 - -|> E2 [[psysml:9890fb32-dc37-43db-abbc-6177a2056fad ]] \r\n",
       "E4 *- - E6 [[psysml:48ad0273-6ae0-4e72-b6eb-52596fa39c0f ]] \r\n",
       "E7 - -||> E3 [[psysml:6e6cfa00-bc1f-4d19-92ba-1126ed543e13 ]] \r\n",
       "E6 *- - E7 [[psysml:3d476d3d-b46e-46da-94ef-54f71581d8bd ]] \r\n",
       "}\r\n",
       "@enduml\r\n",
       "\n",
       "PlantUML version 1.2020.13(Sat Jun 13 12:26:38 UTC 2020)\n",
       "(EPL source distribution)\n",
       "Java Runtime: OpenJDK Runtime Environment\n",
       "JVM: OpenJDK 64-Bit Server VM\n",
       "Default Encoding: UTF-8\n",
       "Language: en\n",
       "Country: null\n",
       "--></g></svg>"
      ]
     },
     "execution_count": 9,
     "metadata": {},
     "output_type": "execute_result"
    }
   ],
   "source": [
    "%viz --style=\"POLYLINE\" --view=\"Default\" \"ConnectionTest\""
   ]
  },
  {
   "cell_type": "code",
   "execution_count": 10,
   "id": "artistic-glucose",
   "metadata": {
    "execution": {
     "iopub.execute_input": "2021-03-25T13:50:02.387600Z",
     "iopub.status.busy": "2021-03-25T13:50:02.387164Z",
     "iopub.status.idle": "2021-03-25T13:50:02.471534Z",
     "shell.execute_reply": "2021-03-25T13:50:02.471941Z"
    }
   },
   "outputs": [
    {
     "data": {
      "image/svg+xml": [
       "<?xml version=\"1.0\" encoding=\"UTF-8\" standalone=\"no\"?><svg xmlns=\"http://www.w3.org/2000/svg\" xmlns:xlink=\"http://www.w3.org/1999/xlink\" contentScriptType=\"application/ecmascript\" contentStyleType=\"text/css\" height=\"433px\" preserveAspectRatio=\"none\" style=\"width:189px;height:433px;\" version=\"1.1\" viewBox=\"0 0 189 433\" width=\"189px\" zoomAndPan=\"magnify\"><defs/><g><!--MD5=[fbc87193dbaf4d95561dea2c320d4a47]\n",
       "cluster E1--><a href=\"psysml:1fa0c0c0-6c41-491a-9601-36d7e4e40543\" target=\"_top\" title=\"psysml:1fa0c0c0-6c41-491a-9601-36d7e4e40543\" xlink:actuate=\"onRequest\" xlink:href=\"psysml:1fa0c0c0-6c41-491a-9601-36d7e4e40543\" xlink:show=\"new\" xlink:title=\"psysml:1fa0c0c0-6c41-491a-9601-36d7e4e40543\" xlink:type=\"simple\"><polygon fill=\"#FFFFFF\" points=\"16,6,147,6,154,28.2969,167,28.2969,167,421,16,421,16,6\" style=\"stroke: #000000; stroke-width: 1.5;\"/><line style=\"stroke: #000000; stroke-width: 1.5;\" x1=\"16\" x2=\"154\" y1=\"28.2969\" y2=\"28.2969\"/><text fill=\"#000000\" font-family=\"sans-serif\" font-size=\"14\" font-weight=\"bold\" lengthAdjust=\"spacingAndGlyphs\" textLength=\"125\" x=\"20\" y=\"20.9951\">ConnectionTest</text></a><!--MD5=[b4997ac47864f28c2f74865a473b2911]\n",
       "class E2--><a href=\"psysml:5f85cf43-367b-49d0-8c6e-b9320e7aab66\" target=\"_top\" title=\"psysml:5f85cf43-367b-49d0-8c6e-b9320e7aab66\" xlink:actuate=\"onRequest\" xlink:href=\"psysml:5f85cf43-367b-49d0-8c6e-b9320e7aab66\" xlink:show=\"new\" xlink:title=\"psysml:5f85cf43-367b-49d0-8c6e-b9320e7aab66\" xlink:type=\"simple\"><rect fill=\"#FFFFFF\" height=\"45.9375\" id=\"E2\" rx=\"10\" ry=\"10\" style=\"stroke: #383838; stroke-width: 1.5;\" width=\"42\" x=\"32\" y=\"253\"/><text fill=\"#000000\" font-family=\"sans-serif\" font-size=\"12\" font-style=\"italic\" lengthAdjust=\"spacingAndGlyphs\" textLength=\"40\" x=\"33\" y=\"269.1387\">«part»</text><text fill=\"#000000\" font-family=\"sans-serif\" font-size=\"12\" lengthAdjust=\"spacingAndGlyphs\" textLength=\"8\" x=\"49\" y=\"283.1074\">p</text><line style=\"stroke: #383838; stroke-width: 1.5;\" x1=\"33\" x2=\"73\" y1=\"290.9375\" y2=\"290.9375\"/></a><!--MD5=[09b614a08d8cba4a07c9adeb5e0fee81]\n",
       "class E3--><a href=\"psysml:03220e95-b237-4532-8361-eb1844ca39e9\" target=\"_top\" title=\"psysml:03220e95-b237-4532-8361-eb1844ca39e9\" xlink:actuate=\"onRequest\" xlink:href=\"psysml:03220e95-b237-4532-8361-eb1844ca39e9\" xlink:show=\"new\" xlink:title=\"psysml:03220e95-b237-4532-8361-eb1844ca39e9\" xlink:type=\"simple\"><rect fill=\"#FFFFFF\" height=\"45.9375\" id=\"E3\" rx=\"10\" ry=\"10\" style=\"stroke: #383838; stroke-width: 1.5;\" width=\"42\" x=\"70\" y=\"359\"/><text fill=\"#000000\" font-family=\"sans-serif\" font-size=\"12\" font-style=\"italic\" lengthAdjust=\"spacingAndGlyphs\" textLength=\"40\" x=\"71\" y=\"375.1387\">«part»</text><text fill=\"#000000\" font-family=\"sans-serif\" font-size=\"12\" lengthAdjust=\"spacingAndGlyphs\" textLength=\"6\" x=\"88\" y=\"389.1074\">x</text><line style=\"stroke: #383838; stroke-width: 1.5;\" x1=\"71\" x2=\"111\" y1=\"396.9375\" y2=\"396.9375\"/></a><!--MD5=[ebbe1d658d1005bcc118a6aa81145e00]\n",
       "class E4--><a href=\"psysml:deb35dd4-2c3a-4fce-b73d-f2bc7012e274\" target=\"_top\" title=\"psysml:deb35dd4-2c3a-4fce-b73d-f2bc7012e274\" xlink:actuate=\"onRequest\" xlink:href=\"psysml:deb35dd4-2c3a-4fce-b73d-f2bc7012e274\" xlink:show=\"new\" xlink:title=\"psysml:deb35dd4-2c3a-4fce-b73d-f2bc7012e274\" xlink:type=\"simple\"><rect fill=\"#FFFFFF\" height=\"45.9375\" id=\"E4\" style=\"stroke: #383838; stroke-width: 1.5;\" width=\"66\" x=\"58\" y=\"41\"/><text fill=\"#000000\" font-family=\"sans-serif\" font-size=\"12\" font-style=\"italic\" lengthAdjust=\"spacingAndGlyphs\" textLength=\"64\" x=\"59\" y=\"57.1387\">«part def»</text><text fill=\"#000000\" font-family=\"sans-serif\" font-size=\"12\" lengthAdjust=\"spacingAndGlyphs\" textLength=\"8\" x=\"87\" y=\"71.1074\">P</text><line style=\"stroke: #383838; stroke-width: 1.5;\" x1=\"59\" x2=\"123\" y1=\"78.9375\" y2=\"78.9375\"/></a><!--MD5=[270fce915f116d4de14055a7c1d9a0f3]\n",
       "class E5--><a href=\"psysml:021693d6-d6d0-45d3-85e9-0e056c3c99ea\" target=\"_top\" title=\"psysml:021693d6-d6d0-45d3-85e9-0e056c3c99ea\" xlink:actuate=\"onRequest\" xlink:href=\"psysml:021693d6-d6d0-45d3-85e9-0e056c3c99ea\" xlink:show=\"new\" xlink:title=\"psysml:021693d6-d6d0-45d3-85e9-0e056c3c99ea\" xlink:type=\"simple\"><rect fill=\"#FFFFFF\" height=\"45.9375\" id=\"E5\" rx=\"10\" ry=\"10\" style=\"stroke: #383838; stroke-width: 1.5;\" width=\"42\" x=\"32\" y=\"147\"/><text fill=\"#000000\" font-family=\"sans-serif\" font-size=\"12\" font-style=\"italic\" lengthAdjust=\"spacingAndGlyphs\" textLength=\"40\" x=\"33\" y=\"163.1387\">«part»</text><text fill=\"#000000\" font-family=\"sans-serif\" font-size=\"12\" lengthAdjust=\"spacingAndGlyphs\" textLength=\"6\" x=\"50\" y=\"177.1074\">y</text><line style=\"stroke: #383838; stroke-width: 1.5;\" x1=\"33\" x2=\"73\" y1=\"184.9375\" y2=\"184.9375\"/></a><!--MD5=[60a26617385b1d2d0262a64233df1f8d]\n",
       "class E6--><a href=\"psysml:48ad0273-6ae0-4e72-b6eb-52596fa39c0f\" target=\"_top\" title=\"psysml:48ad0273-6ae0-4e72-b6eb-52596fa39c0f\" xlink:actuate=\"onRequest\" xlink:href=\"psysml:48ad0273-6ae0-4e72-b6eb-52596fa39c0f\" xlink:show=\"new\" xlink:title=\"psysml:48ad0273-6ae0-4e72-b6eb-52596fa39c0f\" xlink:type=\"simple\"><rect fill=\"#FFFFFF\" height=\"45.9375\" id=\"E6\" rx=\"10\" ry=\"10\" style=\"stroke: #383838; stroke-width: 1.5;\" width=\"42\" x=\"109\" y=\"147\"/><text fill=\"#000000\" font-family=\"sans-serif\" font-size=\"12\" font-style=\"italic\" lengthAdjust=\"spacingAndGlyphs\" textLength=\"40\" x=\"110\" y=\"163.1387\">«part»</text><text fill=\"#000000\" font-family=\"sans-serif\" font-size=\"12\" lengthAdjust=\"spacingAndGlyphs\" textLength=\"16\" x=\"122\" y=\"177.1074\">p1</text><line style=\"stroke: #383838; stroke-width: 1.5;\" x1=\"110\" x2=\"150\" y1=\"184.9375\" y2=\"184.9375\"/></a><!--MD5=[2156ba9850f5573cc1fc38a6a4b2f02b]\n",
       "class E7--><a href=\"psysml:3d476d3d-b46e-46da-94ef-54f71581d8bd\" target=\"_top\" title=\"psysml:3d476d3d-b46e-46da-94ef-54f71581d8bd\" xlink:actuate=\"onRequest\" xlink:href=\"psysml:3d476d3d-b46e-46da-94ef-54f71581d8bd\" xlink:show=\"new\" xlink:title=\"psysml:3d476d3d-b46e-46da-94ef-54f71581d8bd\" xlink:type=\"simple\"><rect fill=\"#FFFFFF\" height=\"45.9375\" id=\"E7\" rx=\"10\" ry=\"10\" style=\"stroke: #383838; stroke-width: 1.5;\" width=\"42\" x=\"109\" y=\"253\"/><text fill=\"#000000\" font-family=\"sans-serif\" font-size=\"12\" font-style=\"italic\" lengthAdjust=\"spacingAndGlyphs\" textLength=\"40\" x=\"110\" y=\"269.1387\">«part»</text><text fill=\"#000000\" font-family=\"sans-serif\" font-size=\"12\" lengthAdjust=\"spacingAndGlyphs\" textLength=\"6\" x=\"127\" y=\"283.1074\">x</text><line style=\"stroke: #383838; stroke-width: 1.5;\" x1=\"110\" x2=\"150\" y1=\"290.9375\" y2=\"290.9375\"/></a><!--MD5=[209b3feb70ccb6233bfe1053d122c12c]\n",
       "reverse link E2 to E3--><a href=\"psysml:03220e95-b237-4532-8361-eb1844ca39e9\" target=\"_top\" title=\"psysml:03220e95-b237-4532-8361-eb1844ca39e9\" xlink:actuate=\"onRequest\" xlink:href=\"psysml:03220e95-b237-4532-8361-eb1844ca39e9\" xlink:show=\"new\" xlink:title=\"psysml:03220e95-b237-4532-8361-eb1844ca39e9\" xlink:type=\"simple\"><path d=\"M65.6,311.49 C71.32,327.15 77.92,345.19 82.95,358.98 \" fill=\"none\" id=\"E2&lt;-E3\" style=\"stroke: #383838; stroke-width: 1.0;\"/><polygon fill=\"#383838\" points=\"61.06,299.06,59.3691,306.07,65.1895,310.3271,66.8804,303.317,61.06,299.06\" style=\"stroke: #383838; stroke-width: 1.0;\"/></a><!--MD5=[62aa6af11e70f752912c1cb0466f24f7]\n",
       "reverse link E4 to E5--><a href=\"psysml:021693d6-d6d0-45d3-85e9-0e056c3c99ea\" target=\"_top\" title=\"psysml:021693d6-d6d0-45d3-85e9-0e056c3c99ea\" xlink:actuate=\"onRequest\" xlink:href=\"psysml:021693d6-d6d0-45d3-85e9-0e056c3c99ea\" xlink:show=\"new\" xlink:title=\"psysml:021693d6-d6d0-45d3-85e9-0e056c3c99ea\" xlink:type=\"simple\"><path d=\"M78.4,99.49 C72.68,115.15 66.08,133.19 61.05,146.98 \" fill=\"none\" id=\"E4&lt;-E5\" style=\"stroke: #383838; stroke-width: 1.0;\"/><polygon fill=\"#383838\" points=\"82.94,87.06,77.1196,91.317,78.8105,98.3271,84.6309,94.07,82.94,87.06\" style=\"stroke: #383838; stroke-width: 1.0;\"/></a><!--MD5=[2351f337d6de0f557b50152ba70847b5]\n",
       "link E6 to E2--><a href=\"psysml:9890fb32-dc37-43db-abbc-6177a2056fad\" target=\"_top\" title=\"psysml:9890fb32-dc37-43db-abbc-6177a2056fad\" xlink:actuate=\"onRequest\" xlink:href=\"psysml:9890fb32-dc37-43db-abbc-6177a2056fad\" xlink:show=\"new\" xlink:title=\"psysml:9890fb32-dc37-43db-abbc-6177a2056fad\" xlink:type=\"simple\"><path d=\"M113.67,193.06 C104.28,205.74 92.22,222.03 81.32,236.74 \" fill=\"none\" id=\"E6-&gt;E2\" style=\"stroke: #383838; stroke-width: 1.0;\"/><polygon fill=\"none\" points=\"86.83,241.07,69.31,252.98,75.58,232.74,86.83,241.07\" style=\"stroke: #383838; stroke-width: 1.0;\"/></a><!--MD5=[6db378b65e1aef66a01cb3103812b399]\n",
       "reverse link E4 to E6--><a href=\"psysml:48ad0273-6ae0-4e72-b6eb-52596fa39c0f\" target=\"_top\" title=\"psysml:48ad0273-6ae0-4e72-b6eb-52596fa39c0f\" xlink:actuate=\"onRequest\" xlink:href=\"psysml:48ad0273-6ae0-4e72-b6eb-52596fa39c0f\" xlink:show=\"new\" xlink:title=\"psysml:48ad0273-6ae0-4e72-b6eb-52596fa39c0f\" xlink:type=\"simple\"><path d=\"M103.94,99.49 C109.8,115.15 116.57,133.19 121.74,146.98 \" fill=\"none\" id=\"E4&lt;-E6\" style=\"stroke: #383838; stroke-width: 1.0;\"/><polygon fill=\"#383838\" points=\"99.27,87.06,97.635,94.0833,103.4893,98.2938,105.1242,91.2705,99.27,87.06\" style=\"stroke: #383838; stroke-width: 1.0;\"/></a><!--MD5=[14ccda38c055a5c0da953d572bc50960]\n",
       "link E7 to E3--><a href=\"psysml:6e6cfa00-bc1f-4d19-92ba-1126ed543e13\" target=\"_top\" title=\"psysml:6e6cfa00-bc1f-4d19-92ba-1126ed543e13\" xlink:actuate=\"onRequest\" xlink:href=\"psysml:6e6cfa00-bc1f-4d19-92ba-1126ed543e13\" xlink:show=\"new\" xlink:title=\"psysml:6e6cfa00-bc1f-4d19-92ba-1126ed543e13\" xlink:type=\"simple\"><path d=\"M121.73,299.06 C117.28,310.91 111.65,325.92 106.43,339.85 \" fill=\"none\" id=\"E7-&gt;E3\" style=\"stroke: #383838; stroke-width: 1.0;\"/><polygon fill=\"#FFFFFF\" points=\"99.26,358.98,99.3821,338.7319,112.4895,343.6509,99.26,358.98\" style=\"stroke: #383838; stroke-width: 1.0;\"/><line style=\"stroke: #383838; stroke-width: 2.0;\" x1=\"100.7173\" x2=\"113.8247\" y1=\"335.1742\" y2=\"340.0932\"/></a><!--MD5=[3f50a3473f1dfb74d3f76443e03635af]\n",
       "reverse link E6 to E7--><a href=\"psysml:3d476d3d-b46e-46da-94ef-54f71581d8bd\" target=\"_top\" title=\"psysml:3d476d3d-b46e-46da-94ef-54f71581d8bd\" xlink:actuate=\"onRequest\" xlink:href=\"psysml:3d476d3d-b46e-46da-94ef-54f71581d8bd\" xlink:show=\"new\" xlink:title=\"psysml:3d476d3d-b46e-46da-94ef-54f71581d8bd\" xlink:type=\"simple\"><path d=\"M130,206.44 C130,221.87 130,239.47 130,252.98 \" fill=\"none\" id=\"E6&lt;-E7\" style=\"stroke: #383838; stroke-width: 1.0;\"/><polygon fill=\"#383838\" points=\"130,193.06,126,199.06,130,205.06,134,199.06,130,193.06\" style=\"stroke: #383838; stroke-width: 1.0;\"/></a><!--MD5=[41d6ef5af983658c365d24602fb17c86]\n",
       "@startuml\r\n",
       "skinparam linetype polyline\r\n",
       "skinparam monochrome true\r\n",
       "skinparam classbackgroundcolor white\r\n",
       "skinparam shadowing false\r\n",
       "skinparam wrapWidth 300\r\n",
       "hide circle\r\n",
       "\r\n",
       "package \"ConnectionTest\" as E1  [[psysml:1fa0c0c0-6c41-491a-9601-36d7e4e40543 ]]  {\r\n",
       "comp usage \"p\" as E2  <<(T,blue)part>> [[psysml:5f85cf43-367b-49d0-8c6e-b9320e7aab66 ]] {\r\n",
       "}\r\n",
       "comp usage \"x\" as E3  <<(T,blue)part>> [[psysml:03220e95-b237-4532-8361-eb1844ca39e9 ]] {\r\n",
       "}\r\n",
       "comp def \"P\" as E4  <<(T,blue)part def>> [[psysml:deb35dd4-2c3a-4fce-b73d-f2bc7012e274 ]] {\r\n",
       "}\r\n",
       "comp usage \"y\" as E5  <<(T,blue)part>> [[psysml:021693d6-d6d0-45d3-85e9-0e056c3c99ea ]] {\r\n",
       "}\r\n",
       "comp usage \"p1\" as E6  <<(T,blue)part>> [[psysml:48ad0273-6ae0-4e72-b6eb-52596fa39c0f ]] {\r\n",
       "}\r\n",
       "comp usage \"x\" as E7  <<(T,blue)part>> [[psysml:3d476d3d-b46e-46da-94ef-54f71581d8bd ]] {\r\n",
       "}\r\n",
       "E2 *- - E3 [[psysml:03220e95-b237-4532-8361-eb1844ca39e9 ]] \r\n",
       "E4 *- - E5 [[psysml:021693d6-d6d0-45d3-85e9-0e056c3c99ea ]] \r\n",
       "E6 - -|> E2 [[psysml:9890fb32-dc37-43db-abbc-6177a2056fad ]] \r\n",
       "E4 *- - E6 [[psysml:48ad0273-6ae0-4e72-b6eb-52596fa39c0f ]] \r\n",
       "E7 - -||> E3 [[psysml:6e6cfa00-bc1f-4d19-92ba-1126ed543e13 ]] \r\n",
       "E6 *- - E7 [[psysml:3d476d3d-b46e-46da-94ef-54f71581d8bd ]] \r\n",
       "}\r\n",
       "@enduml\r\n",
       "\n",
       "PlantUML version 1.2020.13(Sat Jun 13 12:26:38 UTC 2020)\n",
       "(EPL source distribution)\n",
       "Java Runtime: OpenJDK Runtime Environment\n",
       "JVM: OpenJDK 64-Bit Server VM\n",
       "Default Encoding: UTF-8\n",
       "Language: en\n",
       "Country: null\n",
       "--></g></svg>"
      ]
     },
     "execution_count": 10,
     "metadata": {},
     "output_type": "execute_result"
    }
   ],
   "source": [
    "%viz --style=\"POLYLINE\" --view=\"Tree\" \"ConnectionTest\""
   ]
  },
  {
   "cell_type": "code",
   "execution_count": 11,
   "id": "driven-riverside",
   "metadata": {
    "execution": {
     "iopub.execute_input": "2021-03-25T13:50:02.525121Z",
     "iopub.status.busy": "2021-03-25T13:50:02.524178Z",
     "iopub.status.idle": "2021-03-25T13:50:02.535615Z",
     "shell.execute_reply": "2021-03-25T13:50:02.536041Z"
    }
   },
   "outputs": [
    {
     "data": {
      "image/svg+xml": [
       "<?xml version=\"1.0\" encoding=\"UTF-8\" standalone=\"no\"?><svg xmlns=\"http://www.w3.org/2000/svg\" xmlns:xlink=\"http://www.w3.org/1999/xlink\" contentScriptType=\"application/ecmascript\" contentStyleType=\"text/css\" height=\"12px\" preserveAspectRatio=\"none\" style=\"width:12px;height:12px;\" version=\"1.1\" viewBox=\"0 0 12 12\" width=\"12px\" zoomAndPan=\"magnify\"><defs/><g><!--MD5=[896ac0e7a515d8dd7765a661cb4ee08b]\n",
       "@startuml\r\n",
       "skinparam linetype polyline\r\n",
       "skinparam monochrome true\r\n",
       "skinparam classbackgroundcolor white\r\n",
       "skinparam shadowing false\r\n",
       "skinparam wrapWidth 300\r\n",
       "hide circle\r\n",
       "\r\n",
       "@enduml\r\n",
       "\n",
       "PlantUML version 1.2020.13(Sat Jun 13 12:26:38 UTC 2020)\n",
       "(EPL source distribution)\n",
       "Java Runtime: OpenJDK Runtime Environment\n",
       "JVM: OpenJDK 64-Bit Server VM\n",
       "Default Encoding: UTF-8\n",
       "Language: en\n",
       "Country: null\n",
       "--></g></svg>"
      ]
     },
     "execution_count": 11,
     "metadata": {},
     "output_type": "execute_result"
    }
   ],
   "source": [
    "%viz --style=\"POLYLINE\" --view=\"State\" \"ConnectionTest\""
   ]
  },
  {
   "cell_type": "code",
   "execution_count": 12,
   "id": "proved-sunset",
   "metadata": {
    "execution": {
     "iopub.execute_input": "2021-03-25T13:50:02.587583Z",
     "iopub.status.busy": "2021-03-25T13:50:02.586978Z",
     "iopub.status.idle": "2021-03-25T13:50:02.682216Z",
     "shell.execute_reply": "2021-03-25T13:50:02.682620Z"
    }
   },
   "outputs": [
    {
     "data": {
      "image/svg+xml": [
       "<?xml version=\"1.0\" encoding=\"UTF-8\" standalone=\"no\"?><svg xmlns=\"http://www.w3.org/2000/svg\" xmlns:xlink=\"http://www.w3.org/1999/xlink\" contentScriptType=\"application/ecmascript\" contentStyleType=\"text/css\" height=\"324px\" preserveAspectRatio=\"none\" style=\"width:385px;height:324px;\" version=\"1.1\" viewBox=\"0 0 385 324\" width=\"385px\" zoomAndPan=\"magnify\"><defs/><g><!--MD5=[fbc87193dbaf4d95561dea2c320d4a47]\n",
       "cluster E1--><a href=\"psysml:1fa0c0c0-6c41-491a-9601-36d7e4e40543\" target=\"_top\" title=\"psysml:1fa0c0c0-6c41-491a-9601-36d7e4e40543\" xlink:actuate=\"onRequest\" xlink:href=\"psysml:1fa0c0c0-6c41-491a-9601-36d7e4e40543\" xlink:show=\"new\" xlink:title=\"psysml:1fa0c0c0-6c41-491a-9601-36d7e4e40543\" xlink:type=\"simple\"><polygon fill=\"#FFFFFF\" points=\"16,6,147,6,154,28.2969,363,28.2969,363,312.5,16,312.5,16,6\" style=\"stroke: #000000; stroke-width: 1.5;\"/><line style=\"stroke: #000000; stroke-width: 1.5;\" x1=\"16\" x2=\"154\" y1=\"28.2969\" y2=\"28.2969\"/><text fill=\"#000000\" font-family=\"sans-serif\" font-size=\"14\" font-weight=\"bold\" lengthAdjust=\"spacingAndGlyphs\" textLength=\"125\" x=\"20\" y=\"20.9951\">ConnectionTest</text></a><!--MD5=[e4f7fae6ed58524ba242bb0b0d3be6b7]\n",
       "cluster E2--><a href=\"psysml:5f85cf43-367b-49d0-8c6e-b9320e7aab66\" target=\"_top\" title=\"psysml:5f85cf43-367b-49d0-8c6e-b9320e7aab66\" xlink:actuate=\"onRequest\" xlink:href=\"psysml:5f85cf43-367b-49d0-8c6e-b9320e7aab66\" xlink:show=\"new\" xlink:title=\"psysml:5f85cf43-367b-49d0-8c6e-b9320e7aab66\" xlink:type=\"simple\"><rect fill=\"#FFFFFF\" height=\"107\" id=\"E2\" rx=\"10\" ry=\"10\" style=\"stroke: #383838; stroke-width: 1.5;\" width=\"117\" x=\"214\" y=\"164\"/><rect fill=\"#F8F8F8\" height=\"23.9688\" rx=\"10\" ry=\"10\" style=\"stroke: #F8F8F8; stroke-width: 1.5;\" width=\"117\" x=\"214\" y=\"164\"/><rect fill=\"#F8F8F8\" height=\"10\" style=\"stroke: #F8F8F8; stroke-width: 1.5;\" width=\"117\" x=\"214\" y=\"177.9688\"/><rect fill=\"none\" height=\"107\" id=\"E2\" rx=\"10\" ry=\"10\" style=\"stroke: #383838; stroke-width: 1.5;\" width=\"117\" x=\"214\" y=\"164\"/><text fill=\"#000000\" font-family=\"sans-serif\" font-size=\"12\" lengthAdjust=\"spacingAndGlyphs\" textLength=\"8\" x=\"268.5\" y=\"180.1387\">p</text><line style=\"stroke: #383838; stroke-width: 1.0;\" x1=\"214\" x2=\"331\" y1=\"187.9688\" y2=\"187.9688\"/></a><!--MD5=[f6df4d0ebaf0b5dfb2ced0ae5af7c670]\n",
       "cluster E4--><a href=\"psysml:deb35dd4-2c3a-4fce-b73d-f2bc7012e274\" target=\"_top\" title=\"psysml:deb35dd4-2c3a-4fce-b73d-f2bc7012e274\" xlink:actuate=\"onRequest\" xlink:href=\"psysml:deb35dd4-2c3a-4fce-b73d-f2bc7012e274\" xlink:show=\"new\" xlink:title=\"psysml:deb35dd4-2c3a-4fce-b73d-f2bc7012e274\" xlink:type=\"simple\"><rect fill=\"#FFFFFF\" height=\"239.5\" id=\"E4\" style=\"stroke: #383838; stroke-width: 1.5;\" width=\"142\" x=\"40\" y=\"49\"/><rect fill=\"#F8F8F8\" height=\"37.9375\" style=\"stroke: #383838; stroke-width: 1.5;\" width=\"142\" x=\"40\" y=\"49\"/><text fill=\"#000000\" font-family=\"sans-serif\" font-size=\"12\" font-style=\"italic\" lengthAdjust=\"spacingAndGlyphs\" textLength=\"64\" x=\"79\" y=\"65.1387\">«part def»</text><text fill=\"#000000\" font-family=\"sans-serif\" font-size=\"12\" lengthAdjust=\"spacingAndGlyphs\" textLength=\"8\" x=\"107\" y=\"79.1074\">P</text></a><!--MD5=[14e3b0961a2654348d326746436168a1]\n",
       "cluster E6--><a href=\"psysml:48ad0273-6ae0-4e72-b6eb-52596fa39c0f\" target=\"_top\" title=\"psysml:48ad0273-6ae0-4e72-b6eb-52596fa39c0f\" xlink:actuate=\"onRequest\" xlink:href=\"psysml:48ad0273-6ae0-4e72-b6eb-52596fa39c0f\" xlink:show=\"new\" xlink:title=\"psysml:48ad0273-6ae0-4e72-b6eb-52596fa39c0f\" xlink:type=\"simple\"><rect fill=\"#FFFFFF\" height=\"94\" id=\"E6\" rx=\"10\" ry=\"10\" style=\"stroke: #383838; stroke-width: 1.5;\" width=\"94\" x=\"64\" y=\"170.5\"/><rect fill=\"#F8F8F8\" height=\"23.9688\" rx=\"10\" ry=\"10\" style=\"stroke: #F8F8F8; stroke-width: 1.5;\" width=\"94\" x=\"64\" y=\"170.5\"/><rect fill=\"#F8F8F8\" height=\"10\" style=\"stroke: #F8F8F8; stroke-width: 1.5;\" width=\"94\" x=\"64\" y=\"184.4688\"/><rect fill=\"none\" height=\"94\" id=\"E6\" rx=\"10\" ry=\"10\" style=\"stroke: #383838; stroke-width: 1.5;\" width=\"94\" x=\"64\" y=\"170.5\"/><text fill=\"#000000\" font-family=\"sans-serif\" font-size=\"12\" lengthAdjust=\"spacingAndGlyphs\" textLength=\"16\" x=\"103\" y=\"186.6387\">p1</text><line style=\"stroke: #383838; stroke-width: 1.0;\" x1=\"64\" x2=\"158\" y1=\"194.4688\" y2=\"194.4688\"/></a><g id=\"E1.E2.E3\"><a href=\"psysml:03220e95-b237-4532-8361-eb1844ca39e9\" target=\"_top\" title=\"psysml:03220e95-b237-4532-8361-eb1844ca39e9\" xlink:actuate=\"onRequest\" xlink:href=\"psysml:03220e95-b237-4532-8361-eb1844ca39e9\" xlink:show=\"new\" xlink:title=\"psysml:03220e95-b237-4532-8361-eb1844ca39e9\" xlink:type=\"simple\"><rect fill=\"#FFFFFF\" height=\"40\" id=\"E3\" rx=\"10\" ry=\"10\" style=\"stroke: #383838; stroke-width: 1.5;\" width=\"50\" x=\"257\" y=\"207\"/><rect fill=\"#F8F8F8\" height=\"23.9688\" rx=\"10\" ry=\"10\" style=\"stroke: #F8F8F8; stroke-width: 1.5;\" width=\"50\" x=\"257\" y=\"207\"/><rect fill=\"#F8F8F8\" height=\"10\" style=\"stroke: #F8F8F8; stroke-width: 1.5;\" width=\"50\" x=\"257\" y=\"220.9688\"/><rect fill=\"none\" height=\"40\" id=\"E3\" rx=\"10\" ry=\"10\" style=\"stroke: #383838; stroke-width: 1.5;\" width=\"50\" x=\"257\" y=\"207\"/><text fill=\"#000000\" font-family=\"sans-serif\" font-size=\"12\" lengthAdjust=\"spacingAndGlyphs\" textLength=\"6\" x=\"279\" y=\"223.1387\">x</text></a></g><g id=\"E1.E4.E5\"><a href=\"psysml:021693d6-d6d0-45d3-85e9-0e056c3c99ea\" target=\"_top\" title=\"psysml:021693d6-d6d0-45d3-85e9-0e056c3c99ea\" xlink:actuate=\"onRequest\" xlink:href=\"psysml:021693d6-d6d0-45d3-85e9-0e056c3c99ea\" xlink:show=\"new\" xlink:title=\"psysml:021693d6-d6d0-45d3-85e9-0e056c3c99ea\" xlink:type=\"simple\"><rect fill=\"#FFFFFF\" height=\"40\" id=\"E5\" rx=\"10\" ry=\"10\" style=\"stroke: #383838; stroke-width: 1.5;\" width=\"50\" x=\"101\" y=\"100\"/><rect fill=\"#F8F8F8\" height=\"23.9688\" rx=\"10\" ry=\"10\" style=\"stroke: #F8F8F8; stroke-width: 1.5;\" width=\"50\" x=\"101\" y=\"100\"/><rect fill=\"#F8F8F8\" height=\"10\" style=\"stroke: #F8F8F8; stroke-width: 1.5;\" width=\"50\" x=\"101\" y=\"113.9688\"/><rect fill=\"none\" height=\"40\" id=\"E5\" rx=\"10\" ry=\"10\" style=\"stroke: #383838; stroke-width: 1.5;\" width=\"50\" x=\"101\" y=\"100\"/><text fill=\"#000000\" font-family=\"sans-serif\" font-size=\"12\" lengthAdjust=\"spacingAndGlyphs\" textLength=\"6\" x=\"123\" y=\"116.1387\">y</text></a></g><g id=\"E1.E4.E6.E7\"><a href=\"psysml:3d476d3d-b46e-46da-94ef-54f71581d8bd\" target=\"_top\" title=\"psysml:3d476d3d-b46e-46da-94ef-54f71581d8bd\" xlink:actuate=\"onRequest\" xlink:href=\"psysml:3d476d3d-b46e-46da-94ef-54f71581d8bd\" xlink:show=\"new\" xlink:title=\"psysml:3d476d3d-b46e-46da-94ef-54f71581d8bd\" xlink:type=\"simple\"><rect fill=\"#FFFFFF\" height=\"42.9375\" id=\"E7\" rx=\"10\" ry=\"10\" style=\"stroke: #383838; stroke-width: 1.5;\" width=\"61\" x=\"80.5\" y=\"205.5\"/><rect fill=\"#F8F8F8\" height=\"37.9375\" rx=\"10\" ry=\"10\" style=\"stroke: #F8F8F8; stroke-width: 1.5;\" width=\"61\" x=\"80.5\" y=\"205.5\"/><rect fill=\"#F8F8F8\" height=\"10\" style=\"stroke: #F8F8F8; stroke-width: 1.5;\" width=\"61\" x=\"80.5\" y=\"233.4375\"/><rect fill=\"none\" height=\"42.9375\" id=\"E7\" rx=\"10\" ry=\"10\" style=\"stroke: #383838; stroke-width: 1.5;\" width=\"61\" x=\"80.5\" y=\"205.5\"/><text fill=\"#000000\" font-family=\"sans-serif\" font-size=\"12\" lengthAdjust=\"spacingAndGlyphs\" textLength=\"6\" x=\"108\" y=\"221.6387\">x</text><text fill=\"#000000\" font-family=\"sans-serif\" font-size=\"12\" font-style=\"italic\" lengthAdjust=\"spacingAndGlyphs\" textLength=\"46\" x=\"86\" y=\"235.6074\">:&gt;&gt;p::x</text><text fill=\"#000000\" font-family=\"sans-serif\" font-size=\"12\" lengthAdjust=\"spacingAndGlyphs\" textLength=\"0\" x=\"136\" y=\"235.6074\"/></a></g><!--MD5=[15ebcb19ae302d9b601edb458606d402]\n",
       "link E5 to E2--><a href=\"psysml:a2e30144-7cbb-4348-81c9-870149c1f1e3\" target=\"_top\" title=\"psysml:a2e30144-7cbb-4348-81c9-870149c1f1e3\" xlink:actuate=\"onRequest\" xlink:href=\"psysml:a2e30144-7cbb-4348-81c9-870149c1f1e3\" xlink:show=\"new\" xlink:title=\"psysml:a2e30144-7cbb-4348-81c9-870149c1f1e3\" xlink:type=\"simple\"><path d=\"M148.57,140.05 C153.87,144.51 158,148 158,148 C158,148 173.505,166.895 189.2513,186.085 C197.1244,195.68 205.0578,205.3488 211.1436,212.7662 C211.9043,213.6934 212.6362,214.5854 213.3354,215.4377 C213.5102,215.6508 213.683,215.8614 213.8537,216.0694 \" fill=\"none\" id=\"E5-E2\" style=\"stroke: #383838; stroke-width: 3.0;\"/></a><!--MD5=[3a9b96bfbf6b6ad89c494e81751bda47]\n",
       "link E5 to E7--><a href=\"psysml:81751fd3-19d9-42b1-be5d-d1a292525231\" target=\"_top\" title=\"psysml:81751fd3-19d9-42b1-be5d-d1a292525231\" xlink:actuate=\"onRequest\" xlink:href=\"psysml:81751fd3-19d9-42b1-be5d-d1a292525231\" xlink:show=\"new\" xlink:title=\"psysml:81751fd3-19d9-42b1-be5d-d1a292525231\" xlink:type=\"simple\"><path d=\"M123.25,140.26 C120.61,158.73 116.64,186.53 113.94,205.43 \" fill=\"none\" id=\"E5-E7\" style=\"stroke: #383838; stroke-width: 3.0;\"/></a><!--MD5=[cd9209fb06913a6054c45cc14ab0ae1d]\n",
       "@startuml\r\n",
       "skinparam ranksep 8\r\n",
       "skinparam rectangle {\r\n",
       " backgroundColor<<block>> LightGreen\r\n",
       "}\r\n",
       "skinparam linetype polyline\r\n",
       "skinparam monochrome true\r\n",
       "skinparam classbackgroundcolor white\r\n",
       "skinparam shadowing false\r\n",
       "skinparam wrapWidth 300\r\n",
       "hide circle\r\n",
       "\r\n",
       "package \"ConnectionTest\" as E1  [[psysml:1fa0c0c0-6c41-491a-9601-36d7e4e40543 ]]  {\r\n",
       "rec usage \"p\" as E2  [[psysml:5f85cf43-367b-49d0-8c6e-b9320e7aab66 ]] {\r\n",
       "rec usage \"x\" as E3  [[psysml:03220e95-b237-4532-8361-eb1844ca39e9 ]] {\r\n",
       "}\r\n",
       "}\r\n",
       "rec def \"P\" as E4  <<(T,blue)part def>> [[psysml:deb35dd4-2c3a-4fce-b73d-f2bc7012e274 ]] {\r\n",
       "rec usage \"y\" as E5  [[psysml:021693d6-d6d0-45d3-85e9-0e056c3c99ea ]] {\r\n",
       "}\r\n",
       "rec usage \"p1\" as E6  [[psysml:48ad0273-6ae0-4e72-b6eb-52596fa39c0f ]] {\r\n",
       "rec usage \"x\\n//:>>p::x// \" as E7  [[psysml:3d476d3d-b46e-46da-94ef-54f71581d8bd ]] {\r\n",
       "}\r\n",
       "}\r\n",
       "}\r\n",
       "E5 -[thickness=3]- E2 [[psysml:a2e30144-7cbb-4348-81c9-870149c1f1e3 ]] \r\n",
       "E5 -[thickness=3]- E7 [[psysml:81751fd3-19d9-42b1-be5d-d1a292525231 ]] \r\n",
       "}\r\n",
       "@enduml\r\n",
       "\n",
       "PlantUML version 1.2020.13(Sat Jun 13 12:26:38 UTC 2020)\n",
       "(EPL source distribution)\n",
       "Java Runtime: OpenJDK Runtime Environment\n",
       "JVM: OpenJDK 64-Bit Server VM\n",
       "Default Encoding: UTF-8\n",
       "Language: en\n",
       "Country: null\n",
       "--></g></svg>"
      ]
     },
     "execution_count": 12,
     "metadata": {},
     "output_type": "execute_result"
    }
   ],
   "source": [
    "%viz --style=\"POLYLINE\" --view=\"Interconnection\" \"ConnectionTest\""
   ]
  },
  {
   "cell_type": "code",
   "execution_count": 13,
   "id": "integrated-wichita",
   "metadata": {
    "execution": {
     "iopub.execute_input": "2021-03-25T13:50:02.734490Z",
     "iopub.status.busy": "2021-03-25T13:50:02.733366Z",
     "iopub.status.idle": "2021-03-25T13:50:02.745534Z",
     "shell.execute_reply": "2021-03-25T13:50:02.745972Z"
    }
   },
   "outputs": [
    {
     "data": {
      "image/svg+xml": [
       "<?xml version=\"1.0\" encoding=\"UTF-8\" standalone=\"no\"?><svg xmlns=\"http://www.w3.org/2000/svg\" xmlns:xlink=\"http://www.w3.org/1999/xlink\" contentScriptType=\"application/ecmascript\" contentStyleType=\"text/css\" height=\"12px\" preserveAspectRatio=\"none\" style=\"width:12px;height:12px;\" version=\"1.1\" viewBox=\"0 0 12 12\" width=\"12px\" zoomAndPan=\"magnify\"><defs/><g><!--MD5=[97bbf32f66ccd50cbc40d92ea8f5a65e]\n",
       "@startuml\r\n",
       "skinparam ranksep 8\r\n",
       "skinparam linetype polyline\r\n",
       "skinparam monochrome true\r\n",
       "skinparam classbackgroundcolor white\r\n",
       "skinparam shadowing false\r\n",
       "skinparam wrapWidth 300\r\n",
       "hide circle\r\n",
       "\r\n",
       "@enduml\r\n",
       "\n",
       "PlantUML version 1.2020.13(Sat Jun 13 12:26:38 UTC 2020)\n",
       "(EPL source distribution)\n",
       "Java Runtime: OpenJDK Runtime Environment\n",
       "JVM: OpenJDK 64-Bit Server VM\n",
       "Default Encoding: UTF-8\n",
       "Language: en\n",
       "Country: null\n",
       "--></g></svg>"
      ]
     },
     "execution_count": 13,
     "metadata": {},
     "output_type": "execute_result"
    }
   ],
   "source": [
    "%viz --style=\"POLYLINE\" --view=\"Action\" \"ConnectionTest\""
   ]
  },
  {
   "cell_type": "code",
   "execution_count": 14,
   "id": "pretty-client",
   "metadata": {
    "execution": {
     "iopub.execute_input": "2021-03-25T13:50:02.797337Z",
     "iopub.status.busy": "2021-03-25T13:50:02.796762Z",
     "iopub.status.idle": "2021-03-25T13:50:02.893595Z",
     "shell.execute_reply": "2021-03-25T13:50:02.892041Z"
    }
   },
   "outputs": [
    {
     "data": {
      "image/svg+xml": [
       "<?xml version=\"1.0\" encoding=\"UTF-8\" standalone=\"no\"?><svg xmlns=\"http://www.w3.org/2000/svg\" xmlns:xlink=\"http://www.w3.org/1999/xlink\" contentScriptType=\"application/ecmascript\" contentStyleType=\"text/css\" height=\"433px\" preserveAspectRatio=\"none\" style=\"width:189px;height:433px;\" version=\"1.1\" viewBox=\"0 0 189 433\" width=\"189px\" zoomAndPan=\"magnify\"><defs/><g><!--MD5=[fbc87193dbaf4d95561dea2c320d4a47]\n",
       "cluster E1--><a href=\"psysml:1fa0c0c0-6c41-491a-9601-36d7e4e40543\" target=\"_top\" title=\"psysml:1fa0c0c0-6c41-491a-9601-36d7e4e40543\" xlink:actuate=\"onRequest\" xlink:href=\"psysml:1fa0c0c0-6c41-491a-9601-36d7e4e40543\" xlink:show=\"new\" xlink:title=\"psysml:1fa0c0c0-6c41-491a-9601-36d7e4e40543\" xlink:type=\"simple\"><polygon fill=\"#FFFFFF\" points=\"16,6,147,6,154,28.2969,167,28.2969,167,421,16,421,16,6\" style=\"stroke: #000000; stroke-width: 1.5;\"/><line style=\"stroke: #000000; stroke-width: 1.5;\" x1=\"16\" x2=\"154\" y1=\"28.2969\" y2=\"28.2969\"/><text fill=\"#000000\" font-family=\"sans-serif\" font-size=\"14\" font-weight=\"bold\" lengthAdjust=\"spacingAndGlyphs\" textLength=\"125\" x=\"20\" y=\"20.9951\">ConnectionTest</text></a><!--MD5=[b4997ac47864f28c2f74865a473b2911]\n",
       "class E2--><a href=\"psysml:5f85cf43-367b-49d0-8c6e-b9320e7aab66\" target=\"_top\" title=\"psysml:5f85cf43-367b-49d0-8c6e-b9320e7aab66\" xlink:actuate=\"onRequest\" xlink:href=\"psysml:5f85cf43-367b-49d0-8c6e-b9320e7aab66\" xlink:show=\"new\" xlink:title=\"psysml:5f85cf43-367b-49d0-8c6e-b9320e7aab66\" xlink:type=\"simple\"><rect fill=\"#FFFFFF\" height=\"45.9375\" id=\"E2\" rx=\"10\" ry=\"10\" style=\"stroke: #383838; stroke-width: 1.5;\" width=\"42\" x=\"32\" y=\"253\"/><text fill=\"#000000\" font-family=\"sans-serif\" font-size=\"12\" font-style=\"italic\" lengthAdjust=\"spacingAndGlyphs\" textLength=\"40\" x=\"33\" y=\"269.1387\">«part»</text><text fill=\"#000000\" font-family=\"sans-serif\" font-size=\"12\" lengthAdjust=\"spacingAndGlyphs\" textLength=\"8\" x=\"49\" y=\"283.1074\">p</text><line style=\"stroke: #383838; stroke-width: 1.5;\" x1=\"33\" x2=\"73\" y1=\"290.9375\" y2=\"290.9375\"/></a><!--MD5=[09b614a08d8cba4a07c9adeb5e0fee81]\n",
       "class E3--><a href=\"psysml:03220e95-b237-4532-8361-eb1844ca39e9\" target=\"_top\" title=\"psysml:03220e95-b237-4532-8361-eb1844ca39e9\" xlink:actuate=\"onRequest\" xlink:href=\"psysml:03220e95-b237-4532-8361-eb1844ca39e9\" xlink:show=\"new\" xlink:title=\"psysml:03220e95-b237-4532-8361-eb1844ca39e9\" xlink:type=\"simple\"><rect fill=\"#FFFFFF\" height=\"45.9375\" id=\"E3\" rx=\"10\" ry=\"10\" style=\"stroke: #383838; stroke-width: 1.5;\" width=\"42\" x=\"70\" y=\"359\"/><text fill=\"#000000\" font-family=\"sans-serif\" font-size=\"12\" font-style=\"italic\" lengthAdjust=\"spacingAndGlyphs\" textLength=\"40\" x=\"71\" y=\"375.1387\">«part»</text><text fill=\"#000000\" font-family=\"sans-serif\" font-size=\"12\" lengthAdjust=\"spacingAndGlyphs\" textLength=\"6\" x=\"88\" y=\"389.1074\">x</text><line style=\"stroke: #383838; stroke-width: 1.5;\" x1=\"71\" x2=\"111\" y1=\"396.9375\" y2=\"396.9375\"/></a><!--MD5=[ebbe1d658d1005bcc118a6aa81145e00]\n",
       "class E4--><a href=\"psysml:deb35dd4-2c3a-4fce-b73d-f2bc7012e274\" target=\"_top\" title=\"psysml:deb35dd4-2c3a-4fce-b73d-f2bc7012e274\" xlink:actuate=\"onRequest\" xlink:href=\"psysml:deb35dd4-2c3a-4fce-b73d-f2bc7012e274\" xlink:show=\"new\" xlink:title=\"psysml:deb35dd4-2c3a-4fce-b73d-f2bc7012e274\" xlink:type=\"simple\"><rect fill=\"#FFFFFF\" height=\"45.9375\" id=\"E4\" style=\"stroke: #383838; stroke-width: 1.5;\" width=\"66\" x=\"58\" y=\"41\"/><text fill=\"#000000\" font-family=\"sans-serif\" font-size=\"12\" font-style=\"italic\" lengthAdjust=\"spacingAndGlyphs\" textLength=\"64\" x=\"59\" y=\"57.1387\">«part def»</text><text fill=\"#000000\" font-family=\"sans-serif\" font-size=\"12\" lengthAdjust=\"spacingAndGlyphs\" textLength=\"8\" x=\"87\" y=\"71.1074\">P</text><line style=\"stroke: #383838; stroke-width: 1.5;\" x1=\"59\" x2=\"123\" y1=\"78.9375\" y2=\"78.9375\"/></a><!--MD5=[270fce915f116d4de14055a7c1d9a0f3]\n",
       "class E5--><a href=\"psysml:021693d6-d6d0-45d3-85e9-0e056c3c99ea\" target=\"_top\" title=\"psysml:021693d6-d6d0-45d3-85e9-0e056c3c99ea\" xlink:actuate=\"onRequest\" xlink:href=\"psysml:021693d6-d6d0-45d3-85e9-0e056c3c99ea\" xlink:show=\"new\" xlink:title=\"psysml:021693d6-d6d0-45d3-85e9-0e056c3c99ea\" xlink:type=\"simple\"><rect fill=\"#FFFFFF\" height=\"45.9375\" id=\"E5\" rx=\"10\" ry=\"10\" style=\"stroke: #383838; stroke-width: 1.5;\" width=\"42\" x=\"32\" y=\"147\"/><text fill=\"#000000\" font-family=\"sans-serif\" font-size=\"12\" font-style=\"italic\" lengthAdjust=\"spacingAndGlyphs\" textLength=\"40\" x=\"33\" y=\"163.1387\">«part»</text><text fill=\"#000000\" font-family=\"sans-serif\" font-size=\"12\" lengthAdjust=\"spacingAndGlyphs\" textLength=\"6\" x=\"50\" y=\"177.1074\">y</text><line style=\"stroke: #383838; stroke-width: 1.5;\" x1=\"33\" x2=\"73\" y1=\"184.9375\" y2=\"184.9375\"/></a><!--MD5=[60a26617385b1d2d0262a64233df1f8d]\n",
       "class E6--><a href=\"psysml:48ad0273-6ae0-4e72-b6eb-52596fa39c0f\" target=\"_top\" title=\"psysml:48ad0273-6ae0-4e72-b6eb-52596fa39c0f\" xlink:actuate=\"onRequest\" xlink:href=\"psysml:48ad0273-6ae0-4e72-b6eb-52596fa39c0f\" xlink:show=\"new\" xlink:title=\"psysml:48ad0273-6ae0-4e72-b6eb-52596fa39c0f\" xlink:type=\"simple\"><rect fill=\"#FFFFFF\" height=\"45.9375\" id=\"E6\" rx=\"10\" ry=\"10\" style=\"stroke: #383838; stroke-width: 1.5;\" width=\"42\" x=\"109\" y=\"147\"/><text fill=\"#000000\" font-family=\"sans-serif\" font-size=\"12\" font-style=\"italic\" lengthAdjust=\"spacingAndGlyphs\" textLength=\"40\" x=\"110\" y=\"163.1387\">«part»</text><text fill=\"#000000\" font-family=\"sans-serif\" font-size=\"12\" lengthAdjust=\"spacingAndGlyphs\" textLength=\"16\" x=\"122\" y=\"177.1074\">p1</text><line style=\"stroke: #383838; stroke-width: 1.5;\" x1=\"110\" x2=\"150\" y1=\"184.9375\" y2=\"184.9375\"/></a><!--MD5=[2156ba9850f5573cc1fc38a6a4b2f02b]\n",
       "class E7--><a href=\"psysml:3d476d3d-b46e-46da-94ef-54f71581d8bd\" target=\"_top\" title=\"psysml:3d476d3d-b46e-46da-94ef-54f71581d8bd\" xlink:actuate=\"onRequest\" xlink:href=\"psysml:3d476d3d-b46e-46da-94ef-54f71581d8bd\" xlink:show=\"new\" xlink:title=\"psysml:3d476d3d-b46e-46da-94ef-54f71581d8bd\" xlink:type=\"simple\"><rect fill=\"#FFFFFF\" height=\"45.9375\" id=\"E7\" rx=\"10\" ry=\"10\" style=\"stroke: #383838; stroke-width: 1.5;\" width=\"42\" x=\"109\" y=\"253\"/><text fill=\"#000000\" font-family=\"sans-serif\" font-size=\"12\" font-style=\"italic\" lengthAdjust=\"spacingAndGlyphs\" textLength=\"40\" x=\"110\" y=\"269.1387\">«part»</text><text fill=\"#000000\" font-family=\"sans-serif\" font-size=\"12\" lengthAdjust=\"spacingAndGlyphs\" textLength=\"6\" x=\"127\" y=\"283.1074\">x</text><line style=\"stroke: #383838; stroke-width: 1.5;\" x1=\"110\" x2=\"150\" y1=\"290.9375\" y2=\"290.9375\"/></a><!--MD5=[209b3feb70ccb6233bfe1053d122c12c]\n",
       "reverse link E2 to E3--><a href=\"psysml:03220e95-b237-4532-8361-eb1844ca39e9\" target=\"_top\" title=\"psysml:03220e95-b237-4532-8361-eb1844ca39e9\" xlink:actuate=\"onRequest\" xlink:href=\"psysml:03220e95-b237-4532-8361-eb1844ca39e9\" xlink:show=\"new\" xlink:title=\"psysml:03220e95-b237-4532-8361-eb1844ca39e9\" xlink:type=\"simple\"><path d=\"M65.6,311.49 C71.32,327.15 77.92,345.19 82.95,358.98 \" fill=\"none\" id=\"E2&lt;-E3\" style=\"stroke: #383838; stroke-width: 1.0;\"/><polygon fill=\"#383838\" points=\"61.06,299.06,59.3691,306.07,65.1895,310.3271,66.8804,303.317,61.06,299.06\" style=\"stroke: #383838; stroke-width: 1.0;\"/></a><!--MD5=[62aa6af11e70f752912c1cb0466f24f7]\n",
       "reverse link E4 to E5--><a href=\"psysml:021693d6-d6d0-45d3-85e9-0e056c3c99ea\" target=\"_top\" title=\"psysml:021693d6-d6d0-45d3-85e9-0e056c3c99ea\" xlink:actuate=\"onRequest\" xlink:href=\"psysml:021693d6-d6d0-45d3-85e9-0e056c3c99ea\" xlink:show=\"new\" xlink:title=\"psysml:021693d6-d6d0-45d3-85e9-0e056c3c99ea\" xlink:type=\"simple\"><path d=\"M78.4,99.49 C72.68,115.15 66.08,133.19 61.05,146.98 \" fill=\"none\" id=\"E4&lt;-E5\" style=\"stroke: #383838; stroke-width: 1.0;\"/><polygon fill=\"#383838\" points=\"82.94,87.06,77.1196,91.317,78.8105,98.3271,84.6309,94.07,82.94,87.06\" style=\"stroke: #383838; stroke-width: 1.0;\"/></a><!--MD5=[2351f337d6de0f557b50152ba70847b5]\n",
       "link E6 to E2--><a href=\"psysml:9890fb32-dc37-43db-abbc-6177a2056fad\" target=\"_top\" title=\"psysml:9890fb32-dc37-43db-abbc-6177a2056fad\" xlink:actuate=\"onRequest\" xlink:href=\"psysml:9890fb32-dc37-43db-abbc-6177a2056fad\" xlink:show=\"new\" xlink:title=\"psysml:9890fb32-dc37-43db-abbc-6177a2056fad\" xlink:type=\"simple\"><path d=\"M113.67,193.06 C104.28,205.74 92.22,222.03 81.32,236.74 \" fill=\"none\" id=\"E6-&gt;E2\" style=\"stroke: #383838; stroke-width: 1.0;\"/><polygon fill=\"none\" points=\"86.83,241.07,69.31,252.98,75.58,232.74,86.83,241.07\" style=\"stroke: #383838; stroke-width: 1.0;\"/></a><!--MD5=[6db378b65e1aef66a01cb3103812b399]\n",
       "reverse link E4 to E6--><a href=\"psysml:48ad0273-6ae0-4e72-b6eb-52596fa39c0f\" target=\"_top\" title=\"psysml:48ad0273-6ae0-4e72-b6eb-52596fa39c0f\" xlink:actuate=\"onRequest\" xlink:href=\"psysml:48ad0273-6ae0-4e72-b6eb-52596fa39c0f\" xlink:show=\"new\" xlink:title=\"psysml:48ad0273-6ae0-4e72-b6eb-52596fa39c0f\" xlink:type=\"simple\"><path d=\"M103.94,99.49 C109.8,115.15 116.57,133.19 121.74,146.98 \" fill=\"none\" id=\"E4&lt;-E6\" style=\"stroke: #383838; stroke-width: 1.0;\"/><polygon fill=\"#383838\" points=\"99.27,87.06,97.635,94.0833,103.4893,98.2938,105.1242,91.2705,99.27,87.06\" style=\"stroke: #383838; stroke-width: 1.0;\"/></a><!--MD5=[14ccda38c055a5c0da953d572bc50960]\n",
       "link E7 to E3--><a href=\"psysml:6e6cfa00-bc1f-4d19-92ba-1126ed543e13\" target=\"_top\" title=\"psysml:6e6cfa00-bc1f-4d19-92ba-1126ed543e13\" xlink:actuate=\"onRequest\" xlink:href=\"psysml:6e6cfa00-bc1f-4d19-92ba-1126ed543e13\" xlink:show=\"new\" xlink:title=\"psysml:6e6cfa00-bc1f-4d19-92ba-1126ed543e13\" xlink:type=\"simple\"><path d=\"M121.73,299.06 C117.28,310.91 111.65,325.92 106.43,339.85 \" fill=\"none\" id=\"E7-&gt;E3\" style=\"stroke: #383838; stroke-width: 1.0;\"/><polygon fill=\"#FFFFFF\" points=\"99.26,358.98,99.3821,338.7319,112.4895,343.6509,99.26,358.98\" style=\"stroke: #383838; stroke-width: 1.0;\"/><line style=\"stroke: #383838; stroke-width: 2.0;\" x1=\"100.7173\" x2=\"113.8247\" y1=\"335.1742\" y2=\"340.0932\"/></a><!--MD5=[3f50a3473f1dfb74d3f76443e03635af]\n",
       "reverse link E6 to E7--><a href=\"psysml:3d476d3d-b46e-46da-94ef-54f71581d8bd\" target=\"_top\" title=\"psysml:3d476d3d-b46e-46da-94ef-54f71581d8bd\" xlink:actuate=\"onRequest\" xlink:href=\"psysml:3d476d3d-b46e-46da-94ef-54f71581d8bd\" xlink:show=\"new\" xlink:title=\"psysml:3d476d3d-b46e-46da-94ef-54f71581d8bd\" xlink:type=\"simple\"><path d=\"M130,206.44 C130,221.87 130,239.47 130,252.98 \" fill=\"none\" id=\"E6&lt;-E7\" style=\"stroke: #383838; stroke-width: 1.0;\"/><polygon fill=\"#383838\" points=\"130,193.06,126,199.06,130,205.06,134,199.06,130,193.06\" style=\"stroke: #383838; stroke-width: 1.0;\"/></a><!--MD5=[41d6ef5af983658c365d24602fb17c86]\n",
       "@startuml\r\n",
       "skinparam linetype polyline\r\n",
       "skinparam monochrome true\r\n",
       "skinparam classbackgroundcolor white\r\n",
       "skinparam shadowing false\r\n",
       "skinparam wrapWidth 300\r\n",
       "hide circle\r\n",
       "\r\n",
       "package \"ConnectionTest\" as E1  [[psysml:1fa0c0c0-6c41-491a-9601-36d7e4e40543 ]]  {\r\n",
       "comp usage \"p\" as E2  <<(T,blue)part>> [[psysml:5f85cf43-367b-49d0-8c6e-b9320e7aab66 ]] {\r\n",
       "}\r\n",
       "comp usage \"x\" as E3  <<(T,blue)part>> [[psysml:03220e95-b237-4532-8361-eb1844ca39e9 ]] {\r\n",
       "}\r\n",
       "comp def \"P\" as E4  <<(T,blue)part def>> [[psysml:deb35dd4-2c3a-4fce-b73d-f2bc7012e274 ]] {\r\n",
       "}\r\n",
       "comp usage \"y\" as E5  <<(T,blue)part>> [[psysml:021693d6-d6d0-45d3-85e9-0e056c3c99ea ]] {\r\n",
       "}\r\n",
       "comp usage \"p1\" as E6  <<(T,blue)part>> [[psysml:48ad0273-6ae0-4e72-b6eb-52596fa39c0f ]] {\r\n",
       "}\r\n",
       "comp usage \"x\" as E7  <<(T,blue)part>> [[psysml:3d476d3d-b46e-46da-94ef-54f71581d8bd ]] {\r\n",
       "}\r\n",
       "E2 *- - E3 [[psysml:03220e95-b237-4532-8361-eb1844ca39e9 ]] \r\n",
       "E4 *- - E5 [[psysml:021693d6-d6d0-45d3-85e9-0e056c3c99ea ]] \r\n",
       "E6 - -|> E2 [[psysml:9890fb32-dc37-43db-abbc-6177a2056fad ]] \r\n",
       "E4 *- - E6 [[psysml:48ad0273-6ae0-4e72-b6eb-52596fa39c0f ]] \r\n",
       "E7 - -||> E3 [[psysml:6e6cfa00-bc1f-4d19-92ba-1126ed543e13 ]] \r\n",
       "E6 *- - E7 [[psysml:3d476d3d-b46e-46da-94ef-54f71581d8bd ]] \r\n",
       "}\r\n",
       "@enduml\r\n",
       "\n",
       "PlantUML version 1.2020.13(Sat Jun 13 12:26:38 UTC 2020)\n",
       "(EPL source distribution)\n",
       "Java Runtime: OpenJDK Runtime Environment\n",
       "JVM: OpenJDK 64-Bit Server VM\n",
       "Default Encoding: UTF-8\n",
       "Language: en\n",
       "Country: null\n",
       "--></g></svg>"
      ]
     },
     "execution_count": 14,
     "metadata": {},
     "output_type": "execute_result"
    }
   ],
   "source": [
    "%viz --style=\"POLYLINE\" --view=\"Sequence\" \"ConnectionTest\""
   ]
  },
  {
   "cell_type": "code",
   "execution_count": 15,
   "id": "vocal-zimbabwe",
   "metadata": {
    "execution": {
     "iopub.execute_input": "2021-03-25T13:50:02.946264Z",
     "iopub.status.busy": "2021-03-25T13:50:02.945557Z",
     "iopub.status.idle": "2021-03-25T13:50:03.023491Z",
     "shell.execute_reply": "2021-03-25T13:50:03.021717Z"
    }
   },
   "outputs": [
    {
     "data": {
      "image/svg+xml": [
       "<?xml version=\"1.0\" encoding=\"UTF-8\" standalone=\"no\"?><svg xmlns=\"http://www.w3.org/2000/svg\" xmlns:xlink=\"http://www.w3.org/1999/xlink\" contentScriptType=\"application/ecmascript\" contentStyleType=\"text/css\" height=\"433px\" preserveAspectRatio=\"none\" style=\"width:189px;height:433px;\" version=\"1.1\" viewBox=\"0 0 189 433\" width=\"189px\" zoomAndPan=\"magnify\"><defs/><g><!--MD5=[fbc87193dbaf4d95561dea2c320d4a47]\n",
       "cluster E1--><a href=\"psysml:1fa0c0c0-6c41-491a-9601-36d7e4e40543\" target=\"_top\" title=\"psysml:1fa0c0c0-6c41-491a-9601-36d7e4e40543\" xlink:actuate=\"onRequest\" xlink:href=\"psysml:1fa0c0c0-6c41-491a-9601-36d7e4e40543\" xlink:show=\"new\" xlink:title=\"psysml:1fa0c0c0-6c41-491a-9601-36d7e4e40543\" xlink:type=\"simple\"><polygon fill=\"#FFFFFF\" points=\"16,6,147,6,154,28.2969,167,28.2969,167,421,16,421,16,6\" style=\"stroke: #000000; stroke-width: 1.5;\"/><line style=\"stroke: #000000; stroke-width: 1.5;\" x1=\"16\" x2=\"154\" y1=\"28.2969\" y2=\"28.2969\"/><text fill=\"#000000\" font-family=\"sans-serif\" font-size=\"14\" font-weight=\"bold\" lengthAdjust=\"spacingAndGlyphs\" textLength=\"125\" x=\"20\" y=\"20.9951\">ConnectionTest</text></a><!--MD5=[b4997ac47864f28c2f74865a473b2911]\n",
       "class E2--><a href=\"psysml:5f85cf43-367b-49d0-8c6e-b9320e7aab66\" target=\"_top\" title=\"psysml:5f85cf43-367b-49d0-8c6e-b9320e7aab66\" xlink:actuate=\"onRequest\" xlink:href=\"psysml:5f85cf43-367b-49d0-8c6e-b9320e7aab66\" xlink:show=\"new\" xlink:title=\"psysml:5f85cf43-367b-49d0-8c6e-b9320e7aab66\" xlink:type=\"simple\"><rect fill=\"#FFFFFF\" height=\"45.9375\" id=\"E2\" rx=\"10\" ry=\"10\" style=\"stroke: #383838; stroke-width: 1.5;\" width=\"42\" x=\"32\" y=\"253\"/><text fill=\"#000000\" font-family=\"sans-serif\" font-size=\"12\" font-style=\"italic\" lengthAdjust=\"spacingAndGlyphs\" textLength=\"40\" x=\"33\" y=\"269.1387\">«part»</text><text fill=\"#000000\" font-family=\"sans-serif\" font-size=\"12\" lengthAdjust=\"spacingAndGlyphs\" textLength=\"8\" x=\"49\" y=\"283.1074\">p</text><line style=\"stroke: #383838; stroke-width: 1.5;\" x1=\"33\" x2=\"73\" y1=\"290.9375\" y2=\"290.9375\"/></a><!--MD5=[09b614a08d8cba4a07c9adeb5e0fee81]\n",
       "class E3--><a href=\"psysml:03220e95-b237-4532-8361-eb1844ca39e9\" target=\"_top\" title=\"psysml:03220e95-b237-4532-8361-eb1844ca39e9\" xlink:actuate=\"onRequest\" xlink:href=\"psysml:03220e95-b237-4532-8361-eb1844ca39e9\" xlink:show=\"new\" xlink:title=\"psysml:03220e95-b237-4532-8361-eb1844ca39e9\" xlink:type=\"simple\"><rect fill=\"#FFFFFF\" height=\"45.9375\" id=\"E3\" rx=\"10\" ry=\"10\" style=\"stroke: #383838; stroke-width: 1.5;\" width=\"42\" x=\"70\" y=\"359\"/><text fill=\"#000000\" font-family=\"sans-serif\" font-size=\"12\" font-style=\"italic\" lengthAdjust=\"spacingAndGlyphs\" textLength=\"40\" x=\"71\" y=\"375.1387\">«part»</text><text fill=\"#000000\" font-family=\"sans-serif\" font-size=\"12\" lengthAdjust=\"spacingAndGlyphs\" textLength=\"6\" x=\"88\" y=\"389.1074\">x</text><line style=\"stroke: #383838; stroke-width: 1.5;\" x1=\"71\" x2=\"111\" y1=\"396.9375\" y2=\"396.9375\"/></a><!--MD5=[ebbe1d658d1005bcc118a6aa81145e00]\n",
       "class E4--><a href=\"psysml:deb35dd4-2c3a-4fce-b73d-f2bc7012e274\" target=\"_top\" title=\"psysml:deb35dd4-2c3a-4fce-b73d-f2bc7012e274\" xlink:actuate=\"onRequest\" xlink:href=\"psysml:deb35dd4-2c3a-4fce-b73d-f2bc7012e274\" xlink:show=\"new\" xlink:title=\"psysml:deb35dd4-2c3a-4fce-b73d-f2bc7012e274\" xlink:type=\"simple\"><rect fill=\"#FFFFFF\" height=\"45.9375\" id=\"E4\" style=\"stroke: #383838; stroke-width: 1.5;\" width=\"66\" x=\"58\" y=\"41\"/><text fill=\"#000000\" font-family=\"sans-serif\" font-size=\"12\" font-style=\"italic\" lengthAdjust=\"spacingAndGlyphs\" textLength=\"64\" x=\"59\" y=\"57.1387\">«part def»</text><text fill=\"#000000\" font-family=\"sans-serif\" font-size=\"12\" lengthAdjust=\"spacingAndGlyphs\" textLength=\"8\" x=\"87\" y=\"71.1074\">P</text><line style=\"stroke: #383838; stroke-width: 1.5;\" x1=\"59\" x2=\"123\" y1=\"78.9375\" y2=\"78.9375\"/></a><!--MD5=[270fce915f116d4de14055a7c1d9a0f3]\n",
       "class E5--><a href=\"psysml:021693d6-d6d0-45d3-85e9-0e056c3c99ea\" target=\"_top\" title=\"psysml:021693d6-d6d0-45d3-85e9-0e056c3c99ea\" xlink:actuate=\"onRequest\" xlink:href=\"psysml:021693d6-d6d0-45d3-85e9-0e056c3c99ea\" xlink:show=\"new\" xlink:title=\"psysml:021693d6-d6d0-45d3-85e9-0e056c3c99ea\" xlink:type=\"simple\"><rect fill=\"#FFFFFF\" height=\"45.9375\" id=\"E5\" rx=\"10\" ry=\"10\" style=\"stroke: #383838; stroke-width: 1.5;\" width=\"42\" x=\"32\" y=\"147\"/><text fill=\"#000000\" font-family=\"sans-serif\" font-size=\"12\" font-style=\"italic\" lengthAdjust=\"spacingAndGlyphs\" textLength=\"40\" x=\"33\" y=\"163.1387\">«part»</text><text fill=\"#000000\" font-family=\"sans-serif\" font-size=\"12\" lengthAdjust=\"spacingAndGlyphs\" textLength=\"6\" x=\"50\" y=\"177.1074\">y</text><line style=\"stroke: #383838; stroke-width: 1.5;\" x1=\"33\" x2=\"73\" y1=\"184.9375\" y2=\"184.9375\"/></a><!--MD5=[60a26617385b1d2d0262a64233df1f8d]\n",
       "class E6--><a href=\"psysml:48ad0273-6ae0-4e72-b6eb-52596fa39c0f\" target=\"_top\" title=\"psysml:48ad0273-6ae0-4e72-b6eb-52596fa39c0f\" xlink:actuate=\"onRequest\" xlink:href=\"psysml:48ad0273-6ae0-4e72-b6eb-52596fa39c0f\" xlink:show=\"new\" xlink:title=\"psysml:48ad0273-6ae0-4e72-b6eb-52596fa39c0f\" xlink:type=\"simple\"><rect fill=\"#FFFFFF\" height=\"45.9375\" id=\"E6\" rx=\"10\" ry=\"10\" style=\"stroke: #383838; stroke-width: 1.5;\" width=\"42\" x=\"109\" y=\"147\"/><text fill=\"#000000\" font-family=\"sans-serif\" font-size=\"12\" font-style=\"italic\" lengthAdjust=\"spacingAndGlyphs\" textLength=\"40\" x=\"110\" y=\"163.1387\">«part»</text><text fill=\"#000000\" font-family=\"sans-serif\" font-size=\"12\" lengthAdjust=\"spacingAndGlyphs\" textLength=\"16\" x=\"122\" y=\"177.1074\">p1</text><line style=\"stroke: #383838; stroke-width: 1.5;\" x1=\"110\" x2=\"150\" y1=\"184.9375\" y2=\"184.9375\"/></a><!--MD5=[2156ba9850f5573cc1fc38a6a4b2f02b]\n",
       "class E7--><a href=\"psysml:3d476d3d-b46e-46da-94ef-54f71581d8bd\" target=\"_top\" title=\"psysml:3d476d3d-b46e-46da-94ef-54f71581d8bd\" xlink:actuate=\"onRequest\" xlink:href=\"psysml:3d476d3d-b46e-46da-94ef-54f71581d8bd\" xlink:show=\"new\" xlink:title=\"psysml:3d476d3d-b46e-46da-94ef-54f71581d8bd\" xlink:type=\"simple\"><rect fill=\"#FFFFFF\" height=\"45.9375\" id=\"E7\" rx=\"10\" ry=\"10\" style=\"stroke: #383838; stroke-width: 1.5;\" width=\"42\" x=\"109\" y=\"253\"/><text fill=\"#000000\" font-family=\"sans-serif\" font-size=\"12\" font-style=\"italic\" lengthAdjust=\"spacingAndGlyphs\" textLength=\"40\" x=\"110\" y=\"269.1387\">«part»</text><text fill=\"#000000\" font-family=\"sans-serif\" font-size=\"12\" lengthAdjust=\"spacingAndGlyphs\" textLength=\"6\" x=\"127\" y=\"283.1074\">x</text><line style=\"stroke: #383838; stroke-width: 1.5;\" x1=\"110\" x2=\"150\" y1=\"290.9375\" y2=\"290.9375\"/></a><!--MD5=[209b3feb70ccb6233bfe1053d122c12c]\n",
       "reverse link E2 to E3--><a href=\"psysml:03220e95-b237-4532-8361-eb1844ca39e9\" target=\"_top\" title=\"psysml:03220e95-b237-4532-8361-eb1844ca39e9\" xlink:actuate=\"onRequest\" xlink:href=\"psysml:03220e95-b237-4532-8361-eb1844ca39e9\" xlink:show=\"new\" xlink:title=\"psysml:03220e95-b237-4532-8361-eb1844ca39e9\" xlink:type=\"simple\"><path d=\"M65.6,311.49 C71.32,327.15 77.92,345.19 82.95,358.98 \" fill=\"none\" id=\"E2&lt;-E3\" style=\"stroke: #383838; stroke-width: 1.0;\"/><polygon fill=\"#383838\" points=\"61.06,299.06,59.3691,306.07,65.1895,310.3271,66.8804,303.317,61.06,299.06\" style=\"stroke: #383838; stroke-width: 1.0;\"/></a><!--MD5=[62aa6af11e70f752912c1cb0466f24f7]\n",
       "reverse link E4 to E5--><a href=\"psysml:021693d6-d6d0-45d3-85e9-0e056c3c99ea\" target=\"_top\" title=\"psysml:021693d6-d6d0-45d3-85e9-0e056c3c99ea\" xlink:actuate=\"onRequest\" xlink:href=\"psysml:021693d6-d6d0-45d3-85e9-0e056c3c99ea\" xlink:show=\"new\" xlink:title=\"psysml:021693d6-d6d0-45d3-85e9-0e056c3c99ea\" xlink:type=\"simple\"><path d=\"M78.4,99.49 C72.68,115.15 66.08,133.19 61.05,146.98 \" fill=\"none\" id=\"E4&lt;-E5\" style=\"stroke: #383838; stroke-width: 1.0;\"/><polygon fill=\"#383838\" points=\"82.94,87.06,77.1196,91.317,78.8105,98.3271,84.6309,94.07,82.94,87.06\" style=\"stroke: #383838; stroke-width: 1.0;\"/></a><!--MD5=[2351f337d6de0f557b50152ba70847b5]\n",
       "link E6 to E2--><a href=\"psysml:9890fb32-dc37-43db-abbc-6177a2056fad\" target=\"_top\" title=\"psysml:9890fb32-dc37-43db-abbc-6177a2056fad\" xlink:actuate=\"onRequest\" xlink:href=\"psysml:9890fb32-dc37-43db-abbc-6177a2056fad\" xlink:show=\"new\" xlink:title=\"psysml:9890fb32-dc37-43db-abbc-6177a2056fad\" xlink:type=\"simple\"><path d=\"M113.67,193.06 C104.28,205.74 92.22,222.03 81.32,236.74 \" fill=\"none\" id=\"E6-&gt;E2\" style=\"stroke: #383838; stroke-width: 1.0;\"/><polygon fill=\"none\" points=\"86.83,241.07,69.31,252.98,75.58,232.74,86.83,241.07\" style=\"stroke: #383838; stroke-width: 1.0;\"/></a><!--MD5=[6db378b65e1aef66a01cb3103812b399]\n",
       "reverse link E4 to E6--><a href=\"psysml:48ad0273-6ae0-4e72-b6eb-52596fa39c0f\" target=\"_top\" title=\"psysml:48ad0273-6ae0-4e72-b6eb-52596fa39c0f\" xlink:actuate=\"onRequest\" xlink:href=\"psysml:48ad0273-6ae0-4e72-b6eb-52596fa39c0f\" xlink:show=\"new\" xlink:title=\"psysml:48ad0273-6ae0-4e72-b6eb-52596fa39c0f\" xlink:type=\"simple\"><path d=\"M103.94,99.49 C109.8,115.15 116.57,133.19 121.74,146.98 \" fill=\"none\" id=\"E4&lt;-E6\" style=\"stroke: #383838; stroke-width: 1.0;\"/><polygon fill=\"#383838\" points=\"99.27,87.06,97.635,94.0833,103.4893,98.2938,105.1242,91.2705,99.27,87.06\" style=\"stroke: #383838; stroke-width: 1.0;\"/></a><!--MD5=[14ccda38c055a5c0da953d572bc50960]\n",
       "link E7 to E3--><a href=\"psysml:6e6cfa00-bc1f-4d19-92ba-1126ed543e13\" target=\"_top\" title=\"psysml:6e6cfa00-bc1f-4d19-92ba-1126ed543e13\" xlink:actuate=\"onRequest\" xlink:href=\"psysml:6e6cfa00-bc1f-4d19-92ba-1126ed543e13\" xlink:show=\"new\" xlink:title=\"psysml:6e6cfa00-bc1f-4d19-92ba-1126ed543e13\" xlink:type=\"simple\"><path d=\"M121.73,299.06 C117.28,310.91 111.65,325.92 106.43,339.85 \" fill=\"none\" id=\"E7-&gt;E3\" style=\"stroke: #383838; stroke-width: 1.0;\"/><polygon fill=\"#FFFFFF\" points=\"99.26,358.98,99.3821,338.7319,112.4895,343.6509,99.26,358.98\" style=\"stroke: #383838; stroke-width: 1.0;\"/><line style=\"stroke: #383838; stroke-width: 2.0;\" x1=\"100.7173\" x2=\"113.8247\" y1=\"335.1742\" y2=\"340.0932\"/></a><!--MD5=[3f50a3473f1dfb74d3f76443e03635af]\n",
       "reverse link E6 to E7--><a href=\"psysml:3d476d3d-b46e-46da-94ef-54f71581d8bd\" target=\"_top\" title=\"psysml:3d476d3d-b46e-46da-94ef-54f71581d8bd\" xlink:actuate=\"onRequest\" xlink:href=\"psysml:3d476d3d-b46e-46da-94ef-54f71581d8bd\" xlink:show=\"new\" xlink:title=\"psysml:3d476d3d-b46e-46da-94ef-54f71581d8bd\" xlink:type=\"simple\"><path d=\"M130,206.44 C130,221.87 130,239.47 130,252.98 \" fill=\"none\" id=\"E6&lt;-E7\" style=\"stroke: #383838; stroke-width: 1.0;\"/><polygon fill=\"#383838\" points=\"130,193.06,126,199.06,130,205.06,134,199.06,130,193.06\" style=\"stroke: #383838; stroke-width: 1.0;\"/></a><!--MD5=[41d6ef5af983658c365d24602fb17c86]\n",
       "@startuml\r\n",
       "skinparam linetype polyline\r\n",
       "skinparam monochrome true\r\n",
       "skinparam classbackgroundcolor white\r\n",
       "skinparam shadowing false\r\n",
       "skinparam wrapWidth 300\r\n",
       "hide circle\r\n",
       "\r\n",
       "package \"ConnectionTest\" as E1  [[psysml:1fa0c0c0-6c41-491a-9601-36d7e4e40543 ]]  {\r\n",
       "comp usage \"p\" as E2  <<(T,blue)part>> [[psysml:5f85cf43-367b-49d0-8c6e-b9320e7aab66 ]] {\r\n",
       "}\r\n",
       "comp usage \"x\" as E3  <<(T,blue)part>> [[psysml:03220e95-b237-4532-8361-eb1844ca39e9 ]] {\r\n",
       "}\r\n",
       "comp def \"P\" as E4  <<(T,blue)part def>> [[psysml:deb35dd4-2c3a-4fce-b73d-f2bc7012e274 ]] {\r\n",
       "}\r\n",
       "comp usage \"y\" as E5  <<(T,blue)part>> [[psysml:021693d6-d6d0-45d3-85e9-0e056c3c99ea ]] {\r\n",
       "}\r\n",
       "comp usage \"p1\" as E6  <<(T,blue)part>> [[psysml:48ad0273-6ae0-4e72-b6eb-52596fa39c0f ]] {\r\n",
       "}\r\n",
       "comp usage \"x\" as E7  <<(T,blue)part>> [[psysml:3d476d3d-b46e-46da-94ef-54f71581d8bd ]] {\r\n",
       "}\r\n",
       "E2 *- - E3 [[psysml:03220e95-b237-4532-8361-eb1844ca39e9 ]] \r\n",
       "E4 *- - E5 [[psysml:021693d6-d6d0-45d3-85e9-0e056c3c99ea ]] \r\n",
       "E6 - -|> E2 [[psysml:9890fb32-dc37-43db-abbc-6177a2056fad ]] \r\n",
       "E4 *- - E6 [[psysml:48ad0273-6ae0-4e72-b6eb-52596fa39c0f ]] \r\n",
       "E7 - -||> E3 [[psysml:6e6cfa00-bc1f-4d19-92ba-1126ed543e13 ]] \r\n",
       "E6 *- - E7 [[psysml:3d476d3d-b46e-46da-94ef-54f71581d8bd ]] \r\n",
       "}\r\n",
       "@enduml\r\n",
       "\n",
       "PlantUML version 1.2020.13(Sat Jun 13 12:26:38 UTC 2020)\n",
       "(EPL source distribution)\n",
       "Java Runtime: OpenJDK Runtime Environment\n",
       "JVM: OpenJDK 64-Bit Server VM\n",
       "Default Encoding: UTF-8\n",
       "Language: en\n",
       "Country: null\n",
       "--></g></svg>"
      ]
     },
     "execution_count": 15,
     "metadata": {},
     "output_type": "execute_result"
    }
   ],
   "source": [
    "%viz --style=\"POLYLINE\" --view=\"MIXED\" \"ConnectionTest\""
   ]
  },
  {
   "cell_type": "code",
   "execution_count": 16,
   "id": "meaningful-dodge",
   "metadata": {
    "execution": {
     "iopub.execute_input": "2021-03-25T13:50:03.074921Z",
     "iopub.status.busy": "2021-03-25T13:50:03.074212Z",
     "iopub.status.idle": "2021-03-25T13:50:03.150956Z",
     "shell.execute_reply": "2021-03-25T13:50:03.150370Z"
    }
   },
   "outputs": [
    {
     "data": {
      "image/svg+xml": [
       "<?xml version=\"1.0\" encoding=\"UTF-8\" standalone=\"no\"?><svg xmlns=\"http://www.w3.org/2000/svg\" xmlns:xlink=\"http://www.w3.org/1999/xlink\" contentScriptType=\"application/ecmascript\" contentStyleType=\"text/css\" height=\"196px\" preserveAspectRatio=\"none\" style=\"width:442px;height:196px;\" version=\"1.1\" viewBox=\"0 0 442 196\" width=\"442px\" zoomAndPan=\"magnify\"><defs/><g><!--MD5=[fbc87193dbaf4d95561dea2c320d4a47]\n",
       "cluster E1--><a href=\"psysml:1fa0c0c0-6c41-491a-9601-36d7e4e40543\" target=\"_top\" title=\"psysml:1fa0c0c0-6c41-491a-9601-36d7e4e40543\" xlink:actuate=\"onRequest\" xlink:href=\"psysml:1fa0c0c0-6c41-491a-9601-36d7e4e40543\" xlink:show=\"new\" xlink:title=\"psysml:1fa0c0c0-6c41-491a-9601-36d7e4e40543\" xlink:type=\"simple\"><polygon fill=\"#FFFFFF\" points=\"16,6,147,6,154,28.2969,420,28.2969,420,184,16,184,16,6\" style=\"stroke: #000000; stroke-width: 1.5;\"/><line style=\"stroke: #000000; stroke-width: 1.5;\" x1=\"16\" x2=\"154\" y1=\"28.2969\" y2=\"28.2969\"/><text fill=\"#000000\" font-family=\"sans-serif\" font-size=\"14\" font-weight=\"bold\" lengthAdjust=\"spacingAndGlyphs\" textLength=\"125\" x=\"20\" y=\"20.9951\">ConnectionTest</text></a><!--MD5=[b4997ac47864f28c2f74865a473b2911]\n",
       "class E2--><a href=\"psysml:5f85cf43-367b-49d0-8c6e-b9320e7aab66\" target=\"_top\" title=\"psysml:5f85cf43-367b-49d0-8c6e-b9320e7aab66\" xlink:actuate=\"onRequest\" xlink:href=\"psysml:5f85cf43-367b-49d0-8c6e-b9320e7aab66\" xlink:show=\"new\" xlink:title=\"psysml:5f85cf43-367b-49d0-8c6e-b9320e7aab66\" xlink:type=\"simple\"><rect fill=\"#FFFFFF\" height=\"45.9375\" id=\"E2\" rx=\"10\" ry=\"10\" style=\"stroke: #383838; stroke-width: 1.5;\" width=\"42\" x=\"260\" y=\"122\"/><text fill=\"#000000\" font-family=\"sans-serif\" font-size=\"12\" font-style=\"italic\" lengthAdjust=\"spacingAndGlyphs\" textLength=\"40\" x=\"261\" y=\"138.1387\">«part»</text><text fill=\"#000000\" font-family=\"sans-serif\" font-size=\"12\" lengthAdjust=\"spacingAndGlyphs\" textLength=\"8\" x=\"277\" y=\"152.1074\">p</text><line style=\"stroke: #383838; stroke-width: 1.5;\" x1=\"261\" x2=\"301\" y1=\"159.9375\" y2=\"159.9375\"/></a><!--MD5=[09b614a08d8cba4a07c9adeb5e0fee81]\n",
       "class E3--><a href=\"psysml:03220e95-b237-4532-8361-eb1844ca39e9\" target=\"_top\" title=\"psysml:03220e95-b237-4532-8361-eb1844ca39e9\" xlink:actuate=\"onRequest\" xlink:href=\"psysml:03220e95-b237-4532-8361-eb1844ca39e9\" xlink:show=\"new\" xlink:title=\"psysml:03220e95-b237-4532-8361-eb1844ca39e9\" xlink:type=\"simple\"><rect fill=\"#FFFFFF\" height=\"45.9375\" id=\"E3\" rx=\"10\" ry=\"10\" style=\"stroke: #383838; stroke-width: 1.5;\" width=\"42\" x=\"362\" y=\"82\"/><text fill=\"#000000\" font-family=\"sans-serif\" font-size=\"12\" font-style=\"italic\" lengthAdjust=\"spacingAndGlyphs\" textLength=\"40\" x=\"363\" y=\"98.1387\">«part»</text><text fill=\"#000000\" font-family=\"sans-serif\" font-size=\"12\" lengthAdjust=\"spacingAndGlyphs\" textLength=\"6\" x=\"380\" y=\"112.1074\">x</text><line style=\"stroke: #383838; stroke-width: 1.5;\" x1=\"363\" x2=\"403\" y1=\"119.9375\" y2=\"119.9375\"/></a><!--MD5=[ebbe1d658d1005bcc118a6aa81145e00]\n",
       "class E4--><a href=\"psysml:deb35dd4-2c3a-4fce-b73d-f2bc7012e274\" target=\"_top\" title=\"psysml:deb35dd4-2c3a-4fce-b73d-f2bc7012e274\" xlink:actuate=\"onRequest\" xlink:href=\"psysml:deb35dd4-2c3a-4fce-b73d-f2bc7012e274\" xlink:show=\"new\" xlink:title=\"psysml:deb35dd4-2c3a-4fce-b73d-f2bc7012e274\" xlink:type=\"simple\"><rect fill=\"#FFFFFF\" height=\"45.9375\" id=\"E4\" style=\"stroke: #383838; stroke-width: 1.5;\" width=\"66\" x=\"32\" y=\"82\"/><text fill=\"#000000\" font-family=\"sans-serif\" font-size=\"12\" font-style=\"italic\" lengthAdjust=\"spacingAndGlyphs\" textLength=\"64\" x=\"33\" y=\"98.1387\">«part def»</text><text fill=\"#000000\" font-family=\"sans-serif\" font-size=\"12\" lengthAdjust=\"spacingAndGlyphs\" textLength=\"8\" x=\"61\" y=\"112.1074\">P</text><line style=\"stroke: #383838; stroke-width: 1.5;\" x1=\"33\" x2=\"97\" y1=\"119.9375\" y2=\"119.9375\"/></a><!--MD5=[270fce915f116d4de14055a7c1d9a0f3]\n",
       "class E5--><a href=\"psysml:021693d6-d6d0-45d3-85e9-0e056c3c99ea\" target=\"_top\" title=\"psysml:021693d6-d6d0-45d3-85e9-0e056c3c99ea\" xlink:actuate=\"onRequest\" xlink:href=\"psysml:021693d6-d6d0-45d3-85e9-0e056c3c99ea\" xlink:show=\"new\" xlink:title=\"psysml:021693d6-d6d0-45d3-85e9-0e056c3c99ea\" xlink:type=\"simple\"><rect fill=\"#FFFFFF\" height=\"45.9375\" id=\"E5\" rx=\"10\" ry=\"10\" style=\"stroke: #383838; stroke-width: 1.5;\" width=\"42\" x=\"158\" y=\"122\"/><text fill=\"#000000\" font-family=\"sans-serif\" font-size=\"12\" font-style=\"italic\" lengthAdjust=\"spacingAndGlyphs\" textLength=\"40\" x=\"159\" y=\"138.1387\">«part»</text><text fill=\"#000000\" font-family=\"sans-serif\" font-size=\"12\" lengthAdjust=\"spacingAndGlyphs\" textLength=\"6\" x=\"176\" y=\"152.1074\">y</text><line style=\"stroke: #383838; stroke-width: 1.5;\" x1=\"159\" x2=\"199\" y1=\"159.9375\" y2=\"159.9375\"/></a><!--MD5=[60a26617385b1d2d0262a64233df1f8d]\n",
       "class E6--><a href=\"psysml:48ad0273-6ae0-4e72-b6eb-52596fa39c0f\" target=\"_top\" title=\"psysml:48ad0273-6ae0-4e72-b6eb-52596fa39c0f\" xlink:actuate=\"onRequest\" xlink:href=\"psysml:48ad0273-6ae0-4e72-b6eb-52596fa39c0f\" xlink:show=\"new\" xlink:title=\"psysml:48ad0273-6ae0-4e72-b6eb-52596fa39c0f\" xlink:type=\"simple\"><rect fill=\"#FFFFFF\" height=\"45.9375\" id=\"E6\" rx=\"10\" ry=\"10\" style=\"stroke: #383838; stroke-width: 1.5;\" width=\"42\" x=\"158\" y=\"41\"/><text fill=\"#000000\" font-family=\"sans-serif\" font-size=\"12\" font-style=\"italic\" lengthAdjust=\"spacingAndGlyphs\" textLength=\"40\" x=\"159\" y=\"57.1387\">«part»</text><text fill=\"#000000\" font-family=\"sans-serif\" font-size=\"12\" lengthAdjust=\"spacingAndGlyphs\" textLength=\"16\" x=\"171\" y=\"71.1074\">p1</text><line style=\"stroke: #383838; stroke-width: 1.5;\" x1=\"159\" x2=\"199\" y1=\"78.9375\" y2=\"78.9375\"/></a><!--MD5=[2156ba9850f5573cc1fc38a6a4b2f02b]\n",
       "class E7--><a href=\"psysml:3d476d3d-b46e-46da-94ef-54f71581d8bd\" target=\"_top\" title=\"psysml:3d476d3d-b46e-46da-94ef-54f71581d8bd\" xlink:actuate=\"onRequest\" xlink:href=\"psysml:3d476d3d-b46e-46da-94ef-54f71581d8bd\" xlink:show=\"new\" xlink:title=\"psysml:3d476d3d-b46e-46da-94ef-54f71581d8bd\" xlink:type=\"simple\"><rect fill=\"#FFFFFF\" height=\"45.9375\" id=\"E7\" rx=\"10\" ry=\"10\" style=\"stroke: #383838; stroke-width: 1.5;\" width=\"42\" x=\"260\" y=\"41\"/><text fill=\"#000000\" font-family=\"sans-serif\" font-size=\"12\" font-style=\"italic\" lengthAdjust=\"spacingAndGlyphs\" textLength=\"40\" x=\"261\" y=\"57.1387\">«part»</text><text fill=\"#000000\" font-family=\"sans-serif\" font-size=\"12\" lengthAdjust=\"spacingAndGlyphs\" textLength=\"6\" x=\"278\" y=\"71.1074\">x</text><line style=\"stroke: #383838; stroke-width: 1.5;\" x1=\"261\" x2=\"301\" y1=\"78.9375\" y2=\"78.9375\"/></a><!--MD5=[209b3feb70ccb6233bfe1053d122c12c]\n",
       "reverse link E2 to E3--><a href=\"psysml:03220e95-b237-4532-8361-eb1844ca39e9\" target=\"_top\" title=\"psysml:03220e95-b237-4532-8361-eb1844ca39e9\" xlink:actuate=\"onRequest\" xlink:href=\"psysml:03220e95-b237-4532-8361-eb1844ca39e9\" xlink:show=\"new\" xlink:title=\"psysml:03220e95-b237-4532-8361-eb1844ca39e9\" xlink:type=\"simple\"><path d=\"M314.54,131.98 C330.11,125.76 348.25,118.5 361.79,113.08 \" fill=\"none\" id=\"E2&lt;-E3\" style=\"stroke: #383838; stroke-width: 1.0;\"/><polygon fill=\"#383838\" points=\"302.24,136.91,309.2964,138.3956,313.3817,132.4533,306.3253,130.9677,302.24,136.91\" style=\"stroke: #383838; stroke-width: 1.0;\"/></a><!--MD5=[62aa6af11e70f752912c1cb0466f24f7]\n",
       "reverse link E4 to E5--><a href=\"psysml:021693d6-d6d0-45d3-85e9-0e056c3c99ea\" target=\"_top\" title=\"psysml:021693d6-d6d0-45d3-85e9-0e056c3c99ea\" xlink:actuate=\"onRequest\" xlink:href=\"psysml:021693d6-d6d0-45d3-85e9-0e056c3c99ea\" xlink:show=\"new\" xlink:title=\"psysml:021693d6-d6d0-45d3-85e9-0e056c3c99ea\" xlink:type=\"simple\"><path d=\"M110.79,121 C127.12,126.83 144.77,133.13 157.89,137.82 \" fill=\"none\" id=\"E4&lt;-E5\" style=\"stroke: #383838; stroke-width: 1.0;\"/><polygon fill=\"#383838\" points=\"98.09,116.46,102.3955,122.2447,109.3912,120.4952,105.0857,114.7105,98.09,116.46\" style=\"stroke: #383838; stroke-width: 1.0;\"/></a><!--MD5=[2351f337d6de0f557b50152ba70847b5]\n",
       "link E6 to E2--><a href=\"psysml:9890fb32-dc37-43db-abbc-6177a2056fad\" target=\"_top\" title=\"psysml:9890fb32-dc37-43db-abbc-6177a2056fad\" xlink:actuate=\"onRequest\" xlink:href=\"psysml:9890fb32-dc37-43db-abbc-6177a2056fad\" xlink:show=\"new\" xlink:title=\"psysml:9890fb32-dc37-43db-abbc-6177a2056fad\" xlink:type=\"simple\"><path d=\"M200.24,80.39 C212.84,90.6 229.42,104.03 244.19,115.99 \" fill=\"none\" id=\"E6-&gt;E2\" style=\"stroke: #383838; stroke-width: 1.0;\"/><polygon fill=\"none\" points=\"248.66,110.6,259.79,128.63,239.85,121.48,248.66,110.6\" style=\"stroke: #383838; stroke-width: 1.0;\"/></a><!--MD5=[6db378b65e1aef66a01cb3103812b399]\n",
       "reverse link E4 to E6--><a href=\"psysml:48ad0273-6ae0-4e72-b6eb-52596fa39c0f\" target=\"_top\" title=\"psysml:48ad0273-6ae0-4e72-b6eb-52596fa39c0f\" xlink:actuate=\"onRequest\" xlink:href=\"psysml:48ad0273-6ae0-4e72-b6eb-52596fa39c0f\" xlink:show=\"new\" xlink:title=\"psysml:48ad0273-6ae0-4e72-b6eb-52596fa39c0f\" xlink:type=\"simple\"><path d=\"M110.31,88.78 C126.77,82.75 144.64,76.21 157.89,71.36 \" fill=\"none\" id=\"E4&lt;-E6\" style=\"stroke: #383838; stroke-width: 1.0;\"/><polygon fill=\"#383838\" points=\"98.09,93.25,105.1,94.9409,109.3571,89.1205,102.347,87.4296,98.09,93.25\" style=\"stroke: #383838; stroke-width: 1.0;\"/></a><!--MD5=[14ccda38c055a5c0da953d572bc50960]\n",
       "link E7 to E3--><a href=\"psysml:6e6cfa00-bc1f-4d19-92ba-1126ed543e13\" target=\"_top\" title=\"psysml:6e6cfa00-bc1f-4d19-92ba-1126ed543e13\" xlink:actuate=\"onRequest\" xlink:href=\"psysml:6e6cfa00-bc1f-4d19-92ba-1126ed543e13\" xlink:show=\"new\" xlink:title=\"psysml:6e6cfa00-bc1f-4d19-92ba-1126ed543e13\" xlink:type=\"simple\"><path d=\"M302.24,72.3 C313.89,77.08 328.94,83.25 342.82,88.94 \" fill=\"none\" id=\"E7-&gt;E3\" style=\"stroke: #383838; stroke-width: 1.0;\"/><polygon fill=\"#FFFFFF\" points=\"361.79,96.72,341.5546,95.9939,346.8624,83.0391,361.79,96.72\" style=\"stroke: #383838; stroke-width: 1.0;\"/><line style=\"stroke: #383838; stroke-width: 2.0;\" x1=\"338.0383\" x2=\"343.3461\" y1=\"94.5532\" y2=\"81.5984\"/></a><!--MD5=[3f50a3473f1dfb74d3f76443e03635af]\n",
       "reverse link E6 to E7--><a href=\"psysml:3d476d3d-b46e-46da-94ef-54f71581d8bd\" target=\"_top\" title=\"psysml:3d476d3d-b46e-46da-94ef-54f71581d8bd\" xlink:actuate=\"onRequest\" xlink:href=\"psysml:3d476d3d-b46e-46da-94ef-54f71581d8bd\" xlink:show=\"new\" xlink:title=\"psysml:3d476d3d-b46e-46da-94ef-54f71581d8bd\" xlink:type=\"simple\"><path d=\"M213.48,64 C228.83,64 246.52,64 259.79,64 \" fill=\"none\" id=\"E6&lt;-E7\" style=\"stroke: #383838; stroke-width: 1.0;\"/><polygon fill=\"#383838\" points=\"200.24,64,206.24,68,212.24,64,206.24,60,200.24,64\" style=\"stroke: #383838; stroke-width: 1.0;\"/></a><!--MD5=[3ddfaa83d2491b00308fa729eb1bd53a]\n",
       "@startuml\r\n",
       "left to right direction\r\n",
       "skinparam monochrome true\r\n",
       "skinparam classbackgroundcolor white\r\n",
       "skinparam shadowing false\r\n",
       "skinparam wrapWidth 300\r\n",
       "hide circle\r\n",
       "\r\n",
       "package \"ConnectionTest\" as E1  [[psysml:1fa0c0c0-6c41-491a-9601-36d7e4e40543 ]]  {\r\n",
       "comp usage \"p\" as E2  <<(T,blue)part>> [[psysml:5f85cf43-367b-49d0-8c6e-b9320e7aab66 ]] {\r\n",
       "}\r\n",
       "comp usage \"x\" as E3  <<(T,blue)part>> [[psysml:03220e95-b237-4532-8361-eb1844ca39e9 ]] {\r\n",
       "}\r\n",
       "comp def \"P\" as E4  <<(T,blue)part def>> [[psysml:deb35dd4-2c3a-4fce-b73d-f2bc7012e274 ]] {\r\n",
       "}\r\n",
       "comp usage \"y\" as E5  <<(T,blue)part>> [[psysml:021693d6-d6d0-45d3-85e9-0e056c3c99ea ]] {\r\n",
       "}\r\n",
       "comp usage \"p1\" as E6  <<(T,blue)part>> [[psysml:48ad0273-6ae0-4e72-b6eb-52596fa39c0f ]] {\r\n",
       "}\r\n",
       "comp usage \"x\" as E7  <<(T,blue)part>> [[psysml:3d476d3d-b46e-46da-94ef-54f71581d8bd ]] {\r\n",
       "}\r\n",
       "E2 *- - E3 [[psysml:03220e95-b237-4532-8361-eb1844ca39e9 ]] \r\n",
       "E4 *- - E5 [[psysml:021693d6-d6d0-45d3-85e9-0e056c3c99ea ]] \r\n",
       "E6 - -|> E2 [[psysml:9890fb32-dc37-43db-abbc-6177a2056fad ]] \r\n",
       "E4 *- - E6 [[psysml:48ad0273-6ae0-4e72-b6eb-52596fa39c0f ]] \r\n",
       "E7 - -||> E3 [[psysml:6e6cfa00-bc1f-4d19-92ba-1126ed543e13 ]] \r\n",
       "E6 *- - E7 [[psysml:3d476d3d-b46e-46da-94ef-54f71581d8bd ]] \r\n",
       "}\r\n",
       "@enduml\r\n",
       "\n",
       "PlantUML version 1.2020.13(Sat Jun 13 12:26:38 UTC 2020)\n",
       "(EPL source distribution)\n",
       "Java Runtime: OpenJDK Runtime Environment\n",
       "JVM: OpenJDK 64-Bit Server VM\n",
       "Default Encoding: UTF-8\n",
       "Language: en\n",
       "Country: null\n",
       "--></g></svg>"
      ]
     },
     "execution_count": 16,
     "metadata": {},
     "output_type": "execute_result"
    }
   ],
   "source": [
    "%viz --style=\"LR\" --view=\"Default\" \"ConnectionTest\""
   ]
  },
  {
   "cell_type": "code",
   "execution_count": 17,
   "id": "liberal-unemployment",
   "metadata": {
    "execution": {
     "iopub.execute_input": "2021-03-25T13:50:03.201665Z",
     "iopub.status.busy": "2021-03-25T13:50:03.201160Z",
     "iopub.status.idle": "2021-03-25T13:50:03.280795Z",
     "shell.execute_reply": "2021-03-25T13:50:03.280090Z"
    }
   },
   "outputs": [
    {
     "data": {
      "image/svg+xml": [
       "<?xml version=\"1.0\" encoding=\"UTF-8\" standalone=\"no\"?><svg xmlns=\"http://www.w3.org/2000/svg\" xmlns:xlink=\"http://www.w3.org/1999/xlink\" contentScriptType=\"application/ecmascript\" contentStyleType=\"text/css\" height=\"196px\" preserveAspectRatio=\"none\" style=\"width:442px;height:196px;\" version=\"1.1\" viewBox=\"0 0 442 196\" width=\"442px\" zoomAndPan=\"magnify\"><defs/><g><!--MD5=[fbc87193dbaf4d95561dea2c320d4a47]\n",
       "cluster E1--><a href=\"psysml:1fa0c0c0-6c41-491a-9601-36d7e4e40543\" target=\"_top\" title=\"psysml:1fa0c0c0-6c41-491a-9601-36d7e4e40543\" xlink:actuate=\"onRequest\" xlink:href=\"psysml:1fa0c0c0-6c41-491a-9601-36d7e4e40543\" xlink:show=\"new\" xlink:title=\"psysml:1fa0c0c0-6c41-491a-9601-36d7e4e40543\" xlink:type=\"simple\"><polygon fill=\"#FFFFFF\" points=\"16,6,147,6,154,28.2969,420,28.2969,420,184,16,184,16,6\" style=\"stroke: #000000; stroke-width: 1.5;\"/><line style=\"stroke: #000000; stroke-width: 1.5;\" x1=\"16\" x2=\"154\" y1=\"28.2969\" y2=\"28.2969\"/><text fill=\"#000000\" font-family=\"sans-serif\" font-size=\"14\" font-weight=\"bold\" lengthAdjust=\"spacingAndGlyphs\" textLength=\"125\" x=\"20\" y=\"20.9951\">ConnectionTest</text></a><!--MD5=[b4997ac47864f28c2f74865a473b2911]\n",
       "class E2--><a href=\"psysml:5f85cf43-367b-49d0-8c6e-b9320e7aab66\" target=\"_top\" title=\"psysml:5f85cf43-367b-49d0-8c6e-b9320e7aab66\" xlink:actuate=\"onRequest\" xlink:href=\"psysml:5f85cf43-367b-49d0-8c6e-b9320e7aab66\" xlink:show=\"new\" xlink:title=\"psysml:5f85cf43-367b-49d0-8c6e-b9320e7aab66\" xlink:type=\"simple\"><rect fill=\"#FFFFFF\" height=\"45.9375\" id=\"E2\" rx=\"10\" ry=\"10\" style=\"stroke: #383838; stroke-width: 1.5;\" width=\"42\" x=\"260\" y=\"122\"/><text fill=\"#000000\" font-family=\"sans-serif\" font-size=\"12\" font-style=\"italic\" lengthAdjust=\"spacingAndGlyphs\" textLength=\"40\" x=\"261\" y=\"138.1387\">«part»</text><text fill=\"#000000\" font-family=\"sans-serif\" font-size=\"12\" lengthAdjust=\"spacingAndGlyphs\" textLength=\"8\" x=\"277\" y=\"152.1074\">p</text><line style=\"stroke: #383838; stroke-width: 1.5;\" x1=\"261\" x2=\"301\" y1=\"159.9375\" y2=\"159.9375\"/></a><!--MD5=[09b614a08d8cba4a07c9adeb5e0fee81]\n",
       "class E3--><a href=\"psysml:03220e95-b237-4532-8361-eb1844ca39e9\" target=\"_top\" title=\"psysml:03220e95-b237-4532-8361-eb1844ca39e9\" xlink:actuate=\"onRequest\" xlink:href=\"psysml:03220e95-b237-4532-8361-eb1844ca39e9\" xlink:show=\"new\" xlink:title=\"psysml:03220e95-b237-4532-8361-eb1844ca39e9\" xlink:type=\"simple\"><rect fill=\"#FFFFFF\" height=\"45.9375\" id=\"E3\" rx=\"10\" ry=\"10\" style=\"stroke: #383838; stroke-width: 1.5;\" width=\"42\" x=\"362\" y=\"82\"/><text fill=\"#000000\" font-family=\"sans-serif\" font-size=\"12\" font-style=\"italic\" lengthAdjust=\"spacingAndGlyphs\" textLength=\"40\" x=\"363\" y=\"98.1387\">«part»</text><text fill=\"#000000\" font-family=\"sans-serif\" font-size=\"12\" lengthAdjust=\"spacingAndGlyphs\" textLength=\"6\" x=\"380\" y=\"112.1074\">x</text><line style=\"stroke: #383838; stroke-width: 1.5;\" x1=\"363\" x2=\"403\" y1=\"119.9375\" y2=\"119.9375\"/></a><!--MD5=[ebbe1d658d1005bcc118a6aa81145e00]\n",
       "class E4--><a href=\"psysml:deb35dd4-2c3a-4fce-b73d-f2bc7012e274\" target=\"_top\" title=\"psysml:deb35dd4-2c3a-4fce-b73d-f2bc7012e274\" xlink:actuate=\"onRequest\" xlink:href=\"psysml:deb35dd4-2c3a-4fce-b73d-f2bc7012e274\" xlink:show=\"new\" xlink:title=\"psysml:deb35dd4-2c3a-4fce-b73d-f2bc7012e274\" xlink:type=\"simple\"><rect fill=\"#FFFFFF\" height=\"45.9375\" id=\"E4\" style=\"stroke: #383838; stroke-width: 1.5;\" width=\"66\" x=\"32\" y=\"82\"/><text fill=\"#000000\" font-family=\"sans-serif\" font-size=\"12\" font-style=\"italic\" lengthAdjust=\"spacingAndGlyphs\" textLength=\"64\" x=\"33\" y=\"98.1387\">«part def»</text><text fill=\"#000000\" font-family=\"sans-serif\" font-size=\"12\" lengthAdjust=\"spacingAndGlyphs\" textLength=\"8\" x=\"61\" y=\"112.1074\">P</text><line style=\"stroke: #383838; stroke-width: 1.5;\" x1=\"33\" x2=\"97\" y1=\"119.9375\" y2=\"119.9375\"/></a><!--MD5=[270fce915f116d4de14055a7c1d9a0f3]\n",
       "class E5--><a href=\"psysml:021693d6-d6d0-45d3-85e9-0e056c3c99ea\" target=\"_top\" title=\"psysml:021693d6-d6d0-45d3-85e9-0e056c3c99ea\" xlink:actuate=\"onRequest\" xlink:href=\"psysml:021693d6-d6d0-45d3-85e9-0e056c3c99ea\" xlink:show=\"new\" xlink:title=\"psysml:021693d6-d6d0-45d3-85e9-0e056c3c99ea\" xlink:type=\"simple\"><rect fill=\"#FFFFFF\" height=\"45.9375\" id=\"E5\" rx=\"10\" ry=\"10\" style=\"stroke: #383838; stroke-width: 1.5;\" width=\"42\" x=\"158\" y=\"122\"/><text fill=\"#000000\" font-family=\"sans-serif\" font-size=\"12\" font-style=\"italic\" lengthAdjust=\"spacingAndGlyphs\" textLength=\"40\" x=\"159\" y=\"138.1387\">«part»</text><text fill=\"#000000\" font-family=\"sans-serif\" font-size=\"12\" lengthAdjust=\"spacingAndGlyphs\" textLength=\"6\" x=\"176\" y=\"152.1074\">y</text><line style=\"stroke: #383838; stroke-width: 1.5;\" x1=\"159\" x2=\"199\" y1=\"159.9375\" y2=\"159.9375\"/></a><!--MD5=[60a26617385b1d2d0262a64233df1f8d]\n",
       "class E6--><a href=\"psysml:48ad0273-6ae0-4e72-b6eb-52596fa39c0f\" target=\"_top\" title=\"psysml:48ad0273-6ae0-4e72-b6eb-52596fa39c0f\" xlink:actuate=\"onRequest\" xlink:href=\"psysml:48ad0273-6ae0-4e72-b6eb-52596fa39c0f\" xlink:show=\"new\" xlink:title=\"psysml:48ad0273-6ae0-4e72-b6eb-52596fa39c0f\" xlink:type=\"simple\"><rect fill=\"#FFFFFF\" height=\"45.9375\" id=\"E6\" rx=\"10\" ry=\"10\" style=\"stroke: #383838; stroke-width: 1.5;\" width=\"42\" x=\"158\" y=\"41\"/><text fill=\"#000000\" font-family=\"sans-serif\" font-size=\"12\" font-style=\"italic\" lengthAdjust=\"spacingAndGlyphs\" textLength=\"40\" x=\"159\" y=\"57.1387\">«part»</text><text fill=\"#000000\" font-family=\"sans-serif\" font-size=\"12\" lengthAdjust=\"spacingAndGlyphs\" textLength=\"16\" x=\"171\" y=\"71.1074\">p1</text><line style=\"stroke: #383838; stroke-width: 1.5;\" x1=\"159\" x2=\"199\" y1=\"78.9375\" y2=\"78.9375\"/></a><!--MD5=[2156ba9850f5573cc1fc38a6a4b2f02b]\n",
       "class E7--><a href=\"psysml:3d476d3d-b46e-46da-94ef-54f71581d8bd\" target=\"_top\" title=\"psysml:3d476d3d-b46e-46da-94ef-54f71581d8bd\" xlink:actuate=\"onRequest\" xlink:href=\"psysml:3d476d3d-b46e-46da-94ef-54f71581d8bd\" xlink:show=\"new\" xlink:title=\"psysml:3d476d3d-b46e-46da-94ef-54f71581d8bd\" xlink:type=\"simple\"><rect fill=\"#FFFFFF\" height=\"45.9375\" id=\"E7\" rx=\"10\" ry=\"10\" style=\"stroke: #383838; stroke-width: 1.5;\" width=\"42\" x=\"260\" y=\"41\"/><text fill=\"#000000\" font-family=\"sans-serif\" font-size=\"12\" font-style=\"italic\" lengthAdjust=\"spacingAndGlyphs\" textLength=\"40\" x=\"261\" y=\"57.1387\">«part»</text><text fill=\"#000000\" font-family=\"sans-serif\" font-size=\"12\" lengthAdjust=\"spacingAndGlyphs\" textLength=\"6\" x=\"278\" y=\"71.1074\">x</text><line style=\"stroke: #383838; stroke-width: 1.5;\" x1=\"261\" x2=\"301\" y1=\"78.9375\" y2=\"78.9375\"/></a><!--MD5=[209b3feb70ccb6233bfe1053d122c12c]\n",
       "reverse link E2 to E3--><a href=\"psysml:03220e95-b237-4532-8361-eb1844ca39e9\" target=\"_top\" title=\"psysml:03220e95-b237-4532-8361-eb1844ca39e9\" xlink:actuate=\"onRequest\" xlink:href=\"psysml:03220e95-b237-4532-8361-eb1844ca39e9\" xlink:show=\"new\" xlink:title=\"psysml:03220e95-b237-4532-8361-eb1844ca39e9\" xlink:type=\"simple\"><path d=\"M314.54,131.98 C330.11,125.76 348.25,118.5 361.79,113.08 \" fill=\"none\" id=\"E2&lt;-E3\" style=\"stroke: #383838; stroke-width: 1.0;\"/><polygon fill=\"#383838\" points=\"302.24,136.91,309.2964,138.3956,313.3817,132.4533,306.3253,130.9677,302.24,136.91\" style=\"stroke: #383838; stroke-width: 1.0;\"/></a><!--MD5=[62aa6af11e70f752912c1cb0466f24f7]\n",
       "reverse link E4 to E5--><a href=\"psysml:021693d6-d6d0-45d3-85e9-0e056c3c99ea\" target=\"_top\" title=\"psysml:021693d6-d6d0-45d3-85e9-0e056c3c99ea\" xlink:actuate=\"onRequest\" xlink:href=\"psysml:021693d6-d6d0-45d3-85e9-0e056c3c99ea\" xlink:show=\"new\" xlink:title=\"psysml:021693d6-d6d0-45d3-85e9-0e056c3c99ea\" xlink:type=\"simple\"><path d=\"M110.79,121 C127.12,126.83 144.77,133.13 157.89,137.82 \" fill=\"none\" id=\"E4&lt;-E5\" style=\"stroke: #383838; stroke-width: 1.0;\"/><polygon fill=\"#383838\" points=\"98.09,116.46,102.3955,122.2447,109.3912,120.4952,105.0857,114.7105,98.09,116.46\" style=\"stroke: #383838; stroke-width: 1.0;\"/></a><!--MD5=[2351f337d6de0f557b50152ba70847b5]\n",
       "link E6 to E2--><a href=\"psysml:9890fb32-dc37-43db-abbc-6177a2056fad\" target=\"_top\" title=\"psysml:9890fb32-dc37-43db-abbc-6177a2056fad\" xlink:actuate=\"onRequest\" xlink:href=\"psysml:9890fb32-dc37-43db-abbc-6177a2056fad\" xlink:show=\"new\" xlink:title=\"psysml:9890fb32-dc37-43db-abbc-6177a2056fad\" xlink:type=\"simple\"><path d=\"M200.24,80.39 C212.84,90.6 229.42,104.03 244.19,115.99 \" fill=\"none\" id=\"E6-&gt;E2\" style=\"stroke: #383838; stroke-width: 1.0;\"/><polygon fill=\"none\" points=\"248.66,110.6,259.79,128.63,239.85,121.48,248.66,110.6\" style=\"stroke: #383838; stroke-width: 1.0;\"/></a><!--MD5=[6db378b65e1aef66a01cb3103812b399]\n",
       "reverse link E4 to E6--><a href=\"psysml:48ad0273-6ae0-4e72-b6eb-52596fa39c0f\" target=\"_top\" title=\"psysml:48ad0273-6ae0-4e72-b6eb-52596fa39c0f\" xlink:actuate=\"onRequest\" xlink:href=\"psysml:48ad0273-6ae0-4e72-b6eb-52596fa39c0f\" xlink:show=\"new\" xlink:title=\"psysml:48ad0273-6ae0-4e72-b6eb-52596fa39c0f\" xlink:type=\"simple\"><path d=\"M110.31,88.78 C126.77,82.75 144.64,76.21 157.89,71.36 \" fill=\"none\" id=\"E4&lt;-E6\" style=\"stroke: #383838; stroke-width: 1.0;\"/><polygon fill=\"#383838\" points=\"98.09,93.25,105.1,94.9409,109.3571,89.1205,102.347,87.4296,98.09,93.25\" style=\"stroke: #383838; stroke-width: 1.0;\"/></a><!--MD5=[14ccda38c055a5c0da953d572bc50960]\n",
       "link E7 to E3--><a href=\"psysml:6e6cfa00-bc1f-4d19-92ba-1126ed543e13\" target=\"_top\" title=\"psysml:6e6cfa00-bc1f-4d19-92ba-1126ed543e13\" xlink:actuate=\"onRequest\" xlink:href=\"psysml:6e6cfa00-bc1f-4d19-92ba-1126ed543e13\" xlink:show=\"new\" xlink:title=\"psysml:6e6cfa00-bc1f-4d19-92ba-1126ed543e13\" xlink:type=\"simple\"><path d=\"M302.24,72.3 C313.89,77.08 328.94,83.25 342.82,88.94 \" fill=\"none\" id=\"E7-&gt;E3\" style=\"stroke: #383838; stroke-width: 1.0;\"/><polygon fill=\"#FFFFFF\" points=\"361.79,96.72,341.5546,95.9939,346.8624,83.0391,361.79,96.72\" style=\"stroke: #383838; stroke-width: 1.0;\"/><line style=\"stroke: #383838; stroke-width: 2.0;\" x1=\"338.0383\" x2=\"343.3461\" y1=\"94.5532\" y2=\"81.5984\"/></a><!--MD5=[3f50a3473f1dfb74d3f76443e03635af]\n",
       "reverse link E6 to E7--><a href=\"psysml:3d476d3d-b46e-46da-94ef-54f71581d8bd\" target=\"_top\" title=\"psysml:3d476d3d-b46e-46da-94ef-54f71581d8bd\" xlink:actuate=\"onRequest\" xlink:href=\"psysml:3d476d3d-b46e-46da-94ef-54f71581d8bd\" xlink:show=\"new\" xlink:title=\"psysml:3d476d3d-b46e-46da-94ef-54f71581d8bd\" xlink:type=\"simple\"><path d=\"M213.48,64 C228.83,64 246.52,64 259.79,64 \" fill=\"none\" id=\"E6&lt;-E7\" style=\"stroke: #383838; stroke-width: 1.0;\"/><polygon fill=\"#383838\" points=\"200.24,64,206.24,68,212.24,64,206.24,60,200.24,64\" style=\"stroke: #383838; stroke-width: 1.0;\"/></a><!--MD5=[3ddfaa83d2491b00308fa729eb1bd53a]\n",
       "@startuml\r\n",
       "left to right direction\r\n",
       "skinparam monochrome true\r\n",
       "skinparam classbackgroundcolor white\r\n",
       "skinparam shadowing false\r\n",
       "skinparam wrapWidth 300\r\n",
       "hide circle\r\n",
       "\r\n",
       "package \"ConnectionTest\" as E1  [[psysml:1fa0c0c0-6c41-491a-9601-36d7e4e40543 ]]  {\r\n",
       "comp usage \"p\" as E2  <<(T,blue)part>> [[psysml:5f85cf43-367b-49d0-8c6e-b9320e7aab66 ]] {\r\n",
       "}\r\n",
       "comp usage \"x\" as E3  <<(T,blue)part>> [[psysml:03220e95-b237-4532-8361-eb1844ca39e9 ]] {\r\n",
       "}\r\n",
       "comp def \"P\" as E4  <<(T,blue)part def>> [[psysml:deb35dd4-2c3a-4fce-b73d-f2bc7012e274 ]] {\r\n",
       "}\r\n",
       "comp usage \"y\" as E5  <<(T,blue)part>> [[psysml:021693d6-d6d0-45d3-85e9-0e056c3c99ea ]] {\r\n",
       "}\r\n",
       "comp usage \"p1\" as E6  <<(T,blue)part>> [[psysml:48ad0273-6ae0-4e72-b6eb-52596fa39c0f ]] {\r\n",
       "}\r\n",
       "comp usage \"x\" as E7  <<(T,blue)part>> [[psysml:3d476d3d-b46e-46da-94ef-54f71581d8bd ]] {\r\n",
       "}\r\n",
       "E2 *- - E3 [[psysml:03220e95-b237-4532-8361-eb1844ca39e9 ]] \r\n",
       "E4 *- - E5 [[psysml:021693d6-d6d0-45d3-85e9-0e056c3c99ea ]] \r\n",
       "E6 - -|> E2 [[psysml:9890fb32-dc37-43db-abbc-6177a2056fad ]] \r\n",
       "E4 *- - E6 [[psysml:48ad0273-6ae0-4e72-b6eb-52596fa39c0f ]] \r\n",
       "E7 - -||> E3 [[psysml:6e6cfa00-bc1f-4d19-92ba-1126ed543e13 ]] \r\n",
       "E6 *- - E7 [[psysml:3d476d3d-b46e-46da-94ef-54f71581d8bd ]] \r\n",
       "}\r\n",
       "@enduml\r\n",
       "\n",
       "PlantUML version 1.2020.13(Sat Jun 13 12:26:38 UTC 2020)\n",
       "(EPL source distribution)\n",
       "Java Runtime: OpenJDK Runtime Environment\n",
       "JVM: OpenJDK 64-Bit Server VM\n",
       "Default Encoding: UTF-8\n",
       "Language: en\n",
       "Country: null\n",
       "--></g></svg>"
      ]
     },
     "execution_count": 17,
     "metadata": {},
     "output_type": "execute_result"
    }
   ],
   "source": [
    "%viz --style=\"LR\" --view=\"Tree\" \"ConnectionTest\""
   ]
  },
  {
   "cell_type": "code",
   "execution_count": 18,
   "id": "pretty-collect",
   "metadata": {
    "execution": {
     "iopub.execute_input": "2021-03-25T13:50:03.330367Z",
     "iopub.status.busy": "2021-03-25T13:50:03.329678Z",
     "iopub.status.idle": "2021-03-25T13:50:03.336470Z",
     "shell.execute_reply": "2021-03-25T13:50:03.336091Z"
    }
   },
   "outputs": [
    {
     "data": {
      "image/svg+xml": [
       "<?xml version=\"1.0\" encoding=\"UTF-8\" standalone=\"no\"?><svg xmlns=\"http://www.w3.org/2000/svg\" xmlns:xlink=\"http://www.w3.org/1999/xlink\" contentScriptType=\"application/ecmascript\" contentStyleType=\"text/css\" height=\"12px\" preserveAspectRatio=\"none\" style=\"width:12px;height:12px;\" version=\"1.1\" viewBox=\"0 0 12 12\" width=\"12px\" zoomAndPan=\"magnify\"><defs/><g><!--MD5=[19d285c9d72a204eba4e2cd117d745e8]\n",
       "@startuml\r\n",
       "left to right direction\r\n",
       "skinparam monochrome true\r\n",
       "skinparam classbackgroundcolor white\r\n",
       "skinparam shadowing false\r\n",
       "skinparam wrapWidth 300\r\n",
       "hide circle\r\n",
       "\r\n",
       "@enduml\r\n",
       "\n",
       "PlantUML version 1.2020.13(Sat Jun 13 12:26:38 UTC 2020)\n",
       "(EPL source distribution)\n",
       "Java Runtime: OpenJDK Runtime Environment\n",
       "JVM: OpenJDK 64-Bit Server VM\n",
       "Default Encoding: UTF-8\n",
       "Language: en\n",
       "Country: null\n",
       "--></g></svg>"
      ]
     },
     "execution_count": 18,
     "metadata": {},
     "output_type": "execute_result"
    }
   ],
   "source": [
    "%viz --style=\"LR\" --view=\"State\" \"ConnectionTest\""
   ]
  },
  {
   "cell_type": "code",
   "execution_count": 19,
   "id": "changed-patrol",
   "metadata": {
    "execution": {
     "iopub.execute_input": "2021-03-25T13:50:03.387616Z",
     "iopub.status.busy": "2021-03-25T13:50:03.386910Z",
     "iopub.status.idle": "2021-03-25T13:50:03.469685Z",
     "shell.execute_reply": "2021-03-25T13:50:03.468216Z"
    }
   },
   "outputs": [
    {
     "data": {
      "image/svg+xml": [
       "<?xml version=\"1.0\" encoding=\"UTF-8\" standalone=\"no\"?><svg xmlns=\"http://www.w3.org/2000/svg\" xmlns:xlink=\"http://www.w3.org/1999/xlink\" contentScriptType=\"application/ecmascript\" contentStyleType=\"text/css\" height=\"429px\" preserveAspectRatio=\"none\" style=\"width:295px;height:429px;\" version=\"1.1\" viewBox=\"0 0 295 429\" width=\"295px\" zoomAndPan=\"magnify\"><defs/><g><!--MD5=[fbc87193dbaf4d95561dea2c320d4a47]\n",
       "cluster E1--><a href=\"psysml:1fa0c0c0-6c41-491a-9601-36d7e4e40543\" target=\"_top\" title=\"psysml:1fa0c0c0-6c41-491a-9601-36d7e4e40543\" xlink:actuate=\"onRequest\" xlink:href=\"psysml:1fa0c0c0-6c41-491a-9601-36d7e4e40543\" xlink:show=\"new\" xlink:title=\"psysml:1fa0c0c0-6c41-491a-9601-36d7e4e40543\" xlink:type=\"simple\"><polygon fill=\"#FFFFFF\" points=\"16,6,147,6,154,28.2969,273.5,28.2969,273.5,417,16,417,16,6\" style=\"stroke: #000000; stroke-width: 1.5;\"/><line style=\"stroke: #000000; stroke-width: 1.5;\" x1=\"16\" x2=\"154\" y1=\"28.2969\" y2=\"28.2969\"/><text fill=\"#000000\" font-family=\"sans-serif\" font-size=\"14\" font-weight=\"bold\" lengthAdjust=\"spacingAndGlyphs\" textLength=\"125\" x=\"20\" y=\"20.9951\">ConnectionTest</text></a><!--MD5=[e4f7fae6ed58524ba242bb0b0d3be6b7]\n",
       "cluster E2--><a href=\"psysml:5f85cf43-367b-49d0-8c6e-b9320e7aab66\" target=\"_top\" title=\"psysml:5f85cf43-367b-49d0-8c6e-b9320e7aab66\" xlink:actuate=\"onRequest\" xlink:href=\"psysml:5f85cf43-367b-49d0-8c6e-b9320e7aab66\" xlink:show=\"new\" xlink:title=\"psysml:5f85cf43-367b-49d0-8c6e-b9320e7aab66\" xlink:type=\"simple\"><rect fill=\"#FFFFFF\" height=\"126\" id=\"E2\" rx=\"10\" ry=\"10\" style=\"stroke: #383838; stroke-width: 1.5;\" width=\"98\" x=\"130\" y=\"57\"/><rect fill=\"#F8F8F8\" height=\"23.9688\" rx=\"10\" ry=\"10\" style=\"stroke: #F8F8F8; stroke-width: 1.5;\" width=\"98\" x=\"130\" y=\"57\"/><rect fill=\"#F8F8F8\" height=\"10\" style=\"stroke: #F8F8F8; stroke-width: 1.5;\" width=\"98\" x=\"130\" y=\"70.9688\"/><rect fill=\"none\" height=\"126\" id=\"E2\" rx=\"10\" ry=\"10\" style=\"stroke: #383838; stroke-width: 1.5;\" width=\"98\" x=\"130\" y=\"57\"/><text fill=\"#000000\" font-family=\"sans-serif\" font-size=\"12\" lengthAdjust=\"spacingAndGlyphs\" textLength=\"8\" x=\"175\" y=\"73.1387\">p</text><line style=\"stroke: #383838; stroke-width: 1.0;\" x1=\"130\" x2=\"228\" y1=\"80.9688\" y2=\"80.9688\"/></a><!--MD5=[f6df4d0ebaf0b5dfb2ced0ae5af7c670]\n",
       "cluster E4--><a href=\"psysml:deb35dd4-2c3a-4fce-b73d-f2bc7012e274\" target=\"_top\" title=\"psysml:deb35dd4-2c3a-4fce-b73d-f2bc7012e274\" xlink:actuate=\"onRequest\" xlink:href=\"psysml:deb35dd4-2c3a-4fce-b73d-f2bc7012e274\" xlink:show=\"new\" xlink:title=\"psysml:deb35dd4-2c3a-4fce-b73d-f2bc7012e274\" xlink:type=\"simple\"><rect fill=\"#FFFFFF\" height=\"178\" id=\"E4\" style=\"stroke: #383838; stroke-width: 1.5;\" width=\"209.5\" x=\"40\" y=\"215\"/><rect fill=\"#F8F8F8\" height=\"37.9375\" style=\"stroke: #383838; stroke-width: 1.5;\" width=\"209.5\" x=\"40\" y=\"215\"/><text fill=\"#000000\" font-family=\"sans-serif\" font-size=\"12\" font-style=\"italic\" lengthAdjust=\"spacingAndGlyphs\" textLength=\"64\" x=\"112.75\" y=\"231.1387\">«part def»</text><text fill=\"#000000\" font-family=\"sans-serif\" font-size=\"12\" lengthAdjust=\"spacingAndGlyphs\" textLength=\"8\" x=\"140.75\" y=\"245.1074\">P</text></a><!--MD5=[14e3b0961a2654348d326746436168a1]\n",
       "cluster E6--><a href=\"psysml:48ad0273-6ae0-4e72-b6eb-52596fa39c0f\" target=\"_top\" title=\"psysml:48ad0273-6ae0-4e72-b6eb-52596fa39c0f\" xlink:actuate=\"onRequest\" xlink:href=\"psysml:48ad0273-6ae0-4e72-b6eb-52596fa39c0f\" xlink:show=\"new\" xlink:title=\"psysml:48ad0273-6ae0-4e72-b6eb-52596fa39c0f\" xlink:type=\"simple\"><rect fill=\"#FFFFFF\" height=\"95\" id=\"E6\" rx=\"10\" ry=\"10\" style=\"stroke: #383838; stroke-width: 1.5;\" width=\"93\" x=\"132.5\" y=\"274\"/><rect fill=\"#F8F8F8\" height=\"23.9688\" rx=\"10\" ry=\"10\" style=\"stroke: #F8F8F8; stroke-width: 1.5;\" width=\"93\" x=\"132.5\" y=\"274\"/><rect fill=\"#F8F8F8\" height=\"10\" style=\"stroke: #F8F8F8; stroke-width: 1.5;\" width=\"93\" x=\"132.5\" y=\"287.9688\"/><rect fill=\"none\" height=\"95\" id=\"E6\" rx=\"10\" ry=\"10\" style=\"stroke: #383838; stroke-width: 1.5;\" width=\"93\" x=\"132.5\" y=\"274\"/><text fill=\"#000000\" font-family=\"sans-serif\" font-size=\"12\" lengthAdjust=\"spacingAndGlyphs\" textLength=\"16\" x=\"171\" y=\"290.1387\">p1</text><line style=\"stroke: #383838; stroke-width: 1.0;\" x1=\"132.5\" x2=\"225.5\" y1=\"297.9688\" y2=\"297.9688\"/></a><g id=\"E1.E2.E3\"><a href=\"psysml:03220e95-b237-4532-8361-eb1844ca39e9\" target=\"_top\" title=\"psysml:03220e95-b237-4532-8361-eb1844ca39e9\" xlink:actuate=\"onRequest\" xlink:href=\"psysml:03220e95-b237-4532-8361-eb1844ca39e9\" xlink:show=\"new\" xlink:title=\"psysml:03220e95-b237-4532-8361-eb1844ca39e9\" xlink:type=\"simple\"><rect fill=\"#FFFFFF\" height=\"40\" id=\"E3\" rx=\"10\" ry=\"10\" style=\"stroke: #383838; stroke-width: 1.5;\" width=\"50\" x=\"154\" y=\"100\"/><rect fill=\"#F8F8F8\" height=\"23.9688\" rx=\"10\" ry=\"10\" style=\"stroke: #F8F8F8; stroke-width: 1.5;\" width=\"50\" x=\"154\" y=\"100\"/><rect fill=\"#F8F8F8\" height=\"10\" style=\"stroke: #F8F8F8; stroke-width: 1.5;\" width=\"50\" x=\"154\" y=\"113.9688\"/><rect fill=\"none\" height=\"40\" id=\"E3\" rx=\"10\" ry=\"10\" style=\"stroke: #383838; stroke-width: 1.5;\" width=\"50\" x=\"154\" y=\"100\"/><text fill=\"#000000\" font-family=\"sans-serif\" font-size=\"12\" lengthAdjust=\"spacingAndGlyphs\" textLength=\"6\" x=\"176\" y=\"116.1387\">x</text></a></g><g id=\"E1.E4.E5\"><a href=\"psysml:021693d6-d6d0-45d3-85e9-0e056c3c99ea\" target=\"_top\" title=\"psysml:021693d6-d6d0-45d3-85e9-0e056c3c99ea\" xlink:actuate=\"onRequest\" xlink:href=\"psysml:021693d6-d6d0-45d3-85e9-0e056c3c99ea\" xlink:show=\"new\" xlink:title=\"psysml:021693d6-d6d0-45d3-85e9-0e056c3c99ea\" xlink:type=\"simple\"><rect fill=\"#FFFFFF\" height=\"40\" id=\"E5\" rx=\"10\" ry=\"10\" style=\"stroke: #383838; stroke-width: 1.5;\" width=\"50\" x=\"56\" y=\"289\"/><rect fill=\"#F8F8F8\" height=\"23.9688\" rx=\"10\" ry=\"10\" style=\"stroke: #F8F8F8; stroke-width: 1.5;\" width=\"50\" x=\"56\" y=\"289\"/><rect fill=\"#F8F8F8\" height=\"10\" style=\"stroke: #F8F8F8; stroke-width: 1.5;\" width=\"50\" x=\"56\" y=\"302.9688\"/><rect fill=\"none\" height=\"40\" id=\"E5\" rx=\"10\" ry=\"10\" style=\"stroke: #383838; stroke-width: 1.5;\" width=\"50\" x=\"56\" y=\"289\"/><text fill=\"#000000\" font-family=\"sans-serif\" font-size=\"12\" lengthAdjust=\"spacingAndGlyphs\" textLength=\"6\" x=\"78\" y=\"305.1387\">y</text></a></g><g id=\"E1.E4.E6.E7\"><a href=\"psysml:3d476d3d-b46e-46da-94ef-54f71581d8bd\" target=\"_top\" title=\"psysml:3d476d3d-b46e-46da-94ef-54f71581d8bd\" xlink:actuate=\"onRequest\" xlink:href=\"psysml:3d476d3d-b46e-46da-94ef-54f71581d8bd\" xlink:show=\"new\" xlink:title=\"psysml:3d476d3d-b46e-46da-94ef-54f71581d8bd\" xlink:type=\"simple\"><rect fill=\"#FFFFFF\" height=\"42.9375\" id=\"E7\" rx=\"10\" ry=\"10\" style=\"stroke: #383838; stroke-width: 1.5;\" width=\"61\" x=\"148.5\" y=\"309.5\"/><rect fill=\"#F8F8F8\" height=\"37.9375\" rx=\"10\" ry=\"10\" style=\"stroke: #F8F8F8; stroke-width: 1.5;\" width=\"61\" x=\"148.5\" y=\"309.5\"/><rect fill=\"#F8F8F8\" height=\"10\" style=\"stroke: #F8F8F8; stroke-width: 1.5;\" width=\"61\" x=\"148.5\" y=\"337.4375\"/><rect fill=\"none\" height=\"42.9375\" id=\"E7\" rx=\"10\" ry=\"10\" style=\"stroke: #383838; stroke-width: 1.5;\" width=\"61\" x=\"148.5\" y=\"309.5\"/><text fill=\"#000000\" font-family=\"sans-serif\" font-size=\"12\" lengthAdjust=\"spacingAndGlyphs\" textLength=\"6\" x=\"176\" y=\"325.6387\">x</text><text fill=\"#000000\" font-family=\"sans-serif\" font-size=\"12\" font-style=\"italic\" lengthAdjust=\"spacingAndGlyphs\" textLength=\"46\" x=\"154\" y=\"339.6074\">:&gt;&gt;p::x</text><text fill=\"#000000\" font-family=\"sans-serif\" font-size=\"12\" lengthAdjust=\"spacingAndGlyphs\" textLength=\"0\" x=\"204\" y=\"339.6074\"/></a></g><!--MD5=[15ebcb19ae302d9b601edb458606d402]\n",
       "link E5 to E2--><a href=\"psysml:a2e30144-7cbb-4348-81c9-870149c1f1e3\" target=\"_top\" title=\"psysml:a2e30144-7cbb-4348-81c9-870149c1f1e3\" xlink:actuate=\"onRequest\" xlink:href=\"psysml:a2e30144-7cbb-4348-81c9-870149c1f1e3\" xlink:show=\"new\" xlink:title=\"psysml:a2e30144-7cbb-4348-81c9-870149c1f1e3\" xlink:type=\"simple\"><path d=\"M96.37,288.94 C109.55,270.54 129.53,242.65 146.4237,219.07 C154.8706,207.28 162.5459,196.5675 168.2139,188.6575 C169.6309,186.68 170.9224,184.8777 172.0692,183.2774 \" fill=\"none\" id=\"E5-E2\" style=\"stroke: #383838; stroke-width: 3.0;\"/></a><!--MD5=[3a9b96bfbf6b6ad89c494e81751bda47]\n",
       "link E5 to E7--><a href=\"psysml:81751fd3-19d9-42b1-be5d-d1a292525231\" target=\"_top\" title=\"psysml:81751fd3-19d9-42b1-be5d-d1a292525231\" xlink:actuate=\"onRequest\" xlink:href=\"psysml:81751fd3-19d9-42b1-be5d-d1a292525231\" xlink:show=\"new\" xlink:title=\"psysml:81751fd3-19d9-42b1-be5d-d1a292525231\" xlink:type=\"simple\"><path d=\"M106.22,314.55 C119,317.48 134.78,321.1 148.29,324.19 \" fill=\"none\" id=\"E5-E7\" style=\"stroke: #383838; stroke-width: 3.0;\"/></a><!--MD5=[019db8dfc7814c8a447a54cf4bb7637e]\n",
       "@startuml\r\n",
       "skinparam ranksep 8\r\n",
       "skinparam rectangle {\r\n",
       " backgroundColor<<block>> LightGreen\r\n",
       "}\r\n",
       "left to right direction\r\n",
       "skinparam monochrome true\r\n",
       "skinparam classbackgroundcolor white\r\n",
       "skinparam shadowing false\r\n",
       "skinparam wrapWidth 300\r\n",
       "hide circle\r\n",
       "\r\n",
       "package \"ConnectionTest\" as E1  [[psysml:1fa0c0c0-6c41-491a-9601-36d7e4e40543 ]]  {\r\n",
       "rec usage \"p\" as E2  [[psysml:5f85cf43-367b-49d0-8c6e-b9320e7aab66 ]] {\r\n",
       "rec usage \"x\" as E3  [[psysml:03220e95-b237-4532-8361-eb1844ca39e9 ]] {\r\n",
       "}\r\n",
       "}\r\n",
       "rec def \"P\" as E4  <<(T,blue)part def>> [[psysml:deb35dd4-2c3a-4fce-b73d-f2bc7012e274 ]] {\r\n",
       "rec usage \"y\" as E5  [[psysml:021693d6-d6d0-45d3-85e9-0e056c3c99ea ]] {\r\n",
       "}\r\n",
       "rec usage \"p1\" as E6  [[psysml:48ad0273-6ae0-4e72-b6eb-52596fa39c0f ]] {\r\n",
       "rec usage \"x\\n//:>>p::x// \" as E7  [[psysml:3d476d3d-b46e-46da-94ef-54f71581d8bd ]] {\r\n",
       "}\r\n",
       "}\r\n",
       "}\r\n",
       "E5 -[thickness=3]- E2 [[psysml:a2e30144-7cbb-4348-81c9-870149c1f1e3 ]] \r\n",
       "E5 -[thickness=3]- E7 [[psysml:81751fd3-19d9-42b1-be5d-d1a292525231 ]] \r\n",
       "}\r\n",
       "@enduml\r\n",
       "\n",
       "PlantUML version 1.2020.13(Sat Jun 13 12:26:38 UTC 2020)\n",
       "(EPL source distribution)\n",
       "Java Runtime: OpenJDK Runtime Environment\n",
       "JVM: OpenJDK 64-Bit Server VM\n",
       "Default Encoding: UTF-8\n",
       "Language: en\n",
       "Country: null\n",
       "--></g></svg>"
      ]
     },
     "execution_count": 19,
     "metadata": {},
     "output_type": "execute_result"
    }
   ],
   "source": [
    "%viz --style=\"LR\" --view=\"Interconnection\" \"ConnectionTest\""
   ]
  },
  {
   "cell_type": "code",
   "execution_count": 20,
   "id": "amateur-positive",
   "metadata": {
    "execution": {
     "iopub.execute_input": "2021-03-25T13:50:03.521981Z",
     "iopub.status.busy": "2021-03-25T13:50:03.521266Z",
     "iopub.status.idle": "2021-03-25T13:50:03.529411Z",
     "shell.execute_reply": "2021-03-25T13:50:03.529788Z"
    }
   },
   "outputs": [
    {
     "data": {
      "image/svg+xml": [
       "<?xml version=\"1.0\" encoding=\"UTF-8\" standalone=\"no\"?><svg xmlns=\"http://www.w3.org/2000/svg\" xmlns:xlink=\"http://www.w3.org/1999/xlink\" contentScriptType=\"application/ecmascript\" contentStyleType=\"text/css\" height=\"12px\" preserveAspectRatio=\"none\" style=\"width:12px;height:12px;\" version=\"1.1\" viewBox=\"0 0 12 12\" width=\"12px\" zoomAndPan=\"magnify\"><defs/><g><!--MD5=[7aeb398939421629f6affaa4a1a7b125]\n",
       "@startuml\r\n",
       "skinparam ranksep 8\r\n",
       "left to right direction\r\n",
       "skinparam monochrome true\r\n",
       "skinparam classbackgroundcolor white\r\n",
       "skinparam shadowing false\r\n",
       "skinparam wrapWidth 300\r\n",
       "hide circle\r\n",
       "\r\n",
       "@enduml\r\n",
       "\n",
       "PlantUML version 1.2020.13(Sat Jun 13 12:26:38 UTC 2020)\n",
       "(EPL source distribution)\n",
       "Java Runtime: OpenJDK Runtime Environment\n",
       "JVM: OpenJDK 64-Bit Server VM\n",
       "Default Encoding: UTF-8\n",
       "Language: en\n",
       "Country: null\n",
       "--></g></svg>"
      ]
     },
     "execution_count": 20,
     "metadata": {},
     "output_type": "execute_result"
    }
   ],
   "source": [
    "%viz --style=\"LR\" --view=\"Action\" \"ConnectionTest\""
   ]
  },
  {
   "cell_type": "code",
   "execution_count": 21,
   "id": "signed-special",
   "metadata": {
    "execution": {
     "iopub.execute_input": "2021-03-25T13:50:03.581363Z",
     "iopub.status.busy": "2021-03-25T13:50:03.580724Z",
     "iopub.status.idle": "2021-03-25T13:50:03.656814Z",
     "shell.execute_reply": "2021-03-25T13:50:03.657668Z"
    }
   },
   "outputs": [
    {
     "data": {
      "image/svg+xml": [
       "<?xml version=\"1.0\" encoding=\"UTF-8\" standalone=\"no\"?><svg xmlns=\"http://www.w3.org/2000/svg\" xmlns:xlink=\"http://www.w3.org/1999/xlink\" contentScriptType=\"application/ecmascript\" contentStyleType=\"text/css\" height=\"196px\" preserveAspectRatio=\"none\" style=\"width:442px;height:196px;\" version=\"1.1\" viewBox=\"0 0 442 196\" width=\"442px\" zoomAndPan=\"magnify\"><defs/><g><!--MD5=[fbc87193dbaf4d95561dea2c320d4a47]\n",
       "cluster E1--><a href=\"psysml:1fa0c0c0-6c41-491a-9601-36d7e4e40543\" target=\"_top\" title=\"psysml:1fa0c0c0-6c41-491a-9601-36d7e4e40543\" xlink:actuate=\"onRequest\" xlink:href=\"psysml:1fa0c0c0-6c41-491a-9601-36d7e4e40543\" xlink:show=\"new\" xlink:title=\"psysml:1fa0c0c0-6c41-491a-9601-36d7e4e40543\" xlink:type=\"simple\"><polygon fill=\"#FFFFFF\" points=\"16,6,147,6,154,28.2969,420,28.2969,420,184,16,184,16,6\" style=\"stroke: #000000; stroke-width: 1.5;\"/><line style=\"stroke: #000000; stroke-width: 1.5;\" x1=\"16\" x2=\"154\" y1=\"28.2969\" y2=\"28.2969\"/><text fill=\"#000000\" font-family=\"sans-serif\" font-size=\"14\" font-weight=\"bold\" lengthAdjust=\"spacingAndGlyphs\" textLength=\"125\" x=\"20\" y=\"20.9951\">ConnectionTest</text></a><!--MD5=[b4997ac47864f28c2f74865a473b2911]\n",
       "class E2--><a href=\"psysml:5f85cf43-367b-49d0-8c6e-b9320e7aab66\" target=\"_top\" title=\"psysml:5f85cf43-367b-49d0-8c6e-b9320e7aab66\" xlink:actuate=\"onRequest\" xlink:href=\"psysml:5f85cf43-367b-49d0-8c6e-b9320e7aab66\" xlink:show=\"new\" xlink:title=\"psysml:5f85cf43-367b-49d0-8c6e-b9320e7aab66\" xlink:type=\"simple\"><rect fill=\"#FFFFFF\" height=\"45.9375\" id=\"E2\" rx=\"10\" ry=\"10\" style=\"stroke: #383838; stroke-width: 1.5;\" width=\"42\" x=\"260\" y=\"122\"/><text fill=\"#000000\" font-family=\"sans-serif\" font-size=\"12\" font-style=\"italic\" lengthAdjust=\"spacingAndGlyphs\" textLength=\"40\" x=\"261\" y=\"138.1387\">«part»</text><text fill=\"#000000\" font-family=\"sans-serif\" font-size=\"12\" lengthAdjust=\"spacingAndGlyphs\" textLength=\"8\" x=\"277\" y=\"152.1074\">p</text><line style=\"stroke: #383838; stroke-width: 1.5;\" x1=\"261\" x2=\"301\" y1=\"159.9375\" y2=\"159.9375\"/></a><!--MD5=[09b614a08d8cba4a07c9adeb5e0fee81]\n",
       "class E3--><a href=\"psysml:03220e95-b237-4532-8361-eb1844ca39e9\" target=\"_top\" title=\"psysml:03220e95-b237-4532-8361-eb1844ca39e9\" xlink:actuate=\"onRequest\" xlink:href=\"psysml:03220e95-b237-4532-8361-eb1844ca39e9\" xlink:show=\"new\" xlink:title=\"psysml:03220e95-b237-4532-8361-eb1844ca39e9\" xlink:type=\"simple\"><rect fill=\"#FFFFFF\" height=\"45.9375\" id=\"E3\" rx=\"10\" ry=\"10\" style=\"stroke: #383838; stroke-width: 1.5;\" width=\"42\" x=\"362\" y=\"82\"/><text fill=\"#000000\" font-family=\"sans-serif\" font-size=\"12\" font-style=\"italic\" lengthAdjust=\"spacingAndGlyphs\" textLength=\"40\" x=\"363\" y=\"98.1387\">«part»</text><text fill=\"#000000\" font-family=\"sans-serif\" font-size=\"12\" lengthAdjust=\"spacingAndGlyphs\" textLength=\"6\" x=\"380\" y=\"112.1074\">x</text><line style=\"stroke: #383838; stroke-width: 1.5;\" x1=\"363\" x2=\"403\" y1=\"119.9375\" y2=\"119.9375\"/></a><!--MD5=[ebbe1d658d1005bcc118a6aa81145e00]\n",
       "class E4--><a href=\"psysml:deb35dd4-2c3a-4fce-b73d-f2bc7012e274\" target=\"_top\" title=\"psysml:deb35dd4-2c3a-4fce-b73d-f2bc7012e274\" xlink:actuate=\"onRequest\" xlink:href=\"psysml:deb35dd4-2c3a-4fce-b73d-f2bc7012e274\" xlink:show=\"new\" xlink:title=\"psysml:deb35dd4-2c3a-4fce-b73d-f2bc7012e274\" xlink:type=\"simple\"><rect fill=\"#FFFFFF\" height=\"45.9375\" id=\"E4\" style=\"stroke: #383838; stroke-width: 1.5;\" width=\"66\" x=\"32\" y=\"82\"/><text fill=\"#000000\" font-family=\"sans-serif\" font-size=\"12\" font-style=\"italic\" lengthAdjust=\"spacingAndGlyphs\" textLength=\"64\" x=\"33\" y=\"98.1387\">«part def»</text><text fill=\"#000000\" font-family=\"sans-serif\" font-size=\"12\" lengthAdjust=\"spacingAndGlyphs\" textLength=\"8\" x=\"61\" y=\"112.1074\">P</text><line style=\"stroke: #383838; stroke-width: 1.5;\" x1=\"33\" x2=\"97\" y1=\"119.9375\" y2=\"119.9375\"/></a><!--MD5=[270fce915f116d4de14055a7c1d9a0f3]\n",
       "class E5--><a href=\"psysml:021693d6-d6d0-45d3-85e9-0e056c3c99ea\" target=\"_top\" title=\"psysml:021693d6-d6d0-45d3-85e9-0e056c3c99ea\" xlink:actuate=\"onRequest\" xlink:href=\"psysml:021693d6-d6d0-45d3-85e9-0e056c3c99ea\" xlink:show=\"new\" xlink:title=\"psysml:021693d6-d6d0-45d3-85e9-0e056c3c99ea\" xlink:type=\"simple\"><rect fill=\"#FFFFFF\" height=\"45.9375\" id=\"E5\" rx=\"10\" ry=\"10\" style=\"stroke: #383838; stroke-width: 1.5;\" width=\"42\" x=\"158\" y=\"122\"/><text fill=\"#000000\" font-family=\"sans-serif\" font-size=\"12\" font-style=\"italic\" lengthAdjust=\"spacingAndGlyphs\" textLength=\"40\" x=\"159\" y=\"138.1387\">«part»</text><text fill=\"#000000\" font-family=\"sans-serif\" font-size=\"12\" lengthAdjust=\"spacingAndGlyphs\" textLength=\"6\" x=\"176\" y=\"152.1074\">y</text><line style=\"stroke: #383838; stroke-width: 1.5;\" x1=\"159\" x2=\"199\" y1=\"159.9375\" y2=\"159.9375\"/></a><!--MD5=[60a26617385b1d2d0262a64233df1f8d]\n",
       "class E6--><a href=\"psysml:48ad0273-6ae0-4e72-b6eb-52596fa39c0f\" target=\"_top\" title=\"psysml:48ad0273-6ae0-4e72-b6eb-52596fa39c0f\" xlink:actuate=\"onRequest\" xlink:href=\"psysml:48ad0273-6ae0-4e72-b6eb-52596fa39c0f\" xlink:show=\"new\" xlink:title=\"psysml:48ad0273-6ae0-4e72-b6eb-52596fa39c0f\" xlink:type=\"simple\"><rect fill=\"#FFFFFF\" height=\"45.9375\" id=\"E6\" rx=\"10\" ry=\"10\" style=\"stroke: #383838; stroke-width: 1.5;\" width=\"42\" x=\"158\" y=\"41\"/><text fill=\"#000000\" font-family=\"sans-serif\" font-size=\"12\" font-style=\"italic\" lengthAdjust=\"spacingAndGlyphs\" textLength=\"40\" x=\"159\" y=\"57.1387\">«part»</text><text fill=\"#000000\" font-family=\"sans-serif\" font-size=\"12\" lengthAdjust=\"spacingAndGlyphs\" textLength=\"16\" x=\"171\" y=\"71.1074\">p1</text><line style=\"stroke: #383838; stroke-width: 1.5;\" x1=\"159\" x2=\"199\" y1=\"78.9375\" y2=\"78.9375\"/></a><!--MD5=[2156ba9850f5573cc1fc38a6a4b2f02b]\n",
       "class E7--><a href=\"psysml:3d476d3d-b46e-46da-94ef-54f71581d8bd\" target=\"_top\" title=\"psysml:3d476d3d-b46e-46da-94ef-54f71581d8bd\" xlink:actuate=\"onRequest\" xlink:href=\"psysml:3d476d3d-b46e-46da-94ef-54f71581d8bd\" xlink:show=\"new\" xlink:title=\"psysml:3d476d3d-b46e-46da-94ef-54f71581d8bd\" xlink:type=\"simple\"><rect fill=\"#FFFFFF\" height=\"45.9375\" id=\"E7\" rx=\"10\" ry=\"10\" style=\"stroke: #383838; stroke-width: 1.5;\" width=\"42\" x=\"260\" y=\"41\"/><text fill=\"#000000\" font-family=\"sans-serif\" font-size=\"12\" font-style=\"italic\" lengthAdjust=\"spacingAndGlyphs\" textLength=\"40\" x=\"261\" y=\"57.1387\">«part»</text><text fill=\"#000000\" font-family=\"sans-serif\" font-size=\"12\" lengthAdjust=\"spacingAndGlyphs\" textLength=\"6\" x=\"278\" y=\"71.1074\">x</text><line style=\"stroke: #383838; stroke-width: 1.5;\" x1=\"261\" x2=\"301\" y1=\"78.9375\" y2=\"78.9375\"/></a><!--MD5=[209b3feb70ccb6233bfe1053d122c12c]\n",
       "reverse link E2 to E3--><a href=\"psysml:03220e95-b237-4532-8361-eb1844ca39e9\" target=\"_top\" title=\"psysml:03220e95-b237-4532-8361-eb1844ca39e9\" xlink:actuate=\"onRequest\" xlink:href=\"psysml:03220e95-b237-4532-8361-eb1844ca39e9\" xlink:show=\"new\" xlink:title=\"psysml:03220e95-b237-4532-8361-eb1844ca39e9\" xlink:type=\"simple\"><path d=\"M314.54,131.98 C330.11,125.76 348.25,118.5 361.79,113.08 \" fill=\"none\" id=\"E2&lt;-E3\" style=\"stroke: #383838; stroke-width: 1.0;\"/><polygon fill=\"#383838\" points=\"302.24,136.91,309.2964,138.3956,313.3817,132.4533,306.3253,130.9677,302.24,136.91\" style=\"stroke: #383838; stroke-width: 1.0;\"/></a><!--MD5=[62aa6af11e70f752912c1cb0466f24f7]\n",
       "reverse link E4 to E5--><a href=\"psysml:021693d6-d6d0-45d3-85e9-0e056c3c99ea\" target=\"_top\" title=\"psysml:021693d6-d6d0-45d3-85e9-0e056c3c99ea\" xlink:actuate=\"onRequest\" xlink:href=\"psysml:021693d6-d6d0-45d3-85e9-0e056c3c99ea\" xlink:show=\"new\" xlink:title=\"psysml:021693d6-d6d0-45d3-85e9-0e056c3c99ea\" xlink:type=\"simple\"><path d=\"M110.79,121 C127.12,126.83 144.77,133.13 157.89,137.82 \" fill=\"none\" id=\"E4&lt;-E5\" style=\"stroke: #383838; stroke-width: 1.0;\"/><polygon fill=\"#383838\" points=\"98.09,116.46,102.3955,122.2447,109.3912,120.4952,105.0857,114.7105,98.09,116.46\" style=\"stroke: #383838; stroke-width: 1.0;\"/></a><!--MD5=[2351f337d6de0f557b50152ba70847b5]\n",
       "link E6 to E2--><a href=\"psysml:9890fb32-dc37-43db-abbc-6177a2056fad\" target=\"_top\" title=\"psysml:9890fb32-dc37-43db-abbc-6177a2056fad\" xlink:actuate=\"onRequest\" xlink:href=\"psysml:9890fb32-dc37-43db-abbc-6177a2056fad\" xlink:show=\"new\" xlink:title=\"psysml:9890fb32-dc37-43db-abbc-6177a2056fad\" xlink:type=\"simple\"><path d=\"M200.24,80.39 C212.84,90.6 229.42,104.03 244.19,115.99 \" fill=\"none\" id=\"E6-&gt;E2\" style=\"stroke: #383838; stroke-width: 1.0;\"/><polygon fill=\"none\" points=\"248.66,110.6,259.79,128.63,239.85,121.48,248.66,110.6\" style=\"stroke: #383838; stroke-width: 1.0;\"/></a><!--MD5=[6db378b65e1aef66a01cb3103812b399]\n",
       "reverse link E4 to E6--><a href=\"psysml:48ad0273-6ae0-4e72-b6eb-52596fa39c0f\" target=\"_top\" title=\"psysml:48ad0273-6ae0-4e72-b6eb-52596fa39c0f\" xlink:actuate=\"onRequest\" xlink:href=\"psysml:48ad0273-6ae0-4e72-b6eb-52596fa39c0f\" xlink:show=\"new\" xlink:title=\"psysml:48ad0273-6ae0-4e72-b6eb-52596fa39c0f\" xlink:type=\"simple\"><path d=\"M110.31,88.78 C126.77,82.75 144.64,76.21 157.89,71.36 \" fill=\"none\" id=\"E4&lt;-E6\" style=\"stroke: #383838; stroke-width: 1.0;\"/><polygon fill=\"#383838\" points=\"98.09,93.25,105.1,94.9409,109.3571,89.1205,102.347,87.4296,98.09,93.25\" style=\"stroke: #383838; stroke-width: 1.0;\"/></a><!--MD5=[14ccda38c055a5c0da953d572bc50960]\n",
       "link E7 to E3--><a href=\"psysml:6e6cfa00-bc1f-4d19-92ba-1126ed543e13\" target=\"_top\" title=\"psysml:6e6cfa00-bc1f-4d19-92ba-1126ed543e13\" xlink:actuate=\"onRequest\" xlink:href=\"psysml:6e6cfa00-bc1f-4d19-92ba-1126ed543e13\" xlink:show=\"new\" xlink:title=\"psysml:6e6cfa00-bc1f-4d19-92ba-1126ed543e13\" xlink:type=\"simple\"><path d=\"M302.24,72.3 C313.89,77.08 328.94,83.25 342.82,88.94 \" fill=\"none\" id=\"E7-&gt;E3\" style=\"stroke: #383838; stroke-width: 1.0;\"/><polygon fill=\"#FFFFFF\" points=\"361.79,96.72,341.5546,95.9939,346.8624,83.0391,361.79,96.72\" style=\"stroke: #383838; stroke-width: 1.0;\"/><line style=\"stroke: #383838; stroke-width: 2.0;\" x1=\"338.0383\" x2=\"343.3461\" y1=\"94.5532\" y2=\"81.5984\"/></a><!--MD5=[3f50a3473f1dfb74d3f76443e03635af]\n",
       "reverse link E6 to E7--><a href=\"psysml:3d476d3d-b46e-46da-94ef-54f71581d8bd\" target=\"_top\" title=\"psysml:3d476d3d-b46e-46da-94ef-54f71581d8bd\" xlink:actuate=\"onRequest\" xlink:href=\"psysml:3d476d3d-b46e-46da-94ef-54f71581d8bd\" xlink:show=\"new\" xlink:title=\"psysml:3d476d3d-b46e-46da-94ef-54f71581d8bd\" xlink:type=\"simple\"><path d=\"M213.48,64 C228.83,64 246.52,64 259.79,64 \" fill=\"none\" id=\"E6&lt;-E7\" style=\"stroke: #383838; stroke-width: 1.0;\"/><polygon fill=\"#383838\" points=\"200.24,64,206.24,68,212.24,64,206.24,60,200.24,64\" style=\"stroke: #383838; stroke-width: 1.0;\"/></a><!--MD5=[3ddfaa83d2491b00308fa729eb1bd53a]\n",
       "@startuml\r\n",
       "left to right direction\r\n",
       "skinparam monochrome true\r\n",
       "skinparam classbackgroundcolor white\r\n",
       "skinparam shadowing false\r\n",
       "skinparam wrapWidth 300\r\n",
       "hide circle\r\n",
       "\r\n",
       "package \"ConnectionTest\" as E1  [[psysml:1fa0c0c0-6c41-491a-9601-36d7e4e40543 ]]  {\r\n",
       "comp usage \"p\" as E2  <<(T,blue)part>> [[psysml:5f85cf43-367b-49d0-8c6e-b9320e7aab66 ]] {\r\n",
       "}\r\n",
       "comp usage \"x\" as E3  <<(T,blue)part>> [[psysml:03220e95-b237-4532-8361-eb1844ca39e9 ]] {\r\n",
       "}\r\n",
       "comp def \"P\" as E4  <<(T,blue)part def>> [[psysml:deb35dd4-2c3a-4fce-b73d-f2bc7012e274 ]] {\r\n",
       "}\r\n",
       "comp usage \"y\" as E5  <<(T,blue)part>> [[psysml:021693d6-d6d0-45d3-85e9-0e056c3c99ea ]] {\r\n",
       "}\r\n",
       "comp usage \"p1\" as E6  <<(T,blue)part>> [[psysml:48ad0273-6ae0-4e72-b6eb-52596fa39c0f ]] {\r\n",
       "}\r\n",
       "comp usage \"x\" as E7  <<(T,blue)part>> [[psysml:3d476d3d-b46e-46da-94ef-54f71581d8bd ]] {\r\n",
       "}\r\n",
       "E2 *- - E3 [[psysml:03220e95-b237-4532-8361-eb1844ca39e9 ]] \r\n",
       "E4 *- - E5 [[psysml:021693d6-d6d0-45d3-85e9-0e056c3c99ea ]] \r\n",
       "E6 - -|> E2 [[psysml:9890fb32-dc37-43db-abbc-6177a2056fad ]] \r\n",
       "E4 *- - E6 [[psysml:48ad0273-6ae0-4e72-b6eb-52596fa39c0f ]] \r\n",
       "E7 - -||> E3 [[psysml:6e6cfa00-bc1f-4d19-92ba-1126ed543e13 ]] \r\n",
       "E6 *- - E7 [[psysml:3d476d3d-b46e-46da-94ef-54f71581d8bd ]] \r\n",
       "}\r\n",
       "@enduml\r\n",
       "\n",
       "PlantUML version 1.2020.13(Sat Jun 13 12:26:38 UTC 2020)\n",
       "(EPL source distribution)\n",
       "Java Runtime: OpenJDK Runtime Environment\n",
       "JVM: OpenJDK 64-Bit Server VM\n",
       "Default Encoding: UTF-8\n",
       "Language: en\n",
       "Country: null\n",
       "--></g></svg>"
      ]
     },
     "execution_count": 21,
     "metadata": {},
     "output_type": "execute_result"
    }
   ],
   "source": [
    "%viz --style=\"LR\" --view=\"Sequence\" \"ConnectionTest\""
   ]
  },
  {
   "cell_type": "code",
   "execution_count": 22,
   "id": "medieval-cable",
   "metadata": {
    "execution": {
     "iopub.execute_input": "2021-03-25T13:50:03.707427Z",
     "iopub.status.busy": "2021-03-25T13:50:03.706938Z",
     "iopub.status.idle": "2021-03-25T13:50:03.782183Z",
     "shell.execute_reply": "2021-03-25T13:50:03.782752Z"
    }
   },
   "outputs": [
    {
     "data": {
      "image/svg+xml": [
       "<?xml version=\"1.0\" encoding=\"UTF-8\" standalone=\"no\"?><svg xmlns=\"http://www.w3.org/2000/svg\" xmlns:xlink=\"http://www.w3.org/1999/xlink\" contentScriptType=\"application/ecmascript\" contentStyleType=\"text/css\" height=\"196px\" preserveAspectRatio=\"none\" style=\"width:442px;height:196px;\" version=\"1.1\" viewBox=\"0 0 442 196\" width=\"442px\" zoomAndPan=\"magnify\"><defs/><g><!--MD5=[fbc87193dbaf4d95561dea2c320d4a47]\n",
       "cluster E1--><a href=\"psysml:1fa0c0c0-6c41-491a-9601-36d7e4e40543\" target=\"_top\" title=\"psysml:1fa0c0c0-6c41-491a-9601-36d7e4e40543\" xlink:actuate=\"onRequest\" xlink:href=\"psysml:1fa0c0c0-6c41-491a-9601-36d7e4e40543\" xlink:show=\"new\" xlink:title=\"psysml:1fa0c0c0-6c41-491a-9601-36d7e4e40543\" xlink:type=\"simple\"><polygon fill=\"#FFFFFF\" points=\"16,6,147,6,154,28.2969,420,28.2969,420,184,16,184,16,6\" style=\"stroke: #000000; stroke-width: 1.5;\"/><line style=\"stroke: #000000; stroke-width: 1.5;\" x1=\"16\" x2=\"154\" y1=\"28.2969\" y2=\"28.2969\"/><text fill=\"#000000\" font-family=\"sans-serif\" font-size=\"14\" font-weight=\"bold\" lengthAdjust=\"spacingAndGlyphs\" textLength=\"125\" x=\"20\" y=\"20.9951\">ConnectionTest</text></a><!--MD5=[b4997ac47864f28c2f74865a473b2911]\n",
       "class E2--><a href=\"psysml:5f85cf43-367b-49d0-8c6e-b9320e7aab66\" target=\"_top\" title=\"psysml:5f85cf43-367b-49d0-8c6e-b9320e7aab66\" xlink:actuate=\"onRequest\" xlink:href=\"psysml:5f85cf43-367b-49d0-8c6e-b9320e7aab66\" xlink:show=\"new\" xlink:title=\"psysml:5f85cf43-367b-49d0-8c6e-b9320e7aab66\" xlink:type=\"simple\"><rect fill=\"#FFFFFF\" height=\"45.9375\" id=\"E2\" rx=\"10\" ry=\"10\" style=\"stroke: #383838; stroke-width: 1.5;\" width=\"42\" x=\"260\" y=\"122\"/><text fill=\"#000000\" font-family=\"sans-serif\" font-size=\"12\" font-style=\"italic\" lengthAdjust=\"spacingAndGlyphs\" textLength=\"40\" x=\"261\" y=\"138.1387\">«part»</text><text fill=\"#000000\" font-family=\"sans-serif\" font-size=\"12\" lengthAdjust=\"spacingAndGlyphs\" textLength=\"8\" x=\"277\" y=\"152.1074\">p</text><line style=\"stroke: #383838; stroke-width: 1.5;\" x1=\"261\" x2=\"301\" y1=\"159.9375\" y2=\"159.9375\"/></a><!--MD5=[09b614a08d8cba4a07c9adeb5e0fee81]\n",
       "class E3--><a href=\"psysml:03220e95-b237-4532-8361-eb1844ca39e9\" target=\"_top\" title=\"psysml:03220e95-b237-4532-8361-eb1844ca39e9\" xlink:actuate=\"onRequest\" xlink:href=\"psysml:03220e95-b237-4532-8361-eb1844ca39e9\" xlink:show=\"new\" xlink:title=\"psysml:03220e95-b237-4532-8361-eb1844ca39e9\" xlink:type=\"simple\"><rect fill=\"#FFFFFF\" height=\"45.9375\" id=\"E3\" rx=\"10\" ry=\"10\" style=\"stroke: #383838; stroke-width: 1.5;\" width=\"42\" x=\"362\" y=\"82\"/><text fill=\"#000000\" font-family=\"sans-serif\" font-size=\"12\" font-style=\"italic\" lengthAdjust=\"spacingAndGlyphs\" textLength=\"40\" x=\"363\" y=\"98.1387\">«part»</text><text fill=\"#000000\" font-family=\"sans-serif\" font-size=\"12\" lengthAdjust=\"spacingAndGlyphs\" textLength=\"6\" x=\"380\" y=\"112.1074\">x</text><line style=\"stroke: #383838; stroke-width: 1.5;\" x1=\"363\" x2=\"403\" y1=\"119.9375\" y2=\"119.9375\"/></a><!--MD5=[ebbe1d658d1005bcc118a6aa81145e00]\n",
       "class E4--><a href=\"psysml:deb35dd4-2c3a-4fce-b73d-f2bc7012e274\" target=\"_top\" title=\"psysml:deb35dd4-2c3a-4fce-b73d-f2bc7012e274\" xlink:actuate=\"onRequest\" xlink:href=\"psysml:deb35dd4-2c3a-4fce-b73d-f2bc7012e274\" xlink:show=\"new\" xlink:title=\"psysml:deb35dd4-2c3a-4fce-b73d-f2bc7012e274\" xlink:type=\"simple\"><rect fill=\"#FFFFFF\" height=\"45.9375\" id=\"E4\" style=\"stroke: #383838; stroke-width: 1.5;\" width=\"66\" x=\"32\" y=\"82\"/><text fill=\"#000000\" font-family=\"sans-serif\" font-size=\"12\" font-style=\"italic\" lengthAdjust=\"spacingAndGlyphs\" textLength=\"64\" x=\"33\" y=\"98.1387\">«part def»</text><text fill=\"#000000\" font-family=\"sans-serif\" font-size=\"12\" lengthAdjust=\"spacingAndGlyphs\" textLength=\"8\" x=\"61\" y=\"112.1074\">P</text><line style=\"stroke: #383838; stroke-width: 1.5;\" x1=\"33\" x2=\"97\" y1=\"119.9375\" y2=\"119.9375\"/></a><!--MD5=[270fce915f116d4de14055a7c1d9a0f3]\n",
       "class E5--><a href=\"psysml:021693d6-d6d0-45d3-85e9-0e056c3c99ea\" target=\"_top\" title=\"psysml:021693d6-d6d0-45d3-85e9-0e056c3c99ea\" xlink:actuate=\"onRequest\" xlink:href=\"psysml:021693d6-d6d0-45d3-85e9-0e056c3c99ea\" xlink:show=\"new\" xlink:title=\"psysml:021693d6-d6d0-45d3-85e9-0e056c3c99ea\" xlink:type=\"simple\"><rect fill=\"#FFFFFF\" height=\"45.9375\" id=\"E5\" rx=\"10\" ry=\"10\" style=\"stroke: #383838; stroke-width: 1.5;\" width=\"42\" x=\"158\" y=\"122\"/><text fill=\"#000000\" font-family=\"sans-serif\" font-size=\"12\" font-style=\"italic\" lengthAdjust=\"spacingAndGlyphs\" textLength=\"40\" x=\"159\" y=\"138.1387\">«part»</text><text fill=\"#000000\" font-family=\"sans-serif\" font-size=\"12\" lengthAdjust=\"spacingAndGlyphs\" textLength=\"6\" x=\"176\" y=\"152.1074\">y</text><line style=\"stroke: #383838; stroke-width: 1.5;\" x1=\"159\" x2=\"199\" y1=\"159.9375\" y2=\"159.9375\"/></a><!--MD5=[60a26617385b1d2d0262a64233df1f8d]\n",
       "class E6--><a href=\"psysml:48ad0273-6ae0-4e72-b6eb-52596fa39c0f\" target=\"_top\" title=\"psysml:48ad0273-6ae0-4e72-b6eb-52596fa39c0f\" xlink:actuate=\"onRequest\" xlink:href=\"psysml:48ad0273-6ae0-4e72-b6eb-52596fa39c0f\" xlink:show=\"new\" xlink:title=\"psysml:48ad0273-6ae0-4e72-b6eb-52596fa39c0f\" xlink:type=\"simple\"><rect fill=\"#FFFFFF\" height=\"45.9375\" id=\"E6\" rx=\"10\" ry=\"10\" style=\"stroke: #383838; stroke-width: 1.5;\" width=\"42\" x=\"158\" y=\"41\"/><text fill=\"#000000\" font-family=\"sans-serif\" font-size=\"12\" font-style=\"italic\" lengthAdjust=\"spacingAndGlyphs\" textLength=\"40\" x=\"159\" y=\"57.1387\">«part»</text><text fill=\"#000000\" font-family=\"sans-serif\" font-size=\"12\" lengthAdjust=\"spacingAndGlyphs\" textLength=\"16\" x=\"171\" y=\"71.1074\">p1</text><line style=\"stroke: #383838; stroke-width: 1.5;\" x1=\"159\" x2=\"199\" y1=\"78.9375\" y2=\"78.9375\"/></a><!--MD5=[2156ba9850f5573cc1fc38a6a4b2f02b]\n",
       "class E7--><a href=\"psysml:3d476d3d-b46e-46da-94ef-54f71581d8bd\" target=\"_top\" title=\"psysml:3d476d3d-b46e-46da-94ef-54f71581d8bd\" xlink:actuate=\"onRequest\" xlink:href=\"psysml:3d476d3d-b46e-46da-94ef-54f71581d8bd\" xlink:show=\"new\" xlink:title=\"psysml:3d476d3d-b46e-46da-94ef-54f71581d8bd\" xlink:type=\"simple\"><rect fill=\"#FFFFFF\" height=\"45.9375\" id=\"E7\" rx=\"10\" ry=\"10\" style=\"stroke: #383838; stroke-width: 1.5;\" width=\"42\" x=\"260\" y=\"41\"/><text fill=\"#000000\" font-family=\"sans-serif\" font-size=\"12\" font-style=\"italic\" lengthAdjust=\"spacingAndGlyphs\" textLength=\"40\" x=\"261\" y=\"57.1387\">«part»</text><text fill=\"#000000\" font-family=\"sans-serif\" font-size=\"12\" lengthAdjust=\"spacingAndGlyphs\" textLength=\"6\" x=\"278\" y=\"71.1074\">x</text><line style=\"stroke: #383838; stroke-width: 1.5;\" x1=\"261\" x2=\"301\" y1=\"78.9375\" y2=\"78.9375\"/></a><!--MD5=[209b3feb70ccb6233bfe1053d122c12c]\n",
       "reverse link E2 to E3--><a href=\"psysml:03220e95-b237-4532-8361-eb1844ca39e9\" target=\"_top\" title=\"psysml:03220e95-b237-4532-8361-eb1844ca39e9\" xlink:actuate=\"onRequest\" xlink:href=\"psysml:03220e95-b237-4532-8361-eb1844ca39e9\" xlink:show=\"new\" xlink:title=\"psysml:03220e95-b237-4532-8361-eb1844ca39e9\" xlink:type=\"simple\"><path d=\"M314.54,131.98 C330.11,125.76 348.25,118.5 361.79,113.08 \" fill=\"none\" id=\"E2&lt;-E3\" style=\"stroke: #383838; stroke-width: 1.0;\"/><polygon fill=\"#383838\" points=\"302.24,136.91,309.2964,138.3956,313.3817,132.4533,306.3253,130.9677,302.24,136.91\" style=\"stroke: #383838; stroke-width: 1.0;\"/></a><!--MD5=[62aa6af11e70f752912c1cb0466f24f7]\n",
       "reverse link E4 to E5--><a href=\"psysml:021693d6-d6d0-45d3-85e9-0e056c3c99ea\" target=\"_top\" title=\"psysml:021693d6-d6d0-45d3-85e9-0e056c3c99ea\" xlink:actuate=\"onRequest\" xlink:href=\"psysml:021693d6-d6d0-45d3-85e9-0e056c3c99ea\" xlink:show=\"new\" xlink:title=\"psysml:021693d6-d6d0-45d3-85e9-0e056c3c99ea\" xlink:type=\"simple\"><path d=\"M110.79,121 C127.12,126.83 144.77,133.13 157.89,137.82 \" fill=\"none\" id=\"E4&lt;-E5\" style=\"stroke: #383838; stroke-width: 1.0;\"/><polygon fill=\"#383838\" points=\"98.09,116.46,102.3955,122.2447,109.3912,120.4952,105.0857,114.7105,98.09,116.46\" style=\"stroke: #383838; stroke-width: 1.0;\"/></a><!--MD5=[2351f337d6de0f557b50152ba70847b5]\n",
       "link E6 to E2--><a href=\"psysml:9890fb32-dc37-43db-abbc-6177a2056fad\" target=\"_top\" title=\"psysml:9890fb32-dc37-43db-abbc-6177a2056fad\" xlink:actuate=\"onRequest\" xlink:href=\"psysml:9890fb32-dc37-43db-abbc-6177a2056fad\" xlink:show=\"new\" xlink:title=\"psysml:9890fb32-dc37-43db-abbc-6177a2056fad\" xlink:type=\"simple\"><path d=\"M200.24,80.39 C212.84,90.6 229.42,104.03 244.19,115.99 \" fill=\"none\" id=\"E6-&gt;E2\" style=\"stroke: #383838; stroke-width: 1.0;\"/><polygon fill=\"none\" points=\"248.66,110.6,259.79,128.63,239.85,121.48,248.66,110.6\" style=\"stroke: #383838; stroke-width: 1.0;\"/></a><!--MD5=[6db378b65e1aef66a01cb3103812b399]\n",
       "reverse link E4 to E6--><a href=\"psysml:48ad0273-6ae0-4e72-b6eb-52596fa39c0f\" target=\"_top\" title=\"psysml:48ad0273-6ae0-4e72-b6eb-52596fa39c0f\" xlink:actuate=\"onRequest\" xlink:href=\"psysml:48ad0273-6ae0-4e72-b6eb-52596fa39c0f\" xlink:show=\"new\" xlink:title=\"psysml:48ad0273-6ae0-4e72-b6eb-52596fa39c0f\" xlink:type=\"simple\"><path d=\"M110.31,88.78 C126.77,82.75 144.64,76.21 157.89,71.36 \" fill=\"none\" id=\"E4&lt;-E6\" style=\"stroke: #383838; stroke-width: 1.0;\"/><polygon fill=\"#383838\" points=\"98.09,93.25,105.1,94.9409,109.3571,89.1205,102.347,87.4296,98.09,93.25\" style=\"stroke: #383838; stroke-width: 1.0;\"/></a><!--MD5=[14ccda38c055a5c0da953d572bc50960]\n",
       "link E7 to E3--><a href=\"psysml:6e6cfa00-bc1f-4d19-92ba-1126ed543e13\" target=\"_top\" title=\"psysml:6e6cfa00-bc1f-4d19-92ba-1126ed543e13\" xlink:actuate=\"onRequest\" xlink:href=\"psysml:6e6cfa00-bc1f-4d19-92ba-1126ed543e13\" xlink:show=\"new\" xlink:title=\"psysml:6e6cfa00-bc1f-4d19-92ba-1126ed543e13\" xlink:type=\"simple\"><path d=\"M302.24,72.3 C313.89,77.08 328.94,83.25 342.82,88.94 \" fill=\"none\" id=\"E7-&gt;E3\" style=\"stroke: #383838; stroke-width: 1.0;\"/><polygon fill=\"#FFFFFF\" points=\"361.79,96.72,341.5546,95.9939,346.8624,83.0391,361.79,96.72\" style=\"stroke: #383838; stroke-width: 1.0;\"/><line style=\"stroke: #383838; stroke-width: 2.0;\" x1=\"338.0383\" x2=\"343.3461\" y1=\"94.5532\" y2=\"81.5984\"/></a><!--MD5=[3f50a3473f1dfb74d3f76443e03635af]\n",
       "reverse link E6 to E7--><a href=\"psysml:3d476d3d-b46e-46da-94ef-54f71581d8bd\" target=\"_top\" title=\"psysml:3d476d3d-b46e-46da-94ef-54f71581d8bd\" xlink:actuate=\"onRequest\" xlink:href=\"psysml:3d476d3d-b46e-46da-94ef-54f71581d8bd\" xlink:show=\"new\" xlink:title=\"psysml:3d476d3d-b46e-46da-94ef-54f71581d8bd\" xlink:type=\"simple\"><path d=\"M213.48,64 C228.83,64 246.52,64 259.79,64 \" fill=\"none\" id=\"E6&lt;-E7\" style=\"stroke: #383838; stroke-width: 1.0;\"/><polygon fill=\"#383838\" points=\"200.24,64,206.24,68,212.24,64,206.24,60,200.24,64\" style=\"stroke: #383838; stroke-width: 1.0;\"/></a><!--MD5=[3ddfaa83d2491b00308fa729eb1bd53a]\n",
       "@startuml\r\n",
       "left to right direction\r\n",
       "skinparam monochrome true\r\n",
       "skinparam classbackgroundcolor white\r\n",
       "skinparam shadowing false\r\n",
       "skinparam wrapWidth 300\r\n",
       "hide circle\r\n",
       "\r\n",
       "package \"ConnectionTest\" as E1  [[psysml:1fa0c0c0-6c41-491a-9601-36d7e4e40543 ]]  {\r\n",
       "comp usage \"p\" as E2  <<(T,blue)part>> [[psysml:5f85cf43-367b-49d0-8c6e-b9320e7aab66 ]] {\r\n",
       "}\r\n",
       "comp usage \"x\" as E3  <<(T,blue)part>> [[psysml:03220e95-b237-4532-8361-eb1844ca39e9 ]] {\r\n",
       "}\r\n",
       "comp def \"P\" as E4  <<(T,blue)part def>> [[psysml:deb35dd4-2c3a-4fce-b73d-f2bc7012e274 ]] {\r\n",
       "}\r\n",
       "comp usage \"y\" as E5  <<(T,blue)part>> [[psysml:021693d6-d6d0-45d3-85e9-0e056c3c99ea ]] {\r\n",
       "}\r\n",
       "comp usage \"p1\" as E6  <<(T,blue)part>> [[psysml:48ad0273-6ae0-4e72-b6eb-52596fa39c0f ]] {\r\n",
       "}\r\n",
       "comp usage \"x\" as E7  <<(T,blue)part>> [[psysml:3d476d3d-b46e-46da-94ef-54f71581d8bd ]] {\r\n",
       "}\r\n",
       "E2 *- - E3 [[psysml:03220e95-b237-4532-8361-eb1844ca39e9 ]] \r\n",
       "E4 *- - E5 [[psysml:021693d6-d6d0-45d3-85e9-0e056c3c99ea ]] \r\n",
       "E6 - -|> E2 [[psysml:9890fb32-dc37-43db-abbc-6177a2056fad ]] \r\n",
       "E4 *- - E6 [[psysml:48ad0273-6ae0-4e72-b6eb-52596fa39c0f ]] \r\n",
       "E7 - -||> E3 [[psysml:6e6cfa00-bc1f-4d19-92ba-1126ed543e13 ]] \r\n",
       "E6 *- - E7 [[psysml:3d476d3d-b46e-46da-94ef-54f71581d8bd ]] \r\n",
       "}\r\n",
       "@enduml\r\n",
       "\n",
       "PlantUML version 1.2020.13(Sat Jun 13 12:26:38 UTC 2020)\n",
       "(EPL source distribution)\n",
       "Java Runtime: OpenJDK Runtime Environment\n",
       "JVM: OpenJDK 64-Bit Server VM\n",
       "Default Encoding: UTF-8\n",
       "Language: en\n",
       "Country: null\n",
       "--></g></svg>"
      ]
     },
     "execution_count": 22,
     "metadata": {},
     "output_type": "execute_result"
    }
   ],
   "source": [
    "%viz --style=\"LR\" --view=\"MIXED\" \"ConnectionTest\""
   ]
  },
  {
   "cell_type": "code",
   "execution_count": 23,
   "id": "intelligent-composite",
   "metadata": {
    "execution": {
     "iopub.execute_input": "2021-03-25T13:50:03.832688Z",
     "iopub.status.busy": "2021-03-25T13:50:03.832269Z",
     "iopub.status.idle": "2021-03-25T13:50:03.903014Z",
     "shell.execute_reply": "2021-03-25T13:50:03.900996Z"
    }
   },
   "outputs": [
    {
     "data": {
      "image/svg+xml": [
       "<?xml version=\"1.0\" encoding=\"UTF-8\" standalone=\"no\"?><svg xmlns=\"http://www.w3.org/2000/svg\" xmlns:xlink=\"http://www.w3.org/1999/xlink\" contentScriptType=\"application/ecmascript\" contentStyleType=\"text/css\" height=\"433px\" preserveAspectRatio=\"none\" style=\"width:189px;height:433px;\" version=\"1.1\" viewBox=\"0 0 189 433\" width=\"189px\" zoomAndPan=\"magnify\"><defs><filter height=\"300%\" id=\"f91cw5xvb06c4\" width=\"300%\" x=\"-1\" y=\"-1\"><feGaussianBlur result=\"blurOut\" stdDeviation=\"2.0\"/><feColorMatrix in=\"blurOut\" result=\"blurOut2\" type=\"matrix\" values=\"0 0 0 0 0 0 0 0 0 0 0 0 0 0 0 0 0 0 .4 0\"/><feOffset dx=\"4.0\" dy=\"4.0\" in=\"blurOut2\" result=\"blurOut3\"/><feBlend in=\"SourceGraphic\" in2=\"blurOut3\" mode=\"normal\"/></filter></defs><g><!--MD5=[fbc87193dbaf4d95561dea2c320d4a47]\n",
       "cluster E1--><a href=\"psysml:1fa0c0c0-6c41-491a-9601-36d7e4e40543\" target=\"_top\" title=\"psysml:1fa0c0c0-6c41-491a-9601-36d7e4e40543\" xlink:actuate=\"onRequest\" xlink:href=\"psysml:1fa0c0c0-6c41-491a-9601-36d7e4e40543\" xlink:show=\"new\" xlink:title=\"psysml:1fa0c0c0-6c41-491a-9601-36d7e4e40543\" xlink:type=\"simple\"><polygon fill=\"#FFFFFF\" filter=\"url(#f91cw5xvb06c4)\" points=\"16,6,147,6,154,28.2969,167,28.2969,167,421,16,421,16,6\" style=\"stroke: #000000; stroke-width: 1.5;\"/><line style=\"stroke: #000000; stroke-width: 1.5;\" x1=\"16\" x2=\"154\" y1=\"28.2969\" y2=\"28.2969\"/><text fill=\"#000000\" font-family=\"sans-serif\" font-size=\"14\" font-weight=\"bold\" lengthAdjust=\"spacingAndGlyphs\" textLength=\"125\" x=\"20\" y=\"20.9951\">ConnectionTest</text></a><!--MD5=[b4997ac47864f28c2f74865a473b2911]\n",
       "class E2--><a href=\"psysml:5f85cf43-367b-49d0-8c6e-b9320e7aab66\" target=\"_top\" title=\"psysml:5f85cf43-367b-49d0-8c6e-b9320e7aab66\" xlink:actuate=\"onRequest\" xlink:href=\"psysml:5f85cf43-367b-49d0-8c6e-b9320e7aab66\" xlink:show=\"new\" xlink:title=\"psysml:5f85cf43-367b-49d0-8c6e-b9320e7aab66\" xlink:type=\"simple\"><rect fill=\"#FEFECE\" filter=\"url(#f91cw5xvb06c4)\" height=\"45.9375\" id=\"E2\" rx=\"10\" ry=\"10\" style=\"stroke: #A80036; stroke-width: 1.5;\" width=\"42\" x=\"32\" y=\"253\"/><text fill=\"#000000\" font-family=\"sans-serif\" font-size=\"12\" font-style=\"italic\" lengthAdjust=\"spacingAndGlyphs\" textLength=\"40\" x=\"33\" y=\"269.1387\">«part»</text><text fill=\"#000000\" font-family=\"sans-serif\" font-size=\"12\" lengthAdjust=\"spacingAndGlyphs\" textLength=\"8\" x=\"49\" y=\"283.1074\">p</text><line style=\"stroke: #A80036; stroke-width: 1.5;\" x1=\"33\" x2=\"73\" y1=\"290.9375\" y2=\"290.9375\"/></a><!--MD5=[09b614a08d8cba4a07c9adeb5e0fee81]\n",
       "class E3--><a href=\"psysml:03220e95-b237-4532-8361-eb1844ca39e9\" target=\"_top\" title=\"psysml:03220e95-b237-4532-8361-eb1844ca39e9\" xlink:actuate=\"onRequest\" xlink:href=\"psysml:03220e95-b237-4532-8361-eb1844ca39e9\" xlink:show=\"new\" xlink:title=\"psysml:03220e95-b237-4532-8361-eb1844ca39e9\" xlink:type=\"simple\"><rect fill=\"#FEFECE\" filter=\"url(#f91cw5xvb06c4)\" height=\"45.9375\" id=\"E3\" rx=\"10\" ry=\"10\" style=\"stroke: #A80036; stroke-width: 1.5;\" width=\"42\" x=\"70\" y=\"359\"/><text fill=\"#000000\" font-family=\"sans-serif\" font-size=\"12\" font-style=\"italic\" lengthAdjust=\"spacingAndGlyphs\" textLength=\"40\" x=\"71\" y=\"375.1387\">«part»</text><text fill=\"#000000\" font-family=\"sans-serif\" font-size=\"12\" lengthAdjust=\"spacingAndGlyphs\" textLength=\"6\" x=\"88\" y=\"389.1074\">x</text><line style=\"stroke: #A80036; stroke-width: 1.5;\" x1=\"71\" x2=\"111\" y1=\"396.9375\" y2=\"396.9375\"/></a><!--MD5=[ebbe1d658d1005bcc118a6aa81145e00]\n",
       "class E4--><a href=\"psysml:deb35dd4-2c3a-4fce-b73d-f2bc7012e274\" target=\"_top\" title=\"psysml:deb35dd4-2c3a-4fce-b73d-f2bc7012e274\" xlink:actuate=\"onRequest\" xlink:href=\"psysml:deb35dd4-2c3a-4fce-b73d-f2bc7012e274\" xlink:show=\"new\" xlink:title=\"psysml:deb35dd4-2c3a-4fce-b73d-f2bc7012e274\" xlink:type=\"simple\"><rect fill=\"#FEFECE\" filter=\"url(#f91cw5xvb06c4)\" height=\"45.9375\" id=\"E4\" style=\"stroke: #A80036; stroke-width: 1.5;\" width=\"66\" x=\"58\" y=\"41\"/><text fill=\"#000000\" font-family=\"sans-serif\" font-size=\"12\" font-style=\"italic\" lengthAdjust=\"spacingAndGlyphs\" textLength=\"64\" x=\"59\" y=\"57.1387\">«part def»</text><text fill=\"#000000\" font-family=\"sans-serif\" font-size=\"12\" lengthAdjust=\"spacingAndGlyphs\" textLength=\"8\" x=\"87\" y=\"71.1074\">P</text><line style=\"stroke: #A80036; stroke-width: 1.5;\" x1=\"59\" x2=\"123\" y1=\"78.9375\" y2=\"78.9375\"/></a><!--MD5=[270fce915f116d4de14055a7c1d9a0f3]\n",
       "class E5--><a href=\"psysml:021693d6-d6d0-45d3-85e9-0e056c3c99ea\" target=\"_top\" title=\"psysml:021693d6-d6d0-45d3-85e9-0e056c3c99ea\" xlink:actuate=\"onRequest\" xlink:href=\"psysml:021693d6-d6d0-45d3-85e9-0e056c3c99ea\" xlink:show=\"new\" xlink:title=\"psysml:021693d6-d6d0-45d3-85e9-0e056c3c99ea\" xlink:type=\"simple\"><rect fill=\"#FEFECE\" filter=\"url(#f91cw5xvb06c4)\" height=\"45.9375\" id=\"E5\" rx=\"10\" ry=\"10\" style=\"stroke: #A80036; stroke-width: 1.5;\" width=\"42\" x=\"32\" y=\"147\"/><text fill=\"#000000\" font-family=\"sans-serif\" font-size=\"12\" font-style=\"italic\" lengthAdjust=\"spacingAndGlyphs\" textLength=\"40\" x=\"33\" y=\"163.1387\">«part»</text><text fill=\"#000000\" font-family=\"sans-serif\" font-size=\"12\" lengthAdjust=\"spacingAndGlyphs\" textLength=\"6\" x=\"50\" y=\"177.1074\">y</text><line style=\"stroke: #A80036; stroke-width: 1.5;\" x1=\"33\" x2=\"73\" y1=\"184.9375\" y2=\"184.9375\"/></a><!--MD5=[60a26617385b1d2d0262a64233df1f8d]\n",
       "class E6--><a href=\"psysml:48ad0273-6ae0-4e72-b6eb-52596fa39c0f\" target=\"_top\" title=\"psysml:48ad0273-6ae0-4e72-b6eb-52596fa39c0f\" xlink:actuate=\"onRequest\" xlink:href=\"psysml:48ad0273-6ae0-4e72-b6eb-52596fa39c0f\" xlink:show=\"new\" xlink:title=\"psysml:48ad0273-6ae0-4e72-b6eb-52596fa39c0f\" xlink:type=\"simple\"><rect fill=\"#FEFECE\" filter=\"url(#f91cw5xvb06c4)\" height=\"45.9375\" id=\"E6\" rx=\"10\" ry=\"10\" style=\"stroke: #A80036; stroke-width: 1.5;\" width=\"42\" x=\"109\" y=\"147\"/><text fill=\"#000000\" font-family=\"sans-serif\" font-size=\"12\" font-style=\"italic\" lengthAdjust=\"spacingAndGlyphs\" textLength=\"40\" x=\"110\" y=\"163.1387\">«part»</text><text fill=\"#000000\" font-family=\"sans-serif\" font-size=\"12\" lengthAdjust=\"spacingAndGlyphs\" textLength=\"16\" x=\"122\" y=\"177.1074\">p1</text><line style=\"stroke: #A80036; stroke-width: 1.5;\" x1=\"110\" x2=\"150\" y1=\"184.9375\" y2=\"184.9375\"/></a><!--MD5=[2156ba9850f5573cc1fc38a6a4b2f02b]\n",
       "class E7--><a href=\"psysml:3d476d3d-b46e-46da-94ef-54f71581d8bd\" target=\"_top\" title=\"psysml:3d476d3d-b46e-46da-94ef-54f71581d8bd\" xlink:actuate=\"onRequest\" xlink:href=\"psysml:3d476d3d-b46e-46da-94ef-54f71581d8bd\" xlink:show=\"new\" xlink:title=\"psysml:3d476d3d-b46e-46da-94ef-54f71581d8bd\" xlink:type=\"simple\"><rect fill=\"#FEFECE\" filter=\"url(#f91cw5xvb06c4)\" height=\"45.9375\" id=\"E7\" rx=\"10\" ry=\"10\" style=\"stroke: #A80036; stroke-width: 1.5;\" width=\"42\" x=\"109\" y=\"253\"/><text fill=\"#000000\" font-family=\"sans-serif\" font-size=\"12\" font-style=\"italic\" lengthAdjust=\"spacingAndGlyphs\" textLength=\"40\" x=\"110\" y=\"269.1387\">«part»</text><text fill=\"#000000\" font-family=\"sans-serif\" font-size=\"12\" lengthAdjust=\"spacingAndGlyphs\" textLength=\"6\" x=\"127\" y=\"283.1074\">x</text><line style=\"stroke: #A80036; stroke-width: 1.5;\" x1=\"110\" x2=\"150\" y1=\"290.9375\" y2=\"290.9375\"/></a><!--MD5=[209b3feb70ccb6233bfe1053d122c12c]\n",
       "reverse link E2 to E3--><a href=\"psysml:03220e95-b237-4532-8361-eb1844ca39e9\" target=\"_top\" title=\"psysml:03220e95-b237-4532-8361-eb1844ca39e9\" xlink:actuate=\"onRequest\" xlink:href=\"psysml:03220e95-b237-4532-8361-eb1844ca39e9\" xlink:show=\"new\" xlink:title=\"psysml:03220e95-b237-4532-8361-eb1844ca39e9\" xlink:type=\"simple\"><path d=\"M65.6,311.49 C71.32,327.15 77.92,345.19 82.95,358.98 \" fill=\"none\" id=\"E2&lt;-E3\" style=\"stroke: #A80036; stroke-width: 1.0;\"/><polygon fill=\"#A80036\" points=\"61.06,299.06,59.3691,306.07,65.1895,310.3271,66.8804,303.317,61.06,299.06\" style=\"stroke: #A80036; stroke-width: 1.0;\"/></a><!--MD5=[62aa6af11e70f752912c1cb0466f24f7]\n",
       "reverse link E4 to E5--><a href=\"psysml:021693d6-d6d0-45d3-85e9-0e056c3c99ea\" target=\"_top\" title=\"psysml:021693d6-d6d0-45d3-85e9-0e056c3c99ea\" xlink:actuate=\"onRequest\" xlink:href=\"psysml:021693d6-d6d0-45d3-85e9-0e056c3c99ea\" xlink:show=\"new\" xlink:title=\"psysml:021693d6-d6d0-45d3-85e9-0e056c3c99ea\" xlink:type=\"simple\"><path d=\"M78.4,99.49 C72.68,115.15 66.08,133.19 61.05,146.98 \" fill=\"none\" id=\"E4&lt;-E5\" style=\"stroke: #A80036; stroke-width: 1.0;\"/><polygon fill=\"#A80036\" points=\"82.94,87.06,77.1196,91.317,78.8105,98.3271,84.6309,94.07,82.94,87.06\" style=\"stroke: #A80036; stroke-width: 1.0;\"/></a><!--MD5=[2351f337d6de0f557b50152ba70847b5]\n",
       "link E6 to E2--><a href=\"psysml:9890fb32-dc37-43db-abbc-6177a2056fad\" target=\"_top\" title=\"psysml:9890fb32-dc37-43db-abbc-6177a2056fad\" xlink:actuate=\"onRequest\" xlink:href=\"psysml:9890fb32-dc37-43db-abbc-6177a2056fad\" xlink:show=\"new\" xlink:title=\"psysml:9890fb32-dc37-43db-abbc-6177a2056fad\" xlink:type=\"simple\"><path d=\"M113.67,193.06 C104.28,205.74 92.22,222.03 81.32,236.74 \" fill=\"none\" id=\"E6-&gt;E2\" style=\"stroke: #A80036; stroke-width: 1.0;\"/><polygon fill=\"none\" points=\"86.83,241.07,69.31,252.98,75.58,232.74,86.83,241.07\" style=\"stroke: #A80036; stroke-width: 1.0;\"/></a><!--MD5=[6db378b65e1aef66a01cb3103812b399]\n",
       "reverse link E4 to E6--><a href=\"psysml:48ad0273-6ae0-4e72-b6eb-52596fa39c0f\" target=\"_top\" title=\"psysml:48ad0273-6ae0-4e72-b6eb-52596fa39c0f\" xlink:actuate=\"onRequest\" xlink:href=\"psysml:48ad0273-6ae0-4e72-b6eb-52596fa39c0f\" xlink:show=\"new\" xlink:title=\"psysml:48ad0273-6ae0-4e72-b6eb-52596fa39c0f\" xlink:type=\"simple\"><path d=\"M103.94,99.49 C109.8,115.15 116.57,133.19 121.74,146.98 \" fill=\"none\" id=\"E4&lt;-E6\" style=\"stroke: #A80036; stroke-width: 1.0;\"/><polygon fill=\"#A80036\" points=\"99.27,87.06,97.635,94.0833,103.4893,98.2938,105.1242,91.2705,99.27,87.06\" style=\"stroke: #A80036; stroke-width: 1.0;\"/></a><!--MD5=[14ccda38c055a5c0da953d572bc50960]\n",
       "link E7 to E3--><a href=\"psysml:6e6cfa00-bc1f-4d19-92ba-1126ed543e13\" target=\"_top\" title=\"psysml:6e6cfa00-bc1f-4d19-92ba-1126ed543e13\" xlink:actuate=\"onRequest\" xlink:href=\"psysml:6e6cfa00-bc1f-4d19-92ba-1126ed543e13\" xlink:show=\"new\" xlink:title=\"psysml:6e6cfa00-bc1f-4d19-92ba-1126ed543e13\" xlink:type=\"simple\"><path d=\"M121.73,299.06 C117.28,310.91 111.65,325.92 106.43,339.85 \" fill=\"none\" id=\"E7-&gt;E3\" style=\"stroke: #A80036; stroke-width: 1.0;\"/><polygon fill=\"#FFFFFF\" points=\"99.26,358.98,99.3821,338.7319,112.4895,343.6509,99.26,358.98\" style=\"stroke: #A80036; stroke-width: 1.0;\"/><line style=\"stroke: #A80036; stroke-width: 2.0;\" x1=\"100.7173\" x2=\"113.8247\" y1=\"335.1742\" y2=\"340.0932\"/></a><!--MD5=[3f50a3473f1dfb74d3f76443e03635af]\n",
       "reverse link E6 to E7--><a href=\"psysml:3d476d3d-b46e-46da-94ef-54f71581d8bd\" target=\"_top\" title=\"psysml:3d476d3d-b46e-46da-94ef-54f71581d8bd\" xlink:actuate=\"onRequest\" xlink:href=\"psysml:3d476d3d-b46e-46da-94ef-54f71581d8bd\" xlink:show=\"new\" xlink:title=\"psysml:3d476d3d-b46e-46da-94ef-54f71581d8bd\" xlink:type=\"simple\"><path d=\"M130,206.44 C130,221.87 130,239.47 130,252.98 \" fill=\"none\" id=\"E6&lt;-E7\" style=\"stroke: #A80036; stroke-width: 1.0;\"/><polygon fill=\"#A80036\" points=\"130,193.06,126,199.06,130,205.06,134,199.06,130,193.06\" style=\"stroke: #A80036; stroke-width: 1.0;\"/></a><!--MD5=[ea71f65d354cc33131b10d3f700c4b27]\n",
       "@startuml\r\n",
       "skinparam wrapWidth 300\r\n",
       "hide circle\r\n",
       "\r\n",
       "package \"ConnectionTest\" as E1  [[psysml:1fa0c0c0-6c41-491a-9601-36d7e4e40543 ]]  {\r\n",
       "comp usage \"p\" as E2  <<(T,blue)part>> [[psysml:5f85cf43-367b-49d0-8c6e-b9320e7aab66 ]] {\r\n",
       "}\r\n",
       "comp usage \"x\" as E3  <<(T,blue)part>> [[psysml:03220e95-b237-4532-8361-eb1844ca39e9 ]] {\r\n",
       "}\r\n",
       "comp def \"P\" as E4  <<(T,blue)part def>> [[psysml:deb35dd4-2c3a-4fce-b73d-f2bc7012e274 ]] {\r\n",
       "}\r\n",
       "comp usage \"y\" as E5  <<(T,blue)part>> [[psysml:021693d6-d6d0-45d3-85e9-0e056c3c99ea ]] {\r\n",
       "}\r\n",
       "comp usage \"p1\" as E6  <<(T,blue)part>> [[psysml:48ad0273-6ae0-4e72-b6eb-52596fa39c0f ]] {\r\n",
       "}\r\n",
       "comp usage \"x\" as E7  <<(T,blue)part>> [[psysml:3d476d3d-b46e-46da-94ef-54f71581d8bd ]] {\r\n",
       "}\r\n",
       "E2 *- - E3 [[psysml:03220e95-b237-4532-8361-eb1844ca39e9 ]] \r\n",
       "E4 *- - E5 [[psysml:021693d6-d6d0-45d3-85e9-0e056c3c99ea ]] \r\n",
       "E6 - -|> E2 [[psysml:9890fb32-dc37-43db-abbc-6177a2056fad ]] \r\n",
       "E4 *- - E6 [[psysml:48ad0273-6ae0-4e72-b6eb-52596fa39c0f ]] \r\n",
       "E7 - -||> E3 [[psysml:6e6cfa00-bc1f-4d19-92ba-1126ed543e13 ]] \r\n",
       "E6 *- - E7 [[psysml:3d476d3d-b46e-46da-94ef-54f71581d8bd ]] \r\n",
       "}\r\n",
       "@enduml\r\n",
       "\n",
       "PlantUML version 1.2020.13(Sat Jun 13 12:26:38 UTC 2020)\n",
       "(EPL source distribution)\n",
       "Java Runtime: OpenJDK Runtime Environment\n",
       "JVM: OpenJDK 64-Bit Server VM\n",
       "Default Encoding: UTF-8\n",
       "Language: en\n",
       "Country: null\n",
       "--></g></svg>"
      ]
     },
     "execution_count": 23,
     "metadata": {},
     "output_type": "execute_result"
    }
   ],
   "source": [
    "%viz --style=\"STDCOLOR\" --view=\"Default\" \"ConnectionTest\""
   ]
  },
  {
   "cell_type": "code",
   "execution_count": 24,
   "id": "forced-importance",
   "metadata": {
    "execution": {
     "iopub.execute_input": "2021-03-25T13:50:03.952959Z",
     "iopub.status.busy": "2021-03-25T13:50:03.952502Z",
     "iopub.status.idle": "2021-03-25T13:50:04.025379Z",
     "shell.execute_reply": "2021-03-25T13:50:04.024475Z"
    }
   },
   "outputs": [
    {
     "data": {
      "image/svg+xml": [
       "<?xml version=\"1.0\" encoding=\"UTF-8\" standalone=\"no\"?><svg xmlns=\"http://www.w3.org/2000/svg\" xmlns:xlink=\"http://www.w3.org/1999/xlink\" contentScriptType=\"application/ecmascript\" contentStyleType=\"text/css\" height=\"433px\" preserveAspectRatio=\"none\" style=\"width:189px;height:433px;\" version=\"1.1\" viewBox=\"0 0 189 433\" width=\"189px\" zoomAndPan=\"magnify\"><defs><filter height=\"300%\" id=\"f91cw5xvb06c4\" width=\"300%\" x=\"-1\" y=\"-1\"><feGaussianBlur result=\"blurOut\" stdDeviation=\"2.0\"/><feColorMatrix in=\"blurOut\" result=\"blurOut2\" type=\"matrix\" values=\"0 0 0 0 0 0 0 0 0 0 0 0 0 0 0 0 0 0 .4 0\"/><feOffset dx=\"4.0\" dy=\"4.0\" in=\"blurOut2\" result=\"blurOut3\"/><feBlend in=\"SourceGraphic\" in2=\"blurOut3\" mode=\"normal\"/></filter></defs><g><!--MD5=[fbc87193dbaf4d95561dea2c320d4a47]\n",
       "cluster E1--><a href=\"psysml:1fa0c0c0-6c41-491a-9601-36d7e4e40543\" target=\"_top\" title=\"psysml:1fa0c0c0-6c41-491a-9601-36d7e4e40543\" xlink:actuate=\"onRequest\" xlink:href=\"psysml:1fa0c0c0-6c41-491a-9601-36d7e4e40543\" xlink:show=\"new\" xlink:title=\"psysml:1fa0c0c0-6c41-491a-9601-36d7e4e40543\" xlink:type=\"simple\"><polygon fill=\"#FFFFFF\" filter=\"url(#f91cw5xvb06c4)\" points=\"16,6,147,6,154,28.2969,167,28.2969,167,421,16,421,16,6\" style=\"stroke: #000000; stroke-width: 1.5;\"/><line style=\"stroke: #000000; stroke-width: 1.5;\" x1=\"16\" x2=\"154\" y1=\"28.2969\" y2=\"28.2969\"/><text fill=\"#000000\" font-family=\"sans-serif\" font-size=\"14\" font-weight=\"bold\" lengthAdjust=\"spacingAndGlyphs\" textLength=\"125\" x=\"20\" y=\"20.9951\">ConnectionTest</text></a><!--MD5=[b4997ac47864f28c2f74865a473b2911]\n",
       "class E2--><a href=\"psysml:5f85cf43-367b-49d0-8c6e-b9320e7aab66\" target=\"_top\" title=\"psysml:5f85cf43-367b-49d0-8c6e-b9320e7aab66\" xlink:actuate=\"onRequest\" xlink:href=\"psysml:5f85cf43-367b-49d0-8c6e-b9320e7aab66\" xlink:show=\"new\" xlink:title=\"psysml:5f85cf43-367b-49d0-8c6e-b9320e7aab66\" xlink:type=\"simple\"><rect fill=\"#FEFECE\" filter=\"url(#f91cw5xvb06c4)\" height=\"45.9375\" id=\"E2\" rx=\"10\" ry=\"10\" style=\"stroke: #A80036; stroke-width: 1.5;\" width=\"42\" x=\"32\" y=\"253\"/><text fill=\"#000000\" font-family=\"sans-serif\" font-size=\"12\" font-style=\"italic\" lengthAdjust=\"spacingAndGlyphs\" textLength=\"40\" x=\"33\" y=\"269.1387\">«part»</text><text fill=\"#000000\" font-family=\"sans-serif\" font-size=\"12\" lengthAdjust=\"spacingAndGlyphs\" textLength=\"8\" x=\"49\" y=\"283.1074\">p</text><line style=\"stroke: #A80036; stroke-width: 1.5;\" x1=\"33\" x2=\"73\" y1=\"290.9375\" y2=\"290.9375\"/></a><!--MD5=[09b614a08d8cba4a07c9adeb5e0fee81]\n",
       "class E3--><a href=\"psysml:03220e95-b237-4532-8361-eb1844ca39e9\" target=\"_top\" title=\"psysml:03220e95-b237-4532-8361-eb1844ca39e9\" xlink:actuate=\"onRequest\" xlink:href=\"psysml:03220e95-b237-4532-8361-eb1844ca39e9\" xlink:show=\"new\" xlink:title=\"psysml:03220e95-b237-4532-8361-eb1844ca39e9\" xlink:type=\"simple\"><rect fill=\"#FEFECE\" filter=\"url(#f91cw5xvb06c4)\" height=\"45.9375\" id=\"E3\" rx=\"10\" ry=\"10\" style=\"stroke: #A80036; stroke-width: 1.5;\" width=\"42\" x=\"70\" y=\"359\"/><text fill=\"#000000\" font-family=\"sans-serif\" font-size=\"12\" font-style=\"italic\" lengthAdjust=\"spacingAndGlyphs\" textLength=\"40\" x=\"71\" y=\"375.1387\">«part»</text><text fill=\"#000000\" font-family=\"sans-serif\" font-size=\"12\" lengthAdjust=\"spacingAndGlyphs\" textLength=\"6\" x=\"88\" y=\"389.1074\">x</text><line style=\"stroke: #A80036; stroke-width: 1.5;\" x1=\"71\" x2=\"111\" y1=\"396.9375\" y2=\"396.9375\"/></a><!--MD5=[ebbe1d658d1005bcc118a6aa81145e00]\n",
       "class E4--><a href=\"psysml:deb35dd4-2c3a-4fce-b73d-f2bc7012e274\" target=\"_top\" title=\"psysml:deb35dd4-2c3a-4fce-b73d-f2bc7012e274\" xlink:actuate=\"onRequest\" xlink:href=\"psysml:deb35dd4-2c3a-4fce-b73d-f2bc7012e274\" xlink:show=\"new\" xlink:title=\"psysml:deb35dd4-2c3a-4fce-b73d-f2bc7012e274\" xlink:type=\"simple\"><rect fill=\"#FEFECE\" filter=\"url(#f91cw5xvb06c4)\" height=\"45.9375\" id=\"E4\" style=\"stroke: #A80036; stroke-width: 1.5;\" width=\"66\" x=\"58\" y=\"41\"/><text fill=\"#000000\" font-family=\"sans-serif\" font-size=\"12\" font-style=\"italic\" lengthAdjust=\"spacingAndGlyphs\" textLength=\"64\" x=\"59\" y=\"57.1387\">«part def»</text><text fill=\"#000000\" font-family=\"sans-serif\" font-size=\"12\" lengthAdjust=\"spacingAndGlyphs\" textLength=\"8\" x=\"87\" y=\"71.1074\">P</text><line style=\"stroke: #A80036; stroke-width: 1.5;\" x1=\"59\" x2=\"123\" y1=\"78.9375\" y2=\"78.9375\"/></a><!--MD5=[270fce915f116d4de14055a7c1d9a0f3]\n",
       "class E5--><a href=\"psysml:021693d6-d6d0-45d3-85e9-0e056c3c99ea\" target=\"_top\" title=\"psysml:021693d6-d6d0-45d3-85e9-0e056c3c99ea\" xlink:actuate=\"onRequest\" xlink:href=\"psysml:021693d6-d6d0-45d3-85e9-0e056c3c99ea\" xlink:show=\"new\" xlink:title=\"psysml:021693d6-d6d0-45d3-85e9-0e056c3c99ea\" xlink:type=\"simple\"><rect fill=\"#FEFECE\" filter=\"url(#f91cw5xvb06c4)\" height=\"45.9375\" id=\"E5\" rx=\"10\" ry=\"10\" style=\"stroke: #A80036; stroke-width: 1.5;\" width=\"42\" x=\"32\" y=\"147\"/><text fill=\"#000000\" font-family=\"sans-serif\" font-size=\"12\" font-style=\"italic\" lengthAdjust=\"spacingAndGlyphs\" textLength=\"40\" x=\"33\" y=\"163.1387\">«part»</text><text fill=\"#000000\" font-family=\"sans-serif\" font-size=\"12\" lengthAdjust=\"spacingAndGlyphs\" textLength=\"6\" x=\"50\" y=\"177.1074\">y</text><line style=\"stroke: #A80036; stroke-width: 1.5;\" x1=\"33\" x2=\"73\" y1=\"184.9375\" y2=\"184.9375\"/></a><!--MD5=[60a26617385b1d2d0262a64233df1f8d]\n",
       "class E6--><a href=\"psysml:48ad0273-6ae0-4e72-b6eb-52596fa39c0f\" target=\"_top\" title=\"psysml:48ad0273-6ae0-4e72-b6eb-52596fa39c0f\" xlink:actuate=\"onRequest\" xlink:href=\"psysml:48ad0273-6ae0-4e72-b6eb-52596fa39c0f\" xlink:show=\"new\" xlink:title=\"psysml:48ad0273-6ae0-4e72-b6eb-52596fa39c0f\" xlink:type=\"simple\"><rect fill=\"#FEFECE\" filter=\"url(#f91cw5xvb06c4)\" height=\"45.9375\" id=\"E6\" rx=\"10\" ry=\"10\" style=\"stroke: #A80036; stroke-width: 1.5;\" width=\"42\" x=\"109\" y=\"147\"/><text fill=\"#000000\" font-family=\"sans-serif\" font-size=\"12\" font-style=\"italic\" lengthAdjust=\"spacingAndGlyphs\" textLength=\"40\" x=\"110\" y=\"163.1387\">«part»</text><text fill=\"#000000\" font-family=\"sans-serif\" font-size=\"12\" lengthAdjust=\"spacingAndGlyphs\" textLength=\"16\" x=\"122\" y=\"177.1074\">p1</text><line style=\"stroke: #A80036; stroke-width: 1.5;\" x1=\"110\" x2=\"150\" y1=\"184.9375\" y2=\"184.9375\"/></a><!--MD5=[2156ba9850f5573cc1fc38a6a4b2f02b]\n",
       "class E7--><a href=\"psysml:3d476d3d-b46e-46da-94ef-54f71581d8bd\" target=\"_top\" title=\"psysml:3d476d3d-b46e-46da-94ef-54f71581d8bd\" xlink:actuate=\"onRequest\" xlink:href=\"psysml:3d476d3d-b46e-46da-94ef-54f71581d8bd\" xlink:show=\"new\" xlink:title=\"psysml:3d476d3d-b46e-46da-94ef-54f71581d8bd\" xlink:type=\"simple\"><rect fill=\"#FEFECE\" filter=\"url(#f91cw5xvb06c4)\" height=\"45.9375\" id=\"E7\" rx=\"10\" ry=\"10\" style=\"stroke: #A80036; stroke-width: 1.5;\" width=\"42\" x=\"109\" y=\"253\"/><text fill=\"#000000\" font-family=\"sans-serif\" font-size=\"12\" font-style=\"italic\" lengthAdjust=\"spacingAndGlyphs\" textLength=\"40\" x=\"110\" y=\"269.1387\">«part»</text><text fill=\"#000000\" font-family=\"sans-serif\" font-size=\"12\" lengthAdjust=\"spacingAndGlyphs\" textLength=\"6\" x=\"127\" y=\"283.1074\">x</text><line style=\"stroke: #A80036; stroke-width: 1.5;\" x1=\"110\" x2=\"150\" y1=\"290.9375\" y2=\"290.9375\"/></a><!--MD5=[209b3feb70ccb6233bfe1053d122c12c]\n",
       "reverse link E2 to E3--><a href=\"psysml:03220e95-b237-4532-8361-eb1844ca39e9\" target=\"_top\" title=\"psysml:03220e95-b237-4532-8361-eb1844ca39e9\" xlink:actuate=\"onRequest\" xlink:href=\"psysml:03220e95-b237-4532-8361-eb1844ca39e9\" xlink:show=\"new\" xlink:title=\"psysml:03220e95-b237-4532-8361-eb1844ca39e9\" xlink:type=\"simple\"><path d=\"M65.6,311.49 C71.32,327.15 77.92,345.19 82.95,358.98 \" fill=\"none\" id=\"E2&lt;-E3\" style=\"stroke: #A80036; stroke-width: 1.0;\"/><polygon fill=\"#A80036\" points=\"61.06,299.06,59.3691,306.07,65.1895,310.3271,66.8804,303.317,61.06,299.06\" style=\"stroke: #A80036; stroke-width: 1.0;\"/></a><!--MD5=[62aa6af11e70f752912c1cb0466f24f7]\n",
       "reverse link E4 to E5--><a href=\"psysml:021693d6-d6d0-45d3-85e9-0e056c3c99ea\" target=\"_top\" title=\"psysml:021693d6-d6d0-45d3-85e9-0e056c3c99ea\" xlink:actuate=\"onRequest\" xlink:href=\"psysml:021693d6-d6d0-45d3-85e9-0e056c3c99ea\" xlink:show=\"new\" xlink:title=\"psysml:021693d6-d6d0-45d3-85e9-0e056c3c99ea\" xlink:type=\"simple\"><path d=\"M78.4,99.49 C72.68,115.15 66.08,133.19 61.05,146.98 \" fill=\"none\" id=\"E4&lt;-E5\" style=\"stroke: #A80036; stroke-width: 1.0;\"/><polygon fill=\"#A80036\" points=\"82.94,87.06,77.1196,91.317,78.8105,98.3271,84.6309,94.07,82.94,87.06\" style=\"stroke: #A80036; stroke-width: 1.0;\"/></a><!--MD5=[2351f337d6de0f557b50152ba70847b5]\n",
       "link E6 to E2--><a href=\"psysml:9890fb32-dc37-43db-abbc-6177a2056fad\" target=\"_top\" title=\"psysml:9890fb32-dc37-43db-abbc-6177a2056fad\" xlink:actuate=\"onRequest\" xlink:href=\"psysml:9890fb32-dc37-43db-abbc-6177a2056fad\" xlink:show=\"new\" xlink:title=\"psysml:9890fb32-dc37-43db-abbc-6177a2056fad\" xlink:type=\"simple\"><path d=\"M113.67,193.06 C104.28,205.74 92.22,222.03 81.32,236.74 \" fill=\"none\" id=\"E6-&gt;E2\" style=\"stroke: #A80036; stroke-width: 1.0;\"/><polygon fill=\"none\" points=\"86.83,241.07,69.31,252.98,75.58,232.74,86.83,241.07\" style=\"stroke: #A80036; stroke-width: 1.0;\"/></a><!--MD5=[6db378b65e1aef66a01cb3103812b399]\n",
       "reverse link E4 to E6--><a href=\"psysml:48ad0273-6ae0-4e72-b6eb-52596fa39c0f\" target=\"_top\" title=\"psysml:48ad0273-6ae0-4e72-b6eb-52596fa39c0f\" xlink:actuate=\"onRequest\" xlink:href=\"psysml:48ad0273-6ae0-4e72-b6eb-52596fa39c0f\" xlink:show=\"new\" xlink:title=\"psysml:48ad0273-6ae0-4e72-b6eb-52596fa39c0f\" xlink:type=\"simple\"><path d=\"M103.94,99.49 C109.8,115.15 116.57,133.19 121.74,146.98 \" fill=\"none\" id=\"E4&lt;-E6\" style=\"stroke: #A80036; stroke-width: 1.0;\"/><polygon fill=\"#A80036\" points=\"99.27,87.06,97.635,94.0833,103.4893,98.2938,105.1242,91.2705,99.27,87.06\" style=\"stroke: #A80036; stroke-width: 1.0;\"/></a><!--MD5=[14ccda38c055a5c0da953d572bc50960]\n",
       "link E7 to E3--><a href=\"psysml:6e6cfa00-bc1f-4d19-92ba-1126ed543e13\" target=\"_top\" title=\"psysml:6e6cfa00-bc1f-4d19-92ba-1126ed543e13\" xlink:actuate=\"onRequest\" xlink:href=\"psysml:6e6cfa00-bc1f-4d19-92ba-1126ed543e13\" xlink:show=\"new\" xlink:title=\"psysml:6e6cfa00-bc1f-4d19-92ba-1126ed543e13\" xlink:type=\"simple\"><path d=\"M121.73,299.06 C117.28,310.91 111.65,325.92 106.43,339.85 \" fill=\"none\" id=\"E7-&gt;E3\" style=\"stroke: #A80036; stroke-width: 1.0;\"/><polygon fill=\"#FFFFFF\" points=\"99.26,358.98,99.3821,338.7319,112.4895,343.6509,99.26,358.98\" style=\"stroke: #A80036; stroke-width: 1.0;\"/><line style=\"stroke: #A80036; stroke-width: 2.0;\" x1=\"100.7173\" x2=\"113.8247\" y1=\"335.1742\" y2=\"340.0932\"/></a><!--MD5=[3f50a3473f1dfb74d3f76443e03635af]\n",
       "reverse link E6 to E7--><a href=\"psysml:3d476d3d-b46e-46da-94ef-54f71581d8bd\" target=\"_top\" title=\"psysml:3d476d3d-b46e-46da-94ef-54f71581d8bd\" xlink:actuate=\"onRequest\" xlink:href=\"psysml:3d476d3d-b46e-46da-94ef-54f71581d8bd\" xlink:show=\"new\" xlink:title=\"psysml:3d476d3d-b46e-46da-94ef-54f71581d8bd\" xlink:type=\"simple\"><path d=\"M130,206.44 C130,221.87 130,239.47 130,252.98 \" fill=\"none\" id=\"E6&lt;-E7\" style=\"stroke: #A80036; stroke-width: 1.0;\"/><polygon fill=\"#A80036\" points=\"130,193.06,126,199.06,130,205.06,134,199.06,130,193.06\" style=\"stroke: #A80036; stroke-width: 1.0;\"/></a><!--MD5=[ea71f65d354cc33131b10d3f700c4b27]\n",
       "@startuml\r\n",
       "skinparam wrapWidth 300\r\n",
       "hide circle\r\n",
       "\r\n",
       "package \"ConnectionTest\" as E1  [[psysml:1fa0c0c0-6c41-491a-9601-36d7e4e40543 ]]  {\r\n",
       "comp usage \"p\" as E2  <<(T,blue)part>> [[psysml:5f85cf43-367b-49d0-8c6e-b9320e7aab66 ]] {\r\n",
       "}\r\n",
       "comp usage \"x\" as E3  <<(T,blue)part>> [[psysml:03220e95-b237-4532-8361-eb1844ca39e9 ]] {\r\n",
       "}\r\n",
       "comp def \"P\" as E4  <<(T,blue)part def>> [[psysml:deb35dd4-2c3a-4fce-b73d-f2bc7012e274 ]] {\r\n",
       "}\r\n",
       "comp usage \"y\" as E5  <<(T,blue)part>> [[psysml:021693d6-d6d0-45d3-85e9-0e056c3c99ea ]] {\r\n",
       "}\r\n",
       "comp usage \"p1\" as E6  <<(T,blue)part>> [[psysml:48ad0273-6ae0-4e72-b6eb-52596fa39c0f ]] {\r\n",
       "}\r\n",
       "comp usage \"x\" as E7  <<(T,blue)part>> [[psysml:3d476d3d-b46e-46da-94ef-54f71581d8bd ]] {\r\n",
       "}\r\n",
       "E2 *- - E3 [[psysml:03220e95-b237-4532-8361-eb1844ca39e9 ]] \r\n",
       "E4 *- - E5 [[psysml:021693d6-d6d0-45d3-85e9-0e056c3c99ea ]] \r\n",
       "E6 - -|> E2 [[psysml:9890fb32-dc37-43db-abbc-6177a2056fad ]] \r\n",
       "E4 *- - E6 [[psysml:48ad0273-6ae0-4e72-b6eb-52596fa39c0f ]] \r\n",
       "E7 - -||> E3 [[psysml:6e6cfa00-bc1f-4d19-92ba-1126ed543e13 ]] \r\n",
       "E6 *- - E7 [[psysml:3d476d3d-b46e-46da-94ef-54f71581d8bd ]] \r\n",
       "}\r\n",
       "@enduml\r\n",
       "\n",
       "PlantUML version 1.2020.13(Sat Jun 13 12:26:38 UTC 2020)\n",
       "(EPL source distribution)\n",
       "Java Runtime: OpenJDK Runtime Environment\n",
       "JVM: OpenJDK 64-Bit Server VM\n",
       "Default Encoding: UTF-8\n",
       "Language: en\n",
       "Country: null\n",
       "--></g></svg>"
      ]
     },
     "execution_count": 24,
     "metadata": {},
     "output_type": "execute_result"
    }
   ],
   "source": [
    "%viz --style=\"STDCOLOR\" --view=\"Tree\" \"ConnectionTest\""
   ]
  },
  {
   "cell_type": "code",
   "execution_count": 25,
   "id": "enclosed-boring",
   "metadata": {
    "execution": {
     "iopub.execute_input": "2021-03-25T13:50:04.075427Z",
     "iopub.status.busy": "2021-03-25T13:50:04.074492Z",
     "iopub.status.idle": "2021-03-25T13:50:04.081550Z",
     "shell.execute_reply": "2021-03-25T13:50:04.082006Z"
    }
   },
   "outputs": [
    {
     "data": {
      "image/svg+xml": [
       "<?xml version=\"1.0\" encoding=\"UTF-8\" standalone=\"no\"?><svg xmlns=\"http://www.w3.org/2000/svg\" xmlns:xlink=\"http://www.w3.org/1999/xlink\" contentScriptType=\"application/ecmascript\" contentStyleType=\"text/css\" height=\"12px\" preserveAspectRatio=\"none\" style=\"width:12px;height:12px;\" version=\"1.1\" viewBox=\"0 0 12 12\" width=\"12px\" zoomAndPan=\"magnify\"><defs/><g><!--MD5=[aeeef50f102b80d730deb6443d14f702]\n",
       "@startuml\r\n",
       "skinparam wrapWidth 300\r\n",
       "hide circle\r\n",
       "\r\n",
       "@enduml\r\n",
       "\n",
       "PlantUML version 1.2020.13(Sat Jun 13 12:26:38 UTC 2020)\n",
       "(EPL source distribution)\n",
       "Java Runtime: OpenJDK Runtime Environment\n",
       "JVM: OpenJDK 64-Bit Server VM\n",
       "Default Encoding: UTF-8\n",
       "Language: en\n",
       "Country: null\n",
       "--></g></svg>"
      ]
     },
     "execution_count": 25,
     "metadata": {},
     "output_type": "execute_result"
    }
   ],
   "source": [
    "%viz --style=\"STDCOLOR\" --view=\"State\" \"ConnectionTest\""
   ]
  },
  {
   "cell_type": "code",
   "execution_count": 26,
   "id": "collective-drill",
   "metadata": {
    "execution": {
     "iopub.execute_input": "2021-03-25T13:50:04.133185Z",
     "iopub.status.busy": "2021-03-25T13:50:04.132609Z",
     "iopub.status.idle": "2021-03-25T13:50:04.220735Z",
     "shell.execute_reply": "2021-03-25T13:50:04.219479Z"
    }
   },
   "outputs": [
    {
     "data": {
      "image/svg+xml": [
       "<?xml version=\"1.0\" encoding=\"UTF-8\" standalone=\"no\"?><svg xmlns=\"http://www.w3.org/2000/svg\" xmlns:xlink=\"http://www.w3.org/1999/xlink\" contentScriptType=\"application/ecmascript\" contentStyleType=\"text/css\" height=\"323px\" preserveAspectRatio=\"none\" style=\"width:385px;height:323px;\" version=\"1.1\" viewBox=\"0 0 385 323\" width=\"385px\" zoomAndPan=\"magnify\"><defs><filter height=\"300%\" id=\"f1l1n95wawecnp\" width=\"300%\" x=\"-1\" y=\"-1\"><feGaussianBlur result=\"blurOut\" stdDeviation=\"2.0\"/><feColorMatrix in=\"blurOut\" result=\"blurOut2\" type=\"matrix\" values=\"0 0 0 0 0 0 0 0 0 0 0 0 0 0 0 0 0 0 .4 0\"/><feOffset dx=\"4.0\" dy=\"4.0\" in=\"blurOut2\" result=\"blurOut3\"/><feBlend in=\"SourceGraphic\" in2=\"blurOut3\" mode=\"normal\"/></filter></defs><g><!--MD5=[fbc87193dbaf4d95561dea2c320d4a47]\n",
       "cluster E1--><a href=\"psysml:1fa0c0c0-6c41-491a-9601-36d7e4e40543\" target=\"_top\" title=\"psysml:1fa0c0c0-6c41-491a-9601-36d7e4e40543\" xlink:actuate=\"onRequest\" xlink:href=\"psysml:1fa0c0c0-6c41-491a-9601-36d7e4e40543\" xlink:show=\"new\" xlink:title=\"psysml:1fa0c0c0-6c41-491a-9601-36d7e4e40543\" xlink:type=\"simple\"><polygon fill=\"#FFFFFF\" filter=\"url(#f1l1n95wawecnp)\" points=\"16,6,147,6,154,28.2969,363,28.2969,363,311,16,311,16,6\" style=\"stroke: #000000; stroke-width: 1.5;\"/><line style=\"stroke: #000000; stroke-width: 1.5;\" x1=\"16\" x2=\"154\" y1=\"28.2969\" y2=\"28.2969\"/><text fill=\"#000000\" font-family=\"sans-serif\" font-size=\"14\" font-weight=\"bold\" lengthAdjust=\"spacingAndGlyphs\" textLength=\"125\" x=\"20\" y=\"20.9951\">ConnectionTest</text></a><!--MD5=[e4f7fae6ed58524ba242bb0b0d3be6b7]\n",
       "cluster E2--><a href=\"psysml:5f85cf43-367b-49d0-8c6e-b9320e7aab66\" target=\"_top\" title=\"psysml:5f85cf43-367b-49d0-8c6e-b9320e7aab66\" xlink:actuate=\"onRequest\" xlink:href=\"psysml:5f85cf43-367b-49d0-8c6e-b9320e7aab66\" xlink:show=\"new\" xlink:title=\"psysml:5f85cf43-367b-49d0-8c6e-b9320e7aab66\" xlink:type=\"simple\"><rect fill=\"#FFFFFF\" filter=\"url(#f1l1n95wawecnp)\" height=\"107\" id=\"E2\" rx=\"10\" ry=\"10\" style=\"stroke: #A80036; stroke-width: 1.5;\" width=\"117\" x=\"214\" y=\"164\"/><rect fill=\"#FEFECE\" height=\"23.9688\" rx=\"10\" ry=\"10\" style=\"stroke: #FEFECE; stroke-width: 1.5;\" width=\"117\" x=\"214\" y=\"164\"/><rect fill=\"#FEFECE\" height=\"10\" style=\"stroke: #FEFECE; stroke-width: 1.5;\" width=\"117\" x=\"214\" y=\"177.9688\"/><rect fill=\"none\" height=\"107\" id=\"E2\" rx=\"10\" ry=\"10\" style=\"stroke: #A80036; stroke-width: 1.5;\" width=\"117\" x=\"214\" y=\"164\"/><text fill=\"#000000\" font-family=\"sans-serif\" font-size=\"12\" lengthAdjust=\"spacingAndGlyphs\" textLength=\"8\" x=\"268.5\" y=\"180.1387\">p</text><line style=\"stroke: #A80036; stroke-width: 1.0;\" x1=\"214\" x2=\"331\" y1=\"187.9688\" y2=\"187.9688\"/></a><!--MD5=[f6df4d0ebaf0b5dfb2ced0ae5af7c670]\n",
       "cluster E4--><a href=\"psysml:deb35dd4-2c3a-4fce-b73d-f2bc7012e274\" target=\"_top\" title=\"psysml:deb35dd4-2c3a-4fce-b73d-f2bc7012e274\" xlink:actuate=\"onRequest\" xlink:href=\"psysml:deb35dd4-2c3a-4fce-b73d-f2bc7012e274\" xlink:show=\"new\" xlink:title=\"psysml:deb35dd4-2c3a-4fce-b73d-f2bc7012e274\" xlink:type=\"simple\"><rect fill=\"#FFFFFF\" filter=\"url(#f1l1n95wawecnp)\" height=\"238\" id=\"E4\" style=\"stroke: #A80036; stroke-width: 1.5;\" width=\"142\" x=\"40\" y=\"49\"/><rect fill=\"#FEFECE\" height=\"37.9375\" style=\"stroke: #A80036; stroke-width: 1.5;\" width=\"142\" x=\"40\" y=\"49\"/><text fill=\"#000000\" font-family=\"sans-serif\" font-size=\"12\" font-style=\"italic\" lengthAdjust=\"spacingAndGlyphs\" textLength=\"64\" x=\"79\" y=\"65.1387\">«part def»</text><text fill=\"#000000\" font-family=\"sans-serif\" font-size=\"12\" lengthAdjust=\"spacingAndGlyphs\" textLength=\"8\" x=\"107\" y=\"79.1074\">P</text></a><!--MD5=[14e3b0961a2654348d326746436168a1]\n",
       "cluster E6--><a href=\"psysml:48ad0273-6ae0-4e72-b6eb-52596fa39c0f\" target=\"_top\" title=\"psysml:48ad0273-6ae0-4e72-b6eb-52596fa39c0f\" xlink:actuate=\"onRequest\" xlink:href=\"psysml:48ad0273-6ae0-4e72-b6eb-52596fa39c0f\" xlink:show=\"new\" xlink:title=\"psysml:48ad0273-6ae0-4e72-b6eb-52596fa39c0f\" xlink:type=\"simple\"><rect fill=\"#FFFFFF\" filter=\"url(#f1l1n95wawecnp)\" height=\"91\" id=\"E6\" rx=\"10\" ry=\"10\" style=\"stroke: #A80036; stroke-width: 1.5;\" width=\"94\" x=\"64\" y=\"172\"/><rect fill=\"#FEFECE\" height=\"23.9688\" rx=\"10\" ry=\"10\" style=\"stroke: #FEFECE; stroke-width: 1.5;\" width=\"94\" x=\"64\" y=\"172\"/><rect fill=\"#FEFECE\" height=\"10\" style=\"stroke: #FEFECE; stroke-width: 1.5;\" width=\"94\" x=\"64\" y=\"185.9688\"/><rect fill=\"none\" height=\"91\" id=\"E6\" rx=\"10\" ry=\"10\" style=\"stroke: #A80036; stroke-width: 1.5;\" width=\"94\" x=\"64\" y=\"172\"/><text fill=\"#000000\" font-family=\"sans-serif\" font-size=\"12\" lengthAdjust=\"spacingAndGlyphs\" textLength=\"16\" x=\"103\" y=\"188.1387\">p1</text><line style=\"stroke: #A80036; stroke-width: 1.0;\" x1=\"64\" x2=\"158\" y1=\"195.9688\" y2=\"195.9688\"/></a><g id=\"E1.E2.E3\"><a href=\"psysml:03220e95-b237-4532-8361-eb1844ca39e9\" target=\"_top\" title=\"psysml:03220e95-b237-4532-8361-eb1844ca39e9\" xlink:actuate=\"onRequest\" xlink:href=\"psysml:03220e95-b237-4532-8361-eb1844ca39e9\" xlink:show=\"new\" xlink:title=\"psysml:03220e95-b237-4532-8361-eb1844ca39e9\" xlink:type=\"simple\"><rect fill=\"#FEFECE\" filter=\"url(#f1l1n95wawecnp)\" height=\"40\" id=\"E3\" rx=\"10\" ry=\"10\" style=\"stroke: #A80036; stroke-width: 1.5;\" width=\"50\" x=\"257\" y=\"207\"/><text fill=\"#000000\" font-family=\"sans-serif\" font-size=\"12\" lengthAdjust=\"spacingAndGlyphs\" textLength=\"6\" x=\"279\" y=\"223.1387\">x</text></a></g><g id=\"E1.E4.E5\"><a href=\"psysml:021693d6-d6d0-45d3-85e9-0e056c3c99ea\" target=\"_top\" title=\"psysml:021693d6-d6d0-45d3-85e9-0e056c3c99ea\" xlink:actuate=\"onRequest\" xlink:href=\"psysml:021693d6-d6d0-45d3-85e9-0e056c3c99ea\" xlink:show=\"new\" xlink:title=\"psysml:021693d6-d6d0-45d3-85e9-0e056c3c99ea\" xlink:type=\"simple\"><rect fill=\"#FEFECE\" filter=\"url(#f1l1n95wawecnp)\" height=\"40\" id=\"E5\" rx=\"10\" ry=\"10\" style=\"stroke: #A80036; stroke-width: 1.5;\" width=\"50\" x=\"101\" y=\"100\"/><text fill=\"#000000\" font-family=\"sans-serif\" font-size=\"12\" lengthAdjust=\"spacingAndGlyphs\" textLength=\"6\" x=\"123\" y=\"116.1387\">y</text></a></g><g id=\"E1.E4.E6.E7\"><a href=\"psysml:3d476d3d-b46e-46da-94ef-54f71581d8bd\" target=\"_top\" title=\"psysml:3d476d3d-b46e-46da-94ef-54f71581d8bd\" xlink:actuate=\"onRequest\" xlink:href=\"psysml:3d476d3d-b46e-46da-94ef-54f71581d8bd\" xlink:show=\"new\" xlink:title=\"psysml:3d476d3d-b46e-46da-94ef-54f71581d8bd\" xlink:type=\"simple\"><rect fill=\"#FEFECE\" filter=\"url(#f1l1n95wawecnp)\" height=\"40\" id=\"E7\" rx=\"10\" ry=\"10\" style=\"stroke: #A80036; stroke-width: 1.5;\" width=\"61\" x=\"80.5\" y=\"207\"/><path d=\"M88,213 L88,223 L89,223 L89,213 M92,213 L92,223 L100,218 L92,213 L93,214.5 L98.5,218 L93,221.5 L93,214.5 \" fill=\"#000000\" style=\"stroke: ; stroke-width: 0.0; stroke-dasharray: ;\"/><text fill=\"#000000\" font-family=\"sans-serif\" font-size=\"12\" lengthAdjust=\"spacingAndGlyphs\" textLength=\"6\" x=\"104\" y=\"224.1699\">x</text><text fill=\"#000000\" font-family=\"sans-serif\" font-size=\"12\" lengthAdjust=\"spacingAndGlyphs\" text-decoration=\"line-through\" textLength=\"22\" x=\"114\" y=\"224.1699\">p::x</text></a></g><!--MD5=[15ebcb19ae302d9b601edb458606d402]\n",
       "link E5 to E2--><a href=\"psysml:a2e30144-7cbb-4348-81c9-870149c1f1e3\" target=\"_top\" title=\"psysml:a2e30144-7cbb-4348-81c9-870149c1f1e3\" xlink:actuate=\"onRequest\" xlink:href=\"psysml:a2e30144-7cbb-4348-81c9-870149c1f1e3\" xlink:show=\"new\" xlink:title=\"psysml:a2e30144-7cbb-4348-81c9-870149c1f1e3\" xlink:type=\"simple\"><path d=\"M149.86,140.29 C152.67,142.81 155.45,145.41 158,148 C173.255,163.465 188.7475,182.2475 200.6688,197.5063 C203.6491,201.3209 206.4062,204.9154 208.8806,208.1827 C210.1178,209.8164 211.2843,211.3683 212.3727,212.825 C212.9169,213.5534 213.4416,214.2579 213.9458,214.9371 \" fill=\"none\" id=\"E5-E2\" style=\"stroke: #A80036; stroke-width: 3.0;\"/></a><!--MD5=[3a9b96bfbf6b6ad89c494e81751bda47]\n",
       "link E5 to E7--><a href=\"psysml:81751fd3-19d9-42b1-be5d-d1a292525231\" target=\"_top\" title=\"psysml:81751fd3-19d9-42b1-be5d-d1a292525231\" xlink:actuate=\"onRequest\" xlink:href=\"psysml:81751fd3-19d9-42b1-be5d-d1a292525231\" xlink:show=\"new\" xlink:title=\"psysml:81751fd3-19d9-42b1-be5d-d1a292525231\" xlink:type=\"simple\"><path d=\"M123.25,140.26 C120.54,159.2 116.43,187.96 113.73,206.86 \" fill=\"none\" id=\"E5-E7\" style=\"stroke: #A80036; stroke-width: 3.0;\"/></a><!--MD5=[3f0feff8ad51995374b2ffabb2b4d431]\n",
       "@startuml\r\n",
       "skinparam ranksep 8\r\n",
       "skinparam rectangle {\r\n",
       " backgroundColor<<block>> LightGreen\r\n",
       "}\r\n",
       "skinparam wrapWidth 300\r\n",
       "hide circle\r\n",
       "\r\n",
       "package \"ConnectionTest\" as E1  [[psysml:1fa0c0c0-6c41-491a-9601-36d7e4e40543 ]]  {\r\n",
       "rec usage \"p\" as E2  [[psysml:5f85cf43-367b-49d0-8c6e-b9320e7aab66 ]] {\r\n",
       "rec usage \"x\" as E3  [[psysml:03220e95-b237-4532-8361-eb1844ca39e9 ]] {\r\n",
       "}\r\n",
       "}\r\n",
       "rec def \"P\" as E4  <<(T,blue)part def>> [[psysml:deb35dd4-2c3a-4fce-b73d-f2bc7012e274 ]] {\r\n",
       "rec usage \"y\" as E5  [[psysml:021693d6-d6d0-45d3-85e9-0e056c3c99ea ]] {\r\n",
       "}\r\n",
       "rec usage \"p1\" as E6  [[psysml:48ad0273-6ae0-4e72-b6eb-52596fa39c0f ]] {\r\n",
       "rec usage \"<&bar-trig> x <s>p::x</s>\" as E7  [[psysml:3d476d3d-b46e-46da-94ef-54f71581d8bd ]] {\r\n",
       "}\r\n",
       "}\r\n",
       "}\r\n",
       "E5 -[thickness=3]- E2 [[psysml:a2e30144-7cbb-4348-81c9-870149c1f1e3 ]] \r\n",
       "E5 -[thickness=3]- E7 [[psysml:81751fd3-19d9-42b1-be5d-d1a292525231 ]] \r\n",
       "}\r\n",
       "@enduml\r\n",
       "\n",
       "PlantUML version 1.2020.13(Sat Jun 13 12:26:38 UTC 2020)\n",
       "(EPL source distribution)\n",
       "Java Runtime: OpenJDK Runtime Environment\n",
       "JVM: OpenJDK 64-Bit Server VM\n",
       "Default Encoding: UTF-8\n",
       "Language: en\n",
       "Country: null\n",
       "--></g></svg>"
      ]
     },
     "execution_count": 26,
     "metadata": {},
     "output_type": "execute_result"
    }
   ],
   "source": [
    "%viz --style=\"STDCOLOR\" --view=\"Interconnection\" \"ConnectionTest\""
   ]
  },
  {
   "cell_type": "code",
   "execution_count": 27,
   "id": "concrete-sleep",
   "metadata": {
    "execution": {
     "iopub.execute_input": "2021-03-25T13:50:04.271588Z",
     "iopub.status.busy": "2021-03-25T13:50:04.271089Z",
     "iopub.status.idle": "2021-03-25T13:50:04.278202Z",
     "shell.execute_reply": "2021-03-25T13:50:04.277818Z"
    }
   },
   "outputs": [
    {
     "data": {
      "image/svg+xml": [
       "<?xml version=\"1.0\" encoding=\"UTF-8\" standalone=\"no\"?><svg xmlns=\"http://www.w3.org/2000/svg\" xmlns:xlink=\"http://www.w3.org/1999/xlink\" contentScriptType=\"application/ecmascript\" contentStyleType=\"text/css\" height=\"12px\" preserveAspectRatio=\"none\" style=\"width:12px;height:12px;\" version=\"1.1\" viewBox=\"0 0 12 12\" width=\"12px\" zoomAndPan=\"magnify\"><defs/><g><!--MD5=[9863325348a96a77dacc89509d8ee65e]\n",
       "@startuml\r\n",
       "skinparam ranksep 8\r\n",
       "skinparam wrapWidth 300\r\n",
       "hide circle\r\n",
       "\r\n",
       "@enduml\r\n",
       "\n",
       "PlantUML version 1.2020.13(Sat Jun 13 12:26:38 UTC 2020)\n",
       "(EPL source distribution)\n",
       "Java Runtime: OpenJDK Runtime Environment\n",
       "JVM: OpenJDK 64-Bit Server VM\n",
       "Default Encoding: UTF-8\n",
       "Language: en\n",
       "Country: null\n",
       "--></g></svg>"
      ]
     },
     "execution_count": 27,
     "metadata": {},
     "output_type": "execute_result"
    }
   ],
   "source": [
    "%viz --style=\"STDCOLOR\" --view=\"Action\" \"ConnectionTest\""
   ]
  },
  {
   "cell_type": "code",
   "execution_count": 28,
   "id": "distinguished-edgar",
   "metadata": {
    "execution": {
     "iopub.execute_input": "2021-03-25T13:50:04.330148Z",
     "iopub.status.busy": "2021-03-25T13:50:04.329377Z",
     "iopub.status.idle": "2021-03-25T13:50:04.400535Z",
     "shell.execute_reply": "2021-03-25T13:50:04.398905Z"
    }
   },
   "outputs": [
    {
     "data": {
      "image/svg+xml": [
       "<?xml version=\"1.0\" encoding=\"UTF-8\" standalone=\"no\"?><svg xmlns=\"http://www.w3.org/2000/svg\" xmlns:xlink=\"http://www.w3.org/1999/xlink\" contentScriptType=\"application/ecmascript\" contentStyleType=\"text/css\" height=\"433px\" preserveAspectRatio=\"none\" style=\"width:189px;height:433px;\" version=\"1.1\" viewBox=\"0 0 189 433\" width=\"189px\" zoomAndPan=\"magnify\"><defs><filter height=\"300%\" id=\"f91cw5xvb06c4\" width=\"300%\" x=\"-1\" y=\"-1\"><feGaussianBlur result=\"blurOut\" stdDeviation=\"2.0\"/><feColorMatrix in=\"blurOut\" result=\"blurOut2\" type=\"matrix\" values=\"0 0 0 0 0 0 0 0 0 0 0 0 0 0 0 0 0 0 .4 0\"/><feOffset dx=\"4.0\" dy=\"4.0\" in=\"blurOut2\" result=\"blurOut3\"/><feBlend in=\"SourceGraphic\" in2=\"blurOut3\" mode=\"normal\"/></filter></defs><g><!--MD5=[fbc87193dbaf4d95561dea2c320d4a47]\n",
       "cluster E1--><a href=\"psysml:1fa0c0c0-6c41-491a-9601-36d7e4e40543\" target=\"_top\" title=\"psysml:1fa0c0c0-6c41-491a-9601-36d7e4e40543\" xlink:actuate=\"onRequest\" xlink:href=\"psysml:1fa0c0c0-6c41-491a-9601-36d7e4e40543\" xlink:show=\"new\" xlink:title=\"psysml:1fa0c0c0-6c41-491a-9601-36d7e4e40543\" xlink:type=\"simple\"><polygon fill=\"#FFFFFF\" filter=\"url(#f91cw5xvb06c4)\" points=\"16,6,147,6,154,28.2969,167,28.2969,167,421,16,421,16,6\" style=\"stroke: #000000; stroke-width: 1.5;\"/><line style=\"stroke: #000000; stroke-width: 1.5;\" x1=\"16\" x2=\"154\" y1=\"28.2969\" y2=\"28.2969\"/><text fill=\"#000000\" font-family=\"sans-serif\" font-size=\"14\" font-weight=\"bold\" lengthAdjust=\"spacingAndGlyphs\" textLength=\"125\" x=\"20\" y=\"20.9951\">ConnectionTest</text></a><!--MD5=[b4997ac47864f28c2f74865a473b2911]\n",
       "class E2--><a href=\"psysml:5f85cf43-367b-49d0-8c6e-b9320e7aab66\" target=\"_top\" title=\"psysml:5f85cf43-367b-49d0-8c6e-b9320e7aab66\" xlink:actuate=\"onRequest\" xlink:href=\"psysml:5f85cf43-367b-49d0-8c6e-b9320e7aab66\" xlink:show=\"new\" xlink:title=\"psysml:5f85cf43-367b-49d0-8c6e-b9320e7aab66\" xlink:type=\"simple\"><rect fill=\"#FEFECE\" filter=\"url(#f91cw5xvb06c4)\" height=\"45.9375\" id=\"E2\" rx=\"10\" ry=\"10\" style=\"stroke: #A80036; stroke-width: 1.5;\" width=\"42\" x=\"32\" y=\"253\"/><text fill=\"#000000\" font-family=\"sans-serif\" font-size=\"12\" font-style=\"italic\" lengthAdjust=\"spacingAndGlyphs\" textLength=\"40\" x=\"33\" y=\"269.1387\">«part»</text><text fill=\"#000000\" font-family=\"sans-serif\" font-size=\"12\" lengthAdjust=\"spacingAndGlyphs\" textLength=\"8\" x=\"49\" y=\"283.1074\">p</text><line style=\"stroke: #A80036; stroke-width: 1.5;\" x1=\"33\" x2=\"73\" y1=\"290.9375\" y2=\"290.9375\"/></a><!--MD5=[09b614a08d8cba4a07c9adeb5e0fee81]\n",
       "class E3--><a href=\"psysml:03220e95-b237-4532-8361-eb1844ca39e9\" target=\"_top\" title=\"psysml:03220e95-b237-4532-8361-eb1844ca39e9\" xlink:actuate=\"onRequest\" xlink:href=\"psysml:03220e95-b237-4532-8361-eb1844ca39e9\" xlink:show=\"new\" xlink:title=\"psysml:03220e95-b237-4532-8361-eb1844ca39e9\" xlink:type=\"simple\"><rect fill=\"#FEFECE\" filter=\"url(#f91cw5xvb06c4)\" height=\"45.9375\" id=\"E3\" rx=\"10\" ry=\"10\" style=\"stroke: #A80036; stroke-width: 1.5;\" width=\"42\" x=\"70\" y=\"359\"/><text fill=\"#000000\" font-family=\"sans-serif\" font-size=\"12\" font-style=\"italic\" lengthAdjust=\"spacingAndGlyphs\" textLength=\"40\" x=\"71\" y=\"375.1387\">«part»</text><text fill=\"#000000\" font-family=\"sans-serif\" font-size=\"12\" lengthAdjust=\"spacingAndGlyphs\" textLength=\"6\" x=\"88\" y=\"389.1074\">x</text><line style=\"stroke: #A80036; stroke-width: 1.5;\" x1=\"71\" x2=\"111\" y1=\"396.9375\" y2=\"396.9375\"/></a><!--MD5=[ebbe1d658d1005bcc118a6aa81145e00]\n",
       "class E4--><a href=\"psysml:deb35dd4-2c3a-4fce-b73d-f2bc7012e274\" target=\"_top\" title=\"psysml:deb35dd4-2c3a-4fce-b73d-f2bc7012e274\" xlink:actuate=\"onRequest\" xlink:href=\"psysml:deb35dd4-2c3a-4fce-b73d-f2bc7012e274\" xlink:show=\"new\" xlink:title=\"psysml:deb35dd4-2c3a-4fce-b73d-f2bc7012e274\" xlink:type=\"simple\"><rect fill=\"#FEFECE\" filter=\"url(#f91cw5xvb06c4)\" height=\"45.9375\" id=\"E4\" style=\"stroke: #A80036; stroke-width: 1.5;\" width=\"66\" x=\"58\" y=\"41\"/><text fill=\"#000000\" font-family=\"sans-serif\" font-size=\"12\" font-style=\"italic\" lengthAdjust=\"spacingAndGlyphs\" textLength=\"64\" x=\"59\" y=\"57.1387\">«part def»</text><text fill=\"#000000\" font-family=\"sans-serif\" font-size=\"12\" lengthAdjust=\"spacingAndGlyphs\" textLength=\"8\" x=\"87\" y=\"71.1074\">P</text><line style=\"stroke: #A80036; stroke-width: 1.5;\" x1=\"59\" x2=\"123\" y1=\"78.9375\" y2=\"78.9375\"/></a><!--MD5=[270fce915f116d4de14055a7c1d9a0f3]\n",
       "class E5--><a href=\"psysml:021693d6-d6d0-45d3-85e9-0e056c3c99ea\" target=\"_top\" title=\"psysml:021693d6-d6d0-45d3-85e9-0e056c3c99ea\" xlink:actuate=\"onRequest\" xlink:href=\"psysml:021693d6-d6d0-45d3-85e9-0e056c3c99ea\" xlink:show=\"new\" xlink:title=\"psysml:021693d6-d6d0-45d3-85e9-0e056c3c99ea\" xlink:type=\"simple\"><rect fill=\"#FEFECE\" filter=\"url(#f91cw5xvb06c4)\" height=\"45.9375\" id=\"E5\" rx=\"10\" ry=\"10\" style=\"stroke: #A80036; stroke-width: 1.5;\" width=\"42\" x=\"32\" y=\"147\"/><text fill=\"#000000\" font-family=\"sans-serif\" font-size=\"12\" font-style=\"italic\" lengthAdjust=\"spacingAndGlyphs\" textLength=\"40\" x=\"33\" y=\"163.1387\">«part»</text><text fill=\"#000000\" font-family=\"sans-serif\" font-size=\"12\" lengthAdjust=\"spacingAndGlyphs\" textLength=\"6\" x=\"50\" y=\"177.1074\">y</text><line style=\"stroke: #A80036; stroke-width: 1.5;\" x1=\"33\" x2=\"73\" y1=\"184.9375\" y2=\"184.9375\"/></a><!--MD5=[60a26617385b1d2d0262a64233df1f8d]\n",
       "class E6--><a href=\"psysml:48ad0273-6ae0-4e72-b6eb-52596fa39c0f\" target=\"_top\" title=\"psysml:48ad0273-6ae0-4e72-b6eb-52596fa39c0f\" xlink:actuate=\"onRequest\" xlink:href=\"psysml:48ad0273-6ae0-4e72-b6eb-52596fa39c0f\" xlink:show=\"new\" xlink:title=\"psysml:48ad0273-6ae0-4e72-b6eb-52596fa39c0f\" xlink:type=\"simple\"><rect fill=\"#FEFECE\" filter=\"url(#f91cw5xvb06c4)\" height=\"45.9375\" id=\"E6\" rx=\"10\" ry=\"10\" style=\"stroke: #A80036; stroke-width: 1.5;\" width=\"42\" x=\"109\" y=\"147\"/><text fill=\"#000000\" font-family=\"sans-serif\" font-size=\"12\" font-style=\"italic\" lengthAdjust=\"spacingAndGlyphs\" textLength=\"40\" x=\"110\" y=\"163.1387\">«part»</text><text fill=\"#000000\" font-family=\"sans-serif\" font-size=\"12\" lengthAdjust=\"spacingAndGlyphs\" textLength=\"16\" x=\"122\" y=\"177.1074\">p1</text><line style=\"stroke: #A80036; stroke-width: 1.5;\" x1=\"110\" x2=\"150\" y1=\"184.9375\" y2=\"184.9375\"/></a><!--MD5=[2156ba9850f5573cc1fc38a6a4b2f02b]\n",
       "class E7--><a href=\"psysml:3d476d3d-b46e-46da-94ef-54f71581d8bd\" target=\"_top\" title=\"psysml:3d476d3d-b46e-46da-94ef-54f71581d8bd\" xlink:actuate=\"onRequest\" xlink:href=\"psysml:3d476d3d-b46e-46da-94ef-54f71581d8bd\" xlink:show=\"new\" xlink:title=\"psysml:3d476d3d-b46e-46da-94ef-54f71581d8bd\" xlink:type=\"simple\"><rect fill=\"#FEFECE\" filter=\"url(#f91cw5xvb06c4)\" height=\"45.9375\" id=\"E7\" rx=\"10\" ry=\"10\" style=\"stroke: #A80036; stroke-width: 1.5;\" width=\"42\" x=\"109\" y=\"253\"/><text fill=\"#000000\" font-family=\"sans-serif\" font-size=\"12\" font-style=\"italic\" lengthAdjust=\"spacingAndGlyphs\" textLength=\"40\" x=\"110\" y=\"269.1387\">«part»</text><text fill=\"#000000\" font-family=\"sans-serif\" font-size=\"12\" lengthAdjust=\"spacingAndGlyphs\" textLength=\"6\" x=\"127\" y=\"283.1074\">x</text><line style=\"stroke: #A80036; stroke-width: 1.5;\" x1=\"110\" x2=\"150\" y1=\"290.9375\" y2=\"290.9375\"/></a><!--MD5=[209b3feb70ccb6233bfe1053d122c12c]\n",
       "reverse link E2 to E3--><a href=\"psysml:03220e95-b237-4532-8361-eb1844ca39e9\" target=\"_top\" title=\"psysml:03220e95-b237-4532-8361-eb1844ca39e9\" xlink:actuate=\"onRequest\" xlink:href=\"psysml:03220e95-b237-4532-8361-eb1844ca39e9\" xlink:show=\"new\" xlink:title=\"psysml:03220e95-b237-4532-8361-eb1844ca39e9\" xlink:type=\"simple\"><path d=\"M65.6,311.49 C71.32,327.15 77.92,345.19 82.95,358.98 \" fill=\"none\" id=\"E2&lt;-E3\" style=\"stroke: #A80036; stroke-width: 1.0;\"/><polygon fill=\"#A80036\" points=\"61.06,299.06,59.3691,306.07,65.1895,310.3271,66.8804,303.317,61.06,299.06\" style=\"stroke: #A80036; stroke-width: 1.0;\"/></a><!--MD5=[62aa6af11e70f752912c1cb0466f24f7]\n",
       "reverse link E4 to E5--><a href=\"psysml:021693d6-d6d0-45d3-85e9-0e056c3c99ea\" target=\"_top\" title=\"psysml:021693d6-d6d0-45d3-85e9-0e056c3c99ea\" xlink:actuate=\"onRequest\" xlink:href=\"psysml:021693d6-d6d0-45d3-85e9-0e056c3c99ea\" xlink:show=\"new\" xlink:title=\"psysml:021693d6-d6d0-45d3-85e9-0e056c3c99ea\" xlink:type=\"simple\"><path d=\"M78.4,99.49 C72.68,115.15 66.08,133.19 61.05,146.98 \" fill=\"none\" id=\"E4&lt;-E5\" style=\"stroke: #A80036; stroke-width: 1.0;\"/><polygon fill=\"#A80036\" points=\"82.94,87.06,77.1196,91.317,78.8105,98.3271,84.6309,94.07,82.94,87.06\" style=\"stroke: #A80036; stroke-width: 1.0;\"/></a><!--MD5=[2351f337d6de0f557b50152ba70847b5]\n",
       "link E6 to E2--><a href=\"psysml:9890fb32-dc37-43db-abbc-6177a2056fad\" target=\"_top\" title=\"psysml:9890fb32-dc37-43db-abbc-6177a2056fad\" xlink:actuate=\"onRequest\" xlink:href=\"psysml:9890fb32-dc37-43db-abbc-6177a2056fad\" xlink:show=\"new\" xlink:title=\"psysml:9890fb32-dc37-43db-abbc-6177a2056fad\" xlink:type=\"simple\"><path d=\"M113.67,193.06 C104.28,205.74 92.22,222.03 81.32,236.74 \" fill=\"none\" id=\"E6-&gt;E2\" style=\"stroke: #A80036; stroke-width: 1.0;\"/><polygon fill=\"none\" points=\"86.83,241.07,69.31,252.98,75.58,232.74,86.83,241.07\" style=\"stroke: #A80036; stroke-width: 1.0;\"/></a><!--MD5=[6db378b65e1aef66a01cb3103812b399]\n",
       "reverse link E4 to E6--><a href=\"psysml:48ad0273-6ae0-4e72-b6eb-52596fa39c0f\" target=\"_top\" title=\"psysml:48ad0273-6ae0-4e72-b6eb-52596fa39c0f\" xlink:actuate=\"onRequest\" xlink:href=\"psysml:48ad0273-6ae0-4e72-b6eb-52596fa39c0f\" xlink:show=\"new\" xlink:title=\"psysml:48ad0273-6ae0-4e72-b6eb-52596fa39c0f\" xlink:type=\"simple\"><path d=\"M103.94,99.49 C109.8,115.15 116.57,133.19 121.74,146.98 \" fill=\"none\" id=\"E4&lt;-E6\" style=\"stroke: #A80036; stroke-width: 1.0;\"/><polygon fill=\"#A80036\" points=\"99.27,87.06,97.635,94.0833,103.4893,98.2938,105.1242,91.2705,99.27,87.06\" style=\"stroke: #A80036; stroke-width: 1.0;\"/></a><!--MD5=[14ccda38c055a5c0da953d572bc50960]\n",
       "link E7 to E3--><a href=\"psysml:6e6cfa00-bc1f-4d19-92ba-1126ed543e13\" target=\"_top\" title=\"psysml:6e6cfa00-bc1f-4d19-92ba-1126ed543e13\" xlink:actuate=\"onRequest\" xlink:href=\"psysml:6e6cfa00-bc1f-4d19-92ba-1126ed543e13\" xlink:show=\"new\" xlink:title=\"psysml:6e6cfa00-bc1f-4d19-92ba-1126ed543e13\" xlink:type=\"simple\"><path d=\"M121.73,299.06 C117.28,310.91 111.65,325.92 106.43,339.85 \" fill=\"none\" id=\"E7-&gt;E3\" style=\"stroke: #A80036; stroke-width: 1.0;\"/><polygon fill=\"#FFFFFF\" points=\"99.26,358.98,99.3821,338.7319,112.4895,343.6509,99.26,358.98\" style=\"stroke: #A80036; stroke-width: 1.0;\"/><line style=\"stroke: #A80036; stroke-width: 2.0;\" x1=\"100.7173\" x2=\"113.8247\" y1=\"335.1742\" y2=\"340.0932\"/></a><!--MD5=[3f50a3473f1dfb74d3f76443e03635af]\n",
       "reverse link E6 to E7--><a href=\"psysml:3d476d3d-b46e-46da-94ef-54f71581d8bd\" target=\"_top\" title=\"psysml:3d476d3d-b46e-46da-94ef-54f71581d8bd\" xlink:actuate=\"onRequest\" xlink:href=\"psysml:3d476d3d-b46e-46da-94ef-54f71581d8bd\" xlink:show=\"new\" xlink:title=\"psysml:3d476d3d-b46e-46da-94ef-54f71581d8bd\" xlink:type=\"simple\"><path d=\"M130,206.44 C130,221.87 130,239.47 130,252.98 \" fill=\"none\" id=\"E6&lt;-E7\" style=\"stroke: #A80036; stroke-width: 1.0;\"/><polygon fill=\"#A80036\" points=\"130,193.06,126,199.06,130,205.06,134,199.06,130,193.06\" style=\"stroke: #A80036; stroke-width: 1.0;\"/></a><!--MD5=[ea71f65d354cc33131b10d3f700c4b27]\n",
       "@startuml\r\n",
       "skinparam wrapWidth 300\r\n",
       "hide circle\r\n",
       "\r\n",
       "package \"ConnectionTest\" as E1  [[psysml:1fa0c0c0-6c41-491a-9601-36d7e4e40543 ]]  {\r\n",
       "comp usage \"p\" as E2  <<(T,blue)part>> [[psysml:5f85cf43-367b-49d0-8c6e-b9320e7aab66 ]] {\r\n",
       "}\r\n",
       "comp usage \"x\" as E3  <<(T,blue)part>> [[psysml:03220e95-b237-4532-8361-eb1844ca39e9 ]] {\r\n",
       "}\r\n",
       "comp def \"P\" as E4  <<(T,blue)part def>> [[psysml:deb35dd4-2c3a-4fce-b73d-f2bc7012e274 ]] {\r\n",
       "}\r\n",
       "comp usage \"y\" as E5  <<(T,blue)part>> [[psysml:021693d6-d6d0-45d3-85e9-0e056c3c99ea ]] {\r\n",
       "}\r\n",
       "comp usage \"p1\" as E6  <<(T,blue)part>> [[psysml:48ad0273-6ae0-4e72-b6eb-52596fa39c0f ]] {\r\n",
       "}\r\n",
       "comp usage \"x\" as E7  <<(T,blue)part>> [[psysml:3d476d3d-b46e-46da-94ef-54f71581d8bd ]] {\r\n",
       "}\r\n",
       "E2 *- - E3 [[psysml:03220e95-b237-4532-8361-eb1844ca39e9 ]] \r\n",
       "E4 *- - E5 [[psysml:021693d6-d6d0-45d3-85e9-0e056c3c99ea ]] \r\n",
       "E6 - -|> E2 [[psysml:9890fb32-dc37-43db-abbc-6177a2056fad ]] \r\n",
       "E4 *- - E6 [[psysml:48ad0273-6ae0-4e72-b6eb-52596fa39c0f ]] \r\n",
       "E7 - -||> E3 [[psysml:6e6cfa00-bc1f-4d19-92ba-1126ed543e13 ]] \r\n",
       "E6 *- - E7 [[psysml:3d476d3d-b46e-46da-94ef-54f71581d8bd ]] \r\n",
       "}\r\n",
       "@enduml\r\n",
       "\n",
       "PlantUML version 1.2020.13(Sat Jun 13 12:26:38 UTC 2020)\n",
       "(EPL source distribution)\n",
       "Java Runtime: OpenJDK Runtime Environment\n",
       "JVM: OpenJDK 64-Bit Server VM\n",
       "Default Encoding: UTF-8\n",
       "Language: en\n",
       "Country: null\n",
       "--></g></svg>"
      ]
     },
     "execution_count": 28,
     "metadata": {},
     "output_type": "execute_result"
    }
   ],
   "source": [
    "%viz --style=\"STDCOLOR\" --view=\"Sequence\" \"ConnectionTest\""
   ]
  },
  {
   "cell_type": "code",
   "execution_count": 29,
   "id": "mental-apparatus",
   "metadata": {
    "execution": {
     "iopub.execute_input": "2021-03-25T13:50:04.450055Z",
     "iopub.status.busy": "2021-03-25T13:50:04.449605Z",
     "iopub.status.idle": "2021-03-25T13:50:04.515168Z",
     "shell.execute_reply": "2021-03-25T13:50:04.513483Z"
    }
   },
   "outputs": [
    {
     "data": {
      "image/svg+xml": [
       "<?xml version=\"1.0\" encoding=\"UTF-8\" standalone=\"no\"?><svg xmlns=\"http://www.w3.org/2000/svg\" xmlns:xlink=\"http://www.w3.org/1999/xlink\" contentScriptType=\"application/ecmascript\" contentStyleType=\"text/css\" height=\"433px\" preserveAspectRatio=\"none\" style=\"width:189px;height:433px;\" version=\"1.1\" viewBox=\"0 0 189 433\" width=\"189px\" zoomAndPan=\"magnify\"><defs><filter height=\"300%\" id=\"f91cw5xvb06c4\" width=\"300%\" x=\"-1\" y=\"-1\"><feGaussianBlur result=\"blurOut\" stdDeviation=\"2.0\"/><feColorMatrix in=\"blurOut\" result=\"blurOut2\" type=\"matrix\" values=\"0 0 0 0 0 0 0 0 0 0 0 0 0 0 0 0 0 0 .4 0\"/><feOffset dx=\"4.0\" dy=\"4.0\" in=\"blurOut2\" result=\"blurOut3\"/><feBlend in=\"SourceGraphic\" in2=\"blurOut3\" mode=\"normal\"/></filter></defs><g><!--MD5=[fbc87193dbaf4d95561dea2c320d4a47]\n",
       "cluster E1--><a href=\"psysml:1fa0c0c0-6c41-491a-9601-36d7e4e40543\" target=\"_top\" title=\"psysml:1fa0c0c0-6c41-491a-9601-36d7e4e40543\" xlink:actuate=\"onRequest\" xlink:href=\"psysml:1fa0c0c0-6c41-491a-9601-36d7e4e40543\" xlink:show=\"new\" xlink:title=\"psysml:1fa0c0c0-6c41-491a-9601-36d7e4e40543\" xlink:type=\"simple\"><polygon fill=\"#FFFFFF\" filter=\"url(#f91cw5xvb06c4)\" points=\"16,6,147,6,154,28.2969,167,28.2969,167,421,16,421,16,6\" style=\"stroke: #000000; stroke-width: 1.5;\"/><line style=\"stroke: #000000; stroke-width: 1.5;\" x1=\"16\" x2=\"154\" y1=\"28.2969\" y2=\"28.2969\"/><text fill=\"#000000\" font-family=\"sans-serif\" font-size=\"14\" font-weight=\"bold\" lengthAdjust=\"spacingAndGlyphs\" textLength=\"125\" x=\"20\" y=\"20.9951\">ConnectionTest</text></a><!--MD5=[b4997ac47864f28c2f74865a473b2911]\n",
       "class E2--><a href=\"psysml:5f85cf43-367b-49d0-8c6e-b9320e7aab66\" target=\"_top\" title=\"psysml:5f85cf43-367b-49d0-8c6e-b9320e7aab66\" xlink:actuate=\"onRequest\" xlink:href=\"psysml:5f85cf43-367b-49d0-8c6e-b9320e7aab66\" xlink:show=\"new\" xlink:title=\"psysml:5f85cf43-367b-49d0-8c6e-b9320e7aab66\" xlink:type=\"simple\"><rect fill=\"#FEFECE\" filter=\"url(#f91cw5xvb06c4)\" height=\"45.9375\" id=\"E2\" rx=\"10\" ry=\"10\" style=\"stroke: #A80036; stroke-width: 1.5;\" width=\"42\" x=\"32\" y=\"253\"/><text fill=\"#000000\" font-family=\"sans-serif\" font-size=\"12\" font-style=\"italic\" lengthAdjust=\"spacingAndGlyphs\" textLength=\"40\" x=\"33\" y=\"269.1387\">«part»</text><text fill=\"#000000\" font-family=\"sans-serif\" font-size=\"12\" lengthAdjust=\"spacingAndGlyphs\" textLength=\"8\" x=\"49\" y=\"283.1074\">p</text><line style=\"stroke: #A80036; stroke-width: 1.5;\" x1=\"33\" x2=\"73\" y1=\"290.9375\" y2=\"290.9375\"/></a><!--MD5=[09b614a08d8cba4a07c9adeb5e0fee81]\n",
       "class E3--><a href=\"psysml:03220e95-b237-4532-8361-eb1844ca39e9\" target=\"_top\" title=\"psysml:03220e95-b237-4532-8361-eb1844ca39e9\" xlink:actuate=\"onRequest\" xlink:href=\"psysml:03220e95-b237-4532-8361-eb1844ca39e9\" xlink:show=\"new\" xlink:title=\"psysml:03220e95-b237-4532-8361-eb1844ca39e9\" xlink:type=\"simple\"><rect fill=\"#FEFECE\" filter=\"url(#f91cw5xvb06c4)\" height=\"45.9375\" id=\"E3\" rx=\"10\" ry=\"10\" style=\"stroke: #A80036; stroke-width: 1.5;\" width=\"42\" x=\"70\" y=\"359\"/><text fill=\"#000000\" font-family=\"sans-serif\" font-size=\"12\" font-style=\"italic\" lengthAdjust=\"spacingAndGlyphs\" textLength=\"40\" x=\"71\" y=\"375.1387\">«part»</text><text fill=\"#000000\" font-family=\"sans-serif\" font-size=\"12\" lengthAdjust=\"spacingAndGlyphs\" textLength=\"6\" x=\"88\" y=\"389.1074\">x</text><line style=\"stroke: #A80036; stroke-width: 1.5;\" x1=\"71\" x2=\"111\" y1=\"396.9375\" y2=\"396.9375\"/></a><!--MD5=[ebbe1d658d1005bcc118a6aa81145e00]\n",
       "class E4--><a href=\"psysml:deb35dd4-2c3a-4fce-b73d-f2bc7012e274\" target=\"_top\" title=\"psysml:deb35dd4-2c3a-4fce-b73d-f2bc7012e274\" xlink:actuate=\"onRequest\" xlink:href=\"psysml:deb35dd4-2c3a-4fce-b73d-f2bc7012e274\" xlink:show=\"new\" xlink:title=\"psysml:deb35dd4-2c3a-4fce-b73d-f2bc7012e274\" xlink:type=\"simple\"><rect fill=\"#FEFECE\" filter=\"url(#f91cw5xvb06c4)\" height=\"45.9375\" id=\"E4\" style=\"stroke: #A80036; stroke-width: 1.5;\" width=\"66\" x=\"58\" y=\"41\"/><text fill=\"#000000\" font-family=\"sans-serif\" font-size=\"12\" font-style=\"italic\" lengthAdjust=\"spacingAndGlyphs\" textLength=\"64\" x=\"59\" y=\"57.1387\">«part def»</text><text fill=\"#000000\" font-family=\"sans-serif\" font-size=\"12\" lengthAdjust=\"spacingAndGlyphs\" textLength=\"8\" x=\"87\" y=\"71.1074\">P</text><line style=\"stroke: #A80036; stroke-width: 1.5;\" x1=\"59\" x2=\"123\" y1=\"78.9375\" y2=\"78.9375\"/></a><!--MD5=[270fce915f116d4de14055a7c1d9a0f3]\n",
       "class E5--><a href=\"psysml:021693d6-d6d0-45d3-85e9-0e056c3c99ea\" target=\"_top\" title=\"psysml:021693d6-d6d0-45d3-85e9-0e056c3c99ea\" xlink:actuate=\"onRequest\" xlink:href=\"psysml:021693d6-d6d0-45d3-85e9-0e056c3c99ea\" xlink:show=\"new\" xlink:title=\"psysml:021693d6-d6d0-45d3-85e9-0e056c3c99ea\" xlink:type=\"simple\"><rect fill=\"#FEFECE\" filter=\"url(#f91cw5xvb06c4)\" height=\"45.9375\" id=\"E5\" rx=\"10\" ry=\"10\" style=\"stroke: #A80036; stroke-width: 1.5;\" width=\"42\" x=\"32\" y=\"147\"/><text fill=\"#000000\" font-family=\"sans-serif\" font-size=\"12\" font-style=\"italic\" lengthAdjust=\"spacingAndGlyphs\" textLength=\"40\" x=\"33\" y=\"163.1387\">«part»</text><text fill=\"#000000\" font-family=\"sans-serif\" font-size=\"12\" lengthAdjust=\"spacingAndGlyphs\" textLength=\"6\" x=\"50\" y=\"177.1074\">y</text><line style=\"stroke: #A80036; stroke-width: 1.5;\" x1=\"33\" x2=\"73\" y1=\"184.9375\" y2=\"184.9375\"/></a><!--MD5=[60a26617385b1d2d0262a64233df1f8d]\n",
       "class E6--><a href=\"psysml:48ad0273-6ae0-4e72-b6eb-52596fa39c0f\" target=\"_top\" title=\"psysml:48ad0273-6ae0-4e72-b6eb-52596fa39c0f\" xlink:actuate=\"onRequest\" xlink:href=\"psysml:48ad0273-6ae0-4e72-b6eb-52596fa39c0f\" xlink:show=\"new\" xlink:title=\"psysml:48ad0273-6ae0-4e72-b6eb-52596fa39c0f\" xlink:type=\"simple\"><rect fill=\"#FEFECE\" filter=\"url(#f91cw5xvb06c4)\" height=\"45.9375\" id=\"E6\" rx=\"10\" ry=\"10\" style=\"stroke: #A80036; stroke-width: 1.5;\" width=\"42\" x=\"109\" y=\"147\"/><text fill=\"#000000\" font-family=\"sans-serif\" font-size=\"12\" font-style=\"italic\" lengthAdjust=\"spacingAndGlyphs\" textLength=\"40\" x=\"110\" y=\"163.1387\">«part»</text><text fill=\"#000000\" font-family=\"sans-serif\" font-size=\"12\" lengthAdjust=\"spacingAndGlyphs\" textLength=\"16\" x=\"122\" y=\"177.1074\">p1</text><line style=\"stroke: #A80036; stroke-width: 1.5;\" x1=\"110\" x2=\"150\" y1=\"184.9375\" y2=\"184.9375\"/></a><!--MD5=[2156ba9850f5573cc1fc38a6a4b2f02b]\n",
       "class E7--><a href=\"psysml:3d476d3d-b46e-46da-94ef-54f71581d8bd\" target=\"_top\" title=\"psysml:3d476d3d-b46e-46da-94ef-54f71581d8bd\" xlink:actuate=\"onRequest\" xlink:href=\"psysml:3d476d3d-b46e-46da-94ef-54f71581d8bd\" xlink:show=\"new\" xlink:title=\"psysml:3d476d3d-b46e-46da-94ef-54f71581d8bd\" xlink:type=\"simple\"><rect fill=\"#FEFECE\" filter=\"url(#f91cw5xvb06c4)\" height=\"45.9375\" id=\"E7\" rx=\"10\" ry=\"10\" style=\"stroke: #A80036; stroke-width: 1.5;\" width=\"42\" x=\"109\" y=\"253\"/><text fill=\"#000000\" font-family=\"sans-serif\" font-size=\"12\" font-style=\"italic\" lengthAdjust=\"spacingAndGlyphs\" textLength=\"40\" x=\"110\" y=\"269.1387\">«part»</text><text fill=\"#000000\" font-family=\"sans-serif\" font-size=\"12\" lengthAdjust=\"spacingAndGlyphs\" textLength=\"6\" x=\"127\" y=\"283.1074\">x</text><line style=\"stroke: #A80036; stroke-width: 1.5;\" x1=\"110\" x2=\"150\" y1=\"290.9375\" y2=\"290.9375\"/></a><!--MD5=[209b3feb70ccb6233bfe1053d122c12c]\n",
       "reverse link E2 to E3--><a href=\"psysml:03220e95-b237-4532-8361-eb1844ca39e9\" target=\"_top\" title=\"psysml:03220e95-b237-4532-8361-eb1844ca39e9\" xlink:actuate=\"onRequest\" xlink:href=\"psysml:03220e95-b237-4532-8361-eb1844ca39e9\" xlink:show=\"new\" xlink:title=\"psysml:03220e95-b237-4532-8361-eb1844ca39e9\" xlink:type=\"simple\"><path d=\"M65.6,311.49 C71.32,327.15 77.92,345.19 82.95,358.98 \" fill=\"none\" id=\"E2&lt;-E3\" style=\"stroke: #A80036; stroke-width: 1.0;\"/><polygon fill=\"#A80036\" points=\"61.06,299.06,59.3691,306.07,65.1895,310.3271,66.8804,303.317,61.06,299.06\" style=\"stroke: #A80036; stroke-width: 1.0;\"/></a><!--MD5=[62aa6af11e70f752912c1cb0466f24f7]\n",
       "reverse link E4 to E5--><a href=\"psysml:021693d6-d6d0-45d3-85e9-0e056c3c99ea\" target=\"_top\" title=\"psysml:021693d6-d6d0-45d3-85e9-0e056c3c99ea\" xlink:actuate=\"onRequest\" xlink:href=\"psysml:021693d6-d6d0-45d3-85e9-0e056c3c99ea\" xlink:show=\"new\" xlink:title=\"psysml:021693d6-d6d0-45d3-85e9-0e056c3c99ea\" xlink:type=\"simple\"><path d=\"M78.4,99.49 C72.68,115.15 66.08,133.19 61.05,146.98 \" fill=\"none\" id=\"E4&lt;-E5\" style=\"stroke: #A80036; stroke-width: 1.0;\"/><polygon fill=\"#A80036\" points=\"82.94,87.06,77.1196,91.317,78.8105,98.3271,84.6309,94.07,82.94,87.06\" style=\"stroke: #A80036; stroke-width: 1.0;\"/></a><!--MD5=[2351f337d6de0f557b50152ba70847b5]\n",
       "link E6 to E2--><a href=\"psysml:9890fb32-dc37-43db-abbc-6177a2056fad\" target=\"_top\" title=\"psysml:9890fb32-dc37-43db-abbc-6177a2056fad\" xlink:actuate=\"onRequest\" xlink:href=\"psysml:9890fb32-dc37-43db-abbc-6177a2056fad\" xlink:show=\"new\" xlink:title=\"psysml:9890fb32-dc37-43db-abbc-6177a2056fad\" xlink:type=\"simple\"><path d=\"M113.67,193.06 C104.28,205.74 92.22,222.03 81.32,236.74 \" fill=\"none\" id=\"E6-&gt;E2\" style=\"stroke: #A80036; stroke-width: 1.0;\"/><polygon fill=\"none\" points=\"86.83,241.07,69.31,252.98,75.58,232.74,86.83,241.07\" style=\"stroke: #A80036; stroke-width: 1.0;\"/></a><!--MD5=[6db378b65e1aef66a01cb3103812b399]\n",
       "reverse link E4 to E6--><a href=\"psysml:48ad0273-6ae0-4e72-b6eb-52596fa39c0f\" target=\"_top\" title=\"psysml:48ad0273-6ae0-4e72-b6eb-52596fa39c0f\" xlink:actuate=\"onRequest\" xlink:href=\"psysml:48ad0273-6ae0-4e72-b6eb-52596fa39c0f\" xlink:show=\"new\" xlink:title=\"psysml:48ad0273-6ae0-4e72-b6eb-52596fa39c0f\" xlink:type=\"simple\"><path d=\"M103.94,99.49 C109.8,115.15 116.57,133.19 121.74,146.98 \" fill=\"none\" id=\"E4&lt;-E6\" style=\"stroke: #A80036; stroke-width: 1.0;\"/><polygon fill=\"#A80036\" points=\"99.27,87.06,97.635,94.0833,103.4893,98.2938,105.1242,91.2705,99.27,87.06\" style=\"stroke: #A80036; stroke-width: 1.0;\"/></a><!--MD5=[14ccda38c055a5c0da953d572bc50960]\n",
       "link E7 to E3--><a href=\"psysml:6e6cfa00-bc1f-4d19-92ba-1126ed543e13\" target=\"_top\" title=\"psysml:6e6cfa00-bc1f-4d19-92ba-1126ed543e13\" xlink:actuate=\"onRequest\" xlink:href=\"psysml:6e6cfa00-bc1f-4d19-92ba-1126ed543e13\" xlink:show=\"new\" xlink:title=\"psysml:6e6cfa00-bc1f-4d19-92ba-1126ed543e13\" xlink:type=\"simple\"><path d=\"M121.73,299.06 C117.28,310.91 111.65,325.92 106.43,339.85 \" fill=\"none\" id=\"E7-&gt;E3\" style=\"stroke: #A80036; stroke-width: 1.0;\"/><polygon fill=\"#FFFFFF\" points=\"99.26,358.98,99.3821,338.7319,112.4895,343.6509,99.26,358.98\" style=\"stroke: #A80036; stroke-width: 1.0;\"/><line style=\"stroke: #A80036; stroke-width: 2.0;\" x1=\"100.7173\" x2=\"113.8247\" y1=\"335.1742\" y2=\"340.0932\"/></a><!--MD5=[3f50a3473f1dfb74d3f76443e03635af]\n",
       "reverse link E6 to E7--><a href=\"psysml:3d476d3d-b46e-46da-94ef-54f71581d8bd\" target=\"_top\" title=\"psysml:3d476d3d-b46e-46da-94ef-54f71581d8bd\" xlink:actuate=\"onRequest\" xlink:href=\"psysml:3d476d3d-b46e-46da-94ef-54f71581d8bd\" xlink:show=\"new\" xlink:title=\"psysml:3d476d3d-b46e-46da-94ef-54f71581d8bd\" xlink:type=\"simple\"><path d=\"M130,206.44 C130,221.87 130,239.47 130,252.98 \" fill=\"none\" id=\"E6&lt;-E7\" style=\"stroke: #A80036; stroke-width: 1.0;\"/><polygon fill=\"#A80036\" points=\"130,193.06,126,199.06,130,205.06,134,199.06,130,193.06\" style=\"stroke: #A80036; stroke-width: 1.0;\"/></a><!--MD5=[ea71f65d354cc33131b10d3f700c4b27]\n",
       "@startuml\r\n",
       "skinparam wrapWidth 300\r\n",
       "hide circle\r\n",
       "\r\n",
       "package \"ConnectionTest\" as E1  [[psysml:1fa0c0c0-6c41-491a-9601-36d7e4e40543 ]]  {\r\n",
       "comp usage \"p\" as E2  <<(T,blue)part>> [[psysml:5f85cf43-367b-49d0-8c6e-b9320e7aab66 ]] {\r\n",
       "}\r\n",
       "comp usage \"x\" as E3  <<(T,blue)part>> [[psysml:03220e95-b237-4532-8361-eb1844ca39e9 ]] {\r\n",
       "}\r\n",
       "comp def \"P\" as E4  <<(T,blue)part def>> [[psysml:deb35dd4-2c3a-4fce-b73d-f2bc7012e274 ]] {\r\n",
       "}\r\n",
       "comp usage \"y\" as E5  <<(T,blue)part>> [[psysml:021693d6-d6d0-45d3-85e9-0e056c3c99ea ]] {\r\n",
       "}\r\n",
       "comp usage \"p1\" as E6  <<(T,blue)part>> [[psysml:48ad0273-6ae0-4e72-b6eb-52596fa39c0f ]] {\r\n",
       "}\r\n",
       "comp usage \"x\" as E7  <<(T,blue)part>> [[psysml:3d476d3d-b46e-46da-94ef-54f71581d8bd ]] {\r\n",
       "}\r\n",
       "E2 *- - E3 [[psysml:03220e95-b237-4532-8361-eb1844ca39e9 ]] \r\n",
       "E4 *- - E5 [[psysml:021693d6-d6d0-45d3-85e9-0e056c3c99ea ]] \r\n",
       "E6 - -|> E2 [[psysml:9890fb32-dc37-43db-abbc-6177a2056fad ]] \r\n",
       "E4 *- - E6 [[psysml:48ad0273-6ae0-4e72-b6eb-52596fa39c0f ]] \r\n",
       "E7 - -||> E3 [[psysml:6e6cfa00-bc1f-4d19-92ba-1126ed543e13 ]] \r\n",
       "E6 *- - E7 [[psysml:3d476d3d-b46e-46da-94ef-54f71581d8bd ]] \r\n",
       "}\r\n",
       "@enduml\r\n",
       "\n",
       "PlantUML version 1.2020.13(Sat Jun 13 12:26:38 UTC 2020)\n",
       "(EPL source distribution)\n",
       "Java Runtime: OpenJDK Runtime Environment\n",
       "JVM: OpenJDK 64-Bit Server VM\n",
       "Default Encoding: UTF-8\n",
       "Language: en\n",
       "Country: null\n",
       "--></g></svg>"
      ]
     },
     "execution_count": 29,
     "metadata": {},
     "output_type": "execute_result"
    }
   ],
   "source": [
    "%viz --style=\"STDCOLOR\" --view=\"MIXED\" \"ConnectionTest\""
   ]
  },
  {
   "cell_type": "code",
   "execution_count": 30,
   "id": "studied-memory",
   "metadata": {
    "execution": {
     "iopub.execute_input": "2021-03-25T13:50:04.565722Z",
     "iopub.status.busy": "2021-03-25T13:50:04.565277Z",
     "iopub.status.idle": "2021-03-25T13:50:04.651276Z",
     "shell.execute_reply": "2021-03-25T13:50:04.650777Z"
    }
   },
   "outputs": [
    {
     "data": {
      "image/svg+xml": [
       "<?xml version=\"1.0\" encoding=\"UTF-8\" standalone=\"no\"?><svg xmlns=\"http://www.w3.org/2000/svg\" xmlns:xlink=\"http://www.w3.org/1999/xlink\" contentScriptType=\"application/ecmascript\" contentStyleType=\"text/css\" height=\"427px\" preserveAspectRatio=\"none\" style=\"width:241px;height:427px;\" version=\"1.1\" viewBox=\"0 0 241 427\" width=\"241px\" zoomAndPan=\"magnify\"><defs><filter height=\"300%\" id=\"fv7rk7t3qyzuq\" width=\"300%\" x=\"-1\" y=\"-1\"><feGaussianBlur result=\"blurOut\" stdDeviation=\"2.0\"/><feColorMatrix in=\"blurOut\" result=\"blurOut2\" type=\"matrix\" values=\"0 0 0 0 0 0 0 0 0 0 0 0 0 0 0 0 0 0 .4 0\"/><feOffset dx=\"4.0\" dy=\"4.0\" in=\"blurOut2\" result=\"blurOut3\"/><feBlend in=\"SourceGraphic\" in2=\"blurOut3\" mode=\"normal\"/></filter></defs><g><!--MD5=[fbc87193dbaf4d95561dea2c320d4a47]\n",
       "cluster E1--><a href=\"psysml:1fa0c0c0-6c41-491a-9601-36d7e4e40543\" target=\"_top\" title=\"psysml:1fa0c0c0-6c41-491a-9601-36d7e4e40543\" xlink:actuate=\"onRequest\" xlink:href=\"psysml:1fa0c0c0-6c41-491a-9601-36d7e4e40543\" xlink:show=\"new\" xlink:title=\"psysml:1fa0c0c0-6c41-491a-9601-36d7e4e40543\" xlink:type=\"simple\"><polygon fill=\"#FFFFFF\" filter=\"url(#fv7rk7t3qyzuq)\" points=\"16,6,147,6,154,28.2969,219,28.2969,219,415,16,415,16,6\" style=\"stroke: #000000; stroke-width: 1.5;\"/><line style=\"stroke: #000000; stroke-width: 1.5;\" x1=\"16\" x2=\"154\" y1=\"28.2969\" y2=\"28.2969\"/><text fill=\"#000000\" font-family=\"sans-serif\" font-size=\"14\" font-weight=\"bold\" lengthAdjust=\"spacingAndGlyphs\" textLength=\"125\" x=\"20\" y=\"20.9951\">ConnectionTest</text></a><!--MD5=[b4997ac47864f28c2f74865a473b2911]\n",
       "class E2--><a href=\"psysml:5f85cf43-367b-49d0-8c6e-b9320e7aab66\" target=\"_top\" title=\"psysml:5f85cf43-367b-49d0-8c6e-b9320e7aab66\" xlink:actuate=\"onRequest\" xlink:href=\"psysml:5f85cf43-367b-49d0-8c6e-b9320e7aab66\" xlink:show=\"new\" xlink:title=\"psysml:5f85cf43-367b-49d0-8c6e-b9320e7aab66\" xlink:type=\"simple\"><rect fill=\"#FEFECE\" filter=\"url(#fv7rk7t3qyzuq)\" height=\"45.9375\" id=\"E2\" rx=\"10\" ry=\"10\" style=\"stroke: #A80036; stroke-width: 1.5;\" width=\"68\" x=\"32\" y=\"247\"/><ellipse cx=\"47\" cy=\"265.9688\" fill=\"#32CD32\" rx=\"11\" ry=\"11\" style=\"stroke: #A80036; stroke-width: 1.0;\"/><path d=\"M46.7969,261.6406 L46.7969,265.2656 L47.7969,265.2656 Q49,265.2656 49.4844,264.8594 Q49.9688,264.4531 49.9688,263.4531 Q49.9688,262.4531 49.4844,262.0469 Q49,261.6406 47.7969,261.6406 L46.7969,261.6406 Z M44.3438,259.5781 L47.7031,259.5781 Q50.2656,259.5781 51.3906,260.5 Q52.5156,261.4063 52.5156,263.4531 Q52.5156,265.5 51.3906,266.4219 Q50.2656,267.3281 47.7031,267.3281 L46.7969,267.3281 L46.7969,271.9688 L44.3438,271.9688 L44.3438,259.5781 Z \"/><text fill=\"#000000\" font-family=\"sans-serif\" font-size=\"12\" font-style=\"italic\" lengthAdjust=\"spacingAndGlyphs\" textLength=\"40\" x=\"59\" y=\"263.1387\">«part»</text><text fill=\"#000000\" font-family=\"sans-serif\" font-size=\"12\" lengthAdjust=\"spacingAndGlyphs\" textLength=\"8\" x=\"75\" y=\"277.1074\">p</text><line style=\"stroke: #A80036; stroke-width: 1.5;\" x1=\"33\" x2=\"99\" y1=\"284.9375\" y2=\"284.9375\"/></a><!--MD5=[09b614a08d8cba4a07c9adeb5e0fee81]\n",
       "class E3--><a href=\"psysml:03220e95-b237-4532-8361-eb1844ca39e9\" target=\"_top\" title=\"psysml:03220e95-b237-4532-8361-eb1844ca39e9\" xlink:actuate=\"onRequest\" xlink:href=\"psysml:03220e95-b237-4532-8361-eb1844ca39e9\" xlink:show=\"new\" xlink:title=\"psysml:03220e95-b237-4532-8361-eb1844ca39e9\" xlink:type=\"simple\"><rect fill=\"#FEFECE\" filter=\"url(#fv7rk7t3qyzuq)\" height=\"45.9375\" id=\"E3\" rx=\"10\" ry=\"10\" style=\"stroke: #A80036; stroke-width: 1.5;\" width=\"68\" x=\"83\" y=\"353\"/><ellipse cx=\"98\" cy=\"371.9688\" fill=\"#32CD32\" rx=\"11\" ry=\"11\" style=\"stroke: #A80036; stroke-width: 1.0;\"/><path d=\"M97.7969,367.6406 L97.7969,371.2656 L98.7969,371.2656 Q100,371.2656 100.4844,370.8594 Q100.9688,370.4531 100.9688,369.4531 Q100.9688,368.4531 100.4844,368.0469 Q100,367.6406 98.7969,367.6406 L97.7969,367.6406 Z M95.3438,365.5781 L98.7031,365.5781 Q101.2656,365.5781 102.3906,366.5 Q103.5156,367.4063 103.5156,369.4531 Q103.5156,371.5 102.3906,372.4219 Q101.2656,373.3281 98.7031,373.3281 L97.7969,373.3281 L97.7969,377.9688 L95.3438,377.9688 L95.3438,365.5781 Z \"/><text fill=\"#000000\" font-family=\"sans-serif\" font-size=\"12\" font-style=\"italic\" lengthAdjust=\"spacingAndGlyphs\" textLength=\"40\" x=\"110\" y=\"369.1387\">«part»</text><text fill=\"#000000\" font-family=\"sans-serif\" font-size=\"12\" lengthAdjust=\"spacingAndGlyphs\" textLength=\"6\" x=\"127\" y=\"383.1074\">x</text><line style=\"stroke: #A80036; stroke-width: 1.5;\" x1=\"84\" x2=\"150\" y1=\"390.9375\" y2=\"390.9375\"/></a><!--MD5=[ebbe1d658d1005bcc118a6aa81145e00]\n",
       "class E4--><a href=\"psysml:deb35dd4-2c3a-4fce-b73d-f2bc7012e274\" target=\"_top\" title=\"psysml:deb35dd4-2c3a-4fce-b73d-f2bc7012e274\" xlink:actuate=\"onRequest\" xlink:href=\"psysml:deb35dd4-2c3a-4fce-b73d-f2bc7012e274\" xlink:show=\"new\" xlink:title=\"psysml:deb35dd4-2c3a-4fce-b73d-f2bc7012e274\" xlink:type=\"simple\"><rect fill=\"#FEFECE\" filter=\"url(#fv7rk7t3qyzuq)\" height=\"40\" id=\"E4\" style=\"stroke: #A80036; stroke-width: 1.5;\" width=\"40\" x=\"97\" y=\"41\"/><ellipse cx=\"112\" cy=\"57\" fill=\"#008000\" rx=\"11\" ry=\"11\" style=\"stroke: #A80036; stroke-width: 1.0;\"/><path d=\"M110.9063,57.375 L110.9063,61.0469 L112.5313,61.0469 Q113.7031,61.0469 114.1719,60.6563 Q114.6406,60.25 114.6406,59.25 Q114.6406,58.25 114.1406,57.8125 Q113.6563,57.375 112.5313,57.375 L110.9063,57.375 Z M110.9063,52.5469 L110.9063,55.4219 L112.5313,55.4219 Q113.4531,55.4219 113.8438,55.0938 Q114.25,54.75 114.25,54 Q114.25,53.2344 113.8438,52.8906 Q113.4375,52.5469 112.5313,52.5469 L110.9063,52.5469 Z M108.5313,50.5938 L112.5313,50.5938 Q114.5938,50.5938 115.6406,51.375 Q116.6875,52.1563 116.6875,53.7188 Q116.6875,54.9219 116.0625,55.5938 Q115.4531,56.2656 114.2656,56.375 Q115.6875,56.5156 116.4063,57.3281 Q117.125,58.1406 117.125,59.5938 Q117.125,61.3906 116.0469,62.2031 Q114.9688,63 112.5313,63 L108.5313,63 L108.5313,50.5938 Z \"/><text fill=\"#000000\" font-family=\"sans-serif\" font-size=\"12\" lengthAdjust=\"spacingAndGlyphs\" textLength=\"8\" x=\"126\" y=\"61.1543\">P</text><line style=\"stroke: #A80036; stroke-width: 1.5;\" x1=\"98\" x2=\"136\" y1=\"73\" y2=\"73\"/></a><!--MD5=[270fce915f116d4de14055a7c1d9a0f3]\n",
       "class E5--><a href=\"psysml:021693d6-d6d0-45d3-85e9-0e056c3c99ea\" target=\"_top\" title=\"psysml:021693d6-d6d0-45d3-85e9-0e056c3c99ea\" xlink:actuate=\"onRequest\" xlink:href=\"psysml:021693d6-d6d0-45d3-85e9-0e056c3c99ea\" xlink:show=\"new\" xlink:title=\"psysml:021693d6-d6d0-45d3-85e9-0e056c3c99ea\" xlink:type=\"simple\"><rect fill=\"#FEFECE\" filter=\"url(#fv7rk7t3qyzuq)\" height=\"45.9375\" id=\"E5\" rx=\"10\" ry=\"10\" style=\"stroke: #A80036; stroke-width: 1.5;\" width=\"68\" x=\"32\" y=\"141\"/><ellipse cx=\"47\" cy=\"159.9688\" fill=\"#32CD32\" rx=\"11\" ry=\"11\" style=\"stroke: #A80036; stroke-width: 1.0;\"/><path d=\"M46.7969,155.6406 L46.7969,159.2656 L47.7969,159.2656 Q49,159.2656 49.4844,158.8594 Q49.9688,158.4531 49.9688,157.4531 Q49.9688,156.4531 49.4844,156.0469 Q49,155.6406 47.7969,155.6406 L46.7969,155.6406 Z M44.3438,153.5781 L47.7031,153.5781 Q50.2656,153.5781 51.3906,154.5 Q52.5156,155.4063 52.5156,157.4531 Q52.5156,159.5 51.3906,160.4219 Q50.2656,161.3281 47.7031,161.3281 L46.7969,161.3281 L46.7969,165.9688 L44.3438,165.9688 L44.3438,153.5781 Z \"/><text fill=\"#000000\" font-family=\"sans-serif\" font-size=\"12\" font-style=\"italic\" lengthAdjust=\"spacingAndGlyphs\" textLength=\"40\" x=\"59\" y=\"157.1387\">«part»</text><text fill=\"#000000\" font-family=\"sans-serif\" font-size=\"12\" lengthAdjust=\"spacingAndGlyphs\" textLength=\"6\" x=\"76\" y=\"171.1074\">y</text><line style=\"stroke: #A80036; stroke-width: 1.5;\" x1=\"33\" x2=\"99\" y1=\"178.9375\" y2=\"178.9375\"/></a><!--MD5=[60a26617385b1d2d0262a64233df1f8d]\n",
       "class E6--><a href=\"psysml:48ad0273-6ae0-4e72-b6eb-52596fa39c0f\" target=\"_top\" title=\"psysml:48ad0273-6ae0-4e72-b6eb-52596fa39c0f\" xlink:actuate=\"onRequest\" xlink:href=\"psysml:48ad0273-6ae0-4e72-b6eb-52596fa39c0f\" xlink:show=\"new\" xlink:title=\"psysml:48ad0273-6ae0-4e72-b6eb-52596fa39c0f\" xlink:type=\"simple\"><rect fill=\"#FEFECE\" filter=\"url(#fv7rk7t3qyzuq)\" height=\"45.9375\" id=\"E6\" rx=\"10\" ry=\"10\" style=\"stroke: #A80036; stroke-width: 1.5;\" width=\"68\" x=\"135\" y=\"141\"/><ellipse cx=\"150\" cy=\"159.9688\" fill=\"#32CD32\" rx=\"11\" ry=\"11\" style=\"stroke: #A80036; stroke-width: 1.0;\"/><path d=\"M149.7969,155.6406 L149.7969,159.2656 L150.7969,159.2656 Q152,159.2656 152.4844,158.8594 Q152.9688,158.4531 152.9688,157.4531 Q152.9688,156.4531 152.4844,156.0469 Q152,155.6406 150.7969,155.6406 L149.7969,155.6406 Z M147.3438,153.5781 L150.7031,153.5781 Q153.2656,153.5781 154.3906,154.5 Q155.5156,155.4063 155.5156,157.4531 Q155.5156,159.5 154.3906,160.4219 Q153.2656,161.3281 150.7031,161.3281 L149.7969,161.3281 L149.7969,165.9688 L147.3438,165.9688 L147.3438,153.5781 Z \"/><text fill=\"#000000\" font-family=\"sans-serif\" font-size=\"12\" font-style=\"italic\" lengthAdjust=\"spacingAndGlyphs\" textLength=\"40\" x=\"162\" y=\"157.1387\">«part»</text><text fill=\"#000000\" font-family=\"sans-serif\" font-size=\"12\" lengthAdjust=\"spacingAndGlyphs\" textLength=\"16\" x=\"174\" y=\"171.1074\">p1</text><line style=\"stroke: #A80036; stroke-width: 1.5;\" x1=\"136\" x2=\"202\" y1=\"178.9375\" y2=\"178.9375\"/></a><!--MD5=[2156ba9850f5573cc1fc38a6a4b2f02b]\n",
       "class E7--><a href=\"psysml:3d476d3d-b46e-46da-94ef-54f71581d8bd\" target=\"_top\" title=\"psysml:3d476d3d-b46e-46da-94ef-54f71581d8bd\" xlink:actuate=\"onRequest\" xlink:href=\"psysml:3d476d3d-b46e-46da-94ef-54f71581d8bd\" xlink:show=\"new\" xlink:title=\"psysml:3d476d3d-b46e-46da-94ef-54f71581d8bd\" xlink:type=\"simple\"><rect fill=\"#FEFECE\" filter=\"url(#fv7rk7t3qyzuq)\" height=\"45.9375\" id=\"E7\" rx=\"10\" ry=\"10\" style=\"stroke: #A80036; stroke-width: 1.5;\" width=\"68\" x=\"135\" y=\"247\"/><ellipse cx=\"150\" cy=\"265.9688\" fill=\"#32CD32\" rx=\"11\" ry=\"11\" style=\"stroke: #A80036; stroke-width: 1.0;\"/><path d=\"M149.7969,261.6406 L149.7969,265.2656 L150.7969,265.2656 Q152,265.2656 152.4844,264.8594 Q152.9688,264.4531 152.9688,263.4531 Q152.9688,262.4531 152.4844,262.0469 Q152,261.6406 150.7969,261.6406 L149.7969,261.6406 Z M147.3438,259.5781 L150.7031,259.5781 Q153.2656,259.5781 154.3906,260.5 Q155.5156,261.4063 155.5156,263.4531 Q155.5156,265.5 154.3906,266.4219 Q153.2656,267.3281 150.7031,267.3281 L149.7969,267.3281 L149.7969,271.9688 L147.3438,271.9688 L147.3438,259.5781 Z \"/><text fill=\"#000000\" font-family=\"sans-serif\" font-size=\"12\" font-style=\"italic\" lengthAdjust=\"spacingAndGlyphs\" textLength=\"40\" x=\"162\" y=\"263.1387\">«part»</text><text fill=\"#000000\" font-family=\"sans-serif\" font-size=\"12\" lengthAdjust=\"spacingAndGlyphs\" textLength=\"6\" x=\"179\" y=\"277.1074\">x</text><line style=\"stroke: #A80036; stroke-width: 1.5;\" x1=\"136\" x2=\"202\" y1=\"284.9375\" y2=\"284.9375\"/></a><!--MD5=[209b3feb70ccb6233bfe1053d122c12c]\n",
       "reverse link E2 to E3--><a href=\"psysml:03220e95-b237-4532-8361-eb1844ca39e9\" target=\"_top\" title=\"psysml:03220e95-b237-4532-8361-eb1844ca39e9\" xlink:actuate=\"onRequest\" xlink:href=\"psysml:03220e95-b237-4532-8361-eb1844ca39e9\" xlink:show=\"new\" xlink:title=\"psysml:03220e95-b237-4532-8361-eb1844ca39e9\" xlink:type=\"simple\"><path d=\"M82.69,305.03 C90.41,320.78 99.37,339.06 106.2,352.98 \" fill=\"none\" id=\"E2&lt;-E3\" style=\"stroke: #A80036; stroke-width: 1.0;\"/><polygon fill=\"#A80036\" points=\"76.82,293.06,75.8729,300.2086,82.1073,303.8324,83.0544,296.6838,76.82,293.06\" style=\"stroke: #A80036; stroke-width: 1.0;\"/></a><!--MD5=[62aa6af11e70f752912c1cb0466f24f7]\n",
       "reverse link E4 to E5--><a href=\"psysml:021693d6-d6d0-45d3-85e9-0e056c3c99ea\" target=\"_top\" title=\"psysml:021693d6-d6d0-45d3-85e9-0e056c3c99ea\" xlink:actuate=\"onRequest\" xlink:href=\"psysml:021693d6-d6d0-45d3-85e9-0e056c3c99ea\" xlink:show=\"new\" xlink:title=\"psysml:021693d6-d6d0-45d3-85e9-0e056c3c99ea\" xlink:type=\"simple\"><path d=\"M101.3,93.09 C93.51,108.51 84.29,126.78 77.22,140.77 \" fill=\"none\" id=\"E4&lt;-E5\" style=\"stroke: #A80036; stroke-width: 1.0;\"/><polygon fill=\"#A80036\" points=\"107.17,81.47,100.895,85.0231,101.7613,92.1819,108.0363,88.6289,107.17,81.47\" style=\"stroke: #A80036; stroke-width: 1.0;\"/></a><!--MD5=[2351f337d6de0f557b50152ba70847b5]\n",
       "link E6 to E2--><a href=\"psysml:9890fb32-dc37-43db-abbc-6177a2056fad\" target=\"_top\" title=\"psysml:9890fb32-dc37-43db-abbc-6177a2056fad\" xlink:actuate=\"onRequest\" xlink:href=\"psysml:9890fb32-dc37-43db-abbc-6177a2056fad\" xlink:show=\"new\" xlink:title=\"psysml:9890fb32-dc37-43db-abbc-6177a2056fad\" xlink:type=\"simple\"><path d=\"M147.16,187.06 C134.05,200.29 117.05,217.46 102,232.65 \" fill=\"none\" id=\"E6-&gt;E2\" style=\"stroke: #A80036; stroke-width: 1.0;\"/><polygon fill=\"none\" points=\"106.86,237.69,87.81,246.98,96.91,227.84,106.86,237.69\" style=\"stroke: #A80036; stroke-width: 1.0;\"/></a><!--MD5=[6db378b65e1aef66a01cb3103812b399]\n",
       "reverse link E4 to E6--><a href=\"psysml:48ad0273-6ae0-4e72-b6eb-52596fa39c0f\" target=\"_top\" title=\"psysml:48ad0273-6ae0-4e72-b6eb-52596fa39c0f\" xlink:actuate=\"onRequest\" xlink:href=\"psysml:48ad0273-6ae0-4e72-b6eb-52596fa39c0f\" xlink:show=\"new\" xlink:title=\"psysml:48ad0273-6ae0-4e72-b6eb-52596fa39c0f\" xlink:type=\"simple\"><path d=\"M133.01,93.09 C140.95,108.51 150.35,126.78 157.56,140.77 \" fill=\"none\" id=\"E4&lt;-E6\" style=\"stroke: #A80036; stroke-width: 1.0;\"/><polygon fill=\"#A80036\" points=\"127.03,81.47,126.2165,88.6351,132.5176,92.1418,133.331,84.9767,127.03,81.47\" style=\"stroke: #A80036; stroke-width: 1.0;\"/></a><!--MD5=[14ccda38c055a5c0da953d572bc50960]\n",
       "link E7 to E3--><a href=\"psysml:6e6cfa00-bc1f-4d19-92ba-1126ed543e13\" target=\"_top\" title=\"psysml:6e6cfa00-bc1f-4d19-92ba-1126ed543e13\" xlink:actuate=\"onRequest\" xlink:href=\"psysml:6e6cfa00-bc1f-4d19-92ba-1126ed543e13\" xlink:show=\"new\" xlink:title=\"psysml:6e6cfa00-bc1f-4d19-92ba-1126ed543e13\" xlink:type=\"simple\"><path d=\"M157.97,293.06 C151.91,305.19 144.19,320.62 137.09,334.82 \" fill=\"none\" id=\"E7-&gt;E3\" style=\"stroke: #A80036; stroke-width: 1.0;\"/><polygon fill=\"#FFFFFF\" points=\"128.01,352.98,130.2461,332.8554,142.768,339.1164,128.01,352.98\" style=\"stroke: #A80036; stroke-width: 1.0;\"/><line style=\"stroke: #A80036; stroke-width: 2.0;\" x1=\"131.9455\" x2=\"144.4675\" y1=\"329.4566\" y2=\"335.7176\"/></a><!--MD5=[3f50a3473f1dfb74d3f76443e03635af]\n",
       "reverse link E6 to E7--><a href=\"psysml:3d476d3d-b46e-46da-94ef-54f71581d8bd\" target=\"_top\" title=\"psysml:3d476d3d-b46e-46da-94ef-54f71581d8bd\" xlink:actuate=\"onRequest\" xlink:href=\"psysml:3d476d3d-b46e-46da-94ef-54f71581d8bd\" xlink:show=\"new\" xlink:title=\"psysml:3d476d3d-b46e-46da-94ef-54f71581d8bd\" xlink:type=\"simple\"><path d=\"M169,200.44 C169,215.87 169,233.47 169,246.98 \" fill=\"none\" id=\"E6&lt;-E7\" style=\"stroke: #A80036; stroke-width: 1.0;\"/><polygon fill=\"#A80036\" points=\"169,187.06,165,193.06,169,199.06,173,193.06,169,187.06\" style=\"stroke: #A80036; stroke-width: 1.0;\"/></a><!--MD5=[9c15c8ffc5239ec58bb2c5bc498fa65e]\n",
       "@startuml\r\n",
       " \r\n",
       "package \"ConnectionTest\" as E1  [[psysml:1fa0c0c0-6c41-491a-9601-36d7e4e40543 ]]  {\r\n",
       "comp usage \"p\" as E2  << (P,limegreen) part>> [[psysml:5f85cf43-367b-49d0-8c6e-b9320e7aab66 ]] {\r\n",
       "}\r\n",
       "comp usage \"x\" as E3  << (P,limegreen) part>> [[psysml:03220e95-b237-4532-8361-eb1844ca39e9 ]] {\r\n",
       "}\r\n",
       "comp def \"P\" as E4  << (B,green) >> [[psysml:deb35dd4-2c3a-4fce-b73d-f2bc7012e274 ]] {\r\n",
       "}\r\n",
       "comp usage \"y\" as E5  << (P,limegreen) part>> [[psysml:021693d6-d6d0-45d3-85e9-0e056c3c99ea ]] {\r\n",
       "}\r\n",
       "comp usage \"p1\" as E6  << (P,limegreen) part>> [[psysml:48ad0273-6ae0-4e72-b6eb-52596fa39c0f ]] {\r\n",
       "}\r\n",
       "comp usage \"x\" as E7  << (P,limegreen) part>> [[psysml:3d476d3d-b46e-46da-94ef-54f71581d8bd ]] {\r\n",
       "}\r\n",
       "E2 *- - E3 [[psysml:03220e95-b237-4532-8361-eb1844ca39e9 ]] \r\n",
       "E4 *- - E5 [[psysml:021693d6-d6d0-45d3-85e9-0e056c3c99ea ]] \r\n",
       "E6 - -|> E2 [[psysml:9890fb32-dc37-43db-abbc-6177a2056fad ]] \r\n",
       "E4 *- - E6 [[psysml:48ad0273-6ae0-4e72-b6eb-52596fa39c0f ]] \r\n",
       "E7 - -||> E3 [[psysml:6e6cfa00-bc1f-4d19-92ba-1126ed543e13 ]] \r\n",
       "E6 *- - E7 [[psysml:3d476d3d-b46e-46da-94ef-54f71581d8bd ]] \r\n",
       "}\r\n",
       "@enduml\r\n",
       "\n",
       "PlantUML version 1.2020.13(Sat Jun 13 12:26:38 UTC 2020)\n",
       "(EPL source distribution)\n",
       "Java Runtime: OpenJDK Runtime Environment\n",
       "JVM: OpenJDK 64-Bit Server VM\n",
       "Default Encoding: UTF-8\n",
       "Language: en\n",
       "Country: null\n",
       "--></g></svg>"
      ]
     },
     "execution_count": 30,
     "metadata": {},
     "output_type": "execute_result"
    }
   ],
   "source": [
    "%viz --style=\"PLANTUML\" --view=\"Default\" \"ConnectionTest\""
   ]
  },
  {
   "cell_type": "code",
   "execution_count": 31,
   "id": "massive-wichita",
   "metadata": {
    "execution": {
     "iopub.execute_input": "2021-03-25T13:50:04.701961Z",
     "iopub.status.busy": "2021-03-25T13:50:04.701373Z",
     "iopub.status.idle": "2021-03-25T13:50:04.765252Z",
     "shell.execute_reply": "2021-03-25T13:50:04.763588Z"
    }
   },
   "outputs": [
    {
     "data": {
      "image/svg+xml": [
       "<?xml version=\"1.0\" encoding=\"UTF-8\" standalone=\"no\"?><svg xmlns=\"http://www.w3.org/2000/svg\" xmlns:xlink=\"http://www.w3.org/1999/xlink\" contentScriptType=\"application/ecmascript\" contentStyleType=\"text/css\" height=\"427px\" preserveAspectRatio=\"none\" style=\"width:241px;height:427px;\" version=\"1.1\" viewBox=\"0 0 241 427\" width=\"241px\" zoomAndPan=\"magnify\"><defs><filter height=\"300%\" id=\"fv7rk7t3qyzuq\" width=\"300%\" x=\"-1\" y=\"-1\"><feGaussianBlur result=\"blurOut\" stdDeviation=\"2.0\"/><feColorMatrix in=\"blurOut\" result=\"blurOut2\" type=\"matrix\" values=\"0 0 0 0 0 0 0 0 0 0 0 0 0 0 0 0 0 0 .4 0\"/><feOffset dx=\"4.0\" dy=\"4.0\" in=\"blurOut2\" result=\"blurOut3\"/><feBlend in=\"SourceGraphic\" in2=\"blurOut3\" mode=\"normal\"/></filter></defs><g><!--MD5=[fbc87193dbaf4d95561dea2c320d4a47]\n",
       "cluster E1--><a href=\"psysml:1fa0c0c0-6c41-491a-9601-36d7e4e40543\" target=\"_top\" title=\"psysml:1fa0c0c0-6c41-491a-9601-36d7e4e40543\" xlink:actuate=\"onRequest\" xlink:href=\"psysml:1fa0c0c0-6c41-491a-9601-36d7e4e40543\" xlink:show=\"new\" xlink:title=\"psysml:1fa0c0c0-6c41-491a-9601-36d7e4e40543\" xlink:type=\"simple\"><polygon fill=\"#FFFFFF\" filter=\"url(#fv7rk7t3qyzuq)\" points=\"16,6,147,6,154,28.2969,219,28.2969,219,415,16,415,16,6\" style=\"stroke: #000000; stroke-width: 1.5;\"/><line style=\"stroke: #000000; stroke-width: 1.5;\" x1=\"16\" x2=\"154\" y1=\"28.2969\" y2=\"28.2969\"/><text fill=\"#000000\" font-family=\"sans-serif\" font-size=\"14\" font-weight=\"bold\" lengthAdjust=\"spacingAndGlyphs\" textLength=\"125\" x=\"20\" y=\"20.9951\">ConnectionTest</text></a><!--MD5=[b4997ac47864f28c2f74865a473b2911]\n",
       "class E2--><a href=\"psysml:5f85cf43-367b-49d0-8c6e-b9320e7aab66\" target=\"_top\" title=\"psysml:5f85cf43-367b-49d0-8c6e-b9320e7aab66\" xlink:actuate=\"onRequest\" xlink:href=\"psysml:5f85cf43-367b-49d0-8c6e-b9320e7aab66\" xlink:show=\"new\" xlink:title=\"psysml:5f85cf43-367b-49d0-8c6e-b9320e7aab66\" xlink:type=\"simple\"><rect fill=\"#FEFECE\" filter=\"url(#fv7rk7t3qyzuq)\" height=\"45.9375\" id=\"E2\" rx=\"10\" ry=\"10\" style=\"stroke: #A80036; stroke-width: 1.5;\" width=\"68\" x=\"32\" y=\"247\"/><ellipse cx=\"47\" cy=\"265.9688\" fill=\"#32CD32\" rx=\"11\" ry=\"11\" style=\"stroke: #A80036; stroke-width: 1.0;\"/><path d=\"M46.7969,261.6406 L46.7969,265.2656 L47.7969,265.2656 Q49,265.2656 49.4844,264.8594 Q49.9688,264.4531 49.9688,263.4531 Q49.9688,262.4531 49.4844,262.0469 Q49,261.6406 47.7969,261.6406 L46.7969,261.6406 Z M44.3438,259.5781 L47.7031,259.5781 Q50.2656,259.5781 51.3906,260.5 Q52.5156,261.4063 52.5156,263.4531 Q52.5156,265.5 51.3906,266.4219 Q50.2656,267.3281 47.7031,267.3281 L46.7969,267.3281 L46.7969,271.9688 L44.3438,271.9688 L44.3438,259.5781 Z \"/><text fill=\"#000000\" font-family=\"sans-serif\" font-size=\"12\" font-style=\"italic\" lengthAdjust=\"spacingAndGlyphs\" textLength=\"40\" x=\"59\" y=\"263.1387\">«part»</text><text fill=\"#000000\" font-family=\"sans-serif\" font-size=\"12\" lengthAdjust=\"spacingAndGlyphs\" textLength=\"8\" x=\"75\" y=\"277.1074\">p</text><line style=\"stroke: #A80036; stroke-width: 1.5;\" x1=\"33\" x2=\"99\" y1=\"284.9375\" y2=\"284.9375\"/></a><!--MD5=[09b614a08d8cba4a07c9adeb5e0fee81]\n",
       "class E3--><a href=\"psysml:03220e95-b237-4532-8361-eb1844ca39e9\" target=\"_top\" title=\"psysml:03220e95-b237-4532-8361-eb1844ca39e9\" xlink:actuate=\"onRequest\" xlink:href=\"psysml:03220e95-b237-4532-8361-eb1844ca39e9\" xlink:show=\"new\" xlink:title=\"psysml:03220e95-b237-4532-8361-eb1844ca39e9\" xlink:type=\"simple\"><rect fill=\"#FEFECE\" filter=\"url(#fv7rk7t3qyzuq)\" height=\"45.9375\" id=\"E3\" rx=\"10\" ry=\"10\" style=\"stroke: #A80036; stroke-width: 1.5;\" width=\"68\" x=\"83\" y=\"353\"/><ellipse cx=\"98\" cy=\"371.9688\" fill=\"#32CD32\" rx=\"11\" ry=\"11\" style=\"stroke: #A80036; stroke-width: 1.0;\"/><path d=\"M97.7969,367.6406 L97.7969,371.2656 L98.7969,371.2656 Q100,371.2656 100.4844,370.8594 Q100.9688,370.4531 100.9688,369.4531 Q100.9688,368.4531 100.4844,368.0469 Q100,367.6406 98.7969,367.6406 L97.7969,367.6406 Z M95.3438,365.5781 L98.7031,365.5781 Q101.2656,365.5781 102.3906,366.5 Q103.5156,367.4063 103.5156,369.4531 Q103.5156,371.5 102.3906,372.4219 Q101.2656,373.3281 98.7031,373.3281 L97.7969,373.3281 L97.7969,377.9688 L95.3438,377.9688 L95.3438,365.5781 Z \"/><text fill=\"#000000\" font-family=\"sans-serif\" font-size=\"12\" font-style=\"italic\" lengthAdjust=\"spacingAndGlyphs\" textLength=\"40\" x=\"110\" y=\"369.1387\">«part»</text><text fill=\"#000000\" font-family=\"sans-serif\" font-size=\"12\" lengthAdjust=\"spacingAndGlyphs\" textLength=\"6\" x=\"127\" y=\"383.1074\">x</text><line style=\"stroke: #A80036; stroke-width: 1.5;\" x1=\"84\" x2=\"150\" y1=\"390.9375\" y2=\"390.9375\"/></a><!--MD5=[ebbe1d658d1005bcc118a6aa81145e00]\n",
       "class E4--><a href=\"psysml:deb35dd4-2c3a-4fce-b73d-f2bc7012e274\" target=\"_top\" title=\"psysml:deb35dd4-2c3a-4fce-b73d-f2bc7012e274\" xlink:actuate=\"onRequest\" xlink:href=\"psysml:deb35dd4-2c3a-4fce-b73d-f2bc7012e274\" xlink:show=\"new\" xlink:title=\"psysml:deb35dd4-2c3a-4fce-b73d-f2bc7012e274\" xlink:type=\"simple\"><rect fill=\"#FEFECE\" filter=\"url(#fv7rk7t3qyzuq)\" height=\"40\" id=\"E4\" style=\"stroke: #A80036; stroke-width: 1.5;\" width=\"40\" x=\"97\" y=\"41\"/><ellipse cx=\"112\" cy=\"57\" fill=\"#008000\" rx=\"11\" ry=\"11\" style=\"stroke: #A80036; stroke-width: 1.0;\"/><path d=\"M110.9063,57.375 L110.9063,61.0469 L112.5313,61.0469 Q113.7031,61.0469 114.1719,60.6563 Q114.6406,60.25 114.6406,59.25 Q114.6406,58.25 114.1406,57.8125 Q113.6563,57.375 112.5313,57.375 L110.9063,57.375 Z M110.9063,52.5469 L110.9063,55.4219 L112.5313,55.4219 Q113.4531,55.4219 113.8438,55.0938 Q114.25,54.75 114.25,54 Q114.25,53.2344 113.8438,52.8906 Q113.4375,52.5469 112.5313,52.5469 L110.9063,52.5469 Z M108.5313,50.5938 L112.5313,50.5938 Q114.5938,50.5938 115.6406,51.375 Q116.6875,52.1563 116.6875,53.7188 Q116.6875,54.9219 116.0625,55.5938 Q115.4531,56.2656 114.2656,56.375 Q115.6875,56.5156 116.4063,57.3281 Q117.125,58.1406 117.125,59.5938 Q117.125,61.3906 116.0469,62.2031 Q114.9688,63 112.5313,63 L108.5313,63 L108.5313,50.5938 Z \"/><text fill=\"#000000\" font-family=\"sans-serif\" font-size=\"12\" lengthAdjust=\"spacingAndGlyphs\" textLength=\"8\" x=\"126\" y=\"61.1543\">P</text><line style=\"stroke: #A80036; stroke-width: 1.5;\" x1=\"98\" x2=\"136\" y1=\"73\" y2=\"73\"/></a><!--MD5=[270fce915f116d4de14055a7c1d9a0f3]\n",
       "class E5--><a href=\"psysml:021693d6-d6d0-45d3-85e9-0e056c3c99ea\" target=\"_top\" title=\"psysml:021693d6-d6d0-45d3-85e9-0e056c3c99ea\" xlink:actuate=\"onRequest\" xlink:href=\"psysml:021693d6-d6d0-45d3-85e9-0e056c3c99ea\" xlink:show=\"new\" xlink:title=\"psysml:021693d6-d6d0-45d3-85e9-0e056c3c99ea\" xlink:type=\"simple\"><rect fill=\"#FEFECE\" filter=\"url(#fv7rk7t3qyzuq)\" height=\"45.9375\" id=\"E5\" rx=\"10\" ry=\"10\" style=\"stroke: #A80036; stroke-width: 1.5;\" width=\"68\" x=\"32\" y=\"141\"/><ellipse cx=\"47\" cy=\"159.9688\" fill=\"#32CD32\" rx=\"11\" ry=\"11\" style=\"stroke: #A80036; stroke-width: 1.0;\"/><path d=\"M46.7969,155.6406 L46.7969,159.2656 L47.7969,159.2656 Q49,159.2656 49.4844,158.8594 Q49.9688,158.4531 49.9688,157.4531 Q49.9688,156.4531 49.4844,156.0469 Q49,155.6406 47.7969,155.6406 L46.7969,155.6406 Z M44.3438,153.5781 L47.7031,153.5781 Q50.2656,153.5781 51.3906,154.5 Q52.5156,155.4063 52.5156,157.4531 Q52.5156,159.5 51.3906,160.4219 Q50.2656,161.3281 47.7031,161.3281 L46.7969,161.3281 L46.7969,165.9688 L44.3438,165.9688 L44.3438,153.5781 Z \"/><text fill=\"#000000\" font-family=\"sans-serif\" font-size=\"12\" font-style=\"italic\" lengthAdjust=\"spacingAndGlyphs\" textLength=\"40\" x=\"59\" y=\"157.1387\">«part»</text><text fill=\"#000000\" font-family=\"sans-serif\" font-size=\"12\" lengthAdjust=\"spacingAndGlyphs\" textLength=\"6\" x=\"76\" y=\"171.1074\">y</text><line style=\"stroke: #A80036; stroke-width: 1.5;\" x1=\"33\" x2=\"99\" y1=\"178.9375\" y2=\"178.9375\"/></a><!--MD5=[60a26617385b1d2d0262a64233df1f8d]\n",
       "class E6--><a href=\"psysml:48ad0273-6ae0-4e72-b6eb-52596fa39c0f\" target=\"_top\" title=\"psysml:48ad0273-6ae0-4e72-b6eb-52596fa39c0f\" xlink:actuate=\"onRequest\" xlink:href=\"psysml:48ad0273-6ae0-4e72-b6eb-52596fa39c0f\" xlink:show=\"new\" xlink:title=\"psysml:48ad0273-6ae0-4e72-b6eb-52596fa39c0f\" xlink:type=\"simple\"><rect fill=\"#FEFECE\" filter=\"url(#fv7rk7t3qyzuq)\" height=\"45.9375\" id=\"E6\" rx=\"10\" ry=\"10\" style=\"stroke: #A80036; stroke-width: 1.5;\" width=\"68\" x=\"135\" y=\"141\"/><ellipse cx=\"150\" cy=\"159.9688\" fill=\"#32CD32\" rx=\"11\" ry=\"11\" style=\"stroke: #A80036; stroke-width: 1.0;\"/><path d=\"M149.7969,155.6406 L149.7969,159.2656 L150.7969,159.2656 Q152,159.2656 152.4844,158.8594 Q152.9688,158.4531 152.9688,157.4531 Q152.9688,156.4531 152.4844,156.0469 Q152,155.6406 150.7969,155.6406 L149.7969,155.6406 Z M147.3438,153.5781 L150.7031,153.5781 Q153.2656,153.5781 154.3906,154.5 Q155.5156,155.4063 155.5156,157.4531 Q155.5156,159.5 154.3906,160.4219 Q153.2656,161.3281 150.7031,161.3281 L149.7969,161.3281 L149.7969,165.9688 L147.3438,165.9688 L147.3438,153.5781 Z \"/><text fill=\"#000000\" font-family=\"sans-serif\" font-size=\"12\" font-style=\"italic\" lengthAdjust=\"spacingAndGlyphs\" textLength=\"40\" x=\"162\" y=\"157.1387\">«part»</text><text fill=\"#000000\" font-family=\"sans-serif\" font-size=\"12\" lengthAdjust=\"spacingAndGlyphs\" textLength=\"16\" x=\"174\" y=\"171.1074\">p1</text><line style=\"stroke: #A80036; stroke-width: 1.5;\" x1=\"136\" x2=\"202\" y1=\"178.9375\" y2=\"178.9375\"/></a><!--MD5=[2156ba9850f5573cc1fc38a6a4b2f02b]\n",
       "class E7--><a href=\"psysml:3d476d3d-b46e-46da-94ef-54f71581d8bd\" target=\"_top\" title=\"psysml:3d476d3d-b46e-46da-94ef-54f71581d8bd\" xlink:actuate=\"onRequest\" xlink:href=\"psysml:3d476d3d-b46e-46da-94ef-54f71581d8bd\" xlink:show=\"new\" xlink:title=\"psysml:3d476d3d-b46e-46da-94ef-54f71581d8bd\" xlink:type=\"simple\"><rect fill=\"#FEFECE\" filter=\"url(#fv7rk7t3qyzuq)\" height=\"45.9375\" id=\"E7\" rx=\"10\" ry=\"10\" style=\"stroke: #A80036; stroke-width: 1.5;\" width=\"68\" x=\"135\" y=\"247\"/><ellipse cx=\"150\" cy=\"265.9688\" fill=\"#32CD32\" rx=\"11\" ry=\"11\" style=\"stroke: #A80036; stroke-width: 1.0;\"/><path d=\"M149.7969,261.6406 L149.7969,265.2656 L150.7969,265.2656 Q152,265.2656 152.4844,264.8594 Q152.9688,264.4531 152.9688,263.4531 Q152.9688,262.4531 152.4844,262.0469 Q152,261.6406 150.7969,261.6406 L149.7969,261.6406 Z M147.3438,259.5781 L150.7031,259.5781 Q153.2656,259.5781 154.3906,260.5 Q155.5156,261.4063 155.5156,263.4531 Q155.5156,265.5 154.3906,266.4219 Q153.2656,267.3281 150.7031,267.3281 L149.7969,267.3281 L149.7969,271.9688 L147.3438,271.9688 L147.3438,259.5781 Z \"/><text fill=\"#000000\" font-family=\"sans-serif\" font-size=\"12\" font-style=\"italic\" lengthAdjust=\"spacingAndGlyphs\" textLength=\"40\" x=\"162\" y=\"263.1387\">«part»</text><text fill=\"#000000\" font-family=\"sans-serif\" font-size=\"12\" lengthAdjust=\"spacingAndGlyphs\" textLength=\"6\" x=\"179\" y=\"277.1074\">x</text><line style=\"stroke: #A80036; stroke-width: 1.5;\" x1=\"136\" x2=\"202\" y1=\"284.9375\" y2=\"284.9375\"/></a><!--MD5=[209b3feb70ccb6233bfe1053d122c12c]\n",
       "reverse link E2 to E3--><a href=\"psysml:03220e95-b237-4532-8361-eb1844ca39e9\" target=\"_top\" title=\"psysml:03220e95-b237-4532-8361-eb1844ca39e9\" xlink:actuate=\"onRequest\" xlink:href=\"psysml:03220e95-b237-4532-8361-eb1844ca39e9\" xlink:show=\"new\" xlink:title=\"psysml:03220e95-b237-4532-8361-eb1844ca39e9\" xlink:type=\"simple\"><path d=\"M82.69,305.03 C90.41,320.78 99.37,339.06 106.2,352.98 \" fill=\"none\" id=\"E2&lt;-E3\" style=\"stroke: #A80036; stroke-width: 1.0;\"/><polygon fill=\"#A80036\" points=\"76.82,293.06,75.8729,300.2086,82.1073,303.8324,83.0544,296.6838,76.82,293.06\" style=\"stroke: #A80036; stroke-width: 1.0;\"/></a><!--MD5=[62aa6af11e70f752912c1cb0466f24f7]\n",
       "reverse link E4 to E5--><a href=\"psysml:021693d6-d6d0-45d3-85e9-0e056c3c99ea\" target=\"_top\" title=\"psysml:021693d6-d6d0-45d3-85e9-0e056c3c99ea\" xlink:actuate=\"onRequest\" xlink:href=\"psysml:021693d6-d6d0-45d3-85e9-0e056c3c99ea\" xlink:show=\"new\" xlink:title=\"psysml:021693d6-d6d0-45d3-85e9-0e056c3c99ea\" xlink:type=\"simple\"><path d=\"M101.3,93.09 C93.51,108.51 84.29,126.78 77.22,140.77 \" fill=\"none\" id=\"E4&lt;-E5\" style=\"stroke: #A80036; stroke-width: 1.0;\"/><polygon fill=\"#A80036\" points=\"107.17,81.47,100.895,85.0231,101.7613,92.1819,108.0363,88.6289,107.17,81.47\" style=\"stroke: #A80036; stroke-width: 1.0;\"/></a><!--MD5=[2351f337d6de0f557b50152ba70847b5]\n",
       "link E6 to E2--><a href=\"psysml:9890fb32-dc37-43db-abbc-6177a2056fad\" target=\"_top\" title=\"psysml:9890fb32-dc37-43db-abbc-6177a2056fad\" xlink:actuate=\"onRequest\" xlink:href=\"psysml:9890fb32-dc37-43db-abbc-6177a2056fad\" xlink:show=\"new\" xlink:title=\"psysml:9890fb32-dc37-43db-abbc-6177a2056fad\" xlink:type=\"simple\"><path d=\"M147.16,187.06 C134.05,200.29 117.05,217.46 102,232.65 \" fill=\"none\" id=\"E6-&gt;E2\" style=\"stroke: #A80036; stroke-width: 1.0;\"/><polygon fill=\"none\" points=\"106.86,237.69,87.81,246.98,96.91,227.84,106.86,237.69\" style=\"stroke: #A80036; stroke-width: 1.0;\"/></a><!--MD5=[6db378b65e1aef66a01cb3103812b399]\n",
       "reverse link E4 to E6--><a href=\"psysml:48ad0273-6ae0-4e72-b6eb-52596fa39c0f\" target=\"_top\" title=\"psysml:48ad0273-6ae0-4e72-b6eb-52596fa39c0f\" xlink:actuate=\"onRequest\" xlink:href=\"psysml:48ad0273-6ae0-4e72-b6eb-52596fa39c0f\" xlink:show=\"new\" xlink:title=\"psysml:48ad0273-6ae0-4e72-b6eb-52596fa39c0f\" xlink:type=\"simple\"><path d=\"M133.01,93.09 C140.95,108.51 150.35,126.78 157.56,140.77 \" fill=\"none\" id=\"E4&lt;-E6\" style=\"stroke: #A80036; stroke-width: 1.0;\"/><polygon fill=\"#A80036\" points=\"127.03,81.47,126.2165,88.6351,132.5176,92.1418,133.331,84.9767,127.03,81.47\" style=\"stroke: #A80036; stroke-width: 1.0;\"/></a><!--MD5=[14ccda38c055a5c0da953d572bc50960]\n",
       "link E7 to E3--><a href=\"psysml:6e6cfa00-bc1f-4d19-92ba-1126ed543e13\" target=\"_top\" title=\"psysml:6e6cfa00-bc1f-4d19-92ba-1126ed543e13\" xlink:actuate=\"onRequest\" xlink:href=\"psysml:6e6cfa00-bc1f-4d19-92ba-1126ed543e13\" xlink:show=\"new\" xlink:title=\"psysml:6e6cfa00-bc1f-4d19-92ba-1126ed543e13\" xlink:type=\"simple\"><path d=\"M157.97,293.06 C151.91,305.19 144.19,320.62 137.09,334.82 \" fill=\"none\" id=\"E7-&gt;E3\" style=\"stroke: #A80036; stroke-width: 1.0;\"/><polygon fill=\"#FFFFFF\" points=\"128.01,352.98,130.2461,332.8554,142.768,339.1164,128.01,352.98\" style=\"stroke: #A80036; stroke-width: 1.0;\"/><line style=\"stroke: #A80036; stroke-width: 2.0;\" x1=\"131.9455\" x2=\"144.4675\" y1=\"329.4566\" y2=\"335.7176\"/></a><!--MD5=[3f50a3473f1dfb74d3f76443e03635af]\n",
       "reverse link E6 to E7--><a href=\"psysml:3d476d3d-b46e-46da-94ef-54f71581d8bd\" target=\"_top\" title=\"psysml:3d476d3d-b46e-46da-94ef-54f71581d8bd\" xlink:actuate=\"onRequest\" xlink:href=\"psysml:3d476d3d-b46e-46da-94ef-54f71581d8bd\" xlink:show=\"new\" xlink:title=\"psysml:3d476d3d-b46e-46da-94ef-54f71581d8bd\" xlink:type=\"simple\"><path d=\"M169,200.44 C169,215.87 169,233.47 169,246.98 \" fill=\"none\" id=\"E6&lt;-E7\" style=\"stroke: #A80036; stroke-width: 1.0;\"/><polygon fill=\"#A80036\" points=\"169,187.06,165,193.06,169,199.06,173,193.06,169,187.06\" style=\"stroke: #A80036; stroke-width: 1.0;\"/></a><!--MD5=[9c15c8ffc5239ec58bb2c5bc498fa65e]\n",
       "@startuml\r\n",
       " \r\n",
       "package \"ConnectionTest\" as E1  [[psysml:1fa0c0c0-6c41-491a-9601-36d7e4e40543 ]]  {\r\n",
       "comp usage \"p\" as E2  << (P,limegreen) part>> [[psysml:5f85cf43-367b-49d0-8c6e-b9320e7aab66 ]] {\r\n",
       "}\r\n",
       "comp usage \"x\" as E3  << (P,limegreen) part>> [[psysml:03220e95-b237-4532-8361-eb1844ca39e9 ]] {\r\n",
       "}\r\n",
       "comp def \"P\" as E4  << (B,green) >> [[psysml:deb35dd4-2c3a-4fce-b73d-f2bc7012e274 ]] {\r\n",
       "}\r\n",
       "comp usage \"y\" as E5  << (P,limegreen) part>> [[psysml:021693d6-d6d0-45d3-85e9-0e056c3c99ea ]] {\r\n",
       "}\r\n",
       "comp usage \"p1\" as E6  << (P,limegreen) part>> [[psysml:48ad0273-6ae0-4e72-b6eb-52596fa39c0f ]] {\r\n",
       "}\r\n",
       "comp usage \"x\" as E7  << (P,limegreen) part>> [[psysml:3d476d3d-b46e-46da-94ef-54f71581d8bd ]] {\r\n",
       "}\r\n",
       "E2 *- - E3 [[psysml:03220e95-b237-4532-8361-eb1844ca39e9 ]] \r\n",
       "E4 *- - E5 [[psysml:021693d6-d6d0-45d3-85e9-0e056c3c99ea ]] \r\n",
       "E6 - -|> E2 [[psysml:9890fb32-dc37-43db-abbc-6177a2056fad ]] \r\n",
       "E4 *- - E6 [[psysml:48ad0273-6ae0-4e72-b6eb-52596fa39c0f ]] \r\n",
       "E7 - -||> E3 [[psysml:6e6cfa00-bc1f-4d19-92ba-1126ed543e13 ]] \r\n",
       "E6 *- - E7 [[psysml:3d476d3d-b46e-46da-94ef-54f71581d8bd ]] \r\n",
       "}\r\n",
       "@enduml\r\n",
       "\n",
       "PlantUML version 1.2020.13(Sat Jun 13 12:26:38 UTC 2020)\n",
       "(EPL source distribution)\n",
       "Java Runtime: OpenJDK Runtime Environment\n",
       "JVM: OpenJDK 64-Bit Server VM\n",
       "Default Encoding: UTF-8\n",
       "Language: en\n",
       "Country: null\n",
       "--></g></svg>"
      ]
     },
     "execution_count": 31,
     "metadata": {},
     "output_type": "execute_result"
    }
   ],
   "source": [
    "%viz --style=\"PLANTUML\" --view=\"Tree\" \"ConnectionTest\""
   ]
  },
  {
   "cell_type": "code",
   "execution_count": 32,
   "id": "collaborative-thanks",
   "metadata": {
    "execution": {
     "iopub.execute_input": "2021-03-25T13:50:04.815371Z",
     "iopub.status.busy": "2021-03-25T13:50:04.814858Z",
     "iopub.status.idle": "2021-03-25T13:50:05.689411Z",
     "shell.execute_reply": "2021-03-25T13:50:05.688028Z"
    }
   },
   "outputs": [
    {
     "data": {
      "image/svg+xml": [
       "<?xml version=\"1.0\" encoding=\"UTF-8\" standalone=\"no\"?><svg xmlns=\"http://www.w3.org/2000/svg\" xmlns:xlink=\"http://www.w3.org/1999/xlink\" contentScriptType=\"application/ecmascript\" contentStyleType=\"text/css\" height=\"303px\" preserveAspectRatio=\"none\" style=\"width:603px;height:303px;background:#000000;\" version=\"1.1\" viewBox=\"0 0 603 303\" width=\"603px\" zoomAndPan=\"magnify\"><defs/><g><rect fill=\"#1E0A1C\" height=\"1\" style=\"stroke: #1E0A1C; stroke-width: 1.0;\" width=\"1\" x=\"0\" y=\"0\"/><rect fill=\"#FFFFFF\" height=\"205.5625\" style=\"stroke: #FFFFFF; stroke-width: 1.0;\" width=\"602\" x=\"0\" y=\"0\"/><text fill=\"#000000\" font-family=\"sans-serif\" font-size=\"12\" font-weight=\"bold\" lengthAdjust=\"spacingAndGlyphs\" textLength=\"159\" x=\"5\" y=\"16.1387\">Welcome to PlantUML!</text><text fill=\"#000000\" font-family=\"sans-serif\" font-size=\"12\" lengthAdjust=\"spacingAndGlyphs\" textLength=\"0\" x=\"9\" y=\"30.1074\"/><text fill=\"#000000\" font-family=\"sans-serif\" font-size=\"12\" lengthAdjust=\"spacingAndGlyphs\" textLength=\"293\" x=\"5\" y=\"44.0762\">If you use this software, you accept its license.</text><text fill=\"#000000\" font-family=\"sans-serif\" font-size=\"12\" lengthAdjust=\"spacingAndGlyphs\" textLength=\"107\" x=\"5\" y=\"58.0449\">(details by typing</text><text fill=\"#000000\" font-family=\"monospace\" font-size=\"12\" lengthAdjust=\"spacingAndGlyphs\" textLength=\"49\" x=\"116\" y=\"58.0449\">license</text><text fill=\"#000000\" font-family=\"sans-serif\" font-size=\"12\" lengthAdjust=\"spacingAndGlyphs\" textLength=\"56\" x=\"169\" y=\"58.0449\">keyword)</text><text fill=\"#000000\" font-family=\"sans-serif\" font-size=\"12\" lengthAdjust=\"spacingAndGlyphs\" textLength=\"0\" x=\"9\" y=\"72.0137\"/><text fill=\"#000000\" font-family=\"sans-serif\" font-size=\"12\" lengthAdjust=\"spacingAndGlyphs\" textLength=\"283\" x=\"5\" y=\"85.9824\">You can start with a simple UML Diagram like:</text><text fill=\"#000000\" font-family=\"sans-serif\" font-size=\"12\" lengthAdjust=\"spacingAndGlyphs\" textLength=\"0\" x=\"9\" y=\"99.9512\"/><text fill=\"#000000\" font-family=\"monospace\" font-size=\"12\" lengthAdjust=\"spacingAndGlyphs\" textLength=\"119\" x=\"5\" y=\"113.9199\">Bob-&gt;Alice: Hello</text><text fill=\"#000000\" font-family=\"sans-serif\" font-size=\"12\" lengthAdjust=\"spacingAndGlyphs\" textLength=\"0\" x=\"9\" y=\"127.8887\"/><text fill=\"#000000\" font-family=\"sans-serif\" font-size=\"12\" lengthAdjust=\"spacingAndGlyphs\" textLength=\"14\" x=\"5\" y=\"141.8574\">Or</text><text fill=\"#000000\" font-family=\"sans-serif\" font-size=\"12\" lengthAdjust=\"spacingAndGlyphs\" textLength=\"0\" x=\"9\" y=\"155.8262\"/><text fill=\"#000000\" font-family=\"monospace\" font-size=\"12\" lengthAdjust=\"spacingAndGlyphs\" textLength=\"91\" x=\"5\" y=\"169.7949\">class Example</text><text fill=\"#000000\" font-family=\"sans-serif\" font-size=\"12\" lengthAdjust=\"spacingAndGlyphs\" textLength=\"0\" x=\"9\" y=\"183.7637\"/><text fill=\"#000000\" font-family=\"sans-serif\" font-size=\"12\" lengthAdjust=\"spacingAndGlyphs\" textLength=\"349\" x=\"5\" y=\"197.7324\">You will find more information about PlantUML syntax on</text><text fill=\"#000000\" font-family=\"sans-serif\" font-size=\"12\" lengthAdjust=\"spacingAndGlyphs\" text-decoration=\"underline\" textLength=\"129\" x=\"358\" y=\"197.7324\">https://plantuml.com</text><image height=\"71\" width=\"80\" x=\"516\" xlink:href=\"data:image/png;base64,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\" y=\"6\"/><rect fill=\"#000000\" height=\"96.4844\" style=\"stroke: #000000; stroke-width: 1.0;\" width=\"602\" x=\"0\" y=\"205.5625\"/><rect fill=\"#33FF02\" height=\"21.2969\" style=\"stroke: #33FF02; stroke-width: 1.0;\" width=\"170\" x=\"5\" y=\"210.5625\"/><text fill=\"#000000\" font-family=\"sans-serif\" font-size=\"14\" font-weight=\"bold\" lengthAdjust=\"spacingAndGlyphs\" textLength=\"168\" x=\"6\" y=\"225.5625\">[From string (line 2) ]</text><text fill=\"#33FF02\" font-family=\"sans-serif\" font-size=\"14\" font-weight=\"bold\" lengthAdjust=\"spacingAndGlyphs\" textLength=\"0\" x=\"10\" y=\"245.8594\"/><text fill=\"#33FF02\" font-family=\"sans-serif\" font-size=\"14\" font-weight=\"bold\" lengthAdjust=\"spacingAndGlyphs\" textLength=\"79\" x=\"5\" y=\"262.1563\">@startuml</text><text fill=\"#33FF02\" font-family=\"sans-serif\" font-size=\"14\" font-weight=\"bold\" lengthAdjust=\"spacingAndGlyphs\" textLength=\"0\" x=\"10\" y=\"278.4531\"/><text fill=\"#FF0000\" font-family=\"sans-serif\" font-size=\"14\" font-weight=\"bold\" lengthAdjust=\"spacingAndGlyphs\" textLength=\"142\" x=\"10\" y=\"294.75\">Empty description</text><!--MD5=[f59edd8218d337f74d0c332fc6737304]\n",
       "@startuml\r\n",
       " \r\n",
       "@enduml\r\n",
       "\n",
       "PlantUML version 1.2020.13(Sat Jun 13 12:26:38 UTC 2020)\n",
       "(EPL source distribution)\n",
       "Java Runtime: OpenJDK Runtime Environment\n",
       "JVM: OpenJDK 64-Bit Server VM\n",
       "Default Encoding: UTF-8\n",
       "Language: en\n",
       "Country: null\n",
       "--></g></svg>"
      ]
     },
     "execution_count": 32,
     "metadata": {},
     "output_type": "execute_result"
    }
   ],
   "source": [
    "%viz --style=\"PLANTUML\" --view=\"State\" \"ConnectionTest\""
   ]
  },
  {
   "cell_type": "code",
   "execution_count": 33,
   "id": "reverse-newton",
   "metadata": {
    "execution": {
     "iopub.execute_input": "2021-03-25T13:50:05.740744Z",
     "iopub.status.busy": "2021-03-25T13:50:05.740177Z",
     "iopub.status.idle": "2021-03-25T13:50:05.806670Z",
     "shell.execute_reply": "2021-03-25T13:50:05.805344Z"
    }
   },
   "outputs": [
    {
     "data": {
      "image/svg+xml": [
       "<?xml version=\"1.0\" encoding=\"UTF-8\" standalone=\"no\"?><svg xmlns=\"http://www.w3.org/2000/svg\" xmlns:xlink=\"http://www.w3.org/1999/xlink\" contentScriptType=\"application/ecmascript\" contentStyleType=\"text/css\" height=\"308px\" preserveAspectRatio=\"none\" style=\"width:411px;height:308px;\" version=\"1.1\" viewBox=\"0 0 411 308\" width=\"411px\" zoomAndPan=\"magnify\"><defs><filter height=\"300%\" id=\"f1fhyjed2vasl2\" width=\"300%\" x=\"-1\" y=\"-1\"><feGaussianBlur result=\"blurOut\" stdDeviation=\"2.0\"/><feColorMatrix in=\"blurOut\" result=\"blurOut2\" type=\"matrix\" values=\"0 0 0 0 0 0 0 0 0 0 0 0 0 0 0 0 0 0 .4 0\"/><feOffset dx=\"4.0\" dy=\"4.0\" in=\"blurOut2\" result=\"blurOut3\"/><feBlend in=\"SourceGraphic\" in2=\"blurOut3\" mode=\"normal\"/></filter></defs><g><!--MD5=[fbc87193dbaf4d95561dea2c320d4a47]\n",
       "cluster E1--><a href=\"psysml:1fa0c0c0-6c41-491a-9601-36d7e4e40543\" target=\"_top\" title=\"psysml:1fa0c0c0-6c41-491a-9601-36d7e4e40543\" xlink:actuate=\"onRequest\" xlink:href=\"psysml:1fa0c0c0-6c41-491a-9601-36d7e4e40543\" xlink:show=\"new\" xlink:title=\"psysml:1fa0c0c0-6c41-491a-9601-36d7e4e40543\" xlink:type=\"simple\"><polygon fill=\"#FFFFFF\" filter=\"url(#f1fhyjed2vasl2)\" points=\"16,6,147,6,154,28.2969,389,28.2969,389,296.5,16,296.5,16,6\" style=\"stroke: #000000; stroke-width: 1.5;\"/><line style=\"stroke: #000000; stroke-width: 1.5;\" x1=\"16\" x2=\"154\" y1=\"28.2969\" y2=\"28.2969\"/><text fill=\"#000000\" font-family=\"sans-serif\" font-size=\"14\" font-weight=\"bold\" lengthAdjust=\"spacingAndGlyphs\" textLength=\"125\" x=\"20\" y=\"20.9951\">ConnectionTest</text></a><!--MD5=[e4f7fae6ed58524ba242bb0b0d3be6b7]\n",
       "cluster E2--><a href=\"psysml:5f85cf43-367b-49d0-8c6e-b9320e7aab66\" target=\"_top\" title=\"psysml:5f85cf43-367b-49d0-8c6e-b9320e7aab66\" xlink:actuate=\"onRequest\" xlink:href=\"psysml:5f85cf43-367b-49d0-8c6e-b9320e7aab66\" xlink:show=\"new\" xlink:title=\"psysml:5f85cf43-367b-49d0-8c6e-b9320e7aab66\" xlink:type=\"simple\"><rect fill=\"#FFFFFF\" filter=\"url(#f1fhyjed2vasl2)\" height=\"107\" id=\"E2\" rx=\"10\" ry=\"10\" style=\"stroke: #A80036; stroke-width: 1.5;\" width=\"117\" x=\"240\" y=\"148\"/><rect fill=\"#FEFECE\" height=\"23.9688\" rx=\"10\" ry=\"10\" style=\"stroke: #FEFECE; stroke-width: 1.5;\" width=\"117\" x=\"240\" y=\"148\"/><rect fill=\"#FEFECE\" height=\"10\" style=\"stroke: #FEFECE; stroke-width: 1.5;\" width=\"117\" x=\"240\" y=\"161.9688\"/><rect fill=\"none\" height=\"107\" id=\"E2\" rx=\"10\" ry=\"10\" style=\"stroke: #A80036; stroke-width: 1.5;\" width=\"117\" x=\"240\" y=\"148\"/><text fill=\"#000000\" font-family=\"sans-serif\" font-size=\"12\" lengthAdjust=\"spacingAndGlyphs\" textLength=\"8\" x=\"294.5\" y=\"164.1387\">p</text><line style=\"stroke: #A80036; stroke-width: 1.0;\" x1=\"240\" x2=\"357\" y1=\"171.9688\" y2=\"171.9688\"/></a><!--MD5=[f6df4d0ebaf0b5dfb2ced0ae5af7c670]\n",
       "cluster E4--><a href=\"psysml:deb35dd4-2c3a-4fce-b73d-f2bc7012e274\" target=\"_top\" title=\"psysml:deb35dd4-2c3a-4fce-b73d-f2bc7012e274\" xlink:actuate=\"onRequest\" xlink:href=\"psysml:deb35dd4-2c3a-4fce-b73d-f2bc7012e274\" xlink:show=\"new\" xlink:title=\"psysml:deb35dd4-2c3a-4fce-b73d-f2bc7012e274\" xlink:type=\"simple\"><rect fill=\"#FFFFFF\" filter=\"url(#f1fhyjed2vasl2)\" height=\"223.5\" id=\"E4\" style=\"stroke: #A80036; stroke-width: 1.5;\" width=\"168\" x=\"40\" y=\"49\"/><rect fill=\"#FEFECE\" height=\"23.9688\" style=\"stroke: #A80036; stroke-width: 1.5;\" width=\"168\" x=\"40\" y=\"49\"/><text fill=\"#000000\" font-family=\"sans-serif\" font-size=\"12\" lengthAdjust=\"spacingAndGlyphs\" textLength=\"8\" x=\"120\" y=\"65.1387\">P</text></a><!--MD5=[14e3b0961a2654348d326746436168a1]\n",
       "cluster E6--><a href=\"psysml:48ad0273-6ae0-4e72-b6eb-52596fa39c0f\" target=\"_top\" title=\"psysml:48ad0273-6ae0-4e72-b6eb-52596fa39c0f\" xlink:actuate=\"onRequest\" xlink:href=\"psysml:48ad0273-6ae0-4e72-b6eb-52596fa39c0f\" xlink:show=\"new\" xlink:title=\"psysml:48ad0273-6ae0-4e72-b6eb-52596fa39c0f\" xlink:type=\"simple\"><rect fill=\"#FFFFFF\" filter=\"url(#f1fhyjed2vasl2)\" height=\"94\" id=\"E6\" rx=\"10\" ry=\"10\" style=\"stroke: #A80036; stroke-width: 1.5;\" width=\"120\" x=\"64\" y=\"154.5\"/><rect fill=\"#FEFECE\" height=\"23.9688\" rx=\"10\" ry=\"10\" style=\"stroke: #FEFECE; stroke-width: 1.5;\" width=\"120\" x=\"64\" y=\"154.5\"/><rect fill=\"#FEFECE\" height=\"10\" style=\"stroke: #FEFECE; stroke-width: 1.5;\" width=\"120\" x=\"64\" y=\"168.4688\"/><rect fill=\"none\" height=\"94\" id=\"E6\" rx=\"10\" ry=\"10\" style=\"stroke: #A80036; stroke-width: 1.5;\" width=\"120\" x=\"64\" y=\"154.5\"/><text fill=\"#000000\" font-family=\"sans-serif\" font-size=\"12\" lengthAdjust=\"spacingAndGlyphs\" textLength=\"16\" x=\"116\" y=\"170.6387\">p1</text><line style=\"stroke: #A80036; stroke-width: 1.0;\" x1=\"64\" x2=\"184\" y1=\"178.4688\" y2=\"178.4688\"/></a><g id=\"E1.E2.E3\"><a href=\"psysml:03220e95-b237-4532-8361-eb1844ca39e9\" target=\"_top\" title=\"psysml:03220e95-b237-4532-8361-eb1844ca39e9\" xlink:actuate=\"onRequest\" xlink:href=\"psysml:03220e95-b237-4532-8361-eb1844ca39e9\" xlink:show=\"new\" xlink:title=\"psysml:03220e95-b237-4532-8361-eb1844ca39e9\" xlink:type=\"simple\"><rect fill=\"#FEFECE\" filter=\"url(#f1fhyjed2vasl2)\" height=\"40\" id=\"E3\" rx=\"10\" ry=\"10\" style=\"stroke: #A80036; stroke-width: 1.5;\" width=\"50\" x=\"283\" y=\"191\"/><ellipse cx=\"303.4\" cy=\"207\" fill=\"#B6DBBB\" rx=\"11\" ry=\"11\" style=\"stroke: #A80036; stroke-width: 1.0;\"/><path d=\"M299.275,208.9219 L299.275,201.1094 L301.7281,201.1094 L301.7281,209.5469 Q301.7281,210.4688 302.1969,211 Q302.6813,211.5313 303.5094,211.5313 Q304.3531,211.5313 304.8219,211 Q305.2906,210.4688 305.2906,209.5469 L305.2906,201.1094 L307.7438,201.1094 L307.7438,208.9219 Q307.7438,211.4531 306.7438,212.5938 Q305.7438,213.7344 303.5094,213.7344 Q301.2906,213.7344 300.275,212.5938 Q299.275,211.4531 299.275,208.9219 Z \"/><text fill=\"#000000\" font-family=\"sans-serif\" font-size=\"12\" lengthAdjust=\"spacingAndGlyphs\" textLength=\"6\" x=\"318.6\" y=\"211.1543\">x</text></a></g><g id=\"E1.E4.E5\"><a href=\"psysml:021693d6-d6d0-45d3-85e9-0e056c3c99ea\" target=\"_top\" title=\"psysml:021693d6-d6d0-45d3-85e9-0e056c3c99ea\" xlink:actuate=\"onRequest\" xlink:href=\"psysml:021693d6-d6d0-45d3-85e9-0e056c3c99ea\" xlink:show=\"new\" xlink:title=\"psysml:021693d6-d6d0-45d3-85e9-0e056c3c99ea\" xlink:type=\"simple\"><rect fill=\"#FEFECE\" filter=\"url(#f1fhyjed2vasl2)\" height=\"40\" id=\"E5\" rx=\"10\" ry=\"10\" style=\"stroke: #A80036; stroke-width: 1.5;\" width=\"50\" x=\"120\" y=\"84\"/><ellipse cx=\"140.4\" cy=\"100\" fill=\"#B6DBBB\" rx=\"11\" ry=\"11\" style=\"stroke: #A80036; stroke-width: 1.0;\"/><path d=\"M136.275,101.9219 L136.275,94.1094 L138.7281,94.1094 L138.7281,102.5469 Q138.7281,103.4688 139.1969,104 Q139.6813,104.5313 140.5094,104.5313 Q141.3531,104.5313 141.8219,104 Q142.2906,103.4688 142.2906,102.5469 L142.2906,94.1094 L144.7438,94.1094 L144.7438,101.9219 Q144.7438,104.4531 143.7438,105.5938 Q142.7438,106.7344 140.5094,106.7344 Q138.2906,106.7344 137.275,105.5938 Q136.275,104.4531 136.275,101.9219 Z \"/><text fill=\"#000000\" font-family=\"sans-serif\" font-size=\"12\" lengthAdjust=\"spacingAndGlyphs\" textLength=\"6\" x=\"155.6\" y=\"104.1543\">y</text></a></g><g id=\"E1.E4.E6.E7\"><a href=\"psysml:3d476d3d-b46e-46da-94ef-54f71581d8bd\" target=\"_top\" title=\"psysml:3d476d3d-b46e-46da-94ef-54f71581d8bd\" xlink:actuate=\"onRequest\" xlink:href=\"psysml:3d476d3d-b46e-46da-94ef-54f71581d8bd\" xlink:show=\"new\" xlink:title=\"psysml:3d476d3d-b46e-46da-94ef-54f71581d8bd\" xlink:type=\"simple\"><rect fill=\"#FEFECE\" filter=\"url(#f1fhyjed2vasl2)\" height=\"42.9375\" id=\"E7\" rx=\"10\" ry=\"10\" style=\"stroke: #A80036; stroke-width: 1.5;\" width=\"87\" x=\"80.5\" y=\"189.5\"/><ellipse cx=\"97.75\" cy=\"208.4688\" fill=\"#B6DBBB\" rx=\"11\" ry=\"11\" style=\"stroke: #A80036; stroke-width: 1.0;\"/><path d=\"M93.625,210.3906 L93.625,202.5781 L96.0781,202.5781 L96.0781,211.0156 Q96.0781,211.9375 96.5469,212.4688 Q97.0313,213 97.8594,213 Q98.7031,213 99.1719,212.4688 Q99.6406,211.9375 99.6406,211.0156 L99.6406,202.5781 L102.0938,202.5781 L102.0938,210.3906 Q102.0938,212.9219 101.0938,214.0625 Q100.0938,215.2031 97.8594,215.2031 Q95.6406,215.2031 94.625,214.0625 Q93.625,212.9219 93.625,210.3906 Z \"/><text fill=\"#000000\" font-family=\"sans-serif\" font-size=\"12\" lengthAdjust=\"spacingAndGlyphs\" textLength=\"6\" x=\"134.25\" y=\"205.6387\">x</text><text fill=\"#000000\" font-family=\"sans-serif\" font-size=\"12\" font-style=\"italic\" lengthAdjust=\"spacingAndGlyphs\" textLength=\"46\" x=\"112.25\" y=\"219.6074\">:&gt;&gt;p::x</text><text fill=\"#000000\" font-family=\"sans-serif\" font-size=\"12\" lengthAdjust=\"spacingAndGlyphs\" textLength=\"0\" x=\"162.25\" y=\"219.6074\"/></a></g><!--MD5=[15ebcb19ae302d9b601edb458606d402]\n",
       "link E5 to E2--><a href=\"psysml:a2e30144-7cbb-4348-81c9-870149c1f1e3\" target=\"_top\" title=\"psysml:a2e30144-7cbb-4348-81c9-870149c1f1e3\" xlink:actuate=\"onRequest\" xlink:href=\"psysml:a2e30144-7cbb-4348-81c9-870149c1f1e3\" xlink:show=\"new\" xlink:title=\"psysml:a2e30144-7cbb-4348-81c9-870149c1f1e3\" xlink:type=\"simple\"><path d=\"M170.13,120.86 C174.92,124.3 179.76,128.09 184,132 C199.97,146.72 215.485,165.48 227.2388,180.9125 C230.1772,184.7706 232.8805,188.4208 235.2972,191.7479 C236.5055,193.4114 237.6421,194.9942 238.7006,196.4818 C238.9652,196.8537 239.2249,197.2196 239.4797,197.5794 C239.6071,197.7593 239.7332,197.9376 239.8581,198.1144 \" fill=\"none\" id=\"E5-E2\" style=\"stroke: #A80036; stroke-width: 3.0;\"/></a><!--MD5=[3a9b96bfbf6b6ad89c494e81751bda47]\n",
       "link E5 to E7--><a href=\"psysml:81751fd3-19d9-42b1-be5d-d1a292525231\" target=\"_top\" title=\"psysml:81751fd3-19d9-42b1-be5d-d1a292525231\" xlink:actuate=\"onRequest\" xlink:href=\"psysml:81751fd3-19d9-42b1-be5d-d1a292525231\" xlink:show=\"new\" xlink:title=\"psysml:81751fd3-19d9-42b1-be5d-d1a292525231\" xlink:type=\"simple\"><path d=\"M141.15,124.26 C137.45,142.73 131.89,170.53 128.11,189.43 \" fill=\"none\" id=\"E5-E7\" style=\"stroke: #A80036; stroke-width: 3.0;\"/></a><!--MD5=[f77f7414630f2ac0e49ffd61ae48f524]\n",
       "@startuml\r\n",
       "skinparam ranksep 8\r\n",
       "skinparam rectangle {\r\n",
       " backgroundColor<<block>> LightGreen\r\n",
       "}\r\n",
       " \r\n",
       "package \"ConnectionTest\" as E1  [[psysml:1fa0c0c0-6c41-491a-9601-36d7e4e40543 ]]  {\r\n",
       "rec usage \"p\" as E2  [[psysml:5f85cf43-367b-49d0-8c6e-b9320e7aab66 ]] {\r\n",
       "rec usage \"x\" as E3  [[psysml:03220e95-b237-4532-8361-eb1844ca39e9 ]] {\r\n",
       "}\r\n",
       "}\r\n",
       "rec def \"P\" as E4  << (B,green) >> [[psysml:deb35dd4-2c3a-4fce-b73d-f2bc7012e274 ]] {\r\n",
       "rec usage \"y\" as E5  [[psysml:021693d6-d6d0-45d3-85e9-0e056c3c99ea ]] {\r\n",
       "}\r\n",
       "rec usage \"p1\" as E6  [[psysml:48ad0273-6ae0-4e72-b6eb-52596fa39c0f ]] {\r\n",
       "rec usage \"x\\n//:>>p::x// \" as E7  [[psysml:3d476d3d-b46e-46da-94ef-54f71581d8bd ]] {\r\n",
       "}\r\n",
       "}\r\n",
       "}\r\n",
       "E5 -[thickness=3]- E2 [[psysml:a2e30144-7cbb-4348-81c9-870149c1f1e3 ]] \r\n",
       "E5 -[thickness=3]- E7 [[psysml:81751fd3-19d9-42b1-be5d-d1a292525231 ]] \r\n",
       "}\r\n",
       "@enduml\r\n",
       "\n",
       "PlantUML version 1.2020.13(Sat Jun 13 12:26:38 UTC 2020)\n",
       "(EPL source distribution)\n",
       "Java Runtime: OpenJDK Runtime Environment\n",
       "JVM: OpenJDK 64-Bit Server VM\n",
       "Default Encoding: UTF-8\n",
       "Language: en\n",
       "Country: null\n",
       "--></g></svg>"
      ]
     },
     "execution_count": 33,
     "metadata": {},
     "output_type": "execute_result"
    }
   ],
   "source": [
    "%viz --style=\"PLANTUML\" --view=\"Interconnection\" \"ConnectionTest\""
   ]
  },
  {
   "cell_type": "code",
   "execution_count": 34,
   "id": "heavy-mount",
   "metadata": {
    "execution": {
     "iopub.execute_input": "2021-03-25T13:50:05.857150Z",
     "iopub.status.busy": "2021-03-25T13:50:05.856674Z",
     "iopub.status.idle": "2021-03-25T13:50:05.861934Z",
     "shell.execute_reply": "2021-03-25T13:50:05.862416Z"
    }
   },
   "outputs": [
    {
     "data": {
      "image/svg+xml": [
       "<?xml version=\"1.0\" encoding=\"UTF-8\" standalone=\"no\"?><svg xmlns=\"http://www.w3.org/2000/svg\" xmlns:xlink=\"http://www.w3.org/1999/xlink\" contentScriptType=\"application/ecmascript\" contentStyleType=\"text/css\" height=\"12px\" preserveAspectRatio=\"none\" style=\"width:12px;height:12px;\" version=\"1.1\" viewBox=\"0 0 12 12\" width=\"12px\" zoomAndPan=\"magnify\"><defs/><g><!--MD5=[6a4cb978cab31700e1ce5529f947a75d]\n",
       "@startuml\r\n",
       "skinparam ranksep 8\r\n",
       " \r\n",
       "@enduml\r\n",
       "\n",
       "PlantUML version 1.2020.13(Sat Jun 13 12:26:38 UTC 2020)\n",
       "(EPL source distribution)\n",
       "Java Runtime: OpenJDK Runtime Environment\n",
       "JVM: OpenJDK 64-Bit Server VM\n",
       "Default Encoding: UTF-8\n",
       "Language: en\n",
       "Country: null\n",
       "--></g></svg>"
      ]
     },
     "execution_count": 34,
     "metadata": {},
     "output_type": "execute_result"
    }
   ],
   "source": [
    "%viz --style=\"PLANTUML\" --view=\"Action\" \"ConnectionTest\""
   ]
  },
  {
   "cell_type": "code",
   "execution_count": 35,
   "id": "discrete-phone",
   "metadata": {
    "execution": {
     "iopub.execute_input": "2021-03-25T13:50:05.914697Z",
     "iopub.status.busy": "2021-03-25T13:50:05.914148Z",
     "iopub.status.idle": "2021-03-25T13:50:05.981260Z",
     "shell.execute_reply": "2021-03-25T13:50:05.979605Z"
    }
   },
   "outputs": [
    {
     "data": {
      "image/svg+xml": [
       "<?xml version=\"1.0\" encoding=\"UTF-8\" standalone=\"no\"?><svg xmlns=\"http://www.w3.org/2000/svg\" xmlns:xlink=\"http://www.w3.org/1999/xlink\" contentScriptType=\"application/ecmascript\" contentStyleType=\"text/css\" height=\"427px\" preserveAspectRatio=\"none\" style=\"width:241px;height:427px;\" version=\"1.1\" viewBox=\"0 0 241 427\" width=\"241px\" zoomAndPan=\"magnify\"><defs><filter height=\"300%\" id=\"fv7rk7t3qyzuq\" width=\"300%\" x=\"-1\" y=\"-1\"><feGaussianBlur result=\"blurOut\" stdDeviation=\"2.0\"/><feColorMatrix in=\"blurOut\" result=\"blurOut2\" type=\"matrix\" values=\"0 0 0 0 0 0 0 0 0 0 0 0 0 0 0 0 0 0 .4 0\"/><feOffset dx=\"4.0\" dy=\"4.0\" in=\"blurOut2\" result=\"blurOut3\"/><feBlend in=\"SourceGraphic\" in2=\"blurOut3\" mode=\"normal\"/></filter></defs><g><!--MD5=[fbc87193dbaf4d95561dea2c320d4a47]\n",
       "cluster E1--><a href=\"psysml:1fa0c0c0-6c41-491a-9601-36d7e4e40543\" target=\"_top\" title=\"psysml:1fa0c0c0-6c41-491a-9601-36d7e4e40543\" xlink:actuate=\"onRequest\" xlink:href=\"psysml:1fa0c0c0-6c41-491a-9601-36d7e4e40543\" xlink:show=\"new\" xlink:title=\"psysml:1fa0c0c0-6c41-491a-9601-36d7e4e40543\" xlink:type=\"simple\"><polygon fill=\"#FFFFFF\" filter=\"url(#fv7rk7t3qyzuq)\" points=\"16,6,147,6,154,28.2969,219,28.2969,219,415,16,415,16,6\" style=\"stroke: #000000; stroke-width: 1.5;\"/><line style=\"stroke: #000000; stroke-width: 1.5;\" x1=\"16\" x2=\"154\" y1=\"28.2969\" y2=\"28.2969\"/><text fill=\"#000000\" font-family=\"sans-serif\" font-size=\"14\" font-weight=\"bold\" lengthAdjust=\"spacingAndGlyphs\" textLength=\"125\" x=\"20\" y=\"20.9951\">ConnectionTest</text></a><!--MD5=[b4997ac47864f28c2f74865a473b2911]\n",
       "class E2--><a href=\"psysml:5f85cf43-367b-49d0-8c6e-b9320e7aab66\" target=\"_top\" title=\"psysml:5f85cf43-367b-49d0-8c6e-b9320e7aab66\" xlink:actuate=\"onRequest\" xlink:href=\"psysml:5f85cf43-367b-49d0-8c6e-b9320e7aab66\" xlink:show=\"new\" xlink:title=\"psysml:5f85cf43-367b-49d0-8c6e-b9320e7aab66\" xlink:type=\"simple\"><rect fill=\"#FEFECE\" filter=\"url(#fv7rk7t3qyzuq)\" height=\"45.9375\" id=\"E2\" rx=\"10\" ry=\"10\" style=\"stroke: #A80036; stroke-width: 1.5;\" width=\"68\" x=\"32\" y=\"247\"/><ellipse cx=\"47\" cy=\"265.9688\" fill=\"#32CD32\" rx=\"11\" ry=\"11\" style=\"stroke: #A80036; stroke-width: 1.0;\"/><path d=\"M46.7969,261.6406 L46.7969,265.2656 L47.7969,265.2656 Q49,265.2656 49.4844,264.8594 Q49.9688,264.4531 49.9688,263.4531 Q49.9688,262.4531 49.4844,262.0469 Q49,261.6406 47.7969,261.6406 L46.7969,261.6406 Z M44.3438,259.5781 L47.7031,259.5781 Q50.2656,259.5781 51.3906,260.5 Q52.5156,261.4063 52.5156,263.4531 Q52.5156,265.5 51.3906,266.4219 Q50.2656,267.3281 47.7031,267.3281 L46.7969,267.3281 L46.7969,271.9688 L44.3438,271.9688 L44.3438,259.5781 Z \"/><text fill=\"#000000\" font-family=\"sans-serif\" font-size=\"12\" font-style=\"italic\" lengthAdjust=\"spacingAndGlyphs\" textLength=\"40\" x=\"59\" y=\"263.1387\">«part»</text><text fill=\"#000000\" font-family=\"sans-serif\" font-size=\"12\" lengthAdjust=\"spacingAndGlyphs\" textLength=\"8\" x=\"75\" y=\"277.1074\">p</text><line style=\"stroke: #A80036; stroke-width: 1.5;\" x1=\"33\" x2=\"99\" y1=\"284.9375\" y2=\"284.9375\"/></a><!--MD5=[09b614a08d8cba4a07c9adeb5e0fee81]\n",
       "class E3--><a href=\"psysml:03220e95-b237-4532-8361-eb1844ca39e9\" target=\"_top\" title=\"psysml:03220e95-b237-4532-8361-eb1844ca39e9\" xlink:actuate=\"onRequest\" xlink:href=\"psysml:03220e95-b237-4532-8361-eb1844ca39e9\" xlink:show=\"new\" xlink:title=\"psysml:03220e95-b237-4532-8361-eb1844ca39e9\" xlink:type=\"simple\"><rect fill=\"#FEFECE\" filter=\"url(#fv7rk7t3qyzuq)\" height=\"45.9375\" id=\"E3\" rx=\"10\" ry=\"10\" style=\"stroke: #A80036; stroke-width: 1.5;\" width=\"68\" x=\"83\" y=\"353\"/><ellipse cx=\"98\" cy=\"371.9688\" fill=\"#32CD32\" rx=\"11\" ry=\"11\" style=\"stroke: #A80036; stroke-width: 1.0;\"/><path d=\"M97.7969,367.6406 L97.7969,371.2656 L98.7969,371.2656 Q100,371.2656 100.4844,370.8594 Q100.9688,370.4531 100.9688,369.4531 Q100.9688,368.4531 100.4844,368.0469 Q100,367.6406 98.7969,367.6406 L97.7969,367.6406 Z M95.3438,365.5781 L98.7031,365.5781 Q101.2656,365.5781 102.3906,366.5 Q103.5156,367.4063 103.5156,369.4531 Q103.5156,371.5 102.3906,372.4219 Q101.2656,373.3281 98.7031,373.3281 L97.7969,373.3281 L97.7969,377.9688 L95.3438,377.9688 L95.3438,365.5781 Z \"/><text fill=\"#000000\" font-family=\"sans-serif\" font-size=\"12\" font-style=\"italic\" lengthAdjust=\"spacingAndGlyphs\" textLength=\"40\" x=\"110\" y=\"369.1387\">«part»</text><text fill=\"#000000\" font-family=\"sans-serif\" font-size=\"12\" lengthAdjust=\"spacingAndGlyphs\" textLength=\"6\" x=\"127\" y=\"383.1074\">x</text><line style=\"stroke: #A80036; stroke-width: 1.5;\" x1=\"84\" x2=\"150\" y1=\"390.9375\" y2=\"390.9375\"/></a><!--MD5=[ebbe1d658d1005bcc118a6aa81145e00]\n",
       "class E4--><a href=\"psysml:deb35dd4-2c3a-4fce-b73d-f2bc7012e274\" target=\"_top\" title=\"psysml:deb35dd4-2c3a-4fce-b73d-f2bc7012e274\" xlink:actuate=\"onRequest\" xlink:href=\"psysml:deb35dd4-2c3a-4fce-b73d-f2bc7012e274\" xlink:show=\"new\" xlink:title=\"psysml:deb35dd4-2c3a-4fce-b73d-f2bc7012e274\" xlink:type=\"simple\"><rect fill=\"#FEFECE\" filter=\"url(#fv7rk7t3qyzuq)\" height=\"40\" id=\"E4\" style=\"stroke: #A80036; stroke-width: 1.5;\" width=\"40\" x=\"97\" y=\"41\"/><ellipse cx=\"112\" cy=\"57\" fill=\"#008000\" rx=\"11\" ry=\"11\" style=\"stroke: #A80036; stroke-width: 1.0;\"/><path d=\"M110.9063,57.375 L110.9063,61.0469 L112.5313,61.0469 Q113.7031,61.0469 114.1719,60.6563 Q114.6406,60.25 114.6406,59.25 Q114.6406,58.25 114.1406,57.8125 Q113.6563,57.375 112.5313,57.375 L110.9063,57.375 Z M110.9063,52.5469 L110.9063,55.4219 L112.5313,55.4219 Q113.4531,55.4219 113.8438,55.0938 Q114.25,54.75 114.25,54 Q114.25,53.2344 113.8438,52.8906 Q113.4375,52.5469 112.5313,52.5469 L110.9063,52.5469 Z M108.5313,50.5938 L112.5313,50.5938 Q114.5938,50.5938 115.6406,51.375 Q116.6875,52.1563 116.6875,53.7188 Q116.6875,54.9219 116.0625,55.5938 Q115.4531,56.2656 114.2656,56.375 Q115.6875,56.5156 116.4063,57.3281 Q117.125,58.1406 117.125,59.5938 Q117.125,61.3906 116.0469,62.2031 Q114.9688,63 112.5313,63 L108.5313,63 L108.5313,50.5938 Z \"/><text fill=\"#000000\" font-family=\"sans-serif\" font-size=\"12\" lengthAdjust=\"spacingAndGlyphs\" textLength=\"8\" x=\"126\" y=\"61.1543\">P</text><line style=\"stroke: #A80036; stroke-width: 1.5;\" x1=\"98\" x2=\"136\" y1=\"73\" y2=\"73\"/></a><!--MD5=[270fce915f116d4de14055a7c1d9a0f3]\n",
       "class E5--><a href=\"psysml:021693d6-d6d0-45d3-85e9-0e056c3c99ea\" target=\"_top\" title=\"psysml:021693d6-d6d0-45d3-85e9-0e056c3c99ea\" xlink:actuate=\"onRequest\" xlink:href=\"psysml:021693d6-d6d0-45d3-85e9-0e056c3c99ea\" xlink:show=\"new\" xlink:title=\"psysml:021693d6-d6d0-45d3-85e9-0e056c3c99ea\" xlink:type=\"simple\"><rect fill=\"#FEFECE\" filter=\"url(#fv7rk7t3qyzuq)\" height=\"45.9375\" id=\"E5\" rx=\"10\" ry=\"10\" style=\"stroke: #A80036; stroke-width: 1.5;\" width=\"68\" x=\"32\" y=\"141\"/><ellipse cx=\"47\" cy=\"159.9688\" fill=\"#32CD32\" rx=\"11\" ry=\"11\" style=\"stroke: #A80036; stroke-width: 1.0;\"/><path d=\"M46.7969,155.6406 L46.7969,159.2656 L47.7969,159.2656 Q49,159.2656 49.4844,158.8594 Q49.9688,158.4531 49.9688,157.4531 Q49.9688,156.4531 49.4844,156.0469 Q49,155.6406 47.7969,155.6406 L46.7969,155.6406 Z M44.3438,153.5781 L47.7031,153.5781 Q50.2656,153.5781 51.3906,154.5 Q52.5156,155.4063 52.5156,157.4531 Q52.5156,159.5 51.3906,160.4219 Q50.2656,161.3281 47.7031,161.3281 L46.7969,161.3281 L46.7969,165.9688 L44.3438,165.9688 L44.3438,153.5781 Z \"/><text fill=\"#000000\" font-family=\"sans-serif\" font-size=\"12\" font-style=\"italic\" lengthAdjust=\"spacingAndGlyphs\" textLength=\"40\" x=\"59\" y=\"157.1387\">«part»</text><text fill=\"#000000\" font-family=\"sans-serif\" font-size=\"12\" lengthAdjust=\"spacingAndGlyphs\" textLength=\"6\" x=\"76\" y=\"171.1074\">y</text><line style=\"stroke: #A80036; stroke-width: 1.5;\" x1=\"33\" x2=\"99\" y1=\"178.9375\" y2=\"178.9375\"/></a><!--MD5=[60a26617385b1d2d0262a64233df1f8d]\n",
       "class E6--><a href=\"psysml:48ad0273-6ae0-4e72-b6eb-52596fa39c0f\" target=\"_top\" title=\"psysml:48ad0273-6ae0-4e72-b6eb-52596fa39c0f\" xlink:actuate=\"onRequest\" xlink:href=\"psysml:48ad0273-6ae0-4e72-b6eb-52596fa39c0f\" xlink:show=\"new\" xlink:title=\"psysml:48ad0273-6ae0-4e72-b6eb-52596fa39c0f\" xlink:type=\"simple\"><rect fill=\"#FEFECE\" filter=\"url(#fv7rk7t3qyzuq)\" height=\"45.9375\" id=\"E6\" rx=\"10\" ry=\"10\" style=\"stroke: #A80036; stroke-width: 1.5;\" width=\"68\" x=\"135\" y=\"141\"/><ellipse cx=\"150\" cy=\"159.9688\" fill=\"#32CD32\" rx=\"11\" ry=\"11\" style=\"stroke: #A80036; stroke-width: 1.0;\"/><path d=\"M149.7969,155.6406 L149.7969,159.2656 L150.7969,159.2656 Q152,159.2656 152.4844,158.8594 Q152.9688,158.4531 152.9688,157.4531 Q152.9688,156.4531 152.4844,156.0469 Q152,155.6406 150.7969,155.6406 L149.7969,155.6406 Z M147.3438,153.5781 L150.7031,153.5781 Q153.2656,153.5781 154.3906,154.5 Q155.5156,155.4063 155.5156,157.4531 Q155.5156,159.5 154.3906,160.4219 Q153.2656,161.3281 150.7031,161.3281 L149.7969,161.3281 L149.7969,165.9688 L147.3438,165.9688 L147.3438,153.5781 Z \"/><text fill=\"#000000\" font-family=\"sans-serif\" font-size=\"12\" font-style=\"italic\" lengthAdjust=\"spacingAndGlyphs\" textLength=\"40\" x=\"162\" y=\"157.1387\">«part»</text><text fill=\"#000000\" font-family=\"sans-serif\" font-size=\"12\" lengthAdjust=\"spacingAndGlyphs\" textLength=\"16\" x=\"174\" y=\"171.1074\">p1</text><line style=\"stroke: #A80036; stroke-width: 1.5;\" x1=\"136\" x2=\"202\" y1=\"178.9375\" y2=\"178.9375\"/></a><!--MD5=[2156ba9850f5573cc1fc38a6a4b2f02b]\n",
       "class E7--><a href=\"psysml:3d476d3d-b46e-46da-94ef-54f71581d8bd\" target=\"_top\" title=\"psysml:3d476d3d-b46e-46da-94ef-54f71581d8bd\" xlink:actuate=\"onRequest\" xlink:href=\"psysml:3d476d3d-b46e-46da-94ef-54f71581d8bd\" xlink:show=\"new\" xlink:title=\"psysml:3d476d3d-b46e-46da-94ef-54f71581d8bd\" xlink:type=\"simple\"><rect fill=\"#FEFECE\" filter=\"url(#fv7rk7t3qyzuq)\" height=\"45.9375\" id=\"E7\" rx=\"10\" ry=\"10\" style=\"stroke: #A80036; stroke-width: 1.5;\" width=\"68\" x=\"135\" y=\"247\"/><ellipse cx=\"150\" cy=\"265.9688\" fill=\"#32CD32\" rx=\"11\" ry=\"11\" style=\"stroke: #A80036; stroke-width: 1.0;\"/><path d=\"M149.7969,261.6406 L149.7969,265.2656 L150.7969,265.2656 Q152,265.2656 152.4844,264.8594 Q152.9688,264.4531 152.9688,263.4531 Q152.9688,262.4531 152.4844,262.0469 Q152,261.6406 150.7969,261.6406 L149.7969,261.6406 Z M147.3438,259.5781 L150.7031,259.5781 Q153.2656,259.5781 154.3906,260.5 Q155.5156,261.4063 155.5156,263.4531 Q155.5156,265.5 154.3906,266.4219 Q153.2656,267.3281 150.7031,267.3281 L149.7969,267.3281 L149.7969,271.9688 L147.3438,271.9688 L147.3438,259.5781 Z \"/><text fill=\"#000000\" font-family=\"sans-serif\" font-size=\"12\" font-style=\"italic\" lengthAdjust=\"spacingAndGlyphs\" textLength=\"40\" x=\"162\" y=\"263.1387\">«part»</text><text fill=\"#000000\" font-family=\"sans-serif\" font-size=\"12\" lengthAdjust=\"spacingAndGlyphs\" textLength=\"6\" x=\"179\" y=\"277.1074\">x</text><line style=\"stroke: #A80036; stroke-width: 1.5;\" x1=\"136\" x2=\"202\" y1=\"284.9375\" y2=\"284.9375\"/></a><!--MD5=[209b3feb70ccb6233bfe1053d122c12c]\n",
       "reverse link E2 to E3--><a href=\"psysml:03220e95-b237-4532-8361-eb1844ca39e9\" target=\"_top\" title=\"psysml:03220e95-b237-4532-8361-eb1844ca39e9\" xlink:actuate=\"onRequest\" xlink:href=\"psysml:03220e95-b237-4532-8361-eb1844ca39e9\" xlink:show=\"new\" xlink:title=\"psysml:03220e95-b237-4532-8361-eb1844ca39e9\" xlink:type=\"simple\"><path d=\"M82.69,305.03 C90.41,320.78 99.37,339.06 106.2,352.98 \" fill=\"none\" id=\"E2&lt;-E3\" style=\"stroke: #A80036; stroke-width: 1.0;\"/><polygon fill=\"#A80036\" points=\"76.82,293.06,75.8729,300.2086,82.1073,303.8324,83.0544,296.6838,76.82,293.06\" style=\"stroke: #A80036; stroke-width: 1.0;\"/></a><!--MD5=[62aa6af11e70f752912c1cb0466f24f7]\n",
       "reverse link E4 to E5--><a href=\"psysml:021693d6-d6d0-45d3-85e9-0e056c3c99ea\" target=\"_top\" title=\"psysml:021693d6-d6d0-45d3-85e9-0e056c3c99ea\" xlink:actuate=\"onRequest\" xlink:href=\"psysml:021693d6-d6d0-45d3-85e9-0e056c3c99ea\" xlink:show=\"new\" xlink:title=\"psysml:021693d6-d6d0-45d3-85e9-0e056c3c99ea\" xlink:type=\"simple\"><path d=\"M101.3,93.09 C93.51,108.51 84.29,126.78 77.22,140.77 \" fill=\"none\" id=\"E4&lt;-E5\" style=\"stroke: #A80036; stroke-width: 1.0;\"/><polygon fill=\"#A80036\" points=\"107.17,81.47,100.895,85.0231,101.7613,92.1819,108.0363,88.6289,107.17,81.47\" style=\"stroke: #A80036; stroke-width: 1.0;\"/></a><!--MD5=[2351f337d6de0f557b50152ba70847b5]\n",
       "link E6 to E2--><a href=\"psysml:9890fb32-dc37-43db-abbc-6177a2056fad\" target=\"_top\" title=\"psysml:9890fb32-dc37-43db-abbc-6177a2056fad\" xlink:actuate=\"onRequest\" xlink:href=\"psysml:9890fb32-dc37-43db-abbc-6177a2056fad\" xlink:show=\"new\" xlink:title=\"psysml:9890fb32-dc37-43db-abbc-6177a2056fad\" xlink:type=\"simple\"><path d=\"M147.16,187.06 C134.05,200.29 117.05,217.46 102,232.65 \" fill=\"none\" id=\"E6-&gt;E2\" style=\"stroke: #A80036; stroke-width: 1.0;\"/><polygon fill=\"none\" points=\"106.86,237.69,87.81,246.98,96.91,227.84,106.86,237.69\" style=\"stroke: #A80036; stroke-width: 1.0;\"/></a><!--MD5=[6db378b65e1aef66a01cb3103812b399]\n",
       "reverse link E4 to E6--><a href=\"psysml:48ad0273-6ae0-4e72-b6eb-52596fa39c0f\" target=\"_top\" title=\"psysml:48ad0273-6ae0-4e72-b6eb-52596fa39c0f\" xlink:actuate=\"onRequest\" xlink:href=\"psysml:48ad0273-6ae0-4e72-b6eb-52596fa39c0f\" xlink:show=\"new\" xlink:title=\"psysml:48ad0273-6ae0-4e72-b6eb-52596fa39c0f\" xlink:type=\"simple\"><path d=\"M133.01,93.09 C140.95,108.51 150.35,126.78 157.56,140.77 \" fill=\"none\" id=\"E4&lt;-E6\" style=\"stroke: #A80036; stroke-width: 1.0;\"/><polygon fill=\"#A80036\" points=\"127.03,81.47,126.2165,88.6351,132.5176,92.1418,133.331,84.9767,127.03,81.47\" style=\"stroke: #A80036; stroke-width: 1.0;\"/></a><!--MD5=[14ccda38c055a5c0da953d572bc50960]\n",
       "link E7 to E3--><a href=\"psysml:6e6cfa00-bc1f-4d19-92ba-1126ed543e13\" target=\"_top\" title=\"psysml:6e6cfa00-bc1f-4d19-92ba-1126ed543e13\" xlink:actuate=\"onRequest\" xlink:href=\"psysml:6e6cfa00-bc1f-4d19-92ba-1126ed543e13\" xlink:show=\"new\" xlink:title=\"psysml:6e6cfa00-bc1f-4d19-92ba-1126ed543e13\" xlink:type=\"simple\"><path d=\"M157.97,293.06 C151.91,305.19 144.19,320.62 137.09,334.82 \" fill=\"none\" id=\"E7-&gt;E3\" style=\"stroke: #A80036; stroke-width: 1.0;\"/><polygon fill=\"#FFFFFF\" points=\"128.01,352.98,130.2461,332.8554,142.768,339.1164,128.01,352.98\" style=\"stroke: #A80036; stroke-width: 1.0;\"/><line style=\"stroke: #A80036; stroke-width: 2.0;\" x1=\"131.9455\" x2=\"144.4675\" y1=\"329.4566\" y2=\"335.7176\"/></a><!--MD5=[3f50a3473f1dfb74d3f76443e03635af]\n",
       "reverse link E6 to E7--><a href=\"psysml:3d476d3d-b46e-46da-94ef-54f71581d8bd\" target=\"_top\" title=\"psysml:3d476d3d-b46e-46da-94ef-54f71581d8bd\" xlink:actuate=\"onRequest\" xlink:href=\"psysml:3d476d3d-b46e-46da-94ef-54f71581d8bd\" xlink:show=\"new\" xlink:title=\"psysml:3d476d3d-b46e-46da-94ef-54f71581d8bd\" xlink:type=\"simple\"><path d=\"M169,200.44 C169,215.87 169,233.47 169,246.98 \" fill=\"none\" id=\"E6&lt;-E7\" style=\"stroke: #A80036; stroke-width: 1.0;\"/><polygon fill=\"#A80036\" points=\"169,187.06,165,193.06,169,199.06,173,193.06,169,187.06\" style=\"stroke: #A80036; stroke-width: 1.0;\"/></a><!--MD5=[9c15c8ffc5239ec58bb2c5bc498fa65e]\n",
       "@startuml\r\n",
       " \r\n",
       "package \"ConnectionTest\" as E1  [[psysml:1fa0c0c0-6c41-491a-9601-36d7e4e40543 ]]  {\r\n",
       "comp usage \"p\" as E2  << (P,limegreen) part>> [[psysml:5f85cf43-367b-49d0-8c6e-b9320e7aab66 ]] {\r\n",
       "}\r\n",
       "comp usage \"x\" as E3  << (P,limegreen) part>> [[psysml:03220e95-b237-4532-8361-eb1844ca39e9 ]] {\r\n",
       "}\r\n",
       "comp def \"P\" as E4  << (B,green) >> [[psysml:deb35dd4-2c3a-4fce-b73d-f2bc7012e274 ]] {\r\n",
       "}\r\n",
       "comp usage \"y\" as E5  << (P,limegreen) part>> [[psysml:021693d6-d6d0-45d3-85e9-0e056c3c99ea ]] {\r\n",
       "}\r\n",
       "comp usage \"p1\" as E6  << (P,limegreen) part>> [[psysml:48ad0273-6ae0-4e72-b6eb-52596fa39c0f ]] {\r\n",
       "}\r\n",
       "comp usage \"x\" as E7  << (P,limegreen) part>> [[psysml:3d476d3d-b46e-46da-94ef-54f71581d8bd ]] {\r\n",
       "}\r\n",
       "E2 *- - E3 [[psysml:03220e95-b237-4532-8361-eb1844ca39e9 ]] \r\n",
       "E4 *- - E5 [[psysml:021693d6-d6d0-45d3-85e9-0e056c3c99ea ]] \r\n",
       "E6 - -|> E2 [[psysml:9890fb32-dc37-43db-abbc-6177a2056fad ]] \r\n",
       "E4 *- - E6 [[psysml:48ad0273-6ae0-4e72-b6eb-52596fa39c0f ]] \r\n",
       "E7 - -||> E3 [[psysml:6e6cfa00-bc1f-4d19-92ba-1126ed543e13 ]] \r\n",
       "E6 *- - E7 [[psysml:3d476d3d-b46e-46da-94ef-54f71581d8bd ]] \r\n",
       "}\r\n",
       "@enduml\r\n",
       "\n",
       "PlantUML version 1.2020.13(Sat Jun 13 12:26:38 UTC 2020)\n",
       "(EPL source distribution)\n",
       "Java Runtime: OpenJDK Runtime Environment\n",
       "JVM: OpenJDK 64-Bit Server VM\n",
       "Default Encoding: UTF-8\n",
       "Language: en\n",
       "Country: null\n",
       "--></g></svg>"
      ]
     },
     "execution_count": 35,
     "metadata": {},
     "output_type": "execute_result"
    }
   ],
   "source": [
    "%viz --style=\"PLANTUML\" --view=\"Sequence\" \"ConnectionTest\""
   ]
  },
  {
   "cell_type": "code",
   "execution_count": 36,
   "id": "appointed-angel",
   "metadata": {
    "execution": {
     "iopub.execute_input": "2021-03-25T13:50:06.031943Z",
     "iopub.status.busy": "2021-03-25T13:50:06.031417Z",
     "iopub.status.idle": "2021-03-25T13:50:06.098016Z",
     "shell.execute_reply": "2021-03-25T13:50:06.096500Z"
    }
   },
   "outputs": [
    {
     "data": {
      "image/svg+xml": [
       "<?xml version=\"1.0\" encoding=\"UTF-8\" standalone=\"no\"?><svg xmlns=\"http://www.w3.org/2000/svg\" xmlns:xlink=\"http://www.w3.org/1999/xlink\" contentScriptType=\"application/ecmascript\" contentStyleType=\"text/css\" height=\"427px\" preserveAspectRatio=\"none\" style=\"width:241px;height:427px;\" version=\"1.1\" viewBox=\"0 0 241 427\" width=\"241px\" zoomAndPan=\"magnify\"><defs><filter height=\"300%\" id=\"fv7rk7t3qyzuq\" width=\"300%\" x=\"-1\" y=\"-1\"><feGaussianBlur result=\"blurOut\" stdDeviation=\"2.0\"/><feColorMatrix in=\"blurOut\" result=\"blurOut2\" type=\"matrix\" values=\"0 0 0 0 0 0 0 0 0 0 0 0 0 0 0 0 0 0 .4 0\"/><feOffset dx=\"4.0\" dy=\"4.0\" in=\"blurOut2\" result=\"blurOut3\"/><feBlend in=\"SourceGraphic\" in2=\"blurOut3\" mode=\"normal\"/></filter></defs><g><!--MD5=[fbc87193dbaf4d95561dea2c320d4a47]\n",
       "cluster E1--><a href=\"psysml:1fa0c0c0-6c41-491a-9601-36d7e4e40543\" target=\"_top\" title=\"psysml:1fa0c0c0-6c41-491a-9601-36d7e4e40543\" xlink:actuate=\"onRequest\" xlink:href=\"psysml:1fa0c0c0-6c41-491a-9601-36d7e4e40543\" xlink:show=\"new\" xlink:title=\"psysml:1fa0c0c0-6c41-491a-9601-36d7e4e40543\" xlink:type=\"simple\"><polygon fill=\"#FFFFFF\" filter=\"url(#fv7rk7t3qyzuq)\" points=\"16,6,147,6,154,28.2969,219,28.2969,219,415,16,415,16,6\" style=\"stroke: #000000; stroke-width: 1.5;\"/><line style=\"stroke: #000000; stroke-width: 1.5;\" x1=\"16\" x2=\"154\" y1=\"28.2969\" y2=\"28.2969\"/><text fill=\"#000000\" font-family=\"sans-serif\" font-size=\"14\" font-weight=\"bold\" lengthAdjust=\"spacingAndGlyphs\" textLength=\"125\" x=\"20\" y=\"20.9951\">ConnectionTest</text></a><!--MD5=[b4997ac47864f28c2f74865a473b2911]\n",
       "class E2--><a href=\"psysml:5f85cf43-367b-49d0-8c6e-b9320e7aab66\" target=\"_top\" title=\"psysml:5f85cf43-367b-49d0-8c6e-b9320e7aab66\" xlink:actuate=\"onRequest\" xlink:href=\"psysml:5f85cf43-367b-49d0-8c6e-b9320e7aab66\" xlink:show=\"new\" xlink:title=\"psysml:5f85cf43-367b-49d0-8c6e-b9320e7aab66\" xlink:type=\"simple\"><rect fill=\"#FEFECE\" filter=\"url(#fv7rk7t3qyzuq)\" height=\"45.9375\" id=\"E2\" rx=\"10\" ry=\"10\" style=\"stroke: #A80036; stroke-width: 1.5;\" width=\"68\" x=\"32\" y=\"247\"/><ellipse cx=\"47\" cy=\"265.9688\" fill=\"#32CD32\" rx=\"11\" ry=\"11\" style=\"stroke: #A80036; stroke-width: 1.0;\"/><path d=\"M46.7969,261.6406 L46.7969,265.2656 L47.7969,265.2656 Q49,265.2656 49.4844,264.8594 Q49.9688,264.4531 49.9688,263.4531 Q49.9688,262.4531 49.4844,262.0469 Q49,261.6406 47.7969,261.6406 L46.7969,261.6406 Z M44.3438,259.5781 L47.7031,259.5781 Q50.2656,259.5781 51.3906,260.5 Q52.5156,261.4063 52.5156,263.4531 Q52.5156,265.5 51.3906,266.4219 Q50.2656,267.3281 47.7031,267.3281 L46.7969,267.3281 L46.7969,271.9688 L44.3438,271.9688 L44.3438,259.5781 Z \"/><text fill=\"#000000\" font-family=\"sans-serif\" font-size=\"12\" font-style=\"italic\" lengthAdjust=\"spacingAndGlyphs\" textLength=\"40\" x=\"59\" y=\"263.1387\">«part»</text><text fill=\"#000000\" font-family=\"sans-serif\" font-size=\"12\" lengthAdjust=\"spacingAndGlyphs\" textLength=\"8\" x=\"75\" y=\"277.1074\">p</text><line style=\"stroke: #A80036; stroke-width: 1.5;\" x1=\"33\" x2=\"99\" y1=\"284.9375\" y2=\"284.9375\"/></a><!--MD5=[09b614a08d8cba4a07c9adeb5e0fee81]\n",
       "class E3--><a href=\"psysml:03220e95-b237-4532-8361-eb1844ca39e9\" target=\"_top\" title=\"psysml:03220e95-b237-4532-8361-eb1844ca39e9\" xlink:actuate=\"onRequest\" xlink:href=\"psysml:03220e95-b237-4532-8361-eb1844ca39e9\" xlink:show=\"new\" xlink:title=\"psysml:03220e95-b237-4532-8361-eb1844ca39e9\" xlink:type=\"simple\"><rect fill=\"#FEFECE\" filter=\"url(#fv7rk7t3qyzuq)\" height=\"45.9375\" id=\"E3\" rx=\"10\" ry=\"10\" style=\"stroke: #A80036; stroke-width: 1.5;\" width=\"68\" x=\"83\" y=\"353\"/><ellipse cx=\"98\" cy=\"371.9688\" fill=\"#32CD32\" rx=\"11\" ry=\"11\" style=\"stroke: #A80036; stroke-width: 1.0;\"/><path d=\"M97.7969,367.6406 L97.7969,371.2656 L98.7969,371.2656 Q100,371.2656 100.4844,370.8594 Q100.9688,370.4531 100.9688,369.4531 Q100.9688,368.4531 100.4844,368.0469 Q100,367.6406 98.7969,367.6406 L97.7969,367.6406 Z M95.3438,365.5781 L98.7031,365.5781 Q101.2656,365.5781 102.3906,366.5 Q103.5156,367.4063 103.5156,369.4531 Q103.5156,371.5 102.3906,372.4219 Q101.2656,373.3281 98.7031,373.3281 L97.7969,373.3281 L97.7969,377.9688 L95.3438,377.9688 L95.3438,365.5781 Z \"/><text fill=\"#000000\" font-family=\"sans-serif\" font-size=\"12\" font-style=\"italic\" lengthAdjust=\"spacingAndGlyphs\" textLength=\"40\" x=\"110\" y=\"369.1387\">«part»</text><text fill=\"#000000\" font-family=\"sans-serif\" font-size=\"12\" lengthAdjust=\"spacingAndGlyphs\" textLength=\"6\" x=\"127\" y=\"383.1074\">x</text><line style=\"stroke: #A80036; stroke-width: 1.5;\" x1=\"84\" x2=\"150\" y1=\"390.9375\" y2=\"390.9375\"/></a><!--MD5=[ebbe1d658d1005bcc118a6aa81145e00]\n",
       "class E4--><a href=\"psysml:deb35dd4-2c3a-4fce-b73d-f2bc7012e274\" target=\"_top\" title=\"psysml:deb35dd4-2c3a-4fce-b73d-f2bc7012e274\" xlink:actuate=\"onRequest\" xlink:href=\"psysml:deb35dd4-2c3a-4fce-b73d-f2bc7012e274\" xlink:show=\"new\" xlink:title=\"psysml:deb35dd4-2c3a-4fce-b73d-f2bc7012e274\" xlink:type=\"simple\"><rect fill=\"#FEFECE\" filter=\"url(#fv7rk7t3qyzuq)\" height=\"40\" id=\"E4\" style=\"stroke: #A80036; stroke-width: 1.5;\" width=\"40\" x=\"97\" y=\"41\"/><ellipse cx=\"112\" cy=\"57\" fill=\"#008000\" rx=\"11\" ry=\"11\" style=\"stroke: #A80036; stroke-width: 1.0;\"/><path d=\"M110.9063,57.375 L110.9063,61.0469 L112.5313,61.0469 Q113.7031,61.0469 114.1719,60.6563 Q114.6406,60.25 114.6406,59.25 Q114.6406,58.25 114.1406,57.8125 Q113.6563,57.375 112.5313,57.375 L110.9063,57.375 Z M110.9063,52.5469 L110.9063,55.4219 L112.5313,55.4219 Q113.4531,55.4219 113.8438,55.0938 Q114.25,54.75 114.25,54 Q114.25,53.2344 113.8438,52.8906 Q113.4375,52.5469 112.5313,52.5469 L110.9063,52.5469 Z M108.5313,50.5938 L112.5313,50.5938 Q114.5938,50.5938 115.6406,51.375 Q116.6875,52.1563 116.6875,53.7188 Q116.6875,54.9219 116.0625,55.5938 Q115.4531,56.2656 114.2656,56.375 Q115.6875,56.5156 116.4063,57.3281 Q117.125,58.1406 117.125,59.5938 Q117.125,61.3906 116.0469,62.2031 Q114.9688,63 112.5313,63 L108.5313,63 L108.5313,50.5938 Z \"/><text fill=\"#000000\" font-family=\"sans-serif\" font-size=\"12\" lengthAdjust=\"spacingAndGlyphs\" textLength=\"8\" x=\"126\" y=\"61.1543\">P</text><line style=\"stroke: #A80036; stroke-width: 1.5;\" x1=\"98\" x2=\"136\" y1=\"73\" y2=\"73\"/></a><!--MD5=[270fce915f116d4de14055a7c1d9a0f3]\n",
       "class E5--><a href=\"psysml:021693d6-d6d0-45d3-85e9-0e056c3c99ea\" target=\"_top\" title=\"psysml:021693d6-d6d0-45d3-85e9-0e056c3c99ea\" xlink:actuate=\"onRequest\" xlink:href=\"psysml:021693d6-d6d0-45d3-85e9-0e056c3c99ea\" xlink:show=\"new\" xlink:title=\"psysml:021693d6-d6d0-45d3-85e9-0e056c3c99ea\" xlink:type=\"simple\"><rect fill=\"#FEFECE\" filter=\"url(#fv7rk7t3qyzuq)\" height=\"45.9375\" id=\"E5\" rx=\"10\" ry=\"10\" style=\"stroke: #A80036; stroke-width: 1.5;\" width=\"68\" x=\"32\" y=\"141\"/><ellipse cx=\"47\" cy=\"159.9688\" fill=\"#32CD32\" rx=\"11\" ry=\"11\" style=\"stroke: #A80036; stroke-width: 1.0;\"/><path d=\"M46.7969,155.6406 L46.7969,159.2656 L47.7969,159.2656 Q49,159.2656 49.4844,158.8594 Q49.9688,158.4531 49.9688,157.4531 Q49.9688,156.4531 49.4844,156.0469 Q49,155.6406 47.7969,155.6406 L46.7969,155.6406 Z M44.3438,153.5781 L47.7031,153.5781 Q50.2656,153.5781 51.3906,154.5 Q52.5156,155.4063 52.5156,157.4531 Q52.5156,159.5 51.3906,160.4219 Q50.2656,161.3281 47.7031,161.3281 L46.7969,161.3281 L46.7969,165.9688 L44.3438,165.9688 L44.3438,153.5781 Z \"/><text fill=\"#000000\" font-family=\"sans-serif\" font-size=\"12\" font-style=\"italic\" lengthAdjust=\"spacingAndGlyphs\" textLength=\"40\" x=\"59\" y=\"157.1387\">«part»</text><text fill=\"#000000\" font-family=\"sans-serif\" font-size=\"12\" lengthAdjust=\"spacingAndGlyphs\" textLength=\"6\" x=\"76\" y=\"171.1074\">y</text><line style=\"stroke: #A80036; stroke-width: 1.5;\" x1=\"33\" x2=\"99\" y1=\"178.9375\" y2=\"178.9375\"/></a><!--MD5=[60a26617385b1d2d0262a64233df1f8d]\n",
       "class E6--><a href=\"psysml:48ad0273-6ae0-4e72-b6eb-52596fa39c0f\" target=\"_top\" title=\"psysml:48ad0273-6ae0-4e72-b6eb-52596fa39c0f\" xlink:actuate=\"onRequest\" xlink:href=\"psysml:48ad0273-6ae0-4e72-b6eb-52596fa39c0f\" xlink:show=\"new\" xlink:title=\"psysml:48ad0273-6ae0-4e72-b6eb-52596fa39c0f\" xlink:type=\"simple\"><rect fill=\"#FEFECE\" filter=\"url(#fv7rk7t3qyzuq)\" height=\"45.9375\" id=\"E6\" rx=\"10\" ry=\"10\" style=\"stroke: #A80036; stroke-width: 1.5;\" width=\"68\" x=\"135\" y=\"141\"/><ellipse cx=\"150\" cy=\"159.9688\" fill=\"#32CD32\" rx=\"11\" ry=\"11\" style=\"stroke: #A80036; stroke-width: 1.0;\"/><path d=\"M149.7969,155.6406 L149.7969,159.2656 L150.7969,159.2656 Q152,159.2656 152.4844,158.8594 Q152.9688,158.4531 152.9688,157.4531 Q152.9688,156.4531 152.4844,156.0469 Q152,155.6406 150.7969,155.6406 L149.7969,155.6406 Z M147.3438,153.5781 L150.7031,153.5781 Q153.2656,153.5781 154.3906,154.5 Q155.5156,155.4063 155.5156,157.4531 Q155.5156,159.5 154.3906,160.4219 Q153.2656,161.3281 150.7031,161.3281 L149.7969,161.3281 L149.7969,165.9688 L147.3438,165.9688 L147.3438,153.5781 Z \"/><text fill=\"#000000\" font-family=\"sans-serif\" font-size=\"12\" font-style=\"italic\" lengthAdjust=\"spacingAndGlyphs\" textLength=\"40\" x=\"162\" y=\"157.1387\">«part»</text><text fill=\"#000000\" font-family=\"sans-serif\" font-size=\"12\" lengthAdjust=\"spacingAndGlyphs\" textLength=\"16\" x=\"174\" y=\"171.1074\">p1</text><line style=\"stroke: #A80036; stroke-width: 1.5;\" x1=\"136\" x2=\"202\" y1=\"178.9375\" y2=\"178.9375\"/></a><!--MD5=[2156ba9850f5573cc1fc38a6a4b2f02b]\n",
       "class E7--><a href=\"psysml:3d476d3d-b46e-46da-94ef-54f71581d8bd\" target=\"_top\" title=\"psysml:3d476d3d-b46e-46da-94ef-54f71581d8bd\" xlink:actuate=\"onRequest\" xlink:href=\"psysml:3d476d3d-b46e-46da-94ef-54f71581d8bd\" xlink:show=\"new\" xlink:title=\"psysml:3d476d3d-b46e-46da-94ef-54f71581d8bd\" xlink:type=\"simple\"><rect fill=\"#FEFECE\" filter=\"url(#fv7rk7t3qyzuq)\" height=\"45.9375\" id=\"E7\" rx=\"10\" ry=\"10\" style=\"stroke: #A80036; stroke-width: 1.5;\" width=\"68\" x=\"135\" y=\"247\"/><ellipse cx=\"150\" cy=\"265.9688\" fill=\"#32CD32\" rx=\"11\" ry=\"11\" style=\"stroke: #A80036; stroke-width: 1.0;\"/><path d=\"M149.7969,261.6406 L149.7969,265.2656 L150.7969,265.2656 Q152,265.2656 152.4844,264.8594 Q152.9688,264.4531 152.9688,263.4531 Q152.9688,262.4531 152.4844,262.0469 Q152,261.6406 150.7969,261.6406 L149.7969,261.6406 Z M147.3438,259.5781 L150.7031,259.5781 Q153.2656,259.5781 154.3906,260.5 Q155.5156,261.4063 155.5156,263.4531 Q155.5156,265.5 154.3906,266.4219 Q153.2656,267.3281 150.7031,267.3281 L149.7969,267.3281 L149.7969,271.9688 L147.3438,271.9688 L147.3438,259.5781 Z \"/><text fill=\"#000000\" font-family=\"sans-serif\" font-size=\"12\" font-style=\"italic\" lengthAdjust=\"spacingAndGlyphs\" textLength=\"40\" x=\"162\" y=\"263.1387\">«part»</text><text fill=\"#000000\" font-family=\"sans-serif\" font-size=\"12\" lengthAdjust=\"spacingAndGlyphs\" textLength=\"6\" x=\"179\" y=\"277.1074\">x</text><line style=\"stroke: #A80036; stroke-width: 1.5;\" x1=\"136\" x2=\"202\" y1=\"284.9375\" y2=\"284.9375\"/></a><!--MD5=[209b3feb70ccb6233bfe1053d122c12c]\n",
       "reverse link E2 to E3--><a href=\"psysml:03220e95-b237-4532-8361-eb1844ca39e9\" target=\"_top\" title=\"psysml:03220e95-b237-4532-8361-eb1844ca39e9\" xlink:actuate=\"onRequest\" xlink:href=\"psysml:03220e95-b237-4532-8361-eb1844ca39e9\" xlink:show=\"new\" xlink:title=\"psysml:03220e95-b237-4532-8361-eb1844ca39e9\" xlink:type=\"simple\"><path d=\"M82.69,305.03 C90.41,320.78 99.37,339.06 106.2,352.98 \" fill=\"none\" id=\"E2&lt;-E3\" style=\"stroke: #A80036; stroke-width: 1.0;\"/><polygon fill=\"#A80036\" points=\"76.82,293.06,75.8729,300.2086,82.1073,303.8324,83.0544,296.6838,76.82,293.06\" style=\"stroke: #A80036; stroke-width: 1.0;\"/></a><!--MD5=[62aa6af11e70f752912c1cb0466f24f7]\n",
       "reverse link E4 to E5--><a href=\"psysml:021693d6-d6d0-45d3-85e9-0e056c3c99ea\" target=\"_top\" title=\"psysml:021693d6-d6d0-45d3-85e9-0e056c3c99ea\" xlink:actuate=\"onRequest\" xlink:href=\"psysml:021693d6-d6d0-45d3-85e9-0e056c3c99ea\" xlink:show=\"new\" xlink:title=\"psysml:021693d6-d6d0-45d3-85e9-0e056c3c99ea\" xlink:type=\"simple\"><path d=\"M101.3,93.09 C93.51,108.51 84.29,126.78 77.22,140.77 \" fill=\"none\" id=\"E4&lt;-E5\" style=\"stroke: #A80036; stroke-width: 1.0;\"/><polygon fill=\"#A80036\" points=\"107.17,81.47,100.895,85.0231,101.7613,92.1819,108.0363,88.6289,107.17,81.47\" style=\"stroke: #A80036; stroke-width: 1.0;\"/></a><!--MD5=[2351f337d6de0f557b50152ba70847b5]\n",
       "link E6 to E2--><a href=\"psysml:9890fb32-dc37-43db-abbc-6177a2056fad\" target=\"_top\" title=\"psysml:9890fb32-dc37-43db-abbc-6177a2056fad\" xlink:actuate=\"onRequest\" xlink:href=\"psysml:9890fb32-dc37-43db-abbc-6177a2056fad\" xlink:show=\"new\" xlink:title=\"psysml:9890fb32-dc37-43db-abbc-6177a2056fad\" xlink:type=\"simple\"><path d=\"M147.16,187.06 C134.05,200.29 117.05,217.46 102,232.65 \" fill=\"none\" id=\"E6-&gt;E2\" style=\"stroke: #A80036; stroke-width: 1.0;\"/><polygon fill=\"none\" points=\"106.86,237.69,87.81,246.98,96.91,227.84,106.86,237.69\" style=\"stroke: #A80036; stroke-width: 1.0;\"/></a><!--MD5=[6db378b65e1aef66a01cb3103812b399]\n",
       "reverse link E4 to E6--><a href=\"psysml:48ad0273-6ae0-4e72-b6eb-52596fa39c0f\" target=\"_top\" title=\"psysml:48ad0273-6ae0-4e72-b6eb-52596fa39c0f\" xlink:actuate=\"onRequest\" xlink:href=\"psysml:48ad0273-6ae0-4e72-b6eb-52596fa39c0f\" xlink:show=\"new\" xlink:title=\"psysml:48ad0273-6ae0-4e72-b6eb-52596fa39c0f\" xlink:type=\"simple\"><path d=\"M133.01,93.09 C140.95,108.51 150.35,126.78 157.56,140.77 \" fill=\"none\" id=\"E4&lt;-E6\" style=\"stroke: #A80036; stroke-width: 1.0;\"/><polygon fill=\"#A80036\" points=\"127.03,81.47,126.2165,88.6351,132.5176,92.1418,133.331,84.9767,127.03,81.47\" style=\"stroke: #A80036; stroke-width: 1.0;\"/></a><!--MD5=[14ccda38c055a5c0da953d572bc50960]\n",
       "link E7 to E3--><a href=\"psysml:6e6cfa00-bc1f-4d19-92ba-1126ed543e13\" target=\"_top\" title=\"psysml:6e6cfa00-bc1f-4d19-92ba-1126ed543e13\" xlink:actuate=\"onRequest\" xlink:href=\"psysml:6e6cfa00-bc1f-4d19-92ba-1126ed543e13\" xlink:show=\"new\" xlink:title=\"psysml:6e6cfa00-bc1f-4d19-92ba-1126ed543e13\" xlink:type=\"simple\"><path d=\"M157.97,293.06 C151.91,305.19 144.19,320.62 137.09,334.82 \" fill=\"none\" id=\"E7-&gt;E3\" style=\"stroke: #A80036; stroke-width: 1.0;\"/><polygon fill=\"#FFFFFF\" points=\"128.01,352.98,130.2461,332.8554,142.768,339.1164,128.01,352.98\" style=\"stroke: #A80036; stroke-width: 1.0;\"/><line style=\"stroke: #A80036; stroke-width: 2.0;\" x1=\"131.9455\" x2=\"144.4675\" y1=\"329.4566\" y2=\"335.7176\"/></a><!--MD5=[3f50a3473f1dfb74d3f76443e03635af]\n",
       "reverse link E6 to E7--><a href=\"psysml:3d476d3d-b46e-46da-94ef-54f71581d8bd\" target=\"_top\" title=\"psysml:3d476d3d-b46e-46da-94ef-54f71581d8bd\" xlink:actuate=\"onRequest\" xlink:href=\"psysml:3d476d3d-b46e-46da-94ef-54f71581d8bd\" xlink:show=\"new\" xlink:title=\"psysml:3d476d3d-b46e-46da-94ef-54f71581d8bd\" xlink:type=\"simple\"><path d=\"M169,200.44 C169,215.87 169,233.47 169,246.98 \" fill=\"none\" id=\"E6&lt;-E7\" style=\"stroke: #A80036; stroke-width: 1.0;\"/><polygon fill=\"#A80036\" points=\"169,187.06,165,193.06,169,199.06,173,193.06,169,187.06\" style=\"stroke: #A80036; stroke-width: 1.0;\"/></a><!--MD5=[9c15c8ffc5239ec58bb2c5bc498fa65e]\n",
       "@startuml\r\n",
       " \r\n",
       "package \"ConnectionTest\" as E1  [[psysml:1fa0c0c0-6c41-491a-9601-36d7e4e40543 ]]  {\r\n",
       "comp usage \"p\" as E2  << (P,limegreen) part>> [[psysml:5f85cf43-367b-49d0-8c6e-b9320e7aab66 ]] {\r\n",
       "}\r\n",
       "comp usage \"x\" as E3  << (P,limegreen) part>> [[psysml:03220e95-b237-4532-8361-eb1844ca39e9 ]] {\r\n",
       "}\r\n",
       "comp def \"P\" as E4  << (B,green) >> [[psysml:deb35dd4-2c3a-4fce-b73d-f2bc7012e274 ]] {\r\n",
       "}\r\n",
       "comp usage \"y\" as E5  << (P,limegreen) part>> [[psysml:021693d6-d6d0-45d3-85e9-0e056c3c99ea ]] {\r\n",
       "}\r\n",
       "comp usage \"p1\" as E6  << (P,limegreen) part>> [[psysml:48ad0273-6ae0-4e72-b6eb-52596fa39c0f ]] {\r\n",
       "}\r\n",
       "comp usage \"x\" as E7  << (P,limegreen) part>> [[psysml:3d476d3d-b46e-46da-94ef-54f71581d8bd ]] {\r\n",
       "}\r\n",
       "E2 *- - E3 [[psysml:03220e95-b237-4532-8361-eb1844ca39e9 ]] \r\n",
       "E4 *- - E5 [[psysml:021693d6-d6d0-45d3-85e9-0e056c3c99ea ]] \r\n",
       "E6 - -|> E2 [[psysml:9890fb32-dc37-43db-abbc-6177a2056fad ]] \r\n",
       "E4 *- - E6 [[psysml:48ad0273-6ae0-4e72-b6eb-52596fa39c0f ]] \r\n",
       "E7 - -||> E3 [[psysml:6e6cfa00-bc1f-4d19-92ba-1126ed543e13 ]] \r\n",
       "E6 *- - E7 [[psysml:3d476d3d-b46e-46da-94ef-54f71581d8bd ]] \r\n",
       "}\r\n",
       "@enduml\r\n",
       "\n",
       "PlantUML version 1.2020.13(Sat Jun 13 12:26:38 UTC 2020)\n",
       "(EPL source distribution)\n",
       "Java Runtime: OpenJDK Runtime Environment\n",
       "JVM: OpenJDK 64-Bit Server VM\n",
       "Default Encoding: UTF-8\n",
       "Language: en\n",
       "Country: null\n",
       "--></g></svg>"
      ]
     },
     "execution_count": 36,
     "metadata": {},
     "output_type": "execute_result"
    }
   ],
   "source": [
    "%viz --style=\"PLANTUML\" --view=\"MIXED\" \"ConnectionTest\""
   ]
  },
  {
   "cell_type": "code",
   "execution_count": 37,
   "id": "allied-audio",
   "metadata": {
    "execution": {
     "iopub.execute_input": "2021-03-25T13:50:06.149014Z",
     "iopub.status.busy": "2021-03-25T13:50:06.148455Z",
     "iopub.status.idle": "2021-03-25T13:50:06.222837Z",
     "shell.execute_reply": "2021-03-25T13:50:06.221485Z"
    }
   },
   "outputs": [
    {
     "data": {
      "image/svg+xml": [
       "<?xml version=\"1.0\" encoding=\"UTF-8\" standalone=\"no\"?><svg xmlns=\"http://www.w3.org/2000/svg\" xmlns:xlink=\"http://www.w3.org/1999/xlink\" contentScriptType=\"application/ecmascript\" contentStyleType=\"text/css\" height=\"433px\" preserveAspectRatio=\"none\" style=\"width:189px;height:433px;\" version=\"1.1\" viewBox=\"0 0 189 433\" width=\"189px\" zoomAndPan=\"magnify\"><defs/><g><!--MD5=[fbc87193dbaf4d95561dea2c320d4a47]\n",
       "cluster E1--><a href=\"psysml:1fa0c0c0-6c41-491a-9601-36d7e4e40543\" target=\"_top\" title=\"psysml:1fa0c0c0-6c41-491a-9601-36d7e4e40543\" xlink:actuate=\"onRequest\" xlink:href=\"psysml:1fa0c0c0-6c41-491a-9601-36d7e4e40543\" xlink:show=\"new\" xlink:title=\"psysml:1fa0c0c0-6c41-491a-9601-36d7e4e40543\" xlink:type=\"simple\"><polygon fill=\"#FFFFFF\" points=\"16,6,147,6,154,28.2969,167,28.2969,167,421,16,421,16,6\" style=\"stroke: #000000; stroke-width: 1.5;\"/><line style=\"stroke: #000000; stroke-width: 1.5;\" x1=\"16\" x2=\"154\" y1=\"28.2969\" y2=\"28.2969\"/><text fill=\"#000000\" font-family=\"sans-serif\" font-size=\"14\" font-weight=\"bold\" lengthAdjust=\"spacingAndGlyphs\" textLength=\"125\" x=\"20\" y=\"20.9951\">ConnectionTest</text></a><!--MD5=[b4997ac47864f28c2f74865a473b2911]\n",
       "class E2--><a href=\"psysml:5f85cf43-367b-49d0-8c6e-b9320e7aab66\" target=\"_top\" title=\"psysml:5f85cf43-367b-49d0-8c6e-b9320e7aab66\" xlink:actuate=\"onRequest\" xlink:href=\"psysml:5f85cf43-367b-49d0-8c6e-b9320e7aab66\" xlink:show=\"new\" xlink:title=\"psysml:5f85cf43-367b-49d0-8c6e-b9320e7aab66\" xlink:type=\"simple\"><rect fill=\"#FFFFFF\" height=\"45.9375\" id=\"E2\" rx=\"10\" ry=\"10\" style=\"stroke: #383838; stroke-width: 1.5;\" width=\"42\" x=\"32\" y=\"253\"/><text fill=\"#000000\" font-family=\"sans-serif\" font-size=\"12\" font-style=\"italic\" lengthAdjust=\"spacingAndGlyphs\" textLength=\"40\" x=\"33\" y=\"269.1387\">«part»</text><text fill=\"#000000\" font-family=\"sans-serif\" font-size=\"12\" lengthAdjust=\"spacingAndGlyphs\" textLength=\"8\" x=\"49\" y=\"283.1074\">p</text><line style=\"stroke: #383838; stroke-width: 1.5;\" x1=\"33\" x2=\"73\" y1=\"290.9375\" y2=\"290.9375\"/></a><!--MD5=[09b614a08d8cba4a07c9adeb5e0fee81]\n",
       "class E3--><a href=\"psysml:03220e95-b237-4532-8361-eb1844ca39e9\" target=\"_top\" title=\"psysml:03220e95-b237-4532-8361-eb1844ca39e9\" xlink:actuate=\"onRequest\" xlink:href=\"psysml:03220e95-b237-4532-8361-eb1844ca39e9\" xlink:show=\"new\" xlink:title=\"psysml:03220e95-b237-4532-8361-eb1844ca39e9\" xlink:type=\"simple\"><rect fill=\"#FFFFFF\" height=\"45.9375\" id=\"E3\" rx=\"10\" ry=\"10\" style=\"stroke: #383838; stroke-width: 1.5;\" width=\"42\" x=\"70\" y=\"359\"/><text fill=\"#000000\" font-family=\"sans-serif\" font-size=\"12\" font-style=\"italic\" lengthAdjust=\"spacingAndGlyphs\" textLength=\"40\" x=\"71\" y=\"375.1387\">«part»</text><text fill=\"#000000\" font-family=\"sans-serif\" font-size=\"12\" lengthAdjust=\"spacingAndGlyphs\" textLength=\"6\" x=\"88\" y=\"389.1074\">x</text><line style=\"stroke: #383838; stroke-width: 1.5;\" x1=\"71\" x2=\"111\" y1=\"396.9375\" y2=\"396.9375\"/></a><!--MD5=[ebbe1d658d1005bcc118a6aa81145e00]\n",
       "class E4--><a href=\"psysml:deb35dd4-2c3a-4fce-b73d-f2bc7012e274\" target=\"_top\" title=\"psysml:deb35dd4-2c3a-4fce-b73d-f2bc7012e274\" xlink:actuate=\"onRequest\" xlink:href=\"psysml:deb35dd4-2c3a-4fce-b73d-f2bc7012e274\" xlink:show=\"new\" xlink:title=\"psysml:deb35dd4-2c3a-4fce-b73d-f2bc7012e274\" xlink:type=\"simple\"><rect fill=\"#FFFFFF\" height=\"45.9375\" id=\"E4\" style=\"stroke: #383838; stroke-width: 1.5;\" width=\"66\" x=\"58\" y=\"41\"/><text fill=\"#000000\" font-family=\"sans-serif\" font-size=\"12\" font-style=\"italic\" lengthAdjust=\"spacingAndGlyphs\" textLength=\"64\" x=\"59\" y=\"57.1387\">«part def»</text><text fill=\"#000000\" font-family=\"sans-serif\" font-size=\"12\" lengthAdjust=\"spacingAndGlyphs\" textLength=\"8\" x=\"87\" y=\"71.1074\">P</text><line style=\"stroke: #383838; stroke-width: 1.5;\" x1=\"59\" x2=\"123\" y1=\"78.9375\" y2=\"78.9375\"/></a><!--MD5=[270fce915f116d4de14055a7c1d9a0f3]\n",
       "class E5--><a href=\"psysml:021693d6-d6d0-45d3-85e9-0e056c3c99ea\" target=\"_top\" title=\"psysml:021693d6-d6d0-45d3-85e9-0e056c3c99ea\" xlink:actuate=\"onRequest\" xlink:href=\"psysml:021693d6-d6d0-45d3-85e9-0e056c3c99ea\" xlink:show=\"new\" xlink:title=\"psysml:021693d6-d6d0-45d3-85e9-0e056c3c99ea\" xlink:type=\"simple\"><rect fill=\"#FFFFFF\" height=\"45.9375\" id=\"E5\" rx=\"10\" ry=\"10\" style=\"stroke: #383838; stroke-width: 1.5;\" width=\"42\" x=\"32\" y=\"147\"/><text fill=\"#000000\" font-family=\"sans-serif\" font-size=\"12\" font-style=\"italic\" lengthAdjust=\"spacingAndGlyphs\" textLength=\"40\" x=\"33\" y=\"163.1387\">«part»</text><text fill=\"#000000\" font-family=\"sans-serif\" font-size=\"12\" lengthAdjust=\"spacingAndGlyphs\" textLength=\"6\" x=\"50\" y=\"177.1074\">y</text><line style=\"stroke: #383838; stroke-width: 1.5;\" x1=\"33\" x2=\"73\" y1=\"184.9375\" y2=\"184.9375\"/></a><!--MD5=[60a26617385b1d2d0262a64233df1f8d]\n",
       "class E6--><a href=\"psysml:48ad0273-6ae0-4e72-b6eb-52596fa39c0f\" target=\"_top\" title=\"psysml:48ad0273-6ae0-4e72-b6eb-52596fa39c0f\" xlink:actuate=\"onRequest\" xlink:href=\"psysml:48ad0273-6ae0-4e72-b6eb-52596fa39c0f\" xlink:show=\"new\" xlink:title=\"psysml:48ad0273-6ae0-4e72-b6eb-52596fa39c0f\" xlink:type=\"simple\"><rect fill=\"#FFFFFF\" height=\"45.9375\" id=\"E6\" rx=\"10\" ry=\"10\" style=\"stroke: #383838; stroke-width: 1.5;\" width=\"42\" x=\"109\" y=\"147\"/><text fill=\"#000000\" font-family=\"sans-serif\" font-size=\"12\" font-style=\"italic\" lengthAdjust=\"spacingAndGlyphs\" textLength=\"40\" x=\"110\" y=\"163.1387\">«part»</text><text fill=\"#000000\" font-family=\"sans-serif\" font-size=\"12\" lengthAdjust=\"spacingAndGlyphs\" textLength=\"16\" x=\"122\" y=\"177.1074\">p1</text><line style=\"stroke: #383838; stroke-width: 1.5;\" x1=\"110\" x2=\"150\" y1=\"184.9375\" y2=\"184.9375\"/></a><!--MD5=[2156ba9850f5573cc1fc38a6a4b2f02b]\n",
       "class E7--><a href=\"psysml:3d476d3d-b46e-46da-94ef-54f71581d8bd\" target=\"_top\" title=\"psysml:3d476d3d-b46e-46da-94ef-54f71581d8bd\" xlink:actuate=\"onRequest\" xlink:href=\"psysml:3d476d3d-b46e-46da-94ef-54f71581d8bd\" xlink:show=\"new\" xlink:title=\"psysml:3d476d3d-b46e-46da-94ef-54f71581d8bd\" xlink:type=\"simple\"><rect fill=\"#FFFFFF\" height=\"45.9375\" id=\"E7\" rx=\"10\" ry=\"10\" style=\"stroke: #383838; stroke-width: 1.5;\" width=\"42\" x=\"109\" y=\"253\"/><text fill=\"#000000\" font-family=\"sans-serif\" font-size=\"12\" font-style=\"italic\" lengthAdjust=\"spacingAndGlyphs\" textLength=\"40\" x=\"110\" y=\"269.1387\">«part»</text><text fill=\"#000000\" font-family=\"sans-serif\" font-size=\"12\" lengthAdjust=\"spacingAndGlyphs\" textLength=\"6\" x=\"127\" y=\"283.1074\">x</text><line style=\"stroke: #383838; stroke-width: 1.5;\" x1=\"110\" x2=\"150\" y1=\"290.9375\" y2=\"290.9375\"/></a><!--MD5=[209b3feb70ccb6233bfe1053d122c12c]\n",
       "reverse link E2 to E3--><a href=\"psysml:03220e95-b237-4532-8361-eb1844ca39e9\" target=\"_top\" title=\"psysml:03220e95-b237-4532-8361-eb1844ca39e9\" xlink:actuate=\"onRequest\" xlink:href=\"psysml:03220e95-b237-4532-8361-eb1844ca39e9\" xlink:show=\"new\" xlink:title=\"psysml:03220e95-b237-4532-8361-eb1844ca39e9\" xlink:type=\"simple\"><path d=\"M65.6,311.49 C71.32,327.15 77.92,345.19 82.95,358.98 \" fill=\"none\" id=\"E2&lt;-E3\" style=\"stroke: #383838; stroke-width: 1.0;\"/><polygon fill=\"#383838\" points=\"61.06,299.06,59.3691,306.07,65.1895,310.3271,66.8804,303.317,61.06,299.06\" style=\"stroke: #383838; stroke-width: 1.0;\"/></a><!--MD5=[62aa6af11e70f752912c1cb0466f24f7]\n",
       "reverse link E4 to E5--><a href=\"psysml:021693d6-d6d0-45d3-85e9-0e056c3c99ea\" target=\"_top\" title=\"psysml:021693d6-d6d0-45d3-85e9-0e056c3c99ea\" xlink:actuate=\"onRequest\" xlink:href=\"psysml:021693d6-d6d0-45d3-85e9-0e056c3c99ea\" xlink:show=\"new\" xlink:title=\"psysml:021693d6-d6d0-45d3-85e9-0e056c3c99ea\" xlink:type=\"simple\"><path d=\"M78.4,99.49 C72.68,115.15 66.08,133.19 61.05,146.98 \" fill=\"none\" id=\"E4&lt;-E5\" style=\"stroke: #383838; stroke-width: 1.0;\"/><polygon fill=\"#383838\" points=\"82.94,87.06,77.1196,91.317,78.8105,98.3271,84.6309,94.07,82.94,87.06\" style=\"stroke: #383838; stroke-width: 1.0;\"/></a><!--MD5=[2351f337d6de0f557b50152ba70847b5]\n",
       "link E6 to E2--><a href=\"psysml:9890fb32-dc37-43db-abbc-6177a2056fad\" target=\"_top\" title=\"psysml:9890fb32-dc37-43db-abbc-6177a2056fad\" xlink:actuate=\"onRequest\" xlink:href=\"psysml:9890fb32-dc37-43db-abbc-6177a2056fad\" xlink:show=\"new\" xlink:title=\"psysml:9890fb32-dc37-43db-abbc-6177a2056fad\" xlink:type=\"simple\"><path d=\"M113.67,193.06 C104.28,205.74 92.22,222.03 81.32,236.74 \" fill=\"none\" id=\"E6-&gt;E2\" style=\"stroke: #383838; stroke-width: 1.0;\"/><polygon fill=\"none\" points=\"86.83,241.07,69.31,252.98,75.58,232.74,86.83,241.07\" style=\"stroke: #383838; stroke-width: 1.0;\"/></a><!--MD5=[6db378b65e1aef66a01cb3103812b399]\n",
       "reverse link E4 to E6--><a href=\"psysml:48ad0273-6ae0-4e72-b6eb-52596fa39c0f\" target=\"_top\" title=\"psysml:48ad0273-6ae0-4e72-b6eb-52596fa39c0f\" xlink:actuate=\"onRequest\" xlink:href=\"psysml:48ad0273-6ae0-4e72-b6eb-52596fa39c0f\" xlink:show=\"new\" xlink:title=\"psysml:48ad0273-6ae0-4e72-b6eb-52596fa39c0f\" xlink:type=\"simple\"><path d=\"M103.94,99.49 C109.8,115.15 116.57,133.19 121.74,146.98 \" fill=\"none\" id=\"E4&lt;-E6\" style=\"stroke: #383838; stroke-width: 1.0;\"/><polygon fill=\"#383838\" points=\"99.27,87.06,97.635,94.0833,103.4893,98.2938,105.1242,91.2705,99.27,87.06\" style=\"stroke: #383838; stroke-width: 1.0;\"/></a><!--MD5=[14ccda38c055a5c0da953d572bc50960]\n",
       "link E7 to E3--><a href=\"psysml:6e6cfa00-bc1f-4d19-92ba-1126ed543e13\" target=\"_top\" title=\"psysml:6e6cfa00-bc1f-4d19-92ba-1126ed543e13\" xlink:actuate=\"onRequest\" xlink:href=\"psysml:6e6cfa00-bc1f-4d19-92ba-1126ed543e13\" xlink:show=\"new\" xlink:title=\"psysml:6e6cfa00-bc1f-4d19-92ba-1126ed543e13\" xlink:type=\"simple\"><path d=\"M121.73,299.06 C117.28,310.91 111.65,325.92 106.43,339.85 \" fill=\"none\" id=\"E7-&gt;E3\" style=\"stroke: #383838; stroke-width: 1.0;\"/><polygon fill=\"#FFFFFF\" points=\"99.26,358.98,99.3821,338.7319,112.4895,343.6509,99.26,358.98\" style=\"stroke: #383838; stroke-width: 1.0;\"/><line style=\"stroke: #383838; stroke-width: 2.0;\" x1=\"100.7173\" x2=\"113.8247\" y1=\"335.1742\" y2=\"340.0932\"/></a><!--MD5=[3f50a3473f1dfb74d3f76443e03635af]\n",
       "reverse link E6 to E7--><a href=\"psysml:3d476d3d-b46e-46da-94ef-54f71581d8bd\" target=\"_top\" title=\"psysml:3d476d3d-b46e-46da-94ef-54f71581d8bd\" xlink:actuate=\"onRequest\" xlink:href=\"psysml:3d476d3d-b46e-46da-94ef-54f71581d8bd\" xlink:show=\"new\" xlink:title=\"psysml:3d476d3d-b46e-46da-94ef-54f71581d8bd\" xlink:type=\"simple\"><path d=\"M130,206.44 C130,221.87 130,239.47 130,252.98 \" fill=\"none\" id=\"E6&lt;-E7\" style=\"stroke: #383838; stroke-width: 1.0;\"/><polygon fill=\"#383838\" points=\"130,193.06,126,199.06,130,205.06,134,199.06,130,193.06\" style=\"stroke: #383838; stroke-width: 1.0;\"/></a><!--MD5=[a57f6131709ad2444f8d68ccc6b9e189]\n",
       "@startuml\r\n",
       "skinparam monochrome true\r\n",
       "skinparam classbackgroundcolor white\r\n",
       "skinparam shadowing false\r\n",
       "skinparam wrapWidth 300\r\n",
       "hide circle\r\n",
       "\r\n",
       "package \"ConnectionTest\" as E1  [[psysml:1fa0c0c0-6c41-491a-9601-36d7e4e40543 ]]  {\r\n",
       "comp usage \"p\" as E2  <<(T,blue)part>> [[psysml:5f85cf43-367b-49d0-8c6e-b9320e7aab66 ]] {\r\n",
       "}\r\n",
       "comp usage \"x\" as E3  <<(T,blue)part>> [[psysml:03220e95-b237-4532-8361-eb1844ca39e9 ]] {\r\n",
       "}\r\n",
       "comp def \"P\" as E4  <<(T,blue)part def>> [[psysml:deb35dd4-2c3a-4fce-b73d-f2bc7012e274 ]] {\r\n",
       "}\r\n",
       "comp usage \"y\" as E5  <<(T,blue)part>> [[psysml:021693d6-d6d0-45d3-85e9-0e056c3c99ea ]] {\r\n",
       "}\r\n",
       "comp usage \"p1\" as E6  <<(T,blue)part>> [[psysml:48ad0273-6ae0-4e72-b6eb-52596fa39c0f ]] {\r\n",
       "}\r\n",
       "comp usage \"x\" as E7  <<(T,blue)part>> [[psysml:3d476d3d-b46e-46da-94ef-54f71581d8bd ]] {\r\n",
       "}\r\n",
       "E2 *- - E3 [[psysml:03220e95-b237-4532-8361-eb1844ca39e9 ]] \r\n",
       "E4 *- - E5 [[psysml:021693d6-d6d0-45d3-85e9-0e056c3c99ea ]] \r\n",
       "E6 - -|> E2 [[psysml:9890fb32-dc37-43db-abbc-6177a2056fad ]] \r\n",
       "E4 *- - E6 [[psysml:48ad0273-6ae0-4e72-b6eb-52596fa39c0f ]] \r\n",
       "E7 - -||> E3 [[psysml:6e6cfa00-bc1f-4d19-92ba-1126ed543e13 ]] \r\n",
       "E6 *- - E7 [[psysml:3d476d3d-b46e-46da-94ef-54f71581d8bd ]] \r\n",
       "}\r\n",
       "@enduml\r\n",
       "\n",
       "PlantUML version 1.2020.13(Sat Jun 13 12:26:38 UTC 2020)\n",
       "(EPL source distribution)\n",
       "Java Runtime: OpenJDK Runtime Environment\n",
       "JVM: OpenJDK 64-Bit Server VM\n",
       "Default Encoding: UTF-8\n",
       "Language: en\n",
       "Country: null\n",
       "--></g></svg>"
      ]
     },
     "execution_count": 37,
     "metadata": {},
     "output_type": "execute_result"
    }
   ],
   "source": [
    "%viz --style=\"DEFAULT\" --view=\"Default\" \"ConnectionTest\""
   ]
  },
  {
   "cell_type": "code",
   "execution_count": 38,
   "id": "cheap-consistency",
   "metadata": {
    "execution": {
     "iopub.execute_input": "2021-03-25T13:50:06.273759Z",
     "iopub.status.busy": "2021-03-25T13:50:06.272980Z",
     "iopub.status.idle": "2021-03-25T13:50:06.343267Z",
     "shell.execute_reply": "2021-03-25T13:50:06.341639Z"
    }
   },
   "outputs": [
    {
     "data": {
      "image/svg+xml": [
       "<?xml version=\"1.0\" encoding=\"UTF-8\" standalone=\"no\"?><svg xmlns=\"http://www.w3.org/2000/svg\" xmlns:xlink=\"http://www.w3.org/1999/xlink\" contentScriptType=\"application/ecmascript\" contentStyleType=\"text/css\" height=\"433px\" preserveAspectRatio=\"none\" style=\"width:189px;height:433px;\" version=\"1.1\" viewBox=\"0 0 189 433\" width=\"189px\" zoomAndPan=\"magnify\"><defs/><g><!--MD5=[fbc87193dbaf4d95561dea2c320d4a47]\n",
       "cluster E1--><a href=\"psysml:1fa0c0c0-6c41-491a-9601-36d7e4e40543\" target=\"_top\" title=\"psysml:1fa0c0c0-6c41-491a-9601-36d7e4e40543\" xlink:actuate=\"onRequest\" xlink:href=\"psysml:1fa0c0c0-6c41-491a-9601-36d7e4e40543\" xlink:show=\"new\" xlink:title=\"psysml:1fa0c0c0-6c41-491a-9601-36d7e4e40543\" xlink:type=\"simple\"><polygon fill=\"#FFFFFF\" points=\"16,6,147,6,154,28.2969,167,28.2969,167,421,16,421,16,6\" style=\"stroke: #000000; stroke-width: 1.5;\"/><line style=\"stroke: #000000; stroke-width: 1.5;\" x1=\"16\" x2=\"154\" y1=\"28.2969\" y2=\"28.2969\"/><text fill=\"#000000\" font-family=\"sans-serif\" font-size=\"14\" font-weight=\"bold\" lengthAdjust=\"spacingAndGlyphs\" textLength=\"125\" x=\"20\" y=\"20.9951\">ConnectionTest</text></a><!--MD5=[b4997ac47864f28c2f74865a473b2911]\n",
       "class E2--><a href=\"psysml:5f85cf43-367b-49d0-8c6e-b9320e7aab66\" target=\"_top\" title=\"psysml:5f85cf43-367b-49d0-8c6e-b9320e7aab66\" xlink:actuate=\"onRequest\" xlink:href=\"psysml:5f85cf43-367b-49d0-8c6e-b9320e7aab66\" xlink:show=\"new\" xlink:title=\"psysml:5f85cf43-367b-49d0-8c6e-b9320e7aab66\" xlink:type=\"simple\"><rect fill=\"#FFFFFF\" height=\"45.9375\" id=\"E2\" rx=\"10\" ry=\"10\" style=\"stroke: #383838; stroke-width: 1.5;\" width=\"42\" x=\"32\" y=\"253\"/><text fill=\"#000000\" font-family=\"sans-serif\" font-size=\"12\" font-style=\"italic\" lengthAdjust=\"spacingAndGlyphs\" textLength=\"40\" x=\"33\" y=\"269.1387\">«part»</text><text fill=\"#000000\" font-family=\"sans-serif\" font-size=\"12\" lengthAdjust=\"spacingAndGlyphs\" textLength=\"8\" x=\"49\" y=\"283.1074\">p</text><line style=\"stroke: #383838; stroke-width: 1.5;\" x1=\"33\" x2=\"73\" y1=\"290.9375\" y2=\"290.9375\"/></a><!--MD5=[09b614a08d8cba4a07c9adeb5e0fee81]\n",
       "class E3--><a href=\"psysml:03220e95-b237-4532-8361-eb1844ca39e9\" target=\"_top\" title=\"psysml:03220e95-b237-4532-8361-eb1844ca39e9\" xlink:actuate=\"onRequest\" xlink:href=\"psysml:03220e95-b237-4532-8361-eb1844ca39e9\" xlink:show=\"new\" xlink:title=\"psysml:03220e95-b237-4532-8361-eb1844ca39e9\" xlink:type=\"simple\"><rect fill=\"#FFFFFF\" height=\"45.9375\" id=\"E3\" rx=\"10\" ry=\"10\" style=\"stroke: #383838; stroke-width: 1.5;\" width=\"42\" x=\"70\" y=\"359\"/><text fill=\"#000000\" font-family=\"sans-serif\" font-size=\"12\" font-style=\"italic\" lengthAdjust=\"spacingAndGlyphs\" textLength=\"40\" x=\"71\" y=\"375.1387\">«part»</text><text fill=\"#000000\" font-family=\"sans-serif\" font-size=\"12\" lengthAdjust=\"spacingAndGlyphs\" textLength=\"6\" x=\"88\" y=\"389.1074\">x</text><line style=\"stroke: #383838; stroke-width: 1.5;\" x1=\"71\" x2=\"111\" y1=\"396.9375\" y2=\"396.9375\"/></a><!--MD5=[ebbe1d658d1005bcc118a6aa81145e00]\n",
       "class E4--><a href=\"psysml:deb35dd4-2c3a-4fce-b73d-f2bc7012e274\" target=\"_top\" title=\"psysml:deb35dd4-2c3a-4fce-b73d-f2bc7012e274\" xlink:actuate=\"onRequest\" xlink:href=\"psysml:deb35dd4-2c3a-4fce-b73d-f2bc7012e274\" xlink:show=\"new\" xlink:title=\"psysml:deb35dd4-2c3a-4fce-b73d-f2bc7012e274\" xlink:type=\"simple\"><rect fill=\"#FFFFFF\" height=\"45.9375\" id=\"E4\" style=\"stroke: #383838; stroke-width: 1.5;\" width=\"66\" x=\"58\" y=\"41\"/><text fill=\"#000000\" font-family=\"sans-serif\" font-size=\"12\" font-style=\"italic\" lengthAdjust=\"spacingAndGlyphs\" textLength=\"64\" x=\"59\" y=\"57.1387\">«part def»</text><text fill=\"#000000\" font-family=\"sans-serif\" font-size=\"12\" lengthAdjust=\"spacingAndGlyphs\" textLength=\"8\" x=\"87\" y=\"71.1074\">P</text><line style=\"stroke: #383838; stroke-width: 1.5;\" x1=\"59\" x2=\"123\" y1=\"78.9375\" y2=\"78.9375\"/></a><!--MD5=[270fce915f116d4de14055a7c1d9a0f3]\n",
       "class E5--><a href=\"psysml:021693d6-d6d0-45d3-85e9-0e056c3c99ea\" target=\"_top\" title=\"psysml:021693d6-d6d0-45d3-85e9-0e056c3c99ea\" xlink:actuate=\"onRequest\" xlink:href=\"psysml:021693d6-d6d0-45d3-85e9-0e056c3c99ea\" xlink:show=\"new\" xlink:title=\"psysml:021693d6-d6d0-45d3-85e9-0e056c3c99ea\" xlink:type=\"simple\"><rect fill=\"#FFFFFF\" height=\"45.9375\" id=\"E5\" rx=\"10\" ry=\"10\" style=\"stroke: #383838; stroke-width: 1.5;\" width=\"42\" x=\"32\" y=\"147\"/><text fill=\"#000000\" font-family=\"sans-serif\" font-size=\"12\" font-style=\"italic\" lengthAdjust=\"spacingAndGlyphs\" textLength=\"40\" x=\"33\" y=\"163.1387\">«part»</text><text fill=\"#000000\" font-family=\"sans-serif\" font-size=\"12\" lengthAdjust=\"spacingAndGlyphs\" textLength=\"6\" x=\"50\" y=\"177.1074\">y</text><line style=\"stroke: #383838; stroke-width: 1.5;\" x1=\"33\" x2=\"73\" y1=\"184.9375\" y2=\"184.9375\"/></a><!--MD5=[60a26617385b1d2d0262a64233df1f8d]\n",
       "class E6--><a href=\"psysml:48ad0273-6ae0-4e72-b6eb-52596fa39c0f\" target=\"_top\" title=\"psysml:48ad0273-6ae0-4e72-b6eb-52596fa39c0f\" xlink:actuate=\"onRequest\" xlink:href=\"psysml:48ad0273-6ae0-4e72-b6eb-52596fa39c0f\" xlink:show=\"new\" xlink:title=\"psysml:48ad0273-6ae0-4e72-b6eb-52596fa39c0f\" xlink:type=\"simple\"><rect fill=\"#FFFFFF\" height=\"45.9375\" id=\"E6\" rx=\"10\" ry=\"10\" style=\"stroke: #383838; stroke-width: 1.5;\" width=\"42\" x=\"109\" y=\"147\"/><text fill=\"#000000\" font-family=\"sans-serif\" font-size=\"12\" font-style=\"italic\" lengthAdjust=\"spacingAndGlyphs\" textLength=\"40\" x=\"110\" y=\"163.1387\">«part»</text><text fill=\"#000000\" font-family=\"sans-serif\" font-size=\"12\" lengthAdjust=\"spacingAndGlyphs\" textLength=\"16\" x=\"122\" y=\"177.1074\">p1</text><line style=\"stroke: #383838; stroke-width: 1.5;\" x1=\"110\" x2=\"150\" y1=\"184.9375\" y2=\"184.9375\"/></a><!--MD5=[2156ba9850f5573cc1fc38a6a4b2f02b]\n",
       "class E7--><a href=\"psysml:3d476d3d-b46e-46da-94ef-54f71581d8bd\" target=\"_top\" title=\"psysml:3d476d3d-b46e-46da-94ef-54f71581d8bd\" xlink:actuate=\"onRequest\" xlink:href=\"psysml:3d476d3d-b46e-46da-94ef-54f71581d8bd\" xlink:show=\"new\" xlink:title=\"psysml:3d476d3d-b46e-46da-94ef-54f71581d8bd\" xlink:type=\"simple\"><rect fill=\"#FFFFFF\" height=\"45.9375\" id=\"E7\" rx=\"10\" ry=\"10\" style=\"stroke: #383838; stroke-width: 1.5;\" width=\"42\" x=\"109\" y=\"253\"/><text fill=\"#000000\" font-family=\"sans-serif\" font-size=\"12\" font-style=\"italic\" lengthAdjust=\"spacingAndGlyphs\" textLength=\"40\" x=\"110\" y=\"269.1387\">«part»</text><text fill=\"#000000\" font-family=\"sans-serif\" font-size=\"12\" lengthAdjust=\"spacingAndGlyphs\" textLength=\"6\" x=\"127\" y=\"283.1074\">x</text><line style=\"stroke: #383838; stroke-width: 1.5;\" x1=\"110\" x2=\"150\" y1=\"290.9375\" y2=\"290.9375\"/></a><!--MD5=[209b3feb70ccb6233bfe1053d122c12c]\n",
       "reverse link E2 to E3--><a href=\"psysml:03220e95-b237-4532-8361-eb1844ca39e9\" target=\"_top\" title=\"psysml:03220e95-b237-4532-8361-eb1844ca39e9\" xlink:actuate=\"onRequest\" xlink:href=\"psysml:03220e95-b237-4532-8361-eb1844ca39e9\" xlink:show=\"new\" xlink:title=\"psysml:03220e95-b237-4532-8361-eb1844ca39e9\" xlink:type=\"simple\"><path d=\"M65.6,311.49 C71.32,327.15 77.92,345.19 82.95,358.98 \" fill=\"none\" id=\"E2&lt;-E3\" style=\"stroke: #383838; stroke-width: 1.0;\"/><polygon fill=\"#383838\" points=\"61.06,299.06,59.3691,306.07,65.1895,310.3271,66.8804,303.317,61.06,299.06\" style=\"stroke: #383838; stroke-width: 1.0;\"/></a><!--MD5=[62aa6af11e70f752912c1cb0466f24f7]\n",
       "reverse link E4 to E5--><a href=\"psysml:021693d6-d6d0-45d3-85e9-0e056c3c99ea\" target=\"_top\" title=\"psysml:021693d6-d6d0-45d3-85e9-0e056c3c99ea\" xlink:actuate=\"onRequest\" xlink:href=\"psysml:021693d6-d6d0-45d3-85e9-0e056c3c99ea\" xlink:show=\"new\" xlink:title=\"psysml:021693d6-d6d0-45d3-85e9-0e056c3c99ea\" xlink:type=\"simple\"><path d=\"M78.4,99.49 C72.68,115.15 66.08,133.19 61.05,146.98 \" fill=\"none\" id=\"E4&lt;-E5\" style=\"stroke: #383838; stroke-width: 1.0;\"/><polygon fill=\"#383838\" points=\"82.94,87.06,77.1196,91.317,78.8105,98.3271,84.6309,94.07,82.94,87.06\" style=\"stroke: #383838; stroke-width: 1.0;\"/></a><!--MD5=[2351f337d6de0f557b50152ba70847b5]\n",
       "link E6 to E2--><a href=\"psysml:9890fb32-dc37-43db-abbc-6177a2056fad\" target=\"_top\" title=\"psysml:9890fb32-dc37-43db-abbc-6177a2056fad\" xlink:actuate=\"onRequest\" xlink:href=\"psysml:9890fb32-dc37-43db-abbc-6177a2056fad\" xlink:show=\"new\" xlink:title=\"psysml:9890fb32-dc37-43db-abbc-6177a2056fad\" xlink:type=\"simple\"><path d=\"M113.67,193.06 C104.28,205.74 92.22,222.03 81.32,236.74 \" fill=\"none\" id=\"E6-&gt;E2\" style=\"stroke: #383838; stroke-width: 1.0;\"/><polygon fill=\"none\" points=\"86.83,241.07,69.31,252.98,75.58,232.74,86.83,241.07\" style=\"stroke: #383838; stroke-width: 1.0;\"/></a><!--MD5=[6db378b65e1aef66a01cb3103812b399]\n",
       "reverse link E4 to E6--><a href=\"psysml:48ad0273-6ae0-4e72-b6eb-52596fa39c0f\" target=\"_top\" title=\"psysml:48ad0273-6ae0-4e72-b6eb-52596fa39c0f\" xlink:actuate=\"onRequest\" xlink:href=\"psysml:48ad0273-6ae0-4e72-b6eb-52596fa39c0f\" xlink:show=\"new\" xlink:title=\"psysml:48ad0273-6ae0-4e72-b6eb-52596fa39c0f\" xlink:type=\"simple\"><path d=\"M103.94,99.49 C109.8,115.15 116.57,133.19 121.74,146.98 \" fill=\"none\" id=\"E4&lt;-E6\" style=\"stroke: #383838; stroke-width: 1.0;\"/><polygon fill=\"#383838\" points=\"99.27,87.06,97.635,94.0833,103.4893,98.2938,105.1242,91.2705,99.27,87.06\" style=\"stroke: #383838; stroke-width: 1.0;\"/></a><!--MD5=[14ccda38c055a5c0da953d572bc50960]\n",
       "link E7 to E3--><a href=\"psysml:6e6cfa00-bc1f-4d19-92ba-1126ed543e13\" target=\"_top\" title=\"psysml:6e6cfa00-bc1f-4d19-92ba-1126ed543e13\" xlink:actuate=\"onRequest\" xlink:href=\"psysml:6e6cfa00-bc1f-4d19-92ba-1126ed543e13\" xlink:show=\"new\" xlink:title=\"psysml:6e6cfa00-bc1f-4d19-92ba-1126ed543e13\" xlink:type=\"simple\"><path d=\"M121.73,299.06 C117.28,310.91 111.65,325.92 106.43,339.85 \" fill=\"none\" id=\"E7-&gt;E3\" style=\"stroke: #383838; stroke-width: 1.0;\"/><polygon fill=\"#FFFFFF\" points=\"99.26,358.98,99.3821,338.7319,112.4895,343.6509,99.26,358.98\" style=\"stroke: #383838; stroke-width: 1.0;\"/><line style=\"stroke: #383838; stroke-width: 2.0;\" x1=\"100.7173\" x2=\"113.8247\" y1=\"335.1742\" y2=\"340.0932\"/></a><!--MD5=[3f50a3473f1dfb74d3f76443e03635af]\n",
       "reverse link E6 to E7--><a href=\"psysml:3d476d3d-b46e-46da-94ef-54f71581d8bd\" target=\"_top\" title=\"psysml:3d476d3d-b46e-46da-94ef-54f71581d8bd\" xlink:actuate=\"onRequest\" xlink:href=\"psysml:3d476d3d-b46e-46da-94ef-54f71581d8bd\" xlink:show=\"new\" xlink:title=\"psysml:3d476d3d-b46e-46da-94ef-54f71581d8bd\" xlink:type=\"simple\"><path d=\"M130,206.44 C130,221.87 130,239.47 130,252.98 \" fill=\"none\" id=\"E6&lt;-E7\" style=\"stroke: #383838; stroke-width: 1.0;\"/><polygon fill=\"#383838\" points=\"130,193.06,126,199.06,130,205.06,134,199.06,130,193.06\" style=\"stroke: #383838; stroke-width: 1.0;\"/></a><!--MD5=[a57f6131709ad2444f8d68ccc6b9e189]\n",
       "@startuml\r\n",
       "skinparam monochrome true\r\n",
       "skinparam classbackgroundcolor white\r\n",
       "skinparam shadowing false\r\n",
       "skinparam wrapWidth 300\r\n",
       "hide circle\r\n",
       "\r\n",
       "package \"ConnectionTest\" as E1  [[psysml:1fa0c0c0-6c41-491a-9601-36d7e4e40543 ]]  {\r\n",
       "comp usage \"p\" as E2  <<(T,blue)part>> [[psysml:5f85cf43-367b-49d0-8c6e-b9320e7aab66 ]] {\r\n",
       "}\r\n",
       "comp usage \"x\" as E3  <<(T,blue)part>> [[psysml:03220e95-b237-4532-8361-eb1844ca39e9 ]] {\r\n",
       "}\r\n",
       "comp def \"P\" as E4  <<(T,blue)part def>> [[psysml:deb35dd4-2c3a-4fce-b73d-f2bc7012e274 ]] {\r\n",
       "}\r\n",
       "comp usage \"y\" as E5  <<(T,blue)part>> [[psysml:021693d6-d6d0-45d3-85e9-0e056c3c99ea ]] {\r\n",
       "}\r\n",
       "comp usage \"p1\" as E6  <<(T,blue)part>> [[psysml:48ad0273-6ae0-4e72-b6eb-52596fa39c0f ]] {\r\n",
       "}\r\n",
       "comp usage \"x\" as E7  <<(T,blue)part>> [[psysml:3d476d3d-b46e-46da-94ef-54f71581d8bd ]] {\r\n",
       "}\r\n",
       "E2 *- - E3 [[psysml:03220e95-b237-4532-8361-eb1844ca39e9 ]] \r\n",
       "E4 *- - E5 [[psysml:021693d6-d6d0-45d3-85e9-0e056c3c99ea ]] \r\n",
       "E6 - -|> E2 [[psysml:9890fb32-dc37-43db-abbc-6177a2056fad ]] \r\n",
       "E4 *- - E6 [[psysml:48ad0273-6ae0-4e72-b6eb-52596fa39c0f ]] \r\n",
       "E7 - -||> E3 [[psysml:6e6cfa00-bc1f-4d19-92ba-1126ed543e13 ]] \r\n",
       "E6 *- - E7 [[psysml:3d476d3d-b46e-46da-94ef-54f71581d8bd ]] \r\n",
       "}\r\n",
       "@enduml\r\n",
       "\n",
       "PlantUML version 1.2020.13(Sat Jun 13 12:26:38 UTC 2020)\n",
       "(EPL source distribution)\n",
       "Java Runtime: OpenJDK Runtime Environment\n",
       "JVM: OpenJDK 64-Bit Server VM\n",
       "Default Encoding: UTF-8\n",
       "Language: en\n",
       "Country: null\n",
       "--></g></svg>"
      ]
     },
     "execution_count": 38,
     "metadata": {},
     "output_type": "execute_result"
    }
   ],
   "source": [
    "%viz --style=\"DEFAULT\" --view=\"Tree\" \"ConnectionTest\""
   ]
  },
  {
   "cell_type": "code",
   "execution_count": 39,
   "id": "expanded-giant",
   "metadata": {
    "execution": {
     "iopub.execute_input": "2021-03-25T13:50:06.393244Z",
     "iopub.status.busy": "2021-03-25T13:50:06.392586Z",
     "iopub.status.idle": "2021-03-25T13:50:06.399486Z",
     "shell.execute_reply": "2021-03-25T13:50:06.399881Z"
    }
   },
   "outputs": [
    {
     "data": {
      "image/svg+xml": [
       "<?xml version=\"1.0\" encoding=\"UTF-8\" standalone=\"no\"?><svg xmlns=\"http://www.w3.org/2000/svg\" xmlns:xlink=\"http://www.w3.org/1999/xlink\" contentScriptType=\"application/ecmascript\" contentStyleType=\"text/css\" height=\"12px\" preserveAspectRatio=\"none\" style=\"width:12px;height:12px;\" version=\"1.1\" viewBox=\"0 0 12 12\" width=\"12px\" zoomAndPan=\"magnify\"><defs/><g><!--MD5=[c5f280e076d0d61ccf4b0f27871bda1d]\n",
       "@startuml\r\n",
       "skinparam monochrome true\r\n",
       "skinparam classbackgroundcolor white\r\n",
       "skinparam shadowing false\r\n",
       "skinparam wrapWidth 300\r\n",
       "hide circle\r\n",
       "\r\n",
       "@enduml\r\n",
       "\n",
       "PlantUML version 1.2020.13(Sat Jun 13 12:26:38 UTC 2020)\n",
       "(EPL source distribution)\n",
       "Java Runtime: OpenJDK Runtime Environment\n",
       "JVM: OpenJDK 64-Bit Server VM\n",
       "Default Encoding: UTF-8\n",
       "Language: en\n",
       "Country: null\n",
       "--></g></svg>"
      ]
     },
     "execution_count": 39,
     "metadata": {},
     "output_type": "execute_result"
    }
   ],
   "source": [
    "%viz --style=\"DEFAULT\" --view=\"State\" \"ConnectionTest\""
   ]
  },
  {
   "cell_type": "code",
   "execution_count": 40,
   "id": "electric-bahamas",
   "metadata": {
    "execution": {
     "iopub.execute_input": "2021-03-25T13:50:06.450326Z",
     "iopub.status.busy": "2021-03-25T13:50:06.449845Z",
     "iopub.status.idle": "2021-03-25T13:50:06.530982Z",
     "shell.execute_reply": "2021-03-25T13:50:06.529540Z"
    }
   },
   "outputs": [
    {
     "data": {
      "image/svg+xml": [
       "<?xml version=\"1.0\" encoding=\"UTF-8\" standalone=\"no\"?><svg xmlns=\"http://www.w3.org/2000/svg\" xmlns:xlink=\"http://www.w3.org/1999/xlink\" contentScriptType=\"application/ecmascript\" contentStyleType=\"text/css\" height=\"324px\" preserveAspectRatio=\"none\" style=\"width:385px;height:324px;\" version=\"1.1\" viewBox=\"0 0 385 324\" width=\"385px\" zoomAndPan=\"magnify\"><defs/><g><!--MD5=[fbc87193dbaf4d95561dea2c320d4a47]\n",
       "cluster E1--><a href=\"psysml:1fa0c0c0-6c41-491a-9601-36d7e4e40543\" target=\"_top\" title=\"psysml:1fa0c0c0-6c41-491a-9601-36d7e4e40543\" xlink:actuate=\"onRequest\" xlink:href=\"psysml:1fa0c0c0-6c41-491a-9601-36d7e4e40543\" xlink:show=\"new\" xlink:title=\"psysml:1fa0c0c0-6c41-491a-9601-36d7e4e40543\" xlink:type=\"simple\"><polygon fill=\"#FFFFFF\" points=\"16,6,147,6,154,28.2969,363,28.2969,363,312.5,16,312.5,16,6\" style=\"stroke: #000000; stroke-width: 1.5;\"/><line style=\"stroke: #000000; stroke-width: 1.5;\" x1=\"16\" x2=\"154\" y1=\"28.2969\" y2=\"28.2969\"/><text fill=\"#000000\" font-family=\"sans-serif\" font-size=\"14\" font-weight=\"bold\" lengthAdjust=\"spacingAndGlyphs\" textLength=\"125\" x=\"20\" y=\"20.9951\">ConnectionTest</text></a><!--MD5=[e4f7fae6ed58524ba242bb0b0d3be6b7]\n",
       "cluster E2--><a href=\"psysml:5f85cf43-367b-49d0-8c6e-b9320e7aab66\" target=\"_top\" title=\"psysml:5f85cf43-367b-49d0-8c6e-b9320e7aab66\" xlink:actuate=\"onRequest\" xlink:href=\"psysml:5f85cf43-367b-49d0-8c6e-b9320e7aab66\" xlink:show=\"new\" xlink:title=\"psysml:5f85cf43-367b-49d0-8c6e-b9320e7aab66\" xlink:type=\"simple\"><rect fill=\"#FFFFFF\" height=\"107\" id=\"E2\" rx=\"10\" ry=\"10\" style=\"stroke: #383838; stroke-width: 1.5;\" width=\"117\" x=\"214\" y=\"164\"/><rect fill=\"#F8F8F8\" height=\"23.9688\" rx=\"10\" ry=\"10\" style=\"stroke: #F8F8F8; stroke-width: 1.5;\" width=\"117\" x=\"214\" y=\"164\"/><rect fill=\"#F8F8F8\" height=\"10\" style=\"stroke: #F8F8F8; stroke-width: 1.5;\" width=\"117\" x=\"214\" y=\"177.9688\"/><rect fill=\"none\" height=\"107\" id=\"E2\" rx=\"10\" ry=\"10\" style=\"stroke: #383838; stroke-width: 1.5;\" width=\"117\" x=\"214\" y=\"164\"/><text fill=\"#000000\" font-family=\"sans-serif\" font-size=\"12\" lengthAdjust=\"spacingAndGlyphs\" textLength=\"8\" x=\"268.5\" y=\"180.1387\">p</text><line style=\"stroke: #383838; stroke-width: 1.0;\" x1=\"214\" x2=\"331\" y1=\"187.9688\" y2=\"187.9688\"/></a><!--MD5=[f6df4d0ebaf0b5dfb2ced0ae5af7c670]\n",
       "cluster E4--><a href=\"psysml:deb35dd4-2c3a-4fce-b73d-f2bc7012e274\" target=\"_top\" title=\"psysml:deb35dd4-2c3a-4fce-b73d-f2bc7012e274\" xlink:actuate=\"onRequest\" xlink:href=\"psysml:deb35dd4-2c3a-4fce-b73d-f2bc7012e274\" xlink:show=\"new\" xlink:title=\"psysml:deb35dd4-2c3a-4fce-b73d-f2bc7012e274\" xlink:type=\"simple\"><rect fill=\"#FFFFFF\" height=\"239.5\" id=\"E4\" style=\"stroke: #383838; stroke-width: 1.5;\" width=\"142\" x=\"40\" y=\"49\"/><rect fill=\"#F8F8F8\" height=\"37.9375\" style=\"stroke: #383838; stroke-width: 1.5;\" width=\"142\" x=\"40\" y=\"49\"/><text fill=\"#000000\" font-family=\"sans-serif\" font-size=\"12\" font-style=\"italic\" lengthAdjust=\"spacingAndGlyphs\" textLength=\"64\" x=\"79\" y=\"65.1387\">«part def»</text><text fill=\"#000000\" font-family=\"sans-serif\" font-size=\"12\" lengthAdjust=\"spacingAndGlyphs\" textLength=\"8\" x=\"107\" y=\"79.1074\">P</text></a><!--MD5=[14e3b0961a2654348d326746436168a1]\n",
       "cluster E6--><a href=\"psysml:48ad0273-6ae0-4e72-b6eb-52596fa39c0f\" target=\"_top\" title=\"psysml:48ad0273-6ae0-4e72-b6eb-52596fa39c0f\" xlink:actuate=\"onRequest\" xlink:href=\"psysml:48ad0273-6ae0-4e72-b6eb-52596fa39c0f\" xlink:show=\"new\" xlink:title=\"psysml:48ad0273-6ae0-4e72-b6eb-52596fa39c0f\" xlink:type=\"simple\"><rect fill=\"#FFFFFF\" height=\"94\" id=\"E6\" rx=\"10\" ry=\"10\" style=\"stroke: #383838; stroke-width: 1.5;\" width=\"94\" x=\"64\" y=\"170.5\"/><rect fill=\"#F8F8F8\" height=\"23.9688\" rx=\"10\" ry=\"10\" style=\"stroke: #F8F8F8; stroke-width: 1.5;\" width=\"94\" x=\"64\" y=\"170.5\"/><rect fill=\"#F8F8F8\" height=\"10\" style=\"stroke: #F8F8F8; stroke-width: 1.5;\" width=\"94\" x=\"64\" y=\"184.4688\"/><rect fill=\"none\" height=\"94\" id=\"E6\" rx=\"10\" ry=\"10\" style=\"stroke: #383838; stroke-width: 1.5;\" width=\"94\" x=\"64\" y=\"170.5\"/><text fill=\"#000000\" font-family=\"sans-serif\" font-size=\"12\" lengthAdjust=\"spacingAndGlyphs\" textLength=\"16\" x=\"103\" y=\"186.6387\">p1</text><line style=\"stroke: #383838; stroke-width: 1.0;\" x1=\"64\" x2=\"158\" y1=\"194.4688\" y2=\"194.4688\"/></a><g id=\"E1.E2.E3\"><a href=\"psysml:03220e95-b237-4532-8361-eb1844ca39e9\" target=\"_top\" title=\"psysml:03220e95-b237-4532-8361-eb1844ca39e9\" xlink:actuate=\"onRequest\" xlink:href=\"psysml:03220e95-b237-4532-8361-eb1844ca39e9\" xlink:show=\"new\" xlink:title=\"psysml:03220e95-b237-4532-8361-eb1844ca39e9\" xlink:type=\"simple\"><rect fill=\"#FFFFFF\" height=\"40\" id=\"E3\" rx=\"10\" ry=\"10\" style=\"stroke: #383838; stroke-width: 1.5;\" width=\"50\" x=\"257\" y=\"207\"/><rect fill=\"#F8F8F8\" height=\"23.9688\" rx=\"10\" ry=\"10\" style=\"stroke: #F8F8F8; stroke-width: 1.5;\" width=\"50\" x=\"257\" y=\"207\"/><rect fill=\"#F8F8F8\" height=\"10\" style=\"stroke: #F8F8F8; stroke-width: 1.5;\" width=\"50\" x=\"257\" y=\"220.9688\"/><rect fill=\"none\" height=\"40\" id=\"E3\" rx=\"10\" ry=\"10\" style=\"stroke: #383838; stroke-width: 1.5;\" width=\"50\" x=\"257\" y=\"207\"/><text fill=\"#000000\" font-family=\"sans-serif\" font-size=\"12\" lengthAdjust=\"spacingAndGlyphs\" textLength=\"6\" x=\"279\" y=\"223.1387\">x</text></a></g><g id=\"E1.E4.E5\"><a href=\"psysml:021693d6-d6d0-45d3-85e9-0e056c3c99ea\" target=\"_top\" title=\"psysml:021693d6-d6d0-45d3-85e9-0e056c3c99ea\" xlink:actuate=\"onRequest\" xlink:href=\"psysml:021693d6-d6d0-45d3-85e9-0e056c3c99ea\" xlink:show=\"new\" xlink:title=\"psysml:021693d6-d6d0-45d3-85e9-0e056c3c99ea\" xlink:type=\"simple\"><rect fill=\"#FFFFFF\" height=\"40\" id=\"E5\" rx=\"10\" ry=\"10\" style=\"stroke: #383838; stroke-width: 1.5;\" width=\"50\" x=\"101\" y=\"100\"/><rect fill=\"#F8F8F8\" height=\"23.9688\" rx=\"10\" ry=\"10\" style=\"stroke: #F8F8F8; stroke-width: 1.5;\" width=\"50\" x=\"101\" y=\"100\"/><rect fill=\"#F8F8F8\" height=\"10\" style=\"stroke: #F8F8F8; stroke-width: 1.5;\" width=\"50\" x=\"101\" y=\"113.9688\"/><rect fill=\"none\" height=\"40\" id=\"E5\" rx=\"10\" ry=\"10\" style=\"stroke: #383838; stroke-width: 1.5;\" width=\"50\" x=\"101\" y=\"100\"/><text fill=\"#000000\" font-family=\"sans-serif\" font-size=\"12\" lengthAdjust=\"spacingAndGlyphs\" textLength=\"6\" x=\"123\" y=\"116.1387\">y</text></a></g><g id=\"E1.E4.E6.E7\"><a href=\"psysml:3d476d3d-b46e-46da-94ef-54f71581d8bd\" target=\"_top\" title=\"psysml:3d476d3d-b46e-46da-94ef-54f71581d8bd\" xlink:actuate=\"onRequest\" xlink:href=\"psysml:3d476d3d-b46e-46da-94ef-54f71581d8bd\" xlink:show=\"new\" xlink:title=\"psysml:3d476d3d-b46e-46da-94ef-54f71581d8bd\" xlink:type=\"simple\"><rect fill=\"#FFFFFF\" height=\"42.9375\" id=\"E7\" rx=\"10\" ry=\"10\" style=\"stroke: #383838; stroke-width: 1.5;\" width=\"61\" x=\"80.5\" y=\"205.5\"/><rect fill=\"#F8F8F8\" height=\"37.9375\" rx=\"10\" ry=\"10\" style=\"stroke: #F8F8F8; stroke-width: 1.5;\" width=\"61\" x=\"80.5\" y=\"205.5\"/><rect fill=\"#F8F8F8\" height=\"10\" style=\"stroke: #F8F8F8; stroke-width: 1.5;\" width=\"61\" x=\"80.5\" y=\"233.4375\"/><rect fill=\"none\" height=\"42.9375\" id=\"E7\" rx=\"10\" ry=\"10\" style=\"stroke: #383838; stroke-width: 1.5;\" width=\"61\" x=\"80.5\" y=\"205.5\"/><text fill=\"#000000\" font-family=\"sans-serif\" font-size=\"12\" lengthAdjust=\"spacingAndGlyphs\" textLength=\"6\" x=\"108\" y=\"221.6387\">x</text><text fill=\"#000000\" font-family=\"sans-serif\" font-size=\"12\" font-style=\"italic\" lengthAdjust=\"spacingAndGlyphs\" textLength=\"46\" x=\"86\" y=\"235.6074\">:&gt;&gt;p::x</text><text fill=\"#000000\" font-family=\"sans-serif\" font-size=\"12\" lengthAdjust=\"spacingAndGlyphs\" textLength=\"0\" x=\"136\" y=\"235.6074\"/></a></g><!--MD5=[15ebcb19ae302d9b601edb458606d402]\n",
       "link E5 to E2--><a href=\"psysml:a2e30144-7cbb-4348-81c9-870149c1f1e3\" target=\"_top\" title=\"psysml:a2e30144-7cbb-4348-81c9-870149c1f1e3\" xlink:actuate=\"onRequest\" xlink:href=\"psysml:a2e30144-7cbb-4348-81c9-870149c1f1e3\" xlink:show=\"new\" xlink:title=\"psysml:a2e30144-7cbb-4348-81c9-870149c1f1e3\" xlink:type=\"simple\"><path d=\"M149.86,140.29 C152.67,142.81 155.45,145.41 158,148 C173.255,163.465 188.7475,182.2475 200.6688,197.5063 C203.6491,201.3209 206.4062,204.9154 208.8806,208.1827 C210.1178,209.8164 211.2843,211.3683 212.3727,212.825 C212.9169,213.5534 213.4416,214.2579 213.9458,214.9371 \" fill=\"none\" id=\"E5-E2\" style=\"stroke: #383838; stroke-width: 3.0;\"/></a><!--MD5=[3a9b96bfbf6b6ad89c494e81751bda47]\n",
       "link E5 to E7--><a href=\"psysml:81751fd3-19d9-42b1-be5d-d1a292525231\" target=\"_top\" title=\"psysml:81751fd3-19d9-42b1-be5d-d1a292525231\" xlink:actuate=\"onRequest\" xlink:href=\"psysml:81751fd3-19d9-42b1-be5d-d1a292525231\" xlink:show=\"new\" xlink:title=\"psysml:81751fd3-19d9-42b1-be5d-d1a292525231\" xlink:type=\"simple\"><path d=\"M123.25,140.26 C120.61,158.73 116.64,186.53 113.94,205.43 \" fill=\"none\" id=\"E5-E7\" style=\"stroke: #383838; stroke-width: 3.0;\"/></a><!--MD5=[3057a91a84fe26beede58dad47a92697]\n",
       "@startuml\r\n",
       "skinparam ranksep 8\r\n",
       "skinparam rectangle {\r\n",
       " backgroundColor<<block>> LightGreen\r\n",
       "}\r\n",
       "skinparam monochrome true\r\n",
       "skinparam classbackgroundcolor white\r\n",
       "skinparam shadowing false\r\n",
       "skinparam wrapWidth 300\r\n",
       "hide circle\r\n",
       "\r\n",
       "package \"ConnectionTest\" as E1  [[psysml:1fa0c0c0-6c41-491a-9601-36d7e4e40543 ]]  {\r\n",
       "rec usage \"p\" as E2  [[psysml:5f85cf43-367b-49d0-8c6e-b9320e7aab66 ]] {\r\n",
       "rec usage \"x\" as E3  [[psysml:03220e95-b237-4532-8361-eb1844ca39e9 ]] {\r\n",
       "}\r\n",
       "}\r\n",
       "rec def \"P\" as E4  <<(T,blue)part def>> [[psysml:deb35dd4-2c3a-4fce-b73d-f2bc7012e274 ]] {\r\n",
       "rec usage \"y\" as E5  [[psysml:021693d6-d6d0-45d3-85e9-0e056c3c99ea ]] {\r\n",
       "}\r\n",
       "rec usage \"p1\" as E6  [[psysml:48ad0273-6ae0-4e72-b6eb-52596fa39c0f ]] {\r\n",
       "rec usage \"x\\n//:>>p::x// \" as E7  [[psysml:3d476d3d-b46e-46da-94ef-54f71581d8bd ]] {\r\n",
       "}\r\n",
       "}\r\n",
       "}\r\n",
       "E5 -[thickness=3]- E2 [[psysml:a2e30144-7cbb-4348-81c9-870149c1f1e3 ]] \r\n",
       "E5 -[thickness=3]- E7 [[psysml:81751fd3-19d9-42b1-be5d-d1a292525231 ]] \r\n",
       "}\r\n",
       "@enduml\r\n",
       "\n",
       "PlantUML version 1.2020.13(Sat Jun 13 12:26:38 UTC 2020)\n",
       "(EPL source distribution)\n",
       "Java Runtime: OpenJDK Runtime Environment\n",
       "JVM: OpenJDK 64-Bit Server VM\n",
       "Default Encoding: UTF-8\n",
       "Language: en\n",
       "Country: null\n",
       "--></g></svg>"
      ]
     },
     "execution_count": 40,
     "metadata": {},
     "output_type": "execute_result"
    }
   ],
   "source": [
    "%viz --style=\"DEFAULT\" --view=\"Interconnection\" \"ConnectionTest\""
   ]
  },
  {
   "cell_type": "code",
   "execution_count": 41,
   "id": "lyric-idaho",
   "metadata": {
    "execution": {
     "iopub.execute_input": "2021-03-25T13:50:06.582219Z",
     "iopub.status.busy": "2021-03-25T13:50:06.581651Z",
     "iopub.status.idle": "2021-03-25T13:50:06.590481Z",
     "shell.execute_reply": "2021-03-25T13:50:06.590037Z"
    }
   },
   "outputs": [
    {
     "data": {
      "image/svg+xml": [
       "<?xml version=\"1.0\" encoding=\"UTF-8\" standalone=\"no\"?><svg xmlns=\"http://www.w3.org/2000/svg\" xmlns:xlink=\"http://www.w3.org/1999/xlink\" contentScriptType=\"application/ecmascript\" contentStyleType=\"text/css\" height=\"12px\" preserveAspectRatio=\"none\" style=\"width:12px;height:12px;\" version=\"1.1\" viewBox=\"0 0 12 12\" width=\"12px\" zoomAndPan=\"magnify\"><defs/><g><!--MD5=[388f21188e31bfdd97050473b19af356]\n",
       "@startuml\r\n",
       "skinparam ranksep 8\r\n",
       "skinparam monochrome true\r\n",
       "skinparam classbackgroundcolor white\r\n",
       "skinparam shadowing false\r\n",
       "skinparam wrapWidth 300\r\n",
       "hide circle\r\n",
       "\r\n",
       "@enduml\r\n",
       "\n",
       "PlantUML version 1.2020.13(Sat Jun 13 12:26:38 UTC 2020)\n",
       "(EPL source distribution)\n",
       "Java Runtime: OpenJDK Runtime Environment\n",
       "JVM: OpenJDK 64-Bit Server VM\n",
       "Default Encoding: UTF-8\n",
       "Language: en\n",
       "Country: null\n",
       "--></g></svg>"
      ]
     },
     "execution_count": 41,
     "metadata": {},
     "output_type": "execute_result"
    }
   ],
   "source": [
    "%viz --style=\"DEFAULT\" --view=\"Action\" \"ConnectionTest\""
   ]
  },
  {
   "cell_type": "code",
   "execution_count": 42,
   "id": "attended-hanging",
   "metadata": {
    "execution": {
     "iopub.execute_input": "2021-03-25T13:50:06.642125Z",
     "iopub.status.busy": "2021-03-25T13:50:06.641546Z",
     "iopub.status.idle": "2021-03-25T13:50:06.710770Z",
     "shell.execute_reply": "2021-03-25T13:50:06.708699Z"
    }
   },
   "outputs": [
    {
     "data": {
      "image/svg+xml": [
       "<?xml version=\"1.0\" encoding=\"UTF-8\" standalone=\"no\"?><svg xmlns=\"http://www.w3.org/2000/svg\" xmlns:xlink=\"http://www.w3.org/1999/xlink\" contentScriptType=\"application/ecmascript\" contentStyleType=\"text/css\" height=\"433px\" preserveAspectRatio=\"none\" style=\"width:189px;height:433px;\" version=\"1.1\" viewBox=\"0 0 189 433\" width=\"189px\" zoomAndPan=\"magnify\"><defs/><g><!--MD5=[fbc87193dbaf4d95561dea2c320d4a47]\n",
       "cluster E1--><a href=\"psysml:1fa0c0c0-6c41-491a-9601-36d7e4e40543\" target=\"_top\" title=\"psysml:1fa0c0c0-6c41-491a-9601-36d7e4e40543\" xlink:actuate=\"onRequest\" xlink:href=\"psysml:1fa0c0c0-6c41-491a-9601-36d7e4e40543\" xlink:show=\"new\" xlink:title=\"psysml:1fa0c0c0-6c41-491a-9601-36d7e4e40543\" xlink:type=\"simple\"><polygon fill=\"#FFFFFF\" points=\"16,6,147,6,154,28.2969,167,28.2969,167,421,16,421,16,6\" style=\"stroke: #000000; stroke-width: 1.5;\"/><line style=\"stroke: #000000; stroke-width: 1.5;\" x1=\"16\" x2=\"154\" y1=\"28.2969\" y2=\"28.2969\"/><text fill=\"#000000\" font-family=\"sans-serif\" font-size=\"14\" font-weight=\"bold\" lengthAdjust=\"spacingAndGlyphs\" textLength=\"125\" x=\"20\" y=\"20.9951\">ConnectionTest</text></a><!--MD5=[b4997ac47864f28c2f74865a473b2911]\n",
       "class E2--><a href=\"psysml:5f85cf43-367b-49d0-8c6e-b9320e7aab66\" target=\"_top\" title=\"psysml:5f85cf43-367b-49d0-8c6e-b9320e7aab66\" xlink:actuate=\"onRequest\" xlink:href=\"psysml:5f85cf43-367b-49d0-8c6e-b9320e7aab66\" xlink:show=\"new\" xlink:title=\"psysml:5f85cf43-367b-49d0-8c6e-b9320e7aab66\" xlink:type=\"simple\"><rect fill=\"#FFFFFF\" height=\"45.9375\" id=\"E2\" rx=\"10\" ry=\"10\" style=\"stroke: #383838; stroke-width: 1.5;\" width=\"42\" x=\"32\" y=\"253\"/><text fill=\"#000000\" font-family=\"sans-serif\" font-size=\"12\" font-style=\"italic\" lengthAdjust=\"spacingAndGlyphs\" textLength=\"40\" x=\"33\" y=\"269.1387\">«part»</text><text fill=\"#000000\" font-family=\"sans-serif\" font-size=\"12\" lengthAdjust=\"spacingAndGlyphs\" textLength=\"8\" x=\"49\" y=\"283.1074\">p</text><line style=\"stroke: #383838; stroke-width: 1.5;\" x1=\"33\" x2=\"73\" y1=\"290.9375\" y2=\"290.9375\"/></a><!--MD5=[09b614a08d8cba4a07c9adeb5e0fee81]\n",
       "class E3--><a href=\"psysml:03220e95-b237-4532-8361-eb1844ca39e9\" target=\"_top\" title=\"psysml:03220e95-b237-4532-8361-eb1844ca39e9\" xlink:actuate=\"onRequest\" xlink:href=\"psysml:03220e95-b237-4532-8361-eb1844ca39e9\" xlink:show=\"new\" xlink:title=\"psysml:03220e95-b237-4532-8361-eb1844ca39e9\" xlink:type=\"simple\"><rect fill=\"#FFFFFF\" height=\"45.9375\" id=\"E3\" rx=\"10\" ry=\"10\" style=\"stroke: #383838; stroke-width: 1.5;\" width=\"42\" x=\"70\" y=\"359\"/><text fill=\"#000000\" font-family=\"sans-serif\" font-size=\"12\" font-style=\"italic\" lengthAdjust=\"spacingAndGlyphs\" textLength=\"40\" x=\"71\" y=\"375.1387\">«part»</text><text fill=\"#000000\" font-family=\"sans-serif\" font-size=\"12\" lengthAdjust=\"spacingAndGlyphs\" textLength=\"6\" x=\"88\" y=\"389.1074\">x</text><line style=\"stroke: #383838; stroke-width: 1.5;\" x1=\"71\" x2=\"111\" y1=\"396.9375\" y2=\"396.9375\"/></a><!--MD5=[ebbe1d658d1005bcc118a6aa81145e00]\n",
       "class E4--><a href=\"psysml:deb35dd4-2c3a-4fce-b73d-f2bc7012e274\" target=\"_top\" title=\"psysml:deb35dd4-2c3a-4fce-b73d-f2bc7012e274\" xlink:actuate=\"onRequest\" xlink:href=\"psysml:deb35dd4-2c3a-4fce-b73d-f2bc7012e274\" xlink:show=\"new\" xlink:title=\"psysml:deb35dd4-2c3a-4fce-b73d-f2bc7012e274\" xlink:type=\"simple\"><rect fill=\"#FFFFFF\" height=\"45.9375\" id=\"E4\" style=\"stroke: #383838; stroke-width: 1.5;\" width=\"66\" x=\"58\" y=\"41\"/><text fill=\"#000000\" font-family=\"sans-serif\" font-size=\"12\" font-style=\"italic\" lengthAdjust=\"spacingAndGlyphs\" textLength=\"64\" x=\"59\" y=\"57.1387\">«part def»</text><text fill=\"#000000\" font-family=\"sans-serif\" font-size=\"12\" lengthAdjust=\"spacingAndGlyphs\" textLength=\"8\" x=\"87\" y=\"71.1074\">P</text><line style=\"stroke: #383838; stroke-width: 1.5;\" x1=\"59\" x2=\"123\" y1=\"78.9375\" y2=\"78.9375\"/></a><!--MD5=[270fce915f116d4de14055a7c1d9a0f3]\n",
       "class E5--><a href=\"psysml:021693d6-d6d0-45d3-85e9-0e056c3c99ea\" target=\"_top\" title=\"psysml:021693d6-d6d0-45d3-85e9-0e056c3c99ea\" xlink:actuate=\"onRequest\" xlink:href=\"psysml:021693d6-d6d0-45d3-85e9-0e056c3c99ea\" xlink:show=\"new\" xlink:title=\"psysml:021693d6-d6d0-45d3-85e9-0e056c3c99ea\" xlink:type=\"simple\"><rect fill=\"#FFFFFF\" height=\"45.9375\" id=\"E5\" rx=\"10\" ry=\"10\" style=\"stroke: #383838; stroke-width: 1.5;\" width=\"42\" x=\"32\" y=\"147\"/><text fill=\"#000000\" font-family=\"sans-serif\" font-size=\"12\" font-style=\"italic\" lengthAdjust=\"spacingAndGlyphs\" textLength=\"40\" x=\"33\" y=\"163.1387\">«part»</text><text fill=\"#000000\" font-family=\"sans-serif\" font-size=\"12\" lengthAdjust=\"spacingAndGlyphs\" textLength=\"6\" x=\"50\" y=\"177.1074\">y</text><line style=\"stroke: #383838; stroke-width: 1.5;\" x1=\"33\" x2=\"73\" y1=\"184.9375\" y2=\"184.9375\"/></a><!--MD5=[60a26617385b1d2d0262a64233df1f8d]\n",
       "class E6--><a href=\"psysml:48ad0273-6ae0-4e72-b6eb-52596fa39c0f\" target=\"_top\" title=\"psysml:48ad0273-6ae0-4e72-b6eb-52596fa39c0f\" xlink:actuate=\"onRequest\" xlink:href=\"psysml:48ad0273-6ae0-4e72-b6eb-52596fa39c0f\" xlink:show=\"new\" xlink:title=\"psysml:48ad0273-6ae0-4e72-b6eb-52596fa39c0f\" xlink:type=\"simple\"><rect fill=\"#FFFFFF\" height=\"45.9375\" id=\"E6\" rx=\"10\" ry=\"10\" style=\"stroke: #383838; stroke-width: 1.5;\" width=\"42\" x=\"109\" y=\"147\"/><text fill=\"#000000\" font-family=\"sans-serif\" font-size=\"12\" font-style=\"italic\" lengthAdjust=\"spacingAndGlyphs\" textLength=\"40\" x=\"110\" y=\"163.1387\">«part»</text><text fill=\"#000000\" font-family=\"sans-serif\" font-size=\"12\" lengthAdjust=\"spacingAndGlyphs\" textLength=\"16\" x=\"122\" y=\"177.1074\">p1</text><line style=\"stroke: #383838; stroke-width: 1.5;\" x1=\"110\" x2=\"150\" y1=\"184.9375\" y2=\"184.9375\"/></a><!--MD5=[2156ba9850f5573cc1fc38a6a4b2f02b]\n",
       "class E7--><a href=\"psysml:3d476d3d-b46e-46da-94ef-54f71581d8bd\" target=\"_top\" title=\"psysml:3d476d3d-b46e-46da-94ef-54f71581d8bd\" xlink:actuate=\"onRequest\" xlink:href=\"psysml:3d476d3d-b46e-46da-94ef-54f71581d8bd\" xlink:show=\"new\" xlink:title=\"psysml:3d476d3d-b46e-46da-94ef-54f71581d8bd\" xlink:type=\"simple\"><rect fill=\"#FFFFFF\" height=\"45.9375\" id=\"E7\" rx=\"10\" ry=\"10\" style=\"stroke: #383838; stroke-width: 1.5;\" width=\"42\" x=\"109\" y=\"253\"/><text fill=\"#000000\" font-family=\"sans-serif\" font-size=\"12\" font-style=\"italic\" lengthAdjust=\"spacingAndGlyphs\" textLength=\"40\" x=\"110\" y=\"269.1387\">«part»</text><text fill=\"#000000\" font-family=\"sans-serif\" font-size=\"12\" lengthAdjust=\"spacingAndGlyphs\" textLength=\"6\" x=\"127\" y=\"283.1074\">x</text><line style=\"stroke: #383838; stroke-width: 1.5;\" x1=\"110\" x2=\"150\" y1=\"290.9375\" y2=\"290.9375\"/></a><!--MD5=[209b3feb70ccb6233bfe1053d122c12c]\n",
       "reverse link E2 to E3--><a href=\"psysml:03220e95-b237-4532-8361-eb1844ca39e9\" target=\"_top\" title=\"psysml:03220e95-b237-4532-8361-eb1844ca39e9\" xlink:actuate=\"onRequest\" xlink:href=\"psysml:03220e95-b237-4532-8361-eb1844ca39e9\" xlink:show=\"new\" xlink:title=\"psysml:03220e95-b237-4532-8361-eb1844ca39e9\" xlink:type=\"simple\"><path d=\"M65.6,311.49 C71.32,327.15 77.92,345.19 82.95,358.98 \" fill=\"none\" id=\"E2&lt;-E3\" style=\"stroke: #383838; stroke-width: 1.0;\"/><polygon fill=\"#383838\" points=\"61.06,299.06,59.3691,306.07,65.1895,310.3271,66.8804,303.317,61.06,299.06\" style=\"stroke: #383838; stroke-width: 1.0;\"/></a><!--MD5=[62aa6af11e70f752912c1cb0466f24f7]\n",
       "reverse link E4 to E5--><a href=\"psysml:021693d6-d6d0-45d3-85e9-0e056c3c99ea\" target=\"_top\" title=\"psysml:021693d6-d6d0-45d3-85e9-0e056c3c99ea\" xlink:actuate=\"onRequest\" xlink:href=\"psysml:021693d6-d6d0-45d3-85e9-0e056c3c99ea\" xlink:show=\"new\" xlink:title=\"psysml:021693d6-d6d0-45d3-85e9-0e056c3c99ea\" xlink:type=\"simple\"><path d=\"M78.4,99.49 C72.68,115.15 66.08,133.19 61.05,146.98 \" fill=\"none\" id=\"E4&lt;-E5\" style=\"stroke: #383838; stroke-width: 1.0;\"/><polygon fill=\"#383838\" points=\"82.94,87.06,77.1196,91.317,78.8105,98.3271,84.6309,94.07,82.94,87.06\" style=\"stroke: #383838; stroke-width: 1.0;\"/></a><!--MD5=[2351f337d6de0f557b50152ba70847b5]\n",
       "link E6 to E2--><a href=\"psysml:9890fb32-dc37-43db-abbc-6177a2056fad\" target=\"_top\" title=\"psysml:9890fb32-dc37-43db-abbc-6177a2056fad\" xlink:actuate=\"onRequest\" xlink:href=\"psysml:9890fb32-dc37-43db-abbc-6177a2056fad\" xlink:show=\"new\" xlink:title=\"psysml:9890fb32-dc37-43db-abbc-6177a2056fad\" xlink:type=\"simple\"><path d=\"M113.67,193.06 C104.28,205.74 92.22,222.03 81.32,236.74 \" fill=\"none\" id=\"E6-&gt;E2\" style=\"stroke: #383838; stroke-width: 1.0;\"/><polygon fill=\"none\" points=\"86.83,241.07,69.31,252.98,75.58,232.74,86.83,241.07\" style=\"stroke: #383838; stroke-width: 1.0;\"/></a><!--MD5=[6db378b65e1aef66a01cb3103812b399]\n",
       "reverse link E4 to E6--><a href=\"psysml:48ad0273-6ae0-4e72-b6eb-52596fa39c0f\" target=\"_top\" title=\"psysml:48ad0273-6ae0-4e72-b6eb-52596fa39c0f\" xlink:actuate=\"onRequest\" xlink:href=\"psysml:48ad0273-6ae0-4e72-b6eb-52596fa39c0f\" xlink:show=\"new\" xlink:title=\"psysml:48ad0273-6ae0-4e72-b6eb-52596fa39c0f\" xlink:type=\"simple\"><path d=\"M103.94,99.49 C109.8,115.15 116.57,133.19 121.74,146.98 \" fill=\"none\" id=\"E4&lt;-E6\" style=\"stroke: #383838; stroke-width: 1.0;\"/><polygon fill=\"#383838\" points=\"99.27,87.06,97.635,94.0833,103.4893,98.2938,105.1242,91.2705,99.27,87.06\" style=\"stroke: #383838; stroke-width: 1.0;\"/></a><!--MD5=[14ccda38c055a5c0da953d572bc50960]\n",
       "link E7 to E3--><a href=\"psysml:6e6cfa00-bc1f-4d19-92ba-1126ed543e13\" target=\"_top\" title=\"psysml:6e6cfa00-bc1f-4d19-92ba-1126ed543e13\" xlink:actuate=\"onRequest\" xlink:href=\"psysml:6e6cfa00-bc1f-4d19-92ba-1126ed543e13\" xlink:show=\"new\" xlink:title=\"psysml:6e6cfa00-bc1f-4d19-92ba-1126ed543e13\" xlink:type=\"simple\"><path d=\"M121.73,299.06 C117.28,310.91 111.65,325.92 106.43,339.85 \" fill=\"none\" id=\"E7-&gt;E3\" style=\"stroke: #383838; stroke-width: 1.0;\"/><polygon fill=\"#FFFFFF\" points=\"99.26,358.98,99.3821,338.7319,112.4895,343.6509,99.26,358.98\" style=\"stroke: #383838; stroke-width: 1.0;\"/><line style=\"stroke: #383838; stroke-width: 2.0;\" x1=\"100.7173\" x2=\"113.8247\" y1=\"335.1742\" y2=\"340.0932\"/></a><!--MD5=[3f50a3473f1dfb74d3f76443e03635af]\n",
       "reverse link E6 to E7--><a href=\"psysml:3d476d3d-b46e-46da-94ef-54f71581d8bd\" target=\"_top\" title=\"psysml:3d476d3d-b46e-46da-94ef-54f71581d8bd\" xlink:actuate=\"onRequest\" xlink:href=\"psysml:3d476d3d-b46e-46da-94ef-54f71581d8bd\" xlink:show=\"new\" xlink:title=\"psysml:3d476d3d-b46e-46da-94ef-54f71581d8bd\" xlink:type=\"simple\"><path d=\"M130,206.44 C130,221.87 130,239.47 130,252.98 \" fill=\"none\" id=\"E6&lt;-E7\" style=\"stroke: #383838; stroke-width: 1.0;\"/><polygon fill=\"#383838\" points=\"130,193.06,126,199.06,130,205.06,134,199.06,130,193.06\" style=\"stroke: #383838; stroke-width: 1.0;\"/></a><!--MD5=[a57f6131709ad2444f8d68ccc6b9e189]\n",
       "@startuml\r\n",
       "skinparam monochrome true\r\n",
       "skinparam classbackgroundcolor white\r\n",
       "skinparam shadowing false\r\n",
       "skinparam wrapWidth 300\r\n",
       "hide circle\r\n",
       "\r\n",
       "package \"ConnectionTest\" as E1  [[psysml:1fa0c0c0-6c41-491a-9601-36d7e4e40543 ]]  {\r\n",
       "comp usage \"p\" as E2  <<(T,blue)part>> [[psysml:5f85cf43-367b-49d0-8c6e-b9320e7aab66 ]] {\r\n",
       "}\r\n",
       "comp usage \"x\" as E3  <<(T,blue)part>> [[psysml:03220e95-b237-4532-8361-eb1844ca39e9 ]] {\r\n",
       "}\r\n",
       "comp def \"P\" as E4  <<(T,blue)part def>> [[psysml:deb35dd4-2c3a-4fce-b73d-f2bc7012e274 ]] {\r\n",
       "}\r\n",
       "comp usage \"y\" as E5  <<(T,blue)part>> [[psysml:021693d6-d6d0-45d3-85e9-0e056c3c99ea ]] {\r\n",
       "}\r\n",
       "comp usage \"p1\" as E6  <<(T,blue)part>> [[psysml:48ad0273-6ae0-4e72-b6eb-52596fa39c0f ]] {\r\n",
       "}\r\n",
       "comp usage \"x\" as E7  <<(T,blue)part>> [[psysml:3d476d3d-b46e-46da-94ef-54f71581d8bd ]] {\r\n",
       "}\r\n",
       "E2 *- - E3 [[psysml:03220e95-b237-4532-8361-eb1844ca39e9 ]] \r\n",
       "E4 *- - E5 [[psysml:021693d6-d6d0-45d3-85e9-0e056c3c99ea ]] \r\n",
       "E6 - -|> E2 [[psysml:9890fb32-dc37-43db-abbc-6177a2056fad ]] \r\n",
       "E4 *- - E6 [[psysml:48ad0273-6ae0-4e72-b6eb-52596fa39c0f ]] \r\n",
       "E7 - -||> E3 [[psysml:6e6cfa00-bc1f-4d19-92ba-1126ed543e13 ]] \r\n",
       "E6 *- - E7 [[psysml:3d476d3d-b46e-46da-94ef-54f71581d8bd ]] \r\n",
       "}\r\n",
       "@enduml\r\n",
       "\n",
       "PlantUML version 1.2020.13(Sat Jun 13 12:26:38 UTC 2020)\n",
       "(EPL source distribution)\n",
       "Java Runtime: OpenJDK Runtime Environment\n",
       "JVM: OpenJDK 64-Bit Server VM\n",
       "Default Encoding: UTF-8\n",
       "Language: en\n",
       "Country: null\n",
       "--></g></svg>"
      ]
     },
     "execution_count": 42,
     "metadata": {},
     "output_type": "execute_result"
    }
   ],
   "source": [
    "%viz --style=\"DEFAULT\" --view=\"Sequence\" \"ConnectionTest\""
   ]
  },
  {
   "cell_type": "code",
   "execution_count": 43,
   "id": "naughty-private",
   "metadata": {
    "execution": {
     "iopub.execute_input": "2021-03-25T13:50:06.759801Z",
     "iopub.status.busy": "2021-03-25T13:50:06.759244Z",
     "iopub.status.idle": "2021-03-25T13:50:06.827363Z",
     "shell.execute_reply": "2021-03-25T13:50:06.825617Z"
    }
   },
   "outputs": [
    {
     "data": {
      "image/svg+xml": [
       "<?xml version=\"1.0\" encoding=\"UTF-8\" standalone=\"no\"?><svg xmlns=\"http://www.w3.org/2000/svg\" xmlns:xlink=\"http://www.w3.org/1999/xlink\" contentScriptType=\"application/ecmascript\" contentStyleType=\"text/css\" height=\"433px\" preserveAspectRatio=\"none\" style=\"width:189px;height:433px;\" version=\"1.1\" viewBox=\"0 0 189 433\" width=\"189px\" zoomAndPan=\"magnify\"><defs/><g><!--MD5=[fbc87193dbaf4d95561dea2c320d4a47]\n",
       "cluster E1--><a href=\"psysml:1fa0c0c0-6c41-491a-9601-36d7e4e40543\" target=\"_top\" title=\"psysml:1fa0c0c0-6c41-491a-9601-36d7e4e40543\" xlink:actuate=\"onRequest\" xlink:href=\"psysml:1fa0c0c0-6c41-491a-9601-36d7e4e40543\" xlink:show=\"new\" xlink:title=\"psysml:1fa0c0c0-6c41-491a-9601-36d7e4e40543\" xlink:type=\"simple\"><polygon fill=\"#FFFFFF\" points=\"16,6,147,6,154,28.2969,167,28.2969,167,421,16,421,16,6\" style=\"stroke: #000000; stroke-width: 1.5;\"/><line style=\"stroke: #000000; stroke-width: 1.5;\" x1=\"16\" x2=\"154\" y1=\"28.2969\" y2=\"28.2969\"/><text fill=\"#000000\" font-family=\"sans-serif\" font-size=\"14\" font-weight=\"bold\" lengthAdjust=\"spacingAndGlyphs\" textLength=\"125\" x=\"20\" y=\"20.9951\">ConnectionTest</text></a><!--MD5=[b4997ac47864f28c2f74865a473b2911]\n",
       "class E2--><a href=\"psysml:5f85cf43-367b-49d0-8c6e-b9320e7aab66\" target=\"_top\" title=\"psysml:5f85cf43-367b-49d0-8c6e-b9320e7aab66\" xlink:actuate=\"onRequest\" xlink:href=\"psysml:5f85cf43-367b-49d0-8c6e-b9320e7aab66\" xlink:show=\"new\" xlink:title=\"psysml:5f85cf43-367b-49d0-8c6e-b9320e7aab66\" xlink:type=\"simple\"><rect fill=\"#FFFFFF\" height=\"45.9375\" id=\"E2\" rx=\"10\" ry=\"10\" style=\"stroke: #383838; stroke-width: 1.5;\" width=\"42\" x=\"32\" y=\"253\"/><text fill=\"#000000\" font-family=\"sans-serif\" font-size=\"12\" font-style=\"italic\" lengthAdjust=\"spacingAndGlyphs\" textLength=\"40\" x=\"33\" y=\"269.1387\">«part»</text><text fill=\"#000000\" font-family=\"sans-serif\" font-size=\"12\" lengthAdjust=\"spacingAndGlyphs\" textLength=\"8\" x=\"49\" y=\"283.1074\">p</text><line style=\"stroke: #383838; stroke-width: 1.5;\" x1=\"33\" x2=\"73\" y1=\"290.9375\" y2=\"290.9375\"/></a><!--MD5=[09b614a08d8cba4a07c9adeb5e0fee81]\n",
       "class E3--><a href=\"psysml:03220e95-b237-4532-8361-eb1844ca39e9\" target=\"_top\" title=\"psysml:03220e95-b237-4532-8361-eb1844ca39e9\" xlink:actuate=\"onRequest\" xlink:href=\"psysml:03220e95-b237-4532-8361-eb1844ca39e9\" xlink:show=\"new\" xlink:title=\"psysml:03220e95-b237-4532-8361-eb1844ca39e9\" xlink:type=\"simple\"><rect fill=\"#FFFFFF\" height=\"45.9375\" id=\"E3\" rx=\"10\" ry=\"10\" style=\"stroke: #383838; stroke-width: 1.5;\" width=\"42\" x=\"70\" y=\"359\"/><text fill=\"#000000\" font-family=\"sans-serif\" font-size=\"12\" font-style=\"italic\" lengthAdjust=\"spacingAndGlyphs\" textLength=\"40\" x=\"71\" y=\"375.1387\">«part»</text><text fill=\"#000000\" font-family=\"sans-serif\" font-size=\"12\" lengthAdjust=\"spacingAndGlyphs\" textLength=\"6\" x=\"88\" y=\"389.1074\">x</text><line style=\"stroke: #383838; stroke-width: 1.5;\" x1=\"71\" x2=\"111\" y1=\"396.9375\" y2=\"396.9375\"/></a><!--MD5=[ebbe1d658d1005bcc118a6aa81145e00]\n",
       "class E4--><a href=\"psysml:deb35dd4-2c3a-4fce-b73d-f2bc7012e274\" target=\"_top\" title=\"psysml:deb35dd4-2c3a-4fce-b73d-f2bc7012e274\" xlink:actuate=\"onRequest\" xlink:href=\"psysml:deb35dd4-2c3a-4fce-b73d-f2bc7012e274\" xlink:show=\"new\" xlink:title=\"psysml:deb35dd4-2c3a-4fce-b73d-f2bc7012e274\" xlink:type=\"simple\"><rect fill=\"#FFFFFF\" height=\"45.9375\" id=\"E4\" style=\"stroke: #383838; stroke-width: 1.5;\" width=\"66\" x=\"58\" y=\"41\"/><text fill=\"#000000\" font-family=\"sans-serif\" font-size=\"12\" font-style=\"italic\" lengthAdjust=\"spacingAndGlyphs\" textLength=\"64\" x=\"59\" y=\"57.1387\">«part def»</text><text fill=\"#000000\" font-family=\"sans-serif\" font-size=\"12\" lengthAdjust=\"spacingAndGlyphs\" textLength=\"8\" x=\"87\" y=\"71.1074\">P</text><line style=\"stroke: #383838; stroke-width: 1.5;\" x1=\"59\" x2=\"123\" y1=\"78.9375\" y2=\"78.9375\"/></a><!--MD5=[270fce915f116d4de14055a7c1d9a0f3]\n",
       "class E5--><a href=\"psysml:021693d6-d6d0-45d3-85e9-0e056c3c99ea\" target=\"_top\" title=\"psysml:021693d6-d6d0-45d3-85e9-0e056c3c99ea\" xlink:actuate=\"onRequest\" xlink:href=\"psysml:021693d6-d6d0-45d3-85e9-0e056c3c99ea\" xlink:show=\"new\" xlink:title=\"psysml:021693d6-d6d0-45d3-85e9-0e056c3c99ea\" xlink:type=\"simple\"><rect fill=\"#FFFFFF\" height=\"45.9375\" id=\"E5\" rx=\"10\" ry=\"10\" style=\"stroke: #383838; stroke-width: 1.5;\" width=\"42\" x=\"32\" y=\"147\"/><text fill=\"#000000\" font-family=\"sans-serif\" font-size=\"12\" font-style=\"italic\" lengthAdjust=\"spacingAndGlyphs\" textLength=\"40\" x=\"33\" y=\"163.1387\">«part»</text><text fill=\"#000000\" font-family=\"sans-serif\" font-size=\"12\" lengthAdjust=\"spacingAndGlyphs\" textLength=\"6\" x=\"50\" y=\"177.1074\">y</text><line style=\"stroke: #383838; stroke-width: 1.5;\" x1=\"33\" x2=\"73\" y1=\"184.9375\" y2=\"184.9375\"/></a><!--MD5=[60a26617385b1d2d0262a64233df1f8d]\n",
       "class E6--><a href=\"psysml:48ad0273-6ae0-4e72-b6eb-52596fa39c0f\" target=\"_top\" title=\"psysml:48ad0273-6ae0-4e72-b6eb-52596fa39c0f\" xlink:actuate=\"onRequest\" xlink:href=\"psysml:48ad0273-6ae0-4e72-b6eb-52596fa39c0f\" xlink:show=\"new\" xlink:title=\"psysml:48ad0273-6ae0-4e72-b6eb-52596fa39c0f\" xlink:type=\"simple\"><rect fill=\"#FFFFFF\" height=\"45.9375\" id=\"E6\" rx=\"10\" ry=\"10\" style=\"stroke: #383838; stroke-width: 1.5;\" width=\"42\" x=\"109\" y=\"147\"/><text fill=\"#000000\" font-family=\"sans-serif\" font-size=\"12\" font-style=\"italic\" lengthAdjust=\"spacingAndGlyphs\" textLength=\"40\" x=\"110\" y=\"163.1387\">«part»</text><text fill=\"#000000\" font-family=\"sans-serif\" font-size=\"12\" lengthAdjust=\"spacingAndGlyphs\" textLength=\"16\" x=\"122\" y=\"177.1074\">p1</text><line style=\"stroke: #383838; stroke-width: 1.5;\" x1=\"110\" x2=\"150\" y1=\"184.9375\" y2=\"184.9375\"/></a><!--MD5=[2156ba9850f5573cc1fc38a6a4b2f02b]\n",
       "class E7--><a href=\"psysml:3d476d3d-b46e-46da-94ef-54f71581d8bd\" target=\"_top\" title=\"psysml:3d476d3d-b46e-46da-94ef-54f71581d8bd\" xlink:actuate=\"onRequest\" xlink:href=\"psysml:3d476d3d-b46e-46da-94ef-54f71581d8bd\" xlink:show=\"new\" xlink:title=\"psysml:3d476d3d-b46e-46da-94ef-54f71581d8bd\" xlink:type=\"simple\"><rect fill=\"#FFFFFF\" height=\"45.9375\" id=\"E7\" rx=\"10\" ry=\"10\" style=\"stroke: #383838; stroke-width: 1.5;\" width=\"42\" x=\"109\" y=\"253\"/><text fill=\"#000000\" font-family=\"sans-serif\" font-size=\"12\" font-style=\"italic\" lengthAdjust=\"spacingAndGlyphs\" textLength=\"40\" x=\"110\" y=\"269.1387\">«part»</text><text fill=\"#000000\" font-family=\"sans-serif\" font-size=\"12\" lengthAdjust=\"spacingAndGlyphs\" textLength=\"6\" x=\"127\" y=\"283.1074\">x</text><line style=\"stroke: #383838; stroke-width: 1.5;\" x1=\"110\" x2=\"150\" y1=\"290.9375\" y2=\"290.9375\"/></a><!--MD5=[209b3feb70ccb6233bfe1053d122c12c]\n",
       "reverse link E2 to E3--><a href=\"psysml:03220e95-b237-4532-8361-eb1844ca39e9\" target=\"_top\" title=\"psysml:03220e95-b237-4532-8361-eb1844ca39e9\" xlink:actuate=\"onRequest\" xlink:href=\"psysml:03220e95-b237-4532-8361-eb1844ca39e9\" xlink:show=\"new\" xlink:title=\"psysml:03220e95-b237-4532-8361-eb1844ca39e9\" xlink:type=\"simple\"><path d=\"M65.6,311.49 C71.32,327.15 77.92,345.19 82.95,358.98 \" fill=\"none\" id=\"E2&lt;-E3\" style=\"stroke: #383838; stroke-width: 1.0;\"/><polygon fill=\"#383838\" points=\"61.06,299.06,59.3691,306.07,65.1895,310.3271,66.8804,303.317,61.06,299.06\" style=\"stroke: #383838; stroke-width: 1.0;\"/></a><!--MD5=[62aa6af11e70f752912c1cb0466f24f7]\n",
       "reverse link E4 to E5--><a href=\"psysml:021693d6-d6d0-45d3-85e9-0e056c3c99ea\" target=\"_top\" title=\"psysml:021693d6-d6d0-45d3-85e9-0e056c3c99ea\" xlink:actuate=\"onRequest\" xlink:href=\"psysml:021693d6-d6d0-45d3-85e9-0e056c3c99ea\" xlink:show=\"new\" xlink:title=\"psysml:021693d6-d6d0-45d3-85e9-0e056c3c99ea\" xlink:type=\"simple\"><path d=\"M78.4,99.49 C72.68,115.15 66.08,133.19 61.05,146.98 \" fill=\"none\" id=\"E4&lt;-E5\" style=\"stroke: #383838; stroke-width: 1.0;\"/><polygon fill=\"#383838\" points=\"82.94,87.06,77.1196,91.317,78.8105,98.3271,84.6309,94.07,82.94,87.06\" style=\"stroke: #383838; stroke-width: 1.0;\"/></a><!--MD5=[2351f337d6de0f557b50152ba70847b5]\n",
       "link E6 to E2--><a href=\"psysml:9890fb32-dc37-43db-abbc-6177a2056fad\" target=\"_top\" title=\"psysml:9890fb32-dc37-43db-abbc-6177a2056fad\" xlink:actuate=\"onRequest\" xlink:href=\"psysml:9890fb32-dc37-43db-abbc-6177a2056fad\" xlink:show=\"new\" xlink:title=\"psysml:9890fb32-dc37-43db-abbc-6177a2056fad\" xlink:type=\"simple\"><path d=\"M113.67,193.06 C104.28,205.74 92.22,222.03 81.32,236.74 \" fill=\"none\" id=\"E6-&gt;E2\" style=\"stroke: #383838; stroke-width: 1.0;\"/><polygon fill=\"none\" points=\"86.83,241.07,69.31,252.98,75.58,232.74,86.83,241.07\" style=\"stroke: #383838; stroke-width: 1.0;\"/></a><!--MD5=[6db378b65e1aef66a01cb3103812b399]\n",
       "reverse link E4 to E6--><a href=\"psysml:48ad0273-6ae0-4e72-b6eb-52596fa39c0f\" target=\"_top\" title=\"psysml:48ad0273-6ae0-4e72-b6eb-52596fa39c0f\" xlink:actuate=\"onRequest\" xlink:href=\"psysml:48ad0273-6ae0-4e72-b6eb-52596fa39c0f\" xlink:show=\"new\" xlink:title=\"psysml:48ad0273-6ae0-4e72-b6eb-52596fa39c0f\" xlink:type=\"simple\"><path d=\"M103.94,99.49 C109.8,115.15 116.57,133.19 121.74,146.98 \" fill=\"none\" id=\"E4&lt;-E6\" style=\"stroke: #383838; stroke-width: 1.0;\"/><polygon fill=\"#383838\" points=\"99.27,87.06,97.635,94.0833,103.4893,98.2938,105.1242,91.2705,99.27,87.06\" style=\"stroke: #383838; stroke-width: 1.0;\"/></a><!--MD5=[14ccda38c055a5c0da953d572bc50960]\n",
       "link E7 to E3--><a href=\"psysml:6e6cfa00-bc1f-4d19-92ba-1126ed543e13\" target=\"_top\" title=\"psysml:6e6cfa00-bc1f-4d19-92ba-1126ed543e13\" xlink:actuate=\"onRequest\" xlink:href=\"psysml:6e6cfa00-bc1f-4d19-92ba-1126ed543e13\" xlink:show=\"new\" xlink:title=\"psysml:6e6cfa00-bc1f-4d19-92ba-1126ed543e13\" xlink:type=\"simple\"><path d=\"M121.73,299.06 C117.28,310.91 111.65,325.92 106.43,339.85 \" fill=\"none\" id=\"E7-&gt;E3\" style=\"stroke: #383838; stroke-width: 1.0;\"/><polygon fill=\"#FFFFFF\" points=\"99.26,358.98,99.3821,338.7319,112.4895,343.6509,99.26,358.98\" style=\"stroke: #383838; stroke-width: 1.0;\"/><line style=\"stroke: #383838; stroke-width: 2.0;\" x1=\"100.7173\" x2=\"113.8247\" y1=\"335.1742\" y2=\"340.0932\"/></a><!--MD5=[3f50a3473f1dfb74d3f76443e03635af]\n",
       "reverse link E6 to E7--><a href=\"psysml:3d476d3d-b46e-46da-94ef-54f71581d8bd\" target=\"_top\" title=\"psysml:3d476d3d-b46e-46da-94ef-54f71581d8bd\" xlink:actuate=\"onRequest\" xlink:href=\"psysml:3d476d3d-b46e-46da-94ef-54f71581d8bd\" xlink:show=\"new\" xlink:title=\"psysml:3d476d3d-b46e-46da-94ef-54f71581d8bd\" xlink:type=\"simple\"><path d=\"M130,206.44 C130,221.87 130,239.47 130,252.98 \" fill=\"none\" id=\"E6&lt;-E7\" style=\"stroke: #383838; stroke-width: 1.0;\"/><polygon fill=\"#383838\" points=\"130,193.06,126,199.06,130,205.06,134,199.06,130,193.06\" style=\"stroke: #383838; stroke-width: 1.0;\"/></a><!--MD5=[a57f6131709ad2444f8d68ccc6b9e189]\n",
       "@startuml\r\n",
       "skinparam monochrome true\r\n",
       "skinparam classbackgroundcolor white\r\n",
       "skinparam shadowing false\r\n",
       "skinparam wrapWidth 300\r\n",
       "hide circle\r\n",
       "\r\n",
       "package \"ConnectionTest\" as E1  [[psysml:1fa0c0c0-6c41-491a-9601-36d7e4e40543 ]]  {\r\n",
       "comp usage \"p\" as E2  <<(T,blue)part>> [[psysml:5f85cf43-367b-49d0-8c6e-b9320e7aab66 ]] {\r\n",
       "}\r\n",
       "comp usage \"x\" as E3  <<(T,blue)part>> [[psysml:03220e95-b237-4532-8361-eb1844ca39e9 ]] {\r\n",
       "}\r\n",
       "comp def \"P\" as E4  <<(T,blue)part def>> [[psysml:deb35dd4-2c3a-4fce-b73d-f2bc7012e274 ]] {\r\n",
       "}\r\n",
       "comp usage \"y\" as E5  <<(T,blue)part>> [[psysml:021693d6-d6d0-45d3-85e9-0e056c3c99ea ]] {\r\n",
       "}\r\n",
       "comp usage \"p1\" as E6  <<(T,blue)part>> [[psysml:48ad0273-6ae0-4e72-b6eb-52596fa39c0f ]] {\r\n",
       "}\r\n",
       "comp usage \"x\" as E7  <<(T,blue)part>> [[psysml:3d476d3d-b46e-46da-94ef-54f71581d8bd ]] {\r\n",
       "}\r\n",
       "E2 *- - E3 [[psysml:03220e95-b237-4532-8361-eb1844ca39e9 ]] \r\n",
       "E4 *- - E5 [[psysml:021693d6-d6d0-45d3-85e9-0e056c3c99ea ]] \r\n",
       "E6 - -|> E2 [[psysml:9890fb32-dc37-43db-abbc-6177a2056fad ]] \r\n",
       "E4 *- - E6 [[psysml:48ad0273-6ae0-4e72-b6eb-52596fa39c0f ]] \r\n",
       "E7 - -||> E3 [[psysml:6e6cfa00-bc1f-4d19-92ba-1126ed543e13 ]] \r\n",
       "E6 *- - E7 [[psysml:3d476d3d-b46e-46da-94ef-54f71581d8bd ]] \r\n",
       "}\r\n",
       "@enduml\r\n",
       "\n",
       "PlantUML version 1.2020.13(Sat Jun 13 12:26:38 UTC 2020)\n",
       "(EPL source distribution)\n",
       "Java Runtime: OpenJDK Runtime Environment\n",
       "JVM: OpenJDK 64-Bit Server VM\n",
       "Default Encoding: UTF-8\n",
       "Language: en\n",
       "Country: null\n",
       "--></g></svg>"
      ]
     },
     "execution_count": 43,
     "metadata": {},
     "output_type": "execute_result"
    }
   ],
   "source": [
    "%viz --style=\"DEFAULT\" --view=\"MIXED\" \"ConnectionTest\""
   ]
  },
  {
   "cell_type": "code",
   "execution_count": 44,
   "id": "dominant-contrary",
   "metadata": {
    "execution": {
     "iopub.execute_input": "2021-03-25T13:50:06.878741Z",
     "iopub.status.busy": "2021-03-25T13:50:06.878045Z",
     "iopub.status.idle": "2021-03-25T13:50:06.943966Z",
     "shell.execute_reply": "2021-03-25T13:50:06.941959Z"
    }
   },
   "outputs": [
    {
     "data": {
      "image/svg+xml": [
       "<?xml version=\"1.0\" encoding=\"UTF-8\" standalone=\"no\"?><svg xmlns=\"http://www.w3.org/2000/svg\" xmlns:xlink=\"http://www.w3.org/1999/xlink\" contentScriptType=\"application/ecmascript\" contentStyleType=\"text/css\" height=\"433px\" preserveAspectRatio=\"none\" style=\"width:189px;height:433px;\" version=\"1.1\" viewBox=\"0 0 189 433\" width=\"189px\" zoomAndPan=\"magnify\"><defs/><g><!--MD5=[fbc87193dbaf4d95561dea2c320d4a47]\n",
       "cluster E1--><a href=\"psysml:1fa0c0c0-6c41-491a-9601-36d7e4e40543\" target=\"_top\" title=\"psysml:1fa0c0c0-6c41-491a-9601-36d7e4e40543\" xlink:actuate=\"onRequest\" xlink:href=\"psysml:1fa0c0c0-6c41-491a-9601-36d7e4e40543\" xlink:show=\"new\" xlink:title=\"psysml:1fa0c0c0-6c41-491a-9601-36d7e4e40543\" xlink:type=\"simple\"><polygon fill=\"#FFFFFF\" points=\"16,6,147,6,154,28.2969,167,28.2969,167,421,16,421,16,6\" style=\"stroke: #000000; stroke-width: 1.5;\"/><line style=\"stroke: #000000; stroke-width: 1.5;\" x1=\"16\" x2=\"154\" y1=\"28.2969\" y2=\"28.2969\"/><text fill=\"#000000\" font-family=\"sans-serif\" font-size=\"14\" font-weight=\"bold\" lengthAdjust=\"spacingAndGlyphs\" textLength=\"125\" x=\"20\" y=\"20.9951\">ConnectionTest</text></a><!--MD5=[b4997ac47864f28c2f74865a473b2911]\n",
       "class E2--><a href=\"psysml:5f85cf43-367b-49d0-8c6e-b9320e7aab66\" target=\"_top\" title=\"psysml:5f85cf43-367b-49d0-8c6e-b9320e7aab66\" xlink:actuate=\"onRequest\" xlink:href=\"psysml:5f85cf43-367b-49d0-8c6e-b9320e7aab66\" xlink:show=\"new\" xlink:title=\"psysml:5f85cf43-367b-49d0-8c6e-b9320e7aab66\" xlink:type=\"simple\"><rect fill=\"#FFFFFF\" height=\"45.9375\" id=\"E2\" rx=\"10\" ry=\"10\" style=\"stroke: #383838; stroke-width: 1.5;\" width=\"42\" x=\"32\" y=\"253\"/><text fill=\"#000000\" font-family=\"sans-serif\" font-size=\"12\" font-style=\"italic\" lengthAdjust=\"spacingAndGlyphs\" textLength=\"40\" x=\"33\" y=\"269.1387\">«part»</text><text fill=\"#000000\" font-family=\"sans-serif\" font-size=\"12\" lengthAdjust=\"spacingAndGlyphs\" textLength=\"8\" x=\"49\" y=\"283.1074\">p</text><line style=\"stroke: #383838; stroke-width: 1.5;\" x1=\"33\" x2=\"73\" y1=\"290.9375\" y2=\"290.9375\"/></a><!--MD5=[09b614a08d8cba4a07c9adeb5e0fee81]\n",
       "class E3--><a href=\"psysml:03220e95-b237-4532-8361-eb1844ca39e9\" target=\"_top\" title=\"psysml:03220e95-b237-4532-8361-eb1844ca39e9\" xlink:actuate=\"onRequest\" xlink:href=\"psysml:03220e95-b237-4532-8361-eb1844ca39e9\" xlink:show=\"new\" xlink:title=\"psysml:03220e95-b237-4532-8361-eb1844ca39e9\" xlink:type=\"simple\"><rect fill=\"#FFFFFF\" height=\"45.9375\" id=\"E3\" rx=\"10\" ry=\"10\" style=\"stroke: #383838; stroke-width: 1.5;\" width=\"42\" x=\"70\" y=\"359\"/><text fill=\"#000000\" font-family=\"sans-serif\" font-size=\"12\" font-style=\"italic\" lengthAdjust=\"spacingAndGlyphs\" textLength=\"40\" x=\"71\" y=\"375.1387\">«part»</text><text fill=\"#000000\" font-family=\"sans-serif\" font-size=\"12\" lengthAdjust=\"spacingAndGlyphs\" textLength=\"6\" x=\"88\" y=\"389.1074\">x</text><line style=\"stroke: #383838; stroke-width: 1.5;\" x1=\"71\" x2=\"111\" y1=\"396.9375\" y2=\"396.9375\"/></a><!--MD5=[ebbe1d658d1005bcc118a6aa81145e00]\n",
       "class E4--><a href=\"psysml:deb35dd4-2c3a-4fce-b73d-f2bc7012e274\" target=\"_top\" title=\"psysml:deb35dd4-2c3a-4fce-b73d-f2bc7012e274\" xlink:actuate=\"onRequest\" xlink:href=\"psysml:deb35dd4-2c3a-4fce-b73d-f2bc7012e274\" xlink:show=\"new\" xlink:title=\"psysml:deb35dd4-2c3a-4fce-b73d-f2bc7012e274\" xlink:type=\"simple\"><rect fill=\"#FFFFFF\" height=\"45.9375\" id=\"E4\" style=\"stroke: #383838; stroke-width: 1.5;\" width=\"66\" x=\"58\" y=\"41\"/><text fill=\"#000000\" font-family=\"sans-serif\" font-size=\"12\" font-style=\"italic\" lengthAdjust=\"spacingAndGlyphs\" textLength=\"64\" x=\"59\" y=\"57.1387\">«part def»</text><text fill=\"#000000\" font-family=\"sans-serif\" font-size=\"12\" lengthAdjust=\"spacingAndGlyphs\" textLength=\"8\" x=\"87\" y=\"71.1074\">P</text><line style=\"stroke: #383838; stroke-width: 1.5;\" x1=\"59\" x2=\"123\" y1=\"78.9375\" y2=\"78.9375\"/></a><!--MD5=[270fce915f116d4de14055a7c1d9a0f3]\n",
       "class E5--><a href=\"psysml:021693d6-d6d0-45d3-85e9-0e056c3c99ea\" target=\"_top\" title=\"psysml:021693d6-d6d0-45d3-85e9-0e056c3c99ea\" xlink:actuate=\"onRequest\" xlink:href=\"psysml:021693d6-d6d0-45d3-85e9-0e056c3c99ea\" xlink:show=\"new\" xlink:title=\"psysml:021693d6-d6d0-45d3-85e9-0e056c3c99ea\" xlink:type=\"simple\"><rect fill=\"#FFFFFF\" height=\"45.9375\" id=\"E5\" rx=\"10\" ry=\"10\" style=\"stroke: #383838; stroke-width: 1.5;\" width=\"42\" x=\"32\" y=\"147\"/><text fill=\"#000000\" font-family=\"sans-serif\" font-size=\"12\" font-style=\"italic\" lengthAdjust=\"spacingAndGlyphs\" textLength=\"40\" x=\"33\" y=\"163.1387\">«part»</text><text fill=\"#000000\" font-family=\"sans-serif\" font-size=\"12\" lengthAdjust=\"spacingAndGlyphs\" textLength=\"6\" x=\"50\" y=\"177.1074\">y</text><line style=\"stroke: #383838; stroke-width: 1.5;\" x1=\"33\" x2=\"73\" y1=\"184.9375\" y2=\"184.9375\"/></a><!--MD5=[60a26617385b1d2d0262a64233df1f8d]\n",
       "class E6--><a href=\"psysml:48ad0273-6ae0-4e72-b6eb-52596fa39c0f\" target=\"_top\" title=\"psysml:48ad0273-6ae0-4e72-b6eb-52596fa39c0f\" xlink:actuate=\"onRequest\" xlink:href=\"psysml:48ad0273-6ae0-4e72-b6eb-52596fa39c0f\" xlink:show=\"new\" xlink:title=\"psysml:48ad0273-6ae0-4e72-b6eb-52596fa39c0f\" xlink:type=\"simple\"><rect fill=\"#FFFFFF\" height=\"45.9375\" id=\"E6\" rx=\"10\" ry=\"10\" style=\"stroke: #383838; stroke-width: 1.5;\" width=\"42\" x=\"109\" y=\"147\"/><text fill=\"#000000\" font-family=\"sans-serif\" font-size=\"12\" font-style=\"italic\" lengthAdjust=\"spacingAndGlyphs\" textLength=\"40\" x=\"110\" y=\"163.1387\">«part»</text><text fill=\"#000000\" font-family=\"sans-serif\" font-size=\"12\" lengthAdjust=\"spacingAndGlyphs\" textLength=\"16\" x=\"122\" y=\"177.1074\">p1</text><line style=\"stroke: #383838; stroke-width: 1.5;\" x1=\"110\" x2=\"150\" y1=\"184.9375\" y2=\"184.9375\"/></a><!--MD5=[2156ba9850f5573cc1fc38a6a4b2f02b]\n",
       "class E7--><a href=\"psysml:3d476d3d-b46e-46da-94ef-54f71581d8bd\" target=\"_top\" title=\"psysml:3d476d3d-b46e-46da-94ef-54f71581d8bd\" xlink:actuate=\"onRequest\" xlink:href=\"psysml:3d476d3d-b46e-46da-94ef-54f71581d8bd\" xlink:show=\"new\" xlink:title=\"psysml:3d476d3d-b46e-46da-94ef-54f71581d8bd\" xlink:type=\"simple\"><rect fill=\"#FFFFFF\" height=\"45.9375\" id=\"E7\" rx=\"10\" ry=\"10\" style=\"stroke: #383838; stroke-width: 1.5;\" width=\"42\" x=\"109\" y=\"253\"/><text fill=\"#000000\" font-family=\"sans-serif\" font-size=\"12\" font-style=\"italic\" lengthAdjust=\"spacingAndGlyphs\" textLength=\"40\" x=\"110\" y=\"269.1387\">«part»</text><text fill=\"#000000\" font-family=\"sans-serif\" font-size=\"12\" lengthAdjust=\"spacingAndGlyphs\" textLength=\"6\" x=\"127\" y=\"283.1074\">x</text><line style=\"stroke: #383838; stroke-width: 1.5;\" x1=\"110\" x2=\"150\" y1=\"290.9375\" y2=\"290.9375\"/></a><!--MD5=[209b3feb70ccb6233bfe1053d122c12c]\n",
       "reverse link E2 to E3--><a href=\"psysml:03220e95-b237-4532-8361-eb1844ca39e9\" target=\"_top\" title=\"psysml:03220e95-b237-4532-8361-eb1844ca39e9\" xlink:actuate=\"onRequest\" xlink:href=\"psysml:03220e95-b237-4532-8361-eb1844ca39e9\" xlink:show=\"new\" xlink:title=\"psysml:03220e95-b237-4532-8361-eb1844ca39e9\" xlink:type=\"simple\"><path d=\"M65.6,311.49 C71.32,327.15 77.92,345.19 82.95,358.98 \" fill=\"none\" id=\"E2&lt;-E3\" style=\"stroke: #383838; stroke-width: 1.0;\"/><polygon fill=\"#383838\" points=\"61.06,299.06,59.3691,306.07,65.1895,310.3271,66.8804,303.317,61.06,299.06\" style=\"stroke: #383838; stroke-width: 1.0;\"/></a><!--MD5=[62aa6af11e70f752912c1cb0466f24f7]\n",
       "reverse link E4 to E5--><a href=\"psysml:021693d6-d6d0-45d3-85e9-0e056c3c99ea\" target=\"_top\" title=\"psysml:021693d6-d6d0-45d3-85e9-0e056c3c99ea\" xlink:actuate=\"onRequest\" xlink:href=\"psysml:021693d6-d6d0-45d3-85e9-0e056c3c99ea\" xlink:show=\"new\" xlink:title=\"psysml:021693d6-d6d0-45d3-85e9-0e056c3c99ea\" xlink:type=\"simple\"><path d=\"M78.4,99.49 C72.68,115.15 66.08,133.19 61.05,146.98 \" fill=\"none\" id=\"E4&lt;-E5\" style=\"stroke: #383838; stroke-width: 1.0;\"/><polygon fill=\"#383838\" points=\"82.94,87.06,77.1196,91.317,78.8105,98.3271,84.6309,94.07,82.94,87.06\" style=\"stroke: #383838; stroke-width: 1.0;\"/></a><!--MD5=[2351f337d6de0f557b50152ba70847b5]\n",
       "link E6 to E2--><a href=\"psysml:9890fb32-dc37-43db-abbc-6177a2056fad\" target=\"_top\" title=\"psysml:9890fb32-dc37-43db-abbc-6177a2056fad\" xlink:actuate=\"onRequest\" xlink:href=\"psysml:9890fb32-dc37-43db-abbc-6177a2056fad\" xlink:show=\"new\" xlink:title=\"psysml:9890fb32-dc37-43db-abbc-6177a2056fad\" xlink:type=\"simple\"><path d=\"M113.67,193.06 C104.28,205.74 92.22,222.03 81.32,236.74 \" fill=\"none\" id=\"E6-&gt;E2\" style=\"stroke: #383838; stroke-width: 1.0;\"/><polygon fill=\"none\" points=\"86.83,241.07,69.31,252.98,75.58,232.74,86.83,241.07\" style=\"stroke: #383838; stroke-width: 1.0;\"/></a><!--MD5=[6db378b65e1aef66a01cb3103812b399]\n",
       "reverse link E4 to E6--><a href=\"psysml:48ad0273-6ae0-4e72-b6eb-52596fa39c0f\" target=\"_top\" title=\"psysml:48ad0273-6ae0-4e72-b6eb-52596fa39c0f\" xlink:actuate=\"onRequest\" xlink:href=\"psysml:48ad0273-6ae0-4e72-b6eb-52596fa39c0f\" xlink:show=\"new\" xlink:title=\"psysml:48ad0273-6ae0-4e72-b6eb-52596fa39c0f\" xlink:type=\"simple\"><path d=\"M103.94,99.49 C109.8,115.15 116.57,133.19 121.74,146.98 \" fill=\"none\" id=\"E4&lt;-E6\" style=\"stroke: #383838; stroke-width: 1.0;\"/><polygon fill=\"#383838\" points=\"99.27,87.06,97.635,94.0833,103.4893,98.2938,105.1242,91.2705,99.27,87.06\" style=\"stroke: #383838; stroke-width: 1.0;\"/></a><!--MD5=[14ccda38c055a5c0da953d572bc50960]\n",
       "link E7 to E3--><a href=\"psysml:6e6cfa00-bc1f-4d19-92ba-1126ed543e13\" target=\"_top\" title=\"psysml:6e6cfa00-bc1f-4d19-92ba-1126ed543e13\" xlink:actuate=\"onRequest\" xlink:href=\"psysml:6e6cfa00-bc1f-4d19-92ba-1126ed543e13\" xlink:show=\"new\" xlink:title=\"psysml:6e6cfa00-bc1f-4d19-92ba-1126ed543e13\" xlink:type=\"simple\"><path d=\"M121.73,299.06 C117.28,310.91 111.65,325.92 106.43,339.85 \" fill=\"none\" id=\"E7-&gt;E3\" style=\"stroke: #383838; stroke-width: 1.0;\"/><polygon fill=\"#FFFFFF\" points=\"99.26,358.98,99.3821,338.7319,112.4895,343.6509,99.26,358.98\" style=\"stroke: #383838; stroke-width: 1.0;\"/><line style=\"stroke: #383838; stroke-width: 2.0;\" x1=\"100.7173\" x2=\"113.8247\" y1=\"335.1742\" y2=\"340.0932\"/></a><!--MD5=[3f50a3473f1dfb74d3f76443e03635af]\n",
       "reverse link E6 to E7--><a href=\"psysml:3d476d3d-b46e-46da-94ef-54f71581d8bd\" target=\"_top\" title=\"psysml:3d476d3d-b46e-46da-94ef-54f71581d8bd\" xlink:actuate=\"onRequest\" xlink:href=\"psysml:3d476d3d-b46e-46da-94ef-54f71581d8bd\" xlink:show=\"new\" xlink:title=\"psysml:3d476d3d-b46e-46da-94ef-54f71581d8bd\" xlink:type=\"simple\"><path d=\"M130,206.44 C130,221.87 130,239.47 130,252.98 \" fill=\"none\" id=\"E6&lt;-E7\" style=\"stroke: #383838; stroke-width: 1.0;\"/><polygon fill=\"#383838\" points=\"130,193.06,126,199.06,130,205.06,134,199.06,130,193.06\" style=\"stroke: #383838; stroke-width: 1.0;\"/></a><!--MD5=[19844791d2b69c409ff6e4b3c268d291]\n",
       "@startuml\r\n",
       "top to bottom direction\r\n",
       "skinparam monochrome true\r\n",
       "skinparam classbackgroundcolor white\r\n",
       "skinparam shadowing false\r\n",
       "skinparam wrapWidth 300\r\n",
       "hide circle\r\n",
       "\r\n",
       "package \"ConnectionTest\" as E1  [[psysml:1fa0c0c0-6c41-491a-9601-36d7e4e40543 ]]  {\r\n",
       "comp usage \"p\" as E2  <<(T,blue)part>> [[psysml:5f85cf43-367b-49d0-8c6e-b9320e7aab66 ]] {\r\n",
       "}\r\n",
       "comp usage \"x\" as E3  <<(T,blue)part>> [[psysml:03220e95-b237-4532-8361-eb1844ca39e9 ]] {\r\n",
       "}\r\n",
       "comp def \"P\" as E4  <<(T,blue)part def>> [[psysml:deb35dd4-2c3a-4fce-b73d-f2bc7012e274 ]] {\r\n",
       "}\r\n",
       "comp usage \"y\" as E5  <<(T,blue)part>> [[psysml:021693d6-d6d0-45d3-85e9-0e056c3c99ea ]] {\r\n",
       "}\r\n",
       "comp usage \"p1\" as E6  <<(T,blue)part>> [[psysml:48ad0273-6ae0-4e72-b6eb-52596fa39c0f ]] {\r\n",
       "}\r\n",
       "comp usage \"x\" as E7  <<(T,blue)part>> [[psysml:3d476d3d-b46e-46da-94ef-54f71581d8bd ]] {\r\n",
       "}\r\n",
       "E2 *- - E3 [[psysml:03220e95-b237-4532-8361-eb1844ca39e9 ]] \r\n",
       "E4 *- - E5 [[psysml:021693d6-d6d0-45d3-85e9-0e056c3c99ea ]] \r\n",
       "E6 - -|> E2 [[psysml:9890fb32-dc37-43db-abbc-6177a2056fad ]] \r\n",
       "E4 *- - E6 [[psysml:48ad0273-6ae0-4e72-b6eb-52596fa39c0f ]] \r\n",
       "E7 - -||> E3 [[psysml:6e6cfa00-bc1f-4d19-92ba-1126ed543e13 ]] \r\n",
       "E6 *- - E7 [[psysml:3d476d3d-b46e-46da-94ef-54f71581d8bd ]] \r\n",
       "}\r\n",
       "@enduml\r\n",
       "\n",
       "PlantUML version 1.2020.13(Sat Jun 13 12:26:38 UTC 2020)\n",
       "(EPL source distribution)\n",
       "Java Runtime: OpenJDK Runtime Environment\n",
       "JVM: OpenJDK 64-Bit Server VM\n",
       "Default Encoding: UTF-8\n",
       "Language: en\n",
       "Country: null\n",
       "--></g></svg>"
      ]
     },
     "execution_count": 44,
     "metadata": {},
     "output_type": "execute_result"
    }
   ],
   "source": [
    "%viz --style=\"TB\" --view=\"Default\" \"ConnectionTest\""
   ]
  },
  {
   "cell_type": "code",
   "execution_count": 45,
   "id": "satisfied-jordan",
   "metadata": {
    "execution": {
     "iopub.execute_input": "2021-03-25T13:50:06.994268Z",
     "iopub.status.busy": "2021-03-25T13:50:06.993485Z",
     "iopub.status.idle": "2021-03-25T13:50:07.076689Z",
     "shell.execute_reply": "2021-03-25T13:50:07.075019Z"
    }
   },
   "outputs": [
    {
     "data": {
      "image/svg+xml": [
       "<?xml version=\"1.0\" encoding=\"UTF-8\" standalone=\"no\"?><svg xmlns=\"http://www.w3.org/2000/svg\" xmlns:xlink=\"http://www.w3.org/1999/xlink\" contentScriptType=\"application/ecmascript\" contentStyleType=\"text/css\" height=\"433px\" preserveAspectRatio=\"none\" style=\"width:189px;height:433px;\" version=\"1.1\" viewBox=\"0 0 189 433\" width=\"189px\" zoomAndPan=\"magnify\"><defs/><g><!--MD5=[fbc87193dbaf4d95561dea2c320d4a47]\n",
       "cluster E1--><a href=\"psysml:1fa0c0c0-6c41-491a-9601-36d7e4e40543\" target=\"_top\" title=\"psysml:1fa0c0c0-6c41-491a-9601-36d7e4e40543\" xlink:actuate=\"onRequest\" xlink:href=\"psysml:1fa0c0c0-6c41-491a-9601-36d7e4e40543\" xlink:show=\"new\" xlink:title=\"psysml:1fa0c0c0-6c41-491a-9601-36d7e4e40543\" xlink:type=\"simple\"><polygon fill=\"#FFFFFF\" points=\"16,6,147,6,154,28.2969,167,28.2969,167,421,16,421,16,6\" style=\"stroke: #000000; stroke-width: 1.5;\"/><line style=\"stroke: #000000; stroke-width: 1.5;\" x1=\"16\" x2=\"154\" y1=\"28.2969\" y2=\"28.2969\"/><text fill=\"#000000\" font-family=\"sans-serif\" font-size=\"14\" font-weight=\"bold\" lengthAdjust=\"spacingAndGlyphs\" textLength=\"125\" x=\"20\" y=\"20.9951\">ConnectionTest</text></a><!--MD5=[b4997ac47864f28c2f74865a473b2911]\n",
       "class E2--><a href=\"psysml:5f85cf43-367b-49d0-8c6e-b9320e7aab66\" target=\"_top\" title=\"psysml:5f85cf43-367b-49d0-8c6e-b9320e7aab66\" xlink:actuate=\"onRequest\" xlink:href=\"psysml:5f85cf43-367b-49d0-8c6e-b9320e7aab66\" xlink:show=\"new\" xlink:title=\"psysml:5f85cf43-367b-49d0-8c6e-b9320e7aab66\" xlink:type=\"simple\"><rect fill=\"#FFFFFF\" height=\"45.9375\" id=\"E2\" rx=\"10\" ry=\"10\" style=\"stroke: #383838; stroke-width: 1.5;\" width=\"42\" x=\"32\" y=\"253\"/><text fill=\"#000000\" font-family=\"sans-serif\" font-size=\"12\" font-style=\"italic\" lengthAdjust=\"spacingAndGlyphs\" textLength=\"40\" x=\"33\" y=\"269.1387\">«part»</text><text fill=\"#000000\" font-family=\"sans-serif\" font-size=\"12\" lengthAdjust=\"spacingAndGlyphs\" textLength=\"8\" x=\"49\" y=\"283.1074\">p</text><line style=\"stroke: #383838; stroke-width: 1.5;\" x1=\"33\" x2=\"73\" y1=\"290.9375\" y2=\"290.9375\"/></a><!--MD5=[09b614a08d8cba4a07c9adeb5e0fee81]\n",
       "class E3--><a href=\"psysml:03220e95-b237-4532-8361-eb1844ca39e9\" target=\"_top\" title=\"psysml:03220e95-b237-4532-8361-eb1844ca39e9\" xlink:actuate=\"onRequest\" xlink:href=\"psysml:03220e95-b237-4532-8361-eb1844ca39e9\" xlink:show=\"new\" xlink:title=\"psysml:03220e95-b237-4532-8361-eb1844ca39e9\" xlink:type=\"simple\"><rect fill=\"#FFFFFF\" height=\"45.9375\" id=\"E3\" rx=\"10\" ry=\"10\" style=\"stroke: #383838; stroke-width: 1.5;\" width=\"42\" x=\"70\" y=\"359\"/><text fill=\"#000000\" font-family=\"sans-serif\" font-size=\"12\" font-style=\"italic\" lengthAdjust=\"spacingAndGlyphs\" textLength=\"40\" x=\"71\" y=\"375.1387\">«part»</text><text fill=\"#000000\" font-family=\"sans-serif\" font-size=\"12\" lengthAdjust=\"spacingAndGlyphs\" textLength=\"6\" x=\"88\" y=\"389.1074\">x</text><line style=\"stroke: #383838; stroke-width: 1.5;\" x1=\"71\" x2=\"111\" y1=\"396.9375\" y2=\"396.9375\"/></a><!--MD5=[ebbe1d658d1005bcc118a6aa81145e00]\n",
       "class E4--><a href=\"psysml:deb35dd4-2c3a-4fce-b73d-f2bc7012e274\" target=\"_top\" title=\"psysml:deb35dd4-2c3a-4fce-b73d-f2bc7012e274\" xlink:actuate=\"onRequest\" xlink:href=\"psysml:deb35dd4-2c3a-4fce-b73d-f2bc7012e274\" xlink:show=\"new\" xlink:title=\"psysml:deb35dd4-2c3a-4fce-b73d-f2bc7012e274\" xlink:type=\"simple\"><rect fill=\"#FFFFFF\" height=\"45.9375\" id=\"E4\" style=\"stroke: #383838; stroke-width: 1.5;\" width=\"66\" x=\"58\" y=\"41\"/><text fill=\"#000000\" font-family=\"sans-serif\" font-size=\"12\" font-style=\"italic\" lengthAdjust=\"spacingAndGlyphs\" textLength=\"64\" x=\"59\" y=\"57.1387\">«part def»</text><text fill=\"#000000\" font-family=\"sans-serif\" font-size=\"12\" lengthAdjust=\"spacingAndGlyphs\" textLength=\"8\" x=\"87\" y=\"71.1074\">P</text><line style=\"stroke: #383838; stroke-width: 1.5;\" x1=\"59\" x2=\"123\" y1=\"78.9375\" y2=\"78.9375\"/></a><!--MD5=[270fce915f116d4de14055a7c1d9a0f3]\n",
       "class E5--><a href=\"psysml:021693d6-d6d0-45d3-85e9-0e056c3c99ea\" target=\"_top\" title=\"psysml:021693d6-d6d0-45d3-85e9-0e056c3c99ea\" xlink:actuate=\"onRequest\" xlink:href=\"psysml:021693d6-d6d0-45d3-85e9-0e056c3c99ea\" xlink:show=\"new\" xlink:title=\"psysml:021693d6-d6d0-45d3-85e9-0e056c3c99ea\" xlink:type=\"simple\"><rect fill=\"#FFFFFF\" height=\"45.9375\" id=\"E5\" rx=\"10\" ry=\"10\" style=\"stroke: #383838; stroke-width: 1.5;\" width=\"42\" x=\"32\" y=\"147\"/><text fill=\"#000000\" font-family=\"sans-serif\" font-size=\"12\" font-style=\"italic\" lengthAdjust=\"spacingAndGlyphs\" textLength=\"40\" x=\"33\" y=\"163.1387\">«part»</text><text fill=\"#000000\" font-family=\"sans-serif\" font-size=\"12\" lengthAdjust=\"spacingAndGlyphs\" textLength=\"6\" x=\"50\" y=\"177.1074\">y</text><line style=\"stroke: #383838; stroke-width: 1.5;\" x1=\"33\" x2=\"73\" y1=\"184.9375\" y2=\"184.9375\"/></a><!--MD5=[60a26617385b1d2d0262a64233df1f8d]\n",
       "class E6--><a href=\"psysml:48ad0273-6ae0-4e72-b6eb-52596fa39c0f\" target=\"_top\" title=\"psysml:48ad0273-6ae0-4e72-b6eb-52596fa39c0f\" xlink:actuate=\"onRequest\" xlink:href=\"psysml:48ad0273-6ae0-4e72-b6eb-52596fa39c0f\" xlink:show=\"new\" xlink:title=\"psysml:48ad0273-6ae0-4e72-b6eb-52596fa39c0f\" xlink:type=\"simple\"><rect fill=\"#FFFFFF\" height=\"45.9375\" id=\"E6\" rx=\"10\" ry=\"10\" style=\"stroke: #383838; stroke-width: 1.5;\" width=\"42\" x=\"109\" y=\"147\"/><text fill=\"#000000\" font-family=\"sans-serif\" font-size=\"12\" font-style=\"italic\" lengthAdjust=\"spacingAndGlyphs\" textLength=\"40\" x=\"110\" y=\"163.1387\">«part»</text><text fill=\"#000000\" font-family=\"sans-serif\" font-size=\"12\" lengthAdjust=\"spacingAndGlyphs\" textLength=\"16\" x=\"122\" y=\"177.1074\">p1</text><line style=\"stroke: #383838; stroke-width: 1.5;\" x1=\"110\" x2=\"150\" y1=\"184.9375\" y2=\"184.9375\"/></a><!--MD5=[2156ba9850f5573cc1fc38a6a4b2f02b]\n",
       "class E7--><a href=\"psysml:3d476d3d-b46e-46da-94ef-54f71581d8bd\" target=\"_top\" title=\"psysml:3d476d3d-b46e-46da-94ef-54f71581d8bd\" xlink:actuate=\"onRequest\" xlink:href=\"psysml:3d476d3d-b46e-46da-94ef-54f71581d8bd\" xlink:show=\"new\" xlink:title=\"psysml:3d476d3d-b46e-46da-94ef-54f71581d8bd\" xlink:type=\"simple\"><rect fill=\"#FFFFFF\" height=\"45.9375\" id=\"E7\" rx=\"10\" ry=\"10\" style=\"stroke: #383838; stroke-width: 1.5;\" width=\"42\" x=\"109\" y=\"253\"/><text fill=\"#000000\" font-family=\"sans-serif\" font-size=\"12\" font-style=\"italic\" lengthAdjust=\"spacingAndGlyphs\" textLength=\"40\" x=\"110\" y=\"269.1387\">«part»</text><text fill=\"#000000\" font-family=\"sans-serif\" font-size=\"12\" lengthAdjust=\"spacingAndGlyphs\" textLength=\"6\" x=\"127\" y=\"283.1074\">x</text><line style=\"stroke: #383838; stroke-width: 1.5;\" x1=\"110\" x2=\"150\" y1=\"290.9375\" y2=\"290.9375\"/></a><!--MD5=[209b3feb70ccb6233bfe1053d122c12c]\n",
       "reverse link E2 to E3--><a href=\"psysml:03220e95-b237-4532-8361-eb1844ca39e9\" target=\"_top\" title=\"psysml:03220e95-b237-4532-8361-eb1844ca39e9\" xlink:actuate=\"onRequest\" xlink:href=\"psysml:03220e95-b237-4532-8361-eb1844ca39e9\" xlink:show=\"new\" xlink:title=\"psysml:03220e95-b237-4532-8361-eb1844ca39e9\" xlink:type=\"simple\"><path d=\"M65.6,311.49 C71.32,327.15 77.92,345.19 82.95,358.98 \" fill=\"none\" id=\"E2&lt;-E3\" style=\"stroke: #383838; stroke-width: 1.0;\"/><polygon fill=\"#383838\" points=\"61.06,299.06,59.3691,306.07,65.1895,310.3271,66.8804,303.317,61.06,299.06\" style=\"stroke: #383838; stroke-width: 1.0;\"/></a><!--MD5=[62aa6af11e70f752912c1cb0466f24f7]\n",
       "reverse link E4 to E5--><a href=\"psysml:021693d6-d6d0-45d3-85e9-0e056c3c99ea\" target=\"_top\" title=\"psysml:021693d6-d6d0-45d3-85e9-0e056c3c99ea\" xlink:actuate=\"onRequest\" xlink:href=\"psysml:021693d6-d6d0-45d3-85e9-0e056c3c99ea\" xlink:show=\"new\" xlink:title=\"psysml:021693d6-d6d0-45d3-85e9-0e056c3c99ea\" xlink:type=\"simple\"><path d=\"M78.4,99.49 C72.68,115.15 66.08,133.19 61.05,146.98 \" fill=\"none\" id=\"E4&lt;-E5\" style=\"stroke: #383838; stroke-width: 1.0;\"/><polygon fill=\"#383838\" points=\"82.94,87.06,77.1196,91.317,78.8105,98.3271,84.6309,94.07,82.94,87.06\" style=\"stroke: #383838; stroke-width: 1.0;\"/></a><!--MD5=[2351f337d6de0f557b50152ba70847b5]\n",
       "link E6 to E2--><a href=\"psysml:9890fb32-dc37-43db-abbc-6177a2056fad\" target=\"_top\" title=\"psysml:9890fb32-dc37-43db-abbc-6177a2056fad\" xlink:actuate=\"onRequest\" xlink:href=\"psysml:9890fb32-dc37-43db-abbc-6177a2056fad\" xlink:show=\"new\" xlink:title=\"psysml:9890fb32-dc37-43db-abbc-6177a2056fad\" xlink:type=\"simple\"><path d=\"M113.67,193.06 C104.28,205.74 92.22,222.03 81.32,236.74 \" fill=\"none\" id=\"E6-&gt;E2\" style=\"stroke: #383838; stroke-width: 1.0;\"/><polygon fill=\"none\" points=\"86.83,241.07,69.31,252.98,75.58,232.74,86.83,241.07\" style=\"stroke: #383838; stroke-width: 1.0;\"/></a><!--MD5=[6db378b65e1aef66a01cb3103812b399]\n",
       "reverse link E4 to E6--><a href=\"psysml:48ad0273-6ae0-4e72-b6eb-52596fa39c0f\" target=\"_top\" title=\"psysml:48ad0273-6ae0-4e72-b6eb-52596fa39c0f\" xlink:actuate=\"onRequest\" xlink:href=\"psysml:48ad0273-6ae0-4e72-b6eb-52596fa39c0f\" xlink:show=\"new\" xlink:title=\"psysml:48ad0273-6ae0-4e72-b6eb-52596fa39c0f\" xlink:type=\"simple\"><path d=\"M103.94,99.49 C109.8,115.15 116.57,133.19 121.74,146.98 \" fill=\"none\" id=\"E4&lt;-E6\" style=\"stroke: #383838; stroke-width: 1.0;\"/><polygon fill=\"#383838\" points=\"99.27,87.06,97.635,94.0833,103.4893,98.2938,105.1242,91.2705,99.27,87.06\" style=\"stroke: #383838; stroke-width: 1.0;\"/></a><!--MD5=[14ccda38c055a5c0da953d572bc50960]\n",
       "link E7 to E3--><a href=\"psysml:6e6cfa00-bc1f-4d19-92ba-1126ed543e13\" target=\"_top\" title=\"psysml:6e6cfa00-bc1f-4d19-92ba-1126ed543e13\" xlink:actuate=\"onRequest\" xlink:href=\"psysml:6e6cfa00-bc1f-4d19-92ba-1126ed543e13\" xlink:show=\"new\" xlink:title=\"psysml:6e6cfa00-bc1f-4d19-92ba-1126ed543e13\" xlink:type=\"simple\"><path d=\"M121.73,299.06 C117.28,310.91 111.65,325.92 106.43,339.85 \" fill=\"none\" id=\"E7-&gt;E3\" style=\"stroke: #383838; stroke-width: 1.0;\"/><polygon fill=\"#FFFFFF\" points=\"99.26,358.98,99.3821,338.7319,112.4895,343.6509,99.26,358.98\" style=\"stroke: #383838; stroke-width: 1.0;\"/><line style=\"stroke: #383838; stroke-width: 2.0;\" x1=\"100.7173\" x2=\"113.8247\" y1=\"335.1742\" y2=\"340.0932\"/></a><!--MD5=[3f50a3473f1dfb74d3f76443e03635af]\n",
       "reverse link E6 to E7--><a href=\"psysml:3d476d3d-b46e-46da-94ef-54f71581d8bd\" target=\"_top\" title=\"psysml:3d476d3d-b46e-46da-94ef-54f71581d8bd\" xlink:actuate=\"onRequest\" xlink:href=\"psysml:3d476d3d-b46e-46da-94ef-54f71581d8bd\" xlink:show=\"new\" xlink:title=\"psysml:3d476d3d-b46e-46da-94ef-54f71581d8bd\" xlink:type=\"simple\"><path d=\"M130,206.44 C130,221.87 130,239.47 130,252.98 \" fill=\"none\" id=\"E6&lt;-E7\" style=\"stroke: #383838; stroke-width: 1.0;\"/><polygon fill=\"#383838\" points=\"130,193.06,126,199.06,130,205.06,134,199.06,130,193.06\" style=\"stroke: #383838; stroke-width: 1.0;\"/></a><!--MD5=[19844791d2b69c409ff6e4b3c268d291]\n",
       "@startuml\r\n",
       "top to bottom direction\r\n",
       "skinparam monochrome true\r\n",
       "skinparam classbackgroundcolor white\r\n",
       "skinparam shadowing false\r\n",
       "skinparam wrapWidth 300\r\n",
       "hide circle\r\n",
       "\r\n",
       "package \"ConnectionTest\" as E1  [[psysml:1fa0c0c0-6c41-491a-9601-36d7e4e40543 ]]  {\r\n",
       "comp usage \"p\" as E2  <<(T,blue)part>> [[psysml:5f85cf43-367b-49d0-8c6e-b9320e7aab66 ]] {\r\n",
       "}\r\n",
       "comp usage \"x\" as E3  <<(T,blue)part>> [[psysml:03220e95-b237-4532-8361-eb1844ca39e9 ]] {\r\n",
       "}\r\n",
       "comp def \"P\" as E4  <<(T,blue)part def>> [[psysml:deb35dd4-2c3a-4fce-b73d-f2bc7012e274 ]] {\r\n",
       "}\r\n",
       "comp usage \"y\" as E5  <<(T,blue)part>> [[psysml:021693d6-d6d0-45d3-85e9-0e056c3c99ea ]] {\r\n",
       "}\r\n",
       "comp usage \"p1\" as E6  <<(T,blue)part>> [[psysml:48ad0273-6ae0-4e72-b6eb-52596fa39c0f ]] {\r\n",
       "}\r\n",
       "comp usage \"x\" as E7  <<(T,blue)part>> [[psysml:3d476d3d-b46e-46da-94ef-54f71581d8bd ]] {\r\n",
       "}\r\n",
       "E2 *- - E3 [[psysml:03220e95-b237-4532-8361-eb1844ca39e9 ]] \r\n",
       "E4 *- - E5 [[psysml:021693d6-d6d0-45d3-85e9-0e056c3c99ea ]] \r\n",
       "E6 - -|> E2 [[psysml:9890fb32-dc37-43db-abbc-6177a2056fad ]] \r\n",
       "E4 *- - E6 [[psysml:48ad0273-6ae0-4e72-b6eb-52596fa39c0f ]] \r\n",
       "E7 - -||> E3 [[psysml:6e6cfa00-bc1f-4d19-92ba-1126ed543e13 ]] \r\n",
       "E6 *- - E7 [[psysml:3d476d3d-b46e-46da-94ef-54f71581d8bd ]] \r\n",
       "}\r\n",
       "@enduml\r\n",
       "\n",
       "PlantUML version 1.2020.13(Sat Jun 13 12:26:38 UTC 2020)\n",
       "(EPL source distribution)\n",
       "Java Runtime: OpenJDK Runtime Environment\n",
       "JVM: OpenJDK 64-Bit Server VM\n",
       "Default Encoding: UTF-8\n",
       "Language: en\n",
       "Country: null\n",
       "--></g></svg>"
      ]
     },
     "execution_count": 45,
     "metadata": {},
     "output_type": "execute_result"
    }
   ],
   "source": [
    "%viz --style=\"TB\" --view=\"Tree\" \"ConnectionTest\""
   ]
  },
  {
   "cell_type": "code",
   "execution_count": 46,
   "id": "parallel-prescription",
   "metadata": {
    "execution": {
     "iopub.execute_input": "2021-03-25T13:50:07.126291Z",
     "iopub.status.busy": "2021-03-25T13:50:07.125782Z",
     "iopub.status.idle": "2021-03-25T13:50:07.132931Z",
     "shell.execute_reply": "2021-03-25T13:50:07.133348Z"
    }
   },
   "outputs": [
    {
     "data": {
      "image/svg+xml": [
       "<?xml version=\"1.0\" encoding=\"UTF-8\" standalone=\"no\"?><svg xmlns=\"http://www.w3.org/2000/svg\" xmlns:xlink=\"http://www.w3.org/1999/xlink\" contentScriptType=\"application/ecmascript\" contentStyleType=\"text/css\" height=\"12px\" preserveAspectRatio=\"none\" style=\"width:12px;height:12px;\" version=\"1.1\" viewBox=\"0 0 12 12\" width=\"12px\" zoomAndPan=\"magnify\"><defs/><g><!--MD5=[f4ee21bc66e489b5061b7c3e9601fdef]\n",
       "@startuml\r\n",
       "top to bottom direction\r\n",
       "skinparam monochrome true\r\n",
       "skinparam classbackgroundcolor white\r\n",
       "skinparam shadowing false\r\n",
       "skinparam wrapWidth 300\r\n",
       "hide circle\r\n",
       "\r\n",
       "@enduml\r\n",
       "\n",
       "PlantUML version 1.2020.13(Sat Jun 13 12:26:38 UTC 2020)\n",
       "(EPL source distribution)\n",
       "Java Runtime: OpenJDK Runtime Environment\n",
       "JVM: OpenJDK 64-Bit Server VM\n",
       "Default Encoding: UTF-8\n",
       "Language: en\n",
       "Country: null\n",
       "--></g></svg>"
      ]
     },
     "execution_count": 46,
     "metadata": {},
     "output_type": "execute_result"
    }
   ],
   "source": [
    "%viz --style=\"TB\" --view=\"State\" \"ConnectionTest\""
   ]
  },
  {
   "cell_type": "code",
   "execution_count": 47,
   "id": "electric-proposition",
   "metadata": {
    "execution": {
     "iopub.execute_input": "2021-03-25T13:50:07.183942Z",
     "iopub.status.busy": "2021-03-25T13:50:07.183513Z",
     "iopub.status.idle": "2021-03-25T13:50:07.264973Z",
     "shell.execute_reply": "2021-03-25T13:50:07.263738Z"
    }
   },
   "outputs": [
    {
     "data": {
      "image/svg+xml": [
       "<?xml version=\"1.0\" encoding=\"UTF-8\" standalone=\"no\"?><svg xmlns=\"http://www.w3.org/2000/svg\" xmlns:xlink=\"http://www.w3.org/1999/xlink\" contentScriptType=\"application/ecmascript\" contentStyleType=\"text/css\" height=\"324px\" preserveAspectRatio=\"none\" style=\"width:385px;height:324px;\" version=\"1.1\" viewBox=\"0 0 385 324\" width=\"385px\" zoomAndPan=\"magnify\"><defs/><g><!--MD5=[fbc87193dbaf4d95561dea2c320d4a47]\n",
       "cluster E1--><a href=\"psysml:1fa0c0c0-6c41-491a-9601-36d7e4e40543\" target=\"_top\" title=\"psysml:1fa0c0c0-6c41-491a-9601-36d7e4e40543\" xlink:actuate=\"onRequest\" xlink:href=\"psysml:1fa0c0c0-6c41-491a-9601-36d7e4e40543\" xlink:show=\"new\" xlink:title=\"psysml:1fa0c0c0-6c41-491a-9601-36d7e4e40543\" xlink:type=\"simple\"><polygon fill=\"#FFFFFF\" points=\"16,6,147,6,154,28.2969,363,28.2969,363,312.5,16,312.5,16,6\" style=\"stroke: #000000; stroke-width: 1.5;\"/><line style=\"stroke: #000000; stroke-width: 1.5;\" x1=\"16\" x2=\"154\" y1=\"28.2969\" y2=\"28.2969\"/><text fill=\"#000000\" font-family=\"sans-serif\" font-size=\"14\" font-weight=\"bold\" lengthAdjust=\"spacingAndGlyphs\" textLength=\"125\" x=\"20\" y=\"20.9951\">ConnectionTest</text></a><!--MD5=[e4f7fae6ed58524ba242bb0b0d3be6b7]\n",
       "cluster E2--><a href=\"psysml:5f85cf43-367b-49d0-8c6e-b9320e7aab66\" target=\"_top\" title=\"psysml:5f85cf43-367b-49d0-8c6e-b9320e7aab66\" xlink:actuate=\"onRequest\" xlink:href=\"psysml:5f85cf43-367b-49d0-8c6e-b9320e7aab66\" xlink:show=\"new\" xlink:title=\"psysml:5f85cf43-367b-49d0-8c6e-b9320e7aab66\" xlink:type=\"simple\"><rect fill=\"#FFFFFF\" height=\"107\" id=\"E2\" rx=\"10\" ry=\"10\" style=\"stroke: #383838; stroke-width: 1.5;\" width=\"117\" x=\"214\" y=\"164\"/><rect fill=\"#F8F8F8\" height=\"23.9688\" rx=\"10\" ry=\"10\" style=\"stroke: #F8F8F8; stroke-width: 1.5;\" width=\"117\" x=\"214\" y=\"164\"/><rect fill=\"#F8F8F8\" height=\"10\" style=\"stroke: #F8F8F8; stroke-width: 1.5;\" width=\"117\" x=\"214\" y=\"177.9688\"/><rect fill=\"none\" height=\"107\" id=\"E2\" rx=\"10\" ry=\"10\" style=\"stroke: #383838; stroke-width: 1.5;\" width=\"117\" x=\"214\" y=\"164\"/><text fill=\"#000000\" font-family=\"sans-serif\" font-size=\"12\" lengthAdjust=\"spacingAndGlyphs\" textLength=\"8\" x=\"268.5\" y=\"180.1387\">p</text><line style=\"stroke: #383838; stroke-width: 1.0;\" x1=\"214\" x2=\"331\" y1=\"187.9688\" y2=\"187.9688\"/></a><!--MD5=[f6df4d0ebaf0b5dfb2ced0ae5af7c670]\n",
       "cluster E4--><a href=\"psysml:deb35dd4-2c3a-4fce-b73d-f2bc7012e274\" target=\"_top\" title=\"psysml:deb35dd4-2c3a-4fce-b73d-f2bc7012e274\" xlink:actuate=\"onRequest\" xlink:href=\"psysml:deb35dd4-2c3a-4fce-b73d-f2bc7012e274\" xlink:show=\"new\" xlink:title=\"psysml:deb35dd4-2c3a-4fce-b73d-f2bc7012e274\" xlink:type=\"simple\"><rect fill=\"#FFFFFF\" height=\"239.5\" id=\"E4\" style=\"stroke: #383838; stroke-width: 1.5;\" width=\"142\" x=\"40\" y=\"49\"/><rect fill=\"#F8F8F8\" height=\"37.9375\" style=\"stroke: #383838; stroke-width: 1.5;\" width=\"142\" x=\"40\" y=\"49\"/><text fill=\"#000000\" font-family=\"sans-serif\" font-size=\"12\" font-style=\"italic\" lengthAdjust=\"spacingAndGlyphs\" textLength=\"64\" x=\"79\" y=\"65.1387\">«part def»</text><text fill=\"#000000\" font-family=\"sans-serif\" font-size=\"12\" lengthAdjust=\"spacingAndGlyphs\" textLength=\"8\" x=\"107\" y=\"79.1074\">P</text></a><!--MD5=[14e3b0961a2654348d326746436168a1]\n",
       "cluster E6--><a href=\"psysml:48ad0273-6ae0-4e72-b6eb-52596fa39c0f\" target=\"_top\" title=\"psysml:48ad0273-6ae0-4e72-b6eb-52596fa39c0f\" xlink:actuate=\"onRequest\" xlink:href=\"psysml:48ad0273-6ae0-4e72-b6eb-52596fa39c0f\" xlink:show=\"new\" xlink:title=\"psysml:48ad0273-6ae0-4e72-b6eb-52596fa39c0f\" xlink:type=\"simple\"><rect fill=\"#FFFFFF\" height=\"94\" id=\"E6\" rx=\"10\" ry=\"10\" style=\"stroke: #383838; stroke-width: 1.5;\" width=\"94\" x=\"64\" y=\"170.5\"/><rect fill=\"#F8F8F8\" height=\"23.9688\" rx=\"10\" ry=\"10\" style=\"stroke: #F8F8F8; stroke-width: 1.5;\" width=\"94\" x=\"64\" y=\"170.5\"/><rect fill=\"#F8F8F8\" height=\"10\" style=\"stroke: #F8F8F8; stroke-width: 1.5;\" width=\"94\" x=\"64\" y=\"184.4688\"/><rect fill=\"none\" height=\"94\" id=\"E6\" rx=\"10\" ry=\"10\" style=\"stroke: #383838; stroke-width: 1.5;\" width=\"94\" x=\"64\" y=\"170.5\"/><text fill=\"#000000\" font-family=\"sans-serif\" font-size=\"12\" lengthAdjust=\"spacingAndGlyphs\" textLength=\"16\" x=\"103\" y=\"186.6387\">p1</text><line style=\"stroke: #383838; stroke-width: 1.0;\" x1=\"64\" x2=\"158\" y1=\"194.4688\" y2=\"194.4688\"/></a><g id=\"E1.E2.E3\"><a href=\"psysml:03220e95-b237-4532-8361-eb1844ca39e9\" target=\"_top\" title=\"psysml:03220e95-b237-4532-8361-eb1844ca39e9\" xlink:actuate=\"onRequest\" xlink:href=\"psysml:03220e95-b237-4532-8361-eb1844ca39e9\" xlink:show=\"new\" xlink:title=\"psysml:03220e95-b237-4532-8361-eb1844ca39e9\" xlink:type=\"simple\"><rect fill=\"#FFFFFF\" height=\"40\" id=\"E3\" rx=\"10\" ry=\"10\" style=\"stroke: #383838; stroke-width: 1.5;\" width=\"50\" x=\"257\" y=\"207\"/><rect fill=\"#F8F8F8\" height=\"23.9688\" rx=\"10\" ry=\"10\" style=\"stroke: #F8F8F8; stroke-width: 1.5;\" width=\"50\" x=\"257\" y=\"207\"/><rect fill=\"#F8F8F8\" height=\"10\" style=\"stroke: #F8F8F8; stroke-width: 1.5;\" width=\"50\" x=\"257\" y=\"220.9688\"/><rect fill=\"none\" height=\"40\" id=\"E3\" rx=\"10\" ry=\"10\" style=\"stroke: #383838; stroke-width: 1.5;\" width=\"50\" x=\"257\" y=\"207\"/><text fill=\"#000000\" font-family=\"sans-serif\" font-size=\"12\" lengthAdjust=\"spacingAndGlyphs\" textLength=\"6\" x=\"279\" y=\"223.1387\">x</text></a></g><g id=\"E1.E4.E5\"><a href=\"psysml:021693d6-d6d0-45d3-85e9-0e056c3c99ea\" target=\"_top\" title=\"psysml:021693d6-d6d0-45d3-85e9-0e056c3c99ea\" xlink:actuate=\"onRequest\" xlink:href=\"psysml:021693d6-d6d0-45d3-85e9-0e056c3c99ea\" xlink:show=\"new\" xlink:title=\"psysml:021693d6-d6d0-45d3-85e9-0e056c3c99ea\" xlink:type=\"simple\"><rect fill=\"#FFFFFF\" height=\"40\" id=\"E5\" rx=\"10\" ry=\"10\" style=\"stroke: #383838; stroke-width: 1.5;\" width=\"50\" x=\"101\" y=\"100\"/><rect fill=\"#F8F8F8\" height=\"23.9688\" rx=\"10\" ry=\"10\" style=\"stroke: #F8F8F8; stroke-width: 1.5;\" width=\"50\" x=\"101\" y=\"100\"/><rect fill=\"#F8F8F8\" height=\"10\" style=\"stroke: #F8F8F8; stroke-width: 1.5;\" width=\"50\" x=\"101\" y=\"113.9688\"/><rect fill=\"none\" height=\"40\" id=\"E5\" rx=\"10\" ry=\"10\" style=\"stroke: #383838; stroke-width: 1.5;\" width=\"50\" x=\"101\" y=\"100\"/><text fill=\"#000000\" font-family=\"sans-serif\" font-size=\"12\" lengthAdjust=\"spacingAndGlyphs\" textLength=\"6\" x=\"123\" y=\"116.1387\">y</text></a></g><g id=\"E1.E4.E6.E7\"><a href=\"psysml:3d476d3d-b46e-46da-94ef-54f71581d8bd\" target=\"_top\" title=\"psysml:3d476d3d-b46e-46da-94ef-54f71581d8bd\" xlink:actuate=\"onRequest\" xlink:href=\"psysml:3d476d3d-b46e-46da-94ef-54f71581d8bd\" xlink:show=\"new\" xlink:title=\"psysml:3d476d3d-b46e-46da-94ef-54f71581d8bd\" xlink:type=\"simple\"><rect fill=\"#FFFFFF\" height=\"42.9375\" id=\"E7\" rx=\"10\" ry=\"10\" style=\"stroke: #383838; stroke-width: 1.5;\" width=\"61\" x=\"80.5\" y=\"205.5\"/><rect fill=\"#F8F8F8\" height=\"37.9375\" rx=\"10\" ry=\"10\" style=\"stroke: #F8F8F8; stroke-width: 1.5;\" width=\"61\" x=\"80.5\" y=\"205.5\"/><rect fill=\"#F8F8F8\" height=\"10\" style=\"stroke: #F8F8F8; stroke-width: 1.5;\" width=\"61\" x=\"80.5\" y=\"233.4375\"/><rect fill=\"none\" height=\"42.9375\" id=\"E7\" rx=\"10\" ry=\"10\" style=\"stroke: #383838; stroke-width: 1.5;\" width=\"61\" x=\"80.5\" y=\"205.5\"/><text fill=\"#000000\" font-family=\"sans-serif\" font-size=\"12\" lengthAdjust=\"spacingAndGlyphs\" textLength=\"6\" x=\"108\" y=\"221.6387\">x</text><text fill=\"#000000\" font-family=\"sans-serif\" font-size=\"12\" font-style=\"italic\" lengthAdjust=\"spacingAndGlyphs\" textLength=\"46\" x=\"86\" y=\"235.6074\">:&gt;&gt;p::x</text><text fill=\"#000000\" font-family=\"sans-serif\" font-size=\"12\" lengthAdjust=\"spacingAndGlyphs\" textLength=\"0\" x=\"136\" y=\"235.6074\"/></a></g><!--MD5=[15ebcb19ae302d9b601edb458606d402]\n",
       "link E5 to E2--><a href=\"psysml:a2e30144-7cbb-4348-81c9-870149c1f1e3\" target=\"_top\" title=\"psysml:a2e30144-7cbb-4348-81c9-870149c1f1e3\" xlink:actuate=\"onRequest\" xlink:href=\"psysml:a2e30144-7cbb-4348-81c9-870149c1f1e3\" xlink:show=\"new\" xlink:title=\"psysml:a2e30144-7cbb-4348-81c9-870149c1f1e3\" xlink:type=\"simple\"><path d=\"M149.86,140.29 C152.67,142.81 155.45,145.41 158,148 C173.255,163.465 188.7475,182.2475 200.6688,197.5063 C203.6491,201.3209 206.4062,204.9154 208.8806,208.1827 C210.1178,209.8164 211.2843,211.3683 212.3727,212.825 C212.9169,213.5534 213.4416,214.2579 213.9458,214.9371 \" fill=\"none\" id=\"E5-E2\" style=\"stroke: #383838; stroke-width: 3.0;\"/></a><!--MD5=[3a9b96bfbf6b6ad89c494e81751bda47]\n",
       "link E5 to E7--><a href=\"psysml:81751fd3-19d9-42b1-be5d-d1a292525231\" target=\"_top\" title=\"psysml:81751fd3-19d9-42b1-be5d-d1a292525231\" xlink:actuate=\"onRequest\" xlink:href=\"psysml:81751fd3-19d9-42b1-be5d-d1a292525231\" xlink:show=\"new\" xlink:title=\"psysml:81751fd3-19d9-42b1-be5d-d1a292525231\" xlink:type=\"simple\"><path d=\"M123.25,140.26 C120.61,158.73 116.64,186.53 113.94,205.43 \" fill=\"none\" id=\"E5-E7\" style=\"stroke: #383838; stroke-width: 3.0;\"/></a><!--MD5=[46827929196f7aa57fa112e8cce03514]\n",
       "@startuml\r\n",
       "skinparam ranksep 8\r\n",
       "skinparam rectangle {\r\n",
       " backgroundColor<<block>> LightGreen\r\n",
       "}\r\n",
       "top to bottom direction\r\n",
       "skinparam monochrome true\r\n",
       "skinparam classbackgroundcolor white\r\n",
       "skinparam shadowing false\r\n",
       "skinparam wrapWidth 300\r\n",
       "hide circle\r\n",
       "\r\n",
       "package \"ConnectionTest\" as E1  [[psysml:1fa0c0c0-6c41-491a-9601-36d7e4e40543 ]]  {\r\n",
       "rec usage \"p\" as E2  [[psysml:5f85cf43-367b-49d0-8c6e-b9320e7aab66 ]] {\r\n",
       "rec usage \"x\" as E3  [[psysml:03220e95-b237-4532-8361-eb1844ca39e9 ]] {\r\n",
       "}\r\n",
       "}\r\n",
       "rec def \"P\" as E4  <<(T,blue)part def>> [[psysml:deb35dd4-2c3a-4fce-b73d-f2bc7012e274 ]] {\r\n",
       "rec usage \"y\" as E5  [[psysml:021693d6-d6d0-45d3-85e9-0e056c3c99ea ]] {\r\n",
       "}\r\n",
       "rec usage \"p1\" as E6  [[psysml:48ad0273-6ae0-4e72-b6eb-52596fa39c0f ]] {\r\n",
       "rec usage \"x\\n//:>>p::x// \" as E7  [[psysml:3d476d3d-b46e-46da-94ef-54f71581d8bd ]] {\r\n",
       "}\r\n",
       "}\r\n",
       "}\r\n",
       "E5 -[thickness=3]- E2 [[psysml:a2e30144-7cbb-4348-81c9-870149c1f1e3 ]] \r\n",
       "E5 -[thickness=3]- E7 [[psysml:81751fd3-19d9-42b1-be5d-d1a292525231 ]] \r\n",
       "}\r\n",
       "@enduml\r\n",
       "\n",
       "PlantUML version 1.2020.13(Sat Jun 13 12:26:38 UTC 2020)\n",
       "(EPL source distribution)\n",
       "Java Runtime: OpenJDK Runtime Environment\n",
       "JVM: OpenJDK 64-Bit Server VM\n",
       "Default Encoding: UTF-8\n",
       "Language: en\n",
       "Country: null\n",
       "--></g></svg>"
      ]
     },
     "execution_count": 47,
     "metadata": {},
     "output_type": "execute_result"
    }
   ],
   "source": [
    "%viz --style=\"TB\" --view=\"Interconnection\" \"ConnectionTest\""
   ]
  },
  {
   "cell_type": "code",
   "execution_count": 48,
   "id": "every-scoop",
   "metadata": {
    "execution": {
     "iopub.execute_input": "2021-03-25T13:50:07.320480Z",
     "iopub.status.busy": "2021-03-25T13:50:07.319604Z",
     "iopub.status.idle": "2021-03-25T13:50:07.323966Z",
     "shell.execute_reply": "2021-03-25T13:50:07.323617Z"
    }
   },
   "outputs": [
    {
     "data": {
      "image/svg+xml": [
       "<?xml version=\"1.0\" encoding=\"UTF-8\" standalone=\"no\"?><svg xmlns=\"http://www.w3.org/2000/svg\" xmlns:xlink=\"http://www.w3.org/1999/xlink\" contentScriptType=\"application/ecmascript\" contentStyleType=\"text/css\" height=\"12px\" preserveAspectRatio=\"none\" style=\"width:12px;height:12px;\" version=\"1.1\" viewBox=\"0 0 12 12\" width=\"12px\" zoomAndPan=\"magnify\"><defs/><g><!--MD5=[06afc254b03ac5e9d9fb7773b07d0800]\n",
       "@startuml\r\n",
       "skinparam ranksep 8\r\n",
       "top to bottom direction\r\n",
       "skinparam monochrome true\r\n",
       "skinparam classbackgroundcolor white\r\n",
       "skinparam shadowing false\r\n",
       "skinparam wrapWidth 300\r\n",
       "hide circle\r\n",
       "\r\n",
       "@enduml\r\n",
       "\n",
       "PlantUML version 1.2020.13(Sat Jun 13 12:26:38 UTC 2020)\n",
       "(EPL source distribution)\n",
       "Java Runtime: OpenJDK Runtime Environment\n",
       "JVM: OpenJDK 64-Bit Server VM\n",
       "Default Encoding: UTF-8\n",
       "Language: en\n",
       "Country: null\n",
       "--></g></svg>"
      ]
     },
     "execution_count": 48,
     "metadata": {},
     "output_type": "execute_result"
    }
   ],
   "source": [
    "%viz --style=\"TB\" --view=\"Action\" \"ConnectionTest\""
   ]
  },
  {
   "cell_type": "code",
   "execution_count": 49,
   "id": "unauthorized-coast",
   "metadata": {
    "execution": {
     "iopub.execute_input": "2021-03-25T13:50:07.375727Z",
     "iopub.status.busy": "2021-03-25T13:50:07.375143Z",
     "iopub.status.idle": "2021-03-25T13:50:07.440078Z",
     "shell.execute_reply": "2021-03-25T13:50:07.438756Z"
    }
   },
   "outputs": [
    {
     "data": {
      "image/svg+xml": [
       "<?xml version=\"1.0\" encoding=\"UTF-8\" standalone=\"no\"?><svg xmlns=\"http://www.w3.org/2000/svg\" xmlns:xlink=\"http://www.w3.org/1999/xlink\" contentScriptType=\"application/ecmascript\" contentStyleType=\"text/css\" height=\"433px\" preserveAspectRatio=\"none\" style=\"width:189px;height:433px;\" version=\"1.1\" viewBox=\"0 0 189 433\" width=\"189px\" zoomAndPan=\"magnify\"><defs/><g><!--MD5=[fbc87193dbaf4d95561dea2c320d4a47]\n",
       "cluster E1--><a href=\"psysml:1fa0c0c0-6c41-491a-9601-36d7e4e40543\" target=\"_top\" title=\"psysml:1fa0c0c0-6c41-491a-9601-36d7e4e40543\" xlink:actuate=\"onRequest\" xlink:href=\"psysml:1fa0c0c0-6c41-491a-9601-36d7e4e40543\" xlink:show=\"new\" xlink:title=\"psysml:1fa0c0c0-6c41-491a-9601-36d7e4e40543\" xlink:type=\"simple\"><polygon fill=\"#FFFFFF\" points=\"16,6,147,6,154,28.2969,167,28.2969,167,421,16,421,16,6\" style=\"stroke: #000000; stroke-width: 1.5;\"/><line style=\"stroke: #000000; stroke-width: 1.5;\" x1=\"16\" x2=\"154\" y1=\"28.2969\" y2=\"28.2969\"/><text fill=\"#000000\" font-family=\"sans-serif\" font-size=\"14\" font-weight=\"bold\" lengthAdjust=\"spacingAndGlyphs\" textLength=\"125\" x=\"20\" y=\"20.9951\">ConnectionTest</text></a><!--MD5=[b4997ac47864f28c2f74865a473b2911]\n",
       "class E2--><a href=\"psysml:5f85cf43-367b-49d0-8c6e-b9320e7aab66\" target=\"_top\" title=\"psysml:5f85cf43-367b-49d0-8c6e-b9320e7aab66\" xlink:actuate=\"onRequest\" xlink:href=\"psysml:5f85cf43-367b-49d0-8c6e-b9320e7aab66\" xlink:show=\"new\" xlink:title=\"psysml:5f85cf43-367b-49d0-8c6e-b9320e7aab66\" xlink:type=\"simple\"><rect fill=\"#FFFFFF\" height=\"45.9375\" id=\"E2\" rx=\"10\" ry=\"10\" style=\"stroke: #383838; stroke-width: 1.5;\" width=\"42\" x=\"32\" y=\"253\"/><text fill=\"#000000\" font-family=\"sans-serif\" font-size=\"12\" font-style=\"italic\" lengthAdjust=\"spacingAndGlyphs\" textLength=\"40\" x=\"33\" y=\"269.1387\">«part»</text><text fill=\"#000000\" font-family=\"sans-serif\" font-size=\"12\" lengthAdjust=\"spacingAndGlyphs\" textLength=\"8\" x=\"49\" y=\"283.1074\">p</text><line style=\"stroke: #383838; stroke-width: 1.5;\" x1=\"33\" x2=\"73\" y1=\"290.9375\" y2=\"290.9375\"/></a><!--MD5=[09b614a08d8cba4a07c9adeb5e0fee81]\n",
       "class E3--><a href=\"psysml:03220e95-b237-4532-8361-eb1844ca39e9\" target=\"_top\" title=\"psysml:03220e95-b237-4532-8361-eb1844ca39e9\" xlink:actuate=\"onRequest\" xlink:href=\"psysml:03220e95-b237-4532-8361-eb1844ca39e9\" xlink:show=\"new\" xlink:title=\"psysml:03220e95-b237-4532-8361-eb1844ca39e9\" xlink:type=\"simple\"><rect fill=\"#FFFFFF\" height=\"45.9375\" id=\"E3\" rx=\"10\" ry=\"10\" style=\"stroke: #383838; stroke-width: 1.5;\" width=\"42\" x=\"70\" y=\"359\"/><text fill=\"#000000\" font-family=\"sans-serif\" font-size=\"12\" font-style=\"italic\" lengthAdjust=\"spacingAndGlyphs\" textLength=\"40\" x=\"71\" y=\"375.1387\">«part»</text><text fill=\"#000000\" font-family=\"sans-serif\" font-size=\"12\" lengthAdjust=\"spacingAndGlyphs\" textLength=\"6\" x=\"88\" y=\"389.1074\">x</text><line style=\"stroke: #383838; stroke-width: 1.5;\" x1=\"71\" x2=\"111\" y1=\"396.9375\" y2=\"396.9375\"/></a><!--MD5=[ebbe1d658d1005bcc118a6aa81145e00]\n",
       "class E4--><a href=\"psysml:deb35dd4-2c3a-4fce-b73d-f2bc7012e274\" target=\"_top\" title=\"psysml:deb35dd4-2c3a-4fce-b73d-f2bc7012e274\" xlink:actuate=\"onRequest\" xlink:href=\"psysml:deb35dd4-2c3a-4fce-b73d-f2bc7012e274\" xlink:show=\"new\" xlink:title=\"psysml:deb35dd4-2c3a-4fce-b73d-f2bc7012e274\" xlink:type=\"simple\"><rect fill=\"#FFFFFF\" height=\"45.9375\" id=\"E4\" style=\"stroke: #383838; stroke-width: 1.5;\" width=\"66\" x=\"58\" y=\"41\"/><text fill=\"#000000\" font-family=\"sans-serif\" font-size=\"12\" font-style=\"italic\" lengthAdjust=\"spacingAndGlyphs\" textLength=\"64\" x=\"59\" y=\"57.1387\">«part def»</text><text fill=\"#000000\" font-family=\"sans-serif\" font-size=\"12\" lengthAdjust=\"spacingAndGlyphs\" textLength=\"8\" x=\"87\" y=\"71.1074\">P</text><line style=\"stroke: #383838; stroke-width: 1.5;\" x1=\"59\" x2=\"123\" y1=\"78.9375\" y2=\"78.9375\"/></a><!--MD5=[270fce915f116d4de14055a7c1d9a0f3]\n",
       "class E5--><a href=\"psysml:021693d6-d6d0-45d3-85e9-0e056c3c99ea\" target=\"_top\" title=\"psysml:021693d6-d6d0-45d3-85e9-0e056c3c99ea\" xlink:actuate=\"onRequest\" xlink:href=\"psysml:021693d6-d6d0-45d3-85e9-0e056c3c99ea\" xlink:show=\"new\" xlink:title=\"psysml:021693d6-d6d0-45d3-85e9-0e056c3c99ea\" xlink:type=\"simple\"><rect fill=\"#FFFFFF\" height=\"45.9375\" id=\"E5\" rx=\"10\" ry=\"10\" style=\"stroke: #383838; stroke-width: 1.5;\" width=\"42\" x=\"32\" y=\"147\"/><text fill=\"#000000\" font-family=\"sans-serif\" font-size=\"12\" font-style=\"italic\" lengthAdjust=\"spacingAndGlyphs\" textLength=\"40\" x=\"33\" y=\"163.1387\">«part»</text><text fill=\"#000000\" font-family=\"sans-serif\" font-size=\"12\" lengthAdjust=\"spacingAndGlyphs\" textLength=\"6\" x=\"50\" y=\"177.1074\">y</text><line style=\"stroke: #383838; stroke-width: 1.5;\" x1=\"33\" x2=\"73\" y1=\"184.9375\" y2=\"184.9375\"/></a><!--MD5=[60a26617385b1d2d0262a64233df1f8d]\n",
       "class E6--><a href=\"psysml:48ad0273-6ae0-4e72-b6eb-52596fa39c0f\" target=\"_top\" title=\"psysml:48ad0273-6ae0-4e72-b6eb-52596fa39c0f\" xlink:actuate=\"onRequest\" xlink:href=\"psysml:48ad0273-6ae0-4e72-b6eb-52596fa39c0f\" xlink:show=\"new\" xlink:title=\"psysml:48ad0273-6ae0-4e72-b6eb-52596fa39c0f\" xlink:type=\"simple\"><rect fill=\"#FFFFFF\" height=\"45.9375\" id=\"E6\" rx=\"10\" ry=\"10\" style=\"stroke: #383838; stroke-width: 1.5;\" width=\"42\" x=\"109\" y=\"147\"/><text fill=\"#000000\" font-family=\"sans-serif\" font-size=\"12\" font-style=\"italic\" lengthAdjust=\"spacingAndGlyphs\" textLength=\"40\" x=\"110\" y=\"163.1387\">«part»</text><text fill=\"#000000\" font-family=\"sans-serif\" font-size=\"12\" lengthAdjust=\"spacingAndGlyphs\" textLength=\"16\" x=\"122\" y=\"177.1074\">p1</text><line style=\"stroke: #383838; stroke-width: 1.5;\" x1=\"110\" x2=\"150\" y1=\"184.9375\" y2=\"184.9375\"/></a><!--MD5=[2156ba9850f5573cc1fc38a6a4b2f02b]\n",
       "class E7--><a href=\"psysml:3d476d3d-b46e-46da-94ef-54f71581d8bd\" target=\"_top\" title=\"psysml:3d476d3d-b46e-46da-94ef-54f71581d8bd\" xlink:actuate=\"onRequest\" xlink:href=\"psysml:3d476d3d-b46e-46da-94ef-54f71581d8bd\" xlink:show=\"new\" xlink:title=\"psysml:3d476d3d-b46e-46da-94ef-54f71581d8bd\" xlink:type=\"simple\"><rect fill=\"#FFFFFF\" height=\"45.9375\" id=\"E7\" rx=\"10\" ry=\"10\" style=\"stroke: #383838; stroke-width: 1.5;\" width=\"42\" x=\"109\" y=\"253\"/><text fill=\"#000000\" font-family=\"sans-serif\" font-size=\"12\" font-style=\"italic\" lengthAdjust=\"spacingAndGlyphs\" textLength=\"40\" x=\"110\" y=\"269.1387\">«part»</text><text fill=\"#000000\" font-family=\"sans-serif\" font-size=\"12\" lengthAdjust=\"spacingAndGlyphs\" textLength=\"6\" x=\"127\" y=\"283.1074\">x</text><line style=\"stroke: #383838; stroke-width: 1.5;\" x1=\"110\" x2=\"150\" y1=\"290.9375\" y2=\"290.9375\"/></a><!--MD5=[209b3feb70ccb6233bfe1053d122c12c]\n",
       "reverse link E2 to E3--><a href=\"psysml:03220e95-b237-4532-8361-eb1844ca39e9\" target=\"_top\" title=\"psysml:03220e95-b237-4532-8361-eb1844ca39e9\" xlink:actuate=\"onRequest\" xlink:href=\"psysml:03220e95-b237-4532-8361-eb1844ca39e9\" xlink:show=\"new\" xlink:title=\"psysml:03220e95-b237-4532-8361-eb1844ca39e9\" xlink:type=\"simple\"><path d=\"M65.6,311.49 C71.32,327.15 77.92,345.19 82.95,358.98 \" fill=\"none\" id=\"E2&lt;-E3\" style=\"stroke: #383838; stroke-width: 1.0;\"/><polygon fill=\"#383838\" points=\"61.06,299.06,59.3691,306.07,65.1895,310.3271,66.8804,303.317,61.06,299.06\" style=\"stroke: #383838; stroke-width: 1.0;\"/></a><!--MD5=[62aa6af11e70f752912c1cb0466f24f7]\n",
       "reverse link E4 to E5--><a href=\"psysml:021693d6-d6d0-45d3-85e9-0e056c3c99ea\" target=\"_top\" title=\"psysml:021693d6-d6d0-45d3-85e9-0e056c3c99ea\" xlink:actuate=\"onRequest\" xlink:href=\"psysml:021693d6-d6d0-45d3-85e9-0e056c3c99ea\" xlink:show=\"new\" xlink:title=\"psysml:021693d6-d6d0-45d3-85e9-0e056c3c99ea\" xlink:type=\"simple\"><path d=\"M78.4,99.49 C72.68,115.15 66.08,133.19 61.05,146.98 \" fill=\"none\" id=\"E4&lt;-E5\" style=\"stroke: #383838; stroke-width: 1.0;\"/><polygon fill=\"#383838\" points=\"82.94,87.06,77.1196,91.317,78.8105,98.3271,84.6309,94.07,82.94,87.06\" style=\"stroke: #383838; stroke-width: 1.0;\"/></a><!--MD5=[2351f337d6de0f557b50152ba70847b5]\n",
       "link E6 to E2--><a href=\"psysml:9890fb32-dc37-43db-abbc-6177a2056fad\" target=\"_top\" title=\"psysml:9890fb32-dc37-43db-abbc-6177a2056fad\" xlink:actuate=\"onRequest\" xlink:href=\"psysml:9890fb32-dc37-43db-abbc-6177a2056fad\" xlink:show=\"new\" xlink:title=\"psysml:9890fb32-dc37-43db-abbc-6177a2056fad\" xlink:type=\"simple\"><path d=\"M113.67,193.06 C104.28,205.74 92.22,222.03 81.32,236.74 \" fill=\"none\" id=\"E6-&gt;E2\" style=\"stroke: #383838; stroke-width: 1.0;\"/><polygon fill=\"none\" points=\"86.83,241.07,69.31,252.98,75.58,232.74,86.83,241.07\" style=\"stroke: #383838; stroke-width: 1.0;\"/></a><!--MD5=[6db378b65e1aef66a01cb3103812b399]\n",
       "reverse link E4 to E6--><a href=\"psysml:48ad0273-6ae0-4e72-b6eb-52596fa39c0f\" target=\"_top\" title=\"psysml:48ad0273-6ae0-4e72-b6eb-52596fa39c0f\" xlink:actuate=\"onRequest\" xlink:href=\"psysml:48ad0273-6ae0-4e72-b6eb-52596fa39c0f\" xlink:show=\"new\" xlink:title=\"psysml:48ad0273-6ae0-4e72-b6eb-52596fa39c0f\" xlink:type=\"simple\"><path d=\"M103.94,99.49 C109.8,115.15 116.57,133.19 121.74,146.98 \" fill=\"none\" id=\"E4&lt;-E6\" style=\"stroke: #383838; stroke-width: 1.0;\"/><polygon fill=\"#383838\" points=\"99.27,87.06,97.635,94.0833,103.4893,98.2938,105.1242,91.2705,99.27,87.06\" style=\"stroke: #383838; stroke-width: 1.0;\"/></a><!--MD5=[14ccda38c055a5c0da953d572bc50960]\n",
       "link E7 to E3--><a href=\"psysml:6e6cfa00-bc1f-4d19-92ba-1126ed543e13\" target=\"_top\" title=\"psysml:6e6cfa00-bc1f-4d19-92ba-1126ed543e13\" xlink:actuate=\"onRequest\" xlink:href=\"psysml:6e6cfa00-bc1f-4d19-92ba-1126ed543e13\" xlink:show=\"new\" xlink:title=\"psysml:6e6cfa00-bc1f-4d19-92ba-1126ed543e13\" xlink:type=\"simple\"><path d=\"M121.73,299.06 C117.28,310.91 111.65,325.92 106.43,339.85 \" fill=\"none\" id=\"E7-&gt;E3\" style=\"stroke: #383838; stroke-width: 1.0;\"/><polygon fill=\"#FFFFFF\" points=\"99.26,358.98,99.3821,338.7319,112.4895,343.6509,99.26,358.98\" style=\"stroke: #383838; stroke-width: 1.0;\"/><line style=\"stroke: #383838; stroke-width: 2.0;\" x1=\"100.7173\" x2=\"113.8247\" y1=\"335.1742\" y2=\"340.0932\"/></a><!--MD5=[3f50a3473f1dfb74d3f76443e03635af]\n",
       "reverse link E6 to E7--><a href=\"psysml:3d476d3d-b46e-46da-94ef-54f71581d8bd\" target=\"_top\" title=\"psysml:3d476d3d-b46e-46da-94ef-54f71581d8bd\" xlink:actuate=\"onRequest\" xlink:href=\"psysml:3d476d3d-b46e-46da-94ef-54f71581d8bd\" xlink:show=\"new\" xlink:title=\"psysml:3d476d3d-b46e-46da-94ef-54f71581d8bd\" xlink:type=\"simple\"><path d=\"M130,206.44 C130,221.87 130,239.47 130,252.98 \" fill=\"none\" id=\"E6&lt;-E7\" style=\"stroke: #383838; stroke-width: 1.0;\"/><polygon fill=\"#383838\" points=\"130,193.06,126,199.06,130,205.06,134,199.06,130,193.06\" style=\"stroke: #383838; stroke-width: 1.0;\"/></a><!--MD5=[19844791d2b69c409ff6e4b3c268d291]\n",
       "@startuml\r\n",
       "top to bottom direction\r\n",
       "skinparam monochrome true\r\n",
       "skinparam classbackgroundcolor white\r\n",
       "skinparam shadowing false\r\n",
       "skinparam wrapWidth 300\r\n",
       "hide circle\r\n",
       "\r\n",
       "package \"ConnectionTest\" as E1  [[psysml:1fa0c0c0-6c41-491a-9601-36d7e4e40543 ]]  {\r\n",
       "comp usage \"p\" as E2  <<(T,blue)part>> [[psysml:5f85cf43-367b-49d0-8c6e-b9320e7aab66 ]] {\r\n",
       "}\r\n",
       "comp usage \"x\" as E3  <<(T,blue)part>> [[psysml:03220e95-b237-4532-8361-eb1844ca39e9 ]] {\r\n",
       "}\r\n",
       "comp def \"P\" as E4  <<(T,blue)part def>> [[psysml:deb35dd4-2c3a-4fce-b73d-f2bc7012e274 ]] {\r\n",
       "}\r\n",
       "comp usage \"y\" as E5  <<(T,blue)part>> [[psysml:021693d6-d6d0-45d3-85e9-0e056c3c99ea ]] {\r\n",
       "}\r\n",
       "comp usage \"p1\" as E6  <<(T,blue)part>> [[psysml:48ad0273-6ae0-4e72-b6eb-52596fa39c0f ]] {\r\n",
       "}\r\n",
       "comp usage \"x\" as E7  <<(T,blue)part>> [[psysml:3d476d3d-b46e-46da-94ef-54f71581d8bd ]] {\r\n",
       "}\r\n",
       "E2 *- - E3 [[psysml:03220e95-b237-4532-8361-eb1844ca39e9 ]] \r\n",
       "E4 *- - E5 [[psysml:021693d6-d6d0-45d3-85e9-0e056c3c99ea ]] \r\n",
       "E6 - -|> E2 [[psysml:9890fb32-dc37-43db-abbc-6177a2056fad ]] \r\n",
       "E4 *- - E6 [[psysml:48ad0273-6ae0-4e72-b6eb-52596fa39c0f ]] \r\n",
       "E7 - -||> E3 [[psysml:6e6cfa00-bc1f-4d19-92ba-1126ed543e13 ]] \r\n",
       "E6 *- - E7 [[psysml:3d476d3d-b46e-46da-94ef-54f71581d8bd ]] \r\n",
       "}\r\n",
       "@enduml\r\n",
       "\n",
       "PlantUML version 1.2020.13(Sat Jun 13 12:26:38 UTC 2020)\n",
       "(EPL source distribution)\n",
       "Java Runtime: OpenJDK Runtime Environment\n",
       "JVM: OpenJDK 64-Bit Server VM\n",
       "Default Encoding: UTF-8\n",
       "Language: en\n",
       "Country: null\n",
       "--></g></svg>"
      ]
     },
     "execution_count": 49,
     "metadata": {},
     "output_type": "execute_result"
    }
   ],
   "source": [
    "%viz --style=\"TB\" --view=\"Sequence\" \"ConnectionTest\""
   ]
  },
  {
   "cell_type": "code",
   "execution_count": 50,
   "id": "equal-renaissance",
   "metadata": {
    "execution": {
     "iopub.execute_input": "2021-03-25T13:50:07.491305Z",
     "iopub.status.busy": "2021-03-25T13:50:07.490580Z",
     "iopub.status.idle": "2021-03-25T13:50:07.555728Z",
     "shell.execute_reply": "2021-03-25T13:50:07.554376Z"
    }
   },
   "outputs": [
    {
     "data": {
      "image/svg+xml": [
       "<?xml version=\"1.0\" encoding=\"UTF-8\" standalone=\"no\"?><svg xmlns=\"http://www.w3.org/2000/svg\" xmlns:xlink=\"http://www.w3.org/1999/xlink\" contentScriptType=\"application/ecmascript\" contentStyleType=\"text/css\" height=\"433px\" preserveAspectRatio=\"none\" style=\"width:189px;height:433px;\" version=\"1.1\" viewBox=\"0 0 189 433\" width=\"189px\" zoomAndPan=\"magnify\"><defs/><g><!--MD5=[fbc87193dbaf4d95561dea2c320d4a47]\n",
       "cluster E1--><a href=\"psysml:1fa0c0c0-6c41-491a-9601-36d7e4e40543\" target=\"_top\" title=\"psysml:1fa0c0c0-6c41-491a-9601-36d7e4e40543\" xlink:actuate=\"onRequest\" xlink:href=\"psysml:1fa0c0c0-6c41-491a-9601-36d7e4e40543\" xlink:show=\"new\" xlink:title=\"psysml:1fa0c0c0-6c41-491a-9601-36d7e4e40543\" xlink:type=\"simple\"><polygon fill=\"#FFFFFF\" points=\"16,6,147,6,154,28.2969,167,28.2969,167,421,16,421,16,6\" style=\"stroke: #000000; stroke-width: 1.5;\"/><line style=\"stroke: #000000; stroke-width: 1.5;\" x1=\"16\" x2=\"154\" y1=\"28.2969\" y2=\"28.2969\"/><text fill=\"#000000\" font-family=\"sans-serif\" font-size=\"14\" font-weight=\"bold\" lengthAdjust=\"spacingAndGlyphs\" textLength=\"125\" x=\"20\" y=\"20.9951\">ConnectionTest</text></a><!--MD5=[b4997ac47864f28c2f74865a473b2911]\n",
       "class E2--><a href=\"psysml:5f85cf43-367b-49d0-8c6e-b9320e7aab66\" target=\"_top\" title=\"psysml:5f85cf43-367b-49d0-8c6e-b9320e7aab66\" xlink:actuate=\"onRequest\" xlink:href=\"psysml:5f85cf43-367b-49d0-8c6e-b9320e7aab66\" xlink:show=\"new\" xlink:title=\"psysml:5f85cf43-367b-49d0-8c6e-b9320e7aab66\" xlink:type=\"simple\"><rect fill=\"#FFFFFF\" height=\"45.9375\" id=\"E2\" rx=\"10\" ry=\"10\" style=\"stroke: #383838; stroke-width: 1.5;\" width=\"42\" x=\"32\" y=\"253\"/><text fill=\"#000000\" font-family=\"sans-serif\" font-size=\"12\" font-style=\"italic\" lengthAdjust=\"spacingAndGlyphs\" textLength=\"40\" x=\"33\" y=\"269.1387\">«part»</text><text fill=\"#000000\" font-family=\"sans-serif\" font-size=\"12\" lengthAdjust=\"spacingAndGlyphs\" textLength=\"8\" x=\"49\" y=\"283.1074\">p</text><line style=\"stroke: #383838; stroke-width: 1.5;\" x1=\"33\" x2=\"73\" y1=\"290.9375\" y2=\"290.9375\"/></a><!--MD5=[09b614a08d8cba4a07c9adeb5e0fee81]\n",
       "class E3--><a href=\"psysml:03220e95-b237-4532-8361-eb1844ca39e9\" target=\"_top\" title=\"psysml:03220e95-b237-4532-8361-eb1844ca39e9\" xlink:actuate=\"onRequest\" xlink:href=\"psysml:03220e95-b237-4532-8361-eb1844ca39e9\" xlink:show=\"new\" xlink:title=\"psysml:03220e95-b237-4532-8361-eb1844ca39e9\" xlink:type=\"simple\"><rect fill=\"#FFFFFF\" height=\"45.9375\" id=\"E3\" rx=\"10\" ry=\"10\" style=\"stroke: #383838; stroke-width: 1.5;\" width=\"42\" x=\"70\" y=\"359\"/><text fill=\"#000000\" font-family=\"sans-serif\" font-size=\"12\" font-style=\"italic\" lengthAdjust=\"spacingAndGlyphs\" textLength=\"40\" x=\"71\" y=\"375.1387\">«part»</text><text fill=\"#000000\" font-family=\"sans-serif\" font-size=\"12\" lengthAdjust=\"spacingAndGlyphs\" textLength=\"6\" x=\"88\" y=\"389.1074\">x</text><line style=\"stroke: #383838; stroke-width: 1.5;\" x1=\"71\" x2=\"111\" y1=\"396.9375\" y2=\"396.9375\"/></a><!--MD5=[ebbe1d658d1005bcc118a6aa81145e00]\n",
       "class E4--><a href=\"psysml:deb35dd4-2c3a-4fce-b73d-f2bc7012e274\" target=\"_top\" title=\"psysml:deb35dd4-2c3a-4fce-b73d-f2bc7012e274\" xlink:actuate=\"onRequest\" xlink:href=\"psysml:deb35dd4-2c3a-4fce-b73d-f2bc7012e274\" xlink:show=\"new\" xlink:title=\"psysml:deb35dd4-2c3a-4fce-b73d-f2bc7012e274\" xlink:type=\"simple\"><rect fill=\"#FFFFFF\" height=\"45.9375\" id=\"E4\" style=\"stroke: #383838; stroke-width: 1.5;\" width=\"66\" x=\"58\" y=\"41\"/><text fill=\"#000000\" font-family=\"sans-serif\" font-size=\"12\" font-style=\"italic\" lengthAdjust=\"spacingAndGlyphs\" textLength=\"64\" x=\"59\" y=\"57.1387\">«part def»</text><text fill=\"#000000\" font-family=\"sans-serif\" font-size=\"12\" lengthAdjust=\"spacingAndGlyphs\" textLength=\"8\" x=\"87\" y=\"71.1074\">P</text><line style=\"stroke: #383838; stroke-width: 1.5;\" x1=\"59\" x2=\"123\" y1=\"78.9375\" y2=\"78.9375\"/></a><!--MD5=[270fce915f116d4de14055a7c1d9a0f3]\n",
       "class E5--><a href=\"psysml:021693d6-d6d0-45d3-85e9-0e056c3c99ea\" target=\"_top\" title=\"psysml:021693d6-d6d0-45d3-85e9-0e056c3c99ea\" xlink:actuate=\"onRequest\" xlink:href=\"psysml:021693d6-d6d0-45d3-85e9-0e056c3c99ea\" xlink:show=\"new\" xlink:title=\"psysml:021693d6-d6d0-45d3-85e9-0e056c3c99ea\" xlink:type=\"simple\"><rect fill=\"#FFFFFF\" height=\"45.9375\" id=\"E5\" rx=\"10\" ry=\"10\" style=\"stroke: #383838; stroke-width: 1.5;\" width=\"42\" x=\"32\" y=\"147\"/><text fill=\"#000000\" font-family=\"sans-serif\" font-size=\"12\" font-style=\"italic\" lengthAdjust=\"spacingAndGlyphs\" textLength=\"40\" x=\"33\" y=\"163.1387\">«part»</text><text fill=\"#000000\" font-family=\"sans-serif\" font-size=\"12\" lengthAdjust=\"spacingAndGlyphs\" textLength=\"6\" x=\"50\" y=\"177.1074\">y</text><line style=\"stroke: #383838; stroke-width: 1.5;\" x1=\"33\" x2=\"73\" y1=\"184.9375\" y2=\"184.9375\"/></a><!--MD5=[60a26617385b1d2d0262a64233df1f8d]\n",
       "class E6--><a href=\"psysml:48ad0273-6ae0-4e72-b6eb-52596fa39c0f\" target=\"_top\" title=\"psysml:48ad0273-6ae0-4e72-b6eb-52596fa39c0f\" xlink:actuate=\"onRequest\" xlink:href=\"psysml:48ad0273-6ae0-4e72-b6eb-52596fa39c0f\" xlink:show=\"new\" xlink:title=\"psysml:48ad0273-6ae0-4e72-b6eb-52596fa39c0f\" xlink:type=\"simple\"><rect fill=\"#FFFFFF\" height=\"45.9375\" id=\"E6\" rx=\"10\" ry=\"10\" style=\"stroke: #383838; stroke-width: 1.5;\" width=\"42\" x=\"109\" y=\"147\"/><text fill=\"#000000\" font-family=\"sans-serif\" font-size=\"12\" font-style=\"italic\" lengthAdjust=\"spacingAndGlyphs\" textLength=\"40\" x=\"110\" y=\"163.1387\">«part»</text><text fill=\"#000000\" font-family=\"sans-serif\" font-size=\"12\" lengthAdjust=\"spacingAndGlyphs\" textLength=\"16\" x=\"122\" y=\"177.1074\">p1</text><line style=\"stroke: #383838; stroke-width: 1.5;\" x1=\"110\" x2=\"150\" y1=\"184.9375\" y2=\"184.9375\"/></a><!--MD5=[2156ba9850f5573cc1fc38a6a4b2f02b]\n",
       "class E7--><a href=\"psysml:3d476d3d-b46e-46da-94ef-54f71581d8bd\" target=\"_top\" title=\"psysml:3d476d3d-b46e-46da-94ef-54f71581d8bd\" xlink:actuate=\"onRequest\" xlink:href=\"psysml:3d476d3d-b46e-46da-94ef-54f71581d8bd\" xlink:show=\"new\" xlink:title=\"psysml:3d476d3d-b46e-46da-94ef-54f71581d8bd\" xlink:type=\"simple\"><rect fill=\"#FFFFFF\" height=\"45.9375\" id=\"E7\" rx=\"10\" ry=\"10\" style=\"stroke: #383838; stroke-width: 1.5;\" width=\"42\" x=\"109\" y=\"253\"/><text fill=\"#000000\" font-family=\"sans-serif\" font-size=\"12\" font-style=\"italic\" lengthAdjust=\"spacingAndGlyphs\" textLength=\"40\" x=\"110\" y=\"269.1387\">«part»</text><text fill=\"#000000\" font-family=\"sans-serif\" font-size=\"12\" lengthAdjust=\"spacingAndGlyphs\" textLength=\"6\" x=\"127\" y=\"283.1074\">x</text><line style=\"stroke: #383838; stroke-width: 1.5;\" x1=\"110\" x2=\"150\" y1=\"290.9375\" y2=\"290.9375\"/></a><!--MD5=[209b3feb70ccb6233bfe1053d122c12c]\n",
       "reverse link E2 to E3--><a href=\"psysml:03220e95-b237-4532-8361-eb1844ca39e9\" target=\"_top\" title=\"psysml:03220e95-b237-4532-8361-eb1844ca39e9\" xlink:actuate=\"onRequest\" xlink:href=\"psysml:03220e95-b237-4532-8361-eb1844ca39e9\" xlink:show=\"new\" xlink:title=\"psysml:03220e95-b237-4532-8361-eb1844ca39e9\" xlink:type=\"simple\"><path d=\"M65.6,311.49 C71.32,327.15 77.92,345.19 82.95,358.98 \" fill=\"none\" id=\"E2&lt;-E3\" style=\"stroke: #383838; stroke-width: 1.0;\"/><polygon fill=\"#383838\" points=\"61.06,299.06,59.3691,306.07,65.1895,310.3271,66.8804,303.317,61.06,299.06\" style=\"stroke: #383838; stroke-width: 1.0;\"/></a><!--MD5=[62aa6af11e70f752912c1cb0466f24f7]\n",
       "reverse link E4 to E5--><a href=\"psysml:021693d6-d6d0-45d3-85e9-0e056c3c99ea\" target=\"_top\" title=\"psysml:021693d6-d6d0-45d3-85e9-0e056c3c99ea\" xlink:actuate=\"onRequest\" xlink:href=\"psysml:021693d6-d6d0-45d3-85e9-0e056c3c99ea\" xlink:show=\"new\" xlink:title=\"psysml:021693d6-d6d0-45d3-85e9-0e056c3c99ea\" xlink:type=\"simple\"><path d=\"M78.4,99.49 C72.68,115.15 66.08,133.19 61.05,146.98 \" fill=\"none\" id=\"E4&lt;-E5\" style=\"stroke: #383838; stroke-width: 1.0;\"/><polygon fill=\"#383838\" points=\"82.94,87.06,77.1196,91.317,78.8105,98.3271,84.6309,94.07,82.94,87.06\" style=\"stroke: #383838; stroke-width: 1.0;\"/></a><!--MD5=[2351f337d6de0f557b50152ba70847b5]\n",
       "link E6 to E2--><a href=\"psysml:9890fb32-dc37-43db-abbc-6177a2056fad\" target=\"_top\" title=\"psysml:9890fb32-dc37-43db-abbc-6177a2056fad\" xlink:actuate=\"onRequest\" xlink:href=\"psysml:9890fb32-dc37-43db-abbc-6177a2056fad\" xlink:show=\"new\" xlink:title=\"psysml:9890fb32-dc37-43db-abbc-6177a2056fad\" xlink:type=\"simple\"><path d=\"M113.67,193.06 C104.28,205.74 92.22,222.03 81.32,236.74 \" fill=\"none\" id=\"E6-&gt;E2\" style=\"stroke: #383838; stroke-width: 1.0;\"/><polygon fill=\"none\" points=\"86.83,241.07,69.31,252.98,75.58,232.74,86.83,241.07\" style=\"stroke: #383838; stroke-width: 1.0;\"/></a><!--MD5=[6db378b65e1aef66a01cb3103812b399]\n",
       "reverse link E4 to E6--><a href=\"psysml:48ad0273-6ae0-4e72-b6eb-52596fa39c0f\" target=\"_top\" title=\"psysml:48ad0273-6ae0-4e72-b6eb-52596fa39c0f\" xlink:actuate=\"onRequest\" xlink:href=\"psysml:48ad0273-6ae0-4e72-b6eb-52596fa39c0f\" xlink:show=\"new\" xlink:title=\"psysml:48ad0273-6ae0-4e72-b6eb-52596fa39c0f\" xlink:type=\"simple\"><path d=\"M103.94,99.49 C109.8,115.15 116.57,133.19 121.74,146.98 \" fill=\"none\" id=\"E4&lt;-E6\" style=\"stroke: #383838; stroke-width: 1.0;\"/><polygon fill=\"#383838\" points=\"99.27,87.06,97.635,94.0833,103.4893,98.2938,105.1242,91.2705,99.27,87.06\" style=\"stroke: #383838; stroke-width: 1.0;\"/></a><!--MD5=[14ccda38c055a5c0da953d572bc50960]\n",
       "link E7 to E3--><a href=\"psysml:6e6cfa00-bc1f-4d19-92ba-1126ed543e13\" target=\"_top\" title=\"psysml:6e6cfa00-bc1f-4d19-92ba-1126ed543e13\" xlink:actuate=\"onRequest\" xlink:href=\"psysml:6e6cfa00-bc1f-4d19-92ba-1126ed543e13\" xlink:show=\"new\" xlink:title=\"psysml:6e6cfa00-bc1f-4d19-92ba-1126ed543e13\" xlink:type=\"simple\"><path d=\"M121.73,299.06 C117.28,310.91 111.65,325.92 106.43,339.85 \" fill=\"none\" id=\"E7-&gt;E3\" style=\"stroke: #383838; stroke-width: 1.0;\"/><polygon fill=\"#FFFFFF\" points=\"99.26,358.98,99.3821,338.7319,112.4895,343.6509,99.26,358.98\" style=\"stroke: #383838; stroke-width: 1.0;\"/><line style=\"stroke: #383838; stroke-width: 2.0;\" x1=\"100.7173\" x2=\"113.8247\" y1=\"335.1742\" y2=\"340.0932\"/></a><!--MD5=[3f50a3473f1dfb74d3f76443e03635af]\n",
       "reverse link E6 to E7--><a href=\"psysml:3d476d3d-b46e-46da-94ef-54f71581d8bd\" target=\"_top\" title=\"psysml:3d476d3d-b46e-46da-94ef-54f71581d8bd\" xlink:actuate=\"onRequest\" xlink:href=\"psysml:3d476d3d-b46e-46da-94ef-54f71581d8bd\" xlink:show=\"new\" xlink:title=\"psysml:3d476d3d-b46e-46da-94ef-54f71581d8bd\" xlink:type=\"simple\"><path d=\"M130,206.44 C130,221.87 130,239.47 130,252.98 \" fill=\"none\" id=\"E6&lt;-E7\" style=\"stroke: #383838; stroke-width: 1.0;\"/><polygon fill=\"#383838\" points=\"130,193.06,126,199.06,130,205.06,134,199.06,130,193.06\" style=\"stroke: #383838; stroke-width: 1.0;\"/></a><!--MD5=[19844791d2b69c409ff6e4b3c268d291]\n",
       "@startuml\r\n",
       "top to bottom direction\r\n",
       "skinparam monochrome true\r\n",
       "skinparam classbackgroundcolor white\r\n",
       "skinparam shadowing false\r\n",
       "skinparam wrapWidth 300\r\n",
       "hide circle\r\n",
       "\r\n",
       "package \"ConnectionTest\" as E1  [[psysml:1fa0c0c0-6c41-491a-9601-36d7e4e40543 ]]  {\r\n",
       "comp usage \"p\" as E2  <<(T,blue)part>> [[psysml:5f85cf43-367b-49d0-8c6e-b9320e7aab66 ]] {\r\n",
       "}\r\n",
       "comp usage \"x\" as E3  <<(T,blue)part>> [[psysml:03220e95-b237-4532-8361-eb1844ca39e9 ]] {\r\n",
       "}\r\n",
       "comp def \"P\" as E4  <<(T,blue)part def>> [[psysml:deb35dd4-2c3a-4fce-b73d-f2bc7012e274 ]] {\r\n",
       "}\r\n",
       "comp usage \"y\" as E5  <<(T,blue)part>> [[psysml:021693d6-d6d0-45d3-85e9-0e056c3c99ea ]] {\r\n",
       "}\r\n",
       "comp usage \"p1\" as E6  <<(T,blue)part>> [[psysml:48ad0273-6ae0-4e72-b6eb-52596fa39c0f ]] {\r\n",
       "}\r\n",
       "comp usage \"x\" as E7  <<(T,blue)part>> [[psysml:3d476d3d-b46e-46da-94ef-54f71581d8bd ]] {\r\n",
       "}\r\n",
       "E2 *- - E3 [[psysml:03220e95-b237-4532-8361-eb1844ca39e9 ]] \r\n",
       "E4 *- - E5 [[psysml:021693d6-d6d0-45d3-85e9-0e056c3c99ea ]] \r\n",
       "E6 - -|> E2 [[psysml:9890fb32-dc37-43db-abbc-6177a2056fad ]] \r\n",
       "E4 *- - E6 [[psysml:48ad0273-6ae0-4e72-b6eb-52596fa39c0f ]] \r\n",
       "E7 - -||> E3 [[psysml:6e6cfa00-bc1f-4d19-92ba-1126ed543e13 ]] \r\n",
       "E6 *- - E7 [[psysml:3d476d3d-b46e-46da-94ef-54f71581d8bd ]] \r\n",
       "}\r\n",
       "@enduml\r\n",
       "\n",
       "PlantUML version 1.2020.13(Sat Jun 13 12:26:38 UTC 2020)\n",
       "(EPL source distribution)\n",
       "Java Runtime: OpenJDK Runtime Environment\n",
       "JVM: OpenJDK 64-Bit Server VM\n",
       "Default Encoding: UTF-8\n",
       "Language: en\n",
       "Country: null\n",
       "--></g></svg>"
      ]
     },
     "execution_count": 50,
     "metadata": {},
     "output_type": "execute_result"
    }
   ],
   "source": [
    "%viz --style=\"TB\" --view=\"MIXED\" \"ConnectionTest\""
   ]
  },
  {
   "cell_type": "code",
   "execution_count": 51,
   "id": "reduced-coordinator",
   "metadata": {
    "execution": {
     "iopub.execute_input": "2021-03-25T13:50:07.606456Z",
     "iopub.status.busy": "2021-03-25T13:50:07.605738Z",
     "iopub.status.idle": "2021-03-25T13:50:07.675399Z",
     "shell.execute_reply": "2021-03-25T13:50:07.673866Z"
    }
   },
   "outputs": [
    {
     "data": {
      "image/svg+xml": [
       "<?xml version=\"1.0\" encoding=\"UTF-8\" standalone=\"no\"?><svg xmlns=\"http://www.w3.org/2000/svg\" xmlns:xlink=\"http://www.w3.org/1999/xlink\" contentScriptType=\"application/ecmascript\" contentStyleType=\"text/css\" height=\"433px\" preserveAspectRatio=\"none\" style=\"width:189px;height:433px;\" version=\"1.1\" viewBox=\"0 0 189 433\" width=\"189px\" zoomAndPan=\"magnify\"><defs/><g><!--MD5=[fbc87193dbaf4d95561dea2c320d4a47]\n",
       "cluster E1--><a href=\"psysml:1fa0c0c0-6c41-491a-9601-36d7e4e40543\" target=\"_top\" title=\"psysml:1fa0c0c0-6c41-491a-9601-36d7e4e40543\" xlink:actuate=\"onRequest\" xlink:href=\"psysml:1fa0c0c0-6c41-491a-9601-36d7e4e40543\" xlink:show=\"new\" xlink:title=\"psysml:1fa0c0c0-6c41-491a-9601-36d7e4e40543\" xlink:type=\"simple\"><polygon fill=\"#FFFFFF\" points=\"16,6,147,6,154,28.2969,167,28.2969,167,421,16,421,16,6\" style=\"stroke: #000000; stroke-width: 1.5;\"/><line style=\"stroke: #000000; stroke-width: 1.5;\" x1=\"16\" x2=\"154\" y1=\"28.2969\" y2=\"28.2969\"/><text fill=\"#000000\" font-family=\"sans-serif\" font-size=\"14\" font-weight=\"bold\" lengthAdjust=\"spacingAndGlyphs\" textLength=\"125\" x=\"20\" y=\"20.9951\">ConnectionTest</text></a><!--MD5=[b4997ac47864f28c2f74865a473b2911]\n",
       "class E2--><a href=\"psysml:5f85cf43-367b-49d0-8c6e-b9320e7aab66\" target=\"_top\" title=\"psysml:5f85cf43-367b-49d0-8c6e-b9320e7aab66\" xlink:actuate=\"onRequest\" xlink:href=\"psysml:5f85cf43-367b-49d0-8c6e-b9320e7aab66\" xlink:show=\"new\" xlink:title=\"psysml:5f85cf43-367b-49d0-8c6e-b9320e7aab66\" xlink:type=\"simple\"><rect fill=\"#FFFFFF\" height=\"45.9375\" id=\"E2\" rx=\"10\" ry=\"10\" style=\"stroke: #383838; stroke-width: 1.5;\" width=\"42\" x=\"32\" y=\"253\"/><text fill=\"#000000\" font-family=\"sans-serif\" font-size=\"12\" font-style=\"italic\" lengthAdjust=\"spacingAndGlyphs\" textLength=\"40\" x=\"33\" y=\"269.1387\">«part»</text><text fill=\"#000000\" font-family=\"sans-serif\" font-size=\"12\" lengthAdjust=\"spacingAndGlyphs\" textLength=\"8\" x=\"49\" y=\"283.1074\">p</text><line style=\"stroke: #383838; stroke-width: 1.5;\" x1=\"33\" x2=\"73\" y1=\"290.9375\" y2=\"290.9375\"/></a><!--MD5=[09b614a08d8cba4a07c9adeb5e0fee81]\n",
       "class E3--><a href=\"psysml:03220e95-b237-4532-8361-eb1844ca39e9\" target=\"_top\" title=\"psysml:03220e95-b237-4532-8361-eb1844ca39e9\" xlink:actuate=\"onRequest\" xlink:href=\"psysml:03220e95-b237-4532-8361-eb1844ca39e9\" xlink:show=\"new\" xlink:title=\"psysml:03220e95-b237-4532-8361-eb1844ca39e9\" xlink:type=\"simple\"><rect fill=\"#FFFFFF\" height=\"45.9375\" id=\"E3\" rx=\"10\" ry=\"10\" style=\"stroke: #383838; stroke-width: 1.5;\" width=\"42\" x=\"70\" y=\"359\"/><text fill=\"#000000\" font-family=\"sans-serif\" font-size=\"12\" font-style=\"italic\" lengthAdjust=\"spacingAndGlyphs\" textLength=\"40\" x=\"71\" y=\"375.1387\">«part»</text><text fill=\"#000000\" font-family=\"sans-serif\" font-size=\"12\" lengthAdjust=\"spacingAndGlyphs\" textLength=\"6\" x=\"88\" y=\"389.1074\">x</text><line style=\"stroke: #383838; stroke-width: 1.5;\" x1=\"71\" x2=\"111\" y1=\"396.9375\" y2=\"396.9375\"/></a><!--MD5=[ebbe1d658d1005bcc118a6aa81145e00]\n",
       "class E4--><a href=\"psysml:deb35dd4-2c3a-4fce-b73d-f2bc7012e274\" target=\"_top\" title=\"psysml:deb35dd4-2c3a-4fce-b73d-f2bc7012e274\" xlink:actuate=\"onRequest\" xlink:href=\"psysml:deb35dd4-2c3a-4fce-b73d-f2bc7012e274\" xlink:show=\"new\" xlink:title=\"psysml:deb35dd4-2c3a-4fce-b73d-f2bc7012e274\" xlink:type=\"simple\"><rect fill=\"#FFFFFF\" height=\"45.9375\" id=\"E4\" style=\"stroke: #383838; stroke-width: 1.5;\" width=\"66\" x=\"58\" y=\"41\"/><text fill=\"#000000\" font-family=\"sans-serif\" font-size=\"12\" font-style=\"italic\" lengthAdjust=\"spacingAndGlyphs\" textLength=\"64\" x=\"59\" y=\"57.1387\">«part def»</text><text fill=\"#000000\" font-family=\"sans-serif\" font-size=\"12\" lengthAdjust=\"spacingAndGlyphs\" textLength=\"8\" x=\"87\" y=\"71.1074\">P</text><line style=\"stroke: #383838; stroke-width: 1.5;\" x1=\"59\" x2=\"123\" y1=\"78.9375\" y2=\"78.9375\"/></a><!--MD5=[270fce915f116d4de14055a7c1d9a0f3]\n",
       "class E5--><a href=\"psysml:021693d6-d6d0-45d3-85e9-0e056c3c99ea\" target=\"_top\" title=\"psysml:021693d6-d6d0-45d3-85e9-0e056c3c99ea\" xlink:actuate=\"onRequest\" xlink:href=\"psysml:021693d6-d6d0-45d3-85e9-0e056c3c99ea\" xlink:show=\"new\" xlink:title=\"psysml:021693d6-d6d0-45d3-85e9-0e056c3c99ea\" xlink:type=\"simple\"><rect fill=\"#FFFFFF\" height=\"45.9375\" id=\"E5\" rx=\"10\" ry=\"10\" style=\"stroke: #383838; stroke-width: 1.5;\" width=\"42\" x=\"32\" y=\"147\"/><text fill=\"#000000\" font-family=\"sans-serif\" font-size=\"12\" font-style=\"italic\" lengthAdjust=\"spacingAndGlyphs\" textLength=\"40\" x=\"33\" y=\"163.1387\">«part»</text><text fill=\"#000000\" font-family=\"sans-serif\" font-size=\"12\" lengthAdjust=\"spacingAndGlyphs\" textLength=\"6\" x=\"50\" y=\"177.1074\">y</text><line style=\"stroke: #383838; stroke-width: 1.5;\" x1=\"33\" x2=\"73\" y1=\"184.9375\" y2=\"184.9375\"/></a><!--MD5=[60a26617385b1d2d0262a64233df1f8d]\n",
       "class E6--><a href=\"psysml:48ad0273-6ae0-4e72-b6eb-52596fa39c0f\" target=\"_top\" title=\"psysml:48ad0273-6ae0-4e72-b6eb-52596fa39c0f\" xlink:actuate=\"onRequest\" xlink:href=\"psysml:48ad0273-6ae0-4e72-b6eb-52596fa39c0f\" xlink:show=\"new\" xlink:title=\"psysml:48ad0273-6ae0-4e72-b6eb-52596fa39c0f\" xlink:type=\"simple\"><rect fill=\"#FFFFFF\" height=\"45.9375\" id=\"E6\" rx=\"10\" ry=\"10\" style=\"stroke: #383838; stroke-width: 1.5;\" width=\"42\" x=\"109\" y=\"147\"/><text fill=\"#000000\" font-family=\"sans-serif\" font-size=\"12\" font-style=\"italic\" lengthAdjust=\"spacingAndGlyphs\" textLength=\"40\" x=\"110\" y=\"163.1387\">«part»</text><text fill=\"#000000\" font-family=\"sans-serif\" font-size=\"12\" lengthAdjust=\"spacingAndGlyphs\" textLength=\"16\" x=\"122\" y=\"177.1074\">p1</text><line style=\"stroke: #383838; stroke-width: 1.5;\" x1=\"110\" x2=\"150\" y1=\"184.9375\" y2=\"184.9375\"/></a><!--MD5=[2156ba9850f5573cc1fc38a6a4b2f02b]\n",
       "class E7--><a href=\"psysml:3d476d3d-b46e-46da-94ef-54f71581d8bd\" target=\"_top\" title=\"psysml:3d476d3d-b46e-46da-94ef-54f71581d8bd\" xlink:actuate=\"onRequest\" xlink:href=\"psysml:3d476d3d-b46e-46da-94ef-54f71581d8bd\" xlink:show=\"new\" xlink:title=\"psysml:3d476d3d-b46e-46da-94ef-54f71581d8bd\" xlink:type=\"simple\"><rect fill=\"#FFFFFF\" height=\"45.9375\" id=\"E7\" rx=\"10\" ry=\"10\" style=\"stroke: #383838; stroke-width: 1.5;\" width=\"42\" x=\"109\" y=\"253\"/><text fill=\"#000000\" font-family=\"sans-serif\" font-size=\"12\" font-style=\"italic\" lengthAdjust=\"spacingAndGlyphs\" textLength=\"40\" x=\"110\" y=\"269.1387\">«part»</text><text fill=\"#000000\" font-family=\"sans-serif\" font-size=\"12\" lengthAdjust=\"spacingAndGlyphs\" textLength=\"6\" x=\"127\" y=\"283.1074\">x</text><line style=\"stroke: #383838; stroke-width: 1.5;\" x1=\"110\" x2=\"150\" y1=\"290.9375\" y2=\"290.9375\"/></a><!--MD5=[209b3feb70ccb6233bfe1053d122c12c]\n",
       "reverse link E2 to E3--><a href=\"psysml:03220e95-b237-4532-8361-eb1844ca39e9\" target=\"_top\" title=\"psysml:03220e95-b237-4532-8361-eb1844ca39e9\" xlink:actuate=\"onRequest\" xlink:href=\"psysml:03220e95-b237-4532-8361-eb1844ca39e9\" xlink:show=\"new\" xlink:title=\"psysml:03220e95-b237-4532-8361-eb1844ca39e9\" xlink:type=\"simple\"><path d=\"M84.52,284 C84.52,284 85.67,284 85.67,284 C85.67,284 85.67,329.8 85.67,358.78 \" fill=\"none\" id=\"E2&lt;-E3\" style=\"stroke: #383838; stroke-width: 1.0;\"/><polygon fill=\"#383838\" points=\"74.24,284,80.24,288,86.24,284,80.24,280,74.24,284\" style=\"stroke: #383838; stroke-width: 1.0;\"/></a><!--MD5=[62aa6af11e70f752912c1cb0466f24f7]\n",
       "reverse link E4 to E5--><a href=\"psysml:021693d6-d6d0-45d3-85e9-0e056c3c99ea\" target=\"_top\" title=\"psysml:021693d6-d6d0-45d3-85e9-0e056c3c99ea\" xlink:actuate=\"onRequest\" xlink:href=\"psysml:021693d6-d6d0-45d3-85e9-0e056c3c99ea\" xlink:show=\"new\" xlink:title=\"psysml:021693d6-d6d0-45d3-85e9-0e056c3c99ea\" xlink:type=\"simple\"><path d=\"M66,100 C66,100 66,146.68 66,146.68 \" fill=\"none\" id=\"E4&lt;-E5\" style=\"stroke: #383838; stroke-width: 1.0;\"/><polygon fill=\"#383838\" points=\"66,87,62,93,66,99,70,93,66,87\" style=\"stroke: #383838; stroke-width: 1.0;\"/></a><!--MD5=[2351f337d6de0f557b50152ba70847b5]\n",
       "link E6 to E2--><a href=\"psysml:9890fb32-dc37-43db-abbc-6177a2056fad\" target=\"_top\" title=\"psysml:9890fb32-dc37-43db-abbc-6177a2056fad\" xlink:actuate=\"onRequest\" xlink:href=\"psysml:9890fb32-dc37-43db-abbc-6177a2056fad\" xlink:show=\"new\" xlink:title=\"psysml:9890fb32-dc37-43db-abbc-6177a2056fad\" xlink:type=\"simple\"><path d=\"M123,193.09 C123,207.37 123,223 123,223 C123,223 53,223 53,223 C53,223 53,232.91 53,232.91 \" fill=\"none\" id=\"E6-&gt;E2\" style=\"stroke: #383838; stroke-width: 1.0;\"/><polygon fill=\"none\" points=\"60,232.91,53,252.91,46,232.91,60,232.91\" style=\"stroke: #383838; stroke-width: 1.0;\"/></a><!--MD5=[6db378b65e1aef66a01cb3103812b399]\n",
       "reverse link E4 to E6--><a href=\"psysml:48ad0273-6ae0-4e72-b6eb-52596fa39c0f\" target=\"_top\" title=\"psysml:48ad0273-6ae0-4e72-b6eb-52596fa39c0f\" xlink:actuate=\"onRequest\" xlink:href=\"psysml:48ad0273-6ae0-4e72-b6eb-52596fa39c0f\" xlink:show=\"new\" xlink:title=\"psysml:48ad0273-6ae0-4e72-b6eb-52596fa39c0f\" xlink:type=\"simple\"><path d=\"M116.5,100 C116.5,100 116.5,146.68 116.5,146.68 \" fill=\"none\" id=\"E4&lt;-E6\" style=\"stroke: #383838; stroke-width: 1.0;\"/><polygon fill=\"#383838\" points=\"116.5,87,112.5,93,116.5,99,120.5,93,116.5,87\" style=\"stroke: #383838; stroke-width: 1.0;\"/></a><!--MD5=[14ccda38c055a5c0da953d572bc50960]\n",
       "link E7 to E3--><a href=\"psysml:6e6cfa00-bc1f-4d19-92ba-1126ed543e13\" target=\"_top\" title=\"psysml:6e6cfa00-bc1f-4d19-92ba-1126ed543e13\" xlink:actuate=\"onRequest\" xlink:href=\"psysml:6e6cfa00-bc1f-4d19-92ba-1126ed543e13\" xlink:show=\"new\" xlink:title=\"psysml:6e6cfa00-bc1f-4d19-92ba-1126ed543e13\" xlink:type=\"simple\"><path d=\"M108.76,269 C102.52,269 97.33,269 97.33,269 C97.33,269 97.33,338.86 97.33,338.86 \" fill=\"none\" id=\"E7-&gt;E3\" style=\"stroke: #383838; stroke-width: 1.0;\"/><polygon fill=\"#FFFFFF\" points=\"97.33,358.86,90.33,339.86,104.33,339.86,97.33,358.86\" style=\"stroke: #383838; stroke-width: 1.0;\"/><line style=\"stroke: #383838; stroke-width: 2.0;\" x1=\"90.33\" x2=\"104.33\" y1=\"336.06\" y2=\"336.06\"/></a><!--MD5=[3f50a3473f1dfb74d3f76443e03635af]\n",
       "reverse link E6 to E7--><a href=\"psysml:3d476d3d-b46e-46da-94ef-54f71581d8bd\" target=\"_top\" title=\"psysml:3d476d3d-b46e-46da-94ef-54f71581d8bd\" xlink:actuate=\"onRequest\" xlink:href=\"psysml:3d476d3d-b46e-46da-94ef-54f71581d8bd\" xlink:show=\"new\" xlink:title=\"psysml:3d476d3d-b46e-46da-94ef-54f71581d8bd\" xlink:type=\"simple\"><path d=\"M137,206 C137,206 137,252.68 137,252.68 \" fill=\"none\" id=\"E6&lt;-E7\" style=\"stroke: #383838; stroke-width: 1.0;\"/><polygon fill=\"#383838\" points=\"137,193,133,199,137,205,141,199,137,193\" style=\"stroke: #383838; stroke-width: 1.0;\"/></a><!--MD5=[dc7e10c8d8ed82a3530f00137f07979e]\n",
       "@startuml\r\n",
       "skinparam linetype ortho\r\n",
       "skinparam monochrome true\r\n",
       "skinparam classbackgroundcolor white\r\n",
       "skinparam shadowing false\r\n",
       "skinparam wrapWidth 300\r\n",
       "hide circle\r\n",
       "\r\n",
       "package \"ConnectionTest\" as E1  [[psysml:1fa0c0c0-6c41-491a-9601-36d7e4e40543 ]]  {\r\n",
       "comp usage \"p\" as E2  <<(T,blue)part>> [[psysml:5f85cf43-367b-49d0-8c6e-b9320e7aab66 ]] {\r\n",
       "}\r\n",
       "comp usage \"x\" as E3  <<(T,blue)part>> [[psysml:03220e95-b237-4532-8361-eb1844ca39e9 ]] {\r\n",
       "}\r\n",
       "comp def \"P\" as E4  <<(T,blue)part def>> [[psysml:deb35dd4-2c3a-4fce-b73d-f2bc7012e274 ]] {\r\n",
       "}\r\n",
       "comp usage \"y\" as E5  <<(T,blue)part>> [[psysml:021693d6-d6d0-45d3-85e9-0e056c3c99ea ]] {\r\n",
       "}\r\n",
       "comp usage \"p1\" as E6  <<(T,blue)part>> [[psysml:48ad0273-6ae0-4e72-b6eb-52596fa39c0f ]] {\r\n",
       "}\r\n",
       "comp usage \"x\" as E7  <<(T,blue)part>> [[psysml:3d476d3d-b46e-46da-94ef-54f71581d8bd ]] {\r\n",
       "}\r\n",
       "E2 *- - E3 [[psysml:03220e95-b237-4532-8361-eb1844ca39e9 ]] \r\n",
       "E4 *- - E5 [[psysml:021693d6-d6d0-45d3-85e9-0e056c3c99ea ]] \r\n",
       "E6 - -|> E2 [[psysml:9890fb32-dc37-43db-abbc-6177a2056fad ]] \r\n",
       "E4 *- - E6 [[psysml:48ad0273-6ae0-4e72-b6eb-52596fa39c0f ]] \r\n",
       "E7 - -||> E3 [[psysml:6e6cfa00-bc1f-4d19-92ba-1126ed543e13 ]] \r\n",
       "E6 *- - E7 [[psysml:3d476d3d-b46e-46da-94ef-54f71581d8bd ]] \r\n",
       "}\r\n",
       "@enduml\r\n",
       "\n",
       "PlantUML version 1.2020.13(Sat Jun 13 12:26:38 UTC 2020)\n",
       "(EPL source distribution)\n",
       "Java Runtime: OpenJDK Runtime Environment\n",
       "JVM: OpenJDK 64-Bit Server VM\n",
       "Default Encoding: UTF-8\n",
       "Language: en\n",
       "Country: null\n",
       "--></g></svg>"
      ]
     },
     "execution_count": 51,
     "metadata": {},
     "output_type": "execute_result"
    }
   ],
   "source": [
    "%viz --style=\"ORTHOLINE\" --view=\"Default\" \"ConnectionTest\""
   ]
  },
  {
   "cell_type": "code",
   "execution_count": 52,
   "id": "lightweight-broadway",
   "metadata": {
    "execution": {
     "iopub.execute_input": "2021-03-25T13:50:07.725190Z",
     "iopub.status.busy": "2021-03-25T13:50:07.724694Z",
     "iopub.status.idle": "2021-03-25T13:50:07.790377Z",
     "shell.execute_reply": "2021-03-25T13:50:07.790799Z"
    }
   },
   "outputs": [
    {
     "data": {
      "image/svg+xml": [
       "<?xml version=\"1.0\" encoding=\"UTF-8\" standalone=\"no\"?><svg xmlns=\"http://www.w3.org/2000/svg\" xmlns:xlink=\"http://www.w3.org/1999/xlink\" contentScriptType=\"application/ecmascript\" contentStyleType=\"text/css\" height=\"433px\" preserveAspectRatio=\"none\" style=\"width:189px;height:433px;\" version=\"1.1\" viewBox=\"0 0 189 433\" width=\"189px\" zoomAndPan=\"magnify\"><defs/><g><!--MD5=[fbc87193dbaf4d95561dea2c320d4a47]\n",
       "cluster E1--><a href=\"psysml:1fa0c0c0-6c41-491a-9601-36d7e4e40543\" target=\"_top\" title=\"psysml:1fa0c0c0-6c41-491a-9601-36d7e4e40543\" xlink:actuate=\"onRequest\" xlink:href=\"psysml:1fa0c0c0-6c41-491a-9601-36d7e4e40543\" xlink:show=\"new\" xlink:title=\"psysml:1fa0c0c0-6c41-491a-9601-36d7e4e40543\" xlink:type=\"simple\"><polygon fill=\"#FFFFFF\" points=\"16,6,147,6,154,28.2969,167,28.2969,167,421,16,421,16,6\" style=\"stroke: #000000; stroke-width: 1.5;\"/><line style=\"stroke: #000000; stroke-width: 1.5;\" x1=\"16\" x2=\"154\" y1=\"28.2969\" y2=\"28.2969\"/><text fill=\"#000000\" font-family=\"sans-serif\" font-size=\"14\" font-weight=\"bold\" lengthAdjust=\"spacingAndGlyphs\" textLength=\"125\" x=\"20\" y=\"20.9951\">ConnectionTest</text></a><!--MD5=[b4997ac47864f28c2f74865a473b2911]\n",
       "class E2--><a href=\"psysml:5f85cf43-367b-49d0-8c6e-b9320e7aab66\" target=\"_top\" title=\"psysml:5f85cf43-367b-49d0-8c6e-b9320e7aab66\" xlink:actuate=\"onRequest\" xlink:href=\"psysml:5f85cf43-367b-49d0-8c6e-b9320e7aab66\" xlink:show=\"new\" xlink:title=\"psysml:5f85cf43-367b-49d0-8c6e-b9320e7aab66\" xlink:type=\"simple\"><rect fill=\"#FFFFFF\" height=\"45.9375\" id=\"E2\" rx=\"10\" ry=\"10\" style=\"stroke: #383838; stroke-width: 1.5;\" width=\"42\" x=\"32\" y=\"253\"/><text fill=\"#000000\" font-family=\"sans-serif\" font-size=\"12\" font-style=\"italic\" lengthAdjust=\"spacingAndGlyphs\" textLength=\"40\" x=\"33\" y=\"269.1387\">«part»</text><text fill=\"#000000\" font-family=\"sans-serif\" font-size=\"12\" lengthAdjust=\"spacingAndGlyphs\" textLength=\"8\" x=\"49\" y=\"283.1074\">p</text><line style=\"stroke: #383838; stroke-width: 1.5;\" x1=\"33\" x2=\"73\" y1=\"290.9375\" y2=\"290.9375\"/></a><!--MD5=[09b614a08d8cba4a07c9adeb5e0fee81]\n",
       "class E3--><a href=\"psysml:03220e95-b237-4532-8361-eb1844ca39e9\" target=\"_top\" title=\"psysml:03220e95-b237-4532-8361-eb1844ca39e9\" xlink:actuate=\"onRequest\" xlink:href=\"psysml:03220e95-b237-4532-8361-eb1844ca39e9\" xlink:show=\"new\" xlink:title=\"psysml:03220e95-b237-4532-8361-eb1844ca39e9\" xlink:type=\"simple\"><rect fill=\"#FFFFFF\" height=\"45.9375\" id=\"E3\" rx=\"10\" ry=\"10\" style=\"stroke: #383838; stroke-width: 1.5;\" width=\"42\" x=\"70\" y=\"359\"/><text fill=\"#000000\" font-family=\"sans-serif\" font-size=\"12\" font-style=\"italic\" lengthAdjust=\"spacingAndGlyphs\" textLength=\"40\" x=\"71\" y=\"375.1387\">«part»</text><text fill=\"#000000\" font-family=\"sans-serif\" font-size=\"12\" lengthAdjust=\"spacingAndGlyphs\" textLength=\"6\" x=\"88\" y=\"389.1074\">x</text><line style=\"stroke: #383838; stroke-width: 1.5;\" x1=\"71\" x2=\"111\" y1=\"396.9375\" y2=\"396.9375\"/></a><!--MD5=[ebbe1d658d1005bcc118a6aa81145e00]\n",
       "class E4--><a href=\"psysml:deb35dd4-2c3a-4fce-b73d-f2bc7012e274\" target=\"_top\" title=\"psysml:deb35dd4-2c3a-4fce-b73d-f2bc7012e274\" xlink:actuate=\"onRequest\" xlink:href=\"psysml:deb35dd4-2c3a-4fce-b73d-f2bc7012e274\" xlink:show=\"new\" xlink:title=\"psysml:deb35dd4-2c3a-4fce-b73d-f2bc7012e274\" xlink:type=\"simple\"><rect fill=\"#FFFFFF\" height=\"45.9375\" id=\"E4\" style=\"stroke: #383838; stroke-width: 1.5;\" width=\"66\" x=\"58\" y=\"41\"/><text fill=\"#000000\" font-family=\"sans-serif\" font-size=\"12\" font-style=\"italic\" lengthAdjust=\"spacingAndGlyphs\" textLength=\"64\" x=\"59\" y=\"57.1387\">«part def»</text><text fill=\"#000000\" font-family=\"sans-serif\" font-size=\"12\" lengthAdjust=\"spacingAndGlyphs\" textLength=\"8\" x=\"87\" y=\"71.1074\">P</text><line style=\"stroke: #383838; stroke-width: 1.5;\" x1=\"59\" x2=\"123\" y1=\"78.9375\" y2=\"78.9375\"/></a><!--MD5=[270fce915f116d4de14055a7c1d9a0f3]\n",
       "class E5--><a href=\"psysml:021693d6-d6d0-45d3-85e9-0e056c3c99ea\" target=\"_top\" title=\"psysml:021693d6-d6d0-45d3-85e9-0e056c3c99ea\" xlink:actuate=\"onRequest\" xlink:href=\"psysml:021693d6-d6d0-45d3-85e9-0e056c3c99ea\" xlink:show=\"new\" xlink:title=\"psysml:021693d6-d6d0-45d3-85e9-0e056c3c99ea\" xlink:type=\"simple\"><rect fill=\"#FFFFFF\" height=\"45.9375\" id=\"E5\" rx=\"10\" ry=\"10\" style=\"stroke: #383838; stroke-width: 1.5;\" width=\"42\" x=\"32\" y=\"147\"/><text fill=\"#000000\" font-family=\"sans-serif\" font-size=\"12\" font-style=\"italic\" lengthAdjust=\"spacingAndGlyphs\" textLength=\"40\" x=\"33\" y=\"163.1387\">«part»</text><text fill=\"#000000\" font-family=\"sans-serif\" font-size=\"12\" lengthAdjust=\"spacingAndGlyphs\" textLength=\"6\" x=\"50\" y=\"177.1074\">y</text><line style=\"stroke: #383838; stroke-width: 1.5;\" x1=\"33\" x2=\"73\" y1=\"184.9375\" y2=\"184.9375\"/></a><!--MD5=[60a26617385b1d2d0262a64233df1f8d]\n",
       "class E6--><a href=\"psysml:48ad0273-6ae0-4e72-b6eb-52596fa39c0f\" target=\"_top\" title=\"psysml:48ad0273-6ae0-4e72-b6eb-52596fa39c0f\" xlink:actuate=\"onRequest\" xlink:href=\"psysml:48ad0273-6ae0-4e72-b6eb-52596fa39c0f\" xlink:show=\"new\" xlink:title=\"psysml:48ad0273-6ae0-4e72-b6eb-52596fa39c0f\" xlink:type=\"simple\"><rect fill=\"#FFFFFF\" height=\"45.9375\" id=\"E6\" rx=\"10\" ry=\"10\" style=\"stroke: #383838; stroke-width: 1.5;\" width=\"42\" x=\"109\" y=\"147\"/><text fill=\"#000000\" font-family=\"sans-serif\" font-size=\"12\" font-style=\"italic\" lengthAdjust=\"spacingAndGlyphs\" textLength=\"40\" x=\"110\" y=\"163.1387\">«part»</text><text fill=\"#000000\" font-family=\"sans-serif\" font-size=\"12\" lengthAdjust=\"spacingAndGlyphs\" textLength=\"16\" x=\"122\" y=\"177.1074\">p1</text><line style=\"stroke: #383838; stroke-width: 1.5;\" x1=\"110\" x2=\"150\" y1=\"184.9375\" y2=\"184.9375\"/></a><!--MD5=[2156ba9850f5573cc1fc38a6a4b2f02b]\n",
       "class E7--><a href=\"psysml:3d476d3d-b46e-46da-94ef-54f71581d8bd\" target=\"_top\" title=\"psysml:3d476d3d-b46e-46da-94ef-54f71581d8bd\" xlink:actuate=\"onRequest\" xlink:href=\"psysml:3d476d3d-b46e-46da-94ef-54f71581d8bd\" xlink:show=\"new\" xlink:title=\"psysml:3d476d3d-b46e-46da-94ef-54f71581d8bd\" xlink:type=\"simple\"><rect fill=\"#FFFFFF\" height=\"45.9375\" id=\"E7\" rx=\"10\" ry=\"10\" style=\"stroke: #383838; stroke-width: 1.5;\" width=\"42\" x=\"109\" y=\"253\"/><text fill=\"#000000\" font-family=\"sans-serif\" font-size=\"12\" font-style=\"italic\" lengthAdjust=\"spacingAndGlyphs\" textLength=\"40\" x=\"110\" y=\"269.1387\">«part»</text><text fill=\"#000000\" font-family=\"sans-serif\" font-size=\"12\" lengthAdjust=\"spacingAndGlyphs\" textLength=\"6\" x=\"127\" y=\"283.1074\">x</text><line style=\"stroke: #383838; stroke-width: 1.5;\" x1=\"110\" x2=\"150\" y1=\"290.9375\" y2=\"290.9375\"/></a><!--MD5=[209b3feb70ccb6233bfe1053d122c12c]\n",
       "reverse link E2 to E3--><a href=\"psysml:03220e95-b237-4532-8361-eb1844ca39e9\" target=\"_top\" title=\"psysml:03220e95-b237-4532-8361-eb1844ca39e9\" xlink:actuate=\"onRequest\" xlink:href=\"psysml:03220e95-b237-4532-8361-eb1844ca39e9\" xlink:show=\"new\" xlink:title=\"psysml:03220e95-b237-4532-8361-eb1844ca39e9\" xlink:type=\"simple\"><path d=\"M84.52,284 C84.52,284 85.67,284 85.67,284 C85.67,284 85.67,329.8 85.67,358.78 \" fill=\"none\" id=\"E2&lt;-E3\" style=\"stroke: #383838; stroke-width: 1.0;\"/><polygon fill=\"#383838\" points=\"74.24,284,80.24,288,86.24,284,80.24,280,74.24,284\" style=\"stroke: #383838; stroke-width: 1.0;\"/></a><!--MD5=[62aa6af11e70f752912c1cb0466f24f7]\n",
       "reverse link E4 to E5--><a href=\"psysml:021693d6-d6d0-45d3-85e9-0e056c3c99ea\" target=\"_top\" title=\"psysml:021693d6-d6d0-45d3-85e9-0e056c3c99ea\" xlink:actuate=\"onRequest\" xlink:href=\"psysml:021693d6-d6d0-45d3-85e9-0e056c3c99ea\" xlink:show=\"new\" xlink:title=\"psysml:021693d6-d6d0-45d3-85e9-0e056c3c99ea\" xlink:type=\"simple\"><path d=\"M66,100 C66,100 66,146.68 66,146.68 \" fill=\"none\" id=\"E4&lt;-E5\" style=\"stroke: #383838; stroke-width: 1.0;\"/><polygon fill=\"#383838\" points=\"66,87,62,93,66,99,70,93,66,87\" style=\"stroke: #383838; stroke-width: 1.0;\"/></a><!--MD5=[2351f337d6de0f557b50152ba70847b5]\n",
       "link E6 to E2--><a href=\"psysml:9890fb32-dc37-43db-abbc-6177a2056fad\" target=\"_top\" title=\"psysml:9890fb32-dc37-43db-abbc-6177a2056fad\" xlink:actuate=\"onRequest\" xlink:href=\"psysml:9890fb32-dc37-43db-abbc-6177a2056fad\" xlink:show=\"new\" xlink:title=\"psysml:9890fb32-dc37-43db-abbc-6177a2056fad\" xlink:type=\"simple\"><path d=\"M123,193.09 C123,207.37 123,223 123,223 C123,223 53,223 53,223 C53,223 53,232.91 53,232.91 \" fill=\"none\" id=\"E6-&gt;E2\" style=\"stroke: #383838; stroke-width: 1.0;\"/><polygon fill=\"none\" points=\"60,232.91,53,252.91,46,232.91,60,232.91\" style=\"stroke: #383838; stroke-width: 1.0;\"/></a><!--MD5=[6db378b65e1aef66a01cb3103812b399]\n",
       "reverse link E4 to E6--><a href=\"psysml:48ad0273-6ae0-4e72-b6eb-52596fa39c0f\" target=\"_top\" title=\"psysml:48ad0273-6ae0-4e72-b6eb-52596fa39c0f\" xlink:actuate=\"onRequest\" xlink:href=\"psysml:48ad0273-6ae0-4e72-b6eb-52596fa39c0f\" xlink:show=\"new\" xlink:title=\"psysml:48ad0273-6ae0-4e72-b6eb-52596fa39c0f\" xlink:type=\"simple\"><path d=\"M116.5,100 C116.5,100 116.5,146.68 116.5,146.68 \" fill=\"none\" id=\"E4&lt;-E6\" style=\"stroke: #383838; stroke-width: 1.0;\"/><polygon fill=\"#383838\" points=\"116.5,87,112.5,93,116.5,99,120.5,93,116.5,87\" style=\"stroke: #383838; stroke-width: 1.0;\"/></a><!--MD5=[14ccda38c055a5c0da953d572bc50960]\n",
       "link E7 to E3--><a href=\"psysml:6e6cfa00-bc1f-4d19-92ba-1126ed543e13\" target=\"_top\" title=\"psysml:6e6cfa00-bc1f-4d19-92ba-1126ed543e13\" xlink:actuate=\"onRequest\" xlink:href=\"psysml:6e6cfa00-bc1f-4d19-92ba-1126ed543e13\" xlink:show=\"new\" xlink:title=\"psysml:6e6cfa00-bc1f-4d19-92ba-1126ed543e13\" xlink:type=\"simple\"><path d=\"M108.76,269 C102.52,269 97.33,269 97.33,269 C97.33,269 97.33,338.86 97.33,338.86 \" fill=\"none\" id=\"E7-&gt;E3\" style=\"stroke: #383838; stroke-width: 1.0;\"/><polygon fill=\"#FFFFFF\" points=\"97.33,358.86,90.33,339.86,104.33,339.86,97.33,358.86\" style=\"stroke: #383838; stroke-width: 1.0;\"/><line style=\"stroke: #383838; stroke-width: 2.0;\" x1=\"90.33\" x2=\"104.33\" y1=\"336.06\" y2=\"336.06\"/></a><!--MD5=[3f50a3473f1dfb74d3f76443e03635af]\n",
       "reverse link E6 to E7--><a href=\"psysml:3d476d3d-b46e-46da-94ef-54f71581d8bd\" target=\"_top\" title=\"psysml:3d476d3d-b46e-46da-94ef-54f71581d8bd\" xlink:actuate=\"onRequest\" xlink:href=\"psysml:3d476d3d-b46e-46da-94ef-54f71581d8bd\" xlink:show=\"new\" xlink:title=\"psysml:3d476d3d-b46e-46da-94ef-54f71581d8bd\" xlink:type=\"simple\"><path d=\"M137,206 C137,206 137,252.68 137,252.68 \" fill=\"none\" id=\"E6&lt;-E7\" style=\"stroke: #383838; stroke-width: 1.0;\"/><polygon fill=\"#383838\" points=\"137,193,133,199,137,205,141,199,137,193\" style=\"stroke: #383838; stroke-width: 1.0;\"/></a><!--MD5=[dc7e10c8d8ed82a3530f00137f07979e]\n",
       "@startuml\r\n",
       "skinparam linetype ortho\r\n",
       "skinparam monochrome true\r\n",
       "skinparam classbackgroundcolor white\r\n",
       "skinparam shadowing false\r\n",
       "skinparam wrapWidth 300\r\n",
       "hide circle\r\n",
       "\r\n",
       "package \"ConnectionTest\" as E1  [[psysml:1fa0c0c0-6c41-491a-9601-36d7e4e40543 ]]  {\r\n",
       "comp usage \"p\" as E2  <<(T,blue)part>> [[psysml:5f85cf43-367b-49d0-8c6e-b9320e7aab66 ]] {\r\n",
       "}\r\n",
       "comp usage \"x\" as E3  <<(T,blue)part>> [[psysml:03220e95-b237-4532-8361-eb1844ca39e9 ]] {\r\n",
       "}\r\n",
       "comp def \"P\" as E4  <<(T,blue)part def>> [[psysml:deb35dd4-2c3a-4fce-b73d-f2bc7012e274 ]] {\r\n",
       "}\r\n",
       "comp usage \"y\" as E5  <<(T,blue)part>> [[psysml:021693d6-d6d0-45d3-85e9-0e056c3c99ea ]] {\r\n",
       "}\r\n",
       "comp usage \"p1\" as E6  <<(T,blue)part>> [[psysml:48ad0273-6ae0-4e72-b6eb-52596fa39c0f ]] {\r\n",
       "}\r\n",
       "comp usage \"x\" as E7  <<(T,blue)part>> [[psysml:3d476d3d-b46e-46da-94ef-54f71581d8bd ]] {\r\n",
       "}\r\n",
       "E2 *- - E3 [[psysml:03220e95-b237-4532-8361-eb1844ca39e9 ]] \r\n",
       "E4 *- - E5 [[psysml:021693d6-d6d0-45d3-85e9-0e056c3c99ea ]] \r\n",
       "E6 - -|> E2 [[psysml:9890fb32-dc37-43db-abbc-6177a2056fad ]] \r\n",
       "E4 *- - E6 [[psysml:48ad0273-6ae0-4e72-b6eb-52596fa39c0f ]] \r\n",
       "E7 - -||> E3 [[psysml:6e6cfa00-bc1f-4d19-92ba-1126ed543e13 ]] \r\n",
       "E6 *- - E7 [[psysml:3d476d3d-b46e-46da-94ef-54f71581d8bd ]] \r\n",
       "}\r\n",
       "@enduml\r\n",
       "\n",
       "PlantUML version 1.2020.13(Sat Jun 13 12:26:38 UTC 2020)\n",
       "(EPL source distribution)\n",
       "Java Runtime: OpenJDK Runtime Environment\n",
       "JVM: OpenJDK 64-Bit Server VM\n",
       "Default Encoding: UTF-8\n",
       "Language: en\n",
       "Country: null\n",
       "--></g></svg>"
      ]
     },
     "execution_count": 52,
     "metadata": {},
     "output_type": "execute_result"
    }
   ],
   "source": [
    "%viz --style=\"ORTHOLINE\" --view=\"Tree\" \"ConnectionTest\""
   ]
  },
  {
   "cell_type": "code",
   "execution_count": 53,
   "id": "behind-breakfast",
   "metadata": {
    "execution": {
     "iopub.execute_input": "2021-03-25T13:50:07.841301Z",
     "iopub.status.busy": "2021-03-25T13:50:07.840763Z",
     "iopub.status.idle": "2021-03-25T13:50:07.849503Z",
     "shell.execute_reply": "2021-03-25T13:50:07.849008Z"
    }
   },
   "outputs": [
    {
     "data": {
      "image/svg+xml": [
       "<?xml version=\"1.0\" encoding=\"UTF-8\" standalone=\"no\"?><svg xmlns=\"http://www.w3.org/2000/svg\" xmlns:xlink=\"http://www.w3.org/1999/xlink\" contentScriptType=\"application/ecmascript\" contentStyleType=\"text/css\" height=\"12px\" preserveAspectRatio=\"none\" style=\"width:12px;height:12px;\" version=\"1.1\" viewBox=\"0 0 12 12\" width=\"12px\" zoomAndPan=\"magnify\"><defs/><g><!--MD5=[97d6f38768b311333d388e66b2b27985]\n",
       "@startuml\r\n",
       "skinparam linetype ortho\r\n",
       "skinparam monochrome true\r\n",
       "skinparam classbackgroundcolor white\r\n",
       "skinparam shadowing false\r\n",
       "skinparam wrapWidth 300\r\n",
       "hide circle\r\n",
       "\r\n",
       "@enduml\r\n",
       "\n",
       "PlantUML version 1.2020.13(Sat Jun 13 12:26:38 UTC 2020)\n",
       "(EPL source distribution)\n",
       "Java Runtime: OpenJDK Runtime Environment\n",
       "JVM: OpenJDK 64-Bit Server VM\n",
       "Default Encoding: UTF-8\n",
       "Language: en\n",
       "Country: null\n",
       "--></g></svg>"
      ]
     },
     "execution_count": 53,
     "metadata": {},
     "output_type": "execute_result"
    }
   ],
   "source": [
    "%viz --style=\"ORTHOLINE\" --view=\"State\" \"ConnectionTest\""
   ]
  },
  {
   "cell_type": "code",
   "execution_count": 54,
   "id": "christian-medicare",
   "metadata": {
    "execution": {
     "iopub.execute_input": "2021-03-25T13:50:07.903081Z",
     "iopub.status.busy": "2021-03-25T13:50:07.902435Z",
     "iopub.status.idle": "2021-03-25T13:50:07.980567Z",
     "shell.execute_reply": "2021-03-25T13:50:07.978765Z"
    }
   },
   "outputs": [
    {
     "data": {
      "image/svg+xml": [
       "<?xml version=\"1.0\" encoding=\"UTF-8\" standalone=\"no\"?><svg xmlns=\"http://www.w3.org/2000/svg\" xmlns:xlink=\"http://www.w3.org/1999/xlink\" contentScriptType=\"application/ecmascript\" contentStyleType=\"text/css\" height=\"324px\" preserveAspectRatio=\"none\" style=\"width:385px;height:324px;\" version=\"1.1\" viewBox=\"0 0 385 324\" width=\"385px\" zoomAndPan=\"magnify\"><defs/><g><!--MD5=[fbc87193dbaf4d95561dea2c320d4a47]\n",
       "cluster E1--><a href=\"psysml:1fa0c0c0-6c41-491a-9601-36d7e4e40543\" target=\"_top\" title=\"psysml:1fa0c0c0-6c41-491a-9601-36d7e4e40543\" xlink:actuate=\"onRequest\" xlink:href=\"psysml:1fa0c0c0-6c41-491a-9601-36d7e4e40543\" xlink:show=\"new\" xlink:title=\"psysml:1fa0c0c0-6c41-491a-9601-36d7e4e40543\" xlink:type=\"simple\"><polygon fill=\"#FFFFFF\" points=\"16,6,147,6,154,28.2969,363,28.2969,363,312.5,16,312.5,16,6\" style=\"stroke: #000000; stroke-width: 1.5;\"/><line style=\"stroke: #000000; stroke-width: 1.5;\" x1=\"16\" x2=\"154\" y1=\"28.2969\" y2=\"28.2969\"/><text fill=\"#000000\" font-family=\"sans-serif\" font-size=\"14\" font-weight=\"bold\" lengthAdjust=\"spacingAndGlyphs\" textLength=\"125\" x=\"20\" y=\"20.9951\">ConnectionTest</text></a><!--MD5=[e4f7fae6ed58524ba242bb0b0d3be6b7]\n",
       "cluster E2--><a href=\"psysml:5f85cf43-367b-49d0-8c6e-b9320e7aab66\" target=\"_top\" title=\"psysml:5f85cf43-367b-49d0-8c6e-b9320e7aab66\" xlink:actuate=\"onRequest\" xlink:href=\"psysml:5f85cf43-367b-49d0-8c6e-b9320e7aab66\" xlink:show=\"new\" xlink:title=\"psysml:5f85cf43-367b-49d0-8c6e-b9320e7aab66\" xlink:type=\"simple\"><rect fill=\"#FFFFFF\" height=\"107\" id=\"E2\" rx=\"10\" ry=\"10\" style=\"stroke: #383838; stroke-width: 1.5;\" width=\"117\" x=\"214\" y=\"164\"/><rect fill=\"#F8F8F8\" height=\"23.9688\" rx=\"10\" ry=\"10\" style=\"stroke: #F8F8F8; stroke-width: 1.5;\" width=\"117\" x=\"214\" y=\"164\"/><rect fill=\"#F8F8F8\" height=\"10\" style=\"stroke: #F8F8F8; stroke-width: 1.5;\" width=\"117\" x=\"214\" y=\"177.9688\"/><rect fill=\"none\" height=\"107\" id=\"E2\" rx=\"10\" ry=\"10\" style=\"stroke: #383838; stroke-width: 1.5;\" width=\"117\" x=\"214\" y=\"164\"/><text fill=\"#000000\" font-family=\"sans-serif\" font-size=\"12\" lengthAdjust=\"spacingAndGlyphs\" textLength=\"8\" x=\"268.5\" y=\"180.1387\">p</text><line style=\"stroke: #383838; stroke-width: 1.0;\" x1=\"214\" x2=\"331\" y1=\"187.9688\" y2=\"187.9688\"/></a><!--MD5=[f6df4d0ebaf0b5dfb2ced0ae5af7c670]\n",
       "cluster E4--><a href=\"psysml:deb35dd4-2c3a-4fce-b73d-f2bc7012e274\" target=\"_top\" title=\"psysml:deb35dd4-2c3a-4fce-b73d-f2bc7012e274\" xlink:actuate=\"onRequest\" xlink:href=\"psysml:deb35dd4-2c3a-4fce-b73d-f2bc7012e274\" xlink:show=\"new\" xlink:title=\"psysml:deb35dd4-2c3a-4fce-b73d-f2bc7012e274\" xlink:type=\"simple\"><rect fill=\"#FFFFFF\" height=\"239.5\" id=\"E4\" style=\"stroke: #383838; stroke-width: 1.5;\" width=\"142\" x=\"40\" y=\"49\"/><rect fill=\"#F8F8F8\" height=\"37.9375\" style=\"stroke: #383838; stroke-width: 1.5;\" width=\"142\" x=\"40\" y=\"49\"/><text fill=\"#000000\" font-family=\"sans-serif\" font-size=\"12\" font-style=\"italic\" lengthAdjust=\"spacingAndGlyphs\" textLength=\"64\" x=\"79\" y=\"65.1387\">«part def»</text><text fill=\"#000000\" font-family=\"sans-serif\" font-size=\"12\" lengthAdjust=\"spacingAndGlyphs\" textLength=\"8\" x=\"107\" y=\"79.1074\">P</text></a><!--MD5=[14e3b0961a2654348d326746436168a1]\n",
       "cluster E6--><a href=\"psysml:48ad0273-6ae0-4e72-b6eb-52596fa39c0f\" target=\"_top\" title=\"psysml:48ad0273-6ae0-4e72-b6eb-52596fa39c0f\" xlink:actuate=\"onRequest\" xlink:href=\"psysml:48ad0273-6ae0-4e72-b6eb-52596fa39c0f\" xlink:show=\"new\" xlink:title=\"psysml:48ad0273-6ae0-4e72-b6eb-52596fa39c0f\" xlink:type=\"simple\"><rect fill=\"#FFFFFF\" height=\"94\" id=\"E6\" rx=\"10\" ry=\"10\" style=\"stroke: #383838; stroke-width: 1.5;\" width=\"94\" x=\"64\" y=\"170.5\"/><rect fill=\"#F8F8F8\" height=\"23.9688\" rx=\"10\" ry=\"10\" style=\"stroke: #F8F8F8; stroke-width: 1.5;\" width=\"94\" x=\"64\" y=\"170.5\"/><rect fill=\"#F8F8F8\" height=\"10\" style=\"stroke: #F8F8F8; stroke-width: 1.5;\" width=\"94\" x=\"64\" y=\"184.4688\"/><rect fill=\"none\" height=\"94\" id=\"E6\" rx=\"10\" ry=\"10\" style=\"stroke: #383838; stroke-width: 1.5;\" width=\"94\" x=\"64\" y=\"170.5\"/><text fill=\"#000000\" font-family=\"sans-serif\" font-size=\"12\" lengthAdjust=\"spacingAndGlyphs\" textLength=\"16\" x=\"103\" y=\"186.6387\">p1</text><line style=\"stroke: #383838; stroke-width: 1.0;\" x1=\"64\" x2=\"158\" y1=\"194.4688\" y2=\"194.4688\"/></a><g id=\"E1.E2.E3\"><a href=\"psysml:03220e95-b237-4532-8361-eb1844ca39e9\" target=\"_top\" title=\"psysml:03220e95-b237-4532-8361-eb1844ca39e9\" xlink:actuate=\"onRequest\" xlink:href=\"psysml:03220e95-b237-4532-8361-eb1844ca39e9\" xlink:show=\"new\" xlink:title=\"psysml:03220e95-b237-4532-8361-eb1844ca39e9\" xlink:type=\"simple\"><rect fill=\"#FFFFFF\" height=\"40\" id=\"E3\" rx=\"10\" ry=\"10\" style=\"stroke: #383838; stroke-width: 1.5;\" width=\"50\" x=\"257\" y=\"207\"/><rect fill=\"#F8F8F8\" height=\"23.9688\" rx=\"10\" ry=\"10\" style=\"stroke: #F8F8F8; stroke-width: 1.5;\" width=\"50\" x=\"257\" y=\"207\"/><rect fill=\"#F8F8F8\" height=\"10\" style=\"stroke: #F8F8F8; stroke-width: 1.5;\" width=\"50\" x=\"257\" y=\"220.9688\"/><rect fill=\"none\" height=\"40\" id=\"E3\" rx=\"10\" ry=\"10\" style=\"stroke: #383838; stroke-width: 1.5;\" width=\"50\" x=\"257\" y=\"207\"/><text fill=\"#000000\" font-family=\"sans-serif\" font-size=\"12\" lengthAdjust=\"spacingAndGlyphs\" textLength=\"6\" x=\"279\" y=\"223.1387\">x</text></a></g><g id=\"E1.E4.E5\"><a href=\"psysml:021693d6-d6d0-45d3-85e9-0e056c3c99ea\" target=\"_top\" title=\"psysml:021693d6-d6d0-45d3-85e9-0e056c3c99ea\" xlink:actuate=\"onRequest\" xlink:href=\"psysml:021693d6-d6d0-45d3-85e9-0e056c3c99ea\" xlink:show=\"new\" xlink:title=\"psysml:021693d6-d6d0-45d3-85e9-0e056c3c99ea\" xlink:type=\"simple\"><rect fill=\"#FFFFFF\" height=\"40\" id=\"E5\" rx=\"10\" ry=\"10\" style=\"stroke: #383838; stroke-width: 1.5;\" width=\"50\" x=\"101\" y=\"100\"/><rect fill=\"#F8F8F8\" height=\"23.9688\" rx=\"10\" ry=\"10\" style=\"stroke: #F8F8F8; stroke-width: 1.5;\" width=\"50\" x=\"101\" y=\"100\"/><rect fill=\"#F8F8F8\" height=\"10\" style=\"stroke: #F8F8F8; stroke-width: 1.5;\" width=\"50\" x=\"101\" y=\"113.9688\"/><rect fill=\"none\" height=\"40\" id=\"E5\" rx=\"10\" ry=\"10\" style=\"stroke: #383838; stroke-width: 1.5;\" width=\"50\" x=\"101\" y=\"100\"/><text fill=\"#000000\" font-family=\"sans-serif\" font-size=\"12\" lengthAdjust=\"spacingAndGlyphs\" textLength=\"6\" x=\"123\" y=\"116.1387\">y</text></a></g><g id=\"E1.E4.E6.E7\"><a href=\"psysml:3d476d3d-b46e-46da-94ef-54f71581d8bd\" target=\"_top\" title=\"psysml:3d476d3d-b46e-46da-94ef-54f71581d8bd\" xlink:actuate=\"onRequest\" xlink:href=\"psysml:3d476d3d-b46e-46da-94ef-54f71581d8bd\" xlink:show=\"new\" xlink:title=\"psysml:3d476d3d-b46e-46da-94ef-54f71581d8bd\" xlink:type=\"simple\"><rect fill=\"#FFFFFF\" height=\"42.9375\" id=\"E7\" rx=\"10\" ry=\"10\" style=\"stroke: #383838; stroke-width: 1.5;\" width=\"61\" x=\"80.5\" y=\"205.5\"/><rect fill=\"#F8F8F8\" height=\"37.9375\" rx=\"10\" ry=\"10\" style=\"stroke: #F8F8F8; stroke-width: 1.5;\" width=\"61\" x=\"80.5\" y=\"205.5\"/><rect fill=\"#F8F8F8\" height=\"10\" style=\"stroke: #F8F8F8; stroke-width: 1.5;\" width=\"61\" x=\"80.5\" y=\"233.4375\"/><rect fill=\"none\" height=\"42.9375\" id=\"E7\" rx=\"10\" ry=\"10\" style=\"stroke: #383838; stroke-width: 1.5;\" width=\"61\" x=\"80.5\" y=\"205.5\"/><text fill=\"#000000\" font-family=\"sans-serif\" font-size=\"12\" lengthAdjust=\"spacingAndGlyphs\" textLength=\"6\" x=\"108\" y=\"221.6387\">x</text><text fill=\"#000000\" font-family=\"sans-serif\" font-size=\"12\" font-style=\"italic\" lengthAdjust=\"spacingAndGlyphs\" textLength=\"46\" x=\"86\" y=\"235.6074\">:&gt;&gt;p::x</text><text fill=\"#000000\" font-family=\"sans-serif\" font-size=\"12\" lengthAdjust=\"spacingAndGlyphs\" textLength=\"0\" x=\"136\" y=\"235.6074\"/></a></g><!--MD5=[15ebcb19ae302d9b601edb458606d402]\n",
       "link E5 to E2--><a href=\"psysml:a2e30144-7cbb-4348-81c9-870149c1f1e3\" target=\"_top\" title=\"psysml:a2e30144-7cbb-4348-81c9-870149c1f1e3\" xlink:actuate=\"onRequest\" xlink:href=\"psysml:a2e30144-7cbb-4348-81c9-870149c1f1e3\" xlink:show=\"new\" xlink:title=\"psysml:a2e30144-7cbb-4348-81c9-870149c1f1e3\" xlink:type=\"simple\"><path d=\"M146.25,140.22 C146.25,171.36 146.25,227.5 146.25,227.5 C146.25,227.5 164.6,227.5 183.2375,227.5 C192.5563,227.5 201.9469,227.5 209.1516,227.5 C210.0521,227.5 210.9186,227.5 211.7464,227.5 C212.1604,227.5 212.5647,227.5 212.9588,227.5 C213.1558,227.5 213.3503,227.5 213.5422,227.5 C213.6381,227.5 213.7334,227.5 213.8281,227.5 \" fill=\"none\" id=\"E5-E2\" style=\"stroke: #383838; stroke-width: 3.0;\"/></a><!--MD5=[3a9b96bfbf6b6ad89c494e81751bda47]\n",
       "link E5 to E7--><a href=\"psysml:81751fd3-19d9-42b1-be5d-d1a292525231\" target=\"_top\" title=\"psysml:81751fd3-19d9-42b1-be5d-d1a292525231\" xlink:actuate=\"onRequest\" xlink:href=\"psysml:81751fd3-19d9-42b1-be5d-d1a292525231\" xlink:show=\"new\" xlink:title=\"psysml:81751fd3-19d9-42b1-be5d-d1a292525231\" xlink:type=\"simple\"><path d=\"M121.25,140.13 C121.25,158.77 121.25,186.42 121.25,205.5 \" fill=\"none\" id=\"E5-E7\" style=\"stroke: #383838; stroke-width: 3.0;\"/></a><!--MD5=[38880aa077275b7a7350d66b505f6aa4]\n",
       "@startuml\r\n",
       "skinparam ranksep 8\r\n",
       "skinparam rectangle {\r\n",
       " backgroundColor<<block>> LightGreen\r\n",
       "}\r\n",
       "skinparam linetype ortho\r\n",
       "skinparam monochrome true\r\n",
       "skinparam classbackgroundcolor white\r\n",
       "skinparam shadowing false\r\n",
       "skinparam wrapWidth 300\r\n",
       "hide circle\r\n",
       "\r\n",
       "package \"ConnectionTest\" as E1  [[psysml:1fa0c0c0-6c41-491a-9601-36d7e4e40543 ]]  {\r\n",
       "rec usage \"p\" as E2  [[psysml:5f85cf43-367b-49d0-8c6e-b9320e7aab66 ]] {\r\n",
       "rec usage \"x\" as E3  [[psysml:03220e95-b237-4532-8361-eb1844ca39e9 ]] {\r\n",
       "}\r\n",
       "}\r\n",
       "rec def \"P\" as E4  <<(T,blue)part def>> [[psysml:deb35dd4-2c3a-4fce-b73d-f2bc7012e274 ]] {\r\n",
       "rec usage \"y\" as E5  [[psysml:021693d6-d6d0-45d3-85e9-0e056c3c99ea ]] {\r\n",
       "}\r\n",
       "rec usage \"p1\" as E6  [[psysml:48ad0273-6ae0-4e72-b6eb-52596fa39c0f ]] {\r\n",
       "rec usage \"x\\n//:>>p::x// \" as E7  [[psysml:3d476d3d-b46e-46da-94ef-54f71581d8bd ]] {\r\n",
       "}\r\n",
       "}\r\n",
       "}\r\n",
       "E5 -[thickness=3]- E2 [[psysml:a2e30144-7cbb-4348-81c9-870149c1f1e3 ]] \r\n",
       "E5 -[thickness=3]- E7 [[psysml:81751fd3-19d9-42b1-be5d-d1a292525231 ]] \r\n",
       "}\r\n",
       "@enduml\r\n",
       "\n",
       "PlantUML version 1.2020.13(Sat Jun 13 12:26:38 UTC 2020)\n",
       "(EPL source distribution)\n",
       "Java Runtime: OpenJDK Runtime Environment\n",
       "JVM: OpenJDK 64-Bit Server VM\n",
       "Default Encoding: UTF-8\n",
       "Language: en\n",
       "Country: null\n",
       "--></g></svg>"
      ]
     },
     "execution_count": 54,
     "metadata": {},
     "output_type": "execute_result"
    }
   ],
   "source": [
    "%viz --style=\"ORTHOLINE\" --view=\"Interconnection\" \"ConnectionTest\""
   ]
  },
  {
   "cell_type": "code",
   "execution_count": 55,
   "id": "czech-delivery",
   "metadata": {
    "execution": {
     "iopub.execute_input": "2021-03-25T13:50:08.031164Z",
     "iopub.status.busy": "2021-03-25T13:50:08.030668Z",
     "iopub.status.idle": "2021-03-25T13:50:08.039715Z",
     "shell.execute_reply": "2021-03-25T13:50:08.040089Z"
    }
   },
   "outputs": [
    {
     "data": {
      "image/svg+xml": [
       "<?xml version=\"1.0\" encoding=\"UTF-8\" standalone=\"no\"?><svg xmlns=\"http://www.w3.org/2000/svg\" xmlns:xlink=\"http://www.w3.org/1999/xlink\" contentScriptType=\"application/ecmascript\" contentStyleType=\"text/css\" height=\"12px\" preserveAspectRatio=\"none\" style=\"width:12px;height:12px;\" version=\"1.1\" viewBox=\"0 0 12 12\" width=\"12px\" zoomAndPan=\"magnify\"><defs/><g><!--MD5=[72934c63077099a26744516a776b4749]\n",
       "@startuml\r\n",
       "skinparam ranksep 8\r\n",
       "skinparam linetype ortho\r\n",
       "skinparam monochrome true\r\n",
       "skinparam classbackgroundcolor white\r\n",
       "skinparam shadowing false\r\n",
       "skinparam wrapWidth 300\r\n",
       "hide circle\r\n",
       "\r\n",
       "@enduml\r\n",
       "\n",
       "PlantUML version 1.2020.13(Sat Jun 13 12:26:38 UTC 2020)\n",
       "(EPL source distribution)\n",
       "Java Runtime: OpenJDK Runtime Environment\n",
       "JVM: OpenJDK 64-Bit Server VM\n",
       "Default Encoding: UTF-8\n",
       "Language: en\n",
       "Country: null\n",
       "--></g></svg>"
      ]
     },
     "execution_count": 55,
     "metadata": {},
     "output_type": "execute_result"
    }
   ],
   "source": [
    "%viz --style=\"ORTHOLINE\" --view=\"Action\" \"ConnectionTest\""
   ]
  },
  {
   "cell_type": "code",
   "execution_count": 56,
   "id": "powerful-computer",
   "metadata": {
    "execution": {
     "iopub.execute_input": "2021-03-25T13:50:08.092328Z",
     "iopub.status.busy": "2021-03-25T13:50:08.091765Z",
     "iopub.status.idle": "2021-03-25T13:50:08.159650Z",
     "shell.execute_reply": "2021-03-25T13:50:08.158111Z"
    }
   },
   "outputs": [
    {
     "data": {
      "image/svg+xml": [
       "<?xml version=\"1.0\" encoding=\"UTF-8\" standalone=\"no\"?><svg xmlns=\"http://www.w3.org/2000/svg\" xmlns:xlink=\"http://www.w3.org/1999/xlink\" contentScriptType=\"application/ecmascript\" contentStyleType=\"text/css\" height=\"433px\" preserveAspectRatio=\"none\" style=\"width:189px;height:433px;\" version=\"1.1\" viewBox=\"0 0 189 433\" width=\"189px\" zoomAndPan=\"magnify\"><defs/><g><!--MD5=[fbc87193dbaf4d95561dea2c320d4a47]\n",
       "cluster E1--><a href=\"psysml:1fa0c0c0-6c41-491a-9601-36d7e4e40543\" target=\"_top\" title=\"psysml:1fa0c0c0-6c41-491a-9601-36d7e4e40543\" xlink:actuate=\"onRequest\" xlink:href=\"psysml:1fa0c0c0-6c41-491a-9601-36d7e4e40543\" xlink:show=\"new\" xlink:title=\"psysml:1fa0c0c0-6c41-491a-9601-36d7e4e40543\" xlink:type=\"simple\"><polygon fill=\"#FFFFFF\" points=\"16,6,147,6,154,28.2969,167,28.2969,167,421,16,421,16,6\" style=\"stroke: #000000; stroke-width: 1.5;\"/><line style=\"stroke: #000000; stroke-width: 1.5;\" x1=\"16\" x2=\"154\" y1=\"28.2969\" y2=\"28.2969\"/><text fill=\"#000000\" font-family=\"sans-serif\" font-size=\"14\" font-weight=\"bold\" lengthAdjust=\"spacingAndGlyphs\" textLength=\"125\" x=\"20\" y=\"20.9951\">ConnectionTest</text></a><!--MD5=[b4997ac47864f28c2f74865a473b2911]\n",
       "class E2--><a href=\"psysml:5f85cf43-367b-49d0-8c6e-b9320e7aab66\" target=\"_top\" title=\"psysml:5f85cf43-367b-49d0-8c6e-b9320e7aab66\" xlink:actuate=\"onRequest\" xlink:href=\"psysml:5f85cf43-367b-49d0-8c6e-b9320e7aab66\" xlink:show=\"new\" xlink:title=\"psysml:5f85cf43-367b-49d0-8c6e-b9320e7aab66\" xlink:type=\"simple\"><rect fill=\"#FFFFFF\" height=\"45.9375\" id=\"E2\" rx=\"10\" ry=\"10\" style=\"stroke: #383838; stroke-width: 1.5;\" width=\"42\" x=\"32\" y=\"253\"/><text fill=\"#000000\" font-family=\"sans-serif\" font-size=\"12\" font-style=\"italic\" lengthAdjust=\"spacingAndGlyphs\" textLength=\"40\" x=\"33\" y=\"269.1387\">«part»</text><text fill=\"#000000\" font-family=\"sans-serif\" font-size=\"12\" lengthAdjust=\"spacingAndGlyphs\" textLength=\"8\" x=\"49\" y=\"283.1074\">p</text><line style=\"stroke: #383838; stroke-width: 1.5;\" x1=\"33\" x2=\"73\" y1=\"290.9375\" y2=\"290.9375\"/></a><!--MD5=[09b614a08d8cba4a07c9adeb5e0fee81]\n",
       "class E3--><a href=\"psysml:03220e95-b237-4532-8361-eb1844ca39e9\" target=\"_top\" title=\"psysml:03220e95-b237-4532-8361-eb1844ca39e9\" xlink:actuate=\"onRequest\" xlink:href=\"psysml:03220e95-b237-4532-8361-eb1844ca39e9\" xlink:show=\"new\" xlink:title=\"psysml:03220e95-b237-4532-8361-eb1844ca39e9\" xlink:type=\"simple\"><rect fill=\"#FFFFFF\" height=\"45.9375\" id=\"E3\" rx=\"10\" ry=\"10\" style=\"stroke: #383838; stroke-width: 1.5;\" width=\"42\" x=\"70\" y=\"359\"/><text fill=\"#000000\" font-family=\"sans-serif\" font-size=\"12\" font-style=\"italic\" lengthAdjust=\"spacingAndGlyphs\" textLength=\"40\" x=\"71\" y=\"375.1387\">«part»</text><text fill=\"#000000\" font-family=\"sans-serif\" font-size=\"12\" lengthAdjust=\"spacingAndGlyphs\" textLength=\"6\" x=\"88\" y=\"389.1074\">x</text><line style=\"stroke: #383838; stroke-width: 1.5;\" x1=\"71\" x2=\"111\" y1=\"396.9375\" y2=\"396.9375\"/></a><!--MD5=[ebbe1d658d1005bcc118a6aa81145e00]\n",
       "class E4--><a href=\"psysml:deb35dd4-2c3a-4fce-b73d-f2bc7012e274\" target=\"_top\" title=\"psysml:deb35dd4-2c3a-4fce-b73d-f2bc7012e274\" xlink:actuate=\"onRequest\" xlink:href=\"psysml:deb35dd4-2c3a-4fce-b73d-f2bc7012e274\" xlink:show=\"new\" xlink:title=\"psysml:deb35dd4-2c3a-4fce-b73d-f2bc7012e274\" xlink:type=\"simple\"><rect fill=\"#FFFFFF\" height=\"45.9375\" id=\"E4\" style=\"stroke: #383838; stroke-width: 1.5;\" width=\"66\" x=\"58\" y=\"41\"/><text fill=\"#000000\" font-family=\"sans-serif\" font-size=\"12\" font-style=\"italic\" lengthAdjust=\"spacingAndGlyphs\" textLength=\"64\" x=\"59\" y=\"57.1387\">«part def»</text><text fill=\"#000000\" font-family=\"sans-serif\" font-size=\"12\" lengthAdjust=\"spacingAndGlyphs\" textLength=\"8\" x=\"87\" y=\"71.1074\">P</text><line style=\"stroke: #383838; stroke-width: 1.5;\" x1=\"59\" x2=\"123\" y1=\"78.9375\" y2=\"78.9375\"/></a><!--MD5=[270fce915f116d4de14055a7c1d9a0f3]\n",
       "class E5--><a href=\"psysml:021693d6-d6d0-45d3-85e9-0e056c3c99ea\" target=\"_top\" title=\"psysml:021693d6-d6d0-45d3-85e9-0e056c3c99ea\" xlink:actuate=\"onRequest\" xlink:href=\"psysml:021693d6-d6d0-45d3-85e9-0e056c3c99ea\" xlink:show=\"new\" xlink:title=\"psysml:021693d6-d6d0-45d3-85e9-0e056c3c99ea\" xlink:type=\"simple\"><rect fill=\"#FFFFFF\" height=\"45.9375\" id=\"E5\" rx=\"10\" ry=\"10\" style=\"stroke: #383838; stroke-width: 1.5;\" width=\"42\" x=\"32\" y=\"147\"/><text fill=\"#000000\" font-family=\"sans-serif\" font-size=\"12\" font-style=\"italic\" lengthAdjust=\"spacingAndGlyphs\" textLength=\"40\" x=\"33\" y=\"163.1387\">«part»</text><text fill=\"#000000\" font-family=\"sans-serif\" font-size=\"12\" lengthAdjust=\"spacingAndGlyphs\" textLength=\"6\" x=\"50\" y=\"177.1074\">y</text><line style=\"stroke: #383838; stroke-width: 1.5;\" x1=\"33\" x2=\"73\" y1=\"184.9375\" y2=\"184.9375\"/></a><!--MD5=[60a26617385b1d2d0262a64233df1f8d]\n",
       "class E6--><a href=\"psysml:48ad0273-6ae0-4e72-b6eb-52596fa39c0f\" target=\"_top\" title=\"psysml:48ad0273-6ae0-4e72-b6eb-52596fa39c0f\" xlink:actuate=\"onRequest\" xlink:href=\"psysml:48ad0273-6ae0-4e72-b6eb-52596fa39c0f\" xlink:show=\"new\" xlink:title=\"psysml:48ad0273-6ae0-4e72-b6eb-52596fa39c0f\" xlink:type=\"simple\"><rect fill=\"#FFFFFF\" height=\"45.9375\" id=\"E6\" rx=\"10\" ry=\"10\" style=\"stroke: #383838; stroke-width: 1.5;\" width=\"42\" x=\"109\" y=\"147\"/><text fill=\"#000000\" font-family=\"sans-serif\" font-size=\"12\" font-style=\"italic\" lengthAdjust=\"spacingAndGlyphs\" textLength=\"40\" x=\"110\" y=\"163.1387\">«part»</text><text fill=\"#000000\" font-family=\"sans-serif\" font-size=\"12\" lengthAdjust=\"spacingAndGlyphs\" textLength=\"16\" x=\"122\" y=\"177.1074\">p1</text><line style=\"stroke: #383838; stroke-width: 1.5;\" x1=\"110\" x2=\"150\" y1=\"184.9375\" y2=\"184.9375\"/></a><!--MD5=[2156ba9850f5573cc1fc38a6a4b2f02b]\n",
       "class E7--><a href=\"psysml:3d476d3d-b46e-46da-94ef-54f71581d8bd\" target=\"_top\" title=\"psysml:3d476d3d-b46e-46da-94ef-54f71581d8bd\" xlink:actuate=\"onRequest\" xlink:href=\"psysml:3d476d3d-b46e-46da-94ef-54f71581d8bd\" xlink:show=\"new\" xlink:title=\"psysml:3d476d3d-b46e-46da-94ef-54f71581d8bd\" xlink:type=\"simple\"><rect fill=\"#FFFFFF\" height=\"45.9375\" id=\"E7\" rx=\"10\" ry=\"10\" style=\"stroke: #383838; stroke-width: 1.5;\" width=\"42\" x=\"109\" y=\"253\"/><text fill=\"#000000\" font-family=\"sans-serif\" font-size=\"12\" font-style=\"italic\" lengthAdjust=\"spacingAndGlyphs\" textLength=\"40\" x=\"110\" y=\"269.1387\">«part»</text><text fill=\"#000000\" font-family=\"sans-serif\" font-size=\"12\" lengthAdjust=\"spacingAndGlyphs\" textLength=\"6\" x=\"127\" y=\"283.1074\">x</text><line style=\"stroke: #383838; stroke-width: 1.5;\" x1=\"110\" x2=\"150\" y1=\"290.9375\" y2=\"290.9375\"/></a><!--MD5=[209b3feb70ccb6233bfe1053d122c12c]\n",
       "reverse link E2 to E3--><a href=\"psysml:03220e95-b237-4532-8361-eb1844ca39e9\" target=\"_top\" title=\"psysml:03220e95-b237-4532-8361-eb1844ca39e9\" xlink:actuate=\"onRequest\" xlink:href=\"psysml:03220e95-b237-4532-8361-eb1844ca39e9\" xlink:show=\"new\" xlink:title=\"psysml:03220e95-b237-4532-8361-eb1844ca39e9\" xlink:type=\"simple\"><path d=\"M84.52,284 C84.52,284 85.67,284 85.67,284 C85.67,284 85.67,329.8 85.67,358.78 \" fill=\"none\" id=\"E2&lt;-E3\" style=\"stroke: #383838; stroke-width: 1.0;\"/><polygon fill=\"#383838\" points=\"74.24,284,80.24,288,86.24,284,80.24,280,74.24,284\" style=\"stroke: #383838; stroke-width: 1.0;\"/></a><!--MD5=[62aa6af11e70f752912c1cb0466f24f7]\n",
       "reverse link E4 to E5--><a href=\"psysml:021693d6-d6d0-45d3-85e9-0e056c3c99ea\" target=\"_top\" title=\"psysml:021693d6-d6d0-45d3-85e9-0e056c3c99ea\" xlink:actuate=\"onRequest\" xlink:href=\"psysml:021693d6-d6d0-45d3-85e9-0e056c3c99ea\" xlink:show=\"new\" xlink:title=\"psysml:021693d6-d6d0-45d3-85e9-0e056c3c99ea\" xlink:type=\"simple\"><path d=\"M66,100 C66,100 66,146.68 66,146.68 \" fill=\"none\" id=\"E4&lt;-E5\" style=\"stroke: #383838; stroke-width: 1.0;\"/><polygon fill=\"#383838\" points=\"66,87,62,93,66,99,70,93,66,87\" style=\"stroke: #383838; stroke-width: 1.0;\"/></a><!--MD5=[2351f337d6de0f557b50152ba70847b5]\n",
       "link E6 to E2--><a href=\"psysml:9890fb32-dc37-43db-abbc-6177a2056fad\" target=\"_top\" title=\"psysml:9890fb32-dc37-43db-abbc-6177a2056fad\" xlink:actuate=\"onRequest\" xlink:href=\"psysml:9890fb32-dc37-43db-abbc-6177a2056fad\" xlink:show=\"new\" xlink:title=\"psysml:9890fb32-dc37-43db-abbc-6177a2056fad\" xlink:type=\"simple\"><path d=\"M123,193.09 C123,207.37 123,223 123,223 C123,223 53,223 53,223 C53,223 53,232.91 53,232.91 \" fill=\"none\" id=\"E6-&gt;E2\" style=\"stroke: #383838; stroke-width: 1.0;\"/><polygon fill=\"none\" points=\"60,232.91,53,252.91,46,232.91,60,232.91\" style=\"stroke: #383838; stroke-width: 1.0;\"/></a><!--MD5=[6db378b65e1aef66a01cb3103812b399]\n",
       "reverse link E4 to E6--><a href=\"psysml:48ad0273-6ae0-4e72-b6eb-52596fa39c0f\" target=\"_top\" title=\"psysml:48ad0273-6ae0-4e72-b6eb-52596fa39c0f\" xlink:actuate=\"onRequest\" xlink:href=\"psysml:48ad0273-6ae0-4e72-b6eb-52596fa39c0f\" xlink:show=\"new\" xlink:title=\"psysml:48ad0273-6ae0-4e72-b6eb-52596fa39c0f\" xlink:type=\"simple\"><path d=\"M116.5,100 C116.5,100 116.5,146.68 116.5,146.68 \" fill=\"none\" id=\"E4&lt;-E6\" style=\"stroke: #383838; stroke-width: 1.0;\"/><polygon fill=\"#383838\" points=\"116.5,87,112.5,93,116.5,99,120.5,93,116.5,87\" style=\"stroke: #383838; stroke-width: 1.0;\"/></a><!--MD5=[14ccda38c055a5c0da953d572bc50960]\n",
       "link E7 to E3--><a href=\"psysml:6e6cfa00-bc1f-4d19-92ba-1126ed543e13\" target=\"_top\" title=\"psysml:6e6cfa00-bc1f-4d19-92ba-1126ed543e13\" xlink:actuate=\"onRequest\" xlink:href=\"psysml:6e6cfa00-bc1f-4d19-92ba-1126ed543e13\" xlink:show=\"new\" xlink:title=\"psysml:6e6cfa00-bc1f-4d19-92ba-1126ed543e13\" xlink:type=\"simple\"><path d=\"M108.76,269 C102.52,269 97.33,269 97.33,269 C97.33,269 97.33,338.86 97.33,338.86 \" fill=\"none\" id=\"E7-&gt;E3\" style=\"stroke: #383838; stroke-width: 1.0;\"/><polygon fill=\"#FFFFFF\" points=\"97.33,358.86,90.33,339.86,104.33,339.86,97.33,358.86\" style=\"stroke: #383838; stroke-width: 1.0;\"/><line style=\"stroke: #383838; stroke-width: 2.0;\" x1=\"90.33\" x2=\"104.33\" y1=\"336.06\" y2=\"336.06\"/></a><!--MD5=[3f50a3473f1dfb74d3f76443e03635af]\n",
       "reverse link E6 to E7--><a href=\"psysml:3d476d3d-b46e-46da-94ef-54f71581d8bd\" target=\"_top\" title=\"psysml:3d476d3d-b46e-46da-94ef-54f71581d8bd\" xlink:actuate=\"onRequest\" xlink:href=\"psysml:3d476d3d-b46e-46da-94ef-54f71581d8bd\" xlink:show=\"new\" xlink:title=\"psysml:3d476d3d-b46e-46da-94ef-54f71581d8bd\" xlink:type=\"simple\"><path d=\"M137,206 C137,206 137,252.68 137,252.68 \" fill=\"none\" id=\"E6&lt;-E7\" style=\"stroke: #383838; stroke-width: 1.0;\"/><polygon fill=\"#383838\" points=\"137,193,133,199,137,205,141,199,137,193\" style=\"stroke: #383838; stroke-width: 1.0;\"/></a><!--MD5=[dc7e10c8d8ed82a3530f00137f07979e]\n",
       "@startuml\r\n",
       "skinparam linetype ortho\r\n",
       "skinparam monochrome true\r\n",
       "skinparam classbackgroundcolor white\r\n",
       "skinparam shadowing false\r\n",
       "skinparam wrapWidth 300\r\n",
       "hide circle\r\n",
       "\r\n",
       "package \"ConnectionTest\" as E1  [[psysml:1fa0c0c0-6c41-491a-9601-36d7e4e40543 ]]  {\r\n",
       "comp usage \"p\" as E2  <<(T,blue)part>> [[psysml:5f85cf43-367b-49d0-8c6e-b9320e7aab66 ]] {\r\n",
       "}\r\n",
       "comp usage \"x\" as E3  <<(T,blue)part>> [[psysml:03220e95-b237-4532-8361-eb1844ca39e9 ]] {\r\n",
       "}\r\n",
       "comp def \"P\" as E4  <<(T,blue)part def>> [[psysml:deb35dd4-2c3a-4fce-b73d-f2bc7012e274 ]] {\r\n",
       "}\r\n",
       "comp usage \"y\" as E5  <<(T,blue)part>> [[psysml:021693d6-d6d0-45d3-85e9-0e056c3c99ea ]] {\r\n",
       "}\r\n",
       "comp usage \"p1\" as E6  <<(T,blue)part>> [[psysml:48ad0273-6ae0-4e72-b6eb-52596fa39c0f ]] {\r\n",
       "}\r\n",
       "comp usage \"x\" as E7  <<(T,blue)part>> [[psysml:3d476d3d-b46e-46da-94ef-54f71581d8bd ]] {\r\n",
       "}\r\n",
       "E2 *- - E3 [[psysml:03220e95-b237-4532-8361-eb1844ca39e9 ]] \r\n",
       "E4 *- - E5 [[psysml:021693d6-d6d0-45d3-85e9-0e056c3c99ea ]] \r\n",
       "E6 - -|> E2 [[psysml:9890fb32-dc37-43db-abbc-6177a2056fad ]] \r\n",
       "E4 *- - E6 [[psysml:48ad0273-6ae0-4e72-b6eb-52596fa39c0f ]] \r\n",
       "E7 - -||> E3 [[psysml:6e6cfa00-bc1f-4d19-92ba-1126ed543e13 ]] \r\n",
       "E6 *- - E7 [[psysml:3d476d3d-b46e-46da-94ef-54f71581d8bd ]] \r\n",
       "}\r\n",
       "@enduml\r\n",
       "\n",
       "PlantUML version 1.2020.13(Sat Jun 13 12:26:38 UTC 2020)\n",
       "(EPL source distribution)\n",
       "Java Runtime: OpenJDK Runtime Environment\n",
       "JVM: OpenJDK 64-Bit Server VM\n",
       "Default Encoding: UTF-8\n",
       "Language: en\n",
       "Country: null\n",
       "--></g></svg>"
      ]
     },
     "execution_count": 56,
     "metadata": {},
     "output_type": "execute_result"
    }
   ],
   "source": [
    "%viz --style=\"ORTHOLINE\" --view=\"Sequence\" \"ConnectionTest\""
   ]
  },
  {
   "cell_type": "code",
   "execution_count": 57,
   "id": "selected-welcome",
   "metadata": {
    "execution": {
     "iopub.execute_input": "2021-03-25T13:50:08.210797Z",
     "iopub.status.busy": "2021-03-25T13:50:08.210053Z",
     "iopub.status.idle": "2021-03-25T13:50:08.277100Z",
     "shell.execute_reply": "2021-03-25T13:50:08.275730Z"
    }
   },
   "outputs": [
    {
     "data": {
      "image/svg+xml": [
       "<?xml version=\"1.0\" encoding=\"UTF-8\" standalone=\"no\"?><svg xmlns=\"http://www.w3.org/2000/svg\" xmlns:xlink=\"http://www.w3.org/1999/xlink\" contentScriptType=\"application/ecmascript\" contentStyleType=\"text/css\" height=\"433px\" preserveAspectRatio=\"none\" style=\"width:189px;height:433px;\" version=\"1.1\" viewBox=\"0 0 189 433\" width=\"189px\" zoomAndPan=\"magnify\"><defs/><g><!--MD5=[fbc87193dbaf4d95561dea2c320d4a47]\n",
       "cluster E1--><a href=\"psysml:1fa0c0c0-6c41-491a-9601-36d7e4e40543\" target=\"_top\" title=\"psysml:1fa0c0c0-6c41-491a-9601-36d7e4e40543\" xlink:actuate=\"onRequest\" xlink:href=\"psysml:1fa0c0c0-6c41-491a-9601-36d7e4e40543\" xlink:show=\"new\" xlink:title=\"psysml:1fa0c0c0-6c41-491a-9601-36d7e4e40543\" xlink:type=\"simple\"><polygon fill=\"#FFFFFF\" points=\"16,6,147,6,154,28.2969,167,28.2969,167,421,16,421,16,6\" style=\"stroke: #000000; stroke-width: 1.5;\"/><line style=\"stroke: #000000; stroke-width: 1.5;\" x1=\"16\" x2=\"154\" y1=\"28.2969\" y2=\"28.2969\"/><text fill=\"#000000\" font-family=\"sans-serif\" font-size=\"14\" font-weight=\"bold\" lengthAdjust=\"spacingAndGlyphs\" textLength=\"125\" x=\"20\" y=\"20.9951\">ConnectionTest</text></a><!--MD5=[b4997ac47864f28c2f74865a473b2911]\n",
       "class E2--><a href=\"psysml:5f85cf43-367b-49d0-8c6e-b9320e7aab66\" target=\"_top\" title=\"psysml:5f85cf43-367b-49d0-8c6e-b9320e7aab66\" xlink:actuate=\"onRequest\" xlink:href=\"psysml:5f85cf43-367b-49d0-8c6e-b9320e7aab66\" xlink:show=\"new\" xlink:title=\"psysml:5f85cf43-367b-49d0-8c6e-b9320e7aab66\" xlink:type=\"simple\"><rect fill=\"#FFFFFF\" height=\"45.9375\" id=\"E2\" rx=\"10\" ry=\"10\" style=\"stroke: #383838; stroke-width: 1.5;\" width=\"42\" x=\"32\" y=\"253\"/><text fill=\"#000000\" font-family=\"sans-serif\" font-size=\"12\" font-style=\"italic\" lengthAdjust=\"spacingAndGlyphs\" textLength=\"40\" x=\"33\" y=\"269.1387\">«part»</text><text fill=\"#000000\" font-family=\"sans-serif\" font-size=\"12\" lengthAdjust=\"spacingAndGlyphs\" textLength=\"8\" x=\"49\" y=\"283.1074\">p</text><line style=\"stroke: #383838; stroke-width: 1.5;\" x1=\"33\" x2=\"73\" y1=\"290.9375\" y2=\"290.9375\"/></a><!--MD5=[09b614a08d8cba4a07c9adeb5e0fee81]\n",
       "class E3--><a href=\"psysml:03220e95-b237-4532-8361-eb1844ca39e9\" target=\"_top\" title=\"psysml:03220e95-b237-4532-8361-eb1844ca39e9\" xlink:actuate=\"onRequest\" xlink:href=\"psysml:03220e95-b237-4532-8361-eb1844ca39e9\" xlink:show=\"new\" xlink:title=\"psysml:03220e95-b237-4532-8361-eb1844ca39e9\" xlink:type=\"simple\"><rect fill=\"#FFFFFF\" height=\"45.9375\" id=\"E3\" rx=\"10\" ry=\"10\" style=\"stroke: #383838; stroke-width: 1.5;\" width=\"42\" x=\"70\" y=\"359\"/><text fill=\"#000000\" font-family=\"sans-serif\" font-size=\"12\" font-style=\"italic\" lengthAdjust=\"spacingAndGlyphs\" textLength=\"40\" x=\"71\" y=\"375.1387\">«part»</text><text fill=\"#000000\" font-family=\"sans-serif\" font-size=\"12\" lengthAdjust=\"spacingAndGlyphs\" textLength=\"6\" x=\"88\" y=\"389.1074\">x</text><line style=\"stroke: #383838; stroke-width: 1.5;\" x1=\"71\" x2=\"111\" y1=\"396.9375\" y2=\"396.9375\"/></a><!--MD5=[ebbe1d658d1005bcc118a6aa81145e00]\n",
       "class E4--><a href=\"psysml:deb35dd4-2c3a-4fce-b73d-f2bc7012e274\" target=\"_top\" title=\"psysml:deb35dd4-2c3a-4fce-b73d-f2bc7012e274\" xlink:actuate=\"onRequest\" xlink:href=\"psysml:deb35dd4-2c3a-4fce-b73d-f2bc7012e274\" xlink:show=\"new\" xlink:title=\"psysml:deb35dd4-2c3a-4fce-b73d-f2bc7012e274\" xlink:type=\"simple\"><rect fill=\"#FFFFFF\" height=\"45.9375\" id=\"E4\" style=\"stroke: #383838; stroke-width: 1.5;\" width=\"66\" x=\"58\" y=\"41\"/><text fill=\"#000000\" font-family=\"sans-serif\" font-size=\"12\" font-style=\"italic\" lengthAdjust=\"spacingAndGlyphs\" textLength=\"64\" x=\"59\" y=\"57.1387\">«part def»</text><text fill=\"#000000\" font-family=\"sans-serif\" font-size=\"12\" lengthAdjust=\"spacingAndGlyphs\" textLength=\"8\" x=\"87\" y=\"71.1074\">P</text><line style=\"stroke: #383838; stroke-width: 1.5;\" x1=\"59\" x2=\"123\" y1=\"78.9375\" y2=\"78.9375\"/></a><!--MD5=[270fce915f116d4de14055a7c1d9a0f3]\n",
       "class E5--><a href=\"psysml:021693d6-d6d0-45d3-85e9-0e056c3c99ea\" target=\"_top\" title=\"psysml:021693d6-d6d0-45d3-85e9-0e056c3c99ea\" xlink:actuate=\"onRequest\" xlink:href=\"psysml:021693d6-d6d0-45d3-85e9-0e056c3c99ea\" xlink:show=\"new\" xlink:title=\"psysml:021693d6-d6d0-45d3-85e9-0e056c3c99ea\" xlink:type=\"simple\"><rect fill=\"#FFFFFF\" height=\"45.9375\" id=\"E5\" rx=\"10\" ry=\"10\" style=\"stroke: #383838; stroke-width: 1.5;\" width=\"42\" x=\"32\" y=\"147\"/><text fill=\"#000000\" font-family=\"sans-serif\" font-size=\"12\" font-style=\"italic\" lengthAdjust=\"spacingAndGlyphs\" textLength=\"40\" x=\"33\" y=\"163.1387\">«part»</text><text fill=\"#000000\" font-family=\"sans-serif\" font-size=\"12\" lengthAdjust=\"spacingAndGlyphs\" textLength=\"6\" x=\"50\" y=\"177.1074\">y</text><line style=\"stroke: #383838; stroke-width: 1.5;\" x1=\"33\" x2=\"73\" y1=\"184.9375\" y2=\"184.9375\"/></a><!--MD5=[60a26617385b1d2d0262a64233df1f8d]\n",
       "class E6--><a href=\"psysml:48ad0273-6ae0-4e72-b6eb-52596fa39c0f\" target=\"_top\" title=\"psysml:48ad0273-6ae0-4e72-b6eb-52596fa39c0f\" xlink:actuate=\"onRequest\" xlink:href=\"psysml:48ad0273-6ae0-4e72-b6eb-52596fa39c0f\" xlink:show=\"new\" xlink:title=\"psysml:48ad0273-6ae0-4e72-b6eb-52596fa39c0f\" xlink:type=\"simple\"><rect fill=\"#FFFFFF\" height=\"45.9375\" id=\"E6\" rx=\"10\" ry=\"10\" style=\"stroke: #383838; stroke-width: 1.5;\" width=\"42\" x=\"109\" y=\"147\"/><text fill=\"#000000\" font-family=\"sans-serif\" font-size=\"12\" font-style=\"italic\" lengthAdjust=\"spacingAndGlyphs\" textLength=\"40\" x=\"110\" y=\"163.1387\">«part»</text><text fill=\"#000000\" font-family=\"sans-serif\" font-size=\"12\" lengthAdjust=\"spacingAndGlyphs\" textLength=\"16\" x=\"122\" y=\"177.1074\">p1</text><line style=\"stroke: #383838; stroke-width: 1.5;\" x1=\"110\" x2=\"150\" y1=\"184.9375\" y2=\"184.9375\"/></a><!--MD5=[2156ba9850f5573cc1fc38a6a4b2f02b]\n",
       "class E7--><a href=\"psysml:3d476d3d-b46e-46da-94ef-54f71581d8bd\" target=\"_top\" title=\"psysml:3d476d3d-b46e-46da-94ef-54f71581d8bd\" xlink:actuate=\"onRequest\" xlink:href=\"psysml:3d476d3d-b46e-46da-94ef-54f71581d8bd\" xlink:show=\"new\" xlink:title=\"psysml:3d476d3d-b46e-46da-94ef-54f71581d8bd\" xlink:type=\"simple\"><rect fill=\"#FFFFFF\" height=\"45.9375\" id=\"E7\" rx=\"10\" ry=\"10\" style=\"stroke: #383838; stroke-width: 1.5;\" width=\"42\" x=\"109\" y=\"253\"/><text fill=\"#000000\" font-family=\"sans-serif\" font-size=\"12\" font-style=\"italic\" lengthAdjust=\"spacingAndGlyphs\" textLength=\"40\" x=\"110\" y=\"269.1387\">«part»</text><text fill=\"#000000\" font-family=\"sans-serif\" font-size=\"12\" lengthAdjust=\"spacingAndGlyphs\" textLength=\"6\" x=\"127\" y=\"283.1074\">x</text><line style=\"stroke: #383838; stroke-width: 1.5;\" x1=\"110\" x2=\"150\" y1=\"290.9375\" y2=\"290.9375\"/></a><!--MD5=[209b3feb70ccb6233bfe1053d122c12c]\n",
       "reverse link E2 to E3--><a href=\"psysml:03220e95-b237-4532-8361-eb1844ca39e9\" target=\"_top\" title=\"psysml:03220e95-b237-4532-8361-eb1844ca39e9\" xlink:actuate=\"onRequest\" xlink:href=\"psysml:03220e95-b237-4532-8361-eb1844ca39e9\" xlink:show=\"new\" xlink:title=\"psysml:03220e95-b237-4532-8361-eb1844ca39e9\" xlink:type=\"simple\"><path d=\"M84.52,284 C84.52,284 85.67,284 85.67,284 C85.67,284 85.67,329.8 85.67,358.78 \" fill=\"none\" id=\"E2&lt;-E3\" style=\"stroke: #383838; stroke-width: 1.0;\"/><polygon fill=\"#383838\" points=\"74.24,284,80.24,288,86.24,284,80.24,280,74.24,284\" style=\"stroke: #383838; stroke-width: 1.0;\"/></a><!--MD5=[62aa6af11e70f752912c1cb0466f24f7]\n",
       "reverse link E4 to E5--><a href=\"psysml:021693d6-d6d0-45d3-85e9-0e056c3c99ea\" target=\"_top\" title=\"psysml:021693d6-d6d0-45d3-85e9-0e056c3c99ea\" xlink:actuate=\"onRequest\" xlink:href=\"psysml:021693d6-d6d0-45d3-85e9-0e056c3c99ea\" xlink:show=\"new\" xlink:title=\"psysml:021693d6-d6d0-45d3-85e9-0e056c3c99ea\" xlink:type=\"simple\"><path d=\"M66,100 C66,100 66,146.68 66,146.68 \" fill=\"none\" id=\"E4&lt;-E5\" style=\"stroke: #383838; stroke-width: 1.0;\"/><polygon fill=\"#383838\" points=\"66,87,62,93,66,99,70,93,66,87\" style=\"stroke: #383838; stroke-width: 1.0;\"/></a><!--MD5=[2351f337d6de0f557b50152ba70847b5]\n",
       "link E6 to E2--><a href=\"psysml:9890fb32-dc37-43db-abbc-6177a2056fad\" target=\"_top\" title=\"psysml:9890fb32-dc37-43db-abbc-6177a2056fad\" xlink:actuate=\"onRequest\" xlink:href=\"psysml:9890fb32-dc37-43db-abbc-6177a2056fad\" xlink:show=\"new\" xlink:title=\"psysml:9890fb32-dc37-43db-abbc-6177a2056fad\" xlink:type=\"simple\"><path d=\"M123,193.09 C123,207.37 123,223 123,223 C123,223 53,223 53,223 C53,223 53,232.91 53,232.91 \" fill=\"none\" id=\"E6-&gt;E2\" style=\"stroke: #383838; stroke-width: 1.0;\"/><polygon fill=\"none\" points=\"60,232.91,53,252.91,46,232.91,60,232.91\" style=\"stroke: #383838; stroke-width: 1.0;\"/></a><!--MD5=[6db378b65e1aef66a01cb3103812b399]\n",
       "reverse link E4 to E6--><a href=\"psysml:48ad0273-6ae0-4e72-b6eb-52596fa39c0f\" target=\"_top\" title=\"psysml:48ad0273-6ae0-4e72-b6eb-52596fa39c0f\" xlink:actuate=\"onRequest\" xlink:href=\"psysml:48ad0273-6ae0-4e72-b6eb-52596fa39c0f\" xlink:show=\"new\" xlink:title=\"psysml:48ad0273-6ae0-4e72-b6eb-52596fa39c0f\" xlink:type=\"simple\"><path d=\"M116.5,100 C116.5,100 116.5,146.68 116.5,146.68 \" fill=\"none\" id=\"E4&lt;-E6\" style=\"stroke: #383838; stroke-width: 1.0;\"/><polygon fill=\"#383838\" points=\"116.5,87,112.5,93,116.5,99,120.5,93,116.5,87\" style=\"stroke: #383838; stroke-width: 1.0;\"/></a><!--MD5=[14ccda38c055a5c0da953d572bc50960]\n",
       "link E7 to E3--><a href=\"psysml:6e6cfa00-bc1f-4d19-92ba-1126ed543e13\" target=\"_top\" title=\"psysml:6e6cfa00-bc1f-4d19-92ba-1126ed543e13\" xlink:actuate=\"onRequest\" xlink:href=\"psysml:6e6cfa00-bc1f-4d19-92ba-1126ed543e13\" xlink:show=\"new\" xlink:title=\"psysml:6e6cfa00-bc1f-4d19-92ba-1126ed543e13\" xlink:type=\"simple\"><path d=\"M108.76,269 C102.52,269 97.33,269 97.33,269 C97.33,269 97.33,338.86 97.33,338.86 \" fill=\"none\" id=\"E7-&gt;E3\" style=\"stroke: #383838; stroke-width: 1.0;\"/><polygon fill=\"#FFFFFF\" points=\"97.33,358.86,90.33,339.86,104.33,339.86,97.33,358.86\" style=\"stroke: #383838; stroke-width: 1.0;\"/><line style=\"stroke: #383838; stroke-width: 2.0;\" x1=\"90.33\" x2=\"104.33\" y1=\"336.06\" y2=\"336.06\"/></a><!--MD5=[3f50a3473f1dfb74d3f76443e03635af]\n",
       "reverse link E6 to E7--><a href=\"psysml:3d476d3d-b46e-46da-94ef-54f71581d8bd\" target=\"_top\" title=\"psysml:3d476d3d-b46e-46da-94ef-54f71581d8bd\" xlink:actuate=\"onRequest\" xlink:href=\"psysml:3d476d3d-b46e-46da-94ef-54f71581d8bd\" xlink:show=\"new\" xlink:title=\"psysml:3d476d3d-b46e-46da-94ef-54f71581d8bd\" xlink:type=\"simple\"><path d=\"M137,206 C137,206 137,252.68 137,252.68 \" fill=\"none\" id=\"E6&lt;-E7\" style=\"stroke: #383838; stroke-width: 1.0;\"/><polygon fill=\"#383838\" points=\"137,193,133,199,137,205,141,199,137,193\" style=\"stroke: #383838; stroke-width: 1.0;\"/></a><!--MD5=[dc7e10c8d8ed82a3530f00137f07979e]\n",
       "@startuml\r\n",
       "skinparam linetype ortho\r\n",
       "skinparam monochrome true\r\n",
       "skinparam classbackgroundcolor white\r\n",
       "skinparam shadowing false\r\n",
       "skinparam wrapWidth 300\r\n",
       "hide circle\r\n",
       "\r\n",
       "package \"ConnectionTest\" as E1  [[psysml:1fa0c0c0-6c41-491a-9601-36d7e4e40543 ]]  {\r\n",
       "comp usage \"p\" as E2  <<(T,blue)part>> [[psysml:5f85cf43-367b-49d0-8c6e-b9320e7aab66 ]] {\r\n",
       "}\r\n",
       "comp usage \"x\" as E3  <<(T,blue)part>> [[psysml:03220e95-b237-4532-8361-eb1844ca39e9 ]] {\r\n",
       "}\r\n",
       "comp def \"P\" as E4  <<(T,blue)part def>> [[psysml:deb35dd4-2c3a-4fce-b73d-f2bc7012e274 ]] {\r\n",
       "}\r\n",
       "comp usage \"y\" as E5  <<(T,blue)part>> [[psysml:021693d6-d6d0-45d3-85e9-0e056c3c99ea ]] {\r\n",
       "}\r\n",
       "comp usage \"p1\" as E6  <<(T,blue)part>> [[psysml:48ad0273-6ae0-4e72-b6eb-52596fa39c0f ]] {\r\n",
       "}\r\n",
       "comp usage \"x\" as E7  <<(T,blue)part>> [[psysml:3d476d3d-b46e-46da-94ef-54f71581d8bd ]] {\r\n",
       "}\r\n",
       "E2 *- - E3 [[psysml:03220e95-b237-4532-8361-eb1844ca39e9 ]] \r\n",
       "E4 *- - E5 [[psysml:021693d6-d6d0-45d3-85e9-0e056c3c99ea ]] \r\n",
       "E6 - -|> E2 [[psysml:9890fb32-dc37-43db-abbc-6177a2056fad ]] \r\n",
       "E4 *- - E6 [[psysml:48ad0273-6ae0-4e72-b6eb-52596fa39c0f ]] \r\n",
       "E7 - -||> E3 [[psysml:6e6cfa00-bc1f-4d19-92ba-1126ed543e13 ]] \r\n",
       "E6 *- - E7 [[psysml:3d476d3d-b46e-46da-94ef-54f71581d8bd ]] \r\n",
       "}\r\n",
       "@enduml\r\n",
       "\n",
       "PlantUML version 1.2020.13(Sat Jun 13 12:26:38 UTC 2020)\n",
       "(EPL source distribution)\n",
       "Java Runtime: OpenJDK Runtime Environment\n",
       "JVM: OpenJDK 64-Bit Server VM\n",
       "Default Encoding: UTF-8\n",
       "Language: en\n",
       "Country: null\n",
       "--></g></svg>"
      ]
     },
     "execution_count": 57,
     "metadata": {},
     "output_type": "execute_result"
    }
   ],
   "source": [
    "%viz --style=\"ORTHOLINE\" --view=\"MIXED\" \"ConnectionTest\""
   ]
  }
 ],
 "metadata": {
  "kernelspec": {
   "display_name": "SysML",
   "language": "sysml",
   "name": "sysml"
  },
  "language_info": {
   "codemirror_mode": "sysml",
   "file_extension": ".sysml",
   "mimetype": "text/x-sysml",
   "name": "SysML",
   "pygments_lexer": "java",
   "version": "1.0.0"
  }
 },
 "nbformat": 4,
 "nbformat_minor": 5
}
