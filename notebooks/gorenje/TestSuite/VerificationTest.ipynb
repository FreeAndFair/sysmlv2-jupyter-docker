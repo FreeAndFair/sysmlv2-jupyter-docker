{
 "cells": [
  {
   "cell_type": "markdown",
   "id": "applied-forth",
   "metadata": {},
   "source": [
    "# SysML v2 Test Suite\n",
    "\n",
    "This can notebook can be cleared using menu `Edit --> Clear All Outputs` and then all cells can be\n",
    "run using menu `Run --> Run All Cells`.\n",
    "\n",
    "**WARNING**: This file is generated, all modifications here will be ignored.\n"
   ]
  },
  {
   "cell_type": "markdown",
   "id": "appreciated-prediction",
   "metadata": {},
   "source": [
    "## File: ../../sysml/src/examples/Simple Tests/VerificationTest.sysml"
   ]
  },
  {
   "cell_type": "code",
   "execution_count": 1,
   "id": "scientific-cheat",
   "metadata": {
    "execution": {
     "iopub.execute_input": "2021-03-25T15:57:13.314829Z",
     "iopub.status.busy": "2021-03-25T15:57:13.313564Z",
     "iopub.status.idle": "2021-03-25T15:57:18.405531Z",
     "shell.execute_reply": "2021-03-25T15:57:18.380729Z"
    }
   },
   "outputs": [
    {
     "data": {
      "text/plain": [
       "Package VerificationTest (1da53c6a-81a4-46c9-8379-61668e44ace4)\n"
      ]
     },
     "execution_count": 1,
     "metadata": {},
     "output_type": "execute_result"
    }
   ],
   "source": [
    "package VerificationTest {\n",
    "\n",
    "\tpart def V {\n",
    "\t\tm : ScalarValues::Integer;\n",
    "\t}\n",
    "\t\n",
    "\tpart vv : V;\n",
    "\t\n",
    "\trequirement def VerificationObjective {\n",
    "\t\tdoc /* ... */\n",
    "\t}\n",
    "\n",
    "\tverification def VerificationCase {\t\t\n",
    "\t\tsubject v : V;\t\n",
    "\t\tobjective : VerificationObjective {\n",
    "\t\t\tsubject = v;\n",
    "\t\t}\n",
    "\t\t\n",
    "\t\tv::m == 0\n",
    "\t}\n",
    "\t\n",
    "\tverification def VerificationPlan {\n",
    "\t\tsubject v : V;\n",
    "\t\t\n",
    "\t\tobjective {\n",
    "\t\t\tdoc /* ... */\n",
    "\t\t}\n",
    "\t\t\n",
    "\t\tverification verificationCase : VerificationCase;\n",
    "\t}\n",
    "\t\n",
    "\tpart verificationContext {\n",
    "\t\tverification verificationPlan : VerificationPlan {\n",
    "\t\t\tsubject v = vv;\n",
    "\t\t}\n",
    "\t}\n",
    "}"
   ]
  },
  {
   "cell_type": "code",
   "execution_count": 2,
   "id": "acute-springfield",
   "metadata": {
    "execution": {
     "iopub.execute_input": "2021-03-25T15:57:18.444381Z",
     "iopub.status.busy": "2021-03-25T15:57:18.442836Z",
     "iopub.status.idle": "2021-03-25T15:57:18.510678Z",
     "shell.execute_reply": "2021-03-25T15:57:18.505647Z"
    }
   },
   "outputs": [
    {
     "data": {
      "text/plain": [
       "java.lang.IllegalArgumentException: Invalid Style: COMPTREE Possible styles: POLYLINE, LR, STDCOLOR, PLANTUML, DEFAULT, TB, ORTHOLINE\n",
       "\tat org.omg.sysml.plantuml.SysML2PlantUMLStyle.get(SysML2PlantUMLStyle.java:258)\n",
       "\tat org.omg.sysml.plantuml.SysML2PlantUMLSvc.applyStyle(SysML2PlantUMLSvc.java:73)\n",
       "\tat org.omg.sysml.plantuml.SysML2PlantUMLSvc.getPlantUMLCode(SysML2PlantUMLSvc.java:88)\n",
       "\tat org.omg.sysml.plantuml.SysML2PlantUMLSvc.getSVG(SysML2PlantUMLSvc.java:99)\n",
       "\tat org.omg.sysml.interactive.SysMLInteractive.viz(SysMLInteractive.java:294)\n",
       "\tat org.omg.sysml.jupyter.kernel.magic.Viz.viz(Viz.java:47)\n",
       "\tat java.base/jdk.internal.reflect.NativeMethodAccessorImpl.invoke0(Native Method)\n",
       "\tat java.base/jdk.internal.reflect.NativeMethodAccessorImpl.invoke(NativeMethodAccessorImpl.java:78)\n",
       "\tat java.base/jdk.internal.reflect.DelegatingMethodAccessorImpl.invoke(DelegatingMethodAccessorImpl.java:43)\n",
       "\tat java.base/java.lang.reflect.Method.invoke(Method.java:568)\n",
       "\tat io.github.spencerpark.jupyter.kernel.magic.registry.Magics.invoke(Magics.java:89)\n",
       "\tat io.github.spencerpark.jupyter.kernel.magic.registry.Magics.access$000(Magics.java:8)\n",
       "\tat io.github.spencerpark.jupyter.kernel.magic.registry.Magics$LineReflectionMagicFunction.execute(Magics.java:149)\n",
       "\tat io.github.spencerpark.jupyter.kernel.magic.registry.Magics.applyLineMagic(Magics.java:26)\n",
       "\tat org.omg.sysml.jupyter.kernel.SysMLKernel.eval(SysMLKernel.java:76)\n",
       "\tat io.github.spencerpark.jupyter.kernel.BaseKernel.handleExecuteRequest(BaseKernel.java:334)\n",
       "\tat io.github.spencerpark.jupyter.channels.ShellChannel.lambda$bind$0(ShellChannel.java:64)\n",
       "\tat io.github.spencerpark.jupyter.channels.Loop.lambda$new$0(Loop.java:21)\n",
       "\tat io.github.spencerpark.jupyter.channels.Loop.run(Loop.java:78)\n"
      ]
     },
     "execution_count": 2,
     "metadata": {},
     "output_type": "execute_result"
    }
   ],
   "source": [
    "%viz --style=\"COMPTREE\" --view=\"Default\" \"VerificationTest\""
   ]
  },
  {
   "cell_type": "code",
   "execution_count": 3,
   "id": "upset-forth",
   "metadata": {
    "execution": {
     "iopub.execute_input": "2021-03-25T15:57:18.567194Z",
     "iopub.status.busy": "2021-03-25T15:57:18.566069Z",
     "iopub.status.idle": "2021-03-25T15:57:18.586485Z",
     "shell.execute_reply": "2021-03-25T15:57:18.574696Z"
    }
   },
   "outputs": [
    {
     "data": {
      "text/plain": [
       "java.lang.IllegalArgumentException: Invalid Style: COMPTREE Possible styles: POLYLINE, LR, STDCOLOR, PLANTUML, DEFAULT, TB, ORTHOLINE\n",
       "\tat org.omg.sysml.plantuml.SysML2PlantUMLStyle.get(SysML2PlantUMLStyle.java:258)\n",
       "\tat org.omg.sysml.plantuml.SysML2PlantUMLSvc.applyStyle(SysML2PlantUMLSvc.java:73)\n",
       "\tat org.omg.sysml.plantuml.SysML2PlantUMLSvc.getPlantUMLCode(SysML2PlantUMLSvc.java:88)\n",
       "\tat org.omg.sysml.plantuml.SysML2PlantUMLSvc.getSVG(SysML2PlantUMLSvc.java:99)\n",
       "\tat org.omg.sysml.interactive.SysMLInteractive.viz(SysMLInteractive.java:294)\n",
       "\tat org.omg.sysml.jupyter.kernel.magic.Viz.viz(Viz.java:47)\n",
       "\tat java.base/jdk.internal.reflect.NativeMethodAccessorImpl.invoke0(Native Method)\n",
       "\tat java.base/jdk.internal.reflect.NativeMethodAccessorImpl.invoke(NativeMethodAccessorImpl.java:78)\n",
       "\tat java.base/jdk.internal.reflect.DelegatingMethodAccessorImpl.invoke(DelegatingMethodAccessorImpl.java:43)\n",
       "\tat java.base/java.lang.reflect.Method.invoke(Method.java:568)\n",
       "\tat io.github.spencerpark.jupyter.kernel.magic.registry.Magics.invoke(Magics.java:89)\n",
       "\tat io.github.spencerpark.jupyter.kernel.magic.registry.Magics.access$000(Magics.java:8)\n",
       "\tat io.github.spencerpark.jupyter.kernel.magic.registry.Magics$LineReflectionMagicFunction.execute(Magics.java:149)\n",
       "\tat io.github.spencerpark.jupyter.kernel.magic.registry.Magics.applyLineMagic(Magics.java:26)\n",
       "\tat org.omg.sysml.jupyter.kernel.SysMLKernel.eval(SysMLKernel.java:76)\n",
       "\tat io.github.spencerpark.jupyter.kernel.BaseKernel.handleExecuteRequest(BaseKernel.java:334)\n",
       "\tat io.github.spencerpark.jupyter.channels.ShellChannel.lambda$bind$0(ShellChannel.java:64)\n",
       "\tat io.github.spencerpark.jupyter.channels.Loop.lambda$new$0(Loop.java:21)\n",
       "\tat io.github.spencerpark.jupyter.channels.Loop.run(Loop.java:78)\n"
      ]
     },
     "execution_count": 3,
     "metadata": {},
     "output_type": "execute_result"
    }
   ],
   "source": [
    "%viz --style=\"COMPTREE\" --view=\"Tree\" \"VerificationTest\""
   ]
  },
  {
   "cell_type": "code",
   "execution_count": 4,
   "id": "regular-claim",
   "metadata": {
    "execution": {
     "iopub.execute_input": "2021-03-25T15:57:18.644488Z",
     "iopub.status.busy": "2021-03-25T15:57:18.643422Z",
     "iopub.status.idle": "2021-03-25T15:57:18.647874Z",
     "shell.execute_reply": "2021-03-25T15:57:18.650408Z"
    }
   },
   "outputs": [
    {
     "data": {
      "text/plain": [
       "java.lang.IllegalArgumentException: Invalid View: State View candidates are: Default Tree StateMachine Interconnection Activity Sequence MIXED \n",
       "\tat org.omg.sysml.plantuml.SysML2PlantUMLSvc.setView(SysML2PlantUMLSvc.java:63)\n",
       "\tat org.omg.sysml.interactive.SysMLInteractive.viz(SysMLInteractive.java:286)\n",
       "\tat org.omg.sysml.jupyter.kernel.magic.Viz.viz(Viz.java:47)\n",
       "\tat java.base/jdk.internal.reflect.NativeMethodAccessorImpl.invoke0(Native Method)\n",
       "\tat java.base/jdk.internal.reflect.NativeMethodAccessorImpl.invoke(NativeMethodAccessorImpl.java:78)\n",
       "\tat java.base/jdk.internal.reflect.DelegatingMethodAccessorImpl.invoke(DelegatingMethodAccessorImpl.java:43)\n",
       "\tat java.base/java.lang.reflect.Method.invoke(Method.java:568)\n",
       "\tat io.github.spencerpark.jupyter.kernel.magic.registry.Magics.invoke(Magics.java:89)\n",
       "\tat io.github.spencerpark.jupyter.kernel.magic.registry.Magics.access$000(Magics.java:8)\n",
       "\tat io.github.spencerpark.jupyter.kernel.magic.registry.Magics$LineReflectionMagicFunction.execute(Magics.java:149)\n",
       "\tat io.github.spencerpark.jupyter.kernel.magic.registry.Magics.applyLineMagic(Magics.java:26)\n",
       "\tat org.omg.sysml.jupyter.kernel.SysMLKernel.eval(SysMLKernel.java:76)\n",
       "\tat io.github.spencerpark.jupyter.kernel.BaseKernel.handleExecuteRequest(BaseKernel.java:334)\n",
       "\tat io.github.spencerpark.jupyter.channels.ShellChannel.lambda$bind$0(ShellChannel.java:64)\n",
       "\tat io.github.spencerpark.jupyter.channels.Loop.lambda$new$0(Loop.java:21)\n",
       "\tat io.github.spencerpark.jupyter.channels.Loop.run(Loop.java:78)\n"
      ]
     },
     "execution_count": 4,
     "metadata": {},
     "output_type": "execute_result"
    }
   ],
   "source": [
    "%viz --style=\"COMPTREE\" --view=\"State\" \"VerificationTest\""
   ]
  },
  {
   "cell_type": "code",
   "execution_count": 5,
   "id": "possible-avatar",
   "metadata": {
    "execution": {
     "iopub.execute_input": "2021-03-25T15:57:18.704435Z",
     "iopub.status.busy": "2021-03-25T15:57:18.699340Z",
     "iopub.status.idle": "2021-03-25T15:57:18.706970Z",
     "shell.execute_reply": "2021-03-25T15:57:18.707751Z"
    }
   },
   "outputs": [
    {
     "data": {
      "text/plain": [
       "java.lang.IllegalArgumentException: Invalid Style: COMPTREE Possible styles: POLYLINE, LR, STDCOLOR, PLANTUML, DEFAULT, TB, ORTHOLINE\n",
       "\tat org.omg.sysml.plantuml.SysML2PlantUMLStyle.get(SysML2PlantUMLStyle.java:258)\n",
       "\tat org.omg.sysml.plantuml.SysML2PlantUMLSvc.applyStyle(SysML2PlantUMLSvc.java:73)\n",
       "\tat org.omg.sysml.plantuml.SysML2PlantUMLSvc.getPlantUMLCode(SysML2PlantUMLSvc.java:88)\n",
       "\tat org.omg.sysml.plantuml.SysML2PlantUMLSvc.getSVG(SysML2PlantUMLSvc.java:99)\n",
       "\tat org.omg.sysml.interactive.SysMLInteractive.viz(SysMLInteractive.java:294)\n",
       "\tat org.omg.sysml.jupyter.kernel.magic.Viz.viz(Viz.java:47)\n",
       "\tat java.base/jdk.internal.reflect.NativeMethodAccessorImpl.invoke0(Native Method)\n",
       "\tat java.base/jdk.internal.reflect.NativeMethodAccessorImpl.invoke(NativeMethodAccessorImpl.java:78)\n",
       "\tat java.base/jdk.internal.reflect.DelegatingMethodAccessorImpl.invoke(DelegatingMethodAccessorImpl.java:43)\n",
       "\tat java.base/java.lang.reflect.Method.invoke(Method.java:568)\n",
       "\tat io.github.spencerpark.jupyter.kernel.magic.registry.Magics.invoke(Magics.java:89)\n",
       "\tat io.github.spencerpark.jupyter.kernel.magic.registry.Magics.access$000(Magics.java:8)\n",
       "\tat io.github.spencerpark.jupyter.kernel.magic.registry.Magics$LineReflectionMagicFunction.execute(Magics.java:149)\n",
       "\tat io.github.spencerpark.jupyter.kernel.magic.registry.Magics.applyLineMagic(Magics.java:26)\n",
       "\tat org.omg.sysml.jupyter.kernel.SysMLKernel.eval(SysMLKernel.java:76)\n",
       "\tat io.github.spencerpark.jupyter.kernel.BaseKernel.handleExecuteRequest(BaseKernel.java:334)\n",
       "\tat io.github.spencerpark.jupyter.channels.ShellChannel.lambda$bind$0(ShellChannel.java:64)\n",
       "\tat io.github.spencerpark.jupyter.channels.Loop.lambda$new$0(Loop.java:21)\n",
       "\tat io.github.spencerpark.jupyter.channels.Loop.run(Loop.java:78)\n"
      ]
     },
     "execution_count": 5,
     "metadata": {},
     "output_type": "execute_result"
    }
   ],
   "source": [
    "%viz --style=\"COMPTREE\" --view=\"Interconnection\" \"VerificationTest\""
   ]
  },
  {
   "cell_type": "code",
   "execution_count": 6,
   "id": "paperback-decimal",
   "metadata": {
    "execution": {
     "iopub.execute_input": "2021-03-25T15:57:18.759683Z",
     "iopub.status.busy": "2021-03-25T15:57:18.758422Z",
     "iopub.status.idle": "2021-03-25T15:57:18.767527Z",
     "shell.execute_reply": "2021-03-25T15:57:18.766789Z"
    }
   },
   "outputs": [
    {
     "data": {
      "text/plain": [
       "java.lang.IllegalArgumentException: Invalid View: Action View candidates are: Default Tree StateMachine Interconnection Activity Sequence MIXED \n",
       "\tat org.omg.sysml.plantuml.SysML2PlantUMLSvc.setView(SysML2PlantUMLSvc.java:63)\n",
       "\tat org.omg.sysml.interactive.SysMLInteractive.viz(SysMLInteractive.java:286)\n",
       "\tat org.omg.sysml.jupyter.kernel.magic.Viz.viz(Viz.java:47)\n",
       "\tat java.base/jdk.internal.reflect.NativeMethodAccessorImpl.invoke0(Native Method)\n",
       "\tat java.base/jdk.internal.reflect.NativeMethodAccessorImpl.invoke(NativeMethodAccessorImpl.java:78)\n",
       "\tat java.base/jdk.internal.reflect.DelegatingMethodAccessorImpl.invoke(DelegatingMethodAccessorImpl.java:43)\n",
       "\tat java.base/java.lang.reflect.Method.invoke(Method.java:568)\n",
       "\tat io.github.spencerpark.jupyter.kernel.magic.registry.Magics.invoke(Magics.java:89)\n",
       "\tat io.github.spencerpark.jupyter.kernel.magic.registry.Magics.access$000(Magics.java:8)\n",
       "\tat io.github.spencerpark.jupyter.kernel.magic.registry.Magics$LineReflectionMagicFunction.execute(Magics.java:149)\n",
       "\tat io.github.spencerpark.jupyter.kernel.magic.registry.Magics.applyLineMagic(Magics.java:26)\n",
       "\tat org.omg.sysml.jupyter.kernel.SysMLKernel.eval(SysMLKernel.java:76)\n",
       "\tat io.github.spencerpark.jupyter.kernel.BaseKernel.handleExecuteRequest(BaseKernel.java:334)\n",
       "\tat io.github.spencerpark.jupyter.channels.ShellChannel.lambda$bind$0(ShellChannel.java:64)\n",
       "\tat io.github.spencerpark.jupyter.channels.Loop.lambda$new$0(Loop.java:21)\n",
       "\tat io.github.spencerpark.jupyter.channels.Loop.run(Loop.java:78)\n"
      ]
     },
     "execution_count": 6,
     "metadata": {},
     "output_type": "execute_result"
    }
   ],
   "source": [
    "%viz --style=\"COMPTREE\" --view=\"Action\" \"VerificationTest\""
   ]
  },
  {
   "cell_type": "code",
   "execution_count": 7,
   "id": "vertical-health",
   "metadata": {
    "execution": {
     "iopub.execute_input": "2021-03-25T15:57:18.820763Z",
     "iopub.status.busy": "2021-03-25T15:57:18.819763Z",
     "iopub.status.idle": "2021-03-25T15:57:18.828387Z",
     "shell.execute_reply": "2021-03-25T15:57:18.829353Z"
    }
   },
   "outputs": [
    {
     "data": {
      "text/plain": [
       "java.lang.IllegalArgumentException: Invalid Style: COMPTREE Possible styles: POLYLINE, LR, STDCOLOR, PLANTUML, DEFAULT, TB, ORTHOLINE\n",
       "\tat org.omg.sysml.plantuml.SysML2PlantUMLStyle.get(SysML2PlantUMLStyle.java:258)\n",
       "\tat org.omg.sysml.plantuml.SysML2PlantUMLSvc.applyStyle(SysML2PlantUMLSvc.java:73)\n",
       "\tat org.omg.sysml.plantuml.SysML2PlantUMLSvc.getPlantUMLCode(SysML2PlantUMLSvc.java:88)\n",
       "\tat org.omg.sysml.plantuml.SysML2PlantUMLSvc.getSVG(SysML2PlantUMLSvc.java:99)\n",
       "\tat org.omg.sysml.interactive.SysMLInteractive.viz(SysMLInteractive.java:294)\n",
       "\tat org.omg.sysml.jupyter.kernel.magic.Viz.viz(Viz.java:47)\n",
       "\tat java.base/jdk.internal.reflect.NativeMethodAccessorImpl.invoke0(Native Method)\n",
       "\tat java.base/jdk.internal.reflect.NativeMethodAccessorImpl.invoke(NativeMethodAccessorImpl.java:78)\n",
       "\tat java.base/jdk.internal.reflect.DelegatingMethodAccessorImpl.invoke(DelegatingMethodAccessorImpl.java:43)\n",
       "\tat java.base/java.lang.reflect.Method.invoke(Method.java:568)\n",
       "\tat io.github.spencerpark.jupyter.kernel.magic.registry.Magics.invoke(Magics.java:89)\n",
       "\tat io.github.spencerpark.jupyter.kernel.magic.registry.Magics.access$000(Magics.java:8)\n",
       "\tat io.github.spencerpark.jupyter.kernel.magic.registry.Magics$LineReflectionMagicFunction.execute(Magics.java:149)\n",
       "\tat io.github.spencerpark.jupyter.kernel.magic.registry.Magics.applyLineMagic(Magics.java:26)\n",
       "\tat org.omg.sysml.jupyter.kernel.SysMLKernel.eval(SysMLKernel.java:76)\n",
       "\tat io.github.spencerpark.jupyter.kernel.BaseKernel.handleExecuteRequest(BaseKernel.java:334)\n",
       "\tat io.github.spencerpark.jupyter.channels.ShellChannel.lambda$bind$0(ShellChannel.java:64)\n",
       "\tat io.github.spencerpark.jupyter.channels.Loop.lambda$new$0(Loop.java:21)\n",
       "\tat io.github.spencerpark.jupyter.channels.Loop.run(Loop.java:78)\n"
      ]
     },
     "execution_count": 7,
     "metadata": {},
     "output_type": "execute_result"
    }
   ],
   "source": [
    "%viz --style=\"COMPTREE\" --view=\"Sequence\" \"VerificationTest\""
   ]
  },
  {
   "cell_type": "code",
   "execution_count": 8,
   "id": "medium-condition",
   "metadata": {
    "execution": {
     "iopub.execute_input": "2021-03-25T15:57:18.883808Z",
     "iopub.status.busy": "2021-03-25T15:57:18.882957Z",
     "iopub.status.idle": "2021-03-25T15:57:18.885542Z",
     "shell.execute_reply": "2021-03-25T15:57:18.886455Z"
    }
   },
   "outputs": [
    {
     "data": {
      "text/plain": [
       "java.lang.IllegalArgumentException: Invalid Style: COMPTREE Possible styles: POLYLINE, LR, STDCOLOR, PLANTUML, DEFAULT, TB, ORTHOLINE\n",
       "\tat org.omg.sysml.plantuml.SysML2PlantUMLStyle.get(SysML2PlantUMLStyle.java:258)\n",
       "\tat org.omg.sysml.plantuml.SysML2PlantUMLSvc.applyStyle(SysML2PlantUMLSvc.java:73)\n",
       "\tat org.omg.sysml.plantuml.SysML2PlantUMLSvc.getPlantUMLCode(SysML2PlantUMLSvc.java:88)\n",
       "\tat org.omg.sysml.plantuml.SysML2PlantUMLSvc.getSVG(SysML2PlantUMLSvc.java:99)\n",
       "\tat org.omg.sysml.interactive.SysMLInteractive.viz(SysMLInteractive.java:294)\n",
       "\tat org.omg.sysml.jupyter.kernel.magic.Viz.viz(Viz.java:47)\n",
       "\tat java.base/jdk.internal.reflect.NativeMethodAccessorImpl.invoke0(Native Method)\n",
       "\tat java.base/jdk.internal.reflect.NativeMethodAccessorImpl.invoke(NativeMethodAccessorImpl.java:78)\n",
       "\tat java.base/jdk.internal.reflect.DelegatingMethodAccessorImpl.invoke(DelegatingMethodAccessorImpl.java:43)\n",
       "\tat java.base/java.lang.reflect.Method.invoke(Method.java:568)\n",
       "\tat io.github.spencerpark.jupyter.kernel.magic.registry.Magics.invoke(Magics.java:89)\n",
       "\tat io.github.spencerpark.jupyter.kernel.magic.registry.Magics.access$000(Magics.java:8)\n",
       "\tat io.github.spencerpark.jupyter.kernel.magic.registry.Magics$LineReflectionMagicFunction.execute(Magics.java:149)\n",
       "\tat io.github.spencerpark.jupyter.kernel.magic.registry.Magics.applyLineMagic(Magics.java:26)\n",
       "\tat org.omg.sysml.jupyter.kernel.SysMLKernel.eval(SysMLKernel.java:76)\n",
       "\tat io.github.spencerpark.jupyter.kernel.BaseKernel.handleExecuteRequest(BaseKernel.java:334)\n",
       "\tat io.github.spencerpark.jupyter.channels.ShellChannel.lambda$bind$0(ShellChannel.java:64)\n",
       "\tat io.github.spencerpark.jupyter.channels.Loop.lambda$new$0(Loop.java:21)\n",
       "\tat io.github.spencerpark.jupyter.channels.Loop.run(Loop.java:78)\n"
      ]
     },
     "execution_count": 8,
     "metadata": {},
     "output_type": "execute_result"
    }
   ],
   "source": [
    "%viz --style=\"COMPTREE\" --view=\"MIXED\" \"VerificationTest\""
   ]
  },
  {
   "cell_type": "code",
   "execution_count": 9,
   "id": "deluxe-large",
   "metadata": {
    "execution": {
     "iopub.execute_input": "2021-03-25T15:57:18.943746Z",
     "iopub.status.busy": "2021-03-25T15:57:18.942557Z",
     "iopub.status.idle": "2021-03-25T15:57:22.009629Z",
     "shell.execute_reply": "2021-03-25T15:57:22.010389Z"
    }
   },
   "outputs": [
    {
     "data": {
      "image/svg+xml": [
       "<?xml version=\"1.0\" encoding=\"UTF-8\" standalone=\"no\"?><svg xmlns=\"http://www.w3.org/2000/svg\" xmlns:xlink=\"http://www.w3.org/1999/xlink\" contentScriptType=\"application/ecmascript\" contentStyleType=\"text/css\" height=\"562px\" preserveAspectRatio=\"none\" style=\"width:793px;height:562px;\" version=\"1.1\" viewBox=\"0 0 793 562\" width=\"793px\" zoomAndPan=\"magnify\"><defs/><g><!--MD5=[fbc87193dbaf4d95561dea2c320d4a47]\n",
       "cluster E1--><polygon fill=\"#FFFFFF\" points=\"16,6,147,6,154,28.2969,771,28.2969,771,550,16,550,16,6\" style=\"stroke: #000000; stroke-width: 1.5;\"/><line style=\"stroke: #000000; stroke-width: 1.5;\" x1=\"16\" x2=\"154\" y1=\"28.2969\" y2=\"28.2969\"/><text fill=\"#000000\" font-family=\"sans-serif\" font-size=\"14\" font-weight=\"bold\" lengthAdjust=\"spacingAndGlyphs\" textLength=\"125\" x=\"20\" y=\"20.9951\">VerificationTest</text><!--MD5=[de5ec2e2e8f62f467e546659f5068c88]\n",
       "cluster E5--><rect fill=\"#FFFFFF\" height=\"341.5\" style=\"stroke: #000000; stroke-width: 1.5;\" width=\"200\" x=\"544\" y=\"74.5\"/><text fill=\"#000000\" font-family=\"sans-serif\" font-size=\"14\" font-weight=\"bold\" lengthAdjust=\"spacingAndGlyphs\" textLength=\"129\" x=\"579.5\" y=\"89.4951\">VerificationCase</text><!--MD5=[917b9dd0c7eca3ee5f47219d1a84c0ad]\n",
       "cluster E11--><rect fill=\"#FFFFFF\" height=\"313\" style=\"stroke: #000000; stroke-width: 1.5;\" width=\"188\" x=\"254\" y=\"213\"/><text fill=\"#000000\" font-family=\"sans-serif\" font-size=\"14\" font-weight=\"bold\" lengthAdjust=\"spacingAndGlyphs\" textLength=\"123\" x=\"286.5\" y=\"227.9951\">VerificationPlan</text><!--MD5=[b4997ac47864f28c2f74865a473b2911]\n",
       "class E2--><rect fill=\"#FFFFFF\" height=\"58.7422\" id=\"E2\" style=\"stroke: #383838; stroke-width: 1.5;\" width=\"71\" x=\"458.5\" y=\"183.5\"/><text fill=\"#000000\" font-family=\"sans-serif\" font-size=\"12\" font-style=\"italic\" lengthAdjust=\"spacingAndGlyphs\" textLength=\"64\" x=\"462\" y=\"199.6387\">«part def»</text><text fill=\"#000000\" font-family=\"sans-serif\" font-size=\"12\" lengthAdjust=\"spacingAndGlyphs\" textLength=\"8\" x=\"490\" y=\"213.6074\">V</text><line style=\"stroke: #383838; stroke-width: 1.5;\" x1=\"459.5\" x2=\"528.5\" y1=\"221.4375\" y2=\"221.4375\"/><text fill=\"#000000\" font-family=\"sans-serif\" font-size=\"11\" lengthAdjust=\"spacingAndGlyphs\" textLength=\"59\" x=\"464.5\" y=\"235.6479\">m: Integer</text><!--MD5=[09b614a08d8cba4a07c9adeb5e0fee81]\n",
       "class E3--><rect fill=\"#FFFFFF\" height=\"45.9375\" id=\"E3\" rx=\"10\" ry=\"10\" style=\"stroke: #383838; stroke-width: 1.5;\" width=\"42\" x=\"473\" y=\"51.5\"/><text fill=\"#000000\" font-family=\"sans-serif\" font-size=\"12\" font-style=\"italic\" lengthAdjust=\"spacingAndGlyphs\" textLength=\"40\" x=\"474\" y=\"67.6387\">«part»</text><text fill=\"#000000\" font-family=\"sans-serif\" font-size=\"12\" lengthAdjust=\"spacingAndGlyphs\" textLength=\"28\" x=\"480\" y=\"81.6074\">vv: V</text><line style=\"stroke: #383838; stroke-width: 1.5;\" x1=\"474\" x2=\"514\" y1=\"89.4375\" y2=\"89.4375\"/><!--MD5=[ebbe1d658d1005bcc118a6aa81145e00]\n",
       "class E4--><rect fill=\"#FFFFFF\" height=\"66.7422\" id=\"E4\" style=\"stroke: #383838; stroke-width: 1.5;\" width=\"133\" x=\"276.5\" y=\"41\"/><text fill=\"#000000\" font-family=\"sans-serif\" font-size=\"12\" font-style=\"italic\" lengthAdjust=\"spacingAndGlyphs\" textLength=\"115\" x=\"285.5\" y=\"57.1387\">«requirement def»</text><text fill=\"#000000\" font-family=\"sans-serif\" font-size=\"12\" lengthAdjust=\"spacingAndGlyphs\" textLength=\"127\" x=\"279.5\" y=\"71.1074\">VerificationObjective</text><line style=\"stroke: #383838; stroke-width: 1.5;\" x1=\"277.5\" x2=\"408.5\" y1=\"78.9375\" y2=\"78.9375\"/><text fill=\"#000000\" font-family=\"sans-serif\" font-size=\"11\" lengthAdjust=\"spacingAndGlyphs\" textLength=\"12\" x=\"282.5\" y=\"93.1479\">...</text><line style=\"stroke: #383838; stroke-width: 1.0;\" x1=\"277.5\" x2=\"408.5\" y1=\"99.7422\" y2=\"99.7422\"/><!--MD5=[bee11217b2f71d958a27249dc326068c]\n",
       "class E14--><rect fill=\"#FFFFFF\" height=\"45.9375\" id=\"E14\" rx=\"10\" ry=\"10\" style=\"stroke: #383838; stroke-width: 1.5;\" width=\"156\" x=\"57\" y=\"51.5\"/><text fill=\"#000000\" font-family=\"sans-serif\" font-size=\"12\" font-style=\"italic\" lengthAdjust=\"spacingAndGlyphs\" textLength=\"40\" x=\"115\" y=\"67.6387\">«part»</text><text fill=\"#000000\" font-family=\"sans-serif\" font-size=\"12\" lengthAdjust=\"spacingAndGlyphs\" textLength=\"150\" x=\"60\" y=\"81.6074\">verificationContext: Part</text><line style=\"stroke: #383838; stroke-width: 1.5;\" x1=\"58\" x2=\"212\" y1=\"89.4375\" y2=\"89.4375\"/><!--MD5=[0c48fb7552dae8cbbef69381101a84c8]\n",
       "class E15--><rect fill=\"#FFFFFF\" height=\"88.3516\" id=\"E15\" rx=\"10\" ry=\"10\" style=\"stroke: #383838; stroke-width: 1.5;\" width=\"206\" x=\"32\" y=\"169\"/><text fill=\"#000000\" font-family=\"sans-serif\" font-size=\"12\" font-style=\"italic\" lengthAdjust=\"spacingAndGlyphs\" textLength=\"113\" x=\"78.5\" y=\"185.1387\">«verificationCase»</text><text fill=\"#000000\" font-family=\"sans-serif\" font-size=\"12\" lengthAdjust=\"spacingAndGlyphs\" textLength=\"200\" x=\"35\" y=\"199.1074\">verificationPlan: VerificationPlan</text><line style=\"stroke: #383838; stroke-width: 1.5;\" x1=\"33\" x2=\"237\" y1=\"206.9375\" y2=\"206.9375\"/><text fill=\"#000000\" font-family=\"sans-serif\" font-size=\"11\" lengthAdjust=\"spacingAndGlyphs\" textLength=\"50\" x=\"38\" y=\"237.9526\">v: V= vv;</text><text fill=\"#000000\" font-family=\"sans-serif\" font-size=\"11\" font-style=\"italic\" lengthAdjust=\"spacingAndGlyphs\" textLength=\"123\" x=\"38\" y=\"250.7573\">:&gt;&gt;VerificationPlan::v</text><line style=\"stroke: #383838; stroke-width: 1.0;\" x1=\"33\" x2=\"104\" y1=\"221.3398\" y2=\"221.3398\"/><text fill=\"#000000\" font-family=\"sans-serif\" font-size=\"11\" lengthAdjust=\"spacingAndGlyphs\" textLength=\"62\" x=\"104\" y=\"224.6479\">references</text><line style=\"stroke: #383838; stroke-width: 1.0;\" x1=\"166\" x2=\"237\" y1=\"221.3398\" y2=\"221.3398\"/><!--MD5=[35f0587eaee8d5bb9a02e25b63afc23b]\n",
       "class E16--><rect fill=\"#FFFFFF\" height=\"45.9375\" id=\"E16\" rx=\"10\" ry=\"10\" style=\"stroke: #383838; stroke-width: 1.5;\" width=\"151\" x=\"59.5\" y=\"334\"/><text fill=\"#000000\" font-family=\"sans-serif\" font-size=\"12\" font-style=\"italic\" lengthAdjust=\"spacingAndGlyphs\" textLength=\"91\" x=\"89.5\" y=\"350.1387\">«requirement»</text><text fill=\"#000000\" font-family=\"sans-serif\" font-size=\"12\" lengthAdjust=\"spacingAndGlyphs\" textLength=\"145\" x=\"62.5\" y=\"364.1074\">obj: RequirementCheck</text><line style=\"stroke: #383838; stroke-width: 1.5;\" x1=\"60.5\" x2=\"209.5\" y1=\"371.9375\" y2=\"371.9375\"/><text fill=\"#000000\" font-family=\"sans-serif\" font-size=\"14\" lengthAdjust=\"spacingAndGlyphs\" textLength=\"7\" x=\"558.5\" y=\"53.1982\">v</text><rect fill=\"#383838\" height=\"12\" style=\"stroke: #F8F8F8; stroke-width: 1.5;\" width=\"12\" x=\"556\" y=\"68.5\"/><text fill=\"#000000\" font-family=\"sans-serif\" font-size=\"14\" lengthAdjust=\"spacingAndGlyphs\" textLength=\"48\" x=\"549\" y=\"434.9951\">$result</text><rect fill=\"#383838\" height=\"12\" style=\"stroke: #F8F8F8; stroke-width: 1.5;\" width=\"12\" x=\"567\" y=\"410\"/><text fill=\"#000000\" font-family=\"sans-serif\" font-size=\"14\" lengthAdjust=\"spacingAndGlyphs\" textLength=\"16\" x=\"636\" y=\"53.1982\">$x</text><rect fill=\"#383838\" height=\"12\" style=\"stroke: #F8F8F8; stroke-width: 1.5;\" width=\"12\" x=\"638\" y=\"68.5\"/><text fill=\"#000000\" font-family=\"sans-serif\" font-size=\"14\" lengthAdjust=\"spacingAndGlyphs\" textLength=\"16\" x=\"718\" y=\"53.1982\">$y</text><rect fill=\"#383838\" height=\"12\" style=\"stroke: #F8F8F8; stroke-width: 1.5;\" width=\"12\" x=\"720\" y=\"68.5\"/><text fill=\"#000000\" font-family=\"sans-serif\" font-size=\"14\" lengthAdjust=\"spacingAndGlyphs\" textLength=\"48\" x=\"631\" y=\"434.9951\">$result</text><rect fill=\"#383838\" height=\"12\" style=\"stroke: #F8F8F8; stroke-width: 1.5;\" width=\"12\" x=\"649\" y=\"410\"/><text fill=\"#000000\" font-family=\"sans-serif\" font-size=\"14\" lengthAdjust=\"spacingAndGlyphs\" textLength=\"7\" x=\"344.5\" y=\"191.6982\">v</text><rect fill=\"#383838\" height=\"12\" style=\"stroke: #F8F8F8; stroke-width: 1.5;\" width=\"12\" x=\"342\" y=\"207\"/><g id=\"E1.E11.E13\"><rect fill=\"#FFFFFF\" height=\"50\" rx=\"12.5\" ry=\"12.5\" style=\"stroke: #383838; stroke-width: 1.5;\" width=\"128\" x=\"284\" y=\"452\"/><line style=\"stroke: #383838; stroke-width: 1.5;\" x1=\"284\" x2=\"412\" y1=\"478.2969\" y2=\"478.2969\"/><text fill=\"#000000\" font-family=\"sans-serif\" font-size=\"14\" lengthAdjust=\"spacingAndGlyphs\" textLength=\"108\" x=\"294\" y=\"469.9951\">verificationCase</text></g><!--MD5=[05d275557350bfb9b23a4ef7222b4c39]\n",
       "link E3 to E2--><path d=\"M494,97.73 C494,115.37 494,140.67 494,162.99 \" fill=\"none\" id=\"E3-&gt;E2\" style=\"stroke: #383838; stroke-width: 1.0;\"/><polygon fill=\"#FFFFFF\" points=\"494,183.12,487,164.12,501,164.12,494,183.12\" style=\"stroke: #383838; stroke-width: 1.0;\"/><ellipse cx=\"489\" cy=\"158.42\" fill=\"#383838\" rx=\"2\" ry=\"2\" style=\"stroke: #383838; stroke-width: 1.0;\"/><ellipse cx=\"499\" cy=\"158.42\" fill=\"#383838\" rx=\"2\" ry=\"2\" style=\"stroke: #383838; stroke-width: 1.0;\"/><!--MD5=[cf04703ca05eebef50f1cfe8b03e143b]\n",
       "link E9 to E7--><path d=\"M726,80.7 C726,114.71 726,304 726,304 C726,304 607.81,389.74 579.19,410.51 \" fill=\"none\" id=\"E9-E7\" style=\"stroke: #383838; stroke-width: 5.0;\"/><!--MD5=[58d440dfd4c930e286431b4800d1b487]\n",
       "link E15 to E11--><path d=\"M199.77,257.18 C211.705,265.1375 224.47,273.6475 237.3159,282.2111 C240.5274,284.352 243.744,286.4962 246.9539,288.636 C248.5588,289.7059 250.1621,290.7747 251.7623,291.8414 C252.1623,292.1081 252.5621,292.3747 252.9618,292.6411 C253.1616,292.7743 253.3613,292.9074 253.561,293.0405 \" fill=\"none\" id=\"E15-&gt;E11\" style=\"stroke: #383838; stroke-width: 1.0;\"/><polygon fill=\"#FFFFFF\" points=\"253.561,293.0405,233.869,288.3262,241.6345,276.6773,253.561,293.0405\" style=\"stroke: #383838; stroke-width: 1.0;\"/><ellipse cx=\"230.2356\" cy=\"283.5004\" fill=\"#383838\" rx=\"2\" ry=\"2\" style=\"stroke: #383838; stroke-width: 1.0;\"/><ellipse cx=\"235.7823\" cy=\"275.1798\" fill=\"#383838\" rx=\"2\" ry=\"2\" style=\"stroke: #383838; stroke-width: 1.0;\"/><!--MD5=[17bf29720e4688890742b92d9a67fdf0]\n",
       "reverse link E14 to E15--><path d=\"M135,110.96 C135,128.64 135,150.18 135,168.81 \" fill=\"none\" id=\"E14&lt;-E15\" style=\"stroke: #383838; stroke-width: 1.0;\"/><polygon fill=\"#383838\" points=\"135,97.73,131,103.73,135,109.73,139,103.73,135,97.73\" style=\"stroke: #383838; stroke-width: 1.0;\"/><!--MD5=[f8b155c46b092be73bb522b0a8fc72a2]\n",
       "link E15 to E16--><path d=\"M135,257.38 C135,279.5 135,305.86 135,325.76 \" fill=\"none\" id=\"E15-&gt;E16\" style=\"stroke: #383838; stroke-width: 1.0;\"/><polygon fill=\"#383838\" points=\"135,333.87,138,325.87,132,325.87,135,333.87\" style=\"stroke: #383838; stroke-width: 1.0;\"/><text fill=\"#000000\" font-family=\"sans-serif\" font-size=\"13\" lengthAdjust=\"spacingAndGlyphs\" textLength=\"73\" x=\"136\" y=\"300.0669\">«objective»</text><!--MD5=[92c2776f3268d0b7b1ece8634ed20a1d]\n",
       "@startuml\r\n",
       "skinparam linetype polyline\r\n",
       "skinparam monochrome true\r\n",
       "skinparam classbackgroundcolor white\r\n",
       "skinparam shadowing false\r\n",
       "skinparam wrapWidth 300\r\n",
       "hide circle\r\n",
       "\r\n",
       "package \"VerificationTest\" as E1   {\r\n",
       "comp def \"V\" as E2  <<(T,blue)part def>> {\r\n",
       "m: Integer\r\n",
       "}\r\n",
       "comp usage \"vv: V\" as E3  <<(T,blue)part>> {\r\n",
       "}\r\n",
       "comp def \"VerificationObjective\" as E4  <<(T,blue)requirement def>> {\r\n",
       "...\r\n",
       "- -\r\n",
       "}\r\n",
       "rec def \"VerificationCase\" as E5 {\r\n",
       "portin \"v\" as E6  \r\n",
       "portout \"$result\" as E7  \r\n",
       "portin \"$x\" as E8  \r\n",
       "portin \"$y\" as E9  \r\n",
       "portout \"$result\" as E10  \r\n",
       "}\r\n",
       "\r\n",
       "rec def \"VerificationPlan\" as E11 {\r\n",
       "portin \"v\" as E12  \r\n",
       "rec usage \"verificationCase\" as E13 {\r\n",
       "}\r\n",
       "\r\n",
       "}\r\n",
       "\r\n",
       "comp usage \"verificationContext: Part\" as E14  <<(T,blue)part>> {\r\n",
       "}\r\n",
       "comp usage \"verificationPlan: VerificationPlan\" as E15  <<(T,blue)verificationCase>> {\r\n",
       "- -references- -\r\n",
       "v: V= vv; \\n//:>>VerificationPlan::v// \r\n",
       "}\r\n",
       "comp usage \"obj: RequirementCheck\" as E16  <<(T,blue)requirement>> {\r\n",
       "}\r\n",
       "E3 - -:|> E2\r\n",
       "E9 -[thickness=5]- E7\r\n",
       "E15 - -:|> E11\r\n",
       "E14 *- - E15\r\n",
       "E15 - ->> E16 : <<objective>>\r\n",
       "}\r\n",
       "@enduml\r\n",
       "\n",
       "PlantUML version 1.2020.13(Sat Jun 13 12:26:38 UTC 2020)\n",
       "(EPL source distribution)\n",
       "Java Runtime: OpenJDK Runtime Environment\n",
       "JVM: OpenJDK 64-Bit Server VM\n",
       "Default Encoding: UTF-8\n",
       "Language: en\n",
       "Country: null\n",
       "--></g></svg>"
      ]
     },
     "execution_count": 9,
     "metadata": {},
     "output_type": "execute_result"
    }
   ],
   "source": [
    "%viz --style=\"POLYLINE\" --view=\"Default\" \"VerificationTest\""
   ]
  },
  {
   "cell_type": "code",
   "execution_count": 10,
   "id": "reliable-adobe",
   "metadata": {
    "execution": {
     "iopub.execute_input": "2021-03-25T15:57:22.060080Z",
     "iopub.status.busy": "2021-03-25T15:57:22.059112Z",
     "iopub.status.idle": "2021-03-25T15:57:24.582265Z",
     "shell.execute_reply": "2021-03-25T15:57:24.581421Z"
    }
   },
   "outputs": [
    {
     "data": {
      "image/svg+xml": [
       "<?xml version=\"1.0\" encoding=\"UTF-8\" standalone=\"no\"?><svg xmlns=\"http://www.w3.org/2000/svg\" xmlns:xlink=\"http://www.w3.org/1999/xlink\" contentScriptType=\"application/ecmascript\" contentStyleType=\"text/css\" height=\"947px\" preserveAspectRatio=\"none\" style=\"width:519px;height:947px;\" version=\"1.1\" viewBox=\"0 0 519 947\" width=\"519px\" zoomAndPan=\"magnify\"><defs/><g><!--MD5=[fbc87193dbaf4d95561dea2c320d4a47]\n",
       "cluster E1--><polygon fill=\"#FFFFFF\" points=\"16,6,147,6,154,28.2969,497,28.2969,497,935,16,935,16,6\" style=\"stroke: #000000; stroke-width: 1.5;\"/><line style=\"stroke: #000000; stroke-width: 1.5;\" x1=\"16\" x2=\"154\" y1=\"28.2969\" y2=\"28.2969\"/><text fill=\"#000000\" font-family=\"sans-serif\" font-size=\"14\" font-weight=\"bold\" lengthAdjust=\"spacingAndGlyphs\" textLength=\"125\" x=\"20\" y=\"20.9951\">VerificationTest</text><!--MD5=[b4997ac47864f28c2f74865a473b2911]\n",
       "class E2--><rect fill=\"#FFFFFF\" height=\"58.7422\" id=\"E2\" style=\"stroke: #383838; stroke-width: 1.5;\" width=\"71\" x=\"193.5\" y=\"717.5\"/><text fill=\"#000000\" font-family=\"sans-serif\" font-size=\"12\" font-style=\"italic\" lengthAdjust=\"spacingAndGlyphs\" textLength=\"64\" x=\"197\" y=\"733.6387\">«part def»</text><text fill=\"#000000\" font-family=\"sans-serif\" font-size=\"12\" lengthAdjust=\"spacingAndGlyphs\" textLength=\"8\" x=\"225\" y=\"747.6074\">V</text><line style=\"stroke: #383838; stroke-width: 1.5;\" x1=\"194.5\" x2=\"263.5\" y1=\"755.4375\" y2=\"755.4375\"/><text fill=\"#000000\" font-family=\"sans-serif\" font-size=\"11\" lengthAdjust=\"spacingAndGlyphs\" textLength=\"59\" x=\"199.5\" y=\"769.6479\">m: Integer</text><!--MD5=[09b614a08d8cba4a07c9adeb5e0fee81]\n",
       "class E3--><rect fill=\"#FFFFFF\" height=\"45.9375\" id=\"E3\" rx=\"10\" ry=\"10\" style=\"stroke: #383838; stroke-width: 1.5;\" width=\"42\" x=\"264\" y=\"580\"/><text fill=\"#000000\" font-family=\"sans-serif\" font-size=\"12\" font-style=\"italic\" lengthAdjust=\"spacingAndGlyphs\" textLength=\"40\" x=\"265\" y=\"596.1387\">«part»</text><text fill=\"#000000\" font-family=\"sans-serif\" font-size=\"12\" lengthAdjust=\"spacingAndGlyphs\" textLength=\"28\" x=\"271\" y=\"610.1074\">vv: V</text><line style=\"stroke: #383838; stroke-width: 1.5;\" x1=\"265\" x2=\"305\" y1=\"617.9375\" y2=\"617.9375\"/><!--MD5=[ebbe1d658d1005bcc118a6aa81145e00]\n",
       "class E4--><rect fill=\"#FFFFFF\" height=\"66.7422\" id=\"E4\" style=\"stroke: #383838; stroke-width: 1.5;\" width=\"133\" x=\"323.5\" y=\"852\"/><text fill=\"#000000\" font-family=\"sans-serif\" font-size=\"12\" font-style=\"italic\" lengthAdjust=\"spacingAndGlyphs\" textLength=\"115\" x=\"332.5\" y=\"868.1387\">«requirement def»</text><text fill=\"#000000\" font-family=\"sans-serif\" font-size=\"12\" lengthAdjust=\"spacingAndGlyphs\" textLength=\"127\" x=\"326.5\" y=\"882.1074\">VerificationObjective</text><line style=\"stroke: #383838; stroke-width: 1.5;\" x1=\"324.5\" x2=\"455.5\" y1=\"889.9375\" y2=\"889.9375\"/><text fill=\"#000000\" font-family=\"sans-serif\" font-size=\"11\" lengthAdjust=\"spacingAndGlyphs\" textLength=\"12\" x=\"329.5\" y=\"904.1479\">...</text><line style=\"stroke: #383838; stroke-width: 1.0;\" x1=\"324.5\" x2=\"455.5\" y1=\"910.7422\" y2=\"910.7422\"/><!--MD5=[270fce915f116d4de14055a7c1d9a0f3]\n",
       "class E5--><rect fill=\"#FFFFFF\" height=\"45.9375\" id=\"E5\" style=\"stroke: #383838; stroke-width: 1.5;\" width=\"139\" x=\"341.5\" y=\"580\"/><text fill=\"#000000\" font-family=\"sans-serif\" font-size=\"12\" font-style=\"italic\" lengthAdjust=\"spacingAndGlyphs\" textLength=\"137\" x=\"342.5\" y=\"596.1387\">«verificationCase def»</text><text fill=\"#000000\" font-family=\"sans-serif\" font-size=\"12\" lengthAdjust=\"spacingAndGlyphs\" textLength=\"101\" x=\"360.5\" y=\"610.1074\">VerificationCase</text><line style=\"stroke: #383838; stroke-width: 1.5;\" x1=\"342.5\" x2=\"479.5\" y1=\"617.9375\" y2=\"617.9375\"/><!--MD5=[60a26617385b1d2d0262a64233df1f8d]\n",
       "class E6--><rect fill=\"#FFFFFF\" height=\"88.3516\" id=\"E6\" rx=\"10\" ry=\"10\" style=\"stroke: #383838; stroke-width: 1.5;\" width=\"181\" x=\"299.5\" y=\"703\"/><text fill=\"#000000\" font-family=\"sans-serif\" font-size=\"12\" font-style=\"italic\" lengthAdjust=\"spacingAndGlyphs\" textLength=\"91\" x=\"344.5\" y=\"719.1387\">«requirement»</text><text fill=\"#000000\" font-family=\"sans-serif\" font-size=\"12\" lengthAdjust=\"spacingAndGlyphs\" textLength=\"154\" x=\"313\" y=\"733.1074\">obj: VerificationObjective</text><line style=\"stroke: #383838; stroke-width: 1.5;\" x1=\"300.5\" x2=\"479.5\" y1=\"740.9375\" y2=\"740.9375\"/><text fill=\"#000000\" font-family=\"sans-serif\" font-size=\"11\" lengthAdjust=\"spacingAndGlyphs\" textLength=\"103\" x=\"305.5\" y=\"771.9526\">subj: Anything= v;</text><text fill=\"#000000\" font-family=\"sans-serif\" font-size=\"11\" font-style=\"italic\" lengthAdjust=\"spacingAndGlyphs\" textLength=\"169\" x=\"305.5\" y=\"784.7573\">:&gt;&gt;VerificationObjective::subj</text><line style=\"stroke: #383838; stroke-width: 1.0;\" x1=\"300.5\" x2=\"359\" y1=\"755.3398\" y2=\"755.3398\"/><text fill=\"#000000\" font-family=\"sans-serif\" font-size=\"11\" lengthAdjust=\"spacingAndGlyphs\" textLength=\"62\" x=\"359\" y=\"758.6479\">references</text><line style=\"stroke: #383838; stroke-width: 1.0;\" x1=\"421\" x2=\"479.5\" y1=\"755.3398\" y2=\"755.3398\"/><!--MD5=[2156ba9850f5573cc1fc38a6a4b2f02b]\n",
       "class E7--><rect fill=\"#FFFFFF\" height=\"45.9375\" id=\"E7\" style=\"stroke: #383838; stroke-width: 1.5;\" width=\"139\" x=\"86.5\" y=\"313\"/><text fill=\"#000000\" font-family=\"sans-serif\" font-size=\"12\" font-style=\"italic\" lengthAdjust=\"spacingAndGlyphs\" textLength=\"137\" x=\"87.5\" y=\"329.1387\">«verificationCase def»</text><text fill=\"#000000\" font-family=\"sans-serif\" font-size=\"12\" lengthAdjust=\"spacingAndGlyphs\" textLength=\"97\" x=\"107.5\" y=\"343.1074\">VerificationPlan</text><line style=\"stroke: #383838; stroke-width: 1.5;\" x1=\"87.5\" x2=\"224.5\" y1=\"350.9375\" y2=\"350.9375\"/><!--MD5=[b9389687b975829384b498ac4b7476b2]\n",
       "class E8--><rect fill=\"#FFFFFF\" height=\"66.7422\" id=\"E8\" rx=\"10\" ry=\"10\" style=\"stroke: #383838; stroke-width: 1.5;\" width=\"151\" x=\"80.5\" y=\"436\"/><text fill=\"#000000\" font-family=\"sans-serif\" font-size=\"12\" font-style=\"italic\" lengthAdjust=\"spacingAndGlyphs\" textLength=\"91\" x=\"110.5\" y=\"452.1387\">«requirement»</text><text fill=\"#000000\" font-family=\"sans-serif\" font-size=\"12\" lengthAdjust=\"spacingAndGlyphs\" textLength=\"145\" x=\"83.5\" y=\"466.1074\">obj: RequirementCheck</text><line style=\"stroke: #383838; stroke-width: 1.5;\" x1=\"81.5\" x2=\"230.5\" y1=\"473.9375\" y2=\"473.9375\"/><text fill=\"#000000\" font-family=\"sans-serif\" font-size=\"11\" lengthAdjust=\"spacingAndGlyphs\" textLength=\"12\" x=\"86.5\" y=\"488.1479\">...</text><line style=\"stroke: #383838; stroke-width: 1.0;\" x1=\"81.5\" x2=\"230.5\" y1=\"494.7422\" y2=\"494.7422\"/><!--MD5=[fd4143e9d270a159db93a4ea2a975926]\n",
       "class E9--><rect fill=\"#FFFFFF\" height=\"45.9375\" id=\"E9\" rx=\"10\" ry=\"10\" style=\"stroke: #383838; stroke-width: 1.5;\" width=\"214\" x=\"267\" y=\"446.5\"/><text fill=\"#000000\" font-family=\"sans-serif\" font-size=\"12\" font-style=\"italic\" lengthAdjust=\"spacingAndGlyphs\" textLength=\"113\" x=\"317.5\" y=\"462.6387\">«verificationCase»</text><text fill=\"#000000\" font-family=\"sans-serif\" font-size=\"12\" lengthAdjust=\"spacingAndGlyphs\" textLength=\"208\" x=\"270\" y=\"476.6074\">verificationCase: VerificationCase</text><line style=\"stroke: #383838; stroke-width: 1.5;\" x1=\"268\" x2=\"480\" y1=\"484.4375\" y2=\"484.4375\"/><!--MD5=[96f4274e9e20536e775497830990834d]\n",
       "class E10--><rect fill=\"#FFFFFF\" height=\"45.9375\" id=\"E10\" rx=\"10\" ry=\"10\" style=\"stroke: #383838; stroke-width: 1.5;\" width=\"160\" x=\"69\" y=\"580\"/><text fill=\"#000000\" font-family=\"sans-serif\" font-size=\"12\" font-style=\"italic\" lengthAdjust=\"spacingAndGlyphs\" textLength=\"91\" x=\"103.5\" y=\"596.1387\">«requirement»</text><text fill=\"#000000\" font-family=\"sans-serif\" font-size=\"12\" lengthAdjust=\"spacingAndGlyphs\" textLength=\"154\" x=\"72\" y=\"610.1074\">obj: VerificationObjective</text><line style=\"stroke: #383838; stroke-width: 1.5;\" x1=\"70\" x2=\"228\" y1=\"617.9375\" y2=\"617.9375\"/><!--MD5=[1dd1bfd58a279cf63c5f349dbc8fc6a1]\n",
       "class E11--><rect fill=\"#FFFFFF\" height=\"45.9375\" id=\"E11\" rx=\"10\" ry=\"10\" style=\"stroke: #383838; stroke-width: 1.5;\" width=\"156\" x=\"168\" y=\"41\"/><text fill=\"#000000\" font-family=\"sans-serif\" font-size=\"12\" font-style=\"italic\" lengthAdjust=\"spacingAndGlyphs\" textLength=\"40\" x=\"226\" y=\"57.1387\">«part»</text><text fill=\"#000000\" font-family=\"sans-serif\" font-size=\"12\" lengthAdjust=\"spacingAndGlyphs\" textLength=\"150\" x=\"171\" y=\"71.1074\">verificationContext: Part</text><line style=\"stroke: #383838; stroke-width: 1.5;\" x1=\"169\" x2=\"323\" y1=\"78.9375\" y2=\"78.9375\"/><!--MD5=[49a0ec8f00dab7302a31f22d0f0fe584]\n",
       "class E12--><rect fill=\"#FFFFFF\" height=\"88.3516\" id=\"E12\" rx=\"10\" ry=\"10\" style=\"stroke: #383838; stroke-width: 1.5;\" width=\"206\" x=\"143\" y=\"148\"/><text fill=\"#000000\" font-family=\"sans-serif\" font-size=\"12\" font-style=\"italic\" lengthAdjust=\"spacingAndGlyphs\" textLength=\"113\" x=\"189.5\" y=\"164.1387\">«verificationCase»</text><text fill=\"#000000\" font-family=\"sans-serif\" font-size=\"12\" lengthAdjust=\"spacingAndGlyphs\" textLength=\"200\" x=\"146\" y=\"178.1074\">verificationPlan: VerificationPlan</text><line style=\"stroke: #383838; stroke-width: 1.5;\" x1=\"144\" x2=\"348\" y1=\"185.9375\" y2=\"185.9375\"/><text fill=\"#000000\" font-family=\"sans-serif\" font-size=\"11\" lengthAdjust=\"spacingAndGlyphs\" textLength=\"50\" x=\"149\" y=\"216.9526\">v: V= vv;</text><text fill=\"#000000\" font-family=\"sans-serif\" font-size=\"11\" font-style=\"italic\" lengthAdjust=\"spacingAndGlyphs\" textLength=\"123\" x=\"149\" y=\"229.7573\">:&gt;&gt;VerificationPlan::v</text><line style=\"stroke: #383838; stroke-width: 1.0;\" x1=\"144\" x2=\"215\" y1=\"200.3398\" y2=\"200.3398\"/><text fill=\"#000000\" font-family=\"sans-serif\" font-size=\"11\" lengthAdjust=\"spacingAndGlyphs\" textLength=\"62\" x=\"215\" y=\"203.6479\">references</text><line style=\"stroke: #383838; stroke-width: 1.0;\" x1=\"277\" x2=\"348\" y1=\"200.3398\" y2=\"200.3398\"/><!--MD5=[ee3c913d1a06f366521f9ef512b67efe]\n",
       "class E13--><rect fill=\"#FFFFFF\" height=\"45.9375\" id=\"E13\" rx=\"10\" ry=\"10\" style=\"stroke: #383838; stroke-width: 1.5;\" width=\"151\" x=\"260.5\" y=\"313\"/><text fill=\"#000000\" font-family=\"sans-serif\" font-size=\"12\" font-style=\"italic\" lengthAdjust=\"spacingAndGlyphs\" textLength=\"91\" x=\"290.5\" y=\"329.1387\">«requirement»</text><text fill=\"#000000\" font-family=\"sans-serif\" font-size=\"12\" lengthAdjust=\"spacingAndGlyphs\" textLength=\"145\" x=\"263.5\" y=\"343.1074\">obj: RequirementCheck</text><line style=\"stroke: #383838; stroke-width: 1.5;\" x1=\"261.5\" x2=\"410.5\" y1=\"350.9375\" y2=\"350.9375\"/><!--MD5=[05d275557350bfb9b23a4ef7222b4c39]\n",
       "link E3 to E2--><path d=\"M267.19,626.05 C255.74,640.23 243,656 243,656 C243,656 239.9,675.94 236.62,697.05 \" fill=\"none\" id=\"E3-&gt;E2\" style=\"stroke: #383838; stroke-width: 1.0;\"/><polygon fill=\"#FFFFFF\" points=\"233.51,717.03,229.5096,697.1807,243.3436,699.3297,233.51,717.03\" style=\"stroke: #383838; stroke-width: 1.0;\"/><ellipse cx=\"232.3608\" cy=\"691.8552\" fill=\"#383838\" rx=\"2\" ry=\"2\" style=\"stroke: #383838; stroke-width: 1.0;\"/><ellipse cx=\"242.2423\" cy=\"693.3903\" fill=\"#383838\" rx=\"2\" ry=\"2\" style=\"stroke: #383838; stroke-width: 1.0;\"/><!--MD5=[15ebcb19ae302d9b601edb458606d402]\n",
       "link E5 to E2--><path d=\"M376.22,626.05 C353.88,640.23 329,656 329,656 C329,656 293.45,688 264.74,713.84 \" fill=\"none\" id=\"E5-&gt;E2\" style=\"stroke: #383838; stroke-width: 1.0; stroke-dasharray: 7.0,7.0;\"/><polygon fill=\"#383838\" points=\"260.92,717.28,270.2855,714.2325,264.6365,713.9352,264.9338,708.2861,260.92,717.28\" style=\"stroke: #383838; stroke-width: 1.0;\"/><text fill=\"#000000\" font-family=\"sans-serif\" font-size=\"13\" lengthAdjust=\"spacingAndGlyphs\" textLength=\"62\" x=\"330\" y=\"669.0669\">«subject»</text><!--MD5=[9120cf2e5df3bff93db8f754bbbc09b4]\n",
       "link E5 to E6--><path d=\"M407.72,626.19 C405.02,644.47 401.07,671.12 397.59,694.64 \" fill=\"none\" id=\"E5-&gt;E6\" style=\"stroke: #383838; stroke-width: 1.0;\"/><polygon fill=\"#383838\" points=\"396.39,702.82,400.529,695.3455,394.5937,694.467,396.39,702.82\" style=\"stroke: #383838; stroke-width: 1.0;\"/><text fill=\"#000000\" font-family=\"sans-serif\" font-size=\"13\" lengthAdjust=\"spacingAndGlyphs\" textLength=\"73\" x=\"403\" y=\"669.0669\">«objective»</text><!--MD5=[f667431f98296947986a1a7595a31603]\n",
       "link E6 to E4--><path d=\"M390,791.19 C390,804.11 390,818.41 390,831.87 \" fill=\"none\" id=\"E6-&gt;E4\" style=\"stroke: #383838; stroke-width: 1.0;\"/><polygon fill=\"#FFFFFF\" points=\"390,851.98,383,832.98,397,832.98,390,851.98\" style=\"stroke: #383838; stroke-width: 1.0;\"/><ellipse cx=\"385\" cy=\"827.28\" fill=\"#383838\" rx=\"2\" ry=\"2\" style=\"stroke: #383838; stroke-width: 1.0;\"/><ellipse cx=\"395\" cy=\"827.28\" fill=\"#383838\" rx=\"2\" ry=\"2\" style=\"stroke: #383838; stroke-width: 1.0;\"/><!--MD5=[583832df87f4419a098336a29a52fa00]\n",
       "link E7 to E2--><path d=\"M134.9,359.46 C107.46,388.67 63,436 63,436 C63,436 52,580 52,580 C52,580 52,626 52,626 C52,626 136.64,683.38 188.86,718.78 \" fill=\"none\" id=\"E7-&gt;E2\" style=\"stroke: #383838; stroke-width: 1.0; stroke-dasharray: 7.0,7.0;\"/><polygon fill=\"#383838\" points=\"193.18,721.72,187.9632,713.3663,189.0374,718.9202,183.4835,719.9944,193.18,721.72\" style=\"stroke: #383838; stroke-width: 1.0;\"/><text fill=\"#000000\" font-family=\"sans-serif\" font-size=\"13\" lengthAdjust=\"spacingAndGlyphs\" textLength=\"62\" x=\"56\" y=\"546.0669\">«subject»</text><!--MD5=[79bc8f324ef4d02c541433f2e6e513c3]\n",
       "link E7 to E8--><path d=\"M156,359.01 C156,377.7 156,405.02 156,427.69 \" fill=\"none\" id=\"E7-&gt;E8\" style=\"stroke: #383838; stroke-width: 1.0;\"/><polygon fill=\"#383838\" points=\"156,435.81,159,427.81,153,427.81,156,435.81\" style=\"stroke: #383838; stroke-width: 1.0;\"/><text fill=\"#000000\" font-family=\"sans-serif\" font-size=\"13\" lengthAdjust=\"spacingAndGlyphs\" textLength=\"73\" x=\"157\" y=\"402.0669\">«objective»</text><!--MD5=[bfc3ddf2e613be37104f658f09af896c]\n",
       "link E9 to E5--><path d=\"M380.19,492.51 C385.4,511 392.97,537.94 399.31,560.46 \" fill=\"none\" id=\"E9-&gt;E5\" style=\"stroke: #383838; stroke-width: 1.0;\"/><polygon fill=\"#FFFFFF\" points=\"404.79,579.92,392.9087,563.5238,406.3861,559.7346,404.79,579.92\" style=\"stroke: #383838; stroke-width: 1.0;\"/><ellipse cx=\"393.2913\" cy=\"557.4953\" fill=\"#383838\" rx=\"2\" ry=\"2\" style=\"stroke: #383838; stroke-width: 1.0;\"/><ellipse cx=\"402.918\" cy=\"554.7886\" fill=\"#383838\" rx=\"2\" ry=\"2\" style=\"stroke: #383838; stroke-width: 1.0;\"/><!--MD5=[e4a10ef82d0e328e31cac39a31e58dda]\n",
       "reverse link E7 to E9--><path d=\"M203.63,365.73 C243.86,390 300.64,424.25 337.39,446.42 \" fill=\"none\" id=\"E7&lt;-E9\" style=\"stroke: #383838; stroke-width: 1.0;\"/><polygon fill=\"#383838\" points=\"192.49,359.01,195.561,365.5345,202.7648,365.2091,199.6938,358.6847,192.49,359.01\" style=\"stroke: #383838; stroke-width: 1.0;\"/><!--MD5=[35e5f1cbde42fa304a029880aa2bc7f2]\n",
       "link E9 to E10--><path d=\"M336.34,492.51 C297.08,515.46 235.56,551.41 193.82,575.81 \" fill=\"none\" id=\"E9-&gt;E10\" style=\"stroke: #383838; stroke-width: 1.0;\"/><polygon fill=\"#383838\" points=\"186.78,579.92,195.2026,578.4847,192.182,573.3005,186.78,579.92\" style=\"stroke: #383838; stroke-width: 1.0;\"/><text fill=\"#000000\" font-family=\"sans-serif\" font-size=\"13\" lengthAdjust=\"spacingAndGlyphs\" textLength=\"73\" x=\"262\" y=\"546.0669\">«objective»</text><!--MD5=[ae660f5ecd7ddb04a8913625960940af]\n",
       "link E12 to E7--><path d=\"M218.51,236.38 C206.49,255.34 192.5,277.42 180.8,295.87 \" fill=\"none\" id=\"E12-&gt;E7\" style=\"stroke: #383838; stroke-width: 1.0;\"/><polygon fill=\"#FFFFFF\" points=\"170.03,312.87,174.2795,293.0725,186.108,300.5615,170.03,312.87\" style=\"stroke: #383838; stroke-width: 1.0;\"/><ellipse cx=\"179.0184\" cy=\"289.3264\" fill=\"#383838\" rx=\"2\" ry=\"2\" style=\"stroke: #383838; stroke-width: 1.0;\"/><ellipse cx=\"187.4673\" cy=\"294.6758\" fill=\"#383838\" rx=\"2\" ry=\"2\" style=\"stroke: #383838; stroke-width: 1.0;\"/><!--MD5=[94adabc162ce7e41b39f13be14fbaeb3]\n",
       "reverse link E11 to E12--><path d=\"M246,100.45 C246,115.17 246,132.39 246,147.84 \" fill=\"none\" id=\"E11&lt;-E12\" style=\"stroke: #383838; stroke-width: 1.0;\"/><polygon fill=\"#383838\" points=\"246,87.24,242,93.24,246,99.24,250,93.24,246,87.24\" style=\"stroke: #383838; stroke-width: 1.0;\"/><!--MD5=[e2a9ac97dcd3257bb5342dae06547bad]\n",
       "link E12 to E13--><path d=\"M273.49,236.38 C287.83,258.99 304.97,286.04 317.67,306.09 \" fill=\"none\" id=\"E12-&gt;E13\" style=\"stroke: #383838; stroke-width: 1.0;\"/><polygon fill=\"#383838\" points=\"321.97,312.87,320.2186,304.5074,315.1518,307.7211,321.97,312.87\" style=\"stroke: #383838; stroke-width: 1.0;\"/><text fill=\"#000000\" font-family=\"sans-serif\" font-size=\"13\" lengthAdjust=\"spacingAndGlyphs\" textLength=\"73\" x=\"302\" y=\"279.0669\">«objective»</text><!--MD5=[3f8c8ba52444840eddadfc511961d713]\n",
       "@startuml\r\n",
       "skinparam linetype polyline\r\n",
       "skinparam monochrome true\r\n",
       "skinparam classbackgroundcolor white\r\n",
       "skinparam shadowing false\r\n",
       "skinparam wrapWidth 300\r\n",
       "hide circle\r\n",
       "\r\n",
       "package \"VerificationTest\" as E1   {\r\n",
       "comp def \"V\" as E2  <<(T,blue)part def>> {\r\n",
       "m: Integer\r\n",
       "}\r\n",
       "comp usage \"vv: V\" as E3  <<(T,blue)part>> {\r\n",
       "}\r\n",
       "comp def \"VerificationObjective\" as E4  <<(T,blue)requirement def>> {\r\n",
       "...\r\n",
       "- -\r\n",
       "}\r\n",
       "comp def \"VerificationCase\" as E5  <<(T,blue)verificationCase def>> {\r\n",
       "}\r\n",
       "comp usage \"obj: VerificationObjective\" as E6  <<(T,blue)requirement>> {\r\n",
       "- -references- -\r\n",
       "subj: Anything= v; \\n//:>>VerificationObjective::subj// \r\n",
       "}\r\n",
       "comp def \"VerificationPlan\" as E7  <<(T,blue)verificationCase def>> {\r\n",
       "}\r\n",
       "comp usage \"obj: RequirementCheck\" as E8  <<(T,blue)requirement>> {\r\n",
       "...\r\n",
       "- -\r\n",
       "}\r\n",
       "comp usage \"verificationCase: VerificationCase\" as E9  <<(T,blue)verificationCase>> {\r\n",
       "}\r\n",
       "comp usage \"obj: VerificationObjective\" as E10  <<(T,blue)requirement>> {\r\n",
       "}\r\n",
       "comp usage \"verificationContext: Part\" as E11  <<(T,blue)part>> {\r\n",
       "}\r\n",
       "comp usage \"verificationPlan: VerificationPlan\" as E12  <<(T,blue)verificationCase>> {\r\n",
       "- -references- -\r\n",
       "v: V= vv; \\n//:>>VerificationPlan::v// \r\n",
       "}\r\n",
       "comp usage \"obj: RequirementCheck\" as E13  <<(T,blue)requirement>> {\r\n",
       "}\r\n",
       "E3 - -:|> E2\r\n",
       "E5 ..> E2 : <<subject>>\r\n",
       "E5 - ->> E6 : <<objective>>\r\n",
       "E6 - -:|> E4\r\n",
       "E7 ..> E2 : <<subject>>\r\n",
       "E7 - ->> E8 : <<objective>>\r\n",
       "E9 - -:|> E5\r\n",
       "E7 *- - E9\r\n",
       "E9 - ->> E10 : <<objective>>\r\n",
       "E12 - -:|> E7\r\n",
       "E11 *- - E12\r\n",
       "E12 - ->> E13 : <<objective>>\r\n",
       "}\r\n",
       "@enduml\r\n",
       "\n",
       "PlantUML version 1.2020.13(Sat Jun 13 12:26:38 UTC 2020)\n",
       "(EPL source distribution)\n",
       "Java Runtime: OpenJDK Runtime Environment\n",
       "JVM: OpenJDK 64-Bit Server VM\n",
       "Default Encoding: UTF-8\n",
       "Language: en\n",
       "Country: null\n",
       "--></g></svg>"
      ]
     },
     "execution_count": 10,
     "metadata": {},
     "output_type": "execute_result"
    }
   ],
   "source": [
    "%viz --style=\"POLYLINE\" --view=\"Tree\" \"VerificationTest\""
   ]
  },
  {
   "cell_type": "code",
   "execution_count": 11,
   "id": "intelligent-mumbai",
   "metadata": {
    "execution": {
     "iopub.execute_input": "2021-03-25T15:57:24.639698Z",
     "iopub.status.busy": "2021-03-25T15:57:24.635787Z",
     "iopub.status.idle": "2021-03-25T15:57:24.646798Z",
     "shell.execute_reply": "2021-03-25T15:57:24.637140Z"
    }
   },
   "outputs": [
    {
     "data": {
      "text/plain": [
       "java.lang.IllegalArgumentException: Invalid View: State View candidates are: Default Tree StateMachine Interconnection Activity Sequence MIXED \n",
       "\tat org.omg.sysml.plantuml.SysML2PlantUMLSvc.setView(SysML2PlantUMLSvc.java:63)\n",
       "\tat org.omg.sysml.interactive.SysMLInteractive.viz(SysMLInteractive.java:286)\n",
       "\tat org.omg.sysml.jupyter.kernel.magic.Viz.viz(Viz.java:47)\n",
       "\tat java.base/jdk.internal.reflect.NativeMethodAccessorImpl.invoke0(Native Method)\n",
       "\tat java.base/jdk.internal.reflect.NativeMethodAccessorImpl.invoke(NativeMethodAccessorImpl.java:78)\n",
       "\tat java.base/jdk.internal.reflect.DelegatingMethodAccessorImpl.invoke(DelegatingMethodAccessorImpl.java:43)\n",
       "\tat java.base/java.lang.reflect.Method.invoke(Method.java:568)\n",
       "\tat io.github.spencerpark.jupyter.kernel.magic.registry.Magics.invoke(Magics.java:89)\n",
       "\tat io.github.spencerpark.jupyter.kernel.magic.registry.Magics.access$000(Magics.java:8)\n",
       "\tat io.github.spencerpark.jupyter.kernel.magic.registry.Magics$LineReflectionMagicFunction.execute(Magics.java:149)\n",
       "\tat io.github.spencerpark.jupyter.kernel.magic.registry.Magics.applyLineMagic(Magics.java:26)\n",
       "\tat org.omg.sysml.jupyter.kernel.SysMLKernel.eval(SysMLKernel.java:76)\n",
       "\tat io.github.spencerpark.jupyter.kernel.BaseKernel.handleExecuteRequest(BaseKernel.java:334)\n",
       "\tat io.github.spencerpark.jupyter.channels.ShellChannel.lambda$bind$0(ShellChannel.java:64)\n",
       "\tat io.github.spencerpark.jupyter.channels.Loop.lambda$new$0(Loop.java:21)\n",
       "\tat io.github.spencerpark.jupyter.channels.Loop.run(Loop.java:78)\n"
      ]
     },
     "execution_count": 11,
     "metadata": {},
     "output_type": "execute_result"
    }
   ],
   "source": [
    "%viz --style=\"POLYLINE\" --view=\"State\" \"VerificationTest\""
   ]
  },
  {
   "cell_type": "code",
   "execution_count": 12,
   "id": "formed-wells",
   "metadata": {
    "execution": {
     "iopub.execute_input": "2021-03-25T15:57:24.689639Z",
     "iopub.status.busy": "2021-03-25T15:57:24.688343Z",
     "iopub.status.idle": "2021-03-25T15:57:25.386405Z",
     "shell.execute_reply": "2021-03-25T15:57:25.384563Z"
    }
   },
   "outputs": [
    {
     "data": {
      "image/svg+xml": [
       "<?xml version=\"1.0\" encoding=\"UTF-8\" standalone=\"no\"?><svg xmlns=\"http://www.w3.org/2000/svg\" xmlns:xlink=\"http://www.w3.org/1999/xlink\" contentScriptType=\"application/ecmascript\" contentStyleType=\"text/css\" height=\"202px\" preserveAspectRatio=\"none\" style=\"width:1008px;height:202px;\" version=\"1.1\" viewBox=\"0 0 1008 202\" width=\"1008px\" zoomAndPan=\"magnify\"><defs/><g><!--MD5=[fbc87193dbaf4d95561dea2c320d4a47]\n",
       "cluster E1--><polygon fill=\"#FFFFFF\" points=\"16,6,147,6,154,28.2969,986,28.2969,986,190,16,190,16,6\" style=\"stroke: #000000; stroke-width: 1.5;\"/><line style=\"stroke: #000000; stroke-width: 1.5;\" x1=\"16\" x2=\"154\" y1=\"28.2969\" y2=\"28.2969\"/><text fill=\"#000000\" font-family=\"sans-serif\" font-size=\"14\" font-weight=\"bold\" lengthAdjust=\"spacingAndGlyphs\" textLength=\"125\" x=\"20\" y=\"20.9951\">VerificationTest</text><!--MD5=[e4f7fae6ed58524ba242bb0b0d3be6b7]\n",
       "cluster E2--><rect fill=\"#FFFFFF\" height=\"117\" style=\"stroke: #000000; stroke-width: 1.5;\" width=\"124\" x=\"838\" y=\"49\"/><text fill=\"#000000\" font-family=\"sans-serif\" font-size=\"14\" font-style=\"italic\" lengthAdjust=\"spacingAndGlyphs\" textLength=\"71\" x=\"864.5\" y=\"63.9951\">«part def»</text><text fill=\"#000000\" font-family=\"sans-serif\" font-size=\"14\" font-weight=\"bold\" lengthAdjust=\"spacingAndGlyphs\" textLength=\"11\" x=\"894.5\" y=\"80.292\">V</text><!--MD5=[270fce915f116d4de14055a7c1d9a0f3]\n",
       "class E5--><rect fill=\"#FFFFFF\" height=\"53.9375\" id=\"E5\" style=\"stroke: #383838; stroke-width: 1.5;\" width=\"133\" x=\"686.5\" y=\"98\"/><text fill=\"#000000\" font-family=\"sans-serif\" font-size=\"12\" font-style=\"italic\" lengthAdjust=\"spacingAndGlyphs\" textLength=\"115\" x=\"695.5\" y=\"114.1387\">«requirement def»</text><text fill=\"#000000\" font-family=\"sans-serif\" font-size=\"12\" lengthAdjust=\"spacingAndGlyphs\" textLength=\"127\" x=\"689.5\" y=\"128.1074\">VerificationObjective</text><line style=\"stroke: #383838; stroke-width: 1.5;\" x1=\"687.5\" x2=\"818.5\" y1=\"135.9375\" y2=\"135.9375\"/><line style=\"stroke: #383838; stroke-width: 1.5;\" x1=\"687.5\" x2=\"818.5\" y1=\"143.9375\" y2=\"143.9375\"/><!--MD5=[60a26617385b1d2d0262a64233df1f8d]\n",
       "class E6--><rect fill=\"#FFFFFF\" height=\"53.9375\" id=\"E6\" style=\"stroke: #383838; stroke-width: 1.5;\" width=\"139\" x=\"512.5\" y=\"98\"/><text fill=\"#000000\" font-family=\"sans-serif\" font-size=\"12\" font-style=\"italic\" lengthAdjust=\"spacingAndGlyphs\" textLength=\"137\" x=\"513.5\" y=\"114.1387\">«verificationCase def»</text><text fill=\"#000000\" font-family=\"sans-serif\" font-size=\"12\" lengthAdjust=\"spacingAndGlyphs\" textLength=\"101\" x=\"531.5\" y=\"128.1074\">VerificationCase</text><line style=\"stroke: #383838; stroke-width: 1.5;\" x1=\"513.5\" x2=\"650.5\" y1=\"135.9375\" y2=\"135.9375\"/><line style=\"stroke: #383838; stroke-width: 1.5;\" x1=\"513.5\" x2=\"650.5\" y1=\"143.9375\" y2=\"143.9375\"/><!--MD5=[2156ba9850f5573cc1fc38a6a4b2f02b]\n",
       "class E7--><rect fill=\"#FFFFFF\" height=\"53.9375\" id=\"E7\" style=\"stroke: #383838; stroke-width: 1.5;\" width=\"139\" x=\"338.5\" y=\"98\"/><text fill=\"#000000\" font-family=\"sans-serif\" font-size=\"12\" font-style=\"italic\" lengthAdjust=\"spacingAndGlyphs\" textLength=\"137\" x=\"339.5\" y=\"114.1387\">«verificationCase def»</text><text fill=\"#000000\" font-family=\"sans-serif\" font-size=\"12\" lengthAdjust=\"spacingAndGlyphs\" textLength=\"97\" x=\"359.5\" y=\"128.1074\">VerificationPlan</text><line style=\"stroke: #383838; stroke-width: 1.5;\" x1=\"339.5\" x2=\"476.5\" y1=\"135.9375\" y2=\"135.9375\"/><line style=\"stroke: #383838; stroke-width: 1.5;\" x1=\"339.5\" x2=\"476.5\" y1=\"143.9375\" y2=\"143.9375\"/><g id=\"E1.E2.E3\"><rect fill=\"#FFFFFF\" height=\"50\" rx=\"12.5\" ry=\"12.5\" style=\"stroke: #383838; stroke-width: 1.5;\" width=\"91\" x=\"854.5\" y=\"100\"/><line style=\"stroke: #383838; stroke-width: 1.5;\" x1=\"854.5\" x2=\"945.5\" y1=\"126.2969\" y2=\"126.2969\"/><text fill=\"#000000\" font-family=\"sans-serif\" font-size=\"14\" lengthAdjust=\"spacingAndGlyphs\" textLength=\"71\" x=\"864.5\" y=\"117.9951\">m: Integer</text></g><g id=\"E1.E4\"><rect fill=\"#FFFFFF\" height=\"50\" rx=\"12.5\" ry=\"12.5\" style=\"stroke: #383838; stroke-width: 1.5;\" width=\"52\" x=\"251\" y=\"100\"/><line style=\"stroke: #383838; stroke-width: 1.5;\" x1=\"251\" x2=\"303\" y1=\"126.2969\" y2=\"126.2969\"/><text fill=\"#000000\" font-family=\"sans-serif\" font-size=\"14\" lengthAdjust=\"spacingAndGlyphs\" textLength=\"32\" x=\"261\" y=\"117.9951\">vv: V</text></g><g id=\"E1.E8\"><rect fill=\"#FFFFFF\" height=\"50\" rx=\"12.5\" ry=\"12.5\" style=\"stroke: #383838; stroke-width: 1.5;\" width=\"183\" x=\"32.5\" y=\"100\"/><line style=\"stroke: #383838; stroke-width: 1.5;\" x1=\"32.5\" x2=\"215.5\" y1=\"126.2969\" y2=\"126.2969\"/><text fill=\"#000000\" font-family=\"sans-serif\" font-size=\"14\" lengthAdjust=\"spacingAndGlyphs\" textLength=\"163\" x=\"42.5\" y=\"117.9951\">verificationContext: Part</text></g><!--MD5=[bda86a37ca6b6aad8e0c94a54d540268]\n",
       "@startuml\r\n",
       "skinparam ranksep 8\r\n",
       "skinparam rectangle {\r\n",
       " backgroundColor<<block>> LightGreen\r\n",
       "}\r\n",
       "skinparam linetype polyline\r\n",
       "skinparam monochrome true\r\n",
       "skinparam classbackgroundcolor white\r\n",
       "skinparam shadowing false\r\n",
       "skinparam wrapWidth 300\r\n",
       "hide circle\r\n",
       "\r\n",
       "package \"VerificationTest\" as E1   {\r\n",
       "rec def \"V\" as E2  <<part def>> {\r\n",
       "rec usage \"m: Integer\" as E3  <<attribute>> {\r\n",
       "}\r\n",
       "}\r\n",
       "rec usage \"vv: V\" as E4  {\r\n",
       "}\r\n",
       "def \"VerificationObjective\" as E5  <<requirement def>> \r\n",
       "def \"VerificationCase\" as E6  <<verificationCase def>> \r\n",
       "def \"VerificationPlan\" as E7  <<verificationCase def>> \r\n",
       "rec usage \"verificationContext: Part\" as E8  {\r\n",
       "}\r\n",
       "}\r\n",
       "@enduml\r\n",
       "\n",
       "PlantUML version 1.2020.13(Sat Jun 13 12:26:38 UTC 2020)\n",
       "(EPL source distribution)\n",
       "Java Runtime: OpenJDK Runtime Environment\n",
       "JVM: OpenJDK 64-Bit Server VM\n",
       "Default Encoding: UTF-8\n",
       "Language: en\n",
       "Country: null\n",
       "--></g></svg>"
      ]
     },
     "execution_count": 12,
     "metadata": {},
     "output_type": "execute_result"
    }
   ],
   "source": [
    "%viz --style=\"POLYLINE\" --view=\"Interconnection\" \"VerificationTest\""
   ]
  },
  {
   "cell_type": "code",
   "execution_count": 13,
   "id": "pleased-cheese",
   "metadata": {
    "execution": {
     "iopub.execute_input": "2021-03-25T15:57:25.490969Z",
     "iopub.status.busy": "2021-03-25T15:57:25.488757Z",
     "iopub.status.idle": "2021-03-25T15:57:25.516555Z",
     "shell.execute_reply": "2021-03-25T15:57:25.515945Z"
    }
   },
   "outputs": [
    {
     "data": {
      "text/plain": [
       "java.lang.IllegalArgumentException: Invalid View: Action View candidates are: Default Tree StateMachine Interconnection Activity Sequence MIXED \n",
       "\tat org.omg.sysml.plantuml.SysML2PlantUMLSvc.setView(SysML2PlantUMLSvc.java:63)\n",
       "\tat org.omg.sysml.interactive.SysMLInteractive.viz(SysMLInteractive.java:286)\n",
       "\tat org.omg.sysml.jupyter.kernel.magic.Viz.viz(Viz.java:47)\n",
       "\tat java.base/jdk.internal.reflect.NativeMethodAccessorImpl.invoke0(Native Method)\n",
       "\tat java.base/jdk.internal.reflect.NativeMethodAccessorImpl.invoke(NativeMethodAccessorImpl.java:78)\n",
       "\tat java.base/jdk.internal.reflect.DelegatingMethodAccessorImpl.invoke(DelegatingMethodAccessorImpl.java:43)\n",
       "\tat java.base/java.lang.reflect.Method.invoke(Method.java:568)\n",
       "\tat io.github.spencerpark.jupyter.kernel.magic.registry.Magics.invoke(Magics.java:89)\n",
       "\tat io.github.spencerpark.jupyter.kernel.magic.registry.Magics.access$000(Magics.java:8)\n",
       "\tat io.github.spencerpark.jupyter.kernel.magic.registry.Magics$LineReflectionMagicFunction.execute(Magics.java:149)\n",
       "\tat io.github.spencerpark.jupyter.kernel.magic.registry.Magics.applyLineMagic(Magics.java:26)\n",
       "\tat org.omg.sysml.jupyter.kernel.SysMLKernel.eval(SysMLKernel.java:76)\n",
       "\tat io.github.spencerpark.jupyter.kernel.BaseKernel.handleExecuteRequest(BaseKernel.java:334)\n",
       "\tat io.github.spencerpark.jupyter.channels.ShellChannel.lambda$bind$0(ShellChannel.java:64)\n",
       "\tat io.github.spencerpark.jupyter.channels.Loop.lambda$new$0(Loop.java:21)\n",
       "\tat io.github.spencerpark.jupyter.channels.Loop.run(Loop.java:78)\n"
      ]
     },
     "execution_count": 13,
     "metadata": {},
     "output_type": "execute_result"
    }
   ],
   "source": [
    "%viz --style=\"POLYLINE\" --view=\"Action\" \"VerificationTest\""
   ]
  },
  {
   "cell_type": "code",
   "execution_count": 14,
   "id": "utility-moore",
   "metadata": {
    "execution": {
     "iopub.execute_input": "2021-03-25T15:57:25.695299Z",
     "iopub.status.busy": "2021-03-25T15:57:25.693122Z",
     "iopub.status.idle": "2021-03-25T15:57:29.574184Z",
     "shell.execute_reply": "2021-03-25T15:57:29.575613Z"
    }
   },
   "outputs": [
    {
     "data": {
      "image/svg+xml": [
       "<?xml version=\"1.0\" encoding=\"UTF-8\" standalone=\"no\"?><svg xmlns=\"http://www.w3.org/2000/svg\" xmlns:xlink=\"http://www.w3.org/1999/xlink\" contentScriptType=\"application/ecmascript\" contentStyleType=\"text/css\" height=\"947px\" preserveAspectRatio=\"none\" style=\"width:519px;height:947px;\" version=\"1.1\" viewBox=\"0 0 519 947\" width=\"519px\" zoomAndPan=\"magnify\"><defs/><g><!--MD5=[fbc87193dbaf4d95561dea2c320d4a47]\n",
       "cluster E1--><polygon fill=\"#FFFFFF\" points=\"16,6,147,6,154,28.2969,497,28.2969,497,935,16,935,16,6\" style=\"stroke: #000000; stroke-width: 1.5;\"/><line style=\"stroke: #000000; stroke-width: 1.5;\" x1=\"16\" x2=\"154\" y1=\"28.2969\" y2=\"28.2969\"/><text fill=\"#000000\" font-family=\"sans-serif\" font-size=\"14\" font-weight=\"bold\" lengthAdjust=\"spacingAndGlyphs\" textLength=\"125\" x=\"20\" y=\"20.9951\">VerificationTest</text><!--MD5=[b4997ac47864f28c2f74865a473b2911]\n",
       "class E2--><rect fill=\"#FFFFFF\" height=\"58.7422\" id=\"E2\" style=\"stroke: #383838; stroke-width: 1.5;\" width=\"71\" x=\"193.5\" y=\"717.5\"/><text fill=\"#000000\" font-family=\"sans-serif\" font-size=\"12\" font-style=\"italic\" lengthAdjust=\"spacingAndGlyphs\" textLength=\"64\" x=\"197\" y=\"733.6387\">«part def»</text><text fill=\"#000000\" font-family=\"sans-serif\" font-size=\"12\" lengthAdjust=\"spacingAndGlyphs\" textLength=\"8\" x=\"225\" y=\"747.6074\">V</text><line style=\"stroke: #383838; stroke-width: 1.5;\" x1=\"194.5\" x2=\"263.5\" y1=\"755.4375\" y2=\"755.4375\"/><text fill=\"#000000\" font-family=\"sans-serif\" font-size=\"11\" lengthAdjust=\"spacingAndGlyphs\" textLength=\"59\" x=\"199.5\" y=\"769.6479\">m: Integer</text><!--MD5=[09b614a08d8cba4a07c9adeb5e0fee81]\n",
       "class E3--><rect fill=\"#FFFFFF\" height=\"45.9375\" id=\"E3\" rx=\"10\" ry=\"10\" style=\"stroke: #383838; stroke-width: 1.5;\" width=\"42\" x=\"264\" y=\"580\"/><text fill=\"#000000\" font-family=\"sans-serif\" font-size=\"12\" font-style=\"italic\" lengthAdjust=\"spacingAndGlyphs\" textLength=\"40\" x=\"265\" y=\"596.1387\">«part»</text><text fill=\"#000000\" font-family=\"sans-serif\" font-size=\"12\" lengthAdjust=\"spacingAndGlyphs\" textLength=\"28\" x=\"271\" y=\"610.1074\">vv: V</text><line style=\"stroke: #383838; stroke-width: 1.5;\" x1=\"265\" x2=\"305\" y1=\"617.9375\" y2=\"617.9375\"/><!--MD5=[ebbe1d658d1005bcc118a6aa81145e00]\n",
       "class E4--><rect fill=\"#FFFFFF\" height=\"66.7422\" id=\"E4\" style=\"stroke: #383838; stroke-width: 1.5;\" width=\"133\" x=\"323.5\" y=\"852\"/><text fill=\"#000000\" font-family=\"sans-serif\" font-size=\"12\" font-style=\"italic\" lengthAdjust=\"spacingAndGlyphs\" textLength=\"115\" x=\"332.5\" y=\"868.1387\">«requirement def»</text><text fill=\"#000000\" font-family=\"sans-serif\" font-size=\"12\" lengthAdjust=\"spacingAndGlyphs\" textLength=\"127\" x=\"326.5\" y=\"882.1074\">VerificationObjective</text><line style=\"stroke: #383838; stroke-width: 1.5;\" x1=\"324.5\" x2=\"455.5\" y1=\"889.9375\" y2=\"889.9375\"/><text fill=\"#000000\" font-family=\"sans-serif\" font-size=\"11\" lengthAdjust=\"spacingAndGlyphs\" textLength=\"12\" x=\"329.5\" y=\"904.1479\">...</text><line style=\"stroke: #383838; stroke-width: 1.0;\" x1=\"324.5\" x2=\"455.5\" y1=\"910.7422\" y2=\"910.7422\"/><!--MD5=[270fce915f116d4de14055a7c1d9a0f3]\n",
       "class E5--><rect fill=\"#FFFFFF\" height=\"45.9375\" id=\"E5\" style=\"stroke: #383838; stroke-width: 1.5;\" width=\"139\" x=\"341.5\" y=\"580\"/><text fill=\"#000000\" font-family=\"sans-serif\" font-size=\"12\" font-style=\"italic\" lengthAdjust=\"spacingAndGlyphs\" textLength=\"137\" x=\"342.5\" y=\"596.1387\">«verificationCase def»</text><text fill=\"#000000\" font-family=\"sans-serif\" font-size=\"12\" lengthAdjust=\"spacingAndGlyphs\" textLength=\"101\" x=\"360.5\" y=\"610.1074\">VerificationCase</text><line style=\"stroke: #383838; stroke-width: 1.5;\" x1=\"342.5\" x2=\"479.5\" y1=\"617.9375\" y2=\"617.9375\"/><!--MD5=[60a26617385b1d2d0262a64233df1f8d]\n",
       "class E6--><rect fill=\"#FFFFFF\" height=\"88.3516\" id=\"E6\" rx=\"10\" ry=\"10\" style=\"stroke: #383838; stroke-width: 1.5;\" width=\"181\" x=\"299.5\" y=\"703\"/><text fill=\"#000000\" font-family=\"sans-serif\" font-size=\"12\" font-style=\"italic\" lengthAdjust=\"spacingAndGlyphs\" textLength=\"91\" x=\"344.5\" y=\"719.1387\">«requirement»</text><text fill=\"#000000\" font-family=\"sans-serif\" font-size=\"12\" lengthAdjust=\"spacingAndGlyphs\" textLength=\"154\" x=\"313\" y=\"733.1074\">obj: VerificationObjective</text><line style=\"stroke: #383838; stroke-width: 1.5;\" x1=\"300.5\" x2=\"479.5\" y1=\"740.9375\" y2=\"740.9375\"/><text fill=\"#000000\" font-family=\"sans-serif\" font-size=\"11\" lengthAdjust=\"spacingAndGlyphs\" textLength=\"103\" x=\"305.5\" y=\"771.9526\">subj: Anything= v;</text><text fill=\"#000000\" font-family=\"sans-serif\" font-size=\"11\" font-style=\"italic\" lengthAdjust=\"spacingAndGlyphs\" textLength=\"169\" x=\"305.5\" y=\"784.7573\">:&gt;&gt;VerificationObjective::subj</text><line style=\"stroke: #383838; stroke-width: 1.0;\" x1=\"300.5\" x2=\"359\" y1=\"755.3398\" y2=\"755.3398\"/><text fill=\"#000000\" font-family=\"sans-serif\" font-size=\"11\" lengthAdjust=\"spacingAndGlyphs\" textLength=\"62\" x=\"359\" y=\"758.6479\">references</text><line style=\"stroke: #383838; stroke-width: 1.0;\" x1=\"421\" x2=\"479.5\" y1=\"755.3398\" y2=\"755.3398\"/><!--MD5=[2156ba9850f5573cc1fc38a6a4b2f02b]\n",
       "class E7--><rect fill=\"#FFFFFF\" height=\"45.9375\" id=\"E7\" style=\"stroke: #383838; stroke-width: 1.5;\" width=\"139\" x=\"86.5\" y=\"313\"/><text fill=\"#000000\" font-family=\"sans-serif\" font-size=\"12\" font-style=\"italic\" lengthAdjust=\"spacingAndGlyphs\" textLength=\"137\" x=\"87.5\" y=\"329.1387\">«verificationCase def»</text><text fill=\"#000000\" font-family=\"sans-serif\" font-size=\"12\" lengthAdjust=\"spacingAndGlyphs\" textLength=\"97\" x=\"107.5\" y=\"343.1074\">VerificationPlan</text><line style=\"stroke: #383838; stroke-width: 1.5;\" x1=\"87.5\" x2=\"224.5\" y1=\"350.9375\" y2=\"350.9375\"/><!--MD5=[b9389687b975829384b498ac4b7476b2]\n",
       "class E8--><rect fill=\"#FFFFFF\" height=\"66.7422\" id=\"E8\" rx=\"10\" ry=\"10\" style=\"stroke: #383838; stroke-width: 1.5;\" width=\"151\" x=\"80.5\" y=\"436\"/><text fill=\"#000000\" font-family=\"sans-serif\" font-size=\"12\" font-style=\"italic\" lengthAdjust=\"spacingAndGlyphs\" textLength=\"91\" x=\"110.5\" y=\"452.1387\">«requirement»</text><text fill=\"#000000\" font-family=\"sans-serif\" font-size=\"12\" lengthAdjust=\"spacingAndGlyphs\" textLength=\"145\" x=\"83.5\" y=\"466.1074\">obj: RequirementCheck</text><line style=\"stroke: #383838; stroke-width: 1.5;\" x1=\"81.5\" x2=\"230.5\" y1=\"473.9375\" y2=\"473.9375\"/><text fill=\"#000000\" font-family=\"sans-serif\" font-size=\"11\" lengthAdjust=\"spacingAndGlyphs\" textLength=\"12\" x=\"86.5\" y=\"488.1479\">...</text><line style=\"stroke: #383838; stroke-width: 1.0;\" x1=\"81.5\" x2=\"230.5\" y1=\"494.7422\" y2=\"494.7422\"/><!--MD5=[fd4143e9d270a159db93a4ea2a975926]\n",
       "class E9--><rect fill=\"#FFFFFF\" height=\"45.9375\" id=\"E9\" rx=\"10\" ry=\"10\" style=\"stroke: #383838; stroke-width: 1.5;\" width=\"214\" x=\"267\" y=\"446.5\"/><text fill=\"#000000\" font-family=\"sans-serif\" font-size=\"12\" font-style=\"italic\" lengthAdjust=\"spacingAndGlyphs\" textLength=\"113\" x=\"317.5\" y=\"462.6387\">«verificationCase»</text><text fill=\"#000000\" font-family=\"sans-serif\" font-size=\"12\" lengthAdjust=\"spacingAndGlyphs\" textLength=\"208\" x=\"270\" y=\"476.6074\">verificationCase: VerificationCase</text><line style=\"stroke: #383838; stroke-width: 1.5;\" x1=\"268\" x2=\"480\" y1=\"484.4375\" y2=\"484.4375\"/><!--MD5=[96f4274e9e20536e775497830990834d]\n",
       "class E10--><rect fill=\"#FFFFFF\" height=\"45.9375\" id=\"E10\" rx=\"10\" ry=\"10\" style=\"stroke: #383838; stroke-width: 1.5;\" width=\"160\" x=\"69\" y=\"580\"/><text fill=\"#000000\" font-family=\"sans-serif\" font-size=\"12\" font-style=\"italic\" lengthAdjust=\"spacingAndGlyphs\" textLength=\"91\" x=\"103.5\" y=\"596.1387\">«requirement»</text><text fill=\"#000000\" font-family=\"sans-serif\" font-size=\"12\" lengthAdjust=\"spacingAndGlyphs\" textLength=\"154\" x=\"72\" y=\"610.1074\">obj: VerificationObjective</text><line style=\"stroke: #383838; stroke-width: 1.5;\" x1=\"70\" x2=\"228\" y1=\"617.9375\" y2=\"617.9375\"/><!--MD5=[1dd1bfd58a279cf63c5f349dbc8fc6a1]\n",
       "class E11--><rect fill=\"#FFFFFF\" height=\"45.9375\" id=\"E11\" rx=\"10\" ry=\"10\" style=\"stroke: #383838; stroke-width: 1.5;\" width=\"156\" x=\"168\" y=\"41\"/><text fill=\"#000000\" font-family=\"sans-serif\" font-size=\"12\" font-style=\"italic\" lengthAdjust=\"spacingAndGlyphs\" textLength=\"40\" x=\"226\" y=\"57.1387\">«part»</text><text fill=\"#000000\" font-family=\"sans-serif\" font-size=\"12\" lengthAdjust=\"spacingAndGlyphs\" textLength=\"150\" x=\"171\" y=\"71.1074\">verificationContext: Part</text><line style=\"stroke: #383838; stroke-width: 1.5;\" x1=\"169\" x2=\"323\" y1=\"78.9375\" y2=\"78.9375\"/><!--MD5=[49a0ec8f00dab7302a31f22d0f0fe584]\n",
       "class E12--><rect fill=\"#FFFFFF\" height=\"88.3516\" id=\"E12\" rx=\"10\" ry=\"10\" style=\"stroke: #383838; stroke-width: 1.5;\" width=\"206\" x=\"143\" y=\"148\"/><text fill=\"#000000\" font-family=\"sans-serif\" font-size=\"12\" font-style=\"italic\" lengthAdjust=\"spacingAndGlyphs\" textLength=\"113\" x=\"189.5\" y=\"164.1387\">«verificationCase»</text><text fill=\"#000000\" font-family=\"sans-serif\" font-size=\"12\" lengthAdjust=\"spacingAndGlyphs\" textLength=\"200\" x=\"146\" y=\"178.1074\">verificationPlan: VerificationPlan</text><line style=\"stroke: #383838; stroke-width: 1.5;\" x1=\"144\" x2=\"348\" y1=\"185.9375\" y2=\"185.9375\"/><text fill=\"#000000\" font-family=\"sans-serif\" font-size=\"11\" lengthAdjust=\"spacingAndGlyphs\" textLength=\"50\" x=\"149\" y=\"216.9526\">v: V= vv;</text><text fill=\"#000000\" font-family=\"sans-serif\" font-size=\"11\" font-style=\"italic\" lengthAdjust=\"spacingAndGlyphs\" textLength=\"123\" x=\"149\" y=\"229.7573\">:&gt;&gt;VerificationPlan::v</text><line style=\"stroke: #383838; stroke-width: 1.0;\" x1=\"144\" x2=\"215\" y1=\"200.3398\" y2=\"200.3398\"/><text fill=\"#000000\" font-family=\"sans-serif\" font-size=\"11\" lengthAdjust=\"spacingAndGlyphs\" textLength=\"62\" x=\"215\" y=\"203.6479\">references</text><line style=\"stroke: #383838; stroke-width: 1.0;\" x1=\"277\" x2=\"348\" y1=\"200.3398\" y2=\"200.3398\"/><!--MD5=[ee3c913d1a06f366521f9ef512b67efe]\n",
       "class E13--><rect fill=\"#FFFFFF\" height=\"45.9375\" id=\"E13\" rx=\"10\" ry=\"10\" style=\"stroke: #383838; stroke-width: 1.5;\" width=\"151\" x=\"260.5\" y=\"313\"/><text fill=\"#000000\" font-family=\"sans-serif\" font-size=\"12\" font-style=\"italic\" lengthAdjust=\"spacingAndGlyphs\" textLength=\"91\" x=\"290.5\" y=\"329.1387\">«requirement»</text><text fill=\"#000000\" font-family=\"sans-serif\" font-size=\"12\" lengthAdjust=\"spacingAndGlyphs\" textLength=\"145\" x=\"263.5\" y=\"343.1074\">obj: RequirementCheck</text><line style=\"stroke: #383838; stroke-width: 1.5;\" x1=\"261.5\" x2=\"410.5\" y1=\"350.9375\" y2=\"350.9375\"/><!--MD5=[05d275557350bfb9b23a4ef7222b4c39]\n",
       "link E3 to E2--><path d=\"M267.19,626.05 C255.74,640.23 243,656 243,656 C243,656 239.9,675.94 236.62,697.05 \" fill=\"none\" id=\"E3-&gt;E2\" style=\"stroke: #383838; stroke-width: 1.0;\"/><polygon fill=\"#FFFFFF\" points=\"233.51,717.03,229.5096,697.1807,243.3436,699.3297,233.51,717.03\" style=\"stroke: #383838; stroke-width: 1.0;\"/><ellipse cx=\"232.3608\" cy=\"691.8552\" fill=\"#383838\" rx=\"2\" ry=\"2\" style=\"stroke: #383838; stroke-width: 1.0;\"/><ellipse cx=\"242.2423\" cy=\"693.3903\" fill=\"#383838\" rx=\"2\" ry=\"2\" style=\"stroke: #383838; stroke-width: 1.0;\"/><!--MD5=[15ebcb19ae302d9b601edb458606d402]\n",
       "link E5 to E2--><path d=\"M376.22,626.05 C353.88,640.23 329,656 329,656 C329,656 293.45,688 264.74,713.84 \" fill=\"none\" id=\"E5-&gt;E2\" style=\"stroke: #383838; stroke-width: 1.0; stroke-dasharray: 7.0,7.0;\"/><polygon fill=\"#383838\" points=\"260.92,717.28,270.2855,714.2325,264.6365,713.9352,264.9338,708.2861,260.92,717.28\" style=\"stroke: #383838; stroke-width: 1.0;\"/><text fill=\"#000000\" font-family=\"sans-serif\" font-size=\"13\" lengthAdjust=\"spacingAndGlyphs\" textLength=\"62\" x=\"330\" y=\"669.0669\">«subject»</text><!--MD5=[9120cf2e5df3bff93db8f754bbbc09b4]\n",
       "link E5 to E6--><path d=\"M407.72,626.19 C405.02,644.47 401.07,671.12 397.59,694.64 \" fill=\"none\" id=\"E5-&gt;E6\" style=\"stroke: #383838; stroke-width: 1.0;\"/><polygon fill=\"#383838\" points=\"396.39,702.82,400.529,695.3455,394.5937,694.467,396.39,702.82\" style=\"stroke: #383838; stroke-width: 1.0;\"/><text fill=\"#000000\" font-family=\"sans-serif\" font-size=\"13\" lengthAdjust=\"spacingAndGlyphs\" textLength=\"73\" x=\"403\" y=\"669.0669\">«objective»</text><!--MD5=[f667431f98296947986a1a7595a31603]\n",
       "link E6 to E4--><path d=\"M390,791.19 C390,804.11 390,818.41 390,831.87 \" fill=\"none\" id=\"E6-&gt;E4\" style=\"stroke: #383838; stroke-width: 1.0;\"/><polygon fill=\"#FFFFFF\" points=\"390,851.98,383,832.98,397,832.98,390,851.98\" style=\"stroke: #383838; stroke-width: 1.0;\"/><ellipse cx=\"385\" cy=\"827.28\" fill=\"#383838\" rx=\"2\" ry=\"2\" style=\"stroke: #383838; stroke-width: 1.0;\"/><ellipse cx=\"395\" cy=\"827.28\" fill=\"#383838\" rx=\"2\" ry=\"2\" style=\"stroke: #383838; stroke-width: 1.0;\"/><!--MD5=[583832df87f4419a098336a29a52fa00]\n",
       "link E7 to E2--><path d=\"M134.9,359.46 C107.46,388.67 63,436 63,436 C63,436 52,580 52,580 C52,580 52,626 52,626 C52,626 136.64,683.38 188.86,718.78 \" fill=\"none\" id=\"E7-&gt;E2\" style=\"stroke: #383838; stroke-width: 1.0; stroke-dasharray: 7.0,7.0;\"/><polygon fill=\"#383838\" points=\"193.18,721.72,187.9632,713.3663,189.0374,718.9202,183.4835,719.9944,193.18,721.72\" style=\"stroke: #383838; stroke-width: 1.0;\"/><text fill=\"#000000\" font-family=\"sans-serif\" font-size=\"13\" lengthAdjust=\"spacingAndGlyphs\" textLength=\"62\" x=\"56\" y=\"546.0669\">«subject»</text><!--MD5=[79bc8f324ef4d02c541433f2e6e513c3]\n",
       "link E7 to E8--><path d=\"M156,359.01 C156,377.7 156,405.02 156,427.69 \" fill=\"none\" id=\"E7-&gt;E8\" style=\"stroke: #383838; stroke-width: 1.0;\"/><polygon fill=\"#383838\" points=\"156,435.81,159,427.81,153,427.81,156,435.81\" style=\"stroke: #383838; stroke-width: 1.0;\"/><text fill=\"#000000\" font-family=\"sans-serif\" font-size=\"13\" lengthAdjust=\"spacingAndGlyphs\" textLength=\"73\" x=\"157\" y=\"402.0669\">«objective»</text><!--MD5=[bfc3ddf2e613be37104f658f09af896c]\n",
       "link E9 to E5--><path d=\"M380.19,492.51 C385.4,511 392.97,537.94 399.31,560.46 \" fill=\"none\" id=\"E9-&gt;E5\" style=\"stroke: #383838; stroke-width: 1.0;\"/><polygon fill=\"#FFFFFF\" points=\"404.79,579.92,392.9087,563.5238,406.3861,559.7346,404.79,579.92\" style=\"stroke: #383838; stroke-width: 1.0;\"/><ellipse cx=\"393.2913\" cy=\"557.4953\" fill=\"#383838\" rx=\"2\" ry=\"2\" style=\"stroke: #383838; stroke-width: 1.0;\"/><ellipse cx=\"402.918\" cy=\"554.7886\" fill=\"#383838\" rx=\"2\" ry=\"2\" style=\"stroke: #383838; stroke-width: 1.0;\"/><!--MD5=[e4a10ef82d0e328e31cac39a31e58dda]\n",
       "reverse link E7 to E9--><path d=\"M203.63,365.73 C243.86,390 300.64,424.25 337.39,446.42 \" fill=\"none\" id=\"E7&lt;-E9\" style=\"stroke: #383838; stroke-width: 1.0;\"/><polygon fill=\"#383838\" points=\"192.49,359.01,195.561,365.5345,202.7648,365.2091,199.6938,358.6847,192.49,359.01\" style=\"stroke: #383838; stroke-width: 1.0;\"/><!--MD5=[35e5f1cbde42fa304a029880aa2bc7f2]\n",
       "link E9 to E10--><path d=\"M336.34,492.51 C297.08,515.46 235.56,551.41 193.82,575.81 \" fill=\"none\" id=\"E9-&gt;E10\" style=\"stroke: #383838; stroke-width: 1.0;\"/><polygon fill=\"#383838\" points=\"186.78,579.92,195.2026,578.4847,192.182,573.3005,186.78,579.92\" style=\"stroke: #383838; stroke-width: 1.0;\"/><text fill=\"#000000\" font-family=\"sans-serif\" font-size=\"13\" lengthAdjust=\"spacingAndGlyphs\" textLength=\"73\" x=\"262\" y=\"546.0669\">«objective»</text><!--MD5=[ae660f5ecd7ddb04a8913625960940af]\n",
       "link E12 to E7--><path d=\"M218.51,236.38 C206.49,255.34 192.5,277.42 180.8,295.87 \" fill=\"none\" id=\"E12-&gt;E7\" style=\"stroke: #383838; stroke-width: 1.0;\"/><polygon fill=\"#FFFFFF\" points=\"170.03,312.87,174.2795,293.0725,186.108,300.5615,170.03,312.87\" style=\"stroke: #383838; stroke-width: 1.0;\"/><ellipse cx=\"179.0184\" cy=\"289.3264\" fill=\"#383838\" rx=\"2\" ry=\"2\" style=\"stroke: #383838; stroke-width: 1.0;\"/><ellipse cx=\"187.4673\" cy=\"294.6758\" fill=\"#383838\" rx=\"2\" ry=\"2\" style=\"stroke: #383838; stroke-width: 1.0;\"/><!--MD5=[94adabc162ce7e41b39f13be14fbaeb3]\n",
       "reverse link E11 to E12--><path d=\"M246,100.45 C246,115.17 246,132.39 246,147.84 \" fill=\"none\" id=\"E11&lt;-E12\" style=\"stroke: #383838; stroke-width: 1.0;\"/><polygon fill=\"#383838\" points=\"246,87.24,242,93.24,246,99.24,250,93.24,246,87.24\" style=\"stroke: #383838; stroke-width: 1.0;\"/><!--MD5=[e2a9ac97dcd3257bb5342dae06547bad]\n",
       "link E12 to E13--><path d=\"M273.49,236.38 C287.83,258.99 304.97,286.04 317.67,306.09 \" fill=\"none\" id=\"E12-&gt;E13\" style=\"stroke: #383838; stroke-width: 1.0;\"/><polygon fill=\"#383838\" points=\"321.97,312.87,320.2186,304.5074,315.1518,307.7211,321.97,312.87\" style=\"stroke: #383838; stroke-width: 1.0;\"/><text fill=\"#000000\" font-family=\"sans-serif\" font-size=\"13\" lengthAdjust=\"spacingAndGlyphs\" textLength=\"73\" x=\"302\" y=\"279.0669\">«objective»</text><!--MD5=[3f8c8ba52444840eddadfc511961d713]\n",
       "@startuml\r\n",
       "skinparam linetype polyline\r\n",
       "skinparam monochrome true\r\n",
       "skinparam classbackgroundcolor white\r\n",
       "skinparam shadowing false\r\n",
       "skinparam wrapWidth 300\r\n",
       "hide circle\r\n",
       "\r\n",
       "package \"VerificationTest\" as E1   {\r\n",
       "comp def \"V\" as E2  <<(T,blue)part def>> {\r\n",
       "m: Integer\r\n",
       "}\r\n",
       "comp usage \"vv: V\" as E3  <<(T,blue)part>> {\r\n",
       "}\r\n",
       "comp def \"VerificationObjective\" as E4  <<(T,blue)requirement def>> {\r\n",
       "...\r\n",
       "- -\r\n",
       "}\r\n",
       "comp def \"VerificationCase\" as E5  <<(T,blue)verificationCase def>> {\r\n",
       "}\r\n",
       "comp usage \"obj: VerificationObjective\" as E6  <<(T,blue)requirement>> {\r\n",
       "- -references- -\r\n",
       "subj: Anything= v; \\n//:>>VerificationObjective::subj// \r\n",
       "}\r\n",
       "comp def \"VerificationPlan\" as E7  <<(T,blue)verificationCase def>> {\r\n",
       "}\r\n",
       "comp usage \"obj: RequirementCheck\" as E8  <<(T,blue)requirement>> {\r\n",
       "...\r\n",
       "- -\r\n",
       "}\r\n",
       "comp usage \"verificationCase: VerificationCase\" as E9  <<(T,blue)verificationCase>> {\r\n",
       "}\r\n",
       "comp usage \"obj: VerificationObjective\" as E10  <<(T,blue)requirement>> {\r\n",
       "}\r\n",
       "comp usage \"verificationContext: Part\" as E11  <<(T,blue)part>> {\r\n",
       "}\r\n",
       "comp usage \"verificationPlan: VerificationPlan\" as E12  <<(T,blue)verificationCase>> {\r\n",
       "- -references- -\r\n",
       "v: V= vv; \\n//:>>VerificationPlan::v// \r\n",
       "}\r\n",
       "comp usage \"obj: RequirementCheck\" as E13  <<(T,blue)requirement>> {\r\n",
       "}\r\n",
       "E3 - -:|> E2\r\n",
       "E5 ..> E2 : <<subject>>\r\n",
       "E5 - ->> E6 : <<objective>>\r\n",
       "E6 - -:|> E4\r\n",
       "E7 ..> E2 : <<subject>>\r\n",
       "E7 - ->> E8 : <<objective>>\r\n",
       "E9 - -:|> E5\r\n",
       "E7 *- - E9\r\n",
       "E9 - ->> E10 : <<objective>>\r\n",
       "E12 - -:|> E7\r\n",
       "E11 *- - E12\r\n",
       "E12 - ->> E13 : <<objective>>\r\n",
       "}\r\n",
       "@enduml\r\n",
       "\n",
       "PlantUML version 1.2020.13(Sat Jun 13 12:26:38 UTC 2020)\n",
       "(EPL source distribution)\n",
       "Java Runtime: OpenJDK Runtime Environment\n",
       "JVM: OpenJDK 64-Bit Server VM\n",
       "Default Encoding: UTF-8\n",
       "Language: en\n",
       "Country: null\n",
       "--></g></svg>"
      ]
     },
     "execution_count": 14,
     "metadata": {},
     "output_type": "execute_result"
    }
   ],
   "source": [
    "%viz --style=\"POLYLINE\" --view=\"Sequence\" \"VerificationTest\""
   ]
  },
  {
   "cell_type": "code",
   "execution_count": 15,
   "id": "white-instrument",
   "metadata": {
    "execution": {
     "iopub.execute_input": "2021-03-25T15:57:29.626783Z",
     "iopub.status.busy": "2021-03-25T15:57:29.625876Z",
     "iopub.status.idle": "2021-03-25T15:57:30.769432Z",
     "shell.execute_reply": "2021-03-25T15:57:30.756685Z"
    }
   },
   "outputs": [
    {
     "data": {
      "image/svg+xml": [
       "<?xml version=\"1.0\" encoding=\"UTF-8\" standalone=\"no\"?><svg xmlns=\"http://www.w3.org/2000/svg\" xmlns:xlink=\"http://www.w3.org/1999/xlink\" contentScriptType=\"application/ecmascript\" contentStyleType=\"text/css\" height=\"562px\" preserveAspectRatio=\"none\" style=\"width:793px;height:562px;\" version=\"1.1\" viewBox=\"0 0 793 562\" width=\"793px\" zoomAndPan=\"magnify\"><defs/><g><!--MD5=[fbc87193dbaf4d95561dea2c320d4a47]\n",
       "cluster E1--><polygon fill=\"#FFFFFF\" points=\"16,6,147,6,154,28.2969,771,28.2969,771,550,16,550,16,6\" style=\"stroke: #000000; stroke-width: 1.5;\"/><line style=\"stroke: #000000; stroke-width: 1.5;\" x1=\"16\" x2=\"154\" y1=\"28.2969\" y2=\"28.2969\"/><text fill=\"#000000\" font-family=\"sans-serif\" font-size=\"14\" font-weight=\"bold\" lengthAdjust=\"spacingAndGlyphs\" textLength=\"125\" x=\"20\" y=\"20.9951\">VerificationTest</text><!--MD5=[de5ec2e2e8f62f467e546659f5068c88]\n",
       "cluster E5--><rect fill=\"#FFFFFF\" height=\"341.5\" style=\"stroke: #000000; stroke-width: 1.5;\" width=\"200\" x=\"544\" y=\"74.5\"/><text fill=\"#000000\" font-family=\"sans-serif\" font-size=\"14\" font-weight=\"bold\" lengthAdjust=\"spacingAndGlyphs\" textLength=\"129\" x=\"579.5\" y=\"89.4951\">VerificationCase</text><!--MD5=[917b9dd0c7eca3ee5f47219d1a84c0ad]\n",
       "cluster E11--><rect fill=\"#FFFFFF\" height=\"313\" style=\"stroke: #000000; stroke-width: 1.5;\" width=\"188\" x=\"254\" y=\"213\"/><text fill=\"#000000\" font-family=\"sans-serif\" font-size=\"14\" font-weight=\"bold\" lengthAdjust=\"spacingAndGlyphs\" textLength=\"123\" x=\"286.5\" y=\"227.9951\">VerificationPlan</text><!--MD5=[b4997ac47864f28c2f74865a473b2911]\n",
       "class E2--><rect fill=\"#FFFFFF\" height=\"58.7422\" id=\"E2\" style=\"stroke: #383838; stroke-width: 1.5;\" width=\"71\" x=\"458.5\" y=\"183.5\"/><text fill=\"#000000\" font-family=\"sans-serif\" font-size=\"12\" font-style=\"italic\" lengthAdjust=\"spacingAndGlyphs\" textLength=\"64\" x=\"462\" y=\"199.6387\">«part def»</text><text fill=\"#000000\" font-family=\"sans-serif\" font-size=\"12\" lengthAdjust=\"spacingAndGlyphs\" textLength=\"8\" x=\"490\" y=\"213.6074\">V</text><line style=\"stroke: #383838; stroke-width: 1.5;\" x1=\"459.5\" x2=\"528.5\" y1=\"221.4375\" y2=\"221.4375\"/><text fill=\"#000000\" font-family=\"sans-serif\" font-size=\"11\" lengthAdjust=\"spacingAndGlyphs\" textLength=\"59\" x=\"464.5\" y=\"235.6479\">m: Integer</text><!--MD5=[09b614a08d8cba4a07c9adeb5e0fee81]\n",
       "class E3--><rect fill=\"#FFFFFF\" height=\"45.9375\" id=\"E3\" rx=\"10\" ry=\"10\" style=\"stroke: #383838; stroke-width: 1.5;\" width=\"42\" x=\"473\" y=\"51.5\"/><text fill=\"#000000\" font-family=\"sans-serif\" font-size=\"12\" font-style=\"italic\" lengthAdjust=\"spacingAndGlyphs\" textLength=\"40\" x=\"474\" y=\"67.6387\">«part»</text><text fill=\"#000000\" font-family=\"sans-serif\" font-size=\"12\" lengthAdjust=\"spacingAndGlyphs\" textLength=\"28\" x=\"480\" y=\"81.6074\">vv: V</text><line style=\"stroke: #383838; stroke-width: 1.5;\" x1=\"474\" x2=\"514\" y1=\"89.4375\" y2=\"89.4375\"/><!--MD5=[ebbe1d658d1005bcc118a6aa81145e00]\n",
       "class E4--><rect fill=\"#FFFFFF\" height=\"66.7422\" id=\"E4\" style=\"stroke: #383838; stroke-width: 1.5;\" width=\"133\" x=\"276.5\" y=\"41\"/><text fill=\"#000000\" font-family=\"sans-serif\" font-size=\"12\" font-style=\"italic\" lengthAdjust=\"spacingAndGlyphs\" textLength=\"115\" x=\"285.5\" y=\"57.1387\">«requirement def»</text><text fill=\"#000000\" font-family=\"sans-serif\" font-size=\"12\" lengthAdjust=\"spacingAndGlyphs\" textLength=\"127\" x=\"279.5\" y=\"71.1074\">VerificationObjective</text><line style=\"stroke: #383838; stroke-width: 1.5;\" x1=\"277.5\" x2=\"408.5\" y1=\"78.9375\" y2=\"78.9375\"/><text fill=\"#000000\" font-family=\"sans-serif\" font-size=\"11\" lengthAdjust=\"spacingAndGlyphs\" textLength=\"12\" x=\"282.5\" y=\"93.1479\">...</text><line style=\"stroke: #383838; stroke-width: 1.0;\" x1=\"277.5\" x2=\"408.5\" y1=\"99.7422\" y2=\"99.7422\"/><!--MD5=[bee11217b2f71d958a27249dc326068c]\n",
       "class E14--><rect fill=\"#FFFFFF\" height=\"45.9375\" id=\"E14\" rx=\"10\" ry=\"10\" style=\"stroke: #383838; stroke-width: 1.5;\" width=\"156\" x=\"57\" y=\"51.5\"/><text fill=\"#000000\" font-family=\"sans-serif\" font-size=\"12\" font-style=\"italic\" lengthAdjust=\"spacingAndGlyphs\" textLength=\"40\" x=\"115\" y=\"67.6387\">«part»</text><text fill=\"#000000\" font-family=\"sans-serif\" font-size=\"12\" lengthAdjust=\"spacingAndGlyphs\" textLength=\"150\" x=\"60\" y=\"81.6074\">verificationContext: Part</text><line style=\"stroke: #383838; stroke-width: 1.5;\" x1=\"58\" x2=\"212\" y1=\"89.4375\" y2=\"89.4375\"/><!--MD5=[0c48fb7552dae8cbbef69381101a84c8]\n",
       "class E15--><rect fill=\"#FFFFFF\" height=\"88.3516\" id=\"E15\" rx=\"10\" ry=\"10\" style=\"stroke: #383838; stroke-width: 1.5;\" width=\"206\" x=\"32\" y=\"169\"/><text fill=\"#000000\" font-family=\"sans-serif\" font-size=\"12\" font-style=\"italic\" lengthAdjust=\"spacingAndGlyphs\" textLength=\"113\" x=\"78.5\" y=\"185.1387\">«verificationCase»</text><text fill=\"#000000\" font-family=\"sans-serif\" font-size=\"12\" lengthAdjust=\"spacingAndGlyphs\" textLength=\"200\" x=\"35\" y=\"199.1074\">verificationPlan: VerificationPlan</text><line style=\"stroke: #383838; stroke-width: 1.5;\" x1=\"33\" x2=\"237\" y1=\"206.9375\" y2=\"206.9375\"/><text fill=\"#000000\" font-family=\"sans-serif\" font-size=\"11\" lengthAdjust=\"spacingAndGlyphs\" textLength=\"50\" x=\"38\" y=\"237.9526\">v: V= vv;</text><text fill=\"#000000\" font-family=\"sans-serif\" font-size=\"11\" font-style=\"italic\" lengthAdjust=\"spacingAndGlyphs\" textLength=\"123\" x=\"38\" y=\"250.7573\">:&gt;&gt;VerificationPlan::v</text><line style=\"stroke: #383838; stroke-width: 1.0;\" x1=\"33\" x2=\"104\" y1=\"221.3398\" y2=\"221.3398\"/><text fill=\"#000000\" font-family=\"sans-serif\" font-size=\"11\" lengthAdjust=\"spacingAndGlyphs\" textLength=\"62\" x=\"104\" y=\"224.6479\">references</text><line style=\"stroke: #383838; stroke-width: 1.0;\" x1=\"166\" x2=\"237\" y1=\"221.3398\" y2=\"221.3398\"/><!--MD5=[35f0587eaee8d5bb9a02e25b63afc23b]\n",
       "class E16--><rect fill=\"#FFFFFF\" height=\"45.9375\" id=\"E16\" rx=\"10\" ry=\"10\" style=\"stroke: #383838; stroke-width: 1.5;\" width=\"151\" x=\"59.5\" y=\"334\"/><text fill=\"#000000\" font-family=\"sans-serif\" font-size=\"12\" font-style=\"italic\" lengthAdjust=\"spacingAndGlyphs\" textLength=\"91\" x=\"89.5\" y=\"350.1387\">«requirement»</text><text fill=\"#000000\" font-family=\"sans-serif\" font-size=\"12\" lengthAdjust=\"spacingAndGlyphs\" textLength=\"145\" x=\"62.5\" y=\"364.1074\">obj: RequirementCheck</text><line style=\"stroke: #383838; stroke-width: 1.5;\" x1=\"60.5\" x2=\"209.5\" y1=\"371.9375\" y2=\"371.9375\"/><text fill=\"#000000\" font-family=\"sans-serif\" font-size=\"14\" lengthAdjust=\"spacingAndGlyphs\" textLength=\"7\" x=\"558.5\" y=\"53.1982\">v</text><rect fill=\"#383838\" height=\"12\" style=\"stroke: #F8F8F8; stroke-width: 1.5;\" width=\"12\" x=\"556\" y=\"68.5\"/><text fill=\"#000000\" font-family=\"sans-serif\" font-size=\"14\" lengthAdjust=\"spacingAndGlyphs\" textLength=\"48\" x=\"549\" y=\"434.9951\">$result</text><rect fill=\"#383838\" height=\"12\" style=\"stroke: #F8F8F8; stroke-width: 1.5;\" width=\"12\" x=\"567\" y=\"410\"/><text fill=\"#000000\" font-family=\"sans-serif\" font-size=\"14\" lengthAdjust=\"spacingAndGlyphs\" textLength=\"16\" x=\"636\" y=\"53.1982\">$x</text><rect fill=\"#383838\" height=\"12\" style=\"stroke: #F8F8F8; stroke-width: 1.5;\" width=\"12\" x=\"638\" y=\"68.5\"/><text fill=\"#000000\" font-family=\"sans-serif\" font-size=\"14\" lengthAdjust=\"spacingAndGlyphs\" textLength=\"16\" x=\"718\" y=\"53.1982\">$y</text><rect fill=\"#383838\" height=\"12\" style=\"stroke: #F8F8F8; stroke-width: 1.5;\" width=\"12\" x=\"720\" y=\"68.5\"/><text fill=\"#000000\" font-family=\"sans-serif\" font-size=\"14\" lengthAdjust=\"spacingAndGlyphs\" textLength=\"48\" x=\"631\" y=\"434.9951\">$result</text><rect fill=\"#383838\" height=\"12\" style=\"stroke: #F8F8F8; stroke-width: 1.5;\" width=\"12\" x=\"649\" y=\"410\"/><text fill=\"#000000\" font-family=\"sans-serif\" font-size=\"14\" lengthAdjust=\"spacingAndGlyphs\" textLength=\"7\" x=\"344.5\" y=\"191.6982\">v</text><rect fill=\"#383838\" height=\"12\" style=\"stroke: #F8F8F8; stroke-width: 1.5;\" width=\"12\" x=\"342\" y=\"207\"/><g id=\"E1.E11.E13\"><rect fill=\"#FFFFFF\" height=\"50\" rx=\"12.5\" ry=\"12.5\" style=\"stroke: #383838; stroke-width: 1.5;\" width=\"128\" x=\"284\" y=\"452\"/><line style=\"stroke: #383838; stroke-width: 1.5;\" x1=\"284\" x2=\"412\" y1=\"478.2969\" y2=\"478.2969\"/><text fill=\"#000000\" font-family=\"sans-serif\" font-size=\"14\" lengthAdjust=\"spacingAndGlyphs\" textLength=\"108\" x=\"294\" y=\"469.9951\">verificationCase</text></g><!--MD5=[05d275557350bfb9b23a4ef7222b4c39]\n",
       "link E3 to E2--><path d=\"M494,97.73 C494,115.37 494,140.67 494,162.99 \" fill=\"none\" id=\"E3-&gt;E2\" style=\"stroke: #383838; stroke-width: 1.0;\"/><polygon fill=\"#FFFFFF\" points=\"494,183.12,487,164.12,501,164.12,494,183.12\" style=\"stroke: #383838; stroke-width: 1.0;\"/><ellipse cx=\"489\" cy=\"158.42\" fill=\"#383838\" rx=\"2\" ry=\"2\" style=\"stroke: #383838; stroke-width: 1.0;\"/><ellipse cx=\"499\" cy=\"158.42\" fill=\"#383838\" rx=\"2\" ry=\"2\" style=\"stroke: #383838; stroke-width: 1.0;\"/><!--MD5=[cf04703ca05eebef50f1cfe8b03e143b]\n",
       "link E9 to E7--><path d=\"M726,80.7 C726,114.71 726,304 726,304 C726,304 607.81,389.74 579.19,410.51 \" fill=\"none\" id=\"E9-E7\" style=\"stroke: #383838; stroke-width: 5.0;\"/><!--MD5=[58d440dfd4c930e286431b4800d1b487]\n",
       "link E15 to E11--><path d=\"M199.77,257.18 C211.705,265.1375 224.47,273.6475 237.3159,282.2111 C240.5274,284.352 243.744,286.4962 246.9539,288.636 C248.5588,289.7059 250.1621,290.7747 251.7623,291.8414 C252.1623,292.1081 252.5621,292.3747 252.9618,292.6411 C253.1616,292.7743 253.3613,292.9074 253.561,293.0405 \" fill=\"none\" id=\"E15-&gt;E11\" style=\"stroke: #383838; stroke-width: 1.0;\"/><polygon fill=\"#FFFFFF\" points=\"253.561,293.0405,233.869,288.3262,241.6345,276.6773,253.561,293.0405\" style=\"stroke: #383838; stroke-width: 1.0;\"/><ellipse cx=\"230.2356\" cy=\"283.5004\" fill=\"#383838\" rx=\"2\" ry=\"2\" style=\"stroke: #383838; stroke-width: 1.0;\"/><ellipse cx=\"235.7823\" cy=\"275.1798\" fill=\"#383838\" rx=\"2\" ry=\"2\" style=\"stroke: #383838; stroke-width: 1.0;\"/><!--MD5=[17bf29720e4688890742b92d9a67fdf0]\n",
       "reverse link E14 to E15--><path d=\"M135,110.96 C135,128.64 135,150.18 135,168.81 \" fill=\"none\" id=\"E14&lt;-E15\" style=\"stroke: #383838; stroke-width: 1.0;\"/><polygon fill=\"#383838\" points=\"135,97.73,131,103.73,135,109.73,139,103.73,135,97.73\" style=\"stroke: #383838; stroke-width: 1.0;\"/><!--MD5=[f8b155c46b092be73bb522b0a8fc72a2]\n",
       "link E15 to E16--><path d=\"M135,257.38 C135,279.5 135,305.86 135,325.76 \" fill=\"none\" id=\"E15-&gt;E16\" style=\"stroke: #383838; stroke-width: 1.0;\"/><polygon fill=\"#383838\" points=\"135,333.87,138,325.87,132,325.87,135,333.87\" style=\"stroke: #383838; stroke-width: 1.0;\"/><text fill=\"#000000\" font-family=\"sans-serif\" font-size=\"13\" lengthAdjust=\"spacingAndGlyphs\" textLength=\"73\" x=\"136\" y=\"300.0669\">«objective»</text><!--MD5=[92c2776f3268d0b7b1ece8634ed20a1d]\n",
       "@startuml\r\n",
       "skinparam linetype polyline\r\n",
       "skinparam monochrome true\r\n",
       "skinparam classbackgroundcolor white\r\n",
       "skinparam shadowing false\r\n",
       "skinparam wrapWidth 300\r\n",
       "hide circle\r\n",
       "\r\n",
       "package \"VerificationTest\" as E1   {\r\n",
       "comp def \"V\" as E2  <<(T,blue)part def>> {\r\n",
       "m: Integer\r\n",
       "}\r\n",
       "comp usage \"vv: V\" as E3  <<(T,blue)part>> {\r\n",
       "}\r\n",
       "comp def \"VerificationObjective\" as E4  <<(T,blue)requirement def>> {\r\n",
       "...\r\n",
       "- -\r\n",
       "}\r\n",
       "rec def \"VerificationCase\" as E5 {\r\n",
       "portin \"v\" as E6  \r\n",
       "portout \"$result\" as E7  \r\n",
       "portin \"$x\" as E8  \r\n",
       "portin \"$y\" as E9  \r\n",
       "portout \"$result\" as E10  \r\n",
       "}\r\n",
       "\r\n",
       "rec def \"VerificationPlan\" as E11 {\r\n",
       "portin \"v\" as E12  \r\n",
       "rec usage \"verificationCase\" as E13 {\r\n",
       "}\r\n",
       "\r\n",
       "}\r\n",
       "\r\n",
       "comp usage \"verificationContext: Part\" as E14  <<(T,blue)part>> {\r\n",
       "}\r\n",
       "comp usage \"verificationPlan: VerificationPlan\" as E15  <<(T,blue)verificationCase>> {\r\n",
       "- -references- -\r\n",
       "v: V= vv; \\n//:>>VerificationPlan::v// \r\n",
       "}\r\n",
       "comp usage \"obj: RequirementCheck\" as E16  <<(T,blue)requirement>> {\r\n",
       "}\r\n",
       "E3 - -:|> E2\r\n",
       "E9 -[thickness=5]- E7\r\n",
       "E15 - -:|> E11\r\n",
       "E14 *- - E15\r\n",
       "E15 - ->> E16 : <<objective>>\r\n",
       "}\r\n",
       "@enduml\r\n",
       "\n",
       "PlantUML version 1.2020.13(Sat Jun 13 12:26:38 UTC 2020)\n",
       "(EPL source distribution)\n",
       "Java Runtime: OpenJDK Runtime Environment\n",
       "JVM: OpenJDK 64-Bit Server VM\n",
       "Default Encoding: UTF-8\n",
       "Language: en\n",
       "Country: null\n",
       "--></g></svg>"
      ]
     },
     "execution_count": 15,
     "metadata": {},
     "output_type": "execute_result"
    }
   ],
   "source": [
    "%viz --style=\"POLYLINE\" --view=\"MIXED\" \"VerificationTest\""
   ]
  },
  {
   "cell_type": "code",
   "execution_count": 16,
   "id": "expired-experiment",
   "metadata": {
    "execution": {
     "iopub.execute_input": "2021-03-25T15:57:30.833254Z",
     "iopub.status.busy": "2021-03-25T15:57:30.831168Z",
     "iopub.status.idle": "2021-03-25T15:57:32.573000Z",
     "shell.execute_reply": "2021-03-25T15:57:32.561932Z"
    }
   },
   "outputs": [
    {
     "data": {
      "image/svg+xml": [
       "<?xml version=\"1.0\" encoding=\"UTF-8\" standalone=\"no\"?><svg xmlns=\"http://www.w3.org/2000/svg\" xmlns:xlink=\"http://www.w3.org/1999/xlink\" contentScriptType=\"application/ecmascript\" contentStyleType=\"text/css\" height=\"547px\" preserveAspectRatio=\"none\" style=\"width:1011px;height:547px;\" version=\"1.1\" viewBox=\"0 0 1011 547\" width=\"1011px\" zoomAndPan=\"magnify\"><defs/><g><!--MD5=[fbc87193dbaf4d95561dea2c320d4a47]\n",
       "cluster E1--><polygon fill=\"#FFFFFF\" points=\"16,6,147,6,154,28.2969,989,28.2969,989,535,16,535,16,6\" style=\"stroke: #000000; stroke-width: 1.5;\"/><line style=\"stroke: #000000; stroke-width: 1.5;\" x1=\"16\" x2=\"154\" y1=\"28.2969\" y2=\"28.2969\"/><text fill=\"#000000\" font-family=\"sans-serif\" font-size=\"14\" font-weight=\"bold\" lengthAdjust=\"spacingAndGlyphs\" textLength=\"125\" x=\"20\" y=\"20.9951\">VerificationTest</text><!--MD5=[de5ec2e2e8f62f467e546659f5068c88]\n",
       "cluster E5--><rect fill=\"#FFFFFF\" height=\"164\" style=\"stroke: #000000; stroke-width: 1.5;\" width=\"685\" x=\"92\" y=\"55\"/><text fill=\"#000000\" font-family=\"sans-serif\" font-size=\"14\" font-weight=\"bold\" lengthAdjust=\"spacingAndGlyphs\" textLength=\"129\" x=\"370\" y=\"69.9951\">VerificationCase</text><!--MD5=[917b9dd0c7eca3ee5f47219d1a84c0ad]\n",
       "cluster E11--><rect fill=\"#FFFFFF\" height=\"98\" style=\"stroke: #000000; stroke-width: 1.5;\" width=\"613\" x=\"352\" y=\"317\"/><text fill=\"#000000\" font-family=\"sans-serif\" font-size=\"14\" font-weight=\"bold\" lengthAdjust=\"spacingAndGlyphs\" textLength=\"123\" x=\"597\" y=\"331.9951\">VerificationPlan</text><!--MD5=[b4997ac47864f28c2f74865a473b2911]\n",
       "class E2--><rect fill=\"#FFFFFF\" height=\"58.7422\" id=\"E2\" style=\"stroke: #383838; stroke-width: 1.5;\" width=\"71\" x=\"316.5\" y=\"241.5\"/><text fill=\"#000000\" font-family=\"sans-serif\" font-size=\"12\" font-style=\"italic\" lengthAdjust=\"spacingAndGlyphs\" textLength=\"64\" x=\"320\" y=\"257.6387\">«part def»</text><text fill=\"#000000\" font-family=\"sans-serif\" font-size=\"12\" lengthAdjust=\"spacingAndGlyphs\" textLength=\"8\" x=\"348\" y=\"271.6074\">V</text><line style=\"stroke: #383838; stroke-width: 1.5;\" x1=\"317.5\" x2=\"386.5\" y1=\"279.4375\" y2=\"279.4375\"/><text fill=\"#000000\" font-family=\"sans-serif\" font-size=\"11\" lengthAdjust=\"spacingAndGlyphs\" textLength=\"59\" x=\"322.5\" y=\"293.6479\">m: Integer</text><!--MD5=[09b614a08d8cba4a07c9adeb5e0fee81]\n",
       "class E3--><rect fill=\"#FFFFFF\" height=\"45.9375\" id=\"E3\" rx=\"10\" ry=\"10\" style=\"stroke: #383838; stroke-width: 1.5;\" width=\"42\" x=\"89\" y=\"260\"/><text fill=\"#000000\" font-family=\"sans-serif\" font-size=\"12\" font-style=\"italic\" lengthAdjust=\"spacingAndGlyphs\" textLength=\"40\" x=\"90\" y=\"276.1387\">«part»</text><text fill=\"#000000\" font-family=\"sans-serif\" font-size=\"12\" lengthAdjust=\"spacingAndGlyphs\" textLength=\"28\" x=\"96\" y=\"290.1074\">vv: V</text><line style=\"stroke: #383838; stroke-width: 1.5;\" x1=\"90\" x2=\"130\" y1=\"297.9375\" y2=\"297.9375\"/><!--MD5=[ebbe1d658d1005bcc118a6aa81145e00]\n",
       "class E4--><rect fill=\"#FFFFFF\" height=\"66.7422\" id=\"E4\" style=\"stroke: #383838; stroke-width: 1.5;\" width=\"133\" x=\"43.5\" y=\"345.5\"/><text fill=\"#000000\" font-family=\"sans-serif\" font-size=\"12\" font-style=\"italic\" lengthAdjust=\"spacingAndGlyphs\" textLength=\"115\" x=\"52.5\" y=\"361.6387\">«requirement def»</text><text fill=\"#000000\" font-family=\"sans-serif\" font-size=\"12\" lengthAdjust=\"spacingAndGlyphs\" textLength=\"127\" x=\"46.5\" y=\"375.6074\">VerificationObjective</text><line style=\"stroke: #383838; stroke-width: 1.5;\" x1=\"44.5\" x2=\"175.5\" y1=\"383.4375\" y2=\"383.4375\"/><text fill=\"#000000\" font-family=\"sans-serif\" font-size=\"11\" lengthAdjust=\"spacingAndGlyphs\" textLength=\"12\" x=\"49.5\" y=\"397.6479\">...</text><line style=\"stroke: #383838; stroke-width: 1.0;\" x1=\"44.5\" x2=\"175.5\" y1=\"404.2422\" y2=\"404.2422\"/><!--MD5=[bee11217b2f71d958a27249dc326068c]\n",
       "class E14--><rect fill=\"#FFFFFF\" height=\"45.9375\" id=\"E14\" rx=\"10\" ry=\"10\" style=\"stroke: #383838; stroke-width: 1.5;\" width=\"156\" x=\"32\" y=\"452\"/><text fill=\"#000000\" font-family=\"sans-serif\" font-size=\"12\" font-style=\"italic\" lengthAdjust=\"spacingAndGlyphs\" textLength=\"40\" x=\"90\" y=\"468.1387\">«part»</text><text fill=\"#000000\" font-family=\"sans-serif\" font-size=\"12\" lengthAdjust=\"spacingAndGlyphs\" textLength=\"150\" x=\"35\" y=\"482.1074\">verificationContext: Part</text><line style=\"stroke: #383838; stroke-width: 1.5;\" x1=\"33\" x2=\"187\" y1=\"489.9375\" y2=\"489.9375\"/><!--MD5=[0c48fb7552dae8cbbef69381101a84c8]\n",
       "class E15--><rect fill=\"#FFFFFF\" height=\"88.3516\" id=\"E15\" rx=\"10\" ry=\"10\" style=\"stroke: #383838; stroke-width: 1.5;\" width=\"206\" x=\"249\" y=\"431\"/><text fill=\"#000000\" font-family=\"sans-serif\" font-size=\"12\" font-style=\"italic\" lengthAdjust=\"spacingAndGlyphs\" textLength=\"113\" x=\"295.5\" y=\"447.1387\">«verificationCase»</text><text fill=\"#000000\" font-family=\"sans-serif\" font-size=\"12\" lengthAdjust=\"spacingAndGlyphs\" textLength=\"200\" x=\"252\" y=\"461.1074\">verificationPlan: VerificationPlan</text><line style=\"stroke: #383838; stroke-width: 1.5;\" x1=\"250\" x2=\"454\" y1=\"468.9375\" y2=\"468.9375\"/><text fill=\"#000000\" font-family=\"sans-serif\" font-size=\"11\" lengthAdjust=\"spacingAndGlyphs\" textLength=\"50\" x=\"255\" y=\"499.9526\">v: V= vv;</text><text fill=\"#000000\" font-family=\"sans-serif\" font-size=\"11\" font-style=\"italic\" lengthAdjust=\"spacingAndGlyphs\" textLength=\"123\" x=\"255\" y=\"512.7573\">:&gt;&gt;VerificationPlan::v</text><line style=\"stroke: #383838; stroke-width: 1.0;\" x1=\"250\" x2=\"321\" y1=\"483.3398\" y2=\"483.3398\"/><text fill=\"#000000\" font-family=\"sans-serif\" font-size=\"11\" lengthAdjust=\"spacingAndGlyphs\" textLength=\"62\" x=\"321\" y=\"486.6479\">references</text><line style=\"stroke: #383838; stroke-width: 1.0;\" x1=\"383\" x2=\"454\" y1=\"483.3398\" y2=\"483.3398\"/><!--MD5=[35f0587eaee8d5bb9a02e25b63afc23b]\n",
       "class E16--><rect fill=\"#FFFFFF\" height=\"45.9375\" id=\"E16\" rx=\"10\" ry=\"10\" style=\"stroke: #383838; stroke-width: 1.5;\" width=\"151\" x=\"590\" y=\"452\"/><text fill=\"#000000\" font-family=\"sans-serif\" font-size=\"12\" font-style=\"italic\" lengthAdjust=\"spacingAndGlyphs\" textLength=\"91\" x=\"620\" y=\"468.1387\">«requirement»</text><text fill=\"#000000\" font-family=\"sans-serif\" font-size=\"12\" lengthAdjust=\"spacingAndGlyphs\" textLength=\"145\" x=\"593\" y=\"482.1074\">obj: RequirementCheck</text><line style=\"stroke: #383838; stroke-width: 1.5;\" x1=\"591\" x2=\"740\" y1=\"489.9375\" y2=\"489.9375\"/><text fill=\"#000000\" font-family=\"sans-serif\" font-size=\"14\" lengthAdjust=\"spacingAndGlyphs\" textLength=\"7\" x=\"106.5\" y=\"237.9951\">v</text><rect fill=\"#383838\" height=\"12\" style=\"stroke: #F8F8F8; stroke-width: 1.5;\" width=\"12\" x=\"104\" y=\"213\"/><text fill=\"#000000\" font-family=\"sans-serif\" font-size=\"14\" lengthAdjust=\"spacingAndGlyphs\" textLength=\"48\" x=\"753\" y=\"204.9951\">$result</text><rect fill=\"#383838\" height=\"12\" style=\"stroke: #F8F8F8; stroke-width: 1.5;\" width=\"12\" x=\"771\" y=\"180\"/><text fill=\"#000000\" font-family=\"sans-serif\" font-size=\"14\" lengthAdjust=\"spacingAndGlyphs\" textLength=\"16\" x=\"102\" y=\"115.6982\">$x</text><rect fill=\"#383838\" height=\"12\" style=\"stroke: #F8F8F8; stroke-width: 1.5;\" width=\"12\" x=\"104\" y=\"131\"/><text fill=\"#000000\" font-family=\"sans-serif\" font-size=\"14\" lengthAdjust=\"spacingAndGlyphs\" textLength=\"16\" x=\"102\" y=\"33.6982\">$y</text><rect fill=\"#383838\" height=\"12\" style=\"stroke: #F8F8F8; stroke-width: 1.5;\" width=\"12\" x=\"104\" y=\"49\"/><text fill=\"#000000\" font-family=\"sans-serif\" font-size=\"14\" lengthAdjust=\"spacingAndGlyphs\" textLength=\"48\" x=\"753\" y=\"82.6982\">$result</text><rect fill=\"#383838\" height=\"12\" style=\"stroke: #F8F8F8; stroke-width: 1.5;\" width=\"12\" x=\"771\" y=\"98\"/><text fill=\"#000000\" font-family=\"sans-serif\" font-size=\"14\" lengthAdjust=\"spacingAndGlyphs\" textLength=\"7\" x=\"348.5\" y=\"392.9951\">v</text><rect fill=\"#383838\" height=\"12\" style=\"stroke: #F8F8F8; stroke-width: 1.5;\" width=\"12\" x=\"346\" y=\"368\"/><g id=\"E1.E11.E13\"><rect fill=\"#FFFFFF\" height=\"50\" rx=\"12.5\" ry=\"12.5\" style=\"stroke: #383838; stroke-width: 1.5;\" width=\"128\" x=\"813\" y=\"341\"/><line style=\"stroke: #383838; stroke-width: 1.5;\" x1=\"813\" x2=\"941\" y1=\"367.2969\" y2=\"367.2969\"/><text fill=\"#000000\" font-family=\"sans-serif\" font-size=\"14\" lengthAdjust=\"spacingAndGlyphs\" textLength=\"108\" x=\"823\" y=\"358.9951\">verificationCase</text></g><!--MD5=[05d275557350bfb9b23a4ef7222b4c39]\n",
       "link E3 to E2--><path d=\"M131.05,282 C166.99,280.2 243.55,276.37 296.14,273.74 \" fill=\"none\" id=\"E3-&gt;E2\" style=\"stroke: #383838; stroke-width: 1.0;\"/><polygon fill=\"#FFFFFF\" points=\"316.35,272.73,297.7238,280.6714,297.0237,266.6889,316.35,272.73\" style=\"stroke: #383838; stroke-width: 1.0;\"/><ellipse cx=\"291.9309\" cy=\"278.959\" fill=\"#383838\" rx=\"2\" ry=\"2\" style=\"stroke: #383838; stroke-width: 1.0;\"/><ellipse cx=\"291.4309\" cy=\"268.9715\" fill=\"#383838\" rx=\"2\" ry=\"2\" style=\"stroke: #383838; stroke-width: 1.0;\"/><!--MD5=[cf04703ca05eebef50f1cfe8b03e143b]\n",
       "link E9 to E7--><path d=\"M116.47,54.26 C154.57,49.31 383.77,22.53 560,70 C651.65,94.69 747.53,164.39 770.73,181.95 \" fill=\"none\" id=\"E9-E7\" style=\"stroke: #383838; stroke-width: 5.0;\"/><!--MD5=[58d440dfd4c930e286431b4800d1b487]\n",
       "link E15 to E11--><path d=\"M455.12,452.05 C498.13,441.04 542.29,427.54 560,415 \" fill=\"none\" id=\"E15-&gt;E11\" style=\"stroke: #383838; stroke-width: 1.0;\"/><polygon fill=\"#FFFFFF\" points=\"560,415,548.5388,431.6925,540.4485,420.2668,560,415\" style=\"stroke: #383838; stroke-width: 1.0;\"/><ellipse cx=\"542.7311\" cy=\"433.3542\" fill=\"#383838\" rx=\"2\" ry=\"2\" style=\"stroke: #383838; stroke-width: 1.0;\"/><ellipse cx=\"536.9524\" cy=\"425.1929\" fill=\"#383838\" rx=\"2\" ry=\"2\" style=\"stroke: #383838; stroke-width: 1.0;\"/><!--MD5=[17bf29720e4688890742b92d9a67fdf0]\n",
       "reverse link E14 to E15--><path d=\"M201.62,475 C217.07,475 233.21,475 248.92,475 \" fill=\"none\" id=\"E14&lt;-E15\" style=\"stroke: #383838; stroke-width: 1.0;\"/><polygon fill=\"#383838\" points=\"188.26,475,194.26,479,200.26,475,194.26,471,188.26,475\" style=\"stroke: #383838; stroke-width: 1.0;\"/><!--MD5=[f8b155c46b092be73bb522b0a8fc72a2]\n",
       "link E15 to E16--><path d=\"M455.43,475 C496.32,475 542.79,475 581.51,475 \" fill=\"none\" id=\"E15-&gt;E16\" style=\"stroke: #383838; stroke-width: 1.0;\"/><polygon fill=\"#383838\" points=\"589.65,475,581.65,472,581.65,478,589.65,475\" style=\"stroke: #383838; stroke-width: 1.0;\"/><text fill=\"#000000\" font-family=\"sans-serif\" font-size=\"13\" lengthAdjust=\"spacingAndGlyphs\" textLength=\"73\" x=\"486\" y=\"471.0669\">«objective»</text><!--MD5=[02f8e9c16db9bb9758ee55ccb97287bd]\n",
       "@startuml\r\n",
       "left to right direction\r\n",
       "skinparam monochrome true\r\n",
       "skinparam classbackgroundcolor white\r\n",
       "skinparam shadowing false\r\n",
       "skinparam wrapWidth 300\r\n",
       "hide circle\r\n",
       "\r\n",
       "package \"VerificationTest\" as E1   {\r\n",
       "comp def \"V\" as E2  <<(T,blue)part def>> {\r\n",
       "m: Integer\r\n",
       "}\r\n",
       "comp usage \"vv: V\" as E3  <<(T,blue)part>> {\r\n",
       "}\r\n",
       "comp def \"VerificationObjective\" as E4  <<(T,blue)requirement def>> {\r\n",
       "...\r\n",
       "- -\r\n",
       "}\r\n",
       "rec def \"VerificationCase\" as E5 {\r\n",
       "portin \"v\" as E6  \r\n",
       "portout \"$result\" as E7  \r\n",
       "portin \"$x\" as E8  \r\n",
       "portin \"$y\" as E9  \r\n",
       "portout \"$result\" as E10  \r\n",
       "}\r\n",
       "\r\n",
       "rec def \"VerificationPlan\" as E11 {\r\n",
       "portin \"v\" as E12  \r\n",
       "rec usage \"verificationCase\" as E13 {\r\n",
       "}\r\n",
       "\r\n",
       "}\r\n",
       "\r\n",
       "comp usage \"verificationContext: Part\" as E14  <<(T,blue)part>> {\r\n",
       "}\r\n",
       "comp usage \"verificationPlan: VerificationPlan\" as E15  <<(T,blue)verificationCase>> {\r\n",
       "- -references- -\r\n",
       "v: V= vv; \\n//:>>VerificationPlan::v// \r\n",
       "}\r\n",
       "comp usage \"obj: RequirementCheck\" as E16  <<(T,blue)requirement>> {\r\n",
       "}\r\n",
       "E3 - -:|> E2\r\n",
       "E9 -[thickness=5]- E7\r\n",
       "E15 - -:|> E11\r\n",
       "E14 *- - E15\r\n",
       "E15 - ->> E16 : <<objective>>\r\n",
       "}\r\n",
       "@enduml\r\n",
       "\n",
       "PlantUML version 1.2020.13(Sat Jun 13 12:26:38 UTC 2020)\n",
       "(EPL source distribution)\n",
       "Java Runtime: OpenJDK Runtime Environment\n",
       "JVM: OpenJDK 64-Bit Server VM\n",
       "Default Encoding: UTF-8\n",
       "Language: en\n",
       "Country: null\n",
       "--></g></svg>"
      ]
     },
     "execution_count": 16,
     "metadata": {},
     "output_type": "execute_result"
    }
   ],
   "source": [
    "%viz --style=\"LR\" --view=\"Default\" \"VerificationTest\""
   ]
  },
  {
   "cell_type": "code",
   "execution_count": 17,
   "id": "automatic-breast",
   "metadata": {
    "execution": {
     "iopub.execute_input": "2021-03-25T15:57:32.650780Z",
     "iopub.status.busy": "2021-03-25T15:57:32.649773Z",
     "iopub.status.idle": "2021-03-25T15:57:35.516102Z",
     "shell.execute_reply": "2021-03-25T15:57:35.515316Z"
    }
   },
   "outputs": [
    {
     "data": {
      "image/svg+xml": [
       "<?xml version=\"1.0\" encoding=\"UTF-8\" standalone=\"no\"?><svg xmlns=\"http://www.w3.org/2000/svg\" xmlns:xlink=\"http://www.w3.org/1999/xlink\" contentScriptType=\"application/ecmascript\" contentStyleType=\"text/css\" height=\"315px\" preserveAspectRatio=\"none\" style=\"width:1933px;height:315px;\" version=\"1.1\" viewBox=\"0 0 1933 315\" width=\"1933px\" zoomAndPan=\"magnify\"><defs/><g><!--MD5=[fbc87193dbaf4d95561dea2c320d4a47]\n",
       "cluster E1--><polygon fill=\"#FFFFFF\" points=\"16,6,147,6,154,28.2969,1911,28.2969,1911,302,16,302,16,6\" style=\"stroke: #000000; stroke-width: 1.5;\"/><line style=\"stroke: #000000; stroke-width: 1.5;\" x1=\"16\" x2=\"154\" y1=\"28.2969\" y2=\"28.2969\"/><text fill=\"#000000\" font-family=\"sans-serif\" font-size=\"14\" font-weight=\"bold\" lengthAdjust=\"spacingAndGlyphs\" textLength=\"125\" x=\"20\" y=\"20.9951\">VerificationTest</text><!--MD5=[b4997ac47864f28c2f74865a473b2911]\n",
       "class E2--><rect fill=\"#FFFFFF\" height=\"58.7422\" id=\"E2\" style=\"stroke: #383838; stroke-width: 1.5;\" width=\"71\" x=\"1575\" y=\"164.5\"/><text fill=\"#000000\" font-family=\"sans-serif\" font-size=\"12\" font-style=\"italic\" lengthAdjust=\"spacingAndGlyphs\" textLength=\"64\" x=\"1578.5\" y=\"180.6387\">«part def»</text><text fill=\"#000000\" font-family=\"sans-serif\" font-size=\"12\" lengthAdjust=\"spacingAndGlyphs\" textLength=\"8\" x=\"1606.5\" y=\"194.6074\">V</text><line style=\"stroke: #383838; stroke-width: 1.5;\" x1=\"1576\" x2=\"1645\" y1=\"202.4375\" y2=\"202.4375\"/><text fill=\"#000000\" font-family=\"sans-serif\" font-size=\"11\" lengthAdjust=\"spacingAndGlyphs\" textLength=\"59\" x=\"1581\" y=\"216.6479\">m: Integer</text><!--MD5=[09b614a08d8cba4a07c9adeb5e0fee81]\n",
       "class E3--><rect fill=\"#FFFFFF\" height=\"45.9375\" id=\"E3\" rx=\"10\" ry=\"10\" style=\"stroke: #383838; stroke-width: 1.5;\" width=\"42\" x=\"1284\" y=\"122\"/><text fill=\"#000000\" font-family=\"sans-serif\" font-size=\"12\" font-style=\"italic\" lengthAdjust=\"spacingAndGlyphs\" textLength=\"40\" x=\"1285\" y=\"138.1387\">«part»</text><text fill=\"#000000\" font-family=\"sans-serif\" font-size=\"12\" lengthAdjust=\"spacingAndGlyphs\" textLength=\"28\" x=\"1291\" y=\"152.1074\">vv: V</text><line style=\"stroke: #383838; stroke-width: 1.5;\" x1=\"1285\" x2=\"1325\" y1=\"159.9375\" y2=\"159.9375\"/><!--MD5=[ebbe1d658d1005bcc118a6aa81145e00]\n",
       "class E4--><rect fill=\"#FFFFFF\" height=\"66.7422\" id=\"E4\" style=\"stroke: #383838; stroke-width: 1.5;\" width=\"133\" x=\"1762\" y=\"51.5\"/><text fill=\"#000000\" font-family=\"sans-serif\" font-size=\"12\" font-style=\"italic\" lengthAdjust=\"spacingAndGlyphs\" textLength=\"115\" x=\"1771\" y=\"67.6387\">«requirement def»</text><text fill=\"#000000\" font-family=\"sans-serif\" font-size=\"12\" lengthAdjust=\"spacingAndGlyphs\" textLength=\"127\" x=\"1765\" y=\"81.6074\">VerificationObjective</text><line style=\"stroke: #383838; stroke-width: 1.5;\" x1=\"1763\" x2=\"1894\" y1=\"89.4375\" y2=\"89.4375\"/><text fill=\"#000000\" font-family=\"sans-serif\" font-size=\"11\" lengthAdjust=\"spacingAndGlyphs\" textLength=\"12\" x=\"1768\" y=\"103.6479\">...</text><line style=\"stroke: #383838; stroke-width: 1.0;\" x1=\"1763\" x2=\"1894\" y1=\"110.2422\" y2=\"110.2422\"/><!--MD5=[270fce915f116d4de14055a7c1d9a0f3]\n",
       "class E5--><rect fill=\"#FFFFFF\" height=\"45.9375\" id=\"E5\" style=\"stroke: #383838; stroke-width: 1.5;\" width=\"139\" x=\"1235.5\" y=\"41\"/><text fill=\"#000000\" font-family=\"sans-serif\" font-size=\"12\" font-style=\"italic\" lengthAdjust=\"spacingAndGlyphs\" textLength=\"137\" x=\"1236.5\" y=\"57.1387\">«verificationCase def»</text><text fill=\"#000000\" font-family=\"sans-serif\" font-size=\"12\" lengthAdjust=\"spacingAndGlyphs\" textLength=\"101\" x=\"1254.5\" y=\"71.1074\">VerificationCase</text><line style=\"stroke: #383838; stroke-width: 1.5;\" x1=\"1236.5\" x2=\"1373.5\" y1=\"78.9375\" y2=\"78.9375\"/><!--MD5=[60a26617385b1d2d0262a64233df1f8d]\n",
       "class E6--><rect fill=\"#FFFFFF\" height=\"88.3516\" id=\"E6\" rx=\"10\" ry=\"10\" style=\"stroke: #383838; stroke-width: 1.5;\" width=\"181\" x=\"1520\" y=\"41\"/><text fill=\"#000000\" font-family=\"sans-serif\" font-size=\"12\" font-style=\"italic\" lengthAdjust=\"spacingAndGlyphs\" textLength=\"91\" x=\"1565\" y=\"57.1387\">«requirement»</text><text fill=\"#000000\" font-family=\"sans-serif\" font-size=\"12\" lengthAdjust=\"spacingAndGlyphs\" textLength=\"154\" x=\"1533.5\" y=\"71.1074\">obj: VerificationObjective</text><line style=\"stroke: #383838; stroke-width: 1.5;\" x1=\"1521\" x2=\"1700\" y1=\"78.9375\" y2=\"78.9375\"/><text fill=\"#000000\" font-family=\"sans-serif\" font-size=\"11\" lengthAdjust=\"spacingAndGlyphs\" textLength=\"103\" x=\"1526\" y=\"109.9526\">subj: Anything= v;</text><text fill=\"#000000\" font-family=\"sans-serif\" font-size=\"11\" font-style=\"italic\" lengthAdjust=\"spacingAndGlyphs\" textLength=\"169\" x=\"1526\" y=\"122.7573\">:&gt;&gt;VerificationObjective::subj</text><line style=\"stroke: #383838; stroke-width: 1.0;\" x1=\"1521\" x2=\"1579.5\" y1=\"93.3398\" y2=\"93.3398\"/><text fill=\"#000000\" font-family=\"sans-serif\" font-size=\"11\" lengthAdjust=\"spacingAndGlyphs\" textLength=\"62\" x=\"1579.5\" y=\"96.6479\">references</text><line style=\"stroke: #383838; stroke-width: 1.0;\" x1=\"1641.5\" x2=\"1700\" y1=\"93.3398\" y2=\"93.3398\"/><!--MD5=[2156ba9850f5573cc1fc38a6a4b2f02b]\n",
       "class E7--><rect fill=\"#FFFFFF\" height=\"45.9375\" id=\"E7\" style=\"stroke: #383838; stroke-width: 1.5;\" width=\"139\" x=\"596\" y=\"158\"/><text fill=\"#000000\" font-family=\"sans-serif\" font-size=\"12\" font-style=\"italic\" lengthAdjust=\"spacingAndGlyphs\" textLength=\"137\" x=\"597\" y=\"174.1387\">«verificationCase def»</text><text fill=\"#000000\" font-family=\"sans-serif\" font-size=\"12\" lengthAdjust=\"spacingAndGlyphs\" textLength=\"97\" x=\"617\" y=\"188.1074\">VerificationPlan</text><line style=\"stroke: #383838; stroke-width: 1.5;\" x1=\"597\" x2=\"734\" y1=\"195.9375\" y2=\"195.9375\"/><!--MD5=[b9389687b975829384b498ac4b7476b2]\n",
       "class E8--><rect fill=\"#FFFFFF\" height=\"66.7422\" id=\"E8\" rx=\"10\" ry=\"10\" style=\"stroke: #383838; stroke-width: 1.5;\" width=\"151\" x=\"907.5\" y=\"147.5\"/><text fill=\"#000000\" font-family=\"sans-serif\" font-size=\"12\" font-style=\"italic\" lengthAdjust=\"spacingAndGlyphs\" textLength=\"91\" x=\"937.5\" y=\"163.6387\">«requirement»</text><text fill=\"#000000\" font-family=\"sans-serif\" font-size=\"12\" lengthAdjust=\"spacingAndGlyphs\" textLength=\"145\" x=\"910.5\" y=\"177.6074\">obj: RequirementCheck</text><line style=\"stroke: #383838; stroke-width: 1.5;\" x1=\"908.5\" x2=\"1057.5\" y1=\"185.4375\" y2=\"185.4375\"/><text fill=\"#000000\" font-family=\"sans-serif\" font-size=\"11\" lengthAdjust=\"spacingAndGlyphs\" textLength=\"12\" x=\"913.5\" y=\"199.6479\">...</text><line style=\"stroke: #383838; stroke-width: 1.0;\" x1=\"908.5\" x2=\"1057.5\" y1=\"206.2422\" y2=\"206.2422\"/><!--MD5=[fd4143e9d270a159db93a4ea2a975926]\n",
       "class E9--><rect fill=\"#FFFFFF\" height=\"45.9375\" id=\"E9\" rx=\"10\" ry=\"10\" style=\"stroke: #383838; stroke-width: 1.5;\" width=\"214\" x=\"876\" y=\"66\"/><text fill=\"#000000\" font-family=\"sans-serif\" font-size=\"12\" font-style=\"italic\" lengthAdjust=\"spacingAndGlyphs\" textLength=\"113\" x=\"926.5\" y=\"82.1387\">«verificationCase»</text><text fill=\"#000000\" font-family=\"sans-serif\" font-size=\"12\" lengthAdjust=\"spacingAndGlyphs\" textLength=\"208\" x=\"879\" y=\"96.1074\">verificationCase: VerificationCase</text><line style=\"stroke: #383838; stroke-width: 1.5;\" x1=\"877\" x2=\"1089\" y1=\"103.9375\" y2=\"103.9375\"/><!--MD5=[96f4274e9e20536e775497830990834d]\n",
       "class E10--><rect fill=\"#FFFFFF\" height=\"45.9375\" id=\"E10\" rx=\"10\" ry=\"10\" style=\"stroke: #383838; stroke-width: 1.5;\" width=\"160\" x=\"1225\" y=\"203\"/><text fill=\"#000000\" font-family=\"sans-serif\" font-size=\"12\" font-style=\"italic\" lengthAdjust=\"spacingAndGlyphs\" textLength=\"91\" x=\"1259.5\" y=\"219.1387\">«requirement»</text><text fill=\"#000000\" font-family=\"sans-serif\" font-size=\"12\" lengthAdjust=\"spacingAndGlyphs\" textLength=\"154\" x=\"1228\" y=\"233.1074\">obj: VerificationObjective</text><line style=\"stroke: #383838; stroke-width: 1.5;\" x1=\"1226\" x2=\"1384\" y1=\"240.9375\" y2=\"240.9375\"/><!--MD5=[1dd1bfd58a279cf63c5f349dbc8fc6a1]\n",
       "class E11--><rect fill=\"#FFFFFF\" height=\"45.9375\" id=\"E11\" rx=\"10\" ry=\"10\" style=\"stroke: #383838; stroke-width: 1.5;\" width=\"156\" x=\"32\" y=\"118\"/><text fill=\"#000000\" font-family=\"sans-serif\" font-size=\"12\" font-style=\"italic\" lengthAdjust=\"spacingAndGlyphs\" textLength=\"40\" x=\"90\" y=\"134.1387\">«part»</text><text fill=\"#000000\" font-family=\"sans-serif\" font-size=\"12\" lengthAdjust=\"spacingAndGlyphs\" textLength=\"150\" x=\"35\" y=\"148.1074\">verificationContext: Part</text><line style=\"stroke: #383838; stroke-width: 1.5;\" x1=\"33\" x2=\"187\" y1=\"155.9375\" y2=\"155.9375\"/><!--MD5=[49a0ec8f00dab7302a31f22d0f0fe584]\n",
       "class E12--><rect fill=\"#FFFFFF\" height=\"88.3516\" id=\"E12\" rx=\"10\" ry=\"10\" style=\"stroke: #383838; stroke-width: 1.5;\" width=\"206\" x=\"249\" y=\"97\"/><text fill=\"#000000\" font-family=\"sans-serif\" font-size=\"12\" font-style=\"italic\" lengthAdjust=\"spacingAndGlyphs\" textLength=\"113\" x=\"295.5\" y=\"113.1387\">«verificationCase»</text><text fill=\"#000000\" font-family=\"sans-serif\" font-size=\"12\" lengthAdjust=\"spacingAndGlyphs\" textLength=\"200\" x=\"252\" y=\"127.1074\">verificationPlan: VerificationPlan</text><line style=\"stroke: #383838; stroke-width: 1.5;\" x1=\"250\" x2=\"454\" y1=\"134.9375\" y2=\"134.9375\"/><text fill=\"#000000\" font-family=\"sans-serif\" font-size=\"11\" lengthAdjust=\"spacingAndGlyphs\" textLength=\"50\" x=\"255\" y=\"165.9526\">v: V= vv;</text><text fill=\"#000000\" font-family=\"sans-serif\" font-size=\"11\" font-style=\"italic\" lengthAdjust=\"spacingAndGlyphs\" textLength=\"123\" x=\"255\" y=\"178.7573\">:&gt;&gt;VerificationPlan::v</text><line style=\"stroke: #383838; stroke-width: 1.0;\" x1=\"250\" x2=\"321\" y1=\"149.3398\" y2=\"149.3398\"/><text fill=\"#000000\" font-family=\"sans-serif\" font-size=\"11\" lengthAdjust=\"spacingAndGlyphs\" textLength=\"62\" x=\"321\" y=\"152.6479\">references</text><line style=\"stroke: #383838; stroke-width: 1.0;\" x1=\"383\" x2=\"454\" y1=\"149.3398\" y2=\"149.3398\"/><!--MD5=[ee3c913d1a06f366521f9ef512b67efe]\n",
       "class E13--><rect fill=\"#FFFFFF\" height=\"45.9375\" id=\"E13\" rx=\"10\" ry=\"10\" style=\"stroke: #383838; stroke-width: 1.5;\" width=\"151\" x=\"590\" y=\"77\"/><text fill=\"#000000\" font-family=\"sans-serif\" font-size=\"12\" font-style=\"italic\" lengthAdjust=\"spacingAndGlyphs\" textLength=\"91\" x=\"620\" y=\"93.1387\">«requirement»</text><text fill=\"#000000\" font-family=\"sans-serif\" font-size=\"12\" lengthAdjust=\"spacingAndGlyphs\" textLength=\"145\" x=\"593\" y=\"107.1074\">obj: RequirementCheck</text><line style=\"stroke: #383838; stroke-width: 1.5;\" x1=\"591\" x2=\"740\" y1=\"114.9375\" y2=\"114.9375\"/><!--MD5=[05d275557350bfb9b23a4ef7222b4c39]\n",
       "link E3 to E2--><path d=\"M1326.11,153.06 C1347.7,161.34 1383.19,173.84 1415,180 C1461.55,189.01 1515.39,192.36 1554.6,193.53 \" fill=\"none\" id=\"E3-&gt;E2\" style=\"stroke: #383838; stroke-width: 1.0;\"/><polygon fill=\"#FFFFFF\" points=\"1574.74,193.99,1555.5896,200.5674,1555.8997,186.5708,1574.74,193.99\" style=\"stroke: #383838; stroke-width: 1.0;\"/><ellipse cx=\"1549.9353\" cy=\"198.4416\" fill=\"#383838\" rx=\"2\" ry=\"2\" style=\"stroke: #383838; stroke-width: 1.0;\"/><ellipse cx=\"1550.1568\" cy=\"188.444\" fill=\"#383838\" rx=\"2\" ry=\"2\" style=\"stroke: #383838; stroke-width: 1.0;\"/><!--MD5=[15ebcb19ae302d9b601edb458606d402]\n",
       "link E5 to E2--><path d=\"M1359.91,87.09 C1420.26,112.94 1516.61,154.21 1570.23,177.18 \" fill=\"none\" id=\"E5-&gt;E2\" style=\"stroke: #383838; stroke-width: 1.0; stroke-dasharray: 7.0,7.0;\"/><polygon fill=\"#383838\" points=\"1574.97,179.21,1568.2734,171.9881,1570.3743,177.2404,1565.122,179.3413,1574.97,179.21\" style=\"stroke: #383838; stroke-width: 1.0;\"/><text fill=\"#000000\" font-family=\"sans-serif\" font-size=\"13\" lengthAdjust=\"spacingAndGlyphs\" textLength=\"62\" x=\"1421.5\" y=\"110.0669\">«subject»</text><!--MD5=[9120cf2e5df3bff93db8f754bbbc09b4]\n",
       "link E5 to E6--><path d=\"M1374.87,68.77 C1415.29,71.56 1467.03,75.14 1511.63,78.23 \" fill=\"none\" id=\"E5-&gt;E6\" style=\"stroke: #383838; stroke-width: 1.0;\"/><polygon fill=\"#383838\" points=\"1519.87,78.8,1512.0982,75.2505,1511.6806,81.2359,1519.87,78.8\" style=\"stroke: #383838; stroke-width: 1.0;\"/><text fill=\"#000000\" font-family=\"sans-serif\" font-size=\"13\" lengthAdjust=\"spacingAndGlyphs\" textLength=\"73\" x=\"1416\" y=\"69.0669\">«objective»</text><!--MD5=[f667431f98296947986a1a7595a31603]\n",
       "link E6 to E4--><path d=\"M1701.23,85 C1714.54,85 1728.23,85 1741.46,85 \" fill=\"none\" id=\"E6-&gt;E4\" style=\"stroke: #383838; stroke-width: 1.0;\"/><polygon fill=\"#FFFFFF\" points=\"1761.76,85,1742.76,92,1742.76,78,1761.76,85\" style=\"stroke: #383838; stroke-width: 1.0;\"/><ellipse cx=\"1737.06\" cy=\"90\" fill=\"#383838\" rx=\"2\" ry=\"2\" style=\"stroke: #383838; stroke-width: 1.0;\"/><ellipse cx=\"1737.06\" cy=\"80\" fill=\"#383838\" rx=\"2\" ry=\"2\" style=\"stroke: #383838; stroke-width: 1.0;\"/><!--MD5=[583832df87f4419a098336a29a52fa00]\n",
       "link E7 to E2--><path d=\"M735.09,201.55 C863.19,237.17 1147.35,303.18 1385,266 C1451.92,255.53 1526.12,228.52 1570.24,210.72 \" fill=\"none\" id=\"E7-&gt;E2\" style=\"stroke: #383838; stroke-width: 1.0; stroke-dasharray: 7.0,7.0;\"/><polygon fill=\"#383838\" points=\"1574.94,208.81,1565.0968,208.4752,1570.3046,210.6842,1568.0956,215.8919,1574.94,208.81\" style=\"stroke: #383838; stroke-width: 1.0;\"/><text fill=\"#000000\" font-family=\"sans-serif\" font-size=\"13\" lengthAdjust=\"spacingAndGlyphs\" textLength=\"62\" x=\"1126.5\" y=\"269.0669\">«subject»</text><!--MD5=[79bc8f324ef4d02c541433f2e6e513c3]\n",
       "link E7 to E8--><path d=\"M735.35,181 C783.54,181 848.16,181 899.17,181 \" fill=\"none\" id=\"E7-&gt;E8\" style=\"stroke: #383838; stroke-width: 1.0;\"/><polygon fill=\"#383838\" points=\"907.24,181,899.24,178,899.24,184,907.24,181\" style=\"stroke: #383838; stroke-width: 1.0;\"/><text fill=\"#000000\" font-family=\"sans-serif\" font-size=\"13\" lengthAdjust=\"spacingAndGlyphs\" textLength=\"73\" x=\"772\" y=\"177.0669\">«objective»</text><!--MD5=[bfc3ddf2e613be37104f658f09af896c]\n",
       "link E9 to E5--><path d=\"M1090.11,80.71 C1130.67,77.54 1176.46,73.96 1215.24,70.93 \" fill=\"none\" id=\"E9-&gt;E5\" style=\"stroke: #383838; stroke-width: 1.0;\"/><polygon fill=\"#FFFFFF\" points=\"1235.39,69.36,1216.9926,77.8178,1215.9028,63.8603,1235.39,69.36\" style=\"stroke: #383838; stroke-width: 1.0;\"/><ellipse cx=\"1211.1542\" cy=\"76.2676\" fill=\"#383838\" rx=\"2\" ry=\"2\" style=\"stroke: #383838; stroke-width: 1.0;\"/><ellipse cx=\"1210.3757\" cy=\"66.2979\" fill=\"#383838\" rx=\"2\" ry=\"2\" style=\"stroke: #383838; stroke-width: 1.0;\"/><!--MD5=[e4a10ef82d0e328e31cac39a31e58dda]\n",
       "reverse link E7 to E9--><path d=\"M747.84,157.28 C795.59,143.36 855.67,125.84 903.01,112.03 \" fill=\"none\" id=\"E7&lt;-E9\" style=\"stroke: #383838; stroke-width: 1.0;\"/><polygon fill=\"#383838\" points=\"735.35,160.92,742.2309,163.0773,746.8687,157.5554,739.9878,155.3982,735.35,160.92\" style=\"stroke: #383838; stroke-width: 1.0;\"/><!--MD5=[35e5f1cbde42fa304a029880aa2bc7f2]\n",
       "link E9 to E10--><path d=\"M1045.32,112.09 C1060.01,117.79 1075.61,124 1090,130 C1143.82,152.46 1204.4,179.84 1247.33,199.6 \" fill=\"none\" id=\"E9-&gt;E10\" style=\"stroke: #383838; stroke-width: 1.0;\"/><polygon fill=\"#383838\" points=\"1254.6,202.95,1248.5889,196.8782,1246.0787,202.3278,1254.6,202.95\" style=\"stroke: #383838; stroke-width: 1.0;\"/><text fill=\"#000000\" font-family=\"sans-serif\" font-size=\"13\" lengthAdjust=\"spacingAndGlyphs\" textLength=\"73\" x=\"1121\" y=\"142.0669\">«objective»</text><!--MD5=[ae660f5ecd7ddb04a8913625960940af]\n",
       "link E12 to E7--><path d=\"M455.43,154.15 C494.42,159.16 538.48,164.82 576.06,169.64 \" fill=\"none\" id=\"E12-&gt;E7\" style=\"stroke: #383838; stroke-width: 1.0;\"/><polygon fill=\"#FFFFFF\" points=\"595.92,172.19,576.1843,176.7181,577.9639,162.8317,595.92,172.19\" style=\"stroke: #383838; stroke-width: 1.0;\"/><ellipse cx=\"570.7848\" cy=\"174.0098\" fill=\"#383838\" rx=\"2\" ry=\"2\" style=\"stroke: #383838; stroke-width: 1.0;\"/><ellipse cx=\"572.0559\" cy=\"164.0909\" fill=\"#383838\" rx=\"2\" ry=\"2\" style=\"stroke: #383838; stroke-width: 1.0;\"/><!--MD5=[94adabc162ce7e41b39f13be14fbaeb3]\n",
       "reverse link E11 to E12--><path d=\"M201.62,141 C217.07,141 233.21,141 248.92,141 \" fill=\"none\" id=\"E11&lt;-E12\" style=\"stroke: #383838; stroke-width: 1.0;\"/><polygon fill=\"#383838\" points=\"188.26,141,194.26,145,200.26,141,194.26,137,188.26,141\" style=\"stroke: #383838; stroke-width: 1.0;\"/><!--MD5=[e2a9ac97dcd3257bb5342dae06547bad]\n",
       "link E12 to E13--><path d=\"M455.43,127.52 C496.32,122.14 542.79,116.02 581.51,110.92 \" fill=\"none\" id=\"E12-&gt;E13\" style=\"stroke: #383838; stroke-width: 1.0;\"/><polygon fill=\"#383838\" points=\"589.65,109.85,581.3271,107.9189,582.1095,113.8676,589.65,109.85\" style=\"stroke: #383838; stroke-width: 1.0;\"/><text fill=\"#000000\" font-family=\"sans-serif\" font-size=\"13\" lengthAdjust=\"spacingAndGlyphs\" textLength=\"73\" x=\"486\" y=\"111.0669\">«objective»</text><!--MD5=[265da9f798c1c2a0925577ba53843dfe]\n",
       "@startuml\r\n",
       "left to right direction\r\n",
       "skinparam monochrome true\r\n",
       "skinparam classbackgroundcolor white\r\n",
       "skinparam shadowing false\r\n",
       "skinparam wrapWidth 300\r\n",
       "hide circle\r\n",
       "\r\n",
       "package \"VerificationTest\" as E1   {\r\n",
       "comp def \"V\" as E2  <<(T,blue)part def>> {\r\n",
       "m: Integer\r\n",
       "}\r\n",
       "comp usage \"vv: V\" as E3  <<(T,blue)part>> {\r\n",
       "}\r\n",
       "comp def \"VerificationObjective\" as E4  <<(T,blue)requirement def>> {\r\n",
       "...\r\n",
       "- -\r\n",
       "}\r\n",
       "comp def \"VerificationCase\" as E5  <<(T,blue)verificationCase def>> {\r\n",
       "}\r\n",
       "comp usage \"obj: VerificationObjective\" as E6  <<(T,blue)requirement>> {\r\n",
       "- -references- -\r\n",
       "subj: Anything= v; \\n//:>>VerificationObjective::subj// \r\n",
       "}\r\n",
       "comp def \"VerificationPlan\" as E7  <<(T,blue)verificationCase def>> {\r\n",
       "}\r\n",
       "comp usage \"obj: RequirementCheck\" as E8  <<(T,blue)requirement>> {\r\n",
       "...\r\n",
       "- -\r\n",
       "}\r\n",
       "comp usage \"verificationCase: VerificationCase\" as E9  <<(T,blue)verificationCase>> {\r\n",
       "}\r\n",
       "comp usage \"obj: VerificationObjective\" as E10  <<(T,blue)requirement>> {\r\n",
       "}\r\n",
       "comp usage \"verificationContext: Part\" as E11  <<(T,blue)part>> {\r\n",
       "}\r\n",
       "comp usage \"verificationPlan: VerificationPlan\" as E12  <<(T,blue)verificationCase>> {\r\n",
       "- -references- -\r\n",
       "v: V= vv; \\n//:>>VerificationPlan::v// \r\n",
       "}\r\n",
       "comp usage \"obj: RequirementCheck\" as E13  <<(T,blue)requirement>> {\r\n",
       "}\r\n",
       "E3 - -:|> E2\r\n",
       "E5 ..> E2 : <<subject>>\r\n",
       "E5 - ->> E6 : <<objective>>\r\n",
       "E6 - -:|> E4\r\n",
       "E7 ..> E2 : <<subject>>\r\n",
       "E7 - ->> E8 : <<objective>>\r\n",
       "E9 - -:|> E5\r\n",
       "E7 *- - E9\r\n",
       "E9 - ->> E10 : <<objective>>\r\n",
       "E12 - -:|> E7\r\n",
       "E11 *- - E12\r\n",
       "E12 - ->> E13 : <<objective>>\r\n",
       "}\r\n",
       "@enduml\r\n",
       "\n",
       "PlantUML version 1.2020.13(Sat Jun 13 12:26:38 UTC 2020)\n",
       "(EPL source distribution)\n",
       "Java Runtime: OpenJDK Runtime Environment\n",
       "JVM: OpenJDK 64-Bit Server VM\n",
       "Default Encoding: UTF-8\n",
       "Language: en\n",
       "Country: null\n",
       "--></g></svg>"
      ]
     },
     "execution_count": 17,
     "metadata": {},
     "output_type": "execute_result"
    }
   ],
   "source": [
    "%viz --style=\"LR\" --view=\"Tree\" \"VerificationTest\""
   ]
  },
  {
   "cell_type": "code",
   "execution_count": 18,
   "id": "boxed-habitat",
   "metadata": {
    "execution": {
     "iopub.execute_input": "2021-03-25T15:57:35.565322Z",
     "iopub.status.busy": "2021-03-25T15:57:35.564635Z",
     "iopub.status.idle": "2021-03-25T15:57:35.571583Z",
     "shell.execute_reply": "2021-03-25T15:57:35.571068Z"
    }
   },
   "outputs": [
    {
     "data": {
      "text/plain": [
       "java.lang.IllegalArgumentException: Invalid View: State View candidates are: Default Tree StateMachine Interconnection Activity Sequence MIXED \n",
       "\tat org.omg.sysml.plantuml.SysML2PlantUMLSvc.setView(SysML2PlantUMLSvc.java:63)\n",
       "\tat org.omg.sysml.interactive.SysMLInteractive.viz(SysMLInteractive.java:286)\n",
       "\tat org.omg.sysml.jupyter.kernel.magic.Viz.viz(Viz.java:47)\n",
       "\tat jdk.internal.reflect.GeneratedMethodAccessor14.invoke(Unknown Source)\n",
       "\tat java.base/jdk.internal.reflect.DelegatingMethodAccessorImpl.invoke(DelegatingMethodAccessorImpl.java:43)\n",
       "\tat java.base/java.lang.reflect.Method.invoke(Method.java:568)\n",
       "\tat io.github.spencerpark.jupyter.kernel.magic.registry.Magics.invoke(Magics.java:89)\n",
       "\tat io.github.spencerpark.jupyter.kernel.magic.registry.Magics.access$000(Magics.java:8)\n",
       "\tat io.github.spencerpark.jupyter.kernel.magic.registry.Magics$LineReflectionMagicFunction.execute(Magics.java:149)\n",
       "\tat io.github.spencerpark.jupyter.kernel.magic.registry.Magics.applyLineMagic(Magics.java:26)\n",
       "\tat org.omg.sysml.jupyter.kernel.SysMLKernel.eval(SysMLKernel.java:76)\n",
       "\tat io.github.spencerpark.jupyter.kernel.BaseKernel.handleExecuteRequest(BaseKernel.java:334)\n",
       "\tat io.github.spencerpark.jupyter.channels.ShellChannel.lambda$bind$0(ShellChannel.java:64)\n",
       "\tat io.github.spencerpark.jupyter.channels.Loop.lambda$new$0(Loop.java:21)\n",
       "\tat io.github.spencerpark.jupyter.channels.Loop.run(Loop.java:78)\n"
      ]
     },
     "execution_count": 18,
     "metadata": {},
     "output_type": "execute_result"
    }
   ],
   "source": [
    "%viz --style=\"LR\" --view=\"State\" \"VerificationTest\""
   ]
  },
  {
   "cell_type": "code",
   "execution_count": 19,
   "id": "metropolitan-evanescence",
   "metadata": {
    "execution": {
     "iopub.execute_input": "2021-03-25T15:57:35.623668Z",
     "iopub.status.busy": "2021-03-25T15:57:35.622459Z",
     "iopub.status.idle": "2021-03-25T15:57:35.854758Z",
     "shell.execute_reply": "2021-03-25T15:57:35.853794Z"
    }
   },
   "outputs": [
    {
     "data": {
      "image/svg+xml": [
       "<?xml version=\"1.0\" encoding=\"UTF-8\" standalone=\"no\"?><svg xmlns=\"http://www.w3.org/2000/svg\" xmlns:xlink=\"http://www.w3.org/1999/xlink\" contentScriptType=\"application/ecmascript\" contentStyleType=\"text/css\" height=\"615px\" preserveAspectRatio=\"none\" style=\"width:253px;height:615px;\" version=\"1.1\" viewBox=\"0 0 253 615\" width=\"253px\" zoomAndPan=\"magnify\"><defs/><g><!--MD5=[fbc87193dbaf4d95561dea2c320d4a47]\n",
       "cluster E1--><polygon fill=\"#FFFFFF\" points=\"16,6,147,6,154,28.2969,231,28.2969,231,603,16,603,16,6\" style=\"stroke: #000000; stroke-width: 1.5;\"/><line style=\"stroke: #000000; stroke-width: 1.5;\" x1=\"16\" x2=\"154\" y1=\"28.2969\" y2=\"28.2969\"/><text fill=\"#000000\" font-family=\"sans-serif\" font-size=\"14\" font-weight=\"bold\" lengthAdjust=\"spacingAndGlyphs\" textLength=\"125\" x=\"20\" y=\"20.9951\">VerificationTest</text><!--MD5=[e4f7fae6ed58524ba242bb0b0d3be6b7]\n",
       "cluster E2--><rect fill=\"#FFFFFF\" height=\"117\" style=\"stroke: #000000; stroke-width: 1.5;\" width=\"123\" x=\"62\" y=\"49\"/><text fill=\"#000000\" font-family=\"sans-serif\" font-size=\"14\" font-style=\"italic\" lengthAdjust=\"spacingAndGlyphs\" textLength=\"71\" x=\"88\" y=\"63.9951\">«part def»</text><text fill=\"#000000\" font-family=\"sans-serif\" font-size=\"14\" font-weight=\"bold\" lengthAdjust=\"spacingAndGlyphs\" textLength=\"11\" x=\"118\" y=\"80.292\">V</text><!--MD5=[270fce915f116d4de14055a7c1d9a0f3]\n",
       "class E5--><rect fill=\"#FFFFFF\" height=\"53.9375\" id=\"E5\" style=\"stroke: #383838; stroke-width: 1.5;\" width=\"133\" x=\"57\" y=\"185\"/><text fill=\"#000000\" font-family=\"sans-serif\" font-size=\"12\" font-style=\"italic\" lengthAdjust=\"spacingAndGlyphs\" textLength=\"115\" x=\"66\" y=\"201.1387\">«requirement def»</text><text fill=\"#000000\" font-family=\"sans-serif\" font-size=\"12\" lengthAdjust=\"spacingAndGlyphs\" textLength=\"127\" x=\"60\" y=\"215.1074\">VerificationObjective</text><line style=\"stroke: #383838; stroke-width: 1.5;\" x1=\"58\" x2=\"189\" y1=\"222.9375\" y2=\"222.9375\"/><line style=\"stroke: #383838; stroke-width: 1.5;\" x1=\"58\" x2=\"189\" y1=\"230.9375\" y2=\"230.9375\"/><!--MD5=[60a26617385b1d2d0262a64233df1f8d]\n",
       "class E6--><rect fill=\"#FFFFFF\" height=\"53.9375\" id=\"E6\" style=\"stroke: #383838; stroke-width: 1.5;\" width=\"139\" x=\"54\" y=\"274\"/><text fill=\"#000000\" font-family=\"sans-serif\" font-size=\"12\" font-style=\"italic\" lengthAdjust=\"spacingAndGlyphs\" textLength=\"137\" x=\"55\" y=\"290.1387\">«verificationCase def»</text><text fill=\"#000000\" font-family=\"sans-serif\" font-size=\"12\" lengthAdjust=\"spacingAndGlyphs\" textLength=\"101\" x=\"73\" y=\"304.1074\">VerificationCase</text><line style=\"stroke: #383838; stroke-width: 1.5;\" x1=\"55\" x2=\"192\" y1=\"311.9375\" y2=\"311.9375\"/><line style=\"stroke: #383838; stroke-width: 1.5;\" x1=\"55\" x2=\"192\" y1=\"319.9375\" y2=\"319.9375\"/><!--MD5=[2156ba9850f5573cc1fc38a6a4b2f02b]\n",
       "class E7--><rect fill=\"#FFFFFF\" height=\"53.9375\" id=\"E7\" style=\"stroke: #383838; stroke-width: 1.5;\" width=\"139\" x=\"54\" y=\"363\"/><text fill=\"#000000\" font-family=\"sans-serif\" font-size=\"12\" font-style=\"italic\" lengthAdjust=\"spacingAndGlyphs\" textLength=\"137\" x=\"55\" y=\"379.1387\">«verificationCase def»</text><text fill=\"#000000\" font-family=\"sans-serif\" font-size=\"12\" lengthAdjust=\"spacingAndGlyphs\" textLength=\"97\" x=\"75\" y=\"393.1074\">VerificationPlan</text><line style=\"stroke: #383838; stroke-width: 1.5;\" x1=\"55\" x2=\"192\" y1=\"400.9375\" y2=\"400.9375\"/><line style=\"stroke: #383838; stroke-width: 1.5;\" x1=\"55\" x2=\"192\" y1=\"408.9375\" y2=\"408.9375\"/><g id=\"E1.E2.E3\"><rect fill=\"#FFFFFF\" height=\"50\" rx=\"12.5\" ry=\"12.5\" style=\"stroke: #383838; stroke-width: 1.5;\" width=\"91\" x=\"78\" y=\"100\"/><line style=\"stroke: #383838; stroke-width: 1.5;\" x1=\"78\" x2=\"169\" y1=\"126.2969\" y2=\"126.2969\"/><text fill=\"#000000\" font-family=\"sans-serif\" font-size=\"14\" lengthAdjust=\"spacingAndGlyphs\" textLength=\"71\" x=\"88\" y=\"117.9951\">m: Integer</text></g><g id=\"E1.E4\"><rect fill=\"#FFFFFF\" height=\"50\" rx=\"12.5\" ry=\"12.5\" style=\"stroke: #383838; stroke-width: 1.5;\" width=\"52\" x=\"97.5\" y=\"452\"/><line style=\"stroke: #383838; stroke-width: 1.5;\" x1=\"97.5\" x2=\"149.5\" y1=\"478.2969\" y2=\"478.2969\"/><text fill=\"#000000\" font-family=\"sans-serif\" font-size=\"14\" lengthAdjust=\"spacingAndGlyphs\" textLength=\"32\" x=\"107.5\" y=\"469.9951\">vv: V</text></g><g id=\"E1.E8\"><rect fill=\"#FFFFFF\" height=\"50\" rx=\"12.5\" ry=\"12.5\" style=\"stroke: #383838; stroke-width: 1.5;\" width=\"183\" x=\"32\" y=\"537\"/><line style=\"stroke: #383838; stroke-width: 1.5;\" x1=\"32\" x2=\"215\" y1=\"563.2969\" y2=\"563.2969\"/><text fill=\"#000000\" font-family=\"sans-serif\" font-size=\"14\" lengthAdjust=\"spacingAndGlyphs\" textLength=\"163\" x=\"42\" y=\"554.9951\">verificationContext: Part</text></g><!--MD5=[b668bac8a9b4d7b7ebebfdb8e94c158c]\n",
       "@startuml\r\n",
       "skinparam ranksep 8\r\n",
       "skinparam rectangle {\r\n",
       " backgroundColor<<block>> LightGreen\r\n",
       "}\r\n",
       "left to right direction\r\n",
       "skinparam monochrome true\r\n",
       "skinparam classbackgroundcolor white\r\n",
       "skinparam shadowing false\r\n",
       "skinparam wrapWidth 300\r\n",
       "hide circle\r\n",
       "\r\n",
       "package \"VerificationTest\" as E1   {\r\n",
       "rec def \"V\" as E2  <<part def>> {\r\n",
       "rec usage \"m: Integer\" as E3  <<attribute>> {\r\n",
       "}\r\n",
       "}\r\n",
       "rec usage \"vv: V\" as E4  {\r\n",
       "}\r\n",
       "def \"VerificationObjective\" as E5  <<requirement def>> \r\n",
       "def \"VerificationCase\" as E6  <<verificationCase def>> \r\n",
       "def \"VerificationPlan\" as E7  <<verificationCase def>> \r\n",
       "rec usage \"verificationContext: Part\" as E8  {\r\n",
       "}\r\n",
       "}\r\n",
       "@enduml\r\n",
       "\n",
       "PlantUML version 1.2020.13(Sat Jun 13 12:26:38 UTC 2020)\n",
       "(EPL source distribution)\n",
       "Java Runtime: OpenJDK Runtime Environment\n",
       "JVM: OpenJDK 64-Bit Server VM\n",
       "Default Encoding: UTF-8\n",
       "Language: en\n",
       "Country: null\n",
       "--></g></svg>"
      ]
     },
     "execution_count": 19,
     "metadata": {},
     "output_type": "execute_result"
    }
   ],
   "source": [
    "%viz --style=\"LR\" --view=\"Interconnection\" \"VerificationTest\""
   ]
  },
  {
   "cell_type": "code",
   "execution_count": 20,
   "id": "intimate-stewart",
   "metadata": {
    "execution": {
     "iopub.execute_input": "2021-03-25T15:57:35.904129Z",
     "iopub.status.busy": "2021-03-25T15:57:35.903038Z",
     "iopub.status.idle": "2021-03-25T15:57:35.907622Z",
     "shell.execute_reply": "2021-03-25T15:57:35.908363Z"
    }
   },
   "outputs": [
    {
     "data": {
      "text/plain": [
       "java.lang.IllegalArgumentException: Invalid View: Action View candidates are: Default Tree StateMachine Interconnection Activity Sequence MIXED \n",
       "\tat org.omg.sysml.plantuml.SysML2PlantUMLSvc.setView(SysML2PlantUMLSvc.java:63)\n",
       "\tat org.omg.sysml.interactive.SysMLInteractive.viz(SysMLInteractive.java:286)\n",
       "\tat org.omg.sysml.jupyter.kernel.magic.Viz.viz(Viz.java:47)\n",
       "\tat jdk.internal.reflect.GeneratedMethodAccessor14.invoke(Unknown Source)\n",
       "\tat java.base/jdk.internal.reflect.DelegatingMethodAccessorImpl.invoke(DelegatingMethodAccessorImpl.java:43)\n",
       "\tat java.base/java.lang.reflect.Method.invoke(Method.java:568)\n",
       "\tat io.github.spencerpark.jupyter.kernel.magic.registry.Magics.invoke(Magics.java:89)\n",
       "\tat io.github.spencerpark.jupyter.kernel.magic.registry.Magics.access$000(Magics.java:8)\n",
       "\tat io.github.spencerpark.jupyter.kernel.magic.registry.Magics$LineReflectionMagicFunction.execute(Magics.java:149)\n",
       "\tat io.github.spencerpark.jupyter.kernel.magic.registry.Magics.applyLineMagic(Magics.java:26)\n",
       "\tat org.omg.sysml.jupyter.kernel.SysMLKernel.eval(SysMLKernel.java:76)\n",
       "\tat io.github.spencerpark.jupyter.kernel.BaseKernel.handleExecuteRequest(BaseKernel.java:334)\n",
       "\tat io.github.spencerpark.jupyter.channels.ShellChannel.lambda$bind$0(ShellChannel.java:64)\n",
       "\tat io.github.spencerpark.jupyter.channels.Loop.lambda$new$0(Loop.java:21)\n",
       "\tat io.github.spencerpark.jupyter.channels.Loop.run(Loop.java:78)\n"
      ]
     },
     "execution_count": 20,
     "metadata": {},
     "output_type": "execute_result"
    }
   ],
   "source": [
    "%viz --style=\"LR\" --view=\"Action\" \"VerificationTest\""
   ]
  },
  {
   "cell_type": "code",
   "execution_count": 21,
   "id": "metric-timothy",
   "metadata": {
    "execution": {
     "iopub.execute_input": "2021-03-25T15:57:35.972165Z",
     "iopub.status.busy": "2021-03-25T15:57:35.966555Z",
     "iopub.status.idle": "2021-03-25T15:57:38.295633Z",
     "shell.execute_reply": "2021-03-25T15:57:38.293011Z"
    }
   },
   "outputs": [
    {
     "data": {
      "image/svg+xml": [
       "<?xml version=\"1.0\" encoding=\"UTF-8\" standalone=\"no\"?><svg xmlns=\"http://www.w3.org/2000/svg\" xmlns:xlink=\"http://www.w3.org/1999/xlink\" contentScriptType=\"application/ecmascript\" contentStyleType=\"text/css\" height=\"315px\" preserveAspectRatio=\"none\" style=\"width:1933px;height:315px;\" version=\"1.1\" viewBox=\"0 0 1933 315\" width=\"1933px\" zoomAndPan=\"magnify\"><defs/><g><!--MD5=[fbc87193dbaf4d95561dea2c320d4a47]\n",
       "cluster E1--><polygon fill=\"#FFFFFF\" points=\"16,6,147,6,154,28.2969,1911,28.2969,1911,302,16,302,16,6\" style=\"stroke: #000000; stroke-width: 1.5;\"/><line style=\"stroke: #000000; stroke-width: 1.5;\" x1=\"16\" x2=\"154\" y1=\"28.2969\" y2=\"28.2969\"/><text fill=\"#000000\" font-family=\"sans-serif\" font-size=\"14\" font-weight=\"bold\" lengthAdjust=\"spacingAndGlyphs\" textLength=\"125\" x=\"20\" y=\"20.9951\">VerificationTest</text><!--MD5=[b4997ac47864f28c2f74865a473b2911]\n",
       "class E2--><rect fill=\"#FFFFFF\" height=\"58.7422\" id=\"E2\" style=\"stroke: #383838; stroke-width: 1.5;\" width=\"71\" x=\"1575\" y=\"164.5\"/><text fill=\"#000000\" font-family=\"sans-serif\" font-size=\"12\" font-style=\"italic\" lengthAdjust=\"spacingAndGlyphs\" textLength=\"64\" x=\"1578.5\" y=\"180.6387\">«part def»</text><text fill=\"#000000\" font-family=\"sans-serif\" font-size=\"12\" lengthAdjust=\"spacingAndGlyphs\" textLength=\"8\" x=\"1606.5\" y=\"194.6074\">V</text><line style=\"stroke: #383838; stroke-width: 1.5;\" x1=\"1576\" x2=\"1645\" y1=\"202.4375\" y2=\"202.4375\"/><text fill=\"#000000\" font-family=\"sans-serif\" font-size=\"11\" lengthAdjust=\"spacingAndGlyphs\" textLength=\"59\" x=\"1581\" y=\"216.6479\">m: Integer</text><!--MD5=[09b614a08d8cba4a07c9adeb5e0fee81]\n",
       "class E3--><rect fill=\"#FFFFFF\" height=\"45.9375\" id=\"E3\" rx=\"10\" ry=\"10\" style=\"stroke: #383838; stroke-width: 1.5;\" width=\"42\" x=\"1284\" y=\"122\"/><text fill=\"#000000\" font-family=\"sans-serif\" font-size=\"12\" font-style=\"italic\" lengthAdjust=\"spacingAndGlyphs\" textLength=\"40\" x=\"1285\" y=\"138.1387\">«part»</text><text fill=\"#000000\" font-family=\"sans-serif\" font-size=\"12\" lengthAdjust=\"spacingAndGlyphs\" textLength=\"28\" x=\"1291\" y=\"152.1074\">vv: V</text><line style=\"stroke: #383838; stroke-width: 1.5;\" x1=\"1285\" x2=\"1325\" y1=\"159.9375\" y2=\"159.9375\"/><!--MD5=[ebbe1d658d1005bcc118a6aa81145e00]\n",
       "class E4--><rect fill=\"#FFFFFF\" height=\"66.7422\" id=\"E4\" style=\"stroke: #383838; stroke-width: 1.5;\" width=\"133\" x=\"1762\" y=\"51.5\"/><text fill=\"#000000\" font-family=\"sans-serif\" font-size=\"12\" font-style=\"italic\" lengthAdjust=\"spacingAndGlyphs\" textLength=\"115\" x=\"1771\" y=\"67.6387\">«requirement def»</text><text fill=\"#000000\" font-family=\"sans-serif\" font-size=\"12\" lengthAdjust=\"spacingAndGlyphs\" textLength=\"127\" x=\"1765\" y=\"81.6074\">VerificationObjective</text><line style=\"stroke: #383838; stroke-width: 1.5;\" x1=\"1763\" x2=\"1894\" y1=\"89.4375\" y2=\"89.4375\"/><text fill=\"#000000\" font-family=\"sans-serif\" font-size=\"11\" lengthAdjust=\"spacingAndGlyphs\" textLength=\"12\" x=\"1768\" y=\"103.6479\">...</text><line style=\"stroke: #383838; stroke-width: 1.0;\" x1=\"1763\" x2=\"1894\" y1=\"110.2422\" y2=\"110.2422\"/><!--MD5=[270fce915f116d4de14055a7c1d9a0f3]\n",
       "class E5--><rect fill=\"#FFFFFF\" height=\"45.9375\" id=\"E5\" style=\"stroke: #383838; stroke-width: 1.5;\" width=\"139\" x=\"1235.5\" y=\"41\"/><text fill=\"#000000\" font-family=\"sans-serif\" font-size=\"12\" font-style=\"italic\" lengthAdjust=\"spacingAndGlyphs\" textLength=\"137\" x=\"1236.5\" y=\"57.1387\">«verificationCase def»</text><text fill=\"#000000\" font-family=\"sans-serif\" font-size=\"12\" lengthAdjust=\"spacingAndGlyphs\" textLength=\"101\" x=\"1254.5\" y=\"71.1074\">VerificationCase</text><line style=\"stroke: #383838; stroke-width: 1.5;\" x1=\"1236.5\" x2=\"1373.5\" y1=\"78.9375\" y2=\"78.9375\"/><!--MD5=[60a26617385b1d2d0262a64233df1f8d]\n",
       "class E6--><rect fill=\"#FFFFFF\" height=\"88.3516\" id=\"E6\" rx=\"10\" ry=\"10\" style=\"stroke: #383838; stroke-width: 1.5;\" width=\"181\" x=\"1520\" y=\"41\"/><text fill=\"#000000\" font-family=\"sans-serif\" font-size=\"12\" font-style=\"italic\" lengthAdjust=\"spacingAndGlyphs\" textLength=\"91\" x=\"1565\" y=\"57.1387\">«requirement»</text><text fill=\"#000000\" font-family=\"sans-serif\" font-size=\"12\" lengthAdjust=\"spacingAndGlyphs\" textLength=\"154\" x=\"1533.5\" y=\"71.1074\">obj: VerificationObjective</text><line style=\"stroke: #383838; stroke-width: 1.5;\" x1=\"1521\" x2=\"1700\" y1=\"78.9375\" y2=\"78.9375\"/><text fill=\"#000000\" font-family=\"sans-serif\" font-size=\"11\" lengthAdjust=\"spacingAndGlyphs\" textLength=\"103\" x=\"1526\" y=\"109.9526\">subj: Anything= v;</text><text fill=\"#000000\" font-family=\"sans-serif\" font-size=\"11\" font-style=\"italic\" lengthAdjust=\"spacingAndGlyphs\" textLength=\"169\" x=\"1526\" y=\"122.7573\">:&gt;&gt;VerificationObjective::subj</text><line style=\"stroke: #383838; stroke-width: 1.0;\" x1=\"1521\" x2=\"1579.5\" y1=\"93.3398\" y2=\"93.3398\"/><text fill=\"#000000\" font-family=\"sans-serif\" font-size=\"11\" lengthAdjust=\"spacingAndGlyphs\" textLength=\"62\" x=\"1579.5\" y=\"96.6479\">references</text><line style=\"stroke: #383838; stroke-width: 1.0;\" x1=\"1641.5\" x2=\"1700\" y1=\"93.3398\" y2=\"93.3398\"/><!--MD5=[2156ba9850f5573cc1fc38a6a4b2f02b]\n",
       "class E7--><rect fill=\"#FFFFFF\" height=\"45.9375\" id=\"E7\" style=\"stroke: #383838; stroke-width: 1.5;\" width=\"139\" x=\"596\" y=\"158\"/><text fill=\"#000000\" font-family=\"sans-serif\" font-size=\"12\" font-style=\"italic\" lengthAdjust=\"spacingAndGlyphs\" textLength=\"137\" x=\"597\" y=\"174.1387\">«verificationCase def»</text><text fill=\"#000000\" font-family=\"sans-serif\" font-size=\"12\" lengthAdjust=\"spacingAndGlyphs\" textLength=\"97\" x=\"617\" y=\"188.1074\">VerificationPlan</text><line style=\"stroke: #383838; stroke-width: 1.5;\" x1=\"597\" x2=\"734\" y1=\"195.9375\" y2=\"195.9375\"/><!--MD5=[b9389687b975829384b498ac4b7476b2]\n",
       "class E8--><rect fill=\"#FFFFFF\" height=\"66.7422\" id=\"E8\" rx=\"10\" ry=\"10\" style=\"stroke: #383838; stroke-width: 1.5;\" width=\"151\" x=\"907.5\" y=\"147.5\"/><text fill=\"#000000\" font-family=\"sans-serif\" font-size=\"12\" font-style=\"italic\" lengthAdjust=\"spacingAndGlyphs\" textLength=\"91\" x=\"937.5\" y=\"163.6387\">«requirement»</text><text fill=\"#000000\" font-family=\"sans-serif\" font-size=\"12\" lengthAdjust=\"spacingAndGlyphs\" textLength=\"145\" x=\"910.5\" y=\"177.6074\">obj: RequirementCheck</text><line style=\"stroke: #383838; stroke-width: 1.5;\" x1=\"908.5\" x2=\"1057.5\" y1=\"185.4375\" y2=\"185.4375\"/><text fill=\"#000000\" font-family=\"sans-serif\" font-size=\"11\" lengthAdjust=\"spacingAndGlyphs\" textLength=\"12\" x=\"913.5\" y=\"199.6479\">...</text><line style=\"stroke: #383838; stroke-width: 1.0;\" x1=\"908.5\" x2=\"1057.5\" y1=\"206.2422\" y2=\"206.2422\"/><!--MD5=[fd4143e9d270a159db93a4ea2a975926]\n",
       "class E9--><rect fill=\"#FFFFFF\" height=\"45.9375\" id=\"E9\" rx=\"10\" ry=\"10\" style=\"stroke: #383838; stroke-width: 1.5;\" width=\"214\" x=\"876\" y=\"66\"/><text fill=\"#000000\" font-family=\"sans-serif\" font-size=\"12\" font-style=\"italic\" lengthAdjust=\"spacingAndGlyphs\" textLength=\"113\" x=\"926.5\" y=\"82.1387\">«verificationCase»</text><text fill=\"#000000\" font-family=\"sans-serif\" font-size=\"12\" lengthAdjust=\"spacingAndGlyphs\" textLength=\"208\" x=\"879\" y=\"96.1074\">verificationCase: VerificationCase</text><line style=\"stroke: #383838; stroke-width: 1.5;\" x1=\"877\" x2=\"1089\" y1=\"103.9375\" y2=\"103.9375\"/><!--MD5=[96f4274e9e20536e775497830990834d]\n",
       "class E10--><rect fill=\"#FFFFFF\" height=\"45.9375\" id=\"E10\" rx=\"10\" ry=\"10\" style=\"stroke: #383838; stroke-width: 1.5;\" width=\"160\" x=\"1225\" y=\"203\"/><text fill=\"#000000\" font-family=\"sans-serif\" font-size=\"12\" font-style=\"italic\" lengthAdjust=\"spacingAndGlyphs\" textLength=\"91\" x=\"1259.5\" y=\"219.1387\">«requirement»</text><text fill=\"#000000\" font-family=\"sans-serif\" font-size=\"12\" lengthAdjust=\"spacingAndGlyphs\" textLength=\"154\" x=\"1228\" y=\"233.1074\">obj: VerificationObjective</text><line style=\"stroke: #383838; stroke-width: 1.5;\" x1=\"1226\" x2=\"1384\" y1=\"240.9375\" y2=\"240.9375\"/><!--MD5=[1dd1bfd58a279cf63c5f349dbc8fc6a1]\n",
       "class E11--><rect fill=\"#FFFFFF\" height=\"45.9375\" id=\"E11\" rx=\"10\" ry=\"10\" style=\"stroke: #383838; stroke-width: 1.5;\" width=\"156\" x=\"32\" y=\"118\"/><text fill=\"#000000\" font-family=\"sans-serif\" font-size=\"12\" font-style=\"italic\" lengthAdjust=\"spacingAndGlyphs\" textLength=\"40\" x=\"90\" y=\"134.1387\">«part»</text><text fill=\"#000000\" font-family=\"sans-serif\" font-size=\"12\" lengthAdjust=\"spacingAndGlyphs\" textLength=\"150\" x=\"35\" y=\"148.1074\">verificationContext: Part</text><line style=\"stroke: #383838; stroke-width: 1.5;\" x1=\"33\" x2=\"187\" y1=\"155.9375\" y2=\"155.9375\"/><!--MD5=[49a0ec8f00dab7302a31f22d0f0fe584]\n",
       "class E12--><rect fill=\"#FFFFFF\" height=\"88.3516\" id=\"E12\" rx=\"10\" ry=\"10\" style=\"stroke: #383838; stroke-width: 1.5;\" width=\"206\" x=\"249\" y=\"97\"/><text fill=\"#000000\" font-family=\"sans-serif\" font-size=\"12\" font-style=\"italic\" lengthAdjust=\"spacingAndGlyphs\" textLength=\"113\" x=\"295.5\" y=\"113.1387\">«verificationCase»</text><text fill=\"#000000\" font-family=\"sans-serif\" font-size=\"12\" lengthAdjust=\"spacingAndGlyphs\" textLength=\"200\" x=\"252\" y=\"127.1074\">verificationPlan: VerificationPlan</text><line style=\"stroke: #383838; stroke-width: 1.5;\" x1=\"250\" x2=\"454\" y1=\"134.9375\" y2=\"134.9375\"/><text fill=\"#000000\" font-family=\"sans-serif\" font-size=\"11\" lengthAdjust=\"spacingAndGlyphs\" textLength=\"50\" x=\"255\" y=\"165.9526\">v: V= vv;</text><text fill=\"#000000\" font-family=\"sans-serif\" font-size=\"11\" font-style=\"italic\" lengthAdjust=\"spacingAndGlyphs\" textLength=\"123\" x=\"255\" y=\"178.7573\">:&gt;&gt;VerificationPlan::v</text><line style=\"stroke: #383838; stroke-width: 1.0;\" x1=\"250\" x2=\"321\" y1=\"149.3398\" y2=\"149.3398\"/><text fill=\"#000000\" font-family=\"sans-serif\" font-size=\"11\" lengthAdjust=\"spacingAndGlyphs\" textLength=\"62\" x=\"321\" y=\"152.6479\">references</text><line style=\"stroke: #383838; stroke-width: 1.0;\" x1=\"383\" x2=\"454\" y1=\"149.3398\" y2=\"149.3398\"/><!--MD5=[ee3c913d1a06f366521f9ef512b67efe]\n",
       "class E13--><rect fill=\"#FFFFFF\" height=\"45.9375\" id=\"E13\" rx=\"10\" ry=\"10\" style=\"stroke: #383838; stroke-width: 1.5;\" width=\"151\" x=\"590\" y=\"77\"/><text fill=\"#000000\" font-family=\"sans-serif\" font-size=\"12\" font-style=\"italic\" lengthAdjust=\"spacingAndGlyphs\" textLength=\"91\" x=\"620\" y=\"93.1387\">«requirement»</text><text fill=\"#000000\" font-family=\"sans-serif\" font-size=\"12\" lengthAdjust=\"spacingAndGlyphs\" textLength=\"145\" x=\"593\" y=\"107.1074\">obj: RequirementCheck</text><line style=\"stroke: #383838; stroke-width: 1.5;\" x1=\"591\" x2=\"740\" y1=\"114.9375\" y2=\"114.9375\"/><!--MD5=[05d275557350bfb9b23a4ef7222b4c39]\n",
       "link E3 to E2--><path d=\"M1326.11,153.06 C1347.7,161.34 1383.19,173.84 1415,180 C1461.55,189.01 1515.39,192.36 1554.6,193.53 \" fill=\"none\" id=\"E3-&gt;E2\" style=\"stroke: #383838; stroke-width: 1.0;\"/><polygon fill=\"#FFFFFF\" points=\"1574.74,193.99,1555.5896,200.5674,1555.8997,186.5708,1574.74,193.99\" style=\"stroke: #383838; stroke-width: 1.0;\"/><ellipse cx=\"1549.9353\" cy=\"198.4416\" fill=\"#383838\" rx=\"2\" ry=\"2\" style=\"stroke: #383838; stroke-width: 1.0;\"/><ellipse cx=\"1550.1568\" cy=\"188.444\" fill=\"#383838\" rx=\"2\" ry=\"2\" style=\"stroke: #383838; stroke-width: 1.0;\"/><!--MD5=[15ebcb19ae302d9b601edb458606d402]\n",
       "link E5 to E2--><path d=\"M1359.91,87.09 C1420.26,112.94 1516.61,154.21 1570.23,177.18 \" fill=\"none\" id=\"E5-&gt;E2\" style=\"stroke: #383838; stroke-width: 1.0; stroke-dasharray: 7.0,7.0;\"/><polygon fill=\"#383838\" points=\"1574.97,179.21,1568.2734,171.9881,1570.3743,177.2404,1565.122,179.3413,1574.97,179.21\" style=\"stroke: #383838; stroke-width: 1.0;\"/><text fill=\"#000000\" font-family=\"sans-serif\" font-size=\"13\" lengthAdjust=\"spacingAndGlyphs\" textLength=\"62\" x=\"1421.5\" y=\"110.0669\">«subject»</text><!--MD5=[9120cf2e5df3bff93db8f754bbbc09b4]\n",
       "link E5 to E6--><path d=\"M1374.87,68.77 C1415.29,71.56 1467.03,75.14 1511.63,78.23 \" fill=\"none\" id=\"E5-&gt;E6\" style=\"stroke: #383838; stroke-width: 1.0;\"/><polygon fill=\"#383838\" points=\"1519.87,78.8,1512.0982,75.2505,1511.6806,81.2359,1519.87,78.8\" style=\"stroke: #383838; stroke-width: 1.0;\"/><text fill=\"#000000\" font-family=\"sans-serif\" font-size=\"13\" lengthAdjust=\"spacingAndGlyphs\" textLength=\"73\" x=\"1416\" y=\"69.0669\">«objective»</text><!--MD5=[f667431f98296947986a1a7595a31603]\n",
       "link E6 to E4--><path d=\"M1701.23,85 C1714.54,85 1728.23,85 1741.46,85 \" fill=\"none\" id=\"E6-&gt;E4\" style=\"stroke: #383838; stroke-width: 1.0;\"/><polygon fill=\"#FFFFFF\" points=\"1761.76,85,1742.76,92,1742.76,78,1761.76,85\" style=\"stroke: #383838; stroke-width: 1.0;\"/><ellipse cx=\"1737.06\" cy=\"90\" fill=\"#383838\" rx=\"2\" ry=\"2\" style=\"stroke: #383838; stroke-width: 1.0;\"/><ellipse cx=\"1737.06\" cy=\"80\" fill=\"#383838\" rx=\"2\" ry=\"2\" style=\"stroke: #383838; stroke-width: 1.0;\"/><!--MD5=[583832df87f4419a098336a29a52fa00]\n",
       "link E7 to E2--><path d=\"M735.09,201.55 C863.19,237.17 1147.35,303.18 1385,266 C1451.92,255.53 1526.12,228.52 1570.24,210.72 \" fill=\"none\" id=\"E7-&gt;E2\" style=\"stroke: #383838; stroke-width: 1.0; stroke-dasharray: 7.0,7.0;\"/><polygon fill=\"#383838\" points=\"1574.94,208.81,1565.0968,208.4752,1570.3046,210.6842,1568.0956,215.8919,1574.94,208.81\" style=\"stroke: #383838; stroke-width: 1.0;\"/><text fill=\"#000000\" font-family=\"sans-serif\" font-size=\"13\" lengthAdjust=\"spacingAndGlyphs\" textLength=\"62\" x=\"1126.5\" y=\"269.0669\">«subject»</text><!--MD5=[79bc8f324ef4d02c541433f2e6e513c3]\n",
       "link E7 to E8--><path d=\"M735.35,181 C783.54,181 848.16,181 899.17,181 \" fill=\"none\" id=\"E7-&gt;E8\" style=\"stroke: #383838; stroke-width: 1.0;\"/><polygon fill=\"#383838\" points=\"907.24,181,899.24,178,899.24,184,907.24,181\" style=\"stroke: #383838; stroke-width: 1.0;\"/><text fill=\"#000000\" font-family=\"sans-serif\" font-size=\"13\" lengthAdjust=\"spacingAndGlyphs\" textLength=\"73\" x=\"772\" y=\"177.0669\">«objective»</text><!--MD5=[bfc3ddf2e613be37104f658f09af896c]\n",
       "link E9 to E5--><path d=\"M1090.11,80.71 C1130.67,77.54 1176.46,73.96 1215.24,70.93 \" fill=\"none\" id=\"E9-&gt;E5\" style=\"stroke: #383838; stroke-width: 1.0;\"/><polygon fill=\"#FFFFFF\" points=\"1235.39,69.36,1216.9926,77.8178,1215.9028,63.8603,1235.39,69.36\" style=\"stroke: #383838; stroke-width: 1.0;\"/><ellipse cx=\"1211.1542\" cy=\"76.2676\" fill=\"#383838\" rx=\"2\" ry=\"2\" style=\"stroke: #383838; stroke-width: 1.0;\"/><ellipse cx=\"1210.3757\" cy=\"66.2979\" fill=\"#383838\" rx=\"2\" ry=\"2\" style=\"stroke: #383838; stroke-width: 1.0;\"/><!--MD5=[e4a10ef82d0e328e31cac39a31e58dda]\n",
       "reverse link E7 to E9--><path d=\"M747.84,157.28 C795.59,143.36 855.67,125.84 903.01,112.03 \" fill=\"none\" id=\"E7&lt;-E9\" style=\"stroke: #383838; stroke-width: 1.0;\"/><polygon fill=\"#383838\" points=\"735.35,160.92,742.2309,163.0773,746.8687,157.5554,739.9878,155.3982,735.35,160.92\" style=\"stroke: #383838; stroke-width: 1.0;\"/><!--MD5=[35e5f1cbde42fa304a029880aa2bc7f2]\n",
       "link E9 to E10--><path d=\"M1045.32,112.09 C1060.01,117.79 1075.61,124 1090,130 C1143.82,152.46 1204.4,179.84 1247.33,199.6 \" fill=\"none\" id=\"E9-&gt;E10\" style=\"stroke: #383838; stroke-width: 1.0;\"/><polygon fill=\"#383838\" points=\"1254.6,202.95,1248.5889,196.8782,1246.0787,202.3278,1254.6,202.95\" style=\"stroke: #383838; stroke-width: 1.0;\"/><text fill=\"#000000\" font-family=\"sans-serif\" font-size=\"13\" lengthAdjust=\"spacingAndGlyphs\" textLength=\"73\" x=\"1121\" y=\"142.0669\">«objective»</text><!--MD5=[ae660f5ecd7ddb04a8913625960940af]\n",
       "link E12 to E7--><path d=\"M455.43,154.15 C494.42,159.16 538.48,164.82 576.06,169.64 \" fill=\"none\" id=\"E12-&gt;E7\" style=\"stroke: #383838; stroke-width: 1.0;\"/><polygon fill=\"#FFFFFF\" points=\"595.92,172.19,576.1843,176.7181,577.9639,162.8317,595.92,172.19\" style=\"stroke: #383838; stroke-width: 1.0;\"/><ellipse cx=\"570.7848\" cy=\"174.0098\" fill=\"#383838\" rx=\"2\" ry=\"2\" style=\"stroke: #383838; stroke-width: 1.0;\"/><ellipse cx=\"572.0559\" cy=\"164.0909\" fill=\"#383838\" rx=\"2\" ry=\"2\" style=\"stroke: #383838; stroke-width: 1.0;\"/><!--MD5=[94adabc162ce7e41b39f13be14fbaeb3]\n",
       "reverse link E11 to E12--><path d=\"M201.62,141 C217.07,141 233.21,141 248.92,141 \" fill=\"none\" id=\"E11&lt;-E12\" style=\"stroke: #383838; stroke-width: 1.0;\"/><polygon fill=\"#383838\" points=\"188.26,141,194.26,145,200.26,141,194.26,137,188.26,141\" style=\"stroke: #383838; stroke-width: 1.0;\"/><!--MD5=[e2a9ac97dcd3257bb5342dae06547bad]\n",
       "link E12 to E13--><path d=\"M455.43,127.52 C496.32,122.14 542.79,116.02 581.51,110.92 \" fill=\"none\" id=\"E12-&gt;E13\" style=\"stroke: #383838; stroke-width: 1.0;\"/><polygon fill=\"#383838\" points=\"589.65,109.85,581.3271,107.9189,582.1095,113.8676,589.65,109.85\" style=\"stroke: #383838; stroke-width: 1.0;\"/><text fill=\"#000000\" font-family=\"sans-serif\" font-size=\"13\" lengthAdjust=\"spacingAndGlyphs\" textLength=\"73\" x=\"486\" y=\"111.0669\">«objective»</text><!--MD5=[265da9f798c1c2a0925577ba53843dfe]\n",
       "@startuml\r\n",
       "left to right direction\r\n",
       "skinparam monochrome true\r\n",
       "skinparam classbackgroundcolor white\r\n",
       "skinparam shadowing false\r\n",
       "skinparam wrapWidth 300\r\n",
       "hide circle\r\n",
       "\r\n",
       "package \"VerificationTest\" as E1   {\r\n",
       "comp def \"V\" as E2  <<(T,blue)part def>> {\r\n",
       "m: Integer\r\n",
       "}\r\n",
       "comp usage \"vv: V\" as E3  <<(T,blue)part>> {\r\n",
       "}\r\n",
       "comp def \"VerificationObjective\" as E4  <<(T,blue)requirement def>> {\r\n",
       "...\r\n",
       "- -\r\n",
       "}\r\n",
       "comp def \"VerificationCase\" as E5  <<(T,blue)verificationCase def>> {\r\n",
       "}\r\n",
       "comp usage \"obj: VerificationObjective\" as E6  <<(T,blue)requirement>> {\r\n",
       "- -references- -\r\n",
       "subj: Anything= v; \\n//:>>VerificationObjective::subj// \r\n",
       "}\r\n",
       "comp def \"VerificationPlan\" as E7  <<(T,blue)verificationCase def>> {\r\n",
       "}\r\n",
       "comp usage \"obj: RequirementCheck\" as E8  <<(T,blue)requirement>> {\r\n",
       "...\r\n",
       "- -\r\n",
       "}\r\n",
       "comp usage \"verificationCase: VerificationCase\" as E9  <<(T,blue)verificationCase>> {\r\n",
       "}\r\n",
       "comp usage \"obj: VerificationObjective\" as E10  <<(T,blue)requirement>> {\r\n",
       "}\r\n",
       "comp usage \"verificationContext: Part\" as E11  <<(T,blue)part>> {\r\n",
       "}\r\n",
       "comp usage \"verificationPlan: VerificationPlan\" as E12  <<(T,blue)verificationCase>> {\r\n",
       "- -references- -\r\n",
       "v: V= vv; \\n//:>>VerificationPlan::v// \r\n",
       "}\r\n",
       "comp usage \"obj: RequirementCheck\" as E13  <<(T,blue)requirement>> {\r\n",
       "}\r\n",
       "E3 - -:|> E2\r\n",
       "E5 ..> E2 : <<subject>>\r\n",
       "E5 - ->> E6 : <<objective>>\r\n",
       "E6 - -:|> E4\r\n",
       "E7 ..> E2 : <<subject>>\r\n",
       "E7 - ->> E8 : <<objective>>\r\n",
       "E9 - -:|> E5\r\n",
       "E7 *- - E9\r\n",
       "E9 - ->> E10 : <<objective>>\r\n",
       "E12 - -:|> E7\r\n",
       "E11 *- - E12\r\n",
       "E12 - ->> E13 : <<objective>>\r\n",
       "}\r\n",
       "@enduml\r\n",
       "\n",
       "PlantUML version 1.2020.13(Sat Jun 13 12:26:38 UTC 2020)\n",
       "(EPL source distribution)\n",
       "Java Runtime: OpenJDK Runtime Environment\n",
       "JVM: OpenJDK 64-Bit Server VM\n",
       "Default Encoding: UTF-8\n",
       "Language: en\n",
       "Country: null\n",
       "--></g></svg>"
      ]
     },
     "execution_count": 21,
     "metadata": {},
     "output_type": "execute_result"
    }
   ],
   "source": [
    "%viz --style=\"LR\" --view=\"Sequence\" \"VerificationTest\""
   ]
  },
  {
   "cell_type": "code",
   "execution_count": 22,
   "id": "industrial-alexander",
   "metadata": {
    "execution": {
     "iopub.execute_input": "2021-03-25T15:57:38.346026Z",
     "iopub.status.busy": "2021-03-25T15:57:38.345447Z",
     "iopub.status.idle": "2021-03-25T15:57:39.309845Z",
     "shell.execute_reply": "2021-03-25T15:57:39.305116Z"
    }
   },
   "outputs": [
    {
     "data": {
      "image/svg+xml": [
       "<?xml version=\"1.0\" encoding=\"UTF-8\" standalone=\"no\"?><svg xmlns=\"http://www.w3.org/2000/svg\" xmlns:xlink=\"http://www.w3.org/1999/xlink\" contentScriptType=\"application/ecmascript\" contentStyleType=\"text/css\" height=\"547px\" preserveAspectRatio=\"none\" style=\"width:1011px;height:547px;\" version=\"1.1\" viewBox=\"0 0 1011 547\" width=\"1011px\" zoomAndPan=\"magnify\"><defs/><g><!--MD5=[fbc87193dbaf4d95561dea2c320d4a47]\n",
       "cluster E1--><polygon fill=\"#FFFFFF\" points=\"16,6,147,6,154,28.2969,989,28.2969,989,535,16,535,16,6\" style=\"stroke: #000000; stroke-width: 1.5;\"/><line style=\"stroke: #000000; stroke-width: 1.5;\" x1=\"16\" x2=\"154\" y1=\"28.2969\" y2=\"28.2969\"/><text fill=\"#000000\" font-family=\"sans-serif\" font-size=\"14\" font-weight=\"bold\" lengthAdjust=\"spacingAndGlyphs\" textLength=\"125\" x=\"20\" y=\"20.9951\">VerificationTest</text><!--MD5=[de5ec2e2e8f62f467e546659f5068c88]\n",
       "cluster E5--><rect fill=\"#FFFFFF\" height=\"164\" style=\"stroke: #000000; stroke-width: 1.5;\" width=\"685\" x=\"92\" y=\"55\"/><text fill=\"#000000\" font-family=\"sans-serif\" font-size=\"14\" font-weight=\"bold\" lengthAdjust=\"spacingAndGlyphs\" textLength=\"129\" x=\"370\" y=\"69.9951\">VerificationCase</text><!--MD5=[917b9dd0c7eca3ee5f47219d1a84c0ad]\n",
       "cluster E11--><rect fill=\"#FFFFFF\" height=\"98\" style=\"stroke: #000000; stroke-width: 1.5;\" width=\"613\" x=\"352\" y=\"317\"/><text fill=\"#000000\" font-family=\"sans-serif\" font-size=\"14\" font-weight=\"bold\" lengthAdjust=\"spacingAndGlyphs\" textLength=\"123\" x=\"597\" y=\"331.9951\">VerificationPlan</text><!--MD5=[b4997ac47864f28c2f74865a473b2911]\n",
       "class E2--><rect fill=\"#FFFFFF\" height=\"58.7422\" id=\"E2\" style=\"stroke: #383838; stroke-width: 1.5;\" width=\"71\" x=\"316.5\" y=\"241.5\"/><text fill=\"#000000\" font-family=\"sans-serif\" font-size=\"12\" font-style=\"italic\" lengthAdjust=\"spacingAndGlyphs\" textLength=\"64\" x=\"320\" y=\"257.6387\">«part def»</text><text fill=\"#000000\" font-family=\"sans-serif\" font-size=\"12\" lengthAdjust=\"spacingAndGlyphs\" textLength=\"8\" x=\"348\" y=\"271.6074\">V</text><line style=\"stroke: #383838; stroke-width: 1.5;\" x1=\"317.5\" x2=\"386.5\" y1=\"279.4375\" y2=\"279.4375\"/><text fill=\"#000000\" font-family=\"sans-serif\" font-size=\"11\" lengthAdjust=\"spacingAndGlyphs\" textLength=\"59\" x=\"322.5\" y=\"293.6479\">m: Integer</text><!--MD5=[09b614a08d8cba4a07c9adeb5e0fee81]\n",
       "class E3--><rect fill=\"#FFFFFF\" height=\"45.9375\" id=\"E3\" rx=\"10\" ry=\"10\" style=\"stroke: #383838; stroke-width: 1.5;\" width=\"42\" x=\"89\" y=\"260\"/><text fill=\"#000000\" font-family=\"sans-serif\" font-size=\"12\" font-style=\"italic\" lengthAdjust=\"spacingAndGlyphs\" textLength=\"40\" x=\"90\" y=\"276.1387\">«part»</text><text fill=\"#000000\" font-family=\"sans-serif\" font-size=\"12\" lengthAdjust=\"spacingAndGlyphs\" textLength=\"28\" x=\"96\" y=\"290.1074\">vv: V</text><line style=\"stroke: #383838; stroke-width: 1.5;\" x1=\"90\" x2=\"130\" y1=\"297.9375\" y2=\"297.9375\"/><!--MD5=[ebbe1d658d1005bcc118a6aa81145e00]\n",
       "class E4--><rect fill=\"#FFFFFF\" height=\"66.7422\" id=\"E4\" style=\"stroke: #383838; stroke-width: 1.5;\" width=\"133\" x=\"43.5\" y=\"345.5\"/><text fill=\"#000000\" font-family=\"sans-serif\" font-size=\"12\" font-style=\"italic\" lengthAdjust=\"spacingAndGlyphs\" textLength=\"115\" x=\"52.5\" y=\"361.6387\">«requirement def»</text><text fill=\"#000000\" font-family=\"sans-serif\" font-size=\"12\" lengthAdjust=\"spacingAndGlyphs\" textLength=\"127\" x=\"46.5\" y=\"375.6074\">VerificationObjective</text><line style=\"stroke: #383838; stroke-width: 1.5;\" x1=\"44.5\" x2=\"175.5\" y1=\"383.4375\" y2=\"383.4375\"/><text fill=\"#000000\" font-family=\"sans-serif\" font-size=\"11\" lengthAdjust=\"spacingAndGlyphs\" textLength=\"12\" x=\"49.5\" y=\"397.6479\">...</text><line style=\"stroke: #383838; stroke-width: 1.0;\" x1=\"44.5\" x2=\"175.5\" y1=\"404.2422\" y2=\"404.2422\"/><!--MD5=[bee11217b2f71d958a27249dc326068c]\n",
       "class E14--><rect fill=\"#FFFFFF\" height=\"45.9375\" id=\"E14\" rx=\"10\" ry=\"10\" style=\"stroke: #383838; stroke-width: 1.5;\" width=\"156\" x=\"32\" y=\"452\"/><text fill=\"#000000\" font-family=\"sans-serif\" font-size=\"12\" font-style=\"italic\" lengthAdjust=\"spacingAndGlyphs\" textLength=\"40\" x=\"90\" y=\"468.1387\">«part»</text><text fill=\"#000000\" font-family=\"sans-serif\" font-size=\"12\" lengthAdjust=\"spacingAndGlyphs\" textLength=\"150\" x=\"35\" y=\"482.1074\">verificationContext: Part</text><line style=\"stroke: #383838; stroke-width: 1.5;\" x1=\"33\" x2=\"187\" y1=\"489.9375\" y2=\"489.9375\"/><!--MD5=[0c48fb7552dae8cbbef69381101a84c8]\n",
       "class E15--><rect fill=\"#FFFFFF\" height=\"88.3516\" id=\"E15\" rx=\"10\" ry=\"10\" style=\"stroke: #383838; stroke-width: 1.5;\" width=\"206\" x=\"249\" y=\"431\"/><text fill=\"#000000\" font-family=\"sans-serif\" font-size=\"12\" font-style=\"italic\" lengthAdjust=\"spacingAndGlyphs\" textLength=\"113\" x=\"295.5\" y=\"447.1387\">«verificationCase»</text><text fill=\"#000000\" font-family=\"sans-serif\" font-size=\"12\" lengthAdjust=\"spacingAndGlyphs\" textLength=\"200\" x=\"252\" y=\"461.1074\">verificationPlan: VerificationPlan</text><line style=\"stroke: #383838; stroke-width: 1.5;\" x1=\"250\" x2=\"454\" y1=\"468.9375\" y2=\"468.9375\"/><text fill=\"#000000\" font-family=\"sans-serif\" font-size=\"11\" lengthAdjust=\"spacingAndGlyphs\" textLength=\"50\" x=\"255\" y=\"499.9526\">v: V= vv;</text><text fill=\"#000000\" font-family=\"sans-serif\" font-size=\"11\" font-style=\"italic\" lengthAdjust=\"spacingAndGlyphs\" textLength=\"123\" x=\"255\" y=\"512.7573\">:&gt;&gt;VerificationPlan::v</text><line style=\"stroke: #383838; stroke-width: 1.0;\" x1=\"250\" x2=\"321\" y1=\"483.3398\" y2=\"483.3398\"/><text fill=\"#000000\" font-family=\"sans-serif\" font-size=\"11\" lengthAdjust=\"spacingAndGlyphs\" textLength=\"62\" x=\"321\" y=\"486.6479\">references</text><line style=\"stroke: #383838; stroke-width: 1.0;\" x1=\"383\" x2=\"454\" y1=\"483.3398\" y2=\"483.3398\"/><!--MD5=[35f0587eaee8d5bb9a02e25b63afc23b]\n",
       "class E16--><rect fill=\"#FFFFFF\" height=\"45.9375\" id=\"E16\" rx=\"10\" ry=\"10\" style=\"stroke: #383838; stroke-width: 1.5;\" width=\"151\" x=\"590\" y=\"452\"/><text fill=\"#000000\" font-family=\"sans-serif\" font-size=\"12\" font-style=\"italic\" lengthAdjust=\"spacingAndGlyphs\" textLength=\"91\" x=\"620\" y=\"468.1387\">«requirement»</text><text fill=\"#000000\" font-family=\"sans-serif\" font-size=\"12\" lengthAdjust=\"spacingAndGlyphs\" textLength=\"145\" x=\"593\" y=\"482.1074\">obj: RequirementCheck</text><line style=\"stroke: #383838; stroke-width: 1.5;\" x1=\"591\" x2=\"740\" y1=\"489.9375\" y2=\"489.9375\"/><text fill=\"#000000\" font-family=\"sans-serif\" font-size=\"14\" lengthAdjust=\"spacingAndGlyphs\" textLength=\"7\" x=\"106.5\" y=\"237.9951\">v</text><rect fill=\"#383838\" height=\"12\" style=\"stroke: #F8F8F8; stroke-width: 1.5;\" width=\"12\" x=\"104\" y=\"213\"/><text fill=\"#000000\" font-family=\"sans-serif\" font-size=\"14\" lengthAdjust=\"spacingAndGlyphs\" textLength=\"48\" x=\"753\" y=\"204.9951\">$result</text><rect fill=\"#383838\" height=\"12\" style=\"stroke: #F8F8F8; stroke-width: 1.5;\" width=\"12\" x=\"771\" y=\"180\"/><text fill=\"#000000\" font-family=\"sans-serif\" font-size=\"14\" lengthAdjust=\"spacingAndGlyphs\" textLength=\"16\" x=\"102\" y=\"115.6982\">$x</text><rect fill=\"#383838\" height=\"12\" style=\"stroke: #F8F8F8; stroke-width: 1.5;\" width=\"12\" x=\"104\" y=\"131\"/><text fill=\"#000000\" font-family=\"sans-serif\" font-size=\"14\" lengthAdjust=\"spacingAndGlyphs\" textLength=\"16\" x=\"102\" y=\"33.6982\">$y</text><rect fill=\"#383838\" height=\"12\" style=\"stroke: #F8F8F8; stroke-width: 1.5;\" width=\"12\" x=\"104\" y=\"49\"/><text fill=\"#000000\" font-family=\"sans-serif\" font-size=\"14\" lengthAdjust=\"spacingAndGlyphs\" textLength=\"48\" x=\"753\" y=\"82.6982\">$result</text><rect fill=\"#383838\" height=\"12\" style=\"stroke: #F8F8F8; stroke-width: 1.5;\" width=\"12\" x=\"771\" y=\"98\"/><text fill=\"#000000\" font-family=\"sans-serif\" font-size=\"14\" lengthAdjust=\"spacingAndGlyphs\" textLength=\"7\" x=\"348.5\" y=\"392.9951\">v</text><rect fill=\"#383838\" height=\"12\" style=\"stroke: #F8F8F8; stroke-width: 1.5;\" width=\"12\" x=\"346\" y=\"368\"/><g id=\"E1.E11.E13\"><rect fill=\"#FFFFFF\" height=\"50\" rx=\"12.5\" ry=\"12.5\" style=\"stroke: #383838; stroke-width: 1.5;\" width=\"128\" x=\"813\" y=\"341\"/><line style=\"stroke: #383838; stroke-width: 1.5;\" x1=\"813\" x2=\"941\" y1=\"367.2969\" y2=\"367.2969\"/><text fill=\"#000000\" font-family=\"sans-serif\" font-size=\"14\" lengthAdjust=\"spacingAndGlyphs\" textLength=\"108\" x=\"823\" y=\"358.9951\">verificationCase</text></g><!--MD5=[05d275557350bfb9b23a4ef7222b4c39]\n",
       "link E3 to E2--><path d=\"M131.05,282 C166.99,280.2 243.55,276.37 296.14,273.74 \" fill=\"none\" id=\"E3-&gt;E2\" style=\"stroke: #383838; stroke-width: 1.0;\"/><polygon fill=\"#FFFFFF\" points=\"316.35,272.73,297.7238,280.6714,297.0237,266.6889,316.35,272.73\" style=\"stroke: #383838; stroke-width: 1.0;\"/><ellipse cx=\"291.9309\" cy=\"278.959\" fill=\"#383838\" rx=\"2\" ry=\"2\" style=\"stroke: #383838; stroke-width: 1.0;\"/><ellipse cx=\"291.4309\" cy=\"268.9715\" fill=\"#383838\" rx=\"2\" ry=\"2\" style=\"stroke: #383838; stroke-width: 1.0;\"/><!--MD5=[cf04703ca05eebef50f1cfe8b03e143b]\n",
       "link E9 to E7--><path d=\"M116.47,54.26 C154.57,49.31 383.77,22.53 560,70 C651.65,94.69 747.53,164.39 770.73,181.95 \" fill=\"none\" id=\"E9-E7\" style=\"stroke: #383838; stroke-width: 5.0;\"/><!--MD5=[58d440dfd4c930e286431b4800d1b487]\n",
       "link E15 to E11--><path d=\"M455.12,452.05 C498.13,441.04 542.29,427.54 560,415 \" fill=\"none\" id=\"E15-&gt;E11\" style=\"stroke: #383838; stroke-width: 1.0;\"/><polygon fill=\"#FFFFFF\" points=\"560,415,548.5388,431.6925,540.4485,420.2668,560,415\" style=\"stroke: #383838; stroke-width: 1.0;\"/><ellipse cx=\"542.7311\" cy=\"433.3542\" fill=\"#383838\" rx=\"2\" ry=\"2\" style=\"stroke: #383838; stroke-width: 1.0;\"/><ellipse cx=\"536.9524\" cy=\"425.1929\" fill=\"#383838\" rx=\"2\" ry=\"2\" style=\"stroke: #383838; stroke-width: 1.0;\"/><!--MD5=[17bf29720e4688890742b92d9a67fdf0]\n",
       "reverse link E14 to E15--><path d=\"M201.62,475 C217.07,475 233.21,475 248.92,475 \" fill=\"none\" id=\"E14&lt;-E15\" style=\"stroke: #383838; stroke-width: 1.0;\"/><polygon fill=\"#383838\" points=\"188.26,475,194.26,479,200.26,475,194.26,471,188.26,475\" style=\"stroke: #383838; stroke-width: 1.0;\"/><!--MD5=[f8b155c46b092be73bb522b0a8fc72a2]\n",
       "link E15 to E16--><path d=\"M455.43,475 C496.32,475 542.79,475 581.51,475 \" fill=\"none\" id=\"E15-&gt;E16\" style=\"stroke: #383838; stroke-width: 1.0;\"/><polygon fill=\"#383838\" points=\"589.65,475,581.65,472,581.65,478,589.65,475\" style=\"stroke: #383838; stroke-width: 1.0;\"/><text fill=\"#000000\" font-family=\"sans-serif\" font-size=\"13\" lengthAdjust=\"spacingAndGlyphs\" textLength=\"73\" x=\"486\" y=\"471.0669\">«objective»</text><!--MD5=[02f8e9c16db9bb9758ee55ccb97287bd]\n",
       "@startuml\r\n",
       "left to right direction\r\n",
       "skinparam monochrome true\r\n",
       "skinparam classbackgroundcolor white\r\n",
       "skinparam shadowing false\r\n",
       "skinparam wrapWidth 300\r\n",
       "hide circle\r\n",
       "\r\n",
       "package \"VerificationTest\" as E1   {\r\n",
       "comp def \"V\" as E2  <<(T,blue)part def>> {\r\n",
       "m: Integer\r\n",
       "}\r\n",
       "comp usage \"vv: V\" as E3  <<(T,blue)part>> {\r\n",
       "}\r\n",
       "comp def \"VerificationObjective\" as E4  <<(T,blue)requirement def>> {\r\n",
       "...\r\n",
       "- -\r\n",
       "}\r\n",
       "rec def \"VerificationCase\" as E5 {\r\n",
       "portin \"v\" as E6  \r\n",
       "portout \"$result\" as E7  \r\n",
       "portin \"$x\" as E8  \r\n",
       "portin \"$y\" as E9  \r\n",
       "portout \"$result\" as E10  \r\n",
       "}\r\n",
       "\r\n",
       "rec def \"VerificationPlan\" as E11 {\r\n",
       "portin \"v\" as E12  \r\n",
       "rec usage \"verificationCase\" as E13 {\r\n",
       "}\r\n",
       "\r\n",
       "}\r\n",
       "\r\n",
       "comp usage \"verificationContext: Part\" as E14  <<(T,blue)part>> {\r\n",
       "}\r\n",
       "comp usage \"verificationPlan: VerificationPlan\" as E15  <<(T,blue)verificationCase>> {\r\n",
       "- -references- -\r\n",
       "v: V= vv; \\n//:>>VerificationPlan::v// \r\n",
       "}\r\n",
       "comp usage \"obj: RequirementCheck\" as E16  <<(T,blue)requirement>> {\r\n",
       "}\r\n",
       "E3 - -:|> E2\r\n",
       "E9 -[thickness=5]- E7\r\n",
       "E15 - -:|> E11\r\n",
       "E14 *- - E15\r\n",
       "E15 - ->> E16 : <<objective>>\r\n",
       "}\r\n",
       "@enduml\r\n",
       "\n",
       "PlantUML version 1.2020.13(Sat Jun 13 12:26:38 UTC 2020)\n",
       "(EPL source distribution)\n",
       "Java Runtime: OpenJDK Runtime Environment\n",
       "JVM: OpenJDK 64-Bit Server VM\n",
       "Default Encoding: UTF-8\n",
       "Language: en\n",
       "Country: null\n",
       "--></g></svg>"
      ]
     },
     "execution_count": 22,
     "metadata": {},
     "output_type": "execute_result"
    }
   ],
   "source": [
    "%viz --style=\"LR\" --view=\"MIXED\" \"VerificationTest\""
   ]
  },
  {
   "cell_type": "code",
   "execution_count": 23,
   "id": "characteristic-tourist",
   "metadata": {
    "execution": {
     "iopub.execute_input": "2021-03-25T15:57:39.370965Z",
     "iopub.status.busy": "2021-03-25T15:57:39.369893Z",
     "iopub.status.idle": "2021-03-25T15:57:40.428246Z",
     "shell.execute_reply": "2021-03-25T15:57:40.425838Z"
    }
   },
   "outputs": [
    {
     "data": {
      "image/svg+xml": [
       "<?xml version=\"1.0\" encoding=\"UTF-8\" standalone=\"no\"?><svg xmlns=\"http://www.w3.org/2000/svg\" xmlns:xlink=\"http://www.w3.org/1999/xlink\" contentScriptType=\"application/ecmascript\" contentStyleType=\"text/css\" height=\"550px\" preserveAspectRatio=\"none\" style=\"width:793px;height:550px;\" version=\"1.1\" viewBox=\"0 0 793 550\" width=\"793px\" zoomAndPan=\"magnify\"><defs><filter height=\"300%\" id=\"f1cb1wotyalse2\" width=\"300%\" x=\"-1\" y=\"-1\"><feGaussianBlur result=\"blurOut\" stdDeviation=\"2.0\"/><feColorMatrix in=\"blurOut\" result=\"blurOut2\" type=\"matrix\" values=\"0 0 0 0 0 0 0 0 0 0 0 0 0 0 0 0 0 0 .4 0\"/><feOffset dx=\"4.0\" dy=\"4.0\" in=\"blurOut2\" result=\"blurOut3\"/><feBlend in=\"SourceGraphic\" in2=\"blurOut3\" mode=\"normal\"/></filter></defs><g><!--MD5=[fbc87193dbaf4d95561dea2c320d4a47]\n",
       "cluster E1--><polygon fill=\"#FFFFFF\" filter=\"url(#f1cb1wotyalse2)\" points=\"16,6,147,6,154,28.2969,771,28.2969,771,538,16,538,16,6\" style=\"stroke: #000000; stroke-width: 1.5;\"/><line style=\"stroke: #000000; stroke-width: 1.5;\" x1=\"16\" x2=\"154\" y1=\"28.2969\" y2=\"28.2969\"/><text fill=\"#000000\" font-family=\"sans-serif\" font-size=\"14\" font-weight=\"bold\" lengthAdjust=\"spacingAndGlyphs\" textLength=\"125\" x=\"20\" y=\"20.9951\">VerificationTest</text><!--MD5=[de5ec2e2e8f62f467e546659f5068c88]\n",
       "cluster E5--><rect fill=\"#FFFFFF\" filter=\"url(#f1cb1wotyalse2)\" height=\"329.5\" style=\"stroke: #000000; stroke-width: 1.5;\" width=\"200\" x=\"544\" y=\"74.5\"/><text fill=\"#000000\" font-family=\"sans-serif\" font-size=\"14\" font-weight=\"bold\" lengthAdjust=\"spacingAndGlyphs\" textLength=\"129\" x=\"579.5\" y=\"89.4951\">VerificationCase</text><!--MD5=[917b9dd0c7eca3ee5f47219d1a84c0ad]\n",
       "cluster E11--><rect fill=\"#FFFFFF\" filter=\"url(#f1cb1wotyalse2)\" height=\"307\" style=\"stroke: #000000; stroke-width: 1.5;\" width=\"188\" x=\"254\" y=\"207\"/><text fill=\"#000000\" font-family=\"sans-serif\" font-size=\"14\" font-weight=\"bold\" lengthAdjust=\"spacingAndGlyphs\" textLength=\"123\" x=\"286.5\" y=\"221.9951\">VerificationPlan</text><!--MD5=[b4997ac47864f28c2f74865a473b2911]\n",
       "class E2--><rect fill=\"#FEFECE\" filter=\"url(#f1cb1wotyalse2)\" height=\"58.7422\" id=\"E2\" style=\"stroke: #A80036; stroke-width: 1.5;\" width=\"71\" x=\"458.5\" y=\"177.5\"/><text fill=\"#000000\" font-family=\"sans-serif\" font-size=\"12\" font-style=\"italic\" lengthAdjust=\"spacingAndGlyphs\" textLength=\"64\" x=\"462\" y=\"193.6387\">«part def»</text><text fill=\"#000000\" font-family=\"sans-serif\" font-size=\"12\" lengthAdjust=\"spacingAndGlyphs\" textLength=\"8\" x=\"490\" y=\"207.6074\">V</text><line style=\"stroke: #A80036; stroke-width: 1.5;\" x1=\"459.5\" x2=\"528.5\" y1=\"215.4375\" y2=\"215.4375\"/><text fill=\"#000000\" font-family=\"sans-serif\" font-size=\"11\" lengthAdjust=\"spacingAndGlyphs\" textLength=\"59\" x=\"464.5\" y=\"229.6479\">m: Integer</text><!--MD5=[09b614a08d8cba4a07c9adeb5e0fee81]\n",
       "class E3--><rect fill=\"#FEFECE\" filter=\"url(#f1cb1wotyalse2)\" height=\"45.9375\" id=\"E3\" rx=\"10\" ry=\"10\" style=\"stroke: #A80036; stroke-width: 1.5;\" width=\"42\" x=\"473\" y=\"51.5\"/><text fill=\"#000000\" font-family=\"sans-serif\" font-size=\"12\" font-style=\"italic\" lengthAdjust=\"spacingAndGlyphs\" textLength=\"40\" x=\"474\" y=\"67.6387\">«part»</text><text fill=\"#000000\" font-family=\"sans-serif\" font-size=\"12\" lengthAdjust=\"spacingAndGlyphs\" textLength=\"28\" x=\"480\" y=\"81.6074\">vv: V</text><line style=\"stroke: #A80036; stroke-width: 1.5;\" x1=\"474\" x2=\"514\" y1=\"89.4375\" y2=\"89.4375\"/><!--MD5=[ebbe1d658d1005bcc118a6aa81145e00]\n",
       "class E4--><rect fill=\"#FEFECE\" filter=\"url(#f1cb1wotyalse2)\" height=\"66.7422\" id=\"E4\" style=\"stroke: #A80036; stroke-width: 1.5;\" width=\"133\" x=\"276.5\" y=\"41\"/><text fill=\"#000000\" font-family=\"sans-serif\" font-size=\"12\" font-style=\"italic\" lengthAdjust=\"spacingAndGlyphs\" textLength=\"115\" x=\"285.5\" y=\"57.1387\">«requirement def»</text><text fill=\"#000000\" font-family=\"sans-serif\" font-size=\"12\" lengthAdjust=\"spacingAndGlyphs\" textLength=\"127\" x=\"279.5\" y=\"71.1074\">VerificationObjective</text><line style=\"stroke: #A80036; stroke-width: 1.5;\" x1=\"277.5\" x2=\"408.5\" y1=\"78.9375\" y2=\"78.9375\"/><text fill=\"#000000\" font-family=\"sans-serif\" font-size=\"11\" lengthAdjust=\"spacingAndGlyphs\" textLength=\"12\" x=\"282.5\" y=\"93.1479\">...</text><line style=\"stroke: #A80036; stroke-width: 1.0;\" x1=\"277.5\" x2=\"408.5\" y1=\"99.7422\" y2=\"99.7422\"/><!--MD5=[bee11217b2f71d958a27249dc326068c]\n",
       "class E14--><rect fill=\"#FEFECE\" filter=\"url(#f1cb1wotyalse2)\" height=\"45.9375\" id=\"E14\" rx=\"10\" ry=\"10\" style=\"stroke: #A80036; stroke-width: 1.5;\" width=\"156\" x=\"57\" y=\"51.5\"/><text fill=\"#000000\" font-family=\"sans-serif\" font-size=\"12\" font-style=\"italic\" lengthAdjust=\"spacingAndGlyphs\" textLength=\"40\" x=\"115\" y=\"67.6387\">«part»</text><text fill=\"#000000\" font-family=\"sans-serif\" font-size=\"12\" lengthAdjust=\"spacingAndGlyphs\" textLength=\"150\" x=\"60\" y=\"81.6074\">verificationContext: Part</text><line style=\"stroke: #A80036; stroke-width: 1.5;\" x1=\"58\" x2=\"212\" y1=\"89.4375\" y2=\"89.4375\"/><!--MD5=[0c48fb7552dae8cbbef69381101a84c8]\n",
       "class E15--><rect fill=\"#FEFECE\" filter=\"url(#f1cb1wotyalse2)\" height=\"75.5469\" id=\"E15\" rx=\"10\" ry=\"10\" style=\"stroke: #A80036; stroke-width: 1.5;\" width=\"206\" x=\"32\" y=\"169\"/><text fill=\"#000000\" font-family=\"sans-serif\" font-size=\"12\" font-style=\"italic\" lengthAdjust=\"spacingAndGlyphs\" textLength=\"113\" x=\"78.5\" y=\"185.1387\">«verificationCase»</text><text fill=\"#000000\" font-family=\"sans-serif\" font-size=\"12\" lengthAdjust=\"spacingAndGlyphs\" textLength=\"200\" x=\"35\" y=\"199.1074\">verificationPlan: VerificationPlan</text><line style=\"stroke: #A80036; stroke-width: 1.5;\" x1=\"33\" x2=\"237\" y1=\"206.9375\" y2=\"206.9375\"/><line style=\"stroke: #000000; stroke-width: 1.0;\" x1=\"38\" x2=\"38\" y1=\"229.7422\" y2=\"238.7422\"/><polygon fill=\"#FFFF44\" points=\"41,230.7422,48,234.7422,41,238.7422\" style=\"stroke: #000000; stroke-width: 1.0;\"/><text fill=\"#000000\" font-family=\"sans-serif\" font-size=\"11\" lengthAdjust=\"spacingAndGlyphs\" textLength=\"50\" x=\"52\" y=\"237.9526\">v: V= vv;</text><text fill=\"#000000\" font-family=\"sans-serif\" font-size=\"11\" lengthAdjust=\"spacingAndGlyphs\" text-decoration=\"line-through\" textLength=\"101\" x=\"110\" y=\"237.9526\">VerificationPlan::v</text><line style=\"stroke: #A80036; stroke-width: 1.0;\" x1=\"33\" x2=\"104\" y1=\"221.3398\" y2=\"221.3398\"/><text fill=\"#000000\" font-family=\"sans-serif\" font-size=\"11\" lengthAdjust=\"spacingAndGlyphs\" textLength=\"62\" x=\"104\" y=\"224.6479\">references</text><line style=\"stroke: #A80036; stroke-width: 1.0;\" x1=\"166\" x2=\"237\" y1=\"221.3398\" y2=\"221.3398\"/><!--MD5=[35f0587eaee8d5bb9a02e25b63afc23b]\n",
       "class E16--><rect fill=\"#FEFECE\" filter=\"url(#f1cb1wotyalse2)\" height=\"45.9375\" id=\"E16\" rx=\"10\" ry=\"10\" style=\"stroke: #A80036; stroke-width: 1.5;\" width=\"151\" x=\"59.5\" y=\"322\"/><text fill=\"#000000\" font-family=\"sans-serif\" font-size=\"12\" font-style=\"italic\" lengthAdjust=\"spacingAndGlyphs\" textLength=\"91\" x=\"89.5\" y=\"338.1387\">«requirement»</text><text fill=\"#000000\" font-family=\"sans-serif\" font-size=\"12\" lengthAdjust=\"spacingAndGlyphs\" textLength=\"145\" x=\"62.5\" y=\"352.1074\">obj: RequirementCheck</text><line style=\"stroke: #A80036; stroke-width: 1.5;\" x1=\"60.5\" x2=\"209.5\" y1=\"359.9375\" y2=\"359.9375\"/><text fill=\"#000000\" font-family=\"sans-serif\" font-size=\"14\" lengthAdjust=\"spacingAndGlyphs\" textLength=\"7\" x=\"558.5\" y=\"53.1982\">v</text><rect fill=\"#A80036\" height=\"12\" style=\"stroke: #FEFECE; stroke-width: 1.5;\" width=\"12\" x=\"556\" y=\"68.5\"/><text fill=\"#000000\" font-family=\"sans-serif\" font-size=\"14\" lengthAdjust=\"spacingAndGlyphs\" textLength=\"48\" x=\"549\" y=\"422.9951\">$result</text><rect fill=\"#A80036\" height=\"12\" style=\"stroke: #FEFECE; stroke-width: 1.5;\" width=\"12\" x=\"567\" y=\"398\"/><text fill=\"#000000\" font-family=\"sans-serif\" font-size=\"14\" lengthAdjust=\"spacingAndGlyphs\" textLength=\"16\" x=\"636\" y=\"53.1982\">$x</text><rect fill=\"#A80036\" height=\"12\" style=\"stroke: #FEFECE; stroke-width: 1.5;\" width=\"12\" x=\"638\" y=\"68.5\"/><text fill=\"#000000\" font-family=\"sans-serif\" font-size=\"14\" lengthAdjust=\"spacingAndGlyphs\" textLength=\"16\" x=\"718\" y=\"53.1982\">$y</text><rect fill=\"#A80036\" height=\"12\" style=\"stroke: #FEFECE; stroke-width: 1.5;\" width=\"12\" x=\"720\" y=\"68.5\"/><text fill=\"#000000\" font-family=\"sans-serif\" font-size=\"14\" lengthAdjust=\"spacingAndGlyphs\" textLength=\"48\" x=\"631\" y=\"422.9951\">$result</text><rect fill=\"#A80036\" height=\"12\" style=\"stroke: #FEFECE; stroke-width: 1.5;\" width=\"12\" x=\"649\" y=\"398\"/><text fill=\"#000000\" font-family=\"sans-serif\" font-size=\"14\" lengthAdjust=\"spacingAndGlyphs\" textLength=\"7\" x=\"344.5\" y=\"185.6982\">v</text><rect fill=\"#A80036\" height=\"12\" style=\"stroke: #FEFECE; stroke-width: 1.5;\" width=\"12\" x=\"342\" y=\"201\"/><g id=\"E1.E11.E13\"><rect fill=\"#FFFFFF\" filter=\"url(#f1cb1wotyalse2)\" height=\"50\" rx=\"12.5\" ry=\"12.5\" style=\"stroke: #A80036; stroke-width: 1.5;\" width=\"128\" x=\"284\" y=\"440\"/><line style=\"stroke: #A80036; stroke-width: 1.5;\" x1=\"284\" x2=\"412\" y1=\"466.2969\" y2=\"466.2969\"/><text fill=\"#000000\" font-family=\"sans-serif\" font-size=\"14\" lengthAdjust=\"spacingAndGlyphs\" textLength=\"108\" x=\"294\" y=\"457.9951\">verificationCase</text></g><!--MD5=[05d275557350bfb9b23a4ef7222b4c39]\n",
       "link E3 to E2--><path d=\"M494,97.64 C494,113.94 494,136.73 494,157.21 \" fill=\"none\" id=\"E3-&gt;E2\" style=\"stroke: #A80036; stroke-width: 1.0;\"/><polygon fill=\"#FFFFFF\" points=\"494,177.35,487,158.35,501,158.35,494,177.35\" style=\"stroke: #A80036; stroke-width: 1.0;\"/><ellipse cx=\"489\" cy=\"152.65\" fill=\"#A80036\" rx=\"2\" ry=\"2\" style=\"stroke: #A80036; stroke-width: 1.0;\"/><ellipse cx=\"499\" cy=\"152.65\" fill=\"#A80036\" rx=\"2\" ry=\"2\" style=\"stroke: #A80036; stroke-width: 1.0;\"/><!--MD5=[cf04703ca05eebef50f1cfe8b03e143b]\n",
       "link E9 to E7--><path d=\"M727.59,80.61 C735.04,105.53 764.59,216.33 726,292 C693.2,356.32 603.78,392.07 579.28,400.85 \" fill=\"none\" id=\"E9-E7\" style=\"stroke: #FF0000; stroke-width: 5.0;\"/><!--MD5=[58d440dfd4c930e286431b4800d1b487]\n",
       "link E15 to E11--><path d=\"M193.2,245.16 C205.2725,252.8675 218.395,261.2456 231.7231,269.7553 C238.3872,274.0102 245.1027,278.2979 251.764,282.5511 C252.1803,282.817 252.5964,283.0827 253.0123,283.3482 C253.2203,283.481 253.4281,283.6137 253.636,283.7464 \" fill=\"none\" id=\"E15-&gt;E11\" style=\"stroke: #A80036; stroke-width: 1.0;\"/><polygon fill=\"#FFFFFF\" points=\"253.636,283.7464,233.8548,279.4213,241.389,267.6215,253.636,283.7464\" style=\"stroke: #A80036; stroke-width: 1.0;\"/><ellipse cx=\"230.1269\" cy=\"274.6682\" fill=\"#A80036\" rx=\"2\" ry=\"2\" style=\"stroke: #A80036; stroke-width: 1.0;\"/><ellipse cx=\"235.5085\" cy=\"266.2397\" fill=\"#A80036\" rx=\"2\" ry=\"2\" style=\"stroke: #A80036; stroke-width: 1.0;\"/><!--MD5=[17bf29720e4688890742b92d9a67fdf0]\n",
       "reverse link E14 to E15--><path d=\"M135,110.8 C135,128.79 135,150.66 135,168.9 \" fill=\"none\" id=\"E14&lt;-E15\" style=\"stroke: #A80036; stroke-width: 1.0;\"/><polygon fill=\"#A80036\" points=\"135,97.64,131,103.64,135,109.64,139,103.64,135,97.64\" style=\"stroke: #A80036; stroke-width: 1.0;\"/><!--MD5=[f8b155c46b092be73bb522b0a8fc72a2]\n",
       "link E15 to E16--><path d=\"M135,245.16 C135,266.63 135,293.31 135,313.53 \" fill=\"none\" id=\"E15-&gt;E16\" style=\"stroke: #A80036; stroke-width: 1.0;\"/><polygon fill=\"#A80036\" points=\"135,321.77,138,313.77,132,313.77,135,321.77\" style=\"stroke: #A80036; stroke-width: 1.0;\"/><text fill=\"#000000\" font-family=\"sans-serif\" font-size=\"13\" lengthAdjust=\"spacingAndGlyphs\" textLength=\"73\" x=\"136\" y=\"288.0669\">«objective»</text><!--MD5=[85e642a472cea03815a4e993bdc819fb]\n",
       "@startuml\r\n",
       "skinparam wrapWidth 300\r\n",
       "hide circle\r\n",
       "\r\n",
       "package \"VerificationTest\" as E1   {\r\n",
       "comp def \"V\" as E2  <<(T,blue)part def>> {\r\n",
       "m: Integer\r\n",
       "}\r\n",
       "comp usage \"vv: V\" as E3  <<(T,blue)part>> {\r\n",
       "}\r\n",
       "comp def \"VerificationObjective\" as E4  <<(T,blue)requirement def>> {\r\n",
       "...\r\n",
       "- -\r\n",
       "}\r\n",
       "rec def \"VerificationCase\" as E5 {\r\n",
       "portin \"v\" as E6  \r\n",
       "portout \"$result\" as E7  \r\n",
       "portin \"$x\" as E8  \r\n",
       "portin \"$y\" as E9  \r\n",
       "portout \"$result\" as E10  \r\n",
       "}\r\n",
       "\r\n",
       "rec def \"VerificationPlan\" as E11 {\r\n",
       "portin \"v\" as E12  \r\n",
       "rec usage \"verificationCase\" as E13 {\r\n",
       "}\r\n",
       "\r\n",
       "}\r\n",
       "\r\n",
       "comp usage \"verificationContext: Part\" as E14  <<(T,blue)part>> {\r\n",
       "}\r\n",
       "comp usage \"verificationPlan: VerificationPlan\" as E15  <<(T,blue)verificationCase>> {\r\n",
       "- -references- -\r\n",
       ">v: V= vv;  <s>VerificationPlan::v</s>\r\n",
       "}\r\n",
       "comp usage \"obj: RequirementCheck\" as E16  <<(T,blue)requirement>> {\r\n",
       "}\r\n",
       "E3 - -:|> E2\r\n",
       "E9 -[thickness=5,#red]- E7\r\n",
       "E15 - -:|> E11\r\n",
       "E14 *- - E15\r\n",
       "E15 - ->> E16 : <<objective>>\r\n",
       "}\r\n",
       "@enduml\r\n",
       "\n",
       "PlantUML version 1.2020.13(Sat Jun 13 12:26:38 UTC 2020)\n",
       "(EPL source distribution)\n",
       "Java Runtime: OpenJDK Runtime Environment\n",
       "JVM: OpenJDK 64-Bit Server VM\n",
       "Default Encoding: UTF-8\n",
       "Language: en\n",
       "Country: null\n",
       "--></g></svg>"
      ]
     },
     "execution_count": 23,
     "metadata": {},
     "output_type": "execute_result"
    }
   ],
   "source": [
    "%viz --style=\"STDCOLOR\" --view=\"Default\" \"VerificationTest\""
   ]
  },
  {
   "cell_type": "code",
   "execution_count": 24,
   "id": "generous-influence",
   "metadata": {
    "execution": {
     "iopub.execute_input": "2021-03-25T15:57:40.478847Z",
     "iopub.status.busy": "2021-03-25T15:57:40.477981Z",
     "iopub.status.idle": "2021-03-25T15:57:42.890787Z",
     "shell.execute_reply": "2021-03-25T15:57:42.887227Z"
    }
   },
   "outputs": [
    {
     "data": {
      "image/svg+xml": [
       "<?xml version=\"1.0\" encoding=\"UTF-8\" standalone=\"no\"?><svg xmlns=\"http://www.w3.org/2000/svg\" xmlns:xlink=\"http://www.w3.org/1999/xlink\" contentScriptType=\"application/ecmascript\" contentStyleType=\"text/css\" height=\"923px\" preserveAspectRatio=\"none\" style=\"width:519px;height:923px;\" version=\"1.1\" viewBox=\"0 0 519 923\" width=\"519px\" zoomAndPan=\"magnify\"><defs><filter height=\"300%\" id=\"fvjqcrw5hb4k2\" width=\"300%\" x=\"-1\" y=\"-1\"><feGaussianBlur result=\"blurOut\" stdDeviation=\"2.0\"/><feColorMatrix in=\"blurOut\" result=\"blurOut2\" type=\"matrix\" values=\"0 0 0 0 0 0 0 0 0 0 0 0 0 0 0 0 0 0 .4 0\"/><feOffset dx=\"4.0\" dy=\"4.0\" in=\"blurOut2\" result=\"blurOut3\"/><feBlend in=\"SourceGraphic\" in2=\"blurOut3\" mode=\"normal\"/></filter></defs><g><!--MD5=[fbc87193dbaf4d95561dea2c320d4a47]\n",
       "cluster E1--><polygon fill=\"#FFFFFF\" filter=\"url(#fvjqcrw5hb4k2)\" points=\"16,6,147,6,154,28.2969,497,28.2969,497,911,16,911,16,6\" style=\"stroke: #000000; stroke-width: 1.5;\"/><line style=\"stroke: #000000; stroke-width: 1.5;\" x1=\"16\" x2=\"154\" y1=\"28.2969\" y2=\"28.2969\"/><text fill=\"#000000\" font-family=\"sans-serif\" font-size=\"14\" font-weight=\"bold\" lengthAdjust=\"spacingAndGlyphs\" textLength=\"125\" x=\"20\" y=\"20.9951\">VerificationTest</text><!--MD5=[b4997ac47864f28c2f74865a473b2911]\n",
       "class E2--><rect fill=\"#FEFECE\" filter=\"url(#fvjqcrw5hb4k2)\" height=\"58.7422\" id=\"E2\" style=\"stroke: #A80036; stroke-width: 1.5;\" width=\"71\" x=\"90.5\" y=\"699.5\"/><text fill=\"#000000\" font-family=\"sans-serif\" font-size=\"12\" font-style=\"italic\" lengthAdjust=\"spacingAndGlyphs\" textLength=\"64\" x=\"94\" y=\"715.6387\">«part def»</text><text fill=\"#000000\" font-family=\"sans-serif\" font-size=\"12\" lengthAdjust=\"spacingAndGlyphs\" textLength=\"8\" x=\"122\" y=\"729.6074\">V</text><line style=\"stroke: #A80036; stroke-width: 1.5;\" x1=\"91.5\" x2=\"160.5\" y1=\"737.4375\" y2=\"737.4375\"/><text fill=\"#000000\" font-family=\"sans-serif\" font-size=\"11\" lengthAdjust=\"spacingAndGlyphs\" textLength=\"59\" x=\"96.5\" y=\"751.6479\">m: Integer</text><!--MD5=[09b614a08d8cba4a07c9adeb5e0fee81]\n",
       "class E3--><rect fill=\"#FEFECE\" filter=\"url(#fvjqcrw5hb4k2)\" height=\"45.9375\" id=\"E3\" rx=\"10\" ry=\"10\" style=\"stroke: #A80036; stroke-width: 1.5;\" width=\"42\" x=\"264\" y=\"568\"/><text fill=\"#000000\" font-family=\"sans-serif\" font-size=\"12\" font-style=\"italic\" lengthAdjust=\"spacingAndGlyphs\" textLength=\"40\" x=\"265\" y=\"584.1387\">«part»</text><text fill=\"#000000\" font-family=\"sans-serif\" font-size=\"12\" lengthAdjust=\"spacingAndGlyphs\" textLength=\"28\" x=\"271\" y=\"598.1074\">vv: V</text><line style=\"stroke: #A80036; stroke-width: 1.5;\" x1=\"265\" x2=\"305\" y1=\"605.9375\" y2=\"605.9375\"/><!--MD5=[ebbe1d658d1005bcc118a6aa81145e00]\n",
       "class E4--><rect fill=\"#FEFECE\" filter=\"url(#fvjqcrw5hb4k2)\" height=\"66.7422\" id=\"E4\" style=\"stroke: #A80036; stroke-width: 1.5;\" width=\"133\" x=\"272.5\" y=\"828\"/><text fill=\"#000000\" font-family=\"sans-serif\" font-size=\"12\" font-style=\"italic\" lengthAdjust=\"spacingAndGlyphs\" textLength=\"115\" x=\"281.5\" y=\"844.1387\">«requirement def»</text><text fill=\"#000000\" font-family=\"sans-serif\" font-size=\"12\" lengthAdjust=\"spacingAndGlyphs\" textLength=\"127\" x=\"275.5\" y=\"858.1074\">VerificationObjective</text><line style=\"stroke: #A80036; stroke-width: 1.5;\" x1=\"273.5\" x2=\"404.5\" y1=\"865.9375\" y2=\"865.9375\"/><text fill=\"#000000\" font-family=\"sans-serif\" font-size=\"11\" lengthAdjust=\"spacingAndGlyphs\" textLength=\"12\" x=\"278.5\" y=\"880.1479\">...</text><line style=\"stroke: #A80036; stroke-width: 1.0;\" x1=\"273.5\" x2=\"404.5\" y1=\"886.7422\" y2=\"886.7422\"/><!--MD5=[270fce915f116d4de14055a7c1d9a0f3]\n",
       "class E5--><rect fill=\"#FEFECE\" filter=\"url(#fvjqcrw5hb4k2)\" height=\"45.9375\" id=\"E5\" style=\"stroke: #A80036; stroke-width: 1.5;\" width=\"139\" x=\"341.5\" y=\"568\"/><text fill=\"#000000\" font-family=\"sans-serif\" font-size=\"12\" font-style=\"italic\" lengthAdjust=\"spacingAndGlyphs\" textLength=\"137\" x=\"342.5\" y=\"584.1387\">«verificationCase def»</text><text fill=\"#000000\" font-family=\"sans-serif\" font-size=\"12\" lengthAdjust=\"spacingAndGlyphs\" textLength=\"101\" x=\"360.5\" y=\"598.1074\">VerificationCase</text><line style=\"stroke: #A80036; stroke-width: 1.5;\" x1=\"342.5\" x2=\"479.5\" y1=\"605.9375\" y2=\"605.9375\"/><!--MD5=[60a26617385b1d2d0262a64233df1f8d]\n",
       "class E6--><rect fill=\"#FEFECE\" filter=\"url(#fvjqcrw5hb4k2)\" height=\"75.5469\" id=\"E6\" rx=\"10\" ry=\"10\" style=\"stroke: #A80036; stroke-width: 1.5;\" width=\"284\" x=\"197\" y=\"691\"/><text fill=\"#000000\" font-family=\"sans-serif\" font-size=\"12\" font-style=\"italic\" lengthAdjust=\"spacingAndGlyphs\" textLength=\"91\" x=\"293.5\" y=\"707.1387\">«requirement»</text><text fill=\"#000000\" font-family=\"sans-serif\" font-size=\"12\" lengthAdjust=\"spacingAndGlyphs\" textLength=\"154\" x=\"262\" y=\"721.1074\">obj: VerificationObjective</text><line style=\"stroke: #A80036; stroke-width: 1.5;\" x1=\"198\" x2=\"480\" y1=\"728.9375\" y2=\"728.9375\"/><line style=\"stroke: #000000; stroke-width: 1.0;\" x1=\"203\" x2=\"203\" y1=\"751.7422\" y2=\"760.7422\"/><polygon fill=\"#FFFF44\" points=\"206,752.7422,213,756.7422,206,760.7422\" style=\"stroke: #000000; stroke-width: 1.0;\"/><text fill=\"#000000\" font-family=\"sans-serif\" font-size=\"11\" lengthAdjust=\"spacingAndGlyphs\" textLength=\"103\" x=\"217\" y=\"759.9526\">subj: Anything= v;</text><text fill=\"#000000\" font-family=\"sans-serif\" font-size=\"11\" lengthAdjust=\"spacingAndGlyphs\" text-decoration=\"line-through\" textLength=\"147\" x=\"328\" y=\"759.9526\">VerificationObjective::subj</text><line style=\"stroke: #A80036; stroke-width: 1.0;\" x1=\"198\" x2=\"308\" y1=\"743.3398\" y2=\"743.3398\"/><text fill=\"#000000\" font-family=\"sans-serif\" font-size=\"11\" lengthAdjust=\"spacingAndGlyphs\" textLength=\"62\" x=\"308\" y=\"746.6479\">references</text><line style=\"stroke: #A80036; stroke-width: 1.0;\" x1=\"370\" x2=\"480\" y1=\"743.3398\" y2=\"743.3398\"/><!--MD5=[2156ba9850f5573cc1fc38a6a4b2f02b]\n",
       "class E7--><rect fill=\"#FEFECE\" filter=\"url(#fvjqcrw5hb4k2)\" height=\"45.9375\" id=\"E7\" style=\"stroke: #A80036; stroke-width: 1.5;\" width=\"139\" x=\"86.5\" y=\"301\"/><text fill=\"#000000\" font-family=\"sans-serif\" font-size=\"12\" font-style=\"italic\" lengthAdjust=\"spacingAndGlyphs\" textLength=\"137\" x=\"87.5\" y=\"317.1387\">«verificationCase def»</text><text fill=\"#000000\" font-family=\"sans-serif\" font-size=\"12\" lengthAdjust=\"spacingAndGlyphs\" textLength=\"97\" x=\"107.5\" y=\"331.1074\">VerificationPlan</text><line style=\"stroke: #A80036; stroke-width: 1.5;\" x1=\"87.5\" x2=\"224.5\" y1=\"338.9375\" y2=\"338.9375\"/><!--MD5=[b9389687b975829384b498ac4b7476b2]\n",
       "class E8--><rect fill=\"#FEFECE\" filter=\"url(#fvjqcrw5hb4k2)\" height=\"66.7422\" id=\"E8\" rx=\"10\" ry=\"10\" style=\"stroke: #A80036; stroke-width: 1.5;\" width=\"151\" x=\"80.5\" y=\"424\"/><text fill=\"#000000\" font-family=\"sans-serif\" font-size=\"12\" font-style=\"italic\" lengthAdjust=\"spacingAndGlyphs\" textLength=\"91\" x=\"110.5\" y=\"440.1387\">«requirement»</text><text fill=\"#000000\" font-family=\"sans-serif\" font-size=\"12\" lengthAdjust=\"spacingAndGlyphs\" textLength=\"145\" x=\"83.5\" y=\"454.1074\">obj: RequirementCheck</text><line style=\"stroke: #A80036; stroke-width: 1.5;\" x1=\"81.5\" x2=\"230.5\" y1=\"461.9375\" y2=\"461.9375\"/><text fill=\"#000000\" font-family=\"sans-serif\" font-size=\"11\" lengthAdjust=\"spacingAndGlyphs\" textLength=\"12\" x=\"86.5\" y=\"476.1479\">...</text><line style=\"stroke: #A80036; stroke-width: 1.0;\" x1=\"81.5\" x2=\"230.5\" y1=\"482.7422\" y2=\"482.7422\"/><!--MD5=[fd4143e9d270a159db93a4ea2a975926]\n",
       "class E9--><rect fill=\"#FEFECE\" filter=\"url(#fvjqcrw5hb4k2)\" height=\"45.9375\" id=\"E9\" rx=\"10\" ry=\"10\" style=\"stroke: #A80036; stroke-width: 1.5;\" width=\"214\" x=\"267\" y=\"434.5\"/><text fill=\"#000000\" font-family=\"sans-serif\" font-size=\"12\" font-style=\"italic\" lengthAdjust=\"spacingAndGlyphs\" textLength=\"113\" x=\"317.5\" y=\"450.6387\">«verificationCase»</text><text fill=\"#000000\" font-family=\"sans-serif\" font-size=\"12\" lengthAdjust=\"spacingAndGlyphs\" textLength=\"208\" x=\"270\" y=\"464.6074\">verificationCase: VerificationCase</text><line style=\"stroke: #A80036; stroke-width: 1.5;\" x1=\"268\" x2=\"480\" y1=\"472.4375\" y2=\"472.4375\"/><!--MD5=[96f4274e9e20536e775497830990834d]\n",
       "class E10--><rect fill=\"#FEFECE\" filter=\"url(#fvjqcrw5hb4k2)\" height=\"45.9375\" id=\"E10\" rx=\"10\" ry=\"10\" style=\"stroke: #A80036; stroke-width: 1.5;\" width=\"160\" x=\"69\" y=\"568\"/><text fill=\"#000000\" font-family=\"sans-serif\" font-size=\"12\" font-style=\"italic\" lengthAdjust=\"spacingAndGlyphs\" textLength=\"91\" x=\"103.5\" y=\"584.1387\">«requirement»</text><text fill=\"#000000\" font-family=\"sans-serif\" font-size=\"12\" lengthAdjust=\"spacingAndGlyphs\" textLength=\"154\" x=\"72\" y=\"598.1074\">obj: VerificationObjective</text><line style=\"stroke: #A80036; stroke-width: 1.5;\" x1=\"70\" x2=\"228\" y1=\"605.9375\" y2=\"605.9375\"/><!--MD5=[1dd1bfd58a279cf63c5f349dbc8fc6a1]\n",
       "class E11--><rect fill=\"#FEFECE\" filter=\"url(#fvjqcrw5hb4k2)\" height=\"45.9375\" id=\"E11\" rx=\"10\" ry=\"10\" style=\"stroke: #A80036; stroke-width: 1.5;\" width=\"156\" x=\"168\" y=\"41\"/><text fill=\"#000000\" font-family=\"sans-serif\" font-size=\"12\" font-style=\"italic\" lengthAdjust=\"spacingAndGlyphs\" textLength=\"40\" x=\"226\" y=\"57.1387\">«part»</text><text fill=\"#000000\" font-family=\"sans-serif\" font-size=\"12\" lengthAdjust=\"spacingAndGlyphs\" textLength=\"150\" x=\"171\" y=\"71.1074\">verificationContext: Part</text><line style=\"stroke: #A80036; stroke-width: 1.5;\" x1=\"169\" x2=\"323\" y1=\"78.9375\" y2=\"78.9375\"/><!--MD5=[49a0ec8f00dab7302a31f22d0f0fe584]\n",
       "class E12--><rect fill=\"#FEFECE\" filter=\"url(#fvjqcrw5hb4k2)\" height=\"75.5469\" id=\"E12\" rx=\"10\" ry=\"10\" style=\"stroke: #A80036; stroke-width: 1.5;\" width=\"206\" x=\"143\" y=\"148\"/><text fill=\"#000000\" font-family=\"sans-serif\" font-size=\"12\" font-style=\"italic\" lengthAdjust=\"spacingAndGlyphs\" textLength=\"113\" x=\"189.5\" y=\"164.1387\">«verificationCase»</text><text fill=\"#000000\" font-family=\"sans-serif\" font-size=\"12\" lengthAdjust=\"spacingAndGlyphs\" textLength=\"200\" x=\"146\" y=\"178.1074\">verificationPlan: VerificationPlan</text><line style=\"stroke: #A80036; stroke-width: 1.5;\" x1=\"144\" x2=\"348\" y1=\"185.9375\" y2=\"185.9375\"/><line style=\"stroke: #000000; stroke-width: 1.0;\" x1=\"149\" x2=\"149\" y1=\"208.7422\" y2=\"217.7422\"/><polygon fill=\"#FFFF44\" points=\"152,209.7422,159,213.7422,152,217.7422\" style=\"stroke: #000000; stroke-width: 1.0;\"/><text fill=\"#000000\" font-family=\"sans-serif\" font-size=\"11\" lengthAdjust=\"spacingAndGlyphs\" textLength=\"50\" x=\"163\" y=\"216.9526\">v: V= vv;</text><text fill=\"#000000\" font-family=\"sans-serif\" font-size=\"11\" lengthAdjust=\"spacingAndGlyphs\" text-decoration=\"line-through\" textLength=\"101\" x=\"221\" y=\"216.9526\">VerificationPlan::v</text><line style=\"stroke: #A80036; stroke-width: 1.0;\" x1=\"144\" x2=\"215\" y1=\"200.3398\" y2=\"200.3398\"/><text fill=\"#000000\" font-family=\"sans-serif\" font-size=\"11\" lengthAdjust=\"spacingAndGlyphs\" textLength=\"62\" x=\"215\" y=\"203.6479\">references</text><line style=\"stroke: #A80036; stroke-width: 1.0;\" x1=\"277\" x2=\"348\" y1=\"200.3398\" y2=\"200.3398\"/><!--MD5=[ee3c913d1a06f366521f9ef512b67efe]\n",
       "class E13--><rect fill=\"#FEFECE\" filter=\"url(#fvjqcrw5hb4k2)\" height=\"45.9375\" id=\"E13\" rx=\"10\" ry=\"10\" style=\"stroke: #A80036; stroke-width: 1.5;\" width=\"151\" x=\"260.5\" y=\"301\"/><text fill=\"#000000\" font-family=\"sans-serif\" font-size=\"12\" font-style=\"italic\" lengthAdjust=\"spacingAndGlyphs\" textLength=\"91\" x=\"290.5\" y=\"317.1387\">«requirement»</text><text fill=\"#000000\" font-family=\"sans-serif\" font-size=\"12\" lengthAdjust=\"spacingAndGlyphs\" textLength=\"145\" x=\"263.5\" y=\"331.1074\">obj: RequirementCheck</text><line style=\"stroke: #A80036; stroke-width: 1.5;\" x1=\"261.5\" x2=\"410.5\" y1=\"338.9375\" y2=\"338.9375\"/><!--MD5=[05d275557350bfb9b23a4ef7222b4c39]\n",
       "link E3 to E2--><path d=\"M263.77,604.46 C258.32,607.61 252.46,610.96 247,614 C222.33,627.74 212.56,625.77 191,644 C177.83,655.14 165.61,669.34 155.4,682.9 \" fill=\"none\" id=\"E3-&gt;E2\" style=\"stroke: #A80036; stroke-width: 1.0;\"/><polygon fill=\"#FFFFFF\" points=\"143.63,699.43,148.9514,679.8933,160.3545,688.0155,143.63,699.43\" style=\"stroke: #A80036; stroke-width: 1.0;\"/><ellipse cx=\"153.8873\" cy=\"676.4109\" fill=\"#A80036\" rx=\"2\" ry=\"2\" style=\"stroke: #A80036; stroke-width: 1.0;\"/><ellipse cx=\"162.0324\" cy=\"682.2125\" fill=\"#A80036\" rx=\"2\" ry=\"2\" style=\"stroke: #A80036; stroke-width: 1.0;\"/><!--MD5=[15ebcb19ae302d9b601edb458606d402]\n",
       "link E5 to E2--><path d=\"M350.62,614.12 C303.1,632.42 235.82,660.3 180,691 C175.35,693.56 170.6,696.41 165.94,699.37 \" fill=\"none\" id=\"E5-&gt;E2\" style=\"stroke: #A80036; stroke-width: 1.0; stroke-dasharray: 7.0,7.0;\"/><polygon fill=\"#A80036\" points=\"161.69,702.12,171.42,700.5945,165.8894,699.4061,167.0778,693.8755,161.69,702.12\" style=\"stroke: #A80036; stroke-width: 1.0;\"/><text fill=\"#000000\" font-family=\"sans-serif\" font-size=\"13\" lengthAdjust=\"spacingAndGlyphs\" textLength=\"62\" x=\"274\" y=\"657.0669\">«subject»</text><!--MD5=[9120cf2e5df3bff93db8f754bbbc09b4]\n",
       "link E5 to E6--><path d=\"M399.27,614.15 C389.3,632.98 374.69,660.58 362.35,683.89 \" fill=\"none\" id=\"E5-&gt;E6\" style=\"stroke: #A80036; stroke-width: 1.0;\"/><polygon fill=\"#A80036\" points=\"358.6,690.97,364.9939,685.3028,359.691,682.4959,358.6,690.97\" style=\"stroke: #A80036; stroke-width: 1.0;\"/><text fill=\"#000000\" font-family=\"sans-serif\" font-size=\"13\" lengthAdjust=\"spacingAndGlyphs\" textLength=\"73\" x=\"382\" y=\"657.0669\">«objective»</text><!--MD5=[f667431f98296947986a1a7595a31603]\n",
       "link E6 to E4--><path d=\"M339,767.05 C339,779.61 339,793.89 339,807.45 \" fill=\"none\" id=\"E6-&gt;E4\" style=\"stroke: #A80036; stroke-width: 1.0;\"/><polygon fill=\"#FFFFFF\" points=\"339,827.81,332,808.81,346,808.81,339,827.81\" style=\"stroke: #A80036; stroke-width: 1.0;\"/><ellipse cx=\"334\" cy=\"803.11\" fill=\"#A80036\" rx=\"2\" ry=\"2\" style=\"stroke: #A80036; stroke-width: 1.0;\"/><ellipse cx=\"344\" cy=\"803.11\" fill=\"#A80036\" rx=\"2\" ry=\"2\" style=\"stroke: #A80036; stroke-width: 1.0;\"/><!--MD5=[583832df87f4419a098336a29a52fa00]\n",
       "link E7 to E2--><path d=\"M126.49,347.05 C104.8,365.11 76.79,392.71 63,424 C28.88,501.4 27.98,532.9 52,614 C60.96,644.24 80.74,673.99 97.59,695.51 \" fill=\"none\" id=\"E7-&gt;E2\" style=\"stroke: #A80036; stroke-width: 1.0; stroke-dasharray: 7.0,7.0;\"/><polygon fill=\"#A80036\" points=\"100.71,699.43,98.2367,689.8967,97.597,695.5173,91.9764,694.8776,100.71,699.43\" style=\"stroke: #A80036; stroke-width: 1.0;\"/><text fill=\"#000000\" font-family=\"sans-serif\" font-size=\"13\" lengthAdjust=\"spacingAndGlyphs\" textLength=\"62\" x=\"36\" y=\"534.0669\">«subject»</text><!--MD5=[79bc8f324ef4d02c541433f2e6e513c3]\n",
       "link E7 to E8--><path d=\"M156,347.01 C156,365.7 156,393.02 156,415.69 \" fill=\"none\" id=\"E7-&gt;E8\" style=\"stroke: #A80036; stroke-width: 1.0;\"/><polygon fill=\"#A80036\" points=\"156,423.81,159,415.81,153,415.81,156,423.81\" style=\"stroke: #A80036; stroke-width: 1.0;\"/><text fill=\"#000000\" font-family=\"sans-serif\" font-size=\"13\" lengthAdjust=\"spacingAndGlyphs\" textLength=\"73\" x=\"157\" y=\"390.0669\">«objective»</text><!--MD5=[bfc3ddf2e613be37104f658f09af896c]\n",
       "link E9 to E5--><path d=\"M380.19,480.51 C385.4,499 392.97,525.94 399.31,548.46 \" fill=\"none\" id=\"E9-&gt;E5\" style=\"stroke: #A80036; stroke-width: 1.0;\"/><polygon fill=\"#FFFFFF\" points=\"404.79,567.92,392.9087,551.5238,406.3861,547.7346,404.79,567.92\" style=\"stroke: #A80036; stroke-width: 1.0;\"/><ellipse cx=\"393.2913\" cy=\"545.4953\" fill=\"#A80036\" rx=\"2\" ry=\"2\" style=\"stroke: #A80036; stroke-width: 1.0;\"/><ellipse cx=\"402.918\" cy=\"542.7886\" fill=\"#A80036\" rx=\"2\" ry=\"2\" style=\"stroke: #A80036; stroke-width: 1.0;\"/><!--MD5=[e4a10ef82d0e328e31cac39a31e58dda]\n",
       "reverse link E7 to E9--><path d=\"M203.63,353.73 C243.86,378 300.64,412.25 337.39,434.42 \" fill=\"none\" id=\"E7&lt;-E9\" style=\"stroke: #A80036; stroke-width: 1.0;\"/><polygon fill=\"#A80036\" points=\"192.49,347.01,195.561,353.5345,202.7648,353.2091,199.6938,346.6847,192.49,347.01\" style=\"stroke: #A80036; stroke-width: 1.0;\"/><!--MD5=[35e5f1cbde42fa304a029880aa2bc7f2]\n",
       "link E9 to E10--><path d=\"M336.34,480.51 C297.08,503.46 235.56,539.41 193.82,563.81 \" fill=\"none\" id=\"E9-&gt;E10\" style=\"stroke: #A80036; stroke-width: 1.0;\"/><polygon fill=\"#A80036\" points=\"186.78,567.92,195.2026,566.4847,192.182,561.3005,186.78,567.92\" style=\"stroke: #A80036; stroke-width: 1.0;\"/><text fill=\"#000000\" font-family=\"sans-serif\" font-size=\"13\" lengthAdjust=\"spacingAndGlyphs\" textLength=\"73\" x=\"262\" y=\"534.0669\">«objective»</text><!--MD5=[ae660f5ecd7ddb04a8913625960940af]\n",
       "link E12 to E7--><path d=\"M221.41,224.16 C209.1,242.76 194.21,265.26 181.75,284.09 \" fill=\"none\" id=\"E12-&gt;E7\" style=\"stroke: #A80036; stroke-width: 1.0;\"/><polygon fill=\"#FFFFFF\" points=\"170.71,300.77,175.3586,281.0624,187.0334,288.7889,170.71,300.77\" style=\"stroke: #A80036; stroke-width: 1.0;\"/><ellipse cx=\"180.1723\" cy=\"277.4129\" fill=\"#A80036\" rx=\"2\" ry=\"2\" style=\"stroke: #A80036; stroke-width: 1.0;\"/><ellipse cx=\"188.5114\" cy=\"282.9318\" fill=\"#A80036\" rx=\"2\" ry=\"2\" style=\"stroke: #A80036; stroke-width: 1.0;\"/><!--MD5=[94adabc162ce7e41b39f13be14fbaeb3]\n",
       "reverse link E11 to E12--><path d=\"M246,100.35 C246,115.21 246,132.5 246,147.57 \" fill=\"none\" id=\"E11&lt;-E12\" style=\"stroke: #A80036; stroke-width: 1.0;\"/><polygon fill=\"#A80036\" points=\"246,87.01,242,93.01,246,99.01,250,93.01,246,87.01\" style=\"stroke: #A80036; stroke-width: 1.0;\"/><!--MD5=[e2a9ac97dcd3257bb5342dae06547bad]\n",
       "link E12 to E13--><path d=\"M270.59,224.16 C285.12,246.11 303.24,273.5 316.73,293.88 \" fill=\"none\" id=\"E12-&gt;E13\" style=\"stroke: #A80036; stroke-width: 1.0;\"/><polygon fill=\"#A80036\" points=\"321.29,300.77,319.3774,292.4428,314.3736,295.7537,321.29,300.77\" style=\"stroke: #A80036; stroke-width: 1.0;\"/><text fill=\"#000000\" font-family=\"sans-serif\" font-size=\"13\" lengthAdjust=\"spacingAndGlyphs\" textLength=\"73\" x=\"300\" y=\"267.0669\">«objective»</text><!--MD5=[0c5cda25c8112aa5756a60fc569ee3b1]\n",
       "@startuml\r\n",
       "skinparam wrapWidth 300\r\n",
       "hide circle\r\n",
       "\r\n",
       "package \"VerificationTest\" as E1   {\r\n",
       "comp def \"V\" as E2  <<(T,blue)part def>> {\r\n",
       "m: Integer\r\n",
       "}\r\n",
       "comp usage \"vv: V\" as E3  <<(T,blue)part>> {\r\n",
       "}\r\n",
       "comp def \"VerificationObjective\" as E4  <<(T,blue)requirement def>> {\r\n",
       "...\r\n",
       "- -\r\n",
       "}\r\n",
       "comp def \"VerificationCase\" as E5  <<(T,blue)verificationCase def>> {\r\n",
       "}\r\n",
       "comp usage \"obj: VerificationObjective\" as E6  <<(T,blue)requirement>> {\r\n",
       "- -references- -\r\n",
       ">subj: Anything= v;  <s>VerificationObjective::subj</s>\r\n",
       "}\r\n",
       "comp def \"VerificationPlan\" as E7  <<(T,blue)verificationCase def>> {\r\n",
       "}\r\n",
       "comp usage \"obj: RequirementCheck\" as E8  <<(T,blue)requirement>> {\r\n",
       "...\r\n",
       "- -\r\n",
       "}\r\n",
       "comp usage \"verificationCase: VerificationCase\" as E9  <<(T,blue)verificationCase>> {\r\n",
       "}\r\n",
       "comp usage \"obj: VerificationObjective\" as E10  <<(T,blue)requirement>> {\r\n",
       "}\r\n",
       "comp usage \"verificationContext: Part\" as E11  <<(T,blue)part>> {\r\n",
       "}\r\n",
       "comp usage \"verificationPlan: VerificationPlan\" as E12  <<(T,blue)verificationCase>> {\r\n",
       "- -references- -\r\n",
       ">v: V= vv;  <s>VerificationPlan::v</s>\r\n",
       "}\r\n",
       "comp usage \"obj: RequirementCheck\" as E13  <<(T,blue)requirement>> {\r\n",
       "}\r\n",
       "E3 - -:|> E2\r\n",
       "E5 ..> E2 : <<subject>>\r\n",
       "E5 - ->> E6 : <<objective>>\r\n",
       "E6 - -:|> E4\r\n",
       "E7 ..> E2 : <<subject>>\r\n",
       "E7 - ->> E8 : <<objective>>\r\n",
       "E9 - -:|> E5\r\n",
       "E7 *- - E9\r\n",
       "E9 - ->> E10 : <<objective>>\r\n",
       "E12 - -:|> E7\r\n",
       "E11 *- - E12\r\n",
       "E12 - ->> E13 : <<objective>>\r\n",
       "}\r\n",
       "@enduml\r\n",
       "\n",
       "PlantUML version 1.2020.13(Sat Jun 13 12:26:38 UTC 2020)\n",
       "(EPL source distribution)\n",
       "Java Runtime: OpenJDK Runtime Environment\n",
       "JVM: OpenJDK 64-Bit Server VM\n",
       "Default Encoding: UTF-8\n",
       "Language: en\n",
       "Country: null\n",
       "--></g></svg>"
      ]
     },
     "execution_count": 24,
     "metadata": {},
     "output_type": "execute_result"
    }
   ],
   "source": [
    "%viz --style=\"STDCOLOR\" --view=\"Tree\" \"VerificationTest\""
   ]
  },
  {
   "cell_type": "code",
   "execution_count": 25,
   "id": "exposed-patient",
   "metadata": {
    "execution": {
     "iopub.execute_input": "2021-03-25T15:57:42.940024Z",
     "iopub.status.busy": "2021-03-25T15:57:42.938737Z",
     "iopub.status.idle": "2021-03-25T15:57:42.947943Z",
     "shell.execute_reply": "2021-03-25T15:57:42.946683Z"
    }
   },
   "outputs": [
    {
     "data": {
      "text/plain": [
       "java.lang.IllegalArgumentException: Invalid View: State View candidates are: Default Tree StateMachine Interconnection Activity Sequence MIXED \n",
       "\tat org.omg.sysml.plantuml.SysML2PlantUMLSvc.setView(SysML2PlantUMLSvc.java:63)\n",
       "\tat org.omg.sysml.interactive.SysMLInteractive.viz(SysMLInteractive.java:286)\n",
       "\tat org.omg.sysml.jupyter.kernel.magic.Viz.viz(Viz.java:47)\n",
       "\tat jdk.internal.reflect.GeneratedMethodAccessor14.invoke(Unknown Source)\n",
       "\tat java.base/jdk.internal.reflect.DelegatingMethodAccessorImpl.invoke(DelegatingMethodAccessorImpl.java:43)\n",
       "\tat java.base/java.lang.reflect.Method.invoke(Method.java:568)\n",
       "\tat io.github.spencerpark.jupyter.kernel.magic.registry.Magics.invoke(Magics.java:89)\n",
       "\tat io.github.spencerpark.jupyter.kernel.magic.registry.Magics.access$000(Magics.java:8)\n",
       "\tat io.github.spencerpark.jupyter.kernel.magic.registry.Magics$LineReflectionMagicFunction.execute(Magics.java:149)\n",
       "\tat io.github.spencerpark.jupyter.kernel.magic.registry.Magics.applyLineMagic(Magics.java:26)\n",
       "\tat org.omg.sysml.jupyter.kernel.SysMLKernel.eval(SysMLKernel.java:76)\n",
       "\tat io.github.spencerpark.jupyter.kernel.BaseKernel.handleExecuteRequest(BaseKernel.java:334)\n",
       "\tat io.github.spencerpark.jupyter.channels.ShellChannel.lambda$bind$0(ShellChannel.java:64)\n",
       "\tat io.github.spencerpark.jupyter.channels.Loop.lambda$new$0(Loop.java:21)\n",
       "\tat io.github.spencerpark.jupyter.channels.Loop.run(Loop.java:78)\n"
      ]
     },
     "execution_count": 25,
     "metadata": {},
     "output_type": "execute_result"
    }
   ],
   "source": [
    "%viz --style=\"STDCOLOR\" --view=\"State\" \"VerificationTest\""
   ]
  },
  {
   "cell_type": "code",
   "execution_count": 26,
   "id": "authentic-warrant",
   "metadata": {
    "execution": {
     "iopub.execute_input": "2021-03-25T15:57:42.996546Z",
     "iopub.status.busy": "2021-03-25T15:57:42.995803Z",
     "iopub.status.idle": "2021-03-25T15:57:43.239018Z",
     "shell.execute_reply": "2021-03-25T15:57:43.235765Z"
    }
   },
   "outputs": [
    {
     "data": {
      "image/svg+xml": [
       "<?xml version=\"1.0\" encoding=\"UTF-8\" standalone=\"no\"?><svg xmlns=\"http://www.w3.org/2000/svg\" xmlns:xlink=\"http://www.w3.org/1999/xlink\" contentScriptType=\"application/ecmascript\" contentStyleType=\"text/css\" height=\"202px\" preserveAspectRatio=\"none\" style=\"width:1008px;height:202px;\" version=\"1.1\" viewBox=\"0 0 1008 202\" width=\"1008px\" zoomAndPan=\"magnify\"><defs><filter height=\"300%\" id=\"f16qkdl372xwqu\" width=\"300%\" x=\"-1\" y=\"-1\"><feGaussianBlur result=\"blurOut\" stdDeviation=\"2.0\"/><feColorMatrix in=\"blurOut\" result=\"blurOut2\" type=\"matrix\" values=\"0 0 0 0 0 0 0 0 0 0 0 0 0 0 0 0 0 0 .4 0\"/><feOffset dx=\"4.0\" dy=\"4.0\" in=\"blurOut2\" result=\"blurOut3\"/><feBlend in=\"SourceGraphic\" in2=\"blurOut3\" mode=\"normal\"/></filter></defs><g><!--MD5=[fbc87193dbaf4d95561dea2c320d4a47]\n",
       "cluster E1--><polygon fill=\"#FFFFFF\" filter=\"url(#f16qkdl372xwqu)\" points=\"16,6,147,6,154,28.2969,986,28.2969,986,190,16,190,16,6\" style=\"stroke: #000000; stroke-width: 1.5;\"/><line style=\"stroke: #000000; stroke-width: 1.5;\" x1=\"16\" x2=\"154\" y1=\"28.2969\" y2=\"28.2969\"/><text fill=\"#000000\" font-family=\"sans-serif\" font-size=\"14\" font-weight=\"bold\" lengthAdjust=\"spacingAndGlyphs\" textLength=\"125\" x=\"20\" y=\"20.9951\">VerificationTest</text><!--MD5=[e4f7fae6ed58524ba242bb0b0d3be6b7]\n",
       "cluster E2--><rect fill=\"#FFFFFF\" filter=\"url(#f16qkdl372xwqu)\" height=\"117\" style=\"stroke: #000000; stroke-width: 1.5;\" width=\"124\" x=\"838\" y=\"49\"/><text fill=\"#000000\" font-family=\"sans-serif\" font-size=\"14\" font-style=\"italic\" lengthAdjust=\"spacingAndGlyphs\" textLength=\"71\" x=\"864.5\" y=\"63.9951\">«part def»</text><text fill=\"#000000\" font-family=\"sans-serif\" font-size=\"14\" font-weight=\"bold\" lengthAdjust=\"spacingAndGlyphs\" textLength=\"11\" x=\"894.5\" y=\"80.292\">V</text><!--MD5=[270fce915f116d4de14055a7c1d9a0f3]\n",
       "class E5--><rect fill=\"#FEFECE\" filter=\"url(#f16qkdl372xwqu)\" height=\"53.9375\" id=\"E5\" style=\"stroke: #A80036; stroke-width: 1.5;\" width=\"133\" x=\"686.5\" y=\"98\"/><text fill=\"#000000\" font-family=\"sans-serif\" font-size=\"12\" font-style=\"italic\" lengthAdjust=\"spacingAndGlyphs\" textLength=\"115\" x=\"695.5\" y=\"114.1387\">«requirement def»</text><text fill=\"#000000\" font-family=\"sans-serif\" font-size=\"12\" lengthAdjust=\"spacingAndGlyphs\" textLength=\"127\" x=\"689.5\" y=\"128.1074\">VerificationObjective</text><line style=\"stroke: #A80036; stroke-width: 1.5;\" x1=\"687.5\" x2=\"818.5\" y1=\"135.9375\" y2=\"135.9375\"/><line style=\"stroke: #A80036; stroke-width: 1.5;\" x1=\"687.5\" x2=\"818.5\" y1=\"143.9375\" y2=\"143.9375\"/><!--MD5=[60a26617385b1d2d0262a64233df1f8d]\n",
       "class E6--><rect fill=\"#FEFECE\" filter=\"url(#f16qkdl372xwqu)\" height=\"53.9375\" id=\"E6\" style=\"stroke: #A80036; stroke-width: 1.5;\" width=\"139\" x=\"512.5\" y=\"98\"/><text fill=\"#000000\" font-family=\"sans-serif\" font-size=\"12\" font-style=\"italic\" lengthAdjust=\"spacingAndGlyphs\" textLength=\"137\" x=\"513.5\" y=\"114.1387\">«verificationCase def»</text><text fill=\"#000000\" font-family=\"sans-serif\" font-size=\"12\" lengthAdjust=\"spacingAndGlyphs\" textLength=\"101\" x=\"531.5\" y=\"128.1074\">VerificationCase</text><line style=\"stroke: #A80036; stroke-width: 1.5;\" x1=\"513.5\" x2=\"650.5\" y1=\"135.9375\" y2=\"135.9375\"/><line style=\"stroke: #A80036; stroke-width: 1.5;\" x1=\"513.5\" x2=\"650.5\" y1=\"143.9375\" y2=\"143.9375\"/><!--MD5=[2156ba9850f5573cc1fc38a6a4b2f02b]\n",
       "class E7--><rect fill=\"#FEFECE\" filter=\"url(#f16qkdl372xwqu)\" height=\"53.9375\" id=\"E7\" style=\"stroke: #A80036; stroke-width: 1.5;\" width=\"139\" x=\"338.5\" y=\"98\"/><text fill=\"#000000\" font-family=\"sans-serif\" font-size=\"12\" font-style=\"italic\" lengthAdjust=\"spacingAndGlyphs\" textLength=\"137\" x=\"339.5\" y=\"114.1387\">«verificationCase def»</text><text fill=\"#000000\" font-family=\"sans-serif\" font-size=\"12\" lengthAdjust=\"spacingAndGlyphs\" textLength=\"97\" x=\"359.5\" y=\"128.1074\">VerificationPlan</text><line style=\"stroke: #A80036; stroke-width: 1.5;\" x1=\"339.5\" x2=\"476.5\" y1=\"135.9375\" y2=\"135.9375\"/><line style=\"stroke: #A80036; stroke-width: 1.5;\" x1=\"339.5\" x2=\"476.5\" y1=\"143.9375\" y2=\"143.9375\"/><g id=\"E1.E2.E3\"><rect fill=\"#FFFFFF\" filter=\"url(#f16qkdl372xwqu)\" height=\"50\" rx=\"12.5\" ry=\"12.5\" style=\"stroke: #A80036; stroke-width: 1.5;\" width=\"91\" x=\"854.5\" y=\"100\"/><line style=\"stroke: #A80036; stroke-width: 1.5;\" x1=\"854.5\" x2=\"945.5\" y1=\"126.2969\" y2=\"126.2969\"/><text fill=\"#000000\" font-family=\"sans-serif\" font-size=\"14\" lengthAdjust=\"spacingAndGlyphs\" textLength=\"71\" x=\"864.5\" y=\"117.9951\">m: Integer</text></g><g id=\"E1.E4\"><rect fill=\"#FFFFFF\" filter=\"url(#f16qkdl372xwqu)\" height=\"50\" rx=\"12.5\" ry=\"12.5\" style=\"stroke: #A80036; stroke-width: 1.5;\" width=\"52\" x=\"251\" y=\"100\"/><line style=\"stroke: #A80036; stroke-width: 1.5;\" x1=\"251\" x2=\"303\" y1=\"126.2969\" y2=\"126.2969\"/><text fill=\"#000000\" font-family=\"sans-serif\" font-size=\"14\" lengthAdjust=\"spacingAndGlyphs\" textLength=\"32\" x=\"261\" y=\"117.9951\">vv: V</text></g><g id=\"E1.E8\"><rect fill=\"#FFFFFF\" filter=\"url(#f16qkdl372xwqu)\" height=\"50\" rx=\"12.5\" ry=\"12.5\" style=\"stroke: #A80036; stroke-width: 1.5;\" width=\"183\" x=\"32.5\" y=\"100\"/><line style=\"stroke: #A80036; stroke-width: 1.5;\" x1=\"32.5\" x2=\"215.5\" y1=\"126.2969\" y2=\"126.2969\"/><text fill=\"#000000\" font-family=\"sans-serif\" font-size=\"14\" lengthAdjust=\"spacingAndGlyphs\" textLength=\"163\" x=\"42.5\" y=\"117.9951\">verificationContext: Part</text></g><!--MD5=[1b818163535fe60c3722f01db9522623]\n",
       "@startuml\r\n",
       "skinparam ranksep 8\r\n",
       "skinparam rectangle {\r\n",
       " backgroundColor<<block>> LightGreen\r\n",
       "}\r\n",
       "skinparam wrapWidth 300\r\n",
       "hide circle\r\n",
       "\r\n",
       "package \"VerificationTest\" as E1   {\r\n",
       "rec def \"V\" as E2  <<part def>> {\r\n",
       "rec usage \"m: Integer\" as E3  <<attribute>> {\r\n",
       "}\r\n",
       "}\r\n",
       "rec usage \"vv: V\" as E4  {\r\n",
       "}\r\n",
       "def \"VerificationObjective\" as E5  <<requirement def>> \r\n",
       "def \"VerificationCase\" as E6  <<verificationCase def>> \r\n",
       "def \"VerificationPlan\" as E7  <<verificationCase def>> \r\n",
       "rec usage \"verificationContext: Part\" as E8  {\r\n",
       "}\r\n",
       "}\r\n",
       "@enduml\r\n",
       "\n",
       "PlantUML version 1.2020.13(Sat Jun 13 12:26:38 UTC 2020)\n",
       "(EPL source distribution)\n",
       "Java Runtime: OpenJDK Runtime Environment\n",
       "JVM: OpenJDK 64-Bit Server VM\n",
       "Default Encoding: UTF-8\n",
       "Language: en\n",
       "Country: null\n",
       "--></g></svg>"
      ]
     },
     "execution_count": 26,
     "metadata": {},
     "output_type": "execute_result"
    }
   ],
   "source": [
    "%viz --style=\"STDCOLOR\" --view=\"Interconnection\" \"VerificationTest\""
   ]
  },
  {
   "cell_type": "code",
   "execution_count": 27,
   "id": "literary-surveillance",
   "metadata": {
    "execution": {
     "iopub.execute_input": "2021-03-25T15:57:43.292414Z",
     "iopub.status.busy": "2021-03-25T15:57:43.290911Z",
     "iopub.status.idle": "2021-03-25T15:57:43.294476Z",
     "shell.execute_reply": "2021-03-25T15:57:43.291715Z"
    }
   },
   "outputs": [
    {
     "data": {
      "text/plain": [
       "java.lang.IllegalArgumentException: Invalid View: Action View candidates are: Default Tree StateMachine Interconnection Activity Sequence MIXED \n",
       "\tat org.omg.sysml.plantuml.SysML2PlantUMLSvc.setView(SysML2PlantUMLSvc.java:63)\n",
       "\tat org.omg.sysml.interactive.SysMLInteractive.viz(SysMLInteractive.java:286)\n",
       "\tat org.omg.sysml.jupyter.kernel.magic.Viz.viz(Viz.java:47)\n",
       "\tat jdk.internal.reflect.GeneratedMethodAccessor14.invoke(Unknown Source)\n",
       "\tat java.base/jdk.internal.reflect.DelegatingMethodAccessorImpl.invoke(DelegatingMethodAccessorImpl.java:43)\n",
       "\tat java.base/java.lang.reflect.Method.invoke(Method.java:568)\n",
       "\tat io.github.spencerpark.jupyter.kernel.magic.registry.Magics.invoke(Magics.java:89)\n",
       "\tat io.github.spencerpark.jupyter.kernel.magic.registry.Magics.access$000(Magics.java:8)\n",
       "\tat io.github.spencerpark.jupyter.kernel.magic.registry.Magics$LineReflectionMagicFunction.execute(Magics.java:149)\n",
       "\tat io.github.spencerpark.jupyter.kernel.magic.registry.Magics.applyLineMagic(Magics.java:26)\n",
       "\tat org.omg.sysml.jupyter.kernel.SysMLKernel.eval(SysMLKernel.java:76)\n",
       "\tat io.github.spencerpark.jupyter.kernel.BaseKernel.handleExecuteRequest(BaseKernel.java:334)\n",
       "\tat io.github.spencerpark.jupyter.channels.ShellChannel.lambda$bind$0(ShellChannel.java:64)\n",
       "\tat io.github.spencerpark.jupyter.channels.Loop.lambda$new$0(Loop.java:21)\n",
       "\tat io.github.spencerpark.jupyter.channels.Loop.run(Loop.java:78)\n"
      ]
     },
     "execution_count": 27,
     "metadata": {},
     "output_type": "execute_result"
    }
   ],
   "source": [
    "%viz --style=\"STDCOLOR\" --view=\"Action\" \"VerificationTest\""
   ]
  },
  {
   "cell_type": "code",
   "execution_count": 28,
   "id": "seven-professional",
   "metadata": {
    "execution": {
     "iopub.execute_input": "2021-03-25T15:57:43.362007Z",
     "iopub.status.busy": "2021-03-25T15:57:43.361314Z",
     "iopub.status.idle": "2021-03-25T15:57:45.232224Z",
     "shell.execute_reply": "2021-03-25T15:57:45.229360Z"
    }
   },
   "outputs": [
    {
     "data": {
      "image/svg+xml": [
       "<?xml version=\"1.0\" encoding=\"UTF-8\" standalone=\"no\"?><svg xmlns=\"http://www.w3.org/2000/svg\" xmlns:xlink=\"http://www.w3.org/1999/xlink\" contentScriptType=\"application/ecmascript\" contentStyleType=\"text/css\" height=\"923px\" preserveAspectRatio=\"none\" style=\"width:519px;height:923px;\" version=\"1.1\" viewBox=\"0 0 519 923\" width=\"519px\" zoomAndPan=\"magnify\"><defs><filter height=\"300%\" id=\"fvjqcrw5hb4k2\" width=\"300%\" x=\"-1\" y=\"-1\"><feGaussianBlur result=\"blurOut\" stdDeviation=\"2.0\"/><feColorMatrix in=\"blurOut\" result=\"blurOut2\" type=\"matrix\" values=\"0 0 0 0 0 0 0 0 0 0 0 0 0 0 0 0 0 0 .4 0\"/><feOffset dx=\"4.0\" dy=\"4.0\" in=\"blurOut2\" result=\"blurOut3\"/><feBlend in=\"SourceGraphic\" in2=\"blurOut3\" mode=\"normal\"/></filter></defs><g><!--MD5=[fbc87193dbaf4d95561dea2c320d4a47]\n",
       "cluster E1--><polygon fill=\"#FFFFFF\" filter=\"url(#fvjqcrw5hb4k2)\" points=\"16,6,147,6,154,28.2969,497,28.2969,497,911,16,911,16,6\" style=\"stroke: #000000; stroke-width: 1.5;\"/><line style=\"stroke: #000000; stroke-width: 1.5;\" x1=\"16\" x2=\"154\" y1=\"28.2969\" y2=\"28.2969\"/><text fill=\"#000000\" font-family=\"sans-serif\" font-size=\"14\" font-weight=\"bold\" lengthAdjust=\"spacingAndGlyphs\" textLength=\"125\" x=\"20\" y=\"20.9951\">VerificationTest</text><!--MD5=[b4997ac47864f28c2f74865a473b2911]\n",
       "class E2--><rect fill=\"#FEFECE\" filter=\"url(#fvjqcrw5hb4k2)\" height=\"58.7422\" id=\"E2\" style=\"stroke: #A80036; stroke-width: 1.5;\" width=\"71\" x=\"90.5\" y=\"699.5\"/><text fill=\"#000000\" font-family=\"sans-serif\" font-size=\"12\" font-style=\"italic\" lengthAdjust=\"spacingAndGlyphs\" textLength=\"64\" x=\"94\" y=\"715.6387\">«part def»</text><text fill=\"#000000\" font-family=\"sans-serif\" font-size=\"12\" lengthAdjust=\"spacingAndGlyphs\" textLength=\"8\" x=\"122\" y=\"729.6074\">V</text><line style=\"stroke: #A80036; stroke-width: 1.5;\" x1=\"91.5\" x2=\"160.5\" y1=\"737.4375\" y2=\"737.4375\"/><text fill=\"#000000\" font-family=\"sans-serif\" font-size=\"11\" lengthAdjust=\"spacingAndGlyphs\" textLength=\"59\" x=\"96.5\" y=\"751.6479\">m: Integer</text><!--MD5=[09b614a08d8cba4a07c9adeb5e0fee81]\n",
       "class E3--><rect fill=\"#FEFECE\" filter=\"url(#fvjqcrw5hb4k2)\" height=\"45.9375\" id=\"E3\" rx=\"10\" ry=\"10\" style=\"stroke: #A80036; stroke-width: 1.5;\" width=\"42\" x=\"264\" y=\"568\"/><text fill=\"#000000\" font-family=\"sans-serif\" font-size=\"12\" font-style=\"italic\" lengthAdjust=\"spacingAndGlyphs\" textLength=\"40\" x=\"265\" y=\"584.1387\">«part»</text><text fill=\"#000000\" font-family=\"sans-serif\" font-size=\"12\" lengthAdjust=\"spacingAndGlyphs\" textLength=\"28\" x=\"271\" y=\"598.1074\">vv: V</text><line style=\"stroke: #A80036; stroke-width: 1.5;\" x1=\"265\" x2=\"305\" y1=\"605.9375\" y2=\"605.9375\"/><!--MD5=[ebbe1d658d1005bcc118a6aa81145e00]\n",
       "class E4--><rect fill=\"#FEFECE\" filter=\"url(#fvjqcrw5hb4k2)\" height=\"66.7422\" id=\"E4\" style=\"stroke: #A80036; stroke-width: 1.5;\" width=\"133\" x=\"272.5\" y=\"828\"/><text fill=\"#000000\" font-family=\"sans-serif\" font-size=\"12\" font-style=\"italic\" lengthAdjust=\"spacingAndGlyphs\" textLength=\"115\" x=\"281.5\" y=\"844.1387\">«requirement def»</text><text fill=\"#000000\" font-family=\"sans-serif\" font-size=\"12\" lengthAdjust=\"spacingAndGlyphs\" textLength=\"127\" x=\"275.5\" y=\"858.1074\">VerificationObjective</text><line style=\"stroke: #A80036; stroke-width: 1.5;\" x1=\"273.5\" x2=\"404.5\" y1=\"865.9375\" y2=\"865.9375\"/><text fill=\"#000000\" font-family=\"sans-serif\" font-size=\"11\" lengthAdjust=\"spacingAndGlyphs\" textLength=\"12\" x=\"278.5\" y=\"880.1479\">...</text><line style=\"stroke: #A80036; stroke-width: 1.0;\" x1=\"273.5\" x2=\"404.5\" y1=\"886.7422\" y2=\"886.7422\"/><!--MD5=[270fce915f116d4de14055a7c1d9a0f3]\n",
       "class E5--><rect fill=\"#FEFECE\" filter=\"url(#fvjqcrw5hb4k2)\" height=\"45.9375\" id=\"E5\" style=\"stroke: #A80036; stroke-width: 1.5;\" width=\"139\" x=\"341.5\" y=\"568\"/><text fill=\"#000000\" font-family=\"sans-serif\" font-size=\"12\" font-style=\"italic\" lengthAdjust=\"spacingAndGlyphs\" textLength=\"137\" x=\"342.5\" y=\"584.1387\">«verificationCase def»</text><text fill=\"#000000\" font-family=\"sans-serif\" font-size=\"12\" lengthAdjust=\"spacingAndGlyphs\" textLength=\"101\" x=\"360.5\" y=\"598.1074\">VerificationCase</text><line style=\"stroke: #A80036; stroke-width: 1.5;\" x1=\"342.5\" x2=\"479.5\" y1=\"605.9375\" y2=\"605.9375\"/><!--MD5=[60a26617385b1d2d0262a64233df1f8d]\n",
       "class E6--><rect fill=\"#FEFECE\" filter=\"url(#fvjqcrw5hb4k2)\" height=\"75.5469\" id=\"E6\" rx=\"10\" ry=\"10\" style=\"stroke: #A80036; stroke-width: 1.5;\" width=\"284\" x=\"197\" y=\"691\"/><text fill=\"#000000\" font-family=\"sans-serif\" font-size=\"12\" font-style=\"italic\" lengthAdjust=\"spacingAndGlyphs\" textLength=\"91\" x=\"293.5\" y=\"707.1387\">«requirement»</text><text fill=\"#000000\" font-family=\"sans-serif\" font-size=\"12\" lengthAdjust=\"spacingAndGlyphs\" textLength=\"154\" x=\"262\" y=\"721.1074\">obj: VerificationObjective</text><line style=\"stroke: #A80036; stroke-width: 1.5;\" x1=\"198\" x2=\"480\" y1=\"728.9375\" y2=\"728.9375\"/><line style=\"stroke: #000000; stroke-width: 1.0;\" x1=\"203\" x2=\"203\" y1=\"751.7422\" y2=\"760.7422\"/><polygon fill=\"#FFFF44\" points=\"206,752.7422,213,756.7422,206,760.7422\" style=\"stroke: #000000; stroke-width: 1.0;\"/><text fill=\"#000000\" font-family=\"sans-serif\" font-size=\"11\" lengthAdjust=\"spacingAndGlyphs\" textLength=\"103\" x=\"217\" y=\"759.9526\">subj: Anything= v;</text><text fill=\"#000000\" font-family=\"sans-serif\" font-size=\"11\" lengthAdjust=\"spacingAndGlyphs\" text-decoration=\"line-through\" textLength=\"147\" x=\"328\" y=\"759.9526\">VerificationObjective::subj</text><line style=\"stroke: #A80036; stroke-width: 1.0;\" x1=\"198\" x2=\"308\" y1=\"743.3398\" y2=\"743.3398\"/><text fill=\"#000000\" font-family=\"sans-serif\" font-size=\"11\" lengthAdjust=\"spacingAndGlyphs\" textLength=\"62\" x=\"308\" y=\"746.6479\">references</text><line style=\"stroke: #A80036; stroke-width: 1.0;\" x1=\"370\" x2=\"480\" y1=\"743.3398\" y2=\"743.3398\"/><!--MD5=[2156ba9850f5573cc1fc38a6a4b2f02b]\n",
       "class E7--><rect fill=\"#FEFECE\" filter=\"url(#fvjqcrw5hb4k2)\" height=\"45.9375\" id=\"E7\" style=\"stroke: #A80036; stroke-width: 1.5;\" width=\"139\" x=\"86.5\" y=\"301\"/><text fill=\"#000000\" font-family=\"sans-serif\" font-size=\"12\" font-style=\"italic\" lengthAdjust=\"spacingAndGlyphs\" textLength=\"137\" x=\"87.5\" y=\"317.1387\">«verificationCase def»</text><text fill=\"#000000\" font-family=\"sans-serif\" font-size=\"12\" lengthAdjust=\"spacingAndGlyphs\" textLength=\"97\" x=\"107.5\" y=\"331.1074\">VerificationPlan</text><line style=\"stroke: #A80036; stroke-width: 1.5;\" x1=\"87.5\" x2=\"224.5\" y1=\"338.9375\" y2=\"338.9375\"/><!--MD5=[b9389687b975829384b498ac4b7476b2]\n",
       "class E8--><rect fill=\"#FEFECE\" filter=\"url(#fvjqcrw5hb4k2)\" height=\"66.7422\" id=\"E8\" rx=\"10\" ry=\"10\" style=\"stroke: #A80036; stroke-width: 1.5;\" width=\"151\" x=\"80.5\" y=\"424\"/><text fill=\"#000000\" font-family=\"sans-serif\" font-size=\"12\" font-style=\"italic\" lengthAdjust=\"spacingAndGlyphs\" textLength=\"91\" x=\"110.5\" y=\"440.1387\">«requirement»</text><text fill=\"#000000\" font-family=\"sans-serif\" font-size=\"12\" lengthAdjust=\"spacingAndGlyphs\" textLength=\"145\" x=\"83.5\" y=\"454.1074\">obj: RequirementCheck</text><line style=\"stroke: #A80036; stroke-width: 1.5;\" x1=\"81.5\" x2=\"230.5\" y1=\"461.9375\" y2=\"461.9375\"/><text fill=\"#000000\" font-family=\"sans-serif\" font-size=\"11\" lengthAdjust=\"spacingAndGlyphs\" textLength=\"12\" x=\"86.5\" y=\"476.1479\">...</text><line style=\"stroke: #A80036; stroke-width: 1.0;\" x1=\"81.5\" x2=\"230.5\" y1=\"482.7422\" y2=\"482.7422\"/><!--MD5=[fd4143e9d270a159db93a4ea2a975926]\n",
       "class E9--><rect fill=\"#FEFECE\" filter=\"url(#fvjqcrw5hb4k2)\" height=\"45.9375\" id=\"E9\" rx=\"10\" ry=\"10\" style=\"stroke: #A80036; stroke-width: 1.5;\" width=\"214\" x=\"267\" y=\"434.5\"/><text fill=\"#000000\" font-family=\"sans-serif\" font-size=\"12\" font-style=\"italic\" lengthAdjust=\"spacingAndGlyphs\" textLength=\"113\" x=\"317.5\" y=\"450.6387\">«verificationCase»</text><text fill=\"#000000\" font-family=\"sans-serif\" font-size=\"12\" lengthAdjust=\"spacingAndGlyphs\" textLength=\"208\" x=\"270\" y=\"464.6074\">verificationCase: VerificationCase</text><line style=\"stroke: #A80036; stroke-width: 1.5;\" x1=\"268\" x2=\"480\" y1=\"472.4375\" y2=\"472.4375\"/><!--MD5=[96f4274e9e20536e775497830990834d]\n",
       "class E10--><rect fill=\"#FEFECE\" filter=\"url(#fvjqcrw5hb4k2)\" height=\"45.9375\" id=\"E10\" rx=\"10\" ry=\"10\" style=\"stroke: #A80036; stroke-width: 1.5;\" width=\"160\" x=\"69\" y=\"568\"/><text fill=\"#000000\" font-family=\"sans-serif\" font-size=\"12\" font-style=\"italic\" lengthAdjust=\"spacingAndGlyphs\" textLength=\"91\" x=\"103.5\" y=\"584.1387\">«requirement»</text><text fill=\"#000000\" font-family=\"sans-serif\" font-size=\"12\" lengthAdjust=\"spacingAndGlyphs\" textLength=\"154\" x=\"72\" y=\"598.1074\">obj: VerificationObjective</text><line style=\"stroke: #A80036; stroke-width: 1.5;\" x1=\"70\" x2=\"228\" y1=\"605.9375\" y2=\"605.9375\"/><!--MD5=[1dd1bfd58a279cf63c5f349dbc8fc6a1]\n",
       "class E11--><rect fill=\"#FEFECE\" filter=\"url(#fvjqcrw5hb4k2)\" height=\"45.9375\" id=\"E11\" rx=\"10\" ry=\"10\" style=\"stroke: #A80036; stroke-width: 1.5;\" width=\"156\" x=\"168\" y=\"41\"/><text fill=\"#000000\" font-family=\"sans-serif\" font-size=\"12\" font-style=\"italic\" lengthAdjust=\"spacingAndGlyphs\" textLength=\"40\" x=\"226\" y=\"57.1387\">«part»</text><text fill=\"#000000\" font-family=\"sans-serif\" font-size=\"12\" lengthAdjust=\"spacingAndGlyphs\" textLength=\"150\" x=\"171\" y=\"71.1074\">verificationContext: Part</text><line style=\"stroke: #A80036; stroke-width: 1.5;\" x1=\"169\" x2=\"323\" y1=\"78.9375\" y2=\"78.9375\"/><!--MD5=[49a0ec8f00dab7302a31f22d0f0fe584]\n",
       "class E12--><rect fill=\"#FEFECE\" filter=\"url(#fvjqcrw5hb4k2)\" height=\"75.5469\" id=\"E12\" rx=\"10\" ry=\"10\" style=\"stroke: #A80036; stroke-width: 1.5;\" width=\"206\" x=\"143\" y=\"148\"/><text fill=\"#000000\" font-family=\"sans-serif\" font-size=\"12\" font-style=\"italic\" lengthAdjust=\"spacingAndGlyphs\" textLength=\"113\" x=\"189.5\" y=\"164.1387\">«verificationCase»</text><text fill=\"#000000\" font-family=\"sans-serif\" font-size=\"12\" lengthAdjust=\"spacingAndGlyphs\" textLength=\"200\" x=\"146\" y=\"178.1074\">verificationPlan: VerificationPlan</text><line style=\"stroke: #A80036; stroke-width: 1.5;\" x1=\"144\" x2=\"348\" y1=\"185.9375\" y2=\"185.9375\"/><line style=\"stroke: #000000; stroke-width: 1.0;\" x1=\"149\" x2=\"149\" y1=\"208.7422\" y2=\"217.7422\"/><polygon fill=\"#FFFF44\" points=\"152,209.7422,159,213.7422,152,217.7422\" style=\"stroke: #000000; stroke-width: 1.0;\"/><text fill=\"#000000\" font-family=\"sans-serif\" font-size=\"11\" lengthAdjust=\"spacingAndGlyphs\" textLength=\"50\" x=\"163\" y=\"216.9526\">v: V= vv;</text><text fill=\"#000000\" font-family=\"sans-serif\" font-size=\"11\" lengthAdjust=\"spacingAndGlyphs\" text-decoration=\"line-through\" textLength=\"101\" x=\"221\" y=\"216.9526\">VerificationPlan::v</text><line style=\"stroke: #A80036; stroke-width: 1.0;\" x1=\"144\" x2=\"215\" y1=\"200.3398\" y2=\"200.3398\"/><text fill=\"#000000\" font-family=\"sans-serif\" font-size=\"11\" lengthAdjust=\"spacingAndGlyphs\" textLength=\"62\" x=\"215\" y=\"203.6479\">references</text><line style=\"stroke: #A80036; stroke-width: 1.0;\" x1=\"277\" x2=\"348\" y1=\"200.3398\" y2=\"200.3398\"/><!--MD5=[ee3c913d1a06f366521f9ef512b67efe]\n",
       "class E13--><rect fill=\"#FEFECE\" filter=\"url(#fvjqcrw5hb4k2)\" height=\"45.9375\" id=\"E13\" rx=\"10\" ry=\"10\" style=\"stroke: #A80036; stroke-width: 1.5;\" width=\"151\" x=\"260.5\" y=\"301\"/><text fill=\"#000000\" font-family=\"sans-serif\" font-size=\"12\" font-style=\"italic\" lengthAdjust=\"spacingAndGlyphs\" textLength=\"91\" x=\"290.5\" y=\"317.1387\">«requirement»</text><text fill=\"#000000\" font-family=\"sans-serif\" font-size=\"12\" lengthAdjust=\"spacingAndGlyphs\" textLength=\"145\" x=\"263.5\" y=\"331.1074\">obj: RequirementCheck</text><line style=\"stroke: #A80036; stroke-width: 1.5;\" x1=\"261.5\" x2=\"410.5\" y1=\"338.9375\" y2=\"338.9375\"/><!--MD5=[05d275557350bfb9b23a4ef7222b4c39]\n",
       "link E3 to E2--><path d=\"M263.77,604.46 C258.32,607.61 252.46,610.96 247,614 C222.33,627.74 212.56,625.77 191,644 C177.83,655.14 165.61,669.34 155.4,682.9 \" fill=\"none\" id=\"E3-&gt;E2\" style=\"stroke: #A80036; stroke-width: 1.0;\"/><polygon fill=\"#FFFFFF\" points=\"143.63,699.43,148.9514,679.8933,160.3545,688.0155,143.63,699.43\" style=\"stroke: #A80036; stroke-width: 1.0;\"/><ellipse cx=\"153.8873\" cy=\"676.4109\" fill=\"#A80036\" rx=\"2\" ry=\"2\" style=\"stroke: #A80036; stroke-width: 1.0;\"/><ellipse cx=\"162.0324\" cy=\"682.2125\" fill=\"#A80036\" rx=\"2\" ry=\"2\" style=\"stroke: #A80036; stroke-width: 1.0;\"/><!--MD5=[15ebcb19ae302d9b601edb458606d402]\n",
       "link E5 to E2--><path d=\"M350.62,614.12 C303.1,632.42 235.82,660.3 180,691 C175.35,693.56 170.6,696.41 165.94,699.37 \" fill=\"none\" id=\"E5-&gt;E2\" style=\"stroke: #A80036; stroke-width: 1.0; stroke-dasharray: 7.0,7.0;\"/><polygon fill=\"#A80036\" points=\"161.69,702.12,171.42,700.5945,165.8894,699.4061,167.0778,693.8755,161.69,702.12\" style=\"stroke: #A80036; stroke-width: 1.0;\"/><text fill=\"#000000\" font-family=\"sans-serif\" font-size=\"13\" lengthAdjust=\"spacingAndGlyphs\" textLength=\"62\" x=\"274\" y=\"657.0669\">«subject»</text><!--MD5=[9120cf2e5df3bff93db8f754bbbc09b4]\n",
       "link E5 to E6--><path d=\"M399.27,614.15 C389.3,632.98 374.69,660.58 362.35,683.89 \" fill=\"none\" id=\"E5-&gt;E6\" style=\"stroke: #A80036; stroke-width: 1.0;\"/><polygon fill=\"#A80036\" points=\"358.6,690.97,364.9939,685.3028,359.691,682.4959,358.6,690.97\" style=\"stroke: #A80036; stroke-width: 1.0;\"/><text fill=\"#000000\" font-family=\"sans-serif\" font-size=\"13\" lengthAdjust=\"spacingAndGlyphs\" textLength=\"73\" x=\"382\" y=\"657.0669\">«objective»</text><!--MD5=[f667431f98296947986a1a7595a31603]\n",
       "link E6 to E4--><path d=\"M339,767.05 C339,779.61 339,793.89 339,807.45 \" fill=\"none\" id=\"E6-&gt;E4\" style=\"stroke: #A80036; stroke-width: 1.0;\"/><polygon fill=\"#FFFFFF\" points=\"339,827.81,332,808.81,346,808.81,339,827.81\" style=\"stroke: #A80036; stroke-width: 1.0;\"/><ellipse cx=\"334\" cy=\"803.11\" fill=\"#A80036\" rx=\"2\" ry=\"2\" style=\"stroke: #A80036; stroke-width: 1.0;\"/><ellipse cx=\"344\" cy=\"803.11\" fill=\"#A80036\" rx=\"2\" ry=\"2\" style=\"stroke: #A80036; stroke-width: 1.0;\"/><!--MD5=[583832df87f4419a098336a29a52fa00]\n",
       "link E7 to E2--><path d=\"M126.49,347.05 C104.8,365.11 76.79,392.71 63,424 C28.88,501.4 27.98,532.9 52,614 C60.96,644.24 80.74,673.99 97.59,695.51 \" fill=\"none\" id=\"E7-&gt;E2\" style=\"stroke: #A80036; stroke-width: 1.0; stroke-dasharray: 7.0,7.0;\"/><polygon fill=\"#A80036\" points=\"100.71,699.43,98.2367,689.8967,97.597,695.5173,91.9764,694.8776,100.71,699.43\" style=\"stroke: #A80036; stroke-width: 1.0;\"/><text fill=\"#000000\" font-family=\"sans-serif\" font-size=\"13\" lengthAdjust=\"spacingAndGlyphs\" textLength=\"62\" x=\"36\" y=\"534.0669\">«subject»</text><!--MD5=[79bc8f324ef4d02c541433f2e6e513c3]\n",
       "link E7 to E8--><path d=\"M156,347.01 C156,365.7 156,393.02 156,415.69 \" fill=\"none\" id=\"E7-&gt;E8\" style=\"stroke: #A80036; stroke-width: 1.0;\"/><polygon fill=\"#A80036\" points=\"156,423.81,159,415.81,153,415.81,156,423.81\" style=\"stroke: #A80036; stroke-width: 1.0;\"/><text fill=\"#000000\" font-family=\"sans-serif\" font-size=\"13\" lengthAdjust=\"spacingAndGlyphs\" textLength=\"73\" x=\"157\" y=\"390.0669\">«objective»</text><!--MD5=[bfc3ddf2e613be37104f658f09af896c]\n",
       "link E9 to E5--><path d=\"M380.19,480.51 C385.4,499 392.97,525.94 399.31,548.46 \" fill=\"none\" id=\"E9-&gt;E5\" style=\"stroke: #A80036; stroke-width: 1.0;\"/><polygon fill=\"#FFFFFF\" points=\"404.79,567.92,392.9087,551.5238,406.3861,547.7346,404.79,567.92\" style=\"stroke: #A80036; stroke-width: 1.0;\"/><ellipse cx=\"393.2913\" cy=\"545.4953\" fill=\"#A80036\" rx=\"2\" ry=\"2\" style=\"stroke: #A80036; stroke-width: 1.0;\"/><ellipse cx=\"402.918\" cy=\"542.7886\" fill=\"#A80036\" rx=\"2\" ry=\"2\" style=\"stroke: #A80036; stroke-width: 1.0;\"/><!--MD5=[e4a10ef82d0e328e31cac39a31e58dda]\n",
       "reverse link E7 to E9--><path d=\"M203.63,353.73 C243.86,378 300.64,412.25 337.39,434.42 \" fill=\"none\" id=\"E7&lt;-E9\" style=\"stroke: #A80036; stroke-width: 1.0;\"/><polygon fill=\"#A80036\" points=\"192.49,347.01,195.561,353.5345,202.7648,353.2091,199.6938,346.6847,192.49,347.01\" style=\"stroke: #A80036; stroke-width: 1.0;\"/><!--MD5=[35e5f1cbde42fa304a029880aa2bc7f2]\n",
       "link E9 to E10--><path d=\"M336.34,480.51 C297.08,503.46 235.56,539.41 193.82,563.81 \" fill=\"none\" id=\"E9-&gt;E10\" style=\"stroke: #A80036; stroke-width: 1.0;\"/><polygon fill=\"#A80036\" points=\"186.78,567.92,195.2026,566.4847,192.182,561.3005,186.78,567.92\" style=\"stroke: #A80036; stroke-width: 1.0;\"/><text fill=\"#000000\" font-family=\"sans-serif\" font-size=\"13\" lengthAdjust=\"spacingAndGlyphs\" textLength=\"73\" x=\"262\" y=\"534.0669\">«objective»</text><!--MD5=[ae660f5ecd7ddb04a8913625960940af]\n",
       "link E12 to E7--><path d=\"M221.41,224.16 C209.1,242.76 194.21,265.26 181.75,284.09 \" fill=\"none\" id=\"E12-&gt;E7\" style=\"stroke: #A80036; stroke-width: 1.0;\"/><polygon fill=\"#FFFFFF\" points=\"170.71,300.77,175.3586,281.0624,187.0334,288.7889,170.71,300.77\" style=\"stroke: #A80036; stroke-width: 1.0;\"/><ellipse cx=\"180.1723\" cy=\"277.4129\" fill=\"#A80036\" rx=\"2\" ry=\"2\" style=\"stroke: #A80036; stroke-width: 1.0;\"/><ellipse cx=\"188.5114\" cy=\"282.9318\" fill=\"#A80036\" rx=\"2\" ry=\"2\" style=\"stroke: #A80036; stroke-width: 1.0;\"/><!--MD5=[94adabc162ce7e41b39f13be14fbaeb3]\n",
       "reverse link E11 to E12--><path d=\"M246,100.35 C246,115.21 246,132.5 246,147.57 \" fill=\"none\" id=\"E11&lt;-E12\" style=\"stroke: #A80036; stroke-width: 1.0;\"/><polygon fill=\"#A80036\" points=\"246,87.01,242,93.01,246,99.01,250,93.01,246,87.01\" style=\"stroke: #A80036; stroke-width: 1.0;\"/><!--MD5=[e2a9ac97dcd3257bb5342dae06547bad]\n",
       "link E12 to E13--><path d=\"M270.59,224.16 C285.12,246.11 303.24,273.5 316.73,293.88 \" fill=\"none\" id=\"E12-&gt;E13\" style=\"stroke: #A80036; stroke-width: 1.0;\"/><polygon fill=\"#A80036\" points=\"321.29,300.77,319.3774,292.4428,314.3736,295.7537,321.29,300.77\" style=\"stroke: #A80036; stroke-width: 1.0;\"/><text fill=\"#000000\" font-family=\"sans-serif\" font-size=\"13\" lengthAdjust=\"spacingAndGlyphs\" textLength=\"73\" x=\"300\" y=\"267.0669\">«objective»</text><!--MD5=[0c5cda25c8112aa5756a60fc569ee3b1]\n",
       "@startuml\r\n",
       "skinparam wrapWidth 300\r\n",
       "hide circle\r\n",
       "\r\n",
       "package \"VerificationTest\" as E1   {\r\n",
       "comp def \"V\" as E2  <<(T,blue)part def>> {\r\n",
       "m: Integer\r\n",
       "}\r\n",
       "comp usage \"vv: V\" as E3  <<(T,blue)part>> {\r\n",
       "}\r\n",
       "comp def \"VerificationObjective\" as E4  <<(T,blue)requirement def>> {\r\n",
       "...\r\n",
       "- -\r\n",
       "}\r\n",
       "comp def \"VerificationCase\" as E5  <<(T,blue)verificationCase def>> {\r\n",
       "}\r\n",
       "comp usage \"obj: VerificationObjective\" as E6  <<(T,blue)requirement>> {\r\n",
       "- -references- -\r\n",
       ">subj: Anything= v;  <s>VerificationObjective::subj</s>\r\n",
       "}\r\n",
       "comp def \"VerificationPlan\" as E7  <<(T,blue)verificationCase def>> {\r\n",
       "}\r\n",
       "comp usage \"obj: RequirementCheck\" as E8  <<(T,blue)requirement>> {\r\n",
       "...\r\n",
       "- -\r\n",
       "}\r\n",
       "comp usage \"verificationCase: VerificationCase\" as E9  <<(T,blue)verificationCase>> {\r\n",
       "}\r\n",
       "comp usage \"obj: VerificationObjective\" as E10  <<(T,blue)requirement>> {\r\n",
       "}\r\n",
       "comp usage \"verificationContext: Part\" as E11  <<(T,blue)part>> {\r\n",
       "}\r\n",
       "comp usage \"verificationPlan: VerificationPlan\" as E12  <<(T,blue)verificationCase>> {\r\n",
       "- -references- -\r\n",
       ">v: V= vv;  <s>VerificationPlan::v</s>\r\n",
       "}\r\n",
       "comp usage \"obj: RequirementCheck\" as E13  <<(T,blue)requirement>> {\r\n",
       "}\r\n",
       "E3 - -:|> E2\r\n",
       "E5 ..> E2 : <<subject>>\r\n",
       "E5 - ->> E6 : <<objective>>\r\n",
       "E6 - -:|> E4\r\n",
       "E7 ..> E2 : <<subject>>\r\n",
       "E7 - ->> E8 : <<objective>>\r\n",
       "E9 - -:|> E5\r\n",
       "E7 *- - E9\r\n",
       "E9 - ->> E10 : <<objective>>\r\n",
       "E12 - -:|> E7\r\n",
       "E11 *- - E12\r\n",
       "E12 - ->> E13 : <<objective>>\r\n",
       "}\r\n",
       "@enduml\r\n",
       "\n",
       "PlantUML version 1.2020.13(Sat Jun 13 12:26:38 UTC 2020)\n",
       "(EPL source distribution)\n",
       "Java Runtime: OpenJDK Runtime Environment\n",
       "JVM: OpenJDK 64-Bit Server VM\n",
       "Default Encoding: UTF-8\n",
       "Language: en\n",
       "Country: null\n",
       "--></g></svg>"
      ]
     },
     "execution_count": 28,
     "metadata": {},
     "output_type": "execute_result"
    }
   ],
   "source": [
    "%viz --style=\"STDCOLOR\" --view=\"Sequence\" \"VerificationTest\""
   ]
  },
  {
   "cell_type": "code",
   "execution_count": 29,
   "id": "brazilian-puppy",
   "metadata": {
    "execution": {
     "iopub.execute_input": "2021-03-25T15:57:45.282214Z",
     "iopub.status.busy": "2021-03-25T15:57:45.280436Z",
     "iopub.status.idle": "2021-03-25T15:57:46.130216Z",
     "shell.execute_reply": "2021-03-25T15:57:46.128817Z"
    }
   },
   "outputs": [
    {
     "data": {
      "image/svg+xml": [
       "<?xml version=\"1.0\" encoding=\"UTF-8\" standalone=\"no\"?><svg xmlns=\"http://www.w3.org/2000/svg\" xmlns:xlink=\"http://www.w3.org/1999/xlink\" contentScriptType=\"application/ecmascript\" contentStyleType=\"text/css\" height=\"550px\" preserveAspectRatio=\"none\" style=\"width:793px;height:550px;\" version=\"1.1\" viewBox=\"0 0 793 550\" width=\"793px\" zoomAndPan=\"magnify\"><defs><filter height=\"300%\" id=\"f1cb1wotyalse2\" width=\"300%\" x=\"-1\" y=\"-1\"><feGaussianBlur result=\"blurOut\" stdDeviation=\"2.0\"/><feColorMatrix in=\"blurOut\" result=\"blurOut2\" type=\"matrix\" values=\"0 0 0 0 0 0 0 0 0 0 0 0 0 0 0 0 0 0 .4 0\"/><feOffset dx=\"4.0\" dy=\"4.0\" in=\"blurOut2\" result=\"blurOut3\"/><feBlend in=\"SourceGraphic\" in2=\"blurOut3\" mode=\"normal\"/></filter></defs><g><!--MD5=[fbc87193dbaf4d95561dea2c320d4a47]\n",
       "cluster E1--><polygon fill=\"#FFFFFF\" filter=\"url(#f1cb1wotyalse2)\" points=\"16,6,147,6,154,28.2969,771,28.2969,771,538,16,538,16,6\" style=\"stroke: #000000; stroke-width: 1.5;\"/><line style=\"stroke: #000000; stroke-width: 1.5;\" x1=\"16\" x2=\"154\" y1=\"28.2969\" y2=\"28.2969\"/><text fill=\"#000000\" font-family=\"sans-serif\" font-size=\"14\" font-weight=\"bold\" lengthAdjust=\"spacingAndGlyphs\" textLength=\"125\" x=\"20\" y=\"20.9951\">VerificationTest</text><!--MD5=[de5ec2e2e8f62f467e546659f5068c88]\n",
       "cluster E5--><rect fill=\"#FFFFFF\" filter=\"url(#f1cb1wotyalse2)\" height=\"329.5\" style=\"stroke: #000000; stroke-width: 1.5;\" width=\"200\" x=\"544\" y=\"74.5\"/><text fill=\"#000000\" font-family=\"sans-serif\" font-size=\"14\" font-weight=\"bold\" lengthAdjust=\"spacingAndGlyphs\" textLength=\"129\" x=\"579.5\" y=\"89.4951\">VerificationCase</text><!--MD5=[917b9dd0c7eca3ee5f47219d1a84c0ad]\n",
       "cluster E11--><rect fill=\"#FFFFFF\" filter=\"url(#f1cb1wotyalse2)\" height=\"307\" style=\"stroke: #000000; stroke-width: 1.5;\" width=\"188\" x=\"254\" y=\"207\"/><text fill=\"#000000\" font-family=\"sans-serif\" font-size=\"14\" font-weight=\"bold\" lengthAdjust=\"spacingAndGlyphs\" textLength=\"123\" x=\"286.5\" y=\"221.9951\">VerificationPlan</text><!--MD5=[b4997ac47864f28c2f74865a473b2911]\n",
       "class E2--><rect fill=\"#FEFECE\" filter=\"url(#f1cb1wotyalse2)\" height=\"58.7422\" id=\"E2\" style=\"stroke: #A80036; stroke-width: 1.5;\" width=\"71\" x=\"458.5\" y=\"177.5\"/><text fill=\"#000000\" font-family=\"sans-serif\" font-size=\"12\" font-style=\"italic\" lengthAdjust=\"spacingAndGlyphs\" textLength=\"64\" x=\"462\" y=\"193.6387\">«part def»</text><text fill=\"#000000\" font-family=\"sans-serif\" font-size=\"12\" lengthAdjust=\"spacingAndGlyphs\" textLength=\"8\" x=\"490\" y=\"207.6074\">V</text><line style=\"stroke: #A80036; stroke-width: 1.5;\" x1=\"459.5\" x2=\"528.5\" y1=\"215.4375\" y2=\"215.4375\"/><text fill=\"#000000\" font-family=\"sans-serif\" font-size=\"11\" lengthAdjust=\"spacingAndGlyphs\" textLength=\"59\" x=\"464.5\" y=\"229.6479\">m: Integer</text><!--MD5=[09b614a08d8cba4a07c9adeb5e0fee81]\n",
       "class E3--><rect fill=\"#FEFECE\" filter=\"url(#f1cb1wotyalse2)\" height=\"45.9375\" id=\"E3\" rx=\"10\" ry=\"10\" style=\"stroke: #A80036; stroke-width: 1.5;\" width=\"42\" x=\"473\" y=\"51.5\"/><text fill=\"#000000\" font-family=\"sans-serif\" font-size=\"12\" font-style=\"italic\" lengthAdjust=\"spacingAndGlyphs\" textLength=\"40\" x=\"474\" y=\"67.6387\">«part»</text><text fill=\"#000000\" font-family=\"sans-serif\" font-size=\"12\" lengthAdjust=\"spacingAndGlyphs\" textLength=\"28\" x=\"480\" y=\"81.6074\">vv: V</text><line style=\"stroke: #A80036; stroke-width: 1.5;\" x1=\"474\" x2=\"514\" y1=\"89.4375\" y2=\"89.4375\"/><!--MD5=[ebbe1d658d1005bcc118a6aa81145e00]\n",
       "class E4--><rect fill=\"#FEFECE\" filter=\"url(#f1cb1wotyalse2)\" height=\"66.7422\" id=\"E4\" style=\"stroke: #A80036; stroke-width: 1.5;\" width=\"133\" x=\"276.5\" y=\"41\"/><text fill=\"#000000\" font-family=\"sans-serif\" font-size=\"12\" font-style=\"italic\" lengthAdjust=\"spacingAndGlyphs\" textLength=\"115\" x=\"285.5\" y=\"57.1387\">«requirement def»</text><text fill=\"#000000\" font-family=\"sans-serif\" font-size=\"12\" lengthAdjust=\"spacingAndGlyphs\" textLength=\"127\" x=\"279.5\" y=\"71.1074\">VerificationObjective</text><line style=\"stroke: #A80036; stroke-width: 1.5;\" x1=\"277.5\" x2=\"408.5\" y1=\"78.9375\" y2=\"78.9375\"/><text fill=\"#000000\" font-family=\"sans-serif\" font-size=\"11\" lengthAdjust=\"spacingAndGlyphs\" textLength=\"12\" x=\"282.5\" y=\"93.1479\">...</text><line style=\"stroke: #A80036; stroke-width: 1.0;\" x1=\"277.5\" x2=\"408.5\" y1=\"99.7422\" y2=\"99.7422\"/><!--MD5=[bee11217b2f71d958a27249dc326068c]\n",
       "class E14--><rect fill=\"#FEFECE\" filter=\"url(#f1cb1wotyalse2)\" height=\"45.9375\" id=\"E14\" rx=\"10\" ry=\"10\" style=\"stroke: #A80036; stroke-width: 1.5;\" width=\"156\" x=\"57\" y=\"51.5\"/><text fill=\"#000000\" font-family=\"sans-serif\" font-size=\"12\" font-style=\"italic\" lengthAdjust=\"spacingAndGlyphs\" textLength=\"40\" x=\"115\" y=\"67.6387\">«part»</text><text fill=\"#000000\" font-family=\"sans-serif\" font-size=\"12\" lengthAdjust=\"spacingAndGlyphs\" textLength=\"150\" x=\"60\" y=\"81.6074\">verificationContext: Part</text><line style=\"stroke: #A80036; stroke-width: 1.5;\" x1=\"58\" x2=\"212\" y1=\"89.4375\" y2=\"89.4375\"/><!--MD5=[0c48fb7552dae8cbbef69381101a84c8]\n",
       "class E15--><rect fill=\"#FEFECE\" filter=\"url(#f1cb1wotyalse2)\" height=\"75.5469\" id=\"E15\" rx=\"10\" ry=\"10\" style=\"stroke: #A80036; stroke-width: 1.5;\" width=\"206\" x=\"32\" y=\"169\"/><text fill=\"#000000\" font-family=\"sans-serif\" font-size=\"12\" font-style=\"italic\" lengthAdjust=\"spacingAndGlyphs\" textLength=\"113\" x=\"78.5\" y=\"185.1387\">«verificationCase»</text><text fill=\"#000000\" font-family=\"sans-serif\" font-size=\"12\" lengthAdjust=\"spacingAndGlyphs\" textLength=\"200\" x=\"35\" y=\"199.1074\">verificationPlan: VerificationPlan</text><line style=\"stroke: #A80036; stroke-width: 1.5;\" x1=\"33\" x2=\"237\" y1=\"206.9375\" y2=\"206.9375\"/><line style=\"stroke: #000000; stroke-width: 1.0;\" x1=\"38\" x2=\"38\" y1=\"229.7422\" y2=\"238.7422\"/><polygon fill=\"#FFFF44\" points=\"41,230.7422,48,234.7422,41,238.7422\" style=\"stroke: #000000; stroke-width: 1.0;\"/><text fill=\"#000000\" font-family=\"sans-serif\" font-size=\"11\" lengthAdjust=\"spacingAndGlyphs\" textLength=\"50\" x=\"52\" y=\"237.9526\">v: V= vv;</text><text fill=\"#000000\" font-family=\"sans-serif\" font-size=\"11\" lengthAdjust=\"spacingAndGlyphs\" text-decoration=\"line-through\" textLength=\"101\" x=\"110\" y=\"237.9526\">VerificationPlan::v</text><line style=\"stroke: #A80036; stroke-width: 1.0;\" x1=\"33\" x2=\"104\" y1=\"221.3398\" y2=\"221.3398\"/><text fill=\"#000000\" font-family=\"sans-serif\" font-size=\"11\" lengthAdjust=\"spacingAndGlyphs\" textLength=\"62\" x=\"104\" y=\"224.6479\">references</text><line style=\"stroke: #A80036; stroke-width: 1.0;\" x1=\"166\" x2=\"237\" y1=\"221.3398\" y2=\"221.3398\"/><!--MD5=[35f0587eaee8d5bb9a02e25b63afc23b]\n",
       "class E16--><rect fill=\"#FEFECE\" filter=\"url(#f1cb1wotyalse2)\" height=\"45.9375\" id=\"E16\" rx=\"10\" ry=\"10\" style=\"stroke: #A80036; stroke-width: 1.5;\" width=\"151\" x=\"59.5\" y=\"322\"/><text fill=\"#000000\" font-family=\"sans-serif\" font-size=\"12\" font-style=\"italic\" lengthAdjust=\"spacingAndGlyphs\" textLength=\"91\" x=\"89.5\" y=\"338.1387\">«requirement»</text><text fill=\"#000000\" font-family=\"sans-serif\" font-size=\"12\" lengthAdjust=\"spacingAndGlyphs\" textLength=\"145\" x=\"62.5\" y=\"352.1074\">obj: RequirementCheck</text><line style=\"stroke: #A80036; stroke-width: 1.5;\" x1=\"60.5\" x2=\"209.5\" y1=\"359.9375\" y2=\"359.9375\"/><text fill=\"#000000\" font-family=\"sans-serif\" font-size=\"14\" lengthAdjust=\"spacingAndGlyphs\" textLength=\"7\" x=\"558.5\" y=\"53.1982\">v</text><rect fill=\"#A80036\" height=\"12\" style=\"stroke: #FEFECE; stroke-width: 1.5;\" width=\"12\" x=\"556\" y=\"68.5\"/><text fill=\"#000000\" font-family=\"sans-serif\" font-size=\"14\" lengthAdjust=\"spacingAndGlyphs\" textLength=\"48\" x=\"549\" y=\"422.9951\">$result</text><rect fill=\"#A80036\" height=\"12\" style=\"stroke: #FEFECE; stroke-width: 1.5;\" width=\"12\" x=\"567\" y=\"398\"/><text fill=\"#000000\" font-family=\"sans-serif\" font-size=\"14\" lengthAdjust=\"spacingAndGlyphs\" textLength=\"16\" x=\"636\" y=\"53.1982\">$x</text><rect fill=\"#A80036\" height=\"12\" style=\"stroke: #FEFECE; stroke-width: 1.5;\" width=\"12\" x=\"638\" y=\"68.5\"/><text fill=\"#000000\" font-family=\"sans-serif\" font-size=\"14\" lengthAdjust=\"spacingAndGlyphs\" textLength=\"16\" x=\"718\" y=\"53.1982\">$y</text><rect fill=\"#A80036\" height=\"12\" style=\"stroke: #FEFECE; stroke-width: 1.5;\" width=\"12\" x=\"720\" y=\"68.5\"/><text fill=\"#000000\" font-family=\"sans-serif\" font-size=\"14\" lengthAdjust=\"spacingAndGlyphs\" textLength=\"48\" x=\"631\" y=\"422.9951\">$result</text><rect fill=\"#A80036\" height=\"12\" style=\"stroke: #FEFECE; stroke-width: 1.5;\" width=\"12\" x=\"649\" y=\"398\"/><text fill=\"#000000\" font-family=\"sans-serif\" font-size=\"14\" lengthAdjust=\"spacingAndGlyphs\" textLength=\"7\" x=\"344.5\" y=\"185.6982\">v</text><rect fill=\"#A80036\" height=\"12\" style=\"stroke: #FEFECE; stroke-width: 1.5;\" width=\"12\" x=\"342\" y=\"201\"/><g id=\"E1.E11.E13\"><rect fill=\"#FFFFFF\" filter=\"url(#f1cb1wotyalse2)\" height=\"50\" rx=\"12.5\" ry=\"12.5\" style=\"stroke: #A80036; stroke-width: 1.5;\" width=\"128\" x=\"284\" y=\"440\"/><line style=\"stroke: #A80036; stroke-width: 1.5;\" x1=\"284\" x2=\"412\" y1=\"466.2969\" y2=\"466.2969\"/><text fill=\"#000000\" font-family=\"sans-serif\" font-size=\"14\" lengthAdjust=\"spacingAndGlyphs\" textLength=\"108\" x=\"294\" y=\"457.9951\">verificationCase</text></g><!--MD5=[05d275557350bfb9b23a4ef7222b4c39]\n",
       "link E3 to E2--><path d=\"M494,97.64 C494,113.94 494,136.73 494,157.21 \" fill=\"none\" id=\"E3-&gt;E2\" style=\"stroke: #A80036; stroke-width: 1.0;\"/><polygon fill=\"#FFFFFF\" points=\"494,177.35,487,158.35,501,158.35,494,177.35\" style=\"stroke: #A80036; stroke-width: 1.0;\"/><ellipse cx=\"489\" cy=\"152.65\" fill=\"#A80036\" rx=\"2\" ry=\"2\" style=\"stroke: #A80036; stroke-width: 1.0;\"/><ellipse cx=\"499\" cy=\"152.65\" fill=\"#A80036\" rx=\"2\" ry=\"2\" style=\"stroke: #A80036; stroke-width: 1.0;\"/><!--MD5=[cf04703ca05eebef50f1cfe8b03e143b]\n",
       "link E9 to E7--><path d=\"M727.59,80.61 C735.04,105.53 764.59,216.33 726,292 C693.2,356.32 603.78,392.07 579.28,400.85 \" fill=\"none\" id=\"E9-E7\" style=\"stroke: #FF0000; stroke-width: 5.0;\"/><!--MD5=[58d440dfd4c930e286431b4800d1b487]\n",
       "link E15 to E11--><path d=\"M193.2,245.16 C205.2725,252.8675 218.395,261.2456 231.7231,269.7553 C238.3872,274.0102 245.1027,278.2979 251.764,282.5511 C252.1803,282.817 252.5964,283.0827 253.0123,283.3482 C253.2203,283.481 253.4281,283.6137 253.636,283.7464 \" fill=\"none\" id=\"E15-&gt;E11\" style=\"stroke: #A80036; stroke-width: 1.0;\"/><polygon fill=\"#FFFFFF\" points=\"253.636,283.7464,233.8548,279.4213,241.389,267.6215,253.636,283.7464\" style=\"stroke: #A80036; stroke-width: 1.0;\"/><ellipse cx=\"230.1269\" cy=\"274.6682\" fill=\"#A80036\" rx=\"2\" ry=\"2\" style=\"stroke: #A80036; stroke-width: 1.0;\"/><ellipse cx=\"235.5085\" cy=\"266.2397\" fill=\"#A80036\" rx=\"2\" ry=\"2\" style=\"stroke: #A80036; stroke-width: 1.0;\"/><!--MD5=[17bf29720e4688890742b92d9a67fdf0]\n",
       "reverse link E14 to E15--><path d=\"M135,110.8 C135,128.79 135,150.66 135,168.9 \" fill=\"none\" id=\"E14&lt;-E15\" style=\"stroke: #A80036; stroke-width: 1.0;\"/><polygon fill=\"#A80036\" points=\"135,97.64,131,103.64,135,109.64,139,103.64,135,97.64\" style=\"stroke: #A80036; stroke-width: 1.0;\"/><!--MD5=[f8b155c46b092be73bb522b0a8fc72a2]\n",
       "link E15 to E16--><path d=\"M135,245.16 C135,266.63 135,293.31 135,313.53 \" fill=\"none\" id=\"E15-&gt;E16\" style=\"stroke: #A80036; stroke-width: 1.0;\"/><polygon fill=\"#A80036\" points=\"135,321.77,138,313.77,132,313.77,135,321.77\" style=\"stroke: #A80036; stroke-width: 1.0;\"/><text fill=\"#000000\" font-family=\"sans-serif\" font-size=\"13\" lengthAdjust=\"spacingAndGlyphs\" textLength=\"73\" x=\"136\" y=\"288.0669\">«objective»</text><!--MD5=[85e642a472cea03815a4e993bdc819fb]\n",
       "@startuml\r\n",
       "skinparam wrapWidth 300\r\n",
       "hide circle\r\n",
       "\r\n",
       "package \"VerificationTest\" as E1   {\r\n",
       "comp def \"V\" as E2  <<(T,blue)part def>> {\r\n",
       "m: Integer\r\n",
       "}\r\n",
       "comp usage \"vv: V\" as E3  <<(T,blue)part>> {\r\n",
       "}\r\n",
       "comp def \"VerificationObjective\" as E4  <<(T,blue)requirement def>> {\r\n",
       "...\r\n",
       "- -\r\n",
       "}\r\n",
       "rec def \"VerificationCase\" as E5 {\r\n",
       "portin \"v\" as E6  \r\n",
       "portout \"$result\" as E7  \r\n",
       "portin \"$x\" as E8  \r\n",
       "portin \"$y\" as E9  \r\n",
       "portout \"$result\" as E10  \r\n",
       "}\r\n",
       "\r\n",
       "rec def \"VerificationPlan\" as E11 {\r\n",
       "portin \"v\" as E12  \r\n",
       "rec usage \"verificationCase\" as E13 {\r\n",
       "}\r\n",
       "\r\n",
       "}\r\n",
       "\r\n",
       "comp usage \"verificationContext: Part\" as E14  <<(T,blue)part>> {\r\n",
       "}\r\n",
       "comp usage \"verificationPlan: VerificationPlan\" as E15  <<(T,blue)verificationCase>> {\r\n",
       "- -references- -\r\n",
       ">v: V= vv;  <s>VerificationPlan::v</s>\r\n",
       "}\r\n",
       "comp usage \"obj: RequirementCheck\" as E16  <<(T,blue)requirement>> {\r\n",
       "}\r\n",
       "E3 - -:|> E2\r\n",
       "E9 -[thickness=5,#red]- E7\r\n",
       "E15 - -:|> E11\r\n",
       "E14 *- - E15\r\n",
       "E15 - ->> E16 : <<objective>>\r\n",
       "}\r\n",
       "@enduml\r\n",
       "\n",
       "PlantUML version 1.2020.13(Sat Jun 13 12:26:38 UTC 2020)\n",
       "(EPL source distribution)\n",
       "Java Runtime: OpenJDK Runtime Environment\n",
       "JVM: OpenJDK 64-Bit Server VM\n",
       "Default Encoding: UTF-8\n",
       "Language: en\n",
       "Country: null\n",
       "--></g></svg>"
      ]
     },
     "execution_count": 29,
     "metadata": {},
     "output_type": "execute_result"
    }
   ],
   "source": [
    "%viz --style=\"STDCOLOR\" --view=\"MIXED\" \"VerificationTest\""
   ]
  },
  {
   "cell_type": "code",
   "execution_count": 30,
   "id": "vocal-carter",
   "metadata": {
    "execution": {
     "iopub.execute_input": "2021-03-25T15:57:46.178571Z",
     "iopub.status.busy": "2021-03-25T15:57:46.177815Z",
     "iopub.status.idle": "2021-03-25T15:57:47.079943Z",
     "shell.execute_reply": "2021-03-25T15:57:47.078004Z"
    }
   },
   "outputs": [
    {
     "data": {
      "image/svg+xml": [
       "<?xml version=\"1.0\" encoding=\"UTF-8\" standalone=\"no\"?><svg xmlns=\"http://www.w3.org/2000/svg\" xmlns:xlink=\"http://www.w3.org/1999/xlink\" contentScriptType=\"application/ecmascript\" contentStyleType=\"text/css\" height=\"562px\" preserveAspectRatio=\"none\" style=\"width:819px;height:562px;\" version=\"1.1\" viewBox=\"0 0 819 562\" width=\"819px\" zoomAndPan=\"magnify\"><defs><filter height=\"300%\" id=\"f1jlua6il1oge3\" width=\"300%\" x=\"-1\" y=\"-1\"><feGaussianBlur result=\"blurOut\" stdDeviation=\"2.0\"/><feColorMatrix in=\"blurOut\" result=\"blurOut2\" type=\"matrix\" values=\"0 0 0 0 0 0 0 0 0 0 0 0 0 0 0 0 0 0 .4 0\"/><feOffset dx=\"4.0\" dy=\"4.0\" in=\"blurOut2\" result=\"blurOut3\"/><feBlend in=\"SourceGraphic\" in2=\"blurOut3\" mode=\"normal\"/></filter></defs><g><!--MD5=[fbc87193dbaf4d95561dea2c320d4a47]\n",
       "cluster E1--><polygon fill=\"#FFFFFF\" filter=\"url(#f1jlua6il1oge3)\" points=\"16,6,147,6,154,28.2969,797,28.2969,797,550,16,550,16,6\" style=\"stroke: #000000; stroke-width: 1.5;\"/><line style=\"stroke: #000000; stroke-width: 1.5;\" x1=\"16\" x2=\"154\" y1=\"28.2969\" y2=\"28.2969\"/><text fill=\"#000000\" font-family=\"sans-serif\" font-size=\"14\" font-weight=\"bold\" lengthAdjust=\"spacingAndGlyphs\" textLength=\"125\" x=\"20\" y=\"20.9951\">VerificationTest</text><!--MD5=[de5ec2e2e8f62f467e546659f5068c88]\n",
       "cluster E5--><rect fill=\"#FFFFFF\" filter=\"url(#f1jlua6il1oge3)\" height=\"341.5\" style=\"stroke: #000000; stroke-width: 1.5;\" width=\"200\" x=\"573\" y=\"74.5\"/><text fill=\"#000000\" font-family=\"sans-serif\" font-size=\"14\" font-weight=\"bold\" lengthAdjust=\"spacingAndGlyphs\" textLength=\"129\" x=\"608.5\" y=\"89.4951\">VerificationCase</text><!--MD5=[917b9dd0c7eca3ee5f47219d1a84c0ad]\n",
       "cluster E11--><rect fill=\"#FFFFFF\" filter=\"url(#f1jlua6il1oge3)\" height=\"313\" style=\"stroke: #000000; stroke-width: 1.5;\" width=\"188\" x=\"280\" y=\"213\"/><text fill=\"#000000\" font-family=\"sans-serif\" font-size=\"14\" font-weight=\"bold\" lengthAdjust=\"spacingAndGlyphs\" textLength=\"123\" x=\"312.5\" y=\"227.9951\">VerificationPlan</text><!--MD5=[b4997ac47864f28c2f74865a473b2911]\n",
       "class E2--><rect fill=\"#FEFECE\" filter=\"url(#f1jlua6il1oge3)\" height=\"52.8047\" id=\"E2\" style=\"stroke: #A80036; stroke-width: 1.5;\" width=\"71\" x=\"484.5\" y=\"186.5\"/><ellipse cx=\"513.45\" cy=\"202.5\" fill=\"#008000\" rx=\"11\" ry=\"11\" style=\"stroke: #A80036; stroke-width: 1.0;\"/><path d=\"M512.3563,202.875 L512.3563,206.5469 L513.9813,206.5469 Q515.1531,206.5469 515.6219,206.1563 Q516.0906,205.75 516.0906,204.75 Q516.0906,203.75 515.5906,203.3125 Q515.1063,202.875 513.9813,202.875 L512.3563,202.875 Z M512.3563,198.0469 L512.3563,200.9219 L513.9813,200.9219 Q514.9031,200.9219 515.2938,200.5938 Q515.7,200.25 515.7,199.5 Q515.7,198.7344 515.2938,198.3906 Q514.8875,198.0469 513.9813,198.0469 L512.3563,198.0469 Z M509.9813,196.0938 L513.9813,196.0938 Q516.0438,196.0938 517.0906,196.875 Q518.1375,197.6563 518.1375,199.2188 Q518.1375,200.4219 517.5125,201.0938 Q516.9031,201.7656 515.7156,201.875 Q517.1375,202.0156 517.8563,202.8281 Q518.575,203.6406 518.575,205.0938 Q518.575,206.8906 517.4969,207.7031 Q516.4188,208.5 513.9813,208.5 L509.9813,208.5 L509.9813,196.0938 Z \"/><text fill=\"#000000\" font-family=\"sans-serif\" font-size=\"12\" lengthAdjust=\"spacingAndGlyphs\" textLength=\"8\" x=\"530.55\" y=\"206.6543\">V</text><line style=\"stroke: #A80036; stroke-width: 1.5;\" x1=\"485.5\" x2=\"554.5\" y1=\"218.5\" y2=\"218.5\"/><text fill=\"#000000\" font-family=\"sans-serif\" font-size=\"11\" lengthAdjust=\"spacingAndGlyphs\" textLength=\"59\" x=\"490.5\" y=\"232.7104\">m: Integer</text><!--MD5=[09b614a08d8cba4a07c9adeb5e0fee81]\n",
       "class E3--><rect fill=\"#FEFECE\" filter=\"url(#f1jlua6il1oge3)\" height=\"45.9375\" id=\"E3\" rx=\"10\" ry=\"10\" style=\"stroke: #A80036; stroke-width: 1.5;\" width=\"68\" x=\"482\" y=\"51.5\"/><ellipse cx=\"497\" cy=\"70.4688\" fill=\"#32CD32\" rx=\"11\" ry=\"11\" style=\"stroke: #A80036; stroke-width: 1.0;\"/><path d=\"M496.7969,66.1406 L496.7969,69.7656 L497.7969,69.7656 Q499,69.7656 499.4844,69.3594 Q499.9688,68.9531 499.9688,67.9531 Q499.9688,66.9531 499.4844,66.5469 Q499,66.1406 497.7969,66.1406 L496.7969,66.1406 Z M494.3438,64.0781 L497.7031,64.0781 Q500.2656,64.0781 501.3906,65 Q502.5156,65.9063 502.5156,67.9531 Q502.5156,70 501.3906,70.9219 Q500.2656,71.8281 497.7031,71.8281 L496.7969,71.8281 L496.7969,76.4688 L494.3438,76.4688 L494.3438,64.0781 Z \"/><text fill=\"#000000\" font-family=\"sans-serif\" font-size=\"12\" font-style=\"italic\" lengthAdjust=\"spacingAndGlyphs\" textLength=\"40\" x=\"509\" y=\"67.6387\">«part»</text><text fill=\"#000000\" font-family=\"sans-serif\" font-size=\"12\" lengthAdjust=\"spacingAndGlyphs\" textLength=\"28\" x=\"515\" y=\"81.6074\">vv: V</text><line style=\"stroke: #A80036; stroke-width: 1.5;\" x1=\"483\" x2=\"549\" y1=\"89.4375\" y2=\"89.4375\"/><!--MD5=[ebbe1d658d1005bcc118a6aa81145e00]\n",
       "class E4--><rect fill=\"#FEFECE\" filter=\"url(#f1jlua6il1oge3)\" height=\"66.7422\" id=\"E4\" style=\"stroke: #A80036; stroke-width: 1.5;\" width=\"159\" x=\"282.5\" y=\"41\"/><ellipse cx=\"297.5\" cy=\"59.9688\" fill=\"#A52A2A\" rx=\"11\" ry=\"11\" style=\"stroke: #A80036; stroke-width: 1.0;\"/><path d=\"M297.0938,55.7813 L297.0938,63.7656 L297.75,63.7656 Q299.1875,63.7656 299.7969,62.8594 Q300.4219,61.9375 300.4219,59.7656 Q300.4219,57.5938 299.7969,56.6875 Q299.1875,55.7813 297.75,55.7813 L297.0938,55.7813 Z M294.6406,53.5781 L297.2656,53.5781 Q300.2969,53.5781 301.625,55.0313 Q302.9688,56.4688 302.9688,59.7656 Q302.9688,63.0625 301.625,64.5156 Q300.2969,65.9688 297.2656,65.9688 L294.6406,65.9688 L294.6406,53.5781 Z \"/><text fill=\"#000000\" font-family=\"sans-serif\" font-size=\"12\" font-style=\"italic\" lengthAdjust=\"spacingAndGlyphs\" textLength=\"115\" x=\"317.5\" y=\"57.1387\">«requirement def»</text><text fill=\"#000000\" font-family=\"sans-serif\" font-size=\"12\" lengthAdjust=\"spacingAndGlyphs\" textLength=\"127\" x=\"311.5\" y=\"71.1074\">VerificationObjective</text><line style=\"stroke: #A80036; stroke-width: 1.5;\" x1=\"283.5\" x2=\"440.5\" y1=\"78.9375\" y2=\"78.9375\"/><text fill=\"#000000\" font-family=\"sans-serif\" font-size=\"11\" lengthAdjust=\"spacingAndGlyphs\" textLength=\"12\" x=\"288.5\" y=\"93.1479\">...</text><line style=\"stroke: #A80036; stroke-width: 1.0;\" x1=\"283.5\" x2=\"440.5\" y1=\"99.7422\" y2=\"99.7422\"/><!--MD5=[bee11217b2f71d958a27249dc326068c]\n",
       "class E14--><rect fill=\"#FEFECE\" filter=\"url(#f1jlua6il1oge3)\" height=\"45.9375\" id=\"E14\" rx=\"10\" ry=\"10\" style=\"stroke: #A80036; stroke-width: 1.5;\" width=\"182\" x=\"57\" y=\"51.5\"/><ellipse cx=\"72\" cy=\"70.4688\" fill=\"#32CD32\" rx=\"11\" ry=\"11\" style=\"stroke: #A80036; stroke-width: 1.0;\"/><path d=\"M71.7969,66.1406 L71.7969,69.7656 L72.7969,69.7656 Q74,69.7656 74.4844,69.3594 Q74.9688,68.9531 74.9688,67.9531 Q74.9688,66.9531 74.4844,66.5469 Q74,66.1406 72.7969,66.1406 L71.7969,66.1406 Z M69.3438,64.0781 L72.7031,64.0781 Q75.2656,64.0781 76.3906,65 Q77.5156,65.9063 77.5156,67.9531 Q77.5156,70 76.3906,70.9219 Q75.2656,71.8281 72.7031,71.8281 L71.7969,71.8281 L71.7969,76.4688 L69.3438,76.4688 L69.3438,64.0781 Z \"/><text fill=\"#000000\" font-family=\"sans-serif\" font-size=\"12\" font-style=\"italic\" lengthAdjust=\"spacingAndGlyphs\" textLength=\"40\" x=\"141\" y=\"67.6387\">«part»</text><text fill=\"#000000\" font-family=\"sans-serif\" font-size=\"12\" lengthAdjust=\"spacingAndGlyphs\" textLength=\"150\" x=\"86\" y=\"81.6074\">verificationContext: Part</text><line style=\"stroke: #A80036; stroke-width: 1.5;\" x1=\"58\" x2=\"238\" y1=\"89.4375\" y2=\"89.4375\"/><!--MD5=[0c48fb7552dae8cbbef69381101a84c8]\n",
       "class E15--><rect fill=\"#FEFECE\" filter=\"url(#f1jlua6il1oge3)\" height=\"88.3516\" id=\"E15\" rx=\"10\" ry=\"10\" style=\"stroke: #A80036; stroke-width: 1.5;\" width=\"232\" x=\"32\" y=\"169\"/><ellipse cx=\"47\" cy=\"187.9688\" fill=\"#FFA500\" rx=\"11\" ry=\"11\" style=\"stroke: #A80036; stroke-width: 1.0;\"/><path d=\"M42.875,189.8906 L42.875,182.0781 L45.3281,182.0781 L45.3281,190.5156 Q45.3281,191.4375 45.7969,191.9688 Q46.2813,192.5 47.1094,192.5 Q47.9531,192.5 48.4219,191.9688 Q48.8906,191.4375 48.8906,190.5156 L48.8906,182.0781 L51.3438,182.0781 L51.3438,189.8906 Q51.3438,192.4219 50.3438,193.5625 Q49.3438,194.7031 47.1094,194.7031 Q44.8906,194.7031 43.875,193.5625 Q42.875,192.4219 42.875,189.8906 Z \"/><text fill=\"#000000\" font-family=\"sans-serif\" font-size=\"12\" font-style=\"italic\" lengthAdjust=\"spacingAndGlyphs\" textLength=\"113\" x=\"104.5\" y=\"185.1387\">«verificationCase»</text><text fill=\"#000000\" font-family=\"sans-serif\" font-size=\"12\" lengthAdjust=\"spacingAndGlyphs\" textLength=\"200\" x=\"61\" y=\"199.1074\">verificationPlan: VerificationPlan</text><line style=\"stroke: #A80036; stroke-width: 1.5;\" x1=\"33\" x2=\"263\" y1=\"206.9375\" y2=\"206.9375\"/><text fill=\"#000000\" font-family=\"sans-serif\" font-size=\"11\" lengthAdjust=\"spacingAndGlyphs\" textLength=\"50\" x=\"38\" y=\"237.9526\">v: V= vv;</text><text fill=\"#000000\" font-family=\"sans-serif\" font-size=\"11\" font-style=\"italic\" lengthAdjust=\"spacingAndGlyphs\" textLength=\"123\" x=\"38\" y=\"250.7573\">:&gt;&gt;VerificationPlan::v</text><line style=\"stroke: #A80036; stroke-width: 1.0;\" x1=\"33\" x2=\"117\" y1=\"221.3398\" y2=\"221.3398\"/><text fill=\"#000000\" font-family=\"sans-serif\" font-size=\"11\" lengthAdjust=\"spacingAndGlyphs\" textLength=\"62\" x=\"117\" y=\"224.6479\">references</text><line style=\"stroke: #A80036; stroke-width: 1.0;\" x1=\"179\" x2=\"263\" y1=\"221.3398\" y2=\"221.3398\"/><!--MD5=[35f0587eaee8d5bb9a02e25b63afc23b]\n",
       "class E16--><rect fill=\"#FEFECE\" filter=\"url(#f1jlua6il1oge3)\" height=\"45.9375\" id=\"E16\" rx=\"10\" ry=\"10\" style=\"stroke: #A80036; stroke-width: 1.5;\" width=\"177\" x=\"59.5\" y=\"334\"/><ellipse cx=\"74.5\" cy=\"352.9688\" fill=\"#FFA500\" rx=\"11\" ry=\"11\" style=\"stroke: #A80036; stroke-width: 1.0;\"/><path d=\"M70.375,354.8906 L70.375,347.0781 L72.8281,347.0781 L72.8281,355.5156 Q72.8281,356.4375 73.2969,356.9688 Q73.7813,357.5 74.6094,357.5 Q75.4531,357.5 75.9219,356.9688 Q76.3906,356.4375 76.3906,355.5156 L76.3906,347.0781 L78.8438,347.0781 L78.8438,354.8906 Q78.8438,357.4219 77.8438,358.5625 Q76.8438,359.7031 74.6094,359.7031 Q72.3906,359.7031 71.375,358.5625 Q70.375,357.4219 70.375,354.8906 Z \"/><text fill=\"#000000\" font-family=\"sans-serif\" font-size=\"12\" font-style=\"italic\" lengthAdjust=\"spacingAndGlyphs\" textLength=\"91\" x=\"115.5\" y=\"350.1387\">«requirement»</text><text fill=\"#000000\" font-family=\"sans-serif\" font-size=\"12\" lengthAdjust=\"spacingAndGlyphs\" textLength=\"145\" x=\"88.5\" y=\"364.1074\">obj: RequirementCheck</text><line style=\"stroke: #A80036; stroke-width: 1.5;\" x1=\"60.5\" x2=\"235.5\" y1=\"371.9375\" y2=\"371.9375\"/><text fill=\"#000000\" font-family=\"sans-serif\" font-size=\"14\" lengthAdjust=\"spacingAndGlyphs\" textLength=\"7\" x=\"587.5\" y=\"53.1982\">v</text><rect fill=\"#A80036\" height=\"12\" style=\"stroke: #FEFECE; stroke-width: 1.5;\" width=\"12\" x=\"585\" y=\"68.5\"/><text fill=\"#000000\" font-family=\"sans-serif\" font-size=\"14\" lengthAdjust=\"spacingAndGlyphs\" textLength=\"48\" x=\"575\" y=\"434.9951\">$result</text><rect fill=\"#A80036\" height=\"12\" style=\"stroke: #FEFECE; stroke-width: 1.5;\" width=\"12\" x=\"593\" y=\"410\"/><text fill=\"#000000\" font-family=\"sans-serif\" font-size=\"14\" lengthAdjust=\"spacingAndGlyphs\" textLength=\"16\" x=\"665\" y=\"53.1982\">$x</text><rect fill=\"#A80036\" height=\"12\" style=\"stroke: #FEFECE; stroke-width: 1.5;\" width=\"12\" x=\"667\" y=\"68.5\"/><text fill=\"#000000\" font-family=\"sans-serif\" font-size=\"14\" lengthAdjust=\"spacingAndGlyphs\" textLength=\"16\" x=\"747\" y=\"53.1982\">$y</text><rect fill=\"#A80036\" height=\"12\" style=\"stroke: #FEFECE; stroke-width: 1.5;\" width=\"12\" x=\"749\" y=\"68.5\"/><text fill=\"#000000\" font-family=\"sans-serif\" font-size=\"14\" lengthAdjust=\"spacingAndGlyphs\" textLength=\"48\" x=\"657\" y=\"434.9951\">$result</text><rect fill=\"#A80036\" height=\"12\" style=\"stroke: #FEFECE; stroke-width: 1.5;\" width=\"12\" x=\"675\" y=\"410\"/><text fill=\"#000000\" font-family=\"sans-serif\" font-size=\"14\" lengthAdjust=\"spacingAndGlyphs\" textLength=\"7\" x=\"370.5\" y=\"191.6982\">v</text><rect fill=\"#A80036\" height=\"12\" style=\"stroke: #FEFECE; stroke-width: 1.5;\" width=\"12\" x=\"368\" y=\"207\"/><g id=\"E1.E11.E13\"><rect fill=\"#FFFFFF\" filter=\"url(#f1jlua6il1oge3)\" height=\"50\" rx=\"12.5\" ry=\"12.5\" style=\"stroke: #A80036; stroke-width: 1.5;\" width=\"128\" x=\"310\" y=\"452\"/><line style=\"stroke: #A80036; stroke-width: 1.5;\" x1=\"310\" x2=\"438\" y1=\"478.2969\" y2=\"478.2969\"/><text fill=\"#000000\" font-family=\"sans-serif\" font-size=\"14\" lengthAdjust=\"spacingAndGlyphs\" textLength=\"108\" x=\"320\" y=\"469.9951\">verificationCase</text></g><!--MD5=[05d275557350bfb9b23a4ef7222b4c39]\n",
       "link E3 to E2--><path d=\"M516.65,97.73 C517.19,116.15 517.98,142.93 518.65,165.93 \" fill=\"none\" id=\"E3-&gt;E2\" style=\"stroke: #A80036; stroke-width: 1.0;\"/><polygon fill=\"#FFFFFF\" points=\"519.24,186.04,511.6864,167.2532,525.6804,166.8431,519.24,186.04\" style=\"stroke: #A80036; stroke-width: 1.0;\"/><ellipse cx=\"513.5186\" cy=\"161.4971\" fill=\"#A80036\" rx=\"2\" ry=\"2\" style=\"stroke: #A80036; stroke-width: 1.0;\"/><ellipse cx=\"523.5143\" cy=\"161.2041\" fill=\"#A80036\" rx=\"2\" ry=\"2\" style=\"stroke: #A80036; stroke-width: 1.0;\"/><!--MD5=[cf04703ca05eebef50f1cfe8b03e143b]\n",
       "link E9 to E7--><path d=\"M756.49,80.55 C763.75,106.22 793.44,224.04 752,304 C718.78,368.1 629.66,404 605.26,412.83 \" fill=\"none\" id=\"E9-E7\" style=\"stroke: #FF0000; stroke-width: 5.0;\"/><!--MD5=[58d440dfd4c930e286431b4800d1b487]\n",
       "link E15 to E11--><path d=\"M216.73,257.18 C229.39,265.1375 242.9319,273.6475 256.5605,282.2111 C263.3748,286.4929 270.2107,290.7881 276.969,295.0343 C277.8138,295.5651 278.6574,296.0951 279.4995,296.6242 \" fill=\"none\" id=\"E15-&gt;E11\" style=\"stroke: #A80036; stroke-width: 1.0;\"/><polygon fill=\"#FFFFFF\" points=\"279.4995,296.6242,259.6874,292.4433,267.1355,280.589,279.4995,296.6242\" style=\"stroke: #A80036; stroke-width: 1.0;\"/><ellipse cx=\"255.925\" cy=\"287.7174\" fill=\"#A80036\" rx=\"2\" ry=\"2\" style=\"stroke: #A80036; stroke-width: 1.0;\"/><ellipse cx=\"261.245\" cy=\"279.25\" fill=\"#A80036\" rx=\"2\" ry=\"2\" style=\"stroke: #A80036; stroke-width: 1.0;\"/><!--MD5=[17bf29720e4688890742b92d9a67fdf0]\n",
       "reverse link E14 to E15--><path d=\"M148,110.96 C148,128.64 148,150.18 148,168.81 \" fill=\"none\" id=\"E14&lt;-E15\" style=\"stroke: #A80036; stroke-width: 1.0;\"/><polygon fill=\"#A80036\" points=\"148,97.73,144,103.73,148,109.73,152,103.73,148,97.73\" style=\"stroke: #A80036; stroke-width: 1.0;\"/><!--MD5=[f8b155c46b092be73bb522b0a8fc72a2]\n",
       "link E15 to E16--><path d=\"M148,257.38 C148,279.5 148,305.86 148,325.76 \" fill=\"none\" id=\"E15-&gt;E16\" style=\"stroke: #A80036; stroke-width: 1.0;\"/><polygon fill=\"#A80036\" points=\"148,333.87,151,325.87,145,325.87,148,333.87\" style=\"stroke: #A80036; stroke-width: 1.0;\"/><text fill=\"#000000\" font-family=\"sans-serif\" font-size=\"13\" lengthAdjust=\"spacingAndGlyphs\" textLength=\"73\" x=\"149\" y=\"300.0669\">«objective»</text><!--MD5=[5a297d3a7b4214cc18e64cd9736a363e]\n",
       "@startuml\r\n",
       " \r\n",
       "package \"VerificationTest\" as E1   {\r\n",
       "comp def \"V\" as E2  << (B,green) >> {\r\n",
       "m: Integer\r\n",
       "}\r\n",
       "comp usage \"vv: V\" as E3  << (P,limegreen) part>> {\r\n",
       "}\r\n",
       "comp def \"VerificationObjective\" as E4  <<(D,brown)requirement def>> {\r\n",
       "...\r\n",
       "- -\r\n",
       "}\r\n",
       "rec def \"VerificationCase\" as E5 {\r\n",
       "portin \"v\" as E6  \r\n",
       "portout \"$result\" as E7  \r\n",
       "portin \"$x\" as E8  \r\n",
       "portin \"$y\" as E9  \r\n",
       "portout \"$result\" as E10  \r\n",
       "}\r\n",
       "\r\n",
       "rec def \"VerificationPlan\" as E11 {\r\n",
       "portin \"v\" as E12  \r\n",
       "rec usage \"verificationCase\" as E13 {\r\n",
       "}\r\n",
       "\r\n",
       "}\r\n",
       "\r\n",
       "comp usage \"verificationContext: Part\" as E14  << (P,limegreen) part>> {\r\n",
       "}\r\n",
       "comp usage \"verificationPlan: VerificationPlan\" as E15  <<(U,orange)verificationCase>> {\r\n",
       "- -references- -\r\n",
       "v: V= vv; \\n//:>>VerificationPlan::v// \r\n",
       "}\r\n",
       "comp usage \"obj: RequirementCheck\" as E16  <<(U,orange)requirement>> {\r\n",
       "}\r\n",
       "E3 - -:|> E2\r\n",
       "E9 -[thickness=5,#red]- E7\r\n",
       "E15 - -:|> E11\r\n",
       "E14 *- - E15\r\n",
       "E15 - ->> E16 : <<objective>>\r\n",
       "}\r\n",
       "@enduml\r\n",
       "\n",
       "PlantUML version 1.2020.13(Sat Jun 13 12:26:38 UTC 2020)\n",
       "(EPL source distribution)\n",
       "Java Runtime: OpenJDK Runtime Environment\n",
       "JVM: OpenJDK 64-Bit Server VM\n",
       "Default Encoding: UTF-8\n",
       "Language: en\n",
       "Country: null\n",
       "--></g></svg>"
      ]
     },
     "execution_count": 30,
     "metadata": {},
     "output_type": "execute_result"
    }
   ],
   "source": [
    "%viz --style=\"PLANTUML\" --view=\"Default\" \"VerificationTest\""
   ]
  },
  {
   "cell_type": "code",
   "execution_count": 31,
   "id": "original-shelf",
   "metadata": {
    "execution": {
     "iopub.execute_input": "2021-03-25T15:57:47.129273Z",
     "iopub.status.busy": "2021-03-25T15:57:47.128858Z",
     "iopub.status.idle": "2021-03-25T15:57:48.843416Z",
     "shell.execute_reply": "2021-03-25T15:57:48.840339Z"
    }
   },
   "outputs": [
    {
     "data": {
      "image/svg+xml": [
       "<?xml version=\"1.0\" encoding=\"UTF-8\" standalone=\"no\"?><svg xmlns=\"http://www.w3.org/2000/svg\" xmlns:xlink=\"http://www.w3.org/1999/xlink\" contentScriptType=\"application/ecmascript\" contentStyleType=\"text/css\" height=\"947px\" preserveAspectRatio=\"none\" style=\"width:597px;height:947px;\" version=\"1.1\" viewBox=\"0 0 597 947\" width=\"597px\" zoomAndPan=\"magnify\"><defs><filter height=\"300%\" id=\"f1hznvzx2ko2hi\" width=\"300%\" x=\"-1\" y=\"-1\"><feGaussianBlur result=\"blurOut\" stdDeviation=\"2.0\"/><feColorMatrix in=\"blurOut\" result=\"blurOut2\" type=\"matrix\" values=\"0 0 0 0 0 0 0 0 0 0 0 0 0 0 0 0 0 0 .4 0\"/><feOffset dx=\"4.0\" dy=\"4.0\" in=\"blurOut2\" result=\"blurOut3\"/><feBlend in=\"SourceGraphic\" in2=\"blurOut3\" mode=\"normal\"/></filter></defs><g><!--MD5=[fbc87193dbaf4d95561dea2c320d4a47]\n",
       "cluster E1--><polygon fill=\"#FFFFFF\" filter=\"url(#f1hznvzx2ko2hi)\" points=\"16,6,147,6,154,28.2969,575,28.2969,575,935,16,935,16,6\" style=\"stroke: #000000; stroke-width: 1.5;\"/><line style=\"stroke: #000000; stroke-width: 1.5;\" x1=\"16\" x2=\"154\" y1=\"28.2969\" y2=\"28.2969\"/><text fill=\"#000000\" font-family=\"sans-serif\" font-size=\"14\" font-weight=\"bold\" lengthAdjust=\"spacingAndGlyphs\" textLength=\"125\" x=\"20\" y=\"20.9951\">VerificationTest</text><!--MD5=[b4997ac47864f28c2f74865a473b2911]\n",
       "class E2--><rect fill=\"#FEFECE\" filter=\"url(#f1hznvzx2ko2hi)\" height=\"52.8047\" id=\"E2\" style=\"stroke: #A80036; stroke-width: 1.5;\" width=\"71\" x=\"266.5\" y=\"720.5\"/><ellipse cx=\"295.45\" cy=\"736.5\" fill=\"#008000\" rx=\"11\" ry=\"11\" style=\"stroke: #A80036; stroke-width: 1.0;\"/><path d=\"M294.3563,736.875 L294.3563,740.5469 L295.9813,740.5469 Q297.1531,740.5469 297.6219,740.1563 Q298.0906,739.75 298.0906,738.75 Q298.0906,737.75 297.5906,737.3125 Q297.1063,736.875 295.9813,736.875 L294.3563,736.875 Z M294.3563,732.0469 L294.3563,734.9219 L295.9813,734.9219 Q296.9031,734.9219 297.2938,734.5938 Q297.7,734.25 297.7,733.5 Q297.7,732.7344 297.2938,732.3906 Q296.8875,732.0469 295.9813,732.0469 L294.3563,732.0469 Z M291.9813,730.0938 L295.9813,730.0938 Q298.0438,730.0938 299.0906,730.875 Q300.1375,731.6563 300.1375,733.2188 Q300.1375,734.4219 299.5125,735.0938 Q298.9031,735.7656 297.7156,735.875 Q299.1375,736.0156 299.8563,736.8281 Q300.575,737.6406 300.575,739.0938 Q300.575,740.8906 299.4969,741.7031 Q298.4188,742.5 295.9813,742.5 L291.9813,742.5 L291.9813,730.0938 Z \"/><text fill=\"#000000\" font-family=\"sans-serif\" font-size=\"12\" lengthAdjust=\"spacingAndGlyphs\" textLength=\"8\" x=\"312.55\" y=\"740.6543\">V</text><line style=\"stroke: #A80036; stroke-width: 1.5;\" x1=\"267.5\" x2=\"336.5\" y1=\"752.5\" y2=\"752.5\"/><text fill=\"#000000\" font-family=\"sans-serif\" font-size=\"11\" lengthAdjust=\"spacingAndGlyphs\" textLength=\"59\" x=\"272.5\" y=\"766.7104\">m: Integer</text><!--MD5=[09b614a08d8cba4a07c9adeb5e0fee81]\n",
       "class E3--><rect fill=\"#FEFECE\" filter=\"url(#f1hznvzx2ko2hi)\" height=\"45.9375\" id=\"E3\" rx=\"10\" ry=\"10\" style=\"stroke: #A80036; stroke-width: 1.5;\" width=\"68\" x=\"290\" y=\"580\"/><ellipse cx=\"305\" cy=\"598.9688\" fill=\"#32CD32\" rx=\"11\" ry=\"11\" style=\"stroke: #A80036; stroke-width: 1.0;\"/><path d=\"M304.7969,594.6406 L304.7969,598.2656 L305.7969,598.2656 Q307,598.2656 307.4844,597.8594 Q307.9688,597.4531 307.9688,596.4531 Q307.9688,595.4531 307.4844,595.0469 Q307,594.6406 305.7969,594.6406 L304.7969,594.6406 Z M302.3438,592.5781 L305.7031,592.5781 Q308.2656,592.5781 309.3906,593.5 Q310.5156,594.4063 310.5156,596.4531 Q310.5156,598.5 309.3906,599.4219 Q308.2656,600.3281 305.7031,600.3281 L304.7969,600.3281 L304.7969,604.9688 L302.3438,604.9688 L302.3438,592.5781 Z \"/><text fill=\"#000000\" font-family=\"sans-serif\" font-size=\"12\" font-style=\"italic\" lengthAdjust=\"spacingAndGlyphs\" textLength=\"40\" x=\"317\" y=\"596.1387\">«part»</text><text fill=\"#000000\" font-family=\"sans-serif\" font-size=\"12\" lengthAdjust=\"spacingAndGlyphs\" textLength=\"28\" x=\"323\" y=\"610.1074\">vv: V</text><line style=\"stroke: #A80036; stroke-width: 1.5;\" x1=\"291\" x2=\"357\" y1=\"617.9375\" y2=\"617.9375\"/><!--MD5=[ebbe1d658d1005bcc118a6aa81145e00]\n",
       "class E4--><rect fill=\"#FEFECE\" filter=\"url(#f1hznvzx2ko2hi)\" height=\"66.7422\" id=\"E4\" style=\"stroke: #A80036; stroke-width: 1.5;\" width=\"159\" x=\"386.5\" y=\"852\"/><ellipse cx=\"401.5\" cy=\"870.9688\" fill=\"#A52A2A\" rx=\"11\" ry=\"11\" style=\"stroke: #A80036; stroke-width: 1.0;\"/><path d=\"M401.0938,866.7813 L401.0938,874.7656 L401.75,874.7656 Q403.1875,874.7656 403.7969,873.8594 Q404.4219,872.9375 404.4219,870.7656 Q404.4219,868.5938 403.7969,867.6875 Q403.1875,866.7813 401.75,866.7813 L401.0938,866.7813 Z M398.6406,864.5781 L401.2656,864.5781 Q404.2969,864.5781 405.625,866.0313 Q406.9688,867.4688 406.9688,870.7656 Q406.9688,874.0625 405.625,875.5156 Q404.2969,876.9688 401.2656,876.9688 L398.6406,876.9688 L398.6406,864.5781 Z \"/><text fill=\"#000000\" font-family=\"sans-serif\" font-size=\"12\" font-style=\"italic\" lengthAdjust=\"spacingAndGlyphs\" textLength=\"115\" x=\"421.5\" y=\"868.1387\">«requirement def»</text><text fill=\"#000000\" font-family=\"sans-serif\" font-size=\"12\" lengthAdjust=\"spacingAndGlyphs\" textLength=\"127\" x=\"415.5\" y=\"882.1074\">VerificationObjective</text><line style=\"stroke: #A80036; stroke-width: 1.5;\" x1=\"387.5\" x2=\"544.5\" y1=\"889.9375\" y2=\"889.9375\"/><text fill=\"#000000\" font-family=\"sans-serif\" font-size=\"11\" lengthAdjust=\"spacingAndGlyphs\" textLength=\"12\" x=\"392.5\" y=\"904.1479\">...</text><line style=\"stroke: #A80036; stroke-width: 1.0;\" x1=\"387.5\" x2=\"544.5\" y1=\"910.7422\" y2=\"910.7422\"/><!--MD5=[270fce915f116d4de14055a7c1d9a0f3]\n",
       "class E5--><rect fill=\"#FEFECE\" filter=\"url(#f1hznvzx2ko2hi)\" height=\"45.9375\" id=\"E5\" style=\"stroke: #A80036; stroke-width: 1.5;\" width=\"165\" x=\"393.5\" y=\"580\"/><ellipse cx=\"408.5\" cy=\"598.9688\" fill=\"#A52A2A\" rx=\"11\" ry=\"11\" style=\"stroke: #A80036; stroke-width: 1.0;\"/><path d=\"M408.0938,594.7813 L408.0938,602.7656 L408.75,602.7656 Q410.1875,602.7656 410.7969,601.8594 Q411.4219,600.9375 411.4219,598.7656 Q411.4219,596.5938 410.7969,595.6875 Q410.1875,594.7813 408.75,594.7813 L408.0938,594.7813 Z M405.6406,592.5781 L408.2656,592.5781 Q411.2969,592.5781 412.625,594.0313 Q413.9688,595.4688 413.9688,598.7656 Q413.9688,602.0625 412.625,603.5156 Q411.2969,604.9688 408.2656,604.9688 L405.6406,604.9688 L405.6406,592.5781 Z \"/><text fill=\"#000000\" font-family=\"sans-serif\" font-size=\"12\" font-style=\"italic\" lengthAdjust=\"spacingAndGlyphs\" textLength=\"137\" x=\"420.5\" y=\"596.1387\">«verificationCase def»</text><text fill=\"#000000\" font-family=\"sans-serif\" font-size=\"12\" lengthAdjust=\"spacingAndGlyphs\" textLength=\"101\" x=\"438.5\" y=\"610.1074\">VerificationCase</text><line style=\"stroke: #A80036; stroke-width: 1.5;\" x1=\"394.5\" x2=\"557.5\" y1=\"617.9375\" y2=\"617.9375\"/><!--MD5=[60a26617385b1d2d0262a64233df1f8d]\n",
       "class E6--><rect fill=\"#FEFECE\" filter=\"url(#f1hznvzx2ko2hi)\" height=\"88.3516\" id=\"E6\" rx=\"10\" ry=\"10\" style=\"stroke: #A80036; stroke-width: 1.5;\" width=\"186\" x=\"373\" y=\"703\"/><ellipse cx=\"388\" cy=\"721.9688\" fill=\"#FFA500\" rx=\"11\" ry=\"11\" style=\"stroke: #A80036; stroke-width: 1.0;\"/><path d=\"M383.875,723.8906 L383.875,716.0781 L386.3281,716.0781 L386.3281,724.5156 Q386.3281,725.4375 386.7969,725.9688 Q387.2813,726.5 388.1094,726.5 Q388.9531,726.5 389.4219,725.9688 Q389.8906,725.4375 389.8906,724.5156 L389.8906,716.0781 L392.3438,716.0781 L392.3438,723.8906 Q392.3438,726.4219 391.3438,727.5625 Q390.3438,728.7031 388.1094,728.7031 Q385.8906,728.7031 384.875,727.5625 Q383.875,726.4219 383.875,723.8906 Z \"/><text fill=\"#000000\" font-family=\"sans-serif\" font-size=\"12\" font-style=\"italic\" lengthAdjust=\"spacingAndGlyphs\" textLength=\"91\" x=\"433.5\" y=\"719.1387\">«requirement»</text><text fill=\"#000000\" font-family=\"sans-serif\" font-size=\"12\" lengthAdjust=\"spacingAndGlyphs\" textLength=\"154\" x=\"402\" y=\"733.1074\">obj: VerificationObjective</text><line style=\"stroke: #A80036; stroke-width: 1.5;\" x1=\"374\" x2=\"558\" y1=\"740.9375\" y2=\"740.9375\"/><text fill=\"#000000\" font-family=\"sans-serif\" font-size=\"11\" lengthAdjust=\"spacingAndGlyphs\" textLength=\"103\" x=\"379\" y=\"771.9526\">subj: Anything= v;</text><text fill=\"#000000\" font-family=\"sans-serif\" font-size=\"11\" font-style=\"italic\" lengthAdjust=\"spacingAndGlyphs\" textLength=\"169\" x=\"379\" y=\"784.7573\">:&gt;&gt;VerificationObjective::subj</text><line style=\"stroke: #A80036; stroke-width: 1.0;\" x1=\"374\" x2=\"435\" y1=\"755.3398\" y2=\"755.3398\"/><text fill=\"#000000\" font-family=\"sans-serif\" font-size=\"11\" lengthAdjust=\"spacingAndGlyphs\" textLength=\"62\" x=\"435\" y=\"758.6479\">references</text><line style=\"stroke: #A80036; stroke-width: 1.0;\" x1=\"497\" x2=\"558\" y1=\"755.3398\" y2=\"755.3398\"/><!--MD5=[2156ba9850f5573cc1fc38a6a4b2f02b]\n",
       "class E7--><rect fill=\"#FEFECE\" filter=\"url(#f1hznvzx2ko2hi)\" height=\"45.9375\" id=\"E7\" style=\"stroke: #A80036; stroke-width: 1.5;\" width=\"165\" x=\"108.5\" y=\"313\"/><ellipse cx=\"123.5\" cy=\"331.9688\" fill=\"#A52A2A\" rx=\"11\" ry=\"11\" style=\"stroke: #A80036; stroke-width: 1.0;\"/><path d=\"M123.0938,327.7813 L123.0938,335.7656 L123.75,335.7656 Q125.1875,335.7656 125.7969,334.8594 Q126.4219,333.9375 126.4219,331.7656 Q126.4219,329.5938 125.7969,328.6875 Q125.1875,327.7813 123.75,327.7813 L123.0938,327.7813 Z M120.6406,325.5781 L123.2656,325.5781 Q126.2969,325.5781 127.625,327.0313 Q128.9688,328.4688 128.9688,331.7656 Q128.9688,335.0625 127.625,336.5156 Q126.2969,337.9688 123.2656,337.9688 L120.6406,337.9688 L120.6406,325.5781 Z \"/><text fill=\"#000000\" font-family=\"sans-serif\" font-size=\"12\" font-style=\"italic\" lengthAdjust=\"spacingAndGlyphs\" textLength=\"137\" x=\"135.5\" y=\"329.1387\">«verificationCase def»</text><text fill=\"#000000\" font-family=\"sans-serif\" font-size=\"12\" lengthAdjust=\"spacingAndGlyphs\" textLength=\"97\" x=\"155.5\" y=\"343.1074\">VerificationPlan</text><line style=\"stroke: #A80036; stroke-width: 1.5;\" x1=\"109.5\" x2=\"272.5\" y1=\"350.9375\" y2=\"350.9375\"/><!--MD5=[b9389687b975829384b498ac4b7476b2]\n",
       "class E8--><rect fill=\"#FEFECE\" filter=\"url(#f1hznvzx2ko2hi)\" height=\"66.7422\" id=\"E8\" rx=\"10\" ry=\"10\" style=\"stroke: #A80036; stroke-width: 1.5;\" width=\"177\" x=\"102.5\" y=\"436\"/><ellipse cx=\"117.5\" cy=\"454.9688\" fill=\"#FFA500\" rx=\"11\" ry=\"11\" style=\"stroke: #A80036; stroke-width: 1.0;\"/><path d=\"M113.375,456.8906 L113.375,449.0781 L115.8281,449.0781 L115.8281,457.5156 Q115.8281,458.4375 116.2969,458.9688 Q116.7813,459.5 117.6094,459.5 Q118.4531,459.5 118.9219,458.9688 Q119.3906,458.4375 119.3906,457.5156 L119.3906,449.0781 L121.8438,449.0781 L121.8438,456.8906 Q121.8438,459.4219 120.8438,460.5625 Q119.8438,461.7031 117.6094,461.7031 Q115.3906,461.7031 114.375,460.5625 Q113.375,459.4219 113.375,456.8906 Z \"/><text fill=\"#000000\" font-family=\"sans-serif\" font-size=\"12\" font-style=\"italic\" lengthAdjust=\"spacingAndGlyphs\" textLength=\"91\" x=\"158.5\" y=\"452.1387\">«requirement»</text><text fill=\"#000000\" font-family=\"sans-serif\" font-size=\"12\" lengthAdjust=\"spacingAndGlyphs\" textLength=\"145\" x=\"131.5\" y=\"466.1074\">obj: RequirementCheck</text><line style=\"stroke: #A80036; stroke-width: 1.5;\" x1=\"103.5\" x2=\"278.5\" y1=\"473.9375\" y2=\"473.9375\"/><text fill=\"#000000\" font-family=\"sans-serif\" font-size=\"11\" lengthAdjust=\"spacingAndGlyphs\" textLength=\"12\" x=\"108.5\" y=\"488.1479\">...</text><line style=\"stroke: #A80036; stroke-width: 1.0;\" x1=\"103.5\" x2=\"278.5\" y1=\"494.7422\" y2=\"494.7422\"/><!--MD5=[fd4143e9d270a159db93a4ea2a975926]\n",
       "class E9--><rect fill=\"#FEFECE\" filter=\"url(#f1hznvzx2ko2hi)\" height=\"45.9375\" id=\"E9\" rx=\"10\" ry=\"10\" style=\"stroke: #A80036; stroke-width: 1.5;\" width=\"240\" x=\"314\" y=\"446.5\"/><ellipse cx=\"329\" cy=\"465.4688\" fill=\"#FFA500\" rx=\"11\" ry=\"11\" style=\"stroke: #A80036; stroke-width: 1.0;\"/><path d=\"M324.875,467.3906 L324.875,459.5781 L327.3281,459.5781 L327.3281,468.0156 Q327.3281,468.9375 327.7969,469.4688 Q328.2813,470 329.1094,470 Q329.9531,470 330.4219,469.4688 Q330.8906,468.9375 330.8906,468.0156 L330.8906,459.5781 L333.3438,459.5781 L333.3438,467.3906 Q333.3438,469.9219 332.3438,471.0625 Q331.3438,472.2031 329.1094,472.2031 Q326.8906,472.2031 325.875,471.0625 Q324.875,469.9219 324.875,467.3906 Z \"/><text fill=\"#000000\" font-family=\"sans-serif\" font-size=\"12\" font-style=\"italic\" lengthAdjust=\"spacingAndGlyphs\" textLength=\"113\" x=\"390.5\" y=\"462.6387\">«verificationCase»</text><text fill=\"#000000\" font-family=\"sans-serif\" font-size=\"12\" lengthAdjust=\"spacingAndGlyphs\" textLength=\"208\" x=\"343\" y=\"476.6074\">verificationCase: VerificationCase</text><line style=\"stroke: #A80036; stroke-width: 1.5;\" x1=\"315\" x2=\"553\" y1=\"484.4375\" y2=\"484.4375\"/><!--MD5=[96f4274e9e20536e775497830990834d]\n",
       "class E10--><rect fill=\"#FEFECE\" filter=\"url(#f1hznvzx2ko2hi)\" height=\"45.9375\" id=\"E10\" rx=\"10\" ry=\"10\" style=\"stroke: #A80036; stroke-width: 1.5;\" width=\"186\" x=\"69\" y=\"580\"/><ellipse cx=\"84\" cy=\"598.9688\" fill=\"#FFA500\" rx=\"11\" ry=\"11\" style=\"stroke: #A80036; stroke-width: 1.0;\"/><path d=\"M79.875,600.8906 L79.875,593.0781 L82.3281,593.0781 L82.3281,601.5156 Q82.3281,602.4375 82.7969,602.9688 Q83.2813,603.5 84.1094,603.5 Q84.9531,603.5 85.4219,602.9688 Q85.8906,602.4375 85.8906,601.5156 L85.8906,593.0781 L88.3438,593.0781 L88.3438,600.8906 Q88.3438,603.4219 87.3438,604.5625 Q86.3438,605.7031 84.1094,605.7031 Q81.8906,605.7031 80.875,604.5625 Q79.875,603.4219 79.875,600.8906 Z \"/><text fill=\"#000000\" font-family=\"sans-serif\" font-size=\"12\" font-style=\"italic\" lengthAdjust=\"spacingAndGlyphs\" textLength=\"91\" x=\"129.5\" y=\"596.1387\">«requirement»</text><text fill=\"#000000\" font-family=\"sans-serif\" font-size=\"12\" lengthAdjust=\"spacingAndGlyphs\" textLength=\"154\" x=\"98\" y=\"610.1074\">obj: VerificationObjective</text><line style=\"stroke: #A80036; stroke-width: 1.5;\" x1=\"70\" x2=\"254\" y1=\"617.9375\" y2=\"617.9375\"/><!--MD5=[1dd1bfd58a279cf63c5f349dbc8fc6a1]\n",
       "class E11--><rect fill=\"#FEFECE\" filter=\"url(#f1hznvzx2ko2hi)\" height=\"45.9375\" id=\"E11\" rx=\"10\" ry=\"10\" style=\"stroke: #A80036; stroke-width: 1.5;\" width=\"182\" x=\"202\" y=\"41\"/><ellipse cx=\"217\" cy=\"59.9688\" fill=\"#32CD32\" rx=\"11\" ry=\"11\" style=\"stroke: #A80036; stroke-width: 1.0;\"/><path d=\"M216.7969,55.6406 L216.7969,59.2656 L217.7969,59.2656 Q219,59.2656 219.4844,58.8594 Q219.9688,58.4531 219.9688,57.4531 Q219.9688,56.4531 219.4844,56.0469 Q219,55.6406 217.7969,55.6406 L216.7969,55.6406 Z M214.3438,53.5781 L217.7031,53.5781 Q220.2656,53.5781 221.3906,54.5 Q222.5156,55.4063 222.5156,57.4531 Q222.5156,59.5 221.3906,60.4219 Q220.2656,61.3281 217.7031,61.3281 L216.7969,61.3281 L216.7969,65.9688 L214.3438,65.9688 L214.3438,53.5781 Z \"/><text fill=\"#000000\" font-family=\"sans-serif\" font-size=\"12\" font-style=\"italic\" lengthAdjust=\"spacingAndGlyphs\" textLength=\"40\" x=\"286\" y=\"57.1387\">«part»</text><text fill=\"#000000\" font-family=\"sans-serif\" font-size=\"12\" lengthAdjust=\"spacingAndGlyphs\" textLength=\"150\" x=\"231\" y=\"71.1074\">verificationContext: Part</text><line style=\"stroke: #A80036; stroke-width: 1.5;\" x1=\"203\" x2=\"383\" y1=\"78.9375\" y2=\"78.9375\"/><!--MD5=[49a0ec8f00dab7302a31f22d0f0fe584]\n",
       "class E12--><rect fill=\"#FEFECE\" filter=\"url(#f1hznvzx2ko2hi)\" height=\"88.3516\" id=\"E12\" rx=\"10\" ry=\"10\" style=\"stroke: #A80036; stroke-width: 1.5;\" width=\"232\" x=\"177\" y=\"148\"/><ellipse cx=\"192\" cy=\"166.9688\" fill=\"#FFA500\" rx=\"11\" ry=\"11\" style=\"stroke: #A80036; stroke-width: 1.0;\"/><path d=\"M187.875,168.8906 L187.875,161.0781 L190.3281,161.0781 L190.3281,169.5156 Q190.3281,170.4375 190.7969,170.9688 Q191.2813,171.5 192.1094,171.5 Q192.9531,171.5 193.4219,170.9688 Q193.8906,170.4375 193.8906,169.5156 L193.8906,161.0781 L196.3438,161.0781 L196.3438,168.8906 Q196.3438,171.4219 195.3438,172.5625 Q194.3438,173.7031 192.1094,173.7031 Q189.8906,173.7031 188.875,172.5625 Q187.875,171.4219 187.875,168.8906 Z \"/><text fill=\"#000000\" font-family=\"sans-serif\" font-size=\"12\" font-style=\"italic\" lengthAdjust=\"spacingAndGlyphs\" textLength=\"113\" x=\"249.5\" y=\"164.1387\">«verificationCase»</text><text fill=\"#000000\" font-family=\"sans-serif\" font-size=\"12\" lengthAdjust=\"spacingAndGlyphs\" textLength=\"200\" x=\"206\" y=\"178.1074\">verificationPlan: VerificationPlan</text><line style=\"stroke: #A80036; stroke-width: 1.5;\" x1=\"178\" x2=\"408\" y1=\"185.9375\" y2=\"185.9375\"/><text fill=\"#000000\" font-family=\"sans-serif\" font-size=\"11\" lengthAdjust=\"spacingAndGlyphs\" textLength=\"50\" x=\"183\" y=\"216.9526\">v: V= vv;</text><text fill=\"#000000\" font-family=\"sans-serif\" font-size=\"11\" font-style=\"italic\" lengthAdjust=\"spacingAndGlyphs\" textLength=\"123\" x=\"183\" y=\"229.7573\">:&gt;&gt;VerificationPlan::v</text><line style=\"stroke: #A80036; stroke-width: 1.0;\" x1=\"178\" x2=\"262\" y1=\"200.3398\" y2=\"200.3398\"/><text fill=\"#000000\" font-family=\"sans-serif\" font-size=\"11\" lengthAdjust=\"spacingAndGlyphs\" textLength=\"62\" x=\"262\" y=\"203.6479\">references</text><line style=\"stroke: #A80036; stroke-width: 1.0;\" x1=\"324\" x2=\"408\" y1=\"200.3398\" y2=\"200.3398\"/><!--MD5=[ee3c913d1a06f366521f9ef512b67efe]\n",
       "class E13--><rect fill=\"#FEFECE\" filter=\"url(#f1hznvzx2ko2hi)\" height=\"45.9375\" id=\"E13\" rx=\"10\" ry=\"10\" style=\"stroke: #A80036; stroke-width: 1.5;\" width=\"177\" x=\"308.5\" y=\"313\"/><ellipse cx=\"323.5\" cy=\"331.9688\" fill=\"#FFA500\" rx=\"11\" ry=\"11\" style=\"stroke: #A80036; stroke-width: 1.0;\"/><path d=\"M319.375,333.8906 L319.375,326.0781 L321.8281,326.0781 L321.8281,334.5156 Q321.8281,335.4375 322.2969,335.9688 Q322.7813,336.5 323.6094,336.5 Q324.4531,336.5 324.9219,335.9688 Q325.3906,335.4375 325.3906,334.5156 L325.3906,326.0781 L327.8438,326.0781 L327.8438,333.8906 Q327.8438,336.4219 326.8438,337.5625 Q325.8438,338.7031 323.6094,338.7031 Q321.3906,338.7031 320.375,337.5625 Q319.375,336.4219 319.375,333.8906 Z \"/><text fill=\"#000000\" font-family=\"sans-serif\" font-size=\"12\" font-style=\"italic\" lengthAdjust=\"spacingAndGlyphs\" textLength=\"91\" x=\"364.5\" y=\"329.1387\">«requirement»</text><text fill=\"#000000\" font-family=\"sans-serif\" font-size=\"12\" lengthAdjust=\"spacingAndGlyphs\" textLength=\"145\" x=\"337.5\" y=\"343.1074\">obj: RequirementCheck</text><line style=\"stroke: #A80036; stroke-width: 1.5;\" x1=\"309.5\" x2=\"484.5\" y1=\"350.9375\" y2=\"350.9375\"/><!--MD5=[05d275557350bfb9b23a4ef7222b4c39]\n",
       "link E3 to E2--><path d=\"M320.01,626.25 C318.4,635.45 316.55,646.23 315,656 C312.72,670.39 310.39,686.11 308.35,700.32 \" fill=\"none\" id=\"E3-&gt;E2\" style=\"stroke: #A80036; stroke-width: 1.0;\"/><polygon fill=\"#FFFFFF\" points=\"305.51,720.37,301.2534,700.574,315.114,702.5441,305.51,720.37\" style=\"stroke: #A80036; stroke-width: 1.0;\"/><ellipse cx=\"304.0356\" cy=\"695.2122\" fill=\"#A80036\" rx=\"2\" ry=\"2\" style=\"stroke: #A80036; stroke-width: 1.0;\"/><ellipse cx=\"313.9361\" cy=\"696.6194\" fill=\"#A80036\" rx=\"2\" ry=\"2\" style=\"stroke: #A80036; stroke-width: 1.0;\"/><!--MD5=[15ebcb19ae302d9b601edb458606d402]\n",
       "link E5 to E2--><path d=\"M440.7,626.2 C427.31,635.03 412.14,645.57 399,656 C375.05,675.01 349.78,698.59 331.03,716.84 \" fill=\"none\" id=\"E5-&gt;E2\" style=\"stroke: #A80036; stroke-width: 1.0; stroke-dasharray: 7.0,7.0;\"/><polygon fill=\"#A80036\" points=\"327.38,720.42,336.6215,717.0148,330.9652,716.9348,331.0452,711.2785,327.38,720.42\" style=\"stroke: #A80036; stroke-width: 1.0;\"/><text fill=\"#000000\" font-family=\"sans-serif\" font-size=\"13\" lengthAdjust=\"spacingAndGlyphs\" textLength=\"62\" x=\"400\" y=\"669.0669\">«subject»</text><!--MD5=[9120cf2e5df3bff93db8f754bbbc09b4]\n",
       "link E5 to E6--><path d=\"M474.44,626.19 C473.15,644.47 471.27,671.12 469.62,694.64 \" fill=\"none\" id=\"E5-&gt;E6\" style=\"stroke: #A80036; stroke-width: 1.0;\"/><polygon fill=\"#A80036\" points=\"469.04,702.82,472.5895,695.0482,466.6041,694.6306,469.04,702.82\" style=\"stroke: #A80036; stroke-width: 1.0;\"/><text fill=\"#000000\" font-family=\"sans-serif\" font-size=\"13\" lengthAdjust=\"spacingAndGlyphs\" textLength=\"73\" x=\"473\" y=\"669.0669\">«objective»</text><!--MD5=[f667431f98296947986a1a7595a31603]\n",
       "link E6 to E4--><path d=\"M466,791.19 C466,804.11 466,818.41 466,831.87 \" fill=\"none\" id=\"E6-&gt;E4\" style=\"stroke: #A80036; stroke-width: 1.0;\"/><polygon fill=\"#FFFFFF\" points=\"466,851.98,459,832.98,473,832.98,466,851.98\" style=\"stroke: #A80036; stroke-width: 1.0;\"/><ellipse cx=\"461\" cy=\"827.28\" fill=\"#A80036\" rx=\"2\" ry=\"2\" style=\"stroke: #A80036; stroke-width: 1.0;\"/><ellipse cx=\"471\" cy=\"827.28\" fill=\"#A80036\" rx=\"2\" ry=\"2\" style=\"stroke: #A80036; stroke-width: 1.0;\"/><!--MD5=[583832df87f4419a098336a29a52fa00]\n",
       "link E7 to E2--><path d=\"M158.27,359.22 C134.37,377.18 103.09,404.58 85,436 C42.23,510.28 6.35,553.46 52,626 C98.17,699.37 203.08,728.9 261.25,739.96 \" fill=\"none\" id=\"E7-&gt;E2\" style=\"stroke: #A80036; stroke-width: 1.0; stroke-dasharray: 7.0,7.0;\"/><polygon fill=\"#A80036\" points=\"266.38,740.91,258.2635,735.3313,261.4643,739.9955,256.8002,743.1963,266.38,740.91\" style=\"stroke: #A80036; stroke-width: 1.0;\"/><text fill=\"#000000\" font-family=\"sans-serif\" font-size=\"13\" lengthAdjust=\"spacingAndGlyphs\" textLength=\"62\" x=\"35\" y=\"546.0669\">«subject»</text><!--MD5=[79bc8f324ef4d02c541433f2e6e513c3]\n",
       "link E7 to E8--><path d=\"M191,359.01 C191,377.7 191,405.02 191,427.69 \" fill=\"none\" id=\"E7-&gt;E8\" style=\"stroke: #A80036; stroke-width: 1.0;\"/><polygon fill=\"#A80036\" points=\"191,435.81,194,427.81,188,427.81,191,435.81\" style=\"stroke: #A80036; stroke-width: 1.0;\"/><text fill=\"#000000\" font-family=\"sans-serif\" font-size=\"13\" lengthAdjust=\"spacingAndGlyphs\" textLength=\"73\" x=\"192\" y=\"402.0669\">«objective»</text><!--MD5=[bfc3ddf2e613be37104f658f09af896c]\n",
       "link E9 to E5--><path d=\"M441.03,492.51 C446.97,511.1 455.63,538.21 462.84,560.81 \" fill=\"none\" id=\"E9-&gt;E5\" style=\"stroke: #A80036; stroke-width: 1.0;\"/><polygon fill=\"#FFFFFF\" points=\"468.95,579.92,456.5018,563.9499,469.8383,559.691,468.95,579.92\" style=\"stroke: #A80036; stroke-width: 1.0;\"/><ellipse cx=\"456.6731\" cy=\"557.9117\" fill=\"#A80036\" rx=\"2\" ry=\"2\" style=\"stroke: #A80036; stroke-width: 1.0;\"/><ellipse cx=\"466.1992\" cy=\"554.8696\" fill=\"#A80036\" rx=\"2\" ry=\"2\" style=\"stroke: #A80036; stroke-width: 1.0;\"/><!--MD5=[e4a10ef82d0e328e31cac39a31e58dda]\n",
       "reverse link E7 to E9--><path d=\"M243.22,365.26 C288.12,389.56 351.97,424.11 393.19,446.42 \" fill=\"none\" id=\"E7&lt;-E9\" style=\"stroke: #A80036; stroke-width: 1.0;\"/><polygon fill=\"#A80036\" points=\"231.67,359.01,235.0427,365.3838,242.2233,364.722,238.8507,358.3482,231.67,359.01\" style=\"stroke: #A80036; stroke-width: 1.0;\"/><!--MD5=[35e5f1cbde42fa304a029880aa2bc7f2]\n",
       "link E9 to E10--><path d=\"M388.47,492.51 C340.62,515.65 265.41,552.01 214.94,576.41 \" fill=\"none\" id=\"E9-&gt;E10\" style=\"stroke: #A80036; stroke-width: 1.0;\"/><polygon fill=\"#A80036\" points=\"207.68,579.92,216.1878,579.1342,213.5733,573.7338,207.68,579.92\" style=\"stroke: #A80036; stroke-width: 1.0;\"/><text fill=\"#000000\" font-family=\"sans-serif\" font-size=\"13\" lengthAdjust=\"spacingAndGlyphs\" textLength=\"73\" x=\"299\" y=\"546.0669\">«objective»</text><!--MD5=[ae660f5ecd7ddb04a8913625960940af]\n",
       "link E12 to E7--><path d=\"M261.84,236.38 C248.08,255.54 232.03,277.88 218.69,296.45 \" fill=\"none\" id=\"E12-&gt;E7\" style=\"stroke: #A80036; stroke-width: 1.0;\"/><polygon fill=\"#FFFFFF\" points=\"206.9,312.87,212.3025,293.3556,223.6718,301.525,206.9,312.87\" style=\"stroke: #A80036; stroke-width: 1.0;\"/><ellipse cx=\"217.2528\" cy=\"289.8937\" fill=\"#A80036\" rx=\"2\" ry=\"2\" style=\"stroke: #A80036; stroke-width: 1.0;\"/><ellipse cx=\"225.3737\" cy=\"295.7291\" fill=\"#A80036\" rx=\"2\" ry=\"2\" style=\"stroke: #A80036; stroke-width: 1.0;\"/><!--MD5=[94adabc162ce7e41b39f13be14fbaeb3]\n",
       "reverse link E11 to E12--><path d=\"M293,100.45 C293,115.17 293,132.39 293,147.84 \" fill=\"none\" id=\"E11&lt;-E12\" style=\"stroke: #A80036; stroke-width: 1.0;\"/><polygon fill=\"#A80036\" points=\"293,87.24,289,93.24,293,99.24,297,93.24,293,87.24\" style=\"stroke: #A80036; stroke-width: 1.0;\"/><!--MD5=[e2a9ac97dcd3257bb5342dae06547bad]\n",
       "link E12 to E13--><path d=\"M324.77,236.38 C341.41,259.09 361.32,286.28 376.02,306.35 \" fill=\"none\" id=\"E12-&gt;E13\" style=\"stroke: #A80036; stroke-width: 1.0;\"/><polygon fill=\"#A80036\" points=\"380.79,312.87,378.4838,304.6431,373.643,308.188,380.79,312.87\" style=\"stroke: #A80036; stroke-width: 1.0;\"/><text fill=\"#000000\" font-family=\"sans-serif\" font-size=\"13\" lengthAdjust=\"spacingAndGlyphs\" textLength=\"73\" x=\"358\" y=\"279.0669\">«objective»</text><!--MD5=[34e58bb6ace49bee01a125bacf00d14a]\n",
       "@startuml\r\n",
       " \r\n",
       "package \"VerificationTest\" as E1   {\r\n",
       "comp def \"V\" as E2  << (B,green) >> {\r\n",
       "m: Integer\r\n",
       "}\r\n",
       "comp usage \"vv: V\" as E3  << (P,limegreen) part>> {\r\n",
       "}\r\n",
       "comp def \"VerificationObjective\" as E4  <<(D,brown)requirement def>> {\r\n",
       "...\r\n",
       "- -\r\n",
       "}\r\n",
       "comp def \"VerificationCase\" as E5  <<(D,brown)verificationCase def>> {\r\n",
       "}\r\n",
       "comp usage \"obj: VerificationObjective\" as E6  <<(U,orange)requirement>> {\r\n",
       "- -references- -\r\n",
       "subj: Anything= v; \\n//:>>VerificationObjective::subj// \r\n",
       "}\r\n",
       "comp def \"VerificationPlan\" as E7  <<(D,brown)verificationCase def>> {\r\n",
       "}\r\n",
       "comp usage \"obj: RequirementCheck\" as E8  <<(U,orange)requirement>> {\r\n",
       "...\r\n",
       "- -\r\n",
       "}\r\n",
       "comp usage \"verificationCase: VerificationCase\" as E9  <<(U,orange)verificationCase>> {\r\n",
       "}\r\n",
       "comp usage \"obj: VerificationObjective\" as E10  <<(U,orange)requirement>> {\r\n",
       "}\r\n",
       "comp usage \"verificationContext: Part\" as E11  << (P,limegreen) part>> {\r\n",
       "}\r\n",
       "comp usage \"verificationPlan: VerificationPlan\" as E12  <<(U,orange)verificationCase>> {\r\n",
       "- -references- -\r\n",
       "v: V= vv; \\n//:>>VerificationPlan::v// \r\n",
       "}\r\n",
       "comp usage \"obj: RequirementCheck\" as E13  <<(U,orange)requirement>> {\r\n",
       "}\r\n",
       "E3 - -:|> E2\r\n",
       "E5 ..> E2 : <<subject>>\r\n",
       "E5 - ->> E6 : <<objective>>\r\n",
       "E6 - -:|> E4\r\n",
       "E7 ..> E2 : <<subject>>\r\n",
       "E7 - ->> E8 : <<objective>>\r\n",
       "E9 - -:|> E5\r\n",
       "E7 *- - E9\r\n",
       "E9 - ->> E10 : <<objective>>\r\n",
       "E12 - -:|> E7\r\n",
       "E11 *- - E12\r\n",
       "E12 - ->> E13 : <<objective>>\r\n",
       "}\r\n",
       "@enduml\r\n",
       "\n",
       "PlantUML version 1.2020.13(Sat Jun 13 12:26:38 UTC 2020)\n",
       "(EPL source distribution)\n",
       "Java Runtime: OpenJDK Runtime Environment\n",
       "JVM: OpenJDK 64-Bit Server VM\n",
       "Default Encoding: UTF-8\n",
       "Language: en\n",
       "Country: null\n",
       "--></g></svg>"
      ]
     },
     "execution_count": 31,
     "metadata": {},
     "output_type": "execute_result"
    }
   ],
   "source": [
    "%viz --style=\"PLANTUML\" --view=\"Tree\" \"VerificationTest\""
   ]
  },
  {
   "cell_type": "code",
   "execution_count": 32,
   "id": "polar-ultimate",
   "metadata": {
    "execution": {
     "iopub.execute_input": "2021-03-25T15:57:48.899053Z",
     "iopub.status.busy": "2021-03-25T15:57:48.898215Z",
     "iopub.status.idle": "2021-03-25T15:57:48.918194Z",
     "shell.execute_reply": "2021-03-25T15:57:48.914634Z"
    }
   },
   "outputs": [
    {
     "data": {
      "text/plain": [
       "java.lang.IllegalArgumentException: Invalid View: State View candidates are: Default Tree StateMachine Interconnection Activity Sequence MIXED \n",
       "\tat org.omg.sysml.plantuml.SysML2PlantUMLSvc.setView(SysML2PlantUMLSvc.java:63)\n",
       "\tat org.omg.sysml.interactive.SysMLInteractive.viz(SysMLInteractive.java:286)\n",
       "\tat org.omg.sysml.jupyter.kernel.magic.Viz.viz(Viz.java:47)\n",
       "\tat jdk.internal.reflect.GeneratedMethodAccessor14.invoke(Unknown Source)\n",
       "\tat java.base/jdk.internal.reflect.DelegatingMethodAccessorImpl.invoke(DelegatingMethodAccessorImpl.java:43)\n",
       "\tat java.base/java.lang.reflect.Method.invoke(Method.java:568)\n",
       "\tat io.github.spencerpark.jupyter.kernel.magic.registry.Magics.invoke(Magics.java:89)\n",
       "\tat io.github.spencerpark.jupyter.kernel.magic.registry.Magics.access$000(Magics.java:8)\n",
       "\tat io.github.spencerpark.jupyter.kernel.magic.registry.Magics$LineReflectionMagicFunction.execute(Magics.java:149)\n",
       "\tat io.github.spencerpark.jupyter.kernel.magic.registry.Magics.applyLineMagic(Magics.java:26)\n",
       "\tat org.omg.sysml.jupyter.kernel.SysMLKernel.eval(SysMLKernel.java:76)\n",
       "\tat io.github.spencerpark.jupyter.kernel.BaseKernel.handleExecuteRequest(BaseKernel.java:334)\n",
       "\tat io.github.spencerpark.jupyter.channels.ShellChannel.lambda$bind$0(ShellChannel.java:64)\n",
       "\tat io.github.spencerpark.jupyter.channels.Loop.lambda$new$0(Loop.java:21)\n",
       "\tat io.github.spencerpark.jupyter.channels.Loop.run(Loop.java:78)\n"
      ]
     },
     "execution_count": 32,
     "metadata": {},
     "output_type": "execute_result"
    }
   ],
   "source": [
    "%viz --style=\"PLANTUML\" --view=\"State\" \"VerificationTest\""
   ]
  },
  {
   "cell_type": "code",
   "execution_count": 33,
   "id": "subject-cleveland",
   "metadata": {
    "execution": {
     "iopub.execute_input": "2021-03-25T15:57:48.969398Z",
     "iopub.status.busy": "2021-03-25T15:57:48.968180Z",
     "iopub.status.idle": "2021-03-25T15:57:49.114574Z",
     "shell.execute_reply": "2021-03-25T15:57:49.111658Z"
    }
   },
   "outputs": [
    {
     "data": {
      "image/svg+xml": [
       "<?xml version=\"1.0\" encoding=\"UTF-8\" standalone=\"no\"?><svg xmlns=\"http://www.w3.org/2000/svg\" xmlns:xlink=\"http://www.w3.org/1999/xlink\" contentScriptType=\"application/ecmascript\" contentStyleType=\"text/css\" height=\"202px\" preserveAspectRatio=\"none\" style=\"width:1086px;height:202px;\" version=\"1.1\" viewBox=\"0 0 1086 202\" width=\"1086px\" zoomAndPan=\"magnify\"><defs><filter height=\"300%\" id=\"f17bv0di878cun\" width=\"300%\" x=\"-1\" y=\"-1\"><feGaussianBlur result=\"blurOut\" stdDeviation=\"2.0\"/><feColorMatrix in=\"blurOut\" result=\"blurOut2\" type=\"matrix\" values=\"0 0 0 0 0 0 0 0 0 0 0 0 0 0 0 0 0 0 .4 0\"/><feOffset dx=\"4.0\" dy=\"4.0\" in=\"blurOut2\" result=\"blurOut3\"/><feBlend in=\"SourceGraphic\" in2=\"blurOut3\" mode=\"normal\"/></filter></defs><g><!--MD5=[fbc87193dbaf4d95561dea2c320d4a47]\n",
       "cluster E1--><polygon fill=\"#FFFFFF\" filter=\"url(#f17bv0di878cun)\" points=\"16,6,147,6,154,28.2969,1064,28.2969,1064,190,16,190,16,6\" style=\"stroke: #000000; stroke-width: 1.5;\"/><line style=\"stroke: #000000; stroke-width: 1.5;\" x1=\"16\" x2=\"154\" y1=\"28.2969\" y2=\"28.2969\"/><text fill=\"#000000\" font-family=\"sans-serif\" font-size=\"14\" font-weight=\"bold\" lengthAdjust=\"spacingAndGlyphs\" textLength=\"125\" x=\"20\" y=\"20.9951\">VerificationTest</text><!--MD5=[e4f7fae6ed58524ba242bb0b0d3be6b7]\n",
       "cluster E2--><rect fill=\"#FFFFFF\" filter=\"url(#f17bv0di878cun)\" height=\"117\" style=\"stroke: #000000; stroke-width: 1.5;\" width=\"124\" x=\"916\" y=\"49\"/><text fill=\"#000000\" font-family=\"sans-serif\" font-size=\"14\" font-style=\"italic\" lengthAdjust=\"spacingAndGlyphs\" textLength=\"71\" x=\"942.5\" y=\"63.9951\">«part def»</text><text fill=\"#000000\" font-family=\"sans-serif\" font-size=\"14\" font-weight=\"bold\" lengthAdjust=\"spacingAndGlyphs\" textLength=\"11\" x=\"972.5\" y=\"80.292\">V</text><!--MD5=[270fce915f116d4de14055a7c1d9a0f3]\n",
       "class E5--><rect fill=\"#FEFECE\" filter=\"url(#f17bv0di878cun)\" height=\"53.9375\" id=\"E5\" style=\"stroke: #A80036; stroke-width: 1.5;\" width=\"159\" x=\"738.5\" y=\"98\"/><ellipse cx=\"753.5\" cy=\"116.9688\" fill=\"#ADD1B2\" rx=\"11\" ry=\"11\" style=\"stroke: #A80036; stroke-width: 1.0;\"/><path d=\"M756.4688,122.6094 Q755.8906,122.9063 755.25,123.0469 Q754.6094,123.2031 753.9063,123.2031 Q751.4063,123.2031 750.0781,121.5625 Q748.7656,119.9063 748.7656,116.7813 Q748.7656,113.6563 750.0781,112 Q751.4063,110.3438 753.9063,110.3438 Q754.6094,110.3438 755.25,110.5 Q755.9063,110.6563 756.4688,110.9531 L756.4688,113.6719 Q755.8438,113.0938 755.25,112.8281 Q754.6563,112.5469 754.0313,112.5469 Q752.6875,112.5469 752,113.625 Q751.3125,114.6875 751.3125,116.7813 Q751.3125,118.875 752,119.9531 Q752.6875,121.0156 754.0313,121.0156 Q754.6563,121.0156 755.25,120.75 Q755.8438,120.4688 756.4688,119.8906 L756.4688,122.6094 Z \"/><text fill=\"#000000\" font-family=\"sans-serif\" font-size=\"12\" font-style=\"italic\" lengthAdjust=\"spacingAndGlyphs\" textLength=\"115\" x=\"773.5\" y=\"114.1387\">«requirement def»</text><text fill=\"#000000\" font-family=\"sans-serif\" font-size=\"12\" lengthAdjust=\"spacingAndGlyphs\" textLength=\"127\" x=\"767.5\" y=\"128.1074\">VerificationObjective</text><line style=\"stroke: #A80036; stroke-width: 1.5;\" x1=\"739.5\" x2=\"896.5\" y1=\"135.9375\" y2=\"135.9375\"/><line style=\"stroke: #A80036; stroke-width: 1.5;\" x1=\"739.5\" x2=\"896.5\" y1=\"143.9375\" y2=\"143.9375\"/><!--MD5=[60a26617385b1d2d0262a64233df1f8d]\n",
       "class E6--><rect fill=\"#FEFECE\" filter=\"url(#f17bv0di878cun)\" height=\"53.9375\" id=\"E6\" style=\"stroke: #A80036; stroke-width: 1.5;\" width=\"165\" x=\"538.5\" y=\"98\"/><ellipse cx=\"553.5\" cy=\"116.9688\" fill=\"#ADD1B2\" rx=\"11\" ry=\"11\" style=\"stroke: #A80036; stroke-width: 1.0;\"/><path d=\"M556.4688,122.6094 Q555.8906,122.9063 555.25,123.0469 Q554.6094,123.2031 553.9063,123.2031 Q551.4063,123.2031 550.0781,121.5625 Q548.7656,119.9063 548.7656,116.7813 Q548.7656,113.6563 550.0781,112 Q551.4063,110.3438 553.9063,110.3438 Q554.6094,110.3438 555.25,110.5 Q555.9063,110.6563 556.4688,110.9531 L556.4688,113.6719 Q555.8438,113.0938 555.25,112.8281 Q554.6563,112.5469 554.0313,112.5469 Q552.6875,112.5469 552,113.625 Q551.3125,114.6875 551.3125,116.7813 Q551.3125,118.875 552,119.9531 Q552.6875,121.0156 554.0313,121.0156 Q554.6563,121.0156 555.25,120.75 Q555.8438,120.4688 556.4688,119.8906 L556.4688,122.6094 Z \"/><text fill=\"#000000\" font-family=\"sans-serif\" font-size=\"12\" font-style=\"italic\" lengthAdjust=\"spacingAndGlyphs\" textLength=\"137\" x=\"565.5\" y=\"114.1387\">«verificationCase def»</text><text fill=\"#000000\" font-family=\"sans-serif\" font-size=\"12\" lengthAdjust=\"spacingAndGlyphs\" textLength=\"101\" x=\"583.5\" y=\"128.1074\">VerificationCase</text><line style=\"stroke: #A80036; stroke-width: 1.5;\" x1=\"539.5\" x2=\"702.5\" y1=\"135.9375\" y2=\"135.9375\"/><line style=\"stroke: #A80036; stroke-width: 1.5;\" x1=\"539.5\" x2=\"702.5\" y1=\"143.9375\" y2=\"143.9375\"/><!--MD5=[2156ba9850f5573cc1fc38a6a4b2f02b]\n",
       "class E7--><rect fill=\"#FEFECE\" filter=\"url(#f17bv0di878cun)\" height=\"53.9375\" id=\"E7\" style=\"stroke: #A80036; stroke-width: 1.5;\" width=\"165\" x=\"338.5\" y=\"98\"/><ellipse cx=\"353.5\" cy=\"116.9688\" fill=\"#ADD1B2\" rx=\"11\" ry=\"11\" style=\"stroke: #A80036; stroke-width: 1.0;\"/><path d=\"M356.4688,122.6094 Q355.8906,122.9063 355.25,123.0469 Q354.6094,123.2031 353.9063,123.2031 Q351.4063,123.2031 350.0781,121.5625 Q348.7656,119.9063 348.7656,116.7813 Q348.7656,113.6563 350.0781,112 Q351.4063,110.3438 353.9063,110.3438 Q354.6094,110.3438 355.25,110.5 Q355.9063,110.6563 356.4688,110.9531 L356.4688,113.6719 Q355.8438,113.0938 355.25,112.8281 Q354.6563,112.5469 354.0313,112.5469 Q352.6875,112.5469 352,113.625 Q351.3125,114.6875 351.3125,116.7813 Q351.3125,118.875 352,119.9531 Q352.6875,121.0156 354.0313,121.0156 Q354.6563,121.0156 355.25,120.75 Q355.8438,120.4688 356.4688,119.8906 L356.4688,122.6094 Z \"/><text fill=\"#000000\" font-family=\"sans-serif\" font-size=\"12\" font-style=\"italic\" lengthAdjust=\"spacingAndGlyphs\" textLength=\"137\" x=\"365.5\" y=\"114.1387\">«verificationCase def»</text><text fill=\"#000000\" font-family=\"sans-serif\" font-size=\"12\" lengthAdjust=\"spacingAndGlyphs\" textLength=\"97\" x=\"385.5\" y=\"128.1074\">VerificationPlan</text><line style=\"stroke: #A80036; stroke-width: 1.5;\" x1=\"339.5\" x2=\"502.5\" y1=\"135.9375\" y2=\"135.9375\"/><line style=\"stroke: #A80036; stroke-width: 1.5;\" x1=\"339.5\" x2=\"502.5\" y1=\"143.9375\" y2=\"143.9375\"/><g id=\"E1.E2.E3\"><rect fill=\"#FFFFFF\" filter=\"url(#f17bv0di878cun)\" height=\"50\" rx=\"12.5\" ry=\"12.5\" style=\"stroke: #A80036; stroke-width: 1.5;\" width=\"91\" x=\"932.5\" y=\"100\"/><line style=\"stroke: #A80036; stroke-width: 1.5;\" x1=\"932.5\" x2=\"1023.5\" y1=\"126.2969\" y2=\"126.2969\"/><text fill=\"#000000\" font-family=\"sans-serif\" font-size=\"14\" lengthAdjust=\"spacingAndGlyphs\" textLength=\"71\" x=\"942.5\" y=\"117.9951\">m: Integer</text></g><g id=\"E1.E4\"><rect fill=\"#FFFFFF\" filter=\"url(#f17bv0di878cun)\" height=\"50\" rx=\"12.5\" ry=\"12.5\" style=\"stroke: #A80036; stroke-width: 1.5;\" width=\"52\" x=\"251\" y=\"100\"/><line style=\"stroke: #A80036; stroke-width: 1.5;\" x1=\"251\" x2=\"303\" y1=\"126.2969\" y2=\"126.2969\"/><text fill=\"#000000\" font-family=\"sans-serif\" font-size=\"14\" lengthAdjust=\"spacingAndGlyphs\" textLength=\"32\" x=\"261\" y=\"117.9951\">vv: V</text></g><g id=\"E1.E8\"><rect fill=\"#FFFFFF\" filter=\"url(#f17bv0di878cun)\" height=\"50\" rx=\"12.5\" ry=\"12.5\" style=\"stroke: #A80036; stroke-width: 1.5;\" width=\"183\" x=\"32.5\" y=\"100\"/><line style=\"stroke: #A80036; stroke-width: 1.5;\" x1=\"32.5\" x2=\"215.5\" y1=\"126.2969\" y2=\"126.2969\"/><text fill=\"#000000\" font-family=\"sans-serif\" font-size=\"14\" lengthAdjust=\"spacingAndGlyphs\" textLength=\"163\" x=\"42.5\" y=\"117.9951\">verificationContext: Part</text></g><!--MD5=[feef4093226bb7171c7c22192e8146bb]\n",
       "@startuml\r\n",
       "skinparam ranksep 8\r\n",
       "skinparam rectangle {\r\n",
       " backgroundColor<<block>> LightGreen\r\n",
       "}\r\n",
       " \r\n",
       "package \"VerificationTest\" as E1   {\r\n",
       "rec def \"V\" as E2  <<part def>> {\r\n",
       "rec usage \"m: Integer\" as E3  <<attribute>> {\r\n",
       "}\r\n",
       "}\r\n",
       "rec usage \"vv: V\" as E4  {\r\n",
       "}\r\n",
       "def \"VerificationObjective\" as E5  <<requirement def>> \r\n",
       "def \"VerificationCase\" as E6  <<verificationCase def>> \r\n",
       "def \"VerificationPlan\" as E7  <<verificationCase def>> \r\n",
       "rec usage \"verificationContext: Part\" as E8  {\r\n",
       "}\r\n",
       "}\r\n",
       "@enduml\r\n",
       "\n",
       "PlantUML version 1.2020.13(Sat Jun 13 12:26:38 UTC 2020)\n",
       "(EPL source distribution)\n",
       "Java Runtime: OpenJDK Runtime Environment\n",
       "JVM: OpenJDK 64-Bit Server VM\n",
       "Default Encoding: UTF-8\n",
       "Language: en\n",
       "Country: null\n",
       "--></g></svg>"
      ]
     },
     "execution_count": 33,
     "metadata": {},
     "output_type": "execute_result"
    }
   ],
   "source": [
    "%viz --style=\"PLANTUML\" --view=\"Interconnection\" \"VerificationTest\""
   ]
  },
  {
   "cell_type": "code",
   "execution_count": 34,
   "id": "palestinian-static",
   "metadata": {
    "execution": {
     "iopub.execute_input": "2021-03-25T15:57:49.161660Z",
     "iopub.status.busy": "2021-03-25T15:57:49.160776Z",
     "iopub.status.idle": "2021-03-25T15:57:49.169413Z",
     "shell.execute_reply": "2021-03-25T15:57:49.168517Z"
    }
   },
   "outputs": [
    {
     "data": {
      "text/plain": [
       "java.lang.IllegalArgumentException: Invalid View: Action View candidates are: Default Tree StateMachine Interconnection Activity Sequence MIXED \n",
       "\tat org.omg.sysml.plantuml.SysML2PlantUMLSvc.setView(SysML2PlantUMLSvc.java:63)\n",
       "\tat org.omg.sysml.interactive.SysMLInteractive.viz(SysMLInteractive.java:286)\n",
       "\tat org.omg.sysml.jupyter.kernel.magic.Viz.viz(Viz.java:47)\n",
       "\tat jdk.internal.reflect.GeneratedMethodAccessor14.invoke(Unknown Source)\n",
       "\tat java.base/jdk.internal.reflect.DelegatingMethodAccessorImpl.invoke(DelegatingMethodAccessorImpl.java:43)\n",
       "\tat java.base/java.lang.reflect.Method.invoke(Method.java:568)\n",
       "\tat io.github.spencerpark.jupyter.kernel.magic.registry.Magics.invoke(Magics.java:89)\n",
       "\tat io.github.spencerpark.jupyter.kernel.magic.registry.Magics.access$000(Magics.java:8)\n",
       "\tat io.github.spencerpark.jupyter.kernel.magic.registry.Magics$LineReflectionMagicFunction.execute(Magics.java:149)\n",
       "\tat io.github.spencerpark.jupyter.kernel.magic.registry.Magics.applyLineMagic(Magics.java:26)\n",
       "\tat org.omg.sysml.jupyter.kernel.SysMLKernel.eval(SysMLKernel.java:76)\n",
       "\tat io.github.spencerpark.jupyter.kernel.BaseKernel.handleExecuteRequest(BaseKernel.java:334)\n",
       "\tat io.github.spencerpark.jupyter.channels.ShellChannel.lambda$bind$0(ShellChannel.java:64)\n",
       "\tat io.github.spencerpark.jupyter.channels.Loop.lambda$new$0(Loop.java:21)\n",
       "\tat io.github.spencerpark.jupyter.channels.Loop.run(Loop.java:78)\n"
      ]
     },
     "execution_count": 34,
     "metadata": {},
     "output_type": "execute_result"
    }
   ],
   "source": [
    "%viz --style=\"PLANTUML\" --view=\"Action\" \"VerificationTest\""
   ]
  },
  {
   "cell_type": "code",
   "execution_count": 35,
   "id": "standard-jerusalem",
   "metadata": {
    "execution": {
     "iopub.execute_input": "2021-03-25T15:57:49.220469Z",
     "iopub.status.busy": "2021-03-25T15:57:49.219416Z",
     "iopub.status.idle": "2021-03-25T15:57:51.241791Z",
     "shell.execute_reply": "2021-03-25T15:57:51.236999Z"
    }
   },
   "outputs": [
    {
     "data": {
      "image/svg+xml": [
       "<?xml version=\"1.0\" encoding=\"UTF-8\" standalone=\"no\"?><svg xmlns=\"http://www.w3.org/2000/svg\" xmlns:xlink=\"http://www.w3.org/1999/xlink\" contentScriptType=\"application/ecmascript\" contentStyleType=\"text/css\" height=\"947px\" preserveAspectRatio=\"none\" style=\"width:597px;height:947px;\" version=\"1.1\" viewBox=\"0 0 597 947\" width=\"597px\" zoomAndPan=\"magnify\"><defs><filter height=\"300%\" id=\"f1hznvzx2ko2hi\" width=\"300%\" x=\"-1\" y=\"-1\"><feGaussianBlur result=\"blurOut\" stdDeviation=\"2.0\"/><feColorMatrix in=\"blurOut\" result=\"blurOut2\" type=\"matrix\" values=\"0 0 0 0 0 0 0 0 0 0 0 0 0 0 0 0 0 0 .4 0\"/><feOffset dx=\"4.0\" dy=\"4.0\" in=\"blurOut2\" result=\"blurOut3\"/><feBlend in=\"SourceGraphic\" in2=\"blurOut3\" mode=\"normal\"/></filter></defs><g><!--MD5=[fbc87193dbaf4d95561dea2c320d4a47]\n",
       "cluster E1--><polygon fill=\"#FFFFFF\" filter=\"url(#f1hznvzx2ko2hi)\" points=\"16,6,147,6,154,28.2969,575,28.2969,575,935,16,935,16,6\" style=\"stroke: #000000; stroke-width: 1.5;\"/><line style=\"stroke: #000000; stroke-width: 1.5;\" x1=\"16\" x2=\"154\" y1=\"28.2969\" y2=\"28.2969\"/><text fill=\"#000000\" font-family=\"sans-serif\" font-size=\"14\" font-weight=\"bold\" lengthAdjust=\"spacingAndGlyphs\" textLength=\"125\" x=\"20\" y=\"20.9951\">VerificationTest</text><!--MD5=[b4997ac47864f28c2f74865a473b2911]\n",
       "class E2--><rect fill=\"#FEFECE\" filter=\"url(#f1hznvzx2ko2hi)\" height=\"52.8047\" id=\"E2\" style=\"stroke: #A80036; stroke-width: 1.5;\" width=\"71\" x=\"266.5\" y=\"720.5\"/><ellipse cx=\"295.45\" cy=\"736.5\" fill=\"#008000\" rx=\"11\" ry=\"11\" style=\"stroke: #A80036; stroke-width: 1.0;\"/><path d=\"M294.3563,736.875 L294.3563,740.5469 L295.9813,740.5469 Q297.1531,740.5469 297.6219,740.1563 Q298.0906,739.75 298.0906,738.75 Q298.0906,737.75 297.5906,737.3125 Q297.1063,736.875 295.9813,736.875 L294.3563,736.875 Z M294.3563,732.0469 L294.3563,734.9219 L295.9813,734.9219 Q296.9031,734.9219 297.2938,734.5938 Q297.7,734.25 297.7,733.5 Q297.7,732.7344 297.2938,732.3906 Q296.8875,732.0469 295.9813,732.0469 L294.3563,732.0469 Z M291.9813,730.0938 L295.9813,730.0938 Q298.0438,730.0938 299.0906,730.875 Q300.1375,731.6563 300.1375,733.2188 Q300.1375,734.4219 299.5125,735.0938 Q298.9031,735.7656 297.7156,735.875 Q299.1375,736.0156 299.8563,736.8281 Q300.575,737.6406 300.575,739.0938 Q300.575,740.8906 299.4969,741.7031 Q298.4188,742.5 295.9813,742.5 L291.9813,742.5 L291.9813,730.0938 Z \"/><text fill=\"#000000\" font-family=\"sans-serif\" font-size=\"12\" lengthAdjust=\"spacingAndGlyphs\" textLength=\"8\" x=\"312.55\" y=\"740.6543\">V</text><line style=\"stroke: #A80036; stroke-width: 1.5;\" x1=\"267.5\" x2=\"336.5\" y1=\"752.5\" y2=\"752.5\"/><text fill=\"#000000\" font-family=\"sans-serif\" font-size=\"11\" lengthAdjust=\"spacingAndGlyphs\" textLength=\"59\" x=\"272.5\" y=\"766.7104\">m: Integer</text><!--MD5=[09b614a08d8cba4a07c9adeb5e0fee81]\n",
       "class E3--><rect fill=\"#FEFECE\" filter=\"url(#f1hznvzx2ko2hi)\" height=\"45.9375\" id=\"E3\" rx=\"10\" ry=\"10\" style=\"stroke: #A80036; stroke-width: 1.5;\" width=\"68\" x=\"290\" y=\"580\"/><ellipse cx=\"305\" cy=\"598.9688\" fill=\"#32CD32\" rx=\"11\" ry=\"11\" style=\"stroke: #A80036; stroke-width: 1.0;\"/><path d=\"M304.7969,594.6406 L304.7969,598.2656 L305.7969,598.2656 Q307,598.2656 307.4844,597.8594 Q307.9688,597.4531 307.9688,596.4531 Q307.9688,595.4531 307.4844,595.0469 Q307,594.6406 305.7969,594.6406 L304.7969,594.6406 Z M302.3438,592.5781 L305.7031,592.5781 Q308.2656,592.5781 309.3906,593.5 Q310.5156,594.4063 310.5156,596.4531 Q310.5156,598.5 309.3906,599.4219 Q308.2656,600.3281 305.7031,600.3281 L304.7969,600.3281 L304.7969,604.9688 L302.3438,604.9688 L302.3438,592.5781 Z \"/><text fill=\"#000000\" font-family=\"sans-serif\" font-size=\"12\" font-style=\"italic\" lengthAdjust=\"spacingAndGlyphs\" textLength=\"40\" x=\"317\" y=\"596.1387\">«part»</text><text fill=\"#000000\" font-family=\"sans-serif\" font-size=\"12\" lengthAdjust=\"spacingAndGlyphs\" textLength=\"28\" x=\"323\" y=\"610.1074\">vv: V</text><line style=\"stroke: #A80036; stroke-width: 1.5;\" x1=\"291\" x2=\"357\" y1=\"617.9375\" y2=\"617.9375\"/><!--MD5=[ebbe1d658d1005bcc118a6aa81145e00]\n",
       "class E4--><rect fill=\"#FEFECE\" filter=\"url(#f1hznvzx2ko2hi)\" height=\"66.7422\" id=\"E4\" style=\"stroke: #A80036; stroke-width: 1.5;\" width=\"159\" x=\"386.5\" y=\"852\"/><ellipse cx=\"401.5\" cy=\"870.9688\" fill=\"#A52A2A\" rx=\"11\" ry=\"11\" style=\"stroke: #A80036; stroke-width: 1.0;\"/><path d=\"M401.0938,866.7813 L401.0938,874.7656 L401.75,874.7656 Q403.1875,874.7656 403.7969,873.8594 Q404.4219,872.9375 404.4219,870.7656 Q404.4219,868.5938 403.7969,867.6875 Q403.1875,866.7813 401.75,866.7813 L401.0938,866.7813 Z M398.6406,864.5781 L401.2656,864.5781 Q404.2969,864.5781 405.625,866.0313 Q406.9688,867.4688 406.9688,870.7656 Q406.9688,874.0625 405.625,875.5156 Q404.2969,876.9688 401.2656,876.9688 L398.6406,876.9688 L398.6406,864.5781 Z \"/><text fill=\"#000000\" font-family=\"sans-serif\" font-size=\"12\" font-style=\"italic\" lengthAdjust=\"spacingAndGlyphs\" textLength=\"115\" x=\"421.5\" y=\"868.1387\">«requirement def»</text><text fill=\"#000000\" font-family=\"sans-serif\" font-size=\"12\" lengthAdjust=\"spacingAndGlyphs\" textLength=\"127\" x=\"415.5\" y=\"882.1074\">VerificationObjective</text><line style=\"stroke: #A80036; stroke-width: 1.5;\" x1=\"387.5\" x2=\"544.5\" y1=\"889.9375\" y2=\"889.9375\"/><text fill=\"#000000\" font-family=\"sans-serif\" font-size=\"11\" lengthAdjust=\"spacingAndGlyphs\" textLength=\"12\" x=\"392.5\" y=\"904.1479\">...</text><line style=\"stroke: #A80036; stroke-width: 1.0;\" x1=\"387.5\" x2=\"544.5\" y1=\"910.7422\" y2=\"910.7422\"/><!--MD5=[270fce915f116d4de14055a7c1d9a0f3]\n",
       "class E5--><rect fill=\"#FEFECE\" filter=\"url(#f1hznvzx2ko2hi)\" height=\"45.9375\" id=\"E5\" style=\"stroke: #A80036; stroke-width: 1.5;\" width=\"165\" x=\"393.5\" y=\"580\"/><ellipse cx=\"408.5\" cy=\"598.9688\" fill=\"#A52A2A\" rx=\"11\" ry=\"11\" style=\"stroke: #A80036; stroke-width: 1.0;\"/><path d=\"M408.0938,594.7813 L408.0938,602.7656 L408.75,602.7656 Q410.1875,602.7656 410.7969,601.8594 Q411.4219,600.9375 411.4219,598.7656 Q411.4219,596.5938 410.7969,595.6875 Q410.1875,594.7813 408.75,594.7813 L408.0938,594.7813 Z M405.6406,592.5781 L408.2656,592.5781 Q411.2969,592.5781 412.625,594.0313 Q413.9688,595.4688 413.9688,598.7656 Q413.9688,602.0625 412.625,603.5156 Q411.2969,604.9688 408.2656,604.9688 L405.6406,604.9688 L405.6406,592.5781 Z \"/><text fill=\"#000000\" font-family=\"sans-serif\" font-size=\"12\" font-style=\"italic\" lengthAdjust=\"spacingAndGlyphs\" textLength=\"137\" x=\"420.5\" y=\"596.1387\">«verificationCase def»</text><text fill=\"#000000\" font-family=\"sans-serif\" font-size=\"12\" lengthAdjust=\"spacingAndGlyphs\" textLength=\"101\" x=\"438.5\" y=\"610.1074\">VerificationCase</text><line style=\"stroke: #A80036; stroke-width: 1.5;\" x1=\"394.5\" x2=\"557.5\" y1=\"617.9375\" y2=\"617.9375\"/><!--MD5=[60a26617385b1d2d0262a64233df1f8d]\n",
       "class E6--><rect fill=\"#FEFECE\" filter=\"url(#f1hznvzx2ko2hi)\" height=\"88.3516\" id=\"E6\" rx=\"10\" ry=\"10\" style=\"stroke: #A80036; stroke-width: 1.5;\" width=\"186\" x=\"373\" y=\"703\"/><ellipse cx=\"388\" cy=\"721.9688\" fill=\"#FFA500\" rx=\"11\" ry=\"11\" style=\"stroke: #A80036; stroke-width: 1.0;\"/><path d=\"M383.875,723.8906 L383.875,716.0781 L386.3281,716.0781 L386.3281,724.5156 Q386.3281,725.4375 386.7969,725.9688 Q387.2813,726.5 388.1094,726.5 Q388.9531,726.5 389.4219,725.9688 Q389.8906,725.4375 389.8906,724.5156 L389.8906,716.0781 L392.3438,716.0781 L392.3438,723.8906 Q392.3438,726.4219 391.3438,727.5625 Q390.3438,728.7031 388.1094,728.7031 Q385.8906,728.7031 384.875,727.5625 Q383.875,726.4219 383.875,723.8906 Z \"/><text fill=\"#000000\" font-family=\"sans-serif\" font-size=\"12\" font-style=\"italic\" lengthAdjust=\"spacingAndGlyphs\" textLength=\"91\" x=\"433.5\" y=\"719.1387\">«requirement»</text><text fill=\"#000000\" font-family=\"sans-serif\" font-size=\"12\" lengthAdjust=\"spacingAndGlyphs\" textLength=\"154\" x=\"402\" y=\"733.1074\">obj: VerificationObjective</text><line style=\"stroke: #A80036; stroke-width: 1.5;\" x1=\"374\" x2=\"558\" y1=\"740.9375\" y2=\"740.9375\"/><text fill=\"#000000\" font-family=\"sans-serif\" font-size=\"11\" lengthAdjust=\"spacingAndGlyphs\" textLength=\"103\" x=\"379\" y=\"771.9526\">subj: Anything= v;</text><text fill=\"#000000\" font-family=\"sans-serif\" font-size=\"11\" font-style=\"italic\" lengthAdjust=\"spacingAndGlyphs\" textLength=\"169\" x=\"379\" y=\"784.7573\">:&gt;&gt;VerificationObjective::subj</text><line style=\"stroke: #A80036; stroke-width: 1.0;\" x1=\"374\" x2=\"435\" y1=\"755.3398\" y2=\"755.3398\"/><text fill=\"#000000\" font-family=\"sans-serif\" font-size=\"11\" lengthAdjust=\"spacingAndGlyphs\" textLength=\"62\" x=\"435\" y=\"758.6479\">references</text><line style=\"stroke: #A80036; stroke-width: 1.0;\" x1=\"497\" x2=\"558\" y1=\"755.3398\" y2=\"755.3398\"/><!--MD5=[2156ba9850f5573cc1fc38a6a4b2f02b]\n",
       "class E7--><rect fill=\"#FEFECE\" filter=\"url(#f1hznvzx2ko2hi)\" height=\"45.9375\" id=\"E7\" style=\"stroke: #A80036; stroke-width: 1.5;\" width=\"165\" x=\"108.5\" y=\"313\"/><ellipse cx=\"123.5\" cy=\"331.9688\" fill=\"#A52A2A\" rx=\"11\" ry=\"11\" style=\"stroke: #A80036; stroke-width: 1.0;\"/><path d=\"M123.0938,327.7813 L123.0938,335.7656 L123.75,335.7656 Q125.1875,335.7656 125.7969,334.8594 Q126.4219,333.9375 126.4219,331.7656 Q126.4219,329.5938 125.7969,328.6875 Q125.1875,327.7813 123.75,327.7813 L123.0938,327.7813 Z M120.6406,325.5781 L123.2656,325.5781 Q126.2969,325.5781 127.625,327.0313 Q128.9688,328.4688 128.9688,331.7656 Q128.9688,335.0625 127.625,336.5156 Q126.2969,337.9688 123.2656,337.9688 L120.6406,337.9688 L120.6406,325.5781 Z \"/><text fill=\"#000000\" font-family=\"sans-serif\" font-size=\"12\" font-style=\"italic\" lengthAdjust=\"spacingAndGlyphs\" textLength=\"137\" x=\"135.5\" y=\"329.1387\">«verificationCase def»</text><text fill=\"#000000\" font-family=\"sans-serif\" font-size=\"12\" lengthAdjust=\"spacingAndGlyphs\" textLength=\"97\" x=\"155.5\" y=\"343.1074\">VerificationPlan</text><line style=\"stroke: #A80036; stroke-width: 1.5;\" x1=\"109.5\" x2=\"272.5\" y1=\"350.9375\" y2=\"350.9375\"/><!--MD5=[b9389687b975829384b498ac4b7476b2]\n",
       "class E8--><rect fill=\"#FEFECE\" filter=\"url(#f1hznvzx2ko2hi)\" height=\"66.7422\" id=\"E8\" rx=\"10\" ry=\"10\" style=\"stroke: #A80036; stroke-width: 1.5;\" width=\"177\" x=\"102.5\" y=\"436\"/><ellipse cx=\"117.5\" cy=\"454.9688\" fill=\"#FFA500\" rx=\"11\" ry=\"11\" style=\"stroke: #A80036; stroke-width: 1.0;\"/><path d=\"M113.375,456.8906 L113.375,449.0781 L115.8281,449.0781 L115.8281,457.5156 Q115.8281,458.4375 116.2969,458.9688 Q116.7813,459.5 117.6094,459.5 Q118.4531,459.5 118.9219,458.9688 Q119.3906,458.4375 119.3906,457.5156 L119.3906,449.0781 L121.8438,449.0781 L121.8438,456.8906 Q121.8438,459.4219 120.8438,460.5625 Q119.8438,461.7031 117.6094,461.7031 Q115.3906,461.7031 114.375,460.5625 Q113.375,459.4219 113.375,456.8906 Z \"/><text fill=\"#000000\" font-family=\"sans-serif\" font-size=\"12\" font-style=\"italic\" lengthAdjust=\"spacingAndGlyphs\" textLength=\"91\" x=\"158.5\" y=\"452.1387\">«requirement»</text><text fill=\"#000000\" font-family=\"sans-serif\" font-size=\"12\" lengthAdjust=\"spacingAndGlyphs\" textLength=\"145\" x=\"131.5\" y=\"466.1074\">obj: RequirementCheck</text><line style=\"stroke: #A80036; stroke-width: 1.5;\" x1=\"103.5\" x2=\"278.5\" y1=\"473.9375\" y2=\"473.9375\"/><text fill=\"#000000\" font-family=\"sans-serif\" font-size=\"11\" lengthAdjust=\"spacingAndGlyphs\" textLength=\"12\" x=\"108.5\" y=\"488.1479\">...</text><line style=\"stroke: #A80036; stroke-width: 1.0;\" x1=\"103.5\" x2=\"278.5\" y1=\"494.7422\" y2=\"494.7422\"/><!--MD5=[fd4143e9d270a159db93a4ea2a975926]\n",
       "class E9--><rect fill=\"#FEFECE\" filter=\"url(#f1hznvzx2ko2hi)\" height=\"45.9375\" id=\"E9\" rx=\"10\" ry=\"10\" style=\"stroke: #A80036; stroke-width: 1.5;\" width=\"240\" x=\"314\" y=\"446.5\"/><ellipse cx=\"329\" cy=\"465.4688\" fill=\"#FFA500\" rx=\"11\" ry=\"11\" style=\"stroke: #A80036; stroke-width: 1.0;\"/><path d=\"M324.875,467.3906 L324.875,459.5781 L327.3281,459.5781 L327.3281,468.0156 Q327.3281,468.9375 327.7969,469.4688 Q328.2813,470 329.1094,470 Q329.9531,470 330.4219,469.4688 Q330.8906,468.9375 330.8906,468.0156 L330.8906,459.5781 L333.3438,459.5781 L333.3438,467.3906 Q333.3438,469.9219 332.3438,471.0625 Q331.3438,472.2031 329.1094,472.2031 Q326.8906,472.2031 325.875,471.0625 Q324.875,469.9219 324.875,467.3906 Z \"/><text fill=\"#000000\" font-family=\"sans-serif\" font-size=\"12\" font-style=\"italic\" lengthAdjust=\"spacingAndGlyphs\" textLength=\"113\" x=\"390.5\" y=\"462.6387\">«verificationCase»</text><text fill=\"#000000\" font-family=\"sans-serif\" font-size=\"12\" lengthAdjust=\"spacingAndGlyphs\" textLength=\"208\" x=\"343\" y=\"476.6074\">verificationCase: VerificationCase</text><line style=\"stroke: #A80036; stroke-width: 1.5;\" x1=\"315\" x2=\"553\" y1=\"484.4375\" y2=\"484.4375\"/><!--MD5=[96f4274e9e20536e775497830990834d]\n",
       "class E10--><rect fill=\"#FEFECE\" filter=\"url(#f1hznvzx2ko2hi)\" height=\"45.9375\" id=\"E10\" rx=\"10\" ry=\"10\" style=\"stroke: #A80036; stroke-width: 1.5;\" width=\"186\" x=\"69\" y=\"580\"/><ellipse cx=\"84\" cy=\"598.9688\" fill=\"#FFA500\" rx=\"11\" ry=\"11\" style=\"stroke: #A80036; stroke-width: 1.0;\"/><path d=\"M79.875,600.8906 L79.875,593.0781 L82.3281,593.0781 L82.3281,601.5156 Q82.3281,602.4375 82.7969,602.9688 Q83.2813,603.5 84.1094,603.5 Q84.9531,603.5 85.4219,602.9688 Q85.8906,602.4375 85.8906,601.5156 L85.8906,593.0781 L88.3438,593.0781 L88.3438,600.8906 Q88.3438,603.4219 87.3438,604.5625 Q86.3438,605.7031 84.1094,605.7031 Q81.8906,605.7031 80.875,604.5625 Q79.875,603.4219 79.875,600.8906 Z \"/><text fill=\"#000000\" font-family=\"sans-serif\" font-size=\"12\" font-style=\"italic\" lengthAdjust=\"spacingAndGlyphs\" textLength=\"91\" x=\"129.5\" y=\"596.1387\">«requirement»</text><text fill=\"#000000\" font-family=\"sans-serif\" font-size=\"12\" lengthAdjust=\"spacingAndGlyphs\" textLength=\"154\" x=\"98\" y=\"610.1074\">obj: VerificationObjective</text><line style=\"stroke: #A80036; stroke-width: 1.5;\" x1=\"70\" x2=\"254\" y1=\"617.9375\" y2=\"617.9375\"/><!--MD5=[1dd1bfd58a279cf63c5f349dbc8fc6a1]\n",
       "class E11--><rect fill=\"#FEFECE\" filter=\"url(#f1hznvzx2ko2hi)\" height=\"45.9375\" id=\"E11\" rx=\"10\" ry=\"10\" style=\"stroke: #A80036; stroke-width: 1.5;\" width=\"182\" x=\"202\" y=\"41\"/><ellipse cx=\"217\" cy=\"59.9688\" fill=\"#32CD32\" rx=\"11\" ry=\"11\" style=\"stroke: #A80036; stroke-width: 1.0;\"/><path d=\"M216.7969,55.6406 L216.7969,59.2656 L217.7969,59.2656 Q219,59.2656 219.4844,58.8594 Q219.9688,58.4531 219.9688,57.4531 Q219.9688,56.4531 219.4844,56.0469 Q219,55.6406 217.7969,55.6406 L216.7969,55.6406 Z M214.3438,53.5781 L217.7031,53.5781 Q220.2656,53.5781 221.3906,54.5 Q222.5156,55.4063 222.5156,57.4531 Q222.5156,59.5 221.3906,60.4219 Q220.2656,61.3281 217.7031,61.3281 L216.7969,61.3281 L216.7969,65.9688 L214.3438,65.9688 L214.3438,53.5781 Z \"/><text fill=\"#000000\" font-family=\"sans-serif\" font-size=\"12\" font-style=\"italic\" lengthAdjust=\"spacingAndGlyphs\" textLength=\"40\" x=\"286\" y=\"57.1387\">«part»</text><text fill=\"#000000\" font-family=\"sans-serif\" font-size=\"12\" lengthAdjust=\"spacingAndGlyphs\" textLength=\"150\" x=\"231\" y=\"71.1074\">verificationContext: Part</text><line style=\"stroke: #A80036; stroke-width: 1.5;\" x1=\"203\" x2=\"383\" y1=\"78.9375\" y2=\"78.9375\"/><!--MD5=[49a0ec8f00dab7302a31f22d0f0fe584]\n",
       "class E12--><rect fill=\"#FEFECE\" filter=\"url(#f1hznvzx2ko2hi)\" height=\"88.3516\" id=\"E12\" rx=\"10\" ry=\"10\" style=\"stroke: #A80036; stroke-width: 1.5;\" width=\"232\" x=\"177\" y=\"148\"/><ellipse cx=\"192\" cy=\"166.9688\" fill=\"#FFA500\" rx=\"11\" ry=\"11\" style=\"stroke: #A80036; stroke-width: 1.0;\"/><path d=\"M187.875,168.8906 L187.875,161.0781 L190.3281,161.0781 L190.3281,169.5156 Q190.3281,170.4375 190.7969,170.9688 Q191.2813,171.5 192.1094,171.5 Q192.9531,171.5 193.4219,170.9688 Q193.8906,170.4375 193.8906,169.5156 L193.8906,161.0781 L196.3438,161.0781 L196.3438,168.8906 Q196.3438,171.4219 195.3438,172.5625 Q194.3438,173.7031 192.1094,173.7031 Q189.8906,173.7031 188.875,172.5625 Q187.875,171.4219 187.875,168.8906 Z \"/><text fill=\"#000000\" font-family=\"sans-serif\" font-size=\"12\" font-style=\"italic\" lengthAdjust=\"spacingAndGlyphs\" textLength=\"113\" x=\"249.5\" y=\"164.1387\">«verificationCase»</text><text fill=\"#000000\" font-family=\"sans-serif\" font-size=\"12\" lengthAdjust=\"spacingAndGlyphs\" textLength=\"200\" x=\"206\" y=\"178.1074\">verificationPlan: VerificationPlan</text><line style=\"stroke: #A80036; stroke-width: 1.5;\" x1=\"178\" x2=\"408\" y1=\"185.9375\" y2=\"185.9375\"/><text fill=\"#000000\" font-family=\"sans-serif\" font-size=\"11\" lengthAdjust=\"spacingAndGlyphs\" textLength=\"50\" x=\"183\" y=\"216.9526\">v: V= vv;</text><text fill=\"#000000\" font-family=\"sans-serif\" font-size=\"11\" font-style=\"italic\" lengthAdjust=\"spacingAndGlyphs\" textLength=\"123\" x=\"183\" y=\"229.7573\">:&gt;&gt;VerificationPlan::v</text><line style=\"stroke: #A80036; stroke-width: 1.0;\" x1=\"178\" x2=\"262\" y1=\"200.3398\" y2=\"200.3398\"/><text fill=\"#000000\" font-family=\"sans-serif\" font-size=\"11\" lengthAdjust=\"spacingAndGlyphs\" textLength=\"62\" x=\"262\" y=\"203.6479\">references</text><line style=\"stroke: #A80036; stroke-width: 1.0;\" x1=\"324\" x2=\"408\" y1=\"200.3398\" y2=\"200.3398\"/><!--MD5=[ee3c913d1a06f366521f9ef512b67efe]\n",
       "class E13--><rect fill=\"#FEFECE\" filter=\"url(#f1hznvzx2ko2hi)\" height=\"45.9375\" id=\"E13\" rx=\"10\" ry=\"10\" style=\"stroke: #A80036; stroke-width: 1.5;\" width=\"177\" x=\"308.5\" y=\"313\"/><ellipse cx=\"323.5\" cy=\"331.9688\" fill=\"#FFA500\" rx=\"11\" ry=\"11\" style=\"stroke: #A80036; stroke-width: 1.0;\"/><path d=\"M319.375,333.8906 L319.375,326.0781 L321.8281,326.0781 L321.8281,334.5156 Q321.8281,335.4375 322.2969,335.9688 Q322.7813,336.5 323.6094,336.5 Q324.4531,336.5 324.9219,335.9688 Q325.3906,335.4375 325.3906,334.5156 L325.3906,326.0781 L327.8438,326.0781 L327.8438,333.8906 Q327.8438,336.4219 326.8438,337.5625 Q325.8438,338.7031 323.6094,338.7031 Q321.3906,338.7031 320.375,337.5625 Q319.375,336.4219 319.375,333.8906 Z \"/><text fill=\"#000000\" font-family=\"sans-serif\" font-size=\"12\" font-style=\"italic\" lengthAdjust=\"spacingAndGlyphs\" textLength=\"91\" x=\"364.5\" y=\"329.1387\">«requirement»</text><text fill=\"#000000\" font-family=\"sans-serif\" font-size=\"12\" lengthAdjust=\"spacingAndGlyphs\" textLength=\"145\" x=\"337.5\" y=\"343.1074\">obj: RequirementCheck</text><line style=\"stroke: #A80036; stroke-width: 1.5;\" x1=\"309.5\" x2=\"484.5\" y1=\"350.9375\" y2=\"350.9375\"/><!--MD5=[05d275557350bfb9b23a4ef7222b4c39]\n",
       "link E3 to E2--><path d=\"M320.01,626.25 C318.4,635.45 316.55,646.23 315,656 C312.72,670.39 310.39,686.11 308.35,700.32 \" fill=\"none\" id=\"E3-&gt;E2\" style=\"stroke: #A80036; stroke-width: 1.0;\"/><polygon fill=\"#FFFFFF\" points=\"305.51,720.37,301.2534,700.574,315.114,702.5441,305.51,720.37\" style=\"stroke: #A80036; stroke-width: 1.0;\"/><ellipse cx=\"304.0356\" cy=\"695.2122\" fill=\"#A80036\" rx=\"2\" ry=\"2\" style=\"stroke: #A80036; stroke-width: 1.0;\"/><ellipse cx=\"313.9361\" cy=\"696.6194\" fill=\"#A80036\" rx=\"2\" ry=\"2\" style=\"stroke: #A80036; stroke-width: 1.0;\"/><!--MD5=[15ebcb19ae302d9b601edb458606d402]\n",
       "link E5 to E2--><path d=\"M440.7,626.2 C427.31,635.03 412.14,645.57 399,656 C375.05,675.01 349.78,698.59 331.03,716.84 \" fill=\"none\" id=\"E5-&gt;E2\" style=\"stroke: #A80036; stroke-width: 1.0; stroke-dasharray: 7.0,7.0;\"/><polygon fill=\"#A80036\" points=\"327.38,720.42,336.6215,717.0148,330.9652,716.9348,331.0452,711.2785,327.38,720.42\" style=\"stroke: #A80036; stroke-width: 1.0;\"/><text fill=\"#000000\" font-family=\"sans-serif\" font-size=\"13\" lengthAdjust=\"spacingAndGlyphs\" textLength=\"62\" x=\"400\" y=\"669.0669\">«subject»</text><!--MD5=[9120cf2e5df3bff93db8f754bbbc09b4]\n",
       "link E5 to E6--><path d=\"M474.44,626.19 C473.15,644.47 471.27,671.12 469.62,694.64 \" fill=\"none\" id=\"E5-&gt;E6\" style=\"stroke: #A80036; stroke-width: 1.0;\"/><polygon fill=\"#A80036\" points=\"469.04,702.82,472.5895,695.0482,466.6041,694.6306,469.04,702.82\" style=\"stroke: #A80036; stroke-width: 1.0;\"/><text fill=\"#000000\" font-family=\"sans-serif\" font-size=\"13\" lengthAdjust=\"spacingAndGlyphs\" textLength=\"73\" x=\"473\" y=\"669.0669\">«objective»</text><!--MD5=[f667431f98296947986a1a7595a31603]\n",
       "link E6 to E4--><path d=\"M466,791.19 C466,804.11 466,818.41 466,831.87 \" fill=\"none\" id=\"E6-&gt;E4\" style=\"stroke: #A80036; stroke-width: 1.0;\"/><polygon fill=\"#FFFFFF\" points=\"466,851.98,459,832.98,473,832.98,466,851.98\" style=\"stroke: #A80036; stroke-width: 1.0;\"/><ellipse cx=\"461\" cy=\"827.28\" fill=\"#A80036\" rx=\"2\" ry=\"2\" style=\"stroke: #A80036; stroke-width: 1.0;\"/><ellipse cx=\"471\" cy=\"827.28\" fill=\"#A80036\" rx=\"2\" ry=\"2\" style=\"stroke: #A80036; stroke-width: 1.0;\"/><!--MD5=[583832df87f4419a098336a29a52fa00]\n",
       "link E7 to E2--><path d=\"M158.27,359.22 C134.37,377.18 103.09,404.58 85,436 C42.23,510.28 6.35,553.46 52,626 C98.17,699.37 203.08,728.9 261.25,739.96 \" fill=\"none\" id=\"E7-&gt;E2\" style=\"stroke: #A80036; stroke-width: 1.0; stroke-dasharray: 7.0,7.0;\"/><polygon fill=\"#A80036\" points=\"266.38,740.91,258.2635,735.3313,261.4643,739.9955,256.8002,743.1963,266.38,740.91\" style=\"stroke: #A80036; stroke-width: 1.0;\"/><text fill=\"#000000\" font-family=\"sans-serif\" font-size=\"13\" lengthAdjust=\"spacingAndGlyphs\" textLength=\"62\" x=\"35\" y=\"546.0669\">«subject»</text><!--MD5=[79bc8f324ef4d02c541433f2e6e513c3]\n",
       "link E7 to E8--><path d=\"M191,359.01 C191,377.7 191,405.02 191,427.69 \" fill=\"none\" id=\"E7-&gt;E8\" style=\"stroke: #A80036; stroke-width: 1.0;\"/><polygon fill=\"#A80036\" points=\"191,435.81,194,427.81,188,427.81,191,435.81\" style=\"stroke: #A80036; stroke-width: 1.0;\"/><text fill=\"#000000\" font-family=\"sans-serif\" font-size=\"13\" lengthAdjust=\"spacingAndGlyphs\" textLength=\"73\" x=\"192\" y=\"402.0669\">«objective»</text><!--MD5=[bfc3ddf2e613be37104f658f09af896c]\n",
       "link E9 to E5--><path d=\"M441.03,492.51 C446.97,511.1 455.63,538.21 462.84,560.81 \" fill=\"none\" id=\"E9-&gt;E5\" style=\"stroke: #A80036; stroke-width: 1.0;\"/><polygon fill=\"#FFFFFF\" points=\"468.95,579.92,456.5018,563.9499,469.8383,559.691,468.95,579.92\" style=\"stroke: #A80036; stroke-width: 1.0;\"/><ellipse cx=\"456.6731\" cy=\"557.9117\" fill=\"#A80036\" rx=\"2\" ry=\"2\" style=\"stroke: #A80036; stroke-width: 1.0;\"/><ellipse cx=\"466.1992\" cy=\"554.8696\" fill=\"#A80036\" rx=\"2\" ry=\"2\" style=\"stroke: #A80036; stroke-width: 1.0;\"/><!--MD5=[e4a10ef82d0e328e31cac39a31e58dda]\n",
       "reverse link E7 to E9--><path d=\"M243.22,365.26 C288.12,389.56 351.97,424.11 393.19,446.42 \" fill=\"none\" id=\"E7&lt;-E9\" style=\"stroke: #A80036; stroke-width: 1.0;\"/><polygon fill=\"#A80036\" points=\"231.67,359.01,235.0427,365.3838,242.2233,364.722,238.8507,358.3482,231.67,359.01\" style=\"stroke: #A80036; stroke-width: 1.0;\"/><!--MD5=[35e5f1cbde42fa304a029880aa2bc7f2]\n",
       "link E9 to E10--><path d=\"M388.47,492.51 C340.62,515.65 265.41,552.01 214.94,576.41 \" fill=\"none\" id=\"E9-&gt;E10\" style=\"stroke: #A80036; stroke-width: 1.0;\"/><polygon fill=\"#A80036\" points=\"207.68,579.92,216.1878,579.1342,213.5733,573.7338,207.68,579.92\" style=\"stroke: #A80036; stroke-width: 1.0;\"/><text fill=\"#000000\" font-family=\"sans-serif\" font-size=\"13\" lengthAdjust=\"spacingAndGlyphs\" textLength=\"73\" x=\"299\" y=\"546.0669\">«objective»</text><!--MD5=[ae660f5ecd7ddb04a8913625960940af]\n",
       "link E12 to E7--><path d=\"M261.84,236.38 C248.08,255.54 232.03,277.88 218.69,296.45 \" fill=\"none\" id=\"E12-&gt;E7\" style=\"stroke: #A80036; stroke-width: 1.0;\"/><polygon fill=\"#FFFFFF\" points=\"206.9,312.87,212.3025,293.3556,223.6718,301.525,206.9,312.87\" style=\"stroke: #A80036; stroke-width: 1.0;\"/><ellipse cx=\"217.2528\" cy=\"289.8937\" fill=\"#A80036\" rx=\"2\" ry=\"2\" style=\"stroke: #A80036; stroke-width: 1.0;\"/><ellipse cx=\"225.3737\" cy=\"295.7291\" fill=\"#A80036\" rx=\"2\" ry=\"2\" style=\"stroke: #A80036; stroke-width: 1.0;\"/><!--MD5=[94adabc162ce7e41b39f13be14fbaeb3]\n",
       "reverse link E11 to E12--><path d=\"M293,100.45 C293,115.17 293,132.39 293,147.84 \" fill=\"none\" id=\"E11&lt;-E12\" style=\"stroke: #A80036; stroke-width: 1.0;\"/><polygon fill=\"#A80036\" points=\"293,87.24,289,93.24,293,99.24,297,93.24,293,87.24\" style=\"stroke: #A80036; stroke-width: 1.0;\"/><!--MD5=[e2a9ac97dcd3257bb5342dae06547bad]\n",
       "link E12 to E13--><path d=\"M324.77,236.38 C341.41,259.09 361.32,286.28 376.02,306.35 \" fill=\"none\" id=\"E12-&gt;E13\" style=\"stroke: #A80036; stroke-width: 1.0;\"/><polygon fill=\"#A80036\" points=\"380.79,312.87,378.4838,304.6431,373.643,308.188,380.79,312.87\" style=\"stroke: #A80036; stroke-width: 1.0;\"/><text fill=\"#000000\" font-family=\"sans-serif\" font-size=\"13\" lengthAdjust=\"spacingAndGlyphs\" textLength=\"73\" x=\"358\" y=\"279.0669\">«objective»</text><!--MD5=[34e58bb6ace49bee01a125bacf00d14a]\n",
       "@startuml\r\n",
       " \r\n",
       "package \"VerificationTest\" as E1   {\r\n",
       "comp def \"V\" as E2  << (B,green) >> {\r\n",
       "m: Integer\r\n",
       "}\r\n",
       "comp usage \"vv: V\" as E3  << (P,limegreen) part>> {\r\n",
       "}\r\n",
       "comp def \"VerificationObjective\" as E4  <<(D,brown)requirement def>> {\r\n",
       "...\r\n",
       "- -\r\n",
       "}\r\n",
       "comp def \"VerificationCase\" as E5  <<(D,brown)verificationCase def>> {\r\n",
       "}\r\n",
       "comp usage \"obj: VerificationObjective\" as E6  <<(U,orange)requirement>> {\r\n",
       "- -references- -\r\n",
       "subj: Anything= v; \\n//:>>VerificationObjective::subj// \r\n",
       "}\r\n",
       "comp def \"VerificationPlan\" as E7  <<(D,brown)verificationCase def>> {\r\n",
       "}\r\n",
       "comp usage \"obj: RequirementCheck\" as E8  <<(U,orange)requirement>> {\r\n",
       "...\r\n",
       "- -\r\n",
       "}\r\n",
       "comp usage \"verificationCase: VerificationCase\" as E9  <<(U,orange)verificationCase>> {\r\n",
       "}\r\n",
       "comp usage \"obj: VerificationObjective\" as E10  <<(U,orange)requirement>> {\r\n",
       "}\r\n",
       "comp usage \"verificationContext: Part\" as E11  << (P,limegreen) part>> {\r\n",
       "}\r\n",
       "comp usage \"verificationPlan: VerificationPlan\" as E12  <<(U,orange)verificationCase>> {\r\n",
       "- -references- -\r\n",
       "v: V= vv; \\n//:>>VerificationPlan::v// \r\n",
       "}\r\n",
       "comp usage \"obj: RequirementCheck\" as E13  <<(U,orange)requirement>> {\r\n",
       "}\r\n",
       "E3 - -:|> E2\r\n",
       "E5 ..> E2 : <<subject>>\r\n",
       "E5 - ->> E6 : <<objective>>\r\n",
       "E6 - -:|> E4\r\n",
       "E7 ..> E2 : <<subject>>\r\n",
       "E7 - ->> E8 : <<objective>>\r\n",
       "E9 - -:|> E5\r\n",
       "E7 *- - E9\r\n",
       "E9 - ->> E10 : <<objective>>\r\n",
       "E12 - -:|> E7\r\n",
       "E11 *- - E12\r\n",
       "E12 - ->> E13 : <<objective>>\r\n",
       "}\r\n",
       "@enduml\r\n",
       "\n",
       "PlantUML version 1.2020.13(Sat Jun 13 12:26:38 UTC 2020)\n",
       "(EPL source distribution)\n",
       "Java Runtime: OpenJDK Runtime Environment\n",
       "JVM: OpenJDK 64-Bit Server VM\n",
       "Default Encoding: UTF-8\n",
       "Language: en\n",
       "Country: null\n",
       "--></g></svg>"
      ]
     },
     "execution_count": 35,
     "metadata": {},
     "output_type": "execute_result"
    }
   ],
   "source": [
    "%viz --style=\"PLANTUML\" --view=\"Sequence\" \"VerificationTest\""
   ]
  },
  {
   "cell_type": "code",
   "execution_count": 36,
   "id": "designing-explosion",
   "metadata": {
    "execution": {
     "iopub.execute_input": "2021-03-25T15:57:51.287237Z",
     "iopub.status.busy": "2021-03-25T15:57:51.286729Z",
     "iopub.status.idle": "2021-03-25T15:57:52.401518Z",
     "shell.execute_reply": "2021-03-25T15:57:52.404221Z"
    }
   },
   "outputs": [
    {
     "data": {
      "image/svg+xml": [
       "<?xml version=\"1.0\" encoding=\"UTF-8\" standalone=\"no\"?><svg xmlns=\"http://www.w3.org/2000/svg\" xmlns:xlink=\"http://www.w3.org/1999/xlink\" contentScriptType=\"application/ecmascript\" contentStyleType=\"text/css\" height=\"562px\" preserveAspectRatio=\"none\" style=\"width:819px;height:562px;\" version=\"1.1\" viewBox=\"0 0 819 562\" width=\"819px\" zoomAndPan=\"magnify\"><defs><filter height=\"300%\" id=\"f1jlua6il1oge3\" width=\"300%\" x=\"-1\" y=\"-1\"><feGaussianBlur result=\"blurOut\" stdDeviation=\"2.0\"/><feColorMatrix in=\"blurOut\" result=\"blurOut2\" type=\"matrix\" values=\"0 0 0 0 0 0 0 0 0 0 0 0 0 0 0 0 0 0 .4 0\"/><feOffset dx=\"4.0\" dy=\"4.0\" in=\"blurOut2\" result=\"blurOut3\"/><feBlend in=\"SourceGraphic\" in2=\"blurOut3\" mode=\"normal\"/></filter></defs><g><!--MD5=[fbc87193dbaf4d95561dea2c320d4a47]\n",
       "cluster E1--><polygon fill=\"#FFFFFF\" filter=\"url(#f1jlua6il1oge3)\" points=\"16,6,147,6,154,28.2969,797,28.2969,797,550,16,550,16,6\" style=\"stroke: #000000; stroke-width: 1.5;\"/><line style=\"stroke: #000000; stroke-width: 1.5;\" x1=\"16\" x2=\"154\" y1=\"28.2969\" y2=\"28.2969\"/><text fill=\"#000000\" font-family=\"sans-serif\" font-size=\"14\" font-weight=\"bold\" lengthAdjust=\"spacingAndGlyphs\" textLength=\"125\" x=\"20\" y=\"20.9951\">VerificationTest</text><!--MD5=[de5ec2e2e8f62f467e546659f5068c88]\n",
       "cluster E5--><rect fill=\"#FFFFFF\" filter=\"url(#f1jlua6il1oge3)\" height=\"341.5\" style=\"stroke: #000000; stroke-width: 1.5;\" width=\"200\" x=\"573\" y=\"74.5\"/><text fill=\"#000000\" font-family=\"sans-serif\" font-size=\"14\" font-weight=\"bold\" lengthAdjust=\"spacingAndGlyphs\" textLength=\"129\" x=\"608.5\" y=\"89.4951\">VerificationCase</text><!--MD5=[917b9dd0c7eca3ee5f47219d1a84c0ad]\n",
       "cluster E11--><rect fill=\"#FFFFFF\" filter=\"url(#f1jlua6il1oge3)\" height=\"313\" style=\"stroke: #000000; stroke-width: 1.5;\" width=\"188\" x=\"280\" y=\"213\"/><text fill=\"#000000\" font-family=\"sans-serif\" font-size=\"14\" font-weight=\"bold\" lengthAdjust=\"spacingAndGlyphs\" textLength=\"123\" x=\"312.5\" y=\"227.9951\">VerificationPlan</text><!--MD5=[b4997ac47864f28c2f74865a473b2911]\n",
       "class E2--><rect fill=\"#FEFECE\" filter=\"url(#f1jlua6il1oge3)\" height=\"52.8047\" id=\"E2\" style=\"stroke: #A80036; stroke-width: 1.5;\" width=\"71\" x=\"484.5\" y=\"186.5\"/><ellipse cx=\"513.45\" cy=\"202.5\" fill=\"#008000\" rx=\"11\" ry=\"11\" style=\"stroke: #A80036; stroke-width: 1.0;\"/><path d=\"M512.3563,202.875 L512.3563,206.5469 L513.9813,206.5469 Q515.1531,206.5469 515.6219,206.1563 Q516.0906,205.75 516.0906,204.75 Q516.0906,203.75 515.5906,203.3125 Q515.1063,202.875 513.9813,202.875 L512.3563,202.875 Z M512.3563,198.0469 L512.3563,200.9219 L513.9813,200.9219 Q514.9031,200.9219 515.2938,200.5938 Q515.7,200.25 515.7,199.5 Q515.7,198.7344 515.2938,198.3906 Q514.8875,198.0469 513.9813,198.0469 L512.3563,198.0469 Z M509.9813,196.0938 L513.9813,196.0938 Q516.0438,196.0938 517.0906,196.875 Q518.1375,197.6563 518.1375,199.2188 Q518.1375,200.4219 517.5125,201.0938 Q516.9031,201.7656 515.7156,201.875 Q517.1375,202.0156 517.8563,202.8281 Q518.575,203.6406 518.575,205.0938 Q518.575,206.8906 517.4969,207.7031 Q516.4188,208.5 513.9813,208.5 L509.9813,208.5 L509.9813,196.0938 Z \"/><text fill=\"#000000\" font-family=\"sans-serif\" font-size=\"12\" lengthAdjust=\"spacingAndGlyphs\" textLength=\"8\" x=\"530.55\" y=\"206.6543\">V</text><line style=\"stroke: #A80036; stroke-width: 1.5;\" x1=\"485.5\" x2=\"554.5\" y1=\"218.5\" y2=\"218.5\"/><text fill=\"#000000\" font-family=\"sans-serif\" font-size=\"11\" lengthAdjust=\"spacingAndGlyphs\" textLength=\"59\" x=\"490.5\" y=\"232.7104\">m: Integer</text><!--MD5=[09b614a08d8cba4a07c9adeb5e0fee81]\n",
       "class E3--><rect fill=\"#FEFECE\" filter=\"url(#f1jlua6il1oge3)\" height=\"45.9375\" id=\"E3\" rx=\"10\" ry=\"10\" style=\"stroke: #A80036; stroke-width: 1.5;\" width=\"68\" x=\"482\" y=\"51.5\"/><ellipse cx=\"497\" cy=\"70.4688\" fill=\"#32CD32\" rx=\"11\" ry=\"11\" style=\"stroke: #A80036; stroke-width: 1.0;\"/><path d=\"M496.7969,66.1406 L496.7969,69.7656 L497.7969,69.7656 Q499,69.7656 499.4844,69.3594 Q499.9688,68.9531 499.9688,67.9531 Q499.9688,66.9531 499.4844,66.5469 Q499,66.1406 497.7969,66.1406 L496.7969,66.1406 Z M494.3438,64.0781 L497.7031,64.0781 Q500.2656,64.0781 501.3906,65 Q502.5156,65.9063 502.5156,67.9531 Q502.5156,70 501.3906,70.9219 Q500.2656,71.8281 497.7031,71.8281 L496.7969,71.8281 L496.7969,76.4688 L494.3438,76.4688 L494.3438,64.0781 Z \"/><text fill=\"#000000\" font-family=\"sans-serif\" font-size=\"12\" font-style=\"italic\" lengthAdjust=\"spacingAndGlyphs\" textLength=\"40\" x=\"509\" y=\"67.6387\">«part»</text><text fill=\"#000000\" font-family=\"sans-serif\" font-size=\"12\" lengthAdjust=\"spacingAndGlyphs\" textLength=\"28\" x=\"515\" y=\"81.6074\">vv: V</text><line style=\"stroke: #A80036; stroke-width: 1.5;\" x1=\"483\" x2=\"549\" y1=\"89.4375\" y2=\"89.4375\"/><!--MD5=[ebbe1d658d1005bcc118a6aa81145e00]\n",
       "class E4--><rect fill=\"#FEFECE\" filter=\"url(#f1jlua6il1oge3)\" height=\"66.7422\" id=\"E4\" style=\"stroke: #A80036; stroke-width: 1.5;\" width=\"159\" x=\"282.5\" y=\"41\"/><ellipse cx=\"297.5\" cy=\"59.9688\" fill=\"#A52A2A\" rx=\"11\" ry=\"11\" style=\"stroke: #A80036; stroke-width: 1.0;\"/><path d=\"M297.0938,55.7813 L297.0938,63.7656 L297.75,63.7656 Q299.1875,63.7656 299.7969,62.8594 Q300.4219,61.9375 300.4219,59.7656 Q300.4219,57.5938 299.7969,56.6875 Q299.1875,55.7813 297.75,55.7813 L297.0938,55.7813 Z M294.6406,53.5781 L297.2656,53.5781 Q300.2969,53.5781 301.625,55.0313 Q302.9688,56.4688 302.9688,59.7656 Q302.9688,63.0625 301.625,64.5156 Q300.2969,65.9688 297.2656,65.9688 L294.6406,65.9688 L294.6406,53.5781 Z \"/><text fill=\"#000000\" font-family=\"sans-serif\" font-size=\"12\" font-style=\"italic\" lengthAdjust=\"spacingAndGlyphs\" textLength=\"115\" x=\"317.5\" y=\"57.1387\">«requirement def»</text><text fill=\"#000000\" font-family=\"sans-serif\" font-size=\"12\" lengthAdjust=\"spacingAndGlyphs\" textLength=\"127\" x=\"311.5\" y=\"71.1074\">VerificationObjective</text><line style=\"stroke: #A80036; stroke-width: 1.5;\" x1=\"283.5\" x2=\"440.5\" y1=\"78.9375\" y2=\"78.9375\"/><text fill=\"#000000\" font-family=\"sans-serif\" font-size=\"11\" lengthAdjust=\"spacingAndGlyphs\" textLength=\"12\" x=\"288.5\" y=\"93.1479\">...</text><line style=\"stroke: #A80036; stroke-width: 1.0;\" x1=\"283.5\" x2=\"440.5\" y1=\"99.7422\" y2=\"99.7422\"/><!--MD5=[bee11217b2f71d958a27249dc326068c]\n",
       "class E14--><rect fill=\"#FEFECE\" filter=\"url(#f1jlua6il1oge3)\" height=\"45.9375\" id=\"E14\" rx=\"10\" ry=\"10\" style=\"stroke: #A80036; stroke-width: 1.5;\" width=\"182\" x=\"57\" y=\"51.5\"/><ellipse cx=\"72\" cy=\"70.4688\" fill=\"#32CD32\" rx=\"11\" ry=\"11\" style=\"stroke: #A80036; stroke-width: 1.0;\"/><path d=\"M71.7969,66.1406 L71.7969,69.7656 L72.7969,69.7656 Q74,69.7656 74.4844,69.3594 Q74.9688,68.9531 74.9688,67.9531 Q74.9688,66.9531 74.4844,66.5469 Q74,66.1406 72.7969,66.1406 L71.7969,66.1406 Z M69.3438,64.0781 L72.7031,64.0781 Q75.2656,64.0781 76.3906,65 Q77.5156,65.9063 77.5156,67.9531 Q77.5156,70 76.3906,70.9219 Q75.2656,71.8281 72.7031,71.8281 L71.7969,71.8281 L71.7969,76.4688 L69.3438,76.4688 L69.3438,64.0781 Z \"/><text fill=\"#000000\" font-family=\"sans-serif\" font-size=\"12\" font-style=\"italic\" lengthAdjust=\"spacingAndGlyphs\" textLength=\"40\" x=\"141\" y=\"67.6387\">«part»</text><text fill=\"#000000\" font-family=\"sans-serif\" font-size=\"12\" lengthAdjust=\"spacingAndGlyphs\" textLength=\"150\" x=\"86\" y=\"81.6074\">verificationContext: Part</text><line style=\"stroke: #A80036; stroke-width: 1.5;\" x1=\"58\" x2=\"238\" y1=\"89.4375\" y2=\"89.4375\"/><!--MD5=[0c48fb7552dae8cbbef69381101a84c8]\n",
       "class E15--><rect fill=\"#FEFECE\" filter=\"url(#f1jlua6il1oge3)\" height=\"88.3516\" id=\"E15\" rx=\"10\" ry=\"10\" style=\"stroke: #A80036; stroke-width: 1.5;\" width=\"232\" x=\"32\" y=\"169\"/><ellipse cx=\"47\" cy=\"187.9688\" fill=\"#FFA500\" rx=\"11\" ry=\"11\" style=\"stroke: #A80036; stroke-width: 1.0;\"/><path d=\"M42.875,189.8906 L42.875,182.0781 L45.3281,182.0781 L45.3281,190.5156 Q45.3281,191.4375 45.7969,191.9688 Q46.2813,192.5 47.1094,192.5 Q47.9531,192.5 48.4219,191.9688 Q48.8906,191.4375 48.8906,190.5156 L48.8906,182.0781 L51.3438,182.0781 L51.3438,189.8906 Q51.3438,192.4219 50.3438,193.5625 Q49.3438,194.7031 47.1094,194.7031 Q44.8906,194.7031 43.875,193.5625 Q42.875,192.4219 42.875,189.8906 Z \"/><text fill=\"#000000\" font-family=\"sans-serif\" font-size=\"12\" font-style=\"italic\" lengthAdjust=\"spacingAndGlyphs\" textLength=\"113\" x=\"104.5\" y=\"185.1387\">«verificationCase»</text><text fill=\"#000000\" font-family=\"sans-serif\" font-size=\"12\" lengthAdjust=\"spacingAndGlyphs\" textLength=\"200\" x=\"61\" y=\"199.1074\">verificationPlan: VerificationPlan</text><line style=\"stroke: #A80036; stroke-width: 1.5;\" x1=\"33\" x2=\"263\" y1=\"206.9375\" y2=\"206.9375\"/><text fill=\"#000000\" font-family=\"sans-serif\" font-size=\"11\" lengthAdjust=\"spacingAndGlyphs\" textLength=\"50\" x=\"38\" y=\"237.9526\">v: V= vv;</text><text fill=\"#000000\" font-family=\"sans-serif\" font-size=\"11\" font-style=\"italic\" lengthAdjust=\"spacingAndGlyphs\" textLength=\"123\" x=\"38\" y=\"250.7573\">:&gt;&gt;VerificationPlan::v</text><line style=\"stroke: #A80036; stroke-width: 1.0;\" x1=\"33\" x2=\"117\" y1=\"221.3398\" y2=\"221.3398\"/><text fill=\"#000000\" font-family=\"sans-serif\" font-size=\"11\" lengthAdjust=\"spacingAndGlyphs\" textLength=\"62\" x=\"117\" y=\"224.6479\">references</text><line style=\"stroke: #A80036; stroke-width: 1.0;\" x1=\"179\" x2=\"263\" y1=\"221.3398\" y2=\"221.3398\"/><!--MD5=[35f0587eaee8d5bb9a02e25b63afc23b]\n",
       "class E16--><rect fill=\"#FEFECE\" filter=\"url(#f1jlua6il1oge3)\" height=\"45.9375\" id=\"E16\" rx=\"10\" ry=\"10\" style=\"stroke: #A80036; stroke-width: 1.5;\" width=\"177\" x=\"59.5\" y=\"334\"/><ellipse cx=\"74.5\" cy=\"352.9688\" fill=\"#FFA500\" rx=\"11\" ry=\"11\" style=\"stroke: #A80036; stroke-width: 1.0;\"/><path d=\"M70.375,354.8906 L70.375,347.0781 L72.8281,347.0781 L72.8281,355.5156 Q72.8281,356.4375 73.2969,356.9688 Q73.7813,357.5 74.6094,357.5 Q75.4531,357.5 75.9219,356.9688 Q76.3906,356.4375 76.3906,355.5156 L76.3906,347.0781 L78.8438,347.0781 L78.8438,354.8906 Q78.8438,357.4219 77.8438,358.5625 Q76.8438,359.7031 74.6094,359.7031 Q72.3906,359.7031 71.375,358.5625 Q70.375,357.4219 70.375,354.8906 Z \"/><text fill=\"#000000\" font-family=\"sans-serif\" font-size=\"12\" font-style=\"italic\" lengthAdjust=\"spacingAndGlyphs\" textLength=\"91\" x=\"115.5\" y=\"350.1387\">«requirement»</text><text fill=\"#000000\" font-family=\"sans-serif\" font-size=\"12\" lengthAdjust=\"spacingAndGlyphs\" textLength=\"145\" x=\"88.5\" y=\"364.1074\">obj: RequirementCheck</text><line style=\"stroke: #A80036; stroke-width: 1.5;\" x1=\"60.5\" x2=\"235.5\" y1=\"371.9375\" y2=\"371.9375\"/><text fill=\"#000000\" font-family=\"sans-serif\" font-size=\"14\" lengthAdjust=\"spacingAndGlyphs\" textLength=\"7\" x=\"587.5\" y=\"53.1982\">v</text><rect fill=\"#A80036\" height=\"12\" style=\"stroke: #FEFECE; stroke-width: 1.5;\" width=\"12\" x=\"585\" y=\"68.5\"/><text fill=\"#000000\" font-family=\"sans-serif\" font-size=\"14\" lengthAdjust=\"spacingAndGlyphs\" textLength=\"48\" x=\"575\" y=\"434.9951\">$result</text><rect fill=\"#A80036\" height=\"12\" style=\"stroke: #FEFECE; stroke-width: 1.5;\" width=\"12\" x=\"593\" y=\"410\"/><text fill=\"#000000\" font-family=\"sans-serif\" font-size=\"14\" lengthAdjust=\"spacingAndGlyphs\" textLength=\"16\" x=\"665\" y=\"53.1982\">$x</text><rect fill=\"#A80036\" height=\"12\" style=\"stroke: #FEFECE; stroke-width: 1.5;\" width=\"12\" x=\"667\" y=\"68.5\"/><text fill=\"#000000\" font-family=\"sans-serif\" font-size=\"14\" lengthAdjust=\"spacingAndGlyphs\" textLength=\"16\" x=\"747\" y=\"53.1982\">$y</text><rect fill=\"#A80036\" height=\"12\" style=\"stroke: #FEFECE; stroke-width: 1.5;\" width=\"12\" x=\"749\" y=\"68.5\"/><text fill=\"#000000\" font-family=\"sans-serif\" font-size=\"14\" lengthAdjust=\"spacingAndGlyphs\" textLength=\"48\" x=\"657\" y=\"434.9951\">$result</text><rect fill=\"#A80036\" height=\"12\" style=\"stroke: #FEFECE; stroke-width: 1.5;\" width=\"12\" x=\"675\" y=\"410\"/><text fill=\"#000000\" font-family=\"sans-serif\" font-size=\"14\" lengthAdjust=\"spacingAndGlyphs\" textLength=\"7\" x=\"370.5\" y=\"191.6982\">v</text><rect fill=\"#A80036\" height=\"12\" style=\"stroke: #FEFECE; stroke-width: 1.5;\" width=\"12\" x=\"368\" y=\"207\"/><g id=\"E1.E11.E13\"><rect fill=\"#FFFFFF\" filter=\"url(#f1jlua6il1oge3)\" height=\"50\" rx=\"12.5\" ry=\"12.5\" style=\"stroke: #A80036; stroke-width: 1.5;\" width=\"128\" x=\"310\" y=\"452\"/><line style=\"stroke: #A80036; stroke-width: 1.5;\" x1=\"310\" x2=\"438\" y1=\"478.2969\" y2=\"478.2969\"/><text fill=\"#000000\" font-family=\"sans-serif\" font-size=\"14\" lengthAdjust=\"spacingAndGlyphs\" textLength=\"108\" x=\"320\" y=\"469.9951\">verificationCase</text></g><!--MD5=[05d275557350bfb9b23a4ef7222b4c39]\n",
       "link E3 to E2--><path d=\"M516.65,97.73 C517.19,116.15 517.98,142.93 518.65,165.93 \" fill=\"none\" id=\"E3-&gt;E2\" style=\"stroke: #A80036; stroke-width: 1.0;\"/><polygon fill=\"#FFFFFF\" points=\"519.24,186.04,511.6864,167.2532,525.6804,166.8431,519.24,186.04\" style=\"stroke: #A80036; stroke-width: 1.0;\"/><ellipse cx=\"513.5186\" cy=\"161.4971\" fill=\"#A80036\" rx=\"2\" ry=\"2\" style=\"stroke: #A80036; stroke-width: 1.0;\"/><ellipse cx=\"523.5143\" cy=\"161.2041\" fill=\"#A80036\" rx=\"2\" ry=\"2\" style=\"stroke: #A80036; stroke-width: 1.0;\"/><!--MD5=[cf04703ca05eebef50f1cfe8b03e143b]\n",
       "link E9 to E7--><path d=\"M756.49,80.55 C763.75,106.22 793.44,224.04 752,304 C718.78,368.1 629.66,404 605.26,412.83 \" fill=\"none\" id=\"E9-E7\" style=\"stroke: #FF0000; stroke-width: 5.0;\"/><!--MD5=[58d440dfd4c930e286431b4800d1b487]\n",
       "link E15 to E11--><path d=\"M216.73,257.18 C229.39,265.1375 242.9319,273.6475 256.5605,282.2111 C263.3748,286.4929 270.2107,290.7881 276.969,295.0343 C277.8138,295.5651 278.6574,296.0951 279.4995,296.6242 \" fill=\"none\" id=\"E15-&gt;E11\" style=\"stroke: #A80036; stroke-width: 1.0;\"/><polygon fill=\"#FFFFFF\" points=\"279.4995,296.6242,259.6874,292.4433,267.1355,280.589,279.4995,296.6242\" style=\"stroke: #A80036; stroke-width: 1.0;\"/><ellipse cx=\"255.925\" cy=\"287.7174\" fill=\"#A80036\" rx=\"2\" ry=\"2\" style=\"stroke: #A80036; stroke-width: 1.0;\"/><ellipse cx=\"261.245\" cy=\"279.25\" fill=\"#A80036\" rx=\"2\" ry=\"2\" style=\"stroke: #A80036; stroke-width: 1.0;\"/><!--MD5=[17bf29720e4688890742b92d9a67fdf0]\n",
       "reverse link E14 to E15--><path d=\"M148,110.96 C148,128.64 148,150.18 148,168.81 \" fill=\"none\" id=\"E14&lt;-E15\" style=\"stroke: #A80036; stroke-width: 1.0;\"/><polygon fill=\"#A80036\" points=\"148,97.73,144,103.73,148,109.73,152,103.73,148,97.73\" style=\"stroke: #A80036; stroke-width: 1.0;\"/><!--MD5=[f8b155c46b092be73bb522b0a8fc72a2]\n",
       "link E15 to E16--><path d=\"M148,257.38 C148,279.5 148,305.86 148,325.76 \" fill=\"none\" id=\"E15-&gt;E16\" style=\"stroke: #A80036; stroke-width: 1.0;\"/><polygon fill=\"#A80036\" points=\"148,333.87,151,325.87,145,325.87,148,333.87\" style=\"stroke: #A80036; stroke-width: 1.0;\"/><text fill=\"#000000\" font-family=\"sans-serif\" font-size=\"13\" lengthAdjust=\"spacingAndGlyphs\" textLength=\"73\" x=\"149\" y=\"300.0669\">«objective»</text><!--MD5=[5a297d3a7b4214cc18e64cd9736a363e]\n",
       "@startuml\r\n",
       " \r\n",
       "package \"VerificationTest\" as E1   {\r\n",
       "comp def \"V\" as E2  << (B,green) >> {\r\n",
       "m: Integer\r\n",
       "}\r\n",
       "comp usage \"vv: V\" as E3  << (P,limegreen) part>> {\r\n",
       "}\r\n",
       "comp def \"VerificationObjective\" as E4  <<(D,brown)requirement def>> {\r\n",
       "...\r\n",
       "- -\r\n",
       "}\r\n",
       "rec def \"VerificationCase\" as E5 {\r\n",
       "portin \"v\" as E6  \r\n",
       "portout \"$result\" as E7  \r\n",
       "portin \"$x\" as E8  \r\n",
       "portin \"$y\" as E9  \r\n",
       "portout \"$result\" as E10  \r\n",
       "}\r\n",
       "\r\n",
       "rec def \"VerificationPlan\" as E11 {\r\n",
       "portin \"v\" as E12  \r\n",
       "rec usage \"verificationCase\" as E13 {\r\n",
       "}\r\n",
       "\r\n",
       "}\r\n",
       "\r\n",
       "comp usage \"verificationContext: Part\" as E14  << (P,limegreen) part>> {\r\n",
       "}\r\n",
       "comp usage \"verificationPlan: VerificationPlan\" as E15  <<(U,orange)verificationCase>> {\r\n",
       "- -references- -\r\n",
       "v: V= vv; \\n//:>>VerificationPlan::v// \r\n",
       "}\r\n",
       "comp usage \"obj: RequirementCheck\" as E16  <<(U,orange)requirement>> {\r\n",
       "}\r\n",
       "E3 - -:|> E2\r\n",
       "E9 -[thickness=5,#red]- E7\r\n",
       "E15 - -:|> E11\r\n",
       "E14 *- - E15\r\n",
       "E15 - ->> E16 : <<objective>>\r\n",
       "}\r\n",
       "@enduml\r\n",
       "\n",
       "PlantUML version 1.2020.13(Sat Jun 13 12:26:38 UTC 2020)\n",
       "(EPL source distribution)\n",
       "Java Runtime: OpenJDK Runtime Environment\n",
       "JVM: OpenJDK 64-Bit Server VM\n",
       "Default Encoding: UTF-8\n",
       "Language: en\n",
       "Country: null\n",
       "--></g></svg>"
      ]
     },
     "execution_count": 36,
     "metadata": {},
     "output_type": "execute_result"
    }
   ],
   "source": [
    "%viz --style=\"PLANTUML\" --view=\"MIXED\" \"VerificationTest\""
   ]
  },
  {
   "cell_type": "code",
   "execution_count": 37,
   "id": "noted-crisis",
   "metadata": {
    "execution": {
     "iopub.execute_input": "2021-03-25T15:57:52.457762Z",
     "iopub.status.busy": "2021-03-25T15:57:52.453076Z",
     "iopub.status.idle": "2021-03-25T15:57:53.562774Z",
     "shell.execute_reply": "2021-03-25T15:57:53.560145Z"
    }
   },
   "outputs": [
    {
     "data": {
      "image/svg+xml": [
       "<?xml version=\"1.0\" encoding=\"UTF-8\" standalone=\"no\"?><svg xmlns=\"http://www.w3.org/2000/svg\" xmlns:xlink=\"http://www.w3.org/1999/xlink\" contentScriptType=\"application/ecmascript\" contentStyleType=\"text/css\" height=\"562px\" preserveAspectRatio=\"none\" style=\"width:793px;height:562px;\" version=\"1.1\" viewBox=\"0 0 793 562\" width=\"793px\" zoomAndPan=\"magnify\"><defs/><g><!--MD5=[fbc87193dbaf4d95561dea2c320d4a47]\n",
       "cluster E1--><polygon fill=\"#FFFFFF\" points=\"16,6,147,6,154,28.2969,771,28.2969,771,550,16,550,16,6\" style=\"stroke: #000000; stroke-width: 1.5;\"/><line style=\"stroke: #000000; stroke-width: 1.5;\" x1=\"16\" x2=\"154\" y1=\"28.2969\" y2=\"28.2969\"/><text fill=\"#000000\" font-family=\"sans-serif\" font-size=\"14\" font-weight=\"bold\" lengthAdjust=\"spacingAndGlyphs\" textLength=\"125\" x=\"20\" y=\"20.9951\">VerificationTest</text><!--MD5=[de5ec2e2e8f62f467e546659f5068c88]\n",
       "cluster E5--><rect fill=\"#FFFFFF\" height=\"341.5\" style=\"stroke: #000000; stroke-width: 1.5;\" width=\"200\" x=\"544\" y=\"74.5\"/><text fill=\"#000000\" font-family=\"sans-serif\" font-size=\"14\" font-weight=\"bold\" lengthAdjust=\"spacingAndGlyphs\" textLength=\"129\" x=\"579.5\" y=\"89.4951\">VerificationCase</text><!--MD5=[917b9dd0c7eca3ee5f47219d1a84c0ad]\n",
       "cluster E11--><rect fill=\"#FFFFFF\" height=\"313\" style=\"stroke: #000000; stroke-width: 1.5;\" width=\"188\" x=\"254\" y=\"213\"/><text fill=\"#000000\" font-family=\"sans-serif\" font-size=\"14\" font-weight=\"bold\" lengthAdjust=\"spacingAndGlyphs\" textLength=\"123\" x=\"286.5\" y=\"227.9951\">VerificationPlan</text><!--MD5=[b4997ac47864f28c2f74865a473b2911]\n",
       "class E2--><rect fill=\"#FFFFFF\" height=\"58.7422\" id=\"E2\" style=\"stroke: #383838; stroke-width: 1.5;\" width=\"71\" x=\"458.5\" y=\"183.5\"/><text fill=\"#000000\" font-family=\"sans-serif\" font-size=\"12\" font-style=\"italic\" lengthAdjust=\"spacingAndGlyphs\" textLength=\"64\" x=\"462\" y=\"199.6387\">«part def»</text><text fill=\"#000000\" font-family=\"sans-serif\" font-size=\"12\" lengthAdjust=\"spacingAndGlyphs\" textLength=\"8\" x=\"490\" y=\"213.6074\">V</text><line style=\"stroke: #383838; stroke-width: 1.5;\" x1=\"459.5\" x2=\"528.5\" y1=\"221.4375\" y2=\"221.4375\"/><text fill=\"#000000\" font-family=\"sans-serif\" font-size=\"11\" lengthAdjust=\"spacingAndGlyphs\" textLength=\"59\" x=\"464.5\" y=\"235.6479\">m: Integer</text><!--MD5=[09b614a08d8cba4a07c9adeb5e0fee81]\n",
       "class E3--><rect fill=\"#FFFFFF\" height=\"45.9375\" id=\"E3\" rx=\"10\" ry=\"10\" style=\"stroke: #383838; stroke-width: 1.5;\" width=\"42\" x=\"473\" y=\"51.5\"/><text fill=\"#000000\" font-family=\"sans-serif\" font-size=\"12\" font-style=\"italic\" lengthAdjust=\"spacingAndGlyphs\" textLength=\"40\" x=\"474\" y=\"67.6387\">«part»</text><text fill=\"#000000\" font-family=\"sans-serif\" font-size=\"12\" lengthAdjust=\"spacingAndGlyphs\" textLength=\"28\" x=\"480\" y=\"81.6074\">vv: V</text><line style=\"stroke: #383838; stroke-width: 1.5;\" x1=\"474\" x2=\"514\" y1=\"89.4375\" y2=\"89.4375\"/><!--MD5=[ebbe1d658d1005bcc118a6aa81145e00]\n",
       "class E4--><rect fill=\"#FFFFFF\" height=\"66.7422\" id=\"E4\" style=\"stroke: #383838; stroke-width: 1.5;\" width=\"133\" x=\"276.5\" y=\"41\"/><text fill=\"#000000\" font-family=\"sans-serif\" font-size=\"12\" font-style=\"italic\" lengthAdjust=\"spacingAndGlyphs\" textLength=\"115\" x=\"285.5\" y=\"57.1387\">«requirement def»</text><text fill=\"#000000\" font-family=\"sans-serif\" font-size=\"12\" lengthAdjust=\"spacingAndGlyphs\" textLength=\"127\" x=\"279.5\" y=\"71.1074\">VerificationObjective</text><line style=\"stroke: #383838; stroke-width: 1.5;\" x1=\"277.5\" x2=\"408.5\" y1=\"78.9375\" y2=\"78.9375\"/><text fill=\"#000000\" font-family=\"sans-serif\" font-size=\"11\" lengthAdjust=\"spacingAndGlyphs\" textLength=\"12\" x=\"282.5\" y=\"93.1479\">...</text><line style=\"stroke: #383838; stroke-width: 1.0;\" x1=\"277.5\" x2=\"408.5\" y1=\"99.7422\" y2=\"99.7422\"/><!--MD5=[bee11217b2f71d958a27249dc326068c]\n",
       "class E14--><rect fill=\"#FFFFFF\" height=\"45.9375\" id=\"E14\" rx=\"10\" ry=\"10\" style=\"stroke: #383838; stroke-width: 1.5;\" width=\"156\" x=\"57\" y=\"51.5\"/><text fill=\"#000000\" font-family=\"sans-serif\" font-size=\"12\" font-style=\"italic\" lengthAdjust=\"spacingAndGlyphs\" textLength=\"40\" x=\"115\" y=\"67.6387\">«part»</text><text fill=\"#000000\" font-family=\"sans-serif\" font-size=\"12\" lengthAdjust=\"spacingAndGlyphs\" textLength=\"150\" x=\"60\" y=\"81.6074\">verificationContext: Part</text><line style=\"stroke: #383838; stroke-width: 1.5;\" x1=\"58\" x2=\"212\" y1=\"89.4375\" y2=\"89.4375\"/><!--MD5=[0c48fb7552dae8cbbef69381101a84c8]\n",
       "class E15--><rect fill=\"#FFFFFF\" height=\"88.3516\" id=\"E15\" rx=\"10\" ry=\"10\" style=\"stroke: #383838; stroke-width: 1.5;\" width=\"206\" x=\"32\" y=\"169\"/><text fill=\"#000000\" font-family=\"sans-serif\" font-size=\"12\" font-style=\"italic\" lengthAdjust=\"spacingAndGlyphs\" textLength=\"113\" x=\"78.5\" y=\"185.1387\">«verificationCase»</text><text fill=\"#000000\" font-family=\"sans-serif\" font-size=\"12\" lengthAdjust=\"spacingAndGlyphs\" textLength=\"200\" x=\"35\" y=\"199.1074\">verificationPlan: VerificationPlan</text><line style=\"stroke: #383838; stroke-width: 1.5;\" x1=\"33\" x2=\"237\" y1=\"206.9375\" y2=\"206.9375\"/><text fill=\"#000000\" font-family=\"sans-serif\" font-size=\"11\" lengthAdjust=\"spacingAndGlyphs\" textLength=\"50\" x=\"38\" y=\"237.9526\">v: V= vv;</text><text fill=\"#000000\" font-family=\"sans-serif\" font-size=\"11\" font-style=\"italic\" lengthAdjust=\"spacingAndGlyphs\" textLength=\"123\" x=\"38\" y=\"250.7573\">:&gt;&gt;VerificationPlan::v</text><line style=\"stroke: #383838; stroke-width: 1.0;\" x1=\"33\" x2=\"104\" y1=\"221.3398\" y2=\"221.3398\"/><text fill=\"#000000\" font-family=\"sans-serif\" font-size=\"11\" lengthAdjust=\"spacingAndGlyphs\" textLength=\"62\" x=\"104\" y=\"224.6479\">references</text><line style=\"stroke: #383838; stroke-width: 1.0;\" x1=\"166\" x2=\"237\" y1=\"221.3398\" y2=\"221.3398\"/><!--MD5=[35f0587eaee8d5bb9a02e25b63afc23b]\n",
       "class E16--><rect fill=\"#FFFFFF\" height=\"45.9375\" id=\"E16\" rx=\"10\" ry=\"10\" style=\"stroke: #383838; stroke-width: 1.5;\" width=\"151\" x=\"59.5\" y=\"334\"/><text fill=\"#000000\" font-family=\"sans-serif\" font-size=\"12\" font-style=\"italic\" lengthAdjust=\"spacingAndGlyphs\" textLength=\"91\" x=\"89.5\" y=\"350.1387\">«requirement»</text><text fill=\"#000000\" font-family=\"sans-serif\" font-size=\"12\" lengthAdjust=\"spacingAndGlyphs\" textLength=\"145\" x=\"62.5\" y=\"364.1074\">obj: RequirementCheck</text><line style=\"stroke: #383838; stroke-width: 1.5;\" x1=\"60.5\" x2=\"209.5\" y1=\"371.9375\" y2=\"371.9375\"/><text fill=\"#000000\" font-family=\"sans-serif\" font-size=\"14\" lengthAdjust=\"spacingAndGlyphs\" textLength=\"7\" x=\"558.5\" y=\"53.1982\">v</text><rect fill=\"#383838\" height=\"12\" style=\"stroke: #F8F8F8; stroke-width: 1.5;\" width=\"12\" x=\"556\" y=\"68.5\"/><text fill=\"#000000\" font-family=\"sans-serif\" font-size=\"14\" lengthAdjust=\"spacingAndGlyphs\" textLength=\"48\" x=\"549\" y=\"434.9951\">$result</text><rect fill=\"#383838\" height=\"12\" style=\"stroke: #F8F8F8; stroke-width: 1.5;\" width=\"12\" x=\"567\" y=\"410\"/><text fill=\"#000000\" font-family=\"sans-serif\" font-size=\"14\" lengthAdjust=\"spacingAndGlyphs\" textLength=\"16\" x=\"636\" y=\"53.1982\">$x</text><rect fill=\"#383838\" height=\"12\" style=\"stroke: #F8F8F8; stroke-width: 1.5;\" width=\"12\" x=\"638\" y=\"68.5\"/><text fill=\"#000000\" font-family=\"sans-serif\" font-size=\"14\" lengthAdjust=\"spacingAndGlyphs\" textLength=\"16\" x=\"718\" y=\"53.1982\">$y</text><rect fill=\"#383838\" height=\"12\" style=\"stroke: #F8F8F8; stroke-width: 1.5;\" width=\"12\" x=\"720\" y=\"68.5\"/><text fill=\"#000000\" font-family=\"sans-serif\" font-size=\"14\" lengthAdjust=\"spacingAndGlyphs\" textLength=\"48\" x=\"631\" y=\"434.9951\">$result</text><rect fill=\"#383838\" height=\"12\" style=\"stroke: #F8F8F8; stroke-width: 1.5;\" width=\"12\" x=\"649\" y=\"410\"/><text fill=\"#000000\" font-family=\"sans-serif\" font-size=\"14\" lengthAdjust=\"spacingAndGlyphs\" textLength=\"7\" x=\"344.5\" y=\"191.6982\">v</text><rect fill=\"#383838\" height=\"12\" style=\"stroke: #F8F8F8; stroke-width: 1.5;\" width=\"12\" x=\"342\" y=\"207\"/><g id=\"E1.E11.E13\"><rect fill=\"#FFFFFF\" height=\"50\" rx=\"12.5\" ry=\"12.5\" style=\"stroke: #383838; stroke-width: 1.5;\" width=\"128\" x=\"284\" y=\"452\"/><line style=\"stroke: #383838; stroke-width: 1.5;\" x1=\"284\" x2=\"412\" y1=\"478.2969\" y2=\"478.2969\"/><text fill=\"#000000\" font-family=\"sans-serif\" font-size=\"14\" lengthAdjust=\"spacingAndGlyphs\" textLength=\"108\" x=\"294\" y=\"469.9951\">verificationCase</text></g><!--MD5=[05d275557350bfb9b23a4ef7222b4c39]\n",
       "link E3 to E2--><path d=\"M494,97.73 C494,115.37 494,140.67 494,162.99 \" fill=\"none\" id=\"E3-&gt;E2\" style=\"stroke: #383838; stroke-width: 1.0;\"/><polygon fill=\"#FFFFFF\" points=\"494,183.12,487,164.12,501,164.12,494,183.12\" style=\"stroke: #383838; stroke-width: 1.0;\"/><ellipse cx=\"489\" cy=\"158.42\" fill=\"#383838\" rx=\"2\" ry=\"2\" style=\"stroke: #383838; stroke-width: 1.0;\"/><ellipse cx=\"499\" cy=\"158.42\" fill=\"#383838\" rx=\"2\" ry=\"2\" style=\"stroke: #383838; stroke-width: 1.0;\"/><!--MD5=[cf04703ca05eebef50f1cfe8b03e143b]\n",
       "link E9 to E7--><path d=\"M727.57,80.54 C735.27,106.16 766.91,223.78 726,304 C693.2,368.32 603.78,404.07 579.28,412.85 \" fill=\"none\" id=\"E9-E7\" style=\"stroke: #383838; stroke-width: 5.0;\"/><!--MD5=[58d440dfd4c930e286431b4800d1b487]\n",
       "link E15 to E11--><path d=\"M199.77,257.18 C211.705,265.1375 224.47,273.6475 237.3159,282.2111 C240.5274,284.352 243.744,286.4962 246.9539,288.636 C248.5588,289.7059 250.1621,290.7747 251.7623,291.8414 C252.1623,292.1081 252.5621,292.3747 252.9618,292.6411 C253.1616,292.7743 253.3613,292.9074 253.561,293.0405 \" fill=\"none\" id=\"E15-&gt;E11\" style=\"stroke: #383838; stroke-width: 1.0;\"/><polygon fill=\"#FFFFFF\" points=\"253.561,293.0405,233.869,288.3262,241.6345,276.6773,253.561,293.0405\" style=\"stroke: #383838; stroke-width: 1.0;\"/><ellipse cx=\"230.2356\" cy=\"283.5004\" fill=\"#383838\" rx=\"2\" ry=\"2\" style=\"stroke: #383838; stroke-width: 1.0;\"/><ellipse cx=\"235.7823\" cy=\"275.1798\" fill=\"#383838\" rx=\"2\" ry=\"2\" style=\"stroke: #383838; stroke-width: 1.0;\"/><!--MD5=[17bf29720e4688890742b92d9a67fdf0]\n",
       "reverse link E14 to E15--><path d=\"M135,110.96 C135,128.64 135,150.18 135,168.81 \" fill=\"none\" id=\"E14&lt;-E15\" style=\"stroke: #383838; stroke-width: 1.0;\"/><polygon fill=\"#383838\" points=\"135,97.73,131,103.73,135,109.73,139,103.73,135,97.73\" style=\"stroke: #383838; stroke-width: 1.0;\"/><!--MD5=[f8b155c46b092be73bb522b0a8fc72a2]\n",
       "link E15 to E16--><path d=\"M135,257.38 C135,279.5 135,305.86 135,325.76 \" fill=\"none\" id=\"E15-&gt;E16\" style=\"stroke: #383838; stroke-width: 1.0;\"/><polygon fill=\"#383838\" points=\"135,333.87,138,325.87,132,325.87,135,333.87\" style=\"stroke: #383838; stroke-width: 1.0;\"/><text fill=\"#000000\" font-family=\"sans-serif\" font-size=\"13\" lengthAdjust=\"spacingAndGlyphs\" textLength=\"73\" x=\"136\" y=\"300.0669\">«objective»</text><!--MD5=[5639bc5429d4ac72c2483de89555fd38]\n",
       "@startuml\r\n",
       "skinparam monochrome true\r\n",
       "skinparam classbackgroundcolor white\r\n",
       "skinparam shadowing false\r\n",
       "skinparam wrapWidth 300\r\n",
       "hide circle\r\n",
       "\r\n",
       "package \"VerificationTest\" as E1   {\r\n",
       "comp def \"V\" as E2  <<(T,blue)part def>> {\r\n",
       "m: Integer\r\n",
       "}\r\n",
       "comp usage \"vv: V\" as E3  <<(T,blue)part>> {\r\n",
       "}\r\n",
       "comp def \"VerificationObjective\" as E4  <<(T,blue)requirement def>> {\r\n",
       "...\r\n",
       "- -\r\n",
       "}\r\n",
       "rec def \"VerificationCase\" as E5 {\r\n",
       "portin \"v\" as E6  \r\n",
       "portout \"$result\" as E7  \r\n",
       "portin \"$x\" as E8  \r\n",
       "portin \"$y\" as E9  \r\n",
       "portout \"$result\" as E10  \r\n",
       "}\r\n",
       "\r\n",
       "rec def \"VerificationPlan\" as E11 {\r\n",
       "portin \"v\" as E12  \r\n",
       "rec usage \"verificationCase\" as E13 {\r\n",
       "}\r\n",
       "\r\n",
       "}\r\n",
       "\r\n",
       "comp usage \"verificationContext: Part\" as E14  <<(T,blue)part>> {\r\n",
       "}\r\n",
       "comp usage \"verificationPlan: VerificationPlan\" as E15  <<(T,blue)verificationCase>> {\r\n",
       "- -references- -\r\n",
       "v: V= vv; \\n//:>>VerificationPlan::v// \r\n",
       "}\r\n",
       "comp usage \"obj: RequirementCheck\" as E16  <<(T,blue)requirement>> {\r\n",
       "}\r\n",
       "E3 - -:|> E2\r\n",
       "E9 -[thickness=5]- E7\r\n",
       "E15 - -:|> E11\r\n",
       "E14 *- - E15\r\n",
       "E15 - ->> E16 : <<objective>>\r\n",
       "}\r\n",
       "@enduml\r\n",
       "\n",
       "PlantUML version 1.2020.13(Sat Jun 13 12:26:38 UTC 2020)\n",
       "(EPL source distribution)\n",
       "Java Runtime: OpenJDK Runtime Environment\n",
       "JVM: OpenJDK 64-Bit Server VM\n",
       "Default Encoding: UTF-8\n",
       "Language: en\n",
       "Country: null\n",
       "--></g></svg>"
      ]
     },
     "execution_count": 37,
     "metadata": {},
     "output_type": "execute_result"
    }
   ],
   "source": [
    "%viz --style=\"DEFAULT\" --view=\"Default\" \"VerificationTest\""
   ]
  },
  {
   "cell_type": "code",
   "execution_count": 38,
   "id": "comparable-switzerland",
   "metadata": {
    "execution": {
     "iopub.execute_input": "2021-03-25T15:57:53.613142Z",
     "iopub.status.busy": "2021-03-25T15:57:53.611972Z",
     "iopub.status.idle": "2021-03-25T15:57:55.990715Z",
     "shell.execute_reply": "2021-03-25T15:57:55.991202Z"
    }
   },
   "outputs": [
    {
     "data": {
      "image/svg+xml": [
       "<?xml version=\"1.0\" encoding=\"UTF-8\" standalone=\"no\"?><svg xmlns=\"http://www.w3.org/2000/svg\" xmlns:xlink=\"http://www.w3.org/1999/xlink\" contentScriptType=\"application/ecmascript\" contentStyleType=\"text/css\" height=\"947px\" preserveAspectRatio=\"none\" style=\"width:519px;height:947px;\" version=\"1.1\" viewBox=\"0 0 519 947\" width=\"519px\" zoomAndPan=\"magnify\"><defs/><g><!--MD5=[fbc87193dbaf4d95561dea2c320d4a47]\n",
       "cluster E1--><polygon fill=\"#FFFFFF\" points=\"16,6,147,6,154,28.2969,497,28.2969,497,935,16,935,16,6\" style=\"stroke: #000000; stroke-width: 1.5;\"/><line style=\"stroke: #000000; stroke-width: 1.5;\" x1=\"16\" x2=\"154\" y1=\"28.2969\" y2=\"28.2969\"/><text fill=\"#000000\" font-family=\"sans-serif\" font-size=\"14\" font-weight=\"bold\" lengthAdjust=\"spacingAndGlyphs\" textLength=\"125\" x=\"20\" y=\"20.9951\">VerificationTest</text><!--MD5=[b4997ac47864f28c2f74865a473b2911]\n",
       "class E2--><rect fill=\"#FFFFFF\" height=\"58.7422\" id=\"E2\" style=\"stroke: #383838; stroke-width: 1.5;\" width=\"71\" x=\"193.5\" y=\"717.5\"/><text fill=\"#000000\" font-family=\"sans-serif\" font-size=\"12\" font-style=\"italic\" lengthAdjust=\"spacingAndGlyphs\" textLength=\"64\" x=\"197\" y=\"733.6387\">«part def»</text><text fill=\"#000000\" font-family=\"sans-serif\" font-size=\"12\" lengthAdjust=\"spacingAndGlyphs\" textLength=\"8\" x=\"225\" y=\"747.6074\">V</text><line style=\"stroke: #383838; stroke-width: 1.5;\" x1=\"194.5\" x2=\"263.5\" y1=\"755.4375\" y2=\"755.4375\"/><text fill=\"#000000\" font-family=\"sans-serif\" font-size=\"11\" lengthAdjust=\"spacingAndGlyphs\" textLength=\"59\" x=\"199.5\" y=\"769.6479\">m: Integer</text><!--MD5=[09b614a08d8cba4a07c9adeb5e0fee81]\n",
       "class E3--><rect fill=\"#FFFFFF\" height=\"45.9375\" id=\"E3\" rx=\"10\" ry=\"10\" style=\"stroke: #383838; stroke-width: 1.5;\" width=\"42\" x=\"264\" y=\"580\"/><text fill=\"#000000\" font-family=\"sans-serif\" font-size=\"12\" font-style=\"italic\" lengthAdjust=\"spacingAndGlyphs\" textLength=\"40\" x=\"265\" y=\"596.1387\">«part»</text><text fill=\"#000000\" font-family=\"sans-serif\" font-size=\"12\" lengthAdjust=\"spacingAndGlyphs\" textLength=\"28\" x=\"271\" y=\"610.1074\">vv: V</text><line style=\"stroke: #383838; stroke-width: 1.5;\" x1=\"265\" x2=\"305\" y1=\"617.9375\" y2=\"617.9375\"/><!--MD5=[ebbe1d658d1005bcc118a6aa81145e00]\n",
       "class E4--><rect fill=\"#FFFFFF\" height=\"66.7422\" id=\"E4\" style=\"stroke: #383838; stroke-width: 1.5;\" width=\"133\" x=\"323.5\" y=\"852\"/><text fill=\"#000000\" font-family=\"sans-serif\" font-size=\"12\" font-style=\"italic\" lengthAdjust=\"spacingAndGlyphs\" textLength=\"115\" x=\"332.5\" y=\"868.1387\">«requirement def»</text><text fill=\"#000000\" font-family=\"sans-serif\" font-size=\"12\" lengthAdjust=\"spacingAndGlyphs\" textLength=\"127\" x=\"326.5\" y=\"882.1074\">VerificationObjective</text><line style=\"stroke: #383838; stroke-width: 1.5;\" x1=\"324.5\" x2=\"455.5\" y1=\"889.9375\" y2=\"889.9375\"/><text fill=\"#000000\" font-family=\"sans-serif\" font-size=\"11\" lengthAdjust=\"spacingAndGlyphs\" textLength=\"12\" x=\"329.5\" y=\"904.1479\">...</text><line style=\"stroke: #383838; stroke-width: 1.0;\" x1=\"324.5\" x2=\"455.5\" y1=\"910.7422\" y2=\"910.7422\"/><!--MD5=[270fce915f116d4de14055a7c1d9a0f3]\n",
       "class E5--><rect fill=\"#FFFFFF\" height=\"45.9375\" id=\"E5\" style=\"stroke: #383838; stroke-width: 1.5;\" width=\"139\" x=\"341.5\" y=\"580\"/><text fill=\"#000000\" font-family=\"sans-serif\" font-size=\"12\" font-style=\"italic\" lengthAdjust=\"spacingAndGlyphs\" textLength=\"137\" x=\"342.5\" y=\"596.1387\">«verificationCase def»</text><text fill=\"#000000\" font-family=\"sans-serif\" font-size=\"12\" lengthAdjust=\"spacingAndGlyphs\" textLength=\"101\" x=\"360.5\" y=\"610.1074\">VerificationCase</text><line style=\"stroke: #383838; stroke-width: 1.5;\" x1=\"342.5\" x2=\"479.5\" y1=\"617.9375\" y2=\"617.9375\"/><!--MD5=[60a26617385b1d2d0262a64233df1f8d]\n",
       "class E6--><rect fill=\"#FFFFFF\" height=\"88.3516\" id=\"E6\" rx=\"10\" ry=\"10\" style=\"stroke: #383838; stroke-width: 1.5;\" width=\"181\" x=\"299.5\" y=\"703\"/><text fill=\"#000000\" font-family=\"sans-serif\" font-size=\"12\" font-style=\"italic\" lengthAdjust=\"spacingAndGlyphs\" textLength=\"91\" x=\"344.5\" y=\"719.1387\">«requirement»</text><text fill=\"#000000\" font-family=\"sans-serif\" font-size=\"12\" lengthAdjust=\"spacingAndGlyphs\" textLength=\"154\" x=\"313\" y=\"733.1074\">obj: VerificationObjective</text><line style=\"stroke: #383838; stroke-width: 1.5;\" x1=\"300.5\" x2=\"479.5\" y1=\"740.9375\" y2=\"740.9375\"/><text fill=\"#000000\" font-family=\"sans-serif\" font-size=\"11\" lengthAdjust=\"spacingAndGlyphs\" textLength=\"103\" x=\"305.5\" y=\"771.9526\">subj: Anything= v;</text><text fill=\"#000000\" font-family=\"sans-serif\" font-size=\"11\" font-style=\"italic\" lengthAdjust=\"spacingAndGlyphs\" textLength=\"169\" x=\"305.5\" y=\"784.7573\">:&gt;&gt;VerificationObjective::subj</text><line style=\"stroke: #383838; stroke-width: 1.0;\" x1=\"300.5\" x2=\"359\" y1=\"755.3398\" y2=\"755.3398\"/><text fill=\"#000000\" font-family=\"sans-serif\" font-size=\"11\" lengthAdjust=\"spacingAndGlyphs\" textLength=\"62\" x=\"359\" y=\"758.6479\">references</text><line style=\"stroke: #383838; stroke-width: 1.0;\" x1=\"421\" x2=\"479.5\" y1=\"755.3398\" y2=\"755.3398\"/><!--MD5=[2156ba9850f5573cc1fc38a6a4b2f02b]\n",
       "class E7--><rect fill=\"#FFFFFF\" height=\"45.9375\" id=\"E7\" style=\"stroke: #383838; stroke-width: 1.5;\" width=\"139\" x=\"86.5\" y=\"313\"/><text fill=\"#000000\" font-family=\"sans-serif\" font-size=\"12\" font-style=\"italic\" lengthAdjust=\"spacingAndGlyphs\" textLength=\"137\" x=\"87.5\" y=\"329.1387\">«verificationCase def»</text><text fill=\"#000000\" font-family=\"sans-serif\" font-size=\"12\" lengthAdjust=\"spacingAndGlyphs\" textLength=\"97\" x=\"107.5\" y=\"343.1074\">VerificationPlan</text><line style=\"stroke: #383838; stroke-width: 1.5;\" x1=\"87.5\" x2=\"224.5\" y1=\"350.9375\" y2=\"350.9375\"/><!--MD5=[b9389687b975829384b498ac4b7476b2]\n",
       "class E8--><rect fill=\"#FFFFFF\" height=\"66.7422\" id=\"E8\" rx=\"10\" ry=\"10\" style=\"stroke: #383838; stroke-width: 1.5;\" width=\"151\" x=\"80.5\" y=\"436\"/><text fill=\"#000000\" font-family=\"sans-serif\" font-size=\"12\" font-style=\"italic\" lengthAdjust=\"spacingAndGlyphs\" textLength=\"91\" x=\"110.5\" y=\"452.1387\">«requirement»</text><text fill=\"#000000\" font-family=\"sans-serif\" font-size=\"12\" lengthAdjust=\"spacingAndGlyphs\" textLength=\"145\" x=\"83.5\" y=\"466.1074\">obj: RequirementCheck</text><line style=\"stroke: #383838; stroke-width: 1.5;\" x1=\"81.5\" x2=\"230.5\" y1=\"473.9375\" y2=\"473.9375\"/><text fill=\"#000000\" font-family=\"sans-serif\" font-size=\"11\" lengthAdjust=\"spacingAndGlyphs\" textLength=\"12\" x=\"86.5\" y=\"488.1479\">...</text><line style=\"stroke: #383838; stroke-width: 1.0;\" x1=\"81.5\" x2=\"230.5\" y1=\"494.7422\" y2=\"494.7422\"/><!--MD5=[fd4143e9d270a159db93a4ea2a975926]\n",
       "class E9--><rect fill=\"#FFFFFF\" height=\"45.9375\" id=\"E9\" rx=\"10\" ry=\"10\" style=\"stroke: #383838; stroke-width: 1.5;\" width=\"214\" x=\"267\" y=\"446.5\"/><text fill=\"#000000\" font-family=\"sans-serif\" font-size=\"12\" font-style=\"italic\" lengthAdjust=\"spacingAndGlyphs\" textLength=\"113\" x=\"317.5\" y=\"462.6387\">«verificationCase»</text><text fill=\"#000000\" font-family=\"sans-serif\" font-size=\"12\" lengthAdjust=\"spacingAndGlyphs\" textLength=\"208\" x=\"270\" y=\"476.6074\">verificationCase: VerificationCase</text><line style=\"stroke: #383838; stroke-width: 1.5;\" x1=\"268\" x2=\"480\" y1=\"484.4375\" y2=\"484.4375\"/><!--MD5=[96f4274e9e20536e775497830990834d]\n",
       "class E10--><rect fill=\"#FFFFFF\" height=\"45.9375\" id=\"E10\" rx=\"10\" ry=\"10\" style=\"stroke: #383838; stroke-width: 1.5;\" width=\"160\" x=\"69\" y=\"580\"/><text fill=\"#000000\" font-family=\"sans-serif\" font-size=\"12\" font-style=\"italic\" lengthAdjust=\"spacingAndGlyphs\" textLength=\"91\" x=\"103.5\" y=\"596.1387\">«requirement»</text><text fill=\"#000000\" font-family=\"sans-serif\" font-size=\"12\" lengthAdjust=\"spacingAndGlyphs\" textLength=\"154\" x=\"72\" y=\"610.1074\">obj: VerificationObjective</text><line style=\"stroke: #383838; stroke-width: 1.5;\" x1=\"70\" x2=\"228\" y1=\"617.9375\" y2=\"617.9375\"/><!--MD5=[1dd1bfd58a279cf63c5f349dbc8fc6a1]\n",
       "class E11--><rect fill=\"#FFFFFF\" height=\"45.9375\" id=\"E11\" rx=\"10\" ry=\"10\" style=\"stroke: #383838; stroke-width: 1.5;\" width=\"156\" x=\"168\" y=\"41\"/><text fill=\"#000000\" font-family=\"sans-serif\" font-size=\"12\" font-style=\"italic\" lengthAdjust=\"spacingAndGlyphs\" textLength=\"40\" x=\"226\" y=\"57.1387\">«part»</text><text fill=\"#000000\" font-family=\"sans-serif\" font-size=\"12\" lengthAdjust=\"spacingAndGlyphs\" textLength=\"150\" x=\"171\" y=\"71.1074\">verificationContext: Part</text><line style=\"stroke: #383838; stroke-width: 1.5;\" x1=\"169\" x2=\"323\" y1=\"78.9375\" y2=\"78.9375\"/><!--MD5=[49a0ec8f00dab7302a31f22d0f0fe584]\n",
       "class E12--><rect fill=\"#FFFFFF\" height=\"88.3516\" id=\"E12\" rx=\"10\" ry=\"10\" style=\"stroke: #383838; stroke-width: 1.5;\" width=\"206\" x=\"143\" y=\"148\"/><text fill=\"#000000\" font-family=\"sans-serif\" font-size=\"12\" font-style=\"italic\" lengthAdjust=\"spacingAndGlyphs\" textLength=\"113\" x=\"189.5\" y=\"164.1387\">«verificationCase»</text><text fill=\"#000000\" font-family=\"sans-serif\" font-size=\"12\" lengthAdjust=\"spacingAndGlyphs\" textLength=\"200\" x=\"146\" y=\"178.1074\">verificationPlan: VerificationPlan</text><line style=\"stroke: #383838; stroke-width: 1.5;\" x1=\"144\" x2=\"348\" y1=\"185.9375\" y2=\"185.9375\"/><text fill=\"#000000\" font-family=\"sans-serif\" font-size=\"11\" lengthAdjust=\"spacingAndGlyphs\" textLength=\"50\" x=\"149\" y=\"216.9526\">v: V= vv;</text><text fill=\"#000000\" font-family=\"sans-serif\" font-size=\"11\" font-style=\"italic\" lengthAdjust=\"spacingAndGlyphs\" textLength=\"123\" x=\"149\" y=\"229.7573\">:&gt;&gt;VerificationPlan::v</text><line style=\"stroke: #383838; stroke-width: 1.0;\" x1=\"144\" x2=\"215\" y1=\"200.3398\" y2=\"200.3398\"/><text fill=\"#000000\" font-family=\"sans-serif\" font-size=\"11\" lengthAdjust=\"spacingAndGlyphs\" textLength=\"62\" x=\"215\" y=\"203.6479\">references</text><line style=\"stroke: #383838; stroke-width: 1.0;\" x1=\"277\" x2=\"348\" y1=\"200.3398\" y2=\"200.3398\"/><!--MD5=[ee3c913d1a06f366521f9ef512b67efe]\n",
       "class E13--><rect fill=\"#FFFFFF\" height=\"45.9375\" id=\"E13\" rx=\"10\" ry=\"10\" style=\"stroke: #383838; stroke-width: 1.5;\" width=\"151\" x=\"260.5\" y=\"313\"/><text fill=\"#000000\" font-family=\"sans-serif\" font-size=\"12\" font-style=\"italic\" lengthAdjust=\"spacingAndGlyphs\" textLength=\"91\" x=\"290.5\" y=\"329.1387\">«requirement»</text><text fill=\"#000000\" font-family=\"sans-serif\" font-size=\"12\" lengthAdjust=\"spacingAndGlyphs\" textLength=\"145\" x=\"263.5\" y=\"343.1074\">obj: RequirementCheck</text><line style=\"stroke: #383838; stroke-width: 1.5;\" x1=\"261.5\" x2=\"410.5\" y1=\"350.9375\" y2=\"350.9375\"/><!--MD5=[05d275557350bfb9b23a4ef7222b4c39]\n",
       "link E3 to E2--><path d=\"M263.77,625.05 C256.04,633.9 247.98,644.75 243,656 C237.37,668.71 233.96,683.31 231.9,697 \" fill=\"none\" id=\"E3-&gt;E2\" style=\"stroke: #383838; stroke-width: 1.0;\"/><polygon fill=\"#FFFFFF\" points=\"229.66,717.36,224.7793,697.7086,238.6954,699.2392,229.66,717.36\" style=\"stroke: #383838; stroke-width: 1.0;\"/><ellipse cx=\"227.3905\" cy=\"692.2614\" fill=\"#383838\" rx=\"2\" ry=\"2\" style=\"stroke: #383838; stroke-width: 1.0;\"/><ellipse cx=\"237.3306\" cy=\"693.3547\" fill=\"#383838\" rx=\"2\" ry=\"2\" style=\"stroke: #383838; stroke-width: 1.0;\"/><!--MD5=[15ebcb19ae302d9b601edb458606d402]\n",
       "link E5 to E2--><path d=\"M373.38,626.02 C359.12,634.84 342.97,645.4 329,656 C305.45,673.87 280.74,696.06 261.78,713.94 \" fill=\"none\" id=\"E5-&gt;E2\" style=\"stroke: #383838; stroke-width: 1.0; stroke-dasharray: 7.0,7.0;\"/><polygon fill=\"#383838\" points=\"258.07,717.46,267.352,714.167,261.6971,714.0185,261.8456,708.3636,258.07,717.46\" style=\"stroke: #383838; stroke-width: 1.0;\"/><text fill=\"#000000\" font-family=\"sans-serif\" font-size=\"13\" lengthAdjust=\"spacingAndGlyphs\" textLength=\"62\" x=\"330\" y=\"669.0669\">«subject»</text><!--MD5=[9120cf2e5df3bff93db8f754bbbc09b4]\n",
       "link E5 to E6--><path d=\"M407.72,626.19 C405.02,644.47 401.07,671.12 397.59,694.64 \" fill=\"none\" id=\"E5-&gt;E6\" style=\"stroke: #383838; stroke-width: 1.0;\"/><polygon fill=\"#383838\" points=\"396.39,702.82,400.529,695.3455,394.5937,694.467,396.39,702.82\" style=\"stroke: #383838; stroke-width: 1.0;\"/><text fill=\"#000000\" font-family=\"sans-serif\" font-size=\"13\" lengthAdjust=\"spacingAndGlyphs\" textLength=\"73\" x=\"403\" y=\"669.0669\">«objective»</text><!--MD5=[f667431f98296947986a1a7595a31603]\n",
       "link E6 to E4--><path d=\"M390,791.19 C390,804.11 390,818.41 390,831.87 \" fill=\"none\" id=\"E6-&gt;E4\" style=\"stroke: #383838; stroke-width: 1.0;\"/><polygon fill=\"#FFFFFF\" points=\"390,851.98,383,832.98,397,832.98,390,851.98\" style=\"stroke: #383838; stroke-width: 1.0;\"/><ellipse cx=\"385\" cy=\"827.28\" fill=\"#383838\" rx=\"2\" ry=\"2\" style=\"stroke: #383838; stroke-width: 1.0;\"/><ellipse cx=\"395\" cy=\"827.28\" fill=\"#383838\" rx=\"2\" ry=\"2\" style=\"stroke: #383838; stroke-width: 1.0;\"/><!--MD5=[583832df87f4419a098336a29a52fa00]\n",
       "link E7 to E2--><path d=\"M126.49,359.05 C104.8,377.11 76.79,404.71 63,436 C28.88,513.4 12.38,551.27 52,626 C80.63,680.01 145.66,714.18 188.41,731.7 \" fill=\"none\" id=\"E7-&gt;E2\" style=\"stroke: #383838; stroke-width: 1.0; stroke-dasharray: 7.0,7.0;\"/><polygon fill=\"#383838\" points=\"193.25,733.65,186.4056,726.5681,188.6146,731.7758,183.4068,733.9848,193.25,733.65\" style=\"stroke: #383838; stroke-width: 1.0;\"/><text fill=\"#000000\" font-family=\"sans-serif\" font-size=\"13\" lengthAdjust=\"spacingAndGlyphs\" textLength=\"62\" x=\"31\" y=\"546.0669\">«subject»</text><!--MD5=[79bc8f324ef4d02c541433f2e6e513c3]\n",
       "link E7 to E8--><path d=\"M156,359.01 C156,377.7 156,405.02 156,427.69 \" fill=\"none\" id=\"E7-&gt;E8\" style=\"stroke: #383838; stroke-width: 1.0;\"/><polygon fill=\"#383838\" points=\"156,435.81,159,427.81,153,427.81,156,435.81\" style=\"stroke: #383838; stroke-width: 1.0;\"/><text fill=\"#000000\" font-family=\"sans-serif\" font-size=\"13\" lengthAdjust=\"spacingAndGlyphs\" textLength=\"73\" x=\"157\" y=\"402.0669\">«objective»</text><!--MD5=[bfc3ddf2e613be37104f658f09af896c]\n",
       "link E9 to E5--><path d=\"M380.19,492.51 C385.4,511 392.97,537.94 399.31,560.46 \" fill=\"none\" id=\"E9-&gt;E5\" style=\"stroke: #383838; stroke-width: 1.0;\"/><polygon fill=\"#FFFFFF\" points=\"404.79,579.92,392.9087,563.5238,406.3861,559.7346,404.79,579.92\" style=\"stroke: #383838; stroke-width: 1.0;\"/><ellipse cx=\"393.2913\" cy=\"557.4953\" fill=\"#383838\" rx=\"2\" ry=\"2\" style=\"stroke: #383838; stroke-width: 1.0;\"/><ellipse cx=\"402.918\" cy=\"554.7886\" fill=\"#383838\" rx=\"2\" ry=\"2\" style=\"stroke: #383838; stroke-width: 1.0;\"/><!--MD5=[e4a10ef82d0e328e31cac39a31e58dda]\n",
       "reverse link E7 to E9--><path d=\"M203.63,365.73 C243.86,390 300.64,424.25 337.39,446.42 \" fill=\"none\" id=\"E7&lt;-E9\" style=\"stroke: #383838; stroke-width: 1.0;\"/><polygon fill=\"#383838\" points=\"192.49,359.01,195.561,365.5345,202.7648,365.2091,199.6938,358.6847,192.49,359.01\" style=\"stroke: #383838; stroke-width: 1.0;\"/><!--MD5=[35e5f1cbde42fa304a029880aa2bc7f2]\n",
       "link E9 to E10--><path d=\"M336.34,492.51 C297.08,515.46 235.56,551.41 193.82,575.81 \" fill=\"none\" id=\"E9-&gt;E10\" style=\"stroke: #383838; stroke-width: 1.0;\"/><polygon fill=\"#383838\" points=\"186.78,579.92,195.2026,578.4847,192.182,573.3005,186.78,579.92\" style=\"stroke: #383838; stroke-width: 1.0;\"/><text fill=\"#000000\" font-family=\"sans-serif\" font-size=\"13\" lengthAdjust=\"spacingAndGlyphs\" textLength=\"73\" x=\"262\" y=\"546.0669\">«objective»</text><!--MD5=[ae660f5ecd7ddb04a8913625960940af]\n",
       "link E12 to E7--><path d=\"M218.51,236.38 C206.49,255.34 192.5,277.42 180.8,295.87 \" fill=\"none\" id=\"E12-&gt;E7\" style=\"stroke: #383838; stroke-width: 1.0;\"/><polygon fill=\"#FFFFFF\" points=\"170.03,312.87,174.2795,293.0725,186.108,300.5615,170.03,312.87\" style=\"stroke: #383838; stroke-width: 1.0;\"/><ellipse cx=\"179.0184\" cy=\"289.3264\" fill=\"#383838\" rx=\"2\" ry=\"2\" style=\"stroke: #383838; stroke-width: 1.0;\"/><ellipse cx=\"187.4673\" cy=\"294.6758\" fill=\"#383838\" rx=\"2\" ry=\"2\" style=\"stroke: #383838; stroke-width: 1.0;\"/><!--MD5=[94adabc162ce7e41b39f13be14fbaeb3]\n",
       "reverse link E11 to E12--><path d=\"M246,100.45 C246,115.17 246,132.39 246,147.84 \" fill=\"none\" id=\"E11&lt;-E12\" style=\"stroke: #383838; stroke-width: 1.0;\"/><polygon fill=\"#383838\" points=\"246,87.24,242,93.24,246,99.24,250,93.24,246,87.24\" style=\"stroke: #383838; stroke-width: 1.0;\"/><!--MD5=[e2a9ac97dcd3257bb5342dae06547bad]\n",
       "link E12 to E13--><path d=\"M273.49,236.38 C287.83,258.99 304.97,286.04 317.67,306.09 \" fill=\"none\" id=\"E12-&gt;E13\" style=\"stroke: #383838; stroke-width: 1.0;\"/><polygon fill=\"#383838\" points=\"321.97,312.87,320.2186,304.5074,315.1518,307.7211,321.97,312.87\" style=\"stroke: #383838; stroke-width: 1.0;\"/><text fill=\"#000000\" font-family=\"sans-serif\" font-size=\"13\" lengthAdjust=\"spacingAndGlyphs\" textLength=\"73\" x=\"302\" y=\"279.0669\">«objective»</text><!--MD5=[9ad1b602da3dd86071ea3da322b6b5e8]\n",
       "@startuml\r\n",
       "skinparam monochrome true\r\n",
       "skinparam classbackgroundcolor white\r\n",
       "skinparam shadowing false\r\n",
       "skinparam wrapWidth 300\r\n",
       "hide circle\r\n",
       "\r\n",
       "package \"VerificationTest\" as E1   {\r\n",
       "comp def \"V\" as E2  <<(T,blue)part def>> {\r\n",
       "m: Integer\r\n",
       "}\r\n",
       "comp usage \"vv: V\" as E3  <<(T,blue)part>> {\r\n",
       "}\r\n",
       "comp def \"VerificationObjective\" as E4  <<(T,blue)requirement def>> {\r\n",
       "...\r\n",
       "- -\r\n",
       "}\r\n",
       "comp def \"VerificationCase\" as E5  <<(T,blue)verificationCase def>> {\r\n",
       "}\r\n",
       "comp usage \"obj: VerificationObjective\" as E6  <<(T,blue)requirement>> {\r\n",
       "- -references- -\r\n",
       "subj: Anything= v; \\n//:>>VerificationObjective::subj// \r\n",
       "}\r\n",
       "comp def \"VerificationPlan\" as E7  <<(T,blue)verificationCase def>> {\r\n",
       "}\r\n",
       "comp usage \"obj: RequirementCheck\" as E8  <<(T,blue)requirement>> {\r\n",
       "...\r\n",
       "- -\r\n",
       "}\r\n",
       "comp usage \"verificationCase: VerificationCase\" as E9  <<(T,blue)verificationCase>> {\r\n",
       "}\r\n",
       "comp usage \"obj: VerificationObjective\" as E10  <<(T,blue)requirement>> {\r\n",
       "}\r\n",
       "comp usage \"verificationContext: Part\" as E11  <<(T,blue)part>> {\r\n",
       "}\r\n",
       "comp usage \"verificationPlan: VerificationPlan\" as E12  <<(T,blue)verificationCase>> {\r\n",
       "- -references- -\r\n",
       "v: V= vv; \\n//:>>VerificationPlan::v// \r\n",
       "}\r\n",
       "comp usage \"obj: RequirementCheck\" as E13  <<(T,blue)requirement>> {\r\n",
       "}\r\n",
       "E3 - -:|> E2\r\n",
       "E5 ..> E2 : <<subject>>\r\n",
       "E5 - ->> E6 : <<objective>>\r\n",
       "E6 - -:|> E4\r\n",
       "E7 ..> E2 : <<subject>>\r\n",
       "E7 - ->> E8 : <<objective>>\r\n",
       "E9 - -:|> E5\r\n",
       "E7 *- - E9\r\n",
       "E9 - ->> E10 : <<objective>>\r\n",
       "E12 - -:|> E7\r\n",
       "E11 *- - E12\r\n",
       "E12 - ->> E13 : <<objective>>\r\n",
       "}\r\n",
       "@enduml\r\n",
       "\n",
       "PlantUML version 1.2020.13(Sat Jun 13 12:26:38 UTC 2020)\n",
       "(EPL source distribution)\n",
       "Java Runtime: OpenJDK Runtime Environment\n",
       "JVM: OpenJDK 64-Bit Server VM\n",
       "Default Encoding: UTF-8\n",
       "Language: en\n",
       "Country: null\n",
       "--></g></svg>"
      ]
     },
     "execution_count": 38,
     "metadata": {},
     "output_type": "execute_result"
    }
   ],
   "source": [
    "%viz --style=\"DEFAULT\" --view=\"Tree\" \"VerificationTest\""
   ]
  },
  {
   "cell_type": "code",
   "execution_count": 39,
   "id": "italic-commons",
   "metadata": {
    "execution": {
     "iopub.execute_input": "2021-03-25T15:57:56.041830Z",
     "iopub.status.busy": "2021-03-25T15:57:56.040513Z",
     "iopub.status.idle": "2021-03-25T15:57:56.046181Z",
     "shell.execute_reply": "2021-03-25T15:57:56.045545Z"
    }
   },
   "outputs": [
    {
     "data": {
      "text/plain": [
       "java.lang.IllegalArgumentException: Invalid View: State View candidates are: Default Tree StateMachine Interconnection Activity Sequence MIXED \n",
       "\tat org.omg.sysml.plantuml.SysML2PlantUMLSvc.setView(SysML2PlantUMLSvc.java:63)\n",
       "\tat org.omg.sysml.interactive.SysMLInteractive.viz(SysMLInteractive.java:286)\n",
       "\tat org.omg.sysml.jupyter.kernel.magic.Viz.viz(Viz.java:47)\n",
       "\tat jdk.internal.reflect.GeneratedMethodAccessor14.invoke(Unknown Source)\n",
       "\tat java.base/jdk.internal.reflect.DelegatingMethodAccessorImpl.invoke(DelegatingMethodAccessorImpl.java:43)\n",
       "\tat java.base/java.lang.reflect.Method.invoke(Method.java:568)\n",
       "\tat io.github.spencerpark.jupyter.kernel.magic.registry.Magics.invoke(Magics.java:89)\n",
       "\tat io.github.spencerpark.jupyter.kernel.magic.registry.Magics.access$000(Magics.java:8)\n",
       "\tat io.github.spencerpark.jupyter.kernel.magic.registry.Magics$LineReflectionMagicFunction.execute(Magics.java:149)\n",
       "\tat io.github.spencerpark.jupyter.kernel.magic.registry.Magics.applyLineMagic(Magics.java:26)\n",
       "\tat org.omg.sysml.jupyter.kernel.SysMLKernel.eval(SysMLKernel.java:76)\n",
       "\tat io.github.spencerpark.jupyter.kernel.BaseKernel.handleExecuteRequest(BaseKernel.java:334)\n",
       "\tat io.github.spencerpark.jupyter.channels.ShellChannel.lambda$bind$0(ShellChannel.java:64)\n",
       "\tat io.github.spencerpark.jupyter.channels.Loop.lambda$new$0(Loop.java:21)\n",
       "\tat io.github.spencerpark.jupyter.channels.Loop.run(Loop.java:78)\n"
      ]
     },
     "execution_count": 39,
     "metadata": {},
     "output_type": "execute_result"
    }
   ],
   "source": [
    "%viz --style=\"DEFAULT\" --view=\"State\" \"VerificationTest\""
   ]
  },
  {
   "cell_type": "code",
   "execution_count": 40,
   "id": "independent-approval",
   "metadata": {
    "execution": {
     "iopub.execute_input": "2021-03-25T15:57:56.097204Z",
     "iopub.status.busy": "2021-03-25T15:57:56.096423Z",
     "iopub.status.idle": "2021-03-25T15:57:56.248712Z",
     "shell.execute_reply": "2021-03-25T15:57:56.246877Z"
    }
   },
   "outputs": [
    {
     "data": {
      "image/svg+xml": [
       "<?xml version=\"1.0\" encoding=\"UTF-8\" standalone=\"no\"?><svg xmlns=\"http://www.w3.org/2000/svg\" xmlns:xlink=\"http://www.w3.org/1999/xlink\" contentScriptType=\"application/ecmascript\" contentStyleType=\"text/css\" height=\"202px\" preserveAspectRatio=\"none\" style=\"width:1008px;height:202px;\" version=\"1.1\" viewBox=\"0 0 1008 202\" width=\"1008px\" zoomAndPan=\"magnify\"><defs/><g><!--MD5=[fbc87193dbaf4d95561dea2c320d4a47]\n",
       "cluster E1--><polygon fill=\"#FFFFFF\" points=\"16,6,147,6,154,28.2969,986,28.2969,986,190,16,190,16,6\" style=\"stroke: #000000; stroke-width: 1.5;\"/><line style=\"stroke: #000000; stroke-width: 1.5;\" x1=\"16\" x2=\"154\" y1=\"28.2969\" y2=\"28.2969\"/><text fill=\"#000000\" font-family=\"sans-serif\" font-size=\"14\" font-weight=\"bold\" lengthAdjust=\"spacingAndGlyphs\" textLength=\"125\" x=\"20\" y=\"20.9951\">VerificationTest</text><!--MD5=[e4f7fae6ed58524ba242bb0b0d3be6b7]\n",
       "cluster E2--><rect fill=\"#FFFFFF\" height=\"117\" style=\"stroke: #000000; stroke-width: 1.5;\" width=\"124\" x=\"838\" y=\"49\"/><text fill=\"#000000\" font-family=\"sans-serif\" font-size=\"14\" font-style=\"italic\" lengthAdjust=\"spacingAndGlyphs\" textLength=\"71\" x=\"864.5\" y=\"63.9951\">«part def»</text><text fill=\"#000000\" font-family=\"sans-serif\" font-size=\"14\" font-weight=\"bold\" lengthAdjust=\"spacingAndGlyphs\" textLength=\"11\" x=\"894.5\" y=\"80.292\">V</text><!--MD5=[270fce915f116d4de14055a7c1d9a0f3]\n",
       "class E5--><rect fill=\"#FFFFFF\" height=\"53.9375\" id=\"E5\" style=\"stroke: #383838; stroke-width: 1.5;\" width=\"133\" x=\"686.5\" y=\"98\"/><text fill=\"#000000\" font-family=\"sans-serif\" font-size=\"12\" font-style=\"italic\" lengthAdjust=\"spacingAndGlyphs\" textLength=\"115\" x=\"695.5\" y=\"114.1387\">«requirement def»</text><text fill=\"#000000\" font-family=\"sans-serif\" font-size=\"12\" lengthAdjust=\"spacingAndGlyphs\" textLength=\"127\" x=\"689.5\" y=\"128.1074\">VerificationObjective</text><line style=\"stroke: #383838; stroke-width: 1.5;\" x1=\"687.5\" x2=\"818.5\" y1=\"135.9375\" y2=\"135.9375\"/><line style=\"stroke: #383838; stroke-width: 1.5;\" x1=\"687.5\" x2=\"818.5\" y1=\"143.9375\" y2=\"143.9375\"/><!--MD5=[60a26617385b1d2d0262a64233df1f8d]\n",
       "class E6--><rect fill=\"#FFFFFF\" height=\"53.9375\" id=\"E6\" style=\"stroke: #383838; stroke-width: 1.5;\" width=\"139\" x=\"512.5\" y=\"98\"/><text fill=\"#000000\" font-family=\"sans-serif\" font-size=\"12\" font-style=\"italic\" lengthAdjust=\"spacingAndGlyphs\" textLength=\"137\" x=\"513.5\" y=\"114.1387\">«verificationCase def»</text><text fill=\"#000000\" font-family=\"sans-serif\" font-size=\"12\" lengthAdjust=\"spacingAndGlyphs\" textLength=\"101\" x=\"531.5\" y=\"128.1074\">VerificationCase</text><line style=\"stroke: #383838; stroke-width: 1.5;\" x1=\"513.5\" x2=\"650.5\" y1=\"135.9375\" y2=\"135.9375\"/><line style=\"stroke: #383838; stroke-width: 1.5;\" x1=\"513.5\" x2=\"650.5\" y1=\"143.9375\" y2=\"143.9375\"/><!--MD5=[2156ba9850f5573cc1fc38a6a4b2f02b]\n",
       "class E7--><rect fill=\"#FFFFFF\" height=\"53.9375\" id=\"E7\" style=\"stroke: #383838; stroke-width: 1.5;\" width=\"139\" x=\"338.5\" y=\"98\"/><text fill=\"#000000\" font-family=\"sans-serif\" font-size=\"12\" font-style=\"italic\" lengthAdjust=\"spacingAndGlyphs\" textLength=\"137\" x=\"339.5\" y=\"114.1387\">«verificationCase def»</text><text fill=\"#000000\" font-family=\"sans-serif\" font-size=\"12\" lengthAdjust=\"spacingAndGlyphs\" textLength=\"97\" x=\"359.5\" y=\"128.1074\">VerificationPlan</text><line style=\"stroke: #383838; stroke-width: 1.5;\" x1=\"339.5\" x2=\"476.5\" y1=\"135.9375\" y2=\"135.9375\"/><line style=\"stroke: #383838; stroke-width: 1.5;\" x1=\"339.5\" x2=\"476.5\" y1=\"143.9375\" y2=\"143.9375\"/><g id=\"E1.E2.E3\"><rect fill=\"#FFFFFF\" height=\"50\" rx=\"12.5\" ry=\"12.5\" style=\"stroke: #383838; stroke-width: 1.5;\" width=\"91\" x=\"854.5\" y=\"100\"/><line style=\"stroke: #383838; stroke-width: 1.5;\" x1=\"854.5\" x2=\"945.5\" y1=\"126.2969\" y2=\"126.2969\"/><text fill=\"#000000\" font-family=\"sans-serif\" font-size=\"14\" lengthAdjust=\"spacingAndGlyphs\" textLength=\"71\" x=\"864.5\" y=\"117.9951\">m: Integer</text></g><g id=\"E1.E4\"><rect fill=\"#FFFFFF\" height=\"50\" rx=\"12.5\" ry=\"12.5\" style=\"stroke: #383838; stroke-width: 1.5;\" width=\"52\" x=\"251\" y=\"100\"/><line style=\"stroke: #383838; stroke-width: 1.5;\" x1=\"251\" x2=\"303\" y1=\"126.2969\" y2=\"126.2969\"/><text fill=\"#000000\" font-family=\"sans-serif\" font-size=\"14\" lengthAdjust=\"spacingAndGlyphs\" textLength=\"32\" x=\"261\" y=\"117.9951\">vv: V</text></g><g id=\"E1.E8\"><rect fill=\"#FFFFFF\" height=\"50\" rx=\"12.5\" ry=\"12.5\" style=\"stroke: #383838; stroke-width: 1.5;\" width=\"183\" x=\"32.5\" y=\"100\"/><line style=\"stroke: #383838; stroke-width: 1.5;\" x1=\"32.5\" x2=\"215.5\" y1=\"126.2969\" y2=\"126.2969\"/><text fill=\"#000000\" font-family=\"sans-serif\" font-size=\"14\" lengthAdjust=\"spacingAndGlyphs\" textLength=\"163\" x=\"42.5\" y=\"117.9951\">verificationContext: Part</text></g><!--MD5=[fdaf3df88173f79acc9370598e019e3a]\n",
       "@startuml\r\n",
       "skinparam ranksep 8\r\n",
       "skinparam rectangle {\r\n",
       " backgroundColor<<block>> LightGreen\r\n",
       "}\r\n",
       "skinparam monochrome true\r\n",
       "skinparam classbackgroundcolor white\r\n",
       "skinparam shadowing false\r\n",
       "skinparam wrapWidth 300\r\n",
       "hide circle\r\n",
       "\r\n",
       "package \"VerificationTest\" as E1   {\r\n",
       "rec def \"V\" as E2  <<part def>> {\r\n",
       "rec usage \"m: Integer\" as E3  <<attribute>> {\r\n",
       "}\r\n",
       "}\r\n",
       "rec usage \"vv: V\" as E4  {\r\n",
       "}\r\n",
       "def \"VerificationObjective\" as E5  <<requirement def>> \r\n",
       "def \"VerificationCase\" as E6  <<verificationCase def>> \r\n",
       "def \"VerificationPlan\" as E7  <<verificationCase def>> \r\n",
       "rec usage \"verificationContext: Part\" as E8  {\r\n",
       "}\r\n",
       "}\r\n",
       "@enduml\r\n",
       "\n",
       "PlantUML version 1.2020.13(Sat Jun 13 12:26:38 UTC 2020)\n",
       "(EPL source distribution)\n",
       "Java Runtime: OpenJDK Runtime Environment\n",
       "JVM: OpenJDK 64-Bit Server VM\n",
       "Default Encoding: UTF-8\n",
       "Language: en\n",
       "Country: null\n",
       "--></g></svg>"
      ]
     },
     "execution_count": 40,
     "metadata": {},
     "output_type": "execute_result"
    }
   ],
   "source": [
    "%viz --style=\"DEFAULT\" --view=\"Interconnection\" \"VerificationTest\""
   ]
  },
  {
   "cell_type": "code",
   "execution_count": 41,
   "id": "applied-trash",
   "metadata": {
    "execution": {
     "iopub.execute_input": "2021-03-25T15:57:56.300906Z",
     "iopub.status.busy": "2021-03-25T15:57:56.298917Z",
     "iopub.status.idle": "2021-03-25T15:57:56.308585Z",
     "shell.execute_reply": "2021-03-25T15:57:56.307888Z"
    }
   },
   "outputs": [
    {
     "data": {
      "text/plain": [
       "java.lang.IllegalArgumentException: Invalid View: Action View candidates are: Default Tree StateMachine Interconnection Activity Sequence MIXED \n",
       "\tat org.omg.sysml.plantuml.SysML2PlantUMLSvc.setView(SysML2PlantUMLSvc.java:63)\n",
       "\tat org.omg.sysml.interactive.SysMLInteractive.viz(SysMLInteractive.java:286)\n",
       "\tat org.omg.sysml.jupyter.kernel.magic.Viz.viz(Viz.java:47)\n",
       "\tat jdk.internal.reflect.GeneratedMethodAccessor14.invoke(Unknown Source)\n",
       "\tat java.base/jdk.internal.reflect.DelegatingMethodAccessorImpl.invoke(DelegatingMethodAccessorImpl.java:43)\n",
       "\tat java.base/java.lang.reflect.Method.invoke(Method.java:568)\n",
       "\tat io.github.spencerpark.jupyter.kernel.magic.registry.Magics.invoke(Magics.java:89)\n",
       "\tat io.github.spencerpark.jupyter.kernel.magic.registry.Magics.access$000(Magics.java:8)\n",
       "\tat io.github.spencerpark.jupyter.kernel.magic.registry.Magics$LineReflectionMagicFunction.execute(Magics.java:149)\n",
       "\tat io.github.spencerpark.jupyter.kernel.magic.registry.Magics.applyLineMagic(Magics.java:26)\n",
       "\tat org.omg.sysml.jupyter.kernel.SysMLKernel.eval(SysMLKernel.java:76)\n",
       "\tat io.github.spencerpark.jupyter.kernel.BaseKernel.handleExecuteRequest(BaseKernel.java:334)\n",
       "\tat io.github.spencerpark.jupyter.channels.ShellChannel.lambda$bind$0(ShellChannel.java:64)\n",
       "\tat io.github.spencerpark.jupyter.channels.Loop.lambda$new$0(Loop.java:21)\n",
       "\tat io.github.spencerpark.jupyter.channels.Loop.run(Loop.java:78)\n"
      ]
     },
     "execution_count": 41,
     "metadata": {},
     "output_type": "execute_result"
    }
   ],
   "source": [
    "%viz --style=\"DEFAULT\" --view=\"Action\" \"VerificationTest\""
   ]
  },
  {
   "cell_type": "code",
   "execution_count": 42,
   "id": "antique-paragraph",
   "metadata": {
    "execution": {
     "iopub.execute_input": "2021-03-25T15:57:56.357470Z",
     "iopub.status.busy": "2021-03-25T15:57:56.356462Z",
     "iopub.status.idle": "2021-03-25T15:57:58.174915Z",
     "shell.execute_reply": "2021-03-25T15:57:58.172739Z"
    }
   },
   "outputs": [
    {
     "data": {
      "image/svg+xml": [
       "<?xml version=\"1.0\" encoding=\"UTF-8\" standalone=\"no\"?><svg xmlns=\"http://www.w3.org/2000/svg\" xmlns:xlink=\"http://www.w3.org/1999/xlink\" contentScriptType=\"application/ecmascript\" contentStyleType=\"text/css\" height=\"947px\" preserveAspectRatio=\"none\" style=\"width:519px;height:947px;\" version=\"1.1\" viewBox=\"0 0 519 947\" width=\"519px\" zoomAndPan=\"magnify\"><defs/><g><!--MD5=[fbc87193dbaf4d95561dea2c320d4a47]\n",
       "cluster E1--><polygon fill=\"#FFFFFF\" points=\"16,6,147,6,154,28.2969,497,28.2969,497,935,16,935,16,6\" style=\"stroke: #000000; stroke-width: 1.5;\"/><line style=\"stroke: #000000; stroke-width: 1.5;\" x1=\"16\" x2=\"154\" y1=\"28.2969\" y2=\"28.2969\"/><text fill=\"#000000\" font-family=\"sans-serif\" font-size=\"14\" font-weight=\"bold\" lengthAdjust=\"spacingAndGlyphs\" textLength=\"125\" x=\"20\" y=\"20.9951\">VerificationTest</text><!--MD5=[b4997ac47864f28c2f74865a473b2911]\n",
       "class E2--><rect fill=\"#FFFFFF\" height=\"58.7422\" id=\"E2\" style=\"stroke: #383838; stroke-width: 1.5;\" width=\"71\" x=\"193.5\" y=\"717.5\"/><text fill=\"#000000\" font-family=\"sans-serif\" font-size=\"12\" font-style=\"italic\" lengthAdjust=\"spacingAndGlyphs\" textLength=\"64\" x=\"197\" y=\"733.6387\">«part def»</text><text fill=\"#000000\" font-family=\"sans-serif\" font-size=\"12\" lengthAdjust=\"spacingAndGlyphs\" textLength=\"8\" x=\"225\" y=\"747.6074\">V</text><line style=\"stroke: #383838; stroke-width: 1.5;\" x1=\"194.5\" x2=\"263.5\" y1=\"755.4375\" y2=\"755.4375\"/><text fill=\"#000000\" font-family=\"sans-serif\" font-size=\"11\" lengthAdjust=\"spacingAndGlyphs\" textLength=\"59\" x=\"199.5\" y=\"769.6479\">m: Integer</text><!--MD5=[09b614a08d8cba4a07c9adeb5e0fee81]\n",
       "class E3--><rect fill=\"#FFFFFF\" height=\"45.9375\" id=\"E3\" rx=\"10\" ry=\"10\" style=\"stroke: #383838; stroke-width: 1.5;\" width=\"42\" x=\"264\" y=\"580\"/><text fill=\"#000000\" font-family=\"sans-serif\" font-size=\"12\" font-style=\"italic\" lengthAdjust=\"spacingAndGlyphs\" textLength=\"40\" x=\"265\" y=\"596.1387\">«part»</text><text fill=\"#000000\" font-family=\"sans-serif\" font-size=\"12\" lengthAdjust=\"spacingAndGlyphs\" textLength=\"28\" x=\"271\" y=\"610.1074\">vv: V</text><line style=\"stroke: #383838; stroke-width: 1.5;\" x1=\"265\" x2=\"305\" y1=\"617.9375\" y2=\"617.9375\"/><!--MD5=[ebbe1d658d1005bcc118a6aa81145e00]\n",
       "class E4--><rect fill=\"#FFFFFF\" height=\"66.7422\" id=\"E4\" style=\"stroke: #383838; stroke-width: 1.5;\" width=\"133\" x=\"323.5\" y=\"852\"/><text fill=\"#000000\" font-family=\"sans-serif\" font-size=\"12\" font-style=\"italic\" lengthAdjust=\"spacingAndGlyphs\" textLength=\"115\" x=\"332.5\" y=\"868.1387\">«requirement def»</text><text fill=\"#000000\" font-family=\"sans-serif\" font-size=\"12\" lengthAdjust=\"spacingAndGlyphs\" textLength=\"127\" x=\"326.5\" y=\"882.1074\">VerificationObjective</text><line style=\"stroke: #383838; stroke-width: 1.5;\" x1=\"324.5\" x2=\"455.5\" y1=\"889.9375\" y2=\"889.9375\"/><text fill=\"#000000\" font-family=\"sans-serif\" font-size=\"11\" lengthAdjust=\"spacingAndGlyphs\" textLength=\"12\" x=\"329.5\" y=\"904.1479\">...</text><line style=\"stroke: #383838; stroke-width: 1.0;\" x1=\"324.5\" x2=\"455.5\" y1=\"910.7422\" y2=\"910.7422\"/><!--MD5=[270fce915f116d4de14055a7c1d9a0f3]\n",
       "class E5--><rect fill=\"#FFFFFF\" height=\"45.9375\" id=\"E5\" style=\"stroke: #383838; stroke-width: 1.5;\" width=\"139\" x=\"341.5\" y=\"580\"/><text fill=\"#000000\" font-family=\"sans-serif\" font-size=\"12\" font-style=\"italic\" lengthAdjust=\"spacingAndGlyphs\" textLength=\"137\" x=\"342.5\" y=\"596.1387\">«verificationCase def»</text><text fill=\"#000000\" font-family=\"sans-serif\" font-size=\"12\" lengthAdjust=\"spacingAndGlyphs\" textLength=\"101\" x=\"360.5\" y=\"610.1074\">VerificationCase</text><line style=\"stroke: #383838; stroke-width: 1.5;\" x1=\"342.5\" x2=\"479.5\" y1=\"617.9375\" y2=\"617.9375\"/><!--MD5=[60a26617385b1d2d0262a64233df1f8d]\n",
       "class E6--><rect fill=\"#FFFFFF\" height=\"88.3516\" id=\"E6\" rx=\"10\" ry=\"10\" style=\"stroke: #383838; stroke-width: 1.5;\" width=\"181\" x=\"299.5\" y=\"703\"/><text fill=\"#000000\" font-family=\"sans-serif\" font-size=\"12\" font-style=\"italic\" lengthAdjust=\"spacingAndGlyphs\" textLength=\"91\" x=\"344.5\" y=\"719.1387\">«requirement»</text><text fill=\"#000000\" font-family=\"sans-serif\" font-size=\"12\" lengthAdjust=\"spacingAndGlyphs\" textLength=\"154\" x=\"313\" y=\"733.1074\">obj: VerificationObjective</text><line style=\"stroke: #383838; stroke-width: 1.5;\" x1=\"300.5\" x2=\"479.5\" y1=\"740.9375\" y2=\"740.9375\"/><text fill=\"#000000\" font-family=\"sans-serif\" font-size=\"11\" lengthAdjust=\"spacingAndGlyphs\" textLength=\"103\" x=\"305.5\" y=\"771.9526\">subj: Anything= v;</text><text fill=\"#000000\" font-family=\"sans-serif\" font-size=\"11\" font-style=\"italic\" lengthAdjust=\"spacingAndGlyphs\" textLength=\"169\" x=\"305.5\" y=\"784.7573\">:&gt;&gt;VerificationObjective::subj</text><line style=\"stroke: #383838; stroke-width: 1.0;\" x1=\"300.5\" x2=\"359\" y1=\"755.3398\" y2=\"755.3398\"/><text fill=\"#000000\" font-family=\"sans-serif\" font-size=\"11\" lengthAdjust=\"spacingAndGlyphs\" textLength=\"62\" x=\"359\" y=\"758.6479\">references</text><line style=\"stroke: #383838; stroke-width: 1.0;\" x1=\"421\" x2=\"479.5\" y1=\"755.3398\" y2=\"755.3398\"/><!--MD5=[2156ba9850f5573cc1fc38a6a4b2f02b]\n",
       "class E7--><rect fill=\"#FFFFFF\" height=\"45.9375\" id=\"E7\" style=\"stroke: #383838; stroke-width: 1.5;\" width=\"139\" x=\"86.5\" y=\"313\"/><text fill=\"#000000\" font-family=\"sans-serif\" font-size=\"12\" font-style=\"italic\" lengthAdjust=\"spacingAndGlyphs\" textLength=\"137\" x=\"87.5\" y=\"329.1387\">«verificationCase def»</text><text fill=\"#000000\" font-family=\"sans-serif\" font-size=\"12\" lengthAdjust=\"spacingAndGlyphs\" textLength=\"97\" x=\"107.5\" y=\"343.1074\">VerificationPlan</text><line style=\"stroke: #383838; stroke-width: 1.5;\" x1=\"87.5\" x2=\"224.5\" y1=\"350.9375\" y2=\"350.9375\"/><!--MD5=[b9389687b975829384b498ac4b7476b2]\n",
       "class E8--><rect fill=\"#FFFFFF\" height=\"66.7422\" id=\"E8\" rx=\"10\" ry=\"10\" style=\"stroke: #383838; stroke-width: 1.5;\" width=\"151\" x=\"80.5\" y=\"436\"/><text fill=\"#000000\" font-family=\"sans-serif\" font-size=\"12\" font-style=\"italic\" lengthAdjust=\"spacingAndGlyphs\" textLength=\"91\" x=\"110.5\" y=\"452.1387\">«requirement»</text><text fill=\"#000000\" font-family=\"sans-serif\" font-size=\"12\" lengthAdjust=\"spacingAndGlyphs\" textLength=\"145\" x=\"83.5\" y=\"466.1074\">obj: RequirementCheck</text><line style=\"stroke: #383838; stroke-width: 1.5;\" x1=\"81.5\" x2=\"230.5\" y1=\"473.9375\" y2=\"473.9375\"/><text fill=\"#000000\" font-family=\"sans-serif\" font-size=\"11\" lengthAdjust=\"spacingAndGlyphs\" textLength=\"12\" x=\"86.5\" y=\"488.1479\">...</text><line style=\"stroke: #383838; stroke-width: 1.0;\" x1=\"81.5\" x2=\"230.5\" y1=\"494.7422\" y2=\"494.7422\"/><!--MD5=[fd4143e9d270a159db93a4ea2a975926]\n",
       "class E9--><rect fill=\"#FFFFFF\" height=\"45.9375\" id=\"E9\" rx=\"10\" ry=\"10\" style=\"stroke: #383838; stroke-width: 1.5;\" width=\"214\" x=\"267\" y=\"446.5\"/><text fill=\"#000000\" font-family=\"sans-serif\" font-size=\"12\" font-style=\"italic\" lengthAdjust=\"spacingAndGlyphs\" textLength=\"113\" x=\"317.5\" y=\"462.6387\">«verificationCase»</text><text fill=\"#000000\" font-family=\"sans-serif\" font-size=\"12\" lengthAdjust=\"spacingAndGlyphs\" textLength=\"208\" x=\"270\" y=\"476.6074\">verificationCase: VerificationCase</text><line style=\"stroke: #383838; stroke-width: 1.5;\" x1=\"268\" x2=\"480\" y1=\"484.4375\" y2=\"484.4375\"/><!--MD5=[96f4274e9e20536e775497830990834d]\n",
       "class E10--><rect fill=\"#FFFFFF\" height=\"45.9375\" id=\"E10\" rx=\"10\" ry=\"10\" style=\"stroke: #383838; stroke-width: 1.5;\" width=\"160\" x=\"69\" y=\"580\"/><text fill=\"#000000\" font-family=\"sans-serif\" font-size=\"12\" font-style=\"italic\" lengthAdjust=\"spacingAndGlyphs\" textLength=\"91\" x=\"103.5\" y=\"596.1387\">«requirement»</text><text fill=\"#000000\" font-family=\"sans-serif\" font-size=\"12\" lengthAdjust=\"spacingAndGlyphs\" textLength=\"154\" x=\"72\" y=\"610.1074\">obj: VerificationObjective</text><line style=\"stroke: #383838; stroke-width: 1.5;\" x1=\"70\" x2=\"228\" y1=\"617.9375\" y2=\"617.9375\"/><!--MD5=[1dd1bfd58a279cf63c5f349dbc8fc6a1]\n",
       "class E11--><rect fill=\"#FFFFFF\" height=\"45.9375\" id=\"E11\" rx=\"10\" ry=\"10\" style=\"stroke: #383838; stroke-width: 1.5;\" width=\"156\" x=\"168\" y=\"41\"/><text fill=\"#000000\" font-family=\"sans-serif\" font-size=\"12\" font-style=\"italic\" lengthAdjust=\"spacingAndGlyphs\" textLength=\"40\" x=\"226\" y=\"57.1387\">«part»</text><text fill=\"#000000\" font-family=\"sans-serif\" font-size=\"12\" lengthAdjust=\"spacingAndGlyphs\" textLength=\"150\" x=\"171\" y=\"71.1074\">verificationContext: Part</text><line style=\"stroke: #383838; stroke-width: 1.5;\" x1=\"169\" x2=\"323\" y1=\"78.9375\" y2=\"78.9375\"/><!--MD5=[49a0ec8f00dab7302a31f22d0f0fe584]\n",
       "class E12--><rect fill=\"#FFFFFF\" height=\"88.3516\" id=\"E12\" rx=\"10\" ry=\"10\" style=\"stroke: #383838; stroke-width: 1.5;\" width=\"206\" x=\"143\" y=\"148\"/><text fill=\"#000000\" font-family=\"sans-serif\" font-size=\"12\" font-style=\"italic\" lengthAdjust=\"spacingAndGlyphs\" textLength=\"113\" x=\"189.5\" y=\"164.1387\">«verificationCase»</text><text fill=\"#000000\" font-family=\"sans-serif\" font-size=\"12\" lengthAdjust=\"spacingAndGlyphs\" textLength=\"200\" x=\"146\" y=\"178.1074\">verificationPlan: VerificationPlan</text><line style=\"stroke: #383838; stroke-width: 1.5;\" x1=\"144\" x2=\"348\" y1=\"185.9375\" y2=\"185.9375\"/><text fill=\"#000000\" font-family=\"sans-serif\" font-size=\"11\" lengthAdjust=\"spacingAndGlyphs\" textLength=\"50\" x=\"149\" y=\"216.9526\">v: V= vv;</text><text fill=\"#000000\" font-family=\"sans-serif\" font-size=\"11\" font-style=\"italic\" lengthAdjust=\"spacingAndGlyphs\" textLength=\"123\" x=\"149\" y=\"229.7573\">:&gt;&gt;VerificationPlan::v</text><line style=\"stroke: #383838; stroke-width: 1.0;\" x1=\"144\" x2=\"215\" y1=\"200.3398\" y2=\"200.3398\"/><text fill=\"#000000\" font-family=\"sans-serif\" font-size=\"11\" lengthAdjust=\"spacingAndGlyphs\" textLength=\"62\" x=\"215\" y=\"203.6479\">references</text><line style=\"stroke: #383838; stroke-width: 1.0;\" x1=\"277\" x2=\"348\" y1=\"200.3398\" y2=\"200.3398\"/><!--MD5=[ee3c913d1a06f366521f9ef512b67efe]\n",
       "class E13--><rect fill=\"#FFFFFF\" height=\"45.9375\" id=\"E13\" rx=\"10\" ry=\"10\" style=\"stroke: #383838; stroke-width: 1.5;\" width=\"151\" x=\"260.5\" y=\"313\"/><text fill=\"#000000\" font-family=\"sans-serif\" font-size=\"12\" font-style=\"italic\" lengthAdjust=\"spacingAndGlyphs\" textLength=\"91\" x=\"290.5\" y=\"329.1387\">«requirement»</text><text fill=\"#000000\" font-family=\"sans-serif\" font-size=\"12\" lengthAdjust=\"spacingAndGlyphs\" textLength=\"145\" x=\"263.5\" y=\"343.1074\">obj: RequirementCheck</text><line style=\"stroke: #383838; stroke-width: 1.5;\" x1=\"261.5\" x2=\"410.5\" y1=\"350.9375\" y2=\"350.9375\"/><!--MD5=[05d275557350bfb9b23a4ef7222b4c39]\n",
       "link E3 to E2--><path d=\"M263.77,625.05 C256.04,633.9 247.98,644.75 243,656 C237.37,668.71 233.96,683.31 231.9,697 \" fill=\"none\" id=\"E3-&gt;E2\" style=\"stroke: #383838; stroke-width: 1.0;\"/><polygon fill=\"#FFFFFF\" points=\"229.66,717.36,224.7793,697.7086,238.6954,699.2392,229.66,717.36\" style=\"stroke: #383838; stroke-width: 1.0;\"/><ellipse cx=\"227.3905\" cy=\"692.2614\" fill=\"#383838\" rx=\"2\" ry=\"2\" style=\"stroke: #383838; stroke-width: 1.0;\"/><ellipse cx=\"237.3306\" cy=\"693.3547\" fill=\"#383838\" rx=\"2\" ry=\"2\" style=\"stroke: #383838; stroke-width: 1.0;\"/><!--MD5=[15ebcb19ae302d9b601edb458606d402]\n",
       "link E5 to E2--><path d=\"M373.38,626.02 C359.12,634.84 342.97,645.4 329,656 C305.45,673.87 280.74,696.06 261.78,713.94 \" fill=\"none\" id=\"E5-&gt;E2\" style=\"stroke: #383838; stroke-width: 1.0; stroke-dasharray: 7.0,7.0;\"/><polygon fill=\"#383838\" points=\"258.07,717.46,267.352,714.167,261.6971,714.0185,261.8456,708.3636,258.07,717.46\" style=\"stroke: #383838; stroke-width: 1.0;\"/><text fill=\"#000000\" font-family=\"sans-serif\" font-size=\"13\" lengthAdjust=\"spacingAndGlyphs\" textLength=\"62\" x=\"330\" y=\"669.0669\">«subject»</text><!--MD5=[9120cf2e5df3bff93db8f754bbbc09b4]\n",
       "link E5 to E6--><path d=\"M407.72,626.19 C405.02,644.47 401.07,671.12 397.59,694.64 \" fill=\"none\" id=\"E5-&gt;E6\" style=\"stroke: #383838; stroke-width: 1.0;\"/><polygon fill=\"#383838\" points=\"396.39,702.82,400.529,695.3455,394.5937,694.467,396.39,702.82\" style=\"stroke: #383838; stroke-width: 1.0;\"/><text fill=\"#000000\" font-family=\"sans-serif\" font-size=\"13\" lengthAdjust=\"spacingAndGlyphs\" textLength=\"73\" x=\"403\" y=\"669.0669\">«objective»</text><!--MD5=[f667431f98296947986a1a7595a31603]\n",
       "link E6 to E4--><path d=\"M390,791.19 C390,804.11 390,818.41 390,831.87 \" fill=\"none\" id=\"E6-&gt;E4\" style=\"stroke: #383838; stroke-width: 1.0;\"/><polygon fill=\"#FFFFFF\" points=\"390,851.98,383,832.98,397,832.98,390,851.98\" style=\"stroke: #383838; stroke-width: 1.0;\"/><ellipse cx=\"385\" cy=\"827.28\" fill=\"#383838\" rx=\"2\" ry=\"2\" style=\"stroke: #383838; stroke-width: 1.0;\"/><ellipse cx=\"395\" cy=\"827.28\" fill=\"#383838\" rx=\"2\" ry=\"2\" style=\"stroke: #383838; stroke-width: 1.0;\"/><!--MD5=[583832df87f4419a098336a29a52fa00]\n",
       "link E7 to E2--><path d=\"M126.49,359.05 C104.8,377.11 76.79,404.71 63,436 C28.88,513.4 12.38,551.27 52,626 C80.63,680.01 145.66,714.18 188.41,731.7 \" fill=\"none\" id=\"E7-&gt;E2\" style=\"stroke: #383838; stroke-width: 1.0; stroke-dasharray: 7.0,7.0;\"/><polygon fill=\"#383838\" points=\"193.25,733.65,186.4056,726.5681,188.6146,731.7758,183.4068,733.9848,193.25,733.65\" style=\"stroke: #383838; stroke-width: 1.0;\"/><text fill=\"#000000\" font-family=\"sans-serif\" font-size=\"13\" lengthAdjust=\"spacingAndGlyphs\" textLength=\"62\" x=\"31\" y=\"546.0669\">«subject»</text><!--MD5=[79bc8f324ef4d02c541433f2e6e513c3]\n",
       "link E7 to E8--><path d=\"M156,359.01 C156,377.7 156,405.02 156,427.69 \" fill=\"none\" id=\"E7-&gt;E8\" style=\"stroke: #383838; stroke-width: 1.0;\"/><polygon fill=\"#383838\" points=\"156,435.81,159,427.81,153,427.81,156,435.81\" style=\"stroke: #383838; stroke-width: 1.0;\"/><text fill=\"#000000\" font-family=\"sans-serif\" font-size=\"13\" lengthAdjust=\"spacingAndGlyphs\" textLength=\"73\" x=\"157\" y=\"402.0669\">«objective»</text><!--MD5=[bfc3ddf2e613be37104f658f09af896c]\n",
       "link E9 to E5--><path d=\"M380.19,492.51 C385.4,511 392.97,537.94 399.31,560.46 \" fill=\"none\" id=\"E9-&gt;E5\" style=\"stroke: #383838; stroke-width: 1.0;\"/><polygon fill=\"#FFFFFF\" points=\"404.79,579.92,392.9087,563.5238,406.3861,559.7346,404.79,579.92\" style=\"stroke: #383838; stroke-width: 1.0;\"/><ellipse cx=\"393.2913\" cy=\"557.4953\" fill=\"#383838\" rx=\"2\" ry=\"2\" style=\"stroke: #383838; stroke-width: 1.0;\"/><ellipse cx=\"402.918\" cy=\"554.7886\" fill=\"#383838\" rx=\"2\" ry=\"2\" style=\"stroke: #383838; stroke-width: 1.0;\"/><!--MD5=[e4a10ef82d0e328e31cac39a31e58dda]\n",
       "reverse link E7 to E9--><path d=\"M203.63,365.73 C243.86,390 300.64,424.25 337.39,446.42 \" fill=\"none\" id=\"E7&lt;-E9\" style=\"stroke: #383838; stroke-width: 1.0;\"/><polygon fill=\"#383838\" points=\"192.49,359.01,195.561,365.5345,202.7648,365.2091,199.6938,358.6847,192.49,359.01\" style=\"stroke: #383838; stroke-width: 1.0;\"/><!--MD5=[35e5f1cbde42fa304a029880aa2bc7f2]\n",
       "link E9 to E10--><path d=\"M336.34,492.51 C297.08,515.46 235.56,551.41 193.82,575.81 \" fill=\"none\" id=\"E9-&gt;E10\" style=\"stroke: #383838; stroke-width: 1.0;\"/><polygon fill=\"#383838\" points=\"186.78,579.92,195.2026,578.4847,192.182,573.3005,186.78,579.92\" style=\"stroke: #383838; stroke-width: 1.0;\"/><text fill=\"#000000\" font-family=\"sans-serif\" font-size=\"13\" lengthAdjust=\"spacingAndGlyphs\" textLength=\"73\" x=\"262\" y=\"546.0669\">«objective»</text><!--MD5=[ae660f5ecd7ddb04a8913625960940af]\n",
       "link E12 to E7--><path d=\"M218.51,236.38 C206.49,255.34 192.5,277.42 180.8,295.87 \" fill=\"none\" id=\"E12-&gt;E7\" style=\"stroke: #383838; stroke-width: 1.0;\"/><polygon fill=\"#FFFFFF\" points=\"170.03,312.87,174.2795,293.0725,186.108,300.5615,170.03,312.87\" style=\"stroke: #383838; stroke-width: 1.0;\"/><ellipse cx=\"179.0184\" cy=\"289.3264\" fill=\"#383838\" rx=\"2\" ry=\"2\" style=\"stroke: #383838; stroke-width: 1.0;\"/><ellipse cx=\"187.4673\" cy=\"294.6758\" fill=\"#383838\" rx=\"2\" ry=\"2\" style=\"stroke: #383838; stroke-width: 1.0;\"/><!--MD5=[94adabc162ce7e41b39f13be14fbaeb3]\n",
       "reverse link E11 to E12--><path d=\"M246,100.45 C246,115.17 246,132.39 246,147.84 \" fill=\"none\" id=\"E11&lt;-E12\" style=\"stroke: #383838; stroke-width: 1.0;\"/><polygon fill=\"#383838\" points=\"246,87.24,242,93.24,246,99.24,250,93.24,246,87.24\" style=\"stroke: #383838; stroke-width: 1.0;\"/><!--MD5=[e2a9ac97dcd3257bb5342dae06547bad]\n",
       "link E12 to E13--><path d=\"M273.49,236.38 C287.83,258.99 304.97,286.04 317.67,306.09 \" fill=\"none\" id=\"E12-&gt;E13\" style=\"stroke: #383838; stroke-width: 1.0;\"/><polygon fill=\"#383838\" points=\"321.97,312.87,320.2186,304.5074,315.1518,307.7211,321.97,312.87\" style=\"stroke: #383838; stroke-width: 1.0;\"/><text fill=\"#000000\" font-family=\"sans-serif\" font-size=\"13\" lengthAdjust=\"spacingAndGlyphs\" textLength=\"73\" x=\"302\" y=\"279.0669\">«objective»</text><!--MD5=[9ad1b602da3dd86071ea3da322b6b5e8]\n",
       "@startuml\r\n",
       "skinparam monochrome true\r\n",
       "skinparam classbackgroundcolor white\r\n",
       "skinparam shadowing false\r\n",
       "skinparam wrapWidth 300\r\n",
       "hide circle\r\n",
       "\r\n",
       "package \"VerificationTest\" as E1   {\r\n",
       "comp def \"V\" as E2  <<(T,blue)part def>> {\r\n",
       "m: Integer\r\n",
       "}\r\n",
       "comp usage \"vv: V\" as E3  <<(T,blue)part>> {\r\n",
       "}\r\n",
       "comp def \"VerificationObjective\" as E4  <<(T,blue)requirement def>> {\r\n",
       "...\r\n",
       "- -\r\n",
       "}\r\n",
       "comp def \"VerificationCase\" as E5  <<(T,blue)verificationCase def>> {\r\n",
       "}\r\n",
       "comp usage \"obj: VerificationObjective\" as E6  <<(T,blue)requirement>> {\r\n",
       "- -references- -\r\n",
       "subj: Anything= v; \\n//:>>VerificationObjective::subj// \r\n",
       "}\r\n",
       "comp def \"VerificationPlan\" as E7  <<(T,blue)verificationCase def>> {\r\n",
       "}\r\n",
       "comp usage \"obj: RequirementCheck\" as E8  <<(T,blue)requirement>> {\r\n",
       "...\r\n",
       "- -\r\n",
       "}\r\n",
       "comp usage \"verificationCase: VerificationCase\" as E9  <<(T,blue)verificationCase>> {\r\n",
       "}\r\n",
       "comp usage \"obj: VerificationObjective\" as E10  <<(T,blue)requirement>> {\r\n",
       "}\r\n",
       "comp usage \"verificationContext: Part\" as E11  <<(T,blue)part>> {\r\n",
       "}\r\n",
       "comp usage \"verificationPlan: VerificationPlan\" as E12  <<(T,blue)verificationCase>> {\r\n",
       "- -references- -\r\n",
       "v: V= vv; \\n//:>>VerificationPlan::v// \r\n",
       "}\r\n",
       "comp usage \"obj: RequirementCheck\" as E13  <<(T,blue)requirement>> {\r\n",
       "}\r\n",
       "E3 - -:|> E2\r\n",
       "E5 ..> E2 : <<subject>>\r\n",
       "E5 - ->> E6 : <<objective>>\r\n",
       "E6 - -:|> E4\r\n",
       "E7 ..> E2 : <<subject>>\r\n",
       "E7 - ->> E8 : <<objective>>\r\n",
       "E9 - -:|> E5\r\n",
       "E7 *- - E9\r\n",
       "E9 - ->> E10 : <<objective>>\r\n",
       "E12 - -:|> E7\r\n",
       "E11 *- - E12\r\n",
       "E12 - ->> E13 : <<objective>>\r\n",
       "}\r\n",
       "@enduml\r\n",
       "\n",
       "PlantUML version 1.2020.13(Sat Jun 13 12:26:38 UTC 2020)\n",
       "(EPL source distribution)\n",
       "Java Runtime: OpenJDK Runtime Environment\n",
       "JVM: OpenJDK 64-Bit Server VM\n",
       "Default Encoding: UTF-8\n",
       "Language: en\n",
       "Country: null\n",
       "--></g></svg>"
      ]
     },
     "execution_count": 42,
     "metadata": {},
     "output_type": "execute_result"
    }
   ],
   "source": [
    "%viz --style=\"DEFAULT\" --view=\"Sequence\" \"VerificationTest\""
   ]
  },
  {
   "cell_type": "code",
   "execution_count": 43,
   "id": "supported-primary",
   "metadata": {
    "execution": {
     "iopub.execute_input": "2021-03-25T15:57:58.220989Z",
     "iopub.status.busy": "2021-03-25T15:57:58.220227Z",
     "iopub.status.idle": "2021-03-25T15:57:59.197859Z",
     "shell.execute_reply": "2021-03-25T15:57:59.195406Z"
    }
   },
   "outputs": [
    {
     "data": {
      "image/svg+xml": [
       "<?xml version=\"1.0\" encoding=\"UTF-8\" standalone=\"no\"?><svg xmlns=\"http://www.w3.org/2000/svg\" xmlns:xlink=\"http://www.w3.org/1999/xlink\" contentScriptType=\"application/ecmascript\" contentStyleType=\"text/css\" height=\"562px\" preserveAspectRatio=\"none\" style=\"width:793px;height:562px;\" version=\"1.1\" viewBox=\"0 0 793 562\" width=\"793px\" zoomAndPan=\"magnify\"><defs/><g><!--MD5=[fbc87193dbaf4d95561dea2c320d4a47]\n",
       "cluster E1--><polygon fill=\"#FFFFFF\" points=\"16,6,147,6,154,28.2969,771,28.2969,771,550,16,550,16,6\" style=\"stroke: #000000; stroke-width: 1.5;\"/><line style=\"stroke: #000000; stroke-width: 1.5;\" x1=\"16\" x2=\"154\" y1=\"28.2969\" y2=\"28.2969\"/><text fill=\"#000000\" font-family=\"sans-serif\" font-size=\"14\" font-weight=\"bold\" lengthAdjust=\"spacingAndGlyphs\" textLength=\"125\" x=\"20\" y=\"20.9951\">VerificationTest</text><!--MD5=[de5ec2e2e8f62f467e546659f5068c88]\n",
       "cluster E5--><rect fill=\"#FFFFFF\" height=\"341.5\" style=\"stroke: #000000; stroke-width: 1.5;\" width=\"200\" x=\"544\" y=\"74.5\"/><text fill=\"#000000\" font-family=\"sans-serif\" font-size=\"14\" font-weight=\"bold\" lengthAdjust=\"spacingAndGlyphs\" textLength=\"129\" x=\"579.5\" y=\"89.4951\">VerificationCase</text><!--MD5=[917b9dd0c7eca3ee5f47219d1a84c0ad]\n",
       "cluster E11--><rect fill=\"#FFFFFF\" height=\"313\" style=\"stroke: #000000; stroke-width: 1.5;\" width=\"188\" x=\"254\" y=\"213\"/><text fill=\"#000000\" font-family=\"sans-serif\" font-size=\"14\" font-weight=\"bold\" lengthAdjust=\"spacingAndGlyphs\" textLength=\"123\" x=\"286.5\" y=\"227.9951\">VerificationPlan</text><!--MD5=[b4997ac47864f28c2f74865a473b2911]\n",
       "class E2--><rect fill=\"#FFFFFF\" height=\"58.7422\" id=\"E2\" style=\"stroke: #383838; stroke-width: 1.5;\" width=\"71\" x=\"458.5\" y=\"183.5\"/><text fill=\"#000000\" font-family=\"sans-serif\" font-size=\"12\" font-style=\"italic\" lengthAdjust=\"spacingAndGlyphs\" textLength=\"64\" x=\"462\" y=\"199.6387\">«part def»</text><text fill=\"#000000\" font-family=\"sans-serif\" font-size=\"12\" lengthAdjust=\"spacingAndGlyphs\" textLength=\"8\" x=\"490\" y=\"213.6074\">V</text><line style=\"stroke: #383838; stroke-width: 1.5;\" x1=\"459.5\" x2=\"528.5\" y1=\"221.4375\" y2=\"221.4375\"/><text fill=\"#000000\" font-family=\"sans-serif\" font-size=\"11\" lengthAdjust=\"spacingAndGlyphs\" textLength=\"59\" x=\"464.5\" y=\"235.6479\">m: Integer</text><!--MD5=[09b614a08d8cba4a07c9adeb5e0fee81]\n",
       "class E3--><rect fill=\"#FFFFFF\" height=\"45.9375\" id=\"E3\" rx=\"10\" ry=\"10\" style=\"stroke: #383838; stroke-width: 1.5;\" width=\"42\" x=\"473\" y=\"51.5\"/><text fill=\"#000000\" font-family=\"sans-serif\" font-size=\"12\" font-style=\"italic\" lengthAdjust=\"spacingAndGlyphs\" textLength=\"40\" x=\"474\" y=\"67.6387\">«part»</text><text fill=\"#000000\" font-family=\"sans-serif\" font-size=\"12\" lengthAdjust=\"spacingAndGlyphs\" textLength=\"28\" x=\"480\" y=\"81.6074\">vv: V</text><line style=\"stroke: #383838; stroke-width: 1.5;\" x1=\"474\" x2=\"514\" y1=\"89.4375\" y2=\"89.4375\"/><!--MD5=[ebbe1d658d1005bcc118a6aa81145e00]\n",
       "class E4--><rect fill=\"#FFFFFF\" height=\"66.7422\" id=\"E4\" style=\"stroke: #383838; stroke-width: 1.5;\" width=\"133\" x=\"276.5\" y=\"41\"/><text fill=\"#000000\" font-family=\"sans-serif\" font-size=\"12\" font-style=\"italic\" lengthAdjust=\"spacingAndGlyphs\" textLength=\"115\" x=\"285.5\" y=\"57.1387\">«requirement def»</text><text fill=\"#000000\" font-family=\"sans-serif\" font-size=\"12\" lengthAdjust=\"spacingAndGlyphs\" textLength=\"127\" x=\"279.5\" y=\"71.1074\">VerificationObjective</text><line style=\"stroke: #383838; stroke-width: 1.5;\" x1=\"277.5\" x2=\"408.5\" y1=\"78.9375\" y2=\"78.9375\"/><text fill=\"#000000\" font-family=\"sans-serif\" font-size=\"11\" lengthAdjust=\"spacingAndGlyphs\" textLength=\"12\" x=\"282.5\" y=\"93.1479\">...</text><line style=\"stroke: #383838; stroke-width: 1.0;\" x1=\"277.5\" x2=\"408.5\" y1=\"99.7422\" y2=\"99.7422\"/><!--MD5=[bee11217b2f71d958a27249dc326068c]\n",
       "class E14--><rect fill=\"#FFFFFF\" height=\"45.9375\" id=\"E14\" rx=\"10\" ry=\"10\" style=\"stroke: #383838; stroke-width: 1.5;\" width=\"156\" x=\"57\" y=\"51.5\"/><text fill=\"#000000\" font-family=\"sans-serif\" font-size=\"12\" font-style=\"italic\" lengthAdjust=\"spacingAndGlyphs\" textLength=\"40\" x=\"115\" y=\"67.6387\">«part»</text><text fill=\"#000000\" font-family=\"sans-serif\" font-size=\"12\" lengthAdjust=\"spacingAndGlyphs\" textLength=\"150\" x=\"60\" y=\"81.6074\">verificationContext: Part</text><line style=\"stroke: #383838; stroke-width: 1.5;\" x1=\"58\" x2=\"212\" y1=\"89.4375\" y2=\"89.4375\"/><!--MD5=[0c48fb7552dae8cbbef69381101a84c8]\n",
       "class E15--><rect fill=\"#FFFFFF\" height=\"88.3516\" id=\"E15\" rx=\"10\" ry=\"10\" style=\"stroke: #383838; stroke-width: 1.5;\" width=\"206\" x=\"32\" y=\"169\"/><text fill=\"#000000\" font-family=\"sans-serif\" font-size=\"12\" font-style=\"italic\" lengthAdjust=\"spacingAndGlyphs\" textLength=\"113\" x=\"78.5\" y=\"185.1387\">«verificationCase»</text><text fill=\"#000000\" font-family=\"sans-serif\" font-size=\"12\" lengthAdjust=\"spacingAndGlyphs\" textLength=\"200\" x=\"35\" y=\"199.1074\">verificationPlan: VerificationPlan</text><line style=\"stroke: #383838; stroke-width: 1.5;\" x1=\"33\" x2=\"237\" y1=\"206.9375\" y2=\"206.9375\"/><text fill=\"#000000\" font-family=\"sans-serif\" font-size=\"11\" lengthAdjust=\"spacingAndGlyphs\" textLength=\"50\" x=\"38\" y=\"237.9526\">v: V= vv;</text><text fill=\"#000000\" font-family=\"sans-serif\" font-size=\"11\" font-style=\"italic\" lengthAdjust=\"spacingAndGlyphs\" textLength=\"123\" x=\"38\" y=\"250.7573\">:&gt;&gt;VerificationPlan::v</text><line style=\"stroke: #383838; stroke-width: 1.0;\" x1=\"33\" x2=\"104\" y1=\"221.3398\" y2=\"221.3398\"/><text fill=\"#000000\" font-family=\"sans-serif\" font-size=\"11\" lengthAdjust=\"spacingAndGlyphs\" textLength=\"62\" x=\"104\" y=\"224.6479\">references</text><line style=\"stroke: #383838; stroke-width: 1.0;\" x1=\"166\" x2=\"237\" y1=\"221.3398\" y2=\"221.3398\"/><!--MD5=[35f0587eaee8d5bb9a02e25b63afc23b]\n",
       "class E16--><rect fill=\"#FFFFFF\" height=\"45.9375\" id=\"E16\" rx=\"10\" ry=\"10\" style=\"stroke: #383838; stroke-width: 1.5;\" width=\"151\" x=\"59.5\" y=\"334\"/><text fill=\"#000000\" font-family=\"sans-serif\" font-size=\"12\" font-style=\"italic\" lengthAdjust=\"spacingAndGlyphs\" textLength=\"91\" x=\"89.5\" y=\"350.1387\">«requirement»</text><text fill=\"#000000\" font-family=\"sans-serif\" font-size=\"12\" lengthAdjust=\"spacingAndGlyphs\" textLength=\"145\" x=\"62.5\" y=\"364.1074\">obj: RequirementCheck</text><line style=\"stroke: #383838; stroke-width: 1.5;\" x1=\"60.5\" x2=\"209.5\" y1=\"371.9375\" y2=\"371.9375\"/><text fill=\"#000000\" font-family=\"sans-serif\" font-size=\"14\" lengthAdjust=\"spacingAndGlyphs\" textLength=\"7\" x=\"558.5\" y=\"53.1982\">v</text><rect fill=\"#383838\" height=\"12\" style=\"stroke: #F8F8F8; stroke-width: 1.5;\" width=\"12\" x=\"556\" y=\"68.5\"/><text fill=\"#000000\" font-family=\"sans-serif\" font-size=\"14\" lengthAdjust=\"spacingAndGlyphs\" textLength=\"48\" x=\"549\" y=\"434.9951\">$result</text><rect fill=\"#383838\" height=\"12\" style=\"stroke: #F8F8F8; stroke-width: 1.5;\" width=\"12\" x=\"567\" y=\"410\"/><text fill=\"#000000\" font-family=\"sans-serif\" font-size=\"14\" lengthAdjust=\"spacingAndGlyphs\" textLength=\"16\" x=\"636\" y=\"53.1982\">$x</text><rect fill=\"#383838\" height=\"12\" style=\"stroke: #F8F8F8; stroke-width: 1.5;\" width=\"12\" x=\"638\" y=\"68.5\"/><text fill=\"#000000\" font-family=\"sans-serif\" font-size=\"14\" lengthAdjust=\"spacingAndGlyphs\" textLength=\"16\" x=\"718\" y=\"53.1982\">$y</text><rect fill=\"#383838\" height=\"12\" style=\"stroke: #F8F8F8; stroke-width: 1.5;\" width=\"12\" x=\"720\" y=\"68.5\"/><text fill=\"#000000\" font-family=\"sans-serif\" font-size=\"14\" lengthAdjust=\"spacingAndGlyphs\" textLength=\"48\" x=\"631\" y=\"434.9951\">$result</text><rect fill=\"#383838\" height=\"12\" style=\"stroke: #F8F8F8; stroke-width: 1.5;\" width=\"12\" x=\"649\" y=\"410\"/><text fill=\"#000000\" font-family=\"sans-serif\" font-size=\"14\" lengthAdjust=\"spacingAndGlyphs\" textLength=\"7\" x=\"344.5\" y=\"191.6982\">v</text><rect fill=\"#383838\" height=\"12\" style=\"stroke: #F8F8F8; stroke-width: 1.5;\" width=\"12\" x=\"342\" y=\"207\"/><g id=\"E1.E11.E13\"><rect fill=\"#FFFFFF\" height=\"50\" rx=\"12.5\" ry=\"12.5\" style=\"stroke: #383838; stroke-width: 1.5;\" width=\"128\" x=\"284\" y=\"452\"/><line style=\"stroke: #383838; stroke-width: 1.5;\" x1=\"284\" x2=\"412\" y1=\"478.2969\" y2=\"478.2969\"/><text fill=\"#000000\" font-family=\"sans-serif\" font-size=\"14\" lengthAdjust=\"spacingAndGlyphs\" textLength=\"108\" x=\"294\" y=\"469.9951\">verificationCase</text></g><!--MD5=[05d275557350bfb9b23a4ef7222b4c39]\n",
       "link E3 to E2--><path d=\"M494,97.73 C494,115.37 494,140.67 494,162.99 \" fill=\"none\" id=\"E3-&gt;E2\" style=\"stroke: #383838; stroke-width: 1.0;\"/><polygon fill=\"#FFFFFF\" points=\"494,183.12,487,164.12,501,164.12,494,183.12\" style=\"stroke: #383838; stroke-width: 1.0;\"/><ellipse cx=\"489\" cy=\"158.42\" fill=\"#383838\" rx=\"2\" ry=\"2\" style=\"stroke: #383838; stroke-width: 1.0;\"/><ellipse cx=\"499\" cy=\"158.42\" fill=\"#383838\" rx=\"2\" ry=\"2\" style=\"stroke: #383838; stroke-width: 1.0;\"/><!--MD5=[cf04703ca05eebef50f1cfe8b03e143b]\n",
       "link E9 to E7--><path d=\"M727.57,80.54 C735.27,106.16 766.91,223.78 726,304 C693.2,368.32 603.78,404.07 579.28,412.85 \" fill=\"none\" id=\"E9-E7\" style=\"stroke: #383838; stroke-width: 5.0;\"/><!--MD5=[58d440dfd4c930e286431b4800d1b487]\n",
       "link E15 to E11--><path d=\"M199.77,257.18 C211.705,265.1375 224.47,273.6475 237.3159,282.2111 C240.5274,284.352 243.744,286.4962 246.9539,288.636 C248.5588,289.7059 250.1621,290.7747 251.7623,291.8414 C252.1623,292.1081 252.5621,292.3747 252.9618,292.6411 C253.1616,292.7743 253.3613,292.9074 253.561,293.0405 \" fill=\"none\" id=\"E15-&gt;E11\" style=\"stroke: #383838; stroke-width: 1.0;\"/><polygon fill=\"#FFFFFF\" points=\"253.561,293.0405,233.869,288.3262,241.6345,276.6773,253.561,293.0405\" style=\"stroke: #383838; stroke-width: 1.0;\"/><ellipse cx=\"230.2356\" cy=\"283.5004\" fill=\"#383838\" rx=\"2\" ry=\"2\" style=\"stroke: #383838; stroke-width: 1.0;\"/><ellipse cx=\"235.7823\" cy=\"275.1798\" fill=\"#383838\" rx=\"2\" ry=\"2\" style=\"stroke: #383838; stroke-width: 1.0;\"/><!--MD5=[17bf29720e4688890742b92d9a67fdf0]\n",
       "reverse link E14 to E15--><path d=\"M135,110.96 C135,128.64 135,150.18 135,168.81 \" fill=\"none\" id=\"E14&lt;-E15\" style=\"stroke: #383838; stroke-width: 1.0;\"/><polygon fill=\"#383838\" points=\"135,97.73,131,103.73,135,109.73,139,103.73,135,97.73\" style=\"stroke: #383838; stroke-width: 1.0;\"/><!--MD5=[f8b155c46b092be73bb522b0a8fc72a2]\n",
       "link E15 to E16--><path d=\"M135,257.38 C135,279.5 135,305.86 135,325.76 \" fill=\"none\" id=\"E15-&gt;E16\" style=\"stroke: #383838; stroke-width: 1.0;\"/><polygon fill=\"#383838\" points=\"135,333.87,138,325.87,132,325.87,135,333.87\" style=\"stroke: #383838; stroke-width: 1.0;\"/><text fill=\"#000000\" font-family=\"sans-serif\" font-size=\"13\" lengthAdjust=\"spacingAndGlyphs\" textLength=\"73\" x=\"136\" y=\"300.0669\">«objective»</text><!--MD5=[5639bc5429d4ac72c2483de89555fd38]\n",
       "@startuml\r\n",
       "skinparam monochrome true\r\n",
       "skinparam classbackgroundcolor white\r\n",
       "skinparam shadowing false\r\n",
       "skinparam wrapWidth 300\r\n",
       "hide circle\r\n",
       "\r\n",
       "package \"VerificationTest\" as E1   {\r\n",
       "comp def \"V\" as E2  <<(T,blue)part def>> {\r\n",
       "m: Integer\r\n",
       "}\r\n",
       "comp usage \"vv: V\" as E3  <<(T,blue)part>> {\r\n",
       "}\r\n",
       "comp def \"VerificationObjective\" as E4  <<(T,blue)requirement def>> {\r\n",
       "...\r\n",
       "- -\r\n",
       "}\r\n",
       "rec def \"VerificationCase\" as E5 {\r\n",
       "portin \"v\" as E6  \r\n",
       "portout \"$result\" as E7  \r\n",
       "portin \"$x\" as E8  \r\n",
       "portin \"$y\" as E9  \r\n",
       "portout \"$result\" as E10  \r\n",
       "}\r\n",
       "\r\n",
       "rec def \"VerificationPlan\" as E11 {\r\n",
       "portin \"v\" as E12  \r\n",
       "rec usage \"verificationCase\" as E13 {\r\n",
       "}\r\n",
       "\r\n",
       "}\r\n",
       "\r\n",
       "comp usage \"verificationContext: Part\" as E14  <<(T,blue)part>> {\r\n",
       "}\r\n",
       "comp usage \"verificationPlan: VerificationPlan\" as E15  <<(T,blue)verificationCase>> {\r\n",
       "- -references- -\r\n",
       "v: V= vv; \\n//:>>VerificationPlan::v// \r\n",
       "}\r\n",
       "comp usage \"obj: RequirementCheck\" as E16  <<(T,blue)requirement>> {\r\n",
       "}\r\n",
       "E3 - -:|> E2\r\n",
       "E9 -[thickness=5]- E7\r\n",
       "E15 - -:|> E11\r\n",
       "E14 *- - E15\r\n",
       "E15 - ->> E16 : <<objective>>\r\n",
       "}\r\n",
       "@enduml\r\n",
       "\n",
       "PlantUML version 1.2020.13(Sat Jun 13 12:26:38 UTC 2020)\n",
       "(EPL source distribution)\n",
       "Java Runtime: OpenJDK Runtime Environment\n",
       "JVM: OpenJDK 64-Bit Server VM\n",
       "Default Encoding: UTF-8\n",
       "Language: en\n",
       "Country: null\n",
       "--></g></svg>"
      ]
     },
     "execution_count": 43,
     "metadata": {},
     "output_type": "execute_result"
    }
   ],
   "source": [
    "%viz --style=\"DEFAULT\" --view=\"MIXED\" \"VerificationTest\""
   ]
  },
  {
   "cell_type": "code",
   "execution_count": 44,
   "id": "adjustable-philip",
   "metadata": {
    "execution": {
     "iopub.execute_input": "2021-03-25T15:57:59.246309Z",
     "iopub.status.busy": "2021-03-25T15:57:59.245838Z",
     "iopub.status.idle": "2021-03-25T15:58:00.157329Z",
     "shell.execute_reply": "2021-03-25T15:58:00.155245Z"
    }
   },
   "outputs": [
    {
     "data": {
      "image/svg+xml": [
       "<?xml version=\"1.0\" encoding=\"UTF-8\" standalone=\"no\"?><svg xmlns=\"http://www.w3.org/2000/svg\" xmlns:xlink=\"http://www.w3.org/1999/xlink\" contentScriptType=\"application/ecmascript\" contentStyleType=\"text/css\" height=\"562px\" preserveAspectRatio=\"none\" style=\"width:793px;height:562px;\" version=\"1.1\" viewBox=\"0 0 793 562\" width=\"793px\" zoomAndPan=\"magnify\"><defs/><g><!--MD5=[fbc87193dbaf4d95561dea2c320d4a47]\n",
       "cluster E1--><polygon fill=\"#FFFFFF\" points=\"16,6,147,6,154,28.2969,771,28.2969,771,550,16,550,16,6\" style=\"stroke: #000000; stroke-width: 1.5;\"/><line style=\"stroke: #000000; stroke-width: 1.5;\" x1=\"16\" x2=\"154\" y1=\"28.2969\" y2=\"28.2969\"/><text fill=\"#000000\" font-family=\"sans-serif\" font-size=\"14\" font-weight=\"bold\" lengthAdjust=\"spacingAndGlyphs\" textLength=\"125\" x=\"20\" y=\"20.9951\">VerificationTest</text><!--MD5=[de5ec2e2e8f62f467e546659f5068c88]\n",
       "cluster E5--><rect fill=\"#FFFFFF\" height=\"341.5\" style=\"stroke: #000000; stroke-width: 1.5;\" width=\"200\" x=\"544\" y=\"74.5\"/><text fill=\"#000000\" font-family=\"sans-serif\" font-size=\"14\" font-weight=\"bold\" lengthAdjust=\"spacingAndGlyphs\" textLength=\"129\" x=\"579.5\" y=\"89.4951\">VerificationCase</text><!--MD5=[917b9dd0c7eca3ee5f47219d1a84c0ad]\n",
       "cluster E11--><rect fill=\"#FFFFFF\" height=\"313\" style=\"stroke: #000000; stroke-width: 1.5;\" width=\"188\" x=\"254\" y=\"213\"/><text fill=\"#000000\" font-family=\"sans-serif\" font-size=\"14\" font-weight=\"bold\" lengthAdjust=\"spacingAndGlyphs\" textLength=\"123\" x=\"286.5\" y=\"227.9951\">VerificationPlan</text><!--MD5=[b4997ac47864f28c2f74865a473b2911]\n",
       "class E2--><rect fill=\"#FFFFFF\" height=\"58.7422\" id=\"E2\" style=\"stroke: #383838; stroke-width: 1.5;\" width=\"71\" x=\"458.5\" y=\"183.5\"/><text fill=\"#000000\" font-family=\"sans-serif\" font-size=\"12\" font-style=\"italic\" lengthAdjust=\"spacingAndGlyphs\" textLength=\"64\" x=\"462\" y=\"199.6387\">«part def»</text><text fill=\"#000000\" font-family=\"sans-serif\" font-size=\"12\" lengthAdjust=\"spacingAndGlyphs\" textLength=\"8\" x=\"490\" y=\"213.6074\">V</text><line style=\"stroke: #383838; stroke-width: 1.5;\" x1=\"459.5\" x2=\"528.5\" y1=\"221.4375\" y2=\"221.4375\"/><text fill=\"#000000\" font-family=\"sans-serif\" font-size=\"11\" lengthAdjust=\"spacingAndGlyphs\" textLength=\"59\" x=\"464.5\" y=\"235.6479\">m: Integer</text><!--MD5=[09b614a08d8cba4a07c9adeb5e0fee81]\n",
       "class E3--><rect fill=\"#FFFFFF\" height=\"45.9375\" id=\"E3\" rx=\"10\" ry=\"10\" style=\"stroke: #383838; stroke-width: 1.5;\" width=\"42\" x=\"473\" y=\"51.5\"/><text fill=\"#000000\" font-family=\"sans-serif\" font-size=\"12\" font-style=\"italic\" lengthAdjust=\"spacingAndGlyphs\" textLength=\"40\" x=\"474\" y=\"67.6387\">«part»</text><text fill=\"#000000\" font-family=\"sans-serif\" font-size=\"12\" lengthAdjust=\"spacingAndGlyphs\" textLength=\"28\" x=\"480\" y=\"81.6074\">vv: V</text><line style=\"stroke: #383838; stroke-width: 1.5;\" x1=\"474\" x2=\"514\" y1=\"89.4375\" y2=\"89.4375\"/><!--MD5=[ebbe1d658d1005bcc118a6aa81145e00]\n",
       "class E4--><rect fill=\"#FFFFFF\" height=\"66.7422\" id=\"E4\" style=\"stroke: #383838; stroke-width: 1.5;\" width=\"133\" x=\"276.5\" y=\"41\"/><text fill=\"#000000\" font-family=\"sans-serif\" font-size=\"12\" font-style=\"italic\" lengthAdjust=\"spacingAndGlyphs\" textLength=\"115\" x=\"285.5\" y=\"57.1387\">«requirement def»</text><text fill=\"#000000\" font-family=\"sans-serif\" font-size=\"12\" lengthAdjust=\"spacingAndGlyphs\" textLength=\"127\" x=\"279.5\" y=\"71.1074\">VerificationObjective</text><line style=\"stroke: #383838; stroke-width: 1.5;\" x1=\"277.5\" x2=\"408.5\" y1=\"78.9375\" y2=\"78.9375\"/><text fill=\"#000000\" font-family=\"sans-serif\" font-size=\"11\" lengthAdjust=\"spacingAndGlyphs\" textLength=\"12\" x=\"282.5\" y=\"93.1479\">...</text><line style=\"stroke: #383838; stroke-width: 1.0;\" x1=\"277.5\" x2=\"408.5\" y1=\"99.7422\" y2=\"99.7422\"/><!--MD5=[bee11217b2f71d958a27249dc326068c]\n",
       "class E14--><rect fill=\"#FFFFFF\" height=\"45.9375\" id=\"E14\" rx=\"10\" ry=\"10\" style=\"stroke: #383838; stroke-width: 1.5;\" width=\"156\" x=\"57\" y=\"51.5\"/><text fill=\"#000000\" font-family=\"sans-serif\" font-size=\"12\" font-style=\"italic\" lengthAdjust=\"spacingAndGlyphs\" textLength=\"40\" x=\"115\" y=\"67.6387\">«part»</text><text fill=\"#000000\" font-family=\"sans-serif\" font-size=\"12\" lengthAdjust=\"spacingAndGlyphs\" textLength=\"150\" x=\"60\" y=\"81.6074\">verificationContext: Part</text><line style=\"stroke: #383838; stroke-width: 1.5;\" x1=\"58\" x2=\"212\" y1=\"89.4375\" y2=\"89.4375\"/><!--MD5=[0c48fb7552dae8cbbef69381101a84c8]\n",
       "class E15--><rect fill=\"#FFFFFF\" height=\"88.3516\" id=\"E15\" rx=\"10\" ry=\"10\" style=\"stroke: #383838; stroke-width: 1.5;\" width=\"206\" x=\"32\" y=\"169\"/><text fill=\"#000000\" font-family=\"sans-serif\" font-size=\"12\" font-style=\"italic\" lengthAdjust=\"spacingAndGlyphs\" textLength=\"113\" x=\"78.5\" y=\"185.1387\">«verificationCase»</text><text fill=\"#000000\" font-family=\"sans-serif\" font-size=\"12\" lengthAdjust=\"spacingAndGlyphs\" textLength=\"200\" x=\"35\" y=\"199.1074\">verificationPlan: VerificationPlan</text><line style=\"stroke: #383838; stroke-width: 1.5;\" x1=\"33\" x2=\"237\" y1=\"206.9375\" y2=\"206.9375\"/><text fill=\"#000000\" font-family=\"sans-serif\" font-size=\"11\" lengthAdjust=\"spacingAndGlyphs\" textLength=\"50\" x=\"38\" y=\"237.9526\">v: V= vv;</text><text fill=\"#000000\" font-family=\"sans-serif\" font-size=\"11\" font-style=\"italic\" lengthAdjust=\"spacingAndGlyphs\" textLength=\"123\" x=\"38\" y=\"250.7573\">:&gt;&gt;VerificationPlan::v</text><line style=\"stroke: #383838; stroke-width: 1.0;\" x1=\"33\" x2=\"104\" y1=\"221.3398\" y2=\"221.3398\"/><text fill=\"#000000\" font-family=\"sans-serif\" font-size=\"11\" lengthAdjust=\"spacingAndGlyphs\" textLength=\"62\" x=\"104\" y=\"224.6479\">references</text><line style=\"stroke: #383838; stroke-width: 1.0;\" x1=\"166\" x2=\"237\" y1=\"221.3398\" y2=\"221.3398\"/><!--MD5=[35f0587eaee8d5bb9a02e25b63afc23b]\n",
       "class E16--><rect fill=\"#FFFFFF\" height=\"45.9375\" id=\"E16\" rx=\"10\" ry=\"10\" style=\"stroke: #383838; stroke-width: 1.5;\" width=\"151\" x=\"59.5\" y=\"334\"/><text fill=\"#000000\" font-family=\"sans-serif\" font-size=\"12\" font-style=\"italic\" lengthAdjust=\"spacingAndGlyphs\" textLength=\"91\" x=\"89.5\" y=\"350.1387\">«requirement»</text><text fill=\"#000000\" font-family=\"sans-serif\" font-size=\"12\" lengthAdjust=\"spacingAndGlyphs\" textLength=\"145\" x=\"62.5\" y=\"364.1074\">obj: RequirementCheck</text><line style=\"stroke: #383838; stroke-width: 1.5;\" x1=\"60.5\" x2=\"209.5\" y1=\"371.9375\" y2=\"371.9375\"/><text fill=\"#000000\" font-family=\"sans-serif\" font-size=\"14\" lengthAdjust=\"spacingAndGlyphs\" textLength=\"7\" x=\"558.5\" y=\"53.1982\">v</text><rect fill=\"#383838\" height=\"12\" style=\"stroke: #F8F8F8; stroke-width: 1.5;\" width=\"12\" x=\"556\" y=\"68.5\"/><text fill=\"#000000\" font-family=\"sans-serif\" font-size=\"14\" lengthAdjust=\"spacingAndGlyphs\" textLength=\"48\" x=\"549\" y=\"434.9951\">$result</text><rect fill=\"#383838\" height=\"12\" style=\"stroke: #F8F8F8; stroke-width: 1.5;\" width=\"12\" x=\"567\" y=\"410\"/><text fill=\"#000000\" font-family=\"sans-serif\" font-size=\"14\" lengthAdjust=\"spacingAndGlyphs\" textLength=\"16\" x=\"636\" y=\"53.1982\">$x</text><rect fill=\"#383838\" height=\"12\" style=\"stroke: #F8F8F8; stroke-width: 1.5;\" width=\"12\" x=\"638\" y=\"68.5\"/><text fill=\"#000000\" font-family=\"sans-serif\" font-size=\"14\" lengthAdjust=\"spacingAndGlyphs\" textLength=\"16\" x=\"718\" y=\"53.1982\">$y</text><rect fill=\"#383838\" height=\"12\" style=\"stroke: #F8F8F8; stroke-width: 1.5;\" width=\"12\" x=\"720\" y=\"68.5\"/><text fill=\"#000000\" font-family=\"sans-serif\" font-size=\"14\" lengthAdjust=\"spacingAndGlyphs\" textLength=\"48\" x=\"631\" y=\"434.9951\">$result</text><rect fill=\"#383838\" height=\"12\" style=\"stroke: #F8F8F8; stroke-width: 1.5;\" width=\"12\" x=\"649\" y=\"410\"/><text fill=\"#000000\" font-family=\"sans-serif\" font-size=\"14\" lengthAdjust=\"spacingAndGlyphs\" textLength=\"7\" x=\"344.5\" y=\"191.6982\">v</text><rect fill=\"#383838\" height=\"12\" style=\"stroke: #F8F8F8; stroke-width: 1.5;\" width=\"12\" x=\"342\" y=\"207\"/><g id=\"E1.E11.E13\"><rect fill=\"#FFFFFF\" height=\"50\" rx=\"12.5\" ry=\"12.5\" style=\"stroke: #383838; stroke-width: 1.5;\" width=\"128\" x=\"284\" y=\"452\"/><line style=\"stroke: #383838; stroke-width: 1.5;\" x1=\"284\" x2=\"412\" y1=\"478.2969\" y2=\"478.2969\"/><text fill=\"#000000\" font-family=\"sans-serif\" font-size=\"14\" lengthAdjust=\"spacingAndGlyphs\" textLength=\"108\" x=\"294\" y=\"469.9951\">verificationCase</text></g><!--MD5=[05d275557350bfb9b23a4ef7222b4c39]\n",
       "link E3 to E2--><path d=\"M494,97.73 C494,115.37 494,140.67 494,162.99 \" fill=\"none\" id=\"E3-&gt;E2\" style=\"stroke: #383838; stroke-width: 1.0;\"/><polygon fill=\"#FFFFFF\" points=\"494,183.12,487,164.12,501,164.12,494,183.12\" style=\"stroke: #383838; stroke-width: 1.0;\"/><ellipse cx=\"489\" cy=\"158.42\" fill=\"#383838\" rx=\"2\" ry=\"2\" style=\"stroke: #383838; stroke-width: 1.0;\"/><ellipse cx=\"499\" cy=\"158.42\" fill=\"#383838\" rx=\"2\" ry=\"2\" style=\"stroke: #383838; stroke-width: 1.0;\"/><!--MD5=[cf04703ca05eebef50f1cfe8b03e143b]\n",
       "link E9 to E7--><path d=\"M727.57,80.54 C735.27,106.16 766.91,223.78 726,304 C693.2,368.32 603.78,404.07 579.28,412.85 \" fill=\"none\" id=\"E9-E7\" style=\"stroke: #383838; stroke-width: 5.0;\"/><!--MD5=[58d440dfd4c930e286431b4800d1b487]\n",
       "link E15 to E11--><path d=\"M199.77,257.18 C211.705,265.1375 224.47,273.6475 237.3159,282.2111 C240.5274,284.352 243.744,286.4962 246.9539,288.636 C248.5588,289.7059 250.1621,290.7747 251.7623,291.8414 C252.1623,292.1081 252.5621,292.3747 252.9618,292.6411 C253.1616,292.7743 253.3613,292.9074 253.561,293.0405 \" fill=\"none\" id=\"E15-&gt;E11\" style=\"stroke: #383838; stroke-width: 1.0;\"/><polygon fill=\"#FFFFFF\" points=\"253.561,293.0405,233.869,288.3262,241.6345,276.6773,253.561,293.0405\" style=\"stroke: #383838; stroke-width: 1.0;\"/><ellipse cx=\"230.2356\" cy=\"283.5004\" fill=\"#383838\" rx=\"2\" ry=\"2\" style=\"stroke: #383838; stroke-width: 1.0;\"/><ellipse cx=\"235.7823\" cy=\"275.1798\" fill=\"#383838\" rx=\"2\" ry=\"2\" style=\"stroke: #383838; stroke-width: 1.0;\"/><!--MD5=[17bf29720e4688890742b92d9a67fdf0]\n",
       "reverse link E14 to E15--><path d=\"M135,110.96 C135,128.64 135,150.18 135,168.81 \" fill=\"none\" id=\"E14&lt;-E15\" style=\"stroke: #383838; stroke-width: 1.0;\"/><polygon fill=\"#383838\" points=\"135,97.73,131,103.73,135,109.73,139,103.73,135,97.73\" style=\"stroke: #383838; stroke-width: 1.0;\"/><!--MD5=[f8b155c46b092be73bb522b0a8fc72a2]\n",
       "link E15 to E16--><path d=\"M135,257.38 C135,279.5 135,305.86 135,325.76 \" fill=\"none\" id=\"E15-&gt;E16\" style=\"stroke: #383838; stroke-width: 1.0;\"/><polygon fill=\"#383838\" points=\"135,333.87,138,325.87,132,325.87,135,333.87\" style=\"stroke: #383838; stroke-width: 1.0;\"/><text fill=\"#000000\" font-family=\"sans-serif\" font-size=\"13\" lengthAdjust=\"spacingAndGlyphs\" textLength=\"73\" x=\"136\" y=\"300.0669\">«objective»</text><!--MD5=[d100a9283c5e00e11bbf532b4e0d317c]\n",
       "@startuml\r\n",
       "top to bottom direction\r\n",
       "skinparam monochrome true\r\n",
       "skinparam classbackgroundcolor white\r\n",
       "skinparam shadowing false\r\n",
       "skinparam wrapWidth 300\r\n",
       "hide circle\r\n",
       "\r\n",
       "package \"VerificationTest\" as E1   {\r\n",
       "comp def \"V\" as E2  <<(T,blue)part def>> {\r\n",
       "m: Integer\r\n",
       "}\r\n",
       "comp usage \"vv: V\" as E3  <<(T,blue)part>> {\r\n",
       "}\r\n",
       "comp def \"VerificationObjective\" as E4  <<(T,blue)requirement def>> {\r\n",
       "...\r\n",
       "- -\r\n",
       "}\r\n",
       "rec def \"VerificationCase\" as E5 {\r\n",
       "portin \"v\" as E6  \r\n",
       "portout \"$result\" as E7  \r\n",
       "portin \"$x\" as E8  \r\n",
       "portin \"$y\" as E9  \r\n",
       "portout \"$result\" as E10  \r\n",
       "}\r\n",
       "\r\n",
       "rec def \"VerificationPlan\" as E11 {\r\n",
       "portin \"v\" as E12  \r\n",
       "rec usage \"verificationCase\" as E13 {\r\n",
       "}\r\n",
       "\r\n",
       "}\r\n",
       "\r\n",
       "comp usage \"verificationContext: Part\" as E14  <<(T,blue)part>> {\r\n",
       "}\r\n",
       "comp usage \"verificationPlan: VerificationPlan\" as E15  <<(T,blue)verificationCase>> {\r\n",
       "- -references- -\r\n",
       "v: V= vv; \\n//:>>VerificationPlan::v// \r\n",
       "}\r\n",
       "comp usage \"obj: RequirementCheck\" as E16  <<(T,blue)requirement>> {\r\n",
       "}\r\n",
       "E3 - -:|> E2\r\n",
       "E9 -[thickness=5]- E7\r\n",
       "E15 - -:|> E11\r\n",
       "E14 *- - E15\r\n",
       "E15 - ->> E16 : <<objective>>\r\n",
       "}\r\n",
       "@enduml\r\n",
       "\n",
       "PlantUML version 1.2020.13(Sat Jun 13 12:26:38 UTC 2020)\n",
       "(EPL source distribution)\n",
       "Java Runtime: OpenJDK Runtime Environment\n",
       "JVM: OpenJDK 64-Bit Server VM\n",
       "Default Encoding: UTF-8\n",
       "Language: en\n",
       "Country: null\n",
       "--></g></svg>"
      ]
     },
     "execution_count": 44,
     "metadata": {},
     "output_type": "execute_result"
    }
   ],
   "source": [
    "%viz --style=\"TB\" --view=\"Default\" \"VerificationTest\""
   ]
  },
  {
   "cell_type": "code",
   "execution_count": 45,
   "id": "naughty-practitioner",
   "metadata": {
    "execution": {
     "iopub.execute_input": "2021-03-25T15:58:00.208482Z",
     "iopub.status.busy": "2021-03-25T15:58:00.208037Z",
     "iopub.status.idle": "2021-03-25T15:58:02.084868Z",
     "shell.execute_reply": "2021-03-25T15:58:02.084401Z"
    }
   },
   "outputs": [
    {
     "data": {
      "image/svg+xml": [
       "<?xml version=\"1.0\" encoding=\"UTF-8\" standalone=\"no\"?><svg xmlns=\"http://www.w3.org/2000/svg\" xmlns:xlink=\"http://www.w3.org/1999/xlink\" contentScriptType=\"application/ecmascript\" contentStyleType=\"text/css\" height=\"947px\" preserveAspectRatio=\"none\" style=\"width:519px;height:947px;\" version=\"1.1\" viewBox=\"0 0 519 947\" width=\"519px\" zoomAndPan=\"magnify\"><defs/><g><!--MD5=[fbc87193dbaf4d95561dea2c320d4a47]\n",
       "cluster E1--><polygon fill=\"#FFFFFF\" points=\"16,6,147,6,154,28.2969,497,28.2969,497,935,16,935,16,6\" style=\"stroke: #000000; stroke-width: 1.5;\"/><line style=\"stroke: #000000; stroke-width: 1.5;\" x1=\"16\" x2=\"154\" y1=\"28.2969\" y2=\"28.2969\"/><text fill=\"#000000\" font-family=\"sans-serif\" font-size=\"14\" font-weight=\"bold\" lengthAdjust=\"spacingAndGlyphs\" textLength=\"125\" x=\"20\" y=\"20.9951\">VerificationTest</text><!--MD5=[b4997ac47864f28c2f74865a473b2911]\n",
       "class E2--><rect fill=\"#FFFFFF\" height=\"58.7422\" id=\"E2\" style=\"stroke: #383838; stroke-width: 1.5;\" width=\"71\" x=\"193.5\" y=\"717.5\"/><text fill=\"#000000\" font-family=\"sans-serif\" font-size=\"12\" font-style=\"italic\" lengthAdjust=\"spacingAndGlyphs\" textLength=\"64\" x=\"197\" y=\"733.6387\">«part def»</text><text fill=\"#000000\" font-family=\"sans-serif\" font-size=\"12\" lengthAdjust=\"spacingAndGlyphs\" textLength=\"8\" x=\"225\" y=\"747.6074\">V</text><line style=\"stroke: #383838; stroke-width: 1.5;\" x1=\"194.5\" x2=\"263.5\" y1=\"755.4375\" y2=\"755.4375\"/><text fill=\"#000000\" font-family=\"sans-serif\" font-size=\"11\" lengthAdjust=\"spacingAndGlyphs\" textLength=\"59\" x=\"199.5\" y=\"769.6479\">m: Integer</text><!--MD5=[09b614a08d8cba4a07c9adeb5e0fee81]\n",
       "class E3--><rect fill=\"#FFFFFF\" height=\"45.9375\" id=\"E3\" rx=\"10\" ry=\"10\" style=\"stroke: #383838; stroke-width: 1.5;\" width=\"42\" x=\"264\" y=\"580\"/><text fill=\"#000000\" font-family=\"sans-serif\" font-size=\"12\" font-style=\"italic\" lengthAdjust=\"spacingAndGlyphs\" textLength=\"40\" x=\"265\" y=\"596.1387\">«part»</text><text fill=\"#000000\" font-family=\"sans-serif\" font-size=\"12\" lengthAdjust=\"spacingAndGlyphs\" textLength=\"28\" x=\"271\" y=\"610.1074\">vv: V</text><line style=\"stroke: #383838; stroke-width: 1.5;\" x1=\"265\" x2=\"305\" y1=\"617.9375\" y2=\"617.9375\"/><!--MD5=[ebbe1d658d1005bcc118a6aa81145e00]\n",
       "class E4--><rect fill=\"#FFFFFF\" height=\"66.7422\" id=\"E4\" style=\"stroke: #383838; stroke-width: 1.5;\" width=\"133\" x=\"323.5\" y=\"852\"/><text fill=\"#000000\" font-family=\"sans-serif\" font-size=\"12\" font-style=\"italic\" lengthAdjust=\"spacingAndGlyphs\" textLength=\"115\" x=\"332.5\" y=\"868.1387\">«requirement def»</text><text fill=\"#000000\" font-family=\"sans-serif\" font-size=\"12\" lengthAdjust=\"spacingAndGlyphs\" textLength=\"127\" x=\"326.5\" y=\"882.1074\">VerificationObjective</text><line style=\"stroke: #383838; stroke-width: 1.5;\" x1=\"324.5\" x2=\"455.5\" y1=\"889.9375\" y2=\"889.9375\"/><text fill=\"#000000\" font-family=\"sans-serif\" font-size=\"11\" lengthAdjust=\"spacingAndGlyphs\" textLength=\"12\" x=\"329.5\" y=\"904.1479\">...</text><line style=\"stroke: #383838; stroke-width: 1.0;\" x1=\"324.5\" x2=\"455.5\" y1=\"910.7422\" y2=\"910.7422\"/><!--MD5=[270fce915f116d4de14055a7c1d9a0f3]\n",
       "class E5--><rect fill=\"#FFFFFF\" height=\"45.9375\" id=\"E5\" style=\"stroke: #383838; stroke-width: 1.5;\" width=\"139\" x=\"341.5\" y=\"580\"/><text fill=\"#000000\" font-family=\"sans-serif\" font-size=\"12\" font-style=\"italic\" lengthAdjust=\"spacingAndGlyphs\" textLength=\"137\" x=\"342.5\" y=\"596.1387\">«verificationCase def»</text><text fill=\"#000000\" font-family=\"sans-serif\" font-size=\"12\" lengthAdjust=\"spacingAndGlyphs\" textLength=\"101\" x=\"360.5\" y=\"610.1074\">VerificationCase</text><line style=\"stroke: #383838; stroke-width: 1.5;\" x1=\"342.5\" x2=\"479.5\" y1=\"617.9375\" y2=\"617.9375\"/><!--MD5=[60a26617385b1d2d0262a64233df1f8d]\n",
       "class E6--><rect fill=\"#FFFFFF\" height=\"88.3516\" id=\"E6\" rx=\"10\" ry=\"10\" style=\"stroke: #383838; stroke-width: 1.5;\" width=\"181\" x=\"299.5\" y=\"703\"/><text fill=\"#000000\" font-family=\"sans-serif\" font-size=\"12\" font-style=\"italic\" lengthAdjust=\"spacingAndGlyphs\" textLength=\"91\" x=\"344.5\" y=\"719.1387\">«requirement»</text><text fill=\"#000000\" font-family=\"sans-serif\" font-size=\"12\" lengthAdjust=\"spacingAndGlyphs\" textLength=\"154\" x=\"313\" y=\"733.1074\">obj: VerificationObjective</text><line style=\"stroke: #383838; stroke-width: 1.5;\" x1=\"300.5\" x2=\"479.5\" y1=\"740.9375\" y2=\"740.9375\"/><text fill=\"#000000\" font-family=\"sans-serif\" font-size=\"11\" lengthAdjust=\"spacingAndGlyphs\" textLength=\"103\" x=\"305.5\" y=\"771.9526\">subj: Anything= v;</text><text fill=\"#000000\" font-family=\"sans-serif\" font-size=\"11\" font-style=\"italic\" lengthAdjust=\"spacingAndGlyphs\" textLength=\"169\" x=\"305.5\" y=\"784.7573\">:&gt;&gt;VerificationObjective::subj</text><line style=\"stroke: #383838; stroke-width: 1.0;\" x1=\"300.5\" x2=\"359\" y1=\"755.3398\" y2=\"755.3398\"/><text fill=\"#000000\" font-family=\"sans-serif\" font-size=\"11\" lengthAdjust=\"spacingAndGlyphs\" textLength=\"62\" x=\"359\" y=\"758.6479\">references</text><line style=\"stroke: #383838; stroke-width: 1.0;\" x1=\"421\" x2=\"479.5\" y1=\"755.3398\" y2=\"755.3398\"/><!--MD5=[2156ba9850f5573cc1fc38a6a4b2f02b]\n",
       "class E7--><rect fill=\"#FFFFFF\" height=\"45.9375\" id=\"E7\" style=\"stroke: #383838; stroke-width: 1.5;\" width=\"139\" x=\"86.5\" y=\"313\"/><text fill=\"#000000\" font-family=\"sans-serif\" font-size=\"12\" font-style=\"italic\" lengthAdjust=\"spacingAndGlyphs\" textLength=\"137\" x=\"87.5\" y=\"329.1387\">«verificationCase def»</text><text fill=\"#000000\" font-family=\"sans-serif\" font-size=\"12\" lengthAdjust=\"spacingAndGlyphs\" textLength=\"97\" x=\"107.5\" y=\"343.1074\">VerificationPlan</text><line style=\"stroke: #383838; stroke-width: 1.5;\" x1=\"87.5\" x2=\"224.5\" y1=\"350.9375\" y2=\"350.9375\"/><!--MD5=[b9389687b975829384b498ac4b7476b2]\n",
       "class E8--><rect fill=\"#FFFFFF\" height=\"66.7422\" id=\"E8\" rx=\"10\" ry=\"10\" style=\"stroke: #383838; stroke-width: 1.5;\" width=\"151\" x=\"80.5\" y=\"436\"/><text fill=\"#000000\" font-family=\"sans-serif\" font-size=\"12\" font-style=\"italic\" lengthAdjust=\"spacingAndGlyphs\" textLength=\"91\" x=\"110.5\" y=\"452.1387\">«requirement»</text><text fill=\"#000000\" font-family=\"sans-serif\" font-size=\"12\" lengthAdjust=\"spacingAndGlyphs\" textLength=\"145\" x=\"83.5\" y=\"466.1074\">obj: RequirementCheck</text><line style=\"stroke: #383838; stroke-width: 1.5;\" x1=\"81.5\" x2=\"230.5\" y1=\"473.9375\" y2=\"473.9375\"/><text fill=\"#000000\" font-family=\"sans-serif\" font-size=\"11\" lengthAdjust=\"spacingAndGlyphs\" textLength=\"12\" x=\"86.5\" y=\"488.1479\">...</text><line style=\"stroke: #383838; stroke-width: 1.0;\" x1=\"81.5\" x2=\"230.5\" y1=\"494.7422\" y2=\"494.7422\"/><!--MD5=[fd4143e9d270a159db93a4ea2a975926]\n",
       "class E9--><rect fill=\"#FFFFFF\" height=\"45.9375\" id=\"E9\" rx=\"10\" ry=\"10\" style=\"stroke: #383838; stroke-width: 1.5;\" width=\"214\" x=\"267\" y=\"446.5\"/><text fill=\"#000000\" font-family=\"sans-serif\" font-size=\"12\" font-style=\"italic\" lengthAdjust=\"spacingAndGlyphs\" textLength=\"113\" x=\"317.5\" y=\"462.6387\">«verificationCase»</text><text fill=\"#000000\" font-family=\"sans-serif\" font-size=\"12\" lengthAdjust=\"spacingAndGlyphs\" textLength=\"208\" x=\"270\" y=\"476.6074\">verificationCase: VerificationCase</text><line style=\"stroke: #383838; stroke-width: 1.5;\" x1=\"268\" x2=\"480\" y1=\"484.4375\" y2=\"484.4375\"/><!--MD5=[96f4274e9e20536e775497830990834d]\n",
       "class E10--><rect fill=\"#FFFFFF\" height=\"45.9375\" id=\"E10\" rx=\"10\" ry=\"10\" style=\"stroke: #383838; stroke-width: 1.5;\" width=\"160\" x=\"69\" y=\"580\"/><text fill=\"#000000\" font-family=\"sans-serif\" font-size=\"12\" font-style=\"italic\" lengthAdjust=\"spacingAndGlyphs\" textLength=\"91\" x=\"103.5\" y=\"596.1387\">«requirement»</text><text fill=\"#000000\" font-family=\"sans-serif\" font-size=\"12\" lengthAdjust=\"spacingAndGlyphs\" textLength=\"154\" x=\"72\" y=\"610.1074\">obj: VerificationObjective</text><line style=\"stroke: #383838; stroke-width: 1.5;\" x1=\"70\" x2=\"228\" y1=\"617.9375\" y2=\"617.9375\"/><!--MD5=[1dd1bfd58a279cf63c5f349dbc8fc6a1]\n",
       "class E11--><rect fill=\"#FFFFFF\" height=\"45.9375\" id=\"E11\" rx=\"10\" ry=\"10\" style=\"stroke: #383838; stroke-width: 1.5;\" width=\"156\" x=\"168\" y=\"41\"/><text fill=\"#000000\" font-family=\"sans-serif\" font-size=\"12\" font-style=\"italic\" lengthAdjust=\"spacingAndGlyphs\" textLength=\"40\" x=\"226\" y=\"57.1387\">«part»</text><text fill=\"#000000\" font-family=\"sans-serif\" font-size=\"12\" lengthAdjust=\"spacingAndGlyphs\" textLength=\"150\" x=\"171\" y=\"71.1074\">verificationContext: Part</text><line style=\"stroke: #383838; stroke-width: 1.5;\" x1=\"169\" x2=\"323\" y1=\"78.9375\" y2=\"78.9375\"/><!--MD5=[49a0ec8f00dab7302a31f22d0f0fe584]\n",
       "class E12--><rect fill=\"#FFFFFF\" height=\"88.3516\" id=\"E12\" rx=\"10\" ry=\"10\" style=\"stroke: #383838; stroke-width: 1.5;\" width=\"206\" x=\"143\" y=\"148\"/><text fill=\"#000000\" font-family=\"sans-serif\" font-size=\"12\" font-style=\"italic\" lengthAdjust=\"spacingAndGlyphs\" textLength=\"113\" x=\"189.5\" y=\"164.1387\">«verificationCase»</text><text fill=\"#000000\" font-family=\"sans-serif\" font-size=\"12\" lengthAdjust=\"spacingAndGlyphs\" textLength=\"200\" x=\"146\" y=\"178.1074\">verificationPlan: VerificationPlan</text><line style=\"stroke: #383838; stroke-width: 1.5;\" x1=\"144\" x2=\"348\" y1=\"185.9375\" y2=\"185.9375\"/><text fill=\"#000000\" font-family=\"sans-serif\" font-size=\"11\" lengthAdjust=\"spacingAndGlyphs\" textLength=\"50\" x=\"149\" y=\"216.9526\">v: V= vv;</text><text fill=\"#000000\" font-family=\"sans-serif\" font-size=\"11\" font-style=\"italic\" lengthAdjust=\"spacingAndGlyphs\" textLength=\"123\" x=\"149\" y=\"229.7573\">:&gt;&gt;VerificationPlan::v</text><line style=\"stroke: #383838; stroke-width: 1.0;\" x1=\"144\" x2=\"215\" y1=\"200.3398\" y2=\"200.3398\"/><text fill=\"#000000\" font-family=\"sans-serif\" font-size=\"11\" lengthAdjust=\"spacingAndGlyphs\" textLength=\"62\" x=\"215\" y=\"203.6479\">references</text><line style=\"stroke: #383838; stroke-width: 1.0;\" x1=\"277\" x2=\"348\" y1=\"200.3398\" y2=\"200.3398\"/><!--MD5=[ee3c913d1a06f366521f9ef512b67efe]\n",
       "class E13--><rect fill=\"#FFFFFF\" height=\"45.9375\" id=\"E13\" rx=\"10\" ry=\"10\" style=\"stroke: #383838; stroke-width: 1.5;\" width=\"151\" x=\"260.5\" y=\"313\"/><text fill=\"#000000\" font-family=\"sans-serif\" font-size=\"12\" font-style=\"italic\" lengthAdjust=\"spacingAndGlyphs\" textLength=\"91\" x=\"290.5\" y=\"329.1387\">«requirement»</text><text fill=\"#000000\" font-family=\"sans-serif\" font-size=\"12\" lengthAdjust=\"spacingAndGlyphs\" textLength=\"145\" x=\"263.5\" y=\"343.1074\">obj: RequirementCheck</text><line style=\"stroke: #383838; stroke-width: 1.5;\" x1=\"261.5\" x2=\"410.5\" y1=\"350.9375\" y2=\"350.9375\"/><!--MD5=[05d275557350bfb9b23a4ef7222b4c39]\n",
       "link E3 to E2--><path d=\"M263.77,625.05 C256.04,633.9 247.98,644.75 243,656 C237.37,668.71 233.96,683.31 231.9,697 \" fill=\"none\" id=\"E3-&gt;E2\" style=\"stroke: #383838; stroke-width: 1.0;\"/><polygon fill=\"#FFFFFF\" points=\"229.66,717.36,224.7793,697.7086,238.6954,699.2392,229.66,717.36\" style=\"stroke: #383838; stroke-width: 1.0;\"/><ellipse cx=\"227.3905\" cy=\"692.2614\" fill=\"#383838\" rx=\"2\" ry=\"2\" style=\"stroke: #383838; stroke-width: 1.0;\"/><ellipse cx=\"237.3306\" cy=\"693.3547\" fill=\"#383838\" rx=\"2\" ry=\"2\" style=\"stroke: #383838; stroke-width: 1.0;\"/><!--MD5=[15ebcb19ae302d9b601edb458606d402]\n",
       "link E5 to E2--><path d=\"M373.38,626.02 C359.12,634.84 342.97,645.4 329,656 C305.45,673.87 280.74,696.06 261.78,713.94 \" fill=\"none\" id=\"E5-&gt;E2\" style=\"stroke: #383838; stroke-width: 1.0; stroke-dasharray: 7.0,7.0;\"/><polygon fill=\"#383838\" points=\"258.07,717.46,267.352,714.167,261.6971,714.0185,261.8456,708.3636,258.07,717.46\" style=\"stroke: #383838; stroke-width: 1.0;\"/><text fill=\"#000000\" font-family=\"sans-serif\" font-size=\"13\" lengthAdjust=\"spacingAndGlyphs\" textLength=\"62\" x=\"330\" y=\"669.0669\">«subject»</text><!--MD5=[9120cf2e5df3bff93db8f754bbbc09b4]\n",
       "link E5 to E6--><path d=\"M407.72,626.19 C405.02,644.47 401.07,671.12 397.59,694.64 \" fill=\"none\" id=\"E5-&gt;E6\" style=\"stroke: #383838; stroke-width: 1.0;\"/><polygon fill=\"#383838\" points=\"396.39,702.82,400.529,695.3455,394.5937,694.467,396.39,702.82\" style=\"stroke: #383838; stroke-width: 1.0;\"/><text fill=\"#000000\" font-family=\"sans-serif\" font-size=\"13\" lengthAdjust=\"spacingAndGlyphs\" textLength=\"73\" x=\"403\" y=\"669.0669\">«objective»</text><!--MD5=[f667431f98296947986a1a7595a31603]\n",
       "link E6 to E4--><path d=\"M390,791.19 C390,804.11 390,818.41 390,831.87 \" fill=\"none\" id=\"E6-&gt;E4\" style=\"stroke: #383838; stroke-width: 1.0;\"/><polygon fill=\"#FFFFFF\" points=\"390,851.98,383,832.98,397,832.98,390,851.98\" style=\"stroke: #383838; stroke-width: 1.0;\"/><ellipse cx=\"385\" cy=\"827.28\" fill=\"#383838\" rx=\"2\" ry=\"2\" style=\"stroke: #383838; stroke-width: 1.0;\"/><ellipse cx=\"395\" cy=\"827.28\" fill=\"#383838\" rx=\"2\" ry=\"2\" style=\"stroke: #383838; stroke-width: 1.0;\"/><!--MD5=[583832df87f4419a098336a29a52fa00]\n",
       "link E7 to E2--><path d=\"M126.49,359.05 C104.8,377.11 76.79,404.71 63,436 C28.88,513.4 12.38,551.27 52,626 C80.63,680.01 145.66,714.18 188.41,731.7 \" fill=\"none\" id=\"E7-&gt;E2\" style=\"stroke: #383838; stroke-width: 1.0; stroke-dasharray: 7.0,7.0;\"/><polygon fill=\"#383838\" points=\"193.25,733.65,186.4056,726.5681,188.6146,731.7758,183.4068,733.9848,193.25,733.65\" style=\"stroke: #383838; stroke-width: 1.0;\"/><text fill=\"#000000\" font-family=\"sans-serif\" font-size=\"13\" lengthAdjust=\"spacingAndGlyphs\" textLength=\"62\" x=\"31\" y=\"546.0669\">«subject»</text><!--MD5=[79bc8f324ef4d02c541433f2e6e513c3]\n",
       "link E7 to E8--><path d=\"M156,359.01 C156,377.7 156,405.02 156,427.69 \" fill=\"none\" id=\"E7-&gt;E8\" style=\"stroke: #383838; stroke-width: 1.0;\"/><polygon fill=\"#383838\" points=\"156,435.81,159,427.81,153,427.81,156,435.81\" style=\"stroke: #383838; stroke-width: 1.0;\"/><text fill=\"#000000\" font-family=\"sans-serif\" font-size=\"13\" lengthAdjust=\"spacingAndGlyphs\" textLength=\"73\" x=\"157\" y=\"402.0669\">«objective»</text><!--MD5=[bfc3ddf2e613be37104f658f09af896c]\n",
       "link E9 to E5--><path d=\"M380.19,492.51 C385.4,511 392.97,537.94 399.31,560.46 \" fill=\"none\" id=\"E9-&gt;E5\" style=\"stroke: #383838; stroke-width: 1.0;\"/><polygon fill=\"#FFFFFF\" points=\"404.79,579.92,392.9087,563.5238,406.3861,559.7346,404.79,579.92\" style=\"stroke: #383838; stroke-width: 1.0;\"/><ellipse cx=\"393.2913\" cy=\"557.4953\" fill=\"#383838\" rx=\"2\" ry=\"2\" style=\"stroke: #383838; stroke-width: 1.0;\"/><ellipse cx=\"402.918\" cy=\"554.7886\" fill=\"#383838\" rx=\"2\" ry=\"2\" style=\"stroke: #383838; stroke-width: 1.0;\"/><!--MD5=[e4a10ef82d0e328e31cac39a31e58dda]\n",
       "reverse link E7 to E9--><path d=\"M203.63,365.73 C243.86,390 300.64,424.25 337.39,446.42 \" fill=\"none\" id=\"E7&lt;-E9\" style=\"stroke: #383838; stroke-width: 1.0;\"/><polygon fill=\"#383838\" points=\"192.49,359.01,195.561,365.5345,202.7648,365.2091,199.6938,358.6847,192.49,359.01\" style=\"stroke: #383838; stroke-width: 1.0;\"/><!--MD5=[35e5f1cbde42fa304a029880aa2bc7f2]\n",
       "link E9 to E10--><path d=\"M336.34,492.51 C297.08,515.46 235.56,551.41 193.82,575.81 \" fill=\"none\" id=\"E9-&gt;E10\" style=\"stroke: #383838; stroke-width: 1.0;\"/><polygon fill=\"#383838\" points=\"186.78,579.92,195.2026,578.4847,192.182,573.3005,186.78,579.92\" style=\"stroke: #383838; stroke-width: 1.0;\"/><text fill=\"#000000\" font-family=\"sans-serif\" font-size=\"13\" lengthAdjust=\"spacingAndGlyphs\" textLength=\"73\" x=\"262\" y=\"546.0669\">«objective»</text><!--MD5=[ae660f5ecd7ddb04a8913625960940af]\n",
       "link E12 to E7--><path d=\"M218.51,236.38 C206.49,255.34 192.5,277.42 180.8,295.87 \" fill=\"none\" id=\"E12-&gt;E7\" style=\"stroke: #383838; stroke-width: 1.0;\"/><polygon fill=\"#FFFFFF\" points=\"170.03,312.87,174.2795,293.0725,186.108,300.5615,170.03,312.87\" style=\"stroke: #383838; stroke-width: 1.0;\"/><ellipse cx=\"179.0184\" cy=\"289.3264\" fill=\"#383838\" rx=\"2\" ry=\"2\" style=\"stroke: #383838; stroke-width: 1.0;\"/><ellipse cx=\"187.4673\" cy=\"294.6758\" fill=\"#383838\" rx=\"2\" ry=\"2\" style=\"stroke: #383838; stroke-width: 1.0;\"/><!--MD5=[94adabc162ce7e41b39f13be14fbaeb3]\n",
       "reverse link E11 to E12--><path d=\"M246,100.45 C246,115.17 246,132.39 246,147.84 \" fill=\"none\" id=\"E11&lt;-E12\" style=\"stroke: #383838; stroke-width: 1.0;\"/><polygon fill=\"#383838\" points=\"246,87.24,242,93.24,246,99.24,250,93.24,246,87.24\" style=\"stroke: #383838; stroke-width: 1.0;\"/><!--MD5=[e2a9ac97dcd3257bb5342dae06547bad]\n",
       "link E12 to E13--><path d=\"M273.49,236.38 C287.83,258.99 304.97,286.04 317.67,306.09 \" fill=\"none\" id=\"E12-&gt;E13\" style=\"stroke: #383838; stroke-width: 1.0;\"/><polygon fill=\"#383838\" points=\"321.97,312.87,320.2186,304.5074,315.1518,307.7211,321.97,312.87\" style=\"stroke: #383838; stroke-width: 1.0;\"/><text fill=\"#000000\" font-family=\"sans-serif\" font-size=\"13\" lengthAdjust=\"spacingAndGlyphs\" textLength=\"73\" x=\"302\" y=\"279.0669\">«objective»</text><!--MD5=[29cfab6c3f38f3c35c0bbc1b8b4a1c72]\n",
       "@startuml\r\n",
       "top to bottom direction\r\n",
       "skinparam monochrome true\r\n",
       "skinparam classbackgroundcolor white\r\n",
       "skinparam shadowing false\r\n",
       "skinparam wrapWidth 300\r\n",
       "hide circle\r\n",
       "\r\n",
       "package \"VerificationTest\" as E1   {\r\n",
       "comp def \"V\" as E2  <<(T,blue)part def>> {\r\n",
       "m: Integer\r\n",
       "}\r\n",
       "comp usage \"vv: V\" as E3  <<(T,blue)part>> {\r\n",
       "}\r\n",
       "comp def \"VerificationObjective\" as E4  <<(T,blue)requirement def>> {\r\n",
       "...\r\n",
       "- -\r\n",
       "}\r\n",
       "comp def \"VerificationCase\" as E5  <<(T,blue)verificationCase def>> {\r\n",
       "}\r\n",
       "comp usage \"obj: VerificationObjective\" as E6  <<(T,blue)requirement>> {\r\n",
       "- -references- -\r\n",
       "subj: Anything= v; \\n//:>>VerificationObjective::subj// \r\n",
       "}\r\n",
       "comp def \"VerificationPlan\" as E7  <<(T,blue)verificationCase def>> {\r\n",
       "}\r\n",
       "comp usage \"obj: RequirementCheck\" as E8  <<(T,blue)requirement>> {\r\n",
       "...\r\n",
       "- -\r\n",
       "}\r\n",
       "comp usage \"verificationCase: VerificationCase\" as E9  <<(T,blue)verificationCase>> {\r\n",
       "}\r\n",
       "comp usage \"obj: VerificationObjective\" as E10  <<(T,blue)requirement>> {\r\n",
       "}\r\n",
       "comp usage \"verificationContext: Part\" as E11  <<(T,blue)part>> {\r\n",
       "}\r\n",
       "comp usage \"verificationPlan: VerificationPlan\" as E12  <<(T,blue)verificationCase>> {\r\n",
       "- -references- -\r\n",
       "v: V= vv; \\n//:>>VerificationPlan::v// \r\n",
       "}\r\n",
       "comp usage \"obj: RequirementCheck\" as E13  <<(T,blue)requirement>> {\r\n",
       "}\r\n",
       "E3 - -:|> E2\r\n",
       "E5 ..> E2 : <<subject>>\r\n",
       "E5 - ->> E6 : <<objective>>\r\n",
       "E6 - -:|> E4\r\n",
       "E7 ..> E2 : <<subject>>\r\n",
       "E7 - ->> E8 : <<objective>>\r\n",
       "E9 - -:|> E5\r\n",
       "E7 *- - E9\r\n",
       "E9 - ->> E10 : <<objective>>\r\n",
       "E12 - -:|> E7\r\n",
       "E11 *- - E12\r\n",
       "E12 - ->> E13 : <<objective>>\r\n",
       "}\r\n",
       "@enduml\r\n",
       "\n",
       "PlantUML version 1.2020.13(Sat Jun 13 12:26:38 UTC 2020)\n",
       "(EPL source distribution)\n",
       "Java Runtime: OpenJDK Runtime Environment\n",
       "JVM: OpenJDK 64-Bit Server VM\n",
       "Default Encoding: UTF-8\n",
       "Language: en\n",
       "Country: null\n",
       "--></g></svg>"
      ]
     },
     "execution_count": 45,
     "metadata": {},
     "output_type": "execute_result"
    }
   ],
   "source": [
    "%viz --style=\"TB\" --view=\"Tree\" \"VerificationTest\""
   ]
  },
  {
   "cell_type": "code",
   "execution_count": 46,
   "id": "green-conservation",
   "metadata": {
    "execution": {
     "iopub.execute_input": "2021-03-25T15:58:02.136937Z",
     "iopub.status.busy": "2021-03-25T15:58:02.136426Z",
     "iopub.status.idle": "2021-03-25T15:58:02.138757Z",
     "shell.execute_reply": "2021-03-25T15:58:02.138267Z"
    }
   },
   "outputs": [
    {
     "data": {
      "text/plain": [
       "java.lang.IllegalArgumentException: Invalid View: State View candidates are: Default Tree StateMachine Interconnection Activity Sequence MIXED \n",
       "\tat org.omg.sysml.plantuml.SysML2PlantUMLSvc.setView(SysML2PlantUMLSvc.java:63)\n",
       "\tat org.omg.sysml.interactive.SysMLInteractive.viz(SysMLInteractive.java:286)\n",
       "\tat org.omg.sysml.jupyter.kernel.magic.Viz.viz(Viz.java:47)\n",
       "\tat jdk.internal.reflect.GeneratedMethodAccessor14.invoke(Unknown Source)\n",
       "\tat java.base/jdk.internal.reflect.DelegatingMethodAccessorImpl.invoke(DelegatingMethodAccessorImpl.java:43)\n",
       "\tat java.base/java.lang.reflect.Method.invoke(Method.java:568)\n",
       "\tat io.github.spencerpark.jupyter.kernel.magic.registry.Magics.invoke(Magics.java:89)\n",
       "\tat io.github.spencerpark.jupyter.kernel.magic.registry.Magics.access$000(Magics.java:8)\n",
       "\tat io.github.spencerpark.jupyter.kernel.magic.registry.Magics$LineReflectionMagicFunction.execute(Magics.java:149)\n",
       "\tat io.github.spencerpark.jupyter.kernel.magic.registry.Magics.applyLineMagic(Magics.java:26)\n",
       "\tat org.omg.sysml.jupyter.kernel.SysMLKernel.eval(SysMLKernel.java:76)\n",
       "\tat io.github.spencerpark.jupyter.kernel.BaseKernel.handleExecuteRequest(BaseKernel.java:334)\n",
       "\tat io.github.spencerpark.jupyter.channels.ShellChannel.lambda$bind$0(ShellChannel.java:64)\n",
       "\tat io.github.spencerpark.jupyter.channels.Loop.lambda$new$0(Loop.java:21)\n",
       "\tat io.github.spencerpark.jupyter.channels.Loop.run(Loop.java:78)\n"
      ]
     },
     "execution_count": 46,
     "metadata": {},
     "output_type": "execute_result"
    }
   ],
   "source": [
    "%viz --style=\"TB\" --view=\"State\" \"VerificationTest\""
   ]
  },
  {
   "cell_type": "code",
   "execution_count": 47,
   "id": "informed-finger",
   "metadata": {
    "execution": {
     "iopub.execute_input": "2021-03-25T15:58:02.189518Z",
     "iopub.status.busy": "2021-03-25T15:58:02.188779Z",
     "iopub.status.idle": "2021-03-25T15:58:02.324919Z",
     "shell.execute_reply": "2021-03-25T15:58:02.323505Z"
    }
   },
   "outputs": [
    {
     "data": {
      "image/svg+xml": [
       "<?xml version=\"1.0\" encoding=\"UTF-8\" standalone=\"no\"?><svg xmlns=\"http://www.w3.org/2000/svg\" xmlns:xlink=\"http://www.w3.org/1999/xlink\" contentScriptType=\"application/ecmascript\" contentStyleType=\"text/css\" height=\"202px\" preserveAspectRatio=\"none\" style=\"width:1008px;height:202px;\" version=\"1.1\" viewBox=\"0 0 1008 202\" width=\"1008px\" zoomAndPan=\"magnify\"><defs/><g><!--MD5=[fbc87193dbaf4d95561dea2c320d4a47]\n",
       "cluster E1--><polygon fill=\"#FFFFFF\" points=\"16,6,147,6,154,28.2969,986,28.2969,986,190,16,190,16,6\" style=\"stroke: #000000; stroke-width: 1.5;\"/><line style=\"stroke: #000000; stroke-width: 1.5;\" x1=\"16\" x2=\"154\" y1=\"28.2969\" y2=\"28.2969\"/><text fill=\"#000000\" font-family=\"sans-serif\" font-size=\"14\" font-weight=\"bold\" lengthAdjust=\"spacingAndGlyphs\" textLength=\"125\" x=\"20\" y=\"20.9951\">VerificationTest</text><!--MD5=[e4f7fae6ed58524ba242bb0b0d3be6b7]\n",
       "cluster E2--><rect fill=\"#FFFFFF\" height=\"117\" style=\"stroke: #000000; stroke-width: 1.5;\" width=\"124\" x=\"838\" y=\"49\"/><text fill=\"#000000\" font-family=\"sans-serif\" font-size=\"14\" font-style=\"italic\" lengthAdjust=\"spacingAndGlyphs\" textLength=\"71\" x=\"864.5\" y=\"63.9951\">«part def»</text><text fill=\"#000000\" font-family=\"sans-serif\" font-size=\"14\" font-weight=\"bold\" lengthAdjust=\"spacingAndGlyphs\" textLength=\"11\" x=\"894.5\" y=\"80.292\">V</text><!--MD5=[270fce915f116d4de14055a7c1d9a0f3]\n",
       "class E5--><rect fill=\"#FFFFFF\" height=\"53.9375\" id=\"E5\" style=\"stroke: #383838; stroke-width: 1.5;\" width=\"133\" x=\"686.5\" y=\"98\"/><text fill=\"#000000\" font-family=\"sans-serif\" font-size=\"12\" font-style=\"italic\" lengthAdjust=\"spacingAndGlyphs\" textLength=\"115\" x=\"695.5\" y=\"114.1387\">«requirement def»</text><text fill=\"#000000\" font-family=\"sans-serif\" font-size=\"12\" lengthAdjust=\"spacingAndGlyphs\" textLength=\"127\" x=\"689.5\" y=\"128.1074\">VerificationObjective</text><line style=\"stroke: #383838; stroke-width: 1.5;\" x1=\"687.5\" x2=\"818.5\" y1=\"135.9375\" y2=\"135.9375\"/><line style=\"stroke: #383838; stroke-width: 1.5;\" x1=\"687.5\" x2=\"818.5\" y1=\"143.9375\" y2=\"143.9375\"/><!--MD5=[60a26617385b1d2d0262a64233df1f8d]\n",
       "class E6--><rect fill=\"#FFFFFF\" height=\"53.9375\" id=\"E6\" style=\"stroke: #383838; stroke-width: 1.5;\" width=\"139\" x=\"512.5\" y=\"98\"/><text fill=\"#000000\" font-family=\"sans-serif\" font-size=\"12\" font-style=\"italic\" lengthAdjust=\"spacingAndGlyphs\" textLength=\"137\" x=\"513.5\" y=\"114.1387\">«verificationCase def»</text><text fill=\"#000000\" font-family=\"sans-serif\" font-size=\"12\" lengthAdjust=\"spacingAndGlyphs\" textLength=\"101\" x=\"531.5\" y=\"128.1074\">VerificationCase</text><line style=\"stroke: #383838; stroke-width: 1.5;\" x1=\"513.5\" x2=\"650.5\" y1=\"135.9375\" y2=\"135.9375\"/><line style=\"stroke: #383838; stroke-width: 1.5;\" x1=\"513.5\" x2=\"650.5\" y1=\"143.9375\" y2=\"143.9375\"/><!--MD5=[2156ba9850f5573cc1fc38a6a4b2f02b]\n",
       "class E7--><rect fill=\"#FFFFFF\" height=\"53.9375\" id=\"E7\" style=\"stroke: #383838; stroke-width: 1.5;\" width=\"139\" x=\"338.5\" y=\"98\"/><text fill=\"#000000\" font-family=\"sans-serif\" font-size=\"12\" font-style=\"italic\" lengthAdjust=\"spacingAndGlyphs\" textLength=\"137\" x=\"339.5\" y=\"114.1387\">«verificationCase def»</text><text fill=\"#000000\" font-family=\"sans-serif\" font-size=\"12\" lengthAdjust=\"spacingAndGlyphs\" textLength=\"97\" x=\"359.5\" y=\"128.1074\">VerificationPlan</text><line style=\"stroke: #383838; stroke-width: 1.5;\" x1=\"339.5\" x2=\"476.5\" y1=\"135.9375\" y2=\"135.9375\"/><line style=\"stroke: #383838; stroke-width: 1.5;\" x1=\"339.5\" x2=\"476.5\" y1=\"143.9375\" y2=\"143.9375\"/><g id=\"E1.E2.E3\"><rect fill=\"#FFFFFF\" height=\"50\" rx=\"12.5\" ry=\"12.5\" style=\"stroke: #383838; stroke-width: 1.5;\" width=\"91\" x=\"854.5\" y=\"100\"/><line style=\"stroke: #383838; stroke-width: 1.5;\" x1=\"854.5\" x2=\"945.5\" y1=\"126.2969\" y2=\"126.2969\"/><text fill=\"#000000\" font-family=\"sans-serif\" font-size=\"14\" lengthAdjust=\"spacingAndGlyphs\" textLength=\"71\" x=\"864.5\" y=\"117.9951\">m: Integer</text></g><g id=\"E1.E4\"><rect fill=\"#FFFFFF\" height=\"50\" rx=\"12.5\" ry=\"12.5\" style=\"stroke: #383838; stroke-width: 1.5;\" width=\"52\" x=\"251\" y=\"100\"/><line style=\"stroke: #383838; stroke-width: 1.5;\" x1=\"251\" x2=\"303\" y1=\"126.2969\" y2=\"126.2969\"/><text fill=\"#000000\" font-family=\"sans-serif\" font-size=\"14\" lengthAdjust=\"spacingAndGlyphs\" textLength=\"32\" x=\"261\" y=\"117.9951\">vv: V</text></g><g id=\"E1.E8\"><rect fill=\"#FFFFFF\" height=\"50\" rx=\"12.5\" ry=\"12.5\" style=\"stroke: #383838; stroke-width: 1.5;\" width=\"183\" x=\"32.5\" y=\"100\"/><line style=\"stroke: #383838; stroke-width: 1.5;\" x1=\"32.5\" x2=\"215.5\" y1=\"126.2969\" y2=\"126.2969\"/><text fill=\"#000000\" font-family=\"sans-serif\" font-size=\"14\" lengthAdjust=\"spacingAndGlyphs\" textLength=\"163\" x=\"42.5\" y=\"117.9951\">verificationContext: Part</text></g><!--MD5=[3139b99bb1f8b5657d31457535a368be]\n",
       "@startuml\r\n",
       "skinparam ranksep 8\r\n",
       "skinparam rectangle {\r\n",
       " backgroundColor<<block>> LightGreen\r\n",
       "}\r\n",
       "top to bottom direction\r\n",
       "skinparam monochrome true\r\n",
       "skinparam classbackgroundcolor white\r\n",
       "skinparam shadowing false\r\n",
       "skinparam wrapWidth 300\r\n",
       "hide circle\r\n",
       "\r\n",
       "package \"VerificationTest\" as E1   {\r\n",
       "rec def \"V\" as E2  <<part def>> {\r\n",
       "rec usage \"m: Integer\" as E3  <<attribute>> {\r\n",
       "}\r\n",
       "}\r\n",
       "rec usage \"vv: V\" as E4  {\r\n",
       "}\r\n",
       "def \"VerificationObjective\" as E5  <<requirement def>> \r\n",
       "def \"VerificationCase\" as E6  <<verificationCase def>> \r\n",
       "def \"VerificationPlan\" as E7  <<verificationCase def>> \r\n",
       "rec usage \"verificationContext: Part\" as E8  {\r\n",
       "}\r\n",
       "}\r\n",
       "@enduml\r\n",
       "\n",
       "PlantUML version 1.2020.13(Sat Jun 13 12:26:38 UTC 2020)\n",
       "(EPL source distribution)\n",
       "Java Runtime: OpenJDK Runtime Environment\n",
       "JVM: OpenJDK 64-Bit Server VM\n",
       "Default Encoding: UTF-8\n",
       "Language: en\n",
       "Country: null\n",
       "--></g></svg>"
      ]
     },
     "execution_count": 47,
     "metadata": {},
     "output_type": "execute_result"
    }
   ],
   "source": [
    "%viz --style=\"TB\" --view=\"Interconnection\" \"VerificationTest\""
   ]
  },
  {
   "cell_type": "code",
   "execution_count": 48,
   "id": "endangered-senate",
   "metadata": {
    "execution": {
     "iopub.execute_input": "2021-03-25T15:58:02.376534Z",
     "iopub.status.busy": "2021-03-25T15:58:02.375523Z",
     "iopub.status.idle": "2021-03-25T15:58:02.380506Z",
     "shell.execute_reply": "2021-03-25T15:58:02.379995Z"
    }
   },
   "outputs": [
    {
     "data": {
      "text/plain": [
       "java.lang.IllegalArgumentException: Invalid View: Action View candidates are: Default Tree StateMachine Interconnection Activity Sequence MIXED \n",
       "\tat org.omg.sysml.plantuml.SysML2PlantUMLSvc.setView(SysML2PlantUMLSvc.java:63)\n",
       "\tat org.omg.sysml.interactive.SysMLInteractive.viz(SysMLInteractive.java:286)\n",
       "\tat org.omg.sysml.jupyter.kernel.magic.Viz.viz(Viz.java:47)\n",
       "\tat jdk.internal.reflect.GeneratedMethodAccessor14.invoke(Unknown Source)\n",
       "\tat java.base/jdk.internal.reflect.DelegatingMethodAccessorImpl.invoke(DelegatingMethodAccessorImpl.java:43)\n",
       "\tat java.base/java.lang.reflect.Method.invoke(Method.java:568)\n",
       "\tat io.github.spencerpark.jupyter.kernel.magic.registry.Magics.invoke(Magics.java:89)\n",
       "\tat io.github.spencerpark.jupyter.kernel.magic.registry.Magics.access$000(Magics.java:8)\n",
       "\tat io.github.spencerpark.jupyter.kernel.magic.registry.Magics$LineReflectionMagicFunction.execute(Magics.java:149)\n",
       "\tat io.github.spencerpark.jupyter.kernel.magic.registry.Magics.applyLineMagic(Magics.java:26)\n",
       "\tat org.omg.sysml.jupyter.kernel.SysMLKernel.eval(SysMLKernel.java:76)\n",
       "\tat io.github.spencerpark.jupyter.kernel.BaseKernel.handleExecuteRequest(BaseKernel.java:334)\n",
       "\tat io.github.spencerpark.jupyter.channels.ShellChannel.lambda$bind$0(ShellChannel.java:64)\n",
       "\tat io.github.spencerpark.jupyter.channels.Loop.lambda$new$0(Loop.java:21)\n",
       "\tat io.github.spencerpark.jupyter.channels.Loop.run(Loop.java:78)\n"
      ]
     },
     "execution_count": 48,
     "metadata": {},
     "output_type": "execute_result"
    }
   ],
   "source": [
    "%viz --style=\"TB\" --view=\"Action\" \"VerificationTest\""
   ]
  },
  {
   "cell_type": "code",
   "execution_count": 49,
   "id": "driving-filing",
   "metadata": {
    "execution": {
     "iopub.execute_input": "2021-03-25T15:58:02.437232Z",
     "iopub.status.busy": "2021-03-25T15:58:02.436456Z",
     "iopub.status.idle": "2021-03-25T15:58:04.183188Z",
     "shell.execute_reply": "2021-03-25T15:58:04.182822Z"
    }
   },
   "outputs": [
    {
     "data": {
      "image/svg+xml": [
       "<?xml version=\"1.0\" encoding=\"UTF-8\" standalone=\"no\"?><svg xmlns=\"http://www.w3.org/2000/svg\" xmlns:xlink=\"http://www.w3.org/1999/xlink\" contentScriptType=\"application/ecmascript\" contentStyleType=\"text/css\" height=\"947px\" preserveAspectRatio=\"none\" style=\"width:519px;height:947px;\" version=\"1.1\" viewBox=\"0 0 519 947\" width=\"519px\" zoomAndPan=\"magnify\"><defs/><g><!--MD5=[fbc87193dbaf4d95561dea2c320d4a47]\n",
       "cluster E1--><polygon fill=\"#FFFFFF\" points=\"16,6,147,6,154,28.2969,497,28.2969,497,935,16,935,16,6\" style=\"stroke: #000000; stroke-width: 1.5;\"/><line style=\"stroke: #000000; stroke-width: 1.5;\" x1=\"16\" x2=\"154\" y1=\"28.2969\" y2=\"28.2969\"/><text fill=\"#000000\" font-family=\"sans-serif\" font-size=\"14\" font-weight=\"bold\" lengthAdjust=\"spacingAndGlyphs\" textLength=\"125\" x=\"20\" y=\"20.9951\">VerificationTest</text><!--MD5=[b4997ac47864f28c2f74865a473b2911]\n",
       "class E2--><rect fill=\"#FFFFFF\" height=\"58.7422\" id=\"E2\" style=\"stroke: #383838; stroke-width: 1.5;\" width=\"71\" x=\"193.5\" y=\"717.5\"/><text fill=\"#000000\" font-family=\"sans-serif\" font-size=\"12\" font-style=\"italic\" lengthAdjust=\"spacingAndGlyphs\" textLength=\"64\" x=\"197\" y=\"733.6387\">«part def»</text><text fill=\"#000000\" font-family=\"sans-serif\" font-size=\"12\" lengthAdjust=\"spacingAndGlyphs\" textLength=\"8\" x=\"225\" y=\"747.6074\">V</text><line style=\"stroke: #383838; stroke-width: 1.5;\" x1=\"194.5\" x2=\"263.5\" y1=\"755.4375\" y2=\"755.4375\"/><text fill=\"#000000\" font-family=\"sans-serif\" font-size=\"11\" lengthAdjust=\"spacingAndGlyphs\" textLength=\"59\" x=\"199.5\" y=\"769.6479\">m: Integer</text><!--MD5=[09b614a08d8cba4a07c9adeb5e0fee81]\n",
       "class E3--><rect fill=\"#FFFFFF\" height=\"45.9375\" id=\"E3\" rx=\"10\" ry=\"10\" style=\"stroke: #383838; stroke-width: 1.5;\" width=\"42\" x=\"264\" y=\"580\"/><text fill=\"#000000\" font-family=\"sans-serif\" font-size=\"12\" font-style=\"italic\" lengthAdjust=\"spacingAndGlyphs\" textLength=\"40\" x=\"265\" y=\"596.1387\">«part»</text><text fill=\"#000000\" font-family=\"sans-serif\" font-size=\"12\" lengthAdjust=\"spacingAndGlyphs\" textLength=\"28\" x=\"271\" y=\"610.1074\">vv: V</text><line style=\"stroke: #383838; stroke-width: 1.5;\" x1=\"265\" x2=\"305\" y1=\"617.9375\" y2=\"617.9375\"/><!--MD5=[ebbe1d658d1005bcc118a6aa81145e00]\n",
       "class E4--><rect fill=\"#FFFFFF\" height=\"66.7422\" id=\"E4\" style=\"stroke: #383838; stroke-width: 1.5;\" width=\"133\" x=\"323.5\" y=\"852\"/><text fill=\"#000000\" font-family=\"sans-serif\" font-size=\"12\" font-style=\"italic\" lengthAdjust=\"spacingAndGlyphs\" textLength=\"115\" x=\"332.5\" y=\"868.1387\">«requirement def»</text><text fill=\"#000000\" font-family=\"sans-serif\" font-size=\"12\" lengthAdjust=\"spacingAndGlyphs\" textLength=\"127\" x=\"326.5\" y=\"882.1074\">VerificationObjective</text><line style=\"stroke: #383838; stroke-width: 1.5;\" x1=\"324.5\" x2=\"455.5\" y1=\"889.9375\" y2=\"889.9375\"/><text fill=\"#000000\" font-family=\"sans-serif\" font-size=\"11\" lengthAdjust=\"spacingAndGlyphs\" textLength=\"12\" x=\"329.5\" y=\"904.1479\">...</text><line style=\"stroke: #383838; stroke-width: 1.0;\" x1=\"324.5\" x2=\"455.5\" y1=\"910.7422\" y2=\"910.7422\"/><!--MD5=[270fce915f116d4de14055a7c1d9a0f3]\n",
       "class E5--><rect fill=\"#FFFFFF\" height=\"45.9375\" id=\"E5\" style=\"stroke: #383838; stroke-width: 1.5;\" width=\"139\" x=\"341.5\" y=\"580\"/><text fill=\"#000000\" font-family=\"sans-serif\" font-size=\"12\" font-style=\"italic\" lengthAdjust=\"spacingAndGlyphs\" textLength=\"137\" x=\"342.5\" y=\"596.1387\">«verificationCase def»</text><text fill=\"#000000\" font-family=\"sans-serif\" font-size=\"12\" lengthAdjust=\"spacingAndGlyphs\" textLength=\"101\" x=\"360.5\" y=\"610.1074\">VerificationCase</text><line style=\"stroke: #383838; stroke-width: 1.5;\" x1=\"342.5\" x2=\"479.5\" y1=\"617.9375\" y2=\"617.9375\"/><!--MD5=[60a26617385b1d2d0262a64233df1f8d]\n",
       "class E6--><rect fill=\"#FFFFFF\" height=\"88.3516\" id=\"E6\" rx=\"10\" ry=\"10\" style=\"stroke: #383838; stroke-width: 1.5;\" width=\"181\" x=\"299.5\" y=\"703\"/><text fill=\"#000000\" font-family=\"sans-serif\" font-size=\"12\" font-style=\"italic\" lengthAdjust=\"spacingAndGlyphs\" textLength=\"91\" x=\"344.5\" y=\"719.1387\">«requirement»</text><text fill=\"#000000\" font-family=\"sans-serif\" font-size=\"12\" lengthAdjust=\"spacingAndGlyphs\" textLength=\"154\" x=\"313\" y=\"733.1074\">obj: VerificationObjective</text><line style=\"stroke: #383838; stroke-width: 1.5;\" x1=\"300.5\" x2=\"479.5\" y1=\"740.9375\" y2=\"740.9375\"/><text fill=\"#000000\" font-family=\"sans-serif\" font-size=\"11\" lengthAdjust=\"spacingAndGlyphs\" textLength=\"103\" x=\"305.5\" y=\"771.9526\">subj: Anything= v;</text><text fill=\"#000000\" font-family=\"sans-serif\" font-size=\"11\" font-style=\"italic\" lengthAdjust=\"spacingAndGlyphs\" textLength=\"169\" x=\"305.5\" y=\"784.7573\">:&gt;&gt;VerificationObjective::subj</text><line style=\"stroke: #383838; stroke-width: 1.0;\" x1=\"300.5\" x2=\"359\" y1=\"755.3398\" y2=\"755.3398\"/><text fill=\"#000000\" font-family=\"sans-serif\" font-size=\"11\" lengthAdjust=\"spacingAndGlyphs\" textLength=\"62\" x=\"359\" y=\"758.6479\">references</text><line style=\"stroke: #383838; stroke-width: 1.0;\" x1=\"421\" x2=\"479.5\" y1=\"755.3398\" y2=\"755.3398\"/><!--MD5=[2156ba9850f5573cc1fc38a6a4b2f02b]\n",
       "class E7--><rect fill=\"#FFFFFF\" height=\"45.9375\" id=\"E7\" style=\"stroke: #383838; stroke-width: 1.5;\" width=\"139\" x=\"86.5\" y=\"313\"/><text fill=\"#000000\" font-family=\"sans-serif\" font-size=\"12\" font-style=\"italic\" lengthAdjust=\"spacingAndGlyphs\" textLength=\"137\" x=\"87.5\" y=\"329.1387\">«verificationCase def»</text><text fill=\"#000000\" font-family=\"sans-serif\" font-size=\"12\" lengthAdjust=\"spacingAndGlyphs\" textLength=\"97\" x=\"107.5\" y=\"343.1074\">VerificationPlan</text><line style=\"stroke: #383838; stroke-width: 1.5;\" x1=\"87.5\" x2=\"224.5\" y1=\"350.9375\" y2=\"350.9375\"/><!--MD5=[b9389687b975829384b498ac4b7476b2]\n",
       "class E8--><rect fill=\"#FFFFFF\" height=\"66.7422\" id=\"E8\" rx=\"10\" ry=\"10\" style=\"stroke: #383838; stroke-width: 1.5;\" width=\"151\" x=\"80.5\" y=\"436\"/><text fill=\"#000000\" font-family=\"sans-serif\" font-size=\"12\" font-style=\"italic\" lengthAdjust=\"spacingAndGlyphs\" textLength=\"91\" x=\"110.5\" y=\"452.1387\">«requirement»</text><text fill=\"#000000\" font-family=\"sans-serif\" font-size=\"12\" lengthAdjust=\"spacingAndGlyphs\" textLength=\"145\" x=\"83.5\" y=\"466.1074\">obj: RequirementCheck</text><line style=\"stroke: #383838; stroke-width: 1.5;\" x1=\"81.5\" x2=\"230.5\" y1=\"473.9375\" y2=\"473.9375\"/><text fill=\"#000000\" font-family=\"sans-serif\" font-size=\"11\" lengthAdjust=\"spacingAndGlyphs\" textLength=\"12\" x=\"86.5\" y=\"488.1479\">...</text><line style=\"stroke: #383838; stroke-width: 1.0;\" x1=\"81.5\" x2=\"230.5\" y1=\"494.7422\" y2=\"494.7422\"/><!--MD5=[fd4143e9d270a159db93a4ea2a975926]\n",
       "class E9--><rect fill=\"#FFFFFF\" height=\"45.9375\" id=\"E9\" rx=\"10\" ry=\"10\" style=\"stroke: #383838; stroke-width: 1.5;\" width=\"214\" x=\"267\" y=\"446.5\"/><text fill=\"#000000\" font-family=\"sans-serif\" font-size=\"12\" font-style=\"italic\" lengthAdjust=\"spacingAndGlyphs\" textLength=\"113\" x=\"317.5\" y=\"462.6387\">«verificationCase»</text><text fill=\"#000000\" font-family=\"sans-serif\" font-size=\"12\" lengthAdjust=\"spacingAndGlyphs\" textLength=\"208\" x=\"270\" y=\"476.6074\">verificationCase: VerificationCase</text><line style=\"stroke: #383838; stroke-width: 1.5;\" x1=\"268\" x2=\"480\" y1=\"484.4375\" y2=\"484.4375\"/><!--MD5=[96f4274e9e20536e775497830990834d]\n",
       "class E10--><rect fill=\"#FFFFFF\" height=\"45.9375\" id=\"E10\" rx=\"10\" ry=\"10\" style=\"stroke: #383838; stroke-width: 1.5;\" width=\"160\" x=\"69\" y=\"580\"/><text fill=\"#000000\" font-family=\"sans-serif\" font-size=\"12\" font-style=\"italic\" lengthAdjust=\"spacingAndGlyphs\" textLength=\"91\" x=\"103.5\" y=\"596.1387\">«requirement»</text><text fill=\"#000000\" font-family=\"sans-serif\" font-size=\"12\" lengthAdjust=\"spacingAndGlyphs\" textLength=\"154\" x=\"72\" y=\"610.1074\">obj: VerificationObjective</text><line style=\"stroke: #383838; stroke-width: 1.5;\" x1=\"70\" x2=\"228\" y1=\"617.9375\" y2=\"617.9375\"/><!--MD5=[1dd1bfd58a279cf63c5f349dbc8fc6a1]\n",
       "class E11--><rect fill=\"#FFFFFF\" height=\"45.9375\" id=\"E11\" rx=\"10\" ry=\"10\" style=\"stroke: #383838; stroke-width: 1.5;\" width=\"156\" x=\"168\" y=\"41\"/><text fill=\"#000000\" font-family=\"sans-serif\" font-size=\"12\" font-style=\"italic\" lengthAdjust=\"spacingAndGlyphs\" textLength=\"40\" x=\"226\" y=\"57.1387\">«part»</text><text fill=\"#000000\" font-family=\"sans-serif\" font-size=\"12\" lengthAdjust=\"spacingAndGlyphs\" textLength=\"150\" x=\"171\" y=\"71.1074\">verificationContext: Part</text><line style=\"stroke: #383838; stroke-width: 1.5;\" x1=\"169\" x2=\"323\" y1=\"78.9375\" y2=\"78.9375\"/><!--MD5=[49a0ec8f00dab7302a31f22d0f0fe584]\n",
       "class E12--><rect fill=\"#FFFFFF\" height=\"88.3516\" id=\"E12\" rx=\"10\" ry=\"10\" style=\"stroke: #383838; stroke-width: 1.5;\" width=\"206\" x=\"143\" y=\"148\"/><text fill=\"#000000\" font-family=\"sans-serif\" font-size=\"12\" font-style=\"italic\" lengthAdjust=\"spacingAndGlyphs\" textLength=\"113\" x=\"189.5\" y=\"164.1387\">«verificationCase»</text><text fill=\"#000000\" font-family=\"sans-serif\" font-size=\"12\" lengthAdjust=\"spacingAndGlyphs\" textLength=\"200\" x=\"146\" y=\"178.1074\">verificationPlan: VerificationPlan</text><line style=\"stroke: #383838; stroke-width: 1.5;\" x1=\"144\" x2=\"348\" y1=\"185.9375\" y2=\"185.9375\"/><text fill=\"#000000\" font-family=\"sans-serif\" font-size=\"11\" lengthAdjust=\"spacingAndGlyphs\" textLength=\"50\" x=\"149\" y=\"216.9526\">v: V= vv;</text><text fill=\"#000000\" font-family=\"sans-serif\" font-size=\"11\" font-style=\"italic\" lengthAdjust=\"spacingAndGlyphs\" textLength=\"123\" x=\"149\" y=\"229.7573\">:&gt;&gt;VerificationPlan::v</text><line style=\"stroke: #383838; stroke-width: 1.0;\" x1=\"144\" x2=\"215\" y1=\"200.3398\" y2=\"200.3398\"/><text fill=\"#000000\" font-family=\"sans-serif\" font-size=\"11\" lengthAdjust=\"spacingAndGlyphs\" textLength=\"62\" x=\"215\" y=\"203.6479\">references</text><line style=\"stroke: #383838; stroke-width: 1.0;\" x1=\"277\" x2=\"348\" y1=\"200.3398\" y2=\"200.3398\"/><!--MD5=[ee3c913d1a06f366521f9ef512b67efe]\n",
       "class E13--><rect fill=\"#FFFFFF\" height=\"45.9375\" id=\"E13\" rx=\"10\" ry=\"10\" style=\"stroke: #383838; stroke-width: 1.5;\" width=\"151\" x=\"260.5\" y=\"313\"/><text fill=\"#000000\" font-family=\"sans-serif\" font-size=\"12\" font-style=\"italic\" lengthAdjust=\"spacingAndGlyphs\" textLength=\"91\" x=\"290.5\" y=\"329.1387\">«requirement»</text><text fill=\"#000000\" font-family=\"sans-serif\" font-size=\"12\" lengthAdjust=\"spacingAndGlyphs\" textLength=\"145\" x=\"263.5\" y=\"343.1074\">obj: RequirementCheck</text><line style=\"stroke: #383838; stroke-width: 1.5;\" x1=\"261.5\" x2=\"410.5\" y1=\"350.9375\" y2=\"350.9375\"/><!--MD5=[05d275557350bfb9b23a4ef7222b4c39]\n",
       "link E3 to E2--><path d=\"M263.77,625.05 C256.04,633.9 247.98,644.75 243,656 C237.37,668.71 233.96,683.31 231.9,697 \" fill=\"none\" id=\"E3-&gt;E2\" style=\"stroke: #383838; stroke-width: 1.0;\"/><polygon fill=\"#FFFFFF\" points=\"229.66,717.36,224.7793,697.7086,238.6954,699.2392,229.66,717.36\" style=\"stroke: #383838; stroke-width: 1.0;\"/><ellipse cx=\"227.3905\" cy=\"692.2614\" fill=\"#383838\" rx=\"2\" ry=\"2\" style=\"stroke: #383838; stroke-width: 1.0;\"/><ellipse cx=\"237.3306\" cy=\"693.3547\" fill=\"#383838\" rx=\"2\" ry=\"2\" style=\"stroke: #383838; stroke-width: 1.0;\"/><!--MD5=[15ebcb19ae302d9b601edb458606d402]\n",
       "link E5 to E2--><path d=\"M373.38,626.02 C359.12,634.84 342.97,645.4 329,656 C305.45,673.87 280.74,696.06 261.78,713.94 \" fill=\"none\" id=\"E5-&gt;E2\" style=\"stroke: #383838; stroke-width: 1.0; stroke-dasharray: 7.0,7.0;\"/><polygon fill=\"#383838\" points=\"258.07,717.46,267.352,714.167,261.6971,714.0185,261.8456,708.3636,258.07,717.46\" style=\"stroke: #383838; stroke-width: 1.0;\"/><text fill=\"#000000\" font-family=\"sans-serif\" font-size=\"13\" lengthAdjust=\"spacingAndGlyphs\" textLength=\"62\" x=\"330\" y=\"669.0669\">«subject»</text><!--MD5=[9120cf2e5df3bff93db8f754bbbc09b4]\n",
       "link E5 to E6--><path d=\"M407.72,626.19 C405.02,644.47 401.07,671.12 397.59,694.64 \" fill=\"none\" id=\"E5-&gt;E6\" style=\"stroke: #383838; stroke-width: 1.0;\"/><polygon fill=\"#383838\" points=\"396.39,702.82,400.529,695.3455,394.5937,694.467,396.39,702.82\" style=\"stroke: #383838; stroke-width: 1.0;\"/><text fill=\"#000000\" font-family=\"sans-serif\" font-size=\"13\" lengthAdjust=\"spacingAndGlyphs\" textLength=\"73\" x=\"403\" y=\"669.0669\">«objective»</text><!--MD5=[f667431f98296947986a1a7595a31603]\n",
       "link E6 to E4--><path d=\"M390,791.19 C390,804.11 390,818.41 390,831.87 \" fill=\"none\" id=\"E6-&gt;E4\" style=\"stroke: #383838; stroke-width: 1.0;\"/><polygon fill=\"#FFFFFF\" points=\"390,851.98,383,832.98,397,832.98,390,851.98\" style=\"stroke: #383838; stroke-width: 1.0;\"/><ellipse cx=\"385\" cy=\"827.28\" fill=\"#383838\" rx=\"2\" ry=\"2\" style=\"stroke: #383838; stroke-width: 1.0;\"/><ellipse cx=\"395\" cy=\"827.28\" fill=\"#383838\" rx=\"2\" ry=\"2\" style=\"stroke: #383838; stroke-width: 1.0;\"/><!--MD5=[583832df87f4419a098336a29a52fa00]\n",
       "link E7 to E2--><path d=\"M126.49,359.05 C104.8,377.11 76.79,404.71 63,436 C28.88,513.4 12.38,551.27 52,626 C80.63,680.01 145.66,714.18 188.41,731.7 \" fill=\"none\" id=\"E7-&gt;E2\" style=\"stroke: #383838; stroke-width: 1.0; stroke-dasharray: 7.0,7.0;\"/><polygon fill=\"#383838\" points=\"193.25,733.65,186.4056,726.5681,188.6146,731.7758,183.4068,733.9848,193.25,733.65\" style=\"stroke: #383838; stroke-width: 1.0;\"/><text fill=\"#000000\" font-family=\"sans-serif\" font-size=\"13\" lengthAdjust=\"spacingAndGlyphs\" textLength=\"62\" x=\"31\" y=\"546.0669\">«subject»</text><!--MD5=[79bc8f324ef4d02c541433f2e6e513c3]\n",
       "link E7 to E8--><path d=\"M156,359.01 C156,377.7 156,405.02 156,427.69 \" fill=\"none\" id=\"E7-&gt;E8\" style=\"stroke: #383838; stroke-width: 1.0;\"/><polygon fill=\"#383838\" points=\"156,435.81,159,427.81,153,427.81,156,435.81\" style=\"stroke: #383838; stroke-width: 1.0;\"/><text fill=\"#000000\" font-family=\"sans-serif\" font-size=\"13\" lengthAdjust=\"spacingAndGlyphs\" textLength=\"73\" x=\"157\" y=\"402.0669\">«objective»</text><!--MD5=[bfc3ddf2e613be37104f658f09af896c]\n",
       "link E9 to E5--><path d=\"M380.19,492.51 C385.4,511 392.97,537.94 399.31,560.46 \" fill=\"none\" id=\"E9-&gt;E5\" style=\"stroke: #383838; stroke-width: 1.0;\"/><polygon fill=\"#FFFFFF\" points=\"404.79,579.92,392.9087,563.5238,406.3861,559.7346,404.79,579.92\" style=\"stroke: #383838; stroke-width: 1.0;\"/><ellipse cx=\"393.2913\" cy=\"557.4953\" fill=\"#383838\" rx=\"2\" ry=\"2\" style=\"stroke: #383838; stroke-width: 1.0;\"/><ellipse cx=\"402.918\" cy=\"554.7886\" fill=\"#383838\" rx=\"2\" ry=\"2\" style=\"stroke: #383838; stroke-width: 1.0;\"/><!--MD5=[e4a10ef82d0e328e31cac39a31e58dda]\n",
       "reverse link E7 to E9--><path d=\"M203.63,365.73 C243.86,390 300.64,424.25 337.39,446.42 \" fill=\"none\" id=\"E7&lt;-E9\" style=\"stroke: #383838; stroke-width: 1.0;\"/><polygon fill=\"#383838\" points=\"192.49,359.01,195.561,365.5345,202.7648,365.2091,199.6938,358.6847,192.49,359.01\" style=\"stroke: #383838; stroke-width: 1.0;\"/><!--MD5=[35e5f1cbde42fa304a029880aa2bc7f2]\n",
       "link E9 to E10--><path d=\"M336.34,492.51 C297.08,515.46 235.56,551.41 193.82,575.81 \" fill=\"none\" id=\"E9-&gt;E10\" style=\"stroke: #383838; stroke-width: 1.0;\"/><polygon fill=\"#383838\" points=\"186.78,579.92,195.2026,578.4847,192.182,573.3005,186.78,579.92\" style=\"stroke: #383838; stroke-width: 1.0;\"/><text fill=\"#000000\" font-family=\"sans-serif\" font-size=\"13\" lengthAdjust=\"spacingAndGlyphs\" textLength=\"73\" x=\"262\" y=\"546.0669\">«objective»</text><!--MD5=[ae660f5ecd7ddb04a8913625960940af]\n",
       "link E12 to E7--><path d=\"M218.51,236.38 C206.49,255.34 192.5,277.42 180.8,295.87 \" fill=\"none\" id=\"E12-&gt;E7\" style=\"stroke: #383838; stroke-width: 1.0;\"/><polygon fill=\"#FFFFFF\" points=\"170.03,312.87,174.2795,293.0725,186.108,300.5615,170.03,312.87\" style=\"stroke: #383838; stroke-width: 1.0;\"/><ellipse cx=\"179.0184\" cy=\"289.3264\" fill=\"#383838\" rx=\"2\" ry=\"2\" style=\"stroke: #383838; stroke-width: 1.0;\"/><ellipse cx=\"187.4673\" cy=\"294.6758\" fill=\"#383838\" rx=\"2\" ry=\"2\" style=\"stroke: #383838; stroke-width: 1.0;\"/><!--MD5=[94adabc162ce7e41b39f13be14fbaeb3]\n",
       "reverse link E11 to E12--><path d=\"M246,100.45 C246,115.17 246,132.39 246,147.84 \" fill=\"none\" id=\"E11&lt;-E12\" style=\"stroke: #383838; stroke-width: 1.0;\"/><polygon fill=\"#383838\" points=\"246,87.24,242,93.24,246,99.24,250,93.24,246,87.24\" style=\"stroke: #383838; stroke-width: 1.0;\"/><!--MD5=[e2a9ac97dcd3257bb5342dae06547bad]\n",
       "link E12 to E13--><path d=\"M273.49,236.38 C287.83,258.99 304.97,286.04 317.67,306.09 \" fill=\"none\" id=\"E12-&gt;E13\" style=\"stroke: #383838; stroke-width: 1.0;\"/><polygon fill=\"#383838\" points=\"321.97,312.87,320.2186,304.5074,315.1518,307.7211,321.97,312.87\" style=\"stroke: #383838; stroke-width: 1.0;\"/><text fill=\"#000000\" font-family=\"sans-serif\" font-size=\"13\" lengthAdjust=\"spacingAndGlyphs\" textLength=\"73\" x=\"302\" y=\"279.0669\">«objective»</text><!--MD5=[29cfab6c3f38f3c35c0bbc1b8b4a1c72]\n",
       "@startuml\r\n",
       "top to bottom direction\r\n",
       "skinparam monochrome true\r\n",
       "skinparam classbackgroundcolor white\r\n",
       "skinparam shadowing false\r\n",
       "skinparam wrapWidth 300\r\n",
       "hide circle\r\n",
       "\r\n",
       "package \"VerificationTest\" as E1   {\r\n",
       "comp def \"V\" as E2  <<(T,blue)part def>> {\r\n",
       "m: Integer\r\n",
       "}\r\n",
       "comp usage \"vv: V\" as E3  <<(T,blue)part>> {\r\n",
       "}\r\n",
       "comp def \"VerificationObjective\" as E4  <<(T,blue)requirement def>> {\r\n",
       "...\r\n",
       "- -\r\n",
       "}\r\n",
       "comp def \"VerificationCase\" as E5  <<(T,blue)verificationCase def>> {\r\n",
       "}\r\n",
       "comp usage \"obj: VerificationObjective\" as E6  <<(T,blue)requirement>> {\r\n",
       "- -references- -\r\n",
       "subj: Anything= v; \\n//:>>VerificationObjective::subj// \r\n",
       "}\r\n",
       "comp def \"VerificationPlan\" as E7  <<(T,blue)verificationCase def>> {\r\n",
       "}\r\n",
       "comp usage \"obj: RequirementCheck\" as E8  <<(T,blue)requirement>> {\r\n",
       "...\r\n",
       "- -\r\n",
       "}\r\n",
       "comp usage \"verificationCase: VerificationCase\" as E9  <<(T,blue)verificationCase>> {\r\n",
       "}\r\n",
       "comp usage \"obj: VerificationObjective\" as E10  <<(T,blue)requirement>> {\r\n",
       "}\r\n",
       "comp usage \"verificationContext: Part\" as E11  <<(T,blue)part>> {\r\n",
       "}\r\n",
       "comp usage \"verificationPlan: VerificationPlan\" as E12  <<(T,blue)verificationCase>> {\r\n",
       "- -references- -\r\n",
       "v: V= vv; \\n//:>>VerificationPlan::v// \r\n",
       "}\r\n",
       "comp usage \"obj: RequirementCheck\" as E13  <<(T,blue)requirement>> {\r\n",
       "}\r\n",
       "E3 - -:|> E2\r\n",
       "E5 ..> E2 : <<subject>>\r\n",
       "E5 - ->> E6 : <<objective>>\r\n",
       "E6 - -:|> E4\r\n",
       "E7 ..> E2 : <<subject>>\r\n",
       "E7 - ->> E8 : <<objective>>\r\n",
       "E9 - -:|> E5\r\n",
       "E7 *- - E9\r\n",
       "E9 - ->> E10 : <<objective>>\r\n",
       "E12 - -:|> E7\r\n",
       "E11 *- - E12\r\n",
       "E12 - ->> E13 : <<objective>>\r\n",
       "}\r\n",
       "@enduml\r\n",
       "\n",
       "PlantUML version 1.2020.13(Sat Jun 13 12:26:38 UTC 2020)\n",
       "(EPL source distribution)\n",
       "Java Runtime: OpenJDK Runtime Environment\n",
       "JVM: OpenJDK 64-Bit Server VM\n",
       "Default Encoding: UTF-8\n",
       "Language: en\n",
       "Country: null\n",
       "--></g></svg>"
      ]
     },
     "execution_count": 49,
     "metadata": {},
     "output_type": "execute_result"
    }
   ],
   "source": [
    "%viz --style=\"TB\" --view=\"Sequence\" \"VerificationTest\""
   ]
  },
  {
   "cell_type": "code",
   "execution_count": 50,
   "id": "theoretical-passport",
   "metadata": {
    "execution": {
     "iopub.execute_input": "2021-03-25T15:58:04.236098Z",
     "iopub.status.busy": "2021-03-25T15:58:04.234927Z",
     "iopub.status.idle": "2021-03-25T15:58:05.028967Z",
     "shell.execute_reply": "2021-03-25T15:58:05.029640Z"
    }
   },
   "outputs": [
    {
     "data": {
      "image/svg+xml": [
       "<?xml version=\"1.0\" encoding=\"UTF-8\" standalone=\"no\"?><svg xmlns=\"http://www.w3.org/2000/svg\" xmlns:xlink=\"http://www.w3.org/1999/xlink\" contentScriptType=\"application/ecmascript\" contentStyleType=\"text/css\" height=\"562px\" preserveAspectRatio=\"none\" style=\"width:793px;height:562px;\" version=\"1.1\" viewBox=\"0 0 793 562\" width=\"793px\" zoomAndPan=\"magnify\"><defs/><g><!--MD5=[fbc87193dbaf4d95561dea2c320d4a47]\n",
       "cluster E1--><polygon fill=\"#FFFFFF\" points=\"16,6,147,6,154,28.2969,771,28.2969,771,550,16,550,16,6\" style=\"stroke: #000000; stroke-width: 1.5;\"/><line style=\"stroke: #000000; stroke-width: 1.5;\" x1=\"16\" x2=\"154\" y1=\"28.2969\" y2=\"28.2969\"/><text fill=\"#000000\" font-family=\"sans-serif\" font-size=\"14\" font-weight=\"bold\" lengthAdjust=\"spacingAndGlyphs\" textLength=\"125\" x=\"20\" y=\"20.9951\">VerificationTest</text><!--MD5=[de5ec2e2e8f62f467e546659f5068c88]\n",
       "cluster E5--><rect fill=\"#FFFFFF\" height=\"341.5\" style=\"stroke: #000000; stroke-width: 1.5;\" width=\"200\" x=\"544\" y=\"74.5\"/><text fill=\"#000000\" font-family=\"sans-serif\" font-size=\"14\" font-weight=\"bold\" lengthAdjust=\"spacingAndGlyphs\" textLength=\"129\" x=\"579.5\" y=\"89.4951\">VerificationCase</text><!--MD5=[917b9dd0c7eca3ee5f47219d1a84c0ad]\n",
       "cluster E11--><rect fill=\"#FFFFFF\" height=\"313\" style=\"stroke: #000000; stroke-width: 1.5;\" width=\"188\" x=\"254\" y=\"213\"/><text fill=\"#000000\" font-family=\"sans-serif\" font-size=\"14\" font-weight=\"bold\" lengthAdjust=\"spacingAndGlyphs\" textLength=\"123\" x=\"286.5\" y=\"227.9951\">VerificationPlan</text><!--MD5=[b4997ac47864f28c2f74865a473b2911]\n",
       "class E2--><rect fill=\"#FFFFFF\" height=\"58.7422\" id=\"E2\" style=\"stroke: #383838; stroke-width: 1.5;\" width=\"71\" x=\"458.5\" y=\"183.5\"/><text fill=\"#000000\" font-family=\"sans-serif\" font-size=\"12\" font-style=\"italic\" lengthAdjust=\"spacingAndGlyphs\" textLength=\"64\" x=\"462\" y=\"199.6387\">«part def»</text><text fill=\"#000000\" font-family=\"sans-serif\" font-size=\"12\" lengthAdjust=\"spacingAndGlyphs\" textLength=\"8\" x=\"490\" y=\"213.6074\">V</text><line style=\"stroke: #383838; stroke-width: 1.5;\" x1=\"459.5\" x2=\"528.5\" y1=\"221.4375\" y2=\"221.4375\"/><text fill=\"#000000\" font-family=\"sans-serif\" font-size=\"11\" lengthAdjust=\"spacingAndGlyphs\" textLength=\"59\" x=\"464.5\" y=\"235.6479\">m: Integer</text><!--MD5=[09b614a08d8cba4a07c9adeb5e0fee81]\n",
       "class E3--><rect fill=\"#FFFFFF\" height=\"45.9375\" id=\"E3\" rx=\"10\" ry=\"10\" style=\"stroke: #383838; stroke-width: 1.5;\" width=\"42\" x=\"473\" y=\"51.5\"/><text fill=\"#000000\" font-family=\"sans-serif\" font-size=\"12\" font-style=\"italic\" lengthAdjust=\"spacingAndGlyphs\" textLength=\"40\" x=\"474\" y=\"67.6387\">«part»</text><text fill=\"#000000\" font-family=\"sans-serif\" font-size=\"12\" lengthAdjust=\"spacingAndGlyphs\" textLength=\"28\" x=\"480\" y=\"81.6074\">vv: V</text><line style=\"stroke: #383838; stroke-width: 1.5;\" x1=\"474\" x2=\"514\" y1=\"89.4375\" y2=\"89.4375\"/><!--MD5=[ebbe1d658d1005bcc118a6aa81145e00]\n",
       "class E4--><rect fill=\"#FFFFFF\" height=\"66.7422\" id=\"E4\" style=\"stroke: #383838; stroke-width: 1.5;\" width=\"133\" x=\"276.5\" y=\"41\"/><text fill=\"#000000\" font-family=\"sans-serif\" font-size=\"12\" font-style=\"italic\" lengthAdjust=\"spacingAndGlyphs\" textLength=\"115\" x=\"285.5\" y=\"57.1387\">«requirement def»</text><text fill=\"#000000\" font-family=\"sans-serif\" font-size=\"12\" lengthAdjust=\"spacingAndGlyphs\" textLength=\"127\" x=\"279.5\" y=\"71.1074\">VerificationObjective</text><line style=\"stroke: #383838; stroke-width: 1.5;\" x1=\"277.5\" x2=\"408.5\" y1=\"78.9375\" y2=\"78.9375\"/><text fill=\"#000000\" font-family=\"sans-serif\" font-size=\"11\" lengthAdjust=\"spacingAndGlyphs\" textLength=\"12\" x=\"282.5\" y=\"93.1479\">...</text><line style=\"stroke: #383838; stroke-width: 1.0;\" x1=\"277.5\" x2=\"408.5\" y1=\"99.7422\" y2=\"99.7422\"/><!--MD5=[bee11217b2f71d958a27249dc326068c]\n",
       "class E14--><rect fill=\"#FFFFFF\" height=\"45.9375\" id=\"E14\" rx=\"10\" ry=\"10\" style=\"stroke: #383838; stroke-width: 1.5;\" width=\"156\" x=\"57\" y=\"51.5\"/><text fill=\"#000000\" font-family=\"sans-serif\" font-size=\"12\" font-style=\"italic\" lengthAdjust=\"spacingAndGlyphs\" textLength=\"40\" x=\"115\" y=\"67.6387\">«part»</text><text fill=\"#000000\" font-family=\"sans-serif\" font-size=\"12\" lengthAdjust=\"spacingAndGlyphs\" textLength=\"150\" x=\"60\" y=\"81.6074\">verificationContext: Part</text><line style=\"stroke: #383838; stroke-width: 1.5;\" x1=\"58\" x2=\"212\" y1=\"89.4375\" y2=\"89.4375\"/><!--MD5=[0c48fb7552dae8cbbef69381101a84c8]\n",
       "class E15--><rect fill=\"#FFFFFF\" height=\"88.3516\" id=\"E15\" rx=\"10\" ry=\"10\" style=\"stroke: #383838; stroke-width: 1.5;\" width=\"206\" x=\"32\" y=\"169\"/><text fill=\"#000000\" font-family=\"sans-serif\" font-size=\"12\" font-style=\"italic\" lengthAdjust=\"spacingAndGlyphs\" textLength=\"113\" x=\"78.5\" y=\"185.1387\">«verificationCase»</text><text fill=\"#000000\" font-family=\"sans-serif\" font-size=\"12\" lengthAdjust=\"spacingAndGlyphs\" textLength=\"200\" x=\"35\" y=\"199.1074\">verificationPlan: VerificationPlan</text><line style=\"stroke: #383838; stroke-width: 1.5;\" x1=\"33\" x2=\"237\" y1=\"206.9375\" y2=\"206.9375\"/><text fill=\"#000000\" font-family=\"sans-serif\" font-size=\"11\" lengthAdjust=\"spacingAndGlyphs\" textLength=\"50\" x=\"38\" y=\"237.9526\">v: V= vv;</text><text fill=\"#000000\" font-family=\"sans-serif\" font-size=\"11\" font-style=\"italic\" lengthAdjust=\"spacingAndGlyphs\" textLength=\"123\" x=\"38\" y=\"250.7573\">:&gt;&gt;VerificationPlan::v</text><line style=\"stroke: #383838; stroke-width: 1.0;\" x1=\"33\" x2=\"104\" y1=\"221.3398\" y2=\"221.3398\"/><text fill=\"#000000\" font-family=\"sans-serif\" font-size=\"11\" lengthAdjust=\"spacingAndGlyphs\" textLength=\"62\" x=\"104\" y=\"224.6479\">references</text><line style=\"stroke: #383838; stroke-width: 1.0;\" x1=\"166\" x2=\"237\" y1=\"221.3398\" y2=\"221.3398\"/><!--MD5=[35f0587eaee8d5bb9a02e25b63afc23b]\n",
       "class E16--><rect fill=\"#FFFFFF\" height=\"45.9375\" id=\"E16\" rx=\"10\" ry=\"10\" style=\"stroke: #383838; stroke-width: 1.5;\" width=\"151\" x=\"59.5\" y=\"334\"/><text fill=\"#000000\" font-family=\"sans-serif\" font-size=\"12\" font-style=\"italic\" lengthAdjust=\"spacingAndGlyphs\" textLength=\"91\" x=\"89.5\" y=\"350.1387\">«requirement»</text><text fill=\"#000000\" font-family=\"sans-serif\" font-size=\"12\" lengthAdjust=\"spacingAndGlyphs\" textLength=\"145\" x=\"62.5\" y=\"364.1074\">obj: RequirementCheck</text><line style=\"stroke: #383838; stroke-width: 1.5;\" x1=\"60.5\" x2=\"209.5\" y1=\"371.9375\" y2=\"371.9375\"/><text fill=\"#000000\" font-family=\"sans-serif\" font-size=\"14\" lengthAdjust=\"spacingAndGlyphs\" textLength=\"7\" x=\"558.5\" y=\"53.1982\">v</text><rect fill=\"#383838\" height=\"12\" style=\"stroke: #F8F8F8; stroke-width: 1.5;\" width=\"12\" x=\"556\" y=\"68.5\"/><text fill=\"#000000\" font-family=\"sans-serif\" font-size=\"14\" lengthAdjust=\"spacingAndGlyphs\" textLength=\"48\" x=\"549\" y=\"434.9951\">$result</text><rect fill=\"#383838\" height=\"12\" style=\"stroke: #F8F8F8; stroke-width: 1.5;\" width=\"12\" x=\"567\" y=\"410\"/><text fill=\"#000000\" font-family=\"sans-serif\" font-size=\"14\" lengthAdjust=\"spacingAndGlyphs\" textLength=\"16\" x=\"636\" y=\"53.1982\">$x</text><rect fill=\"#383838\" height=\"12\" style=\"stroke: #F8F8F8; stroke-width: 1.5;\" width=\"12\" x=\"638\" y=\"68.5\"/><text fill=\"#000000\" font-family=\"sans-serif\" font-size=\"14\" lengthAdjust=\"spacingAndGlyphs\" textLength=\"16\" x=\"718\" y=\"53.1982\">$y</text><rect fill=\"#383838\" height=\"12\" style=\"stroke: #F8F8F8; stroke-width: 1.5;\" width=\"12\" x=\"720\" y=\"68.5\"/><text fill=\"#000000\" font-family=\"sans-serif\" font-size=\"14\" lengthAdjust=\"spacingAndGlyphs\" textLength=\"48\" x=\"631\" y=\"434.9951\">$result</text><rect fill=\"#383838\" height=\"12\" style=\"stroke: #F8F8F8; stroke-width: 1.5;\" width=\"12\" x=\"649\" y=\"410\"/><text fill=\"#000000\" font-family=\"sans-serif\" font-size=\"14\" lengthAdjust=\"spacingAndGlyphs\" textLength=\"7\" x=\"344.5\" y=\"191.6982\">v</text><rect fill=\"#383838\" height=\"12\" style=\"stroke: #F8F8F8; stroke-width: 1.5;\" width=\"12\" x=\"342\" y=\"207\"/><g id=\"E1.E11.E13\"><rect fill=\"#FFFFFF\" height=\"50\" rx=\"12.5\" ry=\"12.5\" style=\"stroke: #383838; stroke-width: 1.5;\" width=\"128\" x=\"284\" y=\"452\"/><line style=\"stroke: #383838; stroke-width: 1.5;\" x1=\"284\" x2=\"412\" y1=\"478.2969\" y2=\"478.2969\"/><text fill=\"#000000\" font-family=\"sans-serif\" font-size=\"14\" lengthAdjust=\"spacingAndGlyphs\" textLength=\"108\" x=\"294\" y=\"469.9951\">verificationCase</text></g><!--MD5=[05d275557350bfb9b23a4ef7222b4c39]\n",
       "link E3 to E2--><path d=\"M494,97.73 C494,115.37 494,140.67 494,162.99 \" fill=\"none\" id=\"E3-&gt;E2\" style=\"stroke: #383838; stroke-width: 1.0;\"/><polygon fill=\"#FFFFFF\" points=\"494,183.12,487,164.12,501,164.12,494,183.12\" style=\"stroke: #383838; stroke-width: 1.0;\"/><ellipse cx=\"489\" cy=\"158.42\" fill=\"#383838\" rx=\"2\" ry=\"2\" style=\"stroke: #383838; stroke-width: 1.0;\"/><ellipse cx=\"499\" cy=\"158.42\" fill=\"#383838\" rx=\"2\" ry=\"2\" style=\"stroke: #383838; stroke-width: 1.0;\"/><!--MD5=[cf04703ca05eebef50f1cfe8b03e143b]\n",
       "link E9 to E7--><path d=\"M727.57,80.54 C735.27,106.16 766.91,223.78 726,304 C693.2,368.32 603.78,404.07 579.28,412.85 \" fill=\"none\" id=\"E9-E7\" style=\"stroke: #383838; stroke-width: 5.0;\"/><!--MD5=[58d440dfd4c930e286431b4800d1b487]\n",
       "link E15 to E11--><path d=\"M199.77,257.18 C211.705,265.1375 224.47,273.6475 237.3159,282.2111 C240.5274,284.352 243.744,286.4962 246.9539,288.636 C248.5588,289.7059 250.1621,290.7747 251.7623,291.8414 C252.1623,292.1081 252.5621,292.3747 252.9618,292.6411 C253.1616,292.7743 253.3613,292.9074 253.561,293.0405 \" fill=\"none\" id=\"E15-&gt;E11\" style=\"stroke: #383838; stroke-width: 1.0;\"/><polygon fill=\"#FFFFFF\" points=\"253.561,293.0405,233.869,288.3262,241.6345,276.6773,253.561,293.0405\" style=\"stroke: #383838; stroke-width: 1.0;\"/><ellipse cx=\"230.2356\" cy=\"283.5004\" fill=\"#383838\" rx=\"2\" ry=\"2\" style=\"stroke: #383838; stroke-width: 1.0;\"/><ellipse cx=\"235.7823\" cy=\"275.1798\" fill=\"#383838\" rx=\"2\" ry=\"2\" style=\"stroke: #383838; stroke-width: 1.0;\"/><!--MD5=[17bf29720e4688890742b92d9a67fdf0]\n",
       "reverse link E14 to E15--><path d=\"M135,110.96 C135,128.64 135,150.18 135,168.81 \" fill=\"none\" id=\"E14&lt;-E15\" style=\"stroke: #383838; stroke-width: 1.0;\"/><polygon fill=\"#383838\" points=\"135,97.73,131,103.73,135,109.73,139,103.73,135,97.73\" style=\"stroke: #383838; stroke-width: 1.0;\"/><!--MD5=[f8b155c46b092be73bb522b0a8fc72a2]\n",
       "link E15 to E16--><path d=\"M135,257.38 C135,279.5 135,305.86 135,325.76 \" fill=\"none\" id=\"E15-&gt;E16\" style=\"stroke: #383838; stroke-width: 1.0;\"/><polygon fill=\"#383838\" points=\"135,333.87,138,325.87,132,325.87,135,333.87\" style=\"stroke: #383838; stroke-width: 1.0;\"/><text fill=\"#000000\" font-family=\"sans-serif\" font-size=\"13\" lengthAdjust=\"spacingAndGlyphs\" textLength=\"73\" x=\"136\" y=\"300.0669\">«objective»</text><!--MD5=[d100a9283c5e00e11bbf532b4e0d317c]\n",
       "@startuml\r\n",
       "top to bottom direction\r\n",
       "skinparam monochrome true\r\n",
       "skinparam classbackgroundcolor white\r\n",
       "skinparam shadowing false\r\n",
       "skinparam wrapWidth 300\r\n",
       "hide circle\r\n",
       "\r\n",
       "package \"VerificationTest\" as E1   {\r\n",
       "comp def \"V\" as E2  <<(T,blue)part def>> {\r\n",
       "m: Integer\r\n",
       "}\r\n",
       "comp usage \"vv: V\" as E3  <<(T,blue)part>> {\r\n",
       "}\r\n",
       "comp def \"VerificationObjective\" as E4  <<(T,blue)requirement def>> {\r\n",
       "...\r\n",
       "- -\r\n",
       "}\r\n",
       "rec def \"VerificationCase\" as E5 {\r\n",
       "portin \"v\" as E6  \r\n",
       "portout \"$result\" as E7  \r\n",
       "portin \"$x\" as E8  \r\n",
       "portin \"$y\" as E9  \r\n",
       "portout \"$result\" as E10  \r\n",
       "}\r\n",
       "\r\n",
       "rec def \"VerificationPlan\" as E11 {\r\n",
       "portin \"v\" as E12  \r\n",
       "rec usage \"verificationCase\" as E13 {\r\n",
       "}\r\n",
       "\r\n",
       "}\r\n",
       "\r\n",
       "comp usage \"verificationContext: Part\" as E14  <<(T,blue)part>> {\r\n",
       "}\r\n",
       "comp usage \"verificationPlan: VerificationPlan\" as E15  <<(T,blue)verificationCase>> {\r\n",
       "- -references- -\r\n",
       "v: V= vv; \\n//:>>VerificationPlan::v// \r\n",
       "}\r\n",
       "comp usage \"obj: RequirementCheck\" as E16  <<(T,blue)requirement>> {\r\n",
       "}\r\n",
       "E3 - -:|> E2\r\n",
       "E9 -[thickness=5]- E7\r\n",
       "E15 - -:|> E11\r\n",
       "E14 *- - E15\r\n",
       "E15 - ->> E16 : <<objective>>\r\n",
       "}\r\n",
       "@enduml\r\n",
       "\n",
       "PlantUML version 1.2020.13(Sat Jun 13 12:26:38 UTC 2020)\n",
       "(EPL source distribution)\n",
       "Java Runtime: OpenJDK Runtime Environment\n",
       "JVM: OpenJDK 64-Bit Server VM\n",
       "Default Encoding: UTF-8\n",
       "Language: en\n",
       "Country: null\n",
       "--></g></svg>"
      ]
     },
     "execution_count": 50,
     "metadata": {},
     "output_type": "execute_result"
    }
   ],
   "source": [
    "%viz --style=\"TB\" --view=\"MIXED\" \"VerificationTest\""
   ]
  },
  {
   "cell_type": "code",
   "execution_count": 51,
   "id": "solar-carnival",
   "metadata": {
    "execution": {
     "iopub.execute_input": "2021-03-25T15:58:05.080273Z",
     "iopub.status.busy": "2021-03-25T15:58:05.079719Z",
     "iopub.status.idle": "2021-03-25T15:58:06.002407Z",
     "shell.execute_reply": "2021-03-25T15:58:05.999770Z"
    }
   },
   "outputs": [
    {
     "data": {
      "image/svg+xml": [
       "<?xml version=\"1.0\" encoding=\"UTF-8\" standalone=\"no\"?><svg xmlns=\"http://www.w3.org/2000/svg\" xmlns:xlink=\"http://www.w3.org/1999/xlink\" contentScriptType=\"application/ecmascript\" contentStyleType=\"text/css\" height=\"562px\" preserveAspectRatio=\"none\" style=\"width:793px;height:562px;\" version=\"1.1\" viewBox=\"0 0 793 562\" width=\"793px\" zoomAndPan=\"magnify\"><defs/><g><!--MD5=[fbc87193dbaf4d95561dea2c320d4a47]\n",
       "cluster E1--><polygon fill=\"#FFFFFF\" points=\"16,6,147,6,154,28.2969,771,28.2969,771,550,16,550,16,6\" style=\"stroke: #000000; stroke-width: 1.5;\"/><line style=\"stroke: #000000; stroke-width: 1.5;\" x1=\"16\" x2=\"154\" y1=\"28.2969\" y2=\"28.2969\"/><text fill=\"#000000\" font-family=\"sans-serif\" font-size=\"14\" font-weight=\"bold\" lengthAdjust=\"spacingAndGlyphs\" textLength=\"125\" x=\"20\" y=\"20.9951\">VerificationTest</text><!--MD5=[de5ec2e2e8f62f467e546659f5068c88]\n",
       "cluster E5--><rect fill=\"#FFFFFF\" height=\"341.5\" style=\"stroke: #000000; stroke-width: 1.5;\" width=\"200\" x=\"544\" y=\"74.5\"/><text fill=\"#000000\" font-family=\"sans-serif\" font-size=\"14\" font-weight=\"bold\" lengthAdjust=\"spacingAndGlyphs\" textLength=\"129\" x=\"579.5\" y=\"89.4951\">VerificationCase</text><!--MD5=[917b9dd0c7eca3ee5f47219d1a84c0ad]\n",
       "cluster E11--><rect fill=\"#FFFFFF\" height=\"313\" style=\"stroke: #000000; stroke-width: 1.5;\" width=\"188\" x=\"254\" y=\"213\"/><text fill=\"#000000\" font-family=\"sans-serif\" font-size=\"14\" font-weight=\"bold\" lengthAdjust=\"spacingAndGlyphs\" textLength=\"123\" x=\"286.5\" y=\"227.9951\">VerificationPlan</text><!--MD5=[b4997ac47864f28c2f74865a473b2911]\n",
       "class E2--><rect fill=\"#FFFFFF\" height=\"58.7422\" id=\"E2\" style=\"stroke: #383838; stroke-width: 1.5;\" width=\"71\" x=\"458.5\" y=\"183.5\"/><text fill=\"#000000\" font-family=\"sans-serif\" font-size=\"12\" font-style=\"italic\" lengthAdjust=\"spacingAndGlyphs\" textLength=\"64\" x=\"462\" y=\"199.6387\">«part def»</text><text fill=\"#000000\" font-family=\"sans-serif\" font-size=\"12\" lengthAdjust=\"spacingAndGlyphs\" textLength=\"8\" x=\"490\" y=\"213.6074\">V</text><line style=\"stroke: #383838; stroke-width: 1.5;\" x1=\"459.5\" x2=\"528.5\" y1=\"221.4375\" y2=\"221.4375\"/><text fill=\"#000000\" font-family=\"sans-serif\" font-size=\"11\" lengthAdjust=\"spacingAndGlyphs\" textLength=\"59\" x=\"464.5\" y=\"235.6479\">m: Integer</text><!--MD5=[09b614a08d8cba4a07c9adeb5e0fee81]\n",
       "class E3--><rect fill=\"#FFFFFF\" height=\"45.9375\" id=\"E3\" rx=\"10\" ry=\"10\" style=\"stroke: #383838; stroke-width: 1.5;\" width=\"42\" x=\"473\" y=\"51.5\"/><text fill=\"#000000\" font-family=\"sans-serif\" font-size=\"12\" font-style=\"italic\" lengthAdjust=\"spacingAndGlyphs\" textLength=\"40\" x=\"474\" y=\"67.6387\">«part»</text><text fill=\"#000000\" font-family=\"sans-serif\" font-size=\"12\" lengthAdjust=\"spacingAndGlyphs\" textLength=\"28\" x=\"480\" y=\"81.6074\">vv: V</text><line style=\"stroke: #383838; stroke-width: 1.5;\" x1=\"474\" x2=\"514\" y1=\"89.4375\" y2=\"89.4375\"/><!--MD5=[ebbe1d658d1005bcc118a6aa81145e00]\n",
       "class E4--><rect fill=\"#FFFFFF\" height=\"66.7422\" id=\"E4\" style=\"stroke: #383838; stroke-width: 1.5;\" width=\"133\" x=\"276.5\" y=\"41\"/><text fill=\"#000000\" font-family=\"sans-serif\" font-size=\"12\" font-style=\"italic\" lengthAdjust=\"spacingAndGlyphs\" textLength=\"115\" x=\"285.5\" y=\"57.1387\">«requirement def»</text><text fill=\"#000000\" font-family=\"sans-serif\" font-size=\"12\" lengthAdjust=\"spacingAndGlyphs\" textLength=\"127\" x=\"279.5\" y=\"71.1074\">VerificationObjective</text><line style=\"stroke: #383838; stroke-width: 1.5;\" x1=\"277.5\" x2=\"408.5\" y1=\"78.9375\" y2=\"78.9375\"/><text fill=\"#000000\" font-family=\"sans-serif\" font-size=\"11\" lengthAdjust=\"spacingAndGlyphs\" textLength=\"12\" x=\"282.5\" y=\"93.1479\">...</text><line style=\"stroke: #383838; stroke-width: 1.0;\" x1=\"277.5\" x2=\"408.5\" y1=\"99.7422\" y2=\"99.7422\"/><!--MD5=[bee11217b2f71d958a27249dc326068c]\n",
       "class E14--><rect fill=\"#FFFFFF\" height=\"45.9375\" id=\"E14\" rx=\"10\" ry=\"10\" style=\"stroke: #383838; stroke-width: 1.5;\" width=\"156\" x=\"57\" y=\"51.5\"/><text fill=\"#000000\" font-family=\"sans-serif\" font-size=\"12\" font-style=\"italic\" lengthAdjust=\"spacingAndGlyphs\" textLength=\"40\" x=\"115\" y=\"67.6387\">«part»</text><text fill=\"#000000\" font-family=\"sans-serif\" font-size=\"12\" lengthAdjust=\"spacingAndGlyphs\" textLength=\"150\" x=\"60\" y=\"81.6074\">verificationContext: Part</text><line style=\"stroke: #383838; stroke-width: 1.5;\" x1=\"58\" x2=\"212\" y1=\"89.4375\" y2=\"89.4375\"/><!--MD5=[0c48fb7552dae8cbbef69381101a84c8]\n",
       "class E15--><rect fill=\"#FFFFFF\" height=\"88.3516\" id=\"E15\" rx=\"10\" ry=\"10\" style=\"stroke: #383838; stroke-width: 1.5;\" width=\"206\" x=\"32\" y=\"169\"/><text fill=\"#000000\" font-family=\"sans-serif\" font-size=\"12\" font-style=\"italic\" lengthAdjust=\"spacingAndGlyphs\" textLength=\"113\" x=\"78.5\" y=\"185.1387\">«verificationCase»</text><text fill=\"#000000\" font-family=\"sans-serif\" font-size=\"12\" lengthAdjust=\"spacingAndGlyphs\" textLength=\"200\" x=\"35\" y=\"199.1074\">verificationPlan: VerificationPlan</text><line style=\"stroke: #383838; stroke-width: 1.5;\" x1=\"33\" x2=\"237\" y1=\"206.9375\" y2=\"206.9375\"/><text fill=\"#000000\" font-family=\"sans-serif\" font-size=\"11\" lengthAdjust=\"spacingAndGlyphs\" textLength=\"50\" x=\"38\" y=\"237.9526\">v: V= vv;</text><text fill=\"#000000\" font-family=\"sans-serif\" font-size=\"11\" font-style=\"italic\" lengthAdjust=\"spacingAndGlyphs\" textLength=\"123\" x=\"38\" y=\"250.7573\">:&gt;&gt;VerificationPlan::v</text><line style=\"stroke: #383838; stroke-width: 1.0;\" x1=\"33\" x2=\"104\" y1=\"221.3398\" y2=\"221.3398\"/><text fill=\"#000000\" font-family=\"sans-serif\" font-size=\"11\" lengthAdjust=\"spacingAndGlyphs\" textLength=\"62\" x=\"104\" y=\"224.6479\">references</text><line style=\"stroke: #383838; stroke-width: 1.0;\" x1=\"166\" x2=\"237\" y1=\"221.3398\" y2=\"221.3398\"/><!--MD5=[35f0587eaee8d5bb9a02e25b63afc23b]\n",
       "class E16--><rect fill=\"#FFFFFF\" height=\"45.9375\" id=\"E16\" rx=\"10\" ry=\"10\" style=\"stroke: #383838; stroke-width: 1.5;\" width=\"151\" x=\"59.5\" y=\"334\"/><text fill=\"#000000\" font-family=\"sans-serif\" font-size=\"12\" font-style=\"italic\" lengthAdjust=\"spacingAndGlyphs\" textLength=\"91\" x=\"89.5\" y=\"350.1387\">«requirement»</text><text fill=\"#000000\" font-family=\"sans-serif\" font-size=\"12\" lengthAdjust=\"spacingAndGlyphs\" textLength=\"145\" x=\"62.5\" y=\"364.1074\">obj: RequirementCheck</text><line style=\"stroke: #383838; stroke-width: 1.5;\" x1=\"60.5\" x2=\"209.5\" y1=\"371.9375\" y2=\"371.9375\"/><text fill=\"#000000\" font-family=\"sans-serif\" font-size=\"14\" lengthAdjust=\"spacingAndGlyphs\" textLength=\"7\" x=\"558.5\" y=\"53.1982\">v</text><rect fill=\"#383838\" height=\"12\" style=\"stroke: #F8F8F8; stroke-width: 1.5;\" width=\"12\" x=\"556\" y=\"68.5\"/><text fill=\"#000000\" font-family=\"sans-serif\" font-size=\"14\" lengthAdjust=\"spacingAndGlyphs\" textLength=\"48\" x=\"549\" y=\"434.9951\">$result</text><rect fill=\"#383838\" height=\"12\" style=\"stroke: #F8F8F8; stroke-width: 1.5;\" width=\"12\" x=\"567\" y=\"410\"/><text fill=\"#000000\" font-family=\"sans-serif\" font-size=\"14\" lengthAdjust=\"spacingAndGlyphs\" textLength=\"16\" x=\"636\" y=\"53.1982\">$x</text><rect fill=\"#383838\" height=\"12\" style=\"stroke: #F8F8F8; stroke-width: 1.5;\" width=\"12\" x=\"638\" y=\"68.5\"/><text fill=\"#000000\" font-family=\"sans-serif\" font-size=\"14\" lengthAdjust=\"spacingAndGlyphs\" textLength=\"16\" x=\"718\" y=\"53.1982\">$y</text><rect fill=\"#383838\" height=\"12\" style=\"stroke: #F8F8F8; stroke-width: 1.5;\" width=\"12\" x=\"720\" y=\"68.5\"/><text fill=\"#000000\" font-family=\"sans-serif\" font-size=\"14\" lengthAdjust=\"spacingAndGlyphs\" textLength=\"48\" x=\"631\" y=\"434.9951\">$result</text><rect fill=\"#383838\" height=\"12\" style=\"stroke: #F8F8F8; stroke-width: 1.5;\" width=\"12\" x=\"649\" y=\"410\"/><text fill=\"#000000\" font-family=\"sans-serif\" font-size=\"14\" lengthAdjust=\"spacingAndGlyphs\" textLength=\"7\" x=\"344.5\" y=\"191.6982\">v</text><rect fill=\"#383838\" height=\"12\" style=\"stroke: #F8F8F8; stroke-width: 1.5;\" width=\"12\" x=\"342\" y=\"207\"/><g id=\"E1.E11.E13\"><rect fill=\"#FFFFFF\" height=\"50\" rx=\"12.5\" ry=\"12.5\" style=\"stroke: #383838; stroke-width: 1.5;\" width=\"128\" x=\"284\" y=\"452\"/><line style=\"stroke: #383838; stroke-width: 1.5;\" x1=\"284\" x2=\"412\" y1=\"478.2969\" y2=\"478.2969\"/><text fill=\"#000000\" font-family=\"sans-serif\" font-size=\"14\" lengthAdjust=\"spacingAndGlyphs\" textLength=\"108\" x=\"294\" y=\"469.9951\">verificationCase</text></g><!--MD5=[05d275557350bfb9b23a4ef7222b4c39]\n",
       "link E3 to E2--><path d=\"M494,97.68 C494,97.68 494,163.46 494,163.46 \" fill=\"none\" id=\"E3-&gt;E2\" style=\"stroke: #383838; stroke-width: 1.0;\"/><polygon fill=\"#FFFFFF\" points=\"494,183.46,487,164.46,501,164.46,494,183.46\" style=\"stroke: #383838; stroke-width: 1.0;\"/><ellipse cx=\"489\" cy=\"158.76\" fill=\"#383838\" rx=\"2\" ry=\"2\" style=\"stroke: #383838; stroke-width: 1.0;\"/><ellipse cx=\"499\" cy=\"158.76\" fill=\"#383838\" rx=\"2\" ry=\"2\" style=\"stroke: #383838; stroke-width: 1.0;\"/><!--MD5=[cf04703ca05eebef50f1cfe8b03e143b]\n",
       "link E9 to E7--><path d=\"M728,80.75 C728,114.76 728,276 728,276 C728,276 573,276 573,276 C573,276 573,383.19 573,409.98 \" fill=\"none\" id=\"E9-E7\" style=\"stroke: #383838; stroke-width: 5.0;\"/><!--MD5=[58d440dfd4c930e286431b4800d1b487]\n",
       "link E15 to E11--><path d=\"M224.25,257.38 C224.25,299.69 224.25,357 224.25,357 C224.25,357 230.7125,357 240.6838,357 C243.1766,357 245.8887,357 248.7739,357 C250.2166,357 251.7025,357 253.2259,357 C253.4163,357 253.6073,357 253.7989,357 \" fill=\"none\" id=\"E15-&gt;E11\" style=\"stroke: #383838; stroke-width: 1.0;\"/><polygon fill=\"#FFFFFF\" points=\"253.7989,357,234.7989,364,234.7989,350,253.7989,357\" style=\"stroke: #383838; stroke-width: 1.0;\"/><ellipse cx=\"229.0989\" cy=\"362\" fill=\"#383838\" rx=\"2\" ry=\"2\" style=\"stroke: #383838; stroke-width: 1.0;\"/><ellipse cx=\"229.0989\" cy=\"352\" fill=\"#383838\" rx=\"2\" ry=\"2\" style=\"stroke: #383838; stroke-width: 1.0;\"/><!--MD5=[17bf29720e4688890742b92d9a67fdf0]\n",
       "reverse link E14 to E15--><path d=\"M135,110.68 C135,110.68 135,168.72 135,168.72 \" fill=\"none\" id=\"E14&lt;-E15\" style=\"stroke: #383838; stroke-width: 1.0;\"/><polygon fill=\"#383838\" points=\"135,97.68,131,103.68,135,109.68,139,103.68,135,97.68\" style=\"stroke: #383838; stroke-width: 1.0;\"/><!--MD5=[f8b155c46b092be73bb522b0a8fc72a2]\n",
       "link E15 to E16--><path d=\"M135,257.38 C135,257.38 135,325.88 135,325.88 \" fill=\"none\" id=\"E15-&gt;E16\" style=\"stroke: #383838; stroke-width: 1.0;\"/><polygon fill=\"#383838\" points=\"135,333.88,138,325.88,132,325.88,135,333.88\" style=\"stroke: #383838; stroke-width: 1.0;\"/><text fill=\"#000000\" font-family=\"sans-serif\" font-size=\"13\" lengthAdjust=\"spacingAndGlyphs\" textLength=\"73\" x=\"136\" y=\"300.0669\">«objective»</text><!--MD5=[f7dd5bd75f1da18384bcc530ddc46a54]\n",
       "@startuml\r\n",
       "skinparam linetype ortho\r\n",
       "skinparam monochrome true\r\n",
       "skinparam classbackgroundcolor white\r\n",
       "skinparam shadowing false\r\n",
       "skinparam wrapWidth 300\r\n",
       "hide circle\r\n",
       "\r\n",
       "package \"VerificationTest\" as E1   {\r\n",
       "comp def \"V\" as E2  <<(T,blue)part def>> {\r\n",
       "m: Integer\r\n",
       "}\r\n",
       "comp usage \"vv: V\" as E3  <<(T,blue)part>> {\r\n",
       "}\r\n",
       "comp def \"VerificationObjective\" as E4  <<(T,blue)requirement def>> {\r\n",
       "...\r\n",
       "- -\r\n",
       "}\r\n",
       "rec def \"VerificationCase\" as E5 {\r\n",
       "portin \"v\" as E6  \r\n",
       "portout \"$result\" as E7  \r\n",
       "portin \"$x\" as E8  \r\n",
       "portin \"$y\" as E9  \r\n",
       "portout \"$result\" as E10  \r\n",
       "}\r\n",
       "\r\n",
       "rec def \"VerificationPlan\" as E11 {\r\n",
       "portin \"v\" as E12  \r\n",
       "rec usage \"verificationCase\" as E13 {\r\n",
       "}\r\n",
       "\r\n",
       "}\r\n",
       "\r\n",
       "comp usage \"verificationContext: Part\" as E14  <<(T,blue)part>> {\r\n",
       "}\r\n",
       "comp usage \"verificationPlan: VerificationPlan\" as E15  <<(T,blue)verificationCase>> {\r\n",
       "- -references- -\r\n",
       "v: V= vv; \\n//:>>VerificationPlan::v// \r\n",
       "}\r\n",
       "comp usage \"obj: RequirementCheck\" as E16  <<(T,blue)requirement>> {\r\n",
       "}\r\n",
       "E3 - -:|> E2\r\n",
       "E9 -[thickness=5]- E7\r\n",
       "E15 - -:|> E11\r\n",
       "E14 *- - E15\r\n",
       "E15 - ->> E16 : <<objective>>\r\n",
       "}\r\n",
       "@enduml\r\n",
       "\n",
       "PlantUML version 1.2020.13(Sat Jun 13 12:26:38 UTC 2020)\n",
       "(EPL source distribution)\n",
       "Java Runtime: OpenJDK Runtime Environment\n",
       "JVM: OpenJDK 64-Bit Server VM\n",
       "Default Encoding: UTF-8\n",
       "Language: en\n",
       "Country: null\n",
       "--></g></svg>"
      ]
     },
     "execution_count": 51,
     "metadata": {},
     "output_type": "execute_result"
    }
   ],
   "source": [
    "%viz --style=\"ORTHOLINE\" --view=\"Default\" \"VerificationTest\""
   ]
  },
  {
   "cell_type": "code",
   "execution_count": 52,
   "id": "rational-behalf",
   "metadata": {
    "execution": {
     "iopub.execute_input": "2021-03-25T15:58:06.057994Z",
     "iopub.status.busy": "2021-03-25T15:58:06.052261Z",
     "iopub.status.idle": "2021-03-25T15:58:07.878130Z",
     "shell.execute_reply": "2021-03-25T15:58:07.875984Z"
    }
   },
   "outputs": [
    {
     "data": {
      "image/svg+xml": [
       "<?xml version=\"1.0\" encoding=\"UTF-8\" standalone=\"no\"?><svg xmlns=\"http://www.w3.org/2000/svg\" xmlns:xlink=\"http://www.w3.org/1999/xlink\" contentScriptType=\"application/ecmascript\" contentStyleType=\"text/css\" height=\"947px\" preserveAspectRatio=\"none\" style=\"width:519px;height:947px;\" version=\"1.1\" viewBox=\"0 0 519 947\" width=\"519px\" zoomAndPan=\"magnify\"><defs/><g><!--MD5=[fbc87193dbaf4d95561dea2c320d4a47]\n",
       "cluster E1--><polygon fill=\"#FFFFFF\" points=\"16,6,147,6,154,28.2969,497,28.2969,497,935,16,935,16,6\" style=\"stroke: #000000; stroke-width: 1.5;\"/><line style=\"stroke: #000000; stroke-width: 1.5;\" x1=\"16\" x2=\"154\" y1=\"28.2969\" y2=\"28.2969\"/><text fill=\"#000000\" font-family=\"sans-serif\" font-size=\"14\" font-weight=\"bold\" lengthAdjust=\"spacingAndGlyphs\" textLength=\"125\" x=\"20\" y=\"20.9951\">VerificationTest</text><!--MD5=[b4997ac47864f28c2f74865a473b2911]\n",
       "class E2--><rect fill=\"#FFFFFF\" height=\"58.7422\" id=\"E2\" style=\"stroke: #383838; stroke-width: 1.5;\" width=\"71\" x=\"193.5\" y=\"717.5\"/><text fill=\"#000000\" font-family=\"sans-serif\" font-size=\"12\" font-style=\"italic\" lengthAdjust=\"spacingAndGlyphs\" textLength=\"64\" x=\"197\" y=\"733.6387\">«part def»</text><text fill=\"#000000\" font-family=\"sans-serif\" font-size=\"12\" lengthAdjust=\"spacingAndGlyphs\" textLength=\"8\" x=\"225\" y=\"747.6074\">V</text><line style=\"stroke: #383838; stroke-width: 1.5;\" x1=\"194.5\" x2=\"263.5\" y1=\"755.4375\" y2=\"755.4375\"/><text fill=\"#000000\" font-family=\"sans-serif\" font-size=\"11\" lengthAdjust=\"spacingAndGlyphs\" textLength=\"59\" x=\"199.5\" y=\"769.6479\">m: Integer</text><!--MD5=[09b614a08d8cba4a07c9adeb5e0fee81]\n",
       "class E3--><rect fill=\"#FFFFFF\" height=\"45.9375\" id=\"E3\" rx=\"10\" ry=\"10\" style=\"stroke: #383838; stroke-width: 1.5;\" width=\"42\" x=\"264\" y=\"580\"/><text fill=\"#000000\" font-family=\"sans-serif\" font-size=\"12\" font-style=\"italic\" lengthAdjust=\"spacingAndGlyphs\" textLength=\"40\" x=\"265\" y=\"596.1387\">«part»</text><text fill=\"#000000\" font-family=\"sans-serif\" font-size=\"12\" lengthAdjust=\"spacingAndGlyphs\" textLength=\"28\" x=\"271\" y=\"610.1074\">vv: V</text><line style=\"stroke: #383838; stroke-width: 1.5;\" x1=\"265\" x2=\"305\" y1=\"617.9375\" y2=\"617.9375\"/><!--MD5=[ebbe1d658d1005bcc118a6aa81145e00]\n",
       "class E4--><rect fill=\"#FFFFFF\" height=\"66.7422\" id=\"E4\" style=\"stroke: #383838; stroke-width: 1.5;\" width=\"133\" x=\"323.5\" y=\"852\"/><text fill=\"#000000\" font-family=\"sans-serif\" font-size=\"12\" font-style=\"italic\" lengthAdjust=\"spacingAndGlyphs\" textLength=\"115\" x=\"332.5\" y=\"868.1387\">«requirement def»</text><text fill=\"#000000\" font-family=\"sans-serif\" font-size=\"12\" lengthAdjust=\"spacingAndGlyphs\" textLength=\"127\" x=\"326.5\" y=\"882.1074\">VerificationObjective</text><line style=\"stroke: #383838; stroke-width: 1.5;\" x1=\"324.5\" x2=\"455.5\" y1=\"889.9375\" y2=\"889.9375\"/><text fill=\"#000000\" font-family=\"sans-serif\" font-size=\"11\" lengthAdjust=\"spacingAndGlyphs\" textLength=\"12\" x=\"329.5\" y=\"904.1479\">...</text><line style=\"stroke: #383838; stroke-width: 1.0;\" x1=\"324.5\" x2=\"455.5\" y1=\"910.7422\" y2=\"910.7422\"/><!--MD5=[270fce915f116d4de14055a7c1d9a0f3]\n",
       "class E5--><rect fill=\"#FFFFFF\" height=\"45.9375\" id=\"E5\" style=\"stroke: #383838; stroke-width: 1.5;\" width=\"139\" x=\"341.5\" y=\"580\"/><text fill=\"#000000\" font-family=\"sans-serif\" font-size=\"12\" font-style=\"italic\" lengthAdjust=\"spacingAndGlyphs\" textLength=\"137\" x=\"342.5\" y=\"596.1387\">«verificationCase def»</text><text fill=\"#000000\" font-family=\"sans-serif\" font-size=\"12\" lengthAdjust=\"spacingAndGlyphs\" textLength=\"101\" x=\"360.5\" y=\"610.1074\">VerificationCase</text><line style=\"stroke: #383838; stroke-width: 1.5;\" x1=\"342.5\" x2=\"479.5\" y1=\"617.9375\" y2=\"617.9375\"/><!--MD5=[60a26617385b1d2d0262a64233df1f8d]\n",
       "class E6--><rect fill=\"#FFFFFF\" height=\"88.3516\" id=\"E6\" rx=\"10\" ry=\"10\" style=\"stroke: #383838; stroke-width: 1.5;\" width=\"181\" x=\"299.5\" y=\"703\"/><text fill=\"#000000\" font-family=\"sans-serif\" font-size=\"12\" font-style=\"italic\" lengthAdjust=\"spacingAndGlyphs\" textLength=\"91\" x=\"344.5\" y=\"719.1387\">«requirement»</text><text fill=\"#000000\" font-family=\"sans-serif\" font-size=\"12\" lengthAdjust=\"spacingAndGlyphs\" textLength=\"154\" x=\"313\" y=\"733.1074\">obj: VerificationObjective</text><line style=\"stroke: #383838; stroke-width: 1.5;\" x1=\"300.5\" x2=\"479.5\" y1=\"740.9375\" y2=\"740.9375\"/><text fill=\"#000000\" font-family=\"sans-serif\" font-size=\"11\" lengthAdjust=\"spacingAndGlyphs\" textLength=\"103\" x=\"305.5\" y=\"771.9526\">subj: Anything= v;</text><text fill=\"#000000\" font-family=\"sans-serif\" font-size=\"11\" font-style=\"italic\" lengthAdjust=\"spacingAndGlyphs\" textLength=\"169\" x=\"305.5\" y=\"784.7573\">:&gt;&gt;VerificationObjective::subj</text><line style=\"stroke: #383838; stroke-width: 1.0;\" x1=\"300.5\" x2=\"359\" y1=\"755.3398\" y2=\"755.3398\"/><text fill=\"#000000\" font-family=\"sans-serif\" font-size=\"11\" lengthAdjust=\"spacingAndGlyphs\" textLength=\"62\" x=\"359\" y=\"758.6479\">references</text><line style=\"stroke: #383838; stroke-width: 1.0;\" x1=\"421\" x2=\"479.5\" y1=\"755.3398\" y2=\"755.3398\"/><!--MD5=[2156ba9850f5573cc1fc38a6a4b2f02b]\n",
       "class E7--><rect fill=\"#FFFFFF\" height=\"45.9375\" id=\"E7\" style=\"stroke: #383838; stroke-width: 1.5;\" width=\"139\" x=\"86.5\" y=\"313\"/><text fill=\"#000000\" font-family=\"sans-serif\" font-size=\"12\" font-style=\"italic\" lengthAdjust=\"spacingAndGlyphs\" textLength=\"137\" x=\"87.5\" y=\"329.1387\">«verificationCase def»</text><text fill=\"#000000\" font-family=\"sans-serif\" font-size=\"12\" lengthAdjust=\"spacingAndGlyphs\" textLength=\"97\" x=\"107.5\" y=\"343.1074\">VerificationPlan</text><line style=\"stroke: #383838; stroke-width: 1.5;\" x1=\"87.5\" x2=\"224.5\" y1=\"350.9375\" y2=\"350.9375\"/><!--MD5=[b9389687b975829384b498ac4b7476b2]\n",
       "class E8--><rect fill=\"#FFFFFF\" height=\"66.7422\" id=\"E8\" rx=\"10\" ry=\"10\" style=\"stroke: #383838; stroke-width: 1.5;\" width=\"151\" x=\"80.5\" y=\"436\"/><text fill=\"#000000\" font-family=\"sans-serif\" font-size=\"12\" font-style=\"italic\" lengthAdjust=\"spacingAndGlyphs\" textLength=\"91\" x=\"110.5\" y=\"452.1387\">«requirement»</text><text fill=\"#000000\" font-family=\"sans-serif\" font-size=\"12\" lengthAdjust=\"spacingAndGlyphs\" textLength=\"145\" x=\"83.5\" y=\"466.1074\">obj: RequirementCheck</text><line style=\"stroke: #383838; stroke-width: 1.5;\" x1=\"81.5\" x2=\"230.5\" y1=\"473.9375\" y2=\"473.9375\"/><text fill=\"#000000\" font-family=\"sans-serif\" font-size=\"11\" lengthAdjust=\"spacingAndGlyphs\" textLength=\"12\" x=\"86.5\" y=\"488.1479\">...</text><line style=\"stroke: #383838; stroke-width: 1.0;\" x1=\"81.5\" x2=\"230.5\" y1=\"494.7422\" y2=\"494.7422\"/><!--MD5=[fd4143e9d270a159db93a4ea2a975926]\n",
       "class E9--><rect fill=\"#FFFFFF\" height=\"45.9375\" id=\"E9\" rx=\"10\" ry=\"10\" style=\"stroke: #383838; stroke-width: 1.5;\" width=\"214\" x=\"267\" y=\"446.5\"/><text fill=\"#000000\" font-family=\"sans-serif\" font-size=\"12\" font-style=\"italic\" lengthAdjust=\"spacingAndGlyphs\" textLength=\"113\" x=\"317.5\" y=\"462.6387\">«verificationCase»</text><text fill=\"#000000\" font-family=\"sans-serif\" font-size=\"12\" lengthAdjust=\"spacingAndGlyphs\" textLength=\"208\" x=\"270\" y=\"476.6074\">verificationCase: VerificationCase</text><line style=\"stroke: #383838; stroke-width: 1.5;\" x1=\"268\" x2=\"480\" y1=\"484.4375\" y2=\"484.4375\"/><!--MD5=[96f4274e9e20536e775497830990834d]\n",
       "class E10--><rect fill=\"#FFFFFF\" height=\"45.9375\" id=\"E10\" rx=\"10\" ry=\"10\" style=\"stroke: #383838; stroke-width: 1.5;\" width=\"160\" x=\"69\" y=\"580\"/><text fill=\"#000000\" font-family=\"sans-serif\" font-size=\"12\" font-style=\"italic\" lengthAdjust=\"spacingAndGlyphs\" textLength=\"91\" x=\"103.5\" y=\"596.1387\">«requirement»</text><text fill=\"#000000\" font-family=\"sans-serif\" font-size=\"12\" lengthAdjust=\"spacingAndGlyphs\" textLength=\"154\" x=\"72\" y=\"610.1074\">obj: VerificationObjective</text><line style=\"stroke: #383838; stroke-width: 1.5;\" x1=\"70\" x2=\"228\" y1=\"617.9375\" y2=\"617.9375\"/><!--MD5=[1dd1bfd58a279cf63c5f349dbc8fc6a1]\n",
       "class E11--><rect fill=\"#FFFFFF\" height=\"45.9375\" id=\"E11\" rx=\"10\" ry=\"10\" style=\"stroke: #383838; stroke-width: 1.5;\" width=\"156\" x=\"168\" y=\"41\"/><text fill=\"#000000\" font-family=\"sans-serif\" font-size=\"12\" font-style=\"italic\" lengthAdjust=\"spacingAndGlyphs\" textLength=\"40\" x=\"226\" y=\"57.1387\">«part»</text><text fill=\"#000000\" font-family=\"sans-serif\" font-size=\"12\" lengthAdjust=\"spacingAndGlyphs\" textLength=\"150\" x=\"171\" y=\"71.1074\">verificationContext: Part</text><line style=\"stroke: #383838; stroke-width: 1.5;\" x1=\"169\" x2=\"323\" y1=\"78.9375\" y2=\"78.9375\"/><!--MD5=[49a0ec8f00dab7302a31f22d0f0fe584]\n",
       "class E12--><rect fill=\"#FFFFFF\" height=\"88.3516\" id=\"E12\" rx=\"10\" ry=\"10\" style=\"stroke: #383838; stroke-width: 1.5;\" width=\"206\" x=\"143\" y=\"148\"/><text fill=\"#000000\" font-family=\"sans-serif\" font-size=\"12\" font-style=\"italic\" lengthAdjust=\"spacingAndGlyphs\" textLength=\"113\" x=\"189.5\" y=\"164.1387\">«verificationCase»</text><text fill=\"#000000\" font-family=\"sans-serif\" font-size=\"12\" lengthAdjust=\"spacingAndGlyphs\" textLength=\"200\" x=\"146\" y=\"178.1074\">verificationPlan: VerificationPlan</text><line style=\"stroke: #383838; stroke-width: 1.5;\" x1=\"144\" x2=\"348\" y1=\"185.9375\" y2=\"185.9375\"/><text fill=\"#000000\" font-family=\"sans-serif\" font-size=\"11\" lengthAdjust=\"spacingAndGlyphs\" textLength=\"50\" x=\"149\" y=\"216.9526\">v: V= vv;</text><text fill=\"#000000\" font-family=\"sans-serif\" font-size=\"11\" font-style=\"italic\" lengthAdjust=\"spacingAndGlyphs\" textLength=\"123\" x=\"149\" y=\"229.7573\">:&gt;&gt;VerificationPlan::v</text><line style=\"stroke: #383838; stroke-width: 1.0;\" x1=\"144\" x2=\"215\" y1=\"200.3398\" y2=\"200.3398\"/><text fill=\"#000000\" font-family=\"sans-serif\" font-size=\"11\" lengthAdjust=\"spacingAndGlyphs\" textLength=\"62\" x=\"215\" y=\"203.6479\">references</text><line style=\"stroke: #383838; stroke-width: 1.0;\" x1=\"277\" x2=\"348\" y1=\"200.3398\" y2=\"200.3398\"/><!--MD5=[ee3c913d1a06f366521f9ef512b67efe]\n",
       "class E13--><rect fill=\"#FFFFFF\" height=\"45.9375\" id=\"E13\" rx=\"10\" ry=\"10\" style=\"stroke: #383838; stroke-width: 1.5;\" width=\"151\" x=\"260.5\" y=\"313\"/><text fill=\"#000000\" font-family=\"sans-serif\" font-size=\"12\" font-style=\"italic\" lengthAdjust=\"spacingAndGlyphs\" textLength=\"91\" x=\"290.5\" y=\"329.1387\">«requirement»</text><text fill=\"#000000\" font-family=\"sans-serif\" font-size=\"12\" lengthAdjust=\"spacingAndGlyphs\" textLength=\"145\" x=\"263.5\" y=\"343.1074\">obj: RequirementCheck</text><line style=\"stroke: #383838; stroke-width: 1.5;\" x1=\"261.5\" x2=\"410.5\" y1=\"350.9375\" y2=\"350.9375\"/><!--MD5=[05d275557350bfb9b23a4ef7222b4c39]\n",
       "link E3 to E2--><path d=\"M263.95,611 C256.91,611 250.83,611 250.83,611 C250.83,611 250.83,697.49 250.83,697.49 \" fill=\"none\" id=\"E3-&gt;E2\" style=\"stroke: #383838; stroke-width: 1.0;\"/><polygon fill=\"#FFFFFF\" points=\"250.83,717.49,243.83,698.49,257.83,698.49,250.83,717.49\" style=\"stroke: #383838; stroke-width: 1.0;\"/><ellipse cx=\"245.83\" cy=\"692.79\" fill=\"#383838\" rx=\"2\" ry=\"2\" style=\"stroke: #383838; stroke-width: 1.0;\"/><ellipse cx=\"255.83\" cy=\"692.79\" fill=\"#383838\" rx=\"2\" ry=\"2\" style=\"stroke: #383838; stroke-width: 1.0;\"/><!--MD5=[15ebcb19ae302d9b601edb458606d402]\n",
       "link E5 to E2--><path d=\"M387.83,626.09 C387.83,643.71 387.83,665 387.83,665 C387.83,665 255.67,665 255.67,665 C255.67,665 255.67,712.4 255.67,712.4 \" fill=\"none\" id=\"E5-&gt;E2\" style=\"stroke: #383838; stroke-width: 1.0; stroke-dasharray: 7.0,7.0;\"/><polygon fill=\"#383838\" points=\"255.67,717.4,259.67,708.4,255.67,712.4,251.67,708.4,255.67,717.4\" style=\"stroke: #383838; stroke-width: 1.0;\"/><text fill=\"#000000\" font-family=\"sans-serif\" font-size=\"13\" lengthAdjust=\"spacingAndGlyphs\" textLength=\"62\" x=\"287\" y=\"669.0669\">«subject»</text><!--MD5=[9120cf2e5df3bff93db8f754bbbc09b4]\n",
       "link E5 to E6--><path d=\"M434.17,626.14 C434.17,626.14 434.17,694.71 434.17,694.71 \" fill=\"none\" id=\"E5-&gt;E6\" style=\"stroke: #383838; stroke-width: 1.0;\"/><polygon fill=\"#383838\" points=\"434.17,702.71,437.17,694.71,431.17,694.71,434.17,702.71\" style=\"stroke: #383838; stroke-width: 1.0;\"/><text fill=\"#000000\" font-family=\"sans-serif\" font-size=\"13\" lengthAdjust=\"spacingAndGlyphs\" textLength=\"73\" x=\"399\" y=\"669.0669\">«objective»</text><!--MD5=[f667431f98296947986a1a7595a31603]\n",
       "link E6 to E4--><path d=\"M390,791.2 C390,791.2 390,831.8 390,831.8 \" fill=\"none\" id=\"E6-&gt;E4\" style=\"stroke: #383838; stroke-width: 1.0;\"/><polygon fill=\"#FFFFFF\" points=\"390,851.8,383,832.8,397,832.8,390,851.8\" style=\"stroke: #383838; stroke-width: 1.0;\"/><ellipse cx=\"385\" cy=\"827.1\" fill=\"#383838\" rx=\"2\" ry=\"2\" style=\"stroke: #383838; stroke-width: 1.0;\"/><ellipse cx=\"395\" cy=\"827.1\" fill=\"#383838\" rx=\"2\" ry=\"2\" style=\"stroke: #383838; stroke-width: 1.0;\"/><!--MD5=[583832df87f4419a098336a29a52fa00]\n",
       "link E7 to E2--><path d=\"M225.83,344 C232.21,344 236.33,344 236.33,344 C236.33,344 236.33,712.37 236.33,712.37 \" fill=\"none\" id=\"E7-&gt;E2\" style=\"stroke: #383838; stroke-width: 1.0; stroke-dasharray: 7.0,7.0;\"/><polygon fill=\"#383838\" points=\"236.33,717.37,240.33,708.37,236.33,712.37,232.33,708.37,236.33,717.37\" style=\"stroke: #383838; stroke-width: 1.0;\"/><text fill=\"#000000\" font-family=\"sans-serif\" font-size=\"13\" lengthAdjust=\"spacingAndGlyphs\" textLength=\"62\" x=\"68\" y=\"546.0669\">«subject»</text><!--MD5=[79bc8f324ef4d02c541433f2e6e513c3]\n",
       "link E7 to E8--><path d=\"M156,359.25 C156,359.25 156,427.75 156,427.75 \" fill=\"none\" id=\"E7-&gt;E8\" style=\"stroke: #383838; stroke-width: 1.0;\"/><polygon fill=\"#383838\" points=\"156,435.75,159,427.75,153,427.75,156,435.75\" style=\"stroke: #383838; stroke-width: 1.0;\"/><text fill=\"#000000\" font-family=\"sans-serif\" font-size=\"13\" lengthAdjust=\"spacingAndGlyphs\" textLength=\"73\" x=\"157\" y=\"402.0669\">«objective»</text><!--MD5=[bfc3ddf2e613be37104f658f09af896c]\n",
       "link E9 to E5--><path d=\"M411,492.75 C411,492.75 411,559.56 411,559.56 \" fill=\"none\" id=\"E9-&gt;E5\" style=\"stroke: #383838; stroke-width: 1.0;\"/><polygon fill=\"#FFFFFF\" points=\"411,579.56,404,560.56,418,560.56,411,579.56\" style=\"stroke: #383838; stroke-width: 1.0;\"/><ellipse cx=\"406\" cy=\"554.86\" fill=\"#383838\" rx=\"2\" ry=\"2\" style=\"stroke: #383838; stroke-width: 1.0;\"/><ellipse cx=\"416\" cy=\"554.86\" fill=\"#383838\" rx=\"2\" ry=\"2\" style=\"stroke: #383838; stroke-width: 1.0;\"/><!--MD5=[e4a10ef82d0e328e31cac39a31e58dda]\n",
       "reverse link E7 to E9--><path d=\"M238.58,329 C238.58,329 246,329 246,329 C246,329 246,462 246,462 C246,462 254.38,462 266.85,462 \" fill=\"none\" id=\"E7&lt;-E9\" style=\"stroke: #383838; stroke-width: 1.0;\"/><polygon fill=\"#383838\" points=\"225.58,329,231.58,333,237.58,329,231.58,325,225.58,329\" style=\"stroke: #383838; stroke-width: 1.0;\"/><!--MD5=[35e5f1cbde42fa304a029880aa2bc7f2]\n",
       "link E9 to E10--><path d=\"M266.78,478 C251.67,478 241.17,478 241.17,478 C241.17,478 241.17,596 241.17,596 C241.17,596 237.12,596 237.12,596 \" fill=\"none\" id=\"E9-&gt;E10\" style=\"stroke: #383838; stroke-width: 1.0;\"/><polygon fill=\"#383838\" points=\"229.12,596,237.12,599,237.12,593,229.12,596\" style=\"stroke: #383838; stroke-width: 1.0;\"/><text fill=\"#000000\" font-family=\"sans-serif\" font-size=\"13\" lengthAdjust=\"spacingAndGlyphs\" textLength=\"73\" x=\"251\" y=\"546.0669\">«objective»</text><!--MD5=[ae660f5ecd7ddb04a8913625960940af]\n",
       "link E12 to E7--><path d=\"M184.25,236.38 C184.25,236.38 184.25,292.88 184.25,292.88 \" fill=\"none\" id=\"E12-&gt;E7\" style=\"stroke: #383838; stroke-width: 1.0;\"/><polygon fill=\"#FFFFFF\" points=\"184.25,312.88,177.25,293.88,191.25,293.88,184.25,312.88\" style=\"stroke: #383838; stroke-width: 1.0;\"/><ellipse cx=\"179.25\" cy=\"288.18\" fill=\"#383838\" rx=\"2\" ry=\"2\" style=\"stroke: #383838; stroke-width: 1.0;\"/><ellipse cx=\"189.25\" cy=\"288.18\" fill=\"#383838\" rx=\"2\" ry=\"2\" style=\"stroke: #383838; stroke-width: 1.0;\"/><!--MD5=[94adabc162ce7e41b39f13be14fbaeb3]\n",
       "reverse link E11 to E12--><path d=\"M246,100.18 C246,100.18 246,147.76 246,147.76 \" fill=\"none\" id=\"E11&lt;-E12\" style=\"stroke: #383838; stroke-width: 1.0;\"/><polygon fill=\"#383838\" points=\"246,87.18,242,93.18,246,99.18,250,93.18,246,87.18\" style=\"stroke: #383838; stroke-width: 1.0;\"/><!--MD5=[e2a9ac97dcd3257bb5342dae06547bad]\n",
       "link E12 to E13--><path d=\"M304.75,236.38 C304.75,236.38 304.75,304.88 304.75,304.88 \" fill=\"none\" id=\"E12-&gt;E13\" style=\"stroke: #383838; stroke-width: 1.0;\"/><polygon fill=\"#383838\" points=\"304.75,312.88,307.75,304.88,301.75,304.88,304.75,312.88\" style=\"stroke: #383838; stroke-width: 1.0;\"/><text fill=\"#000000\" font-family=\"sans-serif\" font-size=\"13\" lengthAdjust=\"spacingAndGlyphs\" textLength=\"73\" x=\"302\" y=\"279.0669\">«objective»</text><!--MD5=[ada0fa8779f710d515cbd7527ef325be]\n",
       "@startuml\r\n",
       "skinparam linetype ortho\r\n",
       "skinparam monochrome true\r\n",
       "skinparam classbackgroundcolor white\r\n",
       "skinparam shadowing false\r\n",
       "skinparam wrapWidth 300\r\n",
       "hide circle\r\n",
       "\r\n",
       "package \"VerificationTest\" as E1   {\r\n",
       "comp def \"V\" as E2  <<(T,blue)part def>> {\r\n",
       "m: Integer\r\n",
       "}\r\n",
       "comp usage \"vv: V\" as E3  <<(T,blue)part>> {\r\n",
       "}\r\n",
       "comp def \"VerificationObjective\" as E4  <<(T,blue)requirement def>> {\r\n",
       "...\r\n",
       "- -\r\n",
       "}\r\n",
       "comp def \"VerificationCase\" as E5  <<(T,blue)verificationCase def>> {\r\n",
       "}\r\n",
       "comp usage \"obj: VerificationObjective\" as E6  <<(T,blue)requirement>> {\r\n",
       "- -references- -\r\n",
       "subj: Anything= v; \\n//:>>VerificationObjective::subj// \r\n",
       "}\r\n",
       "comp def \"VerificationPlan\" as E7  <<(T,blue)verificationCase def>> {\r\n",
       "}\r\n",
       "comp usage \"obj: RequirementCheck\" as E8  <<(T,blue)requirement>> {\r\n",
       "...\r\n",
       "- -\r\n",
       "}\r\n",
       "comp usage \"verificationCase: VerificationCase\" as E9  <<(T,blue)verificationCase>> {\r\n",
       "}\r\n",
       "comp usage \"obj: VerificationObjective\" as E10  <<(T,blue)requirement>> {\r\n",
       "}\r\n",
       "comp usage \"verificationContext: Part\" as E11  <<(T,blue)part>> {\r\n",
       "}\r\n",
       "comp usage \"verificationPlan: VerificationPlan\" as E12  <<(T,blue)verificationCase>> {\r\n",
       "- -references- -\r\n",
       "v: V= vv; \\n//:>>VerificationPlan::v// \r\n",
       "}\r\n",
       "comp usage \"obj: RequirementCheck\" as E13  <<(T,blue)requirement>> {\r\n",
       "}\r\n",
       "E3 - -:|> E2\r\n",
       "E5 ..> E2 : <<subject>>\r\n",
       "E5 - ->> E6 : <<objective>>\r\n",
       "E6 - -:|> E4\r\n",
       "E7 ..> E2 : <<subject>>\r\n",
       "E7 - ->> E8 : <<objective>>\r\n",
       "E9 - -:|> E5\r\n",
       "E7 *- - E9\r\n",
       "E9 - ->> E10 : <<objective>>\r\n",
       "E12 - -:|> E7\r\n",
       "E11 *- - E12\r\n",
       "E12 - ->> E13 : <<objective>>\r\n",
       "}\r\n",
       "@enduml\r\n",
       "\n",
       "PlantUML version 1.2020.13(Sat Jun 13 12:26:38 UTC 2020)\n",
       "(EPL source distribution)\n",
       "Java Runtime: OpenJDK Runtime Environment\n",
       "JVM: OpenJDK 64-Bit Server VM\n",
       "Default Encoding: UTF-8\n",
       "Language: en\n",
       "Country: null\n",
       "--></g></svg>"
      ]
     },
     "execution_count": 52,
     "metadata": {},
     "output_type": "execute_result"
    }
   ],
   "source": [
    "%viz --style=\"ORTHOLINE\" --view=\"Tree\" \"VerificationTest\""
   ]
  },
  {
   "cell_type": "code",
   "execution_count": 53,
   "id": "prescription-norway",
   "metadata": {
    "execution": {
     "iopub.execute_input": "2021-03-25T15:58:07.929313Z",
     "iopub.status.busy": "2021-03-25T15:58:07.928535Z",
     "iopub.status.idle": "2021-03-25T15:58:07.933138Z",
     "shell.execute_reply": "2021-03-25T15:58:07.932406Z"
    }
   },
   "outputs": [
    {
     "data": {
      "text/plain": [
       "java.lang.IllegalArgumentException: Invalid View: State View candidates are: Default Tree StateMachine Interconnection Activity Sequence MIXED \n",
       "\tat org.omg.sysml.plantuml.SysML2PlantUMLSvc.setView(SysML2PlantUMLSvc.java:63)\n",
       "\tat org.omg.sysml.interactive.SysMLInteractive.viz(SysMLInteractive.java:286)\n",
       "\tat org.omg.sysml.jupyter.kernel.magic.Viz.viz(Viz.java:47)\n",
       "\tat jdk.internal.reflect.GeneratedMethodAccessor14.invoke(Unknown Source)\n",
       "\tat java.base/jdk.internal.reflect.DelegatingMethodAccessorImpl.invoke(DelegatingMethodAccessorImpl.java:43)\n",
       "\tat java.base/java.lang.reflect.Method.invoke(Method.java:568)\n",
       "\tat io.github.spencerpark.jupyter.kernel.magic.registry.Magics.invoke(Magics.java:89)\n",
       "\tat io.github.spencerpark.jupyter.kernel.magic.registry.Magics.access$000(Magics.java:8)\n",
       "\tat io.github.spencerpark.jupyter.kernel.magic.registry.Magics$LineReflectionMagicFunction.execute(Magics.java:149)\n",
       "\tat io.github.spencerpark.jupyter.kernel.magic.registry.Magics.applyLineMagic(Magics.java:26)\n",
       "\tat org.omg.sysml.jupyter.kernel.SysMLKernel.eval(SysMLKernel.java:76)\n",
       "\tat io.github.spencerpark.jupyter.kernel.BaseKernel.handleExecuteRequest(BaseKernel.java:334)\n",
       "\tat io.github.spencerpark.jupyter.channels.ShellChannel.lambda$bind$0(ShellChannel.java:64)\n",
       "\tat io.github.spencerpark.jupyter.channels.Loop.lambda$new$0(Loop.java:21)\n",
       "\tat io.github.spencerpark.jupyter.channels.Loop.run(Loop.java:78)\n"
      ]
     },
     "execution_count": 53,
     "metadata": {},
     "output_type": "execute_result"
    }
   ],
   "source": [
    "%viz --style=\"ORTHOLINE\" --view=\"State\" \"VerificationTest\""
   ]
  },
  {
   "cell_type": "code",
   "execution_count": 54,
   "id": "preceding-cutting",
   "metadata": {
    "execution": {
     "iopub.execute_input": "2021-03-25T15:58:07.985407Z",
     "iopub.status.busy": "2021-03-25T15:58:07.984975Z",
     "iopub.status.idle": "2021-03-25T15:58:08.146646Z",
     "shell.execute_reply": "2021-03-25T15:58:08.148296Z"
    }
   },
   "outputs": [
    {
     "data": {
      "image/svg+xml": [
       "<?xml version=\"1.0\" encoding=\"UTF-8\" standalone=\"no\"?><svg xmlns=\"http://www.w3.org/2000/svg\" xmlns:xlink=\"http://www.w3.org/1999/xlink\" contentScriptType=\"application/ecmascript\" contentStyleType=\"text/css\" height=\"202px\" preserveAspectRatio=\"none\" style=\"width:1008px;height:202px;\" version=\"1.1\" viewBox=\"0 0 1008 202\" width=\"1008px\" zoomAndPan=\"magnify\"><defs/><g><!--MD5=[fbc87193dbaf4d95561dea2c320d4a47]\n",
       "cluster E1--><polygon fill=\"#FFFFFF\" points=\"16,6,147,6,154,28.2969,986,28.2969,986,190,16,190,16,6\" style=\"stroke: #000000; stroke-width: 1.5;\"/><line style=\"stroke: #000000; stroke-width: 1.5;\" x1=\"16\" x2=\"154\" y1=\"28.2969\" y2=\"28.2969\"/><text fill=\"#000000\" font-family=\"sans-serif\" font-size=\"14\" font-weight=\"bold\" lengthAdjust=\"spacingAndGlyphs\" textLength=\"125\" x=\"20\" y=\"20.9951\">VerificationTest</text><!--MD5=[e4f7fae6ed58524ba242bb0b0d3be6b7]\n",
       "cluster E2--><rect fill=\"#FFFFFF\" height=\"117\" style=\"stroke: #000000; stroke-width: 1.5;\" width=\"124\" x=\"838\" y=\"49\"/><text fill=\"#000000\" font-family=\"sans-serif\" font-size=\"14\" font-style=\"italic\" lengthAdjust=\"spacingAndGlyphs\" textLength=\"71\" x=\"864.5\" y=\"63.9951\">«part def»</text><text fill=\"#000000\" font-family=\"sans-serif\" font-size=\"14\" font-weight=\"bold\" lengthAdjust=\"spacingAndGlyphs\" textLength=\"11\" x=\"894.5\" y=\"80.292\">V</text><!--MD5=[270fce915f116d4de14055a7c1d9a0f3]\n",
       "class E5--><rect fill=\"#FFFFFF\" height=\"53.9375\" id=\"E5\" style=\"stroke: #383838; stroke-width: 1.5;\" width=\"133\" x=\"686.5\" y=\"98\"/><text fill=\"#000000\" font-family=\"sans-serif\" font-size=\"12\" font-style=\"italic\" lengthAdjust=\"spacingAndGlyphs\" textLength=\"115\" x=\"695.5\" y=\"114.1387\">«requirement def»</text><text fill=\"#000000\" font-family=\"sans-serif\" font-size=\"12\" lengthAdjust=\"spacingAndGlyphs\" textLength=\"127\" x=\"689.5\" y=\"128.1074\">VerificationObjective</text><line style=\"stroke: #383838; stroke-width: 1.5;\" x1=\"687.5\" x2=\"818.5\" y1=\"135.9375\" y2=\"135.9375\"/><line style=\"stroke: #383838; stroke-width: 1.5;\" x1=\"687.5\" x2=\"818.5\" y1=\"143.9375\" y2=\"143.9375\"/><!--MD5=[60a26617385b1d2d0262a64233df1f8d]\n",
       "class E6--><rect fill=\"#FFFFFF\" height=\"53.9375\" id=\"E6\" style=\"stroke: #383838; stroke-width: 1.5;\" width=\"139\" x=\"512.5\" y=\"98\"/><text fill=\"#000000\" font-family=\"sans-serif\" font-size=\"12\" font-style=\"italic\" lengthAdjust=\"spacingAndGlyphs\" textLength=\"137\" x=\"513.5\" y=\"114.1387\">«verificationCase def»</text><text fill=\"#000000\" font-family=\"sans-serif\" font-size=\"12\" lengthAdjust=\"spacingAndGlyphs\" textLength=\"101\" x=\"531.5\" y=\"128.1074\">VerificationCase</text><line style=\"stroke: #383838; stroke-width: 1.5;\" x1=\"513.5\" x2=\"650.5\" y1=\"135.9375\" y2=\"135.9375\"/><line style=\"stroke: #383838; stroke-width: 1.5;\" x1=\"513.5\" x2=\"650.5\" y1=\"143.9375\" y2=\"143.9375\"/><!--MD5=[2156ba9850f5573cc1fc38a6a4b2f02b]\n",
       "class E7--><rect fill=\"#FFFFFF\" height=\"53.9375\" id=\"E7\" style=\"stroke: #383838; stroke-width: 1.5;\" width=\"139\" x=\"338.5\" y=\"98\"/><text fill=\"#000000\" font-family=\"sans-serif\" font-size=\"12\" font-style=\"italic\" lengthAdjust=\"spacingAndGlyphs\" textLength=\"137\" x=\"339.5\" y=\"114.1387\">«verificationCase def»</text><text fill=\"#000000\" font-family=\"sans-serif\" font-size=\"12\" lengthAdjust=\"spacingAndGlyphs\" textLength=\"97\" x=\"359.5\" y=\"128.1074\">VerificationPlan</text><line style=\"stroke: #383838; stroke-width: 1.5;\" x1=\"339.5\" x2=\"476.5\" y1=\"135.9375\" y2=\"135.9375\"/><line style=\"stroke: #383838; stroke-width: 1.5;\" x1=\"339.5\" x2=\"476.5\" y1=\"143.9375\" y2=\"143.9375\"/><g id=\"E1.E2.E3\"><rect fill=\"#FFFFFF\" height=\"50\" rx=\"12.5\" ry=\"12.5\" style=\"stroke: #383838; stroke-width: 1.5;\" width=\"91\" x=\"854.5\" y=\"100\"/><line style=\"stroke: #383838; stroke-width: 1.5;\" x1=\"854.5\" x2=\"945.5\" y1=\"126.2969\" y2=\"126.2969\"/><text fill=\"#000000\" font-family=\"sans-serif\" font-size=\"14\" lengthAdjust=\"spacingAndGlyphs\" textLength=\"71\" x=\"864.5\" y=\"117.9951\">m: Integer</text></g><g id=\"E1.E4\"><rect fill=\"#FFFFFF\" height=\"50\" rx=\"12.5\" ry=\"12.5\" style=\"stroke: #383838; stroke-width: 1.5;\" width=\"52\" x=\"251\" y=\"100\"/><line style=\"stroke: #383838; stroke-width: 1.5;\" x1=\"251\" x2=\"303\" y1=\"126.2969\" y2=\"126.2969\"/><text fill=\"#000000\" font-family=\"sans-serif\" font-size=\"14\" lengthAdjust=\"spacingAndGlyphs\" textLength=\"32\" x=\"261\" y=\"117.9951\">vv: V</text></g><g id=\"E1.E8\"><rect fill=\"#FFFFFF\" height=\"50\" rx=\"12.5\" ry=\"12.5\" style=\"stroke: #383838; stroke-width: 1.5;\" width=\"183\" x=\"32.5\" y=\"100\"/><line style=\"stroke: #383838; stroke-width: 1.5;\" x1=\"32.5\" x2=\"215.5\" y1=\"126.2969\" y2=\"126.2969\"/><text fill=\"#000000\" font-family=\"sans-serif\" font-size=\"14\" lengthAdjust=\"spacingAndGlyphs\" textLength=\"163\" x=\"42.5\" y=\"117.9951\">verificationContext: Part</text></g><!--MD5=[1794c82eb01e2f1f5db9a60e4b2700af]\n",
       "@startuml\r\n",
       "skinparam ranksep 8\r\n",
       "skinparam rectangle {\r\n",
       " backgroundColor<<block>> LightGreen\r\n",
       "}\r\n",
       "skinparam linetype ortho\r\n",
       "skinparam monochrome true\r\n",
       "skinparam classbackgroundcolor white\r\n",
       "skinparam shadowing false\r\n",
       "skinparam wrapWidth 300\r\n",
       "hide circle\r\n",
       "\r\n",
       "package \"VerificationTest\" as E1   {\r\n",
       "rec def \"V\" as E2  <<part def>> {\r\n",
       "rec usage \"m: Integer\" as E3  <<attribute>> {\r\n",
       "}\r\n",
       "}\r\n",
       "rec usage \"vv: V\" as E4  {\r\n",
       "}\r\n",
       "def \"VerificationObjective\" as E5  <<requirement def>> \r\n",
       "def \"VerificationCase\" as E6  <<verificationCase def>> \r\n",
       "def \"VerificationPlan\" as E7  <<verificationCase def>> \r\n",
       "rec usage \"verificationContext: Part\" as E8  {\r\n",
       "}\r\n",
       "}\r\n",
       "@enduml\r\n",
       "\n",
       "PlantUML version 1.2020.13(Sat Jun 13 12:26:38 UTC 2020)\n",
       "(EPL source distribution)\n",
       "Java Runtime: OpenJDK Runtime Environment\n",
       "JVM: OpenJDK 64-Bit Server VM\n",
       "Default Encoding: UTF-8\n",
       "Language: en\n",
       "Country: null\n",
       "--></g></svg>"
      ]
     },
     "execution_count": 54,
     "metadata": {},
     "output_type": "execute_result"
    }
   ],
   "source": [
    "%viz --style=\"ORTHOLINE\" --view=\"Interconnection\" \"VerificationTest\""
   ]
  },
  {
   "cell_type": "code",
   "execution_count": 55,
   "id": "scenic-thompson",
   "metadata": {
    "execution": {
     "iopub.execute_input": "2021-03-25T15:58:08.204746Z",
     "iopub.status.busy": "2021-03-25T15:58:08.202656Z",
     "iopub.status.idle": "2021-03-25T15:58:08.207723Z",
     "shell.execute_reply": "2021-03-25T15:58:08.203517Z"
    }
   },
   "outputs": [
    {
     "data": {
      "text/plain": [
       "java.lang.IllegalArgumentException: Invalid View: Action View candidates are: Default Tree StateMachine Interconnection Activity Sequence MIXED \n",
       "\tat org.omg.sysml.plantuml.SysML2PlantUMLSvc.setView(SysML2PlantUMLSvc.java:63)\n",
       "\tat org.omg.sysml.interactive.SysMLInteractive.viz(SysMLInteractive.java:286)\n",
       "\tat org.omg.sysml.jupyter.kernel.magic.Viz.viz(Viz.java:47)\n",
       "\tat jdk.internal.reflect.GeneratedMethodAccessor14.invoke(Unknown Source)\n",
       "\tat java.base/jdk.internal.reflect.DelegatingMethodAccessorImpl.invoke(DelegatingMethodAccessorImpl.java:43)\n",
       "\tat java.base/java.lang.reflect.Method.invoke(Method.java:568)\n",
       "\tat io.github.spencerpark.jupyter.kernel.magic.registry.Magics.invoke(Magics.java:89)\n",
       "\tat io.github.spencerpark.jupyter.kernel.magic.registry.Magics.access$000(Magics.java:8)\n",
       "\tat io.github.spencerpark.jupyter.kernel.magic.registry.Magics$LineReflectionMagicFunction.execute(Magics.java:149)\n",
       "\tat io.github.spencerpark.jupyter.kernel.magic.registry.Magics.applyLineMagic(Magics.java:26)\n",
       "\tat org.omg.sysml.jupyter.kernel.SysMLKernel.eval(SysMLKernel.java:76)\n",
       "\tat io.github.spencerpark.jupyter.kernel.BaseKernel.handleExecuteRequest(BaseKernel.java:334)\n",
       "\tat io.github.spencerpark.jupyter.channels.ShellChannel.lambda$bind$0(ShellChannel.java:64)\n",
       "\tat io.github.spencerpark.jupyter.channels.Loop.lambda$new$0(Loop.java:21)\n",
       "\tat io.github.spencerpark.jupyter.channels.Loop.run(Loop.java:78)\n"
      ]
     },
     "execution_count": 55,
     "metadata": {},
     "output_type": "execute_result"
    }
   ],
   "source": [
    "%viz --style=\"ORTHOLINE\" --view=\"Action\" \"VerificationTest\""
   ]
  },
  {
   "cell_type": "code",
   "execution_count": 56,
   "id": "understanding-wealth",
   "metadata": {
    "execution": {
     "iopub.execute_input": "2021-03-25T15:58:08.255273Z",
     "iopub.status.busy": "2021-03-25T15:58:08.254283Z",
     "iopub.status.idle": "2021-03-25T15:58:09.863225Z",
     "shell.execute_reply": "2021-03-25T15:58:09.863737Z"
    }
   },
   "outputs": [
    {
     "data": {
      "image/svg+xml": [
       "<?xml version=\"1.0\" encoding=\"UTF-8\" standalone=\"no\"?><svg xmlns=\"http://www.w3.org/2000/svg\" xmlns:xlink=\"http://www.w3.org/1999/xlink\" contentScriptType=\"application/ecmascript\" contentStyleType=\"text/css\" height=\"947px\" preserveAspectRatio=\"none\" style=\"width:519px;height:947px;\" version=\"1.1\" viewBox=\"0 0 519 947\" width=\"519px\" zoomAndPan=\"magnify\"><defs/><g><!--MD5=[fbc87193dbaf4d95561dea2c320d4a47]\n",
       "cluster E1--><polygon fill=\"#FFFFFF\" points=\"16,6,147,6,154,28.2969,497,28.2969,497,935,16,935,16,6\" style=\"stroke: #000000; stroke-width: 1.5;\"/><line style=\"stroke: #000000; stroke-width: 1.5;\" x1=\"16\" x2=\"154\" y1=\"28.2969\" y2=\"28.2969\"/><text fill=\"#000000\" font-family=\"sans-serif\" font-size=\"14\" font-weight=\"bold\" lengthAdjust=\"spacingAndGlyphs\" textLength=\"125\" x=\"20\" y=\"20.9951\">VerificationTest</text><!--MD5=[b4997ac47864f28c2f74865a473b2911]\n",
       "class E2--><rect fill=\"#FFFFFF\" height=\"58.7422\" id=\"E2\" style=\"stroke: #383838; stroke-width: 1.5;\" width=\"71\" x=\"193.5\" y=\"717.5\"/><text fill=\"#000000\" font-family=\"sans-serif\" font-size=\"12\" font-style=\"italic\" lengthAdjust=\"spacingAndGlyphs\" textLength=\"64\" x=\"197\" y=\"733.6387\">«part def»</text><text fill=\"#000000\" font-family=\"sans-serif\" font-size=\"12\" lengthAdjust=\"spacingAndGlyphs\" textLength=\"8\" x=\"225\" y=\"747.6074\">V</text><line style=\"stroke: #383838; stroke-width: 1.5;\" x1=\"194.5\" x2=\"263.5\" y1=\"755.4375\" y2=\"755.4375\"/><text fill=\"#000000\" font-family=\"sans-serif\" font-size=\"11\" lengthAdjust=\"spacingAndGlyphs\" textLength=\"59\" x=\"199.5\" y=\"769.6479\">m: Integer</text><!--MD5=[09b614a08d8cba4a07c9adeb5e0fee81]\n",
       "class E3--><rect fill=\"#FFFFFF\" height=\"45.9375\" id=\"E3\" rx=\"10\" ry=\"10\" style=\"stroke: #383838; stroke-width: 1.5;\" width=\"42\" x=\"264\" y=\"580\"/><text fill=\"#000000\" font-family=\"sans-serif\" font-size=\"12\" font-style=\"italic\" lengthAdjust=\"spacingAndGlyphs\" textLength=\"40\" x=\"265\" y=\"596.1387\">«part»</text><text fill=\"#000000\" font-family=\"sans-serif\" font-size=\"12\" lengthAdjust=\"spacingAndGlyphs\" textLength=\"28\" x=\"271\" y=\"610.1074\">vv: V</text><line style=\"stroke: #383838; stroke-width: 1.5;\" x1=\"265\" x2=\"305\" y1=\"617.9375\" y2=\"617.9375\"/><!--MD5=[ebbe1d658d1005bcc118a6aa81145e00]\n",
       "class E4--><rect fill=\"#FFFFFF\" height=\"66.7422\" id=\"E4\" style=\"stroke: #383838; stroke-width: 1.5;\" width=\"133\" x=\"323.5\" y=\"852\"/><text fill=\"#000000\" font-family=\"sans-serif\" font-size=\"12\" font-style=\"italic\" lengthAdjust=\"spacingAndGlyphs\" textLength=\"115\" x=\"332.5\" y=\"868.1387\">«requirement def»</text><text fill=\"#000000\" font-family=\"sans-serif\" font-size=\"12\" lengthAdjust=\"spacingAndGlyphs\" textLength=\"127\" x=\"326.5\" y=\"882.1074\">VerificationObjective</text><line style=\"stroke: #383838; stroke-width: 1.5;\" x1=\"324.5\" x2=\"455.5\" y1=\"889.9375\" y2=\"889.9375\"/><text fill=\"#000000\" font-family=\"sans-serif\" font-size=\"11\" lengthAdjust=\"spacingAndGlyphs\" textLength=\"12\" x=\"329.5\" y=\"904.1479\">...</text><line style=\"stroke: #383838; stroke-width: 1.0;\" x1=\"324.5\" x2=\"455.5\" y1=\"910.7422\" y2=\"910.7422\"/><!--MD5=[270fce915f116d4de14055a7c1d9a0f3]\n",
       "class E5--><rect fill=\"#FFFFFF\" height=\"45.9375\" id=\"E5\" style=\"stroke: #383838; stroke-width: 1.5;\" width=\"139\" x=\"341.5\" y=\"580\"/><text fill=\"#000000\" font-family=\"sans-serif\" font-size=\"12\" font-style=\"italic\" lengthAdjust=\"spacingAndGlyphs\" textLength=\"137\" x=\"342.5\" y=\"596.1387\">«verificationCase def»</text><text fill=\"#000000\" font-family=\"sans-serif\" font-size=\"12\" lengthAdjust=\"spacingAndGlyphs\" textLength=\"101\" x=\"360.5\" y=\"610.1074\">VerificationCase</text><line style=\"stroke: #383838; stroke-width: 1.5;\" x1=\"342.5\" x2=\"479.5\" y1=\"617.9375\" y2=\"617.9375\"/><!--MD5=[60a26617385b1d2d0262a64233df1f8d]\n",
       "class E6--><rect fill=\"#FFFFFF\" height=\"88.3516\" id=\"E6\" rx=\"10\" ry=\"10\" style=\"stroke: #383838; stroke-width: 1.5;\" width=\"181\" x=\"299.5\" y=\"703\"/><text fill=\"#000000\" font-family=\"sans-serif\" font-size=\"12\" font-style=\"italic\" lengthAdjust=\"spacingAndGlyphs\" textLength=\"91\" x=\"344.5\" y=\"719.1387\">«requirement»</text><text fill=\"#000000\" font-family=\"sans-serif\" font-size=\"12\" lengthAdjust=\"spacingAndGlyphs\" textLength=\"154\" x=\"313\" y=\"733.1074\">obj: VerificationObjective</text><line style=\"stroke: #383838; stroke-width: 1.5;\" x1=\"300.5\" x2=\"479.5\" y1=\"740.9375\" y2=\"740.9375\"/><text fill=\"#000000\" font-family=\"sans-serif\" font-size=\"11\" lengthAdjust=\"spacingAndGlyphs\" textLength=\"103\" x=\"305.5\" y=\"771.9526\">subj: Anything= v;</text><text fill=\"#000000\" font-family=\"sans-serif\" font-size=\"11\" font-style=\"italic\" lengthAdjust=\"spacingAndGlyphs\" textLength=\"169\" x=\"305.5\" y=\"784.7573\">:&gt;&gt;VerificationObjective::subj</text><line style=\"stroke: #383838; stroke-width: 1.0;\" x1=\"300.5\" x2=\"359\" y1=\"755.3398\" y2=\"755.3398\"/><text fill=\"#000000\" font-family=\"sans-serif\" font-size=\"11\" lengthAdjust=\"spacingAndGlyphs\" textLength=\"62\" x=\"359\" y=\"758.6479\">references</text><line style=\"stroke: #383838; stroke-width: 1.0;\" x1=\"421\" x2=\"479.5\" y1=\"755.3398\" y2=\"755.3398\"/><!--MD5=[2156ba9850f5573cc1fc38a6a4b2f02b]\n",
       "class E7--><rect fill=\"#FFFFFF\" height=\"45.9375\" id=\"E7\" style=\"stroke: #383838; stroke-width: 1.5;\" width=\"139\" x=\"86.5\" y=\"313\"/><text fill=\"#000000\" font-family=\"sans-serif\" font-size=\"12\" font-style=\"italic\" lengthAdjust=\"spacingAndGlyphs\" textLength=\"137\" x=\"87.5\" y=\"329.1387\">«verificationCase def»</text><text fill=\"#000000\" font-family=\"sans-serif\" font-size=\"12\" lengthAdjust=\"spacingAndGlyphs\" textLength=\"97\" x=\"107.5\" y=\"343.1074\">VerificationPlan</text><line style=\"stroke: #383838; stroke-width: 1.5;\" x1=\"87.5\" x2=\"224.5\" y1=\"350.9375\" y2=\"350.9375\"/><!--MD5=[b9389687b975829384b498ac4b7476b2]\n",
       "class E8--><rect fill=\"#FFFFFF\" height=\"66.7422\" id=\"E8\" rx=\"10\" ry=\"10\" style=\"stroke: #383838; stroke-width: 1.5;\" width=\"151\" x=\"80.5\" y=\"436\"/><text fill=\"#000000\" font-family=\"sans-serif\" font-size=\"12\" font-style=\"italic\" lengthAdjust=\"spacingAndGlyphs\" textLength=\"91\" x=\"110.5\" y=\"452.1387\">«requirement»</text><text fill=\"#000000\" font-family=\"sans-serif\" font-size=\"12\" lengthAdjust=\"spacingAndGlyphs\" textLength=\"145\" x=\"83.5\" y=\"466.1074\">obj: RequirementCheck</text><line style=\"stroke: #383838; stroke-width: 1.5;\" x1=\"81.5\" x2=\"230.5\" y1=\"473.9375\" y2=\"473.9375\"/><text fill=\"#000000\" font-family=\"sans-serif\" font-size=\"11\" lengthAdjust=\"spacingAndGlyphs\" textLength=\"12\" x=\"86.5\" y=\"488.1479\">...</text><line style=\"stroke: #383838; stroke-width: 1.0;\" x1=\"81.5\" x2=\"230.5\" y1=\"494.7422\" y2=\"494.7422\"/><!--MD5=[fd4143e9d270a159db93a4ea2a975926]\n",
       "class E9--><rect fill=\"#FFFFFF\" height=\"45.9375\" id=\"E9\" rx=\"10\" ry=\"10\" style=\"stroke: #383838; stroke-width: 1.5;\" width=\"214\" x=\"267\" y=\"446.5\"/><text fill=\"#000000\" font-family=\"sans-serif\" font-size=\"12\" font-style=\"italic\" lengthAdjust=\"spacingAndGlyphs\" textLength=\"113\" x=\"317.5\" y=\"462.6387\">«verificationCase»</text><text fill=\"#000000\" font-family=\"sans-serif\" font-size=\"12\" lengthAdjust=\"spacingAndGlyphs\" textLength=\"208\" x=\"270\" y=\"476.6074\">verificationCase: VerificationCase</text><line style=\"stroke: #383838; stroke-width: 1.5;\" x1=\"268\" x2=\"480\" y1=\"484.4375\" y2=\"484.4375\"/><!--MD5=[96f4274e9e20536e775497830990834d]\n",
       "class E10--><rect fill=\"#FFFFFF\" height=\"45.9375\" id=\"E10\" rx=\"10\" ry=\"10\" style=\"stroke: #383838; stroke-width: 1.5;\" width=\"160\" x=\"69\" y=\"580\"/><text fill=\"#000000\" font-family=\"sans-serif\" font-size=\"12\" font-style=\"italic\" lengthAdjust=\"spacingAndGlyphs\" textLength=\"91\" x=\"103.5\" y=\"596.1387\">«requirement»</text><text fill=\"#000000\" font-family=\"sans-serif\" font-size=\"12\" lengthAdjust=\"spacingAndGlyphs\" textLength=\"154\" x=\"72\" y=\"610.1074\">obj: VerificationObjective</text><line style=\"stroke: #383838; stroke-width: 1.5;\" x1=\"70\" x2=\"228\" y1=\"617.9375\" y2=\"617.9375\"/><!--MD5=[1dd1bfd58a279cf63c5f349dbc8fc6a1]\n",
       "class E11--><rect fill=\"#FFFFFF\" height=\"45.9375\" id=\"E11\" rx=\"10\" ry=\"10\" style=\"stroke: #383838; stroke-width: 1.5;\" width=\"156\" x=\"168\" y=\"41\"/><text fill=\"#000000\" font-family=\"sans-serif\" font-size=\"12\" font-style=\"italic\" lengthAdjust=\"spacingAndGlyphs\" textLength=\"40\" x=\"226\" y=\"57.1387\">«part»</text><text fill=\"#000000\" font-family=\"sans-serif\" font-size=\"12\" lengthAdjust=\"spacingAndGlyphs\" textLength=\"150\" x=\"171\" y=\"71.1074\">verificationContext: Part</text><line style=\"stroke: #383838; stroke-width: 1.5;\" x1=\"169\" x2=\"323\" y1=\"78.9375\" y2=\"78.9375\"/><!--MD5=[49a0ec8f00dab7302a31f22d0f0fe584]\n",
       "class E12--><rect fill=\"#FFFFFF\" height=\"88.3516\" id=\"E12\" rx=\"10\" ry=\"10\" style=\"stroke: #383838; stroke-width: 1.5;\" width=\"206\" x=\"143\" y=\"148\"/><text fill=\"#000000\" font-family=\"sans-serif\" font-size=\"12\" font-style=\"italic\" lengthAdjust=\"spacingAndGlyphs\" textLength=\"113\" x=\"189.5\" y=\"164.1387\">«verificationCase»</text><text fill=\"#000000\" font-family=\"sans-serif\" font-size=\"12\" lengthAdjust=\"spacingAndGlyphs\" textLength=\"200\" x=\"146\" y=\"178.1074\">verificationPlan: VerificationPlan</text><line style=\"stroke: #383838; stroke-width: 1.5;\" x1=\"144\" x2=\"348\" y1=\"185.9375\" y2=\"185.9375\"/><text fill=\"#000000\" font-family=\"sans-serif\" font-size=\"11\" lengthAdjust=\"spacingAndGlyphs\" textLength=\"50\" x=\"149\" y=\"216.9526\">v: V= vv;</text><text fill=\"#000000\" font-family=\"sans-serif\" font-size=\"11\" font-style=\"italic\" lengthAdjust=\"spacingAndGlyphs\" textLength=\"123\" x=\"149\" y=\"229.7573\">:&gt;&gt;VerificationPlan::v</text><line style=\"stroke: #383838; stroke-width: 1.0;\" x1=\"144\" x2=\"215\" y1=\"200.3398\" y2=\"200.3398\"/><text fill=\"#000000\" font-family=\"sans-serif\" font-size=\"11\" lengthAdjust=\"spacingAndGlyphs\" textLength=\"62\" x=\"215\" y=\"203.6479\">references</text><line style=\"stroke: #383838; stroke-width: 1.0;\" x1=\"277\" x2=\"348\" y1=\"200.3398\" y2=\"200.3398\"/><!--MD5=[ee3c913d1a06f366521f9ef512b67efe]\n",
       "class E13--><rect fill=\"#FFFFFF\" height=\"45.9375\" id=\"E13\" rx=\"10\" ry=\"10\" style=\"stroke: #383838; stroke-width: 1.5;\" width=\"151\" x=\"260.5\" y=\"313\"/><text fill=\"#000000\" font-family=\"sans-serif\" font-size=\"12\" font-style=\"italic\" lengthAdjust=\"spacingAndGlyphs\" textLength=\"91\" x=\"290.5\" y=\"329.1387\">«requirement»</text><text fill=\"#000000\" font-family=\"sans-serif\" font-size=\"12\" lengthAdjust=\"spacingAndGlyphs\" textLength=\"145\" x=\"263.5\" y=\"343.1074\">obj: RequirementCheck</text><line style=\"stroke: #383838; stroke-width: 1.5;\" x1=\"261.5\" x2=\"410.5\" y1=\"350.9375\" y2=\"350.9375\"/><!--MD5=[05d275557350bfb9b23a4ef7222b4c39]\n",
       "link E3 to E2--><path d=\"M263.95,611 C256.91,611 250.83,611 250.83,611 C250.83,611 250.83,697.49 250.83,697.49 \" fill=\"none\" id=\"E3-&gt;E2\" style=\"stroke: #383838; stroke-width: 1.0;\"/><polygon fill=\"#FFFFFF\" points=\"250.83,717.49,243.83,698.49,257.83,698.49,250.83,717.49\" style=\"stroke: #383838; stroke-width: 1.0;\"/><ellipse cx=\"245.83\" cy=\"692.79\" fill=\"#383838\" rx=\"2\" ry=\"2\" style=\"stroke: #383838; stroke-width: 1.0;\"/><ellipse cx=\"255.83\" cy=\"692.79\" fill=\"#383838\" rx=\"2\" ry=\"2\" style=\"stroke: #383838; stroke-width: 1.0;\"/><!--MD5=[15ebcb19ae302d9b601edb458606d402]\n",
       "link E5 to E2--><path d=\"M387.83,626.09 C387.83,643.71 387.83,665 387.83,665 C387.83,665 255.67,665 255.67,665 C255.67,665 255.67,712.4 255.67,712.4 \" fill=\"none\" id=\"E5-&gt;E2\" style=\"stroke: #383838; stroke-width: 1.0; stroke-dasharray: 7.0,7.0;\"/><polygon fill=\"#383838\" points=\"255.67,717.4,259.67,708.4,255.67,712.4,251.67,708.4,255.67,717.4\" style=\"stroke: #383838; stroke-width: 1.0;\"/><text fill=\"#000000\" font-family=\"sans-serif\" font-size=\"13\" lengthAdjust=\"spacingAndGlyphs\" textLength=\"62\" x=\"287\" y=\"669.0669\">«subject»</text><!--MD5=[9120cf2e5df3bff93db8f754bbbc09b4]\n",
       "link E5 to E6--><path d=\"M434.17,626.14 C434.17,626.14 434.17,694.71 434.17,694.71 \" fill=\"none\" id=\"E5-&gt;E6\" style=\"stroke: #383838; stroke-width: 1.0;\"/><polygon fill=\"#383838\" points=\"434.17,702.71,437.17,694.71,431.17,694.71,434.17,702.71\" style=\"stroke: #383838; stroke-width: 1.0;\"/><text fill=\"#000000\" font-family=\"sans-serif\" font-size=\"13\" lengthAdjust=\"spacingAndGlyphs\" textLength=\"73\" x=\"399\" y=\"669.0669\">«objective»</text><!--MD5=[f667431f98296947986a1a7595a31603]\n",
       "link E6 to E4--><path d=\"M390,791.2 C390,791.2 390,831.8 390,831.8 \" fill=\"none\" id=\"E6-&gt;E4\" style=\"stroke: #383838; stroke-width: 1.0;\"/><polygon fill=\"#FFFFFF\" points=\"390,851.8,383,832.8,397,832.8,390,851.8\" style=\"stroke: #383838; stroke-width: 1.0;\"/><ellipse cx=\"385\" cy=\"827.1\" fill=\"#383838\" rx=\"2\" ry=\"2\" style=\"stroke: #383838; stroke-width: 1.0;\"/><ellipse cx=\"395\" cy=\"827.1\" fill=\"#383838\" rx=\"2\" ry=\"2\" style=\"stroke: #383838; stroke-width: 1.0;\"/><!--MD5=[583832df87f4419a098336a29a52fa00]\n",
       "link E7 to E2--><path d=\"M225.83,344 C232.21,344 236.33,344 236.33,344 C236.33,344 236.33,712.37 236.33,712.37 \" fill=\"none\" id=\"E7-&gt;E2\" style=\"stroke: #383838; stroke-width: 1.0; stroke-dasharray: 7.0,7.0;\"/><polygon fill=\"#383838\" points=\"236.33,717.37,240.33,708.37,236.33,712.37,232.33,708.37,236.33,717.37\" style=\"stroke: #383838; stroke-width: 1.0;\"/><text fill=\"#000000\" font-family=\"sans-serif\" font-size=\"13\" lengthAdjust=\"spacingAndGlyphs\" textLength=\"62\" x=\"68\" y=\"546.0669\">«subject»</text><!--MD5=[79bc8f324ef4d02c541433f2e6e513c3]\n",
       "link E7 to E8--><path d=\"M156,359.25 C156,359.25 156,427.75 156,427.75 \" fill=\"none\" id=\"E7-&gt;E8\" style=\"stroke: #383838; stroke-width: 1.0;\"/><polygon fill=\"#383838\" points=\"156,435.75,159,427.75,153,427.75,156,435.75\" style=\"stroke: #383838; stroke-width: 1.0;\"/><text fill=\"#000000\" font-family=\"sans-serif\" font-size=\"13\" lengthAdjust=\"spacingAndGlyphs\" textLength=\"73\" x=\"157\" y=\"402.0669\">«objective»</text><!--MD5=[bfc3ddf2e613be37104f658f09af896c]\n",
       "link E9 to E5--><path d=\"M411,492.75 C411,492.75 411,559.56 411,559.56 \" fill=\"none\" id=\"E9-&gt;E5\" style=\"stroke: #383838; stroke-width: 1.0;\"/><polygon fill=\"#FFFFFF\" points=\"411,579.56,404,560.56,418,560.56,411,579.56\" style=\"stroke: #383838; stroke-width: 1.0;\"/><ellipse cx=\"406\" cy=\"554.86\" fill=\"#383838\" rx=\"2\" ry=\"2\" style=\"stroke: #383838; stroke-width: 1.0;\"/><ellipse cx=\"416\" cy=\"554.86\" fill=\"#383838\" rx=\"2\" ry=\"2\" style=\"stroke: #383838; stroke-width: 1.0;\"/><!--MD5=[e4a10ef82d0e328e31cac39a31e58dda]\n",
       "reverse link E7 to E9--><path d=\"M238.58,329 C238.58,329 246,329 246,329 C246,329 246,462 246,462 C246,462 254.38,462 266.85,462 \" fill=\"none\" id=\"E7&lt;-E9\" style=\"stroke: #383838; stroke-width: 1.0;\"/><polygon fill=\"#383838\" points=\"225.58,329,231.58,333,237.58,329,231.58,325,225.58,329\" style=\"stroke: #383838; stroke-width: 1.0;\"/><!--MD5=[35e5f1cbde42fa304a029880aa2bc7f2]\n",
       "link E9 to E10--><path d=\"M266.78,478 C251.67,478 241.17,478 241.17,478 C241.17,478 241.17,596 241.17,596 C241.17,596 237.12,596 237.12,596 \" fill=\"none\" id=\"E9-&gt;E10\" style=\"stroke: #383838; stroke-width: 1.0;\"/><polygon fill=\"#383838\" points=\"229.12,596,237.12,599,237.12,593,229.12,596\" style=\"stroke: #383838; stroke-width: 1.0;\"/><text fill=\"#000000\" font-family=\"sans-serif\" font-size=\"13\" lengthAdjust=\"spacingAndGlyphs\" textLength=\"73\" x=\"251\" y=\"546.0669\">«objective»</text><!--MD5=[ae660f5ecd7ddb04a8913625960940af]\n",
       "link E12 to E7--><path d=\"M184.25,236.38 C184.25,236.38 184.25,292.88 184.25,292.88 \" fill=\"none\" id=\"E12-&gt;E7\" style=\"stroke: #383838; stroke-width: 1.0;\"/><polygon fill=\"#FFFFFF\" points=\"184.25,312.88,177.25,293.88,191.25,293.88,184.25,312.88\" style=\"stroke: #383838; stroke-width: 1.0;\"/><ellipse cx=\"179.25\" cy=\"288.18\" fill=\"#383838\" rx=\"2\" ry=\"2\" style=\"stroke: #383838; stroke-width: 1.0;\"/><ellipse cx=\"189.25\" cy=\"288.18\" fill=\"#383838\" rx=\"2\" ry=\"2\" style=\"stroke: #383838; stroke-width: 1.0;\"/><!--MD5=[94adabc162ce7e41b39f13be14fbaeb3]\n",
       "reverse link E11 to E12--><path d=\"M246,100.18 C246,100.18 246,147.76 246,147.76 \" fill=\"none\" id=\"E11&lt;-E12\" style=\"stroke: #383838; stroke-width: 1.0;\"/><polygon fill=\"#383838\" points=\"246,87.18,242,93.18,246,99.18,250,93.18,246,87.18\" style=\"stroke: #383838; stroke-width: 1.0;\"/><!--MD5=[e2a9ac97dcd3257bb5342dae06547bad]\n",
       "link E12 to E13--><path d=\"M304.75,236.38 C304.75,236.38 304.75,304.88 304.75,304.88 \" fill=\"none\" id=\"E12-&gt;E13\" style=\"stroke: #383838; stroke-width: 1.0;\"/><polygon fill=\"#383838\" points=\"304.75,312.88,307.75,304.88,301.75,304.88,304.75,312.88\" style=\"stroke: #383838; stroke-width: 1.0;\"/><text fill=\"#000000\" font-family=\"sans-serif\" font-size=\"13\" lengthAdjust=\"spacingAndGlyphs\" textLength=\"73\" x=\"302\" y=\"279.0669\">«objective»</text><!--MD5=[ada0fa8779f710d515cbd7527ef325be]\n",
       "@startuml\r\n",
       "skinparam linetype ortho\r\n",
       "skinparam monochrome true\r\n",
       "skinparam classbackgroundcolor white\r\n",
       "skinparam shadowing false\r\n",
       "skinparam wrapWidth 300\r\n",
       "hide circle\r\n",
       "\r\n",
       "package \"VerificationTest\" as E1   {\r\n",
       "comp def \"V\" as E2  <<(T,blue)part def>> {\r\n",
       "m: Integer\r\n",
       "}\r\n",
       "comp usage \"vv: V\" as E3  <<(T,blue)part>> {\r\n",
       "}\r\n",
       "comp def \"VerificationObjective\" as E4  <<(T,blue)requirement def>> {\r\n",
       "...\r\n",
       "- -\r\n",
       "}\r\n",
       "comp def \"VerificationCase\" as E5  <<(T,blue)verificationCase def>> {\r\n",
       "}\r\n",
       "comp usage \"obj: VerificationObjective\" as E6  <<(T,blue)requirement>> {\r\n",
       "- -references- -\r\n",
       "subj: Anything= v; \\n//:>>VerificationObjective::subj// \r\n",
       "}\r\n",
       "comp def \"VerificationPlan\" as E7  <<(T,blue)verificationCase def>> {\r\n",
       "}\r\n",
       "comp usage \"obj: RequirementCheck\" as E8  <<(T,blue)requirement>> {\r\n",
       "...\r\n",
       "- -\r\n",
       "}\r\n",
       "comp usage \"verificationCase: VerificationCase\" as E9  <<(T,blue)verificationCase>> {\r\n",
       "}\r\n",
       "comp usage \"obj: VerificationObjective\" as E10  <<(T,blue)requirement>> {\r\n",
       "}\r\n",
       "comp usage \"verificationContext: Part\" as E11  <<(T,blue)part>> {\r\n",
       "}\r\n",
       "comp usage \"verificationPlan: VerificationPlan\" as E12  <<(T,blue)verificationCase>> {\r\n",
       "- -references- -\r\n",
       "v: V= vv; \\n//:>>VerificationPlan::v// \r\n",
       "}\r\n",
       "comp usage \"obj: RequirementCheck\" as E13  <<(T,blue)requirement>> {\r\n",
       "}\r\n",
       "E3 - -:|> E2\r\n",
       "E5 ..> E2 : <<subject>>\r\n",
       "E5 - ->> E6 : <<objective>>\r\n",
       "E6 - -:|> E4\r\n",
       "E7 ..> E2 : <<subject>>\r\n",
       "E7 - ->> E8 : <<objective>>\r\n",
       "E9 - -:|> E5\r\n",
       "E7 *- - E9\r\n",
       "E9 - ->> E10 : <<objective>>\r\n",
       "E12 - -:|> E7\r\n",
       "E11 *- - E12\r\n",
       "E12 - ->> E13 : <<objective>>\r\n",
       "}\r\n",
       "@enduml\r\n",
       "\n",
       "PlantUML version 1.2020.13(Sat Jun 13 12:26:38 UTC 2020)\n",
       "(EPL source distribution)\n",
       "Java Runtime: OpenJDK Runtime Environment\n",
       "JVM: OpenJDK 64-Bit Server VM\n",
       "Default Encoding: UTF-8\n",
       "Language: en\n",
       "Country: null\n",
       "--></g></svg>"
      ]
     },
     "execution_count": 56,
     "metadata": {},
     "output_type": "execute_result"
    }
   ],
   "source": [
    "%viz --style=\"ORTHOLINE\" --view=\"Sequence\" \"VerificationTest\""
   ]
  },
  {
   "cell_type": "code",
   "execution_count": 57,
   "id": "tropical-address",
   "metadata": {
    "execution": {
     "iopub.execute_input": "2021-03-25T15:58:09.915092Z",
     "iopub.status.busy": "2021-03-25T15:58:09.914701Z",
     "iopub.status.idle": "2021-03-25T15:58:10.685314Z",
     "shell.execute_reply": "2021-03-25T15:58:10.683664Z"
    }
   },
   "outputs": [
    {
     "data": {
      "image/svg+xml": [
       "<?xml version=\"1.0\" encoding=\"UTF-8\" standalone=\"no\"?><svg xmlns=\"http://www.w3.org/2000/svg\" xmlns:xlink=\"http://www.w3.org/1999/xlink\" contentScriptType=\"application/ecmascript\" contentStyleType=\"text/css\" height=\"562px\" preserveAspectRatio=\"none\" style=\"width:793px;height:562px;\" version=\"1.1\" viewBox=\"0 0 793 562\" width=\"793px\" zoomAndPan=\"magnify\"><defs/><g><!--MD5=[fbc87193dbaf4d95561dea2c320d4a47]\n",
       "cluster E1--><polygon fill=\"#FFFFFF\" points=\"16,6,147,6,154,28.2969,771,28.2969,771,550,16,550,16,6\" style=\"stroke: #000000; stroke-width: 1.5;\"/><line style=\"stroke: #000000; stroke-width: 1.5;\" x1=\"16\" x2=\"154\" y1=\"28.2969\" y2=\"28.2969\"/><text fill=\"#000000\" font-family=\"sans-serif\" font-size=\"14\" font-weight=\"bold\" lengthAdjust=\"spacingAndGlyphs\" textLength=\"125\" x=\"20\" y=\"20.9951\">VerificationTest</text><!--MD5=[de5ec2e2e8f62f467e546659f5068c88]\n",
       "cluster E5--><rect fill=\"#FFFFFF\" height=\"341.5\" style=\"stroke: #000000; stroke-width: 1.5;\" width=\"200\" x=\"544\" y=\"74.5\"/><text fill=\"#000000\" font-family=\"sans-serif\" font-size=\"14\" font-weight=\"bold\" lengthAdjust=\"spacingAndGlyphs\" textLength=\"129\" x=\"579.5\" y=\"89.4951\">VerificationCase</text><!--MD5=[917b9dd0c7eca3ee5f47219d1a84c0ad]\n",
       "cluster E11--><rect fill=\"#FFFFFF\" height=\"313\" style=\"stroke: #000000; stroke-width: 1.5;\" width=\"188\" x=\"254\" y=\"213\"/><text fill=\"#000000\" font-family=\"sans-serif\" font-size=\"14\" font-weight=\"bold\" lengthAdjust=\"spacingAndGlyphs\" textLength=\"123\" x=\"286.5\" y=\"227.9951\">VerificationPlan</text><!--MD5=[b4997ac47864f28c2f74865a473b2911]\n",
       "class E2--><rect fill=\"#FFFFFF\" height=\"58.7422\" id=\"E2\" style=\"stroke: #383838; stroke-width: 1.5;\" width=\"71\" x=\"458.5\" y=\"183.5\"/><text fill=\"#000000\" font-family=\"sans-serif\" font-size=\"12\" font-style=\"italic\" lengthAdjust=\"spacingAndGlyphs\" textLength=\"64\" x=\"462\" y=\"199.6387\">«part def»</text><text fill=\"#000000\" font-family=\"sans-serif\" font-size=\"12\" lengthAdjust=\"spacingAndGlyphs\" textLength=\"8\" x=\"490\" y=\"213.6074\">V</text><line style=\"stroke: #383838; stroke-width: 1.5;\" x1=\"459.5\" x2=\"528.5\" y1=\"221.4375\" y2=\"221.4375\"/><text fill=\"#000000\" font-family=\"sans-serif\" font-size=\"11\" lengthAdjust=\"spacingAndGlyphs\" textLength=\"59\" x=\"464.5\" y=\"235.6479\">m: Integer</text><!--MD5=[09b614a08d8cba4a07c9adeb5e0fee81]\n",
       "class E3--><rect fill=\"#FFFFFF\" height=\"45.9375\" id=\"E3\" rx=\"10\" ry=\"10\" style=\"stroke: #383838; stroke-width: 1.5;\" width=\"42\" x=\"473\" y=\"51.5\"/><text fill=\"#000000\" font-family=\"sans-serif\" font-size=\"12\" font-style=\"italic\" lengthAdjust=\"spacingAndGlyphs\" textLength=\"40\" x=\"474\" y=\"67.6387\">«part»</text><text fill=\"#000000\" font-family=\"sans-serif\" font-size=\"12\" lengthAdjust=\"spacingAndGlyphs\" textLength=\"28\" x=\"480\" y=\"81.6074\">vv: V</text><line style=\"stroke: #383838; stroke-width: 1.5;\" x1=\"474\" x2=\"514\" y1=\"89.4375\" y2=\"89.4375\"/><!--MD5=[ebbe1d658d1005bcc118a6aa81145e00]\n",
       "class E4--><rect fill=\"#FFFFFF\" height=\"66.7422\" id=\"E4\" style=\"stroke: #383838; stroke-width: 1.5;\" width=\"133\" x=\"276.5\" y=\"41\"/><text fill=\"#000000\" font-family=\"sans-serif\" font-size=\"12\" font-style=\"italic\" lengthAdjust=\"spacingAndGlyphs\" textLength=\"115\" x=\"285.5\" y=\"57.1387\">«requirement def»</text><text fill=\"#000000\" font-family=\"sans-serif\" font-size=\"12\" lengthAdjust=\"spacingAndGlyphs\" textLength=\"127\" x=\"279.5\" y=\"71.1074\">VerificationObjective</text><line style=\"stroke: #383838; stroke-width: 1.5;\" x1=\"277.5\" x2=\"408.5\" y1=\"78.9375\" y2=\"78.9375\"/><text fill=\"#000000\" font-family=\"sans-serif\" font-size=\"11\" lengthAdjust=\"spacingAndGlyphs\" textLength=\"12\" x=\"282.5\" y=\"93.1479\">...</text><line style=\"stroke: #383838; stroke-width: 1.0;\" x1=\"277.5\" x2=\"408.5\" y1=\"99.7422\" y2=\"99.7422\"/><!--MD5=[bee11217b2f71d958a27249dc326068c]\n",
       "class E14--><rect fill=\"#FFFFFF\" height=\"45.9375\" id=\"E14\" rx=\"10\" ry=\"10\" style=\"stroke: #383838; stroke-width: 1.5;\" width=\"156\" x=\"57\" y=\"51.5\"/><text fill=\"#000000\" font-family=\"sans-serif\" font-size=\"12\" font-style=\"italic\" lengthAdjust=\"spacingAndGlyphs\" textLength=\"40\" x=\"115\" y=\"67.6387\">«part»</text><text fill=\"#000000\" font-family=\"sans-serif\" font-size=\"12\" lengthAdjust=\"spacingAndGlyphs\" textLength=\"150\" x=\"60\" y=\"81.6074\">verificationContext: Part</text><line style=\"stroke: #383838; stroke-width: 1.5;\" x1=\"58\" x2=\"212\" y1=\"89.4375\" y2=\"89.4375\"/><!--MD5=[0c48fb7552dae8cbbef69381101a84c8]\n",
       "class E15--><rect fill=\"#FFFFFF\" height=\"88.3516\" id=\"E15\" rx=\"10\" ry=\"10\" style=\"stroke: #383838; stroke-width: 1.5;\" width=\"206\" x=\"32\" y=\"169\"/><text fill=\"#000000\" font-family=\"sans-serif\" font-size=\"12\" font-style=\"italic\" lengthAdjust=\"spacingAndGlyphs\" textLength=\"113\" x=\"78.5\" y=\"185.1387\">«verificationCase»</text><text fill=\"#000000\" font-family=\"sans-serif\" font-size=\"12\" lengthAdjust=\"spacingAndGlyphs\" textLength=\"200\" x=\"35\" y=\"199.1074\">verificationPlan: VerificationPlan</text><line style=\"stroke: #383838; stroke-width: 1.5;\" x1=\"33\" x2=\"237\" y1=\"206.9375\" y2=\"206.9375\"/><text fill=\"#000000\" font-family=\"sans-serif\" font-size=\"11\" lengthAdjust=\"spacingAndGlyphs\" textLength=\"50\" x=\"38\" y=\"237.9526\">v: V= vv;</text><text fill=\"#000000\" font-family=\"sans-serif\" font-size=\"11\" font-style=\"italic\" lengthAdjust=\"spacingAndGlyphs\" textLength=\"123\" x=\"38\" y=\"250.7573\">:&gt;&gt;VerificationPlan::v</text><line style=\"stroke: #383838; stroke-width: 1.0;\" x1=\"33\" x2=\"104\" y1=\"221.3398\" y2=\"221.3398\"/><text fill=\"#000000\" font-family=\"sans-serif\" font-size=\"11\" lengthAdjust=\"spacingAndGlyphs\" textLength=\"62\" x=\"104\" y=\"224.6479\">references</text><line style=\"stroke: #383838; stroke-width: 1.0;\" x1=\"166\" x2=\"237\" y1=\"221.3398\" y2=\"221.3398\"/><!--MD5=[35f0587eaee8d5bb9a02e25b63afc23b]\n",
       "class E16--><rect fill=\"#FFFFFF\" height=\"45.9375\" id=\"E16\" rx=\"10\" ry=\"10\" style=\"stroke: #383838; stroke-width: 1.5;\" width=\"151\" x=\"59.5\" y=\"334\"/><text fill=\"#000000\" font-family=\"sans-serif\" font-size=\"12\" font-style=\"italic\" lengthAdjust=\"spacingAndGlyphs\" textLength=\"91\" x=\"89.5\" y=\"350.1387\">«requirement»</text><text fill=\"#000000\" font-family=\"sans-serif\" font-size=\"12\" lengthAdjust=\"spacingAndGlyphs\" textLength=\"145\" x=\"62.5\" y=\"364.1074\">obj: RequirementCheck</text><line style=\"stroke: #383838; stroke-width: 1.5;\" x1=\"60.5\" x2=\"209.5\" y1=\"371.9375\" y2=\"371.9375\"/><text fill=\"#000000\" font-family=\"sans-serif\" font-size=\"14\" lengthAdjust=\"spacingAndGlyphs\" textLength=\"7\" x=\"558.5\" y=\"53.1982\">v</text><rect fill=\"#383838\" height=\"12\" style=\"stroke: #F8F8F8; stroke-width: 1.5;\" width=\"12\" x=\"556\" y=\"68.5\"/><text fill=\"#000000\" font-family=\"sans-serif\" font-size=\"14\" lengthAdjust=\"spacingAndGlyphs\" textLength=\"48\" x=\"549\" y=\"434.9951\">$result</text><rect fill=\"#383838\" height=\"12\" style=\"stroke: #F8F8F8; stroke-width: 1.5;\" width=\"12\" x=\"567\" y=\"410\"/><text fill=\"#000000\" font-family=\"sans-serif\" font-size=\"14\" lengthAdjust=\"spacingAndGlyphs\" textLength=\"16\" x=\"636\" y=\"53.1982\">$x</text><rect fill=\"#383838\" height=\"12\" style=\"stroke: #F8F8F8; stroke-width: 1.5;\" width=\"12\" x=\"638\" y=\"68.5\"/><text fill=\"#000000\" font-family=\"sans-serif\" font-size=\"14\" lengthAdjust=\"spacingAndGlyphs\" textLength=\"16\" x=\"718\" y=\"53.1982\">$y</text><rect fill=\"#383838\" height=\"12\" style=\"stroke: #F8F8F8; stroke-width: 1.5;\" width=\"12\" x=\"720\" y=\"68.5\"/><text fill=\"#000000\" font-family=\"sans-serif\" font-size=\"14\" lengthAdjust=\"spacingAndGlyphs\" textLength=\"48\" x=\"631\" y=\"434.9951\">$result</text><rect fill=\"#383838\" height=\"12\" style=\"stroke: #F8F8F8; stroke-width: 1.5;\" width=\"12\" x=\"649\" y=\"410\"/><text fill=\"#000000\" font-family=\"sans-serif\" font-size=\"14\" lengthAdjust=\"spacingAndGlyphs\" textLength=\"7\" x=\"344.5\" y=\"191.6982\">v</text><rect fill=\"#383838\" height=\"12\" style=\"stroke: #F8F8F8; stroke-width: 1.5;\" width=\"12\" x=\"342\" y=\"207\"/><g id=\"E1.E11.E13\"><rect fill=\"#FFFFFF\" height=\"50\" rx=\"12.5\" ry=\"12.5\" style=\"stroke: #383838; stroke-width: 1.5;\" width=\"128\" x=\"284\" y=\"452\"/><line style=\"stroke: #383838; stroke-width: 1.5;\" x1=\"284\" x2=\"412\" y1=\"478.2969\" y2=\"478.2969\"/><text fill=\"#000000\" font-family=\"sans-serif\" font-size=\"14\" lengthAdjust=\"spacingAndGlyphs\" textLength=\"108\" x=\"294\" y=\"469.9951\">verificationCase</text></g><!--MD5=[05d275557350bfb9b23a4ef7222b4c39]\n",
       "link E3 to E2--><path d=\"M494,97.68 C494,97.68 494,163.46 494,163.46 \" fill=\"none\" id=\"E3-&gt;E2\" style=\"stroke: #383838; stroke-width: 1.0;\"/><polygon fill=\"#FFFFFF\" points=\"494,183.46,487,164.46,501,164.46,494,183.46\" style=\"stroke: #383838; stroke-width: 1.0;\"/><ellipse cx=\"489\" cy=\"158.76\" fill=\"#383838\" rx=\"2\" ry=\"2\" style=\"stroke: #383838; stroke-width: 1.0;\"/><ellipse cx=\"499\" cy=\"158.76\" fill=\"#383838\" rx=\"2\" ry=\"2\" style=\"stroke: #383838; stroke-width: 1.0;\"/><!--MD5=[cf04703ca05eebef50f1cfe8b03e143b]\n",
       "link E9 to E7--><path d=\"M728,80.75 C728,114.76 728,276 728,276 C728,276 573,276 573,276 C573,276 573,383.19 573,409.98 \" fill=\"none\" id=\"E9-E7\" style=\"stroke: #383838; stroke-width: 5.0;\"/><!--MD5=[58d440dfd4c930e286431b4800d1b487]\n",
       "link E15 to E11--><path d=\"M224.25,257.38 C224.25,299.69 224.25,357 224.25,357 C224.25,357 230.7125,357 240.6838,357 C243.1766,357 245.8887,357 248.7739,357 C250.2166,357 251.7025,357 253.2259,357 C253.4163,357 253.6073,357 253.7989,357 \" fill=\"none\" id=\"E15-&gt;E11\" style=\"stroke: #383838; stroke-width: 1.0;\"/><polygon fill=\"#FFFFFF\" points=\"253.7989,357,234.7989,364,234.7989,350,253.7989,357\" style=\"stroke: #383838; stroke-width: 1.0;\"/><ellipse cx=\"229.0989\" cy=\"362\" fill=\"#383838\" rx=\"2\" ry=\"2\" style=\"stroke: #383838; stroke-width: 1.0;\"/><ellipse cx=\"229.0989\" cy=\"352\" fill=\"#383838\" rx=\"2\" ry=\"2\" style=\"stroke: #383838; stroke-width: 1.0;\"/><!--MD5=[17bf29720e4688890742b92d9a67fdf0]\n",
       "reverse link E14 to E15--><path d=\"M135,110.68 C135,110.68 135,168.72 135,168.72 \" fill=\"none\" id=\"E14&lt;-E15\" style=\"stroke: #383838; stroke-width: 1.0;\"/><polygon fill=\"#383838\" points=\"135,97.68,131,103.68,135,109.68,139,103.68,135,97.68\" style=\"stroke: #383838; stroke-width: 1.0;\"/><!--MD5=[f8b155c46b092be73bb522b0a8fc72a2]\n",
       "link E15 to E16--><path d=\"M135,257.38 C135,257.38 135,325.88 135,325.88 \" fill=\"none\" id=\"E15-&gt;E16\" style=\"stroke: #383838; stroke-width: 1.0;\"/><polygon fill=\"#383838\" points=\"135,333.88,138,325.88,132,325.88,135,333.88\" style=\"stroke: #383838; stroke-width: 1.0;\"/><text fill=\"#000000\" font-family=\"sans-serif\" font-size=\"13\" lengthAdjust=\"spacingAndGlyphs\" textLength=\"73\" x=\"136\" y=\"300.0669\">«objective»</text><!--MD5=[f7dd5bd75f1da18384bcc530ddc46a54]\n",
       "@startuml\r\n",
       "skinparam linetype ortho\r\n",
       "skinparam monochrome true\r\n",
       "skinparam classbackgroundcolor white\r\n",
       "skinparam shadowing false\r\n",
       "skinparam wrapWidth 300\r\n",
       "hide circle\r\n",
       "\r\n",
       "package \"VerificationTest\" as E1   {\r\n",
       "comp def \"V\" as E2  <<(T,blue)part def>> {\r\n",
       "m: Integer\r\n",
       "}\r\n",
       "comp usage \"vv: V\" as E3  <<(T,blue)part>> {\r\n",
       "}\r\n",
       "comp def \"VerificationObjective\" as E4  <<(T,blue)requirement def>> {\r\n",
       "...\r\n",
       "- -\r\n",
       "}\r\n",
       "rec def \"VerificationCase\" as E5 {\r\n",
       "portin \"v\" as E6  \r\n",
       "portout \"$result\" as E7  \r\n",
       "portin \"$x\" as E8  \r\n",
       "portin \"$y\" as E9  \r\n",
       "portout \"$result\" as E10  \r\n",
       "}\r\n",
       "\r\n",
       "rec def \"VerificationPlan\" as E11 {\r\n",
       "portin \"v\" as E12  \r\n",
       "rec usage \"verificationCase\" as E13 {\r\n",
       "}\r\n",
       "\r\n",
       "}\r\n",
       "\r\n",
       "comp usage \"verificationContext: Part\" as E14  <<(T,blue)part>> {\r\n",
       "}\r\n",
       "comp usage \"verificationPlan: VerificationPlan\" as E15  <<(T,blue)verificationCase>> {\r\n",
       "- -references- -\r\n",
       "v: V= vv; \\n//:>>VerificationPlan::v// \r\n",
       "}\r\n",
       "comp usage \"obj: RequirementCheck\" as E16  <<(T,blue)requirement>> {\r\n",
       "}\r\n",
       "E3 - -:|> E2\r\n",
       "E9 -[thickness=5]- E7\r\n",
       "E15 - -:|> E11\r\n",
       "E14 *- - E15\r\n",
       "E15 - ->> E16 : <<objective>>\r\n",
       "}\r\n",
       "@enduml\r\n",
       "\n",
       "PlantUML version 1.2020.13(Sat Jun 13 12:26:38 UTC 2020)\n",
       "(EPL source distribution)\n",
       "Java Runtime: OpenJDK Runtime Environment\n",
       "JVM: OpenJDK 64-Bit Server VM\n",
       "Default Encoding: UTF-8\n",
       "Language: en\n",
       "Country: null\n",
       "--></g></svg>"
      ]
     },
     "execution_count": 57,
     "metadata": {},
     "output_type": "execute_result"
    }
   ],
   "source": [
    "%viz --style=\"ORTHOLINE\" --view=\"MIXED\" \"VerificationTest\""
   ]
  }
 ],
 "metadata": {
  "kernelspec": {
   "display_name": "SysML",
   "language": "sysml",
   "name": "sysml"
  },
  "language_info": {
   "codemirror_mode": "sysml",
   "file_extension": ".sysml",
   "mimetype": "text/x-sysml",
   "name": "SysML",
   "pygments_lexer": "java",
   "version": "1.0.0"
  }
 },
 "nbformat": 4,
 "nbformat_minor": 5
}
