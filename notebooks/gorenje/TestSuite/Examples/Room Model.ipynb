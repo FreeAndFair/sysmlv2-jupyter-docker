{
 "cells": [
  {
   "cell_type": "markdown",
   "id": "05cfda8e",
   "metadata": {},
   "source": [
    "# SysML v2 Test Suite\n",
    "\n",
    "This can notebook can be cleared using menu `Edit --> Clear All Outputs` and then all cells can be\n",
    "run using menu `Run --> Run All Cells`.\n",
    "\n",
    "**WARNING**: This file is generated, all modifications here will be ignored.\n"
   ]
  },
  {
   "cell_type": "markdown",
   "id": "7aa3cbb8",
   "metadata": {},
   "source": [
    "## Base Example Directory: ../../sysml/src/examples/Room Model"
   ]
  },
  {
   "cell_type": "markdown",
   "id": "6b32590e",
   "metadata": {},
   "source": [
    "## File: RoomModel.sysml"
   ]
  },
  {
   "cell_type": "code",
   "execution_count": 1,
   "id": "9aa0b28f",
   "metadata": {
    "execution": {
     "iopub.execute_input": "2021-04-21T20:28:05.419163Z",
     "iopub.status.busy": "2021-04-21T20:28:05.418285Z",
     "iopub.status.idle": "2021-04-21T20:28:06.222633Z",
     "shell.execute_reply": "2021-04-21T20:28:06.217425Z"
    }
   },
   "outputs": [
    {
     "data": {
      "text/plain": [
       "Package RoomModel (a3dd6db2-6ed8-426d-8ae7-4a329e1d1aa3)\n"
      ]
     },
     "execution_count": 1,
     "metadata": {},
     "output_type": "execute_result"
    }
   ],
   "source": [
    "// SysML v2 Interpretation of the SysML v1 Room Connection Example\n",
    "package RoomModel { \n",
    "    package RoomDefinitionModelLibrary{\n",
    "        import Port_Definitions::*;\n",
    "        import Flow_Definitions::*;\n",
    "        package Part_Definitions{\n",
    "            // Rooms\n",
    "            part def Classroom {\n",
    "                port classEntry: EntryWay_to_Classroom;\n",
    "            }\n",
    "            part def Storageroom {\n",
    "                port storageEntry: EntryWay_to_Storageroom;\n",
    "            }\n",
    "            part def Hallway {\n",
    "                // conjugate ports with ~\n",
    "                port hallExit_to_Classroom: ~EntryWay_to_Classroom;\n",
    "                port hallExit_to_Storageroom: ~EntryWay_to_Storageroom;\n",
    "            }\n",
    "        }\n",
    "        package Port_Definitions{\n",
    "            port def EntryWay_to_Classroom {\n",
    "                //flow properties\n",
    "                in ref student:Student;\n",
    "                in ref teacher:Teacher;\n",
    "                in ref furniture:Furniture;\n",
    "                in ref air:Air;\n",
    "            }\n",
    "            port def EntryWay_to_Storageroom {\n",
    "                //flow properties\n",
    "                in ref furniture:  Furniture;\n",
    "                in ref air: Air;\n",
    "            }\n",
    "        }\n",
    "        package Flow_Definitions {\n",
    "                //  Conveyed items between Hallway, Classroom, and Storageroom\n",
    "                part def Air;\n",
    "                part def Furniture;\n",
    "                part def Student;\n",
    "                part def Teacher;\n",
    "        }\n",
    "    }\n",
    "    package Room_Configuration{\n",
    "        // defining the parts and their interconnection in context \n",
    "        import RoomDefinitionModelLibrary::*;\n",
    "        import RoomDefinitionModelLibrary::Part_Definitions::*;\n",
    "        import RoomDefinitionModelLibrary::Port_Definitions::*;\n",
    "        import RoomDefinitionModelLibrary::Flow_Definitions::*;\n",
    "        part roomContext{\n",
    "            part c:Classroom {\n",
    "            \tport classEntry redefines Classroom::classEntry {\n",
    "\t                in ref student redefines Classroom::classEntry::student;\n",
    "\t                in ref teacher redefines Classroom::classEntry::teacher;\n",
    "\t                in ref furniture redefines Classroom::classEntry::furniture;\n",
    "\t                in ref air redefines Classroom::classEntry::air;            \t\t\n",
    "            \t}\n",
    "            }\n",
    "            part s:Storageroom {\n",
    "            \tport storageEntry redefines Storageroom::storageEntry{ \n",
    "\t                in ref furniture redefines Storageroom::storageEntry::furniture;\n",
    "\t                in ref air redefines Storageroom::storageEntry::air;\n",
    "            \t}\n",
    "            }\n",
    "            part h:Hallway {\n",
    "                port hallExit_to_Classroom redefines Hallway::hallExit_to_Classroom {\n",
    "\t                out ref student redefines Hallway::hallExit_to_Classroom::student;\n",
    "\t                out ref teacher redefines Hallway::hallExit_to_Classroom::teacher;\n",
    "\t                out ref furniture redefines Hallway::hallExit_to_Classroom::furniture;\n",
    "\t                out ref air redefines Hallway::hallExit_to_Classroom::air;            \t\t\n",
    "               }\n",
    "                port hallExit_to_Storageroom redefines Hallway::hallExit_to_Storageroom {\n",
    "\t                out ref furniture redefines Hallway::hallExit_to_Storageroom::furniture;\n",
    "\t                out ref air redefines Hallway::hallExit_to_Storageroom::air;\n",
    "                }           \t\n",
    "            }\n",
    "            \n",
    "    \t\t//  Connectors and item flows between hallway and classroom\n",
    "            stream HallToClassroom_Air\n",
    "                from h::hallExit_to_Classroom::air\n",
    "                to c::classEntry::air;\n",
    "            stream HallToClassroom_Furniture\n",
    "                from h::hallExit_to_Classroom::furniture\n",
    "                to c::classEntry::furniture;\n",
    "            stream HallToClassroom_Student\n",
    "                from h::hallExit_to_Classroom::student\n",
    "                to c::classEntry::student;\n",
    "            stream HallToClassroom_Teacher\n",
    "                from h::hallExit_to_Classroom::teacher\n",
    "                to c::classEntry::teacher;\n",
    "            stream HallToStorageroom_Air\n",
    "                from h::hallExit_to_Storageroom::air\n",
    "                to s::storageEntry::air;\n",
    "            stream HallToStorageroom_Furniture\n",
    "                from h::hallExit_to_Storageroom::furniture\n",
    "                to s::storageEntry::furniture;\n",
    "        }\n",
    "    }\n",
    "}\n",
    "\n",
    "\n",
    "\n"
   ]
  }
 ],
 "metadata": {
  "kernelspec": {
   "display_name": "SysML",
   "language": "sysml",
   "name": "sysml"
  },
  "language_info": {
   "codemirror_mode": "sysml",
   "file_extension": ".sysml",
   "mimetype": "text/x-sysml",
   "name": "SysML",
   "pygments_lexer": "java",
   "version": "1.0.0"
  }
 },
 "nbformat": 4,
 "nbformat_minor": 5
}
