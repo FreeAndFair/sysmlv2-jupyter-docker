{
 "cells": [
  {
   "cell_type": "markdown",
   "id": "c38d76e8",
   "metadata": {},
   "source": [
    "# SysML v2 Test Suite\n",
    "\n",
    "This can notebook can be cleared using menu `Edit --> Clear All Outputs` and then all cells can be\n",
    "run using menu `Run --> Run All Cells`.\n",
    "\n",
    "**WARNING**: This file is generated, all modifications here will be ignored.\n"
   ]
  },
  {
   "cell_type": "markdown",
   "id": "3245332b",
   "metadata": {},
   "source": [
    "## Base Example Directory: ../../sysml/src/examples/Requirements Examples"
   ]
  },
  {
   "cell_type": "markdown",
   "id": "59078333",
   "metadata": {},
   "source": [
    "## File: HSUVRequirements.sysml"
   ]
  },
  {
   "cell_type": "code",
   "execution_count": 1,
   "id": "d2c7d7b7",
   "metadata": {
    "execution": {
     "iopub.execute_input": "2022-02-18T10:51:55.755094Z",
     "iopub.status.busy": "2022-02-18T10:51:55.753643Z",
     "iopub.status.idle": "2022-02-18T10:51:56.222596Z",
     "shell.execute_reply": "2022-02-18T10:51:56.223053Z"
    }
   },
   "outputs": [
    {
     "data": {
      "text/plain": [
       "Package HSUVRequirements (05a7b97f-cdb2-4acd-8b5e-4ae30ffa954e)\n"
      ]
     },
     "execution_count": 1,
     "metadata": {},
     "output_type": "execute_result"
    }
   ],
   "source": [
    "package HSUVRequirements {\n",
    "\timport Requirements::*;\n",
    "\t\n",
    "\trequirement <'UR1.1'> Load: FunctionalRequirementCheck {\n",
    "\t\t// The following requirements are composite sub-requirements.\n",
    "\t\trequirement Passengers;\n",
    "\t\trequirement FuelCapacity;\n",
    "\t\trequirement Cargo;\n",
    "\t}\n",
    "\t\n",
    "\trequirement <'UR1.2'> EcoFriendliness: PerformanceRequirementCheck {\n",
    "\t\trequirement <'URI1.2.1'> Emissions: PerformanceRequirementCheck {\n",
    "\t\t\t/* The car shall meet 2010 Kyoto Accord emissions standards. */\n",
    "\t\t}\n",
    "\t}\n",
    "\t\n",
    "\trequirement <'UR1.3'> Performance: PerformanceRequirementCheck {\n",
    "\t\trequirement Acceleration;\n",
    "\t\trequirement <'UR1.3.1'> FuelEconomy: PerformanceRequirementCheck {\n",
    "\t\t\t/* User shall obtain fuel economy better than that provided by\n",
    "\t\t\t * 95% of cars built in 2004.\n",
    "\t\t\t */\n",
    "\t\t}\n",
    "\t\trequirement Braking;\n",
    "\t\trequirement Range;\n",
    "\t\trequirement Power;\n",
    "\t}\n",
    "\t\n",
    "\trequirement <'UR1.4'> Ergonomics;\n",
    "\t\n",
    "\t// Syntactically, should this be explicitly marked as a \"group\"?\n",
    "\trequirement HybridSUVSpec {\t\t\n",
    "\t\t// The following requirements are required by reference.\n",
    "\t\trequire Load;\n",
    "\t\trequire EcoFriendliness;\n",
    "\t\trequire Performance;\n",
    "\t\trequire Ergonomics;\n",
    "\t}\n",
    "}"
   ]
  }
 ],
 "metadata": {
  "kernelspec": {
   "display_name": "SysML",
   "language": "sysml",
   "name": "sysml"
  },
  "language_info": {
   "codemirror_mode": "sysml",
   "file_extension": ".sysml",
   "mimetype": "text/x-sysml",
   "name": "SysML",
   "pygments_lexer": "java",
   "version": "1.0.0"
  }
 },
 "nbformat": 4,
 "nbformat_minor": 5
}
