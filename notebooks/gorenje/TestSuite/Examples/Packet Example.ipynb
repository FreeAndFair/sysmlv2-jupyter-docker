{
 "cells": [
  {
   "cell_type": "markdown",
   "id": "d5f42d2e",
   "metadata": {},
   "source": [
    "# SysML v2 Test Suite\n",
    "\n",
    "This can notebook can be cleared using menu `Edit --> Clear All Outputs` and then all cells can be\n",
    "run using menu `Run --> Run All Cells`.\n",
    "\n",
    "**WARNING**: This file is generated, all modifications here will be ignored.\n"
   ]
  },
  {
   "cell_type": "markdown",
   "id": "57ebc936",
   "metadata": {},
   "source": [
    "## Base Example Directory: ../../sysml/src/examples/Packet Example"
   ]
  },
  {
   "cell_type": "markdown",
   "id": "b39efe1a",
   "metadata": {},
   "source": [
    "## File: Packets.sysml"
   ]
  },
  {
   "cell_type": "code",
   "execution_count": 1,
   "id": "81dab1cb",
   "metadata": {
    "execution": {
     "iopub.execute_input": "2024-12-16T03:29:13.865218Z",
     "iopub.status.busy": "2024-12-16T03:29:13.862812Z",
     "iopub.status.idle": "2024-12-16T03:29:14.118804Z",
     "shell.execute_reply": "2024-12-16T03:29:14.118574Z"
    }
   },
   "outputs": [
    {
     "data": {
      "text/plain": [
       "Package Packets (42dc580e-e673-4df0-bffb-798aa5d594d2)\n"
      ]
     },
     "execution_count": 1,
     "metadata": {},
     "output_type": "execute_result"
    }
   ],
   "source": [
    "package Packets {\n",
    "\tprivate import ScalarValues::*;\n",
    "\tprivate import Time::DateTime;\n",
    "\t\n",
    "\tattribute 'packet header' { }\n",
    "\t\n",
    "\tattribute 'packet data field' {\t\n",
    "\t\tattribute 'packet secondary header' redefines 'packet header';\n",
    "\t\tattribute 'user data field';\n",
    "\t}\n",
    "\t\n",
    "\tpart def 'Data Packet' {\n",
    "\t\tattribute 'packet primary header' redefines 'packet header' {\n",
    "\t\t\tattribute 'packet version number': Integer;\n",
    "\t\t\tattribute 'packet identification': String;\n",
    "\t\t\tattribute 'packet data length': Integer;\n",
    "\t\t}\n",
    "\t\tattribute redefines 'packet data field';\n",
    "\t}\n",
    "\t\n",
    "\tpart def 'Thermal Data Packet' :> 'Data Packet' {\n",
    "\t\tattribute 'packet data field' redefines Packets::'packet data field'{\n",
    "\t\t\tattribute 'packet secondary header' redefines 'packet header' {\n",
    "\t\t\t\tattribute 'packet timestamp': DateTime;\n",
    "\t\t\t\tattribute 'telemetry packet type': String;\n",
    "\t\t\t}\n",
    "\t\t\t\n",
    "\t\t\tattribute 'user data field' redefines Packets::'packet data field'::'user data field' {\n",
    "\t\t\t\tattribute timestamp: DateTime;\n",
    "\t\t\t\tattribute temperature: Real;\n",
    "\t\t\t}\n",
    "\t\t}\n",
    "\t}\n",
    "\t\n",
    "}"
   ]
  },
  {
   "cell_type": "markdown",
   "id": "8a623825",
   "metadata": {},
   "source": [
    "## File: PacketUsage.sysml"
   ]
  },
  {
   "cell_type": "code",
   "execution_count": 2,
   "id": "8107c461",
   "metadata": {
    "execution": {
     "iopub.execute_input": "2024-12-16T03:29:14.172175Z",
     "iopub.status.busy": "2024-12-16T03:29:14.171926Z",
     "iopub.status.idle": "2024-12-16T03:29:14.198322Z",
     "shell.execute_reply": "2024-12-16T03:29:14.197568Z"
    }
   },
   "outputs": [
    {
     "data": {
      "text/plain": [
       "Package Packet Usage (03c5acc2-f36e-4b84-8523-a3e7e27807b7)\n"
      ]
     },
     "execution_count": 2,
     "metadata": {},
     "output_type": "execute_result"
    }
   ],
   "source": [
    "package 'Packet Usage' {\n",
    "\tpublic import Packets::*;\n",
    "\tprivate import ScalarValues::Real;\n",
    "\t\n",
    "\tpart packet1: 'Thermal Data Packet';\n",
    "\tpart packet2: 'Thermal Data Packet';\n",
    "\tpart packet3: 'Thermal Data Packet' {\n",
    "\t\tattribute 'special data field' redefines 'packet data field'{\n",
    "\t\t\tattribute redefines 'user data field' {\n",
    "\t\t\t\tattribute 'special data': Real;\n",
    "\t\t\t}\n",
    "\t\t}\n",
    "\t}\n",
    "\t\n",
    "}\n",
    "\t\n"
   ]
  }
 ],
 "metadata": {
  "kernelspec": {
   "display_name": "SysML",
   "language": "sysml",
   "name": "sysml"
  },
  "language_info": {
   "codemirror_mode": "sysml",
   "file_extension": ".sysml",
   "mimetype": "text/x-sysml",
   "name": "SysML",
   "pygments_lexer": "java",
   "version": "1.0.0"
  }
 },
 "nbformat": 4,
 "nbformat_minor": 5
}
