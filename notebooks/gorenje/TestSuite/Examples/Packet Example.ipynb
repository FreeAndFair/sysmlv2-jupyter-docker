{
 "cells": [
  {
   "cell_type": "markdown",
   "id": "bc4196ff",
   "metadata": {},
   "source": [
    "# SysML v2 Test Suite\n",
    "\n",
    "This can notebook can be cleared using menu `Edit --> Clear All Outputs` and then all cells can be\n",
    "run using menu `Run --> Run All Cells`.\n",
    "\n",
    "**WARNING**: This file is generated, all modifications here will be ignored.\n"
   ]
  },
  {
   "cell_type": "markdown",
   "id": "c7622e98",
   "metadata": {},
   "source": [
    "## Base Example Directory: ../../sysml/src/examples/Packet Example"
   ]
  },
  {
   "cell_type": "markdown",
   "id": "6817ee0f",
   "metadata": {},
   "source": [
    "## File: Packets.sysml"
   ]
  },
  {
   "cell_type": "code",
   "execution_count": 1,
   "id": "74861e1d",
   "metadata": {
    "execution": {
     "iopub.execute_input": "2021-05-28T10:51:51.630388Z",
     "iopub.status.busy": "2021-05-28T10:51:51.629218Z",
     "iopub.status.idle": "2021-05-28T10:51:51.880214Z",
     "shell.execute_reply": "2021-05-28T10:51:51.879604Z"
    }
   },
   "outputs": [
    {
     "data": {
      "text/plain": [
       "Package Packets (31875916-0a18-4d0a-8487-5f2e3097ea56)\n"
      ]
     },
     "execution_count": 1,
     "metadata": {},
     "output_type": "execute_result"
    }
   ],
   "source": [
    "package Packets {\n",
    "\tprivate import ScalarValues::*;\n",
    "\tprivate import Time::DateTime;\n",
    "\t\n",
    "\tattribute 'packet header' { }\n",
    "\t\n",
    "\tattribute 'packet data field' {\t\n",
    "\t\tattribute 'packet secondary header' redefines 'packet header';\n",
    "\t\tattribute 'user data field';\n",
    "\t}\n",
    "\t\n",
    "\tpart def 'Data Packet' {\n",
    "\t\tattribute 'packet primary header' redefines 'packet header' {\n",
    "\t\t\tattribute 'packet version number': Integer;\n",
    "\t\t\tattribute 'packet identification': String;\n",
    "\t\t\tattribute 'packet data length': Integer;\n",
    "\t\t}\n",
    "\t\tattribute redefines 'packet data field';\n",
    "\t}\n",
    "\t\n",
    "\tpart def 'Thermal Data Packet' :> 'Data Packet' {\n",
    "\t\tattribute 'packet data field' redefines Packets::'packet data field'{\n",
    "\t\t\tattribute 'packet secondary header' redefines 'packet header' {\n",
    "\t\t\t\tattribute 'packet timestamp': DateTime;\n",
    "\t\t\t\tattribute 'telemetry packet type': String;\n",
    "\t\t\t}\n",
    "\t\t\t\n",
    "\t\t\tattribute 'user data field' redefines Packets::'packet data field'::'user data field' {\n",
    "\t\t\t\tattribute timestamp: DateTime;\n",
    "\t\t\t\tattribute temperature: Real;\n",
    "\t\t\t}\n",
    "\t\t}\n",
    "\t}\n",
    "\t\n",
    "}"
   ]
  },
  {
   "cell_type": "markdown",
   "id": "4269d5a9",
   "metadata": {},
   "source": [
    "## File: PacketUsage.sysml"
   ]
  },
  {
   "cell_type": "code",
   "execution_count": 2,
   "id": "871ae6b7",
   "metadata": {
    "execution": {
     "iopub.execute_input": "2021-05-28T10:51:51.932460Z",
     "iopub.status.busy": "2021-05-28T10:51:51.931711Z",
     "iopub.status.idle": "2021-05-28T10:51:51.960023Z",
     "shell.execute_reply": "2021-05-28T10:51:51.960358Z"
    }
   },
   "outputs": [
    {
     "data": {
      "text/plain": [
       "Package Packet Usage (f3f817f6-cc98-4fe5-a75b-ebdc78ff67e3)\n"
      ]
     },
     "execution_count": 2,
     "metadata": {},
     "output_type": "execute_result"
    }
   ],
   "source": [
    "package 'Packet Usage' {\n",
    "\tpublic import Packets::*;\n",
    "\tprivate import ScalarValues::Real;\n",
    "\t\n",
    "\tpart packet1: 'Thermal Data Packet';\n",
    "\tpart packet2: 'Thermal Data Packet';\n",
    "\tpart packet3: 'Thermal Data Packet' {\n",
    "\t\tattribute 'special data field' redefines 'packet data field'{\n",
    "\t\t\tattribute redefines 'user data field' {\n",
    "\t\t\t\tattribute 'special data': Real;\n",
    "\t\t\t}\n",
    "\t\t}\n",
    "\t}\n",
    "\t\n",
    "}\n",
    "\t\n"
   ]
  }
 ],
 "metadata": {
  "kernelspec": {
   "display_name": "SysML",
   "language": "sysml",
   "name": "sysml"
  },
  "language_info": {
   "codemirror_mode": "sysml",
   "file_extension": ".sysml",
   "mimetype": "text/x-sysml",
   "name": "SysML",
   "pygments_lexer": "java",
   "version": "1.0.0"
  }
 },
 "nbformat": 4,
 "nbformat_minor": 5
}
