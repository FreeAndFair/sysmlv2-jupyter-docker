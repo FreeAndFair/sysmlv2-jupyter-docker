{
 "cells": [
  {
   "cell_type": "markdown",
   "id": "f93df212",
   "metadata": {},
   "source": [
    "# SysML v2 Test Suite\n",
    "\n",
    "This can notebook can be cleared using menu `Edit --> Clear All Outputs` and then all cells can be\n",
    "run using menu `Run --> Run All Cells`.\n",
    "\n",
    "**WARNING**: This file is generated, all modifications here will be ignored.\n"
   ]
  },
  {
   "cell_type": "markdown",
   "id": "a451cc0f",
   "metadata": {},
   "source": [
    "## Base Example Directory: ../../sysml/src/examples/Arrowhead Framework Example"
   ]
  },
  {
   "cell_type": "markdown",
   "id": "cd490288",
   "metadata": {},
   "source": [
    "## File: AHFProfileLib.sysml"
   ]
  },
  {
   "cell_type": "code",
   "execution_count": 1,
   "id": "b0aafab9",
   "metadata": {
    "execution": {
     "iopub.execute_input": "2021-05-28T10:51:18.706377Z",
     "iopub.status.busy": "2021-05-28T10:51:18.705348Z",
     "iopub.status.idle": "2021-05-28T10:51:19.021037Z",
     "shell.execute_reply": "2021-05-28T10:51:19.020406Z"
    }
   },
   "outputs": [
    {
     "data": {
      "text/plain": [
       "Package AHFProfileLib (dce2a0fc-64d2-4825-a91d-b80f95f972e1)\n"
      ]
     },
     "execution_count": 1,
     "metadata": {},
     "output_type": "execute_result"
    }
   ],
   "source": [
    "/** This is the start of a library for Arrowhead Framework\n",
    " */\n",
    "\n",
    "package AHFProfileLib {\n",
    "\t/** Services and (later) functionalities */\n",
    "\timport Base::*;\n",
    "\timport ScalarValues::*;\n",
    "\timport Performances::*;\n",
    "\t\n",
    "\tport def SD{\n",
    "\t\t/* operations do not seem to be included yet*/\n",
    "\t\tattribute serviceDefinition:String;\n",
    "\t\tattribute serviceURL:String;\n",
    "\t\tattribute intrfce_protocol:String; // which may be \"REST\" or \"MQTT\" etc.\t\t \n",
    "\t}\n",
    "\t\n",
    "\tport def IDD :> SD{\n",
    "\t\tattribute encoding_kind:String;\n",
    "\t}\n",
    "\t\n",
    "\t/** System of Systems Definition*/\t\n",
    "\tpart def SoSD {\n",
    "\t\tpart systems:SysD[1..*];\n",
    "\t\n",
    "\t\t/** System definitions */\t\n",
    "\t\tpart def SysD {\n",
    "\t\t\tport services: SD[1..*];\n",
    "\t\t\tattribute systemname: String;\n",
    "\t\t\tattribute address: String;\n",
    "\t\t\tattribute portno: Integer;\n",
    "\t\t}\t\t\n",
    "\t}\n",
    "\n",
    "\t/** System of Systems Detailed Description */\t\n",
    "\tpart def SoSDD :> SoSD {\n",
    "\n",
    "\t\t/** System Detailed Description */\n",
    "\t\tpart def SysDD :> SysD{\n",
    "\t\t\taction ServiceMethod:Performance[1..*]; //means behaviors\n",
    "\t\t}\n",
    "\t}\n",
    "\t\n",
    "\t/** Local cloud definition with devices (not covered all the way)*/\n",
    "\tpart def LocalCloud :> SoSDD;\t\n",
    "\n",
    "}\n"
   ]
  },
  {
   "cell_type": "markdown",
   "id": "2a421100",
   "metadata": {},
   "source": [
    "## File: AHFCoreLib.sysml"
   ]
  },
  {
   "cell_type": "code",
   "execution_count": 2,
   "id": "da5cb6fb",
   "metadata": {
    "execution": {
     "iopub.execute_input": "2021-05-28T10:51:19.072558Z",
     "iopub.status.busy": "2021-05-28T10:51:19.072171Z",
     "iopub.status.idle": "2021-05-28T10:51:19.214876Z",
     "shell.execute_reply": "2021-05-28T10:51:19.214479Z"
    }
   },
   "outputs": [
    {
     "data": {
      "text/plain": [
       "Package AHFCoreLib (11b6b3b6-3ab4-45bc-8292-7871037ecfdc)\n"
      ]
     },
     "execution_count": 2,
     "metadata": {},
     "output_type": "execute_result"
    }
   ],
   "source": [
    "/** Mandatory Services and Systems */\n",
    "package AHFCoreLib {\n",
    "\timport AHFProfileLib::*;\n",
    "\timport ScalarValues::*;\n",
    "\t\n",
    "\tport def ServiceDiscovery :> SD{\n",
    "\t\t// The functionalities as Requests (Operations) cannot be defined yet\n",
    "\t\t// We could consider using flows to designate the functionalities\n",
    "\t}\n",
    "\t\t\n",
    "\tport def Authorisation :> SD{\n",
    "\t\tattribute publickey:String; // just as examples\n",
    "\t}\n",
    "\t\n",
    "\tpart def ArrowheadCore :> LocalCloud{\n",
    "\t\t/* First the system definitions (SysD) of core systems */\n",
    "\t\tpart def ServiceRegistry :> SysD {\n",
    "\t\t\tport serviceDiscovery:ServiceDiscovery subsets services;\n",
    "\t\t}\n",
    "\t\t\n",
    "\t\tpart def Authorization :> SysD {\n",
    "\t\t\tport authorisation:Authorisation subsets services;\n",
    "\t\t}\n",
    "\t\t\n",
    "\t\tpart def Orchestration :> SysD; // just indicated for now\n",
    "\t\t\n",
    "\t\tpart service_registry:ServiceRegistry subsets systems;\n",
    "\t\tpart authorization:Authorization subsets systems;\n",
    "\t\tpart orchestration:Orchestration subsets systems;\n",
    "\t\t\n",
    "\t\t/* Then we include an example of SysDD specializations wrt protocol */\n",
    "\t\tpart def Authorization_HTTP :> Authorization, SysDD{\n",
    "\t\t\taction Echo_behavior subsets ServiceMethod;\n",
    "\t\t}\n",
    "\t\t\n",
    "\t\tport def Authorisation_HTTP :> Authorisation, IDD{\n",
    "\t\t\tprotocol:String = \"HTTP\";\n",
    "\t\t}\n",
    "\t}\n",
    "}\n"
   ]
  },
  {
   "cell_type": "markdown",
   "id": "c745ee51",
   "metadata": {},
   "source": [
    "## File: AHFNorwayTopics.sysml"
   ]
  },
  {
   "cell_type": "code",
   "execution_count": 3,
   "id": "4cdd1438",
   "metadata": {
    "execution": {
     "iopub.execute_input": "2021-05-28T10:51:19.266050Z",
     "iopub.status.busy": "2021-05-28T10:51:19.265312Z",
     "iopub.status.idle": "2021-05-28T10:51:20.811003Z",
     "shell.execute_reply": "2021-05-28T10:51:20.807679Z"
    }
   },
   "outputs": [
    {
     "name": "stderr",
     "output_type": "stream",
     "text": [
      "ERROR:NullPointerException: null (see logs for details) ( line : 1 column : 0)\n"
     ]
    },
    {
     "name": "stderr",
     "output_type": "stream",
     "text": [
      "ERROR:NullPointerException: null (see logs for details) ( line : 1 column : 0)\n"
     ]
    },
    {
     "name": "stderr",
     "output_type": "stream",
     "text": [
      "ERROR:NullPointerException: null (see logs for details) ( line : 1 column : 0)\n"
     ]
    },
    {
     "name": "stderr",
     "output_type": "stream",
     "text": [
      "ERROR:NullPointerException: null (see logs for details) ( line : 1 column : 0)\n"
     ]
    },
    {
     "name": "stderr",
     "output_type": "stream",
     "text": [
      "ERROR:NullPointerException: null (see logs for details) ( line : 1 column : 0)\n"
     ]
    },
    {
     "name": "stderr",
     "output_type": "stream",
     "text": [
      "ERROR:NullPointerException: null (see logs for details) ( line : 1 column : 0)\n"
     ]
    },
    {
     "name": "stderr",
     "output_type": "stream",
     "text": [
      "ERROR:NullPointerException: null (see logs for details) ( line : 1 column : 0)\n"
     ]
    },
    {
     "name": "stderr",
     "output_type": "stream",
     "text": [
      "ERROR:NullPointerException: null (see logs for details) ( line : 1 column : 0)\n"
     ]
    },
    {
     "name": "stderr",
     "output_type": "stream",
     "text": [
      "ERROR:NullPointerException: null (see logs for details) ( line : 1 column : 0)\n"
     ]
    },
    {
     "name": "stderr",
     "output_type": "stream",
     "text": [
      "ERROR:Couldn't resolve reference to Feature 'service_registry::serviceDiscovery'. (3.sysml line : 156 column : 39)\n"
     ]
    },
    {
     "name": "stderr",
     "output_type": "stream",
     "text": [
      "ERROR:Couldn't resolve reference to Feature 'service_registry::serviceDiscovery'. (3.sysml line : 157 column : 40)\n"
     ]
    },
    {
     "name": "stderr",
     "output_type": "stream",
     "text": [
      "ERROR:Couldn't resolve reference to Feature 'service_registry::serviceDiscovery'. (3.sysml line : 158 column : 39)\n"
     ]
    },
    {
     "data": {
      "text/plain": []
     },
     "execution_count": 3,
     "metadata": {},
     "output_type": "execute_result"
    }
   ],
   "source": [
    "/** This is the Norwegian use-case for Arrowhead Framework */\n",
    "package AHFNorway {\n",
    "\t// The use-case is for Productive4.0 and Arrowhead Tools\n",
    "\t// The system is taken from a chemical factory\n",
    "\t// This is focusing on the monitoring of products when delivered\n",
    "\timport AHFProfileLib::*;\n",
    "\timport AHFCoreLib::*;\n",
    "\timport ScalarValues::*;\n",
    "\t\t\n",
    "\tport def APISService :> SD{\n",
    "\t\tattribute :>> serviceDefinition = \"APISPullService\";\n",
    "\t\tattribute :>> intrfce_protocol = \"{JSON}\";\n",
    "\t\tattribute :>> serviceURL = \"pull\";\n",
    "\t}\n",
    "\n",
    "\taction def GetAllItems(in key:Real, out itms:String); // Defining empty behavior to be filled by provider\n",
    "\taction def GiveItems(in itms:String, out ack:Boolean); // Defining another empty behavior\n",
    "\t\n",
    "\tport def APIS_REST :> APISService{\n",
    "\t\t// functionalities \n",
    "\t\tout ref action getAllItems:GetAllItems; // referring to empty functionality\n",
    "\t\tin ref action giveItems:GiveItems; // referring to empty functionality again\n",
    "\t}\n",
    "\t\n",
    "\tport def APIS_MQTT :> APISService{\n",
    "\t\t// GetAllItems functionality\n",
    "\t\tout pub:Publish;\n",
    "\t\tout retall:Return_AllItems;\n",
    "\t\tin subscr:Subscribe;\n",
    "\t\t// GiveItems functionality\n",
    "\t\tin publ:Publish;\n",
    "\t\tin retack:Return_Ack;\n",
    "\t\tout subsr_give:Subscribe_giveItems;\n",
    "\t}\n",
    "\t\n",
    "\tattribute def Publish {nametopic:String;}\n",
    "\tattribute def Subscribe{nametopic:String;}\n",
    "\tattribute def Return_AllItems {itms:String;}\n",
    "\tattribute def Subscribe_giveItems{itms:String;}\n",
    "\tattribute def Return_Ack{ack:Boolean;}\n",
    "\t\n",
    "\tpart def AHFNorway_SoSD :> ArrowheadCore {\t\n",
    "\t\tpart def TellUConsumer :> SysDD{\n",
    "\t\t\tport serviceDiscovery:~ServiceDiscovery subsets services; // communicating with ServiceRegistry\n",
    "\t\t\tport apisp:APIS_REST subsets services\n",
    "\t\t\t{\t/** The body here is to get the contexts and types right, may be changed later */\n",
    "\t\t\t\tin ref action :>> giveItems;\n",
    "\t\t\t\tout ref action :>> getAllItems;\n",
    "\t\t\t}\n",
    "\t\t\t\n",
    "\t\t\tattribute :>> systemname = \"UngerApisClient\";\n",
    "\t\t\tattribute :>> address = \"Unger_network_ip\";\n",
    "\t\t\tattribute :>> portno = 0;\n",
    "\t\t\t\t\t\t\n",
    "\t\t\t// operation call to GiveItems, while actually sending the payload\n",
    "\t\t\tperform apisp::giveItems(in allitems: String = \"All the items\", out ackback:Boolean);\t\t\t\n",
    "\t\t}\n",
    "\t\t\n",
    "\t\tpart def APISProducer :> SysDD{\n",
    "\t\t\tport serviceDiscovery:~ServiceDiscovery subsets services; // communicating with ServiceRegistry\n",
    "\t\t\tport tellu:~APIS_REST subsets services // providing the APISService\n",
    "\t\t\t{\t/** The body here is to get the contexts and types right, may be changed later */\n",
    "\t\t\t\tout ref action :>> giveItems;\n",
    "\t\t\t\tin ref action :>> getAllItems;\n",
    "\t\t\t}\n",
    "\t\t\tport apisc:APIS_MQTT subsets services; // talking to APISConsumer\n",
    "\t\t\t\n",
    "\t\t\t:>> systemname = \"PrediktorApisServer\";\n",
    "\t\t\t:>> address = \"Prediktor_network_ip\";\n",
    "\t\t\t:>> portno = 6565;\n",
    "\t\t\t\n",
    "\t\t\t// Defining the method to correspond to GiveItems\n",
    "\t\t\taction def REST_giveItems :> GiveItems (in itms:String, out ack:Boolean)\n",
    "\t\t\t { /* Forward itms and return an ack */\n",
    "\t\t\t \tfirst start;\n",
    "\t\t\t \tthen send Return_AllItems(itms) to apisc;\n",
    "\t\t\t \tsuccess = true;\n",
    "\t\t\t \tbind ack = success;\n",
    "\t\t\t }\n",
    "\t\t\tprivate action rest_giveItems:REST_giveItems :> ServiceMethod();\n",
    "\t\t\tbind tellu::giveItems = rest_giveItems; // binding the functionality to the method\n",
    "\t\t\t\n",
    "\t\t\t// initialize the asynchronous communication with MQTT\n",
    "\t\t\tstate MQTTPublish {\n",
    "\t\t\t\tentry send Publish(\"Return_AllItems\") to apisc;\n",
    "\t\t\t\tthen done;\n",
    "\t\t\t}\n",
    "\t\t}\n",
    "\t\t\n",
    "\t\tpart def APISConsumer :> SysDD{\n",
    "\t\t\tport serviceDiscovery:~ServiceDiscovery subsets services; // communicating with ServiceRegistry\n",
    "\t\t\tport apisp:~APIS_MQTT subsets services;\n",
    "\t\t\t:>> systemname = \"TellUClient\";\n",
    "\t\t\t:>> address = \"Prediktor_network_ip\";\n",
    "\t\t\t:>> portno = 1;\n",
    "\t\t\t\n",
    "\t\t\t// Now sending signal to the remote behavior through the port functionality\n",
    "\t\t\tstate MQTT_APISP {\n",
    "\t\t\t\tentry send Subscribe(\"Return_AllItems\") to apisp;\n",
    "\t\t\t\tthen Idle;\t\t\n",
    "\t\t\t\tstate Idle;\n",
    "\t\t\t\t\taccept Return_AllItems\n",
    "\t\t\t\t\t// Get the items and do something with them\n",
    "\t\t\t\t\tthen Idle;\n",
    "\t\t\t}\n",
    "\t\t}\n",
    "\n",
    " \t\tpart apisc:APISConsumer subsets systems\n",
    " \t\t{\tport :>> apisp;\n",
    " \t\t\tport :>> serviceDiscovery;\n",
    " \t\t}\n",
    " \t\tpart apisp:APISProducer subsets systems\n",
    " \t\t{\tport :>> apisc;\n",
    " \t\t\tport :>> tellu;\n",
    " \t\t\tport :>> serviceDiscovery;\n",
    " \t\t}\n",
    " \t\tpart telluc:TellUConsumer subsets systems\n",
    " \t\t{\tport :>> apisp;\n",
    " \t\t\tport :>> serviceDiscovery;\n",
    " \t\t}\n",
    " \t\t\n",
    " \t\tpart MQTTServer {\n",
    " \t\t\tport getTopic:~APIS_MQTT;\n",
    " \t\t\tport giveTopic:APIS_MQTT;\n",
    " \t\t\t\n",
    " \t\t\tstate Serve{\t\t\t\t\n",
    " \t\t\t\tentry;\n",
    " \t\t\t\tthen Publ;\n",
    " \t\t\t\tstate Publ;\n",
    " \t\t\t\t\taccept pub:Publish\n",
    " \t\t\t\t\t// store information about who will provide \"Publish::nametopic\"\n",
    " \t\t\t\tthen Subsr;\n",
    " \t\t\t\t\n",
    " \t\t\t\tstate Subsr;\n",
    " \t\t\t\t\taccept Subscribe\n",
    " \t\t\t\t\t// store information about who want to receive \"Subscribe::nametopic\"\n",
    " \t\t\t\tthen Idle;\n",
    " \t\t\t\t\n",
    " \t\t\t\tstate Idle;\n",
    " \t\t\t\t\taccept Return_AllItems // going through getTopic::retall\n",
    " \t\t\t\t\tdo send getTopic::retall to giveTopic // forwarding it through giveTopic::retall\n",
    " \t\t\t\tthen Idle;\n",
    " \t\t\t} \t\t\t\n",
    " \t\t}\n",
    " \t\t\n",
    " \t\tpart :>> service_registry {\n",
    " \t\t\tport :>> serviceDiscovery;\n",
    " \t\t}\n",
    " \t\t\n",
    " \t\tconnect apisp::apisc to MQTTServer::getTopic; \n",
    " \t\tconnect MQTTServer::giveTopic to apisc::apisp; \n",
    "\t\t\n",
    " \t\tconnect telluc::apisp to apisp::tellu; \n",
    " \t\t\n",
    " \t\t// Then we need to connect the application systems to the mandatory systems\n",
    " \t\tconnect apisp::serviceDiscovery to service_registry::serviceDiscovery;\n",
    " \t\tconnect telluc::serviceDiscovery to service_registry::serviceDiscovery;\n",
    " \t\tconnect apisc::serviceDiscovery to service_registry::serviceDiscovery;\n",
    " \t\t\n",
    " \t\t// Same procedure for the other mandatory services\n",
    "\t\t\n",
    "\t}\n",
    "\t\n",
    "}"
   ]
  }
 ],
 "metadata": {
  "kernelspec": {
   "display_name": "SysML",
   "language": "sysml",
   "name": "sysml"
  },
  "language_info": {
   "codemirror_mode": "sysml",
   "file_extension": ".sysml",
   "mimetype": "text/x-sysml",
   "name": "SysML",
   "pygments_lexer": "java",
   "version": "1.0.0"
  }
 },
 "nbformat": 4,
 "nbformat_minor": 5
}
