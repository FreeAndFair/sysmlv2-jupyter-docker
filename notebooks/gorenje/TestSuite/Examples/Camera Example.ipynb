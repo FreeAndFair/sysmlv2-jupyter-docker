{
 "cells": [
  {
   "cell_type": "markdown",
   "id": "82123df3",
   "metadata": {},
   "source": [
    "# SysML v2 Test Suite\n",
    "\n",
    "This can notebook can be cleared using menu `Edit --> Clear All Outputs` and then all cells can be\n",
    "run using menu `Run --> Run All Cells`.\n",
    "\n",
    "**WARNING**: This file is generated, all modifications here will be ignored.\n"
   ]
  },
  {
   "cell_type": "markdown",
   "id": "758f1cab",
   "metadata": {},
   "source": [
    "## Base Example Directory: ../../sysml/src/examples/Camera Example"
   ]
  },
  {
   "cell_type": "markdown",
   "id": "de468535",
   "metadata": {},
   "source": [
    "## File: PictureTaking.sysml"
   ]
  },
  {
   "cell_type": "code",
   "execution_count": 1,
   "id": "2a08c5e4",
   "metadata": {
    "execution": {
     "iopub.execute_input": "2024-12-16T14:22:38.033209Z",
     "iopub.status.busy": "2024-12-16T14:22:38.031663Z",
     "iopub.status.idle": "2024-12-16T14:22:38.481869Z",
     "shell.execute_reply": "2024-12-16T14:22:38.482004Z"
    }
   },
   "outputs": [
    {
     "data": {
      "text/plain": [
       "Package PictureTaking (71d8fe82-26fb-4e03-908e-d8484d471c78)\n"
      ]
     },
     "execution_count": 1,
     "metadata": {},
     "output_type": "execute_result"
    }
   ],
   "source": [
    "package PictureTaking {\n",
    "\tpart def Exposure;\n",
    "\t\n",
    "\taction def Focus { out xrsl: Exposure; }\n",
    "\taction def Shoot { in xsf: Exposure; }\t\n",
    "\t\t\n",
    "\taction takePicture {\t\t\n",
    "\t\taction focus: Focus[1];\n",
    "\t\tflow focus.xrsl to shoot.xsf;\n",
    "\t\taction shoot: Shoot[1];\n",
    "\t}\n",
    "}"
   ]
  },
  {
   "cell_type": "markdown",
   "id": "fc1877e9",
   "metadata": {},
   "source": [
    "## File: Camera.sysml"
   ]
  },
  {
   "cell_type": "code",
   "execution_count": 2,
   "id": "d39f119a",
   "metadata": {
    "execution": {
     "iopub.execute_input": "2024-12-16T14:22:38.534621Z",
     "iopub.status.busy": "2024-12-16T14:22:38.534270Z",
     "iopub.status.idle": "2024-12-16T14:22:38.580327Z",
     "shell.execute_reply": "2024-12-16T14:22:38.580534Z"
    }
   },
   "outputs": [
    {
     "data": {
      "text/plain": [
       "PartDefinition Camera (0172f24d-78b2-4ead-a4ff-be004faa4391)\n"
      ]
     },
     "execution_count": 2,
     "metadata": {},
     "output_type": "execute_result"
    }
   ],
   "source": [
    "part def Camera {\n",
    "\tprivate import PictureTaking::*;\n",
    "\t\n",
    "\tperform action takePicture[*] :> PictureTaking::takePicture;\n",
    "\t\n",
    "\tpart focusingSubsystem {\n",
    "\t\tperform takePicture.focus;\n",
    "\t}\n",
    "\t\n",
    "\tpart imagingSubsystem {\n",
    "\t\tperform takePicture.shoot;\n",
    "\t}\n",
    "\t\n",
    "}"
   ]
  }
 ],
 "metadata": {
  "kernelspec": {
   "display_name": "SysML",
   "language": "sysml",
   "name": "sysml"
  },
  "language_info": {
   "codemirror_mode": "sysml",
   "file_extension": ".sysml",
   "mimetype": "text/x-sysml",
   "name": "SysML",
   "pygments_lexer": "java",
   "version": "1.0.0"
  }
 },
 "nbformat": 4,
 "nbformat_minor": 5
}
