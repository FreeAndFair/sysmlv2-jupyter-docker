{
 "cells": [
  {
   "cell_type": "markdown",
   "id": "f55361da",
   "metadata": {},
   "source": [
    "# SysML v2 Test Suite\n",
    "\n",
    "This can notebook can be cleared using menu `Edit --> Clear All Outputs` and then all cells can be\n",
    "run using menu `Run --> Run All Cells`.\n",
    "\n",
    "**WARNING**: This file is generated, all modifications here will be ignored.\n"
   ]
  },
  {
   "cell_type": "markdown",
   "id": "2ae1ac11",
   "metadata": {},
   "source": [
    "## Base Example Directory: ../../sysml/src/examples/Comment Examples"
   ]
  },
  {
   "cell_type": "markdown",
   "id": "b1907451",
   "metadata": {},
   "source": [
    "## File: Comments.sysml"
   ]
  },
  {
   "cell_type": "code",
   "execution_count": 1,
   "id": "0fb3ad4c",
   "metadata": {
    "execution": {
     "iopub.execute_input": "2024-12-16T03:29:30.932991Z",
     "iopub.status.busy": "2024-12-16T03:29:30.931966Z",
     "iopub.status.idle": "2024-12-16T03:29:31.111833Z",
     "shell.execute_reply": "2024-12-16T03:29:31.111599Z"
    }
   },
   "outputs": [
    {
     "data": {
      "text/plain": [
       "Package Comments (07319014-2f7c-4784-b71f-4175079710d4)\n"
      ]
     },
     "execution_count": 1,
     "metadata": {},
     "output_type": "execute_result"
    }
   ],
   "source": [
    "package Comments {\n",
    "\tdoc /* Documentation Comment */\n",
    "\n",
    "\tdoc /* Documentation about Package */\n",
    "\n",
    "\tcomment cmt /* Named Comment */\t\n",
    "\tcomment cmt_cmt about cmt /* Comment about Comment */\n",
    "\t\n",
    "\tcomment about C /* Documention Comment on Part Def */\n",
    "\tpart def C {\n",
    "\t\tdoc /* Documentation in Part Def */\n",
    "\t\tcomment /* Comment in Part Def */\n",
    "\t\tcomment about Comments /* Comment about Package */\n",
    "\t}\n",
    "}"
   ]
  }
 ],
 "metadata": {
  "kernelspec": {
   "display_name": "SysML",
   "language": "sysml",
   "name": "sysml"
  },
  "language_info": {
   "codemirror_mode": "sysml",
   "file_extension": ".sysml",
   "mimetype": "text/x-sysml",
   "name": "SysML",
   "pygments_lexer": "java",
   "version": "1.0.0"
  }
 },
 "nbformat": 4,
 "nbformat_minor": 5
}
