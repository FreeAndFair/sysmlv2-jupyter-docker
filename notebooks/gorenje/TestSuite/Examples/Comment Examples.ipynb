{
 "cells": [
  {
   "cell_type": "markdown",
   "id": "4170fc0b",
   "metadata": {},
   "source": [
    "# SysML v2 Test Suite\n",
    "\n",
    "This can notebook can be cleared using menu `Edit --> Clear All Outputs` and then all cells can be\n",
    "run using menu `Run --> Run All Cells`.\n",
    "\n",
    "**WARNING**: This file is generated, all modifications here will be ignored.\n"
   ]
  },
  {
   "cell_type": "markdown",
   "id": "26cd6806",
   "metadata": {},
   "source": [
    "## Base Example Directory: ../../sysml/src/examples/Comment Examples"
   ]
  },
  {
   "cell_type": "markdown",
   "id": "086e73f1",
   "metadata": {},
   "source": [
    "## File: Comments.sysml"
   ]
  },
  {
   "cell_type": "code",
   "execution_count": 1,
   "id": "e6e931d7",
   "metadata": {
    "execution": {
     "iopub.execute_input": "2024-12-16T14:22:05.685617Z",
     "iopub.status.busy": "2024-12-16T14:22:05.684458Z",
     "iopub.status.idle": "2024-12-16T14:22:05.885085Z",
     "shell.execute_reply": "2024-12-16T14:22:05.884433Z"
    }
   },
   "outputs": [
    {
     "data": {
      "text/plain": [
       "Package Comments (922ad9be-5cd8-434c-9e0d-693f3c9d3ef2)\n"
      ]
     },
     "execution_count": 1,
     "metadata": {},
     "output_type": "execute_result"
    }
   ],
   "source": [
    "package Comments {\n",
    "\tdoc /* Documentation Comment */\n",
    "\n",
    "\tdoc /* Documentation about Package */\n",
    "\n",
    "\tcomment cmt /* Named Comment */\t\n",
    "\tcomment cmt_cmt about cmt /* Comment about Comment */\n",
    "\t\n",
    "\tcomment about C /* Documention Comment on Part Def */\n",
    "\tpart def C {\n",
    "\t\tdoc /* Documentation in Part Def */\n",
    "\t\tcomment /* Comment in Part Def */\n",
    "\t\tcomment about Comments /* Comment about Package */\n",
    "\t}\n",
    "}"
   ]
  }
 ],
 "metadata": {
  "kernelspec": {
   "display_name": "SysML",
   "language": "sysml",
   "name": "sysml"
  },
  "language_info": {
   "codemirror_mode": "sysml",
   "file_extension": ".sysml",
   "mimetype": "text/x-sysml",
   "name": "SysML",
   "pygments_lexer": "java",
   "version": "1.0.0"
  }
 },
 "nbformat": 4,
 "nbformat_minor": 5
}
