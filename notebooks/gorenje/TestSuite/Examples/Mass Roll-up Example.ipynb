{
 "cells": [
  {
   "cell_type": "markdown",
   "id": "e02779ae",
   "metadata": {},
   "source": [
    "# SysML v2 Test Suite\n",
    "\n",
    "This can notebook can be cleared using menu `Edit --> Clear All Outputs` and then all cells can be\n",
    "run using menu `Run --> Run All Cells`.\n",
    "\n",
    "**WARNING**: This file is generated, all modifications here will be ignored.\n"
   ]
  },
  {
   "cell_type": "markdown",
   "id": "dab997f0",
   "metadata": {},
   "source": [
    "## Base Example Directory: ../../sysml/src/examples/Mass Roll-up Example"
   ]
  },
  {
   "cell_type": "markdown",
   "id": "8e736142",
   "metadata": {},
   "source": [
    "## File: MassConstraintExample.sysml"
   ]
  },
  {
   "cell_type": "code",
   "execution_count": 1,
   "id": "a3a4b2b7",
   "metadata": {
    "execution": {
     "iopub.execute_input": "2024-12-16T03:29:19.133779Z",
     "iopub.status.busy": "2024-12-16T03:29:19.132711Z",
     "iopub.status.idle": "2024-12-16T03:29:19.729677Z",
     "shell.execute_reply": "2024-12-16T03:29:19.729459Z"
    }
   },
   "outputs": [
    {
     "data": {
      "text/plain": [
       "Package MassConstraintExample (61629606-3d66-4a0c-a2e3-e1a32667297f)\n"
      ]
     },
     "execution_count": 1,
     "metadata": {},
     "output_type": "execute_result"
    }
   ],
   "source": [
    "package MassConstraintExample {\n",
    "\tprivate import ISQ::*;\n",
    "\tprivate import SI::*;\n",
    "\tprivate import NumericalFunctions::*;\n",
    "\t\n",
    "\tpart def Engine {\n",
    "\t\tattribute m :> mass;\n",
    "\t}\n",
    "\t\n",
    "\tpart def Transmission {\n",
    "\t\tattribute m :> mass;\n",
    "\t}\n",
    "\t\n",
    "\tpart def Vehicle1 {\n",
    "\t\tattribute m : MassValue = eng.m + trans.m;\n",
    "\t\t\n",
    "\t\tpart eng : Engine {\n",
    "\t\t\tattribute :>> m : MassValue;\n",
    "\t\t}\n",
    "\t\t\n",
    "\t\tpart trans : Transmission {\n",
    "\t\t\tattribute :>> m : MassValue;\n",
    "\t\t}\n",
    "\t}\n",
    "\t\n",
    "\tpart def Vehicle2 {\n",
    "\t\tassert constraint { m == eng.m + trans.m }\n",
    "\t\t\n",
    "\t\tattribute m : MassValue;\n",
    "\t\t\n",
    "\t\tpart eng : Engine {\n",
    "\t\t\tattribute :>> m : MassValue;\n",
    "\t\t}\n",
    "\t\t\n",
    "\t\tpart trans : Transmission {\n",
    "\t\t\tattribute :>> m : MassValue;\n",
    "\t\t}\n",
    "\t}\n",
    "\t\n",
    "\tconstraint def MassConstraint3 {\n",
    "\t\tin totalMass : MassValue; \n",
    "\t\tin partMasses : MassValue[0..*];\n",
    "\t\t\t\n",
    "\t\ttotalMass == sum(partMasses)\n",
    "\t}\n",
    "\t\n",
    "\tpart def Vehicle3 {\n",
    "\t\tassert constraint massConstraint : MassConstraint3 {\n",
    "\t\t\tin totalMass = m;\n",
    "\t\t\tin partMasses = (eng.m, trans.m);\n",
    "\t\t}\n",
    "\t\t\n",
    "\t\tattribute m : MassValue;\n",
    "\t\t\n",
    "\t\tpart eng {\n",
    "\t\t\tattribute m : MassValue;\n",
    "\t\t}\n",
    "\t\t\n",
    "\t\tpart trans {\n",
    "\t\t\tattribute m : MassValue;\n",
    "\t\t}\n",
    "\t}\n",
    "\t\n",
    "\tconstraint def MassConstraint4 {\n",
    "\t\tin totalMass : MassValue;\n",
    "\t\tin partMasses : MassValue[0..*];\n",
    "\t}\n",
    "\t\n",
    "\tconstraint mc : MassConstraint4 {\n",
    "\t\tin totalMass : MassValue; \n",
    "\t\tin partMasses : MassValue[0..*];\n",
    "\t\t\n",
    "\t\ttotalMass == sum(partMasses)\n",
    "\t}\n",
    "\t\n",
    "\tpart def Vehicle4 {\n",
    "\t\tassert mc {\n",
    "\t\t\tin totalMass = m;\n",
    "\t\t\tin partMasses = (eng.m, trans.m);\n",
    "\t\t}\n",
    "\t\t\n",
    "\t\tattribute m : MassValue;\n",
    "\t\t\n",
    "\t\tpart eng : Engine {\n",
    "\t\t\tattribute :>> m : MassValue;\n",
    "\t\t}\n",
    "\t\t\n",
    "\t\tpart trans : Transmission {\n",
    "\t\t\tattribute :>> m : MassValue;\n",
    "\t\t}\n",
    "\t}\n",
    "\t\n",
    "\tconstraint def MassLimit {\n",
    "\t\tin mass : MassValue; \n",
    "\t\tin maxMass : MassValue;\n",
    "\t\t\t\n",
    "\t\tmass <= maxMass\n",
    "\t}\n",
    "\t\n",
    "\tpart def Vehicle5 {\n",
    "\t\tassert constraint ml : MassLimit {\n",
    "\t\t\tin mass = m;\n",
    "\t\t\tin maxMass = 2500 [kg];\n",
    "\t\t}\n",
    "\t\t\n",
    "\t\tattribute m : MassValue = eng.m + trans.m;\n",
    "\t\t\n",
    "\t\tpart eng : Engine {\n",
    "\t\t\tattribute :>> m : MassValue;\n",
    "\t\t}\n",
    "\t\t\n",
    "\t\tpart trans : Transmission {\n",
    "\t\t\tattribute :>> m : MassValue;\n",
    "\t\t}\n",
    "\t}\t\n",
    "\t\n",
    "}"
   ]
  },
  {
   "cell_type": "markdown",
   "id": "f4521247",
   "metadata": {},
   "source": [
    "## File: MassRollup.sysml"
   ]
  },
  {
   "cell_type": "code",
   "execution_count": 2,
   "id": "f1e9d030",
   "metadata": {
    "execution": {
     "iopub.execute_input": "2024-12-16T03:29:19.787280Z",
     "iopub.status.busy": "2024-12-16T03:29:19.787010Z",
     "iopub.status.idle": "2024-12-16T03:29:19.866762Z",
     "shell.execute_reply": "2024-12-16T03:29:19.866898Z"
    }
   },
   "outputs": [
    {
     "data": {
      "text/plain": [
       "Package MassRollup (b6f6bfd5-e708-4468-ba05-dcba7d6a1822)\n"
      ]
     },
     "execution_count": 2,
     "metadata": {},
     "output_type": "execute_result"
    }
   ],
   "source": [
    "package MassRollup {\n",
    "\tprivate import NumericalFunctions::*;\n",
    "\t\n",
    "\tpart def MassedThing {\n",
    "\t\tattribute mass :> ISQ::mass; \n",
    "\t\tattribute totalMass :> ISQ::mass;\n",
    "\t}\n",
    "\t\n",
    "\tpart simpleThing : MassedThing {\n",
    "\t\tattribute redefines totalMass = mass;\n",
    "\t}\n",
    "\t\n",
    "\tpart compositeThing : MassedThing {\n",
    "\t\tpart subcomponents: MassedThing[*];\n",
    "\t\t\n",
    "\t\tattribute redefines totalMass default\n",
    "\t\t\tmass + sum(subcomponents.totalMass); \n",
    "\t}\n",
    "\t\n",
    "\tpart filteredMassThing :> compositeThing {\n",
    "\t\tabstract attribute minMass :> ISQ::mass;\n",
    "\t\t\n",
    "\t\tattribute redefines totalMass =\n",
    "\t\t\tmass + sum(subcomponents.totalMass.?{in p :> ISQ::mass; p > minMass});\n",
    "\t}\n",
    "\n",
    "}"
   ]
  },
  {
   "cell_type": "markdown",
   "id": "01f65b8b",
   "metadata": {},
   "source": [
    "## File: Vehicles.sysml"
   ]
  },
  {
   "cell_type": "code",
   "execution_count": 3,
   "id": "2f6ff6de",
   "metadata": {
    "execution": {
     "iopub.execute_input": "2024-12-16T03:29:19.923424Z",
     "iopub.status.busy": "2024-12-16T03:29:19.922687Z",
     "iopub.status.idle": "2024-12-16T03:29:19.966788Z",
     "shell.execute_reply": "2024-12-16T03:29:19.966926Z"
    }
   },
   "outputs": [
    {
     "data": {
      "text/plain": [
       "Package VehicleMasses (92bb46bc-8377-4896-9b97-f1c058156635)\n"
      ]
     },
     "execution_count": 3,
     "metadata": {},
     "output_type": "execute_result"
    }
   ],
   "source": [
    "package VehicleMasses {\n",
    "\tprivate import ScalarValues::*;\n",
    "\tprivate import MassRollup::*;\n",
    "\t\n",
    "\tpart def CarPart :> MassedThing {\t\t\t\n",
    "\t\tattribute serialNumber: String;\n",
    "\t}\n",
    "\t\n",
    "\tpart car: CarPart :> compositeThing {\t\n",
    "\t\tattribute vin redefines serialNumber;\n",
    "\t\t\n",
    "\t\tpart carParts: CarPart[*] redefines subcomponents;\n",
    "\t\t\n",
    "\t\tpart engine :> simpleThing, carParts {\n",
    "\t\t\t//...\n",
    "\t\t}\n",
    "\t\t\n",
    "\t\tpart transmission :> simpleThing, carParts {\n",
    "\t\t\t//...\n",
    "\t\t}\n",
    "\t}\n",
    "\n",
    "\t// Example usage\n",
    "\tprivate import SI::*;\t\n",
    "\tpart c :> car {\n",
    "\t\tredefines mass = 1000 [kg];\n",
    "\t\tpart redefines engine {\n",
    "\t\t\tredefines mass = 100 [kg];\n",
    "\t\t}\n",
    "\t\t\n",
    "\t\tpart redefines transmission {\n",
    "\t\t\tredefines mass = 50 [kg];\n",
    "\t\t}\t\n",
    "\t}\n",
    "\t\n",
    "\t// c.totalMass --> 1150.0 [kg]\n",
    "}"
   ]
  }
 ],
 "metadata": {
  "kernelspec": {
   "display_name": "SysML",
   "language": "sysml",
   "name": "sysml"
  },
  "language_info": {
   "codemirror_mode": "sysml",
   "file_extension": ".sysml",
   "mimetype": "text/x-sysml",
   "name": "SysML",
   "pygments_lexer": "java",
   "version": "1.0.0"
  }
 },
 "nbformat": 4,
 "nbformat_minor": 5
}
