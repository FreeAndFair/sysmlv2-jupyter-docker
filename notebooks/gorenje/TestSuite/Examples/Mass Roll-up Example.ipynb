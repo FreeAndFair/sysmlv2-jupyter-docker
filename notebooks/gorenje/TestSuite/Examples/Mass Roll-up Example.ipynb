{
 "cells": [
  {
   "cell_type": "markdown",
   "id": "778f5b0b",
   "metadata": {},
   "source": [
    "# SysML v2 Test Suite\n",
    "\n",
    "This can notebook can be cleared using menu `Edit --> Clear All Outputs` and then all cells can be\n",
    "run using menu `Run --> Run All Cells`.\n",
    "\n",
    "**WARNING**: This file is generated, all modifications here will be ignored.\n"
   ]
  },
  {
   "cell_type": "markdown",
   "id": "f6a29b58",
   "metadata": {},
   "source": [
    "## Base Example Directory: ../../sysml/src/examples/Mass Roll-up Example"
   ]
  },
  {
   "cell_type": "markdown",
   "id": "13ed44c4",
   "metadata": {},
   "source": [
    "## File: MassConstraintExample.sysml"
   ]
  },
  {
   "cell_type": "code",
   "execution_count": 1,
   "id": "c331e920",
   "metadata": {
    "execution": {
     "iopub.execute_input": "2024-12-16T14:21:53.643027Z",
     "iopub.status.busy": "2024-12-16T14:21:53.642333Z",
     "iopub.status.idle": "2024-12-16T14:21:54.334047Z",
     "shell.execute_reply": "2024-12-16T14:21:54.333731Z"
    }
   },
   "outputs": [
    {
     "data": {
      "text/plain": [
       "Package MassConstraintExample (3b07d1c8-6cdc-448a-a8bc-af92fc2841c6)\n"
      ]
     },
     "execution_count": 1,
     "metadata": {},
     "output_type": "execute_result"
    }
   ],
   "source": [
    "package MassConstraintExample {\n",
    "\tprivate import ISQ::*;\n",
    "\tprivate import SI::*;\n",
    "\tprivate import NumericalFunctions::*;\n",
    "\t\n",
    "\tpart def Engine {\n",
    "\t\tattribute m :> mass;\n",
    "\t}\n",
    "\t\n",
    "\tpart def Transmission {\n",
    "\t\tattribute m :> mass;\n",
    "\t}\n",
    "\t\n",
    "\tpart def Vehicle1 {\n",
    "\t\tattribute m : MassValue = eng.m + trans.m;\n",
    "\t\t\n",
    "\t\tpart eng : Engine {\n",
    "\t\t\tattribute :>> m : MassValue;\n",
    "\t\t}\n",
    "\t\t\n",
    "\t\tpart trans : Transmission {\n",
    "\t\t\tattribute :>> m : MassValue;\n",
    "\t\t}\n",
    "\t}\n",
    "\t\n",
    "\tpart def Vehicle2 {\n",
    "\t\tassert constraint { m == eng.m + trans.m }\n",
    "\t\t\n",
    "\t\tattribute m : MassValue;\n",
    "\t\t\n",
    "\t\tpart eng : Engine {\n",
    "\t\t\tattribute :>> m : MassValue;\n",
    "\t\t}\n",
    "\t\t\n",
    "\t\tpart trans : Transmission {\n",
    "\t\t\tattribute :>> m : MassValue;\n",
    "\t\t}\n",
    "\t}\n",
    "\t\n",
    "\tconstraint def MassConstraint3 {\n",
    "\t\tin totalMass : MassValue; \n",
    "\t\tin partMasses : MassValue[0..*];\n",
    "\t\t\t\n",
    "\t\ttotalMass == sum(partMasses)\n",
    "\t}\n",
    "\t\n",
    "\tpart def Vehicle3 {\n",
    "\t\tassert constraint massConstraint : MassConstraint3 {\n",
    "\t\t\tin totalMass = m;\n",
    "\t\t\tin partMasses = (eng.m, trans.m);\n",
    "\t\t}\n",
    "\t\t\n",
    "\t\tattribute m : MassValue;\n",
    "\t\t\n",
    "\t\tpart eng {\n",
    "\t\t\tattribute m : MassValue;\n",
    "\t\t}\n",
    "\t\t\n",
    "\t\tpart trans {\n",
    "\t\t\tattribute m : MassValue;\n",
    "\t\t}\n",
    "\t}\n",
    "\t\n",
    "\tconstraint def MassConstraint4 {\n",
    "\t\tin totalMass : MassValue;\n",
    "\t\tin partMasses : MassValue[0..*];\n",
    "\t}\n",
    "\t\n",
    "\tconstraint mc : MassConstraint4 {\n",
    "\t\tin totalMass : MassValue; \n",
    "\t\tin partMasses : MassValue[0..*];\n",
    "\t\t\n",
    "\t\ttotalMass == sum(partMasses)\n",
    "\t}\n",
    "\t\n",
    "\tpart def Vehicle4 {\n",
    "\t\tassert mc {\n",
    "\t\t\tin totalMass = m;\n",
    "\t\t\tin partMasses = (eng.m, trans.m);\n",
    "\t\t}\n",
    "\t\t\n",
    "\t\tattribute m : MassValue;\n",
    "\t\t\n",
    "\t\tpart eng : Engine {\n",
    "\t\t\tattribute :>> m : MassValue;\n",
    "\t\t}\n",
    "\t\t\n",
    "\t\tpart trans : Transmission {\n",
    "\t\t\tattribute :>> m : MassValue;\n",
    "\t\t}\n",
    "\t}\n",
    "\t\n",
    "\tconstraint def MassLimit {\n",
    "\t\tin mass : MassValue; \n",
    "\t\tin maxMass : MassValue;\n",
    "\t\t\t\n",
    "\t\tmass <= maxMass\n",
    "\t}\n",
    "\t\n",
    "\tpart def Vehicle5 {\n",
    "\t\tassert constraint ml : MassLimit {\n",
    "\t\t\tin mass = m;\n",
    "\t\t\tin maxMass = 2500 [kg];\n",
    "\t\t}\n",
    "\t\t\n",
    "\t\tattribute m : MassValue = eng.m + trans.m;\n",
    "\t\t\n",
    "\t\tpart eng : Engine {\n",
    "\t\t\tattribute :>> m : MassValue;\n",
    "\t\t}\n",
    "\t\t\n",
    "\t\tpart trans : Transmission {\n",
    "\t\t\tattribute :>> m : MassValue;\n",
    "\t\t}\n",
    "\t}\t\n",
    "\t\n",
    "}"
   ]
  },
  {
   "cell_type": "markdown",
   "id": "cd6778c1",
   "metadata": {},
   "source": [
    "## File: MassRollup.sysml"
   ]
  },
  {
   "cell_type": "code",
   "execution_count": 2,
   "id": "8c00e256",
   "metadata": {
    "execution": {
     "iopub.execute_input": "2024-12-16T14:21:54.386816Z",
     "iopub.status.busy": "2024-12-16T14:21:54.386598Z",
     "iopub.status.idle": "2024-12-16T14:21:54.470795Z",
     "shell.execute_reply": "2024-12-16T14:21:54.470611Z"
    }
   },
   "outputs": [
    {
     "data": {
      "text/plain": [
       "Package MassRollup (ca311952-6368-491e-bbe1-b999ca882974)\n"
      ]
     },
     "execution_count": 2,
     "metadata": {},
     "output_type": "execute_result"
    }
   ],
   "source": [
    "package MassRollup {\n",
    "\tprivate import NumericalFunctions::*;\n",
    "\t\n",
    "\tpart def MassedThing {\n",
    "\t\tattribute mass :> ISQ::mass; \n",
    "\t\tattribute totalMass :> ISQ::mass;\n",
    "\t}\n",
    "\t\n",
    "\tpart simpleThing : MassedThing {\n",
    "\t\tattribute redefines totalMass = mass;\n",
    "\t}\n",
    "\t\n",
    "\tpart compositeThing : MassedThing {\n",
    "\t\tpart subcomponents: MassedThing[*];\n",
    "\t\t\n",
    "\t\tattribute redefines totalMass default\n",
    "\t\t\tmass + sum(subcomponents.totalMass); \n",
    "\t}\n",
    "\t\n",
    "\tpart filteredMassThing :> compositeThing {\n",
    "\t\tabstract attribute minMass :> ISQ::mass;\n",
    "\t\t\n",
    "\t\tattribute redefines totalMass =\n",
    "\t\t\tmass + sum(subcomponents.totalMass.?{in p :> ISQ::mass; p > minMass});\n",
    "\t}\n",
    "\n",
    "}"
   ]
  },
  {
   "cell_type": "markdown",
   "id": "737d2ce1",
   "metadata": {},
   "source": [
    "## File: Vehicles.sysml"
   ]
  },
  {
   "cell_type": "code",
   "execution_count": 3,
   "id": "d8e9595f",
   "metadata": {
    "execution": {
     "iopub.execute_input": "2024-12-16T14:21:54.527529Z",
     "iopub.status.busy": "2024-12-16T14:21:54.527217Z",
     "iopub.status.idle": "2024-12-16T14:21:54.574566Z",
     "shell.execute_reply": "2024-12-16T14:21:54.574724Z"
    }
   },
   "outputs": [
    {
     "data": {
      "text/plain": [
       "Package VehicleMasses (92c9e76f-4362-467e-81d7-6502036c9c7b)\n"
      ]
     },
     "execution_count": 3,
     "metadata": {},
     "output_type": "execute_result"
    }
   ],
   "source": [
    "package VehicleMasses {\n",
    "\tprivate import ScalarValues::*;\n",
    "\tprivate import MassRollup::*;\n",
    "\t\n",
    "\tpart def CarPart :> MassedThing {\t\t\t\n",
    "\t\tattribute serialNumber: String;\n",
    "\t}\n",
    "\t\n",
    "\tpart car: CarPart :> compositeThing {\t\n",
    "\t\tattribute vin redefines serialNumber;\n",
    "\t\t\n",
    "\t\tpart carParts: CarPart[*] redefines subcomponents;\n",
    "\t\t\n",
    "\t\tpart engine :> simpleThing, carParts {\n",
    "\t\t\t//...\n",
    "\t\t}\n",
    "\t\t\n",
    "\t\tpart transmission :> simpleThing, carParts {\n",
    "\t\t\t//...\n",
    "\t\t}\n",
    "\t}\n",
    "\n",
    "\t// Example usage\n",
    "\tprivate import SI::*;\t\n",
    "\tpart c :> car {\n",
    "\t\tredefines mass = 1000 [kg];\n",
    "\t\tpart redefines engine {\n",
    "\t\t\tredefines mass = 100 [kg];\n",
    "\t\t}\n",
    "\t\t\n",
    "\t\tpart redefines transmission {\n",
    "\t\t\tredefines mass = 50 [kg];\n",
    "\t\t}\t\n",
    "\t}\n",
    "\t\n",
    "\t// c.totalMass --> 1150.0 [kg]\n",
    "}"
   ]
  }
 ],
 "metadata": {
  "kernelspec": {
   "display_name": "SysML",
   "language": "sysml",
   "name": "sysml"
  },
  "language_info": {
   "codemirror_mode": "sysml",
   "file_extension": ".sysml",
   "mimetype": "text/x-sysml",
   "name": "SysML",
   "pygments_lexer": "java",
   "version": "1.0.0"
  }
 },
 "nbformat": 4,
 "nbformat_minor": 5
}
