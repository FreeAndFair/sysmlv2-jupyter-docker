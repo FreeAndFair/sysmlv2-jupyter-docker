{
 "cells": [
  {
   "cell_type": "markdown",
   "id": "fatal-montana",
   "metadata": {},
   "source": [
    "# SysML v2 Test Suite\n",
    "\n",
    "This can notebook can be cleared using menu `Edit --> Clear All Outputs` and then all cells can be\n",
    "run using menu `Run --> Run All Cells`.\n",
    "\n",
    "**WARNING**: This file is generated, all modifications here will be ignored.\n"
   ]
  },
  {
   "cell_type": "markdown",
   "id": "naughty-richards",
   "metadata": {},
   "source": [
    "## File: ../../sysml/src/examples/Simple Tests/ActionTest.sysml"
   ]
  },
  {
   "cell_type": "code",
   "execution_count": 1,
   "id": "systematic-surgery",
   "metadata": {
    "execution": {
     "iopub.execute_input": "2021-03-25T09:27:28.665368Z",
     "iopub.status.busy": "2021-03-25T09:27:28.663493Z",
     "iopub.status.idle": "2021-03-25T09:27:28.805375Z",
     "shell.execute_reply": "2021-03-25T09:27:28.804601Z"
    }
   },
   "outputs": [
    {
     "data": {
      "text/plain": [
       "Package ActionTest (b05ace38-bb63-4691-a52f-66b51411e46e)\n"
      ]
     },
     "execution_count": 1,
     "metadata": {},
     "output_type": "execute_result"
    }
   ],
   "source": [
    "package ActionTest {\n",
    "\taction a { \n",
    "\t\tfirst start;\n",
    "\t}\n",
    "\t\n",
    "}"
   ]
  },
  {
   "cell_type": "code",
   "execution_count": 2,
   "id": "behavioral-queens",
   "metadata": {
    "execution": {
     "iopub.execute_input": "2021-03-25T09:27:28.857017Z",
     "iopub.status.busy": "2021-03-25T09:27:28.856366Z",
     "iopub.status.idle": "2021-03-25T09:27:29.562196Z",
     "shell.execute_reply": "2021-03-25T09:27:29.561581Z"
    }
   },
   "outputs": [
    {
     "data": {
      "image/svg+xml": [
       "<?xml version=\"1.0\" encoding=\"UTF-8\" standalone=\"no\"?><svg xmlns=\"http://www.w3.org/2000/svg\" xmlns:xlink=\"http://www.w3.org/1999/xlink\" contentScriptType=\"application/ecmascript\" contentStyleType=\"text/css\" height=\"195px\" preserveAspectRatio=\"none\" style=\"width:178px;height:195px;\" version=\"1.1\" viewBox=\"0 0 178 195\" width=\"178px\" zoomAndPan=\"magnify\"><defs/><g><!--MD5=[fbc87193dbaf4d95561dea2c320d4a47]\n",
       "cluster E1--><a href=\"psysml:474d0406-5e3d-47be-b798-32d1cf114728\" target=\"_top\" title=\"psysml:474d0406-5e3d-47be-b798-32d1cf114728\" xlink:actuate=\"onRequest\" xlink:href=\"psysml:474d0406-5e3d-47be-b798-32d1cf114728\" xlink:show=\"new\" xlink:title=\"psysml:474d0406-5e3d-47be-b798-32d1cf114728\" xlink:type=\"simple\"><polygon fill=\"#FFFFFF\" points=\"16,6,107,6,114,28.2969,156,28.2969,156,183,16,183,16,6\" style=\"stroke: #000000; stroke-width: 1.5;\"/><line style=\"stroke: #000000; stroke-width: 1.5;\" x1=\"16\" x2=\"114\" y1=\"28.2969\" y2=\"28.2969\"/><text fill=\"#000000\" font-family=\"sans-serif\" font-size=\"14\" font-weight=\"bold\" lengthAdjust=\"spacingAndGlyphs\" textLength=\"85\" x=\"20\" y=\"20.9951\">ActionTest</text></a><!--MD5=[e4f7fae6ed58524ba242bb0b0d3be6b7]\n",
       "cluster E2--><a href=\"psysml:541513c5-2792-4586-9963-ba9e65ac733f\" target=\"_top\" title=\"psysml:541513c5-2792-4586-9963-ba9e65ac733f\" xlink:actuate=\"onRequest\" xlink:href=\"psysml:541513c5-2792-4586-9963-ba9e65ac733f\" xlink:show=\"new\" xlink:title=\"psysml:541513c5-2792-4586-9963-ba9e65ac733f\" xlink:type=\"simple\"><rect fill=\"#FFFFFF\" height=\"110\" id=\"E2\" rx=\"10\" ry=\"10\" style=\"stroke: #383838; stroke-width: 1.5;\" width=\"92\" x=\"40\" y=\"49\"/><rect fill=\"#F8F8F8\" height=\"37.9375\" rx=\"10\" ry=\"10\" style=\"stroke: #F8F8F8; stroke-width: 1.5;\" width=\"92\" x=\"40\" y=\"49\"/><rect fill=\"#F8F8F8\" height=\"10\" style=\"stroke: #F8F8F8; stroke-width: 1.5;\" width=\"92\" x=\"40\" y=\"76.9375\"/><rect fill=\"none\" height=\"110\" id=\"E2\" rx=\"10\" ry=\"10\" style=\"stroke: #383838; stroke-width: 1.5;\" width=\"92\" x=\"40\" y=\"49\"/><text fill=\"#000000\" font-family=\"sans-serif\" font-size=\"12\" font-style=\"italic\" lengthAdjust=\"spacingAndGlyphs\" textLength=\"53\" x=\"59.5\" y=\"65.1387\">«action»</text><text fill=\"#000000\" font-family=\"sans-serif\" font-size=\"12\" lengthAdjust=\"spacingAndGlyphs\" textLength=\"8\" x=\"82\" y=\"79.1074\">a</text><line style=\"stroke: #383838; stroke-width: 1.0;\" x1=\"40\" x2=\"132\" y1=\"86.9375\" y2=\"86.9375\"/></a><g id=\"E1.E2.E3\"><a href=\"psysml:09db3787-c9b3-4480-a102-0b64206fad8b\" target=\"_top\" title=\"psysml:09db3787-c9b3-4480-a102-0b64206fad8b\" xlink:actuate=\"onRequest\" xlink:href=\"psysml:09db3787-c9b3-4480-a102-0b64206fad8b\" xlink:show=\"new\" xlink:title=\"psysml:09db3787-c9b3-4480-a102-0b64206fad8b\" xlink:type=\"simple\"><rect fill=\"#FFFFFF\" height=\"42.9375\" id=\"E3\" rx=\"10\" ry=\"10\" style=\"stroke: #383838; stroke-width: 1.5;\" width=\"60\" x=\"56\" y=\"100\"/><rect fill=\"#F8F8F8\" height=\"37.9375\" rx=\"10\" ry=\"10\" style=\"stroke: #F8F8F8; stroke-width: 1.5;\" width=\"60\" x=\"56\" y=\"100\"/><rect fill=\"#F8F8F8\" height=\"10\" style=\"stroke: #F8F8F8; stroke-width: 1.5;\" width=\"60\" x=\"56\" y=\"127.9375\"/><rect fill=\"none\" height=\"42.9375\" id=\"E3\" rx=\"10\" ry=\"10\" style=\"stroke: #383838; stroke-width: 1.5;\" width=\"60\" x=\"56\" y=\"100\"/><text fill=\"#000000\" font-family=\"sans-serif\" font-size=\"12\" font-style=\"italic\" lengthAdjust=\"spacingAndGlyphs\" textLength=\"53\" x=\"59.5\" y=\"116.1387\">«action»</text><text fill=\"#000000\" font-family=\"sans-serif\" font-size=\"12\" lengthAdjust=\"spacingAndGlyphs\" textLength=\"30\" x=\"71\" y=\"130.1074\">start</text></a></g><!--MD5=[90b0c8a2131cf71dccc583359c0d47dc]\n",
       "@startuml\r\n",
       " skinparam monochrome true\r\n",
       "skinparam classbackgroundcolor white\r\n",
       "skinparam shadowing false\r\n",
       "skinparam wrapWidth 300\r\n",
       "hide circle\r\n",
       "\r\n",
       "package \"ActionTest\" as E1  [[psysml:474d0406-5e3d-47be-b798-32d1cf114728 ]]  {\r\n",
       "rec usage \"a\" as E2  <<(T,blue)action>> [[psysml:541513c5-2792-4586-9963-ba9e65ac733f ]] {\r\n",
       "rec usage \"start\" as E3  <<(T,blue)action>> [[psysml:09db3787-c9b3-4480-a102-0b64206fad8b ]] {\r\n",
       "}\r\n",
       "\r\n",
       "}\r\n",
       "\r\n",
       "}\r\n",
       "@enduml\r\n",
       "\n",
       "PlantUML version 1.2020.13(Sat Jun 13 12:26:38 UTC 2020)\n",
       "(EPL source distribution)\n",
       "Java Runtime: OpenJDK Runtime Environment\n",
       "JVM: OpenJDK 64-Bit Server VM\n",
       "Default Encoding: UTF-8\n",
       "Language: en\n",
       "Country: null\n",
       "--></g></svg>"
      ]
     },
     "execution_count": 2,
     "metadata": {},
     "output_type": "execute_result"
    }
   ],
   "source": [
    "%viz --style=\"COMPTREE\" --view=\"Default\" \"ActionTest\""
   ]
  },
  {
   "cell_type": "code",
   "execution_count": 3,
   "id": "foreign-doctrine",
   "metadata": {
    "execution": {
     "iopub.execute_input": "2021-03-25T09:27:29.614539Z",
     "iopub.status.busy": "2021-03-25T09:27:29.613769Z",
     "iopub.status.idle": "2021-03-25T09:27:30.175601Z",
     "shell.execute_reply": "2021-03-25T09:27:30.176062Z"
    }
   },
   "outputs": [
    {
     "data": {
      "image/svg+xml": [
       "<?xml version=\"1.0\" encoding=\"UTF-8\" standalone=\"no\"?><svg xmlns=\"http://www.w3.org/2000/svg\" xmlns:xlink=\"http://www.w3.org/1999/xlink\" contentScriptType=\"application/ecmascript\" contentStyleType=\"text/css\" height=\"157px\" preserveAspectRatio=\"none\" style=\"width:230px;height:157px;\" version=\"1.1\" viewBox=\"0 0 230 157\" width=\"230px\" zoomAndPan=\"magnify\"><defs/><g><!--MD5=[fbc87193dbaf4d95561dea2c320d4a47]\n",
       "cluster E1--><a href=\"psysml:474d0406-5e3d-47be-b798-32d1cf114728\" target=\"_top\" title=\"psysml:474d0406-5e3d-47be-b798-32d1cf114728\" xlink:actuate=\"onRequest\" xlink:href=\"psysml:474d0406-5e3d-47be-b798-32d1cf114728\" xlink:show=\"new\" xlink:title=\"psysml:474d0406-5e3d-47be-b798-32d1cf114728\" xlink:type=\"simple\"><polygon fill=\"#FFFFFF\" points=\"16,6,107,6,114,28.2969,208,28.2969,208,145,16,145,16,6\" style=\"stroke: #000000; stroke-width: 1.5;\"/><line style=\"stroke: #000000; stroke-width: 1.5;\" x1=\"16\" x2=\"114\" y1=\"28.2969\" y2=\"28.2969\"/><text fill=\"#000000\" font-family=\"sans-serif\" font-size=\"14\" font-weight=\"bold\" lengthAdjust=\"spacingAndGlyphs\" textLength=\"85\" x=\"20\" y=\"20.9951\">ActionTest</text></a><!--MD5=[b4997ac47864f28c2f74865a473b2911]\n",
       "class E2--><a href=\"psysml:541513c5-2792-4586-9963-ba9e65ac733f\" target=\"_top\" title=\"psysml:541513c5-2792-4586-9963-ba9e65ac733f\" xlink:actuate=\"onRequest\" xlink:href=\"psysml:541513c5-2792-4586-9963-ba9e65ac733f\" xlink:show=\"new\" xlink:title=\"psysml:541513c5-2792-4586-9963-ba9e65ac733f\" xlink:type=\"simple\"><rect fill=\"#FFFFFF\" height=\"88.3516\" id=\"E2\" rx=\"10\" ry=\"10\" style=\"stroke: #383838; stroke-width: 1.5;\" width=\"160\" x=\"32\" y=\"41\"/><text fill=\"#000000\" font-family=\"sans-serif\" font-size=\"12\" font-style=\"italic\" lengthAdjust=\"spacingAndGlyphs\" textLength=\"53\" x=\"85.5\" y=\"57.1387\">«action»</text><text fill=\"#000000\" font-family=\"sans-serif\" font-size=\"12\" lengthAdjust=\"spacingAndGlyphs\" textLength=\"8\" x=\"108\" y=\"71.1074\">a</text><line style=\"stroke: #383838; stroke-width: 1.5;\" x1=\"33\" x2=\"191\" y1=\"78.9375\" y2=\"78.9375\"/><text fill=\"#000000\" font-family=\"sans-serif\" font-size=\"11\" lengthAdjust=\"spacingAndGlyphs\" textLength=\"69\" x=\"38\" y=\"109.9526\">start: Action</text><text fill=\"#000000\" font-family=\"sans-serif\" font-size=\"11\" font-style=\"italic\" lengthAdjust=\"spacingAndGlyphs\" textLength=\"148\" x=\"38\" y=\"122.7573\">:&gt;&gt;Occurrence::startShot</text><line style=\"stroke: #383838; stroke-width: 1.0;\" x1=\"33\" x2=\"91.5\" y1=\"93.3398\" y2=\"93.3398\"/><text fill=\"#000000\" font-family=\"sans-serif\" font-size=\"11\" lengthAdjust=\"spacingAndGlyphs\" textLength=\"41\" x=\"91.5\" y=\"96.6479\">actions</text><line style=\"stroke: #383838; stroke-width: 1.0;\" x1=\"132.5\" x2=\"191\" y1=\"93.3398\" y2=\"93.3398\"/></a><!--MD5=[d61877509ff6f5846f94e89f83b22253]\n",
       "@startuml\r\n",
       " skinparam monochrome true\r\n",
       "skinparam classbackgroundcolor white\r\n",
       "skinparam shadowing false\r\n",
       "skinparam wrapWidth 300\r\n",
       "hide circle\r\n",
       "\r\n",
       "package \"ActionTest\" as E1  [[psysml:474d0406-5e3d-47be-b798-32d1cf114728 ]]  {\r\n",
       "comp usage \"a\" as E2  <<(T,blue)action>> [[psysml:541513c5-2792-4586-9963-ba9e65ac733f ]] {\r\n",
       "- - actions - -\r\n",
       "start: Action\\n//:>>Occurrence::startShot// \r\n",
       "}\r\n",
       "}\r\n",
       "@enduml\r\n",
       "\n",
       "PlantUML version 1.2020.13(Sat Jun 13 12:26:38 UTC 2020)\n",
       "(EPL source distribution)\n",
       "Java Runtime: OpenJDK Runtime Environment\n",
       "JVM: OpenJDK 64-Bit Server VM\n",
       "Default Encoding: UTF-8\n",
       "Language: en\n",
       "Country: null\n",
       "--></g></svg>"
      ]
     },
     "execution_count": 3,
     "metadata": {},
     "output_type": "execute_result"
    }
   ],
   "source": [
    "%viz --style=\"COMPTREE\" --view=\"Tree\" \"ActionTest\""
   ]
  },
  {
   "cell_type": "code",
   "execution_count": 4,
   "id": "ahead-coordinator",
   "metadata": {
    "execution": {
     "iopub.execute_input": "2021-03-25T09:27:30.227229Z",
     "iopub.status.busy": "2021-03-25T09:27:30.226743Z",
     "iopub.status.idle": "2021-03-25T09:27:30.238246Z",
     "shell.execute_reply": "2021-03-25T09:27:30.238597Z"
    }
   },
   "outputs": [
    {
     "data": {
      "image/svg+xml": [
       "<?xml version=\"1.0\" encoding=\"UTF-8\" standalone=\"no\"?><svg xmlns=\"http://www.w3.org/2000/svg\" xmlns:xlink=\"http://www.w3.org/1999/xlink\" contentScriptType=\"application/ecmascript\" contentStyleType=\"text/css\" height=\"12px\" preserveAspectRatio=\"none\" style=\"width:12px;height:12px;\" version=\"1.1\" viewBox=\"0 0 12 12\" width=\"12px\" zoomAndPan=\"magnify\"><defs/><g><!--MD5=[f19188ef49e11757b5c46753f95d9edc]\n",
       "@startuml\r\n",
       " skinparam monochrome true\r\n",
       "skinparam classbackgroundcolor white\r\n",
       "skinparam shadowing false\r\n",
       "skinparam wrapWidth 300\r\n",
       "hide circle\r\n",
       "\r\n",
       "@enduml\r\n",
       "\n",
       "PlantUML version 1.2020.13(Sat Jun 13 12:26:38 UTC 2020)\n",
       "(EPL source distribution)\n",
       "Java Runtime: OpenJDK Runtime Environment\n",
       "JVM: OpenJDK 64-Bit Server VM\n",
       "Default Encoding: UTF-8\n",
       "Language: en\n",
       "Country: null\n",
       "--></g></svg>"
      ]
     },
     "execution_count": 4,
     "metadata": {},
     "output_type": "execute_result"
    }
   ],
   "source": [
    "%viz --style=\"COMPTREE\" --view=\"State\" \"ActionTest\""
   ]
  },
  {
   "cell_type": "code",
   "execution_count": 5,
   "id": "sufficient-graduate",
   "metadata": {
    "execution": {
     "iopub.execute_input": "2021-03-25T09:27:30.295234Z",
     "iopub.status.busy": "2021-03-25T09:27:30.293935Z",
     "iopub.status.idle": "2021-03-25T09:27:30.451366Z",
     "shell.execute_reply": "2021-03-25T09:27:30.451788Z"
    }
   },
   "outputs": [
    {
     "data": {
      "image/svg+xml": [
       "<?xml version=\"1.0\" encoding=\"UTF-8\" standalone=\"no\"?><svg xmlns=\"http://www.w3.org/2000/svg\" xmlns:xlink=\"http://www.w3.org/1999/xlink\" contentScriptType=\"application/ecmascript\" contentStyleType=\"text/css\" height=\"209px\" preserveAspectRatio=\"none\" style=\"width:296px;height:209px;\" version=\"1.1\" viewBox=\"0 0 296 209\" width=\"296px\" zoomAndPan=\"magnify\"><defs/><g><!--MD5=[fbc87193dbaf4d95561dea2c320d4a47]\n",
       "cluster E1--><a href=\"psysml:474d0406-5e3d-47be-b798-32d1cf114728\" target=\"_top\" title=\"psysml:474d0406-5e3d-47be-b798-32d1cf114728\" xlink:actuate=\"onRequest\" xlink:href=\"psysml:474d0406-5e3d-47be-b798-32d1cf114728\" xlink:show=\"new\" xlink:title=\"psysml:474d0406-5e3d-47be-b798-32d1cf114728\" xlink:type=\"simple\"><polygon fill=\"#FFFFFF\" points=\"16,6,107,6,114,28.2969,274,28.2969,274,197,16,197,16,6\" style=\"stroke: #000000; stroke-width: 1.5;\"/><line style=\"stroke: #000000; stroke-width: 1.5;\" x1=\"16\" x2=\"114\" y1=\"28.2969\" y2=\"28.2969\"/><text fill=\"#000000\" font-family=\"sans-serif\" font-size=\"14\" font-weight=\"bold\" lengthAdjust=\"spacingAndGlyphs\" textLength=\"85\" x=\"20\" y=\"20.9951\">ActionTest</text></a><!--MD5=[e4f7fae6ed58524ba242bb0b0d3be6b7]\n",
       "cluster E2--><a href=\"psysml:541513c5-2792-4586-9963-ba9e65ac733f\" target=\"_top\" title=\"psysml:541513c5-2792-4586-9963-ba9e65ac733f\" xlink:actuate=\"onRequest\" xlink:href=\"psysml:541513c5-2792-4586-9963-ba9e65ac733f\" xlink:show=\"new\" xlink:title=\"psysml:541513c5-2792-4586-9963-ba9e65ac733f\" xlink:type=\"simple\"><rect fill=\"#FFFFFF\" height=\"124\" id=\"E2\" rx=\"10\" ry=\"10\" style=\"stroke: #383838; stroke-width: 1.5;\" width=\"210\" x=\"40\" y=\"49\"/><rect fill=\"#F8F8F8\" height=\"37.9375\" rx=\"10\" ry=\"10\" style=\"stroke: #F8F8F8; stroke-width: 1.5;\" width=\"210\" x=\"40\" y=\"49\"/><rect fill=\"#F8F8F8\" height=\"10\" style=\"stroke: #F8F8F8; stroke-width: 1.5;\" width=\"210\" x=\"40\" y=\"76.9375\"/><rect fill=\"none\" height=\"124\" id=\"E2\" rx=\"10\" ry=\"10\" style=\"stroke: #383838; stroke-width: 1.5;\" width=\"210\" x=\"40\" y=\"49\"/><text fill=\"#000000\" font-family=\"sans-serif\" font-size=\"12\" font-style=\"italic\" lengthAdjust=\"spacingAndGlyphs\" textLength=\"53\" x=\"118.5\" y=\"65.1387\">«action»</text><text fill=\"#000000\" font-family=\"sans-serif\" font-size=\"12\" lengthAdjust=\"spacingAndGlyphs\" textLength=\"8\" x=\"141\" y=\"79.1074\">a</text><line style=\"stroke: #383838; stroke-width: 1.0;\" x1=\"40\" x2=\"250\" y1=\"86.9375\" y2=\"86.9375\"/></a><g id=\"E1.E2.E3\"><a href=\"psysml:09db3787-c9b3-4480-a102-0b64206fad8b\" target=\"_top\" title=\"psysml:09db3787-c9b3-4480-a102-0b64206fad8b\" xlink:actuate=\"onRequest\" xlink:href=\"psysml:09db3787-c9b3-4480-a102-0b64206fad8b\" xlink:show=\"new\" xlink:title=\"psysml:09db3787-c9b3-4480-a102-0b64206fad8b\" xlink:type=\"simple\"><rect fill=\"#FFFFFF\" height=\"56.9063\" id=\"E3\" rx=\"10\" ry=\"10\" style=\"stroke: #383838; stroke-width: 1.5;\" width=\"178\" x=\"56\" y=\"100\"/><rect fill=\"#F8F8F8\" height=\"51.9063\" rx=\"10\" ry=\"10\" style=\"stroke: #F8F8F8; stroke-width: 1.5;\" width=\"178\" x=\"56\" y=\"100\"/><rect fill=\"#F8F8F8\" height=\"10\" style=\"stroke: #F8F8F8; stroke-width: 1.5;\" width=\"178\" x=\"56\" y=\"141.9063\"/><rect fill=\"none\" height=\"56.9063\" id=\"E3\" rx=\"10\" ry=\"10\" style=\"stroke: #383838; stroke-width: 1.5;\" width=\"178\" x=\"56\" y=\"100\"/><text fill=\"#000000\" font-family=\"sans-serif\" font-size=\"12\" font-style=\"italic\" lengthAdjust=\"spacingAndGlyphs\" textLength=\"53\" x=\"118.5\" y=\"116.1387\">«action»</text><text fill=\"#000000\" font-family=\"sans-serif\" font-size=\"12\" lengthAdjust=\"spacingAndGlyphs\" textLength=\"77\" x=\"106.5\" y=\"130.1074\">start: Action</text><text fill=\"#000000\" font-family=\"sans-serif\" font-size=\"12\" font-style=\"italic\" lengthAdjust=\"spacingAndGlyphs\" textLength=\"163\" x=\"61.5\" y=\"144.0762\">:&gt;&gt;Occurrence::startShot</text><text fill=\"#000000\" font-family=\"sans-serif\" font-size=\"12\" lengthAdjust=\"spacingAndGlyphs\" textLength=\"0\" x=\"228.5\" y=\"144.0762\"/></a></g><!--MD5=[b9ba1a501e15a27be0f0b3080665cd52]\n",
       "@startuml\r\n",
       "skinparam ranksep 8\r\n",
       "skinparam rectangle {\r\n",
       " backgroundColor<<block>> LightGreen\r\n",
       "}\r\n",
       " skinparam monochrome true\r\n",
       "skinparam classbackgroundcolor white\r\n",
       "skinparam shadowing false\r\n",
       "skinparam wrapWidth 300\r\n",
       "hide circle\r\n",
       "\r\n",
       "package \"ActionTest\" as E1  [[psysml:474d0406-5e3d-47be-b798-32d1cf114728 ]]  {\r\n",
       "rec usage \"a\" as E2  <<(T,blue)action>> [[psysml:541513c5-2792-4586-9963-ba9e65ac733f ]] {\r\n",
       "rec usage \"start: Action\\n//:>>Occurrence::startShot// \" as E3  <<(T,blue)action>> [[psysml:09db3787-c9b3-4480-a102-0b64206fad8b ]] {\r\n",
       "}\r\n",
       "}\r\n",
       "}\r\n",
       "@enduml\r\n",
       "\n",
       "PlantUML version 1.2020.13(Sat Jun 13 12:26:38 UTC 2020)\n",
       "(EPL source distribution)\n",
       "Java Runtime: OpenJDK Runtime Environment\n",
       "JVM: OpenJDK 64-Bit Server VM\n",
       "Default Encoding: UTF-8\n",
       "Language: en\n",
       "Country: null\n",
       "--></g></svg>"
      ]
     },
     "execution_count": 5,
     "metadata": {},
     "output_type": "execute_result"
    }
   ],
   "source": [
    "%viz --style=\"COMPTREE\" --view=\"Interconnection\" \"ActionTest\""
   ]
  },
  {
   "cell_type": "code",
   "execution_count": 6,
   "id": "industrial-midwest",
   "metadata": {
    "execution": {
     "iopub.execute_input": "2021-03-25T09:27:30.503516Z",
     "iopub.status.busy": "2021-03-25T09:27:30.503016Z",
     "iopub.status.idle": "2021-03-25T09:27:30.567956Z",
     "shell.execute_reply": "2021-03-25T09:27:30.568464Z"
    }
   },
   "outputs": [
    {
     "data": {
      "image/svg+xml": [
       "<?xml version=\"1.0\" encoding=\"UTF-8\" standalone=\"no\"?><svg xmlns=\"http://www.w3.org/2000/svg\" xmlns:xlink=\"http://www.w3.org/1999/xlink\" contentScriptType=\"application/ecmascript\" contentStyleType=\"text/css\" height=\"128px\" preserveAspectRatio=\"none\" style=\"width:111px;height:128px;\" version=\"1.1\" viewBox=\"0 0 111 128\" width=\"111px\" zoomAndPan=\"magnify\"><defs/><g><!--MD5=[fbc87193dbaf4d95561dea2c320d4a47]\n",
       "cluster E1--><a href=\"psysml:541513c5-2792-4586-9963-ba9e65ac733f\" target=\"_top\" title=\"psysml:541513c5-2792-4586-9963-ba9e65ac733f\" xlink:actuate=\"onRequest\" xlink:href=\"psysml:541513c5-2792-4586-9963-ba9e65ac733f\" xlink:show=\"new\" xlink:title=\"psysml:541513c5-2792-4586-9963-ba9e65ac733f\" xlink:type=\"simple\"><rect fill=\"#FFFFFF\" height=\"110\" id=\"E1\" rx=\"10\" ry=\"10\" style=\"stroke: #383838; stroke-width: 1.5;\" width=\"92\" x=\"7\" y=\"7\"/><rect fill=\"#F8F8F8\" height=\"37.9375\" rx=\"10\" ry=\"10\" style=\"stroke: #F8F8F8; stroke-width: 1.5;\" width=\"92\" x=\"7\" y=\"7\"/><rect fill=\"#F8F8F8\" height=\"10\" style=\"stroke: #F8F8F8; stroke-width: 1.5;\" width=\"92\" x=\"7\" y=\"34.9375\"/><rect fill=\"none\" height=\"110\" id=\"E1\" rx=\"10\" ry=\"10\" style=\"stroke: #383838; stroke-width: 1.5;\" width=\"92\" x=\"7\" y=\"7\"/><text fill=\"#000000\" font-family=\"sans-serif\" font-size=\"12\" font-style=\"italic\" lengthAdjust=\"spacingAndGlyphs\" textLength=\"53\" x=\"26.5\" y=\"23.1387\">«action»</text><text fill=\"#000000\" font-family=\"sans-serif\" font-size=\"12\" lengthAdjust=\"spacingAndGlyphs\" textLength=\"8\" x=\"49\" y=\"37.1074\">a</text><line style=\"stroke: #383838; stroke-width: 1.0;\" x1=\"7\" x2=\"99\" y1=\"44.9375\" y2=\"44.9375\"/></a><g id=\"E1.E2\"><a href=\"psysml:09db3787-c9b3-4480-a102-0b64206fad8b\" target=\"_top\" title=\"psysml:09db3787-c9b3-4480-a102-0b64206fad8b\" xlink:actuate=\"onRequest\" xlink:href=\"psysml:09db3787-c9b3-4480-a102-0b64206fad8b\" xlink:show=\"new\" xlink:title=\"psysml:09db3787-c9b3-4480-a102-0b64206fad8b\" xlink:type=\"simple\"><rect fill=\"#FFFFFF\" height=\"42.9375\" id=\"E2\" rx=\"10\" ry=\"10\" style=\"stroke: #383838; stroke-width: 1.5;\" width=\"60\" x=\"23\" y=\"58\"/><rect fill=\"#F8F8F8\" height=\"37.9375\" rx=\"10\" ry=\"10\" style=\"stroke: #F8F8F8; stroke-width: 1.5;\" width=\"60\" x=\"23\" y=\"58\"/><rect fill=\"#F8F8F8\" height=\"10\" style=\"stroke: #F8F8F8; stroke-width: 1.5;\" width=\"60\" x=\"23\" y=\"85.9375\"/><rect fill=\"none\" height=\"42.9375\" id=\"E2\" rx=\"10\" ry=\"10\" style=\"stroke: #383838; stroke-width: 1.5;\" width=\"60\" x=\"23\" y=\"58\"/><text fill=\"#000000\" font-family=\"sans-serif\" font-size=\"12\" font-style=\"italic\" lengthAdjust=\"spacingAndGlyphs\" textLength=\"53\" x=\"26.5\" y=\"74.1387\">«action»</text><text fill=\"#000000\" font-family=\"sans-serif\" font-size=\"12\" lengthAdjust=\"spacingAndGlyphs\" textLength=\"30\" x=\"38\" y=\"88.1074\">start</text></a></g><!--MD5=[5e36256e48eaec53a07dece1420b150a]\n",
       "@startuml\r\n",
       "skinparam ranksep 8\r\n",
       " skinparam monochrome true\r\n",
       "skinparam classbackgroundcolor white\r\n",
       "skinparam shadowing false\r\n",
       "skinparam wrapWidth 300\r\n",
       "hide circle\r\n",
       "\r\n",
       "rec usage \"a\" as E1  <<(T,blue)action>> [[psysml:541513c5-2792-4586-9963-ba9e65ac733f ]] {\r\n",
       "rec usage \"start\" as E2  <<(T,blue)action>> [[psysml:09db3787-c9b3-4480-a102-0b64206fad8b ]] {\r\n",
       "}\r\n",
       "\r\n",
       "}\r\n",
       "\r\n",
       "@enduml\r\n",
       "\n",
       "PlantUML version 1.2020.13(Sat Jun 13 12:26:38 UTC 2020)\n",
       "(EPL source distribution)\n",
       "Java Runtime: OpenJDK Runtime Environment\n",
       "JVM: OpenJDK 64-Bit Server VM\n",
       "Default Encoding: UTF-8\n",
       "Language: en\n",
       "Country: null\n",
       "--></g></svg>"
      ]
     },
     "execution_count": 6,
     "metadata": {},
     "output_type": "execute_result"
    }
   ],
   "source": [
    "%viz --style=\"COMPTREE\" --view=\"Action\" \"ActionTest\""
   ]
  },
  {
   "cell_type": "code",
   "execution_count": 7,
   "id": "accomplished-vietnamese",
   "metadata": {
    "execution": {
     "iopub.execute_input": "2021-03-25T09:27:30.620138Z",
     "iopub.status.busy": "2021-03-25T09:27:30.619446Z",
     "iopub.status.idle": "2021-03-25T09:27:31.131924Z",
     "shell.execute_reply": "2021-03-25T09:27:31.131520Z"
    }
   },
   "outputs": [
    {
     "data": {
      "image/svg+xml": [
       "<?xml version=\"1.0\" encoding=\"UTF-8\" standalone=\"no\"?><svg xmlns=\"http://www.w3.org/2000/svg\" xmlns:xlink=\"http://www.w3.org/1999/xlink\" contentScriptType=\"application/ecmascript\" contentStyleType=\"text/css\" height=\"157px\" preserveAspectRatio=\"none\" style=\"width:230px;height:157px;\" version=\"1.1\" viewBox=\"0 0 230 157\" width=\"230px\" zoomAndPan=\"magnify\"><defs/><g><!--MD5=[fbc87193dbaf4d95561dea2c320d4a47]\n",
       "cluster E1--><a href=\"psysml:474d0406-5e3d-47be-b798-32d1cf114728\" target=\"_top\" title=\"psysml:474d0406-5e3d-47be-b798-32d1cf114728\" xlink:actuate=\"onRequest\" xlink:href=\"psysml:474d0406-5e3d-47be-b798-32d1cf114728\" xlink:show=\"new\" xlink:title=\"psysml:474d0406-5e3d-47be-b798-32d1cf114728\" xlink:type=\"simple\"><polygon fill=\"#FFFFFF\" points=\"16,6,107,6,114,28.2969,208,28.2969,208,145,16,145,16,6\" style=\"stroke: #000000; stroke-width: 1.5;\"/><line style=\"stroke: #000000; stroke-width: 1.5;\" x1=\"16\" x2=\"114\" y1=\"28.2969\" y2=\"28.2969\"/><text fill=\"#000000\" font-family=\"sans-serif\" font-size=\"14\" font-weight=\"bold\" lengthAdjust=\"spacingAndGlyphs\" textLength=\"85\" x=\"20\" y=\"20.9951\">ActionTest</text></a><!--MD5=[b4997ac47864f28c2f74865a473b2911]\n",
       "class E2--><a href=\"psysml:541513c5-2792-4586-9963-ba9e65ac733f\" target=\"_top\" title=\"psysml:541513c5-2792-4586-9963-ba9e65ac733f\" xlink:actuate=\"onRequest\" xlink:href=\"psysml:541513c5-2792-4586-9963-ba9e65ac733f\" xlink:show=\"new\" xlink:title=\"psysml:541513c5-2792-4586-9963-ba9e65ac733f\" xlink:type=\"simple\"><rect fill=\"#FFFFFF\" height=\"88.3516\" id=\"E2\" rx=\"10\" ry=\"10\" style=\"stroke: #383838; stroke-width: 1.5;\" width=\"160\" x=\"32\" y=\"41\"/><text fill=\"#000000\" font-family=\"sans-serif\" font-size=\"12\" font-style=\"italic\" lengthAdjust=\"spacingAndGlyphs\" textLength=\"53\" x=\"85.5\" y=\"57.1387\">«action»</text><text fill=\"#000000\" font-family=\"sans-serif\" font-size=\"12\" lengthAdjust=\"spacingAndGlyphs\" textLength=\"8\" x=\"108\" y=\"71.1074\">a</text><line style=\"stroke: #383838; stroke-width: 1.5;\" x1=\"33\" x2=\"191\" y1=\"78.9375\" y2=\"78.9375\"/><text fill=\"#000000\" font-family=\"sans-serif\" font-size=\"11\" lengthAdjust=\"spacingAndGlyphs\" textLength=\"69\" x=\"38\" y=\"109.9526\">start: Action</text><text fill=\"#000000\" font-family=\"sans-serif\" font-size=\"11\" font-style=\"italic\" lengthAdjust=\"spacingAndGlyphs\" textLength=\"148\" x=\"38\" y=\"122.7573\">:&gt;&gt;Occurrence::startShot</text><line style=\"stroke: #383838; stroke-width: 1.0;\" x1=\"33\" x2=\"91.5\" y1=\"93.3398\" y2=\"93.3398\"/><text fill=\"#000000\" font-family=\"sans-serif\" font-size=\"11\" lengthAdjust=\"spacingAndGlyphs\" textLength=\"41\" x=\"91.5\" y=\"96.6479\">actions</text><line style=\"stroke: #383838; stroke-width: 1.0;\" x1=\"132.5\" x2=\"191\" y1=\"93.3398\" y2=\"93.3398\"/></a><!--MD5=[d61877509ff6f5846f94e89f83b22253]\n",
       "@startuml\r\n",
       " skinparam monochrome true\r\n",
       "skinparam classbackgroundcolor white\r\n",
       "skinparam shadowing false\r\n",
       "skinparam wrapWidth 300\r\n",
       "hide circle\r\n",
       "\r\n",
       "package \"ActionTest\" as E1  [[psysml:474d0406-5e3d-47be-b798-32d1cf114728 ]]  {\r\n",
       "comp usage \"a\" as E2  <<(T,blue)action>> [[psysml:541513c5-2792-4586-9963-ba9e65ac733f ]] {\r\n",
       "- - actions - -\r\n",
       "start: Action\\n//:>>Occurrence::startShot// \r\n",
       "}\r\n",
       "}\r\n",
       "@enduml\r\n",
       "\n",
       "PlantUML version 1.2020.13(Sat Jun 13 12:26:38 UTC 2020)\n",
       "(EPL source distribution)\n",
       "Java Runtime: OpenJDK Runtime Environment\n",
       "JVM: OpenJDK 64-Bit Server VM\n",
       "Default Encoding: UTF-8\n",
       "Language: en\n",
       "Country: null\n",
       "--></g></svg>"
      ]
     },
     "execution_count": 7,
     "metadata": {},
     "output_type": "execute_result"
    }
   ],
   "source": [
    "%viz --style=\"COMPTREE\" --view=\"Sequence\" \"ActionTest\""
   ]
  },
  {
   "cell_type": "code",
   "execution_count": 8,
   "id": "solved-growth",
   "metadata": {
    "execution": {
     "iopub.execute_input": "2021-03-25T09:27:31.185651Z",
     "iopub.status.busy": "2021-03-25T09:27:31.184232Z",
     "iopub.status.idle": "2021-03-25T09:27:31.253692Z",
     "shell.execute_reply": "2021-03-25T09:27:31.253214Z"
    }
   },
   "outputs": [
    {
     "data": {
      "image/svg+xml": [
       "<?xml version=\"1.0\" encoding=\"UTF-8\" standalone=\"no\"?><svg xmlns=\"http://www.w3.org/2000/svg\" xmlns:xlink=\"http://www.w3.org/1999/xlink\" contentScriptType=\"application/ecmascript\" contentStyleType=\"text/css\" height=\"195px\" preserveAspectRatio=\"none\" style=\"width:178px;height:195px;\" version=\"1.1\" viewBox=\"0 0 178 195\" width=\"178px\" zoomAndPan=\"magnify\"><defs/><g><!--MD5=[fbc87193dbaf4d95561dea2c320d4a47]\n",
       "cluster E1--><a href=\"psysml:474d0406-5e3d-47be-b798-32d1cf114728\" target=\"_top\" title=\"psysml:474d0406-5e3d-47be-b798-32d1cf114728\" xlink:actuate=\"onRequest\" xlink:href=\"psysml:474d0406-5e3d-47be-b798-32d1cf114728\" xlink:show=\"new\" xlink:title=\"psysml:474d0406-5e3d-47be-b798-32d1cf114728\" xlink:type=\"simple\"><polygon fill=\"#FFFFFF\" points=\"16,6,107,6,114,28.2969,156,28.2969,156,183,16,183,16,6\" style=\"stroke: #000000; stroke-width: 1.5;\"/><line style=\"stroke: #000000; stroke-width: 1.5;\" x1=\"16\" x2=\"114\" y1=\"28.2969\" y2=\"28.2969\"/><text fill=\"#000000\" font-family=\"sans-serif\" font-size=\"14\" font-weight=\"bold\" lengthAdjust=\"spacingAndGlyphs\" textLength=\"85\" x=\"20\" y=\"20.9951\">ActionTest</text></a><!--MD5=[e4f7fae6ed58524ba242bb0b0d3be6b7]\n",
       "cluster E2--><a href=\"psysml:541513c5-2792-4586-9963-ba9e65ac733f\" target=\"_top\" title=\"psysml:541513c5-2792-4586-9963-ba9e65ac733f\" xlink:actuate=\"onRequest\" xlink:href=\"psysml:541513c5-2792-4586-9963-ba9e65ac733f\" xlink:show=\"new\" xlink:title=\"psysml:541513c5-2792-4586-9963-ba9e65ac733f\" xlink:type=\"simple\"><rect fill=\"#FFFFFF\" height=\"110\" id=\"E2\" rx=\"10\" ry=\"10\" style=\"stroke: #383838; stroke-width: 1.5;\" width=\"92\" x=\"40\" y=\"49\"/><rect fill=\"#F8F8F8\" height=\"37.9375\" rx=\"10\" ry=\"10\" style=\"stroke: #F8F8F8; stroke-width: 1.5;\" width=\"92\" x=\"40\" y=\"49\"/><rect fill=\"#F8F8F8\" height=\"10\" style=\"stroke: #F8F8F8; stroke-width: 1.5;\" width=\"92\" x=\"40\" y=\"76.9375\"/><rect fill=\"none\" height=\"110\" id=\"E2\" rx=\"10\" ry=\"10\" style=\"stroke: #383838; stroke-width: 1.5;\" width=\"92\" x=\"40\" y=\"49\"/><text fill=\"#000000\" font-family=\"sans-serif\" font-size=\"12\" font-style=\"italic\" lengthAdjust=\"spacingAndGlyphs\" textLength=\"53\" x=\"59.5\" y=\"65.1387\">«action»</text><text fill=\"#000000\" font-family=\"sans-serif\" font-size=\"12\" lengthAdjust=\"spacingAndGlyphs\" textLength=\"8\" x=\"82\" y=\"79.1074\">a</text><line style=\"stroke: #383838; stroke-width: 1.0;\" x1=\"40\" x2=\"132\" y1=\"86.9375\" y2=\"86.9375\"/></a><g id=\"E1.E2.E3\"><a href=\"psysml:09db3787-c9b3-4480-a102-0b64206fad8b\" target=\"_top\" title=\"psysml:09db3787-c9b3-4480-a102-0b64206fad8b\" xlink:actuate=\"onRequest\" xlink:href=\"psysml:09db3787-c9b3-4480-a102-0b64206fad8b\" xlink:show=\"new\" xlink:title=\"psysml:09db3787-c9b3-4480-a102-0b64206fad8b\" xlink:type=\"simple\"><rect fill=\"#FFFFFF\" height=\"42.9375\" id=\"E3\" rx=\"10\" ry=\"10\" style=\"stroke: #383838; stroke-width: 1.5;\" width=\"60\" x=\"56\" y=\"100\"/><rect fill=\"#F8F8F8\" height=\"37.9375\" rx=\"10\" ry=\"10\" style=\"stroke: #F8F8F8; stroke-width: 1.5;\" width=\"60\" x=\"56\" y=\"100\"/><rect fill=\"#F8F8F8\" height=\"10\" style=\"stroke: #F8F8F8; stroke-width: 1.5;\" width=\"60\" x=\"56\" y=\"127.9375\"/><rect fill=\"none\" height=\"42.9375\" id=\"E3\" rx=\"10\" ry=\"10\" style=\"stroke: #383838; stroke-width: 1.5;\" width=\"60\" x=\"56\" y=\"100\"/><text fill=\"#000000\" font-family=\"sans-serif\" font-size=\"12\" font-style=\"italic\" lengthAdjust=\"spacingAndGlyphs\" textLength=\"53\" x=\"59.5\" y=\"116.1387\">«action»</text><text fill=\"#000000\" font-family=\"sans-serif\" font-size=\"12\" lengthAdjust=\"spacingAndGlyphs\" textLength=\"30\" x=\"71\" y=\"130.1074\">start</text></a></g><!--MD5=[90b0c8a2131cf71dccc583359c0d47dc]\n",
       "@startuml\r\n",
       " skinparam monochrome true\r\n",
       "skinparam classbackgroundcolor white\r\n",
       "skinparam shadowing false\r\n",
       "skinparam wrapWidth 300\r\n",
       "hide circle\r\n",
       "\r\n",
       "package \"ActionTest\" as E1  [[psysml:474d0406-5e3d-47be-b798-32d1cf114728 ]]  {\r\n",
       "rec usage \"a\" as E2  <<(T,blue)action>> [[psysml:541513c5-2792-4586-9963-ba9e65ac733f ]] {\r\n",
       "rec usage \"start\" as E3  <<(T,blue)action>> [[psysml:09db3787-c9b3-4480-a102-0b64206fad8b ]] {\r\n",
       "}\r\n",
       "\r\n",
       "}\r\n",
       "\r\n",
       "}\r\n",
       "@enduml\r\n",
       "\n",
       "PlantUML version 1.2020.13(Sat Jun 13 12:26:38 UTC 2020)\n",
       "(EPL source distribution)\n",
       "Java Runtime: OpenJDK Runtime Environment\n",
       "JVM: OpenJDK 64-Bit Server VM\n",
       "Default Encoding: UTF-8\n",
       "Language: en\n",
       "Country: null\n",
       "--></g></svg>"
      ]
     },
     "execution_count": 8,
     "metadata": {},
     "output_type": "execute_result"
    }
   ],
   "source": [
    "%viz --style=\"COMPTREE\" --view=\"MIXED\" \"ActionTest\""
   ]
  },
  {
   "cell_type": "code",
   "execution_count": 9,
   "id": "educated-suite",
   "metadata": {
    "execution": {
     "iopub.execute_input": "2021-03-25T09:27:31.305561Z",
     "iopub.status.busy": "2021-03-25T09:27:31.304456Z",
     "iopub.status.idle": "2021-03-25T09:27:31.374048Z",
     "shell.execute_reply": "2021-03-25T09:27:31.373071Z"
    }
   },
   "outputs": [
    {
     "data": {
      "image/svg+xml": [
       "<?xml version=\"1.0\" encoding=\"UTF-8\" standalone=\"no\"?><svg xmlns=\"http://www.w3.org/2000/svg\" xmlns:xlink=\"http://www.w3.org/1999/xlink\" contentScriptType=\"application/ecmascript\" contentStyleType=\"text/css\" height=\"195px\" preserveAspectRatio=\"none\" style=\"width:178px;height:195px;\" version=\"1.1\" viewBox=\"0 0 178 195\" width=\"178px\" zoomAndPan=\"magnify\"><defs/><g><!--MD5=[fbc87193dbaf4d95561dea2c320d4a47]\n",
       "cluster E1--><a href=\"psysml:474d0406-5e3d-47be-b798-32d1cf114728\" target=\"_top\" title=\"psysml:474d0406-5e3d-47be-b798-32d1cf114728\" xlink:actuate=\"onRequest\" xlink:href=\"psysml:474d0406-5e3d-47be-b798-32d1cf114728\" xlink:show=\"new\" xlink:title=\"psysml:474d0406-5e3d-47be-b798-32d1cf114728\" xlink:type=\"simple\"><polygon fill=\"#FFFFFF\" points=\"16,6,107,6,114,28.2969,156,28.2969,156,183,16,183,16,6\" style=\"stroke: #000000; stroke-width: 1.5;\"/><line style=\"stroke: #000000; stroke-width: 1.5;\" x1=\"16\" x2=\"114\" y1=\"28.2969\" y2=\"28.2969\"/><text fill=\"#000000\" font-family=\"sans-serif\" font-size=\"14\" font-weight=\"bold\" lengthAdjust=\"spacingAndGlyphs\" textLength=\"85\" x=\"20\" y=\"20.9951\">ActionTest</text></a><!--MD5=[e4f7fae6ed58524ba242bb0b0d3be6b7]\n",
       "cluster E2--><a href=\"psysml:541513c5-2792-4586-9963-ba9e65ac733f\" target=\"_top\" title=\"psysml:541513c5-2792-4586-9963-ba9e65ac733f\" xlink:actuate=\"onRequest\" xlink:href=\"psysml:541513c5-2792-4586-9963-ba9e65ac733f\" xlink:show=\"new\" xlink:title=\"psysml:541513c5-2792-4586-9963-ba9e65ac733f\" xlink:type=\"simple\"><rect fill=\"#FFFFFF\" height=\"110\" id=\"E2\" rx=\"10\" ry=\"10\" style=\"stroke: #383838; stroke-width: 1.5;\" width=\"92\" x=\"40\" y=\"49\"/><rect fill=\"#F8F8F8\" height=\"37.9375\" rx=\"10\" ry=\"10\" style=\"stroke: #F8F8F8; stroke-width: 1.5;\" width=\"92\" x=\"40\" y=\"49\"/><rect fill=\"#F8F8F8\" height=\"10\" style=\"stroke: #F8F8F8; stroke-width: 1.5;\" width=\"92\" x=\"40\" y=\"76.9375\"/><rect fill=\"none\" height=\"110\" id=\"E2\" rx=\"10\" ry=\"10\" style=\"stroke: #383838; stroke-width: 1.5;\" width=\"92\" x=\"40\" y=\"49\"/><text fill=\"#000000\" font-family=\"sans-serif\" font-size=\"12\" font-style=\"italic\" lengthAdjust=\"spacingAndGlyphs\" textLength=\"53\" x=\"59.5\" y=\"65.1387\">«action»</text><text fill=\"#000000\" font-family=\"sans-serif\" font-size=\"12\" lengthAdjust=\"spacingAndGlyphs\" textLength=\"8\" x=\"82\" y=\"79.1074\">a</text><line style=\"stroke: #383838; stroke-width: 1.0;\" x1=\"40\" x2=\"132\" y1=\"86.9375\" y2=\"86.9375\"/></a><g id=\"E1.E2.E3\"><a href=\"psysml:09db3787-c9b3-4480-a102-0b64206fad8b\" target=\"_top\" title=\"psysml:09db3787-c9b3-4480-a102-0b64206fad8b\" xlink:actuate=\"onRequest\" xlink:href=\"psysml:09db3787-c9b3-4480-a102-0b64206fad8b\" xlink:show=\"new\" xlink:title=\"psysml:09db3787-c9b3-4480-a102-0b64206fad8b\" xlink:type=\"simple\"><rect fill=\"#FFFFFF\" height=\"42.9375\" id=\"E3\" rx=\"10\" ry=\"10\" style=\"stroke: #383838; stroke-width: 1.5;\" width=\"60\" x=\"56\" y=\"100\"/><rect fill=\"#F8F8F8\" height=\"37.9375\" rx=\"10\" ry=\"10\" style=\"stroke: #F8F8F8; stroke-width: 1.5;\" width=\"60\" x=\"56\" y=\"100\"/><rect fill=\"#F8F8F8\" height=\"10\" style=\"stroke: #F8F8F8; stroke-width: 1.5;\" width=\"60\" x=\"56\" y=\"127.9375\"/><rect fill=\"none\" height=\"42.9375\" id=\"E3\" rx=\"10\" ry=\"10\" style=\"stroke: #383838; stroke-width: 1.5;\" width=\"60\" x=\"56\" y=\"100\"/><text fill=\"#000000\" font-family=\"sans-serif\" font-size=\"12\" font-style=\"italic\" lengthAdjust=\"spacingAndGlyphs\" textLength=\"53\" x=\"59.5\" y=\"116.1387\">«action»</text><text fill=\"#000000\" font-family=\"sans-serif\" font-size=\"12\" lengthAdjust=\"spacingAndGlyphs\" textLength=\"30\" x=\"71\" y=\"130.1074\">start</text></a></g><!--MD5=[d7ff0294cede60a92fc26b837fad3ac1]\n",
       "@startuml\r\n",
       "skinparam linetype polyline\r\n",
       "skinparam monochrome true\r\n",
       "skinparam classbackgroundcolor white\r\n",
       "skinparam shadowing false\r\n",
       "skinparam wrapWidth 300\r\n",
       "hide circle\r\n",
       "\r\n",
       "package \"ActionTest\" as E1  [[psysml:474d0406-5e3d-47be-b798-32d1cf114728 ]]  {\r\n",
       "rec usage \"a\" as E2  <<(T,blue)action>> [[psysml:541513c5-2792-4586-9963-ba9e65ac733f ]] {\r\n",
       "rec usage \"start\" as E3  <<(T,blue)action>> [[psysml:09db3787-c9b3-4480-a102-0b64206fad8b ]] {\r\n",
       "}\r\n",
       "\r\n",
       "}\r\n",
       "\r\n",
       "}\r\n",
       "@enduml\r\n",
       "\n",
       "PlantUML version 1.2020.13(Sat Jun 13 12:26:38 UTC 2020)\n",
       "(EPL source distribution)\n",
       "Java Runtime: OpenJDK Runtime Environment\n",
       "JVM: OpenJDK 64-Bit Server VM\n",
       "Default Encoding: UTF-8\n",
       "Language: en\n",
       "Country: null\n",
       "--></g></svg>"
      ]
     },
     "execution_count": 9,
     "metadata": {},
     "output_type": "execute_result"
    }
   ],
   "source": [
    "%viz --style=\"POLYLINE\" --view=\"Default\" \"ActionTest\""
   ]
  },
  {
   "cell_type": "code",
   "execution_count": 10,
   "id": "steady-portugal",
   "metadata": {
    "execution": {
     "iopub.execute_input": "2021-03-25T09:27:31.426461Z",
     "iopub.status.busy": "2021-03-25T09:27:31.425610Z",
     "iopub.status.idle": "2021-03-25T09:27:31.927236Z",
     "shell.execute_reply": "2021-03-25T09:27:31.926595Z"
    }
   },
   "outputs": [
    {
     "data": {
      "image/svg+xml": [
       "<?xml version=\"1.0\" encoding=\"UTF-8\" standalone=\"no\"?><svg xmlns=\"http://www.w3.org/2000/svg\" xmlns:xlink=\"http://www.w3.org/1999/xlink\" contentScriptType=\"application/ecmascript\" contentStyleType=\"text/css\" height=\"157px\" preserveAspectRatio=\"none\" style=\"width:230px;height:157px;\" version=\"1.1\" viewBox=\"0 0 230 157\" width=\"230px\" zoomAndPan=\"magnify\"><defs/><g><!--MD5=[fbc87193dbaf4d95561dea2c320d4a47]\n",
       "cluster E1--><a href=\"psysml:474d0406-5e3d-47be-b798-32d1cf114728\" target=\"_top\" title=\"psysml:474d0406-5e3d-47be-b798-32d1cf114728\" xlink:actuate=\"onRequest\" xlink:href=\"psysml:474d0406-5e3d-47be-b798-32d1cf114728\" xlink:show=\"new\" xlink:title=\"psysml:474d0406-5e3d-47be-b798-32d1cf114728\" xlink:type=\"simple\"><polygon fill=\"#FFFFFF\" points=\"16,6,107,6,114,28.2969,208,28.2969,208,145,16,145,16,6\" style=\"stroke: #000000; stroke-width: 1.5;\"/><line style=\"stroke: #000000; stroke-width: 1.5;\" x1=\"16\" x2=\"114\" y1=\"28.2969\" y2=\"28.2969\"/><text fill=\"#000000\" font-family=\"sans-serif\" font-size=\"14\" font-weight=\"bold\" lengthAdjust=\"spacingAndGlyphs\" textLength=\"85\" x=\"20\" y=\"20.9951\">ActionTest</text></a><!--MD5=[b4997ac47864f28c2f74865a473b2911]\n",
       "class E2--><a href=\"psysml:541513c5-2792-4586-9963-ba9e65ac733f\" target=\"_top\" title=\"psysml:541513c5-2792-4586-9963-ba9e65ac733f\" xlink:actuate=\"onRequest\" xlink:href=\"psysml:541513c5-2792-4586-9963-ba9e65ac733f\" xlink:show=\"new\" xlink:title=\"psysml:541513c5-2792-4586-9963-ba9e65ac733f\" xlink:type=\"simple\"><rect fill=\"#FFFFFF\" height=\"88.3516\" id=\"E2\" rx=\"10\" ry=\"10\" style=\"stroke: #383838; stroke-width: 1.5;\" width=\"160\" x=\"32\" y=\"41\"/><text fill=\"#000000\" font-family=\"sans-serif\" font-size=\"12\" font-style=\"italic\" lengthAdjust=\"spacingAndGlyphs\" textLength=\"53\" x=\"85.5\" y=\"57.1387\">«action»</text><text fill=\"#000000\" font-family=\"sans-serif\" font-size=\"12\" lengthAdjust=\"spacingAndGlyphs\" textLength=\"8\" x=\"108\" y=\"71.1074\">a</text><line style=\"stroke: #383838; stroke-width: 1.5;\" x1=\"33\" x2=\"191\" y1=\"78.9375\" y2=\"78.9375\"/><text fill=\"#000000\" font-family=\"sans-serif\" font-size=\"11\" lengthAdjust=\"spacingAndGlyphs\" textLength=\"69\" x=\"38\" y=\"109.9526\">start: Action</text><text fill=\"#000000\" font-family=\"sans-serif\" font-size=\"11\" font-style=\"italic\" lengthAdjust=\"spacingAndGlyphs\" textLength=\"148\" x=\"38\" y=\"122.7573\">:&gt;&gt;Occurrence::startShot</text><line style=\"stroke: #383838; stroke-width: 1.0;\" x1=\"33\" x2=\"91.5\" y1=\"93.3398\" y2=\"93.3398\"/><text fill=\"#000000\" font-family=\"sans-serif\" font-size=\"11\" lengthAdjust=\"spacingAndGlyphs\" textLength=\"41\" x=\"91.5\" y=\"96.6479\">actions</text><line style=\"stroke: #383838; stroke-width: 1.0;\" x1=\"132.5\" x2=\"191\" y1=\"93.3398\" y2=\"93.3398\"/></a><!--MD5=[2090c0478499587507e805541d404f06]\n",
       "@startuml\r\n",
       "skinparam linetype polyline\r\n",
       "skinparam monochrome true\r\n",
       "skinparam classbackgroundcolor white\r\n",
       "skinparam shadowing false\r\n",
       "skinparam wrapWidth 300\r\n",
       "hide circle\r\n",
       "\r\n",
       "package \"ActionTest\" as E1  [[psysml:474d0406-5e3d-47be-b798-32d1cf114728 ]]  {\r\n",
       "comp usage \"a\" as E2  <<(T,blue)action>> [[psysml:541513c5-2792-4586-9963-ba9e65ac733f ]] {\r\n",
       "- - actions - -\r\n",
       "start: Action\\n//:>>Occurrence::startShot// \r\n",
       "}\r\n",
       "}\r\n",
       "@enduml\r\n",
       "\n",
       "PlantUML version 1.2020.13(Sat Jun 13 12:26:38 UTC 2020)\n",
       "(EPL source distribution)\n",
       "Java Runtime: OpenJDK Runtime Environment\n",
       "JVM: OpenJDK 64-Bit Server VM\n",
       "Default Encoding: UTF-8\n",
       "Language: en\n",
       "Country: null\n",
       "--></g></svg>"
      ]
     },
     "execution_count": 10,
     "metadata": {},
     "output_type": "execute_result"
    }
   ],
   "source": [
    "%viz --style=\"POLYLINE\" --view=\"Tree\" \"ActionTest\""
   ]
  },
  {
   "cell_type": "code",
   "execution_count": 11,
   "id": "hungarian-hydrogen",
   "metadata": {
    "execution": {
     "iopub.execute_input": "2021-03-25T09:27:31.979777Z",
     "iopub.status.busy": "2021-03-25T09:27:31.979118Z",
     "iopub.status.idle": "2021-03-25T09:27:31.990519Z",
     "shell.execute_reply": "2021-03-25T09:27:31.990091Z"
    }
   },
   "outputs": [
    {
     "data": {
      "image/svg+xml": [
       "<?xml version=\"1.0\" encoding=\"UTF-8\" standalone=\"no\"?><svg xmlns=\"http://www.w3.org/2000/svg\" xmlns:xlink=\"http://www.w3.org/1999/xlink\" contentScriptType=\"application/ecmascript\" contentStyleType=\"text/css\" height=\"12px\" preserveAspectRatio=\"none\" style=\"width:12px;height:12px;\" version=\"1.1\" viewBox=\"0 0 12 12\" width=\"12px\" zoomAndPan=\"magnify\"><defs/><g><!--MD5=[896ac0e7a515d8dd7765a661cb4ee08b]\n",
       "@startuml\r\n",
       "skinparam linetype polyline\r\n",
       "skinparam monochrome true\r\n",
       "skinparam classbackgroundcolor white\r\n",
       "skinparam shadowing false\r\n",
       "skinparam wrapWidth 300\r\n",
       "hide circle\r\n",
       "\r\n",
       "@enduml\r\n",
       "\n",
       "PlantUML version 1.2020.13(Sat Jun 13 12:26:38 UTC 2020)\n",
       "(EPL source distribution)\n",
       "Java Runtime: OpenJDK Runtime Environment\n",
       "JVM: OpenJDK 64-Bit Server VM\n",
       "Default Encoding: UTF-8\n",
       "Language: en\n",
       "Country: null\n",
       "--></g></svg>"
      ]
     },
     "execution_count": 11,
     "metadata": {},
     "output_type": "execute_result"
    }
   ],
   "source": [
    "%viz --style=\"POLYLINE\" --view=\"State\" \"ActionTest\""
   ]
  },
  {
   "cell_type": "code",
   "execution_count": 12,
   "id": "funny-fusion",
   "metadata": {
    "execution": {
     "iopub.execute_input": "2021-03-25T09:27:32.042544Z",
     "iopub.status.busy": "2021-03-25T09:27:32.042017Z",
     "iopub.status.idle": "2021-03-25T09:27:32.128247Z",
     "shell.execute_reply": "2021-03-25T09:27:32.127746Z"
    }
   },
   "outputs": [
    {
     "data": {
      "image/svg+xml": [
       "<?xml version=\"1.0\" encoding=\"UTF-8\" standalone=\"no\"?><svg xmlns=\"http://www.w3.org/2000/svg\" xmlns:xlink=\"http://www.w3.org/1999/xlink\" contentScriptType=\"application/ecmascript\" contentStyleType=\"text/css\" height=\"209px\" preserveAspectRatio=\"none\" style=\"width:296px;height:209px;\" version=\"1.1\" viewBox=\"0 0 296 209\" width=\"296px\" zoomAndPan=\"magnify\"><defs/><g><!--MD5=[fbc87193dbaf4d95561dea2c320d4a47]\n",
       "cluster E1--><a href=\"psysml:474d0406-5e3d-47be-b798-32d1cf114728\" target=\"_top\" title=\"psysml:474d0406-5e3d-47be-b798-32d1cf114728\" xlink:actuate=\"onRequest\" xlink:href=\"psysml:474d0406-5e3d-47be-b798-32d1cf114728\" xlink:show=\"new\" xlink:title=\"psysml:474d0406-5e3d-47be-b798-32d1cf114728\" xlink:type=\"simple\"><polygon fill=\"#FFFFFF\" points=\"16,6,107,6,114,28.2969,274,28.2969,274,197,16,197,16,6\" style=\"stroke: #000000; stroke-width: 1.5;\"/><line style=\"stroke: #000000; stroke-width: 1.5;\" x1=\"16\" x2=\"114\" y1=\"28.2969\" y2=\"28.2969\"/><text fill=\"#000000\" font-family=\"sans-serif\" font-size=\"14\" font-weight=\"bold\" lengthAdjust=\"spacingAndGlyphs\" textLength=\"85\" x=\"20\" y=\"20.9951\">ActionTest</text></a><!--MD5=[e4f7fae6ed58524ba242bb0b0d3be6b7]\n",
       "cluster E2--><a href=\"psysml:541513c5-2792-4586-9963-ba9e65ac733f\" target=\"_top\" title=\"psysml:541513c5-2792-4586-9963-ba9e65ac733f\" xlink:actuate=\"onRequest\" xlink:href=\"psysml:541513c5-2792-4586-9963-ba9e65ac733f\" xlink:show=\"new\" xlink:title=\"psysml:541513c5-2792-4586-9963-ba9e65ac733f\" xlink:type=\"simple\"><rect fill=\"#FFFFFF\" height=\"124\" id=\"E2\" rx=\"10\" ry=\"10\" style=\"stroke: #383838; stroke-width: 1.5;\" width=\"210\" x=\"40\" y=\"49\"/><rect fill=\"#F8F8F8\" height=\"37.9375\" rx=\"10\" ry=\"10\" style=\"stroke: #F8F8F8; stroke-width: 1.5;\" width=\"210\" x=\"40\" y=\"49\"/><rect fill=\"#F8F8F8\" height=\"10\" style=\"stroke: #F8F8F8; stroke-width: 1.5;\" width=\"210\" x=\"40\" y=\"76.9375\"/><rect fill=\"none\" height=\"124\" id=\"E2\" rx=\"10\" ry=\"10\" style=\"stroke: #383838; stroke-width: 1.5;\" width=\"210\" x=\"40\" y=\"49\"/><text fill=\"#000000\" font-family=\"sans-serif\" font-size=\"12\" font-style=\"italic\" lengthAdjust=\"spacingAndGlyphs\" textLength=\"53\" x=\"118.5\" y=\"65.1387\">«action»</text><text fill=\"#000000\" font-family=\"sans-serif\" font-size=\"12\" lengthAdjust=\"spacingAndGlyphs\" textLength=\"8\" x=\"141\" y=\"79.1074\">a</text><line style=\"stroke: #383838; stroke-width: 1.0;\" x1=\"40\" x2=\"250\" y1=\"86.9375\" y2=\"86.9375\"/></a><g id=\"E1.E2.E3\"><a href=\"psysml:09db3787-c9b3-4480-a102-0b64206fad8b\" target=\"_top\" title=\"psysml:09db3787-c9b3-4480-a102-0b64206fad8b\" xlink:actuate=\"onRequest\" xlink:href=\"psysml:09db3787-c9b3-4480-a102-0b64206fad8b\" xlink:show=\"new\" xlink:title=\"psysml:09db3787-c9b3-4480-a102-0b64206fad8b\" xlink:type=\"simple\"><rect fill=\"#FFFFFF\" height=\"56.9063\" id=\"E3\" rx=\"10\" ry=\"10\" style=\"stroke: #383838; stroke-width: 1.5;\" width=\"178\" x=\"56\" y=\"100\"/><rect fill=\"#F8F8F8\" height=\"51.9063\" rx=\"10\" ry=\"10\" style=\"stroke: #F8F8F8; stroke-width: 1.5;\" width=\"178\" x=\"56\" y=\"100\"/><rect fill=\"#F8F8F8\" height=\"10\" style=\"stroke: #F8F8F8; stroke-width: 1.5;\" width=\"178\" x=\"56\" y=\"141.9063\"/><rect fill=\"none\" height=\"56.9063\" id=\"E3\" rx=\"10\" ry=\"10\" style=\"stroke: #383838; stroke-width: 1.5;\" width=\"178\" x=\"56\" y=\"100\"/><text fill=\"#000000\" font-family=\"sans-serif\" font-size=\"12\" font-style=\"italic\" lengthAdjust=\"spacingAndGlyphs\" textLength=\"53\" x=\"118.5\" y=\"116.1387\">«action»</text><text fill=\"#000000\" font-family=\"sans-serif\" font-size=\"12\" lengthAdjust=\"spacingAndGlyphs\" textLength=\"77\" x=\"106.5\" y=\"130.1074\">start: Action</text><text fill=\"#000000\" font-family=\"sans-serif\" font-size=\"12\" font-style=\"italic\" lengthAdjust=\"spacingAndGlyphs\" textLength=\"163\" x=\"61.5\" y=\"144.0762\">:&gt;&gt;Occurrence::startShot</text><text fill=\"#000000\" font-family=\"sans-serif\" font-size=\"12\" lengthAdjust=\"spacingAndGlyphs\" textLength=\"0\" x=\"228.5\" y=\"144.0762\"/></a></g><!--MD5=[5d7f402ef29421cd3ead9d85f3a24506]\n",
       "@startuml\r\n",
       "skinparam ranksep 8\r\n",
       "skinparam rectangle {\r\n",
       " backgroundColor<<block>> LightGreen\r\n",
       "}\r\n",
       "skinparam linetype polyline\r\n",
       "skinparam monochrome true\r\n",
       "skinparam classbackgroundcolor white\r\n",
       "skinparam shadowing false\r\n",
       "skinparam wrapWidth 300\r\n",
       "hide circle\r\n",
       "\r\n",
       "package \"ActionTest\" as E1  [[psysml:474d0406-5e3d-47be-b798-32d1cf114728 ]]  {\r\n",
       "rec usage \"a\" as E2  <<(T,blue)action>> [[psysml:541513c5-2792-4586-9963-ba9e65ac733f ]] {\r\n",
       "rec usage \"start: Action\\n//:>>Occurrence::startShot// \" as E3  <<(T,blue)action>> [[psysml:09db3787-c9b3-4480-a102-0b64206fad8b ]] {\r\n",
       "}\r\n",
       "}\r\n",
       "}\r\n",
       "@enduml\r\n",
       "\n",
       "PlantUML version 1.2020.13(Sat Jun 13 12:26:38 UTC 2020)\n",
       "(EPL source distribution)\n",
       "Java Runtime: OpenJDK Runtime Environment\n",
       "JVM: OpenJDK 64-Bit Server VM\n",
       "Default Encoding: UTF-8\n",
       "Language: en\n",
       "Country: null\n",
       "--></g></svg>"
      ]
     },
     "execution_count": 12,
     "metadata": {},
     "output_type": "execute_result"
    }
   ],
   "source": [
    "%viz --style=\"POLYLINE\" --view=\"Interconnection\" \"ActionTest\""
   ]
  },
  {
   "cell_type": "code",
   "execution_count": 13,
   "id": "spare-robert",
   "metadata": {
    "execution": {
     "iopub.execute_input": "2021-03-25T09:27:32.179461Z",
     "iopub.status.busy": "2021-03-25T09:27:32.178897Z",
     "iopub.status.idle": "2021-03-25T09:27:32.236025Z",
     "shell.execute_reply": "2021-03-25T09:27:32.236429Z"
    }
   },
   "outputs": [
    {
     "data": {
      "image/svg+xml": [
       "<?xml version=\"1.0\" encoding=\"UTF-8\" standalone=\"no\"?><svg xmlns=\"http://www.w3.org/2000/svg\" xmlns:xlink=\"http://www.w3.org/1999/xlink\" contentScriptType=\"application/ecmascript\" contentStyleType=\"text/css\" height=\"128px\" preserveAspectRatio=\"none\" style=\"width:111px;height:128px;\" version=\"1.1\" viewBox=\"0 0 111 128\" width=\"111px\" zoomAndPan=\"magnify\"><defs/><g><!--MD5=[fbc87193dbaf4d95561dea2c320d4a47]\n",
       "cluster E1--><a href=\"psysml:541513c5-2792-4586-9963-ba9e65ac733f\" target=\"_top\" title=\"psysml:541513c5-2792-4586-9963-ba9e65ac733f\" xlink:actuate=\"onRequest\" xlink:href=\"psysml:541513c5-2792-4586-9963-ba9e65ac733f\" xlink:show=\"new\" xlink:title=\"psysml:541513c5-2792-4586-9963-ba9e65ac733f\" xlink:type=\"simple\"><rect fill=\"#FFFFFF\" height=\"110\" id=\"E1\" rx=\"10\" ry=\"10\" style=\"stroke: #383838; stroke-width: 1.5;\" width=\"92\" x=\"7\" y=\"7\"/><rect fill=\"#F8F8F8\" height=\"37.9375\" rx=\"10\" ry=\"10\" style=\"stroke: #F8F8F8; stroke-width: 1.5;\" width=\"92\" x=\"7\" y=\"7\"/><rect fill=\"#F8F8F8\" height=\"10\" style=\"stroke: #F8F8F8; stroke-width: 1.5;\" width=\"92\" x=\"7\" y=\"34.9375\"/><rect fill=\"none\" height=\"110\" id=\"E1\" rx=\"10\" ry=\"10\" style=\"stroke: #383838; stroke-width: 1.5;\" width=\"92\" x=\"7\" y=\"7\"/><text fill=\"#000000\" font-family=\"sans-serif\" font-size=\"12\" font-style=\"italic\" lengthAdjust=\"spacingAndGlyphs\" textLength=\"53\" x=\"26.5\" y=\"23.1387\">«action»</text><text fill=\"#000000\" font-family=\"sans-serif\" font-size=\"12\" lengthAdjust=\"spacingAndGlyphs\" textLength=\"8\" x=\"49\" y=\"37.1074\">a</text><line style=\"stroke: #383838; stroke-width: 1.0;\" x1=\"7\" x2=\"99\" y1=\"44.9375\" y2=\"44.9375\"/></a><g id=\"E1.E2\"><a href=\"psysml:09db3787-c9b3-4480-a102-0b64206fad8b\" target=\"_top\" title=\"psysml:09db3787-c9b3-4480-a102-0b64206fad8b\" xlink:actuate=\"onRequest\" xlink:href=\"psysml:09db3787-c9b3-4480-a102-0b64206fad8b\" xlink:show=\"new\" xlink:title=\"psysml:09db3787-c9b3-4480-a102-0b64206fad8b\" xlink:type=\"simple\"><rect fill=\"#FFFFFF\" height=\"42.9375\" id=\"E2\" rx=\"10\" ry=\"10\" style=\"stroke: #383838; stroke-width: 1.5;\" width=\"60\" x=\"23\" y=\"58\"/><rect fill=\"#F8F8F8\" height=\"37.9375\" rx=\"10\" ry=\"10\" style=\"stroke: #F8F8F8; stroke-width: 1.5;\" width=\"60\" x=\"23\" y=\"58\"/><rect fill=\"#F8F8F8\" height=\"10\" style=\"stroke: #F8F8F8; stroke-width: 1.5;\" width=\"60\" x=\"23\" y=\"85.9375\"/><rect fill=\"none\" height=\"42.9375\" id=\"E2\" rx=\"10\" ry=\"10\" style=\"stroke: #383838; stroke-width: 1.5;\" width=\"60\" x=\"23\" y=\"58\"/><text fill=\"#000000\" font-family=\"sans-serif\" font-size=\"12\" font-style=\"italic\" lengthAdjust=\"spacingAndGlyphs\" textLength=\"53\" x=\"26.5\" y=\"74.1387\">«action»</text><text fill=\"#000000\" font-family=\"sans-serif\" font-size=\"12\" lengthAdjust=\"spacingAndGlyphs\" textLength=\"30\" x=\"38\" y=\"88.1074\">start</text></a></g><!--MD5=[39a19c5560761a42f7a9addf49811ef7]\n",
       "@startuml\r\n",
       "skinparam ranksep 8\r\n",
       "skinparam linetype polyline\r\n",
       "skinparam monochrome true\r\n",
       "skinparam classbackgroundcolor white\r\n",
       "skinparam shadowing false\r\n",
       "skinparam wrapWidth 300\r\n",
       "hide circle\r\n",
       "\r\n",
       "rec usage \"a\" as E1  <<(T,blue)action>> [[psysml:541513c5-2792-4586-9963-ba9e65ac733f ]] {\r\n",
       "rec usage \"start\" as E2  <<(T,blue)action>> [[psysml:09db3787-c9b3-4480-a102-0b64206fad8b ]] {\r\n",
       "}\r\n",
       "\r\n",
       "}\r\n",
       "\r\n",
       "@enduml\r\n",
       "\n",
       "PlantUML version 1.2020.13(Sat Jun 13 12:26:38 UTC 2020)\n",
       "(EPL source distribution)\n",
       "Java Runtime: OpenJDK Runtime Environment\n",
       "JVM: OpenJDK 64-Bit Server VM\n",
       "Default Encoding: UTF-8\n",
       "Language: en\n",
       "Country: null\n",
       "--></g></svg>"
      ]
     },
     "execution_count": 13,
     "metadata": {},
     "output_type": "execute_result"
    }
   ],
   "source": [
    "%viz --style=\"POLYLINE\" --view=\"Action\" \"ActionTest\""
   ]
  },
  {
   "cell_type": "code",
   "execution_count": 14,
   "id": "invalid-tiger",
   "metadata": {
    "execution": {
     "iopub.execute_input": "2021-03-25T09:27:32.286713Z",
     "iopub.status.busy": "2021-03-25T09:27:32.286271Z",
     "iopub.status.idle": "2021-03-25T09:27:32.789093Z",
     "shell.execute_reply": "2021-03-25T09:27:32.789470Z"
    }
   },
   "outputs": [
    {
     "data": {
      "image/svg+xml": [
       "<?xml version=\"1.0\" encoding=\"UTF-8\" standalone=\"no\"?><svg xmlns=\"http://www.w3.org/2000/svg\" xmlns:xlink=\"http://www.w3.org/1999/xlink\" contentScriptType=\"application/ecmascript\" contentStyleType=\"text/css\" height=\"157px\" preserveAspectRatio=\"none\" style=\"width:230px;height:157px;\" version=\"1.1\" viewBox=\"0 0 230 157\" width=\"230px\" zoomAndPan=\"magnify\"><defs/><g><!--MD5=[fbc87193dbaf4d95561dea2c320d4a47]\n",
       "cluster E1--><a href=\"psysml:474d0406-5e3d-47be-b798-32d1cf114728\" target=\"_top\" title=\"psysml:474d0406-5e3d-47be-b798-32d1cf114728\" xlink:actuate=\"onRequest\" xlink:href=\"psysml:474d0406-5e3d-47be-b798-32d1cf114728\" xlink:show=\"new\" xlink:title=\"psysml:474d0406-5e3d-47be-b798-32d1cf114728\" xlink:type=\"simple\"><polygon fill=\"#FFFFFF\" points=\"16,6,107,6,114,28.2969,208,28.2969,208,145,16,145,16,6\" style=\"stroke: #000000; stroke-width: 1.5;\"/><line style=\"stroke: #000000; stroke-width: 1.5;\" x1=\"16\" x2=\"114\" y1=\"28.2969\" y2=\"28.2969\"/><text fill=\"#000000\" font-family=\"sans-serif\" font-size=\"14\" font-weight=\"bold\" lengthAdjust=\"spacingAndGlyphs\" textLength=\"85\" x=\"20\" y=\"20.9951\">ActionTest</text></a><!--MD5=[b4997ac47864f28c2f74865a473b2911]\n",
       "class E2--><a href=\"psysml:541513c5-2792-4586-9963-ba9e65ac733f\" target=\"_top\" title=\"psysml:541513c5-2792-4586-9963-ba9e65ac733f\" xlink:actuate=\"onRequest\" xlink:href=\"psysml:541513c5-2792-4586-9963-ba9e65ac733f\" xlink:show=\"new\" xlink:title=\"psysml:541513c5-2792-4586-9963-ba9e65ac733f\" xlink:type=\"simple\"><rect fill=\"#FFFFFF\" height=\"88.3516\" id=\"E2\" rx=\"10\" ry=\"10\" style=\"stroke: #383838; stroke-width: 1.5;\" width=\"160\" x=\"32\" y=\"41\"/><text fill=\"#000000\" font-family=\"sans-serif\" font-size=\"12\" font-style=\"italic\" lengthAdjust=\"spacingAndGlyphs\" textLength=\"53\" x=\"85.5\" y=\"57.1387\">«action»</text><text fill=\"#000000\" font-family=\"sans-serif\" font-size=\"12\" lengthAdjust=\"spacingAndGlyphs\" textLength=\"8\" x=\"108\" y=\"71.1074\">a</text><line style=\"stroke: #383838; stroke-width: 1.5;\" x1=\"33\" x2=\"191\" y1=\"78.9375\" y2=\"78.9375\"/><text fill=\"#000000\" font-family=\"sans-serif\" font-size=\"11\" lengthAdjust=\"spacingAndGlyphs\" textLength=\"69\" x=\"38\" y=\"109.9526\">start: Action</text><text fill=\"#000000\" font-family=\"sans-serif\" font-size=\"11\" font-style=\"italic\" lengthAdjust=\"spacingAndGlyphs\" textLength=\"148\" x=\"38\" y=\"122.7573\">:&gt;&gt;Occurrence::startShot</text><line style=\"stroke: #383838; stroke-width: 1.0;\" x1=\"33\" x2=\"91.5\" y1=\"93.3398\" y2=\"93.3398\"/><text fill=\"#000000\" font-family=\"sans-serif\" font-size=\"11\" lengthAdjust=\"spacingAndGlyphs\" textLength=\"41\" x=\"91.5\" y=\"96.6479\">actions</text><line style=\"stroke: #383838; stroke-width: 1.0;\" x1=\"132.5\" x2=\"191\" y1=\"93.3398\" y2=\"93.3398\"/></a><!--MD5=[2090c0478499587507e805541d404f06]\n",
       "@startuml\r\n",
       "skinparam linetype polyline\r\n",
       "skinparam monochrome true\r\n",
       "skinparam classbackgroundcolor white\r\n",
       "skinparam shadowing false\r\n",
       "skinparam wrapWidth 300\r\n",
       "hide circle\r\n",
       "\r\n",
       "package \"ActionTest\" as E1  [[psysml:474d0406-5e3d-47be-b798-32d1cf114728 ]]  {\r\n",
       "comp usage \"a\" as E2  <<(T,blue)action>> [[psysml:541513c5-2792-4586-9963-ba9e65ac733f ]] {\r\n",
       "- - actions - -\r\n",
       "start: Action\\n//:>>Occurrence::startShot// \r\n",
       "}\r\n",
       "}\r\n",
       "@enduml\r\n",
       "\n",
       "PlantUML version 1.2020.13(Sat Jun 13 12:26:38 UTC 2020)\n",
       "(EPL source distribution)\n",
       "Java Runtime: OpenJDK Runtime Environment\n",
       "JVM: OpenJDK 64-Bit Server VM\n",
       "Default Encoding: UTF-8\n",
       "Language: en\n",
       "Country: null\n",
       "--></g></svg>"
      ]
     },
     "execution_count": 14,
     "metadata": {},
     "output_type": "execute_result"
    }
   ],
   "source": [
    "%viz --style=\"POLYLINE\" --view=\"Sequence\" \"ActionTest\""
   ]
  },
  {
   "cell_type": "code",
   "execution_count": 15,
   "id": "sweet-encyclopedia",
   "metadata": {
    "execution": {
     "iopub.execute_input": "2021-03-25T09:27:32.840669Z",
     "iopub.status.busy": "2021-03-25T09:27:32.840176Z",
     "iopub.status.idle": "2021-03-25T09:27:32.902761Z",
     "shell.execute_reply": "2021-03-25T09:27:32.902416Z"
    }
   },
   "outputs": [
    {
     "data": {
      "image/svg+xml": [
       "<?xml version=\"1.0\" encoding=\"UTF-8\" standalone=\"no\"?><svg xmlns=\"http://www.w3.org/2000/svg\" xmlns:xlink=\"http://www.w3.org/1999/xlink\" contentScriptType=\"application/ecmascript\" contentStyleType=\"text/css\" height=\"195px\" preserveAspectRatio=\"none\" style=\"width:178px;height:195px;\" version=\"1.1\" viewBox=\"0 0 178 195\" width=\"178px\" zoomAndPan=\"magnify\"><defs/><g><!--MD5=[fbc87193dbaf4d95561dea2c320d4a47]\n",
       "cluster E1--><a href=\"psysml:474d0406-5e3d-47be-b798-32d1cf114728\" target=\"_top\" title=\"psysml:474d0406-5e3d-47be-b798-32d1cf114728\" xlink:actuate=\"onRequest\" xlink:href=\"psysml:474d0406-5e3d-47be-b798-32d1cf114728\" xlink:show=\"new\" xlink:title=\"psysml:474d0406-5e3d-47be-b798-32d1cf114728\" xlink:type=\"simple\"><polygon fill=\"#FFFFFF\" points=\"16,6,107,6,114,28.2969,156,28.2969,156,183,16,183,16,6\" style=\"stroke: #000000; stroke-width: 1.5;\"/><line style=\"stroke: #000000; stroke-width: 1.5;\" x1=\"16\" x2=\"114\" y1=\"28.2969\" y2=\"28.2969\"/><text fill=\"#000000\" font-family=\"sans-serif\" font-size=\"14\" font-weight=\"bold\" lengthAdjust=\"spacingAndGlyphs\" textLength=\"85\" x=\"20\" y=\"20.9951\">ActionTest</text></a><!--MD5=[e4f7fae6ed58524ba242bb0b0d3be6b7]\n",
       "cluster E2--><a href=\"psysml:541513c5-2792-4586-9963-ba9e65ac733f\" target=\"_top\" title=\"psysml:541513c5-2792-4586-9963-ba9e65ac733f\" xlink:actuate=\"onRequest\" xlink:href=\"psysml:541513c5-2792-4586-9963-ba9e65ac733f\" xlink:show=\"new\" xlink:title=\"psysml:541513c5-2792-4586-9963-ba9e65ac733f\" xlink:type=\"simple\"><rect fill=\"#FFFFFF\" height=\"110\" id=\"E2\" rx=\"10\" ry=\"10\" style=\"stroke: #383838; stroke-width: 1.5;\" width=\"92\" x=\"40\" y=\"49\"/><rect fill=\"#F8F8F8\" height=\"37.9375\" rx=\"10\" ry=\"10\" style=\"stroke: #F8F8F8; stroke-width: 1.5;\" width=\"92\" x=\"40\" y=\"49\"/><rect fill=\"#F8F8F8\" height=\"10\" style=\"stroke: #F8F8F8; stroke-width: 1.5;\" width=\"92\" x=\"40\" y=\"76.9375\"/><rect fill=\"none\" height=\"110\" id=\"E2\" rx=\"10\" ry=\"10\" style=\"stroke: #383838; stroke-width: 1.5;\" width=\"92\" x=\"40\" y=\"49\"/><text fill=\"#000000\" font-family=\"sans-serif\" font-size=\"12\" font-style=\"italic\" lengthAdjust=\"spacingAndGlyphs\" textLength=\"53\" x=\"59.5\" y=\"65.1387\">«action»</text><text fill=\"#000000\" font-family=\"sans-serif\" font-size=\"12\" lengthAdjust=\"spacingAndGlyphs\" textLength=\"8\" x=\"82\" y=\"79.1074\">a</text><line style=\"stroke: #383838; stroke-width: 1.0;\" x1=\"40\" x2=\"132\" y1=\"86.9375\" y2=\"86.9375\"/></a><g id=\"E1.E2.E3\"><a href=\"psysml:09db3787-c9b3-4480-a102-0b64206fad8b\" target=\"_top\" title=\"psysml:09db3787-c9b3-4480-a102-0b64206fad8b\" xlink:actuate=\"onRequest\" xlink:href=\"psysml:09db3787-c9b3-4480-a102-0b64206fad8b\" xlink:show=\"new\" xlink:title=\"psysml:09db3787-c9b3-4480-a102-0b64206fad8b\" xlink:type=\"simple\"><rect fill=\"#FFFFFF\" height=\"42.9375\" id=\"E3\" rx=\"10\" ry=\"10\" style=\"stroke: #383838; stroke-width: 1.5;\" width=\"60\" x=\"56\" y=\"100\"/><rect fill=\"#F8F8F8\" height=\"37.9375\" rx=\"10\" ry=\"10\" style=\"stroke: #F8F8F8; stroke-width: 1.5;\" width=\"60\" x=\"56\" y=\"100\"/><rect fill=\"#F8F8F8\" height=\"10\" style=\"stroke: #F8F8F8; stroke-width: 1.5;\" width=\"60\" x=\"56\" y=\"127.9375\"/><rect fill=\"none\" height=\"42.9375\" id=\"E3\" rx=\"10\" ry=\"10\" style=\"stroke: #383838; stroke-width: 1.5;\" width=\"60\" x=\"56\" y=\"100\"/><text fill=\"#000000\" font-family=\"sans-serif\" font-size=\"12\" font-style=\"italic\" lengthAdjust=\"spacingAndGlyphs\" textLength=\"53\" x=\"59.5\" y=\"116.1387\">«action»</text><text fill=\"#000000\" font-family=\"sans-serif\" font-size=\"12\" lengthAdjust=\"spacingAndGlyphs\" textLength=\"30\" x=\"71\" y=\"130.1074\">start</text></a></g><!--MD5=[d7ff0294cede60a92fc26b837fad3ac1]\n",
       "@startuml\r\n",
       "skinparam linetype polyline\r\n",
       "skinparam monochrome true\r\n",
       "skinparam classbackgroundcolor white\r\n",
       "skinparam shadowing false\r\n",
       "skinparam wrapWidth 300\r\n",
       "hide circle\r\n",
       "\r\n",
       "package \"ActionTest\" as E1  [[psysml:474d0406-5e3d-47be-b798-32d1cf114728 ]]  {\r\n",
       "rec usage \"a\" as E2  <<(T,blue)action>> [[psysml:541513c5-2792-4586-9963-ba9e65ac733f ]] {\r\n",
       "rec usage \"start\" as E3  <<(T,blue)action>> [[psysml:09db3787-c9b3-4480-a102-0b64206fad8b ]] {\r\n",
       "}\r\n",
       "\r\n",
       "}\r\n",
       "\r\n",
       "}\r\n",
       "@enduml\r\n",
       "\n",
       "PlantUML version 1.2020.13(Sat Jun 13 12:26:38 UTC 2020)\n",
       "(EPL source distribution)\n",
       "Java Runtime: OpenJDK Runtime Environment\n",
       "JVM: OpenJDK 64-Bit Server VM\n",
       "Default Encoding: UTF-8\n",
       "Language: en\n",
       "Country: null\n",
       "--></g></svg>"
      ]
     },
     "execution_count": 15,
     "metadata": {},
     "output_type": "execute_result"
    }
   ],
   "source": [
    "%viz --style=\"POLYLINE\" --view=\"MIXED\" \"ActionTest\""
   ]
  },
  {
   "cell_type": "code",
   "execution_count": 16,
   "id": "chinese-scroll",
   "metadata": {
    "execution": {
     "iopub.execute_input": "2021-03-25T09:27:32.956503Z",
     "iopub.status.busy": "2021-03-25T09:27:32.956007Z",
     "iopub.status.idle": "2021-03-25T09:27:33.015474Z",
     "shell.execute_reply": "2021-03-25T09:27:33.015152Z"
    }
   },
   "outputs": [
    {
     "data": {
      "image/svg+xml": [
       "<?xml version=\"1.0\" encoding=\"UTF-8\" standalone=\"no\"?><svg xmlns=\"http://www.w3.org/2000/svg\" xmlns:xlink=\"http://www.w3.org/1999/xlink\" contentScriptType=\"application/ecmascript\" contentStyleType=\"text/css\" height=\"196px\" preserveAspectRatio=\"none\" style=\"width:178px;height:196px;\" version=\"1.1\" viewBox=\"0 0 178 196\" width=\"178px\" zoomAndPan=\"magnify\"><defs/><g><!--MD5=[fbc87193dbaf4d95561dea2c320d4a47]\n",
       "cluster E1--><a href=\"psysml:474d0406-5e3d-47be-b798-32d1cf114728\" target=\"_top\" title=\"psysml:474d0406-5e3d-47be-b798-32d1cf114728\" xlink:actuate=\"onRequest\" xlink:href=\"psysml:474d0406-5e3d-47be-b798-32d1cf114728\" xlink:show=\"new\" xlink:title=\"psysml:474d0406-5e3d-47be-b798-32d1cf114728\" xlink:type=\"simple\"><polygon fill=\"#FFFFFF\" points=\"16,6,107,6,114,28.2969,156,28.2969,156,184,16,184,16,6\" style=\"stroke: #000000; stroke-width: 1.5;\"/><line style=\"stroke: #000000; stroke-width: 1.5;\" x1=\"16\" x2=\"114\" y1=\"28.2969\" y2=\"28.2969\"/><text fill=\"#000000\" font-family=\"sans-serif\" font-size=\"14\" font-weight=\"bold\" lengthAdjust=\"spacingAndGlyphs\" textLength=\"85\" x=\"20\" y=\"20.9951\">ActionTest</text></a><!--MD5=[e4f7fae6ed58524ba242bb0b0d3be6b7]\n",
       "cluster E2--><a href=\"psysml:541513c5-2792-4586-9963-ba9e65ac733f\" target=\"_top\" title=\"psysml:541513c5-2792-4586-9963-ba9e65ac733f\" xlink:actuate=\"onRequest\" xlink:href=\"psysml:541513c5-2792-4586-9963-ba9e65ac733f\" xlink:show=\"new\" xlink:title=\"psysml:541513c5-2792-4586-9963-ba9e65ac733f\" xlink:type=\"simple\"><rect fill=\"#FFFFFF\" height=\"111\" id=\"E2\" rx=\"10\" ry=\"10\" style=\"stroke: #383838; stroke-width: 1.5;\" width=\"92\" x=\"40\" y=\"49\"/><rect fill=\"#F8F8F8\" height=\"37.9375\" rx=\"10\" ry=\"10\" style=\"stroke: #F8F8F8; stroke-width: 1.5;\" width=\"92\" x=\"40\" y=\"49\"/><rect fill=\"#F8F8F8\" height=\"10\" style=\"stroke: #F8F8F8; stroke-width: 1.5;\" width=\"92\" x=\"40\" y=\"76.9375\"/><rect fill=\"none\" height=\"111\" id=\"E2\" rx=\"10\" ry=\"10\" style=\"stroke: #383838; stroke-width: 1.5;\" width=\"92\" x=\"40\" y=\"49\"/><text fill=\"#000000\" font-family=\"sans-serif\" font-size=\"12\" font-style=\"italic\" lengthAdjust=\"spacingAndGlyphs\" textLength=\"53\" x=\"59.5\" y=\"65.1387\">«action»</text><text fill=\"#000000\" font-family=\"sans-serif\" font-size=\"12\" lengthAdjust=\"spacingAndGlyphs\" textLength=\"8\" x=\"82\" y=\"79.1074\">a</text><line style=\"stroke: #383838; stroke-width: 1.0;\" x1=\"40\" x2=\"132\" y1=\"86.9375\" y2=\"86.9375\"/></a><g id=\"E1.E2.E3\"><a href=\"psysml:09db3787-c9b3-4480-a102-0b64206fad8b\" target=\"_top\" title=\"psysml:09db3787-c9b3-4480-a102-0b64206fad8b\" xlink:actuate=\"onRequest\" xlink:href=\"psysml:09db3787-c9b3-4480-a102-0b64206fad8b\" xlink:show=\"new\" xlink:title=\"psysml:09db3787-c9b3-4480-a102-0b64206fad8b\" xlink:type=\"simple\"><rect fill=\"#FFFFFF\" height=\"42.9375\" id=\"E3\" rx=\"10\" ry=\"10\" style=\"stroke: #383838; stroke-width: 1.5;\" width=\"60\" x=\"56\" y=\"100.5\"/><rect fill=\"#F8F8F8\" height=\"37.9375\" rx=\"10\" ry=\"10\" style=\"stroke: #F8F8F8; stroke-width: 1.5;\" width=\"60\" x=\"56\" y=\"100.5\"/><rect fill=\"#F8F8F8\" height=\"10\" style=\"stroke: #F8F8F8; stroke-width: 1.5;\" width=\"60\" x=\"56\" y=\"128.4375\"/><rect fill=\"none\" height=\"42.9375\" id=\"E3\" rx=\"10\" ry=\"10\" style=\"stroke: #383838; stroke-width: 1.5;\" width=\"60\" x=\"56\" y=\"100.5\"/><text fill=\"#000000\" font-family=\"sans-serif\" font-size=\"12\" font-style=\"italic\" lengthAdjust=\"spacingAndGlyphs\" textLength=\"53\" x=\"59.5\" y=\"116.6387\">«action»</text><text fill=\"#000000\" font-family=\"sans-serif\" font-size=\"12\" lengthAdjust=\"spacingAndGlyphs\" textLength=\"30\" x=\"71\" y=\"130.6074\">start</text></a></g><!--MD5=[5498c12b6b3f590bb9635252d2ad882c]\n",
       "@startuml\r\n",
       "left to right direction\r\n",
       "skinparam monochrome true\r\n",
       "skinparam classbackgroundcolor white\r\n",
       "skinparam shadowing false\r\n",
       "skinparam wrapWidth 300\r\n",
       "hide circle\r\n",
       "\r\n",
       "package \"ActionTest\" as E1  [[psysml:474d0406-5e3d-47be-b798-32d1cf114728 ]]  {\r\n",
       "rec usage \"a\" as E2  <<(T,blue)action>> [[psysml:541513c5-2792-4586-9963-ba9e65ac733f ]] {\r\n",
       "rec usage \"start\" as E3  <<(T,blue)action>> [[psysml:09db3787-c9b3-4480-a102-0b64206fad8b ]] {\r\n",
       "}\r\n",
       "\r\n",
       "}\r\n",
       "\r\n",
       "}\r\n",
       "@enduml\r\n",
       "\n",
       "PlantUML version 1.2020.13(Sat Jun 13 12:26:38 UTC 2020)\n",
       "(EPL source distribution)\n",
       "Java Runtime: OpenJDK Runtime Environment\n",
       "JVM: OpenJDK 64-Bit Server VM\n",
       "Default Encoding: UTF-8\n",
       "Language: en\n",
       "Country: null\n",
       "--></g></svg>"
      ]
     },
     "execution_count": 16,
     "metadata": {},
     "output_type": "execute_result"
    }
   ],
   "source": [
    "%viz --style=\"LR\" --view=\"Default\" \"ActionTest\""
   ]
  },
  {
   "cell_type": "code",
   "execution_count": 17,
   "id": "fallen-night",
   "metadata": {
    "execution": {
     "iopub.execute_input": "2021-03-25T09:27:33.068565Z",
     "iopub.status.busy": "2021-03-25T09:27:33.067698Z",
     "iopub.status.idle": "2021-03-25T09:27:33.560948Z",
     "shell.execute_reply": "2021-03-25T09:27:33.560586Z"
    }
   },
   "outputs": [
    {
     "data": {
      "image/svg+xml": [
       "<?xml version=\"1.0\" encoding=\"UTF-8\" standalone=\"no\"?><svg xmlns=\"http://www.w3.org/2000/svg\" xmlns:xlink=\"http://www.w3.org/1999/xlink\" contentScriptType=\"application/ecmascript\" contentStyleType=\"text/css\" height=\"157px\" preserveAspectRatio=\"none\" style=\"width:230px;height:157px;\" version=\"1.1\" viewBox=\"0 0 230 157\" width=\"230px\" zoomAndPan=\"magnify\"><defs/><g><!--MD5=[fbc87193dbaf4d95561dea2c320d4a47]\n",
       "cluster E1--><a href=\"psysml:474d0406-5e3d-47be-b798-32d1cf114728\" target=\"_top\" title=\"psysml:474d0406-5e3d-47be-b798-32d1cf114728\" xlink:actuate=\"onRequest\" xlink:href=\"psysml:474d0406-5e3d-47be-b798-32d1cf114728\" xlink:show=\"new\" xlink:title=\"psysml:474d0406-5e3d-47be-b798-32d1cf114728\" xlink:type=\"simple\"><polygon fill=\"#FFFFFF\" points=\"16,6,107,6,114,28.2969,208,28.2969,208,145,16,145,16,6\" style=\"stroke: #000000; stroke-width: 1.5;\"/><line style=\"stroke: #000000; stroke-width: 1.5;\" x1=\"16\" x2=\"114\" y1=\"28.2969\" y2=\"28.2969\"/><text fill=\"#000000\" font-family=\"sans-serif\" font-size=\"14\" font-weight=\"bold\" lengthAdjust=\"spacingAndGlyphs\" textLength=\"85\" x=\"20\" y=\"20.9951\">ActionTest</text></a><!--MD5=[b4997ac47864f28c2f74865a473b2911]\n",
       "class E2--><a href=\"psysml:541513c5-2792-4586-9963-ba9e65ac733f\" target=\"_top\" title=\"psysml:541513c5-2792-4586-9963-ba9e65ac733f\" xlink:actuate=\"onRequest\" xlink:href=\"psysml:541513c5-2792-4586-9963-ba9e65ac733f\" xlink:show=\"new\" xlink:title=\"psysml:541513c5-2792-4586-9963-ba9e65ac733f\" xlink:type=\"simple\"><rect fill=\"#FFFFFF\" height=\"88.3516\" id=\"E2\" rx=\"10\" ry=\"10\" style=\"stroke: #383838; stroke-width: 1.5;\" width=\"160\" x=\"32\" y=\"41\"/><text fill=\"#000000\" font-family=\"sans-serif\" font-size=\"12\" font-style=\"italic\" lengthAdjust=\"spacingAndGlyphs\" textLength=\"53\" x=\"85.5\" y=\"57.1387\">«action»</text><text fill=\"#000000\" font-family=\"sans-serif\" font-size=\"12\" lengthAdjust=\"spacingAndGlyphs\" textLength=\"8\" x=\"108\" y=\"71.1074\">a</text><line style=\"stroke: #383838; stroke-width: 1.5;\" x1=\"33\" x2=\"191\" y1=\"78.9375\" y2=\"78.9375\"/><text fill=\"#000000\" font-family=\"sans-serif\" font-size=\"11\" lengthAdjust=\"spacingAndGlyphs\" textLength=\"69\" x=\"38\" y=\"109.9526\">start: Action</text><text fill=\"#000000\" font-family=\"sans-serif\" font-size=\"11\" font-style=\"italic\" lengthAdjust=\"spacingAndGlyphs\" textLength=\"148\" x=\"38\" y=\"122.7573\">:&gt;&gt;Occurrence::startShot</text><line style=\"stroke: #383838; stroke-width: 1.0;\" x1=\"33\" x2=\"91.5\" y1=\"93.3398\" y2=\"93.3398\"/><text fill=\"#000000\" font-family=\"sans-serif\" font-size=\"11\" lengthAdjust=\"spacingAndGlyphs\" textLength=\"41\" x=\"91.5\" y=\"96.6479\">actions</text><line style=\"stroke: #383838; stroke-width: 1.0;\" x1=\"132.5\" x2=\"191\" y1=\"93.3398\" y2=\"93.3398\"/></a><!--MD5=[d1811802abb455e56f99c207a7040ba2]\n",
       "@startuml\r\n",
       "left to right direction\r\n",
       "skinparam monochrome true\r\n",
       "skinparam classbackgroundcolor white\r\n",
       "skinparam shadowing false\r\n",
       "skinparam wrapWidth 300\r\n",
       "hide circle\r\n",
       "\r\n",
       "package \"ActionTest\" as E1  [[psysml:474d0406-5e3d-47be-b798-32d1cf114728 ]]  {\r\n",
       "comp usage \"a\" as E2  <<(T,blue)action>> [[psysml:541513c5-2792-4586-9963-ba9e65ac733f ]] {\r\n",
       "- - actions - -\r\n",
       "start: Action\\n//:>>Occurrence::startShot// \r\n",
       "}\r\n",
       "}\r\n",
       "@enduml\r\n",
       "\n",
       "PlantUML version 1.2020.13(Sat Jun 13 12:26:38 UTC 2020)\n",
       "(EPL source distribution)\n",
       "Java Runtime: OpenJDK Runtime Environment\n",
       "JVM: OpenJDK 64-Bit Server VM\n",
       "Default Encoding: UTF-8\n",
       "Language: en\n",
       "Country: null\n",
       "--></g></svg>"
      ]
     },
     "execution_count": 17,
     "metadata": {},
     "output_type": "execute_result"
    }
   ],
   "source": [
    "%viz --style=\"LR\" --view=\"Tree\" \"ActionTest\""
   ]
  },
  {
   "cell_type": "code",
   "execution_count": 18,
   "id": "vertical-endorsement",
   "metadata": {
    "execution": {
     "iopub.execute_input": "2021-03-25T09:27:33.613819Z",
     "iopub.status.busy": "2021-03-25T09:27:33.613247Z",
     "iopub.status.idle": "2021-03-25T09:27:33.621751Z",
     "shell.execute_reply": "2021-03-25T09:27:33.621418Z"
    }
   },
   "outputs": [
    {
     "data": {
      "image/svg+xml": [
       "<?xml version=\"1.0\" encoding=\"UTF-8\" standalone=\"no\"?><svg xmlns=\"http://www.w3.org/2000/svg\" xmlns:xlink=\"http://www.w3.org/1999/xlink\" contentScriptType=\"application/ecmascript\" contentStyleType=\"text/css\" height=\"12px\" preserveAspectRatio=\"none\" style=\"width:12px;height:12px;\" version=\"1.1\" viewBox=\"0 0 12 12\" width=\"12px\" zoomAndPan=\"magnify\"><defs/><g><!--MD5=[19d285c9d72a204eba4e2cd117d745e8]\n",
       "@startuml\r\n",
       "left to right direction\r\n",
       "skinparam monochrome true\r\n",
       "skinparam classbackgroundcolor white\r\n",
       "skinparam shadowing false\r\n",
       "skinparam wrapWidth 300\r\n",
       "hide circle\r\n",
       "\r\n",
       "@enduml\r\n",
       "\n",
       "PlantUML version 1.2020.13(Sat Jun 13 12:26:38 UTC 2020)\n",
       "(EPL source distribution)\n",
       "Java Runtime: OpenJDK Runtime Environment\n",
       "JVM: OpenJDK 64-Bit Server VM\n",
       "Default Encoding: UTF-8\n",
       "Language: en\n",
       "Country: null\n",
       "--></g></svg>"
      ]
     },
     "execution_count": 18,
     "metadata": {},
     "output_type": "execute_result"
    }
   ],
   "source": [
    "%viz --style=\"LR\" --view=\"State\" \"ActionTest\""
   ]
  },
  {
   "cell_type": "code",
   "execution_count": 19,
   "id": "ceramic-irish",
   "metadata": {
    "execution": {
     "iopub.execute_input": "2021-03-25T09:27:33.674679Z",
     "iopub.status.busy": "2021-03-25T09:27:33.673652Z",
     "iopub.status.idle": "2021-03-25T09:27:33.750213Z",
     "shell.execute_reply": "2021-03-25T09:27:33.749805Z"
    }
   },
   "outputs": [
    {
     "data": {
      "image/svg+xml": [
       "<?xml version=\"1.0\" encoding=\"UTF-8\" standalone=\"no\"?><svg xmlns=\"http://www.w3.org/2000/svg\" xmlns:xlink=\"http://www.w3.org/1999/xlink\" contentScriptType=\"application/ecmascript\" contentStyleType=\"text/css\" height=\"210px\" preserveAspectRatio=\"none\" style=\"width:296px;height:210px;\" version=\"1.1\" viewBox=\"0 0 296 210\" width=\"296px\" zoomAndPan=\"magnify\"><defs/><g><!--MD5=[fbc87193dbaf4d95561dea2c320d4a47]\n",
       "cluster E1--><a href=\"psysml:474d0406-5e3d-47be-b798-32d1cf114728\" target=\"_top\" title=\"psysml:474d0406-5e3d-47be-b798-32d1cf114728\" xlink:actuate=\"onRequest\" xlink:href=\"psysml:474d0406-5e3d-47be-b798-32d1cf114728\" xlink:show=\"new\" xlink:title=\"psysml:474d0406-5e3d-47be-b798-32d1cf114728\" xlink:type=\"simple\"><polygon fill=\"#FFFFFF\" points=\"16,6,107,6,114,28.2969,274,28.2969,274,198,16,198,16,6\" style=\"stroke: #000000; stroke-width: 1.5;\"/><line style=\"stroke: #000000; stroke-width: 1.5;\" x1=\"16\" x2=\"114\" y1=\"28.2969\" y2=\"28.2969\"/><text fill=\"#000000\" font-family=\"sans-serif\" font-size=\"14\" font-weight=\"bold\" lengthAdjust=\"spacingAndGlyphs\" textLength=\"85\" x=\"20\" y=\"20.9951\">ActionTest</text></a><!--MD5=[e4f7fae6ed58524ba242bb0b0d3be6b7]\n",
       "cluster E2--><a href=\"psysml:541513c5-2792-4586-9963-ba9e65ac733f\" target=\"_top\" title=\"psysml:541513c5-2792-4586-9963-ba9e65ac733f\" xlink:actuate=\"onRequest\" xlink:href=\"psysml:541513c5-2792-4586-9963-ba9e65ac733f\" xlink:show=\"new\" xlink:title=\"psysml:541513c5-2792-4586-9963-ba9e65ac733f\" xlink:type=\"simple\"><rect fill=\"#FFFFFF\" height=\"125\" id=\"E2\" rx=\"10\" ry=\"10\" style=\"stroke: #383838; stroke-width: 1.5;\" width=\"210\" x=\"40\" y=\"49\"/><rect fill=\"#F8F8F8\" height=\"37.9375\" rx=\"10\" ry=\"10\" style=\"stroke: #F8F8F8; stroke-width: 1.5;\" width=\"210\" x=\"40\" y=\"49\"/><rect fill=\"#F8F8F8\" height=\"10\" style=\"stroke: #F8F8F8; stroke-width: 1.5;\" width=\"210\" x=\"40\" y=\"76.9375\"/><rect fill=\"none\" height=\"125\" id=\"E2\" rx=\"10\" ry=\"10\" style=\"stroke: #383838; stroke-width: 1.5;\" width=\"210\" x=\"40\" y=\"49\"/><text fill=\"#000000\" font-family=\"sans-serif\" font-size=\"12\" font-style=\"italic\" lengthAdjust=\"spacingAndGlyphs\" textLength=\"53\" x=\"118.5\" y=\"65.1387\">«action»</text><text fill=\"#000000\" font-family=\"sans-serif\" font-size=\"12\" lengthAdjust=\"spacingAndGlyphs\" textLength=\"8\" x=\"141\" y=\"79.1074\">a</text><line style=\"stroke: #383838; stroke-width: 1.0;\" x1=\"40\" x2=\"250\" y1=\"86.9375\" y2=\"86.9375\"/></a><g id=\"E1.E2.E3\"><a href=\"psysml:09db3787-c9b3-4480-a102-0b64206fad8b\" target=\"_top\" title=\"psysml:09db3787-c9b3-4480-a102-0b64206fad8b\" xlink:actuate=\"onRequest\" xlink:href=\"psysml:09db3787-c9b3-4480-a102-0b64206fad8b\" xlink:show=\"new\" xlink:title=\"psysml:09db3787-c9b3-4480-a102-0b64206fad8b\" xlink:type=\"simple\"><rect fill=\"#FFFFFF\" height=\"56.9063\" id=\"E3\" rx=\"10\" ry=\"10\" style=\"stroke: #383838; stroke-width: 1.5;\" width=\"178\" x=\"56\" y=\"100.5\"/><rect fill=\"#F8F8F8\" height=\"51.9063\" rx=\"10\" ry=\"10\" style=\"stroke: #F8F8F8; stroke-width: 1.5;\" width=\"178\" x=\"56\" y=\"100.5\"/><rect fill=\"#F8F8F8\" height=\"10\" style=\"stroke: #F8F8F8; stroke-width: 1.5;\" width=\"178\" x=\"56\" y=\"142.4063\"/><rect fill=\"none\" height=\"56.9063\" id=\"E3\" rx=\"10\" ry=\"10\" style=\"stroke: #383838; stroke-width: 1.5;\" width=\"178\" x=\"56\" y=\"100.5\"/><text fill=\"#000000\" font-family=\"sans-serif\" font-size=\"12\" font-style=\"italic\" lengthAdjust=\"spacingAndGlyphs\" textLength=\"53\" x=\"118.5\" y=\"116.6387\">«action»</text><text fill=\"#000000\" font-family=\"sans-serif\" font-size=\"12\" lengthAdjust=\"spacingAndGlyphs\" textLength=\"77\" x=\"106.5\" y=\"130.6074\">start: Action</text><text fill=\"#000000\" font-family=\"sans-serif\" font-size=\"12\" font-style=\"italic\" lengthAdjust=\"spacingAndGlyphs\" textLength=\"163\" x=\"61.5\" y=\"144.5762\">:&gt;&gt;Occurrence::startShot</text><text fill=\"#000000\" font-family=\"sans-serif\" font-size=\"12\" lengthAdjust=\"spacingAndGlyphs\" textLength=\"0\" x=\"228.5\" y=\"144.5762\"/></a></g><!--MD5=[89da5d2d2a938c19a178e754c07b79c9]\n",
       "@startuml\r\n",
       "skinparam ranksep 8\r\n",
       "skinparam rectangle {\r\n",
       " backgroundColor<<block>> LightGreen\r\n",
       "}\r\n",
       "left to right direction\r\n",
       "skinparam monochrome true\r\n",
       "skinparam classbackgroundcolor white\r\n",
       "skinparam shadowing false\r\n",
       "skinparam wrapWidth 300\r\n",
       "hide circle\r\n",
       "\r\n",
       "package \"ActionTest\" as E1  [[psysml:474d0406-5e3d-47be-b798-32d1cf114728 ]]  {\r\n",
       "rec usage \"a\" as E2  <<(T,blue)action>> [[psysml:541513c5-2792-4586-9963-ba9e65ac733f ]] {\r\n",
       "rec usage \"start: Action\\n//:>>Occurrence::startShot// \" as E3  <<(T,blue)action>> [[psysml:09db3787-c9b3-4480-a102-0b64206fad8b ]] {\r\n",
       "}\r\n",
       "}\r\n",
       "}\r\n",
       "@enduml\r\n",
       "\n",
       "PlantUML version 1.2020.13(Sat Jun 13 12:26:38 UTC 2020)\n",
       "(EPL source distribution)\n",
       "Java Runtime: OpenJDK Runtime Environment\n",
       "JVM: OpenJDK 64-Bit Server VM\n",
       "Default Encoding: UTF-8\n",
       "Language: en\n",
       "Country: null\n",
       "--></g></svg>"
      ]
     },
     "execution_count": 19,
     "metadata": {},
     "output_type": "execute_result"
    }
   ],
   "source": [
    "%viz --style=\"LR\" --view=\"Interconnection\" \"ActionTest\""
   ]
  },
  {
   "cell_type": "code",
   "execution_count": 20,
   "id": "difficult-turkish",
   "metadata": {
    "execution": {
     "iopub.execute_input": "2021-03-25T09:27:33.801291Z",
     "iopub.status.busy": "2021-03-25T09:27:33.800816Z",
     "iopub.status.idle": "2021-03-25T09:27:33.854861Z",
     "shell.execute_reply": "2021-03-25T09:27:33.854300Z"
    }
   },
   "outputs": [
    {
     "data": {
      "image/svg+xml": [
       "<?xml version=\"1.0\" encoding=\"UTF-8\" standalone=\"no\"?><svg xmlns=\"http://www.w3.org/2000/svg\" xmlns:xlink=\"http://www.w3.org/1999/xlink\" contentScriptType=\"application/ecmascript\" contentStyleType=\"text/css\" height=\"129px\" preserveAspectRatio=\"none\" style=\"width:111px;height:129px;\" version=\"1.1\" viewBox=\"0 0 111 129\" width=\"111px\" zoomAndPan=\"magnify\"><defs/><g><!--MD5=[fbc87193dbaf4d95561dea2c320d4a47]\n",
       "cluster E1--><a href=\"psysml:541513c5-2792-4586-9963-ba9e65ac733f\" target=\"_top\" title=\"psysml:541513c5-2792-4586-9963-ba9e65ac733f\" xlink:actuate=\"onRequest\" xlink:href=\"psysml:541513c5-2792-4586-9963-ba9e65ac733f\" xlink:show=\"new\" xlink:title=\"psysml:541513c5-2792-4586-9963-ba9e65ac733f\" xlink:type=\"simple\"><rect fill=\"#FFFFFF\" height=\"111\" id=\"E1\" rx=\"10\" ry=\"10\" style=\"stroke: #383838; stroke-width: 1.5;\" width=\"92\" x=\"7\" y=\"7\"/><rect fill=\"#F8F8F8\" height=\"37.9375\" rx=\"10\" ry=\"10\" style=\"stroke: #F8F8F8; stroke-width: 1.5;\" width=\"92\" x=\"7\" y=\"7\"/><rect fill=\"#F8F8F8\" height=\"10\" style=\"stroke: #F8F8F8; stroke-width: 1.5;\" width=\"92\" x=\"7\" y=\"34.9375\"/><rect fill=\"none\" height=\"111\" id=\"E1\" rx=\"10\" ry=\"10\" style=\"stroke: #383838; stroke-width: 1.5;\" width=\"92\" x=\"7\" y=\"7\"/><text fill=\"#000000\" font-family=\"sans-serif\" font-size=\"12\" font-style=\"italic\" lengthAdjust=\"spacingAndGlyphs\" textLength=\"53\" x=\"26.5\" y=\"23.1387\">«action»</text><text fill=\"#000000\" font-family=\"sans-serif\" font-size=\"12\" lengthAdjust=\"spacingAndGlyphs\" textLength=\"8\" x=\"49\" y=\"37.1074\">a</text><line style=\"stroke: #383838; stroke-width: 1.0;\" x1=\"7\" x2=\"99\" y1=\"44.9375\" y2=\"44.9375\"/></a><g id=\"E1.E2\"><a href=\"psysml:09db3787-c9b3-4480-a102-0b64206fad8b\" target=\"_top\" title=\"psysml:09db3787-c9b3-4480-a102-0b64206fad8b\" xlink:actuate=\"onRequest\" xlink:href=\"psysml:09db3787-c9b3-4480-a102-0b64206fad8b\" xlink:show=\"new\" xlink:title=\"psysml:09db3787-c9b3-4480-a102-0b64206fad8b\" xlink:type=\"simple\"><rect fill=\"#FFFFFF\" height=\"42.9375\" id=\"E2\" rx=\"10\" ry=\"10\" style=\"stroke: #383838; stroke-width: 1.5;\" width=\"60\" x=\"23\" y=\"58.5\"/><rect fill=\"#F8F8F8\" height=\"37.9375\" rx=\"10\" ry=\"10\" style=\"stroke: #F8F8F8; stroke-width: 1.5;\" width=\"60\" x=\"23\" y=\"58.5\"/><rect fill=\"#F8F8F8\" height=\"10\" style=\"stroke: #F8F8F8; stroke-width: 1.5;\" width=\"60\" x=\"23\" y=\"86.4375\"/><rect fill=\"none\" height=\"42.9375\" id=\"E2\" rx=\"10\" ry=\"10\" style=\"stroke: #383838; stroke-width: 1.5;\" width=\"60\" x=\"23\" y=\"58.5\"/><text fill=\"#000000\" font-family=\"sans-serif\" font-size=\"12\" font-style=\"italic\" lengthAdjust=\"spacingAndGlyphs\" textLength=\"53\" x=\"26.5\" y=\"74.6387\">«action»</text><text fill=\"#000000\" font-family=\"sans-serif\" font-size=\"12\" lengthAdjust=\"spacingAndGlyphs\" textLength=\"30\" x=\"38\" y=\"88.6074\">start</text></a></g><!--MD5=[edbb8601c6692d7b920071d63a0b906d]\n",
       "@startuml\r\n",
       "skinparam ranksep 8\r\n",
       "left to right direction\r\n",
       "skinparam monochrome true\r\n",
       "skinparam classbackgroundcolor white\r\n",
       "skinparam shadowing false\r\n",
       "skinparam wrapWidth 300\r\n",
       "hide circle\r\n",
       "\r\n",
       "rec usage \"a\" as E1  <<(T,blue)action>> [[psysml:541513c5-2792-4586-9963-ba9e65ac733f ]] {\r\n",
       "rec usage \"start\" as E2  <<(T,blue)action>> [[psysml:09db3787-c9b3-4480-a102-0b64206fad8b ]] {\r\n",
       "}\r\n",
       "\r\n",
       "}\r\n",
       "\r\n",
       "@enduml\r\n",
       "\n",
       "PlantUML version 1.2020.13(Sat Jun 13 12:26:38 UTC 2020)\n",
       "(EPL source distribution)\n",
       "Java Runtime: OpenJDK Runtime Environment\n",
       "JVM: OpenJDK 64-Bit Server VM\n",
       "Default Encoding: UTF-8\n",
       "Language: en\n",
       "Country: null\n",
       "--></g></svg>"
      ]
     },
     "execution_count": 20,
     "metadata": {},
     "output_type": "execute_result"
    }
   ],
   "source": [
    "%viz --style=\"LR\" --view=\"Action\" \"ActionTest\""
   ]
  },
  {
   "cell_type": "code",
   "execution_count": 21,
   "id": "actual-crash",
   "metadata": {
    "execution": {
     "iopub.execute_input": "2021-03-25T09:27:33.908865Z",
     "iopub.status.busy": "2021-03-25T09:27:33.908122Z",
     "iopub.status.idle": "2021-03-25T09:27:34.406243Z",
     "shell.execute_reply": "2021-03-25T09:27:34.406632Z"
    }
   },
   "outputs": [
    {
     "data": {
      "image/svg+xml": [
       "<?xml version=\"1.0\" encoding=\"UTF-8\" standalone=\"no\"?><svg xmlns=\"http://www.w3.org/2000/svg\" xmlns:xlink=\"http://www.w3.org/1999/xlink\" contentScriptType=\"application/ecmascript\" contentStyleType=\"text/css\" height=\"157px\" preserveAspectRatio=\"none\" style=\"width:230px;height:157px;\" version=\"1.1\" viewBox=\"0 0 230 157\" width=\"230px\" zoomAndPan=\"magnify\"><defs/><g><!--MD5=[fbc87193dbaf4d95561dea2c320d4a47]\n",
       "cluster E1--><a href=\"psysml:474d0406-5e3d-47be-b798-32d1cf114728\" target=\"_top\" title=\"psysml:474d0406-5e3d-47be-b798-32d1cf114728\" xlink:actuate=\"onRequest\" xlink:href=\"psysml:474d0406-5e3d-47be-b798-32d1cf114728\" xlink:show=\"new\" xlink:title=\"psysml:474d0406-5e3d-47be-b798-32d1cf114728\" xlink:type=\"simple\"><polygon fill=\"#FFFFFF\" points=\"16,6,107,6,114,28.2969,208,28.2969,208,145,16,145,16,6\" style=\"stroke: #000000; stroke-width: 1.5;\"/><line style=\"stroke: #000000; stroke-width: 1.5;\" x1=\"16\" x2=\"114\" y1=\"28.2969\" y2=\"28.2969\"/><text fill=\"#000000\" font-family=\"sans-serif\" font-size=\"14\" font-weight=\"bold\" lengthAdjust=\"spacingAndGlyphs\" textLength=\"85\" x=\"20\" y=\"20.9951\">ActionTest</text></a><!--MD5=[b4997ac47864f28c2f74865a473b2911]\n",
       "class E2--><a href=\"psysml:541513c5-2792-4586-9963-ba9e65ac733f\" target=\"_top\" title=\"psysml:541513c5-2792-4586-9963-ba9e65ac733f\" xlink:actuate=\"onRequest\" xlink:href=\"psysml:541513c5-2792-4586-9963-ba9e65ac733f\" xlink:show=\"new\" xlink:title=\"psysml:541513c5-2792-4586-9963-ba9e65ac733f\" xlink:type=\"simple\"><rect fill=\"#FFFFFF\" height=\"88.3516\" id=\"E2\" rx=\"10\" ry=\"10\" style=\"stroke: #383838; stroke-width: 1.5;\" width=\"160\" x=\"32\" y=\"41\"/><text fill=\"#000000\" font-family=\"sans-serif\" font-size=\"12\" font-style=\"italic\" lengthAdjust=\"spacingAndGlyphs\" textLength=\"53\" x=\"85.5\" y=\"57.1387\">«action»</text><text fill=\"#000000\" font-family=\"sans-serif\" font-size=\"12\" lengthAdjust=\"spacingAndGlyphs\" textLength=\"8\" x=\"108\" y=\"71.1074\">a</text><line style=\"stroke: #383838; stroke-width: 1.5;\" x1=\"33\" x2=\"191\" y1=\"78.9375\" y2=\"78.9375\"/><text fill=\"#000000\" font-family=\"sans-serif\" font-size=\"11\" lengthAdjust=\"spacingAndGlyphs\" textLength=\"69\" x=\"38\" y=\"109.9526\">start: Action</text><text fill=\"#000000\" font-family=\"sans-serif\" font-size=\"11\" font-style=\"italic\" lengthAdjust=\"spacingAndGlyphs\" textLength=\"148\" x=\"38\" y=\"122.7573\">:&gt;&gt;Occurrence::startShot</text><line style=\"stroke: #383838; stroke-width: 1.0;\" x1=\"33\" x2=\"91.5\" y1=\"93.3398\" y2=\"93.3398\"/><text fill=\"#000000\" font-family=\"sans-serif\" font-size=\"11\" lengthAdjust=\"spacingAndGlyphs\" textLength=\"41\" x=\"91.5\" y=\"96.6479\">actions</text><line style=\"stroke: #383838; stroke-width: 1.0;\" x1=\"132.5\" x2=\"191\" y1=\"93.3398\" y2=\"93.3398\"/></a><!--MD5=[d1811802abb455e56f99c207a7040ba2]\n",
       "@startuml\r\n",
       "left to right direction\r\n",
       "skinparam monochrome true\r\n",
       "skinparam classbackgroundcolor white\r\n",
       "skinparam shadowing false\r\n",
       "skinparam wrapWidth 300\r\n",
       "hide circle\r\n",
       "\r\n",
       "package \"ActionTest\" as E1  [[psysml:474d0406-5e3d-47be-b798-32d1cf114728 ]]  {\r\n",
       "comp usage \"a\" as E2  <<(T,blue)action>> [[psysml:541513c5-2792-4586-9963-ba9e65ac733f ]] {\r\n",
       "- - actions - -\r\n",
       "start: Action\\n//:>>Occurrence::startShot// \r\n",
       "}\r\n",
       "}\r\n",
       "@enduml\r\n",
       "\n",
       "PlantUML version 1.2020.13(Sat Jun 13 12:26:38 UTC 2020)\n",
       "(EPL source distribution)\n",
       "Java Runtime: OpenJDK Runtime Environment\n",
       "JVM: OpenJDK 64-Bit Server VM\n",
       "Default Encoding: UTF-8\n",
       "Language: en\n",
       "Country: null\n",
       "--></g></svg>"
      ]
     },
     "execution_count": 21,
     "metadata": {},
     "output_type": "execute_result"
    }
   ],
   "source": [
    "%viz --style=\"LR\" --view=\"Sequence\" \"ActionTest\""
   ]
  },
  {
   "cell_type": "code",
   "execution_count": 22,
   "id": "julian-completion",
   "metadata": {
    "execution": {
     "iopub.execute_input": "2021-03-25T09:27:34.458335Z",
     "iopub.status.busy": "2021-03-25T09:27:34.457651Z",
     "iopub.status.idle": "2021-03-25T09:27:34.516234Z",
     "shell.execute_reply": "2021-03-25T09:27:34.516610Z"
    }
   },
   "outputs": [
    {
     "data": {
      "image/svg+xml": [
       "<?xml version=\"1.0\" encoding=\"UTF-8\" standalone=\"no\"?><svg xmlns=\"http://www.w3.org/2000/svg\" xmlns:xlink=\"http://www.w3.org/1999/xlink\" contentScriptType=\"application/ecmascript\" contentStyleType=\"text/css\" height=\"196px\" preserveAspectRatio=\"none\" style=\"width:178px;height:196px;\" version=\"1.1\" viewBox=\"0 0 178 196\" width=\"178px\" zoomAndPan=\"magnify\"><defs/><g><!--MD5=[fbc87193dbaf4d95561dea2c320d4a47]\n",
       "cluster E1--><a href=\"psysml:474d0406-5e3d-47be-b798-32d1cf114728\" target=\"_top\" title=\"psysml:474d0406-5e3d-47be-b798-32d1cf114728\" xlink:actuate=\"onRequest\" xlink:href=\"psysml:474d0406-5e3d-47be-b798-32d1cf114728\" xlink:show=\"new\" xlink:title=\"psysml:474d0406-5e3d-47be-b798-32d1cf114728\" xlink:type=\"simple\"><polygon fill=\"#FFFFFF\" points=\"16,6,107,6,114,28.2969,156,28.2969,156,184,16,184,16,6\" style=\"stroke: #000000; stroke-width: 1.5;\"/><line style=\"stroke: #000000; stroke-width: 1.5;\" x1=\"16\" x2=\"114\" y1=\"28.2969\" y2=\"28.2969\"/><text fill=\"#000000\" font-family=\"sans-serif\" font-size=\"14\" font-weight=\"bold\" lengthAdjust=\"spacingAndGlyphs\" textLength=\"85\" x=\"20\" y=\"20.9951\">ActionTest</text></a><!--MD5=[e4f7fae6ed58524ba242bb0b0d3be6b7]\n",
       "cluster E2--><a href=\"psysml:541513c5-2792-4586-9963-ba9e65ac733f\" target=\"_top\" title=\"psysml:541513c5-2792-4586-9963-ba9e65ac733f\" xlink:actuate=\"onRequest\" xlink:href=\"psysml:541513c5-2792-4586-9963-ba9e65ac733f\" xlink:show=\"new\" xlink:title=\"psysml:541513c5-2792-4586-9963-ba9e65ac733f\" xlink:type=\"simple\"><rect fill=\"#FFFFFF\" height=\"111\" id=\"E2\" rx=\"10\" ry=\"10\" style=\"stroke: #383838; stroke-width: 1.5;\" width=\"92\" x=\"40\" y=\"49\"/><rect fill=\"#F8F8F8\" height=\"37.9375\" rx=\"10\" ry=\"10\" style=\"stroke: #F8F8F8; stroke-width: 1.5;\" width=\"92\" x=\"40\" y=\"49\"/><rect fill=\"#F8F8F8\" height=\"10\" style=\"stroke: #F8F8F8; stroke-width: 1.5;\" width=\"92\" x=\"40\" y=\"76.9375\"/><rect fill=\"none\" height=\"111\" id=\"E2\" rx=\"10\" ry=\"10\" style=\"stroke: #383838; stroke-width: 1.5;\" width=\"92\" x=\"40\" y=\"49\"/><text fill=\"#000000\" font-family=\"sans-serif\" font-size=\"12\" font-style=\"italic\" lengthAdjust=\"spacingAndGlyphs\" textLength=\"53\" x=\"59.5\" y=\"65.1387\">«action»</text><text fill=\"#000000\" font-family=\"sans-serif\" font-size=\"12\" lengthAdjust=\"spacingAndGlyphs\" textLength=\"8\" x=\"82\" y=\"79.1074\">a</text><line style=\"stroke: #383838; stroke-width: 1.0;\" x1=\"40\" x2=\"132\" y1=\"86.9375\" y2=\"86.9375\"/></a><g id=\"E1.E2.E3\"><a href=\"psysml:09db3787-c9b3-4480-a102-0b64206fad8b\" target=\"_top\" title=\"psysml:09db3787-c9b3-4480-a102-0b64206fad8b\" xlink:actuate=\"onRequest\" xlink:href=\"psysml:09db3787-c9b3-4480-a102-0b64206fad8b\" xlink:show=\"new\" xlink:title=\"psysml:09db3787-c9b3-4480-a102-0b64206fad8b\" xlink:type=\"simple\"><rect fill=\"#FFFFFF\" height=\"42.9375\" id=\"E3\" rx=\"10\" ry=\"10\" style=\"stroke: #383838; stroke-width: 1.5;\" width=\"60\" x=\"56\" y=\"100.5\"/><rect fill=\"#F8F8F8\" height=\"37.9375\" rx=\"10\" ry=\"10\" style=\"stroke: #F8F8F8; stroke-width: 1.5;\" width=\"60\" x=\"56\" y=\"100.5\"/><rect fill=\"#F8F8F8\" height=\"10\" style=\"stroke: #F8F8F8; stroke-width: 1.5;\" width=\"60\" x=\"56\" y=\"128.4375\"/><rect fill=\"none\" height=\"42.9375\" id=\"E3\" rx=\"10\" ry=\"10\" style=\"stroke: #383838; stroke-width: 1.5;\" width=\"60\" x=\"56\" y=\"100.5\"/><text fill=\"#000000\" font-family=\"sans-serif\" font-size=\"12\" font-style=\"italic\" lengthAdjust=\"spacingAndGlyphs\" textLength=\"53\" x=\"59.5\" y=\"116.6387\">«action»</text><text fill=\"#000000\" font-family=\"sans-serif\" font-size=\"12\" lengthAdjust=\"spacingAndGlyphs\" textLength=\"30\" x=\"71\" y=\"130.6074\">start</text></a></g><!--MD5=[5498c12b6b3f590bb9635252d2ad882c]\n",
       "@startuml\r\n",
       "left to right direction\r\n",
       "skinparam monochrome true\r\n",
       "skinparam classbackgroundcolor white\r\n",
       "skinparam shadowing false\r\n",
       "skinparam wrapWidth 300\r\n",
       "hide circle\r\n",
       "\r\n",
       "package \"ActionTest\" as E1  [[psysml:474d0406-5e3d-47be-b798-32d1cf114728 ]]  {\r\n",
       "rec usage \"a\" as E2  <<(T,blue)action>> [[psysml:541513c5-2792-4586-9963-ba9e65ac733f ]] {\r\n",
       "rec usage \"start\" as E3  <<(T,blue)action>> [[psysml:09db3787-c9b3-4480-a102-0b64206fad8b ]] {\r\n",
       "}\r\n",
       "\r\n",
       "}\r\n",
       "\r\n",
       "}\r\n",
       "@enduml\r\n",
       "\n",
       "PlantUML version 1.2020.13(Sat Jun 13 12:26:38 UTC 2020)\n",
       "(EPL source distribution)\n",
       "Java Runtime: OpenJDK Runtime Environment\n",
       "JVM: OpenJDK 64-Bit Server VM\n",
       "Default Encoding: UTF-8\n",
       "Language: en\n",
       "Country: null\n",
       "--></g></svg>"
      ]
     },
     "execution_count": 22,
     "metadata": {},
     "output_type": "execute_result"
    }
   ],
   "source": [
    "%viz --style=\"LR\" --view=\"MIXED\" \"ActionTest\""
   ]
  },
  {
   "cell_type": "code",
   "execution_count": 23,
   "id": "healthy-manchester",
   "metadata": {
    "execution": {
     "iopub.execute_input": "2021-03-25T09:27:34.568149Z",
     "iopub.status.busy": "2021-03-25T09:27:34.567600Z",
     "iopub.status.idle": "2021-03-25T09:27:34.622560Z",
     "shell.execute_reply": "2021-03-25T09:27:34.623278Z"
    }
   },
   "outputs": [
    {
     "data": {
      "image/svg+xml": [
       "<?xml version=\"1.0\" encoding=\"UTF-8\" standalone=\"no\"?><svg xmlns=\"http://www.w3.org/2000/svg\" xmlns:xlink=\"http://www.w3.org/1999/xlink\" contentScriptType=\"application/ecmascript\" contentStyleType=\"text/css\" height=\"195px\" preserveAspectRatio=\"none\" style=\"width:178px;height:195px;\" version=\"1.1\" viewBox=\"0 0 178 195\" width=\"178px\" zoomAndPan=\"magnify\"><defs><filter height=\"300%\" id=\"f1hxsowfechw88\" width=\"300%\" x=\"-1\" y=\"-1\"><feGaussianBlur result=\"blurOut\" stdDeviation=\"2.0\"/><feColorMatrix in=\"blurOut\" result=\"blurOut2\" type=\"matrix\" values=\"0 0 0 0 0 0 0 0 0 0 0 0 0 0 0 0 0 0 .4 0\"/><feOffset dx=\"4.0\" dy=\"4.0\" in=\"blurOut2\" result=\"blurOut3\"/><feBlend in=\"SourceGraphic\" in2=\"blurOut3\" mode=\"normal\"/></filter></defs><g><!--MD5=[fbc87193dbaf4d95561dea2c320d4a47]\n",
       "cluster E1--><a href=\"psysml:474d0406-5e3d-47be-b798-32d1cf114728\" target=\"_top\" title=\"psysml:474d0406-5e3d-47be-b798-32d1cf114728\" xlink:actuate=\"onRequest\" xlink:href=\"psysml:474d0406-5e3d-47be-b798-32d1cf114728\" xlink:show=\"new\" xlink:title=\"psysml:474d0406-5e3d-47be-b798-32d1cf114728\" xlink:type=\"simple\"><polygon fill=\"#FFFFFF\" filter=\"url(#f1hxsowfechw88)\" points=\"16,6,107,6,114,28.2969,156,28.2969,156,183,16,183,16,6\" style=\"stroke: #000000; stroke-width: 1.5;\"/><line style=\"stroke: #000000; stroke-width: 1.5;\" x1=\"16\" x2=\"114\" y1=\"28.2969\" y2=\"28.2969\"/><text fill=\"#000000\" font-family=\"sans-serif\" font-size=\"14\" font-weight=\"bold\" lengthAdjust=\"spacingAndGlyphs\" textLength=\"85\" x=\"20\" y=\"20.9951\">ActionTest</text></a><!--MD5=[e4f7fae6ed58524ba242bb0b0d3be6b7]\n",
       "cluster E2--><a href=\"psysml:541513c5-2792-4586-9963-ba9e65ac733f\" target=\"_top\" title=\"psysml:541513c5-2792-4586-9963-ba9e65ac733f\" xlink:actuate=\"onRequest\" xlink:href=\"psysml:541513c5-2792-4586-9963-ba9e65ac733f\" xlink:show=\"new\" xlink:title=\"psysml:541513c5-2792-4586-9963-ba9e65ac733f\" xlink:type=\"simple\"><rect fill=\"#FFFFFF\" filter=\"url(#f1hxsowfechw88)\" height=\"110\" id=\"E2\" rx=\"10\" ry=\"10\" style=\"stroke: #A80036; stroke-width: 1.5;\" width=\"92\" x=\"40\" y=\"49\"/><rect fill=\"#FEFECE\" height=\"37.9375\" rx=\"10\" ry=\"10\" style=\"stroke: #FEFECE; stroke-width: 1.5;\" width=\"92\" x=\"40\" y=\"49\"/><rect fill=\"#FEFECE\" height=\"10\" style=\"stroke: #FEFECE; stroke-width: 1.5;\" width=\"92\" x=\"40\" y=\"76.9375\"/><rect fill=\"none\" height=\"110\" id=\"E2\" rx=\"10\" ry=\"10\" style=\"stroke: #A80036; stroke-width: 1.5;\" width=\"92\" x=\"40\" y=\"49\"/><text fill=\"#000000\" font-family=\"sans-serif\" font-size=\"12\" font-style=\"italic\" lengthAdjust=\"spacingAndGlyphs\" textLength=\"53\" x=\"59.5\" y=\"65.1387\">«action»</text><text fill=\"#000000\" font-family=\"sans-serif\" font-size=\"12\" lengthAdjust=\"spacingAndGlyphs\" textLength=\"8\" x=\"82\" y=\"79.1074\">a</text><line style=\"stroke: #A80036; stroke-width: 1.0;\" x1=\"40\" x2=\"132\" y1=\"86.9375\" y2=\"86.9375\"/></a><g id=\"E1.E2.E3\"><a href=\"psysml:09db3787-c9b3-4480-a102-0b64206fad8b\" target=\"_top\" title=\"psysml:09db3787-c9b3-4480-a102-0b64206fad8b\" xlink:actuate=\"onRequest\" xlink:href=\"psysml:09db3787-c9b3-4480-a102-0b64206fad8b\" xlink:show=\"new\" xlink:title=\"psysml:09db3787-c9b3-4480-a102-0b64206fad8b\" xlink:type=\"simple\"><rect fill=\"#FEFECE\" filter=\"url(#f1hxsowfechw88)\" height=\"42.9375\" id=\"E3\" rx=\"10\" ry=\"10\" style=\"stroke: #A80036; stroke-width: 1.5;\" width=\"60\" x=\"56\" y=\"100\"/><text fill=\"#000000\" font-family=\"sans-serif\" font-size=\"12\" font-style=\"italic\" lengthAdjust=\"spacingAndGlyphs\" textLength=\"53\" x=\"59.5\" y=\"116.1387\">«action»</text><text fill=\"#000000\" font-family=\"sans-serif\" font-size=\"12\" lengthAdjust=\"spacingAndGlyphs\" textLength=\"30\" x=\"71\" y=\"130.1074\">start</text></a></g><!--MD5=[69864ba148389b6085a3c32d1b84625f]\n",
       "@startuml\r\n",
       "skinparam wrapWidth 300\r\n",
       "hide circle\r\n",
       "\r\n",
       "package \"ActionTest\" as E1  [[psysml:474d0406-5e3d-47be-b798-32d1cf114728 ]]  {\r\n",
       "rec usage \"a\" as E2  <<(T,blue)action>> [[psysml:541513c5-2792-4586-9963-ba9e65ac733f ]] {\r\n",
       "rec usage \"start\" as E3  <<(T,blue)action>> [[psysml:09db3787-c9b3-4480-a102-0b64206fad8b ]] {\r\n",
       "}\r\n",
       "\r\n",
       "}\r\n",
       "\r\n",
       "}\r\n",
       "@enduml\r\n",
       "\n",
       "PlantUML version 1.2020.13(Sat Jun 13 12:26:38 UTC 2020)\n",
       "(EPL source distribution)\n",
       "Java Runtime: OpenJDK Runtime Environment\n",
       "JVM: OpenJDK 64-Bit Server VM\n",
       "Default Encoding: UTF-8\n",
       "Language: en\n",
       "Country: null\n",
       "--></g></svg>"
      ]
     },
     "execution_count": 23,
     "metadata": {},
     "output_type": "execute_result"
    }
   ],
   "source": [
    "%viz --style=\"STDCOLOR\" --view=\"Default\" \"ActionTest\""
   ]
  },
  {
   "cell_type": "code",
   "execution_count": 24,
   "id": "dangerous-ballet",
   "metadata": {
    "execution": {
     "iopub.execute_input": "2021-03-25T09:27:34.674246Z",
     "iopub.status.busy": "2021-03-25T09:27:34.673665Z",
     "iopub.status.idle": "2021-03-25T09:27:35.184207Z",
     "shell.execute_reply": "2021-03-25T09:27:35.184596Z"
    }
   },
   "outputs": [
    {
     "data": {
      "image/svg+xml": [
       "<?xml version=\"1.0\" encoding=\"UTF-8\" standalone=\"no\"?><svg xmlns=\"http://www.w3.org/2000/svg\" xmlns:xlink=\"http://www.w3.org/1999/xlink\" contentScriptType=\"application/ecmascript\" contentStyleType=\"text/css\" height=\"145px\" preserveAspectRatio=\"none\" style=\"width:298px;height:145px;\" version=\"1.1\" viewBox=\"0 0 298 145\" width=\"298px\" zoomAndPan=\"magnify\"><defs><filter height=\"300%\" id=\"f1fhr0sx968ma2\" width=\"300%\" x=\"-1\" y=\"-1\"><feGaussianBlur result=\"blurOut\" stdDeviation=\"2.0\"/><feColorMatrix in=\"blurOut\" result=\"blurOut2\" type=\"matrix\" values=\"0 0 0 0 0 0 0 0 0 0 0 0 0 0 0 0 0 0 .4 0\"/><feOffset dx=\"4.0\" dy=\"4.0\" in=\"blurOut2\" result=\"blurOut3\"/><feBlend in=\"SourceGraphic\" in2=\"blurOut3\" mode=\"normal\"/></filter></defs><g><!--MD5=[fbc87193dbaf4d95561dea2c320d4a47]\n",
       "cluster E1--><a href=\"psysml:474d0406-5e3d-47be-b798-32d1cf114728\" target=\"_top\" title=\"psysml:474d0406-5e3d-47be-b798-32d1cf114728\" xlink:actuate=\"onRequest\" xlink:href=\"psysml:474d0406-5e3d-47be-b798-32d1cf114728\" xlink:show=\"new\" xlink:title=\"psysml:474d0406-5e3d-47be-b798-32d1cf114728\" xlink:type=\"simple\"><polygon fill=\"#FFFFFF\" filter=\"url(#f1fhr0sx968ma2)\" points=\"16,6,107,6,114,28.2969,276,28.2969,276,133,16,133,16,6\" style=\"stroke: #000000; stroke-width: 1.5;\"/><line style=\"stroke: #000000; stroke-width: 1.5;\" x1=\"16\" x2=\"114\" y1=\"28.2969\" y2=\"28.2969\"/><text fill=\"#000000\" font-family=\"sans-serif\" font-size=\"14\" font-weight=\"bold\" lengthAdjust=\"spacingAndGlyphs\" textLength=\"85\" x=\"20\" y=\"20.9951\">ActionTest</text></a><!--MD5=[b4997ac47864f28c2f74865a473b2911]\n",
       "class E2--><a href=\"psysml:541513c5-2792-4586-9963-ba9e65ac733f\" target=\"_top\" title=\"psysml:541513c5-2792-4586-9963-ba9e65ac733f\" xlink:actuate=\"onRequest\" xlink:href=\"psysml:541513c5-2792-4586-9963-ba9e65ac733f\" xlink:show=\"new\" xlink:title=\"psysml:541513c5-2792-4586-9963-ba9e65ac733f\" xlink:type=\"simple\"><rect fill=\"#FEFECE\" filter=\"url(#f1fhr0sx968ma2)\" height=\"76.4922\" id=\"E2\" rx=\"10\" ry=\"10\" style=\"stroke: #A80036; stroke-width: 1.5;\" width=\"228\" x=\"32\" y=\"41\"/><text fill=\"#000000\" font-family=\"sans-serif\" font-size=\"12\" font-style=\"italic\" lengthAdjust=\"spacingAndGlyphs\" textLength=\"53\" x=\"119.5\" y=\"57.1387\">«action»</text><text fill=\"#000000\" font-family=\"sans-serif\" font-size=\"12\" lengthAdjust=\"spacingAndGlyphs\" textLength=\"8\" x=\"142\" y=\"71.1074\">a</text><line style=\"stroke: #A80036; stroke-width: 1.5;\" x1=\"33\" x2=\"259\" y1=\"78.9375\" y2=\"78.9375\"/><path d=\"M39.9167,100.6589 L39.9167,109.8255 L40.8333,109.8255 L40.8333,100.6589 M43.5833,100.6589 L43.5833,109.8255 L50.9167,105.2422 L43.5833,100.6589 L44.5,102.0339 L49.5417,105.2422 L44.5,108.4505 L44.5,102.0339 \" fill=\"#000000\" style=\"stroke: ; stroke-width: 0.0; stroke-dasharray: ;\"/><text fill=\"#000000\" font-family=\"sans-serif\" font-size=\"11\" lengthAdjust=\"spacingAndGlyphs\" textLength=\"69\" x=\"55\" y=\"110.8979\">start: Action</text><text fill=\"#000000\" font-family=\"sans-serif\" font-size=\"11\" lengthAdjust=\"spacingAndGlyphs\" text-decoration=\"line-through\" textLength=\"126\" x=\"128\" y=\"110.8979\">Occurrence::startShot</text><line style=\"stroke: #A80036; stroke-width: 1.0;\" x1=\"33\" x2=\"125.5\" y1=\"93.3398\" y2=\"93.3398\"/><text fill=\"#000000\" font-family=\"sans-serif\" font-size=\"11\" lengthAdjust=\"spacingAndGlyphs\" textLength=\"41\" x=\"125.5\" y=\"96.6479\">actions</text><line style=\"stroke: #A80036; stroke-width: 1.0;\" x1=\"166.5\" x2=\"259\" y1=\"93.3398\" y2=\"93.3398\"/></a><!--MD5=[4c622887e56fe940cd96e1bc7c6a21f8]\n",
       "@startuml\r\n",
       "skinparam wrapWidth 300\r\n",
       "hide circle\r\n",
       "\r\n",
       "package \"ActionTest\" as E1  [[psysml:474d0406-5e3d-47be-b798-32d1cf114728 ]]  {\r\n",
       "comp usage \"a\" as E2  <<(T,blue)action>> [[psysml:541513c5-2792-4586-9963-ba9e65ac733f ]] {\r\n",
       "- - actions - -\r\n",
       "<&bar-trig> start: Action <s>Occurrence::startShot</s>\r\n",
       "}\r\n",
       "}\r\n",
       "@enduml\r\n",
       "\n",
       "PlantUML version 1.2020.13(Sat Jun 13 12:26:38 UTC 2020)\n",
       "(EPL source distribution)\n",
       "Java Runtime: OpenJDK Runtime Environment\n",
       "JVM: OpenJDK 64-Bit Server VM\n",
       "Default Encoding: UTF-8\n",
       "Language: en\n",
       "Country: null\n",
       "--></g></svg>"
      ]
     },
     "execution_count": 24,
     "metadata": {},
     "output_type": "execute_result"
    }
   ],
   "source": [
    "%viz --style=\"STDCOLOR\" --view=\"Tree\" \"ActionTest\""
   ]
  },
  {
   "cell_type": "code",
   "execution_count": 25,
   "id": "moving-float",
   "metadata": {
    "execution": {
     "iopub.execute_input": "2021-03-25T09:27:35.237243Z",
     "iopub.status.busy": "2021-03-25T09:27:35.236066Z",
     "iopub.status.idle": "2021-03-25T09:27:35.242994Z",
     "shell.execute_reply": "2021-03-25T09:27:35.243393Z"
    }
   },
   "outputs": [
    {
     "data": {
      "image/svg+xml": [
       "<?xml version=\"1.0\" encoding=\"UTF-8\" standalone=\"no\"?><svg xmlns=\"http://www.w3.org/2000/svg\" xmlns:xlink=\"http://www.w3.org/1999/xlink\" contentScriptType=\"application/ecmascript\" contentStyleType=\"text/css\" height=\"12px\" preserveAspectRatio=\"none\" style=\"width:12px;height:12px;\" version=\"1.1\" viewBox=\"0 0 12 12\" width=\"12px\" zoomAndPan=\"magnify\"><defs/><g><!--MD5=[aeeef50f102b80d730deb6443d14f702]\n",
       "@startuml\r\n",
       "skinparam wrapWidth 300\r\n",
       "hide circle\r\n",
       "\r\n",
       "@enduml\r\n",
       "\n",
       "PlantUML version 1.2020.13(Sat Jun 13 12:26:38 UTC 2020)\n",
       "(EPL source distribution)\n",
       "Java Runtime: OpenJDK Runtime Environment\n",
       "JVM: OpenJDK 64-Bit Server VM\n",
       "Default Encoding: UTF-8\n",
       "Language: en\n",
       "Country: null\n",
       "--></g></svg>"
      ]
     },
     "execution_count": 25,
     "metadata": {},
     "output_type": "execute_result"
    }
   ],
   "source": [
    "%viz --style=\"STDCOLOR\" --view=\"State\" \"ActionTest\""
   ]
  },
  {
   "cell_type": "code",
   "execution_count": 26,
   "id": "unexpected-pilot",
   "metadata": {
    "execution": {
     "iopub.execute_input": "2021-03-25T09:27:35.297151Z",
     "iopub.status.busy": "2021-03-25T09:27:35.296378Z",
     "iopub.status.idle": "2021-03-25T09:27:35.370161Z",
     "shell.execute_reply": "2021-03-25T09:27:35.369792Z"
    }
   },
   "outputs": [
    {
     "data": {
      "image/svg+xml": [
       "<?xml version=\"1.0\" encoding=\"UTF-8\" standalone=\"no\"?><svg xmlns=\"http://www.w3.org/2000/svg\" xmlns:xlink=\"http://www.w3.org/1999/xlink\" contentScriptType=\"application/ecmascript\" contentStyleType=\"text/css\" height=\"196px\" preserveAspectRatio=\"none\" style=\"width:368px;height:196px;\" version=\"1.1\" viewBox=\"0 0 368 196\" width=\"368px\" zoomAndPan=\"magnify\"><defs><filter height=\"300%\" id=\"f4xu9fehekpb6\" width=\"300%\" x=\"-1\" y=\"-1\"><feGaussianBlur result=\"blurOut\" stdDeviation=\"2.0\"/><feColorMatrix in=\"blurOut\" result=\"blurOut2\" type=\"matrix\" values=\"0 0 0 0 0 0 0 0 0 0 0 0 0 0 0 0 0 0 .4 0\"/><feOffset dx=\"4.0\" dy=\"4.0\" in=\"blurOut2\" result=\"blurOut3\"/><feBlend in=\"SourceGraphic\" in2=\"blurOut3\" mode=\"normal\"/></filter></defs><g><!--MD5=[fbc87193dbaf4d95561dea2c320d4a47]\n",
       "cluster E1--><a href=\"psysml:474d0406-5e3d-47be-b798-32d1cf114728\" target=\"_top\" title=\"psysml:474d0406-5e3d-47be-b798-32d1cf114728\" xlink:actuate=\"onRequest\" xlink:href=\"psysml:474d0406-5e3d-47be-b798-32d1cf114728\" xlink:show=\"new\" xlink:title=\"psysml:474d0406-5e3d-47be-b798-32d1cf114728\" xlink:type=\"simple\"><polygon fill=\"#FFFFFF\" filter=\"url(#f4xu9fehekpb6)\" points=\"16,6,107,6,114,28.2969,346,28.2969,346,184,16,184,16,6\" style=\"stroke: #000000; stroke-width: 1.5;\"/><line style=\"stroke: #000000; stroke-width: 1.5;\" x1=\"16\" x2=\"114\" y1=\"28.2969\" y2=\"28.2969\"/><text fill=\"#000000\" font-family=\"sans-serif\" font-size=\"14\" font-weight=\"bold\" lengthAdjust=\"spacingAndGlyphs\" textLength=\"85\" x=\"20\" y=\"20.9951\">ActionTest</text></a><!--MD5=[e4f7fae6ed58524ba242bb0b0d3be6b7]\n",
       "cluster E2--><a href=\"psysml:541513c5-2792-4586-9963-ba9e65ac733f\" target=\"_top\" title=\"psysml:541513c5-2792-4586-9963-ba9e65ac733f\" xlink:actuate=\"onRequest\" xlink:href=\"psysml:541513c5-2792-4586-9963-ba9e65ac733f\" xlink:show=\"new\" xlink:title=\"psysml:541513c5-2792-4586-9963-ba9e65ac733f\" xlink:type=\"simple\"><rect fill=\"#FFFFFF\" filter=\"url(#f4xu9fehekpb6)\" height=\"111\" id=\"E2\" rx=\"10\" ry=\"10\" style=\"stroke: #A80036; stroke-width: 1.5;\" width=\"282\" x=\"40\" y=\"49\"/><rect fill=\"#FEFECE\" height=\"37.9375\" rx=\"10\" ry=\"10\" style=\"stroke: #FEFECE; stroke-width: 1.5;\" width=\"282\" x=\"40\" y=\"49\"/><rect fill=\"#FEFECE\" height=\"10\" style=\"stroke: #FEFECE; stroke-width: 1.5;\" width=\"282\" x=\"40\" y=\"76.9375\"/><rect fill=\"none\" height=\"111\" id=\"E2\" rx=\"10\" ry=\"10\" style=\"stroke: #A80036; stroke-width: 1.5;\" width=\"282\" x=\"40\" y=\"49\"/><text fill=\"#000000\" font-family=\"sans-serif\" font-size=\"12\" font-style=\"italic\" lengthAdjust=\"spacingAndGlyphs\" textLength=\"53\" x=\"154.5\" y=\"65.1387\">«action»</text><text fill=\"#000000\" font-family=\"sans-serif\" font-size=\"12\" lengthAdjust=\"spacingAndGlyphs\" textLength=\"8\" x=\"177\" y=\"79.1074\">a</text><line style=\"stroke: #A80036; stroke-width: 1.0;\" x1=\"40\" x2=\"322\" y1=\"86.9375\" y2=\"86.9375\"/></a><g id=\"E1.E2.E3\"><a href=\"psysml:09db3787-c9b3-4480-a102-0b64206fad8b\" target=\"_top\" title=\"psysml:09db3787-c9b3-4480-a102-0b64206fad8b\" xlink:actuate=\"onRequest\" xlink:href=\"psysml:09db3787-c9b3-4480-a102-0b64206fad8b\" xlink:show=\"new\" xlink:title=\"psysml:09db3787-c9b3-4480-a102-0b64206fad8b\" xlink:type=\"simple\"><rect fill=\"#FEFECE\" filter=\"url(#f4xu9fehekpb6)\" height=\"43.9688\" id=\"E3\" rx=\"10\" ry=\"10\" style=\"stroke: #A80036; stroke-width: 1.5;\" width=\"249\" x=\"56.5\" y=\"100\"/><text fill=\"#000000\" font-family=\"sans-serif\" font-size=\"12\" font-style=\"italic\" lengthAdjust=\"spacingAndGlyphs\" textLength=\"53\" x=\"154.5\" y=\"116.1387\">«action»</text><path d=\"M64,119.9688 L64,129.9688 L65,129.9688 L65,119.9688 M68,119.9688 L68,129.9688 L76,124.9688 L68,119.9688 L69,121.4688 L74.5,124.9688 L69,128.4688 L69,121.4688 \" fill=\"#000000\" style=\"stroke: ; stroke-width: 0.0; stroke-dasharray: ;\"/><text fill=\"#000000\" font-family=\"sans-serif\" font-size=\"12\" lengthAdjust=\"spacingAndGlyphs\" textLength=\"77\" x=\"80\" y=\"131.1387\">start: Action</text><text fill=\"#000000\" font-family=\"sans-serif\" font-size=\"12\" lengthAdjust=\"spacingAndGlyphs\" text-decoration=\"line-through\" textLength=\"139\" x=\"161\" y=\"131.1387\">Occurrence::startShot</text></a></g><!--MD5=[0db1d06b3ed1a6a5ee3f7670b644d5cc]\n",
       "@startuml\r\n",
       "skinparam ranksep 8\r\n",
       "skinparam rectangle {\r\n",
       " backgroundColor<<block>> LightGreen\r\n",
       "}\r\n",
       "skinparam wrapWidth 300\r\n",
       "hide circle\r\n",
       "\r\n",
       "package \"ActionTest\" as E1  [[psysml:474d0406-5e3d-47be-b798-32d1cf114728 ]]  {\r\n",
       "rec usage \"a\" as E2  <<(T,blue)action>> [[psysml:541513c5-2792-4586-9963-ba9e65ac733f ]] {\r\n",
       "rec usage \"<&bar-trig> start: Action <s>Occurrence::startShot</s>\" as E3  <<(T,blue)action>> [[psysml:09db3787-c9b3-4480-a102-0b64206fad8b ]] {\r\n",
       "}\r\n",
       "}\r\n",
       "}\r\n",
       "@enduml\r\n",
       "\n",
       "PlantUML version 1.2020.13(Sat Jun 13 12:26:38 UTC 2020)\n",
       "(EPL source distribution)\n",
       "Java Runtime: OpenJDK Runtime Environment\n",
       "JVM: OpenJDK 64-Bit Server VM\n",
       "Default Encoding: UTF-8\n",
       "Language: en\n",
       "Country: null\n",
       "--></g></svg>"
      ]
     },
     "execution_count": 26,
     "metadata": {},
     "output_type": "execute_result"
    }
   ],
   "source": [
    "%viz --style=\"STDCOLOR\" --view=\"Interconnection\" \"ActionTest\""
   ]
  },
  {
   "cell_type": "code",
   "execution_count": 27,
   "id": "contrary-lyric",
   "metadata": {
    "execution": {
     "iopub.execute_input": "2021-03-25T09:27:35.423412Z",
     "iopub.status.busy": "2021-03-25T09:27:35.421806Z",
     "iopub.status.idle": "2021-03-25T09:27:35.477636Z",
     "shell.execute_reply": "2021-03-25T09:27:35.477282Z"
    }
   },
   "outputs": [
    {
     "data": {
      "image/svg+xml": [
       "<?xml version=\"1.0\" encoding=\"UTF-8\" standalone=\"no\"?><svg xmlns=\"http://www.w3.org/2000/svg\" xmlns:xlink=\"http://www.w3.org/1999/xlink\" contentScriptType=\"application/ecmascript\" contentStyleType=\"text/css\" height=\"136px\" preserveAspectRatio=\"none\" style=\"width:118px;height:136px;\" version=\"1.1\" viewBox=\"0 0 118 136\" width=\"118px\" zoomAndPan=\"magnify\"><defs><filter height=\"300%\" id=\"f1j9py293o6xw9\" width=\"300%\" x=\"-1\" y=\"-1\"><feGaussianBlur result=\"blurOut\" stdDeviation=\"2.0\"/><feColorMatrix in=\"blurOut\" result=\"blurOut2\" type=\"matrix\" values=\"0 0 0 0 0 0 0 0 0 0 0 0 0 0 0 0 0 0 .4 0\"/><feOffset dx=\"4.0\" dy=\"4.0\" in=\"blurOut2\" result=\"blurOut3\"/><feBlend in=\"SourceGraphic\" in2=\"blurOut3\" mode=\"normal\"/></filter></defs><g><!--MD5=[fbc87193dbaf4d95561dea2c320d4a47]\n",
       "cluster E1--><a href=\"psysml:541513c5-2792-4586-9963-ba9e65ac733f\" target=\"_top\" title=\"psysml:541513c5-2792-4586-9963-ba9e65ac733f\" xlink:actuate=\"onRequest\" xlink:href=\"psysml:541513c5-2792-4586-9963-ba9e65ac733f\" xlink:show=\"new\" xlink:title=\"psysml:541513c5-2792-4586-9963-ba9e65ac733f\" xlink:type=\"simple\"><rect fill=\"#FFFFFF\" filter=\"url(#f1j9py293o6xw9)\" height=\"110\" id=\"E1\" rx=\"10\" ry=\"10\" style=\"stroke: #A80036; stroke-width: 1.5;\" width=\"92\" x=\"7\" y=\"7\"/><rect fill=\"#FEFECE\" height=\"37.9375\" rx=\"10\" ry=\"10\" style=\"stroke: #FEFECE; stroke-width: 1.5;\" width=\"92\" x=\"7\" y=\"7\"/><rect fill=\"#FEFECE\" height=\"10\" style=\"stroke: #FEFECE; stroke-width: 1.5;\" width=\"92\" x=\"7\" y=\"34.9375\"/><rect fill=\"none\" height=\"110\" id=\"E1\" rx=\"10\" ry=\"10\" style=\"stroke: #A80036; stroke-width: 1.5;\" width=\"92\" x=\"7\" y=\"7\"/><text fill=\"#000000\" font-family=\"sans-serif\" font-size=\"12\" font-style=\"italic\" lengthAdjust=\"spacingAndGlyphs\" textLength=\"53\" x=\"26.5\" y=\"23.1387\">«action»</text><text fill=\"#000000\" font-family=\"sans-serif\" font-size=\"12\" lengthAdjust=\"spacingAndGlyphs\" textLength=\"8\" x=\"49\" y=\"37.1074\">a</text><line style=\"stroke: #A80036; stroke-width: 1.0;\" x1=\"7\" x2=\"99\" y1=\"44.9375\" y2=\"44.9375\"/></a><g id=\"E1.E2\"><a href=\"psysml:09db3787-c9b3-4480-a102-0b64206fad8b\" target=\"_top\" title=\"psysml:09db3787-c9b3-4480-a102-0b64206fad8b\" xlink:actuate=\"onRequest\" xlink:href=\"psysml:09db3787-c9b3-4480-a102-0b64206fad8b\" xlink:show=\"new\" xlink:title=\"psysml:09db3787-c9b3-4480-a102-0b64206fad8b\" xlink:type=\"simple\"><rect fill=\"#FEFECE\" filter=\"url(#f1j9py293o6xw9)\" height=\"42.9375\" id=\"E2\" rx=\"10\" ry=\"10\" style=\"stroke: #A80036; stroke-width: 1.5;\" width=\"60\" x=\"23\" y=\"58\"/><text fill=\"#000000\" font-family=\"sans-serif\" font-size=\"12\" font-style=\"italic\" lengthAdjust=\"spacingAndGlyphs\" textLength=\"53\" x=\"26.5\" y=\"74.1387\">«action»</text><text fill=\"#000000\" font-family=\"sans-serif\" font-size=\"12\" lengthAdjust=\"spacingAndGlyphs\" textLength=\"30\" x=\"38\" y=\"88.1074\">start</text></a></g><!--MD5=[2a880c1c9456740e67be51b05d02f8ab]\n",
       "@startuml\r\n",
       "skinparam ranksep 8\r\n",
       "skinparam wrapWidth 300\r\n",
       "hide circle\r\n",
       "\r\n",
       "rec usage \"a\" as E1  <<(T,blue)action>> [[psysml:541513c5-2792-4586-9963-ba9e65ac733f ]] {\r\n",
       "rec usage \"start\" as E2  <<(T,blue)action>> [[psysml:09db3787-c9b3-4480-a102-0b64206fad8b ]] {\r\n",
       "}\r\n",
       "\r\n",
       "}\r\n",
       "\r\n",
       "@enduml\r\n",
       "\n",
       "PlantUML version 1.2020.13(Sat Jun 13 12:26:38 UTC 2020)\n",
       "(EPL source distribution)\n",
       "Java Runtime: OpenJDK Runtime Environment\n",
       "JVM: OpenJDK 64-Bit Server VM\n",
       "Default Encoding: UTF-8\n",
       "Language: en\n",
       "Country: null\n",
       "--></g></svg>"
      ]
     },
     "execution_count": 27,
     "metadata": {},
     "output_type": "execute_result"
    }
   ],
   "source": [
    "%viz --style=\"STDCOLOR\" --view=\"Action\" \"ActionTest\""
   ]
  },
  {
   "cell_type": "code",
   "execution_count": 28,
   "id": "possible-geology",
   "metadata": {
    "execution": {
     "iopub.execute_input": "2021-03-25T09:27:35.529801Z",
     "iopub.status.busy": "2021-03-25T09:27:35.529195Z",
     "iopub.status.idle": "2021-03-25T09:27:36.026571Z",
     "shell.execute_reply": "2021-03-25T09:27:36.027064Z"
    }
   },
   "outputs": [
    {
     "data": {
      "image/svg+xml": [
       "<?xml version=\"1.0\" encoding=\"UTF-8\" standalone=\"no\"?><svg xmlns=\"http://www.w3.org/2000/svg\" xmlns:xlink=\"http://www.w3.org/1999/xlink\" contentScriptType=\"application/ecmascript\" contentStyleType=\"text/css\" height=\"145px\" preserveAspectRatio=\"none\" style=\"width:298px;height:145px;\" version=\"1.1\" viewBox=\"0 0 298 145\" width=\"298px\" zoomAndPan=\"magnify\"><defs><filter height=\"300%\" id=\"f1fhr0sx968ma2\" width=\"300%\" x=\"-1\" y=\"-1\"><feGaussianBlur result=\"blurOut\" stdDeviation=\"2.0\"/><feColorMatrix in=\"blurOut\" result=\"blurOut2\" type=\"matrix\" values=\"0 0 0 0 0 0 0 0 0 0 0 0 0 0 0 0 0 0 .4 0\"/><feOffset dx=\"4.0\" dy=\"4.0\" in=\"blurOut2\" result=\"blurOut3\"/><feBlend in=\"SourceGraphic\" in2=\"blurOut3\" mode=\"normal\"/></filter></defs><g><!--MD5=[fbc87193dbaf4d95561dea2c320d4a47]\n",
       "cluster E1--><a href=\"psysml:474d0406-5e3d-47be-b798-32d1cf114728\" target=\"_top\" title=\"psysml:474d0406-5e3d-47be-b798-32d1cf114728\" xlink:actuate=\"onRequest\" xlink:href=\"psysml:474d0406-5e3d-47be-b798-32d1cf114728\" xlink:show=\"new\" xlink:title=\"psysml:474d0406-5e3d-47be-b798-32d1cf114728\" xlink:type=\"simple\"><polygon fill=\"#FFFFFF\" filter=\"url(#f1fhr0sx968ma2)\" points=\"16,6,107,6,114,28.2969,276,28.2969,276,133,16,133,16,6\" style=\"stroke: #000000; stroke-width: 1.5;\"/><line style=\"stroke: #000000; stroke-width: 1.5;\" x1=\"16\" x2=\"114\" y1=\"28.2969\" y2=\"28.2969\"/><text fill=\"#000000\" font-family=\"sans-serif\" font-size=\"14\" font-weight=\"bold\" lengthAdjust=\"spacingAndGlyphs\" textLength=\"85\" x=\"20\" y=\"20.9951\">ActionTest</text></a><!--MD5=[b4997ac47864f28c2f74865a473b2911]\n",
       "class E2--><a href=\"psysml:541513c5-2792-4586-9963-ba9e65ac733f\" target=\"_top\" title=\"psysml:541513c5-2792-4586-9963-ba9e65ac733f\" xlink:actuate=\"onRequest\" xlink:href=\"psysml:541513c5-2792-4586-9963-ba9e65ac733f\" xlink:show=\"new\" xlink:title=\"psysml:541513c5-2792-4586-9963-ba9e65ac733f\" xlink:type=\"simple\"><rect fill=\"#FEFECE\" filter=\"url(#f1fhr0sx968ma2)\" height=\"76.4922\" id=\"E2\" rx=\"10\" ry=\"10\" style=\"stroke: #A80036; stroke-width: 1.5;\" width=\"228\" x=\"32\" y=\"41\"/><text fill=\"#000000\" font-family=\"sans-serif\" font-size=\"12\" font-style=\"italic\" lengthAdjust=\"spacingAndGlyphs\" textLength=\"53\" x=\"119.5\" y=\"57.1387\">«action»</text><text fill=\"#000000\" font-family=\"sans-serif\" font-size=\"12\" lengthAdjust=\"spacingAndGlyphs\" textLength=\"8\" x=\"142\" y=\"71.1074\">a</text><line style=\"stroke: #A80036; stroke-width: 1.5;\" x1=\"33\" x2=\"259\" y1=\"78.9375\" y2=\"78.9375\"/><path d=\"M39.9167,100.6589 L39.9167,109.8255 L40.8333,109.8255 L40.8333,100.6589 M43.5833,100.6589 L43.5833,109.8255 L50.9167,105.2422 L43.5833,100.6589 L44.5,102.0339 L49.5417,105.2422 L44.5,108.4505 L44.5,102.0339 \" fill=\"#000000\" style=\"stroke: ; stroke-width: 0.0; stroke-dasharray: ;\"/><text fill=\"#000000\" font-family=\"sans-serif\" font-size=\"11\" lengthAdjust=\"spacingAndGlyphs\" textLength=\"69\" x=\"55\" y=\"110.8979\">start: Action</text><text fill=\"#000000\" font-family=\"sans-serif\" font-size=\"11\" lengthAdjust=\"spacingAndGlyphs\" text-decoration=\"line-through\" textLength=\"126\" x=\"128\" y=\"110.8979\">Occurrence::startShot</text><line style=\"stroke: #A80036; stroke-width: 1.0;\" x1=\"33\" x2=\"125.5\" y1=\"93.3398\" y2=\"93.3398\"/><text fill=\"#000000\" font-family=\"sans-serif\" font-size=\"11\" lengthAdjust=\"spacingAndGlyphs\" textLength=\"41\" x=\"125.5\" y=\"96.6479\">actions</text><line style=\"stroke: #A80036; stroke-width: 1.0;\" x1=\"166.5\" x2=\"259\" y1=\"93.3398\" y2=\"93.3398\"/></a><!--MD5=[4c622887e56fe940cd96e1bc7c6a21f8]\n",
       "@startuml\r\n",
       "skinparam wrapWidth 300\r\n",
       "hide circle\r\n",
       "\r\n",
       "package \"ActionTest\" as E1  [[psysml:474d0406-5e3d-47be-b798-32d1cf114728 ]]  {\r\n",
       "comp usage \"a\" as E2  <<(T,blue)action>> [[psysml:541513c5-2792-4586-9963-ba9e65ac733f ]] {\r\n",
       "- - actions - -\r\n",
       "<&bar-trig> start: Action <s>Occurrence::startShot</s>\r\n",
       "}\r\n",
       "}\r\n",
       "@enduml\r\n",
       "\n",
       "PlantUML version 1.2020.13(Sat Jun 13 12:26:38 UTC 2020)\n",
       "(EPL source distribution)\n",
       "Java Runtime: OpenJDK Runtime Environment\n",
       "JVM: OpenJDK 64-Bit Server VM\n",
       "Default Encoding: UTF-8\n",
       "Language: en\n",
       "Country: null\n",
       "--></g></svg>"
      ]
     },
     "execution_count": 28,
     "metadata": {},
     "output_type": "execute_result"
    }
   ],
   "source": [
    "%viz --style=\"STDCOLOR\" --view=\"Sequence\" \"ActionTest\""
   ]
  },
  {
   "cell_type": "code",
   "execution_count": 29,
   "id": "collective-messaging",
   "metadata": {
    "execution": {
     "iopub.execute_input": "2021-03-25T09:27:36.078245Z",
     "iopub.status.busy": "2021-03-25T09:27:36.077734Z",
     "iopub.status.idle": "2021-03-25T09:27:36.136037Z",
     "shell.execute_reply": "2021-03-25T09:27:36.136412Z"
    }
   },
   "outputs": [
    {
     "data": {
      "image/svg+xml": [
       "<?xml version=\"1.0\" encoding=\"UTF-8\" standalone=\"no\"?><svg xmlns=\"http://www.w3.org/2000/svg\" xmlns:xlink=\"http://www.w3.org/1999/xlink\" contentScriptType=\"application/ecmascript\" contentStyleType=\"text/css\" height=\"195px\" preserveAspectRatio=\"none\" style=\"width:178px;height:195px;\" version=\"1.1\" viewBox=\"0 0 178 195\" width=\"178px\" zoomAndPan=\"magnify\"><defs><filter height=\"300%\" id=\"f1hxsowfechw88\" width=\"300%\" x=\"-1\" y=\"-1\"><feGaussianBlur result=\"blurOut\" stdDeviation=\"2.0\"/><feColorMatrix in=\"blurOut\" result=\"blurOut2\" type=\"matrix\" values=\"0 0 0 0 0 0 0 0 0 0 0 0 0 0 0 0 0 0 .4 0\"/><feOffset dx=\"4.0\" dy=\"4.0\" in=\"blurOut2\" result=\"blurOut3\"/><feBlend in=\"SourceGraphic\" in2=\"blurOut3\" mode=\"normal\"/></filter></defs><g><!--MD5=[fbc87193dbaf4d95561dea2c320d4a47]\n",
       "cluster E1--><a href=\"psysml:474d0406-5e3d-47be-b798-32d1cf114728\" target=\"_top\" title=\"psysml:474d0406-5e3d-47be-b798-32d1cf114728\" xlink:actuate=\"onRequest\" xlink:href=\"psysml:474d0406-5e3d-47be-b798-32d1cf114728\" xlink:show=\"new\" xlink:title=\"psysml:474d0406-5e3d-47be-b798-32d1cf114728\" xlink:type=\"simple\"><polygon fill=\"#FFFFFF\" filter=\"url(#f1hxsowfechw88)\" points=\"16,6,107,6,114,28.2969,156,28.2969,156,183,16,183,16,6\" style=\"stroke: #000000; stroke-width: 1.5;\"/><line style=\"stroke: #000000; stroke-width: 1.5;\" x1=\"16\" x2=\"114\" y1=\"28.2969\" y2=\"28.2969\"/><text fill=\"#000000\" font-family=\"sans-serif\" font-size=\"14\" font-weight=\"bold\" lengthAdjust=\"spacingAndGlyphs\" textLength=\"85\" x=\"20\" y=\"20.9951\">ActionTest</text></a><!--MD5=[e4f7fae6ed58524ba242bb0b0d3be6b7]\n",
       "cluster E2--><a href=\"psysml:541513c5-2792-4586-9963-ba9e65ac733f\" target=\"_top\" title=\"psysml:541513c5-2792-4586-9963-ba9e65ac733f\" xlink:actuate=\"onRequest\" xlink:href=\"psysml:541513c5-2792-4586-9963-ba9e65ac733f\" xlink:show=\"new\" xlink:title=\"psysml:541513c5-2792-4586-9963-ba9e65ac733f\" xlink:type=\"simple\"><rect fill=\"#FFFFFF\" filter=\"url(#f1hxsowfechw88)\" height=\"110\" id=\"E2\" rx=\"10\" ry=\"10\" style=\"stroke: #A80036; stroke-width: 1.5;\" width=\"92\" x=\"40\" y=\"49\"/><rect fill=\"#FEFECE\" height=\"37.9375\" rx=\"10\" ry=\"10\" style=\"stroke: #FEFECE; stroke-width: 1.5;\" width=\"92\" x=\"40\" y=\"49\"/><rect fill=\"#FEFECE\" height=\"10\" style=\"stroke: #FEFECE; stroke-width: 1.5;\" width=\"92\" x=\"40\" y=\"76.9375\"/><rect fill=\"none\" height=\"110\" id=\"E2\" rx=\"10\" ry=\"10\" style=\"stroke: #A80036; stroke-width: 1.5;\" width=\"92\" x=\"40\" y=\"49\"/><text fill=\"#000000\" font-family=\"sans-serif\" font-size=\"12\" font-style=\"italic\" lengthAdjust=\"spacingAndGlyphs\" textLength=\"53\" x=\"59.5\" y=\"65.1387\">«action»</text><text fill=\"#000000\" font-family=\"sans-serif\" font-size=\"12\" lengthAdjust=\"spacingAndGlyphs\" textLength=\"8\" x=\"82\" y=\"79.1074\">a</text><line style=\"stroke: #A80036; stroke-width: 1.0;\" x1=\"40\" x2=\"132\" y1=\"86.9375\" y2=\"86.9375\"/></a><g id=\"E1.E2.E3\"><a href=\"psysml:09db3787-c9b3-4480-a102-0b64206fad8b\" target=\"_top\" title=\"psysml:09db3787-c9b3-4480-a102-0b64206fad8b\" xlink:actuate=\"onRequest\" xlink:href=\"psysml:09db3787-c9b3-4480-a102-0b64206fad8b\" xlink:show=\"new\" xlink:title=\"psysml:09db3787-c9b3-4480-a102-0b64206fad8b\" xlink:type=\"simple\"><rect fill=\"#FEFECE\" filter=\"url(#f1hxsowfechw88)\" height=\"42.9375\" id=\"E3\" rx=\"10\" ry=\"10\" style=\"stroke: #A80036; stroke-width: 1.5;\" width=\"60\" x=\"56\" y=\"100\"/><text fill=\"#000000\" font-family=\"sans-serif\" font-size=\"12\" font-style=\"italic\" lengthAdjust=\"spacingAndGlyphs\" textLength=\"53\" x=\"59.5\" y=\"116.1387\">«action»</text><text fill=\"#000000\" font-family=\"sans-serif\" font-size=\"12\" lengthAdjust=\"spacingAndGlyphs\" textLength=\"30\" x=\"71\" y=\"130.1074\">start</text></a></g><!--MD5=[69864ba148389b6085a3c32d1b84625f]\n",
       "@startuml\r\n",
       "skinparam wrapWidth 300\r\n",
       "hide circle\r\n",
       "\r\n",
       "package \"ActionTest\" as E1  [[psysml:474d0406-5e3d-47be-b798-32d1cf114728 ]]  {\r\n",
       "rec usage \"a\" as E2  <<(T,blue)action>> [[psysml:541513c5-2792-4586-9963-ba9e65ac733f ]] {\r\n",
       "rec usage \"start\" as E3  <<(T,blue)action>> [[psysml:09db3787-c9b3-4480-a102-0b64206fad8b ]] {\r\n",
       "}\r\n",
       "\r\n",
       "}\r\n",
       "\r\n",
       "}\r\n",
       "@enduml\r\n",
       "\n",
       "PlantUML version 1.2020.13(Sat Jun 13 12:26:38 UTC 2020)\n",
       "(EPL source distribution)\n",
       "Java Runtime: OpenJDK Runtime Environment\n",
       "JVM: OpenJDK 64-Bit Server VM\n",
       "Default Encoding: UTF-8\n",
       "Language: en\n",
       "Country: null\n",
       "--></g></svg>"
      ]
     },
     "execution_count": 29,
     "metadata": {},
     "output_type": "execute_result"
    }
   ],
   "source": [
    "%viz --style=\"STDCOLOR\" --view=\"MIXED\" \"ActionTest\""
   ]
  },
  {
   "cell_type": "code",
   "execution_count": 30,
   "id": "documentary-video",
   "metadata": {
    "execution": {
     "iopub.execute_input": "2021-03-25T09:27:36.188453Z",
     "iopub.status.busy": "2021-03-25T09:27:36.187992Z",
     "iopub.status.idle": "2021-03-25T09:27:36.261954Z",
     "shell.execute_reply": "2021-03-25T09:27:36.262343Z"
    }
   },
   "outputs": [
    {
     "data": {
      "image/svg+xml": [
       "<?xml version=\"1.0\" encoding=\"UTF-8\" standalone=\"no\"?><svg xmlns=\"http://www.w3.org/2000/svg\" xmlns:xlink=\"http://www.w3.org/1999/xlink\" contentScriptType=\"application/ecmascript\" contentStyleType=\"text/css\" height=\"195px\" preserveAspectRatio=\"none\" style=\"width:204px;height:195px;\" version=\"1.1\" viewBox=\"0 0 204 195\" width=\"204px\" zoomAndPan=\"magnify\"><defs><filter height=\"300%\" id=\"fhfpqvntp3idd\" width=\"300%\" x=\"-1\" y=\"-1\"><feGaussianBlur result=\"blurOut\" stdDeviation=\"2.0\"/><feColorMatrix in=\"blurOut\" result=\"blurOut2\" type=\"matrix\" values=\"0 0 0 0 0 0 0 0 0 0 0 0 0 0 0 0 0 0 .4 0\"/><feOffset dx=\"4.0\" dy=\"4.0\" in=\"blurOut2\" result=\"blurOut3\"/><feBlend in=\"SourceGraphic\" in2=\"blurOut3\" mode=\"normal\"/></filter></defs><g><!--MD5=[fbc87193dbaf4d95561dea2c320d4a47]\n",
       "cluster E1--><a href=\"psysml:474d0406-5e3d-47be-b798-32d1cf114728\" target=\"_top\" title=\"psysml:474d0406-5e3d-47be-b798-32d1cf114728\" xlink:actuate=\"onRequest\" xlink:href=\"psysml:474d0406-5e3d-47be-b798-32d1cf114728\" xlink:show=\"new\" xlink:title=\"psysml:474d0406-5e3d-47be-b798-32d1cf114728\" xlink:type=\"simple\"><polygon fill=\"#FFFFFF\" filter=\"url(#fhfpqvntp3idd)\" points=\"16,6,107,6,114,28.2969,182,28.2969,182,183,16,183,16,6\" style=\"stroke: #000000; stroke-width: 1.5;\"/><line style=\"stroke: #000000; stroke-width: 1.5;\" x1=\"16\" x2=\"114\" y1=\"28.2969\" y2=\"28.2969\"/><text fill=\"#000000\" font-family=\"sans-serif\" font-size=\"14\" font-weight=\"bold\" lengthAdjust=\"spacingAndGlyphs\" textLength=\"85\" x=\"20\" y=\"20.9951\">ActionTest</text></a><!--MD5=[e4f7fae6ed58524ba242bb0b0d3be6b7]\n",
       "cluster E2--><a href=\"psysml:541513c5-2792-4586-9963-ba9e65ac733f\" target=\"_top\" title=\"psysml:541513c5-2792-4586-9963-ba9e65ac733f\" xlink:actuate=\"onRequest\" xlink:href=\"psysml:541513c5-2792-4586-9963-ba9e65ac733f\" xlink:show=\"new\" xlink:title=\"psysml:541513c5-2792-4586-9963-ba9e65ac733f\" xlink:type=\"simple\"><rect fill=\"#FFFFFF\" filter=\"url(#fhfpqvntp3idd)\" height=\"110\" id=\"E2\" rx=\"10\" ry=\"10\" style=\"stroke: #A80036; stroke-width: 1.5;\" width=\"118\" x=\"40\" y=\"49\"/><rect fill=\"#FEFECE\" height=\"37.9375\" rx=\"10\" ry=\"10\" style=\"stroke: #FEFECE; stroke-width: 1.5;\" width=\"118\" x=\"40\" y=\"49\"/><rect fill=\"#FEFECE\" height=\"10\" style=\"stroke: #FEFECE; stroke-width: 1.5;\" width=\"118\" x=\"40\" y=\"76.9375\"/><rect fill=\"none\" height=\"110\" id=\"E2\" rx=\"10\" ry=\"10\" style=\"stroke: #A80036; stroke-width: 1.5;\" width=\"118\" x=\"40\" y=\"49\"/><text fill=\"#000000\" font-family=\"sans-serif\" font-size=\"12\" font-style=\"italic\" lengthAdjust=\"spacingAndGlyphs\" textLength=\"53\" x=\"72.5\" y=\"65.1387\">«action»</text><text fill=\"#000000\" font-family=\"sans-serif\" font-size=\"12\" lengthAdjust=\"spacingAndGlyphs\" textLength=\"8\" x=\"95\" y=\"79.1074\">a</text><line style=\"stroke: #A80036; stroke-width: 1.0;\" x1=\"40\" x2=\"158\" y1=\"86.9375\" y2=\"86.9375\"/></a><g id=\"E1.E2.E3\"><a href=\"psysml:09db3787-c9b3-4480-a102-0b64206fad8b\" target=\"_top\" title=\"psysml:09db3787-c9b3-4480-a102-0b64206fad8b\" xlink:actuate=\"onRequest\" xlink:href=\"psysml:09db3787-c9b3-4480-a102-0b64206fad8b\" xlink:show=\"new\" xlink:title=\"psysml:09db3787-c9b3-4480-a102-0b64206fad8b\" xlink:type=\"simple\"><rect fill=\"#FEFECE\" filter=\"url(#fhfpqvntp3idd)\" height=\"42.9375\" id=\"E3\" rx=\"10\" ry=\"10\" style=\"stroke: #A80036; stroke-width: 1.5;\" width=\"86\" x=\"56\" y=\"100\"/><ellipse cx=\"73.25\" cy=\"118.9688\" fill=\"#FFA500\" rx=\"11\" ry=\"11\" style=\"stroke: #A80036; stroke-width: 1.0;\"/><path d=\"M69.125,120.8906 L69.125,113.0781 L71.5781,113.0781 L71.5781,121.5156 Q71.5781,122.4375 72.0469,122.9688 Q72.5313,123.5 73.3594,123.5 Q74.2031,123.5 74.6719,122.9688 Q75.1406,122.4375 75.1406,121.5156 L75.1406,113.0781 L77.5938,113.0781 L77.5938,120.8906 Q77.5938,123.4219 76.5938,124.5625 Q75.5938,125.7031 73.3594,125.7031 Q71.1406,125.7031 70.125,124.5625 Q69.125,123.4219 69.125,120.8906 Z \"/><text fill=\"#000000\" font-family=\"sans-serif\" font-size=\"12\" font-style=\"italic\" lengthAdjust=\"spacingAndGlyphs\" textLength=\"53\" x=\"85.75\" y=\"116.1387\">«action»</text><text fill=\"#000000\" font-family=\"sans-serif\" font-size=\"12\" lengthAdjust=\"spacingAndGlyphs\" textLength=\"30\" x=\"97.25\" y=\"130.1074\">start</text></a></g><!--MD5=[9906cc829462307a5fb21b1f2a4e9542]\n",
       "@startuml\r\n",
       " \r\n",
       "package \"ActionTest\" as E1  [[psysml:474d0406-5e3d-47be-b798-32d1cf114728 ]]  {\r\n",
       "rec usage \"a\" as E2  <<(U,orange)action>> [[psysml:541513c5-2792-4586-9963-ba9e65ac733f ]] {\r\n",
       "rec usage \"start\" as E3  <<(U,orange)action>> [[psysml:09db3787-c9b3-4480-a102-0b64206fad8b ]] {\r\n",
       "}\r\n",
       "\r\n",
       "}\r\n",
       "\r\n",
       "}\r\n",
       "@enduml\r\n",
       "\n",
       "PlantUML version 1.2020.13(Sat Jun 13 12:26:38 UTC 2020)\n",
       "(EPL source distribution)\n",
       "Java Runtime: OpenJDK Runtime Environment\n",
       "JVM: OpenJDK 64-Bit Server VM\n",
       "Default Encoding: UTF-8\n",
       "Language: en\n",
       "Country: null\n",
       "--></g></svg>"
      ]
     },
     "execution_count": 30,
     "metadata": {},
     "output_type": "execute_result"
    }
   ],
   "source": [
    "%viz --style=\"PLANTUML\" --view=\"Default\" \"ActionTest\""
   ]
  },
  {
   "cell_type": "code",
   "execution_count": 31,
   "id": "humanitarian-temperature",
   "metadata": {
    "execution": {
     "iopub.execute_input": "2021-03-25T09:27:36.313883Z",
     "iopub.status.busy": "2021-03-25T09:27:36.313183Z",
     "iopub.status.idle": "2021-03-25T09:27:36.788999Z",
     "shell.execute_reply": "2021-03-25T09:27:36.789491Z"
    }
   },
   "outputs": [
    {
     "data": {
      "image/svg+xml": [
       "<?xml version=\"1.0\" encoding=\"UTF-8\" standalone=\"no\"?><svg xmlns=\"http://www.w3.org/2000/svg\" xmlns:xlink=\"http://www.w3.org/1999/xlink\" contentScriptType=\"application/ecmascript\" contentStyleType=\"text/css\" height=\"157px\" preserveAspectRatio=\"none\" style=\"width:230px;height:157px;\" version=\"1.1\" viewBox=\"0 0 230 157\" width=\"230px\" zoomAndPan=\"magnify\"><defs><filter height=\"300%\" id=\"f1gn772ih28rlt\" width=\"300%\" x=\"-1\" y=\"-1\"><feGaussianBlur result=\"blurOut\" stdDeviation=\"2.0\"/><feColorMatrix in=\"blurOut\" result=\"blurOut2\" type=\"matrix\" values=\"0 0 0 0 0 0 0 0 0 0 0 0 0 0 0 0 0 0 .4 0\"/><feOffset dx=\"4.0\" dy=\"4.0\" in=\"blurOut2\" result=\"blurOut3\"/><feBlend in=\"SourceGraphic\" in2=\"blurOut3\" mode=\"normal\"/></filter></defs><g><!--MD5=[fbc87193dbaf4d95561dea2c320d4a47]\n",
       "cluster E1--><a href=\"psysml:474d0406-5e3d-47be-b798-32d1cf114728\" target=\"_top\" title=\"psysml:474d0406-5e3d-47be-b798-32d1cf114728\" xlink:actuate=\"onRequest\" xlink:href=\"psysml:474d0406-5e3d-47be-b798-32d1cf114728\" xlink:show=\"new\" xlink:title=\"psysml:474d0406-5e3d-47be-b798-32d1cf114728\" xlink:type=\"simple\"><polygon fill=\"#FFFFFF\" filter=\"url(#f1gn772ih28rlt)\" points=\"16,6,107,6,114,28.2969,208,28.2969,208,145,16,145,16,6\" style=\"stroke: #000000; stroke-width: 1.5;\"/><line style=\"stroke: #000000; stroke-width: 1.5;\" x1=\"16\" x2=\"114\" y1=\"28.2969\" y2=\"28.2969\"/><text fill=\"#000000\" font-family=\"sans-serif\" font-size=\"14\" font-weight=\"bold\" lengthAdjust=\"spacingAndGlyphs\" textLength=\"85\" x=\"20\" y=\"20.9951\">ActionTest</text></a><!--MD5=[b4997ac47864f28c2f74865a473b2911]\n",
       "class E2--><a href=\"psysml:541513c5-2792-4586-9963-ba9e65ac733f\" target=\"_top\" title=\"psysml:541513c5-2792-4586-9963-ba9e65ac733f\" xlink:actuate=\"onRequest\" xlink:href=\"psysml:541513c5-2792-4586-9963-ba9e65ac733f\" xlink:show=\"new\" xlink:title=\"psysml:541513c5-2792-4586-9963-ba9e65ac733f\" xlink:type=\"simple\"><rect fill=\"#FEFECE\" filter=\"url(#f1gn772ih28rlt)\" height=\"88.3516\" id=\"E2\" rx=\"10\" ry=\"10\" style=\"stroke: #A80036; stroke-width: 1.5;\" width=\"160\" x=\"32\" y=\"41\"/><ellipse cx=\"83.25\" cy=\"59.9688\" fill=\"#FFA500\" rx=\"11\" ry=\"11\" style=\"stroke: #A80036; stroke-width: 1.0;\"/><path d=\"M79.125,61.8906 L79.125,54.0781 L81.5781,54.0781 L81.5781,62.5156 Q81.5781,63.4375 82.0469,63.9688 Q82.5313,64.5 83.3594,64.5 Q84.2031,64.5 84.6719,63.9688 Q85.1406,63.4375 85.1406,62.5156 L85.1406,54.0781 L87.5938,54.0781 L87.5938,61.8906 Q87.5938,64.4219 86.5938,65.5625 Q85.5938,66.7031 83.3594,66.7031 Q81.1406,66.7031 80.125,65.5625 Q79.125,64.4219 79.125,61.8906 Z \"/><text fill=\"#000000\" font-family=\"sans-serif\" font-size=\"12\" font-style=\"italic\" lengthAdjust=\"spacingAndGlyphs\" textLength=\"53\" x=\"101.75\" y=\"57.1387\">«action»</text><text fill=\"#000000\" font-family=\"sans-serif\" font-size=\"12\" lengthAdjust=\"spacingAndGlyphs\" textLength=\"8\" x=\"124.25\" y=\"71.1074\">a</text><line style=\"stroke: #A80036; stroke-width: 1.5;\" x1=\"33\" x2=\"191\" y1=\"78.9375\" y2=\"78.9375\"/><text fill=\"#000000\" font-family=\"sans-serif\" font-size=\"11\" lengthAdjust=\"spacingAndGlyphs\" textLength=\"69\" x=\"38\" y=\"109.9526\">start: Action</text><text fill=\"#000000\" font-family=\"sans-serif\" font-size=\"11\" font-style=\"italic\" lengthAdjust=\"spacingAndGlyphs\" textLength=\"148\" x=\"38\" y=\"122.7573\">:&gt;&gt;Occurrence::startShot</text><line style=\"stroke: #A80036; stroke-width: 1.0;\" x1=\"33\" x2=\"91.5\" y1=\"93.3398\" y2=\"93.3398\"/><text fill=\"#000000\" font-family=\"sans-serif\" font-size=\"11\" lengthAdjust=\"spacingAndGlyphs\" textLength=\"41\" x=\"91.5\" y=\"96.6479\">actions</text><line style=\"stroke: #A80036; stroke-width: 1.0;\" x1=\"132.5\" x2=\"191\" y1=\"93.3398\" y2=\"93.3398\"/></a><!--MD5=[5c0d021f481bec6a2946dd2d411f4a8f]\n",
       "@startuml\r\n",
       " \r\n",
       "package \"ActionTest\" as E1  [[psysml:474d0406-5e3d-47be-b798-32d1cf114728 ]]  {\r\n",
       "comp usage \"a\" as E2  <<(U,orange)action>> [[psysml:541513c5-2792-4586-9963-ba9e65ac733f ]] {\r\n",
       "- - actions - -\r\n",
       "start: Action\\n//:>>Occurrence::startShot// \r\n",
       "}\r\n",
       "}\r\n",
       "@enduml\r\n",
       "\n",
       "PlantUML version 1.2020.13(Sat Jun 13 12:26:38 UTC 2020)\n",
       "(EPL source distribution)\n",
       "Java Runtime: OpenJDK Runtime Environment\n",
       "JVM: OpenJDK 64-Bit Server VM\n",
       "Default Encoding: UTF-8\n",
       "Language: en\n",
       "Country: null\n",
       "--></g></svg>"
      ]
     },
     "execution_count": 31,
     "metadata": {},
     "output_type": "execute_result"
    }
   ],
   "source": [
    "%viz --style=\"PLANTUML\" --view=\"Tree\" \"ActionTest\""
   ]
  },
  {
   "cell_type": "code",
   "execution_count": 32,
   "id": "stock-essay",
   "metadata": {
    "execution": {
     "iopub.execute_input": "2021-03-25T09:27:36.841219Z",
     "iopub.status.busy": "2021-03-25T09:27:36.840681Z",
     "iopub.status.idle": "2021-03-25T09:27:37.706559Z",
     "shell.execute_reply": "2021-03-25T09:27:37.706199Z"
    }
   },
   "outputs": [
    {
     "data": {
      "image/svg+xml": [
       "<?xml version=\"1.0\" encoding=\"UTF-8\" standalone=\"no\"?><svg xmlns=\"http://www.w3.org/2000/svg\" xmlns:xlink=\"http://www.w3.org/1999/xlink\" contentScriptType=\"application/ecmascript\" contentStyleType=\"text/css\" height=\"303px\" preserveAspectRatio=\"none\" style=\"width:603px;height:303px;background:#000000;\" version=\"1.1\" viewBox=\"0 0 603 303\" width=\"603px\" zoomAndPan=\"magnify\"><defs/><g><rect fill=\"#082705\" height=\"1\" style=\"stroke: #082705; stroke-width: 1.0;\" width=\"1\" x=\"0\" y=\"0\"/><rect fill=\"#FFFFFF\" height=\"205.5625\" style=\"stroke: #FFFFFF; stroke-width: 1.0;\" width=\"602\" x=\"0\" y=\"0\"/><text fill=\"#000000\" font-family=\"sans-serif\" font-size=\"12\" font-weight=\"bold\" lengthAdjust=\"spacingAndGlyphs\" textLength=\"159\" x=\"5\" y=\"16.1387\">Welcome to PlantUML!</text><text fill=\"#000000\" font-family=\"sans-serif\" font-size=\"12\" lengthAdjust=\"spacingAndGlyphs\" textLength=\"0\" x=\"9\" y=\"30.1074\"/><text fill=\"#000000\" font-family=\"sans-serif\" font-size=\"12\" lengthAdjust=\"spacingAndGlyphs\" textLength=\"293\" x=\"5\" y=\"44.0762\">If you use this software, you accept its license.</text><text fill=\"#000000\" font-family=\"sans-serif\" font-size=\"12\" lengthAdjust=\"spacingAndGlyphs\" textLength=\"107\" x=\"5\" y=\"58.0449\">(details by typing</text><text fill=\"#000000\" font-family=\"monospace\" font-size=\"12\" lengthAdjust=\"spacingAndGlyphs\" textLength=\"49\" x=\"116\" y=\"58.0449\">license</text><text fill=\"#000000\" font-family=\"sans-serif\" font-size=\"12\" lengthAdjust=\"spacingAndGlyphs\" textLength=\"56\" x=\"169\" y=\"58.0449\">keyword)</text><text fill=\"#000000\" font-family=\"sans-serif\" font-size=\"12\" lengthAdjust=\"spacingAndGlyphs\" textLength=\"0\" x=\"9\" y=\"72.0137\"/><text fill=\"#000000\" font-family=\"sans-serif\" font-size=\"12\" lengthAdjust=\"spacingAndGlyphs\" textLength=\"283\" x=\"5\" y=\"85.9824\">You can start with a simple UML Diagram like:</text><text fill=\"#000000\" font-family=\"sans-serif\" font-size=\"12\" lengthAdjust=\"spacingAndGlyphs\" textLength=\"0\" x=\"9\" y=\"99.9512\"/><text fill=\"#000000\" font-family=\"monospace\" font-size=\"12\" lengthAdjust=\"spacingAndGlyphs\" textLength=\"119\" x=\"5\" y=\"113.9199\">Bob-&gt;Alice: Hello</text><text fill=\"#000000\" font-family=\"sans-serif\" font-size=\"12\" lengthAdjust=\"spacingAndGlyphs\" textLength=\"0\" x=\"9\" y=\"127.8887\"/><text fill=\"#000000\" font-family=\"sans-serif\" font-size=\"12\" lengthAdjust=\"spacingAndGlyphs\" textLength=\"14\" x=\"5\" y=\"141.8574\">Or</text><text fill=\"#000000\" font-family=\"sans-serif\" font-size=\"12\" lengthAdjust=\"spacingAndGlyphs\" textLength=\"0\" x=\"9\" y=\"155.8262\"/><text fill=\"#000000\" font-family=\"monospace\" font-size=\"12\" lengthAdjust=\"spacingAndGlyphs\" textLength=\"91\" x=\"5\" y=\"169.7949\">class Example</text><text fill=\"#000000\" font-family=\"sans-serif\" font-size=\"12\" lengthAdjust=\"spacingAndGlyphs\" textLength=\"0\" x=\"9\" y=\"183.7637\"/><text fill=\"#000000\" font-family=\"sans-serif\" font-size=\"12\" lengthAdjust=\"spacingAndGlyphs\" textLength=\"349\" x=\"5\" y=\"197.7324\">You will find more information about PlantUML syntax on</text><text fill=\"#000000\" font-family=\"sans-serif\" font-size=\"12\" lengthAdjust=\"spacingAndGlyphs\" text-decoration=\"underline\" textLength=\"129\" x=\"358\" y=\"197.7324\">https://plantuml.com</text><image height=\"71\" width=\"80\" x=\"516\" xlink:href=\"data:image/png;base64,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\" y=\"6\"/><rect fill=\"#000000\" height=\"96.4844\" style=\"stroke: #000000; stroke-width: 1.0;\" width=\"602\" x=\"0\" y=\"205.5625\"/><rect fill=\"#33FF02\" height=\"21.2969\" style=\"stroke: #33FF02; stroke-width: 1.0;\" width=\"170\" x=\"5\" y=\"210.5625\"/><text fill=\"#000000\" font-family=\"sans-serif\" font-size=\"14\" font-weight=\"bold\" lengthAdjust=\"spacingAndGlyphs\" textLength=\"168\" x=\"6\" y=\"225.5625\">[From string (line 2) ]</text><text fill=\"#33FF02\" font-family=\"sans-serif\" font-size=\"14\" font-weight=\"bold\" lengthAdjust=\"spacingAndGlyphs\" textLength=\"0\" x=\"10\" y=\"245.8594\"/><text fill=\"#33FF02\" font-family=\"sans-serif\" font-size=\"14\" font-weight=\"bold\" lengthAdjust=\"spacingAndGlyphs\" textLength=\"79\" x=\"5\" y=\"262.1563\">@startuml</text><text fill=\"#33FF02\" font-family=\"sans-serif\" font-size=\"14\" font-weight=\"bold\" lengthAdjust=\"spacingAndGlyphs\" textLength=\"0\" x=\"10\" y=\"278.4531\"/><text fill=\"#FF0000\" font-family=\"sans-serif\" font-size=\"14\" font-weight=\"bold\" lengthAdjust=\"spacingAndGlyphs\" textLength=\"142\" x=\"10\" y=\"294.75\">Empty description</text><!--MD5=[f59edd8218d337f74d0c332fc6737304]\n",
       "@startuml\r\n",
       " \r\n",
       "@enduml\r\n",
       "\n",
       "PlantUML version 1.2020.13(Sat Jun 13 12:26:38 UTC 2020)\n",
       "(EPL source distribution)\n",
       "Java Runtime: OpenJDK Runtime Environment\n",
       "JVM: OpenJDK 64-Bit Server VM\n",
       "Default Encoding: UTF-8\n",
       "Language: en\n",
       "Country: null\n",
       "--></g></svg>"
      ]
     },
     "execution_count": 32,
     "metadata": {},
     "output_type": "execute_result"
    }
   ],
   "source": [
    "%viz --style=\"PLANTUML\" --view=\"State\" \"ActionTest\""
   ]
  },
  {
   "cell_type": "code",
   "execution_count": 33,
   "id": "rocky-housing",
   "metadata": {
    "execution": {
     "iopub.execute_input": "2021-03-25T09:27:37.758657Z",
     "iopub.status.busy": "2021-03-25T09:27:37.757997Z",
     "iopub.status.idle": "2021-03-25T09:27:37.829457Z",
     "shell.execute_reply": "2021-03-25T09:27:37.829001Z"
    }
   },
   "outputs": [
    {
     "data": {
      "image/svg+xml": [
       "<?xml version=\"1.0\" encoding=\"UTF-8\" standalone=\"no\"?><svg xmlns=\"http://www.w3.org/2000/svg\" xmlns:xlink=\"http://www.w3.org/1999/xlink\" contentScriptType=\"application/ecmascript\" contentStyleType=\"text/css\" height=\"209px\" preserveAspectRatio=\"none\" style=\"width:322px;height:209px;\" version=\"1.1\" viewBox=\"0 0 322 209\" width=\"322px\" zoomAndPan=\"magnify\"><defs><filter height=\"300%\" id=\"f10hebfhh77lbk\" width=\"300%\" x=\"-1\" y=\"-1\"><feGaussianBlur result=\"blurOut\" stdDeviation=\"2.0\"/><feColorMatrix in=\"blurOut\" result=\"blurOut2\" type=\"matrix\" values=\"0 0 0 0 0 0 0 0 0 0 0 0 0 0 0 0 0 0 .4 0\"/><feOffset dx=\"4.0\" dy=\"4.0\" in=\"blurOut2\" result=\"blurOut3\"/><feBlend in=\"SourceGraphic\" in2=\"blurOut3\" mode=\"normal\"/></filter></defs><g><!--MD5=[fbc87193dbaf4d95561dea2c320d4a47]\n",
       "cluster E1--><a href=\"psysml:474d0406-5e3d-47be-b798-32d1cf114728\" target=\"_top\" title=\"psysml:474d0406-5e3d-47be-b798-32d1cf114728\" xlink:actuate=\"onRequest\" xlink:href=\"psysml:474d0406-5e3d-47be-b798-32d1cf114728\" xlink:show=\"new\" xlink:title=\"psysml:474d0406-5e3d-47be-b798-32d1cf114728\" xlink:type=\"simple\"><polygon fill=\"#FFFFFF\" filter=\"url(#f10hebfhh77lbk)\" points=\"16,6,107,6,114,28.2969,300,28.2969,300,197,16,197,16,6\" style=\"stroke: #000000; stroke-width: 1.5;\"/><line style=\"stroke: #000000; stroke-width: 1.5;\" x1=\"16\" x2=\"114\" y1=\"28.2969\" y2=\"28.2969\"/><text fill=\"#000000\" font-family=\"sans-serif\" font-size=\"14\" font-weight=\"bold\" lengthAdjust=\"spacingAndGlyphs\" textLength=\"85\" x=\"20\" y=\"20.9951\">ActionTest</text></a><!--MD5=[e4f7fae6ed58524ba242bb0b0d3be6b7]\n",
       "cluster E2--><a href=\"psysml:541513c5-2792-4586-9963-ba9e65ac733f\" target=\"_top\" title=\"psysml:541513c5-2792-4586-9963-ba9e65ac733f\" xlink:actuate=\"onRequest\" xlink:href=\"psysml:541513c5-2792-4586-9963-ba9e65ac733f\" xlink:show=\"new\" xlink:title=\"psysml:541513c5-2792-4586-9963-ba9e65ac733f\" xlink:type=\"simple\"><rect fill=\"#FFFFFF\" filter=\"url(#f10hebfhh77lbk)\" height=\"124\" id=\"E2\" rx=\"10\" ry=\"10\" style=\"stroke: #A80036; stroke-width: 1.5;\" width=\"236\" x=\"40\" y=\"49\"/><rect fill=\"#FEFECE\" height=\"37.9375\" rx=\"10\" ry=\"10\" style=\"stroke: #FEFECE; stroke-width: 1.5;\" width=\"236\" x=\"40\" y=\"49\"/><rect fill=\"#FEFECE\" height=\"10\" style=\"stroke: #FEFECE; stroke-width: 1.5;\" width=\"236\" x=\"40\" y=\"76.9375\"/><rect fill=\"none\" height=\"124\" id=\"E2\" rx=\"10\" ry=\"10\" style=\"stroke: #A80036; stroke-width: 1.5;\" width=\"236\" x=\"40\" y=\"49\"/><text fill=\"#000000\" font-family=\"sans-serif\" font-size=\"12\" font-style=\"italic\" lengthAdjust=\"spacingAndGlyphs\" textLength=\"53\" x=\"131.5\" y=\"65.1387\">«action»</text><text fill=\"#000000\" font-family=\"sans-serif\" font-size=\"12\" lengthAdjust=\"spacingAndGlyphs\" textLength=\"8\" x=\"154\" y=\"79.1074\">a</text><line style=\"stroke: #A80036; stroke-width: 1.0;\" x1=\"40\" x2=\"276\" y1=\"86.9375\" y2=\"86.9375\"/></a><g id=\"E1.E2.E3\"><a href=\"psysml:09db3787-c9b3-4480-a102-0b64206fad8b\" target=\"_top\" title=\"psysml:09db3787-c9b3-4480-a102-0b64206fad8b\" xlink:actuate=\"onRequest\" xlink:href=\"psysml:09db3787-c9b3-4480-a102-0b64206fad8b\" xlink:show=\"new\" xlink:title=\"psysml:09db3787-c9b3-4480-a102-0b64206fad8b\" xlink:type=\"simple\"><rect fill=\"#FEFECE\" filter=\"url(#f10hebfhh77lbk)\" height=\"56.9063\" id=\"E3\" rx=\"10\" ry=\"10\" style=\"stroke: #A80036; stroke-width: 1.5;\" width=\"204\" x=\"56\" y=\"100\"/><ellipse cx=\"73.25\" cy=\"125.9531\" fill=\"#FFA500\" rx=\"11\" ry=\"11\" style=\"stroke: #A80036; stroke-width: 1.0;\"/><path d=\"M69.125,127.875 L69.125,120.0625 L71.5781,120.0625 L71.5781,128.5 Q71.5781,129.4219 72.0469,129.9531 Q72.5313,130.4844 73.3594,130.4844 Q74.2031,130.4844 74.6719,129.9531 Q75.1406,129.4219 75.1406,128.5 L75.1406,120.0625 L77.5938,120.0625 L77.5938,127.875 Q77.5938,130.4063 76.5938,131.5469 Q75.5938,132.6875 73.3594,132.6875 Q71.1406,132.6875 70.125,131.5469 Q69.125,130.4063 69.125,127.875 Z \"/><text fill=\"#000000\" font-family=\"sans-serif\" font-size=\"12\" font-style=\"italic\" lengthAdjust=\"spacingAndGlyphs\" textLength=\"53\" x=\"144.75\" y=\"116.1387\">«action»</text><text fill=\"#000000\" font-family=\"sans-serif\" font-size=\"12\" lengthAdjust=\"spacingAndGlyphs\" textLength=\"77\" x=\"132.75\" y=\"130.1074\">start: Action</text><text fill=\"#000000\" font-family=\"sans-serif\" font-size=\"12\" font-style=\"italic\" lengthAdjust=\"spacingAndGlyphs\" textLength=\"163\" x=\"87.75\" y=\"144.0762\">:&gt;&gt;Occurrence::startShot</text><text fill=\"#000000\" font-family=\"sans-serif\" font-size=\"12\" lengthAdjust=\"spacingAndGlyphs\" textLength=\"0\" x=\"254.75\" y=\"144.0762\"/></a></g><!--MD5=[8e2774860e4c8e7cb3752c0b523fe4d6]\n",
       "@startuml\r\n",
       "skinparam ranksep 8\r\n",
       "skinparam rectangle {\r\n",
       " backgroundColor<<block>> LightGreen\r\n",
       "}\r\n",
       " \r\n",
       "package \"ActionTest\" as E1  [[psysml:474d0406-5e3d-47be-b798-32d1cf114728 ]]  {\r\n",
       "rec usage \"a\" as E2  <<(U,orange)action>> [[psysml:541513c5-2792-4586-9963-ba9e65ac733f ]] {\r\n",
       "rec usage \"start: Action\\n//:>>Occurrence::startShot// \" as E3  <<(U,orange)action>> [[psysml:09db3787-c9b3-4480-a102-0b64206fad8b ]] {\r\n",
       "}\r\n",
       "}\r\n",
       "}\r\n",
       "@enduml\r\n",
       "\n",
       "PlantUML version 1.2020.13(Sat Jun 13 12:26:38 UTC 2020)\n",
       "(EPL source distribution)\n",
       "Java Runtime: OpenJDK Runtime Environment\n",
       "JVM: OpenJDK 64-Bit Server VM\n",
       "Default Encoding: UTF-8\n",
       "Language: en\n",
       "Country: null\n",
       "--></g></svg>"
      ]
     },
     "execution_count": 33,
     "metadata": {},
     "output_type": "execute_result"
    }
   ],
   "source": [
    "%viz --style=\"PLANTUML\" --view=\"Interconnection\" \"ActionTest\""
   ]
  },
  {
   "cell_type": "code",
   "execution_count": 34,
   "id": "western-campaign",
   "metadata": {
    "execution": {
     "iopub.execute_input": "2021-03-25T09:27:37.880548Z",
     "iopub.status.busy": "2021-03-25T09:27:37.880039Z",
     "iopub.status.idle": "2021-03-25T09:27:37.928498Z",
     "shell.execute_reply": "2021-03-25T09:27:37.928939Z"
    }
   },
   "outputs": [
    {
     "data": {
      "image/svg+xml": [
       "<?xml version=\"1.0\" encoding=\"UTF-8\" standalone=\"no\"?><svg xmlns=\"http://www.w3.org/2000/svg\" xmlns:xlink=\"http://www.w3.org/1999/xlink\" contentScriptType=\"application/ecmascript\" contentStyleType=\"text/css\" height=\"136px\" preserveAspectRatio=\"none\" style=\"width:144px;height:136px;\" version=\"1.1\" viewBox=\"0 0 144 136\" width=\"144px\" zoomAndPan=\"magnify\"><defs><filter height=\"300%\" id=\"f1wnv6vp52m4bg\" width=\"300%\" x=\"-1\" y=\"-1\"><feGaussianBlur result=\"blurOut\" stdDeviation=\"2.0\"/><feColorMatrix in=\"blurOut\" result=\"blurOut2\" type=\"matrix\" values=\"0 0 0 0 0 0 0 0 0 0 0 0 0 0 0 0 0 0 .4 0\"/><feOffset dx=\"4.0\" dy=\"4.0\" in=\"blurOut2\" result=\"blurOut3\"/><feBlend in=\"SourceGraphic\" in2=\"blurOut3\" mode=\"normal\"/></filter></defs><g><!--MD5=[fbc87193dbaf4d95561dea2c320d4a47]\n",
       "cluster E1--><a href=\"psysml:541513c5-2792-4586-9963-ba9e65ac733f\" target=\"_top\" title=\"psysml:541513c5-2792-4586-9963-ba9e65ac733f\" xlink:actuate=\"onRequest\" xlink:href=\"psysml:541513c5-2792-4586-9963-ba9e65ac733f\" xlink:show=\"new\" xlink:title=\"psysml:541513c5-2792-4586-9963-ba9e65ac733f\" xlink:type=\"simple\"><rect fill=\"#FFFFFF\" filter=\"url(#f1wnv6vp52m4bg)\" height=\"110\" id=\"E1\" rx=\"10\" ry=\"10\" style=\"stroke: #A80036; stroke-width: 1.5;\" width=\"118\" x=\"7\" y=\"7\"/><rect fill=\"#FEFECE\" height=\"37.9375\" rx=\"10\" ry=\"10\" style=\"stroke: #FEFECE; stroke-width: 1.5;\" width=\"118\" x=\"7\" y=\"7\"/><rect fill=\"#FEFECE\" height=\"10\" style=\"stroke: #FEFECE; stroke-width: 1.5;\" width=\"118\" x=\"7\" y=\"34.9375\"/><rect fill=\"none\" height=\"110\" id=\"E1\" rx=\"10\" ry=\"10\" style=\"stroke: #A80036; stroke-width: 1.5;\" width=\"118\" x=\"7\" y=\"7\"/><text fill=\"#000000\" font-family=\"sans-serif\" font-size=\"12\" font-style=\"italic\" lengthAdjust=\"spacingAndGlyphs\" textLength=\"53\" x=\"39.5\" y=\"23.1387\">«action»</text><text fill=\"#000000\" font-family=\"sans-serif\" font-size=\"12\" lengthAdjust=\"spacingAndGlyphs\" textLength=\"8\" x=\"62\" y=\"37.1074\">a</text><line style=\"stroke: #A80036; stroke-width: 1.0;\" x1=\"7\" x2=\"125\" y1=\"44.9375\" y2=\"44.9375\"/></a><g id=\"E1.E2\"><a href=\"psysml:09db3787-c9b3-4480-a102-0b64206fad8b\" target=\"_top\" title=\"psysml:09db3787-c9b3-4480-a102-0b64206fad8b\" xlink:actuate=\"onRequest\" xlink:href=\"psysml:09db3787-c9b3-4480-a102-0b64206fad8b\" xlink:show=\"new\" xlink:title=\"psysml:09db3787-c9b3-4480-a102-0b64206fad8b\" xlink:type=\"simple\"><rect fill=\"#FEFECE\" filter=\"url(#f1wnv6vp52m4bg)\" height=\"42.9375\" id=\"E2\" rx=\"10\" ry=\"10\" style=\"stroke: #A80036; stroke-width: 1.5;\" width=\"86\" x=\"23\" y=\"58\"/><ellipse cx=\"40.25\" cy=\"76.9688\" fill=\"#FFA500\" rx=\"11\" ry=\"11\" style=\"stroke: #A80036; stroke-width: 1.0;\"/><path d=\"M36.125,78.8906 L36.125,71.0781 L38.5781,71.0781 L38.5781,79.5156 Q38.5781,80.4375 39.0469,80.9688 Q39.5313,81.5 40.3594,81.5 Q41.2031,81.5 41.6719,80.9688 Q42.1406,80.4375 42.1406,79.5156 L42.1406,71.0781 L44.5938,71.0781 L44.5938,78.8906 Q44.5938,81.4219 43.5938,82.5625 Q42.5938,83.7031 40.3594,83.7031 Q38.1406,83.7031 37.125,82.5625 Q36.125,81.4219 36.125,78.8906 Z \"/><text fill=\"#000000\" font-family=\"sans-serif\" font-size=\"12\" font-style=\"italic\" lengthAdjust=\"spacingAndGlyphs\" textLength=\"53\" x=\"52.75\" y=\"74.1387\">«action»</text><text fill=\"#000000\" font-family=\"sans-serif\" font-size=\"12\" lengthAdjust=\"spacingAndGlyphs\" textLength=\"30\" x=\"64.25\" y=\"88.1074\">start</text></a></g><!--MD5=[a4b4078e81c2d7cab8eaee3ed02fd3f9]\n",
       "@startuml\r\n",
       "skinparam ranksep 8\r\n",
       " \r\n",
       "rec usage \"a\" as E1  <<(U,orange)action>> [[psysml:541513c5-2792-4586-9963-ba9e65ac733f ]] {\r\n",
       "rec usage \"start\" as E2  <<(U,orange)action>> [[psysml:09db3787-c9b3-4480-a102-0b64206fad8b ]] {\r\n",
       "}\r\n",
       "\r\n",
       "}\r\n",
       "\r\n",
       "@enduml\r\n",
       "\n",
       "PlantUML version 1.2020.13(Sat Jun 13 12:26:38 UTC 2020)\n",
       "(EPL source distribution)\n",
       "Java Runtime: OpenJDK Runtime Environment\n",
       "JVM: OpenJDK 64-Bit Server VM\n",
       "Default Encoding: UTF-8\n",
       "Language: en\n",
       "Country: null\n",
       "--></g></svg>"
      ]
     },
     "execution_count": 34,
     "metadata": {},
     "output_type": "execute_result"
    }
   ],
   "source": [
    "%viz --style=\"PLANTUML\" --view=\"Action\" \"ActionTest\""
   ]
  },
  {
   "cell_type": "code",
   "execution_count": 35,
   "id": "naval-glenn",
   "metadata": {
    "execution": {
     "iopub.execute_input": "2021-03-25T09:27:37.979361Z",
     "iopub.status.busy": "2021-03-25T09:27:37.978938Z",
     "iopub.status.idle": "2021-03-25T09:27:38.450654Z",
     "shell.execute_reply": "2021-03-25T09:27:38.450305Z"
    }
   },
   "outputs": [
    {
     "data": {
      "image/svg+xml": [
       "<?xml version=\"1.0\" encoding=\"UTF-8\" standalone=\"no\"?><svg xmlns=\"http://www.w3.org/2000/svg\" xmlns:xlink=\"http://www.w3.org/1999/xlink\" contentScriptType=\"application/ecmascript\" contentStyleType=\"text/css\" height=\"157px\" preserveAspectRatio=\"none\" style=\"width:230px;height:157px;\" version=\"1.1\" viewBox=\"0 0 230 157\" width=\"230px\" zoomAndPan=\"magnify\"><defs><filter height=\"300%\" id=\"f1gn772ih28rlt\" width=\"300%\" x=\"-1\" y=\"-1\"><feGaussianBlur result=\"blurOut\" stdDeviation=\"2.0\"/><feColorMatrix in=\"blurOut\" result=\"blurOut2\" type=\"matrix\" values=\"0 0 0 0 0 0 0 0 0 0 0 0 0 0 0 0 0 0 .4 0\"/><feOffset dx=\"4.0\" dy=\"4.0\" in=\"blurOut2\" result=\"blurOut3\"/><feBlend in=\"SourceGraphic\" in2=\"blurOut3\" mode=\"normal\"/></filter></defs><g><!--MD5=[fbc87193dbaf4d95561dea2c320d4a47]\n",
       "cluster E1--><a href=\"psysml:474d0406-5e3d-47be-b798-32d1cf114728\" target=\"_top\" title=\"psysml:474d0406-5e3d-47be-b798-32d1cf114728\" xlink:actuate=\"onRequest\" xlink:href=\"psysml:474d0406-5e3d-47be-b798-32d1cf114728\" xlink:show=\"new\" xlink:title=\"psysml:474d0406-5e3d-47be-b798-32d1cf114728\" xlink:type=\"simple\"><polygon fill=\"#FFFFFF\" filter=\"url(#f1gn772ih28rlt)\" points=\"16,6,107,6,114,28.2969,208,28.2969,208,145,16,145,16,6\" style=\"stroke: #000000; stroke-width: 1.5;\"/><line style=\"stroke: #000000; stroke-width: 1.5;\" x1=\"16\" x2=\"114\" y1=\"28.2969\" y2=\"28.2969\"/><text fill=\"#000000\" font-family=\"sans-serif\" font-size=\"14\" font-weight=\"bold\" lengthAdjust=\"spacingAndGlyphs\" textLength=\"85\" x=\"20\" y=\"20.9951\">ActionTest</text></a><!--MD5=[b4997ac47864f28c2f74865a473b2911]\n",
       "class E2--><a href=\"psysml:541513c5-2792-4586-9963-ba9e65ac733f\" target=\"_top\" title=\"psysml:541513c5-2792-4586-9963-ba9e65ac733f\" xlink:actuate=\"onRequest\" xlink:href=\"psysml:541513c5-2792-4586-9963-ba9e65ac733f\" xlink:show=\"new\" xlink:title=\"psysml:541513c5-2792-4586-9963-ba9e65ac733f\" xlink:type=\"simple\"><rect fill=\"#FEFECE\" filter=\"url(#f1gn772ih28rlt)\" height=\"88.3516\" id=\"E2\" rx=\"10\" ry=\"10\" style=\"stroke: #A80036; stroke-width: 1.5;\" width=\"160\" x=\"32\" y=\"41\"/><ellipse cx=\"83.25\" cy=\"59.9688\" fill=\"#FFA500\" rx=\"11\" ry=\"11\" style=\"stroke: #A80036; stroke-width: 1.0;\"/><path d=\"M79.125,61.8906 L79.125,54.0781 L81.5781,54.0781 L81.5781,62.5156 Q81.5781,63.4375 82.0469,63.9688 Q82.5313,64.5 83.3594,64.5 Q84.2031,64.5 84.6719,63.9688 Q85.1406,63.4375 85.1406,62.5156 L85.1406,54.0781 L87.5938,54.0781 L87.5938,61.8906 Q87.5938,64.4219 86.5938,65.5625 Q85.5938,66.7031 83.3594,66.7031 Q81.1406,66.7031 80.125,65.5625 Q79.125,64.4219 79.125,61.8906 Z \"/><text fill=\"#000000\" font-family=\"sans-serif\" font-size=\"12\" font-style=\"italic\" lengthAdjust=\"spacingAndGlyphs\" textLength=\"53\" x=\"101.75\" y=\"57.1387\">«action»</text><text fill=\"#000000\" font-family=\"sans-serif\" font-size=\"12\" lengthAdjust=\"spacingAndGlyphs\" textLength=\"8\" x=\"124.25\" y=\"71.1074\">a</text><line style=\"stroke: #A80036; stroke-width: 1.5;\" x1=\"33\" x2=\"191\" y1=\"78.9375\" y2=\"78.9375\"/><text fill=\"#000000\" font-family=\"sans-serif\" font-size=\"11\" lengthAdjust=\"spacingAndGlyphs\" textLength=\"69\" x=\"38\" y=\"109.9526\">start: Action</text><text fill=\"#000000\" font-family=\"sans-serif\" font-size=\"11\" font-style=\"italic\" lengthAdjust=\"spacingAndGlyphs\" textLength=\"148\" x=\"38\" y=\"122.7573\">:&gt;&gt;Occurrence::startShot</text><line style=\"stroke: #A80036; stroke-width: 1.0;\" x1=\"33\" x2=\"91.5\" y1=\"93.3398\" y2=\"93.3398\"/><text fill=\"#000000\" font-family=\"sans-serif\" font-size=\"11\" lengthAdjust=\"spacingAndGlyphs\" textLength=\"41\" x=\"91.5\" y=\"96.6479\">actions</text><line style=\"stroke: #A80036; stroke-width: 1.0;\" x1=\"132.5\" x2=\"191\" y1=\"93.3398\" y2=\"93.3398\"/></a><!--MD5=[5c0d021f481bec6a2946dd2d411f4a8f]\n",
       "@startuml\r\n",
       " \r\n",
       "package \"ActionTest\" as E1  [[psysml:474d0406-5e3d-47be-b798-32d1cf114728 ]]  {\r\n",
       "comp usage \"a\" as E2  <<(U,orange)action>> [[psysml:541513c5-2792-4586-9963-ba9e65ac733f ]] {\r\n",
       "- - actions - -\r\n",
       "start: Action\\n//:>>Occurrence::startShot// \r\n",
       "}\r\n",
       "}\r\n",
       "@enduml\r\n",
       "\n",
       "PlantUML version 1.2020.13(Sat Jun 13 12:26:38 UTC 2020)\n",
       "(EPL source distribution)\n",
       "Java Runtime: OpenJDK Runtime Environment\n",
       "JVM: OpenJDK 64-Bit Server VM\n",
       "Default Encoding: UTF-8\n",
       "Language: en\n",
       "Country: null\n",
       "--></g></svg>"
      ]
     },
     "execution_count": 35,
     "metadata": {},
     "output_type": "execute_result"
    }
   ],
   "source": [
    "%viz --style=\"PLANTUML\" --view=\"Sequence\" \"ActionTest\""
   ]
  },
  {
   "cell_type": "code",
   "execution_count": 36,
   "id": "actual-madness",
   "metadata": {
    "execution": {
     "iopub.execute_input": "2021-03-25T09:27:38.503055Z",
     "iopub.status.busy": "2021-03-25T09:27:38.502321Z",
     "iopub.status.idle": "2021-03-25T09:27:38.556648Z",
     "shell.execute_reply": "2021-03-25T09:27:38.556233Z"
    }
   },
   "outputs": [
    {
     "data": {
      "image/svg+xml": [
       "<?xml version=\"1.0\" encoding=\"UTF-8\" standalone=\"no\"?><svg xmlns=\"http://www.w3.org/2000/svg\" xmlns:xlink=\"http://www.w3.org/1999/xlink\" contentScriptType=\"application/ecmascript\" contentStyleType=\"text/css\" height=\"195px\" preserveAspectRatio=\"none\" style=\"width:204px;height:195px;\" version=\"1.1\" viewBox=\"0 0 204 195\" width=\"204px\" zoomAndPan=\"magnify\"><defs><filter height=\"300%\" id=\"fhfpqvntp3idd\" width=\"300%\" x=\"-1\" y=\"-1\"><feGaussianBlur result=\"blurOut\" stdDeviation=\"2.0\"/><feColorMatrix in=\"blurOut\" result=\"blurOut2\" type=\"matrix\" values=\"0 0 0 0 0 0 0 0 0 0 0 0 0 0 0 0 0 0 .4 0\"/><feOffset dx=\"4.0\" dy=\"4.0\" in=\"blurOut2\" result=\"blurOut3\"/><feBlend in=\"SourceGraphic\" in2=\"blurOut3\" mode=\"normal\"/></filter></defs><g><!--MD5=[fbc87193dbaf4d95561dea2c320d4a47]\n",
       "cluster E1--><a href=\"psysml:474d0406-5e3d-47be-b798-32d1cf114728\" target=\"_top\" title=\"psysml:474d0406-5e3d-47be-b798-32d1cf114728\" xlink:actuate=\"onRequest\" xlink:href=\"psysml:474d0406-5e3d-47be-b798-32d1cf114728\" xlink:show=\"new\" xlink:title=\"psysml:474d0406-5e3d-47be-b798-32d1cf114728\" xlink:type=\"simple\"><polygon fill=\"#FFFFFF\" filter=\"url(#fhfpqvntp3idd)\" points=\"16,6,107,6,114,28.2969,182,28.2969,182,183,16,183,16,6\" style=\"stroke: #000000; stroke-width: 1.5;\"/><line style=\"stroke: #000000; stroke-width: 1.5;\" x1=\"16\" x2=\"114\" y1=\"28.2969\" y2=\"28.2969\"/><text fill=\"#000000\" font-family=\"sans-serif\" font-size=\"14\" font-weight=\"bold\" lengthAdjust=\"spacingAndGlyphs\" textLength=\"85\" x=\"20\" y=\"20.9951\">ActionTest</text></a><!--MD5=[e4f7fae6ed58524ba242bb0b0d3be6b7]\n",
       "cluster E2--><a href=\"psysml:541513c5-2792-4586-9963-ba9e65ac733f\" target=\"_top\" title=\"psysml:541513c5-2792-4586-9963-ba9e65ac733f\" xlink:actuate=\"onRequest\" xlink:href=\"psysml:541513c5-2792-4586-9963-ba9e65ac733f\" xlink:show=\"new\" xlink:title=\"psysml:541513c5-2792-4586-9963-ba9e65ac733f\" xlink:type=\"simple\"><rect fill=\"#FFFFFF\" filter=\"url(#fhfpqvntp3idd)\" height=\"110\" id=\"E2\" rx=\"10\" ry=\"10\" style=\"stroke: #A80036; stroke-width: 1.5;\" width=\"118\" x=\"40\" y=\"49\"/><rect fill=\"#FEFECE\" height=\"37.9375\" rx=\"10\" ry=\"10\" style=\"stroke: #FEFECE; stroke-width: 1.5;\" width=\"118\" x=\"40\" y=\"49\"/><rect fill=\"#FEFECE\" height=\"10\" style=\"stroke: #FEFECE; stroke-width: 1.5;\" width=\"118\" x=\"40\" y=\"76.9375\"/><rect fill=\"none\" height=\"110\" id=\"E2\" rx=\"10\" ry=\"10\" style=\"stroke: #A80036; stroke-width: 1.5;\" width=\"118\" x=\"40\" y=\"49\"/><text fill=\"#000000\" font-family=\"sans-serif\" font-size=\"12\" font-style=\"italic\" lengthAdjust=\"spacingAndGlyphs\" textLength=\"53\" x=\"72.5\" y=\"65.1387\">«action»</text><text fill=\"#000000\" font-family=\"sans-serif\" font-size=\"12\" lengthAdjust=\"spacingAndGlyphs\" textLength=\"8\" x=\"95\" y=\"79.1074\">a</text><line style=\"stroke: #A80036; stroke-width: 1.0;\" x1=\"40\" x2=\"158\" y1=\"86.9375\" y2=\"86.9375\"/></a><g id=\"E1.E2.E3\"><a href=\"psysml:09db3787-c9b3-4480-a102-0b64206fad8b\" target=\"_top\" title=\"psysml:09db3787-c9b3-4480-a102-0b64206fad8b\" xlink:actuate=\"onRequest\" xlink:href=\"psysml:09db3787-c9b3-4480-a102-0b64206fad8b\" xlink:show=\"new\" xlink:title=\"psysml:09db3787-c9b3-4480-a102-0b64206fad8b\" xlink:type=\"simple\"><rect fill=\"#FEFECE\" filter=\"url(#fhfpqvntp3idd)\" height=\"42.9375\" id=\"E3\" rx=\"10\" ry=\"10\" style=\"stroke: #A80036; stroke-width: 1.5;\" width=\"86\" x=\"56\" y=\"100\"/><ellipse cx=\"73.25\" cy=\"118.9688\" fill=\"#FFA500\" rx=\"11\" ry=\"11\" style=\"stroke: #A80036; stroke-width: 1.0;\"/><path d=\"M69.125,120.8906 L69.125,113.0781 L71.5781,113.0781 L71.5781,121.5156 Q71.5781,122.4375 72.0469,122.9688 Q72.5313,123.5 73.3594,123.5 Q74.2031,123.5 74.6719,122.9688 Q75.1406,122.4375 75.1406,121.5156 L75.1406,113.0781 L77.5938,113.0781 L77.5938,120.8906 Q77.5938,123.4219 76.5938,124.5625 Q75.5938,125.7031 73.3594,125.7031 Q71.1406,125.7031 70.125,124.5625 Q69.125,123.4219 69.125,120.8906 Z \"/><text fill=\"#000000\" font-family=\"sans-serif\" font-size=\"12\" font-style=\"italic\" lengthAdjust=\"spacingAndGlyphs\" textLength=\"53\" x=\"85.75\" y=\"116.1387\">«action»</text><text fill=\"#000000\" font-family=\"sans-serif\" font-size=\"12\" lengthAdjust=\"spacingAndGlyphs\" textLength=\"30\" x=\"97.25\" y=\"130.1074\">start</text></a></g><!--MD5=[9906cc829462307a5fb21b1f2a4e9542]\n",
       "@startuml\r\n",
       " \r\n",
       "package \"ActionTest\" as E1  [[psysml:474d0406-5e3d-47be-b798-32d1cf114728 ]]  {\r\n",
       "rec usage \"a\" as E2  <<(U,orange)action>> [[psysml:541513c5-2792-4586-9963-ba9e65ac733f ]] {\r\n",
       "rec usage \"start\" as E3  <<(U,orange)action>> [[psysml:09db3787-c9b3-4480-a102-0b64206fad8b ]] {\r\n",
       "}\r\n",
       "\r\n",
       "}\r\n",
       "\r\n",
       "}\r\n",
       "@enduml\r\n",
       "\n",
       "PlantUML version 1.2020.13(Sat Jun 13 12:26:38 UTC 2020)\n",
       "(EPL source distribution)\n",
       "Java Runtime: OpenJDK Runtime Environment\n",
       "JVM: OpenJDK 64-Bit Server VM\n",
       "Default Encoding: UTF-8\n",
       "Language: en\n",
       "Country: null\n",
       "--></g></svg>"
      ]
     },
     "execution_count": 36,
     "metadata": {},
     "output_type": "execute_result"
    }
   ],
   "source": [
    "%viz --style=\"PLANTUML\" --view=\"MIXED\" \"ActionTest\""
   ]
  },
  {
   "cell_type": "code",
   "execution_count": 37,
   "id": "inappropriate-professional",
   "metadata": {
    "execution": {
     "iopub.execute_input": "2021-03-25T09:27:38.610075Z",
     "iopub.status.busy": "2021-03-25T09:27:38.609283Z",
     "iopub.status.idle": "2021-03-25T09:27:38.673013Z",
     "shell.execute_reply": "2021-03-25T09:27:38.672616Z"
    }
   },
   "outputs": [
    {
     "data": {
      "image/svg+xml": [
       "<?xml version=\"1.0\" encoding=\"UTF-8\" standalone=\"no\"?><svg xmlns=\"http://www.w3.org/2000/svg\" xmlns:xlink=\"http://www.w3.org/1999/xlink\" contentScriptType=\"application/ecmascript\" contentStyleType=\"text/css\" height=\"195px\" preserveAspectRatio=\"none\" style=\"width:178px;height:195px;\" version=\"1.1\" viewBox=\"0 0 178 195\" width=\"178px\" zoomAndPan=\"magnify\"><defs/><g><!--MD5=[fbc87193dbaf4d95561dea2c320d4a47]\n",
       "cluster E1--><a href=\"psysml:474d0406-5e3d-47be-b798-32d1cf114728\" target=\"_top\" title=\"psysml:474d0406-5e3d-47be-b798-32d1cf114728\" xlink:actuate=\"onRequest\" xlink:href=\"psysml:474d0406-5e3d-47be-b798-32d1cf114728\" xlink:show=\"new\" xlink:title=\"psysml:474d0406-5e3d-47be-b798-32d1cf114728\" xlink:type=\"simple\"><polygon fill=\"#FFFFFF\" points=\"16,6,107,6,114,28.2969,156,28.2969,156,183,16,183,16,6\" style=\"stroke: #000000; stroke-width: 1.5;\"/><line style=\"stroke: #000000; stroke-width: 1.5;\" x1=\"16\" x2=\"114\" y1=\"28.2969\" y2=\"28.2969\"/><text fill=\"#000000\" font-family=\"sans-serif\" font-size=\"14\" font-weight=\"bold\" lengthAdjust=\"spacingAndGlyphs\" textLength=\"85\" x=\"20\" y=\"20.9951\">ActionTest</text></a><!--MD5=[e4f7fae6ed58524ba242bb0b0d3be6b7]\n",
       "cluster E2--><a href=\"psysml:541513c5-2792-4586-9963-ba9e65ac733f\" target=\"_top\" title=\"psysml:541513c5-2792-4586-9963-ba9e65ac733f\" xlink:actuate=\"onRequest\" xlink:href=\"psysml:541513c5-2792-4586-9963-ba9e65ac733f\" xlink:show=\"new\" xlink:title=\"psysml:541513c5-2792-4586-9963-ba9e65ac733f\" xlink:type=\"simple\"><rect fill=\"#FFFFFF\" height=\"110\" id=\"E2\" rx=\"10\" ry=\"10\" style=\"stroke: #383838; stroke-width: 1.5;\" width=\"92\" x=\"40\" y=\"49\"/><rect fill=\"#F8F8F8\" height=\"37.9375\" rx=\"10\" ry=\"10\" style=\"stroke: #F8F8F8; stroke-width: 1.5;\" width=\"92\" x=\"40\" y=\"49\"/><rect fill=\"#F8F8F8\" height=\"10\" style=\"stroke: #F8F8F8; stroke-width: 1.5;\" width=\"92\" x=\"40\" y=\"76.9375\"/><rect fill=\"none\" height=\"110\" id=\"E2\" rx=\"10\" ry=\"10\" style=\"stroke: #383838; stroke-width: 1.5;\" width=\"92\" x=\"40\" y=\"49\"/><text fill=\"#000000\" font-family=\"sans-serif\" font-size=\"12\" font-style=\"italic\" lengthAdjust=\"spacingAndGlyphs\" textLength=\"53\" x=\"59.5\" y=\"65.1387\">«action»</text><text fill=\"#000000\" font-family=\"sans-serif\" font-size=\"12\" lengthAdjust=\"spacingAndGlyphs\" textLength=\"8\" x=\"82\" y=\"79.1074\">a</text><line style=\"stroke: #383838; stroke-width: 1.0;\" x1=\"40\" x2=\"132\" y1=\"86.9375\" y2=\"86.9375\"/></a><g id=\"E1.E2.E3\"><a href=\"psysml:09db3787-c9b3-4480-a102-0b64206fad8b\" target=\"_top\" title=\"psysml:09db3787-c9b3-4480-a102-0b64206fad8b\" xlink:actuate=\"onRequest\" xlink:href=\"psysml:09db3787-c9b3-4480-a102-0b64206fad8b\" xlink:show=\"new\" xlink:title=\"psysml:09db3787-c9b3-4480-a102-0b64206fad8b\" xlink:type=\"simple\"><rect fill=\"#FFFFFF\" height=\"42.9375\" id=\"E3\" rx=\"10\" ry=\"10\" style=\"stroke: #383838; stroke-width: 1.5;\" width=\"60\" x=\"56\" y=\"100\"/><rect fill=\"#F8F8F8\" height=\"37.9375\" rx=\"10\" ry=\"10\" style=\"stroke: #F8F8F8; stroke-width: 1.5;\" width=\"60\" x=\"56\" y=\"100\"/><rect fill=\"#F8F8F8\" height=\"10\" style=\"stroke: #F8F8F8; stroke-width: 1.5;\" width=\"60\" x=\"56\" y=\"127.9375\"/><rect fill=\"none\" height=\"42.9375\" id=\"E3\" rx=\"10\" ry=\"10\" style=\"stroke: #383838; stroke-width: 1.5;\" width=\"60\" x=\"56\" y=\"100\"/><text fill=\"#000000\" font-family=\"sans-serif\" font-size=\"12\" font-style=\"italic\" lengthAdjust=\"spacingAndGlyphs\" textLength=\"53\" x=\"59.5\" y=\"116.1387\">«action»</text><text fill=\"#000000\" font-family=\"sans-serif\" font-size=\"12\" lengthAdjust=\"spacingAndGlyphs\" textLength=\"30\" x=\"71\" y=\"130.1074\">start</text></a></g><!--MD5=[8203fa05802da2a040911590a66da8bc]\n",
       "@startuml\r\n",
       "skinparam monochrome true\r\n",
       "skinparam classbackgroundcolor white\r\n",
       "skinparam shadowing false\r\n",
       "skinparam wrapWidth 300\r\n",
       "hide circle\r\n",
       "\r\n",
       "package \"ActionTest\" as E1  [[psysml:474d0406-5e3d-47be-b798-32d1cf114728 ]]  {\r\n",
       "rec usage \"a\" as E2  <<(T,blue)action>> [[psysml:541513c5-2792-4586-9963-ba9e65ac733f ]] {\r\n",
       "rec usage \"start\" as E3  <<(T,blue)action>> [[psysml:09db3787-c9b3-4480-a102-0b64206fad8b ]] {\r\n",
       "}\r\n",
       "\r\n",
       "}\r\n",
       "\r\n",
       "}\r\n",
       "@enduml\r\n",
       "\n",
       "PlantUML version 1.2020.13(Sat Jun 13 12:26:38 UTC 2020)\n",
       "(EPL source distribution)\n",
       "Java Runtime: OpenJDK Runtime Environment\n",
       "JVM: OpenJDK 64-Bit Server VM\n",
       "Default Encoding: UTF-8\n",
       "Language: en\n",
       "Country: null\n",
       "--></g></svg>"
      ]
     },
     "execution_count": 37,
     "metadata": {},
     "output_type": "execute_result"
    }
   ],
   "source": [
    "%viz --style=\"DEFAULT\" --view=\"Default\" \"ActionTest\""
   ]
  },
  {
   "cell_type": "code",
   "execution_count": 38,
   "id": "recorded-discount",
   "metadata": {
    "execution": {
     "iopub.execute_input": "2021-03-25T09:27:38.724688Z",
     "iopub.status.busy": "2021-03-25T09:27:38.724033Z",
     "iopub.status.idle": "2021-03-25T09:27:39.210264Z",
     "shell.execute_reply": "2021-03-25T09:27:39.210637Z"
    }
   },
   "outputs": [
    {
     "data": {
      "image/svg+xml": [
       "<?xml version=\"1.0\" encoding=\"UTF-8\" standalone=\"no\"?><svg xmlns=\"http://www.w3.org/2000/svg\" xmlns:xlink=\"http://www.w3.org/1999/xlink\" contentScriptType=\"application/ecmascript\" contentStyleType=\"text/css\" height=\"157px\" preserveAspectRatio=\"none\" style=\"width:230px;height:157px;\" version=\"1.1\" viewBox=\"0 0 230 157\" width=\"230px\" zoomAndPan=\"magnify\"><defs/><g><!--MD5=[fbc87193dbaf4d95561dea2c320d4a47]\n",
       "cluster E1--><a href=\"psysml:474d0406-5e3d-47be-b798-32d1cf114728\" target=\"_top\" title=\"psysml:474d0406-5e3d-47be-b798-32d1cf114728\" xlink:actuate=\"onRequest\" xlink:href=\"psysml:474d0406-5e3d-47be-b798-32d1cf114728\" xlink:show=\"new\" xlink:title=\"psysml:474d0406-5e3d-47be-b798-32d1cf114728\" xlink:type=\"simple\"><polygon fill=\"#FFFFFF\" points=\"16,6,107,6,114,28.2969,208,28.2969,208,145,16,145,16,6\" style=\"stroke: #000000; stroke-width: 1.5;\"/><line style=\"stroke: #000000; stroke-width: 1.5;\" x1=\"16\" x2=\"114\" y1=\"28.2969\" y2=\"28.2969\"/><text fill=\"#000000\" font-family=\"sans-serif\" font-size=\"14\" font-weight=\"bold\" lengthAdjust=\"spacingAndGlyphs\" textLength=\"85\" x=\"20\" y=\"20.9951\">ActionTest</text></a><!--MD5=[b4997ac47864f28c2f74865a473b2911]\n",
       "class E2--><a href=\"psysml:541513c5-2792-4586-9963-ba9e65ac733f\" target=\"_top\" title=\"psysml:541513c5-2792-4586-9963-ba9e65ac733f\" xlink:actuate=\"onRequest\" xlink:href=\"psysml:541513c5-2792-4586-9963-ba9e65ac733f\" xlink:show=\"new\" xlink:title=\"psysml:541513c5-2792-4586-9963-ba9e65ac733f\" xlink:type=\"simple\"><rect fill=\"#FFFFFF\" height=\"88.3516\" id=\"E2\" rx=\"10\" ry=\"10\" style=\"stroke: #383838; stroke-width: 1.5;\" width=\"160\" x=\"32\" y=\"41\"/><text fill=\"#000000\" font-family=\"sans-serif\" font-size=\"12\" font-style=\"italic\" lengthAdjust=\"spacingAndGlyphs\" textLength=\"53\" x=\"85.5\" y=\"57.1387\">«action»</text><text fill=\"#000000\" font-family=\"sans-serif\" font-size=\"12\" lengthAdjust=\"spacingAndGlyphs\" textLength=\"8\" x=\"108\" y=\"71.1074\">a</text><line style=\"stroke: #383838; stroke-width: 1.5;\" x1=\"33\" x2=\"191\" y1=\"78.9375\" y2=\"78.9375\"/><text fill=\"#000000\" font-family=\"sans-serif\" font-size=\"11\" lengthAdjust=\"spacingAndGlyphs\" textLength=\"69\" x=\"38\" y=\"109.9526\">start: Action</text><text fill=\"#000000\" font-family=\"sans-serif\" font-size=\"11\" font-style=\"italic\" lengthAdjust=\"spacingAndGlyphs\" textLength=\"148\" x=\"38\" y=\"122.7573\">:&gt;&gt;Occurrence::startShot</text><line style=\"stroke: #383838; stroke-width: 1.0;\" x1=\"33\" x2=\"91.5\" y1=\"93.3398\" y2=\"93.3398\"/><text fill=\"#000000\" font-family=\"sans-serif\" font-size=\"11\" lengthAdjust=\"spacingAndGlyphs\" textLength=\"41\" x=\"91.5\" y=\"96.6479\">actions</text><line style=\"stroke: #383838; stroke-width: 1.0;\" x1=\"132.5\" x2=\"191\" y1=\"93.3398\" y2=\"93.3398\"/></a><!--MD5=[a16d6a84ca22398bf0d58e4586532d11]\n",
       "@startuml\r\n",
       "skinparam monochrome true\r\n",
       "skinparam classbackgroundcolor white\r\n",
       "skinparam shadowing false\r\n",
       "skinparam wrapWidth 300\r\n",
       "hide circle\r\n",
       "\r\n",
       "package \"ActionTest\" as E1  [[psysml:474d0406-5e3d-47be-b798-32d1cf114728 ]]  {\r\n",
       "comp usage \"a\" as E2  <<(T,blue)action>> [[psysml:541513c5-2792-4586-9963-ba9e65ac733f ]] {\r\n",
       "- - actions - -\r\n",
       "start: Action\\n//:>>Occurrence::startShot// \r\n",
       "}\r\n",
       "}\r\n",
       "@enduml\r\n",
       "\n",
       "PlantUML version 1.2020.13(Sat Jun 13 12:26:38 UTC 2020)\n",
       "(EPL source distribution)\n",
       "Java Runtime: OpenJDK Runtime Environment\n",
       "JVM: OpenJDK 64-Bit Server VM\n",
       "Default Encoding: UTF-8\n",
       "Language: en\n",
       "Country: null\n",
       "--></g></svg>"
      ]
     },
     "execution_count": 38,
     "metadata": {},
     "output_type": "execute_result"
    }
   ],
   "source": [
    "%viz --style=\"DEFAULT\" --view=\"Tree\" \"ActionTest\""
   ]
  },
  {
   "cell_type": "code",
   "execution_count": 39,
   "id": "theoretical-council",
   "metadata": {
    "execution": {
     "iopub.execute_input": "2021-03-25T09:27:39.263437Z",
     "iopub.status.busy": "2021-03-25T09:27:39.262680Z",
     "iopub.status.idle": "2021-03-25T09:27:39.271289Z",
     "shell.execute_reply": "2021-03-25T09:27:39.270851Z"
    }
   },
   "outputs": [
    {
     "data": {
      "image/svg+xml": [
       "<?xml version=\"1.0\" encoding=\"UTF-8\" standalone=\"no\"?><svg xmlns=\"http://www.w3.org/2000/svg\" xmlns:xlink=\"http://www.w3.org/1999/xlink\" contentScriptType=\"application/ecmascript\" contentStyleType=\"text/css\" height=\"12px\" preserveAspectRatio=\"none\" style=\"width:12px;height:12px;\" version=\"1.1\" viewBox=\"0 0 12 12\" width=\"12px\" zoomAndPan=\"magnify\"><defs/><g><!--MD5=[c5f280e076d0d61ccf4b0f27871bda1d]\n",
       "@startuml\r\n",
       "skinparam monochrome true\r\n",
       "skinparam classbackgroundcolor white\r\n",
       "skinparam shadowing false\r\n",
       "skinparam wrapWidth 300\r\n",
       "hide circle\r\n",
       "\r\n",
       "@enduml\r\n",
       "\n",
       "PlantUML version 1.2020.13(Sat Jun 13 12:26:38 UTC 2020)\n",
       "(EPL source distribution)\n",
       "Java Runtime: OpenJDK Runtime Environment\n",
       "JVM: OpenJDK 64-Bit Server VM\n",
       "Default Encoding: UTF-8\n",
       "Language: en\n",
       "Country: null\n",
       "--></g></svg>"
      ]
     },
     "execution_count": 39,
     "metadata": {},
     "output_type": "execute_result"
    }
   ],
   "source": [
    "%viz --style=\"DEFAULT\" --view=\"State\" \"ActionTest\""
   ]
  },
  {
   "cell_type": "code",
   "execution_count": 40,
   "id": "stock-symbol",
   "metadata": {
    "execution": {
     "iopub.execute_input": "2021-03-25T09:27:39.324302Z",
     "iopub.status.busy": "2021-03-25T09:27:39.323596Z",
     "iopub.status.idle": "2021-03-25T09:27:39.396323Z",
     "shell.execute_reply": "2021-03-25T09:27:39.395968Z"
    }
   },
   "outputs": [
    {
     "data": {
      "image/svg+xml": [
       "<?xml version=\"1.0\" encoding=\"UTF-8\" standalone=\"no\"?><svg xmlns=\"http://www.w3.org/2000/svg\" xmlns:xlink=\"http://www.w3.org/1999/xlink\" contentScriptType=\"application/ecmascript\" contentStyleType=\"text/css\" height=\"209px\" preserveAspectRatio=\"none\" style=\"width:296px;height:209px;\" version=\"1.1\" viewBox=\"0 0 296 209\" width=\"296px\" zoomAndPan=\"magnify\"><defs/><g><!--MD5=[fbc87193dbaf4d95561dea2c320d4a47]\n",
       "cluster E1--><a href=\"psysml:474d0406-5e3d-47be-b798-32d1cf114728\" target=\"_top\" title=\"psysml:474d0406-5e3d-47be-b798-32d1cf114728\" xlink:actuate=\"onRequest\" xlink:href=\"psysml:474d0406-5e3d-47be-b798-32d1cf114728\" xlink:show=\"new\" xlink:title=\"psysml:474d0406-5e3d-47be-b798-32d1cf114728\" xlink:type=\"simple\"><polygon fill=\"#FFFFFF\" points=\"16,6,107,6,114,28.2969,274,28.2969,274,197,16,197,16,6\" style=\"stroke: #000000; stroke-width: 1.5;\"/><line style=\"stroke: #000000; stroke-width: 1.5;\" x1=\"16\" x2=\"114\" y1=\"28.2969\" y2=\"28.2969\"/><text fill=\"#000000\" font-family=\"sans-serif\" font-size=\"14\" font-weight=\"bold\" lengthAdjust=\"spacingAndGlyphs\" textLength=\"85\" x=\"20\" y=\"20.9951\">ActionTest</text></a><!--MD5=[e4f7fae6ed58524ba242bb0b0d3be6b7]\n",
       "cluster E2--><a href=\"psysml:541513c5-2792-4586-9963-ba9e65ac733f\" target=\"_top\" title=\"psysml:541513c5-2792-4586-9963-ba9e65ac733f\" xlink:actuate=\"onRequest\" xlink:href=\"psysml:541513c5-2792-4586-9963-ba9e65ac733f\" xlink:show=\"new\" xlink:title=\"psysml:541513c5-2792-4586-9963-ba9e65ac733f\" xlink:type=\"simple\"><rect fill=\"#FFFFFF\" height=\"124\" id=\"E2\" rx=\"10\" ry=\"10\" style=\"stroke: #383838; stroke-width: 1.5;\" width=\"210\" x=\"40\" y=\"49\"/><rect fill=\"#F8F8F8\" height=\"37.9375\" rx=\"10\" ry=\"10\" style=\"stroke: #F8F8F8; stroke-width: 1.5;\" width=\"210\" x=\"40\" y=\"49\"/><rect fill=\"#F8F8F8\" height=\"10\" style=\"stroke: #F8F8F8; stroke-width: 1.5;\" width=\"210\" x=\"40\" y=\"76.9375\"/><rect fill=\"none\" height=\"124\" id=\"E2\" rx=\"10\" ry=\"10\" style=\"stroke: #383838; stroke-width: 1.5;\" width=\"210\" x=\"40\" y=\"49\"/><text fill=\"#000000\" font-family=\"sans-serif\" font-size=\"12\" font-style=\"italic\" lengthAdjust=\"spacingAndGlyphs\" textLength=\"53\" x=\"118.5\" y=\"65.1387\">«action»</text><text fill=\"#000000\" font-family=\"sans-serif\" font-size=\"12\" lengthAdjust=\"spacingAndGlyphs\" textLength=\"8\" x=\"141\" y=\"79.1074\">a</text><line style=\"stroke: #383838; stroke-width: 1.0;\" x1=\"40\" x2=\"250\" y1=\"86.9375\" y2=\"86.9375\"/></a><g id=\"E1.E2.E3\"><a href=\"psysml:09db3787-c9b3-4480-a102-0b64206fad8b\" target=\"_top\" title=\"psysml:09db3787-c9b3-4480-a102-0b64206fad8b\" xlink:actuate=\"onRequest\" xlink:href=\"psysml:09db3787-c9b3-4480-a102-0b64206fad8b\" xlink:show=\"new\" xlink:title=\"psysml:09db3787-c9b3-4480-a102-0b64206fad8b\" xlink:type=\"simple\"><rect fill=\"#FFFFFF\" height=\"56.9063\" id=\"E3\" rx=\"10\" ry=\"10\" style=\"stroke: #383838; stroke-width: 1.5;\" width=\"178\" x=\"56\" y=\"100\"/><rect fill=\"#F8F8F8\" height=\"51.9063\" rx=\"10\" ry=\"10\" style=\"stroke: #F8F8F8; stroke-width: 1.5;\" width=\"178\" x=\"56\" y=\"100\"/><rect fill=\"#F8F8F8\" height=\"10\" style=\"stroke: #F8F8F8; stroke-width: 1.5;\" width=\"178\" x=\"56\" y=\"141.9063\"/><rect fill=\"none\" height=\"56.9063\" id=\"E3\" rx=\"10\" ry=\"10\" style=\"stroke: #383838; stroke-width: 1.5;\" width=\"178\" x=\"56\" y=\"100\"/><text fill=\"#000000\" font-family=\"sans-serif\" font-size=\"12\" font-style=\"italic\" lengthAdjust=\"spacingAndGlyphs\" textLength=\"53\" x=\"118.5\" y=\"116.1387\">«action»</text><text fill=\"#000000\" font-family=\"sans-serif\" font-size=\"12\" lengthAdjust=\"spacingAndGlyphs\" textLength=\"77\" x=\"106.5\" y=\"130.1074\">start: Action</text><text fill=\"#000000\" font-family=\"sans-serif\" font-size=\"12\" font-style=\"italic\" lengthAdjust=\"spacingAndGlyphs\" textLength=\"163\" x=\"61.5\" y=\"144.0762\">:&gt;&gt;Occurrence::startShot</text><text fill=\"#000000\" font-family=\"sans-serif\" font-size=\"12\" lengthAdjust=\"spacingAndGlyphs\" textLength=\"0\" x=\"228.5\" y=\"144.0762\"/></a></g><!--MD5=[d08a2bcaf9fd0d5bac217c4e369c9eeb]\n",
       "@startuml\r\n",
       "skinparam ranksep 8\r\n",
       "skinparam rectangle {\r\n",
       " backgroundColor<<block>> LightGreen\r\n",
       "}\r\n",
       "skinparam monochrome true\r\n",
       "skinparam classbackgroundcolor white\r\n",
       "skinparam shadowing false\r\n",
       "skinparam wrapWidth 300\r\n",
       "hide circle\r\n",
       "\r\n",
       "package \"ActionTest\" as E1  [[psysml:474d0406-5e3d-47be-b798-32d1cf114728 ]]  {\r\n",
       "rec usage \"a\" as E2  <<(T,blue)action>> [[psysml:541513c5-2792-4586-9963-ba9e65ac733f ]] {\r\n",
       "rec usage \"start: Action\\n//:>>Occurrence::startShot// \" as E3  <<(T,blue)action>> [[psysml:09db3787-c9b3-4480-a102-0b64206fad8b ]] {\r\n",
       "}\r\n",
       "}\r\n",
       "}\r\n",
       "@enduml\r\n",
       "\n",
       "PlantUML version 1.2020.13(Sat Jun 13 12:26:38 UTC 2020)\n",
       "(EPL source distribution)\n",
       "Java Runtime: OpenJDK Runtime Environment\n",
       "JVM: OpenJDK 64-Bit Server VM\n",
       "Default Encoding: UTF-8\n",
       "Language: en\n",
       "Country: null\n",
       "--></g></svg>"
      ]
     },
     "execution_count": 40,
     "metadata": {},
     "output_type": "execute_result"
    }
   ],
   "source": [
    "%viz --style=\"DEFAULT\" --view=\"Interconnection\" \"ActionTest\""
   ]
  },
  {
   "cell_type": "code",
   "execution_count": 41,
   "id": "suffering-magnitude",
   "metadata": {
    "execution": {
     "iopub.execute_input": "2021-03-25T09:27:39.446388Z",
     "iopub.status.busy": "2021-03-25T09:27:39.445964Z",
     "iopub.status.idle": "2021-03-25T09:27:39.494684Z",
     "shell.execute_reply": "2021-03-25T09:27:39.495170Z"
    }
   },
   "outputs": [
    {
     "data": {
      "image/svg+xml": [
       "<?xml version=\"1.0\" encoding=\"UTF-8\" standalone=\"no\"?><svg xmlns=\"http://www.w3.org/2000/svg\" xmlns:xlink=\"http://www.w3.org/1999/xlink\" contentScriptType=\"application/ecmascript\" contentStyleType=\"text/css\" height=\"128px\" preserveAspectRatio=\"none\" style=\"width:111px;height:128px;\" version=\"1.1\" viewBox=\"0 0 111 128\" width=\"111px\" zoomAndPan=\"magnify\"><defs/><g><!--MD5=[fbc87193dbaf4d95561dea2c320d4a47]\n",
       "cluster E1--><a href=\"psysml:541513c5-2792-4586-9963-ba9e65ac733f\" target=\"_top\" title=\"psysml:541513c5-2792-4586-9963-ba9e65ac733f\" xlink:actuate=\"onRequest\" xlink:href=\"psysml:541513c5-2792-4586-9963-ba9e65ac733f\" xlink:show=\"new\" xlink:title=\"psysml:541513c5-2792-4586-9963-ba9e65ac733f\" xlink:type=\"simple\"><rect fill=\"#FFFFFF\" height=\"110\" id=\"E1\" rx=\"10\" ry=\"10\" style=\"stroke: #383838; stroke-width: 1.5;\" width=\"92\" x=\"7\" y=\"7\"/><rect fill=\"#F8F8F8\" height=\"37.9375\" rx=\"10\" ry=\"10\" style=\"stroke: #F8F8F8; stroke-width: 1.5;\" width=\"92\" x=\"7\" y=\"7\"/><rect fill=\"#F8F8F8\" height=\"10\" style=\"stroke: #F8F8F8; stroke-width: 1.5;\" width=\"92\" x=\"7\" y=\"34.9375\"/><rect fill=\"none\" height=\"110\" id=\"E1\" rx=\"10\" ry=\"10\" style=\"stroke: #383838; stroke-width: 1.5;\" width=\"92\" x=\"7\" y=\"7\"/><text fill=\"#000000\" font-family=\"sans-serif\" font-size=\"12\" font-style=\"italic\" lengthAdjust=\"spacingAndGlyphs\" textLength=\"53\" x=\"26.5\" y=\"23.1387\">«action»</text><text fill=\"#000000\" font-family=\"sans-serif\" font-size=\"12\" lengthAdjust=\"spacingAndGlyphs\" textLength=\"8\" x=\"49\" y=\"37.1074\">a</text><line style=\"stroke: #383838; stroke-width: 1.0;\" x1=\"7\" x2=\"99\" y1=\"44.9375\" y2=\"44.9375\"/></a><g id=\"E1.E2\"><a href=\"psysml:09db3787-c9b3-4480-a102-0b64206fad8b\" target=\"_top\" title=\"psysml:09db3787-c9b3-4480-a102-0b64206fad8b\" xlink:actuate=\"onRequest\" xlink:href=\"psysml:09db3787-c9b3-4480-a102-0b64206fad8b\" xlink:show=\"new\" xlink:title=\"psysml:09db3787-c9b3-4480-a102-0b64206fad8b\" xlink:type=\"simple\"><rect fill=\"#FFFFFF\" height=\"42.9375\" id=\"E2\" rx=\"10\" ry=\"10\" style=\"stroke: #383838; stroke-width: 1.5;\" width=\"60\" x=\"23\" y=\"58\"/><rect fill=\"#F8F8F8\" height=\"37.9375\" rx=\"10\" ry=\"10\" style=\"stroke: #F8F8F8; stroke-width: 1.5;\" width=\"60\" x=\"23\" y=\"58\"/><rect fill=\"#F8F8F8\" height=\"10\" style=\"stroke: #F8F8F8; stroke-width: 1.5;\" width=\"60\" x=\"23\" y=\"85.9375\"/><rect fill=\"none\" height=\"42.9375\" id=\"E2\" rx=\"10\" ry=\"10\" style=\"stroke: #383838; stroke-width: 1.5;\" width=\"60\" x=\"23\" y=\"58\"/><text fill=\"#000000\" font-family=\"sans-serif\" font-size=\"12\" font-style=\"italic\" lengthAdjust=\"spacingAndGlyphs\" textLength=\"53\" x=\"26.5\" y=\"74.1387\">«action»</text><text fill=\"#000000\" font-family=\"sans-serif\" font-size=\"12\" lengthAdjust=\"spacingAndGlyphs\" textLength=\"30\" x=\"38\" y=\"88.1074\">start</text></a></g><!--MD5=[3094a6ad11571aad5d11af23bf28b254]\n",
       "@startuml\r\n",
       "skinparam ranksep 8\r\n",
       "skinparam monochrome true\r\n",
       "skinparam classbackgroundcolor white\r\n",
       "skinparam shadowing false\r\n",
       "skinparam wrapWidth 300\r\n",
       "hide circle\r\n",
       "\r\n",
       "rec usage \"a\" as E1  <<(T,blue)action>> [[psysml:541513c5-2792-4586-9963-ba9e65ac733f ]] {\r\n",
       "rec usage \"start\" as E2  <<(T,blue)action>> [[psysml:09db3787-c9b3-4480-a102-0b64206fad8b ]] {\r\n",
       "}\r\n",
       "\r\n",
       "}\r\n",
       "\r\n",
       "@enduml\r\n",
       "\n",
       "PlantUML version 1.2020.13(Sat Jun 13 12:26:38 UTC 2020)\n",
       "(EPL source distribution)\n",
       "Java Runtime: OpenJDK Runtime Environment\n",
       "JVM: OpenJDK 64-Bit Server VM\n",
       "Default Encoding: UTF-8\n",
       "Language: en\n",
       "Country: null\n",
       "--></g></svg>"
      ]
     },
     "execution_count": 41,
     "metadata": {},
     "output_type": "execute_result"
    }
   ],
   "source": [
    "%viz --style=\"DEFAULT\" --view=\"Action\" \"ActionTest\""
   ]
  },
  {
   "cell_type": "code",
   "execution_count": 42,
   "id": "renewable-revision",
   "metadata": {
    "execution": {
     "iopub.execute_input": "2021-03-25T09:27:39.547824Z",
     "iopub.status.busy": "2021-03-25T09:27:39.547108Z",
     "iopub.status.idle": "2021-03-25T09:27:40.031005Z",
     "shell.execute_reply": "2021-03-25T09:27:40.030570Z"
    }
   },
   "outputs": [
    {
     "data": {
      "image/svg+xml": [
       "<?xml version=\"1.0\" encoding=\"UTF-8\" standalone=\"no\"?><svg xmlns=\"http://www.w3.org/2000/svg\" xmlns:xlink=\"http://www.w3.org/1999/xlink\" contentScriptType=\"application/ecmascript\" contentStyleType=\"text/css\" height=\"157px\" preserveAspectRatio=\"none\" style=\"width:230px;height:157px;\" version=\"1.1\" viewBox=\"0 0 230 157\" width=\"230px\" zoomAndPan=\"magnify\"><defs/><g><!--MD5=[fbc87193dbaf4d95561dea2c320d4a47]\n",
       "cluster E1--><a href=\"psysml:474d0406-5e3d-47be-b798-32d1cf114728\" target=\"_top\" title=\"psysml:474d0406-5e3d-47be-b798-32d1cf114728\" xlink:actuate=\"onRequest\" xlink:href=\"psysml:474d0406-5e3d-47be-b798-32d1cf114728\" xlink:show=\"new\" xlink:title=\"psysml:474d0406-5e3d-47be-b798-32d1cf114728\" xlink:type=\"simple\"><polygon fill=\"#FFFFFF\" points=\"16,6,107,6,114,28.2969,208,28.2969,208,145,16,145,16,6\" style=\"stroke: #000000; stroke-width: 1.5;\"/><line style=\"stroke: #000000; stroke-width: 1.5;\" x1=\"16\" x2=\"114\" y1=\"28.2969\" y2=\"28.2969\"/><text fill=\"#000000\" font-family=\"sans-serif\" font-size=\"14\" font-weight=\"bold\" lengthAdjust=\"spacingAndGlyphs\" textLength=\"85\" x=\"20\" y=\"20.9951\">ActionTest</text></a><!--MD5=[b4997ac47864f28c2f74865a473b2911]\n",
       "class E2--><a href=\"psysml:541513c5-2792-4586-9963-ba9e65ac733f\" target=\"_top\" title=\"psysml:541513c5-2792-4586-9963-ba9e65ac733f\" xlink:actuate=\"onRequest\" xlink:href=\"psysml:541513c5-2792-4586-9963-ba9e65ac733f\" xlink:show=\"new\" xlink:title=\"psysml:541513c5-2792-4586-9963-ba9e65ac733f\" xlink:type=\"simple\"><rect fill=\"#FFFFFF\" height=\"88.3516\" id=\"E2\" rx=\"10\" ry=\"10\" style=\"stroke: #383838; stroke-width: 1.5;\" width=\"160\" x=\"32\" y=\"41\"/><text fill=\"#000000\" font-family=\"sans-serif\" font-size=\"12\" font-style=\"italic\" lengthAdjust=\"spacingAndGlyphs\" textLength=\"53\" x=\"85.5\" y=\"57.1387\">«action»</text><text fill=\"#000000\" font-family=\"sans-serif\" font-size=\"12\" lengthAdjust=\"spacingAndGlyphs\" textLength=\"8\" x=\"108\" y=\"71.1074\">a</text><line style=\"stroke: #383838; stroke-width: 1.5;\" x1=\"33\" x2=\"191\" y1=\"78.9375\" y2=\"78.9375\"/><text fill=\"#000000\" font-family=\"sans-serif\" font-size=\"11\" lengthAdjust=\"spacingAndGlyphs\" textLength=\"69\" x=\"38\" y=\"109.9526\">start: Action</text><text fill=\"#000000\" font-family=\"sans-serif\" font-size=\"11\" font-style=\"italic\" lengthAdjust=\"spacingAndGlyphs\" textLength=\"148\" x=\"38\" y=\"122.7573\">:&gt;&gt;Occurrence::startShot</text><line style=\"stroke: #383838; stroke-width: 1.0;\" x1=\"33\" x2=\"91.5\" y1=\"93.3398\" y2=\"93.3398\"/><text fill=\"#000000\" font-family=\"sans-serif\" font-size=\"11\" lengthAdjust=\"spacingAndGlyphs\" textLength=\"41\" x=\"91.5\" y=\"96.6479\">actions</text><line style=\"stroke: #383838; stroke-width: 1.0;\" x1=\"132.5\" x2=\"191\" y1=\"93.3398\" y2=\"93.3398\"/></a><!--MD5=[a16d6a84ca22398bf0d58e4586532d11]\n",
       "@startuml\r\n",
       "skinparam monochrome true\r\n",
       "skinparam classbackgroundcolor white\r\n",
       "skinparam shadowing false\r\n",
       "skinparam wrapWidth 300\r\n",
       "hide circle\r\n",
       "\r\n",
       "package \"ActionTest\" as E1  [[psysml:474d0406-5e3d-47be-b798-32d1cf114728 ]]  {\r\n",
       "comp usage \"a\" as E2  <<(T,blue)action>> [[psysml:541513c5-2792-4586-9963-ba9e65ac733f ]] {\r\n",
       "- - actions - -\r\n",
       "start: Action\\n//:>>Occurrence::startShot// \r\n",
       "}\r\n",
       "}\r\n",
       "@enduml\r\n",
       "\n",
       "PlantUML version 1.2020.13(Sat Jun 13 12:26:38 UTC 2020)\n",
       "(EPL source distribution)\n",
       "Java Runtime: OpenJDK Runtime Environment\n",
       "JVM: OpenJDK 64-Bit Server VM\n",
       "Default Encoding: UTF-8\n",
       "Language: en\n",
       "Country: null\n",
       "--></g></svg>"
      ]
     },
     "execution_count": 42,
     "metadata": {},
     "output_type": "execute_result"
    }
   ],
   "source": [
    "%viz --style=\"DEFAULT\" --view=\"Sequence\" \"ActionTest\""
   ]
  },
  {
   "cell_type": "code",
   "execution_count": 43,
   "id": "tropical-click",
   "metadata": {
    "execution": {
     "iopub.execute_input": "2021-03-25T09:27:40.081689Z",
     "iopub.status.busy": "2021-03-25T09:27:40.080408Z",
     "iopub.status.idle": "2021-03-25T09:27:40.137633Z",
     "shell.execute_reply": "2021-03-25T09:27:40.137190Z"
    }
   },
   "outputs": [
    {
     "data": {
      "image/svg+xml": [
       "<?xml version=\"1.0\" encoding=\"UTF-8\" standalone=\"no\"?><svg xmlns=\"http://www.w3.org/2000/svg\" xmlns:xlink=\"http://www.w3.org/1999/xlink\" contentScriptType=\"application/ecmascript\" contentStyleType=\"text/css\" height=\"195px\" preserveAspectRatio=\"none\" style=\"width:178px;height:195px;\" version=\"1.1\" viewBox=\"0 0 178 195\" width=\"178px\" zoomAndPan=\"magnify\"><defs/><g><!--MD5=[fbc87193dbaf4d95561dea2c320d4a47]\n",
       "cluster E1--><a href=\"psysml:474d0406-5e3d-47be-b798-32d1cf114728\" target=\"_top\" title=\"psysml:474d0406-5e3d-47be-b798-32d1cf114728\" xlink:actuate=\"onRequest\" xlink:href=\"psysml:474d0406-5e3d-47be-b798-32d1cf114728\" xlink:show=\"new\" xlink:title=\"psysml:474d0406-5e3d-47be-b798-32d1cf114728\" xlink:type=\"simple\"><polygon fill=\"#FFFFFF\" points=\"16,6,107,6,114,28.2969,156,28.2969,156,183,16,183,16,6\" style=\"stroke: #000000; stroke-width: 1.5;\"/><line style=\"stroke: #000000; stroke-width: 1.5;\" x1=\"16\" x2=\"114\" y1=\"28.2969\" y2=\"28.2969\"/><text fill=\"#000000\" font-family=\"sans-serif\" font-size=\"14\" font-weight=\"bold\" lengthAdjust=\"spacingAndGlyphs\" textLength=\"85\" x=\"20\" y=\"20.9951\">ActionTest</text></a><!--MD5=[e4f7fae6ed58524ba242bb0b0d3be6b7]\n",
       "cluster E2--><a href=\"psysml:541513c5-2792-4586-9963-ba9e65ac733f\" target=\"_top\" title=\"psysml:541513c5-2792-4586-9963-ba9e65ac733f\" xlink:actuate=\"onRequest\" xlink:href=\"psysml:541513c5-2792-4586-9963-ba9e65ac733f\" xlink:show=\"new\" xlink:title=\"psysml:541513c5-2792-4586-9963-ba9e65ac733f\" xlink:type=\"simple\"><rect fill=\"#FFFFFF\" height=\"110\" id=\"E2\" rx=\"10\" ry=\"10\" style=\"stroke: #383838; stroke-width: 1.5;\" width=\"92\" x=\"40\" y=\"49\"/><rect fill=\"#F8F8F8\" height=\"37.9375\" rx=\"10\" ry=\"10\" style=\"stroke: #F8F8F8; stroke-width: 1.5;\" width=\"92\" x=\"40\" y=\"49\"/><rect fill=\"#F8F8F8\" height=\"10\" style=\"stroke: #F8F8F8; stroke-width: 1.5;\" width=\"92\" x=\"40\" y=\"76.9375\"/><rect fill=\"none\" height=\"110\" id=\"E2\" rx=\"10\" ry=\"10\" style=\"stroke: #383838; stroke-width: 1.5;\" width=\"92\" x=\"40\" y=\"49\"/><text fill=\"#000000\" font-family=\"sans-serif\" font-size=\"12\" font-style=\"italic\" lengthAdjust=\"spacingAndGlyphs\" textLength=\"53\" x=\"59.5\" y=\"65.1387\">«action»</text><text fill=\"#000000\" font-family=\"sans-serif\" font-size=\"12\" lengthAdjust=\"spacingAndGlyphs\" textLength=\"8\" x=\"82\" y=\"79.1074\">a</text><line style=\"stroke: #383838; stroke-width: 1.0;\" x1=\"40\" x2=\"132\" y1=\"86.9375\" y2=\"86.9375\"/></a><g id=\"E1.E2.E3\"><a href=\"psysml:09db3787-c9b3-4480-a102-0b64206fad8b\" target=\"_top\" title=\"psysml:09db3787-c9b3-4480-a102-0b64206fad8b\" xlink:actuate=\"onRequest\" xlink:href=\"psysml:09db3787-c9b3-4480-a102-0b64206fad8b\" xlink:show=\"new\" xlink:title=\"psysml:09db3787-c9b3-4480-a102-0b64206fad8b\" xlink:type=\"simple\"><rect fill=\"#FFFFFF\" height=\"42.9375\" id=\"E3\" rx=\"10\" ry=\"10\" style=\"stroke: #383838; stroke-width: 1.5;\" width=\"60\" x=\"56\" y=\"100\"/><rect fill=\"#F8F8F8\" height=\"37.9375\" rx=\"10\" ry=\"10\" style=\"stroke: #F8F8F8; stroke-width: 1.5;\" width=\"60\" x=\"56\" y=\"100\"/><rect fill=\"#F8F8F8\" height=\"10\" style=\"stroke: #F8F8F8; stroke-width: 1.5;\" width=\"60\" x=\"56\" y=\"127.9375\"/><rect fill=\"none\" height=\"42.9375\" id=\"E3\" rx=\"10\" ry=\"10\" style=\"stroke: #383838; stroke-width: 1.5;\" width=\"60\" x=\"56\" y=\"100\"/><text fill=\"#000000\" font-family=\"sans-serif\" font-size=\"12\" font-style=\"italic\" lengthAdjust=\"spacingAndGlyphs\" textLength=\"53\" x=\"59.5\" y=\"116.1387\">«action»</text><text fill=\"#000000\" font-family=\"sans-serif\" font-size=\"12\" lengthAdjust=\"spacingAndGlyphs\" textLength=\"30\" x=\"71\" y=\"130.1074\">start</text></a></g><!--MD5=[8203fa05802da2a040911590a66da8bc]\n",
       "@startuml\r\n",
       "skinparam monochrome true\r\n",
       "skinparam classbackgroundcolor white\r\n",
       "skinparam shadowing false\r\n",
       "skinparam wrapWidth 300\r\n",
       "hide circle\r\n",
       "\r\n",
       "package \"ActionTest\" as E1  [[psysml:474d0406-5e3d-47be-b798-32d1cf114728 ]]  {\r\n",
       "rec usage \"a\" as E2  <<(T,blue)action>> [[psysml:541513c5-2792-4586-9963-ba9e65ac733f ]] {\r\n",
       "rec usage \"start\" as E3  <<(T,blue)action>> [[psysml:09db3787-c9b3-4480-a102-0b64206fad8b ]] {\r\n",
       "}\r\n",
       "\r\n",
       "}\r\n",
       "\r\n",
       "}\r\n",
       "@enduml\r\n",
       "\n",
       "PlantUML version 1.2020.13(Sat Jun 13 12:26:38 UTC 2020)\n",
       "(EPL source distribution)\n",
       "Java Runtime: OpenJDK Runtime Environment\n",
       "JVM: OpenJDK 64-Bit Server VM\n",
       "Default Encoding: UTF-8\n",
       "Language: en\n",
       "Country: null\n",
       "--></g></svg>"
      ]
     },
     "execution_count": 43,
     "metadata": {},
     "output_type": "execute_result"
    }
   ],
   "source": [
    "%viz --style=\"DEFAULT\" --view=\"MIXED\" \"ActionTest\""
   ]
  },
  {
   "cell_type": "code",
   "execution_count": 44,
   "id": "complete-satisfaction",
   "metadata": {
    "execution": {
     "iopub.execute_input": "2021-03-25T09:27:40.191416Z",
     "iopub.status.busy": "2021-03-25T09:27:40.190620Z",
     "iopub.status.idle": "2021-03-25T09:27:40.253402Z",
     "shell.execute_reply": "2021-03-25T09:27:40.253003Z"
    }
   },
   "outputs": [
    {
     "data": {
      "image/svg+xml": [
       "<?xml version=\"1.0\" encoding=\"UTF-8\" standalone=\"no\"?><svg xmlns=\"http://www.w3.org/2000/svg\" xmlns:xlink=\"http://www.w3.org/1999/xlink\" contentScriptType=\"application/ecmascript\" contentStyleType=\"text/css\" height=\"195px\" preserveAspectRatio=\"none\" style=\"width:178px;height:195px;\" version=\"1.1\" viewBox=\"0 0 178 195\" width=\"178px\" zoomAndPan=\"magnify\"><defs/><g><!--MD5=[fbc87193dbaf4d95561dea2c320d4a47]\n",
       "cluster E1--><a href=\"psysml:474d0406-5e3d-47be-b798-32d1cf114728\" target=\"_top\" title=\"psysml:474d0406-5e3d-47be-b798-32d1cf114728\" xlink:actuate=\"onRequest\" xlink:href=\"psysml:474d0406-5e3d-47be-b798-32d1cf114728\" xlink:show=\"new\" xlink:title=\"psysml:474d0406-5e3d-47be-b798-32d1cf114728\" xlink:type=\"simple\"><polygon fill=\"#FFFFFF\" points=\"16,6,107,6,114,28.2969,156,28.2969,156,183,16,183,16,6\" style=\"stroke: #000000; stroke-width: 1.5;\"/><line style=\"stroke: #000000; stroke-width: 1.5;\" x1=\"16\" x2=\"114\" y1=\"28.2969\" y2=\"28.2969\"/><text fill=\"#000000\" font-family=\"sans-serif\" font-size=\"14\" font-weight=\"bold\" lengthAdjust=\"spacingAndGlyphs\" textLength=\"85\" x=\"20\" y=\"20.9951\">ActionTest</text></a><!--MD5=[e4f7fae6ed58524ba242bb0b0d3be6b7]\n",
       "cluster E2--><a href=\"psysml:541513c5-2792-4586-9963-ba9e65ac733f\" target=\"_top\" title=\"psysml:541513c5-2792-4586-9963-ba9e65ac733f\" xlink:actuate=\"onRequest\" xlink:href=\"psysml:541513c5-2792-4586-9963-ba9e65ac733f\" xlink:show=\"new\" xlink:title=\"psysml:541513c5-2792-4586-9963-ba9e65ac733f\" xlink:type=\"simple\"><rect fill=\"#FFFFFF\" height=\"110\" id=\"E2\" rx=\"10\" ry=\"10\" style=\"stroke: #383838; stroke-width: 1.5;\" width=\"92\" x=\"40\" y=\"49\"/><rect fill=\"#F8F8F8\" height=\"37.9375\" rx=\"10\" ry=\"10\" style=\"stroke: #F8F8F8; stroke-width: 1.5;\" width=\"92\" x=\"40\" y=\"49\"/><rect fill=\"#F8F8F8\" height=\"10\" style=\"stroke: #F8F8F8; stroke-width: 1.5;\" width=\"92\" x=\"40\" y=\"76.9375\"/><rect fill=\"none\" height=\"110\" id=\"E2\" rx=\"10\" ry=\"10\" style=\"stroke: #383838; stroke-width: 1.5;\" width=\"92\" x=\"40\" y=\"49\"/><text fill=\"#000000\" font-family=\"sans-serif\" font-size=\"12\" font-style=\"italic\" lengthAdjust=\"spacingAndGlyphs\" textLength=\"53\" x=\"59.5\" y=\"65.1387\">«action»</text><text fill=\"#000000\" font-family=\"sans-serif\" font-size=\"12\" lengthAdjust=\"spacingAndGlyphs\" textLength=\"8\" x=\"82\" y=\"79.1074\">a</text><line style=\"stroke: #383838; stroke-width: 1.0;\" x1=\"40\" x2=\"132\" y1=\"86.9375\" y2=\"86.9375\"/></a><g id=\"E1.E2.E3\"><a href=\"psysml:09db3787-c9b3-4480-a102-0b64206fad8b\" target=\"_top\" title=\"psysml:09db3787-c9b3-4480-a102-0b64206fad8b\" xlink:actuate=\"onRequest\" xlink:href=\"psysml:09db3787-c9b3-4480-a102-0b64206fad8b\" xlink:show=\"new\" xlink:title=\"psysml:09db3787-c9b3-4480-a102-0b64206fad8b\" xlink:type=\"simple\"><rect fill=\"#FFFFFF\" height=\"42.9375\" id=\"E3\" rx=\"10\" ry=\"10\" style=\"stroke: #383838; stroke-width: 1.5;\" width=\"60\" x=\"56\" y=\"100\"/><rect fill=\"#F8F8F8\" height=\"37.9375\" rx=\"10\" ry=\"10\" style=\"stroke: #F8F8F8; stroke-width: 1.5;\" width=\"60\" x=\"56\" y=\"100\"/><rect fill=\"#F8F8F8\" height=\"10\" style=\"stroke: #F8F8F8; stroke-width: 1.5;\" width=\"60\" x=\"56\" y=\"127.9375\"/><rect fill=\"none\" height=\"42.9375\" id=\"E3\" rx=\"10\" ry=\"10\" style=\"stroke: #383838; stroke-width: 1.5;\" width=\"60\" x=\"56\" y=\"100\"/><text fill=\"#000000\" font-family=\"sans-serif\" font-size=\"12\" font-style=\"italic\" lengthAdjust=\"spacingAndGlyphs\" textLength=\"53\" x=\"59.5\" y=\"116.1387\">«action»</text><text fill=\"#000000\" font-family=\"sans-serif\" font-size=\"12\" lengthAdjust=\"spacingAndGlyphs\" textLength=\"30\" x=\"71\" y=\"130.1074\">start</text></a></g><!--MD5=[9efa0818267354238455a6e5a429c27f]\n",
       "@startuml\r\n",
       "top to bottom direction\r\n",
       "skinparam monochrome true\r\n",
       "skinparam classbackgroundcolor white\r\n",
       "skinparam shadowing false\r\n",
       "skinparam wrapWidth 300\r\n",
       "hide circle\r\n",
       "\r\n",
       "package \"ActionTest\" as E1  [[psysml:474d0406-5e3d-47be-b798-32d1cf114728 ]]  {\r\n",
       "rec usage \"a\" as E2  <<(T,blue)action>> [[psysml:541513c5-2792-4586-9963-ba9e65ac733f ]] {\r\n",
       "rec usage \"start\" as E3  <<(T,blue)action>> [[psysml:09db3787-c9b3-4480-a102-0b64206fad8b ]] {\r\n",
       "}\r\n",
       "\r\n",
       "}\r\n",
       "\r\n",
       "}\r\n",
       "@enduml\r\n",
       "\n",
       "PlantUML version 1.2020.13(Sat Jun 13 12:26:38 UTC 2020)\n",
       "(EPL source distribution)\n",
       "Java Runtime: OpenJDK Runtime Environment\n",
       "JVM: OpenJDK 64-Bit Server VM\n",
       "Default Encoding: UTF-8\n",
       "Language: en\n",
       "Country: null\n",
       "--></g></svg>"
      ]
     },
     "execution_count": 44,
     "metadata": {},
     "output_type": "execute_result"
    }
   ],
   "source": [
    "%viz --style=\"TB\" --view=\"Default\" \"ActionTest\""
   ]
  },
  {
   "cell_type": "code",
   "execution_count": 45,
   "id": "figured-vampire",
   "metadata": {
    "execution": {
     "iopub.execute_input": "2021-03-25T09:27:40.304222Z",
     "iopub.status.busy": "2021-03-25T09:27:40.303563Z",
     "iopub.status.idle": "2021-03-25T09:27:40.781570Z",
     "shell.execute_reply": "2021-03-25T09:27:40.782060Z"
    }
   },
   "outputs": [
    {
     "data": {
      "image/svg+xml": [
       "<?xml version=\"1.0\" encoding=\"UTF-8\" standalone=\"no\"?><svg xmlns=\"http://www.w3.org/2000/svg\" xmlns:xlink=\"http://www.w3.org/1999/xlink\" contentScriptType=\"application/ecmascript\" contentStyleType=\"text/css\" height=\"157px\" preserveAspectRatio=\"none\" style=\"width:230px;height:157px;\" version=\"1.1\" viewBox=\"0 0 230 157\" width=\"230px\" zoomAndPan=\"magnify\"><defs/><g><!--MD5=[fbc87193dbaf4d95561dea2c320d4a47]\n",
       "cluster E1--><a href=\"psysml:474d0406-5e3d-47be-b798-32d1cf114728\" target=\"_top\" title=\"psysml:474d0406-5e3d-47be-b798-32d1cf114728\" xlink:actuate=\"onRequest\" xlink:href=\"psysml:474d0406-5e3d-47be-b798-32d1cf114728\" xlink:show=\"new\" xlink:title=\"psysml:474d0406-5e3d-47be-b798-32d1cf114728\" xlink:type=\"simple\"><polygon fill=\"#FFFFFF\" points=\"16,6,107,6,114,28.2969,208,28.2969,208,145,16,145,16,6\" style=\"stroke: #000000; stroke-width: 1.5;\"/><line style=\"stroke: #000000; stroke-width: 1.5;\" x1=\"16\" x2=\"114\" y1=\"28.2969\" y2=\"28.2969\"/><text fill=\"#000000\" font-family=\"sans-serif\" font-size=\"14\" font-weight=\"bold\" lengthAdjust=\"spacingAndGlyphs\" textLength=\"85\" x=\"20\" y=\"20.9951\">ActionTest</text></a><!--MD5=[b4997ac47864f28c2f74865a473b2911]\n",
       "class E2--><a href=\"psysml:541513c5-2792-4586-9963-ba9e65ac733f\" target=\"_top\" title=\"psysml:541513c5-2792-4586-9963-ba9e65ac733f\" xlink:actuate=\"onRequest\" xlink:href=\"psysml:541513c5-2792-4586-9963-ba9e65ac733f\" xlink:show=\"new\" xlink:title=\"psysml:541513c5-2792-4586-9963-ba9e65ac733f\" xlink:type=\"simple\"><rect fill=\"#FFFFFF\" height=\"88.3516\" id=\"E2\" rx=\"10\" ry=\"10\" style=\"stroke: #383838; stroke-width: 1.5;\" width=\"160\" x=\"32\" y=\"41\"/><text fill=\"#000000\" font-family=\"sans-serif\" font-size=\"12\" font-style=\"italic\" lengthAdjust=\"spacingAndGlyphs\" textLength=\"53\" x=\"85.5\" y=\"57.1387\">«action»</text><text fill=\"#000000\" font-family=\"sans-serif\" font-size=\"12\" lengthAdjust=\"spacingAndGlyphs\" textLength=\"8\" x=\"108\" y=\"71.1074\">a</text><line style=\"stroke: #383838; stroke-width: 1.5;\" x1=\"33\" x2=\"191\" y1=\"78.9375\" y2=\"78.9375\"/><text fill=\"#000000\" font-family=\"sans-serif\" font-size=\"11\" lengthAdjust=\"spacingAndGlyphs\" textLength=\"69\" x=\"38\" y=\"109.9526\">start: Action</text><text fill=\"#000000\" font-family=\"sans-serif\" font-size=\"11\" font-style=\"italic\" lengthAdjust=\"spacingAndGlyphs\" textLength=\"148\" x=\"38\" y=\"122.7573\">:&gt;&gt;Occurrence::startShot</text><line style=\"stroke: #383838; stroke-width: 1.0;\" x1=\"33\" x2=\"91.5\" y1=\"93.3398\" y2=\"93.3398\"/><text fill=\"#000000\" font-family=\"sans-serif\" font-size=\"11\" lengthAdjust=\"spacingAndGlyphs\" textLength=\"41\" x=\"91.5\" y=\"96.6479\">actions</text><line style=\"stroke: #383838; stroke-width: 1.0;\" x1=\"132.5\" x2=\"191\" y1=\"93.3398\" y2=\"93.3398\"/></a><!--MD5=[3b427e0b85d77ffad739fd7ebcb58ada]\n",
       "@startuml\r\n",
       "top to bottom direction\r\n",
       "skinparam monochrome true\r\n",
       "skinparam classbackgroundcolor white\r\n",
       "skinparam shadowing false\r\n",
       "skinparam wrapWidth 300\r\n",
       "hide circle\r\n",
       "\r\n",
       "package \"ActionTest\" as E1  [[psysml:474d0406-5e3d-47be-b798-32d1cf114728 ]]  {\r\n",
       "comp usage \"a\" as E2  <<(T,blue)action>> [[psysml:541513c5-2792-4586-9963-ba9e65ac733f ]] {\r\n",
       "- - actions - -\r\n",
       "start: Action\\n//:>>Occurrence::startShot// \r\n",
       "}\r\n",
       "}\r\n",
       "@enduml\r\n",
       "\n",
       "PlantUML version 1.2020.13(Sat Jun 13 12:26:38 UTC 2020)\n",
       "(EPL source distribution)\n",
       "Java Runtime: OpenJDK Runtime Environment\n",
       "JVM: OpenJDK 64-Bit Server VM\n",
       "Default Encoding: UTF-8\n",
       "Language: en\n",
       "Country: null\n",
       "--></g></svg>"
      ]
     },
     "execution_count": 45,
     "metadata": {},
     "output_type": "execute_result"
    }
   ],
   "source": [
    "%viz --style=\"TB\" --view=\"Tree\" \"ActionTest\""
   ]
  },
  {
   "cell_type": "code",
   "execution_count": 46,
   "id": "improving-lancaster",
   "metadata": {
    "execution": {
     "iopub.execute_input": "2021-03-25T09:27:40.833420Z",
     "iopub.status.busy": "2021-03-25T09:27:40.832933Z",
     "iopub.status.idle": "2021-03-25T09:27:40.839263Z",
     "shell.execute_reply": "2021-03-25T09:27:40.839650Z"
    }
   },
   "outputs": [
    {
     "data": {
      "image/svg+xml": [
       "<?xml version=\"1.0\" encoding=\"UTF-8\" standalone=\"no\"?><svg xmlns=\"http://www.w3.org/2000/svg\" xmlns:xlink=\"http://www.w3.org/1999/xlink\" contentScriptType=\"application/ecmascript\" contentStyleType=\"text/css\" height=\"12px\" preserveAspectRatio=\"none\" style=\"width:12px;height:12px;\" version=\"1.1\" viewBox=\"0 0 12 12\" width=\"12px\" zoomAndPan=\"magnify\"><defs/><g><!--MD5=[f4ee21bc66e489b5061b7c3e9601fdef]\n",
       "@startuml\r\n",
       "top to bottom direction\r\n",
       "skinparam monochrome true\r\n",
       "skinparam classbackgroundcolor white\r\n",
       "skinparam shadowing false\r\n",
       "skinparam wrapWidth 300\r\n",
       "hide circle\r\n",
       "\r\n",
       "@enduml\r\n",
       "\n",
       "PlantUML version 1.2020.13(Sat Jun 13 12:26:38 UTC 2020)\n",
       "(EPL source distribution)\n",
       "Java Runtime: OpenJDK Runtime Environment\n",
       "JVM: OpenJDK 64-Bit Server VM\n",
       "Default Encoding: UTF-8\n",
       "Language: en\n",
       "Country: null\n",
       "--></g></svg>"
      ]
     },
     "execution_count": 46,
     "metadata": {},
     "output_type": "execute_result"
    }
   ],
   "source": [
    "%viz --style=\"TB\" --view=\"State\" \"ActionTest\""
   ]
  },
  {
   "cell_type": "code",
   "execution_count": 47,
   "id": "binary-rotation",
   "metadata": {
    "execution": {
     "iopub.execute_input": "2021-03-25T09:27:40.891261Z",
     "iopub.status.busy": "2021-03-25T09:27:40.890659Z",
     "iopub.status.idle": "2021-03-25T09:27:40.962375Z",
     "shell.execute_reply": "2021-03-25T09:27:40.962008Z"
    }
   },
   "outputs": [
    {
     "data": {
      "image/svg+xml": [
       "<?xml version=\"1.0\" encoding=\"UTF-8\" standalone=\"no\"?><svg xmlns=\"http://www.w3.org/2000/svg\" xmlns:xlink=\"http://www.w3.org/1999/xlink\" contentScriptType=\"application/ecmascript\" contentStyleType=\"text/css\" height=\"209px\" preserveAspectRatio=\"none\" style=\"width:296px;height:209px;\" version=\"1.1\" viewBox=\"0 0 296 209\" width=\"296px\" zoomAndPan=\"magnify\"><defs/><g><!--MD5=[fbc87193dbaf4d95561dea2c320d4a47]\n",
       "cluster E1--><a href=\"psysml:474d0406-5e3d-47be-b798-32d1cf114728\" target=\"_top\" title=\"psysml:474d0406-5e3d-47be-b798-32d1cf114728\" xlink:actuate=\"onRequest\" xlink:href=\"psysml:474d0406-5e3d-47be-b798-32d1cf114728\" xlink:show=\"new\" xlink:title=\"psysml:474d0406-5e3d-47be-b798-32d1cf114728\" xlink:type=\"simple\"><polygon fill=\"#FFFFFF\" points=\"16,6,107,6,114,28.2969,274,28.2969,274,197,16,197,16,6\" style=\"stroke: #000000; stroke-width: 1.5;\"/><line style=\"stroke: #000000; stroke-width: 1.5;\" x1=\"16\" x2=\"114\" y1=\"28.2969\" y2=\"28.2969\"/><text fill=\"#000000\" font-family=\"sans-serif\" font-size=\"14\" font-weight=\"bold\" lengthAdjust=\"spacingAndGlyphs\" textLength=\"85\" x=\"20\" y=\"20.9951\">ActionTest</text></a><!--MD5=[e4f7fae6ed58524ba242bb0b0d3be6b7]\n",
       "cluster E2--><a href=\"psysml:541513c5-2792-4586-9963-ba9e65ac733f\" target=\"_top\" title=\"psysml:541513c5-2792-4586-9963-ba9e65ac733f\" xlink:actuate=\"onRequest\" xlink:href=\"psysml:541513c5-2792-4586-9963-ba9e65ac733f\" xlink:show=\"new\" xlink:title=\"psysml:541513c5-2792-4586-9963-ba9e65ac733f\" xlink:type=\"simple\"><rect fill=\"#FFFFFF\" height=\"124\" id=\"E2\" rx=\"10\" ry=\"10\" style=\"stroke: #383838; stroke-width: 1.5;\" width=\"210\" x=\"40\" y=\"49\"/><rect fill=\"#F8F8F8\" height=\"37.9375\" rx=\"10\" ry=\"10\" style=\"stroke: #F8F8F8; stroke-width: 1.5;\" width=\"210\" x=\"40\" y=\"49\"/><rect fill=\"#F8F8F8\" height=\"10\" style=\"stroke: #F8F8F8; stroke-width: 1.5;\" width=\"210\" x=\"40\" y=\"76.9375\"/><rect fill=\"none\" height=\"124\" id=\"E2\" rx=\"10\" ry=\"10\" style=\"stroke: #383838; stroke-width: 1.5;\" width=\"210\" x=\"40\" y=\"49\"/><text fill=\"#000000\" font-family=\"sans-serif\" font-size=\"12\" font-style=\"italic\" lengthAdjust=\"spacingAndGlyphs\" textLength=\"53\" x=\"118.5\" y=\"65.1387\">«action»</text><text fill=\"#000000\" font-family=\"sans-serif\" font-size=\"12\" lengthAdjust=\"spacingAndGlyphs\" textLength=\"8\" x=\"141\" y=\"79.1074\">a</text><line style=\"stroke: #383838; stroke-width: 1.0;\" x1=\"40\" x2=\"250\" y1=\"86.9375\" y2=\"86.9375\"/></a><g id=\"E1.E2.E3\"><a href=\"psysml:09db3787-c9b3-4480-a102-0b64206fad8b\" target=\"_top\" title=\"psysml:09db3787-c9b3-4480-a102-0b64206fad8b\" xlink:actuate=\"onRequest\" xlink:href=\"psysml:09db3787-c9b3-4480-a102-0b64206fad8b\" xlink:show=\"new\" xlink:title=\"psysml:09db3787-c9b3-4480-a102-0b64206fad8b\" xlink:type=\"simple\"><rect fill=\"#FFFFFF\" height=\"56.9063\" id=\"E3\" rx=\"10\" ry=\"10\" style=\"stroke: #383838; stroke-width: 1.5;\" width=\"178\" x=\"56\" y=\"100\"/><rect fill=\"#F8F8F8\" height=\"51.9063\" rx=\"10\" ry=\"10\" style=\"stroke: #F8F8F8; stroke-width: 1.5;\" width=\"178\" x=\"56\" y=\"100\"/><rect fill=\"#F8F8F8\" height=\"10\" style=\"stroke: #F8F8F8; stroke-width: 1.5;\" width=\"178\" x=\"56\" y=\"141.9063\"/><rect fill=\"none\" height=\"56.9063\" id=\"E3\" rx=\"10\" ry=\"10\" style=\"stroke: #383838; stroke-width: 1.5;\" width=\"178\" x=\"56\" y=\"100\"/><text fill=\"#000000\" font-family=\"sans-serif\" font-size=\"12\" font-style=\"italic\" lengthAdjust=\"spacingAndGlyphs\" textLength=\"53\" x=\"118.5\" y=\"116.1387\">«action»</text><text fill=\"#000000\" font-family=\"sans-serif\" font-size=\"12\" lengthAdjust=\"spacingAndGlyphs\" textLength=\"77\" x=\"106.5\" y=\"130.1074\">start: Action</text><text fill=\"#000000\" font-family=\"sans-serif\" font-size=\"12\" font-style=\"italic\" lengthAdjust=\"spacingAndGlyphs\" textLength=\"163\" x=\"61.5\" y=\"144.0762\">:&gt;&gt;Occurrence::startShot</text><text fill=\"#000000\" font-family=\"sans-serif\" font-size=\"12\" lengthAdjust=\"spacingAndGlyphs\" textLength=\"0\" x=\"228.5\" y=\"144.0762\"/></a></g><!--MD5=[8e22167217b956a8517958ac4c8b3ff0]\n",
       "@startuml\r\n",
       "skinparam ranksep 8\r\n",
       "skinparam rectangle {\r\n",
       " backgroundColor<<block>> LightGreen\r\n",
       "}\r\n",
       "top to bottom direction\r\n",
       "skinparam monochrome true\r\n",
       "skinparam classbackgroundcolor white\r\n",
       "skinparam shadowing false\r\n",
       "skinparam wrapWidth 300\r\n",
       "hide circle\r\n",
       "\r\n",
       "package \"ActionTest\" as E1  [[psysml:474d0406-5e3d-47be-b798-32d1cf114728 ]]  {\r\n",
       "rec usage \"a\" as E2  <<(T,blue)action>> [[psysml:541513c5-2792-4586-9963-ba9e65ac733f ]] {\r\n",
       "rec usage \"start: Action\\n//:>>Occurrence::startShot// \" as E3  <<(T,blue)action>> [[psysml:09db3787-c9b3-4480-a102-0b64206fad8b ]] {\r\n",
       "}\r\n",
       "}\r\n",
       "}\r\n",
       "@enduml\r\n",
       "\n",
       "PlantUML version 1.2020.13(Sat Jun 13 12:26:38 UTC 2020)\n",
       "(EPL source distribution)\n",
       "Java Runtime: OpenJDK Runtime Environment\n",
       "JVM: OpenJDK 64-Bit Server VM\n",
       "Default Encoding: UTF-8\n",
       "Language: en\n",
       "Country: null\n",
       "--></g></svg>"
      ]
     },
     "execution_count": 47,
     "metadata": {},
     "output_type": "execute_result"
    }
   ],
   "source": [
    "%viz --style=\"TB\" --view=\"Interconnection\" \"ActionTest\""
   ]
  },
  {
   "cell_type": "code",
   "execution_count": 48,
   "id": "unauthorized-amazon",
   "metadata": {
    "execution": {
     "iopub.execute_input": "2021-03-25T09:27:41.015100Z",
     "iopub.status.busy": "2021-03-25T09:27:41.014227Z",
     "iopub.status.idle": "2021-03-25T09:27:41.064641Z",
     "shell.execute_reply": "2021-03-25T09:27:41.064321Z"
    }
   },
   "outputs": [
    {
     "data": {
      "image/svg+xml": [
       "<?xml version=\"1.0\" encoding=\"UTF-8\" standalone=\"no\"?><svg xmlns=\"http://www.w3.org/2000/svg\" xmlns:xlink=\"http://www.w3.org/1999/xlink\" contentScriptType=\"application/ecmascript\" contentStyleType=\"text/css\" height=\"128px\" preserveAspectRatio=\"none\" style=\"width:111px;height:128px;\" version=\"1.1\" viewBox=\"0 0 111 128\" width=\"111px\" zoomAndPan=\"magnify\"><defs/><g><!--MD5=[fbc87193dbaf4d95561dea2c320d4a47]\n",
       "cluster E1--><a href=\"psysml:541513c5-2792-4586-9963-ba9e65ac733f\" target=\"_top\" title=\"psysml:541513c5-2792-4586-9963-ba9e65ac733f\" xlink:actuate=\"onRequest\" xlink:href=\"psysml:541513c5-2792-4586-9963-ba9e65ac733f\" xlink:show=\"new\" xlink:title=\"psysml:541513c5-2792-4586-9963-ba9e65ac733f\" xlink:type=\"simple\"><rect fill=\"#FFFFFF\" height=\"110\" id=\"E1\" rx=\"10\" ry=\"10\" style=\"stroke: #383838; stroke-width: 1.5;\" width=\"92\" x=\"7\" y=\"7\"/><rect fill=\"#F8F8F8\" height=\"37.9375\" rx=\"10\" ry=\"10\" style=\"stroke: #F8F8F8; stroke-width: 1.5;\" width=\"92\" x=\"7\" y=\"7\"/><rect fill=\"#F8F8F8\" height=\"10\" style=\"stroke: #F8F8F8; stroke-width: 1.5;\" width=\"92\" x=\"7\" y=\"34.9375\"/><rect fill=\"none\" height=\"110\" id=\"E1\" rx=\"10\" ry=\"10\" style=\"stroke: #383838; stroke-width: 1.5;\" width=\"92\" x=\"7\" y=\"7\"/><text fill=\"#000000\" font-family=\"sans-serif\" font-size=\"12\" font-style=\"italic\" lengthAdjust=\"spacingAndGlyphs\" textLength=\"53\" x=\"26.5\" y=\"23.1387\">«action»</text><text fill=\"#000000\" font-family=\"sans-serif\" font-size=\"12\" lengthAdjust=\"spacingAndGlyphs\" textLength=\"8\" x=\"49\" y=\"37.1074\">a</text><line style=\"stroke: #383838; stroke-width: 1.0;\" x1=\"7\" x2=\"99\" y1=\"44.9375\" y2=\"44.9375\"/></a><g id=\"E1.E2\"><a href=\"psysml:09db3787-c9b3-4480-a102-0b64206fad8b\" target=\"_top\" title=\"psysml:09db3787-c9b3-4480-a102-0b64206fad8b\" xlink:actuate=\"onRequest\" xlink:href=\"psysml:09db3787-c9b3-4480-a102-0b64206fad8b\" xlink:show=\"new\" xlink:title=\"psysml:09db3787-c9b3-4480-a102-0b64206fad8b\" xlink:type=\"simple\"><rect fill=\"#FFFFFF\" height=\"42.9375\" id=\"E2\" rx=\"10\" ry=\"10\" style=\"stroke: #383838; stroke-width: 1.5;\" width=\"60\" x=\"23\" y=\"58\"/><rect fill=\"#F8F8F8\" height=\"37.9375\" rx=\"10\" ry=\"10\" style=\"stroke: #F8F8F8; stroke-width: 1.5;\" width=\"60\" x=\"23\" y=\"58\"/><rect fill=\"#F8F8F8\" height=\"10\" style=\"stroke: #F8F8F8; stroke-width: 1.5;\" width=\"60\" x=\"23\" y=\"85.9375\"/><rect fill=\"none\" height=\"42.9375\" id=\"E2\" rx=\"10\" ry=\"10\" style=\"stroke: #383838; stroke-width: 1.5;\" width=\"60\" x=\"23\" y=\"58\"/><text fill=\"#000000\" font-family=\"sans-serif\" font-size=\"12\" font-style=\"italic\" lengthAdjust=\"spacingAndGlyphs\" textLength=\"53\" x=\"26.5\" y=\"74.1387\">«action»</text><text fill=\"#000000\" font-family=\"sans-serif\" font-size=\"12\" lengthAdjust=\"spacingAndGlyphs\" textLength=\"30\" x=\"38\" y=\"88.1074\">start</text></a></g><!--MD5=[13e82e4df28f4de7a359851109a69e93]\n",
       "@startuml\r\n",
       "skinparam ranksep 8\r\n",
       "top to bottom direction\r\n",
       "skinparam monochrome true\r\n",
       "skinparam classbackgroundcolor white\r\n",
       "skinparam shadowing false\r\n",
       "skinparam wrapWidth 300\r\n",
       "hide circle\r\n",
       "\r\n",
       "rec usage \"a\" as E1  <<(T,blue)action>> [[psysml:541513c5-2792-4586-9963-ba9e65ac733f ]] {\r\n",
       "rec usage \"start\" as E2  <<(T,blue)action>> [[psysml:09db3787-c9b3-4480-a102-0b64206fad8b ]] {\r\n",
       "}\r\n",
       "\r\n",
       "}\r\n",
       "\r\n",
       "@enduml\r\n",
       "\n",
       "PlantUML version 1.2020.13(Sat Jun 13 12:26:38 UTC 2020)\n",
       "(EPL source distribution)\n",
       "Java Runtime: OpenJDK Runtime Environment\n",
       "JVM: OpenJDK 64-Bit Server VM\n",
       "Default Encoding: UTF-8\n",
       "Language: en\n",
       "Country: null\n",
       "--></g></svg>"
      ]
     },
     "execution_count": 48,
     "metadata": {},
     "output_type": "execute_result"
    }
   ],
   "source": [
    "%viz --style=\"TB\" --view=\"Action\" \"ActionTest\""
   ]
  },
  {
   "cell_type": "code",
   "execution_count": 49,
   "id": "sixth-academy",
   "metadata": {
    "execution": {
     "iopub.execute_input": "2021-03-25T09:27:41.118097Z",
     "iopub.status.busy": "2021-03-25T09:27:41.117556Z",
     "iopub.status.idle": "2021-03-25T09:27:41.593957Z",
     "shell.execute_reply": "2021-03-25T09:27:41.593492Z"
    }
   },
   "outputs": [
    {
     "data": {
      "image/svg+xml": [
       "<?xml version=\"1.0\" encoding=\"UTF-8\" standalone=\"no\"?><svg xmlns=\"http://www.w3.org/2000/svg\" xmlns:xlink=\"http://www.w3.org/1999/xlink\" contentScriptType=\"application/ecmascript\" contentStyleType=\"text/css\" height=\"157px\" preserveAspectRatio=\"none\" style=\"width:230px;height:157px;\" version=\"1.1\" viewBox=\"0 0 230 157\" width=\"230px\" zoomAndPan=\"magnify\"><defs/><g><!--MD5=[fbc87193dbaf4d95561dea2c320d4a47]\n",
       "cluster E1--><a href=\"psysml:474d0406-5e3d-47be-b798-32d1cf114728\" target=\"_top\" title=\"psysml:474d0406-5e3d-47be-b798-32d1cf114728\" xlink:actuate=\"onRequest\" xlink:href=\"psysml:474d0406-5e3d-47be-b798-32d1cf114728\" xlink:show=\"new\" xlink:title=\"psysml:474d0406-5e3d-47be-b798-32d1cf114728\" xlink:type=\"simple\"><polygon fill=\"#FFFFFF\" points=\"16,6,107,6,114,28.2969,208,28.2969,208,145,16,145,16,6\" style=\"stroke: #000000; stroke-width: 1.5;\"/><line style=\"stroke: #000000; stroke-width: 1.5;\" x1=\"16\" x2=\"114\" y1=\"28.2969\" y2=\"28.2969\"/><text fill=\"#000000\" font-family=\"sans-serif\" font-size=\"14\" font-weight=\"bold\" lengthAdjust=\"spacingAndGlyphs\" textLength=\"85\" x=\"20\" y=\"20.9951\">ActionTest</text></a><!--MD5=[b4997ac47864f28c2f74865a473b2911]\n",
       "class E2--><a href=\"psysml:541513c5-2792-4586-9963-ba9e65ac733f\" target=\"_top\" title=\"psysml:541513c5-2792-4586-9963-ba9e65ac733f\" xlink:actuate=\"onRequest\" xlink:href=\"psysml:541513c5-2792-4586-9963-ba9e65ac733f\" xlink:show=\"new\" xlink:title=\"psysml:541513c5-2792-4586-9963-ba9e65ac733f\" xlink:type=\"simple\"><rect fill=\"#FFFFFF\" height=\"88.3516\" id=\"E2\" rx=\"10\" ry=\"10\" style=\"stroke: #383838; stroke-width: 1.5;\" width=\"160\" x=\"32\" y=\"41\"/><text fill=\"#000000\" font-family=\"sans-serif\" font-size=\"12\" font-style=\"italic\" lengthAdjust=\"spacingAndGlyphs\" textLength=\"53\" x=\"85.5\" y=\"57.1387\">«action»</text><text fill=\"#000000\" font-family=\"sans-serif\" font-size=\"12\" lengthAdjust=\"spacingAndGlyphs\" textLength=\"8\" x=\"108\" y=\"71.1074\">a</text><line style=\"stroke: #383838; stroke-width: 1.5;\" x1=\"33\" x2=\"191\" y1=\"78.9375\" y2=\"78.9375\"/><text fill=\"#000000\" font-family=\"sans-serif\" font-size=\"11\" lengthAdjust=\"spacingAndGlyphs\" textLength=\"69\" x=\"38\" y=\"109.9526\">start: Action</text><text fill=\"#000000\" font-family=\"sans-serif\" font-size=\"11\" font-style=\"italic\" lengthAdjust=\"spacingAndGlyphs\" textLength=\"148\" x=\"38\" y=\"122.7573\">:&gt;&gt;Occurrence::startShot</text><line style=\"stroke: #383838; stroke-width: 1.0;\" x1=\"33\" x2=\"91.5\" y1=\"93.3398\" y2=\"93.3398\"/><text fill=\"#000000\" font-family=\"sans-serif\" font-size=\"11\" lengthAdjust=\"spacingAndGlyphs\" textLength=\"41\" x=\"91.5\" y=\"96.6479\">actions</text><line style=\"stroke: #383838; stroke-width: 1.0;\" x1=\"132.5\" x2=\"191\" y1=\"93.3398\" y2=\"93.3398\"/></a><!--MD5=[3b427e0b85d77ffad739fd7ebcb58ada]\n",
       "@startuml\r\n",
       "top to bottom direction\r\n",
       "skinparam monochrome true\r\n",
       "skinparam classbackgroundcolor white\r\n",
       "skinparam shadowing false\r\n",
       "skinparam wrapWidth 300\r\n",
       "hide circle\r\n",
       "\r\n",
       "package \"ActionTest\" as E1  [[psysml:474d0406-5e3d-47be-b798-32d1cf114728 ]]  {\r\n",
       "comp usage \"a\" as E2  <<(T,blue)action>> [[psysml:541513c5-2792-4586-9963-ba9e65ac733f ]] {\r\n",
       "- - actions - -\r\n",
       "start: Action\\n//:>>Occurrence::startShot// \r\n",
       "}\r\n",
       "}\r\n",
       "@enduml\r\n",
       "\n",
       "PlantUML version 1.2020.13(Sat Jun 13 12:26:38 UTC 2020)\n",
       "(EPL source distribution)\n",
       "Java Runtime: OpenJDK Runtime Environment\n",
       "JVM: OpenJDK 64-Bit Server VM\n",
       "Default Encoding: UTF-8\n",
       "Language: en\n",
       "Country: null\n",
       "--></g></svg>"
      ]
     },
     "execution_count": 49,
     "metadata": {},
     "output_type": "execute_result"
    }
   ],
   "source": [
    "%viz --style=\"TB\" --view=\"Sequence\" \"ActionTest\""
   ]
  },
  {
   "cell_type": "code",
   "execution_count": 50,
   "id": "sublime-feature",
   "metadata": {
    "execution": {
     "iopub.execute_input": "2021-03-25T09:27:41.643989Z",
     "iopub.status.busy": "2021-03-25T09:27:41.643572Z",
     "iopub.status.idle": "2021-03-25T09:27:41.703202Z",
     "shell.execute_reply": "2021-03-25T09:27:41.702783Z"
    }
   },
   "outputs": [
    {
     "data": {
      "image/svg+xml": [
       "<?xml version=\"1.0\" encoding=\"UTF-8\" standalone=\"no\"?><svg xmlns=\"http://www.w3.org/2000/svg\" xmlns:xlink=\"http://www.w3.org/1999/xlink\" contentScriptType=\"application/ecmascript\" contentStyleType=\"text/css\" height=\"195px\" preserveAspectRatio=\"none\" style=\"width:178px;height:195px;\" version=\"1.1\" viewBox=\"0 0 178 195\" width=\"178px\" zoomAndPan=\"magnify\"><defs/><g><!--MD5=[fbc87193dbaf4d95561dea2c320d4a47]\n",
       "cluster E1--><a href=\"psysml:474d0406-5e3d-47be-b798-32d1cf114728\" target=\"_top\" title=\"psysml:474d0406-5e3d-47be-b798-32d1cf114728\" xlink:actuate=\"onRequest\" xlink:href=\"psysml:474d0406-5e3d-47be-b798-32d1cf114728\" xlink:show=\"new\" xlink:title=\"psysml:474d0406-5e3d-47be-b798-32d1cf114728\" xlink:type=\"simple\"><polygon fill=\"#FFFFFF\" points=\"16,6,107,6,114,28.2969,156,28.2969,156,183,16,183,16,6\" style=\"stroke: #000000; stroke-width: 1.5;\"/><line style=\"stroke: #000000; stroke-width: 1.5;\" x1=\"16\" x2=\"114\" y1=\"28.2969\" y2=\"28.2969\"/><text fill=\"#000000\" font-family=\"sans-serif\" font-size=\"14\" font-weight=\"bold\" lengthAdjust=\"spacingAndGlyphs\" textLength=\"85\" x=\"20\" y=\"20.9951\">ActionTest</text></a><!--MD5=[e4f7fae6ed58524ba242bb0b0d3be6b7]\n",
       "cluster E2--><a href=\"psysml:541513c5-2792-4586-9963-ba9e65ac733f\" target=\"_top\" title=\"psysml:541513c5-2792-4586-9963-ba9e65ac733f\" xlink:actuate=\"onRequest\" xlink:href=\"psysml:541513c5-2792-4586-9963-ba9e65ac733f\" xlink:show=\"new\" xlink:title=\"psysml:541513c5-2792-4586-9963-ba9e65ac733f\" xlink:type=\"simple\"><rect fill=\"#FFFFFF\" height=\"110\" id=\"E2\" rx=\"10\" ry=\"10\" style=\"stroke: #383838; stroke-width: 1.5;\" width=\"92\" x=\"40\" y=\"49\"/><rect fill=\"#F8F8F8\" height=\"37.9375\" rx=\"10\" ry=\"10\" style=\"stroke: #F8F8F8; stroke-width: 1.5;\" width=\"92\" x=\"40\" y=\"49\"/><rect fill=\"#F8F8F8\" height=\"10\" style=\"stroke: #F8F8F8; stroke-width: 1.5;\" width=\"92\" x=\"40\" y=\"76.9375\"/><rect fill=\"none\" height=\"110\" id=\"E2\" rx=\"10\" ry=\"10\" style=\"stroke: #383838; stroke-width: 1.5;\" width=\"92\" x=\"40\" y=\"49\"/><text fill=\"#000000\" font-family=\"sans-serif\" font-size=\"12\" font-style=\"italic\" lengthAdjust=\"spacingAndGlyphs\" textLength=\"53\" x=\"59.5\" y=\"65.1387\">«action»</text><text fill=\"#000000\" font-family=\"sans-serif\" font-size=\"12\" lengthAdjust=\"spacingAndGlyphs\" textLength=\"8\" x=\"82\" y=\"79.1074\">a</text><line style=\"stroke: #383838; stroke-width: 1.0;\" x1=\"40\" x2=\"132\" y1=\"86.9375\" y2=\"86.9375\"/></a><g id=\"E1.E2.E3\"><a href=\"psysml:09db3787-c9b3-4480-a102-0b64206fad8b\" target=\"_top\" title=\"psysml:09db3787-c9b3-4480-a102-0b64206fad8b\" xlink:actuate=\"onRequest\" xlink:href=\"psysml:09db3787-c9b3-4480-a102-0b64206fad8b\" xlink:show=\"new\" xlink:title=\"psysml:09db3787-c9b3-4480-a102-0b64206fad8b\" xlink:type=\"simple\"><rect fill=\"#FFFFFF\" height=\"42.9375\" id=\"E3\" rx=\"10\" ry=\"10\" style=\"stroke: #383838; stroke-width: 1.5;\" width=\"60\" x=\"56\" y=\"100\"/><rect fill=\"#F8F8F8\" height=\"37.9375\" rx=\"10\" ry=\"10\" style=\"stroke: #F8F8F8; stroke-width: 1.5;\" width=\"60\" x=\"56\" y=\"100\"/><rect fill=\"#F8F8F8\" height=\"10\" style=\"stroke: #F8F8F8; stroke-width: 1.5;\" width=\"60\" x=\"56\" y=\"127.9375\"/><rect fill=\"none\" height=\"42.9375\" id=\"E3\" rx=\"10\" ry=\"10\" style=\"stroke: #383838; stroke-width: 1.5;\" width=\"60\" x=\"56\" y=\"100\"/><text fill=\"#000000\" font-family=\"sans-serif\" font-size=\"12\" font-style=\"italic\" lengthAdjust=\"spacingAndGlyphs\" textLength=\"53\" x=\"59.5\" y=\"116.1387\">«action»</text><text fill=\"#000000\" font-family=\"sans-serif\" font-size=\"12\" lengthAdjust=\"spacingAndGlyphs\" textLength=\"30\" x=\"71\" y=\"130.1074\">start</text></a></g><!--MD5=[9efa0818267354238455a6e5a429c27f]\n",
       "@startuml\r\n",
       "top to bottom direction\r\n",
       "skinparam monochrome true\r\n",
       "skinparam classbackgroundcolor white\r\n",
       "skinparam shadowing false\r\n",
       "skinparam wrapWidth 300\r\n",
       "hide circle\r\n",
       "\r\n",
       "package \"ActionTest\" as E1  [[psysml:474d0406-5e3d-47be-b798-32d1cf114728 ]]  {\r\n",
       "rec usage \"a\" as E2  <<(T,blue)action>> [[psysml:541513c5-2792-4586-9963-ba9e65ac733f ]] {\r\n",
       "rec usage \"start\" as E3  <<(T,blue)action>> [[psysml:09db3787-c9b3-4480-a102-0b64206fad8b ]] {\r\n",
       "}\r\n",
       "\r\n",
       "}\r\n",
       "\r\n",
       "}\r\n",
       "@enduml\r\n",
       "\n",
       "PlantUML version 1.2020.13(Sat Jun 13 12:26:38 UTC 2020)\n",
       "(EPL source distribution)\n",
       "Java Runtime: OpenJDK Runtime Environment\n",
       "JVM: OpenJDK 64-Bit Server VM\n",
       "Default Encoding: UTF-8\n",
       "Language: en\n",
       "Country: null\n",
       "--></g></svg>"
      ]
     },
     "execution_count": 50,
     "metadata": {},
     "output_type": "execute_result"
    }
   ],
   "source": [
    "%viz --style=\"TB\" --view=\"MIXED\" \"ActionTest\""
   ]
  },
  {
   "cell_type": "code",
   "execution_count": 51,
   "id": "editorial-driving",
   "metadata": {
    "execution": {
     "iopub.execute_input": "2021-03-25T09:27:41.754255Z",
     "iopub.status.busy": "2021-03-25T09:27:41.753624Z",
     "iopub.status.idle": "2021-03-25T09:27:41.812571Z",
     "shell.execute_reply": "2021-03-25T09:27:41.812212Z"
    }
   },
   "outputs": [
    {
     "data": {
      "image/svg+xml": [
       "<?xml version=\"1.0\" encoding=\"UTF-8\" standalone=\"no\"?><svg xmlns=\"http://www.w3.org/2000/svg\" xmlns:xlink=\"http://www.w3.org/1999/xlink\" contentScriptType=\"application/ecmascript\" contentStyleType=\"text/css\" height=\"195px\" preserveAspectRatio=\"none\" style=\"width:178px;height:195px;\" version=\"1.1\" viewBox=\"0 0 178 195\" width=\"178px\" zoomAndPan=\"magnify\"><defs/><g><!--MD5=[fbc87193dbaf4d95561dea2c320d4a47]\n",
       "cluster E1--><a href=\"psysml:474d0406-5e3d-47be-b798-32d1cf114728\" target=\"_top\" title=\"psysml:474d0406-5e3d-47be-b798-32d1cf114728\" xlink:actuate=\"onRequest\" xlink:href=\"psysml:474d0406-5e3d-47be-b798-32d1cf114728\" xlink:show=\"new\" xlink:title=\"psysml:474d0406-5e3d-47be-b798-32d1cf114728\" xlink:type=\"simple\"><polygon fill=\"#FFFFFF\" points=\"16,6,107,6,114,28.2969,156,28.2969,156,183,16,183,16,6\" style=\"stroke: #000000; stroke-width: 1.5;\"/><line style=\"stroke: #000000; stroke-width: 1.5;\" x1=\"16\" x2=\"114\" y1=\"28.2969\" y2=\"28.2969\"/><text fill=\"#000000\" font-family=\"sans-serif\" font-size=\"14\" font-weight=\"bold\" lengthAdjust=\"spacingAndGlyphs\" textLength=\"85\" x=\"20\" y=\"20.9951\">ActionTest</text></a><!--MD5=[e4f7fae6ed58524ba242bb0b0d3be6b7]\n",
       "cluster E2--><a href=\"psysml:541513c5-2792-4586-9963-ba9e65ac733f\" target=\"_top\" title=\"psysml:541513c5-2792-4586-9963-ba9e65ac733f\" xlink:actuate=\"onRequest\" xlink:href=\"psysml:541513c5-2792-4586-9963-ba9e65ac733f\" xlink:show=\"new\" xlink:title=\"psysml:541513c5-2792-4586-9963-ba9e65ac733f\" xlink:type=\"simple\"><rect fill=\"#FFFFFF\" height=\"110\" id=\"E2\" rx=\"10\" ry=\"10\" style=\"stroke: #383838; stroke-width: 1.5;\" width=\"92\" x=\"40\" y=\"49\"/><rect fill=\"#F8F8F8\" height=\"37.9375\" rx=\"10\" ry=\"10\" style=\"stroke: #F8F8F8; stroke-width: 1.5;\" width=\"92\" x=\"40\" y=\"49\"/><rect fill=\"#F8F8F8\" height=\"10\" style=\"stroke: #F8F8F8; stroke-width: 1.5;\" width=\"92\" x=\"40\" y=\"76.9375\"/><rect fill=\"none\" height=\"110\" id=\"E2\" rx=\"10\" ry=\"10\" style=\"stroke: #383838; stroke-width: 1.5;\" width=\"92\" x=\"40\" y=\"49\"/><text fill=\"#000000\" font-family=\"sans-serif\" font-size=\"12\" font-style=\"italic\" lengthAdjust=\"spacingAndGlyphs\" textLength=\"53\" x=\"59.5\" y=\"65.1387\">«action»</text><text fill=\"#000000\" font-family=\"sans-serif\" font-size=\"12\" lengthAdjust=\"spacingAndGlyphs\" textLength=\"8\" x=\"82\" y=\"79.1074\">a</text><line style=\"stroke: #383838; stroke-width: 1.0;\" x1=\"40\" x2=\"132\" y1=\"86.9375\" y2=\"86.9375\"/></a><g id=\"E1.E2.E3\"><a href=\"psysml:09db3787-c9b3-4480-a102-0b64206fad8b\" target=\"_top\" title=\"psysml:09db3787-c9b3-4480-a102-0b64206fad8b\" xlink:actuate=\"onRequest\" xlink:href=\"psysml:09db3787-c9b3-4480-a102-0b64206fad8b\" xlink:show=\"new\" xlink:title=\"psysml:09db3787-c9b3-4480-a102-0b64206fad8b\" xlink:type=\"simple\"><rect fill=\"#FFFFFF\" height=\"42.9375\" id=\"E3\" rx=\"10\" ry=\"10\" style=\"stroke: #383838; stroke-width: 1.5;\" width=\"60\" x=\"56\" y=\"100\"/><rect fill=\"#F8F8F8\" height=\"37.9375\" rx=\"10\" ry=\"10\" style=\"stroke: #F8F8F8; stroke-width: 1.5;\" width=\"60\" x=\"56\" y=\"100\"/><rect fill=\"#F8F8F8\" height=\"10\" style=\"stroke: #F8F8F8; stroke-width: 1.5;\" width=\"60\" x=\"56\" y=\"127.9375\"/><rect fill=\"none\" height=\"42.9375\" id=\"E3\" rx=\"10\" ry=\"10\" style=\"stroke: #383838; stroke-width: 1.5;\" width=\"60\" x=\"56\" y=\"100\"/><text fill=\"#000000\" font-family=\"sans-serif\" font-size=\"12\" font-style=\"italic\" lengthAdjust=\"spacingAndGlyphs\" textLength=\"53\" x=\"59.5\" y=\"116.1387\">«action»</text><text fill=\"#000000\" font-family=\"sans-serif\" font-size=\"12\" lengthAdjust=\"spacingAndGlyphs\" textLength=\"30\" x=\"71\" y=\"130.1074\">start</text></a></g><!--MD5=[4ff19a40fbcdc343c4bcc24325fa4a64]\n",
       "@startuml\r\n",
       "skinparam linetype ortho\r\n",
       "skinparam monochrome true\r\n",
       "skinparam classbackgroundcolor white\r\n",
       "skinparam shadowing false\r\n",
       "skinparam wrapWidth 300\r\n",
       "hide circle\r\n",
       "\r\n",
       "package \"ActionTest\" as E1  [[psysml:474d0406-5e3d-47be-b798-32d1cf114728 ]]  {\r\n",
       "rec usage \"a\" as E2  <<(T,blue)action>> [[psysml:541513c5-2792-4586-9963-ba9e65ac733f ]] {\r\n",
       "rec usage \"start\" as E3  <<(T,blue)action>> [[psysml:09db3787-c9b3-4480-a102-0b64206fad8b ]] {\r\n",
       "}\r\n",
       "\r\n",
       "}\r\n",
       "\r\n",
       "}\r\n",
       "@enduml\r\n",
       "\n",
       "PlantUML version 1.2020.13(Sat Jun 13 12:26:38 UTC 2020)\n",
       "(EPL source distribution)\n",
       "Java Runtime: OpenJDK Runtime Environment\n",
       "JVM: OpenJDK 64-Bit Server VM\n",
       "Default Encoding: UTF-8\n",
       "Language: en\n",
       "Country: null\n",
       "--></g></svg>"
      ]
     },
     "execution_count": 51,
     "metadata": {},
     "output_type": "execute_result"
    }
   ],
   "source": [
    "%viz --style=\"ORTHOLINE\" --view=\"Default\" \"ActionTest\""
   ]
  },
  {
   "cell_type": "code",
   "execution_count": 52,
   "id": "processed-damage",
   "metadata": {
    "execution": {
     "iopub.execute_input": "2021-03-25T09:27:41.864673Z",
     "iopub.status.busy": "2021-03-25T09:27:41.863499Z",
     "iopub.status.idle": "2021-03-25T09:27:42.346297Z",
     "shell.execute_reply": "2021-03-25T09:27:42.345830Z"
    }
   },
   "outputs": [
    {
     "data": {
      "image/svg+xml": [
       "<?xml version=\"1.0\" encoding=\"UTF-8\" standalone=\"no\"?><svg xmlns=\"http://www.w3.org/2000/svg\" xmlns:xlink=\"http://www.w3.org/1999/xlink\" contentScriptType=\"application/ecmascript\" contentStyleType=\"text/css\" height=\"157px\" preserveAspectRatio=\"none\" style=\"width:230px;height:157px;\" version=\"1.1\" viewBox=\"0 0 230 157\" width=\"230px\" zoomAndPan=\"magnify\"><defs/><g><!--MD5=[fbc87193dbaf4d95561dea2c320d4a47]\n",
       "cluster E1--><a href=\"psysml:474d0406-5e3d-47be-b798-32d1cf114728\" target=\"_top\" title=\"psysml:474d0406-5e3d-47be-b798-32d1cf114728\" xlink:actuate=\"onRequest\" xlink:href=\"psysml:474d0406-5e3d-47be-b798-32d1cf114728\" xlink:show=\"new\" xlink:title=\"psysml:474d0406-5e3d-47be-b798-32d1cf114728\" xlink:type=\"simple\"><polygon fill=\"#FFFFFF\" points=\"16,6,107,6,114,28.2969,208,28.2969,208,145,16,145,16,6\" style=\"stroke: #000000; stroke-width: 1.5;\"/><line style=\"stroke: #000000; stroke-width: 1.5;\" x1=\"16\" x2=\"114\" y1=\"28.2969\" y2=\"28.2969\"/><text fill=\"#000000\" font-family=\"sans-serif\" font-size=\"14\" font-weight=\"bold\" lengthAdjust=\"spacingAndGlyphs\" textLength=\"85\" x=\"20\" y=\"20.9951\">ActionTest</text></a><!--MD5=[b4997ac47864f28c2f74865a473b2911]\n",
       "class E2--><a href=\"psysml:541513c5-2792-4586-9963-ba9e65ac733f\" target=\"_top\" title=\"psysml:541513c5-2792-4586-9963-ba9e65ac733f\" xlink:actuate=\"onRequest\" xlink:href=\"psysml:541513c5-2792-4586-9963-ba9e65ac733f\" xlink:show=\"new\" xlink:title=\"psysml:541513c5-2792-4586-9963-ba9e65ac733f\" xlink:type=\"simple\"><rect fill=\"#FFFFFF\" height=\"88.3516\" id=\"E2\" rx=\"10\" ry=\"10\" style=\"stroke: #383838; stroke-width: 1.5;\" width=\"160\" x=\"32\" y=\"41\"/><text fill=\"#000000\" font-family=\"sans-serif\" font-size=\"12\" font-style=\"italic\" lengthAdjust=\"spacingAndGlyphs\" textLength=\"53\" x=\"85.5\" y=\"57.1387\">«action»</text><text fill=\"#000000\" font-family=\"sans-serif\" font-size=\"12\" lengthAdjust=\"spacingAndGlyphs\" textLength=\"8\" x=\"108\" y=\"71.1074\">a</text><line style=\"stroke: #383838; stroke-width: 1.5;\" x1=\"33\" x2=\"191\" y1=\"78.9375\" y2=\"78.9375\"/><text fill=\"#000000\" font-family=\"sans-serif\" font-size=\"11\" lengthAdjust=\"spacingAndGlyphs\" textLength=\"69\" x=\"38\" y=\"109.9526\">start: Action</text><text fill=\"#000000\" font-family=\"sans-serif\" font-size=\"11\" font-style=\"italic\" lengthAdjust=\"spacingAndGlyphs\" textLength=\"148\" x=\"38\" y=\"122.7573\">:&gt;&gt;Occurrence::startShot</text><line style=\"stroke: #383838; stroke-width: 1.0;\" x1=\"33\" x2=\"91.5\" y1=\"93.3398\" y2=\"93.3398\"/><text fill=\"#000000\" font-family=\"sans-serif\" font-size=\"11\" lengthAdjust=\"spacingAndGlyphs\" textLength=\"41\" x=\"91.5\" y=\"96.6479\">actions</text><line style=\"stroke: #383838; stroke-width: 1.0;\" x1=\"132.5\" x2=\"191\" y1=\"93.3398\" y2=\"93.3398\"/></a><!--MD5=[29bb57043cdc2b5f7ef81e92ba195cb1]\n",
       "@startuml\r\n",
       "skinparam linetype ortho\r\n",
       "skinparam monochrome true\r\n",
       "skinparam classbackgroundcolor white\r\n",
       "skinparam shadowing false\r\n",
       "skinparam wrapWidth 300\r\n",
       "hide circle\r\n",
       "\r\n",
       "package \"ActionTest\" as E1  [[psysml:474d0406-5e3d-47be-b798-32d1cf114728 ]]  {\r\n",
       "comp usage \"a\" as E2  <<(T,blue)action>> [[psysml:541513c5-2792-4586-9963-ba9e65ac733f ]] {\r\n",
       "- - actions - -\r\n",
       "start: Action\\n//:>>Occurrence::startShot// \r\n",
       "}\r\n",
       "}\r\n",
       "@enduml\r\n",
       "\n",
       "PlantUML version 1.2020.13(Sat Jun 13 12:26:38 UTC 2020)\n",
       "(EPL source distribution)\n",
       "Java Runtime: OpenJDK Runtime Environment\n",
       "JVM: OpenJDK 64-Bit Server VM\n",
       "Default Encoding: UTF-8\n",
       "Language: en\n",
       "Country: null\n",
       "--></g></svg>"
      ]
     },
     "execution_count": 52,
     "metadata": {},
     "output_type": "execute_result"
    }
   ],
   "source": [
    "%viz --style=\"ORTHOLINE\" --view=\"Tree\" \"ActionTest\""
   ]
  },
  {
   "cell_type": "code",
   "execution_count": 53,
   "id": "opening-psychology",
   "metadata": {
    "execution": {
     "iopub.execute_input": "2021-03-25T09:27:42.397390Z",
     "iopub.status.busy": "2021-03-25T09:27:42.396429Z",
     "iopub.status.idle": "2021-03-25T09:27:42.404629Z",
     "shell.execute_reply": "2021-03-25T09:27:42.404128Z"
    }
   },
   "outputs": [
    {
     "data": {
      "image/svg+xml": [
       "<?xml version=\"1.0\" encoding=\"UTF-8\" standalone=\"no\"?><svg xmlns=\"http://www.w3.org/2000/svg\" xmlns:xlink=\"http://www.w3.org/1999/xlink\" contentScriptType=\"application/ecmascript\" contentStyleType=\"text/css\" height=\"12px\" preserveAspectRatio=\"none\" style=\"width:12px;height:12px;\" version=\"1.1\" viewBox=\"0 0 12 12\" width=\"12px\" zoomAndPan=\"magnify\"><defs/><g><!--MD5=[97d6f38768b311333d388e66b2b27985]\n",
       "@startuml\r\n",
       "skinparam linetype ortho\r\n",
       "skinparam monochrome true\r\n",
       "skinparam classbackgroundcolor white\r\n",
       "skinparam shadowing false\r\n",
       "skinparam wrapWidth 300\r\n",
       "hide circle\r\n",
       "\r\n",
       "@enduml\r\n",
       "\n",
       "PlantUML version 1.2020.13(Sat Jun 13 12:26:38 UTC 2020)\n",
       "(EPL source distribution)\n",
       "Java Runtime: OpenJDK Runtime Environment\n",
       "JVM: OpenJDK 64-Bit Server VM\n",
       "Default Encoding: UTF-8\n",
       "Language: en\n",
       "Country: null\n",
       "--></g></svg>"
      ]
     },
     "execution_count": 53,
     "metadata": {},
     "output_type": "execute_result"
    }
   ],
   "source": [
    "%viz --style=\"ORTHOLINE\" --view=\"State\" \"ActionTest\""
   ]
  },
  {
   "cell_type": "code",
   "execution_count": 54,
   "id": "hearing-sleep",
   "metadata": {
    "execution": {
     "iopub.execute_input": "2021-03-25T09:27:42.456766Z",
     "iopub.status.busy": "2021-03-25T09:27:42.456214Z",
     "iopub.status.idle": "2021-03-25T09:27:42.529404Z",
     "shell.execute_reply": "2021-03-25T09:27:42.529063Z"
    }
   },
   "outputs": [
    {
     "data": {
      "image/svg+xml": [
       "<?xml version=\"1.0\" encoding=\"UTF-8\" standalone=\"no\"?><svg xmlns=\"http://www.w3.org/2000/svg\" xmlns:xlink=\"http://www.w3.org/1999/xlink\" contentScriptType=\"application/ecmascript\" contentStyleType=\"text/css\" height=\"209px\" preserveAspectRatio=\"none\" style=\"width:296px;height:209px;\" version=\"1.1\" viewBox=\"0 0 296 209\" width=\"296px\" zoomAndPan=\"magnify\"><defs/><g><!--MD5=[fbc87193dbaf4d95561dea2c320d4a47]\n",
       "cluster E1--><a href=\"psysml:474d0406-5e3d-47be-b798-32d1cf114728\" target=\"_top\" title=\"psysml:474d0406-5e3d-47be-b798-32d1cf114728\" xlink:actuate=\"onRequest\" xlink:href=\"psysml:474d0406-5e3d-47be-b798-32d1cf114728\" xlink:show=\"new\" xlink:title=\"psysml:474d0406-5e3d-47be-b798-32d1cf114728\" xlink:type=\"simple\"><polygon fill=\"#FFFFFF\" points=\"16,6,107,6,114,28.2969,274,28.2969,274,197,16,197,16,6\" style=\"stroke: #000000; stroke-width: 1.5;\"/><line style=\"stroke: #000000; stroke-width: 1.5;\" x1=\"16\" x2=\"114\" y1=\"28.2969\" y2=\"28.2969\"/><text fill=\"#000000\" font-family=\"sans-serif\" font-size=\"14\" font-weight=\"bold\" lengthAdjust=\"spacingAndGlyphs\" textLength=\"85\" x=\"20\" y=\"20.9951\">ActionTest</text></a><!--MD5=[e4f7fae6ed58524ba242bb0b0d3be6b7]\n",
       "cluster E2--><a href=\"psysml:541513c5-2792-4586-9963-ba9e65ac733f\" target=\"_top\" title=\"psysml:541513c5-2792-4586-9963-ba9e65ac733f\" xlink:actuate=\"onRequest\" xlink:href=\"psysml:541513c5-2792-4586-9963-ba9e65ac733f\" xlink:show=\"new\" xlink:title=\"psysml:541513c5-2792-4586-9963-ba9e65ac733f\" xlink:type=\"simple\"><rect fill=\"#FFFFFF\" height=\"124\" id=\"E2\" rx=\"10\" ry=\"10\" style=\"stroke: #383838; stroke-width: 1.5;\" width=\"210\" x=\"40\" y=\"49\"/><rect fill=\"#F8F8F8\" height=\"37.9375\" rx=\"10\" ry=\"10\" style=\"stroke: #F8F8F8; stroke-width: 1.5;\" width=\"210\" x=\"40\" y=\"49\"/><rect fill=\"#F8F8F8\" height=\"10\" style=\"stroke: #F8F8F8; stroke-width: 1.5;\" width=\"210\" x=\"40\" y=\"76.9375\"/><rect fill=\"none\" height=\"124\" id=\"E2\" rx=\"10\" ry=\"10\" style=\"stroke: #383838; stroke-width: 1.5;\" width=\"210\" x=\"40\" y=\"49\"/><text fill=\"#000000\" font-family=\"sans-serif\" font-size=\"12\" font-style=\"italic\" lengthAdjust=\"spacingAndGlyphs\" textLength=\"53\" x=\"118.5\" y=\"65.1387\">«action»</text><text fill=\"#000000\" font-family=\"sans-serif\" font-size=\"12\" lengthAdjust=\"spacingAndGlyphs\" textLength=\"8\" x=\"141\" y=\"79.1074\">a</text><line style=\"stroke: #383838; stroke-width: 1.0;\" x1=\"40\" x2=\"250\" y1=\"86.9375\" y2=\"86.9375\"/></a><g id=\"E1.E2.E3\"><a href=\"psysml:09db3787-c9b3-4480-a102-0b64206fad8b\" target=\"_top\" title=\"psysml:09db3787-c9b3-4480-a102-0b64206fad8b\" xlink:actuate=\"onRequest\" xlink:href=\"psysml:09db3787-c9b3-4480-a102-0b64206fad8b\" xlink:show=\"new\" xlink:title=\"psysml:09db3787-c9b3-4480-a102-0b64206fad8b\" xlink:type=\"simple\"><rect fill=\"#FFFFFF\" height=\"56.9063\" id=\"E3\" rx=\"10\" ry=\"10\" style=\"stroke: #383838; stroke-width: 1.5;\" width=\"178\" x=\"56\" y=\"100\"/><rect fill=\"#F8F8F8\" height=\"51.9063\" rx=\"10\" ry=\"10\" style=\"stroke: #F8F8F8; stroke-width: 1.5;\" width=\"178\" x=\"56\" y=\"100\"/><rect fill=\"#F8F8F8\" height=\"10\" style=\"stroke: #F8F8F8; stroke-width: 1.5;\" width=\"178\" x=\"56\" y=\"141.9063\"/><rect fill=\"none\" height=\"56.9063\" id=\"E3\" rx=\"10\" ry=\"10\" style=\"stroke: #383838; stroke-width: 1.5;\" width=\"178\" x=\"56\" y=\"100\"/><text fill=\"#000000\" font-family=\"sans-serif\" font-size=\"12\" font-style=\"italic\" lengthAdjust=\"spacingAndGlyphs\" textLength=\"53\" x=\"118.5\" y=\"116.1387\">«action»</text><text fill=\"#000000\" font-family=\"sans-serif\" font-size=\"12\" lengthAdjust=\"spacingAndGlyphs\" textLength=\"77\" x=\"106.5\" y=\"130.1074\">start: Action</text><text fill=\"#000000\" font-family=\"sans-serif\" font-size=\"12\" font-style=\"italic\" lengthAdjust=\"spacingAndGlyphs\" textLength=\"163\" x=\"61.5\" y=\"144.0762\">:&gt;&gt;Occurrence::startShot</text><text fill=\"#000000\" font-family=\"sans-serif\" font-size=\"12\" lengthAdjust=\"spacingAndGlyphs\" textLength=\"0\" x=\"228.5\" y=\"144.0762\"/></a></g><!--MD5=[7ffc40dd06af518a8fa30525a5ca0eca]\n",
       "@startuml\r\n",
       "skinparam ranksep 8\r\n",
       "skinparam rectangle {\r\n",
       " backgroundColor<<block>> LightGreen\r\n",
       "}\r\n",
       "skinparam linetype ortho\r\n",
       "skinparam monochrome true\r\n",
       "skinparam classbackgroundcolor white\r\n",
       "skinparam shadowing false\r\n",
       "skinparam wrapWidth 300\r\n",
       "hide circle\r\n",
       "\r\n",
       "package \"ActionTest\" as E1  [[psysml:474d0406-5e3d-47be-b798-32d1cf114728 ]]  {\r\n",
       "rec usage \"a\" as E2  <<(T,blue)action>> [[psysml:541513c5-2792-4586-9963-ba9e65ac733f ]] {\r\n",
       "rec usage \"start: Action\\n//:>>Occurrence::startShot// \" as E3  <<(T,blue)action>> [[psysml:09db3787-c9b3-4480-a102-0b64206fad8b ]] {\r\n",
       "}\r\n",
       "}\r\n",
       "}\r\n",
       "@enduml\r\n",
       "\n",
       "PlantUML version 1.2020.13(Sat Jun 13 12:26:38 UTC 2020)\n",
       "(EPL source distribution)\n",
       "Java Runtime: OpenJDK Runtime Environment\n",
       "JVM: OpenJDK 64-Bit Server VM\n",
       "Default Encoding: UTF-8\n",
       "Language: en\n",
       "Country: null\n",
       "--></g></svg>"
      ]
     },
     "execution_count": 54,
     "metadata": {},
     "output_type": "execute_result"
    }
   ],
   "source": [
    "%viz --style=\"ORTHOLINE\" --view=\"Interconnection\" \"ActionTest\""
   ]
  },
  {
   "cell_type": "code",
   "execution_count": 55,
   "id": "statutory-diagram",
   "metadata": {
    "execution": {
     "iopub.execute_input": "2021-03-25T09:27:42.580364Z",
     "iopub.status.busy": "2021-03-25T09:27:42.579887Z",
     "iopub.status.idle": "2021-03-25T09:27:42.631307Z",
     "shell.execute_reply": "2021-03-25T09:27:42.630957Z"
    }
   },
   "outputs": [
    {
     "data": {
      "image/svg+xml": [
       "<?xml version=\"1.0\" encoding=\"UTF-8\" standalone=\"no\"?><svg xmlns=\"http://www.w3.org/2000/svg\" xmlns:xlink=\"http://www.w3.org/1999/xlink\" contentScriptType=\"application/ecmascript\" contentStyleType=\"text/css\" height=\"128px\" preserveAspectRatio=\"none\" style=\"width:111px;height:128px;\" version=\"1.1\" viewBox=\"0 0 111 128\" width=\"111px\" zoomAndPan=\"magnify\"><defs/><g><!--MD5=[fbc87193dbaf4d95561dea2c320d4a47]\n",
       "cluster E1--><a href=\"psysml:541513c5-2792-4586-9963-ba9e65ac733f\" target=\"_top\" title=\"psysml:541513c5-2792-4586-9963-ba9e65ac733f\" xlink:actuate=\"onRequest\" xlink:href=\"psysml:541513c5-2792-4586-9963-ba9e65ac733f\" xlink:show=\"new\" xlink:title=\"psysml:541513c5-2792-4586-9963-ba9e65ac733f\" xlink:type=\"simple\"><rect fill=\"#FFFFFF\" height=\"110\" id=\"E1\" rx=\"10\" ry=\"10\" style=\"stroke: #383838; stroke-width: 1.5;\" width=\"92\" x=\"7\" y=\"7\"/><rect fill=\"#F8F8F8\" height=\"37.9375\" rx=\"10\" ry=\"10\" style=\"stroke: #F8F8F8; stroke-width: 1.5;\" width=\"92\" x=\"7\" y=\"7\"/><rect fill=\"#F8F8F8\" height=\"10\" style=\"stroke: #F8F8F8; stroke-width: 1.5;\" width=\"92\" x=\"7\" y=\"34.9375\"/><rect fill=\"none\" height=\"110\" id=\"E1\" rx=\"10\" ry=\"10\" style=\"stroke: #383838; stroke-width: 1.5;\" width=\"92\" x=\"7\" y=\"7\"/><text fill=\"#000000\" font-family=\"sans-serif\" font-size=\"12\" font-style=\"italic\" lengthAdjust=\"spacingAndGlyphs\" textLength=\"53\" x=\"26.5\" y=\"23.1387\">«action»</text><text fill=\"#000000\" font-family=\"sans-serif\" font-size=\"12\" lengthAdjust=\"spacingAndGlyphs\" textLength=\"8\" x=\"49\" y=\"37.1074\">a</text><line style=\"stroke: #383838; stroke-width: 1.0;\" x1=\"7\" x2=\"99\" y1=\"44.9375\" y2=\"44.9375\"/></a><g id=\"E1.E2\"><a href=\"psysml:09db3787-c9b3-4480-a102-0b64206fad8b\" target=\"_top\" title=\"psysml:09db3787-c9b3-4480-a102-0b64206fad8b\" xlink:actuate=\"onRequest\" xlink:href=\"psysml:09db3787-c9b3-4480-a102-0b64206fad8b\" xlink:show=\"new\" xlink:title=\"psysml:09db3787-c9b3-4480-a102-0b64206fad8b\" xlink:type=\"simple\"><rect fill=\"#FFFFFF\" height=\"42.9375\" id=\"E2\" rx=\"10\" ry=\"10\" style=\"stroke: #383838; stroke-width: 1.5;\" width=\"60\" x=\"23\" y=\"58\"/><rect fill=\"#F8F8F8\" height=\"37.9375\" rx=\"10\" ry=\"10\" style=\"stroke: #F8F8F8; stroke-width: 1.5;\" width=\"60\" x=\"23\" y=\"58\"/><rect fill=\"#F8F8F8\" height=\"10\" style=\"stroke: #F8F8F8; stroke-width: 1.5;\" width=\"60\" x=\"23\" y=\"85.9375\"/><rect fill=\"none\" height=\"42.9375\" id=\"E2\" rx=\"10\" ry=\"10\" style=\"stroke: #383838; stroke-width: 1.5;\" width=\"60\" x=\"23\" y=\"58\"/><text fill=\"#000000\" font-family=\"sans-serif\" font-size=\"12\" font-style=\"italic\" lengthAdjust=\"spacingAndGlyphs\" textLength=\"53\" x=\"26.5\" y=\"74.1387\">«action»</text><text fill=\"#000000\" font-family=\"sans-serif\" font-size=\"12\" lengthAdjust=\"spacingAndGlyphs\" textLength=\"30\" x=\"38\" y=\"88.1074\">start</text></a></g><!--MD5=[8a8566d556376ba2a41ecc3c812bc771]\n",
       "@startuml\r\n",
       "skinparam ranksep 8\r\n",
       "skinparam linetype ortho\r\n",
       "skinparam monochrome true\r\n",
       "skinparam classbackgroundcolor white\r\n",
       "skinparam shadowing false\r\n",
       "skinparam wrapWidth 300\r\n",
       "hide circle\r\n",
       "\r\n",
       "rec usage \"a\" as E1  <<(T,blue)action>> [[psysml:541513c5-2792-4586-9963-ba9e65ac733f ]] {\r\n",
       "rec usage \"start\" as E2  <<(T,blue)action>> [[psysml:09db3787-c9b3-4480-a102-0b64206fad8b ]] {\r\n",
       "}\r\n",
       "\r\n",
       "}\r\n",
       "\r\n",
       "@enduml\r\n",
       "\n",
       "PlantUML version 1.2020.13(Sat Jun 13 12:26:38 UTC 2020)\n",
       "(EPL source distribution)\n",
       "Java Runtime: OpenJDK Runtime Environment\n",
       "JVM: OpenJDK 64-Bit Server VM\n",
       "Default Encoding: UTF-8\n",
       "Language: en\n",
       "Country: null\n",
       "--></g></svg>"
      ]
     },
     "execution_count": 55,
     "metadata": {},
     "output_type": "execute_result"
    }
   ],
   "source": [
    "%viz --style=\"ORTHOLINE\" --view=\"Action\" \"ActionTest\""
   ]
  },
  {
   "cell_type": "code",
   "execution_count": 56,
   "id": "wooden-mother",
   "metadata": {
    "execution": {
     "iopub.execute_input": "2021-03-25T09:27:42.683176Z",
     "iopub.status.busy": "2021-03-25T09:27:42.682404Z",
     "iopub.status.idle": "2021-03-25T09:27:43.162235Z",
     "shell.execute_reply": "2021-03-25T09:27:43.161855Z"
    }
   },
   "outputs": [
    {
     "data": {
      "image/svg+xml": [
       "<?xml version=\"1.0\" encoding=\"UTF-8\" standalone=\"no\"?><svg xmlns=\"http://www.w3.org/2000/svg\" xmlns:xlink=\"http://www.w3.org/1999/xlink\" contentScriptType=\"application/ecmascript\" contentStyleType=\"text/css\" height=\"157px\" preserveAspectRatio=\"none\" style=\"width:230px;height:157px;\" version=\"1.1\" viewBox=\"0 0 230 157\" width=\"230px\" zoomAndPan=\"magnify\"><defs/><g><!--MD5=[fbc87193dbaf4d95561dea2c320d4a47]\n",
       "cluster E1--><a href=\"psysml:474d0406-5e3d-47be-b798-32d1cf114728\" target=\"_top\" title=\"psysml:474d0406-5e3d-47be-b798-32d1cf114728\" xlink:actuate=\"onRequest\" xlink:href=\"psysml:474d0406-5e3d-47be-b798-32d1cf114728\" xlink:show=\"new\" xlink:title=\"psysml:474d0406-5e3d-47be-b798-32d1cf114728\" xlink:type=\"simple\"><polygon fill=\"#FFFFFF\" points=\"16,6,107,6,114,28.2969,208,28.2969,208,145,16,145,16,6\" style=\"stroke: #000000; stroke-width: 1.5;\"/><line style=\"stroke: #000000; stroke-width: 1.5;\" x1=\"16\" x2=\"114\" y1=\"28.2969\" y2=\"28.2969\"/><text fill=\"#000000\" font-family=\"sans-serif\" font-size=\"14\" font-weight=\"bold\" lengthAdjust=\"spacingAndGlyphs\" textLength=\"85\" x=\"20\" y=\"20.9951\">ActionTest</text></a><!--MD5=[b4997ac47864f28c2f74865a473b2911]\n",
       "class E2--><a href=\"psysml:541513c5-2792-4586-9963-ba9e65ac733f\" target=\"_top\" title=\"psysml:541513c5-2792-4586-9963-ba9e65ac733f\" xlink:actuate=\"onRequest\" xlink:href=\"psysml:541513c5-2792-4586-9963-ba9e65ac733f\" xlink:show=\"new\" xlink:title=\"psysml:541513c5-2792-4586-9963-ba9e65ac733f\" xlink:type=\"simple\"><rect fill=\"#FFFFFF\" height=\"88.3516\" id=\"E2\" rx=\"10\" ry=\"10\" style=\"stroke: #383838; stroke-width: 1.5;\" width=\"160\" x=\"32\" y=\"41\"/><text fill=\"#000000\" font-family=\"sans-serif\" font-size=\"12\" font-style=\"italic\" lengthAdjust=\"spacingAndGlyphs\" textLength=\"53\" x=\"85.5\" y=\"57.1387\">«action»</text><text fill=\"#000000\" font-family=\"sans-serif\" font-size=\"12\" lengthAdjust=\"spacingAndGlyphs\" textLength=\"8\" x=\"108\" y=\"71.1074\">a</text><line style=\"stroke: #383838; stroke-width: 1.5;\" x1=\"33\" x2=\"191\" y1=\"78.9375\" y2=\"78.9375\"/><text fill=\"#000000\" font-family=\"sans-serif\" font-size=\"11\" lengthAdjust=\"spacingAndGlyphs\" textLength=\"69\" x=\"38\" y=\"109.9526\">start: Action</text><text fill=\"#000000\" font-family=\"sans-serif\" font-size=\"11\" font-style=\"italic\" lengthAdjust=\"spacingAndGlyphs\" textLength=\"148\" x=\"38\" y=\"122.7573\">:&gt;&gt;Occurrence::startShot</text><line style=\"stroke: #383838; stroke-width: 1.0;\" x1=\"33\" x2=\"91.5\" y1=\"93.3398\" y2=\"93.3398\"/><text fill=\"#000000\" font-family=\"sans-serif\" font-size=\"11\" lengthAdjust=\"spacingAndGlyphs\" textLength=\"41\" x=\"91.5\" y=\"96.6479\">actions</text><line style=\"stroke: #383838; stroke-width: 1.0;\" x1=\"132.5\" x2=\"191\" y1=\"93.3398\" y2=\"93.3398\"/></a><!--MD5=[29bb57043cdc2b5f7ef81e92ba195cb1]\n",
       "@startuml\r\n",
       "skinparam linetype ortho\r\n",
       "skinparam monochrome true\r\n",
       "skinparam classbackgroundcolor white\r\n",
       "skinparam shadowing false\r\n",
       "skinparam wrapWidth 300\r\n",
       "hide circle\r\n",
       "\r\n",
       "package \"ActionTest\" as E1  [[psysml:474d0406-5e3d-47be-b798-32d1cf114728 ]]  {\r\n",
       "comp usage \"a\" as E2  <<(T,blue)action>> [[psysml:541513c5-2792-4586-9963-ba9e65ac733f ]] {\r\n",
       "- - actions - -\r\n",
       "start: Action\\n//:>>Occurrence::startShot// \r\n",
       "}\r\n",
       "}\r\n",
       "@enduml\r\n",
       "\n",
       "PlantUML version 1.2020.13(Sat Jun 13 12:26:38 UTC 2020)\n",
       "(EPL source distribution)\n",
       "Java Runtime: OpenJDK Runtime Environment\n",
       "JVM: OpenJDK 64-Bit Server VM\n",
       "Default Encoding: UTF-8\n",
       "Language: en\n",
       "Country: null\n",
       "--></g></svg>"
      ]
     },
     "execution_count": 56,
     "metadata": {},
     "output_type": "execute_result"
    }
   ],
   "source": [
    "%viz --style=\"ORTHOLINE\" --view=\"Sequence\" \"ActionTest\""
   ]
  },
  {
   "cell_type": "code",
   "execution_count": 57,
   "id": "experienced-audit",
   "metadata": {
    "execution": {
     "iopub.execute_input": "2021-03-25T09:27:43.213690Z",
     "iopub.status.busy": "2021-03-25T09:27:43.213180Z",
     "iopub.status.idle": "2021-03-25T09:27:43.276592Z",
     "shell.execute_reply": "2021-03-25T09:27:43.276257Z"
    }
   },
   "outputs": [
    {
     "data": {
      "image/svg+xml": [
       "<?xml version=\"1.0\" encoding=\"UTF-8\" standalone=\"no\"?><svg xmlns=\"http://www.w3.org/2000/svg\" xmlns:xlink=\"http://www.w3.org/1999/xlink\" contentScriptType=\"application/ecmascript\" contentStyleType=\"text/css\" height=\"195px\" preserveAspectRatio=\"none\" style=\"width:178px;height:195px;\" version=\"1.1\" viewBox=\"0 0 178 195\" width=\"178px\" zoomAndPan=\"magnify\"><defs/><g><!--MD5=[fbc87193dbaf4d95561dea2c320d4a47]\n",
       "cluster E1--><a href=\"psysml:474d0406-5e3d-47be-b798-32d1cf114728\" target=\"_top\" title=\"psysml:474d0406-5e3d-47be-b798-32d1cf114728\" xlink:actuate=\"onRequest\" xlink:href=\"psysml:474d0406-5e3d-47be-b798-32d1cf114728\" xlink:show=\"new\" xlink:title=\"psysml:474d0406-5e3d-47be-b798-32d1cf114728\" xlink:type=\"simple\"><polygon fill=\"#FFFFFF\" points=\"16,6,107,6,114,28.2969,156,28.2969,156,183,16,183,16,6\" style=\"stroke: #000000; stroke-width: 1.5;\"/><line style=\"stroke: #000000; stroke-width: 1.5;\" x1=\"16\" x2=\"114\" y1=\"28.2969\" y2=\"28.2969\"/><text fill=\"#000000\" font-family=\"sans-serif\" font-size=\"14\" font-weight=\"bold\" lengthAdjust=\"spacingAndGlyphs\" textLength=\"85\" x=\"20\" y=\"20.9951\">ActionTest</text></a><!--MD5=[e4f7fae6ed58524ba242bb0b0d3be6b7]\n",
       "cluster E2--><a href=\"psysml:541513c5-2792-4586-9963-ba9e65ac733f\" target=\"_top\" title=\"psysml:541513c5-2792-4586-9963-ba9e65ac733f\" xlink:actuate=\"onRequest\" xlink:href=\"psysml:541513c5-2792-4586-9963-ba9e65ac733f\" xlink:show=\"new\" xlink:title=\"psysml:541513c5-2792-4586-9963-ba9e65ac733f\" xlink:type=\"simple\"><rect fill=\"#FFFFFF\" height=\"110\" id=\"E2\" rx=\"10\" ry=\"10\" style=\"stroke: #383838; stroke-width: 1.5;\" width=\"92\" x=\"40\" y=\"49\"/><rect fill=\"#F8F8F8\" height=\"37.9375\" rx=\"10\" ry=\"10\" style=\"stroke: #F8F8F8; stroke-width: 1.5;\" width=\"92\" x=\"40\" y=\"49\"/><rect fill=\"#F8F8F8\" height=\"10\" style=\"stroke: #F8F8F8; stroke-width: 1.5;\" width=\"92\" x=\"40\" y=\"76.9375\"/><rect fill=\"none\" height=\"110\" id=\"E2\" rx=\"10\" ry=\"10\" style=\"stroke: #383838; stroke-width: 1.5;\" width=\"92\" x=\"40\" y=\"49\"/><text fill=\"#000000\" font-family=\"sans-serif\" font-size=\"12\" font-style=\"italic\" lengthAdjust=\"spacingAndGlyphs\" textLength=\"53\" x=\"59.5\" y=\"65.1387\">«action»</text><text fill=\"#000000\" font-family=\"sans-serif\" font-size=\"12\" lengthAdjust=\"spacingAndGlyphs\" textLength=\"8\" x=\"82\" y=\"79.1074\">a</text><line style=\"stroke: #383838; stroke-width: 1.0;\" x1=\"40\" x2=\"132\" y1=\"86.9375\" y2=\"86.9375\"/></a><g id=\"E1.E2.E3\"><a href=\"psysml:09db3787-c9b3-4480-a102-0b64206fad8b\" target=\"_top\" title=\"psysml:09db3787-c9b3-4480-a102-0b64206fad8b\" xlink:actuate=\"onRequest\" xlink:href=\"psysml:09db3787-c9b3-4480-a102-0b64206fad8b\" xlink:show=\"new\" xlink:title=\"psysml:09db3787-c9b3-4480-a102-0b64206fad8b\" xlink:type=\"simple\"><rect fill=\"#FFFFFF\" height=\"42.9375\" id=\"E3\" rx=\"10\" ry=\"10\" style=\"stroke: #383838; stroke-width: 1.5;\" width=\"60\" x=\"56\" y=\"100\"/><rect fill=\"#F8F8F8\" height=\"37.9375\" rx=\"10\" ry=\"10\" style=\"stroke: #F8F8F8; stroke-width: 1.5;\" width=\"60\" x=\"56\" y=\"100\"/><rect fill=\"#F8F8F8\" height=\"10\" style=\"stroke: #F8F8F8; stroke-width: 1.5;\" width=\"60\" x=\"56\" y=\"127.9375\"/><rect fill=\"none\" height=\"42.9375\" id=\"E3\" rx=\"10\" ry=\"10\" style=\"stroke: #383838; stroke-width: 1.5;\" width=\"60\" x=\"56\" y=\"100\"/><text fill=\"#000000\" font-family=\"sans-serif\" font-size=\"12\" font-style=\"italic\" lengthAdjust=\"spacingAndGlyphs\" textLength=\"53\" x=\"59.5\" y=\"116.1387\">«action»</text><text fill=\"#000000\" font-family=\"sans-serif\" font-size=\"12\" lengthAdjust=\"spacingAndGlyphs\" textLength=\"30\" x=\"71\" y=\"130.1074\">start</text></a></g><!--MD5=[4ff19a40fbcdc343c4bcc24325fa4a64]\n",
       "@startuml\r\n",
       "skinparam linetype ortho\r\n",
       "skinparam monochrome true\r\n",
       "skinparam classbackgroundcolor white\r\n",
       "skinparam shadowing false\r\n",
       "skinparam wrapWidth 300\r\n",
       "hide circle\r\n",
       "\r\n",
       "package \"ActionTest\" as E1  [[psysml:474d0406-5e3d-47be-b798-32d1cf114728 ]]  {\r\n",
       "rec usage \"a\" as E2  <<(T,blue)action>> [[psysml:541513c5-2792-4586-9963-ba9e65ac733f ]] {\r\n",
       "rec usage \"start\" as E3  <<(T,blue)action>> [[psysml:09db3787-c9b3-4480-a102-0b64206fad8b ]] {\r\n",
       "}\r\n",
       "\r\n",
       "}\r\n",
       "\r\n",
       "}\r\n",
       "@enduml\r\n",
       "\n",
       "PlantUML version 1.2020.13(Sat Jun 13 12:26:38 UTC 2020)\n",
       "(EPL source distribution)\n",
       "Java Runtime: OpenJDK Runtime Environment\n",
       "JVM: OpenJDK 64-Bit Server VM\n",
       "Default Encoding: UTF-8\n",
       "Language: en\n",
       "Country: null\n",
       "--></g></svg>"
      ]
     },
     "execution_count": 57,
     "metadata": {},
     "output_type": "execute_result"
    }
   ],
   "source": [
    "%viz --style=\"ORTHOLINE\" --view=\"MIXED\" \"ActionTest\""
   ]
  }
 ],
 "metadata": {
  "kernelspec": {
   "display_name": "SysML",
   "language": "sysml",
   "name": "sysml"
  },
  "language_info": {
   "codemirror_mode": "sysml",
   "file_extension": ".sysml",
   "mimetype": "text/x-sysml",
   "name": "SysML",
   "pygments_lexer": "java",
   "version": "1.0.0"
  }
 },
 "nbformat": 4,
 "nbformat_minor": 5
}
