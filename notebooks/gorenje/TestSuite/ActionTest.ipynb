{
 "cells": [
  {
   "cell_type": "markdown",
   "id": "stupid-purple",
   "metadata": {},
   "source": [
    "# SysML v2 Test Suite\n",
    "\n",
    "This can notebook can be cleared using menu `Edit --> Clear All Outputs` and then all cells can be\n",
    "run using menu `Run --> Run All Cells`.\n",
    "\n",
    "**WARNING**: This file is generated, all modifications here will be ignored.\n"
   ]
  },
  {
   "cell_type": "markdown",
   "id": "alternate-decimal",
   "metadata": {},
   "source": [
    "## File: ../../sysml/src/examples/Simple Tests/ActionTest.sysml"
   ]
  },
  {
   "cell_type": "code",
   "execution_count": 1,
   "id": "handed-secret",
   "metadata": {
    "execution": {
     "iopub.execute_input": "2021-03-26T09:41:31.401010Z",
     "iopub.status.busy": "2021-03-26T09:41:31.400102Z",
     "iopub.status.idle": "2021-03-26T09:41:31.523986Z",
     "shell.execute_reply": "2021-03-26T09:41:31.523420Z"
    }
   },
   "outputs": [
    {
     "data": {
      "text/plain": [
       "Package ActionTest (6b8f9931-de87-49be-a7fd-daf5e7417db2)\n"
      ]
     },
     "execution_count": 1,
     "metadata": {},
     "output_type": "execute_result"
    }
   ],
   "source": [
    "package ActionTest {\n",
    "\taction a { \n",
    "\t\tfirst start;\n",
    "\t}\n",
    "\t\n",
    "}"
   ]
  },
  {
   "cell_type": "code",
   "execution_count": 2,
   "id": "relevant-folks",
   "metadata": {
    "execution": {
     "iopub.execute_input": "2021-03-26T09:41:31.575064Z",
     "iopub.status.busy": "2021-03-26T09:41:31.574696Z",
     "iopub.status.idle": "2021-03-26T09:41:31.583316Z",
     "shell.execute_reply": "2021-03-26T09:41:31.583682Z"
    }
   },
   "outputs": [
    {
     "data": {
      "text/plain": [
       "java.lang.IllegalArgumentException: Invalid Style: COMPTREE Possible styles: POLYLINE, LR, STDCOLOR, PLANTUML, DEFAULT, TB, ORTHOLINE\n",
       "\tat org.omg.sysml.plantuml.SysML2PlantUMLStyle.get(SysML2PlantUMLStyle.java:258)\n",
       "\tat org.omg.sysml.plantuml.SysML2PlantUMLSvc.applyStyle(SysML2PlantUMLSvc.java:73)\n",
       "\tat org.omg.sysml.plantuml.SysML2PlantUMLSvc.getPlantUMLCode(SysML2PlantUMLSvc.java:88)\n",
       "\tat org.omg.sysml.plantuml.SysML2PlantUMLSvc.getSVG(SysML2PlantUMLSvc.java:99)\n",
       "\tat org.omg.sysml.interactive.SysMLInteractive.viz(SysMLInteractive.java:294)\n",
       "\tat org.omg.sysml.jupyter.kernel.magic.Viz.viz(Viz.java:47)\n",
       "\tat java.base/jdk.internal.reflect.NativeMethodAccessorImpl.invoke0(Native Method)\n",
       "\tat java.base/jdk.internal.reflect.NativeMethodAccessorImpl.invoke(NativeMethodAccessorImpl.java:78)\n",
       "\tat java.base/jdk.internal.reflect.DelegatingMethodAccessorImpl.invoke(DelegatingMethodAccessorImpl.java:43)\n",
       "\tat java.base/java.lang.reflect.Method.invoke(Method.java:568)\n",
       "\tat io.github.spencerpark.jupyter.kernel.magic.registry.Magics.invoke(Magics.java:89)\n",
       "\tat io.github.spencerpark.jupyter.kernel.magic.registry.Magics.access$000(Magics.java:8)\n",
       "\tat io.github.spencerpark.jupyter.kernel.magic.registry.Magics$LineReflectionMagicFunction.execute(Magics.java:149)\n",
       "\tat io.github.spencerpark.jupyter.kernel.magic.registry.Magics.applyLineMagic(Magics.java:26)\n",
       "\tat org.omg.sysml.jupyter.kernel.SysMLKernel.eval(SysMLKernel.java:76)\n",
       "\tat io.github.spencerpark.jupyter.kernel.BaseKernel.handleExecuteRequest(BaseKernel.java:334)\n",
       "\tat io.github.spencerpark.jupyter.channels.ShellChannel.lambda$bind$0(ShellChannel.java:64)\n",
       "\tat io.github.spencerpark.jupyter.channels.Loop.lambda$new$0(Loop.java:21)\n",
       "\tat io.github.spencerpark.jupyter.channels.Loop.run(Loop.java:78)\n"
      ]
     },
     "execution_count": 2,
     "metadata": {},
     "output_type": "execute_result"
    }
   ],
   "source": [
    "%viz --style=\"COMPTREE\" --view=\"Default\" \"ActionTest\""
   ]
  },
  {
   "cell_type": "code",
   "execution_count": 3,
   "id": "duplicate-burton",
   "metadata": {
    "execution": {
     "iopub.execute_input": "2021-03-26T09:41:31.634542Z",
     "iopub.status.busy": "2021-03-26T09:41:31.634201Z",
     "iopub.status.idle": "2021-03-26T09:41:31.640709Z",
     "shell.execute_reply": "2021-03-26T09:41:31.639515Z"
    }
   },
   "outputs": [
    {
     "data": {
      "text/plain": [
       "java.lang.IllegalArgumentException: Invalid Style: COMPTREE Possible styles: POLYLINE, LR, STDCOLOR, PLANTUML, DEFAULT, TB, ORTHOLINE\n",
       "\tat org.omg.sysml.plantuml.SysML2PlantUMLStyle.get(SysML2PlantUMLStyle.java:258)\n",
       "\tat org.omg.sysml.plantuml.SysML2PlantUMLSvc.applyStyle(SysML2PlantUMLSvc.java:73)\n",
       "\tat org.omg.sysml.plantuml.SysML2PlantUMLSvc.getPlantUMLCode(SysML2PlantUMLSvc.java:88)\n",
       "\tat org.omg.sysml.plantuml.SysML2PlantUMLSvc.getSVG(SysML2PlantUMLSvc.java:99)\n",
       "\tat org.omg.sysml.interactive.SysMLInteractive.viz(SysMLInteractive.java:294)\n",
       "\tat org.omg.sysml.jupyter.kernel.magic.Viz.viz(Viz.java:47)\n",
       "\tat java.base/jdk.internal.reflect.NativeMethodAccessorImpl.invoke0(Native Method)\n",
       "\tat java.base/jdk.internal.reflect.NativeMethodAccessorImpl.invoke(NativeMethodAccessorImpl.java:78)\n",
       "\tat java.base/jdk.internal.reflect.DelegatingMethodAccessorImpl.invoke(DelegatingMethodAccessorImpl.java:43)\n",
       "\tat java.base/java.lang.reflect.Method.invoke(Method.java:568)\n",
       "\tat io.github.spencerpark.jupyter.kernel.magic.registry.Magics.invoke(Magics.java:89)\n",
       "\tat io.github.spencerpark.jupyter.kernel.magic.registry.Magics.access$000(Magics.java:8)\n",
       "\tat io.github.spencerpark.jupyter.kernel.magic.registry.Magics$LineReflectionMagicFunction.execute(Magics.java:149)\n",
       "\tat io.github.spencerpark.jupyter.kernel.magic.registry.Magics.applyLineMagic(Magics.java:26)\n",
       "\tat org.omg.sysml.jupyter.kernel.SysMLKernel.eval(SysMLKernel.java:76)\n",
       "\tat io.github.spencerpark.jupyter.kernel.BaseKernel.handleExecuteRequest(BaseKernel.java:334)\n",
       "\tat io.github.spencerpark.jupyter.channels.ShellChannel.lambda$bind$0(ShellChannel.java:64)\n",
       "\tat io.github.spencerpark.jupyter.channels.Loop.lambda$new$0(Loop.java:21)\n",
       "\tat io.github.spencerpark.jupyter.channels.Loop.run(Loop.java:78)\n"
      ]
     },
     "execution_count": 3,
     "metadata": {},
     "output_type": "execute_result"
    }
   ],
   "source": [
    "%viz --style=\"COMPTREE\" --view=\"Tree\" \"ActionTest\""
   ]
  },
  {
   "cell_type": "code",
   "execution_count": 4,
   "id": "animal-auckland",
   "metadata": {
    "execution": {
     "iopub.execute_input": "2021-03-26T09:41:31.692958Z",
     "iopub.status.busy": "2021-03-26T09:41:31.692426Z",
     "iopub.status.idle": "2021-03-26T09:41:31.695914Z",
     "shell.execute_reply": "2021-03-26T09:41:31.695485Z"
    }
   },
   "outputs": [
    {
     "data": {
      "text/plain": [
       "java.lang.IllegalArgumentException: Invalid View: State View candidates are: Default Tree StateMachine Interconnection Activity Sequence MIXED \n",
       "\tat org.omg.sysml.plantuml.SysML2PlantUMLSvc.setView(SysML2PlantUMLSvc.java:63)\n",
       "\tat org.omg.sysml.interactive.SysMLInteractive.viz(SysMLInteractive.java:286)\n",
       "\tat org.omg.sysml.jupyter.kernel.magic.Viz.viz(Viz.java:47)\n",
       "\tat java.base/jdk.internal.reflect.NativeMethodAccessorImpl.invoke0(Native Method)\n",
       "\tat java.base/jdk.internal.reflect.NativeMethodAccessorImpl.invoke(NativeMethodAccessorImpl.java:78)\n",
       "\tat java.base/jdk.internal.reflect.DelegatingMethodAccessorImpl.invoke(DelegatingMethodAccessorImpl.java:43)\n",
       "\tat java.base/java.lang.reflect.Method.invoke(Method.java:568)\n",
       "\tat io.github.spencerpark.jupyter.kernel.magic.registry.Magics.invoke(Magics.java:89)\n",
       "\tat io.github.spencerpark.jupyter.kernel.magic.registry.Magics.access$000(Magics.java:8)\n",
       "\tat io.github.spencerpark.jupyter.kernel.magic.registry.Magics$LineReflectionMagicFunction.execute(Magics.java:149)\n",
       "\tat io.github.spencerpark.jupyter.kernel.magic.registry.Magics.applyLineMagic(Magics.java:26)\n",
       "\tat org.omg.sysml.jupyter.kernel.SysMLKernel.eval(SysMLKernel.java:76)\n",
       "\tat io.github.spencerpark.jupyter.kernel.BaseKernel.handleExecuteRequest(BaseKernel.java:334)\n",
       "\tat io.github.spencerpark.jupyter.channels.ShellChannel.lambda$bind$0(ShellChannel.java:64)\n",
       "\tat io.github.spencerpark.jupyter.channels.Loop.lambda$new$0(Loop.java:21)\n",
       "\tat io.github.spencerpark.jupyter.channels.Loop.run(Loop.java:78)\n"
      ]
     },
     "execution_count": 4,
     "metadata": {},
     "output_type": "execute_result"
    }
   ],
   "source": [
    "%viz --style=\"COMPTREE\" --view=\"State\" \"ActionTest\""
   ]
  },
  {
   "cell_type": "code",
   "execution_count": 5,
   "id": "aboriginal-jungle",
   "metadata": {
    "execution": {
     "iopub.execute_input": "2021-03-26T09:41:31.753369Z",
     "iopub.status.busy": "2021-03-26T09:41:31.751537Z",
     "iopub.status.idle": "2021-03-26T09:41:31.757237Z",
     "shell.execute_reply": "2021-03-26T09:41:31.757613Z"
    }
   },
   "outputs": [
    {
     "data": {
      "text/plain": [
       "java.lang.IllegalArgumentException: Invalid Style: COMPTREE Possible styles: POLYLINE, LR, STDCOLOR, PLANTUML, DEFAULT, TB, ORTHOLINE\n",
       "\tat org.omg.sysml.plantuml.SysML2PlantUMLStyle.get(SysML2PlantUMLStyle.java:258)\n",
       "\tat org.omg.sysml.plantuml.SysML2PlantUMLSvc.applyStyle(SysML2PlantUMLSvc.java:73)\n",
       "\tat org.omg.sysml.plantuml.SysML2PlantUMLSvc.getPlantUMLCode(SysML2PlantUMLSvc.java:88)\n",
       "\tat org.omg.sysml.plantuml.SysML2PlantUMLSvc.getSVG(SysML2PlantUMLSvc.java:99)\n",
       "\tat org.omg.sysml.interactive.SysMLInteractive.viz(SysMLInteractive.java:294)\n",
       "\tat org.omg.sysml.jupyter.kernel.magic.Viz.viz(Viz.java:47)\n",
       "\tat java.base/jdk.internal.reflect.NativeMethodAccessorImpl.invoke0(Native Method)\n",
       "\tat java.base/jdk.internal.reflect.NativeMethodAccessorImpl.invoke(NativeMethodAccessorImpl.java:78)\n",
       "\tat java.base/jdk.internal.reflect.DelegatingMethodAccessorImpl.invoke(DelegatingMethodAccessorImpl.java:43)\n",
       "\tat java.base/java.lang.reflect.Method.invoke(Method.java:568)\n",
       "\tat io.github.spencerpark.jupyter.kernel.magic.registry.Magics.invoke(Magics.java:89)\n",
       "\tat io.github.spencerpark.jupyter.kernel.magic.registry.Magics.access$000(Magics.java:8)\n",
       "\tat io.github.spencerpark.jupyter.kernel.magic.registry.Magics$LineReflectionMagicFunction.execute(Magics.java:149)\n",
       "\tat io.github.spencerpark.jupyter.kernel.magic.registry.Magics.applyLineMagic(Magics.java:26)\n",
       "\tat org.omg.sysml.jupyter.kernel.SysMLKernel.eval(SysMLKernel.java:76)\n",
       "\tat io.github.spencerpark.jupyter.kernel.BaseKernel.handleExecuteRequest(BaseKernel.java:334)\n",
       "\tat io.github.spencerpark.jupyter.channels.ShellChannel.lambda$bind$0(ShellChannel.java:64)\n",
       "\tat io.github.spencerpark.jupyter.channels.Loop.lambda$new$0(Loop.java:21)\n",
       "\tat io.github.spencerpark.jupyter.channels.Loop.run(Loop.java:78)\n"
      ]
     },
     "execution_count": 5,
     "metadata": {},
     "output_type": "execute_result"
    }
   ],
   "source": [
    "%viz --style=\"COMPTREE\" --view=\"Interconnection\" \"ActionTest\""
   ]
  },
  {
   "cell_type": "code",
   "execution_count": 6,
   "id": "suspected-worry",
   "metadata": {
    "execution": {
     "iopub.execute_input": "2021-03-26T09:41:31.810329Z",
     "iopub.status.busy": "2021-03-26T09:41:31.809811Z",
     "iopub.status.idle": "2021-03-26T09:41:31.812377Z",
     "shell.execute_reply": "2021-03-26T09:41:31.812888Z"
    }
   },
   "outputs": [
    {
     "data": {
      "text/plain": [
       "java.lang.IllegalArgumentException: Invalid View: Action View candidates are: Default Tree StateMachine Interconnection Activity Sequence MIXED \n",
       "\tat org.omg.sysml.plantuml.SysML2PlantUMLSvc.setView(SysML2PlantUMLSvc.java:63)\n",
       "\tat org.omg.sysml.interactive.SysMLInteractive.viz(SysMLInteractive.java:286)\n",
       "\tat org.omg.sysml.jupyter.kernel.magic.Viz.viz(Viz.java:47)\n",
       "\tat java.base/jdk.internal.reflect.NativeMethodAccessorImpl.invoke0(Native Method)\n",
       "\tat java.base/jdk.internal.reflect.NativeMethodAccessorImpl.invoke(NativeMethodAccessorImpl.java:78)\n",
       "\tat java.base/jdk.internal.reflect.DelegatingMethodAccessorImpl.invoke(DelegatingMethodAccessorImpl.java:43)\n",
       "\tat java.base/java.lang.reflect.Method.invoke(Method.java:568)\n",
       "\tat io.github.spencerpark.jupyter.kernel.magic.registry.Magics.invoke(Magics.java:89)\n",
       "\tat io.github.spencerpark.jupyter.kernel.magic.registry.Magics.access$000(Magics.java:8)\n",
       "\tat io.github.spencerpark.jupyter.kernel.magic.registry.Magics$LineReflectionMagicFunction.execute(Magics.java:149)\n",
       "\tat io.github.spencerpark.jupyter.kernel.magic.registry.Magics.applyLineMagic(Magics.java:26)\n",
       "\tat org.omg.sysml.jupyter.kernel.SysMLKernel.eval(SysMLKernel.java:76)\n",
       "\tat io.github.spencerpark.jupyter.kernel.BaseKernel.handleExecuteRequest(BaseKernel.java:334)\n",
       "\tat io.github.spencerpark.jupyter.channels.ShellChannel.lambda$bind$0(ShellChannel.java:64)\n",
       "\tat io.github.spencerpark.jupyter.channels.Loop.lambda$new$0(Loop.java:21)\n",
       "\tat io.github.spencerpark.jupyter.channels.Loop.run(Loop.java:78)\n"
      ]
     },
     "execution_count": 6,
     "metadata": {},
     "output_type": "execute_result"
    }
   ],
   "source": [
    "%viz --style=\"COMPTREE\" --view=\"Action\" \"ActionTest\""
   ]
  },
  {
   "cell_type": "code",
   "execution_count": 7,
   "id": "conditional-andorra",
   "metadata": {
    "execution": {
     "iopub.execute_input": "2021-03-26T09:41:31.865783Z",
     "iopub.status.busy": "2021-03-26T09:41:31.865112Z",
     "iopub.status.idle": "2021-03-26T09:41:31.867463Z",
     "shell.execute_reply": "2021-03-26T09:41:31.867899Z"
    }
   },
   "outputs": [
    {
     "data": {
      "text/plain": [
       "java.lang.IllegalArgumentException: Invalid Style: COMPTREE Possible styles: POLYLINE, LR, STDCOLOR, PLANTUML, DEFAULT, TB, ORTHOLINE\n",
       "\tat org.omg.sysml.plantuml.SysML2PlantUMLStyle.get(SysML2PlantUMLStyle.java:258)\n",
       "\tat org.omg.sysml.plantuml.SysML2PlantUMLSvc.applyStyle(SysML2PlantUMLSvc.java:73)\n",
       "\tat org.omg.sysml.plantuml.SysML2PlantUMLSvc.getPlantUMLCode(SysML2PlantUMLSvc.java:88)\n",
       "\tat org.omg.sysml.plantuml.SysML2PlantUMLSvc.getSVG(SysML2PlantUMLSvc.java:99)\n",
       "\tat org.omg.sysml.interactive.SysMLInteractive.viz(SysMLInteractive.java:294)\n",
       "\tat org.omg.sysml.jupyter.kernel.magic.Viz.viz(Viz.java:47)\n",
       "\tat java.base/jdk.internal.reflect.NativeMethodAccessorImpl.invoke0(Native Method)\n",
       "\tat java.base/jdk.internal.reflect.NativeMethodAccessorImpl.invoke(NativeMethodAccessorImpl.java:78)\n",
       "\tat java.base/jdk.internal.reflect.DelegatingMethodAccessorImpl.invoke(DelegatingMethodAccessorImpl.java:43)\n",
       "\tat java.base/java.lang.reflect.Method.invoke(Method.java:568)\n",
       "\tat io.github.spencerpark.jupyter.kernel.magic.registry.Magics.invoke(Magics.java:89)\n",
       "\tat io.github.spencerpark.jupyter.kernel.magic.registry.Magics.access$000(Magics.java:8)\n",
       "\tat io.github.spencerpark.jupyter.kernel.magic.registry.Magics$LineReflectionMagicFunction.execute(Magics.java:149)\n",
       "\tat io.github.spencerpark.jupyter.kernel.magic.registry.Magics.applyLineMagic(Magics.java:26)\n",
       "\tat org.omg.sysml.jupyter.kernel.SysMLKernel.eval(SysMLKernel.java:76)\n",
       "\tat io.github.spencerpark.jupyter.kernel.BaseKernel.handleExecuteRequest(BaseKernel.java:334)\n",
       "\tat io.github.spencerpark.jupyter.channels.ShellChannel.lambda$bind$0(ShellChannel.java:64)\n",
       "\tat io.github.spencerpark.jupyter.channels.Loop.lambda$new$0(Loop.java:21)\n",
       "\tat io.github.spencerpark.jupyter.channels.Loop.run(Loop.java:78)\n"
      ]
     },
     "execution_count": 7,
     "metadata": {},
     "output_type": "execute_result"
    }
   ],
   "source": [
    "%viz --style=\"COMPTREE\" --view=\"Sequence\" \"ActionTest\""
   ]
  },
  {
   "cell_type": "code",
   "execution_count": 8,
   "id": "dedicated-listing",
   "metadata": {
    "execution": {
     "iopub.execute_input": "2021-03-26T09:41:31.920479Z",
     "iopub.status.busy": "2021-03-26T09:41:31.920003Z",
     "iopub.status.idle": "2021-03-26T09:41:31.923039Z",
     "shell.execute_reply": "2021-03-26T09:41:31.923455Z"
    }
   },
   "outputs": [
    {
     "data": {
      "text/plain": [
       "java.lang.IllegalArgumentException: Invalid Style: COMPTREE Possible styles: POLYLINE, LR, STDCOLOR, PLANTUML, DEFAULT, TB, ORTHOLINE\n",
       "\tat org.omg.sysml.plantuml.SysML2PlantUMLStyle.get(SysML2PlantUMLStyle.java:258)\n",
       "\tat org.omg.sysml.plantuml.SysML2PlantUMLSvc.applyStyle(SysML2PlantUMLSvc.java:73)\n",
       "\tat org.omg.sysml.plantuml.SysML2PlantUMLSvc.getPlantUMLCode(SysML2PlantUMLSvc.java:88)\n",
       "\tat org.omg.sysml.plantuml.SysML2PlantUMLSvc.getSVG(SysML2PlantUMLSvc.java:99)\n",
       "\tat org.omg.sysml.interactive.SysMLInteractive.viz(SysMLInteractive.java:294)\n",
       "\tat org.omg.sysml.jupyter.kernel.magic.Viz.viz(Viz.java:47)\n",
       "\tat java.base/jdk.internal.reflect.NativeMethodAccessorImpl.invoke0(Native Method)\n",
       "\tat java.base/jdk.internal.reflect.NativeMethodAccessorImpl.invoke(NativeMethodAccessorImpl.java:78)\n",
       "\tat java.base/jdk.internal.reflect.DelegatingMethodAccessorImpl.invoke(DelegatingMethodAccessorImpl.java:43)\n",
       "\tat java.base/java.lang.reflect.Method.invoke(Method.java:568)\n",
       "\tat io.github.spencerpark.jupyter.kernel.magic.registry.Magics.invoke(Magics.java:89)\n",
       "\tat io.github.spencerpark.jupyter.kernel.magic.registry.Magics.access$000(Magics.java:8)\n",
       "\tat io.github.spencerpark.jupyter.kernel.magic.registry.Magics$LineReflectionMagicFunction.execute(Magics.java:149)\n",
       "\tat io.github.spencerpark.jupyter.kernel.magic.registry.Magics.applyLineMagic(Magics.java:26)\n",
       "\tat org.omg.sysml.jupyter.kernel.SysMLKernel.eval(SysMLKernel.java:76)\n",
       "\tat io.github.spencerpark.jupyter.kernel.BaseKernel.handleExecuteRequest(BaseKernel.java:334)\n",
       "\tat io.github.spencerpark.jupyter.channels.ShellChannel.lambda$bind$0(ShellChannel.java:64)\n",
       "\tat io.github.spencerpark.jupyter.channels.Loop.lambda$new$0(Loop.java:21)\n",
       "\tat io.github.spencerpark.jupyter.channels.Loop.run(Loop.java:78)\n"
      ]
     },
     "execution_count": 8,
     "metadata": {},
     "output_type": "execute_result"
    }
   ],
   "source": [
    "%viz --style=\"COMPTREE\" --view=\"MIXED\" \"ActionTest\""
   ]
  },
  {
   "cell_type": "code",
   "execution_count": 9,
   "id": "systematic-archives",
   "metadata": {
    "execution": {
     "iopub.execute_input": "2021-03-26T09:41:31.977066Z",
     "iopub.status.busy": "2021-03-26T09:41:31.976297Z",
     "iopub.status.idle": "2021-03-26T09:41:32.427049Z",
     "shell.execute_reply": "2021-03-26T09:41:32.426153Z"
    }
   },
   "outputs": [
    {
     "data": {
      "image/svg+xml": [
       "<?xml version=\"1.0\" encoding=\"UTF-8\" standalone=\"no\"?><svg xmlns=\"http://www.w3.org/2000/svg\" xmlns:xlink=\"http://www.w3.org/1999/xlink\" contentScriptType=\"application/ecmascript\" contentStyleType=\"text/css\" height=\"186px\" preserveAspectRatio=\"none\" style=\"width:170px;height:186px;\" version=\"1.1\" viewBox=\"0 0 170 186\" width=\"170px\" zoomAndPan=\"magnify\"><defs/><g><!--MD5=[fbc87193dbaf4d95561dea2c320d4a47]\n",
       "cluster E1--><polygon fill=\"#FFFFFF\" points=\"16,6,107,6,114,28.2969,148,28.2969,148,174,16,174,16,6\" style=\"stroke: #000000; stroke-width: 1.5;\"/><line style=\"stroke: #000000; stroke-width: 1.5;\" x1=\"16\" x2=\"114\" y1=\"28.2969\" y2=\"28.2969\"/><text fill=\"#000000\" font-family=\"sans-serif\" font-size=\"14\" font-weight=\"bold\" lengthAdjust=\"spacingAndGlyphs\" textLength=\"85\" x=\"20\" y=\"20.9951\">ActionTest</text><!--MD5=[e4f7fae6ed58524ba242bb0b0d3be6b7]\n",
       "cluster E2--><rect fill=\"#F8F8F8\" height=\"101\" rx=\"12.5\" ry=\"12.5\" style=\"stroke: #000000; stroke-width: 1.5;\" width=\"84\" x=\"40\" y=\"49\"/><rect fill=\"#FFFFFF\" height=\"68.7031\" rx=\"12.5\" ry=\"12.5\" style=\"stroke: #FFFFFF; stroke-width: 1.0;\" width=\"78\" x=\"43\" y=\"78.2969\"/><line style=\"stroke: #000000; stroke-width: 1.5;\" x1=\"40\" x2=\"124\" y1=\"75.2969\" y2=\"75.2969\"/><text fill=\"#000000\" font-family=\"sans-serif\" font-size=\"14\" lengthAdjust=\"spacingAndGlyphs\" textLength=\"8\" x=\"78\" y=\"65.9951\">a</text><g id=\"E1.E2.E3\"><rect fill=\"#FFFFFF\" height=\"50\" rx=\"12.5\" ry=\"12.5\" style=\"stroke: #383838; stroke-width: 1.5;\" width=\"51\" x=\"56.5\" y=\"84\"/><line style=\"stroke: #383838; stroke-width: 1.5;\" x1=\"56.5\" x2=\"107.5\" y1=\"110.2969\" y2=\"110.2969\"/><text fill=\"#000000\" font-family=\"sans-serif\" font-size=\"14\" lengthAdjust=\"spacingAndGlyphs\" textLength=\"31\" x=\"66.5\" y=\"101.9951\">start</text></g><!--MD5=[cd94fbb7166104a5315d6b29d1cc30ab]\n",
       "@startuml\r\n",
       "skinparam linetype polyline\r\n",
       "skinparam monochrome true\r\n",
       "skinparam classbackgroundcolor white\r\n",
       "skinparam shadowing false\r\n",
       "skinparam wrapWidth 300\r\n",
       "hide circle\r\n",
       "\r\n",
       "package \"ActionTest\" as E1   {\r\n",
       "rec usage \"a\" as E2 {\r\n",
       "rec usage \"start\" as E3 {\r\n",
       "}\r\n",
       "\r\n",
       "}\r\n",
       "\r\n",
       "}\r\n",
       "@enduml\r\n",
       "\n",
       "PlantUML version 1.2020.13(Sat Jun 13 12:26:38 UTC 2020)\n",
       "(EPL source distribution)\n",
       "Java Runtime: OpenJDK Runtime Environment\n",
       "JVM: OpenJDK 64-Bit Server VM\n",
       "Default Encoding: UTF-8\n",
       "Language: en\n",
       "Country: null\n",
       "--></g></svg>"
      ]
     },
     "execution_count": 9,
     "metadata": {},
     "output_type": "execute_result"
    }
   ],
   "source": [
    "%viz --style=\"POLYLINE\" --view=\"Default\" \"ActionTest\""
   ]
  },
  {
   "cell_type": "code",
   "execution_count": 10,
   "id": "particular-chapel",
   "metadata": {
    "execution": {
     "iopub.execute_input": "2021-03-26T09:41:32.479142Z",
     "iopub.status.busy": "2021-03-26T09:41:32.478391Z",
     "iopub.status.idle": "2021-03-26T09:41:32.602502Z",
     "shell.execute_reply": "2021-03-26T09:41:32.595867Z"
    }
   },
   "outputs": [
    {
     "data": {
      "image/svg+xml": [
       "<?xml version=\"1.0\" encoding=\"UTF-8\" standalone=\"no\"?><svg xmlns=\"http://www.w3.org/2000/svg\" xmlns:xlink=\"http://www.w3.org/1999/xlink\" contentScriptType=\"application/ecmascript\" contentStyleType=\"text/css\" height=\"157px\" preserveAspectRatio=\"none\" style=\"width:230px;height:157px;\" version=\"1.1\" viewBox=\"0 0 230 157\" width=\"230px\" zoomAndPan=\"magnify\"><defs/><g><!--MD5=[fbc87193dbaf4d95561dea2c320d4a47]\n",
       "cluster E1--><polygon fill=\"#FFFFFF\" points=\"16,6,107,6,114,28.2969,208,28.2969,208,145,16,145,16,6\" style=\"stroke: #000000; stroke-width: 1.5;\"/><line style=\"stroke: #000000; stroke-width: 1.5;\" x1=\"16\" x2=\"114\" y1=\"28.2969\" y2=\"28.2969\"/><text fill=\"#000000\" font-family=\"sans-serif\" font-size=\"14\" font-weight=\"bold\" lengthAdjust=\"spacingAndGlyphs\" textLength=\"85\" x=\"20\" y=\"20.9951\">ActionTest</text><!--MD5=[b4997ac47864f28c2f74865a473b2911]\n",
       "class E2--><rect fill=\"#FFFFFF\" height=\"88.3516\" id=\"E2\" rx=\"10\" ry=\"10\" style=\"stroke: #383838; stroke-width: 1.5;\" width=\"160\" x=\"32\" y=\"41\"/><text fill=\"#000000\" font-family=\"sans-serif\" font-size=\"12\" font-style=\"italic\" lengthAdjust=\"spacingAndGlyphs\" textLength=\"53\" x=\"85.5\" y=\"57.1387\">«action»</text><text fill=\"#000000\" font-family=\"sans-serif\" font-size=\"12\" lengthAdjust=\"spacingAndGlyphs\" textLength=\"55\" x=\"84.5\" y=\"71.1074\">a: Action</text><line style=\"stroke: #383838; stroke-width: 1.5;\" x1=\"33\" x2=\"191\" y1=\"78.9375\" y2=\"78.9375\"/><text fill=\"#000000\" font-family=\"sans-serif\" font-size=\"11\" lengthAdjust=\"spacingAndGlyphs\" textLength=\"69\" x=\"38\" y=\"109.9526\">start: Action</text><text fill=\"#000000\" font-family=\"sans-serif\" font-size=\"11\" font-style=\"italic\" lengthAdjust=\"spacingAndGlyphs\" textLength=\"148\" x=\"38\" y=\"122.7573\">:&gt;&gt;Occurrence::startShot</text><line style=\"stroke: #383838; stroke-width: 1.0;\" x1=\"33\" x2=\"91.5\" y1=\"93.3398\" y2=\"93.3398\"/><text fill=\"#000000\" font-family=\"sans-serif\" font-size=\"11\" lengthAdjust=\"spacingAndGlyphs\" textLength=\"41\" x=\"91.5\" y=\"96.6479\">actions</text><line style=\"stroke: #383838; stroke-width: 1.0;\" x1=\"132.5\" x2=\"191\" y1=\"93.3398\" y2=\"93.3398\"/><!--MD5=[169f3f07b2353ee6e02a4064e04e0c9a]\n",
       "@startuml\r\n",
       "skinparam linetype polyline\r\n",
       "skinparam monochrome true\r\n",
       "skinparam classbackgroundcolor white\r\n",
       "skinparam shadowing false\r\n",
       "skinparam wrapWidth 300\r\n",
       "hide circle\r\n",
       "\r\n",
       "package \"ActionTest\" as E1   {\r\n",
       "comp usage \"a: Action\" as E2  <<(T,blue)action>> {\r\n",
       "- -actions- -\r\n",
       "start: Action\\n//:>>Occurrence::startShot// \r\n",
       "}\r\n",
       "}\r\n",
       "@enduml\r\n",
       "\n",
       "PlantUML version 1.2020.13(Sat Jun 13 12:26:38 UTC 2020)\n",
       "(EPL source distribution)\n",
       "Java Runtime: OpenJDK Runtime Environment\n",
       "JVM: OpenJDK 64-Bit Server VM\n",
       "Default Encoding: UTF-8\n",
       "Language: en\n",
       "Country: null\n",
       "--></g></svg>"
      ]
     },
     "execution_count": 10,
     "metadata": {},
     "output_type": "execute_result"
    }
   ],
   "source": [
    "%viz --style=\"POLYLINE\" --view=\"Tree\" \"ActionTest\""
   ]
  },
  {
   "cell_type": "code",
   "execution_count": 11,
   "id": "established-anime",
   "metadata": {
    "execution": {
     "iopub.execute_input": "2021-03-26T09:41:32.653454Z",
     "iopub.status.busy": "2021-03-26T09:41:32.653094Z",
     "iopub.status.idle": "2021-03-26T09:41:32.657348Z",
     "shell.execute_reply": "2021-03-26T09:41:32.656988Z"
    }
   },
   "outputs": [
    {
     "data": {
      "text/plain": [
       "java.lang.IllegalArgumentException: Invalid View: State View candidates are: Default Tree StateMachine Interconnection Activity Sequence MIXED \n",
       "\tat org.omg.sysml.plantuml.SysML2PlantUMLSvc.setView(SysML2PlantUMLSvc.java:63)\n",
       "\tat org.omg.sysml.interactive.SysMLInteractive.viz(SysMLInteractive.java:286)\n",
       "\tat org.omg.sysml.jupyter.kernel.magic.Viz.viz(Viz.java:47)\n",
       "\tat java.base/jdk.internal.reflect.NativeMethodAccessorImpl.invoke0(Native Method)\n",
       "\tat java.base/jdk.internal.reflect.NativeMethodAccessorImpl.invoke(NativeMethodAccessorImpl.java:78)\n",
       "\tat java.base/jdk.internal.reflect.DelegatingMethodAccessorImpl.invoke(DelegatingMethodAccessorImpl.java:43)\n",
       "\tat java.base/java.lang.reflect.Method.invoke(Method.java:568)\n",
       "\tat io.github.spencerpark.jupyter.kernel.magic.registry.Magics.invoke(Magics.java:89)\n",
       "\tat io.github.spencerpark.jupyter.kernel.magic.registry.Magics.access$000(Magics.java:8)\n",
       "\tat io.github.spencerpark.jupyter.kernel.magic.registry.Magics$LineReflectionMagicFunction.execute(Magics.java:149)\n",
       "\tat io.github.spencerpark.jupyter.kernel.magic.registry.Magics.applyLineMagic(Magics.java:26)\n",
       "\tat org.omg.sysml.jupyter.kernel.SysMLKernel.eval(SysMLKernel.java:76)\n",
       "\tat io.github.spencerpark.jupyter.kernel.BaseKernel.handleExecuteRequest(BaseKernel.java:334)\n",
       "\tat io.github.spencerpark.jupyter.channels.ShellChannel.lambda$bind$0(ShellChannel.java:64)\n",
       "\tat io.github.spencerpark.jupyter.channels.Loop.lambda$new$0(Loop.java:21)\n",
       "\tat io.github.spencerpark.jupyter.channels.Loop.run(Loop.java:78)\n"
      ]
     },
     "execution_count": 11,
     "metadata": {},
     "output_type": "execute_result"
    }
   ],
   "source": [
    "%viz --style=\"POLYLINE\" --view=\"State\" \"ActionTest\""
   ]
  },
  {
   "cell_type": "code",
   "execution_count": 12,
   "id": "reduced-gates",
   "metadata": {
    "execution": {
     "iopub.execute_input": "2021-03-26T09:41:32.708600Z",
     "iopub.status.busy": "2021-03-26T09:41:32.708283Z",
     "iopub.status.idle": "2021-03-26T09:41:32.753665Z",
     "shell.execute_reply": "2021-03-26T09:41:32.744620Z"
    }
   },
   "outputs": [
    {
     "data": {
      "image/svg+xml": [
       "<?xml version=\"1.0\" encoding=\"UTF-8\" standalone=\"no\"?><svg xmlns=\"http://www.w3.org/2000/svg\" xmlns:xlink=\"http://www.w3.org/1999/xlink\" contentScriptType=\"application/ecmascript\" contentStyleType=\"text/css\" height=\"205px\" preserveAspectRatio=\"none\" style=\"width:326px;height:205px;\" version=\"1.1\" viewBox=\"0 0 326 205\" width=\"326px\" zoomAndPan=\"magnify\"><defs/><g><!--MD5=[fbc87193dbaf4d95561dea2c320d4a47]\n",
       "cluster E1--><polygon fill=\"#FFFFFF\" points=\"16,6,107,6,114,28.2969,304,28.2969,304,193,16,193,16,6\" style=\"stroke: #000000; stroke-width: 1.5;\"/><line style=\"stroke: #000000; stroke-width: 1.5;\" x1=\"16\" x2=\"114\" y1=\"28.2969\" y2=\"28.2969\"/><text fill=\"#000000\" font-family=\"sans-serif\" font-size=\"14\" font-weight=\"bold\" lengthAdjust=\"spacingAndGlyphs\" textLength=\"85\" x=\"20\" y=\"20.9951\">ActionTest</text><!--MD5=[e4f7fae6ed58524ba242bb0b0d3be6b7]\n",
       "cluster E2--><rect fill=\"#F8F8F8\" height=\"120\" rx=\"12.5\" ry=\"12.5\" style=\"stroke: #000000; stroke-width: 1.5;\" width=\"240\" x=\"40\" y=\"49\"/><rect fill=\"#FFFFFF\" height=\"87.7031\" rx=\"12.5\" ry=\"12.5\" style=\"stroke: #FFFFFF; stroke-width: 1.0;\" width=\"234\" x=\"43\" y=\"78.2969\"/><line style=\"stroke: #000000; stroke-width: 1.5;\" x1=\"40\" x2=\"280\" y1=\"75.2969\" y2=\"75.2969\"/><text fill=\"#000000\" font-family=\"sans-serif\" font-size=\"14\" lengthAdjust=\"spacingAndGlyphs\" textLength=\"60\" x=\"130\" y=\"65.9951\">a: Action</text><g id=\"E1.E2.E3\"><rect fill=\"#FFFFFF\" height=\"52.5938\" rx=\"12.5\" ry=\"12.5\" style=\"stroke: #383838; stroke-width: 1.5;\" width=\"207\" x=\"56.5\" y=\"100\"/><line style=\"stroke: #383838; stroke-width: 1.5;\" x1=\"56.5\" x2=\"263.5\" y1=\"142.5938\" y2=\"142.5938\"/><text fill=\"#000000\" font-family=\"sans-serif\" font-size=\"14\" lengthAdjust=\"spacingAndGlyphs\" textLength=\"83\" x=\"118.5\" y=\"117.9951\">start: Action</text><text fill=\"#000000\" font-family=\"sans-serif\" font-size=\"14\" font-style=\"italic\" lengthAdjust=\"spacingAndGlyphs\" textLength=\"183\" x=\"66.5\" y=\"134.292\">:&gt;&gt;Occurrence::startShot</text><text fill=\"#000000\" font-family=\"sans-serif\" font-size=\"14\" lengthAdjust=\"spacingAndGlyphs\" textLength=\"0\" x=\"253.5\" y=\"134.292\"/></g><!--MD5=[cb31cf57ab961e98fe3cd2753a6a087f]\n",
       "@startuml\r\n",
       "skinparam ranksep 8\r\n",
       "skinparam rectangle {\r\n",
       " backgroundColor<<block>> LightGreen\r\n",
       "}\r\n",
       "skinparam linetype polyline\r\n",
       "skinparam monochrome true\r\n",
       "skinparam classbackgroundcolor white\r\n",
       "skinparam shadowing false\r\n",
       "skinparam wrapWidth 300\r\n",
       "hide circle\r\n",
       "\r\n",
       "package \"ActionTest\" as E1   {\r\n",
       "rec usage \"a: Action\" as E2  <<action>> {\r\n",
       "rec usage \"start: Action\\n//:>>Occurrence::startShot// \" as E3  <<action>> {\r\n",
       "}\r\n",
       "}\r\n",
       "}\r\n",
       "@enduml\r\n",
       "\n",
       "PlantUML version 1.2020.13(Sat Jun 13 12:26:38 UTC 2020)\n",
       "(EPL source distribution)\n",
       "Java Runtime: OpenJDK Runtime Environment\n",
       "JVM: OpenJDK 64-Bit Server VM\n",
       "Default Encoding: UTF-8\n",
       "Language: en\n",
       "Country: null\n",
       "--></g></svg>"
      ]
     },
     "execution_count": 12,
     "metadata": {},
     "output_type": "execute_result"
    }
   ],
   "source": [
    "%viz --style=\"POLYLINE\" --view=\"Interconnection\" \"ActionTest\""
   ]
  },
  {
   "cell_type": "code",
   "execution_count": 13,
   "id": "divine-camera",
   "metadata": {
    "execution": {
     "iopub.execute_input": "2021-03-26T09:41:32.806408Z",
     "iopub.status.busy": "2021-03-26T09:41:32.806078Z",
     "iopub.status.idle": "2021-03-26T09:41:32.807854Z",
     "shell.execute_reply": "2021-03-26T09:41:32.807562Z"
    }
   },
   "outputs": [
    {
     "data": {
      "text/plain": [
       "java.lang.IllegalArgumentException: Invalid View: Action View candidates are: Default Tree StateMachine Interconnection Activity Sequence MIXED \n",
       "\tat org.omg.sysml.plantuml.SysML2PlantUMLSvc.setView(SysML2PlantUMLSvc.java:63)\n",
       "\tat org.omg.sysml.interactive.SysMLInteractive.viz(SysMLInteractive.java:286)\n",
       "\tat org.omg.sysml.jupyter.kernel.magic.Viz.viz(Viz.java:47)\n",
       "\tat java.base/jdk.internal.reflect.NativeMethodAccessorImpl.invoke0(Native Method)\n",
       "\tat java.base/jdk.internal.reflect.NativeMethodAccessorImpl.invoke(NativeMethodAccessorImpl.java:78)\n",
       "\tat java.base/jdk.internal.reflect.DelegatingMethodAccessorImpl.invoke(DelegatingMethodAccessorImpl.java:43)\n",
       "\tat java.base/java.lang.reflect.Method.invoke(Method.java:568)\n",
       "\tat io.github.spencerpark.jupyter.kernel.magic.registry.Magics.invoke(Magics.java:89)\n",
       "\tat io.github.spencerpark.jupyter.kernel.magic.registry.Magics.access$000(Magics.java:8)\n",
       "\tat io.github.spencerpark.jupyter.kernel.magic.registry.Magics$LineReflectionMagicFunction.execute(Magics.java:149)\n",
       "\tat io.github.spencerpark.jupyter.kernel.magic.registry.Magics.applyLineMagic(Magics.java:26)\n",
       "\tat org.omg.sysml.jupyter.kernel.SysMLKernel.eval(SysMLKernel.java:76)\n",
       "\tat io.github.spencerpark.jupyter.kernel.BaseKernel.handleExecuteRequest(BaseKernel.java:334)\n",
       "\tat io.github.spencerpark.jupyter.channels.ShellChannel.lambda$bind$0(ShellChannel.java:64)\n",
       "\tat io.github.spencerpark.jupyter.channels.Loop.lambda$new$0(Loop.java:21)\n",
       "\tat io.github.spencerpark.jupyter.channels.Loop.run(Loop.java:78)\n"
      ]
     },
     "execution_count": 13,
     "metadata": {},
     "output_type": "execute_result"
    }
   ],
   "source": [
    "%viz --style=\"POLYLINE\" --view=\"Action\" \"ActionTest\""
   ]
  },
  {
   "cell_type": "code",
   "execution_count": 14,
   "id": "local-neighborhood",
   "metadata": {
    "execution": {
     "iopub.execute_input": "2021-03-26T09:41:32.861486Z",
     "iopub.status.busy": "2021-03-26T09:41:32.860043Z",
     "iopub.status.idle": "2021-03-26T09:41:32.932173Z",
     "shell.execute_reply": "2021-03-26T09:41:32.932599Z"
    }
   },
   "outputs": [
    {
     "data": {
      "image/svg+xml": [
       "<?xml version=\"1.0\" encoding=\"UTF-8\" standalone=\"no\"?><svg xmlns=\"http://www.w3.org/2000/svg\" xmlns:xlink=\"http://www.w3.org/1999/xlink\" contentScriptType=\"application/ecmascript\" contentStyleType=\"text/css\" height=\"157px\" preserveAspectRatio=\"none\" style=\"width:230px;height:157px;\" version=\"1.1\" viewBox=\"0 0 230 157\" width=\"230px\" zoomAndPan=\"magnify\"><defs/><g><!--MD5=[fbc87193dbaf4d95561dea2c320d4a47]\n",
       "cluster E1--><polygon fill=\"#FFFFFF\" points=\"16,6,107,6,114,28.2969,208,28.2969,208,145,16,145,16,6\" style=\"stroke: #000000; stroke-width: 1.5;\"/><line style=\"stroke: #000000; stroke-width: 1.5;\" x1=\"16\" x2=\"114\" y1=\"28.2969\" y2=\"28.2969\"/><text fill=\"#000000\" font-family=\"sans-serif\" font-size=\"14\" font-weight=\"bold\" lengthAdjust=\"spacingAndGlyphs\" textLength=\"85\" x=\"20\" y=\"20.9951\">ActionTest</text><!--MD5=[b4997ac47864f28c2f74865a473b2911]\n",
       "class E2--><rect fill=\"#FFFFFF\" height=\"88.3516\" id=\"E2\" rx=\"10\" ry=\"10\" style=\"stroke: #383838; stroke-width: 1.5;\" width=\"160\" x=\"32\" y=\"41\"/><text fill=\"#000000\" font-family=\"sans-serif\" font-size=\"12\" font-style=\"italic\" lengthAdjust=\"spacingAndGlyphs\" textLength=\"53\" x=\"85.5\" y=\"57.1387\">«action»</text><text fill=\"#000000\" font-family=\"sans-serif\" font-size=\"12\" lengthAdjust=\"spacingAndGlyphs\" textLength=\"55\" x=\"84.5\" y=\"71.1074\">a: Action</text><line style=\"stroke: #383838; stroke-width: 1.5;\" x1=\"33\" x2=\"191\" y1=\"78.9375\" y2=\"78.9375\"/><text fill=\"#000000\" font-family=\"sans-serif\" font-size=\"11\" lengthAdjust=\"spacingAndGlyphs\" textLength=\"69\" x=\"38\" y=\"109.9526\">start: Action</text><text fill=\"#000000\" font-family=\"sans-serif\" font-size=\"11\" font-style=\"italic\" lengthAdjust=\"spacingAndGlyphs\" textLength=\"148\" x=\"38\" y=\"122.7573\">:&gt;&gt;Occurrence::startShot</text><line style=\"stroke: #383838; stroke-width: 1.0;\" x1=\"33\" x2=\"91.5\" y1=\"93.3398\" y2=\"93.3398\"/><text fill=\"#000000\" font-family=\"sans-serif\" font-size=\"11\" lengthAdjust=\"spacingAndGlyphs\" textLength=\"41\" x=\"91.5\" y=\"96.6479\">actions</text><line style=\"stroke: #383838; stroke-width: 1.0;\" x1=\"132.5\" x2=\"191\" y1=\"93.3398\" y2=\"93.3398\"/><!--MD5=[169f3f07b2353ee6e02a4064e04e0c9a]\n",
       "@startuml\r\n",
       "skinparam linetype polyline\r\n",
       "skinparam monochrome true\r\n",
       "skinparam classbackgroundcolor white\r\n",
       "skinparam shadowing false\r\n",
       "skinparam wrapWidth 300\r\n",
       "hide circle\r\n",
       "\r\n",
       "package \"ActionTest\" as E1   {\r\n",
       "comp usage \"a: Action\" as E2  <<(T,blue)action>> {\r\n",
       "- -actions- -\r\n",
       "start: Action\\n//:>>Occurrence::startShot// \r\n",
       "}\r\n",
       "}\r\n",
       "@enduml\r\n",
       "\n",
       "PlantUML version 1.2020.13(Sat Jun 13 12:26:38 UTC 2020)\n",
       "(EPL source distribution)\n",
       "Java Runtime: OpenJDK Runtime Environment\n",
       "JVM: OpenJDK 64-Bit Server VM\n",
       "Default Encoding: UTF-8\n",
       "Language: en\n",
       "Country: null\n",
       "--></g></svg>"
      ]
     },
     "execution_count": 14,
     "metadata": {},
     "output_type": "execute_result"
    }
   ],
   "source": [
    "%viz --style=\"POLYLINE\" --view=\"Sequence\" \"ActionTest\""
   ]
  },
  {
   "cell_type": "code",
   "execution_count": 15,
   "id": "cheap-cleaning",
   "metadata": {
    "execution": {
     "iopub.execute_input": "2021-03-26T09:41:32.982779Z",
     "iopub.status.busy": "2021-03-26T09:41:32.982385Z",
     "iopub.status.idle": "2021-03-26T09:41:33.006541Z",
     "shell.execute_reply": "2021-03-26T09:41:33.006887Z"
    }
   },
   "outputs": [
    {
     "data": {
      "image/svg+xml": [
       "<?xml version=\"1.0\" encoding=\"UTF-8\" standalone=\"no\"?><svg xmlns=\"http://www.w3.org/2000/svg\" xmlns:xlink=\"http://www.w3.org/1999/xlink\" contentScriptType=\"application/ecmascript\" contentStyleType=\"text/css\" height=\"186px\" preserveAspectRatio=\"none\" style=\"width:170px;height:186px;\" version=\"1.1\" viewBox=\"0 0 170 186\" width=\"170px\" zoomAndPan=\"magnify\"><defs/><g><!--MD5=[fbc87193dbaf4d95561dea2c320d4a47]\n",
       "cluster E1--><polygon fill=\"#FFFFFF\" points=\"16,6,107,6,114,28.2969,148,28.2969,148,174,16,174,16,6\" style=\"stroke: #000000; stroke-width: 1.5;\"/><line style=\"stroke: #000000; stroke-width: 1.5;\" x1=\"16\" x2=\"114\" y1=\"28.2969\" y2=\"28.2969\"/><text fill=\"#000000\" font-family=\"sans-serif\" font-size=\"14\" font-weight=\"bold\" lengthAdjust=\"spacingAndGlyphs\" textLength=\"85\" x=\"20\" y=\"20.9951\">ActionTest</text><!--MD5=[e4f7fae6ed58524ba242bb0b0d3be6b7]\n",
       "cluster E2--><rect fill=\"#F8F8F8\" height=\"101\" rx=\"12.5\" ry=\"12.5\" style=\"stroke: #000000; stroke-width: 1.5;\" width=\"84\" x=\"40\" y=\"49\"/><rect fill=\"#FFFFFF\" height=\"68.7031\" rx=\"12.5\" ry=\"12.5\" style=\"stroke: #FFFFFF; stroke-width: 1.0;\" width=\"78\" x=\"43\" y=\"78.2969\"/><line style=\"stroke: #000000; stroke-width: 1.5;\" x1=\"40\" x2=\"124\" y1=\"75.2969\" y2=\"75.2969\"/><text fill=\"#000000\" font-family=\"sans-serif\" font-size=\"14\" lengthAdjust=\"spacingAndGlyphs\" textLength=\"8\" x=\"78\" y=\"65.9951\">a</text><g id=\"E1.E2.E3\"><rect fill=\"#FFFFFF\" height=\"50\" rx=\"12.5\" ry=\"12.5\" style=\"stroke: #383838; stroke-width: 1.5;\" width=\"51\" x=\"56.5\" y=\"84\"/><line style=\"stroke: #383838; stroke-width: 1.5;\" x1=\"56.5\" x2=\"107.5\" y1=\"110.2969\" y2=\"110.2969\"/><text fill=\"#000000\" font-family=\"sans-serif\" font-size=\"14\" lengthAdjust=\"spacingAndGlyphs\" textLength=\"31\" x=\"66.5\" y=\"101.9951\">start</text></g><!--MD5=[cd94fbb7166104a5315d6b29d1cc30ab]\n",
       "@startuml\r\n",
       "skinparam linetype polyline\r\n",
       "skinparam monochrome true\r\n",
       "skinparam classbackgroundcolor white\r\n",
       "skinparam shadowing false\r\n",
       "skinparam wrapWidth 300\r\n",
       "hide circle\r\n",
       "\r\n",
       "package \"ActionTest\" as E1   {\r\n",
       "rec usage \"a\" as E2 {\r\n",
       "rec usage \"start\" as E3 {\r\n",
       "}\r\n",
       "\r\n",
       "}\r\n",
       "\r\n",
       "}\r\n",
       "@enduml\r\n",
       "\n",
       "PlantUML version 1.2020.13(Sat Jun 13 12:26:38 UTC 2020)\n",
       "(EPL source distribution)\n",
       "Java Runtime: OpenJDK Runtime Environment\n",
       "JVM: OpenJDK 64-Bit Server VM\n",
       "Default Encoding: UTF-8\n",
       "Language: en\n",
       "Country: null\n",
       "--></g></svg>"
      ]
     },
     "execution_count": 15,
     "metadata": {},
     "output_type": "execute_result"
    }
   ],
   "source": [
    "%viz --style=\"POLYLINE\" --view=\"MIXED\" \"ActionTest\""
   ]
  },
  {
   "cell_type": "code",
   "execution_count": 16,
   "id": "cleared-reviewer",
   "metadata": {
    "execution": {
     "iopub.execute_input": "2021-03-26T09:41:33.059708Z",
     "iopub.status.busy": "2021-03-26T09:41:33.059264Z",
     "iopub.status.idle": "2021-03-26T09:41:33.089698Z",
     "shell.execute_reply": "2021-03-26T09:41:33.089334Z"
    }
   },
   "outputs": [
    {
     "data": {
      "image/svg+xml": [
       "<?xml version=\"1.0\" encoding=\"UTF-8\" standalone=\"no\"?><svg xmlns=\"http://www.w3.org/2000/svg\" xmlns:xlink=\"http://www.w3.org/1999/xlink\" contentScriptType=\"application/ecmascript\" contentStyleType=\"text/css\" height=\"186px\" preserveAspectRatio=\"none\" style=\"width:169px;height:186px;\" version=\"1.1\" viewBox=\"0 0 169 186\" width=\"169px\" zoomAndPan=\"magnify\"><defs/><g><!--MD5=[fbc87193dbaf4d95561dea2c320d4a47]\n",
       "cluster E1--><polygon fill=\"#FFFFFF\" points=\"16,6,107,6,114,28.2969,147,28.2969,147,174,16,174,16,6\" style=\"stroke: #000000; stroke-width: 1.5;\"/><line style=\"stroke: #000000; stroke-width: 1.5;\" x1=\"16\" x2=\"114\" y1=\"28.2969\" y2=\"28.2969\"/><text fill=\"#000000\" font-family=\"sans-serif\" font-size=\"14\" font-weight=\"bold\" lengthAdjust=\"spacingAndGlyphs\" textLength=\"85\" x=\"20\" y=\"20.9951\">ActionTest</text><!--MD5=[e4f7fae6ed58524ba242bb0b0d3be6b7]\n",
       "cluster E2--><rect fill=\"#F8F8F8\" height=\"101\" rx=\"12.5\" ry=\"12.5\" style=\"stroke: #000000; stroke-width: 1.5;\" width=\"83\" x=\"40\" y=\"49\"/><rect fill=\"#FFFFFF\" height=\"68.7031\" rx=\"12.5\" ry=\"12.5\" style=\"stroke: #FFFFFF; stroke-width: 1.0;\" width=\"77\" x=\"43\" y=\"78.2969\"/><line style=\"stroke: #000000; stroke-width: 1.5;\" x1=\"40\" x2=\"123\" y1=\"75.2969\" y2=\"75.2969\"/><text fill=\"#000000\" font-family=\"sans-serif\" font-size=\"14\" lengthAdjust=\"spacingAndGlyphs\" textLength=\"8\" x=\"77.5\" y=\"65.9951\">a</text><g id=\"E1.E2.E3\"><rect fill=\"#FFFFFF\" height=\"50\" rx=\"12.5\" ry=\"12.5\" style=\"stroke: #383838; stroke-width: 1.5;\" width=\"51\" x=\"56\" y=\"84\"/><line style=\"stroke: #383838; stroke-width: 1.5;\" x1=\"56\" x2=\"107\" y1=\"110.2969\" y2=\"110.2969\"/><text fill=\"#000000\" font-family=\"sans-serif\" font-size=\"14\" lengthAdjust=\"spacingAndGlyphs\" textLength=\"31\" x=\"66\" y=\"101.9951\">start</text></g><!--MD5=[b8b083883762aa85991a0853e47b820e]\n",
       "@startuml\r\n",
       "left to right direction\r\n",
       "skinparam monochrome true\r\n",
       "skinparam classbackgroundcolor white\r\n",
       "skinparam shadowing false\r\n",
       "skinparam wrapWidth 300\r\n",
       "hide circle\r\n",
       "\r\n",
       "package \"ActionTest\" as E1   {\r\n",
       "rec usage \"a\" as E2 {\r\n",
       "rec usage \"start\" as E3 {\r\n",
       "}\r\n",
       "\r\n",
       "}\r\n",
       "\r\n",
       "}\r\n",
       "@enduml\r\n",
       "\n",
       "PlantUML version 1.2020.13(Sat Jun 13 12:26:38 UTC 2020)\n",
       "(EPL source distribution)\n",
       "Java Runtime: OpenJDK Runtime Environment\n",
       "JVM: OpenJDK 64-Bit Server VM\n",
       "Default Encoding: UTF-8\n",
       "Language: en\n",
       "Country: null\n",
       "--></g></svg>"
      ]
     },
     "execution_count": 16,
     "metadata": {},
     "output_type": "execute_result"
    }
   ],
   "source": [
    "%viz --style=\"LR\" --view=\"Default\" \"ActionTest\""
   ]
  },
  {
   "cell_type": "code",
   "execution_count": 17,
   "id": "lucky-assist",
   "metadata": {
    "execution": {
     "iopub.execute_input": "2021-03-26T09:41:33.140021Z",
     "iopub.status.busy": "2021-03-26T09:41:33.139463Z",
     "iopub.status.idle": "2021-03-26T09:41:33.189643Z",
     "shell.execute_reply": "2021-03-26T09:41:33.189361Z"
    }
   },
   "outputs": [
    {
     "data": {
      "image/svg+xml": [
       "<?xml version=\"1.0\" encoding=\"UTF-8\" standalone=\"no\"?><svg xmlns=\"http://www.w3.org/2000/svg\" xmlns:xlink=\"http://www.w3.org/1999/xlink\" contentScriptType=\"application/ecmascript\" contentStyleType=\"text/css\" height=\"157px\" preserveAspectRatio=\"none\" style=\"width:230px;height:157px;\" version=\"1.1\" viewBox=\"0 0 230 157\" width=\"230px\" zoomAndPan=\"magnify\"><defs/><g><!--MD5=[fbc87193dbaf4d95561dea2c320d4a47]\n",
       "cluster E1--><polygon fill=\"#FFFFFF\" points=\"16,6,107,6,114,28.2969,208,28.2969,208,145,16,145,16,6\" style=\"stroke: #000000; stroke-width: 1.5;\"/><line style=\"stroke: #000000; stroke-width: 1.5;\" x1=\"16\" x2=\"114\" y1=\"28.2969\" y2=\"28.2969\"/><text fill=\"#000000\" font-family=\"sans-serif\" font-size=\"14\" font-weight=\"bold\" lengthAdjust=\"spacingAndGlyphs\" textLength=\"85\" x=\"20\" y=\"20.9951\">ActionTest</text><!--MD5=[b4997ac47864f28c2f74865a473b2911]\n",
       "class E2--><rect fill=\"#FFFFFF\" height=\"88.3516\" id=\"E2\" rx=\"10\" ry=\"10\" style=\"stroke: #383838; stroke-width: 1.5;\" width=\"160\" x=\"32\" y=\"41\"/><text fill=\"#000000\" font-family=\"sans-serif\" font-size=\"12\" font-style=\"italic\" lengthAdjust=\"spacingAndGlyphs\" textLength=\"53\" x=\"85.5\" y=\"57.1387\">«action»</text><text fill=\"#000000\" font-family=\"sans-serif\" font-size=\"12\" lengthAdjust=\"spacingAndGlyphs\" textLength=\"55\" x=\"84.5\" y=\"71.1074\">a: Action</text><line style=\"stroke: #383838; stroke-width: 1.5;\" x1=\"33\" x2=\"191\" y1=\"78.9375\" y2=\"78.9375\"/><text fill=\"#000000\" font-family=\"sans-serif\" font-size=\"11\" lengthAdjust=\"spacingAndGlyphs\" textLength=\"69\" x=\"38\" y=\"109.9526\">start: Action</text><text fill=\"#000000\" font-family=\"sans-serif\" font-size=\"11\" font-style=\"italic\" lengthAdjust=\"spacingAndGlyphs\" textLength=\"148\" x=\"38\" y=\"122.7573\">:&gt;&gt;Occurrence::startShot</text><line style=\"stroke: #383838; stroke-width: 1.0;\" x1=\"33\" x2=\"91.5\" y1=\"93.3398\" y2=\"93.3398\"/><text fill=\"#000000\" font-family=\"sans-serif\" font-size=\"11\" lengthAdjust=\"spacingAndGlyphs\" textLength=\"41\" x=\"91.5\" y=\"96.6479\">actions</text><line style=\"stroke: #383838; stroke-width: 1.0;\" x1=\"132.5\" x2=\"191\" y1=\"93.3398\" y2=\"93.3398\"/><!--MD5=[4ccd6d41b0a2a686a75638382c6c3a88]\n",
       "@startuml\r\n",
       "left to right direction\r\n",
       "skinparam monochrome true\r\n",
       "skinparam classbackgroundcolor white\r\n",
       "skinparam shadowing false\r\n",
       "skinparam wrapWidth 300\r\n",
       "hide circle\r\n",
       "\r\n",
       "package \"ActionTest\" as E1   {\r\n",
       "comp usage \"a: Action\" as E2  <<(T,blue)action>> {\r\n",
       "- -actions- -\r\n",
       "start: Action\\n//:>>Occurrence::startShot// \r\n",
       "}\r\n",
       "}\r\n",
       "@enduml\r\n",
       "\n",
       "PlantUML version 1.2020.13(Sat Jun 13 12:26:38 UTC 2020)\n",
       "(EPL source distribution)\n",
       "Java Runtime: OpenJDK Runtime Environment\n",
       "JVM: OpenJDK 64-Bit Server VM\n",
       "Default Encoding: UTF-8\n",
       "Language: en\n",
       "Country: null\n",
       "--></g></svg>"
      ]
     },
     "execution_count": 17,
     "metadata": {},
     "output_type": "execute_result"
    }
   ],
   "source": [
    "%viz --style=\"LR\" --view=\"Tree\" \"ActionTest\""
   ]
  },
  {
   "cell_type": "code",
   "execution_count": 18,
   "id": "entitled-brooklyn",
   "metadata": {
    "execution": {
     "iopub.execute_input": "2021-03-26T09:41:33.242402Z",
     "iopub.status.busy": "2021-03-26T09:41:33.241893Z",
     "iopub.status.idle": "2021-03-26T09:41:33.243939Z",
     "shell.execute_reply": "2021-03-26T09:41:33.244368Z"
    }
   },
   "outputs": [
    {
     "data": {
      "text/plain": [
       "java.lang.IllegalArgumentException: Invalid View: State View candidates are: Default Tree StateMachine Interconnection Activity Sequence MIXED \n",
       "\tat org.omg.sysml.plantuml.SysML2PlantUMLSvc.setView(SysML2PlantUMLSvc.java:63)\n",
       "\tat org.omg.sysml.interactive.SysMLInteractive.viz(SysMLInteractive.java:286)\n",
       "\tat org.omg.sysml.jupyter.kernel.magic.Viz.viz(Viz.java:47)\n",
       "\tat jdk.internal.reflect.GeneratedMethodAccessor7.invoke(Unknown Source)\n",
       "\tat java.base/jdk.internal.reflect.DelegatingMethodAccessorImpl.invoke(DelegatingMethodAccessorImpl.java:43)\n",
       "\tat java.base/java.lang.reflect.Method.invoke(Method.java:568)\n",
       "\tat io.github.spencerpark.jupyter.kernel.magic.registry.Magics.invoke(Magics.java:89)\n",
       "\tat io.github.spencerpark.jupyter.kernel.magic.registry.Magics.access$000(Magics.java:8)\n",
       "\tat io.github.spencerpark.jupyter.kernel.magic.registry.Magics$LineReflectionMagicFunction.execute(Magics.java:149)\n",
       "\tat io.github.spencerpark.jupyter.kernel.magic.registry.Magics.applyLineMagic(Magics.java:26)\n",
       "\tat org.omg.sysml.jupyter.kernel.SysMLKernel.eval(SysMLKernel.java:76)\n",
       "\tat io.github.spencerpark.jupyter.kernel.BaseKernel.handleExecuteRequest(BaseKernel.java:334)\n",
       "\tat io.github.spencerpark.jupyter.channels.ShellChannel.lambda$bind$0(ShellChannel.java:64)\n",
       "\tat io.github.spencerpark.jupyter.channels.Loop.lambda$new$0(Loop.java:21)\n",
       "\tat io.github.spencerpark.jupyter.channels.Loop.run(Loop.java:78)\n"
      ]
     },
     "execution_count": 18,
     "metadata": {},
     "output_type": "execute_result"
    }
   ],
   "source": [
    "%viz --style=\"LR\" --view=\"State\" \"ActionTest\""
   ]
  },
  {
   "cell_type": "code",
   "execution_count": 19,
   "id": "hybrid-portfolio",
   "metadata": {
    "execution": {
     "iopub.execute_input": "2021-03-26T09:41:33.296614Z",
     "iopub.status.busy": "2021-03-26T09:41:33.296167Z",
     "iopub.status.idle": "2021-03-26T09:41:33.326790Z",
     "shell.execute_reply": "2021-03-26T09:41:33.326447Z"
    }
   },
   "outputs": [
    {
     "data": {
      "image/svg+xml": [
       "<?xml version=\"1.0\" encoding=\"UTF-8\" standalone=\"no\"?><svg xmlns=\"http://www.w3.org/2000/svg\" xmlns:xlink=\"http://www.w3.org/1999/xlink\" contentScriptType=\"application/ecmascript\" contentStyleType=\"text/css\" height=\"206px\" preserveAspectRatio=\"none\" style=\"width:325px;height:206px;\" version=\"1.1\" viewBox=\"0 0 325 206\" width=\"325px\" zoomAndPan=\"magnify\"><defs/><g><!--MD5=[fbc87193dbaf4d95561dea2c320d4a47]\n",
       "cluster E1--><polygon fill=\"#FFFFFF\" points=\"16,6,107,6,114,28.2969,303,28.2969,303,194,16,194,16,6\" style=\"stroke: #000000; stroke-width: 1.5;\"/><line style=\"stroke: #000000; stroke-width: 1.5;\" x1=\"16\" x2=\"114\" y1=\"28.2969\" y2=\"28.2969\"/><text fill=\"#000000\" font-family=\"sans-serif\" font-size=\"14\" font-weight=\"bold\" lengthAdjust=\"spacingAndGlyphs\" textLength=\"85\" x=\"20\" y=\"20.9951\">ActionTest</text><!--MD5=[e4f7fae6ed58524ba242bb0b0d3be6b7]\n",
       "cluster E2--><rect fill=\"#F8F8F8\" height=\"121\" rx=\"12.5\" ry=\"12.5\" style=\"stroke: #000000; stroke-width: 1.5;\" width=\"239\" x=\"40\" y=\"49\"/><rect fill=\"#FFFFFF\" height=\"88.7031\" rx=\"12.5\" ry=\"12.5\" style=\"stroke: #FFFFFF; stroke-width: 1.0;\" width=\"233\" x=\"43\" y=\"78.2969\"/><line style=\"stroke: #000000; stroke-width: 1.5;\" x1=\"40\" x2=\"279\" y1=\"75.2969\" y2=\"75.2969\"/><text fill=\"#000000\" font-family=\"sans-serif\" font-size=\"14\" lengthAdjust=\"spacingAndGlyphs\" textLength=\"60\" x=\"129.5\" y=\"65.9951\">a: Action</text><g id=\"E1.E2.E3\"><rect fill=\"#FFFFFF\" height=\"52.5938\" rx=\"12.5\" ry=\"12.5\" style=\"stroke: #383838; stroke-width: 1.5;\" width=\"207\" x=\"56\" y=\"100.5\"/><line style=\"stroke: #383838; stroke-width: 1.5;\" x1=\"56\" x2=\"263\" y1=\"143.0938\" y2=\"143.0938\"/><text fill=\"#000000\" font-family=\"sans-serif\" font-size=\"14\" lengthAdjust=\"spacingAndGlyphs\" textLength=\"83\" x=\"118\" y=\"118.4951\">start: Action</text><text fill=\"#000000\" font-family=\"sans-serif\" font-size=\"14\" font-style=\"italic\" lengthAdjust=\"spacingAndGlyphs\" textLength=\"183\" x=\"66\" y=\"134.792\">:&gt;&gt;Occurrence::startShot</text><text fill=\"#000000\" font-family=\"sans-serif\" font-size=\"14\" lengthAdjust=\"spacingAndGlyphs\" textLength=\"0\" x=\"253\" y=\"134.792\"/></g><!--MD5=[dc96f84135e76db4641438015de35801]\n",
       "@startuml\r\n",
       "skinparam ranksep 8\r\n",
       "skinparam rectangle {\r\n",
       " backgroundColor<<block>> LightGreen\r\n",
       "}\r\n",
       "left to right direction\r\n",
       "skinparam monochrome true\r\n",
       "skinparam classbackgroundcolor white\r\n",
       "skinparam shadowing false\r\n",
       "skinparam wrapWidth 300\r\n",
       "hide circle\r\n",
       "\r\n",
       "package \"ActionTest\" as E1   {\r\n",
       "rec usage \"a: Action\" as E2  <<action>> {\r\n",
       "rec usage \"start: Action\\n//:>>Occurrence::startShot// \" as E3  <<action>> {\r\n",
       "}\r\n",
       "}\r\n",
       "}\r\n",
       "@enduml\r\n",
       "\n",
       "PlantUML version 1.2020.13(Sat Jun 13 12:26:38 UTC 2020)\n",
       "(EPL source distribution)\n",
       "Java Runtime: OpenJDK Runtime Environment\n",
       "JVM: OpenJDK 64-Bit Server VM\n",
       "Default Encoding: UTF-8\n",
       "Language: en\n",
       "Country: null\n",
       "--></g></svg>"
      ]
     },
     "execution_count": 19,
     "metadata": {},
     "output_type": "execute_result"
    }
   ],
   "source": [
    "%viz --style=\"LR\" --view=\"Interconnection\" \"ActionTest\""
   ]
  },
  {
   "cell_type": "code",
   "execution_count": 20,
   "id": "raised-twins",
   "metadata": {
    "execution": {
     "iopub.execute_input": "2021-03-26T09:41:33.377226Z",
     "iopub.status.busy": "2021-03-26T09:41:33.376855Z",
     "iopub.status.idle": "2021-03-26T09:41:33.378185Z",
     "shell.execute_reply": "2021-03-26T09:41:33.378497Z"
    }
   },
   "outputs": [
    {
     "data": {
      "text/plain": [
       "java.lang.IllegalArgumentException: Invalid View: Action View candidates are: Default Tree StateMachine Interconnection Activity Sequence MIXED \n",
       "\tat org.omg.sysml.plantuml.SysML2PlantUMLSvc.setView(SysML2PlantUMLSvc.java:63)\n",
       "\tat org.omg.sysml.interactive.SysMLInteractive.viz(SysMLInteractive.java:286)\n",
       "\tat org.omg.sysml.jupyter.kernel.magic.Viz.viz(Viz.java:47)\n",
       "\tat jdk.internal.reflect.GeneratedMethodAccessor7.invoke(Unknown Source)\n",
       "\tat java.base/jdk.internal.reflect.DelegatingMethodAccessorImpl.invoke(DelegatingMethodAccessorImpl.java:43)\n",
       "\tat java.base/java.lang.reflect.Method.invoke(Method.java:568)\n",
       "\tat io.github.spencerpark.jupyter.kernel.magic.registry.Magics.invoke(Magics.java:89)\n",
       "\tat io.github.spencerpark.jupyter.kernel.magic.registry.Magics.access$000(Magics.java:8)\n",
       "\tat io.github.spencerpark.jupyter.kernel.magic.registry.Magics$LineReflectionMagicFunction.execute(Magics.java:149)\n",
       "\tat io.github.spencerpark.jupyter.kernel.magic.registry.Magics.applyLineMagic(Magics.java:26)\n",
       "\tat org.omg.sysml.jupyter.kernel.SysMLKernel.eval(SysMLKernel.java:76)\n",
       "\tat io.github.spencerpark.jupyter.kernel.BaseKernel.handleExecuteRequest(BaseKernel.java:334)\n",
       "\tat io.github.spencerpark.jupyter.channels.ShellChannel.lambda$bind$0(ShellChannel.java:64)\n",
       "\tat io.github.spencerpark.jupyter.channels.Loop.lambda$new$0(Loop.java:21)\n",
       "\tat io.github.spencerpark.jupyter.channels.Loop.run(Loop.java:78)\n"
      ]
     },
     "execution_count": 20,
     "metadata": {},
     "output_type": "execute_result"
    }
   ],
   "source": [
    "%viz --style=\"LR\" --view=\"Action\" \"ActionTest\""
   ]
  },
  {
   "cell_type": "code",
   "execution_count": 21,
   "id": "union-mentor",
   "metadata": {
    "execution": {
     "iopub.execute_input": "2021-03-26T09:41:33.429876Z",
     "iopub.status.busy": "2021-03-26T09:41:33.429481Z",
     "iopub.status.idle": "2021-03-26T09:41:33.488900Z",
     "shell.execute_reply": "2021-03-26T09:41:33.489213Z"
    }
   },
   "outputs": [
    {
     "data": {
      "image/svg+xml": [
       "<?xml version=\"1.0\" encoding=\"UTF-8\" standalone=\"no\"?><svg xmlns=\"http://www.w3.org/2000/svg\" xmlns:xlink=\"http://www.w3.org/1999/xlink\" contentScriptType=\"application/ecmascript\" contentStyleType=\"text/css\" height=\"157px\" preserveAspectRatio=\"none\" style=\"width:230px;height:157px;\" version=\"1.1\" viewBox=\"0 0 230 157\" width=\"230px\" zoomAndPan=\"magnify\"><defs/><g><!--MD5=[fbc87193dbaf4d95561dea2c320d4a47]\n",
       "cluster E1--><polygon fill=\"#FFFFFF\" points=\"16,6,107,6,114,28.2969,208,28.2969,208,145,16,145,16,6\" style=\"stroke: #000000; stroke-width: 1.5;\"/><line style=\"stroke: #000000; stroke-width: 1.5;\" x1=\"16\" x2=\"114\" y1=\"28.2969\" y2=\"28.2969\"/><text fill=\"#000000\" font-family=\"sans-serif\" font-size=\"14\" font-weight=\"bold\" lengthAdjust=\"spacingAndGlyphs\" textLength=\"85\" x=\"20\" y=\"20.9951\">ActionTest</text><!--MD5=[b4997ac47864f28c2f74865a473b2911]\n",
       "class E2--><rect fill=\"#FFFFFF\" height=\"88.3516\" id=\"E2\" rx=\"10\" ry=\"10\" style=\"stroke: #383838; stroke-width: 1.5;\" width=\"160\" x=\"32\" y=\"41\"/><text fill=\"#000000\" font-family=\"sans-serif\" font-size=\"12\" font-style=\"italic\" lengthAdjust=\"spacingAndGlyphs\" textLength=\"53\" x=\"85.5\" y=\"57.1387\">«action»</text><text fill=\"#000000\" font-family=\"sans-serif\" font-size=\"12\" lengthAdjust=\"spacingAndGlyphs\" textLength=\"55\" x=\"84.5\" y=\"71.1074\">a: Action</text><line style=\"stroke: #383838; stroke-width: 1.5;\" x1=\"33\" x2=\"191\" y1=\"78.9375\" y2=\"78.9375\"/><text fill=\"#000000\" font-family=\"sans-serif\" font-size=\"11\" lengthAdjust=\"spacingAndGlyphs\" textLength=\"69\" x=\"38\" y=\"109.9526\">start: Action</text><text fill=\"#000000\" font-family=\"sans-serif\" font-size=\"11\" font-style=\"italic\" lengthAdjust=\"spacingAndGlyphs\" textLength=\"148\" x=\"38\" y=\"122.7573\">:&gt;&gt;Occurrence::startShot</text><line style=\"stroke: #383838; stroke-width: 1.0;\" x1=\"33\" x2=\"91.5\" y1=\"93.3398\" y2=\"93.3398\"/><text fill=\"#000000\" font-family=\"sans-serif\" font-size=\"11\" lengthAdjust=\"spacingAndGlyphs\" textLength=\"41\" x=\"91.5\" y=\"96.6479\">actions</text><line style=\"stroke: #383838; stroke-width: 1.0;\" x1=\"132.5\" x2=\"191\" y1=\"93.3398\" y2=\"93.3398\"/><!--MD5=[4ccd6d41b0a2a686a75638382c6c3a88]\n",
       "@startuml\r\n",
       "left to right direction\r\n",
       "skinparam monochrome true\r\n",
       "skinparam classbackgroundcolor white\r\n",
       "skinparam shadowing false\r\n",
       "skinparam wrapWidth 300\r\n",
       "hide circle\r\n",
       "\r\n",
       "package \"ActionTest\" as E1   {\r\n",
       "comp usage \"a: Action\" as E2  <<(T,blue)action>> {\r\n",
       "- -actions- -\r\n",
       "start: Action\\n//:>>Occurrence::startShot// \r\n",
       "}\r\n",
       "}\r\n",
       "@enduml\r\n",
       "\n",
       "PlantUML version 1.2020.13(Sat Jun 13 12:26:38 UTC 2020)\n",
       "(EPL source distribution)\n",
       "Java Runtime: OpenJDK Runtime Environment\n",
       "JVM: OpenJDK 64-Bit Server VM\n",
       "Default Encoding: UTF-8\n",
       "Language: en\n",
       "Country: null\n",
       "--></g></svg>"
      ]
     },
     "execution_count": 21,
     "metadata": {},
     "output_type": "execute_result"
    }
   ],
   "source": [
    "%viz --style=\"LR\" --view=\"Sequence\" \"ActionTest\""
   ]
  },
  {
   "cell_type": "code",
   "execution_count": 22,
   "id": "fresh-fountain",
   "metadata": {
    "execution": {
     "iopub.execute_input": "2021-03-26T09:41:33.541743Z",
     "iopub.status.busy": "2021-03-26T09:41:33.541067Z",
     "iopub.status.idle": "2021-03-26T09:41:33.567506Z",
     "shell.execute_reply": "2021-03-26T09:41:33.567911Z"
    }
   },
   "outputs": [
    {
     "data": {
      "image/svg+xml": [
       "<?xml version=\"1.0\" encoding=\"UTF-8\" standalone=\"no\"?><svg xmlns=\"http://www.w3.org/2000/svg\" xmlns:xlink=\"http://www.w3.org/1999/xlink\" contentScriptType=\"application/ecmascript\" contentStyleType=\"text/css\" height=\"186px\" preserveAspectRatio=\"none\" style=\"width:169px;height:186px;\" version=\"1.1\" viewBox=\"0 0 169 186\" width=\"169px\" zoomAndPan=\"magnify\"><defs/><g><!--MD5=[fbc87193dbaf4d95561dea2c320d4a47]\n",
       "cluster E1--><polygon fill=\"#FFFFFF\" points=\"16,6,107,6,114,28.2969,147,28.2969,147,174,16,174,16,6\" style=\"stroke: #000000; stroke-width: 1.5;\"/><line style=\"stroke: #000000; stroke-width: 1.5;\" x1=\"16\" x2=\"114\" y1=\"28.2969\" y2=\"28.2969\"/><text fill=\"#000000\" font-family=\"sans-serif\" font-size=\"14\" font-weight=\"bold\" lengthAdjust=\"spacingAndGlyphs\" textLength=\"85\" x=\"20\" y=\"20.9951\">ActionTest</text><!--MD5=[e4f7fae6ed58524ba242bb0b0d3be6b7]\n",
       "cluster E2--><rect fill=\"#F8F8F8\" height=\"101\" rx=\"12.5\" ry=\"12.5\" style=\"stroke: #000000; stroke-width: 1.5;\" width=\"83\" x=\"40\" y=\"49\"/><rect fill=\"#FFFFFF\" height=\"68.7031\" rx=\"12.5\" ry=\"12.5\" style=\"stroke: #FFFFFF; stroke-width: 1.0;\" width=\"77\" x=\"43\" y=\"78.2969\"/><line style=\"stroke: #000000; stroke-width: 1.5;\" x1=\"40\" x2=\"123\" y1=\"75.2969\" y2=\"75.2969\"/><text fill=\"#000000\" font-family=\"sans-serif\" font-size=\"14\" lengthAdjust=\"spacingAndGlyphs\" textLength=\"8\" x=\"77.5\" y=\"65.9951\">a</text><g id=\"E1.E2.E3\"><rect fill=\"#FFFFFF\" height=\"50\" rx=\"12.5\" ry=\"12.5\" style=\"stroke: #383838; stroke-width: 1.5;\" width=\"51\" x=\"56\" y=\"84\"/><line style=\"stroke: #383838; stroke-width: 1.5;\" x1=\"56\" x2=\"107\" y1=\"110.2969\" y2=\"110.2969\"/><text fill=\"#000000\" font-family=\"sans-serif\" font-size=\"14\" lengthAdjust=\"spacingAndGlyphs\" textLength=\"31\" x=\"66\" y=\"101.9951\">start</text></g><!--MD5=[b8b083883762aa85991a0853e47b820e]\n",
       "@startuml\r\n",
       "left to right direction\r\n",
       "skinparam monochrome true\r\n",
       "skinparam classbackgroundcolor white\r\n",
       "skinparam shadowing false\r\n",
       "skinparam wrapWidth 300\r\n",
       "hide circle\r\n",
       "\r\n",
       "package \"ActionTest\" as E1   {\r\n",
       "rec usage \"a\" as E2 {\r\n",
       "rec usage \"start\" as E3 {\r\n",
       "}\r\n",
       "\r\n",
       "}\r\n",
       "\r\n",
       "}\r\n",
       "@enduml\r\n",
       "\n",
       "PlantUML version 1.2020.13(Sat Jun 13 12:26:38 UTC 2020)\n",
       "(EPL source distribution)\n",
       "Java Runtime: OpenJDK Runtime Environment\n",
       "JVM: OpenJDK 64-Bit Server VM\n",
       "Default Encoding: UTF-8\n",
       "Language: en\n",
       "Country: null\n",
       "--></g></svg>"
      ]
     },
     "execution_count": 22,
     "metadata": {},
     "output_type": "execute_result"
    }
   ],
   "source": [
    "%viz --style=\"LR\" --view=\"MIXED\" \"ActionTest\""
   ]
  },
  {
   "cell_type": "code",
   "execution_count": 23,
   "id": "published-breath",
   "metadata": {
    "execution": {
     "iopub.execute_input": "2021-03-26T09:41:33.618680Z",
     "iopub.status.busy": "2021-03-26T09:41:33.618224Z",
     "iopub.status.idle": "2021-03-26T09:41:33.643000Z",
     "shell.execute_reply": "2021-03-26T09:41:33.643317Z"
    }
   },
   "outputs": [
    {
     "data": {
      "image/svg+xml": [
       "<?xml version=\"1.0\" encoding=\"UTF-8\" standalone=\"no\"?><svg xmlns=\"http://www.w3.org/2000/svg\" xmlns:xlink=\"http://www.w3.org/1999/xlink\" contentScriptType=\"application/ecmascript\" contentStyleType=\"text/css\" height=\"186px\" preserveAspectRatio=\"none\" style=\"width:170px;height:186px;\" version=\"1.1\" viewBox=\"0 0 170 186\" width=\"170px\" zoomAndPan=\"magnify\"><defs><filter height=\"300%\" id=\"f17inhfabv1t86\" width=\"300%\" x=\"-1\" y=\"-1\"><feGaussianBlur result=\"blurOut\" stdDeviation=\"2.0\"/><feColorMatrix in=\"blurOut\" result=\"blurOut2\" type=\"matrix\" values=\"0 0 0 0 0 0 0 0 0 0 0 0 0 0 0 0 0 0 .4 0\"/><feOffset dx=\"4.0\" dy=\"4.0\" in=\"blurOut2\" result=\"blurOut3\"/><feBlend in=\"SourceGraphic\" in2=\"blurOut3\" mode=\"normal\"/></filter></defs><g><!--MD5=[fbc87193dbaf4d95561dea2c320d4a47]\n",
       "cluster E1--><polygon fill=\"#FFFFFF\" filter=\"url(#f17inhfabv1t86)\" points=\"16,6,107,6,114,28.2969,148,28.2969,148,174,16,174,16,6\" style=\"stroke: #000000; stroke-width: 1.5;\"/><line style=\"stroke: #000000; stroke-width: 1.5;\" x1=\"16\" x2=\"114\" y1=\"28.2969\" y2=\"28.2969\"/><text fill=\"#000000\" font-family=\"sans-serif\" font-size=\"14\" font-weight=\"bold\" lengthAdjust=\"spacingAndGlyphs\" textLength=\"85\" x=\"20\" y=\"20.9951\">ActionTest</text><!--MD5=[e4f7fae6ed58524ba242bb0b0d3be6b7]\n",
       "cluster E2--><rect fill=\"#FEFECE\" filter=\"url(#f17inhfabv1t86)\" height=\"101\" rx=\"12.5\" ry=\"12.5\" style=\"stroke: #000000; stroke-width: 1.5;\" width=\"84\" x=\"40\" y=\"49\"/><rect fill=\"#FFFFFF\" height=\"68.7031\" rx=\"12.5\" ry=\"12.5\" style=\"stroke: #FFFFFF; stroke-width: 1.0;\" width=\"78\" x=\"43\" y=\"78.2969\"/><line style=\"stroke: #000000; stroke-width: 1.5;\" x1=\"40\" x2=\"124\" y1=\"75.2969\" y2=\"75.2969\"/><text fill=\"#000000\" font-family=\"sans-serif\" font-size=\"14\" lengthAdjust=\"spacingAndGlyphs\" textLength=\"8\" x=\"78\" y=\"65.9951\">a</text><g id=\"E1.E2.E3\"><rect fill=\"#FFFFFF\" filter=\"url(#f17inhfabv1t86)\" height=\"50\" rx=\"12.5\" ry=\"12.5\" style=\"stroke: #A80036; stroke-width: 1.5;\" width=\"51\" x=\"56.5\" y=\"84\"/><line style=\"stroke: #A80036; stroke-width: 1.5;\" x1=\"56.5\" x2=\"107.5\" y1=\"110.2969\" y2=\"110.2969\"/><text fill=\"#000000\" font-family=\"sans-serif\" font-size=\"14\" lengthAdjust=\"spacingAndGlyphs\" textLength=\"31\" x=\"66.5\" y=\"101.9951\">start</text></g><!--MD5=[111485b2ad33bf7ae9a00c5fc24b351e]\n",
       "@startuml\r\n",
       "skinparam wrapWidth 300\r\n",
       "hide circle\r\n",
       "\r\n",
       "package \"ActionTest\" as E1   {\r\n",
       "rec usage \"a\" as E2 {\r\n",
       "rec usage \"start\" as E3 {\r\n",
       "}\r\n",
       "\r\n",
       "}\r\n",
       "\r\n",
       "}\r\n",
       "@enduml\r\n",
       "\n",
       "PlantUML version 1.2020.13(Sat Jun 13 12:26:38 UTC 2020)\n",
       "(EPL source distribution)\n",
       "Java Runtime: OpenJDK Runtime Environment\n",
       "JVM: OpenJDK 64-Bit Server VM\n",
       "Default Encoding: UTF-8\n",
       "Language: en\n",
       "Country: null\n",
       "--></g></svg>"
      ]
     },
     "execution_count": 23,
     "metadata": {},
     "output_type": "execute_result"
    }
   ],
   "source": [
    "%viz --style=\"STDCOLOR\" --view=\"Default\" \"ActionTest\""
   ]
  },
  {
   "cell_type": "code",
   "execution_count": 24,
   "id": "exempt-palestinian",
   "metadata": {
    "execution": {
     "iopub.execute_input": "2021-03-26T09:41:33.696955Z",
     "iopub.status.busy": "2021-03-26T09:41:33.696136Z",
     "iopub.status.idle": "2021-03-26T09:41:33.749540Z",
     "shell.execute_reply": "2021-03-26T09:41:33.749211Z"
    }
   },
   "outputs": [
    {
     "data": {
      "image/svg+xml": [
       "<?xml version=\"1.0\" encoding=\"UTF-8\" standalone=\"no\"?><svg xmlns=\"http://www.w3.org/2000/svg\" xmlns:xlink=\"http://www.w3.org/1999/xlink\" contentScriptType=\"application/ecmascript\" contentStyleType=\"text/css\" height=\"145px\" preserveAspectRatio=\"none\" style=\"width:296px;height:145px;\" version=\"1.1\" viewBox=\"0 0 296 145\" width=\"296px\" zoomAndPan=\"magnify\"><defs><filter height=\"300%\" id=\"f6juzfqks29uw\" width=\"300%\" x=\"-1\" y=\"-1\"><feGaussianBlur result=\"blurOut\" stdDeviation=\"2.0\"/><feColorMatrix in=\"blurOut\" result=\"blurOut2\" type=\"matrix\" values=\"0 0 0 0 0 0 0 0 0 0 0 0 0 0 0 0 0 0 .4 0\"/><feOffset dx=\"4.0\" dy=\"4.0\" in=\"blurOut2\" result=\"blurOut3\"/><feBlend in=\"SourceGraphic\" in2=\"blurOut3\" mode=\"normal\"/></filter></defs><g><!--MD5=[fbc87193dbaf4d95561dea2c320d4a47]\n",
       "cluster E1--><polygon fill=\"#FFFFFF\" filter=\"url(#f6juzfqks29uw)\" points=\"16,6,107,6,114,28.2969,274,28.2969,274,133,16,133,16,6\" style=\"stroke: #000000; stroke-width: 1.5;\"/><line style=\"stroke: #000000; stroke-width: 1.5;\" x1=\"16\" x2=\"114\" y1=\"28.2969\" y2=\"28.2969\"/><text fill=\"#000000\" font-family=\"sans-serif\" font-size=\"14\" font-weight=\"bold\" lengthAdjust=\"spacingAndGlyphs\" textLength=\"85\" x=\"20\" y=\"20.9951\">ActionTest</text><!--MD5=[b4997ac47864f28c2f74865a473b2911]\n",
       "class E2--><rect fill=\"#FEFECE\" filter=\"url(#f6juzfqks29uw)\" height=\"75.5469\" id=\"E2\" rx=\"10\" ry=\"10\" style=\"stroke: #A80036; stroke-width: 1.5;\" width=\"225\" x=\"32.5\" y=\"41\"/><text fill=\"#000000\" font-family=\"sans-serif\" font-size=\"12\" font-style=\"italic\" lengthAdjust=\"spacingAndGlyphs\" textLength=\"53\" x=\"118.5\" y=\"57.1387\">«action»</text><text fill=\"#000000\" font-family=\"sans-serif\" font-size=\"12\" lengthAdjust=\"spacingAndGlyphs\" textLength=\"55\" x=\"117.5\" y=\"71.1074\">a: Action</text><line style=\"stroke: #A80036; stroke-width: 1.5;\" x1=\"33.5\" x2=\"256.5\" y1=\"78.9375\" y2=\"78.9375\"/><line style=\"stroke: #000000; stroke-width: 1.0;\" x1=\"38.5\" x2=\"38.5\" y1=\"101.7422\" y2=\"110.7422\"/><polygon fill=\"#FFFF44\" points=\"41.5,102.7422,48.5,106.7422,41.5,110.7422\" style=\"stroke: #000000; stroke-width: 1.0;\"/><text fill=\"#000000\" font-family=\"sans-serif\" font-size=\"11\" lengthAdjust=\"spacingAndGlyphs\" textLength=\"69\" x=\"52.5\" y=\"109.9526\">start: Action</text><text fill=\"#000000\" font-family=\"sans-serif\" font-size=\"11\" lengthAdjust=\"spacingAndGlyphs\" text-decoration=\"line-through\" textLength=\"126\" x=\"125.5\" y=\"109.9526\">Occurrence::startShot</text><line style=\"stroke: #A80036; stroke-width: 1.0;\" x1=\"33.5\" x2=\"124.5\" y1=\"93.3398\" y2=\"93.3398\"/><text fill=\"#000000\" font-family=\"sans-serif\" font-size=\"11\" lengthAdjust=\"spacingAndGlyphs\" textLength=\"41\" x=\"124.5\" y=\"96.6479\">actions</text><line style=\"stroke: #A80036; stroke-width: 1.0;\" x1=\"165.5\" x2=\"256.5\" y1=\"93.3398\" y2=\"93.3398\"/><!--MD5=[a96684dc4cd9a8cc463b0ac34e9ed1a0]\n",
       "@startuml\r\n",
       "skinparam wrapWidth 300\r\n",
       "hide circle\r\n",
       "\r\n",
       "package \"ActionTest\" as E1   {\r\n",
       "comp usage \"a: Action\" as E2  <<(T,blue)action>> {\r\n",
       "- -actions- -\r\n",
       ">start: Action <s>Occurrence::startShot</s>\r\n",
       "}\r\n",
       "}\r\n",
       "@enduml\r\n",
       "\n",
       "PlantUML version 1.2020.13(Sat Jun 13 12:26:38 UTC 2020)\n",
       "(EPL source distribution)\n",
       "Java Runtime: OpenJDK Runtime Environment\n",
       "JVM: OpenJDK 64-Bit Server VM\n",
       "Default Encoding: UTF-8\n",
       "Language: en\n",
       "Country: null\n",
       "--></g></svg>"
      ]
     },
     "execution_count": 24,
     "metadata": {},
     "output_type": "execute_result"
    }
   ],
   "source": [
    "%viz --style=\"STDCOLOR\" --view=\"Tree\" \"ActionTest\""
   ]
  },
  {
   "cell_type": "code",
   "execution_count": 25,
   "id": "invalid-broad",
   "metadata": {
    "execution": {
     "iopub.execute_input": "2021-03-26T09:41:33.799565Z",
     "iopub.status.busy": "2021-03-26T09:41:33.798884Z",
     "iopub.status.idle": "2021-03-26T09:41:33.802398Z",
     "shell.execute_reply": "2021-03-26T09:41:33.802104Z"
    }
   },
   "outputs": [
    {
     "data": {
      "text/plain": [
       "java.lang.IllegalArgumentException: Invalid View: State View candidates are: Default Tree StateMachine Interconnection Activity Sequence MIXED \n",
       "\tat org.omg.sysml.plantuml.SysML2PlantUMLSvc.setView(SysML2PlantUMLSvc.java:63)\n",
       "\tat org.omg.sysml.interactive.SysMLInteractive.viz(SysMLInteractive.java:286)\n",
       "\tat org.omg.sysml.jupyter.kernel.magic.Viz.viz(Viz.java:47)\n",
       "\tat jdk.internal.reflect.GeneratedMethodAccessor7.invoke(Unknown Source)\n",
       "\tat java.base/jdk.internal.reflect.DelegatingMethodAccessorImpl.invoke(DelegatingMethodAccessorImpl.java:43)\n",
       "\tat java.base/java.lang.reflect.Method.invoke(Method.java:568)\n",
       "\tat io.github.spencerpark.jupyter.kernel.magic.registry.Magics.invoke(Magics.java:89)\n",
       "\tat io.github.spencerpark.jupyter.kernel.magic.registry.Magics.access$000(Magics.java:8)\n",
       "\tat io.github.spencerpark.jupyter.kernel.magic.registry.Magics$LineReflectionMagicFunction.execute(Magics.java:149)\n",
       "\tat io.github.spencerpark.jupyter.kernel.magic.registry.Magics.applyLineMagic(Magics.java:26)\n",
       "\tat org.omg.sysml.jupyter.kernel.SysMLKernel.eval(SysMLKernel.java:76)\n",
       "\tat io.github.spencerpark.jupyter.kernel.BaseKernel.handleExecuteRequest(BaseKernel.java:334)\n",
       "\tat io.github.spencerpark.jupyter.channels.ShellChannel.lambda$bind$0(ShellChannel.java:64)\n",
       "\tat io.github.spencerpark.jupyter.channels.Loop.lambda$new$0(Loop.java:21)\n",
       "\tat io.github.spencerpark.jupyter.channels.Loop.run(Loop.java:78)\n"
      ]
     },
     "execution_count": 25,
     "metadata": {},
     "output_type": "execute_result"
    }
   ],
   "source": [
    "%viz --style=\"STDCOLOR\" --view=\"State\" \"ActionTest\""
   ]
  },
  {
   "cell_type": "code",
   "execution_count": 26,
   "id": "through-interface",
   "metadata": {
    "execution": {
     "iopub.execute_input": "2021-03-26T09:41:33.856158Z",
     "iopub.status.busy": "2021-03-26T09:41:33.855582Z",
     "iopub.status.idle": "2021-03-26T09:41:33.880169Z",
     "shell.execute_reply": "2021-03-26T09:41:33.879807Z"
    }
   },
   "outputs": [
    {
     "data": {
      "image/svg+xml": [
       "<?xml version=\"1.0\" encoding=\"UTF-8\" standalone=\"no\"?><svg xmlns=\"http://www.w3.org/2000/svg\" xmlns:xlink=\"http://www.w3.org/1999/xlink\" contentScriptType=\"application/ecmascript\" contentStyleType=\"text/css\" height=\"202px\" preserveAspectRatio=\"none\" style=\"width:392px;height:202px;\" version=\"1.1\" viewBox=\"0 0 392 202\" width=\"392px\" zoomAndPan=\"magnify\"><defs><filter height=\"300%\" id=\"f1lhq7esmvkt7e\" width=\"300%\" x=\"-1\" y=\"-1\"><feGaussianBlur result=\"blurOut\" stdDeviation=\"2.0\"/><feColorMatrix in=\"blurOut\" result=\"blurOut2\" type=\"matrix\" values=\"0 0 0 0 0 0 0 0 0 0 0 0 0 0 0 0 0 0 .4 0\"/><feOffset dx=\"4.0\" dy=\"4.0\" in=\"blurOut2\" result=\"blurOut3\"/><feBlend in=\"SourceGraphic\" in2=\"blurOut3\" mode=\"normal\"/></filter></defs><g><!--MD5=[fbc87193dbaf4d95561dea2c320d4a47]\n",
       "cluster E1--><polygon fill=\"#FFFFFF\" filter=\"url(#f1lhq7esmvkt7e)\" points=\"16,6,107,6,114,28.2969,370,28.2969,370,190,16,190,16,6\" style=\"stroke: #000000; stroke-width: 1.5;\"/><line style=\"stroke: #000000; stroke-width: 1.5;\" x1=\"16\" x2=\"114\" y1=\"28.2969\" y2=\"28.2969\"/><text fill=\"#000000\" font-family=\"sans-serif\" font-size=\"14\" font-weight=\"bold\" lengthAdjust=\"spacingAndGlyphs\" textLength=\"85\" x=\"20\" y=\"20.9951\">ActionTest</text><!--MD5=[e4f7fae6ed58524ba242bb0b0d3be6b7]\n",
       "cluster E2--><rect fill=\"#FEFECE\" filter=\"url(#f1lhq7esmvkt7e)\" height=\"117\" rx=\"12.5\" ry=\"12.5\" style=\"stroke: #000000; stroke-width: 1.5;\" width=\"306\" x=\"40\" y=\"49\"/><rect fill=\"#FFFFFF\" height=\"84.7031\" rx=\"12.5\" ry=\"12.5\" style=\"stroke: #FFFFFF; stroke-width: 1.0;\" width=\"300\" x=\"43\" y=\"78.2969\"/><line style=\"stroke: #000000; stroke-width: 1.5;\" x1=\"40\" x2=\"346\" y1=\"75.2969\" y2=\"75.2969\"/><text fill=\"#000000\" font-family=\"sans-serif\" font-size=\"14\" lengthAdjust=\"spacingAndGlyphs\" textLength=\"60\" x=\"163\" y=\"65.9951\">a: Action</text><g id=\"E1.E2.E3\"><rect fill=\"#FFFFFF\" filter=\"url(#f1lhq7esmvkt7e)\" height=\"50\" rx=\"12.5\" ry=\"12.5\" style=\"stroke: #A80036; stroke-width: 1.5;\" width=\"273\" x=\"56.5\" y=\"100\"/><line style=\"stroke: #A80036; stroke-width: 1.5;\" x1=\"56.5\" x2=\"329.5\" y1=\"126.2969\" y2=\"126.2969\"/><text fill=\"#000000\" font-family=\"sans-serif\" font-size=\"14\" lengthAdjust=\"spacingAndGlyphs\" textLength=\"95\" x=\"66.5\" y=\"117.9951\">&gt;start: Action</text><text fill=\"#000000\" font-family=\"sans-serif\" font-size=\"14\" lengthAdjust=\"spacingAndGlyphs\" text-decoration=\"line-through\" textLength=\"154\" x=\"165.5\" y=\"117.9951\">Occurrence::startShot</text></g><!--MD5=[3646bd9a150e1b770d8202feec89d9c2]\n",
       "@startuml\r\n",
       "skinparam ranksep 8\r\n",
       "skinparam rectangle {\r\n",
       " backgroundColor<<block>> LightGreen\r\n",
       "}\r\n",
       "skinparam wrapWidth 300\r\n",
       "hide circle\r\n",
       "\r\n",
       "package \"ActionTest\" as E1   {\r\n",
       "rec usage \"a: Action\" as E2  <<action>> {\r\n",
       "rec usage \">start: Action <s>Occurrence::startShot</s>\" as E3  <<action>> {\r\n",
       "}\r\n",
       "}\r\n",
       "}\r\n",
       "@enduml\r\n",
       "\n",
       "PlantUML version 1.2020.13(Sat Jun 13 12:26:38 UTC 2020)\n",
       "(EPL source distribution)\n",
       "Java Runtime: OpenJDK Runtime Environment\n",
       "JVM: OpenJDK 64-Bit Server VM\n",
       "Default Encoding: UTF-8\n",
       "Language: en\n",
       "Country: null\n",
       "--></g></svg>"
      ]
     },
     "execution_count": 26,
     "metadata": {},
     "output_type": "execute_result"
    }
   ],
   "source": [
    "%viz --style=\"STDCOLOR\" --view=\"Interconnection\" \"ActionTest\""
   ]
  },
  {
   "cell_type": "code",
   "execution_count": 27,
   "id": "communist-signal",
   "metadata": {
    "execution": {
     "iopub.execute_input": "2021-03-26T09:41:33.931729Z",
     "iopub.status.busy": "2021-03-26T09:41:33.931116Z",
     "iopub.status.idle": "2021-03-26T09:41:33.932796Z",
     "shell.execute_reply": "2021-03-26T09:41:33.931420Z"
    }
   },
   "outputs": [
    {
     "data": {
      "text/plain": [
       "java.lang.IllegalArgumentException: Invalid View: Action View candidates are: Default Tree StateMachine Interconnection Activity Sequence MIXED \n",
       "\tat org.omg.sysml.plantuml.SysML2PlantUMLSvc.setView(SysML2PlantUMLSvc.java:63)\n",
       "\tat org.omg.sysml.interactive.SysMLInteractive.viz(SysMLInteractive.java:286)\n",
       "\tat org.omg.sysml.jupyter.kernel.magic.Viz.viz(Viz.java:47)\n",
       "\tat jdk.internal.reflect.GeneratedMethodAccessor7.invoke(Unknown Source)\n",
       "\tat java.base/jdk.internal.reflect.DelegatingMethodAccessorImpl.invoke(DelegatingMethodAccessorImpl.java:43)\n",
       "\tat java.base/java.lang.reflect.Method.invoke(Method.java:568)\n",
       "\tat io.github.spencerpark.jupyter.kernel.magic.registry.Magics.invoke(Magics.java:89)\n",
       "\tat io.github.spencerpark.jupyter.kernel.magic.registry.Magics.access$000(Magics.java:8)\n",
       "\tat io.github.spencerpark.jupyter.kernel.magic.registry.Magics$LineReflectionMagicFunction.execute(Magics.java:149)\n",
       "\tat io.github.spencerpark.jupyter.kernel.magic.registry.Magics.applyLineMagic(Magics.java:26)\n",
       "\tat org.omg.sysml.jupyter.kernel.SysMLKernel.eval(SysMLKernel.java:76)\n",
       "\tat io.github.spencerpark.jupyter.kernel.BaseKernel.handleExecuteRequest(BaseKernel.java:334)\n",
       "\tat io.github.spencerpark.jupyter.channels.ShellChannel.lambda$bind$0(ShellChannel.java:64)\n",
       "\tat io.github.spencerpark.jupyter.channels.Loop.lambda$new$0(Loop.java:21)\n",
       "\tat io.github.spencerpark.jupyter.channels.Loop.run(Loop.java:78)\n"
      ]
     },
     "execution_count": 27,
     "metadata": {},
     "output_type": "execute_result"
    }
   ],
   "source": [
    "%viz --style=\"STDCOLOR\" --view=\"Action\" \"ActionTest\""
   ]
  },
  {
   "cell_type": "code",
   "execution_count": 28,
   "id": "european-event",
   "metadata": {
    "execution": {
     "iopub.execute_input": "2021-03-26T09:41:33.982935Z",
     "iopub.status.busy": "2021-03-26T09:41:33.982451Z",
     "iopub.status.idle": "2021-03-26T09:41:34.031589Z",
     "shell.execute_reply": "2021-03-26T09:41:34.030914Z"
    }
   },
   "outputs": [
    {
     "data": {
      "image/svg+xml": [
       "<?xml version=\"1.0\" encoding=\"UTF-8\" standalone=\"no\"?><svg xmlns=\"http://www.w3.org/2000/svg\" xmlns:xlink=\"http://www.w3.org/1999/xlink\" contentScriptType=\"application/ecmascript\" contentStyleType=\"text/css\" height=\"145px\" preserveAspectRatio=\"none\" style=\"width:296px;height:145px;\" version=\"1.1\" viewBox=\"0 0 296 145\" width=\"296px\" zoomAndPan=\"magnify\"><defs><filter height=\"300%\" id=\"f6juzfqks29uw\" width=\"300%\" x=\"-1\" y=\"-1\"><feGaussianBlur result=\"blurOut\" stdDeviation=\"2.0\"/><feColorMatrix in=\"blurOut\" result=\"blurOut2\" type=\"matrix\" values=\"0 0 0 0 0 0 0 0 0 0 0 0 0 0 0 0 0 0 .4 0\"/><feOffset dx=\"4.0\" dy=\"4.0\" in=\"blurOut2\" result=\"blurOut3\"/><feBlend in=\"SourceGraphic\" in2=\"blurOut3\" mode=\"normal\"/></filter></defs><g><!--MD5=[fbc87193dbaf4d95561dea2c320d4a47]\n",
       "cluster E1--><polygon fill=\"#FFFFFF\" filter=\"url(#f6juzfqks29uw)\" points=\"16,6,107,6,114,28.2969,274,28.2969,274,133,16,133,16,6\" style=\"stroke: #000000; stroke-width: 1.5;\"/><line style=\"stroke: #000000; stroke-width: 1.5;\" x1=\"16\" x2=\"114\" y1=\"28.2969\" y2=\"28.2969\"/><text fill=\"#000000\" font-family=\"sans-serif\" font-size=\"14\" font-weight=\"bold\" lengthAdjust=\"spacingAndGlyphs\" textLength=\"85\" x=\"20\" y=\"20.9951\">ActionTest</text><!--MD5=[b4997ac47864f28c2f74865a473b2911]\n",
       "class E2--><rect fill=\"#FEFECE\" filter=\"url(#f6juzfqks29uw)\" height=\"75.5469\" id=\"E2\" rx=\"10\" ry=\"10\" style=\"stroke: #A80036; stroke-width: 1.5;\" width=\"225\" x=\"32.5\" y=\"41\"/><text fill=\"#000000\" font-family=\"sans-serif\" font-size=\"12\" font-style=\"italic\" lengthAdjust=\"spacingAndGlyphs\" textLength=\"53\" x=\"118.5\" y=\"57.1387\">«action»</text><text fill=\"#000000\" font-family=\"sans-serif\" font-size=\"12\" lengthAdjust=\"spacingAndGlyphs\" textLength=\"55\" x=\"117.5\" y=\"71.1074\">a: Action</text><line style=\"stroke: #A80036; stroke-width: 1.5;\" x1=\"33.5\" x2=\"256.5\" y1=\"78.9375\" y2=\"78.9375\"/><line style=\"stroke: #000000; stroke-width: 1.0;\" x1=\"38.5\" x2=\"38.5\" y1=\"101.7422\" y2=\"110.7422\"/><polygon fill=\"#FFFF44\" points=\"41.5,102.7422,48.5,106.7422,41.5,110.7422\" style=\"stroke: #000000; stroke-width: 1.0;\"/><text fill=\"#000000\" font-family=\"sans-serif\" font-size=\"11\" lengthAdjust=\"spacingAndGlyphs\" textLength=\"69\" x=\"52.5\" y=\"109.9526\">start: Action</text><text fill=\"#000000\" font-family=\"sans-serif\" font-size=\"11\" lengthAdjust=\"spacingAndGlyphs\" text-decoration=\"line-through\" textLength=\"126\" x=\"125.5\" y=\"109.9526\">Occurrence::startShot</text><line style=\"stroke: #A80036; stroke-width: 1.0;\" x1=\"33.5\" x2=\"124.5\" y1=\"93.3398\" y2=\"93.3398\"/><text fill=\"#000000\" font-family=\"sans-serif\" font-size=\"11\" lengthAdjust=\"spacingAndGlyphs\" textLength=\"41\" x=\"124.5\" y=\"96.6479\">actions</text><line style=\"stroke: #A80036; stroke-width: 1.0;\" x1=\"165.5\" x2=\"256.5\" y1=\"93.3398\" y2=\"93.3398\"/><!--MD5=[a96684dc4cd9a8cc463b0ac34e9ed1a0]\n",
       "@startuml\r\n",
       "skinparam wrapWidth 300\r\n",
       "hide circle\r\n",
       "\r\n",
       "package \"ActionTest\" as E1   {\r\n",
       "comp usage \"a: Action\" as E2  <<(T,blue)action>> {\r\n",
       "- -actions- -\r\n",
       ">start: Action <s>Occurrence::startShot</s>\r\n",
       "}\r\n",
       "}\r\n",
       "@enduml\r\n",
       "\n",
       "PlantUML version 1.2020.13(Sat Jun 13 12:26:38 UTC 2020)\n",
       "(EPL source distribution)\n",
       "Java Runtime: OpenJDK Runtime Environment\n",
       "JVM: OpenJDK 64-Bit Server VM\n",
       "Default Encoding: UTF-8\n",
       "Language: en\n",
       "Country: null\n",
       "--></g></svg>"
      ]
     },
     "execution_count": 28,
     "metadata": {},
     "output_type": "execute_result"
    }
   ],
   "source": [
    "%viz --style=\"STDCOLOR\" --view=\"Sequence\" \"ActionTest\""
   ]
  },
  {
   "cell_type": "code",
   "execution_count": 29,
   "id": "precise-elephant",
   "metadata": {
    "execution": {
     "iopub.execute_input": "2021-03-26T09:41:34.086902Z",
     "iopub.status.busy": "2021-03-26T09:41:34.085937Z",
     "iopub.status.idle": "2021-03-26T09:41:34.109883Z",
     "shell.execute_reply": "2021-03-26T09:41:34.109238Z"
    }
   },
   "outputs": [
    {
     "data": {
      "image/svg+xml": [
       "<?xml version=\"1.0\" encoding=\"UTF-8\" standalone=\"no\"?><svg xmlns=\"http://www.w3.org/2000/svg\" xmlns:xlink=\"http://www.w3.org/1999/xlink\" contentScriptType=\"application/ecmascript\" contentStyleType=\"text/css\" height=\"186px\" preserveAspectRatio=\"none\" style=\"width:170px;height:186px;\" version=\"1.1\" viewBox=\"0 0 170 186\" width=\"170px\" zoomAndPan=\"magnify\"><defs><filter height=\"300%\" id=\"f17inhfabv1t86\" width=\"300%\" x=\"-1\" y=\"-1\"><feGaussianBlur result=\"blurOut\" stdDeviation=\"2.0\"/><feColorMatrix in=\"blurOut\" result=\"blurOut2\" type=\"matrix\" values=\"0 0 0 0 0 0 0 0 0 0 0 0 0 0 0 0 0 0 .4 0\"/><feOffset dx=\"4.0\" dy=\"4.0\" in=\"blurOut2\" result=\"blurOut3\"/><feBlend in=\"SourceGraphic\" in2=\"blurOut3\" mode=\"normal\"/></filter></defs><g><!--MD5=[fbc87193dbaf4d95561dea2c320d4a47]\n",
       "cluster E1--><polygon fill=\"#FFFFFF\" filter=\"url(#f17inhfabv1t86)\" points=\"16,6,107,6,114,28.2969,148,28.2969,148,174,16,174,16,6\" style=\"stroke: #000000; stroke-width: 1.5;\"/><line style=\"stroke: #000000; stroke-width: 1.5;\" x1=\"16\" x2=\"114\" y1=\"28.2969\" y2=\"28.2969\"/><text fill=\"#000000\" font-family=\"sans-serif\" font-size=\"14\" font-weight=\"bold\" lengthAdjust=\"spacingAndGlyphs\" textLength=\"85\" x=\"20\" y=\"20.9951\">ActionTest</text><!--MD5=[e4f7fae6ed58524ba242bb0b0d3be6b7]\n",
       "cluster E2--><rect fill=\"#FEFECE\" filter=\"url(#f17inhfabv1t86)\" height=\"101\" rx=\"12.5\" ry=\"12.5\" style=\"stroke: #000000; stroke-width: 1.5;\" width=\"84\" x=\"40\" y=\"49\"/><rect fill=\"#FFFFFF\" height=\"68.7031\" rx=\"12.5\" ry=\"12.5\" style=\"stroke: #FFFFFF; stroke-width: 1.0;\" width=\"78\" x=\"43\" y=\"78.2969\"/><line style=\"stroke: #000000; stroke-width: 1.5;\" x1=\"40\" x2=\"124\" y1=\"75.2969\" y2=\"75.2969\"/><text fill=\"#000000\" font-family=\"sans-serif\" font-size=\"14\" lengthAdjust=\"spacingAndGlyphs\" textLength=\"8\" x=\"78\" y=\"65.9951\">a</text><g id=\"E1.E2.E3\"><rect fill=\"#FFFFFF\" filter=\"url(#f17inhfabv1t86)\" height=\"50\" rx=\"12.5\" ry=\"12.5\" style=\"stroke: #A80036; stroke-width: 1.5;\" width=\"51\" x=\"56.5\" y=\"84\"/><line style=\"stroke: #A80036; stroke-width: 1.5;\" x1=\"56.5\" x2=\"107.5\" y1=\"110.2969\" y2=\"110.2969\"/><text fill=\"#000000\" font-family=\"sans-serif\" font-size=\"14\" lengthAdjust=\"spacingAndGlyphs\" textLength=\"31\" x=\"66.5\" y=\"101.9951\">start</text></g><!--MD5=[111485b2ad33bf7ae9a00c5fc24b351e]\n",
       "@startuml\r\n",
       "skinparam wrapWidth 300\r\n",
       "hide circle\r\n",
       "\r\n",
       "package \"ActionTest\" as E1   {\r\n",
       "rec usage \"a\" as E2 {\r\n",
       "rec usage \"start\" as E3 {\r\n",
       "}\r\n",
       "\r\n",
       "}\r\n",
       "\r\n",
       "}\r\n",
       "@enduml\r\n",
       "\n",
       "PlantUML version 1.2020.13(Sat Jun 13 12:26:38 UTC 2020)\n",
       "(EPL source distribution)\n",
       "Java Runtime: OpenJDK Runtime Environment\n",
       "JVM: OpenJDK 64-Bit Server VM\n",
       "Default Encoding: UTF-8\n",
       "Language: en\n",
       "Country: null\n",
       "--></g></svg>"
      ]
     },
     "execution_count": 29,
     "metadata": {},
     "output_type": "execute_result"
    }
   ],
   "source": [
    "%viz --style=\"STDCOLOR\" --view=\"MIXED\" \"ActionTest\""
   ]
  },
  {
   "cell_type": "code",
   "execution_count": 30,
   "id": "assisted-output",
   "metadata": {
    "execution": {
     "iopub.execute_input": "2021-03-26T09:41:34.164209Z",
     "iopub.status.busy": "2021-03-26T09:41:34.163362Z",
     "iopub.status.idle": "2021-03-26T09:41:34.187239Z",
     "shell.execute_reply": "2021-03-26T09:41:34.186897Z"
    }
   },
   "outputs": [
    {
     "data": {
      "image/svg+xml": [
       "<?xml version=\"1.0\" encoding=\"UTF-8\" standalone=\"no\"?><svg xmlns=\"http://www.w3.org/2000/svg\" xmlns:xlink=\"http://www.w3.org/1999/xlink\" contentScriptType=\"application/ecmascript\" contentStyleType=\"text/css\" height=\"186px\" preserveAspectRatio=\"none\" style=\"width:170px;height:186px;\" version=\"1.1\" viewBox=\"0 0 170 186\" width=\"170px\" zoomAndPan=\"magnify\"><defs><filter height=\"300%\" id=\"f6cwi2z810qkz\" width=\"300%\" x=\"-1\" y=\"-1\"><feGaussianBlur result=\"blurOut\" stdDeviation=\"2.0\"/><feColorMatrix in=\"blurOut\" result=\"blurOut2\" type=\"matrix\" values=\"0 0 0 0 0 0 0 0 0 0 0 0 0 0 0 0 0 0 .4 0\"/><feOffset dx=\"4.0\" dy=\"4.0\" in=\"blurOut2\" result=\"blurOut3\"/><feBlend in=\"SourceGraphic\" in2=\"blurOut3\" mode=\"normal\"/></filter></defs><g><!--MD5=[fbc87193dbaf4d95561dea2c320d4a47]\n",
       "cluster E1--><polygon fill=\"#FFFFFF\" filter=\"url(#f6cwi2z810qkz)\" points=\"16,6,107,6,114,28.2969,148,28.2969,148,174,16,174,16,6\" style=\"stroke: #000000; stroke-width: 1.5;\"/><line style=\"stroke: #000000; stroke-width: 1.5;\" x1=\"16\" x2=\"114\" y1=\"28.2969\" y2=\"28.2969\"/><text fill=\"#000000\" font-family=\"sans-serif\" font-size=\"14\" font-weight=\"bold\" lengthAdjust=\"spacingAndGlyphs\" textLength=\"85\" x=\"20\" y=\"20.9951\">ActionTest</text><!--MD5=[e4f7fae6ed58524ba242bb0b0d3be6b7]\n",
       "cluster E2--><rect fill=\"#FEFECE\" filter=\"url(#f6cwi2z810qkz)\" height=\"101\" rx=\"12.5\" ry=\"12.5\" style=\"stroke: #000000; stroke-width: 1.5;\" width=\"84\" x=\"40\" y=\"49\"/><rect fill=\"#FFFFFF\" height=\"68.7031\" rx=\"12.5\" ry=\"12.5\" style=\"stroke: #FFFFFF; stroke-width: 1.0;\" width=\"78\" x=\"43\" y=\"78.2969\"/><line style=\"stroke: #000000; stroke-width: 1.5;\" x1=\"40\" x2=\"124\" y1=\"75.2969\" y2=\"75.2969\"/><text fill=\"#000000\" font-family=\"sans-serif\" font-size=\"14\" lengthAdjust=\"spacingAndGlyphs\" textLength=\"8\" x=\"78\" y=\"65.9951\">a</text><g id=\"E1.E2.E3\"><rect fill=\"#FFFFFF\" filter=\"url(#f6cwi2z810qkz)\" height=\"50\" rx=\"12.5\" ry=\"12.5\" style=\"stroke: #A80036; stroke-width: 1.5;\" width=\"51\" x=\"56.5\" y=\"84\"/><line style=\"stroke: #A80036; stroke-width: 1.5;\" x1=\"56.5\" x2=\"107.5\" y1=\"110.2969\" y2=\"110.2969\"/><text fill=\"#000000\" font-family=\"sans-serif\" font-size=\"14\" lengthAdjust=\"spacingAndGlyphs\" textLength=\"31\" x=\"66.5\" y=\"101.9951\">start</text></g><!--MD5=[173b989ecbfa9067ced8a155e3dec482]\n",
       "@startuml\r\n",
       " \r\n",
       "package \"ActionTest\" as E1   {\r\n",
       "rec usage \"a\" as E2 {\r\n",
       "rec usage \"start\" as E3 {\r\n",
       "}\r\n",
       "\r\n",
       "}\r\n",
       "\r\n",
       "}\r\n",
       "@enduml\r\n",
       "\n",
       "PlantUML version 1.2020.13(Sat Jun 13 12:26:38 UTC 2020)\n",
       "(EPL source distribution)\n",
       "Java Runtime: OpenJDK Runtime Environment\n",
       "JVM: OpenJDK 64-Bit Server VM\n",
       "Default Encoding: UTF-8\n",
       "Language: en\n",
       "Country: null\n",
       "--></g></svg>"
      ]
     },
     "execution_count": 30,
     "metadata": {},
     "output_type": "execute_result"
    }
   ],
   "source": [
    "%viz --style=\"PLANTUML\" --view=\"Default\" \"ActionTest\""
   ]
  },
  {
   "cell_type": "code",
   "execution_count": 31,
   "id": "recreational-minnesota",
   "metadata": {
    "execution": {
     "iopub.execute_input": "2021-03-26T09:41:34.238715Z",
     "iopub.status.busy": "2021-03-26T09:41:34.238219Z",
     "iopub.status.idle": "2021-03-26T09:41:34.305386Z",
     "shell.execute_reply": "2021-03-26T09:41:34.305089Z"
    }
   },
   "outputs": [
    {
     "data": {
      "image/svg+xml": [
       "<?xml version=\"1.0\" encoding=\"UTF-8\" standalone=\"no\"?><svg xmlns=\"http://www.w3.org/2000/svg\" xmlns:xlink=\"http://www.w3.org/1999/xlink\" contentScriptType=\"application/ecmascript\" contentStyleType=\"text/css\" height=\"157px\" preserveAspectRatio=\"none\" style=\"width:230px;height:157px;\" version=\"1.1\" viewBox=\"0 0 230 157\" width=\"230px\" zoomAndPan=\"magnify\"><defs><filter height=\"300%\" id=\"f130h325mfysr1\" width=\"300%\" x=\"-1\" y=\"-1\"><feGaussianBlur result=\"blurOut\" stdDeviation=\"2.0\"/><feColorMatrix in=\"blurOut\" result=\"blurOut2\" type=\"matrix\" values=\"0 0 0 0 0 0 0 0 0 0 0 0 0 0 0 0 0 0 .4 0\"/><feOffset dx=\"4.0\" dy=\"4.0\" in=\"blurOut2\" result=\"blurOut3\"/><feBlend in=\"SourceGraphic\" in2=\"blurOut3\" mode=\"normal\"/></filter></defs><g><!--MD5=[fbc87193dbaf4d95561dea2c320d4a47]\n",
       "cluster E1--><polygon fill=\"#FFFFFF\" filter=\"url(#f130h325mfysr1)\" points=\"16,6,107,6,114,28.2969,208,28.2969,208,145,16,145,16,6\" style=\"stroke: #000000; stroke-width: 1.5;\"/><line style=\"stroke: #000000; stroke-width: 1.5;\" x1=\"16\" x2=\"114\" y1=\"28.2969\" y2=\"28.2969\"/><text fill=\"#000000\" font-family=\"sans-serif\" font-size=\"14\" font-weight=\"bold\" lengthAdjust=\"spacingAndGlyphs\" textLength=\"85\" x=\"20\" y=\"20.9951\">ActionTest</text><!--MD5=[b4997ac47864f28c2f74865a473b2911]\n",
       "class E2--><rect fill=\"#FEFECE\" filter=\"url(#f130h325mfysr1)\" height=\"88.3516\" id=\"E2\" rx=\"10\" ry=\"10\" style=\"stroke: #A80036; stroke-width: 1.5;\" width=\"160\" x=\"32\" y=\"41\"/><ellipse cx=\"80.25\" cy=\"59.9688\" fill=\"#FFA500\" rx=\"11\" ry=\"11\" style=\"stroke: #A80036; stroke-width: 1.0;\"/><path d=\"M76.125,61.8906 L76.125,54.0781 L78.5781,54.0781 L78.5781,62.5156 Q78.5781,63.4375 79.0469,63.9688 Q79.5313,64.5 80.3594,64.5 Q81.2031,64.5 81.6719,63.9688 Q82.1406,63.4375 82.1406,62.5156 L82.1406,54.0781 L84.5938,54.0781 L84.5938,61.8906 Q84.5938,64.4219 83.5938,65.5625 Q82.5938,66.7031 80.3594,66.7031 Q78.1406,66.7031 77.125,65.5625 Q76.125,64.4219 76.125,61.8906 Z \"/><text fill=\"#000000\" font-family=\"sans-serif\" font-size=\"12\" font-style=\"italic\" lengthAdjust=\"spacingAndGlyphs\" textLength=\"53\" x=\"101.75\" y=\"57.1387\">«action»</text><text fill=\"#000000\" font-family=\"sans-serif\" font-size=\"12\" lengthAdjust=\"spacingAndGlyphs\" textLength=\"55\" x=\"100.75\" y=\"71.1074\">a: Action</text><line style=\"stroke: #A80036; stroke-width: 1.5;\" x1=\"33\" x2=\"191\" y1=\"78.9375\" y2=\"78.9375\"/><text fill=\"#000000\" font-family=\"sans-serif\" font-size=\"11\" lengthAdjust=\"spacingAndGlyphs\" textLength=\"69\" x=\"38\" y=\"109.9526\">start: Action</text><text fill=\"#000000\" font-family=\"sans-serif\" font-size=\"11\" font-style=\"italic\" lengthAdjust=\"spacingAndGlyphs\" textLength=\"148\" x=\"38\" y=\"122.7573\">:&gt;&gt;Occurrence::startShot</text><line style=\"stroke: #A80036; stroke-width: 1.0;\" x1=\"33\" x2=\"91.5\" y1=\"93.3398\" y2=\"93.3398\"/><text fill=\"#000000\" font-family=\"sans-serif\" font-size=\"11\" lengthAdjust=\"spacingAndGlyphs\" textLength=\"41\" x=\"91.5\" y=\"96.6479\">actions</text><line style=\"stroke: #A80036; stroke-width: 1.0;\" x1=\"132.5\" x2=\"191\" y1=\"93.3398\" y2=\"93.3398\"/><!--MD5=[c5a61ff054bfdd1754bfaa926d95fe63]\n",
       "@startuml\r\n",
       " \r\n",
       "package \"ActionTest\" as E1   {\r\n",
       "comp usage \"a: Action\" as E2  <<(U,orange)action>> {\r\n",
       "- -actions- -\r\n",
       "start: Action\\n//:>>Occurrence::startShot// \r\n",
       "}\r\n",
       "}\r\n",
       "@enduml\r\n",
       "\n",
       "PlantUML version 1.2020.13(Sat Jun 13 12:26:38 UTC 2020)\n",
       "(EPL source distribution)\n",
       "Java Runtime: OpenJDK Runtime Environment\n",
       "JVM: OpenJDK 64-Bit Server VM\n",
       "Default Encoding: UTF-8\n",
       "Language: en\n",
       "Country: null\n",
       "--></g></svg>"
      ]
     },
     "execution_count": 31,
     "metadata": {},
     "output_type": "execute_result"
    }
   ],
   "source": [
    "%viz --style=\"PLANTUML\" --view=\"Tree\" \"ActionTest\""
   ]
  },
  {
   "cell_type": "code",
   "execution_count": 32,
   "id": "covered-jordan",
   "metadata": {
    "execution": {
     "iopub.execute_input": "2021-03-26T09:41:34.358263Z",
     "iopub.status.busy": "2021-03-26T09:41:34.357551Z",
     "iopub.status.idle": "2021-03-26T09:41:34.359416Z",
     "shell.execute_reply": "2021-03-26T09:41:34.359880Z"
    }
   },
   "outputs": [
    {
     "data": {
      "text/plain": [
       "java.lang.IllegalArgumentException: Invalid View: State View candidates are: Default Tree StateMachine Interconnection Activity Sequence MIXED \n",
       "\tat org.omg.sysml.plantuml.SysML2PlantUMLSvc.setView(SysML2PlantUMLSvc.java:63)\n",
       "\tat org.omg.sysml.interactive.SysMLInteractive.viz(SysMLInteractive.java:286)\n",
       "\tat org.omg.sysml.jupyter.kernel.magic.Viz.viz(Viz.java:47)\n",
       "\tat jdk.internal.reflect.GeneratedMethodAccessor7.invoke(Unknown Source)\n",
       "\tat java.base/jdk.internal.reflect.DelegatingMethodAccessorImpl.invoke(DelegatingMethodAccessorImpl.java:43)\n",
       "\tat java.base/java.lang.reflect.Method.invoke(Method.java:568)\n",
       "\tat io.github.spencerpark.jupyter.kernel.magic.registry.Magics.invoke(Magics.java:89)\n",
       "\tat io.github.spencerpark.jupyter.kernel.magic.registry.Magics.access$000(Magics.java:8)\n",
       "\tat io.github.spencerpark.jupyter.kernel.magic.registry.Magics$LineReflectionMagicFunction.execute(Magics.java:149)\n",
       "\tat io.github.spencerpark.jupyter.kernel.magic.registry.Magics.applyLineMagic(Magics.java:26)\n",
       "\tat org.omg.sysml.jupyter.kernel.SysMLKernel.eval(SysMLKernel.java:76)\n",
       "\tat io.github.spencerpark.jupyter.kernel.BaseKernel.handleExecuteRequest(BaseKernel.java:334)\n",
       "\tat io.github.spencerpark.jupyter.channels.ShellChannel.lambda$bind$0(ShellChannel.java:64)\n",
       "\tat io.github.spencerpark.jupyter.channels.Loop.lambda$new$0(Loop.java:21)\n",
       "\tat io.github.spencerpark.jupyter.channels.Loop.run(Loop.java:78)\n"
      ]
     },
     "execution_count": 32,
     "metadata": {},
     "output_type": "execute_result"
    }
   ],
   "source": [
    "%viz --style=\"PLANTUML\" --view=\"State\" \"ActionTest\""
   ]
  },
  {
   "cell_type": "code",
   "execution_count": 33,
   "id": "palestinian-consolidation",
   "metadata": {
    "execution": {
     "iopub.execute_input": "2021-03-26T09:41:34.412295Z",
     "iopub.status.busy": "2021-03-26T09:41:34.411611Z",
     "iopub.status.idle": "2021-03-26T09:41:34.436244Z",
     "shell.execute_reply": "2021-03-26T09:41:34.435948Z"
    }
   },
   "outputs": [
    {
     "data": {
      "image/svg+xml": [
       "<?xml version=\"1.0\" encoding=\"UTF-8\" standalone=\"no\"?><svg xmlns=\"http://www.w3.org/2000/svg\" xmlns:xlink=\"http://www.w3.org/1999/xlink\" contentScriptType=\"application/ecmascript\" contentStyleType=\"text/css\" height=\"205px\" preserveAspectRatio=\"none\" style=\"width:326px;height:205px;\" version=\"1.1\" viewBox=\"0 0 326 205\" width=\"326px\" zoomAndPan=\"magnify\"><defs><filter height=\"300%\" id=\"frgt0k0izpmc4\" width=\"300%\" x=\"-1\" y=\"-1\"><feGaussianBlur result=\"blurOut\" stdDeviation=\"2.0\"/><feColorMatrix in=\"blurOut\" result=\"blurOut2\" type=\"matrix\" values=\"0 0 0 0 0 0 0 0 0 0 0 0 0 0 0 0 0 0 .4 0\"/><feOffset dx=\"4.0\" dy=\"4.0\" in=\"blurOut2\" result=\"blurOut3\"/><feBlend in=\"SourceGraphic\" in2=\"blurOut3\" mode=\"normal\"/></filter></defs><g><!--MD5=[fbc87193dbaf4d95561dea2c320d4a47]\n",
       "cluster E1--><polygon fill=\"#FFFFFF\" filter=\"url(#frgt0k0izpmc4)\" points=\"16,6,107,6,114,28.2969,304,28.2969,304,193,16,193,16,6\" style=\"stroke: #000000; stroke-width: 1.5;\"/><line style=\"stroke: #000000; stroke-width: 1.5;\" x1=\"16\" x2=\"114\" y1=\"28.2969\" y2=\"28.2969\"/><text fill=\"#000000\" font-family=\"sans-serif\" font-size=\"14\" font-weight=\"bold\" lengthAdjust=\"spacingAndGlyphs\" textLength=\"85\" x=\"20\" y=\"20.9951\">ActionTest</text><!--MD5=[e4f7fae6ed58524ba242bb0b0d3be6b7]\n",
       "cluster E2--><rect fill=\"#FEFECE\" filter=\"url(#frgt0k0izpmc4)\" height=\"120\" rx=\"12.5\" ry=\"12.5\" style=\"stroke: #000000; stroke-width: 1.5;\" width=\"240\" x=\"40\" y=\"49\"/><rect fill=\"#FFFFFF\" height=\"87.7031\" rx=\"12.5\" ry=\"12.5\" style=\"stroke: #FFFFFF; stroke-width: 1.0;\" width=\"234\" x=\"43\" y=\"78.2969\"/><line style=\"stroke: #000000; stroke-width: 1.5;\" x1=\"40\" x2=\"280\" y1=\"75.2969\" y2=\"75.2969\"/><text fill=\"#000000\" font-family=\"sans-serif\" font-size=\"14\" lengthAdjust=\"spacingAndGlyphs\" textLength=\"60\" x=\"130\" y=\"65.9951\">a: Action</text><g id=\"E1.E2.E3\"><rect fill=\"#FFFFFF\" filter=\"url(#frgt0k0izpmc4)\" height=\"52.5938\" rx=\"12.5\" ry=\"12.5\" style=\"stroke: #A80036; stroke-width: 1.5;\" width=\"207\" x=\"56.5\" y=\"100\"/><line style=\"stroke: #A80036; stroke-width: 1.5;\" x1=\"56.5\" x2=\"263.5\" y1=\"142.5938\" y2=\"142.5938\"/><text fill=\"#000000\" font-family=\"sans-serif\" font-size=\"14\" lengthAdjust=\"spacingAndGlyphs\" textLength=\"83\" x=\"118.5\" y=\"117.9951\">start: Action</text><text fill=\"#000000\" font-family=\"sans-serif\" font-size=\"14\" font-style=\"italic\" lengthAdjust=\"spacingAndGlyphs\" textLength=\"183\" x=\"66.5\" y=\"134.292\">:&gt;&gt;Occurrence::startShot</text><text fill=\"#000000\" font-family=\"sans-serif\" font-size=\"14\" lengthAdjust=\"spacingAndGlyphs\" textLength=\"0\" x=\"253.5\" y=\"134.292\"/></g><!--MD5=[95422cd7a682fa62b226d6687ca70e1a]\n",
       "@startuml\r\n",
       "skinparam ranksep 8\r\n",
       "skinparam rectangle {\r\n",
       " backgroundColor<<block>> LightGreen\r\n",
       "}\r\n",
       " \r\n",
       "package \"ActionTest\" as E1   {\r\n",
       "rec usage \"a: Action\" as E2  <<action>> {\r\n",
       "rec usage \"start: Action\\n//:>>Occurrence::startShot// \" as E3  <<action>> {\r\n",
       "}\r\n",
       "}\r\n",
       "}\r\n",
       "@enduml\r\n",
       "\n",
       "PlantUML version 1.2020.13(Sat Jun 13 12:26:38 UTC 2020)\n",
       "(EPL source distribution)\n",
       "Java Runtime: OpenJDK Runtime Environment\n",
       "JVM: OpenJDK 64-Bit Server VM\n",
       "Default Encoding: UTF-8\n",
       "Language: en\n",
       "Country: null\n",
       "--></g></svg>"
      ]
     },
     "execution_count": 33,
     "metadata": {},
     "output_type": "execute_result"
    }
   ],
   "source": [
    "%viz --style=\"PLANTUML\" --view=\"Interconnection\" \"ActionTest\""
   ]
  },
  {
   "cell_type": "code",
   "execution_count": 34,
   "id": "structural-percentage",
   "metadata": {
    "execution": {
     "iopub.execute_input": "2021-03-26T09:41:34.488384Z",
     "iopub.status.busy": "2021-03-26T09:41:34.487659Z",
     "iopub.status.idle": "2021-03-26T09:41:34.489931Z",
     "shell.execute_reply": "2021-03-26T09:41:34.490363Z"
    }
   },
   "outputs": [
    {
     "data": {
      "text/plain": [
       "java.lang.IllegalArgumentException: Invalid View: Action View candidates are: Default Tree StateMachine Interconnection Activity Sequence MIXED \n",
       "\tat org.omg.sysml.plantuml.SysML2PlantUMLSvc.setView(SysML2PlantUMLSvc.java:63)\n",
       "\tat org.omg.sysml.interactive.SysMLInteractive.viz(SysMLInteractive.java:286)\n",
       "\tat org.omg.sysml.jupyter.kernel.magic.Viz.viz(Viz.java:47)\n",
       "\tat jdk.internal.reflect.GeneratedMethodAccessor7.invoke(Unknown Source)\n",
       "\tat java.base/jdk.internal.reflect.DelegatingMethodAccessorImpl.invoke(DelegatingMethodAccessorImpl.java:43)\n",
       "\tat java.base/java.lang.reflect.Method.invoke(Method.java:568)\n",
       "\tat io.github.spencerpark.jupyter.kernel.magic.registry.Magics.invoke(Magics.java:89)\n",
       "\tat io.github.spencerpark.jupyter.kernel.magic.registry.Magics.access$000(Magics.java:8)\n",
       "\tat io.github.spencerpark.jupyter.kernel.magic.registry.Magics$LineReflectionMagicFunction.execute(Magics.java:149)\n",
       "\tat io.github.spencerpark.jupyter.kernel.magic.registry.Magics.applyLineMagic(Magics.java:26)\n",
       "\tat org.omg.sysml.jupyter.kernel.SysMLKernel.eval(SysMLKernel.java:76)\n",
       "\tat io.github.spencerpark.jupyter.kernel.BaseKernel.handleExecuteRequest(BaseKernel.java:334)\n",
       "\tat io.github.spencerpark.jupyter.channels.ShellChannel.lambda$bind$0(ShellChannel.java:64)\n",
       "\tat io.github.spencerpark.jupyter.channels.Loop.lambda$new$0(Loop.java:21)\n",
       "\tat io.github.spencerpark.jupyter.channels.Loop.run(Loop.java:78)\n"
      ]
     },
     "execution_count": 34,
     "metadata": {},
     "output_type": "execute_result"
    }
   ],
   "source": [
    "%viz --style=\"PLANTUML\" --view=\"Action\" \"ActionTest\""
   ]
  },
  {
   "cell_type": "code",
   "execution_count": 35,
   "id": "cloudy-protocol",
   "metadata": {
    "execution": {
     "iopub.execute_input": "2021-03-26T09:41:34.542477Z",
     "iopub.status.busy": "2021-03-26T09:41:34.542007Z",
     "iopub.status.idle": "2021-03-26T09:41:34.585035Z",
     "shell.execute_reply": "2021-03-26T09:41:34.584673Z"
    }
   },
   "outputs": [
    {
     "data": {
      "image/svg+xml": [
       "<?xml version=\"1.0\" encoding=\"UTF-8\" standalone=\"no\"?><svg xmlns=\"http://www.w3.org/2000/svg\" xmlns:xlink=\"http://www.w3.org/1999/xlink\" contentScriptType=\"application/ecmascript\" contentStyleType=\"text/css\" height=\"157px\" preserveAspectRatio=\"none\" style=\"width:230px;height:157px;\" version=\"1.1\" viewBox=\"0 0 230 157\" width=\"230px\" zoomAndPan=\"magnify\"><defs><filter height=\"300%\" id=\"f130h325mfysr1\" width=\"300%\" x=\"-1\" y=\"-1\"><feGaussianBlur result=\"blurOut\" stdDeviation=\"2.0\"/><feColorMatrix in=\"blurOut\" result=\"blurOut2\" type=\"matrix\" values=\"0 0 0 0 0 0 0 0 0 0 0 0 0 0 0 0 0 0 .4 0\"/><feOffset dx=\"4.0\" dy=\"4.0\" in=\"blurOut2\" result=\"blurOut3\"/><feBlend in=\"SourceGraphic\" in2=\"blurOut3\" mode=\"normal\"/></filter></defs><g><!--MD5=[fbc87193dbaf4d95561dea2c320d4a47]\n",
       "cluster E1--><polygon fill=\"#FFFFFF\" filter=\"url(#f130h325mfysr1)\" points=\"16,6,107,6,114,28.2969,208,28.2969,208,145,16,145,16,6\" style=\"stroke: #000000; stroke-width: 1.5;\"/><line style=\"stroke: #000000; stroke-width: 1.5;\" x1=\"16\" x2=\"114\" y1=\"28.2969\" y2=\"28.2969\"/><text fill=\"#000000\" font-family=\"sans-serif\" font-size=\"14\" font-weight=\"bold\" lengthAdjust=\"spacingAndGlyphs\" textLength=\"85\" x=\"20\" y=\"20.9951\">ActionTest</text><!--MD5=[b4997ac47864f28c2f74865a473b2911]\n",
       "class E2--><rect fill=\"#FEFECE\" filter=\"url(#f130h325mfysr1)\" height=\"88.3516\" id=\"E2\" rx=\"10\" ry=\"10\" style=\"stroke: #A80036; stroke-width: 1.5;\" width=\"160\" x=\"32\" y=\"41\"/><ellipse cx=\"80.25\" cy=\"59.9688\" fill=\"#FFA500\" rx=\"11\" ry=\"11\" style=\"stroke: #A80036; stroke-width: 1.0;\"/><path d=\"M76.125,61.8906 L76.125,54.0781 L78.5781,54.0781 L78.5781,62.5156 Q78.5781,63.4375 79.0469,63.9688 Q79.5313,64.5 80.3594,64.5 Q81.2031,64.5 81.6719,63.9688 Q82.1406,63.4375 82.1406,62.5156 L82.1406,54.0781 L84.5938,54.0781 L84.5938,61.8906 Q84.5938,64.4219 83.5938,65.5625 Q82.5938,66.7031 80.3594,66.7031 Q78.1406,66.7031 77.125,65.5625 Q76.125,64.4219 76.125,61.8906 Z \"/><text fill=\"#000000\" font-family=\"sans-serif\" font-size=\"12\" font-style=\"italic\" lengthAdjust=\"spacingAndGlyphs\" textLength=\"53\" x=\"101.75\" y=\"57.1387\">«action»</text><text fill=\"#000000\" font-family=\"sans-serif\" font-size=\"12\" lengthAdjust=\"spacingAndGlyphs\" textLength=\"55\" x=\"100.75\" y=\"71.1074\">a: Action</text><line style=\"stroke: #A80036; stroke-width: 1.5;\" x1=\"33\" x2=\"191\" y1=\"78.9375\" y2=\"78.9375\"/><text fill=\"#000000\" font-family=\"sans-serif\" font-size=\"11\" lengthAdjust=\"spacingAndGlyphs\" textLength=\"69\" x=\"38\" y=\"109.9526\">start: Action</text><text fill=\"#000000\" font-family=\"sans-serif\" font-size=\"11\" font-style=\"italic\" lengthAdjust=\"spacingAndGlyphs\" textLength=\"148\" x=\"38\" y=\"122.7573\">:&gt;&gt;Occurrence::startShot</text><line style=\"stroke: #A80036; stroke-width: 1.0;\" x1=\"33\" x2=\"91.5\" y1=\"93.3398\" y2=\"93.3398\"/><text fill=\"#000000\" font-family=\"sans-serif\" font-size=\"11\" lengthAdjust=\"spacingAndGlyphs\" textLength=\"41\" x=\"91.5\" y=\"96.6479\">actions</text><line style=\"stroke: #A80036; stroke-width: 1.0;\" x1=\"132.5\" x2=\"191\" y1=\"93.3398\" y2=\"93.3398\"/><!--MD5=[c5a61ff054bfdd1754bfaa926d95fe63]\n",
       "@startuml\r\n",
       " \r\n",
       "package \"ActionTest\" as E1   {\r\n",
       "comp usage \"a: Action\" as E2  <<(U,orange)action>> {\r\n",
       "- -actions- -\r\n",
       "start: Action\\n//:>>Occurrence::startShot// \r\n",
       "}\r\n",
       "}\r\n",
       "@enduml\r\n",
       "\n",
       "PlantUML version 1.2020.13(Sat Jun 13 12:26:38 UTC 2020)\n",
       "(EPL source distribution)\n",
       "Java Runtime: OpenJDK Runtime Environment\n",
       "JVM: OpenJDK 64-Bit Server VM\n",
       "Default Encoding: UTF-8\n",
       "Language: en\n",
       "Country: null\n",
       "--></g></svg>"
      ]
     },
     "execution_count": 35,
     "metadata": {},
     "output_type": "execute_result"
    }
   ],
   "source": [
    "%viz --style=\"PLANTUML\" --view=\"Sequence\" \"ActionTest\""
   ]
  },
  {
   "cell_type": "code",
   "execution_count": 36,
   "id": "industrial-kitchen",
   "metadata": {
    "execution": {
     "iopub.execute_input": "2021-03-26T09:41:34.637481Z",
     "iopub.status.busy": "2021-03-26T09:41:34.636969Z",
     "iopub.status.idle": "2021-03-26T09:41:34.657578Z",
     "shell.execute_reply": "2021-03-26T09:41:34.657287Z"
    }
   },
   "outputs": [
    {
     "data": {
      "image/svg+xml": [
       "<?xml version=\"1.0\" encoding=\"UTF-8\" standalone=\"no\"?><svg xmlns=\"http://www.w3.org/2000/svg\" xmlns:xlink=\"http://www.w3.org/1999/xlink\" contentScriptType=\"application/ecmascript\" contentStyleType=\"text/css\" height=\"186px\" preserveAspectRatio=\"none\" style=\"width:170px;height:186px;\" version=\"1.1\" viewBox=\"0 0 170 186\" width=\"170px\" zoomAndPan=\"magnify\"><defs><filter height=\"300%\" id=\"f6cwi2z810qkz\" width=\"300%\" x=\"-1\" y=\"-1\"><feGaussianBlur result=\"blurOut\" stdDeviation=\"2.0\"/><feColorMatrix in=\"blurOut\" result=\"blurOut2\" type=\"matrix\" values=\"0 0 0 0 0 0 0 0 0 0 0 0 0 0 0 0 0 0 .4 0\"/><feOffset dx=\"4.0\" dy=\"4.0\" in=\"blurOut2\" result=\"blurOut3\"/><feBlend in=\"SourceGraphic\" in2=\"blurOut3\" mode=\"normal\"/></filter></defs><g><!--MD5=[fbc87193dbaf4d95561dea2c320d4a47]\n",
       "cluster E1--><polygon fill=\"#FFFFFF\" filter=\"url(#f6cwi2z810qkz)\" points=\"16,6,107,6,114,28.2969,148,28.2969,148,174,16,174,16,6\" style=\"stroke: #000000; stroke-width: 1.5;\"/><line style=\"stroke: #000000; stroke-width: 1.5;\" x1=\"16\" x2=\"114\" y1=\"28.2969\" y2=\"28.2969\"/><text fill=\"#000000\" font-family=\"sans-serif\" font-size=\"14\" font-weight=\"bold\" lengthAdjust=\"spacingAndGlyphs\" textLength=\"85\" x=\"20\" y=\"20.9951\">ActionTest</text><!--MD5=[e4f7fae6ed58524ba242bb0b0d3be6b7]\n",
       "cluster E2--><rect fill=\"#FEFECE\" filter=\"url(#f6cwi2z810qkz)\" height=\"101\" rx=\"12.5\" ry=\"12.5\" style=\"stroke: #000000; stroke-width: 1.5;\" width=\"84\" x=\"40\" y=\"49\"/><rect fill=\"#FFFFFF\" height=\"68.7031\" rx=\"12.5\" ry=\"12.5\" style=\"stroke: #FFFFFF; stroke-width: 1.0;\" width=\"78\" x=\"43\" y=\"78.2969\"/><line style=\"stroke: #000000; stroke-width: 1.5;\" x1=\"40\" x2=\"124\" y1=\"75.2969\" y2=\"75.2969\"/><text fill=\"#000000\" font-family=\"sans-serif\" font-size=\"14\" lengthAdjust=\"spacingAndGlyphs\" textLength=\"8\" x=\"78\" y=\"65.9951\">a</text><g id=\"E1.E2.E3\"><rect fill=\"#FFFFFF\" filter=\"url(#f6cwi2z810qkz)\" height=\"50\" rx=\"12.5\" ry=\"12.5\" style=\"stroke: #A80036; stroke-width: 1.5;\" width=\"51\" x=\"56.5\" y=\"84\"/><line style=\"stroke: #A80036; stroke-width: 1.5;\" x1=\"56.5\" x2=\"107.5\" y1=\"110.2969\" y2=\"110.2969\"/><text fill=\"#000000\" font-family=\"sans-serif\" font-size=\"14\" lengthAdjust=\"spacingAndGlyphs\" textLength=\"31\" x=\"66.5\" y=\"101.9951\">start</text></g><!--MD5=[173b989ecbfa9067ced8a155e3dec482]\n",
       "@startuml\r\n",
       " \r\n",
       "package \"ActionTest\" as E1   {\r\n",
       "rec usage \"a\" as E2 {\r\n",
       "rec usage \"start\" as E3 {\r\n",
       "}\r\n",
       "\r\n",
       "}\r\n",
       "\r\n",
       "}\r\n",
       "@enduml\r\n",
       "\n",
       "PlantUML version 1.2020.13(Sat Jun 13 12:26:38 UTC 2020)\n",
       "(EPL source distribution)\n",
       "Java Runtime: OpenJDK Runtime Environment\n",
       "JVM: OpenJDK 64-Bit Server VM\n",
       "Default Encoding: UTF-8\n",
       "Language: en\n",
       "Country: null\n",
       "--></g></svg>"
      ]
     },
     "execution_count": 36,
     "metadata": {},
     "output_type": "execute_result"
    }
   ],
   "source": [
    "%viz --style=\"PLANTUML\" --view=\"MIXED\" \"ActionTest\""
   ]
  },
  {
   "cell_type": "code",
   "execution_count": 37,
   "id": "indie-questionnaire",
   "metadata": {
    "execution": {
     "iopub.execute_input": "2021-03-26T09:41:34.709943Z",
     "iopub.status.busy": "2021-03-26T09:41:34.709126Z",
     "iopub.status.idle": "2021-03-26T09:41:34.731377Z",
     "shell.execute_reply": "2021-03-26T09:41:34.731069Z"
    }
   },
   "outputs": [
    {
     "data": {
      "image/svg+xml": [
       "<?xml version=\"1.0\" encoding=\"UTF-8\" standalone=\"no\"?><svg xmlns=\"http://www.w3.org/2000/svg\" xmlns:xlink=\"http://www.w3.org/1999/xlink\" contentScriptType=\"application/ecmascript\" contentStyleType=\"text/css\" height=\"186px\" preserveAspectRatio=\"none\" style=\"width:170px;height:186px;\" version=\"1.1\" viewBox=\"0 0 170 186\" width=\"170px\" zoomAndPan=\"magnify\"><defs/><g><!--MD5=[fbc87193dbaf4d95561dea2c320d4a47]\n",
       "cluster E1--><polygon fill=\"#FFFFFF\" points=\"16,6,107,6,114,28.2969,148,28.2969,148,174,16,174,16,6\" style=\"stroke: #000000; stroke-width: 1.5;\"/><line style=\"stroke: #000000; stroke-width: 1.5;\" x1=\"16\" x2=\"114\" y1=\"28.2969\" y2=\"28.2969\"/><text fill=\"#000000\" font-family=\"sans-serif\" font-size=\"14\" font-weight=\"bold\" lengthAdjust=\"spacingAndGlyphs\" textLength=\"85\" x=\"20\" y=\"20.9951\">ActionTest</text><!--MD5=[e4f7fae6ed58524ba242bb0b0d3be6b7]\n",
       "cluster E2--><rect fill=\"#F8F8F8\" height=\"101\" rx=\"12.5\" ry=\"12.5\" style=\"stroke: #000000; stroke-width: 1.5;\" width=\"84\" x=\"40\" y=\"49\"/><rect fill=\"#FFFFFF\" height=\"68.7031\" rx=\"12.5\" ry=\"12.5\" style=\"stroke: #FFFFFF; stroke-width: 1.0;\" width=\"78\" x=\"43\" y=\"78.2969\"/><line style=\"stroke: #000000; stroke-width: 1.5;\" x1=\"40\" x2=\"124\" y1=\"75.2969\" y2=\"75.2969\"/><text fill=\"#000000\" font-family=\"sans-serif\" font-size=\"14\" lengthAdjust=\"spacingAndGlyphs\" textLength=\"8\" x=\"78\" y=\"65.9951\">a</text><g id=\"E1.E2.E3\"><rect fill=\"#FFFFFF\" height=\"50\" rx=\"12.5\" ry=\"12.5\" style=\"stroke: #383838; stroke-width: 1.5;\" width=\"51\" x=\"56.5\" y=\"84\"/><line style=\"stroke: #383838; stroke-width: 1.5;\" x1=\"56.5\" x2=\"107.5\" y1=\"110.2969\" y2=\"110.2969\"/><text fill=\"#000000\" font-family=\"sans-serif\" font-size=\"14\" lengthAdjust=\"spacingAndGlyphs\" textLength=\"31\" x=\"66.5\" y=\"101.9951\">start</text></g><!--MD5=[dc48f1c9dd6d8787da1b5564477addda]\n",
       "@startuml\r\n",
       "skinparam monochrome true\r\n",
       "skinparam classbackgroundcolor white\r\n",
       "skinparam shadowing false\r\n",
       "skinparam wrapWidth 300\r\n",
       "hide circle\r\n",
       "\r\n",
       "package \"ActionTest\" as E1   {\r\n",
       "rec usage \"a\" as E2 {\r\n",
       "rec usage \"start\" as E3 {\r\n",
       "}\r\n",
       "\r\n",
       "}\r\n",
       "\r\n",
       "}\r\n",
       "@enduml\r\n",
       "\n",
       "PlantUML version 1.2020.13(Sat Jun 13 12:26:38 UTC 2020)\n",
       "(EPL source distribution)\n",
       "Java Runtime: OpenJDK Runtime Environment\n",
       "JVM: OpenJDK 64-Bit Server VM\n",
       "Default Encoding: UTF-8\n",
       "Language: en\n",
       "Country: null\n",
       "--></g></svg>"
      ]
     },
     "execution_count": 37,
     "metadata": {},
     "output_type": "execute_result"
    }
   ],
   "source": [
    "%viz --style=\"DEFAULT\" --view=\"Default\" \"ActionTest\""
   ]
  },
  {
   "cell_type": "code",
   "execution_count": 38,
   "id": "fancy-rings",
   "metadata": {
    "execution": {
     "iopub.execute_input": "2021-03-26T09:41:34.785101Z",
     "iopub.status.busy": "2021-03-26T09:41:34.784046Z",
     "iopub.status.idle": "2021-03-26T09:41:34.833874Z",
     "shell.execute_reply": "2021-03-26T09:41:34.834229Z"
    }
   },
   "outputs": [
    {
     "data": {
      "image/svg+xml": [
       "<?xml version=\"1.0\" encoding=\"UTF-8\" standalone=\"no\"?><svg xmlns=\"http://www.w3.org/2000/svg\" xmlns:xlink=\"http://www.w3.org/1999/xlink\" contentScriptType=\"application/ecmascript\" contentStyleType=\"text/css\" height=\"157px\" preserveAspectRatio=\"none\" style=\"width:230px;height:157px;\" version=\"1.1\" viewBox=\"0 0 230 157\" width=\"230px\" zoomAndPan=\"magnify\"><defs/><g><!--MD5=[fbc87193dbaf4d95561dea2c320d4a47]\n",
       "cluster E1--><polygon fill=\"#FFFFFF\" points=\"16,6,107,6,114,28.2969,208,28.2969,208,145,16,145,16,6\" style=\"stroke: #000000; stroke-width: 1.5;\"/><line style=\"stroke: #000000; stroke-width: 1.5;\" x1=\"16\" x2=\"114\" y1=\"28.2969\" y2=\"28.2969\"/><text fill=\"#000000\" font-family=\"sans-serif\" font-size=\"14\" font-weight=\"bold\" lengthAdjust=\"spacingAndGlyphs\" textLength=\"85\" x=\"20\" y=\"20.9951\">ActionTest</text><!--MD5=[b4997ac47864f28c2f74865a473b2911]\n",
       "class E2--><rect fill=\"#FFFFFF\" height=\"88.3516\" id=\"E2\" rx=\"10\" ry=\"10\" style=\"stroke: #383838; stroke-width: 1.5;\" width=\"160\" x=\"32\" y=\"41\"/><text fill=\"#000000\" font-family=\"sans-serif\" font-size=\"12\" font-style=\"italic\" lengthAdjust=\"spacingAndGlyphs\" textLength=\"53\" x=\"85.5\" y=\"57.1387\">«action»</text><text fill=\"#000000\" font-family=\"sans-serif\" font-size=\"12\" lengthAdjust=\"spacingAndGlyphs\" textLength=\"55\" x=\"84.5\" y=\"71.1074\">a: Action</text><line style=\"stroke: #383838; stroke-width: 1.5;\" x1=\"33\" x2=\"191\" y1=\"78.9375\" y2=\"78.9375\"/><text fill=\"#000000\" font-family=\"sans-serif\" font-size=\"11\" lengthAdjust=\"spacingAndGlyphs\" textLength=\"69\" x=\"38\" y=\"109.9526\">start: Action</text><text fill=\"#000000\" font-family=\"sans-serif\" font-size=\"11\" font-style=\"italic\" lengthAdjust=\"spacingAndGlyphs\" textLength=\"148\" x=\"38\" y=\"122.7573\">:&gt;&gt;Occurrence::startShot</text><line style=\"stroke: #383838; stroke-width: 1.0;\" x1=\"33\" x2=\"91.5\" y1=\"93.3398\" y2=\"93.3398\"/><text fill=\"#000000\" font-family=\"sans-serif\" font-size=\"11\" lengthAdjust=\"spacingAndGlyphs\" textLength=\"41\" x=\"91.5\" y=\"96.6479\">actions</text><line style=\"stroke: #383838; stroke-width: 1.0;\" x1=\"132.5\" x2=\"191\" y1=\"93.3398\" y2=\"93.3398\"/><!--MD5=[92dc779765d25223d888076be40c4b02]\n",
       "@startuml\r\n",
       "skinparam monochrome true\r\n",
       "skinparam classbackgroundcolor white\r\n",
       "skinparam shadowing false\r\n",
       "skinparam wrapWidth 300\r\n",
       "hide circle\r\n",
       "\r\n",
       "package \"ActionTest\" as E1   {\r\n",
       "comp usage \"a: Action\" as E2  <<(T,blue)action>> {\r\n",
       "- -actions- -\r\n",
       "start: Action\\n//:>>Occurrence::startShot// \r\n",
       "}\r\n",
       "}\r\n",
       "@enduml\r\n",
       "\n",
       "PlantUML version 1.2020.13(Sat Jun 13 12:26:38 UTC 2020)\n",
       "(EPL source distribution)\n",
       "Java Runtime: OpenJDK Runtime Environment\n",
       "JVM: OpenJDK 64-Bit Server VM\n",
       "Default Encoding: UTF-8\n",
       "Language: en\n",
       "Country: null\n",
       "--></g></svg>"
      ]
     },
     "execution_count": 38,
     "metadata": {},
     "output_type": "execute_result"
    }
   ],
   "source": [
    "%viz --style=\"DEFAULT\" --view=\"Tree\" \"ActionTest\""
   ]
  },
  {
   "cell_type": "code",
   "execution_count": 39,
   "id": "activated-costa",
   "metadata": {
    "execution": {
     "iopub.execute_input": "2021-03-26T09:41:34.886858Z",
     "iopub.status.busy": "2021-03-26T09:41:34.886149Z",
     "iopub.status.idle": "2021-03-26T09:41:34.888035Z",
     "shell.execute_reply": "2021-03-26T09:41:34.888447Z"
    }
   },
   "outputs": [
    {
     "data": {
      "text/plain": [
       "java.lang.IllegalArgumentException: Invalid View: State View candidates are: Default Tree StateMachine Interconnection Activity Sequence MIXED \n",
       "\tat org.omg.sysml.plantuml.SysML2PlantUMLSvc.setView(SysML2PlantUMLSvc.java:63)\n",
       "\tat org.omg.sysml.interactive.SysMLInteractive.viz(SysMLInteractive.java:286)\n",
       "\tat org.omg.sysml.jupyter.kernel.magic.Viz.viz(Viz.java:47)\n",
       "\tat jdk.internal.reflect.GeneratedMethodAccessor7.invoke(Unknown Source)\n",
       "\tat java.base/jdk.internal.reflect.DelegatingMethodAccessorImpl.invoke(DelegatingMethodAccessorImpl.java:43)\n",
       "\tat java.base/java.lang.reflect.Method.invoke(Method.java:568)\n",
       "\tat io.github.spencerpark.jupyter.kernel.magic.registry.Magics.invoke(Magics.java:89)\n",
       "\tat io.github.spencerpark.jupyter.kernel.magic.registry.Magics.access$000(Magics.java:8)\n",
       "\tat io.github.spencerpark.jupyter.kernel.magic.registry.Magics$LineReflectionMagicFunction.execute(Magics.java:149)\n",
       "\tat io.github.spencerpark.jupyter.kernel.magic.registry.Magics.applyLineMagic(Magics.java:26)\n",
       "\tat org.omg.sysml.jupyter.kernel.SysMLKernel.eval(SysMLKernel.java:76)\n",
       "\tat io.github.spencerpark.jupyter.kernel.BaseKernel.handleExecuteRequest(BaseKernel.java:334)\n",
       "\tat io.github.spencerpark.jupyter.channels.ShellChannel.lambda$bind$0(ShellChannel.java:64)\n",
       "\tat io.github.spencerpark.jupyter.channels.Loop.lambda$new$0(Loop.java:21)\n",
       "\tat io.github.spencerpark.jupyter.channels.Loop.run(Loop.java:78)\n"
      ]
     },
     "execution_count": 39,
     "metadata": {},
     "output_type": "execute_result"
    }
   ],
   "source": [
    "%viz --style=\"DEFAULT\" --view=\"State\" \"ActionTest\""
   ]
  },
  {
   "cell_type": "code",
   "execution_count": 40,
   "id": "chronic-franchise",
   "metadata": {
    "execution": {
     "iopub.execute_input": "2021-03-26T09:41:34.941192Z",
     "iopub.status.busy": "2021-03-26T09:41:34.940620Z",
     "iopub.status.idle": "2021-03-26T09:41:34.965469Z",
     "shell.execute_reply": "2021-03-26T09:41:34.965185Z"
    }
   },
   "outputs": [
    {
     "data": {
      "image/svg+xml": [
       "<?xml version=\"1.0\" encoding=\"UTF-8\" standalone=\"no\"?><svg xmlns=\"http://www.w3.org/2000/svg\" xmlns:xlink=\"http://www.w3.org/1999/xlink\" contentScriptType=\"application/ecmascript\" contentStyleType=\"text/css\" height=\"205px\" preserveAspectRatio=\"none\" style=\"width:326px;height:205px;\" version=\"1.1\" viewBox=\"0 0 326 205\" width=\"326px\" zoomAndPan=\"magnify\"><defs/><g><!--MD5=[fbc87193dbaf4d95561dea2c320d4a47]\n",
       "cluster E1--><polygon fill=\"#FFFFFF\" points=\"16,6,107,6,114,28.2969,304,28.2969,304,193,16,193,16,6\" style=\"stroke: #000000; stroke-width: 1.5;\"/><line style=\"stroke: #000000; stroke-width: 1.5;\" x1=\"16\" x2=\"114\" y1=\"28.2969\" y2=\"28.2969\"/><text fill=\"#000000\" font-family=\"sans-serif\" font-size=\"14\" font-weight=\"bold\" lengthAdjust=\"spacingAndGlyphs\" textLength=\"85\" x=\"20\" y=\"20.9951\">ActionTest</text><!--MD5=[e4f7fae6ed58524ba242bb0b0d3be6b7]\n",
       "cluster E2--><rect fill=\"#F8F8F8\" height=\"120\" rx=\"12.5\" ry=\"12.5\" style=\"stroke: #000000; stroke-width: 1.5;\" width=\"240\" x=\"40\" y=\"49\"/><rect fill=\"#FFFFFF\" height=\"87.7031\" rx=\"12.5\" ry=\"12.5\" style=\"stroke: #FFFFFF; stroke-width: 1.0;\" width=\"234\" x=\"43\" y=\"78.2969\"/><line style=\"stroke: #000000; stroke-width: 1.5;\" x1=\"40\" x2=\"280\" y1=\"75.2969\" y2=\"75.2969\"/><text fill=\"#000000\" font-family=\"sans-serif\" font-size=\"14\" lengthAdjust=\"spacingAndGlyphs\" textLength=\"60\" x=\"130\" y=\"65.9951\">a: Action</text><g id=\"E1.E2.E3\"><rect fill=\"#FFFFFF\" height=\"52.5938\" rx=\"12.5\" ry=\"12.5\" style=\"stroke: #383838; stroke-width: 1.5;\" width=\"207\" x=\"56.5\" y=\"100\"/><line style=\"stroke: #383838; stroke-width: 1.5;\" x1=\"56.5\" x2=\"263.5\" y1=\"142.5938\" y2=\"142.5938\"/><text fill=\"#000000\" font-family=\"sans-serif\" font-size=\"14\" lengthAdjust=\"spacingAndGlyphs\" textLength=\"83\" x=\"118.5\" y=\"117.9951\">start: Action</text><text fill=\"#000000\" font-family=\"sans-serif\" font-size=\"14\" font-style=\"italic\" lengthAdjust=\"spacingAndGlyphs\" textLength=\"183\" x=\"66.5\" y=\"134.292\">:&gt;&gt;Occurrence::startShot</text><text fill=\"#000000\" font-family=\"sans-serif\" font-size=\"14\" lengthAdjust=\"spacingAndGlyphs\" textLength=\"0\" x=\"253.5\" y=\"134.292\"/></g><!--MD5=[b0145315d8c9afeb09edca35526caa96]\n",
       "@startuml\r\n",
       "skinparam ranksep 8\r\n",
       "skinparam rectangle {\r\n",
       " backgroundColor<<block>> LightGreen\r\n",
       "}\r\n",
       "skinparam monochrome true\r\n",
       "skinparam classbackgroundcolor white\r\n",
       "skinparam shadowing false\r\n",
       "skinparam wrapWidth 300\r\n",
       "hide circle\r\n",
       "\r\n",
       "package \"ActionTest\" as E1   {\r\n",
       "rec usage \"a: Action\" as E2  <<action>> {\r\n",
       "rec usage \"start: Action\\n//:>>Occurrence::startShot// \" as E3  <<action>> {\r\n",
       "}\r\n",
       "}\r\n",
       "}\r\n",
       "@enduml\r\n",
       "\n",
       "PlantUML version 1.2020.13(Sat Jun 13 12:26:38 UTC 2020)\n",
       "(EPL source distribution)\n",
       "Java Runtime: OpenJDK Runtime Environment\n",
       "JVM: OpenJDK 64-Bit Server VM\n",
       "Default Encoding: UTF-8\n",
       "Language: en\n",
       "Country: null\n",
       "--></g></svg>"
      ]
     },
     "execution_count": 40,
     "metadata": {},
     "output_type": "execute_result"
    }
   ],
   "source": [
    "%viz --style=\"DEFAULT\" --view=\"Interconnection\" \"ActionTest\""
   ]
  },
  {
   "cell_type": "code",
   "execution_count": 41,
   "id": "pressing-ballot",
   "metadata": {
    "execution": {
     "iopub.execute_input": "2021-03-26T09:41:35.015884Z",
     "iopub.status.busy": "2021-03-26T09:41:35.014862Z",
     "iopub.status.idle": "2021-03-26T09:41:35.017257Z",
     "shell.execute_reply": "2021-03-26T09:41:35.017704Z"
    }
   },
   "outputs": [
    {
     "data": {
      "text/plain": [
       "java.lang.IllegalArgumentException: Invalid View: Action View candidates are: Default Tree StateMachine Interconnection Activity Sequence MIXED \n",
       "\tat org.omg.sysml.plantuml.SysML2PlantUMLSvc.setView(SysML2PlantUMLSvc.java:63)\n",
       "\tat org.omg.sysml.interactive.SysMLInteractive.viz(SysMLInteractive.java:286)\n",
       "\tat org.omg.sysml.jupyter.kernel.magic.Viz.viz(Viz.java:47)\n",
       "\tat jdk.internal.reflect.GeneratedMethodAccessor7.invoke(Unknown Source)\n",
       "\tat java.base/jdk.internal.reflect.DelegatingMethodAccessorImpl.invoke(DelegatingMethodAccessorImpl.java:43)\n",
       "\tat java.base/java.lang.reflect.Method.invoke(Method.java:568)\n",
       "\tat io.github.spencerpark.jupyter.kernel.magic.registry.Magics.invoke(Magics.java:89)\n",
       "\tat io.github.spencerpark.jupyter.kernel.magic.registry.Magics.access$000(Magics.java:8)\n",
       "\tat io.github.spencerpark.jupyter.kernel.magic.registry.Magics$LineReflectionMagicFunction.execute(Magics.java:149)\n",
       "\tat io.github.spencerpark.jupyter.kernel.magic.registry.Magics.applyLineMagic(Magics.java:26)\n",
       "\tat org.omg.sysml.jupyter.kernel.SysMLKernel.eval(SysMLKernel.java:76)\n",
       "\tat io.github.spencerpark.jupyter.kernel.BaseKernel.handleExecuteRequest(BaseKernel.java:334)\n",
       "\tat io.github.spencerpark.jupyter.channels.ShellChannel.lambda$bind$0(ShellChannel.java:64)\n",
       "\tat io.github.spencerpark.jupyter.channels.Loop.lambda$new$0(Loop.java:21)\n",
       "\tat io.github.spencerpark.jupyter.channels.Loop.run(Loop.java:78)\n"
      ]
     },
     "execution_count": 41,
     "metadata": {},
     "output_type": "execute_result"
    }
   ],
   "source": [
    "%viz --style=\"DEFAULT\" --view=\"Action\" \"ActionTest\""
   ]
  },
  {
   "cell_type": "code",
   "execution_count": 42,
   "id": "usual-reward",
   "metadata": {
    "execution": {
     "iopub.execute_input": "2021-03-26T09:41:35.069650Z",
     "iopub.status.busy": "2021-03-26T09:41:35.069083Z",
     "iopub.status.idle": "2021-03-26T09:41:35.111338Z",
     "shell.execute_reply": "2021-03-26T09:41:35.110916Z"
    }
   },
   "outputs": [
    {
     "data": {
      "image/svg+xml": [
       "<?xml version=\"1.0\" encoding=\"UTF-8\" standalone=\"no\"?><svg xmlns=\"http://www.w3.org/2000/svg\" xmlns:xlink=\"http://www.w3.org/1999/xlink\" contentScriptType=\"application/ecmascript\" contentStyleType=\"text/css\" height=\"157px\" preserveAspectRatio=\"none\" style=\"width:230px;height:157px;\" version=\"1.1\" viewBox=\"0 0 230 157\" width=\"230px\" zoomAndPan=\"magnify\"><defs/><g><!--MD5=[fbc87193dbaf4d95561dea2c320d4a47]\n",
       "cluster E1--><polygon fill=\"#FFFFFF\" points=\"16,6,107,6,114,28.2969,208,28.2969,208,145,16,145,16,6\" style=\"stroke: #000000; stroke-width: 1.5;\"/><line style=\"stroke: #000000; stroke-width: 1.5;\" x1=\"16\" x2=\"114\" y1=\"28.2969\" y2=\"28.2969\"/><text fill=\"#000000\" font-family=\"sans-serif\" font-size=\"14\" font-weight=\"bold\" lengthAdjust=\"spacingAndGlyphs\" textLength=\"85\" x=\"20\" y=\"20.9951\">ActionTest</text><!--MD5=[b4997ac47864f28c2f74865a473b2911]\n",
       "class E2--><rect fill=\"#FFFFFF\" height=\"88.3516\" id=\"E2\" rx=\"10\" ry=\"10\" style=\"stroke: #383838; stroke-width: 1.5;\" width=\"160\" x=\"32\" y=\"41\"/><text fill=\"#000000\" font-family=\"sans-serif\" font-size=\"12\" font-style=\"italic\" lengthAdjust=\"spacingAndGlyphs\" textLength=\"53\" x=\"85.5\" y=\"57.1387\">«action»</text><text fill=\"#000000\" font-family=\"sans-serif\" font-size=\"12\" lengthAdjust=\"spacingAndGlyphs\" textLength=\"55\" x=\"84.5\" y=\"71.1074\">a: Action</text><line style=\"stroke: #383838; stroke-width: 1.5;\" x1=\"33\" x2=\"191\" y1=\"78.9375\" y2=\"78.9375\"/><text fill=\"#000000\" font-family=\"sans-serif\" font-size=\"11\" lengthAdjust=\"spacingAndGlyphs\" textLength=\"69\" x=\"38\" y=\"109.9526\">start: Action</text><text fill=\"#000000\" font-family=\"sans-serif\" font-size=\"11\" font-style=\"italic\" lengthAdjust=\"spacingAndGlyphs\" textLength=\"148\" x=\"38\" y=\"122.7573\">:&gt;&gt;Occurrence::startShot</text><line style=\"stroke: #383838; stroke-width: 1.0;\" x1=\"33\" x2=\"91.5\" y1=\"93.3398\" y2=\"93.3398\"/><text fill=\"#000000\" font-family=\"sans-serif\" font-size=\"11\" lengthAdjust=\"spacingAndGlyphs\" textLength=\"41\" x=\"91.5\" y=\"96.6479\">actions</text><line style=\"stroke: #383838; stroke-width: 1.0;\" x1=\"132.5\" x2=\"191\" y1=\"93.3398\" y2=\"93.3398\"/><!--MD5=[92dc779765d25223d888076be40c4b02]\n",
       "@startuml\r\n",
       "skinparam monochrome true\r\n",
       "skinparam classbackgroundcolor white\r\n",
       "skinparam shadowing false\r\n",
       "skinparam wrapWidth 300\r\n",
       "hide circle\r\n",
       "\r\n",
       "package \"ActionTest\" as E1   {\r\n",
       "comp usage \"a: Action\" as E2  <<(T,blue)action>> {\r\n",
       "- -actions- -\r\n",
       "start: Action\\n//:>>Occurrence::startShot// \r\n",
       "}\r\n",
       "}\r\n",
       "@enduml\r\n",
       "\n",
       "PlantUML version 1.2020.13(Sat Jun 13 12:26:38 UTC 2020)\n",
       "(EPL source distribution)\n",
       "Java Runtime: OpenJDK Runtime Environment\n",
       "JVM: OpenJDK 64-Bit Server VM\n",
       "Default Encoding: UTF-8\n",
       "Language: en\n",
       "Country: null\n",
       "--></g></svg>"
      ]
     },
     "execution_count": 42,
     "metadata": {},
     "output_type": "execute_result"
    }
   ],
   "source": [
    "%viz --style=\"DEFAULT\" --view=\"Sequence\" \"ActionTest\""
   ]
  },
  {
   "cell_type": "code",
   "execution_count": 43,
   "id": "disturbed-enough",
   "metadata": {
    "execution": {
     "iopub.execute_input": "2021-03-26T09:41:35.164469Z",
     "iopub.status.busy": "2021-03-26T09:41:35.163772Z",
     "iopub.status.idle": "2021-03-26T09:41:35.185842Z",
     "shell.execute_reply": "2021-03-26T09:41:35.185458Z"
    }
   },
   "outputs": [
    {
     "data": {
      "image/svg+xml": [
       "<?xml version=\"1.0\" encoding=\"UTF-8\" standalone=\"no\"?><svg xmlns=\"http://www.w3.org/2000/svg\" xmlns:xlink=\"http://www.w3.org/1999/xlink\" contentScriptType=\"application/ecmascript\" contentStyleType=\"text/css\" height=\"186px\" preserveAspectRatio=\"none\" style=\"width:170px;height:186px;\" version=\"1.1\" viewBox=\"0 0 170 186\" width=\"170px\" zoomAndPan=\"magnify\"><defs/><g><!--MD5=[fbc87193dbaf4d95561dea2c320d4a47]\n",
       "cluster E1--><polygon fill=\"#FFFFFF\" points=\"16,6,107,6,114,28.2969,148,28.2969,148,174,16,174,16,6\" style=\"stroke: #000000; stroke-width: 1.5;\"/><line style=\"stroke: #000000; stroke-width: 1.5;\" x1=\"16\" x2=\"114\" y1=\"28.2969\" y2=\"28.2969\"/><text fill=\"#000000\" font-family=\"sans-serif\" font-size=\"14\" font-weight=\"bold\" lengthAdjust=\"spacingAndGlyphs\" textLength=\"85\" x=\"20\" y=\"20.9951\">ActionTest</text><!--MD5=[e4f7fae6ed58524ba242bb0b0d3be6b7]\n",
       "cluster E2--><rect fill=\"#F8F8F8\" height=\"101\" rx=\"12.5\" ry=\"12.5\" style=\"stroke: #000000; stroke-width: 1.5;\" width=\"84\" x=\"40\" y=\"49\"/><rect fill=\"#FFFFFF\" height=\"68.7031\" rx=\"12.5\" ry=\"12.5\" style=\"stroke: #FFFFFF; stroke-width: 1.0;\" width=\"78\" x=\"43\" y=\"78.2969\"/><line style=\"stroke: #000000; stroke-width: 1.5;\" x1=\"40\" x2=\"124\" y1=\"75.2969\" y2=\"75.2969\"/><text fill=\"#000000\" font-family=\"sans-serif\" font-size=\"14\" lengthAdjust=\"spacingAndGlyphs\" textLength=\"8\" x=\"78\" y=\"65.9951\">a</text><g id=\"E1.E2.E3\"><rect fill=\"#FFFFFF\" height=\"50\" rx=\"12.5\" ry=\"12.5\" style=\"stroke: #383838; stroke-width: 1.5;\" width=\"51\" x=\"56.5\" y=\"84\"/><line style=\"stroke: #383838; stroke-width: 1.5;\" x1=\"56.5\" x2=\"107.5\" y1=\"110.2969\" y2=\"110.2969\"/><text fill=\"#000000\" font-family=\"sans-serif\" font-size=\"14\" lengthAdjust=\"spacingAndGlyphs\" textLength=\"31\" x=\"66.5\" y=\"101.9951\">start</text></g><!--MD5=[dc48f1c9dd6d8787da1b5564477addda]\n",
       "@startuml\r\n",
       "skinparam monochrome true\r\n",
       "skinparam classbackgroundcolor white\r\n",
       "skinparam shadowing false\r\n",
       "skinparam wrapWidth 300\r\n",
       "hide circle\r\n",
       "\r\n",
       "package \"ActionTest\" as E1   {\r\n",
       "rec usage \"a\" as E2 {\r\n",
       "rec usage \"start\" as E3 {\r\n",
       "}\r\n",
       "\r\n",
       "}\r\n",
       "\r\n",
       "}\r\n",
       "@enduml\r\n",
       "\n",
       "PlantUML version 1.2020.13(Sat Jun 13 12:26:38 UTC 2020)\n",
       "(EPL source distribution)\n",
       "Java Runtime: OpenJDK Runtime Environment\n",
       "JVM: OpenJDK 64-Bit Server VM\n",
       "Default Encoding: UTF-8\n",
       "Language: en\n",
       "Country: null\n",
       "--></g></svg>"
      ]
     },
     "execution_count": 43,
     "metadata": {},
     "output_type": "execute_result"
    }
   ],
   "source": [
    "%viz --style=\"DEFAULT\" --view=\"MIXED\" \"ActionTest\""
   ]
  },
  {
   "cell_type": "code",
   "execution_count": 44,
   "id": "federal-multiple",
   "metadata": {
    "execution": {
     "iopub.execute_input": "2021-03-26T09:41:35.235217Z",
     "iopub.status.busy": "2021-03-26T09:41:35.234793Z",
     "iopub.status.idle": "2021-03-26T09:41:35.254067Z",
     "shell.execute_reply": "2021-03-26T09:41:35.253768Z"
    }
   },
   "outputs": [
    {
     "data": {
      "image/svg+xml": [
       "<?xml version=\"1.0\" encoding=\"UTF-8\" standalone=\"no\"?><svg xmlns=\"http://www.w3.org/2000/svg\" xmlns:xlink=\"http://www.w3.org/1999/xlink\" contentScriptType=\"application/ecmascript\" contentStyleType=\"text/css\" height=\"186px\" preserveAspectRatio=\"none\" style=\"width:170px;height:186px;\" version=\"1.1\" viewBox=\"0 0 170 186\" width=\"170px\" zoomAndPan=\"magnify\"><defs/><g><!--MD5=[fbc87193dbaf4d95561dea2c320d4a47]\n",
       "cluster E1--><polygon fill=\"#FFFFFF\" points=\"16,6,107,6,114,28.2969,148,28.2969,148,174,16,174,16,6\" style=\"stroke: #000000; stroke-width: 1.5;\"/><line style=\"stroke: #000000; stroke-width: 1.5;\" x1=\"16\" x2=\"114\" y1=\"28.2969\" y2=\"28.2969\"/><text fill=\"#000000\" font-family=\"sans-serif\" font-size=\"14\" font-weight=\"bold\" lengthAdjust=\"spacingAndGlyphs\" textLength=\"85\" x=\"20\" y=\"20.9951\">ActionTest</text><!--MD5=[e4f7fae6ed58524ba242bb0b0d3be6b7]\n",
       "cluster E2--><rect fill=\"#F8F8F8\" height=\"101\" rx=\"12.5\" ry=\"12.5\" style=\"stroke: #000000; stroke-width: 1.5;\" width=\"84\" x=\"40\" y=\"49\"/><rect fill=\"#FFFFFF\" height=\"68.7031\" rx=\"12.5\" ry=\"12.5\" style=\"stroke: #FFFFFF; stroke-width: 1.0;\" width=\"78\" x=\"43\" y=\"78.2969\"/><line style=\"stroke: #000000; stroke-width: 1.5;\" x1=\"40\" x2=\"124\" y1=\"75.2969\" y2=\"75.2969\"/><text fill=\"#000000\" font-family=\"sans-serif\" font-size=\"14\" lengthAdjust=\"spacingAndGlyphs\" textLength=\"8\" x=\"78\" y=\"65.9951\">a</text><g id=\"E1.E2.E3\"><rect fill=\"#FFFFFF\" height=\"50\" rx=\"12.5\" ry=\"12.5\" style=\"stroke: #383838; stroke-width: 1.5;\" width=\"51\" x=\"56.5\" y=\"84\"/><line style=\"stroke: #383838; stroke-width: 1.5;\" x1=\"56.5\" x2=\"107.5\" y1=\"110.2969\" y2=\"110.2969\"/><text fill=\"#000000\" font-family=\"sans-serif\" font-size=\"14\" lengthAdjust=\"spacingAndGlyphs\" textLength=\"31\" x=\"66.5\" y=\"101.9951\">start</text></g><!--MD5=[29bd2fe63c37c76a61e2a1cd19f6ea07]\n",
       "@startuml\r\n",
       "top to bottom direction\r\n",
       "skinparam monochrome true\r\n",
       "skinparam classbackgroundcolor white\r\n",
       "skinparam shadowing false\r\n",
       "skinparam wrapWidth 300\r\n",
       "hide circle\r\n",
       "\r\n",
       "package \"ActionTest\" as E1   {\r\n",
       "rec usage \"a\" as E2 {\r\n",
       "rec usage \"start\" as E3 {\r\n",
       "}\r\n",
       "\r\n",
       "}\r\n",
       "\r\n",
       "}\r\n",
       "@enduml\r\n",
       "\n",
       "PlantUML version 1.2020.13(Sat Jun 13 12:26:38 UTC 2020)\n",
       "(EPL source distribution)\n",
       "Java Runtime: OpenJDK Runtime Environment\n",
       "JVM: OpenJDK 64-Bit Server VM\n",
       "Default Encoding: UTF-8\n",
       "Language: en\n",
       "Country: null\n",
       "--></g></svg>"
      ]
     },
     "execution_count": 44,
     "metadata": {},
     "output_type": "execute_result"
    }
   ],
   "source": [
    "%viz --style=\"TB\" --view=\"Default\" \"ActionTest\""
   ]
  },
  {
   "cell_type": "code",
   "execution_count": 45,
   "id": "green-bulletin",
   "metadata": {
    "execution": {
     "iopub.execute_input": "2021-03-26T09:41:35.322966Z",
     "iopub.status.busy": "2021-03-26T09:41:35.303999Z",
     "iopub.status.idle": "2021-03-26T09:41:35.366484Z",
     "shell.execute_reply": "2021-03-26T09:41:35.366919Z"
    }
   },
   "outputs": [
    {
     "data": {
      "image/svg+xml": [
       "<?xml version=\"1.0\" encoding=\"UTF-8\" standalone=\"no\"?><svg xmlns=\"http://www.w3.org/2000/svg\" xmlns:xlink=\"http://www.w3.org/1999/xlink\" contentScriptType=\"application/ecmascript\" contentStyleType=\"text/css\" height=\"157px\" preserveAspectRatio=\"none\" style=\"width:230px;height:157px;\" version=\"1.1\" viewBox=\"0 0 230 157\" width=\"230px\" zoomAndPan=\"magnify\"><defs/><g><!--MD5=[fbc87193dbaf4d95561dea2c320d4a47]\n",
       "cluster E1--><polygon fill=\"#FFFFFF\" points=\"16,6,107,6,114,28.2969,208,28.2969,208,145,16,145,16,6\" style=\"stroke: #000000; stroke-width: 1.5;\"/><line style=\"stroke: #000000; stroke-width: 1.5;\" x1=\"16\" x2=\"114\" y1=\"28.2969\" y2=\"28.2969\"/><text fill=\"#000000\" font-family=\"sans-serif\" font-size=\"14\" font-weight=\"bold\" lengthAdjust=\"spacingAndGlyphs\" textLength=\"85\" x=\"20\" y=\"20.9951\">ActionTest</text><!--MD5=[b4997ac47864f28c2f74865a473b2911]\n",
       "class E2--><rect fill=\"#FFFFFF\" height=\"88.3516\" id=\"E2\" rx=\"10\" ry=\"10\" style=\"stroke: #383838; stroke-width: 1.5;\" width=\"160\" x=\"32\" y=\"41\"/><text fill=\"#000000\" font-family=\"sans-serif\" font-size=\"12\" font-style=\"italic\" lengthAdjust=\"spacingAndGlyphs\" textLength=\"53\" x=\"85.5\" y=\"57.1387\">«action»</text><text fill=\"#000000\" font-family=\"sans-serif\" font-size=\"12\" lengthAdjust=\"spacingAndGlyphs\" textLength=\"55\" x=\"84.5\" y=\"71.1074\">a: Action</text><line style=\"stroke: #383838; stroke-width: 1.5;\" x1=\"33\" x2=\"191\" y1=\"78.9375\" y2=\"78.9375\"/><text fill=\"#000000\" font-family=\"sans-serif\" font-size=\"11\" lengthAdjust=\"spacingAndGlyphs\" textLength=\"69\" x=\"38\" y=\"109.9526\">start: Action</text><text fill=\"#000000\" font-family=\"sans-serif\" font-size=\"11\" font-style=\"italic\" lengthAdjust=\"spacingAndGlyphs\" textLength=\"148\" x=\"38\" y=\"122.7573\">:&gt;&gt;Occurrence::startShot</text><line style=\"stroke: #383838; stroke-width: 1.0;\" x1=\"33\" x2=\"91.5\" y1=\"93.3398\" y2=\"93.3398\"/><text fill=\"#000000\" font-family=\"sans-serif\" font-size=\"11\" lengthAdjust=\"spacingAndGlyphs\" textLength=\"41\" x=\"91.5\" y=\"96.6479\">actions</text><line style=\"stroke: #383838; stroke-width: 1.0;\" x1=\"132.5\" x2=\"191\" y1=\"93.3398\" y2=\"93.3398\"/><!--MD5=[3995b37de318fcd718d3c9edfeeddc70]\n",
       "@startuml\r\n",
       "top to bottom direction\r\n",
       "skinparam monochrome true\r\n",
       "skinparam classbackgroundcolor white\r\n",
       "skinparam shadowing false\r\n",
       "skinparam wrapWidth 300\r\n",
       "hide circle\r\n",
       "\r\n",
       "package \"ActionTest\" as E1   {\r\n",
       "comp usage \"a: Action\" as E2  <<(T,blue)action>> {\r\n",
       "- -actions- -\r\n",
       "start: Action\\n//:>>Occurrence::startShot// \r\n",
       "}\r\n",
       "}\r\n",
       "@enduml\r\n",
       "\n",
       "PlantUML version 1.2020.13(Sat Jun 13 12:26:38 UTC 2020)\n",
       "(EPL source distribution)\n",
       "Java Runtime: OpenJDK Runtime Environment\n",
       "JVM: OpenJDK 64-Bit Server VM\n",
       "Default Encoding: UTF-8\n",
       "Language: en\n",
       "Country: null\n",
       "--></g></svg>"
      ]
     },
     "execution_count": 45,
     "metadata": {},
     "output_type": "execute_result"
    }
   ],
   "source": [
    "%viz --style=\"TB\" --view=\"Tree\" \"ActionTest\""
   ]
  },
  {
   "cell_type": "code",
   "execution_count": 46,
   "id": "aggregate-mathematics",
   "metadata": {
    "execution": {
     "iopub.execute_input": "2021-03-26T09:41:35.417637Z",
     "iopub.status.busy": "2021-03-26T09:41:35.417319Z",
     "iopub.status.idle": "2021-03-26T09:41:35.418458Z",
     "shell.execute_reply": "2021-03-26T09:41:35.418806Z"
    }
   },
   "outputs": [
    {
     "data": {
      "text/plain": [
       "java.lang.IllegalArgumentException: Invalid View: State View candidates are: Default Tree StateMachine Interconnection Activity Sequence MIXED \n",
       "\tat org.omg.sysml.plantuml.SysML2PlantUMLSvc.setView(SysML2PlantUMLSvc.java:63)\n",
       "\tat org.omg.sysml.interactive.SysMLInteractive.viz(SysMLInteractive.java:286)\n",
       "\tat org.omg.sysml.jupyter.kernel.magic.Viz.viz(Viz.java:47)\n",
       "\tat jdk.internal.reflect.GeneratedMethodAccessor7.invoke(Unknown Source)\n",
       "\tat java.base/jdk.internal.reflect.DelegatingMethodAccessorImpl.invoke(DelegatingMethodAccessorImpl.java:43)\n",
       "\tat java.base/java.lang.reflect.Method.invoke(Method.java:568)\n",
       "\tat io.github.spencerpark.jupyter.kernel.magic.registry.Magics.invoke(Magics.java:89)\n",
       "\tat io.github.spencerpark.jupyter.kernel.magic.registry.Magics.access$000(Magics.java:8)\n",
       "\tat io.github.spencerpark.jupyter.kernel.magic.registry.Magics$LineReflectionMagicFunction.execute(Magics.java:149)\n",
       "\tat io.github.spencerpark.jupyter.kernel.magic.registry.Magics.applyLineMagic(Magics.java:26)\n",
       "\tat org.omg.sysml.jupyter.kernel.SysMLKernel.eval(SysMLKernel.java:76)\n",
       "\tat io.github.spencerpark.jupyter.kernel.BaseKernel.handleExecuteRequest(BaseKernel.java:334)\n",
       "\tat io.github.spencerpark.jupyter.channels.ShellChannel.lambda$bind$0(ShellChannel.java:64)\n",
       "\tat io.github.spencerpark.jupyter.channels.Loop.lambda$new$0(Loop.java:21)\n",
       "\tat io.github.spencerpark.jupyter.channels.Loop.run(Loop.java:78)\n"
      ]
     },
     "execution_count": 46,
     "metadata": {},
     "output_type": "execute_result"
    }
   ],
   "source": [
    "%viz --style=\"TB\" --view=\"State\" \"ActionTest\""
   ]
  },
  {
   "cell_type": "code",
   "execution_count": 47,
   "id": "integrated-wagner",
   "metadata": {
    "execution": {
     "iopub.execute_input": "2021-03-26T09:41:35.475240Z",
     "iopub.status.busy": "2021-03-26T09:41:35.474917Z",
     "iopub.status.idle": "2021-03-26T09:41:35.491575Z",
     "shell.execute_reply": "2021-03-26T09:41:35.491249Z"
    }
   },
   "outputs": [
    {
     "data": {
      "image/svg+xml": [
       "<?xml version=\"1.0\" encoding=\"UTF-8\" standalone=\"no\"?><svg xmlns=\"http://www.w3.org/2000/svg\" xmlns:xlink=\"http://www.w3.org/1999/xlink\" contentScriptType=\"application/ecmascript\" contentStyleType=\"text/css\" height=\"205px\" preserveAspectRatio=\"none\" style=\"width:326px;height:205px;\" version=\"1.1\" viewBox=\"0 0 326 205\" width=\"326px\" zoomAndPan=\"magnify\"><defs/><g><!--MD5=[fbc87193dbaf4d95561dea2c320d4a47]\n",
       "cluster E1--><polygon fill=\"#FFFFFF\" points=\"16,6,107,6,114,28.2969,304,28.2969,304,193,16,193,16,6\" style=\"stroke: #000000; stroke-width: 1.5;\"/><line style=\"stroke: #000000; stroke-width: 1.5;\" x1=\"16\" x2=\"114\" y1=\"28.2969\" y2=\"28.2969\"/><text fill=\"#000000\" font-family=\"sans-serif\" font-size=\"14\" font-weight=\"bold\" lengthAdjust=\"spacingAndGlyphs\" textLength=\"85\" x=\"20\" y=\"20.9951\">ActionTest</text><!--MD5=[e4f7fae6ed58524ba242bb0b0d3be6b7]\n",
       "cluster E2--><rect fill=\"#F8F8F8\" height=\"120\" rx=\"12.5\" ry=\"12.5\" style=\"stroke: #000000; stroke-width: 1.5;\" width=\"240\" x=\"40\" y=\"49\"/><rect fill=\"#FFFFFF\" height=\"87.7031\" rx=\"12.5\" ry=\"12.5\" style=\"stroke: #FFFFFF; stroke-width: 1.0;\" width=\"234\" x=\"43\" y=\"78.2969\"/><line style=\"stroke: #000000; stroke-width: 1.5;\" x1=\"40\" x2=\"280\" y1=\"75.2969\" y2=\"75.2969\"/><text fill=\"#000000\" font-family=\"sans-serif\" font-size=\"14\" lengthAdjust=\"spacingAndGlyphs\" textLength=\"60\" x=\"130\" y=\"65.9951\">a: Action</text><g id=\"E1.E2.E3\"><rect fill=\"#FFFFFF\" height=\"52.5938\" rx=\"12.5\" ry=\"12.5\" style=\"stroke: #383838; stroke-width: 1.5;\" width=\"207\" x=\"56.5\" y=\"100\"/><line style=\"stroke: #383838; stroke-width: 1.5;\" x1=\"56.5\" x2=\"263.5\" y1=\"142.5938\" y2=\"142.5938\"/><text fill=\"#000000\" font-family=\"sans-serif\" font-size=\"14\" lengthAdjust=\"spacingAndGlyphs\" textLength=\"83\" x=\"118.5\" y=\"117.9951\">start: Action</text><text fill=\"#000000\" font-family=\"sans-serif\" font-size=\"14\" font-style=\"italic\" lengthAdjust=\"spacingAndGlyphs\" textLength=\"183\" x=\"66.5\" y=\"134.292\">:&gt;&gt;Occurrence::startShot</text><text fill=\"#000000\" font-family=\"sans-serif\" font-size=\"14\" lengthAdjust=\"spacingAndGlyphs\" textLength=\"0\" x=\"253.5\" y=\"134.292\"/></g><!--MD5=[62215b3146ca7200cb66fffbff6aca03]\n",
       "@startuml\r\n",
       "skinparam ranksep 8\r\n",
       "skinparam rectangle {\r\n",
       " backgroundColor<<block>> LightGreen\r\n",
       "}\r\n",
       "top to bottom direction\r\n",
       "skinparam monochrome true\r\n",
       "skinparam classbackgroundcolor white\r\n",
       "skinparam shadowing false\r\n",
       "skinparam wrapWidth 300\r\n",
       "hide circle\r\n",
       "\r\n",
       "package \"ActionTest\" as E1   {\r\n",
       "rec usage \"a: Action\" as E2  <<action>> {\r\n",
       "rec usage \"start: Action\\n//:>>Occurrence::startShot// \" as E3  <<action>> {\r\n",
       "}\r\n",
       "}\r\n",
       "}\r\n",
       "@enduml\r\n",
       "\n",
       "PlantUML version 1.2020.13(Sat Jun 13 12:26:38 UTC 2020)\n",
       "(EPL source distribution)\n",
       "Java Runtime: OpenJDK Runtime Environment\n",
       "JVM: OpenJDK 64-Bit Server VM\n",
       "Default Encoding: UTF-8\n",
       "Language: en\n",
       "Country: null\n",
       "--></g></svg>"
      ]
     },
     "execution_count": 47,
     "metadata": {},
     "output_type": "execute_result"
    }
   ],
   "source": [
    "%viz --style=\"TB\" --view=\"Interconnection\" \"ActionTest\""
   ]
  },
  {
   "cell_type": "code",
   "execution_count": 48,
   "id": "valued-japanese",
   "metadata": {
    "execution": {
     "iopub.execute_input": "2021-03-26T09:41:35.543435Z",
     "iopub.status.busy": "2021-03-26T09:41:35.542929Z",
     "iopub.status.idle": "2021-03-26T09:41:35.544611Z",
     "shell.execute_reply": "2021-03-26T09:41:35.545087Z"
    }
   },
   "outputs": [
    {
     "data": {
      "text/plain": [
       "java.lang.IllegalArgumentException: Invalid View: Action View candidates are: Default Tree StateMachine Interconnection Activity Sequence MIXED \n",
       "\tat org.omg.sysml.plantuml.SysML2PlantUMLSvc.setView(SysML2PlantUMLSvc.java:63)\n",
       "\tat org.omg.sysml.interactive.SysMLInteractive.viz(SysMLInteractive.java:286)\n",
       "\tat org.omg.sysml.jupyter.kernel.magic.Viz.viz(Viz.java:47)\n",
       "\tat jdk.internal.reflect.GeneratedMethodAccessor7.invoke(Unknown Source)\n",
       "\tat java.base/jdk.internal.reflect.DelegatingMethodAccessorImpl.invoke(DelegatingMethodAccessorImpl.java:43)\n",
       "\tat java.base/java.lang.reflect.Method.invoke(Method.java:568)\n",
       "\tat io.github.spencerpark.jupyter.kernel.magic.registry.Magics.invoke(Magics.java:89)\n",
       "\tat io.github.spencerpark.jupyter.kernel.magic.registry.Magics.access$000(Magics.java:8)\n",
       "\tat io.github.spencerpark.jupyter.kernel.magic.registry.Magics$LineReflectionMagicFunction.execute(Magics.java:149)\n",
       "\tat io.github.spencerpark.jupyter.kernel.magic.registry.Magics.applyLineMagic(Magics.java:26)\n",
       "\tat org.omg.sysml.jupyter.kernel.SysMLKernel.eval(SysMLKernel.java:76)\n",
       "\tat io.github.spencerpark.jupyter.kernel.BaseKernel.handleExecuteRequest(BaseKernel.java:334)\n",
       "\tat io.github.spencerpark.jupyter.channels.ShellChannel.lambda$bind$0(ShellChannel.java:64)\n",
       "\tat io.github.spencerpark.jupyter.channels.Loop.lambda$new$0(Loop.java:21)\n",
       "\tat io.github.spencerpark.jupyter.channels.Loop.run(Loop.java:78)\n"
      ]
     },
     "execution_count": 48,
     "metadata": {},
     "output_type": "execute_result"
    }
   ],
   "source": [
    "%viz --style=\"TB\" --view=\"Action\" \"ActionTest\""
   ]
  },
  {
   "cell_type": "code",
   "execution_count": 49,
   "id": "enclosed-freeware",
   "metadata": {
    "execution": {
     "iopub.execute_input": "2021-03-26T09:41:35.597201Z",
     "iopub.status.busy": "2021-03-26T09:41:35.596613Z",
     "iopub.status.idle": "2021-03-26T09:41:35.643505Z",
     "shell.execute_reply": "2021-03-26T09:41:35.643897Z"
    }
   },
   "outputs": [
    {
     "data": {
      "image/svg+xml": [
       "<?xml version=\"1.0\" encoding=\"UTF-8\" standalone=\"no\"?><svg xmlns=\"http://www.w3.org/2000/svg\" xmlns:xlink=\"http://www.w3.org/1999/xlink\" contentScriptType=\"application/ecmascript\" contentStyleType=\"text/css\" height=\"157px\" preserveAspectRatio=\"none\" style=\"width:230px;height:157px;\" version=\"1.1\" viewBox=\"0 0 230 157\" width=\"230px\" zoomAndPan=\"magnify\"><defs/><g><!--MD5=[fbc87193dbaf4d95561dea2c320d4a47]\n",
       "cluster E1--><polygon fill=\"#FFFFFF\" points=\"16,6,107,6,114,28.2969,208,28.2969,208,145,16,145,16,6\" style=\"stroke: #000000; stroke-width: 1.5;\"/><line style=\"stroke: #000000; stroke-width: 1.5;\" x1=\"16\" x2=\"114\" y1=\"28.2969\" y2=\"28.2969\"/><text fill=\"#000000\" font-family=\"sans-serif\" font-size=\"14\" font-weight=\"bold\" lengthAdjust=\"spacingAndGlyphs\" textLength=\"85\" x=\"20\" y=\"20.9951\">ActionTest</text><!--MD5=[b4997ac47864f28c2f74865a473b2911]\n",
       "class E2--><rect fill=\"#FFFFFF\" height=\"88.3516\" id=\"E2\" rx=\"10\" ry=\"10\" style=\"stroke: #383838; stroke-width: 1.5;\" width=\"160\" x=\"32\" y=\"41\"/><text fill=\"#000000\" font-family=\"sans-serif\" font-size=\"12\" font-style=\"italic\" lengthAdjust=\"spacingAndGlyphs\" textLength=\"53\" x=\"85.5\" y=\"57.1387\">«action»</text><text fill=\"#000000\" font-family=\"sans-serif\" font-size=\"12\" lengthAdjust=\"spacingAndGlyphs\" textLength=\"55\" x=\"84.5\" y=\"71.1074\">a: Action</text><line style=\"stroke: #383838; stroke-width: 1.5;\" x1=\"33\" x2=\"191\" y1=\"78.9375\" y2=\"78.9375\"/><text fill=\"#000000\" font-family=\"sans-serif\" font-size=\"11\" lengthAdjust=\"spacingAndGlyphs\" textLength=\"69\" x=\"38\" y=\"109.9526\">start: Action</text><text fill=\"#000000\" font-family=\"sans-serif\" font-size=\"11\" font-style=\"italic\" lengthAdjust=\"spacingAndGlyphs\" textLength=\"148\" x=\"38\" y=\"122.7573\">:&gt;&gt;Occurrence::startShot</text><line style=\"stroke: #383838; stroke-width: 1.0;\" x1=\"33\" x2=\"91.5\" y1=\"93.3398\" y2=\"93.3398\"/><text fill=\"#000000\" font-family=\"sans-serif\" font-size=\"11\" lengthAdjust=\"spacingAndGlyphs\" textLength=\"41\" x=\"91.5\" y=\"96.6479\">actions</text><line style=\"stroke: #383838; stroke-width: 1.0;\" x1=\"132.5\" x2=\"191\" y1=\"93.3398\" y2=\"93.3398\"/><!--MD5=[3995b37de318fcd718d3c9edfeeddc70]\n",
       "@startuml\r\n",
       "top to bottom direction\r\n",
       "skinparam monochrome true\r\n",
       "skinparam classbackgroundcolor white\r\n",
       "skinparam shadowing false\r\n",
       "skinparam wrapWidth 300\r\n",
       "hide circle\r\n",
       "\r\n",
       "package \"ActionTest\" as E1   {\r\n",
       "comp usage \"a: Action\" as E2  <<(T,blue)action>> {\r\n",
       "- -actions- -\r\n",
       "start: Action\\n//:>>Occurrence::startShot// \r\n",
       "}\r\n",
       "}\r\n",
       "@enduml\r\n",
       "\n",
       "PlantUML version 1.2020.13(Sat Jun 13 12:26:38 UTC 2020)\n",
       "(EPL source distribution)\n",
       "Java Runtime: OpenJDK Runtime Environment\n",
       "JVM: OpenJDK 64-Bit Server VM\n",
       "Default Encoding: UTF-8\n",
       "Language: en\n",
       "Country: null\n",
       "--></g></svg>"
      ]
     },
     "execution_count": 49,
     "metadata": {},
     "output_type": "execute_result"
    }
   ],
   "source": [
    "%viz --style=\"TB\" --view=\"Sequence\" \"ActionTest\""
   ]
  },
  {
   "cell_type": "code",
   "execution_count": 50,
   "id": "active-interaction",
   "metadata": {
    "execution": {
     "iopub.execute_input": "2021-03-26T09:41:35.697468Z",
     "iopub.status.busy": "2021-03-26T09:41:35.696657Z",
     "iopub.status.idle": "2021-03-26T09:41:35.717609Z",
     "shell.execute_reply": "2021-03-26T09:41:35.717158Z"
    }
   },
   "outputs": [
    {
     "data": {
      "image/svg+xml": [
       "<?xml version=\"1.0\" encoding=\"UTF-8\" standalone=\"no\"?><svg xmlns=\"http://www.w3.org/2000/svg\" xmlns:xlink=\"http://www.w3.org/1999/xlink\" contentScriptType=\"application/ecmascript\" contentStyleType=\"text/css\" height=\"186px\" preserveAspectRatio=\"none\" style=\"width:170px;height:186px;\" version=\"1.1\" viewBox=\"0 0 170 186\" width=\"170px\" zoomAndPan=\"magnify\"><defs/><g><!--MD5=[fbc87193dbaf4d95561dea2c320d4a47]\n",
       "cluster E1--><polygon fill=\"#FFFFFF\" points=\"16,6,107,6,114,28.2969,148,28.2969,148,174,16,174,16,6\" style=\"stroke: #000000; stroke-width: 1.5;\"/><line style=\"stroke: #000000; stroke-width: 1.5;\" x1=\"16\" x2=\"114\" y1=\"28.2969\" y2=\"28.2969\"/><text fill=\"#000000\" font-family=\"sans-serif\" font-size=\"14\" font-weight=\"bold\" lengthAdjust=\"spacingAndGlyphs\" textLength=\"85\" x=\"20\" y=\"20.9951\">ActionTest</text><!--MD5=[e4f7fae6ed58524ba242bb0b0d3be6b7]\n",
       "cluster E2--><rect fill=\"#F8F8F8\" height=\"101\" rx=\"12.5\" ry=\"12.5\" style=\"stroke: #000000; stroke-width: 1.5;\" width=\"84\" x=\"40\" y=\"49\"/><rect fill=\"#FFFFFF\" height=\"68.7031\" rx=\"12.5\" ry=\"12.5\" style=\"stroke: #FFFFFF; stroke-width: 1.0;\" width=\"78\" x=\"43\" y=\"78.2969\"/><line style=\"stroke: #000000; stroke-width: 1.5;\" x1=\"40\" x2=\"124\" y1=\"75.2969\" y2=\"75.2969\"/><text fill=\"#000000\" font-family=\"sans-serif\" font-size=\"14\" lengthAdjust=\"spacingAndGlyphs\" textLength=\"8\" x=\"78\" y=\"65.9951\">a</text><g id=\"E1.E2.E3\"><rect fill=\"#FFFFFF\" height=\"50\" rx=\"12.5\" ry=\"12.5\" style=\"stroke: #383838; stroke-width: 1.5;\" width=\"51\" x=\"56.5\" y=\"84\"/><line style=\"stroke: #383838; stroke-width: 1.5;\" x1=\"56.5\" x2=\"107.5\" y1=\"110.2969\" y2=\"110.2969\"/><text fill=\"#000000\" font-family=\"sans-serif\" font-size=\"14\" lengthAdjust=\"spacingAndGlyphs\" textLength=\"31\" x=\"66.5\" y=\"101.9951\">start</text></g><!--MD5=[29bd2fe63c37c76a61e2a1cd19f6ea07]\n",
       "@startuml\r\n",
       "top to bottom direction\r\n",
       "skinparam monochrome true\r\n",
       "skinparam classbackgroundcolor white\r\n",
       "skinparam shadowing false\r\n",
       "skinparam wrapWidth 300\r\n",
       "hide circle\r\n",
       "\r\n",
       "package \"ActionTest\" as E1   {\r\n",
       "rec usage \"a\" as E2 {\r\n",
       "rec usage \"start\" as E3 {\r\n",
       "}\r\n",
       "\r\n",
       "}\r\n",
       "\r\n",
       "}\r\n",
       "@enduml\r\n",
       "\n",
       "PlantUML version 1.2020.13(Sat Jun 13 12:26:38 UTC 2020)\n",
       "(EPL source distribution)\n",
       "Java Runtime: OpenJDK Runtime Environment\n",
       "JVM: OpenJDK 64-Bit Server VM\n",
       "Default Encoding: UTF-8\n",
       "Language: en\n",
       "Country: null\n",
       "--></g></svg>"
      ]
     },
     "execution_count": 50,
     "metadata": {},
     "output_type": "execute_result"
    }
   ],
   "source": [
    "%viz --style=\"TB\" --view=\"MIXED\" \"ActionTest\""
   ]
  },
  {
   "cell_type": "code",
   "execution_count": 51,
   "id": "extra-enough",
   "metadata": {
    "execution": {
     "iopub.execute_input": "2021-03-26T09:41:35.769716Z",
     "iopub.status.busy": "2021-03-26T09:41:35.768986Z",
     "iopub.status.idle": "2021-03-26T09:41:35.791130Z",
     "shell.execute_reply": "2021-03-26T09:41:35.790819Z"
    }
   },
   "outputs": [
    {
     "data": {
      "image/svg+xml": [
       "<?xml version=\"1.0\" encoding=\"UTF-8\" standalone=\"no\"?><svg xmlns=\"http://www.w3.org/2000/svg\" xmlns:xlink=\"http://www.w3.org/1999/xlink\" contentScriptType=\"application/ecmascript\" contentStyleType=\"text/css\" height=\"186px\" preserveAspectRatio=\"none\" style=\"width:170px;height:186px;\" version=\"1.1\" viewBox=\"0 0 170 186\" width=\"170px\" zoomAndPan=\"magnify\"><defs/><g><!--MD5=[fbc87193dbaf4d95561dea2c320d4a47]\n",
       "cluster E1--><polygon fill=\"#FFFFFF\" points=\"16,6,107,6,114,28.2969,148,28.2969,148,174,16,174,16,6\" style=\"stroke: #000000; stroke-width: 1.5;\"/><line style=\"stroke: #000000; stroke-width: 1.5;\" x1=\"16\" x2=\"114\" y1=\"28.2969\" y2=\"28.2969\"/><text fill=\"#000000\" font-family=\"sans-serif\" font-size=\"14\" font-weight=\"bold\" lengthAdjust=\"spacingAndGlyphs\" textLength=\"85\" x=\"20\" y=\"20.9951\">ActionTest</text><!--MD5=[e4f7fae6ed58524ba242bb0b0d3be6b7]\n",
       "cluster E2--><rect fill=\"#F8F8F8\" height=\"101\" rx=\"12.5\" ry=\"12.5\" style=\"stroke: #000000; stroke-width: 1.5;\" width=\"84\" x=\"40\" y=\"49\"/><rect fill=\"#FFFFFF\" height=\"68.7031\" rx=\"12.5\" ry=\"12.5\" style=\"stroke: #FFFFFF; stroke-width: 1.0;\" width=\"78\" x=\"43\" y=\"78.2969\"/><line style=\"stroke: #000000; stroke-width: 1.5;\" x1=\"40\" x2=\"124\" y1=\"75.2969\" y2=\"75.2969\"/><text fill=\"#000000\" font-family=\"sans-serif\" font-size=\"14\" lengthAdjust=\"spacingAndGlyphs\" textLength=\"8\" x=\"78\" y=\"65.9951\">a</text><g id=\"E1.E2.E3\"><rect fill=\"#FFFFFF\" height=\"50\" rx=\"12.5\" ry=\"12.5\" style=\"stroke: #383838; stroke-width: 1.5;\" width=\"51\" x=\"56.5\" y=\"84\"/><line style=\"stroke: #383838; stroke-width: 1.5;\" x1=\"56.5\" x2=\"107.5\" y1=\"110.2969\" y2=\"110.2969\"/><text fill=\"#000000\" font-family=\"sans-serif\" font-size=\"14\" lengthAdjust=\"spacingAndGlyphs\" textLength=\"31\" x=\"66.5\" y=\"101.9951\">start</text></g><!--MD5=[82476d8144466c9379a2c1fd7688d4ff]\n",
       "@startuml\r\n",
       "skinparam linetype ortho\r\n",
       "skinparam monochrome true\r\n",
       "skinparam classbackgroundcolor white\r\n",
       "skinparam shadowing false\r\n",
       "skinparam wrapWidth 300\r\n",
       "hide circle\r\n",
       "\r\n",
       "package \"ActionTest\" as E1   {\r\n",
       "rec usage \"a\" as E2 {\r\n",
       "rec usage \"start\" as E3 {\r\n",
       "}\r\n",
       "\r\n",
       "}\r\n",
       "\r\n",
       "}\r\n",
       "@enduml\r\n",
       "\n",
       "PlantUML version 1.2020.13(Sat Jun 13 12:26:38 UTC 2020)\n",
       "(EPL source distribution)\n",
       "Java Runtime: OpenJDK Runtime Environment\n",
       "JVM: OpenJDK 64-Bit Server VM\n",
       "Default Encoding: UTF-8\n",
       "Language: en\n",
       "Country: null\n",
       "--></g></svg>"
      ]
     },
     "execution_count": 51,
     "metadata": {},
     "output_type": "execute_result"
    }
   ],
   "source": [
    "%viz --style=\"ORTHOLINE\" --view=\"Default\" \"ActionTest\""
   ]
  },
  {
   "cell_type": "code",
   "execution_count": 52,
   "id": "worse-cholesterol",
   "metadata": {
    "execution": {
     "iopub.execute_input": "2021-03-26T09:41:35.845357Z",
     "iopub.status.busy": "2021-03-26T09:41:35.844441Z",
     "iopub.status.idle": "2021-03-26T09:41:35.887335Z",
     "shell.execute_reply": "2021-03-26T09:41:35.887033Z"
    }
   },
   "outputs": [
    {
     "data": {
      "image/svg+xml": [
       "<?xml version=\"1.0\" encoding=\"UTF-8\" standalone=\"no\"?><svg xmlns=\"http://www.w3.org/2000/svg\" xmlns:xlink=\"http://www.w3.org/1999/xlink\" contentScriptType=\"application/ecmascript\" contentStyleType=\"text/css\" height=\"157px\" preserveAspectRatio=\"none\" style=\"width:230px;height:157px;\" version=\"1.1\" viewBox=\"0 0 230 157\" width=\"230px\" zoomAndPan=\"magnify\"><defs/><g><!--MD5=[fbc87193dbaf4d95561dea2c320d4a47]\n",
       "cluster E1--><polygon fill=\"#FFFFFF\" points=\"16,6,107,6,114,28.2969,208,28.2969,208,145,16,145,16,6\" style=\"stroke: #000000; stroke-width: 1.5;\"/><line style=\"stroke: #000000; stroke-width: 1.5;\" x1=\"16\" x2=\"114\" y1=\"28.2969\" y2=\"28.2969\"/><text fill=\"#000000\" font-family=\"sans-serif\" font-size=\"14\" font-weight=\"bold\" lengthAdjust=\"spacingAndGlyphs\" textLength=\"85\" x=\"20\" y=\"20.9951\">ActionTest</text><!--MD5=[b4997ac47864f28c2f74865a473b2911]\n",
       "class E2--><rect fill=\"#FFFFFF\" height=\"88.3516\" id=\"E2\" rx=\"10\" ry=\"10\" style=\"stroke: #383838; stroke-width: 1.5;\" width=\"160\" x=\"32\" y=\"41\"/><text fill=\"#000000\" font-family=\"sans-serif\" font-size=\"12\" font-style=\"italic\" lengthAdjust=\"spacingAndGlyphs\" textLength=\"53\" x=\"85.5\" y=\"57.1387\">«action»</text><text fill=\"#000000\" font-family=\"sans-serif\" font-size=\"12\" lengthAdjust=\"spacingAndGlyphs\" textLength=\"55\" x=\"84.5\" y=\"71.1074\">a: Action</text><line style=\"stroke: #383838; stroke-width: 1.5;\" x1=\"33\" x2=\"191\" y1=\"78.9375\" y2=\"78.9375\"/><text fill=\"#000000\" font-family=\"sans-serif\" font-size=\"11\" lengthAdjust=\"spacingAndGlyphs\" textLength=\"69\" x=\"38\" y=\"109.9526\">start: Action</text><text fill=\"#000000\" font-family=\"sans-serif\" font-size=\"11\" font-style=\"italic\" lengthAdjust=\"spacingAndGlyphs\" textLength=\"148\" x=\"38\" y=\"122.7573\">:&gt;&gt;Occurrence::startShot</text><line style=\"stroke: #383838; stroke-width: 1.0;\" x1=\"33\" x2=\"91.5\" y1=\"93.3398\" y2=\"93.3398\"/><text fill=\"#000000\" font-family=\"sans-serif\" font-size=\"11\" lengthAdjust=\"spacingAndGlyphs\" textLength=\"41\" x=\"91.5\" y=\"96.6479\">actions</text><line style=\"stroke: #383838; stroke-width: 1.0;\" x1=\"132.5\" x2=\"191\" y1=\"93.3398\" y2=\"93.3398\"/><!--MD5=[e2076322b14c0eb1b3481cfb372d3c23]\n",
       "@startuml\r\n",
       "skinparam linetype ortho\r\n",
       "skinparam monochrome true\r\n",
       "skinparam classbackgroundcolor white\r\n",
       "skinparam shadowing false\r\n",
       "skinparam wrapWidth 300\r\n",
       "hide circle\r\n",
       "\r\n",
       "package \"ActionTest\" as E1   {\r\n",
       "comp usage \"a: Action\" as E2  <<(T,blue)action>> {\r\n",
       "- -actions- -\r\n",
       "start: Action\\n//:>>Occurrence::startShot// \r\n",
       "}\r\n",
       "}\r\n",
       "@enduml\r\n",
       "\n",
       "PlantUML version 1.2020.13(Sat Jun 13 12:26:38 UTC 2020)\n",
       "(EPL source distribution)\n",
       "Java Runtime: OpenJDK Runtime Environment\n",
       "JVM: OpenJDK 64-Bit Server VM\n",
       "Default Encoding: UTF-8\n",
       "Language: en\n",
       "Country: null\n",
       "--></g></svg>"
      ]
     },
     "execution_count": 52,
     "metadata": {},
     "output_type": "execute_result"
    }
   ],
   "source": [
    "%viz --style=\"ORTHOLINE\" --view=\"Tree\" \"ActionTest\""
   ]
  },
  {
   "cell_type": "code",
   "execution_count": 53,
   "id": "packed-beverage",
   "metadata": {
    "execution": {
     "iopub.execute_input": "2021-03-26T09:41:35.938226Z",
     "iopub.status.busy": "2021-03-26T09:41:35.937753Z",
     "iopub.status.idle": "2021-03-26T09:41:35.939955Z",
     "shell.execute_reply": "2021-03-26T09:41:35.940338Z"
    }
   },
   "outputs": [
    {
     "data": {
      "text/plain": [
       "java.lang.IllegalArgumentException: Invalid View: State View candidates are: Default Tree StateMachine Interconnection Activity Sequence MIXED \n",
       "\tat org.omg.sysml.plantuml.SysML2PlantUMLSvc.setView(SysML2PlantUMLSvc.java:63)\n",
       "\tat org.omg.sysml.interactive.SysMLInteractive.viz(SysMLInteractive.java:286)\n",
       "\tat org.omg.sysml.jupyter.kernel.magic.Viz.viz(Viz.java:47)\n",
       "\tat jdk.internal.reflect.GeneratedMethodAccessor7.invoke(Unknown Source)\n",
       "\tat java.base/jdk.internal.reflect.DelegatingMethodAccessorImpl.invoke(DelegatingMethodAccessorImpl.java:43)\n",
       "\tat java.base/java.lang.reflect.Method.invoke(Method.java:568)\n",
       "\tat io.github.spencerpark.jupyter.kernel.magic.registry.Magics.invoke(Magics.java:89)\n",
       "\tat io.github.spencerpark.jupyter.kernel.magic.registry.Magics.access$000(Magics.java:8)\n",
       "\tat io.github.spencerpark.jupyter.kernel.magic.registry.Magics$LineReflectionMagicFunction.execute(Magics.java:149)\n",
       "\tat io.github.spencerpark.jupyter.kernel.magic.registry.Magics.applyLineMagic(Magics.java:26)\n",
       "\tat org.omg.sysml.jupyter.kernel.SysMLKernel.eval(SysMLKernel.java:76)\n",
       "\tat io.github.spencerpark.jupyter.kernel.BaseKernel.handleExecuteRequest(BaseKernel.java:334)\n",
       "\tat io.github.spencerpark.jupyter.channels.ShellChannel.lambda$bind$0(ShellChannel.java:64)\n",
       "\tat io.github.spencerpark.jupyter.channels.Loop.lambda$new$0(Loop.java:21)\n",
       "\tat io.github.spencerpark.jupyter.channels.Loop.run(Loop.java:78)\n"
      ]
     },
     "execution_count": 53,
     "metadata": {},
     "output_type": "execute_result"
    }
   ],
   "source": [
    "%viz --style=\"ORTHOLINE\" --view=\"State\" \"ActionTest\""
   ]
  },
  {
   "cell_type": "code",
   "execution_count": 54,
   "id": "light-token",
   "metadata": {
    "execution": {
     "iopub.execute_input": "2021-03-26T09:41:35.991504Z",
     "iopub.status.busy": "2021-03-26T09:41:35.990955Z",
     "iopub.status.idle": "2021-03-26T09:41:36.026017Z",
     "shell.execute_reply": "2021-03-26T09:41:36.023499Z"
    }
   },
   "outputs": [
    {
     "data": {
      "image/svg+xml": [
       "<?xml version=\"1.0\" encoding=\"UTF-8\" standalone=\"no\"?><svg xmlns=\"http://www.w3.org/2000/svg\" xmlns:xlink=\"http://www.w3.org/1999/xlink\" contentScriptType=\"application/ecmascript\" contentStyleType=\"text/css\" height=\"205px\" preserveAspectRatio=\"none\" style=\"width:326px;height:205px;\" version=\"1.1\" viewBox=\"0 0 326 205\" width=\"326px\" zoomAndPan=\"magnify\"><defs/><g><!--MD5=[fbc87193dbaf4d95561dea2c320d4a47]\n",
       "cluster E1--><polygon fill=\"#FFFFFF\" points=\"16,6,107,6,114,28.2969,304,28.2969,304,193,16,193,16,6\" style=\"stroke: #000000; stroke-width: 1.5;\"/><line style=\"stroke: #000000; stroke-width: 1.5;\" x1=\"16\" x2=\"114\" y1=\"28.2969\" y2=\"28.2969\"/><text fill=\"#000000\" font-family=\"sans-serif\" font-size=\"14\" font-weight=\"bold\" lengthAdjust=\"spacingAndGlyphs\" textLength=\"85\" x=\"20\" y=\"20.9951\">ActionTest</text><!--MD5=[e4f7fae6ed58524ba242bb0b0d3be6b7]\n",
       "cluster E2--><rect fill=\"#F8F8F8\" height=\"120\" rx=\"12.5\" ry=\"12.5\" style=\"stroke: #000000; stroke-width: 1.5;\" width=\"240\" x=\"40\" y=\"49\"/><rect fill=\"#FFFFFF\" height=\"87.7031\" rx=\"12.5\" ry=\"12.5\" style=\"stroke: #FFFFFF; stroke-width: 1.0;\" width=\"234\" x=\"43\" y=\"78.2969\"/><line style=\"stroke: #000000; stroke-width: 1.5;\" x1=\"40\" x2=\"280\" y1=\"75.2969\" y2=\"75.2969\"/><text fill=\"#000000\" font-family=\"sans-serif\" font-size=\"14\" lengthAdjust=\"spacingAndGlyphs\" textLength=\"60\" x=\"130\" y=\"65.9951\">a: Action</text><g id=\"E1.E2.E3\"><rect fill=\"#FFFFFF\" height=\"52.5938\" rx=\"12.5\" ry=\"12.5\" style=\"stroke: #383838; stroke-width: 1.5;\" width=\"207\" x=\"56.5\" y=\"100\"/><line style=\"stroke: #383838; stroke-width: 1.5;\" x1=\"56.5\" x2=\"263.5\" y1=\"142.5938\" y2=\"142.5938\"/><text fill=\"#000000\" font-family=\"sans-serif\" font-size=\"14\" lengthAdjust=\"spacingAndGlyphs\" textLength=\"83\" x=\"118.5\" y=\"117.9951\">start: Action</text><text fill=\"#000000\" font-family=\"sans-serif\" font-size=\"14\" font-style=\"italic\" lengthAdjust=\"spacingAndGlyphs\" textLength=\"183\" x=\"66.5\" y=\"134.292\">:&gt;&gt;Occurrence::startShot</text><text fill=\"#000000\" font-family=\"sans-serif\" font-size=\"14\" lengthAdjust=\"spacingAndGlyphs\" textLength=\"0\" x=\"253.5\" y=\"134.292\"/></g><!--MD5=[18d823b9234772542f7ea6fa6c3fcd61]\n",
       "@startuml\r\n",
       "skinparam ranksep 8\r\n",
       "skinparam rectangle {\r\n",
       " backgroundColor<<block>> LightGreen\r\n",
       "}\r\n",
       "skinparam linetype ortho\r\n",
       "skinparam monochrome true\r\n",
       "skinparam classbackgroundcolor white\r\n",
       "skinparam shadowing false\r\n",
       "skinparam wrapWidth 300\r\n",
       "hide circle\r\n",
       "\r\n",
       "package \"ActionTest\" as E1   {\r\n",
       "rec usage \"a: Action\" as E2  <<action>> {\r\n",
       "rec usage \"start: Action\\n//:>>Occurrence::startShot// \" as E3  <<action>> {\r\n",
       "}\r\n",
       "}\r\n",
       "}\r\n",
       "@enduml\r\n",
       "\n",
       "PlantUML version 1.2020.13(Sat Jun 13 12:26:38 UTC 2020)\n",
       "(EPL source distribution)\n",
       "Java Runtime: OpenJDK Runtime Environment\n",
       "JVM: OpenJDK 64-Bit Server VM\n",
       "Default Encoding: UTF-8\n",
       "Language: en\n",
       "Country: null\n",
       "--></g></svg>"
      ]
     },
     "execution_count": 54,
     "metadata": {},
     "output_type": "execute_result"
    }
   ],
   "source": [
    "%viz --style=\"ORTHOLINE\" --view=\"Interconnection\" \"ActionTest\""
   ]
  },
  {
   "cell_type": "code",
   "execution_count": 55,
   "id": "australian-tower",
   "metadata": {
    "execution": {
     "iopub.execute_input": "2021-03-26T09:41:36.077772Z",
     "iopub.status.busy": "2021-03-26T09:41:36.077088Z",
     "iopub.status.idle": "2021-03-26T09:41:36.078641Z",
     "shell.execute_reply": "2021-03-26T09:41:36.079175Z"
    }
   },
   "outputs": [
    {
     "data": {
      "text/plain": [
       "java.lang.IllegalArgumentException: Invalid View: Action View candidates are: Default Tree StateMachine Interconnection Activity Sequence MIXED \n",
       "\tat org.omg.sysml.plantuml.SysML2PlantUMLSvc.setView(SysML2PlantUMLSvc.java:63)\n",
       "\tat org.omg.sysml.interactive.SysMLInteractive.viz(SysMLInteractive.java:286)\n",
       "\tat org.omg.sysml.jupyter.kernel.magic.Viz.viz(Viz.java:47)\n",
       "\tat jdk.internal.reflect.GeneratedMethodAccessor7.invoke(Unknown Source)\n",
       "\tat java.base/jdk.internal.reflect.DelegatingMethodAccessorImpl.invoke(DelegatingMethodAccessorImpl.java:43)\n",
       "\tat java.base/java.lang.reflect.Method.invoke(Method.java:568)\n",
       "\tat io.github.spencerpark.jupyter.kernel.magic.registry.Magics.invoke(Magics.java:89)\n",
       "\tat io.github.spencerpark.jupyter.kernel.magic.registry.Magics.access$000(Magics.java:8)\n",
       "\tat io.github.spencerpark.jupyter.kernel.magic.registry.Magics$LineReflectionMagicFunction.execute(Magics.java:149)\n",
       "\tat io.github.spencerpark.jupyter.kernel.magic.registry.Magics.applyLineMagic(Magics.java:26)\n",
       "\tat org.omg.sysml.jupyter.kernel.SysMLKernel.eval(SysMLKernel.java:76)\n",
       "\tat io.github.spencerpark.jupyter.kernel.BaseKernel.handleExecuteRequest(BaseKernel.java:334)\n",
       "\tat io.github.spencerpark.jupyter.channels.ShellChannel.lambda$bind$0(ShellChannel.java:64)\n",
       "\tat io.github.spencerpark.jupyter.channels.Loop.lambda$new$0(Loop.java:21)\n",
       "\tat io.github.spencerpark.jupyter.channels.Loop.run(Loop.java:78)\n"
      ]
     },
     "execution_count": 55,
     "metadata": {},
     "output_type": "execute_result"
    }
   ],
   "source": [
    "%viz --style=\"ORTHOLINE\" --view=\"Action\" \"ActionTest\""
   ]
  },
  {
   "cell_type": "code",
   "execution_count": 56,
   "id": "postal-ranking",
   "metadata": {
    "execution": {
     "iopub.execute_input": "2021-03-26T09:41:36.129324Z",
     "iopub.status.busy": "2021-03-26T09:41:36.128974Z",
     "iopub.status.idle": "2021-03-26T09:41:36.173092Z",
     "shell.execute_reply": "2021-03-26T09:41:36.172761Z"
    }
   },
   "outputs": [
    {
     "data": {
      "image/svg+xml": [
       "<?xml version=\"1.0\" encoding=\"UTF-8\" standalone=\"no\"?><svg xmlns=\"http://www.w3.org/2000/svg\" xmlns:xlink=\"http://www.w3.org/1999/xlink\" contentScriptType=\"application/ecmascript\" contentStyleType=\"text/css\" height=\"157px\" preserveAspectRatio=\"none\" style=\"width:230px;height:157px;\" version=\"1.1\" viewBox=\"0 0 230 157\" width=\"230px\" zoomAndPan=\"magnify\"><defs/><g><!--MD5=[fbc87193dbaf4d95561dea2c320d4a47]\n",
       "cluster E1--><polygon fill=\"#FFFFFF\" points=\"16,6,107,6,114,28.2969,208,28.2969,208,145,16,145,16,6\" style=\"stroke: #000000; stroke-width: 1.5;\"/><line style=\"stroke: #000000; stroke-width: 1.5;\" x1=\"16\" x2=\"114\" y1=\"28.2969\" y2=\"28.2969\"/><text fill=\"#000000\" font-family=\"sans-serif\" font-size=\"14\" font-weight=\"bold\" lengthAdjust=\"spacingAndGlyphs\" textLength=\"85\" x=\"20\" y=\"20.9951\">ActionTest</text><!--MD5=[b4997ac47864f28c2f74865a473b2911]\n",
       "class E2--><rect fill=\"#FFFFFF\" height=\"88.3516\" id=\"E2\" rx=\"10\" ry=\"10\" style=\"stroke: #383838; stroke-width: 1.5;\" width=\"160\" x=\"32\" y=\"41\"/><text fill=\"#000000\" font-family=\"sans-serif\" font-size=\"12\" font-style=\"italic\" lengthAdjust=\"spacingAndGlyphs\" textLength=\"53\" x=\"85.5\" y=\"57.1387\">«action»</text><text fill=\"#000000\" font-family=\"sans-serif\" font-size=\"12\" lengthAdjust=\"spacingAndGlyphs\" textLength=\"55\" x=\"84.5\" y=\"71.1074\">a: Action</text><line style=\"stroke: #383838; stroke-width: 1.5;\" x1=\"33\" x2=\"191\" y1=\"78.9375\" y2=\"78.9375\"/><text fill=\"#000000\" font-family=\"sans-serif\" font-size=\"11\" lengthAdjust=\"spacingAndGlyphs\" textLength=\"69\" x=\"38\" y=\"109.9526\">start: Action</text><text fill=\"#000000\" font-family=\"sans-serif\" font-size=\"11\" font-style=\"italic\" lengthAdjust=\"spacingAndGlyphs\" textLength=\"148\" x=\"38\" y=\"122.7573\">:&gt;&gt;Occurrence::startShot</text><line style=\"stroke: #383838; stroke-width: 1.0;\" x1=\"33\" x2=\"91.5\" y1=\"93.3398\" y2=\"93.3398\"/><text fill=\"#000000\" font-family=\"sans-serif\" font-size=\"11\" lengthAdjust=\"spacingAndGlyphs\" textLength=\"41\" x=\"91.5\" y=\"96.6479\">actions</text><line style=\"stroke: #383838; stroke-width: 1.0;\" x1=\"132.5\" x2=\"191\" y1=\"93.3398\" y2=\"93.3398\"/><!--MD5=[e2076322b14c0eb1b3481cfb372d3c23]\n",
       "@startuml\r\n",
       "skinparam linetype ortho\r\n",
       "skinparam monochrome true\r\n",
       "skinparam classbackgroundcolor white\r\n",
       "skinparam shadowing false\r\n",
       "skinparam wrapWidth 300\r\n",
       "hide circle\r\n",
       "\r\n",
       "package \"ActionTest\" as E1   {\r\n",
       "comp usage \"a: Action\" as E2  <<(T,blue)action>> {\r\n",
       "- -actions- -\r\n",
       "start: Action\\n//:>>Occurrence::startShot// \r\n",
       "}\r\n",
       "}\r\n",
       "@enduml\r\n",
       "\n",
       "PlantUML version 1.2020.13(Sat Jun 13 12:26:38 UTC 2020)\n",
       "(EPL source distribution)\n",
       "Java Runtime: OpenJDK Runtime Environment\n",
       "JVM: OpenJDK 64-Bit Server VM\n",
       "Default Encoding: UTF-8\n",
       "Language: en\n",
       "Country: null\n",
       "--></g></svg>"
      ]
     },
     "execution_count": 56,
     "metadata": {},
     "output_type": "execute_result"
    }
   ],
   "source": [
    "%viz --style=\"ORTHOLINE\" --view=\"Sequence\" \"ActionTest\""
   ]
  },
  {
   "cell_type": "code",
   "execution_count": 57,
   "id": "verified-church",
   "metadata": {
    "execution": {
     "iopub.execute_input": "2021-03-26T09:41:36.224183Z",
     "iopub.status.busy": "2021-03-26T09:41:36.223349Z",
     "iopub.status.idle": "2021-03-26T09:41:36.247922Z",
     "shell.execute_reply": "2021-03-26T09:41:36.247516Z"
    }
   },
   "outputs": [
    {
     "data": {
      "image/svg+xml": [
       "<?xml version=\"1.0\" encoding=\"UTF-8\" standalone=\"no\"?><svg xmlns=\"http://www.w3.org/2000/svg\" xmlns:xlink=\"http://www.w3.org/1999/xlink\" contentScriptType=\"application/ecmascript\" contentStyleType=\"text/css\" height=\"186px\" preserveAspectRatio=\"none\" style=\"width:170px;height:186px;\" version=\"1.1\" viewBox=\"0 0 170 186\" width=\"170px\" zoomAndPan=\"magnify\"><defs/><g><!--MD5=[fbc87193dbaf4d95561dea2c320d4a47]\n",
       "cluster E1--><polygon fill=\"#FFFFFF\" points=\"16,6,107,6,114,28.2969,148,28.2969,148,174,16,174,16,6\" style=\"stroke: #000000; stroke-width: 1.5;\"/><line style=\"stroke: #000000; stroke-width: 1.5;\" x1=\"16\" x2=\"114\" y1=\"28.2969\" y2=\"28.2969\"/><text fill=\"#000000\" font-family=\"sans-serif\" font-size=\"14\" font-weight=\"bold\" lengthAdjust=\"spacingAndGlyphs\" textLength=\"85\" x=\"20\" y=\"20.9951\">ActionTest</text><!--MD5=[e4f7fae6ed58524ba242bb0b0d3be6b7]\n",
       "cluster E2--><rect fill=\"#F8F8F8\" height=\"101\" rx=\"12.5\" ry=\"12.5\" style=\"stroke: #000000; stroke-width: 1.5;\" width=\"84\" x=\"40\" y=\"49\"/><rect fill=\"#FFFFFF\" height=\"68.7031\" rx=\"12.5\" ry=\"12.5\" style=\"stroke: #FFFFFF; stroke-width: 1.0;\" width=\"78\" x=\"43\" y=\"78.2969\"/><line style=\"stroke: #000000; stroke-width: 1.5;\" x1=\"40\" x2=\"124\" y1=\"75.2969\" y2=\"75.2969\"/><text fill=\"#000000\" font-family=\"sans-serif\" font-size=\"14\" lengthAdjust=\"spacingAndGlyphs\" textLength=\"8\" x=\"78\" y=\"65.9951\">a</text><g id=\"E1.E2.E3\"><rect fill=\"#FFFFFF\" height=\"50\" rx=\"12.5\" ry=\"12.5\" style=\"stroke: #383838; stroke-width: 1.5;\" width=\"51\" x=\"56.5\" y=\"84\"/><line style=\"stroke: #383838; stroke-width: 1.5;\" x1=\"56.5\" x2=\"107.5\" y1=\"110.2969\" y2=\"110.2969\"/><text fill=\"#000000\" font-family=\"sans-serif\" font-size=\"14\" lengthAdjust=\"spacingAndGlyphs\" textLength=\"31\" x=\"66.5\" y=\"101.9951\">start</text></g><!--MD5=[82476d8144466c9379a2c1fd7688d4ff]\n",
       "@startuml\r\n",
       "skinparam linetype ortho\r\n",
       "skinparam monochrome true\r\n",
       "skinparam classbackgroundcolor white\r\n",
       "skinparam shadowing false\r\n",
       "skinparam wrapWidth 300\r\n",
       "hide circle\r\n",
       "\r\n",
       "package \"ActionTest\" as E1   {\r\n",
       "rec usage \"a\" as E2 {\r\n",
       "rec usage \"start\" as E3 {\r\n",
       "}\r\n",
       "\r\n",
       "}\r\n",
       "\r\n",
       "}\r\n",
       "@enduml\r\n",
       "\n",
       "PlantUML version 1.2020.13(Sat Jun 13 12:26:38 UTC 2020)\n",
       "(EPL source distribution)\n",
       "Java Runtime: OpenJDK Runtime Environment\n",
       "JVM: OpenJDK 64-Bit Server VM\n",
       "Default Encoding: UTF-8\n",
       "Language: en\n",
       "Country: null\n",
       "--></g></svg>"
      ]
     },
     "execution_count": 57,
     "metadata": {},
     "output_type": "execute_result"
    }
   ],
   "source": [
    "%viz --style=\"ORTHOLINE\" --view=\"MIXED\" \"ActionTest\""
   ]
  }
 ],
 "metadata": {
  "kernelspec": {
   "display_name": "SysML",
   "language": "sysml",
   "name": "sysml"
  },
  "language_info": {
   "codemirror_mode": "sysml",
   "file_extension": ".sysml",
   "mimetype": "text/x-sysml",
   "name": "SysML",
   "pygments_lexer": "java",
   "version": "1.0.0"
  }
 },
 "nbformat": 4,
 "nbformat_minor": 5
}
