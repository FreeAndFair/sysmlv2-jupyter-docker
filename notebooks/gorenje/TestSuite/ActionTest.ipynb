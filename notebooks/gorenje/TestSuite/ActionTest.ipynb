{
 "cells": [
  {
   "cell_type": "markdown",
   "id": "scientific-brunswick",
   "metadata": {},
   "source": [
    "# SysML v2 Test Suite\n",
    "\n",
    "This can notebook can be cleared using menu `Edit --> Clear All Outputs` and then all cells can be\n",
    "run using menu `Run --> Run All Cells`.\n",
    "\n",
    "**WARNING**: This file is generated, all modifications here will be ignored.\n"
   ]
  },
  {
   "cell_type": "markdown",
   "id": "focused-perception",
   "metadata": {},
   "source": [
    "## File: ../../sysml/src/examples/Simple Tests/ActionTest.sysml"
   ]
  },
  {
   "cell_type": "code",
   "execution_count": 1,
   "id": "accredited-contact",
   "metadata": {
    "execution": {
     "iopub.execute_input": "2021-03-26T12:08:32.402327Z",
     "iopub.status.busy": "2021-03-26T12:08:32.401896Z",
     "iopub.status.idle": "2021-03-26T12:08:32.483961Z",
     "shell.execute_reply": "2021-03-26T12:08:32.483564Z"
    }
   },
   "outputs": [
    {
     "data": {
      "text/plain": [
       "Package ActionTest (87e8068b-e7d1-4fe1-91fc-eca63bf9c6ae)\n"
      ]
     },
     "execution_count": 1,
     "metadata": {},
     "output_type": "execute_result"
    }
   ],
   "source": [
    "package ActionTest {\n",
    "\taction a { \n",
    "\t\tfirst start;\n",
    "\t}\n",
    "\t\n",
    "}"
   ]
  },
  {
   "cell_type": "code",
   "execution_count": 2,
   "id": "confidential-gates",
   "metadata": {
    "execution": {
     "iopub.execute_input": "2021-03-26T12:08:32.536071Z",
     "iopub.status.busy": "2021-03-26T12:08:32.535715Z",
     "iopub.status.idle": "2021-03-26T12:08:33.016559Z",
     "shell.execute_reply": "2021-03-26T12:08:33.016133Z"
    }
   },
   "outputs": [
    {
     "data": {
      "image/svg+xml": [
       "<?xml version=\"1.0\" encoding=\"UTF-8\" standalone=\"no\"?><svg xmlns=\"http://www.w3.org/2000/svg\" xmlns:xlink=\"http://www.w3.org/1999/xlink\" contentScriptType=\"application/ecmascript\" contentStyleType=\"text/css\" height=\"195px\" preserveAspectRatio=\"none\" style=\"width:178px;height:195px;\" version=\"1.1\" viewBox=\"0 0 178 195\" width=\"178px\" zoomAndPan=\"magnify\"><defs/><g><!--MD5=[fbc87193dbaf4d95561dea2c320d4a47]\n",
       "cluster E1--><a href=\"psysml:470c72d5-baee-42c0-b878-d250ab3f6a02\" target=\"_top\" title=\"psysml:470c72d5-baee-42c0-b878-d250ab3f6a02\" xlink:actuate=\"onRequest\" xlink:href=\"psysml:470c72d5-baee-42c0-b878-d250ab3f6a02\" xlink:show=\"new\" xlink:title=\"psysml:470c72d5-baee-42c0-b878-d250ab3f6a02\" xlink:type=\"simple\"><polygon fill=\"#FFFFFF\" points=\"16,6,107,6,114,28.2969,156,28.2969,156,183,16,183,16,6\" style=\"stroke: #000000; stroke-width: 1.5;\"/><line style=\"stroke: #000000; stroke-width: 1.5;\" x1=\"16\" x2=\"114\" y1=\"28.2969\" y2=\"28.2969\"/><text fill=\"#000000\" font-family=\"sans-serif\" font-size=\"14\" font-weight=\"bold\" lengthAdjust=\"spacingAndGlyphs\" textLength=\"85\" x=\"20\" y=\"20.9951\">ActionTest</text></a><!--MD5=[e4f7fae6ed58524ba242bb0b0d3be6b7]\n",
       "cluster E2--><a href=\"psysml:a7348084-8388-422f-b3f3-189098fa41d5\" target=\"_top\" title=\"psysml:a7348084-8388-422f-b3f3-189098fa41d5\" xlink:actuate=\"onRequest\" xlink:href=\"psysml:a7348084-8388-422f-b3f3-189098fa41d5\" xlink:show=\"new\" xlink:title=\"psysml:a7348084-8388-422f-b3f3-189098fa41d5\" xlink:type=\"simple\"><rect fill=\"#FFFFFF\" height=\"110\" id=\"E2\" rx=\"10\" ry=\"10\" style=\"stroke: #383838; stroke-width: 1.5;\" width=\"92\" x=\"40\" y=\"49\"/><rect fill=\"#F8F8F8\" height=\"37.9375\" rx=\"10\" ry=\"10\" style=\"stroke: #F8F8F8; stroke-width: 1.5;\" width=\"92\" x=\"40\" y=\"49\"/><rect fill=\"#F8F8F8\" height=\"10\" style=\"stroke: #F8F8F8; stroke-width: 1.5;\" width=\"92\" x=\"40\" y=\"76.9375\"/><rect fill=\"none\" height=\"110\" id=\"E2\" rx=\"10\" ry=\"10\" style=\"stroke: #383838; stroke-width: 1.5;\" width=\"92\" x=\"40\" y=\"49\"/><text fill=\"#000000\" font-family=\"sans-serif\" font-size=\"12\" font-style=\"italic\" lengthAdjust=\"spacingAndGlyphs\" textLength=\"53\" x=\"59.5\" y=\"65.1387\">«action»</text><text fill=\"#000000\" font-family=\"sans-serif\" font-size=\"12\" lengthAdjust=\"spacingAndGlyphs\" textLength=\"8\" x=\"82\" y=\"79.1074\">a</text><line style=\"stroke: #383838; stroke-width: 1.0;\" x1=\"40\" x2=\"132\" y1=\"86.9375\" y2=\"86.9375\"/></a><g id=\"E1.E2.E3\"><a href=\"psysml:ba977e5b-bee9-4d3d-9976-80a8f9a7c434\" target=\"_top\" title=\"psysml:ba977e5b-bee9-4d3d-9976-80a8f9a7c434\" xlink:actuate=\"onRequest\" xlink:href=\"psysml:ba977e5b-bee9-4d3d-9976-80a8f9a7c434\" xlink:show=\"new\" xlink:title=\"psysml:ba977e5b-bee9-4d3d-9976-80a8f9a7c434\" xlink:type=\"simple\"><rect fill=\"#FFFFFF\" height=\"42.9375\" id=\"E3\" rx=\"10\" ry=\"10\" style=\"stroke: #383838; stroke-width: 1.5;\" width=\"60\" x=\"56\" y=\"100\"/><rect fill=\"#F8F8F8\" height=\"37.9375\" rx=\"10\" ry=\"10\" style=\"stroke: #F8F8F8; stroke-width: 1.5;\" width=\"60\" x=\"56\" y=\"100\"/><rect fill=\"#F8F8F8\" height=\"10\" style=\"stroke: #F8F8F8; stroke-width: 1.5;\" width=\"60\" x=\"56\" y=\"127.9375\"/><rect fill=\"none\" height=\"42.9375\" id=\"E3\" rx=\"10\" ry=\"10\" style=\"stroke: #383838; stroke-width: 1.5;\" width=\"60\" x=\"56\" y=\"100\"/><text fill=\"#000000\" font-family=\"sans-serif\" font-size=\"12\" font-style=\"italic\" lengthAdjust=\"spacingAndGlyphs\" textLength=\"53\" x=\"59.5\" y=\"116.1387\">«action»</text><text fill=\"#000000\" font-family=\"sans-serif\" font-size=\"12\" lengthAdjust=\"spacingAndGlyphs\" textLength=\"30\" x=\"71\" y=\"130.1074\">start</text></a></g><!--MD5=[0bc02ea9af77da31aed546d99c63199a]\n",
       "@startuml\r\n",
       " skinparam monochrome true\r\n",
       "skinparam classbackgroundcolor white\r\n",
       "skinparam shadowing false\r\n",
       "skinparam wrapWidth 300\r\n",
       "hide circle\r\n",
       "\r\n",
       "package \"ActionTest\" as E1  [[psysml:470c72d5-baee-42c0-b878-d250ab3f6a02 ]]  {\r\n",
       "rec usage \"a\" as E2  <<(T,blue)action>> [[psysml:a7348084-8388-422f-b3f3-189098fa41d5 ]] {\r\n",
       "rec usage \"start\" as E3  <<(T,blue)action>> [[psysml:ba977e5b-bee9-4d3d-9976-80a8f9a7c434 ]] {\r\n",
       "}\r\n",
       "\r\n",
       "}\r\n",
       "\r\n",
       "}\r\n",
       "@enduml\r\n",
       "\n",
       "PlantUML version 1.2020.13(Sat Jun 13 12:26:38 UTC 2020)\n",
       "(EPL source distribution)\n",
       "Java Runtime: OpenJDK Runtime Environment\n",
       "JVM: OpenJDK 64-Bit Server VM\n",
       "Default Encoding: UTF-8\n",
       "Language: en\n",
       "Country: null\n",
       "--></g></svg>"
      ]
     },
     "execution_count": 2,
     "metadata": {},
     "output_type": "execute_result"
    }
   ],
   "source": [
    "%viz --style=\"COMPTREE\" --view=\"Default\" \"ActionTest\""
   ]
  },
  {
   "cell_type": "code",
   "execution_count": 3,
   "id": "exempt-uncle",
   "metadata": {
    "execution": {
     "iopub.execute_input": "2021-03-26T12:08:33.069308Z",
     "iopub.status.busy": "2021-03-26T12:08:33.068065Z",
     "iopub.status.idle": "2021-03-26T12:08:33.157505Z",
     "shell.execute_reply": "2021-03-26T12:08:33.157149Z"
    }
   },
   "outputs": [
    {
     "data": {
      "image/svg+xml": [
       "<?xml version=\"1.0\" encoding=\"UTF-8\" standalone=\"no\"?><svg xmlns=\"http://www.w3.org/2000/svg\" xmlns:xlink=\"http://www.w3.org/1999/xlink\" contentScriptType=\"application/ecmascript\" contentStyleType=\"text/css\" height=\"157px\" preserveAspectRatio=\"none\" style=\"width:230px;height:157px;\" version=\"1.1\" viewBox=\"0 0 230 157\" width=\"230px\" zoomAndPan=\"magnify\"><defs/><g><!--MD5=[fbc87193dbaf4d95561dea2c320d4a47]\n",
       "cluster E1--><a href=\"psysml:470c72d5-baee-42c0-b878-d250ab3f6a02\" target=\"_top\" title=\"psysml:470c72d5-baee-42c0-b878-d250ab3f6a02\" xlink:actuate=\"onRequest\" xlink:href=\"psysml:470c72d5-baee-42c0-b878-d250ab3f6a02\" xlink:show=\"new\" xlink:title=\"psysml:470c72d5-baee-42c0-b878-d250ab3f6a02\" xlink:type=\"simple\"><polygon fill=\"#FFFFFF\" points=\"16,6,107,6,114,28.2969,208,28.2969,208,145,16,145,16,6\" style=\"stroke: #000000; stroke-width: 1.5;\"/><line style=\"stroke: #000000; stroke-width: 1.5;\" x1=\"16\" x2=\"114\" y1=\"28.2969\" y2=\"28.2969\"/><text fill=\"#000000\" font-family=\"sans-serif\" font-size=\"14\" font-weight=\"bold\" lengthAdjust=\"spacingAndGlyphs\" textLength=\"85\" x=\"20\" y=\"20.9951\">ActionTest</text></a><!--MD5=[b4997ac47864f28c2f74865a473b2911]\n",
       "class E2--><a href=\"psysml:a7348084-8388-422f-b3f3-189098fa41d5\" target=\"_top\" title=\"psysml:a7348084-8388-422f-b3f3-189098fa41d5\" xlink:actuate=\"onRequest\" xlink:href=\"psysml:a7348084-8388-422f-b3f3-189098fa41d5\" xlink:show=\"new\" xlink:title=\"psysml:a7348084-8388-422f-b3f3-189098fa41d5\" xlink:type=\"simple\"><rect fill=\"#FFFFFF\" height=\"88.3516\" id=\"E2\" rx=\"10\" ry=\"10\" style=\"stroke: #383838; stroke-width: 1.5;\" width=\"160\" x=\"32\" y=\"41\"/><text fill=\"#000000\" font-family=\"sans-serif\" font-size=\"12\" font-style=\"italic\" lengthAdjust=\"spacingAndGlyphs\" textLength=\"53\" x=\"85.5\" y=\"57.1387\">«action»</text><text fill=\"#000000\" font-family=\"sans-serif\" font-size=\"12\" lengthAdjust=\"spacingAndGlyphs\" textLength=\"8\" x=\"108\" y=\"71.1074\">a</text><line style=\"stroke: #383838; stroke-width: 1.5;\" x1=\"33\" x2=\"191\" y1=\"78.9375\" y2=\"78.9375\"/><text fill=\"#000000\" font-family=\"sans-serif\" font-size=\"11\" lengthAdjust=\"spacingAndGlyphs\" textLength=\"69\" x=\"38\" y=\"109.9526\">start: Action</text><text fill=\"#000000\" font-family=\"sans-serif\" font-size=\"11\" font-style=\"italic\" lengthAdjust=\"spacingAndGlyphs\" textLength=\"148\" x=\"38\" y=\"122.7573\">:&gt;&gt;Occurrence::startShot</text><line style=\"stroke: #383838; stroke-width: 1.0;\" x1=\"33\" x2=\"91.5\" y1=\"93.3398\" y2=\"93.3398\"/><text fill=\"#000000\" font-family=\"sans-serif\" font-size=\"11\" lengthAdjust=\"spacingAndGlyphs\" textLength=\"41\" x=\"91.5\" y=\"96.6479\">actions</text><line style=\"stroke: #383838; stroke-width: 1.0;\" x1=\"132.5\" x2=\"191\" y1=\"93.3398\" y2=\"93.3398\"/></a><!--MD5=[fd2633f198b2212b51d933c7768af25e]\n",
       "@startuml\r\n",
       " skinparam monochrome true\r\n",
       "skinparam classbackgroundcolor white\r\n",
       "skinparam shadowing false\r\n",
       "skinparam wrapWidth 300\r\n",
       "hide circle\r\n",
       "\r\n",
       "package \"ActionTest\" as E1  [[psysml:470c72d5-baee-42c0-b878-d250ab3f6a02 ]]  {\r\n",
       "comp usage \"a\" as E2  <<(T,blue)action>> [[psysml:a7348084-8388-422f-b3f3-189098fa41d5 ]] {\r\n",
       "- - actions - -\r\n",
       "start: Action\\n//:>>Occurrence::startShot// \r\n",
       "}\r\n",
       "}\r\n",
       "@enduml\r\n",
       "\n",
       "PlantUML version 1.2020.13(Sat Jun 13 12:26:38 UTC 2020)\n",
       "(EPL source distribution)\n",
       "Java Runtime: OpenJDK Runtime Environment\n",
       "JVM: OpenJDK 64-Bit Server VM\n",
       "Default Encoding: UTF-8\n",
       "Language: en\n",
       "Country: null\n",
       "--></g></svg>"
      ]
     },
     "execution_count": 3,
     "metadata": {},
     "output_type": "execute_result"
    }
   ],
   "source": [
    "%viz --style=\"COMPTREE\" --view=\"Tree\" \"ActionTest\""
   ]
  },
  {
   "cell_type": "code",
   "execution_count": 4,
   "id": "featured-pierce",
   "metadata": {
    "execution": {
     "iopub.execute_input": "2021-03-26T12:08:33.211904Z",
     "iopub.status.busy": "2021-03-26T12:08:33.211088Z",
     "iopub.status.idle": "2021-03-26T12:08:33.220360Z",
     "shell.execute_reply": "2021-03-26T12:08:33.220739Z"
    }
   },
   "outputs": [
    {
     "data": {
      "image/svg+xml": [
       "<?xml version=\"1.0\" encoding=\"UTF-8\" standalone=\"no\"?><svg xmlns=\"http://www.w3.org/2000/svg\" xmlns:xlink=\"http://www.w3.org/1999/xlink\" contentScriptType=\"application/ecmascript\" contentStyleType=\"text/css\" height=\"12px\" preserveAspectRatio=\"none\" style=\"width:12px;height:12px;\" version=\"1.1\" viewBox=\"0 0 12 12\" width=\"12px\" zoomAndPan=\"magnify\"><defs/><g><!--MD5=[f19188ef49e11757b5c46753f95d9edc]\n",
       "@startuml\r\n",
       " skinparam monochrome true\r\n",
       "skinparam classbackgroundcolor white\r\n",
       "skinparam shadowing false\r\n",
       "skinparam wrapWidth 300\r\n",
       "hide circle\r\n",
       "\r\n",
       "@enduml\r\n",
       "\n",
       "PlantUML version 1.2020.13(Sat Jun 13 12:26:38 UTC 2020)\n",
       "(EPL source distribution)\n",
       "Java Runtime: OpenJDK Runtime Environment\n",
       "JVM: OpenJDK 64-Bit Server VM\n",
       "Default Encoding: UTF-8\n",
       "Language: en\n",
       "Country: null\n",
       "--></g></svg>"
      ]
     },
     "execution_count": 4,
     "metadata": {},
     "output_type": "execute_result"
    }
   ],
   "source": [
    "%viz --style=\"COMPTREE\" --view=\"State\" \"ActionTest\""
   ]
  },
  {
   "cell_type": "code",
   "execution_count": 5,
   "id": "compound-digit",
   "metadata": {
    "execution": {
     "iopub.execute_input": "2021-03-26T12:08:33.273797Z",
     "iopub.status.busy": "2021-03-26T12:08:33.273161Z",
     "iopub.status.idle": "2021-03-26T12:08:33.323830Z",
     "shell.execute_reply": "2021-03-26T12:08:33.324139Z"
    }
   },
   "outputs": [
    {
     "data": {
      "image/svg+xml": [
       "<?xml version=\"1.0\" encoding=\"UTF-8\" standalone=\"no\"?><svg xmlns=\"http://www.w3.org/2000/svg\" xmlns:xlink=\"http://www.w3.org/1999/xlink\" contentScriptType=\"application/ecmascript\" contentStyleType=\"text/css\" height=\"209px\" preserveAspectRatio=\"none\" style=\"width:296px;height:209px;\" version=\"1.1\" viewBox=\"0 0 296 209\" width=\"296px\" zoomAndPan=\"magnify\"><defs/><g><!--MD5=[fbc87193dbaf4d95561dea2c320d4a47]\n",
       "cluster E1--><a href=\"psysml:470c72d5-baee-42c0-b878-d250ab3f6a02\" target=\"_top\" title=\"psysml:470c72d5-baee-42c0-b878-d250ab3f6a02\" xlink:actuate=\"onRequest\" xlink:href=\"psysml:470c72d5-baee-42c0-b878-d250ab3f6a02\" xlink:show=\"new\" xlink:title=\"psysml:470c72d5-baee-42c0-b878-d250ab3f6a02\" xlink:type=\"simple\"><polygon fill=\"#FFFFFF\" points=\"16,6,107,6,114,28.2969,274,28.2969,274,197,16,197,16,6\" style=\"stroke: #000000; stroke-width: 1.5;\"/><line style=\"stroke: #000000; stroke-width: 1.5;\" x1=\"16\" x2=\"114\" y1=\"28.2969\" y2=\"28.2969\"/><text fill=\"#000000\" font-family=\"sans-serif\" font-size=\"14\" font-weight=\"bold\" lengthAdjust=\"spacingAndGlyphs\" textLength=\"85\" x=\"20\" y=\"20.9951\">ActionTest</text></a><!--MD5=[e4f7fae6ed58524ba242bb0b0d3be6b7]\n",
       "cluster E2--><a href=\"psysml:a7348084-8388-422f-b3f3-189098fa41d5\" target=\"_top\" title=\"psysml:a7348084-8388-422f-b3f3-189098fa41d5\" xlink:actuate=\"onRequest\" xlink:href=\"psysml:a7348084-8388-422f-b3f3-189098fa41d5\" xlink:show=\"new\" xlink:title=\"psysml:a7348084-8388-422f-b3f3-189098fa41d5\" xlink:type=\"simple\"><rect fill=\"#FFFFFF\" height=\"124\" id=\"E2\" rx=\"10\" ry=\"10\" style=\"stroke: #383838; stroke-width: 1.5;\" width=\"210\" x=\"40\" y=\"49\"/><rect fill=\"#F8F8F8\" height=\"37.9375\" rx=\"10\" ry=\"10\" style=\"stroke: #F8F8F8; stroke-width: 1.5;\" width=\"210\" x=\"40\" y=\"49\"/><rect fill=\"#F8F8F8\" height=\"10\" style=\"stroke: #F8F8F8; stroke-width: 1.5;\" width=\"210\" x=\"40\" y=\"76.9375\"/><rect fill=\"none\" height=\"124\" id=\"E2\" rx=\"10\" ry=\"10\" style=\"stroke: #383838; stroke-width: 1.5;\" width=\"210\" x=\"40\" y=\"49\"/><text fill=\"#000000\" font-family=\"sans-serif\" font-size=\"12\" font-style=\"italic\" lengthAdjust=\"spacingAndGlyphs\" textLength=\"53\" x=\"118.5\" y=\"65.1387\">«action»</text><text fill=\"#000000\" font-family=\"sans-serif\" font-size=\"12\" lengthAdjust=\"spacingAndGlyphs\" textLength=\"8\" x=\"141\" y=\"79.1074\">a</text><line style=\"stroke: #383838; stroke-width: 1.0;\" x1=\"40\" x2=\"250\" y1=\"86.9375\" y2=\"86.9375\"/></a><g id=\"E1.E2.E3\"><a href=\"psysml:ba977e5b-bee9-4d3d-9976-80a8f9a7c434\" target=\"_top\" title=\"psysml:ba977e5b-bee9-4d3d-9976-80a8f9a7c434\" xlink:actuate=\"onRequest\" xlink:href=\"psysml:ba977e5b-bee9-4d3d-9976-80a8f9a7c434\" xlink:show=\"new\" xlink:title=\"psysml:ba977e5b-bee9-4d3d-9976-80a8f9a7c434\" xlink:type=\"simple\"><rect fill=\"#FFFFFF\" height=\"56.9063\" id=\"E3\" rx=\"10\" ry=\"10\" style=\"stroke: #383838; stroke-width: 1.5;\" width=\"178\" x=\"56\" y=\"100\"/><rect fill=\"#F8F8F8\" height=\"51.9063\" rx=\"10\" ry=\"10\" style=\"stroke: #F8F8F8; stroke-width: 1.5;\" width=\"178\" x=\"56\" y=\"100\"/><rect fill=\"#F8F8F8\" height=\"10\" style=\"stroke: #F8F8F8; stroke-width: 1.5;\" width=\"178\" x=\"56\" y=\"141.9063\"/><rect fill=\"none\" height=\"56.9063\" id=\"E3\" rx=\"10\" ry=\"10\" style=\"stroke: #383838; stroke-width: 1.5;\" width=\"178\" x=\"56\" y=\"100\"/><text fill=\"#000000\" font-family=\"sans-serif\" font-size=\"12\" font-style=\"italic\" lengthAdjust=\"spacingAndGlyphs\" textLength=\"53\" x=\"118.5\" y=\"116.1387\">«action»</text><text fill=\"#000000\" font-family=\"sans-serif\" font-size=\"12\" lengthAdjust=\"spacingAndGlyphs\" textLength=\"77\" x=\"106.5\" y=\"130.1074\">start: Action</text><text fill=\"#000000\" font-family=\"sans-serif\" font-size=\"12\" font-style=\"italic\" lengthAdjust=\"spacingAndGlyphs\" textLength=\"163\" x=\"61.5\" y=\"144.0762\">:&gt;&gt;Occurrence::startShot</text><text fill=\"#000000\" font-family=\"sans-serif\" font-size=\"12\" lengthAdjust=\"spacingAndGlyphs\" textLength=\"0\" x=\"228.5\" y=\"144.0762\"/></a></g><!--MD5=[7bd87a2371ef30c2c6d1362cd4e39eb8]\n",
       "@startuml\r\n",
       "skinparam ranksep 8\r\n",
       "skinparam rectangle {\r\n",
       " backgroundColor<<block>> LightGreen\r\n",
       "}\r\n",
       " skinparam monochrome true\r\n",
       "skinparam classbackgroundcolor white\r\n",
       "skinparam shadowing false\r\n",
       "skinparam wrapWidth 300\r\n",
       "hide circle\r\n",
       "\r\n",
       "package \"ActionTest\" as E1  [[psysml:470c72d5-baee-42c0-b878-d250ab3f6a02 ]]  {\r\n",
       "rec usage \"a\" as E2  <<(T,blue)action>> [[psysml:a7348084-8388-422f-b3f3-189098fa41d5 ]] {\r\n",
       "rec usage \"start: Action\\n//:>>Occurrence::startShot// \" as E3  <<(T,blue)action>> [[psysml:ba977e5b-bee9-4d3d-9976-80a8f9a7c434 ]] {\r\n",
       "}\r\n",
       "}\r\n",
       "}\r\n",
       "@enduml\r\n",
       "\n",
       "PlantUML version 1.2020.13(Sat Jun 13 12:26:38 UTC 2020)\n",
       "(EPL source distribution)\n",
       "Java Runtime: OpenJDK Runtime Environment\n",
       "JVM: OpenJDK 64-Bit Server VM\n",
       "Default Encoding: UTF-8\n",
       "Language: en\n",
       "Country: null\n",
       "--></g></svg>"
      ]
     },
     "execution_count": 5,
     "metadata": {},
     "output_type": "execute_result"
    }
   ],
   "source": [
    "%viz --style=\"COMPTREE\" --view=\"Interconnection\" \"ActionTest\""
   ]
  },
  {
   "cell_type": "code",
   "execution_count": 6,
   "id": "formal-island",
   "metadata": {
    "execution": {
     "iopub.execute_input": "2021-03-26T12:08:33.375128Z",
     "iopub.status.busy": "2021-03-26T12:08:33.374768Z",
     "iopub.status.idle": "2021-03-26T12:08:33.404926Z",
     "shell.execute_reply": "2021-03-26T12:08:33.405234Z"
    }
   },
   "outputs": [
    {
     "data": {
      "image/svg+xml": [
       "<?xml version=\"1.0\" encoding=\"UTF-8\" standalone=\"no\"?><svg xmlns=\"http://www.w3.org/2000/svg\" xmlns:xlink=\"http://www.w3.org/1999/xlink\" contentScriptType=\"application/ecmascript\" contentStyleType=\"text/css\" height=\"128px\" preserveAspectRatio=\"none\" style=\"width:111px;height:128px;\" version=\"1.1\" viewBox=\"0 0 111 128\" width=\"111px\" zoomAndPan=\"magnify\"><defs/><g><!--MD5=[fbc87193dbaf4d95561dea2c320d4a47]\n",
       "cluster E1--><a href=\"psysml:a7348084-8388-422f-b3f3-189098fa41d5\" target=\"_top\" title=\"psysml:a7348084-8388-422f-b3f3-189098fa41d5\" xlink:actuate=\"onRequest\" xlink:href=\"psysml:a7348084-8388-422f-b3f3-189098fa41d5\" xlink:show=\"new\" xlink:title=\"psysml:a7348084-8388-422f-b3f3-189098fa41d5\" xlink:type=\"simple\"><rect fill=\"#FFFFFF\" height=\"110\" id=\"E1\" rx=\"10\" ry=\"10\" style=\"stroke: #383838; stroke-width: 1.5;\" width=\"92\" x=\"7\" y=\"7\"/><rect fill=\"#F8F8F8\" height=\"37.9375\" rx=\"10\" ry=\"10\" style=\"stroke: #F8F8F8; stroke-width: 1.5;\" width=\"92\" x=\"7\" y=\"7\"/><rect fill=\"#F8F8F8\" height=\"10\" style=\"stroke: #F8F8F8; stroke-width: 1.5;\" width=\"92\" x=\"7\" y=\"34.9375\"/><rect fill=\"none\" height=\"110\" id=\"E1\" rx=\"10\" ry=\"10\" style=\"stroke: #383838; stroke-width: 1.5;\" width=\"92\" x=\"7\" y=\"7\"/><text fill=\"#000000\" font-family=\"sans-serif\" font-size=\"12\" font-style=\"italic\" lengthAdjust=\"spacingAndGlyphs\" textLength=\"53\" x=\"26.5\" y=\"23.1387\">«action»</text><text fill=\"#000000\" font-family=\"sans-serif\" font-size=\"12\" lengthAdjust=\"spacingAndGlyphs\" textLength=\"8\" x=\"49\" y=\"37.1074\">a</text><line style=\"stroke: #383838; stroke-width: 1.0;\" x1=\"7\" x2=\"99\" y1=\"44.9375\" y2=\"44.9375\"/></a><g id=\"E1.E2\"><a href=\"psysml:ba977e5b-bee9-4d3d-9976-80a8f9a7c434\" target=\"_top\" title=\"psysml:ba977e5b-bee9-4d3d-9976-80a8f9a7c434\" xlink:actuate=\"onRequest\" xlink:href=\"psysml:ba977e5b-bee9-4d3d-9976-80a8f9a7c434\" xlink:show=\"new\" xlink:title=\"psysml:ba977e5b-bee9-4d3d-9976-80a8f9a7c434\" xlink:type=\"simple\"><rect fill=\"#FFFFFF\" height=\"42.9375\" id=\"E2\" rx=\"10\" ry=\"10\" style=\"stroke: #383838; stroke-width: 1.5;\" width=\"60\" x=\"23\" y=\"58\"/><rect fill=\"#F8F8F8\" height=\"37.9375\" rx=\"10\" ry=\"10\" style=\"stroke: #F8F8F8; stroke-width: 1.5;\" width=\"60\" x=\"23\" y=\"58\"/><rect fill=\"#F8F8F8\" height=\"10\" style=\"stroke: #F8F8F8; stroke-width: 1.5;\" width=\"60\" x=\"23\" y=\"85.9375\"/><rect fill=\"none\" height=\"42.9375\" id=\"E2\" rx=\"10\" ry=\"10\" style=\"stroke: #383838; stroke-width: 1.5;\" width=\"60\" x=\"23\" y=\"58\"/><text fill=\"#000000\" font-family=\"sans-serif\" font-size=\"12\" font-style=\"italic\" lengthAdjust=\"spacingAndGlyphs\" textLength=\"53\" x=\"26.5\" y=\"74.1387\">«action»</text><text fill=\"#000000\" font-family=\"sans-serif\" font-size=\"12\" lengthAdjust=\"spacingAndGlyphs\" textLength=\"30\" x=\"38\" y=\"88.1074\">start</text></a></g><!--MD5=[36b7a2624fce6bbd93c713c7bd6a60eb]\n",
       "@startuml\r\n",
       "skinparam ranksep 8\r\n",
       " skinparam monochrome true\r\n",
       "skinparam classbackgroundcolor white\r\n",
       "skinparam shadowing false\r\n",
       "skinparam wrapWidth 300\r\n",
       "hide circle\r\n",
       "\r\n",
       "rec usage \"a\" as E1  <<(T,blue)action>> [[psysml:a7348084-8388-422f-b3f3-189098fa41d5 ]] {\r\n",
       "rec usage \"start\" as E2  <<(T,blue)action>> [[psysml:ba977e5b-bee9-4d3d-9976-80a8f9a7c434 ]] {\r\n",
       "}\r\n",
       "\r\n",
       "}\r\n",
       "\r\n",
       "@enduml\r\n",
       "\n",
       "PlantUML version 1.2020.13(Sat Jun 13 12:26:38 UTC 2020)\n",
       "(EPL source distribution)\n",
       "Java Runtime: OpenJDK Runtime Environment\n",
       "JVM: OpenJDK 64-Bit Server VM\n",
       "Default Encoding: UTF-8\n",
       "Language: en\n",
       "Country: null\n",
       "--></g></svg>"
      ]
     },
     "execution_count": 6,
     "metadata": {},
     "output_type": "execute_result"
    }
   ],
   "source": [
    "%viz --style=\"COMPTREE\" --view=\"Action\" \"ActionTest\""
   ]
  },
  {
   "cell_type": "code",
   "execution_count": 7,
   "id": "flexible-mauritius",
   "metadata": {
    "execution": {
     "iopub.execute_input": "2021-03-26T12:08:33.456666Z",
     "iopub.status.busy": "2021-03-26T12:08:33.456214Z",
     "iopub.status.idle": "2021-03-26T12:08:33.542247Z",
     "shell.execute_reply": "2021-03-26T12:08:33.542634Z"
    }
   },
   "outputs": [
    {
     "data": {
      "image/svg+xml": [
       "<?xml version=\"1.0\" encoding=\"UTF-8\" standalone=\"no\"?><svg xmlns=\"http://www.w3.org/2000/svg\" xmlns:xlink=\"http://www.w3.org/1999/xlink\" contentScriptType=\"application/ecmascript\" contentStyleType=\"text/css\" height=\"157px\" preserveAspectRatio=\"none\" style=\"width:230px;height:157px;\" version=\"1.1\" viewBox=\"0 0 230 157\" width=\"230px\" zoomAndPan=\"magnify\"><defs/><g><!--MD5=[fbc87193dbaf4d95561dea2c320d4a47]\n",
       "cluster E1--><a href=\"psysml:470c72d5-baee-42c0-b878-d250ab3f6a02\" target=\"_top\" title=\"psysml:470c72d5-baee-42c0-b878-d250ab3f6a02\" xlink:actuate=\"onRequest\" xlink:href=\"psysml:470c72d5-baee-42c0-b878-d250ab3f6a02\" xlink:show=\"new\" xlink:title=\"psysml:470c72d5-baee-42c0-b878-d250ab3f6a02\" xlink:type=\"simple\"><polygon fill=\"#FFFFFF\" points=\"16,6,107,6,114,28.2969,208,28.2969,208,145,16,145,16,6\" style=\"stroke: #000000; stroke-width: 1.5;\"/><line style=\"stroke: #000000; stroke-width: 1.5;\" x1=\"16\" x2=\"114\" y1=\"28.2969\" y2=\"28.2969\"/><text fill=\"#000000\" font-family=\"sans-serif\" font-size=\"14\" font-weight=\"bold\" lengthAdjust=\"spacingAndGlyphs\" textLength=\"85\" x=\"20\" y=\"20.9951\">ActionTest</text></a><!--MD5=[b4997ac47864f28c2f74865a473b2911]\n",
       "class E2--><a href=\"psysml:a7348084-8388-422f-b3f3-189098fa41d5\" target=\"_top\" title=\"psysml:a7348084-8388-422f-b3f3-189098fa41d5\" xlink:actuate=\"onRequest\" xlink:href=\"psysml:a7348084-8388-422f-b3f3-189098fa41d5\" xlink:show=\"new\" xlink:title=\"psysml:a7348084-8388-422f-b3f3-189098fa41d5\" xlink:type=\"simple\"><rect fill=\"#FFFFFF\" height=\"88.3516\" id=\"E2\" rx=\"10\" ry=\"10\" style=\"stroke: #383838; stroke-width: 1.5;\" width=\"160\" x=\"32\" y=\"41\"/><text fill=\"#000000\" font-family=\"sans-serif\" font-size=\"12\" font-style=\"italic\" lengthAdjust=\"spacingAndGlyphs\" textLength=\"53\" x=\"85.5\" y=\"57.1387\">«action»</text><text fill=\"#000000\" font-family=\"sans-serif\" font-size=\"12\" lengthAdjust=\"spacingAndGlyphs\" textLength=\"8\" x=\"108\" y=\"71.1074\">a</text><line style=\"stroke: #383838; stroke-width: 1.5;\" x1=\"33\" x2=\"191\" y1=\"78.9375\" y2=\"78.9375\"/><text fill=\"#000000\" font-family=\"sans-serif\" font-size=\"11\" lengthAdjust=\"spacingAndGlyphs\" textLength=\"69\" x=\"38\" y=\"109.9526\">start: Action</text><text fill=\"#000000\" font-family=\"sans-serif\" font-size=\"11\" font-style=\"italic\" lengthAdjust=\"spacingAndGlyphs\" textLength=\"148\" x=\"38\" y=\"122.7573\">:&gt;&gt;Occurrence::startShot</text><line style=\"stroke: #383838; stroke-width: 1.0;\" x1=\"33\" x2=\"91.5\" y1=\"93.3398\" y2=\"93.3398\"/><text fill=\"#000000\" font-family=\"sans-serif\" font-size=\"11\" lengthAdjust=\"spacingAndGlyphs\" textLength=\"41\" x=\"91.5\" y=\"96.6479\">actions</text><line style=\"stroke: #383838; stroke-width: 1.0;\" x1=\"132.5\" x2=\"191\" y1=\"93.3398\" y2=\"93.3398\"/></a><!--MD5=[fd2633f198b2212b51d933c7768af25e]\n",
       "@startuml\r\n",
       " skinparam monochrome true\r\n",
       "skinparam classbackgroundcolor white\r\n",
       "skinparam shadowing false\r\n",
       "skinparam wrapWidth 300\r\n",
       "hide circle\r\n",
       "\r\n",
       "package \"ActionTest\" as E1  [[psysml:470c72d5-baee-42c0-b878-d250ab3f6a02 ]]  {\r\n",
       "comp usage \"a\" as E2  <<(T,blue)action>> [[psysml:a7348084-8388-422f-b3f3-189098fa41d5 ]] {\r\n",
       "- - actions - -\r\n",
       "start: Action\\n//:>>Occurrence::startShot// \r\n",
       "}\r\n",
       "}\r\n",
       "@enduml\r\n",
       "\n",
       "PlantUML version 1.2020.13(Sat Jun 13 12:26:38 UTC 2020)\n",
       "(EPL source distribution)\n",
       "Java Runtime: OpenJDK Runtime Environment\n",
       "JVM: OpenJDK 64-Bit Server VM\n",
       "Default Encoding: UTF-8\n",
       "Language: en\n",
       "Country: null\n",
       "--></g></svg>"
      ]
     },
     "execution_count": 7,
     "metadata": {},
     "output_type": "execute_result"
    }
   ],
   "source": [
    "%viz --style=\"COMPTREE\" --view=\"Sequence\" \"ActionTest\""
   ]
  },
  {
   "cell_type": "code",
   "execution_count": 8,
   "id": "medieval-characterization",
   "metadata": {
    "execution": {
     "iopub.execute_input": "2021-03-26T12:08:33.594887Z",
     "iopub.status.busy": "2021-03-26T12:08:33.594176Z",
     "iopub.status.idle": "2021-03-26T12:08:33.625646Z",
     "shell.execute_reply": "2021-03-26T12:08:33.625984Z"
    }
   },
   "outputs": [
    {
     "data": {
      "image/svg+xml": [
       "<?xml version=\"1.0\" encoding=\"UTF-8\" standalone=\"no\"?><svg xmlns=\"http://www.w3.org/2000/svg\" xmlns:xlink=\"http://www.w3.org/1999/xlink\" contentScriptType=\"application/ecmascript\" contentStyleType=\"text/css\" height=\"195px\" preserveAspectRatio=\"none\" style=\"width:178px;height:195px;\" version=\"1.1\" viewBox=\"0 0 178 195\" width=\"178px\" zoomAndPan=\"magnify\"><defs/><g><!--MD5=[fbc87193dbaf4d95561dea2c320d4a47]\n",
       "cluster E1--><a href=\"psysml:470c72d5-baee-42c0-b878-d250ab3f6a02\" target=\"_top\" title=\"psysml:470c72d5-baee-42c0-b878-d250ab3f6a02\" xlink:actuate=\"onRequest\" xlink:href=\"psysml:470c72d5-baee-42c0-b878-d250ab3f6a02\" xlink:show=\"new\" xlink:title=\"psysml:470c72d5-baee-42c0-b878-d250ab3f6a02\" xlink:type=\"simple\"><polygon fill=\"#FFFFFF\" points=\"16,6,107,6,114,28.2969,156,28.2969,156,183,16,183,16,6\" style=\"stroke: #000000; stroke-width: 1.5;\"/><line style=\"stroke: #000000; stroke-width: 1.5;\" x1=\"16\" x2=\"114\" y1=\"28.2969\" y2=\"28.2969\"/><text fill=\"#000000\" font-family=\"sans-serif\" font-size=\"14\" font-weight=\"bold\" lengthAdjust=\"spacingAndGlyphs\" textLength=\"85\" x=\"20\" y=\"20.9951\">ActionTest</text></a><!--MD5=[e4f7fae6ed58524ba242bb0b0d3be6b7]\n",
       "cluster E2--><a href=\"psysml:a7348084-8388-422f-b3f3-189098fa41d5\" target=\"_top\" title=\"psysml:a7348084-8388-422f-b3f3-189098fa41d5\" xlink:actuate=\"onRequest\" xlink:href=\"psysml:a7348084-8388-422f-b3f3-189098fa41d5\" xlink:show=\"new\" xlink:title=\"psysml:a7348084-8388-422f-b3f3-189098fa41d5\" xlink:type=\"simple\"><rect fill=\"#FFFFFF\" height=\"110\" id=\"E2\" rx=\"10\" ry=\"10\" style=\"stroke: #383838; stroke-width: 1.5;\" width=\"92\" x=\"40\" y=\"49\"/><rect fill=\"#F8F8F8\" height=\"37.9375\" rx=\"10\" ry=\"10\" style=\"stroke: #F8F8F8; stroke-width: 1.5;\" width=\"92\" x=\"40\" y=\"49\"/><rect fill=\"#F8F8F8\" height=\"10\" style=\"stroke: #F8F8F8; stroke-width: 1.5;\" width=\"92\" x=\"40\" y=\"76.9375\"/><rect fill=\"none\" height=\"110\" id=\"E2\" rx=\"10\" ry=\"10\" style=\"stroke: #383838; stroke-width: 1.5;\" width=\"92\" x=\"40\" y=\"49\"/><text fill=\"#000000\" font-family=\"sans-serif\" font-size=\"12\" font-style=\"italic\" lengthAdjust=\"spacingAndGlyphs\" textLength=\"53\" x=\"59.5\" y=\"65.1387\">«action»</text><text fill=\"#000000\" font-family=\"sans-serif\" font-size=\"12\" lengthAdjust=\"spacingAndGlyphs\" textLength=\"8\" x=\"82\" y=\"79.1074\">a</text><line style=\"stroke: #383838; stroke-width: 1.0;\" x1=\"40\" x2=\"132\" y1=\"86.9375\" y2=\"86.9375\"/></a><g id=\"E1.E2.E3\"><a href=\"psysml:ba977e5b-bee9-4d3d-9976-80a8f9a7c434\" target=\"_top\" title=\"psysml:ba977e5b-bee9-4d3d-9976-80a8f9a7c434\" xlink:actuate=\"onRequest\" xlink:href=\"psysml:ba977e5b-bee9-4d3d-9976-80a8f9a7c434\" xlink:show=\"new\" xlink:title=\"psysml:ba977e5b-bee9-4d3d-9976-80a8f9a7c434\" xlink:type=\"simple\"><rect fill=\"#FFFFFF\" height=\"42.9375\" id=\"E3\" rx=\"10\" ry=\"10\" style=\"stroke: #383838; stroke-width: 1.5;\" width=\"60\" x=\"56\" y=\"100\"/><rect fill=\"#F8F8F8\" height=\"37.9375\" rx=\"10\" ry=\"10\" style=\"stroke: #F8F8F8; stroke-width: 1.5;\" width=\"60\" x=\"56\" y=\"100\"/><rect fill=\"#F8F8F8\" height=\"10\" style=\"stroke: #F8F8F8; stroke-width: 1.5;\" width=\"60\" x=\"56\" y=\"127.9375\"/><rect fill=\"none\" height=\"42.9375\" id=\"E3\" rx=\"10\" ry=\"10\" style=\"stroke: #383838; stroke-width: 1.5;\" width=\"60\" x=\"56\" y=\"100\"/><text fill=\"#000000\" font-family=\"sans-serif\" font-size=\"12\" font-style=\"italic\" lengthAdjust=\"spacingAndGlyphs\" textLength=\"53\" x=\"59.5\" y=\"116.1387\">«action»</text><text fill=\"#000000\" font-family=\"sans-serif\" font-size=\"12\" lengthAdjust=\"spacingAndGlyphs\" textLength=\"30\" x=\"71\" y=\"130.1074\">start</text></a></g><!--MD5=[0bc02ea9af77da31aed546d99c63199a]\n",
       "@startuml\r\n",
       " skinparam monochrome true\r\n",
       "skinparam classbackgroundcolor white\r\n",
       "skinparam shadowing false\r\n",
       "skinparam wrapWidth 300\r\n",
       "hide circle\r\n",
       "\r\n",
       "package \"ActionTest\" as E1  [[psysml:470c72d5-baee-42c0-b878-d250ab3f6a02 ]]  {\r\n",
       "rec usage \"a\" as E2  <<(T,blue)action>> [[psysml:a7348084-8388-422f-b3f3-189098fa41d5 ]] {\r\n",
       "rec usage \"start\" as E3  <<(T,blue)action>> [[psysml:ba977e5b-bee9-4d3d-9976-80a8f9a7c434 ]] {\r\n",
       "}\r\n",
       "\r\n",
       "}\r\n",
       "\r\n",
       "}\r\n",
       "@enduml\r\n",
       "\n",
       "PlantUML version 1.2020.13(Sat Jun 13 12:26:38 UTC 2020)\n",
       "(EPL source distribution)\n",
       "Java Runtime: OpenJDK Runtime Environment\n",
       "JVM: OpenJDK 64-Bit Server VM\n",
       "Default Encoding: UTF-8\n",
       "Language: en\n",
       "Country: null\n",
       "--></g></svg>"
      ]
     },
     "execution_count": 8,
     "metadata": {},
     "output_type": "execute_result"
    }
   ],
   "source": [
    "%viz --style=\"COMPTREE\" --view=\"MIXED\" \"ActionTest\""
   ]
  },
  {
   "cell_type": "code",
   "execution_count": 9,
   "id": "clinical-balloon",
   "metadata": {
    "execution": {
     "iopub.execute_input": "2021-03-26T12:08:33.676743Z",
     "iopub.status.busy": "2021-03-26T12:08:33.676175Z",
     "iopub.status.idle": "2021-03-26T12:08:33.710973Z",
     "shell.execute_reply": "2021-03-26T12:08:33.711307Z"
    }
   },
   "outputs": [
    {
     "data": {
      "image/svg+xml": [
       "<?xml version=\"1.0\" encoding=\"UTF-8\" standalone=\"no\"?><svg xmlns=\"http://www.w3.org/2000/svg\" xmlns:xlink=\"http://www.w3.org/1999/xlink\" contentScriptType=\"application/ecmascript\" contentStyleType=\"text/css\" height=\"195px\" preserveAspectRatio=\"none\" style=\"width:178px;height:195px;\" version=\"1.1\" viewBox=\"0 0 178 195\" width=\"178px\" zoomAndPan=\"magnify\"><defs/><g><!--MD5=[fbc87193dbaf4d95561dea2c320d4a47]\n",
       "cluster E1--><a href=\"psysml:470c72d5-baee-42c0-b878-d250ab3f6a02\" target=\"_top\" title=\"psysml:470c72d5-baee-42c0-b878-d250ab3f6a02\" xlink:actuate=\"onRequest\" xlink:href=\"psysml:470c72d5-baee-42c0-b878-d250ab3f6a02\" xlink:show=\"new\" xlink:title=\"psysml:470c72d5-baee-42c0-b878-d250ab3f6a02\" xlink:type=\"simple\"><polygon fill=\"#FFFFFF\" points=\"16,6,107,6,114,28.2969,156,28.2969,156,183,16,183,16,6\" style=\"stroke: #000000; stroke-width: 1.5;\"/><line style=\"stroke: #000000; stroke-width: 1.5;\" x1=\"16\" x2=\"114\" y1=\"28.2969\" y2=\"28.2969\"/><text fill=\"#000000\" font-family=\"sans-serif\" font-size=\"14\" font-weight=\"bold\" lengthAdjust=\"spacingAndGlyphs\" textLength=\"85\" x=\"20\" y=\"20.9951\">ActionTest</text></a><!--MD5=[e4f7fae6ed58524ba242bb0b0d3be6b7]\n",
       "cluster E2--><a href=\"psysml:a7348084-8388-422f-b3f3-189098fa41d5\" target=\"_top\" title=\"psysml:a7348084-8388-422f-b3f3-189098fa41d5\" xlink:actuate=\"onRequest\" xlink:href=\"psysml:a7348084-8388-422f-b3f3-189098fa41d5\" xlink:show=\"new\" xlink:title=\"psysml:a7348084-8388-422f-b3f3-189098fa41d5\" xlink:type=\"simple\"><rect fill=\"#FFFFFF\" height=\"110\" id=\"E2\" rx=\"10\" ry=\"10\" style=\"stroke: #383838; stroke-width: 1.5;\" width=\"92\" x=\"40\" y=\"49\"/><rect fill=\"#F8F8F8\" height=\"37.9375\" rx=\"10\" ry=\"10\" style=\"stroke: #F8F8F8; stroke-width: 1.5;\" width=\"92\" x=\"40\" y=\"49\"/><rect fill=\"#F8F8F8\" height=\"10\" style=\"stroke: #F8F8F8; stroke-width: 1.5;\" width=\"92\" x=\"40\" y=\"76.9375\"/><rect fill=\"none\" height=\"110\" id=\"E2\" rx=\"10\" ry=\"10\" style=\"stroke: #383838; stroke-width: 1.5;\" width=\"92\" x=\"40\" y=\"49\"/><text fill=\"#000000\" font-family=\"sans-serif\" font-size=\"12\" font-style=\"italic\" lengthAdjust=\"spacingAndGlyphs\" textLength=\"53\" x=\"59.5\" y=\"65.1387\">«action»</text><text fill=\"#000000\" font-family=\"sans-serif\" font-size=\"12\" lengthAdjust=\"spacingAndGlyphs\" textLength=\"8\" x=\"82\" y=\"79.1074\">a</text><line style=\"stroke: #383838; stroke-width: 1.0;\" x1=\"40\" x2=\"132\" y1=\"86.9375\" y2=\"86.9375\"/></a><g id=\"E1.E2.E3\"><a href=\"psysml:ba977e5b-bee9-4d3d-9976-80a8f9a7c434\" target=\"_top\" title=\"psysml:ba977e5b-bee9-4d3d-9976-80a8f9a7c434\" xlink:actuate=\"onRequest\" xlink:href=\"psysml:ba977e5b-bee9-4d3d-9976-80a8f9a7c434\" xlink:show=\"new\" xlink:title=\"psysml:ba977e5b-bee9-4d3d-9976-80a8f9a7c434\" xlink:type=\"simple\"><rect fill=\"#FFFFFF\" height=\"42.9375\" id=\"E3\" rx=\"10\" ry=\"10\" style=\"stroke: #383838; stroke-width: 1.5;\" width=\"60\" x=\"56\" y=\"100\"/><rect fill=\"#F8F8F8\" height=\"37.9375\" rx=\"10\" ry=\"10\" style=\"stroke: #F8F8F8; stroke-width: 1.5;\" width=\"60\" x=\"56\" y=\"100\"/><rect fill=\"#F8F8F8\" height=\"10\" style=\"stroke: #F8F8F8; stroke-width: 1.5;\" width=\"60\" x=\"56\" y=\"127.9375\"/><rect fill=\"none\" height=\"42.9375\" id=\"E3\" rx=\"10\" ry=\"10\" style=\"stroke: #383838; stroke-width: 1.5;\" width=\"60\" x=\"56\" y=\"100\"/><text fill=\"#000000\" font-family=\"sans-serif\" font-size=\"12\" font-style=\"italic\" lengthAdjust=\"spacingAndGlyphs\" textLength=\"53\" x=\"59.5\" y=\"116.1387\">«action»</text><text fill=\"#000000\" font-family=\"sans-serif\" font-size=\"12\" lengthAdjust=\"spacingAndGlyphs\" textLength=\"30\" x=\"71\" y=\"130.1074\">start</text></a></g><!--MD5=[95966996d958c1e92a810740ba10d940]\n",
       "@startuml\r\n",
       "skinparam linetype polyline\r\n",
       "skinparam monochrome true\r\n",
       "skinparam classbackgroundcolor white\r\n",
       "skinparam shadowing false\r\n",
       "skinparam wrapWidth 300\r\n",
       "hide circle\r\n",
       "\r\n",
       "package \"ActionTest\" as E1  [[psysml:470c72d5-baee-42c0-b878-d250ab3f6a02 ]]  {\r\n",
       "rec usage \"a\" as E2  <<(T,blue)action>> [[psysml:a7348084-8388-422f-b3f3-189098fa41d5 ]] {\r\n",
       "rec usage \"start\" as E3  <<(T,blue)action>> [[psysml:ba977e5b-bee9-4d3d-9976-80a8f9a7c434 ]] {\r\n",
       "}\r\n",
       "\r\n",
       "}\r\n",
       "\r\n",
       "}\r\n",
       "@enduml\r\n",
       "\n",
       "PlantUML version 1.2020.13(Sat Jun 13 12:26:38 UTC 2020)\n",
       "(EPL source distribution)\n",
       "Java Runtime: OpenJDK Runtime Environment\n",
       "JVM: OpenJDK 64-Bit Server VM\n",
       "Default Encoding: UTF-8\n",
       "Language: en\n",
       "Country: null\n",
       "--></g></svg>"
      ]
     },
     "execution_count": 9,
     "metadata": {},
     "output_type": "execute_result"
    }
   ],
   "source": [
    "%viz --style=\"POLYLINE\" --view=\"Default\" \"ActionTest\""
   ]
  },
  {
   "cell_type": "code",
   "execution_count": 10,
   "id": "pending-burke",
   "metadata": {
    "execution": {
     "iopub.execute_input": "2021-03-26T12:08:33.764150Z",
     "iopub.status.busy": "2021-03-26T12:08:33.763552Z",
     "iopub.status.idle": "2021-03-26T12:08:33.818095Z",
     "shell.execute_reply": "2021-03-26T12:08:33.818432Z"
    }
   },
   "outputs": [
    {
     "data": {
      "image/svg+xml": [
       "<?xml version=\"1.0\" encoding=\"UTF-8\" standalone=\"no\"?><svg xmlns=\"http://www.w3.org/2000/svg\" xmlns:xlink=\"http://www.w3.org/1999/xlink\" contentScriptType=\"application/ecmascript\" contentStyleType=\"text/css\" height=\"157px\" preserveAspectRatio=\"none\" style=\"width:230px;height:157px;\" version=\"1.1\" viewBox=\"0 0 230 157\" width=\"230px\" zoomAndPan=\"magnify\"><defs/><g><!--MD5=[fbc87193dbaf4d95561dea2c320d4a47]\n",
       "cluster E1--><a href=\"psysml:470c72d5-baee-42c0-b878-d250ab3f6a02\" target=\"_top\" title=\"psysml:470c72d5-baee-42c0-b878-d250ab3f6a02\" xlink:actuate=\"onRequest\" xlink:href=\"psysml:470c72d5-baee-42c0-b878-d250ab3f6a02\" xlink:show=\"new\" xlink:title=\"psysml:470c72d5-baee-42c0-b878-d250ab3f6a02\" xlink:type=\"simple\"><polygon fill=\"#FFFFFF\" points=\"16,6,107,6,114,28.2969,208,28.2969,208,145,16,145,16,6\" style=\"stroke: #000000; stroke-width: 1.5;\"/><line style=\"stroke: #000000; stroke-width: 1.5;\" x1=\"16\" x2=\"114\" y1=\"28.2969\" y2=\"28.2969\"/><text fill=\"#000000\" font-family=\"sans-serif\" font-size=\"14\" font-weight=\"bold\" lengthAdjust=\"spacingAndGlyphs\" textLength=\"85\" x=\"20\" y=\"20.9951\">ActionTest</text></a><!--MD5=[b4997ac47864f28c2f74865a473b2911]\n",
       "class E2--><a href=\"psysml:a7348084-8388-422f-b3f3-189098fa41d5\" target=\"_top\" title=\"psysml:a7348084-8388-422f-b3f3-189098fa41d5\" xlink:actuate=\"onRequest\" xlink:href=\"psysml:a7348084-8388-422f-b3f3-189098fa41d5\" xlink:show=\"new\" xlink:title=\"psysml:a7348084-8388-422f-b3f3-189098fa41d5\" xlink:type=\"simple\"><rect fill=\"#FFFFFF\" height=\"88.3516\" id=\"E2\" rx=\"10\" ry=\"10\" style=\"stroke: #383838; stroke-width: 1.5;\" width=\"160\" x=\"32\" y=\"41\"/><text fill=\"#000000\" font-family=\"sans-serif\" font-size=\"12\" font-style=\"italic\" lengthAdjust=\"spacingAndGlyphs\" textLength=\"53\" x=\"85.5\" y=\"57.1387\">«action»</text><text fill=\"#000000\" font-family=\"sans-serif\" font-size=\"12\" lengthAdjust=\"spacingAndGlyphs\" textLength=\"8\" x=\"108\" y=\"71.1074\">a</text><line style=\"stroke: #383838; stroke-width: 1.5;\" x1=\"33\" x2=\"191\" y1=\"78.9375\" y2=\"78.9375\"/><text fill=\"#000000\" font-family=\"sans-serif\" font-size=\"11\" lengthAdjust=\"spacingAndGlyphs\" textLength=\"69\" x=\"38\" y=\"109.9526\">start: Action</text><text fill=\"#000000\" font-family=\"sans-serif\" font-size=\"11\" font-style=\"italic\" lengthAdjust=\"spacingAndGlyphs\" textLength=\"148\" x=\"38\" y=\"122.7573\">:&gt;&gt;Occurrence::startShot</text><line style=\"stroke: #383838; stroke-width: 1.0;\" x1=\"33\" x2=\"91.5\" y1=\"93.3398\" y2=\"93.3398\"/><text fill=\"#000000\" font-family=\"sans-serif\" font-size=\"11\" lengthAdjust=\"spacingAndGlyphs\" textLength=\"41\" x=\"91.5\" y=\"96.6479\">actions</text><line style=\"stroke: #383838; stroke-width: 1.0;\" x1=\"132.5\" x2=\"191\" y1=\"93.3398\" y2=\"93.3398\"/></a><!--MD5=[befa0afd160eca9a50d11a1b9d9e2b9f]\n",
       "@startuml\r\n",
       "skinparam linetype polyline\r\n",
       "skinparam monochrome true\r\n",
       "skinparam classbackgroundcolor white\r\n",
       "skinparam shadowing false\r\n",
       "skinparam wrapWidth 300\r\n",
       "hide circle\r\n",
       "\r\n",
       "package \"ActionTest\" as E1  [[psysml:470c72d5-baee-42c0-b878-d250ab3f6a02 ]]  {\r\n",
       "comp usage \"a\" as E2  <<(T,blue)action>> [[psysml:a7348084-8388-422f-b3f3-189098fa41d5 ]] {\r\n",
       "- - actions - -\r\n",
       "start: Action\\n//:>>Occurrence::startShot// \r\n",
       "}\r\n",
       "}\r\n",
       "@enduml\r\n",
       "\n",
       "PlantUML version 1.2020.13(Sat Jun 13 12:26:38 UTC 2020)\n",
       "(EPL source distribution)\n",
       "Java Runtime: OpenJDK Runtime Environment\n",
       "JVM: OpenJDK 64-Bit Server VM\n",
       "Default Encoding: UTF-8\n",
       "Language: en\n",
       "Country: null\n",
       "--></g></svg>"
      ]
     },
     "execution_count": 10,
     "metadata": {},
     "output_type": "execute_result"
    }
   ],
   "source": [
    "%viz --style=\"POLYLINE\" --view=\"Tree\" \"ActionTest\""
   ]
  },
  {
   "cell_type": "code",
   "execution_count": 11,
   "id": "regional-enough",
   "metadata": {
    "execution": {
     "iopub.execute_input": "2021-03-26T12:08:33.872345Z",
     "iopub.status.busy": "2021-03-26T12:08:33.871957Z",
     "iopub.status.idle": "2021-03-26T12:08:33.873652Z",
     "shell.execute_reply": "2021-03-26T12:08:33.873976Z"
    }
   },
   "outputs": [
    {
     "data": {
      "image/svg+xml": [
       "<?xml version=\"1.0\" encoding=\"UTF-8\" standalone=\"no\"?><svg xmlns=\"http://www.w3.org/2000/svg\" xmlns:xlink=\"http://www.w3.org/1999/xlink\" contentScriptType=\"application/ecmascript\" contentStyleType=\"text/css\" height=\"12px\" preserveAspectRatio=\"none\" style=\"width:12px;height:12px;\" version=\"1.1\" viewBox=\"0 0 12 12\" width=\"12px\" zoomAndPan=\"magnify\"><defs/><g><!--MD5=[896ac0e7a515d8dd7765a661cb4ee08b]\n",
       "@startuml\r\n",
       "skinparam linetype polyline\r\n",
       "skinparam monochrome true\r\n",
       "skinparam classbackgroundcolor white\r\n",
       "skinparam shadowing false\r\n",
       "skinparam wrapWidth 300\r\n",
       "hide circle\r\n",
       "\r\n",
       "@enduml\r\n",
       "\n",
       "PlantUML version 1.2020.13(Sat Jun 13 12:26:38 UTC 2020)\n",
       "(EPL source distribution)\n",
       "Java Runtime: OpenJDK Runtime Environment\n",
       "JVM: OpenJDK 64-Bit Server VM\n",
       "Default Encoding: UTF-8\n",
       "Language: en\n",
       "Country: null\n",
       "--></g></svg>"
      ]
     },
     "execution_count": 11,
     "metadata": {},
     "output_type": "execute_result"
    }
   ],
   "source": [
    "%viz --style=\"POLYLINE\" --view=\"State\" \"ActionTest\""
   ]
  },
  {
   "cell_type": "code",
   "execution_count": 12,
   "id": "turkish-receptor",
   "metadata": {
    "execution": {
     "iopub.execute_input": "2021-03-26T12:08:33.927037Z",
     "iopub.status.busy": "2021-03-26T12:08:33.926535Z",
     "iopub.status.idle": "2021-03-26T12:08:33.962121Z",
     "shell.execute_reply": "2021-03-26T12:08:33.962525Z"
    }
   },
   "outputs": [
    {
     "data": {
      "image/svg+xml": [
       "<?xml version=\"1.0\" encoding=\"UTF-8\" standalone=\"no\"?><svg xmlns=\"http://www.w3.org/2000/svg\" xmlns:xlink=\"http://www.w3.org/1999/xlink\" contentScriptType=\"application/ecmascript\" contentStyleType=\"text/css\" height=\"209px\" preserveAspectRatio=\"none\" style=\"width:296px;height:209px;\" version=\"1.1\" viewBox=\"0 0 296 209\" width=\"296px\" zoomAndPan=\"magnify\"><defs/><g><!--MD5=[fbc87193dbaf4d95561dea2c320d4a47]\n",
       "cluster E1--><a href=\"psysml:470c72d5-baee-42c0-b878-d250ab3f6a02\" target=\"_top\" title=\"psysml:470c72d5-baee-42c0-b878-d250ab3f6a02\" xlink:actuate=\"onRequest\" xlink:href=\"psysml:470c72d5-baee-42c0-b878-d250ab3f6a02\" xlink:show=\"new\" xlink:title=\"psysml:470c72d5-baee-42c0-b878-d250ab3f6a02\" xlink:type=\"simple\"><polygon fill=\"#FFFFFF\" points=\"16,6,107,6,114,28.2969,274,28.2969,274,197,16,197,16,6\" style=\"stroke: #000000; stroke-width: 1.5;\"/><line style=\"stroke: #000000; stroke-width: 1.5;\" x1=\"16\" x2=\"114\" y1=\"28.2969\" y2=\"28.2969\"/><text fill=\"#000000\" font-family=\"sans-serif\" font-size=\"14\" font-weight=\"bold\" lengthAdjust=\"spacingAndGlyphs\" textLength=\"85\" x=\"20\" y=\"20.9951\">ActionTest</text></a><!--MD5=[e4f7fae6ed58524ba242bb0b0d3be6b7]\n",
       "cluster E2--><a href=\"psysml:a7348084-8388-422f-b3f3-189098fa41d5\" target=\"_top\" title=\"psysml:a7348084-8388-422f-b3f3-189098fa41d5\" xlink:actuate=\"onRequest\" xlink:href=\"psysml:a7348084-8388-422f-b3f3-189098fa41d5\" xlink:show=\"new\" xlink:title=\"psysml:a7348084-8388-422f-b3f3-189098fa41d5\" xlink:type=\"simple\"><rect fill=\"#FFFFFF\" height=\"124\" id=\"E2\" rx=\"10\" ry=\"10\" style=\"stroke: #383838; stroke-width: 1.5;\" width=\"210\" x=\"40\" y=\"49\"/><rect fill=\"#F8F8F8\" height=\"37.9375\" rx=\"10\" ry=\"10\" style=\"stroke: #F8F8F8; stroke-width: 1.5;\" width=\"210\" x=\"40\" y=\"49\"/><rect fill=\"#F8F8F8\" height=\"10\" style=\"stroke: #F8F8F8; stroke-width: 1.5;\" width=\"210\" x=\"40\" y=\"76.9375\"/><rect fill=\"none\" height=\"124\" id=\"E2\" rx=\"10\" ry=\"10\" style=\"stroke: #383838; stroke-width: 1.5;\" width=\"210\" x=\"40\" y=\"49\"/><text fill=\"#000000\" font-family=\"sans-serif\" font-size=\"12\" font-style=\"italic\" lengthAdjust=\"spacingAndGlyphs\" textLength=\"53\" x=\"118.5\" y=\"65.1387\">«action»</text><text fill=\"#000000\" font-family=\"sans-serif\" font-size=\"12\" lengthAdjust=\"spacingAndGlyphs\" textLength=\"8\" x=\"141\" y=\"79.1074\">a</text><line style=\"stroke: #383838; stroke-width: 1.0;\" x1=\"40\" x2=\"250\" y1=\"86.9375\" y2=\"86.9375\"/></a><g id=\"E1.E2.E3\"><a href=\"psysml:ba977e5b-bee9-4d3d-9976-80a8f9a7c434\" target=\"_top\" title=\"psysml:ba977e5b-bee9-4d3d-9976-80a8f9a7c434\" xlink:actuate=\"onRequest\" xlink:href=\"psysml:ba977e5b-bee9-4d3d-9976-80a8f9a7c434\" xlink:show=\"new\" xlink:title=\"psysml:ba977e5b-bee9-4d3d-9976-80a8f9a7c434\" xlink:type=\"simple\"><rect fill=\"#FFFFFF\" height=\"56.9063\" id=\"E3\" rx=\"10\" ry=\"10\" style=\"stroke: #383838; stroke-width: 1.5;\" width=\"178\" x=\"56\" y=\"100\"/><rect fill=\"#F8F8F8\" height=\"51.9063\" rx=\"10\" ry=\"10\" style=\"stroke: #F8F8F8; stroke-width: 1.5;\" width=\"178\" x=\"56\" y=\"100\"/><rect fill=\"#F8F8F8\" height=\"10\" style=\"stroke: #F8F8F8; stroke-width: 1.5;\" width=\"178\" x=\"56\" y=\"141.9063\"/><rect fill=\"none\" height=\"56.9063\" id=\"E3\" rx=\"10\" ry=\"10\" style=\"stroke: #383838; stroke-width: 1.5;\" width=\"178\" x=\"56\" y=\"100\"/><text fill=\"#000000\" font-family=\"sans-serif\" font-size=\"12\" font-style=\"italic\" lengthAdjust=\"spacingAndGlyphs\" textLength=\"53\" x=\"118.5\" y=\"116.1387\">«action»</text><text fill=\"#000000\" font-family=\"sans-serif\" font-size=\"12\" lengthAdjust=\"spacingAndGlyphs\" textLength=\"77\" x=\"106.5\" y=\"130.1074\">start: Action</text><text fill=\"#000000\" font-family=\"sans-serif\" font-size=\"12\" font-style=\"italic\" lengthAdjust=\"spacingAndGlyphs\" textLength=\"163\" x=\"61.5\" y=\"144.0762\">:&gt;&gt;Occurrence::startShot</text><text fill=\"#000000\" font-family=\"sans-serif\" font-size=\"12\" lengthAdjust=\"spacingAndGlyphs\" textLength=\"0\" x=\"228.5\" y=\"144.0762\"/></a></g><!--MD5=[7a206c9c09976e5b924c583f1051e127]\n",
       "@startuml\r\n",
       "skinparam ranksep 8\r\n",
       "skinparam rectangle {\r\n",
       " backgroundColor<<block>> LightGreen\r\n",
       "}\r\n",
       "skinparam linetype polyline\r\n",
       "skinparam monochrome true\r\n",
       "skinparam classbackgroundcolor white\r\n",
       "skinparam shadowing false\r\n",
       "skinparam wrapWidth 300\r\n",
       "hide circle\r\n",
       "\r\n",
       "package \"ActionTest\" as E1  [[psysml:470c72d5-baee-42c0-b878-d250ab3f6a02 ]]  {\r\n",
       "rec usage \"a\" as E2  <<(T,blue)action>> [[psysml:a7348084-8388-422f-b3f3-189098fa41d5 ]] {\r\n",
       "rec usage \"start: Action\\n//:>>Occurrence::startShot// \" as E3  <<(T,blue)action>> [[psysml:ba977e5b-bee9-4d3d-9976-80a8f9a7c434 ]] {\r\n",
       "}\r\n",
       "}\r\n",
       "}\r\n",
       "@enduml\r\n",
       "\n",
       "PlantUML version 1.2020.13(Sat Jun 13 12:26:38 UTC 2020)\n",
       "(EPL source distribution)\n",
       "Java Runtime: OpenJDK Runtime Environment\n",
       "JVM: OpenJDK 64-Bit Server VM\n",
       "Default Encoding: UTF-8\n",
       "Language: en\n",
       "Country: null\n",
       "--></g></svg>"
      ]
     },
     "execution_count": 12,
     "metadata": {},
     "output_type": "execute_result"
    }
   ],
   "source": [
    "%viz --style=\"POLYLINE\" --view=\"Interconnection\" \"ActionTest\""
   ]
  },
  {
   "cell_type": "code",
   "execution_count": 13,
   "id": "bacterial-killing",
   "metadata": {
    "execution": {
     "iopub.execute_input": "2021-03-26T12:08:34.015853Z",
     "iopub.status.busy": "2021-03-26T12:08:34.015057Z",
     "iopub.status.idle": "2021-03-26T12:08:34.042628Z",
     "shell.execute_reply": "2021-03-26T12:08:34.043091Z"
    }
   },
   "outputs": [
    {
     "data": {
      "image/svg+xml": [
       "<?xml version=\"1.0\" encoding=\"UTF-8\" standalone=\"no\"?><svg xmlns=\"http://www.w3.org/2000/svg\" xmlns:xlink=\"http://www.w3.org/1999/xlink\" contentScriptType=\"application/ecmascript\" contentStyleType=\"text/css\" height=\"128px\" preserveAspectRatio=\"none\" style=\"width:111px;height:128px;\" version=\"1.1\" viewBox=\"0 0 111 128\" width=\"111px\" zoomAndPan=\"magnify\"><defs/><g><!--MD5=[fbc87193dbaf4d95561dea2c320d4a47]\n",
       "cluster E1--><a href=\"psysml:a7348084-8388-422f-b3f3-189098fa41d5\" target=\"_top\" title=\"psysml:a7348084-8388-422f-b3f3-189098fa41d5\" xlink:actuate=\"onRequest\" xlink:href=\"psysml:a7348084-8388-422f-b3f3-189098fa41d5\" xlink:show=\"new\" xlink:title=\"psysml:a7348084-8388-422f-b3f3-189098fa41d5\" xlink:type=\"simple\"><rect fill=\"#FFFFFF\" height=\"110\" id=\"E1\" rx=\"10\" ry=\"10\" style=\"stroke: #383838; stroke-width: 1.5;\" width=\"92\" x=\"7\" y=\"7\"/><rect fill=\"#F8F8F8\" height=\"37.9375\" rx=\"10\" ry=\"10\" style=\"stroke: #F8F8F8; stroke-width: 1.5;\" width=\"92\" x=\"7\" y=\"7\"/><rect fill=\"#F8F8F8\" height=\"10\" style=\"stroke: #F8F8F8; stroke-width: 1.5;\" width=\"92\" x=\"7\" y=\"34.9375\"/><rect fill=\"none\" height=\"110\" id=\"E1\" rx=\"10\" ry=\"10\" style=\"stroke: #383838; stroke-width: 1.5;\" width=\"92\" x=\"7\" y=\"7\"/><text fill=\"#000000\" font-family=\"sans-serif\" font-size=\"12\" font-style=\"italic\" lengthAdjust=\"spacingAndGlyphs\" textLength=\"53\" x=\"26.5\" y=\"23.1387\">«action»</text><text fill=\"#000000\" font-family=\"sans-serif\" font-size=\"12\" lengthAdjust=\"spacingAndGlyphs\" textLength=\"8\" x=\"49\" y=\"37.1074\">a</text><line style=\"stroke: #383838; stroke-width: 1.0;\" x1=\"7\" x2=\"99\" y1=\"44.9375\" y2=\"44.9375\"/></a><g id=\"E1.E2\"><a href=\"psysml:ba977e5b-bee9-4d3d-9976-80a8f9a7c434\" target=\"_top\" title=\"psysml:ba977e5b-bee9-4d3d-9976-80a8f9a7c434\" xlink:actuate=\"onRequest\" xlink:href=\"psysml:ba977e5b-bee9-4d3d-9976-80a8f9a7c434\" xlink:show=\"new\" xlink:title=\"psysml:ba977e5b-bee9-4d3d-9976-80a8f9a7c434\" xlink:type=\"simple\"><rect fill=\"#FFFFFF\" height=\"42.9375\" id=\"E2\" rx=\"10\" ry=\"10\" style=\"stroke: #383838; stroke-width: 1.5;\" width=\"60\" x=\"23\" y=\"58\"/><rect fill=\"#F8F8F8\" height=\"37.9375\" rx=\"10\" ry=\"10\" style=\"stroke: #F8F8F8; stroke-width: 1.5;\" width=\"60\" x=\"23\" y=\"58\"/><rect fill=\"#F8F8F8\" height=\"10\" style=\"stroke: #F8F8F8; stroke-width: 1.5;\" width=\"60\" x=\"23\" y=\"85.9375\"/><rect fill=\"none\" height=\"42.9375\" id=\"E2\" rx=\"10\" ry=\"10\" style=\"stroke: #383838; stroke-width: 1.5;\" width=\"60\" x=\"23\" y=\"58\"/><text fill=\"#000000\" font-family=\"sans-serif\" font-size=\"12\" font-style=\"italic\" lengthAdjust=\"spacingAndGlyphs\" textLength=\"53\" x=\"26.5\" y=\"74.1387\">«action»</text><text fill=\"#000000\" font-family=\"sans-serif\" font-size=\"12\" lengthAdjust=\"spacingAndGlyphs\" textLength=\"30\" x=\"38\" y=\"88.1074\">start</text></a></g><!--MD5=[24df821c5a5ed116c7f5b2252b8a3201]\n",
       "@startuml\r\n",
       "skinparam ranksep 8\r\n",
       "skinparam linetype polyline\r\n",
       "skinparam monochrome true\r\n",
       "skinparam classbackgroundcolor white\r\n",
       "skinparam shadowing false\r\n",
       "skinparam wrapWidth 300\r\n",
       "hide circle\r\n",
       "\r\n",
       "rec usage \"a\" as E1  <<(T,blue)action>> [[psysml:a7348084-8388-422f-b3f3-189098fa41d5 ]] {\r\n",
       "rec usage \"start\" as E2  <<(T,blue)action>> [[psysml:ba977e5b-bee9-4d3d-9976-80a8f9a7c434 ]] {\r\n",
       "}\r\n",
       "\r\n",
       "}\r\n",
       "\r\n",
       "@enduml\r\n",
       "\n",
       "PlantUML version 1.2020.13(Sat Jun 13 12:26:38 UTC 2020)\n",
       "(EPL source distribution)\n",
       "Java Runtime: OpenJDK Runtime Environment\n",
       "JVM: OpenJDK 64-Bit Server VM\n",
       "Default Encoding: UTF-8\n",
       "Language: en\n",
       "Country: null\n",
       "--></g></svg>"
      ]
     },
     "execution_count": 13,
     "metadata": {},
     "output_type": "execute_result"
    }
   ],
   "source": [
    "%viz --style=\"POLYLINE\" --view=\"Action\" \"ActionTest\""
   ]
  },
  {
   "cell_type": "code",
   "execution_count": 14,
   "id": "vital-height",
   "metadata": {
    "execution": {
     "iopub.execute_input": "2021-03-26T12:08:34.093427Z",
     "iopub.status.busy": "2021-03-26T12:08:34.093042Z",
     "iopub.status.idle": "2021-03-26T12:08:34.143623Z",
     "shell.execute_reply": "2021-03-26T12:08:34.142744Z"
    }
   },
   "outputs": [
    {
     "data": {
      "image/svg+xml": [
       "<?xml version=\"1.0\" encoding=\"UTF-8\" standalone=\"no\"?><svg xmlns=\"http://www.w3.org/2000/svg\" xmlns:xlink=\"http://www.w3.org/1999/xlink\" contentScriptType=\"application/ecmascript\" contentStyleType=\"text/css\" height=\"157px\" preserveAspectRatio=\"none\" style=\"width:230px;height:157px;\" version=\"1.1\" viewBox=\"0 0 230 157\" width=\"230px\" zoomAndPan=\"magnify\"><defs/><g><!--MD5=[fbc87193dbaf4d95561dea2c320d4a47]\n",
       "cluster E1--><a href=\"psysml:470c72d5-baee-42c0-b878-d250ab3f6a02\" target=\"_top\" title=\"psysml:470c72d5-baee-42c0-b878-d250ab3f6a02\" xlink:actuate=\"onRequest\" xlink:href=\"psysml:470c72d5-baee-42c0-b878-d250ab3f6a02\" xlink:show=\"new\" xlink:title=\"psysml:470c72d5-baee-42c0-b878-d250ab3f6a02\" xlink:type=\"simple\"><polygon fill=\"#FFFFFF\" points=\"16,6,107,6,114,28.2969,208,28.2969,208,145,16,145,16,6\" style=\"stroke: #000000; stroke-width: 1.5;\"/><line style=\"stroke: #000000; stroke-width: 1.5;\" x1=\"16\" x2=\"114\" y1=\"28.2969\" y2=\"28.2969\"/><text fill=\"#000000\" font-family=\"sans-serif\" font-size=\"14\" font-weight=\"bold\" lengthAdjust=\"spacingAndGlyphs\" textLength=\"85\" x=\"20\" y=\"20.9951\">ActionTest</text></a><!--MD5=[b4997ac47864f28c2f74865a473b2911]\n",
       "class E2--><a href=\"psysml:a7348084-8388-422f-b3f3-189098fa41d5\" target=\"_top\" title=\"psysml:a7348084-8388-422f-b3f3-189098fa41d5\" xlink:actuate=\"onRequest\" xlink:href=\"psysml:a7348084-8388-422f-b3f3-189098fa41d5\" xlink:show=\"new\" xlink:title=\"psysml:a7348084-8388-422f-b3f3-189098fa41d5\" xlink:type=\"simple\"><rect fill=\"#FFFFFF\" height=\"88.3516\" id=\"E2\" rx=\"10\" ry=\"10\" style=\"stroke: #383838; stroke-width: 1.5;\" width=\"160\" x=\"32\" y=\"41\"/><text fill=\"#000000\" font-family=\"sans-serif\" font-size=\"12\" font-style=\"italic\" lengthAdjust=\"spacingAndGlyphs\" textLength=\"53\" x=\"85.5\" y=\"57.1387\">«action»</text><text fill=\"#000000\" font-family=\"sans-serif\" font-size=\"12\" lengthAdjust=\"spacingAndGlyphs\" textLength=\"8\" x=\"108\" y=\"71.1074\">a</text><line style=\"stroke: #383838; stroke-width: 1.5;\" x1=\"33\" x2=\"191\" y1=\"78.9375\" y2=\"78.9375\"/><text fill=\"#000000\" font-family=\"sans-serif\" font-size=\"11\" lengthAdjust=\"spacingAndGlyphs\" textLength=\"69\" x=\"38\" y=\"109.9526\">start: Action</text><text fill=\"#000000\" font-family=\"sans-serif\" font-size=\"11\" font-style=\"italic\" lengthAdjust=\"spacingAndGlyphs\" textLength=\"148\" x=\"38\" y=\"122.7573\">:&gt;&gt;Occurrence::startShot</text><line style=\"stroke: #383838; stroke-width: 1.0;\" x1=\"33\" x2=\"91.5\" y1=\"93.3398\" y2=\"93.3398\"/><text fill=\"#000000\" font-family=\"sans-serif\" font-size=\"11\" lengthAdjust=\"spacingAndGlyphs\" textLength=\"41\" x=\"91.5\" y=\"96.6479\">actions</text><line style=\"stroke: #383838; stroke-width: 1.0;\" x1=\"132.5\" x2=\"191\" y1=\"93.3398\" y2=\"93.3398\"/></a><!--MD5=[befa0afd160eca9a50d11a1b9d9e2b9f]\n",
       "@startuml\r\n",
       "skinparam linetype polyline\r\n",
       "skinparam monochrome true\r\n",
       "skinparam classbackgroundcolor white\r\n",
       "skinparam shadowing false\r\n",
       "skinparam wrapWidth 300\r\n",
       "hide circle\r\n",
       "\r\n",
       "package \"ActionTest\" as E1  [[psysml:470c72d5-baee-42c0-b878-d250ab3f6a02 ]]  {\r\n",
       "comp usage \"a\" as E2  <<(T,blue)action>> [[psysml:a7348084-8388-422f-b3f3-189098fa41d5 ]] {\r\n",
       "- - actions - -\r\n",
       "start: Action\\n//:>>Occurrence::startShot// \r\n",
       "}\r\n",
       "}\r\n",
       "@enduml\r\n",
       "\n",
       "PlantUML version 1.2020.13(Sat Jun 13 12:26:38 UTC 2020)\n",
       "(EPL source distribution)\n",
       "Java Runtime: OpenJDK Runtime Environment\n",
       "JVM: OpenJDK 64-Bit Server VM\n",
       "Default Encoding: UTF-8\n",
       "Language: en\n",
       "Country: null\n",
       "--></g></svg>"
      ]
     },
     "execution_count": 14,
     "metadata": {},
     "output_type": "execute_result"
    }
   ],
   "source": [
    "%viz --style=\"POLYLINE\" --view=\"Sequence\" \"ActionTest\""
   ]
  },
  {
   "cell_type": "code",
   "execution_count": 15,
   "id": "sought-dressing",
   "metadata": {
    "execution": {
     "iopub.execute_input": "2021-03-26T12:08:34.197079Z",
     "iopub.status.busy": "2021-03-26T12:08:34.196284Z",
     "iopub.status.idle": "2021-03-26T12:08:34.224608Z",
     "shell.execute_reply": "2021-03-26T12:08:34.224999Z"
    }
   },
   "outputs": [
    {
     "data": {
      "image/svg+xml": [
       "<?xml version=\"1.0\" encoding=\"UTF-8\" standalone=\"no\"?><svg xmlns=\"http://www.w3.org/2000/svg\" xmlns:xlink=\"http://www.w3.org/1999/xlink\" contentScriptType=\"application/ecmascript\" contentStyleType=\"text/css\" height=\"195px\" preserveAspectRatio=\"none\" style=\"width:178px;height:195px;\" version=\"1.1\" viewBox=\"0 0 178 195\" width=\"178px\" zoomAndPan=\"magnify\"><defs/><g><!--MD5=[fbc87193dbaf4d95561dea2c320d4a47]\n",
       "cluster E1--><a href=\"psysml:470c72d5-baee-42c0-b878-d250ab3f6a02\" target=\"_top\" title=\"psysml:470c72d5-baee-42c0-b878-d250ab3f6a02\" xlink:actuate=\"onRequest\" xlink:href=\"psysml:470c72d5-baee-42c0-b878-d250ab3f6a02\" xlink:show=\"new\" xlink:title=\"psysml:470c72d5-baee-42c0-b878-d250ab3f6a02\" xlink:type=\"simple\"><polygon fill=\"#FFFFFF\" points=\"16,6,107,6,114,28.2969,156,28.2969,156,183,16,183,16,6\" style=\"stroke: #000000; stroke-width: 1.5;\"/><line style=\"stroke: #000000; stroke-width: 1.5;\" x1=\"16\" x2=\"114\" y1=\"28.2969\" y2=\"28.2969\"/><text fill=\"#000000\" font-family=\"sans-serif\" font-size=\"14\" font-weight=\"bold\" lengthAdjust=\"spacingAndGlyphs\" textLength=\"85\" x=\"20\" y=\"20.9951\">ActionTest</text></a><!--MD5=[e4f7fae6ed58524ba242bb0b0d3be6b7]\n",
       "cluster E2--><a href=\"psysml:a7348084-8388-422f-b3f3-189098fa41d5\" target=\"_top\" title=\"psysml:a7348084-8388-422f-b3f3-189098fa41d5\" xlink:actuate=\"onRequest\" xlink:href=\"psysml:a7348084-8388-422f-b3f3-189098fa41d5\" xlink:show=\"new\" xlink:title=\"psysml:a7348084-8388-422f-b3f3-189098fa41d5\" xlink:type=\"simple\"><rect fill=\"#FFFFFF\" height=\"110\" id=\"E2\" rx=\"10\" ry=\"10\" style=\"stroke: #383838; stroke-width: 1.5;\" width=\"92\" x=\"40\" y=\"49\"/><rect fill=\"#F8F8F8\" height=\"37.9375\" rx=\"10\" ry=\"10\" style=\"stroke: #F8F8F8; stroke-width: 1.5;\" width=\"92\" x=\"40\" y=\"49\"/><rect fill=\"#F8F8F8\" height=\"10\" style=\"stroke: #F8F8F8; stroke-width: 1.5;\" width=\"92\" x=\"40\" y=\"76.9375\"/><rect fill=\"none\" height=\"110\" id=\"E2\" rx=\"10\" ry=\"10\" style=\"stroke: #383838; stroke-width: 1.5;\" width=\"92\" x=\"40\" y=\"49\"/><text fill=\"#000000\" font-family=\"sans-serif\" font-size=\"12\" font-style=\"italic\" lengthAdjust=\"spacingAndGlyphs\" textLength=\"53\" x=\"59.5\" y=\"65.1387\">«action»</text><text fill=\"#000000\" font-family=\"sans-serif\" font-size=\"12\" lengthAdjust=\"spacingAndGlyphs\" textLength=\"8\" x=\"82\" y=\"79.1074\">a</text><line style=\"stroke: #383838; stroke-width: 1.0;\" x1=\"40\" x2=\"132\" y1=\"86.9375\" y2=\"86.9375\"/></a><g id=\"E1.E2.E3\"><a href=\"psysml:ba977e5b-bee9-4d3d-9976-80a8f9a7c434\" target=\"_top\" title=\"psysml:ba977e5b-bee9-4d3d-9976-80a8f9a7c434\" xlink:actuate=\"onRequest\" xlink:href=\"psysml:ba977e5b-bee9-4d3d-9976-80a8f9a7c434\" xlink:show=\"new\" xlink:title=\"psysml:ba977e5b-bee9-4d3d-9976-80a8f9a7c434\" xlink:type=\"simple\"><rect fill=\"#FFFFFF\" height=\"42.9375\" id=\"E3\" rx=\"10\" ry=\"10\" style=\"stroke: #383838; stroke-width: 1.5;\" width=\"60\" x=\"56\" y=\"100\"/><rect fill=\"#F8F8F8\" height=\"37.9375\" rx=\"10\" ry=\"10\" style=\"stroke: #F8F8F8; stroke-width: 1.5;\" width=\"60\" x=\"56\" y=\"100\"/><rect fill=\"#F8F8F8\" height=\"10\" style=\"stroke: #F8F8F8; stroke-width: 1.5;\" width=\"60\" x=\"56\" y=\"127.9375\"/><rect fill=\"none\" height=\"42.9375\" id=\"E3\" rx=\"10\" ry=\"10\" style=\"stroke: #383838; stroke-width: 1.5;\" width=\"60\" x=\"56\" y=\"100\"/><text fill=\"#000000\" font-family=\"sans-serif\" font-size=\"12\" font-style=\"italic\" lengthAdjust=\"spacingAndGlyphs\" textLength=\"53\" x=\"59.5\" y=\"116.1387\">«action»</text><text fill=\"#000000\" font-family=\"sans-serif\" font-size=\"12\" lengthAdjust=\"spacingAndGlyphs\" textLength=\"30\" x=\"71\" y=\"130.1074\">start</text></a></g><!--MD5=[95966996d958c1e92a810740ba10d940]\n",
       "@startuml\r\n",
       "skinparam linetype polyline\r\n",
       "skinparam monochrome true\r\n",
       "skinparam classbackgroundcolor white\r\n",
       "skinparam shadowing false\r\n",
       "skinparam wrapWidth 300\r\n",
       "hide circle\r\n",
       "\r\n",
       "package \"ActionTest\" as E1  [[psysml:470c72d5-baee-42c0-b878-d250ab3f6a02 ]]  {\r\n",
       "rec usage \"a\" as E2  <<(T,blue)action>> [[psysml:a7348084-8388-422f-b3f3-189098fa41d5 ]] {\r\n",
       "rec usage \"start\" as E3  <<(T,blue)action>> [[psysml:ba977e5b-bee9-4d3d-9976-80a8f9a7c434 ]] {\r\n",
       "}\r\n",
       "\r\n",
       "}\r\n",
       "\r\n",
       "}\r\n",
       "@enduml\r\n",
       "\n",
       "PlantUML version 1.2020.13(Sat Jun 13 12:26:38 UTC 2020)\n",
       "(EPL source distribution)\n",
       "Java Runtime: OpenJDK Runtime Environment\n",
       "JVM: OpenJDK 64-Bit Server VM\n",
       "Default Encoding: UTF-8\n",
       "Language: en\n",
       "Country: null\n",
       "--></g></svg>"
      ]
     },
     "execution_count": 15,
     "metadata": {},
     "output_type": "execute_result"
    }
   ],
   "source": [
    "%viz --style=\"POLYLINE\" --view=\"MIXED\" \"ActionTest\""
   ]
  },
  {
   "cell_type": "code",
   "execution_count": 16,
   "id": "persistent-portrait",
   "metadata": {
    "execution": {
     "iopub.execute_input": "2021-03-26T12:08:34.277981Z",
     "iopub.status.busy": "2021-03-26T12:08:34.277355Z",
     "iopub.status.idle": "2021-03-26T12:08:34.305112Z",
     "shell.execute_reply": "2021-03-26T12:08:34.305489Z"
    }
   },
   "outputs": [
    {
     "data": {
      "image/svg+xml": [
       "<?xml version=\"1.0\" encoding=\"UTF-8\" standalone=\"no\"?><svg xmlns=\"http://www.w3.org/2000/svg\" xmlns:xlink=\"http://www.w3.org/1999/xlink\" contentScriptType=\"application/ecmascript\" contentStyleType=\"text/css\" height=\"196px\" preserveAspectRatio=\"none\" style=\"width:178px;height:196px;\" version=\"1.1\" viewBox=\"0 0 178 196\" width=\"178px\" zoomAndPan=\"magnify\"><defs/><g><!--MD5=[fbc87193dbaf4d95561dea2c320d4a47]\n",
       "cluster E1--><a href=\"psysml:470c72d5-baee-42c0-b878-d250ab3f6a02\" target=\"_top\" title=\"psysml:470c72d5-baee-42c0-b878-d250ab3f6a02\" xlink:actuate=\"onRequest\" xlink:href=\"psysml:470c72d5-baee-42c0-b878-d250ab3f6a02\" xlink:show=\"new\" xlink:title=\"psysml:470c72d5-baee-42c0-b878-d250ab3f6a02\" xlink:type=\"simple\"><polygon fill=\"#FFFFFF\" points=\"16,6,107,6,114,28.2969,156,28.2969,156,184,16,184,16,6\" style=\"stroke: #000000; stroke-width: 1.5;\"/><line style=\"stroke: #000000; stroke-width: 1.5;\" x1=\"16\" x2=\"114\" y1=\"28.2969\" y2=\"28.2969\"/><text fill=\"#000000\" font-family=\"sans-serif\" font-size=\"14\" font-weight=\"bold\" lengthAdjust=\"spacingAndGlyphs\" textLength=\"85\" x=\"20\" y=\"20.9951\">ActionTest</text></a><!--MD5=[e4f7fae6ed58524ba242bb0b0d3be6b7]\n",
       "cluster E2--><a href=\"psysml:a7348084-8388-422f-b3f3-189098fa41d5\" target=\"_top\" title=\"psysml:a7348084-8388-422f-b3f3-189098fa41d5\" xlink:actuate=\"onRequest\" xlink:href=\"psysml:a7348084-8388-422f-b3f3-189098fa41d5\" xlink:show=\"new\" xlink:title=\"psysml:a7348084-8388-422f-b3f3-189098fa41d5\" xlink:type=\"simple\"><rect fill=\"#FFFFFF\" height=\"111\" id=\"E2\" rx=\"10\" ry=\"10\" style=\"stroke: #383838; stroke-width: 1.5;\" width=\"92\" x=\"40\" y=\"49\"/><rect fill=\"#F8F8F8\" height=\"37.9375\" rx=\"10\" ry=\"10\" style=\"stroke: #F8F8F8; stroke-width: 1.5;\" width=\"92\" x=\"40\" y=\"49\"/><rect fill=\"#F8F8F8\" height=\"10\" style=\"stroke: #F8F8F8; stroke-width: 1.5;\" width=\"92\" x=\"40\" y=\"76.9375\"/><rect fill=\"none\" height=\"111\" id=\"E2\" rx=\"10\" ry=\"10\" style=\"stroke: #383838; stroke-width: 1.5;\" width=\"92\" x=\"40\" y=\"49\"/><text fill=\"#000000\" font-family=\"sans-serif\" font-size=\"12\" font-style=\"italic\" lengthAdjust=\"spacingAndGlyphs\" textLength=\"53\" x=\"59.5\" y=\"65.1387\">«action»</text><text fill=\"#000000\" font-family=\"sans-serif\" font-size=\"12\" lengthAdjust=\"spacingAndGlyphs\" textLength=\"8\" x=\"82\" y=\"79.1074\">a</text><line style=\"stroke: #383838; stroke-width: 1.0;\" x1=\"40\" x2=\"132\" y1=\"86.9375\" y2=\"86.9375\"/></a><g id=\"E1.E2.E3\"><a href=\"psysml:ba977e5b-bee9-4d3d-9976-80a8f9a7c434\" target=\"_top\" title=\"psysml:ba977e5b-bee9-4d3d-9976-80a8f9a7c434\" xlink:actuate=\"onRequest\" xlink:href=\"psysml:ba977e5b-bee9-4d3d-9976-80a8f9a7c434\" xlink:show=\"new\" xlink:title=\"psysml:ba977e5b-bee9-4d3d-9976-80a8f9a7c434\" xlink:type=\"simple\"><rect fill=\"#FFFFFF\" height=\"42.9375\" id=\"E3\" rx=\"10\" ry=\"10\" style=\"stroke: #383838; stroke-width: 1.5;\" width=\"60\" x=\"56\" y=\"100.5\"/><rect fill=\"#F8F8F8\" height=\"37.9375\" rx=\"10\" ry=\"10\" style=\"stroke: #F8F8F8; stroke-width: 1.5;\" width=\"60\" x=\"56\" y=\"100.5\"/><rect fill=\"#F8F8F8\" height=\"10\" style=\"stroke: #F8F8F8; stroke-width: 1.5;\" width=\"60\" x=\"56\" y=\"128.4375\"/><rect fill=\"none\" height=\"42.9375\" id=\"E3\" rx=\"10\" ry=\"10\" style=\"stroke: #383838; stroke-width: 1.5;\" width=\"60\" x=\"56\" y=\"100.5\"/><text fill=\"#000000\" font-family=\"sans-serif\" font-size=\"12\" font-style=\"italic\" lengthAdjust=\"spacingAndGlyphs\" textLength=\"53\" x=\"59.5\" y=\"116.6387\">«action»</text><text fill=\"#000000\" font-family=\"sans-serif\" font-size=\"12\" lengthAdjust=\"spacingAndGlyphs\" textLength=\"30\" x=\"71\" y=\"130.6074\">start</text></a></g><!--MD5=[d1ba7d48c91893b2a1ff463de7f8a6d5]\n",
       "@startuml\r\n",
       "left to right direction\r\n",
       "skinparam monochrome true\r\n",
       "skinparam classbackgroundcolor white\r\n",
       "skinparam shadowing false\r\n",
       "skinparam wrapWidth 300\r\n",
       "hide circle\r\n",
       "\r\n",
       "package \"ActionTest\" as E1  [[psysml:470c72d5-baee-42c0-b878-d250ab3f6a02 ]]  {\r\n",
       "rec usage \"a\" as E2  <<(T,blue)action>> [[psysml:a7348084-8388-422f-b3f3-189098fa41d5 ]] {\r\n",
       "rec usage \"start\" as E3  <<(T,blue)action>> [[psysml:ba977e5b-bee9-4d3d-9976-80a8f9a7c434 ]] {\r\n",
       "}\r\n",
       "\r\n",
       "}\r\n",
       "\r\n",
       "}\r\n",
       "@enduml\r\n",
       "\n",
       "PlantUML version 1.2020.13(Sat Jun 13 12:26:38 UTC 2020)\n",
       "(EPL source distribution)\n",
       "Java Runtime: OpenJDK Runtime Environment\n",
       "JVM: OpenJDK 64-Bit Server VM\n",
       "Default Encoding: UTF-8\n",
       "Language: en\n",
       "Country: null\n",
       "--></g></svg>"
      ]
     },
     "execution_count": 16,
     "metadata": {},
     "output_type": "execute_result"
    }
   ],
   "source": [
    "%viz --style=\"LR\" --view=\"Default\" \"ActionTest\""
   ]
  },
  {
   "cell_type": "code",
   "execution_count": 17,
   "id": "adjusted-sailing",
   "metadata": {
    "execution": {
     "iopub.execute_input": "2021-03-26T12:08:34.358315Z",
     "iopub.status.busy": "2021-03-26T12:08:34.357689Z",
     "iopub.status.idle": "2021-03-26T12:08:34.412432Z",
     "shell.execute_reply": "2021-03-26T12:08:34.412809Z"
    }
   },
   "outputs": [
    {
     "data": {
      "image/svg+xml": [
       "<?xml version=\"1.0\" encoding=\"UTF-8\" standalone=\"no\"?><svg xmlns=\"http://www.w3.org/2000/svg\" xmlns:xlink=\"http://www.w3.org/1999/xlink\" contentScriptType=\"application/ecmascript\" contentStyleType=\"text/css\" height=\"157px\" preserveAspectRatio=\"none\" style=\"width:230px;height:157px;\" version=\"1.1\" viewBox=\"0 0 230 157\" width=\"230px\" zoomAndPan=\"magnify\"><defs/><g><!--MD5=[fbc87193dbaf4d95561dea2c320d4a47]\n",
       "cluster E1--><a href=\"psysml:470c72d5-baee-42c0-b878-d250ab3f6a02\" target=\"_top\" title=\"psysml:470c72d5-baee-42c0-b878-d250ab3f6a02\" xlink:actuate=\"onRequest\" xlink:href=\"psysml:470c72d5-baee-42c0-b878-d250ab3f6a02\" xlink:show=\"new\" xlink:title=\"psysml:470c72d5-baee-42c0-b878-d250ab3f6a02\" xlink:type=\"simple\"><polygon fill=\"#FFFFFF\" points=\"16,6,107,6,114,28.2969,208,28.2969,208,145,16,145,16,6\" style=\"stroke: #000000; stroke-width: 1.5;\"/><line style=\"stroke: #000000; stroke-width: 1.5;\" x1=\"16\" x2=\"114\" y1=\"28.2969\" y2=\"28.2969\"/><text fill=\"#000000\" font-family=\"sans-serif\" font-size=\"14\" font-weight=\"bold\" lengthAdjust=\"spacingAndGlyphs\" textLength=\"85\" x=\"20\" y=\"20.9951\">ActionTest</text></a><!--MD5=[b4997ac47864f28c2f74865a473b2911]\n",
       "class E2--><a href=\"psysml:a7348084-8388-422f-b3f3-189098fa41d5\" target=\"_top\" title=\"psysml:a7348084-8388-422f-b3f3-189098fa41d5\" xlink:actuate=\"onRequest\" xlink:href=\"psysml:a7348084-8388-422f-b3f3-189098fa41d5\" xlink:show=\"new\" xlink:title=\"psysml:a7348084-8388-422f-b3f3-189098fa41d5\" xlink:type=\"simple\"><rect fill=\"#FFFFFF\" height=\"88.3516\" id=\"E2\" rx=\"10\" ry=\"10\" style=\"stroke: #383838; stroke-width: 1.5;\" width=\"160\" x=\"32\" y=\"41\"/><text fill=\"#000000\" font-family=\"sans-serif\" font-size=\"12\" font-style=\"italic\" lengthAdjust=\"spacingAndGlyphs\" textLength=\"53\" x=\"85.5\" y=\"57.1387\">«action»</text><text fill=\"#000000\" font-family=\"sans-serif\" font-size=\"12\" lengthAdjust=\"spacingAndGlyphs\" textLength=\"8\" x=\"108\" y=\"71.1074\">a</text><line style=\"stroke: #383838; stroke-width: 1.5;\" x1=\"33\" x2=\"191\" y1=\"78.9375\" y2=\"78.9375\"/><text fill=\"#000000\" font-family=\"sans-serif\" font-size=\"11\" lengthAdjust=\"spacingAndGlyphs\" textLength=\"69\" x=\"38\" y=\"109.9526\">start: Action</text><text fill=\"#000000\" font-family=\"sans-serif\" font-size=\"11\" font-style=\"italic\" lengthAdjust=\"spacingAndGlyphs\" textLength=\"148\" x=\"38\" y=\"122.7573\">:&gt;&gt;Occurrence::startShot</text><line style=\"stroke: #383838; stroke-width: 1.0;\" x1=\"33\" x2=\"91.5\" y1=\"93.3398\" y2=\"93.3398\"/><text fill=\"#000000\" font-family=\"sans-serif\" font-size=\"11\" lengthAdjust=\"spacingAndGlyphs\" textLength=\"41\" x=\"91.5\" y=\"96.6479\">actions</text><line style=\"stroke: #383838; stroke-width: 1.0;\" x1=\"132.5\" x2=\"191\" y1=\"93.3398\" y2=\"93.3398\"/></a><!--MD5=[f7f0b43cd4598ae5f8246f1f59948986]\n",
       "@startuml\r\n",
       "left to right direction\r\n",
       "skinparam monochrome true\r\n",
       "skinparam classbackgroundcolor white\r\n",
       "skinparam shadowing false\r\n",
       "skinparam wrapWidth 300\r\n",
       "hide circle\r\n",
       "\r\n",
       "package \"ActionTest\" as E1  [[psysml:470c72d5-baee-42c0-b878-d250ab3f6a02 ]]  {\r\n",
       "comp usage \"a\" as E2  <<(T,blue)action>> [[psysml:a7348084-8388-422f-b3f3-189098fa41d5 ]] {\r\n",
       "- - actions - -\r\n",
       "start: Action\\n//:>>Occurrence::startShot// \r\n",
       "}\r\n",
       "}\r\n",
       "@enduml\r\n",
       "\n",
       "PlantUML version 1.2020.13(Sat Jun 13 12:26:38 UTC 2020)\n",
       "(EPL source distribution)\n",
       "Java Runtime: OpenJDK Runtime Environment\n",
       "JVM: OpenJDK 64-Bit Server VM\n",
       "Default Encoding: UTF-8\n",
       "Language: en\n",
       "Country: null\n",
       "--></g></svg>"
      ]
     },
     "execution_count": 17,
     "metadata": {},
     "output_type": "execute_result"
    }
   ],
   "source": [
    "%viz --style=\"LR\" --view=\"Tree\" \"ActionTest\""
   ]
  },
  {
   "cell_type": "code",
   "execution_count": 18,
   "id": "awful-lebanon",
   "metadata": {
    "execution": {
     "iopub.execute_input": "2021-03-26T12:08:34.466853Z",
     "iopub.status.busy": "2021-03-26T12:08:34.465888Z",
     "iopub.status.idle": "2021-03-26T12:08:34.472865Z",
     "shell.execute_reply": "2021-03-26T12:08:34.473256Z"
    }
   },
   "outputs": [
    {
     "data": {
      "image/svg+xml": [
       "<?xml version=\"1.0\" encoding=\"UTF-8\" standalone=\"no\"?><svg xmlns=\"http://www.w3.org/2000/svg\" xmlns:xlink=\"http://www.w3.org/1999/xlink\" contentScriptType=\"application/ecmascript\" contentStyleType=\"text/css\" height=\"12px\" preserveAspectRatio=\"none\" style=\"width:12px;height:12px;\" version=\"1.1\" viewBox=\"0 0 12 12\" width=\"12px\" zoomAndPan=\"magnify\"><defs/><g><!--MD5=[19d285c9d72a204eba4e2cd117d745e8]\n",
       "@startuml\r\n",
       "left to right direction\r\n",
       "skinparam monochrome true\r\n",
       "skinparam classbackgroundcolor white\r\n",
       "skinparam shadowing false\r\n",
       "skinparam wrapWidth 300\r\n",
       "hide circle\r\n",
       "\r\n",
       "@enduml\r\n",
       "\n",
       "PlantUML version 1.2020.13(Sat Jun 13 12:26:38 UTC 2020)\n",
       "(EPL source distribution)\n",
       "Java Runtime: OpenJDK Runtime Environment\n",
       "JVM: OpenJDK 64-Bit Server VM\n",
       "Default Encoding: UTF-8\n",
       "Language: en\n",
       "Country: null\n",
       "--></g></svg>"
      ]
     },
     "execution_count": 18,
     "metadata": {},
     "output_type": "execute_result"
    }
   ],
   "source": [
    "%viz --style=\"LR\" --view=\"State\" \"ActionTest\""
   ]
  },
  {
   "cell_type": "code",
   "execution_count": 19,
   "id": "noted-relevance",
   "metadata": {
    "execution": {
     "iopub.execute_input": "2021-03-26T12:08:34.525780Z",
     "iopub.status.busy": "2021-03-26T12:08:34.524899Z",
     "iopub.status.idle": "2021-03-26T12:08:34.554370Z",
     "shell.execute_reply": "2021-03-26T12:08:34.554864Z"
    }
   },
   "outputs": [
    {
     "data": {
      "image/svg+xml": [
       "<?xml version=\"1.0\" encoding=\"UTF-8\" standalone=\"no\"?><svg xmlns=\"http://www.w3.org/2000/svg\" xmlns:xlink=\"http://www.w3.org/1999/xlink\" contentScriptType=\"application/ecmascript\" contentStyleType=\"text/css\" height=\"210px\" preserveAspectRatio=\"none\" style=\"width:296px;height:210px;\" version=\"1.1\" viewBox=\"0 0 296 210\" width=\"296px\" zoomAndPan=\"magnify\"><defs/><g><!--MD5=[fbc87193dbaf4d95561dea2c320d4a47]\n",
       "cluster E1--><a href=\"psysml:470c72d5-baee-42c0-b878-d250ab3f6a02\" target=\"_top\" title=\"psysml:470c72d5-baee-42c0-b878-d250ab3f6a02\" xlink:actuate=\"onRequest\" xlink:href=\"psysml:470c72d5-baee-42c0-b878-d250ab3f6a02\" xlink:show=\"new\" xlink:title=\"psysml:470c72d5-baee-42c0-b878-d250ab3f6a02\" xlink:type=\"simple\"><polygon fill=\"#FFFFFF\" points=\"16,6,107,6,114,28.2969,274,28.2969,274,198,16,198,16,6\" style=\"stroke: #000000; stroke-width: 1.5;\"/><line style=\"stroke: #000000; stroke-width: 1.5;\" x1=\"16\" x2=\"114\" y1=\"28.2969\" y2=\"28.2969\"/><text fill=\"#000000\" font-family=\"sans-serif\" font-size=\"14\" font-weight=\"bold\" lengthAdjust=\"spacingAndGlyphs\" textLength=\"85\" x=\"20\" y=\"20.9951\">ActionTest</text></a><!--MD5=[e4f7fae6ed58524ba242bb0b0d3be6b7]\n",
       "cluster E2--><a href=\"psysml:a7348084-8388-422f-b3f3-189098fa41d5\" target=\"_top\" title=\"psysml:a7348084-8388-422f-b3f3-189098fa41d5\" xlink:actuate=\"onRequest\" xlink:href=\"psysml:a7348084-8388-422f-b3f3-189098fa41d5\" xlink:show=\"new\" xlink:title=\"psysml:a7348084-8388-422f-b3f3-189098fa41d5\" xlink:type=\"simple\"><rect fill=\"#FFFFFF\" height=\"125\" id=\"E2\" rx=\"10\" ry=\"10\" style=\"stroke: #383838; stroke-width: 1.5;\" width=\"210\" x=\"40\" y=\"49\"/><rect fill=\"#F8F8F8\" height=\"37.9375\" rx=\"10\" ry=\"10\" style=\"stroke: #F8F8F8; stroke-width: 1.5;\" width=\"210\" x=\"40\" y=\"49\"/><rect fill=\"#F8F8F8\" height=\"10\" style=\"stroke: #F8F8F8; stroke-width: 1.5;\" width=\"210\" x=\"40\" y=\"76.9375\"/><rect fill=\"none\" height=\"125\" id=\"E2\" rx=\"10\" ry=\"10\" style=\"stroke: #383838; stroke-width: 1.5;\" width=\"210\" x=\"40\" y=\"49\"/><text fill=\"#000000\" font-family=\"sans-serif\" font-size=\"12\" font-style=\"italic\" lengthAdjust=\"spacingAndGlyphs\" textLength=\"53\" x=\"118.5\" y=\"65.1387\">«action»</text><text fill=\"#000000\" font-family=\"sans-serif\" font-size=\"12\" lengthAdjust=\"spacingAndGlyphs\" textLength=\"8\" x=\"141\" y=\"79.1074\">a</text><line style=\"stroke: #383838; stroke-width: 1.0;\" x1=\"40\" x2=\"250\" y1=\"86.9375\" y2=\"86.9375\"/></a><g id=\"E1.E2.E3\"><a href=\"psysml:ba977e5b-bee9-4d3d-9976-80a8f9a7c434\" target=\"_top\" title=\"psysml:ba977e5b-bee9-4d3d-9976-80a8f9a7c434\" xlink:actuate=\"onRequest\" xlink:href=\"psysml:ba977e5b-bee9-4d3d-9976-80a8f9a7c434\" xlink:show=\"new\" xlink:title=\"psysml:ba977e5b-bee9-4d3d-9976-80a8f9a7c434\" xlink:type=\"simple\"><rect fill=\"#FFFFFF\" height=\"56.9063\" id=\"E3\" rx=\"10\" ry=\"10\" style=\"stroke: #383838; stroke-width: 1.5;\" width=\"178\" x=\"56\" y=\"100.5\"/><rect fill=\"#F8F8F8\" height=\"51.9063\" rx=\"10\" ry=\"10\" style=\"stroke: #F8F8F8; stroke-width: 1.5;\" width=\"178\" x=\"56\" y=\"100.5\"/><rect fill=\"#F8F8F8\" height=\"10\" style=\"stroke: #F8F8F8; stroke-width: 1.5;\" width=\"178\" x=\"56\" y=\"142.4063\"/><rect fill=\"none\" height=\"56.9063\" id=\"E3\" rx=\"10\" ry=\"10\" style=\"stroke: #383838; stroke-width: 1.5;\" width=\"178\" x=\"56\" y=\"100.5\"/><text fill=\"#000000\" font-family=\"sans-serif\" font-size=\"12\" font-style=\"italic\" lengthAdjust=\"spacingAndGlyphs\" textLength=\"53\" x=\"118.5\" y=\"116.6387\">«action»</text><text fill=\"#000000\" font-family=\"sans-serif\" font-size=\"12\" lengthAdjust=\"spacingAndGlyphs\" textLength=\"77\" x=\"106.5\" y=\"130.6074\">start: Action</text><text fill=\"#000000\" font-family=\"sans-serif\" font-size=\"12\" font-style=\"italic\" lengthAdjust=\"spacingAndGlyphs\" textLength=\"163\" x=\"61.5\" y=\"144.5762\">:&gt;&gt;Occurrence::startShot</text><text fill=\"#000000\" font-family=\"sans-serif\" font-size=\"12\" lengthAdjust=\"spacingAndGlyphs\" textLength=\"0\" x=\"228.5\" y=\"144.5762\"/></a></g><!--MD5=[0a6077267c315e05c1d3ea9dfbb91aa4]\n",
       "@startuml\r\n",
       "skinparam ranksep 8\r\n",
       "skinparam rectangle {\r\n",
       " backgroundColor<<block>> LightGreen\r\n",
       "}\r\n",
       "left to right direction\r\n",
       "skinparam monochrome true\r\n",
       "skinparam classbackgroundcolor white\r\n",
       "skinparam shadowing false\r\n",
       "skinparam wrapWidth 300\r\n",
       "hide circle\r\n",
       "\r\n",
       "package \"ActionTest\" as E1  [[psysml:470c72d5-baee-42c0-b878-d250ab3f6a02 ]]  {\r\n",
       "rec usage \"a\" as E2  <<(T,blue)action>> [[psysml:a7348084-8388-422f-b3f3-189098fa41d5 ]] {\r\n",
       "rec usage \"start: Action\\n//:>>Occurrence::startShot// \" as E3  <<(T,blue)action>> [[psysml:ba977e5b-bee9-4d3d-9976-80a8f9a7c434 ]] {\r\n",
       "}\r\n",
       "}\r\n",
       "}\r\n",
       "@enduml\r\n",
       "\n",
       "PlantUML version 1.2020.13(Sat Jun 13 12:26:38 UTC 2020)\n",
       "(EPL source distribution)\n",
       "Java Runtime: OpenJDK Runtime Environment\n",
       "JVM: OpenJDK 64-Bit Server VM\n",
       "Default Encoding: UTF-8\n",
       "Language: en\n",
       "Country: null\n",
       "--></g></svg>"
      ]
     },
     "execution_count": 19,
     "metadata": {},
     "output_type": "execute_result"
    }
   ],
   "source": [
    "%viz --style=\"LR\" --view=\"Interconnection\" \"ActionTest\""
   ]
  },
  {
   "cell_type": "code",
   "execution_count": 20,
   "id": "unlikely-emission",
   "metadata": {
    "execution": {
     "iopub.execute_input": "2021-03-26T12:08:34.606898Z",
     "iopub.status.busy": "2021-03-26T12:08:34.605982Z",
     "iopub.status.idle": "2021-03-26T12:08:34.631480Z",
     "shell.execute_reply": "2021-03-26T12:08:34.630771Z"
    }
   },
   "outputs": [
    {
     "data": {
      "image/svg+xml": [
       "<?xml version=\"1.0\" encoding=\"UTF-8\" standalone=\"no\"?><svg xmlns=\"http://www.w3.org/2000/svg\" xmlns:xlink=\"http://www.w3.org/1999/xlink\" contentScriptType=\"application/ecmascript\" contentStyleType=\"text/css\" height=\"129px\" preserveAspectRatio=\"none\" style=\"width:111px;height:129px;\" version=\"1.1\" viewBox=\"0 0 111 129\" width=\"111px\" zoomAndPan=\"magnify\"><defs/><g><!--MD5=[fbc87193dbaf4d95561dea2c320d4a47]\n",
       "cluster E1--><a href=\"psysml:a7348084-8388-422f-b3f3-189098fa41d5\" target=\"_top\" title=\"psysml:a7348084-8388-422f-b3f3-189098fa41d5\" xlink:actuate=\"onRequest\" xlink:href=\"psysml:a7348084-8388-422f-b3f3-189098fa41d5\" xlink:show=\"new\" xlink:title=\"psysml:a7348084-8388-422f-b3f3-189098fa41d5\" xlink:type=\"simple\"><rect fill=\"#FFFFFF\" height=\"111\" id=\"E1\" rx=\"10\" ry=\"10\" style=\"stroke: #383838; stroke-width: 1.5;\" width=\"92\" x=\"7\" y=\"7\"/><rect fill=\"#F8F8F8\" height=\"37.9375\" rx=\"10\" ry=\"10\" style=\"stroke: #F8F8F8; stroke-width: 1.5;\" width=\"92\" x=\"7\" y=\"7\"/><rect fill=\"#F8F8F8\" height=\"10\" style=\"stroke: #F8F8F8; stroke-width: 1.5;\" width=\"92\" x=\"7\" y=\"34.9375\"/><rect fill=\"none\" height=\"111\" id=\"E1\" rx=\"10\" ry=\"10\" style=\"stroke: #383838; stroke-width: 1.5;\" width=\"92\" x=\"7\" y=\"7\"/><text fill=\"#000000\" font-family=\"sans-serif\" font-size=\"12\" font-style=\"italic\" lengthAdjust=\"spacingAndGlyphs\" textLength=\"53\" x=\"26.5\" y=\"23.1387\">«action»</text><text fill=\"#000000\" font-family=\"sans-serif\" font-size=\"12\" lengthAdjust=\"spacingAndGlyphs\" textLength=\"8\" x=\"49\" y=\"37.1074\">a</text><line style=\"stroke: #383838; stroke-width: 1.0;\" x1=\"7\" x2=\"99\" y1=\"44.9375\" y2=\"44.9375\"/></a><g id=\"E1.E2\"><a href=\"psysml:ba977e5b-bee9-4d3d-9976-80a8f9a7c434\" target=\"_top\" title=\"psysml:ba977e5b-bee9-4d3d-9976-80a8f9a7c434\" xlink:actuate=\"onRequest\" xlink:href=\"psysml:ba977e5b-bee9-4d3d-9976-80a8f9a7c434\" xlink:show=\"new\" xlink:title=\"psysml:ba977e5b-bee9-4d3d-9976-80a8f9a7c434\" xlink:type=\"simple\"><rect fill=\"#FFFFFF\" height=\"42.9375\" id=\"E2\" rx=\"10\" ry=\"10\" style=\"stroke: #383838; stroke-width: 1.5;\" width=\"60\" x=\"23\" y=\"58.5\"/><rect fill=\"#F8F8F8\" height=\"37.9375\" rx=\"10\" ry=\"10\" style=\"stroke: #F8F8F8; stroke-width: 1.5;\" width=\"60\" x=\"23\" y=\"58.5\"/><rect fill=\"#F8F8F8\" height=\"10\" style=\"stroke: #F8F8F8; stroke-width: 1.5;\" width=\"60\" x=\"23\" y=\"86.4375\"/><rect fill=\"none\" height=\"42.9375\" id=\"E2\" rx=\"10\" ry=\"10\" style=\"stroke: #383838; stroke-width: 1.5;\" width=\"60\" x=\"23\" y=\"58.5\"/><text fill=\"#000000\" font-family=\"sans-serif\" font-size=\"12\" font-style=\"italic\" lengthAdjust=\"spacingAndGlyphs\" textLength=\"53\" x=\"26.5\" y=\"74.6387\">«action»</text><text fill=\"#000000\" font-family=\"sans-serif\" font-size=\"12\" lengthAdjust=\"spacingAndGlyphs\" textLength=\"30\" x=\"38\" y=\"88.6074\">start</text></a></g><!--MD5=[312ec204a06dca88649edb22c0eed7b7]\n",
       "@startuml\r\n",
       "skinparam ranksep 8\r\n",
       "left to right direction\r\n",
       "skinparam monochrome true\r\n",
       "skinparam classbackgroundcolor white\r\n",
       "skinparam shadowing false\r\n",
       "skinparam wrapWidth 300\r\n",
       "hide circle\r\n",
       "\r\n",
       "rec usage \"a\" as E1  <<(T,blue)action>> [[psysml:a7348084-8388-422f-b3f3-189098fa41d5 ]] {\r\n",
       "rec usage \"start\" as E2  <<(T,blue)action>> [[psysml:ba977e5b-bee9-4d3d-9976-80a8f9a7c434 ]] {\r\n",
       "}\r\n",
       "\r\n",
       "}\r\n",
       "\r\n",
       "@enduml\r\n",
       "\n",
       "PlantUML version 1.2020.13(Sat Jun 13 12:26:38 UTC 2020)\n",
       "(EPL source distribution)\n",
       "Java Runtime: OpenJDK Runtime Environment\n",
       "JVM: OpenJDK 64-Bit Server VM\n",
       "Default Encoding: UTF-8\n",
       "Language: en\n",
       "Country: null\n",
       "--></g></svg>"
      ]
     },
     "execution_count": 20,
     "metadata": {},
     "output_type": "execute_result"
    }
   ],
   "source": [
    "%viz --style=\"LR\" --view=\"Action\" \"ActionTest\""
   ]
  },
  {
   "cell_type": "code",
   "execution_count": 21,
   "id": "changing-saint",
   "metadata": {
    "execution": {
     "iopub.execute_input": "2021-03-26T12:08:34.682414Z",
     "iopub.status.busy": "2021-03-26T12:08:34.681838Z",
     "iopub.status.idle": "2021-03-26T12:08:34.727662Z",
     "shell.execute_reply": "2021-03-26T12:08:34.726899Z"
    }
   },
   "outputs": [
    {
     "data": {
      "image/svg+xml": [
       "<?xml version=\"1.0\" encoding=\"UTF-8\" standalone=\"no\"?><svg xmlns=\"http://www.w3.org/2000/svg\" xmlns:xlink=\"http://www.w3.org/1999/xlink\" contentScriptType=\"application/ecmascript\" contentStyleType=\"text/css\" height=\"157px\" preserveAspectRatio=\"none\" style=\"width:230px;height:157px;\" version=\"1.1\" viewBox=\"0 0 230 157\" width=\"230px\" zoomAndPan=\"magnify\"><defs/><g><!--MD5=[fbc87193dbaf4d95561dea2c320d4a47]\n",
       "cluster E1--><a href=\"psysml:470c72d5-baee-42c0-b878-d250ab3f6a02\" target=\"_top\" title=\"psysml:470c72d5-baee-42c0-b878-d250ab3f6a02\" xlink:actuate=\"onRequest\" xlink:href=\"psysml:470c72d5-baee-42c0-b878-d250ab3f6a02\" xlink:show=\"new\" xlink:title=\"psysml:470c72d5-baee-42c0-b878-d250ab3f6a02\" xlink:type=\"simple\"><polygon fill=\"#FFFFFF\" points=\"16,6,107,6,114,28.2969,208,28.2969,208,145,16,145,16,6\" style=\"stroke: #000000; stroke-width: 1.5;\"/><line style=\"stroke: #000000; stroke-width: 1.5;\" x1=\"16\" x2=\"114\" y1=\"28.2969\" y2=\"28.2969\"/><text fill=\"#000000\" font-family=\"sans-serif\" font-size=\"14\" font-weight=\"bold\" lengthAdjust=\"spacingAndGlyphs\" textLength=\"85\" x=\"20\" y=\"20.9951\">ActionTest</text></a><!--MD5=[b4997ac47864f28c2f74865a473b2911]\n",
       "class E2--><a href=\"psysml:a7348084-8388-422f-b3f3-189098fa41d5\" target=\"_top\" title=\"psysml:a7348084-8388-422f-b3f3-189098fa41d5\" xlink:actuate=\"onRequest\" xlink:href=\"psysml:a7348084-8388-422f-b3f3-189098fa41d5\" xlink:show=\"new\" xlink:title=\"psysml:a7348084-8388-422f-b3f3-189098fa41d5\" xlink:type=\"simple\"><rect fill=\"#FFFFFF\" height=\"88.3516\" id=\"E2\" rx=\"10\" ry=\"10\" style=\"stroke: #383838; stroke-width: 1.5;\" width=\"160\" x=\"32\" y=\"41\"/><text fill=\"#000000\" font-family=\"sans-serif\" font-size=\"12\" font-style=\"italic\" lengthAdjust=\"spacingAndGlyphs\" textLength=\"53\" x=\"85.5\" y=\"57.1387\">«action»</text><text fill=\"#000000\" font-family=\"sans-serif\" font-size=\"12\" lengthAdjust=\"spacingAndGlyphs\" textLength=\"8\" x=\"108\" y=\"71.1074\">a</text><line style=\"stroke: #383838; stroke-width: 1.5;\" x1=\"33\" x2=\"191\" y1=\"78.9375\" y2=\"78.9375\"/><text fill=\"#000000\" font-family=\"sans-serif\" font-size=\"11\" lengthAdjust=\"spacingAndGlyphs\" textLength=\"69\" x=\"38\" y=\"109.9526\">start: Action</text><text fill=\"#000000\" font-family=\"sans-serif\" font-size=\"11\" font-style=\"italic\" lengthAdjust=\"spacingAndGlyphs\" textLength=\"148\" x=\"38\" y=\"122.7573\">:&gt;&gt;Occurrence::startShot</text><line style=\"stroke: #383838; stroke-width: 1.0;\" x1=\"33\" x2=\"91.5\" y1=\"93.3398\" y2=\"93.3398\"/><text fill=\"#000000\" font-family=\"sans-serif\" font-size=\"11\" lengthAdjust=\"spacingAndGlyphs\" textLength=\"41\" x=\"91.5\" y=\"96.6479\">actions</text><line style=\"stroke: #383838; stroke-width: 1.0;\" x1=\"132.5\" x2=\"191\" y1=\"93.3398\" y2=\"93.3398\"/></a><!--MD5=[f7f0b43cd4598ae5f8246f1f59948986]\n",
       "@startuml\r\n",
       "left to right direction\r\n",
       "skinparam monochrome true\r\n",
       "skinparam classbackgroundcolor white\r\n",
       "skinparam shadowing false\r\n",
       "skinparam wrapWidth 300\r\n",
       "hide circle\r\n",
       "\r\n",
       "package \"ActionTest\" as E1  [[psysml:470c72d5-baee-42c0-b878-d250ab3f6a02 ]]  {\r\n",
       "comp usage \"a\" as E2  <<(T,blue)action>> [[psysml:a7348084-8388-422f-b3f3-189098fa41d5 ]] {\r\n",
       "- - actions - -\r\n",
       "start: Action\\n//:>>Occurrence::startShot// \r\n",
       "}\r\n",
       "}\r\n",
       "@enduml\r\n",
       "\n",
       "PlantUML version 1.2020.13(Sat Jun 13 12:26:38 UTC 2020)\n",
       "(EPL source distribution)\n",
       "Java Runtime: OpenJDK Runtime Environment\n",
       "JVM: OpenJDK 64-Bit Server VM\n",
       "Default Encoding: UTF-8\n",
       "Language: en\n",
       "Country: null\n",
       "--></g></svg>"
      ]
     },
     "execution_count": 21,
     "metadata": {},
     "output_type": "execute_result"
    }
   ],
   "source": [
    "%viz --style=\"LR\" --view=\"Sequence\" \"ActionTest\""
   ]
  },
  {
   "cell_type": "code",
   "execution_count": 22,
   "id": "prescription-democracy",
   "metadata": {
    "execution": {
     "iopub.execute_input": "2021-03-26T12:08:34.780478Z",
     "iopub.status.busy": "2021-03-26T12:08:34.779242Z",
     "iopub.status.idle": "2021-03-26T12:08:34.810133Z",
     "shell.execute_reply": "2021-03-26T12:08:34.808513Z"
    }
   },
   "outputs": [
    {
     "data": {
      "image/svg+xml": [
       "<?xml version=\"1.0\" encoding=\"UTF-8\" standalone=\"no\"?><svg xmlns=\"http://www.w3.org/2000/svg\" xmlns:xlink=\"http://www.w3.org/1999/xlink\" contentScriptType=\"application/ecmascript\" contentStyleType=\"text/css\" height=\"196px\" preserveAspectRatio=\"none\" style=\"width:178px;height:196px;\" version=\"1.1\" viewBox=\"0 0 178 196\" width=\"178px\" zoomAndPan=\"magnify\"><defs/><g><!--MD5=[fbc87193dbaf4d95561dea2c320d4a47]\n",
       "cluster E1--><a href=\"psysml:470c72d5-baee-42c0-b878-d250ab3f6a02\" target=\"_top\" title=\"psysml:470c72d5-baee-42c0-b878-d250ab3f6a02\" xlink:actuate=\"onRequest\" xlink:href=\"psysml:470c72d5-baee-42c0-b878-d250ab3f6a02\" xlink:show=\"new\" xlink:title=\"psysml:470c72d5-baee-42c0-b878-d250ab3f6a02\" xlink:type=\"simple\"><polygon fill=\"#FFFFFF\" points=\"16,6,107,6,114,28.2969,156,28.2969,156,184,16,184,16,6\" style=\"stroke: #000000; stroke-width: 1.5;\"/><line style=\"stroke: #000000; stroke-width: 1.5;\" x1=\"16\" x2=\"114\" y1=\"28.2969\" y2=\"28.2969\"/><text fill=\"#000000\" font-family=\"sans-serif\" font-size=\"14\" font-weight=\"bold\" lengthAdjust=\"spacingAndGlyphs\" textLength=\"85\" x=\"20\" y=\"20.9951\">ActionTest</text></a><!--MD5=[e4f7fae6ed58524ba242bb0b0d3be6b7]\n",
       "cluster E2--><a href=\"psysml:a7348084-8388-422f-b3f3-189098fa41d5\" target=\"_top\" title=\"psysml:a7348084-8388-422f-b3f3-189098fa41d5\" xlink:actuate=\"onRequest\" xlink:href=\"psysml:a7348084-8388-422f-b3f3-189098fa41d5\" xlink:show=\"new\" xlink:title=\"psysml:a7348084-8388-422f-b3f3-189098fa41d5\" xlink:type=\"simple\"><rect fill=\"#FFFFFF\" height=\"111\" id=\"E2\" rx=\"10\" ry=\"10\" style=\"stroke: #383838; stroke-width: 1.5;\" width=\"92\" x=\"40\" y=\"49\"/><rect fill=\"#F8F8F8\" height=\"37.9375\" rx=\"10\" ry=\"10\" style=\"stroke: #F8F8F8; stroke-width: 1.5;\" width=\"92\" x=\"40\" y=\"49\"/><rect fill=\"#F8F8F8\" height=\"10\" style=\"stroke: #F8F8F8; stroke-width: 1.5;\" width=\"92\" x=\"40\" y=\"76.9375\"/><rect fill=\"none\" height=\"111\" id=\"E2\" rx=\"10\" ry=\"10\" style=\"stroke: #383838; stroke-width: 1.5;\" width=\"92\" x=\"40\" y=\"49\"/><text fill=\"#000000\" font-family=\"sans-serif\" font-size=\"12\" font-style=\"italic\" lengthAdjust=\"spacingAndGlyphs\" textLength=\"53\" x=\"59.5\" y=\"65.1387\">«action»</text><text fill=\"#000000\" font-family=\"sans-serif\" font-size=\"12\" lengthAdjust=\"spacingAndGlyphs\" textLength=\"8\" x=\"82\" y=\"79.1074\">a</text><line style=\"stroke: #383838; stroke-width: 1.0;\" x1=\"40\" x2=\"132\" y1=\"86.9375\" y2=\"86.9375\"/></a><g id=\"E1.E2.E3\"><a href=\"psysml:ba977e5b-bee9-4d3d-9976-80a8f9a7c434\" target=\"_top\" title=\"psysml:ba977e5b-bee9-4d3d-9976-80a8f9a7c434\" xlink:actuate=\"onRequest\" xlink:href=\"psysml:ba977e5b-bee9-4d3d-9976-80a8f9a7c434\" xlink:show=\"new\" xlink:title=\"psysml:ba977e5b-bee9-4d3d-9976-80a8f9a7c434\" xlink:type=\"simple\"><rect fill=\"#FFFFFF\" height=\"42.9375\" id=\"E3\" rx=\"10\" ry=\"10\" style=\"stroke: #383838; stroke-width: 1.5;\" width=\"60\" x=\"56\" y=\"100.5\"/><rect fill=\"#F8F8F8\" height=\"37.9375\" rx=\"10\" ry=\"10\" style=\"stroke: #F8F8F8; stroke-width: 1.5;\" width=\"60\" x=\"56\" y=\"100.5\"/><rect fill=\"#F8F8F8\" height=\"10\" style=\"stroke: #F8F8F8; stroke-width: 1.5;\" width=\"60\" x=\"56\" y=\"128.4375\"/><rect fill=\"none\" height=\"42.9375\" id=\"E3\" rx=\"10\" ry=\"10\" style=\"stroke: #383838; stroke-width: 1.5;\" width=\"60\" x=\"56\" y=\"100.5\"/><text fill=\"#000000\" font-family=\"sans-serif\" font-size=\"12\" font-style=\"italic\" lengthAdjust=\"spacingAndGlyphs\" textLength=\"53\" x=\"59.5\" y=\"116.6387\">«action»</text><text fill=\"#000000\" font-family=\"sans-serif\" font-size=\"12\" lengthAdjust=\"spacingAndGlyphs\" textLength=\"30\" x=\"71\" y=\"130.6074\">start</text></a></g><!--MD5=[d1ba7d48c91893b2a1ff463de7f8a6d5]\n",
       "@startuml\r\n",
       "left to right direction\r\n",
       "skinparam monochrome true\r\n",
       "skinparam classbackgroundcolor white\r\n",
       "skinparam shadowing false\r\n",
       "skinparam wrapWidth 300\r\n",
       "hide circle\r\n",
       "\r\n",
       "package \"ActionTest\" as E1  [[psysml:470c72d5-baee-42c0-b878-d250ab3f6a02 ]]  {\r\n",
       "rec usage \"a\" as E2  <<(T,blue)action>> [[psysml:a7348084-8388-422f-b3f3-189098fa41d5 ]] {\r\n",
       "rec usage \"start\" as E3  <<(T,blue)action>> [[psysml:ba977e5b-bee9-4d3d-9976-80a8f9a7c434 ]] {\r\n",
       "}\r\n",
       "\r\n",
       "}\r\n",
       "\r\n",
       "}\r\n",
       "@enduml\r\n",
       "\n",
       "PlantUML version 1.2020.13(Sat Jun 13 12:26:38 UTC 2020)\n",
       "(EPL source distribution)\n",
       "Java Runtime: OpenJDK Runtime Environment\n",
       "JVM: OpenJDK 64-Bit Server VM\n",
       "Default Encoding: UTF-8\n",
       "Language: en\n",
       "Country: null\n",
       "--></g></svg>"
      ]
     },
     "execution_count": 22,
     "metadata": {},
     "output_type": "execute_result"
    }
   ],
   "source": [
    "%viz --style=\"LR\" --view=\"MIXED\" \"ActionTest\""
   ]
  },
  {
   "cell_type": "code",
   "execution_count": 23,
   "id": "circular-masters",
   "metadata": {
    "execution": {
     "iopub.execute_input": "2021-03-26T12:08:34.860935Z",
     "iopub.status.busy": "2021-03-26T12:08:34.860285Z",
     "iopub.status.idle": "2021-03-26T12:08:34.888236Z",
     "shell.execute_reply": "2021-03-26T12:08:34.887913Z"
    }
   },
   "outputs": [
    {
     "data": {
      "image/svg+xml": [
       "<?xml version=\"1.0\" encoding=\"UTF-8\" standalone=\"no\"?><svg xmlns=\"http://www.w3.org/2000/svg\" xmlns:xlink=\"http://www.w3.org/1999/xlink\" contentScriptType=\"application/ecmascript\" contentStyleType=\"text/css\" height=\"195px\" preserveAspectRatio=\"none\" style=\"width:178px;height:195px;\" version=\"1.1\" viewBox=\"0 0 178 195\" width=\"178px\" zoomAndPan=\"magnify\"><defs><filter height=\"300%\" id=\"f1sowov5k2tk92\" width=\"300%\" x=\"-1\" y=\"-1\"><feGaussianBlur result=\"blurOut\" stdDeviation=\"2.0\"/><feColorMatrix in=\"blurOut\" result=\"blurOut2\" type=\"matrix\" values=\"0 0 0 0 0 0 0 0 0 0 0 0 0 0 0 0 0 0 .4 0\"/><feOffset dx=\"4.0\" dy=\"4.0\" in=\"blurOut2\" result=\"blurOut3\"/><feBlend in=\"SourceGraphic\" in2=\"blurOut3\" mode=\"normal\"/></filter></defs><g><!--MD5=[fbc87193dbaf4d95561dea2c320d4a47]\n",
       "cluster E1--><a href=\"psysml:470c72d5-baee-42c0-b878-d250ab3f6a02\" target=\"_top\" title=\"psysml:470c72d5-baee-42c0-b878-d250ab3f6a02\" xlink:actuate=\"onRequest\" xlink:href=\"psysml:470c72d5-baee-42c0-b878-d250ab3f6a02\" xlink:show=\"new\" xlink:title=\"psysml:470c72d5-baee-42c0-b878-d250ab3f6a02\" xlink:type=\"simple\"><polygon fill=\"#FFFFFF\" filter=\"url(#f1sowov5k2tk92)\" points=\"16,6,107,6,114,28.2969,156,28.2969,156,183,16,183,16,6\" style=\"stroke: #000000; stroke-width: 1.5;\"/><line style=\"stroke: #000000; stroke-width: 1.5;\" x1=\"16\" x2=\"114\" y1=\"28.2969\" y2=\"28.2969\"/><text fill=\"#000000\" font-family=\"sans-serif\" font-size=\"14\" font-weight=\"bold\" lengthAdjust=\"spacingAndGlyphs\" textLength=\"85\" x=\"20\" y=\"20.9951\">ActionTest</text></a><!--MD5=[e4f7fae6ed58524ba242bb0b0d3be6b7]\n",
       "cluster E2--><a href=\"psysml:a7348084-8388-422f-b3f3-189098fa41d5\" target=\"_top\" title=\"psysml:a7348084-8388-422f-b3f3-189098fa41d5\" xlink:actuate=\"onRequest\" xlink:href=\"psysml:a7348084-8388-422f-b3f3-189098fa41d5\" xlink:show=\"new\" xlink:title=\"psysml:a7348084-8388-422f-b3f3-189098fa41d5\" xlink:type=\"simple\"><rect fill=\"#FFFFFF\" filter=\"url(#f1sowov5k2tk92)\" height=\"110\" id=\"E2\" rx=\"10\" ry=\"10\" style=\"stroke: #A80036; stroke-width: 1.5;\" width=\"92\" x=\"40\" y=\"49\"/><rect fill=\"#FEFECE\" height=\"37.9375\" rx=\"10\" ry=\"10\" style=\"stroke: #FEFECE; stroke-width: 1.5;\" width=\"92\" x=\"40\" y=\"49\"/><rect fill=\"#FEFECE\" height=\"10\" style=\"stroke: #FEFECE; stroke-width: 1.5;\" width=\"92\" x=\"40\" y=\"76.9375\"/><rect fill=\"none\" height=\"110\" id=\"E2\" rx=\"10\" ry=\"10\" style=\"stroke: #A80036; stroke-width: 1.5;\" width=\"92\" x=\"40\" y=\"49\"/><text fill=\"#000000\" font-family=\"sans-serif\" font-size=\"12\" font-style=\"italic\" lengthAdjust=\"spacingAndGlyphs\" textLength=\"53\" x=\"59.5\" y=\"65.1387\">«action»</text><text fill=\"#000000\" font-family=\"sans-serif\" font-size=\"12\" lengthAdjust=\"spacingAndGlyphs\" textLength=\"8\" x=\"82\" y=\"79.1074\">a</text><line style=\"stroke: #A80036; stroke-width: 1.0;\" x1=\"40\" x2=\"132\" y1=\"86.9375\" y2=\"86.9375\"/></a><g id=\"E1.E2.E3\"><a href=\"psysml:ba977e5b-bee9-4d3d-9976-80a8f9a7c434\" target=\"_top\" title=\"psysml:ba977e5b-bee9-4d3d-9976-80a8f9a7c434\" xlink:actuate=\"onRequest\" xlink:href=\"psysml:ba977e5b-bee9-4d3d-9976-80a8f9a7c434\" xlink:show=\"new\" xlink:title=\"psysml:ba977e5b-bee9-4d3d-9976-80a8f9a7c434\" xlink:type=\"simple\"><rect fill=\"#FEFECE\" filter=\"url(#f1sowov5k2tk92)\" height=\"42.9375\" id=\"E3\" rx=\"10\" ry=\"10\" style=\"stroke: #A80036; stroke-width: 1.5;\" width=\"60\" x=\"56\" y=\"100\"/><text fill=\"#000000\" font-family=\"sans-serif\" font-size=\"12\" font-style=\"italic\" lengthAdjust=\"spacingAndGlyphs\" textLength=\"53\" x=\"59.5\" y=\"116.1387\">«action»</text><text fill=\"#000000\" font-family=\"sans-serif\" font-size=\"12\" lengthAdjust=\"spacingAndGlyphs\" textLength=\"30\" x=\"71\" y=\"130.1074\">start</text></a></g><!--MD5=[5e990214e1b68b9ff750141240e4dd76]\n",
       "@startuml\r\n",
       "skinparam wrapWidth 300\r\n",
       "hide circle\r\n",
       "\r\n",
       "package \"ActionTest\" as E1  [[psysml:470c72d5-baee-42c0-b878-d250ab3f6a02 ]]  {\r\n",
       "rec usage \"a\" as E2  <<(T,blue)action>> [[psysml:a7348084-8388-422f-b3f3-189098fa41d5 ]] {\r\n",
       "rec usage \"start\" as E3  <<(T,blue)action>> [[psysml:ba977e5b-bee9-4d3d-9976-80a8f9a7c434 ]] {\r\n",
       "}\r\n",
       "\r\n",
       "}\r\n",
       "\r\n",
       "}\r\n",
       "@enduml\r\n",
       "\n",
       "PlantUML version 1.2020.13(Sat Jun 13 12:26:38 UTC 2020)\n",
       "(EPL source distribution)\n",
       "Java Runtime: OpenJDK Runtime Environment\n",
       "JVM: OpenJDK 64-Bit Server VM\n",
       "Default Encoding: UTF-8\n",
       "Language: en\n",
       "Country: null\n",
       "--></g></svg>"
      ]
     },
     "execution_count": 23,
     "metadata": {},
     "output_type": "execute_result"
    }
   ],
   "source": [
    "%viz --style=\"STDCOLOR\" --view=\"Default\" \"ActionTest\""
   ]
  },
  {
   "cell_type": "code",
   "execution_count": 24,
   "id": "impossible-invalid",
   "metadata": {
    "execution": {
     "iopub.execute_input": "2021-03-26T12:08:34.940471Z",
     "iopub.status.busy": "2021-03-26T12:08:34.939793Z",
     "iopub.status.idle": "2021-03-26T12:08:35.005007Z",
     "shell.execute_reply": "2021-03-26T12:08:35.004149Z"
    }
   },
   "outputs": [
    {
     "data": {
      "image/svg+xml": [
       "<?xml version=\"1.0\" encoding=\"UTF-8\" standalone=\"no\"?><svg xmlns=\"http://www.w3.org/2000/svg\" xmlns:xlink=\"http://www.w3.org/1999/xlink\" contentScriptType=\"application/ecmascript\" contentStyleType=\"text/css\" height=\"145px\" preserveAspectRatio=\"none\" style=\"width:298px;height:145px;\" version=\"1.1\" viewBox=\"0 0 298 145\" width=\"298px\" zoomAndPan=\"magnify\"><defs><filter height=\"300%\" id=\"f1d1j2ugcdu9t1\" width=\"300%\" x=\"-1\" y=\"-1\"><feGaussianBlur result=\"blurOut\" stdDeviation=\"2.0\"/><feColorMatrix in=\"blurOut\" result=\"blurOut2\" type=\"matrix\" values=\"0 0 0 0 0 0 0 0 0 0 0 0 0 0 0 0 0 0 .4 0\"/><feOffset dx=\"4.0\" dy=\"4.0\" in=\"blurOut2\" result=\"blurOut3\"/><feBlend in=\"SourceGraphic\" in2=\"blurOut3\" mode=\"normal\"/></filter></defs><g><!--MD5=[fbc87193dbaf4d95561dea2c320d4a47]\n",
       "cluster E1--><a href=\"psysml:470c72d5-baee-42c0-b878-d250ab3f6a02\" target=\"_top\" title=\"psysml:470c72d5-baee-42c0-b878-d250ab3f6a02\" xlink:actuate=\"onRequest\" xlink:href=\"psysml:470c72d5-baee-42c0-b878-d250ab3f6a02\" xlink:show=\"new\" xlink:title=\"psysml:470c72d5-baee-42c0-b878-d250ab3f6a02\" xlink:type=\"simple\"><polygon fill=\"#FFFFFF\" filter=\"url(#f1d1j2ugcdu9t1)\" points=\"16,6,107,6,114,28.2969,276,28.2969,276,133,16,133,16,6\" style=\"stroke: #000000; stroke-width: 1.5;\"/><line style=\"stroke: #000000; stroke-width: 1.5;\" x1=\"16\" x2=\"114\" y1=\"28.2969\" y2=\"28.2969\"/><text fill=\"#000000\" font-family=\"sans-serif\" font-size=\"14\" font-weight=\"bold\" lengthAdjust=\"spacingAndGlyphs\" textLength=\"85\" x=\"20\" y=\"20.9951\">ActionTest</text></a><!--MD5=[b4997ac47864f28c2f74865a473b2911]\n",
       "class E2--><a href=\"psysml:a7348084-8388-422f-b3f3-189098fa41d5\" target=\"_top\" title=\"psysml:a7348084-8388-422f-b3f3-189098fa41d5\" xlink:actuate=\"onRequest\" xlink:href=\"psysml:a7348084-8388-422f-b3f3-189098fa41d5\" xlink:show=\"new\" xlink:title=\"psysml:a7348084-8388-422f-b3f3-189098fa41d5\" xlink:type=\"simple\"><rect fill=\"#FEFECE\" filter=\"url(#f1d1j2ugcdu9t1)\" height=\"76.4922\" id=\"E2\" rx=\"10\" ry=\"10\" style=\"stroke: #A80036; stroke-width: 1.5;\" width=\"228\" x=\"32\" y=\"41\"/><text fill=\"#000000\" font-family=\"sans-serif\" font-size=\"12\" font-style=\"italic\" lengthAdjust=\"spacingAndGlyphs\" textLength=\"53\" x=\"119.5\" y=\"57.1387\">«action»</text><text fill=\"#000000\" font-family=\"sans-serif\" font-size=\"12\" lengthAdjust=\"spacingAndGlyphs\" textLength=\"8\" x=\"142\" y=\"71.1074\">a</text><line style=\"stroke: #A80036; stroke-width: 1.5;\" x1=\"33\" x2=\"259\" y1=\"78.9375\" y2=\"78.9375\"/><path d=\"M39.9167,100.6589 L39.9167,109.8255 L40.8333,109.8255 L40.8333,100.6589 M43.5833,100.6589 L43.5833,109.8255 L50.9167,105.2422 L43.5833,100.6589 L44.5,102.0339 L49.5417,105.2422 L44.5,108.4505 L44.5,102.0339 \" fill=\"#000000\" style=\"stroke: ; stroke-width: 0.0; stroke-dasharray: ;\"/><text fill=\"#000000\" font-family=\"sans-serif\" font-size=\"11\" lengthAdjust=\"spacingAndGlyphs\" textLength=\"69\" x=\"55\" y=\"110.8979\">start: Action</text><text fill=\"#000000\" font-family=\"sans-serif\" font-size=\"11\" lengthAdjust=\"spacingAndGlyphs\" text-decoration=\"line-through\" textLength=\"126\" x=\"128\" y=\"110.8979\">Occurrence::startShot</text><line style=\"stroke: #A80036; stroke-width: 1.0;\" x1=\"33\" x2=\"125.5\" y1=\"93.3398\" y2=\"93.3398\"/><text fill=\"#000000\" font-family=\"sans-serif\" font-size=\"11\" lengthAdjust=\"spacingAndGlyphs\" textLength=\"41\" x=\"125.5\" y=\"96.6479\">actions</text><line style=\"stroke: #A80036; stroke-width: 1.0;\" x1=\"166.5\" x2=\"259\" y1=\"93.3398\" y2=\"93.3398\"/></a><!--MD5=[acc133212a1b70e87912e324494e4fa7]\n",
       "@startuml\r\n",
       "skinparam wrapWidth 300\r\n",
       "hide circle\r\n",
       "\r\n",
       "package \"ActionTest\" as E1  [[psysml:470c72d5-baee-42c0-b878-d250ab3f6a02 ]]  {\r\n",
       "comp usage \"a\" as E2  <<(T,blue)action>> [[psysml:a7348084-8388-422f-b3f3-189098fa41d5 ]] {\r\n",
       "- - actions - -\r\n",
       "<&bar-trig> start: Action <s>Occurrence::startShot</s>\r\n",
       "}\r\n",
       "}\r\n",
       "@enduml\r\n",
       "\n",
       "PlantUML version 1.2020.13(Sat Jun 13 12:26:38 UTC 2020)\n",
       "(EPL source distribution)\n",
       "Java Runtime: OpenJDK Runtime Environment\n",
       "JVM: OpenJDK 64-Bit Server VM\n",
       "Default Encoding: UTF-8\n",
       "Language: en\n",
       "Country: null\n",
       "--></g></svg>"
      ]
     },
     "execution_count": 24,
     "metadata": {},
     "output_type": "execute_result"
    }
   ],
   "source": [
    "%viz --style=\"STDCOLOR\" --view=\"Tree\" \"ActionTest\""
   ]
  },
  {
   "cell_type": "code",
   "execution_count": 25,
   "id": "another-administrator",
   "metadata": {
    "execution": {
     "iopub.execute_input": "2021-03-26T12:08:35.055577Z",
     "iopub.status.busy": "2021-03-26T12:08:35.054726Z",
     "iopub.status.idle": "2021-03-26T12:08:35.063879Z",
     "shell.execute_reply": "2021-03-26T12:08:35.063537Z"
    }
   },
   "outputs": [
    {
     "data": {
      "image/svg+xml": [
       "<?xml version=\"1.0\" encoding=\"UTF-8\" standalone=\"no\"?><svg xmlns=\"http://www.w3.org/2000/svg\" xmlns:xlink=\"http://www.w3.org/1999/xlink\" contentScriptType=\"application/ecmascript\" contentStyleType=\"text/css\" height=\"12px\" preserveAspectRatio=\"none\" style=\"width:12px;height:12px;\" version=\"1.1\" viewBox=\"0 0 12 12\" width=\"12px\" zoomAndPan=\"magnify\"><defs/><g><!--MD5=[aeeef50f102b80d730deb6443d14f702]\n",
       "@startuml\r\n",
       "skinparam wrapWidth 300\r\n",
       "hide circle\r\n",
       "\r\n",
       "@enduml\r\n",
       "\n",
       "PlantUML version 1.2020.13(Sat Jun 13 12:26:38 UTC 2020)\n",
       "(EPL source distribution)\n",
       "Java Runtime: OpenJDK Runtime Environment\n",
       "JVM: OpenJDK 64-Bit Server VM\n",
       "Default Encoding: UTF-8\n",
       "Language: en\n",
       "Country: null\n",
       "--></g></svg>"
      ]
     },
     "execution_count": 25,
     "metadata": {},
     "output_type": "execute_result"
    }
   ],
   "source": [
    "%viz --style=\"STDCOLOR\" --view=\"State\" \"ActionTest\""
   ]
  },
  {
   "cell_type": "code",
   "execution_count": 26,
   "id": "cognitive-novel",
   "metadata": {
    "execution": {
     "iopub.execute_input": "2021-03-26T12:08:35.115699Z",
     "iopub.status.busy": "2021-03-26T12:08:35.115044Z",
     "iopub.status.idle": "2021-03-26T12:08:35.143021Z",
     "shell.execute_reply": "2021-03-26T12:08:35.142330Z"
    }
   },
   "outputs": [
    {
     "data": {
      "image/svg+xml": [
       "<?xml version=\"1.0\" encoding=\"UTF-8\" standalone=\"no\"?><svg xmlns=\"http://www.w3.org/2000/svg\" xmlns:xlink=\"http://www.w3.org/1999/xlink\" contentScriptType=\"application/ecmascript\" contentStyleType=\"text/css\" height=\"196px\" preserveAspectRatio=\"none\" style=\"width:368px;height:196px;\" version=\"1.1\" viewBox=\"0 0 368 196\" width=\"368px\" zoomAndPan=\"magnify\"><defs><filter height=\"300%\" id=\"ffxyee1hov2le\" width=\"300%\" x=\"-1\" y=\"-1\"><feGaussianBlur result=\"blurOut\" stdDeviation=\"2.0\"/><feColorMatrix in=\"blurOut\" result=\"blurOut2\" type=\"matrix\" values=\"0 0 0 0 0 0 0 0 0 0 0 0 0 0 0 0 0 0 .4 0\"/><feOffset dx=\"4.0\" dy=\"4.0\" in=\"blurOut2\" result=\"blurOut3\"/><feBlend in=\"SourceGraphic\" in2=\"blurOut3\" mode=\"normal\"/></filter></defs><g><!--MD5=[fbc87193dbaf4d95561dea2c320d4a47]\n",
       "cluster E1--><a href=\"psysml:470c72d5-baee-42c0-b878-d250ab3f6a02\" target=\"_top\" title=\"psysml:470c72d5-baee-42c0-b878-d250ab3f6a02\" xlink:actuate=\"onRequest\" xlink:href=\"psysml:470c72d5-baee-42c0-b878-d250ab3f6a02\" xlink:show=\"new\" xlink:title=\"psysml:470c72d5-baee-42c0-b878-d250ab3f6a02\" xlink:type=\"simple\"><polygon fill=\"#FFFFFF\" filter=\"url(#ffxyee1hov2le)\" points=\"16,6,107,6,114,28.2969,346,28.2969,346,184,16,184,16,6\" style=\"stroke: #000000; stroke-width: 1.5;\"/><line style=\"stroke: #000000; stroke-width: 1.5;\" x1=\"16\" x2=\"114\" y1=\"28.2969\" y2=\"28.2969\"/><text fill=\"#000000\" font-family=\"sans-serif\" font-size=\"14\" font-weight=\"bold\" lengthAdjust=\"spacingAndGlyphs\" textLength=\"85\" x=\"20\" y=\"20.9951\">ActionTest</text></a><!--MD5=[e4f7fae6ed58524ba242bb0b0d3be6b7]\n",
       "cluster E2--><a href=\"psysml:a7348084-8388-422f-b3f3-189098fa41d5\" target=\"_top\" title=\"psysml:a7348084-8388-422f-b3f3-189098fa41d5\" xlink:actuate=\"onRequest\" xlink:href=\"psysml:a7348084-8388-422f-b3f3-189098fa41d5\" xlink:show=\"new\" xlink:title=\"psysml:a7348084-8388-422f-b3f3-189098fa41d5\" xlink:type=\"simple\"><rect fill=\"#FFFFFF\" filter=\"url(#ffxyee1hov2le)\" height=\"111\" id=\"E2\" rx=\"10\" ry=\"10\" style=\"stroke: #A80036; stroke-width: 1.5;\" width=\"282\" x=\"40\" y=\"49\"/><rect fill=\"#FEFECE\" height=\"37.9375\" rx=\"10\" ry=\"10\" style=\"stroke: #FEFECE; stroke-width: 1.5;\" width=\"282\" x=\"40\" y=\"49\"/><rect fill=\"#FEFECE\" height=\"10\" style=\"stroke: #FEFECE; stroke-width: 1.5;\" width=\"282\" x=\"40\" y=\"76.9375\"/><rect fill=\"none\" height=\"111\" id=\"E2\" rx=\"10\" ry=\"10\" style=\"stroke: #A80036; stroke-width: 1.5;\" width=\"282\" x=\"40\" y=\"49\"/><text fill=\"#000000\" font-family=\"sans-serif\" font-size=\"12\" font-style=\"italic\" lengthAdjust=\"spacingAndGlyphs\" textLength=\"53\" x=\"154.5\" y=\"65.1387\">«action»</text><text fill=\"#000000\" font-family=\"sans-serif\" font-size=\"12\" lengthAdjust=\"spacingAndGlyphs\" textLength=\"8\" x=\"177\" y=\"79.1074\">a</text><line style=\"stroke: #A80036; stroke-width: 1.0;\" x1=\"40\" x2=\"322\" y1=\"86.9375\" y2=\"86.9375\"/></a><g id=\"E1.E2.E3\"><a href=\"psysml:ba977e5b-bee9-4d3d-9976-80a8f9a7c434\" target=\"_top\" title=\"psysml:ba977e5b-bee9-4d3d-9976-80a8f9a7c434\" xlink:actuate=\"onRequest\" xlink:href=\"psysml:ba977e5b-bee9-4d3d-9976-80a8f9a7c434\" xlink:show=\"new\" xlink:title=\"psysml:ba977e5b-bee9-4d3d-9976-80a8f9a7c434\" xlink:type=\"simple\"><rect fill=\"#FEFECE\" filter=\"url(#ffxyee1hov2le)\" height=\"43.9688\" id=\"E3\" rx=\"10\" ry=\"10\" style=\"stroke: #A80036; stroke-width: 1.5;\" width=\"249\" x=\"56.5\" y=\"100\"/><text fill=\"#000000\" font-family=\"sans-serif\" font-size=\"12\" font-style=\"italic\" lengthAdjust=\"spacingAndGlyphs\" textLength=\"53\" x=\"154.5\" y=\"116.1387\">«action»</text><path d=\"M64,119.9688 L64,129.9688 L65,129.9688 L65,119.9688 M68,119.9688 L68,129.9688 L76,124.9688 L68,119.9688 L69,121.4688 L74.5,124.9688 L69,128.4688 L69,121.4688 \" fill=\"#000000\" style=\"stroke: ; stroke-width: 0.0; stroke-dasharray: ;\"/><text fill=\"#000000\" font-family=\"sans-serif\" font-size=\"12\" lengthAdjust=\"spacingAndGlyphs\" textLength=\"77\" x=\"80\" y=\"131.1387\">start: Action</text><text fill=\"#000000\" font-family=\"sans-serif\" font-size=\"12\" lengthAdjust=\"spacingAndGlyphs\" text-decoration=\"line-through\" textLength=\"139\" x=\"161\" y=\"131.1387\">Occurrence::startShot</text></a></g><!--MD5=[cfd8fbadab8212beaf3b9691cab10587]\n",
       "@startuml\r\n",
       "skinparam ranksep 8\r\n",
       "skinparam rectangle {\r\n",
       " backgroundColor<<block>> LightGreen\r\n",
       "}\r\n",
       "skinparam wrapWidth 300\r\n",
       "hide circle\r\n",
       "\r\n",
       "package \"ActionTest\" as E1  [[psysml:470c72d5-baee-42c0-b878-d250ab3f6a02 ]]  {\r\n",
       "rec usage \"a\" as E2  <<(T,blue)action>> [[psysml:a7348084-8388-422f-b3f3-189098fa41d5 ]] {\r\n",
       "rec usage \"<&bar-trig> start: Action <s>Occurrence::startShot</s>\" as E3  <<(T,blue)action>> [[psysml:ba977e5b-bee9-4d3d-9976-80a8f9a7c434 ]] {\r\n",
       "}\r\n",
       "}\r\n",
       "}\r\n",
       "@enduml\r\n",
       "\n",
       "PlantUML version 1.2020.13(Sat Jun 13 12:26:38 UTC 2020)\n",
       "(EPL source distribution)\n",
       "Java Runtime: OpenJDK Runtime Environment\n",
       "JVM: OpenJDK 64-Bit Server VM\n",
       "Default Encoding: UTF-8\n",
       "Language: en\n",
       "Country: null\n",
       "--></g></svg>"
      ]
     },
     "execution_count": 26,
     "metadata": {},
     "output_type": "execute_result"
    }
   ],
   "source": [
    "%viz --style=\"STDCOLOR\" --view=\"Interconnection\" \"ActionTest\""
   ]
  },
  {
   "cell_type": "code",
   "execution_count": 27,
   "id": "herbal-weight",
   "metadata": {
    "execution": {
     "iopub.execute_input": "2021-03-26T12:08:35.197003Z",
     "iopub.status.busy": "2021-03-26T12:08:35.195845Z",
     "iopub.status.idle": "2021-03-26T12:08:35.221465Z",
     "shell.execute_reply": "2021-03-26T12:08:35.220690Z"
    }
   },
   "outputs": [
    {
     "data": {
      "image/svg+xml": [
       "<?xml version=\"1.0\" encoding=\"UTF-8\" standalone=\"no\"?><svg xmlns=\"http://www.w3.org/2000/svg\" xmlns:xlink=\"http://www.w3.org/1999/xlink\" contentScriptType=\"application/ecmascript\" contentStyleType=\"text/css\" height=\"136px\" preserveAspectRatio=\"none\" style=\"width:118px;height:136px;\" version=\"1.1\" viewBox=\"0 0 118 136\" width=\"118px\" zoomAndPan=\"magnify\"><defs><filter height=\"300%\" id=\"flk4x71ud2tmi\" width=\"300%\" x=\"-1\" y=\"-1\"><feGaussianBlur result=\"blurOut\" stdDeviation=\"2.0\"/><feColorMatrix in=\"blurOut\" result=\"blurOut2\" type=\"matrix\" values=\"0 0 0 0 0 0 0 0 0 0 0 0 0 0 0 0 0 0 .4 0\"/><feOffset dx=\"4.0\" dy=\"4.0\" in=\"blurOut2\" result=\"blurOut3\"/><feBlend in=\"SourceGraphic\" in2=\"blurOut3\" mode=\"normal\"/></filter></defs><g><!--MD5=[fbc87193dbaf4d95561dea2c320d4a47]\n",
       "cluster E1--><a href=\"psysml:a7348084-8388-422f-b3f3-189098fa41d5\" target=\"_top\" title=\"psysml:a7348084-8388-422f-b3f3-189098fa41d5\" xlink:actuate=\"onRequest\" xlink:href=\"psysml:a7348084-8388-422f-b3f3-189098fa41d5\" xlink:show=\"new\" xlink:title=\"psysml:a7348084-8388-422f-b3f3-189098fa41d5\" xlink:type=\"simple\"><rect fill=\"#FFFFFF\" filter=\"url(#flk4x71ud2tmi)\" height=\"110\" id=\"E1\" rx=\"10\" ry=\"10\" style=\"stroke: #A80036; stroke-width: 1.5;\" width=\"92\" x=\"7\" y=\"7\"/><rect fill=\"#FEFECE\" height=\"37.9375\" rx=\"10\" ry=\"10\" style=\"stroke: #FEFECE; stroke-width: 1.5;\" width=\"92\" x=\"7\" y=\"7\"/><rect fill=\"#FEFECE\" height=\"10\" style=\"stroke: #FEFECE; stroke-width: 1.5;\" width=\"92\" x=\"7\" y=\"34.9375\"/><rect fill=\"none\" height=\"110\" id=\"E1\" rx=\"10\" ry=\"10\" style=\"stroke: #A80036; stroke-width: 1.5;\" width=\"92\" x=\"7\" y=\"7\"/><text fill=\"#000000\" font-family=\"sans-serif\" font-size=\"12\" font-style=\"italic\" lengthAdjust=\"spacingAndGlyphs\" textLength=\"53\" x=\"26.5\" y=\"23.1387\">«action»</text><text fill=\"#000000\" font-family=\"sans-serif\" font-size=\"12\" lengthAdjust=\"spacingAndGlyphs\" textLength=\"8\" x=\"49\" y=\"37.1074\">a</text><line style=\"stroke: #A80036; stroke-width: 1.0;\" x1=\"7\" x2=\"99\" y1=\"44.9375\" y2=\"44.9375\"/></a><g id=\"E1.E2\"><a href=\"psysml:ba977e5b-bee9-4d3d-9976-80a8f9a7c434\" target=\"_top\" title=\"psysml:ba977e5b-bee9-4d3d-9976-80a8f9a7c434\" xlink:actuate=\"onRequest\" xlink:href=\"psysml:ba977e5b-bee9-4d3d-9976-80a8f9a7c434\" xlink:show=\"new\" xlink:title=\"psysml:ba977e5b-bee9-4d3d-9976-80a8f9a7c434\" xlink:type=\"simple\"><rect fill=\"#FEFECE\" filter=\"url(#flk4x71ud2tmi)\" height=\"42.9375\" id=\"E2\" rx=\"10\" ry=\"10\" style=\"stroke: #A80036; stroke-width: 1.5;\" width=\"60\" x=\"23\" y=\"58\"/><text fill=\"#000000\" font-family=\"sans-serif\" font-size=\"12\" font-style=\"italic\" lengthAdjust=\"spacingAndGlyphs\" textLength=\"53\" x=\"26.5\" y=\"74.1387\">«action»</text><text fill=\"#000000\" font-family=\"sans-serif\" font-size=\"12\" lengthAdjust=\"spacingAndGlyphs\" textLength=\"30\" x=\"38\" y=\"88.1074\">start</text></a></g><!--MD5=[f2c05dcbda8254b666f0a65b3b70a9aa]\n",
       "@startuml\r\n",
       "skinparam ranksep 8\r\n",
       "skinparam wrapWidth 300\r\n",
       "hide circle\r\n",
       "\r\n",
       "rec usage \"a\" as E1  <<(T,blue)action>> [[psysml:a7348084-8388-422f-b3f3-189098fa41d5 ]] {\r\n",
       "rec usage \"start\" as E2  <<(T,blue)action>> [[psysml:ba977e5b-bee9-4d3d-9976-80a8f9a7c434 ]] {\r\n",
       "}\r\n",
       "\r\n",
       "}\r\n",
       "\r\n",
       "@enduml\r\n",
       "\n",
       "PlantUML version 1.2020.13(Sat Jun 13 12:26:38 UTC 2020)\n",
       "(EPL source distribution)\n",
       "Java Runtime: OpenJDK Runtime Environment\n",
       "JVM: OpenJDK 64-Bit Server VM\n",
       "Default Encoding: UTF-8\n",
       "Language: en\n",
       "Country: null\n",
       "--></g></svg>"
      ]
     },
     "execution_count": 27,
     "metadata": {},
     "output_type": "execute_result"
    }
   ],
   "source": [
    "%viz --style=\"STDCOLOR\" --view=\"Action\" \"ActionTest\""
   ]
  },
  {
   "cell_type": "code",
   "execution_count": 28,
   "id": "rapid-fountain",
   "metadata": {
    "execution": {
     "iopub.execute_input": "2021-03-26T12:08:35.273657Z",
     "iopub.status.busy": "2021-03-26T12:08:35.272628Z",
     "iopub.status.idle": "2021-03-26T12:08:35.327851Z",
     "shell.execute_reply": "2021-03-26T12:08:35.328200Z"
    }
   },
   "outputs": [
    {
     "data": {
      "image/svg+xml": [
       "<?xml version=\"1.0\" encoding=\"UTF-8\" standalone=\"no\"?><svg xmlns=\"http://www.w3.org/2000/svg\" xmlns:xlink=\"http://www.w3.org/1999/xlink\" contentScriptType=\"application/ecmascript\" contentStyleType=\"text/css\" height=\"145px\" preserveAspectRatio=\"none\" style=\"width:298px;height:145px;\" version=\"1.1\" viewBox=\"0 0 298 145\" width=\"298px\" zoomAndPan=\"magnify\"><defs><filter height=\"300%\" id=\"f1d1j2ugcdu9t1\" width=\"300%\" x=\"-1\" y=\"-1\"><feGaussianBlur result=\"blurOut\" stdDeviation=\"2.0\"/><feColorMatrix in=\"blurOut\" result=\"blurOut2\" type=\"matrix\" values=\"0 0 0 0 0 0 0 0 0 0 0 0 0 0 0 0 0 0 .4 0\"/><feOffset dx=\"4.0\" dy=\"4.0\" in=\"blurOut2\" result=\"blurOut3\"/><feBlend in=\"SourceGraphic\" in2=\"blurOut3\" mode=\"normal\"/></filter></defs><g><!--MD5=[fbc87193dbaf4d95561dea2c320d4a47]\n",
       "cluster E1--><a href=\"psysml:470c72d5-baee-42c0-b878-d250ab3f6a02\" target=\"_top\" title=\"psysml:470c72d5-baee-42c0-b878-d250ab3f6a02\" xlink:actuate=\"onRequest\" xlink:href=\"psysml:470c72d5-baee-42c0-b878-d250ab3f6a02\" xlink:show=\"new\" xlink:title=\"psysml:470c72d5-baee-42c0-b878-d250ab3f6a02\" xlink:type=\"simple\"><polygon fill=\"#FFFFFF\" filter=\"url(#f1d1j2ugcdu9t1)\" points=\"16,6,107,6,114,28.2969,276,28.2969,276,133,16,133,16,6\" style=\"stroke: #000000; stroke-width: 1.5;\"/><line style=\"stroke: #000000; stroke-width: 1.5;\" x1=\"16\" x2=\"114\" y1=\"28.2969\" y2=\"28.2969\"/><text fill=\"#000000\" font-family=\"sans-serif\" font-size=\"14\" font-weight=\"bold\" lengthAdjust=\"spacingAndGlyphs\" textLength=\"85\" x=\"20\" y=\"20.9951\">ActionTest</text></a><!--MD5=[b4997ac47864f28c2f74865a473b2911]\n",
       "class E2--><a href=\"psysml:a7348084-8388-422f-b3f3-189098fa41d5\" target=\"_top\" title=\"psysml:a7348084-8388-422f-b3f3-189098fa41d5\" xlink:actuate=\"onRequest\" xlink:href=\"psysml:a7348084-8388-422f-b3f3-189098fa41d5\" xlink:show=\"new\" xlink:title=\"psysml:a7348084-8388-422f-b3f3-189098fa41d5\" xlink:type=\"simple\"><rect fill=\"#FEFECE\" filter=\"url(#f1d1j2ugcdu9t1)\" height=\"76.4922\" id=\"E2\" rx=\"10\" ry=\"10\" style=\"stroke: #A80036; stroke-width: 1.5;\" width=\"228\" x=\"32\" y=\"41\"/><text fill=\"#000000\" font-family=\"sans-serif\" font-size=\"12\" font-style=\"italic\" lengthAdjust=\"spacingAndGlyphs\" textLength=\"53\" x=\"119.5\" y=\"57.1387\">«action»</text><text fill=\"#000000\" font-family=\"sans-serif\" font-size=\"12\" lengthAdjust=\"spacingAndGlyphs\" textLength=\"8\" x=\"142\" y=\"71.1074\">a</text><line style=\"stroke: #A80036; stroke-width: 1.5;\" x1=\"33\" x2=\"259\" y1=\"78.9375\" y2=\"78.9375\"/><path d=\"M39.9167,100.6589 L39.9167,109.8255 L40.8333,109.8255 L40.8333,100.6589 M43.5833,100.6589 L43.5833,109.8255 L50.9167,105.2422 L43.5833,100.6589 L44.5,102.0339 L49.5417,105.2422 L44.5,108.4505 L44.5,102.0339 \" fill=\"#000000\" style=\"stroke: ; stroke-width: 0.0; stroke-dasharray: ;\"/><text fill=\"#000000\" font-family=\"sans-serif\" font-size=\"11\" lengthAdjust=\"spacingAndGlyphs\" textLength=\"69\" x=\"55\" y=\"110.8979\">start: Action</text><text fill=\"#000000\" font-family=\"sans-serif\" font-size=\"11\" lengthAdjust=\"spacingAndGlyphs\" text-decoration=\"line-through\" textLength=\"126\" x=\"128\" y=\"110.8979\">Occurrence::startShot</text><line style=\"stroke: #A80036; stroke-width: 1.0;\" x1=\"33\" x2=\"125.5\" y1=\"93.3398\" y2=\"93.3398\"/><text fill=\"#000000\" font-family=\"sans-serif\" font-size=\"11\" lengthAdjust=\"spacingAndGlyphs\" textLength=\"41\" x=\"125.5\" y=\"96.6479\">actions</text><line style=\"stroke: #A80036; stroke-width: 1.0;\" x1=\"166.5\" x2=\"259\" y1=\"93.3398\" y2=\"93.3398\"/></a><!--MD5=[acc133212a1b70e87912e324494e4fa7]\n",
       "@startuml\r\n",
       "skinparam wrapWidth 300\r\n",
       "hide circle\r\n",
       "\r\n",
       "package \"ActionTest\" as E1  [[psysml:470c72d5-baee-42c0-b878-d250ab3f6a02 ]]  {\r\n",
       "comp usage \"a\" as E2  <<(T,blue)action>> [[psysml:a7348084-8388-422f-b3f3-189098fa41d5 ]] {\r\n",
       "- - actions - -\r\n",
       "<&bar-trig> start: Action <s>Occurrence::startShot</s>\r\n",
       "}\r\n",
       "}\r\n",
       "@enduml\r\n",
       "\n",
       "PlantUML version 1.2020.13(Sat Jun 13 12:26:38 UTC 2020)\n",
       "(EPL source distribution)\n",
       "Java Runtime: OpenJDK Runtime Environment\n",
       "JVM: OpenJDK 64-Bit Server VM\n",
       "Default Encoding: UTF-8\n",
       "Language: en\n",
       "Country: null\n",
       "--></g></svg>"
      ]
     },
     "execution_count": 28,
     "metadata": {},
     "output_type": "execute_result"
    }
   ],
   "source": [
    "%viz --style=\"STDCOLOR\" --view=\"Sequence\" \"ActionTest\""
   ]
  },
  {
   "cell_type": "code",
   "execution_count": 29,
   "id": "buried-sweet",
   "metadata": {
    "execution": {
     "iopub.execute_input": "2021-03-26T12:08:35.381634Z",
     "iopub.status.busy": "2021-03-26T12:08:35.380967Z",
     "iopub.status.idle": "2021-03-26T12:08:35.409916Z",
     "shell.execute_reply": "2021-03-26T12:08:35.409470Z"
    }
   },
   "outputs": [
    {
     "data": {
      "image/svg+xml": [
       "<?xml version=\"1.0\" encoding=\"UTF-8\" standalone=\"no\"?><svg xmlns=\"http://www.w3.org/2000/svg\" xmlns:xlink=\"http://www.w3.org/1999/xlink\" contentScriptType=\"application/ecmascript\" contentStyleType=\"text/css\" height=\"195px\" preserveAspectRatio=\"none\" style=\"width:178px;height:195px;\" version=\"1.1\" viewBox=\"0 0 178 195\" width=\"178px\" zoomAndPan=\"magnify\"><defs><filter height=\"300%\" id=\"f1sowov5k2tk92\" width=\"300%\" x=\"-1\" y=\"-1\"><feGaussianBlur result=\"blurOut\" stdDeviation=\"2.0\"/><feColorMatrix in=\"blurOut\" result=\"blurOut2\" type=\"matrix\" values=\"0 0 0 0 0 0 0 0 0 0 0 0 0 0 0 0 0 0 .4 0\"/><feOffset dx=\"4.0\" dy=\"4.0\" in=\"blurOut2\" result=\"blurOut3\"/><feBlend in=\"SourceGraphic\" in2=\"blurOut3\" mode=\"normal\"/></filter></defs><g><!--MD5=[fbc87193dbaf4d95561dea2c320d4a47]\n",
       "cluster E1--><a href=\"psysml:470c72d5-baee-42c0-b878-d250ab3f6a02\" target=\"_top\" title=\"psysml:470c72d5-baee-42c0-b878-d250ab3f6a02\" xlink:actuate=\"onRequest\" xlink:href=\"psysml:470c72d5-baee-42c0-b878-d250ab3f6a02\" xlink:show=\"new\" xlink:title=\"psysml:470c72d5-baee-42c0-b878-d250ab3f6a02\" xlink:type=\"simple\"><polygon fill=\"#FFFFFF\" filter=\"url(#f1sowov5k2tk92)\" points=\"16,6,107,6,114,28.2969,156,28.2969,156,183,16,183,16,6\" style=\"stroke: #000000; stroke-width: 1.5;\"/><line style=\"stroke: #000000; stroke-width: 1.5;\" x1=\"16\" x2=\"114\" y1=\"28.2969\" y2=\"28.2969\"/><text fill=\"#000000\" font-family=\"sans-serif\" font-size=\"14\" font-weight=\"bold\" lengthAdjust=\"spacingAndGlyphs\" textLength=\"85\" x=\"20\" y=\"20.9951\">ActionTest</text></a><!--MD5=[e4f7fae6ed58524ba242bb0b0d3be6b7]\n",
       "cluster E2--><a href=\"psysml:a7348084-8388-422f-b3f3-189098fa41d5\" target=\"_top\" title=\"psysml:a7348084-8388-422f-b3f3-189098fa41d5\" xlink:actuate=\"onRequest\" xlink:href=\"psysml:a7348084-8388-422f-b3f3-189098fa41d5\" xlink:show=\"new\" xlink:title=\"psysml:a7348084-8388-422f-b3f3-189098fa41d5\" xlink:type=\"simple\"><rect fill=\"#FFFFFF\" filter=\"url(#f1sowov5k2tk92)\" height=\"110\" id=\"E2\" rx=\"10\" ry=\"10\" style=\"stroke: #A80036; stroke-width: 1.5;\" width=\"92\" x=\"40\" y=\"49\"/><rect fill=\"#FEFECE\" height=\"37.9375\" rx=\"10\" ry=\"10\" style=\"stroke: #FEFECE; stroke-width: 1.5;\" width=\"92\" x=\"40\" y=\"49\"/><rect fill=\"#FEFECE\" height=\"10\" style=\"stroke: #FEFECE; stroke-width: 1.5;\" width=\"92\" x=\"40\" y=\"76.9375\"/><rect fill=\"none\" height=\"110\" id=\"E2\" rx=\"10\" ry=\"10\" style=\"stroke: #A80036; stroke-width: 1.5;\" width=\"92\" x=\"40\" y=\"49\"/><text fill=\"#000000\" font-family=\"sans-serif\" font-size=\"12\" font-style=\"italic\" lengthAdjust=\"spacingAndGlyphs\" textLength=\"53\" x=\"59.5\" y=\"65.1387\">«action»</text><text fill=\"#000000\" font-family=\"sans-serif\" font-size=\"12\" lengthAdjust=\"spacingAndGlyphs\" textLength=\"8\" x=\"82\" y=\"79.1074\">a</text><line style=\"stroke: #A80036; stroke-width: 1.0;\" x1=\"40\" x2=\"132\" y1=\"86.9375\" y2=\"86.9375\"/></a><g id=\"E1.E2.E3\"><a href=\"psysml:ba977e5b-bee9-4d3d-9976-80a8f9a7c434\" target=\"_top\" title=\"psysml:ba977e5b-bee9-4d3d-9976-80a8f9a7c434\" xlink:actuate=\"onRequest\" xlink:href=\"psysml:ba977e5b-bee9-4d3d-9976-80a8f9a7c434\" xlink:show=\"new\" xlink:title=\"psysml:ba977e5b-bee9-4d3d-9976-80a8f9a7c434\" xlink:type=\"simple\"><rect fill=\"#FEFECE\" filter=\"url(#f1sowov5k2tk92)\" height=\"42.9375\" id=\"E3\" rx=\"10\" ry=\"10\" style=\"stroke: #A80036; stroke-width: 1.5;\" width=\"60\" x=\"56\" y=\"100\"/><text fill=\"#000000\" font-family=\"sans-serif\" font-size=\"12\" font-style=\"italic\" lengthAdjust=\"spacingAndGlyphs\" textLength=\"53\" x=\"59.5\" y=\"116.1387\">«action»</text><text fill=\"#000000\" font-family=\"sans-serif\" font-size=\"12\" lengthAdjust=\"spacingAndGlyphs\" textLength=\"30\" x=\"71\" y=\"130.1074\">start</text></a></g><!--MD5=[5e990214e1b68b9ff750141240e4dd76]\n",
       "@startuml\r\n",
       "skinparam wrapWidth 300\r\n",
       "hide circle\r\n",
       "\r\n",
       "package \"ActionTest\" as E1  [[psysml:470c72d5-baee-42c0-b878-d250ab3f6a02 ]]  {\r\n",
       "rec usage \"a\" as E2  <<(T,blue)action>> [[psysml:a7348084-8388-422f-b3f3-189098fa41d5 ]] {\r\n",
       "rec usage \"start\" as E3  <<(T,blue)action>> [[psysml:ba977e5b-bee9-4d3d-9976-80a8f9a7c434 ]] {\r\n",
       "}\r\n",
       "\r\n",
       "}\r\n",
       "\r\n",
       "}\r\n",
       "@enduml\r\n",
       "\n",
       "PlantUML version 1.2020.13(Sat Jun 13 12:26:38 UTC 2020)\n",
       "(EPL source distribution)\n",
       "Java Runtime: OpenJDK Runtime Environment\n",
       "JVM: OpenJDK 64-Bit Server VM\n",
       "Default Encoding: UTF-8\n",
       "Language: en\n",
       "Country: null\n",
       "--></g></svg>"
      ]
     },
     "execution_count": 29,
     "metadata": {},
     "output_type": "execute_result"
    }
   ],
   "source": [
    "%viz --style=\"STDCOLOR\" --view=\"MIXED\" \"ActionTest\""
   ]
  },
  {
   "cell_type": "code",
   "execution_count": 30,
   "id": "worse-france",
   "metadata": {
    "execution": {
     "iopub.execute_input": "2021-03-26T12:08:35.461918Z",
     "iopub.status.busy": "2021-03-26T12:08:35.461017Z",
     "iopub.status.idle": "2021-03-26T12:08:35.503269Z",
     "shell.execute_reply": "2021-03-26T12:08:35.502978Z"
    }
   },
   "outputs": [
    {
     "data": {
      "image/svg+xml": [
       "<?xml version=\"1.0\" encoding=\"UTF-8\" standalone=\"no\"?><svg xmlns=\"http://www.w3.org/2000/svg\" xmlns:xlink=\"http://www.w3.org/1999/xlink\" contentScriptType=\"application/ecmascript\" contentStyleType=\"text/css\" height=\"195px\" preserveAspectRatio=\"none\" style=\"width:204px;height:195px;\" version=\"1.1\" viewBox=\"0 0 204 195\" width=\"204px\" zoomAndPan=\"magnify\"><defs><filter height=\"300%\" id=\"f1g43w2olb235b\" width=\"300%\" x=\"-1\" y=\"-1\"><feGaussianBlur result=\"blurOut\" stdDeviation=\"2.0\"/><feColorMatrix in=\"blurOut\" result=\"blurOut2\" type=\"matrix\" values=\"0 0 0 0 0 0 0 0 0 0 0 0 0 0 0 0 0 0 .4 0\"/><feOffset dx=\"4.0\" dy=\"4.0\" in=\"blurOut2\" result=\"blurOut3\"/><feBlend in=\"SourceGraphic\" in2=\"blurOut3\" mode=\"normal\"/></filter></defs><g><!--MD5=[fbc87193dbaf4d95561dea2c320d4a47]\n",
       "cluster E1--><a href=\"psysml:470c72d5-baee-42c0-b878-d250ab3f6a02\" target=\"_top\" title=\"psysml:470c72d5-baee-42c0-b878-d250ab3f6a02\" xlink:actuate=\"onRequest\" xlink:href=\"psysml:470c72d5-baee-42c0-b878-d250ab3f6a02\" xlink:show=\"new\" xlink:title=\"psysml:470c72d5-baee-42c0-b878-d250ab3f6a02\" xlink:type=\"simple\"><polygon fill=\"#FFFFFF\" filter=\"url(#f1g43w2olb235b)\" points=\"16,6,107,6,114,28.2969,182,28.2969,182,183,16,183,16,6\" style=\"stroke: #000000; stroke-width: 1.5;\"/><line style=\"stroke: #000000; stroke-width: 1.5;\" x1=\"16\" x2=\"114\" y1=\"28.2969\" y2=\"28.2969\"/><text fill=\"#000000\" font-family=\"sans-serif\" font-size=\"14\" font-weight=\"bold\" lengthAdjust=\"spacingAndGlyphs\" textLength=\"85\" x=\"20\" y=\"20.9951\">ActionTest</text></a><!--MD5=[e4f7fae6ed58524ba242bb0b0d3be6b7]\n",
       "cluster E2--><a href=\"psysml:a7348084-8388-422f-b3f3-189098fa41d5\" target=\"_top\" title=\"psysml:a7348084-8388-422f-b3f3-189098fa41d5\" xlink:actuate=\"onRequest\" xlink:href=\"psysml:a7348084-8388-422f-b3f3-189098fa41d5\" xlink:show=\"new\" xlink:title=\"psysml:a7348084-8388-422f-b3f3-189098fa41d5\" xlink:type=\"simple\"><rect fill=\"#FFFFFF\" filter=\"url(#f1g43w2olb235b)\" height=\"110\" id=\"E2\" rx=\"10\" ry=\"10\" style=\"stroke: #A80036; stroke-width: 1.5;\" width=\"118\" x=\"40\" y=\"49\"/><rect fill=\"#FEFECE\" height=\"37.9375\" rx=\"10\" ry=\"10\" style=\"stroke: #FEFECE; stroke-width: 1.5;\" width=\"118\" x=\"40\" y=\"49\"/><rect fill=\"#FEFECE\" height=\"10\" style=\"stroke: #FEFECE; stroke-width: 1.5;\" width=\"118\" x=\"40\" y=\"76.9375\"/><rect fill=\"none\" height=\"110\" id=\"E2\" rx=\"10\" ry=\"10\" style=\"stroke: #A80036; stroke-width: 1.5;\" width=\"118\" x=\"40\" y=\"49\"/><text fill=\"#000000\" font-family=\"sans-serif\" font-size=\"12\" font-style=\"italic\" lengthAdjust=\"spacingAndGlyphs\" textLength=\"53\" x=\"72.5\" y=\"65.1387\">«action»</text><text fill=\"#000000\" font-family=\"sans-serif\" font-size=\"12\" lengthAdjust=\"spacingAndGlyphs\" textLength=\"8\" x=\"95\" y=\"79.1074\">a</text><line style=\"stroke: #A80036; stroke-width: 1.0;\" x1=\"40\" x2=\"158\" y1=\"86.9375\" y2=\"86.9375\"/></a><g id=\"E1.E2.E3\"><a href=\"psysml:ba977e5b-bee9-4d3d-9976-80a8f9a7c434\" target=\"_top\" title=\"psysml:ba977e5b-bee9-4d3d-9976-80a8f9a7c434\" xlink:actuate=\"onRequest\" xlink:href=\"psysml:ba977e5b-bee9-4d3d-9976-80a8f9a7c434\" xlink:show=\"new\" xlink:title=\"psysml:ba977e5b-bee9-4d3d-9976-80a8f9a7c434\" xlink:type=\"simple\"><rect fill=\"#FEFECE\" filter=\"url(#f1g43w2olb235b)\" height=\"42.9375\" id=\"E3\" rx=\"10\" ry=\"10\" style=\"stroke: #A80036; stroke-width: 1.5;\" width=\"86\" x=\"56\" y=\"100\"/><ellipse cx=\"73.25\" cy=\"118.9688\" fill=\"#FFA500\" rx=\"11\" ry=\"11\" style=\"stroke: #A80036; stroke-width: 1.0;\"/><path d=\"M69.125,120.8906 L69.125,113.0781 L71.5781,113.0781 L71.5781,121.5156 Q71.5781,122.4375 72.0469,122.9688 Q72.5313,123.5 73.3594,123.5 Q74.2031,123.5 74.6719,122.9688 Q75.1406,122.4375 75.1406,121.5156 L75.1406,113.0781 L77.5938,113.0781 L77.5938,120.8906 Q77.5938,123.4219 76.5938,124.5625 Q75.5938,125.7031 73.3594,125.7031 Q71.1406,125.7031 70.125,124.5625 Q69.125,123.4219 69.125,120.8906 Z \"/><text fill=\"#000000\" font-family=\"sans-serif\" font-size=\"12\" font-style=\"italic\" lengthAdjust=\"spacingAndGlyphs\" textLength=\"53\" x=\"85.75\" y=\"116.1387\">«action»</text><text fill=\"#000000\" font-family=\"sans-serif\" font-size=\"12\" lengthAdjust=\"spacingAndGlyphs\" textLength=\"30\" x=\"97.25\" y=\"130.1074\">start</text></a></g><!--MD5=[e438b58a50b54b9046ecdce5b7077a0d]\n",
       "@startuml\r\n",
       " \r\n",
       "package \"ActionTest\" as E1  [[psysml:470c72d5-baee-42c0-b878-d250ab3f6a02 ]]  {\r\n",
       "rec usage \"a\" as E2  <<(U,orange)action>> [[psysml:a7348084-8388-422f-b3f3-189098fa41d5 ]] {\r\n",
       "rec usage \"start\" as E3  <<(U,orange)action>> [[psysml:ba977e5b-bee9-4d3d-9976-80a8f9a7c434 ]] {\r\n",
       "}\r\n",
       "\r\n",
       "}\r\n",
       "\r\n",
       "}\r\n",
       "@enduml\r\n",
       "\n",
       "PlantUML version 1.2020.13(Sat Jun 13 12:26:38 UTC 2020)\n",
       "(EPL source distribution)\n",
       "Java Runtime: OpenJDK Runtime Environment\n",
       "JVM: OpenJDK 64-Bit Server VM\n",
       "Default Encoding: UTF-8\n",
       "Language: en\n",
       "Country: null\n",
       "--></g></svg>"
      ]
     },
     "execution_count": 30,
     "metadata": {},
     "output_type": "execute_result"
    }
   ],
   "source": [
    "%viz --style=\"PLANTUML\" --view=\"Default\" \"ActionTest\""
   ]
  },
  {
   "cell_type": "code",
   "execution_count": 31,
   "id": "architectural-anxiety",
   "metadata": {
    "execution": {
     "iopub.execute_input": "2021-03-26T12:08:35.556480Z",
     "iopub.status.busy": "2021-03-26T12:08:35.555562Z",
     "iopub.status.idle": "2021-03-26T12:08:35.600433Z",
     "shell.execute_reply": "2021-03-26T12:08:35.600096Z"
    }
   },
   "outputs": [
    {
     "data": {
      "image/svg+xml": [
       "<?xml version=\"1.0\" encoding=\"UTF-8\" standalone=\"no\"?><svg xmlns=\"http://www.w3.org/2000/svg\" xmlns:xlink=\"http://www.w3.org/1999/xlink\" contentScriptType=\"application/ecmascript\" contentStyleType=\"text/css\" height=\"157px\" preserveAspectRatio=\"none\" style=\"width:230px;height:157px;\" version=\"1.1\" viewBox=\"0 0 230 157\" width=\"230px\" zoomAndPan=\"magnify\"><defs><filter height=\"300%\" id=\"f19drtw3gjn7iq\" width=\"300%\" x=\"-1\" y=\"-1\"><feGaussianBlur result=\"blurOut\" stdDeviation=\"2.0\"/><feColorMatrix in=\"blurOut\" result=\"blurOut2\" type=\"matrix\" values=\"0 0 0 0 0 0 0 0 0 0 0 0 0 0 0 0 0 0 .4 0\"/><feOffset dx=\"4.0\" dy=\"4.0\" in=\"blurOut2\" result=\"blurOut3\"/><feBlend in=\"SourceGraphic\" in2=\"blurOut3\" mode=\"normal\"/></filter></defs><g><!--MD5=[fbc87193dbaf4d95561dea2c320d4a47]\n",
       "cluster E1--><a href=\"psysml:470c72d5-baee-42c0-b878-d250ab3f6a02\" target=\"_top\" title=\"psysml:470c72d5-baee-42c0-b878-d250ab3f6a02\" xlink:actuate=\"onRequest\" xlink:href=\"psysml:470c72d5-baee-42c0-b878-d250ab3f6a02\" xlink:show=\"new\" xlink:title=\"psysml:470c72d5-baee-42c0-b878-d250ab3f6a02\" xlink:type=\"simple\"><polygon fill=\"#FFFFFF\" filter=\"url(#f19drtw3gjn7iq)\" points=\"16,6,107,6,114,28.2969,208,28.2969,208,145,16,145,16,6\" style=\"stroke: #000000; stroke-width: 1.5;\"/><line style=\"stroke: #000000; stroke-width: 1.5;\" x1=\"16\" x2=\"114\" y1=\"28.2969\" y2=\"28.2969\"/><text fill=\"#000000\" font-family=\"sans-serif\" font-size=\"14\" font-weight=\"bold\" lengthAdjust=\"spacingAndGlyphs\" textLength=\"85\" x=\"20\" y=\"20.9951\">ActionTest</text></a><!--MD5=[b4997ac47864f28c2f74865a473b2911]\n",
       "class E2--><a href=\"psysml:a7348084-8388-422f-b3f3-189098fa41d5\" target=\"_top\" title=\"psysml:a7348084-8388-422f-b3f3-189098fa41d5\" xlink:actuate=\"onRequest\" xlink:href=\"psysml:a7348084-8388-422f-b3f3-189098fa41d5\" xlink:show=\"new\" xlink:title=\"psysml:a7348084-8388-422f-b3f3-189098fa41d5\" xlink:type=\"simple\"><rect fill=\"#FEFECE\" filter=\"url(#f19drtw3gjn7iq)\" height=\"88.3516\" id=\"E2\" rx=\"10\" ry=\"10\" style=\"stroke: #A80036; stroke-width: 1.5;\" width=\"160\" x=\"32\" y=\"41\"/><ellipse cx=\"83.25\" cy=\"59.9688\" fill=\"#FFA500\" rx=\"11\" ry=\"11\" style=\"stroke: #A80036; stroke-width: 1.0;\"/><path d=\"M79.125,61.8906 L79.125,54.0781 L81.5781,54.0781 L81.5781,62.5156 Q81.5781,63.4375 82.0469,63.9688 Q82.5313,64.5 83.3594,64.5 Q84.2031,64.5 84.6719,63.9688 Q85.1406,63.4375 85.1406,62.5156 L85.1406,54.0781 L87.5938,54.0781 L87.5938,61.8906 Q87.5938,64.4219 86.5938,65.5625 Q85.5938,66.7031 83.3594,66.7031 Q81.1406,66.7031 80.125,65.5625 Q79.125,64.4219 79.125,61.8906 Z \"/><text fill=\"#000000\" font-family=\"sans-serif\" font-size=\"12\" font-style=\"italic\" lengthAdjust=\"spacingAndGlyphs\" textLength=\"53\" x=\"101.75\" y=\"57.1387\">«action»</text><text fill=\"#000000\" font-family=\"sans-serif\" font-size=\"12\" lengthAdjust=\"spacingAndGlyphs\" textLength=\"8\" x=\"124.25\" y=\"71.1074\">a</text><line style=\"stroke: #A80036; stroke-width: 1.5;\" x1=\"33\" x2=\"191\" y1=\"78.9375\" y2=\"78.9375\"/><text fill=\"#000000\" font-family=\"sans-serif\" font-size=\"11\" lengthAdjust=\"spacingAndGlyphs\" textLength=\"69\" x=\"38\" y=\"109.9526\">start: Action</text><text fill=\"#000000\" font-family=\"sans-serif\" font-size=\"11\" font-style=\"italic\" lengthAdjust=\"spacingAndGlyphs\" textLength=\"148\" x=\"38\" y=\"122.7573\">:&gt;&gt;Occurrence::startShot</text><line style=\"stroke: #A80036; stroke-width: 1.0;\" x1=\"33\" x2=\"91.5\" y1=\"93.3398\" y2=\"93.3398\"/><text fill=\"#000000\" font-family=\"sans-serif\" font-size=\"11\" lengthAdjust=\"spacingAndGlyphs\" textLength=\"41\" x=\"91.5\" y=\"96.6479\">actions</text><line style=\"stroke: #A80036; stroke-width: 1.0;\" x1=\"132.5\" x2=\"191\" y1=\"93.3398\" y2=\"93.3398\"/></a><!--MD5=[1666496f5a8ebeda5846b0404a5b6abe]\n",
       "@startuml\r\n",
       " \r\n",
       "package \"ActionTest\" as E1  [[psysml:470c72d5-baee-42c0-b878-d250ab3f6a02 ]]  {\r\n",
       "comp usage \"a\" as E2  <<(U,orange)action>> [[psysml:a7348084-8388-422f-b3f3-189098fa41d5 ]] {\r\n",
       "- - actions - -\r\n",
       "start: Action\\n//:>>Occurrence::startShot// \r\n",
       "}\r\n",
       "}\r\n",
       "@enduml\r\n",
       "\n",
       "PlantUML version 1.2020.13(Sat Jun 13 12:26:38 UTC 2020)\n",
       "(EPL source distribution)\n",
       "Java Runtime: OpenJDK Runtime Environment\n",
       "JVM: OpenJDK 64-Bit Server VM\n",
       "Default Encoding: UTF-8\n",
       "Language: en\n",
       "Country: null\n",
       "--></g></svg>"
      ]
     },
     "execution_count": 31,
     "metadata": {},
     "output_type": "execute_result"
    }
   ],
   "source": [
    "%viz --style=\"PLANTUML\" --view=\"Tree\" \"ActionTest\""
   ]
  },
  {
   "cell_type": "code",
   "execution_count": 32,
   "id": "atomic-genome",
   "metadata": {
    "execution": {
     "iopub.execute_input": "2021-03-26T12:08:35.652577Z",
     "iopub.status.busy": "2021-03-26T12:08:35.651887Z",
     "iopub.status.idle": "2021-03-26T12:08:35.794235Z",
     "shell.execute_reply": "2021-03-26T12:08:35.792938Z"
    }
   },
   "outputs": [
    {
     "data": {
      "image/svg+xml": [
       "<?xml version=\"1.0\" encoding=\"UTF-8\" standalone=\"no\"?><svg xmlns=\"http://www.w3.org/2000/svg\" xmlns:xlink=\"http://www.w3.org/1999/xlink\" contentScriptType=\"application/ecmascript\" contentStyleType=\"text/css\" height=\"410px\" preserveAspectRatio=\"none\" style=\"width:603px;height:410px;background:#000000;\" version=\"1.1\" viewBox=\"0 0 603 410\" width=\"603px\" zoomAndPan=\"magnify\"><defs/><g><rect fill=\"#13080A\" height=\"1\" style=\"stroke: #13080A; stroke-width: 1.0;\" width=\"1\" x=\"0\" y=\"0\"/><rect fill=\"#FFFFFF\" height=\"53\" style=\"stroke: #FFFFFF; stroke-width: 1.0;\" width=\"602\" x=\"0\" y=\"0\"/><image height=\"53\" width=\"450\" x=\"1\" xlink:href=\"data:image/png;base64,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\" y=\"1\"/><rect fill=\"#FFFFFF\" height=\"205.5625\" style=\"stroke: #FFFFFF; stroke-width: 1.0;\" width=\"602\" x=\"0\" y=\"53\"/><text fill=\"#000000\" font-family=\"sans-serif\" font-size=\"12\" font-weight=\"bold\" lengthAdjust=\"spacingAndGlyphs\" textLength=\"159\" x=\"5\" y=\"69.1387\">Welcome to PlantUML!</text><text fill=\"#000000\" font-family=\"sans-serif\" font-size=\"12\" lengthAdjust=\"spacingAndGlyphs\" textLength=\"0\" x=\"9\" y=\"83.1074\"/><text fill=\"#000000\" font-family=\"sans-serif\" font-size=\"12\" lengthAdjust=\"spacingAndGlyphs\" textLength=\"293\" x=\"5\" y=\"97.0762\">If you use this software, you accept its license.</text><text fill=\"#000000\" font-family=\"sans-serif\" font-size=\"12\" lengthAdjust=\"spacingAndGlyphs\" textLength=\"107\" x=\"5\" y=\"111.0449\">(details by typing</text><text fill=\"#000000\" font-family=\"monospace\" font-size=\"12\" lengthAdjust=\"spacingAndGlyphs\" textLength=\"49\" x=\"116\" y=\"111.0449\">license</text><text fill=\"#000000\" font-family=\"sans-serif\" font-size=\"12\" lengthAdjust=\"spacingAndGlyphs\" textLength=\"56\" x=\"169\" y=\"111.0449\">keyword)</text><text fill=\"#000000\" font-family=\"sans-serif\" font-size=\"12\" lengthAdjust=\"spacingAndGlyphs\" textLength=\"0\" x=\"9\" y=\"125.0137\"/><text fill=\"#000000\" font-family=\"sans-serif\" font-size=\"12\" lengthAdjust=\"spacingAndGlyphs\" textLength=\"283\" x=\"5\" y=\"138.9824\">You can start with a simple UML Diagram like:</text><text fill=\"#000000\" font-family=\"sans-serif\" font-size=\"12\" lengthAdjust=\"spacingAndGlyphs\" textLength=\"0\" x=\"9\" y=\"152.9512\"/><text fill=\"#000000\" font-family=\"monospace\" font-size=\"12\" lengthAdjust=\"spacingAndGlyphs\" textLength=\"119\" x=\"5\" y=\"166.9199\">Bob-&gt;Alice: Hello</text><text fill=\"#000000\" font-family=\"sans-serif\" font-size=\"12\" lengthAdjust=\"spacingAndGlyphs\" textLength=\"0\" x=\"9\" y=\"180.8887\"/><text fill=\"#000000\" font-family=\"sans-serif\" font-size=\"12\" lengthAdjust=\"spacingAndGlyphs\" textLength=\"14\" x=\"5\" y=\"194.8574\">Or</text><text fill=\"#000000\" font-family=\"sans-serif\" font-size=\"12\" lengthAdjust=\"spacingAndGlyphs\" textLength=\"0\" x=\"9\" y=\"208.8262\"/><text fill=\"#000000\" font-family=\"monospace\" font-size=\"12\" lengthAdjust=\"spacingAndGlyphs\" textLength=\"91\" x=\"5\" y=\"222.7949\">class Example</text><text fill=\"#000000\" font-family=\"sans-serif\" font-size=\"12\" lengthAdjust=\"spacingAndGlyphs\" textLength=\"0\" x=\"9\" y=\"236.7637\"/><text fill=\"#000000\" font-family=\"sans-serif\" font-size=\"12\" lengthAdjust=\"spacingAndGlyphs\" textLength=\"349\" x=\"5\" y=\"250.7324\">You will find more information about PlantUML syntax on</text><text fill=\"#000000\" font-family=\"sans-serif\" font-size=\"12\" lengthAdjust=\"spacingAndGlyphs\" text-decoration=\"underline\" textLength=\"129\" x=\"358\" y=\"250.7324\">https://plantuml.com</text><image height=\"71\" width=\"80\" x=\"516\" xlink:href=\"data:image/png;base64,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\" y=\"59\"/><rect fill=\"#000000\" height=\"96.4844\" style=\"stroke: #000000; stroke-width: 1.0;\" width=\"602\" x=\"0\" y=\"258.5625\"/><rect fill=\"#33FF02\" height=\"21.2969\" style=\"stroke: #33FF02; stroke-width: 1.0;\" width=\"170\" x=\"5\" y=\"263.5625\"/><text fill=\"#000000\" font-family=\"sans-serif\" font-size=\"14\" font-weight=\"bold\" lengthAdjust=\"spacingAndGlyphs\" textLength=\"168\" x=\"6\" y=\"278.5625\">[From string (line 2) ]</text><text fill=\"#33FF02\" font-family=\"sans-serif\" font-size=\"14\" font-weight=\"bold\" lengthAdjust=\"spacingAndGlyphs\" textLength=\"0\" x=\"10\" y=\"298.8594\"/><text fill=\"#33FF02\" font-family=\"sans-serif\" font-size=\"14\" font-weight=\"bold\" lengthAdjust=\"spacingAndGlyphs\" textLength=\"79\" x=\"5\" y=\"315.1563\">@startuml</text><text fill=\"#33FF02\" font-family=\"sans-serif\" font-size=\"14\" font-weight=\"bold\" lengthAdjust=\"spacingAndGlyphs\" textLength=\"0\" x=\"10\" y=\"331.4531\"/><text fill=\"#FF0000\" font-family=\"sans-serif\" font-size=\"14\" font-weight=\"bold\" lengthAdjust=\"spacingAndGlyphs\" textLength=\"142\" x=\"10\" y=\"347.75\">Empty description</text><rect fill=\"#FFFFFF\" height=\"53\" style=\"stroke: #FFFFFF; stroke-width: 1.0;\" width=\"602\" x=\"0\" y=\"355.0469\"/><image height=\"53\" width=\"450\" x=\"1\" xlink:href=\"data:image/png;base64,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\" y=\"356.0469\"/><!--MD5=[f59edd8218d337f74d0c332fc6737304]\n",
       "@startuml\r\n",
       " \r\n",
       "@enduml\r\n",
       "\n",
       "PlantUML version 1.2020.13(Sat Jun 13 12:26:38 UTC 2020)\n",
       "(EPL source distribution)\n",
       "Java Runtime: OpenJDK Runtime Environment\n",
       "JVM: OpenJDK 64-Bit Server VM\n",
       "Default Encoding: UTF-8\n",
       "Language: en\n",
       "Country: null\n",
       "--></g></svg>"
      ]
     },
     "execution_count": 32,
     "metadata": {},
     "output_type": "execute_result"
    }
   ],
   "source": [
    "%viz --style=\"PLANTUML\" --view=\"State\" \"ActionTest\""
   ]
  },
  {
   "cell_type": "code",
   "execution_count": 33,
   "id": "serial-luther",
   "metadata": {
    "execution": {
     "iopub.execute_input": "2021-03-26T12:08:35.845249Z",
     "iopub.status.busy": "2021-03-26T12:08:35.844695Z",
     "iopub.status.idle": "2021-03-26T12:08:35.870227Z",
     "shell.execute_reply": "2021-03-26T12:08:35.869963Z"
    }
   },
   "outputs": [
    {
     "data": {
      "image/svg+xml": [
       "<?xml version=\"1.0\" encoding=\"UTF-8\" standalone=\"no\"?><svg xmlns=\"http://www.w3.org/2000/svg\" xmlns:xlink=\"http://www.w3.org/1999/xlink\" contentScriptType=\"application/ecmascript\" contentStyleType=\"text/css\" height=\"209px\" preserveAspectRatio=\"none\" style=\"width:322px;height:209px;\" version=\"1.1\" viewBox=\"0 0 322 209\" width=\"322px\" zoomAndPan=\"magnify\"><defs><filter height=\"300%\" id=\"f1x82xh29syc6o\" width=\"300%\" x=\"-1\" y=\"-1\"><feGaussianBlur result=\"blurOut\" stdDeviation=\"2.0\"/><feColorMatrix in=\"blurOut\" result=\"blurOut2\" type=\"matrix\" values=\"0 0 0 0 0 0 0 0 0 0 0 0 0 0 0 0 0 0 .4 0\"/><feOffset dx=\"4.0\" dy=\"4.0\" in=\"blurOut2\" result=\"blurOut3\"/><feBlend in=\"SourceGraphic\" in2=\"blurOut3\" mode=\"normal\"/></filter></defs><g><!--MD5=[fbc87193dbaf4d95561dea2c320d4a47]\n",
       "cluster E1--><a href=\"psysml:470c72d5-baee-42c0-b878-d250ab3f6a02\" target=\"_top\" title=\"psysml:470c72d5-baee-42c0-b878-d250ab3f6a02\" xlink:actuate=\"onRequest\" xlink:href=\"psysml:470c72d5-baee-42c0-b878-d250ab3f6a02\" xlink:show=\"new\" xlink:title=\"psysml:470c72d5-baee-42c0-b878-d250ab3f6a02\" xlink:type=\"simple\"><polygon fill=\"#FFFFFF\" filter=\"url(#f1x82xh29syc6o)\" points=\"16,6,107,6,114,28.2969,300,28.2969,300,197,16,197,16,6\" style=\"stroke: #000000; stroke-width: 1.5;\"/><line style=\"stroke: #000000; stroke-width: 1.5;\" x1=\"16\" x2=\"114\" y1=\"28.2969\" y2=\"28.2969\"/><text fill=\"#000000\" font-family=\"sans-serif\" font-size=\"14\" font-weight=\"bold\" lengthAdjust=\"spacingAndGlyphs\" textLength=\"85\" x=\"20\" y=\"20.9951\">ActionTest</text></a><!--MD5=[e4f7fae6ed58524ba242bb0b0d3be6b7]\n",
       "cluster E2--><a href=\"psysml:a7348084-8388-422f-b3f3-189098fa41d5\" target=\"_top\" title=\"psysml:a7348084-8388-422f-b3f3-189098fa41d5\" xlink:actuate=\"onRequest\" xlink:href=\"psysml:a7348084-8388-422f-b3f3-189098fa41d5\" xlink:show=\"new\" xlink:title=\"psysml:a7348084-8388-422f-b3f3-189098fa41d5\" xlink:type=\"simple\"><rect fill=\"#FFFFFF\" filter=\"url(#f1x82xh29syc6o)\" height=\"124\" id=\"E2\" rx=\"10\" ry=\"10\" style=\"stroke: #A80036; stroke-width: 1.5;\" width=\"236\" x=\"40\" y=\"49\"/><rect fill=\"#FEFECE\" height=\"37.9375\" rx=\"10\" ry=\"10\" style=\"stroke: #FEFECE; stroke-width: 1.5;\" width=\"236\" x=\"40\" y=\"49\"/><rect fill=\"#FEFECE\" height=\"10\" style=\"stroke: #FEFECE; stroke-width: 1.5;\" width=\"236\" x=\"40\" y=\"76.9375\"/><rect fill=\"none\" height=\"124\" id=\"E2\" rx=\"10\" ry=\"10\" style=\"stroke: #A80036; stroke-width: 1.5;\" width=\"236\" x=\"40\" y=\"49\"/><text fill=\"#000000\" font-family=\"sans-serif\" font-size=\"12\" font-style=\"italic\" lengthAdjust=\"spacingAndGlyphs\" textLength=\"53\" x=\"131.5\" y=\"65.1387\">«action»</text><text fill=\"#000000\" font-family=\"sans-serif\" font-size=\"12\" lengthAdjust=\"spacingAndGlyphs\" textLength=\"8\" x=\"154\" y=\"79.1074\">a</text><line style=\"stroke: #A80036; stroke-width: 1.0;\" x1=\"40\" x2=\"276\" y1=\"86.9375\" y2=\"86.9375\"/></a><g id=\"E1.E2.E3\"><a href=\"psysml:ba977e5b-bee9-4d3d-9976-80a8f9a7c434\" target=\"_top\" title=\"psysml:ba977e5b-bee9-4d3d-9976-80a8f9a7c434\" xlink:actuate=\"onRequest\" xlink:href=\"psysml:ba977e5b-bee9-4d3d-9976-80a8f9a7c434\" xlink:show=\"new\" xlink:title=\"psysml:ba977e5b-bee9-4d3d-9976-80a8f9a7c434\" xlink:type=\"simple\"><rect fill=\"#FEFECE\" filter=\"url(#f1x82xh29syc6o)\" height=\"56.9063\" id=\"E3\" rx=\"10\" ry=\"10\" style=\"stroke: #A80036; stroke-width: 1.5;\" width=\"204\" x=\"56\" y=\"100\"/><ellipse cx=\"73.25\" cy=\"125.9531\" fill=\"#FFA500\" rx=\"11\" ry=\"11\" style=\"stroke: #A80036; stroke-width: 1.0;\"/><path d=\"M69.125,127.875 L69.125,120.0625 L71.5781,120.0625 L71.5781,128.5 Q71.5781,129.4219 72.0469,129.9531 Q72.5313,130.4844 73.3594,130.4844 Q74.2031,130.4844 74.6719,129.9531 Q75.1406,129.4219 75.1406,128.5 L75.1406,120.0625 L77.5938,120.0625 L77.5938,127.875 Q77.5938,130.4063 76.5938,131.5469 Q75.5938,132.6875 73.3594,132.6875 Q71.1406,132.6875 70.125,131.5469 Q69.125,130.4063 69.125,127.875 Z \"/><text fill=\"#000000\" font-family=\"sans-serif\" font-size=\"12\" font-style=\"italic\" lengthAdjust=\"spacingAndGlyphs\" textLength=\"53\" x=\"144.75\" y=\"116.1387\">«action»</text><text fill=\"#000000\" font-family=\"sans-serif\" font-size=\"12\" lengthAdjust=\"spacingAndGlyphs\" textLength=\"77\" x=\"132.75\" y=\"130.1074\">start: Action</text><text fill=\"#000000\" font-family=\"sans-serif\" font-size=\"12\" font-style=\"italic\" lengthAdjust=\"spacingAndGlyphs\" textLength=\"163\" x=\"87.75\" y=\"144.0762\">:&gt;&gt;Occurrence::startShot</text><text fill=\"#000000\" font-family=\"sans-serif\" font-size=\"12\" lengthAdjust=\"spacingAndGlyphs\" textLength=\"0\" x=\"254.75\" y=\"144.0762\"/></a></g><!--MD5=[fc0d513f4e111c4f95a43f1735c064c5]\n",
       "@startuml\r\n",
       "skinparam ranksep 8\r\n",
       "skinparam rectangle {\r\n",
       " backgroundColor<<block>> LightGreen\r\n",
       "}\r\n",
       " \r\n",
       "package \"ActionTest\" as E1  [[psysml:470c72d5-baee-42c0-b878-d250ab3f6a02 ]]  {\r\n",
       "rec usage \"a\" as E2  <<(U,orange)action>> [[psysml:a7348084-8388-422f-b3f3-189098fa41d5 ]] {\r\n",
       "rec usage \"start: Action\\n//:>>Occurrence::startShot// \" as E3  <<(U,orange)action>> [[psysml:ba977e5b-bee9-4d3d-9976-80a8f9a7c434 ]] {\r\n",
       "}\r\n",
       "}\r\n",
       "}\r\n",
       "@enduml\r\n",
       "\n",
       "PlantUML version 1.2020.13(Sat Jun 13 12:26:38 UTC 2020)\n",
       "(EPL source distribution)\n",
       "Java Runtime: OpenJDK Runtime Environment\n",
       "JVM: OpenJDK 64-Bit Server VM\n",
       "Default Encoding: UTF-8\n",
       "Language: en\n",
       "Country: null\n",
       "--></g></svg>"
      ]
     },
     "execution_count": 33,
     "metadata": {},
     "output_type": "execute_result"
    }
   ],
   "source": [
    "%viz --style=\"PLANTUML\" --view=\"Interconnection\" \"ActionTest\""
   ]
  },
  {
   "cell_type": "code",
   "execution_count": 34,
   "id": "respected-valuable",
   "metadata": {
    "execution": {
     "iopub.execute_input": "2021-03-26T12:08:35.922986Z",
     "iopub.status.busy": "2021-03-26T12:08:35.922215Z",
     "iopub.status.idle": "2021-03-26T12:08:35.945697Z",
     "shell.execute_reply": "2021-03-26T12:08:35.945344Z"
    }
   },
   "outputs": [
    {
     "data": {
      "image/svg+xml": [
       "<?xml version=\"1.0\" encoding=\"UTF-8\" standalone=\"no\"?><svg xmlns=\"http://www.w3.org/2000/svg\" xmlns:xlink=\"http://www.w3.org/1999/xlink\" contentScriptType=\"application/ecmascript\" contentStyleType=\"text/css\" height=\"136px\" preserveAspectRatio=\"none\" style=\"width:144px;height:136px;\" version=\"1.1\" viewBox=\"0 0 144 136\" width=\"144px\" zoomAndPan=\"magnify\"><defs><filter height=\"300%\" id=\"f1lyn1199yzzd5\" width=\"300%\" x=\"-1\" y=\"-1\"><feGaussianBlur result=\"blurOut\" stdDeviation=\"2.0\"/><feColorMatrix in=\"blurOut\" result=\"blurOut2\" type=\"matrix\" values=\"0 0 0 0 0 0 0 0 0 0 0 0 0 0 0 0 0 0 .4 0\"/><feOffset dx=\"4.0\" dy=\"4.0\" in=\"blurOut2\" result=\"blurOut3\"/><feBlend in=\"SourceGraphic\" in2=\"blurOut3\" mode=\"normal\"/></filter></defs><g><!--MD5=[fbc87193dbaf4d95561dea2c320d4a47]\n",
       "cluster E1--><a href=\"psysml:a7348084-8388-422f-b3f3-189098fa41d5\" target=\"_top\" title=\"psysml:a7348084-8388-422f-b3f3-189098fa41d5\" xlink:actuate=\"onRequest\" xlink:href=\"psysml:a7348084-8388-422f-b3f3-189098fa41d5\" xlink:show=\"new\" xlink:title=\"psysml:a7348084-8388-422f-b3f3-189098fa41d5\" xlink:type=\"simple\"><rect fill=\"#FFFFFF\" filter=\"url(#f1lyn1199yzzd5)\" height=\"110\" id=\"E1\" rx=\"10\" ry=\"10\" style=\"stroke: #A80036; stroke-width: 1.5;\" width=\"118\" x=\"7\" y=\"7\"/><rect fill=\"#FEFECE\" height=\"37.9375\" rx=\"10\" ry=\"10\" style=\"stroke: #FEFECE; stroke-width: 1.5;\" width=\"118\" x=\"7\" y=\"7\"/><rect fill=\"#FEFECE\" height=\"10\" style=\"stroke: #FEFECE; stroke-width: 1.5;\" width=\"118\" x=\"7\" y=\"34.9375\"/><rect fill=\"none\" height=\"110\" id=\"E1\" rx=\"10\" ry=\"10\" style=\"stroke: #A80036; stroke-width: 1.5;\" width=\"118\" x=\"7\" y=\"7\"/><text fill=\"#000000\" font-family=\"sans-serif\" font-size=\"12\" font-style=\"italic\" lengthAdjust=\"spacingAndGlyphs\" textLength=\"53\" x=\"39.5\" y=\"23.1387\">«action»</text><text fill=\"#000000\" font-family=\"sans-serif\" font-size=\"12\" lengthAdjust=\"spacingAndGlyphs\" textLength=\"8\" x=\"62\" y=\"37.1074\">a</text><line style=\"stroke: #A80036; stroke-width: 1.0;\" x1=\"7\" x2=\"125\" y1=\"44.9375\" y2=\"44.9375\"/></a><g id=\"E1.E2\"><a href=\"psysml:ba977e5b-bee9-4d3d-9976-80a8f9a7c434\" target=\"_top\" title=\"psysml:ba977e5b-bee9-4d3d-9976-80a8f9a7c434\" xlink:actuate=\"onRequest\" xlink:href=\"psysml:ba977e5b-bee9-4d3d-9976-80a8f9a7c434\" xlink:show=\"new\" xlink:title=\"psysml:ba977e5b-bee9-4d3d-9976-80a8f9a7c434\" xlink:type=\"simple\"><rect fill=\"#FEFECE\" filter=\"url(#f1lyn1199yzzd5)\" height=\"42.9375\" id=\"E2\" rx=\"10\" ry=\"10\" style=\"stroke: #A80036; stroke-width: 1.5;\" width=\"86\" x=\"23\" y=\"58\"/><ellipse cx=\"40.25\" cy=\"76.9688\" fill=\"#FFA500\" rx=\"11\" ry=\"11\" style=\"stroke: #A80036; stroke-width: 1.0;\"/><path d=\"M36.125,78.8906 L36.125,71.0781 L38.5781,71.0781 L38.5781,79.5156 Q38.5781,80.4375 39.0469,80.9688 Q39.5313,81.5 40.3594,81.5 Q41.2031,81.5 41.6719,80.9688 Q42.1406,80.4375 42.1406,79.5156 L42.1406,71.0781 L44.5938,71.0781 L44.5938,78.8906 Q44.5938,81.4219 43.5938,82.5625 Q42.5938,83.7031 40.3594,83.7031 Q38.1406,83.7031 37.125,82.5625 Q36.125,81.4219 36.125,78.8906 Z \"/><text fill=\"#000000\" font-family=\"sans-serif\" font-size=\"12\" font-style=\"italic\" lengthAdjust=\"spacingAndGlyphs\" textLength=\"53\" x=\"52.75\" y=\"74.1387\">«action»</text><text fill=\"#000000\" font-family=\"sans-serif\" font-size=\"12\" lengthAdjust=\"spacingAndGlyphs\" textLength=\"30\" x=\"64.25\" y=\"88.1074\">start</text></a></g><!--MD5=[78758b5714c7a251418d82868fbb9ab4]\n",
       "@startuml\r\n",
       "skinparam ranksep 8\r\n",
       " \r\n",
       "rec usage \"a\" as E1  <<(U,orange)action>> [[psysml:a7348084-8388-422f-b3f3-189098fa41d5 ]] {\r\n",
       "rec usage \"start\" as E2  <<(U,orange)action>> [[psysml:ba977e5b-bee9-4d3d-9976-80a8f9a7c434 ]] {\r\n",
       "}\r\n",
       "\r\n",
       "}\r\n",
       "\r\n",
       "@enduml\r\n",
       "\n",
       "PlantUML version 1.2020.13(Sat Jun 13 12:26:38 UTC 2020)\n",
       "(EPL source distribution)\n",
       "Java Runtime: OpenJDK Runtime Environment\n",
       "JVM: OpenJDK 64-Bit Server VM\n",
       "Default Encoding: UTF-8\n",
       "Language: en\n",
       "Country: null\n",
       "--></g></svg>"
      ]
     },
     "execution_count": 34,
     "metadata": {},
     "output_type": "execute_result"
    }
   ],
   "source": [
    "%viz --style=\"PLANTUML\" --view=\"Action\" \"ActionTest\""
   ]
  },
  {
   "cell_type": "code",
   "execution_count": 35,
   "id": "bored-mexican",
   "metadata": {
    "execution": {
     "iopub.execute_input": "2021-03-26T12:08:35.995955Z",
     "iopub.status.busy": "2021-03-26T12:08:35.995577Z",
     "iopub.status.idle": "2021-03-26T12:08:36.039309Z",
     "shell.execute_reply": "2021-03-26T12:08:36.038585Z"
    }
   },
   "outputs": [
    {
     "data": {
      "image/svg+xml": [
       "<?xml version=\"1.0\" encoding=\"UTF-8\" standalone=\"no\"?><svg xmlns=\"http://www.w3.org/2000/svg\" xmlns:xlink=\"http://www.w3.org/1999/xlink\" contentScriptType=\"application/ecmascript\" contentStyleType=\"text/css\" height=\"157px\" preserveAspectRatio=\"none\" style=\"width:230px;height:157px;\" version=\"1.1\" viewBox=\"0 0 230 157\" width=\"230px\" zoomAndPan=\"magnify\"><defs><filter height=\"300%\" id=\"f19drtw3gjn7iq\" width=\"300%\" x=\"-1\" y=\"-1\"><feGaussianBlur result=\"blurOut\" stdDeviation=\"2.0\"/><feColorMatrix in=\"blurOut\" result=\"blurOut2\" type=\"matrix\" values=\"0 0 0 0 0 0 0 0 0 0 0 0 0 0 0 0 0 0 .4 0\"/><feOffset dx=\"4.0\" dy=\"4.0\" in=\"blurOut2\" result=\"blurOut3\"/><feBlend in=\"SourceGraphic\" in2=\"blurOut3\" mode=\"normal\"/></filter></defs><g><!--MD5=[fbc87193dbaf4d95561dea2c320d4a47]\n",
       "cluster E1--><a href=\"psysml:470c72d5-baee-42c0-b878-d250ab3f6a02\" target=\"_top\" title=\"psysml:470c72d5-baee-42c0-b878-d250ab3f6a02\" xlink:actuate=\"onRequest\" xlink:href=\"psysml:470c72d5-baee-42c0-b878-d250ab3f6a02\" xlink:show=\"new\" xlink:title=\"psysml:470c72d5-baee-42c0-b878-d250ab3f6a02\" xlink:type=\"simple\"><polygon fill=\"#FFFFFF\" filter=\"url(#f19drtw3gjn7iq)\" points=\"16,6,107,6,114,28.2969,208,28.2969,208,145,16,145,16,6\" style=\"stroke: #000000; stroke-width: 1.5;\"/><line style=\"stroke: #000000; stroke-width: 1.5;\" x1=\"16\" x2=\"114\" y1=\"28.2969\" y2=\"28.2969\"/><text fill=\"#000000\" font-family=\"sans-serif\" font-size=\"14\" font-weight=\"bold\" lengthAdjust=\"spacingAndGlyphs\" textLength=\"85\" x=\"20\" y=\"20.9951\">ActionTest</text></a><!--MD5=[b4997ac47864f28c2f74865a473b2911]\n",
       "class E2--><a href=\"psysml:a7348084-8388-422f-b3f3-189098fa41d5\" target=\"_top\" title=\"psysml:a7348084-8388-422f-b3f3-189098fa41d5\" xlink:actuate=\"onRequest\" xlink:href=\"psysml:a7348084-8388-422f-b3f3-189098fa41d5\" xlink:show=\"new\" xlink:title=\"psysml:a7348084-8388-422f-b3f3-189098fa41d5\" xlink:type=\"simple\"><rect fill=\"#FEFECE\" filter=\"url(#f19drtw3gjn7iq)\" height=\"88.3516\" id=\"E2\" rx=\"10\" ry=\"10\" style=\"stroke: #A80036; stroke-width: 1.5;\" width=\"160\" x=\"32\" y=\"41\"/><ellipse cx=\"83.25\" cy=\"59.9688\" fill=\"#FFA500\" rx=\"11\" ry=\"11\" style=\"stroke: #A80036; stroke-width: 1.0;\"/><path d=\"M79.125,61.8906 L79.125,54.0781 L81.5781,54.0781 L81.5781,62.5156 Q81.5781,63.4375 82.0469,63.9688 Q82.5313,64.5 83.3594,64.5 Q84.2031,64.5 84.6719,63.9688 Q85.1406,63.4375 85.1406,62.5156 L85.1406,54.0781 L87.5938,54.0781 L87.5938,61.8906 Q87.5938,64.4219 86.5938,65.5625 Q85.5938,66.7031 83.3594,66.7031 Q81.1406,66.7031 80.125,65.5625 Q79.125,64.4219 79.125,61.8906 Z \"/><text fill=\"#000000\" font-family=\"sans-serif\" font-size=\"12\" font-style=\"italic\" lengthAdjust=\"spacingAndGlyphs\" textLength=\"53\" x=\"101.75\" y=\"57.1387\">«action»</text><text fill=\"#000000\" font-family=\"sans-serif\" font-size=\"12\" lengthAdjust=\"spacingAndGlyphs\" textLength=\"8\" x=\"124.25\" y=\"71.1074\">a</text><line style=\"stroke: #A80036; stroke-width: 1.5;\" x1=\"33\" x2=\"191\" y1=\"78.9375\" y2=\"78.9375\"/><text fill=\"#000000\" font-family=\"sans-serif\" font-size=\"11\" lengthAdjust=\"spacingAndGlyphs\" textLength=\"69\" x=\"38\" y=\"109.9526\">start: Action</text><text fill=\"#000000\" font-family=\"sans-serif\" font-size=\"11\" font-style=\"italic\" lengthAdjust=\"spacingAndGlyphs\" textLength=\"148\" x=\"38\" y=\"122.7573\">:&gt;&gt;Occurrence::startShot</text><line style=\"stroke: #A80036; stroke-width: 1.0;\" x1=\"33\" x2=\"91.5\" y1=\"93.3398\" y2=\"93.3398\"/><text fill=\"#000000\" font-family=\"sans-serif\" font-size=\"11\" lengthAdjust=\"spacingAndGlyphs\" textLength=\"41\" x=\"91.5\" y=\"96.6479\">actions</text><line style=\"stroke: #A80036; stroke-width: 1.0;\" x1=\"132.5\" x2=\"191\" y1=\"93.3398\" y2=\"93.3398\"/></a><!--MD5=[1666496f5a8ebeda5846b0404a5b6abe]\n",
       "@startuml\r\n",
       " \r\n",
       "package \"ActionTest\" as E1  [[psysml:470c72d5-baee-42c0-b878-d250ab3f6a02 ]]  {\r\n",
       "comp usage \"a\" as E2  <<(U,orange)action>> [[psysml:a7348084-8388-422f-b3f3-189098fa41d5 ]] {\r\n",
       "- - actions - -\r\n",
       "start: Action\\n//:>>Occurrence::startShot// \r\n",
       "}\r\n",
       "}\r\n",
       "@enduml\r\n",
       "\n",
       "PlantUML version 1.2020.13(Sat Jun 13 12:26:38 UTC 2020)\n",
       "(EPL source distribution)\n",
       "Java Runtime: OpenJDK Runtime Environment\n",
       "JVM: OpenJDK 64-Bit Server VM\n",
       "Default Encoding: UTF-8\n",
       "Language: en\n",
       "Country: null\n",
       "--></g></svg>"
      ]
     },
     "execution_count": 35,
     "metadata": {},
     "output_type": "execute_result"
    }
   ],
   "source": [
    "%viz --style=\"PLANTUML\" --view=\"Sequence\" \"ActionTest\""
   ]
  },
  {
   "cell_type": "code",
   "execution_count": 36,
   "id": "adaptive-strap",
   "metadata": {
    "execution": {
     "iopub.execute_input": "2021-03-26T12:08:36.090980Z",
     "iopub.status.busy": "2021-03-26T12:08:36.090633Z",
     "iopub.status.idle": "2021-03-26T12:08:36.123154Z",
     "shell.execute_reply": "2021-03-26T12:08:36.122855Z"
    }
   },
   "outputs": [
    {
     "data": {
      "image/svg+xml": [
       "<?xml version=\"1.0\" encoding=\"UTF-8\" standalone=\"no\"?><svg xmlns=\"http://www.w3.org/2000/svg\" xmlns:xlink=\"http://www.w3.org/1999/xlink\" contentScriptType=\"application/ecmascript\" contentStyleType=\"text/css\" height=\"195px\" preserveAspectRatio=\"none\" style=\"width:204px;height:195px;\" version=\"1.1\" viewBox=\"0 0 204 195\" width=\"204px\" zoomAndPan=\"magnify\"><defs><filter height=\"300%\" id=\"f1g43w2olb235b\" width=\"300%\" x=\"-1\" y=\"-1\"><feGaussianBlur result=\"blurOut\" stdDeviation=\"2.0\"/><feColorMatrix in=\"blurOut\" result=\"blurOut2\" type=\"matrix\" values=\"0 0 0 0 0 0 0 0 0 0 0 0 0 0 0 0 0 0 .4 0\"/><feOffset dx=\"4.0\" dy=\"4.0\" in=\"blurOut2\" result=\"blurOut3\"/><feBlend in=\"SourceGraphic\" in2=\"blurOut3\" mode=\"normal\"/></filter></defs><g><!--MD5=[fbc87193dbaf4d95561dea2c320d4a47]\n",
       "cluster E1--><a href=\"psysml:470c72d5-baee-42c0-b878-d250ab3f6a02\" target=\"_top\" title=\"psysml:470c72d5-baee-42c0-b878-d250ab3f6a02\" xlink:actuate=\"onRequest\" xlink:href=\"psysml:470c72d5-baee-42c0-b878-d250ab3f6a02\" xlink:show=\"new\" xlink:title=\"psysml:470c72d5-baee-42c0-b878-d250ab3f6a02\" xlink:type=\"simple\"><polygon fill=\"#FFFFFF\" filter=\"url(#f1g43w2olb235b)\" points=\"16,6,107,6,114,28.2969,182,28.2969,182,183,16,183,16,6\" style=\"stroke: #000000; stroke-width: 1.5;\"/><line style=\"stroke: #000000; stroke-width: 1.5;\" x1=\"16\" x2=\"114\" y1=\"28.2969\" y2=\"28.2969\"/><text fill=\"#000000\" font-family=\"sans-serif\" font-size=\"14\" font-weight=\"bold\" lengthAdjust=\"spacingAndGlyphs\" textLength=\"85\" x=\"20\" y=\"20.9951\">ActionTest</text></a><!--MD5=[e4f7fae6ed58524ba242bb0b0d3be6b7]\n",
       "cluster E2--><a href=\"psysml:a7348084-8388-422f-b3f3-189098fa41d5\" target=\"_top\" title=\"psysml:a7348084-8388-422f-b3f3-189098fa41d5\" xlink:actuate=\"onRequest\" xlink:href=\"psysml:a7348084-8388-422f-b3f3-189098fa41d5\" xlink:show=\"new\" xlink:title=\"psysml:a7348084-8388-422f-b3f3-189098fa41d5\" xlink:type=\"simple\"><rect fill=\"#FFFFFF\" filter=\"url(#f1g43w2olb235b)\" height=\"110\" id=\"E2\" rx=\"10\" ry=\"10\" style=\"stroke: #A80036; stroke-width: 1.5;\" width=\"118\" x=\"40\" y=\"49\"/><rect fill=\"#FEFECE\" height=\"37.9375\" rx=\"10\" ry=\"10\" style=\"stroke: #FEFECE; stroke-width: 1.5;\" width=\"118\" x=\"40\" y=\"49\"/><rect fill=\"#FEFECE\" height=\"10\" style=\"stroke: #FEFECE; stroke-width: 1.5;\" width=\"118\" x=\"40\" y=\"76.9375\"/><rect fill=\"none\" height=\"110\" id=\"E2\" rx=\"10\" ry=\"10\" style=\"stroke: #A80036; stroke-width: 1.5;\" width=\"118\" x=\"40\" y=\"49\"/><text fill=\"#000000\" font-family=\"sans-serif\" font-size=\"12\" font-style=\"italic\" lengthAdjust=\"spacingAndGlyphs\" textLength=\"53\" x=\"72.5\" y=\"65.1387\">«action»</text><text fill=\"#000000\" font-family=\"sans-serif\" font-size=\"12\" lengthAdjust=\"spacingAndGlyphs\" textLength=\"8\" x=\"95\" y=\"79.1074\">a</text><line style=\"stroke: #A80036; stroke-width: 1.0;\" x1=\"40\" x2=\"158\" y1=\"86.9375\" y2=\"86.9375\"/></a><g id=\"E1.E2.E3\"><a href=\"psysml:ba977e5b-bee9-4d3d-9976-80a8f9a7c434\" target=\"_top\" title=\"psysml:ba977e5b-bee9-4d3d-9976-80a8f9a7c434\" xlink:actuate=\"onRequest\" xlink:href=\"psysml:ba977e5b-bee9-4d3d-9976-80a8f9a7c434\" xlink:show=\"new\" xlink:title=\"psysml:ba977e5b-bee9-4d3d-9976-80a8f9a7c434\" xlink:type=\"simple\"><rect fill=\"#FEFECE\" filter=\"url(#f1g43w2olb235b)\" height=\"42.9375\" id=\"E3\" rx=\"10\" ry=\"10\" style=\"stroke: #A80036; stroke-width: 1.5;\" width=\"86\" x=\"56\" y=\"100\"/><ellipse cx=\"73.25\" cy=\"118.9688\" fill=\"#FFA500\" rx=\"11\" ry=\"11\" style=\"stroke: #A80036; stroke-width: 1.0;\"/><path d=\"M69.125,120.8906 L69.125,113.0781 L71.5781,113.0781 L71.5781,121.5156 Q71.5781,122.4375 72.0469,122.9688 Q72.5313,123.5 73.3594,123.5 Q74.2031,123.5 74.6719,122.9688 Q75.1406,122.4375 75.1406,121.5156 L75.1406,113.0781 L77.5938,113.0781 L77.5938,120.8906 Q77.5938,123.4219 76.5938,124.5625 Q75.5938,125.7031 73.3594,125.7031 Q71.1406,125.7031 70.125,124.5625 Q69.125,123.4219 69.125,120.8906 Z \"/><text fill=\"#000000\" font-family=\"sans-serif\" font-size=\"12\" font-style=\"italic\" lengthAdjust=\"spacingAndGlyphs\" textLength=\"53\" x=\"85.75\" y=\"116.1387\">«action»</text><text fill=\"#000000\" font-family=\"sans-serif\" font-size=\"12\" lengthAdjust=\"spacingAndGlyphs\" textLength=\"30\" x=\"97.25\" y=\"130.1074\">start</text></a></g><!--MD5=[e438b58a50b54b9046ecdce5b7077a0d]\n",
       "@startuml\r\n",
       " \r\n",
       "package \"ActionTest\" as E1  [[psysml:470c72d5-baee-42c0-b878-d250ab3f6a02 ]]  {\r\n",
       "rec usage \"a\" as E2  <<(U,orange)action>> [[psysml:a7348084-8388-422f-b3f3-189098fa41d5 ]] {\r\n",
       "rec usage \"start\" as E3  <<(U,orange)action>> [[psysml:ba977e5b-bee9-4d3d-9976-80a8f9a7c434 ]] {\r\n",
       "}\r\n",
       "\r\n",
       "}\r\n",
       "\r\n",
       "}\r\n",
       "@enduml\r\n",
       "\n",
       "PlantUML version 1.2020.13(Sat Jun 13 12:26:38 UTC 2020)\n",
       "(EPL source distribution)\n",
       "Java Runtime: OpenJDK Runtime Environment\n",
       "JVM: OpenJDK 64-Bit Server VM\n",
       "Default Encoding: UTF-8\n",
       "Language: en\n",
       "Country: null\n",
       "--></g></svg>"
      ]
     },
     "execution_count": 36,
     "metadata": {},
     "output_type": "execute_result"
    }
   ],
   "source": [
    "%viz --style=\"PLANTUML\" --view=\"MIXED\" \"ActionTest\""
   ]
  },
  {
   "cell_type": "code",
   "execution_count": 37,
   "id": "designing-resistance",
   "metadata": {
    "execution": {
     "iopub.execute_input": "2021-03-26T12:08:36.175454Z",
     "iopub.status.busy": "2021-03-26T12:08:36.174942Z",
     "iopub.status.idle": "2021-03-26T12:08:36.200041Z",
     "shell.execute_reply": "2021-03-26T12:08:36.199746Z"
    }
   },
   "outputs": [
    {
     "data": {
      "image/svg+xml": [
       "<?xml version=\"1.0\" encoding=\"UTF-8\" standalone=\"no\"?><svg xmlns=\"http://www.w3.org/2000/svg\" xmlns:xlink=\"http://www.w3.org/1999/xlink\" contentScriptType=\"application/ecmascript\" contentStyleType=\"text/css\" height=\"195px\" preserveAspectRatio=\"none\" style=\"width:178px;height:195px;\" version=\"1.1\" viewBox=\"0 0 178 195\" width=\"178px\" zoomAndPan=\"magnify\"><defs/><g><!--MD5=[fbc87193dbaf4d95561dea2c320d4a47]\n",
       "cluster E1--><a href=\"psysml:470c72d5-baee-42c0-b878-d250ab3f6a02\" target=\"_top\" title=\"psysml:470c72d5-baee-42c0-b878-d250ab3f6a02\" xlink:actuate=\"onRequest\" xlink:href=\"psysml:470c72d5-baee-42c0-b878-d250ab3f6a02\" xlink:show=\"new\" xlink:title=\"psysml:470c72d5-baee-42c0-b878-d250ab3f6a02\" xlink:type=\"simple\"><polygon fill=\"#FFFFFF\" points=\"16,6,107,6,114,28.2969,156,28.2969,156,183,16,183,16,6\" style=\"stroke: #000000; stroke-width: 1.5;\"/><line style=\"stroke: #000000; stroke-width: 1.5;\" x1=\"16\" x2=\"114\" y1=\"28.2969\" y2=\"28.2969\"/><text fill=\"#000000\" font-family=\"sans-serif\" font-size=\"14\" font-weight=\"bold\" lengthAdjust=\"spacingAndGlyphs\" textLength=\"85\" x=\"20\" y=\"20.9951\">ActionTest</text></a><!--MD5=[e4f7fae6ed58524ba242bb0b0d3be6b7]\n",
       "cluster E2--><a href=\"psysml:a7348084-8388-422f-b3f3-189098fa41d5\" target=\"_top\" title=\"psysml:a7348084-8388-422f-b3f3-189098fa41d5\" xlink:actuate=\"onRequest\" xlink:href=\"psysml:a7348084-8388-422f-b3f3-189098fa41d5\" xlink:show=\"new\" xlink:title=\"psysml:a7348084-8388-422f-b3f3-189098fa41d5\" xlink:type=\"simple\"><rect fill=\"#FFFFFF\" height=\"110\" id=\"E2\" rx=\"10\" ry=\"10\" style=\"stroke: #383838; stroke-width: 1.5;\" width=\"92\" x=\"40\" y=\"49\"/><rect fill=\"#F8F8F8\" height=\"37.9375\" rx=\"10\" ry=\"10\" style=\"stroke: #F8F8F8; stroke-width: 1.5;\" width=\"92\" x=\"40\" y=\"49\"/><rect fill=\"#F8F8F8\" height=\"10\" style=\"stroke: #F8F8F8; stroke-width: 1.5;\" width=\"92\" x=\"40\" y=\"76.9375\"/><rect fill=\"none\" height=\"110\" id=\"E2\" rx=\"10\" ry=\"10\" style=\"stroke: #383838; stroke-width: 1.5;\" width=\"92\" x=\"40\" y=\"49\"/><text fill=\"#000000\" font-family=\"sans-serif\" font-size=\"12\" font-style=\"italic\" lengthAdjust=\"spacingAndGlyphs\" textLength=\"53\" x=\"59.5\" y=\"65.1387\">«action»</text><text fill=\"#000000\" font-family=\"sans-serif\" font-size=\"12\" lengthAdjust=\"spacingAndGlyphs\" textLength=\"8\" x=\"82\" y=\"79.1074\">a</text><line style=\"stroke: #383838; stroke-width: 1.0;\" x1=\"40\" x2=\"132\" y1=\"86.9375\" y2=\"86.9375\"/></a><g id=\"E1.E2.E3\"><a href=\"psysml:ba977e5b-bee9-4d3d-9976-80a8f9a7c434\" target=\"_top\" title=\"psysml:ba977e5b-bee9-4d3d-9976-80a8f9a7c434\" xlink:actuate=\"onRequest\" xlink:href=\"psysml:ba977e5b-bee9-4d3d-9976-80a8f9a7c434\" xlink:show=\"new\" xlink:title=\"psysml:ba977e5b-bee9-4d3d-9976-80a8f9a7c434\" xlink:type=\"simple\"><rect fill=\"#FFFFFF\" height=\"42.9375\" id=\"E3\" rx=\"10\" ry=\"10\" style=\"stroke: #383838; stroke-width: 1.5;\" width=\"60\" x=\"56\" y=\"100\"/><rect fill=\"#F8F8F8\" height=\"37.9375\" rx=\"10\" ry=\"10\" style=\"stroke: #F8F8F8; stroke-width: 1.5;\" width=\"60\" x=\"56\" y=\"100\"/><rect fill=\"#F8F8F8\" height=\"10\" style=\"stroke: #F8F8F8; stroke-width: 1.5;\" width=\"60\" x=\"56\" y=\"127.9375\"/><rect fill=\"none\" height=\"42.9375\" id=\"E3\" rx=\"10\" ry=\"10\" style=\"stroke: #383838; stroke-width: 1.5;\" width=\"60\" x=\"56\" y=\"100\"/><text fill=\"#000000\" font-family=\"sans-serif\" font-size=\"12\" font-style=\"italic\" lengthAdjust=\"spacingAndGlyphs\" textLength=\"53\" x=\"59.5\" y=\"116.1387\">«action»</text><text fill=\"#000000\" font-family=\"sans-serif\" font-size=\"12\" lengthAdjust=\"spacingAndGlyphs\" textLength=\"30\" x=\"71\" y=\"130.1074\">start</text></a></g><!--MD5=[7dd16012dc1899b28dff22865cd9ea46]\n",
       "@startuml\r\n",
       "skinparam monochrome true\r\n",
       "skinparam classbackgroundcolor white\r\n",
       "skinparam shadowing false\r\n",
       "skinparam wrapWidth 300\r\n",
       "hide circle\r\n",
       "\r\n",
       "package \"ActionTest\" as E1  [[psysml:470c72d5-baee-42c0-b878-d250ab3f6a02 ]]  {\r\n",
       "rec usage \"a\" as E2  <<(T,blue)action>> [[psysml:a7348084-8388-422f-b3f3-189098fa41d5 ]] {\r\n",
       "rec usage \"start\" as E3  <<(T,blue)action>> [[psysml:ba977e5b-bee9-4d3d-9976-80a8f9a7c434 ]] {\r\n",
       "}\r\n",
       "\r\n",
       "}\r\n",
       "\r\n",
       "}\r\n",
       "@enduml\r\n",
       "\n",
       "PlantUML version 1.2020.13(Sat Jun 13 12:26:38 UTC 2020)\n",
       "(EPL source distribution)\n",
       "Java Runtime: OpenJDK Runtime Environment\n",
       "JVM: OpenJDK 64-Bit Server VM\n",
       "Default Encoding: UTF-8\n",
       "Language: en\n",
       "Country: null\n",
       "--></g></svg>"
      ]
     },
     "execution_count": 37,
     "metadata": {},
     "output_type": "execute_result"
    }
   ],
   "source": [
    "%viz --style=\"DEFAULT\" --view=\"Default\" \"ActionTest\""
   ]
  },
  {
   "cell_type": "code",
   "execution_count": 38,
   "id": "french-tyler",
   "metadata": {
    "execution": {
     "iopub.execute_input": "2021-03-26T12:08:36.250894Z",
     "iopub.status.busy": "2021-03-26T12:08:36.249993Z",
     "iopub.status.idle": "2021-03-26T12:08:36.291887Z",
     "shell.execute_reply": "2021-03-26T12:08:36.291558Z"
    }
   },
   "outputs": [
    {
     "data": {
      "image/svg+xml": [
       "<?xml version=\"1.0\" encoding=\"UTF-8\" standalone=\"no\"?><svg xmlns=\"http://www.w3.org/2000/svg\" xmlns:xlink=\"http://www.w3.org/1999/xlink\" contentScriptType=\"application/ecmascript\" contentStyleType=\"text/css\" height=\"157px\" preserveAspectRatio=\"none\" style=\"width:230px;height:157px;\" version=\"1.1\" viewBox=\"0 0 230 157\" width=\"230px\" zoomAndPan=\"magnify\"><defs/><g><!--MD5=[fbc87193dbaf4d95561dea2c320d4a47]\n",
       "cluster E1--><a href=\"psysml:470c72d5-baee-42c0-b878-d250ab3f6a02\" target=\"_top\" title=\"psysml:470c72d5-baee-42c0-b878-d250ab3f6a02\" xlink:actuate=\"onRequest\" xlink:href=\"psysml:470c72d5-baee-42c0-b878-d250ab3f6a02\" xlink:show=\"new\" xlink:title=\"psysml:470c72d5-baee-42c0-b878-d250ab3f6a02\" xlink:type=\"simple\"><polygon fill=\"#FFFFFF\" points=\"16,6,107,6,114,28.2969,208,28.2969,208,145,16,145,16,6\" style=\"stroke: #000000; stroke-width: 1.5;\"/><line style=\"stroke: #000000; stroke-width: 1.5;\" x1=\"16\" x2=\"114\" y1=\"28.2969\" y2=\"28.2969\"/><text fill=\"#000000\" font-family=\"sans-serif\" font-size=\"14\" font-weight=\"bold\" lengthAdjust=\"spacingAndGlyphs\" textLength=\"85\" x=\"20\" y=\"20.9951\">ActionTest</text></a><!--MD5=[b4997ac47864f28c2f74865a473b2911]\n",
       "class E2--><a href=\"psysml:a7348084-8388-422f-b3f3-189098fa41d5\" target=\"_top\" title=\"psysml:a7348084-8388-422f-b3f3-189098fa41d5\" xlink:actuate=\"onRequest\" xlink:href=\"psysml:a7348084-8388-422f-b3f3-189098fa41d5\" xlink:show=\"new\" xlink:title=\"psysml:a7348084-8388-422f-b3f3-189098fa41d5\" xlink:type=\"simple\"><rect fill=\"#FFFFFF\" height=\"88.3516\" id=\"E2\" rx=\"10\" ry=\"10\" style=\"stroke: #383838; stroke-width: 1.5;\" width=\"160\" x=\"32\" y=\"41\"/><text fill=\"#000000\" font-family=\"sans-serif\" font-size=\"12\" font-style=\"italic\" lengthAdjust=\"spacingAndGlyphs\" textLength=\"53\" x=\"85.5\" y=\"57.1387\">«action»</text><text fill=\"#000000\" font-family=\"sans-serif\" font-size=\"12\" lengthAdjust=\"spacingAndGlyphs\" textLength=\"8\" x=\"108\" y=\"71.1074\">a</text><line style=\"stroke: #383838; stroke-width: 1.5;\" x1=\"33\" x2=\"191\" y1=\"78.9375\" y2=\"78.9375\"/><text fill=\"#000000\" font-family=\"sans-serif\" font-size=\"11\" lengthAdjust=\"spacingAndGlyphs\" textLength=\"69\" x=\"38\" y=\"109.9526\">start: Action</text><text fill=\"#000000\" font-family=\"sans-serif\" font-size=\"11\" font-style=\"italic\" lengthAdjust=\"spacingAndGlyphs\" textLength=\"148\" x=\"38\" y=\"122.7573\">:&gt;&gt;Occurrence::startShot</text><line style=\"stroke: #383838; stroke-width: 1.0;\" x1=\"33\" x2=\"91.5\" y1=\"93.3398\" y2=\"93.3398\"/><text fill=\"#000000\" font-family=\"sans-serif\" font-size=\"11\" lengthAdjust=\"spacingAndGlyphs\" textLength=\"41\" x=\"91.5\" y=\"96.6479\">actions</text><line style=\"stroke: #383838; stroke-width: 1.0;\" x1=\"132.5\" x2=\"191\" y1=\"93.3398\" y2=\"93.3398\"/></a><!--MD5=[879ecfdbfed3d0f7a3f7faac99a4c8af]\n",
       "@startuml\r\n",
       "skinparam monochrome true\r\n",
       "skinparam classbackgroundcolor white\r\n",
       "skinparam shadowing false\r\n",
       "skinparam wrapWidth 300\r\n",
       "hide circle\r\n",
       "\r\n",
       "package \"ActionTest\" as E1  [[psysml:470c72d5-baee-42c0-b878-d250ab3f6a02 ]]  {\r\n",
       "comp usage \"a\" as E2  <<(T,blue)action>> [[psysml:a7348084-8388-422f-b3f3-189098fa41d5 ]] {\r\n",
       "- - actions - -\r\n",
       "start: Action\\n//:>>Occurrence::startShot// \r\n",
       "}\r\n",
       "}\r\n",
       "@enduml\r\n",
       "\n",
       "PlantUML version 1.2020.13(Sat Jun 13 12:26:38 UTC 2020)\n",
       "(EPL source distribution)\n",
       "Java Runtime: OpenJDK Runtime Environment\n",
       "JVM: OpenJDK 64-Bit Server VM\n",
       "Default Encoding: UTF-8\n",
       "Language: en\n",
       "Country: null\n",
       "--></g></svg>"
      ]
     },
     "execution_count": 38,
     "metadata": {},
     "output_type": "execute_result"
    }
   ],
   "source": [
    "%viz --style=\"DEFAULT\" --view=\"Tree\" \"ActionTest\""
   ]
  },
  {
   "cell_type": "code",
   "execution_count": 39,
   "id": "preceding-price",
   "metadata": {
    "execution": {
     "iopub.execute_input": "2021-03-26T12:08:36.342478Z",
     "iopub.status.busy": "2021-03-26T12:08:36.341861Z",
     "iopub.status.idle": "2021-03-26T12:08:36.345735Z",
     "shell.execute_reply": "2021-03-26T12:08:36.346039Z"
    }
   },
   "outputs": [
    {
     "data": {
      "image/svg+xml": [
       "<?xml version=\"1.0\" encoding=\"UTF-8\" standalone=\"no\"?><svg xmlns=\"http://www.w3.org/2000/svg\" xmlns:xlink=\"http://www.w3.org/1999/xlink\" contentScriptType=\"application/ecmascript\" contentStyleType=\"text/css\" height=\"12px\" preserveAspectRatio=\"none\" style=\"width:12px;height:12px;\" version=\"1.1\" viewBox=\"0 0 12 12\" width=\"12px\" zoomAndPan=\"magnify\"><defs/><g><!--MD5=[c5f280e076d0d61ccf4b0f27871bda1d]\n",
       "@startuml\r\n",
       "skinparam monochrome true\r\n",
       "skinparam classbackgroundcolor white\r\n",
       "skinparam shadowing false\r\n",
       "skinparam wrapWidth 300\r\n",
       "hide circle\r\n",
       "\r\n",
       "@enduml\r\n",
       "\n",
       "PlantUML version 1.2020.13(Sat Jun 13 12:26:38 UTC 2020)\n",
       "(EPL source distribution)\n",
       "Java Runtime: OpenJDK Runtime Environment\n",
       "JVM: OpenJDK 64-Bit Server VM\n",
       "Default Encoding: UTF-8\n",
       "Language: en\n",
       "Country: null\n",
       "--></g></svg>"
      ]
     },
     "execution_count": 39,
     "metadata": {},
     "output_type": "execute_result"
    }
   ],
   "source": [
    "%viz --style=\"DEFAULT\" --view=\"State\" \"ActionTest\""
   ]
  },
  {
   "cell_type": "code",
   "execution_count": 40,
   "id": "controversial-submission",
   "metadata": {
    "execution": {
     "iopub.execute_input": "2021-03-26T12:08:36.400414Z",
     "iopub.status.busy": "2021-03-26T12:08:36.399880Z",
     "iopub.status.idle": "2021-03-26T12:08:36.424256Z",
     "shell.execute_reply": "2021-03-26T12:08:36.424790Z"
    }
   },
   "outputs": [
    {
     "data": {
      "image/svg+xml": [
       "<?xml version=\"1.0\" encoding=\"UTF-8\" standalone=\"no\"?><svg xmlns=\"http://www.w3.org/2000/svg\" xmlns:xlink=\"http://www.w3.org/1999/xlink\" contentScriptType=\"application/ecmascript\" contentStyleType=\"text/css\" height=\"209px\" preserveAspectRatio=\"none\" style=\"width:296px;height:209px;\" version=\"1.1\" viewBox=\"0 0 296 209\" width=\"296px\" zoomAndPan=\"magnify\"><defs/><g><!--MD5=[fbc87193dbaf4d95561dea2c320d4a47]\n",
       "cluster E1--><a href=\"psysml:470c72d5-baee-42c0-b878-d250ab3f6a02\" target=\"_top\" title=\"psysml:470c72d5-baee-42c0-b878-d250ab3f6a02\" xlink:actuate=\"onRequest\" xlink:href=\"psysml:470c72d5-baee-42c0-b878-d250ab3f6a02\" xlink:show=\"new\" xlink:title=\"psysml:470c72d5-baee-42c0-b878-d250ab3f6a02\" xlink:type=\"simple\"><polygon fill=\"#FFFFFF\" points=\"16,6,107,6,114,28.2969,274,28.2969,274,197,16,197,16,6\" style=\"stroke: #000000; stroke-width: 1.5;\"/><line style=\"stroke: #000000; stroke-width: 1.5;\" x1=\"16\" x2=\"114\" y1=\"28.2969\" y2=\"28.2969\"/><text fill=\"#000000\" font-family=\"sans-serif\" font-size=\"14\" font-weight=\"bold\" lengthAdjust=\"spacingAndGlyphs\" textLength=\"85\" x=\"20\" y=\"20.9951\">ActionTest</text></a><!--MD5=[e4f7fae6ed58524ba242bb0b0d3be6b7]\n",
       "cluster E2--><a href=\"psysml:a7348084-8388-422f-b3f3-189098fa41d5\" target=\"_top\" title=\"psysml:a7348084-8388-422f-b3f3-189098fa41d5\" xlink:actuate=\"onRequest\" xlink:href=\"psysml:a7348084-8388-422f-b3f3-189098fa41d5\" xlink:show=\"new\" xlink:title=\"psysml:a7348084-8388-422f-b3f3-189098fa41d5\" xlink:type=\"simple\"><rect fill=\"#FFFFFF\" height=\"124\" id=\"E2\" rx=\"10\" ry=\"10\" style=\"stroke: #383838; stroke-width: 1.5;\" width=\"210\" x=\"40\" y=\"49\"/><rect fill=\"#F8F8F8\" height=\"37.9375\" rx=\"10\" ry=\"10\" style=\"stroke: #F8F8F8; stroke-width: 1.5;\" width=\"210\" x=\"40\" y=\"49\"/><rect fill=\"#F8F8F8\" height=\"10\" style=\"stroke: #F8F8F8; stroke-width: 1.5;\" width=\"210\" x=\"40\" y=\"76.9375\"/><rect fill=\"none\" height=\"124\" id=\"E2\" rx=\"10\" ry=\"10\" style=\"stroke: #383838; stroke-width: 1.5;\" width=\"210\" x=\"40\" y=\"49\"/><text fill=\"#000000\" font-family=\"sans-serif\" font-size=\"12\" font-style=\"italic\" lengthAdjust=\"spacingAndGlyphs\" textLength=\"53\" x=\"118.5\" y=\"65.1387\">«action»</text><text fill=\"#000000\" font-family=\"sans-serif\" font-size=\"12\" lengthAdjust=\"spacingAndGlyphs\" textLength=\"8\" x=\"141\" y=\"79.1074\">a</text><line style=\"stroke: #383838; stroke-width: 1.0;\" x1=\"40\" x2=\"250\" y1=\"86.9375\" y2=\"86.9375\"/></a><g id=\"E1.E2.E3\"><a href=\"psysml:ba977e5b-bee9-4d3d-9976-80a8f9a7c434\" target=\"_top\" title=\"psysml:ba977e5b-bee9-4d3d-9976-80a8f9a7c434\" xlink:actuate=\"onRequest\" xlink:href=\"psysml:ba977e5b-bee9-4d3d-9976-80a8f9a7c434\" xlink:show=\"new\" xlink:title=\"psysml:ba977e5b-bee9-4d3d-9976-80a8f9a7c434\" xlink:type=\"simple\"><rect fill=\"#FFFFFF\" height=\"56.9063\" id=\"E3\" rx=\"10\" ry=\"10\" style=\"stroke: #383838; stroke-width: 1.5;\" width=\"178\" x=\"56\" y=\"100\"/><rect fill=\"#F8F8F8\" height=\"51.9063\" rx=\"10\" ry=\"10\" style=\"stroke: #F8F8F8; stroke-width: 1.5;\" width=\"178\" x=\"56\" y=\"100\"/><rect fill=\"#F8F8F8\" height=\"10\" style=\"stroke: #F8F8F8; stroke-width: 1.5;\" width=\"178\" x=\"56\" y=\"141.9063\"/><rect fill=\"none\" height=\"56.9063\" id=\"E3\" rx=\"10\" ry=\"10\" style=\"stroke: #383838; stroke-width: 1.5;\" width=\"178\" x=\"56\" y=\"100\"/><text fill=\"#000000\" font-family=\"sans-serif\" font-size=\"12\" font-style=\"italic\" lengthAdjust=\"spacingAndGlyphs\" textLength=\"53\" x=\"118.5\" y=\"116.1387\">«action»</text><text fill=\"#000000\" font-family=\"sans-serif\" font-size=\"12\" lengthAdjust=\"spacingAndGlyphs\" textLength=\"77\" x=\"106.5\" y=\"130.1074\">start: Action</text><text fill=\"#000000\" font-family=\"sans-serif\" font-size=\"12\" font-style=\"italic\" lengthAdjust=\"spacingAndGlyphs\" textLength=\"163\" x=\"61.5\" y=\"144.0762\">:&gt;&gt;Occurrence::startShot</text><text fill=\"#000000\" font-family=\"sans-serif\" font-size=\"12\" lengthAdjust=\"spacingAndGlyphs\" textLength=\"0\" x=\"228.5\" y=\"144.0762\"/></a></g><!--MD5=[8c679546f38d40243561261f6b697726]\n",
       "@startuml\r\n",
       "skinparam ranksep 8\r\n",
       "skinparam rectangle {\r\n",
       " backgroundColor<<block>> LightGreen\r\n",
       "}\r\n",
       "skinparam monochrome true\r\n",
       "skinparam classbackgroundcolor white\r\n",
       "skinparam shadowing false\r\n",
       "skinparam wrapWidth 300\r\n",
       "hide circle\r\n",
       "\r\n",
       "package \"ActionTest\" as E1  [[psysml:470c72d5-baee-42c0-b878-d250ab3f6a02 ]]  {\r\n",
       "rec usage \"a\" as E2  <<(T,blue)action>> [[psysml:a7348084-8388-422f-b3f3-189098fa41d5 ]] {\r\n",
       "rec usage \"start: Action\\n//:>>Occurrence::startShot// \" as E3  <<(T,blue)action>> [[psysml:ba977e5b-bee9-4d3d-9976-80a8f9a7c434 ]] {\r\n",
       "}\r\n",
       "}\r\n",
       "}\r\n",
       "@enduml\r\n",
       "\n",
       "PlantUML version 1.2020.13(Sat Jun 13 12:26:38 UTC 2020)\n",
       "(EPL source distribution)\n",
       "Java Runtime: OpenJDK Runtime Environment\n",
       "JVM: OpenJDK 64-Bit Server VM\n",
       "Default Encoding: UTF-8\n",
       "Language: en\n",
       "Country: null\n",
       "--></g></svg>"
      ]
     },
     "execution_count": 40,
     "metadata": {},
     "output_type": "execute_result"
    }
   ],
   "source": [
    "%viz --style=\"DEFAULT\" --view=\"Interconnection\" \"ActionTest\""
   ]
  },
  {
   "cell_type": "code",
   "execution_count": 41,
   "id": "accurate-excellence",
   "metadata": {
    "execution": {
     "iopub.execute_input": "2021-03-26T12:08:36.475779Z",
     "iopub.status.busy": "2021-03-26T12:08:36.474993Z",
     "iopub.status.idle": "2021-03-26T12:08:36.503473Z",
     "shell.execute_reply": "2021-03-26T12:08:36.503050Z"
    }
   },
   "outputs": [
    {
     "data": {
      "image/svg+xml": [
       "<?xml version=\"1.0\" encoding=\"UTF-8\" standalone=\"no\"?><svg xmlns=\"http://www.w3.org/2000/svg\" xmlns:xlink=\"http://www.w3.org/1999/xlink\" contentScriptType=\"application/ecmascript\" contentStyleType=\"text/css\" height=\"128px\" preserveAspectRatio=\"none\" style=\"width:111px;height:128px;\" version=\"1.1\" viewBox=\"0 0 111 128\" width=\"111px\" zoomAndPan=\"magnify\"><defs/><g><!--MD5=[fbc87193dbaf4d95561dea2c320d4a47]\n",
       "cluster E1--><a href=\"psysml:a7348084-8388-422f-b3f3-189098fa41d5\" target=\"_top\" title=\"psysml:a7348084-8388-422f-b3f3-189098fa41d5\" xlink:actuate=\"onRequest\" xlink:href=\"psysml:a7348084-8388-422f-b3f3-189098fa41d5\" xlink:show=\"new\" xlink:title=\"psysml:a7348084-8388-422f-b3f3-189098fa41d5\" xlink:type=\"simple\"><rect fill=\"#FFFFFF\" height=\"110\" id=\"E1\" rx=\"10\" ry=\"10\" style=\"stroke: #383838; stroke-width: 1.5;\" width=\"92\" x=\"7\" y=\"7\"/><rect fill=\"#F8F8F8\" height=\"37.9375\" rx=\"10\" ry=\"10\" style=\"stroke: #F8F8F8; stroke-width: 1.5;\" width=\"92\" x=\"7\" y=\"7\"/><rect fill=\"#F8F8F8\" height=\"10\" style=\"stroke: #F8F8F8; stroke-width: 1.5;\" width=\"92\" x=\"7\" y=\"34.9375\"/><rect fill=\"none\" height=\"110\" id=\"E1\" rx=\"10\" ry=\"10\" style=\"stroke: #383838; stroke-width: 1.5;\" width=\"92\" x=\"7\" y=\"7\"/><text fill=\"#000000\" font-family=\"sans-serif\" font-size=\"12\" font-style=\"italic\" lengthAdjust=\"spacingAndGlyphs\" textLength=\"53\" x=\"26.5\" y=\"23.1387\">«action»</text><text fill=\"#000000\" font-family=\"sans-serif\" font-size=\"12\" lengthAdjust=\"spacingAndGlyphs\" textLength=\"8\" x=\"49\" y=\"37.1074\">a</text><line style=\"stroke: #383838; stroke-width: 1.0;\" x1=\"7\" x2=\"99\" y1=\"44.9375\" y2=\"44.9375\"/></a><g id=\"E1.E2\"><a href=\"psysml:ba977e5b-bee9-4d3d-9976-80a8f9a7c434\" target=\"_top\" title=\"psysml:ba977e5b-bee9-4d3d-9976-80a8f9a7c434\" xlink:actuate=\"onRequest\" xlink:href=\"psysml:ba977e5b-bee9-4d3d-9976-80a8f9a7c434\" xlink:show=\"new\" xlink:title=\"psysml:ba977e5b-bee9-4d3d-9976-80a8f9a7c434\" xlink:type=\"simple\"><rect fill=\"#FFFFFF\" height=\"42.9375\" id=\"E2\" rx=\"10\" ry=\"10\" style=\"stroke: #383838; stroke-width: 1.5;\" width=\"60\" x=\"23\" y=\"58\"/><rect fill=\"#F8F8F8\" height=\"37.9375\" rx=\"10\" ry=\"10\" style=\"stroke: #F8F8F8; stroke-width: 1.5;\" width=\"60\" x=\"23\" y=\"58\"/><rect fill=\"#F8F8F8\" height=\"10\" style=\"stroke: #F8F8F8; stroke-width: 1.5;\" width=\"60\" x=\"23\" y=\"85.9375\"/><rect fill=\"none\" height=\"42.9375\" id=\"E2\" rx=\"10\" ry=\"10\" style=\"stroke: #383838; stroke-width: 1.5;\" width=\"60\" x=\"23\" y=\"58\"/><text fill=\"#000000\" font-family=\"sans-serif\" font-size=\"12\" font-style=\"italic\" lengthAdjust=\"spacingAndGlyphs\" textLength=\"53\" x=\"26.5\" y=\"74.1387\">«action»</text><text fill=\"#000000\" font-family=\"sans-serif\" font-size=\"12\" lengthAdjust=\"spacingAndGlyphs\" textLength=\"30\" x=\"38\" y=\"88.1074\">start</text></a></g><!--MD5=[b703aac73ec3f0e6c93dddf22d019cd0]\n",
       "@startuml\r\n",
       "skinparam ranksep 8\r\n",
       "skinparam monochrome true\r\n",
       "skinparam classbackgroundcolor white\r\n",
       "skinparam shadowing false\r\n",
       "skinparam wrapWidth 300\r\n",
       "hide circle\r\n",
       "\r\n",
       "rec usage \"a\" as E1  <<(T,blue)action>> [[psysml:a7348084-8388-422f-b3f3-189098fa41d5 ]] {\r\n",
       "rec usage \"start\" as E2  <<(T,blue)action>> [[psysml:ba977e5b-bee9-4d3d-9976-80a8f9a7c434 ]] {\r\n",
       "}\r\n",
       "\r\n",
       "}\r\n",
       "\r\n",
       "@enduml\r\n",
       "\n",
       "PlantUML version 1.2020.13(Sat Jun 13 12:26:38 UTC 2020)\n",
       "(EPL source distribution)\n",
       "Java Runtime: OpenJDK Runtime Environment\n",
       "JVM: OpenJDK 64-Bit Server VM\n",
       "Default Encoding: UTF-8\n",
       "Language: en\n",
       "Country: null\n",
       "--></g></svg>"
      ]
     },
     "execution_count": 41,
     "metadata": {},
     "output_type": "execute_result"
    }
   ],
   "source": [
    "%viz --style=\"DEFAULT\" --view=\"Action\" \"ActionTest\""
   ]
  },
  {
   "cell_type": "code",
   "execution_count": 42,
   "id": "incredible-accordance",
   "metadata": {
    "execution": {
     "iopub.execute_input": "2021-03-26T12:08:36.556349Z",
     "iopub.status.busy": "2021-03-26T12:08:36.555658Z",
     "iopub.status.idle": "2021-03-26T12:08:36.596018Z",
     "shell.execute_reply": "2021-03-26T12:08:36.595669Z"
    }
   },
   "outputs": [
    {
     "data": {
      "image/svg+xml": [
       "<?xml version=\"1.0\" encoding=\"UTF-8\" standalone=\"no\"?><svg xmlns=\"http://www.w3.org/2000/svg\" xmlns:xlink=\"http://www.w3.org/1999/xlink\" contentScriptType=\"application/ecmascript\" contentStyleType=\"text/css\" height=\"157px\" preserveAspectRatio=\"none\" style=\"width:230px;height:157px;\" version=\"1.1\" viewBox=\"0 0 230 157\" width=\"230px\" zoomAndPan=\"magnify\"><defs/><g><!--MD5=[fbc87193dbaf4d95561dea2c320d4a47]\n",
       "cluster E1--><a href=\"psysml:470c72d5-baee-42c0-b878-d250ab3f6a02\" target=\"_top\" title=\"psysml:470c72d5-baee-42c0-b878-d250ab3f6a02\" xlink:actuate=\"onRequest\" xlink:href=\"psysml:470c72d5-baee-42c0-b878-d250ab3f6a02\" xlink:show=\"new\" xlink:title=\"psysml:470c72d5-baee-42c0-b878-d250ab3f6a02\" xlink:type=\"simple\"><polygon fill=\"#FFFFFF\" points=\"16,6,107,6,114,28.2969,208,28.2969,208,145,16,145,16,6\" style=\"stroke: #000000; stroke-width: 1.5;\"/><line style=\"stroke: #000000; stroke-width: 1.5;\" x1=\"16\" x2=\"114\" y1=\"28.2969\" y2=\"28.2969\"/><text fill=\"#000000\" font-family=\"sans-serif\" font-size=\"14\" font-weight=\"bold\" lengthAdjust=\"spacingAndGlyphs\" textLength=\"85\" x=\"20\" y=\"20.9951\">ActionTest</text></a><!--MD5=[b4997ac47864f28c2f74865a473b2911]\n",
       "class E2--><a href=\"psysml:a7348084-8388-422f-b3f3-189098fa41d5\" target=\"_top\" title=\"psysml:a7348084-8388-422f-b3f3-189098fa41d5\" xlink:actuate=\"onRequest\" xlink:href=\"psysml:a7348084-8388-422f-b3f3-189098fa41d5\" xlink:show=\"new\" xlink:title=\"psysml:a7348084-8388-422f-b3f3-189098fa41d5\" xlink:type=\"simple\"><rect fill=\"#FFFFFF\" height=\"88.3516\" id=\"E2\" rx=\"10\" ry=\"10\" style=\"stroke: #383838; stroke-width: 1.5;\" width=\"160\" x=\"32\" y=\"41\"/><text fill=\"#000000\" font-family=\"sans-serif\" font-size=\"12\" font-style=\"italic\" lengthAdjust=\"spacingAndGlyphs\" textLength=\"53\" x=\"85.5\" y=\"57.1387\">«action»</text><text fill=\"#000000\" font-family=\"sans-serif\" font-size=\"12\" lengthAdjust=\"spacingAndGlyphs\" textLength=\"8\" x=\"108\" y=\"71.1074\">a</text><line style=\"stroke: #383838; stroke-width: 1.5;\" x1=\"33\" x2=\"191\" y1=\"78.9375\" y2=\"78.9375\"/><text fill=\"#000000\" font-family=\"sans-serif\" font-size=\"11\" lengthAdjust=\"spacingAndGlyphs\" textLength=\"69\" x=\"38\" y=\"109.9526\">start: Action</text><text fill=\"#000000\" font-family=\"sans-serif\" font-size=\"11\" font-style=\"italic\" lengthAdjust=\"spacingAndGlyphs\" textLength=\"148\" x=\"38\" y=\"122.7573\">:&gt;&gt;Occurrence::startShot</text><line style=\"stroke: #383838; stroke-width: 1.0;\" x1=\"33\" x2=\"91.5\" y1=\"93.3398\" y2=\"93.3398\"/><text fill=\"#000000\" font-family=\"sans-serif\" font-size=\"11\" lengthAdjust=\"spacingAndGlyphs\" textLength=\"41\" x=\"91.5\" y=\"96.6479\">actions</text><line style=\"stroke: #383838; stroke-width: 1.0;\" x1=\"132.5\" x2=\"191\" y1=\"93.3398\" y2=\"93.3398\"/></a><!--MD5=[879ecfdbfed3d0f7a3f7faac99a4c8af]\n",
       "@startuml\r\n",
       "skinparam monochrome true\r\n",
       "skinparam classbackgroundcolor white\r\n",
       "skinparam shadowing false\r\n",
       "skinparam wrapWidth 300\r\n",
       "hide circle\r\n",
       "\r\n",
       "package \"ActionTest\" as E1  [[psysml:470c72d5-baee-42c0-b878-d250ab3f6a02 ]]  {\r\n",
       "comp usage \"a\" as E2  <<(T,blue)action>> [[psysml:a7348084-8388-422f-b3f3-189098fa41d5 ]] {\r\n",
       "- - actions - -\r\n",
       "start: Action\\n//:>>Occurrence::startShot// \r\n",
       "}\r\n",
       "}\r\n",
       "@enduml\r\n",
       "\n",
       "PlantUML version 1.2020.13(Sat Jun 13 12:26:38 UTC 2020)\n",
       "(EPL source distribution)\n",
       "Java Runtime: OpenJDK Runtime Environment\n",
       "JVM: OpenJDK 64-Bit Server VM\n",
       "Default Encoding: UTF-8\n",
       "Language: en\n",
       "Country: null\n",
       "--></g></svg>"
      ]
     },
     "execution_count": 42,
     "metadata": {},
     "output_type": "execute_result"
    }
   ],
   "source": [
    "%viz --style=\"DEFAULT\" --view=\"Sequence\" \"ActionTest\""
   ]
  },
  {
   "cell_type": "code",
   "execution_count": 43,
   "id": "heavy-binary",
   "metadata": {
    "execution": {
     "iopub.execute_input": "2021-03-26T12:08:36.648225Z",
     "iopub.status.busy": "2021-03-26T12:08:36.647350Z",
     "iopub.status.idle": "2021-03-26T12:08:36.675625Z",
     "shell.execute_reply": "2021-03-26T12:08:36.675296Z"
    }
   },
   "outputs": [
    {
     "data": {
      "image/svg+xml": [
       "<?xml version=\"1.0\" encoding=\"UTF-8\" standalone=\"no\"?><svg xmlns=\"http://www.w3.org/2000/svg\" xmlns:xlink=\"http://www.w3.org/1999/xlink\" contentScriptType=\"application/ecmascript\" contentStyleType=\"text/css\" height=\"195px\" preserveAspectRatio=\"none\" style=\"width:178px;height:195px;\" version=\"1.1\" viewBox=\"0 0 178 195\" width=\"178px\" zoomAndPan=\"magnify\"><defs/><g><!--MD5=[fbc87193dbaf4d95561dea2c320d4a47]\n",
       "cluster E1--><a href=\"psysml:470c72d5-baee-42c0-b878-d250ab3f6a02\" target=\"_top\" title=\"psysml:470c72d5-baee-42c0-b878-d250ab3f6a02\" xlink:actuate=\"onRequest\" xlink:href=\"psysml:470c72d5-baee-42c0-b878-d250ab3f6a02\" xlink:show=\"new\" xlink:title=\"psysml:470c72d5-baee-42c0-b878-d250ab3f6a02\" xlink:type=\"simple\"><polygon fill=\"#FFFFFF\" points=\"16,6,107,6,114,28.2969,156,28.2969,156,183,16,183,16,6\" style=\"stroke: #000000; stroke-width: 1.5;\"/><line style=\"stroke: #000000; stroke-width: 1.5;\" x1=\"16\" x2=\"114\" y1=\"28.2969\" y2=\"28.2969\"/><text fill=\"#000000\" font-family=\"sans-serif\" font-size=\"14\" font-weight=\"bold\" lengthAdjust=\"spacingAndGlyphs\" textLength=\"85\" x=\"20\" y=\"20.9951\">ActionTest</text></a><!--MD5=[e4f7fae6ed58524ba242bb0b0d3be6b7]\n",
       "cluster E2--><a href=\"psysml:a7348084-8388-422f-b3f3-189098fa41d5\" target=\"_top\" title=\"psysml:a7348084-8388-422f-b3f3-189098fa41d5\" xlink:actuate=\"onRequest\" xlink:href=\"psysml:a7348084-8388-422f-b3f3-189098fa41d5\" xlink:show=\"new\" xlink:title=\"psysml:a7348084-8388-422f-b3f3-189098fa41d5\" xlink:type=\"simple\"><rect fill=\"#FFFFFF\" height=\"110\" id=\"E2\" rx=\"10\" ry=\"10\" style=\"stroke: #383838; stroke-width: 1.5;\" width=\"92\" x=\"40\" y=\"49\"/><rect fill=\"#F8F8F8\" height=\"37.9375\" rx=\"10\" ry=\"10\" style=\"stroke: #F8F8F8; stroke-width: 1.5;\" width=\"92\" x=\"40\" y=\"49\"/><rect fill=\"#F8F8F8\" height=\"10\" style=\"stroke: #F8F8F8; stroke-width: 1.5;\" width=\"92\" x=\"40\" y=\"76.9375\"/><rect fill=\"none\" height=\"110\" id=\"E2\" rx=\"10\" ry=\"10\" style=\"stroke: #383838; stroke-width: 1.5;\" width=\"92\" x=\"40\" y=\"49\"/><text fill=\"#000000\" font-family=\"sans-serif\" font-size=\"12\" font-style=\"italic\" lengthAdjust=\"spacingAndGlyphs\" textLength=\"53\" x=\"59.5\" y=\"65.1387\">«action»</text><text fill=\"#000000\" font-family=\"sans-serif\" font-size=\"12\" lengthAdjust=\"spacingAndGlyphs\" textLength=\"8\" x=\"82\" y=\"79.1074\">a</text><line style=\"stroke: #383838; stroke-width: 1.0;\" x1=\"40\" x2=\"132\" y1=\"86.9375\" y2=\"86.9375\"/></a><g id=\"E1.E2.E3\"><a href=\"psysml:ba977e5b-bee9-4d3d-9976-80a8f9a7c434\" target=\"_top\" title=\"psysml:ba977e5b-bee9-4d3d-9976-80a8f9a7c434\" xlink:actuate=\"onRequest\" xlink:href=\"psysml:ba977e5b-bee9-4d3d-9976-80a8f9a7c434\" xlink:show=\"new\" xlink:title=\"psysml:ba977e5b-bee9-4d3d-9976-80a8f9a7c434\" xlink:type=\"simple\"><rect fill=\"#FFFFFF\" height=\"42.9375\" id=\"E3\" rx=\"10\" ry=\"10\" style=\"stroke: #383838; stroke-width: 1.5;\" width=\"60\" x=\"56\" y=\"100\"/><rect fill=\"#F8F8F8\" height=\"37.9375\" rx=\"10\" ry=\"10\" style=\"stroke: #F8F8F8; stroke-width: 1.5;\" width=\"60\" x=\"56\" y=\"100\"/><rect fill=\"#F8F8F8\" height=\"10\" style=\"stroke: #F8F8F8; stroke-width: 1.5;\" width=\"60\" x=\"56\" y=\"127.9375\"/><rect fill=\"none\" height=\"42.9375\" id=\"E3\" rx=\"10\" ry=\"10\" style=\"stroke: #383838; stroke-width: 1.5;\" width=\"60\" x=\"56\" y=\"100\"/><text fill=\"#000000\" font-family=\"sans-serif\" font-size=\"12\" font-style=\"italic\" lengthAdjust=\"spacingAndGlyphs\" textLength=\"53\" x=\"59.5\" y=\"116.1387\">«action»</text><text fill=\"#000000\" font-family=\"sans-serif\" font-size=\"12\" lengthAdjust=\"spacingAndGlyphs\" textLength=\"30\" x=\"71\" y=\"130.1074\">start</text></a></g><!--MD5=[7dd16012dc1899b28dff22865cd9ea46]\n",
       "@startuml\r\n",
       "skinparam monochrome true\r\n",
       "skinparam classbackgroundcolor white\r\n",
       "skinparam shadowing false\r\n",
       "skinparam wrapWidth 300\r\n",
       "hide circle\r\n",
       "\r\n",
       "package \"ActionTest\" as E1  [[psysml:470c72d5-baee-42c0-b878-d250ab3f6a02 ]]  {\r\n",
       "rec usage \"a\" as E2  <<(T,blue)action>> [[psysml:a7348084-8388-422f-b3f3-189098fa41d5 ]] {\r\n",
       "rec usage \"start\" as E3  <<(T,blue)action>> [[psysml:ba977e5b-bee9-4d3d-9976-80a8f9a7c434 ]] {\r\n",
       "}\r\n",
       "\r\n",
       "}\r\n",
       "\r\n",
       "}\r\n",
       "@enduml\r\n",
       "\n",
       "PlantUML version 1.2020.13(Sat Jun 13 12:26:38 UTC 2020)\n",
       "(EPL source distribution)\n",
       "Java Runtime: OpenJDK Runtime Environment\n",
       "JVM: OpenJDK 64-Bit Server VM\n",
       "Default Encoding: UTF-8\n",
       "Language: en\n",
       "Country: null\n",
       "--></g></svg>"
      ]
     },
     "execution_count": 43,
     "metadata": {},
     "output_type": "execute_result"
    }
   ],
   "source": [
    "%viz --style=\"DEFAULT\" --view=\"MIXED\" \"ActionTest\""
   ]
  },
  {
   "cell_type": "code",
   "execution_count": 44,
   "id": "cooperative-campus",
   "metadata": {
    "execution": {
     "iopub.execute_input": "2021-03-26T12:08:36.726882Z",
     "iopub.status.busy": "2021-03-26T12:08:36.726374Z",
     "iopub.status.idle": "2021-03-26T12:08:36.750353Z",
     "shell.execute_reply": "2021-03-26T12:08:36.750042Z"
    }
   },
   "outputs": [
    {
     "data": {
      "image/svg+xml": [
       "<?xml version=\"1.0\" encoding=\"UTF-8\" standalone=\"no\"?><svg xmlns=\"http://www.w3.org/2000/svg\" xmlns:xlink=\"http://www.w3.org/1999/xlink\" contentScriptType=\"application/ecmascript\" contentStyleType=\"text/css\" height=\"195px\" preserveAspectRatio=\"none\" style=\"width:178px;height:195px;\" version=\"1.1\" viewBox=\"0 0 178 195\" width=\"178px\" zoomAndPan=\"magnify\"><defs/><g><!--MD5=[fbc87193dbaf4d95561dea2c320d4a47]\n",
       "cluster E1--><a href=\"psysml:470c72d5-baee-42c0-b878-d250ab3f6a02\" target=\"_top\" title=\"psysml:470c72d5-baee-42c0-b878-d250ab3f6a02\" xlink:actuate=\"onRequest\" xlink:href=\"psysml:470c72d5-baee-42c0-b878-d250ab3f6a02\" xlink:show=\"new\" xlink:title=\"psysml:470c72d5-baee-42c0-b878-d250ab3f6a02\" xlink:type=\"simple\"><polygon fill=\"#FFFFFF\" points=\"16,6,107,6,114,28.2969,156,28.2969,156,183,16,183,16,6\" style=\"stroke: #000000; stroke-width: 1.5;\"/><line style=\"stroke: #000000; stroke-width: 1.5;\" x1=\"16\" x2=\"114\" y1=\"28.2969\" y2=\"28.2969\"/><text fill=\"#000000\" font-family=\"sans-serif\" font-size=\"14\" font-weight=\"bold\" lengthAdjust=\"spacingAndGlyphs\" textLength=\"85\" x=\"20\" y=\"20.9951\">ActionTest</text></a><!--MD5=[e4f7fae6ed58524ba242bb0b0d3be6b7]\n",
       "cluster E2--><a href=\"psysml:a7348084-8388-422f-b3f3-189098fa41d5\" target=\"_top\" title=\"psysml:a7348084-8388-422f-b3f3-189098fa41d5\" xlink:actuate=\"onRequest\" xlink:href=\"psysml:a7348084-8388-422f-b3f3-189098fa41d5\" xlink:show=\"new\" xlink:title=\"psysml:a7348084-8388-422f-b3f3-189098fa41d5\" xlink:type=\"simple\"><rect fill=\"#FFFFFF\" height=\"110\" id=\"E2\" rx=\"10\" ry=\"10\" style=\"stroke: #383838; stroke-width: 1.5;\" width=\"92\" x=\"40\" y=\"49\"/><rect fill=\"#F8F8F8\" height=\"37.9375\" rx=\"10\" ry=\"10\" style=\"stroke: #F8F8F8; stroke-width: 1.5;\" width=\"92\" x=\"40\" y=\"49\"/><rect fill=\"#F8F8F8\" height=\"10\" style=\"stroke: #F8F8F8; stroke-width: 1.5;\" width=\"92\" x=\"40\" y=\"76.9375\"/><rect fill=\"none\" height=\"110\" id=\"E2\" rx=\"10\" ry=\"10\" style=\"stroke: #383838; stroke-width: 1.5;\" width=\"92\" x=\"40\" y=\"49\"/><text fill=\"#000000\" font-family=\"sans-serif\" font-size=\"12\" font-style=\"italic\" lengthAdjust=\"spacingAndGlyphs\" textLength=\"53\" x=\"59.5\" y=\"65.1387\">«action»</text><text fill=\"#000000\" font-family=\"sans-serif\" font-size=\"12\" lengthAdjust=\"spacingAndGlyphs\" textLength=\"8\" x=\"82\" y=\"79.1074\">a</text><line style=\"stroke: #383838; stroke-width: 1.0;\" x1=\"40\" x2=\"132\" y1=\"86.9375\" y2=\"86.9375\"/></a><g id=\"E1.E2.E3\"><a href=\"psysml:ba977e5b-bee9-4d3d-9976-80a8f9a7c434\" target=\"_top\" title=\"psysml:ba977e5b-bee9-4d3d-9976-80a8f9a7c434\" xlink:actuate=\"onRequest\" xlink:href=\"psysml:ba977e5b-bee9-4d3d-9976-80a8f9a7c434\" xlink:show=\"new\" xlink:title=\"psysml:ba977e5b-bee9-4d3d-9976-80a8f9a7c434\" xlink:type=\"simple\"><rect fill=\"#FFFFFF\" height=\"42.9375\" id=\"E3\" rx=\"10\" ry=\"10\" style=\"stroke: #383838; stroke-width: 1.5;\" width=\"60\" x=\"56\" y=\"100\"/><rect fill=\"#F8F8F8\" height=\"37.9375\" rx=\"10\" ry=\"10\" style=\"stroke: #F8F8F8; stroke-width: 1.5;\" width=\"60\" x=\"56\" y=\"100\"/><rect fill=\"#F8F8F8\" height=\"10\" style=\"stroke: #F8F8F8; stroke-width: 1.5;\" width=\"60\" x=\"56\" y=\"127.9375\"/><rect fill=\"none\" height=\"42.9375\" id=\"E3\" rx=\"10\" ry=\"10\" style=\"stroke: #383838; stroke-width: 1.5;\" width=\"60\" x=\"56\" y=\"100\"/><text fill=\"#000000\" font-family=\"sans-serif\" font-size=\"12\" font-style=\"italic\" lengthAdjust=\"spacingAndGlyphs\" textLength=\"53\" x=\"59.5\" y=\"116.1387\">«action»</text><text fill=\"#000000\" font-family=\"sans-serif\" font-size=\"12\" lengthAdjust=\"spacingAndGlyphs\" textLength=\"30\" x=\"71\" y=\"130.1074\">start</text></a></g><!--MD5=[6b10511b54bc368e7db01106e7db5201]\n",
       "@startuml\r\n",
       "top to bottom direction\r\n",
       "skinparam monochrome true\r\n",
       "skinparam classbackgroundcolor white\r\n",
       "skinparam shadowing false\r\n",
       "skinparam wrapWidth 300\r\n",
       "hide circle\r\n",
       "\r\n",
       "package \"ActionTest\" as E1  [[psysml:470c72d5-baee-42c0-b878-d250ab3f6a02 ]]  {\r\n",
       "rec usage \"a\" as E2  <<(T,blue)action>> [[psysml:a7348084-8388-422f-b3f3-189098fa41d5 ]] {\r\n",
       "rec usage \"start\" as E3  <<(T,blue)action>> [[psysml:ba977e5b-bee9-4d3d-9976-80a8f9a7c434 ]] {\r\n",
       "}\r\n",
       "\r\n",
       "}\r\n",
       "\r\n",
       "}\r\n",
       "@enduml\r\n",
       "\n",
       "PlantUML version 1.2020.13(Sat Jun 13 12:26:38 UTC 2020)\n",
       "(EPL source distribution)\n",
       "Java Runtime: OpenJDK Runtime Environment\n",
       "JVM: OpenJDK 64-Bit Server VM\n",
       "Default Encoding: UTF-8\n",
       "Language: en\n",
       "Country: null\n",
       "--></g></svg>"
      ]
     },
     "execution_count": 44,
     "metadata": {},
     "output_type": "execute_result"
    }
   ],
   "source": [
    "%viz --style=\"TB\" --view=\"Default\" \"ActionTest\""
   ]
  },
  {
   "cell_type": "code",
   "execution_count": 45,
   "id": "latin-fountain",
   "metadata": {
    "execution": {
     "iopub.execute_input": "2021-03-26T12:08:36.806617Z",
     "iopub.status.busy": "2021-03-26T12:08:36.801293Z",
     "iopub.status.idle": "2021-03-26T12:08:36.856119Z",
     "shell.execute_reply": "2021-03-26T12:08:36.855717Z"
    }
   },
   "outputs": [
    {
     "data": {
      "image/svg+xml": [
       "<?xml version=\"1.0\" encoding=\"UTF-8\" standalone=\"no\"?><svg xmlns=\"http://www.w3.org/2000/svg\" xmlns:xlink=\"http://www.w3.org/1999/xlink\" contentScriptType=\"application/ecmascript\" contentStyleType=\"text/css\" height=\"157px\" preserveAspectRatio=\"none\" style=\"width:230px;height:157px;\" version=\"1.1\" viewBox=\"0 0 230 157\" width=\"230px\" zoomAndPan=\"magnify\"><defs/><g><!--MD5=[fbc87193dbaf4d95561dea2c320d4a47]\n",
       "cluster E1--><a href=\"psysml:470c72d5-baee-42c0-b878-d250ab3f6a02\" target=\"_top\" title=\"psysml:470c72d5-baee-42c0-b878-d250ab3f6a02\" xlink:actuate=\"onRequest\" xlink:href=\"psysml:470c72d5-baee-42c0-b878-d250ab3f6a02\" xlink:show=\"new\" xlink:title=\"psysml:470c72d5-baee-42c0-b878-d250ab3f6a02\" xlink:type=\"simple\"><polygon fill=\"#FFFFFF\" points=\"16,6,107,6,114,28.2969,208,28.2969,208,145,16,145,16,6\" style=\"stroke: #000000; stroke-width: 1.5;\"/><line style=\"stroke: #000000; stroke-width: 1.5;\" x1=\"16\" x2=\"114\" y1=\"28.2969\" y2=\"28.2969\"/><text fill=\"#000000\" font-family=\"sans-serif\" font-size=\"14\" font-weight=\"bold\" lengthAdjust=\"spacingAndGlyphs\" textLength=\"85\" x=\"20\" y=\"20.9951\">ActionTest</text></a><!--MD5=[b4997ac47864f28c2f74865a473b2911]\n",
       "class E2--><a href=\"psysml:a7348084-8388-422f-b3f3-189098fa41d5\" target=\"_top\" title=\"psysml:a7348084-8388-422f-b3f3-189098fa41d5\" xlink:actuate=\"onRequest\" xlink:href=\"psysml:a7348084-8388-422f-b3f3-189098fa41d5\" xlink:show=\"new\" xlink:title=\"psysml:a7348084-8388-422f-b3f3-189098fa41d5\" xlink:type=\"simple\"><rect fill=\"#FFFFFF\" height=\"88.3516\" id=\"E2\" rx=\"10\" ry=\"10\" style=\"stroke: #383838; stroke-width: 1.5;\" width=\"160\" x=\"32\" y=\"41\"/><text fill=\"#000000\" font-family=\"sans-serif\" font-size=\"12\" font-style=\"italic\" lengthAdjust=\"spacingAndGlyphs\" textLength=\"53\" x=\"85.5\" y=\"57.1387\">«action»</text><text fill=\"#000000\" font-family=\"sans-serif\" font-size=\"12\" lengthAdjust=\"spacingAndGlyphs\" textLength=\"8\" x=\"108\" y=\"71.1074\">a</text><line style=\"stroke: #383838; stroke-width: 1.5;\" x1=\"33\" x2=\"191\" y1=\"78.9375\" y2=\"78.9375\"/><text fill=\"#000000\" font-family=\"sans-serif\" font-size=\"11\" lengthAdjust=\"spacingAndGlyphs\" textLength=\"69\" x=\"38\" y=\"109.9526\">start: Action</text><text fill=\"#000000\" font-family=\"sans-serif\" font-size=\"11\" font-style=\"italic\" lengthAdjust=\"spacingAndGlyphs\" textLength=\"148\" x=\"38\" y=\"122.7573\">:&gt;&gt;Occurrence::startShot</text><line style=\"stroke: #383838; stroke-width: 1.0;\" x1=\"33\" x2=\"91.5\" y1=\"93.3398\" y2=\"93.3398\"/><text fill=\"#000000\" font-family=\"sans-serif\" font-size=\"11\" lengthAdjust=\"spacingAndGlyphs\" textLength=\"41\" x=\"91.5\" y=\"96.6479\">actions</text><line style=\"stroke: #383838; stroke-width: 1.0;\" x1=\"132.5\" x2=\"191\" y1=\"93.3398\" y2=\"93.3398\"/></a><!--MD5=[ad82a5665882da4158b0eb1939dcc2a5]\n",
       "@startuml\r\n",
       "top to bottom direction\r\n",
       "skinparam monochrome true\r\n",
       "skinparam classbackgroundcolor white\r\n",
       "skinparam shadowing false\r\n",
       "skinparam wrapWidth 300\r\n",
       "hide circle\r\n",
       "\r\n",
       "package \"ActionTest\" as E1  [[psysml:470c72d5-baee-42c0-b878-d250ab3f6a02 ]]  {\r\n",
       "comp usage \"a\" as E2  <<(T,blue)action>> [[psysml:a7348084-8388-422f-b3f3-189098fa41d5 ]] {\r\n",
       "- - actions - -\r\n",
       "start: Action\\n//:>>Occurrence::startShot// \r\n",
       "}\r\n",
       "}\r\n",
       "@enduml\r\n",
       "\n",
       "PlantUML version 1.2020.13(Sat Jun 13 12:26:38 UTC 2020)\n",
       "(EPL source distribution)\n",
       "Java Runtime: OpenJDK Runtime Environment\n",
       "JVM: OpenJDK 64-Bit Server VM\n",
       "Default Encoding: UTF-8\n",
       "Language: en\n",
       "Country: null\n",
       "--></g></svg>"
      ]
     },
     "execution_count": 45,
     "metadata": {},
     "output_type": "execute_result"
    }
   ],
   "source": [
    "%viz --style=\"TB\" --view=\"Tree\" \"ActionTest\""
   ]
  },
  {
   "cell_type": "code",
   "execution_count": 46,
   "id": "thermal-print",
   "metadata": {
    "execution": {
     "iopub.execute_input": "2021-03-26T12:08:36.910744Z",
     "iopub.status.busy": "2021-03-26T12:08:36.910039Z",
     "iopub.status.idle": "2021-03-26T12:08:36.915639Z",
     "shell.execute_reply": "2021-03-26T12:08:36.915223Z"
    }
   },
   "outputs": [
    {
     "data": {
      "image/svg+xml": [
       "<?xml version=\"1.0\" encoding=\"UTF-8\" standalone=\"no\"?><svg xmlns=\"http://www.w3.org/2000/svg\" xmlns:xlink=\"http://www.w3.org/1999/xlink\" contentScriptType=\"application/ecmascript\" contentStyleType=\"text/css\" height=\"12px\" preserveAspectRatio=\"none\" style=\"width:12px;height:12px;\" version=\"1.1\" viewBox=\"0 0 12 12\" width=\"12px\" zoomAndPan=\"magnify\"><defs/><g><!--MD5=[f4ee21bc66e489b5061b7c3e9601fdef]\n",
       "@startuml\r\n",
       "top to bottom direction\r\n",
       "skinparam monochrome true\r\n",
       "skinparam classbackgroundcolor white\r\n",
       "skinparam shadowing false\r\n",
       "skinparam wrapWidth 300\r\n",
       "hide circle\r\n",
       "\r\n",
       "@enduml\r\n",
       "\n",
       "PlantUML version 1.2020.13(Sat Jun 13 12:26:38 UTC 2020)\n",
       "(EPL source distribution)\n",
       "Java Runtime: OpenJDK Runtime Environment\n",
       "JVM: OpenJDK 64-Bit Server VM\n",
       "Default Encoding: UTF-8\n",
       "Language: en\n",
       "Country: null\n",
       "--></g></svg>"
      ]
     },
     "execution_count": 46,
     "metadata": {},
     "output_type": "execute_result"
    }
   ],
   "source": [
    "%viz --style=\"TB\" --view=\"State\" \"ActionTest\""
   ]
  },
  {
   "cell_type": "code",
   "execution_count": 47,
   "id": "muslim-phase",
   "metadata": {
    "execution": {
     "iopub.execute_input": "2021-03-26T12:08:36.967602Z",
     "iopub.status.busy": "2021-03-26T12:08:36.966882Z",
     "iopub.status.idle": "2021-03-26T12:08:36.993150Z",
     "shell.execute_reply": "2021-03-26T12:08:36.992703Z"
    }
   },
   "outputs": [
    {
     "data": {
      "image/svg+xml": [
       "<?xml version=\"1.0\" encoding=\"UTF-8\" standalone=\"no\"?><svg xmlns=\"http://www.w3.org/2000/svg\" xmlns:xlink=\"http://www.w3.org/1999/xlink\" contentScriptType=\"application/ecmascript\" contentStyleType=\"text/css\" height=\"209px\" preserveAspectRatio=\"none\" style=\"width:296px;height:209px;\" version=\"1.1\" viewBox=\"0 0 296 209\" width=\"296px\" zoomAndPan=\"magnify\"><defs/><g><!--MD5=[fbc87193dbaf4d95561dea2c320d4a47]\n",
       "cluster E1--><a href=\"psysml:470c72d5-baee-42c0-b878-d250ab3f6a02\" target=\"_top\" title=\"psysml:470c72d5-baee-42c0-b878-d250ab3f6a02\" xlink:actuate=\"onRequest\" xlink:href=\"psysml:470c72d5-baee-42c0-b878-d250ab3f6a02\" xlink:show=\"new\" xlink:title=\"psysml:470c72d5-baee-42c0-b878-d250ab3f6a02\" xlink:type=\"simple\"><polygon fill=\"#FFFFFF\" points=\"16,6,107,6,114,28.2969,274,28.2969,274,197,16,197,16,6\" style=\"stroke: #000000; stroke-width: 1.5;\"/><line style=\"stroke: #000000; stroke-width: 1.5;\" x1=\"16\" x2=\"114\" y1=\"28.2969\" y2=\"28.2969\"/><text fill=\"#000000\" font-family=\"sans-serif\" font-size=\"14\" font-weight=\"bold\" lengthAdjust=\"spacingAndGlyphs\" textLength=\"85\" x=\"20\" y=\"20.9951\">ActionTest</text></a><!--MD5=[e4f7fae6ed58524ba242bb0b0d3be6b7]\n",
       "cluster E2--><a href=\"psysml:a7348084-8388-422f-b3f3-189098fa41d5\" target=\"_top\" title=\"psysml:a7348084-8388-422f-b3f3-189098fa41d5\" xlink:actuate=\"onRequest\" xlink:href=\"psysml:a7348084-8388-422f-b3f3-189098fa41d5\" xlink:show=\"new\" xlink:title=\"psysml:a7348084-8388-422f-b3f3-189098fa41d5\" xlink:type=\"simple\"><rect fill=\"#FFFFFF\" height=\"124\" id=\"E2\" rx=\"10\" ry=\"10\" style=\"stroke: #383838; stroke-width: 1.5;\" width=\"210\" x=\"40\" y=\"49\"/><rect fill=\"#F8F8F8\" height=\"37.9375\" rx=\"10\" ry=\"10\" style=\"stroke: #F8F8F8; stroke-width: 1.5;\" width=\"210\" x=\"40\" y=\"49\"/><rect fill=\"#F8F8F8\" height=\"10\" style=\"stroke: #F8F8F8; stroke-width: 1.5;\" width=\"210\" x=\"40\" y=\"76.9375\"/><rect fill=\"none\" height=\"124\" id=\"E2\" rx=\"10\" ry=\"10\" style=\"stroke: #383838; stroke-width: 1.5;\" width=\"210\" x=\"40\" y=\"49\"/><text fill=\"#000000\" font-family=\"sans-serif\" font-size=\"12\" font-style=\"italic\" lengthAdjust=\"spacingAndGlyphs\" textLength=\"53\" x=\"118.5\" y=\"65.1387\">«action»</text><text fill=\"#000000\" font-family=\"sans-serif\" font-size=\"12\" lengthAdjust=\"spacingAndGlyphs\" textLength=\"8\" x=\"141\" y=\"79.1074\">a</text><line style=\"stroke: #383838; stroke-width: 1.0;\" x1=\"40\" x2=\"250\" y1=\"86.9375\" y2=\"86.9375\"/></a><g id=\"E1.E2.E3\"><a href=\"psysml:ba977e5b-bee9-4d3d-9976-80a8f9a7c434\" target=\"_top\" title=\"psysml:ba977e5b-bee9-4d3d-9976-80a8f9a7c434\" xlink:actuate=\"onRequest\" xlink:href=\"psysml:ba977e5b-bee9-4d3d-9976-80a8f9a7c434\" xlink:show=\"new\" xlink:title=\"psysml:ba977e5b-bee9-4d3d-9976-80a8f9a7c434\" xlink:type=\"simple\"><rect fill=\"#FFFFFF\" height=\"56.9063\" id=\"E3\" rx=\"10\" ry=\"10\" style=\"stroke: #383838; stroke-width: 1.5;\" width=\"178\" x=\"56\" y=\"100\"/><rect fill=\"#F8F8F8\" height=\"51.9063\" rx=\"10\" ry=\"10\" style=\"stroke: #F8F8F8; stroke-width: 1.5;\" width=\"178\" x=\"56\" y=\"100\"/><rect fill=\"#F8F8F8\" height=\"10\" style=\"stroke: #F8F8F8; stroke-width: 1.5;\" width=\"178\" x=\"56\" y=\"141.9063\"/><rect fill=\"none\" height=\"56.9063\" id=\"E3\" rx=\"10\" ry=\"10\" style=\"stroke: #383838; stroke-width: 1.5;\" width=\"178\" x=\"56\" y=\"100\"/><text fill=\"#000000\" font-family=\"sans-serif\" font-size=\"12\" font-style=\"italic\" lengthAdjust=\"spacingAndGlyphs\" textLength=\"53\" x=\"118.5\" y=\"116.1387\">«action»</text><text fill=\"#000000\" font-family=\"sans-serif\" font-size=\"12\" lengthAdjust=\"spacingAndGlyphs\" textLength=\"77\" x=\"106.5\" y=\"130.1074\">start: Action</text><text fill=\"#000000\" font-family=\"sans-serif\" font-size=\"12\" font-style=\"italic\" lengthAdjust=\"spacingAndGlyphs\" textLength=\"163\" x=\"61.5\" y=\"144.0762\">:&gt;&gt;Occurrence::startShot</text><text fill=\"#000000\" font-family=\"sans-serif\" font-size=\"12\" lengthAdjust=\"spacingAndGlyphs\" textLength=\"0\" x=\"228.5\" y=\"144.0762\"/></a></g><!--MD5=[7df02ce77ebf4a27799ae202df15ede6]\n",
       "@startuml\r\n",
       "skinparam ranksep 8\r\n",
       "skinparam rectangle {\r\n",
       " backgroundColor<<block>> LightGreen\r\n",
       "}\r\n",
       "top to bottom direction\r\n",
       "skinparam monochrome true\r\n",
       "skinparam classbackgroundcolor white\r\n",
       "skinparam shadowing false\r\n",
       "skinparam wrapWidth 300\r\n",
       "hide circle\r\n",
       "\r\n",
       "package \"ActionTest\" as E1  [[psysml:470c72d5-baee-42c0-b878-d250ab3f6a02 ]]  {\r\n",
       "rec usage \"a\" as E2  <<(T,blue)action>> [[psysml:a7348084-8388-422f-b3f3-189098fa41d5 ]] {\r\n",
       "rec usage \"start: Action\\n//:>>Occurrence::startShot// \" as E3  <<(T,blue)action>> [[psysml:ba977e5b-bee9-4d3d-9976-80a8f9a7c434 ]] {\r\n",
       "}\r\n",
       "}\r\n",
       "}\r\n",
       "@enduml\r\n",
       "\n",
       "PlantUML version 1.2020.13(Sat Jun 13 12:26:38 UTC 2020)\n",
       "(EPL source distribution)\n",
       "Java Runtime: OpenJDK Runtime Environment\n",
       "JVM: OpenJDK 64-Bit Server VM\n",
       "Default Encoding: UTF-8\n",
       "Language: en\n",
       "Country: null\n",
       "--></g></svg>"
      ]
     },
     "execution_count": 47,
     "metadata": {},
     "output_type": "execute_result"
    }
   ],
   "source": [
    "%viz --style=\"TB\" --view=\"Interconnection\" \"ActionTest\""
   ]
  },
  {
   "cell_type": "code",
   "execution_count": 48,
   "id": "funded-columbus",
   "metadata": {
    "execution": {
     "iopub.execute_input": "2021-03-26T12:08:37.045195Z",
     "iopub.status.busy": "2021-03-26T12:08:37.044737Z",
     "iopub.status.idle": "2021-03-26T12:08:37.068097Z",
     "shell.execute_reply": "2021-03-26T12:08:37.067717Z"
    }
   },
   "outputs": [
    {
     "data": {
      "image/svg+xml": [
       "<?xml version=\"1.0\" encoding=\"UTF-8\" standalone=\"no\"?><svg xmlns=\"http://www.w3.org/2000/svg\" xmlns:xlink=\"http://www.w3.org/1999/xlink\" contentScriptType=\"application/ecmascript\" contentStyleType=\"text/css\" height=\"128px\" preserveAspectRatio=\"none\" style=\"width:111px;height:128px;\" version=\"1.1\" viewBox=\"0 0 111 128\" width=\"111px\" zoomAndPan=\"magnify\"><defs/><g><!--MD5=[fbc87193dbaf4d95561dea2c320d4a47]\n",
       "cluster E1--><a href=\"psysml:a7348084-8388-422f-b3f3-189098fa41d5\" target=\"_top\" title=\"psysml:a7348084-8388-422f-b3f3-189098fa41d5\" xlink:actuate=\"onRequest\" xlink:href=\"psysml:a7348084-8388-422f-b3f3-189098fa41d5\" xlink:show=\"new\" xlink:title=\"psysml:a7348084-8388-422f-b3f3-189098fa41d5\" xlink:type=\"simple\"><rect fill=\"#FFFFFF\" height=\"110\" id=\"E1\" rx=\"10\" ry=\"10\" style=\"stroke: #383838; stroke-width: 1.5;\" width=\"92\" x=\"7\" y=\"7\"/><rect fill=\"#F8F8F8\" height=\"37.9375\" rx=\"10\" ry=\"10\" style=\"stroke: #F8F8F8; stroke-width: 1.5;\" width=\"92\" x=\"7\" y=\"7\"/><rect fill=\"#F8F8F8\" height=\"10\" style=\"stroke: #F8F8F8; stroke-width: 1.5;\" width=\"92\" x=\"7\" y=\"34.9375\"/><rect fill=\"none\" height=\"110\" id=\"E1\" rx=\"10\" ry=\"10\" style=\"stroke: #383838; stroke-width: 1.5;\" width=\"92\" x=\"7\" y=\"7\"/><text fill=\"#000000\" font-family=\"sans-serif\" font-size=\"12\" font-style=\"italic\" lengthAdjust=\"spacingAndGlyphs\" textLength=\"53\" x=\"26.5\" y=\"23.1387\">«action»</text><text fill=\"#000000\" font-family=\"sans-serif\" font-size=\"12\" lengthAdjust=\"spacingAndGlyphs\" textLength=\"8\" x=\"49\" y=\"37.1074\">a</text><line style=\"stroke: #383838; stroke-width: 1.0;\" x1=\"7\" x2=\"99\" y1=\"44.9375\" y2=\"44.9375\"/></a><g id=\"E1.E2\"><a href=\"psysml:ba977e5b-bee9-4d3d-9976-80a8f9a7c434\" target=\"_top\" title=\"psysml:ba977e5b-bee9-4d3d-9976-80a8f9a7c434\" xlink:actuate=\"onRequest\" xlink:href=\"psysml:ba977e5b-bee9-4d3d-9976-80a8f9a7c434\" xlink:show=\"new\" xlink:title=\"psysml:ba977e5b-bee9-4d3d-9976-80a8f9a7c434\" xlink:type=\"simple\"><rect fill=\"#FFFFFF\" height=\"42.9375\" id=\"E2\" rx=\"10\" ry=\"10\" style=\"stroke: #383838; stroke-width: 1.5;\" width=\"60\" x=\"23\" y=\"58\"/><rect fill=\"#F8F8F8\" height=\"37.9375\" rx=\"10\" ry=\"10\" style=\"stroke: #F8F8F8; stroke-width: 1.5;\" width=\"60\" x=\"23\" y=\"58\"/><rect fill=\"#F8F8F8\" height=\"10\" style=\"stroke: #F8F8F8; stroke-width: 1.5;\" width=\"60\" x=\"23\" y=\"85.9375\"/><rect fill=\"none\" height=\"42.9375\" id=\"E2\" rx=\"10\" ry=\"10\" style=\"stroke: #383838; stroke-width: 1.5;\" width=\"60\" x=\"23\" y=\"58\"/><text fill=\"#000000\" font-family=\"sans-serif\" font-size=\"12\" font-style=\"italic\" lengthAdjust=\"spacingAndGlyphs\" textLength=\"53\" x=\"26.5\" y=\"74.1387\">«action»</text><text fill=\"#000000\" font-family=\"sans-serif\" font-size=\"12\" lengthAdjust=\"spacingAndGlyphs\" textLength=\"30\" x=\"38\" y=\"88.1074\">start</text></a></g><!--MD5=[6d463749ef7a6134ab8356c7081e3e9e]\n",
       "@startuml\r\n",
       "skinparam ranksep 8\r\n",
       "top to bottom direction\r\n",
       "skinparam monochrome true\r\n",
       "skinparam classbackgroundcolor white\r\n",
       "skinparam shadowing false\r\n",
       "skinparam wrapWidth 300\r\n",
       "hide circle\r\n",
       "\r\n",
       "rec usage \"a\" as E1  <<(T,blue)action>> [[psysml:a7348084-8388-422f-b3f3-189098fa41d5 ]] {\r\n",
       "rec usage \"start\" as E2  <<(T,blue)action>> [[psysml:ba977e5b-bee9-4d3d-9976-80a8f9a7c434 ]] {\r\n",
       "}\r\n",
       "\r\n",
       "}\r\n",
       "\r\n",
       "@enduml\r\n",
       "\n",
       "PlantUML version 1.2020.13(Sat Jun 13 12:26:38 UTC 2020)\n",
       "(EPL source distribution)\n",
       "Java Runtime: OpenJDK Runtime Environment\n",
       "JVM: OpenJDK 64-Bit Server VM\n",
       "Default Encoding: UTF-8\n",
       "Language: en\n",
       "Country: null\n",
       "--></g></svg>"
      ]
     },
     "execution_count": 48,
     "metadata": {},
     "output_type": "execute_result"
    }
   ],
   "source": [
    "%viz --style=\"TB\" --view=\"Action\" \"ActionTest\""
   ]
  },
  {
   "cell_type": "code",
   "execution_count": 49,
   "id": "civic-arcade",
   "metadata": {
    "execution": {
     "iopub.execute_input": "2021-03-26T12:08:37.120959Z",
     "iopub.status.busy": "2021-03-26T12:08:37.120217Z",
     "iopub.status.idle": "2021-03-26T12:08:37.161378Z",
     "shell.execute_reply": "2021-03-26T12:08:37.160705Z"
    }
   },
   "outputs": [
    {
     "data": {
      "image/svg+xml": [
       "<?xml version=\"1.0\" encoding=\"UTF-8\" standalone=\"no\"?><svg xmlns=\"http://www.w3.org/2000/svg\" xmlns:xlink=\"http://www.w3.org/1999/xlink\" contentScriptType=\"application/ecmascript\" contentStyleType=\"text/css\" height=\"157px\" preserveAspectRatio=\"none\" style=\"width:230px;height:157px;\" version=\"1.1\" viewBox=\"0 0 230 157\" width=\"230px\" zoomAndPan=\"magnify\"><defs/><g><!--MD5=[fbc87193dbaf4d95561dea2c320d4a47]\n",
       "cluster E1--><a href=\"psysml:470c72d5-baee-42c0-b878-d250ab3f6a02\" target=\"_top\" title=\"psysml:470c72d5-baee-42c0-b878-d250ab3f6a02\" xlink:actuate=\"onRequest\" xlink:href=\"psysml:470c72d5-baee-42c0-b878-d250ab3f6a02\" xlink:show=\"new\" xlink:title=\"psysml:470c72d5-baee-42c0-b878-d250ab3f6a02\" xlink:type=\"simple\"><polygon fill=\"#FFFFFF\" points=\"16,6,107,6,114,28.2969,208,28.2969,208,145,16,145,16,6\" style=\"stroke: #000000; stroke-width: 1.5;\"/><line style=\"stroke: #000000; stroke-width: 1.5;\" x1=\"16\" x2=\"114\" y1=\"28.2969\" y2=\"28.2969\"/><text fill=\"#000000\" font-family=\"sans-serif\" font-size=\"14\" font-weight=\"bold\" lengthAdjust=\"spacingAndGlyphs\" textLength=\"85\" x=\"20\" y=\"20.9951\">ActionTest</text></a><!--MD5=[b4997ac47864f28c2f74865a473b2911]\n",
       "class E2--><a href=\"psysml:a7348084-8388-422f-b3f3-189098fa41d5\" target=\"_top\" title=\"psysml:a7348084-8388-422f-b3f3-189098fa41d5\" xlink:actuate=\"onRequest\" xlink:href=\"psysml:a7348084-8388-422f-b3f3-189098fa41d5\" xlink:show=\"new\" xlink:title=\"psysml:a7348084-8388-422f-b3f3-189098fa41d5\" xlink:type=\"simple\"><rect fill=\"#FFFFFF\" height=\"88.3516\" id=\"E2\" rx=\"10\" ry=\"10\" style=\"stroke: #383838; stroke-width: 1.5;\" width=\"160\" x=\"32\" y=\"41\"/><text fill=\"#000000\" font-family=\"sans-serif\" font-size=\"12\" font-style=\"italic\" lengthAdjust=\"spacingAndGlyphs\" textLength=\"53\" x=\"85.5\" y=\"57.1387\">«action»</text><text fill=\"#000000\" font-family=\"sans-serif\" font-size=\"12\" lengthAdjust=\"spacingAndGlyphs\" textLength=\"8\" x=\"108\" y=\"71.1074\">a</text><line style=\"stroke: #383838; stroke-width: 1.5;\" x1=\"33\" x2=\"191\" y1=\"78.9375\" y2=\"78.9375\"/><text fill=\"#000000\" font-family=\"sans-serif\" font-size=\"11\" lengthAdjust=\"spacingAndGlyphs\" textLength=\"69\" x=\"38\" y=\"109.9526\">start: Action</text><text fill=\"#000000\" font-family=\"sans-serif\" font-size=\"11\" font-style=\"italic\" lengthAdjust=\"spacingAndGlyphs\" textLength=\"148\" x=\"38\" y=\"122.7573\">:&gt;&gt;Occurrence::startShot</text><line style=\"stroke: #383838; stroke-width: 1.0;\" x1=\"33\" x2=\"91.5\" y1=\"93.3398\" y2=\"93.3398\"/><text fill=\"#000000\" font-family=\"sans-serif\" font-size=\"11\" lengthAdjust=\"spacingAndGlyphs\" textLength=\"41\" x=\"91.5\" y=\"96.6479\">actions</text><line style=\"stroke: #383838; stroke-width: 1.0;\" x1=\"132.5\" x2=\"191\" y1=\"93.3398\" y2=\"93.3398\"/></a><!--MD5=[ad82a5665882da4158b0eb1939dcc2a5]\n",
       "@startuml\r\n",
       "top to bottom direction\r\n",
       "skinparam monochrome true\r\n",
       "skinparam classbackgroundcolor white\r\n",
       "skinparam shadowing false\r\n",
       "skinparam wrapWidth 300\r\n",
       "hide circle\r\n",
       "\r\n",
       "package \"ActionTest\" as E1  [[psysml:470c72d5-baee-42c0-b878-d250ab3f6a02 ]]  {\r\n",
       "comp usage \"a\" as E2  <<(T,blue)action>> [[psysml:a7348084-8388-422f-b3f3-189098fa41d5 ]] {\r\n",
       "- - actions - -\r\n",
       "start: Action\\n//:>>Occurrence::startShot// \r\n",
       "}\r\n",
       "}\r\n",
       "@enduml\r\n",
       "\n",
       "PlantUML version 1.2020.13(Sat Jun 13 12:26:38 UTC 2020)\n",
       "(EPL source distribution)\n",
       "Java Runtime: OpenJDK Runtime Environment\n",
       "JVM: OpenJDK 64-Bit Server VM\n",
       "Default Encoding: UTF-8\n",
       "Language: en\n",
       "Country: null\n",
       "--></g></svg>"
      ]
     },
     "execution_count": 49,
     "metadata": {},
     "output_type": "execute_result"
    }
   ],
   "source": [
    "%viz --style=\"TB\" --view=\"Sequence\" \"ActionTest\""
   ]
  },
  {
   "cell_type": "code",
   "execution_count": 50,
   "id": "laden-toner",
   "metadata": {
    "execution": {
     "iopub.execute_input": "2021-03-26T12:08:37.216228Z",
     "iopub.status.busy": "2021-03-26T12:08:37.215152Z",
     "iopub.status.idle": "2021-03-26T12:08:37.243474Z",
     "shell.execute_reply": "2021-03-26T12:08:37.243133Z"
    }
   },
   "outputs": [
    {
     "data": {
      "image/svg+xml": [
       "<?xml version=\"1.0\" encoding=\"UTF-8\" standalone=\"no\"?><svg xmlns=\"http://www.w3.org/2000/svg\" xmlns:xlink=\"http://www.w3.org/1999/xlink\" contentScriptType=\"application/ecmascript\" contentStyleType=\"text/css\" height=\"195px\" preserveAspectRatio=\"none\" style=\"width:178px;height:195px;\" version=\"1.1\" viewBox=\"0 0 178 195\" width=\"178px\" zoomAndPan=\"magnify\"><defs/><g><!--MD5=[fbc87193dbaf4d95561dea2c320d4a47]\n",
       "cluster E1--><a href=\"psysml:470c72d5-baee-42c0-b878-d250ab3f6a02\" target=\"_top\" title=\"psysml:470c72d5-baee-42c0-b878-d250ab3f6a02\" xlink:actuate=\"onRequest\" xlink:href=\"psysml:470c72d5-baee-42c0-b878-d250ab3f6a02\" xlink:show=\"new\" xlink:title=\"psysml:470c72d5-baee-42c0-b878-d250ab3f6a02\" xlink:type=\"simple\"><polygon fill=\"#FFFFFF\" points=\"16,6,107,6,114,28.2969,156,28.2969,156,183,16,183,16,6\" style=\"stroke: #000000; stroke-width: 1.5;\"/><line style=\"stroke: #000000; stroke-width: 1.5;\" x1=\"16\" x2=\"114\" y1=\"28.2969\" y2=\"28.2969\"/><text fill=\"#000000\" font-family=\"sans-serif\" font-size=\"14\" font-weight=\"bold\" lengthAdjust=\"spacingAndGlyphs\" textLength=\"85\" x=\"20\" y=\"20.9951\">ActionTest</text></a><!--MD5=[e4f7fae6ed58524ba242bb0b0d3be6b7]\n",
       "cluster E2--><a href=\"psysml:a7348084-8388-422f-b3f3-189098fa41d5\" target=\"_top\" title=\"psysml:a7348084-8388-422f-b3f3-189098fa41d5\" xlink:actuate=\"onRequest\" xlink:href=\"psysml:a7348084-8388-422f-b3f3-189098fa41d5\" xlink:show=\"new\" xlink:title=\"psysml:a7348084-8388-422f-b3f3-189098fa41d5\" xlink:type=\"simple\"><rect fill=\"#FFFFFF\" height=\"110\" id=\"E2\" rx=\"10\" ry=\"10\" style=\"stroke: #383838; stroke-width: 1.5;\" width=\"92\" x=\"40\" y=\"49\"/><rect fill=\"#F8F8F8\" height=\"37.9375\" rx=\"10\" ry=\"10\" style=\"stroke: #F8F8F8; stroke-width: 1.5;\" width=\"92\" x=\"40\" y=\"49\"/><rect fill=\"#F8F8F8\" height=\"10\" style=\"stroke: #F8F8F8; stroke-width: 1.5;\" width=\"92\" x=\"40\" y=\"76.9375\"/><rect fill=\"none\" height=\"110\" id=\"E2\" rx=\"10\" ry=\"10\" style=\"stroke: #383838; stroke-width: 1.5;\" width=\"92\" x=\"40\" y=\"49\"/><text fill=\"#000000\" font-family=\"sans-serif\" font-size=\"12\" font-style=\"italic\" lengthAdjust=\"spacingAndGlyphs\" textLength=\"53\" x=\"59.5\" y=\"65.1387\">«action»</text><text fill=\"#000000\" font-family=\"sans-serif\" font-size=\"12\" lengthAdjust=\"spacingAndGlyphs\" textLength=\"8\" x=\"82\" y=\"79.1074\">a</text><line style=\"stroke: #383838; stroke-width: 1.0;\" x1=\"40\" x2=\"132\" y1=\"86.9375\" y2=\"86.9375\"/></a><g id=\"E1.E2.E3\"><a href=\"psysml:ba977e5b-bee9-4d3d-9976-80a8f9a7c434\" target=\"_top\" title=\"psysml:ba977e5b-bee9-4d3d-9976-80a8f9a7c434\" xlink:actuate=\"onRequest\" xlink:href=\"psysml:ba977e5b-bee9-4d3d-9976-80a8f9a7c434\" xlink:show=\"new\" xlink:title=\"psysml:ba977e5b-bee9-4d3d-9976-80a8f9a7c434\" xlink:type=\"simple\"><rect fill=\"#FFFFFF\" height=\"42.9375\" id=\"E3\" rx=\"10\" ry=\"10\" style=\"stroke: #383838; stroke-width: 1.5;\" width=\"60\" x=\"56\" y=\"100\"/><rect fill=\"#F8F8F8\" height=\"37.9375\" rx=\"10\" ry=\"10\" style=\"stroke: #F8F8F8; stroke-width: 1.5;\" width=\"60\" x=\"56\" y=\"100\"/><rect fill=\"#F8F8F8\" height=\"10\" style=\"stroke: #F8F8F8; stroke-width: 1.5;\" width=\"60\" x=\"56\" y=\"127.9375\"/><rect fill=\"none\" height=\"42.9375\" id=\"E3\" rx=\"10\" ry=\"10\" style=\"stroke: #383838; stroke-width: 1.5;\" width=\"60\" x=\"56\" y=\"100\"/><text fill=\"#000000\" font-family=\"sans-serif\" font-size=\"12\" font-style=\"italic\" lengthAdjust=\"spacingAndGlyphs\" textLength=\"53\" x=\"59.5\" y=\"116.1387\">«action»</text><text fill=\"#000000\" font-family=\"sans-serif\" font-size=\"12\" lengthAdjust=\"spacingAndGlyphs\" textLength=\"30\" x=\"71\" y=\"130.1074\">start</text></a></g><!--MD5=[6b10511b54bc368e7db01106e7db5201]\n",
       "@startuml\r\n",
       "top to bottom direction\r\n",
       "skinparam monochrome true\r\n",
       "skinparam classbackgroundcolor white\r\n",
       "skinparam shadowing false\r\n",
       "skinparam wrapWidth 300\r\n",
       "hide circle\r\n",
       "\r\n",
       "package \"ActionTest\" as E1  [[psysml:470c72d5-baee-42c0-b878-d250ab3f6a02 ]]  {\r\n",
       "rec usage \"a\" as E2  <<(T,blue)action>> [[psysml:a7348084-8388-422f-b3f3-189098fa41d5 ]] {\r\n",
       "rec usage \"start\" as E3  <<(T,blue)action>> [[psysml:ba977e5b-bee9-4d3d-9976-80a8f9a7c434 ]] {\r\n",
       "}\r\n",
       "\r\n",
       "}\r\n",
       "\r\n",
       "}\r\n",
       "@enduml\r\n",
       "\n",
       "PlantUML version 1.2020.13(Sat Jun 13 12:26:38 UTC 2020)\n",
       "(EPL source distribution)\n",
       "Java Runtime: OpenJDK Runtime Environment\n",
       "JVM: OpenJDK 64-Bit Server VM\n",
       "Default Encoding: UTF-8\n",
       "Language: en\n",
       "Country: null\n",
       "--></g></svg>"
      ]
     },
     "execution_count": 50,
     "metadata": {},
     "output_type": "execute_result"
    }
   ],
   "source": [
    "%viz --style=\"TB\" --view=\"MIXED\" \"ActionTest\""
   ]
  },
  {
   "cell_type": "code",
   "execution_count": 51,
   "id": "animated-thumb",
   "metadata": {
    "execution": {
     "iopub.execute_input": "2021-03-26T12:08:37.291790Z",
     "iopub.status.busy": "2021-03-26T12:08:37.290863Z",
     "iopub.status.idle": "2021-03-26T12:08:37.320356Z",
     "shell.execute_reply": "2021-03-26T12:08:37.320060Z"
    }
   },
   "outputs": [
    {
     "data": {
      "image/svg+xml": [
       "<?xml version=\"1.0\" encoding=\"UTF-8\" standalone=\"no\"?><svg xmlns=\"http://www.w3.org/2000/svg\" xmlns:xlink=\"http://www.w3.org/1999/xlink\" contentScriptType=\"application/ecmascript\" contentStyleType=\"text/css\" height=\"195px\" preserveAspectRatio=\"none\" style=\"width:178px;height:195px;\" version=\"1.1\" viewBox=\"0 0 178 195\" width=\"178px\" zoomAndPan=\"magnify\"><defs/><g><!--MD5=[fbc87193dbaf4d95561dea2c320d4a47]\n",
       "cluster E1--><a href=\"psysml:470c72d5-baee-42c0-b878-d250ab3f6a02\" target=\"_top\" title=\"psysml:470c72d5-baee-42c0-b878-d250ab3f6a02\" xlink:actuate=\"onRequest\" xlink:href=\"psysml:470c72d5-baee-42c0-b878-d250ab3f6a02\" xlink:show=\"new\" xlink:title=\"psysml:470c72d5-baee-42c0-b878-d250ab3f6a02\" xlink:type=\"simple\"><polygon fill=\"#FFFFFF\" points=\"16,6,107,6,114,28.2969,156,28.2969,156,183,16,183,16,6\" style=\"stroke: #000000; stroke-width: 1.5;\"/><line style=\"stroke: #000000; stroke-width: 1.5;\" x1=\"16\" x2=\"114\" y1=\"28.2969\" y2=\"28.2969\"/><text fill=\"#000000\" font-family=\"sans-serif\" font-size=\"14\" font-weight=\"bold\" lengthAdjust=\"spacingAndGlyphs\" textLength=\"85\" x=\"20\" y=\"20.9951\">ActionTest</text></a><!--MD5=[e4f7fae6ed58524ba242bb0b0d3be6b7]\n",
       "cluster E2--><a href=\"psysml:a7348084-8388-422f-b3f3-189098fa41d5\" target=\"_top\" title=\"psysml:a7348084-8388-422f-b3f3-189098fa41d5\" xlink:actuate=\"onRequest\" xlink:href=\"psysml:a7348084-8388-422f-b3f3-189098fa41d5\" xlink:show=\"new\" xlink:title=\"psysml:a7348084-8388-422f-b3f3-189098fa41d5\" xlink:type=\"simple\"><rect fill=\"#FFFFFF\" height=\"110\" id=\"E2\" rx=\"10\" ry=\"10\" style=\"stroke: #383838; stroke-width: 1.5;\" width=\"92\" x=\"40\" y=\"49\"/><rect fill=\"#F8F8F8\" height=\"37.9375\" rx=\"10\" ry=\"10\" style=\"stroke: #F8F8F8; stroke-width: 1.5;\" width=\"92\" x=\"40\" y=\"49\"/><rect fill=\"#F8F8F8\" height=\"10\" style=\"stroke: #F8F8F8; stroke-width: 1.5;\" width=\"92\" x=\"40\" y=\"76.9375\"/><rect fill=\"none\" height=\"110\" id=\"E2\" rx=\"10\" ry=\"10\" style=\"stroke: #383838; stroke-width: 1.5;\" width=\"92\" x=\"40\" y=\"49\"/><text fill=\"#000000\" font-family=\"sans-serif\" font-size=\"12\" font-style=\"italic\" lengthAdjust=\"spacingAndGlyphs\" textLength=\"53\" x=\"59.5\" y=\"65.1387\">«action»</text><text fill=\"#000000\" font-family=\"sans-serif\" font-size=\"12\" lengthAdjust=\"spacingAndGlyphs\" textLength=\"8\" x=\"82\" y=\"79.1074\">a</text><line style=\"stroke: #383838; stroke-width: 1.0;\" x1=\"40\" x2=\"132\" y1=\"86.9375\" y2=\"86.9375\"/></a><g id=\"E1.E2.E3\"><a href=\"psysml:ba977e5b-bee9-4d3d-9976-80a8f9a7c434\" target=\"_top\" title=\"psysml:ba977e5b-bee9-4d3d-9976-80a8f9a7c434\" xlink:actuate=\"onRequest\" xlink:href=\"psysml:ba977e5b-bee9-4d3d-9976-80a8f9a7c434\" xlink:show=\"new\" xlink:title=\"psysml:ba977e5b-bee9-4d3d-9976-80a8f9a7c434\" xlink:type=\"simple\"><rect fill=\"#FFFFFF\" height=\"42.9375\" id=\"E3\" rx=\"10\" ry=\"10\" style=\"stroke: #383838; stroke-width: 1.5;\" width=\"60\" x=\"56\" y=\"100\"/><rect fill=\"#F8F8F8\" height=\"37.9375\" rx=\"10\" ry=\"10\" style=\"stroke: #F8F8F8; stroke-width: 1.5;\" width=\"60\" x=\"56\" y=\"100\"/><rect fill=\"#F8F8F8\" height=\"10\" style=\"stroke: #F8F8F8; stroke-width: 1.5;\" width=\"60\" x=\"56\" y=\"127.9375\"/><rect fill=\"none\" height=\"42.9375\" id=\"E3\" rx=\"10\" ry=\"10\" style=\"stroke: #383838; stroke-width: 1.5;\" width=\"60\" x=\"56\" y=\"100\"/><text fill=\"#000000\" font-family=\"sans-serif\" font-size=\"12\" font-style=\"italic\" lengthAdjust=\"spacingAndGlyphs\" textLength=\"53\" x=\"59.5\" y=\"116.1387\">«action»</text><text fill=\"#000000\" font-family=\"sans-serif\" font-size=\"12\" lengthAdjust=\"spacingAndGlyphs\" textLength=\"30\" x=\"71\" y=\"130.1074\">start</text></a></g><!--MD5=[89c29902ff6328bc865f9f97e89589d5]\n",
       "@startuml\r\n",
       "skinparam linetype ortho\r\n",
       "skinparam monochrome true\r\n",
       "skinparam classbackgroundcolor white\r\n",
       "skinparam shadowing false\r\n",
       "skinparam wrapWidth 300\r\n",
       "hide circle\r\n",
       "\r\n",
       "package \"ActionTest\" as E1  [[psysml:470c72d5-baee-42c0-b878-d250ab3f6a02 ]]  {\r\n",
       "rec usage \"a\" as E2  <<(T,blue)action>> [[psysml:a7348084-8388-422f-b3f3-189098fa41d5 ]] {\r\n",
       "rec usage \"start\" as E3  <<(T,blue)action>> [[psysml:ba977e5b-bee9-4d3d-9976-80a8f9a7c434 ]] {\r\n",
       "}\r\n",
       "\r\n",
       "}\r\n",
       "\r\n",
       "}\r\n",
       "@enduml\r\n",
       "\n",
       "PlantUML version 1.2020.13(Sat Jun 13 12:26:38 UTC 2020)\n",
       "(EPL source distribution)\n",
       "Java Runtime: OpenJDK Runtime Environment\n",
       "JVM: OpenJDK 64-Bit Server VM\n",
       "Default Encoding: UTF-8\n",
       "Language: en\n",
       "Country: null\n",
       "--></g></svg>"
      ]
     },
     "execution_count": 51,
     "metadata": {},
     "output_type": "execute_result"
    }
   ],
   "source": [
    "%viz --style=\"ORTHOLINE\" --view=\"Default\" \"ActionTest\""
   ]
  },
  {
   "cell_type": "code",
   "execution_count": 52,
   "id": "loved-empire",
   "metadata": {
    "execution": {
     "iopub.execute_input": "2021-03-26T12:08:37.371986Z",
     "iopub.status.busy": "2021-03-26T12:08:37.371183Z",
     "iopub.status.idle": "2021-03-26T12:08:37.415365Z",
     "shell.execute_reply": "2021-03-26T12:08:37.414793Z"
    }
   },
   "outputs": [
    {
     "data": {
      "image/svg+xml": [
       "<?xml version=\"1.0\" encoding=\"UTF-8\" standalone=\"no\"?><svg xmlns=\"http://www.w3.org/2000/svg\" xmlns:xlink=\"http://www.w3.org/1999/xlink\" contentScriptType=\"application/ecmascript\" contentStyleType=\"text/css\" height=\"157px\" preserveAspectRatio=\"none\" style=\"width:230px;height:157px;\" version=\"1.1\" viewBox=\"0 0 230 157\" width=\"230px\" zoomAndPan=\"magnify\"><defs/><g><!--MD5=[fbc87193dbaf4d95561dea2c320d4a47]\n",
       "cluster E1--><a href=\"psysml:470c72d5-baee-42c0-b878-d250ab3f6a02\" target=\"_top\" title=\"psysml:470c72d5-baee-42c0-b878-d250ab3f6a02\" xlink:actuate=\"onRequest\" xlink:href=\"psysml:470c72d5-baee-42c0-b878-d250ab3f6a02\" xlink:show=\"new\" xlink:title=\"psysml:470c72d5-baee-42c0-b878-d250ab3f6a02\" xlink:type=\"simple\"><polygon fill=\"#FFFFFF\" points=\"16,6,107,6,114,28.2969,208,28.2969,208,145,16,145,16,6\" style=\"stroke: #000000; stroke-width: 1.5;\"/><line style=\"stroke: #000000; stroke-width: 1.5;\" x1=\"16\" x2=\"114\" y1=\"28.2969\" y2=\"28.2969\"/><text fill=\"#000000\" font-family=\"sans-serif\" font-size=\"14\" font-weight=\"bold\" lengthAdjust=\"spacingAndGlyphs\" textLength=\"85\" x=\"20\" y=\"20.9951\">ActionTest</text></a><!--MD5=[b4997ac47864f28c2f74865a473b2911]\n",
       "class E2--><a href=\"psysml:a7348084-8388-422f-b3f3-189098fa41d5\" target=\"_top\" title=\"psysml:a7348084-8388-422f-b3f3-189098fa41d5\" xlink:actuate=\"onRequest\" xlink:href=\"psysml:a7348084-8388-422f-b3f3-189098fa41d5\" xlink:show=\"new\" xlink:title=\"psysml:a7348084-8388-422f-b3f3-189098fa41d5\" xlink:type=\"simple\"><rect fill=\"#FFFFFF\" height=\"88.3516\" id=\"E2\" rx=\"10\" ry=\"10\" style=\"stroke: #383838; stroke-width: 1.5;\" width=\"160\" x=\"32\" y=\"41\"/><text fill=\"#000000\" font-family=\"sans-serif\" font-size=\"12\" font-style=\"italic\" lengthAdjust=\"spacingAndGlyphs\" textLength=\"53\" x=\"85.5\" y=\"57.1387\">«action»</text><text fill=\"#000000\" font-family=\"sans-serif\" font-size=\"12\" lengthAdjust=\"spacingAndGlyphs\" textLength=\"8\" x=\"108\" y=\"71.1074\">a</text><line style=\"stroke: #383838; stroke-width: 1.5;\" x1=\"33\" x2=\"191\" y1=\"78.9375\" y2=\"78.9375\"/><text fill=\"#000000\" font-family=\"sans-serif\" font-size=\"11\" lengthAdjust=\"spacingAndGlyphs\" textLength=\"69\" x=\"38\" y=\"109.9526\">start: Action</text><text fill=\"#000000\" font-family=\"sans-serif\" font-size=\"11\" font-style=\"italic\" lengthAdjust=\"spacingAndGlyphs\" textLength=\"148\" x=\"38\" y=\"122.7573\">:&gt;&gt;Occurrence::startShot</text><line style=\"stroke: #383838; stroke-width: 1.0;\" x1=\"33\" x2=\"91.5\" y1=\"93.3398\" y2=\"93.3398\"/><text fill=\"#000000\" font-family=\"sans-serif\" font-size=\"11\" lengthAdjust=\"spacingAndGlyphs\" textLength=\"41\" x=\"91.5\" y=\"96.6479\">actions</text><line style=\"stroke: #383838; stroke-width: 1.0;\" x1=\"132.5\" x2=\"191\" y1=\"93.3398\" y2=\"93.3398\"/></a><!--MD5=[eb0d7d7c95f3d3e31b6225983dd0d5da]\n",
       "@startuml\r\n",
       "skinparam linetype ortho\r\n",
       "skinparam monochrome true\r\n",
       "skinparam classbackgroundcolor white\r\n",
       "skinparam shadowing false\r\n",
       "skinparam wrapWidth 300\r\n",
       "hide circle\r\n",
       "\r\n",
       "package \"ActionTest\" as E1  [[psysml:470c72d5-baee-42c0-b878-d250ab3f6a02 ]]  {\r\n",
       "comp usage \"a\" as E2  <<(T,blue)action>> [[psysml:a7348084-8388-422f-b3f3-189098fa41d5 ]] {\r\n",
       "- - actions - -\r\n",
       "start: Action\\n//:>>Occurrence::startShot// \r\n",
       "}\r\n",
       "}\r\n",
       "@enduml\r\n",
       "\n",
       "PlantUML version 1.2020.13(Sat Jun 13 12:26:38 UTC 2020)\n",
       "(EPL source distribution)\n",
       "Java Runtime: OpenJDK Runtime Environment\n",
       "JVM: OpenJDK 64-Bit Server VM\n",
       "Default Encoding: UTF-8\n",
       "Language: en\n",
       "Country: null\n",
       "--></g></svg>"
      ]
     },
     "execution_count": 52,
     "metadata": {},
     "output_type": "execute_result"
    }
   ],
   "source": [
    "%viz --style=\"ORTHOLINE\" --view=\"Tree\" \"ActionTest\""
   ]
  },
  {
   "cell_type": "code",
   "execution_count": 53,
   "id": "happy-carry",
   "metadata": {
    "execution": {
     "iopub.execute_input": "2021-03-26T12:08:37.467795Z",
     "iopub.status.busy": "2021-03-26T12:08:37.466992Z",
     "iopub.status.idle": "2021-03-26T12:08:37.472589Z",
     "shell.execute_reply": "2021-03-26T12:08:37.472172Z"
    }
   },
   "outputs": [
    {
     "data": {
      "image/svg+xml": [
       "<?xml version=\"1.0\" encoding=\"UTF-8\" standalone=\"no\"?><svg xmlns=\"http://www.w3.org/2000/svg\" xmlns:xlink=\"http://www.w3.org/1999/xlink\" contentScriptType=\"application/ecmascript\" contentStyleType=\"text/css\" height=\"12px\" preserveAspectRatio=\"none\" style=\"width:12px;height:12px;\" version=\"1.1\" viewBox=\"0 0 12 12\" width=\"12px\" zoomAndPan=\"magnify\"><defs/><g><!--MD5=[97d6f38768b311333d388e66b2b27985]\n",
       "@startuml\r\n",
       "skinparam linetype ortho\r\n",
       "skinparam monochrome true\r\n",
       "skinparam classbackgroundcolor white\r\n",
       "skinparam shadowing false\r\n",
       "skinparam wrapWidth 300\r\n",
       "hide circle\r\n",
       "\r\n",
       "@enduml\r\n",
       "\n",
       "PlantUML version 1.2020.13(Sat Jun 13 12:26:38 UTC 2020)\n",
       "(EPL source distribution)\n",
       "Java Runtime: OpenJDK Runtime Environment\n",
       "JVM: OpenJDK 64-Bit Server VM\n",
       "Default Encoding: UTF-8\n",
       "Language: en\n",
       "Country: null\n",
       "--></g></svg>"
      ]
     },
     "execution_count": 53,
     "metadata": {},
     "output_type": "execute_result"
    }
   ],
   "source": [
    "%viz --style=\"ORTHOLINE\" --view=\"State\" \"ActionTest\""
   ]
  },
  {
   "cell_type": "code",
   "execution_count": 54,
   "id": "occupied-penguin",
   "metadata": {
    "execution": {
     "iopub.execute_input": "2021-03-26T12:08:37.525658Z",
     "iopub.status.busy": "2021-03-26T12:08:37.524904Z",
     "iopub.status.idle": "2021-03-26T12:08:37.552919Z",
     "shell.execute_reply": "2021-03-26T12:08:37.552148Z"
    }
   },
   "outputs": [
    {
     "data": {
      "image/svg+xml": [
       "<?xml version=\"1.0\" encoding=\"UTF-8\" standalone=\"no\"?><svg xmlns=\"http://www.w3.org/2000/svg\" xmlns:xlink=\"http://www.w3.org/1999/xlink\" contentScriptType=\"application/ecmascript\" contentStyleType=\"text/css\" height=\"209px\" preserveAspectRatio=\"none\" style=\"width:296px;height:209px;\" version=\"1.1\" viewBox=\"0 0 296 209\" width=\"296px\" zoomAndPan=\"magnify\"><defs/><g><!--MD5=[fbc87193dbaf4d95561dea2c320d4a47]\n",
       "cluster E1--><a href=\"psysml:470c72d5-baee-42c0-b878-d250ab3f6a02\" target=\"_top\" title=\"psysml:470c72d5-baee-42c0-b878-d250ab3f6a02\" xlink:actuate=\"onRequest\" xlink:href=\"psysml:470c72d5-baee-42c0-b878-d250ab3f6a02\" xlink:show=\"new\" xlink:title=\"psysml:470c72d5-baee-42c0-b878-d250ab3f6a02\" xlink:type=\"simple\"><polygon fill=\"#FFFFFF\" points=\"16,6,107,6,114,28.2969,274,28.2969,274,197,16,197,16,6\" style=\"stroke: #000000; stroke-width: 1.5;\"/><line style=\"stroke: #000000; stroke-width: 1.5;\" x1=\"16\" x2=\"114\" y1=\"28.2969\" y2=\"28.2969\"/><text fill=\"#000000\" font-family=\"sans-serif\" font-size=\"14\" font-weight=\"bold\" lengthAdjust=\"spacingAndGlyphs\" textLength=\"85\" x=\"20\" y=\"20.9951\">ActionTest</text></a><!--MD5=[e4f7fae6ed58524ba242bb0b0d3be6b7]\n",
       "cluster E2--><a href=\"psysml:a7348084-8388-422f-b3f3-189098fa41d5\" target=\"_top\" title=\"psysml:a7348084-8388-422f-b3f3-189098fa41d5\" xlink:actuate=\"onRequest\" xlink:href=\"psysml:a7348084-8388-422f-b3f3-189098fa41d5\" xlink:show=\"new\" xlink:title=\"psysml:a7348084-8388-422f-b3f3-189098fa41d5\" xlink:type=\"simple\"><rect fill=\"#FFFFFF\" height=\"124\" id=\"E2\" rx=\"10\" ry=\"10\" style=\"stroke: #383838; stroke-width: 1.5;\" width=\"210\" x=\"40\" y=\"49\"/><rect fill=\"#F8F8F8\" height=\"37.9375\" rx=\"10\" ry=\"10\" style=\"stroke: #F8F8F8; stroke-width: 1.5;\" width=\"210\" x=\"40\" y=\"49\"/><rect fill=\"#F8F8F8\" height=\"10\" style=\"stroke: #F8F8F8; stroke-width: 1.5;\" width=\"210\" x=\"40\" y=\"76.9375\"/><rect fill=\"none\" height=\"124\" id=\"E2\" rx=\"10\" ry=\"10\" style=\"stroke: #383838; stroke-width: 1.5;\" width=\"210\" x=\"40\" y=\"49\"/><text fill=\"#000000\" font-family=\"sans-serif\" font-size=\"12\" font-style=\"italic\" lengthAdjust=\"spacingAndGlyphs\" textLength=\"53\" x=\"118.5\" y=\"65.1387\">«action»</text><text fill=\"#000000\" font-family=\"sans-serif\" font-size=\"12\" lengthAdjust=\"spacingAndGlyphs\" textLength=\"8\" x=\"141\" y=\"79.1074\">a</text><line style=\"stroke: #383838; stroke-width: 1.0;\" x1=\"40\" x2=\"250\" y1=\"86.9375\" y2=\"86.9375\"/></a><g id=\"E1.E2.E3\"><a href=\"psysml:ba977e5b-bee9-4d3d-9976-80a8f9a7c434\" target=\"_top\" title=\"psysml:ba977e5b-bee9-4d3d-9976-80a8f9a7c434\" xlink:actuate=\"onRequest\" xlink:href=\"psysml:ba977e5b-bee9-4d3d-9976-80a8f9a7c434\" xlink:show=\"new\" xlink:title=\"psysml:ba977e5b-bee9-4d3d-9976-80a8f9a7c434\" xlink:type=\"simple\"><rect fill=\"#FFFFFF\" height=\"56.9063\" id=\"E3\" rx=\"10\" ry=\"10\" style=\"stroke: #383838; stroke-width: 1.5;\" width=\"178\" x=\"56\" y=\"100\"/><rect fill=\"#F8F8F8\" height=\"51.9063\" rx=\"10\" ry=\"10\" style=\"stroke: #F8F8F8; stroke-width: 1.5;\" width=\"178\" x=\"56\" y=\"100\"/><rect fill=\"#F8F8F8\" height=\"10\" style=\"stroke: #F8F8F8; stroke-width: 1.5;\" width=\"178\" x=\"56\" y=\"141.9063\"/><rect fill=\"none\" height=\"56.9063\" id=\"E3\" rx=\"10\" ry=\"10\" style=\"stroke: #383838; stroke-width: 1.5;\" width=\"178\" x=\"56\" y=\"100\"/><text fill=\"#000000\" font-family=\"sans-serif\" font-size=\"12\" font-style=\"italic\" lengthAdjust=\"spacingAndGlyphs\" textLength=\"53\" x=\"118.5\" y=\"116.1387\">«action»</text><text fill=\"#000000\" font-family=\"sans-serif\" font-size=\"12\" lengthAdjust=\"spacingAndGlyphs\" textLength=\"77\" x=\"106.5\" y=\"130.1074\">start: Action</text><text fill=\"#000000\" font-family=\"sans-serif\" font-size=\"12\" font-style=\"italic\" lengthAdjust=\"spacingAndGlyphs\" textLength=\"163\" x=\"61.5\" y=\"144.0762\">:&gt;&gt;Occurrence::startShot</text><text fill=\"#000000\" font-family=\"sans-serif\" font-size=\"12\" lengthAdjust=\"spacingAndGlyphs\" textLength=\"0\" x=\"228.5\" y=\"144.0762\"/></a></g><!--MD5=[7c68828d03375d93f41a0a0b6293d18f]\n",
       "@startuml\r\n",
       "skinparam ranksep 8\r\n",
       "skinparam rectangle {\r\n",
       " backgroundColor<<block>> LightGreen\r\n",
       "}\r\n",
       "skinparam linetype ortho\r\n",
       "skinparam monochrome true\r\n",
       "skinparam classbackgroundcolor white\r\n",
       "skinparam shadowing false\r\n",
       "skinparam wrapWidth 300\r\n",
       "hide circle\r\n",
       "\r\n",
       "package \"ActionTest\" as E1  [[psysml:470c72d5-baee-42c0-b878-d250ab3f6a02 ]]  {\r\n",
       "rec usage \"a\" as E2  <<(T,blue)action>> [[psysml:a7348084-8388-422f-b3f3-189098fa41d5 ]] {\r\n",
       "rec usage \"start: Action\\n//:>>Occurrence::startShot// \" as E3  <<(T,blue)action>> [[psysml:ba977e5b-bee9-4d3d-9976-80a8f9a7c434 ]] {\r\n",
       "}\r\n",
       "}\r\n",
       "}\r\n",
       "@enduml\r\n",
       "\n",
       "PlantUML version 1.2020.13(Sat Jun 13 12:26:38 UTC 2020)\n",
       "(EPL source distribution)\n",
       "Java Runtime: OpenJDK Runtime Environment\n",
       "JVM: OpenJDK 64-Bit Server VM\n",
       "Default Encoding: UTF-8\n",
       "Language: en\n",
       "Country: null\n",
       "--></g></svg>"
      ]
     },
     "execution_count": 54,
     "metadata": {},
     "output_type": "execute_result"
    }
   ],
   "source": [
    "%viz --style=\"ORTHOLINE\" --view=\"Interconnection\" \"ActionTest\""
   ]
  },
  {
   "cell_type": "code",
   "execution_count": 55,
   "id": "incredible-rescue",
   "metadata": {
    "execution": {
     "iopub.execute_input": "2021-03-26T12:08:37.604792Z",
     "iopub.status.busy": "2021-03-26T12:08:37.604408Z",
     "iopub.status.idle": "2021-03-26T12:08:37.627198Z",
     "shell.execute_reply": "2021-03-26T12:08:37.627553Z"
    }
   },
   "outputs": [
    {
     "data": {
      "image/svg+xml": [
       "<?xml version=\"1.0\" encoding=\"UTF-8\" standalone=\"no\"?><svg xmlns=\"http://www.w3.org/2000/svg\" xmlns:xlink=\"http://www.w3.org/1999/xlink\" contentScriptType=\"application/ecmascript\" contentStyleType=\"text/css\" height=\"128px\" preserveAspectRatio=\"none\" style=\"width:111px;height:128px;\" version=\"1.1\" viewBox=\"0 0 111 128\" width=\"111px\" zoomAndPan=\"magnify\"><defs/><g><!--MD5=[fbc87193dbaf4d95561dea2c320d4a47]\n",
       "cluster E1--><a href=\"psysml:a7348084-8388-422f-b3f3-189098fa41d5\" target=\"_top\" title=\"psysml:a7348084-8388-422f-b3f3-189098fa41d5\" xlink:actuate=\"onRequest\" xlink:href=\"psysml:a7348084-8388-422f-b3f3-189098fa41d5\" xlink:show=\"new\" xlink:title=\"psysml:a7348084-8388-422f-b3f3-189098fa41d5\" xlink:type=\"simple\"><rect fill=\"#FFFFFF\" height=\"110\" id=\"E1\" rx=\"10\" ry=\"10\" style=\"stroke: #383838; stroke-width: 1.5;\" width=\"92\" x=\"7\" y=\"7\"/><rect fill=\"#F8F8F8\" height=\"37.9375\" rx=\"10\" ry=\"10\" style=\"stroke: #F8F8F8; stroke-width: 1.5;\" width=\"92\" x=\"7\" y=\"7\"/><rect fill=\"#F8F8F8\" height=\"10\" style=\"stroke: #F8F8F8; stroke-width: 1.5;\" width=\"92\" x=\"7\" y=\"34.9375\"/><rect fill=\"none\" height=\"110\" id=\"E1\" rx=\"10\" ry=\"10\" style=\"stroke: #383838; stroke-width: 1.5;\" width=\"92\" x=\"7\" y=\"7\"/><text fill=\"#000000\" font-family=\"sans-serif\" font-size=\"12\" font-style=\"italic\" lengthAdjust=\"spacingAndGlyphs\" textLength=\"53\" x=\"26.5\" y=\"23.1387\">«action»</text><text fill=\"#000000\" font-family=\"sans-serif\" font-size=\"12\" lengthAdjust=\"spacingAndGlyphs\" textLength=\"8\" x=\"49\" y=\"37.1074\">a</text><line style=\"stroke: #383838; stroke-width: 1.0;\" x1=\"7\" x2=\"99\" y1=\"44.9375\" y2=\"44.9375\"/></a><g id=\"E1.E2\"><a href=\"psysml:ba977e5b-bee9-4d3d-9976-80a8f9a7c434\" target=\"_top\" title=\"psysml:ba977e5b-bee9-4d3d-9976-80a8f9a7c434\" xlink:actuate=\"onRequest\" xlink:href=\"psysml:ba977e5b-bee9-4d3d-9976-80a8f9a7c434\" xlink:show=\"new\" xlink:title=\"psysml:ba977e5b-bee9-4d3d-9976-80a8f9a7c434\" xlink:type=\"simple\"><rect fill=\"#FFFFFF\" height=\"42.9375\" id=\"E2\" rx=\"10\" ry=\"10\" style=\"stroke: #383838; stroke-width: 1.5;\" width=\"60\" x=\"23\" y=\"58\"/><rect fill=\"#F8F8F8\" height=\"37.9375\" rx=\"10\" ry=\"10\" style=\"stroke: #F8F8F8; stroke-width: 1.5;\" width=\"60\" x=\"23\" y=\"58\"/><rect fill=\"#F8F8F8\" height=\"10\" style=\"stroke: #F8F8F8; stroke-width: 1.5;\" width=\"60\" x=\"23\" y=\"85.9375\"/><rect fill=\"none\" height=\"42.9375\" id=\"E2\" rx=\"10\" ry=\"10\" style=\"stroke: #383838; stroke-width: 1.5;\" width=\"60\" x=\"23\" y=\"58\"/><text fill=\"#000000\" font-family=\"sans-serif\" font-size=\"12\" font-style=\"italic\" lengthAdjust=\"spacingAndGlyphs\" textLength=\"53\" x=\"26.5\" y=\"74.1387\">«action»</text><text fill=\"#000000\" font-family=\"sans-serif\" font-size=\"12\" lengthAdjust=\"spacingAndGlyphs\" textLength=\"30\" x=\"38\" y=\"88.1074\">start</text></a></g><!--MD5=[19467e12e70a8b70f2e3363d101b90ce]\n",
       "@startuml\r\n",
       "skinparam ranksep 8\r\n",
       "skinparam linetype ortho\r\n",
       "skinparam monochrome true\r\n",
       "skinparam classbackgroundcolor white\r\n",
       "skinparam shadowing false\r\n",
       "skinparam wrapWidth 300\r\n",
       "hide circle\r\n",
       "\r\n",
       "rec usage \"a\" as E1  <<(T,blue)action>> [[psysml:a7348084-8388-422f-b3f3-189098fa41d5 ]] {\r\n",
       "rec usage \"start\" as E2  <<(T,blue)action>> [[psysml:ba977e5b-bee9-4d3d-9976-80a8f9a7c434 ]] {\r\n",
       "}\r\n",
       "\r\n",
       "}\r\n",
       "\r\n",
       "@enduml\r\n",
       "\n",
       "PlantUML version 1.2020.13(Sat Jun 13 12:26:38 UTC 2020)\n",
       "(EPL source distribution)\n",
       "Java Runtime: OpenJDK Runtime Environment\n",
       "JVM: OpenJDK 64-Bit Server VM\n",
       "Default Encoding: UTF-8\n",
       "Language: en\n",
       "Country: null\n",
       "--></g></svg>"
      ]
     },
     "execution_count": 55,
     "metadata": {},
     "output_type": "execute_result"
    }
   ],
   "source": [
    "%viz --style=\"ORTHOLINE\" --view=\"Action\" \"ActionTest\""
   ]
  },
  {
   "cell_type": "code",
   "execution_count": 56,
   "id": "suspected-builder",
   "metadata": {
    "execution": {
     "iopub.execute_input": "2021-03-26T12:08:37.677442Z",
     "iopub.status.busy": "2021-03-26T12:08:37.677100Z",
     "iopub.status.idle": "2021-03-26T12:08:37.717031Z",
     "shell.execute_reply": "2021-03-26T12:08:37.716690Z"
    }
   },
   "outputs": [
    {
     "data": {
      "image/svg+xml": [
       "<?xml version=\"1.0\" encoding=\"UTF-8\" standalone=\"no\"?><svg xmlns=\"http://www.w3.org/2000/svg\" xmlns:xlink=\"http://www.w3.org/1999/xlink\" contentScriptType=\"application/ecmascript\" contentStyleType=\"text/css\" height=\"157px\" preserveAspectRatio=\"none\" style=\"width:230px;height:157px;\" version=\"1.1\" viewBox=\"0 0 230 157\" width=\"230px\" zoomAndPan=\"magnify\"><defs/><g><!--MD5=[fbc87193dbaf4d95561dea2c320d4a47]\n",
       "cluster E1--><a href=\"psysml:470c72d5-baee-42c0-b878-d250ab3f6a02\" target=\"_top\" title=\"psysml:470c72d5-baee-42c0-b878-d250ab3f6a02\" xlink:actuate=\"onRequest\" xlink:href=\"psysml:470c72d5-baee-42c0-b878-d250ab3f6a02\" xlink:show=\"new\" xlink:title=\"psysml:470c72d5-baee-42c0-b878-d250ab3f6a02\" xlink:type=\"simple\"><polygon fill=\"#FFFFFF\" points=\"16,6,107,6,114,28.2969,208,28.2969,208,145,16,145,16,6\" style=\"stroke: #000000; stroke-width: 1.5;\"/><line style=\"stroke: #000000; stroke-width: 1.5;\" x1=\"16\" x2=\"114\" y1=\"28.2969\" y2=\"28.2969\"/><text fill=\"#000000\" font-family=\"sans-serif\" font-size=\"14\" font-weight=\"bold\" lengthAdjust=\"spacingAndGlyphs\" textLength=\"85\" x=\"20\" y=\"20.9951\">ActionTest</text></a><!--MD5=[b4997ac47864f28c2f74865a473b2911]\n",
       "class E2--><a href=\"psysml:a7348084-8388-422f-b3f3-189098fa41d5\" target=\"_top\" title=\"psysml:a7348084-8388-422f-b3f3-189098fa41d5\" xlink:actuate=\"onRequest\" xlink:href=\"psysml:a7348084-8388-422f-b3f3-189098fa41d5\" xlink:show=\"new\" xlink:title=\"psysml:a7348084-8388-422f-b3f3-189098fa41d5\" xlink:type=\"simple\"><rect fill=\"#FFFFFF\" height=\"88.3516\" id=\"E2\" rx=\"10\" ry=\"10\" style=\"stroke: #383838; stroke-width: 1.5;\" width=\"160\" x=\"32\" y=\"41\"/><text fill=\"#000000\" font-family=\"sans-serif\" font-size=\"12\" font-style=\"italic\" lengthAdjust=\"spacingAndGlyphs\" textLength=\"53\" x=\"85.5\" y=\"57.1387\">«action»</text><text fill=\"#000000\" font-family=\"sans-serif\" font-size=\"12\" lengthAdjust=\"spacingAndGlyphs\" textLength=\"8\" x=\"108\" y=\"71.1074\">a</text><line style=\"stroke: #383838; stroke-width: 1.5;\" x1=\"33\" x2=\"191\" y1=\"78.9375\" y2=\"78.9375\"/><text fill=\"#000000\" font-family=\"sans-serif\" font-size=\"11\" lengthAdjust=\"spacingAndGlyphs\" textLength=\"69\" x=\"38\" y=\"109.9526\">start: Action</text><text fill=\"#000000\" font-family=\"sans-serif\" font-size=\"11\" font-style=\"italic\" lengthAdjust=\"spacingAndGlyphs\" textLength=\"148\" x=\"38\" y=\"122.7573\">:&gt;&gt;Occurrence::startShot</text><line style=\"stroke: #383838; stroke-width: 1.0;\" x1=\"33\" x2=\"91.5\" y1=\"93.3398\" y2=\"93.3398\"/><text fill=\"#000000\" font-family=\"sans-serif\" font-size=\"11\" lengthAdjust=\"spacingAndGlyphs\" textLength=\"41\" x=\"91.5\" y=\"96.6479\">actions</text><line style=\"stroke: #383838; stroke-width: 1.0;\" x1=\"132.5\" x2=\"191\" y1=\"93.3398\" y2=\"93.3398\"/></a><!--MD5=[eb0d7d7c95f3d3e31b6225983dd0d5da]\n",
       "@startuml\r\n",
       "skinparam linetype ortho\r\n",
       "skinparam monochrome true\r\n",
       "skinparam classbackgroundcolor white\r\n",
       "skinparam shadowing false\r\n",
       "skinparam wrapWidth 300\r\n",
       "hide circle\r\n",
       "\r\n",
       "package \"ActionTest\" as E1  [[psysml:470c72d5-baee-42c0-b878-d250ab3f6a02 ]]  {\r\n",
       "comp usage \"a\" as E2  <<(T,blue)action>> [[psysml:a7348084-8388-422f-b3f3-189098fa41d5 ]] {\r\n",
       "- - actions - -\r\n",
       "start: Action\\n//:>>Occurrence::startShot// \r\n",
       "}\r\n",
       "}\r\n",
       "@enduml\r\n",
       "\n",
       "PlantUML version 1.2020.13(Sat Jun 13 12:26:38 UTC 2020)\n",
       "(EPL source distribution)\n",
       "Java Runtime: OpenJDK Runtime Environment\n",
       "JVM: OpenJDK 64-Bit Server VM\n",
       "Default Encoding: UTF-8\n",
       "Language: en\n",
       "Country: null\n",
       "--></g></svg>"
      ]
     },
     "execution_count": 56,
     "metadata": {},
     "output_type": "execute_result"
    }
   ],
   "source": [
    "%viz --style=\"ORTHOLINE\" --view=\"Sequence\" \"ActionTest\""
   ]
  },
  {
   "cell_type": "code",
   "execution_count": 57,
   "id": "universal-scratch",
   "metadata": {
    "execution": {
     "iopub.execute_input": "2021-03-26T12:08:37.767765Z",
     "iopub.status.busy": "2021-03-26T12:08:37.767283Z",
     "iopub.status.idle": "2021-03-26T12:08:37.790992Z",
     "shell.execute_reply": "2021-03-26T12:08:37.790698Z"
    }
   },
   "outputs": [
    {
     "data": {
      "image/svg+xml": [
       "<?xml version=\"1.0\" encoding=\"UTF-8\" standalone=\"no\"?><svg xmlns=\"http://www.w3.org/2000/svg\" xmlns:xlink=\"http://www.w3.org/1999/xlink\" contentScriptType=\"application/ecmascript\" contentStyleType=\"text/css\" height=\"195px\" preserveAspectRatio=\"none\" style=\"width:178px;height:195px;\" version=\"1.1\" viewBox=\"0 0 178 195\" width=\"178px\" zoomAndPan=\"magnify\"><defs/><g><!--MD5=[fbc87193dbaf4d95561dea2c320d4a47]\n",
       "cluster E1--><a href=\"psysml:470c72d5-baee-42c0-b878-d250ab3f6a02\" target=\"_top\" title=\"psysml:470c72d5-baee-42c0-b878-d250ab3f6a02\" xlink:actuate=\"onRequest\" xlink:href=\"psysml:470c72d5-baee-42c0-b878-d250ab3f6a02\" xlink:show=\"new\" xlink:title=\"psysml:470c72d5-baee-42c0-b878-d250ab3f6a02\" xlink:type=\"simple\"><polygon fill=\"#FFFFFF\" points=\"16,6,107,6,114,28.2969,156,28.2969,156,183,16,183,16,6\" style=\"stroke: #000000; stroke-width: 1.5;\"/><line style=\"stroke: #000000; stroke-width: 1.5;\" x1=\"16\" x2=\"114\" y1=\"28.2969\" y2=\"28.2969\"/><text fill=\"#000000\" font-family=\"sans-serif\" font-size=\"14\" font-weight=\"bold\" lengthAdjust=\"spacingAndGlyphs\" textLength=\"85\" x=\"20\" y=\"20.9951\">ActionTest</text></a><!--MD5=[e4f7fae6ed58524ba242bb0b0d3be6b7]\n",
       "cluster E2--><a href=\"psysml:a7348084-8388-422f-b3f3-189098fa41d5\" target=\"_top\" title=\"psysml:a7348084-8388-422f-b3f3-189098fa41d5\" xlink:actuate=\"onRequest\" xlink:href=\"psysml:a7348084-8388-422f-b3f3-189098fa41d5\" xlink:show=\"new\" xlink:title=\"psysml:a7348084-8388-422f-b3f3-189098fa41d5\" xlink:type=\"simple\"><rect fill=\"#FFFFFF\" height=\"110\" id=\"E2\" rx=\"10\" ry=\"10\" style=\"stroke: #383838; stroke-width: 1.5;\" width=\"92\" x=\"40\" y=\"49\"/><rect fill=\"#F8F8F8\" height=\"37.9375\" rx=\"10\" ry=\"10\" style=\"stroke: #F8F8F8; stroke-width: 1.5;\" width=\"92\" x=\"40\" y=\"49\"/><rect fill=\"#F8F8F8\" height=\"10\" style=\"stroke: #F8F8F8; stroke-width: 1.5;\" width=\"92\" x=\"40\" y=\"76.9375\"/><rect fill=\"none\" height=\"110\" id=\"E2\" rx=\"10\" ry=\"10\" style=\"stroke: #383838; stroke-width: 1.5;\" width=\"92\" x=\"40\" y=\"49\"/><text fill=\"#000000\" font-family=\"sans-serif\" font-size=\"12\" font-style=\"italic\" lengthAdjust=\"spacingAndGlyphs\" textLength=\"53\" x=\"59.5\" y=\"65.1387\">«action»</text><text fill=\"#000000\" font-family=\"sans-serif\" font-size=\"12\" lengthAdjust=\"spacingAndGlyphs\" textLength=\"8\" x=\"82\" y=\"79.1074\">a</text><line style=\"stroke: #383838; stroke-width: 1.0;\" x1=\"40\" x2=\"132\" y1=\"86.9375\" y2=\"86.9375\"/></a><g id=\"E1.E2.E3\"><a href=\"psysml:ba977e5b-bee9-4d3d-9976-80a8f9a7c434\" target=\"_top\" title=\"psysml:ba977e5b-bee9-4d3d-9976-80a8f9a7c434\" xlink:actuate=\"onRequest\" xlink:href=\"psysml:ba977e5b-bee9-4d3d-9976-80a8f9a7c434\" xlink:show=\"new\" xlink:title=\"psysml:ba977e5b-bee9-4d3d-9976-80a8f9a7c434\" xlink:type=\"simple\"><rect fill=\"#FFFFFF\" height=\"42.9375\" id=\"E3\" rx=\"10\" ry=\"10\" style=\"stroke: #383838; stroke-width: 1.5;\" width=\"60\" x=\"56\" y=\"100\"/><rect fill=\"#F8F8F8\" height=\"37.9375\" rx=\"10\" ry=\"10\" style=\"stroke: #F8F8F8; stroke-width: 1.5;\" width=\"60\" x=\"56\" y=\"100\"/><rect fill=\"#F8F8F8\" height=\"10\" style=\"stroke: #F8F8F8; stroke-width: 1.5;\" width=\"60\" x=\"56\" y=\"127.9375\"/><rect fill=\"none\" height=\"42.9375\" id=\"E3\" rx=\"10\" ry=\"10\" style=\"stroke: #383838; stroke-width: 1.5;\" width=\"60\" x=\"56\" y=\"100\"/><text fill=\"#000000\" font-family=\"sans-serif\" font-size=\"12\" font-style=\"italic\" lengthAdjust=\"spacingAndGlyphs\" textLength=\"53\" x=\"59.5\" y=\"116.1387\">«action»</text><text fill=\"#000000\" font-family=\"sans-serif\" font-size=\"12\" lengthAdjust=\"spacingAndGlyphs\" textLength=\"30\" x=\"71\" y=\"130.1074\">start</text></a></g><!--MD5=[89c29902ff6328bc865f9f97e89589d5]\n",
       "@startuml\r\n",
       "skinparam linetype ortho\r\n",
       "skinparam monochrome true\r\n",
       "skinparam classbackgroundcolor white\r\n",
       "skinparam shadowing false\r\n",
       "skinparam wrapWidth 300\r\n",
       "hide circle\r\n",
       "\r\n",
       "package \"ActionTest\" as E1  [[psysml:470c72d5-baee-42c0-b878-d250ab3f6a02 ]]  {\r\n",
       "rec usage \"a\" as E2  <<(T,blue)action>> [[psysml:a7348084-8388-422f-b3f3-189098fa41d5 ]] {\r\n",
       "rec usage \"start\" as E3  <<(T,blue)action>> [[psysml:ba977e5b-bee9-4d3d-9976-80a8f9a7c434 ]] {\r\n",
       "}\r\n",
       "\r\n",
       "}\r\n",
       "\r\n",
       "}\r\n",
       "@enduml\r\n",
       "\n",
       "PlantUML version 1.2020.13(Sat Jun 13 12:26:38 UTC 2020)\n",
       "(EPL source distribution)\n",
       "Java Runtime: OpenJDK Runtime Environment\n",
       "JVM: OpenJDK 64-Bit Server VM\n",
       "Default Encoding: UTF-8\n",
       "Language: en\n",
       "Country: null\n",
       "--></g></svg>"
      ]
     },
     "execution_count": 57,
     "metadata": {},
     "output_type": "execute_result"
    }
   ],
   "source": [
    "%viz --style=\"ORTHOLINE\" --view=\"MIXED\" \"ActionTest\""
   ]
  }
 ],
 "metadata": {
  "kernelspec": {
   "display_name": "SysML",
   "language": "sysml",
   "name": "sysml"
  },
  "language_info": {
   "codemirror_mode": "sysml",
   "file_extension": ".sysml",
   "mimetype": "text/x-sysml",
   "name": "SysML",
   "pygments_lexer": "java",
   "version": "1.0.0"
  }
 },
 "nbformat": 4,
 "nbformat_minor": 5
}
