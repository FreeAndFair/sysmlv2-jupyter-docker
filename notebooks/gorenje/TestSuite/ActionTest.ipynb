{
 "cells": [
  {
   "cell_type": "markdown",
   "id": "coated-omaha",
   "metadata": {},
   "source": [
    "# SysML v2 Test Suite\n",
    "\n",
    "This can notebook can be cleared using menu `Edit --> Clear All Outputs` and then all cells can be\n",
    "run using menu `Run --> Run All Cells`.\n",
    "\n",
    "**WARNING**: This file is generated, all modifications here will be ignored.\n"
   ]
  },
  {
   "cell_type": "markdown",
   "id": "objective-guess",
   "metadata": {},
   "source": [
    "## File: ../../sysml/src/examples/Simple Tests/ActionTest.sysml"
   ]
  },
  {
   "cell_type": "code",
   "execution_count": 1,
   "id": "greenhouse-terrorist",
   "metadata": {
    "execution": {
     "iopub.execute_input": "2021-03-25T13:17:06.544063Z",
     "iopub.status.busy": "2021-03-25T13:17:06.542841Z",
     "iopub.status.idle": "2021-03-25T13:17:06.676696Z",
     "shell.execute_reply": "2021-03-25T13:17:06.675709Z"
    }
   },
   "outputs": [
    {
     "data": {
      "text/plain": [
       "Package ActionTest (0552b7e0-0c9f-4597-87ff-5a3b96dd3a7c)\n"
      ]
     },
     "execution_count": 1,
     "metadata": {},
     "output_type": "execute_result"
    }
   ],
   "source": [
    "package ActionTest {\n",
    "\taction a { \n",
    "\t\tfirst start;\n",
    "\t}\n",
    "\t\n",
    "}"
   ]
  },
  {
   "cell_type": "code",
   "execution_count": 2,
   "id": "capital-protest",
   "metadata": {
    "execution": {
     "iopub.execute_input": "2021-03-25T13:17:06.728808Z",
     "iopub.status.busy": "2021-03-25T13:17:06.727957Z",
     "iopub.status.idle": "2021-03-25T13:17:07.481296Z",
     "shell.execute_reply": "2021-03-25T13:17:07.480924Z"
    }
   },
   "outputs": [
    {
     "data": {
      "image/svg+xml": [
       "<?xml version=\"1.0\" encoding=\"UTF-8\" standalone=\"no\"?><svg xmlns=\"http://www.w3.org/2000/svg\" xmlns:xlink=\"http://www.w3.org/1999/xlink\" contentScriptType=\"application/ecmascript\" contentStyleType=\"text/css\" height=\"195px\" preserveAspectRatio=\"none\" style=\"width:178px;height:195px;\" version=\"1.1\" viewBox=\"0 0 178 195\" width=\"178px\" zoomAndPan=\"magnify\"><defs/><g><!--MD5=[fbc87193dbaf4d95561dea2c320d4a47]\n",
       "cluster E1--><a href=\"psysml:7d27680f-a8ad-4796-902f-be0a7d0ccba0\" target=\"_top\" title=\"psysml:7d27680f-a8ad-4796-902f-be0a7d0ccba0\" xlink:actuate=\"onRequest\" xlink:href=\"psysml:7d27680f-a8ad-4796-902f-be0a7d0ccba0\" xlink:show=\"new\" xlink:title=\"psysml:7d27680f-a8ad-4796-902f-be0a7d0ccba0\" xlink:type=\"simple\"><polygon fill=\"#FFFFFF\" points=\"16,6,107,6,114,28.2969,156,28.2969,156,183,16,183,16,6\" style=\"stroke: #000000; stroke-width: 1.5;\"/><line style=\"stroke: #000000; stroke-width: 1.5;\" x1=\"16\" x2=\"114\" y1=\"28.2969\" y2=\"28.2969\"/><text fill=\"#000000\" font-family=\"sans-serif\" font-size=\"14\" font-weight=\"bold\" lengthAdjust=\"spacingAndGlyphs\" textLength=\"85\" x=\"20\" y=\"20.9951\">ActionTest</text></a><!--MD5=[e4f7fae6ed58524ba242bb0b0d3be6b7]\n",
       "cluster E2--><a href=\"psysml:1bfaea47-077a-4258-abab-849ce06009df\" target=\"_top\" title=\"psysml:1bfaea47-077a-4258-abab-849ce06009df\" xlink:actuate=\"onRequest\" xlink:href=\"psysml:1bfaea47-077a-4258-abab-849ce06009df\" xlink:show=\"new\" xlink:title=\"psysml:1bfaea47-077a-4258-abab-849ce06009df\" xlink:type=\"simple\"><rect fill=\"#FFFFFF\" height=\"110\" id=\"E2\" rx=\"10\" ry=\"10\" style=\"stroke: #383838; stroke-width: 1.5;\" width=\"92\" x=\"40\" y=\"49\"/><rect fill=\"#F8F8F8\" height=\"37.9375\" rx=\"10\" ry=\"10\" style=\"stroke: #F8F8F8; stroke-width: 1.5;\" width=\"92\" x=\"40\" y=\"49\"/><rect fill=\"#F8F8F8\" height=\"10\" style=\"stroke: #F8F8F8; stroke-width: 1.5;\" width=\"92\" x=\"40\" y=\"76.9375\"/><rect fill=\"none\" height=\"110\" id=\"E2\" rx=\"10\" ry=\"10\" style=\"stroke: #383838; stroke-width: 1.5;\" width=\"92\" x=\"40\" y=\"49\"/><text fill=\"#000000\" font-family=\"sans-serif\" font-size=\"12\" font-style=\"italic\" lengthAdjust=\"spacingAndGlyphs\" textLength=\"53\" x=\"59.5\" y=\"65.1387\">«action»</text><text fill=\"#000000\" font-family=\"sans-serif\" font-size=\"12\" lengthAdjust=\"spacingAndGlyphs\" textLength=\"8\" x=\"82\" y=\"79.1074\">a</text><line style=\"stroke: #383838; stroke-width: 1.0;\" x1=\"40\" x2=\"132\" y1=\"86.9375\" y2=\"86.9375\"/></a><g id=\"E1.E2.E3\"><a href=\"psysml:a720e092-6bcd-479c-a1ff-52104ff4d712\" target=\"_top\" title=\"psysml:a720e092-6bcd-479c-a1ff-52104ff4d712\" xlink:actuate=\"onRequest\" xlink:href=\"psysml:a720e092-6bcd-479c-a1ff-52104ff4d712\" xlink:show=\"new\" xlink:title=\"psysml:a720e092-6bcd-479c-a1ff-52104ff4d712\" xlink:type=\"simple\"><rect fill=\"#FFFFFF\" height=\"42.9375\" id=\"E3\" rx=\"10\" ry=\"10\" style=\"stroke: #383838; stroke-width: 1.5;\" width=\"60\" x=\"56\" y=\"100\"/><rect fill=\"#F8F8F8\" height=\"37.9375\" rx=\"10\" ry=\"10\" style=\"stroke: #F8F8F8; stroke-width: 1.5;\" width=\"60\" x=\"56\" y=\"100\"/><rect fill=\"#F8F8F8\" height=\"10\" style=\"stroke: #F8F8F8; stroke-width: 1.5;\" width=\"60\" x=\"56\" y=\"127.9375\"/><rect fill=\"none\" height=\"42.9375\" id=\"E3\" rx=\"10\" ry=\"10\" style=\"stroke: #383838; stroke-width: 1.5;\" width=\"60\" x=\"56\" y=\"100\"/><text fill=\"#000000\" font-family=\"sans-serif\" font-size=\"12\" font-style=\"italic\" lengthAdjust=\"spacingAndGlyphs\" textLength=\"53\" x=\"59.5\" y=\"116.1387\">«action»</text><text fill=\"#000000\" font-family=\"sans-serif\" font-size=\"12\" lengthAdjust=\"spacingAndGlyphs\" textLength=\"30\" x=\"71\" y=\"130.1074\">start</text></a></g><!--MD5=[8551a51550cfe5d932035282e24b5950]\n",
       "@startuml\r\n",
       " skinparam monochrome true\r\n",
       "skinparam classbackgroundcolor white\r\n",
       "skinparam shadowing false\r\n",
       "skinparam wrapWidth 300\r\n",
       "hide circle\r\n",
       "\r\n",
       "package \"ActionTest\" as E1  [[psysml:7d27680f-a8ad-4796-902f-be0a7d0ccba0 ]]  {\r\n",
       "rec usage \"a\" as E2  <<(T,blue)action>> [[psysml:1bfaea47-077a-4258-abab-849ce06009df ]] {\r\n",
       "rec usage \"start\" as E3  <<(T,blue)action>> [[psysml:a720e092-6bcd-479c-a1ff-52104ff4d712 ]] {\r\n",
       "}\r\n",
       "\r\n",
       "}\r\n",
       "\r\n",
       "}\r\n",
       "@enduml\r\n",
       "\n",
       "PlantUML version 1.2020.13(Sat Jun 13 12:26:38 UTC 2020)\n",
       "(EPL source distribution)\n",
       "Java Runtime: OpenJDK Runtime Environment\n",
       "JVM: OpenJDK 64-Bit Server VM\n",
       "Default Encoding: UTF-8\n",
       "Language: en\n",
       "Country: null\n",
       "--></g></svg>"
      ]
     },
     "execution_count": 2,
     "metadata": {},
     "output_type": "execute_result"
    }
   ],
   "source": [
    "%viz --style=\"COMPTREE\" --view=\"Default\" \"ActionTest\""
   ]
  },
  {
   "cell_type": "code",
   "execution_count": 3,
   "id": "black-caribbean",
   "metadata": {
    "execution": {
     "iopub.execute_input": "2021-03-25T13:17:07.532434Z",
     "iopub.status.busy": "2021-03-25T13:17:07.531694Z",
     "iopub.status.idle": "2021-03-25T13:17:08.153372Z",
     "shell.execute_reply": "2021-03-25T13:17:08.153021Z"
    }
   },
   "outputs": [
    {
     "data": {
      "image/svg+xml": [
       "<?xml version=\"1.0\" encoding=\"UTF-8\" standalone=\"no\"?><svg xmlns=\"http://www.w3.org/2000/svg\" xmlns:xlink=\"http://www.w3.org/1999/xlink\" contentScriptType=\"application/ecmascript\" contentStyleType=\"text/css\" height=\"157px\" preserveAspectRatio=\"none\" style=\"width:230px;height:157px;\" version=\"1.1\" viewBox=\"0 0 230 157\" width=\"230px\" zoomAndPan=\"magnify\"><defs/><g><!--MD5=[fbc87193dbaf4d95561dea2c320d4a47]\n",
       "cluster E1--><a href=\"psysml:7d27680f-a8ad-4796-902f-be0a7d0ccba0\" target=\"_top\" title=\"psysml:7d27680f-a8ad-4796-902f-be0a7d0ccba0\" xlink:actuate=\"onRequest\" xlink:href=\"psysml:7d27680f-a8ad-4796-902f-be0a7d0ccba0\" xlink:show=\"new\" xlink:title=\"psysml:7d27680f-a8ad-4796-902f-be0a7d0ccba0\" xlink:type=\"simple\"><polygon fill=\"#FFFFFF\" points=\"16,6,107,6,114,28.2969,208,28.2969,208,145,16,145,16,6\" style=\"stroke: #000000; stroke-width: 1.5;\"/><line style=\"stroke: #000000; stroke-width: 1.5;\" x1=\"16\" x2=\"114\" y1=\"28.2969\" y2=\"28.2969\"/><text fill=\"#000000\" font-family=\"sans-serif\" font-size=\"14\" font-weight=\"bold\" lengthAdjust=\"spacingAndGlyphs\" textLength=\"85\" x=\"20\" y=\"20.9951\">ActionTest</text></a><!--MD5=[b4997ac47864f28c2f74865a473b2911]\n",
       "class E2--><a href=\"psysml:1bfaea47-077a-4258-abab-849ce06009df\" target=\"_top\" title=\"psysml:1bfaea47-077a-4258-abab-849ce06009df\" xlink:actuate=\"onRequest\" xlink:href=\"psysml:1bfaea47-077a-4258-abab-849ce06009df\" xlink:show=\"new\" xlink:title=\"psysml:1bfaea47-077a-4258-abab-849ce06009df\" xlink:type=\"simple\"><rect fill=\"#FFFFFF\" height=\"88.3516\" id=\"E2\" rx=\"10\" ry=\"10\" style=\"stroke: #383838; stroke-width: 1.5;\" width=\"160\" x=\"32\" y=\"41\"/><text fill=\"#000000\" font-family=\"sans-serif\" font-size=\"12\" font-style=\"italic\" lengthAdjust=\"spacingAndGlyphs\" textLength=\"53\" x=\"85.5\" y=\"57.1387\">«action»</text><text fill=\"#000000\" font-family=\"sans-serif\" font-size=\"12\" lengthAdjust=\"spacingAndGlyphs\" textLength=\"8\" x=\"108\" y=\"71.1074\">a</text><line style=\"stroke: #383838; stroke-width: 1.5;\" x1=\"33\" x2=\"191\" y1=\"78.9375\" y2=\"78.9375\"/><text fill=\"#000000\" font-family=\"sans-serif\" font-size=\"11\" lengthAdjust=\"spacingAndGlyphs\" textLength=\"69\" x=\"38\" y=\"109.9526\">start: Action</text><text fill=\"#000000\" font-family=\"sans-serif\" font-size=\"11\" font-style=\"italic\" lengthAdjust=\"spacingAndGlyphs\" textLength=\"148\" x=\"38\" y=\"122.7573\">:&gt;&gt;Occurrence::startShot</text><line style=\"stroke: #383838; stroke-width: 1.0;\" x1=\"33\" x2=\"91.5\" y1=\"93.3398\" y2=\"93.3398\"/><text fill=\"#000000\" font-family=\"sans-serif\" font-size=\"11\" lengthAdjust=\"spacingAndGlyphs\" textLength=\"41\" x=\"91.5\" y=\"96.6479\">actions</text><line style=\"stroke: #383838; stroke-width: 1.0;\" x1=\"132.5\" x2=\"191\" y1=\"93.3398\" y2=\"93.3398\"/></a><!--MD5=[13f8a3ed796f9f0fc1d77788e1e0fe2f]\n",
       "@startuml\r\n",
       " skinparam monochrome true\r\n",
       "skinparam classbackgroundcolor white\r\n",
       "skinparam shadowing false\r\n",
       "skinparam wrapWidth 300\r\n",
       "hide circle\r\n",
       "\r\n",
       "package \"ActionTest\" as E1  [[psysml:7d27680f-a8ad-4796-902f-be0a7d0ccba0 ]]  {\r\n",
       "comp usage \"a\" as E2  <<(T,blue)action>> [[psysml:1bfaea47-077a-4258-abab-849ce06009df ]] {\r\n",
       "- - actions - -\r\n",
       "start: Action\\n//:>>Occurrence::startShot// \r\n",
       "}\r\n",
       "}\r\n",
       "@enduml\r\n",
       "\n",
       "PlantUML version 1.2020.13(Sat Jun 13 12:26:38 UTC 2020)\n",
       "(EPL source distribution)\n",
       "Java Runtime: OpenJDK Runtime Environment\n",
       "JVM: OpenJDK 64-Bit Server VM\n",
       "Default Encoding: UTF-8\n",
       "Language: en\n",
       "Country: null\n",
       "--></g></svg>"
      ]
     },
     "execution_count": 3,
     "metadata": {},
     "output_type": "execute_result"
    }
   ],
   "source": [
    "%viz --style=\"COMPTREE\" --view=\"Tree\" \"ActionTest\""
   ]
  },
  {
   "cell_type": "code",
   "execution_count": 4,
   "id": "younger-apparatus",
   "metadata": {
    "execution": {
     "iopub.execute_input": "2021-03-25T13:17:08.204691Z",
     "iopub.status.busy": "2021-03-25T13:17:08.203740Z",
     "iopub.status.idle": "2021-03-25T13:17:08.216840Z",
     "shell.execute_reply": "2021-03-25T13:17:08.216479Z"
    }
   },
   "outputs": [
    {
     "data": {
      "image/svg+xml": [
       "<?xml version=\"1.0\" encoding=\"UTF-8\" standalone=\"no\"?><svg xmlns=\"http://www.w3.org/2000/svg\" xmlns:xlink=\"http://www.w3.org/1999/xlink\" contentScriptType=\"application/ecmascript\" contentStyleType=\"text/css\" height=\"12px\" preserveAspectRatio=\"none\" style=\"width:12px;height:12px;\" version=\"1.1\" viewBox=\"0 0 12 12\" width=\"12px\" zoomAndPan=\"magnify\"><defs/><g><!--MD5=[f19188ef49e11757b5c46753f95d9edc]\n",
       "@startuml\r\n",
       " skinparam monochrome true\r\n",
       "skinparam classbackgroundcolor white\r\n",
       "skinparam shadowing false\r\n",
       "skinparam wrapWidth 300\r\n",
       "hide circle\r\n",
       "\r\n",
       "@enduml\r\n",
       "\n",
       "PlantUML version 1.2020.13(Sat Jun 13 12:26:38 UTC 2020)\n",
       "(EPL source distribution)\n",
       "Java Runtime: OpenJDK Runtime Environment\n",
       "JVM: OpenJDK 64-Bit Server VM\n",
       "Default Encoding: UTF-8\n",
       "Language: en\n",
       "Country: null\n",
       "--></g></svg>"
      ]
     },
     "execution_count": 4,
     "metadata": {},
     "output_type": "execute_result"
    }
   ],
   "source": [
    "%viz --style=\"COMPTREE\" --view=\"State\" \"ActionTest\""
   ]
  },
  {
   "cell_type": "code",
   "execution_count": 5,
   "id": "planned-enemy",
   "metadata": {
    "execution": {
     "iopub.execute_input": "2021-03-25T13:17:08.270071Z",
     "iopub.status.busy": "2021-03-25T13:17:08.269607Z",
     "iopub.status.idle": "2021-03-25T13:17:08.375774Z",
     "shell.execute_reply": "2021-03-25T13:17:08.375354Z"
    }
   },
   "outputs": [
    {
     "data": {
      "image/svg+xml": [
       "<?xml version=\"1.0\" encoding=\"UTF-8\" standalone=\"no\"?><svg xmlns=\"http://www.w3.org/2000/svg\" xmlns:xlink=\"http://www.w3.org/1999/xlink\" contentScriptType=\"application/ecmascript\" contentStyleType=\"text/css\" height=\"209px\" preserveAspectRatio=\"none\" style=\"width:296px;height:209px;\" version=\"1.1\" viewBox=\"0 0 296 209\" width=\"296px\" zoomAndPan=\"magnify\"><defs/><g><!--MD5=[fbc87193dbaf4d95561dea2c320d4a47]\n",
       "cluster E1--><a href=\"psysml:7d27680f-a8ad-4796-902f-be0a7d0ccba0\" target=\"_top\" title=\"psysml:7d27680f-a8ad-4796-902f-be0a7d0ccba0\" xlink:actuate=\"onRequest\" xlink:href=\"psysml:7d27680f-a8ad-4796-902f-be0a7d0ccba0\" xlink:show=\"new\" xlink:title=\"psysml:7d27680f-a8ad-4796-902f-be0a7d0ccba0\" xlink:type=\"simple\"><polygon fill=\"#FFFFFF\" points=\"16,6,107,6,114,28.2969,274,28.2969,274,197,16,197,16,6\" style=\"stroke: #000000; stroke-width: 1.5;\"/><line style=\"stroke: #000000; stroke-width: 1.5;\" x1=\"16\" x2=\"114\" y1=\"28.2969\" y2=\"28.2969\"/><text fill=\"#000000\" font-family=\"sans-serif\" font-size=\"14\" font-weight=\"bold\" lengthAdjust=\"spacingAndGlyphs\" textLength=\"85\" x=\"20\" y=\"20.9951\">ActionTest</text></a><!--MD5=[e4f7fae6ed58524ba242bb0b0d3be6b7]\n",
       "cluster E2--><a href=\"psysml:1bfaea47-077a-4258-abab-849ce06009df\" target=\"_top\" title=\"psysml:1bfaea47-077a-4258-abab-849ce06009df\" xlink:actuate=\"onRequest\" xlink:href=\"psysml:1bfaea47-077a-4258-abab-849ce06009df\" xlink:show=\"new\" xlink:title=\"psysml:1bfaea47-077a-4258-abab-849ce06009df\" xlink:type=\"simple\"><rect fill=\"#FFFFFF\" height=\"124\" id=\"E2\" rx=\"10\" ry=\"10\" style=\"stroke: #383838; stroke-width: 1.5;\" width=\"210\" x=\"40\" y=\"49\"/><rect fill=\"#F8F8F8\" height=\"37.9375\" rx=\"10\" ry=\"10\" style=\"stroke: #F8F8F8; stroke-width: 1.5;\" width=\"210\" x=\"40\" y=\"49\"/><rect fill=\"#F8F8F8\" height=\"10\" style=\"stroke: #F8F8F8; stroke-width: 1.5;\" width=\"210\" x=\"40\" y=\"76.9375\"/><rect fill=\"none\" height=\"124\" id=\"E2\" rx=\"10\" ry=\"10\" style=\"stroke: #383838; stroke-width: 1.5;\" width=\"210\" x=\"40\" y=\"49\"/><text fill=\"#000000\" font-family=\"sans-serif\" font-size=\"12\" font-style=\"italic\" lengthAdjust=\"spacingAndGlyphs\" textLength=\"53\" x=\"118.5\" y=\"65.1387\">«action»</text><text fill=\"#000000\" font-family=\"sans-serif\" font-size=\"12\" lengthAdjust=\"spacingAndGlyphs\" textLength=\"8\" x=\"141\" y=\"79.1074\">a</text><line style=\"stroke: #383838; stroke-width: 1.0;\" x1=\"40\" x2=\"250\" y1=\"86.9375\" y2=\"86.9375\"/></a><g id=\"E1.E2.E3\"><a href=\"psysml:a720e092-6bcd-479c-a1ff-52104ff4d712\" target=\"_top\" title=\"psysml:a720e092-6bcd-479c-a1ff-52104ff4d712\" xlink:actuate=\"onRequest\" xlink:href=\"psysml:a720e092-6bcd-479c-a1ff-52104ff4d712\" xlink:show=\"new\" xlink:title=\"psysml:a720e092-6bcd-479c-a1ff-52104ff4d712\" xlink:type=\"simple\"><rect fill=\"#FFFFFF\" height=\"56.9063\" id=\"E3\" rx=\"10\" ry=\"10\" style=\"stroke: #383838; stroke-width: 1.5;\" width=\"178\" x=\"56\" y=\"100\"/><rect fill=\"#F8F8F8\" height=\"51.9063\" rx=\"10\" ry=\"10\" style=\"stroke: #F8F8F8; stroke-width: 1.5;\" width=\"178\" x=\"56\" y=\"100\"/><rect fill=\"#F8F8F8\" height=\"10\" style=\"stroke: #F8F8F8; stroke-width: 1.5;\" width=\"178\" x=\"56\" y=\"141.9063\"/><rect fill=\"none\" height=\"56.9063\" id=\"E3\" rx=\"10\" ry=\"10\" style=\"stroke: #383838; stroke-width: 1.5;\" width=\"178\" x=\"56\" y=\"100\"/><text fill=\"#000000\" font-family=\"sans-serif\" font-size=\"12\" font-style=\"italic\" lengthAdjust=\"spacingAndGlyphs\" textLength=\"53\" x=\"118.5\" y=\"116.1387\">«action»</text><text fill=\"#000000\" font-family=\"sans-serif\" font-size=\"12\" lengthAdjust=\"spacingAndGlyphs\" textLength=\"77\" x=\"106.5\" y=\"130.1074\">start: Action</text><text fill=\"#000000\" font-family=\"sans-serif\" font-size=\"12\" font-style=\"italic\" lengthAdjust=\"spacingAndGlyphs\" textLength=\"163\" x=\"61.5\" y=\"144.0762\">:&gt;&gt;Occurrence::startShot</text><text fill=\"#000000\" font-family=\"sans-serif\" font-size=\"12\" lengthAdjust=\"spacingAndGlyphs\" textLength=\"0\" x=\"228.5\" y=\"144.0762\"/></a></g><!--MD5=[70982de073f300ddd4a76cff04373d13]\n",
       "@startuml\r\n",
       "skinparam ranksep 8\r\n",
       "skinparam rectangle {\r\n",
       " backgroundColor<<block>> LightGreen\r\n",
       "}\r\n",
       " skinparam monochrome true\r\n",
       "skinparam classbackgroundcolor white\r\n",
       "skinparam shadowing false\r\n",
       "skinparam wrapWidth 300\r\n",
       "hide circle\r\n",
       "\r\n",
       "package \"ActionTest\" as E1  [[psysml:7d27680f-a8ad-4796-902f-be0a7d0ccba0 ]]  {\r\n",
       "rec usage \"a\" as E2  <<(T,blue)action>> [[psysml:1bfaea47-077a-4258-abab-849ce06009df ]] {\r\n",
       "rec usage \"start: Action\\n//:>>Occurrence::startShot// \" as E3  <<(T,blue)action>> [[psysml:a720e092-6bcd-479c-a1ff-52104ff4d712 ]] {\r\n",
       "}\r\n",
       "}\r\n",
       "}\r\n",
       "@enduml\r\n",
       "\n",
       "PlantUML version 1.2020.13(Sat Jun 13 12:26:38 UTC 2020)\n",
       "(EPL source distribution)\n",
       "Java Runtime: OpenJDK Runtime Environment\n",
       "JVM: OpenJDK 64-Bit Server VM\n",
       "Default Encoding: UTF-8\n",
       "Language: en\n",
       "Country: null\n",
       "--></g></svg>"
      ]
     },
     "execution_count": 5,
     "metadata": {},
     "output_type": "execute_result"
    }
   ],
   "source": [
    "%viz --style=\"COMPTREE\" --view=\"Interconnection\" \"ActionTest\""
   ]
  },
  {
   "cell_type": "code",
   "execution_count": 6,
   "id": "skilled-tucson",
   "metadata": {
    "execution": {
     "iopub.execute_input": "2021-03-25T13:17:08.428239Z",
     "iopub.status.busy": "2021-03-25T13:17:08.426596Z",
     "iopub.status.idle": "2021-03-25T13:17:08.510699Z",
     "shell.execute_reply": "2021-03-25T13:17:08.509843Z"
    }
   },
   "outputs": [
    {
     "data": {
      "image/svg+xml": [
       "<?xml version=\"1.0\" encoding=\"UTF-8\" standalone=\"no\"?><svg xmlns=\"http://www.w3.org/2000/svg\" xmlns:xlink=\"http://www.w3.org/1999/xlink\" contentScriptType=\"application/ecmascript\" contentStyleType=\"text/css\" height=\"128px\" preserveAspectRatio=\"none\" style=\"width:111px;height:128px;\" version=\"1.1\" viewBox=\"0 0 111 128\" width=\"111px\" zoomAndPan=\"magnify\"><defs/><g><!--MD5=[fbc87193dbaf4d95561dea2c320d4a47]\n",
       "cluster E1--><a href=\"psysml:1bfaea47-077a-4258-abab-849ce06009df\" target=\"_top\" title=\"psysml:1bfaea47-077a-4258-abab-849ce06009df\" xlink:actuate=\"onRequest\" xlink:href=\"psysml:1bfaea47-077a-4258-abab-849ce06009df\" xlink:show=\"new\" xlink:title=\"psysml:1bfaea47-077a-4258-abab-849ce06009df\" xlink:type=\"simple\"><rect fill=\"#FFFFFF\" height=\"110\" id=\"E1\" rx=\"10\" ry=\"10\" style=\"stroke: #383838; stroke-width: 1.5;\" width=\"92\" x=\"7\" y=\"7\"/><rect fill=\"#F8F8F8\" height=\"37.9375\" rx=\"10\" ry=\"10\" style=\"stroke: #F8F8F8; stroke-width: 1.5;\" width=\"92\" x=\"7\" y=\"7\"/><rect fill=\"#F8F8F8\" height=\"10\" style=\"stroke: #F8F8F8; stroke-width: 1.5;\" width=\"92\" x=\"7\" y=\"34.9375\"/><rect fill=\"none\" height=\"110\" id=\"E1\" rx=\"10\" ry=\"10\" style=\"stroke: #383838; stroke-width: 1.5;\" width=\"92\" x=\"7\" y=\"7\"/><text fill=\"#000000\" font-family=\"sans-serif\" font-size=\"12\" font-style=\"italic\" lengthAdjust=\"spacingAndGlyphs\" textLength=\"53\" x=\"26.5\" y=\"23.1387\">«action»</text><text fill=\"#000000\" font-family=\"sans-serif\" font-size=\"12\" lengthAdjust=\"spacingAndGlyphs\" textLength=\"8\" x=\"49\" y=\"37.1074\">a</text><line style=\"stroke: #383838; stroke-width: 1.0;\" x1=\"7\" x2=\"99\" y1=\"44.9375\" y2=\"44.9375\"/></a><g id=\"E1.E2\"><a href=\"psysml:a720e092-6bcd-479c-a1ff-52104ff4d712\" target=\"_top\" title=\"psysml:a720e092-6bcd-479c-a1ff-52104ff4d712\" xlink:actuate=\"onRequest\" xlink:href=\"psysml:a720e092-6bcd-479c-a1ff-52104ff4d712\" xlink:show=\"new\" xlink:title=\"psysml:a720e092-6bcd-479c-a1ff-52104ff4d712\" xlink:type=\"simple\"><rect fill=\"#FFFFFF\" height=\"42.9375\" id=\"E2\" rx=\"10\" ry=\"10\" style=\"stroke: #383838; stroke-width: 1.5;\" width=\"60\" x=\"23\" y=\"58\"/><rect fill=\"#F8F8F8\" height=\"37.9375\" rx=\"10\" ry=\"10\" style=\"stroke: #F8F8F8; stroke-width: 1.5;\" width=\"60\" x=\"23\" y=\"58\"/><rect fill=\"#F8F8F8\" height=\"10\" style=\"stroke: #F8F8F8; stroke-width: 1.5;\" width=\"60\" x=\"23\" y=\"85.9375\"/><rect fill=\"none\" height=\"42.9375\" id=\"E2\" rx=\"10\" ry=\"10\" style=\"stroke: #383838; stroke-width: 1.5;\" width=\"60\" x=\"23\" y=\"58\"/><text fill=\"#000000\" font-family=\"sans-serif\" font-size=\"12\" font-style=\"italic\" lengthAdjust=\"spacingAndGlyphs\" textLength=\"53\" x=\"26.5\" y=\"74.1387\">«action»</text><text fill=\"#000000\" font-family=\"sans-serif\" font-size=\"12\" lengthAdjust=\"spacingAndGlyphs\" textLength=\"30\" x=\"38\" y=\"88.1074\">start</text></a></g><!--MD5=[6910af8ab3ead225721244030a1d89e9]\n",
       "@startuml\r\n",
       "skinparam ranksep 8\r\n",
       " skinparam monochrome true\r\n",
       "skinparam classbackgroundcolor white\r\n",
       "skinparam shadowing false\r\n",
       "skinparam wrapWidth 300\r\n",
       "hide circle\r\n",
       "\r\n",
       "rec usage \"a\" as E1  <<(T,blue)action>> [[psysml:1bfaea47-077a-4258-abab-849ce06009df ]] {\r\n",
       "rec usage \"start\" as E2  <<(T,blue)action>> [[psysml:a720e092-6bcd-479c-a1ff-52104ff4d712 ]] {\r\n",
       "}\r\n",
       "\r\n",
       "}\r\n",
       "\r\n",
       "@enduml\r\n",
       "\n",
       "PlantUML version 1.2020.13(Sat Jun 13 12:26:38 UTC 2020)\n",
       "(EPL source distribution)\n",
       "Java Runtime: OpenJDK Runtime Environment\n",
       "JVM: OpenJDK 64-Bit Server VM\n",
       "Default Encoding: UTF-8\n",
       "Language: en\n",
       "Country: null\n",
       "--></g></svg>"
      ]
     },
     "execution_count": 6,
     "metadata": {},
     "output_type": "execute_result"
    }
   ],
   "source": [
    "%viz --style=\"COMPTREE\" --view=\"Action\" \"ActionTest\""
   ]
  },
  {
   "cell_type": "code",
   "execution_count": 7,
   "id": "human-lodge",
   "metadata": {
    "execution": {
     "iopub.execute_input": "2021-03-25T13:17:08.560953Z",
     "iopub.status.busy": "2021-03-25T13:17:08.559984Z",
     "iopub.status.idle": "2021-03-25T13:17:09.141619Z",
     "shell.execute_reply": "2021-03-25T13:17:09.141128Z"
    }
   },
   "outputs": [
    {
     "data": {
      "image/svg+xml": [
       "<?xml version=\"1.0\" encoding=\"UTF-8\" standalone=\"no\"?><svg xmlns=\"http://www.w3.org/2000/svg\" xmlns:xlink=\"http://www.w3.org/1999/xlink\" contentScriptType=\"application/ecmascript\" contentStyleType=\"text/css\" height=\"157px\" preserveAspectRatio=\"none\" style=\"width:230px;height:157px;\" version=\"1.1\" viewBox=\"0 0 230 157\" width=\"230px\" zoomAndPan=\"magnify\"><defs/><g><!--MD5=[fbc87193dbaf4d95561dea2c320d4a47]\n",
       "cluster E1--><a href=\"psysml:7d27680f-a8ad-4796-902f-be0a7d0ccba0\" target=\"_top\" title=\"psysml:7d27680f-a8ad-4796-902f-be0a7d0ccba0\" xlink:actuate=\"onRequest\" xlink:href=\"psysml:7d27680f-a8ad-4796-902f-be0a7d0ccba0\" xlink:show=\"new\" xlink:title=\"psysml:7d27680f-a8ad-4796-902f-be0a7d0ccba0\" xlink:type=\"simple\"><polygon fill=\"#FFFFFF\" points=\"16,6,107,6,114,28.2969,208,28.2969,208,145,16,145,16,6\" style=\"stroke: #000000; stroke-width: 1.5;\"/><line style=\"stroke: #000000; stroke-width: 1.5;\" x1=\"16\" x2=\"114\" y1=\"28.2969\" y2=\"28.2969\"/><text fill=\"#000000\" font-family=\"sans-serif\" font-size=\"14\" font-weight=\"bold\" lengthAdjust=\"spacingAndGlyphs\" textLength=\"85\" x=\"20\" y=\"20.9951\">ActionTest</text></a><!--MD5=[b4997ac47864f28c2f74865a473b2911]\n",
       "class E2--><a href=\"psysml:1bfaea47-077a-4258-abab-849ce06009df\" target=\"_top\" title=\"psysml:1bfaea47-077a-4258-abab-849ce06009df\" xlink:actuate=\"onRequest\" xlink:href=\"psysml:1bfaea47-077a-4258-abab-849ce06009df\" xlink:show=\"new\" xlink:title=\"psysml:1bfaea47-077a-4258-abab-849ce06009df\" xlink:type=\"simple\"><rect fill=\"#FFFFFF\" height=\"88.3516\" id=\"E2\" rx=\"10\" ry=\"10\" style=\"stroke: #383838; stroke-width: 1.5;\" width=\"160\" x=\"32\" y=\"41\"/><text fill=\"#000000\" font-family=\"sans-serif\" font-size=\"12\" font-style=\"italic\" lengthAdjust=\"spacingAndGlyphs\" textLength=\"53\" x=\"85.5\" y=\"57.1387\">«action»</text><text fill=\"#000000\" font-family=\"sans-serif\" font-size=\"12\" lengthAdjust=\"spacingAndGlyphs\" textLength=\"8\" x=\"108\" y=\"71.1074\">a</text><line style=\"stroke: #383838; stroke-width: 1.5;\" x1=\"33\" x2=\"191\" y1=\"78.9375\" y2=\"78.9375\"/><text fill=\"#000000\" font-family=\"sans-serif\" font-size=\"11\" lengthAdjust=\"spacingAndGlyphs\" textLength=\"69\" x=\"38\" y=\"109.9526\">start: Action</text><text fill=\"#000000\" font-family=\"sans-serif\" font-size=\"11\" font-style=\"italic\" lengthAdjust=\"spacingAndGlyphs\" textLength=\"148\" x=\"38\" y=\"122.7573\">:&gt;&gt;Occurrence::startShot</text><line style=\"stroke: #383838; stroke-width: 1.0;\" x1=\"33\" x2=\"91.5\" y1=\"93.3398\" y2=\"93.3398\"/><text fill=\"#000000\" font-family=\"sans-serif\" font-size=\"11\" lengthAdjust=\"spacingAndGlyphs\" textLength=\"41\" x=\"91.5\" y=\"96.6479\">actions</text><line style=\"stroke: #383838; stroke-width: 1.0;\" x1=\"132.5\" x2=\"191\" y1=\"93.3398\" y2=\"93.3398\"/></a><!--MD5=[13f8a3ed796f9f0fc1d77788e1e0fe2f]\n",
       "@startuml\r\n",
       " skinparam monochrome true\r\n",
       "skinparam classbackgroundcolor white\r\n",
       "skinparam shadowing false\r\n",
       "skinparam wrapWidth 300\r\n",
       "hide circle\r\n",
       "\r\n",
       "package \"ActionTest\" as E1  [[psysml:7d27680f-a8ad-4796-902f-be0a7d0ccba0 ]]  {\r\n",
       "comp usage \"a\" as E2  <<(T,blue)action>> [[psysml:1bfaea47-077a-4258-abab-849ce06009df ]] {\r\n",
       "- - actions - -\r\n",
       "start: Action\\n//:>>Occurrence::startShot// \r\n",
       "}\r\n",
       "}\r\n",
       "@enduml\r\n",
       "\n",
       "PlantUML version 1.2020.13(Sat Jun 13 12:26:38 UTC 2020)\n",
       "(EPL source distribution)\n",
       "Java Runtime: OpenJDK Runtime Environment\n",
       "JVM: OpenJDK 64-Bit Server VM\n",
       "Default Encoding: UTF-8\n",
       "Language: en\n",
       "Country: null\n",
       "--></g></svg>"
      ]
     },
     "execution_count": 7,
     "metadata": {},
     "output_type": "execute_result"
    }
   ],
   "source": [
    "%viz --style=\"COMPTREE\" --view=\"Sequence\" \"ActionTest\""
   ]
  },
  {
   "cell_type": "code",
   "execution_count": 8,
   "id": "obvious-hartford",
   "metadata": {
    "execution": {
     "iopub.execute_input": "2021-03-25T13:17:09.193033Z",
     "iopub.status.busy": "2021-03-25T13:17:09.191922Z",
     "iopub.status.idle": "2021-03-25T13:17:09.275304Z",
     "shell.execute_reply": "2021-03-25T13:17:09.274940Z"
    }
   },
   "outputs": [
    {
     "data": {
      "image/svg+xml": [
       "<?xml version=\"1.0\" encoding=\"UTF-8\" standalone=\"no\"?><svg xmlns=\"http://www.w3.org/2000/svg\" xmlns:xlink=\"http://www.w3.org/1999/xlink\" contentScriptType=\"application/ecmascript\" contentStyleType=\"text/css\" height=\"195px\" preserveAspectRatio=\"none\" style=\"width:178px;height:195px;\" version=\"1.1\" viewBox=\"0 0 178 195\" width=\"178px\" zoomAndPan=\"magnify\"><defs/><g><!--MD5=[fbc87193dbaf4d95561dea2c320d4a47]\n",
       "cluster E1--><a href=\"psysml:7d27680f-a8ad-4796-902f-be0a7d0ccba0\" target=\"_top\" title=\"psysml:7d27680f-a8ad-4796-902f-be0a7d0ccba0\" xlink:actuate=\"onRequest\" xlink:href=\"psysml:7d27680f-a8ad-4796-902f-be0a7d0ccba0\" xlink:show=\"new\" xlink:title=\"psysml:7d27680f-a8ad-4796-902f-be0a7d0ccba0\" xlink:type=\"simple\"><polygon fill=\"#FFFFFF\" points=\"16,6,107,6,114,28.2969,156,28.2969,156,183,16,183,16,6\" style=\"stroke: #000000; stroke-width: 1.5;\"/><line style=\"stroke: #000000; stroke-width: 1.5;\" x1=\"16\" x2=\"114\" y1=\"28.2969\" y2=\"28.2969\"/><text fill=\"#000000\" font-family=\"sans-serif\" font-size=\"14\" font-weight=\"bold\" lengthAdjust=\"spacingAndGlyphs\" textLength=\"85\" x=\"20\" y=\"20.9951\">ActionTest</text></a><!--MD5=[e4f7fae6ed58524ba242bb0b0d3be6b7]\n",
       "cluster E2--><a href=\"psysml:1bfaea47-077a-4258-abab-849ce06009df\" target=\"_top\" title=\"psysml:1bfaea47-077a-4258-abab-849ce06009df\" xlink:actuate=\"onRequest\" xlink:href=\"psysml:1bfaea47-077a-4258-abab-849ce06009df\" xlink:show=\"new\" xlink:title=\"psysml:1bfaea47-077a-4258-abab-849ce06009df\" xlink:type=\"simple\"><rect fill=\"#FFFFFF\" height=\"110\" id=\"E2\" rx=\"10\" ry=\"10\" style=\"stroke: #383838; stroke-width: 1.5;\" width=\"92\" x=\"40\" y=\"49\"/><rect fill=\"#F8F8F8\" height=\"37.9375\" rx=\"10\" ry=\"10\" style=\"stroke: #F8F8F8; stroke-width: 1.5;\" width=\"92\" x=\"40\" y=\"49\"/><rect fill=\"#F8F8F8\" height=\"10\" style=\"stroke: #F8F8F8; stroke-width: 1.5;\" width=\"92\" x=\"40\" y=\"76.9375\"/><rect fill=\"none\" height=\"110\" id=\"E2\" rx=\"10\" ry=\"10\" style=\"stroke: #383838; stroke-width: 1.5;\" width=\"92\" x=\"40\" y=\"49\"/><text fill=\"#000000\" font-family=\"sans-serif\" font-size=\"12\" font-style=\"italic\" lengthAdjust=\"spacingAndGlyphs\" textLength=\"53\" x=\"59.5\" y=\"65.1387\">«action»</text><text fill=\"#000000\" font-family=\"sans-serif\" font-size=\"12\" lengthAdjust=\"spacingAndGlyphs\" textLength=\"8\" x=\"82\" y=\"79.1074\">a</text><line style=\"stroke: #383838; stroke-width: 1.0;\" x1=\"40\" x2=\"132\" y1=\"86.9375\" y2=\"86.9375\"/></a><g id=\"E1.E2.E3\"><a href=\"psysml:a720e092-6bcd-479c-a1ff-52104ff4d712\" target=\"_top\" title=\"psysml:a720e092-6bcd-479c-a1ff-52104ff4d712\" xlink:actuate=\"onRequest\" xlink:href=\"psysml:a720e092-6bcd-479c-a1ff-52104ff4d712\" xlink:show=\"new\" xlink:title=\"psysml:a720e092-6bcd-479c-a1ff-52104ff4d712\" xlink:type=\"simple\"><rect fill=\"#FFFFFF\" height=\"42.9375\" id=\"E3\" rx=\"10\" ry=\"10\" style=\"stroke: #383838; stroke-width: 1.5;\" width=\"60\" x=\"56\" y=\"100\"/><rect fill=\"#F8F8F8\" height=\"37.9375\" rx=\"10\" ry=\"10\" style=\"stroke: #F8F8F8; stroke-width: 1.5;\" width=\"60\" x=\"56\" y=\"100\"/><rect fill=\"#F8F8F8\" height=\"10\" style=\"stroke: #F8F8F8; stroke-width: 1.5;\" width=\"60\" x=\"56\" y=\"127.9375\"/><rect fill=\"none\" height=\"42.9375\" id=\"E3\" rx=\"10\" ry=\"10\" style=\"stroke: #383838; stroke-width: 1.5;\" width=\"60\" x=\"56\" y=\"100\"/><text fill=\"#000000\" font-family=\"sans-serif\" font-size=\"12\" font-style=\"italic\" lengthAdjust=\"spacingAndGlyphs\" textLength=\"53\" x=\"59.5\" y=\"116.1387\">«action»</text><text fill=\"#000000\" font-family=\"sans-serif\" font-size=\"12\" lengthAdjust=\"spacingAndGlyphs\" textLength=\"30\" x=\"71\" y=\"130.1074\">start</text></a></g><!--MD5=[8551a51550cfe5d932035282e24b5950]\n",
       "@startuml\r\n",
       " skinparam monochrome true\r\n",
       "skinparam classbackgroundcolor white\r\n",
       "skinparam shadowing false\r\n",
       "skinparam wrapWidth 300\r\n",
       "hide circle\r\n",
       "\r\n",
       "package \"ActionTest\" as E1  [[psysml:7d27680f-a8ad-4796-902f-be0a7d0ccba0 ]]  {\r\n",
       "rec usage \"a\" as E2  <<(T,blue)action>> [[psysml:1bfaea47-077a-4258-abab-849ce06009df ]] {\r\n",
       "rec usage \"start\" as E3  <<(T,blue)action>> [[psysml:a720e092-6bcd-479c-a1ff-52104ff4d712 ]] {\r\n",
       "}\r\n",
       "\r\n",
       "}\r\n",
       "\r\n",
       "}\r\n",
       "@enduml\r\n",
       "\n",
       "PlantUML version 1.2020.13(Sat Jun 13 12:26:38 UTC 2020)\n",
       "(EPL source distribution)\n",
       "Java Runtime: OpenJDK Runtime Environment\n",
       "JVM: OpenJDK 64-Bit Server VM\n",
       "Default Encoding: UTF-8\n",
       "Language: en\n",
       "Country: null\n",
       "--></g></svg>"
      ]
     },
     "execution_count": 8,
     "metadata": {},
     "output_type": "execute_result"
    }
   ],
   "source": [
    "%viz --style=\"COMPTREE\" --view=\"MIXED\" \"ActionTest\""
   ]
  },
  {
   "cell_type": "code",
   "execution_count": 9,
   "id": "neural-digest",
   "metadata": {
    "execution": {
     "iopub.execute_input": "2021-03-25T13:17:09.326031Z",
     "iopub.status.busy": "2021-03-25T13:17:09.325568Z",
     "iopub.status.idle": "2021-03-25T13:17:09.401429Z",
     "shell.execute_reply": "2021-03-25T13:17:09.401012Z"
    }
   },
   "outputs": [
    {
     "data": {
      "image/svg+xml": [
       "<?xml version=\"1.0\" encoding=\"UTF-8\" standalone=\"no\"?><svg xmlns=\"http://www.w3.org/2000/svg\" xmlns:xlink=\"http://www.w3.org/1999/xlink\" contentScriptType=\"application/ecmascript\" contentStyleType=\"text/css\" height=\"195px\" preserveAspectRatio=\"none\" style=\"width:178px;height:195px;\" version=\"1.1\" viewBox=\"0 0 178 195\" width=\"178px\" zoomAndPan=\"magnify\"><defs/><g><!--MD5=[fbc87193dbaf4d95561dea2c320d4a47]\n",
       "cluster E1--><a href=\"psysml:7d27680f-a8ad-4796-902f-be0a7d0ccba0\" target=\"_top\" title=\"psysml:7d27680f-a8ad-4796-902f-be0a7d0ccba0\" xlink:actuate=\"onRequest\" xlink:href=\"psysml:7d27680f-a8ad-4796-902f-be0a7d0ccba0\" xlink:show=\"new\" xlink:title=\"psysml:7d27680f-a8ad-4796-902f-be0a7d0ccba0\" xlink:type=\"simple\"><polygon fill=\"#FFFFFF\" points=\"16,6,107,6,114,28.2969,156,28.2969,156,183,16,183,16,6\" style=\"stroke: #000000; stroke-width: 1.5;\"/><line style=\"stroke: #000000; stroke-width: 1.5;\" x1=\"16\" x2=\"114\" y1=\"28.2969\" y2=\"28.2969\"/><text fill=\"#000000\" font-family=\"sans-serif\" font-size=\"14\" font-weight=\"bold\" lengthAdjust=\"spacingAndGlyphs\" textLength=\"85\" x=\"20\" y=\"20.9951\">ActionTest</text></a><!--MD5=[e4f7fae6ed58524ba242bb0b0d3be6b7]\n",
       "cluster E2--><a href=\"psysml:1bfaea47-077a-4258-abab-849ce06009df\" target=\"_top\" title=\"psysml:1bfaea47-077a-4258-abab-849ce06009df\" xlink:actuate=\"onRequest\" xlink:href=\"psysml:1bfaea47-077a-4258-abab-849ce06009df\" xlink:show=\"new\" xlink:title=\"psysml:1bfaea47-077a-4258-abab-849ce06009df\" xlink:type=\"simple\"><rect fill=\"#FFFFFF\" height=\"110\" id=\"E2\" rx=\"10\" ry=\"10\" style=\"stroke: #383838; stroke-width: 1.5;\" width=\"92\" x=\"40\" y=\"49\"/><rect fill=\"#F8F8F8\" height=\"37.9375\" rx=\"10\" ry=\"10\" style=\"stroke: #F8F8F8; stroke-width: 1.5;\" width=\"92\" x=\"40\" y=\"49\"/><rect fill=\"#F8F8F8\" height=\"10\" style=\"stroke: #F8F8F8; stroke-width: 1.5;\" width=\"92\" x=\"40\" y=\"76.9375\"/><rect fill=\"none\" height=\"110\" id=\"E2\" rx=\"10\" ry=\"10\" style=\"stroke: #383838; stroke-width: 1.5;\" width=\"92\" x=\"40\" y=\"49\"/><text fill=\"#000000\" font-family=\"sans-serif\" font-size=\"12\" font-style=\"italic\" lengthAdjust=\"spacingAndGlyphs\" textLength=\"53\" x=\"59.5\" y=\"65.1387\">«action»</text><text fill=\"#000000\" font-family=\"sans-serif\" font-size=\"12\" lengthAdjust=\"spacingAndGlyphs\" textLength=\"8\" x=\"82\" y=\"79.1074\">a</text><line style=\"stroke: #383838; stroke-width: 1.0;\" x1=\"40\" x2=\"132\" y1=\"86.9375\" y2=\"86.9375\"/></a><g id=\"E1.E2.E3\"><a href=\"psysml:a720e092-6bcd-479c-a1ff-52104ff4d712\" target=\"_top\" title=\"psysml:a720e092-6bcd-479c-a1ff-52104ff4d712\" xlink:actuate=\"onRequest\" xlink:href=\"psysml:a720e092-6bcd-479c-a1ff-52104ff4d712\" xlink:show=\"new\" xlink:title=\"psysml:a720e092-6bcd-479c-a1ff-52104ff4d712\" xlink:type=\"simple\"><rect fill=\"#FFFFFF\" height=\"42.9375\" id=\"E3\" rx=\"10\" ry=\"10\" style=\"stroke: #383838; stroke-width: 1.5;\" width=\"60\" x=\"56\" y=\"100\"/><rect fill=\"#F8F8F8\" height=\"37.9375\" rx=\"10\" ry=\"10\" style=\"stroke: #F8F8F8; stroke-width: 1.5;\" width=\"60\" x=\"56\" y=\"100\"/><rect fill=\"#F8F8F8\" height=\"10\" style=\"stroke: #F8F8F8; stroke-width: 1.5;\" width=\"60\" x=\"56\" y=\"127.9375\"/><rect fill=\"none\" height=\"42.9375\" id=\"E3\" rx=\"10\" ry=\"10\" style=\"stroke: #383838; stroke-width: 1.5;\" width=\"60\" x=\"56\" y=\"100\"/><text fill=\"#000000\" font-family=\"sans-serif\" font-size=\"12\" font-style=\"italic\" lengthAdjust=\"spacingAndGlyphs\" textLength=\"53\" x=\"59.5\" y=\"116.1387\">«action»</text><text fill=\"#000000\" font-family=\"sans-serif\" font-size=\"12\" lengthAdjust=\"spacingAndGlyphs\" textLength=\"30\" x=\"71\" y=\"130.1074\">start</text></a></g><!--MD5=[e9a963d9be02ae64b76c0452f478786e]\n",
       "@startuml\r\n",
       "skinparam linetype polyline\r\n",
       "skinparam monochrome true\r\n",
       "skinparam classbackgroundcolor white\r\n",
       "skinparam shadowing false\r\n",
       "skinparam wrapWidth 300\r\n",
       "hide circle\r\n",
       "\r\n",
       "package \"ActionTest\" as E1  [[psysml:7d27680f-a8ad-4796-902f-be0a7d0ccba0 ]]  {\r\n",
       "rec usage \"a\" as E2  <<(T,blue)action>> [[psysml:1bfaea47-077a-4258-abab-849ce06009df ]] {\r\n",
       "rec usage \"start\" as E3  <<(T,blue)action>> [[psysml:a720e092-6bcd-479c-a1ff-52104ff4d712 ]] {\r\n",
       "}\r\n",
       "\r\n",
       "}\r\n",
       "\r\n",
       "}\r\n",
       "@enduml\r\n",
       "\n",
       "PlantUML version 1.2020.13(Sat Jun 13 12:26:38 UTC 2020)\n",
       "(EPL source distribution)\n",
       "Java Runtime: OpenJDK Runtime Environment\n",
       "JVM: OpenJDK 64-Bit Server VM\n",
       "Default Encoding: UTF-8\n",
       "Language: en\n",
       "Country: null\n",
       "--></g></svg>"
      ]
     },
     "execution_count": 9,
     "metadata": {},
     "output_type": "execute_result"
    }
   ],
   "source": [
    "%viz --style=\"POLYLINE\" --view=\"Default\" \"ActionTest\""
   ]
  },
  {
   "cell_type": "code",
   "execution_count": 10,
   "id": "distinguished-interpretation",
   "metadata": {
    "execution": {
     "iopub.execute_input": "2021-03-25T13:17:09.453567Z",
     "iopub.status.busy": "2021-03-25T13:17:09.452882Z",
     "iopub.status.idle": "2021-03-25T13:17:09.979131Z",
     "shell.execute_reply": "2021-03-25T13:17:09.978811Z"
    }
   },
   "outputs": [
    {
     "data": {
      "image/svg+xml": [
       "<?xml version=\"1.0\" encoding=\"UTF-8\" standalone=\"no\"?><svg xmlns=\"http://www.w3.org/2000/svg\" xmlns:xlink=\"http://www.w3.org/1999/xlink\" contentScriptType=\"application/ecmascript\" contentStyleType=\"text/css\" height=\"157px\" preserveAspectRatio=\"none\" style=\"width:230px;height:157px;\" version=\"1.1\" viewBox=\"0 0 230 157\" width=\"230px\" zoomAndPan=\"magnify\"><defs/><g><!--MD5=[fbc87193dbaf4d95561dea2c320d4a47]\n",
       "cluster E1--><a href=\"psysml:7d27680f-a8ad-4796-902f-be0a7d0ccba0\" target=\"_top\" title=\"psysml:7d27680f-a8ad-4796-902f-be0a7d0ccba0\" xlink:actuate=\"onRequest\" xlink:href=\"psysml:7d27680f-a8ad-4796-902f-be0a7d0ccba0\" xlink:show=\"new\" xlink:title=\"psysml:7d27680f-a8ad-4796-902f-be0a7d0ccba0\" xlink:type=\"simple\"><polygon fill=\"#FFFFFF\" points=\"16,6,107,6,114,28.2969,208,28.2969,208,145,16,145,16,6\" style=\"stroke: #000000; stroke-width: 1.5;\"/><line style=\"stroke: #000000; stroke-width: 1.5;\" x1=\"16\" x2=\"114\" y1=\"28.2969\" y2=\"28.2969\"/><text fill=\"#000000\" font-family=\"sans-serif\" font-size=\"14\" font-weight=\"bold\" lengthAdjust=\"spacingAndGlyphs\" textLength=\"85\" x=\"20\" y=\"20.9951\">ActionTest</text></a><!--MD5=[b4997ac47864f28c2f74865a473b2911]\n",
       "class E2--><a href=\"psysml:1bfaea47-077a-4258-abab-849ce06009df\" target=\"_top\" title=\"psysml:1bfaea47-077a-4258-abab-849ce06009df\" xlink:actuate=\"onRequest\" xlink:href=\"psysml:1bfaea47-077a-4258-abab-849ce06009df\" xlink:show=\"new\" xlink:title=\"psysml:1bfaea47-077a-4258-abab-849ce06009df\" xlink:type=\"simple\"><rect fill=\"#FFFFFF\" height=\"88.3516\" id=\"E2\" rx=\"10\" ry=\"10\" style=\"stroke: #383838; stroke-width: 1.5;\" width=\"160\" x=\"32\" y=\"41\"/><text fill=\"#000000\" font-family=\"sans-serif\" font-size=\"12\" font-style=\"italic\" lengthAdjust=\"spacingAndGlyphs\" textLength=\"53\" x=\"85.5\" y=\"57.1387\">«action»</text><text fill=\"#000000\" font-family=\"sans-serif\" font-size=\"12\" lengthAdjust=\"spacingAndGlyphs\" textLength=\"8\" x=\"108\" y=\"71.1074\">a</text><line style=\"stroke: #383838; stroke-width: 1.5;\" x1=\"33\" x2=\"191\" y1=\"78.9375\" y2=\"78.9375\"/><text fill=\"#000000\" font-family=\"sans-serif\" font-size=\"11\" lengthAdjust=\"spacingAndGlyphs\" textLength=\"69\" x=\"38\" y=\"109.9526\">start: Action</text><text fill=\"#000000\" font-family=\"sans-serif\" font-size=\"11\" font-style=\"italic\" lengthAdjust=\"spacingAndGlyphs\" textLength=\"148\" x=\"38\" y=\"122.7573\">:&gt;&gt;Occurrence::startShot</text><line style=\"stroke: #383838; stroke-width: 1.0;\" x1=\"33\" x2=\"91.5\" y1=\"93.3398\" y2=\"93.3398\"/><text fill=\"#000000\" font-family=\"sans-serif\" font-size=\"11\" lengthAdjust=\"spacingAndGlyphs\" textLength=\"41\" x=\"91.5\" y=\"96.6479\">actions</text><line style=\"stroke: #383838; stroke-width: 1.0;\" x1=\"132.5\" x2=\"191\" y1=\"93.3398\" y2=\"93.3398\"/></a><!--MD5=[cfdea4ff27d119215d6864504ddc36d4]\n",
       "@startuml\r\n",
       "skinparam linetype polyline\r\n",
       "skinparam monochrome true\r\n",
       "skinparam classbackgroundcolor white\r\n",
       "skinparam shadowing false\r\n",
       "skinparam wrapWidth 300\r\n",
       "hide circle\r\n",
       "\r\n",
       "package \"ActionTest\" as E1  [[psysml:7d27680f-a8ad-4796-902f-be0a7d0ccba0 ]]  {\r\n",
       "comp usage \"a\" as E2  <<(T,blue)action>> [[psysml:1bfaea47-077a-4258-abab-849ce06009df ]] {\r\n",
       "- - actions - -\r\n",
       "start: Action\\n//:>>Occurrence::startShot// \r\n",
       "}\r\n",
       "}\r\n",
       "@enduml\r\n",
       "\n",
       "PlantUML version 1.2020.13(Sat Jun 13 12:26:38 UTC 2020)\n",
       "(EPL source distribution)\n",
       "Java Runtime: OpenJDK Runtime Environment\n",
       "JVM: OpenJDK 64-Bit Server VM\n",
       "Default Encoding: UTF-8\n",
       "Language: en\n",
       "Country: null\n",
       "--></g></svg>"
      ]
     },
     "execution_count": 10,
     "metadata": {},
     "output_type": "execute_result"
    }
   ],
   "source": [
    "%viz --style=\"POLYLINE\" --view=\"Tree\" \"ActionTest\""
   ]
  },
  {
   "cell_type": "code",
   "execution_count": 11,
   "id": "mobile-peeing",
   "metadata": {
    "execution": {
     "iopub.execute_input": "2021-03-25T13:17:10.030725Z",
     "iopub.status.busy": "2021-03-25T13:17:10.029908Z",
     "iopub.status.idle": "2021-03-25T13:17:10.040082Z",
     "shell.execute_reply": "2021-03-25T13:17:10.040513Z"
    }
   },
   "outputs": [
    {
     "data": {
      "image/svg+xml": [
       "<?xml version=\"1.0\" encoding=\"UTF-8\" standalone=\"no\"?><svg xmlns=\"http://www.w3.org/2000/svg\" xmlns:xlink=\"http://www.w3.org/1999/xlink\" contentScriptType=\"application/ecmascript\" contentStyleType=\"text/css\" height=\"12px\" preserveAspectRatio=\"none\" style=\"width:12px;height:12px;\" version=\"1.1\" viewBox=\"0 0 12 12\" width=\"12px\" zoomAndPan=\"magnify\"><defs/><g><!--MD5=[896ac0e7a515d8dd7765a661cb4ee08b]\n",
       "@startuml\r\n",
       "skinparam linetype polyline\r\n",
       "skinparam monochrome true\r\n",
       "skinparam classbackgroundcolor white\r\n",
       "skinparam shadowing false\r\n",
       "skinparam wrapWidth 300\r\n",
       "hide circle\r\n",
       "\r\n",
       "@enduml\r\n",
       "\n",
       "PlantUML version 1.2020.13(Sat Jun 13 12:26:38 UTC 2020)\n",
       "(EPL source distribution)\n",
       "Java Runtime: OpenJDK Runtime Environment\n",
       "JVM: OpenJDK 64-Bit Server VM\n",
       "Default Encoding: UTF-8\n",
       "Language: en\n",
       "Country: null\n",
       "--></g></svg>"
      ]
     },
     "execution_count": 11,
     "metadata": {},
     "output_type": "execute_result"
    }
   ],
   "source": [
    "%viz --style=\"POLYLINE\" --view=\"State\" \"ActionTest\""
   ]
  },
  {
   "cell_type": "code",
   "execution_count": 12,
   "id": "dependent-manhattan",
   "metadata": {
    "execution": {
     "iopub.execute_input": "2021-03-25T13:17:10.091850Z",
     "iopub.status.busy": "2021-03-25T13:17:10.091134Z",
     "iopub.status.idle": "2021-03-25T13:17:10.178518Z",
     "shell.execute_reply": "2021-03-25T13:17:10.178116Z"
    }
   },
   "outputs": [
    {
     "data": {
      "image/svg+xml": [
       "<?xml version=\"1.0\" encoding=\"UTF-8\" standalone=\"no\"?><svg xmlns=\"http://www.w3.org/2000/svg\" xmlns:xlink=\"http://www.w3.org/1999/xlink\" contentScriptType=\"application/ecmascript\" contentStyleType=\"text/css\" height=\"209px\" preserveAspectRatio=\"none\" style=\"width:296px;height:209px;\" version=\"1.1\" viewBox=\"0 0 296 209\" width=\"296px\" zoomAndPan=\"magnify\"><defs/><g><!--MD5=[fbc87193dbaf4d95561dea2c320d4a47]\n",
       "cluster E1--><a href=\"psysml:7d27680f-a8ad-4796-902f-be0a7d0ccba0\" target=\"_top\" title=\"psysml:7d27680f-a8ad-4796-902f-be0a7d0ccba0\" xlink:actuate=\"onRequest\" xlink:href=\"psysml:7d27680f-a8ad-4796-902f-be0a7d0ccba0\" xlink:show=\"new\" xlink:title=\"psysml:7d27680f-a8ad-4796-902f-be0a7d0ccba0\" xlink:type=\"simple\"><polygon fill=\"#FFFFFF\" points=\"16,6,107,6,114,28.2969,274,28.2969,274,197,16,197,16,6\" style=\"stroke: #000000; stroke-width: 1.5;\"/><line style=\"stroke: #000000; stroke-width: 1.5;\" x1=\"16\" x2=\"114\" y1=\"28.2969\" y2=\"28.2969\"/><text fill=\"#000000\" font-family=\"sans-serif\" font-size=\"14\" font-weight=\"bold\" lengthAdjust=\"spacingAndGlyphs\" textLength=\"85\" x=\"20\" y=\"20.9951\">ActionTest</text></a><!--MD5=[e4f7fae6ed58524ba242bb0b0d3be6b7]\n",
       "cluster E2--><a href=\"psysml:1bfaea47-077a-4258-abab-849ce06009df\" target=\"_top\" title=\"psysml:1bfaea47-077a-4258-abab-849ce06009df\" xlink:actuate=\"onRequest\" xlink:href=\"psysml:1bfaea47-077a-4258-abab-849ce06009df\" xlink:show=\"new\" xlink:title=\"psysml:1bfaea47-077a-4258-abab-849ce06009df\" xlink:type=\"simple\"><rect fill=\"#FFFFFF\" height=\"124\" id=\"E2\" rx=\"10\" ry=\"10\" style=\"stroke: #383838; stroke-width: 1.5;\" width=\"210\" x=\"40\" y=\"49\"/><rect fill=\"#F8F8F8\" height=\"37.9375\" rx=\"10\" ry=\"10\" style=\"stroke: #F8F8F8; stroke-width: 1.5;\" width=\"210\" x=\"40\" y=\"49\"/><rect fill=\"#F8F8F8\" height=\"10\" style=\"stroke: #F8F8F8; stroke-width: 1.5;\" width=\"210\" x=\"40\" y=\"76.9375\"/><rect fill=\"none\" height=\"124\" id=\"E2\" rx=\"10\" ry=\"10\" style=\"stroke: #383838; stroke-width: 1.5;\" width=\"210\" x=\"40\" y=\"49\"/><text fill=\"#000000\" font-family=\"sans-serif\" font-size=\"12\" font-style=\"italic\" lengthAdjust=\"spacingAndGlyphs\" textLength=\"53\" x=\"118.5\" y=\"65.1387\">«action»</text><text fill=\"#000000\" font-family=\"sans-serif\" font-size=\"12\" lengthAdjust=\"spacingAndGlyphs\" textLength=\"8\" x=\"141\" y=\"79.1074\">a</text><line style=\"stroke: #383838; stroke-width: 1.0;\" x1=\"40\" x2=\"250\" y1=\"86.9375\" y2=\"86.9375\"/></a><g id=\"E1.E2.E3\"><a href=\"psysml:a720e092-6bcd-479c-a1ff-52104ff4d712\" target=\"_top\" title=\"psysml:a720e092-6bcd-479c-a1ff-52104ff4d712\" xlink:actuate=\"onRequest\" xlink:href=\"psysml:a720e092-6bcd-479c-a1ff-52104ff4d712\" xlink:show=\"new\" xlink:title=\"psysml:a720e092-6bcd-479c-a1ff-52104ff4d712\" xlink:type=\"simple\"><rect fill=\"#FFFFFF\" height=\"56.9063\" id=\"E3\" rx=\"10\" ry=\"10\" style=\"stroke: #383838; stroke-width: 1.5;\" width=\"178\" x=\"56\" y=\"100\"/><rect fill=\"#F8F8F8\" height=\"51.9063\" rx=\"10\" ry=\"10\" style=\"stroke: #F8F8F8; stroke-width: 1.5;\" width=\"178\" x=\"56\" y=\"100\"/><rect fill=\"#F8F8F8\" height=\"10\" style=\"stroke: #F8F8F8; stroke-width: 1.5;\" width=\"178\" x=\"56\" y=\"141.9063\"/><rect fill=\"none\" height=\"56.9063\" id=\"E3\" rx=\"10\" ry=\"10\" style=\"stroke: #383838; stroke-width: 1.5;\" width=\"178\" x=\"56\" y=\"100\"/><text fill=\"#000000\" font-family=\"sans-serif\" font-size=\"12\" font-style=\"italic\" lengthAdjust=\"spacingAndGlyphs\" textLength=\"53\" x=\"118.5\" y=\"116.1387\">«action»</text><text fill=\"#000000\" font-family=\"sans-serif\" font-size=\"12\" lengthAdjust=\"spacingAndGlyphs\" textLength=\"77\" x=\"106.5\" y=\"130.1074\">start: Action</text><text fill=\"#000000\" font-family=\"sans-serif\" font-size=\"12\" font-style=\"italic\" lengthAdjust=\"spacingAndGlyphs\" textLength=\"163\" x=\"61.5\" y=\"144.0762\">:&gt;&gt;Occurrence::startShot</text><text fill=\"#000000\" font-family=\"sans-serif\" font-size=\"12\" lengthAdjust=\"spacingAndGlyphs\" textLength=\"0\" x=\"228.5\" y=\"144.0762\"/></a></g><!--MD5=[de334bf047602fb2cafe01e14b09de39]\n",
       "@startuml\r\n",
       "skinparam ranksep 8\r\n",
       "skinparam rectangle {\r\n",
       " backgroundColor<<block>> LightGreen\r\n",
       "}\r\n",
       "skinparam linetype polyline\r\n",
       "skinparam monochrome true\r\n",
       "skinparam classbackgroundcolor white\r\n",
       "skinparam shadowing false\r\n",
       "skinparam wrapWidth 300\r\n",
       "hide circle\r\n",
       "\r\n",
       "package \"ActionTest\" as E1  [[psysml:7d27680f-a8ad-4796-902f-be0a7d0ccba0 ]]  {\r\n",
       "rec usage \"a\" as E2  <<(T,blue)action>> [[psysml:1bfaea47-077a-4258-abab-849ce06009df ]] {\r\n",
       "rec usage \"start: Action\\n//:>>Occurrence::startShot// \" as E3  <<(T,blue)action>> [[psysml:a720e092-6bcd-479c-a1ff-52104ff4d712 ]] {\r\n",
       "}\r\n",
       "}\r\n",
       "}\r\n",
       "@enduml\r\n",
       "\n",
       "PlantUML version 1.2020.13(Sat Jun 13 12:26:38 UTC 2020)\n",
       "(EPL source distribution)\n",
       "Java Runtime: OpenJDK Runtime Environment\n",
       "JVM: OpenJDK 64-Bit Server VM\n",
       "Default Encoding: UTF-8\n",
       "Language: en\n",
       "Country: null\n",
       "--></g></svg>"
      ]
     },
     "execution_count": 12,
     "metadata": {},
     "output_type": "execute_result"
    }
   ],
   "source": [
    "%viz --style=\"POLYLINE\" --view=\"Interconnection\" \"ActionTest\""
   ]
  },
  {
   "cell_type": "code",
   "execution_count": 13,
   "id": "virgin-prime",
   "metadata": {
    "execution": {
     "iopub.execute_input": "2021-03-25T13:17:10.228871Z",
     "iopub.status.busy": "2021-03-25T13:17:10.228065Z",
     "iopub.status.idle": "2021-03-25T13:17:10.294153Z",
     "shell.execute_reply": "2021-03-25T13:17:10.293794Z"
    }
   },
   "outputs": [
    {
     "data": {
      "image/svg+xml": [
       "<?xml version=\"1.0\" encoding=\"UTF-8\" standalone=\"no\"?><svg xmlns=\"http://www.w3.org/2000/svg\" xmlns:xlink=\"http://www.w3.org/1999/xlink\" contentScriptType=\"application/ecmascript\" contentStyleType=\"text/css\" height=\"128px\" preserveAspectRatio=\"none\" style=\"width:111px;height:128px;\" version=\"1.1\" viewBox=\"0 0 111 128\" width=\"111px\" zoomAndPan=\"magnify\"><defs/><g><!--MD5=[fbc87193dbaf4d95561dea2c320d4a47]\n",
       "cluster E1--><a href=\"psysml:1bfaea47-077a-4258-abab-849ce06009df\" target=\"_top\" title=\"psysml:1bfaea47-077a-4258-abab-849ce06009df\" xlink:actuate=\"onRequest\" xlink:href=\"psysml:1bfaea47-077a-4258-abab-849ce06009df\" xlink:show=\"new\" xlink:title=\"psysml:1bfaea47-077a-4258-abab-849ce06009df\" xlink:type=\"simple\"><rect fill=\"#FFFFFF\" height=\"110\" id=\"E1\" rx=\"10\" ry=\"10\" style=\"stroke: #383838; stroke-width: 1.5;\" width=\"92\" x=\"7\" y=\"7\"/><rect fill=\"#F8F8F8\" height=\"37.9375\" rx=\"10\" ry=\"10\" style=\"stroke: #F8F8F8; stroke-width: 1.5;\" width=\"92\" x=\"7\" y=\"7\"/><rect fill=\"#F8F8F8\" height=\"10\" style=\"stroke: #F8F8F8; stroke-width: 1.5;\" width=\"92\" x=\"7\" y=\"34.9375\"/><rect fill=\"none\" height=\"110\" id=\"E1\" rx=\"10\" ry=\"10\" style=\"stroke: #383838; stroke-width: 1.5;\" width=\"92\" x=\"7\" y=\"7\"/><text fill=\"#000000\" font-family=\"sans-serif\" font-size=\"12\" font-style=\"italic\" lengthAdjust=\"spacingAndGlyphs\" textLength=\"53\" x=\"26.5\" y=\"23.1387\">«action»</text><text fill=\"#000000\" font-family=\"sans-serif\" font-size=\"12\" lengthAdjust=\"spacingAndGlyphs\" textLength=\"8\" x=\"49\" y=\"37.1074\">a</text><line style=\"stroke: #383838; stroke-width: 1.0;\" x1=\"7\" x2=\"99\" y1=\"44.9375\" y2=\"44.9375\"/></a><g id=\"E1.E2\"><a href=\"psysml:a720e092-6bcd-479c-a1ff-52104ff4d712\" target=\"_top\" title=\"psysml:a720e092-6bcd-479c-a1ff-52104ff4d712\" xlink:actuate=\"onRequest\" xlink:href=\"psysml:a720e092-6bcd-479c-a1ff-52104ff4d712\" xlink:show=\"new\" xlink:title=\"psysml:a720e092-6bcd-479c-a1ff-52104ff4d712\" xlink:type=\"simple\"><rect fill=\"#FFFFFF\" height=\"42.9375\" id=\"E2\" rx=\"10\" ry=\"10\" style=\"stroke: #383838; stroke-width: 1.5;\" width=\"60\" x=\"23\" y=\"58\"/><rect fill=\"#F8F8F8\" height=\"37.9375\" rx=\"10\" ry=\"10\" style=\"stroke: #F8F8F8; stroke-width: 1.5;\" width=\"60\" x=\"23\" y=\"58\"/><rect fill=\"#F8F8F8\" height=\"10\" style=\"stroke: #F8F8F8; stroke-width: 1.5;\" width=\"60\" x=\"23\" y=\"85.9375\"/><rect fill=\"none\" height=\"42.9375\" id=\"E2\" rx=\"10\" ry=\"10\" style=\"stroke: #383838; stroke-width: 1.5;\" width=\"60\" x=\"23\" y=\"58\"/><text fill=\"#000000\" font-family=\"sans-serif\" font-size=\"12\" font-style=\"italic\" lengthAdjust=\"spacingAndGlyphs\" textLength=\"53\" x=\"26.5\" y=\"74.1387\">«action»</text><text fill=\"#000000\" font-family=\"sans-serif\" font-size=\"12\" lengthAdjust=\"spacingAndGlyphs\" textLength=\"30\" x=\"38\" y=\"88.1074\">start</text></a></g><!--MD5=[51fd3a9459fcda34e3ef448c6cbea91f]\n",
       "@startuml\r\n",
       "skinparam ranksep 8\r\n",
       "skinparam linetype polyline\r\n",
       "skinparam monochrome true\r\n",
       "skinparam classbackgroundcolor white\r\n",
       "skinparam shadowing false\r\n",
       "skinparam wrapWidth 300\r\n",
       "hide circle\r\n",
       "\r\n",
       "rec usage \"a\" as E1  <<(T,blue)action>> [[psysml:1bfaea47-077a-4258-abab-849ce06009df ]] {\r\n",
       "rec usage \"start\" as E2  <<(T,blue)action>> [[psysml:a720e092-6bcd-479c-a1ff-52104ff4d712 ]] {\r\n",
       "}\r\n",
       "\r\n",
       "}\r\n",
       "\r\n",
       "@enduml\r\n",
       "\n",
       "PlantUML version 1.2020.13(Sat Jun 13 12:26:38 UTC 2020)\n",
       "(EPL source distribution)\n",
       "Java Runtime: OpenJDK Runtime Environment\n",
       "JVM: OpenJDK 64-Bit Server VM\n",
       "Default Encoding: UTF-8\n",
       "Language: en\n",
       "Country: null\n",
       "--></g></svg>"
      ]
     },
     "execution_count": 13,
     "metadata": {},
     "output_type": "execute_result"
    }
   ],
   "source": [
    "%viz --style=\"POLYLINE\" --view=\"Action\" \"ActionTest\""
   ]
  },
  {
   "cell_type": "code",
   "execution_count": 14,
   "id": "revised-surveillance",
   "metadata": {
    "execution": {
     "iopub.execute_input": "2021-03-25T13:17:10.349838Z",
     "iopub.status.busy": "2021-03-25T13:17:10.349152Z",
     "iopub.status.idle": "2021-03-25T13:17:10.918732Z",
     "shell.execute_reply": "2021-03-25T13:17:10.918215Z"
    }
   },
   "outputs": [
    {
     "data": {
      "image/svg+xml": [
       "<?xml version=\"1.0\" encoding=\"UTF-8\" standalone=\"no\"?><svg xmlns=\"http://www.w3.org/2000/svg\" xmlns:xlink=\"http://www.w3.org/1999/xlink\" contentScriptType=\"application/ecmascript\" contentStyleType=\"text/css\" height=\"157px\" preserveAspectRatio=\"none\" style=\"width:230px;height:157px;\" version=\"1.1\" viewBox=\"0 0 230 157\" width=\"230px\" zoomAndPan=\"magnify\"><defs/><g><!--MD5=[fbc87193dbaf4d95561dea2c320d4a47]\n",
       "cluster E1--><a href=\"psysml:7d27680f-a8ad-4796-902f-be0a7d0ccba0\" target=\"_top\" title=\"psysml:7d27680f-a8ad-4796-902f-be0a7d0ccba0\" xlink:actuate=\"onRequest\" xlink:href=\"psysml:7d27680f-a8ad-4796-902f-be0a7d0ccba0\" xlink:show=\"new\" xlink:title=\"psysml:7d27680f-a8ad-4796-902f-be0a7d0ccba0\" xlink:type=\"simple\"><polygon fill=\"#FFFFFF\" points=\"16,6,107,6,114,28.2969,208,28.2969,208,145,16,145,16,6\" style=\"stroke: #000000; stroke-width: 1.5;\"/><line style=\"stroke: #000000; stroke-width: 1.5;\" x1=\"16\" x2=\"114\" y1=\"28.2969\" y2=\"28.2969\"/><text fill=\"#000000\" font-family=\"sans-serif\" font-size=\"14\" font-weight=\"bold\" lengthAdjust=\"spacingAndGlyphs\" textLength=\"85\" x=\"20\" y=\"20.9951\">ActionTest</text></a><!--MD5=[b4997ac47864f28c2f74865a473b2911]\n",
       "class E2--><a href=\"psysml:1bfaea47-077a-4258-abab-849ce06009df\" target=\"_top\" title=\"psysml:1bfaea47-077a-4258-abab-849ce06009df\" xlink:actuate=\"onRequest\" xlink:href=\"psysml:1bfaea47-077a-4258-abab-849ce06009df\" xlink:show=\"new\" xlink:title=\"psysml:1bfaea47-077a-4258-abab-849ce06009df\" xlink:type=\"simple\"><rect fill=\"#FFFFFF\" height=\"88.3516\" id=\"E2\" rx=\"10\" ry=\"10\" style=\"stroke: #383838; stroke-width: 1.5;\" width=\"160\" x=\"32\" y=\"41\"/><text fill=\"#000000\" font-family=\"sans-serif\" font-size=\"12\" font-style=\"italic\" lengthAdjust=\"spacingAndGlyphs\" textLength=\"53\" x=\"85.5\" y=\"57.1387\">«action»</text><text fill=\"#000000\" font-family=\"sans-serif\" font-size=\"12\" lengthAdjust=\"spacingAndGlyphs\" textLength=\"8\" x=\"108\" y=\"71.1074\">a</text><line style=\"stroke: #383838; stroke-width: 1.5;\" x1=\"33\" x2=\"191\" y1=\"78.9375\" y2=\"78.9375\"/><text fill=\"#000000\" font-family=\"sans-serif\" font-size=\"11\" lengthAdjust=\"spacingAndGlyphs\" textLength=\"69\" x=\"38\" y=\"109.9526\">start: Action</text><text fill=\"#000000\" font-family=\"sans-serif\" font-size=\"11\" font-style=\"italic\" lengthAdjust=\"spacingAndGlyphs\" textLength=\"148\" x=\"38\" y=\"122.7573\">:&gt;&gt;Occurrence::startShot</text><line style=\"stroke: #383838; stroke-width: 1.0;\" x1=\"33\" x2=\"91.5\" y1=\"93.3398\" y2=\"93.3398\"/><text fill=\"#000000\" font-family=\"sans-serif\" font-size=\"11\" lengthAdjust=\"spacingAndGlyphs\" textLength=\"41\" x=\"91.5\" y=\"96.6479\">actions</text><line style=\"stroke: #383838; stroke-width: 1.0;\" x1=\"132.5\" x2=\"191\" y1=\"93.3398\" y2=\"93.3398\"/></a><!--MD5=[cfdea4ff27d119215d6864504ddc36d4]\n",
       "@startuml\r\n",
       "skinparam linetype polyline\r\n",
       "skinparam monochrome true\r\n",
       "skinparam classbackgroundcolor white\r\n",
       "skinparam shadowing false\r\n",
       "skinparam wrapWidth 300\r\n",
       "hide circle\r\n",
       "\r\n",
       "package \"ActionTest\" as E1  [[psysml:7d27680f-a8ad-4796-902f-be0a7d0ccba0 ]]  {\r\n",
       "comp usage \"a\" as E2  <<(T,blue)action>> [[psysml:1bfaea47-077a-4258-abab-849ce06009df ]] {\r\n",
       "- - actions - -\r\n",
       "start: Action\\n//:>>Occurrence::startShot// \r\n",
       "}\r\n",
       "}\r\n",
       "@enduml\r\n",
       "\n",
       "PlantUML version 1.2020.13(Sat Jun 13 12:26:38 UTC 2020)\n",
       "(EPL source distribution)\n",
       "Java Runtime: OpenJDK Runtime Environment\n",
       "JVM: OpenJDK 64-Bit Server VM\n",
       "Default Encoding: UTF-8\n",
       "Language: en\n",
       "Country: null\n",
       "--></g></svg>"
      ]
     },
     "execution_count": 14,
     "metadata": {},
     "output_type": "execute_result"
    }
   ],
   "source": [
    "%viz --style=\"POLYLINE\" --view=\"Sequence\" \"ActionTest\""
   ]
  },
  {
   "cell_type": "code",
   "execution_count": 15,
   "id": "affiliated-voluntary",
   "metadata": {
    "execution": {
     "iopub.execute_input": "2021-03-25T13:17:10.969106Z",
     "iopub.status.busy": "2021-03-25T13:17:10.968648Z",
     "iopub.status.idle": "2021-03-25T13:17:11.033748Z",
     "shell.execute_reply": "2021-03-25T13:17:11.033044Z"
    }
   },
   "outputs": [
    {
     "data": {
      "image/svg+xml": [
       "<?xml version=\"1.0\" encoding=\"UTF-8\" standalone=\"no\"?><svg xmlns=\"http://www.w3.org/2000/svg\" xmlns:xlink=\"http://www.w3.org/1999/xlink\" contentScriptType=\"application/ecmascript\" contentStyleType=\"text/css\" height=\"195px\" preserveAspectRatio=\"none\" style=\"width:178px;height:195px;\" version=\"1.1\" viewBox=\"0 0 178 195\" width=\"178px\" zoomAndPan=\"magnify\"><defs/><g><!--MD5=[fbc87193dbaf4d95561dea2c320d4a47]\n",
       "cluster E1--><a href=\"psysml:7d27680f-a8ad-4796-902f-be0a7d0ccba0\" target=\"_top\" title=\"psysml:7d27680f-a8ad-4796-902f-be0a7d0ccba0\" xlink:actuate=\"onRequest\" xlink:href=\"psysml:7d27680f-a8ad-4796-902f-be0a7d0ccba0\" xlink:show=\"new\" xlink:title=\"psysml:7d27680f-a8ad-4796-902f-be0a7d0ccba0\" xlink:type=\"simple\"><polygon fill=\"#FFFFFF\" points=\"16,6,107,6,114,28.2969,156,28.2969,156,183,16,183,16,6\" style=\"stroke: #000000; stroke-width: 1.5;\"/><line style=\"stroke: #000000; stroke-width: 1.5;\" x1=\"16\" x2=\"114\" y1=\"28.2969\" y2=\"28.2969\"/><text fill=\"#000000\" font-family=\"sans-serif\" font-size=\"14\" font-weight=\"bold\" lengthAdjust=\"spacingAndGlyphs\" textLength=\"85\" x=\"20\" y=\"20.9951\">ActionTest</text></a><!--MD5=[e4f7fae6ed58524ba242bb0b0d3be6b7]\n",
       "cluster E2--><a href=\"psysml:1bfaea47-077a-4258-abab-849ce06009df\" target=\"_top\" title=\"psysml:1bfaea47-077a-4258-abab-849ce06009df\" xlink:actuate=\"onRequest\" xlink:href=\"psysml:1bfaea47-077a-4258-abab-849ce06009df\" xlink:show=\"new\" xlink:title=\"psysml:1bfaea47-077a-4258-abab-849ce06009df\" xlink:type=\"simple\"><rect fill=\"#FFFFFF\" height=\"110\" id=\"E2\" rx=\"10\" ry=\"10\" style=\"stroke: #383838; stroke-width: 1.5;\" width=\"92\" x=\"40\" y=\"49\"/><rect fill=\"#F8F8F8\" height=\"37.9375\" rx=\"10\" ry=\"10\" style=\"stroke: #F8F8F8; stroke-width: 1.5;\" width=\"92\" x=\"40\" y=\"49\"/><rect fill=\"#F8F8F8\" height=\"10\" style=\"stroke: #F8F8F8; stroke-width: 1.5;\" width=\"92\" x=\"40\" y=\"76.9375\"/><rect fill=\"none\" height=\"110\" id=\"E2\" rx=\"10\" ry=\"10\" style=\"stroke: #383838; stroke-width: 1.5;\" width=\"92\" x=\"40\" y=\"49\"/><text fill=\"#000000\" font-family=\"sans-serif\" font-size=\"12\" font-style=\"italic\" lengthAdjust=\"spacingAndGlyphs\" textLength=\"53\" x=\"59.5\" y=\"65.1387\">«action»</text><text fill=\"#000000\" font-family=\"sans-serif\" font-size=\"12\" lengthAdjust=\"spacingAndGlyphs\" textLength=\"8\" x=\"82\" y=\"79.1074\">a</text><line style=\"stroke: #383838; stroke-width: 1.0;\" x1=\"40\" x2=\"132\" y1=\"86.9375\" y2=\"86.9375\"/></a><g id=\"E1.E2.E3\"><a href=\"psysml:a720e092-6bcd-479c-a1ff-52104ff4d712\" target=\"_top\" title=\"psysml:a720e092-6bcd-479c-a1ff-52104ff4d712\" xlink:actuate=\"onRequest\" xlink:href=\"psysml:a720e092-6bcd-479c-a1ff-52104ff4d712\" xlink:show=\"new\" xlink:title=\"psysml:a720e092-6bcd-479c-a1ff-52104ff4d712\" xlink:type=\"simple\"><rect fill=\"#FFFFFF\" height=\"42.9375\" id=\"E3\" rx=\"10\" ry=\"10\" style=\"stroke: #383838; stroke-width: 1.5;\" width=\"60\" x=\"56\" y=\"100\"/><rect fill=\"#F8F8F8\" height=\"37.9375\" rx=\"10\" ry=\"10\" style=\"stroke: #F8F8F8; stroke-width: 1.5;\" width=\"60\" x=\"56\" y=\"100\"/><rect fill=\"#F8F8F8\" height=\"10\" style=\"stroke: #F8F8F8; stroke-width: 1.5;\" width=\"60\" x=\"56\" y=\"127.9375\"/><rect fill=\"none\" height=\"42.9375\" id=\"E3\" rx=\"10\" ry=\"10\" style=\"stroke: #383838; stroke-width: 1.5;\" width=\"60\" x=\"56\" y=\"100\"/><text fill=\"#000000\" font-family=\"sans-serif\" font-size=\"12\" font-style=\"italic\" lengthAdjust=\"spacingAndGlyphs\" textLength=\"53\" x=\"59.5\" y=\"116.1387\">«action»</text><text fill=\"#000000\" font-family=\"sans-serif\" font-size=\"12\" lengthAdjust=\"spacingAndGlyphs\" textLength=\"30\" x=\"71\" y=\"130.1074\">start</text></a></g><!--MD5=[e9a963d9be02ae64b76c0452f478786e]\n",
       "@startuml\r\n",
       "skinparam linetype polyline\r\n",
       "skinparam monochrome true\r\n",
       "skinparam classbackgroundcolor white\r\n",
       "skinparam shadowing false\r\n",
       "skinparam wrapWidth 300\r\n",
       "hide circle\r\n",
       "\r\n",
       "package \"ActionTest\" as E1  [[psysml:7d27680f-a8ad-4796-902f-be0a7d0ccba0 ]]  {\r\n",
       "rec usage \"a\" as E2  <<(T,blue)action>> [[psysml:1bfaea47-077a-4258-abab-849ce06009df ]] {\r\n",
       "rec usage \"start\" as E3  <<(T,blue)action>> [[psysml:a720e092-6bcd-479c-a1ff-52104ff4d712 ]] {\r\n",
       "}\r\n",
       "\r\n",
       "}\r\n",
       "\r\n",
       "}\r\n",
       "@enduml\r\n",
       "\n",
       "PlantUML version 1.2020.13(Sat Jun 13 12:26:38 UTC 2020)\n",
       "(EPL source distribution)\n",
       "Java Runtime: OpenJDK Runtime Environment\n",
       "JVM: OpenJDK 64-Bit Server VM\n",
       "Default Encoding: UTF-8\n",
       "Language: en\n",
       "Country: null\n",
       "--></g></svg>"
      ]
     },
     "execution_count": 15,
     "metadata": {},
     "output_type": "execute_result"
    }
   ],
   "source": [
    "%viz --style=\"POLYLINE\" --view=\"MIXED\" \"ActionTest\""
   ]
  },
  {
   "cell_type": "code",
   "execution_count": 16,
   "id": "advance-judgment",
   "metadata": {
    "execution": {
     "iopub.execute_input": "2021-03-25T13:17:11.084372Z",
     "iopub.status.busy": "2021-03-25T13:17:11.083700Z",
     "iopub.status.idle": "2021-03-25T13:17:11.146194Z",
     "shell.execute_reply": "2021-03-25T13:17:11.145591Z"
    }
   },
   "outputs": [
    {
     "data": {
      "image/svg+xml": [
       "<?xml version=\"1.0\" encoding=\"UTF-8\" standalone=\"no\"?><svg xmlns=\"http://www.w3.org/2000/svg\" xmlns:xlink=\"http://www.w3.org/1999/xlink\" contentScriptType=\"application/ecmascript\" contentStyleType=\"text/css\" height=\"196px\" preserveAspectRatio=\"none\" style=\"width:178px;height:196px;\" version=\"1.1\" viewBox=\"0 0 178 196\" width=\"178px\" zoomAndPan=\"magnify\"><defs/><g><!--MD5=[fbc87193dbaf4d95561dea2c320d4a47]\n",
       "cluster E1--><a href=\"psysml:7d27680f-a8ad-4796-902f-be0a7d0ccba0\" target=\"_top\" title=\"psysml:7d27680f-a8ad-4796-902f-be0a7d0ccba0\" xlink:actuate=\"onRequest\" xlink:href=\"psysml:7d27680f-a8ad-4796-902f-be0a7d0ccba0\" xlink:show=\"new\" xlink:title=\"psysml:7d27680f-a8ad-4796-902f-be0a7d0ccba0\" xlink:type=\"simple\"><polygon fill=\"#FFFFFF\" points=\"16,6,107,6,114,28.2969,156,28.2969,156,184,16,184,16,6\" style=\"stroke: #000000; stroke-width: 1.5;\"/><line style=\"stroke: #000000; stroke-width: 1.5;\" x1=\"16\" x2=\"114\" y1=\"28.2969\" y2=\"28.2969\"/><text fill=\"#000000\" font-family=\"sans-serif\" font-size=\"14\" font-weight=\"bold\" lengthAdjust=\"spacingAndGlyphs\" textLength=\"85\" x=\"20\" y=\"20.9951\">ActionTest</text></a><!--MD5=[e4f7fae6ed58524ba242bb0b0d3be6b7]\n",
       "cluster E2--><a href=\"psysml:1bfaea47-077a-4258-abab-849ce06009df\" target=\"_top\" title=\"psysml:1bfaea47-077a-4258-abab-849ce06009df\" xlink:actuate=\"onRequest\" xlink:href=\"psysml:1bfaea47-077a-4258-abab-849ce06009df\" xlink:show=\"new\" xlink:title=\"psysml:1bfaea47-077a-4258-abab-849ce06009df\" xlink:type=\"simple\"><rect fill=\"#FFFFFF\" height=\"111\" id=\"E2\" rx=\"10\" ry=\"10\" style=\"stroke: #383838; stroke-width: 1.5;\" width=\"92\" x=\"40\" y=\"49\"/><rect fill=\"#F8F8F8\" height=\"37.9375\" rx=\"10\" ry=\"10\" style=\"stroke: #F8F8F8; stroke-width: 1.5;\" width=\"92\" x=\"40\" y=\"49\"/><rect fill=\"#F8F8F8\" height=\"10\" style=\"stroke: #F8F8F8; stroke-width: 1.5;\" width=\"92\" x=\"40\" y=\"76.9375\"/><rect fill=\"none\" height=\"111\" id=\"E2\" rx=\"10\" ry=\"10\" style=\"stroke: #383838; stroke-width: 1.5;\" width=\"92\" x=\"40\" y=\"49\"/><text fill=\"#000000\" font-family=\"sans-serif\" font-size=\"12\" font-style=\"italic\" lengthAdjust=\"spacingAndGlyphs\" textLength=\"53\" x=\"59.5\" y=\"65.1387\">«action»</text><text fill=\"#000000\" font-family=\"sans-serif\" font-size=\"12\" lengthAdjust=\"spacingAndGlyphs\" textLength=\"8\" x=\"82\" y=\"79.1074\">a</text><line style=\"stroke: #383838; stroke-width: 1.0;\" x1=\"40\" x2=\"132\" y1=\"86.9375\" y2=\"86.9375\"/></a><g id=\"E1.E2.E3\"><a href=\"psysml:a720e092-6bcd-479c-a1ff-52104ff4d712\" target=\"_top\" title=\"psysml:a720e092-6bcd-479c-a1ff-52104ff4d712\" xlink:actuate=\"onRequest\" xlink:href=\"psysml:a720e092-6bcd-479c-a1ff-52104ff4d712\" xlink:show=\"new\" xlink:title=\"psysml:a720e092-6bcd-479c-a1ff-52104ff4d712\" xlink:type=\"simple\"><rect fill=\"#FFFFFF\" height=\"42.9375\" id=\"E3\" rx=\"10\" ry=\"10\" style=\"stroke: #383838; stroke-width: 1.5;\" width=\"60\" x=\"56\" y=\"100.5\"/><rect fill=\"#F8F8F8\" height=\"37.9375\" rx=\"10\" ry=\"10\" style=\"stroke: #F8F8F8; stroke-width: 1.5;\" width=\"60\" x=\"56\" y=\"100.5\"/><rect fill=\"#F8F8F8\" height=\"10\" style=\"stroke: #F8F8F8; stroke-width: 1.5;\" width=\"60\" x=\"56\" y=\"128.4375\"/><rect fill=\"none\" height=\"42.9375\" id=\"E3\" rx=\"10\" ry=\"10\" style=\"stroke: #383838; stroke-width: 1.5;\" width=\"60\" x=\"56\" y=\"100.5\"/><text fill=\"#000000\" font-family=\"sans-serif\" font-size=\"12\" font-style=\"italic\" lengthAdjust=\"spacingAndGlyphs\" textLength=\"53\" x=\"59.5\" y=\"116.6387\">«action»</text><text fill=\"#000000\" font-family=\"sans-serif\" font-size=\"12\" lengthAdjust=\"spacingAndGlyphs\" textLength=\"30\" x=\"71\" y=\"130.6074\">start</text></a></g><!--MD5=[33e7f7da8d0cc722efb6fe645d7c780b]\n",
       "@startuml\r\n",
       "left to right direction\r\n",
       "skinparam monochrome true\r\n",
       "skinparam classbackgroundcolor white\r\n",
       "skinparam shadowing false\r\n",
       "skinparam wrapWidth 300\r\n",
       "hide circle\r\n",
       "\r\n",
       "package \"ActionTest\" as E1  [[psysml:7d27680f-a8ad-4796-902f-be0a7d0ccba0 ]]  {\r\n",
       "rec usage \"a\" as E2  <<(T,blue)action>> [[psysml:1bfaea47-077a-4258-abab-849ce06009df ]] {\r\n",
       "rec usage \"start\" as E3  <<(T,blue)action>> [[psysml:a720e092-6bcd-479c-a1ff-52104ff4d712 ]] {\r\n",
       "}\r\n",
       "\r\n",
       "}\r\n",
       "\r\n",
       "}\r\n",
       "@enduml\r\n",
       "\n",
       "PlantUML version 1.2020.13(Sat Jun 13 12:26:38 UTC 2020)\n",
       "(EPL source distribution)\n",
       "Java Runtime: OpenJDK Runtime Environment\n",
       "JVM: OpenJDK 64-Bit Server VM\n",
       "Default Encoding: UTF-8\n",
       "Language: en\n",
       "Country: null\n",
       "--></g></svg>"
      ]
     },
     "execution_count": 16,
     "metadata": {},
     "output_type": "execute_result"
    }
   ],
   "source": [
    "%viz --style=\"LR\" --view=\"Default\" \"ActionTest\""
   ]
  },
  {
   "cell_type": "code",
   "execution_count": 17,
   "id": "technical-devon",
   "metadata": {
    "execution": {
     "iopub.execute_input": "2021-03-25T13:17:11.196822Z",
     "iopub.status.busy": "2021-03-25T13:17:11.196017Z",
     "iopub.status.idle": "2021-03-25T13:17:11.691015Z",
     "shell.execute_reply": "2021-03-25T13:17:11.690643Z"
    }
   },
   "outputs": [
    {
     "data": {
      "image/svg+xml": [
       "<?xml version=\"1.0\" encoding=\"UTF-8\" standalone=\"no\"?><svg xmlns=\"http://www.w3.org/2000/svg\" xmlns:xlink=\"http://www.w3.org/1999/xlink\" contentScriptType=\"application/ecmascript\" contentStyleType=\"text/css\" height=\"157px\" preserveAspectRatio=\"none\" style=\"width:230px;height:157px;\" version=\"1.1\" viewBox=\"0 0 230 157\" width=\"230px\" zoomAndPan=\"magnify\"><defs/><g><!--MD5=[fbc87193dbaf4d95561dea2c320d4a47]\n",
       "cluster E1--><a href=\"psysml:7d27680f-a8ad-4796-902f-be0a7d0ccba0\" target=\"_top\" title=\"psysml:7d27680f-a8ad-4796-902f-be0a7d0ccba0\" xlink:actuate=\"onRequest\" xlink:href=\"psysml:7d27680f-a8ad-4796-902f-be0a7d0ccba0\" xlink:show=\"new\" xlink:title=\"psysml:7d27680f-a8ad-4796-902f-be0a7d0ccba0\" xlink:type=\"simple\"><polygon fill=\"#FFFFFF\" points=\"16,6,107,6,114,28.2969,208,28.2969,208,145,16,145,16,6\" style=\"stroke: #000000; stroke-width: 1.5;\"/><line style=\"stroke: #000000; stroke-width: 1.5;\" x1=\"16\" x2=\"114\" y1=\"28.2969\" y2=\"28.2969\"/><text fill=\"#000000\" font-family=\"sans-serif\" font-size=\"14\" font-weight=\"bold\" lengthAdjust=\"spacingAndGlyphs\" textLength=\"85\" x=\"20\" y=\"20.9951\">ActionTest</text></a><!--MD5=[b4997ac47864f28c2f74865a473b2911]\n",
       "class E2--><a href=\"psysml:1bfaea47-077a-4258-abab-849ce06009df\" target=\"_top\" title=\"psysml:1bfaea47-077a-4258-abab-849ce06009df\" xlink:actuate=\"onRequest\" xlink:href=\"psysml:1bfaea47-077a-4258-abab-849ce06009df\" xlink:show=\"new\" xlink:title=\"psysml:1bfaea47-077a-4258-abab-849ce06009df\" xlink:type=\"simple\"><rect fill=\"#FFFFFF\" height=\"88.3516\" id=\"E2\" rx=\"10\" ry=\"10\" style=\"stroke: #383838; stroke-width: 1.5;\" width=\"160\" x=\"32\" y=\"41\"/><text fill=\"#000000\" font-family=\"sans-serif\" font-size=\"12\" font-style=\"italic\" lengthAdjust=\"spacingAndGlyphs\" textLength=\"53\" x=\"85.5\" y=\"57.1387\">«action»</text><text fill=\"#000000\" font-family=\"sans-serif\" font-size=\"12\" lengthAdjust=\"spacingAndGlyphs\" textLength=\"8\" x=\"108\" y=\"71.1074\">a</text><line style=\"stroke: #383838; stroke-width: 1.5;\" x1=\"33\" x2=\"191\" y1=\"78.9375\" y2=\"78.9375\"/><text fill=\"#000000\" font-family=\"sans-serif\" font-size=\"11\" lengthAdjust=\"spacingAndGlyphs\" textLength=\"69\" x=\"38\" y=\"109.9526\">start: Action</text><text fill=\"#000000\" font-family=\"sans-serif\" font-size=\"11\" font-style=\"italic\" lengthAdjust=\"spacingAndGlyphs\" textLength=\"148\" x=\"38\" y=\"122.7573\">:&gt;&gt;Occurrence::startShot</text><line style=\"stroke: #383838; stroke-width: 1.0;\" x1=\"33\" x2=\"91.5\" y1=\"93.3398\" y2=\"93.3398\"/><text fill=\"#000000\" font-family=\"sans-serif\" font-size=\"11\" lengthAdjust=\"spacingAndGlyphs\" textLength=\"41\" x=\"91.5\" y=\"96.6479\">actions</text><line style=\"stroke: #383838; stroke-width: 1.0;\" x1=\"132.5\" x2=\"191\" y1=\"93.3398\" y2=\"93.3398\"/></a><!--MD5=[331821a1bd99dadeb07e741201bf3a2f]\n",
       "@startuml\r\n",
       "left to right direction\r\n",
       "skinparam monochrome true\r\n",
       "skinparam classbackgroundcolor white\r\n",
       "skinparam shadowing false\r\n",
       "skinparam wrapWidth 300\r\n",
       "hide circle\r\n",
       "\r\n",
       "package \"ActionTest\" as E1  [[psysml:7d27680f-a8ad-4796-902f-be0a7d0ccba0 ]]  {\r\n",
       "comp usage \"a\" as E2  <<(T,blue)action>> [[psysml:1bfaea47-077a-4258-abab-849ce06009df ]] {\r\n",
       "- - actions - -\r\n",
       "start: Action\\n//:>>Occurrence::startShot// \r\n",
       "}\r\n",
       "}\r\n",
       "@enduml\r\n",
       "\n",
       "PlantUML version 1.2020.13(Sat Jun 13 12:26:38 UTC 2020)\n",
       "(EPL source distribution)\n",
       "Java Runtime: OpenJDK Runtime Environment\n",
       "JVM: OpenJDK 64-Bit Server VM\n",
       "Default Encoding: UTF-8\n",
       "Language: en\n",
       "Country: null\n",
       "--></g></svg>"
      ]
     },
     "execution_count": 17,
     "metadata": {},
     "output_type": "execute_result"
    }
   ],
   "source": [
    "%viz --style=\"LR\" --view=\"Tree\" \"ActionTest\""
   ]
  },
  {
   "cell_type": "code",
   "execution_count": 18,
   "id": "uniform-blocking",
   "metadata": {
    "execution": {
     "iopub.execute_input": "2021-03-25T13:17:11.743312Z",
     "iopub.status.busy": "2021-03-25T13:17:11.742733Z",
     "iopub.status.idle": "2021-03-25T13:17:11.749882Z",
     "shell.execute_reply": "2021-03-25T13:17:11.749542Z"
    }
   },
   "outputs": [
    {
     "data": {
      "image/svg+xml": [
       "<?xml version=\"1.0\" encoding=\"UTF-8\" standalone=\"no\"?><svg xmlns=\"http://www.w3.org/2000/svg\" xmlns:xlink=\"http://www.w3.org/1999/xlink\" contentScriptType=\"application/ecmascript\" contentStyleType=\"text/css\" height=\"12px\" preserveAspectRatio=\"none\" style=\"width:12px;height:12px;\" version=\"1.1\" viewBox=\"0 0 12 12\" width=\"12px\" zoomAndPan=\"magnify\"><defs/><g><!--MD5=[19d285c9d72a204eba4e2cd117d745e8]\n",
       "@startuml\r\n",
       "left to right direction\r\n",
       "skinparam monochrome true\r\n",
       "skinparam classbackgroundcolor white\r\n",
       "skinparam shadowing false\r\n",
       "skinparam wrapWidth 300\r\n",
       "hide circle\r\n",
       "\r\n",
       "@enduml\r\n",
       "\n",
       "PlantUML version 1.2020.13(Sat Jun 13 12:26:38 UTC 2020)\n",
       "(EPL source distribution)\n",
       "Java Runtime: OpenJDK Runtime Environment\n",
       "JVM: OpenJDK 64-Bit Server VM\n",
       "Default Encoding: UTF-8\n",
       "Language: en\n",
       "Country: null\n",
       "--></g></svg>"
      ]
     },
     "execution_count": 18,
     "metadata": {},
     "output_type": "execute_result"
    }
   ],
   "source": [
    "%viz --style=\"LR\" --view=\"State\" \"ActionTest\""
   ]
  },
  {
   "cell_type": "code",
   "execution_count": 19,
   "id": "grateful-indian",
   "metadata": {
    "execution": {
     "iopub.execute_input": "2021-03-25T13:17:11.801457Z",
     "iopub.status.busy": "2021-03-25T13:17:11.800989Z",
     "iopub.status.idle": "2021-03-25T13:17:11.877733Z",
     "shell.execute_reply": "2021-03-25T13:17:11.877237Z"
    }
   },
   "outputs": [
    {
     "data": {
      "image/svg+xml": [
       "<?xml version=\"1.0\" encoding=\"UTF-8\" standalone=\"no\"?><svg xmlns=\"http://www.w3.org/2000/svg\" xmlns:xlink=\"http://www.w3.org/1999/xlink\" contentScriptType=\"application/ecmascript\" contentStyleType=\"text/css\" height=\"210px\" preserveAspectRatio=\"none\" style=\"width:296px;height:210px;\" version=\"1.1\" viewBox=\"0 0 296 210\" width=\"296px\" zoomAndPan=\"magnify\"><defs/><g><!--MD5=[fbc87193dbaf4d95561dea2c320d4a47]\n",
       "cluster E1--><a href=\"psysml:7d27680f-a8ad-4796-902f-be0a7d0ccba0\" target=\"_top\" title=\"psysml:7d27680f-a8ad-4796-902f-be0a7d0ccba0\" xlink:actuate=\"onRequest\" xlink:href=\"psysml:7d27680f-a8ad-4796-902f-be0a7d0ccba0\" xlink:show=\"new\" xlink:title=\"psysml:7d27680f-a8ad-4796-902f-be0a7d0ccba0\" xlink:type=\"simple\"><polygon fill=\"#FFFFFF\" points=\"16,6,107,6,114,28.2969,274,28.2969,274,198,16,198,16,6\" style=\"stroke: #000000; stroke-width: 1.5;\"/><line style=\"stroke: #000000; stroke-width: 1.5;\" x1=\"16\" x2=\"114\" y1=\"28.2969\" y2=\"28.2969\"/><text fill=\"#000000\" font-family=\"sans-serif\" font-size=\"14\" font-weight=\"bold\" lengthAdjust=\"spacingAndGlyphs\" textLength=\"85\" x=\"20\" y=\"20.9951\">ActionTest</text></a><!--MD5=[e4f7fae6ed58524ba242bb0b0d3be6b7]\n",
       "cluster E2--><a href=\"psysml:1bfaea47-077a-4258-abab-849ce06009df\" target=\"_top\" title=\"psysml:1bfaea47-077a-4258-abab-849ce06009df\" xlink:actuate=\"onRequest\" xlink:href=\"psysml:1bfaea47-077a-4258-abab-849ce06009df\" xlink:show=\"new\" xlink:title=\"psysml:1bfaea47-077a-4258-abab-849ce06009df\" xlink:type=\"simple\"><rect fill=\"#FFFFFF\" height=\"125\" id=\"E2\" rx=\"10\" ry=\"10\" style=\"stroke: #383838; stroke-width: 1.5;\" width=\"210\" x=\"40\" y=\"49\"/><rect fill=\"#F8F8F8\" height=\"37.9375\" rx=\"10\" ry=\"10\" style=\"stroke: #F8F8F8; stroke-width: 1.5;\" width=\"210\" x=\"40\" y=\"49\"/><rect fill=\"#F8F8F8\" height=\"10\" style=\"stroke: #F8F8F8; stroke-width: 1.5;\" width=\"210\" x=\"40\" y=\"76.9375\"/><rect fill=\"none\" height=\"125\" id=\"E2\" rx=\"10\" ry=\"10\" style=\"stroke: #383838; stroke-width: 1.5;\" width=\"210\" x=\"40\" y=\"49\"/><text fill=\"#000000\" font-family=\"sans-serif\" font-size=\"12\" font-style=\"italic\" lengthAdjust=\"spacingAndGlyphs\" textLength=\"53\" x=\"118.5\" y=\"65.1387\">«action»</text><text fill=\"#000000\" font-family=\"sans-serif\" font-size=\"12\" lengthAdjust=\"spacingAndGlyphs\" textLength=\"8\" x=\"141\" y=\"79.1074\">a</text><line style=\"stroke: #383838; stroke-width: 1.0;\" x1=\"40\" x2=\"250\" y1=\"86.9375\" y2=\"86.9375\"/></a><g id=\"E1.E2.E3\"><a href=\"psysml:a720e092-6bcd-479c-a1ff-52104ff4d712\" target=\"_top\" title=\"psysml:a720e092-6bcd-479c-a1ff-52104ff4d712\" xlink:actuate=\"onRequest\" xlink:href=\"psysml:a720e092-6bcd-479c-a1ff-52104ff4d712\" xlink:show=\"new\" xlink:title=\"psysml:a720e092-6bcd-479c-a1ff-52104ff4d712\" xlink:type=\"simple\"><rect fill=\"#FFFFFF\" height=\"56.9063\" id=\"E3\" rx=\"10\" ry=\"10\" style=\"stroke: #383838; stroke-width: 1.5;\" width=\"178\" x=\"56\" y=\"100.5\"/><rect fill=\"#F8F8F8\" height=\"51.9063\" rx=\"10\" ry=\"10\" style=\"stroke: #F8F8F8; stroke-width: 1.5;\" width=\"178\" x=\"56\" y=\"100.5\"/><rect fill=\"#F8F8F8\" height=\"10\" style=\"stroke: #F8F8F8; stroke-width: 1.5;\" width=\"178\" x=\"56\" y=\"142.4063\"/><rect fill=\"none\" height=\"56.9063\" id=\"E3\" rx=\"10\" ry=\"10\" style=\"stroke: #383838; stroke-width: 1.5;\" width=\"178\" x=\"56\" y=\"100.5\"/><text fill=\"#000000\" font-family=\"sans-serif\" font-size=\"12\" font-style=\"italic\" lengthAdjust=\"spacingAndGlyphs\" textLength=\"53\" x=\"118.5\" y=\"116.6387\">«action»</text><text fill=\"#000000\" font-family=\"sans-serif\" font-size=\"12\" lengthAdjust=\"spacingAndGlyphs\" textLength=\"77\" x=\"106.5\" y=\"130.6074\">start: Action</text><text fill=\"#000000\" font-family=\"sans-serif\" font-size=\"12\" font-style=\"italic\" lengthAdjust=\"spacingAndGlyphs\" textLength=\"163\" x=\"61.5\" y=\"144.5762\">:&gt;&gt;Occurrence::startShot</text><text fill=\"#000000\" font-family=\"sans-serif\" font-size=\"12\" lengthAdjust=\"spacingAndGlyphs\" textLength=\"0\" x=\"228.5\" y=\"144.5762\"/></a></g><!--MD5=[5952c33a918969b46d0d3f986c633f28]\n",
       "@startuml\r\n",
       "skinparam ranksep 8\r\n",
       "skinparam rectangle {\r\n",
       " backgroundColor<<block>> LightGreen\r\n",
       "}\r\n",
       "left to right direction\r\n",
       "skinparam monochrome true\r\n",
       "skinparam classbackgroundcolor white\r\n",
       "skinparam shadowing false\r\n",
       "skinparam wrapWidth 300\r\n",
       "hide circle\r\n",
       "\r\n",
       "package \"ActionTest\" as E1  [[psysml:7d27680f-a8ad-4796-902f-be0a7d0ccba0 ]]  {\r\n",
       "rec usage \"a\" as E2  <<(T,blue)action>> [[psysml:1bfaea47-077a-4258-abab-849ce06009df ]] {\r\n",
       "rec usage \"start: Action\\n//:>>Occurrence::startShot// \" as E3  <<(T,blue)action>> [[psysml:a720e092-6bcd-479c-a1ff-52104ff4d712 ]] {\r\n",
       "}\r\n",
       "}\r\n",
       "}\r\n",
       "@enduml\r\n",
       "\n",
       "PlantUML version 1.2020.13(Sat Jun 13 12:26:38 UTC 2020)\n",
       "(EPL source distribution)\n",
       "Java Runtime: OpenJDK Runtime Environment\n",
       "JVM: OpenJDK 64-Bit Server VM\n",
       "Default Encoding: UTF-8\n",
       "Language: en\n",
       "Country: null\n",
       "--></g></svg>"
      ]
     },
     "execution_count": 19,
     "metadata": {},
     "output_type": "execute_result"
    }
   ],
   "source": [
    "%viz --style=\"LR\" --view=\"Interconnection\" \"ActionTest\""
   ]
  },
  {
   "cell_type": "code",
   "execution_count": 20,
   "id": "executed-times",
   "metadata": {
    "execution": {
     "iopub.execute_input": "2021-03-25T13:17:11.929322Z",
     "iopub.status.busy": "2021-03-25T13:17:11.928161Z",
     "iopub.status.idle": "2021-03-25T13:17:11.984972Z",
     "shell.execute_reply": "2021-03-25T13:17:11.984623Z"
    }
   },
   "outputs": [
    {
     "data": {
      "image/svg+xml": [
       "<?xml version=\"1.0\" encoding=\"UTF-8\" standalone=\"no\"?><svg xmlns=\"http://www.w3.org/2000/svg\" xmlns:xlink=\"http://www.w3.org/1999/xlink\" contentScriptType=\"application/ecmascript\" contentStyleType=\"text/css\" height=\"129px\" preserveAspectRatio=\"none\" style=\"width:111px;height:129px;\" version=\"1.1\" viewBox=\"0 0 111 129\" width=\"111px\" zoomAndPan=\"magnify\"><defs/><g><!--MD5=[fbc87193dbaf4d95561dea2c320d4a47]\n",
       "cluster E1--><a href=\"psysml:1bfaea47-077a-4258-abab-849ce06009df\" target=\"_top\" title=\"psysml:1bfaea47-077a-4258-abab-849ce06009df\" xlink:actuate=\"onRequest\" xlink:href=\"psysml:1bfaea47-077a-4258-abab-849ce06009df\" xlink:show=\"new\" xlink:title=\"psysml:1bfaea47-077a-4258-abab-849ce06009df\" xlink:type=\"simple\"><rect fill=\"#FFFFFF\" height=\"111\" id=\"E1\" rx=\"10\" ry=\"10\" style=\"stroke: #383838; stroke-width: 1.5;\" width=\"92\" x=\"7\" y=\"7\"/><rect fill=\"#F8F8F8\" height=\"37.9375\" rx=\"10\" ry=\"10\" style=\"stroke: #F8F8F8; stroke-width: 1.5;\" width=\"92\" x=\"7\" y=\"7\"/><rect fill=\"#F8F8F8\" height=\"10\" style=\"stroke: #F8F8F8; stroke-width: 1.5;\" width=\"92\" x=\"7\" y=\"34.9375\"/><rect fill=\"none\" height=\"111\" id=\"E1\" rx=\"10\" ry=\"10\" style=\"stroke: #383838; stroke-width: 1.5;\" width=\"92\" x=\"7\" y=\"7\"/><text fill=\"#000000\" font-family=\"sans-serif\" font-size=\"12\" font-style=\"italic\" lengthAdjust=\"spacingAndGlyphs\" textLength=\"53\" x=\"26.5\" y=\"23.1387\">«action»</text><text fill=\"#000000\" font-family=\"sans-serif\" font-size=\"12\" lengthAdjust=\"spacingAndGlyphs\" textLength=\"8\" x=\"49\" y=\"37.1074\">a</text><line style=\"stroke: #383838; stroke-width: 1.0;\" x1=\"7\" x2=\"99\" y1=\"44.9375\" y2=\"44.9375\"/></a><g id=\"E1.E2\"><a href=\"psysml:a720e092-6bcd-479c-a1ff-52104ff4d712\" target=\"_top\" title=\"psysml:a720e092-6bcd-479c-a1ff-52104ff4d712\" xlink:actuate=\"onRequest\" xlink:href=\"psysml:a720e092-6bcd-479c-a1ff-52104ff4d712\" xlink:show=\"new\" xlink:title=\"psysml:a720e092-6bcd-479c-a1ff-52104ff4d712\" xlink:type=\"simple\"><rect fill=\"#FFFFFF\" height=\"42.9375\" id=\"E2\" rx=\"10\" ry=\"10\" style=\"stroke: #383838; stroke-width: 1.5;\" width=\"60\" x=\"23\" y=\"58.5\"/><rect fill=\"#F8F8F8\" height=\"37.9375\" rx=\"10\" ry=\"10\" style=\"stroke: #F8F8F8; stroke-width: 1.5;\" width=\"60\" x=\"23\" y=\"58.5\"/><rect fill=\"#F8F8F8\" height=\"10\" style=\"stroke: #F8F8F8; stroke-width: 1.5;\" width=\"60\" x=\"23\" y=\"86.4375\"/><rect fill=\"none\" height=\"42.9375\" id=\"E2\" rx=\"10\" ry=\"10\" style=\"stroke: #383838; stroke-width: 1.5;\" width=\"60\" x=\"23\" y=\"58.5\"/><text fill=\"#000000\" font-family=\"sans-serif\" font-size=\"12\" font-style=\"italic\" lengthAdjust=\"spacingAndGlyphs\" textLength=\"53\" x=\"26.5\" y=\"74.6387\">«action»</text><text fill=\"#000000\" font-family=\"sans-serif\" font-size=\"12\" lengthAdjust=\"spacingAndGlyphs\" textLength=\"30\" x=\"38\" y=\"88.6074\">start</text></a></g><!--MD5=[c9feafda42a4352361189d5d9eca0097]\n",
       "@startuml\r\n",
       "skinparam ranksep 8\r\n",
       "left to right direction\r\n",
       "skinparam monochrome true\r\n",
       "skinparam classbackgroundcolor white\r\n",
       "skinparam shadowing false\r\n",
       "skinparam wrapWidth 300\r\n",
       "hide circle\r\n",
       "\r\n",
       "rec usage \"a\" as E1  <<(T,blue)action>> [[psysml:1bfaea47-077a-4258-abab-849ce06009df ]] {\r\n",
       "rec usage \"start\" as E2  <<(T,blue)action>> [[psysml:a720e092-6bcd-479c-a1ff-52104ff4d712 ]] {\r\n",
       "}\r\n",
       "\r\n",
       "}\r\n",
       "\r\n",
       "@enduml\r\n",
       "\n",
       "PlantUML version 1.2020.13(Sat Jun 13 12:26:38 UTC 2020)\n",
       "(EPL source distribution)\n",
       "Java Runtime: OpenJDK Runtime Environment\n",
       "JVM: OpenJDK 64-Bit Server VM\n",
       "Default Encoding: UTF-8\n",
       "Language: en\n",
       "Country: null\n",
       "--></g></svg>"
      ]
     },
     "execution_count": 20,
     "metadata": {},
     "output_type": "execute_result"
    }
   ],
   "source": [
    "%viz --style=\"LR\" --view=\"Action\" \"ActionTest\""
   ]
  },
  {
   "cell_type": "code",
   "execution_count": 21,
   "id": "auburn-physics",
   "metadata": {
    "execution": {
     "iopub.execute_input": "2021-03-25T13:17:12.035144Z",
     "iopub.status.busy": "2021-03-25T13:17:12.034656Z",
     "iopub.status.idle": "2021-03-25T13:17:12.532974Z",
     "shell.execute_reply": "2021-03-25T13:17:12.532626Z"
    }
   },
   "outputs": [
    {
     "data": {
      "image/svg+xml": [
       "<?xml version=\"1.0\" encoding=\"UTF-8\" standalone=\"no\"?><svg xmlns=\"http://www.w3.org/2000/svg\" xmlns:xlink=\"http://www.w3.org/1999/xlink\" contentScriptType=\"application/ecmascript\" contentStyleType=\"text/css\" height=\"157px\" preserveAspectRatio=\"none\" style=\"width:230px;height:157px;\" version=\"1.1\" viewBox=\"0 0 230 157\" width=\"230px\" zoomAndPan=\"magnify\"><defs/><g><!--MD5=[fbc87193dbaf4d95561dea2c320d4a47]\n",
       "cluster E1--><a href=\"psysml:7d27680f-a8ad-4796-902f-be0a7d0ccba0\" target=\"_top\" title=\"psysml:7d27680f-a8ad-4796-902f-be0a7d0ccba0\" xlink:actuate=\"onRequest\" xlink:href=\"psysml:7d27680f-a8ad-4796-902f-be0a7d0ccba0\" xlink:show=\"new\" xlink:title=\"psysml:7d27680f-a8ad-4796-902f-be0a7d0ccba0\" xlink:type=\"simple\"><polygon fill=\"#FFFFFF\" points=\"16,6,107,6,114,28.2969,208,28.2969,208,145,16,145,16,6\" style=\"stroke: #000000; stroke-width: 1.5;\"/><line style=\"stroke: #000000; stroke-width: 1.5;\" x1=\"16\" x2=\"114\" y1=\"28.2969\" y2=\"28.2969\"/><text fill=\"#000000\" font-family=\"sans-serif\" font-size=\"14\" font-weight=\"bold\" lengthAdjust=\"spacingAndGlyphs\" textLength=\"85\" x=\"20\" y=\"20.9951\">ActionTest</text></a><!--MD5=[b4997ac47864f28c2f74865a473b2911]\n",
       "class E2--><a href=\"psysml:1bfaea47-077a-4258-abab-849ce06009df\" target=\"_top\" title=\"psysml:1bfaea47-077a-4258-abab-849ce06009df\" xlink:actuate=\"onRequest\" xlink:href=\"psysml:1bfaea47-077a-4258-abab-849ce06009df\" xlink:show=\"new\" xlink:title=\"psysml:1bfaea47-077a-4258-abab-849ce06009df\" xlink:type=\"simple\"><rect fill=\"#FFFFFF\" height=\"88.3516\" id=\"E2\" rx=\"10\" ry=\"10\" style=\"stroke: #383838; stroke-width: 1.5;\" width=\"160\" x=\"32\" y=\"41\"/><text fill=\"#000000\" font-family=\"sans-serif\" font-size=\"12\" font-style=\"italic\" lengthAdjust=\"spacingAndGlyphs\" textLength=\"53\" x=\"85.5\" y=\"57.1387\">«action»</text><text fill=\"#000000\" font-family=\"sans-serif\" font-size=\"12\" lengthAdjust=\"spacingAndGlyphs\" textLength=\"8\" x=\"108\" y=\"71.1074\">a</text><line style=\"stroke: #383838; stroke-width: 1.5;\" x1=\"33\" x2=\"191\" y1=\"78.9375\" y2=\"78.9375\"/><text fill=\"#000000\" font-family=\"sans-serif\" font-size=\"11\" lengthAdjust=\"spacingAndGlyphs\" textLength=\"69\" x=\"38\" y=\"109.9526\">start: Action</text><text fill=\"#000000\" font-family=\"sans-serif\" font-size=\"11\" font-style=\"italic\" lengthAdjust=\"spacingAndGlyphs\" textLength=\"148\" x=\"38\" y=\"122.7573\">:&gt;&gt;Occurrence::startShot</text><line style=\"stroke: #383838; stroke-width: 1.0;\" x1=\"33\" x2=\"91.5\" y1=\"93.3398\" y2=\"93.3398\"/><text fill=\"#000000\" font-family=\"sans-serif\" font-size=\"11\" lengthAdjust=\"spacingAndGlyphs\" textLength=\"41\" x=\"91.5\" y=\"96.6479\">actions</text><line style=\"stroke: #383838; stroke-width: 1.0;\" x1=\"132.5\" x2=\"191\" y1=\"93.3398\" y2=\"93.3398\"/></a><!--MD5=[331821a1bd99dadeb07e741201bf3a2f]\n",
       "@startuml\r\n",
       "left to right direction\r\n",
       "skinparam monochrome true\r\n",
       "skinparam classbackgroundcolor white\r\n",
       "skinparam shadowing false\r\n",
       "skinparam wrapWidth 300\r\n",
       "hide circle\r\n",
       "\r\n",
       "package \"ActionTest\" as E1  [[psysml:7d27680f-a8ad-4796-902f-be0a7d0ccba0 ]]  {\r\n",
       "comp usage \"a\" as E2  <<(T,blue)action>> [[psysml:1bfaea47-077a-4258-abab-849ce06009df ]] {\r\n",
       "- - actions - -\r\n",
       "start: Action\\n//:>>Occurrence::startShot// \r\n",
       "}\r\n",
       "}\r\n",
       "@enduml\r\n",
       "\n",
       "PlantUML version 1.2020.13(Sat Jun 13 12:26:38 UTC 2020)\n",
       "(EPL source distribution)\n",
       "Java Runtime: OpenJDK Runtime Environment\n",
       "JVM: OpenJDK 64-Bit Server VM\n",
       "Default Encoding: UTF-8\n",
       "Language: en\n",
       "Country: null\n",
       "--></g></svg>"
      ]
     },
     "execution_count": 21,
     "metadata": {},
     "output_type": "execute_result"
    }
   ],
   "source": [
    "%viz --style=\"LR\" --view=\"Sequence\" \"ActionTest\""
   ]
  },
  {
   "cell_type": "code",
   "execution_count": 22,
   "id": "solid-wrist",
   "metadata": {
    "execution": {
     "iopub.execute_input": "2021-03-25T13:17:12.585648Z",
     "iopub.status.busy": "2021-03-25T13:17:12.584178Z",
     "iopub.status.idle": "2021-03-25T13:17:12.645441Z",
     "shell.execute_reply": "2021-03-25T13:17:12.645076Z"
    }
   },
   "outputs": [
    {
     "data": {
      "image/svg+xml": [
       "<?xml version=\"1.0\" encoding=\"UTF-8\" standalone=\"no\"?><svg xmlns=\"http://www.w3.org/2000/svg\" xmlns:xlink=\"http://www.w3.org/1999/xlink\" contentScriptType=\"application/ecmascript\" contentStyleType=\"text/css\" height=\"196px\" preserveAspectRatio=\"none\" style=\"width:178px;height:196px;\" version=\"1.1\" viewBox=\"0 0 178 196\" width=\"178px\" zoomAndPan=\"magnify\"><defs/><g><!--MD5=[fbc87193dbaf4d95561dea2c320d4a47]\n",
       "cluster E1--><a href=\"psysml:7d27680f-a8ad-4796-902f-be0a7d0ccba0\" target=\"_top\" title=\"psysml:7d27680f-a8ad-4796-902f-be0a7d0ccba0\" xlink:actuate=\"onRequest\" xlink:href=\"psysml:7d27680f-a8ad-4796-902f-be0a7d0ccba0\" xlink:show=\"new\" xlink:title=\"psysml:7d27680f-a8ad-4796-902f-be0a7d0ccba0\" xlink:type=\"simple\"><polygon fill=\"#FFFFFF\" points=\"16,6,107,6,114,28.2969,156,28.2969,156,184,16,184,16,6\" style=\"stroke: #000000; stroke-width: 1.5;\"/><line style=\"stroke: #000000; stroke-width: 1.5;\" x1=\"16\" x2=\"114\" y1=\"28.2969\" y2=\"28.2969\"/><text fill=\"#000000\" font-family=\"sans-serif\" font-size=\"14\" font-weight=\"bold\" lengthAdjust=\"spacingAndGlyphs\" textLength=\"85\" x=\"20\" y=\"20.9951\">ActionTest</text></a><!--MD5=[e4f7fae6ed58524ba242bb0b0d3be6b7]\n",
       "cluster E2--><a href=\"psysml:1bfaea47-077a-4258-abab-849ce06009df\" target=\"_top\" title=\"psysml:1bfaea47-077a-4258-abab-849ce06009df\" xlink:actuate=\"onRequest\" xlink:href=\"psysml:1bfaea47-077a-4258-abab-849ce06009df\" xlink:show=\"new\" xlink:title=\"psysml:1bfaea47-077a-4258-abab-849ce06009df\" xlink:type=\"simple\"><rect fill=\"#FFFFFF\" height=\"111\" id=\"E2\" rx=\"10\" ry=\"10\" style=\"stroke: #383838; stroke-width: 1.5;\" width=\"92\" x=\"40\" y=\"49\"/><rect fill=\"#F8F8F8\" height=\"37.9375\" rx=\"10\" ry=\"10\" style=\"stroke: #F8F8F8; stroke-width: 1.5;\" width=\"92\" x=\"40\" y=\"49\"/><rect fill=\"#F8F8F8\" height=\"10\" style=\"stroke: #F8F8F8; stroke-width: 1.5;\" width=\"92\" x=\"40\" y=\"76.9375\"/><rect fill=\"none\" height=\"111\" id=\"E2\" rx=\"10\" ry=\"10\" style=\"stroke: #383838; stroke-width: 1.5;\" width=\"92\" x=\"40\" y=\"49\"/><text fill=\"#000000\" font-family=\"sans-serif\" font-size=\"12\" font-style=\"italic\" lengthAdjust=\"spacingAndGlyphs\" textLength=\"53\" x=\"59.5\" y=\"65.1387\">«action»</text><text fill=\"#000000\" font-family=\"sans-serif\" font-size=\"12\" lengthAdjust=\"spacingAndGlyphs\" textLength=\"8\" x=\"82\" y=\"79.1074\">a</text><line style=\"stroke: #383838; stroke-width: 1.0;\" x1=\"40\" x2=\"132\" y1=\"86.9375\" y2=\"86.9375\"/></a><g id=\"E1.E2.E3\"><a href=\"psysml:a720e092-6bcd-479c-a1ff-52104ff4d712\" target=\"_top\" title=\"psysml:a720e092-6bcd-479c-a1ff-52104ff4d712\" xlink:actuate=\"onRequest\" xlink:href=\"psysml:a720e092-6bcd-479c-a1ff-52104ff4d712\" xlink:show=\"new\" xlink:title=\"psysml:a720e092-6bcd-479c-a1ff-52104ff4d712\" xlink:type=\"simple\"><rect fill=\"#FFFFFF\" height=\"42.9375\" id=\"E3\" rx=\"10\" ry=\"10\" style=\"stroke: #383838; stroke-width: 1.5;\" width=\"60\" x=\"56\" y=\"100.5\"/><rect fill=\"#F8F8F8\" height=\"37.9375\" rx=\"10\" ry=\"10\" style=\"stroke: #F8F8F8; stroke-width: 1.5;\" width=\"60\" x=\"56\" y=\"100.5\"/><rect fill=\"#F8F8F8\" height=\"10\" style=\"stroke: #F8F8F8; stroke-width: 1.5;\" width=\"60\" x=\"56\" y=\"128.4375\"/><rect fill=\"none\" height=\"42.9375\" id=\"E3\" rx=\"10\" ry=\"10\" style=\"stroke: #383838; stroke-width: 1.5;\" width=\"60\" x=\"56\" y=\"100.5\"/><text fill=\"#000000\" font-family=\"sans-serif\" font-size=\"12\" font-style=\"italic\" lengthAdjust=\"spacingAndGlyphs\" textLength=\"53\" x=\"59.5\" y=\"116.6387\">«action»</text><text fill=\"#000000\" font-family=\"sans-serif\" font-size=\"12\" lengthAdjust=\"spacingAndGlyphs\" textLength=\"30\" x=\"71\" y=\"130.6074\">start</text></a></g><!--MD5=[33e7f7da8d0cc722efb6fe645d7c780b]\n",
       "@startuml\r\n",
       "left to right direction\r\n",
       "skinparam monochrome true\r\n",
       "skinparam classbackgroundcolor white\r\n",
       "skinparam shadowing false\r\n",
       "skinparam wrapWidth 300\r\n",
       "hide circle\r\n",
       "\r\n",
       "package \"ActionTest\" as E1  [[psysml:7d27680f-a8ad-4796-902f-be0a7d0ccba0 ]]  {\r\n",
       "rec usage \"a\" as E2  <<(T,blue)action>> [[psysml:1bfaea47-077a-4258-abab-849ce06009df ]] {\r\n",
       "rec usage \"start\" as E3  <<(T,blue)action>> [[psysml:a720e092-6bcd-479c-a1ff-52104ff4d712 ]] {\r\n",
       "}\r\n",
       "\r\n",
       "}\r\n",
       "\r\n",
       "}\r\n",
       "@enduml\r\n",
       "\n",
       "PlantUML version 1.2020.13(Sat Jun 13 12:26:38 UTC 2020)\n",
       "(EPL source distribution)\n",
       "Java Runtime: OpenJDK Runtime Environment\n",
       "JVM: OpenJDK 64-Bit Server VM\n",
       "Default Encoding: UTF-8\n",
       "Language: en\n",
       "Country: null\n",
       "--></g></svg>"
      ]
     },
     "execution_count": 22,
     "metadata": {},
     "output_type": "execute_result"
    }
   ],
   "source": [
    "%viz --style=\"LR\" --view=\"MIXED\" \"ActionTest\""
   ]
  },
  {
   "cell_type": "code",
   "execution_count": 23,
   "id": "mexican-craps",
   "metadata": {
    "execution": {
     "iopub.execute_input": "2021-03-25T13:17:12.701153Z",
     "iopub.status.busy": "2021-03-25T13:17:12.700623Z",
     "iopub.status.idle": "2021-03-25T13:17:12.778089Z",
     "shell.execute_reply": "2021-03-25T13:17:12.778564Z"
    }
   },
   "outputs": [
    {
     "data": {
      "image/svg+xml": [
       "<?xml version=\"1.0\" encoding=\"UTF-8\" standalone=\"no\"?><svg xmlns=\"http://www.w3.org/2000/svg\" xmlns:xlink=\"http://www.w3.org/1999/xlink\" contentScriptType=\"application/ecmascript\" contentStyleType=\"text/css\" height=\"195px\" preserveAspectRatio=\"none\" style=\"width:178px;height:195px;\" version=\"1.1\" viewBox=\"0 0 178 195\" width=\"178px\" zoomAndPan=\"magnify\"><defs><filter height=\"300%\" id=\"f3abp66t2te0s\" width=\"300%\" x=\"-1\" y=\"-1\"><feGaussianBlur result=\"blurOut\" stdDeviation=\"2.0\"/><feColorMatrix in=\"blurOut\" result=\"blurOut2\" type=\"matrix\" values=\"0 0 0 0 0 0 0 0 0 0 0 0 0 0 0 0 0 0 .4 0\"/><feOffset dx=\"4.0\" dy=\"4.0\" in=\"blurOut2\" result=\"blurOut3\"/><feBlend in=\"SourceGraphic\" in2=\"blurOut3\" mode=\"normal\"/></filter></defs><g><!--MD5=[fbc87193dbaf4d95561dea2c320d4a47]\n",
       "cluster E1--><a href=\"psysml:7d27680f-a8ad-4796-902f-be0a7d0ccba0\" target=\"_top\" title=\"psysml:7d27680f-a8ad-4796-902f-be0a7d0ccba0\" xlink:actuate=\"onRequest\" xlink:href=\"psysml:7d27680f-a8ad-4796-902f-be0a7d0ccba0\" xlink:show=\"new\" xlink:title=\"psysml:7d27680f-a8ad-4796-902f-be0a7d0ccba0\" xlink:type=\"simple\"><polygon fill=\"#FFFFFF\" filter=\"url(#f3abp66t2te0s)\" points=\"16,6,107,6,114,28.2969,156,28.2969,156,183,16,183,16,6\" style=\"stroke: #000000; stroke-width: 1.5;\"/><line style=\"stroke: #000000; stroke-width: 1.5;\" x1=\"16\" x2=\"114\" y1=\"28.2969\" y2=\"28.2969\"/><text fill=\"#000000\" font-family=\"sans-serif\" font-size=\"14\" font-weight=\"bold\" lengthAdjust=\"spacingAndGlyphs\" textLength=\"85\" x=\"20\" y=\"20.9951\">ActionTest</text></a><!--MD5=[e4f7fae6ed58524ba242bb0b0d3be6b7]\n",
       "cluster E2--><a href=\"psysml:1bfaea47-077a-4258-abab-849ce06009df\" target=\"_top\" title=\"psysml:1bfaea47-077a-4258-abab-849ce06009df\" xlink:actuate=\"onRequest\" xlink:href=\"psysml:1bfaea47-077a-4258-abab-849ce06009df\" xlink:show=\"new\" xlink:title=\"psysml:1bfaea47-077a-4258-abab-849ce06009df\" xlink:type=\"simple\"><rect fill=\"#FFFFFF\" filter=\"url(#f3abp66t2te0s)\" height=\"110\" id=\"E2\" rx=\"10\" ry=\"10\" style=\"stroke: #A80036; stroke-width: 1.5;\" width=\"92\" x=\"40\" y=\"49\"/><rect fill=\"#FEFECE\" height=\"37.9375\" rx=\"10\" ry=\"10\" style=\"stroke: #FEFECE; stroke-width: 1.5;\" width=\"92\" x=\"40\" y=\"49\"/><rect fill=\"#FEFECE\" height=\"10\" style=\"stroke: #FEFECE; stroke-width: 1.5;\" width=\"92\" x=\"40\" y=\"76.9375\"/><rect fill=\"none\" height=\"110\" id=\"E2\" rx=\"10\" ry=\"10\" style=\"stroke: #A80036; stroke-width: 1.5;\" width=\"92\" x=\"40\" y=\"49\"/><text fill=\"#000000\" font-family=\"sans-serif\" font-size=\"12\" font-style=\"italic\" lengthAdjust=\"spacingAndGlyphs\" textLength=\"53\" x=\"59.5\" y=\"65.1387\">«action»</text><text fill=\"#000000\" font-family=\"sans-serif\" font-size=\"12\" lengthAdjust=\"spacingAndGlyphs\" textLength=\"8\" x=\"82\" y=\"79.1074\">a</text><line style=\"stroke: #A80036; stroke-width: 1.0;\" x1=\"40\" x2=\"132\" y1=\"86.9375\" y2=\"86.9375\"/></a><g id=\"E1.E2.E3\"><a href=\"psysml:a720e092-6bcd-479c-a1ff-52104ff4d712\" target=\"_top\" title=\"psysml:a720e092-6bcd-479c-a1ff-52104ff4d712\" xlink:actuate=\"onRequest\" xlink:href=\"psysml:a720e092-6bcd-479c-a1ff-52104ff4d712\" xlink:show=\"new\" xlink:title=\"psysml:a720e092-6bcd-479c-a1ff-52104ff4d712\" xlink:type=\"simple\"><rect fill=\"#FEFECE\" filter=\"url(#f3abp66t2te0s)\" height=\"42.9375\" id=\"E3\" rx=\"10\" ry=\"10\" style=\"stroke: #A80036; stroke-width: 1.5;\" width=\"60\" x=\"56\" y=\"100\"/><text fill=\"#000000\" font-family=\"sans-serif\" font-size=\"12\" font-style=\"italic\" lengthAdjust=\"spacingAndGlyphs\" textLength=\"53\" x=\"59.5\" y=\"116.1387\">«action»</text><text fill=\"#000000\" font-family=\"sans-serif\" font-size=\"12\" lengthAdjust=\"spacingAndGlyphs\" textLength=\"30\" x=\"71\" y=\"130.1074\">start</text></a></g><!--MD5=[a7eef239b7d3facbbb3e2d31dfffe3e2]\n",
       "@startuml\r\n",
       "skinparam wrapWidth 300\r\n",
       "hide circle\r\n",
       "\r\n",
       "package \"ActionTest\" as E1  [[psysml:7d27680f-a8ad-4796-902f-be0a7d0ccba0 ]]  {\r\n",
       "rec usage \"a\" as E2  <<(T,blue)action>> [[psysml:1bfaea47-077a-4258-abab-849ce06009df ]] {\r\n",
       "rec usage \"start\" as E3  <<(T,blue)action>> [[psysml:a720e092-6bcd-479c-a1ff-52104ff4d712 ]] {\r\n",
       "}\r\n",
       "\r\n",
       "}\r\n",
       "\r\n",
       "}\r\n",
       "@enduml\r\n",
       "\n",
       "PlantUML version 1.2020.13(Sat Jun 13 12:26:38 UTC 2020)\n",
       "(EPL source distribution)\n",
       "Java Runtime: OpenJDK Runtime Environment\n",
       "JVM: OpenJDK 64-Bit Server VM\n",
       "Default Encoding: UTF-8\n",
       "Language: en\n",
       "Country: null\n",
       "--></g></svg>"
      ]
     },
     "execution_count": 23,
     "metadata": {},
     "output_type": "execute_result"
    }
   ],
   "source": [
    "%viz --style=\"STDCOLOR\" --view=\"Default\" \"ActionTest\""
   ]
  },
  {
   "cell_type": "code",
   "execution_count": 24,
   "id": "stupid-prime",
   "metadata": {
    "execution": {
     "iopub.execute_input": "2021-03-25T13:17:12.833187Z",
     "iopub.status.busy": "2021-03-25T13:17:12.832651Z",
     "iopub.status.idle": "2021-03-25T13:17:13.319701Z",
     "shell.execute_reply": "2021-03-25T13:17:13.320125Z"
    }
   },
   "outputs": [
    {
     "data": {
      "image/svg+xml": [
       "<?xml version=\"1.0\" encoding=\"UTF-8\" standalone=\"no\"?><svg xmlns=\"http://www.w3.org/2000/svg\" xmlns:xlink=\"http://www.w3.org/1999/xlink\" contentScriptType=\"application/ecmascript\" contentStyleType=\"text/css\" height=\"145px\" preserveAspectRatio=\"none\" style=\"width:298px;height:145px;\" version=\"1.1\" viewBox=\"0 0 298 145\" width=\"298px\" zoomAndPan=\"magnify\"><defs><filter height=\"300%\" id=\"f148rhuohfm3rk\" width=\"300%\" x=\"-1\" y=\"-1\"><feGaussianBlur result=\"blurOut\" stdDeviation=\"2.0\"/><feColorMatrix in=\"blurOut\" result=\"blurOut2\" type=\"matrix\" values=\"0 0 0 0 0 0 0 0 0 0 0 0 0 0 0 0 0 0 .4 0\"/><feOffset dx=\"4.0\" dy=\"4.0\" in=\"blurOut2\" result=\"blurOut3\"/><feBlend in=\"SourceGraphic\" in2=\"blurOut3\" mode=\"normal\"/></filter></defs><g><!--MD5=[fbc87193dbaf4d95561dea2c320d4a47]\n",
       "cluster E1--><a href=\"psysml:7d27680f-a8ad-4796-902f-be0a7d0ccba0\" target=\"_top\" title=\"psysml:7d27680f-a8ad-4796-902f-be0a7d0ccba0\" xlink:actuate=\"onRequest\" xlink:href=\"psysml:7d27680f-a8ad-4796-902f-be0a7d0ccba0\" xlink:show=\"new\" xlink:title=\"psysml:7d27680f-a8ad-4796-902f-be0a7d0ccba0\" xlink:type=\"simple\"><polygon fill=\"#FFFFFF\" filter=\"url(#f148rhuohfm3rk)\" points=\"16,6,107,6,114,28.2969,276,28.2969,276,133,16,133,16,6\" style=\"stroke: #000000; stroke-width: 1.5;\"/><line style=\"stroke: #000000; stroke-width: 1.5;\" x1=\"16\" x2=\"114\" y1=\"28.2969\" y2=\"28.2969\"/><text fill=\"#000000\" font-family=\"sans-serif\" font-size=\"14\" font-weight=\"bold\" lengthAdjust=\"spacingAndGlyphs\" textLength=\"85\" x=\"20\" y=\"20.9951\">ActionTest</text></a><!--MD5=[b4997ac47864f28c2f74865a473b2911]\n",
       "class E2--><a href=\"psysml:1bfaea47-077a-4258-abab-849ce06009df\" target=\"_top\" title=\"psysml:1bfaea47-077a-4258-abab-849ce06009df\" xlink:actuate=\"onRequest\" xlink:href=\"psysml:1bfaea47-077a-4258-abab-849ce06009df\" xlink:show=\"new\" xlink:title=\"psysml:1bfaea47-077a-4258-abab-849ce06009df\" xlink:type=\"simple\"><rect fill=\"#FEFECE\" filter=\"url(#f148rhuohfm3rk)\" height=\"76.4922\" id=\"E2\" rx=\"10\" ry=\"10\" style=\"stroke: #A80036; stroke-width: 1.5;\" width=\"228\" x=\"32\" y=\"41\"/><text fill=\"#000000\" font-family=\"sans-serif\" font-size=\"12\" font-style=\"italic\" lengthAdjust=\"spacingAndGlyphs\" textLength=\"53\" x=\"119.5\" y=\"57.1387\">«action»</text><text fill=\"#000000\" font-family=\"sans-serif\" font-size=\"12\" lengthAdjust=\"spacingAndGlyphs\" textLength=\"8\" x=\"142\" y=\"71.1074\">a</text><line style=\"stroke: #A80036; stroke-width: 1.5;\" x1=\"33\" x2=\"259\" y1=\"78.9375\" y2=\"78.9375\"/><path d=\"M39.9167,100.6589 L39.9167,109.8255 L40.8333,109.8255 L40.8333,100.6589 M43.5833,100.6589 L43.5833,109.8255 L50.9167,105.2422 L43.5833,100.6589 L44.5,102.0339 L49.5417,105.2422 L44.5,108.4505 L44.5,102.0339 \" fill=\"#000000\" style=\"stroke: ; stroke-width: 0.0; stroke-dasharray: ;\"/><text fill=\"#000000\" font-family=\"sans-serif\" font-size=\"11\" lengthAdjust=\"spacingAndGlyphs\" textLength=\"69\" x=\"55\" y=\"110.8979\">start: Action</text><text fill=\"#000000\" font-family=\"sans-serif\" font-size=\"11\" lengthAdjust=\"spacingAndGlyphs\" text-decoration=\"line-through\" textLength=\"126\" x=\"128\" y=\"110.8979\">Occurrence::startShot</text><line style=\"stroke: #A80036; stroke-width: 1.0;\" x1=\"33\" x2=\"125.5\" y1=\"93.3398\" y2=\"93.3398\"/><text fill=\"#000000\" font-family=\"sans-serif\" font-size=\"11\" lengthAdjust=\"spacingAndGlyphs\" textLength=\"41\" x=\"125.5\" y=\"96.6479\">actions</text><line style=\"stroke: #A80036; stroke-width: 1.0;\" x1=\"166.5\" x2=\"259\" y1=\"93.3398\" y2=\"93.3398\"/></a><!--MD5=[6edaeca7d507bcd19c0c28b0eaa5007b]\n",
       "@startuml\r\n",
       "skinparam wrapWidth 300\r\n",
       "hide circle\r\n",
       "\r\n",
       "package \"ActionTest\" as E1  [[psysml:7d27680f-a8ad-4796-902f-be0a7d0ccba0 ]]  {\r\n",
       "comp usage \"a\" as E2  <<(T,blue)action>> [[psysml:1bfaea47-077a-4258-abab-849ce06009df ]] {\r\n",
       "- - actions - -\r\n",
       "<&bar-trig> start: Action <s>Occurrence::startShot</s>\r\n",
       "}\r\n",
       "}\r\n",
       "@enduml\r\n",
       "\n",
       "PlantUML version 1.2020.13(Sat Jun 13 12:26:38 UTC 2020)\n",
       "(EPL source distribution)\n",
       "Java Runtime: OpenJDK Runtime Environment\n",
       "JVM: OpenJDK 64-Bit Server VM\n",
       "Default Encoding: UTF-8\n",
       "Language: en\n",
       "Country: null\n",
       "--></g></svg>"
      ]
     },
     "execution_count": 24,
     "metadata": {},
     "output_type": "execute_result"
    }
   ],
   "source": [
    "%viz --style=\"STDCOLOR\" --view=\"Tree\" \"ActionTest\""
   ]
  },
  {
   "cell_type": "code",
   "execution_count": 25,
   "id": "female-dragon",
   "metadata": {
    "execution": {
     "iopub.execute_input": "2021-03-25T13:17:13.371785Z",
     "iopub.status.busy": "2021-03-25T13:17:13.371125Z",
     "iopub.status.idle": "2021-03-25T13:17:13.378038Z",
     "shell.execute_reply": "2021-03-25T13:17:13.378550Z"
    }
   },
   "outputs": [
    {
     "data": {
      "image/svg+xml": [
       "<?xml version=\"1.0\" encoding=\"UTF-8\" standalone=\"no\"?><svg xmlns=\"http://www.w3.org/2000/svg\" xmlns:xlink=\"http://www.w3.org/1999/xlink\" contentScriptType=\"application/ecmascript\" contentStyleType=\"text/css\" height=\"12px\" preserveAspectRatio=\"none\" style=\"width:12px;height:12px;\" version=\"1.1\" viewBox=\"0 0 12 12\" width=\"12px\" zoomAndPan=\"magnify\"><defs/><g><!--MD5=[aeeef50f102b80d730deb6443d14f702]\n",
       "@startuml\r\n",
       "skinparam wrapWidth 300\r\n",
       "hide circle\r\n",
       "\r\n",
       "@enduml\r\n",
       "\n",
       "PlantUML version 1.2020.13(Sat Jun 13 12:26:38 UTC 2020)\n",
       "(EPL source distribution)\n",
       "Java Runtime: OpenJDK Runtime Environment\n",
       "JVM: OpenJDK 64-Bit Server VM\n",
       "Default Encoding: UTF-8\n",
       "Language: en\n",
       "Country: null\n",
       "--></g></svg>"
      ]
     },
     "execution_count": 25,
     "metadata": {},
     "output_type": "execute_result"
    }
   ],
   "source": [
    "%viz --style=\"STDCOLOR\" --view=\"State\" \"ActionTest\""
   ]
  },
  {
   "cell_type": "code",
   "execution_count": 26,
   "id": "knowing-costume",
   "metadata": {
    "execution": {
     "iopub.execute_input": "2021-03-25T13:17:13.430408Z",
     "iopub.status.busy": "2021-03-25T13:17:13.429710Z",
     "iopub.status.idle": "2021-03-25T13:17:13.502939Z",
     "shell.execute_reply": "2021-03-25T13:17:13.503324Z"
    }
   },
   "outputs": [
    {
     "data": {
      "image/svg+xml": [
       "<?xml version=\"1.0\" encoding=\"UTF-8\" standalone=\"no\"?><svg xmlns=\"http://www.w3.org/2000/svg\" xmlns:xlink=\"http://www.w3.org/1999/xlink\" contentScriptType=\"application/ecmascript\" contentStyleType=\"text/css\" height=\"196px\" preserveAspectRatio=\"none\" style=\"width:368px;height:196px;\" version=\"1.1\" viewBox=\"0 0 368 196\" width=\"368px\" zoomAndPan=\"magnify\"><defs><filter height=\"300%\" id=\"f1peviv442zave\" width=\"300%\" x=\"-1\" y=\"-1\"><feGaussianBlur result=\"blurOut\" stdDeviation=\"2.0\"/><feColorMatrix in=\"blurOut\" result=\"blurOut2\" type=\"matrix\" values=\"0 0 0 0 0 0 0 0 0 0 0 0 0 0 0 0 0 0 .4 0\"/><feOffset dx=\"4.0\" dy=\"4.0\" in=\"blurOut2\" result=\"blurOut3\"/><feBlend in=\"SourceGraphic\" in2=\"blurOut3\" mode=\"normal\"/></filter></defs><g><!--MD5=[fbc87193dbaf4d95561dea2c320d4a47]\n",
       "cluster E1--><a href=\"psysml:7d27680f-a8ad-4796-902f-be0a7d0ccba0\" target=\"_top\" title=\"psysml:7d27680f-a8ad-4796-902f-be0a7d0ccba0\" xlink:actuate=\"onRequest\" xlink:href=\"psysml:7d27680f-a8ad-4796-902f-be0a7d0ccba0\" xlink:show=\"new\" xlink:title=\"psysml:7d27680f-a8ad-4796-902f-be0a7d0ccba0\" xlink:type=\"simple\"><polygon fill=\"#FFFFFF\" filter=\"url(#f1peviv442zave)\" points=\"16,6,107,6,114,28.2969,346,28.2969,346,184,16,184,16,6\" style=\"stroke: #000000; stroke-width: 1.5;\"/><line style=\"stroke: #000000; stroke-width: 1.5;\" x1=\"16\" x2=\"114\" y1=\"28.2969\" y2=\"28.2969\"/><text fill=\"#000000\" font-family=\"sans-serif\" font-size=\"14\" font-weight=\"bold\" lengthAdjust=\"spacingAndGlyphs\" textLength=\"85\" x=\"20\" y=\"20.9951\">ActionTest</text></a><!--MD5=[e4f7fae6ed58524ba242bb0b0d3be6b7]\n",
       "cluster E2--><a href=\"psysml:1bfaea47-077a-4258-abab-849ce06009df\" target=\"_top\" title=\"psysml:1bfaea47-077a-4258-abab-849ce06009df\" xlink:actuate=\"onRequest\" xlink:href=\"psysml:1bfaea47-077a-4258-abab-849ce06009df\" xlink:show=\"new\" xlink:title=\"psysml:1bfaea47-077a-4258-abab-849ce06009df\" xlink:type=\"simple\"><rect fill=\"#FFFFFF\" filter=\"url(#f1peviv442zave)\" height=\"111\" id=\"E2\" rx=\"10\" ry=\"10\" style=\"stroke: #A80036; stroke-width: 1.5;\" width=\"282\" x=\"40\" y=\"49\"/><rect fill=\"#FEFECE\" height=\"37.9375\" rx=\"10\" ry=\"10\" style=\"stroke: #FEFECE; stroke-width: 1.5;\" width=\"282\" x=\"40\" y=\"49\"/><rect fill=\"#FEFECE\" height=\"10\" style=\"stroke: #FEFECE; stroke-width: 1.5;\" width=\"282\" x=\"40\" y=\"76.9375\"/><rect fill=\"none\" height=\"111\" id=\"E2\" rx=\"10\" ry=\"10\" style=\"stroke: #A80036; stroke-width: 1.5;\" width=\"282\" x=\"40\" y=\"49\"/><text fill=\"#000000\" font-family=\"sans-serif\" font-size=\"12\" font-style=\"italic\" lengthAdjust=\"spacingAndGlyphs\" textLength=\"53\" x=\"154.5\" y=\"65.1387\">«action»</text><text fill=\"#000000\" font-family=\"sans-serif\" font-size=\"12\" lengthAdjust=\"spacingAndGlyphs\" textLength=\"8\" x=\"177\" y=\"79.1074\">a</text><line style=\"stroke: #A80036; stroke-width: 1.0;\" x1=\"40\" x2=\"322\" y1=\"86.9375\" y2=\"86.9375\"/></a><g id=\"E1.E2.E3\"><a href=\"psysml:a720e092-6bcd-479c-a1ff-52104ff4d712\" target=\"_top\" title=\"psysml:a720e092-6bcd-479c-a1ff-52104ff4d712\" xlink:actuate=\"onRequest\" xlink:href=\"psysml:a720e092-6bcd-479c-a1ff-52104ff4d712\" xlink:show=\"new\" xlink:title=\"psysml:a720e092-6bcd-479c-a1ff-52104ff4d712\" xlink:type=\"simple\"><rect fill=\"#FEFECE\" filter=\"url(#f1peviv442zave)\" height=\"43.9688\" id=\"E3\" rx=\"10\" ry=\"10\" style=\"stroke: #A80036; stroke-width: 1.5;\" width=\"249\" x=\"56.5\" y=\"100\"/><text fill=\"#000000\" font-family=\"sans-serif\" font-size=\"12\" font-style=\"italic\" lengthAdjust=\"spacingAndGlyphs\" textLength=\"53\" x=\"154.5\" y=\"116.1387\">«action»</text><path d=\"M64,119.9688 L64,129.9688 L65,129.9688 L65,119.9688 M68,119.9688 L68,129.9688 L76,124.9688 L68,119.9688 L69,121.4688 L74.5,124.9688 L69,128.4688 L69,121.4688 \" fill=\"#000000\" style=\"stroke: ; stroke-width: 0.0; stroke-dasharray: ;\"/><text fill=\"#000000\" font-family=\"sans-serif\" font-size=\"12\" lengthAdjust=\"spacingAndGlyphs\" textLength=\"77\" x=\"80\" y=\"131.1387\">start: Action</text><text fill=\"#000000\" font-family=\"sans-serif\" font-size=\"12\" lengthAdjust=\"spacingAndGlyphs\" text-decoration=\"line-through\" textLength=\"139\" x=\"161\" y=\"131.1387\">Occurrence::startShot</text></a></g><!--MD5=[9211668093f0af93dbdc878f47ae4eb8]\n",
       "@startuml\r\n",
       "skinparam ranksep 8\r\n",
       "skinparam rectangle {\r\n",
       " backgroundColor<<block>> LightGreen\r\n",
       "}\r\n",
       "skinparam wrapWidth 300\r\n",
       "hide circle\r\n",
       "\r\n",
       "package \"ActionTest\" as E1  [[psysml:7d27680f-a8ad-4796-902f-be0a7d0ccba0 ]]  {\r\n",
       "rec usage \"a\" as E2  <<(T,blue)action>> [[psysml:1bfaea47-077a-4258-abab-849ce06009df ]] {\r\n",
       "rec usage \"<&bar-trig> start: Action <s>Occurrence::startShot</s>\" as E3  <<(T,blue)action>> [[psysml:a720e092-6bcd-479c-a1ff-52104ff4d712 ]] {\r\n",
       "}\r\n",
       "}\r\n",
       "}\r\n",
       "@enduml\r\n",
       "\n",
       "PlantUML version 1.2020.13(Sat Jun 13 12:26:38 UTC 2020)\n",
       "(EPL source distribution)\n",
       "Java Runtime: OpenJDK Runtime Environment\n",
       "JVM: OpenJDK 64-Bit Server VM\n",
       "Default Encoding: UTF-8\n",
       "Language: en\n",
       "Country: null\n",
       "--></g></svg>"
      ]
     },
     "execution_count": 26,
     "metadata": {},
     "output_type": "execute_result"
    }
   ],
   "source": [
    "%viz --style=\"STDCOLOR\" --view=\"Interconnection\" \"ActionTest\""
   ]
  },
  {
   "cell_type": "code",
   "execution_count": 27,
   "id": "following-battery",
   "metadata": {
    "execution": {
     "iopub.execute_input": "2021-03-25T13:17:13.554214Z",
     "iopub.status.busy": "2021-03-25T13:17:13.553820Z",
     "iopub.status.idle": "2021-03-25T13:17:13.603664Z",
     "shell.execute_reply": "2021-03-25T13:17:13.604039Z"
    }
   },
   "outputs": [
    {
     "data": {
      "image/svg+xml": [
       "<?xml version=\"1.0\" encoding=\"UTF-8\" standalone=\"no\"?><svg xmlns=\"http://www.w3.org/2000/svg\" xmlns:xlink=\"http://www.w3.org/1999/xlink\" contentScriptType=\"application/ecmascript\" contentStyleType=\"text/css\" height=\"136px\" preserveAspectRatio=\"none\" style=\"width:118px;height:136px;\" version=\"1.1\" viewBox=\"0 0 118 136\" width=\"118px\" zoomAndPan=\"magnify\"><defs><filter height=\"300%\" id=\"f85624qae74lm\" width=\"300%\" x=\"-1\" y=\"-1\"><feGaussianBlur result=\"blurOut\" stdDeviation=\"2.0\"/><feColorMatrix in=\"blurOut\" result=\"blurOut2\" type=\"matrix\" values=\"0 0 0 0 0 0 0 0 0 0 0 0 0 0 0 0 0 0 .4 0\"/><feOffset dx=\"4.0\" dy=\"4.0\" in=\"blurOut2\" result=\"blurOut3\"/><feBlend in=\"SourceGraphic\" in2=\"blurOut3\" mode=\"normal\"/></filter></defs><g><!--MD5=[fbc87193dbaf4d95561dea2c320d4a47]\n",
       "cluster E1--><a href=\"psysml:1bfaea47-077a-4258-abab-849ce06009df\" target=\"_top\" title=\"psysml:1bfaea47-077a-4258-abab-849ce06009df\" xlink:actuate=\"onRequest\" xlink:href=\"psysml:1bfaea47-077a-4258-abab-849ce06009df\" xlink:show=\"new\" xlink:title=\"psysml:1bfaea47-077a-4258-abab-849ce06009df\" xlink:type=\"simple\"><rect fill=\"#FFFFFF\" filter=\"url(#f85624qae74lm)\" height=\"110\" id=\"E1\" rx=\"10\" ry=\"10\" style=\"stroke: #A80036; stroke-width: 1.5;\" width=\"92\" x=\"7\" y=\"7\"/><rect fill=\"#FEFECE\" height=\"37.9375\" rx=\"10\" ry=\"10\" style=\"stroke: #FEFECE; stroke-width: 1.5;\" width=\"92\" x=\"7\" y=\"7\"/><rect fill=\"#FEFECE\" height=\"10\" style=\"stroke: #FEFECE; stroke-width: 1.5;\" width=\"92\" x=\"7\" y=\"34.9375\"/><rect fill=\"none\" height=\"110\" id=\"E1\" rx=\"10\" ry=\"10\" style=\"stroke: #A80036; stroke-width: 1.5;\" width=\"92\" x=\"7\" y=\"7\"/><text fill=\"#000000\" font-family=\"sans-serif\" font-size=\"12\" font-style=\"italic\" lengthAdjust=\"spacingAndGlyphs\" textLength=\"53\" x=\"26.5\" y=\"23.1387\">«action»</text><text fill=\"#000000\" font-family=\"sans-serif\" font-size=\"12\" lengthAdjust=\"spacingAndGlyphs\" textLength=\"8\" x=\"49\" y=\"37.1074\">a</text><line style=\"stroke: #A80036; stroke-width: 1.0;\" x1=\"7\" x2=\"99\" y1=\"44.9375\" y2=\"44.9375\"/></a><g id=\"E1.E2\"><a href=\"psysml:a720e092-6bcd-479c-a1ff-52104ff4d712\" target=\"_top\" title=\"psysml:a720e092-6bcd-479c-a1ff-52104ff4d712\" xlink:actuate=\"onRequest\" xlink:href=\"psysml:a720e092-6bcd-479c-a1ff-52104ff4d712\" xlink:show=\"new\" xlink:title=\"psysml:a720e092-6bcd-479c-a1ff-52104ff4d712\" xlink:type=\"simple\"><rect fill=\"#FEFECE\" filter=\"url(#f85624qae74lm)\" height=\"42.9375\" id=\"E2\" rx=\"10\" ry=\"10\" style=\"stroke: #A80036; stroke-width: 1.5;\" width=\"60\" x=\"23\" y=\"58\"/><text fill=\"#000000\" font-family=\"sans-serif\" font-size=\"12\" font-style=\"italic\" lengthAdjust=\"spacingAndGlyphs\" textLength=\"53\" x=\"26.5\" y=\"74.1387\">«action»</text><text fill=\"#000000\" font-family=\"sans-serif\" font-size=\"12\" lengthAdjust=\"spacingAndGlyphs\" textLength=\"30\" x=\"38\" y=\"88.1074\">start</text></a></g><!--MD5=[ac32cc0e4f7f4c020d749679b1e59688]\n",
       "@startuml\r\n",
       "skinparam ranksep 8\r\n",
       "skinparam wrapWidth 300\r\n",
       "hide circle\r\n",
       "\r\n",
       "rec usage \"a\" as E1  <<(T,blue)action>> [[psysml:1bfaea47-077a-4258-abab-849ce06009df ]] {\r\n",
       "rec usage \"start\" as E2  <<(T,blue)action>> [[psysml:a720e092-6bcd-479c-a1ff-52104ff4d712 ]] {\r\n",
       "}\r\n",
       "\r\n",
       "}\r\n",
       "\r\n",
       "@enduml\r\n",
       "\n",
       "PlantUML version 1.2020.13(Sat Jun 13 12:26:38 UTC 2020)\n",
       "(EPL source distribution)\n",
       "Java Runtime: OpenJDK Runtime Environment\n",
       "JVM: OpenJDK 64-Bit Server VM\n",
       "Default Encoding: UTF-8\n",
       "Language: en\n",
       "Country: null\n",
       "--></g></svg>"
      ]
     },
     "execution_count": 27,
     "metadata": {},
     "output_type": "execute_result"
    }
   ],
   "source": [
    "%viz --style=\"STDCOLOR\" --view=\"Action\" \"ActionTest\""
   ]
  },
  {
   "cell_type": "code",
   "execution_count": 28,
   "id": "cathedral-vault",
   "metadata": {
    "execution": {
     "iopub.execute_input": "2021-03-25T13:17:13.655232Z",
     "iopub.status.busy": "2021-03-25T13:17:13.654631Z",
     "iopub.status.idle": "2021-03-25T13:17:14.164807Z",
     "shell.execute_reply": "2021-03-25T13:17:14.164065Z"
    }
   },
   "outputs": [
    {
     "data": {
      "image/svg+xml": [
       "<?xml version=\"1.0\" encoding=\"UTF-8\" standalone=\"no\"?><svg xmlns=\"http://www.w3.org/2000/svg\" xmlns:xlink=\"http://www.w3.org/1999/xlink\" contentScriptType=\"application/ecmascript\" contentStyleType=\"text/css\" height=\"145px\" preserveAspectRatio=\"none\" style=\"width:298px;height:145px;\" version=\"1.1\" viewBox=\"0 0 298 145\" width=\"298px\" zoomAndPan=\"magnify\"><defs><filter height=\"300%\" id=\"f148rhuohfm3rk\" width=\"300%\" x=\"-1\" y=\"-1\"><feGaussianBlur result=\"blurOut\" stdDeviation=\"2.0\"/><feColorMatrix in=\"blurOut\" result=\"blurOut2\" type=\"matrix\" values=\"0 0 0 0 0 0 0 0 0 0 0 0 0 0 0 0 0 0 .4 0\"/><feOffset dx=\"4.0\" dy=\"4.0\" in=\"blurOut2\" result=\"blurOut3\"/><feBlend in=\"SourceGraphic\" in2=\"blurOut3\" mode=\"normal\"/></filter></defs><g><!--MD5=[fbc87193dbaf4d95561dea2c320d4a47]\n",
       "cluster E1--><a href=\"psysml:7d27680f-a8ad-4796-902f-be0a7d0ccba0\" target=\"_top\" title=\"psysml:7d27680f-a8ad-4796-902f-be0a7d0ccba0\" xlink:actuate=\"onRequest\" xlink:href=\"psysml:7d27680f-a8ad-4796-902f-be0a7d0ccba0\" xlink:show=\"new\" xlink:title=\"psysml:7d27680f-a8ad-4796-902f-be0a7d0ccba0\" xlink:type=\"simple\"><polygon fill=\"#FFFFFF\" filter=\"url(#f148rhuohfm3rk)\" points=\"16,6,107,6,114,28.2969,276,28.2969,276,133,16,133,16,6\" style=\"stroke: #000000; stroke-width: 1.5;\"/><line style=\"stroke: #000000; stroke-width: 1.5;\" x1=\"16\" x2=\"114\" y1=\"28.2969\" y2=\"28.2969\"/><text fill=\"#000000\" font-family=\"sans-serif\" font-size=\"14\" font-weight=\"bold\" lengthAdjust=\"spacingAndGlyphs\" textLength=\"85\" x=\"20\" y=\"20.9951\">ActionTest</text></a><!--MD5=[b4997ac47864f28c2f74865a473b2911]\n",
       "class E2--><a href=\"psysml:1bfaea47-077a-4258-abab-849ce06009df\" target=\"_top\" title=\"psysml:1bfaea47-077a-4258-abab-849ce06009df\" xlink:actuate=\"onRequest\" xlink:href=\"psysml:1bfaea47-077a-4258-abab-849ce06009df\" xlink:show=\"new\" xlink:title=\"psysml:1bfaea47-077a-4258-abab-849ce06009df\" xlink:type=\"simple\"><rect fill=\"#FEFECE\" filter=\"url(#f148rhuohfm3rk)\" height=\"76.4922\" id=\"E2\" rx=\"10\" ry=\"10\" style=\"stroke: #A80036; stroke-width: 1.5;\" width=\"228\" x=\"32\" y=\"41\"/><text fill=\"#000000\" font-family=\"sans-serif\" font-size=\"12\" font-style=\"italic\" lengthAdjust=\"spacingAndGlyphs\" textLength=\"53\" x=\"119.5\" y=\"57.1387\">«action»</text><text fill=\"#000000\" font-family=\"sans-serif\" font-size=\"12\" lengthAdjust=\"spacingAndGlyphs\" textLength=\"8\" x=\"142\" y=\"71.1074\">a</text><line style=\"stroke: #A80036; stroke-width: 1.5;\" x1=\"33\" x2=\"259\" y1=\"78.9375\" y2=\"78.9375\"/><path d=\"M39.9167,100.6589 L39.9167,109.8255 L40.8333,109.8255 L40.8333,100.6589 M43.5833,100.6589 L43.5833,109.8255 L50.9167,105.2422 L43.5833,100.6589 L44.5,102.0339 L49.5417,105.2422 L44.5,108.4505 L44.5,102.0339 \" fill=\"#000000\" style=\"stroke: ; stroke-width: 0.0; stroke-dasharray: ;\"/><text fill=\"#000000\" font-family=\"sans-serif\" font-size=\"11\" lengthAdjust=\"spacingAndGlyphs\" textLength=\"69\" x=\"55\" y=\"110.8979\">start: Action</text><text fill=\"#000000\" font-family=\"sans-serif\" font-size=\"11\" lengthAdjust=\"spacingAndGlyphs\" text-decoration=\"line-through\" textLength=\"126\" x=\"128\" y=\"110.8979\">Occurrence::startShot</text><line style=\"stroke: #A80036; stroke-width: 1.0;\" x1=\"33\" x2=\"125.5\" y1=\"93.3398\" y2=\"93.3398\"/><text fill=\"#000000\" font-family=\"sans-serif\" font-size=\"11\" lengthAdjust=\"spacingAndGlyphs\" textLength=\"41\" x=\"125.5\" y=\"96.6479\">actions</text><line style=\"stroke: #A80036; stroke-width: 1.0;\" x1=\"166.5\" x2=\"259\" y1=\"93.3398\" y2=\"93.3398\"/></a><!--MD5=[6edaeca7d507bcd19c0c28b0eaa5007b]\n",
       "@startuml\r\n",
       "skinparam wrapWidth 300\r\n",
       "hide circle\r\n",
       "\r\n",
       "package \"ActionTest\" as E1  [[psysml:7d27680f-a8ad-4796-902f-be0a7d0ccba0 ]]  {\r\n",
       "comp usage \"a\" as E2  <<(T,blue)action>> [[psysml:1bfaea47-077a-4258-abab-849ce06009df ]] {\r\n",
       "- - actions - -\r\n",
       "<&bar-trig> start: Action <s>Occurrence::startShot</s>\r\n",
       "}\r\n",
       "}\r\n",
       "@enduml\r\n",
       "\n",
       "PlantUML version 1.2020.13(Sat Jun 13 12:26:38 UTC 2020)\n",
       "(EPL source distribution)\n",
       "Java Runtime: OpenJDK Runtime Environment\n",
       "JVM: OpenJDK 64-Bit Server VM\n",
       "Default Encoding: UTF-8\n",
       "Language: en\n",
       "Country: null\n",
       "--></g></svg>"
      ]
     },
     "execution_count": 28,
     "metadata": {},
     "output_type": "execute_result"
    }
   ],
   "source": [
    "%viz --style=\"STDCOLOR\" --view=\"Sequence\" \"ActionTest\""
   ]
  },
  {
   "cell_type": "code",
   "execution_count": 29,
   "id": "norwegian-franklin",
   "metadata": {
    "execution": {
     "iopub.execute_input": "2021-03-25T13:17:14.217278Z",
     "iopub.status.busy": "2021-03-25T13:17:14.216271Z",
     "iopub.status.idle": "2021-03-25T13:17:14.271799Z",
     "shell.execute_reply": "2021-03-25T13:17:14.272272Z"
    }
   },
   "outputs": [
    {
     "data": {
      "image/svg+xml": [
       "<?xml version=\"1.0\" encoding=\"UTF-8\" standalone=\"no\"?><svg xmlns=\"http://www.w3.org/2000/svg\" xmlns:xlink=\"http://www.w3.org/1999/xlink\" contentScriptType=\"application/ecmascript\" contentStyleType=\"text/css\" height=\"195px\" preserveAspectRatio=\"none\" style=\"width:178px;height:195px;\" version=\"1.1\" viewBox=\"0 0 178 195\" width=\"178px\" zoomAndPan=\"magnify\"><defs><filter height=\"300%\" id=\"f3abp66t2te0s\" width=\"300%\" x=\"-1\" y=\"-1\"><feGaussianBlur result=\"blurOut\" stdDeviation=\"2.0\"/><feColorMatrix in=\"blurOut\" result=\"blurOut2\" type=\"matrix\" values=\"0 0 0 0 0 0 0 0 0 0 0 0 0 0 0 0 0 0 .4 0\"/><feOffset dx=\"4.0\" dy=\"4.0\" in=\"blurOut2\" result=\"blurOut3\"/><feBlend in=\"SourceGraphic\" in2=\"blurOut3\" mode=\"normal\"/></filter></defs><g><!--MD5=[fbc87193dbaf4d95561dea2c320d4a47]\n",
       "cluster E1--><a href=\"psysml:7d27680f-a8ad-4796-902f-be0a7d0ccba0\" target=\"_top\" title=\"psysml:7d27680f-a8ad-4796-902f-be0a7d0ccba0\" xlink:actuate=\"onRequest\" xlink:href=\"psysml:7d27680f-a8ad-4796-902f-be0a7d0ccba0\" xlink:show=\"new\" xlink:title=\"psysml:7d27680f-a8ad-4796-902f-be0a7d0ccba0\" xlink:type=\"simple\"><polygon fill=\"#FFFFFF\" filter=\"url(#f3abp66t2te0s)\" points=\"16,6,107,6,114,28.2969,156,28.2969,156,183,16,183,16,6\" style=\"stroke: #000000; stroke-width: 1.5;\"/><line style=\"stroke: #000000; stroke-width: 1.5;\" x1=\"16\" x2=\"114\" y1=\"28.2969\" y2=\"28.2969\"/><text fill=\"#000000\" font-family=\"sans-serif\" font-size=\"14\" font-weight=\"bold\" lengthAdjust=\"spacingAndGlyphs\" textLength=\"85\" x=\"20\" y=\"20.9951\">ActionTest</text></a><!--MD5=[e4f7fae6ed58524ba242bb0b0d3be6b7]\n",
       "cluster E2--><a href=\"psysml:1bfaea47-077a-4258-abab-849ce06009df\" target=\"_top\" title=\"psysml:1bfaea47-077a-4258-abab-849ce06009df\" xlink:actuate=\"onRequest\" xlink:href=\"psysml:1bfaea47-077a-4258-abab-849ce06009df\" xlink:show=\"new\" xlink:title=\"psysml:1bfaea47-077a-4258-abab-849ce06009df\" xlink:type=\"simple\"><rect fill=\"#FFFFFF\" filter=\"url(#f3abp66t2te0s)\" height=\"110\" id=\"E2\" rx=\"10\" ry=\"10\" style=\"stroke: #A80036; stroke-width: 1.5;\" width=\"92\" x=\"40\" y=\"49\"/><rect fill=\"#FEFECE\" height=\"37.9375\" rx=\"10\" ry=\"10\" style=\"stroke: #FEFECE; stroke-width: 1.5;\" width=\"92\" x=\"40\" y=\"49\"/><rect fill=\"#FEFECE\" height=\"10\" style=\"stroke: #FEFECE; stroke-width: 1.5;\" width=\"92\" x=\"40\" y=\"76.9375\"/><rect fill=\"none\" height=\"110\" id=\"E2\" rx=\"10\" ry=\"10\" style=\"stroke: #A80036; stroke-width: 1.5;\" width=\"92\" x=\"40\" y=\"49\"/><text fill=\"#000000\" font-family=\"sans-serif\" font-size=\"12\" font-style=\"italic\" lengthAdjust=\"spacingAndGlyphs\" textLength=\"53\" x=\"59.5\" y=\"65.1387\">«action»</text><text fill=\"#000000\" font-family=\"sans-serif\" font-size=\"12\" lengthAdjust=\"spacingAndGlyphs\" textLength=\"8\" x=\"82\" y=\"79.1074\">a</text><line style=\"stroke: #A80036; stroke-width: 1.0;\" x1=\"40\" x2=\"132\" y1=\"86.9375\" y2=\"86.9375\"/></a><g id=\"E1.E2.E3\"><a href=\"psysml:a720e092-6bcd-479c-a1ff-52104ff4d712\" target=\"_top\" title=\"psysml:a720e092-6bcd-479c-a1ff-52104ff4d712\" xlink:actuate=\"onRequest\" xlink:href=\"psysml:a720e092-6bcd-479c-a1ff-52104ff4d712\" xlink:show=\"new\" xlink:title=\"psysml:a720e092-6bcd-479c-a1ff-52104ff4d712\" xlink:type=\"simple\"><rect fill=\"#FEFECE\" filter=\"url(#f3abp66t2te0s)\" height=\"42.9375\" id=\"E3\" rx=\"10\" ry=\"10\" style=\"stroke: #A80036; stroke-width: 1.5;\" width=\"60\" x=\"56\" y=\"100\"/><text fill=\"#000000\" font-family=\"sans-serif\" font-size=\"12\" font-style=\"italic\" lengthAdjust=\"spacingAndGlyphs\" textLength=\"53\" x=\"59.5\" y=\"116.1387\">«action»</text><text fill=\"#000000\" font-family=\"sans-serif\" font-size=\"12\" lengthAdjust=\"spacingAndGlyphs\" textLength=\"30\" x=\"71\" y=\"130.1074\">start</text></a></g><!--MD5=[a7eef239b7d3facbbb3e2d31dfffe3e2]\n",
       "@startuml\r\n",
       "skinparam wrapWidth 300\r\n",
       "hide circle\r\n",
       "\r\n",
       "package \"ActionTest\" as E1  [[psysml:7d27680f-a8ad-4796-902f-be0a7d0ccba0 ]]  {\r\n",
       "rec usage \"a\" as E2  <<(T,blue)action>> [[psysml:1bfaea47-077a-4258-abab-849ce06009df ]] {\r\n",
       "rec usage \"start\" as E3  <<(T,blue)action>> [[psysml:a720e092-6bcd-479c-a1ff-52104ff4d712 ]] {\r\n",
       "}\r\n",
       "\r\n",
       "}\r\n",
       "\r\n",
       "}\r\n",
       "@enduml\r\n",
       "\n",
       "PlantUML version 1.2020.13(Sat Jun 13 12:26:38 UTC 2020)\n",
       "(EPL source distribution)\n",
       "Java Runtime: OpenJDK Runtime Environment\n",
       "JVM: OpenJDK 64-Bit Server VM\n",
       "Default Encoding: UTF-8\n",
       "Language: en\n",
       "Country: null\n",
       "--></g></svg>"
      ]
     },
     "execution_count": 29,
     "metadata": {},
     "output_type": "execute_result"
    }
   ],
   "source": [
    "%viz --style=\"STDCOLOR\" --view=\"MIXED\" \"ActionTest\""
   ]
  },
  {
   "cell_type": "code",
   "execution_count": 30,
   "id": "liquid-burden",
   "metadata": {
    "execution": {
     "iopub.execute_input": "2021-03-25T13:17:14.322963Z",
     "iopub.status.busy": "2021-03-25T13:17:14.322424Z",
     "iopub.status.idle": "2021-03-25T13:17:14.401751Z",
     "shell.execute_reply": "2021-03-25T13:17:14.400572Z"
    }
   },
   "outputs": [
    {
     "data": {
      "image/svg+xml": [
       "<?xml version=\"1.0\" encoding=\"UTF-8\" standalone=\"no\"?><svg xmlns=\"http://www.w3.org/2000/svg\" xmlns:xlink=\"http://www.w3.org/1999/xlink\" contentScriptType=\"application/ecmascript\" contentStyleType=\"text/css\" height=\"195px\" preserveAspectRatio=\"none\" style=\"width:204px;height:195px;\" version=\"1.1\" viewBox=\"0 0 204 195\" width=\"204px\" zoomAndPan=\"magnify\"><defs><filter height=\"300%\" id=\"fuygfkkrd8ch1\" width=\"300%\" x=\"-1\" y=\"-1\"><feGaussianBlur result=\"blurOut\" stdDeviation=\"2.0\"/><feColorMatrix in=\"blurOut\" result=\"blurOut2\" type=\"matrix\" values=\"0 0 0 0 0 0 0 0 0 0 0 0 0 0 0 0 0 0 .4 0\"/><feOffset dx=\"4.0\" dy=\"4.0\" in=\"blurOut2\" result=\"blurOut3\"/><feBlend in=\"SourceGraphic\" in2=\"blurOut3\" mode=\"normal\"/></filter></defs><g><!--MD5=[fbc87193dbaf4d95561dea2c320d4a47]\n",
       "cluster E1--><a href=\"psysml:7d27680f-a8ad-4796-902f-be0a7d0ccba0\" target=\"_top\" title=\"psysml:7d27680f-a8ad-4796-902f-be0a7d0ccba0\" xlink:actuate=\"onRequest\" xlink:href=\"psysml:7d27680f-a8ad-4796-902f-be0a7d0ccba0\" xlink:show=\"new\" xlink:title=\"psysml:7d27680f-a8ad-4796-902f-be0a7d0ccba0\" xlink:type=\"simple\"><polygon fill=\"#FFFFFF\" filter=\"url(#fuygfkkrd8ch1)\" points=\"16,6,107,6,114,28.2969,182,28.2969,182,183,16,183,16,6\" style=\"stroke: #000000; stroke-width: 1.5;\"/><line style=\"stroke: #000000; stroke-width: 1.5;\" x1=\"16\" x2=\"114\" y1=\"28.2969\" y2=\"28.2969\"/><text fill=\"#000000\" font-family=\"sans-serif\" font-size=\"14\" font-weight=\"bold\" lengthAdjust=\"spacingAndGlyphs\" textLength=\"85\" x=\"20\" y=\"20.9951\">ActionTest</text></a><!--MD5=[e4f7fae6ed58524ba242bb0b0d3be6b7]\n",
       "cluster E2--><a href=\"psysml:1bfaea47-077a-4258-abab-849ce06009df\" target=\"_top\" title=\"psysml:1bfaea47-077a-4258-abab-849ce06009df\" xlink:actuate=\"onRequest\" xlink:href=\"psysml:1bfaea47-077a-4258-abab-849ce06009df\" xlink:show=\"new\" xlink:title=\"psysml:1bfaea47-077a-4258-abab-849ce06009df\" xlink:type=\"simple\"><rect fill=\"#FFFFFF\" filter=\"url(#fuygfkkrd8ch1)\" height=\"110\" id=\"E2\" rx=\"10\" ry=\"10\" style=\"stroke: #A80036; stroke-width: 1.5;\" width=\"118\" x=\"40\" y=\"49\"/><rect fill=\"#FEFECE\" height=\"37.9375\" rx=\"10\" ry=\"10\" style=\"stroke: #FEFECE; stroke-width: 1.5;\" width=\"118\" x=\"40\" y=\"49\"/><rect fill=\"#FEFECE\" height=\"10\" style=\"stroke: #FEFECE; stroke-width: 1.5;\" width=\"118\" x=\"40\" y=\"76.9375\"/><rect fill=\"none\" height=\"110\" id=\"E2\" rx=\"10\" ry=\"10\" style=\"stroke: #A80036; stroke-width: 1.5;\" width=\"118\" x=\"40\" y=\"49\"/><text fill=\"#000000\" font-family=\"sans-serif\" font-size=\"12\" font-style=\"italic\" lengthAdjust=\"spacingAndGlyphs\" textLength=\"53\" x=\"72.5\" y=\"65.1387\">«action»</text><text fill=\"#000000\" font-family=\"sans-serif\" font-size=\"12\" lengthAdjust=\"spacingAndGlyphs\" textLength=\"8\" x=\"95\" y=\"79.1074\">a</text><line style=\"stroke: #A80036; stroke-width: 1.0;\" x1=\"40\" x2=\"158\" y1=\"86.9375\" y2=\"86.9375\"/></a><g id=\"E1.E2.E3\"><a href=\"psysml:a720e092-6bcd-479c-a1ff-52104ff4d712\" target=\"_top\" title=\"psysml:a720e092-6bcd-479c-a1ff-52104ff4d712\" xlink:actuate=\"onRequest\" xlink:href=\"psysml:a720e092-6bcd-479c-a1ff-52104ff4d712\" xlink:show=\"new\" xlink:title=\"psysml:a720e092-6bcd-479c-a1ff-52104ff4d712\" xlink:type=\"simple\"><rect fill=\"#FEFECE\" filter=\"url(#fuygfkkrd8ch1)\" height=\"42.9375\" id=\"E3\" rx=\"10\" ry=\"10\" style=\"stroke: #A80036; stroke-width: 1.5;\" width=\"86\" x=\"56\" y=\"100\"/><ellipse cx=\"73.25\" cy=\"118.9688\" fill=\"#FFA500\" rx=\"11\" ry=\"11\" style=\"stroke: #A80036; stroke-width: 1.0;\"/><path d=\"M69.125,120.8906 L69.125,113.0781 L71.5781,113.0781 L71.5781,121.5156 Q71.5781,122.4375 72.0469,122.9688 Q72.5313,123.5 73.3594,123.5 Q74.2031,123.5 74.6719,122.9688 Q75.1406,122.4375 75.1406,121.5156 L75.1406,113.0781 L77.5938,113.0781 L77.5938,120.8906 Q77.5938,123.4219 76.5938,124.5625 Q75.5938,125.7031 73.3594,125.7031 Q71.1406,125.7031 70.125,124.5625 Q69.125,123.4219 69.125,120.8906 Z \"/><text fill=\"#000000\" font-family=\"sans-serif\" font-size=\"12\" font-style=\"italic\" lengthAdjust=\"spacingAndGlyphs\" textLength=\"53\" x=\"85.75\" y=\"116.1387\">«action»</text><text fill=\"#000000\" font-family=\"sans-serif\" font-size=\"12\" lengthAdjust=\"spacingAndGlyphs\" textLength=\"30\" x=\"97.25\" y=\"130.1074\">start</text></a></g><!--MD5=[52f021b4a346181b40425d332cd16652]\n",
       "@startuml\r\n",
       " \r\n",
       "package \"ActionTest\" as E1  [[psysml:7d27680f-a8ad-4796-902f-be0a7d0ccba0 ]]  {\r\n",
       "rec usage \"a\" as E2  <<(U,orange)action>> [[psysml:1bfaea47-077a-4258-abab-849ce06009df ]] {\r\n",
       "rec usage \"start\" as E3  <<(U,orange)action>> [[psysml:a720e092-6bcd-479c-a1ff-52104ff4d712 ]] {\r\n",
       "}\r\n",
       "\r\n",
       "}\r\n",
       "\r\n",
       "}\r\n",
       "@enduml\r\n",
       "\n",
       "PlantUML version 1.2020.13(Sat Jun 13 12:26:38 UTC 2020)\n",
       "(EPL source distribution)\n",
       "Java Runtime: OpenJDK Runtime Environment\n",
       "JVM: OpenJDK 64-Bit Server VM\n",
       "Default Encoding: UTF-8\n",
       "Language: en\n",
       "Country: null\n",
       "--></g></svg>"
      ]
     },
     "execution_count": 30,
     "metadata": {},
     "output_type": "execute_result"
    }
   ],
   "source": [
    "%viz --style=\"PLANTUML\" --view=\"Default\" \"ActionTest\""
   ]
  },
  {
   "cell_type": "code",
   "execution_count": 31,
   "id": "heard-moore",
   "metadata": {
    "execution": {
     "iopub.execute_input": "2021-03-25T13:17:14.468980Z",
     "iopub.status.busy": "2021-03-25T13:17:14.453187Z",
     "iopub.status.idle": "2021-03-25T13:17:14.936812Z",
     "shell.execute_reply": "2021-03-25T13:17:14.937288Z"
    }
   },
   "outputs": [
    {
     "data": {
      "image/svg+xml": [
       "<?xml version=\"1.0\" encoding=\"UTF-8\" standalone=\"no\"?><svg xmlns=\"http://www.w3.org/2000/svg\" xmlns:xlink=\"http://www.w3.org/1999/xlink\" contentScriptType=\"application/ecmascript\" contentStyleType=\"text/css\" height=\"157px\" preserveAspectRatio=\"none\" style=\"width:230px;height:157px;\" version=\"1.1\" viewBox=\"0 0 230 157\" width=\"230px\" zoomAndPan=\"magnify\"><defs><filter height=\"300%\" id=\"f12a9rnzywf655\" width=\"300%\" x=\"-1\" y=\"-1\"><feGaussianBlur result=\"blurOut\" stdDeviation=\"2.0\"/><feColorMatrix in=\"blurOut\" result=\"blurOut2\" type=\"matrix\" values=\"0 0 0 0 0 0 0 0 0 0 0 0 0 0 0 0 0 0 .4 0\"/><feOffset dx=\"4.0\" dy=\"4.0\" in=\"blurOut2\" result=\"blurOut3\"/><feBlend in=\"SourceGraphic\" in2=\"blurOut3\" mode=\"normal\"/></filter></defs><g><!--MD5=[fbc87193dbaf4d95561dea2c320d4a47]\n",
       "cluster E1--><a href=\"psysml:7d27680f-a8ad-4796-902f-be0a7d0ccba0\" target=\"_top\" title=\"psysml:7d27680f-a8ad-4796-902f-be0a7d0ccba0\" xlink:actuate=\"onRequest\" xlink:href=\"psysml:7d27680f-a8ad-4796-902f-be0a7d0ccba0\" xlink:show=\"new\" xlink:title=\"psysml:7d27680f-a8ad-4796-902f-be0a7d0ccba0\" xlink:type=\"simple\"><polygon fill=\"#FFFFFF\" filter=\"url(#f12a9rnzywf655)\" points=\"16,6,107,6,114,28.2969,208,28.2969,208,145,16,145,16,6\" style=\"stroke: #000000; stroke-width: 1.5;\"/><line style=\"stroke: #000000; stroke-width: 1.5;\" x1=\"16\" x2=\"114\" y1=\"28.2969\" y2=\"28.2969\"/><text fill=\"#000000\" font-family=\"sans-serif\" font-size=\"14\" font-weight=\"bold\" lengthAdjust=\"spacingAndGlyphs\" textLength=\"85\" x=\"20\" y=\"20.9951\">ActionTest</text></a><!--MD5=[b4997ac47864f28c2f74865a473b2911]\n",
       "class E2--><a href=\"psysml:1bfaea47-077a-4258-abab-849ce06009df\" target=\"_top\" title=\"psysml:1bfaea47-077a-4258-abab-849ce06009df\" xlink:actuate=\"onRequest\" xlink:href=\"psysml:1bfaea47-077a-4258-abab-849ce06009df\" xlink:show=\"new\" xlink:title=\"psysml:1bfaea47-077a-4258-abab-849ce06009df\" xlink:type=\"simple\"><rect fill=\"#FEFECE\" filter=\"url(#f12a9rnzywf655)\" height=\"88.3516\" id=\"E2\" rx=\"10\" ry=\"10\" style=\"stroke: #A80036; stroke-width: 1.5;\" width=\"160\" x=\"32\" y=\"41\"/><ellipse cx=\"83.25\" cy=\"59.9688\" fill=\"#FFA500\" rx=\"11\" ry=\"11\" style=\"stroke: #A80036; stroke-width: 1.0;\"/><path d=\"M79.125,61.8906 L79.125,54.0781 L81.5781,54.0781 L81.5781,62.5156 Q81.5781,63.4375 82.0469,63.9688 Q82.5313,64.5 83.3594,64.5 Q84.2031,64.5 84.6719,63.9688 Q85.1406,63.4375 85.1406,62.5156 L85.1406,54.0781 L87.5938,54.0781 L87.5938,61.8906 Q87.5938,64.4219 86.5938,65.5625 Q85.5938,66.7031 83.3594,66.7031 Q81.1406,66.7031 80.125,65.5625 Q79.125,64.4219 79.125,61.8906 Z \"/><text fill=\"#000000\" font-family=\"sans-serif\" font-size=\"12\" font-style=\"italic\" lengthAdjust=\"spacingAndGlyphs\" textLength=\"53\" x=\"101.75\" y=\"57.1387\">«action»</text><text fill=\"#000000\" font-family=\"sans-serif\" font-size=\"12\" lengthAdjust=\"spacingAndGlyphs\" textLength=\"8\" x=\"124.25\" y=\"71.1074\">a</text><line style=\"stroke: #A80036; stroke-width: 1.5;\" x1=\"33\" x2=\"191\" y1=\"78.9375\" y2=\"78.9375\"/><text fill=\"#000000\" font-family=\"sans-serif\" font-size=\"11\" lengthAdjust=\"spacingAndGlyphs\" textLength=\"69\" x=\"38\" y=\"109.9526\">start: Action</text><text fill=\"#000000\" font-family=\"sans-serif\" font-size=\"11\" font-style=\"italic\" lengthAdjust=\"spacingAndGlyphs\" textLength=\"148\" x=\"38\" y=\"122.7573\">:&gt;&gt;Occurrence::startShot</text><line style=\"stroke: #A80036; stroke-width: 1.0;\" x1=\"33\" x2=\"91.5\" y1=\"93.3398\" y2=\"93.3398\"/><text fill=\"#000000\" font-family=\"sans-serif\" font-size=\"11\" lengthAdjust=\"spacingAndGlyphs\" textLength=\"41\" x=\"91.5\" y=\"96.6479\">actions</text><line style=\"stroke: #A80036; stroke-width: 1.0;\" x1=\"132.5\" x2=\"191\" y1=\"93.3398\" y2=\"93.3398\"/></a><!--MD5=[27cac80484adb6d194159759c4003531]\n",
       "@startuml\r\n",
       " \r\n",
       "package \"ActionTest\" as E1  [[psysml:7d27680f-a8ad-4796-902f-be0a7d0ccba0 ]]  {\r\n",
       "comp usage \"a\" as E2  <<(U,orange)action>> [[psysml:1bfaea47-077a-4258-abab-849ce06009df ]] {\r\n",
       "- - actions - -\r\n",
       "start: Action\\n//:>>Occurrence::startShot// \r\n",
       "}\r\n",
       "}\r\n",
       "@enduml\r\n",
       "\n",
       "PlantUML version 1.2020.13(Sat Jun 13 12:26:38 UTC 2020)\n",
       "(EPL source distribution)\n",
       "Java Runtime: OpenJDK Runtime Environment\n",
       "JVM: OpenJDK 64-Bit Server VM\n",
       "Default Encoding: UTF-8\n",
       "Language: en\n",
       "Country: null\n",
       "--></g></svg>"
      ]
     },
     "execution_count": 31,
     "metadata": {},
     "output_type": "execute_result"
    }
   ],
   "source": [
    "%viz --style=\"PLANTUML\" --view=\"Tree\" \"ActionTest\""
   ]
  },
  {
   "cell_type": "code",
   "execution_count": 32,
   "id": "adolescent-controversy",
   "metadata": {
    "execution": {
     "iopub.execute_input": "2021-03-25T13:17:14.989511Z",
     "iopub.status.busy": "2021-03-25T13:17:14.988885Z",
     "iopub.status.idle": "2021-03-25T13:17:15.852567Z",
     "shell.execute_reply": "2021-03-25T13:17:15.851261Z"
    }
   },
   "outputs": [
    {
     "data": {
      "image/svg+xml": [
       "<?xml version=\"1.0\" encoding=\"UTF-8\" standalone=\"no\"?><svg xmlns=\"http://www.w3.org/2000/svg\" xmlns:xlink=\"http://www.w3.org/1999/xlink\" contentScriptType=\"application/ecmascript\" contentStyleType=\"text/css\" height=\"303px\" preserveAspectRatio=\"none\" style=\"width:603px;height:303px;background:#000000;\" version=\"1.1\" viewBox=\"0 0 603 303\" width=\"603px\" zoomAndPan=\"magnify\"><defs/><g><rect fill=\"#00031C\" height=\"1\" style=\"stroke: #00031C; stroke-width: 1.0;\" width=\"1\" x=\"0\" y=\"0\"/><rect fill=\"#FFFFFF\" height=\"205.5625\" style=\"stroke: #FFFFFF; stroke-width: 1.0;\" width=\"602\" x=\"0\" y=\"0\"/><text fill=\"#000000\" font-family=\"sans-serif\" font-size=\"12\" font-weight=\"bold\" lengthAdjust=\"spacingAndGlyphs\" textLength=\"159\" x=\"5\" y=\"16.1387\">Welcome to PlantUML!</text><text fill=\"#000000\" font-family=\"sans-serif\" font-size=\"12\" lengthAdjust=\"spacingAndGlyphs\" textLength=\"0\" x=\"9\" y=\"30.1074\"/><text fill=\"#000000\" font-family=\"sans-serif\" font-size=\"12\" lengthAdjust=\"spacingAndGlyphs\" textLength=\"293\" x=\"5\" y=\"44.0762\">If you use this software, you accept its license.</text><text fill=\"#000000\" font-family=\"sans-serif\" font-size=\"12\" lengthAdjust=\"spacingAndGlyphs\" textLength=\"107\" x=\"5\" y=\"58.0449\">(details by typing</text><text fill=\"#000000\" font-family=\"monospace\" font-size=\"12\" lengthAdjust=\"spacingAndGlyphs\" textLength=\"49\" x=\"116\" y=\"58.0449\">license</text><text fill=\"#000000\" font-family=\"sans-serif\" font-size=\"12\" lengthAdjust=\"spacingAndGlyphs\" textLength=\"56\" x=\"169\" y=\"58.0449\">keyword)</text><text fill=\"#000000\" font-family=\"sans-serif\" font-size=\"12\" lengthAdjust=\"spacingAndGlyphs\" textLength=\"0\" x=\"9\" y=\"72.0137\"/><text fill=\"#000000\" font-family=\"sans-serif\" font-size=\"12\" lengthAdjust=\"spacingAndGlyphs\" textLength=\"283\" x=\"5\" y=\"85.9824\">You can start with a simple UML Diagram like:</text><text fill=\"#000000\" font-family=\"sans-serif\" font-size=\"12\" lengthAdjust=\"spacingAndGlyphs\" textLength=\"0\" x=\"9\" y=\"99.9512\"/><text fill=\"#000000\" font-family=\"monospace\" font-size=\"12\" lengthAdjust=\"spacingAndGlyphs\" textLength=\"119\" x=\"5\" y=\"113.9199\">Bob-&gt;Alice: Hello</text><text fill=\"#000000\" font-family=\"sans-serif\" font-size=\"12\" lengthAdjust=\"spacingAndGlyphs\" textLength=\"0\" x=\"9\" y=\"127.8887\"/><text fill=\"#000000\" font-family=\"sans-serif\" font-size=\"12\" lengthAdjust=\"spacingAndGlyphs\" textLength=\"14\" x=\"5\" y=\"141.8574\">Or</text><text fill=\"#000000\" font-family=\"sans-serif\" font-size=\"12\" lengthAdjust=\"spacingAndGlyphs\" textLength=\"0\" x=\"9\" y=\"155.8262\"/><text fill=\"#000000\" font-family=\"monospace\" font-size=\"12\" lengthAdjust=\"spacingAndGlyphs\" textLength=\"91\" x=\"5\" y=\"169.7949\">class Example</text><text fill=\"#000000\" font-family=\"sans-serif\" font-size=\"12\" lengthAdjust=\"spacingAndGlyphs\" textLength=\"0\" x=\"9\" y=\"183.7637\"/><text fill=\"#000000\" font-family=\"sans-serif\" font-size=\"12\" lengthAdjust=\"spacingAndGlyphs\" textLength=\"349\" x=\"5\" y=\"197.7324\">You will find more information about PlantUML syntax on</text><text fill=\"#000000\" font-family=\"sans-serif\" font-size=\"12\" lengthAdjust=\"spacingAndGlyphs\" text-decoration=\"underline\" textLength=\"129\" x=\"358\" y=\"197.7324\">https://plantuml.com</text><image height=\"71\" width=\"80\" x=\"516\" xlink:href=\"data:image/png;base64,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\" y=\"6\"/><rect fill=\"#000000\" height=\"96.4844\" style=\"stroke: #000000; stroke-width: 1.0;\" width=\"602\" x=\"0\" y=\"205.5625\"/><rect fill=\"#33FF02\" height=\"21.2969\" style=\"stroke: #33FF02; stroke-width: 1.0;\" width=\"170\" x=\"5\" y=\"210.5625\"/><text fill=\"#000000\" font-family=\"sans-serif\" font-size=\"14\" font-weight=\"bold\" lengthAdjust=\"spacingAndGlyphs\" textLength=\"168\" x=\"6\" y=\"225.5625\">[From string (line 2) ]</text><text fill=\"#33FF02\" font-family=\"sans-serif\" font-size=\"14\" font-weight=\"bold\" lengthAdjust=\"spacingAndGlyphs\" textLength=\"0\" x=\"10\" y=\"245.8594\"/><text fill=\"#33FF02\" font-family=\"sans-serif\" font-size=\"14\" font-weight=\"bold\" lengthAdjust=\"spacingAndGlyphs\" textLength=\"79\" x=\"5\" y=\"262.1563\">@startuml</text><text fill=\"#33FF02\" font-family=\"sans-serif\" font-size=\"14\" font-weight=\"bold\" lengthAdjust=\"spacingAndGlyphs\" textLength=\"0\" x=\"10\" y=\"278.4531\"/><text fill=\"#FF0000\" font-family=\"sans-serif\" font-size=\"14\" font-weight=\"bold\" lengthAdjust=\"spacingAndGlyphs\" textLength=\"142\" x=\"10\" y=\"294.75\">Empty description</text><!--MD5=[f59edd8218d337f74d0c332fc6737304]\n",
       "@startuml\r\n",
       " \r\n",
       "@enduml\r\n",
       "\n",
       "PlantUML version 1.2020.13(Sat Jun 13 12:26:38 UTC 2020)\n",
       "(EPL source distribution)\n",
       "Java Runtime: OpenJDK Runtime Environment\n",
       "JVM: OpenJDK 64-Bit Server VM\n",
       "Default Encoding: UTF-8\n",
       "Language: en\n",
       "Country: null\n",
       "--></g></svg>"
      ]
     },
     "execution_count": 32,
     "metadata": {},
     "output_type": "execute_result"
    }
   ],
   "source": [
    "%viz --style=\"PLANTUML\" --view=\"State\" \"ActionTest\""
   ]
  },
  {
   "cell_type": "code",
   "execution_count": 33,
   "id": "wireless-halloween",
   "metadata": {
    "execution": {
     "iopub.execute_input": "2021-03-25T13:17:15.904927Z",
     "iopub.status.busy": "2021-03-25T13:17:15.903646Z",
     "iopub.status.idle": "2021-03-25T13:17:15.976557Z",
     "shell.execute_reply": "2021-03-25T13:17:15.976180Z"
    }
   },
   "outputs": [
    {
     "data": {
      "image/svg+xml": [
       "<?xml version=\"1.0\" encoding=\"UTF-8\" standalone=\"no\"?><svg xmlns=\"http://www.w3.org/2000/svg\" xmlns:xlink=\"http://www.w3.org/1999/xlink\" contentScriptType=\"application/ecmascript\" contentStyleType=\"text/css\" height=\"209px\" preserveAspectRatio=\"none\" style=\"width:322px;height:209px;\" version=\"1.1\" viewBox=\"0 0 322 209\" width=\"322px\" zoomAndPan=\"magnify\"><defs><filter height=\"300%\" id=\"f1h1yaznd2usxw\" width=\"300%\" x=\"-1\" y=\"-1\"><feGaussianBlur result=\"blurOut\" stdDeviation=\"2.0\"/><feColorMatrix in=\"blurOut\" result=\"blurOut2\" type=\"matrix\" values=\"0 0 0 0 0 0 0 0 0 0 0 0 0 0 0 0 0 0 .4 0\"/><feOffset dx=\"4.0\" dy=\"4.0\" in=\"blurOut2\" result=\"blurOut3\"/><feBlend in=\"SourceGraphic\" in2=\"blurOut3\" mode=\"normal\"/></filter></defs><g><!--MD5=[fbc87193dbaf4d95561dea2c320d4a47]\n",
       "cluster E1--><a href=\"psysml:7d27680f-a8ad-4796-902f-be0a7d0ccba0\" target=\"_top\" title=\"psysml:7d27680f-a8ad-4796-902f-be0a7d0ccba0\" xlink:actuate=\"onRequest\" xlink:href=\"psysml:7d27680f-a8ad-4796-902f-be0a7d0ccba0\" xlink:show=\"new\" xlink:title=\"psysml:7d27680f-a8ad-4796-902f-be0a7d0ccba0\" xlink:type=\"simple\"><polygon fill=\"#FFFFFF\" filter=\"url(#f1h1yaznd2usxw)\" points=\"16,6,107,6,114,28.2969,300,28.2969,300,197,16,197,16,6\" style=\"stroke: #000000; stroke-width: 1.5;\"/><line style=\"stroke: #000000; stroke-width: 1.5;\" x1=\"16\" x2=\"114\" y1=\"28.2969\" y2=\"28.2969\"/><text fill=\"#000000\" font-family=\"sans-serif\" font-size=\"14\" font-weight=\"bold\" lengthAdjust=\"spacingAndGlyphs\" textLength=\"85\" x=\"20\" y=\"20.9951\">ActionTest</text></a><!--MD5=[e4f7fae6ed58524ba242bb0b0d3be6b7]\n",
       "cluster E2--><a href=\"psysml:1bfaea47-077a-4258-abab-849ce06009df\" target=\"_top\" title=\"psysml:1bfaea47-077a-4258-abab-849ce06009df\" xlink:actuate=\"onRequest\" xlink:href=\"psysml:1bfaea47-077a-4258-abab-849ce06009df\" xlink:show=\"new\" xlink:title=\"psysml:1bfaea47-077a-4258-abab-849ce06009df\" xlink:type=\"simple\"><rect fill=\"#FFFFFF\" filter=\"url(#f1h1yaznd2usxw)\" height=\"124\" id=\"E2\" rx=\"10\" ry=\"10\" style=\"stroke: #A80036; stroke-width: 1.5;\" width=\"236\" x=\"40\" y=\"49\"/><rect fill=\"#FEFECE\" height=\"37.9375\" rx=\"10\" ry=\"10\" style=\"stroke: #FEFECE; stroke-width: 1.5;\" width=\"236\" x=\"40\" y=\"49\"/><rect fill=\"#FEFECE\" height=\"10\" style=\"stroke: #FEFECE; stroke-width: 1.5;\" width=\"236\" x=\"40\" y=\"76.9375\"/><rect fill=\"none\" height=\"124\" id=\"E2\" rx=\"10\" ry=\"10\" style=\"stroke: #A80036; stroke-width: 1.5;\" width=\"236\" x=\"40\" y=\"49\"/><text fill=\"#000000\" font-family=\"sans-serif\" font-size=\"12\" font-style=\"italic\" lengthAdjust=\"spacingAndGlyphs\" textLength=\"53\" x=\"131.5\" y=\"65.1387\">«action»</text><text fill=\"#000000\" font-family=\"sans-serif\" font-size=\"12\" lengthAdjust=\"spacingAndGlyphs\" textLength=\"8\" x=\"154\" y=\"79.1074\">a</text><line style=\"stroke: #A80036; stroke-width: 1.0;\" x1=\"40\" x2=\"276\" y1=\"86.9375\" y2=\"86.9375\"/></a><g id=\"E1.E2.E3\"><a href=\"psysml:a720e092-6bcd-479c-a1ff-52104ff4d712\" target=\"_top\" title=\"psysml:a720e092-6bcd-479c-a1ff-52104ff4d712\" xlink:actuate=\"onRequest\" xlink:href=\"psysml:a720e092-6bcd-479c-a1ff-52104ff4d712\" xlink:show=\"new\" xlink:title=\"psysml:a720e092-6bcd-479c-a1ff-52104ff4d712\" xlink:type=\"simple\"><rect fill=\"#FEFECE\" filter=\"url(#f1h1yaznd2usxw)\" height=\"56.9063\" id=\"E3\" rx=\"10\" ry=\"10\" style=\"stroke: #A80036; stroke-width: 1.5;\" width=\"204\" x=\"56\" y=\"100\"/><ellipse cx=\"73.25\" cy=\"125.9531\" fill=\"#FFA500\" rx=\"11\" ry=\"11\" style=\"stroke: #A80036; stroke-width: 1.0;\"/><path d=\"M69.125,127.875 L69.125,120.0625 L71.5781,120.0625 L71.5781,128.5 Q71.5781,129.4219 72.0469,129.9531 Q72.5313,130.4844 73.3594,130.4844 Q74.2031,130.4844 74.6719,129.9531 Q75.1406,129.4219 75.1406,128.5 L75.1406,120.0625 L77.5938,120.0625 L77.5938,127.875 Q77.5938,130.4063 76.5938,131.5469 Q75.5938,132.6875 73.3594,132.6875 Q71.1406,132.6875 70.125,131.5469 Q69.125,130.4063 69.125,127.875 Z \"/><text fill=\"#000000\" font-family=\"sans-serif\" font-size=\"12\" font-style=\"italic\" lengthAdjust=\"spacingAndGlyphs\" textLength=\"53\" x=\"144.75\" y=\"116.1387\">«action»</text><text fill=\"#000000\" font-family=\"sans-serif\" font-size=\"12\" lengthAdjust=\"spacingAndGlyphs\" textLength=\"77\" x=\"132.75\" y=\"130.1074\">start: Action</text><text fill=\"#000000\" font-family=\"sans-serif\" font-size=\"12\" font-style=\"italic\" lengthAdjust=\"spacingAndGlyphs\" textLength=\"163\" x=\"87.75\" y=\"144.0762\">:&gt;&gt;Occurrence::startShot</text><text fill=\"#000000\" font-family=\"sans-serif\" font-size=\"12\" lengthAdjust=\"spacingAndGlyphs\" textLength=\"0\" x=\"254.75\" y=\"144.0762\"/></a></g><!--MD5=[063874e293e3e2e2cfa23684d2e95df9]\n",
       "@startuml\r\n",
       "skinparam ranksep 8\r\n",
       "skinparam rectangle {\r\n",
       " backgroundColor<<block>> LightGreen\r\n",
       "}\r\n",
       " \r\n",
       "package \"ActionTest\" as E1  [[psysml:7d27680f-a8ad-4796-902f-be0a7d0ccba0 ]]  {\r\n",
       "rec usage \"a\" as E2  <<(U,orange)action>> [[psysml:1bfaea47-077a-4258-abab-849ce06009df ]] {\r\n",
       "rec usage \"start: Action\\n//:>>Occurrence::startShot// \" as E3  <<(U,orange)action>> [[psysml:a720e092-6bcd-479c-a1ff-52104ff4d712 ]] {\r\n",
       "}\r\n",
       "}\r\n",
       "}\r\n",
       "@enduml\r\n",
       "\n",
       "PlantUML version 1.2020.13(Sat Jun 13 12:26:38 UTC 2020)\n",
       "(EPL source distribution)\n",
       "Java Runtime: OpenJDK Runtime Environment\n",
       "JVM: OpenJDK 64-Bit Server VM\n",
       "Default Encoding: UTF-8\n",
       "Language: en\n",
       "Country: null\n",
       "--></g></svg>"
      ]
     },
     "execution_count": 33,
     "metadata": {},
     "output_type": "execute_result"
    }
   ],
   "source": [
    "%viz --style=\"PLANTUML\" --view=\"Interconnection\" \"ActionTest\""
   ]
  },
  {
   "cell_type": "code",
   "execution_count": 34,
   "id": "possible-battlefield",
   "metadata": {
    "execution": {
     "iopub.execute_input": "2021-03-25T13:17:16.026728Z",
     "iopub.status.busy": "2021-03-25T13:17:16.026267Z",
     "iopub.status.idle": "2021-03-25T13:17:16.075312Z",
     "shell.execute_reply": "2021-03-25T13:17:16.074651Z"
    }
   },
   "outputs": [
    {
     "data": {
      "image/svg+xml": [
       "<?xml version=\"1.0\" encoding=\"UTF-8\" standalone=\"no\"?><svg xmlns=\"http://www.w3.org/2000/svg\" xmlns:xlink=\"http://www.w3.org/1999/xlink\" contentScriptType=\"application/ecmascript\" contentStyleType=\"text/css\" height=\"136px\" preserveAspectRatio=\"none\" style=\"width:144px;height:136px;\" version=\"1.1\" viewBox=\"0 0 144 136\" width=\"144px\" zoomAndPan=\"magnify\"><defs><filter height=\"300%\" id=\"f1jjy3wjqh13wn\" width=\"300%\" x=\"-1\" y=\"-1\"><feGaussianBlur result=\"blurOut\" stdDeviation=\"2.0\"/><feColorMatrix in=\"blurOut\" result=\"blurOut2\" type=\"matrix\" values=\"0 0 0 0 0 0 0 0 0 0 0 0 0 0 0 0 0 0 .4 0\"/><feOffset dx=\"4.0\" dy=\"4.0\" in=\"blurOut2\" result=\"blurOut3\"/><feBlend in=\"SourceGraphic\" in2=\"blurOut3\" mode=\"normal\"/></filter></defs><g><!--MD5=[fbc87193dbaf4d95561dea2c320d4a47]\n",
       "cluster E1--><a href=\"psysml:1bfaea47-077a-4258-abab-849ce06009df\" target=\"_top\" title=\"psysml:1bfaea47-077a-4258-abab-849ce06009df\" xlink:actuate=\"onRequest\" xlink:href=\"psysml:1bfaea47-077a-4258-abab-849ce06009df\" xlink:show=\"new\" xlink:title=\"psysml:1bfaea47-077a-4258-abab-849ce06009df\" xlink:type=\"simple\"><rect fill=\"#FFFFFF\" filter=\"url(#f1jjy3wjqh13wn)\" height=\"110\" id=\"E1\" rx=\"10\" ry=\"10\" style=\"stroke: #A80036; stroke-width: 1.5;\" width=\"118\" x=\"7\" y=\"7\"/><rect fill=\"#FEFECE\" height=\"37.9375\" rx=\"10\" ry=\"10\" style=\"stroke: #FEFECE; stroke-width: 1.5;\" width=\"118\" x=\"7\" y=\"7\"/><rect fill=\"#FEFECE\" height=\"10\" style=\"stroke: #FEFECE; stroke-width: 1.5;\" width=\"118\" x=\"7\" y=\"34.9375\"/><rect fill=\"none\" height=\"110\" id=\"E1\" rx=\"10\" ry=\"10\" style=\"stroke: #A80036; stroke-width: 1.5;\" width=\"118\" x=\"7\" y=\"7\"/><text fill=\"#000000\" font-family=\"sans-serif\" font-size=\"12\" font-style=\"italic\" lengthAdjust=\"spacingAndGlyphs\" textLength=\"53\" x=\"39.5\" y=\"23.1387\">«action»</text><text fill=\"#000000\" font-family=\"sans-serif\" font-size=\"12\" lengthAdjust=\"spacingAndGlyphs\" textLength=\"8\" x=\"62\" y=\"37.1074\">a</text><line style=\"stroke: #A80036; stroke-width: 1.0;\" x1=\"7\" x2=\"125\" y1=\"44.9375\" y2=\"44.9375\"/></a><g id=\"E1.E2\"><a href=\"psysml:a720e092-6bcd-479c-a1ff-52104ff4d712\" target=\"_top\" title=\"psysml:a720e092-6bcd-479c-a1ff-52104ff4d712\" xlink:actuate=\"onRequest\" xlink:href=\"psysml:a720e092-6bcd-479c-a1ff-52104ff4d712\" xlink:show=\"new\" xlink:title=\"psysml:a720e092-6bcd-479c-a1ff-52104ff4d712\" xlink:type=\"simple\"><rect fill=\"#FEFECE\" filter=\"url(#f1jjy3wjqh13wn)\" height=\"42.9375\" id=\"E2\" rx=\"10\" ry=\"10\" style=\"stroke: #A80036; stroke-width: 1.5;\" width=\"86\" x=\"23\" y=\"58\"/><ellipse cx=\"40.25\" cy=\"76.9688\" fill=\"#FFA500\" rx=\"11\" ry=\"11\" style=\"stroke: #A80036; stroke-width: 1.0;\"/><path d=\"M36.125,78.8906 L36.125,71.0781 L38.5781,71.0781 L38.5781,79.5156 Q38.5781,80.4375 39.0469,80.9688 Q39.5313,81.5 40.3594,81.5 Q41.2031,81.5 41.6719,80.9688 Q42.1406,80.4375 42.1406,79.5156 L42.1406,71.0781 L44.5938,71.0781 L44.5938,78.8906 Q44.5938,81.4219 43.5938,82.5625 Q42.5938,83.7031 40.3594,83.7031 Q38.1406,83.7031 37.125,82.5625 Q36.125,81.4219 36.125,78.8906 Z \"/><text fill=\"#000000\" font-family=\"sans-serif\" font-size=\"12\" font-style=\"italic\" lengthAdjust=\"spacingAndGlyphs\" textLength=\"53\" x=\"52.75\" y=\"74.1387\">«action»</text><text fill=\"#000000\" font-family=\"sans-serif\" font-size=\"12\" lengthAdjust=\"spacingAndGlyphs\" textLength=\"30\" x=\"64.25\" y=\"88.1074\">start</text></a></g><!--MD5=[b645fcb33ba943cf82655e470b5d498c]\n",
       "@startuml\r\n",
       "skinparam ranksep 8\r\n",
       " \r\n",
       "rec usage \"a\" as E1  <<(U,orange)action>> [[psysml:1bfaea47-077a-4258-abab-849ce06009df ]] {\r\n",
       "rec usage \"start\" as E2  <<(U,orange)action>> [[psysml:a720e092-6bcd-479c-a1ff-52104ff4d712 ]] {\r\n",
       "}\r\n",
       "\r\n",
       "}\r\n",
       "\r\n",
       "@enduml\r\n",
       "\n",
       "PlantUML version 1.2020.13(Sat Jun 13 12:26:38 UTC 2020)\n",
       "(EPL source distribution)\n",
       "Java Runtime: OpenJDK Runtime Environment\n",
       "JVM: OpenJDK 64-Bit Server VM\n",
       "Default Encoding: UTF-8\n",
       "Language: en\n",
       "Country: null\n",
       "--></g></svg>"
      ]
     },
     "execution_count": 34,
     "metadata": {},
     "output_type": "execute_result"
    }
   ],
   "source": [
    "%viz --style=\"PLANTUML\" --view=\"Action\" \"ActionTest\""
   ]
  },
  {
   "cell_type": "code",
   "execution_count": 35,
   "id": "nasty-chicken",
   "metadata": {
    "execution": {
     "iopub.execute_input": "2021-03-25T13:17:16.125642Z",
     "iopub.status.busy": "2021-03-25T13:17:16.124806Z",
     "iopub.status.idle": "2021-03-25T13:17:16.598996Z",
     "shell.execute_reply": "2021-03-25T13:17:16.598668Z"
    }
   },
   "outputs": [
    {
     "data": {
      "image/svg+xml": [
       "<?xml version=\"1.0\" encoding=\"UTF-8\" standalone=\"no\"?><svg xmlns=\"http://www.w3.org/2000/svg\" xmlns:xlink=\"http://www.w3.org/1999/xlink\" contentScriptType=\"application/ecmascript\" contentStyleType=\"text/css\" height=\"157px\" preserveAspectRatio=\"none\" style=\"width:230px;height:157px;\" version=\"1.1\" viewBox=\"0 0 230 157\" width=\"230px\" zoomAndPan=\"magnify\"><defs><filter height=\"300%\" id=\"f12a9rnzywf655\" width=\"300%\" x=\"-1\" y=\"-1\"><feGaussianBlur result=\"blurOut\" stdDeviation=\"2.0\"/><feColorMatrix in=\"blurOut\" result=\"blurOut2\" type=\"matrix\" values=\"0 0 0 0 0 0 0 0 0 0 0 0 0 0 0 0 0 0 .4 0\"/><feOffset dx=\"4.0\" dy=\"4.0\" in=\"blurOut2\" result=\"blurOut3\"/><feBlend in=\"SourceGraphic\" in2=\"blurOut3\" mode=\"normal\"/></filter></defs><g><!--MD5=[fbc87193dbaf4d95561dea2c320d4a47]\n",
       "cluster E1--><a href=\"psysml:7d27680f-a8ad-4796-902f-be0a7d0ccba0\" target=\"_top\" title=\"psysml:7d27680f-a8ad-4796-902f-be0a7d0ccba0\" xlink:actuate=\"onRequest\" xlink:href=\"psysml:7d27680f-a8ad-4796-902f-be0a7d0ccba0\" xlink:show=\"new\" xlink:title=\"psysml:7d27680f-a8ad-4796-902f-be0a7d0ccba0\" xlink:type=\"simple\"><polygon fill=\"#FFFFFF\" filter=\"url(#f12a9rnzywf655)\" points=\"16,6,107,6,114,28.2969,208,28.2969,208,145,16,145,16,6\" style=\"stroke: #000000; stroke-width: 1.5;\"/><line style=\"stroke: #000000; stroke-width: 1.5;\" x1=\"16\" x2=\"114\" y1=\"28.2969\" y2=\"28.2969\"/><text fill=\"#000000\" font-family=\"sans-serif\" font-size=\"14\" font-weight=\"bold\" lengthAdjust=\"spacingAndGlyphs\" textLength=\"85\" x=\"20\" y=\"20.9951\">ActionTest</text></a><!--MD5=[b4997ac47864f28c2f74865a473b2911]\n",
       "class E2--><a href=\"psysml:1bfaea47-077a-4258-abab-849ce06009df\" target=\"_top\" title=\"psysml:1bfaea47-077a-4258-abab-849ce06009df\" xlink:actuate=\"onRequest\" xlink:href=\"psysml:1bfaea47-077a-4258-abab-849ce06009df\" xlink:show=\"new\" xlink:title=\"psysml:1bfaea47-077a-4258-abab-849ce06009df\" xlink:type=\"simple\"><rect fill=\"#FEFECE\" filter=\"url(#f12a9rnzywf655)\" height=\"88.3516\" id=\"E2\" rx=\"10\" ry=\"10\" style=\"stroke: #A80036; stroke-width: 1.5;\" width=\"160\" x=\"32\" y=\"41\"/><ellipse cx=\"83.25\" cy=\"59.9688\" fill=\"#FFA500\" rx=\"11\" ry=\"11\" style=\"stroke: #A80036; stroke-width: 1.0;\"/><path d=\"M79.125,61.8906 L79.125,54.0781 L81.5781,54.0781 L81.5781,62.5156 Q81.5781,63.4375 82.0469,63.9688 Q82.5313,64.5 83.3594,64.5 Q84.2031,64.5 84.6719,63.9688 Q85.1406,63.4375 85.1406,62.5156 L85.1406,54.0781 L87.5938,54.0781 L87.5938,61.8906 Q87.5938,64.4219 86.5938,65.5625 Q85.5938,66.7031 83.3594,66.7031 Q81.1406,66.7031 80.125,65.5625 Q79.125,64.4219 79.125,61.8906 Z \"/><text fill=\"#000000\" font-family=\"sans-serif\" font-size=\"12\" font-style=\"italic\" lengthAdjust=\"spacingAndGlyphs\" textLength=\"53\" x=\"101.75\" y=\"57.1387\">«action»</text><text fill=\"#000000\" font-family=\"sans-serif\" font-size=\"12\" lengthAdjust=\"spacingAndGlyphs\" textLength=\"8\" x=\"124.25\" y=\"71.1074\">a</text><line style=\"stroke: #A80036; stroke-width: 1.5;\" x1=\"33\" x2=\"191\" y1=\"78.9375\" y2=\"78.9375\"/><text fill=\"#000000\" font-family=\"sans-serif\" font-size=\"11\" lengthAdjust=\"spacingAndGlyphs\" textLength=\"69\" x=\"38\" y=\"109.9526\">start: Action</text><text fill=\"#000000\" font-family=\"sans-serif\" font-size=\"11\" font-style=\"italic\" lengthAdjust=\"spacingAndGlyphs\" textLength=\"148\" x=\"38\" y=\"122.7573\">:&gt;&gt;Occurrence::startShot</text><line style=\"stroke: #A80036; stroke-width: 1.0;\" x1=\"33\" x2=\"91.5\" y1=\"93.3398\" y2=\"93.3398\"/><text fill=\"#000000\" font-family=\"sans-serif\" font-size=\"11\" lengthAdjust=\"spacingAndGlyphs\" textLength=\"41\" x=\"91.5\" y=\"96.6479\">actions</text><line style=\"stroke: #A80036; stroke-width: 1.0;\" x1=\"132.5\" x2=\"191\" y1=\"93.3398\" y2=\"93.3398\"/></a><!--MD5=[27cac80484adb6d194159759c4003531]\n",
       "@startuml\r\n",
       " \r\n",
       "package \"ActionTest\" as E1  [[psysml:7d27680f-a8ad-4796-902f-be0a7d0ccba0 ]]  {\r\n",
       "comp usage \"a\" as E2  <<(U,orange)action>> [[psysml:1bfaea47-077a-4258-abab-849ce06009df ]] {\r\n",
       "- - actions - -\r\n",
       "start: Action\\n//:>>Occurrence::startShot// \r\n",
       "}\r\n",
       "}\r\n",
       "@enduml\r\n",
       "\n",
       "PlantUML version 1.2020.13(Sat Jun 13 12:26:38 UTC 2020)\n",
       "(EPL source distribution)\n",
       "Java Runtime: OpenJDK Runtime Environment\n",
       "JVM: OpenJDK 64-Bit Server VM\n",
       "Default Encoding: UTF-8\n",
       "Language: en\n",
       "Country: null\n",
       "--></g></svg>"
      ]
     },
     "execution_count": 35,
     "metadata": {},
     "output_type": "execute_result"
    }
   ],
   "source": [
    "%viz --style=\"PLANTUML\" --view=\"Sequence\" \"ActionTest\""
   ]
  },
  {
   "cell_type": "code",
   "execution_count": 36,
   "id": "white-johnson",
   "metadata": {
    "execution": {
     "iopub.execute_input": "2021-03-25T13:17:16.649204Z",
     "iopub.status.busy": "2021-03-25T13:17:16.648829Z",
     "iopub.status.idle": "2021-03-25T13:17:16.705849Z",
     "shell.execute_reply": "2021-03-25T13:17:16.705456Z"
    }
   },
   "outputs": [
    {
     "data": {
      "image/svg+xml": [
       "<?xml version=\"1.0\" encoding=\"UTF-8\" standalone=\"no\"?><svg xmlns=\"http://www.w3.org/2000/svg\" xmlns:xlink=\"http://www.w3.org/1999/xlink\" contentScriptType=\"application/ecmascript\" contentStyleType=\"text/css\" height=\"195px\" preserveAspectRatio=\"none\" style=\"width:204px;height:195px;\" version=\"1.1\" viewBox=\"0 0 204 195\" width=\"204px\" zoomAndPan=\"magnify\"><defs><filter height=\"300%\" id=\"fuygfkkrd8ch1\" width=\"300%\" x=\"-1\" y=\"-1\"><feGaussianBlur result=\"blurOut\" stdDeviation=\"2.0\"/><feColorMatrix in=\"blurOut\" result=\"blurOut2\" type=\"matrix\" values=\"0 0 0 0 0 0 0 0 0 0 0 0 0 0 0 0 0 0 .4 0\"/><feOffset dx=\"4.0\" dy=\"4.0\" in=\"blurOut2\" result=\"blurOut3\"/><feBlend in=\"SourceGraphic\" in2=\"blurOut3\" mode=\"normal\"/></filter></defs><g><!--MD5=[fbc87193dbaf4d95561dea2c320d4a47]\n",
       "cluster E1--><a href=\"psysml:7d27680f-a8ad-4796-902f-be0a7d0ccba0\" target=\"_top\" title=\"psysml:7d27680f-a8ad-4796-902f-be0a7d0ccba0\" xlink:actuate=\"onRequest\" xlink:href=\"psysml:7d27680f-a8ad-4796-902f-be0a7d0ccba0\" xlink:show=\"new\" xlink:title=\"psysml:7d27680f-a8ad-4796-902f-be0a7d0ccba0\" xlink:type=\"simple\"><polygon fill=\"#FFFFFF\" filter=\"url(#fuygfkkrd8ch1)\" points=\"16,6,107,6,114,28.2969,182,28.2969,182,183,16,183,16,6\" style=\"stroke: #000000; stroke-width: 1.5;\"/><line style=\"stroke: #000000; stroke-width: 1.5;\" x1=\"16\" x2=\"114\" y1=\"28.2969\" y2=\"28.2969\"/><text fill=\"#000000\" font-family=\"sans-serif\" font-size=\"14\" font-weight=\"bold\" lengthAdjust=\"spacingAndGlyphs\" textLength=\"85\" x=\"20\" y=\"20.9951\">ActionTest</text></a><!--MD5=[e4f7fae6ed58524ba242bb0b0d3be6b7]\n",
       "cluster E2--><a href=\"psysml:1bfaea47-077a-4258-abab-849ce06009df\" target=\"_top\" title=\"psysml:1bfaea47-077a-4258-abab-849ce06009df\" xlink:actuate=\"onRequest\" xlink:href=\"psysml:1bfaea47-077a-4258-abab-849ce06009df\" xlink:show=\"new\" xlink:title=\"psysml:1bfaea47-077a-4258-abab-849ce06009df\" xlink:type=\"simple\"><rect fill=\"#FFFFFF\" filter=\"url(#fuygfkkrd8ch1)\" height=\"110\" id=\"E2\" rx=\"10\" ry=\"10\" style=\"stroke: #A80036; stroke-width: 1.5;\" width=\"118\" x=\"40\" y=\"49\"/><rect fill=\"#FEFECE\" height=\"37.9375\" rx=\"10\" ry=\"10\" style=\"stroke: #FEFECE; stroke-width: 1.5;\" width=\"118\" x=\"40\" y=\"49\"/><rect fill=\"#FEFECE\" height=\"10\" style=\"stroke: #FEFECE; stroke-width: 1.5;\" width=\"118\" x=\"40\" y=\"76.9375\"/><rect fill=\"none\" height=\"110\" id=\"E2\" rx=\"10\" ry=\"10\" style=\"stroke: #A80036; stroke-width: 1.5;\" width=\"118\" x=\"40\" y=\"49\"/><text fill=\"#000000\" font-family=\"sans-serif\" font-size=\"12\" font-style=\"italic\" lengthAdjust=\"spacingAndGlyphs\" textLength=\"53\" x=\"72.5\" y=\"65.1387\">«action»</text><text fill=\"#000000\" font-family=\"sans-serif\" font-size=\"12\" lengthAdjust=\"spacingAndGlyphs\" textLength=\"8\" x=\"95\" y=\"79.1074\">a</text><line style=\"stroke: #A80036; stroke-width: 1.0;\" x1=\"40\" x2=\"158\" y1=\"86.9375\" y2=\"86.9375\"/></a><g id=\"E1.E2.E3\"><a href=\"psysml:a720e092-6bcd-479c-a1ff-52104ff4d712\" target=\"_top\" title=\"psysml:a720e092-6bcd-479c-a1ff-52104ff4d712\" xlink:actuate=\"onRequest\" xlink:href=\"psysml:a720e092-6bcd-479c-a1ff-52104ff4d712\" xlink:show=\"new\" xlink:title=\"psysml:a720e092-6bcd-479c-a1ff-52104ff4d712\" xlink:type=\"simple\"><rect fill=\"#FEFECE\" filter=\"url(#fuygfkkrd8ch1)\" height=\"42.9375\" id=\"E3\" rx=\"10\" ry=\"10\" style=\"stroke: #A80036; stroke-width: 1.5;\" width=\"86\" x=\"56\" y=\"100\"/><ellipse cx=\"73.25\" cy=\"118.9688\" fill=\"#FFA500\" rx=\"11\" ry=\"11\" style=\"stroke: #A80036; stroke-width: 1.0;\"/><path d=\"M69.125,120.8906 L69.125,113.0781 L71.5781,113.0781 L71.5781,121.5156 Q71.5781,122.4375 72.0469,122.9688 Q72.5313,123.5 73.3594,123.5 Q74.2031,123.5 74.6719,122.9688 Q75.1406,122.4375 75.1406,121.5156 L75.1406,113.0781 L77.5938,113.0781 L77.5938,120.8906 Q77.5938,123.4219 76.5938,124.5625 Q75.5938,125.7031 73.3594,125.7031 Q71.1406,125.7031 70.125,124.5625 Q69.125,123.4219 69.125,120.8906 Z \"/><text fill=\"#000000\" font-family=\"sans-serif\" font-size=\"12\" font-style=\"italic\" lengthAdjust=\"spacingAndGlyphs\" textLength=\"53\" x=\"85.75\" y=\"116.1387\">«action»</text><text fill=\"#000000\" font-family=\"sans-serif\" font-size=\"12\" lengthAdjust=\"spacingAndGlyphs\" textLength=\"30\" x=\"97.25\" y=\"130.1074\">start</text></a></g><!--MD5=[52f021b4a346181b40425d332cd16652]\n",
       "@startuml\r\n",
       " \r\n",
       "package \"ActionTest\" as E1  [[psysml:7d27680f-a8ad-4796-902f-be0a7d0ccba0 ]]  {\r\n",
       "rec usage \"a\" as E2  <<(U,orange)action>> [[psysml:1bfaea47-077a-4258-abab-849ce06009df ]] {\r\n",
       "rec usage \"start\" as E3  <<(U,orange)action>> [[psysml:a720e092-6bcd-479c-a1ff-52104ff4d712 ]] {\r\n",
       "}\r\n",
       "\r\n",
       "}\r\n",
       "\r\n",
       "}\r\n",
       "@enduml\r\n",
       "\n",
       "PlantUML version 1.2020.13(Sat Jun 13 12:26:38 UTC 2020)\n",
       "(EPL source distribution)\n",
       "Java Runtime: OpenJDK Runtime Environment\n",
       "JVM: OpenJDK 64-Bit Server VM\n",
       "Default Encoding: UTF-8\n",
       "Language: en\n",
       "Country: null\n",
       "--></g></svg>"
      ]
     },
     "execution_count": 36,
     "metadata": {},
     "output_type": "execute_result"
    }
   ],
   "source": [
    "%viz --style=\"PLANTUML\" --view=\"MIXED\" \"ActionTest\""
   ]
  },
  {
   "cell_type": "code",
   "execution_count": 37,
   "id": "executive-apple",
   "metadata": {
    "execution": {
     "iopub.execute_input": "2021-03-25T13:17:16.755293Z",
     "iopub.status.busy": "2021-03-25T13:17:16.754241Z",
     "iopub.status.idle": "2021-03-25T13:17:16.814286Z",
     "shell.execute_reply": "2021-03-25T13:17:16.814698Z"
    }
   },
   "outputs": [
    {
     "data": {
      "image/svg+xml": [
       "<?xml version=\"1.0\" encoding=\"UTF-8\" standalone=\"no\"?><svg xmlns=\"http://www.w3.org/2000/svg\" xmlns:xlink=\"http://www.w3.org/1999/xlink\" contentScriptType=\"application/ecmascript\" contentStyleType=\"text/css\" height=\"195px\" preserveAspectRatio=\"none\" style=\"width:178px;height:195px;\" version=\"1.1\" viewBox=\"0 0 178 195\" width=\"178px\" zoomAndPan=\"magnify\"><defs/><g><!--MD5=[fbc87193dbaf4d95561dea2c320d4a47]\n",
       "cluster E1--><a href=\"psysml:7d27680f-a8ad-4796-902f-be0a7d0ccba0\" target=\"_top\" title=\"psysml:7d27680f-a8ad-4796-902f-be0a7d0ccba0\" xlink:actuate=\"onRequest\" xlink:href=\"psysml:7d27680f-a8ad-4796-902f-be0a7d0ccba0\" xlink:show=\"new\" xlink:title=\"psysml:7d27680f-a8ad-4796-902f-be0a7d0ccba0\" xlink:type=\"simple\"><polygon fill=\"#FFFFFF\" points=\"16,6,107,6,114,28.2969,156,28.2969,156,183,16,183,16,6\" style=\"stroke: #000000; stroke-width: 1.5;\"/><line style=\"stroke: #000000; stroke-width: 1.5;\" x1=\"16\" x2=\"114\" y1=\"28.2969\" y2=\"28.2969\"/><text fill=\"#000000\" font-family=\"sans-serif\" font-size=\"14\" font-weight=\"bold\" lengthAdjust=\"spacingAndGlyphs\" textLength=\"85\" x=\"20\" y=\"20.9951\">ActionTest</text></a><!--MD5=[e4f7fae6ed58524ba242bb0b0d3be6b7]\n",
       "cluster E2--><a href=\"psysml:1bfaea47-077a-4258-abab-849ce06009df\" target=\"_top\" title=\"psysml:1bfaea47-077a-4258-abab-849ce06009df\" xlink:actuate=\"onRequest\" xlink:href=\"psysml:1bfaea47-077a-4258-abab-849ce06009df\" xlink:show=\"new\" xlink:title=\"psysml:1bfaea47-077a-4258-abab-849ce06009df\" xlink:type=\"simple\"><rect fill=\"#FFFFFF\" height=\"110\" id=\"E2\" rx=\"10\" ry=\"10\" style=\"stroke: #383838; stroke-width: 1.5;\" width=\"92\" x=\"40\" y=\"49\"/><rect fill=\"#F8F8F8\" height=\"37.9375\" rx=\"10\" ry=\"10\" style=\"stroke: #F8F8F8; stroke-width: 1.5;\" width=\"92\" x=\"40\" y=\"49\"/><rect fill=\"#F8F8F8\" height=\"10\" style=\"stroke: #F8F8F8; stroke-width: 1.5;\" width=\"92\" x=\"40\" y=\"76.9375\"/><rect fill=\"none\" height=\"110\" id=\"E2\" rx=\"10\" ry=\"10\" style=\"stroke: #383838; stroke-width: 1.5;\" width=\"92\" x=\"40\" y=\"49\"/><text fill=\"#000000\" font-family=\"sans-serif\" font-size=\"12\" font-style=\"italic\" lengthAdjust=\"spacingAndGlyphs\" textLength=\"53\" x=\"59.5\" y=\"65.1387\">«action»</text><text fill=\"#000000\" font-family=\"sans-serif\" font-size=\"12\" lengthAdjust=\"spacingAndGlyphs\" textLength=\"8\" x=\"82\" y=\"79.1074\">a</text><line style=\"stroke: #383838; stroke-width: 1.0;\" x1=\"40\" x2=\"132\" y1=\"86.9375\" y2=\"86.9375\"/></a><g id=\"E1.E2.E3\"><a href=\"psysml:a720e092-6bcd-479c-a1ff-52104ff4d712\" target=\"_top\" title=\"psysml:a720e092-6bcd-479c-a1ff-52104ff4d712\" xlink:actuate=\"onRequest\" xlink:href=\"psysml:a720e092-6bcd-479c-a1ff-52104ff4d712\" xlink:show=\"new\" xlink:title=\"psysml:a720e092-6bcd-479c-a1ff-52104ff4d712\" xlink:type=\"simple\"><rect fill=\"#FFFFFF\" height=\"42.9375\" id=\"E3\" rx=\"10\" ry=\"10\" style=\"stroke: #383838; stroke-width: 1.5;\" width=\"60\" x=\"56\" y=\"100\"/><rect fill=\"#F8F8F8\" height=\"37.9375\" rx=\"10\" ry=\"10\" style=\"stroke: #F8F8F8; stroke-width: 1.5;\" width=\"60\" x=\"56\" y=\"100\"/><rect fill=\"#F8F8F8\" height=\"10\" style=\"stroke: #F8F8F8; stroke-width: 1.5;\" width=\"60\" x=\"56\" y=\"127.9375\"/><rect fill=\"none\" height=\"42.9375\" id=\"E3\" rx=\"10\" ry=\"10\" style=\"stroke: #383838; stroke-width: 1.5;\" width=\"60\" x=\"56\" y=\"100\"/><text fill=\"#000000\" font-family=\"sans-serif\" font-size=\"12\" font-style=\"italic\" lengthAdjust=\"spacingAndGlyphs\" textLength=\"53\" x=\"59.5\" y=\"116.1387\">«action»</text><text fill=\"#000000\" font-family=\"sans-serif\" font-size=\"12\" lengthAdjust=\"spacingAndGlyphs\" textLength=\"30\" x=\"71\" y=\"130.1074\">start</text></a></g><!--MD5=[df62825fd4848ab8f98dff57e5cb5bfc]\n",
       "@startuml\r\n",
       "skinparam monochrome true\r\n",
       "skinparam classbackgroundcolor white\r\n",
       "skinparam shadowing false\r\n",
       "skinparam wrapWidth 300\r\n",
       "hide circle\r\n",
       "\r\n",
       "package \"ActionTest\" as E1  [[psysml:7d27680f-a8ad-4796-902f-be0a7d0ccba0 ]]  {\r\n",
       "rec usage \"a\" as E2  <<(T,blue)action>> [[psysml:1bfaea47-077a-4258-abab-849ce06009df ]] {\r\n",
       "rec usage \"start\" as E3  <<(T,blue)action>> [[psysml:a720e092-6bcd-479c-a1ff-52104ff4d712 ]] {\r\n",
       "}\r\n",
       "\r\n",
       "}\r\n",
       "\r\n",
       "}\r\n",
       "@enduml\r\n",
       "\n",
       "PlantUML version 1.2020.13(Sat Jun 13 12:26:38 UTC 2020)\n",
       "(EPL source distribution)\n",
       "Java Runtime: OpenJDK Runtime Environment\n",
       "JVM: OpenJDK 64-Bit Server VM\n",
       "Default Encoding: UTF-8\n",
       "Language: en\n",
       "Country: null\n",
       "--></g></svg>"
      ]
     },
     "execution_count": 37,
     "metadata": {},
     "output_type": "execute_result"
    }
   ],
   "source": [
    "%viz --style=\"DEFAULT\" --view=\"Default\" \"ActionTest\""
   ]
  },
  {
   "cell_type": "code",
   "execution_count": 38,
   "id": "eleven-stable",
   "metadata": {
    "execution": {
     "iopub.execute_input": "2021-03-25T13:17:16.883371Z",
     "iopub.status.busy": "2021-03-25T13:17:16.882761Z",
     "iopub.status.idle": "2021-03-25T13:17:17.383061Z",
     "shell.execute_reply": "2021-03-25T13:17:17.382164Z"
    }
   },
   "outputs": [
    {
     "data": {
      "image/svg+xml": [
       "<?xml version=\"1.0\" encoding=\"UTF-8\" standalone=\"no\"?><svg xmlns=\"http://www.w3.org/2000/svg\" xmlns:xlink=\"http://www.w3.org/1999/xlink\" contentScriptType=\"application/ecmascript\" contentStyleType=\"text/css\" height=\"157px\" preserveAspectRatio=\"none\" style=\"width:230px;height:157px;\" version=\"1.1\" viewBox=\"0 0 230 157\" width=\"230px\" zoomAndPan=\"magnify\"><defs/><g><!--MD5=[fbc87193dbaf4d95561dea2c320d4a47]\n",
       "cluster E1--><a href=\"psysml:7d27680f-a8ad-4796-902f-be0a7d0ccba0\" target=\"_top\" title=\"psysml:7d27680f-a8ad-4796-902f-be0a7d0ccba0\" xlink:actuate=\"onRequest\" xlink:href=\"psysml:7d27680f-a8ad-4796-902f-be0a7d0ccba0\" xlink:show=\"new\" xlink:title=\"psysml:7d27680f-a8ad-4796-902f-be0a7d0ccba0\" xlink:type=\"simple\"><polygon fill=\"#FFFFFF\" points=\"16,6,107,6,114,28.2969,208,28.2969,208,145,16,145,16,6\" style=\"stroke: #000000; stroke-width: 1.5;\"/><line style=\"stroke: #000000; stroke-width: 1.5;\" x1=\"16\" x2=\"114\" y1=\"28.2969\" y2=\"28.2969\"/><text fill=\"#000000\" font-family=\"sans-serif\" font-size=\"14\" font-weight=\"bold\" lengthAdjust=\"spacingAndGlyphs\" textLength=\"85\" x=\"20\" y=\"20.9951\">ActionTest</text></a><!--MD5=[b4997ac47864f28c2f74865a473b2911]\n",
       "class E2--><a href=\"psysml:1bfaea47-077a-4258-abab-849ce06009df\" target=\"_top\" title=\"psysml:1bfaea47-077a-4258-abab-849ce06009df\" xlink:actuate=\"onRequest\" xlink:href=\"psysml:1bfaea47-077a-4258-abab-849ce06009df\" xlink:show=\"new\" xlink:title=\"psysml:1bfaea47-077a-4258-abab-849ce06009df\" xlink:type=\"simple\"><rect fill=\"#FFFFFF\" height=\"88.3516\" id=\"E2\" rx=\"10\" ry=\"10\" style=\"stroke: #383838; stroke-width: 1.5;\" width=\"160\" x=\"32\" y=\"41\"/><text fill=\"#000000\" font-family=\"sans-serif\" font-size=\"12\" font-style=\"italic\" lengthAdjust=\"spacingAndGlyphs\" textLength=\"53\" x=\"85.5\" y=\"57.1387\">«action»</text><text fill=\"#000000\" font-family=\"sans-serif\" font-size=\"12\" lengthAdjust=\"spacingAndGlyphs\" textLength=\"8\" x=\"108\" y=\"71.1074\">a</text><line style=\"stroke: #383838; stroke-width: 1.5;\" x1=\"33\" x2=\"191\" y1=\"78.9375\" y2=\"78.9375\"/><text fill=\"#000000\" font-family=\"sans-serif\" font-size=\"11\" lengthAdjust=\"spacingAndGlyphs\" textLength=\"69\" x=\"38\" y=\"109.9526\">start: Action</text><text fill=\"#000000\" font-family=\"sans-serif\" font-size=\"11\" font-style=\"italic\" lengthAdjust=\"spacingAndGlyphs\" textLength=\"148\" x=\"38\" y=\"122.7573\">:&gt;&gt;Occurrence::startShot</text><line style=\"stroke: #383838; stroke-width: 1.0;\" x1=\"33\" x2=\"91.5\" y1=\"93.3398\" y2=\"93.3398\"/><text fill=\"#000000\" font-family=\"sans-serif\" font-size=\"11\" lengthAdjust=\"spacingAndGlyphs\" textLength=\"41\" x=\"91.5\" y=\"96.6479\">actions</text><line style=\"stroke: #383838; stroke-width: 1.0;\" x1=\"132.5\" x2=\"191\" y1=\"93.3398\" y2=\"93.3398\"/></a><!--MD5=[d8cd257788664c4b2fb247e1742c5cc5]\n",
       "@startuml\r\n",
       "skinparam monochrome true\r\n",
       "skinparam classbackgroundcolor white\r\n",
       "skinparam shadowing false\r\n",
       "skinparam wrapWidth 300\r\n",
       "hide circle\r\n",
       "\r\n",
       "package \"ActionTest\" as E1  [[psysml:7d27680f-a8ad-4796-902f-be0a7d0ccba0 ]]  {\r\n",
       "comp usage \"a\" as E2  <<(T,blue)action>> [[psysml:1bfaea47-077a-4258-abab-849ce06009df ]] {\r\n",
       "- - actions - -\r\n",
       "start: Action\\n//:>>Occurrence::startShot// \r\n",
       "}\r\n",
       "}\r\n",
       "@enduml\r\n",
       "\n",
       "PlantUML version 1.2020.13(Sat Jun 13 12:26:38 UTC 2020)\n",
       "(EPL source distribution)\n",
       "Java Runtime: OpenJDK Runtime Environment\n",
       "JVM: OpenJDK 64-Bit Server VM\n",
       "Default Encoding: UTF-8\n",
       "Language: en\n",
       "Country: null\n",
       "--></g></svg>"
      ]
     },
     "execution_count": 38,
     "metadata": {},
     "output_type": "execute_result"
    }
   ],
   "source": [
    "%viz --style=\"DEFAULT\" --view=\"Tree\" \"ActionTest\""
   ]
  },
  {
   "cell_type": "code",
   "execution_count": 39,
   "id": "floppy-marshall",
   "metadata": {
    "execution": {
     "iopub.execute_input": "2021-03-25T13:17:17.435991Z",
     "iopub.status.busy": "2021-03-25T13:17:17.434390Z",
     "iopub.status.idle": "2021-03-25T13:17:17.448248Z",
     "shell.execute_reply": "2021-03-25T13:17:17.447814Z"
    }
   },
   "outputs": [
    {
     "data": {
      "image/svg+xml": [
       "<?xml version=\"1.0\" encoding=\"UTF-8\" standalone=\"no\"?><svg xmlns=\"http://www.w3.org/2000/svg\" xmlns:xlink=\"http://www.w3.org/1999/xlink\" contentScriptType=\"application/ecmascript\" contentStyleType=\"text/css\" height=\"12px\" preserveAspectRatio=\"none\" style=\"width:12px;height:12px;\" version=\"1.1\" viewBox=\"0 0 12 12\" width=\"12px\" zoomAndPan=\"magnify\"><defs/><g><!--MD5=[c5f280e076d0d61ccf4b0f27871bda1d]\n",
       "@startuml\r\n",
       "skinparam monochrome true\r\n",
       "skinparam classbackgroundcolor white\r\n",
       "skinparam shadowing false\r\n",
       "skinparam wrapWidth 300\r\n",
       "hide circle\r\n",
       "\r\n",
       "@enduml\r\n",
       "\n",
       "PlantUML version 1.2020.13(Sat Jun 13 12:26:38 UTC 2020)\n",
       "(EPL source distribution)\n",
       "Java Runtime: OpenJDK Runtime Environment\n",
       "JVM: OpenJDK 64-Bit Server VM\n",
       "Default Encoding: UTF-8\n",
       "Language: en\n",
       "Country: null\n",
       "--></g></svg>"
      ]
     },
     "execution_count": 39,
     "metadata": {},
     "output_type": "execute_result"
    }
   ],
   "source": [
    "%viz --style=\"DEFAULT\" --view=\"State\" \"ActionTest\""
   ]
  },
  {
   "cell_type": "code",
   "execution_count": 40,
   "id": "current-congress",
   "metadata": {
    "execution": {
     "iopub.execute_input": "2021-03-25T13:17:17.499132Z",
     "iopub.status.busy": "2021-03-25T13:17:17.498581Z",
     "iopub.status.idle": "2021-03-25T13:17:17.609091Z",
     "shell.execute_reply": "2021-03-25T13:17:17.608702Z"
    }
   },
   "outputs": [
    {
     "data": {
      "image/svg+xml": [
       "<?xml version=\"1.0\" encoding=\"UTF-8\" standalone=\"no\"?><svg xmlns=\"http://www.w3.org/2000/svg\" xmlns:xlink=\"http://www.w3.org/1999/xlink\" contentScriptType=\"application/ecmascript\" contentStyleType=\"text/css\" height=\"209px\" preserveAspectRatio=\"none\" style=\"width:296px;height:209px;\" version=\"1.1\" viewBox=\"0 0 296 209\" width=\"296px\" zoomAndPan=\"magnify\"><defs/><g><!--MD5=[fbc87193dbaf4d95561dea2c320d4a47]\n",
       "cluster E1--><a href=\"psysml:7d27680f-a8ad-4796-902f-be0a7d0ccba0\" target=\"_top\" title=\"psysml:7d27680f-a8ad-4796-902f-be0a7d0ccba0\" xlink:actuate=\"onRequest\" xlink:href=\"psysml:7d27680f-a8ad-4796-902f-be0a7d0ccba0\" xlink:show=\"new\" xlink:title=\"psysml:7d27680f-a8ad-4796-902f-be0a7d0ccba0\" xlink:type=\"simple\"><polygon fill=\"#FFFFFF\" points=\"16,6,107,6,114,28.2969,274,28.2969,274,197,16,197,16,6\" style=\"stroke: #000000; stroke-width: 1.5;\"/><line style=\"stroke: #000000; stroke-width: 1.5;\" x1=\"16\" x2=\"114\" y1=\"28.2969\" y2=\"28.2969\"/><text fill=\"#000000\" font-family=\"sans-serif\" font-size=\"14\" font-weight=\"bold\" lengthAdjust=\"spacingAndGlyphs\" textLength=\"85\" x=\"20\" y=\"20.9951\">ActionTest</text></a><!--MD5=[e4f7fae6ed58524ba242bb0b0d3be6b7]\n",
       "cluster E2--><a href=\"psysml:1bfaea47-077a-4258-abab-849ce06009df\" target=\"_top\" title=\"psysml:1bfaea47-077a-4258-abab-849ce06009df\" xlink:actuate=\"onRequest\" xlink:href=\"psysml:1bfaea47-077a-4258-abab-849ce06009df\" xlink:show=\"new\" xlink:title=\"psysml:1bfaea47-077a-4258-abab-849ce06009df\" xlink:type=\"simple\"><rect fill=\"#FFFFFF\" height=\"124\" id=\"E2\" rx=\"10\" ry=\"10\" style=\"stroke: #383838; stroke-width: 1.5;\" width=\"210\" x=\"40\" y=\"49\"/><rect fill=\"#F8F8F8\" height=\"37.9375\" rx=\"10\" ry=\"10\" style=\"stroke: #F8F8F8; stroke-width: 1.5;\" width=\"210\" x=\"40\" y=\"49\"/><rect fill=\"#F8F8F8\" height=\"10\" style=\"stroke: #F8F8F8; stroke-width: 1.5;\" width=\"210\" x=\"40\" y=\"76.9375\"/><rect fill=\"none\" height=\"124\" id=\"E2\" rx=\"10\" ry=\"10\" style=\"stroke: #383838; stroke-width: 1.5;\" width=\"210\" x=\"40\" y=\"49\"/><text fill=\"#000000\" font-family=\"sans-serif\" font-size=\"12\" font-style=\"italic\" lengthAdjust=\"spacingAndGlyphs\" textLength=\"53\" x=\"118.5\" y=\"65.1387\">«action»</text><text fill=\"#000000\" font-family=\"sans-serif\" font-size=\"12\" lengthAdjust=\"spacingAndGlyphs\" textLength=\"8\" x=\"141\" y=\"79.1074\">a</text><line style=\"stroke: #383838; stroke-width: 1.0;\" x1=\"40\" x2=\"250\" y1=\"86.9375\" y2=\"86.9375\"/></a><g id=\"E1.E2.E3\"><a href=\"psysml:a720e092-6bcd-479c-a1ff-52104ff4d712\" target=\"_top\" title=\"psysml:a720e092-6bcd-479c-a1ff-52104ff4d712\" xlink:actuate=\"onRequest\" xlink:href=\"psysml:a720e092-6bcd-479c-a1ff-52104ff4d712\" xlink:show=\"new\" xlink:title=\"psysml:a720e092-6bcd-479c-a1ff-52104ff4d712\" xlink:type=\"simple\"><rect fill=\"#FFFFFF\" height=\"56.9063\" id=\"E3\" rx=\"10\" ry=\"10\" style=\"stroke: #383838; stroke-width: 1.5;\" width=\"178\" x=\"56\" y=\"100\"/><rect fill=\"#F8F8F8\" height=\"51.9063\" rx=\"10\" ry=\"10\" style=\"stroke: #F8F8F8; stroke-width: 1.5;\" width=\"178\" x=\"56\" y=\"100\"/><rect fill=\"#F8F8F8\" height=\"10\" style=\"stroke: #F8F8F8; stroke-width: 1.5;\" width=\"178\" x=\"56\" y=\"141.9063\"/><rect fill=\"none\" height=\"56.9063\" id=\"E3\" rx=\"10\" ry=\"10\" style=\"stroke: #383838; stroke-width: 1.5;\" width=\"178\" x=\"56\" y=\"100\"/><text fill=\"#000000\" font-family=\"sans-serif\" font-size=\"12\" font-style=\"italic\" lengthAdjust=\"spacingAndGlyphs\" textLength=\"53\" x=\"118.5\" y=\"116.1387\">«action»</text><text fill=\"#000000\" font-family=\"sans-serif\" font-size=\"12\" lengthAdjust=\"spacingAndGlyphs\" textLength=\"77\" x=\"106.5\" y=\"130.1074\">start: Action</text><text fill=\"#000000\" font-family=\"sans-serif\" font-size=\"12\" font-style=\"italic\" lengthAdjust=\"spacingAndGlyphs\" textLength=\"163\" x=\"61.5\" y=\"144.0762\">:&gt;&gt;Occurrence::startShot</text><text fill=\"#000000\" font-family=\"sans-serif\" font-size=\"12\" lengthAdjust=\"spacingAndGlyphs\" textLength=\"0\" x=\"228.5\" y=\"144.0762\"/></a></g><!--MD5=[14e3899767e365f17203bace8d52e0af]\n",
       "@startuml\r\n",
       "skinparam ranksep 8\r\n",
       "skinparam rectangle {\r\n",
       " backgroundColor<<block>> LightGreen\r\n",
       "}\r\n",
       "skinparam monochrome true\r\n",
       "skinparam classbackgroundcolor white\r\n",
       "skinparam shadowing false\r\n",
       "skinparam wrapWidth 300\r\n",
       "hide circle\r\n",
       "\r\n",
       "package \"ActionTest\" as E1  [[psysml:7d27680f-a8ad-4796-902f-be0a7d0ccba0 ]]  {\r\n",
       "rec usage \"a\" as E2  <<(T,blue)action>> [[psysml:1bfaea47-077a-4258-abab-849ce06009df ]] {\r\n",
       "rec usage \"start: Action\\n//:>>Occurrence::startShot// \" as E3  <<(T,blue)action>> [[psysml:a720e092-6bcd-479c-a1ff-52104ff4d712 ]] {\r\n",
       "}\r\n",
       "}\r\n",
       "}\r\n",
       "@enduml\r\n",
       "\n",
       "PlantUML version 1.2020.13(Sat Jun 13 12:26:38 UTC 2020)\n",
       "(EPL source distribution)\n",
       "Java Runtime: OpenJDK Runtime Environment\n",
       "JVM: OpenJDK 64-Bit Server VM\n",
       "Default Encoding: UTF-8\n",
       "Language: en\n",
       "Country: null\n",
       "--></g></svg>"
      ]
     },
     "execution_count": 40,
     "metadata": {},
     "output_type": "execute_result"
    }
   ],
   "source": [
    "%viz --style=\"DEFAULT\" --view=\"Interconnection\" \"ActionTest\""
   ]
  },
  {
   "cell_type": "code",
   "execution_count": 41,
   "id": "supposed-office",
   "metadata": {
    "execution": {
     "iopub.execute_input": "2021-03-25T13:17:17.659646Z",
     "iopub.status.busy": "2021-03-25T13:17:17.659088Z",
     "iopub.status.idle": "2021-03-25T13:17:17.707790Z",
     "shell.execute_reply": "2021-03-25T13:17:17.707441Z"
    }
   },
   "outputs": [
    {
     "data": {
      "image/svg+xml": [
       "<?xml version=\"1.0\" encoding=\"UTF-8\" standalone=\"no\"?><svg xmlns=\"http://www.w3.org/2000/svg\" xmlns:xlink=\"http://www.w3.org/1999/xlink\" contentScriptType=\"application/ecmascript\" contentStyleType=\"text/css\" height=\"128px\" preserveAspectRatio=\"none\" style=\"width:111px;height:128px;\" version=\"1.1\" viewBox=\"0 0 111 128\" width=\"111px\" zoomAndPan=\"magnify\"><defs/><g><!--MD5=[fbc87193dbaf4d95561dea2c320d4a47]\n",
       "cluster E1--><a href=\"psysml:1bfaea47-077a-4258-abab-849ce06009df\" target=\"_top\" title=\"psysml:1bfaea47-077a-4258-abab-849ce06009df\" xlink:actuate=\"onRequest\" xlink:href=\"psysml:1bfaea47-077a-4258-abab-849ce06009df\" xlink:show=\"new\" xlink:title=\"psysml:1bfaea47-077a-4258-abab-849ce06009df\" xlink:type=\"simple\"><rect fill=\"#FFFFFF\" height=\"110\" id=\"E1\" rx=\"10\" ry=\"10\" style=\"stroke: #383838; stroke-width: 1.5;\" width=\"92\" x=\"7\" y=\"7\"/><rect fill=\"#F8F8F8\" height=\"37.9375\" rx=\"10\" ry=\"10\" style=\"stroke: #F8F8F8; stroke-width: 1.5;\" width=\"92\" x=\"7\" y=\"7\"/><rect fill=\"#F8F8F8\" height=\"10\" style=\"stroke: #F8F8F8; stroke-width: 1.5;\" width=\"92\" x=\"7\" y=\"34.9375\"/><rect fill=\"none\" height=\"110\" id=\"E1\" rx=\"10\" ry=\"10\" style=\"stroke: #383838; stroke-width: 1.5;\" width=\"92\" x=\"7\" y=\"7\"/><text fill=\"#000000\" font-family=\"sans-serif\" font-size=\"12\" font-style=\"italic\" lengthAdjust=\"spacingAndGlyphs\" textLength=\"53\" x=\"26.5\" y=\"23.1387\">«action»</text><text fill=\"#000000\" font-family=\"sans-serif\" font-size=\"12\" lengthAdjust=\"spacingAndGlyphs\" textLength=\"8\" x=\"49\" y=\"37.1074\">a</text><line style=\"stroke: #383838; stroke-width: 1.0;\" x1=\"7\" x2=\"99\" y1=\"44.9375\" y2=\"44.9375\"/></a><g id=\"E1.E2\"><a href=\"psysml:a720e092-6bcd-479c-a1ff-52104ff4d712\" target=\"_top\" title=\"psysml:a720e092-6bcd-479c-a1ff-52104ff4d712\" xlink:actuate=\"onRequest\" xlink:href=\"psysml:a720e092-6bcd-479c-a1ff-52104ff4d712\" xlink:show=\"new\" xlink:title=\"psysml:a720e092-6bcd-479c-a1ff-52104ff4d712\" xlink:type=\"simple\"><rect fill=\"#FFFFFF\" height=\"42.9375\" id=\"E2\" rx=\"10\" ry=\"10\" style=\"stroke: #383838; stroke-width: 1.5;\" width=\"60\" x=\"23\" y=\"58\"/><rect fill=\"#F8F8F8\" height=\"37.9375\" rx=\"10\" ry=\"10\" style=\"stroke: #F8F8F8; stroke-width: 1.5;\" width=\"60\" x=\"23\" y=\"58\"/><rect fill=\"#F8F8F8\" height=\"10\" style=\"stroke: #F8F8F8; stroke-width: 1.5;\" width=\"60\" x=\"23\" y=\"85.9375\"/><rect fill=\"none\" height=\"42.9375\" id=\"E2\" rx=\"10\" ry=\"10\" style=\"stroke: #383838; stroke-width: 1.5;\" width=\"60\" x=\"23\" y=\"58\"/><text fill=\"#000000\" font-family=\"sans-serif\" font-size=\"12\" font-style=\"italic\" lengthAdjust=\"spacingAndGlyphs\" textLength=\"53\" x=\"26.5\" y=\"74.1387\">«action»</text><text fill=\"#000000\" font-family=\"sans-serif\" font-size=\"12\" lengthAdjust=\"spacingAndGlyphs\" textLength=\"30\" x=\"38\" y=\"88.1074\">start</text></a></g><!--MD5=[f818941750cfa87bcb209b90441587c9]\n",
       "@startuml\r\n",
       "skinparam ranksep 8\r\n",
       "skinparam monochrome true\r\n",
       "skinparam classbackgroundcolor white\r\n",
       "skinparam shadowing false\r\n",
       "skinparam wrapWidth 300\r\n",
       "hide circle\r\n",
       "\r\n",
       "rec usage \"a\" as E1  <<(T,blue)action>> [[psysml:1bfaea47-077a-4258-abab-849ce06009df ]] {\r\n",
       "rec usage \"start\" as E2  <<(T,blue)action>> [[psysml:a720e092-6bcd-479c-a1ff-52104ff4d712 ]] {\r\n",
       "}\r\n",
       "\r\n",
       "}\r\n",
       "\r\n",
       "@enduml\r\n",
       "\n",
       "PlantUML version 1.2020.13(Sat Jun 13 12:26:38 UTC 2020)\n",
       "(EPL source distribution)\n",
       "Java Runtime: OpenJDK Runtime Environment\n",
       "JVM: OpenJDK 64-Bit Server VM\n",
       "Default Encoding: UTF-8\n",
       "Language: en\n",
       "Country: null\n",
       "--></g></svg>"
      ]
     },
     "execution_count": 41,
     "metadata": {},
     "output_type": "execute_result"
    }
   ],
   "source": [
    "%viz --style=\"DEFAULT\" --view=\"Action\" \"ActionTest\""
   ]
  },
  {
   "cell_type": "code",
   "execution_count": 42,
   "id": "assisted-bracket",
   "metadata": {
    "execution": {
     "iopub.execute_input": "2021-03-25T13:17:17.760244Z",
     "iopub.status.busy": "2021-03-25T13:17:17.759668Z",
     "iopub.status.idle": "2021-03-25T13:17:18.233757Z",
     "shell.execute_reply": "2021-03-25T13:17:18.233360Z"
    }
   },
   "outputs": [
    {
     "data": {
      "image/svg+xml": [
       "<?xml version=\"1.0\" encoding=\"UTF-8\" standalone=\"no\"?><svg xmlns=\"http://www.w3.org/2000/svg\" xmlns:xlink=\"http://www.w3.org/1999/xlink\" contentScriptType=\"application/ecmascript\" contentStyleType=\"text/css\" height=\"157px\" preserveAspectRatio=\"none\" style=\"width:230px;height:157px;\" version=\"1.1\" viewBox=\"0 0 230 157\" width=\"230px\" zoomAndPan=\"magnify\"><defs/><g><!--MD5=[fbc87193dbaf4d95561dea2c320d4a47]\n",
       "cluster E1--><a href=\"psysml:7d27680f-a8ad-4796-902f-be0a7d0ccba0\" target=\"_top\" title=\"psysml:7d27680f-a8ad-4796-902f-be0a7d0ccba0\" xlink:actuate=\"onRequest\" xlink:href=\"psysml:7d27680f-a8ad-4796-902f-be0a7d0ccba0\" xlink:show=\"new\" xlink:title=\"psysml:7d27680f-a8ad-4796-902f-be0a7d0ccba0\" xlink:type=\"simple\"><polygon fill=\"#FFFFFF\" points=\"16,6,107,6,114,28.2969,208,28.2969,208,145,16,145,16,6\" style=\"stroke: #000000; stroke-width: 1.5;\"/><line style=\"stroke: #000000; stroke-width: 1.5;\" x1=\"16\" x2=\"114\" y1=\"28.2969\" y2=\"28.2969\"/><text fill=\"#000000\" font-family=\"sans-serif\" font-size=\"14\" font-weight=\"bold\" lengthAdjust=\"spacingAndGlyphs\" textLength=\"85\" x=\"20\" y=\"20.9951\">ActionTest</text></a><!--MD5=[b4997ac47864f28c2f74865a473b2911]\n",
       "class E2--><a href=\"psysml:1bfaea47-077a-4258-abab-849ce06009df\" target=\"_top\" title=\"psysml:1bfaea47-077a-4258-abab-849ce06009df\" xlink:actuate=\"onRequest\" xlink:href=\"psysml:1bfaea47-077a-4258-abab-849ce06009df\" xlink:show=\"new\" xlink:title=\"psysml:1bfaea47-077a-4258-abab-849ce06009df\" xlink:type=\"simple\"><rect fill=\"#FFFFFF\" height=\"88.3516\" id=\"E2\" rx=\"10\" ry=\"10\" style=\"stroke: #383838; stroke-width: 1.5;\" width=\"160\" x=\"32\" y=\"41\"/><text fill=\"#000000\" font-family=\"sans-serif\" font-size=\"12\" font-style=\"italic\" lengthAdjust=\"spacingAndGlyphs\" textLength=\"53\" x=\"85.5\" y=\"57.1387\">«action»</text><text fill=\"#000000\" font-family=\"sans-serif\" font-size=\"12\" lengthAdjust=\"spacingAndGlyphs\" textLength=\"8\" x=\"108\" y=\"71.1074\">a</text><line style=\"stroke: #383838; stroke-width: 1.5;\" x1=\"33\" x2=\"191\" y1=\"78.9375\" y2=\"78.9375\"/><text fill=\"#000000\" font-family=\"sans-serif\" font-size=\"11\" lengthAdjust=\"spacingAndGlyphs\" textLength=\"69\" x=\"38\" y=\"109.9526\">start: Action</text><text fill=\"#000000\" font-family=\"sans-serif\" font-size=\"11\" font-style=\"italic\" lengthAdjust=\"spacingAndGlyphs\" textLength=\"148\" x=\"38\" y=\"122.7573\">:&gt;&gt;Occurrence::startShot</text><line style=\"stroke: #383838; stroke-width: 1.0;\" x1=\"33\" x2=\"91.5\" y1=\"93.3398\" y2=\"93.3398\"/><text fill=\"#000000\" font-family=\"sans-serif\" font-size=\"11\" lengthAdjust=\"spacingAndGlyphs\" textLength=\"41\" x=\"91.5\" y=\"96.6479\">actions</text><line style=\"stroke: #383838; stroke-width: 1.0;\" x1=\"132.5\" x2=\"191\" y1=\"93.3398\" y2=\"93.3398\"/></a><!--MD5=[d8cd257788664c4b2fb247e1742c5cc5]\n",
       "@startuml\r\n",
       "skinparam monochrome true\r\n",
       "skinparam classbackgroundcolor white\r\n",
       "skinparam shadowing false\r\n",
       "skinparam wrapWidth 300\r\n",
       "hide circle\r\n",
       "\r\n",
       "package \"ActionTest\" as E1  [[psysml:7d27680f-a8ad-4796-902f-be0a7d0ccba0 ]]  {\r\n",
       "comp usage \"a\" as E2  <<(T,blue)action>> [[psysml:1bfaea47-077a-4258-abab-849ce06009df ]] {\r\n",
       "- - actions - -\r\n",
       "start: Action\\n//:>>Occurrence::startShot// \r\n",
       "}\r\n",
       "}\r\n",
       "@enduml\r\n",
       "\n",
       "PlantUML version 1.2020.13(Sat Jun 13 12:26:38 UTC 2020)\n",
       "(EPL source distribution)\n",
       "Java Runtime: OpenJDK Runtime Environment\n",
       "JVM: OpenJDK 64-Bit Server VM\n",
       "Default Encoding: UTF-8\n",
       "Language: en\n",
       "Country: null\n",
       "--></g></svg>"
      ]
     },
     "execution_count": 42,
     "metadata": {},
     "output_type": "execute_result"
    }
   ],
   "source": [
    "%viz --style=\"DEFAULT\" --view=\"Sequence\" \"ActionTest\""
   ]
  },
  {
   "cell_type": "code",
   "execution_count": 43,
   "id": "rocky-circle",
   "metadata": {
    "execution": {
     "iopub.execute_input": "2021-03-25T13:17:18.286307Z",
     "iopub.status.busy": "2021-03-25T13:17:18.285421Z",
     "iopub.status.idle": "2021-03-25T13:17:18.345684Z",
     "shell.execute_reply": "2021-03-25T13:17:18.345281Z"
    }
   },
   "outputs": [
    {
     "data": {
      "image/svg+xml": [
       "<?xml version=\"1.0\" encoding=\"UTF-8\" standalone=\"no\"?><svg xmlns=\"http://www.w3.org/2000/svg\" xmlns:xlink=\"http://www.w3.org/1999/xlink\" contentScriptType=\"application/ecmascript\" contentStyleType=\"text/css\" height=\"195px\" preserveAspectRatio=\"none\" style=\"width:178px;height:195px;\" version=\"1.1\" viewBox=\"0 0 178 195\" width=\"178px\" zoomAndPan=\"magnify\"><defs/><g><!--MD5=[fbc87193dbaf4d95561dea2c320d4a47]\n",
       "cluster E1--><a href=\"psysml:7d27680f-a8ad-4796-902f-be0a7d0ccba0\" target=\"_top\" title=\"psysml:7d27680f-a8ad-4796-902f-be0a7d0ccba0\" xlink:actuate=\"onRequest\" xlink:href=\"psysml:7d27680f-a8ad-4796-902f-be0a7d0ccba0\" xlink:show=\"new\" xlink:title=\"psysml:7d27680f-a8ad-4796-902f-be0a7d0ccba0\" xlink:type=\"simple\"><polygon fill=\"#FFFFFF\" points=\"16,6,107,6,114,28.2969,156,28.2969,156,183,16,183,16,6\" style=\"stroke: #000000; stroke-width: 1.5;\"/><line style=\"stroke: #000000; stroke-width: 1.5;\" x1=\"16\" x2=\"114\" y1=\"28.2969\" y2=\"28.2969\"/><text fill=\"#000000\" font-family=\"sans-serif\" font-size=\"14\" font-weight=\"bold\" lengthAdjust=\"spacingAndGlyphs\" textLength=\"85\" x=\"20\" y=\"20.9951\">ActionTest</text></a><!--MD5=[e4f7fae6ed58524ba242bb0b0d3be6b7]\n",
       "cluster E2--><a href=\"psysml:1bfaea47-077a-4258-abab-849ce06009df\" target=\"_top\" title=\"psysml:1bfaea47-077a-4258-abab-849ce06009df\" xlink:actuate=\"onRequest\" xlink:href=\"psysml:1bfaea47-077a-4258-abab-849ce06009df\" xlink:show=\"new\" xlink:title=\"psysml:1bfaea47-077a-4258-abab-849ce06009df\" xlink:type=\"simple\"><rect fill=\"#FFFFFF\" height=\"110\" id=\"E2\" rx=\"10\" ry=\"10\" style=\"stroke: #383838; stroke-width: 1.5;\" width=\"92\" x=\"40\" y=\"49\"/><rect fill=\"#F8F8F8\" height=\"37.9375\" rx=\"10\" ry=\"10\" style=\"stroke: #F8F8F8; stroke-width: 1.5;\" width=\"92\" x=\"40\" y=\"49\"/><rect fill=\"#F8F8F8\" height=\"10\" style=\"stroke: #F8F8F8; stroke-width: 1.5;\" width=\"92\" x=\"40\" y=\"76.9375\"/><rect fill=\"none\" height=\"110\" id=\"E2\" rx=\"10\" ry=\"10\" style=\"stroke: #383838; stroke-width: 1.5;\" width=\"92\" x=\"40\" y=\"49\"/><text fill=\"#000000\" font-family=\"sans-serif\" font-size=\"12\" font-style=\"italic\" lengthAdjust=\"spacingAndGlyphs\" textLength=\"53\" x=\"59.5\" y=\"65.1387\">«action»</text><text fill=\"#000000\" font-family=\"sans-serif\" font-size=\"12\" lengthAdjust=\"spacingAndGlyphs\" textLength=\"8\" x=\"82\" y=\"79.1074\">a</text><line style=\"stroke: #383838; stroke-width: 1.0;\" x1=\"40\" x2=\"132\" y1=\"86.9375\" y2=\"86.9375\"/></a><g id=\"E1.E2.E3\"><a href=\"psysml:a720e092-6bcd-479c-a1ff-52104ff4d712\" target=\"_top\" title=\"psysml:a720e092-6bcd-479c-a1ff-52104ff4d712\" xlink:actuate=\"onRequest\" xlink:href=\"psysml:a720e092-6bcd-479c-a1ff-52104ff4d712\" xlink:show=\"new\" xlink:title=\"psysml:a720e092-6bcd-479c-a1ff-52104ff4d712\" xlink:type=\"simple\"><rect fill=\"#FFFFFF\" height=\"42.9375\" id=\"E3\" rx=\"10\" ry=\"10\" style=\"stroke: #383838; stroke-width: 1.5;\" width=\"60\" x=\"56\" y=\"100\"/><rect fill=\"#F8F8F8\" height=\"37.9375\" rx=\"10\" ry=\"10\" style=\"stroke: #F8F8F8; stroke-width: 1.5;\" width=\"60\" x=\"56\" y=\"100\"/><rect fill=\"#F8F8F8\" height=\"10\" style=\"stroke: #F8F8F8; stroke-width: 1.5;\" width=\"60\" x=\"56\" y=\"127.9375\"/><rect fill=\"none\" height=\"42.9375\" id=\"E3\" rx=\"10\" ry=\"10\" style=\"stroke: #383838; stroke-width: 1.5;\" width=\"60\" x=\"56\" y=\"100\"/><text fill=\"#000000\" font-family=\"sans-serif\" font-size=\"12\" font-style=\"italic\" lengthAdjust=\"spacingAndGlyphs\" textLength=\"53\" x=\"59.5\" y=\"116.1387\">«action»</text><text fill=\"#000000\" font-family=\"sans-serif\" font-size=\"12\" lengthAdjust=\"spacingAndGlyphs\" textLength=\"30\" x=\"71\" y=\"130.1074\">start</text></a></g><!--MD5=[df62825fd4848ab8f98dff57e5cb5bfc]\n",
       "@startuml\r\n",
       "skinparam monochrome true\r\n",
       "skinparam classbackgroundcolor white\r\n",
       "skinparam shadowing false\r\n",
       "skinparam wrapWidth 300\r\n",
       "hide circle\r\n",
       "\r\n",
       "package \"ActionTest\" as E1  [[psysml:7d27680f-a8ad-4796-902f-be0a7d0ccba0 ]]  {\r\n",
       "rec usage \"a\" as E2  <<(T,blue)action>> [[psysml:1bfaea47-077a-4258-abab-849ce06009df ]] {\r\n",
       "rec usage \"start\" as E3  <<(T,blue)action>> [[psysml:a720e092-6bcd-479c-a1ff-52104ff4d712 ]] {\r\n",
       "}\r\n",
       "\r\n",
       "}\r\n",
       "\r\n",
       "}\r\n",
       "@enduml\r\n",
       "\n",
       "PlantUML version 1.2020.13(Sat Jun 13 12:26:38 UTC 2020)\n",
       "(EPL source distribution)\n",
       "Java Runtime: OpenJDK Runtime Environment\n",
       "JVM: OpenJDK 64-Bit Server VM\n",
       "Default Encoding: UTF-8\n",
       "Language: en\n",
       "Country: null\n",
       "--></g></svg>"
      ]
     },
     "execution_count": 43,
     "metadata": {},
     "output_type": "execute_result"
    }
   ],
   "source": [
    "%viz --style=\"DEFAULT\" --view=\"MIXED\" \"ActionTest\""
   ]
  },
  {
   "cell_type": "code",
   "execution_count": 44,
   "id": "protected-motivation",
   "metadata": {
    "execution": {
     "iopub.execute_input": "2021-03-25T13:17:18.396848Z",
     "iopub.status.busy": "2021-03-25T13:17:18.395561Z",
     "iopub.status.idle": "2021-03-25T13:17:18.458801Z",
     "shell.execute_reply": "2021-03-25T13:17:18.458301Z"
    }
   },
   "outputs": [
    {
     "data": {
      "image/svg+xml": [
       "<?xml version=\"1.0\" encoding=\"UTF-8\" standalone=\"no\"?><svg xmlns=\"http://www.w3.org/2000/svg\" xmlns:xlink=\"http://www.w3.org/1999/xlink\" contentScriptType=\"application/ecmascript\" contentStyleType=\"text/css\" height=\"195px\" preserveAspectRatio=\"none\" style=\"width:178px;height:195px;\" version=\"1.1\" viewBox=\"0 0 178 195\" width=\"178px\" zoomAndPan=\"magnify\"><defs/><g><!--MD5=[fbc87193dbaf4d95561dea2c320d4a47]\n",
       "cluster E1--><a href=\"psysml:7d27680f-a8ad-4796-902f-be0a7d0ccba0\" target=\"_top\" title=\"psysml:7d27680f-a8ad-4796-902f-be0a7d0ccba0\" xlink:actuate=\"onRequest\" xlink:href=\"psysml:7d27680f-a8ad-4796-902f-be0a7d0ccba0\" xlink:show=\"new\" xlink:title=\"psysml:7d27680f-a8ad-4796-902f-be0a7d0ccba0\" xlink:type=\"simple\"><polygon fill=\"#FFFFFF\" points=\"16,6,107,6,114,28.2969,156,28.2969,156,183,16,183,16,6\" style=\"stroke: #000000; stroke-width: 1.5;\"/><line style=\"stroke: #000000; stroke-width: 1.5;\" x1=\"16\" x2=\"114\" y1=\"28.2969\" y2=\"28.2969\"/><text fill=\"#000000\" font-family=\"sans-serif\" font-size=\"14\" font-weight=\"bold\" lengthAdjust=\"spacingAndGlyphs\" textLength=\"85\" x=\"20\" y=\"20.9951\">ActionTest</text></a><!--MD5=[e4f7fae6ed58524ba242bb0b0d3be6b7]\n",
       "cluster E2--><a href=\"psysml:1bfaea47-077a-4258-abab-849ce06009df\" target=\"_top\" title=\"psysml:1bfaea47-077a-4258-abab-849ce06009df\" xlink:actuate=\"onRequest\" xlink:href=\"psysml:1bfaea47-077a-4258-abab-849ce06009df\" xlink:show=\"new\" xlink:title=\"psysml:1bfaea47-077a-4258-abab-849ce06009df\" xlink:type=\"simple\"><rect fill=\"#FFFFFF\" height=\"110\" id=\"E2\" rx=\"10\" ry=\"10\" style=\"stroke: #383838; stroke-width: 1.5;\" width=\"92\" x=\"40\" y=\"49\"/><rect fill=\"#F8F8F8\" height=\"37.9375\" rx=\"10\" ry=\"10\" style=\"stroke: #F8F8F8; stroke-width: 1.5;\" width=\"92\" x=\"40\" y=\"49\"/><rect fill=\"#F8F8F8\" height=\"10\" style=\"stroke: #F8F8F8; stroke-width: 1.5;\" width=\"92\" x=\"40\" y=\"76.9375\"/><rect fill=\"none\" height=\"110\" id=\"E2\" rx=\"10\" ry=\"10\" style=\"stroke: #383838; stroke-width: 1.5;\" width=\"92\" x=\"40\" y=\"49\"/><text fill=\"#000000\" font-family=\"sans-serif\" font-size=\"12\" font-style=\"italic\" lengthAdjust=\"spacingAndGlyphs\" textLength=\"53\" x=\"59.5\" y=\"65.1387\">«action»</text><text fill=\"#000000\" font-family=\"sans-serif\" font-size=\"12\" lengthAdjust=\"spacingAndGlyphs\" textLength=\"8\" x=\"82\" y=\"79.1074\">a</text><line style=\"stroke: #383838; stroke-width: 1.0;\" x1=\"40\" x2=\"132\" y1=\"86.9375\" y2=\"86.9375\"/></a><g id=\"E1.E2.E3\"><a href=\"psysml:a720e092-6bcd-479c-a1ff-52104ff4d712\" target=\"_top\" title=\"psysml:a720e092-6bcd-479c-a1ff-52104ff4d712\" xlink:actuate=\"onRequest\" xlink:href=\"psysml:a720e092-6bcd-479c-a1ff-52104ff4d712\" xlink:show=\"new\" xlink:title=\"psysml:a720e092-6bcd-479c-a1ff-52104ff4d712\" xlink:type=\"simple\"><rect fill=\"#FFFFFF\" height=\"42.9375\" id=\"E3\" rx=\"10\" ry=\"10\" style=\"stroke: #383838; stroke-width: 1.5;\" width=\"60\" x=\"56\" y=\"100\"/><rect fill=\"#F8F8F8\" height=\"37.9375\" rx=\"10\" ry=\"10\" style=\"stroke: #F8F8F8; stroke-width: 1.5;\" width=\"60\" x=\"56\" y=\"100\"/><rect fill=\"#F8F8F8\" height=\"10\" style=\"stroke: #F8F8F8; stroke-width: 1.5;\" width=\"60\" x=\"56\" y=\"127.9375\"/><rect fill=\"none\" height=\"42.9375\" id=\"E3\" rx=\"10\" ry=\"10\" style=\"stroke: #383838; stroke-width: 1.5;\" width=\"60\" x=\"56\" y=\"100\"/><text fill=\"#000000\" font-family=\"sans-serif\" font-size=\"12\" font-style=\"italic\" lengthAdjust=\"spacingAndGlyphs\" textLength=\"53\" x=\"59.5\" y=\"116.1387\">«action»</text><text fill=\"#000000\" font-family=\"sans-serif\" font-size=\"12\" lengthAdjust=\"spacingAndGlyphs\" textLength=\"30\" x=\"71\" y=\"130.1074\">start</text></a></g><!--MD5=[8d21610731e549ddd19fedd190cc046c]\n",
       "@startuml\r\n",
       "top to bottom direction\r\n",
       "skinparam monochrome true\r\n",
       "skinparam classbackgroundcolor white\r\n",
       "skinparam shadowing false\r\n",
       "skinparam wrapWidth 300\r\n",
       "hide circle\r\n",
       "\r\n",
       "package \"ActionTest\" as E1  [[psysml:7d27680f-a8ad-4796-902f-be0a7d0ccba0 ]]  {\r\n",
       "rec usage \"a\" as E2  <<(T,blue)action>> [[psysml:1bfaea47-077a-4258-abab-849ce06009df ]] {\r\n",
       "rec usage \"start\" as E3  <<(T,blue)action>> [[psysml:a720e092-6bcd-479c-a1ff-52104ff4d712 ]] {\r\n",
       "}\r\n",
       "\r\n",
       "}\r\n",
       "\r\n",
       "}\r\n",
       "@enduml\r\n",
       "\n",
       "PlantUML version 1.2020.13(Sat Jun 13 12:26:38 UTC 2020)\n",
       "(EPL source distribution)\n",
       "Java Runtime: OpenJDK Runtime Environment\n",
       "JVM: OpenJDK 64-Bit Server VM\n",
       "Default Encoding: UTF-8\n",
       "Language: en\n",
       "Country: null\n",
       "--></g></svg>"
      ]
     },
     "execution_count": 44,
     "metadata": {},
     "output_type": "execute_result"
    }
   ],
   "source": [
    "%viz --style=\"TB\" --view=\"Default\" \"ActionTest\""
   ]
  },
  {
   "cell_type": "code",
   "execution_count": 45,
   "id": "honey-musical",
   "metadata": {
    "execution": {
     "iopub.execute_input": "2021-03-25T13:17:18.505837Z",
     "iopub.status.busy": "2021-03-25T13:17:18.505068Z",
     "iopub.status.idle": "2021-03-25T13:17:18.984832Z",
     "shell.execute_reply": "2021-03-25T13:17:18.984364Z"
    }
   },
   "outputs": [
    {
     "data": {
      "image/svg+xml": [
       "<?xml version=\"1.0\" encoding=\"UTF-8\" standalone=\"no\"?><svg xmlns=\"http://www.w3.org/2000/svg\" xmlns:xlink=\"http://www.w3.org/1999/xlink\" contentScriptType=\"application/ecmascript\" contentStyleType=\"text/css\" height=\"157px\" preserveAspectRatio=\"none\" style=\"width:230px;height:157px;\" version=\"1.1\" viewBox=\"0 0 230 157\" width=\"230px\" zoomAndPan=\"magnify\"><defs/><g><!--MD5=[fbc87193dbaf4d95561dea2c320d4a47]\n",
       "cluster E1--><a href=\"psysml:7d27680f-a8ad-4796-902f-be0a7d0ccba0\" target=\"_top\" title=\"psysml:7d27680f-a8ad-4796-902f-be0a7d0ccba0\" xlink:actuate=\"onRequest\" xlink:href=\"psysml:7d27680f-a8ad-4796-902f-be0a7d0ccba0\" xlink:show=\"new\" xlink:title=\"psysml:7d27680f-a8ad-4796-902f-be0a7d0ccba0\" xlink:type=\"simple\"><polygon fill=\"#FFFFFF\" points=\"16,6,107,6,114,28.2969,208,28.2969,208,145,16,145,16,6\" style=\"stroke: #000000; stroke-width: 1.5;\"/><line style=\"stroke: #000000; stroke-width: 1.5;\" x1=\"16\" x2=\"114\" y1=\"28.2969\" y2=\"28.2969\"/><text fill=\"#000000\" font-family=\"sans-serif\" font-size=\"14\" font-weight=\"bold\" lengthAdjust=\"spacingAndGlyphs\" textLength=\"85\" x=\"20\" y=\"20.9951\">ActionTest</text></a><!--MD5=[b4997ac47864f28c2f74865a473b2911]\n",
       "class E2--><a href=\"psysml:1bfaea47-077a-4258-abab-849ce06009df\" target=\"_top\" title=\"psysml:1bfaea47-077a-4258-abab-849ce06009df\" xlink:actuate=\"onRequest\" xlink:href=\"psysml:1bfaea47-077a-4258-abab-849ce06009df\" xlink:show=\"new\" xlink:title=\"psysml:1bfaea47-077a-4258-abab-849ce06009df\" xlink:type=\"simple\"><rect fill=\"#FFFFFF\" height=\"88.3516\" id=\"E2\" rx=\"10\" ry=\"10\" style=\"stroke: #383838; stroke-width: 1.5;\" width=\"160\" x=\"32\" y=\"41\"/><text fill=\"#000000\" font-family=\"sans-serif\" font-size=\"12\" font-style=\"italic\" lengthAdjust=\"spacingAndGlyphs\" textLength=\"53\" x=\"85.5\" y=\"57.1387\">«action»</text><text fill=\"#000000\" font-family=\"sans-serif\" font-size=\"12\" lengthAdjust=\"spacingAndGlyphs\" textLength=\"8\" x=\"108\" y=\"71.1074\">a</text><line style=\"stroke: #383838; stroke-width: 1.5;\" x1=\"33\" x2=\"191\" y1=\"78.9375\" y2=\"78.9375\"/><text fill=\"#000000\" font-family=\"sans-serif\" font-size=\"11\" lengthAdjust=\"spacingAndGlyphs\" textLength=\"69\" x=\"38\" y=\"109.9526\">start: Action</text><text fill=\"#000000\" font-family=\"sans-serif\" font-size=\"11\" font-style=\"italic\" lengthAdjust=\"spacingAndGlyphs\" textLength=\"148\" x=\"38\" y=\"122.7573\">:&gt;&gt;Occurrence::startShot</text><line style=\"stroke: #383838; stroke-width: 1.0;\" x1=\"33\" x2=\"91.5\" y1=\"93.3398\" y2=\"93.3398\"/><text fill=\"#000000\" font-family=\"sans-serif\" font-size=\"11\" lengthAdjust=\"spacingAndGlyphs\" textLength=\"41\" x=\"91.5\" y=\"96.6479\">actions</text><line style=\"stroke: #383838; stroke-width: 1.0;\" x1=\"132.5\" x2=\"191\" y1=\"93.3398\" y2=\"93.3398\"/></a><!--MD5=[c6ffcadbbfa91d0b12a2e8d5a90321b1]\n",
       "@startuml\r\n",
       "top to bottom direction\r\n",
       "skinparam monochrome true\r\n",
       "skinparam classbackgroundcolor white\r\n",
       "skinparam shadowing false\r\n",
       "skinparam wrapWidth 300\r\n",
       "hide circle\r\n",
       "\r\n",
       "package \"ActionTest\" as E1  [[psysml:7d27680f-a8ad-4796-902f-be0a7d0ccba0 ]]  {\r\n",
       "comp usage \"a\" as E2  <<(T,blue)action>> [[psysml:1bfaea47-077a-4258-abab-849ce06009df ]] {\r\n",
       "- - actions - -\r\n",
       "start: Action\\n//:>>Occurrence::startShot// \r\n",
       "}\r\n",
       "}\r\n",
       "@enduml\r\n",
       "\n",
       "PlantUML version 1.2020.13(Sat Jun 13 12:26:38 UTC 2020)\n",
       "(EPL source distribution)\n",
       "Java Runtime: OpenJDK Runtime Environment\n",
       "JVM: OpenJDK 64-Bit Server VM\n",
       "Default Encoding: UTF-8\n",
       "Language: en\n",
       "Country: null\n",
       "--></g></svg>"
      ]
     },
     "execution_count": 45,
     "metadata": {},
     "output_type": "execute_result"
    }
   ],
   "source": [
    "%viz --style=\"TB\" --view=\"Tree\" \"ActionTest\""
   ]
  },
  {
   "cell_type": "code",
   "execution_count": 46,
   "id": "fossil-train",
   "metadata": {
    "execution": {
     "iopub.execute_input": "2021-03-25T13:17:19.037045Z",
     "iopub.status.busy": "2021-03-25T13:17:19.036245Z",
     "iopub.status.idle": "2021-03-25T13:17:19.047731Z",
     "shell.execute_reply": "2021-03-25T13:17:19.048144Z"
    }
   },
   "outputs": [
    {
     "data": {
      "image/svg+xml": [
       "<?xml version=\"1.0\" encoding=\"UTF-8\" standalone=\"no\"?><svg xmlns=\"http://www.w3.org/2000/svg\" xmlns:xlink=\"http://www.w3.org/1999/xlink\" contentScriptType=\"application/ecmascript\" contentStyleType=\"text/css\" height=\"12px\" preserveAspectRatio=\"none\" style=\"width:12px;height:12px;\" version=\"1.1\" viewBox=\"0 0 12 12\" width=\"12px\" zoomAndPan=\"magnify\"><defs/><g><!--MD5=[f4ee21bc66e489b5061b7c3e9601fdef]\n",
       "@startuml\r\n",
       "top to bottom direction\r\n",
       "skinparam monochrome true\r\n",
       "skinparam classbackgroundcolor white\r\n",
       "skinparam shadowing false\r\n",
       "skinparam wrapWidth 300\r\n",
       "hide circle\r\n",
       "\r\n",
       "@enduml\r\n",
       "\n",
       "PlantUML version 1.2020.13(Sat Jun 13 12:26:38 UTC 2020)\n",
       "(EPL source distribution)\n",
       "Java Runtime: OpenJDK Runtime Environment\n",
       "JVM: OpenJDK 64-Bit Server VM\n",
       "Default Encoding: UTF-8\n",
       "Language: en\n",
       "Country: null\n",
       "--></g></svg>"
      ]
     },
     "execution_count": 46,
     "metadata": {},
     "output_type": "execute_result"
    }
   ],
   "source": [
    "%viz --style=\"TB\" --view=\"State\" \"ActionTest\""
   ]
  },
  {
   "cell_type": "code",
   "execution_count": 47,
   "id": "different-heather",
   "metadata": {
    "execution": {
     "iopub.execute_input": "2021-03-25T13:17:19.099343Z",
     "iopub.status.busy": "2021-03-25T13:17:19.098557Z",
     "iopub.status.idle": "2021-03-25T13:17:19.171241Z",
     "shell.execute_reply": "2021-03-25T13:17:19.171734Z"
    }
   },
   "outputs": [
    {
     "data": {
      "image/svg+xml": [
       "<?xml version=\"1.0\" encoding=\"UTF-8\" standalone=\"no\"?><svg xmlns=\"http://www.w3.org/2000/svg\" xmlns:xlink=\"http://www.w3.org/1999/xlink\" contentScriptType=\"application/ecmascript\" contentStyleType=\"text/css\" height=\"209px\" preserveAspectRatio=\"none\" style=\"width:296px;height:209px;\" version=\"1.1\" viewBox=\"0 0 296 209\" width=\"296px\" zoomAndPan=\"magnify\"><defs/><g><!--MD5=[fbc87193dbaf4d95561dea2c320d4a47]\n",
       "cluster E1--><a href=\"psysml:7d27680f-a8ad-4796-902f-be0a7d0ccba0\" target=\"_top\" title=\"psysml:7d27680f-a8ad-4796-902f-be0a7d0ccba0\" xlink:actuate=\"onRequest\" xlink:href=\"psysml:7d27680f-a8ad-4796-902f-be0a7d0ccba0\" xlink:show=\"new\" xlink:title=\"psysml:7d27680f-a8ad-4796-902f-be0a7d0ccba0\" xlink:type=\"simple\"><polygon fill=\"#FFFFFF\" points=\"16,6,107,6,114,28.2969,274,28.2969,274,197,16,197,16,6\" style=\"stroke: #000000; stroke-width: 1.5;\"/><line style=\"stroke: #000000; stroke-width: 1.5;\" x1=\"16\" x2=\"114\" y1=\"28.2969\" y2=\"28.2969\"/><text fill=\"#000000\" font-family=\"sans-serif\" font-size=\"14\" font-weight=\"bold\" lengthAdjust=\"spacingAndGlyphs\" textLength=\"85\" x=\"20\" y=\"20.9951\">ActionTest</text></a><!--MD5=[e4f7fae6ed58524ba242bb0b0d3be6b7]\n",
       "cluster E2--><a href=\"psysml:1bfaea47-077a-4258-abab-849ce06009df\" target=\"_top\" title=\"psysml:1bfaea47-077a-4258-abab-849ce06009df\" xlink:actuate=\"onRequest\" xlink:href=\"psysml:1bfaea47-077a-4258-abab-849ce06009df\" xlink:show=\"new\" xlink:title=\"psysml:1bfaea47-077a-4258-abab-849ce06009df\" xlink:type=\"simple\"><rect fill=\"#FFFFFF\" height=\"124\" id=\"E2\" rx=\"10\" ry=\"10\" style=\"stroke: #383838; stroke-width: 1.5;\" width=\"210\" x=\"40\" y=\"49\"/><rect fill=\"#F8F8F8\" height=\"37.9375\" rx=\"10\" ry=\"10\" style=\"stroke: #F8F8F8; stroke-width: 1.5;\" width=\"210\" x=\"40\" y=\"49\"/><rect fill=\"#F8F8F8\" height=\"10\" style=\"stroke: #F8F8F8; stroke-width: 1.5;\" width=\"210\" x=\"40\" y=\"76.9375\"/><rect fill=\"none\" height=\"124\" id=\"E2\" rx=\"10\" ry=\"10\" style=\"stroke: #383838; stroke-width: 1.5;\" width=\"210\" x=\"40\" y=\"49\"/><text fill=\"#000000\" font-family=\"sans-serif\" font-size=\"12\" font-style=\"italic\" lengthAdjust=\"spacingAndGlyphs\" textLength=\"53\" x=\"118.5\" y=\"65.1387\">«action»</text><text fill=\"#000000\" font-family=\"sans-serif\" font-size=\"12\" lengthAdjust=\"spacingAndGlyphs\" textLength=\"8\" x=\"141\" y=\"79.1074\">a</text><line style=\"stroke: #383838; stroke-width: 1.0;\" x1=\"40\" x2=\"250\" y1=\"86.9375\" y2=\"86.9375\"/></a><g id=\"E1.E2.E3\"><a href=\"psysml:a720e092-6bcd-479c-a1ff-52104ff4d712\" target=\"_top\" title=\"psysml:a720e092-6bcd-479c-a1ff-52104ff4d712\" xlink:actuate=\"onRequest\" xlink:href=\"psysml:a720e092-6bcd-479c-a1ff-52104ff4d712\" xlink:show=\"new\" xlink:title=\"psysml:a720e092-6bcd-479c-a1ff-52104ff4d712\" xlink:type=\"simple\"><rect fill=\"#FFFFFF\" height=\"56.9063\" id=\"E3\" rx=\"10\" ry=\"10\" style=\"stroke: #383838; stroke-width: 1.5;\" width=\"178\" x=\"56\" y=\"100\"/><rect fill=\"#F8F8F8\" height=\"51.9063\" rx=\"10\" ry=\"10\" style=\"stroke: #F8F8F8; stroke-width: 1.5;\" width=\"178\" x=\"56\" y=\"100\"/><rect fill=\"#F8F8F8\" height=\"10\" style=\"stroke: #F8F8F8; stroke-width: 1.5;\" width=\"178\" x=\"56\" y=\"141.9063\"/><rect fill=\"none\" height=\"56.9063\" id=\"E3\" rx=\"10\" ry=\"10\" style=\"stroke: #383838; stroke-width: 1.5;\" width=\"178\" x=\"56\" y=\"100\"/><text fill=\"#000000\" font-family=\"sans-serif\" font-size=\"12\" font-style=\"italic\" lengthAdjust=\"spacingAndGlyphs\" textLength=\"53\" x=\"118.5\" y=\"116.1387\">«action»</text><text fill=\"#000000\" font-family=\"sans-serif\" font-size=\"12\" lengthAdjust=\"spacingAndGlyphs\" textLength=\"77\" x=\"106.5\" y=\"130.1074\">start: Action</text><text fill=\"#000000\" font-family=\"sans-serif\" font-size=\"12\" font-style=\"italic\" lengthAdjust=\"spacingAndGlyphs\" textLength=\"163\" x=\"61.5\" y=\"144.0762\">:&gt;&gt;Occurrence::startShot</text><text fill=\"#000000\" font-family=\"sans-serif\" font-size=\"12\" lengthAdjust=\"spacingAndGlyphs\" textLength=\"0\" x=\"228.5\" y=\"144.0762\"/></a></g><!--MD5=[0fbe5030fda6fa10b9dabca64aa93658]\n",
       "@startuml\r\n",
       "skinparam ranksep 8\r\n",
       "skinparam rectangle {\r\n",
       " backgroundColor<<block>> LightGreen\r\n",
       "}\r\n",
       "top to bottom direction\r\n",
       "skinparam monochrome true\r\n",
       "skinparam classbackgroundcolor white\r\n",
       "skinparam shadowing false\r\n",
       "skinparam wrapWidth 300\r\n",
       "hide circle\r\n",
       "\r\n",
       "package \"ActionTest\" as E1  [[psysml:7d27680f-a8ad-4796-902f-be0a7d0ccba0 ]]  {\r\n",
       "rec usage \"a\" as E2  <<(T,blue)action>> [[psysml:1bfaea47-077a-4258-abab-849ce06009df ]] {\r\n",
       "rec usage \"start: Action\\n//:>>Occurrence::startShot// \" as E3  <<(T,blue)action>> [[psysml:a720e092-6bcd-479c-a1ff-52104ff4d712 ]] {\r\n",
       "}\r\n",
       "}\r\n",
       "}\r\n",
       "@enduml\r\n",
       "\n",
       "PlantUML version 1.2020.13(Sat Jun 13 12:26:38 UTC 2020)\n",
       "(EPL source distribution)\n",
       "Java Runtime: OpenJDK Runtime Environment\n",
       "JVM: OpenJDK 64-Bit Server VM\n",
       "Default Encoding: UTF-8\n",
       "Language: en\n",
       "Country: null\n",
       "--></g></svg>"
      ]
     },
     "execution_count": 47,
     "metadata": {},
     "output_type": "execute_result"
    }
   ],
   "source": [
    "%viz --style=\"TB\" --view=\"Interconnection\" \"ActionTest\""
   ]
  },
  {
   "cell_type": "code",
   "execution_count": 48,
   "id": "lightweight-southwest",
   "metadata": {
    "execution": {
     "iopub.execute_input": "2021-03-25T13:17:19.221640Z",
     "iopub.status.busy": "2021-03-25T13:17:19.221206Z",
     "iopub.status.idle": "2021-03-25T13:17:19.269241Z",
     "shell.execute_reply": "2021-03-25T13:17:19.269695Z"
    }
   },
   "outputs": [
    {
     "data": {
      "image/svg+xml": [
       "<?xml version=\"1.0\" encoding=\"UTF-8\" standalone=\"no\"?><svg xmlns=\"http://www.w3.org/2000/svg\" xmlns:xlink=\"http://www.w3.org/1999/xlink\" contentScriptType=\"application/ecmascript\" contentStyleType=\"text/css\" height=\"128px\" preserveAspectRatio=\"none\" style=\"width:111px;height:128px;\" version=\"1.1\" viewBox=\"0 0 111 128\" width=\"111px\" zoomAndPan=\"magnify\"><defs/><g><!--MD5=[fbc87193dbaf4d95561dea2c320d4a47]\n",
       "cluster E1--><a href=\"psysml:1bfaea47-077a-4258-abab-849ce06009df\" target=\"_top\" title=\"psysml:1bfaea47-077a-4258-abab-849ce06009df\" xlink:actuate=\"onRequest\" xlink:href=\"psysml:1bfaea47-077a-4258-abab-849ce06009df\" xlink:show=\"new\" xlink:title=\"psysml:1bfaea47-077a-4258-abab-849ce06009df\" xlink:type=\"simple\"><rect fill=\"#FFFFFF\" height=\"110\" id=\"E1\" rx=\"10\" ry=\"10\" style=\"stroke: #383838; stroke-width: 1.5;\" width=\"92\" x=\"7\" y=\"7\"/><rect fill=\"#F8F8F8\" height=\"37.9375\" rx=\"10\" ry=\"10\" style=\"stroke: #F8F8F8; stroke-width: 1.5;\" width=\"92\" x=\"7\" y=\"7\"/><rect fill=\"#F8F8F8\" height=\"10\" style=\"stroke: #F8F8F8; stroke-width: 1.5;\" width=\"92\" x=\"7\" y=\"34.9375\"/><rect fill=\"none\" height=\"110\" id=\"E1\" rx=\"10\" ry=\"10\" style=\"stroke: #383838; stroke-width: 1.5;\" width=\"92\" x=\"7\" y=\"7\"/><text fill=\"#000000\" font-family=\"sans-serif\" font-size=\"12\" font-style=\"italic\" lengthAdjust=\"spacingAndGlyphs\" textLength=\"53\" x=\"26.5\" y=\"23.1387\">«action»</text><text fill=\"#000000\" font-family=\"sans-serif\" font-size=\"12\" lengthAdjust=\"spacingAndGlyphs\" textLength=\"8\" x=\"49\" y=\"37.1074\">a</text><line style=\"stroke: #383838; stroke-width: 1.0;\" x1=\"7\" x2=\"99\" y1=\"44.9375\" y2=\"44.9375\"/></a><g id=\"E1.E2\"><a href=\"psysml:a720e092-6bcd-479c-a1ff-52104ff4d712\" target=\"_top\" title=\"psysml:a720e092-6bcd-479c-a1ff-52104ff4d712\" xlink:actuate=\"onRequest\" xlink:href=\"psysml:a720e092-6bcd-479c-a1ff-52104ff4d712\" xlink:show=\"new\" xlink:title=\"psysml:a720e092-6bcd-479c-a1ff-52104ff4d712\" xlink:type=\"simple\"><rect fill=\"#FFFFFF\" height=\"42.9375\" id=\"E2\" rx=\"10\" ry=\"10\" style=\"stroke: #383838; stroke-width: 1.5;\" width=\"60\" x=\"23\" y=\"58\"/><rect fill=\"#F8F8F8\" height=\"37.9375\" rx=\"10\" ry=\"10\" style=\"stroke: #F8F8F8; stroke-width: 1.5;\" width=\"60\" x=\"23\" y=\"58\"/><rect fill=\"#F8F8F8\" height=\"10\" style=\"stroke: #F8F8F8; stroke-width: 1.5;\" width=\"60\" x=\"23\" y=\"85.9375\"/><rect fill=\"none\" height=\"42.9375\" id=\"E2\" rx=\"10\" ry=\"10\" style=\"stroke: #383838; stroke-width: 1.5;\" width=\"60\" x=\"23\" y=\"58\"/><text fill=\"#000000\" font-family=\"sans-serif\" font-size=\"12\" font-style=\"italic\" lengthAdjust=\"spacingAndGlyphs\" textLength=\"53\" x=\"26.5\" y=\"74.1387\">«action»</text><text fill=\"#000000\" font-family=\"sans-serif\" font-size=\"12\" lengthAdjust=\"spacingAndGlyphs\" textLength=\"30\" x=\"38\" y=\"88.1074\">start</text></a></g><!--MD5=[5e623ea820c3c02bdc262bb3972d7c4b]\n",
       "@startuml\r\n",
       "skinparam ranksep 8\r\n",
       "top to bottom direction\r\n",
       "skinparam monochrome true\r\n",
       "skinparam classbackgroundcolor white\r\n",
       "skinparam shadowing false\r\n",
       "skinparam wrapWidth 300\r\n",
       "hide circle\r\n",
       "\r\n",
       "rec usage \"a\" as E1  <<(T,blue)action>> [[psysml:1bfaea47-077a-4258-abab-849ce06009df ]] {\r\n",
       "rec usage \"start\" as E2  <<(T,blue)action>> [[psysml:a720e092-6bcd-479c-a1ff-52104ff4d712 ]] {\r\n",
       "}\r\n",
       "\r\n",
       "}\r\n",
       "\r\n",
       "@enduml\r\n",
       "\n",
       "PlantUML version 1.2020.13(Sat Jun 13 12:26:38 UTC 2020)\n",
       "(EPL source distribution)\n",
       "Java Runtime: OpenJDK Runtime Environment\n",
       "JVM: OpenJDK 64-Bit Server VM\n",
       "Default Encoding: UTF-8\n",
       "Language: en\n",
       "Country: null\n",
       "--></g></svg>"
      ]
     },
     "execution_count": 48,
     "metadata": {},
     "output_type": "execute_result"
    }
   ],
   "source": [
    "%viz --style=\"TB\" --view=\"Action\" \"ActionTest\""
   ]
  },
  {
   "cell_type": "code",
   "execution_count": 49,
   "id": "imperial-belief",
   "metadata": {
    "execution": {
     "iopub.execute_input": "2021-03-25T13:17:19.320940Z",
     "iopub.status.busy": "2021-03-25T13:17:19.320203Z",
     "iopub.status.idle": "2021-03-25T13:17:19.826133Z",
     "shell.execute_reply": "2021-03-25T13:17:19.825681Z"
    }
   },
   "outputs": [
    {
     "data": {
      "image/svg+xml": [
       "<?xml version=\"1.0\" encoding=\"UTF-8\" standalone=\"no\"?><svg xmlns=\"http://www.w3.org/2000/svg\" xmlns:xlink=\"http://www.w3.org/1999/xlink\" contentScriptType=\"application/ecmascript\" contentStyleType=\"text/css\" height=\"157px\" preserveAspectRatio=\"none\" style=\"width:230px;height:157px;\" version=\"1.1\" viewBox=\"0 0 230 157\" width=\"230px\" zoomAndPan=\"magnify\"><defs/><g><!--MD5=[fbc87193dbaf4d95561dea2c320d4a47]\n",
       "cluster E1--><a href=\"psysml:7d27680f-a8ad-4796-902f-be0a7d0ccba0\" target=\"_top\" title=\"psysml:7d27680f-a8ad-4796-902f-be0a7d0ccba0\" xlink:actuate=\"onRequest\" xlink:href=\"psysml:7d27680f-a8ad-4796-902f-be0a7d0ccba0\" xlink:show=\"new\" xlink:title=\"psysml:7d27680f-a8ad-4796-902f-be0a7d0ccba0\" xlink:type=\"simple\"><polygon fill=\"#FFFFFF\" points=\"16,6,107,6,114,28.2969,208,28.2969,208,145,16,145,16,6\" style=\"stroke: #000000; stroke-width: 1.5;\"/><line style=\"stroke: #000000; stroke-width: 1.5;\" x1=\"16\" x2=\"114\" y1=\"28.2969\" y2=\"28.2969\"/><text fill=\"#000000\" font-family=\"sans-serif\" font-size=\"14\" font-weight=\"bold\" lengthAdjust=\"spacingAndGlyphs\" textLength=\"85\" x=\"20\" y=\"20.9951\">ActionTest</text></a><!--MD5=[b4997ac47864f28c2f74865a473b2911]\n",
       "class E2--><a href=\"psysml:1bfaea47-077a-4258-abab-849ce06009df\" target=\"_top\" title=\"psysml:1bfaea47-077a-4258-abab-849ce06009df\" xlink:actuate=\"onRequest\" xlink:href=\"psysml:1bfaea47-077a-4258-abab-849ce06009df\" xlink:show=\"new\" xlink:title=\"psysml:1bfaea47-077a-4258-abab-849ce06009df\" xlink:type=\"simple\"><rect fill=\"#FFFFFF\" height=\"88.3516\" id=\"E2\" rx=\"10\" ry=\"10\" style=\"stroke: #383838; stroke-width: 1.5;\" width=\"160\" x=\"32\" y=\"41\"/><text fill=\"#000000\" font-family=\"sans-serif\" font-size=\"12\" font-style=\"italic\" lengthAdjust=\"spacingAndGlyphs\" textLength=\"53\" x=\"85.5\" y=\"57.1387\">«action»</text><text fill=\"#000000\" font-family=\"sans-serif\" font-size=\"12\" lengthAdjust=\"spacingAndGlyphs\" textLength=\"8\" x=\"108\" y=\"71.1074\">a</text><line style=\"stroke: #383838; stroke-width: 1.5;\" x1=\"33\" x2=\"191\" y1=\"78.9375\" y2=\"78.9375\"/><text fill=\"#000000\" font-family=\"sans-serif\" font-size=\"11\" lengthAdjust=\"spacingAndGlyphs\" textLength=\"69\" x=\"38\" y=\"109.9526\">start: Action</text><text fill=\"#000000\" font-family=\"sans-serif\" font-size=\"11\" font-style=\"italic\" lengthAdjust=\"spacingAndGlyphs\" textLength=\"148\" x=\"38\" y=\"122.7573\">:&gt;&gt;Occurrence::startShot</text><line style=\"stroke: #383838; stroke-width: 1.0;\" x1=\"33\" x2=\"91.5\" y1=\"93.3398\" y2=\"93.3398\"/><text fill=\"#000000\" font-family=\"sans-serif\" font-size=\"11\" lengthAdjust=\"spacingAndGlyphs\" textLength=\"41\" x=\"91.5\" y=\"96.6479\">actions</text><line style=\"stroke: #383838; stroke-width: 1.0;\" x1=\"132.5\" x2=\"191\" y1=\"93.3398\" y2=\"93.3398\"/></a><!--MD5=[c6ffcadbbfa91d0b12a2e8d5a90321b1]\n",
       "@startuml\r\n",
       "top to bottom direction\r\n",
       "skinparam monochrome true\r\n",
       "skinparam classbackgroundcolor white\r\n",
       "skinparam shadowing false\r\n",
       "skinparam wrapWidth 300\r\n",
       "hide circle\r\n",
       "\r\n",
       "package \"ActionTest\" as E1  [[psysml:7d27680f-a8ad-4796-902f-be0a7d0ccba0 ]]  {\r\n",
       "comp usage \"a\" as E2  <<(T,blue)action>> [[psysml:1bfaea47-077a-4258-abab-849ce06009df ]] {\r\n",
       "- - actions - -\r\n",
       "start: Action\\n//:>>Occurrence::startShot// \r\n",
       "}\r\n",
       "}\r\n",
       "@enduml\r\n",
       "\n",
       "PlantUML version 1.2020.13(Sat Jun 13 12:26:38 UTC 2020)\n",
       "(EPL source distribution)\n",
       "Java Runtime: OpenJDK Runtime Environment\n",
       "JVM: OpenJDK 64-Bit Server VM\n",
       "Default Encoding: UTF-8\n",
       "Language: en\n",
       "Country: null\n",
       "--></g></svg>"
      ]
     },
     "execution_count": 49,
     "metadata": {},
     "output_type": "execute_result"
    }
   ],
   "source": [
    "%viz --style=\"TB\" --view=\"Sequence\" \"ActionTest\""
   ]
  },
  {
   "cell_type": "code",
   "execution_count": 50,
   "id": "initial-valley",
   "metadata": {
    "execution": {
     "iopub.execute_input": "2021-03-25T13:17:19.876578Z",
     "iopub.status.busy": "2021-03-25T13:17:19.875858Z",
     "iopub.status.idle": "2021-03-25T13:17:19.948676Z",
     "shell.execute_reply": "2021-03-25T13:17:19.949143Z"
    }
   },
   "outputs": [
    {
     "data": {
      "image/svg+xml": [
       "<?xml version=\"1.0\" encoding=\"UTF-8\" standalone=\"no\"?><svg xmlns=\"http://www.w3.org/2000/svg\" xmlns:xlink=\"http://www.w3.org/1999/xlink\" contentScriptType=\"application/ecmascript\" contentStyleType=\"text/css\" height=\"195px\" preserveAspectRatio=\"none\" style=\"width:178px;height:195px;\" version=\"1.1\" viewBox=\"0 0 178 195\" width=\"178px\" zoomAndPan=\"magnify\"><defs/><g><!--MD5=[fbc87193dbaf4d95561dea2c320d4a47]\n",
       "cluster E1--><a href=\"psysml:7d27680f-a8ad-4796-902f-be0a7d0ccba0\" target=\"_top\" title=\"psysml:7d27680f-a8ad-4796-902f-be0a7d0ccba0\" xlink:actuate=\"onRequest\" xlink:href=\"psysml:7d27680f-a8ad-4796-902f-be0a7d0ccba0\" xlink:show=\"new\" xlink:title=\"psysml:7d27680f-a8ad-4796-902f-be0a7d0ccba0\" xlink:type=\"simple\"><polygon fill=\"#FFFFFF\" points=\"16,6,107,6,114,28.2969,156,28.2969,156,183,16,183,16,6\" style=\"stroke: #000000; stroke-width: 1.5;\"/><line style=\"stroke: #000000; stroke-width: 1.5;\" x1=\"16\" x2=\"114\" y1=\"28.2969\" y2=\"28.2969\"/><text fill=\"#000000\" font-family=\"sans-serif\" font-size=\"14\" font-weight=\"bold\" lengthAdjust=\"spacingAndGlyphs\" textLength=\"85\" x=\"20\" y=\"20.9951\">ActionTest</text></a><!--MD5=[e4f7fae6ed58524ba242bb0b0d3be6b7]\n",
       "cluster E2--><a href=\"psysml:1bfaea47-077a-4258-abab-849ce06009df\" target=\"_top\" title=\"psysml:1bfaea47-077a-4258-abab-849ce06009df\" xlink:actuate=\"onRequest\" xlink:href=\"psysml:1bfaea47-077a-4258-abab-849ce06009df\" xlink:show=\"new\" xlink:title=\"psysml:1bfaea47-077a-4258-abab-849ce06009df\" xlink:type=\"simple\"><rect fill=\"#FFFFFF\" height=\"110\" id=\"E2\" rx=\"10\" ry=\"10\" style=\"stroke: #383838; stroke-width: 1.5;\" width=\"92\" x=\"40\" y=\"49\"/><rect fill=\"#F8F8F8\" height=\"37.9375\" rx=\"10\" ry=\"10\" style=\"stroke: #F8F8F8; stroke-width: 1.5;\" width=\"92\" x=\"40\" y=\"49\"/><rect fill=\"#F8F8F8\" height=\"10\" style=\"stroke: #F8F8F8; stroke-width: 1.5;\" width=\"92\" x=\"40\" y=\"76.9375\"/><rect fill=\"none\" height=\"110\" id=\"E2\" rx=\"10\" ry=\"10\" style=\"stroke: #383838; stroke-width: 1.5;\" width=\"92\" x=\"40\" y=\"49\"/><text fill=\"#000000\" font-family=\"sans-serif\" font-size=\"12\" font-style=\"italic\" lengthAdjust=\"spacingAndGlyphs\" textLength=\"53\" x=\"59.5\" y=\"65.1387\">«action»</text><text fill=\"#000000\" font-family=\"sans-serif\" font-size=\"12\" lengthAdjust=\"spacingAndGlyphs\" textLength=\"8\" x=\"82\" y=\"79.1074\">a</text><line style=\"stroke: #383838; stroke-width: 1.0;\" x1=\"40\" x2=\"132\" y1=\"86.9375\" y2=\"86.9375\"/></a><g id=\"E1.E2.E3\"><a href=\"psysml:a720e092-6bcd-479c-a1ff-52104ff4d712\" target=\"_top\" title=\"psysml:a720e092-6bcd-479c-a1ff-52104ff4d712\" xlink:actuate=\"onRequest\" xlink:href=\"psysml:a720e092-6bcd-479c-a1ff-52104ff4d712\" xlink:show=\"new\" xlink:title=\"psysml:a720e092-6bcd-479c-a1ff-52104ff4d712\" xlink:type=\"simple\"><rect fill=\"#FFFFFF\" height=\"42.9375\" id=\"E3\" rx=\"10\" ry=\"10\" style=\"stroke: #383838; stroke-width: 1.5;\" width=\"60\" x=\"56\" y=\"100\"/><rect fill=\"#F8F8F8\" height=\"37.9375\" rx=\"10\" ry=\"10\" style=\"stroke: #F8F8F8; stroke-width: 1.5;\" width=\"60\" x=\"56\" y=\"100\"/><rect fill=\"#F8F8F8\" height=\"10\" style=\"stroke: #F8F8F8; stroke-width: 1.5;\" width=\"60\" x=\"56\" y=\"127.9375\"/><rect fill=\"none\" height=\"42.9375\" id=\"E3\" rx=\"10\" ry=\"10\" style=\"stroke: #383838; stroke-width: 1.5;\" width=\"60\" x=\"56\" y=\"100\"/><text fill=\"#000000\" font-family=\"sans-serif\" font-size=\"12\" font-style=\"italic\" lengthAdjust=\"spacingAndGlyphs\" textLength=\"53\" x=\"59.5\" y=\"116.1387\">«action»</text><text fill=\"#000000\" font-family=\"sans-serif\" font-size=\"12\" lengthAdjust=\"spacingAndGlyphs\" textLength=\"30\" x=\"71\" y=\"130.1074\">start</text></a></g><!--MD5=[8d21610731e549ddd19fedd190cc046c]\n",
       "@startuml\r\n",
       "top to bottom direction\r\n",
       "skinparam monochrome true\r\n",
       "skinparam classbackgroundcolor white\r\n",
       "skinparam shadowing false\r\n",
       "skinparam wrapWidth 300\r\n",
       "hide circle\r\n",
       "\r\n",
       "package \"ActionTest\" as E1  [[psysml:7d27680f-a8ad-4796-902f-be0a7d0ccba0 ]]  {\r\n",
       "rec usage \"a\" as E2  <<(T,blue)action>> [[psysml:1bfaea47-077a-4258-abab-849ce06009df ]] {\r\n",
       "rec usage \"start\" as E3  <<(T,blue)action>> [[psysml:a720e092-6bcd-479c-a1ff-52104ff4d712 ]] {\r\n",
       "}\r\n",
       "\r\n",
       "}\r\n",
       "\r\n",
       "}\r\n",
       "@enduml\r\n",
       "\n",
       "PlantUML version 1.2020.13(Sat Jun 13 12:26:38 UTC 2020)\n",
       "(EPL source distribution)\n",
       "Java Runtime: OpenJDK Runtime Environment\n",
       "JVM: OpenJDK 64-Bit Server VM\n",
       "Default Encoding: UTF-8\n",
       "Language: en\n",
       "Country: null\n",
       "--></g></svg>"
      ]
     },
     "execution_count": 50,
     "metadata": {},
     "output_type": "execute_result"
    }
   ],
   "source": [
    "%viz --style=\"TB\" --view=\"MIXED\" \"ActionTest\""
   ]
  },
  {
   "cell_type": "code",
   "execution_count": 51,
   "id": "psychological-blond",
   "metadata": {
    "execution": {
     "iopub.execute_input": "2021-03-25T13:17:20.003055Z",
     "iopub.status.busy": "2021-03-25T13:17:20.002632Z",
     "iopub.status.idle": "2021-03-25T13:17:20.068618Z",
     "shell.execute_reply": "2021-03-25T13:17:20.067499Z"
    }
   },
   "outputs": [
    {
     "data": {
      "image/svg+xml": [
       "<?xml version=\"1.0\" encoding=\"UTF-8\" standalone=\"no\"?><svg xmlns=\"http://www.w3.org/2000/svg\" xmlns:xlink=\"http://www.w3.org/1999/xlink\" contentScriptType=\"application/ecmascript\" contentStyleType=\"text/css\" height=\"195px\" preserveAspectRatio=\"none\" style=\"width:178px;height:195px;\" version=\"1.1\" viewBox=\"0 0 178 195\" width=\"178px\" zoomAndPan=\"magnify\"><defs/><g><!--MD5=[fbc87193dbaf4d95561dea2c320d4a47]\n",
       "cluster E1--><a href=\"psysml:7d27680f-a8ad-4796-902f-be0a7d0ccba0\" target=\"_top\" title=\"psysml:7d27680f-a8ad-4796-902f-be0a7d0ccba0\" xlink:actuate=\"onRequest\" xlink:href=\"psysml:7d27680f-a8ad-4796-902f-be0a7d0ccba0\" xlink:show=\"new\" xlink:title=\"psysml:7d27680f-a8ad-4796-902f-be0a7d0ccba0\" xlink:type=\"simple\"><polygon fill=\"#FFFFFF\" points=\"16,6,107,6,114,28.2969,156,28.2969,156,183,16,183,16,6\" style=\"stroke: #000000; stroke-width: 1.5;\"/><line style=\"stroke: #000000; stroke-width: 1.5;\" x1=\"16\" x2=\"114\" y1=\"28.2969\" y2=\"28.2969\"/><text fill=\"#000000\" font-family=\"sans-serif\" font-size=\"14\" font-weight=\"bold\" lengthAdjust=\"spacingAndGlyphs\" textLength=\"85\" x=\"20\" y=\"20.9951\">ActionTest</text></a><!--MD5=[e4f7fae6ed58524ba242bb0b0d3be6b7]\n",
       "cluster E2--><a href=\"psysml:1bfaea47-077a-4258-abab-849ce06009df\" target=\"_top\" title=\"psysml:1bfaea47-077a-4258-abab-849ce06009df\" xlink:actuate=\"onRequest\" xlink:href=\"psysml:1bfaea47-077a-4258-abab-849ce06009df\" xlink:show=\"new\" xlink:title=\"psysml:1bfaea47-077a-4258-abab-849ce06009df\" xlink:type=\"simple\"><rect fill=\"#FFFFFF\" height=\"110\" id=\"E2\" rx=\"10\" ry=\"10\" style=\"stroke: #383838; stroke-width: 1.5;\" width=\"92\" x=\"40\" y=\"49\"/><rect fill=\"#F8F8F8\" height=\"37.9375\" rx=\"10\" ry=\"10\" style=\"stroke: #F8F8F8; stroke-width: 1.5;\" width=\"92\" x=\"40\" y=\"49\"/><rect fill=\"#F8F8F8\" height=\"10\" style=\"stroke: #F8F8F8; stroke-width: 1.5;\" width=\"92\" x=\"40\" y=\"76.9375\"/><rect fill=\"none\" height=\"110\" id=\"E2\" rx=\"10\" ry=\"10\" style=\"stroke: #383838; stroke-width: 1.5;\" width=\"92\" x=\"40\" y=\"49\"/><text fill=\"#000000\" font-family=\"sans-serif\" font-size=\"12\" font-style=\"italic\" lengthAdjust=\"spacingAndGlyphs\" textLength=\"53\" x=\"59.5\" y=\"65.1387\">«action»</text><text fill=\"#000000\" font-family=\"sans-serif\" font-size=\"12\" lengthAdjust=\"spacingAndGlyphs\" textLength=\"8\" x=\"82\" y=\"79.1074\">a</text><line style=\"stroke: #383838; stroke-width: 1.0;\" x1=\"40\" x2=\"132\" y1=\"86.9375\" y2=\"86.9375\"/></a><g id=\"E1.E2.E3\"><a href=\"psysml:a720e092-6bcd-479c-a1ff-52104ff4d712\" target=\"_top\" title=\"psysml:a720e092-6bcd-479c-a1ff-52104ff4d712\" xlink:actuate=\"onRequest\" xlink:href=\"psysml:a720e092-6bcd-479c-a1ff-52104ff4d712\" xlink:show=\"new\" xlink:title=\"psysml:a720e092-6bcd-479c-a1ff-52104ff4d712\" xlink:type=\"simple\"><rect fill=\"#FFFFFF\" height=\"42.9375\" id=\"E3\" rx=\"10\" ry=\"10\" style=\"stroke: #383838; stroke-width: 1.5;\" width=\"60\" x=\"56\" y=\"100\"/><rect fill=\"#F8F8F8\" height=\"37.9375\" rx=\"10\" ry=\"10\" style=\"stroke: #F8F8F8; stroke-width: 1.5;\" width=\"60\" x=\"56\" y=\"100\"/><rect fill=\"#F8F8F8\" height=\"10\" style=\"stroke: #F8F8F8; stroke-width: 1.5;\" width=\"60\" x=\"56\" y=\"127.9375\"/><rect fill=\"none\" height=\"42.9375\" id=\"E3\" rx=\"10\" ry=\"10\" style=\"stroke: #383838; stroke-width: 1.5;\" width=\"60\" x=\"56\" y=\"100\"/><text fill=\"#000000\" font-family=\"sans-serif\" font-size=\"12\" font-style=\"italic\" lengthAdjust=\"spacingAndGlyphs\" textLength=\"53\" x=\"59.5\" y=\"116.1387\">«action»</text><text fill=\"#000000\" font-family=\"sans-serif\" font-size=\"12\" lengthAdjust=\"spacingAndGlyphs\" textLength=\"30\" x=\"71\" y=\"130.1074\">start</text></a></g><!--MD5=[669e7318f9137570fc7feedc9a9b2619]\n",
       "@startuml\r\n",
       "skinparam linetype ortho\r\n",
       "skinparam monochrome true\r\n",
       "skinparam classbackgroundcolor white\r\n",
       "skinparam shadowing false\r\n",
       "skinparam wrapWidth 300\r\n",
       "hide circle\r\n",
       "\r\n",
       "package \"ActionTest\" as E1  [[psysml:7d27680f-a8ad-4796-902f-be0a7d0ccba0 ]]  {\r\n",
       "rec usage \"a\" as E2  <<(T,blue)action>> [[psysml:1bfaea47-077a-4258-abab-849ce06009df ]] {\r\n",
       "rec usage \"start\" as E3  <<(T,blue)action>> [[psysml:a720e092-6bcd-479c-a1ff-52104ff4d712 ]] {\r\n",
       "}\r\n",
       "\r\n",
       "}\r\n",
       "\r\n",
       "}\r\n",
       "@enduml\r\n",
       "\n",
       "PlantUML version 1.2020.13(Sat Jun 13 12:26:38 UTC 2020)\n",
       "(EPL source distribution)\n",
       "Java Runtime: OpenJDK Runtime Environment\n",
       "JVM: OpenJDK 64-Bit Server VM\n",
       "Default Encoding: UTF-8\n",
       "Language: en\n",
       "Country: null\n",
       "--></g></svg>"
      ]
     },
     "execution_count": 51,
     "metadata": {},
     "output_type": "execute_result"
    }
   ],
   "source": [
    "%viz --style=\"ORTHOLINE\" --view=\"Default\" \"ActionTest\""
   ]
  },
  {
   "cell_type": "code",
   "execution_count": 52,
   "id": "dated-eagle",
   "metadata": {
    "execution": {
     "iopub.execute_input": "2021-03-25T13:17:20.128655Z",
     "iopub.status.busy": "2021-03-25T13:17:20.128130Z",
     "iopub.status.idle": "2021-03-25T13:17:20.628687Z",
     "shell.execute_reply": "2021-03-25T13:17:20.628090Z"
    }
   },
   "outputs": [
    {
     "data": {
      "image/svg+xml": [
       "<?xml version=\"1.0\" encoding=\"UTF-8\" standalone=\"no\"?><svg xmlns=\"http://www.w3.org/2000/svg\" xmlns:xlink=\"http://www.w3.org/1999/xlink\" contentScriptType=\"application/ecmascript\" contentStyleType=\"text/css\" height=\"157px\" preserveAspectRatio=\"none\" style=\"width:230px;height:157px;\" version=\"1.1\" viewBox=\"0 0 230 157\" width=\"230px\" zoomAndPan=\"magnify\"><defs/><g><!--MD5=[fbc87193dbaf4d95561dea2c320d4a47]\n",
       "cluster E1--><a href=\"psysml:7d27680f-a8ad-4796-902f-be0a7d0ccba0\" target=\"_top\" title=\"psysml:7d27680f-a8ad-4796-902f-be0a7d0ccba0\" xlink:actuate=\"onRequest\" xlink:href=\"psysml:7d27680f-a8ad-4796-902f-be0a7d0ccba0\" xlink:show=\"new\" xlink:title=\"psysml:7d27680f-a8ad-4796-902f-be0a7d0ccba0\" xlink:type=\"simple\"><polygon fill=\"#FFFFFF\" points=\"16,6,107,6,114,28.2969,208,28.2969,208,145,16,145,16,6\" style=\"stroke: #000000; stroke-width: 1.5;\"/><line style=\"stroke: #000000; stroke-width: 1.5;\" x1=\"16\" x2=\"114\" y1=\"28.2969\" y2=\"28.2969\"/><text fill=\"#000000\" font-family=\"sans-serif\" font-size=\"14\" font-weight=\"bold\" lengthAdjust=\"spacingAndGlyphs\" textLength=\"85\" x=\"20\" y=\"20.9951\">ActionTest</text></a><!--MD5=[b4997ac47864f28c2f74865a473b2911]\n",
       "class E2--><a href=\"psysml:1bfaea47-077a-4258-abab-849ce06009df\" target=\"_top\" title=\"psysml:1bfaea47-077a-4258-abab-849ce06009df\" xlink:actuate=\"onRequest\" xlink:href=\"psysml:1bfaea47-077a-4258-abab-849ce06009df\" xlink:show=\"new\" xlink:title=\"psysml:1bfaea47-077a-4258-abab-849ce06009df\" xlink:type=\"simple\"><rect fill=\"#FFFFFF\" height=\"88.3516\" id=\"E2\" rx=\"10\" ry=\"10\" style=\"stroke: #383838; stroke-width: 1.5;\" width=\"160\" x=\"32\" y=\"41\"/><text fill=\"#000000\" font-family=\"sans-serif\" font-size=\"12\" font-style=\"italic\" lengthAdjust=\"spacingAndGlyphs\" textLength=\"53\" x=\"85.5\" y=\"57.1387\">«action»</text><text fill=\"#000000\" font-family=\"sans-serif\" font-size=\"12\" lengthAdjust=\"spacingAndGlyphs\" textLength=\"8\" x=\"108\" y=\"71.1074\">a</text><line style=\"stroke: #383838; stroke-width: 1.5;\" x1=\"33\" x2=\"191\" y1=\"78.9375\" y2=\"78.9375\"/><text fill=\"#000000\" font-family=\"sans-serif\" font-size=\"11\" lengthAdjust=\"spacingAndGlyphs\" textLength=\"69\" x=\"38\" y=\"109.9526\">start: Action</text><text fill=\"#000000\" font-family=\"sans-serif\" font-size=\"11\" font-style=\"italic\" lengthAdjust=\"spacingAndGlyphs\" textLength=\"148\" x=\"38\" y=\"122.7573\">:&gt;&gt;Occurrence::startShot</text><line style=\"stroke: #383838; stroke-width: 1.0;\" x1=\"33\" x2=\"91.5\" y1=\"93.3398\" y2=\"93.3398\"/><text fill=\"#000000\" font-family=\"sans-serif\" font-size=\"11\" lengthAdjust=\"spacingAndGlyphs\" textLength=\"41\" x=\"91.5\" y=\"96.6479\">actions</text><line style=\"stroke: #383838; stroke-width: 1.0;\" x1=\"132.5\" x2=\"191\" y1=\"93.3398\" y2=\"93.3398\"/></a><!--MD5=[73c0126569251eae304e285d5825c4c4]\n",
       "@startuml\r\n",
       "skinparam linetype ortho\r\n",
       "skinparam monochrome true\r\n",
       "skinparam classbackgroundcolor white\r\n",
       "skinparam shadowing false\r\n",
       "skinparam wrapWidth 300\r\n",
       "hide circle\r\n",
       "\r\n",
       "package \"ActionTest\" as E1  [[psysml:7d27680f-a8ad-4796-902f-be0a7d0ccba0 ]]  {\r\n",
       "comp usage \"a\" as E2  <<(T,blue)action>> [[psysml:1bfaea47-077a-4258-abab-849ce06009df ]] {\r\n",
       "- - actions - -\r\n",
       "start: Action\\n//:>>Occurrence::startShot// \r\n",
       "}\r\n",
       "}\r\n",
       "@enduml\r\n",
       "\n",
       "PlantUML version 1.2020.13(Sat Jun 13 12:26:38 UTC 2020)\n",
       "(EPL source distribution)\n",
       "Java Runtime: OpenJDK Runtime Environment\n",
       "JVM: OpenJDK 64-Bit Server VM\n",
       "Default Encoding: UTF-8\n",
       "Language: en\n",
       "Country: null\n",
       "--></g></svg>"
      ]
     },
     "execution_count": 52,
     "metadata": {},
     "output_type": "execute_result"
    }
   ],
   "source": [
    "%viz --style=\"ORTHOLINE\" --view=\"Tree\" \"ActionTest\""
   ]
  },
  {
   "cell_type": "code",
   "execution_count": 53,
   "id": "nuclear-database",
   "metadata": {
    "execution": {
     "iopub.execute_input": "2021-03-25T13:17:20.676376Z",
     "iopub.status.busy": "2021-03-25T13:17:20.675720Z",
     "iopub.status.idle": "2021-03-25T13:17:20.683273Z",
     "shell.execute_reply": "2021-03-25T13:17:20.683702Z"
    }
   },
   "outputs": [
    {
     "data": {
      "image/svg+xml": [
       "<?xml version=\"1.0\" encoding=\"UTF-8\" standalone=\"no\"?><svg xmlns=\"http://www.w3.org/2000/svg\" xmlns:xlink=\"http://www.w3.org/1999/xlink\" contentScriptType=\"application/ecmascript\" contentStyleType=\"text/css\" height=\"12px\" preserveAspectRatio=\"none\" style=\"width:12px;height:12px;\" version=\"1.1\" viewBox=\"0 0 12 12\" width=\"12px\" zoomAndPan=\"magnify\"><defs/><g><!--MD5=[97d6f38768b311333d388e66b2b27985]\n",
       "@startuml\r\n",
       "skinparam linetype ortho\r\n",
       "skinparam monochrome true\r\n",
       "skinparam classbackgroundcolor white\r\n",
       "skinparam shadowing false\r\n",
       "skinparam wrapWidth 300\r\n",
       "hide circle\r\n",
       "\r\n",
       "@enduml\r\n",
       "\n",
       "PlantUML version 1.2020.13(Sat Jun 13 12:26:38 UTC 2020)\n",
       "(EPL source distribution)\n",
       "Java Runtime: OpenJDK Runtime Environment\n",
       "JVM: OpenJDK 64-Bit Server VM\n",
       "Default Encoding: UTF-8\n",
       "Language: en\n",
       "Country: null\n",
       "--></g></svg>"
      ]
     },
     "execution_count": 53,
     "metadata": {},
     "output_type": "execute_result"
    }
   ],
   "source": [
    "%viz --style=\"ORTHOLINE\" --view=\"State\" \"ActionTest\""
   ]
  },
  {
   "cell_type": "code",
   "execution_count": 54,
   "id": "authorized-connecticut",
   "metadata": {
    "execution": {
     "iopub.execute_input": "2021-03-25T13:17:20.734478Z",
     "iopub.status.busy": "2021-03-25T13:17:20.734002Z",
     "iopub.status.idle": "2021-03-25T13:17:20.824627Z",
     "shell.execute_reply": "2021-03-25T13:17:20.825088Z"
    }
   },
   "outputs": [
    {
     "data": {
      "image/svg+xml": [
       "<?xml version=\"1.0\" encoding=\"UTF-8\" standalone=\"no\"?><svg xmlns=\"http://www.w3.org/2000/svg\" xmlns:xlink=\"http://www.w3.org/1999/xlink\" contentScriptType=\"application/ecmascript\" contentStyleType=\"text/css\" height=\"209px\" preserveAspectRatio=\"none\" style=\"width:296px;height:209px;\" version=\"1.1\" viewBox=\"0 0 296 209\" width=\"296px\" zoomAndPan=\"magnify\"><defs/><g><!--MD5=[fbc87193dbaf4d95561dea2c320d4a47]\n",
       "cluster E1--><a href=\"psysml:7d27680f-a8ad-4796-902f-be0a7d0ccba0\" target=\"_top\" title=\"psysml:7d27680f-a8ad-4796-902f-be0a7d0ccba0\" xlink:actuate=\"onRequest\" xlink:href=\"psysml:7d27680f-a8ad-4796-902f-be0a7d0ccba0\" xlink:show=\"new\" xlink:title=\"psysml:7d27680f-a8ad-4796-902f-be0a7d0ccba0\" xlink:type=\"simple\"><polygon fill=\"#FFFFFF\" points=\"16,6,107,6,114,28.2969,274,28.2969,274,197,16,197,16,6\" style=\"stroke: #000000; stroke-width: 1.5;\"/><line style=\"stroke: #000000; stroke-width: 1.5;\" x1=\"16\" x2=\"114\" y1=\"28.2969\" y2=\"28.2969\"/><text fill=\"#000000\" font-family=\"sans-serif\" font-size=\"14\" font-weight=\"bold\" lengthAdjust=\"spacingAndGlyphs\" textLength=\"85\" x=\"20\" y=\"20.9951\">ActionTest</text></a><!--MD5=[e4f7fae6ed58524ba242bb0b0d3be6b7]\n",
       "cluster E2--><a href=\"psysml:1bfaea47-077a-4258-abab-849ce06009df\" target=\"_top\" title=\"psysml:1bfaea47-077a-4258-abab-849ce06009df\" xlink:actuate=\"onRequest\" xlink:href=\"psysml:1bfaea47-077a-4258-abab-849ce06009df\" xlink:show=\"new\" xlink:title=\"psysml:1bfaea47-077a-4258-abab-849ce06009df\" xlink:type=\"simple\"><rect fill=\"#FFFFFF\" height=\"124\" id=\"E2\" rx=\"10\" ry=\"10\" style=\"stroke: #383838; stroke-width: 1.5;\" width=\"210\" x=\"40\" y=\"49\"/><rect fill=\"#F8F8F8\" height=\"37.9375\" rx=\"10\" ry=\"10\" style=\"stroke: #F8F8F8; stroke-width: 1.5;\" width=\"210\" x=\"40\" y=\"49\"/><rect fill=\"#F8F8F8\" height=\"10\" style=\"stroke: #F8F8F8; stroke-width: 1.5;\" width=\"210\" x=\"40\" y=\"76.9375\"/><rect fill=\"none\" height=\"124\" id=\"E2\" rx=\"10\" ry=\"10\" style=\"stroke: #383838; stroke-width: 1.5;\" width=\"210\" x=\"40\" y=\"49\"/><text fill=\"#000000\" font-family=\"sans-serif\" font-size=\"12\" font-style=\"italic\" lengthAdjust=\"spacingAndGlyphs\" textLength=\"53\" x=\"118.5\" y=\"65.1387\">«action»</text><text fill=\"#000000\" font-family=\"sans-serif\" font-size=\"12\" lengthAdjust=\"spacingAndGlyphs\" textLength=\"8\" x=\"141\" y=\"79.1074\">a</text><line style=\"stroke: #383838; stroke-width: 1.0;\" x1=\"40\" x2=\"250\" y1=\"86.9375\" y2=\"86.9375\"/></a><g id=\"E1.E2.E3\"><a href=\"psysml:a720e092-6bcd-479c-a1ff-52104ff4d712\" target=\"_top\" title=\"psysml:a720e092-6bcd-479c-a1ff-52104ff4d712\" xlink:actuate=\"onRequest\" xlink:href=\"psysml:a720e092-6bcd-479c-a1ff-52104ff4d712\" xlink:show=\"new\" xlink:title=\"psysml:a720e092-6bcd-479c-a1ff-52104ff4d712\" xlink:type=\"simple\"><rect fill=\"#FFFFFF\" height=\"56.9063\" id=\"E3\" rx=\"10\" ry=\"10\" style=\"stroke: #383838; stroke-width: 1.5;\" width=\"178\" x=\"56\" y=\"100\"/><rect fill=\"#F8F8F8\" height=\"51.9063\" rx=\"10\" ry=\"10\" style=\"stroke: #F8F8F8; stroke-width: 1.5;\" width=\"178\" x=\"56\" y=\"100\"/><rect fill=\"#F8F8F8\" height=\"10\" style=\"stroke: #F8F8F8; stroke-width: 1.5;\" width=\"178\" x=\"56\" y=\"141.9063\"/><rect fill=\"none\" height=\"56.9063\" id=\"E3\" rx=\"10\" ry=\"10\" style=\"stroke: #383838; stroke-width: 1.5;\" width=\"178\" x=\"56\" y=\"100\"/><text fill=\"#000000\" font-family=\"sans-serif\" font-size=\"12\" font-style=\"italic\" lengthAdjust=\"spacingAndGlyphs\" textLength=\"53\" x=\"118.5\" y=\"116.1387\">«action»</text><text fill=\"#000000\" font-family=\"sans-serif\" font-size=\"12\" lengthAdjust=\"spacingAndGlyphs\" textLength=\"77\" x=\"106.5\" y=\"130.1074\">start: Action</text><text fill=\"#000000\" font-family=\"sans-serif\" font-size=\"12\" font-style=\"italic\" lengthAdjust=\"spacingAndGlyphs\" textLength=\"163\" x=\"61.5\" y=\"144.0762\">:&gt;&gt;Occurrence::startShot</text><text fill=\"#000000\" font-family=\"sans-serif\" font-size=\"12\" lengthAdjust=\"spacingAndGlyphs\" textLength=\"0\" x=\"228.5\" y=\"144.0762\"/></a></g><!--MD5=[aeedc8b8fb62941c3b96ea50da9107dd]\n",
       "@startuml\r\n",
       "skinparam ranksep 8\r\n",
       "skinparam rectangle {\r\n",
       " backgroundColor<<block>> LightGreen\r\n",
       "}\r\n",
       "skinparam linetype ortho\r\n",
       "skinparam monochrome true\r\n",
       "skinparam classbackgroundcolor white\r\n",
       "skinparam shadowing false\r\n",
       "skinparam wrapWidth 300\r\n",
       "hide circle\r\n",
       "\r\n",
       "package \"ActionTest\" as E1  [[psysml:7d27680f-a8ad-4796-902f-be0a7d0ccba0 ]]  {\r\n",
       "rec usage \"a\" as E2  <<(T,blue)action>> [[psysml:1bfaea47-077a-4258-abab-849ce06009df ]] {\r\n",
       "rec usage \"start: Action\\n//:>>Occurrence::startShot// \" as E3  <<(T,blue)action>> [[psysml:a720e092-6bcd-479c-a1ff-52104ff4d712 ]] {\r\n",
       "}\r\n",
       "}\r\n",
       "}\r\n",
       "@enduml\r\n",
       "\n",
       "PlantUML version 1.2020.13(Sat Jun 13 12:26:38 UTC 2020)\n",
       "(EPL source distribution)\n",
       "Java Runtime: OpenJDK Runtime Environment\n",
       "JVM: OpenJDK 64-Bit Server VM\n",
       "Default Encoding: UTF-8\n",
       "Language: en\n",
       "Country: null\n",
       "--></g></svg>"
      ]
     },
     "execution_count": 54,
     "metadata": {},
     "output_type": "execute_result"
    }
   ],
   "source": [
    "%viz --style=\"ORTHOLINE\" --view=\"Interconnection\" \"ActionTest\""
   ]
  },
  {
   "cell_type": "code",
   "execution_count": 55,
   "id": "conceptual-portal",
   "metadata": {
    "execution": {
     "iopub.execute_input": "2021-03-25T13:17:20.874995Z",
     "iopub.status.busy": "2021-03-25T13:17:20.874593Z",
     "iopub.status.idle": "2021-03-25T13:17:20.934434Z",
     "shell.execute_reply": "2021-03-25T13:17:20.935043Z"
    }
   },
   "outputs": [
    {
     "data": {
      "image/svg+xml": [
       "<?xml version=\"1.0\" encoding=\"UTF-8\" standalone=\"no\"?><svg xmlns=\"http://www.w3.org/2000/svg\" xmlns:xlink=\"http://www.w3.org/1999/xlink\" contentScriptType=\"application/ecmascript\" contentStyleType=\"text/css\" height=\"128px\" preserveAspectRatio=\"none\" style=\"width:111px;height:128px;\" version=\"1.1\" viewBox=\"0 0 111 128\" width=\"111px\" zoomAndPan=\"magnify\"><defs/><g><!--MD5=[fbc87193dbaf4d95561dea2c320d4a47]\n",
       "cluster E1--><a href=\"psysml:1bfaea47-077a-4258-abab-849ce06009df\" target=\"_top\" title=\"psysml:1bfaea47-077a-4258-abab-849ce06009df\" xlink:actuate=\"onRequest\" xlink:href=\"psysml:1bfaea47-077a-4258-abab-849ce06009df\" xlink:show=\"new\" xlink:title=\"psysml:1bfaea47-077a-4258-abab-849ce06009df\" xlink:type=\"simple\"><rect fill=\"#FFFFFF\" height=\"110\" id=\"E1\" rx=\"10\" ry=\"10\" style=\"stroke: #383838; stroke-width: 1.5;\" width=\"92\" x=\"7\" y=\"7\"/><rect fill=\"#F8F8F8\" height=\"37.9375\" rx=\"10\" ry=\"10\" style=\"stroke: #F8F8F8; stroke-width: 1.5;\" width=\"92\" x=\"7\" y=\"7\"/><rect fill=\"#F8F8F8\" height=\"10\" style=\"stroke: #F8F8F8; stroke-width: 1.5;\" width=\"92\" x=\"7\" y=\"34.9375\"/><rect fill=\"none\" height=\"110\" id=\"E1\" rx=\"10\" ry=\"10\" style=\"stroke: #383838; stroke-width: 1.5;\" width=\"92\" x=\"7\" y=\"7\"/><text fill=\"#000000\" font-family=\"sans-serif\" font-size=\"12\" font-style=\"italic\" lengthAdjust=\"spacingAndGlyphs\" textLength=\"53\" x=\"26.5\" y=\"23.1387\">«action»</text><text fill=\"#000000\" font-family=\"sans-serif\" font-size=\"12\" lengthAdjust=\"spacingAndGlyphs\" textLength=\"8\" x=\"49\" y=\"37.1074\">a</text><line style=\"stroke: #383838; stroke-width: 1.0;\" x1=\"7\" x2=\"99\" y1=\"44.9375\" y2=\"44.9375\"/></a><g id=\"E1.E2\"><a href=\"psysml:a720e092-6bcd-479c-a1ff-52104ff4d712\" target=\"_top\" title=\"psysml:a720e092-6bcd-479c-a1ff-52104ff4d712\" xlink:actuate=\"onRequest\" xlink:href=\"psysml:a720e092-6bcd-479c-a1ff-52104ff4d712\" xlink:show=\"new\" xlink:title=\"psysml:a720e092-6bcd-479c-a1ff-52104ff4d712\" xlink:type=\"simple\"><rect fill=\"#FFFFFF\" height=\"42.9375\" id=\"E2\" rx=\"10\" ry=\"10\" style=\"stroke: #383838; stroke-width: 1.5;\" width=\"60\" x=\"23\" y=\"58\"/><rect fill=\"#F8F8F8\" height=\"37.9375\" rx=\"10\" ry=\"10\" style=\"stroke: #F8F8F8; stroke-width: 1.5;\" width=\"60\" x=\"23\" y=\"58\"/><rect fill=\"#F8F8F8\" height=\"10\" style=\"stroke: #F8F8F8; stroke-width: 1.5;\" width=\"60\" x=\"23\" y=\"85.9375\"/><rect fill=\"none\" height=\"42.9375\" id=\"E2\" rx=\"10\" ry=\"10\" style=\"stroke: #383838; stroke-width: 1.5;\" width=\"60\" x=\"23\" y=\"58\"/><text fill=\"#000000\" font-family=\"sans-serif\" font-size=\"12\" font-style=\"italic\" lengthAdjust=\"spacingAndGlyphs\" textLength=\"53\" x=\"26.5\" y=\"74.1387\">«action»</text><text fill=\"#000000\" font-family=\"sans-serif\" font-size=\"12\" lengthAdjust=\"spacingAndGlyphs\" textLength=\"30\" x=\"38\" y=\"88.1074\">start</text></a></g><!--MD5=[fcf0075b7a5e1dec459f2df3b7e23d5a]\n",
       "@startuml\r\n",
       "skinparam ranksep 8\r\n",
       "skinparam linetype ortho\r\n",
       "skinparam monochrome true\r\n",
       "skinparam classbackgroundcolor white\r\n",
       "skinparam shadowing false\r\n",
       "skinparam wrapWidth 300\r\n",
       "hide circle\r\n",
       "\r\n",
       "rec usage \"a\" as E1  <<(T,blue)action>> [[psysml:1bfaea47-077a-4258-abab-849ce06009df ]] {\r\n",
       "rec usage \"start\" as E2  <<(T,blue)action>> [[psysml:a720e092-6bcd-479c-a1ff-52104ff4d712 ]] {\r\n",
       "}\r\n",
       "\r\n",
       "}\r\n",
       "\r\n",
       "@enduml\r\n",
       "\n",
       "PlantUML version 1.2020.13(Sat Jun 13 12:26:38 UTC 2020)\n",
       "(EPL source distribution)\n",
       "Java Runtime: OpenJDK Runtime Environment\n",
       "JVM: OpenJDK 64-Bit Server VM\n",
       "Default Encoding: UTF-8\n",
       "Language: en\n",
       "Country: null\n",
       "--></g></svg>"
      ]
     },
     "execution_count": 55,
     "metadata": {},
     "output_type": "execute_result"
    }
   ],
   "source": [
    "%viz --style=\"ORTHOLINE\" --view=\"Action\" \"ActionTest\""
   ]
  },
  {
   "cell_type": "code",
   "execution_count": 56,
   "id": "quality-albania",
   "metadata": {
    "execution": {
     "iopub.execute_input": "2021-03-25T13:17:20.985125Z",
     "iopub.status.busy": "2021-03-25T13:17:20.984500Z",
     "iopub.status.idle": "2021-03-25T13:17:21.598017Z",
     "shell.execute_reply": "2021-03-25T13:17:21.597626Z"
    }
   },
   "outputs": [
    {
     "data": {
      "image/svg+xml": [
       "<?xml version=\"1.0\" encoding=\"UTF-8\" standalone=\"no\"?><svg xmlns=\"http://www.w3.org/2000/svg\" xmlns:xlink=\"http://www.w3.org/1999/xlink\" contentScriptType=\"application/ecmascript\" contentStyleType=\"text/css\" height=\"157px\" preserveAspectRatio=\"none\" style=\"width:230px;height:157px;\" version=\"1.1\" viewBox=\"0 0 230 157\" width=\"230px\" zoomAndPan=\"magnify\"><defs/><g><!--MD5=[fbc87193dbaf4d95561dea2c320d4a47]\n",
       "cluster E1--><a href=\"psysml:7d27680f-a8ad-4796-902f-be0a7d0ccba0\" target=\"_top\" title=\"psysml:7d27680f-a8ad-4796-902f-be0a7d0ccba0\" xlink:actuate=\"onRequest\" xlink:href=\"psysml:7d27680f-a8ad-4796-902f-be0a7d0ccba0\" xlink:show=\"new\" xlink:title=\"psysml:7d27680f-a8ad-4796-902f-be0a7d0ccba0\" xlink:type=\"simple\"><polygon fill=\"#FFFFFF\" points=\"16,6,107,6,114,28.2969,208,28.2969,208,145,16,145,16,6\" style=\"stroke: #000000; stroke-width: 1.5;\"/><line style=\"stroke: #000000; stroke-width: 1.5;\" x1=\"16\" x2=\"114\" y1=\"28.2969\" y2=\"28.2969\"/><text fill=\"#000000\" font-family=\"sans-serif\" font-size=\"14\" font-weight=\"bold\" lengthAdjust=\"spacingAndGlyphs\" textLength=\"85\" x=\"20\" y=\"20.9951\">ActionTest</text></a><!--MD5=[b4997ac47864f28c2f74865a473b2911]\n",
       "class E2--><a href=\"psysml:1bfaea47-077a-4258-abab-849ce06009df\" target=\"_top\" title=\"psysml:1bfaea47-077a-4258-abab-849ce06009df\" xlink:actuate=\"onRequest\" xlink:href=\"psysml:1bfaea47-077a-4258-abab-849ce06009df\" xlink:show=\"new\" xlink:title=\"psysml:1bfaea47-077a-4258-abab-849ce06009df\" xlink:type=\"simple\"><rect fill=\"#FFFFFF\" height=\"88.3516\" id=\"E2\" rx=\"10\" ry=\"10\" style=\"stroke: #383838; stroke-width: 1.5;\" width=\"160\" x=\"32\" y=\"41\"/><text fill=\"#000000\" font-family=\"sans-serif\" font-size=\"12\" font-style=\"italic\" lengthAdjust=\"spacingAndGlyphs\" textLength=\"53\" x=\"85.5\" y=\"57.1387\">«action»</text><text fill=\"#000000\" font-family=\"sans-serif\" font-size=\"12\" lengthAdjust=\"spacingAndGlyphs\" textLength=\"8\" x=\"108\" y=\"71.1074\">a</text><line style=\"stroke: #383838; stroke-width: 1.5;\" x1=\"33\" x2=\"191\" y1=\"78.9375\" y2=\"78.9375\"/><text fill=\"#000000\" font-family=\"sans-serif\" font-size=\"11\" lengthAdjust=\"spacingAndGlyphs\" textLength=\"69\" x=\"38\" y=\"109.9526\">start: Action</text><text fill=\"#000000\" font-family=\"sans-serif\" font-size=\"11\" font-style=\"italic\" lengthAdjust=\"spacingAndGlyphs\" textLength=\"148\" x=\"38\" y=\"122.7573\">:&gt;&gt;Occurrence::startShot</text><line style=\"stroke: #383838; stroke-width: 1.0;\" x1=\"33\" x2=\"91.5\" y1=\"93.3398\" y2=\"93.3398\"/><text fill=\"#000000\" font-family=\"sans-serif\" font-size=\"11\" lengthAdjust=\"spacingAndGlyphs\" textLength=\"41\" x=\"91.5\" y=\"96.6479\">actions</text><line style=\"stroke: #383838; stroke-width: 1.0;\" x1=\"132.5\" x2=\"191\" y1=\"93.3398\" y2=\"93.3398\"/></a><!--MD5=[73c0126569251eae304e285d5825c4c4]\n",
       "@startuml\r\n",
       "skinparam linetype ortho\r\n",
       "skinparam monochrome true\r\n",
       "skinparam classbackgroundcolor white\r\n",
       "skinparam shadowing false\r\n",
       "skinparam wrapWidth 300\r\n",
       "hide circle\r\n",
       "\r\n",
       "package \"ActionTest\" as E1  [[psysml:7d27680f-a8ad-4796-902f-be0a7d0ccba0 ]]  {\r\n",
       "comp usage \"a\" as E2  <<(T,blue)action>> [[psysml:1bfaea47-077a-4258-abab-849ce06009df ]] {\r\n",
       "- - actions - -\r\n",
       "start: Action\\n//:>>Occurrence::startShot// \r\n",
       "}\r\n",
       "}\r\n",
       "@enduml\r\n",
       "\n",
       "PlantUML version 1.2020.13(Sat Jun 13 12:26:38 UTC 2020)\n",
       "(EPL source distribution)\n",
       "Java Runtime: OpenJDK Runtime Environment\n",
       "JVM: OpenJDK 64-Bit Server VM\n",
       "Default Encoding: UTF-8\n",
       "Language: en\n",
       "Country: null\n",
       "--></g></svg>"
      ]
     },
     "execution_count": 56,
     "metadata": {},
     "output_type": "execute_result"
    }
   ],
   "source": [
    "%viz --style=\"ORTHOLINE\" --view=\"Sequence\" \"ActionTest\""
   ]
  },
  {
   "cell_type": "code",
   "execution_count": 57,
   "id": "least-processor",
   "metadata": {
    "execution": {
     "iopub.execute_input": "2021-03-25T13:17:21.647671Z",
     "iopub.status.busy": "2021-03-25T13:17:21.646980Z",
     "iopub.status.idle": "2021-03-25T13:17:21.717909Z",
     "shell.execute_reply": "2021-03-25T13:17:21.718657Z"
    }
   },
   "outputs": [
    {
     "data": {
      "image/svg+xml": [
       "<?xml version=\"1.0\" encoding=\"UTF-8\" standalone=\"no\"?><svg xmlns=\"http://www.w3.org/2000/svg\" xmlns:xlink=\"http://www.w3.org/1999/xlink\" contentScriptType=\"application/ecmascript\" contentStyleType=\"text/css\" height=\"195px\" preserveAspectRatio=\"none\" style=\"width:178px;height:195px;\" version=\"1.1\" viewBox=\"0 0 178 195\" width=\"178px\" zoomAndPan=\"magnify\"><defs/><g><!--MD5=[fbc87193dbaf4d95561dea2c320d4a47]\n",
       "cluster E1--><a href=\"psysml:7d27680f-a8ad-4796-902f-be0a7d0ccba0\" target=\"_top\" title=\"psysml:7d27680f-a8ad-4796-902f-be0a7d0ccba0\" xlink:actuate=\"onRequest\" xlink:href=\"psysml:7d27680f-a8ad-4796-902f-be0a7d0ccba0\" xlink:show=\"new\" xlink:title=\"psysml:7d27680f-a8ad-4796-902f-be0a7d0ccba0\" xlink:type=\"simple\"><polygon fill=\"#FFFFFF\" points=\"16,6,107,6,114,28.2969,156,28.2969,156,183,16,183,16,6\" style=\"stroke: #000000; stroke-width: 1.5;\"/><line style=\"stroke: #000000; stroke-width: 1.5;\" x1=\"16\" x2=\"114\" y1=\"28.2969\" y2=\"28.2969\"/><text fill=\"#000000\" font-family=\"sans-serif\" font-size=\"14\" font-weight=\"bold\" lengthAdjust=\"spacingAndGlyphs\" textLength=\"85\" x=\"20\" y=\"20.9951\">ActionTest</text></a><!--MD5=[e4f7fae6ed58524ba242bb0b0d3be6b7]\n",
       "cluster E2--><a href=\"psysml:1bfaea47-077a-4258-abab-849ce06009df\" target=\"_top\" title=\"psysml:1bfaea47-077a-4258-abab-849ce06009df\" xlink:actuate=\"onRequest\" xlink:href=\"psysml:1bfaea47-077a-4258-abab-849ce06009df\" xlink:show=\"new\" xlink:title=\"psysml:1bfaea47-077a-4258-abab-849ce06009df\" xlink:type=\"simple\"><rect fill=\"#FFFFFF\" height=\"110\" id=\"E2\" rx=\"10\" ry=\"10\" style=\"stroke: #383838; stroke-width: 1.5;\" width=\"92\" x=\"40\" y=\"49\"/><rect fill=\"#F8F8F8\" height=\"37.9375\" rx=\"10\" ry=\"10\" style=\"stroke: #F8F8F8; stroke-width: 1.5;\" width=\"92\" x=\"40\" y=\"49\"/><rect fill=\"#F8F8F8\" height=\"10\" style=\"stroke: #F8F8F8; stroke-width: 1.5;\" width=\"92\" x=\"40\" y=\"76.9375\"/><rect fill=\"none\" height=\"110\" id=\"E2\" rx=\"10\" ry=\"10\" style=\"stroke: #383838; stroke-width: 1.5;\" width=\"92\" x=\"40\" y=\"49\"/><text fill=\"#000000\" font-family=\"sans-serif\" font-size=\"12\" font-style=\"italic\" lengthAdjust=\"spacingAndGlyphs\" textLength=\"53\" x=\"59.5\" y=\"65.1387\">«action»</text><text fill=\"#000000\" font-family=\"sans-serif\" font-size=\"12\" lengthAdjust=\"spacingAndGlyphs\" textLength=\"8\" x=\"82\" y=\"79.1074\">a</text><line style=\"stroke: #383838; stroke-width: 1.0;\" x1=\"40\" x2=\"132\" y1=\"86.9375\" y2=\"86.9375\"/></a><g id=\"E1.E2.E3\"><a href=\"psysml:a720e092-6bcd-479c-a1ff-52104ff4d712\" target=\"_top\" title=\"psysml:a720e092-6bcd-479c-a1ff-52104ff4d712\" xlink:actuate=\"onRequest\" xlink:href=\"psysml:a720e092-6bcd-479c-a1ff-52104ff4d712\" xlink:show=\"new\" xlink:title=\"psysml:a720e092-6bcd-479c-a1ff-52104ff4d712\" xlink:type=\"simple\"><rect fill=\"#FFFFFF\" height=\"42.9375\" id=\"E3\" rx=\"10\" ry=\"10\" style=\"stroke: #383838; stroke-width: 1.5;\" width=\"60\" x=\"56\" y=\"100\"/><rect fill=\"#F8F8F8\" height=\"37.9375\" rx=\"10\" ry=\"10\" style=\"stroke: #F8F8F8; stroke-width: 1.5;\" width=\"60\" x=\"56\" y=\"100\"/><rect fill=\"#F8F8F8\" height=\"10\" style=\"stroke: #F8F8F8; stroke-width: 1.5;\" width=\"60\" x=\"56\" y=\"127.9375\"/><rect fill=\"none\" height=\"42.9375\" id=\"E3\" rx=\"10\" ry=\"10\" style=\"stroke: #383838; stroke-width: 1.5;\" width=\"60\" x=\"56\" y=\"100\"/><text fill=\"#000000\" font-family=\"sans-serif\" font-size=\"12\" font-style=\"italic\" lengthAdjust=\"spacingAndGlyphs\" textLength=\"53\" x=\"59.5\" y=\"116.1387\">«action»</text><text fill=\"#000000\" font-family=\"sans-serif\" font-size=\"12\" lengthAdjust=\"spacingAndGlyphs\" textLength=\"30\" x=\"71\" y=\"130.1074\">start</text></a></g><!--MD5=[669e7318f9137570fc7feedc9a9b2619]\n",
       "@startuml\r\n",
       "skinparam linetype ortho\r\n",
       "skinparam monochrome true\r\n",
       "skinparam classbackgroundcolor white\r\n",
       "skinparam shadowing false\r\n",
       "skinparam wrapWidth 300\r\n",
       "hide circle\r\n",
       "\r\n",
       "package \"ActionTest\" as E1  [[psysml:7d27680f-a8ad-4796-902f-be0a7d0ccba0 ]]  {\r\n",
       "rec usage \"a\" as E2  <<(T,blue)action>> [[psysml:1bfaea47-077a-4258-abab-849ce06009df ]] {\r\n",
       "rec usage \"start\" as E3  <<(T,blue)action>> [[psysml:a720e092-6bcd-479c-a1ff-52104ff4d712 ]] {\r\n",
       "}\r\n",
       "\r\n",
       "}\r\n",
       "\r\n",
       "}\r\n",
       "@enduml\r\n",
       "\n",
       "PlantUML version 1.2020.13(Sat Jun 13 12:26:38 UTC 2020)\n",
       "(EPL source distribution)\n",
       "Java Runtime: OpenJDK Runtime Environment\n",
       "JVM: OpenJDK 64-Bit Server VM\n",
       "Default Encoding: UTF-8\n",
       "Language: en\n",
       "Country: null\n",
       "--></g></svg>"
      ]
     },
     "execution_count": 57,
     "metadata": {},
     "output_type": "execute_result"
    }
   ],
   "source": [
    "%viz --style=\"ORTHOLINE\" --view=\"MIXED\" \"ActionTest\""
   ]
  }
 ],
 "metadata": {
  "kernelspec": {
   "display_name": "SysML",
   "language": "sysml",
   "name": "sysml"
  },
  "language_info": {
   "codemirror_mode": "sysml",
   "file_extension": ".sysml",
   "mimetype": "text/x-sysml",
   "name": "SysML",
   "pygments_lexer": "java",
   "version": "1.0.0"
  }
 },
 "nbformat": 4,
 "nbformat_minor": 5
}
