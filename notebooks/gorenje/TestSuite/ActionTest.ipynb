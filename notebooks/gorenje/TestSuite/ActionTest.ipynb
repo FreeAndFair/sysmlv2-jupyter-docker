{
 "cells": [
  {
   "cell_type": "markdown",
   "id": "genetic-retreat",
   "metadata": {},
   "source": [
    "# SysML v2 Test Suite\n",
    "\n",
    "This can notebook can be cleared using menu `Edit --> Clear All Outputs` and then all cells can be\n",
    "run using menu `Run --> Run All Cells`.\n",
    "\n",
    "**WARNING**: This file is generated, all modifications here will be ignored.\n"
   ]
  },
  {
   "cell_type": "markdown",
   "id": "accepting-collective",
   "metadata": {},
   "source": [
    "## File: ../../sysml/src/examples/Simple Tests/ActionTest.sysml"
   ]
  },
  {
   "cell_type": "code",
   "execution_count": 1,
   "id": "parental-mechanism",
   "metadata": {
    "execution": {
     "iopub.execute_input": "2021-03-25T14:11:34.031663Z",
     "iopub.status.busy": "2021-03-25T14:11:34.031020Z",
     "iopub.status.idle": "2021-03-25T14:11:34.402439Z",
     "shell.execute_reply": "2021-03-25T14:11:34.401827Z"
    }
   },
   "outputs": [
    {
     "data": {
      "text/plain": [
       "Package ActionTest (a7d3bf95-9acb-4a04-a9e6-8c186e55b267)\n"
      ]
     },
     "execution_count": 1,
     "metadata": {},
     "output_type": "execute_result"
    }
   ],
   "source": [
    "package ActionTest {\n",
    "\tattribute def S;\n",
    "\t\n",
    "\taction a {\n",
    "\t\tfirst start;\t\t\n",
    "\t\tthen merge m;\n",
    "\t\tthen accept S; \n",
    "\t\t\n",
    "\t\tthen send S to B();\t\t\n",
    "\t\tthen decide;\n",
    "\t\t\tif true then m;\n",
    "\t\t\telse done;\n",
    "\t}\n",
    "\t\n",
    "\taction def B;\n",
    "\t\n",
    "}"
   ]
  },
  {
   "cell_type": "code",
   "execution_count": 2,
   "id": "exterior-accused",
   "metadata": {
    "execution": {
     "iopub.execute_input": "2021-03-25T14:11:34.454701Z",
     "iopub.status.busy": "2021-03-25T14:11:34.454207Z",
     "iopub.status.idle": "2021-03-25T14:11:35.251138Z",
     "shell.execute_reply": "2021-03-25T14:11:35.249548Z"
    }
   },
   "outputs": [
    {
     "data": {
      "image/svg+xml": [
       "<?xml version=\"1.0\" encoding=\"UTF-8\" standalone=\"no\"?><svg xmlns=\"http://www.w3.org/2000/svg\" xmlns:xlink=\"http://www.w3.org/1999/xlink\" contentScriptType=\"application/ecmascript\" contentStyleType=\"text/css\" height=\"684px\" preserveAspectRatio=\"none\" style=\"width:518px;height:684px;\" version=\"1.1\" viewBox=\"0 0 518 684\" width=\"518px\" zoomAndPan=\"magnify\"><defs/><g><!--MD5=[fbc87193dbaf4d95561dea2c320d4a47]\n",
       "cluster E1--><a href=\"psysml:1b586630-6073-41f8-a31c-3b1021fd2d94\" target=\"_top\" title=\"psysml:1b586630-6073-41f8-a31c-3b1021fd2d94\" xlink:actuate=\"onRequest\" xlink:href=\"psysml:1b586630-6073-41f8-a31c-3b1021fd2d94\" xlink:show=\"new\" xlink:title=\"psysml:1b586630-6073-41f8-a31c-3b1021fd2d94\" xlink:type=\"simple\"><polygon fill=\"#FFFFFF\" points=\"16,6,107,6,114,28.2969,496,28.2969,496,672,16,672,16,6\" style=\"stroke: #000000; stroke-width: 1.5;\"/><line style=\"stroke: #000000; stroke-width: 1.5;\" x1=\"16\" x2=\"114\" y1=\"28.2969\" y2=\"28.2969\"/><text fill=\"#000000\" font-family=\"sans-serif\" font-size=\"14\" font-weight=\"bold\" lengthAdjust=\"spacingAndGlyphs\" textLength=\"85\" x=\"20\" y=\"20.9951\">ActionTest</text></a><!--MD5=[d5e69f78d87373223dbae638b30a9c99]\n",
       "cluster E3--><a href=\"psysml:63b3e978-ff90-4127-8639-9e6714fb0371\" target=\"_top\" title=\"psysml:63b3e978-ff90-4127-8639-9e6714fb0371\" xlink:actuate=\"onRequest\" xlink:href=\"psysml:63b3e978-ff90-4127-8639-9e6714fb0371\" xlink:show=\"new\" xlink:title=\"psysml:63b3e978-ff90-4127-8639-9e6714fb0371\" xlink:type=\"simple\"><rect fill=\"#FFFFFF\" height=\"599\" id=\"E3\" rx=\"10\" ry=\"10\" style=\"stroke: #383838; stroke-width: 1.5;\" width=\"209\" x=\"263\" y=\"49\"/><rect fill=\"#F8F8F8\" height=\"37.9375\" rx=\"10\" ry=\"10\" style=\"stroke: #F8F8F8; stroke-width: 1.5;\" width=\"209\" x=\"263\" y=\"49\"/><rect fill=\"#F8F8F8\" height=\"10\" style=\"stroke: #F8F8F8; stroke-width: 1.5;\" width=\"209\" x=\"263\" y=\"76.9375\"/><rect fill=\"none\" height=\"599\" id=\"E3\" rx=\"10\" ry=\"10\" style=\"stroke: #383838; stroke-width: 1.5;\" width=\"209\" x=\"263\" y=\"49\"/><text fill=\"#000000\" font-family=\"sans-serif\" font-size=\"12\" font-style=\"italic\" lengthAdjust=\"spacingAndGlyphs\" textLength=\"53\" x=\"341\" y=\"65.1387\">«action»</text><text fill=\"#000000\" font-family=\"sans-serif\" font-size=\"12\" lengthAdjust=\"spacingAndGlyphs\" textLength=\"8\" x=\"363.5\" y=\"79.1074\">a</text><line style=\"stroke: #383838; stroke-width: 1.0;\" x1=\"263\" x2=\"472\" y1=\"86.9375\" y2=\"86.9375\"/></a><!--MD5=[b4997ac47864f28c2f74865a473b2911]\n",
       "class E2--><a href=\"psysml:ec6ecfb2-58e1-4e93-a57f-7fba141d91de\" target=\"_top\" title=\"psysml:ec6ecfb2-58e1-4e93-a57f-7fba141d91de\" xlink:actuate=\"onRequest\" xlink:href=\"psysml:ec6ecfb2-58e1-4e93-a57f-7fba141d91de\" xlink:show=\"new\" xlink:title=\"psysml:ec6ecfb2-58e1-4e93-a57f-7fba141d91de\" xlink:type=\"simple\"><rect fill=\"#FFFFFF\" height=\"45.9375\" id=\"E2\" style=\"stroke: #383838; stroke-width: 1.5;\" width=\"95\" x=\"151.5\" y=\"87\"/><text fill=\"#000000\" font-family=\"sans-serif\" font-size=\"12\" font-style=\"italic\" lengthAdjust=\"spacingAndGlyphs\" textLength=\"93\" x=\"152.5\" y=\"103.1387\">«attribute def»</text><text fill=\"#000000\" font-family=\"sans-serif\" font-size=\"12\" lengthAdjust=\"spacingAndGlyphs\" textLength=\"8\" x=\"195\" y=\"117.1074\">S</text><line style=\"stroke: #383838; stroke-width: 1.5;\" x1=\"152.5\" x2=\"245.5\" y1=\"124.9375\" y2=\"124.9375\"/></a><polygon fill=\"#F8F8F8\" points=\"420,194,432,206,420,218,408,206,420,194\" style=\"stroke: #383838; stroke-width: 1.5;\"/><!--MD5=[21dd76c19d33815960c0e92fef8f0eef]\n",
       "entity E5--><a href=\"psysml:12477b88-d1e3-4069-a82c-9614e3ee7843\" target=\"_top\" title=\"psysml:12477b88-d1e3-4069-a82c-9614e3ee7843\" xlink:actuate=\"onRequest\" xlink:href=\"psysml:12477b88-d1e3-4069-a82c-9614e3ee7843\" xlink:show=\"new\" xlink:title=\"psysml:12477b88-d1e3-4069-a82c-9614e3ee7843\" xlink:type=\"simple\"><polygon fill=\"#F8F8F8\" points=\"279,279,279,333.5938,419,333.5938,399,306.2969,419,279\" style=\"stroke: #000000; stroke-width: 1.5;\"/><text fill=\"#000000\" font-family=\"sans-serif\" font-size=\"14\" font-style=\"italic\" lengthAdjust=\"spacingAndGlyphs\" textLength=\"111\" x=\"286\" y=\"301.9951\">«accept action»</text><text fill=\"#000000\" font-family=\"sans-serif\" font-size=\"14\" lengthAdjust=\"spacingAndGlyphs\" textLength=\"9\" x=\"337\" y=\"319.292\">S</text></a><!--MD5=[24d87cdf3002d433f401b2a2aa9f9f65]\n",
       "entity E6--><a href=\"psysml:18c53c10-a81a-4a73-8210-8be9c84ee198\" target=\"_top\" title=\"psysml:18c53c10-a81a-4a73-8210-8be9c84ee198\" xlink:actuate=\"onRequest\" xlink:href=\"psysml:18c53c10-a81a-4a73-8210-8be9c84ee198\" xlink:show=\"new\" xlink:title=\"psysml:18c53c10-a81a-4a73-8210-8be9c84ee198\" xlink:type=\"simple\"><polygon fill=\"#F8F8F8\" points=\"279,411,279,465.5938,387,465.5938,407,438.2969,387,411\" style=\"stroke: #000000; stroke-width: 1.5;\"/><text fill=\"#000000\" font-family=\"sans-serif\" font-size=\"14\" font-style=\"italic\" lengthAdjust=\"spacingAndGlyphs\" textLength=\"99\" x=\"286\" y=\"433.9951\">«send action»</text><text fill=\"#000000\" font-family=\"sans-serif\" font-size=\"14\" lengthAdjust=\"spacingAndGlyphs\" textLength=\"55\" x=\"308\" y=\"451.292\">S to  B()</text></a><polygon fill=\"#F8F8F8\" points=\"418,527,430,539,418,551,406,539,418,527\" style=\"stroke: #383838; stroke-width: 1.5;\"/><ellipse cx=\"420\" cy=\"110\" fill=\"#000000\" rx=\"10\" ry=\"10\" style=\"stroke: none; stroke-width: 1.0;\"/><ellipse cx=\"418\" cy=\"622\" fill=\"none\" rx=\"10\" ry=\"10\" style=\"stroke: #000000; stroke-width: 1.0;\"/><ellipse cx=\"418.5\" cy=\"622.5\" fill=\"#000000\" rx=\"6\" ry=\"6\" style=\"stroke: none; stroke-width: 1.0;\"/><g id=\"E1.E8\"><a href=\"psysml:a720c396-7a8e-4250-b133-b38e5d5b0a71\" target=\"_top\" title=\"psysml:a720c396-7a8e-4250-b133-b38e5d5b0a71\" xlink:actuate=\"onRequest\" xlink:href=\"psysml:a720c396-7a8e-4250-b133-b38e5d5b0a71\" xlink:show=\"new\" xlink:title=\"psysml:a720c396-7a8e-4250-b133-b38e5d5b0a71\" xlink:type=\"simple\"><rect fill=\"#FFFFFF\" height=\"42.9375\" id=\"E8\" style=\"stroke: #383838; stroke-width: 1.5;\" width=\"84\" x=\"32\" y=\"88.5\"/><rect fill=\"#F8F8F8\" height=\"37.9375\" style=\"stroke: #383838; stroke-width: 1.5;\" width=\"84\" x=\"32\" y=\"88.5\"/><text fill=\"#000000\" font-family=\"sans-serif\" font-size=\"12\" font-style=\"italic\" lengthAdjust=\"spacingAndGlyphs\" textLength=\"77\" x=\"35.5\" y=\"104.6387\">«action def»</text><text fill=\"#000000\" font-family=\"sans-serif\" font-size=\"12\" lengthAdjust=\"spacingAndGlyphs\" textLength=\"8\" x=\"70\" y=\"118.6074\">B</text></a></g><!--MD5=[f47e10efcf9a6752d55dae986d790ed9]\n",
       "link *start*E3 to E4--><a href=\"psysml:3eb4ae89-c3fe-4a5c-9996-6c16dc90e291\" target=\"_top\" title=\"psysml:3eb4ae89-c3fe-4a5c-9996-6c16dc90e291\" xlink:actuate=\"onRequest\" xlink:href=\"psysml:3eb4ae89-c3fe-4a5c-9996-6c16dc90e291\" xlink:show=\"new\" xlink:title=\"psysml:3eb4ae89-c3fe-4a5c-9996-6c16dc90e291\" xlink:type=\"simple\"><path d=\"M420,120.01 C420,135.81 420,168.69 420,188.61 \" fill=\"none\" id=\"*start*E3-&gt;E4\" style=\"stroke: #383838; stroke-width: 1.0;\"/><polygon fill=\"#383838\" points=\"420,193.85,424,184.85,420,188.85,416,184.85,420,193.85\" style=\"stroke: #383838; stroke-width: 1.0;\"/></a><!--MD5=[d19f2eb34364d71b67042106d92f540b]\n",
       "link E7 to *end*E3--><a href=\"psysml:529019b4-f7b3-445e-a809-123fd999bfb3\" target=\"_top\" title=\"psysml:529019b4-f7b3-445e-a809-123fd999bfb3\" xlink:actuate=\"onRequest\" xlink:href=\"psysml:529019b4-f7b3-445e-a809-123fd999bfb3\" xlink:show=\"new\" xlink:title=\"psysml:529019b4-f7b3-445e-a809-123fd999bfb3\" xlink:type=\"simple\"><path d=\"M418,551.26 C418,565.66 418,590.63 418,606.46 \" fill=\"none\" id=\"E7-&gt;*end*E3\" style=\"stroke: #383838; stroke-width: 1.0;\"/><polygon fill=\"#383838\" points=\"418,611.84,422,602.84,418,606.84,414,602.84,418,611.84\" style=\"stroke: #383838; stroke-width: 1.0;\"/></a><!--MD5=[1b7591eae5389033d8d09a9d6721a717]\n",
       "link E4 to E5--><a href=\"psysml:252a1c6c-cc00-403d-ac29-1241d1eee0ca\" target=\"_top\" title=\"psysml:252a1c6c-cc00-403d-ac29-1241d1eee0ca\" xlink:actuate=\"onRequest\" xlink:href=\"psysml:252a1c6c-cc00-403d-ac29-1241d1eee0ca\" xlink:show=\"new\" xlink:title=\"psysml:252a1c6c-cc00-403d-ac29-1241d1eee0ca\" xlink:type=\"simple\"><path d=\"M415.34,213.46 C406.55,225.66 386.99,252.8 371.37,274.46 \" fill=\"none\" id=\"E4-&gt;E5\" style=\"stroke: #383838; stroke-width: 1.0;\"/><polygon fill=\"#383838\" points=\"368.31,278.71,376.8093,273.7339,371.227,274.6491,370.3119,269.0667,368.31,278.71\" style=\"stroke: #383838; stroke-width: 1.0;\"/></a><!--MD5=[9120cf2e5df3bff93db8f754bbbc09b4]\n",
       "link E5 to E6--><a href=\"psysml:52dd995d-9028-4157-9334-98b87c98e4ca\" target=\"_top\" title=\"psysml:52dd995d-9028-4157-9334-98b87c98e4ca\" xlink:actuate=\"onRequest\" xlink:href=\"psysml:52dd995d-9028-4157-9334-98b87c98e4ca\" xlink:show=\"new\" xlink:title=\"psysml:52dd995d-9028-4157-9334-98b87c98e4ca\" xlink:type=\"simple\"><path d=\"M347.77,334.12 C346.81,354.89 345.48,383.8 344.46,405.77 \" fill=\"none\" id=\"E5-&gt;E6\" style=\"stroke: #383838; stroke-width: 1.0;\"/><polygon fill=\"#383838\" points=\"344.23,410.91,348.6368,402.1021,344.4583,405.9152,340.6452,401.7367,344.23,410.91\" style=\"stroke: #383838; stroke-width: 1.0;\"/></a><!--MD5=[02c70b7c851c11e3980e4e90450dc5dd]\n",
       "link E6 to E7--><a href=\"psysml:11c1c086-8dd9-4b00-9ab5-dcf0da9e4b0f\" target=\"_top\" title=\"psysml:11c1c086-8dd9-4b00-9ab5-dcf0da9e4b0f\" xlink:actuate=\"onRequest\" xlink:href=\"psysml:11c1c086-8dd9-4b00-9ab5-dcf0da9e4b0f\" xlink:show=\"new\" xlink:title=\"psysml:11c1c086-8dd9-4b00-9ab5-dcf0da9e4b0f\" xlink:type=\"simple\"><path d=\"M363.3,466.16 C378.71,486.4 399.07,513.14 410.09,527.61 \" fill=\"none\" id=\"E6-&gt;E7\" style=\"stroke: #383838; stroke-width: 1.0;\"/><polygon fill=\"#383838\" points=\"413.2,531.69,410.9398,522.104,410.1749,527.7089,404.57,526.9441,413.2,531.69\" style=\"stroke: #383838; stroke-width: 1.0;\"/></a><!--MD5=[6bdd27f9905911a7e892a3dc65cf6b7c]\n",
       "link E7 to E4--><a href=\"psysml:9dbcc968-b81d-4000-b2fb-dcd38ad7dec8\" target=\"_top\" title=\"psysml:9dbcc968-b81d-4000-b2fb-dcd38ad7dec8\" xlink:actuate=\"onRequest\" xlink:href=\"psysml:9dbcc968-b81d-4000-b2fb-dcd38ad7dec8\" xlink:show=\"new\" xlink:title=\"psysml:9dbcc968-b81d-4000-b2fb-dcd38ad7dec8\" xlink:type=\"simple\"><path d=\"M419.98,528.56 C426.8,494.71 448.32,376.18 437,279 C434.59,258.32 428.42,234.96 424.21,220.61 \" fill=\"none\" id=\"E7-&gt;E4\" style=\"stroke: #383838; stroke-width: 1.0;\"/><polygon fill=\"#383838\" points=\"422.76,215.75,421.4935,225.5171,424.1863,220.5423,429.1611,223.2351,422.76,215.75\" style=\"stroke: #383838; stroke-width: 1.0;\"/><text fill=\"#000000\" font-family=\"sans-serif\" font-size=\"13\" lengthAdjust=\"spacingAndGlyphs\" textLength=\"36\" x=\"440\" y=\"377.0669\">[true]</text></a><!--MD5=[77ec5010acfed2edb95b2b62b788b021]\n",
       "@startuml\r\n",
       " skinparam monochrome true\r\n",
       "skinparam classbackgroundcolor white\r\n",
       "skinparam shadowing false\r\n",
       "skinparam wrapWidth 300\r\n",
       "hide circle\r\n",
       "\r\n",
       "package \"ActionTest\" as E1  [[psysml:1b586630-6073-41f8-a31c-3b1021fd2d94 ]]  {\r\n",
       "comp def \"S\" as E2  <<(T,blue)attribute def>> [[psysml:ec6ecfb2-58e1-4e93-a57f-7fba141d91de ]] {\r\n",
       "}\r\n",
       "rec usage \"a\" as E3  <<(T,blue)action>> [[psysml:63b3e978-ff90-4127-8639-9e6714fb0371 ]] {\r\n",
       "choice \"m\" as E4  [[psysml:3c09e5e0-87ee-487d-a94c-d1481b887cf0 ]] \r\n",
       "accept \" S\" as E5 <<accept action>> [[psysml:12477b88-d1e3-4069-a82c-9614e3ee7843 ]] \r\n",
       "send \" S to  B()\" as E6 <<send action>> [[psysml:18c53c10-a81a-4a73-8210-8be9c84ee198 ]] \r\n",
       "choice \"noname\" as E7  [[psysml:e28bc343-f228-4c60-afee-7deafa85ddc3 ]] \r\n",
       "[*] - -> E4 [[psysml:3eb4ae89-c3fe-4a5c-9996-6c16dc90e291 ]] \r\n",
       "E7  - -> [*] [[psysml:529019b4-f7b3-445e-a809-123fd999bfb3 ]] \r\n",
       "}\r\n",
       "\r\n",
       "rec def \"B\" as E8  <<(T,blue)action def>> [[psysml:a720c396-7a8e-4250-b133-b38e5d5b0a71 ]] {\r\n",
       "}\r\n",
       "\r\n",
       "E4 - -> E5 [[psysml:252a1c6c-cc00-403d-ac29-1241d1eee0ca ]] \r\n",
       "E5 - -> E6 [[psysml:52dd995d-9028-4157-9334-98b87c98e4ca ]] \r\n",
       "E6 - -> E7 [[psysml:11c1c086-8dd9-4b00-9ab5-dcf0da9e4b0f ]] \r\n",
       "E7  - -> E4 [[psysml:9dbcc968-b81d-4000-b2fb-dcd38ad7dec8 ]] : [true]\r\n",
       "}\r\n",
       "@enduml\r\n",
       "\n",
       "PlantUML version 1.2020.13(Sat Jun 13 12:26:38 UTC 2020)\n",
       "(EPL source distribution)\n",
       "Java Runtime: OpenJDK Runtime Environment\n",
       "JVM: OpenJDK 64-Bit Server VM\n",
       "Default Encoding: UTF-8\n",
       "Language: en\n",
       "Country: null\n",
       "--></g></svg>"
      ]
     },
     "execution_count": 2,
     "metadata": {},
     "output_type": "execute_result"
    }
   ],
   "source": [
    "%viz --style=\"COMPTREE\" --view=\"Default\" \"ActionTest\""
   ]
  },
  {
   "cell_type": "code",
   "execution_count": 3,
   "id": "fitting-helping",
   "metadata": {
    "execution": {
     "iopub.execute_input": "2021-03-25T14:11:35.301574Z",
     "iopub.status.busy": "2021-03-25T14:11:35.300855Z",
     "iopub.status.idle": "2021-03-25T14:11:36.037348Z",
     "shell.execute_reply": "2021-03-25T14:11:36.037727Z"
    }
   },
   "outputs": [
    {
     "data": {
      "image/svg+xml": [
       "<?xml version=\"1.0\" encoding=\"UTF-8\" standalone=\"no\"?><svg xmlns=\"http://www.w3.org/2000/svg\" xmlns:xlink=\"http://www.w3.org/1999/xlink\" contentScriptType=\"application/ecmascript\" contentStyleType=\"text/css\" height=\"187px\" preserveAspectRatio=\"none\" style=\"width:475px;height:187px;\" version=\"1.1\" viewBox=\"0 0 475 187\" width=\"475px\" zoomAndPan=\"magnify\"><defs/><g><!--MD5=[fbc87193dbaf4d95561dea2c320d4a47]\n",
       "cluster E1--><a href=\"psysml:1b586630-6073-41f8-a31c-3b1021fd2d94\" target=\"_top\" title=\"psysml:1b586630-6073-41f8-a31c-3b1021fd2d94\" xlink:actuate=\"onRequest\" xlink:href=\"psysml:1b586630-6073-41f8-a31c-3b1021fd2d94\" xlink:show=\"new\" xlink:title=\"psysml:1b586630-6073-41f8-a31c-3b1021fd2d94\" xlink:type=\"simple\"><polygon fill=\"#FFFFFF\" points=\"16,6,107,6,114,28.2969,453,28.2969,453,175,16,175,16,6\" style=\"stroke: #000000; stroke-width: 1.5;\"/><line style=\"stroke: #000000; stroke-width: 1.5;\" x1=\"16\" x2=\"114\" y1=\"28.2969\" y2=\"28.2969\"/><text fill=\"#000000\" font-family=\"sans-serif\" font-size=\"14\" font-weight=\"bold\" lengthAdjust=\"spacingAndGlyphs\" textLength=\"85\" x=\"20\" y=\"20.9951\">ActionTest</text></a><!--MD5=[b4997ac47864f28c2f74865a473b2911]\n",
       "class E2--><a href=\"psysml:ec6ecfb2-58e1-4e93-a57f-7fba141d91de\" target=\"_top\" title=\"psysml:ec6ecfb2-58e1-4e93-a57f-7fba141d91de\" xlink:actuate=\"onRequest\" xlink:href=\"psysml:ec6ecfb2-58e1-4e93-a57f-7fba141d91de\" xlink:show=\"new\" xlink:title=\"psysml:ec6ecfb2-58e1-4e93-a57f-7fba141d91de\" xlink:type=\"simple\"><rect fill=\"#FFFFFF\" height=\"45.9375\" id=\"E2\" style=\"stroke: #383838; stroke-width: 1.5;\" width=\"95\" x=\"341.5\" y=\"77\"/><text fill=\"#000000\" font-family=\"sans-serif\" font-size=\"12\" font-style=\"italic\" lengthAdjust=\"spacingAndGlyphs\" textLength=\"93\" x=\"342.5\" y=\"93.1387\">«attribute def»</text><text fill=\"#000000\" font-family=\"sans-serif\" font-size=\"12\" lengthAdjust=\"spacingAndGlyphs\" textLength=\"8\" x=\"385\" y=\"107.1074\">S</text><line style=\"stroke: #383838; stroke-width: 1.5;\" x1=\"342.5\" x2=\"435.5\" y1=\"114.9375\" y2=\"114.9375\"/></a><!--MD5=[09b614a08d8cba4a07c9adeb5e0fee81]\n",
       "class E3--><a href=\"psysml:63b3e978-ff90-4127-8639-9e6714fb0371\" target=\"_top\" title=\"psysml:63b3e978-ff90-4127-8639-9e6714fb0371\" xlink:actuate=\"onRequest\" xlink:href=\"psysml:63b3e978-ff90-4127-8639-9e6714fb0371\" xlink:show=\"new\" xlink:title=\"psysml:63b3e978-ff90-4127-8639-9e6714fb0371\" xlink:type=\"simple\"><rect fill=\"#FFFFFF\" height=\"117.9609\" id=\"E3\" rx=\"10\" ry=\"10\" style=\"stroke: #383838; stroke-width: 1.5;\" width=\"160\" x=\"146\" y=\"41\"/><text fill=\"#000000\" font-family=\"sans-serif\" font-size=\"12\" font-style=\"italic\" lengthAdjust=\"spacingAndGlyphs\" textLength=\"53\" x=\"199.5\" y=\"57.1387\">«action»</text><text fill=\"#000000\" font-family=\"sans-serif\" font-size=\"12\" lengthAdjust=\"spacingAndGlyphs\" textLength=\"8\" x=\"222\" y=\"71.1074\">a</text><line style=\"stroke: #383838; stroke-width: 1.5;\" x1=\"147\" x2=\"305\" y1=\"78.9375\" y2=\"78.9375\"/><text fill=\"#000000\" font-family=\"sans-serif\" font-size=\"11\" lengthAdjust=\"spacingAndGlyphs\" textLength=\"69\" x=\"152\" y=\"109.9526\">start: Action</text><text fill=\"#000000\" font-family=\"sans-serif\" font-size=\"11\" font-style=\"italic\" lengthAdjust=\"spacingAndGlyphs\" textLength=\"148\" x=\"152\" y=\"122.7573\">:&gt;&gt;Occurrence::startShot</text><line style=\"stroke: #383838; stroke-width: 1.0;\" x1=\"147\" x2=\"205.5\" y1=\"93.3398\" y2=\"93.3398\"/><text fill=\"#000000\" font-family=\"sans-serif\" font-size=\"11\" lengthAdjust=\"spacingAndGlyphs\" textLength=\"41\" x=\"205.5\" y=\"96.6479\">actions</text><line style=\"stroke: #383838; stroke-width: 1.0;\" x1=\"246.5\" x2=\"305\" y1=\"93.3398\" y2=\"93.3398\"/><text fill=\"#000000\" font-family=\"sans-serif\" font-size=\"11\" lengthAdjust=\"spacingAndGlyphs\" textLength=\"11\" x=\"152\" y=\"152.3667\">m</text><line style=\"stroke: #383838; stroke-width: 1.0;\" x1=\"147\" x2=\"189.5\" y1=\"135.7539\" y2=\"135.7539\"/><text fill=\"#000000\" font-family=\"sans-serif\" font-size=\"11\" lengthAdjust=\"spacingAndGlyphs\" textLength=\"73\" x=\"189.5\" y=\"139.062\">mergeNodes</text><line style=\"stroke: #383838; stroke-width: 1.0;\" x1=\"262.5\" x2=\"305\" y1=\"135.7539\" y2=\"135.7539\"/></a><!--MD5=[60a26617385b1d2d0262a64233df1f8d]\n",
       "class E6--><a href=\"psysml:a720c396-7a8e-4250-b133-b38e5d5b0a71\" target=\"_top\" title=\"psysml:a720c396-7a8e-4250-b133-b38e5d5b0a71\" xlink:actuate=\"onRequest\" xlink:href=\"psysml:a720c396-7a8e-4250-b133-b38e5d5b0a71\" xlink:show=\"new\" xlink:title=\"psysml:a720c396-7a8e-4250-b133-b38e5d5b0a71\" xlink:type=\"simple\"><rect fill=\"#FFFFFF\" height=\"45.9375\" id=\"E6\" style=\"stroke: #383838; stroke-width: 1.5;\" width=\"79\" x=\"31.5\" y=\"77\"/><text fill=\"#000000\" font-family=\"sans-serif\" font-size=\"12\" font-style=\"italic\" lengthAdjust=\"spacingAndGlyphs\" textLength=\"77\" x=\"32.5\" y=\"93.1387\">«action def»</text><text fill=\"#000000\" font-family=\"sans-serif\" font-size=\"12\" lengthAdjust=\"spacingAndGlyphs\" textLength=\"8\" x=\"67\" y=\"107.1074\">B</text><line style=\"stroke: #383838; stroke-width: 1.5;\" x1=\"32.5\" x2=\"109.5\" y1=\"114.9375\" y2=\"114.9375\"/></a><!--MD5=[842780a1d10858056a9f09a162c966d6]\n",
       "@startuml\r\n",
       " skinparam monochrome true\r\n",
       "skinparam classbackgroundcolor white\r\n",
       "skinparam shadowing false\r\n",
       "skinparam wrapWidth 300\r\n",
       "hide circle\r\n",
       "\r\n",
       "package \"ActionTest\" as E1  [[psysml:1b586630-6073-41f8-a31c-3b1021fd2d94 ]]  {\r\n",
       "comp def \"S\" as E2  <<(T,blue)attribute def>> [[psysml:ec6ecfb2-58e1-4e93-a57f-7fba141d91de ]] {\r\n",
       "}\r\n",
       "comp usage \"a\" as E3  <<(T,blue)action>> [[psysml:63b3e978-ff90-4127-8639-9e6714fb0371 ]] {\r\n",
       "- - actions - -\r\n",
       "start: Action\\n//:>>Occurrence::startShot// \r\n",
       "- - mergeNodes - -\r\n",
       "m\r\n",
       "}\r\n",
       "comp def \"B\" as E6  <<(T,blue)action def>> [[psysml:a720c396-7a8e-4250-b133-b38e5d5b0a71 ]] {\r\n",
       "}\r\n",
       "}\r\n",
       "@enduml\r\n",
       "\n",
       "PlantUML version 1.2020.13(Sat Jun 13 12:26:38 UTC 2020)\n",
       "(EPL source distribution)\n",
       "Java Runtime: OpenJDK Runtime Environment\n",
       "JVM: OpenJDK 64-Bit Server VM\n",
       "Default Encoding: UTF-8\n",
       "Language: en\n",
       "Country: null\n",
       "--></g></svg>"
      ]
     },
     "execution_count": 3,
     "metadata": {},
     "output_type": "execute_result"
    }
   ],
   "source": [
    "%viz --style=\"COMPTREE\" --view=\"Tree\" \"ActionTest\""
   ]
  },
  {
   "cell_type": "code",
   "execution_count": 4,
   "id": "parental-roberts",
   "metadata": {
    "execution": {
     "iopub.execute_input": "2021-03-25T14:11:36.090305Z",
     "iopub.status.busy": "2021-03-25T14:11:36.089491Z",
     "iopub.status.idle": "2021-03-25T14:11:36.101562Z",
     "shell.execute_reply": "2021-03-25T14:11:36.101998Z"
    }
   },
   "outputs": [
    {
     "data": {
      "image/svg+xml": [
       "<?xml version=\"1.0\" encoding=\"UTF-8\" standalone=\"no\"?><svg xmlns=\"http://www.w3.org/2000/svg\" xmlns:xlink=\"http://www.w3.org/1999/xlink\" contentScriptType=\"application/ecmascript\" contentStyleType=\"text/css\" height=\"12px\" preserveAspectRatio=\"none\" style=\"width:12px;height:12px;\" version=\"1.1\" viewBox=\"0 0 12 12\" width=\"12px\" zoomAndPan=\"magnify\"><defs/><g><!--MD5=[f19188ef49e11757b5c46753f95d9edc]\n",
       "@startuml\r\n",
       " skinparam monochrome true\r\n",
       "skinparam classbackgroundcolor white\r\n",
       "skinparam shadowing false\r\n",
       "skinparam wrapWidth 300\r\n",
       "hide circle\r\n",
       "\r\n",
       "@enduml\r\n",
       "\n",
       "PlantUML version 1.2020.13(Sat Jun 13 12:26:38 UTC 2020)\n",
       "(EPL source distribution)\n",
       "Java Runtime: OpenJDK Runtime Environment\n",
       "JVM: OpenJDK 64-Bit Server VM\n",
       "Default Encoding: UTF-8\n",
       "Language: en\n",
       "Country: null\n",
       "--></g></svg>"
      ]
     },
     "execution_count": 4,
     "metadata": {},
     "output_type": "execute_result"
    }
   ],
   "source": [
    "%viz --style=\"COMPTREE\" --view=\"State\" \"ActionTest\""
   ]
  },
  {
   "cell_type": "code",
   "execution_count": 5,
   "id": "august-frost",
   "metadata": {
    "execution": {
     "iopub.execute_input": "2021-03-25T14:11:36.156242Z",
     "iopub.status.busy": "2021-03-25T14:11:36.155336Z",
     "iopub.status.idle": "2021-03-25T14:11:36.344401Z",
     "shell.execute_reply": "2021-03-25T14:11:36.344814Z"
    }
   },
   "outputs": [
    {
     "data": {
      "image/svg+xml": [
       "<?xml version=\"1.0\" encoding=\"UTF-8\" standalone=\"no\"?><svg xmlns=\"http://www.w3.org/2000/svg\" xmlns:xlink=\"http://www.w3.org/1999/xlink\" contentScriptType=\"application/ecmascript\" contentStyleType=\"text/css\" height=\"462px\" preserveAspectRatio=\"none\" style=\"width:522px;height:462px;\" version=\"1.1\" viewBox=\"0 0 522 462\" width=\"522px\" zoomAndPan=\"magnify\"><defs/><g><!--MD5=[fbc87193dbaf4d95561dea2c320d4a47]\n",
       "cluster E1--><a href=\"psysml:1b586630-6073-41f8-a31c-3b1021fd2d94\" target=\"_top\" title=\"psysml:1b586630-6073-41f8-a31c-3b1021fd2d94\" xlink:actuate=\"onRequest\" xlink:href=\"psysml:1b586630-6073-41f8-a31c-3b1021fd2d94\" xlink:show=\"new\" xlink:title=\"psysml:1b586630-6073-41f8-a31c-3b1021fd2d94\" xlink:type=\"simple\"><polygon fill=\"#FFFFFF\" points=\"16,6,107,6,114,28.2969,500,28.2969,500,450.5,16,450.5,16,6\" style=\"stroke: #000000; stroke-width: 1.5;\"/><line style=\"stroke: #000000; stroke-width: 1.5;\" x1=\"16\" x2=\"114\" y1=\"28.2969\" y2=\"28.2969\"/><text fill=\"#000000\" font-family=\"sans-serif\" font-size=\"14\" font-weight=\"bold\" lengthAdjust=\"spacingAndGlyphs\" textLength=\"85\" x=\"20\" y=\"20.9951\">ActionTest</text></a><!--MD5=[d5e69f78d87373223dbae638b30a9c99]\n",
       "cluster E3--><a href=\"psysml:63b3e978-ff90-4127-8639-9e6714fb0371\" target=\"_top\" title=\"psysml:63b3e978-ff90-4127-8639-9e6714fb0371\" xlink:actuate=\"onRequest\" xlink:href=\"psysml:63b3e978-ff90-4127-8639-9e6714fb0371\" xlink:show=\"new\" xlink:title=\"psysml:63b3e978-ff90-4127-8639-9e6714fb0371\" xlink:type=\"simple\"><rect fill=\"#FFFFFF\" height=\"377.5\" id=\"E3\" rx=\"10\" ry=\"10\" style=\"stroke: #383838; stroke-width: 1.5;\" width=\"209\" x=\"267\" y=\"49\"/><rect fill=\"#F8F8F8\" height=\"37.9375\" rx=\"10\" ry=\"10\" style=\"stroke: #F8F8F8; stroke-width: 1.5;\" width=\"209\" x=\"267\" y=\"49\"/><rect fill=\"#F8F8F8\" height=\"10\" style=\"stroke: #F8F8F8; stroke-width: 1.5;\" width=\"209\" x=\"267\" y=\"76.9375\"/><rect fill=\"none\" height=\"377.5\" id=\"E3\" rx=\"10\" ry=\"10\" style=\"stroke: #383838; stroke-width: 1.5;\" width=\"209\" x=\"267\" y=\"49\"/><text fill=\"#000000\" font-family=\"sans-serif\" font-size=\"12\" font-style=\"italic\" lengthAdjust=\"spacingAndGlyphs\" textLength=\"53\" x=\"345\" y=\"65.1387\">«action»</text><text fill=\"#000000\" font-family=\"sans-serif\" font-size=\"12\" lengthAdjust=\"spacingAndGlyphs\" textLength=\"8\" x=\"367.5\" y=\"79.1074\">a</text><line style=\"stroke: #383838; stroke-width: 1.0;\" x1=\"267\" x2=\"476\" y1=\"86.9375\" y2=\"86.9375\"/></a><g id=\"E1.E2\"><a href=\"psysml:ec6ecfb2-58e1-4e93-a57f-7fba141d91de\" target=\"_top\" title=\"psysml:ec6ecfb2-58e1-4e93-a57f-7fba141d91de\" xlink:actuate=\"onRequest\" xlink:href=\"psysml:ec6ecfb2-58e1-4e93-a57f-7fba141d91de\" xlink:show=\"new\" xlink:title=\"psysml:ec6ecfb2-58e1-4e93-a57f-7fba141d91de\" xlink:type=\"simple\"><rect fill=\"#FFFFFF\" height=\"42.9375\" id=\"E2\" style=\"stroke: #383838; stroke-width: 1.5;\" width=\"100\" x=\"151\" y=\"88.5\"/><rect fill=\"#F8F8F8\" height=\"37.9375\" style=\"stroke: #383838; stroke-width: 1.5;\" width=\"100\" x=\"151\" y=\"88.5\"/><text fill=\"#000000\" font-family=\"sans-serif\" font-size=\"12\" font-style=\"italic\" lengthAdjust=\"spacingAndGlyphs\" textLength=\"93\" x=\"154.5\" y=\"104.6387\">«attribute def»</text><text fill=\"#000000\" font-family=\"sans-serif\" font-size=\"12\" lengthAdjust=\"spacingAndGlyphs\" textLength=\"8\" x=\"197\" y=\"118.6074\">S</text></a></g><polygon fill=\"#F8F8F8\" points=\"424,148.5,436,160.5,424,172.5,412,160.5,424,148.5\" style=\"stroke: #383838; stroke-width: 1.5;\"/><!--MD5=[21dd76c19d33815960c0e92fef8f0eef]\n",
       "entity E5--><a href=\"psysml:12477b88-d1e3-4069-a82c-9614e3ee7843\" target=\"_top\" title=\"psysml:12477b88-d1e3-4069-a82c-9614e3ee7843\" xlink:actuate=\"onRequest\" xlink:href=\"psysml:12477b88-d1e3-4069-a82c-9614e3ee7843\" xlink:show=\"new\" xlink:title=\"psysml:12477b88-d1e3-4069-a82c-9614e3ee7843\" xlink:type=\"simple\"><polygon fill=\"#F8F8F8\" points=\"283,189.5,283,244.0938,423,244.0938,403,216.7969,423,189.5\" style=\"stroke: #000000; stroke-width: 1.5;\"/><text fill=\"#000000\" font-family=\"sans-serif\" font-size=\"14\" font-style=\"italic\" lengthAdjust=\"spacingAndGlyphs\" textLength=\"111\" x=\"290\" y=\"212.4951\">«accept action»</text><text fill=\"#000000\" font-family=\"sans-serif\" font-size=\"14\" lengthAdjust=\"spacingAndGlyphs\" textLength=\"9\" x=\"341\" y=\"229.792\">S</text></a><!--MD5=[24d87cdf3002d433f401b2a2aa9f9f65]\n",
       "entity E6--><a href=\"psysml:18c53c10-a81a-4a73-8210-8be9c84ee198\" target=\"_top\" title=\"psysml:18c53c10-a81a-4a73-8210-8be9c84ee198\" xlink:actuate=\"onRequest\" xlink:href=\"psysml:18c53c10-a81a-4a73-8210-8be9c84ee198\" xlink:show=\"new\" xlink:title=\"psysml:18c53c10-a81a-4a73-8210-8be9c84ee198\" xlink:type=\"simple\"><polygon fill=\"#F8F8F8\" points=\"283,277.5,283,332.0938,391,332.0938,411,304.7969,391,277.5\" style=\"stroke: #000000; stroke-width: 1.5;\"/><text fill=\"#000000\" font-family=\"sans-serif\" font-size=\"14\" font-style=\"italic\" lengthAdjust=\"spacingAndGlyphs\" textLength=\"99\" x=\"290\" y=\"300.4951\">«send action»</text><text fill=\"#000000\" font-family=\"sans-serif\" font-size=\"14\" lengthAdjust=\"spacingAndGlyphs\" textLength=\"55\" x=\"312\" y=\"317.792\">S to  B()</text></a><polygon fill=\"#F8F8F8\" points=\"422,349.5,434,361.5,422,373.5,410,361.5,422,349.5\" style=\"stroke: #383838; stroke-width: 1.5;\"/><ellipse cx=\"424\" cy=\"110\" fill=\"#000000\" rx=\"10\" ry=\"10\" style=\"stroke: none; stroke-width: 1.0;\"/><ellipse cx=\"422\" cy=\"400.5\" fill=\"none\" rx=\"10\" ry=\"10\" style=\"stroke: #000000; stroke-width: 1.0;\"/><ellipse cx=\"422.5\" cy=\"401\" fill=\"#000000\" rx=\"6\" ry=\"6\" style=\"stroke: none; stroke-width: 1.0;\"/><g id=\"E1.E8\"><a href=\"psysml:a720c396-7a8e-4250-b133-b38e5d5b0a71\" target=\"_top\" title=\"psysml:a720c396-7a8e-4250-b133-b38e5d5b0a71\" xlink:actuate=\"onRequest\" xlink:href=\"psysml:a720c396-7a8e-4250-b133-b38e5d5b0a71\" xlink:show=\"new\" xlink:title=\"psysml:a720c396-7a8e-4250-b133-b38e5d5b0a71\" xlink:type=\"simple\"><rect fill=\"#FFFFFF\" height=\"42.9375\" id=\"E8\" style=\"stroke: #383838; stroke-width: 1.5;\" width=\"84\" x=\"32\" y=\"88.5\"/><rect fill=\"#F8F8F8\" height=\"37.9375\" style=\"stroke: #383838; stroke-width: 1.5;\" width=\"84\" x=\"32\" y=\"88.5\"/><text fill=\"#000000\" font-family=\"sans-serif\" font-size=\"12\" font-style=\"italic\" lengthAdjust=\"spacingAndGlyphs\" textLength=\"77\" x=\"35.5\" y=\"104.6387\">«action def»</text><text fill=\"#000000\" font-family=\"sans-serif\" font-size=\"12\" lengthAdjust=\"spacingAndGlyphs\" textLength=\"8\" x=\"70\" y=\"118.6074\">B</text></a></g><!--MD5=[f47e10efcf9a6752d55dae986d790ed9]\n",
       "link *start*E3 to E4--><a href=\"psysml:3eb4ae89-c3fe-4a5c-9996-6c16dc90e291\" target=\"_top\" title=\"psysml:3eb4ae89-c3fe-4a5c-9996-6c16dc90e291\" xlink:actuate=\"onRequest\" xlink:href=\"psysml:3eb4ae89-c3fe-4a5c-9996-6c16dc90e291\" xlink:show=\"new\" xlink:title=\"psysml:3eb4ae89-c3fe-4a5c-9996-6c16dc90e291\" xlink:type=\"simple\"><path d=\"M424,120.35 C424,126.88 424,135.77 424,143.42 \" fill=\"none\" id=\"*start*E3-&gt;E4\" style=\"stroke: #383838; stroke-width: 1.0;\"/><polygon fill=\"#383838\" points=\"424,148.48,428,139.48,424,143.48,420,139.48,424,148.48\" style=\"stroke: #383838; stroke-width: 1.0;\"/></a><!--MD5=[d19f2eb34364d71b67042106d92f540b]\n",
       "link E7 to *end*E3--><a href=\"psysml:529019b4-f7b3-445e-a809-123fd999bfb3\" target=\"_top\" title=\"psysml:529019b4-f7b3-445e-a809-123fd999bfb3\" xlink:actuate=\"onRequest\" xlink:href=\"psysml:529019b4-f7b3-445e-a809-123fd999bfb3\" xlink:show=\"new\" xlink:title=\"psysml:529019b4-f7b3-445e-a809-123fd999bfb3\" xlink:type=\"simple\"><path d=\"M422,373.8 C422,377.34 422,381.3 422,385.03 \" fill=\"none\" id=\"E7-&gt;*end*E3\" style=\"stroke: #383838; stroke-width: 1.0;\"/><polygon fill=\"#383838\" points=\"422,390.25,426,381.25,422,385.25,418,381.25,422,390.25\" style=\"stroke: #383838; stroke-width: 1.0;\"/></a><!--MD5=[1b7591eae5389033d8d09a9d6721a717]\n",
       "link E4 to E5--><a href=\"psysml:252a1c6c-cc00-403d-ac29-1241d1eee0ca\" target=\"_top\" title=\"psysml:252a1c6c-cc00-403d-ac29-1241d1eee0ca\" xlink:actuate=\"onRequest\" xlink:href=\"psysml:252a1c6c-cc00-403d-ac29-1241d1eee0ca\" xlink:show=\"new\" xlink:title=\"psysml:252a1c6c-cc00-403d-ac29-1241d1eee0ca\" xlink:type=\"simple\"><path d=\"M417.45,166.53 C411.33,171.23 401.65,178.66 391.64,186.34 \" fill=\"none\" id=\"E4-&gt;E5\" style=\"stroke: #383838; stroke-width: 1.0;\"/><polygon fill=\"#383838\" points=\"387.64,189.41,397.2129,187.0948,391.6037,186.3621,392.3363,180.7529,387.64,189.41\" style=\"stroke: #383838; stroke-width: 1.0;\"/></a><!--MD5=[9120cf2e5df3bff93db8f754bbbc09b4]\n",
       "link E5 to E6--><a href=\"psysml:52dd995d-9028-4157-9334-98b87c98e4ca\" target=\"_top\" title=\"psysml:52dd995d-9028-4157-9334-98b87c98e4ca\" xlink:actuate=\"onRequest\" xlink:href=\"psysml:52dd995d-9028-4157-9334-98b87c98e4ca\" xlink:show=\"new\" xlink:title=\"psysml:52dd995d-9028-4157-9334-98b87c98e4ca\" xlink:type=\"simple\"><path d=\"M351.13,244.74 C350.53,253.4 349.85,263.08 349.23,272.08 \" fill=\"none\" id=\"E5-&gt;E6\" style=\"stroke: #383838; stroke-width: 1.0;\"/><polygon fill=\"#383838\" points=\"348.86,277.28,353.468,268.5756,349.203,272.2918,345.4869,268.0268,348.86,277.28\" style=\"stroke: #383838; stroke-width: 1.0;\"/></a><!--MD5=[02c70b7c851c11e3980e4e90450dc5dd]\n",
       "link E6 to E7--><a href=\"psysml:11c1c086-8dd9-4b00-9ab5-dcf0da9e4b0f\" target=\"_top\" title=\"psysml:11c1c086-8dd9-4b00-9ab5-dcf0da9e4b0f\" xlink:actuate=\"onRequest\" xlink:href=\"psysml:11c1c086-8dd9-4b00-9ab5-dcf0da9e4b0f\" xlink:show=\"new\" xlink:title=\"psysml:11c1c086-8dd9-4b00-9ab5-dcf0da9e4b0f\" xlink:type=\"simple\"><path d=\"M383.62,332.61 C393.72,339.95 403.91,347.35 411.24,352.68 \" fill=\"none\" id=\"E6-&gt;E7\" style=\"stroke: #383838; stroke-width: 1.0;\"/><polygon fill=\"#383838\" points=\"415.42,355.72,410.4976,347.1894,411.3776,352.7774,405.7896,353.6574,415.42,355.72\" style=\"stroke: #383838; stroke-width: 1.0;\"/></a><!--MD5=[6bdd27f9905911a7e892a3dc65cf6b7c]\n",
       "link E7 to E4--><a href=\"psysml:9dbcc968-b81d-4000-b2fb-dcd38ad7dec8\" target=\"_top\" title=\"psysml:9dbcc968-b81d-4000-b2fb-dcd38ad7dec8\" xlink:actuate=\"onRequest\" xlink:href=\"psysml:9dbcc968-b81d-4000-b2fb-dcd38ad7dec8\" xlink:show=\"new\" xlink:title=\"psysml:9dbcc968-b81d-4000-b2fb-dcd38ad7dec8\" xlink:type=\"simple\"><path d=\"M425,352.49 C433.84,327.73 458.06,250.48 441,189.5 C439.26,183.29 435.73,177.1 432.34,172.12 \" fill=\"none\" id=\"E7-&gt;E4\" style=\"stroke: #383838; stroke-width: 1.0;\"/><polygon fill=\"#383838\" points=\"429.31,167.92,431.3342,177.5586,432.2364,171.9741,437.8209,172.8763,429.31,167.92\" style=\"stroke: #383838; stroke-width: 1.0;\"/><text fill=\"#000000\" font-family=\"sans-serif\" font-size=\"13\" lengthAdjust=\"spacingAndGlyphs\" textLength=\"36\" x=\"447\" y=\"265.5669\">[true]</text></a><!--MD5=[d717a479ca97e8710e78766528260c7f]\n",
       "@startuml\r\n",
       "skinparam ranksep 10\r\n",
       "skinparam rectangle {\r\n",
       " backgroundColor<<block>> LightGreen\r\n",
       "}\r\n",
       " skinparam monochrome true\r\n",
       "skinparam classbackgroundcolor white\r\n",
       "skinparam shadowing false\r\n",
       "skinparam wrapWidth 300\r\n",
       "hide circle\r\n",
       "\r\n",
       "package \"ActionTest\" as E1  [[psysml:1b586630-6073-41f8-a31c-3b1021fd2d94 ]]  {\r\n",
       "def \"S\" as E2  <<(T,blue)attribute def>> [[psysml:ec6ecfb2-58e1-4e93-a57f-7fba141d91de ]] \r\n",
       "rec usage \"a\" as E3  <<(T,blue)action>> [[psysml:63b3e978-ff90-4127-8639-9e6714fb0371 ]] {\r\n",
       "choice \"m\" as E4  [[psysml:3c09e5e0-87ee-487d-a94c-d1481b887cf0 ]] \r\n",
       "accept \" S\" as E5 <<accept action>> [[psysml:12477b88-d1e3-4069-a82c-9614e3ee7843 ]] \r\n",
       "send \" S to  B()\" as E6 <<send action>> [[psysml:18c53c10-a81a-4a73-8210-8be9c84ee198 ]] \r\n",
       "choice \"noname\" as E7  [[psysml:e28bc343-f228-4c60-afee-7deafa85ddc3 ]] \r\n",
       "[*] - -> E4 [[psysml:3eb4ae89-c3fe-4a5c-9996-6c16dc90e291 ]] \r\n",
       "E7  - -> [*] [[psysml:529019b4-f7b3-445e-a809-123fd999bfb3 ]] \r\n",
       "}\r\n",
       "\r\n",
       "rec def \"B\" as E8  <<(T,blue)action def>> [[psysml:a720c396-7a8e-4250-b133-b38e5d5b0a71 ]] {\r\n",
       "}\r\n",
       "\r\n",
       "E4 - -> E5 [[psysml:252a1c6c-cc00-403d-ac29-1241d1eee0ca ]] \r\n",
       "E5 - -> E6 [[psysml:52dd995d-9028-4157-9334-98b87c98e4ca ]] \r\n",
       "E6 - -> E7 [[psysml:11c1c086-8dd9-4b00-9ab5-dcf0da9e4b0f ]] \r\n",
       "E7  - -> E4 [[psysml:9dbcc968-b81d-4000-b2fb-dcd38ad7dec8 ]] : [true]\r\n",
       "}\r\n",
       "@enduml\r\n",
       "\n",
       "PlantUML version 1.2020.13(Sat Jun 13 12:26:38 UTC 2020)\n",
       "(EPL source distribution)\n",
       "Java Runtime: OpenJDK Runtime Environment\n",
       "JVM: OpenJDK 64-Bit Server VM\n",
       "Default Encoding: UTF-8\n",
       "Language: en\n",
       "Country: null\n",
       "--></g></svg>"
      ]
     },
     "execution_count": 5,
     "metadata": {},
     "output_type": "execute_result"
    }
   ],
   "source": [
    "%viz --style=\"COMPTREE\" --view=\"Interconnection\" \"ActionTest\""
   ]
  },
  {
   "cell_type": "code",
   "execution_count": 6,
   "id": "supreme-invalid",
   "metadata": {
    "execution": {
     "iopub.execute_input": "2021-03-25T14:11:36.396149Z",
     "iopub.status.busy": "2021-03-25T14:11:36.395306Z",
     "iopub.status.idle": "2021-03-25T14:11:36.577448Z",
     "shell.execute_reply": "2021-03-25T14:11:36.577813Z"
    }
   },
   "outputs": [
    {
     "data": {
      "image/svg+xml": [
       "<?xml version=\"1.0\" encoding=\"UTF-8\" standalone=\"no\"?><svg xmlns=\"http://www.w3.org/2000/svg\" xmlns:xlink=\"http://www.w3.org/1999/xlink\" contentScriptType=\"application/ecmascript\" contentStyleType=\"text/css\" height=\"395px\" preserveAspectRatio=\"none\" style=\"width:335px;height:395px;\" version=\"1.1\" viewBox=\"0 0 335 395\" width=\"335px\" zoomAndPan=\"magnify\"><defs/><g><!--MD5=[fbc87193dbaf4d95561dea2c320d4a47]\n",
       "cluster E1--><a href=\"psysml:63b3e978-ff90-4127-8639-9e6714fb0371\" target=\"_top\" title=\"psysml:63b3e978-ff90-4127-8639-9e6714fb0371\" xlink:actuate=\"onRequest\" xlink:href=\"psysml:63b3e978-ff90-4127-8639-9e6714fb0371\" xlink:show=\"new\" xlink:title=\"psysml:63b3e978-ff90-4127-8639-9e6714fb0371\" xlink:type=\"simple\"><rect fill=\"#FFFFFF\" height=\"377.5\" id=\"E1\" rx=\"10\" ry=\"10\" style=\"stroke: #383838; stroke-width: 1.5;\" width=\"209\" x=\"107\" y=\"7\"/><rect fill=\"#F8F8F8\" height=\"37.9375\" rx=\"10\" ry=\"10\" style=\"stroke: #F8F8F8; stroke-width: 1.5;\" width=\"209\" x=\"107\" y=\"7\"/><rect fill=\"#F8F8F8\" height=\"10\" style=\"stroke: #F8F8F8; stroke-width: 1.5;\" width=\"209\" x=\"107\" y=\"34.9375\"/><rect fill=\"none\" height=\"377.5\" id=\"E1\" rx=\"10\" ry=\"10\" style=\"stroke: #383838; stroke-width: 1.5;\" width=\"209\" x=\"107\" y=\"7\"/><text fill=\"#000000\" font-family=\"sans-serif\" font-size=\"12\" font-style=\"italic\" lengthAdjust=\"spacingAndGlyphs\" textLength=\"53\" x=\"185\" y=\"23.1387\">«action»</text><text fill=\"#000000\" font-family=\"sans-serif\" font-size=\"12\" lengthAdjust=\"spacingAndGlyphs\" textLength=\"8\" x=\"207.5\" y=\"37.1074\">a</text><line style=\"stroke: #383838; stroke-width: 1.0;\" x1=\"107\" x2=\"316\" y1=\"44.9375\" y2=\"44.9375\"/></a><polygon fill=\"#F8F8F8\" points=\"264,106.5,276,118.5,264,130.5,252,118.5,264,106.5\" style=\"stroke: #383838; stroke-width: 1.5;\"/><!--MD5=[a60fb756f580feb9fd8e2cf1329b5c91]\n",
       "entity E3--><a href=\"psysml:12477b88-d1e3-4069-a82c-9614e3ee7843\" target=\"_top\" title=\"psysml:12477b88-d1e3-4069-a82c-9614e3ee7843\" xlink:actuate=\"onRequest\" xlink:href=\"psysml:12477b88-d1e3-4069-a82c-9614e3ee7843\" xlink:show=\"new\" xlink:title=\"psysml:12477b88-d1e3-4069-a82c-9614e3ee7843\" xlink:type=\"simple\"><polygon fill=\"#F8F8F8\" points=\"123,147.5,123,202.0938,263,202.0938,243,174.7969,263,147.5\" style=\"stroke: #000000; stroke-width: 1.5;\"/><text fill=\"#000000\" font-family=\"sans-serif\" font-size=\"14\" font-style=\"italic\" lengthAdjust=\"spacingAndGlyphs\" textLength=\"111\" x=\"130\" y=\"170.4951\">«accept action»</text><text fill=\"#000000\" font-family=\"sans-serif\" font-size=\"14\" lengthAdjust=\"spacingAndGlyphs\" textLength=\"9\" x=\"181\" y=\"187.792\">S</text></a><!--MD5=[961cefdc15414eaa3e87aec9d17c2188]\n",
       "entity E4--><a href=\"psysml:18c53c10-a81a-4a73-8210-8be9c84ee198\" target=\"_top\" title=\"psysml:18c53c10-a81a-4a73-8210-8be9c84ee198\" xlink:actuate=\"onRequest\" xlink:href=\"psysml:18c53c10-a81a-4a73-8210-8be9c84ee198\" xlink:show=\"new\" xlink:title=\"psysml:18c53c10-a81a-4a73-8210-8be9c84ee198\" xlink:type=\"simple\"><polygon fill=\"#F8F8F8\" points=\"123,235.5,123,290.0938,231,290.0938,251,262.7969,231,235.5\" style=\"stroke: #000000; stroke-width: 1.5;\"/><text fill=\"#000000\" font-family=\"sans-serif\" font-size=\"14\" font-style=\"italic\" lengthAdjust=\"spacingAndGlyphs\" textLength=\"99\" x=\"130\" y=\"258.4951\">«send action»</text><text fill=\"#000000\" font-family=\"sans-serif\" font-size=\"14\" lengthAdjust=\"spacingAndGlyphs\" textLength=\"55\" x=\"152\" y=\"275.792\">S to  B()</text></a><polygon fill=\"#F8F8F8\" points=\"262,307.5,274,319.5,262,331.5,250,319.5,262,307.5\" style=\"stroke: #383838; stroke-width: 1.5;\"/><ellipse cx=\"264\" cy=\"68\" fill=\"#000000\" rx=\"10\" ry=\"10\" style=\"stroke: none; stroke-width: 1.0;\"/><ellipse cx=\"262\" cy=\"358.5\" fill=\"none\" rx=\"10\" ry=\"10\" style=\"stroke: #000000; stroke-width: 1.0;\"/><ellipse cx=\"262.5\" cy=\"359\" fill=\"#000000\" rx=\"6\" ry=\"6\" style=\"stroke: none; stroke-width: 1.0;\"/><g id=\"E6\"><a href=\"psysml:a720c396-7a8e-4250-b133-b38e5d5b0a71\" target=\"_top\" title=\"psysml:a720c396-7a8e-4250-b133-b38e5d5b0a71\" xlink:actuate=\"onRequest\" xlink:href=\"psysml:a720c396-7a8e-4250-b133-b38e5d5b0a71\" xlink:show=\"new\" xlink:title=\"psysml:a720c396-7a8e-4250-b133-b38e5d5b0a71\" xlink:type=\"simple\"><rect fill=\"#FFFFFF\" height=\"42.9375\" id=\"E6\" style=\"stroke: #383838; stroke-width: 1.5;\" width=\"84\" x=\"7\" y=\"46.5\"/><rect fill=\"#F8F8F8\" height=\"37.9375\" style=\"stroke: #383838; stroke-width: 1.5;\" width=\"84\" x=\"7\" y=\"46.5\"/><text fill=\"#000000\" font-family=\"sans-serif\" font-size=\"12\" font-style=\"italic\" lengthAdjust=\"spacingAndGlyphs\" textLength=\"77\" x=\"10.5\" y=\"62.6387\">«action def»</text><text fill=\"#000000\" font-family=\"sans-serif\" font-size=\"12\" lengthAdjust=\"spacingAndGlyphs\" textLength=\"8\" x=\"45\" y=\"76.6074\">B</text></a></g><!--MD5=[cff944eb183b832d446717a4e202d613]\n",
       "link *start*E1 to E2--><a href=\"psysml:3eb4ae89-c3fe-4a5c-9996-6c16dc90e291\" target=\"_top\" title=\"psysml:3eb4ae89-c3fe-4a5c-9996-6c16dc90e291\" xlink:actuate=\"onRequest\" xlink:href=\"psysml:3eb4ae89-c3fe-4a5c-9996-6c16dc90e291\" xlink:show=\"new\" xlink:title=\"psysml:3eb4ae89-c3fe-4a5c-9996-6c16dc90e291\" xlink:type=\"simple\"><path d=\"M264,78.35 C264,84.88 264,93.77 264,101.42 \" fill=\"none\" id=\"*start*E1-&gt;E2\" style=\"stroke: #383838; stroke-width: 1.0; stroke-dasharray: 7.0,7.0;\"/><polygon fill=\"#383838\" points=\"264,106.48,268,97.48,264,101.48,260,97.48,264,106.48\" style=\"stroke: #383838; stroke-width: 1.0;\"/></a><!--MD5=[7fc47fc0d107820853a137871ad908c8]\n",
       "link E5 to *end*E1--><a href=\"psysml:529019b4-f7b3-445e-a809-123fd999bfb3\" target=\"_top\" title=\"psysml:529019b4-f7b3-445e-a809-123fd999bfb3\" xlink:actuate=\"onRequest\" xlink:href=\"psysml:529019b4-f7b3-445e-a809-123fd999bfb3\" xlink:show=\"new\" xlink:title=\"psysml:529019b4-f7b3-445e-a809-123fd999bfb3\" xlink:type=\"simple\"><path d=\"M262,331.8 C262,335.34 262,339.3 262,343.03 \" fill=\"none\" id=\"E5-&gt;*end*E1\" style=\"stroke: #383838; stroke-width: 1.0; stroke-dasharray: 7.0,7.0;\"/><polygon fill=\"#383838\" points=\"262,348.25,266,339.25,262,343.25,258,339.25,262,348.25\" style=\"stroke: #383838; stroke-width: 1.0;\"/></a><!--MD5=[2720a5a1f2c3fca2055b230370638851]\n",
       "link E2 to E3--><a href=\"psysml:252a1c6c-cc00-403d-ac29-1241d1eee0ca\" target=\"_top\" title=\"psysml:252a1c6c-cc00-403d-ac29-1241d1eee0ca\" xlink:actuate=\"onRequest\" xlink:href=\"psysml:252a1c6c-cc00-403d-ac29-1241d1eee0ca\" xlink:show=\"new\" xlink:title=\"psysml:252a1c6c-cc00-403d-ac29-1241d1eee0ca\" xlink:type=\"simple\"><path d=\"M257.45,124.53 C251.33,129.23 241.65,136.66 231.64,144.34 \" fill=\"none\" id=\"E2-&gt;E3\" style=\"stroke: #383838; stroke-width: 1.0; stroke-dasharray: 7.0,7.0;\"/><polygon fill=\"#383838\" points=\"227.64,147.41,237.2129,145.0948,231.6037,144.3621,232.3363,138.7529,227.64,147.41\" style=\"stroke: #383838; stroke-width: 1.0;\"/></a><!--MD5=[af87c684e3b0d8be13c1a698a818ef1e]\n",
       "link E3 to E4--><a href=\"psysml:52dd995d-9028-4157-9334-98b87c98e4ca\" target=\"_top\" title=\"psysml:52dd995d-9028-4157-9334-98b87c98e4ca\" xlink:actuate=\"onRequest\" xlink:href=\"psysml:52dd995d-9028-4157-9334-98b87c98e4ca\" xlink:show=\"new\" xlink:title=\"psysml:52dd995d-9028-4157-9334-98b87c98e4ca\" xlink:type=\"simple\"><path d=\"M191.13,202.74 C190.53,211.4 189.85,221.08 189.23,230.08 \" fill=\"none\" id=\"E3-&gt;E4\" style=\"stroke: #383838; stroke-width: 1.0; stroke-dasharray: 7.0,7.0;\"/><polygon fill=\"#383838\" points=\"188.86,235.28,193.468,226.5756,189.203,230.2918,185.4869,226.0268,188.86,235.28\" style=\"stroke: #383838; stroke-width: 1.0;\"/></a><!--MD5=[1b7591eae5389033d8d09a9d6721a717]\n",
       "link E4 to E5--><a href=\"psysml:11c1c086-8dd9-4b00-9ab5-dcf0da9e4b0f\" target=\"_top\" title=\"psysml:11c1c086-8dd9-4b00-9ab5-dcf0da9e4b0f\" xlink:actuate=\"onRequest\" xlink:href=\"psysml:11c1c086-8dd9-4b00-9ab5-dcf0da9e4b0f\" xlink:show=\"new\" xlink:title=\"psysml:11c1c086-8dd9-4b00-9ab5-dcf0da9e4b0f\" xlink:type=\"simple\"><path d=\"M223.62,290.61 C233.72,297.95 243.91,305.35 251.24,310.68 \" fill=\"none\" id=\"E4-&gt;E5\" style=\"stroke: #383838; stroke-width: 1.0; stroke-dasharray: 7.0,7.0;\"/><polygon fill=\"#383838\" points=\"255.42,313.72,250.4976,305.1894,251.3776,310.7774,245.7896,311.6574,255.42,313.72\" style=\"stroke: #383838; stroke-width: 1.0;\"/></a><!--MD5=[15ebcb19ae302d9b601edb458606d402]\n",
       "link E5 to E2--><a href=\"psysml:9dbcc968-b81d-4000-b2fb-dcd38ad7dec8\" target=\"_top\" title=\"psysml:9dbcc968-b81d-4000-b2fb-dcd38ad7dec8\" xlink:actuate=\"onRequest\" xlink:href=\"psysml:9dbcc968-b81d-4000-b2fb-dcd38ad7dec8\" xlink:show=\"new\" xlink:title=\"psysml:9dbcc968-b81d-4000-b2fb-dcd38ad7dec8\" xlink:type=\"simple\"><path d=\"M265,310.49 C273.84,285.73 298.06,208.48 281,147.5 C279.26,141.29 275.73,135.1 272.34,130.12 \" fill=\"none\" id=\"E5-&gt;E2\" style=\"stroke: #383838; stroke-width: 1.0; stroke-dasharray: 7.0,7.0;\"/><polygon fill=\"#383838\" points=\"269.31,125.92,271.3342,135.5586,272.2364,129.9741,277.8209,130.8763,269.31,125.92\" style=\"stroke: #383838; stroke-width: 1.0;\"/><text fill=\"#000000\" font-family=\"sans-serif\" font-size=\"13\" lengthAdjust=\"spacingAndGlyphs\" textLength=\"36\" x=\"287\" y=\"223.5669\">[true]</text></a><!--MD5=[8fba3b69db1bd5005afddcd4ca69b8b3]\n",
       "@startuml\r\n",
       "skinparam ranksep 8\r\n",
       " skinparam monochrome true\r\n",
       "skinparam classbackgroundcolor white\r\n",
       "skinparam shadowing false\r\n",
       "skinparam wrapWidth 300\r\n",
       "hide circle\r\n",
       "\r\n",
       "rec usage \"a\" as E1  <<(T,blue)action>> [[psysml:63b3e978-ff90-4127-8639-9e6714fb0371 ]] {\r\n",
       "choice \"m\" as E2  [[psysml:3c09e5e0-87ee-487d-a94c-d1481b887cf0 ]] \r\n",
       "accept \" S\" as E3 <<accept action>> [[psysml:12477b88-d1e3-4069-a82c-9614e3ee7843 ]] \r\n",
       "send \" S to  B()\" as E4 <<send action>> [[psysml:18c53c10-a81a-4a73-8210-8be9c84ee198 ]] \r\n",
       "choice \"noname\" as E5  [[psysml:e28bc343-f228-4c60-afee-7deafa85ddc3 ]] \r\n",
       "[*] ..> E2 [[psysml:3eb4ae89-c3fe-4a5c-9996-6c16dc90e291 ]] \r\n",
       "E5 ..> [*] [[psysml:529019b4-f7b3-445e-a809-123fd999bfb3 ]] \r\n",
       "}\r\n",
       "\r\n",
       "E2 ..> E3 [[psysml:252a1c6c-cc00-403d-ac29-1241d1eee0ca ]] \r\n",
       "E3 ..> E4 [[psysml:52dd995d-9028-4157-9334-98b87c98e4ca ]] \r\n",
       "E4 ..> E5 [[psysml:11c1c086-8dd9-4b00-9ab5-dcf0da9e4b0f ]] \r\n",
       "E5 ..> E2 [[psysml:9dbcc968-b81d-4000-b2fb-dcd38ad7dec8 ]] : [true]\r\n",
       "rec def \"B\" as E6  <<(T,blue)action def>> [[psysml:a720c396-7a8e-4250-b133-b38e5d5b0a71 ]] {\r\n",
       "}\r\n",
       "\r\n",
       "@enduml\r\n",
       "\n",
       "PlantUML version 1.2020.13(Sat Jun 13 12:26:38 UTC 2020)\n",
       "(EPL source distribution)\n",
       "Java Runtime: OpenJDK Runtime Environment\n",
       "JVM: OpenJDK 64-Bit Server VM\n",
       "Default Encoding: UTF-8\n",
       "Language: en\n",
       "Country: null\n",
       "--></g></svg>"
      ]
     },
     "execution_count": 6,
     "metadata": {},
     "output_type": "execute_result"
    }
   ],
   "source": [
    "%viz --style=\"COMPTREE\" --view=\"Action\" \"ActionTest\""
   ]
  },
  {
   "cell_type": "code",
   "execution_count": 7,
   "id": "monetary-appointment",
   "metadata": {
    "execution": {
     "iopub.execute_input": "2021-03-25T14:11:36.628689Z",
     "iopub.status.busy": "2021-03-25T14:11:36.628245Z",
     "iopub.status.idle": "2021-03-25T14:11:37.335882Z",
     "shell.execute_reply": "2021-03-25T14:11:37.336415Z"
    }
   },
   "outputs": [
    {
     "data": {
      "image/svg+xml": [
       "<?xml version=\"1.0\" encoding=\"UTF-8\" standalone=\"no\"?><svg xmlns=\"http://www.w3.org/2000/svg\" xmlns:xlink=\"http://www.w3.org/1999/xlink\" contentScriptType=\"application/ecmascript\" contentStyleType=\"text/css\" height=\"187px\" preserveAspectRatio=\"none\" style=\"width:475px;height:187px;\" version=\"1.1\" viewBox=\"0 0 475 187\" width=\"475px\" zoomAndPan=\"magnify\"><defs/><g><!--MD5=[fbc87193dbaf4d95561dea2c320d4a47]\n",
       "cluster E1--><a href=\"psysml:1b586630-6073-41f8-a31c-3b1021fd2d94\" target=\"_top\" title=\"psysml:1b586630-6073-41f8-a31c-3b1021fd2d94\" xlink:actuate=\"onRequest\" xlink:href=\"psysml:1b586630-6073-41f8-a31c-3b1021fd2d94\" xlink:show=\"new\" xlink:title=\"psysml:1b586630-6073-41f8-a31c-3b1021fd2d94\" xlink:type=\"simple\"><polygon fill=\"#FFFFFF\" points=\"16,6,107,6,114,28.2969,453,28.2969,453,175,16,175,16,6\" style=\"stroke: #000000; stroke-width: 1.5;\"/><line style=\"stroke: #000000; stroke-width: 1.5;\" x1=\"16\" x2=\"114\" y1=\"28.2969\" y2=\"28.2969\"/><text fill=\"#000000\" font-family=\"sans-serif\" font-size=\"14\" font-weight=\"bold\" lengthAdjust=\"spacingAndGlyphs\" textLength=\"85\" x=\"20\" y=\"20.9951\">ActionTest</text></a><!--MD5=[b4997ac47864f28c2f74865a473b2911]\n",
       "class E2--><a href=\"psysml:ec6ecfb2-58e1-4e93-a57f-7fba141d91de\" target=\"_top\" title=\"psysml:ec6ecfb2-58e1-4e93-a57f-7fba141d91de\" xlink:actuate=\"onRequest\" xlink:href=\"psysml:ec6ecfb2-58e1-4e93-a57f-7fba141d91de\" xlink:show=\"new\" xlink:title=\"psysml:ec6ecfb2-58e1-4e93-a57f-7fba141d91de\" xlink:type=\"simple\"><rect fill=\"#FFFFFF\" height=\"45.9375\" id=\"E2\" style=\"stroke: #383838; stroke-width: 1.5;\" width=\"95\" x=\"341.5\" y=\"77\"/><text fill=\"#000000\" font-family=\"sans-serif\" font-size=\"12\" font-style=\"italic\" lengthAdjust=\"spacingAndGlyphs\" textLength=\"93\" x=\"342.5\" y=\"93.1387\">«attribute def»</text><text fill=\"#000000\" font-family=\"sans-serif\" font-size=\"12\" lengthAdjust=\"spacingAndGlyphs\" textLength=\"8\" x=\"385\" y=\"107.1074\">S</text><line style=\"stroke: #383838; stroke-width: 1.5;\" x1=\"342.5\" x2=\"435.5\" y1=\"114.9375\" y2=\"114.9375\"/></a><!--MD5=[09b614a08d8cba4a07c9adeb5e0fee81]\n",
       "class E3--><a href=\"psysml:63b3e978-ff90-4127-8639-9e6714fb0371\" target=\"_top\" title=\"psysml:63b3e978-ff90-4127-8639-9e6714fb0371\" xlink:actuate=\"onRequest\" xlink:href=\"psysml:63b3e978-ff90-4127-8639-9e6714fb0371\" xlink:show=\"new\" xlink:title=\"psysml:63b3e978-ff90-4127-8639-9e6714fb0371\" xlink:type=\"simple\"><rect fill=\"#FFFFFF\" height=\"117.9609\" id=\"E3\" rx=\"10\" ry=\"10\" style=\"stroke: #383838; stroke-width: 1.5;\" width=\"160\" x=\"146\" y=\"41\"/><text fill=\"#000000\" font-family=\"sans-serif\" font-size=\"12\" font-style=\"italic\" lengthAdjust=\"spacingAndGlyphs\" textLength=\"53\" x=\"199.5\" y=\"57.1387\">«action»</text><text fill=\"#000000\" font-family=\"sans-serif\" font-size=\"12\" lengthAdjust=\"spacingAndGlyphs\" textLength=\"8\" x=\"222\" y=\"71.1074\">a</text><line style=\"stroke: #383838; stroke-width: 1.5;\" x1=\"147\" x2=\"305\" y1=\"78.9375\" y2=\"78.9375\"/><text fill=\"#000000\" font-family=\"sans-serif\" font-size=\"11\" lengthAdjust=\"spacingAndGlyphs\" textLength=\"69\" x=\"152\" y=\"109.9526\">start: Action</text><text fill=\"#000000\" font-family=\"sans-serif\" font-size=\"11\" font-style=\"italic\" lengthAdjust=\"spacingAndGlyphs\" textLength=\"148\" x=\"152\" y=\"122.7573\">:&gt;&gt;Occurrence::startShot</text><line style=\"stroke: #383838; stroke-width: 1.0;\" x1=\"147\" x2=\"205.5\" y1=\"93.3398\" y2=\"93.3398\"/><text fill=\"#000000\" font-family=\"sans-serif\" font-size=\"11\" lengthAdjust=\"spacingAndGlyphs\" textLength=\"41\" x=\"205.5\" y=\"96.6479\">actions</text><line style=\"stroke: #383838; stroke-width: 1.0;\" x1=\"246.5\" x2=\"305\" y1=\"93.3398\" y2=\"93.3398\"/><text fill=\"#000000\" font-family=\"sans-serif\" font-size=\"11\" lengthAdjust=\"spacingAndGlyphs\" textLength=\"11\" x=\"152\" y=\"152.3667\">m</text><line style=\"stroke: #383838; stroke-width: 1.0;\" x1=\"147\" x2=\"189.5\" y1=\"135.7539\" y2=\"135.7539\"/><text fill=\"#000000\" font-family=\"sans-serif\" font-size=\"11\" lengthAdjust=\"spacingAndGlyphs\" textLength=\"73\" x=\"189.5\" y=\"139.062\">mergeNodes</text><line style=\"stroke: #383838; stroke-width: 1.0;\" x1=\"262.5\" x2=\"305\" y1=\"135.7539\" y2=\"135.7539\"/></a><!--MD5=[60a26617385b1d2d0262a64233df1f8d]\n",
       "class E6--><a href=\"psysml:a720c396-7a8e-4250-b133-b38e5d5b0a71\" target=\"_top\" title=\"psysml:a720c396-7a8e-4250-b133-b38e5d5b0a71\" xlink:actuate=\"onRequest\" xlink:href=\"psysml:a720c396-7a8e-4250-b133-b38e5d5b0a71\" xlink:show=\"new\" xlink:title=\"psysml:a720c396-7a8e-4250-b133-b38e5d5b0a71\" xlink:type=\"simple\"><rect fill=\"#FFFFFF\" height=\"45.9375\" id=\"E6\" style=\"stroke: #383838; stroke-width: 1.5;\" width=\"79\" x=\"31.5\" y=\"77\"/><text fill=\"#000000\" font-family=\"sans-serif\" font-size=\"12\" font-style=\"italic\" lengthAdjust=\"spacingAndGlyphs\" textLength=\"77\" x=\"32.5\" y=\"93.1387\">«action def»</text><text fill=\"#000000\" font-family=\"sans-serif\" font-size=\"12\" lengthAdjust=\"spacingAndGlyphs\" textLength=\"8\" x=\"67\" y=\"107.1074\">B</text><line style=\"stroke: #383838; stroke-width: 1.5;\" x1=\"32.5\" x2=\"109.5\" y1=\"114.9375\" y2=\"114.9375\"/></a><!--MD5=[842780a1d10858056a9f09a162c966d6]\n",
       "@startuml\r\n",
       " skinparam monochrome true\r\n",
       "skinparam classbackgroundcolor white\r\n",
       "skinparam shadowing false\r\n",
       "skinparam wrapWidth 300\r\n",
       "hide circle\r\n",
       "\r\n",
       "package \"ActionTest\" as E1  [[psysml:1b586630-6073-41f8-a31c-3b1021fd2d94 ]]  {\r\n",
       "comp def \"S\" as E2  <<(T,blue)attribute def>> [[psysml:ec6ecfb2-58e1-4e93-a57f-7fba141d91de ]] {\r\n",
       "}\r\n",
       "comp usage \"a\" as E3  <<(T,blue)action>> [[psysml:63b3e978-ff90-4127-8639-9e6714fb0371 ]] {\r\n",
       "- - actions - -\r\n",
       "start: Action\\n//:>>Occurrence::startShot// \r\n",
       "- - mergeNodes - -\r\n",
       "m\r\n",
       "}\r\n",
       "comp def \"B\" as E6  <<(T,blue)action def>> [[psysml:a720c396-7a8e-4250-b133-b38e5d5b0a71 ]] {\r\n",
       "}\r\n",
       "}\r\n",
       "@enduml\r\n",
       "\n",
       "PlantUML version 1.2020.13(Sat Jun 13 12:26:38 UTC 2020)\n",
       "(EPL source distribution)\n",
       "Java Runtime: OpenJDK Runtime Environment\n",
       "JVM: OpenJDK 64-Bit Server VM\n",
       "Default Encoding: UTF-8\n",
       "Language: en\n",
       "Country: null\n",
       "--></g></svg>"
      ]
     },
     "execution_count": 7,
     "metadata": {},
     "output_type": "execute_result"
    }
   ],
   "source": [
    "%viz --style=\"COMPTREE\" --view=\"Sequence\" \"ActionTest\""
   ]
  },
  {
   "cell_type": "code",
   "execution_count": 8,
   "id": "original-sleeping",
   "metadata": {
    "execution": {
     "iopub.execute_input": "2021-03-25T14:11:37.390246Z",
     "iopub.status.busy": "2021-03-25T14:11:37.389448Z",
     "iopub.status.idle": "2021-03-25T14:11:37.571408Z",
     "shell.execute_reply": "2021-03-25T14:11:37.571828Z"
    }
   },
   "outputs": [
    {
     "data": {
      "image/svg+xml": [
       "<?xml version=\"1.0\" encoding=\"UTF-8\" standalone=\"no\"?><svg xmlns=\"http://www.w3.org/2000/svg\" xmlns:xlink=\"http://www.w3.org/1999/xlink\" contentScriptType=\"application/ecmascript\" contentStyleType=\"text/css\" height=\"684px\" preserveAspectRatio=\"none\" style=\"width:518px;height:684px;\" version=\"1.1\" viewBox=\"0 0 518 684\" width=\"518px\" zoomAndPan=\"magnify\"><defs/><g><!--MD5=[fbc87193dbaf4d95561dea2c320d4a47]\n",
       "cluster E1--><a href=\"psysml:1b586630-6073-41f8-a31c-3b1021fd2d94\" target=\"_top\" title=\"psysml:1b586630-6073-41f8-a31c-3b1021fd2d94\" xlink:actuate=\"onRequest\" xlink:href=\"psysml:1b586630-6073-41f8-a31c-3b1021fd2d94\" xlink:show=\"new\" xlink:title=\"psysml:1b586630-6073-41f8-a31c-3b1021fd2d94\" xlink:type=\"simple\"><polygon fill=\"#FFFFFF\" points=\"16,6,107,6,114,28.2969,496,28.2969,496,672,16,672,16,6\" style=\"stroke: #000000; stroke-width: 1.5;\"/><line style=\"stroke: #000000; stroke-width: 1.5;\" x1=\"16\" x2=\"114\" y1=\"28.2969\" y2=\"28.2969\"/><text fill=\"#000000\" font-family=\"sans-serif\" font-size=\"14\" font-weight=\"bold\" lengthAdjust=\"spacingAndGlyphs\" textLength=\"85\" x=\"20\" y=\"20.9951\">ActionTest</text></a><!--MD5=[d5e69f78d87373223dbae638b30a9c99]\n",
       "cluster E3--><a href=\"psysml:63b3e978-ff90-4127-8639-9e6714fb0371\" target=\"_top\" title=\"psysml:63b3e978-ff90-4127-8639-9e6714fb0371\" xlink:actuate=\"onRequest\" xlink:href=\"psysml:63b3e978-ff90-4127-8639-9e6714fb0371\" xlink:show=\"new\" xlink:title=\"psysml:63b3e978-ff90-4127-8639-9e6714fb0371\" xlink:type=\"simple\"><rect fill=\"#FFFFFF\" height=\"599\" id=\"E3\" rx=\"10\" ry=\"10\" style=\"stroke: #383838; stroke-width: 1.5;\" width=\"209\" x=\"263\" y=\"49\"/><rect fill=\"#F8F8F8\" height=\"37.9375\" rx=\"10\" ry=\"10\" style=\"stroke: #F8F8F8; stroke-width: 1.5;\" width=\"209\" x=\"263\" y=\"49\"/><rect fill=\"#F8F8F8\" height=\"10\" style=\"stroke: #F8F8F8; stroke-width: 1.5;\" width=\"209\" x=\"263\" y=\"76.9375\"/><rect fill=\"none\" height=\"599\" id=\"E3\" rx=\"10\" ry=\"10\" style=\"stroke: #383838; stroke-width: 1.5;\" width=\"209\" x=\"263\" y=\"49\"/><text fill=\"#000000\" font-family=\"sans-serif\" font-size=\"12\" font-style=\"italic\" lengthAdjust=\"spacingAndGlyphs\" textLength=\"53\" x=\"341\" y=\"65.1387\">«action»</text><text fill=\"#000000\" font-family=\"sans-serif\" font-size=\"12\" lengthAdjust=\"spacingAndGlyphs\" textLength=\"8\" x=\"363.5\" y=\"79.1074\">a</text><line style=\"stroke: #383838; stroke-width: 1.0;\" x1=\"263\" x2=\"472\" y1=\"86.9375\" y2=\"86.9375\"/></a><!--MD5=[b4997ac47864f28c2f74865a473b2911]\n",
       "class E2--><a href=\"psysml:ec6ecfb2-58e1-4e93-a57f-7fba141d91de\" target=\"_top\" title=\"psysml:ec6ecfb2-58e1-4e93-a57f-7fba141d91de\" xlink:actuate=\"onRequest\" xlink:href=\"psysml:ec6ecfb2-58e1-4e93-a57f-7fba141d91de\" xlink:show=\"new\" xlink:title=\"psysml:ec6ecfb2-58e1-4e93-a57f-7fba141d91de\" xlink:type=\"simple\"><rect fill=\"#FFFFFF\" height=\"45.9375\" id=\"E2\" style=\"stroke: #383838; stroke-width: 1.5;\" width=\"95\" x=\"151.5\" y=\"87\"/><text fill=\"#000000\" font-family=\"sans-serif\" font-size=\"12\" font-style=\"italic\" lengthAdjust=\"spacingAndGlyphs\" textLength=\"93\" x=\"152.5\" y=\"103.1387\">«attribute def»</text><text fill=\"#000000\" font-family=\"sans-serif\" font-size=\"12\" lengthAdjust=\"spacingAndGlyphs\" textLength=\"8\" x=\"195\" y=\"117.1074\">S</text><line style=\"stroke: #383838; stroke-width: 1.5;\" x1=\"152.5\" x2=\"245.5\" y1=\"124.9375\" y2=\"124.9375\"/></a><polygon fill=\"#F8F8F8\" points=\"420,194,432,206,420,218,408,206,420,194\" style=\"stroke: #383838; stroke-width: 1.5;\"/><!--MD5=[21dd76c19d33815960c0e92fef8f0eef]\n",
       "entity E5--><a href=\"psysml:12477b88-d1e3-4069-a82c-9614e3ee7843\" target=\"_top\" title=\"psysml:12477b88-d1e3-4069-a82c-9614e3ee7843\" xlink:actuate=\"onRequest\" xlink:href=\"psysml:12477b88-d1e3-4069-a82c-9614e3ee7843\" xlink:show=\"new\" xlink:title=\"psysml:12477b88-d1e3-4069-a82c-9614e3ee7843\" xlink:type=\"simple\"><polygon fill=\"#F8F8F8\" points=\"279,279,279,333.5938,419,333.5938,399,306.2969,419,279\" style=\"stroke: #000000; stroke-width: 1.5;\"/><text fill=\"#000000\" font-family=\"sans-serif\" font-size=\"14\" font-style=\"italic\" lengthAdjust=\"spacingAndGlyphs\" textLength=\"111\" x=\"286\" y=\"301.9951\">«accept action»</text><text fill=\"#000000\" font-family=\"sans-serif\" font-size=\"14\" lengthAdjust=\"spacingAndGlyphs\" textLength=\"9\" x=\"337\" y=\"319.292\">S</text></a><!--MD5=[24d87cdf3002d433f401b2a2aa9f9f65]\n",
       "entity E6--><a href=\"psysml:18c53c10-a81a-4a73-8210-8be9c84ee198\" target=\"_top\" title=\"psysml:18c53c10-a81a-4a73-8210-8be9c84ee198\" xlink:actuate=\"onRequest\" xlink:href=\"psysml:18c53c10-a81a-4a73-8210-8be9c84ee198\" xlink:show=\"new\" xlink:title=\"psysml:18c53c10-a81a-4a73-8210-8be9c84ee198\" xlink:type=\"simple\"><polygon fill=\"#F8F8F8\" points=\"279,411,279,465.5938,387,465.5938,407,438.2969,387,411\" style=\"stroke: #000000; stroke-width: 1.5;\"/><text fill=\"#000000\" font-family=\"sans-serif\" font-size=\"14\" font-style=\"italic\" lengthAdjust=\"spacingAndGlyphs\" textLength=\"99\" x=\"286\" y=\"433.9951\">«send action»</text><text fill=\"#000000\" font-family=\"sans-serif\" font-size=\"14\" lengthAdjust=\"spacingAndGlyphs\" textLength=\"55\" x=\"308\" y=\"451.292\">S to  B()</text></a><polygon fill=\"#F8F8F8\" points=\"418,527,430,539,418,551,406,539,418,527\" style=\"stroke: #383838; stroke-width: 1.5;\"/><ellipse cx=\"420\" cy=\"110\" fill=\"#000000\" rx=\"10\" ry=\"10\" style=\"stroke: none; stroke-width: 1.0;\"/><ellipse cx=\"418\" cy=\"622\" fill=\"none\" rx=\"10\" ry=\"10\" style=\"stroke: #000000; stroke-width: 1.0;\"/><ellipse cx=\"418.5\" cy=\"622.5\" fill=\"#000000\" rx=\"6\" ry=\"6\" style=\"stroke: none; stroke-width: 1.0;\"/><g id=\"E1.E8\"><a href=\"psysml:a720c396-7a8e-4250-b133-b38e5d5b0a71\" target=\"_top\" title=\"psysml:a720c396-7a8e-4250-b133-b38e5d5b0a71\" xlink:actuate=\"onRequest\" xlink:href=\"psysml:a720c396-7a8e-4250-b133-b38e5d5b0a71\" xlink:show=\"new\" xlink:title=\"psysml:a720c396-7a8e-4250-b133-b38e5d5b0a71\" xlink:type=\"simple\"><rect fill=\"#FFFFFF\" height=\"42.9375\" id=\"E8\" style=\"stroke: #383838; stroke-width: 1.5;\" width=\"84\" x=\"32\" y=\"88.5\"/><rect fill=\"#F8F8F8\" height=\"37.9375\" style=\"stroke: #383838; stroke-width: 1.5;\" width=\"84\" x=\"32\" y=\"88.5\"/><text fill=\"#000000\" font-family=\"sans-serif\" font-size=\"12\" font-style=\"italic\" lengthAdjust=\"spacingAndGlyphs\" textLength=\"77\" x=\"35.5\" y=\"104.6387\">«action def»</text><text fill=\"#000000\" font-family=\"sans-serif\" font-size=\"12\" lengthAdjust=\"spacingAndGlyphs\" textLength=\"8\" x=\"70\" y=\"118.6074\">B</text></a></g><!--MD5=[f47e10efcf9a6752d55dae986d790ed9]\n",
       "link *start*E3 to E4--><a href=\"psysml:3eb4ae89-c3fe-4a5c-9996-6c16dc90e291\" target=\"_top\" title=\"psysml:3eb4ae89-c3fe-4a5c-9996-6c16dc90e291\" xlink:actuate=\"onRequest\" xlink:href=\"psysml:3eb4ae89-c3fe-4a5c-9996-6c16dc90e291\" xlink:show=\"new\" xlink:title=\"psysml:3eb4ae89-c3fe-4a5c-9996-6c16dc90e291\" xlink:type=\"simple\"><path d=\"M420,120.01 C420,135.81 420,168.69 420,188.61 \" fill=\"none\" id=\"*start*E3-&gt;E4\" style=\"stroke: #383838; stroke-width: 1.0;\"/><polygon fill=\"#383838\" points=\"420,193.85,424,184.85,420,188.85,416,184.85,420,193.85\" style=\"stroke: #383838; stroke-width: 1.0;\"/></a><!--MD5=[d19f2eb34364d71b67042106d92f540b]\n",
       "link E7 to *end*E3--><a href=\"psysml:529019b4-f7b3-445e-a809-123fd999bfb3\" target=\"_top\" title=\"psysml:529019b4-f7b3-445e-a809-123fd999bfb3\" xlink:actuate=\"onRequest\" xlink:href=\"psysml:529019b4-f7b3-445e-a809-123fd999bfb3\" xlink:show=\"new\" xlink:title=\"psysml:529019b4-f7b3-445e-a809-123fd999bfb3\" xlink:type=\"simple\"><path d=\"M418,551.26 C418,565.66 418,590.63 418,606.46 \" fill=\"none\" id=\"E7-&gt;*end*E3\" style=\"stroke: #383838; stroke-width: 1.0;\"/><polygon fill=\"#383838\" points=\"418,611.84,422,602.84,418,606.84,414,602.84,418,611.84\" style=\"stroke: #383838; stroke-width: 1.0;\"/></a><!--MD5=[1b7591eae5389033d8d09a9d6721a717]\n",
       "link E4 to E5--><a href=\"psysml:252a1c6c-cc00-403d-ac29-1241d1eee0ca\" target=\"_top\" title=\"psysml:252a1c6c-cc00-403d-ac29-1241d1eee0ca\" xlink:actuate=\"onRequest\" xlink:href=\"psysml:252a1c6c-cc00-403d-ac29-1241d1eee0ca\" xlink:show=\"new\" xlink:title=\"psysml:252a1c6c-cc00-403d-ac29-1241d1eee0ca\" xlink:type=\"simple\"><path d=\"M415.34,213.46 C406.55,225.66 386.99,252.8 371.37,274.46 \" fill=\"none\" id=\"E4-&gt;E5\" style=\"stroke: #383838; stroke-width: 1.0;\"/><polygon fill=\"#383838\" points=\"368.31,278.71,376.8093,273.7339,371.227,274.6491,370.3119,269.0667,368.31,278.71\" style=\"stroke: #383838; stroke-width: 1.0;\"/></a><!--MD5=[9120cf2e5df3bff93db8f754bbbc09b4]\n",
       "link E5 to E6--><a href=\"psysml:52dd995d-9028-4157-9334-98b87c98e4ca\" target=\"_top\" title=\"psysml:52dd995d-9028-4157-9334-98b87c98e4ca\" xlink:actuate=\"onRequest\" xlink:href=\"psysml:52dd995d-9028-4157-9334-98b87c98e4ca\" xlink:show=\"new\" xlink:title=\"psysml:52dd995d-9028-4157-9334-98b87c98e4ca\" xlink:type=\"simple\"><path d=\"M347.77,334.12 C346.81,354.89 345.48,383.8 344.46,405.77 \" fill=\"none\" id=\"E5-&gt;E6\" style=\"stroke: #383838; stroke-width: 1.0;\"/><polygon fill=\"#383838\" points=\"344.23,410.91,348.6368,402.1021,344.4583,405.9152,340.6452,401.7367,344.23,410.91\" style=\"stroke: #383838; stroke-width: 1.0;\"/></a><!--MD5=[02c70b7c851c11e3980e4e90450dc5dd]\n",
       "link E6 to E7--><a href=\"psysml:11c1c086-8dd9-4b00-9ab5-dcf0da9e4b0f\" target=\"_top\" title=\"psysml:11c1c086-8dd9-4b00-9ab5-dcf0da9e4b0f\" xlink:actuate=\"onRequest\" xlink:href=\"psysml:11c1c086-8dd9-4b00-9ab5-dcf0da9e4b0f\" xlink:show=\"new\" xlink:title=\"psysml:11c1c086-8dd9-4b00-9ab5-dcf0da9e4b0f\" xlink:type=\"simple\"><path d=\"M363.3,466.16 C378.71,486.4 399.07,513.14 410.09,527.61 \" fill=\"none\" id=\"E6-&gt;E7\" style=\"stroke: #383838; stroke-width: 1.0;\"/><polygon fill=\"#383838\" points=\"413.2,531.69,410.9398,522.104,410.1749,527.7089,404.57,526.9441,413.2,531.69\" style=\"stroke: #383838; stroke-width: 1.0;\"/></a><!--MD5=[6bdd27f9905911a7e892a3dc65cf6b7c]\n",
       "link E7 to E4--><a href=\"psysml:9dbcc968-b81d-4000-b2fb-dcd38ad7dec8\" target=\"_top\" title=\"psysml:9dbcc968-b81d-4000-b2fb-dcd38ad7dec8\" xlink:actuate=\"onRequest\" xlink:href=\"psysml:9dbcc968-b81d-4000-b2fb-dcd38ad7dec8\" xlink:show=\"new\" xlink:title=\"psysml:9dbcc968-b81d-4000-b2fb-dcd38ad7dec8\" xlink:type=\"simple\"><path d=\"M419.98,528.56 C426.8,494.71 448.32,376.18 437,279 C434.59,258.32 428.42,234.96 424.21,220.61 \" fill=\"none\" id=\"E7-&gt;E4\" style=\"stroke: #383838; stroke-width: 1.0;\"/><polygon fill=\"#383838\" points=\"422.76,215.75,421.4935,225.5171,424.1863,220.5423,429.1611,223.2351,422.76,215.75\" style=\"stroke: #383838; stroke-width: 1.0;\"/><text fill=\"#000000\" font-family=\"sans-serif\" font-size=\"13\" lengthAdjust=\"spacingAndGlyphs\" textLength=\"36\" x=\"440\" y=\"377.0669\">[true]</text></a><!--MD5=[77ec5010acfed2edb95b2b62b788b021]\n",
       "@startuml\r\n",
       " skinparam monochrome true\r\n",
       "skinparam classbackgroundcolor white\r\n",
       "skinparam shadowing false\r\n",
       "skinparam wrapWidth 300\r\n",
       "hide circle\r\n",
       "\r\n",
       "package \"ActionTest\" as E1  [[psysml:1b586630-6073-41f8-a31c-3b1021fd2d94 ]]  {\r\n",
       "comp def \"S\" as E2  <<(T,blue)attribute def>> [[psysml:ec6ecfb2-58e1-4e93-a57f-7fba141d91de ]] {\r\n",
       "}\r\n",
       "rec usage \"a\" as E3  <<(T,blue)action>> [[psysml:63b3e978-ff90-4127-8639-9e6714fb0371 ]] {\r\n",
       "choice \"m\" as E4  [[psysml:3c09e5e0-87ee-487d-a94c-d1481b887cf0 ]] \r\n",
       "accept \" S\" as E5 <<accept action>> [[psysml:12477b88-d1e3-4069-a82c-9614e3ee7843 ]] \r\n",
       "send \" S to  B()\" as E6 <<send action>> [[psysml:18c53c10-a81a-4a73-8210-8be9c84ee198 ]] \r\n",
       "choice \"noname\" as E7  [[psysml:e28bc343-f228-4c60-afee-7deafa85ddc3 ]] \r\n",
       "[*] - -> E4 [[psysml:3eb4ae89-c3fe-4a5c-9996-6c16dc90e291 ]] \r\n",
       "E7  - -> [*] [[psysml:529019b4-f7b3-445e-a809-123fd999bfb3 ]] \r\n",
       "}\r\n",
       "\r\n",
       "rec def \"B\" as E8  <<(T,blue)action def>> [[psysml:a720c396-7a8e-4250-b133-b38e5d5b0a71 ]] {\r\n",
       "}\r\n",
       "\r\n",
       "E4 - -> E5 [[psysml:252a1c6c-cc00-403d-ac29-1241d1eee0ca ]] \r\n",
       "E5 - -> E6 [[psysml:52dd995d-9028-4157-9334-98b87c98e4ca ]] \r\n",
       "E6 - -> E7 [[psysml:11c1c086-8dd9-4b00-9ab5-dcf0da9e4b0f ]] \r\n",
       "E7  - -> E4 [[psysml:9dbcc968-b81d-4000-b2fb-dcd38ad7dec8 ]] : [true]\r\n",
       "}\r\n",
       "@enduml\r\n",
       "\n",
       "PlantUML version 1.2020.13(Sat Jun 13 12:26:38 UTC 2020)\n",
       "(EPL source distribution)\n",
       "Java Runtime: OpenJDK Runtime Environment\n",
       "JVM: OpenJDK 64-Bit Server VM\n",
       "Default Encoding: UTF-8\n",
       "Language: en\n",
       "Country: null\n",
       "--></g></svg>"
      ]
     },
     "execution_count": 8,
     "metadata": {},
     "output_type": "execute_result"
    }
   ],
   "source": [
    "%viz --style=\"COMPTREE\" --view=\"MIXED\" \"ActionTest\""
   ]
  },
  {
   "cell_type": "code",
   "execution_count": 9,
   "id": "clear-understanding",
   "metadata": {
    "execution": {
     "iopub.execute_input": "2021-03-25T14:11:37.624130Z",
     "iopub.status.busy": "2021-03-25T14:11:37.623494Z",
     "iopub.status.idle": "2021-03-25T14:11:37.799244Z",
     "shell.execute_reply": "2021-03-25T14:11:37.799644Z"
    }
   },
   "outputs": [
    {
     "data": {
      "image/svg+xml": [
       "<?xml version=\"1.0\" encoding=\"UTF-8\" standalone=\"no\"?><svg xmlns=\"http://www.w3.org/2000/svg\" xmlns:xlink=\"http://www.w3.org/1999/xlink\" contentScriptType=\"application/ecmascript\" contentStyleType=\"text/css\" height=\"684px\" preserveAspectRatio=\"none\" style=\"width:518px;height:684px;\" version=\"1.1\" viewBox=\"0 0 518 684\" width=\"518px\" zoomAndPan=\"magnify\"><defs/><g><!--MD5=[fbc87193dbaf4d95561dea2c320d4a47]\n",
       "cluster E1--><a href=\"psysml:1b586630-6073-41f8-a31c-3b1021fd2d94\" target=\"_top\" title=\"psysml:1b586630-6073-41f8-a31c-3b1021fd2d94\" xlink:actuate=\"onRequest\" xlink:href=\"psysml:1b586630-6073-41f8-a31c-3b1021fd2d94\" xlink:show=\"new\" xlink:title=\"psysml:1b586630-6073-41f8-a31c-3b1021fd2d94\" xlink:type=\"simple\"><polygon fill=\"#FFFFFF\" points=\"16,6,107,6,114,28.2969,496,28.2969,496,672,16,672,16,6\" style=\"stroke: #000000; stroke-width: 1.5;\"/><line style=\"stroke: #000000; stroke-width: 1.5;\" x1=\"16\" x2=\"114\" y1=\"28.2969\" y2=\"28.2969\"/><text fill=\"#000000\" font-family=\"sans-serif\" font-size=\"14\" font-weight=\"bold\" lengthAdjust=\"spacingAndGlyphs\" textLength=\"85\" x=\"20\" y=\"20.9951\">ActionTest</text></a><!--MD5=[d5e69f78d87373223dbae638b30a9c99]\n",
       "cluster E3--><a href=\"psysml:63b3e978-ff90-4127-8639-9e6714fb0371\" target=\"_top\" title=\"psysml:63b3e978-ff90-4127-8639-9e6714fb0371\" xlink:actuate=\"onRequest\" xlink:href=\"psysml:63b3e978-ff90-4127-8639-9e6714fb0371\" xlink:show=\"new\" xlink:title=\"psysml:63b3e978-ff90-4127-8639-9e6714fb0371\" xlink:type=\"simple\"><rect fill=\"#FFFFFF\" height=\"599\" id=\"E3\" rx=\"10\" ry=\"10\" style=\"stroke: #383838; stroke-width: 1.5;\" width=\"209\" x=\"263\" y=\"49\"/><rect fill=\"#F8F8F8\" height=\"37.9375\" rx=\"10\" ry=\"10\" style=\"stroke: #F8F8F8; stroke-width: 1.5;\" width=\"209\" x=\"263\" y=\"49\"/><rect fill=\"#F8F8F8\" height=\"10\" style=\"stroke: #F8F8F8; stroke-width: 1.5;\" width=\"209\" x=\"263\" y=\"76.9375\"/><rect fill=\"none\" height=\"599\" id=\"E3\" rx=\"10\" ry=\"10\" style=\"stroke: #383838; stroke-width: 1.5;\" width=\"209\" x=\"263\" y=\"49\"/><text fill=\"#000000\" font-family=\"sans-serif\" font-size=\"12\" font-style=\"italic\" lengthAdjust=\"spacingAndGlyphs\" textLength=\"53\" x=\"341\" y=\"65.1387\">«action»</text><text fill=\"#000000\" font-family=\"sans-serif\" font-size=\"12\" lengthAdjust=\"spacingAndGlyphs\" textLength=\"8\" x=\"363.5\" y=\"79.1074\">a</text><line style=\"stroke: #383838; stroke-width: 1.0;\" x1=\"263\" x2=\"472\" y1=\"86.9375\" y2=\"86.9375\"/></a><!--MD5=[b4997ac47864f28c2f74865a473b2911]\n",
       "class E2--><a href=\"psysml:ec6ecfb2-58e1-4e93-a57f-7fba141d91de\" target=\"_top\" title=\"psysml:ec6ecfb2-58e1-4e93-a57f-7fba141d91de\" xlink:actuate=\"onRequest\" xlink:href=\"psysml:ec6ecfb2-58e1-4e93-a57f-7fba141d91de\" xlink:show=\"new\" xlink:title=\"psysml:ec6ecfb2-58e1-4e93-a57f-7fba141d91de\" xlink:type=\"simple\"><rect fill=\"#FFFFFF\" height=\"45.9375\" id=\"E2\" style=\"stroke: #383838; stroke-width: 1.5;\" width=\"95\" x=\"151.5\" y=\"87\"/><text fill=\"#000000\" font-family=\"sans-serif\" font-size=\"12\" font-style=\"italic\" lengthAdjust=\"spacingAndGlyphs\" textLength=\"93\" x=\"152.5\" y=\"103.1387\">«attribute def»</text><text fill=\"#000000\" font-family=\"sans-serif\" font-size=\"12\" lengthAdjust=\"spacingAndGlyphs\" textLength=\"8\" x=\"195\" y=\"117.1074\">S</text><line style=\"stroke: #383838; stroke-width: 1.5;\" x1=\"152.5\" x2=\"245.5\" y1=\"124.9375\" y2=\"124.9375\"/></a><polygon fill=\"#F8F8F8\" points=\"420,194,432,206,420,218,408,206,420,194\" style=\"stroke: #383838; stroke-width: 1.5;\"/><!--MD5=[21dd76c19d33815960c0e92fef8f0eef]\n",
       "entity E5--><a href=\"psysml:12477b88-d1e3-4069-a82c-9614e3ee7843\" target=\"_top\" title=\"psysml:12477b88-d1e3-4069-a82c-9614e3ee7843\" xlink:actuate=\"onRequest\" xlink:href=\"psysml:12477b88-d1e3-4069-a82c-9614e3ee7843\" xlink:show=\"new\" xlink:title=\"psysml:12477b88-d1e3-4069-a82c-9614e3ee7843\" xlink:type=\"simple\"><polygon fill=\"#F8F8F8\" points=\"279,279,279,333.5938,419,333.5938,399,306.2969,419,279\" style=\"stroke: #000000; stroke-width: 1.5;\"/><text fill=\"#000000\" font-family=\"sans-serif\" font-size=\"14\" font-style=\"italic\" lengthAdjust=\"spacingAndGlyphs\" textLength=\"111\" x=\"286\" y=\"301.9951\">«accept action»</text><text fill=\"#000000\" font-family=\"sans-serif\" font-size=\"14\" lengthAdjust=\"spacingAndGlyphs\" textLength=\"9\" x=\"337\" y=\"319.292\">S</text></a><!--MD5=[24d87cdf3002d433f401b2a2aa9f9f65]\n",
       "entity E6--><a href=\"psysml:18c53c10-a81a-4a73-8210-8be9c84ee198\" target=\"_top\" title=\"psysml:18c53c10-a81a-4a73-8210-8be9c84ee198\" xlink:actuate=\"onRequest\" xlink:href=\"psysml:18c53c10-a81a-4a73-8210-8be9c84ee198\" xlink:show=\"new\" xlink:title=\"psysml:18c53c10-a81a-4a73-8210-8be9c84ee198\" xlink:type=\"simple\"><polygon fill=\"#F8F8F8\" points=\"279,411,279,465.5938,387,465.5938,407,438.2969,387,411\" style=\"stroke: #000000; stroke-width: 1.5;\"/><text fill=\"#000000\" font-family=\"sans-serif\" font-size=\"14\" font-style=\"italic\" lengthAdjust=\"spacingAndGlyphs\" textLength=\"99\" x=\"286\" y=\"433.9951\">«send action»</text><text fill=\"#000000\" font-family=\"sans-serif\" font-size=\"14\" lengthAdjust=\"spacingAndGlyphs\" textLength=\"55\" x=\"308\" y=\"451.292\">S to  B()</text></a><polygon fill=\"#F8F8F8\" points=\"418,527,430,539,418,551,406,539,418,527\" style=\"stroke: #383838; stroke-width: 1.5;\"/><ellipse cx=\"420\" cy=\"110\" fill=\"#000000\" rx=\"10\" ry=\"10\" style=\"stroke: none; stroke-width: 1.0;\"/><ellipse cx=\"418\" cy=\"622\" fill=\"none\" rx=\"10\" ry=\"10\" style=\"stroke: #000000; stroke-width: 1.0;\"/><ellipse cx=\"418.5\" cy=\"622.5\" fill=\"#000000\" rx=\"6\" ry=\"6\" style=\"stroke: none; stroke-width: 1.0;\"/><g id=\"E1.E8\"><a href=\"psysml:a720c396-7a8e-4250-b133-b38e5d5b0a71\" target=\"_top\" title=\"psysml:a720c396-7a8e-4250-b133-b38e5d5b0a71\" xlink:actuate=\"onRequest\" xlink:href=\"psysml:a720c396-7a8e-4250-b133-b38e5d5b0a71\" xlink:show=\"new\" xlink:title=\"psysml:a720c396-7a8e-4250-b133-b38e5d5b0a71\" xlink:type=\"simple\"><rect fill=\"#FFFFFF\" height=\"42.9375\" id=\"E8\" style=\"stroke: #383838; stroke-width: 1.5;\" width=\"84\" x=\"32\" y=\"88.5\"/><rect fill=\"#F8F8F8\" height=\"37.9375\" style=\"stroke: #383838; stroke-width: 1.5;\" width=\"84\" x=\"32\" y=\"88.5\"/><text fill=\"#000000\" font-family=\"sans-serif\" font-size=\"12\" font-style=\"italic\" lengthAdjust=\"spacingAndGlyphs\" textLength=\"77\" x=\"35.5\" y=\"104.6387\">«action def»</text><text fill=\"#000000\" font-family=\"sans-serif\" font-size=\"12\" lengthAdjust=\"spacingAndGlyphs\" textLength=\"8\" x=\"70\" y=\"118.6074\">B</text></a></g><!--MD5=[f47e10efcf9a6752d55dae986d790ed9]\n",
       "link *start*E3 to E4--><a href=\"psysml:3eb4ae89-c3fe-4a5c-9996-6c16dc90e291\" target=\"_top\" title=\"psysml:3eb4ae89-c3fe-4a5c-9996-6c16dc90e291\" xlink:actuate=\"onRequest\" xlink:href=\"psysml:3eb4ae89-c3fe-4a5c-9996-6c16dc90e291\" xlink:show=\"new\" xlink:title=\"psysml:3eb4ae89-c3fe-4a5c-9996-6c16dc90e291\" xlink:type=\"simple\"><path d=\"M420,120.01 C420,135.81 420,168.69 420,188.61 \" fill=\"none\" id=\"*start*E3-&gt;E4\" style=\"stroke: #383838; stroke-width: 1.0;\"/><polygon fill=\"#383838\" points=\"420,193.85,424,184.85,420,188.85,416,184.85,420,193.85\" style=\"stroke: #383838; stroke-width: 1.0;\"/></a><!--MD5=[d19f2eb34364d71b67042106d92f540b]\n",
       "link E7 to *end*E3--><a href=\"psysml:529019b4-f7b3-445e-a809-123fd999bfb3\" target=\"_top\" title=\"psysml:529019b4-f7b3-445e-a809-123fd999bfb3\" xlink:actuate=\"onRequest\" xlink:href=\"psysml:529019b4-f7b3-445e-a809-123fd999bfb3\" xlink:show=\"new\" xlink:title=\"psysml:529019b4-f7b3-445e-a809-123fd999bfb3\" xlink:type=\"simple\"><path d=\"M418,551.26 C418,565.66 418,590.63 418,606.46 \" fill=\"none\" id=\"E7-&gt;*end*E3\" style=\"stroke: #383838; stroke-width: 1.0;\"/><polygon fill=\"#383838\" points=\"418,611.84,422,602.84,418,606.84,414,602.84,418,611.84\" style=\"stroke: #383838; stroke-width: 1.0;\"/></a><!--MD5=[1b7591eae5389033d8d09a9d6721a717]\n",
       "link E4 to E5--><a href=\"psysml:252a1c6c-cc00-403d-ac29-1241d1eee0ca\" target=\"_top\" title=\"psysml:252a1c6c-cc00-403d-ac29-1241d1eee0ca\" xlink:actuate=\"onRequest\" xlink:href=\"psysml:252a1c6c-cc00-403d-ac29-1241d1eee0ca\" xlink:show=\"new\" xlink:title=\"psysml:252a1c6c-cc00-403d-ac29-1241d1eee0ca\" xlink:type=\"simple\"><path d=\"M415.34,213.46 C406.55,225.66 386.99,252.8 371.37,274.46 \" fill=\"none\" id=\"E4-&gt;E5\" style=\"stroke: #383838; stroke-width: 1.0;\"/><polygon fill=\"#383838\" points=\"368.31,278.71,376.8093,273.7339,371.227,274.6491,370.3119,269.0667,368.31,278.71\" style=\"stroke: #383838; stroke-width: 1.0;\"/></a><!--MD5=[9120cf2e5df3bff93db8f754bbbc09b4]\n",
       "link E5 to E6--><a href=\"psysml:52dd995d-9028-4157-9334-98b87c98e4ca\" target=\"_top\" title=\"psysml:52dd995d-9028-4157-9334-98b87c98e4ca\" xlink:actuate=\"onRequest\" xlink:href=\"psysml:52dd995d-9028-4157-9334-98b87c98e4ca\" xlink:show=\"new\" xlink:title=\"psysml:52dd995d-9028-4157-9334-98b87c98e4ca\" xlink:type=\"simple\"><path d=\"M347.77,334.12 C346.81,354.89 345.48,383.8 344.46,405.77 \" fill=\"none\" id=\"E5-&gt;E6\" style=\"stroke: #383838; stroke-width: 1.0;\"/><polygon fill=\"#383838\" points=\"344.23,410.91,348.6368,402.1021,344.4583,405.9152,340.6452,401.7367,344.23,410.91\" style=\"stroke: #383838; stroke-width: 1.0;\"/></a><!--MD5=[02c70b7c851c11e3980e4e90450dc5dd]\n",
       "link E6 to E7--><a href=\"psysml:11c1c086-8dd9-4b00-9ab5-dcf0da9e4b0f\" target=\"_top\" title=\"psysml:11c1c086-8dd9-4b00-9ab5-dcf0da9e4b0f\" xlink:actuate=\"onRequest\" xlink:href=\"psysml:11c1c086-8dd9-4b00-9ab5-dcf0da9e4b0f\" xlink:show=\"new\" xlink:title=\"psysml:11c1c086-8dd9-4b00-9ab5-dcf0da9e4b0f\" xlink:type=\"simple\"><path d=\"M363.3,466.16 C378.71,486.4 399.07,513.14 410.09,527.61 \" fill=\"none\" id=\"E6-&gt;E7\" style=\"stroke: #383838; stroke-width: 1.0;\"/><polygon fill=\"#383838\" points=\"413.2,531.69,410.9398,522.104,410.1749,527.7089,404.57,526.9441,413.2,531.69\" style=\"stroke: #383838; stroke-width: 1.0;\"/></a><!--MD5=[6bdd27f9905911a7e892a3dc65cf6b7c]\n",
       "link E7 to E4--><a href=\"psysml:9dbcc968-b81d-4000-b2fb-dcd38ad7dec8\" target=\"_top\" title=\"psysml:9dbcc968-b81d-4000-b2fb-dcd38ad7dec8\" xlink:actuate=\"onRequest\" xlink:href=\"psysml:9dbcc968-b81d-4000-b2fb-dcd38ad7dec8\" xlink:show=\"new\" xlink:title=\"psysml:9dbcc968-b81d-4000-b2fb-dcd38ad7dec8\" xlink:type=\"simple\"><path d=\"M419,527.68 C420.94,507.78 425,466 425,466 C425,466 437,334 437,334 C437,334 437,279 437,279 C437,279 428.27,242.03 423.32,221.07 \" fill=\"none\" id=\"E7-&gt;E4\" style=\"stroke: #383838; stroke-width: 1.0;\"/><polygon fill=\"#383838\" points=\"422.15,216.12,420.3382,225.8008,423.3055,220.9846,428.1217,223.9519,422.15,216.12\" style=\"stroke: #383838; stroke-width: 1.0;\"/><text fill=\"#000000\" font-family=\"sans-serif\" font-size=\"13\" lengthAdjust=\"spacingAndGlyphs\" textLength=\"36\" x=\"435\" y=\"377.0669\">[true]</text></a><!--MD5=[6b5fcb55fa2f33181c763ca4337fcd59]\n",
       "@startuml\r\n",
       "skinparam linetype polyline\r\n",
       "skinparam monochrome true\r\n",
       "skinparam classbackgroundcolor white\r\n",
       "skinparam shadowing false\r\n",
       "skinparam wrapWidth 300\r\n",
       "hide circle\r\n",
       "\r\n",
       "package \"ActionTest\" as E1  [[psysml:1b586630-6073-41f8-a31c-3b1021fd2d94 ]]  {\r\n",
       "comp def \"S\" as E2  <<(T,blue)attribute def>> [[psysml:ec6ecfb2-58e1-4e93-a57f-7fba141d91de ]] {\r\n",
       "}\r\n",
       "rec usage \"a\" as E3  <<(T,blue)action>> [[psysml:63b3e978-ff90-4127-8639-9e6714fb0371 ]] {\r\n",
       "choice \"m\" as E4  [[psysml:3c09e5e0-87ee-487d-a94c-d1481b887cf0 ]] \r\n",
       "accept \" S\" as E5 <<accept action>> [[psysml:12477b88-d1e3-4069-a82c-9614e3ee7843 ]] \r\n",
       "send \" S to  B()\" as E6 <<send action>> [[psysml:18c53c10-a81a-4a73-8210-8be9c84ee198 ]] \r\n",
       "choice \"noname\" as E7  [[psysml:e28bc343-f228-4c60-afee-7deafa85ddc3 ]] \r\n",
       "[*] - -> E4 [[psysml:3eb4ae89-c3fe-4a5c-9996-6c16dc90e291 ]] \r\n",
       "E7  - -> [*] [[psysml:529019b4-f7b3-445e-a809-123fd999bfb3 ]] \r\n",
       "}\r\n",
       "\r\n",
       "rec def \"B\" as E8  <<(T,blue)action def>> [[psysml:a720c396-7a8e-4250-b133-b38e5d5b0a71 ]] {\r\n",
       "}\r\n",
       "\r\n",
       "E4 - -> E5 [[psysml:252a1c6c-cc00-403d-ac29-1241d1eee0ca ]] \r\n",
       "E5 - -> E6 [[psysml:52dd995d-9028-4157-9334-98b87c98e4ca ]] \r\n",
       "E6 - -> E7 [[psysml:11c1c086-8dd9-4b00-9ab5-dcf0da9e4b0f ]] \r\n",
       "E7  - -> E4 [[psysml:9dbcc968-b81d-4000-b2fb-dcd38ad7dec8 ]] : [true]\r\n",
       "}\r\n",
       "@enduml\r\n",
       "\n",
       "PlantUML version 1.2020.13(Sat Jun 13 12:26:38 UTC 2020)\n",
       "(EPL source distribution)\n",
       "Java Runtime: OpenJDK Runtime Environment\n",
       "JVM: OpenJDK 64-Bit Server VM\n",
       "Default Encoding: UTF-8\n",
       "Language: en\n",
       "Country: null\n",
       "--></g></svg>"
      ]
     },
     "execution_count": 9,
     "metadata": {},
     "output_type": "execute_result"
    }
   ],
   "source": [
    "%viz --style=\"POLYLINE\" --view=\"Default\" \"ActionTest\""
   ]
  },
  {
   "cell_type": "code",
   "execution_count": 10,
   "id": "failing-generator",
   "metadata": {
    "execution": {
     "iopub.execute_input": "2021-03-25T14:11:37.852667Z",
     "iopub.status.busy": "2021-03-25T14:11:37.851817Z",
     "iopub.status.idle": "2021-03-25T14:11:38.558179Z",
     "shell.execute_reply": "2021-03-25T14:11:38.557634Z"
    }
   },
   "outputs": [
    {
     "data": {
      "image/svg+xml": [
       "<?xml version=\"1.0\" encoding=\"UTF-8\" standalone=\"no\"?><svg xmlns=\"http://www.w3.org/2000/svg\" xmlns:xlink=\"http://www.w3.org/1999/xlink\" contentScriptType=\"application/ecmascript\" contentStyleType=\"text/css\" height=\"187px\" preserveAspectRatio=\"none\" style=\"width:475px;height:187px;\" version=\"1.1\" viewBox=\"0 0 475 187\" width=\"475px\" zoomAndPan=\"magnify\"><defs/><g><!--MD5=[fbc87193dbaf4d95561dea2c320d4a47]\n",
       "cluster E1--><a href=\"psysml:1b586630-6073-41f8-a31c-3b1021fd2d94\" target=\"_top\" title=\"psysml:1b586630-6073-41f8-a31c-3b1021fd2d94\" xlink:actuate=\"onRequest\" xlink:href=\"psysml:1b586630-6073-41f8-a31c-3b1021fd2d94\" xlink:show=\"new\" xlink:title=\"psysml:1b586630-6073-41f8-a31c-3b1021fd2d94\" xlink:type=\"simple\"><polygon fill=\"#FFFFFF\" points=\"16,6,107,6,114,28.2969,453,28.2969,453,175,16,175,16,6\" style=\"stroke: #000000; stroke-width: 1.5;\"/><line style=\"stroke: #000000; stroke-width: 1.5;\" x1=\"16\" x2=\"114\" y1=\"28.2969\" y2=\"28.2969\"/><text fill=\"#000000\" font-family=\"sans-serif\" font-size=\"14\" font-weight=\"bold\" lengthAdjust=\"spacingAndGlyphs\" textLength=\"85\" x=\"20\" y=\"20.9951\">ActionTest</text></a><!--MD5=[b4997ac47864f28c2f74865a473b2911]\n",
       "class E2--><a href=\"psysml:ec6ecfb2-58e1-4e93-a57f-7fba141d91de\" target=\"_top\" title=\"psysml:ec6ecfb2-58e1-4e93-a57f-7fba141d91de\" xlink:actuate=\"onRequest\" xlink:href=\"psysml:ec6ecfb2-58e1-4e93-a57f-7fba141d91de\" xlink:show=\"new\" xlink:title=\"psysml:ec6ecfb2-58e1-4e93-a57f-7fba141d91de\" xlink:type=\"simple\"><rect fill=\"#FFFFFF\" height=\"45.9375\" id=\"E2\" style=\"stroke: #383838; stroke-width: 1.5;\" width=\"95\" x=\"341.5\" y=\"77\"/><text fill=\"#000000\" font-family=\"sans-serif\" font-size=\"12\" font-style=\"italic\" lengthAdjust=\"spacingAndGlyphs\" textLength=\"93\" x=\"342.5\" y=\"93.1387\">«attribute def»</text><text fill=\"#000000\" font-family=\"sans-serif\" font-size=\"12\" lengthAdjust=\"spacingAndGlyphs\" textLength=\"8\" x=\"385\" y=\"107.1074\">S</text><line style=\"stroke: #383838; stroke-width: 1.5;\" x1=\"342.5\" x2=\"435.5\" y1=\"114.9375\" y2=\"114.9375\"/></a><!--MD5=[09b614a08d8cba4a07c9adeb5e0fee81]\n",
       "class E3--><a href=\"psysml:63b3e978-ff90-4127-8639-9e6714fb0371\" target=\"_top\" title=\"psysml:63b3e978-ff90-4127-8639-9e6714fb0371\" xlink:actuate=\"onRequest\" xlink:href=\"psysml:63b3e978-ff90-4127-8639-9e6714fb0371\" xlink:show=\"new\" xlink:title=\"psysml:63b3e978-ff90-4127-8639-9e6714fb0371\" xlink:type=\"simple\"><rect fill=\"#FFFFFF\" height=\"117.9609\" id=\"E3\" rx=\"10\" ry=\"10\" style=\"stroke: #383838; stroke-width: 1.5;\" width=\"160\" x=\"146\" y=\"41\"/><text fill=\"#000000\" font-family=\"sans-serif\" font-size=\"12\" font-style=\"italic\" lengthAdjust=\"spacingAndGlyphs\" textLength=\"53\" x=\"199.5\" y=\"57.1387\">«action»</text><text fill=\"#000000\" font-family=\"sans-serif\" font-size=\"12\" lengthAdjust=\"spacingAndGlyphs\" textLength=\"8\" x=\"222\" y=\"71.1074\">a</text><line style=\"stroke: #383838; stroke-width: 1.5;\" x1=\"147\" x2=\"305\" y1=\"78.9375\" y2=\"78.9375\"/><text fill=\"#000000\" font-family=\"sans-serif\" font-size=\"11\" lengthAdjust=\"spacingAndGlyphs\" textLength=\"69\" x=\"152\" y=\"109.9526\">start: Action</text><text fill=\"#000000\" font-family=\"sans-serif\" font-size=\"11\" font-style=\"italic\" lengthAdjust=\"spacingAndGlyphs\" textLength=\"148\" x=\"152\" y=\"122.7573\">:&gt;&gt;Occurrence::startShot</text><line style=\"stroke: #383838; stroke-width: 1.0;\" x1=\"147\" x2=\"205.5\" y1=\"93.3398\" y2=\"93.3398\"/><text fill=\"#000000\" font-family=\"sans-serif\" font-size=\"11\" lengthAdjust=\"spacingAndGlyphs\" textLength=\"41\" x=\"205.5\" y=\"96.6479\">actions</text><line style=\"stroke: #383838; stroke-width: 1.0;\" x1=\"246.5\" x2=\"305\" y1=\"93.3398\" y2=\"93.3398\"/><text fill=\"#000000\" font-family=\"sans-serif\" font-size=\"11\" lengthAdjust=\"spacingAndGlyphs\" textLength=\"11\" x=\"152\" y=\"152.3667\">m</text><line style=\"stroke: #383838; stroke-width: 1.0;\" x1=\"147\" x2=\"189.5\" y1=\"135.7539\" y2=\"135.7539\"/><text fill=\"#000000\" font-family=\"sans-serif\" font-size=\"11\" lengthAdjust=\"spacingAndGlyphs\" textLength=\"73\" x=\"189.5\" y=\"139.062\">mergeNodes</text><line style=\"stroke: #383838; stroke-width: 1.0;\" x1=\"262.5\" x2=\"305\" y1=\"135.7539\" y2=\"135.7539\"/></a><!--MD5=[60a26617385b1d2d0262a64233df1f8d]\n",
       "class E6--><a href=\"psysml:a720c396-7a8e-4250-b133-b38e5d5b0a71\" target=\"_top\" title=\"psysml:a720c396-7a8e-4250-b133-b38e5d5b0a71\" xlink:actuate=\"onRequest\" xlink:href=\"psysml:a720c396-7a8e-4250-b133-b38e5d5b0a71\" xlink:show=\"new\" xlink:title=\"psysml:a720c396-7a8e-4250-b133-b38e5d5b0a71\" xlink:type=\"simple\"><rect fill=\"#FFFFFF\" height=\"45.9375\" id=\"E6\" style=\"stroke: #383838; stroke-width: 1.5;\" width=\"79\" x=\"31.5\" y=\"77\"/><text fill=\"#000000\" font-family=\"sans-serif\" font-size=\"12\" font-style=\"italic\" lengthAdjust=\"spacingAndGlyphs\" textLength=\"77\" x=\"32.5\" y=\"93.1387\">«action def»</text><text fill=\"#000000\" font-family=\"sans-serif\" font-size=\"12\" lengthAdjust=\"spacingAndGlyphs\" textLength=\"8\" x=\"67\" y=\"107.1074\">B</text><line style=\"stroke: #383838; stroke-width: 1.5;\" x1=\"32.5\" x2=\"109.5\" y1=\"114.9375\" y2=\"114.9375\"/></a><!--MD5=[e8f7baf2f08b1963caa8becefa55ef8f]\n",
       "@startuml\r\n",
       "skinparam linetype polyline\r\n",
       "skinparam monochrome true\r\n",
       "skinparam classbackgroundcolor white\r\n",
       "skinparam shadowing false\r\n",
       "skinparam wrapWidth 300\r\n",
       "hide circle\r\n",
       "\r\n",
       "package \"ActionTest\" as E1  [[psysml:1b586630-6073-41f8-a31c-3b1021fd2d94 ]]  {\r\n",
       "comp def \"S\" as E2  <<(T,blue)attribute def>> [[psysml:ec6ecfb2-58e1-4e93-a57f-7fba141d91de ]] {\r\n",
       "}\r\n",
       "comp usage \"a\" as E3  <<(T,blue)action>> [[psysml:63b3e978-ff90-4127-8639-9e6714fb0371 ]] {\r\n",
       "- - actions - -\r\n",
       "start: Action\\n//:>>Occurrence::startShot// \r\n",
       "- - mergeNodes - -\r\n",
       "m\r\n",
       "}\r\n",
       "comp def \"B\" as E6  <<(T,blue)action def>> [[psysml:a720c396-7a8e-4250-b133-b38e5d5b0a71 ]] {\r\n",
       "}\r\n",
       "}\r\n",
       "@enduml\r\n",
       "\n",
       "PlantUML version 1.2020.13(Sat Jun 13 12:26:38 UTC 2020)\n",
       "(EPL source distribution)\n",
       "Java Runtime: OpenJDK Runtime Environment\n",
       "JVM: OpenJDK 64-Bit Server VM\n",
       "Default Encoding: UTF-8\n",
       "Language: en\n",
       "Country: null\n",
       "--></g></svg>"
      ]
     },
     "execution_count": 10,
     "metadata": {},
     "output_type": "execute_result"
    }
   ],
   "source": [
    "%viz --style=\"POLYLINE\" --view=\"Tree\" \"ActionTest\""
   ]
  },
  {
   "cell_type": "code",
   "execution_count": 11,
   "id": "apart-inventory",
   "metadata": {
    "execution": {
     "iopub.execute_input": "2021-03-25T14:11:38.610137Z",
     "iopub.status.busy": "2021-03-25T14:11:38.609006Z",
     "iopub.status.idle": "2021-03-25T14:11:38.619060Z",
     "shell.execute_reply": "2021-03-25T14:11:38.619520Z"
    }
   },
   "outputs": [
    {
     "data": {
      "image/svg+xml": [
       "<?xml version=\"1.0\" encoding=\"UTF-8\" standalone=\"no\"?><svg xmlns=\"http://www.w3.org/2000/svg\" xmlns:xlink=\"http://www.w3.org/1999/xlink\" contentScriptType=\"application/ecmascript\" contentStyleType=\"text/css\" height=\"12px\" preserveAspectRatio=\"none\" style=\"width:12px;height:12px;\" version=\"1.1\" viewBox=\"0 0 12 12\" width=\"12px\" zoomAndPan=\"magnify\"><defs/><g><!--MD5=[896ac0e7a515d8dd7765a661cb4ee08b]\n",
       "@startuml\r\n",
       "skinparam linetype polyline\r\n",
       "skinparam monochrome true\r\n",
       "skinparam classbackgroundcolor white\r\n",
       "skinparam shadowing false\r\n",
       "skinparam wrapWidth 300\r\n",
       "hide circle\r\n",
       "\r\n",
       "@enduml\r\n",
       "\n",
       "PlantUML version 1.2020.13(Sat Jun 13 12:26:38 UTC 2020)\n",
       "(EPL source distribution)\n",
       "Java Runtime: OpenJDK Runtime Environment\n",
       "JVM: OpenJDK 64-Bit Server VM\n",
       "Default Encoding: UTF-8\n",
       "Language: en\n",
       "Country: null\n",
       "--></g></svg>"
      ]
     },
     "execution_count": 11,
     "metadata": {},
     "output_type": "execute_result"
    }
   ],
   "source": [
    "%viz --style=\"POLYLINE\" --view=\"State\" \"ActionTest\""
   ]
  },
  {
   "cell_type": "code",
   "execution_count": 12,
   "id": "sustained-effect",
   "metadata": {
    "execution": {
     "iopub.execute_input": "2021-03-25T14:11:38.672811Z",
     "iopub.status.busy": "2021-03-25T14:11:38.672263Z",
     "iopub.status.idle": "2021-03-25T14:11:38.848569Z",
     "shell.execute_reply": "2021-03-25T14:11:38.848216Z"
    }
   },
   "outputs": [
    {
     "data": {
      "image/svg+xml": [
       "<?xml version=\"1.0\" encoding=\"UTF-8\" standalone=\"no\"?><svg xmlns=\"http://www.w3.org/2000/svg\" xmlns:xlink=\"http://www.w3.org/1999/xlink\" contentScriptType=\"application/ecmascript\" contentStyleType=\"text/css\" height=\"462px\" preserveAspectRatio=\"none\" style=\"width:522px;height:462px;\" version=\"1.1\" viewBox=\"0 0 522 462\" width=\"522px\" zoomAndPan=\"magnify\"><defs/><g><!--MD5=[fbc87193dbaf4d95561dea2c320d4a47]\n",
       "cluster E1--><a href=\"psysml:1b586630-6073-41f8-a31c-3b1021fd2d94\" target=\"_top\" title=\"psysml:1b586630-6073-41f8-a31c-3b1021fd2d94\" xlink:actuate=\"onRequest\" xlink:href=\"psysml:1b586630-6073-41f8-a31c-3b1021fd2d94\" xlink:show=\"new\" xlink:title=\"psysml:1b586630-6073-41f8-a31c-3b1021fd2d94\" xlink:type=\"simple\"><polygon fill=\"#FFFFFF\" points=\"16,6,107,6,114,28.2969,500,28.2969,500,450.5,16,450.5,16,6\" style=\"stroke: #000000; stroke-width: 1.5;\"/><line style=\"stroke: #000000; stroke-width: 1.5;\" x1=\"16\" x2=\"114\" y1=\"28.2969\" y2=\"28.2969\"/><text fill=\"#000000\" font-family=\"sans-serif\" font-size=\"14\" font-weight=\"bold\" lengthAdjust=\"spacingAndGlyphs\" textLength=\"85\" x=\"20\" y=\"20.9951\">ActionTest</text></a><!--MD5=[d5e69f78d87373223dbae638b30a9c99]\n",
       "cluster E3--><a href=\"psysml:63b3e978-ff90-4127-8639-9e6714fb0371\" target=\"_top\" title=\"psysml:63b3e978-ff90-4127-8639-9e6714fb0371\" xlink:actuate=\"onRequest\" xlink:href=\"psysml:63b3e978-ff90-4127-8639-9e6714fb0371\" xlink:show=\"new\" xlink:title=\"psysml:63b3e978-ff90-4127-8639-9e6714fb0371\" xlink:type=\"simple\"><rect fill=\"#FFFFFF\" height=\"377.5\" id=\"E3\" rx=\"10\" ry=\"10\" style=\"stroke: #383838; stroke-width: 1.5;\" width=\"209\" x=\"267\" y=\"49\"/><rect fill=\"#F8F8F8\" height=\"37.9375\" rx=\"10\" ry=\"10\" style=\"stroke: #F8F8F8; stroke-width: 1.5;\" width=\"209\" x=\"267\" y=\"49\"/><rect fill=\"#F8F8F8\" height=\"10\" style=\"stroke: #F8F8F8; stroke-width: 1.5;\" width=\"209\" x=\"267\" y=\"76.9375\"/><rect fill=\"none\" height=\"377.5\" id=\"E3\" rx=\"10\" ry=\"10\" style=\"stroke: #383838; stroke-width: 1.5;\" width=\"209\" x=\"267\" y=\"49\"/><text fill=\"#000000\" font-family=\"sans-serif\" font-size=\"12\" font-style=\"italic\" lengthAdjust=\"spacingAndGlyphs\" textLength=\"53\" x=\"345\" y=\"65.1387\">«action»</text><text fill=\"#000000\" font-family=\"sans-serif\" font-size=\"12\" lengthAdjust=\"spacingAndGlyphs\" textLength=\"8\" x=\"367.5\" y=\"79.1074\">a</text><line style=\"stroke: #383838; stroke-width: 1.0;\" x1=\"267\" x2=\"476\" y1=\"86.9375\" y2=\"86.9375\"/></a><g id=\"E1.E2\"><a href=\"psysml:ec6ecfb2-58e1-4e93-a57f-7fba141d91de\" target=\"_top\" title=\"psysml:ec6ecfb2-58e1-4e93-a57f-7fba141d91de\" xlink:actuate=\"onRequest\" xlink:href=\"psysml:ec6ecfb2-58e1-4e93-a57f-7fba141d91de\" xlink:show=\"new\" xlink:title=\"psysml:ec6ecfb2-58e1-4e93-a57f-7fba141d91de\" xlink:type=\"simple\"><rect fill=\"#FFFFFF\" height=\"42.9375\" id=\"E2\" style=\"stroke: #383838; stroke-width: 1.5;\" width=\"100\" x=\"151\" y=\"88.5\"/><rect fill=\"#F8F8F8\" height=\"37.9375\" style=\"stroke: #383838; stroke-width: 1.5;\" width=\"100\" x=\"151\" y=\"88.5\"/><text fill=\"#000000\" font-family=\"sans-serif\" font-size=\"12\" font-style=\"italic\" lengthAdjust=\"spacingAndGlyphs\" textLength=\"93\" x=\"154.5\" y=\"104.6387\">«attribute def»</text><text fill=\"#000000\" font-family=\"sans-serif\" font-size=\"12\" lengthAdjust=\"spacingAndGlyphs\" textLength=\"8\" x=\"197\" y=\"118.6074\">S</text></a></g><polygon fill=\"#F8F8F8\" points=\"424,148.5,436,160.5,424,172.5,412,160.5,424,148.5\" style=\"stroke: #383838; stroke-width: 1.5;\"/><!--MD5=[21dd76c19d33815960c0e92fef8f0eef]\n",
       "entity E5--><a href=\"psysml:12477b88-d1e3-4069-a82c-9614e3ee7843\" target=\"_top\" title=\"psysml:12477b88-d1e3-4069-a82c-9614e3ee7843\" xlink:actuate=\"onRequest\" xlink:href=\"psysml:12477b88-d1e3-4069-a82c-9614e3ee7843\" xlink:show=\"new\" xlink:title=\"psysml:12477b88-d1e3-4069-a82c-9614e3ee7843\" xlink:type=\"simple\"><polygon fill=\"#F8F8F8\" points=\"283,189.5,283,244.0938,423,244.0938,403,216.7969,423,189.5\" style=\"stroke: #000000; stroke-width: 1.5;\"/><text fill=\"#000000\" font-family=\"sans-serif\" font-size=\"14\" font-style=\"italic\" lengthAdjust=\"spacingAndGlyphs\" textLength=\"111\" x=\"290\" y=\"212.4951\">«accept action»</text><text fill=\"#000000\" font-family=\"sans-serif\" font-size=\"14\" lengthAdjust=\"spacingAndGlyphs\" textLength=\"9\" x=\"341\" y=\"229.792\">S</text></a><!--MD5=[24d87cdf3002d433f401b2a2aa9f9f65]\n",
       "entity E6--><a href=\"psysml:18c53c10-a81a-4a73-8210-8be9c84ee198\" target=\"_top\" title=\"psysml:18c53c10-a81a-4a73-8210-8be9c84ee198\" xlink:actuate=\"onRequest\" xlink:href=\"psysml:18c53c10-a81a-4a73-8210-8be9c84ee198\" xlink:show=\"new\" xlink:title=\"psysml:18c53c10-a81a-4a73-8210-8be9c84ee198\" xlink:type=\"simple\"><polygon fill=\"#F8F8F8\" points=\"283,277.5,283,332.0938,391,332.0938,411,304.7969,391,277.5\" style=\"stroke: #000000; stroke-width: 1.5;\"/><text fill=\"#000000\" font-family=\"sans-serif\" font-size=\"14\" font-style=\"italic\" lengthAdjust=\"spacingAndGlyphs\" textLength=\"99\" x=\"290\" y=\"300.4951\">«send action»</text><text fill=\"#000000\" font-family=\"sans-serif\" font-size=\"14\" lengthAdjust=\"spacingAndGlyphs\" textLength=\"55\" x=\"312\" y=\"317.792\">S to  B()</text></a><polygon fill=\"#F8F8F8\" points=\"422,349.5,434,361.5,422,373.5,410,361.5,422,349.5\" style=\"stroke: #383838; stroke-width: 1.5;\"/><ellipse cx=\"424\" cy=\"110\" fill=\"#000000\" rx=\"10\" ry=\"10\" style=\"stroke: none; stroke-width: 1.0;\"/><ellipse cx=\"422\" cy=\"400.5\" fill=\"none\" rx=\"10\" ry=\"10\" style=\"stroke: #000000; stroke-width: 1.0;\"/><ellipse cx=\"422.5\" cy=\"401\" fill=\"#000000\" rx=\"6\" ry=\"6\" style=\"stroke: none; stroke-width: 1.0;\"/><g id=\"E1.E8\"><a href=\"psysml:a720c396-7a8e-4250-b133-b38e5d5b0a71\" target=\"_top\" title=\"psysml:a720c396-7a8e-4250-b133-b38e5d5b0a71\" xlink:actuate=\"onRequest\" xlink:href=\"psysml:a720c396-7a8e-4250-b133-b38e5d5b0a71\" xlink:show=\"new\" xlink:title=\"psysml:a720c396-7a8e-4250-b133-b38e5d5b0a71\" xlink:type=\"simple\"><rect fill=\"#FFFFFF\" height=\"42.9375\" id=\"E8\" style=\"stroke: #383838; stroke-width: 1.5;\" width=\"84\" x=\"32\" y=\"88.5\"/><rect fill=\"#F8F8F8\" height=\"37.9375\" style=\"stroke: #383838; stroke-width: 1.5;\" width=\"84\" x=\"32\" y=\"88.5\"/><text fill=\"#000000\" font-family=\"sans-serif\" font-size=\"12\" font-style=\"italic\" lengthAdjust=\"spacingAndGlyphs\" textLength=\"77\" x=\"35.5\" y=\"104.6387\">«action def»</text><text fill=\"#000000\" font-family=\"sans-serif\" font-size=\"12\" lengthAdjust=\"spacingAndGlyphs\" textLength=\"8\" x=\"70\" y=\"118.6074\">B</text></a></g><!--MD5=[f47e10efcf9a6752d55dae986d790ed9]\n",
       "link *start*E3 to E4--><a href=\"psysml:3eb4ae89-c3fe-4a5c-9996-6c16dc90e291\" target=\"_top\" title=\"psysml:3eb4ae89-c3fe-4a5c-9996-6c16dc90e291\" xlink:actuate=\"onRequest\" xlink:href=\"psysml:3eb4ae89-c3fe-4a5c-9996-6c16dc90e291\" xlink:show=\"new\" xlink:title=\"psysml:3eb4ae89-c3fe-4a5c-9996-6c16dc90e291\" xlink:type=\"simple\"><path d=\"M424,120.35 C424,126.88 424,135.77 424,143.42 \" fill=\"none\" id=\"*start*E3-&gt;E4\" style=\"stroke: #383838; stroke-width: 1.0;\"/><polygon fill=\"#383838\" points=\"424,148.48,428,139.48,424,143.48,420,139.48,424,148.48\" style=\"stroke: #383838; stroke-width: 1.0;\"/></a><!--MD5=[d19f2eb34364d71b67042106d92f540b]\n",
       "link E7 to *end*E3--><a href=\"psysml:529019b4-f7b3-445e-a809-123fd999bfb3\" target=\"_top\" title=\"psysml:529019b4-f7b3-445e-a809-123fd999bfb3\" xlink:actuate=\"onRequest\" xlink:href=\"psysml:529019b4-f7b3-445e-a809-123fd999bfb3\" xlink:show=\"new\" xlink:title=\"psysml:529019b4-f7b3-445e-a809-123fd999bfb3\" xlink:type=\"simple\"><path d=\"M422,373.8 C422,377.34 422,381.3 422,385.03 \" fill=\"none\" id=\"E7-&gt;*end*E3\" style=\"stroke: #383838; stroke-width: 1.0;\"/><polygon fill=\"#383838\" points=\"422,390.25,426,381.25,422,385.25,418,381.25,422,390.25\" style=\"stroke: #383838; stroke-width: 1.0;\"/></a><!--MD5=[1b7591eae5389033d8d09a9d6721a717]\n",
       "link E4 to E5--><a href=\"psysml:252a1c6c-cc00-403d-ac29-1241d1eee0ca\" target=\"_top\" title=\"psysml:252a1c6c-cc00-403d-ac29-1241d1eee0ca\" xlink:actuate=\"onRequest\" xlink:href=\"psysml:252a1c6c-cc00-403d-ac29-1241d1eee0ca\" xlink:show=\"new\" xlink:title=\"psysml:252a1c6c-cc00-403d-ac29-1241d1eee0ca\" xlink:type=\"simple\"><path d=\"M417.45,166.53 C411.33,171.23 401.65,178.66 391.64,186.34 \" fill=\"none\" id=\"E4-&gt;E5\" style=\"stroke: #383838; stroke-width: 1.0;\"/><polygon fill=\"#383838\" points=\"387.64,189.41,397.2129,187.0948,391.6037,186.3621,392.3363,180.7529,387.64,189.41\" style=\"stroke: #383838; stroke-width: 1.0;\"/></a><!--MD5=[9120cf2e5df3bff93db8f754bbbc09b4]\n",
       "link E5 to E6--><a href=\"psysml:52dd995d-9028-4157-9334-98b87c98e4ca\" target=\"_top\" title=\"psysml:52dd995d-9028-4157-9334-98b87c98e4ca\" xlink:actuate=\"onRequest\" xlink:href=\"psysml:52dd995d-9028-4157-9334-98b87c98e4ca\" xlink:show=\"new\" xlink:title=\"psysml:52dd995d-9028-4157-9334-98b87c98e4ca\" xlink:type=\"simple\"><path d=\"M351.13,244.74 C350.53,253.4 349.85,263.08 349.23,272.08 \" fill=\"none\" id=\"E5-&gt;E6\" style=\"stroke: #383838; stroke-width: 1.0;\"/><polygon fill=\"#383838\" points=\"348.86,277.28,353.468,268.5756,349.203,272.2918,345.4869,268.0268,348.86,277.28\" style=\"stroke: #383838; stroke-width: 1.0;\"/></a><!--MD5=[02c70b7c851c11e3980e4e90450dc5dd]\n",
       "link E6 to E7--><a href=\"psysml:11c1c086-8dd9-4b00-9ab5-dcf0da9e4b0f\" target=\"_top\" title=\"psysml:11c1c086-8dd9-4b00-9ab5-dcf0da9e4b0f\" xlink:actuate=\"onRequest\" xlink:href=\"psysml:11c1c086-8dd9-4b00-9ab5-dcf0da9e4b0f\" xlink:show=\"new\" xlink:title=\"psysml:11c1c086-8dd9-4b00-9ab5-dcf0da9e4b0f\" xlink:type=\"simple\"><path d=\"M383.62,332.61 C393.72,339.95 403.91,347.35 411.24,352.68 \" fill=\"none\" id=\"E6-&gt;E7\" style=\"stroke: #383838; stroke-width: 1.0;\"/><polygon fill=\"#383838\" points=\"415.42,355.72,410.4976,347.1894,411.3776,352.7774,405.7896,353.6574,415.42,355.72\" style=\"stroke: #383838; stroke-width: 1.0;\"/></a><!--MD5=[6bdd27f9905911a7e892a3dc65cf6b7c]\n",
       "link E7 to E4--><a href=\"psysml:9dbcc968-b81d-4000-b2fb-dcd38ad7dec8\" target=\"_top\" title=\"psysml:9dbcc968-b81d-4000-b2fb-dcd38ad7dec8\" xlink:actuate=\"onRequest\" xlink:href=\"psysml:9dbcc968-b81d-4000-b2fb-dcd38ad7dec8\" xlink:show=\"new\" xlink:title=\"psysml:9dbcc968-b81d-4000-b2fb-dcd38ad7dec8\" xlink:type=\"simple\"><path d=\"M424.21,351.64 C426.27,343.44 429,332.5 429,332.5 C429,332.5 441,244.5 441,244.5 C441,244.5 441,189.5 441,189.5 C441,189.5 435.74,180.83 431.07,173.14 \" fill=\"none\" id=\"E7-&gt;E4\" style=\"stroke: #383838; stroke-width: 1.0;\"/><polygon fill=\"#383838\" points=\"428.29,168.57,429.5527,178.3376,430.8897,172.841,436.3863,174.178,428.29,168.57\" style=\"stroke: #383838; stroke-width: 1.0;\"/><text fill=\"#000000\" font-family=\"sans-serif\" font-size=\"13\" lengthAdjust=\"spacingAndGlyphs\" textLength=\"36\" x=\"440\" y=\"265.5669\">[true]</text></a><!--MD5=[03807a6164d1aba8cd3e8dc150a11267]\n",
       "@startuml\r\n",
       "skinparam ranksep 10\r\n",
       "skinparam rectangle {\r\n",
       " backgroundColor<<block>> LightGreen\r\n",
       "}\r\n",
       "skinparam linetype polyline\r\n",
       "skinparam monochrome true\r\n",
       "skinparam classbackgroundcolor white\r\n",
       "skinparam shadowing false\r\n",
       "skinparam wrapWidth 300\r\n",
       "hide circle\r\n",
       "\r\n",
       "package \"ActionTest\" as E1  [[psysml:1b586630-6073-41f8-a31c-3b1021fd2d94 ]]  {\r\n",
       "def \"S\" as E2  <<(T,blue)attribute def>> [[psysml:ec6ecfb2-58e1-4e93-a57f-7fba141d91de ]] \r\n",
       "rec usage \"a\" as E3  <<(T,blue)action>> [[psysml:63b3e978-ff90-4127-8639-9e6714fb0371 ]] {\r\n",
       "choice \"m\" as E4  [[psysml:3c09e5e0-87ee-487d-a94c-d1481b887cf0 ]] \r\n",
       "accept \" S\" as E5 <<accept action>> [[psysml:12477b88-d1e3-4069-a82c-9614e3ee7843 ]] \r\n",
       "send \" S to  B()\" as E6 <<send action>> [[psysml:18c53c10-a81a-4a73-8210-8be9c84ee198 ]] \r\n",
       "choice \"noname\" as E7  [[psysml:e28bc343-f228-4c60-afee-7deafa85ddc3 ]] \r\n",
       "[*] - -> E4 [[psysml:3eb4ae89-c3fe-4a5c-9996-6c16dc90e291 ]] \r\n",
       "E7  - -> [*] [[psysml:529019b4-f7b3-445e-a809-123fd999bfb3 ]] \r\n",
       "}\r\n",
       "\r\n",
       "rec def \"B\" as E8  <<(T,blue)action def>> [[psysml:a720c396-7a8e-4250-b133-b38e5d5b0a71 ]] {\r\n",
       "}\r\n",
       "\r\n",
       "E4 - -> E5 [[psysml:252a1c6c-cc00-403d-ac29-1241d1eee0ca ]] \r\n",
       "E5 - -> E6 [[psysml:52dd995d-9028-4157-9334-98b87c98e4ca ]] \r\n",
       "E6 - -> E7 [[psysml:11c1c086-8dd9-4b00-9ab5-dcf0da9e4b0f ]] \r\n",
       "E7  - -> E4 [[psysml:9dbcc968-b81d-4000-b2fb-dcd38ad7dec8 ]] : [true]\r\n",
       "}\r\n",
       "@enduml\r\n",
       "\n",
       "PlantUML version 1.2020.13(Sat Jun 13 12:26:38 UTC 2020)\n",
       "(EPL source distribution)\n",
       "Java Runtime: OpenJDK Runtime Environment\n",
       "JVM: OpenJDK 64-Bit Server VM\n",
       "Default Encoding: UTF-8\n",
       "Language: en\n",
       "Country: null\n",
       "--></g></svg>"
      ]
     },
     "execution_count": 12,
     "metadata": {},
     "output_type": "execute_result"
    }
   ],
   "source": [
    "%viz --style=\"POLYLINE\" --view=\"Interconnection\" \"ActionTest\""
   ]
  },
  {
   "cell_type": "code",
   "execution_count": 13,
   "id": "criminal-vacuum",
   "metadata": {
    "execution": {
     "iopub.execute_input": "2021-03-25T14:11:38.899515Z",
     "iopub.status.busy": "2021-03-25T14:11:38.899037Z",
     "iopub.status.idle": "2021-03-25T14:11:39.058275Z",
     "shell.execute_reply": "2021-03-25T14:11:39.058597Z"
    }
   },
   "outputs": [
    {
     "data": {
      "image/svg+xml": [
       "<?xml version=\"1.0\" encoding=\"UTF-8\" standalone=\"no\"?><svg xmlns=\"http://www.w3.org/2000/svg\" xmlns:xlink=\"http://www.w3.org/1999/xlink\" contentScriptType=\"application/ecmascript\" contentStyleType=\"text/css\" height=\"395px\" preserveAspectRatio=\"none\" style=\"width:328px;height:395px;\" version=\"1.1\" viewBox=\"0 0 328 395\" width=\"328px\" zoomAndPan=\"magnify\"><defs/><g><!--MD5=[fbc87193dbaf4d95561dea2c320d4a47]\n",
       "cluster E1--><a href=\"psysml:63b3e978-ff90-4127-8639-9e6714fb0371\" target=\"_top\" title=\"psysml:63b3e978-ff90-4127-8639-9e6714fb0371\" xlink:actuate=\"onRequest\" xlink:href=\"psysml:63b3e978-ff90-4127-8639-9e6714fb0371\" xlink:show=\"new\" xlink:title=\"psysml:63b3e978-ff90-4127-8639-9e6714fb0371\" xlink:type=\"simple\"><rect fill=\"#FFFFFF\" height=\"377.5\" id=\"E1\" rx=\"10\" ry=\"10\" style=\"stroke: #383838; stroke-width: 1.5;\" width=\"209\" x=\"107\" y=\"7\"/><rect fill=\"#F8F8F8\" height=\"37.9375\" rx=\"10\" ry=\"10\" style=\"stroke: #F8F8F8; stroke-width: 1.5;\" width=\"209\" x=\"107\" y=\"7\"/><rect fill=\"#F8F8F8\" height=\"10\" style=\"stroke: #F8F8F8; stroke-width: 1.5;\" width=\"209\" x=\"107\" y=\"34.9375\"/><rect fill=\"none\" height=\"377.5\" id=\"E1\" rx=\"10\" ry=\"10\" style=\"stroke: #383838; stroke-width: 1.5;\" width=\"209\" x=\"107\" y=\"7\"/><text fill=\"#000000\" font-family=\"sans-serif\" font-size=\"12\" font-style=\"italic\" lengthAdjust=\"spacingAndGlyphs\" textLength=\"53\" x=\"185\" y=\"23.1387\">«action»</text><text fill=\"#000000\" font-family=\"sans-serif\" font-size=\"12\" lengthAdjust=\"spacingAndGlyphs\" textLength=\"8\" x=\"207.5\" y=\"37.1074\">a</text><line style=\"stroke: #383838; stroke-width: 1.0;\" x1=\"107\" x2=\"316\" y1=\"44.9375\" y2=\"44.9375\"/></a><polygon fill=\"#F8F8F8\" points=\"264,106.5,276,118.5,264,130.5,252,118.5,264,106.5\" style=\"stroke: #383838; stroke-width: 1.5;\"/><!--MD5=[a60fb756f580feb9fd8e2cf1329b5c91]\n",
       "entity E3--><a href=\"psysml:12477b88-d1e3-4069-a82c-9614e3ee7843\" target=\"_top\" title=\"psysml:12477b88-d1e3-4069-a82c-9614e3ee7843\" xlink:actuate=\"onRequest\" xlink:href=\"psysml:12477b88-d1e3-4069-a82c-9614e3ee7843\" xlink:show=\"new\" xlink:title=\"psysml:12477b88-d1e3-4069-a82c-9614e3ee7843\" xlink:type=\"simple\"><polygon fill=\"#F8F8F8\" points=\"123,147.5,123,202.0938,263,202.0938,243,174.7969,263,147.5\" style=\"stroke: #000000; stroke-width: 1.5;\"/><text fill=\"#000000\" font-family=\"sans-serif\" font-size=\"14\" font-style=\"italic\" lengthAdjust=\"spacingAndGlyphs\" textLength=\"111\" x=\"130\" y=\"170.4951\">«accept action»</text><text fill=\"#000000\" font-family=\"sans-serif\" font-size=\"14\" lengthAdjust=\"spacingAndGlyphs\" textLength=\"9\" x=\"181\" y=\"187.792\">S</text></a><!--MD5=[961cefdc15414eaa3e87aec9d17c2188]\n",
       "entity E4--><a href=\"psysml:18c53c10-a81a-4a73-8210-8be9c84ee198\" target=\"_top\" title=\"psysml:18c53c10-a81a-4a73-8210-8be9c84ee198\" xlink:actuate=\"onRequest\" xlink:href=\"psysml:18c53c10-a81a-4a73-8210-8be9c84ee198\" xlink:show=\"new\" xlink:title=\"psysml:18c53c10-a81a-4a73-8210-8be9c84ee198\" xlink:type=\"simple\"><polygon fill=\"#F8F8F8\" points=\"123,235.5,123,290.0938,231,290.0938,251,262.7969,231,235.5\" style=\"stroke: #000000; stroke-width: 1.5;\"/><text fill=\"#000000\" font-family=\"sans-serif\" font-size=\"14\" font-style=\"italic\" lengthAdjust=\"spacingAndGlyphs\" textLength=\"99\" x=\"130\" y=\"258.4951\">«send action»</text><text fill=\"#000000\" font-family=\"sans-serif\" font-size=\"14\" lengthAdjust=\"spacingAndGlyphs\" textLength=\"55\" x=\"152\" y=\"275.792\">S to  B()</text></a><polygon fill=\"#F8F8F8\" points=\"262,307.5,274,319.5,262,331.5,250,319.5,262,307.5\" style=\"stroke: #383838; stroke-width: 1.5;\"/><ellipse cx=\"264\" cy=\"68\" fill=\"#000000\" rx=\"10\" ry=\"10\" style=\"stroke: none; stroke-width: 1.0;\"/><ellipse cx=\"262\" cy=\"358.5\" fill=\"none\" rx=\"10\" ry=\"10\" style=\"stroke: #000000; stroke-width: 1.0;\"/><ellipse cx=\"262.5\" cy=\"359\" fill=\"#000000\" rx=\"6\" ry=\"6\" style=\"stroke: none; stroke-width: 1.0;\"/><g id=\"E6\"><a href=\"psysml:a720c396-7a8e-4250-b133-b38e5d5b0a71\" target=\"_top\" title=\"psysml:a720c396-7a8e-4250-b133-b38e5d5b0a71\" xlink:actuate=\"onRequest\" xlink:href=\"psysml:a720c396-7a8e-4250-b133-b38e5d5b0a71\" xlink:show=\"new\" xlink:title=\"psysml:a720c396-7a8e-4250-b133-b38e5d5b0a71\" xlink:type=\"simple\"><rect fill=\"#FFFFFF\" height=\"42.9375\" id=\"E6\" style=\"stroke: #383838; stroke-width: 1.5;\" width=\"84\" x=\"7\" y=\"46.5\"/><rect fill=\"#F8F8F8\" height=\"37.9375\" style=\"stroke: #383838; stroke-width: 1.5;\" width=\"84\" x=\"7\" y=\"46.5\"/><text fill=\"#000000\" font-family=\"sans-serif\" font-size=\"12\" font-style=\"italic\" lengthAdjust=\"spacingAndGlyphs\" textLength=\"77\" x=\"10.5\" y=\"62.6387\">«action def»</text><text fill=\"#000000\" font-family=\"sans-serif\" font-size=\"12\" lengthAdjust=\"spacingAndGlyphs\" textLength=\"8\" x=\"45\" y=\"76.6074\">B</text></a></g><!--MD5=[cff944eb183b832d446717a4e202d613]\n",
       "link *start*E1 to E2--><a href=\"psysml:3eb4ae89-c3fe-4a5c-9996-6c16dc90e291\" target=\"_top\" title=\"psysml:3eb4ae89-c3fe-4a5c-9996-6c16dc90e291\" xlink:actuate=\"onRequest\" xlink:href=\"psysml:3eb4ae89-c3fe-4a5c-9996-6c16dc90e291\" xlink:show=\"new\" xlink:title=\"psysml:3eb4ae89-c3fe-4a5c-9996-6c16dc90e291\" xlink:type=\"simple\"><path d=\"M264,78.35 C264,84.88 264,93.77 264,101.42 \" fill=\"none\" id=\"*start*E1-&gt;E2\" style=\"stroke: #383838; stroke-width: 1.0; stroke-dasharray: 7.0,7.0;\"/><polygon fill=\"#383838\" points=\"264,106.48,268,97.48,264,101.48,260,97.48,264,106.48\" style=\"stroke: #383838; stroke-width: 1.0;\"/></a><!--MD5=[7fc47fc0d107820853a137871ad908c8]\n",
       "link E5 to *end*E1--><a href=\"psysml:529019b4-f7b3-445e-a809-123fd999bfb3\" target=\"_top\" title=\"psysml:529019b4-f7b3-445e-a809-123fd999bfb3\" xlink:actuate=\"onRequest\" xlink:href=\"psysml:529019b4-f7b3-445e-a809-123fd999bfb3\" xlink:show=\"new\" xlink:title=\"psysml:529019b4-f7b3-445e-a809-123fd999bfb3\" xlink:type=\"simple\"><path d=\"M262,331.8 C262,335.34 262,339.3 262,343.03 \" fill=\"none\" id=\"E5-&gt;*end*E1\" style=\"stroke: #383838; stroke-width: 1.0; stroke-dasharray: 7.0,7.0;\"/><polygon fill=\"#383838\" points=\"262,348.25,266,339.25,262,343.25,258,339.25,262,348.25\" style=\"stroke: #383838; stroke-width: 1.0;\"/></a><!--MD5=[2720a5a1f2c3fca2055b230370638851]\n",
       "link E2 to E3--><a href=\"psysml:252a1c6c-cc00-403d-ac29-1241d1eee0ca\" target=\"_top\" title=\"psysml:252a1c6c-cc00-403d-ac29-1241d1eee0ca\" xlink:actuate=\"onRequest\" xlink:href=\"psysml:252a1c6c-cc00-403d-ac29-1241d1eee0ca\" xlink:show=\"new\" xlink:title=\"psysml:252a1c6c-cc00-403d-ac29-1241d1eee0ca\" xlink:type=\"simple\"><path d=\"M257.45,124.53 C251.33,129.23 241.65,136.66 231.64,144.34 \" fill=\"none\" id=\"E2-&gt;E3\" style=\"stroke: #383838; stroke-width: 1.0; stroke-dasharray: 7.0,7.0;\"/><polygon fill=\"#383838\" points=\"227.64,147.41,237.2129,145.0948,231.6037,144.3621,232.3363,138.7529,227.64,147.41\" style=\"stroke: #383838; stroke-width: 1.0;\"/></a><!--MD5=[af87c684e3b0d8be13c1a698a818ef1e]\n",
       "link E3 to E4--><a href=\"psysml:52dd995d-9028-4157-9334-98b87c98e4ca\" target=\"_top\" title=\"psysml:52dd995d-9028-4157-9334-98b87c98e4ca\" xlink:actuate=\"onRequest\" xlink:href=\"psysml:52dd995d-9028-4157-9334-98b87c98e4ca\" xlink:show=\"new\" xlink:title=\"psysml:52dd995d-9028-4157-9334-98b87c98e4ca\" xlink:type=\"simple\"><path d=\"M191.13,202.74 C190.53,211.4 189.85,221.08 189.23,230.08 \" fill=\"none\" id=\"E3-&gt;E4\" style=\"stroke: #383838; stroke-width: 1.0; stroke-dasharray: 7.0,7.0;\"/><polygon fill=\"#383838\" points=\"188.86,235.28,193.468,226.5756,189.203,230.2918,185.4869,226.0268,188.86,235.28\" style=\"stroke: #383838; stroke-width: 1.0;\"/></a><!--MD5=[1b7591eae5389033d8d09a9d6721a717]\n",
       "link E4 to E5--><a href=\"psysml:11c1c086-8dd9-4b00-9ab5-dcf0da9e4b0f\" target=\"_top\" title=\"psysml:11c1c086-8dd9-4b00-9ab5-dcf0da9e4b0f\" xlink:actuate=\"onRequest\" xlink:href=\"psysml:11c1c086-8dd9-4b00-9ab5-dcf0da9e4b0f\" xlink:show=\"new\" xlink:title=\"psysml:11c1c086-8dd9-4b00-9ab5-dcf0da9e4b0f\" xlink:type=\"simple\"><path d=\"M223.62,290.61 C233.72,297.95 243.91,305.35 251.24,310.68 \" fill=\"none\" id=\"E4-&gt;E5\" style=\"stroke: #383838; stroke-width: 1.0; stroke-dasharray: 7.0,7.0;\"/><polygon fill=\"#383838\" points=\"255.42,313.72,250.4976,305.1894,251.3776,310.7774,245.7896,311.6574,255.42,313.72\" style=\"stroke: #383838; stroke-width: 1.0;\"/></a><!--MD5=[15ebcb19ae302d9b601edb458606d402]\n",
       "link E5 to E2--><a href=\"psysml:9dbcc968-b81d-4000-b2fb-dcd38ad7dec8\" target=\"_top\" title=\"psysml:9dbcc968-b81d-4000-b2fb-dcd38ad7dec8\" xlink:actuate=\"onRequest\" xlink:href=\"psysml:9dbcc968-b81d-4000-b2fb-dcd38ad7dec8\" xlink:show=\"new\" xlink:title=\"psysml:9dbcc968-b81d-4000-b2fb-dcd38ad7dec8\" xlink:type=\"simple\"><path d=\"M264.21,309.64 C266.27,301.44 269,290.5 269,290.5 C269,290.5 281,202.5 281,202.5 C281,202.5 281,147.5 281,147.5 C281,147.5 275.74,138.83 271.07,131.14 \" fill=\"none\" id=\"E5-&gt;E2\" style=\"stroke: #383838; stroke-width: 1.0; stroke-dasharray: 7.0,7.0;\"/><polygon fill=\"#383838\" points=\"268.29,126.57,269.5527,136.3376,270.8897,130.841,276.3863,132.178,268.29,126.57\" style=\"stroke: #383838; stroke-width: 1.0;\"/><text fill=\"#000000\" font-family=\"sans-serif\" font-size=\"13\" lengthAdjust=\"spacingAndGlyphs\" textLength=\"36\" x=\"280\" y=\"223.5669\">[true]</text></a><!--MD5=[d8afd93195090ba010bcad627e95c59e]\n",
       "@startuml\r\n",
       "skinparam ranksep 8\r\n",
       "skinparam linetype polyline\r\n",
       "skinparam monochrome true\r\n",
       "skinparam classbackgroundcolor white\r\n",
       "skinparam shadowing false\r\n",
       "skinparam wrapWidth 300\r\n",
       "hide circle\r\n",
       "\r\n",
       "rec usage \"a\" as E1  <<(T,blue)action>> [[psysml:63b3e978-ff90-4127-8639-9e6714fb0371 ]] {\r\n",
       "choice \"m\" as E2  [[psysml:3c09e5e0-87ee-487d-a94c-d1481b887cf0 ]] \r\n",
       "accept \" S\" as E3 <<accept action>> [[psysml:12477b88-d1e3-4069-a82c-9614e3ee7843 ]] \r\n",
       "send \" S to  B()\" as E4 <<send action>> [[psysml:18c53c10-a81a-4a73-8210-8be9c84ee198 ]] \r\n",
       "choice \"noname\" as E5  [[psysml:e28bc343-f228-4c60-afee-7deafa85ddc3 ]] \r\n",
       "[*] ..> E2 [[psysml:3eb4ae89-c3fe-4a5c-9996-6c16dc90e291 ]] \r\n",
       "E5 ..> [*] [[psysml:529019b4-f7b3-445e-a809-123fd999bfb3 ]] \r\n",
       "}\r\n",
       "\r\n",
       "E2 ..> E3 [[psysml:252a1c6c-cc00-403d-ac29-1241d1eee0ca ]] \r\n",
       "E3 ..> E4 [[psysml:52dd995d-9028-4157-9334-98b87c98e4ca ]] \r\n",
       "E4 ..> E5 [[psysml:11c1c086-8dd9-4b00-9ab5-dcf0da9e4b0f ]] \r\n",
       "E5 ..> E2 [[psysml:9dbcc968-b81d-4000-b2fb-dcd38ad7dec8 ]] : [true]\r\n",
       "rec def \"B\" as E6  <<(T,blue)action def>> [[psysml:a720c396-7a8e-4250-b133-b38e5d5b0a71 ]] {\r\n",
       "}\r\n",
       "\r\n",
       "@enduml\r\n",
       "\n",
       "PlantUML version 1.2020.13(Sat Jun 13 12:26:38 UTC 2020)\n",
       "(EPL source distribution)\n",
       "Java Runtime: OpenJDK Runtime Environment\n",
       "JVM: OpenJDK 64-Bit Server VM\n",
       "Default Encoding: UTF-8\n",
       "Language: en\n",
       "Country: null\n",
       "--></g></svg>"
      ]
     },
     "execution_count": 13,
     "metadata": {},
     "output_type": "execute_result"
    }
   ],
   "source": [
    "%viz --style=\"POLYLINE\" --view=\"Action\" \"ActionTest\""
   ]
  },
  {
   "cell_type": "code",
   "execution_count": 14,
   "id": "shared-housing",
   "metadata": {
    "execution": {
     "iopub.execute_input": "2021-03-25T14:11:39.110526Z",
     "iopub.status.busy": "2021-03-25T14:11:39.110068Z",
     "iopub.status.idle": "2021-03-25T14:11:39.813079Z",
     "shell.execute_reply": "2021-03-25T14:11:39.813586Z"
    }
   },
   "outputs": [
    {
     "data": {
      "image/svg+xml": [
       "<?xml version=\"1.0\" encoding=\"UTF-8\" standalone=\"no\"?><svg xmlns=\"http://www.w3.org/2000/svg\" xmlns:xlink=\"http://www.w3.org/1999/xlink\" contentScriptType=\"application/ecmascript\" contentStyleType=\"text/css\" height=\"187px\" preserveAspectRatio=\"none\" style=\"width:475px;height:187px;\" version=\"1.1\" viewBox=\"0 0 475 187\" width=\"475px\" zoomAndPan=\"magnify\"><defs/><g><!--MD5=[fbc87193dbaf4d95561dea2c320d4a47]\n",
       "cluster E1--><a href=\"psysml:1b586630-6073-41f8-a31c-3b1021fd2d94\" target=\"_top\" title=\"psysml:1b586630-6073-41f8-a31c-3b1021fd2d94\" xlink:actuate=\"onRequest\" xlink:href=\"psysml:1b586630-6073-41f8-a31c-3b1021fd2d94\" xlink:show=\"new\" xlink:title=\"psysml:1b586630-6073-41f8-a31c-3b1021fd2d94\" xlink:type=\"simple\"><polygon fill=\"#FFFFFF\" points=\"16,6,107,6,114,28.2969,453,28.2969,453,175,16,175,16,6\" style=\"stroke: #000000; stroke-width: 1.5;\"/><line style=\"stroke: #000000; stroke-width: 1.5;\" x1=\"16\" x2=\"114\" y1=\"28.2969\" y2=\"28.2969\"/><text fill=\"#000000\" font-family=\"sans-serif\" font-size=\"14\" font-weight=\"bold\" lengthAdjust=\"spacingAndGlyphs\" textLength=\"85\" x=\"20\" y=\"20.9951\">ActionTest</text></a><!--MD5=[b4997ac47864f28c2f74865a473b2911]\n",
       "class E2--><a href=\"psysml:ec6ecfb2-58e1-4e93-a57f-7fba141d91de\" target=\"_top\" title=\"psysml:ec6ecfb2-58e1-4e93-a57f-7fba141d91de\" xlink:actuate=\"onRequest\" xlink:href=\"psysml:ec6ecfb2-58e1-4e93-a57f-7fba141d91de\" xlink:show=\"new\" xlink:title=\"psysml:ec6ecfb2-58e1-4e93-a57f-7fba141d91de\" xlink:type=\"simple\"><rect fill=\"#FFFFFF\" height=\"45.9375\" id=\"E2\" style=\"stroke: #383838; stroke-width: 1.5;\" width=\"95\" x=\"341.5\" y=\"77\"/><text fill=\"#000000\" font-family=\"sans-serif\" font-size=\"12\" font-style=\"italic\" lengthAdjust=\"spacingAndGlyphs\" textLength=\"93\" x=\"342.5\" y=\"93.1387\">«attribute def»</text><text fill=\"#000000\" font-family=\"sans-serif\" font-size=\"12\" lengthAdjust=\"spacingAndGlyphs\" textLength=\"8\" x=\"385\" y=\"107.1074\">S</text><line style=\"stroke: #383838; stroke-width: 1.5;\" x1=\"342.5\" x2=\"435.5\" y1=\"114.9375\" y2=\"114.9375\"/></a><!--MD5=[09b614a08d8cba4a07c9adeb5e0fee81]\n",
       "class E3--><a href=\"psysml:63b3e978-ff90-4127-8639-9e6714fb0371\" target=\"_top\" title=\"psysml:63b3e978-ff90-4127-8639-9e6714fb0371\" xlink:actuate=\"onRequest\" xlink:href=\"psysml:63b3e978-ff90-4127-8639-9e6714fb0371\" xlink:show=\"new\" xlink:title=\"psysml:63b3e978-ff90-4127-8639-9e6714fb0371\" xlink:type=\"simple\"><rect fill=\"#FFFFFF\" height=\"117.9609\" id=\"E3\" rx=\"10\" ry=\"10\" style=\"stroke: #383838; stroke-width: 1.5;\" width=\"160\" x=\"146\" y=\"41\"/><text fill=\"#000000\" font-family=\"sans-serif\" font-size=\"12\" font-style=\"italic\" lengthAdjust=\"spacingAndGlyphs\" textLength=\"53\" x=\"199.5\" y=\"57.1387\">«action»</text><text fill=\"#000000\" font-family=\"sans-serif\" font-size=\"12\" lengthAdjust=\"spacingAndGlyphs\" textLength=\"8\" x=\"222\" y=\"71.1074\">a</text><line style=\"stroke: #383838; stroke-width: 1.5;\" x1=\"147\" x2=\"305\" y1=\"78.9375\" y2=\"78.9375\"/><text fill=\"#000000\" font-family=\"sans-serif\" font-size=\"11\" lengthAdjust=\"spacingAndGlyphs\" textLength=\"69\" x=\"152\" y=\"109.9526\">start: Action</text><text fill=\"#000000\" font-family=\"sans-serif\" font-size=\"11\" font-style=\"italic\" lengthAdjust=\"spacingAndGlyphs\" textLength=\"148\" x=\"152\" y=\"122.7573\">:&gt;&gt;Occurrence::startShot</text><line style=\"stroke: #383838; stroke-width: 1.0;\" x1=\"147\" x2=\"205.5\" y1=\"93.3398\" y2=\"93.3398\"/><text fill=\"#000000\" font-family=\"sans-serif\" font-size=\"11\" lengthAdjust=\"spacingAndGlyphs\" textLength=\"41\" x=\"205.5\" y=\"96.6479\">actions</text><line style=\"stroke: #383838; stroke-width: 1.0;\" x1=\"246.5\" x2=\"305\" y1=\"93.3398\" y2=\"93.3398\"/><text fill=\"#000000\" font-family=\"sans-serif\" font-size=\"11\" lengthAdjust=\"spacingAndGlyphs\" textLength=\"11\" x=\"152\" y=\"152.3667\">m</text><line style=\"stroke: #383838; stroke-width: 1.0;\" x1=\"147\" x2=\"189.5\" y1=\"135.7539\" y2=\"135.7539\"/><text fill=\"#000000\" font-family=\"sans-serif\" font-size=\"11\" lengthAdjust=\"spacingAndGlyphs\" textLength=\"73\" x=\"189.5\" y=\"139.062\">mergeNodes</text><line style=\"stroke: #383838; stroke-width: 1.0;\" x1=\"262.5\" x2=\"305\" y1=\"135.7539\" y2=\"135.7539\"/></a><!--MD5=[60a26617385b1d2d0262a64233df1f8d]\n",
       "class E6--><a href=\"psysml:a720c396-7a8e-4250-b133-b38e5d5b0a71\" target=\"_top\" title=\"psysml:a720c396-7a8e-4250-b133-b38e5d5b0a71\" xlink:actuate=\"onRequest\" xlink:href=\"psysml:a720c396-7a8e-4250-b133-b38e5d5b0a71\" xlink:show=\"new\" xlink:title=\"psysml:a720c396-7a8e-4250-b133-b38e5d5b0a71\" xlink:type=\"simple\"><rect fill=\"#FFFFFF\" height=\"45.9375\" id=\"E6\" style=\"stroke: #383838; stroke-width: 1.5;\" width=\"79\" x=\"31.5\" y=\"77\"/><text fill=\"#000000\" font-family=\"sans-serif\" font-size=\"12\" font-style=\"italic\" lengthAdjust=\"spacingAndGlyphs\" textLength=\"77\" x=\"32.5\" y=\"93.1387\">«action def»</text><text fill=\"#000000\" font-family=\"sans-serif\" font-size=\"12\" lengthAdjust=\"spacingAndGlyphs\" textLength=\"8\" x=\"67\" y=\"107.1074\">B</text><line style=\"stroke: #383838; stroke-width: 1.5;\" x1=\"32.5\" x2=\"109.5\" y1=\"114.9375\" y2=\"114.9375\"/></a><!--MD5=[e8f7baf2f08b1963caa8becefa55ef8f]\n",
       "@startuml\r\n",
       "skinparam linetype polyline\r\n",
       "skinparam monochrome true\r\n",
       "skinparam classbackgroundcolor white\r\n",
       "skinparam shadowing false\r\n",
       "skinparam wrapWidth 300\r\n",
       "hide circle\r\n",
       "\r\n",
       "package \"ActionTest\" as E1  [[psysml:1b586630-6073-41f8-a31c-3b1021fd2d94 ]]  {\r\n",
       "comp def \"S\" as E2  <<(T,blue)attribute def>> [[psysml:ec6ecfb2-58e1-4e93-a57f-7fba141d91de ]] {\r\n",
       "}\r\n",
       "comp usage \"a\" as E3  <<(T,blue)action>> [[psysml:63b3e978-ff90-4127-8639-9e6714fb0371 ]] {\r\n",
       "- - actions - -\r\n",
       "start: Action\\n//:>>Occurrence::startShot// \r\n",
       "- - mergeNodes - -\r\n",
       "m\r\n",
       "}\r\n",
       "comp def \"B\" as E6  <<(T,blue)action def>> [[psysml:a720c396-7a8e-4250-b133-b38e5d5b0a71 ]] {\r\n",
       "}\r\n",
       "}\r\n",
       "@enduml\r\n",
       "\n",
       "PlantUML version 1.2020.13(Sat Jun 13 12:26:38 UTC 2020)\n",
       "(EPL source distribution)\n",
       "Java Runtime: OpenJDK Runtime Environment\n",
       "JVM: OpenJDK 64-Bit Server VM\n",
       "Default Encoding: UTF-8\n",
       "Language: en\n",
       "Country: null\n",
       "--></g></svg>"
      ]
     },
     "execution_count": 14,
     "metadata": {},
     "output_type": "execute_result"
    }
   ],
   "source": [
    "%viz --style=\"POLYLINE\" --view=\"Sequence\" \"ActionTest\""
   ]
  },
  {
   "cell_type": "code",
   "execution_count": 15,
   "id": "flying-tonight",
   "metadata": {
    "execution": {
     "iopub.execute_input": "2021-03-25T14:11:39.865354Z",
     "iopub.status.busy": "2021-03-25T14:11:39.864412Z",
     "iopub.status.idle": "2021-03-25T14:11:40.033757Z",
     "shell.execute_reply": "2021-03-25T14:11:40.031974Z"
    }
   },
   "outputs": [
    {
     "data": {
      "image/svg+xml": [
       "<?xml version=\"1.0\" encoding=\"UTF-8\" standalone=\"no\"?><svg xmlns=\"http://www.w3.org/2000/svg\" xmlns:xlink=\"http://www.w3.org/1999/xlink\" contentScriptType=\"application/ecmascript\" contentStyleType=\"text/css\" height=\"684px\" preserveAspectRatio=\"none\" style=\"width:518px;height:684px;\" version=\"1.1\" viewBox=\"0 0 518 684\" width=\"518px\" zoomAndPan=\"magnify\"><defs/><g><!--MD5=[fbc87193dbaf4d95561dea2c320d4a47]\n",
       "cluster E1--><a href=\"psysml:1b586630-6073-41f8-a31c-3b1021fd2d94\" target=\"_top\" title=\"psysml:1b586630-6073-41f8-a31c-3b1021fd2d94\" xlink:actuate=\"onRequest\" xlink:href=\"psysml:1b586630-6073-41f8-a31c-3b1021fd2d94\" xlink:show=\"new\" xlink:title=\"psysml:1b586630-6073-41f8-a31c-3b1021fd2d94\" xlink:type=\"simple\"><polygon fill=\"#FFFFFF\" points=\"16,6,107,6,114,28.2969,496,28.2969,496,672,16,672,16,6\" style=\"stroke: #000000; stroke-width: 1.5;\"/><line style=\"stroke: #000000; stroke-width: 1.5;\" x1=\"16\" x2=\"114\" y1=\"28.2969\" y2=\"28.2969\"/><text fill=\"#000000\" font-family=\"sans-serif\" font-size=\"14\" font-weight=\"bold\" lengthAdjust=\"spacingAndGlyphs\" textLength=\"85\" x=\"20\" y=\"20.9951\">ActionTest</text></a><!--MD5=[d5e69f78d87373223dbae638b30a9c99]\n",
       "cluster E3--><a href=\"psysml:63b3e978-ff90-4127-8639-9e6714fb0371\" target=\"_top\" title=\"psysml:63b3e978-ff90-4127-8639-9e6714fb0371\" xlink:actuate=\"onRequest\" xlink:href=\"psysml:63b3e978-ff90-4127-8639-9e6714fb0371\" xlink:show=\"new\" xlink:title=\"psysml:63b3e978-ff90-4127-8639-9e6714fb0371\" xlink:type=\"simple\"><rect fill=\"#FFFFFF\" height=\"599\" id=\"E3\" rx=\"10\" ry=\"10\" style=\"stroke: #383838; stroke-width: 1.5;\" width=\"209\" x=\"263\" y=\"49\"/><rect fill=\"#F8F8F8\" height=\"37.9375\" rx=\"10\" ry=\"10\" style=\"stroke: #F8F8F8; stroke-width: 1.5;\" width=\"209\" x=\"263\" y=\"49\"/><rect fill=\"#F8F8F8\" height=\"10\" style=\"stroke: #F8F8F8; stroke-width: 1.5;\" width=\"209\" x=\"263\" y=\"76.9375\"/><rect fill=\"none\" height=\"599\" id=\"E3\" rx=\"10\" ry=\"10\" style=\"stroke: #383838; stroke-width: 1.5;\" width=\"209\" x=\"263\" y=\"49\"/><text fill=\"#000000\" font-family=\"sans-serif\" font-size=\"12\" font-style=\"italic\" lengthAdjust=\"spacingAndGlyphs\" textLength=\"53\" x=\"341\" y=\"65.1387\">«action»</text><text fill=\"#000000\" font-family=\"sans-serif\" font-size=\"12\" lengthAdjust=\"spacingAndGlyphs\" textLength=\"8\" x=\"363.5\" y=\"79.1074\">a</text><line style=\"stroke: #383838; stroke-width: 1.0;\" x1=\"263\" x2=\"472\" y1=\"86.9375\" y2=\"86.9375\"/></a><!--MD5=[b4997ac47864f28c2f74865a473b2911]\n",
       "class E2--><a href=\"psysml:ec6ecfb2-58e1-4e93-a57f-7fba141d91de\" target=\"_top\" title=\"psysml:ec6ecfb2-58e1-4e93-a57f-7fba141d91de\" xlink:actuate=\"onRequest\" xlink:href=\"psysml:ec6ecfb2-58e1-4e93-a57f-7fba141d91de\" xlink:show=\"new\" xlink:title=\"psysml:ec6ecfb2-58e1-4e93-a57f-7fba141d91de\" xlink:type=\"simple\"><rect fill=\"#FFFFFF\" height=\"45.9375\" id=\"E2\" style=\"stroke: #383838; stroke-width: 1.5;\" width=\"95\" x=\"151.5\" y=\"87\"/><text fill=\"#000000\" font-family=\"sans-serif\" font-size=\"12\" font-style=\"italic\" lengthAdjust=\"spacingAndGlyphs\" textLength=\"93\" x=\"152.5\" y=\"103.1387\">«attribute def»</text><text fill=\"#000000\" font-family=\"sans-serif\" font-size=\"12\" lengthAdjust=\"spacingAndGlyphs\" textLength=\"8\" x=\"195\" y=\"117.1074\">S</text><line style=\"stroke: #383838; stroke-width: 1.5;\" x1=\"152.5\" x2=\"245.5\" y1=\"124.9375\" y2=\"124.9375\"/></a><polygon fill=\"#F8F8F8\" points=\"420,194,432,206,420,218,408,206,420,194\" style=\"stroke: #383838; stroke-width: 1.5;\"/><!--MD5=[21dd76c19d33815960c0e92fef8f0eef]\n",
       "entity E5--><a href=\"psysml:12477b88-d1e3-4069-a82c-9614e3ee7843\" target=\"_top\" title=\"psysml:12477b88-d1e3-4069-a82c-9614e3ee7843\" xlink:actuate=\"onRequest\" xlink:href=\"psysml:12477b88-d1e3-4069-a82c-9614e3ee7843\" xlink:show=\"new\" xlink:title=\"psysml:12477b88-d1e3-4069-a82c-9614e3ee7843\" xlink:type=\"simple\"><polygon fill=\"#F8F8F8\" points=\"279,279,279,333.5938,419,333.5938,399,306.2969,419,279\" style=\"stroke: #000000; stroke-width: 1.5;\"/><text fill=\"#000000\" font-family=\"sans-serif\" font-size=\"14\" font-style=\"italic\" lengthAdjust=\"spacingAndGlyphs\" textLength=\"111\" x=\"286\" y=\"301.9951\">«accept action»</text><text fill=\"#000000\" font-family=\"sans-serif\" font-size=\"14\" lengthAdjust=\"spacingAndGlyphs\" textLength=\"9\" x=\"337\" y=\"319.292\">S</text></a><!--MD5=[24d87cdf3002d433f401b2a2aa9f9f65]\n",
       "entity E6--><a href=\"psysml:18c53c10-a81a-4a73-8210-8be9c84ee198\" target=\"_top\" title=\"psysml:18c53c10-a81a-4a73-8210-8be9c84ee198\" xlink:actuate=\"onRequest\" xlink:href=\"psysml:18c53c10-a81a-4a73-8210-8be9c84ee198\" xlink:show=\"new\" xlink:title=\"psysml:18c53c10-a81a-4a73-8210-8be9c84ee198\" xlink:type=\"simple\"><polygon fill=\"#F8F8F8\" points=\"279,411,279,465.5938,387,465.5938,407,438.2969,387,411\" style=\"stroke: #000000; stroke-width: 1.5;\"/><text fill=\"#000000\" font-family=\"sans-serif\" font-size=\"14\" font-style=\"italic\" lengthAdjust=\"spacingAndGlyphs\" textLength=\"99\" x=\"286\" y=\"433.9951\">«send action»</text><text fill=\"#000000\" font-family=\"sans-serif\" font-size=\"14\" lengthAdjust=\"spacingAndGlyphs\" textLength=\"55\" x=\"308\" y=\"451.292\">S to  B()</text></a><polygon fill=\"#F8F8F8\" points=\"418,527,430,539,418,551,406,539,418,527\" style=\"stroke: #383838; stroke-width: 1.5;\"/><ellipse cx=\"420\" cy=\"110\" fill=\"#000000\" rx=\"10\" ry=\"10\" style=\"stroke: none; stroke-width: 1.0;\"/><ellipse cx=\"418\" cy=\"622\" fill=\"none\" rx=\"10\" ry=\"10\" style=\"stroke: #000000; stroke-width: 1.0;\"/><ellipse cx=\"418.5\" cy=\"622.5\" fill=\"#000000\" rx=\"6\" ry=\"6\" style=\"stroke: none; stroke-width: 1.0;\"/><g id=\"E1.E8\"><a href=\"psysml:a720c396-7a8e-4250-b133-b38e5d5b0a71\" target=\"_top\" title=\"psysml:a720c396-7a8e-4250-b133-b38e5d5b0a71\" xlink:actuate=\"onRequest\" xlink:href=\"psysml:a720c396-7a8e-4250-b133-b38e5d5b0a71\" xlink:show=\"new\" xlink:title=\"psysml:a720c396-7a8e-4250-b133-b38e5d5b0a71\" xlink:type=\"simple\"><rect fill=\"#FFFFFF\" height=\"42.9375\" id=\"E8\" style=\"stroke: #383838; stroke-width: 1.5;\" width=\"84\" x=\"32\" y=\"88.5\"/><rect fill=\"#F8F8F8\" height=\"37.9375\" style=\"stroke: #383838; stroke-width: 1.5;\" width=\"84\" x=\"32\" y=\"88.5\"/><text fill=\"#000000\" font-family=\"sans-serif\" font-size=\"12\" font-style=\"italic\" lengthAdjust=\"spacingAndGlyphs\" textLength=\"77\" x=\"35.5\" y=\"104.6387\">«action def»</text><text fill=\"#000000\" font-family=\"sans-serif\" font-size=\"12\" lengthAdjust=\"spacingAndGlyphs\" textLength=\"8\" x=\"70\" y=\"118.6074\">B</text></a></g><!--MD5=[f47e10efcf9a6752d55dae986d790ed9]\n",
       "link *start*E3 to E4--><a href=\"psysml:3eb4ae89-c3fe-4a5c-9996-6c16dc90e291\" target=\"_top\" title=\"psysml:3eb4ae89-c3fe-4a5c-9996-6c16dc90e291\" xlink:actuate=\"onRequest\" xlink:href=\"psysml:3eb4ae89-c3fe-4a5c-9996-6c16dc90e291\" xlink:show=\"new\" xlink:title=\"psysml:3eb4ae89-c3fe-4a5c-9996-6c16dc90e291\" xlink:type=\"simple\"><path d=\"M420,120.01 C420,135.81 420,168.69 420,188.61 \" fill=\"none\" id=\"*start*E3-&gt;E4\" style=\"stroke: #383838; stroke-width: 1.0;\"/><polygon fill=\"#383838\" points=\"420,193.85,424,184.85,420,188.85,416,184.85,420,193.85\" style=\"stroke: #383838; stroke-width: 1.0;\"/></a><!--MD5=[d19f2eb34364d71b67042106d92f540b]\n",
       "link E7 to *end*E3--><a href=\"psysml:529019b4-f7b3-445e-a809-123fd999bfb3\" target=\"_top\" title=\"psysml:529019b4-f7b3-445e-a809-123fd999bfb3\" xlink:actuate=\"onRequest\" xlink:href=\"psysml:529019b4-f7b3-445e-a809-123fd999bfb3\" xlink:show=\"new\" xlink:title=\"psysml:529019b4-f7b3-445e-a809-123fd999bfb3\" xlink:type=\"simple\"><path d=\"M418,551.26 C418,565.66 418,590.63 418,606.46 \" fill=\"none\" id=\"E7-&gt;*end*E3\" style=\"stroke: #383838; stroke-width: 1.0;\"/><polygon fill=\"#383838\" points=\"418,611.84,422,602.84,418,606.84,414,602.84,418,611.84\" style=\"stroke: #383838; stroke-width: 1.0;\"/></a><!--MD5=[1b7591eae5389033d8d09a9d6721a717]\n",
       "link E4 to E5--><a href=\"psysml:252a1c6c-cc00-403d-ac29-1241d1eee0ca\" target=\"_top\" title=\"psysml:252a1c6c-cc00-403d-ac29-1241d1eee0ca\" xlink:actuate=\"onRequest\" xlink:href=\"psysml:252a1c6c-cc00-403d-ac29-1241d1eee0ca\" xlink:show=\"new\" xlink:title=\"psysml:252a1c6c-cc00-403d-ac29-1241d1eee0ca\" xlink:type=\"simple\"><path d=\"M415.34,213.46 C406.55,225.66 386.99,252.8 371.37,274.46 \" fill=\"none\" id=\"E4-&gt;E5\" style=\"stroke: #383838; stroke-width: 1.0;\"/><polygon fill=\"#383838\" points=\"368.31,278.71,376.8093,273.7339,371.227,274.6491,370.3119,269.0667,368.31,278.71\" style=\"stroke: #383838; stroke-width: 1.0;\"/></a><!--MD5=[9120cf2e5df3bff93db8f754bbbc09b4]\n",
       "link E5 to E6--><a href=\"psysml:52dd995d-9028-4157-9334-98b87c98e4ca\" target=\"_top\" title=\"psysml:52dd995d-9028-4157-9334-98b87c98e4ca\" xlink:actuate=\"onRequest\" xlink:href=\"psysml:52dd995d-9028-4157-9334-98b87c98e4ca\" xlink:show=\"new\" xlink:title=\"psysml:52dd995d-9028-4157-9334-98b87c98e4ca\" xlink:type=\"simple\"><path d=\"M347.77,334.12 C346.81,354.89 345.48,383.8 344.46,405.77 \" fill=\"none\" id=\"E5-&gt;E6\" style=\"stroke: #383838; stroke-width: 1.0;\"/><polygon fill=\"#383838\" points=\"344.23,410.91,348.6368,402.1021,344.4583,405.9152,340.6452,401.7367,344.23,410.91\" style=\"stroke: #383838; stroke-width: 1.0;\"/></a><!--MD5=[02c70b7c851c11e3980e4e90450dc5dd]\n",
       "link E6 to E7--><a href=\"psysml:11c1c086-8dd9-4b00-9ab5-dcf0da9e4b0f\" target=\"_top\" title=\"psysml:11c1c086-8dd9-4b00-9ab5-dcf0da9e4b0f\" xlink:actuate=\"onRequest\" xlink:href=\"psysml:11c1c086-8dd9-4b00-9ab5-dcf0da9e4b0f\" xlink:show=\"new\" xlink:title=\"psysml:11c1c086-8dd9-4b00-9ab5-dcf0da9e4b0f\" xlink:type=\"simple\"><path d=\"M363.3,466.16 C378.71,486.4 399.07,513.14 410.09,527.61 \" fill=\"none\" id=\"E6-&gt;E7\" style=\"stroke: #383838; stroke-width: 1.0;\"/><polygon fill=\"#383838\" points=\"413.2,531.69,410.9398,522.104,410.1749,527.7089,404.57,526.9441,413.2,531.69\" style=\"stroke: #383838; stroke-width: 1.0;\"/></a><!--MD5=[6bdd27f9905911a7e892a3dc65cf6b7c]\n",
       "link E7 to E4--><a href=\"psysml:9dbcc968-b81d-4000-b2fb-dcd38ad7dec8\" target=\"_top\" title=\"psysml:9dbcc968-b81d-4000-b2fb-dcd38ad7dec8\" xlink:actuate=\"onRequest\" xlink:href=\"psysml:9dbcc968-b81d-4000-b2fb-dcd38ad7dec8\" xlink:show=\"new\" xlink:title=\"psysml:9dbcc968-b81d-4000-b2fb-dcd38ad7dec8\" xlink:type=\"simple\"><path d=\"M419,527.68 C420.94,507.78 425,466 425,466 C425,466 437,334 437,334 C437,334 437,279 437,279 C437,279 428.27,242.03 423.32,221.07 \" fill=\"none\" id=\"E7-&gt;E4\" style=\"stroke: #383838; stroke-width: 1.0;\"/><polygon fill=\"#383838\" points=\"422.15,216.12,420.3382,225.8008,423.3055,220.9846,428.1217,223.9519,422.15,216.12\" style=\"stroke: #383838; stroke-width: 1.0;\"/><text fill=\"#000000\" font-family=\"sans-serif\" font-size=\"13\" lengthAdjust=\"spacingAndGlyphs\" textLength=\"36\" x=\"435\" y=\"377.0669\">[true]</text></a><!--MD5=[6b5fcb55fa2f33181c763ca4337fcd59]\n",
       "@startuml\r\n",
       "skinparam linetype polyline\r\n",
       "skinparam monochrome true\r\n",
       "skinparam classbackgroundcolor white\r\n",
       "skinparam shadowing false\r\n",
       "skinparam wrapWidth 300\r\n",
       "hide circle\r\n",
       "\r\n",
       "package \"ActionTest\" as E1  [[psysml:1b586630-6073-41f8-a31c-3b1021fd2d94 ]]  {\r\n",
       "comp def \"S\" as E2  <<(T,blue)attribute def>> [[psysml:ec6ecfb2-58e1-4e93-a57f-7fba141d91de ]] {\r\n",
       "}\r\n",
       "rec usage \"a\" as E3  <<(T,blue)action>> [[psysml:63b3e978-ff90-4127-8639-9e6714fb0371 ]] {\r\n",
       "choice \"m\" as E4  [[psysml:3c09e5e0-87ee-487d-a94c-d1481b887cf0 ]] \r\n",
       "accept \" S\" as E5 <<accept action>> [[psysml:12477b88-d1e3-4069-a82c-9614e3ee7843 ]] \r\n",
       "send \" S to  B()\" as E6 <<send action>> [[psysml:18c53c10-a81a-4a73-8210-8be9c84ee198 ]] \r\n",
       "choice \"noname\" as E7  [[psysml:e28bc343-f228-4c60-afee-7deafa85ddc3 ]] \r\n",
       "[*] - -> E4 [[psysml:3eb4ae89-c3fe-4a5c-9996-6c16dc90e291 ]] \r\n",
       "E7  - -> [*] [[psysml:529019b4-f7b3-445e-a809-123fd999bfb3 ]] \r\n",
       "}\r\n",
       "\r\n",
       "rec def \"B\" as E8  <<(T,blue)action def>> [[psysml:a720c396-7a8e-4250-b133-b38e5d5b0a71 ]] {\r\n",
       "}\r\n",
       "\r\n",
       "E4 - -> E5 [[psysml:252a1c6c-cc00-403d-ac29-1241d1eee0ca ]] \r\n",
       "E5 - -> E6 [[psysml:52dd995d-9028-4157-9334-98b87c98e4ca ]] \r\n",
       "E6 - -> E7 [[psysml:11c1c086-8dd9-4b00-9ab5-dcf0da9e4b0f ]] \r\n",
       "E7  - -> E4 [[psysml:9dbcc968-b81d-4000-b2fb-dcd38ad7dec8 ]] : [true]\r\n",
       "}\r\n",
       "@enduml\r\n",
       "\n",
       "PlantUML version 1.2020.13(Sat Jun 13 12:26:38 UTC 2020)\n",
       "(EPL source distribution)\n",
       "Java Runtime: OpenJDK Runtime Environment\n",
       "JVM: OpenJDK 64-Bit Server VM\n",
       "Default Encoding: UTF-8\n",
       "Language: en\n",
       "Country: null\n",
       "--></g></svg>"
      ]
     },
     "execution_count": 15,
     "metadata": {},
     "output_type": "execute_result"
    }
   ],
   "source": [
    "%viz --style=\"POLYLINE\" --view=\"MIXED\" \"ActionTest\""
   ]
  },
  {
   "cell_type": "code",
   "execution_count": 16,
   "id": "assured-northern",
   "metadata": {
    "execution": {
     "iopub.execute_input": "2021-03-25T14:11:40.085893Z",
     "iopub.status.busy": "2021-03-25T14:11:40.085038Z",
     "iopub.status.idle": "2021-03-25T14:11:40.249250Z",
     "shell.execute_reply": "2021-03-25T14:11:40.247487Z"
    }
   },
   "outputs": [
    {
     "data": {
      "image/svg+xml": [
       "<?xml version=\"1.0\" encoding=\"UTF-8\" standalone=\"no\"?><svg xmlns=\"http://www.w3.org/2000/svg\" xmlns:xlink=\"http://www.w3.org/1999/xlink\" contentScriptType=\"application/ecmascript\" contentStyleType=\"text/css\" height=\"378px\" preserveAspectRatio=\"none\" style=\"width:867px;height:378px;\" version=\"1.1\" viewBox=\"0 0 867 378\" width=\"867px\" zoomAndPan=\"magnify\"><defs/><g><!--MD5=[fbc87193dbaf4d95561dea2c320d4a47]\n",
       "cluster E1--><a href=\"psysml:1b586630-6073-41f8-a31c-3b1021fd2d94\" target=\"_top\" title=\"psysml:1b586630-6073-41f8-a31c-3b1021fd2d94\" xlink:actuate=\"onRequest\" xlink:href=\"psysml:1b586630-6073-41f8-a31c-3b1021fd2d94\" xlink:show=\"new\" xlink:title=\"psysml:1b586630-6073-41f8-a31c-3b1021fd2d94\" xlink:type=\"simple\"><polygon fill=\"#FFFFFF\" points=\"16,6,107,6,114,28.2969,845,28.2969,845,366,16,366,16,6\" style=\"stroke: #000000; stroke-width: 1.5;\"/><line style=\"stroke: #000000; stroke-width: 1.5;\" x1=\"16\" x2=\"114\" y1=\"28.2969\" y2=\"28.2969\"/><text fill=\"#000000\" font-family=\"sans-serif\" font-size=\"14\" font-weight=\"bold\" lengthAdjust=\"spacingAndGlyphs\" textLength=\"85\" x=\"20\" y=\"20.9951\">ActionTest</text></a><!--MD5=[d5e69f78d87373223dbae638b30a9c99]\n",
       "cluster E3--><a href=\"psysml:63b3e978-ff90-4127-8639-9e6714fb0371\" target=\"_top\" title=\"psysml:63b3e978-ff90-4127-8639-9e6714fb0371\" xlink:actuate=\"onRequest\" xlink:href=\"psysml:63b3e978-ff90-4127-8639-9e6714fb0371\" xlink:show=\"new\" xlink:title=\"psysml:63b3e978-ff90-4127-8639-9e6714fb0371\" xlink:type=\"simple\"><rect fill=\"#FFFFFF\" height=\"160\" id=\"E3\" rx=\"10\" ry=\"10\" style=\"stroke: #383838; stroke-width: 1.5;\" width=\"767.5\" x=\"53.5\" y=\"49\"/><rect fill=\"#F8F8F8\" height=\"37.9375\" rx=\"10\" ry=\"10\" style=\"stroke: #F8F8F8; stroke-width: 1.5;\" width=\"767.5\" x=\"53.5\" y=\"49\"/><rect fill=\"#F8F8F8\" height=\"10\" style=\"stroke: #F8F8F8; stroke-width: 1.5;\" width=\"767.5\" x=\"53.5\" y=\"76.9375\"/><rect fill=\"none\" height=\"160\" id=\"E3\" rx=\"10\" ry=\"10\" style=\"stroke: #383838; stroke-width: 1.5;\" width=\"767.5\" x=\"53.5\" y=\"49\"/><text fill=\"#000000\" font-family=\"sans-serif\" font-size=\"12\" font-style=\"italic\" lengthAdjust=\"spacingAndGlyphs\" textLength=\"53\" x=\"410.75\" y=\"65.1387\">«action»</text><text fill=\"#000000\" font-family=\"sans-serif\" font-size=\"12\" lengthAdjust=\"spacingAndGlyphs\" textLength=\"8\" x=\"433.25\" y=\"79.1074\">a</text><line style=\"stroke: #383838; stroke-width: 1.0;\" x1=\"53.5\" x2=\"821\" y1=\"86.9375\" y2=\"86.9375\"/></a><!--MD5=[b4997ac47864f28c2f74865a473b2911]\n",
       "class E2--><a href=\"psysml:ec6ecfb2-58e1-4e93-a57f-7fba141d91de\" target=\"_top\" title=\"psysml:ec6ecfb2-58e1-4e93-a57f-7fba141d91de\" xlink:actuate=\"onRequest\" xlink:href=\"psysml:ec6ecfb2-58e1-4e93-a57f-7fba141d91de\" xlink:show=\"new\" xlink:title=\"psysml:ec6ecfb2-58e1-4e93-a57f-7fba141d91de\" xlink:type=\"simple\"><rect fill=\"#FFFFFF\" height=\"45.9375\" id=\"E2\" style=\"stroke: #383838; stroke-width: 1.5;\" width=\"95\" x=\"32\" y=\"225\"/><text fill=\"#000000\" font-family=\"sans-serif\" font-size=\"12\" font-style=\"italic\" lengthAdjust=\"spacingAndGlyphs\" textLength=\"93\" x=\"33\" y=\"241.1387\">«attribute def»</text><text fill=\"#000000\" font-family=\"sans-serif\" font-size=\"12\" lengthAdjust=\"spacingAndGlyphs\" textLength=\"8\" x=\"75.5\" y=\"255.1074\">S</text><line style=\"stroke: #383838; stroke-width: 1.5;\" x1=\"33\" x2=\"126\" y1=\"262.9375\" y2=\"262.9375\"/></a><polygon fill=\"#F8F8F8\" points=\"200,114,212,126,200,138,188,126,200,114\" style=\"stroke: #383838; stroke-width: 1.5;\"/><!--MD5=[21dd76c19d33815960c0e92fef8f0eef]\n",
       "entity E5--><a href=\"psysml:12477b88-d1e3-4069-a82c-9614e3ee7843\" target=\"_top\" title=\"psysml:12477b88-d1e3-4069-a82c-9614e3ee7843\" xlink:actuate=\"onRequest\" xlink:href=\"psysml:12477b88-d1e3-4069-a82c-9614e3ee7843\" xlink:show=\"new\" xlink:title=\"psysml:12477b88-d1e3-4069-a82c-9614e3ee7843\" xlink:type=\"simple\"><polygon fill=\"#F8F8F8\" points=\"273,137.5,273,192.0938,413,192.0938,393,164.7969,413,137.5\" style=\"stroke: #000000; stroke-width: 1.5;\"/><text fill=\"#000000\" font-family=\"sans-serif\" font-size=\"14\" font-style=\"italic\" lengthAdjust=\"spacingAndGlyphs\" textLength=\"111\" x=\"280\" y=\"160.4951\">«accept action»</text><text fill=\"#000000\" font-family=\"sans-serif\" font-size=\"14\" lengthAdjust=\"spacingAndGlyphs\" textLength=\"9\" x=\"331\" y=\"177.792\">S</text></a><!--MD5=[24d87cdf3002d433f401b2a2aa9f9f65]\n",
       "entity E6--><a href=\"psysml:18c53c10-a81a-4a73-8210-8be9c84ee198\" target=\"_top\" title=\"psysml:18c53c10-a81a-4a73-8210-8be9c84ee198\" xlink:actuate=\"onRequest\" xlink:href=\"psysml:18c53c10-a81a-4a73-8210-8be9c84ee198\" xlink:show=\"new\" xlink:title=\"psysml:18c53c10-a81a-4a73-8210-8be9c84ee198\" xlink:type=\"simple\"><polygon fill=\"#F8F8F8\" points=\"511,137.5,511,192.0938,619,192.0938,639,164.7969,619,137.5\" style=\"stroke: #000000; stroke-width: 1.5;\"/><text fill=\"#000000\" font-family=\"sans-serif\" font-size=\"14\" font-style=\"italic\" lengthAdjust=\"spacingAndGlyphs\" textLength=\"99\" x=\"518\" y=\"160.4951\">«send action»</text><text fill=\"#000000\" font-family=\"sans-serif\" font-size=\"14\" lengthAdjust=\"spacingAndGlyphs\" textLength=\"55\" x=\"540\" y=\"177.792\">S to  B()</text></a><polygon fill=\"#F8F8F8\" points=\"712,114,724,126,712,138,700,126,712,114\" style=\"stroke: #383838; stroke-width: 1.5;\"/><ellipse cx=\"79.5\" cy=\"126\" fill=\"#000000\" rx=\"10\" ry=\"10\" style=\"stroke: none; stroke-width: 1.0;\"/><ellipse cx=\"795\" cy=\"126\" fill=\"none\" rx=\"10\" ry=\"10\" style=\"stroke: #000000; stroke-width: 1.0;\"/><ellipse cx=\"795.5\" cy=\"126.5\" fill=\"#000000\" rx=\"6\" ry=\"6\" style=\"stroke: none; stroke-width: 1.0;\"/><g id=\"E1.E8\"><a href=\"psysml:a720c396-7a8e-4250-b133-b38e5d5b0a71\" target=\"_top\" title=\"psysml:a720c396-7a8e-4250-b133-b38e5d5b0a71\" xlink:actuate=\"onRequest\" xlink:href=\"psysml:a720c396-7a8e-4250-b133-b38e5d5b0a71\" xlink:show=\"new\" xlink:title=\"psysml:a720c396-7a8e-4250-b133-b38e5d5b0a71\" xlink:type=\"simple\"><rect fill=\"#FFFFFF\" height=\"42.9375\" id=\"E8\" style=\"stroke: #383838; stroke-width: 1.5;\" width=\"84\" x=\"37.5\" y=\"306.5\"/><rect fill=\"#F8F8F8\" height=\"37.9375\" style=\"stroke: #383838; stroke-width: 1.5;\" width=\"84\" x=\"37.5\" y=\"306.5\"/><text fill=\"#000000\" font-family=\"sans-serif\" font-size=\"12\" font-style=\"italic\" lengthAdjust=\"spacingAndGlyphs\" textLength=\"77\" x=\"41\" y=\"322.6387\">«action def»</text><text fill=\"#000000\" font-family=\"sans-serif\" font-size=\"12\" lengthAdjust=\"spacingAndGlyphs\" textLength=\"8\" x=\"75.5\" y=\"336.6074\">B</text></a></g><!--MD5=[f47e10efcf9a6752d55dae986d790ed9]\n",
       "link *start*E3 to E4--><a href=\"psysml:3eb4ae89-c3fe-4a5c-9996-6c16dc90e291\" target=\"_top\" title=\"psysml:3eb4ae89-c3fe-4a5c-9996-6c16dc90e291\" xlink:actuate=\"onRequest\" xlink:href=\"psysml:3eb4ae89-c3fe-4a5c-9996-6c16dc90e291\" xlink:show=\"new\" xlink:title=\"psysml:3eb4ae89-c3fe-4a5c-9996-6c16dc90e291\" xlink:type=\"simple\"><path d=\"M89.8,126 C109.87,126 157.46,126 182.68,126 \" fill=\"none\" id=\"*start*E3-&gt;E4\" style=\"stroke: #383838; stroke-width: 1.0;\"/><polygon fill=\"#383838\" points=\"187.7,126,178.7,122,182.7,126,178.7,130,187.7,126\" style=\"stroke: #383838; stroke-width: 1.0;\"/></a><!--MD5=[d19f2eb34364d71b67042106d92f540b]\n",
       "link E7 to *end*E3--><a href=\"psysml:529019b4-f7b3-445e-a809-123fd999bfb3\" target=\"_top\" title=\"psysml:529019b4-f7b3-445e-a809-123fd999bfb3\" xlink:actuate=\"onRequest\" xlink:href=\"psysml:529019b4-f7b3-445e-a809-123fd999bfb3\" xlink:show=\"new\" xlink:title=\"psysml:529019b4-f7b3-445e-a809-123fd999bfb3\" xlink:type=\"simple\"><path d=\"M724.26,126 C738.66,126 763.63,126 779.46,126 \" fill=\"none\" id=\"E7-&gt;*end*E3\" style=\"stroke: #383838; stroke-width: 1.0;\"/><polygon fill=\"#383838\" points=\"784.84,126,775.84,122,779.84,126,775.84,130,784.84,126\" style=\"stroke: #383838; stroke-width: 1.0;\"/></a><!--MD5=[1b7591eae5389033d8d09a9d6721a717]\n",
       "link E4 to E5--><a href=\"psysml:252a1c6c-cc00-403d-ac29-1241d1eee0ca\" target=\"_top\" title=\"psysml:252a1c6c-cc00-403d-ac29-1241d1eee0ca\" xlink:actuate=\"onRequest\" xlink:href=\"psysml:252a1c6c-cc00-403d-ac29-1241d1eee0ca\" xlink:show=\"new\" xlink:title=\"psysml:252a1c6c-cc00-403d-ac29-1241d1eee0ca\" xlink:type=\"simple\"><path d=\"M209.82,128.44 C221.87,131.77 244.64,138.07 267.93,144.51 \" fill=\"none\" id=\"E4-&gt;E5\" style=\"stroke: #383838; stroke-width: 1.0;\"/><polygon fill=\"#383838\" points=\"272.9,145.89,265.2884,139.6399,268.0802,144.5599,263.1602,147.3517,272.9,145.89\" style=\"stroke: #383838; stroke-width: 1.0;\"/></a><!--MD5=[9120cf2e5df3bff93db8f754bbbc09b4]\n",
       "link E5 to E6--><a href=\"psysml:52dd995d-9028-4157-9334-98b87c98e4ca\" target=\"_top\" title=\"psysml:52dd995d-9028-4157-9334-98b87c98e4ca\" xlink:actuate=\"onRequest\" xlink:href=\"psysml:52dd995d-9028-4157-9334-98b87c98e4ca\" xlink:show=\"new\" xlink:title=\"psysml:52dd995d-9028-4157-9334-98b87c98e4ca\" xlink:type=\"simple\"><path d=\"M413.01,165 C442.4,165 476.6,165 505.89,165 \" fill=\"none\" id=\"E5-&gt;E6\" style=\"stroke: #383838; stroke-width: 1.0;\"/><polygon fill=\"#383838\" points=\"510.93,165,501.93,161,505.93,165,501.93,169,510.93,165\" style=\"stroke: #383838; stroke-width: 1.0;\"/></a><!--MD5=[02c70b7c851c11e3980e4e90450dc5dd]\n",
       "link E6 to E7--><a href=\"psysml:11c1c086-8dd9-4b00-9ab5-dcf0da9e4b0f\" target=\"_top\" title=\"psysml:11c1c086-8dd9-4b00-9ab5-dcf0da9e4b0f\" xlink:actuate=\"onRequest\" xlink:href=\"psysml:11c1c086-8dd9-4b00-9ab5-dcf0da9e4b0f\" xlink:show=\"new\" xlink:title=\"psysml:11c1c086-8dd9-4b00-9ab5-dcf0da9e4b0f\" xlink:type=\"simple\"><path d=\"M639.15,146.76 C660.96,140.46 683.38,133.98 697.25,129.97 \" fill=\"none\" id=\"E6-&gt;E7\" style=\"stroke: #383838; stroke-width: 1.0;\"/><polygon fill=\"#383838\" points=\"702.29,128.51,692.5337,127.1632,697.4862,129.8968,694.7526,134.8493,702.29,128.51\" style=\"stroke: #383838; stroke-width: 1.0;\"/></a><!--MD5=[6bdd27f9905911a7e892a3dc65cf6b7c]\n",
       "link E7 to E4--><a href=\"psysml:9dbcc968-b81d-4000-b2fb-dcd38ad7dec8\" target=\"_top\" title=\"psysml:9dbcc968-b81d-4000-b2fb-dcd38ad7dec8\" xlink:actuate=\"onRequest\" xlink:href=\"psysml:9dbcc968-b81d-4000-b2fb-dcd38ad7dec8\" xlink:show=\"new\" xlink:title=\"psysml:9dbcc968-b81d-4000-b2fb-dcd38ad7dec8\" xlink:type=\"simple\"><path d=\"M700.76,124.88 C686.82,123.41 661.06,120.92 639,120 C476.47,113.24 435.53,113.24 273,120 C253.36,120.82 230.77,122.88 216.22,124.36 \" fill=\"none\" id=\"E7-&gt;E4\" style=\"stroke: #383838; stroke-width: 1.0;\"/><polygon fill=\"#383838\" points=\"211.24,124.88,220.6038,127.9327,216.2135,124.3655,219.7806,119.9751,211.24,124.88\" style=\"stroke: #383838; stroke-width: 1.0;\"/><text fill=\"#000000\" font-family=\"sans-serif\" font-size=\"13\" lengthAdjust=\"spacingAndGlyphs\" textLength=\"36\" x=\"444\" y=\"111.0669\">[true]</text></a><!--MD5=[b8c85a65c1c28de39ccf408f9fccf8d4]\n",
       "@startuml\r\n",
       "left to right direction\r\n",
       "skinparam monochrome true\r\n",
       "skinparam classbackgroundcolor white\r\n",
       "skinparam shadowing false\r\n",
       "skinparam wrapWidth 300\r\n",
       "hide circle\r\n",
       "\r\n",
       "package \"ActionTest\" as E1  [[psysml:1b586630-6073-41f8-a31c-3b1021fd2d94 ]]  {\r\n",
       "comp def \"S\" as E2  <<(T,blue)attribute def>> [[psysml:ec6ecfb2-58e1-4e93-a57f-7fba141d91de ]] {\r\n",
       "}\r\n",
       "rec usage \"a\" as E3  <<(T,blue)action>> [[psysml:63b3e978-ff90-4127-8639-9e6714fb0371 ]] {\r\n",
       "choice \"m\" as E4  [[psysml:3c09e5e0-87ee-487d-a94c-d1481b887cf0 ]] \r\n",
       "accept \" S\" as E5 <<accept action>> [[psysml:12477b88-d1e3-4069-a82c-9614e3ee7843 ]] \r\n",
       "send \" S to  B()\" as E6 <<send action>> [[psysml:18c53c10-a81a-4a73-8210-8be9c84ee198 ]] \r\n",
       "choice \"noname\" as E7  [[psysml:e28bc343-f228-4c60-afee-7deafa85ddc3 ]] \r\n",
       "[*] - -> E4 [[psysml:3eb4ae89-c3fe-4a5c-9996-6c16dc90e291 ]] \r\n",
       "E7  - -> [*] [[psysml:529019b4-f7b3-445e-a809-123fd999bfb3 ]] \r\n",
       "}\r\n",
       "\r\n",
       "rec def \"B\" as E8  <<(T,blue)action def>> [[psysml:a720c396-7a8e-4250-b133-b38e5d5b0a71 ]] {\r\n",
       "}\r\n",
       "\r\n",
       "E4 - -> E5 [[psysml:252a1c6c-cc00-403d-ac29-1241d1eee0ca ]] \r\n",
       "E5 - -> E6 [[psysml:52dd995d-9028-4157-9334-98b87c98e4ca ]] \r\n",
       "E6 - -> E7 [[psysml:11c1c086-8dd9-4b00-9ab5-dcf0da9e4b0f ]] \r\n",
       "E7  - -> E4 [[psysml:9dbcc968-b81d-4000-b2fb-dcd38ad7dec8 ]] : [true]\r\n",
       "}\r\n",
       "@enduml\r\n",
       "\n",
       "PlantUML version 1.2020.13(Sat Jun 13 12:26:38 UTC 2020)\n",
       "(EPL source distribution)\n",
       "Java Runtime: OpenJDK Runtime Environment\n",
       "JVM: OpenJDK 64-Bit Server VM\n",
       "Default Encoding: UTF-8\n",
       "Language: en\n",
       "Country: null\n",
       "--></g></svg>"
      ]
     },
     "execution_count": 16,
     "metadata": {},
     "output_type": "execute_result"
    }
   ],
   "source": [
    "%viz --style=\"LR\" --view=\"Default\" \"ActionTest\""
   ]
  },
  {
   "cell_type": "code",
   "execution_count": 17,
   "id": "three-amino",
   "metadata": {
    "execution": {
     "iopub.execute_input": "2021-03-25T14:11:40.304793Z",
     "iopub.status.busy": "2021-03-25T14:11:40.304167Z",
     "iopub.status.idle": "2021-03-25T14:11:40.991530Z",
     "shell.execute_reply": "2021-03-25T14:11:40.989905Z"
    }
   },
   "outputs": [
    {
     "data": {
      "image/svg+xml": [
       "<?xml version=\"1.0\" encoding=\"UTF-8\" standalone=\"no\"?><svg xmlns=\"http://www.w3.org/2000/svg\" xmlns:xlink=\"http://www.w3.org/1999/xlink\" contentScriptType=\"application/ecmascript\" contentStyleType=\"text/css\" height=\"349px\" preserveAspectRatio=\"none\" style=\"width:230px;height:349px;\" version=\"1.1\" viewBox=\"0 0 230 349\" width=\"230px\" zoomAndPan=\"magnify\"><defs/><g><!--MD5=[fbc87193dbaf4d95561dea2c320d4a47]\n",
       "cluster E1--><a href=\"psysml:1b586630-6073-41f8-a31c-3b1021fd2d94\" target=\"_top\" title=\"psysml:1b586630-6073-41f8-a31c-3b1021fd2d94\" xlink:actuate=\"onRequest\" xlink:href=\"psysml:1b586630-6073-41f8-a31c-3b1021fd2d94\" xlink:show=\"new\" xlink:title=\"psysml:1b586630-6073-41f8-a31c-3b1021fd2d94\" xlink:type=\"simple\"><polygon fill=\"#FFFFFF\" points=\"16,6,107,6,114,28.2969,208,28.2969,208,337,16,337,16,6\" style=\"stroke: #000000; stroke-width: 1.5;\"/><line style=\"stroke: #000000; stroke-width: 1.5;\" x1=\"16\" x2=\"114\" y1=\"28.2969\" y2=\"28.2969\"/><text fill=\"#000000\" font-family=\"sans-serif\" font-size=\"14\" font-weight=\"bold\" lengthAdjust=\"spacingAndGlyphs\" textLength=\"85\" x=\"20\" y=\"20.9951\">ActionTest</text></a><!--MD5=[b4997ac47864f28c2f74865a473b2911]\n",
       "class E2--><a href=\"psysml:ec6ecfb2-58e1-4e93-a57f-7fba141d91de\" target=\"_top\" title=\"psysml:ec6ecfb2-58e1-4e93-a57f-7fba141d91de\" xlink:actuate=\"onRequest\" xlink:href=\"psysml:ec6ecfb2-58e1-4e93-a57f-7fba141d91de\" xlink:show=\"new\" xlink:title=\"psysml:ec6ecfb2-58e1-4e93-a57f-7fba141d91de\" xlink:type=\"simple\"><rect fill=\"#FFFFFF\" height=\"45.9375\" id=\"E2\" style=\"stroke: #383838; stroke-width: 1.5;\" width=\"95\" x=\"64.5\" y=\"41\"/><text fill=\"#000000\" font-family=\"sans-serif\" font-size=\"12\" font-style=\"italic\" lengthAdjust=\"spacingAndGlyphs\" textLength=\"93\" x=\"65.5\" y=\"57.1387\">«attribute def»</text><text fill=\"#000000\" font-family=\"sans-serif\" font-size=\"12\" lengthAdjust=\"spacingAndGlyphs\" textLength=\"8\" x=\"108\" y=\"71.1074\">S</text><line style=\"stroke: #383838; stroke-width: 1.5;\" x1=\"65.5\" x2=\"158.5\" y1=\"78.9375\" y2=\"78.9375\"/></a><!--MD5=[09b614a08d8cba4a07c9adeb5e0fee81]\n",
       "class E3--><a href=\"psysml:63b3e978-ff90-4127-8639-9e6714fb0371\" target=\"_top\" title=\"psysml:63b3e978-ff90-4127-8639-9e6714fb0371\" xlink:actuate=\"onRequest\" xlink:href=\"psysml:63b3e978-ff90-4127-8639-9e6714fb0371\" xlink:show=\"new\" xlink:title=\"psysml:63b3e978-ff90-4127-8639-9e6714fb0371\" xlink:type=\"simple\"><rect fill=\"#FFFFFF\" height=\"117.9609\" id=\"E3\" rx=\"10\" ry=\"10\" style=\"stroke: #383838; stroke-width: 1.5;\" width=\"160\" x=\"32\" y=\"122\"/><text fill=\"#000000\" font-family=\"sans-serif\" font-size=\"12\" font-style=\"italic\" lengthAdjust=\"spacingAndGlyphs\" textLength=\"53\" x=\"85.5\" y=\"138.1387\">«action»</text><text fill=\"#000000\" font-family=\"sans-serif\" font-size=\"12\" lengthAdjust=\"spacingAndGlyphs\" textLength=\"8\" x=\"108\" y=\"152.1074\">a</text><line style=\"stroke: #383838; stroke-width: 1.5;\" x1=\"33\" x2=\"191\" y1=\"159.9375\" y2=\"159.9375\"/><text fill=\"#000000\" font-family=\"sans-serif\" font-size=\"11\" lengthAdjust=\"spacingAndGlyphs\" textLength=\"69\" x=\"38\" y=\"190.9526\">start: Action</text><text fill=\"#000000\" font-family=\"sans-serif\" font-size=\"11\" font-style=\"italic\" lengthAdjust=\"spacingAndGlyphs\" textLength=\"148\" x=\"38\" y=\"203.7573\">:&gt;&gt;Occurrence::startShot</text><line style=\"stroke: #383838; stroke-width: 1.0;\" x1=\"33\" x2=\"91.5\" y1=\"174.3398\" y2=\"174.3398\"/><text fill=\"#000000\" font-family=\"sans-serif\" font-size=\"11\" lengthAdjust=\"spacingAndGlyphs\" textLength=\"41\" x=\"91.5\" y=\"177.6479\">actions</text><line style=\"stroke: #383838; stroke-width: 1.0;\" x1=\"132.5\" x2=\"191\" y1=\"174.3398\" y2=\"174.3398\"/><text fill=\"#000000\" font-family=\"sans-serif\" font-size=\"11\" lengthAdjust=\"spacingAndGlyphs\" textLength=\"11\" x=\"38\" y=\"233.3667\">m</text><line style=\"stroke: #383838; stroke-width: 1.0;\" x1=\"33\" x2=\"75.5\" y1=\"216.7539\" y2=\"216.7539\"/><text fill=\"#000000\" font-family=\"sans-serif\" font-size=\"11\" lengthAdjust=\"spacingAndGlyphs\" textLength=\"73\" x=\"75.5\" y=\"220.062\">mergeNodes</text><line style=\"stroke: #383838; stroke-width: 1.0;\" x1=\"148.5\" x2=\"191\" y1=\"216.7539\" y2=\"216.7539\"/></a><!--MD5=[60a26617385b1d2d0262a64233df1f8d]\n",
       "class E6--><a href=\"psysml:a720c396-7a8e-4250-b133-b38e5d5b0a71\" target=\"_top\" title=\"psysml:a720c396-7a8e-4250-b133-b38e5d5b0a71\" xlink:actuate=\"onRequest\" xlink:href=\"psysml:a720c396-7a8e-4250-b133-b38e5d5b0a71\" xlink:show=\"new\" xlink:title=\"psysml:a720c396-7a8e-4250-b133-b38e5d5b0a71\" xlink:type=\"simple\"><rect fill=\"#FFFFFF\" height=\"45.9375\" id=\"E6\" style=\"stroke: #383838; stroke-width: 1.5;\" width=\"79\" x=\"72.5\" y=\"275\"/><text fill=\"#000000\" font-family=\"sans-serif\" font-size=\"12\" font-style=\"italic\" lengthAdjust=\"spacingAndGlyphs\" textLength=\"77\" x=\"73.5\" y=\"291.1387\">«action def»</text><text fill=\"#000000\" font-family=\"sans-serif\" font-size=\"12\" lengthAdjust=\"spacingAndGlyphs\" textLength=\"8\" x=\"108\" y=\"305.1074\">B</text><line style=\"stroke: #383838; stroke-width: 1.5;\" x1=\"73.5\" x2=\"150.5\" y1=\"312.9375\" y2=\"312.9375\"/></a><!--MD5=[2b6b1b9652ccf74a949060909685e5d5]\n",
       "@startuml\r\n",
       "left to right direction\r\n",
       "skinparam monochrome true\r\n",
       "skinparam classbackgroundcolor white\r\n",
       "skinparam shadowing false\r\n",
       "skinparam wrapWidth 300\r\n",
       "hide circle\r\n",
       "\r\n",
       "package \"ActionTest\" as E1  [[psysml:1b586630-6073-41f8-a31c-3b1021fd2d94 ]]  {\r\n",
       "comp def \"S\" as E2  <<(T,blue)attribute def>> [[psysml:ec6ecfb2-58e1-4e93-a57f-7fba141d91de ]] {\r\n",
       "}\r\n",
       "comp usage \"a\" as E3  <<(T,blue)action>> [[psysml:63b3e978-ff90-4127-8639-9e6714fb0371 ]] {\r\n",
       "- - actions - -\r\n",
       "start: Action\\n//:>>Occurrence::startShot// \r\n",
       "- - mergeNodes - -\r\n",
       "m\r\n",
       "}\r\n",
       "comp def \"B\" as E6  <<(T,blue)action def>> [[psysml:a720c396-7a8e-4250-b133-b38e5d5b0a71 ]] {\r\n",
       "}\r\n",
       "}\r\n",
       "@enduml\r\n",
       "\n",
       "PlantUML version 1.2020.13(Sat Jun 13 12:26:38 UTC 2020)\n",
       "(EPL source distribution)\n",
       "Java Runtime: OpenJDK Runtime Environment\n",
       "JVM: OpenJDK 64-Bit Server VM\n",
       "Default Encoding: UTF-8\n",
       "Language: en\n",
       "Country: null\n",
       "--></g></svg>"
      ]
     },
     "execution_count": 17,
     "metadata": {},
     "output_type": "execute_result"
    }
   ],
   "source": [
    "%viz --style=\"LR\" --view=\"Tree\" \"ActionTest\""
   ]
  },
  {
   "cell_type": "code",
   "execution_count": 18,
   "id": "herbal-worst",
   "metadata": {
    "execution": {
     "iopub.execute_input": "2021-03-25T14:11:41.043301Z",
     "iopub.status.busy": "2021-03-25T14:11:41.042625Z",
     "iopub.status.idle": "2021-03-25T14:11:41.051465Z",
     "shell.execute_reply": "2021-03-25T14:11:41.051863Z"
    }
   },
   "outputs": [
    {
     "data": {
      "image/svg+xml": [
       "<?xml version=\"1.0\" encoding=\"UTF-8\" standalone=\"no\"?><svg xmlns=\"http://www.w3.org/2000/svg\" xmlns:xlink=\"http://www.w3.org/1999/xlink\" contentScriptType=\"application/ecmascript\" contentStyleType=\"text/css\" height=\"12px\" preserveAspectRatio=\"none\" style=\"width:12px;height:12px;\" version=\"1.1\" viewBox=\"0 0 12 12\" width=\"12px\" zoomAndPan=\"magnify\"><defs/><g><!--MD5=[19d285c9d72a204eba4e2cd117d745e8]\n",
       "@startuml\r\n",
       "left to right direction\r\n",
       "skinparam monochrome true\r\n",
       "skinparam classbackgroundcolor white\r\n",
       "skinparam shadowing false\r\n",
       "skinparam wrapWidth 300\r\n",
       "hide circle\r\n",
       "\r\n",
       "@enduml\r\n",
       "\n",
       "PlantUML version 1.2020.13(Sat Jun 13 12:26:38 UTC 2020)\n",
       "(EPL source distribution)\n",
       "Java Runtime: OpenJDK Runtime Environment\n",
       "JVM: OpenJDK 64-Bit Server VM\n",
       "Default Encoding: UTF-8\n",
       "Language: en\n",
       "Country: null\n",
       "--></g></svg>"
      ]
     },
     "execution_count": 18,
     "metadata": {},
     "output_type": "execute_result"
    }
   ],
   "source": [
    "%viz --style=\"LR\" --view=\"State\" \"ActionTest\""
   ]
  },
  {
   "cell_type": "code",
   "execution_count": 19,
   "id": "strange-latin",
   "metadata": {
    "execution": {
     "iopub.execute_input": "2021-03-25T14:11:41.104491Z",
     "iopub.status.busy": "2021-03-25T14:11:41.103745Z",
     "iopub.status.idle": "2021-03-25T14:11:41.271752Z",
     "shell.execute_reply": "2021-03-25T14:11:41.270158Z"
    }
   },
   "outputs": [
    {
     "data": {
      "image/svg+xml": [
       "<?xml version=\"1.0\" encoding=\"UTF-8\" standalone=\"no\"?><svg xmlns=\"http://www.w3.org/2000/svg\" xmlns:xlink=\"http://www.w3.org/1999/xlink\" contentScriptType=\"application/ecmascript\" contentStyleType=\"text/css\" height=\"375px\" preserveAspectRatio=\"none\" style=\"width:652px;height:375px;\" version=\"1.1\" viewBox=\"0 0 652 375\" width=\"652px\" zoomAndPan=\"magnify\"><defs/><g><!--MD5=[fbc87193dbaf4d95561dea2c320d4a47]\n",
       "cluster E1--><a href=\"psysml:1b586630-6073-41f8-a31c-3b1021fd2d94\" target=\"_top\" title=\"psysml:1b586630-6073-41f8-a31c-3b1021fd2d94\" xlink:actuate=\"onRequest\" xlink:href=\"psysml:1b586630-6073-41f8-a31c-3b1021fd2d94\" xlink:show=\"new\" xlink:title=\"psysml:1b586630-6073-41f8-a31c-3b1021fd2d94\" xlink:type=\"simple\"><polygon fill=\"#FFFFFF\" points=\"16,6,107,6,114,28.2969,630,28.2969,630,363,16,363,16,6\" style=\"stroke: #000000; stroke-width: 1.5;\"/><line style=\"stroke: #000000; stroke-width: 1.5;\" x1=\"16\" x2=\"114\" y1=\"28.2969\" y2=\"28.2969\"/><text fill=\"#000000\" font-family=\"sans-serif\" font-size=\"14\" font-weight=\"bold\" lengthAdjust=\"spacingAndGlyphs\" textLength=\"85\" x=\"20\" y=\"20.9951\">ActionTest</text></a><!--MD5=[d5e69f78d87373223dbae638b30a9c99]\n",
       "cluster E3--><a href=\"psysml:63b3e978-ff90-4127-8639-9e6714fb0371\" target=\"_top\" title=\"psysml:63b3e978-ff90-4127-8639-9e6714fb0371\" xlink:actuate=\"onRequest\" xlink:href=\"psysml:63b3e978-ff90-4127-8639-9e6714fb0371\" xlink:show=\"new\" xlink:title=\"psysml:63b3e978-ff90-4127-8639-9e6714fb0371\" xlink:type=\"simple\"><rect fill=\"#FFFFFF\" height=\"160\" id=\"E3\" rx=\"10\" ry=\"10\" style=\"stroke: #383838; stroke-width: 1.5;\" width=\"550\" x=\"56\" y=\"49\"/><rect fill=\"#F8F8F8\" height=\"37.9375\" rx=\"10\" ry=\"10\" style=\"stroke: #F8F8F8; stroke-width: 1.5;\" width=\"550\" x=\"56\" y=\"49\"/><rect fill=\"#F8F8F8\" height=\"10\" style=\"stroke: #F8F8F8; stroke-width: 1.5;\" width=\"550\" x=\"56\" y=\"76.9375\"/><rect fill=\"none\" height=\"160\" id=\"E3\" rx=\"10\" ry=\"10\" style=\"stroke: #383838; stroke-width: 1.5;\" width=\"550\" x=\"56\" y=\"49\"/><text fill=\"#000000\" font-family=\"sans-serif\" font-size=\"12\" font-style=\"italic\" lengthAdjust=\"spacingAndGlyphs\" textLength=\"53\" x=\"304.5\" y=\"65.1387\">«action»</text><text fill=\"#000000\" font-family=\"sans-serif\" font-size=\"12\" lengthAdjust=\"spacingAndGlyphs\" textLength=\"8\" x=\"327\" y=\"79.1074\">a</text><line style=\"stroke: #383838; stroke-width: 1.0;\" x1=\"56\" x2=\"606\" y1=\"86.9375\" y2=\"86.9375\"/></a><g id=\"E1.E2\"><a href=\"psysml:ec6ecfb2-58e1-4e93-a57f-7fba141d91de\" target=\"_top\" title=\"psysml:ec6ecfb2-58e1-4e93-a57f-7fba141d91de\" xlink:actuate=\"onRequest\" xlink:href=\"psysml:ec6ecfb2-58e1-4e93-a57f-7fba141d91de\" xlink:show=\"new\" xlink:title=\"psysml:ec6ecfb2-58e1-4e93-a57f-7fba141d91de\" xlink:type=\"simple\"><rect fill=\"#FFFFFF\" height=\"42.9375\" id=\"E2\" style=\"stroke: #383838; stroke-width: 1.5;\" width=\"100\" x=\"32\" y=\"225.5\"/><rect fill=\"#F8F8F8\" height=\"37.9375\" style=\"stroke: #383838; stroke-width: 1.5;\" width=\"100\" x=\"32\" y=\"225.5\"/><text fill=\"#000000\" font-family=\"sans-serif\" font-size=\"12\" font-style=\"italic\" lengthAdjust=\"spacingAndGlyphs\" textLength=\"93\" x=\"35.5\" y=\"241.6387\">«attribute def»</text><text fill=\"#000000\" font-family=\"sans-serif\" font-size=\"12\" lengthAdjust=\"spacingAndGlyphs\" textLength=\"8\" x=\"78\" y=\"255.6074\">S</text></a></g><polygon fill=\"#F8F8F8\" points=\"161,114,173,126,161,138,149,126,161,114\" style=\"stroke: #383838; stroke-width: 1.5;\"/><!--MD5=[21dd76c19d33815960c0e92fef8f0eef]\n",
       "entity E5--><a href=\"psysml:12477b88-d1e3-4069-a82c-9614e3ee7843\" target=\"_top\" title=\"psysml:12477b88-d1e3-4069-a82c-9614e3ee7843\" xlink:actuate=\"onRequest\" xlink:href=\"psysml:12477b88-d1e3-4069-a82c-9614e3ee7843\" xlink:show=\"new\" xlink:title=\"psysml:12477b88-d1e3-4069-a82c-9614e3ee7843\" xlink:type=\"simple\"><polygon fill=\"#F8F8F8\" points=\"190,137.5,190,192.0938,330,192.0938,310,164.7969,330,137.5\" style=\"stroke: #000000; stroke-width: 1.5;\"/><text fill=\"#000000\" font-family=\"sans-serif\" font-size=\"14\" font-style=\"italic\" lengthAdjust=\"spacingAndGlyphs\" textLength=\"111\" x=\"197\" y=\"160.4951\">«accept action»</text><text fill=\"#000000\" font-family=\"sans-serif\" font-size=\"14\" lengthAdjust=\"spacingAndGlyphs\" textLength=\"9\" x=\"248\" y=\"177.792\">S</text></a><!--MD5=[24d87cdf3002d433f401b2a2aa9f9f65]\n",
       "entity E6--><a href=\"psysml:18c53c10-a81a-4a73-8210-8be9c84ee198\" target=\"_top\" title=\"psysml:18c53c10-a81a-4a73-8210-8be9c84ee198\" xlink:actuate=\"onRequest\" xlink:href=\"psysml:18c53c10-a81a-4a73-8210-8be9c84ee198\" xlink:show=\"new\" xlink:title=\"psysml:18c53c10-a81a-4a73-8210-8be9c84ee198\" xlink:type=\"simple\"><polygon fill=\"#F8F8F8\" points=\"384,137.5,384,192.0938,492,192.0938,512,164.7969,492,137.5\" style=\"stroke: #000000; stroke-width: 1.5;\"/><text fill=\"#000000\" font-family=\"sans-serif\" font-size=\"14\" font-style=\"italic\" lengthAdjust=\"spacingAndGlyphs\" textLength=\"99\" x=\"391\" y=\"160.4951\">«send action»</text><text fill=\"#000000\" font-family=\"sans-serif\" font-size=\"14\" lengthAdjust=\"spacingAndGlyphs\" textLength=\"55\" x=\"413\" y=\"177.792\">S to  B()</text></a><polygon fill=\"#F8F8F8\" points=\"541,114,553,126,541,138,529,126,541,114\" style=\"stroke: #383838; stroke-width: 1.5;\"/><ellipse cx=\"82\" cy=\"126\" fill=\"#000000\" rx=\"10\" ry=\"10\" style=\"stroke: none; stroke-width: 1.0;\"/><ellipse cx=\"580\" cy=\"126\" fill=\"none\" rx=\"10\" ry=\"10\" style=\"stroke: #000000; stroke-width: 1.0;\"/><ellipse cx=\"580.5\" cy=\"126.5\" fill=\"#000000\" rx=\"6\" ry=\"6\" style=\"stroke: none; stroke-width: 1.0;\"/><g id=\"E1.E8\"><a href=\"psysml:a720c396-7a8e-4250-b133-b38e5d5b0a71\" target=\"_top\" title=\"psysml:a720c396-7a8e-4250-b133-b38e5d5b0a71\" xlink:actuate=\"onRequest\" xlink:href=\"psysml:a720c396-7a8e-4250-b133-b38e5d5b0a71\" xlink:show=\"new\" xlink:title=\"psysml:a720c396-7a8e-4250-b133-b38e5d5b0a71\" xlink:type=\"simple\"><rect fill=\"#FFFFFF\" height=\"42.9375\" id=\"E8\" style=\"stroke: #383838; stroke-width: 1.5;\" width=\"84\" x=\"40\" y=\"303.5\"/><rect fill=\"#F8F8F8\" height=\"37.9375\" style=\"stroke: #383838; stroke-width: 1.5;\" width=\"84\" x=\"40\" y=\"303.5\"/><text fill=\"#000000\" font-family=\"sans-serif\" font-size=\"12\" font-style=\"italic\" lengthAdjust=\"spacingAndGlyphs\" textLength=\"77\" x=\"43.5\" y=\"319.6387\">«action def»</text><text fill=\"#000000\" font-family=\"sans-serif\" font-size=\"12\" lengthAdjust=\"spacingAndGlyphs\" textLength=\"8\" x=\"78\" y=\"333.6074\">B</text></a></g><!--MD5=[f47e10efcf9a6752d55dae986d790ed9]\n",
       "link *start*E3 to E4--><a href=\"psysml:3eb4ae89-c3fe-4a5c-9996-6c16dc90e291\" target=\"_top\" title=\"psysml:3eb4ae89-c3fe-4a5c-9996-6c16dc90e291\" xlink:actuate=\"onRequest\" xlink:href=\"psysml:3eb4ae89-c3fe-4a5c-9996-6c16dc90e291\" xlink:show=\"new\" xlink:title=\"psysml:3eb4ae89-c3fe-4a5c-9996-6c16dc90e291\" xlink:type=\"simple\"><path d=\"M92.14,126 C104.88,126 128.18,126 143.88,126 \" fill=\"none\" id=\"*start*E3-&gt;E4\" style=\"stroke: #383838; stroke-width: 1.0;\"/><polygon fill=\"#383838\" points=\"148.89,126,139.89,122,143.89,126,139.89,130,148.89,126\" style=\"stroke: #383838; stroke-width: 1.0;\"/></a><!--MD5=[d19f2eb34364d71b67042106d92f540b]\n",
       "link E7 to *end*E3--><a href=\"psysml:529019b4-f7b3-445e-a809-123fd999bfb3\" target=\"_top\" title=\"psysml:529019b4-f7b3-445e-a809-123fd999bfb3\" xlink:actuate=\"onRequest\" xlink:href=\"psysml:529019b4-f7b3-445e-a809-123fd999bfb3\" xlink:show=\"new\" xlink:title=\"psysml:529019b4-f7b3-445e-a809-123fd999bfb3\" xlink:type=\"simple\"><path d=\"M553.3,126 C556.84,126 560.8,126 564.53,126 \" fill=\"none\" id=\"E7-&gt;*end*E3\" style=\"stroke: #383838; stroke-width: 1.0;\"/><polygon fill=\"#383838\" points=\"569.75,126,560.75,122,564.75,126,560.75,130,569.75,126\" style=\"stroke: #383838; stroke-width: 1.0;\"/></a><!--MD5=[1b7591eae5389033d8d09a9d6721a717]\n",
       "link E4 to E5--><a href=\"psysml:252a1c6c-cc00-403d-ac29-1241d1eee0ca\" target=\"_top\" title=\"psysml:252a1c6c-cc00-403d-ac29-1241d1eee0ca\" xlink:actuate=\"onRequest\" xlink:href=\"psysml:252a1c6c-cc00-403d-ac29-1241d1eee0ca\" xlink:show=\"new\" xlink:title=\"psysml:252a1c6c-cc00-403d-ac29-1241d1eee0ca\" xlink:type=\"simple\"><path d=\"M169.94,129.19 C174.05,130.84 179.5,133.04 185.7,135.53 \" fill=\"none\" id=\"E4-&gt;E5\" style=\"stroke: #383838; stroke-width: 1.0;\"/><polygon fill=\"#383838\" points=\"190.57,137.49,183.7068,130.4263,185.9296,135.6281,180.7278,137.8509,190.57,137.49\" style=\"stroke: #383838; stroke-width: 1.0;\"/></a><!--MD5=[9120cf2e5df3bff93db8f754bbbc09b4]\n",
       "link E5 to E6--><a href=\"psysml:52dd995d-9028-4157-9334-98b87c98e4ca\" target=\"_top\" title=\"psysml:52dd995d-9028-4157-9334-98b87c98e4ca\" xlink:actuate=\"onRequest\" xlink:href=\"psysml:52dd995d-9028-4157-9334-98b87c98e4ca\" xlink:show=\"new\" xlink:title=\"psysml:52dd995d-9028-4157-9334-98b87c98e4ca\" xlink:type=\"simple\"><path d=\"M330.26,165 C346.03,165 362.79,165 378.53,165 \" fill=\"none\" id=\"E5-&gt;E6\" style=\"stroke: #383838; stroke-width: 1.0;\"/><polygon fill=\"#383838\" points=\"383.83,165,374.83,161,378.83,165,374.83,169,383.83,165\" style=\"stroke: #383838; stroke-width: 1.0;\"/></a><!--MD5=[02c70b7c851c11e3980e4e90450dc5dd]\n",
       "link E6 to E7--><a href=\"psysml:11c1c086-8dd9-4b00-9ab5-dcf0da9e4b0f\" target=\"_top\" title=\"psysml:11c1c086-8dd9-4b00-9ab5-dcf0da9e4b0f\" xlink:actuate=\"onRequest\" xlink:href=\"psysml:11c1c086-8dd9-4b00-9ab5-dcf0da9e4b0f\" xlink:show=\"new\" xlink:title=\"psysml:11c1c086-8dd9-4b00-9ab5-dcf0da9e4b0f\" xlink:type=\"simple\"><path d=\"M512.2,137.91 C517.78,135.52 522.94,133.31 527.26,131.46 \" fill=\"none\" id=\"E6-&gt;E7\" style=\"stroke: #383838; stroke-width: 1.0;\"/><polygon fill=\"#383838\" points=\"531.92,129.46,522.072,129.3287,527.3243,131.4296,525.2234,136.6819,531.92,129.46\" style=\"stroke: #383838; stroke-width: 1.0;\"/></a><!--MD5=[6bdd27f9905911a7e892a3dc65cf6b7c]\n",
       "link E7 to E4--><a href=\"psysml:9dbcc968-b81d-4000-b2fb-dcd38ad7dec8\" target=\"_top\" title=\"psysml:9dbcc968-b81d-4000-b2fb-dcd38ad7dec8\" xlink:actuate=\"onRequest\" xlink:href=\"psysml:9dbcc968-b81d-4000-b2fb-dcd38ad7dec8\" xlink:show=\"new\" xlink:title=\"psysml:9dbcc968-b81d-4000-b2fb-dcd38ad7dec8\" xlink:type=\"simple\"><path d=\"M531.25,123.63 C525.77,122.26 518.53,120.69 512,120 C369.69,104.92 332.31,104.92 190,120 C185.31,120.5 180.25,121.45 175.74,122.45 \" fill=\"none\" id=\"E7-&gt;E4\" style=\"stroke: #383838; stroke-width: 1.0;\"/><polygon fill=\"#383838\" points=\"170.75,123.63,180.4269,125.4623,175.6171,122.4848,178.5946,117.675,170.75,123.63\" style=\"stroke: #383838; stroke-width: 1.0;\"/><text fill=\"#000000\" font-family=\"sans-serif\" font-size=\"13\" lengthAdjust=\"spacingAndGlyphs\" textLength=\"36\" x=\"339\" y=\"105.0669\">[true]</text></a><!--MD5=[3bf4f76eb0e9ef53c3296816f913ea34]\n",
       "@startuml\r\n",
       "skinparam ranksep 10\r\n",
       "skinparam rectangle {\r\n",
       " backgroundColor<<block>> LightGreen\r\n",
       "}\r\n",
       "left to right direction\r\n",
       "skinparam monochrome true\r\n",
       "skinparam classbackgroundcolor white\r\n",
       "skinparam shadowing false\r\n",
       "skinparam wrapWidth 300\r\n",
       "hide circle\r\n",
       "\r\n",
       "package \"ActionTest\" as E1  [[psysml:1b586630-6073-41f8-a31c-3b1021fd2d94 ]]  {\r\n",
       "def \"S\" as E2  <<(T,blue)attribute def>> [[psysml:ec6ecfb2-58e1-4e93-a57f-7fba141d91de ]] \r\n",
       "rec usage \"a\" as E3  <<(T,blue)action>> [[psysml:63b3e978-ff90-4127-8639-9e6714fb0371 ]] {\r\n",
       "choice \"m\" as E4  [[psysml:3c09e5e0-87ee-487d-a94c-d1481b887cf0 ]] \r\n",
       "accept \" S\" as E5 <<accept action>> [[psysml:12477b88-d1e3-4069-a82c-9614e3ee7843 ]] \r\n",
       "send \" S to  B()\" as E6 <<send action>> [[psysml:18c53c10-a81a-4a73-8210-8be9c84ee198 ]] \r\n",
       "choice \"noname\" as E7  [[psysml:e28bc343-f228-4c60-afee-7deafa85ddc3 ]] \r\n",
       "[*] - -> E4 [[psysml:3eb4ae89-c3fe-4a5c-9996-6c16dc90e291 ]] \r\n",
       "E7  - -> [*] [[psysml:529019b4-f7b3-445e-a809-123fd999bfb3 ]] \r\n",
       "}\r\n",
       "\r\n",
       "rec def \"B\" as E8  <<(T,blue)action def>> [[psysml:a720c396-7a8e-4250-b133-b38e5d5b0a71 ]] {\r\n",
       "}\r\n",
       "\r\n",
       "E4 - -> E5 [[psysml:252a1c6c-cc00-403d-ac29-1241d1eee0ca ]] \r\n",
       "E5 - -> E6 [[psysml:52dd995d-9028-4157-9334-98b87c98e4ca ]] \r\n",
       "E6 - -> E7 [[psysml:11c1c086-8dd9-4b00-9ab5-dcf0da9e4b0f ]] \r\n",
       "E7  - -> E4 [[psysml:9dbcc968-b81d-4000-b2fb-dcd38ad7dec8 ]] : [true]\r\n",
       "}\r\n",
       "@enduml\r\n",
       "\n",
       "PlantUML version 1.2020.13(Sat Jun 13 12:26:38 UTC 2020)\n",
       "(EPL source distribution)\n",
       "Java Runtime: OpenJDK Runtime Environment\n",
       "JVM: OpenJDK 64-Bit Server VM\n",
       "Default Encoding: UTF-8\n",
       "Language: en\n",
       "Country: null\n",
       "--></g></svg>"
      ]
     },
     "execution_count": 19,
     "metadata": {},
     "output_type": "execute_result"
    }
   ],
   "source": [
    "%viz --style=\"LR\" --view=\"Interconnection\" \"ActionTest\""
   ]
  },
  {
   "cell_type": "code",
   "execution_count": 20,
   "id": "modified-transcription",
   "metadata": {
    "execution": {
     "iopub.execute_input": "2021-03-25T14:11:41.323618Z",
     "iopub.status.busy": "2021-03-25T14:11:41.322994Z",
     "iopub.status.idle": "2021-03-25T14:11:41.470157Z",
     "shell.execute_reply": "2021-03-25T14:11:41.470570Z"
    }
   },
   "outputs": [
    {
     "data": {
      "image/svg+xml": [
       "<?xml version=\"1.0\" encoding=\"UTF-8\" standalone=\"no\"?><svg xmlns=\"http://www.w3.org/2000/svg\" xmlns:xlink=\"http://www.w3.org/1999/xlink\" contentScriptType=\"application/ecmascript\" contentStyleType=\"text/css\" height=\"237px\" preserveAspectRatio=\"none\" style=\"width:577px;height:237px;\" version=\"1.1\" viewBox=\"0 0 577 237\" width=\"577px\" zoomAndPan=\"magnify\"><defs/><g><!--MD5=[fbc87193dbaf4d95561dea2c320d4a47]\n",
       "cluster E1--><a href=\"psysml:63b3e978-ff90-4127-8639-9e6714fb0371\" target=\"_top\" title=\"psysml:63b3e978-ff90-4127-8639-9e6714fb0371\" xlink:actuate=\"onRequest\" xlink:href=\"psysml:63b3e978-ff90-4127-8639-9e6714fb0371\" xlink:show=\"new\" xlink:title=\"psysml:63b3e978-ff90-4127-8639-9e6714fb0371\" xlink:type=\"simple\"><rect fill=\"#FFFFFF\" height=\"160\" id=\"E1\" rx=\"10\" ry=\"10\" style=\"stroke: #383838; stroke-width: 1.5;\" width=\"542\" x=\"23\" y=\"7\"/><rect fill=\"#F8F8F8\" height=\"37.9375\" rx=\"10\" ry=\"10\" style=\"stroke: #F8F8F8; stroke-width: 1.5;\" width=\"542\" x=\"23\" y=\"7\"/><rect fill=\"#F8F8F8\" height=\"10\" style=\"stroke: #F8F8F8; stroke-width: 1.5;\" width=\"542\" x=\"23\" y=\"34.9375\"/><rect fill=\"none\" height=\"160\" id=\"E1\" rx=\"10\" ry=\"10\" style=\"stroke: #383838; stroke-width: 1.5;\" width=\"542\" x=\"23\" y=\"7\"/><text fill=\"#000000\" font-family=\"sans-serif\" font-size=\"12\" font-style=\"italic\" lengthAdjust=\"spacingAndGlyphs\" textLength=\"53\" x=\"267.5\" y=\"23.1387\">«action»</text><text fill=\"#000000\" font-family=\"sans-serif\" font-size=\"12\" lengthAdjust=\"spacingAndGlyphs\" textLength=\"8\" x=\"290\" y=\"37.1074\">a</text><line style=\"stroke: #383838; stroke-width: 1.0;\" x1=\"23\" x2=\"565\" y1=\"44.9375\" y2=\"44.9375\"/></a><polygon fill=\"#F8F8F8\" points=\"120,72,132,84,120,96,108,84,120,72\" style=\"stroke: #383838; stroke-width: 1.5;\"/><!--MD5=[a60fb756f580feb9fd8e2cf1329b5c91]\n",
       "entity E3--><a href=\"psysml:12477b88-d1e3-4069-a82c-9614e3ee7843\" target=\"_top\" title=\"psysml:12477b88-d1e3-4069-a82c-9614e3ee7843\" xlink:actuate=\"onRequest\" xlink:href=\"psysml:12477b88-d1e3-4069-a82c-9614e3ee7843\" xlink:show=\"new\" xlink:title=\"psysml:12477b88-d1e3-4069-a82c-9614e3ee7843\" xlink:type=\"simple\"><polygon fill=\"#F8F8F8\" points=\"149,95.5,149,150.0938,289,150.0938,269,122.7969,289,95.5\" style=\"stroke: #000000; stroke-width: 1.5;\"/><text fill=\"#000000\" font-family=\"sans-serif\" font-size=\"14\" font-style=\"italic\" lengthAdjust=\"spacingAndGlyphs\" textLength=\"111\" x=\"156\" y=\"118.4951\">«accept action»</text><text fill=\"#000000\" font-family=\"sans-serif\" font-size=\"14\" lengthAdjust=\"spacingAndGlyphs\" textLength=\"9\" x=\"207\" y=\"135.792\">S</text></a><!--MD5=[961cefdc15414eaa3e87aec9d17c2188]\n",
       "entity E4--><a href=\"psysml:18c53c10-a81a-4a73-8210-8be9c84ee198\" target=\"_top\" title=\"psysml:18c53c10-a81a-4a73-8210-8be9c84ee198\" xlink:actuate=\"onRequest\" xlink:href=\"psysml:18c53c10-a81a-4a73-8210-8be9c84ee198\" xlink:show=\"new\" xlink:title=\"psysml:18c53c10-a81a-4a73-8210-8be9c84ee198\" xlink:type=\"simple\"><polygon fill=\"#F8F8F8\" points=\"343,95.5,343,150.0938,451,150.0938,471,122.7969,451,95.5\" style=\"stroke: #000000; stroke-width: 1.5;\"/><text fill=\"#000000\" font-family=\"sans-serif\" font-size=\"14\" font-style=\"italic\" lengthAdjust=\"spacingAndGlyphs\" textLength=\"99\" x=\"350\" y=\"118.4951\">«send action»</text><text fill=\"#000000\" font-family=\"sans-serif\" font-size=\"14\" lengthAdjust=\"spacingAndGlyphs\" textLength=\"55\" x=\"372\" y=\"135.792\">S to  B()</text></a><polygon fill=\"#F8F8F8\" points=\"500,72,512,84,500,96,488,84,500,72\" style=\"stroke: #383838; stroke-width: 1.5;\"/><ellipse cx=\"49\" cy=\"84\" fill=\"#000000\" rx=\"10\" ry=\"10\" style=\"stroke: none; stroke-width: 1.0;\"/><ellipse cx=\"539\" cy=\"84\" fill=\"none\" rx=\"10\" ry=\"10\" style=\"stroke: #000000; stroke-width: 1.0;\"/><ellipse cx=\"539.5\" cy=\"84.5\" fill=\"#000000\" rx=\"6\" ry=\"6\" style=\"stroke: none; stroke-width: 1.0;\"/><g id=\"E6\"><a href=\"psysml:a720c396-7a8e-4250-b133-b38e5d5b0a71\" target=\"_top\" title=\"psysml:a720c396-7a8e-4250-b133-b38e5d5b0a71\" xlink:actuate=\"onRequest\" xlink:href=\"psysml:a720c396-7a8e-4250-b133-b38e5d5b0a71\" xlink:show=\"new\" xlink:title=\"psysml:a720c396-7a8e-4250-b133-b38e5d5b0a71\" xlink:type=\"simple\"><rect fill=\"#FFFFFF\" height=\"42.9375\" id=\"E6\" style=\"stroke: #383838; stroke-width: 1.5;\" width=\"84\" x=\"7\" y=\"183.5\"/><rect fill=\"#F8F8F8\" height=\"37.9375\" style=\"stroke: #383838; stroke-width: 1.5;\" width=\"84\" x=\"7\" y=\"183.5\"/><text fill=\"#000000\" font-family=\"sans-serif\" font-size=\"12\" font-style=\"italic\" lengthAdjust=\"spacingAndGlyphs\" textLength=\"77\" x=\"10.5\" y=\"199.6387\">«action def»</text><text fill=\"#000000\" font-family=\"sans-serif\" font-size=\"12\" lengthAdjust=\"spacingAndGlyphs\" textLength=\"8\" x=\"45\" y=\"213.6074\">B</text></a></g><!--MD5=[cff944eb183b832d446717a4e202d613]\n",
       "link *start*E1 to E2--><a href=\"psysml:3eb4ae89-c3fe-4a5c-9996-6c16dc90e291\" target=\"_top\" title=\"psysml:3eb4ae89-c3fe-4a5c-9996-6c16dc90e291\" xlink:actuate=\"onRequest\" xlink:href=\"psysml:3eb4ae89-c3fe-4a5c-9996-6c16dc90e291\" xlink:show=\"new\" xlink:title=\"psysml:3eb4ae89-c3fe-4a5c-9996-6c16dc90e291\" xlink:type=\"simple\"><path d=\"M59.02,84 C70.11,84 89.15,84 102.8,84 \" fill=\"none\" id=\"*start*E1-&gt;E2\" style=\"stroke: #383838; stroke-width: 1.0; stroke-dasharray: 7.0,7.0;\"/><polygon fill=\"#383838\" points=\"107.92,84,98.92,80,102.92,84,98.92,88,107.92,84\" style=\"stroke: #383838; stroke-width: 1.0;\"/></a><!--MD5=[7fc47fc0d107820853a137871ad908c8]\n",
       "link E5 to *end*E1--><a href=\"psysml:529019b4-f7b3-445e-a809-123fd999bfb3\" target=\"_top\" title=\"psysml:529019b4-f7b3-445e-a809-123fd999bfb3\" xlink:actuate=\"onRequest\" xlink:href=\"psysml:529019b4-f7b3-445e-a809-123fd999bfb3\" xlink:show=\"new\" xlink:title=\"psysml:529019b4-f7b3-445e-a809-123fd999bfb3\" xlink:type=\"simple\"><path d=\"M512.3,84 C515.84,84 519.8,84 523.53,84 \" fill=\"none\" id=\"E5-&gt;*end*E1\" style=\"stroke: #383838; stroke-width: 1.0; stroke-dasharray: 7.0,7.0;\"/><polygon fill=\"#383838\" points=\"528.75,84,519.75,80,523.75,84,519.75,88,528.75,84\" style=\"stroke: #383838; stroke-width: 1.0;\"/></a><!--MD5=[2720a5a1f2c3fca2055b230370638851]\n",
       "link E2 to E3--><a href=\"psysml:252a1c6c-cc00-403d-ac29-1241d1eee0ca\" target=\"_top\" title=\"psysml:252a1c6c-cc00-403d-ac29-1241d1eee0ca\" xlink:actuate=\"onRequest\" xlink:href=\"psysml:252a1c6c-cc00-403d-ac29-1241d1eee0ca\" xlink:show=\"new\" xlink:title=\"psysml:252a1c6c-cc00-403d-ac29-1241d1eee0ca\" xlink:type=\"simple\"><path d=\"M128.94,87.19 C133.05,88.84 138.5,91.04 144.7,93.53 \" fill=\"none\" id=\"E2-&gt;E3\" style=\"stroke: #383838; stroke-width: 1.0; stroke-dasharray: 7.0,7.0;\"/><polygon fill=\"#383838\" points=\"149.57,95.49,142.7068,88.4263,144.9296,93.6281,139.7278,95.8509,149.57,95.49\" style=\"stroke: #383838; stroke-width: 1.0;\"/></a><!--MD5=[af87c684e3b0d8be13c1a698a818ef1e]\n",
       "link E3 to E4--><a href=\"psysml:52dd995d-9028-4157-9334-98b87c98e4ca\" target=\"_top\" title=\"psysml:52dd995d-9028-4157-9334-98b87c98e4ca\" xlink:actuate=\"onRequest\" xlink:href=\"psysml:52dd995d-9028-4157-9334-98b87c98e4ca\" xlink:show=\"new\" xlink:title=\"psysml:52dd995d-9028-4157-9334-98b87c98e4ca\" xlink:type=\"simple\"><path d=\"M289.26,123 C305.03,123 321.79,123 337.53,123 \" fill=\"none\" id=\"E3-&gt;E4\" style=\"stroke: #383838; stroke-width: 1.0; stroke-dasharray: 7.0,7.0;\"/><polygon fill=\"#383838\" points=\"342.83,123,333.83,119,337.83,123,333.83,127,342.83,123\" style=\"stroke: #383838; stroke-width: 1.0;\"/></a><!--MD5=[1b7591eae5389033d8d09a9d6721a717]\n",
       "link E4 to E5--><a href=\"psysml:11c1c086-8dd9-4b00-9ab5-dcf0da9e4b0f\" target=\"_top\" title=\"psysml:11c1c086-8dd9-4b00-9ab5-dcf0da9e4b0f\" xlink:actuate=\"onRequest\" xlink:href=\"psysml:11c1c086-8dd9-4b00-9ab5-dcf0da9e4b0f\" xlink:show=\"new\" xlink:title=\"psysml:11c1c086-8dd9-4b00-9ab5-dcf0da9e4b0f\" xlink:type=\"simple\"><path d=\"M471.2,95.91 C476.78,93.52 481.94,91.31 486.26,89.46 \" fill=\"none\" id=\"E4-&gt;E5\" style=\"stroke: #383838; stroke-width: 1.0; stroke-dasharray: 7.0,7.0;\"/><polygon fill=\"#383838\" points=\"490.92,87.46,481.072,87.3287,486.3243,89.4296,484.2234,94.6819,490.92,87.46\" style=\"stroke: #383838; stroke-width: 1.0;\"/></a><!--MD5=[15ebcb19ae302d9b601edb458606d402]\n",
       "link E5 to E2--><a href=\"psysml:9dbcc968-b81d-4000-b2fb-dcd38ad7dec8\" target=\"_top\" title=\"psysml:9dbcc968-b81d-4000-b2fb-dcd38ad7dec8\" xlink:actuate=\"onRequest\" xlink:href=\"psysml:9dbcc968-b81d-4000-b2fb-dcd38ad7dec8\" xlink:show=\"new\" xlink:title=\"psysml:9dbcc968-b81d-4000-b2fb-dcd38ad7dec8\" xlink:type=\"simple\"><path d=\"M490.25,81.63 C484.77,80.26 477.53,78.69 471,78 C328.69,62.92 291.31,62.92 149,78 C144.31,78.5 139.25,79.45 134.74,80.45 \" fill=\"none\" id=\"E5-&gt;E2\" style=\"stroke: #383838; stroke-width: 1.0; stroke-dasharray: 7.0,7.0;\"/><polygon fill=\"#383838\" points=\"129.75,81.63,139.4269,83.4623,134.6171,80.4848,137.5946,75.675,129.75,81.63\" style=\"stroke: #383838; stroke-width: 1.0;\"/><text fill=\"#000000\" font-family=\"sans-serif\" font-size=\"13\" lengthAdjust=\"spacingAndGlyphs\" textLength=\"36\" x=\"298\" y=\"63.0669\">[true]</text></a><!--MD5=[a39a94f45dacc058dbdaec379160a3ec]\n",
       "@startuml\r\n",
       "skinparam ranksep 8\r\n",
       "left to right direction\r\n",
       "skinparam monochrome true\r\n",
       "skinparam classbackgroundcolor white\r\n",
       "skinparam shadowing false\r\n",
       "skinparam wrapWidth 300\r\n",
       "hide circle\r\n",
       "\r\n",
       "rec usage \"a\" as E1  <<(T,blue)action>> [[psysml:63b3e978-ff90-4127-8639-9e6714fb0371 ]] {\r\n",
       "choice \"m\" as E2  [[psysml:3c09e5e0-87ee-487d-a94c-d1481b887cf0 ]] \r\n",
       "accept \" S\" as E3 <<accept action>> [[psysml:12477b88-d1e3-4069-a82c-9614e3ee7843 ]] \r\n",
       "send \" S to  B()\" as E4 <<send action>> [[psysml:18c53c10-a81a-4a73-8210-8be9c84ee198 ]] \r\n",
       "choice \"noname\" as E5  [[psysml:e28bc343-f228-4c60-afee-7deafa85ddc3 ]] \r\n",
       "[*] ..> E2 [[psysml:3eb4ae89-c3fe-4a5c-9996-6c16dc90e291 ]] \r\n",
       "E5 ..> [*] [[psysml:529019b4-f7b3-445e-a809-123fd999bfb3 ]] \r\n",
       "}\r\n",
       "\r\n",
       "E2 ..> E3 [[psysml:252a1c6c-cc00-403d-ac29-1241d1eee0ca ]] \r\n",
       "E3 ..> E4 [[psysml:52dd995d-9028-4157-9334-98b87c98e4ca ]] \r\n",
       "E4 ..> E5 [[psysml:11c1c086-8dd9-4b00-9ab5-dcf0da9e4b0f ]] \r\n",
       "E5 ..> E2 [[psysml:9dbcc968-b81d-4000-b2fb-dcd38ad7dec8 ]] : [true]\r\n",
       "rec def \"B\" as E6  <<(T,blue)action def>> [[psysml:a720c396-7a8e-4250-b133-b38e5d5b0a71 ]] {\r\n",
       "}\r\n",
       "\r\n",
       "@enduml\r\n",
       "\n",
       "PlantUML version 1.2020.13(Sat Jun 13 12:26:38 UTC 2020)\n",
       "(EPL source distribution)\n",
       "Java Runtime: OpenJDK Runtime Environment\n",
       "JVM: OpenJDK 64-Bit Server VM\n",
       "Default Encoding: UTF-8\n",
       "Language: en\n",
       "Country: null\n",
       "--></g></svg>"
      ]
     },
     "execution_count": 20,
     "metadata": {},
     "output_type": "execute_result"
    }
   ],
   "source": [
    "%viz --style=\"LR\" --view=\"Action\" \"ActionTest\""
   ]
  },
  {
   "cell_type": "code",
   "execution_count": 21,
   "id": "received-flavor",
   "metadata": {
    "execution": {
     "iopub.execute_input": "2021-03-25T14:11:41.520620Z",
     "iopub.status.busy": "2021-03-25T14:11:41.520243Z",
     "iopub.status.idle": "2021-03-25T14:11:42.202142Z",
     "shell.execute_reply": "2021-03-25T14:11:42.201700Z"
    }
   },
   "outputs": [
    {
     "data": {
      "image/svg+xml": [
       "<?xml version=\"1.0\" encoding=\"UTF-8\" standalone=\"no\"?><svg xmlns=\"http://www.w3.org/2000/svg\" xmlns:xlink=\"http://www.w3.org/1999/xlink\" contentScriptType=\"application/ecmascript\" contentStyleType=\"text/css\" height=\"349px\" preserveAspectRatio=\"none\" style=\"width:230px;height:349px;\" version=\"1.1\" viewBox=\"0 0 230 349\" width=\"230px\" zoomAndPan=\"magnify\"><defs/><g><!--MD5=[fbc87193dbaf4d95561dea2c320d4a47]\n",
       "cluster E1--><a href=\"psysml:1b586630-6073-41f8-a31c-3b1021fd2d94\" target=\"_top\" title=\"psysml:1b586630-6073-41f8-a31c-3b1021fd2d94\" xlink:actuate=\"onRequest\" xlink:href=\"psysml:1b586630-6073-41f8-a31c-3b1021fd2d94\" xlink:show=\"new\" xlink:title=\"psysml:1b586630-6073-41f8-a31c-3b1021fd2d94\" xlink:type=\"simple\"><polygon fill=\"#FFFFFF\" points=\"16,6,107,6,114,28.2969,208,28.2969,208,337,16,337,16,6\" style=\"stroke: #000000; stroke-width: 1.5;\"/><line style=\"stroke: #000000; stroke-width: 1.5;\" x1=\"16\" x2=\"114\" y1=\"28.2969\" y2=\"28.2969\"/><text fill=\"#000000\" font-family=\"sans-serif\" font-size=\"14\" font-weight=\"bold\" lengthAdjust=\"spacingAndGlyphs\" textLength=\"85\" x=\"20\" y=\"20.9951\">ActionTest</text></a><!--MD5=[b4997ac47864f28c2f74865a473b2911]\n",
       "class E2--><a href=\"psysml:ec6ecfb2-58e1-4e93-a57f-7fba141d91de\" target=\"_top\" title=\"psysml:ec6ecfb2-58e1-4e93-a57f-7fba141d91de\" xlink:actuate=\"onRequest\" xlink:href=\"psysml:ec6ecfb2-58e1-4e93-a57f-7fba141d91de\" xlink:show=\"new\" xlink:title=\"psysml:ec6ecfb2-58e1-4e93-a57f-7fba141d91de\" xlink:type=\"simple\"><rect fill=\"#FFFFFF\" height=\"45.9375\" id=\"E2\" style=\"stroke: #383838; stroke-width: 1.5;\" width=\"95\" x=\"64.5\" y=\"41\"/><text fill=\"#000000\" font-family=\"sans-serif\" font-size=\"12\" font-style=\"italic\" lengthAdjust=\"spacingAndGlyphs\" textLength=\"93\" x=\"65.5\" y=\"57.1387\">«attribute def»</text><text fill=\"#000000\" font-family=\"sans-serif\" font-size=\"12\" lengthAdjust=\"spacingAndGlyphs\" textLength=\"8\" x=\"108\" y=\"71.1074\">S</text><line style=\"stroke: #383838; stroke-width: 1.5;\" x1=\"65.5\" x2=\"158.5\" y1=\"78.9375\" y2=\"78.9375\"/></a><!--MD5=[09b614a08d8cba4a07c9adeb5e0fee81]\n",
       "class E3--><a href=\"psysml:63b3e978-ff90-4127-8639-9e6714fb0371\" target=\"_top\" title=\"psysml:63b3e978-ff90-4127-8639-9e6714fb0371\" xlink:actuate=\"onRequest\" xlink:href=\"psysml:63b3e978-ff90-4127-8639-9e6714fb0371\" xlink:show=\"new\" xlink:title=\"psysml:63b3e978-ff90-4127-8639-9e6714fb0371\" xlink:type=\"simple\"><rect fill=\"#FFFFFF\" height=\"117.9609\" id=\"E3\" rx=\"10\" ry=\"10\" style=\"stroke: #383838; stroke-width: 1.5;\" width=\"160\" x=\"32\" y=\"122\"/><text fill=\"#000000\" font-family=\"sans-serif\" font-size=\"12\" font-style=\"italic\" lengthAdjust=\"spacingAndGlyphs\" textLength=\"53\" x=\"85.5\" y=\"138.1387\">«action»</text><text fill=\"#000000\" font-family=\"sans-serif\" font-size=\"12\" lengthAdjust=\"spacingAndGlyphs\" textLength=\"8\" x=\"108\" y=\"152.1074\">a</text><line style=\"stroke: #383838; stroke-width: 1.5;\" x1=\"33\" x2=\"191\" y1=\"159.9375\" y2=\"159.9375\"/><text fill=\"#000000\" font-family=\"sans-serif\" font-size=\"11\" lengthAdjust=\"spacingAndGlyphs\" textLength=\"69\" x=\"38\" y=\"190.9526\">start: Action</text><text fill=\"#000000\" font-family=\"sans-serif\" font-size=\"11\" font-style=\"italic\" lengthAdjust=\"spacingAndGlyphs\" textLength=\"148\" x=\"38\" y=\"203.7573\">:&gt;&gt;Occurrence::startShot</text><line style=\"stroke: #383838; stroke-width: 1.0;\" x1=\"33\" x2=\"91.5\" y1=\"174.3398\" y2=\"174.3398\"/><text fill=\"#000000\" font-family=\"sans-serif\" font-size=\"11\" lengthAdjust=\"spacingAndGlyphs\" textLength=\"41\" x=\"91.5\" y=\"177.6479\">actions</text><line style=\"stroke: #383838; stroke-width: 1.0;\" x1=\"132.5\" x2=\"191\" y1=\"174.3398\" y2=\"174.3398\"/><text fill=\"#000000\" font-family=\"sans-serif\" font-size=\"11\" lengthAdjust=\"spacingAndGlyphs\" textLength=\"11\" x=\"38\" y=\"233.3667\">m</text><line style=\"stroke: #383838; stroke-width: 1.0;\" x1=\"33\" x2=\"75.5\" y1=\"216.7539\" y2=\"216.7539\"/><text fill=\"#000000\" font-family=\"sans-serif\" font-size=\"11\" lengthAdjust=\"spacingAndGlyphs\" textLength=\"73\" x=\"75.5\" y=\"220.062\">mergeNodes</text><line style=\"stroke: #383838; stroke-width: 1.0;\" x1=\"148.5\" x2=\"191\" y1=\"216.7539\" y2=\"216.7539\"/></a><!--MD5=[60a26617385b1d2d0262a64233df1f8d]\n",
       "class E6--><a href=\"psysml:a720c396-7a8e-4250-b133-b38e5d5b0a71\" target=\"_top\" title=\"psysml:a720c396-7a8e-4250-b133-b38e5d5b0a71\" xlink:actuate=\"onRequest\" xlink:href=\"psysml:a720c396-7a8e-4250-b133-b38e5d5b0a71\" xlink:show=\"new\" xlink:title=\"psysml:a720c396-7a8e-4250-b133-b38e5d5b0a71\" xlink:type=\"simple\"><rect fill=\"#FFFFFF\" height=\"45.9375\" id=\"E6\" style=\"stroke: #383838; stroke-width: 1.5;\" width=\"79\" x=\"72.5\" y=\"275\"/><text fill=\"#000000\" font-family=\"sans-serif\" font-size=\"12\" font-style=\"italic\" lengthAdjust=\"spacingAndGlyphs\" textLength=\"77\" x=\"73.5\" y=\"291.1387\">«action def»</text><text fill=\"#000000\" font-family=\"sans-serif\" font-size=\"12\" lengthAdjust=\"spacingAndGlyphs\" textLength=\"8\" x=\"108\" y=\"305.1074\">B</text><line style=\"stroke: #383838; stroke-width: 1.5;\" x1=\"73.5\" x2=\"150.5\" y1=\"312.9375\" y2=\"312.9375\"/></a><!--MD5=[2b6b1b9652ccf74a949060909685e5d5]\n",
       "@startuml\r\n",
       "left to right direction\r\n",
       "skinparam monochrome true\r\n",
       "skinparam classbackgroundcolor white\r\n",
       "skinparam shadowing false\r\n",
       "skinparam wrapWidth 300\r\n",
       "hide circle\r\n",
       "\r\n",
       "package \"ActionTest\" as E1  [[psysml:1b586630-6073-41f8-a31c-3b1021fd2d94 ]]  {\r\n",
       "comp def \"S\" as E2  <<(T,blue)attribute def>> [[psysml:ec6ecfb2-58e1-4e93-a57f-7fba141d91de ]] {\r\n",
       "}\r\n",
       "comp usage \"a\" as E3  <<(T,blue)action>> [[psysml:63b3e978-ff90-4127-8639-9e6714fb0371 ]] {\r\n",
       "- - actions - -\r\n",
       "start: Action\\n//:>>Occurrence::startShot// \r\n",
       "- - mergeNodes - -\r\n",
       "m\r\n",
       "}\r\n",
       "comp def \"B\" as E6  <<(T,blue)action def>> [[psysml:a720c396-7a8e-4250-b133-b38e5d5b0a71 ]] {\r\n",
       "}\r\n",
       "}\r\n",
       "@enduml\r\n",
       "\n",
       "PlantUML version 1.2020.13(Sat Jun 13 12:26:38 UTC 2020)\n",
       "(EPL source distribution)\n",
       "Java Runtime: OpenJDK Runtime Environment\n",
       "JVM: OpenJDK 64-Bit Server VM\n",
       "Default Encoding: UTF-8\n",
       "Language: en\n",
       "Country: null\n",
       "--></g></svg>"
      ]
     },
     "execution_count": 21,
     "metadata": {},
     "output_type": "execute_result"
    }
   ],
   "source": [
    "%viz --style=\"LR\" --view=\"Sequence\" \"ActionTest\""
   ]
  },
  {
   "cell_type": "code",
   "execution_count": 22,
   "id": "handy-dressing",
   "metadata": {
    "execution": {
     "iopub.execute_input": "2021-03-25T14:11:42.254584Z",
     "iopub.status.busy": "2021-03-25T14:11:42.253410Z",
     "iopub.status.idle": "2021-03-25T14:11:42.418837Z",
     "shell.execute_reply": "2021-03-25T14:11:42.418453Z"
    }
   },
   "outputs": [
    {
     "data": {
      "image/svg+xml": [
       "<?xml version=\"1.0\" encoding=\"UTF-8\" standalone=\"no\"?><svg xmlns=\"http://www.w3.org/2000/svg\" xmlns:xlink=\"http://www.w3.org/1999/xlink\" contentScriptType=\"application/ecmascript\" contentStyleType=\"text/css\" height=\"378px\" preserveAspectRatio=\"none\" style=\"width:867px;height:378px;\" version=\"1.1\" viewBox=\"0 0 867 378\" width=\"867px\" zoomAndPan=\"magnify\"><defs/><g><!--MD5=[fbc87193dbaf4d95561dea2c320d4a47]\n",
       "cluster E1--><a href=\"psysml:1b586630-6073-41f8-a31c-3b1021fd2d94\" target=\"_top\" title=\"psysml:1b586630-6073-41f8-a31c-3b1021fd2d94\" xlink:actuate=\"onRequest\" xlink:href=\"psysml:1b586630-6073-41f8-a31c-3b1021fd2d94\" xlink:show=\"new\" xlink:title=\"psysml:1b586630-6073-41f8-a31c-3b1021fd2d94\" xlink:type=\"simple\"><polygon fill=\"#FFFFFF\" points=\"16,6,107,6,114,28.2969,845,28.2969,845,366,16,366,16,6\" style=\"stroke: #000000; stroke-width: 1.5;\"/><line style=\"stroke: #000000; stroke-width: 1.5;\" x1=\"16\" x2=\"114\" y1=\"28.2969\" y2=\"28.2969\"/><text fill=\"#000000\" font-family=\"sans-serif\" font-size=\"14\" font-weight=\"bold\" lengthAdjust=\"spacingAndGlyphs\" textLength=\"85\" x=\"20\" y=\"20.9951\">ActionTest</text></a><!--MD5=[d5e69f78d87373223dbae638b30a9c99]\n",
       "cluster E3--><a href=\"psysml:63b3e978-ff90-4127-8639-9e6714fb0371\" target=\"_top\" title=\"psysml:63b3e978-ff90-4127-8639-9e6714fb0371\" xlink:actuate=\"onRequest\" xlink:href=\"psysml:63b3e978-ff90-4127-8639-9e6714fb0371\" xlink:show=\"new\" xlink:title=\"psysml:63b3e978-ff90-4127-8639-9e6714fb0371\" xlink:type=\"simple\"><rect fill=\"#FFFFFF\" height=\"160\" id=\"E3\" rx=\"10\" ry=\"10\" style=\"stroke: #383838; stroke-width: 1.5;\" width=\"767.5\" x=\"53.5\" y=\"49\"/><rect fill=\"#F8F8F8\" height=\"37.9375\" rx=\"10\" ry=\"10\" style=\"stroke: #F8F8F8; stroke-width: 1.5;\" width=\"767.5\" x=\"53.5\" y=\"49\"/><rect fill=\"#F8F8F8\" height=\"10\" style=\"stroke: #F8F8F8; stroke-width: 1.5;\" width=\"767.5\" x=\"53.5\" y=\"76.9375\"/><rect fill=\"none\" height=\"160\" id=\"E3\" rx=\"10\" ry=\"10\" style=\"stroke: #383838; stroke-width: 1.5;\" width=\"767.5\" x=\"53.5\" y=\"49\"/><text fill=\"#000000\" font-family=\"sans-serif\" font-size=\"12\" font-style=\"italic\" lengthAdjust=\"spacingAndGlyphs\" textLength=\"53\" x=\"410.75\" y=\"65.1387\">«action»</text><text fill=\"#000000\" font-family=\"sans-serif\" font-size=\"12\" lengthAdjust=\"spacingAndGlyphs\" textLength=\"8\" x=\"433.25\" y=\"79.1074\">a</text><line style=\"stroke: #383838; stroke-width: 1.0;\" x1=\"53.5\" x2=\"821\" y1=\"86.9375\" y2=\"86.9375\"/></a><!--MD5=[b4997ac47864f28c2f74865a473b2911]\n",
       "class E2--><a href=\"psysml:ec6ecfb2-58e1-4e93-a57f-7fba141d91de\" target=\"_top\" title=\"psysml:ec6ecfb2-58e1-4e93-a57f-7fba141d91de\" xlink:actuate=\"onRequest\" xlink:href=\"psysml:ec6ecfb2-58e1-4e93-a57f-7fba141d91de\" xlink:show=\"new\" xlink:title=\"psysml:ec6ecfb2-58e1-4e93-a57f-7fba141d91de\" xlink:type=\"simple\"><rect fill=\"#FFFFFF\" height=\"45.9375\" id=\"E2\" style=\"stroke: #383838; stroke-width: 1.5;\" width=\"95\" x=\"32\" y=\"225\"/><text fill=\"#000000\" font-family=\"sans-serif\" font-size=\"12\" font-style=\"italic\" lengthAdjust=\"spacingAndGlyphs\" textLength=\"93\" x=\"33\" y=\"241.1387\">«attribute def»</text><text fill=\"#000000\" font-family=\"sans-serif\" font-size=\"12\" lengthAdjust=\"spacingAndGlyphs\" textLength=\"8\" x=\"75.5\" y=\"255.1074\">S</text><line style=\"stroke: #383838; stroke-width: 1.5;\" x1=\"33\" x2=\"126\" y1=\"262.9375\" y2=\"262.9375\"/></a><polygon fill=\"#F8F8F8\" points=\"200,114,212,126,200,138,188,126,200,114\" style=\"stroke: #383838; stroke-width: 1.5;\"/><!--MD5=[21dd76c19d33815960c0e92fef8f0eef]\n",
       "entity E5--><a href=\"psysml:12477b88-d1e3-4069-a82c-9614e3ee7843\" target=\"_top\" title=\"psysml:12477b88-d1e3-4069-a82c-9614e3ee7843\" xlink:actuate=\"onRequest\" xlink:href=\"psysml:12477b88-d1e3-4069-a82c-9614e3ee7843\" xlink:show=\"new\" xlink:title=\"psysml:12477b88-d1e3-4069-a82c-9614e3ee7843\" xlink:type=\"simple\"><polygon fill=\"#F8F8F8\" points=\"273,137.5,273,192.0938,413,192.0938,393,164.7969,413,137.5\" style=\"stroke: #000000; stroke-width: 1.5;\"/><text fill=\"#000000\" font-family=\"sans-serif\" font-size=\"14\" font-style=\"italic\" lengthAdjust=\"spacingAndGlyphs\" textLength=\"111\" x=\"280\" y=\"160.4951\">«accept action»</text><text fill=\"#000000\" font-family=\"sans-serif\" font-size=\"14\" lengthAdjust=\"spacingAndGlyphs\" textLength=\"9\" x=\"331\" y=\"177.792\">S</text></a><!--MD5=[24d87cdf3002d433f401b2a2aa9f9f65]\n",
       "entity E6--><a href=\"psysml:18c53c10-a81a-4a73-8210-8be9c84ee198\" target=\"_top\" title=\"psysml:18c53c10-a81a-4a73-8210-8be9c84ee198\" xlink:actuate=\"onRequest\" xlink:href=\"psysml:18c53c10-a81a-4a73-8210-8be9c84ee198\" xlink:show=\"new\" xlink:title=\"psysml:18c53c10-a81a-4a73-8210-8be9c84ee198\" xlink:type=\"simple\"><polygon fill=\"#F8F8F8\" points=\"511,137.5,511,192.0938,619,192.0938,639,164.7969,619,137.5\" style=\"stroke: #000000; stroke-width: 1.5;\"/><text fill=\"#000000\" font-family=\"sans-serif\" font-size=\"14\" font-style=\"italic\" lengthAdjust=\"spacingAndGlyphs\" textLength=\"99\" x=\"518\" y=\"160.4951\">«send action»</text><text fill=\"#000000\" font-family=\"sans-serif\" font-size=\"14\" lengthAdjust=\"spacingAndGlyphs\" textLength=\"55\" x=\"540\" y=\"177.792\">S to  B()</text></a><polygon fill=\"#F8F8F8\" points=\"712,114,724,126,712,138,700,126,712,114\" style=\"stroke: #383838; stroke-width: 1.5;\"/><ellipse cx=\"79.5\" cy=\"126\" fill=\"#000000\" rx=\"10\" ry=\"10\" style=\"stroke: none; stroke-width: 1.0;\"/><ellipse cx=\"795\" cy=\"126\" fill=\"none\" rx=\"10\" ry=\"10\" style=\"stroke: #000000; stroke-width: 1.0;\"/><ellipse cx=\"795.5\" cy=\"126.5\" fill=\"#000000\" rx=\"6\" ry=\"6\" style=\"stroke: none; stroke-width: 1.0;\"/><g id=\"E1.E8\"><a href=\"psysml:a720c396-7a8e-4250-b133-b38e5d5b0a71\" target=\"_top\" title=\"psysml:a720c396-7a8e-4250-b133-b38e5d5b0a71\" xlink:actuate=\"onRequest\" xlink:href=\"psysml:a720c396-7a8e-4250-b133-b38e5d5b0a71\" xlink:show=\"new\" xlink:title=\"psysml:a720c396-7a8e-4250-b133-b38e5d5b0a71\" xlink:type=\"simple\"><rect fill=\"#FFFFFF\" height=\"42.9375\" id=\"E8\" style=\"stroke: #383838; stroke-width: 1.5;\" width=\"84\" x=\"37.5\" y=\"306.5\"/><rect fill=\"#F8F8F8\" height=\"37.9375\" style=\"stroke: #383838; stroke-width: 1.5;\" width=\"84\" x=\"37.5\" y=\"306.5\"/><text fill=\"#000000\" font-family=\"sans-serif\" font-size=\"12\" font-style=\"italic\" lengthAdjust=\"spacingAndGlyphs\" textLength=\"77\" x=\"41\" y=\"322.6387\">«action def»</text><text fill=\"#000000\" font-family=\"sans-serif\" font-size=\"12\" lengthAdjust=\"spacingAndGlyphs\" textLength=\"8\" x=\"75.5\" y=\"336.6074\">B</text></a></g><!--MD5=[f47e10efcf9a6752d55dae986d790ed9]\n",
       "link *start*E3 to E4--><a href=\"psysml:3eb4ae89-c3fe-4a5c-9996-6c16dc90e291\" target=\"_top\" title=\"psysml:3eb4ae89-c3fe-4a5c-9996-6c16dc90e291\" xlink:actuate=\"onRequest\" xlink:href=\"psysml:3eb4ae89-c3fe-4a5c-9996-6c16dc90e291\" xlink:show=\"new\" xlink:title=\"psysml:3eb4ae89-c3fe-4a5c-9996-6c16dc90e291\" xlink:type=\"simple\"><path d=\"M89.8,126 C109.87,126 157.46,126 182.68,126 \" fill=\"none\" id=\"*start*E3-&gt;E4\" style=\"stroke: #383838; stroke-width: 1.0;\"/><polygon fill=\"#383838\" points=\"187.7,126,178.7,122,182.7,126,178.7,130,187.7,126\" style=\"stroke: #383838; stroke-width: 1.0;\"/></a><!--MD5=[d19f2eb34364d71b67042106d92f540b]\n",
       "link E7 to *end*E3--><a href=\"psysml:529019b4-f7b3-445e-a809-123fd999bfb3\" target=\"_top\" title=\"psysml:529019b4-f7b3-445e-a809-123fd999bfb3\" xlink:actuate=\"onRequest\" xlink:href=\"psysml:529019b4-f7b3-445e-a809-123fd999bfb3\" xlink:show=\"new\" xlink:title=\"psysml:529019b4-f7b3-445e-a809-123fd999bfb3\" xlink:type=\"simple\"><path d=\"M724.26,126 C738.66,126 763.63,126 779.46,126 \" fill=\"none\" id=\"E7-&gt;*end*E3\" style=\"stroke: #383838; stroke-width: 1.0;\"/><polygon fill=\"#383838\" points=\"784.84,126,775.84,122,779.84,126,775.84,130,784.84,126\" style=\"stroke: #383838; stroke-width: 1.0;\"/></a><!--MD5=[1b7591eae5389033d8d09a9d6721a717]\n",
       "link E4 to E5--><a href=\"psysml:252a1c6c-cc00-403d-ac29-1241d1eee0ca\" target=\"_top\" title=\"psysml:252a1c6c-cc00-403d-ac29-1241d1eee0ca\" xlink:actuate=\"onRequest\" xlink:href=\"psysml:252a1c6c-cc00-403d-ac29-1241d1eee0ca\" xlink:show=\"new\" xlink:title=\"psysml:252a1c6c-cc00-403d-ac29-1241d1eee0ca\" xlink:type=\"simple\"><path d=\"M209.82,128.44 C221.87,131.77 244.64,138.07 267.93,144.51 \" fill=\"none\" id=\"E4-&gt;E5\" style=\"stroke: #383838; stroke-width: 1.0;\"/><polygon fill=\"#383838\" points=\"272.9,145.89,265.2884,139.6399,268.0802,144.5599,263.1602,147.3517,272.9,145.89\" style=\"stroke: #383838; stroke-width: 1.0;\"/></a><!--MD5=[9120cf2e5df3bff93db8f754bbbc09b4]\n",
       "link E5 to E6--><a href=\"psysml:52dd995d-9028-4157-9334-98b87c98e4ca\" target=\"_top\" title=\"psysml:52dd995d-9028-4157-9334-98b87c98e4ca\" xlink:actuate=\"onRequest\" xlink:href=\"psysml:52dd995d-9028-4157-9334-98b87c98e4ca\" xlink:show=\"new\" xlink:title=\"psysml:52dd995d-9028-4157-9334-98b87c98e4ca\" xlink:type=\"simple\"><path d=\"M413.01,165 C442.4,165 476.6,165 505.89,165 \" fill=\"none\" id=\"E5-&gt;E6\" style=\"stroke: #383838; stroke-width: 1.0;\"/><polygon fill=\"#383838\" points=\"510.93,165,501.93,161,505.93,165,501.93,169,510.93,165\" style=\"stroke: #383838; stroke-width: 1.0;\"/></a><!--MD5=[02c70b7c851c11e3980e4e90450dc5dd]\n",
       "link E6 to E7--><a href=\"psysml:11c1c086-8dd9-4b00-9ab5-dcf0da9e4b0f\" target=\"_top\" title=\"psysml:11c1c086-8dd9-4b00-9ab5-dcf0da9e4b0f\" xlink:actuate=\"onRequest\" xlink:href=\"psysml:11c1c086-8dd9-4b00-9ab5-dcf0da9e4b0f\" xlink:show=\"new\" xlink:title=\"psysml:11c1c086-8dd9-4b00-9ab5-dcf0da9e4b0f\" xlink:type=\"simple\"><path d=\"M639.15,146.76 C660.96,140.46 683.38,133.98 697.25,129.97 \" fill=\"none\" id=\"E6-&gt;E7\" style=\"stroke: #383838; stroke-width: 1.0;\"/><polygon fill=\"#383838\" points=\"702.29,128.51,692.5337,127.1632,697.4862,129.8968,694.7526,134.8493,702.29,128.51\" style=\"stroke: #383838; stroke-width: 1.0;\"/></a><!--MD5=[6bdd27f9905911a7e892a3dc65cf6b7c]\n",
       "link E7 to E4--><a href=\"psysml:9dbcc968-b81d-4000-b2fb-dcd38ad7dec8\" target=\"_top\" title=\"psysml:9dbcc968-b81d-4000-b2fb-dcd38ad7dec8\" xlink:actuate=\"onRequest\" xlink:href=\"psysml:9dbcc968-b81d-4000-b2fb-dcd38ad7dec8\" xlink:show=\"new\" xlink:title=\"psysml:9dbcc968-b81d-4000-b2fb-dcd38ad7dec8\" xlink:type=\"simple\"><path d=\"M700.76,124.88 C686.82,123.41 661.06,120.92 639,120 C476.47,113.24 435.53,113.24 273,120 C253.36,120.82 230.77,122.88 216.22,124.36 \" fill=\"none\" id=\"E7-&gt;E4\" style=\"stroke: #383838; stroke-width: 1.0;\"/><polygon fill=\"#383838\" points=\"211.24,124.88,220.6038,127.9327,216.2135,124.3655,219.7806,119.9751,211.24,124.88\" style=\"stroke: #383838; stroke-width: 1.0;\"/><text fill=\"#000000\" font-family=\"sans-serif\" font-size=\"13\" lengthAdjust=\"spacingAndGlyphs\" textLength=\"36\" x=\"444\" y=\"111.0669\">[true]</text></a><!--MD5=[b8c85a65c1c28de39ccf408f9fccf8d4]\n",
       "@startuml\r\n",
       "left to right direction\r\n",
       "skinparam monochrome true\r\n",
       "skinparam classbackgroundcolor white\r\n",
       "skinparam shadowing false\r\n",
       "skinparam wrapWidth 300\r\n",
       "hide circle\r\n",
       "\r\n",
       "package \"ActionTest\" as E1  [[psysml:1b586630-6073-41f8-a31c-3b1021fd2d94 ]]  {\r\n",
       "comp def \"S\" as E2  <<(T,blue)attribute def>> [[psysml:ec6ecfb2-58e1-4e93-a57f-7fba141d91de ]] {\r\n",
       "}\r\n",
       "rec usage \"a\" as E3  <<(T,blue)action>> [[psysml:63b3e978-ff90-4127-8639-9e6714fb0371 ]] {\r\n",
       "choice \"m\" as E4  [[psysml:3c09e5e0-87ee-487d-a94c-d1481b887cf0 ]] \r\n",
       "accept \" S\" as E5 <<accept action>> [[psysml:12477b88-d1e3-4069-a82c-9614e3ee7843 ]] \r\n",
       "send \" S to  B()\" as E6 <<send action>> [[psysml:18c53c10-a81a-4a73-8210-8be9c84ee198 ]] \r\n",
       "choice \"noname\" as E7  [[psysml:e28bc343-f228-4c60-afee-7deafa85ddc3 ]] \r\n",
       "[*] - -> E4 [[psysml:3eb4ae89-c3fe-4a5c-9996-6c16dc90e291 ]] \r\n",
       "E7  - -> [*] [[psysml:529019b4-f7b3-445e-a809-123fd999bfb3 ]] \r\n",
       "}\r\n",
       "\r\n",
       "rec def \"B\" as E8  <<(T,blue)action def>> [[psysml:a720c396-7a8e-4250-b133-b38e5d5b0a71 ]] {\r\n",
       "}\r\n",
       "\r\n",
       "E4 - -> E5 [[psysml:252a1c6c-cc00-403d-ac29-1241d1eee0ca ]] \r\n",
       "E5 - -> E6 [[psysml:52dd995d-9028-4157-9334-98b87c98e4ca ]] \r\n",
       "E6 - -> E7 [[psysml:11c1c086-8dd9-4b00-9ab5-dcf0da9e4b0f ]] \r\n",
       "E7  - -> E4 [[psysml:9dbcc968-b81d-4000-b2fb-dcd38ad7dec8 ]] : [true]\r\n",
       "}\r\n",
       "@enduml\r\n",
       "\n",
       "PlantUML version 1.2020.13(Sat Jun 13 12:26:38 UTC 2020)\n",
       "(EPL source distribution)\n",
       "Java Runtime: OpenJDK Runtime Environment\n",
       "JVM: OpenJDK 64-Bit Server VM\n",
       "Default Encoding: UTF-8\n",
       "Language: en\n",
       "Country: null\n",
       "--></g></svg>"
      ]
     },
     "execution_count": 22,
     "metadata": {},
     "output_type": "execute_result"
    }
   ],
   "source": [
    "%viz --style=\"LR\" --view=\"MIXED\" \"ActionTest\""
   ]
  },
  {
   "cell_type": "code",
   "execution_count": 23,
   "id": "bibliographic-stevens",
   "metadata": {
    "execution": {
     "iopub.execute_input": "2021-03-25T14:11:42.470929Z",
     "iopub.status.busy": "2021-03-25T14:11:42.470142Z",
     "iopub.status.idle": "2021-03-25T14:11:42.629661Z",
     "shell.execute_reply": "2021-03-25T14:11:42.629274Z"
    }
   },
   "outputs": [
    {
     "data": {
      "image/svg+xml": [
       "<?xml version=\"1.0\" encoding=\"UTF-8\" standalone=\"no\"?><svg xmlns=\"http://www.w3.org/2000/svg\" xmlns:xlink=\"http://www.w3.org/1999/xlink\" contentScriptType=\"application/ecmascript\" contentStyleType=\"text/css\" height=\"684px\" preserveAspectRatio=\"none\" style=\"width:518px;height:684px;\" version=\"1.1\" viewBox=\"0 0 518 684\" width=\"518px\" zoomAndPan=\"magnify\"><defs><filter height=\"300%\" id=\"f10u1inyg9cuzk\" width=\"300%\" x=\"-1\" y=\"-1\"><feGaussianBlur result=\"blurOut\" stdDeviation=\"2.0\"/><feColorMatrix in=\"blurOut\" result=\"blurOut2\" type=\"matrix\" values=\"0 0 0 0 0 0 0 0 0 0 0 0 0 0 0 0 0 0 .4 0\"/><feOffset dx=\"4.0\" dy=\"4.0\" in=\"blurOut2\" result=\"blurOut3\"/><feBlend in=\"SourceGraphic\" in2=\"blurOut3\" mode=\"normal\"/></filter></defs><g><!--MD5=[fbc87193dbaf4d95561dea2c320d4a47]\n",
       "cluster E1--><a href=\"psysml:1b586630-6073-41f8-a31c-3b1021fd2d94\" target=\"_top\" title=\"psysml:1b586630-6073-41f8-a31c-3b1021fd2d94\" xlink:actuate=\"onRequest\" xlink:href=\"psysml:1b586630-6073-41f8-a31c-3b1021fd2d94\" xlink:show=\"new\" xlink:title=\"psysml:1b586630-6073-41f8-a31c-3b1021fd2d94\" xlink:type=\"simple\"><polygon fill=\"#FFFFFF\" filter=\"url(#f10u1inyg9cuzk)\" points=\"16,6,107,6,114,28.2969,496,28.2969,496,672,16,672,16,6\" style=\"stroke: #000000; stroke-width: 1.5;\"/><line style=\"stroke: #000000; stroke-width: 1.5;\" x1=\"16\" x2=\"114\" y1=\"28.2969\" y2=\"28.2969\"/><text fill=\"#000000\" font-family=\"sans-serif\" font-size=\"14\" font-weight=\"bold\" lengthAdjust=\"spacingAndGlyphs\" textLength=\"85\" x=\"20\" y=\"20.9951\">ActionTest</text></a><!--MD5=[d5e69f78d87373223dbae638b30a9c99]\n",
       "cluster E3--><a href=\"psysml:63b3e978-ff90-4127-8639-9e6714fb0371\" target=\"_top\" title=\"psysml:63b3e978-ff90-4127-8639-9e6714fb0371\" xlink:actuate=\"onRequest\" xlink:href=\"psysml:63b3e978-ff90-4127-8639-9e6714fb0371\" xlink:show=\"new\" xlink:title=\"psysml:63b3e978-ff90-4127-8639-9e6714fb0371\" xlink:type=\"simple\"><rect fill=\"#FFFFFF\" filter=\"url(#f10u1inyg9cuzk)\" height=\"599\" id=\"E3\" rx=\"10\" ry=\"10\" style=\"stroke: #A80036; stroke-width: 1.5;\" width=\"209\" x=\"263\" y=\"49\"/><rect fill=\"#FEFECE\" height=\"37.9375\" rx=\"10\" ry=\"10\" style=\"stroke: #FEFECE; stroke-width: 1.5;\" width=\"209\" x=\"263\" y=\"49\"/><rect fill=\"#FEFECE\" height=\"10\" style=\"stroke: #FEFECE; stroke-width: 1.5;\" width=\"209\" x=\"263\" y=\"76.9375\"/><rect fill=\"none\" height=\"599\" id=\"E3\" rx=\"10\" ry=\"10\" style=\"stroke: #A80036; stroke-width: 1.5;\" width=\"209\" x=\"263\" y=\"49\"/><text fill=\"#000000\" font-family=\"sans-serif\" font-size=\"12\" font-style=\"italic\" lengthAdjust=\"spacingAndGlyphs\" textLength=\"53\" x=\"341\" y=\"65.1387\">«action»</text><text fill=\"#000000\" font-family=\"sans-serif\" font-size=\"12\" lengthAdjust=\"spacingAndGlyphs\" textLength=\"8\" x=\"363.5\" y=\"79.1074\">a</text><line style=\"stroke: #A80036; stroke-width: 1.0;\" x1=\"263\" x2=\"472\" y1=\"86.9375\" y2=\"86.9375\"/></a><!--MD5=[b4997ac47864f28c2f74865a473b2911]\n",
       "class E2--><a href=\"psysml:ec6ecfb2-58e1-4e93-a57f-7fba141d91de\" target=\"_top\" title=\"psysml:ec6ecfb2-58e1-4e93-a57f-7fba141d91de\" xlink:actuate=\"onRequest\" xlink:href=\"psysml:ec6ecfb2-58e1-4e93-a57f-7fba141d91de\" xlink:show=\"new\" xlink:title=\"psysml:ec6ecfb2-58e1-4e93-a57f-7fba141d91de\" xlink:type=\"simple\"><rect fill=\"#FEFECE\" filter=\"url(#f10u1inyg9cuzk)\" height=\"45.9375\" id=\"E2\" style=\"stroke: #A80036; stroke-width: 1.5;\" width=\"95\" x=\"151.5\" y=\"87\"/><text fill=\"#000000\" font-family=\"sans-serif\" font-size=\"12\" font-style=\"italic\" lengthAdjust=\"spacingAndGlyphs\" textLength=\"93\" x=\"152.5\" y=\"103.1387\">«attribute def»</text><text fill=\"#000000\" font-family=\"sans-serif\" font-size=\"12\" lengthAdjust=\"spacingAndGlyphs\" textLength=\"8\" x=\"195\" y=\"117.1074\">S</text><line style=\"stroke: #A80036; stroke-width: 1.5;\" x1=\"152.5\" x2=\"245.5\" y1=\"124.9375\" y2=\"124.9375\"/></a><polygon fill=\"#FEFECE\" filter=\"url(#f10u1inyg9cuzk)\" points=\"420,194,432,206,420,218,408,206,420,194\" style=\"stroke: #A80036; stroke-width: 1.5;\"/><!--MD5=[21dd76c19d33815960c0e92fef8f0eef]\n",
       "entity E5--><a href=\"psysml:12477b88-d1e3-4069-a82c-9614e3ee7843\" target=\"_top\" title=\"psysml:12477b88-d1e3-4069-a82c-9614e3ee7843\" xlink:actuate=\"onRequest\" xlink:href=\"psysml:12477b88-d1e3-4069-a82c-9614e3ee7843\" xlink:show=\"new\" xlink:title=\"psysml:12477b88-d1e3-4069-a82c-9614e3ee7843\" xlink:type=\"simple\"><polygon fill=\"#FEFECE\" filter=\"url(#f10u1inyg9cuzk)\" points=\"279,279,279,333.5938,419,333.5938,399,306.2969,419,279\" style=\"stroke: #000000; stroke-width: 1.5;\"/><text fill=\"#000000\" font-family=\"sans-serif\" font-size=\"14\" font-style=\"italic\" lengthAdjust=\"spacingAndGlyphs\" textLength=\"111\" x=\"286\" y=\"301.9951\">«accept action»</text><text fill=\"#000000\" font-family=\"sans-serif\" font-size=\"14\" lengthAdjust=\"spacingAndGlyphs\" textLength=\"9\" x=\"337\" y=\"319.292\">S</text></a><!--MD5=[24d87cdf3002d433f401b2a2aa9f9f65]\n",
       "entity E6--><a href=\"psysml:18c53c10-a81a-4a73-8210-8be9c84ee198\" target=\"_top\" title=\"psysml:18c53c10-a81a-4a73-8210-8be9c84ee198\" xlink:actuate=\"onRequest\" xlink:href=\"psysml:18c53c10-a81a-4a73-8210-8be9c84ee198\" xlink:show=\"new\" xlink:title=\"psysml:18c53c10-a81a-4a73-8210-8be9c84ee198\" xlink:type=\"simple\"><polygon fill=\"#FEFECE\" filter=\"url(#f10u1inyg9cuzk)\" points=\"279,411,279,465.5938,387,465.5938,407,438.2969,387,411\" style=\"stroke: #000000; stroke-width: 1.5;\"/><text fill=\"#000000\" font-family=\"sans-serif\" font-size=\"14\" font-style=\"italic\" lengthAdjust=\"spacingAndGlyphs\" textLength=\"99\" x=\"286\" y=\"433.9951\">«send action»</text><text fill=\"#000000\" font-family=\"sans-serif\" font-size=\"14\" lengthAdjust=\"spacingAndGlyphs\" textLength=\"55\" x=\"308\" y=\"451.292\">S to  B()</text></a><polygon fill=\"#FEFECE\" filter=\"url(#f10u1inyg9cuzk)\" points=\"418,527,430,539,418,551,406,539,418,527\" style=\"stroke: #A80036; stroke-width: 1.5;\"/><ellipse cx=\"420\" cy=\"110\" fill=\"#000000\" filter=\"url(#f10u1inyg9cuzk)\" rx=\"10\" ry=\"10\" style=\"stroke: none; stroke-width: 1.0;\"/><ellipse cx=\"418\" cy=\"622\" fill=\"none\" filter=\"url(#f10u1inyg9cuzk)\" rx=\"10\" ry=\"10\" style=\"stroke: #000000; stroke-width: 1.0;\"/><ellipse cx=\"418.5\" cy=\"622.5\" fill=\"#000000\" rx=\"6\" ry=\"6\" style=\"stroke: none; stroke-width: 1.0;\"/><g id=\"E1.E8\"><a href=\"psysml:a720c396-7a8e-4250-b133-b38e5d5b0a71\" target=\"_top\" title=\"psysml:a720c396-7a8e-4250-b133-b38e5d5b0a71\" xlink:actuate=\"onRequest\" xlink:href=\"psysml:a720c396-7a8e-4250-b133-b38e5d5b0a71\" xlink:show=\"new\" xlink:title=\"psysml:a720c396-7a8e-4250-b133-b38e5d5b0a71\" xlink:type=\"simple\"><rect fill=\"#FEFECE\" filter=\"url(#f10u1inyg9cuzk)\" height=\"42.9375\" id=\"E8\" style=\"stroke: #A80036; stroke-width: 1.5;\" width=\"84\" x=\"32\" y=\"88.5\"/><text fill=\"#000000\" font-family=\"sans-serif\" font-size=\"12\" font-style=\"italic\" lengthAdjust=\"spacingAndGlyphs\" textLength=\"77\" x=\"35.5\" y=\"104.6387\">«action def»</text><text fill=\"#000000\" font-family=\"sans-serif\" font-size=\"12\" lengthAdjust=\"spacingAndGlyphs\" textLength=\"8\" x=\"70\" y=\"118.6074\">B</text></a></g><!--MD5=[f47e10efcf9a6752d55dae986d790ed9]\n",
       "link *start*E3 to E4--><a href=\"psysml:3eb4ae89-c3fe-4a5c-9996-6c16dc90e291\" target=\"_top\" title=\"psysml:3eb4ae89-c3fe-4a5c-9996-6c16dc90e291\" xlink:actuate=\"onRequest\" xlink:href=\"psysml:3eb4ae89-c3fe-4a5c-9996-6c16dc90e291\" xlink:show=\"new\" xlink:title=\"psysml:3eb4ae89-c3fe-4a5c-9996-6c16dc90e291\" xlink:type=\"simple\"><path d=\"M420,120.01 C420,135.81 420,168.69 420,188.61 \" fill=\"none\" id=\"*start*E3-&gt;E4\" style=\"stroke: #A80036; stroke-width: 1.0;\"/><polygon fill=\"#A80036\" points=\"420,193.85,424,184.85,420,188.85,416,184.85,420,193.85\" style=\"stroke: #A80036; stroke-width: 1.0;\"/></a><!--MD5=[d19f2eb34364d71b67042106d92f540b]\n",
       "link E7 to *end*E3--><a href=\"psysml:529019b4-f7b3-445e-a809-123fd999bfb3\" target=\"_top\" title=\"psysml:529019b4-f7b3-445e-a809-123fd999bfb3\" xlink:actuate=\"onRequest\" xlink:href=\"psysml:529019b4-f7b3-445e-a809-123fd999bfb3\" xlink:show=\"new\" xlink:title=\"psysml:529019b4-f7b3-445e-a809-123fd999bfb3\" xlink:type=\"simple\"><path d=\"M418,551.26 C418,565.66 418,590.63 418,606.46 \" fill=\"none\" id=\"E7-&gt;*end*E3\" style=\"stroke: #A80036; stroke-width: 1.0;\"/><polygon fill=\"#A80036\" points=\"418,611.84,422,602.84,418,606.84,414,602.84,418,611.84\" style=\"stroke: #A80036; stroke-width: 1.0;\"/></a><!--MD5=[1b7591eae5389033d8d09a9d6721a717]\n",
       "link E4 to E5--><a href=\"psysml:252a1c6c-cc00-403d-ac29-1241d1eee0ca\" target=\"_top\" title=\"psysml:252a1c6c-cc00-403d-ac29-1241d1eee0ca\" xlink:actuate=\"onRequest\" xlink:href=\"psysml:252a1c6c-cc00-403d-ac29-1241d1eee0ca\" xlink:show=\"new\" xlink:title=\"psysml:252a1c6c-cc00-403d-ac29-1241d1eee0ca\" xlink:type=\"simple\"><path d=\"M415.34,213.46 C406.55,225.66 386.99,252.8 371.37,274.46 \" fill=\"none\" id=\"E4-&gt;E5\" style=\"stroke: #A80036; stroke-width: 1.0;\"/><polygon fill=\"#A80036\" points=\"368.31,278.71,376.8093,273.7339,371.227,274.6491,370.3119,269.0667,368.31,278.71\" style=\"stroke: #A80036; stroke-width: 1.0;\"/></a><!--MD5=[9120cf2e5df3bff93db8f754bbbc09b4]\n",
       "link E5 to E6--><a href=\"psysml:52dd995d-9028-4157-9334-98b87c98e4ca\" target=\"_top\" title=\"psysml:52dd995d-9028-4157-9334-98b87c98e4ca\" xlink:actuate=\"onRequest\" xlink:href=\"psysml:52dd995d-9028-4157-9334-98b87c98e4ca\" xlink:show=\"new\" xlink:title=\"psysml:52dd995d-9028-4157-9334-98b87c98e4ca\" xlink:type=\"simple\"><path d=\"M347.77,334.12 C346.81,354.89 345.48,383.8 344.46,405.77 \" fill=\"none\" id=\"E5-&gt;E6\" style=\"stroke: #A80036; stroke-width: 1.0;\"/><polygon fill=\"#A80036\" points=\"344.23,410.91,348.6368,402.1021,344.4583,405.9152,340.6452,401.7367,344.23,410.91\" style=\"stroke: #A80036; stroke-width: 1.0;\"/></a><!--MD5=[02c70b7c851c11e3980e4e90450dc5dd]\n",
       "link E6 to E7--><a href=\"psysml:11c1c086-8dd9-4b00-9ab5-dcf0da9e4b0f\" target=\"_top\" title=\"psysml:11c1c086-8dd9-4b00-9ab5-dcf0da9e4b0f\" xlink:actuate=\"onRequest\" xlink:href=\"psysml:11c1c086-8dd9-4b00-9ab5-dcf0da9e4b0f\" xlink:show=\"new\" xlink:title=\"psysml:11c1c086-8dd9-4b00-9ab5-dcf0da9e4b0f\" xlink:type=\"simple\"><path d=\"M363.3,466.16 C378.71,486.4 399.07,513.14 410.09,527.61 \" fill=\"none\" id=\"E6-&gt;E7\" style=\"stroke: #A80036; stroke-width: 1.0;\"/><polygon fill=\"#A80036\" points=\"413.2,531.69,410.9398,522.104,410.1749,527.7089,404.57,526.9441,413.2,531.69\" style=\"stroke: #A80036; stroke-width: 1.0;\"/></a><!--MD5=[6bdd27f9905911a7e892a3dc65cf6b7c]\n",
       "link E7 to E4--><a href=\"psysml:9dbcc968-b81d-4000-b2fb-dcd38ad7dec8\" target=\"_top\" title=\"psysml:9dbcc968-b81d-4000-b2fb-dcd38ad7dec8\" xlink:actuate=\"onRequest\" xlink:href=\"psysml:9dbcc968-b81d-4000-b2fb-dcd38ad7dec8\" xlink:show=\"new\" xlink:title=\"psysml:9dbcc968-b81d-4000-b2fb-dcd38ad7dec8\" xlink:type=\"simple\"><path d=\"M419.98,528.56 C426.8,494.71 448.32,376.18 437,279 C434.59,258.32 428.42,234.96 424.21,220.61 \" fill=\"none\" id=\"E7-&gt;E4\" style=\"stroke: #A80036; stroke-width: 1.0;\"/><polygon fill=\"#A80036\" points=\"422.76,215.75,421.4935,225.5171,424.1863,220.5423,429.1611,223.2351,422.76,215.75\" style=\"stroke: #A80036; stroke-width: 1.0;\"/><text fill=\"#000000\" font-family=\"sans-serif\" font-size=\"13\" lengthAdjust=\"spacingAndGlyphs\" textLength=\"36\" x=\"440\" y=\"377.0669\">[true]</text></a><!--MD5=[b5dfc80ec7c98168fd880643df789876]\n",
       "@startuml\r\n",
       "skinparam wrapWidth 300\r\n",
       "hide circle\r\n",
       "\r\n",
       "package \"ActionTest\" as E1  [[psysml:1b586630-6073-41f8-a31c-3b1021fd2d94 ]]  {\r\n",
       "comp def \"S\" as E2  <<(T,blue)attribute def>> [[psysml:ec6ecfb2-58e1-4e93-a57f-7fba141d91de ]] {\r\n",
       "}\r\n",
       "rec usage \"a\" as E3  <<(T,blue)action>> [[psysml:63b3e978-ff90-4127-8639-9e6714fb0371 ]] {\r\n",
       "choice \"m\" as E4  [[psysml:3c09e5e0-87ee-487d-a94c-d1481b887cf0 ]] \r\n",
       "accept \" S\" as E5 <<accept action>> [[psysml:12477b88-d1e3-4069-a82c-9614e3ee7843 ]] \r\n",
       "send \" S to  B()\" as E6 <<send action>> [[psysml:18c53c10-a81a-4a73-8210-8be9c84ee198 ]] \r\n",
       "choice \"noname\" as E7  [[psysml:e28bc343-f228-4c60-afee-7deafa85ddc3 ]] \r\n",
       "[*] - -> E4 [[psysml:3eb4ae89-c3fe-4a5c-9996-6c16dc90e291 ]] \r\n",
       "E7  - -> [*] [[psysml:529019b4-f7b3-445e-a809-123fd999bfb3 ]] \r\n",
       "}\r\n",
       "\r\n",
       "rec def \"B\" as E8  <<(T,blue)action def>> [[psysml:a720c396-7a8e-4250-b133-b38e5d5b0a71 ]] {\r\n",
       "}\r\n",
       "\r\n",
       "E4 - -> E5 [[psysml:252a1c6c-cc00-403d-ac29-1241d1eee0ca ]] \r\n",
       "E5 - -> E6 [[psysml:52dd995d-9028-4157-9334-98b87c98e4ca ]] \r\n",
       "E6 - -> E7 [[psysml:11c1c086-8dd9-4b00-9ab5-dcf0da9e4b0f ]] \r\n",
       "E7  - -> E4 [[psysml:9dbcc968-b81d-4000-b2fb-dcd38ad7dec8 ]] : [true]\r\n",
       "}\r\n",
       "@enduml\r\n",
       "\n",
       "PlantUML version 1.2020.13(Sat Jun 13 12:26:38 UTC 2020)\n",
       "(EPL source distribution)\n",
       "Java Runtime: OpenJDK Runtime Environment\n",
       "JVM: OpenJDK 64-Bit Server VM\n",
       "Default Encoding: UTF-8\n",
       "Language: en\n",
       "Country: null\n",
       "--></g></svg>"
      ]
     },
     "execution_count": 23,
     "metadata": {},
     "output_type": "execute_result"
    }
   ],
   "source": [
    "%viz --style=\"STDCOLOR\" --view=\"Default\" \"ActionTest\""
   ]
  },
  {
   "cell_type": "code",
   "execution_count": 24,
   "id": "structural-seventh",
   "metadata": {
    "execution": {
     "iopub.execute_input": "2021-03-25T14:11:42.681560Z",
     "iopub.status.busy": "2021-03-25T14:11:42.680901Z",
     "iopub.status.idle": "2021-03-25T14:11:43.387232Z",
     "shell.execute_reply": "2021-03-25T14:11:43.385748Z"
    }
   },
   "outputs": [
    {
     "data": {
      "image/svg+xml": [
       "<?xml version=\"1.0\" encoding=\"UTF-8\" standalone=\"no\"?><svg xmlns=\"http://www.w3.org/2000/svg\" xmlns:xlink=\"http://www.w3.org/1999/xlink\" contentScriptType=\"application/ecmascript\" contentStyleType=\"text/css\" height=\"175px\" preserveAspectRatio=\"none\" style=\"width:543px;height:175px;\" version=\"1.1\" viewBox=\"0 0 543 175\" width=\"543px\" zoomAndPan=\"magnify\"><defs><filter height=\"300%\" id=\"f12negw9yaz00i\" width=\"300%\" x=\"-1\" y=\"-1\"><feGaussianBlur result=\"blurOut\" stdDeviation=\"2.0\"/><feColorMatrix in=\"blurOut\" result=\"blurOut2\" type=\"matrix\" values=\"0 0 0 0 0 0 0 0 0 0 0 0 0 0 0 0 0 0 .4 0\"/><feOffset dx=\"4.0\" dy=\"4.0\" in=\"blurOut2\" result=\"blurOut3\"/><feBlend in=\"SourceGraphic\" in2=\"blurOut3\" mode=\"normal\"/></filter></defs><g><!--MD5=[fbc87193dbaf4d95561dea2c320d4a47]\n",
       "cluster E1--><a href=\"psysml:1b586630-6073-41f8-a31c-3b1021fd2d94\" target=\"_top\" title=\"psysml:1b586630-6073-41f8-a31c-3b1021fd2d94\" xlink:actuate=\"onRequest\" xlink:href=\"psysml:1b586630-6073-41f8-a31c-3b1021fd2d94\" xlink:show=\"new\" xlink:title=\"psysml:1b586630-6073-41f8-a31c-3b1021fd2d94\" xlink:type=\"simple\"><polygon fill=\"#FFFFFF\" filter=\"url(#f12negw9yaz00i)\" points=\"16,6,107,6,114,28.2969,521,28.2969,521,163,16,163,16,6\" style=\"stroke: #000000; stroke-width: 1.5;\"/><line style=\"stroke: #000000; stroke-width: 1.5;\" x1=\"16\" x2=\"114\" y1=\"28.2969\" y2=\"28.2969\"/><text fill=\"#000000\" font-family=\"sans-serif\" font-size=\"14\" font-weight=\"bold\" lengthAdjust=\"spacingAndGlyphs\" textLength=\"85\" x=\"20\" y=\"20.9951\">ActionTest</text></a><!--MD5=[b4997ac47864f28c2f74865a473b2911]\n",
       "class E2--><a href=\"psysml:ec6ecfb2-58e1-4e93-a57f-7fba141d91de\" target=\"_top\" title=\"psysml:ec6ecfb2-58e1-4e93-a57f-7fba141d91de\" xlink:actuate=\"onRequest\" xlink:href=\"psysml:ec6ecfb2-58e1-4e93-a57f-7fba141d91de\" xlink:show=\"new\" xlink:title=\"psysml:ec6ecfb2-58e1-4e93-a57f-7fba141d91de\" xlink:type=\"simple\"><rect fill=\"#FEFECE\" filter=\"url(#f12negw9yaz00i)\" height=\"45.9375\" id=\"E2\" style=\"stroke: #A80036; stroke-width: 1.5;\" width=\"95\" x=\"409.5\" y=\"71\"/><text fill=\"#000000\" font-family=\"sans-serif\" font-size=\"12\" font-style=\"italic\" lengthAdjust=\"spacingAndGlyphs\" textLength=\"93\" x=\"410.5\" y=\"87.1387\">«attribute def»</text><text fill=\"#000000\" font-family=\"sans-serif\" font-size=\"12\" lengthAdjust=\"spacingAndGlyphs\" textLength=\"8\" x=\"453\" y=\"101.1074\">S</text><line style=\"stroke: #A80036; stroke-width: 1.5;\" x1=\"410.5\" x2=\"503.5\" y1=\"108.9375\" y2=\"108.9375\"/></a><!--MD5=[09b614a08d8cba4a07c9adeb5e0fee81]\n",
       "class E3--><a href=\"psysml:63b3e978-ff90-4127-8639-9e6714fb0371\" target=\"_top\" title=\"psysml:63b3e978-ff90-4127-8639-9e6714fb0371\" xlink:actuate=\"onRequest\" xlink:href=\"psysml:63b3e978-ff90-4127-8639-9e6714fb0371\" xlink:show=\"new\" xlink:title=\"psysml:63b3e978-ff90-4127-8639-9e6714fb0371\" xlink:type=\"simple\"><rect fill=\"#FEFECE\" filter=\"url(#f12negw9yaz00i)\" height=\"106.1016\" id=\"E3\" rx=\"10\" ry=\"10\" style=\"stroke: #A80036; stroke-width: 1.5;\" width=\"228\" x=\"146\" y=\"41\"/><text fill=\"#000000\" font-family=\"sans-serif\" font-size=\"12\" font-style=\"italic\" lengthAdjust=\"spacingAndGlyphs\" textLength=\"53\" x=\"233.5\" y=\"57.1387\">«action»</text><text fill=\"#000000\" font-family=\"sans-serif\" font-size=\"12\" lengthAdjust=\"spacingAndGlyphs\" textLength=\"8\" x=\"256\" y=\"71.1074\">a</text><line style=\"stroke: #A80036; stroke-width: 1.5;\" x1=\"147\" x2=\"373\" y1=\"78.9375\" y2=\"78.9375\"/><path d=\"M153.9167,100.6589 L153.9167,109.8255 L154.8333,109.8255 L154.8333,100.6589 M157.5833,100.6589 L157.5833,109.8255 L164.9167,105.2422 L157.5833,100.6589 L158.5,102.0339 L163.5417,105.2422 L158.5,108.4505 L158.5,102.0339 \" fill=\"#000000\" style=\"stroke: ; stroke-width: 0.0; stroke-dasharray: ;\"/><text fill=\"#000000\" font-family=\"sans-serif\" font-size=\"11\" lengthAdjust=\"spacingAndGlyphs\" textLength=\"69\" x=\"169\" y=\"110.8979\">start: Action</text><text fill=\"#000000\" font-family=\"sans-serif\" font-size=\"11\" lengthAdjust=\"spacingAndGlyphs\" text-decoration=\"line-through\" textLength=\"126\" x=\"242\" y=\"110.8979\">Occurrence::startShot</text><line style=\"stroke: #A80036; stroke-width: 1.0;\" x1=\"147\" x2=\"239.5\" y1=\"93.3398\" y2=\"93.3398\"/><text fill=\"#000000\" font-family=\"sans-serif\" font-size=\"11\" lengthAdjust=\"spacingAndGlyphs\" textLength=\"41\" x=\"239.5\" y=\"96.6479\">actions</text><line style=\"stroke: #A80036; stroke-width: 1.0;\" x1=\"280.5\" x2=\"373\" y1=\"93.3398\" y2=\"93.3398\"/><text fill=\"#000000\" font-family=\"sans-serif\" font-size=\"11\" lengthAdjust=\"spacingAndGlyphs\" textLength=\"11\" x=\"152\" y=\"140.5073\">m</text><line style=\"stroke: #A80036; stroke-width: 1.0;\" x1=\"147\" x2=\"223.5\" y1=\"123.8945\" y2=\"123.8945\"/><text fill=\"#000000\" font-family=\"sans-serif\" font-size=\"11\" lengthAdjust=\"spacingAndGlyphs\" textLength=\"73\" x=\"223.5\" y=\"127.2026\">mergeNodes</text><line style=\"stroke: #A80036; stroke-width: 1.0;\" x1=\"296.5\" x2=\"373\" y1=\"123.8945\" y2=\"123.8945\"/></a><!--MD5=[60a26617385b1d2d0262a64233df1f8d]\n",
       "class E6--><a href=\"psysml:a720c396-7a8e-4250-b133-b38e5d5b0a71\" target=\"_top\" title=\"psysml:a720c396-7a8e-4250-b133-b38e5d5b0a71\" xlink:actuate=\"onRequest\" xlink:href=\"psysml:a720c396-7a8e-4250-b133-b38e5d5b0a71\" xlink:show=\"new\" xlink:title=\"psysml:a720c396-7a8e-4250-b133-b38e5d5b0a71\" xlink:type=\"simple\"><rect fill=\"#FEFECE\" filter=\"url(#f12negw9yaz00i)\" height=\"45.9375\" id=\"E6\" style=\"stroke: #A80036; stroke-width: 1.5;\" width=\"79\" x=\"31.5\" y=\"71\"/><text fill=\"#000000\" font-family=\"sans-serif\" font-size=\"12\" font-style=\"italic\" lengthAdjust=\"spacingAndGlyphs\" textLength=\"77\" x=\"32.5\" y=\"87.1387\">«action def»</text><text fill=\"#000000\" font-family=\"sans-serif\" font-size=\"12\" lengthAdjust=\"spacingAndGlyphs\" textLength=\"8\" x=\"67\" y=\"101.1074\">B</text><line style=\"stroke: #A80036; stroke-width: 1.5;\" x1=\"32.5\" x2=\"109.5\" y1=\"108.9375\" y2=\"108.9375\"/></a><!--MD5=[6df370f81b346af5deffc7c1ca789d13]\n",
       "@startuml\r\n",
       "skinparam wrapWidth 300\r\n",
       "hide circle\r\n",
       "\r\n",
       "package \"ActionTest\" as E1  [[psysml:1b586630-6073-41f8-a31c-3b1021fd2d94 ]]  {\r\n",
       "comp def \"S\" as E2  <<(T,blue)attribute def>> [[psysml:ec6ecfb2-58e1-4e93-a57f-7fba141d91de ]] {\r\n",
       "}\r\n",
       "comp usage \"a\" as E3  <<(T,blue)action>> [[psysml:63b3e978-ff90-4127-8639-9e6714fb0371 ]] {\r\n",
       "- - actions - -\r\n",
       "<&bar-trig> start: Action <s>Occurrence::startShot</s>\r\n",
       "- - mergeNodes - -\r\n",
       "m\r\n",
       "}\r\n",
       "comp def \"B\" as E6  <<(T,blue)action def>> [[psysml:a720c396-7a8e-4250-b133-b38e5d5b0a71 ]] {\r\n",
       "}\r\n",
       "}\r\n",
       "@enduml\r\n",
       "\n",
       "PlantUML version 1.2020.13(Sat Jun 13 12:26:38 UTC 2020)\n",
       "(EPL source distribution)\n",
       "Java Runtime: OpenJDK Runtime Environment\n",
       "JVM: OpenJDK 64-Bit Server VM\n",
       "Default Encoding: UTF-8\n",
       "Language: en\n",
       "Country: null\n",
       "--></g></svg>"
      ]
     },
     "execution_count": 24,
     "metadata": {},
     "output_type": "execute_result"
    }
   ],
   "source": [
    "%viz --style=\"STDCOLOR\" --view=\"Tree\" \"ActionTest\""
   ]
  },
  {
   "cell_type": "code",
   "execution_count": 25,
   "id": "japanese-discovery",
   "metadata": {
    "execution": {
     "iopub.execute_input": "2021-03-25T14:11:43.437832Z",
     "iopub.status.busy": "2021-03-25T14:11:43.437449Z",
     "iopub.status.idle": "2021-03-25T14:11:43.442635Z",
     "shell.execute_reply": "2021-03-25T14:11:43.442309Z"
    }
   },
   "outputs": [
    {
     "data": {
      "image/svg+xml": [
       "<?xml version=\"1.0\" encoding=\"UTF-8\" standalone=\"no\"?><svg xmlns=\"http://www.w3.org/2000/svg\" xmlns:xlink=\"http://www.w3.org/1999/xlink\" contentScriptType=\"application/ecmascript\" contentStyleType=\"text/css\" height=\"12px\" preserveAspectRatio=\"none\" style=\"width:12px;height:12px;\" version=\"1.1\" viewBox=\"0 0 12 12\" width=\"12px\" zoomAndPan=\"magnify\"><defs/><g><!--MD5=[aeeef50f102b80d730deb6443d14f702]\n",
       "@startuml\r\n",
       "skinparam wrapWidth 300\r\n",
       "hide circle\r\n",
       "\r\n",
       "@enduml\r\n",
       "\n",
       "PlantUML version 1.2020.13(Sat Jun 13 12:26:38 UTC 2020)\n",
       "(EPL source distribution)\n",
       "Java Runtime: OpenJDK Runtime Environment\n",
       "JVM: OpenJDK 64-Bit Server VM\n",
       "Default Encoding: UTF-8\n",
       "Language: en\n",
       "Country: null\n",
       "--></g></svg>"
      ]
     },
     "execution_count": 25,
     "metadata": {},
     "output_type": "execute_result"
    }
   ],
   "source": [
    "%viz --style=\"STDCOLOR\" --view=\"State\" \"ActionTest\""
   ]
  },
  {
   "cell_type": "code",
   "execution_count": 26,
   "id": "separated-physics",
   "metadata": {
    "execution": {
     "iopub.execute_input": "2021-03-25T14:11:43.493472Z",
     "iopub.status.busy": "2021-03-25T14:11:43.493097Z",
     "iopub.status.idle": "2021-03-25T14:11:43.651799Z",
     "shell.execute_reply": "2021-03-25T14:11:43.650394Z"
    }
   },
   "outputs": [
    {
     "data": {
      "image/svg+xml": [
       "<?xml version=\"1.0\" encoding=\"UTF-8\" standalone=\"no\"?><svg xmlns=\"http://www.w3.org/2000/svg\" xmlns:xlink=\"http://www.w3.org/1999/xlink\" contentScriptType=\"application/ecmascript\" contentStyleType=\"text/css\" height=\"462px\" preserveAspectRatio=\"none\" style=\"width:522px;height:462px;\" version=\"1.1\" viewBox=\"0 0 522 462\" width=\"522px\" zoomAndPan=\"magnify\"><defs><filter height=\"300%\" id=\"f156cx8riy0xkt\" width=\"300%\" x=\"-1\" y=\"-1\"><feGaussianBlur result=\"blurOut\" stdDeviation=\"2.0\"/><feColorMatrix in=\"blurOut\" result=\"blurOut2\" type=\"matrix\" values=\"0 0 0 0 0 0 0 0 0 0 0 0 0 0 0 0 0 0 .4 0\"/><feOffset dx=\"4.0\" dy=\"4.0\" in=\"blurOut2\" result=\"blurOut3\"/><feBlend in=\"SourceGraphic\" in2=\"blurOut3\" mode=\"normal\"/></filter></defs><g><!--MD5=[fbc87193dbaf4d95561dea2c320d4a47]\n",
       "cluster E1--><a href=\"psysml:1b586630-6073-41f8-a31c-3b1021fd2d94\" target=\"_top\" title=\"psysml:1b586630-6073-41f8-a31c-3b1021fd2d94\" xlink:actuate=\"onRequest\" xlink:href=\"psysml:1b586630-6073-41f8-a31c-3b1021fd2d94\" xlink:show=\"new\" xlink:title=\"psysml:1b586630-6073-41f8-a31c-3b1021fd2d94\" xlink:type=\"simple\"><polygon fill=\"#FFFFFF\" filter=\"url(#f156cx8riy0xkt)\" points=\"16,6,107,6,114,28.2969,500,28.2969,500,450.5,16,450.5,16,6\" style=\"stroke: #000000; stroke-width: 1.5;\"/><line style=\"stroke: #000000; stroke-width: 1.5;\" x1=\"16\" x2=\"114\" y1=\"28.2969\" y2=\"28.2969\"/><text fill=\"#000000\" font-family=\"sans-serif\" font-size=\"14\" font-weight=\"bold\" lengthAdjust=\"spacingAndGlyphs\" textLength=\"85\" x=\"20\" y=\"20.9951\">ActionTest</text></a><!--MD5=[d5e69f78d87373223dbae638b30a9c99]\n",
       "cluster E3--><a href=\"psysml:63b3e978-ff90-4127-8639-9e6714fb0371\" target=\"_top\" title=\"psysml:63b3e978-ff90-4127-8639-9e6714fb0371\" xlink:actuate=\"onRequest\" xlink:href=\"psysml:63b3e978-ff90-4127-8639-9e6714fb0371\" xlink:show=\"new\" xlink:title=\"psysml:63b3e978-ff90-4127-8639-9e6714fb0371\" xlink:type=\"simple\"><rect fill=\"#FFFFFF\" filter=\"url(#f156cx8riy0xkt)\" height=\"377.5\" id=\"E3\" rx=\"10\" ry=\"10\" style=\"stroke: #A80036; stroke-width: 1.5;\" width=\"209\" x=\"267\" y=\"49\"/><rect fill=\"#FEFECE\" height=\"37.9375\" rx=\"10\" ry=\"10\" style=\"stroke: #FEFECE; stroke-width: 1.5;\" width=\"209\" x=\"267\" y=\"49\"/><rect fill=\"#FEFECE\" height=\"10\" style=\"stroke: #FEFECE; stroke-width: 1.5;\" width=\"209\" x=\"267\" y=\"76.9375\"/><rect fill=\"none\" height=\"377.5\" id=\"E3\" rx=\"10\" ry=\"10\" style=\"stroke: #A80036; stroke-width: 1.5;\" width=\"209\" x=\"267\" y=\"49\"/><text fill=\"#000000\" font-family=\"sans-serif\" font-size=\"12\" font-style=\"italic\" lengthAdjust=\"spacingAndGlyphs\" textLength=\"53\" x=\"345\" y=\"65.1387\">«action»</text><text fill=\"#000000\" font-family=\"sans-serif\" font-size=\"12\" lengthAdjust=\"spacingAndGlyphs\" textLength=\"8\" x=\"367.5\" y=\"79.1074\">a</text><line style=\"stroke: #A80036; stroke-width: 1.0;\" x1=\"267\" x2=\"476\" y1=\"86.9375\" y2=\"86.9375\"/></a><g id=\"E1.E2\"><a href=\"psysml:ec6ecfb2-58e1-4e93-a57f-7fba141d91de\" target=\"_top\" title=\"psysml:ec6ecfb2-58e1-4e93-a57f-7fba141d91de\" xlink:actuate=\"onRequest\" xlink:href=\"psysml:ec6ecfb2-58e1-4e93-a57f-7fba141d91de\" xlink:show=\"new\" xlink:title=\"psysml:ec6ecfb2-58e1-4e93-a57f-7fba141d91de\" xlink:type=\"simple\"><rect fill=\"#FEFECE\" filter=\"url(#f156cx8riy0xkt)\" height=\"42.9375\" id=\"E2\" style=\"stroke: #A80036; stroke-width: 1.5;\" width=\"100\" x=\"151\" y=\"88.5\"/><text fill=\"#000000\" font-family=\"sans-serif\" font-size=\"12\" font-style=\"italic\" lengthAdjust=\"spacingAndGlyphs\" textLength=\"93\" x=\"154.5\" y=\"104.6387\">«attribute def»</text><text fill=\"#000000\" font-family=\"sans-serif\" font-size=\"12\" lengthAdjust=\"spacingAndGlyphs\" textLength=\"8\" x=\"197\" y=\"118.6074\">S</text></a></g><polygon fill=\"#FEFECE\" filter=\"url(#f156cx8riy0xkt)\" points=\"424,148.5,436,160.5,424,172.5,412,160.5,424,148.5\" style=\"stroke: #A80036; stroke-width: 1.5;\"/><!--MD5=[21dd76c19d33815960c0e92fef8f0eef]\n",
       "entity E5--><a href=\"psysml:12477b88-d1e3-4069-a82c-9614e3ee7843\" target=\"_top\" title=\"psysml:12477b88-d1e3-4069-a82c-9614e3ee7843\" xlink:actuate=\"onRequest\" xlink:href=\"psysml:12477b88-d1e3-4069-a82c-9614e3ee7843\" xlink:show=\"new\" xlink:title=\"psysml:12477b88-d1e3-4069-a82c-9614e3ee7843\" xlink:type=\"simple\"><polygon fill=\"#FEFECE\" filter=\"url(#f156cx8riy0xkt)\" points=\"283,189.5,283,244.0938,423,244.0938,403,216.7969,423,189.5\" style=\"stroke: #000000; stroke-width: 1.5;\"/><text fill=\"#000000\" font-family=\"sans-serif\" font-size=\"14\" font-style=\"italic\" lengthAdjust=\"spacingAndGlyphs\" textLength=\"111\" x=\"290\" y=\"212.4951\">«accept action»</text><text fill=\"#000000\" font-family=\"sans-serif\" font-size=\"14\" lengthAdjust=\"spacingAndGlyphs\" textLength=\"9\" x=\"341\" y=\"229.792\">S</text></a><!--MD5=[24d87cdf3002d433f401b2a2aa9f9f65]\n",
       "entity E6--><a href=\"psysml:18c53c10-a81a-4a73-8210-8be9c84ee198\" target=\"_top\" title=\"psysml:18c53c10-a81a-4a73-8210-8be9c84ee198\" xlink:actuate=\"onRequest\" xlink:href=\"psysml:18c53c10-a81a-4a73-8210-8be9c84ee198\" xlink:show=\"new\" xlink:title=\"psysml:18c53c10-a81a-4a73-8210-8be9c84ee198\" xlink:type=\"simple\"><polygon fill=\"#FEFECE\" filter=\"url(#f156cx8riy0xkt)\" points=\"283,277.5,283,332.0938,391,332.0938,411,304.7969,391,277.5\" style=\"stroke: #000000; stroke-width: 1.5;\"/><text fill=\"#000000\" font-family=\"sans-serif\" font-size=\"14\" font-style=\"italic\" lengthAdjust=\"spacingAndGlyphs\" textLength=\"99\" x=\"290\" y=\"300.4951\">«send action»</text><text fill=\"#000000\" font-family=\"sans-serif\" font-size=\"14\" lengthAdjust=\"spacingAndGlyphs\" textLength=\"55\" x=\"312\" y=\"317.792\">S to  B()</text></a><polygon fill=\"#FEFECE\" filter=\"url(#f156cx8riy0xkt)\" points=\"422,349.5,434,361.5,422,373.5,410,361.5,422,349.5\" style=\"stroke: #A80036; stroke-width: 1.5;\"/><ellipse cx=\"424\" cy=\"110\" fill=\"#000000\" filter=\"url(#f156cx8riy0xkt)\" rx=\"10\" ry=\"10\" style=\"stroke: none; stroke-width: 1.0;\"/><ellipse cx=\"422\" cy=\"400.5\" fill=\"none\" filter=\"url(#f156cx8riy0xkt)\" rx=\"10\" ry=\"10\" style=\"stroke: #000000; stroke-width: 1.0;\"/><ellipse cx=\"422.5\" cy=\"401\" fill=\"#000000\" rx=\"6\" ry=\"6\" style=\"stroke: none; stroke-width: 1.0;\"/><g id=\"E1.E8\"><a href=\"psysml:a720c396-7a8e-4250-b133-b38e5d5b0a71\" target=\"_top\" title=\"psysml:a720c396-7a8e-4250-b133-b38e5d5b0a71\" xlink:actuate=\"onRequest\" xlink:href=\"psysml:a720c396-7a8e-4250-b133-b38e5d5b0a71\" xlink:show=\"new\" xlink:title=\"psysml:a720c396-7a8e-4250-b133-b38e5d5b0a71\" xlink:type=\"simple\"><rect fill=\"#FEFECE\" filter=\"url(#f156cx8riy0xkt)\" height=\"42.9375\" id=\"E8\" style=\"stroke: #A80036; stroke-width: 1.5;\" width=\"84\" x=\"32\" y=\"88.5\"/><text fill=\"#000000\" font-family=\"sans-serif\" font-size=\"12\" font-style=\"italic\" lengthAdjust=\"spacingAndGlyphs\" textLength=\"77\" x=\"35.5\" y=\"104.6387\">«action def»</text><text fill=\"#000000\" font-family=\"sans-serif\" font-size=\"12\" lengthAdjust=\"spacingAndGlyphs\" textLength=\"8\" x=\"70\" y=\"118.6074\">B</text></a></g><!--MD5=[f47e10efcf9a6752d55dae986d790ed9]\n",
       "link *start*E3 to E4--><a href=\"psysml:3eb4ae89-c3fe-4a5c-9996-6c16dc90e291\" target=\"_top\" title=\"psysml:3eb4ae89-c3fe-4a5c-9996-6c16dc90e291\" xlink:actuate=\"onRequest\" xlink:href=\"psysml:3eb4ae89-c3fe-4a5c-9996-6c16dc90e291\" xlink:show=\"new\" xlink:title=\"psysml:3eb4ae89-c3fe-4a5c-9996-6c16dc90e291\" xlink:type=\"simple\"><path d=\"M424,120.35 C424,126.88 424,135.77 424,143.42 \" fill=\"none\" id=\"*start*E3-&gt;E4\" style=\"stroke: #A80036; stroke-width: 1.0;\"/><polygon fill=\"#A80036\" points=\"424,148.48,428,139.48,424,143.48,420,139.48,424,148.48\" style=\"stroke: #A80036; stroke-width: 1.0;\"/></a><!--MD5=[d19f2eb34364d71b67042106d92f540b]\n",
       "link E7 to *end*E3--><a href=\"psysml:529019b4-f7b3-445e-a809-123fd999bfb3\" target=\"_top\" title=\"psysml:529019b4-f7b3-445e-a809-123fd999bfb3\" xlink:actuate=\"onRequest\" xlink:href=\"psysml:529019b4-f7b3-445e-a809-123fd999bfb3\" xlink:show=\"new\" xlink:title=\"psysml:529019b4-f7b3-445e-a809-123fd999bfb3\" xlink:type=\"simple\"><path d=\"M422,373.8 C422,377.34 422,381.3 422,385.03 \" fill=\"none\" id=\"E7-&gt;*end*E3\" style=\"stroke: #A80036; stroke-width: 1.0;\"/><polygon fill=\"#A80036\" points=\"422,390.25,426,381.25,422,385.25,418,381.25,422,390.25\" style=\"stroke: #A80036; stroke-width: 1.0;\"/></a><!--MD5=[1b7591eae5389033d8d09a9d6721a717]\n",
       "link E4 to E5--><a href=\"psysml:252a1c6c-cc00-403d-ac29-1241d1eee0ca\" target=\"_top\" title=\"psysml:252a1c6c-cc00-403d-ac29-1241d1eee0ca\" xlink:actuate=\"onRequest\" xlink:href=\"psysml:252a1c6c-cc00-403d-ac29-1241d1eee0ca\" xlink:show=\"new\" xlink:title=\"psysml:252a1c6c-cc00-403d-ac29-1241d1eee0ca\" xlink:type=\"simple\"><path d=\"M417.45,166.53 C411.33,171.23 401.65,178.66 391.64,186.34 \" fill=\"none\" id=\"E4-&gt;E5\" style=\"stroke: #A80036; stroke-width: 1.0;\"/><polygon fill=\"#A80036\" points=\"387.64,189.41,397.2129,187.0948,391.6037,186.3621,392.3363,180.7529,387.64,189.41\" style=\"stroke: #A80036; stroke-width: 1.0;\"/></a><!--MD5=[9120cf2e5df3bff93db8f754bbbc09b4]\n",
       "link E5 to E6--><a href=\"psysml:52dd995d-9028-4157-9334-98b87c98e4ca\" target=\"_top\" title=\"psysml:52dd995d-9028-4157-9334-98b87c98e4ca\" xlink:actuate=\"onRequest\" xlink:href=\"psysml:52dd995d-9028-4157-9334-98b87c98e4ca\" xlink:show=\"new\" xlink:title=\"psysml:52dd995d-9028-4157-9334-98b87c98e4ca\" xlink:type=\"simple\"><path d=\"M351.13,244.74 C350.53,253.4 349.85,263.08 349.23,272.08 \" fill=\"none\" id=\"E5-&gt;E6\" style=\"stroke: #A80036; stroke-width: 1.0;\"/><polygon fill=\"#A80036\" points=\"348.86,277.28,353.468,268.5756,349.203,272.2918,345.4869,268.0268,348.86,277.28\" style=\"stroke: #A80036; stroke-width: 1.0;\"/></a><!--MD5=[02c70b7c851c11e3980e4e90450dc5dd]\n",
       "link E6 to E7--><a href=\"psysml:11c1c086-8dd9-4b00-9ab5-dcf0da9e4b0f\" target=\"_top\" title=\"psysml:11c1c086-8dd9-4b00-9ab5-dcf0da9e4b0f\" xlink:actuate=\"onRequest\" xlink:href=\"psysml:11c1c086-8dd9-4b00-9ab5-dcf0da9e4b0f\" xlink:show=\"new\" xlink:title=\"psysml:11c1c086-8dd9-4b00-9ab5-dcf0da9e4b0f\" xlink:type=\"simple\"><path d=\"M383.62,332.61 C393.72,339.95 403.91,347.35 411.24,352.68 \" fill=\"none\" id=\"E6-&gt;E7\" style=\"stroke: #A80036; stroke-width: 1.0;\"/><polygon fill=\"#A80036\" points=\"415.42,355.72,410.4976,347.1894,411.3776,352.7774,405.7896,353.6574,415.42,355.72\" style=\"stroke: #A80036; stroke-width: 1.0;\"/></a><!--MD5=[6bdd27f9905911a7e892a3dc65cf6b7c]\n",
       "link E7 to E4--><a href=\"psysml:9dbcc968-b81d-4000-b2fb-dcd38ad7dec8\" target=\"_top\" title=\"psysml:9dbcc968-b81d-4000-b2fb-dcd38ad7dec8\" xlink:actuate=\"onRequest\" xlink:href=\"psysml:9dbcc968-b81d-4000-b2fb-dcd38ad7dec8\" xlink:show=\"new\" xlink:title=\"psysml:9dbcc968-b81d-4000-b2fb-dcd38ad7dec8\" xlink:type=\"simple\"><path d=\"M425,352.49 C433.84,327.73 458.06,250.48 441,189.5 C439.26,183.29 435.73,177.1 432.34,172.12 \" fill=\"none\" id=\"E7-&gt;E4\" style=\"stroke: #A80036; stroke-width: 1.0;\"/><polygon fill=\"#A80036\" points=\"429.31,167.92,431.3342,177.5586,432.2364,171.9741,437.8209,172.8763,429.31,167.92\" style=\"stroke: #A80036; stroke-width: 1.0;\"/><text fill=\"#000000\" font-family=\"sans-serif\" font-size=\"13\" lengthAdjust=\"spacingAndGlyphs\" textLength=\"36\" x=\"447\" y=\"265.5669\">[true]</text></a><!--MD5=[b2d7fe0270b3d9c5e31d9888b0c8553a]\n",
       "@startuml\r\n",
       "skinparam ranksep 10\r\n",
       "skinparam rectangle {\r\n",
       " backgroundColor<<block>> LightGreen\r\n",
       "}\r\n",
       "skinparam wrapWidth 300\r\n",
       "hide circle\r\n",
       "\r\n",
       "package \"ActionTest\" as E1  [[psysml:1b586630-6073-41f8-a31c-3b1021fd2d94 ]]  {\r\n",
       "def \"S\" as E2  <<(T,blue)attribute def>> [[psysml:ec6ecfb2-58e1-4e93-a57f-7fba141d91de ]] \r\n",
       "rec usage \"a\" as E3  <<(T,blue)action>> [[psysml:63b3e978-ff90-4127-8639-9e6714fb0371 ]] {\r\n",
       "choice \"m\" as E4  [[psysml:3c09e5e0-87ee-487d-a94c-d1481b887cf0 ]] \r\n",
       "accept \" S\" as E5 <<accept action>> [[psysml:12477b88-d1e3-4069-a82c-9614e3ee7843 ]] \r\n",
       "send \" S to  B()\" as E6 <<send action>> [[psysml:18c53c10-a81a-4a73-8210-8be9c84ee198 ]] \r\n",
       "choice \"noname\" as E7  [[psysml:e28bc343-f228-4c60-afee-7deafa85ddc3 ]] \r\n",
       "[*] - -> E4 [[psysml:3eb4ae89-c3fe-4a5c-9996-6c16dc90e291 ]] \r\n",
       "E7  - -> [*] [[psysml:529019b4-f7b3-445e-a809-123fd999bfb3 ]] \r\n",
       "}\r\n",
       "\r\n",
       "rec def \"B\" as E8  <<(T,blue)action def>> [[psysml:a720c396-7a8e-4250-b133-b38e5d5b0a71 ]] {\r\n",
       "}\r\n",
       "\r\n",
       "E4 - -> E5 [[psysml:252a1c6c-cc00-403d-ac29-1241d1eee0ca ]] \r\n",
       "E5 - -> E6 [[psysml:52dd995d-9028-4157-9334-98b87c98e4ca ]] \r\n",
       "E6 - -> E7 [[psysml:11c1c086-8dd9-4b00-9ab5-dcf0da9e4b0f ]] \r\n",
       "E7  - -> E4 [[psysml:9dbcc968-b81d-4000-b2fb-dcd38ad7dec8 ]] : [true]\r\n",
       "}\r\n",
       "@enduml\r\n",
       "\n",
       "PlantUML version 1.2020.13(Sat Jun 13 12:26:38 UTC 2020)\n",
       "(EPL source distribution)\n",
       "Java Runtime: OpenJDK Runtime Environment\n",
       "JVM: OpenJDK 64-Bit Server VM\n",
       "Default Encoding: UTF-8\n",
       "Language: en\n",
       "Country: null\n",
       "--></g></svg>"
      ]
     },
     "execution_count": 26,
     "metadata": {},
     "output_type": "execute_result"
    }
   ],
   "source": [
    "%viz --style=\"STDCOLOR\" --view=\"Interconnection\" \"ActionTest\""
   ]
  },
  {
   "cell_type": "code",
   "execution_count": 27,
   "id": "realistic-mention",
   "metadata": {
    "execution": {
     "iopub.execute_input": "2021-03-25T14:11:43.703920Z",
     "iopub.status.busy": "2021-03-25T14:11:43.703303Z",
     "iopub.status.idle": "2021-03-25T14:11:43.846461Z",
     "shell.execute_reply": "2021-03-25T14:11:43.844482Z"
    }
   },
   "outputs": [
    {
     "data": {
      "image/svg+xml": [
       "<?xml version=\"1.0\" encoding=\"UTF-8\" standalone=\"no\"?><svg xmlns=\"http://www.w3.org/2000/svg\" xmlns:xlink=\"http://www.w3.org/1999/xlink\" contentScriptType=\"application/ecmascript\" contentStyleType=\"text/css\" height=\"403px\" preserveAspectRatio=\"none\" style=\"width:335px;height:403px;\" version=\"1.1\" viewBox=\"0 0 335 403\" width=\"335px\" zoomAndPan=\"magnify\"><defs><filter height=\"300%\" id=\"f5sdu5d3ne3hl\" width=\"300%\" x=\"-1\" y=\"-1\"><feGaussianBlur result=\"blurOut\" stdDeviation=\"2.0\"/><feColorMatrix in=\"blurOut\" result=\"blurOut2\" type=\"matrix\" values=\"0 0 0 0 0 0 0 0 0 0 0 0 0 0 0 0 0 0 .4 0\"/><feOffset dx=\"4.0\" dy=\"4.0\" in=\"blurOut2\" result=\"blurOut3\"/><feBlend in=\"SourceGraphic\" in2=\"blurOut3\" mode=\"normal\"/></filter></defs><g><!--MD5=[fbc87193dbaf4d95561dea2c320d4a47]\n",
       "cluster E1--><a href=\"psysml:63b3e978-ff90-4127-8639-9e6714fb0371\" target=\"_top\" title=\"psysml:63b3e978-ff90-4127-8639-9e6714fb0371\" xlink:actuate=\"onRequest\" xlink:href=\"psysml:63b3e978-ff90-4127-8639-9e6714fb0371\" xlink:show=\"new\" xlink:title=\"psysml:63b3e978-ff90-4127-8639-9e6714fb0371\" xlink:type=\"simple\"><rect fill=\"#FFFFFF\" filter=\"url(#f5sdu5d3ne3hl)\" height=\"377.5\" id=\"E1\" rx=\"10\" ry=\"10\" style=\"stroke: #A80036; stroke-width: 1.5;\" width=\"209\" x=\"107\" y=\"7\"/><rect fill=\"#FEFECE\" height=\"37.9375\" rx=\"10\" ry=\"10\" style=\"stroke: #FEFECE; stroke-width: 1.5;\" width=\"209\" x=\"107\" y=\"7\"/><rect fill=\"#FEFECE\" height=\"10\" style=\"stroke: #FEFECE; stroke-width: 1.5;\" width=\"209\" x=\"107\" y=\"34.9375\"/><rect fill=\"none\" height=\"377.5\" id=\"E1\" rx=\"10\" ry=\"10\" style=\"stroke: #A80036; stroke-width: 1.5;\" width=\"209\" x=\"107\" y=\"7\"/><text fill=\"#000000\" font-family=\"sans-serif\" font-size=\"12\" font-style=\"italic\" lengthAdjust=\"spacingAndGlyphs\" textLength=\"53\" x=\"185\" y=\"23.1387\">«action»</text><text fill=\"#000000\" font-family=\"sans-serif\" font-size=\"12\" lengthAdjust=\"spacingAndGlyphs\" textLength=\"8\" x=\"207.5\" y=\"37.1074\">a</text><line style=\"stroke: #A80036; stroke-width: 1.0;\" x1=\"107\" x2=\"316\" y1=\"44.9375\" y2=\"44.9375\"/></a><polygon fill=\"#FEFECE\" filter=\"url(#f5sdu5d3ne3hl)\" points=\"264,106.5,276,118.5,264,130.5,252,118.5,264,106.5\" style=\"stroke: #A80036; stroke-width: 1.5;\"/><!--MD5=[a60fb756f580feb9fd8e2cf1329b5c91]\n",
       "entity E3--><a href=\"psysml:12477b88-d1e3-4069-a82c-9614e3ee7843\" target=\"_top\" title=\"psysml:12477b88-d1e3-4069-a82c-9614e3ee7843\" xlink:actuate=\"onRequest\" xlink:href=\"psysml:12477b88-d1e3-4069-a82c-9614e3ee7843\" xlink:show=\"new\" xlink:title=\"psysml:12477b88-d1e3-4069-a82c-9614e3ee7843\" xlink:type=\"simple\"><polygon fill=\"#FEFECE\" filter=\"url(#f5sdu5d3ne3hl)\" points=\"123,147.5,123,202.0938,263,202.0938,243,174.7969,263,147.5\" style=\"stroke: #000000; stroke-width: 1.5;\"/><text fill=\"#000000\" font-family=\"sans-serif\" font-size=\"14\" font-style=\"italic\" lengthAdjust=\"spacingAndGlyphs\" textLength=\"111\" x=\"130\" y=\"170.4951\">«accept action»</text><text fill=\"#000000\" font-family=\"sans-serif\" font-size=\"14\" lengthAdjust=\"spacingAndGlyphs\" textLength=\"9\" x=\"181\" y=\"187.792\">S</text></a><!--MD5=[961cefdc15414eaa3e87aec9d17c2188]\n",
       "entity E4--><a href=\"psysml:18c53c10-a81a-4a73-8210-8be9c84ee198\" target=\"_top\" title=\"psysml:18c53c10-a81a-4a73-8210-8be9c84ee198\" xlink:actuate=\"onRequest\" xlink:href=\"psysml:18c53c10-a81a-4a73-8210-8be9c84ee198\" xlink:show=\"new\" xlink:title=\"psysml:18c53c10-a81a-4a73-8210-8be9c84ee198\" xlink:type=\"simple\"><polygon fill=\"#FEFECE\" filter=\"url(#f5sdu5d3ne3hl)\" points=\"123,235.5,123,290.0938,231,290.0938,251,262.7969,231,235.5\" style=\"stroke: #000000; stroke-width: 1.5;\"/><text fill=\"#000000\" font-family=\"sans-serif\" font-size=\"14\" font-style=\"italic\" lengthAdjust=\"spacingAndGlyphs\" textLength=\"99\" x=\"130\" y=\"258.4951\">«send action»</text><text fill=\"#000000\" font-family=\"sans-serif\" font-size=\"14\" lengthAdjust=\"spacingAndGlyphs\" textLength=\"55\" x=\"152\" y=\"275.792\">S to  B()</text></a><polygon fill=\"#FEFECE\" filter=\"url(#f5sdu5d3ne3hl)\" points=\"262,307.5,274,319.5,262,331.5,250,319.5,262,307.5\" style=\"stroke: #A80036; stroke-width: 1.5;\"/><ellipse cx=\"264\" cy=\"68\" fill=\"#000000\" filter=\"url(#f5sdu5d3ne3hl)\" rx=\"10\" ry=\"10\" style=\"stroke: none; stroke-width: 1.0;\"/><ellipse cx=\"262\" cy=\"358.5\" fill=\"none\" filter=\"url(#f5sdu5d3ne3hl)\" rx=\"10\" ry=\"10\" style=\"stroke: #000000; stroke-width: 1.0;\"/><ellipse cx=\"262.5\" cy=\"359\" fill=\"#000000\" rx=\"6\" ry=\"6\" style=\"stroke: none; stroke-width: 1.0;\"/><g id=\"E6\"><a href=\"psysml:a720c396-7a8e-4250-b133-b38e5d5b0a71\" target=\"_top\" title=\"psysml:a720c396-7a8e-4250-b133-b38e5d5b0a71\" xlink:actuate=\"onRequest\" xlink:href=\"psysml:a720c396-7a8e-4250-b133-b38e5d5b0a71\" xlink:show=\"new\" xlink:title=\"psysml:a720c396-7a8e-4250-b133-b38e5d5b0a71\" xlink:type=\"simple\"><rect fill=\"#FEFECE\" filter=\"url(#f5sdu5d3ne3hl)\" height=\"42.9375\" id=\"E6\" style=\"stroke: #A80036; stroke-width: 1.5;\" width=\"84\" x=\"7\" y=\"46.5\"/><text fill=\"#000000\" font-family=\"sans-serif\" font-size=\"12\" font-style=\"italic\" lengthAdjust=\"spacingAndGlyphs\" textLength=\"77\" x=\"10.5\" y=\"62.6387\">«action def»</text><text fill=\"#000000\" font-family=\"sans-serif\" font-size=\"12\" lengthAdjust=\"spacingAndGlyphs\" textLength=\"8\" x=\"45\" y=\"76.6074\">B</text></a></g><!--MD5=[cff944eb183b832d446717a4e202d613]\n",
       "link *start*E1 to E2--><a href=\"psysml:3eb4ae89-c3fe-4a5c-9996-6c16dc90e291\" target=\"_top\" title=\"psysml:3eb4ae89-c3fe-4a5c-9996-6c16dc90e291\" xlink:actuate=\"onRequest\" xlink:href=\"psysml:3eb4ae89-c3fe-4a5c-9996-6c16dc90e291\" xlink:show=\"new\" xlink:title=\"psysml:3eb4ae89-c3fe-4a5c-9996-6c16dc90e291\" xlink:type=\"simple\"><path d=\"M264,78.35 C264,84.88 264,93.77 264,101.42 \" fill=\"none\" id=\"*start*E1-&gt;E2\" style=\"stroke: #A80036; stroke-width: 1.0; stroke-dasharray: 7.0,7.0;\"/><polygon fill=\"#A80036\" points=\"264,106.48,268,97.48,264,101.48,260,97.48,264,106.48\" style=\"stroke: #A80036; stroke-width: 1.0;\"/></a><!--MD5=[7fc47fc0d107820853a137871ad908c8]\n",
       "link E5 to *end*E1--><a href=\"psysml:529019b4-f7b3-445e-a809-123fd999bfb3\" target=\"_top\" title=\"psysml:529019b4-f7b3-445e-a809-123fd999bfb3\" xlink:actuate=\"onRequest\" xlink:href=\"psysml:529019b4-f7b3-445e-a809-123fd999bfb3\" xlink:show=\"new\" xlink:title=\"psysml:529019b4-f7b3-445e-a809-123fd999bfb3\" xlink:type=\"simple\"><path d=\"M262,331.8 C262,335.34 262,339.3 262,343.03 \" fill=\"none\" id=\"E5-&gt;*end*E1\" style=\"stroke: #A80036; stroke-width: 1.0; stroke-dasharray: 7.0,7.0;\"/><polygon fill=\"#A80036\" points=\"262,348.25,266,339.25,262,343.25,258,339.25,262,348.25\" style=\"stroke: #A80036; stroke-width: 1.0;\"/></a><!--MD5=[2720a5a1f2c3fca2055b230370638851]\n",
       "link E2 to E3--><a href=\"psysml:252a1c6c-cc00-403d-ac29-1241d1eee0ca\" target=\"_top\" title=\"psysml:252a1c6c-cc00-403d-ac29-1241d1eee0ca\" xlink:actuate=\"onRequest\" xlink:href=\"psysml:252a1c6c-cc00-403d-ac29-1241d1eee0ca\" xlink:show=\"new\" xlink:title=\"psysml:252a1c6c-cc00-403d-ac29-1241d1eee0ca\" xlink:type=\"simple\"><path d=\"M257.45,124.53 C251.33,129.23 241.65,136.66 231.64,144.34 \" fill=\"none\" id=\"E2-&gt;E3\" style=\"stroke: #A80036; stroke-width: 1.0; stroke-dasharray: 7.0,7.0;\"/><polygon fill=\"#A80036\" points=\"227.64,147.41,237.2129,145.0948,231.6037,144.3621,232.3363,138.7529,227.64,147.41\" style=\"stroke: #A80036; stroke-width: 1.0;\"/></a><!--MD5=[af87c684e3b0d8be13c1a698a818ef1e]\n",
       "link E3 to E4--><a href=\"psysml:52dd995d-9028-4157-9334-98b87c98e4ca\" target=\"_top\" title=\"psysml:52dd995d-9028-4157-9334-98b87c98e4ca\" xlink:actuate=\"onRequest\" xlink:href=\"psysml:52dd995d-9028-4157-9334-98b87c98e4ca\" xlink:show=\"new\" xlink:title=\"psysml:52dd995d-9028-4157-9334-98b87c98e4ca\" xlink:type=\"simple\"><path d=\"M191.13,202.74 C190.53,211.4 189.85,221.08 189.23,230.08 \" fill=\"none\" id=\"E3-&gt;E4\" style=\"stroke: #A80036; stroke-width: 1.0; stroke-dasharray: 7.0,7.0;\"/><polygon fill=\"#A80036\" points=\"188.86,235.28,193.468,226.5756,189.203,230.2918,185.4869,226.0268,188.86,235.28\" style=\"stroke: #A80036; stroke-width: 1.0;\"/></a><!--MD5=[1b7591eae5389033d8d09a9d6721a717]\n",
       "link E4 to E5--><a href=\"psysml:11c1c086-8dd9-4b00-9ab5-dcf0da9e4b0f\" target=\"_top\" title=\"psysml:11c1c086-8dd9-4b00-9ab5-dcf0da9e4b0f\" xlink:actuate=\"onRequest\" xlink:href=\"psysml:11c1c086-8dd9-4b00-9ab5-dcf0da9e4b0f\" xlink:show=\"new\" xlink:title=\"psysml:11c1c086-8dd9-4b00-9ab5-dcf0da9e4b0f\" xlink:type=\"simple\"><path d=\"M223.62,290.61 C233.72,297.95 243.91,305.35 251.24,310.68 \" fill=\"none\" id=\"E4-&gt;E5\" style=\"stroke: #A80036; stroke-width: 1.0; stroke-dasharray: 7.0,7.0;\"/><polygon fill=\"#A80036\" points=\"255.42,313.72,250.4976,305.1894,251.3776,310.7774,245.7896,311.6574,255.42,313.72\" style=\"stroke: #A80036; stroke-width: 1.0;\"/></a><!--MD5=[15ebcb19ae302d9b601edb458606d402]\n",
       "link E5 to E2--><a href=\"psysml:9dbcc968-b81d-4000-b2fb-dcd38ad7dec8\" target=\"_top\" title=\"psysml:9dbcc968-b81d-4000-b2fb-dcd38ad7dec8\" xlink:actuate=\"onRequest\" xlink:href=\"psysml:9dbcc968-b81d-4000-b2fb-dcd38ad7dec8\" xlink:show=\"new\" xlink:title=\"psysml:9dbcc968-b81d-4000-b2fb-dcd38ad7dec8\" xlink:type=\"simple\"><path d=\"M265,310.49 C273.84,285.73 298.06,208.48 281,147.5 C279.26,141.29 275.73,135.1 272.34,130.12 \" fill=\"none\" id=\"E5-&gt;E2\" style=\"stroke: #A80036; stroke-width: 1.0; stroke-dasharray: 7.0,7.0;\"/><polygon fill=\"#A80036\" points=\"269.31,125.92,271.3342,135.5586,272.2364,129.9741,277.8209,130.8763,269.31,125.92\" style=\"stroke: #A80036; stroke-width: 1.0;\"/><text fill=\"#000000\" font-family=\"sans-serif\" font-size=\"13\" lengthAdjust=\"spacingAndGlyphs\" textLength=\"36\" x=\"287\" y=\"223.5669\">[true]</text></a><!--MD5=[65c603f479daeee4052a73be3e043c51]\n",
       "@startuml\r\n",
       "skinparam ranksep 8\r\n",
       "skinparam wrapWidth 300\r\n",
       "hide circle\r\n",
       "\r\n",
       "rec usage \"a\" as E1  <<(T,blue)action>> [[psysml:63b3e978-ff90-4127-8639-9e6714fb0371 ]] {\r\n",
       "choice \"m\" as E2  [[psysml:3c09e5e0-87ee-487d-a94c-d1481b887cf0 ]] \r\n",
       "accept \" S\" as E3 <<accept action>> [[psysml:12477b88-d1e3-4069-a82c-9614e3ee7843 ]] \r\n",
       "send \" S to  B()\" as E4 <<send action>> [[psysml:18c53c10-a81a-4a73-8210-8be9c84ee198 ]] \r\n",
       "choice \"noname\" as E5  [[psysml:e28bc343-f228-4c60-afee-7deafa85ddc3 ]] \r\n",
       "[*] ..> E2 [[psysml:3eb4ae89-c3fe-4a5c-9996-6c16dc90e291 ]] \r\n",
       "E5 ..> [*] [[psysml:529019b4-f7b3-445e-a809-123fd999bfb3 ]] \r\n",
       "}\r\n",
       "\r\n",
       "E2 ..> E3 [[psysml:252a1c6c-cc00-403d-ac29-1241d1eee0ca ]] \r\n",
       "E3 ..> E4 [[psysml:52dd995d-9028-4157-9334-98b87c98e4ca ]] \r\n",
       "E4 ..> E5 [[psysml:11c1c086-8dd9-4b00-9ab5-dcf0da9e4b0f ]] \r\n",
       "E5 ..> E2 [[psysml:9dbcc968-b81d-4000-b2fb-dcd38ad7dec8 ]] : [true]\r\n",
       "rec def \"B\" as E6  <<(T,blue)action def>> [[psysml:a720c396-7a8e-4250-b133-b38e5d5b0a71 ]] {\r\n",
       "}\r\n",
       "\r\n",
       "@enduml\r\n",
       "\n",
       "PlantUML version 1.2020.13(Sat Jun 13 12:26:38 UTC 2020)\n",
       "(EPL source distribution)\n",
       "Java Runtime: OpenJDK Runtime Environment\n",
       "JVM: OpenJDK 64-Bit Server VM\n",
       "Default Encoding: UTF-8\n",
       "Language: en\n",
       "Country: null\n",
       "--></g></svg>"
      ]
     },
     "execution_count": 27,
     "metadata": {},
     "output_type": "execute_result"
    }
   ],
   "source": [
    "%viz --style=\"STDCOLOR\" --view=\"Action\" \"ActionTest\""
   ]
  },
  {
   "cell_type": "code",
   "execution_count": 28,
   "id": "varied-riverside",
   "metadata": {
    "execution": {
     "iopub.execute_input": "2021-03-25T14:11:43.897877Z",
     "iopub.status.busy": "2021-03-25T14:11:43.897295Z",
     "iopub.status.idle": "2021-03-25T14:11:44.591776Z",
     "shell.execute_reply": "2021-03-25T14:11:44.592358Z"
    }
   },
   "outputs": [
    {
     "data": {
      "image/svg+xml": [
       "<?xml version=\"1.0\" encoding=\"UTF-8\" standalone=\"no\"?><svg xmlns=\"http://www.w3.org/2000/svg\" xmlns:xlink=\"http://www.w3.org/1999/xlink\" contentScriptType=\"application/ecmascript\" contentStyleType=\"text/css\" height=\"175px\" preserveAspectRatio=\"none\" style=\"width:543px;height:175px;\" version=\"1.1\" viewBox=\"0 0 543 175\" width=\"543px\" zoomAndPan=\"magnify\"><defs><filter height=\"300%\" id=\"f12negw9yaz00i\" width=\"300%\" x=\"-1\" y=\"-1\"><feGaussianBlur result=\"blurOut\" stdDeviation=\"2.0\"/><feColorMatrix in=\"blurOut\" result=\"blurOut2\" type=\"matrix\" values=\"0 0 0 0 0 0 0 0 0 0 0 0 0 0 0 0 0 0 .4 0\"/><feOffset dx=\"4.0\" dy=\"4.0\" in=\"blurOut2\" result=\"blurOut3\"/><feBlend in=\"SourceGraphic\" in2=\"blurOut3\" mode=\"normal\"/></filter></defs><g><!--MD5=[fbc87193dbaf4d95561dea2c320d4a47]\n",
       "cluster E1--><a href=\"psysml:1b586630-6073-41f8-a31c-3b1021fd2d94\" target=\"_top\" title=\"psysml:1b586630-6073-41f8-a31c-3b1021fd2d94\" xlink:actuate=\"onRequest\" xlink:href=\"psysml:1b586630-6073-41f8-a31c-3b1021fd2d94\" xlink:show=\"new\" xlink:title=\"psysml:1b586630-6073-41f8-a31c-3b1021fd2d94\" xlink:type=\"simple\"><polygon fill=\"#FFFFFF\" filter=\"url(#f12negw9yaz00i)\" points=\"16,6,107,6,114,28.2969,521,28.2969,521,163,16,163,16,6\" style=\"stroke: #000000; stroke-width: 1.5;\"/><line style=\"stroke: #000000; stroke-width: 1.5;\" x1=\"16\" x2=\"114\" y1=\"28.2969\" y2=\"28.2969\"/><text fill=\"#000000\" font-family=\"sans-serif\" font-size=\"14\" font-weight=\"bold\" lengthAdjust=\"spacingAndGlyphs\" textLength=\"85\" x=\"20\" y=\"20.9951\">ActionTest</text></a><!--MD5=[b4997ac47864f28c2f74865a473b2911]\n",
       "class E2--><a href=\"psysml:ec6ecfb2-58e1-4e93-a57f-7fba141d91de\" target=\"_top\" title=\"psysml:ec6ecfb2-58e1-4e93-a57f-7fba141d91de\" xlink:actuate=\"onRequest\" xlink:href=\"psysml:ec6ecfb2-58e1-4e93-a57f-7fba141d91de\" xlink:show=\"new\" xlink:title=\"psysml:ec6ecfb2-58e1-4e93-a57f-7fba141d91de\" xlink:type=\"simple\"><rect fill=\"#FEFECE\" filter=\"url(#f12negw9yaz00i)\" height=\"45.9375\" id=\"E2\" style=\"stroke: #A80036; stroke-width: 1.5;\" width=\"95\" x=\"409.5\" y=\"71\"/><text fill=\"#000000\" font-family=\"sans-serif\" font-size=\"12\" font-style=\"italic\" lengthAdjust=\"spacingAndGlyphs\" textLength=\"93\" x=\"410.5\" y=\"87.1387\">«attribute def»</text><text fill=\"#000000\" font-family=\"sans-serif\" font-size=\"12\" lengthAdjust=\"spacingAndGlyphs\" textLength=\"8\" x=\"453\" y=\"101.1074\">S</text><line style=\"stroke: #A80036; stroke-width: 1.5;\" x1=\"410.5\" x2=\"503.5\" y1=\"108.9375\" y2=\"108.9375\"/></a><!--MD5=[09b614a08d8cba4a07c9adeb5e0fee81]\n",
       "class E3--><a href=\"psysml:63b3e978-ff90-4127-8639-9e6714fb0371\" target=\"_top\" title=\"psysml:63b3e978-ff90-4127-8639-9e6714fb0371\" xlink:actuate=\"onRequest\" xlink:href=\"psysml:63b3e978-ff90-4127-8639-9e6714fb0371\" xlink:show=\"new\" xlink:title=\"psysml:63b3e978-ff90-4127-8639-9e6714fb0371\" xlink:type=\"simple\"><rect fill=\"#FEFECE\" filter=\"url(#f12negw9yaz00i)\" height=\"106.1016\" id=\"E3\" rx=\"10\" ry=\"10\" style=\"stroke: #A80036; stroke-width: 1.5;\" width=\"228\" x=\"146\" y=\"41\"/><text fill=\"#000000\" font-family=\"sans-serif\" font-size=\"12\" font-style=\"italic\" lengthAdjust=\"spacingAndGlyphs\" textLength=\"53\" x=\"233.5\" y=\"57.1387\">«action»</text><text fill=\"#000000\" font-family=\"sans-serif\" font-size=\"12\" lengthAdjust=\"spacingAndGlyphs\" textLength=\"8\" x=\"256\" y=\"71.1074\">a</text><line style=\"stroke: #A80036; stroke-width: 1.5;\" x1=\"147\" x2=\"373\" y1=\"78.9375\" y2=\"78.9375\"/><path d=\"M153.9167,100.6589 L153.9167,109.8255 L154.8333,109.8255 L154.8333,100.6589 M157.5833,100.6589 L157.5833,109.8255 L164.9167,105.2422 L157.5833,100.6589 L158.5,102.0339 L163.5417,105.2422 L158.5,108.4505 L158.5,102.0339 \" fill=\"#000000\" style=\"stroke: ; stroke-width: 0.0; stroke-dasharray: ;\"/><text fill=\"#000000\" font-family=\"sans-serif\" font-size=\"11\" lengthAdjust=\"spacingAndGlyphs\" textLength=\"69\" x=\"169\" y=\"110.8979\">start: Action</text><text fill=\"#000000\" font-family=\"sans-serif\" font-size=\"11\" lengthAdjust=\"spacingAndGlyphs\" text-decoration=\"line-through\" textLength=\"126\" x=\"242\" y=\"110.8979\">Occurrence::startShot</text><line style=\"stroke: #A80036; stroke-width: 1.0;\" x1=\"147\" x2=\"239.5\" y1=\"93.3398\" y2=\"93.3398\"/><text fill=\"#000000\" font-family=\"sans-serif\" font-size=\"11\" lengthAdjust=\"spacingAndGlyphs\" textLength=\"41\" x=\"239.5\" y=\"96.6479\">actions</text><line style=\"stroke: #A80036; stroke-width: 1.0;\" x1=\"280.5\" x2=\"373\" y1=\"93.3398\" y2=\"93.3398\"/><text fill=\"#000000\" font-family=\"sans-serif\" font-size=\"11\" lengthAdjust=\"spacingAndGlyphs\" textLength=\"11\" x=\"152\" y=\"140.5073\">m</text><line style=\"stroke: #A80036; stroke-width: 1.0;\" x1=\"147\" x2=\"223.5\" y1=\"123.8945\" y2=\"123.8945\"/><text fill=\"#000000\" font-family=\"sans-serif\" font-size=\"11\" lengthAdjust=\"spacingAndGlyphs\" textLength=\"73\" x=\"223.5\" y=\"127.2026\">mergeNodes</text><line style=\"stroke: #A80036; stroke-width: 1.0;\" x1=\"296.5\" x2=\"373\" y1=\"123.8945\" y2=\"123.8945\"/></a><!--MD5=[60a26617385b1d2d0262a64233df1f8d]\n",
       "class E6--><a href=\"psysml:a720c396-7a8e-4250-b133-b38e5d5b0a71\" target=\"_top\" title=\"psysml:a720c396-7a8e-4250-b133-b38e5d5b0a71\" xlink:actuate=\"onRequest\" xlink:href=\"psysml:a720c396-7a8e-4250-b133-b38e5d5b0a71\" xlink:show=\"new\" xlink:title=\"psysml:a720c396-7a8e-4250-b133-b38e5d5b0a71\" xlink:type=\"simple\"><rect fill=\"#FEFECE\" filter=\"url(#f12negw9yaz00i)\" height=\"45.9375\" id=\"E6\" style=\"stroke: #A80036; stroke-width: 1.5;\" width=\"79\" x=\"31.5\" y=\"71\"/><text fill=\"#000000\" font-family=\"sans-serif\" font-size=\"12\" font-style=\"italic\" lengthAdjust=\"spacingAndGlyphs\" textLength=\"77\" x=\"32.5\" y=\"87.1387\">«action def»</text><text fill=\"#000000\" font-family=\"sans-serif\" font-size=\"12\" lengthAdjust=\"spacingAndGlyphs\" textLength=\"8\" x=\"67\" y=\"101.1074\">B</text><line style=\"stroke: #A80036; stroke-width: 1.5;\" x1=\"32.5\" x2=\"109.5\" y1=\"108.9375\" y2=\"108.9375\"/></a><!--MD5=[6df370f81b346af5deffc7c1ca789d13]\n",
       "@startuml\r\n",
       "skinparam wrapWidth 300\r\n",
       "hide circle\r\n",
       "\r\n",
       "package \"ActionTest\" as E1  [[psysml:1b586630-6073-41f8-a31c-3b1021fd2d94 ]]  {\r\n",
       "comp def \"S\" as E2  <<(T,blue)attribute def>> [[psysml:ec6ecfb2-58e1-4e93-a57f-7fba141d91de ]] {\r\n",
       "}\r\n",
       "comp usage \"a\" as E3  <<(T,blue)action>> [[psysml:63b3e978-ff90-4127-8639-9e6714fb0371 ]] {\r\n",
       "- - actions - -\r\n",
       "<&bar-trig> start: Action <s>Occurrence::startShot</s>\r\n",
       "- - mergeNodes - -\r\n",
       "m\r\n",
       "}\r\n",
       "comp def \"B\" as E6  <<(T,blue)action def>> [[psysml:a720c396-7a8e-4250-b133-b38e5d5b0a71 ]] {\r\n",
       "}\r\n",
       "}\r\n",
       "@enduml\r\n",
       "\n",
       "PlantUML version 1.2020.13(Sat Jun 13 12:26:38 UTC 2020)\n",
       "(EPL source distribution)\n",
       "Java Runtime: OpenJDK Runtime Environment\n",
       "JVM: OpenJDK 64-Bit Server VM\n",
       "Default Encoding: UTF-8\n",
       "Language: en\n",
       "Country: null\n",
       "--></g></svg>"
      ]
     },
     "execution_count": 28,
     "metadata": {},
     "output_type": "execute_result"
    }
   ],
   "source": [
    "%viz --style=\"STDCOLOR\" --view=\"Sequence\" \"ActionTest\""
   ]
  },
  {
   "cell_type": "code",
   "execution_count": 29,
   "id": "maritime-painting",
   "metadata": {
    "execution": {
     "iopub.execute_input": "2021-03-25T14:11:44.644256Z",
     "iopub.status.busy": "2021-03-25T14:11:44.643536Z",
     "iopub.status.idle": "2021-03-25T14:11:44.803329Z",
     "shell.execute_reply": "2021-03-25T14:11:44.801946Z"
    }
   },
   "outputs": [
    {
     "data": {
      "image/svg+xml": [
       "<?xml version=\"1.0\" encoding=\"UTF-8\" standalone=\"no\"?><svg xmlns=\"http://www.w3.org/2000/svg\" xmlns:xlink=\"http://www.w3.org/1999/xlink\" contentScriptType=\"application/ecmascript\" contentStyleType=\"text/css\" height=\"684px\" preserveAspectRatio=\"none\" style=\"width:518px;height:684px;\" version=\"1.1\" viewBox=\"0 0 518 684\" width=\"518px\" zoomAndPan=\"magnify\"><defs><filter height=\"300%\" id=\"f10u1inyg9cuzk\" width=\"300%\" x=\"-1\" y=\"-1\"><feGaussianBlur result=\"blurOut\" stdDeviation=\"2.0\"/><feColorMatrix in=\"blurOut\" result=\"blurOut2\" type=\"matrix\" values=\"0 0 0 0 0 0 0 0 0 0 0 0 0 0 0 0 0 0 .4 0\"/><feOffset dx=\"4.0\" dy=\"4.0\" in=\"blurOut2\" result=\"blurOut3\"/><feBlend in=\"SourceGraphic\" in2=\"blurOut3\" mode=\"normal\"/></filter></defs><g><!--MD5=[fbc87193dbaf4d95561dea2c320d4a47]\n",
       "cluster E1--><a href=\"psysml:1b586630-6073-41f8-a31c-3b1021fd2d94\" target=\"_top\" title=\"psysml:1b586630-6073-41f8-a31c-3b1021fd2d94\" xlink:actuate=\"onRequest\" xlink:href=\"psysml:1b586630-6073-41f8-a31c-3b1021fd2d94\" xlink:show=\"new\" xlink:title=\"psysml:1b586630-6073-41f8-a31c-3b1021fd2d94\" xlink:type=\"simple\"><polygon fill=\"#FFFFFF\" filter=\"url(#f10u1inyg9cuzk)\" points=\"16,6,107,6,114,28.2969,496,28.2969,496,672,16,672,16,6\" style=\"stroke: #000000; stroke-width: 1.5;\"/><line style=\"stroke: #000000; stroke-width: 1.5;\" x1=\"16\" x2=\"114\" y1=\"28.2969\" y2=\"28.2969\"/><text fill=\"#000000\" font-family=\"sans-serif\" font-size=\"14\" font-weight=\"bold\" lengthAdjust=\"spacingAndGlyphs\" textLength=\"85\" x=\"20\" y=\"20.9951\">ActionTest</text></a><!--MD5=[d5e69f78d87373223dbae638b30a9c99]\n",
       "cluster E3--><a href=\"psysml:63b3e978-ff90-4127-8639-9e6714fb0371\" target=\"_top\" title=\"psysml:63b3e978-ff90-4127-8639-9e6714fb0371\" xlink:actuate=\"onRequest\" xlink:href=\"psysml:63b3e978-ff90-4127-8639-9e6714fb0371\" xlink:show=\"new\" xlink:title=\"psysml:63b3e978-ff90-4127-8639-9e6714fb0371\" xlink:type=\"simple\"><rect fill=\"#FFFFFF\" filter=\"url(#f10u1inyg9cuzk)\" height=\"599\" id=\"E3\" rx=\"10\" ry=\"10\" style=\"stroke: #A80036; stroke-width: 1.5;\" width=\"209\" x=\"263\" y=\"49\"/><rect fill=\"#FEFECE\" height=\"37.9375\" rx=\"10\" ry=\"10\" style=\"stroke: #FEFECE; stroke-width: 1.5;\" width=\"209\" x=\"263\" y=\"49\"/><rect fill=\"#FEFECE\" height=\"10\" style=\"stroke: #FEFECE; stroke-width: 1.5;\" width=\"209\" x=\"263\" y=\"76.9375\"/><rect fill=\"none\" height=\"599\" id=\"E3\" rx=\"10\" ry=\"10\" style=\"stroke: #A80036; stroke-width: 1.5;\" width=\"209\" x=\"263\" y=\"49\"/><text fill=\"#000000\" font-family=\"sans-serif\" font-size=\"12\" font-style=\"italic\" lengthAdjust=\"spacingAndGlyphs\" textLength=\"53\" x=\"341\" y=\"65.1387\">«action»</text><text fill=\"#000000\" font-family=\"sans-serif\" font-size=\"12\" lengthAdjust=\"spacingAndGlyphs\" textLength=\"8\" x=\"363.5\" y=\"79.1074\">a</text><line style=\"stroke: #A80036; stroke-width: 1.0;\" x1=\"263\" x2=\"472\" y1=\"86.9375\" y2=\"86.9375\"/></a><!--MD5=[b4997ac47864f28c2f74865a473b2911]\n",
       "class E2--><a href=\"psysml:ec6ecfb2-58e1-4e93-a57f-7fba141d91de\" target=\"_top\" title=\"psysml:ec6ecfb2-58e1-4e93-a57f-7fba141d91de\" xlink:actuate=\"onRequest\" xlink:href=\"psysml:ec6ecfb2-58e1-4e93-a57f-7fba141d91de\" xlink:show=\"new\" xlink:title=\"psysml:ec6ecfb2-58e1-4e93-a57f-7fba141d91de\" xlink:type=\"simple\"><rect fill=\"#FEFECE\" filter=\"url(#f10u1inyg9cuzk)\" height=\"45.9375\" id=\"E2\" style=\"stroke: #A80036; stroke-width: 1.5;\" width=\"95\" x=\"151.5\" y=\"87\"/><text fill=\"#000000\" font-family=\"sans-serif\" font-size=\"12\" font-style=\"italic\" lengthAdjust=\"spacingAndGlyphs\" textLength=\"93\" x=\"152.5\" y=\"103.1387\">«attribute def»</text><text fill=\"#000000\" font-family=\"sans-serif\" font-size=\"12\" lengthAdjust=\"spacingAndGlyphs\" textLength=\"8\" x=\"195\" y=\"117.1074\">S</text><line style=\"stroke: #A80036; stroke-width: 1.5;\" x1=\"152.5\" x2=\"245.5\" y1=\"124.9375\" y2=\"124.9375\"/></a><polygon fill=\"#FEFECE\" filter=\"url(#f10u1inyg9cuzk)\" points=\"420,194,432,206,420,218,408,206,420,194\" style=\"stroke: #A80036; stroke-width: 1.5;\"/><!--MD5=[21dd76c19d33815960c0e92fef8f0eef]\n",
       "entity E5--><a href=\"psysml:12477b88-d1e3-4069-a82c-9614e3ee7843\" target=\"_top\" title=\"psysml:12477b88-d1e3-4069-a82c-9614e3ee7843\" xlink:actuate=\"onRequest\" xlink:href=\"psysml:12477b88-d1e3-4069-a82c-9614e3ee7843\" xlink:show=\"new\" xlink:title=\"psysml:12477b88-d1e3-4069-a82c-9614e3ee7843\" xlink:type=\"simple\"><polygon fill=\"#FEFECE\" filter=\"url(#f10u1inyg9cuzk)\" points=\"279,279,279,333.5938,419,333.5938,399,306.2969,419,279\" style=\"stroke: #000000; stroke-width: 1.5;\"/><text fill=\"#000000\" font-family=\"sans-serif\" font-size=\"14\" font-style=\"italic\" lengthAdjust=\"spacingAndGlyphs\" textLength=\"111\" x=\"286\" y=\"301.9951\">«accept action»</text><text fill=\"#000000\" font-family=\"sans-serif\" font-size=\"14\" lengthAdjust=\"spacingAndGlyphs\" textLength=\"9\" x=\"337\" y=\"319.292\">S</text></a><!--MD5=[24d87cdf3002d433f401b2a2aa9f9f65]\n",
       "entity E6--><a href=\"psysml:18c53c10-a81a-4a73-8210-8be9c84ee198\" target=\"_top\" title=\"psysml:18c53c10-a81a-4a73-8210-8be9c84ee198\" xlink:actuate=\"onRequest\" xlink:href=\"psysml:18c53c10-a81a-4a73-8210-8be9c84ee198\" xlink:show=\"new\" xlink:title=\"psysml:18c53c10-a81a-4a73-8210-8be9c84ee198\" xlink:type=\"simple\"><polygon fill=\"#FEFECE\" filter=\"url(#f10u1inyg9cuzk)\" points=\"279,411,279,465.5938,387,465.5938,407,438.2969,387,411\" style=\"stroke: #000000; stroke-width: 1.5;\"/><text fill=\"#000000\" font-family=\"sans-serif\" font-size=\"14\" font-style=\"italic\" lengthAdjust=\"spacingAndGlyphs\" textLength=\"99\" x=\"286\" y=\"433.9951\">«send action»</text><text fill=\"#000000\" font-family=\"sans-serif\" font-size=\"14\" lengthAdjust=\"spacingAndGlyphs\" textLength=\"55\" x=\"308\" y=\"451.292\">S to  B()</text></a><polygon fill=\"#FEFECE\" filter=\"url(#f10u1inyg9cuzk)\" points=\"418,527,430,539,418,551,406,539,418,527\" style=\"stroke: #A80036; stroke-width: 1.5;\"/><ellipse cx=\"420\" cy=\"110\" fill=\"#000000\" filter=\"url(#f10u1inyg9cuzk)\" rx=\"10\" ry=\"10\" style=\"stroke: none; stroke-width: 1.0;\"/><ellipse cx=\"418\" cy=\"622\" fill=\"none\" filter=\"url(#f10u1inyg9cuzk)\" rx=\"10\" ry=\"10\" style=\"stroke: #000000; stroke-width: 1.0;\"/><ellipse cx=\"418.5\" cy=\"622.5\" fill=\"#000000\" rx=\"6\" ry=\"6\" style=\"stroke: none; stroke-width: 1.0;\"/><g id=\"E1.E8\"><a href=\"psysml:a720c396-7a8e-4250-b133-b38e5d5b0a71\" target=\"_top\" title=\"psysml:a720c396-7a8e-4250-b133-b38e5d5b0a71\" xlink:actuate=\"onRequest\" xlink:href=\"psysml:a720c396-7a8e-4250-b133-b38e5d5b0a71\" xlink:show=\"new\" xlink:title=\"psysml:a720c396-7a8e-4250-b133-b38e5d5b0a71\" xlink:type=\"simple\"><rect fill=\"#FEFECE\" filter=\"url(#f10u1inyg9cuzk)\" height=\"42.9375\" id=\"E8\" style=\"stroke: #A80036; stroke-width: 1.5;\" width=\"84\" x=\"32\" y=\"88.5\"/><text fill=\"#000000\" font-family=\"sans-serif\" font-size=\"12\" font-style=\"italic\" lengthAdjust=\"spacingAndGlyphs\" textLength=\"77\" x=\"35.5\" y=\"104.6387\">«action def»</text><text fill=\"#000000\" font-family=\"sans-serif\" font-size=\"12\" lengthAdjust=\"spacingAndGlyphs\" textLength=\"8\" x=\"70\" y=\"118.6074\">B</text></a></g><!--MD5=[f47e10efcf9a6752d55dae986d790ed9]\n",
       "link *start*E3 to E4--><a href=\"psysml:3eb4ae89-c3fe-4a5c-9996-6c16dc90e291\" target=\"_top\" title=\"psysml:3eb4ae89-c3fe-4a5c-9996-6c16dc90e291\" xlink:actuate=\"onRequest\" xlink:href=\"psysml:3eb4ae89-c3fe-4a5c-9996-6c16dc90e291\" xlink:show=\"new\" xlink:title=\"psysml:3eb4ae89-c3fe-4a5c-9996-6c16dc90e291\" xlink:type=\"simple\"><path d=\"M420,120.01 C420,135.81 420,168.69 420,188.61 \" fill=\"none\" id=\"*start*E3-&gt;E4\" style=\"stroke: #A80036; stroke-width: 1.0;\"/><polygon fill=\"#A80036\" points=\"420,193.85,424,184.85,420,188.85,416,184.85,420,193.85\" style=\"stroke: #A80036; stroke-width: 1.0;\"/></a><!--MD5=[d19f2eb34364d71b67042106d92f540b]\n",
       "link E7 to *end*E3--><a href=\"psysml:529019b4-f7b3-445e-a809-123fd999bfb3\" target=\"_top\" title=\"psysml:529019b4-f7b3-445e-a809-123fd999bfb3\" xlink:actuate=\"onRequest\" xlink:href=\"psysml:529019b4-f7b3-445e-a809-123fd999bfb3\" xlink:show=\"new\" xlink:title=\"psysml:529019b4-f7b3-445e-a809-123fd999bfb3\" xlink:type=\"simple\"><path d=\"M418,551.26 C418,565.66 418,590.63 418,606.46 \" fill=\"none\" id=\"E7-&gt;*end*E3\" style=\"stroke: #A80036; stroke-width: 1.0;\"/><polygon fill=\"#A80036\" points=\"418,611.84,422,602.84,418,606.84,414,602.84,418,611.84\" style=\"stroke: #A80036; stroke-width: 1.0;\"/></a><!--MD5=[1b7591eae5389033d8d09a9d6721a717]\n",
       "link E4 to E5--><a href=\"psysml:252a1c6c-cc00-403d-ac29-1241d1eee0ca\" target=\"_top\" title=\"psysml:252a1c6c-cc00-403d-ac29-1241d1eee0ca\" xlink:actuate=\"onRequest\" xlink:href=\"psysml:252a1c6c-cc00-403d-ac29-1241d1eee0ca\" xlink:show=\"new\" xlink:title=\"psysml:252a1c6c-cc00-403d-ac29-1241d1eee0ca\" xlink:type=\"simple\"><path d=\"M415.34,213.46 C406.55,225.66 386.99,252.8 371.37,274.46 \" fill=\"none\" id=\"E4-&gt;E5\" style=\"stroke: #A80036; stroke-width: 1.0;\"/><polygon fill=\"#A80036\" points=\"368.31,278.71,376.8093,273.7339,371.227,274.6491,370.3119,269.0667,368.31,278.71\" style=\"stroke: #A80036; stroke-width: 1.0;\"/></a><!--MD5=[9120cf2e5df3bff93db8f754bbbc09b4]\n",
       "link E5 to E6--><a href=\"psysml:52dd995d-9028-4157-9334-98b87c98e4ca\" target=\"_top\" title=\"psysml:52dd995d-9028-4157-9334-98b87c98e4ca\" xlink:actuate=\"onRequest\" xlink:href=\"psysml:52dd995d-9028-4157-9334-98b87c98e4ca\" xlink:show=\"new\" xlink:title=\"psysml:52dd995d-9028-4157-9334-98b87c98e4ca\" xlink:type=\"simple\"><path d=\"M347.77,334.12 C346.81,354.89 345.48,383.8 344.46,405.77 \" fill=\"none\" id=\"E5-&gt;E6\" style=\"stroke: #A80036; stroke-width: 1.0;\"/><polygon fill=\"#A80036\" points=\"344.23,410.91,348.6368,402.1021,344.4583,405.9152,340.6452,401.7367,344.23,410.91\" style=\"stroke: #A80036; stroke-width: 1.0;\"/></a><!--MD5=[02c70b7c851c11e3980e4e90450dc5dd]\n",
       "link E6 to E7--><a href=\"psysml:11c1c086-8dd9-4b00-9ab5-dcf0da9e4b0f\" target=\"_top\" title=\"psysml:11c1c086-8dd9-4b00-9ab5-dcf0da9e4b0f\" xlink:actuate=\"onRequest\" xlink:href=\"psysml:11c1c086-8dd9-4b00-9ab5-dcf0da9e4b0f\" xlink:show=\"new\" xlink:title=\"psysml:11c1c086-8dd9-4b00-9ab5-dcf0da9e4b0f\" xlink:type=\"simple\"><path d=\"M363.3,466.16 C378.71,486.4 399.07,513.14 410.09,527.61 \" fill=\"none\" id=\"E6-&gt;E7\" style=\"stroke: #A80036; stroke-width: 1.0;\"/><polygon fill=\"#A80036\" points=\"413.2,531.69,410.9398,522.104,410.1749,527.7089,404.57,526.9441,413.2,531.69\" style=\"stroke: #A80036; stroke-width: 1.0;\"/></a><!--MD5=[6bdd27f9905911a7e892a3dc65cf6b7c]\n",
       "link E7 to E4--><a href=\"psysml:9dbcc968-b81d-4000-b2fb-dcd38ad7dec8\" target=\"_top\" title=\"psysml:9dbcc968-b81d-4000-b2fb-dcd38ad7dec8\" xlink:actuate=\"onRequest\" xlink:href=\"psysml:9dbcc968-b81d-4000-b2fb-dcd38ad7dec8\" xlink:show=\"new\" xlink:title=\"psysml:9dbcc968-b81d-4000-b2fb-dcd38ad7dec8\" xlink:type=\"simple\"><path d=\"M419.98,528.56 C426.8,494.71 448.32,376.18 437,279 C434.59,258.32 428.42,234.96 424.21,220.61 \" fill=\"none\" id=\"E7-&gt;E4\" style=\"stroke: #A80036; stroke-width: 1.0;\"/><polygon fill=\"#A80036\" points=\"422.76,215.75,421.4935,225.5171,424.1863,220.5423,429.1611,223.2351,422.76,215.75\" style=\"stroke: #A80036; stroke-width: 1.0;\"/><text fill=\"#000000\" font-family=\"sans-serif\" font-size=\"13\" lengthAdjust=\"spacingAndGlyphs\" textLength=\"36\" x=\"440\" y=\"377.0669\">[true]</text></a><!--MD5=[b5dfc80ec7c98168fd880643df789876]\n",
       "@startuml\r\n",
       "skinparam wrapWidth 300\r\n",
       "hide circle\r\n",
       "\r\n",
       "package \"ActionTest\" as E1  [[psysml:1b586630-6073-41f8-a31c-3b1021fd2d94 ]]  {\r\n",
       "comp def \"S\" as E2  <<(T,blue)attribute def>> [[psysml:ec6ecfb2-58e1-4e93-a57f-7fba141d91de ]] {\r\n",
       "}\r\n",
       "rec usage \"a\" as E3  <<(T,blue)action>> [[psysml:63b3e978-ff90-4127-8639-9e6714fb0371 ]] {\r\n",
       "choice \"m\" as E4  [[psysml:3c09e5e0-87ee-487d-a94c-d1481b887cf0 ]] \r\n",
       "accept \" S\" as E5 <<accept action>> [[psysml:12477b88-d1e3-4069-a82c-9614e3ee7843 ]] \r\n",
       "send \" S to  B()\" as E6 <<send action>> [[psysml:18c53c10-a81a-4a73-8210-8be9c84ee198 ]] \r\n",
       "choice \"noname\" as E7  [[psysml:e28bc343-f228-4c60-afee-7deafa85ddc3 ]] \r\n",
       "[*] - -> E4 [[psysml:3eb4ae89-c3fe-4a5c-9996-6c16dc90e291 ]] \r\n",
       "E7  - -> [*] [[psysml:529019b4-f7b3-445e-a809-123fd999bfb3 ]] \r\n",
       "}\r\n",
       "\r\n",
       "rec def \"B\" as E8  <<(T,blue)action def>> [[psysml:a720c396-7a8e-4250-b133-b38e5d5b0a71 ]] {\r\n",
       "}\r\n",
       "\r\n",
       "E4 - -> E5 [[psysml:252a1c6c-cc00-403d-ac29-1241d1eee0ca ]] \r\n",
       "E5 - -> E6 [[psysml:52dd995d-9028-4157-9334-98b87c98e4ca ]] \r\n",
       "E6 - -> E7 [[psysml:11c1c086-8dd9-4b00-9ab5-dcf0da9e4b0f ]] \r\n",
       "E7  - -> E4 [[psysml:9dbcc968-b81d-4000-b2fb-dcd38ad7dec8 ]] : [true]\r\n",
       "}\r\n",
       "@enduml\r\n",
       "\n",
       "PlantUML version 1.2020.13(Sat Jun 13 12:26:38 UTC 2020)\n",
       "(EPL source distribution)\n",
       "Java Runtime: OpenJDK Runtime Environment\n",
       "JVM: OpenJDK 64-Bit Server VM\n",
       "Default Encoding: UTF-8\n",
       "Language: en\n",
       "Country: null\n",
       "--></g></svg>"
      ]
     },
     "execution_count": 29,
     "metadata": {},
     "output_type": "execute_result"
    }
   ],
   "source": [
    "%viz --style=\"STDCOLOR\" --view=\"MIXED\" \"ActionTest\""
   ]
  },
  {
   "cell_type": "code",
   "execution_count": 30,
   "id": "environmental-picking",
   "metadata": {
    "execution": {
     "iopub.execute_input": "2021-03-25T14:11:44.854962Z",
     "iopub.status.busy": "2021-03-25T14:11:44.854431Z",
     "iopub.status.idle": "2021-03-25T14:11:45.031189Z",
     "shell.execute_reply": "2021-03-25T14:11:45.030613Z"
    }
   },
   "outputs": [
    {
     "data": {
      "image/svg+xml": [
       "<?xml version=\"1.0\" encoding=\"UTF-8\" standalone=\"no\"?><svg xmlns=\"http://www.w3.org/2000/svg\" xmlns:xlink=\"http://www.w3.org/1999/xlink\" contentScriptType=\"application/ecmascript\" contentStyleType=\"text/css\" height=\"684px\" preserveAspectRatio=\"none\" style=\"width:570px;height:684px;\" version=\"1.1\" viewBox=\"0 0 570 684\" width=\"570px\" zoomAndPan=\"magnify\"><defs><filter height=\"300%\" id=\"f1b1o0oi9dqqo0\" width=\"300%\" x=\"-1\" y=\"-1\"><feGaussianBlur result=\"blurOut\" stdDeviation=\"2.0\"/><feColorMatrix in=\"blurOut\" result=\"blurOut2\" type=\"matrix\" values=\"0 0 0 0 0 0 0 0 0 0 0 0 0 0 0 0 0 0 .4 0\"/><feOffset dx=\"4.0\" dy=\"4.0\" in=\"blurOut2\" result=\"blurOut3\"/><feBlend in=\"SourceGraphic\" in2=\"blurOut3\" mode=\"normal\"/></filter></defs><g><!--MD5=[fbc87193dbaf4d95561dea2c320d4a47]\n",
       "cluster E1--><a href=\"psysml:1b586630-6073-41f8-a31c-3b1021fd2d94\" target=\"_top\" title=\"psysml:1b586630-6073-41f8-a31c-3b1021fd2d94\" xlink:actuate=\"onRequest\" xlink:href=\"psysml:1b586630-6073-41f8-a31c-3b1021fd2d94\" xlink:show=\"new\" xlink:title=\"psysml:1b586630-6073-41f8-a31c-3b1021fd2d94\" xlink:type=\"simple\"><polygon fill=\"#FFFFFF\" filter=\"url(#f1b1o0oi9dqqo0)\" points=\"16,6,107,6,114,28.2969,548,28.2969,548,672,16,672,16,6\" style=\"stroke: #000000; stroke-width: 1.5;\"/><line style=\"stroke: #000000; stroke-width: 1.5;\" x1=\"16\" x2=\"114\" y1=\"28.2969\" y2=\"28.2969\"/><text fill=\"#000000\" font-family=\"sans-serif\" font-size=\"14\" font-weight=\"bold\" lengthAdjust=\"spacingAndGlyphs\" textLength=\"85\" x=\"20\" y=\"20.9951\">ActionTest</text></a><!--MD5=[d5e69f78d87373223dbae638b30a9c99]\n",
       "cluster E3--><a href=\"psysml:63b3e978-ff90-4127-8639-9e6714fb0371\" target=\"_top\" title=\"psysml:63b3e978-ff90-4127-8639-9e6714fb0371\" xlink:actuate=\"onRequest\" xlink:href=\"psysml:63b3e978-ff90-4127-8639-9e6714fb0371\" xlink:show=\"new\" xlink:title=\"psysml:63b3e978-ff90-4127-8639-9e6714fb0371\" xlink:type=\"simple\"><rect fill=\"#FFFFFF\" filter=\"url(#f1b1o0oi9dqqo0)\" height=\"599\" id=\"E3\" rx=\"10\" ry=\"10\" style=\"stroke: #A80036; stroke-width: 1.5;\" width=\"209\" x=\"315\" y=\"49\"/><rect fill=\"#FEFECE\" height=\"37.9375\" rx=\"10\" ry=\"10\" style=\"stroke: #FEFECE; stroke-width: 1.5;\" width=\"209\" x=\"315\" y=\"49\"/><rect fill=\"#FEFECE\" height=\"10\" style=\"stroke: #FEFECE; stroke-width: 1.5;\" width=\"209\" x=\"315\" y=\"76.9375\"/><rect fill=\"none\" height=\"599\" id=\"E3\" rx=\"10\" ry=\"10\" style=\"stroke: #A80036; stroke-width: 1.5;\" width=\"209\" x=\"315\" y=\"49\"/><text fill=\"#000000\" font-family=\"sans-serif\" font-size=\"12\" font-style=\"italic\" lengthAdjust=\"spacingAndGlyphs\" textLength=\"53\" x=\"393\" y=\"65.1387\">«action»</text><text fill=\"#000000\" font-family=\"sans-serif\" font-size=\"12\" lengthAdjust=\"spacingAndGlyphs\" textLength=\"8\" x=\"415.5\" y=\"79.1074\">a</text><line style=\"stroke: #A80036; stroke-width: 1.0;\" x1=\"315\" x2=\"524\" y1=\"86.9375\" y2=\"86.9375\"/></a><!--MD5=[b4997ac47864f28c2f74865a473b2911]\n",
       "class E2--><a href=\"psysml:ec6ecfb2-58e1-4e93-a57f-7fba141d91de\" target=\"_top\" title=\"psysml:ec6ecfb2-58e1-4e93-a57f-7fba141d91de\" xlink:actuate=\"onRequest\" xlink:href=\"psysml:ec6ecfb2-58e1-4e93-a57f-7fba141d91de\" xlink:show=\"new\" xlink:title=\"psysml:ec6ecfb2-58e1-4e93-a57f-7fba141d91de\" xlink:type=\"simple\"><rect fill=\"#FEFECE\" filter=\"url(#f1b1o0oi9dqqo0)\" height=\"45.9375\" id=\"E2\" style=\"stroke: #A80036; stroke-width: 1.5;\" width=\"121\" x=\"177.5\" y=\"87\"/><ellipse cx=\"192.5\" cy=\"105.9688\" fill=\"#A52A2A\" rx=\"11\" ry=\"11\" style=\"stroke: #A80036; stroke-width: 1.0;\"/><path d=\"M192.0938,101.7813 L192.0938,109.7656 L192.75,109.7656 Q194.1875,109.7656 194.7969,108.8594 Q195.4219,107.9375 195.4219,105.7656 Q195.4219,103.5938 194.7969,102.6875 Q194.1875,101.7813 192.75,101.7813 L192.0938,101.7813 Z M189.6406,99.5781 L192.2656,99.5781 Q195.2969,99.5781 196.625,101.0313 Q197.9688,102.4688 197.9688,105.7656 Q197.9688,109.0625 196.625,110.5156 Q195.2969,111.9688 192.2656,111.9688 L189.6406,111.9688 L189.6406,99.5781 Z \"/><text fill=\"#000000\" font-family=\"sans-serif\" font-size=\"12\" font-style=\"italic\" lengthAdjust=\"spacingAndGlyphs\" textLength=\"93\" x=\"204.5\" y=\"103.1387\">«attribute def»</text><text fill=\"#000000\" font-family=\"sans-serif\" font-size=\"12\" lengthAdjust=\"spacingAndGlyphs\" textLength=\"8\" x=\"247\" y=\"117.1074\">S</text><line style=\"stroke: #A80036; stroke-width: 1.5;\" x1=\"178.5\" x2=\"297.5\" y1=\"124.9375\" y2=\"124.9375\"/></a><polygon fill=\"#FEFECE\" filter=\"url(#f1b1o0oi9dqqo0)\" points=\"472,194,484,206,472,218,460,206,472,194\" style=\"stroke: #A80036; stroke-width: 1.5;\"/><!--MD5=[21dd76c19d33815960c0e92fef8f0eef]\n",
       "entity E5--><a href=\"psysml:12477b88-d1e3-4069-a82c-9614e3ee7843\" target=\"_top\" title=\"psysml:12477b88-d1e3-4069-a82c-9614e3ee7843\" xlink:actuate=\"onRequest\" xlink:href=\"psysml:12477b88-d1e3-4069-a82c-9614e3ee7843\" xlink:show=\"new\" xlink:title=\"psysml:12477b88-d1e3-4069-a82c-9614e3ee7843\" xlink:type=\"simple\"><polygon fill=\"#FEFECE\" filter=\"url(#f1b1o0oi9dqqo0)\" points=\"331,279,331,333.5938,471,333.5938,451,306.2969,471,279\" style=\"stroke: #000000; stroke-width: 1.5;\"/><text fill=\"#000000\" font-family=\"sans-serif\" font-size=\"14\" font-style=\"italic\" lengthAdjust=\"spacingAndGlyphs\" textLength=\"111\" x=\"338\" y=\"301.9951\">«accept action»</text><text fill=\"#000000\" font-family=\"sans-serif\" font-size=\"14\" lengthAdjust=\"spacingAndGlyphs\" textLength=\"9\" x=\"389\" y=\"319.292\">S</text></a><!--MD5=[24d87cdf3002d433f401b2a2aa9f9f65]\n",
       "entity E6--><a href=\"psysml:18c53c10-a81a-4a73-8210-8be9c84ee198\" target=\"_top\" title=\"psysml:18c53c10-a81a-4a73-8210-8be9c84ee198\" xlink:actuate=\"onRequest\" xlink:href=\"psysml:18c53c10-a81a-4a73-8210-8be9c84ee198\" xlink:show=\"new\" xlink:title=\"psysml:18c53c10-a81a-4a73-8210-8be9c84ee198\" xlink:type=\"simple\"><polygon fill=\"#FEFECE\" filter=\"url(#f1b1o0oi9dqqo0)\" points=\"331,411,331,465.5938,439,465.5938,459,438.2969,439,411\" style=\"stroke: #000000; stroke-width: 1.5;\"/><text fill=\"#000000\" font-family=\"sans-serif\" font-size=\"14\" font-style=\"italic\" lengthAdjust=\"spacingAndGlyphs\" textLength=\"99\" x=\"338\" y=\"433.9951\">«send action»</text><text fill=\"#000000\" font-family=\"sans-serif\" font-size=\"14\" lengthAdjust=\"spacingAndGlyphs\" textLength=\"55\" x=\"360\" y=\"451.292\">S to  B()</text></a><polygon fill=\"#FEFECE\" filter=\"url(#f1b1o0oi9dqqo0)\" points=\"470,527,482,539,470,551,458,539,470,527\" style=\"stroke: #A80036; stroke-width: 1.5;\"/><ellipse cx=\"472\" cy=\"110\" fill=\"#000000\" filter=\"url(#f1b1o0oi9dqqo0)\" rx=\"10\" ry=\"10\" style=\"stroke: none; stroke-width: 1.0;\"/><ellipse cx=\"470\" cy=\"622\" fill=\"none\" filter=\"url(#f1b1o0oi9dqqo0)\" rx=\"10\" ry=\"10\" style=\"stroke: #000000; stroke-width: 1.0;\"/><ellipse cx=\"470.5\" cy=\"622.5\" fill=\"#000000\" rx=\"6\" ry=\"6\" style=\"stroke: none; stroke-width: 1.0;\"/><g id=\"E1.E8\"><a href=\"psysml:a720c396-7a8e-4250-b133-b38e5d5b0a71\" target=\"_top\" title=\"psysml:a720c396-7a8e-4250-b133-b38e5d5b0a71\" xlink:actuate=\"onRequest\" xlink:href=\"psysml:a720c396-7a8e-4250-b133-b38e5d5b0a71\" xlink:show=\"new\" xlink:title=\"psysml:a720c396-7a8e-4250-b133-b38e5d5b0a71\" xlink:type=\"simple\"><rect fill=\"#FEFECE\" filter=\"url(#f1b1o0oi9dqqo0)\" height=\"42.9375\" id=\"E8\" style=\"stroke: #A80036; stroke-width: 1.5;\" width=\"110\" x=\"32\" y=\"88.5\"/><ellipse cx=\"49.25\" cy=\"107.4688\" fill=\"#A52A2A\" rx=\"11\" ry=\"11\" style=\"stroke: #A80036; stroke-width: 1.0;\"/><path d=\"M48.8438,103.2813 L48.8438,111.2656 L49.5,111.2656 Q50.9375,111.2656 51.5469,110.3594 Q52.1719,109.4375 52.1719,107.2656 Q52.1719,105.0938 51.5469,104.1875 Q50.9375,103.2813 49.5,103.2813 L48.8438,103.2813 Z M46.3906,101.0781 L49.0156,101.0781 Q52.0469,101.0781 53.375,102.5313 Q54.7188,103.9688 54.7188,107.2656 Q54.7188,110.5625 53.375,112.0156 Q52.0469,113.4688 49.0156,113.4688 L46.3906,113.4688 L46.3906,101.0781 Z \"/><text fill=\"#000000\" font-family=\"sans-serif\" font-size=\"12\" font-style=\"italic\" lengthAdjust=\"spacingAndGlyphs\" textLength=\"77\" x=\"61.75\" y=\"104.6387\">«action def»</text><text fill=\"#000000\" font-family=\"sans-serif\" font-size=\"12\" lengthAdjust=\"spacingAndGlyphs\" textLength=\"8\" x=\"96.25\" y=\"118.6074\">B</text></a></g><!--MD5=[f47e10efcf9a6752d55dae986d790ed9]\n",
       "link *start*E3 to E4--><a href=\"psysml:3eb4ae89-c3fe-4a5c-9996-6c16dc90e291\" target=\"_top\" title=\"psysml:3eb4ae89-c3fe-4a5c-9996-6c16dc90e291\" xlink:actuate=\"onRequest\" xlink:href=\"psysml:3eb4ae89-c3fe-4a5c-9996-6c16dc90e291\" xlink:show=\"new\" xlink:title=\"psysml:3eb4ae89-c3fe-4a5c-9996-6c16dc90e291\" xlink:type=\"simple\"><path d=\"M472,120.01 C472,135.81 472,168.69 472,188.61 \" fill=\"none\" id=\"*start*E3-&gt;E4\" style=\"stroke: #A80036; stroke-width: 1.0;\"/><polygon fill=\"#A80036\" points=\"472,193.85,476,184.85,472,188.85,468,184.85,472,193.85\" style=\"stroke: #A80036; stroke-width: 1.0;\"/></a><!--MD5=[d19f2eb34364d71b67042106d92f540b]\n",
       "link E7 to *end*E3--><a href=\"psysml:529019b4-f7b3-445e-a809-123fd999bfb3\" target=\"_top\" title=\"psysml:529019b4-f7b3-445e-a809-123fd999bfb3\" xlink:actuate=\"onRequest\" xlink:href=\"psysml:529019b4-f7b3-445e-a809-123fd999bfb3\" xlink:show=\"new\" xlink:title=\"psysml:529019b4-f7b3-445e-a809-123fd999bfb3\" xlink:type=\"simple\"><path d=\"M470,551.26 C470,565.66 470,590.63 470,606.46 \" fill=\"none\" id=\"E7-&gt;*end*E3\" style=\"stroke: #A80036; stroke-width: 1.0;\"/><polygon fill=\"#A80036\" points=\"470,611.84,474,602.84,470,606.84,466,602.84,470,611.84\" style=\"stroke: #A80036; stroke-width: 1.0;\"/></a><!--MD5=[1b7591eae5389033d8d09a9d6721a717]\n",
       "link E4 to E5--><a href=\"psysml:252a1c6c-cc00-403d-ac29-1241d1eee0ca\" target=\"_top\" title=\"psysml:252a1c6c-cc00-403d-ac29-1241d1eee0ca\" xlink:actuate=\"onRequest\" xlink:href=\"psysml:252a1c6c-cc00-403d-ac29-1241d1eee0ca\" xlink:show=\"new\" xlink:title=\"psysml:252a1c6c-cc00-403d-ac29-1241d1eee0ca\" xlink:type=\"simple\"><path d=\"M467.34,213.46 C458.55,225.66 438.99,252.8 423.37,274.46 \" fill=\"none\" id=\"E4-&gt;E5\" style=\"stroke: #A80036; stroke-width: 1.0;\"/><polygon fill=\"#A80036\" points=\"420.31,278.71,428.8093,273.7339,423.227,274.6491,422.3119,269.0667,420.31,278.71\" style=\"stroke: #A80036; stroke-width: 1.0;\"/></a><!--MD5=[9120cf2e5df3bff93db8f754bbbc09b4]\n",
       "link E5 to E6--><a href=\"psysml:52dd995d-9028-4157-9334-98b87c98e4ca\" target=\"_top\" title=\"psysml:52dd995d-9028-4157-9334-98b87c98e4ca\" xlink:actuate=\"onRequest\" xlink:href=\"psysml:52dd995d-9028-4157-9334-98b87c98e4ca\" xlink:show=\"new\" xlink:title=\"psysml:52dd995d-9028-4157-9334-98b87c98e4ca\" xlink:type=\"simple\"><path d=\"M399.77,334.12 C398.81,354.89 397.48,383.8 396.46,405.77 \" fill=\"none\" id=\"E5-&gt;E6\" style=\"stroke: #A80036; stroke-width: 1.0;\"/><polygon fill=\"#A80036\" points=\"396.23,410.91,400.6368,402.1021,396.4583,405.9152,392.6452,401.7367,396.23,410.91\" style=\"stroke: #A80036; stroke-width: 1.0;\"/></a><!--MD5=[02c70b7c851c11e3980e4e90450dc5dd]\n",
       "link E6 to E7--><a href=\"psysml:11c1c086-8dd9-4b00-9ab5-dcf0da9e4b0f\" target=\"_top\" title=\"psysml:11c1c086-8dd9-4b00-9ab5-dcf0da9e4b0f\" xlink:actuate=\"onRequest\" xlink:href=\"psysml:11c1c086-8dd9-4b00-9ab5-dcf0da9e4b0f\" xlink:show=\"new\" xlink:title=\"psysml:11c1c086-8dd9-4b00-9ab5-dcf0da9e4b0f\" xlink:type=\"simple\"><path d=\"M415.3,466.16 C430.71,486.4 451.07,513.14 462.09,527.61 \" fill=\"none\" id=\"E6-&gt;E7\" style=\"stroke: #A80036; stroke-width: 1.0;\"/><polygon fill=\"#A80036\" points=\"465.2,531.69,462.9398,522.104,462.1749,527.7089,456.57,526.9441,465.2,531.69\" style=\"stroke: #A80036; stroke-width: 1.0;\"/></a><!--MD5=[6bdd27f9905911a7e892a3dc65cf6b7c]\n",
       "link E7 to E4--><a href=\"psysml:9dbcc968-b81d-4000-b2fb-dcd38ad7dec8\" target=\"_top\" title=\"psysml:9dbcc968-b81d-4000-b2fb-dcd38ad7dec8\" xlink:actuate=\"onRequest\" xlink:href=\"psysml:9dbcc968-b81d-4000-b2fb-dcd38ad7dec8\" xlink:show=\"new\" xlink:title=\"psysml:9dbcc968-b81d-4000-b2fb-dcd38ad7dec8\" xlink:type=\"simple\"><path d=\"M471.98,528.56 C478.8,494.71 500.32,376.18 489,279 C486.59,258.32 480.42,234.96 476.21,220.61 \" fill=\"none\" id=\"E7-&gt;E4\" style=\"stroke: #A80036; stroke-width: 1.0;\"/><polygon fill=\"#A80036\" points=\"474.76,215.75,473.4935,225.5171,476.1863,220.5423,481.1611,223.2351,474.76,215.75\" style=\"stroke: #A80036; stroke-width: 1.0;\"/><text fill=\"#000000\" font-family=\"sans-serif\" font-size=\"13\" lengthAdjust=\"spacingAndGlyphs\" textLength=\"36\" x=\"492\" y=\"377.0669\">[true]</text></a><!--MD5=[cdc0cc74dc58b2188a2282267da93c40]\n",
       "@startuml\r\n",
       " \r\n",
       "package \"ActionTest\" as E1  [[psysml:1b586630-6073-41f8-a31c-3b1021fd2d94 ]]  {\r\n",
       "comp def \"S\" as E2  <<(D,brown)attribute def>> [[psysml:ec6ecfb2-58e1-4e93-a57f-7fba141d91de ]] {\r\n",
       "}\r\n",
       "rec usage \"a\" as E3  <<(U,orange)action>> [[psysml:63b3e978-ff90-4127-8639-9e6714fb0371 ]] {\r\n",
       "choice \"m\" as E4  [[psysml:3c09e5e0-87ee-487d-a94c-d1481b887cf0 ]] \r\n",
       "accept \" S\" as E5 <<accept action>> [[psysml:12477b88-d1e3-4069-a82c-9614e3ee7843 ]] \r\n",
       "send \" S to  B()\" as E6 <<send action>> [[psysml:18c53c10-a81a-4a73-8210-8be9c84ee198 ]] \r\n",
       "choice \"noname\" as E7  [[psysml:e28bc343-f228-4c60-afee-7deafa85ddc3 ]] \r\n",
       "[*] - -> E4 [[psysml:3eb4ae89-c3fe-4a5c-9996-6c16dc90e291 ]] \r\n",
       "E7  - -> [*] [[psysml:529019b4-f7b3-445e-a809-123fd999bfb3 ]] \r\n",
       "}\r\n",
       "\r\n",
       "rec def \"B\" as E8  <<(D,brown)action def>> [[psysml:a720c396-7a8e-4250-b133-b38e5d5b0a71 ]] {\r\n",
       "}\r\n",
       "\r\n",
       "E4 - -> E5 [[psysml:252a1c6c-cc00-403d-ac29-1241d1eee0ca ]] \r\n",
       "E5 - -> E6 [[psysml:52dd995d-9028-4157-9334-98b87c98e4ca ]] \r\n",
       "E6 - -> E7 [[psysml:11c1c086-8dd9-4b00-9ab5-dcf0da9e4b0f ]] \r\n",
       "E7  - -> E4 [[psysml:9dbcc968-b81d-4000-b2fb-dcd38ad7dec8 ]] : [true]\r\n",
       "}\r\n",
       "@enduml\r\n",
       "\n",
       "PlantUML version 1.2020.13(Sat Jun 13 12:26:38 UTC 2020)\n",
       "(EPL source distribution)\n",
       "Java Runtime: OpenJDK Runtime Environment\n",
       "JVM: OpenJDK 64-Bit Server VM\n",
       "Default Encoding: UTF-8\n",
       "Language: en\n",
       "Country: null\n",
       "--></g></svg>"
      ]
     },
     "execution_count": 30,
     "metadata": {},
     "output_type": "execute_result"
    }
   ],
   "source": [
    "%viz --style=\"PLANTUML\" --view=\"Default\" \"ActionTest\""
   ]
  },
  {
   "cell_type": "code",
   "execution_count": 31,
   "id": "first-arcade",
   "metadata": {
    "execution": {
     "iopub.execute_input": "2021-03-25T14:11:45.081335Z",
     "iopub.status.busy": "2021-03-25T14:11:45.080855Z",
     "iopub.status.idle": "2021-03-25T14:11:45.762476Z",
     "shell.execute_reply": "2021-03-25T14:11:45.762132Z"
    }
   },
   "outputs": [
    {
     "data": {
      "image/svg+xml": [
       "<?xml version=\"1.0\" encoding=\"UTF-8\" standalone=\"no\"?><svg xmlns=\"http://www.w3.org/2000/svg\" xmlns:xlink=\"http://www.w3.org/1999/xlink\" contentScriptType=\"application/ecmascript\" contentStyleType=\"text/css\" height=\"187px\" preserveAspectRatio=\"none\" style=\"width:528px;height:187px;\" version=\"1.1\" viewBox=\"0 0 528 187\" width=\"528px\" zoomAndPan=\"magnify\"><defs><filter height=\"300%\" id=\"f82jvxag51ml1\" width=\"300%\" x=\"-1\" y=\"-1\"><feGaussianBlur result=\"blurOut\" stdDeviation=\"2.0\"/><feColorMatrix in=\"blurOut\" result=\"blurOut2\" type=\"matrix\" values=\"0 0 0 0 0 0 0 0 0 0 0 0 0 0 0 0 0 0 .4 0\"/><feOffset dx=\"4.0\" dy=\"4.0\" in=\"blurOut2\" result=\"blurOut3\"/><feBlend in=\"SourceGraphic\" in2=\"blurOut3\" mode=\"normal\"/></filter></defs><g><!--MD5=[fbc87193dbaf4d95561dea2c320d4a47]\n",
       "cluster E1--><a href=\"psysml:1b586630-6073-41f8-a31c-3b1021fd2d94\" target=\"_top\" title=\"psysml:1b586630-6073-41f8-a31c-3b1021fd2d94\" xlink:actuate=\"onRequest\" xlink:href=\"psysml:1b586630-6073-41f8-a31c-3b1021fd2d94\" xlink:show=\"new\" xlink:title=\"psysml:1b586630-6073-41f8-a31c-3b1021fd2d94\" xlink:type=\"simple\"><polygon fill=\"#FFFFFF\" filter=\"url(#f82jvxag51ml1)\" points=\"16,6,107,6,114,28.2969,506,28.2969,506,175,16,175,16,6\" style=\"stroke: #000000; stroke-width: 1.5;\"/><line style=\"stroke: #000000; stroke-width: 1.5;\" x1=\"16\" x2=\"114\" y1=\"28.2969\" y2=\"28.2969\"/><text fill=\"#000000\" font-family=\"sans-serif\" font-size=\"14\" font-weight=\"bold\" lengthAdjust=\"spacingAndGlyphs\" textLength=\"85\" x=\"20\" y=\"20.9951\">ActionTest</text></a><!--MD5=[b4997ac47864f28c2f74865a473b2911]\n",
       "class E2--><a href=\"psysml:ec6ecfb2-58e1-4e93-a57f-7fba141d91de\" target=\"_top\" title=\"psysml:ec6ecfb2-58e1-4e93-a57f-7fba141d91de\" xlink:actuate=\"onRequest\" xlink:href=\"psysml:ec6ecfb2-58e1-4e93-a57f-7fba141d91de\" xlink:show=\"new\" xlink:title=\"psysml:ec6ecfb2-58e1-4e93-a57f-7fba141d91de\" xlink:type=\"simple\"><rect fill=\"#FEFECE\" filter=\"url(#f82jvxag51ml1)\" height=\"45.9375\" id=\"E2\" style=\"stroke: #A80036; stroke-width: 1.5;\" width=\"121\" x=\"368.5\" y=\"77\"/><ellipse cx=\"383.5\" cy=\"95.9688\" fill=\"#A52A2A\" rx=\"11\" ry=\"11\" style=\"stroke: #A80036; stroke-width: 1.0;\"/><path d=\"M383.0938,91.7813 L383.0938,99.7656 L383.75,99.7656 Q385.1875,99.7656 385.7969,98.8594 Q386.4219,97.9375 386.4219,95.7656 Q386.4219,93.5938 385.7969,92.6875 Q385.1875,91.7813 383.75,91.7813 L383.0938,91.7813 Z M380.6406,89.5781 L383.2656,89.5781 Q386.2969,89.5781 387.625,91.0313 Q388.9688,92.4688 388.9688,95.7656 Q388.9688,99.0625 387.625,100.5156 Q386.2969,101.9688 383.2656,101.9688 L380.6406,101.9688 L380.6406,89.5781 Z \"/><text fill=\"#000000\" font-family=\"sans-serif\" font-size=\"12\" font-style=\"italic\" lengthAdjust=\"spacingAndGlyphs\" textLength=\"93\" x=\"395.5\" y=\"93.1387\">«attribute def»</text><text fill=\"#000000\" font-family=\"sans-serif\" font-size=\"12\" lengthAdjust=\"spacingAndGlyphs\" textLength=\"8\" x=\"438\" y=\"107.1074\">S</text><line style=\"stroke: #A80036; stroke-width: 1.5;\" x1=\"369.5\" x2=\"488.5\" y1=\"114.9375\" y2=\"114.9375\"/></a><!--MD5=[09b614a08d8cba4a07c9adeb5e0fee81]\n",
       "class E3--><a href=\"psysml:63b3e978-ff90-4127-8639-9e6714fb0371\" target=\"_top\" title=\"psysml:63b3e978-ff90-4127-8639-9e6714fb0371\" xlink:actuate=\"onRequest\" xlink:href=\"psysml:63b3e978-ff90-4127-8639-9e6714fb0371\" xlink:show=\"new\" xlink:title=\"psysml:63b3e978-ff90-4127-8639-9e6714fb0371\" xlink:type=\"simple\"><rect fill=\"#FEFECE\" filter=\"url(#f82jvxag51ml1)\" height=\"117.9609\" id=\"E3\" rx=\"10\" ry=\"10\" style=\"stroke: #A80036; stroke-width: 1.5;\" width=\"160\" x=\"173\" y=\"41\"/><ellipse cx=\"224.25\" cy=\"59.9688\" fill=\"#FFA500\" rx=\"11\" ry=\"11\" style=\"stroke: #A80036; stroke-width: 1.0;\"/><path d=\"M220.125,61.8906 L220.125,54.0781 L222.5781,54.0781 L222.5781,62.5156 Q222.5781,63.4375 223.0469,63.9688 Q223.5313,64.5 224.3594,64.5 Q225.2031,64.5 225.6719,63.9688 Q226.1406,63.4375 226.1406,62.5156 L226.1406,54.0781 L228.5938,54.0781 L228.5938,61.8906 Q228.5938,64.4219 227.5938,65.5625 Q226.5938,66.7031 224.3594,66.7031 Q222.1406,66.7031 221.125,65.5625 Q220.125,64.4219 220.125,61.8906 Z \"/><text fill=\"#000000\" font-family=\"sans-serif\" font-size=\"12\" font-style=\"italic\" lengthAdjust=\"spacingAndGlyphs\" textLength=\"53\" x=\"242.75\" y=\"57.1387\">«action»</text><text fill=\"#000000\" font-family=\"sans-serif\" font-size=\"12\" lengthAdjust=\"spacingAndGlyphs\" textLength=\"8\" x=\"265.25\" y=\"71.1074\">a</text><line style=\"stroke: #A80036; stroke-width: 1.5;\" x1=\"174\" x2=\"332\" y1=\"78.9375\" y2=\"78.9375\"/><text fill=\"#000000\" font-family=\"sans-serif\" font-size=\"11\" lengthAdjust=\"spacingAndGlyphs\" textLength=\"69\" x=\"179\" y=\"109.9526\">start: Action</text><text fill=\"#000000\" font-family=\"sans-serif\" font-size=\"11\" font-style=\"italic\" lengthAdjust=\"spacingAndGlyphs\" textLength=\"148\" x=\"179\" y=\"122.7573\">:&gt;&gt;Occurrence::startShot</text><line style=\"stroke: #A80036; stroke-width: 1.0;\" x1=\"174\" x2=\"232.5\" y1=\"93.3398\" y2=\"93.3398\"/><text fill=\"#000000\" font-family=\"sans-serif\" font-size=\"11\" lengthAdjust=\"spacingAndGlyphs\" textLength=\"41\" x=\"232.5\" y=\"96.6479\">actions</text><line style=\"stroke: #A80036; stroke-width: 1.0;\" x1=\"273.5\" x2=\"332\" y1=\"93.3398\" y2=\"93.3398\"/><text fill=\"#000000\" font-family=\"sans-serif\" font-size=\"11\" lengthAdjust=\"spacingAndGlyphs\" textLength=\"11\" x=\"179\" y=\"152.3667\">m</text><line style=\"stroke: #A80036; stroke-width: 1.0;\" x1=\"174\" x2=\"216.5\" y1=\"135.7539\" y2=\"135.7539\"/><text fill=\"#000000\" font-family=\"sans-serif\" font-size=\"11\" lengthAdjust=\"spacingAndGlyphs\" textLength=\"73\" x=\"216.5\" y=\"139.062\">mergeNodes</text><line style=\"stroke: #A80036; stroke-width: 1.0;\" x1=\"289.5\" x2=\"332\" y1=\"135.7539\" y2=\"135.7539\"/></a><!--MD5=[60a26617385b1d2d0262a64233df1f8d]\n",
       "class E6--><a href=\"psysml:a720c396-7a8e-4250-b133-b38e5d5b0a71\" target=\"_top\" title=\"psysml:a720c396-7a8e-4250-b133-b38e5d5b0a71\" xlink:actuate=\"onRequest\" xlink:href=\"psysml:a720c396-7a8e-4250-b133-b38e5d5b0a71\" xlink:show=\"new\" xlink:title=\"psysml:a720c396-7a8e-4250-b133-b38e5d5b0a71\" xlink:type=\"simple\"><rect fill=\"#FEFECE\" filter=\"url(#f82jvxag51ml1)\" height=\"45.9375\" id=\"E6\" style=\"stroke: #A80036; stroke-width: 1.5;\" width=\"105\" x=\"32.5\" y=\"77\"/><ellipse cx=\"47.5\" cy=\"95.9688\" fill=\"#A52A2A\" rx=\"11\" ry=\"11\" style=\"stroke: #A80036; stroke-width: 1.0;\"/><path d=\"M47.0938,91.7813 L47.0938,99.7656 L47.75,99.7656 Q49.1875,99.7656 49.7969,98.8594 Q50.4219,97.9375 50.4219,95.7656 Q50.4219,93.5938 49.7969,92.6875 Q49.1875,91.7813 47.75,91.7813 L47.0938,91.7813 Z M44.6406,89.5781 L47.2656,89.5781 Q50.2969,89.5781 51.625,91.0313 Q52.9688,92.4688 52.9688,95.7656 Q52.9688,99.0625 51.625,100.5156 Q50.2969,101.9688 47.2656,101.9688 L44.6406,101.9688 L44.6406,89.5781 Z \"/><text fill=\"#000000\" font-family=\"sans-serif\" font-size=\"12\" font-style=\"italic\" lengthAdjust=\"spacingAndGlyphs\" textLength=\"77\" x=\"59.5\" y=\"93.1387\">«action def»</text><text fill=\"#000000\" font-family=\"sans-serif\" font-size=\"12\" lengthAdjust=\"spacingAndGlyphs\" textLength=\"8\" x=\"94\" y=\"107.1074\">B</text><line style=\"stroke: #A80036; stroke-width: 1.5;\" x1=\"33.5\" x2=\"136.5\" y1=\"114.9375\" y2=\"114.9375\"/></a><!--MD5=[e168c3a8de5c36b20cc723e3d11c3a49]\n",
       "@startuml\r\n",
       " \r\n",
       "package \"ActionTest\" as E1  [[psysml:1b586630-6073-41f8-a31c-3b1021fd2d94 ]]  {\r\n",
       "comp def \"S\" as E2  <<(D,brown)attribute def>> [[psysml:ec6ecfb2-58e1-4e93-a57f-7fba141d91de ]] {\r\n",
       "}\r\n",
       "comp usage \"a\" as E3  <<(U,orange)action>> [[psysml:63b3e978-ff90-4127-8639-9e6714fb0371 ]] {\r\n",
       "- - actions - -\r\n",
       "start: Action\\n//:>>Occurrence::startShot// \r\n",
       "- - mergeNodes - -\r\n",
       "m\r\n",
       "}\r\n",
       "comp def \"B\" as E6  <<(D,brown)action def>> [[psysml:a720c396-7a8e-4250-b133-b38e5d5b0a71 ]] {\r\n",
       "}\r\n",
       "}\r\n",
       "@enduml\r\n",
       "\n",
       "PlantUML version 1.2020.13(Sat Jun 13 12:26:38 UTC 2020)\n",
       "(EPL source distribution)\n",
       "Java Runtime: OpenJDK Runtime Environment\n",
       "JVM: OpenJDK 64-Bit Server VM\n",
       "Default Encoding: UTF-8\n",
       "Language: en\n",
       "Country: null\n",
       "--></g></svg>"
      ]
     },
     "execution_count": 31,
     "metadata": {},
     "output_type": "execute_result"
    }
   ],
   "source": [
    "%viz --style=\"PLANTUML\" --view=\"Tree\" \"ActionTest\""
   ]
  },
  {
   "cell_type": "code",
   "execution_count": 32,
   "id": "communist-indiana",
   "metadata": {
    "execution": {
     "iopub.execute_input": "2021-03-25T14:11:45.813731Z",
     "iopub.status.busy": "2021-03-25T14:11:45.813190Z",
     "iopub.status.idle": "2021-03-25T14:11:46.669754Z",
     "shell.execute_reply": "2021-03-25T14:11:46.668081Z"
    }
   },
   "outputs": [
    {
     "data": {
      "image/svg+xml": [
       "<?xml version=\"1.0\" encoding=\"UTF-8\" standalone=\"no\"?><svg xmlns=\"http://www.w3.org/2000/svg\" xmlns:xlink=\"http://www.w3.org/1999/xlink\" contentScriptType=\"application/ecmascript\" contentStyleType=\"text/css\" height=\"303px\" preserveAspectRatio=\"none\" style=\"width:603px;height:303px;background:#000000;\" version=\"1.1\" viewBox=\"0 0 603 303\" width=\"603px\" zoomAndPan=\"magnify\"><defs/><g><rect fill=\"#151F1A\" height=\"1\" style=\"stroke: #151F1A; stroke-width: 1.0;\" width=\"1\" x=\"0\" y=\"0\"/><rect fill=\"#FFFFFF\" height=\"205.5625\" style=\"stroke: #FFFFFF; stroke-width: 1.0;\" width=\"602\" x=\"0\" y=\"0\"/><text fill=\"#000000\" font-family=\"sans-serif\" font-size=\"12\" font-weight=\"bold\" lengthAdjust=\"spacingAndGlyphs\" textLength=\"159\" x=\"5\" y=\"16.1387\">Welcome to PlantUML!</text><text fill=\"#000000\" font-family=\"sans-serif\" font-size=\"12\" lengthAdjust=\"spacingAndGlyphs\" textLength=\"0\" x=\"9\" y=\"30.1074\"/><text fill=\"#000000\" font-family=\"sans-serif\" font-size=\"12\" lengthAdjust=\"spacingAndGlyphs\" textLength=\"293\" x=\"5\" y=\"44.0762\">If you use this software, you accept its license.</text><text fill=\"#000000\" font-family=\"sans-serif\" font-size=\"12\" lengthAdjust=\"spacingAndGlyphs\" textLength=\"107\" x=\"5\" y=\"58.0449\">(details by typing</text><text fill=\"#000000\" font-family=\"monospace\" font-size=\"12\" lengthAdjust=\"spacingAndGlyphs\" textLength=\"49\" x=\"116\" y=\"58.0449\">license</text><text fill=\"#000000\" font-family=\"sans-serif\" font-size=\"12\" lengthAdjust=\"spacingAndGlyphs\" textLength=\"56\" x=\"169\" y=\"58.0449\">keyword)</text><text fill=\"#000000\" font-family=\"sans-serif\" font-size=\"12\" lengthAdjust=\"spacingAndGlyphs\" textLength=\"0\" x=\"9\" y=\"72.0137\"/><text fill=\"#000000\" font-family=\"sans-serif\" font-size=\"12\" lengthAdjust=\"spacingAndGlyphs\" textLength=\"283\" x=\"5\" y=\"85.9824\">You can start with a simple UML Diagram like:</text><text fill=\"#000000\" font-family=\"sans-serif\" font-size=\"12\" lengthAdjust=\"spacingAndGlyphs\" textLength=\"0\" x=\"9\" y=\"99.9512\"/><text fill=\"#000000\" font-family=\"monospace\" font-size=\"12\" lengthAdjust=\"spacingAndGlyphs\" textLength=\"119\" x=\"5\" y=\"113.9199\">Bob-&gt;Alice: Hello</text><text fill=\"#000000\" font-family=\"sans-serif\" font-size=\"12\" lengthAdjust=\"spacingAndGlyphs\" textLength=\"0\" x=\"9\" y=\"127.8887\"/><text fill=\"#000000\" font-family=\"sans-serif\" font-size=\"12\" lengthAdjust=\"spacingAndGlyphs\" textLength=\"14\" x=\"5\" y=\"141.8574\">Or</text><text fill=\"#000000\" font-family=\"sans-serif\" font-size=\"12\" lengthAdjust=\"spacingAndGlyphs\" textLength=\"0\" x=\"9\" y=\"155.8262\"/><text fill=\"#000000\" font-family=\"monospace\" font-size=\"12\" lengthAdjust=\"spacingAndGlyphs\" textLength=\"91\" x=\"5\" y=\"169.7949\">class Example</text><text fill=\"#000000\" font-family=\"sans-serif\" font-size=\"12\" lengthAdjust=\"spacingAndGlyphs\" textLength=\"0\" x=\"9\" y=\"183.7637\"/><text fill=\"#000000\" font-family=\"sans-serif\" font-size=\"12\" lengthAdjust=\"spacingAndGlyphs\" textLength=\"349\" x=\"5\" y=\"197.7324\">You will find more information about PlantUML syntax on</text><text fill=\"#000000\" font-family=\"sans-serif\" font-size=\"12\" lengthAdjust=\"spacingAndGlyphs\" text-decoration=\"underline\" textLength=\"129\" x=\"358\" y=\"197.7324\">https://plantuml.com</text><image height=\"71\" width=\"80\" x=\"516\" xlink:href=\"data:image/png;base64,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\" y=\"6\"/><rect fill=\"#000000\" height=\"96.4844\" style=\"stroke: #000000; stroke-width: 1.0;\" width=\"602\" x=\"0\" y=\"205.5625\"/><rect fill=\"#33FF02\" height=\"21.2969\" style=\"stroke: #33FF02; stroke-width: 1.0;\" width=\"170\" x=\"5\" y=\"210.5625\"/><text fill=\"#000000\" font-family=\"sans-serif\" font-size=\"14\" font-weight=\"bold\" lengthAdjust=\"spacingAndGlyphs\" textLength=\"168\" x=\"6\" y=\"225.5625\">[From string (line 2) ]</text><text fill=\"#33FF02\" font-family=\"sans-serif\" font-size=\"14\" font-weight=\"bold\" lengthAdjust=\"spacingAndGlyphs\" textLength=\"0\" x=\"10\" y=\"245.8594\"/><text fill=\"#33FF02\" font-family=\"sans-serif\" font-size=\"14\" font-weight=\"bold\" lengthAdjust=\"spacingAndGlyphs\" textLength=\"79\" x=\"5\" y=\"262.1563\">@startuml</text><text fill=\"#33FF02\" font-family=\"sans-serif\" font-size=\"14\" font-weight=\"bold\" lengthAdjust=\"spacingAndGlyphs\" textLength=\"0\" x=\"10\" y=\"278.4531\"/><text fill=\"#FF0000\" font-family=\"sans-serif\" font-size=\"14\" font-weight=\"bold\" lengthAdjust=\"spacingAndGlyphs\" textLength=\"142\" x=\"10\" y=\"294.75\">Empty description</text><!--MD5=[f59edd8218d337f74d0c332fc6737304]\n",
       "@startuml\r\n",
       " \r\n",
       "@enduml\r\n",
       "\n",
       "PlantUML version 1.2020.13(Sat Jun 13 12:26:38 UTC 2020)\n",
       "(EPL source distribution)\n",
       "Java Runtime: OpenJDK Runtime Environment\n",
       "JVM: OpenJDK 64-Bit Server VM\n",
       "Default Encoding: UTF-8\n",
       "Language: en\n",
       "Country: null\n",
       "--></g></svg>"
      ]
     },
     "execution_count": 32,
     "metadata": {},
     "output_type": "execute_result"
    }
   ],
   "source": [
    "%viz --style=\"PLANTUML\" --view=\"State\" \"ActionTest\""
   ]
  },
  {
   "cell_type": "code",
   "execution_count": 33,
   "id": "related-multiple",
   "metadata": {
    "execution": {
     "iopub.execute_input": "2021-03-25T14:11:46.721179Z",
     "iopub.status.busy": "2021-03-25T14:11:46.720437Z",
     "iopub.status.idle": "2021-03-25T14:11:46.875391Z",
     "shell.execute_reply": "2021-03-25T14:11:46.875682Z"
    }
   },
   "outputs": [
    {
     "data": {
      "image/svg+xml": [
       "<?xml version=\"1.0\" encoding=\"UTF-8\" standalone=\"no\"?><svg xmlns=\"http://www.w3.org/2000/svg\" xmlns:xlink=\"http://www.w3.org/1999/xlink\" contentScriptType=\"application/ecmascript\" contentStyleType=\"text/css\" height=\"462px\" preserveAspectRatio=\"none\" style=\"width:574px;height:462px;\" version=\"1.1\" viewBox=\"0 0 574 462\" width=\"574px\" zoomAndPan=\"magnify\"><defs><filter height=\"300%\" id=\"f1c3s02zyikn6f\" width=\"300%\" x=\"-1\" y=\"-1\"><feGaussianBlur result=\"blurOut\" stdDeviation=\"2.0\"/><feColorMatrix in=\"blurOut\" result=\"blurOut2\" type=\"matrix\" values=\"0 0 0 0 0 0 0 0 0 0 0 0 0 0 0 0 0 0 .4 0\"/><feOffset dx=\"4.0\" dy=\"4.0\" in=\"blurOut2\" result=\"blurOut3\"/><feBlend in=\"SourceGraphic\" in2=\"blurOut3\" mode=\"normal\"/></filter></defs><g><!--MD5=[fbc87193dbaf4d95561dea2c320d4a47]\n",
       "cluster E1--><a href=\"psysml:1b586630-6073-41f8-a31c-3b1021fd2d94\" target=\"_top\" title=\"psysml:1b586630-6073-41f8-a31c-3b1021fd2d94\" xlink:actuate=\"onRequest\" xlink:href=\"psysml:1b586630-6073-41f8-a31c-3b1021fd2d94\" xlink:show=\"new\" xlink:title=\"psysml:1b586630-6073-41f8-a31c-3b1021fd2d94\" xlink:type=\"simple\"><polygon fill=\"#FFFFFF\" filter=\"url(#f1c3s02zyikn6f)\" points=\"16,6,107,6,114,28.2969,552,28.2969,552,450.5,16,450.5,16,6\" style=\"stroke: #000000; stroke-width: 1.5;\"/><line style=\"stroke: #000000; stroke-width: 1.5;\" x1=\"16\" x2=\"114\" y1=\"28.2969\" y2=\"28.2969\"/><text fill=\"#000000\" font-family=\"sans-serif\" font-size=\"14\" font-weight=\"bold\" lengthAdjust=\"spacingAndGlyphs\" textLength=\"85\" x=\"20\" y=\"20.9951\">ActionTest</text></a><!--MD5=[d5e69f78d87373223dbae638b30a9c99]\n",
       "cluster E3--><a href=\"psysml:63b3e978-ff90-4127-8639-9e6714fb0371\" target=\"_top\" title=\"psysml:63b3e978-ff90-4127-8639-9e6714fb0371\" xlink:actuate=\"onRequest\" xlink:href=\"psysml:63b3e978-ff90-4127-8639-9e6714fb0371\" xlink:show=\"new\" xlink:title=\"psysml:63b3e978-ff90-4127-8639-9e6714fb0371\" xlink:type=\"simple\"><rect fill=\"#FFFFFF\" filter=\"url(#f1c3s02zyikn6f)\" height=\"377.5\" id=\"E3\" rx=\"10\" ry=\"10\" style=\"stroke: #A80036; stroke-width: 1.5;\" width=\"209\" x=\"319\" y=\"49\"/><rect fill=\"#FEFECE\" height=\"37.9375\" rx=\"10\" ry=\"10\" style=\"stroke: #FEFECE; stroke-width: 1.5;\" width=\"209\" x=\"319\" y=\"49\"/><rect fill=\"#FEFECE\" height=\"10\" style=\"stroke: #FEFECE; stroke-width: 1.5;\" width=\"209\" x=\"319\" y=\"76.9375\"/><rect fill=\"none\" height=\"377.5\" id=\"E3\" rx=\"10\" ry=\"10\" style=\"stroke: #A80036; stroke-width: 1.5;\" width=\"209\" x=\"319\" y=\"49\"/><text fill=\"#000000\" font-family=\"sans-serif\" font-size=\"12\" font-style=\"italic\" lengthAdjust=\"spacingAndGlyphs\" textLength=\"53\" x=\"397\" y=\"65.1387\">«action»</text><text fill=\"#000000\" font-family=\"sans-serif\" font-size=\"12\" lengthAdjust=\"spacingAndGlyphs\" textLength=\"8\" x=\"419.5\" y=\"79.1074\">a</text><line style=\"stroke: #A80036; stroke-width: 1.0;\" x1=\"319\" x2=\"528\" y1=\"86.9375\" y2=\"86.9375\"/></a><g id=\"E1.E2\"><a href=\"psysml:ec6ecfb2-58e1-4e93-a57f-7fba141d91de\" target=\"_top\" title=\"psysml:ec6ecfb2-58e1-4e93-a57f-7fba141d91de\" xlink:actuate=\"onRequest\" xlink:href=\"psysml:ec6ecfb2-58e1-4e93-a57f-7fba141d91de\" xlink:show=\"new\" xlink:title=\"psysml:ec6ecfb2-58e1-4e93-a57f-7fba141d91de\" xlink:type=\"simple\"><rect fill=\"#FEFECE\" filter=\"url(#f1c3s02zyikn6f)\" height=\"42.9375\" id=\"E2\" style=\"stroke: #A80036; stroke-width: 1.5;\" width=\"126\" x=\"177\" y=\"88.5\"/><ellipse cx=\"194.25\" cy=\"107.4688\" fill=\"#A52A2A\" rx=\"11\" ry=\"11\" style=\"stroke: #A80036; stroke-width: 1.0;\"/><path d=\"M193.8438,103.2813 L193.8438,111.2656 L194.5,111.2656 Q195.9375,111.2656 196.5469,110.3594 Q197.1719,109.4375 197.1719,107.2656 Q197.1719,105.0938 196.5469,104.1875 Q195.9375,103.2813 194.5,103.2813 L193.8438,103.2813 Z M191.3906,101.0781 L194.0156,101.0781 Q197.0469,101.0781 198.375,102.5313 Q199.7188,103.9688 199.7188,107.2656 Q199.7188,110.5625 198.375,112.0156 Q197.0469,113.4688 194.0156,113.4688 L191.3906,113.4688 L191.3906,101.0781 Z \"/><text fill=\"#000000\" font-family=\"sans-serif\" font-size=\"12\" font-style=\"italic\" lengthAdjust=\"spacingAndGlyphs\" textLength=\"93\" x=\"206.75\" y=\"104.6387\">«attribute def»</text><text fill=\"#000000\" font-family=\"sans-serif\" font-size=\"12\" lengthAdjust=\"spacingAndGlyphs\" textLength=\"8\" x=\"249.25\" y=\"118.6074\">S</text></a></g><polygon fill=\"#FEFECE\" filter=\"url(#f1c3s02zyikn6f)\" points=\"476,148.5,488,160.5,476,172.5,464,160.5,476,148.5\" style=\"stroke: #A80036; stroke-width: 1.5;\"/><!--MD5=[21dd76c19d33815960c0e92fef8f0eef]\n",
       "entity E5--><a href=\"psysml:12477b88-d1e3-4069-a82c-9614e3ee7843\" target=\"_top\" title=\"psysml:12477b88-d1e3-4069-a82c-9614e3ee7843\" xlink:actuate=\"onRequest\" xlink:href=\"psysml:12477b88-d1e3-4069-a82c-9614e3ee7843\" xlink:show=\"new\" xlink:title=\"psysml:12477b88-d1e3-4069-a82c-9614e3ee7843\" xlink:type=\"simple\"><polygon fill=\"#FEFECE\" filter=\"url(#f1c3s02zyikn6f)\" points=\"335,189.5,335,244.0938,475,244.0938,455,216.7969,475,189.5\" style=\"stroke: #000000; stroke-width: 1.5;\"/><text fill=\"#000000\" font-family=\"sans-serif\" font-size=\"14\" font-style=\"italic\" lengthAdjust=\"spacingAndGlyphs\" textLength=\"111\" x=\"342\" y=\"212.4951\">«accept action»</text><text fill=\"#000000\" font-family=\"sans-serif\" font-size=\"14\" lengthAdjust=\"spacingAndGlyphs\" textLength=\"9\" x=\"393\" y=\"229.792\">S</text></a><!--MD5=[24d87cdf3002d433f401b2a2aa9f9f65]\n",
       "entity E6--><a href=\"psysml:18c53c10-a81a-4a73-8210-8be9c84ee198\" target=\"_top\" title=\"psysml:18c53c10-a81a-4a73-8210-8be9c84ee198\" xlink:actuate=\"onRequest\" xlink:href=\"psysml:18c53c10-a81a-4a73-8210-8be9c84ee198\" xlink:show=\"new\" xlink:title=\"psysml:18c53c10-a81a-4a73-8210-8be9c84ee198\" xlink:type=\"simple\"><polygon fill=\"#FEFECE\" filter=\"url(#f1c3s02zyikn6f)\" points=\"335,277.5,335,332.0938,443,332.0938,463,304.7969,443,277.5\" style=\"stroke: #000000; stroke-width: 1.5;\"/><text fill=\"#000000\" font-family=\"sans-serif\" font-size=\"14\" font-style=\"italic\" lengthAdjust=\"spacingAndGlyphs\" textLength=\"99\" x=\"342\" y=\"300.4951\">«send action»</text><text fill=\"#000000\" font-family=\"sans-serif\" font-size=\"14\" lengthAdjust=\"spacingAndGlyphs\" textLength=\"55\" x=\"364\" y=\"317.792\">S to  B()</text></a><polygon fill=\"#FEFECE\" filter=\"url(#f1c3s02zyikn6f)\" points=\"474,349.5,486,361.5,474,373.5,462,361.5,474,349.5\" style=\"stroke: #A80036; stroke-width: 1.5;\"/><ellipse cx=\"476\" cy=\"110\" fill=\"#000000\" filter=\"url(#f1c3s02zyikn6f)\" rx=\"10\" ry=\"10\" style=\"stroke: none; stroke-width: 1.0;\"/><ellipse cx=\"474\" cy=\"400.5\" fill=\"none\" filter=\"url(#f1c3s02zyikn6f)\" rx=\"10\" ry=\"10\" style=\"stroke: #000000; stroke-width: 1.0;\"/><ellipse cx=\"474.5\" cy=\"401\" fill=\"#000000\" rx=\"6\" ry=\"6\" style=\"stroke: none; stroke-width: 1.0;\"/><g id=\"E1.E8\"><a href=\"psysml:a720c396-7a8e-4250-b133-b38e5d5b0a71\" target=\"_top\" title=\"psysml:a720c396-7a8e-4250-b133-b38e5d5b0a71\" xlink:actuate=\"onRequest\" xlink:href=\"psysml:a720c396-7a8e-4250-b133-b38e5d5b0a71\" xlink:show=\"new\" xlink:title=\"psysml:a720c396-7a8e-4250-b133-b38e5d5b0a71\" xlink:type=\"simple\"><rect fill=\"#FEFECE\" filter=\"url(#f1c3s02zyikn6f)\" height=\"42.9375\" id=\"E8\" style=\"stroke: #A80036; stroke-width: 1.5;\" width=\"110\" x=\"32\" y=\"88.5\"/><ellipse cx=\"49.25\" cy=\"107.4688\" fill=\"#A52A2A\" rx=\"11\" ry=\"11\" style=\"stroke: #A80036; stroke-width: 1.0;\"/><path d=\"M48.8438,103.2813 L48.8438,111.2656 L49.5,111.2656 Q50.9375,111.2656 51.5469,110.3594 Q52.1719,109.4375 52.1719,107.2656 Q52.1719,105.0938 51.5469,104.1875 Q50.9375,103.2813 49.5,103.2813 L48.8438,103.2813 Z M46.3906,101.0781 L49.0156,101.0781 Q52.0469,101.0781 53.375,102.5313 Q54.7188,103.9688 54.7188,107.2656 Q54.7188,110.5625 53.375,112.0156 Q52.0469,113.4688 49.0156,113.4688 L46.3906,113.4688 L46.3906,101.0781 Z \"/><text fill=\"#000000\" font-family=\"sans-serif\" font-size=\"12\" font-style=\"italic\" lengthAdjust=\"spacingAndGlyphs\" textLength=\"77\" x=\"61.75\" y=\"104.6387\">«action def»</text><text fill=\"#000000\" font-family=\"sans-serif\" font-size=\"12\" lengthAdjust=\"spacingAndGlyphs\" textLength=\"8\" x=\"96.25\" y=\"118.6074\">B</text></a></g><!--MD5=[f47e10efcf9a6752d55dae986d790ed9]\n",
       "link *start*E3 to E4--><a href=\"psysml:3eb4ae89-c3fe-4a5c-9996-6c16dc90e291\" target=\"_top\" title=\"psysml:3eb4ae89-c3fe-4a5c-9996-6c16dc90e291\" xlink:actuate=\"onRequest\" xlink:href=\"psysml:3eb4ae89-c3fe-4a5c-9996-6c16dc90e291\" xlink:show=\"new\" xlink:title=\"psysml:3eb4ae89-c3fe-4a5c-9996-6c16dc90e291\" xlink:type=\"simple\"><path d=\"M476,120.35 C476,126.88 476,135.77 476,143.42 \" fill=\"none\" id=\"*start*E3-&gt;E4\" style=\"stroke: #A80036; stroke-width: 1.0;\"/><polygon fill=\"#A80036\" points=\"476,148.48,480,139.48,476,143.48,472,139.48,476,148.48\" style=\"stroke: #A80036; stroke-width: 1.0;\"/></a><!--MD5=[d19f2eb34364d71b67042106d92f540b]\n",
       "link E7 to *end*E3--><a href=\"psysml:529019b4-f7b3-445e-a809-123fd999bfb3\" target=\"_top\" title=\"psysml:529019b4-f7b3-445e-a809-123fd999bfb3\" xlink:actuate=\"onRequest\" xlink:href=\"psysml:529019b4-f7b3-445e-a809-123fd999bfb3\" xlink:show=\"new\" xlink:title=\"psysml:529019b4-f7b3-445e-a809-123fd999bfb3\" xlink:type=\"simple\"><path d=\"M474,373.8 C474,377.34 474,381.3 474,385.03 \" fill=\"none\" id=\"E7-&gt;*end*E3\" style=\"stroke: #A80036; stroke-width: 1.0;\"/><polygon fill=\"#A80036\" points=\"474,390.25,478,381.25,474,385.25,470,381.25,474,390.25\" style=\"stroke: #A80036; stroke-width: 1.0;\"/></a><!--MD5=[1b7591eae5389033d8d09a9d6721a717]\n",
       "link E4 to E5--><a href=\"psysml:252a1c6c-cc00-403d-ac29-1241d1eee0ca\" target=\"_top\" title=\"psysml:252a1c6c-cc00-403d-ac29-1241d1eee0ca\" xlink:actuate=\"onRequest\" xlink:href=\"psysml:252a1c6c-cc00-403d-ac29-1241d1eee0ca\" xlink:show=\"new\" xlink:title=\"psysml:252a1c6c-cc00-403d-ac29-1241d1eee0ca\" xlink:type=\"simple\"><path d=\"M469.45,166.53 C463.33,171.23 453.65,178.66 443.64,186.34 \" fill=\"none\" id=\"E4-&gt;E5\" style=\"stroke: #A80036; stroke-width: 1.0;\"/><polygon fill=\"#A80036\" points=\"439.64,189.41,449.2129,187.0948,443.6037,186.3621,444.3363,180.7529,439.64,189.41\" style=\"stroke: #A80036; stroke-width: 1.0;\"/></a><!--MD5=[9120cf2e5df3bff93db8f754bbbc09b4]\n",
       "link E5 to E6--><a href=\"psysml:52dd995d-9028-4157-9334-98b87c98e4ca\" target=\"_top\" title=\"psysml:52dd995d-9028-4157-9334-98b87c98e4ca\" xlink:actuate=\"onRequest\" xlink:href=\"psysml:52dd995d-9028-4157-9334-98b87c98e4ca\" xlink:show=\"new\" xlink:title=\"psysml:52dd995d-9028-4157-9334-98b87c98e4ca\" xlink:type=\"simple\"><path d=\"M403.13,244.74 C402.53,253.4 401.85,263.08 401.23,272.08 \" fill=\"none\" id=\"E5-&gt;E6\" style=\"stroke: #A80036; stroke-width: 1.0;\"/><polygon fill=\"#A80036\" points=\"400.86,277.28,405.468,268.5756,401.203,272.2918,397.4869,268.0268,400.86,277.28\" style=\"stroke: #A80036; stroke-width: 1.0;\"/></a><!--MD5=[02c70b7c851c11e3980e4e90450dc5dd]\n",
       "link E6 to E7--><a href=\"psysml:11c1c086-8dd9-4b00-9ab5-dcf0da9e4b0f\" target=\"_top\" title=\"psysml:11c1c086-8dd9-4b00-9ab5-dcf0da9e4b0f\" xlink:actuate=\"onRequest\" xlink:href=\"psysml:11c1c086-8dd9-4b00-9ab5-dcf0da9e4b0f\" xlink:show=\"new\" xlink:title=\"psysml:11c1c086-8dd9-4b00-9ab5-dcf0da9e4b0f\" xlink:type=\"simple\"><path d=\"M435.62,332.61 C445.72,339.95 455.91,347.35 463.24,352.68 \" fill=\"none\" id=\"E6-&gt;E7\" style=\"stroke: #A80036; stroke-width: 1.0;\"/><polygon fill=\"#A80036\" points=\"467.42,355.72,462.4976,347.1894,463.3776,352.7774,457.7896,353.6574,467.42,355.72\" style=\"stroke: #A80036; stroke-width: 1.0;\"/></a><!--MD5=[6bdd27f9905911a7e892a3dc65cf6b7c]\n",
       "link E7 to E4--><a href=\"psysml:9dbcc968-b81d-4000-b2fb-dcd38ad7dec8\" target=\"_top\" title=\"psysml:9dbcc968-b81d-4000-b2fb-dcd38ad7dec8\" xlink:actuate=\"onRequest\" xlink:href=\"psysml:9dbcc968-b81d-4000-b2fb-dcd38ad7dec8\" xlink:show=\"new\" xlink:title=\"psysml:9dbcc968-b81d-4000-b2fb-dcd38ad7dec8\" xlink:type=\"simple\"><path d=\"M477,352.49 C485.84,327.73 510.06,250.48 493,189.5 C491.26,183.29 487.73,177.1 484.34,172.12 \" fill=\"none\" id=\"E7-&gt;E4\" style=\"stroke: #A80036; stroke-width: 1.0;\"/><polygon fill=\"#A80036\" points=\"481.31,167.92,483.3342,177.5586,484.2364,171.9741,489.8209,172.8763,481.31,167.92\" style=\"stroke: #A80036; stroke-width: 1.0;\"/><text fill=\"#000000\" font-family=\"sans-serif\" font-size=\"13\" lengthAdjust=\"spacingAndGlyphs\" textLength=\"36\" x=\"499\" y=\"265.5669\">[true]</text></a><!--MD5=[22ea9b59d49e283d6cd4763fd215ed4e]\n",
       "@startuml\r\n",
       "skinparam ranksep 10\r\n",
       "skinparam rectangle {\r\n",
       " backgroundColor<<block>> LightGreen\r\n",
       "}\r\n",
       " \r\n",
       "package \"ActionTest\" as E1  [[psysml:1b586630-6073-41f8-a31c-3b1021fd2d94 ]]  {\r\n",
       "def \"S\" as E2  <<(D,brown)attribute def>> [[psysml:ec6ecfb2-58e1-4e93-a57f-7fba141d91de ]] \r\n",
       "rec usage \"a\" as E3  <<(U,orange)action>> [[psysml:63b3e978-ff90-4127-8639-9e6714fb0371 ]] {\r\n",
       "choice \"m\" as E4  [[psysml:3c09e5e0-87ee-487d-a94c-d1481b887cf0 ]] \r\n",
       "accept \" S\" as E5 <<accept action>> [[psysml:12477b88-d1e3-4069-a82c-9614e3ee7843 ]] \r\n",
       "send \" S to  B()\" as E6 <<send action>> [[psysml:18c53c10-a81a-4a73-8210-8be9c84ee198 ]] \r\n",
       "choice \"noname\" as E7  [[psysml:e28bc343-f228-4c60-afee-7deafa85ddc3 ]] \r\n",
       "[*] - -> E4 [[psysml:3eb4ae89-c3fe-4a5c-9996-6c16dc90e291 ]] \r\n",
       "E7  - -> [*] [[psysml:529019b4-f7b3-445e-a809-123fd999bfb3 ]] \r\n",
       "}\r\n",
       "\r\n",
       "rec def \"B\" as E8  <<(D,brown)action def>> [[psysml:a720c396-7a8e-4250-b133-b38e5d5b0a71 ]] {\r\n",
       "}\r\n",
       "\r\n",
       "E4 - -> E5 [[psysml:252a1c6c-cc00-403d-ac29-1241d1eee0ca ]] \r\n",
       "E5 - -> E6 [[psysml:52dd995d-9028-4157-9334-98b87c98e4ca ]] \r\n",
       "E6 - -> E7 [[psysml:11c1c086-8dd9-4b00-9ab5-dcf0da9e4b0f ]] \r\n",
       "E7  - -> E4 [[psysml:9dbcc968-b81d-4000-b2fb-dcd38ad7dec8 ]] : [true]\r\n",
       "}\r\n",
       "@enduml\r\n",
       "\n",
       "PlantUML version 1.2020.13(Sat Jun 13 12:26:38 UTC 2020)\n",
       "(EPL source distribution)\n",
       "Java Runtime: OpenJDK Runtime Environment\n",
       "JVM: OpenJDK 64-Bit Server VM\n",
       "Default Encoding: UTF-8\n",
       "Language: en\n",
       "Country: null\n",
       "--></g></svg>"
      ]
     },
     "execution_count": 33,
     "metadata": {},
     "output_type": "execute_result"
    }
   ],
   "source": [
    "%viz --style=\"PLANTUML\" --view=\"Interconnection\" \"ActionTest\""
   ]
  },
  {
   "cell_type": "code",
   "execution_count": 34,
   "id": "weird-utilization",
   "metadata": {
    "execution": {
     "iopub.execute_input": "2021-03-25T14:11:46.928500Z",
     "iopub.status.busy": "2021-03-25T14:11:46.927656Z",
     "iopub.status.idle": "2021-03-25T14:11:47.067083Z",
     "shell.execute_reply": "2021-03-25T14:11:47.066531Z"
    }
   },
   "outputs": [
    {
     "data": {
      "image/svg+xml": [
       "<?xml version=\"1.0\" encoding=\"UTF-8\" standalone=\"no\"?><svg xmlns=\"http://www.w3.org/2000/svg\" xmlns:xlink=\"http://www.w3.org/1999/xlink\" contentScriptType=\"application/ecmascript\" contentStyleType=\"text/css\" height=\"403px\" preserveAspectRatio=\"none\" style=\"width:361px;height:403px;\" version=\"1.1\" viewBox=\"0 0 361 403\" width=\"361px\" zoomAndPan=\"magnify\"><defs><filter height=\"300%\" id=\"f15wnngpqbqh61\" width=\"300%\" x=\"-1\" y=\"-1\"><feGaussianBlur result=\"blurOut\" stdDeviation=\"2.0\"/><feColorMatrix in=\"blurOut\" result=\"blurOut2\" type=\"matrix\" values=\"0 0 0 0 0 0 0 0 0 0 0 0 0 0 0 0 0 0 .4 0\"/><feOffset dx=\"4.0\" dy=\"4.0\" in=\"blurOut2\" result=\"blurOut3\"/><feBlend in=\"SourceGraphic\" in2=\"blurOut3\" mode=\"normal\"/></filter></defs><g><!--MD5=[fbc87193dbaf4d95561dea2c320d4a47]\n",
       "cluster E1--><a href=\"psysml:63b3e978-ff90-4127-8639-9e6714fb0371\" target=\"_top\" title=\"psysml:63b3e978-ff90-4127-8639-9e6714fb0371\" xlink:actuate=\"onRequest\" xlink:href=\"psysml:63b3e978-ff90-4127-8639-9e6714fb0371\" xlink:show=\"new\" xlink:title=\"psysml:63b3e978-ff90-4127-8639-9e6714fb0371\" xlink:type=\"simple\"><rect fill=\"#FFFFFF\" filter=\"url(#f15wnngpqbqh61)\" height=\"377.5\" id=\"E1\" rx=\"10\" ry=\"10\" style=\"stroke: #A80036; stroke-width: 1.5;\" width=\"209\" x=\"133\" y=\"7\"/><rect fill=\"#FEFECE\" height=\"37.9375\" rx=\"10\" ry=\"10\" style=\"stroke: #FEFECE; stroke-width: 1.5;\" width=\"209\" x=\"133\" y=\"7\"/><rect fill=\"#FEFECE\" height=\"10\" style=\"stroke: #FEFECE; stroke-width: 1.5;\" width=\"209\" x=\"133\" y=\"34.9375\"/><rect fill=\"none\" height=\"377.5\" id=\"E1\" rx=\"10\" ry=\"10\" style=\"stroke: #A80036; stroke-width: 1.5;\" width=\"209\" x=\"133\" y=\"7\"/><text fill=\"#000000\" font-family=\"sans-serif\" font-size=\"12\" font-style=\"italic\" lengthAdjust=\"spacingAndGlyphs\" textLength=\"53\" x=\"211\" y=\"23.1387\">«action»</text><text fill=\"#000000\" font-family=\"sans-serif\" font-size=\"12\" lengthAdjust=\"spacingAndGlyphs\" textLength=\"8\" x=\"233.5\" y=\"37.1074\">a</text><line style=\"stroke: #A80036; stroke-width: 1.0;\" x1=\"133\" x2=\"342\" y1=\"44.9375\" y2=\"44.9375\"/></a><polygon fill=\"#FEFECE\" filter=\"url(#f15wnngpqbqh61)\" points=\"290,106.5,302,118.5,290,130.5,278,118.5,290,106.5\" style=\"stroke: #A80036; stroke-width: 1.5;\"/><!--MD5=[a60fb756f580feb9fd8e2cf1329b5c91]\n",
       "entity E3--><a href=\"psysml:12477b88-d1e3-4069-a82c-9614e3ee7843\" target=\"_top\" title=\"psysml:12477b88-d1e3-4069-a82c-9614e3ee7843\" xlink:actuate=\"onRequest\" xlink:href=\"psysml:12477b88-d1e3-4069-a82c-9614e3ee7843\" xlink:show=\"new\" xlink:title=\"psysml:12477b88-d1e3-4069-a82c-9614e3ee7843\" xlink:type=\"simple\"><polygon fill=\"#FEFECE\" filter=\"url(#f15wnngpqbqh61)\" points=\"149,147.5,149,202.0938,289,202.0938,269,174.7969,289,147.5\" style=\"stroke: #000000; stroke-width: 1.5;\"/><text fill=\"#000000\" font-family=\"sans-serif\" font-size=\"14\" font-style=\"italic\" lengthAdjust=\"spacingAndGlyphs\" textLength=\"111\" x=\"156\" y=\"170.4951\">«accept action»</text><text fill=\"#000000\" font-family=\"sans-serif\" font-size=\"14\" lengthAdjust=\"spacingAndGlyphs\" textLength=\"9\" x=\"207\" y=\"187.792\">S</text></a><!--MD5=[961cefdc15414eaa3e87aec9d17c2188]\n",
       "entity E4--><a href=\"psysml:18c53c10-a81a-4a73-8210-8be9c84ee198\" target=\"_top\" title=\"psysml:18c53c10-a81a-4a73-8210-8be9c84ee198\" xlink:actuate=\"onRequest\" xlink:href=\"psysml:18c53c10-a81a-4a73-8210-8be9c84ee198\" xlink:show=\"new\" xlink:title=\"psysml:18c53c10-a81a-4a73-8210-8be9c84ee198\" xlink:type=\"simple\"><polygon fill=\"#FEFECE\" filter=\"url(#f15wnngpqbqh61)\" points=\"149,235.5,149,290.0938,257,290.0938,277,262.7969,257,235.5\" style=\"stroke: #000000; stroke-width: 1.5;\"/><text fill=\"#000000\" font-family=\"sans-serif\" font-size=\"14\" font-style=\"italic\" lengthAdjust=\"spacingAndGlyphs\" textLength=\"99\" x=\"156\" y=\"258.4951\">«send action»</text><text fill=\"#000000\" font-family=\"sans-serif\" font-size=\"14\" lengthAdjust=\"spacingAndGlyphs\" textLength=\"55\" x=\"178\" y=\"275.792\">S to  B()</text></a><polygon fill=\"#FEFECE\" filter=\"url(#f15wnngpqbqh61)\" points=\"288,307.5,300,319.5,288,331.5,276,319.5,288,307.5\" style=\"stroke: #A80036; stroke-width: 1.5;\"/><ellipse cx=\"290\" cy=\"68\" fill=\"#000000\" filter=\"url(#f15wnngpqbqh61)\" rx=\"10\" ry=\"10\" style=\"stroke: none; stroke-width: 1.0;\"/><ellipse cx=\"288\" cy=\"358.5\" fill=\"none\" filter=\"url(#f15wnngpqbqh61)\" rx=\"10\" ry=\"10\" style=\"stroke: #000000; stroke-width: 1.0;\"/><ellipse cx=\"288.5\" cy=\"359\" fill=\"#000000\" rx=\"6\" ry=\"6\" style=\"stroke: none; stroke-width: 1.0;\"/><g id=\"E6\"><a href=\"psysml:a720c396-7a8e-4250-b133-b38e5d5b0a71\" target=\"_top\" title=\"psysml:a720c396-7a8e-4250-b133-b38e5d5b0a71\" xlink:actuate=\"onRequest\" xlink:href=\"psysml:a720c396-7a8e-4250-b133-b38e5d5b0a71\" xlink:show=\"new\" xlink:title=\"psysml:a720c396-7a8e-4250-b133-b38e5d5b0a71\" xlink:type=\"simple\"><rect fill=\"#FEFECE\" filter=\"url(#f15wnngpqbqh61)\" height=\"42.9375\" id=\"E6\" style=\"stroke: #A80036; stroke-width: 1.5;\" width=\"110\" x=\"7\" y=\"46.5\"/><ellipse cx=\"24.25\" cy=\"65.4688\" fill=\"#A52A2A\" rx=\"11\" ry=\"11\" style=\"stroke: #A80036; stroke-width: 1.0;\"/><path d=\"M23.8438,61.2813 L23.8438,69.2656 L24.5,69.2656 Q25.9375,69.2656 26.5469,68.3594 Q27.1719,67.4375 27.1719,65.2656 Q27.1719,63.0938 26.5469,62.1875 Q25.9375,61.2813 24.5,61.2813 L23.8438,61.2813 Z M21.3906,59.0781 L24.0156,59.0781 Q27.0469,59.0781 28.375,60.5313 Q29.7188,61.9688 29.7188,65.2656 Q29.7188,68.5625 28.375,70.0156 Q27.0469,71.4688 24.0156,71.4688 L21.3906,71.4688 L21.3906,59.0781 Z \"/><text fill=\"#000000\" font-family=\"sans-serif\" font-size=\"12\" font-style=\"italic\" lengthAdjust=\"spacingAndGlyphs\" textLength=\"77\" x=\"36.75\" y=\"62.6387\">«action def»</text><text fill=\"#000000\" font-family=\"sans-serif\" font-size=\"12\" lengthAdjust=\"spacingAndGlyphs\" textLength=\"8\" x=\"71.25\" y=\"76.6074\">B</text></a></g><!--MD5=[cff944eb183b832d446717a4e202d613]\n",
       "link *start*E1 to E2--><a href=\"psysml:3eb4ae89-c3fe-4a5c-9996-6c16dc90e291\" target=\"_top\" title=\"psysml:3eb4ae89-c3fe-4a5c-9996-6c16dc90e291\" xlink:actuate=\"onRequest\" xlink:href=\"psysml:3eb4ae89-c3fe-4a5c-9996-6c16dc90e291\" xlink:show=\"new\" xlink:title=\"psysml:3eb4ae89-c3fe-4a5c-9996-6c16dc90e291\" xlink:type=\"simple\"><path d=\"M290,78.35 C290,84.88 290,93.77 290,101.42 \" fill=\"none\" id=\"*start*E1-&gt;E2\" style=\"stroke: #A80036; stroke-width: 1.0; stroke-dasharray: 7.0,7.0;\"/><polygon fill=\"#A80036\" points=\"290,106.48,294,97.48,290,101.48,286,97.48,290,106.48\" style=\"stroke: #A80036; stroke-width: 1.0;\"/></a><!--MD5=[7fc47fc0d107820853a137871ad908c8]\n",
       "link E5 to *end*E1--><a href=\"psysml:529019b4-f7b3-445e-a809-123fd999bfb3\" target=\"_top\" title=\"psysml:529019b4-f7b3-445e-a809-123fd999bfb3\" xlink:actuate=\"onRequest\" xlink:href=\"psysml:529019b4-f7b3-445e-a809-123fd999bfb3\" xlink:show=\"new\" xlink:title=\"psysml:529019b4-f7b3-445e-a809-123fd999bfb3\" xlink:type=\"simple\"><path d=\"M288,331.8 C288,335.34 288,339.3 288,343.03 \" fill=\"none\" id=\"E5-&gt;*end*E1\" style=\"stroke: #A80036; stroke-width: 1.0; stroke-dasharray: 7.0,7.0;\"/><polygon fill=\"#A80036\" points=\"288,348.25,292,339.25,288,343.25,284,339.25,288,348.25\" style=\"stroke: #A80036; stroke-width: 1.0;\"/></a><!--MD5=[2720a5a1f2c3fca2055b230370638851]\n",
       "link E2 to E3--><a href=\"psysml:252a1c6c-cc00-403d-ac29-1241d1eee0ca\" target=\"_top\" title=\"psysml:252a1c6c-cc00-403d-ac29-1241d1eee0ca\" xlink:actuate=\"onRequest\" xlink:href=\"psysml:252a1c6c-cc00-403d-ac29-1241d1eee0ca\" xlink:show=\"new\" xlink:title=\"psysml:252a1c6c-cc00-403d-ac29-1241d1eee0ca\" xlink:type=\"simple\"><path d=\"M283.45,124.53 C277.33,129.23 267.65,136.66 257.64,144.34 \" fill=\"none\" id=\"E2-&gt;E3\" style=\"stroke: #A80036; stroke-width: 1.0; stroke-dasharray: 7.0,7.0;\"/><polygon fill=\"#A80036\" points=\"253.64,147.41,263.2129,145.0948,257.6037,144.3621,258.3363,138.7529,253.64,147.41\" style=\"stroke: #A80036; stroke-width: 1.0;\"/></a><!--MD5=[af87c684e3b0d8be13c1a698a818ef1e]\n",
       "link E3 to E4--><a href=\"psysml:52dd995d-9028-4157-9334-98b87c98e4ca\" target=\"_top\" title=\"psysml:52dd995d-9028-4157-9334-98b87c98e4ca\" xlink:actuate=\"onRequest\" xlink:href=\"psysml:52dd995d-9028-4157-9334-98b87c98e4ca\" xlink:show=\"new\" xlink:title=\"psysml:52dd995d-9028-4157-9334-98b87c98e4ca\" xlink:type=\"simple\"><path d=\"M217.13,202.74 C216.53,211.4 215.85,221.08 215.23,230.08 \" fill=\"none\" id=\"E3-&gt;E4\" style=\"stroke: #A80036; stroke-width: 1.0; stroke-dasharray: 7.0,7.0;\"/><polygon fill=\"#A80036\" points=\"214.86,235.28,219.468,226.5756,215.203,230.2918,211.4869,226.0268,214.86,235.28\" style=\"stroke: #A80036; stroke-width: 1.0;\"/></a><!--MD5=[1b7591eae5389033d8d09a9d6721a717]\n",
       "link E4 to E5--><a href=\"psysml:11c1c086-8dd9-4b00-9ab5-dcf0da9e4b0f\" target=\"_top\" title=\"psysml:11c1c086-8dd9-4b00-9ab5-dcf0da9e4b0f\" xlink:actuate=\"onRequest\" xlink:href=\"psysml:11c1c086-8dd9-4b00-9ab5-dcf0da9e4b0f\" xlink:show=\"new\" xlink:title=\"psysml:11c1c086-8dd9-4b00-9ab5-dcf0da9e4b0f\" xlink:type=\"simple\"><path d=\"M249.62,290.61 C259.72,297.95 269.91,305.35 277.24,310.68 \" fill=\"none\" id=\"E4-&gt;E5\" style=\"stroke: #A80036; stroke-width: 1.0; stroke-dasharray: 7.0,7.0;\"/><polygon fill=\"#A80036\" points=\"281.42,313.72,276.4976,305.1894,277.3776,310.7774,271.7896,311.6574,281.42,313.72\" style=\"stroke: #A80036; stroke-width: 1.0;\"/></a><!--MD5=[15ebcb19ae302d9b601edb458606d402]\n",
       "link E5 to E2--><a href=\"psysml:9dbcc968-b81d-4000-b2fb-dcd38ad7dec8\" target=\"_top\" title=\"psysml:9dbcc968-b81d-4000-b2fb-dcd38ad7dec8\" xlink:actuate=\"onRequest\" xlink:href=\"psysml:9dbcc968-b81d-4000-b2fb-dcd38ad7dec8\" xlink:show=\"new\" xlink:title=\"psysml:9dbcc968-b81d-4000-b2fb-dcd38ad7dec8\" xlink:type=\"simple\"><path d=\"M291,310.49 C299.84,285.73 324.06,208.48 307,147.5 C305.26,141.29 301.73,135.1 298.34,130.12 \" fill=\"none\" id=\"E5-&gt;E2\" style=\"stroke: #A80036; stroke-width: 1.0; stroke-dasharray: 7.0,7.0;\"/><polygon fill=\"#A80036\" points=\"295.31,125.92,297.3342,135.5586,298.2364,129.9741,303.8209,130.8763,295.31,125.92\" style=\"stroke: #A80036; stroke-width: 1.0;\"/><text fill=\"#000000\" font-family=\"sans-serif\" font-size=\"13\" lengthAdjust=\"spacingAndGlyphs\" textLength=\"36\" x=\"313\" y=\"223.5669\">[true]</text></a><!--MD5=[91c0d067b0c841624ca40b5f0fd3c2d4]\n",
       "@startuml\r\n",
       "skinparam ranksep 8\r\n",
       " \r\n",
       "rec usage \"a\" as E1  <<(U,orange)action>> [[psysml:63b3e978-ff90-4127-8639-9e6714fb0371 ]] {\r\n",
       "choice \"m\" as E2  [[psysml:3c09e5e0-87ee-487d-a94c-d1481b887cf0 ]] \r\n",
       "accept \" S\" as E3 <<accept action>> [[psysml:12477b88-d1e3-4069-a82c-9614e3ee7843 ]] \r\n",
       "send \" S to  B()\" as E4 <<send action>> [[psysml:18c53c10-a81a-4a73-8210-8be9c84ee198 ]] \r\n",
       "choice \"noname\" as E5  [[psysml:e28bc343-f228-4c60-afee-7deafa85ddc3 ]] \r\n",
       "[*] ..> E2 [[psysml:3eb4ae89-c3fe-4a5c-9996-6c16dc90e291 ]] \r\n",
       "E5 ..> [*] [[psysml:529019b4-f7b3-445e-a809-123fd999bfb3 ]] \r\n",
       "}\r\n",
       "\r\n",
       "E2 ..> E3 [[psysml:252a1c6c-cc00-403d-ac29-1241d1eee0ca ]] \r\n",
       "E3 ..> E4 [[psysml:52dd995d-9028-4157-9334-98b87c98e4ca ]] \r\n",
       "E4 ..> E5 [[psysml:11c1c086-8dd9-4b00-9ab5-dcf0da9e4b0f ]] \r\n",
       "E5 ..> E2 [[psysml:9dbcc968-b81d-4000-b2fb-dcd38ad7dec8 ]] : [true]\r\n",
       "rec def \"B\" as E6  <<(D,brown)action def>> [[psysml:a720c396-7a8e-4250-b133-b38e5d5b0a71 ]] {\r\n",
       "}\r\n",
       "\r\n",
       "@enduml\r\n",
       "\n",
       "PlantUML version 1.2020.13(Sat Jun 13 12:26:38 UTC 2020)\n",
       "(EPL source distribution)\n",
       "Java Runtime: OpenJDK Runtime Environment\n",
       "JVM: OpenJDK 64-Bit Server VM\n",
       "Default Encoding: UTF-8\n",
       "Language: en\n",
       "Country: null\n",
       "--></g></svg>"
      ]
     },
     "execution_count": 34,
     "metadata": {},
     "output_type": "execute_result"
    }
   ],
   "source": [
    "%viz --style=\"PLANTUML\" --view=\"Action\" \"ActionTest\""
   ]
  },
  {
   "cell_type": "code",
   "execution_count": 35,
   "id": "japanese-bridges",
   "metadata": {
    "execution": {
     "iopub.execute_input": "2021-03-25T14:11:47.117096Z",
     "iopub.status.busy": "2021-03-25T14:11:47.116598Z",
     "iopub.status.idle": "2021-03-25T14:11:47.798589Z",
     "shell.execute_reply": "2021-03-25T14:11:47.796702Z"
    }
   },
   "outputs": [
    {
     "data": {
      "image/svg+xml": [
       "<?xml version=\"1.0\" encoding=\"UTF-8\" standalone=\"no\"?><svg xmlns=\"http://www.w3.org/2000/svg\" xmlns:xlink=\"http://www.w3.org/1999/xlink\" contentScriptType=\"application/ecmascript\" contentStyleType=\"text/css\" height=\"187px\" preserveAspectRatio=\"none\" style=\"width:528px;height:187px;\" version=\"1.1\" viewBox=\"0 0 528 187\" width=\"528px\" zoomAndPan=\"magnify\"><defs><filter height=\"300%\" id=\"f82jvxag51ml1\" width=\"300%\" x=\"-1\" y=\"-1\"><feGaussianBlur result=\"blurOut\" stdDeviation=\"2.0\"/><feColorMatrix in=\"blurOut\" result=\"blurOut2\" type=\"matrix\" values=\"0 0 0 0 0 0 0 0 0 0 0 0 0 0 0 0 0 0 .4 0\"/><feOffset dx=\"4.0\" dy=\"4.0\" in=\"blurOut2\" result=\"blurOut3\"/><feBlend in=\"SourceGraphic\" in2=\"blurOut3\" mode=\"normal\"/></filter></defs><g><!--MD5=[fbc87193dbaf4d95561dea2c320d4a47]\n",
       "cluster E1--><a href=\"psysml:1b586630-6073-41f8-a31c-3b1021fd2d94\" target=\"_top\" title=\"psysml:1b586630-6073-41f8-a31c-3b1021fd2d94\" xlink:actuate=\"onRequest\" xlink:href=\"psysml:1b586630-6073-41f8-a31c-3b1021fd2d94\" xlink:show=\"new\" xlink:title=\"psysml:1b586630-6073-41f8-a31c-3b1021fd2d94\" xlink:type=\"simple\"><polygon fill=\"#FFFFFF\" filter=\"url(#f82jvxag51ml1)\" points=\"16,6,107,6,114,28.2969,506,28.2969,506,175,16,175,16,6\" style=\"stroke: #000000; stroke-width: 1.5;\"/><line style=\"stroke: #000000; stroke-width: 1.5;\" x1=\"16\" x2=\"114\" y1=\"28.2969\" y2=\"28.2969\"/><text fill=\"#000000\" font-family=\"sans-serif\" font-size=\"14\" font-weight=\"bold\" lengthAdjust=\"spacingAndGlyphs\" textLength=\"85\" x=\"20\" y=\"20.9951\">ActionTest</text></a><!--MD5=[b4997ac47864f28c2f74865a473b2911]\n",
       "class E2--><a href=\"psysml:ec6ecfb2-58e1-4e93-a57f-7fba141d91de\" target=\"_top\" title=\"psysml:ec6ecfb2-58e1-4e93-a57f-7fba141d91de\" xlink:actuate=\"onRequest\" xlink:href=\"psysml:ec6ecfb2-58e1-4e93-a57f-7fba141d91de\" xlink:show=\"new\" xlink:title=\"psysml:ec6ecfb2-58e1-4e93-a57f-7fba141d91de\" xlink:type=\"simple\"><rect fill=\"#FEFECE\" filter=\"url(#f82jvxag51ml1)\" height=\"45.9375\" id=\"E2\" style=\"stroke: #A80036; stroke-width: 1.5;\" width=\"121\" x=\"368.5\" y=\"77\"/><ellipse cx=\"383.5\" cy=\"95.9688\" fill=\"#A52A2A\" rx=\"11\" ry=\"11\" style=\"stroke: #A80036; stroke-width: 1.0;\"/><path d=\"M383.0938,91.7813 L383.0938,99.7656 L383.75,99.7656 Q385.1875,99.7656 385.7969,98.8594 Q386.4219,97.9375 386.4219,95.7656 Q386.4219,93.5938 385.7969,92.6875 Q385.1875,91.7813 383.75,91.7813 L383.0938,91.7813 Z M380.6406,89.5781 L383.2656,89.5781 Q386.2969,89.5781 387.625,91.0313 Q388.9688,92.4688 388.9688,95.7656 Q388.9688,99.0625 387.625,100.5156 Q386.2969,101.9688 383.2656,101.9688 L380.6406,101.9688 L380.6406,89.5781 Z \"/><text fill=\"#000000\" font-family=\"sans-serif\" font-size=\"12\" font-style=\"italic\" lengthAdjust=\"spacingAndGlyphs\" textLength=\"93\" x=\"395.5\" y=\"93.1387\">«attribute def»</text><text fill=\"#000000\" font-family=\"sans-serif\" font-size=\"12\" lengthAdjust=\"spacingAndGlyphs\" textLength=\"8\" x=\"438\" y=\"107.1074\">S</text><line style=\"stroke: #A80036; stroke-width: 1.5;\" x1=\"369.5\" x2=\"488.5\" y1=\"114.9375\" y2=\"114.9375\"/></a><!--MD5=[09b614a08d8cba4a07c9adeb5e0fee81]\n",
       "class E3--><a href=\"psysml:63b3e978-ff90-4127-8639-9e6714fb0371\" target=\"_top\" title=\"psysml:63b3e978-ff90-4127-8639-9e6714fb0371\" xlink:actuate=\"onRequest\" xlink:href=\"psysml:63b3e978-ff90-4127-8639-9e6714fb0371\" xlink:show=\"new\" xlink:title=\"psysml:63b3e978-ff90-4127-8639-9e6714fb0371\" xlink:type=\"simple\"><rect fill=\"#FEFECE\" filter=\"url(#f82jvxag51ml1)\" height=\"117.9609\" id=\"E3\" rx=\"10\" ry=\"10\" style=\"stroke: #A80036; stroke-width: 1.5;\" width=\"160\" x=\"173\" y=\"41\"/><ellipse cx=\"224.25\" cy=\"59.9688\" fill=\"#FFA500\" rx=\"11\" ry=\"11\" style=\"stroke: #A80036; stroke-width: 1.0;\"/><path d=\"M220.125,61.8906 L220.125,54.0781 L222.5781,54.0781 L222.5781,62.5156 Q222.5781,63.4375 223.0469,63.9688 Q223.5313,64.5 224.3594,64.5 Q225.2031,64.5 225.6719,63.9688 Q226.1406,63.4375 226.1406,62.5156 L226.1406,54.0781 L228.5938,54.0781 L228.5938,61.8906 Q228.5938,64.4219 227.5938,65.5625 Q226.5938,66.7031 224.3594,66.7031 Q222.1406,66.7031 221.125,65.5625 Q220.125,64.4219 220.125,61.8906 Z \"/><text fill=\"#000000\" font-family=\"sans-serif\" font-size=\"12\" font-style=\"italic\" lengthAdjust=\"spacingAndGlyphs\" textLength=\"53\" x=\"242.75\" y=\"57.1387\">«action»</text><text fill=\"#000000\" font-family=\"sans-serif\" font-size=\"12\" lengthAdjust=\"spacingAndGlyphs\" textLength=\"8\" x=\"265.25\" y=\"71.1074\">a</text><line style=\"stroke: #A80036; stroke-width: 1.5;\" x1=\"174\" x2=\"332\" y1=\"78.9375\" y2=\"78.9375\"/><text fill=\"#000000\" font-family=\"sans-serif\" font-size=\"11\" lengthAdjust=\"spacingAndGlyphs\" textLength=\"69\" x=\"179\" y=\"109.9526\">start: Action</text><text fill=\"#000000\" font-family=\"sans-serif\" font-size=\"11\" font-style=\"italic\" lengthAdjust=\"spacingAndGlyphs\" textLength=\"148\" x=\"179\" y=\"122.7573\">:&gt;&gt;Occurrence::startShot</text><line style=\"stroke: #A80036; stroke-width: 1.0;\" x1=\"174\" x2=\"232.5\" y1=\"93.3398\" y2=\"93.3398\"/><text fill=\"#000000\" font-family=\"sans-serif\" font-size=\"11\" lengthAdjust=\"spacingAndGlyphs\" textLength=\"41\" x=\"232.5\" y=\"96.6479\">actions</text><line style=\"stroke: #A80036; stroke-width: 1.0;\" x1=\"273.5\" x2=\"332\" y1=\"93.3398\" y2=\"93.3398\"/><text fill=\"#000000\" font-family=\"sans-serif\" font-size=\"11\" lengthAdjust=\"spacingAndGlyphs\" textLength=\"11\" x=\"179\" y=\"152.3667\">m</text><line style=\"stroke: #A80036; stroke-width: 1.0;\" x1=\"174\" x2=\"216.5\" y1=\"135.7539\" y2=\"135.7539\"/><text fill=\"#000000\" font-family=\"sans-serif\" font-size=\"11\" lengthAdjust=\"spacingAndGlyphs\" textLength=\"73\" x=\"216.5\" y=\"139.062\">mergeNodes</text><line style=\"stroke: #A80036; stroke-width: 1.0;\" x1=\"289.5\" x2=\"332\" y1=\"135.7539\" y2=\"135.7539\"/></a><!--MD5=[60a26617385b1d2d0262a64233df1f8d]\n",
       "class E6--><a href=\"psysml:a720c396-7a8e-4250-b133-b38e5d5b0a71\" target=\"_top\" title=\"psysml:a720c396-7a8e-4250-b133-b38e5d5b0a71\" xlink:actuate=\"onRequest\" xlink:href=\"psysml:a720c396-7a8e-4250-b133-b38e5d5b0a71\" xlink:show=\"new\" xlink:title=\"psysml:a720c396-7a8e-4250-b133-b38e5d5b0a71\" xlink:type=\"simple\"><rect fill=\"#FEFECE\" filter=\"url(#f82jvxag51ml1)\" height=\"45.9375\" id=\"E6\" style=\"stroke: #A80036; stroke-width: 1.5;\" width=\"105\" x=\"32.5\" y=\"77\"/><ellipse cx=\"47.5\" cy=\"95.9688\" fill=\"#A52A2A\" rx=\"11\" ry=\"11\" style=\"stroke: #A80036; stroke-width: 1.0;\"/><path d=\"M47.0938,91.7813 L47.0938,99.7656 L47.75,99.7656 Q49.1875,99.7656 49.7969,98.8594 Q50.4219,97.9375 50.4219,95.7656 Q50.4219,93.5938 49.7969,92.6875 Q49.1875,91.7813 47.75,91.7813 L47.0938,91.7813 Z M44.6406,89.5781 L47.2656,89.5781 Q50.2969,89.5781 51.625,91.0313 Q52.9688,92.4688 52.9688,95.7656 Q52.9688,99.0625 51.625,100.5156 Q50.2969,101.9688 47.2656,101.9688 L44.6406,101.9688 L44.6406,89.5781 Z \"/><text fill=\"#000000\" font-family=\"sans-serif\" font-size=\"12\" font-style=\"italic\" lengthAdjust=\"spacingAndGlyphs\" textLength=\"77\" x=\"59.5\" y=\"93.1387\">«action def»</text><text fill=\"#000000\" font-family=\"sans-serif\" font-size=\"12\" lengthAdjust=\"spacingAndGlyphs\" textLength=\"8\" x=\"94\" y=\"107.1074\">B</text><line style=\"stroke: #A80036; stroke-width: 1.5;\" x1=\"33.5\" x2=\"136.5\" y1=\"114.9375\" y2=\"114.9375\"/></a><!--MD5=[e168c3a8de5c36b20cc723e3d11c3a49]\n",
       "@startuml\r\n",
       " \r\n",
       "package \"ActionTest\" as E1  [[psysml:1b586630-6073-41f8-a31c-3b1021fd2d94 ]]  {\r\n",
       "comp def \"S\" as E2  <<(D,brown)attribute def>> [[psysml:ec6ecfb2-58e1-4e93-a57f-7fba141d91de ]] {\r\n",
       "}\r\n",
       "comp usage \"a\" as E3  <<(U,orange)action>> [[psysml:63b3e978-ff90-4127-8639-9e6714fb0371 ]] {\r\n",
       "- - actions - -\r\n",
       "start: Action\\n//:>>Occurrence::startShot// \r\n",
       "- - mergeNodes - -\r\n",
       "m\r\n",
       "}\r\n",
       "comp def \"B\" as E6  <<(D,brown)action def>> [[psysml:a720c396-7a8e-4250-b133-b38e5d5b0a71 ]] {\r\n",
       "}\r\n",
       "}\r\n",
       "@enduml\r\n",
       "\n",
       "PlantUML version 1.2020.13(Sat Jun 13 12:26:38 UTC 2020)\n",
       "(EPL source distribution)\n",
       "Java Runtime: OpenJDK Runtime Environment\n",
       "JVM: OpenJDK 64-Bit Server VM\n",
       "Default Encoding: UTF-8\n",
       "Language: en\n",
       "Country: null\n",
       "--></g></svg>"
      ]
     },
     "execution_count": 35,
     "metadata": {},
     "output_type": "execute_result"
    }
   ],
   "source": [
    "%viz --style=\"PLANTUML\" --view=\"Sequence\" \"ActionTest\""
   ]
  },
  {
   "cell_type": "code",
   "execution_count": 36,
   "id": "difficult-matter",
   "metadata": {
    "execution": {
     "iopub.execute_input": "2021-03-25T14:11:47.852405Z",
     "iopub.status.busy": "2021-03-25T14:11:47.851642Z",
     "iopub.status.idle": "2021-03-25T14:11:48.004434Z",
     "shell.execute_reply": "2021-03-25T14:11:48.004028Z"
    }
   },
   "outputs": [
    {
     "data": {
      "image/svg+xml": [
       "<?xml version=\"1.0\" encoding=\"UTF-8\" standalone=\"no\"?><svg xmlns=\"http://www.w3.org/2000/svg\" xmlns:xlink=\"http://www.w3.org/1999/xlink\" contentScriptType=\"application/ecmascript\" contentStyleType=\"text/css\" height=\"684px\" preserveAspectRatio=\"none\" style=\"width:570px;height:684px;\" version=\"1.1\" viewBox=\"0 0 570 684\" width=\"570px\" zoomAndPan=\"magnify\"><defs><filter height=\"300%\" id=\"f1b1o0oi9dqqo0\" width=\"300%\" x=\"-1\" y=\"-1\"><feGaussianBlur result=\"blurOut\" stdDeviation=\"2.0\"/><feColorMatrix in=\"blurOut\" result=\"blurOut2\" type=\"matrix\" values=\"0 0 0 0 0 0 0 0 0 0 0 0 0 0 0 0 0 0 .4 0\"/><feOffset dx=\"4.0\" dy=\"4.0\" in=\"blurOut2\" result=\"blurOut3\"/><feBlend in=\"SourceGraphic\" in2=\"blurOut3\" mode=\"normal\"/></filter></defs><g><!--MD5=[fbc87193dbaf4d95561dea2c320d4a47]\n",
       "cluster E1--><a href=\"psysml:1b586630-6073-41f8-a31c-3b1021fd2d94\" target=\"_top\" title=\"psysml:1b586630-6073-41f8-a31c-3b1021fd2d94\" xlink:actuate=\"onRequest\" xlink:href=\"psysml:1b586630-6073-41f8-a31c-3b1021fd2d94\" xlink:show=\"new\" xlink:title=\"psysml:1b586630-6073-41f8-a31c-3b1021fd2d94\" xlink:type=\"simple\"><polygon fill=\"#FFFFFF\" filter=\"url(#f1b1o0oi9dqqo0)\" points=\"16,6,107,6,114,28.2969,548,28.2969,548,672,16,672,16,6\" style=\"stroke: #000000; stroke-width: 1.5;\"/><line style=\"stroke: #000000; stroke-width: 1.5;\" x1=\"16\" x2=\"114\" y1=\"28.2969\" y2=\"28.2969\"/><text fill=\"#000000\" font-family=\"sans-serif\" font-size=\"14\" font-weight=\"bold\" lengthAdjust=\"spacingAndGlyphs\" textLength=\"85\" x=\"20\" y=\"20.9951\">ActionTest</text></a><!--MD5=[d5e69f78d87373223dbae638b30a9c99]\n",
       "cluster E3--><a href=\"psysml:63b3e978-ff90-4127-8639-9e6714fb0371\" target=\"_top\" title=\"psysml:63b3e978-ff90-4127-8639-9e6714fb0371\" xlink:actuate=\"onRequest\" xlink:href=\"psysml:63b3e978-ff90-4127-8639-9e6714fb0371\" xlink:show=\"new\" xlink:title=\"psysml:63b3e978-ff90-4127-8639-9e6714fb0371\" xlink:type=\"simple\"><rect fill=\"#FFFFFF\" filter=\"url(#f1b1o0oi9dqqo0)\" height=\"599\" id=\"E3\" rx=\"10\" ry=\"10\" style=\"stroke: #A80036; stroke-width: 1.5;\" width=\"209\" x=\"315\" y=\"49\"/><rect fill=\"#FEFECE\" height=\"37.9375\" rx=\"10\" ry=\"10\" style=\"stroke: #FEFECE; stroke-width: 1.5;\" width=\"209\" x=\"315\" y=\"49\"/><rect fill=\"#FEFECE\" height=\"10\" style=\"stroke: #FEFECE; stroke-width: 1.5;\" width=\"209\" x=\"315\" y=\"76.9375\"/><rect fill=\"none\" height=\"599\" id=\"E3\" rx=\"10\" ry=\"10\" style=\"stroke: #A80036; stroke-width: 1.5;\" width=\"209\" x=\"315\" y=\"49\"/><text fill=\"#000000\" font-family=\"sans-serif\" font-size=\"12\" font-style=\"italic\" lengthAdjust=\"spacingAndGlyphs\" textLength=\"53\" x=\"393\" y=\"65.1387\">«action»</text><text fill=\"#000000\" font-family=\"sans-serif\" font-size=\"12\" lengthAdjust=\"spacingAndGlyphs\" textLength=\"8\" x=\"415.5\" y=\"79.1074\">a</text><line style=\"stroke: #A80036; stroke-width: 1.0;\" x1=\"315\" x2=\"524\" y1=\"86.9375\" y2=\"86.9375\"/></a><!--MD5=[b4997ac47864f28c2f74865a473b2911]\n",
       "class E2--><a href=\"psysml:ec6ecfb2-58e1-4e93-a57f-7fba141d91de\" target=\"_top\" title=\"psysml:ec6ecfb2-58e1-4e93-a57f-7fba141d91de\" xlink:actuate=\"onRequest\" xlink:href=\"psysml:ec6ecfb2-58e1-4e93-a57f-7fba141d91de\" xlink:show=\"new\" xlink:title=\"psysml:ec6ecfb2-58e1-4e93-a57f-7fba141d91de\" xlink:type=\"simple\"><rect fill=\"#FEFECE\" filter=\"url(#f1b1o0oi9dqqo0)\" height=\"45.9375\" id=\"E2\" style=\"stroke: #A80036; stroke-width: 1.5;\" width=\"121\" x=\"177.5\" y=\"87\"/><ellipse cx=\"192.5\" cy=\"105.9688\" fill=\"#A52A2A\" rx=\"11\" ry=\"11\" style=\"stroke: #A80036; stroke-width: 1.0;\"/><path d=\"M192.0938,101.7813 L192.0938,109.7656 L192.75,109.7656 Q194.1875,109.7656 194.7969,108.8594 Q195.4219,107.9375 195.4219,105.7656 Q195.4219,103.5938 194.7969,102.6875 Q194.1875,101.7813 192.75,101.7813 L192.0938,101.7813 Z M189.6406,99.5781 L192.2656,99.5781 Q195.2969,99.5781 196.625,101.0313 Q197.9688,102.4688 197.9688,105.7656 Q197.9688,109.0625 196.625,110.5156 Q195.2969,111.9688 192.2656,111.9688 L189.6406,111.9688 L189.6406,99.5781 Z \"/><text fill=\"#000000\" font-family=\"sans-serif\" font-size=\"12\" font-style=\"italic\" lengthAdjust=\"spacingAndGlyphs\" textLength=\"93\" x=\"204.5\" y=\"103.1387\">«attribute def»</text><text fill=\"#000000\" font-family=\"sans-serif\" font-size=\"12\" lengthAdjust=\"spacingAndGlyphs\" textLength=\"8\" x=\"247\" y=\"117.1074\">S</text><line style=\"stroke: #A80036; stroke-width: 1.5;\" x1=\"178.5\" x2=\"297.5\" y1=\"124.9375\" y2=\"124.9375\"/></a><polygon fill=\"#FEFECE\" filter=\"url(#f1b1o0oi9dqqo0)\" points=\"472,194,484,206,472,218,460,206,472,194\" style=\"stroke: #A80036; stroke-width: 1.5;\"/><!--MD5=[21dd76c19d33815960c0e92fef8f0eef]\n",
       "entity E5--><a href=\"psysml:12477b88-d1e3-4069-a82c-9614e3ee7843\" target=\"_top\" title=\"psysml:12477b88-d1e3-4069-a82c-9614e3ee7843\" xlink:actuate=\"onRequest\" xlink:href=\"psysml:12477b88-d1e3-4069-a82c-9614e3ee7843\" xlink:show=\"new\" xlink:title=\"psysml:12477b88-d1e3-4069-a82c-9614e3ee7843\" xlink:type=\"simple\"><polygon fill=\"#FEFECE\" filter=\"url(#f1b1o0oi9dqqo0)\" points=\"331,279,331,333.5938,471,333.5938,451,306.2969,471,279\" style=\"stroke: #000000; stroke-width: 1.5;\"/><text fill=\"#000000\" font-family=\"sans-serif\" font-size=\"14\" font-style=\"italic\" lengthAdjust=\"spacingAndGlyphs\" textLength=\"111\" x=\"338\" y=\"301.9951\">«accept action»</text><text fill=\"#000000\" font-family=\"sans-serif\" font-size=\"14\" lengthAdjust=\"spacingAndGlyphs\" textLength=\"9\" x=\"389\" y=\"319.292\">S</text></a><!--MD5=[24d87cdf3002d433f401b2a2aa9f9f65]\n",
       "entity E6--><a href=\"psysml:18c53c10-a81a-4a73-8210-8be9c84ee198\" target=\"_top\" title=\"psysml:18c53c10-a81a-4a73-8210-8be9c84ee198\" xlink:actuate=\"onRequest\" xlink:href=\"psysml:18c53c10-a81a-4a73-8210-8be9c84ee198\" xlink:show=\"new\" xlink:title=\"psysml:18c53c10-a81a-4a73-8210-8be9c84ee198\" xlink:type=\"simple\"><polygon fill=\"#FEFECE\" filter=\"url(#f1b1o0oi9dqqo0)\" points=\"331,411,331,465.5938,439,465.5938,459,438.2969,439,411\" style=\"stroke: #000000; stroke-width: 1.5;\"/><text fill=\"#000000\" font-family=\"sans-serif\" font-size=\"14\" font-style=\"italic\" lengthAdjust=\"spacingAndGlyphs\" textLength=\"99\" x=\"338\" y=\"433.9951\">«send action»</text><text fill=\"#000000\" font-family=\"sans-serif\" font-size=\"14\" lengthAdjust=\"spacingAndGlyphs\" textLength=\"55\" x=\"360\" y=\"451.292\">S to  B()</text></a><polygon fill=\"#FEFECE\" filter=\"url(#f1b1o0oi9dqqo0)\" points=\"470,527,482,539,470,551,458,539,470,527\" style=\"stroke: #A80036; stroke-width: 1.5;\"/><ellipse cx=\"472\" cy=\"110\" fill=\"#000000\" filter=\"url(#f1b1o0oi9dqqo0)\" rx=\"10\" ry=\"10\" style=\"stroke: none; stroke-width: 1.0;\"/><ellipse cx=\"470\" cy=\"622\" fill=\"none\" filter=\"url(#f1b1o0oi9dqqo0)\" rx=\"10\" ry=\"10\" style=\"stroke: #000000; stroke-width: 1.0;\"/><ellipse cx=\"470.5\" cy=\"622.5\" fill=\"#000000\" rx=\"6\" ry=\"6\" style=\"stroke: none; stroke-width: 1.0;\"/><g id=\"E1.E8\"><a href=\"psysml:a720c396-7a8e-4250-b133-b38e5d5b0a71\" target=\"_top\" title=\"psysml:a720c396-7a8e-4250-b133-b38e5d5b0a71\" xlink:actuate=\"onRequest\" xlink:href=\"psysml:a720c396-7a8e-4250-b133-b38e5d5b0a71\" xlink:show=\"new\" xlink:title=\"psysml:a720c396-7a8e-4250-b133-b38e5d5b0a71\" xlink:type=\"simple\"><rect fill=\"#FEFECE\" filter=\"url(#f1b1o0oi9dqqo0)\" height=\"42.9375\" id=\"E8\" style=\"stroke: #A80036; stroke-width: 1.5;\" width=\"110\" x=\"32\" y=\"88.5\"/><ellipse cx=\"49.25\" cy=\"107.4688\" fill=\"#A52A2A\" rx=\"11\" ry=\"11\" style=\"stroke: #A80036; stroke-width: 1.0;\"/><path d=\"M48.8438,103.2813 L48.8438,111.2656 L49.5,111.2656 Q50.9375,111.2656 51.5469,110.3594 Q52.1719,109.4375 52.1719,107.2656 Q52.1719,105.0938 51.5469,104.1875 Q50.9375,103.2813 49.5,103.2813 L48.8438,103.2813 Z M46.3906,101.0781 L49.0156,101.0781 Q52.0469,101.0781 53.375,102.5313 Q54.7188,103.9688 54.7188,107.2656 Q54.7188,110.5625 53.375,112.0156 Q52.0469,113.4688 49.0156,113.4688 L46.3906,113.4688 L46.3906,101.0781 Z \"/><text fill=\"#000000\" font-family=\"sans-serif\" font-size=\"12\" font-style=\"italic\" lengthAdjust=\"spacingAndGlyphs\" textLength=\"77\" x=\"61.75\" y=\"104.6387\">«action def»</text><text fill=\"#000000\" font-family=\"sans-serif\" font-size=\"12\" lengthAdjust=\"spacingAndGlyphs\" textLength=\"8\" x=\"96.25\" y=\"118.6074\">B</text></a></g><!--MD5=[f47e10efcf9a6752d55dae986d790ed9]\n",
       "link *start*E3 to E4--><a href=\"psysml:3eb4ae89-c3fe-4a5c-9996-6c16dc90e291\" target=\"_top\" title=\"psysml:3eb4ae89-c3fe-4a5c-9996-6c16dc90e291\" xlink:actuate=\"onRequest\" xlink:href=\"psysml:3eb4ae89-c3fe-4a5c-9996-6c16dc90e291\" xlink:show=\"new\" xlink:title=\"psysml:3eb4ae89-c3fe-4a5c-9996-6c16dc90e291\" xlink:type=\"simple\"><path d=\"M472,120.01 C472,135.81 472,168.69 472,188.61 \" fill=\"none\" id=\"*start*E3-&gt;E4\" style=\"stroke: #A80036; stroke-width: 1.0;\"/><polygon fill=\"#A80036\" points=\"472,193.85,476,184.85,472,188.85,468,184.85,472,193.85\" style=\"stroke: #A80036; stroke-width: 1.0;\"/></a><!--MD5=[d19f2eb34364d71b67042106d92f540b]\n",
       "link E7 to *end*E3--><a href=\"psysml:529019b4-f7b3-445e-a809-123fd999bfb3\" target=\"_top\" title=\"psysml:529019b4-f7b3-445e-a809-123fd999bfb3\" xlink:actuate=\"onRequest\" xlink:href=\"psysml:529019b4-f7b3-445e-a809-123fd999bfb3\" xlink:show=\"new\" xlink:title=\"psysml:529019b4-f7b3-445e-a809-123fd999bfb3\" xlink:type=\"simple\"><path d=\"M470,551.26 C470,565.66 470,590.63 470,606.46 \" fill=\"none\" id=\"E7-&gt;*end*E3\" style=\"stroke: #A80036; stroke-width: 1.0;\"/><polygon fill=\"#A80036\" points=\"470,611.84,474,602.84,470,606.84,466,602.84,470,611.84\" style=\"stroke: #A80036; stroke-width: 1.0;\"/></a><!--MD5=[1b7591eae5389033d8d09a9d6721a717]\n",
       "link E4 to E5--><a href=\"psysml:252a1c6c-cc00-403d-ac29-1241d1eee0ca\" target=\"_top\" title=\"psysml:252a1c6c-cc00-403d-ac29-1241d1eee0ca\" xlink:actuate=\"onRequest\" xlink:href=\"psysml:252a1c6c-cc00-403d-ac29-1241d1eee0ca\" xlink:show=\"new\" xlink:title=\"psysml:252a1c6c-cc00-403d-ac29-1241d1eee0ca\" xlink:type=\"simple\"><path d=\"M467.34,213.46 C458.55,225.66 438.99,252.8 423.37,274.46 \" fill=\"none\" id=\"E4-&gt;E5\" style=\"stroke: #A80036; stroke-width: 1.0;\"/><polygon fill=\"#A80036\" points=\"420.31,278.71,428.8093,273.7339,423.227,274.6491,422.3119,269.0667,420.31,278.71\" style=\"stroke: #A80036; stroke-width: 1.0;\"/></a><!--MD5=[9120cf2e5df3bff93db8f754bbbc09b4]\n",
       "link E5 to E6--><a href=\"psysml:52dd995d-9028-4157-9334-98b87c98e4ca\" target=\"_top\" title=\"psysml:52dd995d-9028-4157-9334-98b87c98e4ca\" xlink:actuate=\"onRequest\" xlink:href=\"psysml:52dd995d-9028-4157-9334-98b87c98e4ca\" xlink:show=\"new\" xlink:title=\"psysml:52dd995d-9028-4157-9334-98b87c98e4ca\" xlink:type=\"simple\"><path d=\"M399.77,334.12 C398.81,354.89 397.48,383.8 396.46,405.77 \" fill=\"none\" id=\"E5-&gt;E6\" style=\"stroke: #A80036; stroke-width: 1.0;\"/><polygon fill=\"#A80036\" points=\"396.23,410.91,400.6368,402.1021,396.4583,405.9152,392.6452,401.7367,396.23,410.91\" style=\"stroke: #A80036; stroke-width: 1.0;\"/></a><!--MD5=[02c70b7c851c11e3980e4e90450dc5dd]\n",
       "link E6 to E7--><a href=\"psysml:11c1c086-8dd9-4b00-9ab5-dcf0da9e4b0f\" target=\"_top\" title=\"psysml:11c1c086-8dd9-4b00-9ab5-dcf0da9e4b0f\" xlink:actuate=\"onRequest\" xlink:href=\"psysml:11c1c086-8dd9-4b00-9ab5-dcf0da9e4b0f\" xlink:show=\"new\" xlink:title=\"psysml:11c1c086-8dd9-4b00-9ab5-dcf0da9e4b0f\" xlink:type=\"simple\"><path d=\"M415.3,466.16 C430.71,486.4 451.07,513.14 462.09,527.61 \" fill=\"none\" id=\"E6-&gt;E7\" style=\"stroke: #A80036; stroke-width: 1.0;\"/><polygon fill=\"#A80036\" points=\"465.2,531.69,462.9398,522.104,462.1749,527.7089,456.57,526.9441,465.2,531.69\" style=\"stroke: #A80036; stroke-width: 1.0;\"/></a><!--MD5=[6bdd27f9905911a7e892a3dc65cf6b7c]\n",
       "link E7 to E4--><a href=\"psysml:9dbcc968-b81d-4000-b2fb-dcd38ad7dec8\" target=\"_top\" title=\"psysml:9dbcc968-b81d-4000-b2fb-dcd38ad7dec8\" xlink:actuate=\"onRequest\" xlink:href=\"psysml:9dbcc968-b81d-4000-b2fb-dcd38ad7dec8\" xlink:show=\"new\" xlink:title=\"psysml:9dbcc968-b81d-4000-b2fb-dcd38ad7dec8\" xlink:type=\"simple\"><path d=\"M471.98,528.56 C478.8,494.71 500.32,376.18 489,279 C486.59,258.32 480.42,234.96 476.21,220.61 \" fill=\"none\" id=\"E7-&gt;E4\" style=\"stroke: #A80036; stroke-width: 1.0;\"/><polygon fill=\"#A80036\" points=\"474.76,215.75,473.4935,225.5171,476.1863,220.5423,481.1611,223.2351,474.76,215.75\" style=\"stroke: #A80036; stroke-width: 1.0;\"/><text fill=\"#000000\" font-family=\"sans-serif\" font-size=\"13\" lengthAdjust=\"spacingAndGlyphs\" textLength=\"36\" x=\"492\" y=\"377.0669\">[true]</text></a><!--MD5=[cdc0cc74dc58b2188a2282267da93c40]\n",
       "@startuml\r\n",
       " \r\n",
       "package \"ActionTest\" as E1  [[psysml:1b586630-6073-41f8-a31c-3b1021fd2d94 ]]  {\r\n",
       "comp def \"S\" as E2  <<(D,brown)attribute def>> [[psysml:ec6ecfb2-58e1-4e93-a57f-7fba141d91de ]] {\r\n",
       "}\r\n",
       "rec usage \"a\" as E3  <<(U,orange)action>> [[psysml:63b3e978-ff90-4127-8639-9e6714fb0371 ]] {\r\n",
       "choice \"m\" as E4  [[psysml:3c09e5e0-87ee-487d-a94c-d1481b887cf0 ]] \r\n",
       "accept \" S\" as E5 <<accept action>> [[psysml:12477b88-d1e3-4069-a82c-9614e3ee7843 ]] \r\n",
       "send \" S to  B()\" as E6 <<send action>> [[psysml:18c53c10-a81a-4a73-8210-8be9c84ee198 ]] \r\n",
       "choice \"noname\" as E7  [[psysml:e28bc343-f228-4c60-afee-7deafa85ddc3 ]] \r\n",
       "[*] - -> E4 [[psysml:3eb4ae89-c3fe-4a5c-9996-6c16dc90e291 ]] \r\n",
       "E7  - -> [*] [[psysml:529019b4-f7b3-445e-a809-123fd999bfb3 ]] \r\n",
       "}\r\n",
       "\r\n",
       "rec def \"B\" as E8  <<(D,brown)action def>> [[psysml:a720c396-7a8e-4250-b133-b38e5d5b0a71 ]] {\r\n",
       "}\r\n",
       "\r\n",
       "E4 - -> E5 [[psysml:252a1c6c-cc00-403d-ac29-1241d1eee0ca ]] \r\n",
       "E5 - -> E6 [[psysml:52dd995d-9028-4157-9334-98b87c98e4ca ]] \r\n",
       "E6 - -> E7 [[psysml:11c1c086-8dd9-4b00-9ab5-dcf0da9e4b0f ]] \r\n",
       "E7  - -> E4 [[psysml:9dbcc968-b81d-4000-b2fb-dcd38ad7dec8 ]] : [true]\r\n",
       "}\r\n",
       "@enduml\r\n",
       "\n",
       "PlantUML version 1.2020.13(Sat Jun 13 12:26:38 UTC 2020)\n",
       "(EPL source distribution)\n",
       "Java Runtime: OpenJDK Runtime Environment\n",
       "JVM: OpenJDK 64-Bit Server VM\n",
       "Default Encoding: UTF-8\n",
       "Language: en\n",
       "Country: null\n",
       "--></g></svg>"
      ]
     },
     "execution_count": 36,
     "metadata": {},
     "output_type": "execute_result"
    }
   ],
   "source": [
    "%viz --style=\"PLANTUML\" --view=\"MIXED\" \"ActionTest\""
   ]
  },
  {
   "cell_type": "code",
   "execution_count": 37,
   "id": "criminal-destruction",
   "metadata": {
    "execution": {
     "iopub.execute_input": "2021-03-25T14:11:48.056452Z",
     "iopub.status.busy": "2021-03-25T14:11:48.055671Z",
     "iopub.status.idle": "2021-03-25T14:11:48.212104Z",
     "shell.execute_reply": "2021-03-25T14:11:48.211658Z"
    }
   },
   "outputs": [
    {
     "data": {
      "image/svg+xml": [
       "<?xml version=\"1.0\" encoding=\"UTF-8\" standalone=\"no\"?><svg xmlns=\"http://www.w3.org/2000/svg\" xmlns:xlink=\"http://www.w3.org/1999/xlink\" contentScriptType=\"application/ecmascript\" contentStyleType=\"text/css\" height=\"684px\" preserveAspectRatio=\"none\" style=\"width:518px;height:684px;\" version=\"1.1\" viewBox=\"0 0 518 684\" width=\"518px\" zoomAndPan=\"magnify\"><defs/><g><!--MD5=[fbc87193dbaf4d95561dea2c320d4a47]\n",
       "cluster E1--><a href=\"psysml:1b586630-6073-41f8-a31c-3b1021fd2d94\" target=\"_top\" title=\"psysml:1b586630-6073-41f8-a31c-3b1021fd2d94\" xlink:actuate=\"onRequest\" xlink:href=\"psysml:1b586630-6073-41f8-a31c-3b1021fd2d94\" xlink:show=\"new\" xlink:title=\"psysml:1b586630-6073-41f8-a31c-3b1021fd2d94\" xlink:type=\"simple\"><polygon fill=\"#FFFFFF\" points=\"16,6,107,6,114,28.2969,496,28.2969,496,672,16,672,16,6\" style=\"stroke: #000000; stroke-width: 1.5;\"/><line style=\"stroke: #000000; stroke-width: 1.5;\" x1=\"16\" x2=\"114\" y1=\"28.2969\" y2=\"28.2969\"/><text fill=\"#000000\" font-family=\"sans-serif\" font-size=\"14\" font-weight=\"bold\" lengthAdjust=\"spacingAndGlyphs\" textLength=\"85\" x=\"20\" y=\"20.9951\">ActionTest</text></a><!--MD5=[d5e69f78d87373223dbae638b30a9c99]\n",
       "cluster E3--><a href=\"psysml:63b3e978-ff90-4127-8639-9e6714fb0371\" target=\"_top\" title=\"psysml:63b3e978-ff90-4127-8639-9e6714fb0371\" xlink:actuate=\"onRequest\" xlink:href=\"psysml:63b3e978-ff90-4127-8639-9e6714fb0371\" xlink:show=\"new\" xlink:title=\"psysml:63b3e978-ff90-4127-8639-9e6714fb0371\" xlink:type=\"simple\"><rect fill=\"#FFFFFF\" height=\"599\" id=\"E3\" rx=\"10\" ry=\"10\" style=\"stroke: #383838; stroke-width: 1.5;\" width=\"209\" x=\"263\" y=\"49\"/><rect fill=\"#F8F8F8\" height=\"37.9375\" rx=\"10\" ry=\"10\" style=\"stroke: #F8F8F8; stroke-width: 1.5;\" width=\"209\" x=\"263\" y=\"49\"/><rect fill=\"#F8F8F8\" height=\"10\" style=\"stroke: #F8F8F8; stroke-width: 1.5;\" width=\"209\" x=\"263\" y=\"76.9375\"/><rect fill=\"none\" height=\"599\" id=\"E3\" rx=\"10\" ry=\"10\" style=\"stroke: #383838; stroke-width: 1.5;\" width=\"209\" x=\"263\" y=\"49\"/><text fill=\"#000000\" font-family=\"sans-serif\" font-size=\"12\" font-style=\"italic\" lengthAdjust=\"spacingAndGlyphs\" textLength=\"53\" x=\"341\" y=\"65.1387\">«action»</text><text fill=\"#000000\" font-family=\"sans-serif\" font-size=\"12\" lengthAdjust=\"spacingAndGlyphs\" textLength=\"8\" x=\"363.5\" y=\"79.1074\">a</text><line style=\"stroke: #383838; stroke-width: 1.0;\" x1=\"263\" x2=\"472\" y1=\"86.9375\" y2=\"86.9375\"/></a><!--MD5=[b4997ac47864f28c2f74865a473b2911]\n",
       "class E2--><a href=\"psysml:ec6ecfb2-58e1-4e93-a57f-7fba141d91de\" target=\"_top\" title=\"psysml:ec6ecfb2-58e1-4e93-a57f-7fba141d91de\" xlink:actuate=\"onRequest\" xlink:href=\"psysml:ec6ecfb2-58e1-4e93-a57f-7fba141d91de\" xlink:show=\"new\" xlink:title=\"psysml:ec6ecfb2-58e1-4e93-a57f-7fba141d91de\" xlink:type=\"simple\"><rect fill=\"#FFFFFF\" height=\"45.9375\" id=\"E2\" style=\"stroke: #383838; stroke-width: 1.5;\" width=\"95\" x=\"151.5\" y=\"87\"/><text fill=\"#000000\" font-family=\"sans-serif\" font-size=\"12\" font-style=\"italic\" lengthAdjust=\"spacingAndGlyphs\" textLength=\"93\" x=\"152.5\" y=\"103.1387\">«attribute def»</text><text fill=\"#000000\" font-family=\"sans-serif\" font-size=\"12\" lengthAdjust=\"spacingAndGlyphs\" textLength=\"8\" x=\"195\" y=\"117.1074\">S</text><line style=\"stroke: #383838; stroke-width: 1.5;\" x1=\"152.5\" x2=\"245.5\" y1=\"124.9375\" y2=\"124.9375\"/></a><polygon fill=\"#F8F8F8\" points=\"420,194,432,206,420,218,408,206,420,194\" style=\"stroke: #383838; stroke-width: 1.5;\"/><!--MD5=[21dd76c19d33815960c0e92fef8f0eef]\n",
       "entity E5--><a href=\"psysml:12477b88-d1e3-4069-a82c-9614e3ee7843\" target=\"_top\" title=\"psysml:12477b88-d1e3-4069-a82c-9614e3ee7843\" xlink:actuate=\"onRequest\" xlink:href=\"psysml:12477b88-d1e3-4069-a82c-9614e3ee7843\" xlink:show=\"new\" xlink:title=\"psysml:12477b88-d1e3-4069-a82c-9614e3ee7843\" xlink:type=\"simple\"><polygon fill=\"#F8F8F8\" points=\"279,279,279,333.5938,419,333.5938,399,306.2969,419,279\" style=\"stroke: #000000; stroke-width: 1.5;\"/><text fill=\"#000000\" font-family=\"sans-serif\" font-size=\"14\" font-style=\"italic\" lengthAdjust=\"spacingAndGlyphs\" textLength=\"111\" x=\"286\" y=\"301.9951\">«accept action»</text><text fill=\"#000000\" font-family=\"sans-serif\" font-size=\"14\" lengthAdjust=\"spacingAndGlyphs\" textLength=\"9\" x=\"337\" y=\"319.292\">S</text></a><!--MD5=[24d87cdf3002d433f401b2a2aa9f9f65]\n",
       "entity E6--><a href=\"psysml:18c53c10-a81a-4a73-8210-8be9c84ee198\" target=\"_top\" title=\"psysml:18c53c10-a81a-4a73-8210-8be9c84ee198\" xlink:actuate=\"onRequest\" xlink:href=\"psysml:18c53c10-a81a-4a73-8210-8be9c84ee198\" xlink:show=\"new\" xlink:title=\"psysml:18c53c10-a81a-4a73-8210-8be9c84ee198\" xlink:type=\"simple\"><polygon fill=\"#F8F8F8\" points=\"279,411,279,465.5938,387,465.5938,407,438.2969,387,411\" style=\"stroke: #000000; stroke-width: 1.5;\"/><text fill=\"#000000\" font-family=\"sans-serif\" font-size=\"14\" font-style=\"italic\" lengthAdjust=\"spacingAndGlyphs\" textLength=\"99\" x=\"286\" y=\"433.9951\">«send action»</text><text fill=\"#000000\" font-family=\"sans-serif\" font-size=\"14\" lengthAdjust=\"spacingAndGlyphs\" textLength=\"55\" x=\"308\" y=\"451.292\">S to  B()</text></a><polygon fill=\"#F8F8F8\" points=\"418,527,430,539,418,551,406,539,418,527\" style=\"stroke: #383838; stroke-width: 1.5;\"/><ellipse cx=\"420\" cy=\"110\" fill=\"#000000\" rx=\"10\" ry=\"10\" style=\"stroke: none; stroke-width: 1.0;\"/><ellipse cx=\"418\" cy=\"622\" fill=\"none\" rx=\"10\" ry=\"10\" style=\"stroke: #000000; stroke-width: 1.0;\"/><ellipse cx=\"418.5\" cy=\"622.5\" fill=\"#000000\" rx=\"6\" ry=\"6\" style=\"stroke: none; stroke-width: 1.0;\"/><g id=\"E1.E8\"><a href=\"psysml:a720c396-7a8e-4250-b133-b38e5d5b0a71\" target=\"_top\" title=\"psysml:a720c396-7a8e-4250-b133-b38e5d5b0a71\" xlink:actuate=\"onRequest\" xlink:href=\"psysml:a720c396-7a8e-4250-b133-b38e5d5b0a71\" xlink:show=\"new\" xlink:title=\"psysml:a720c396-7a8e-4250-b133-b38e5d5b0a71\" xlink:type=\"simple\"><rect fill=\"#FFFFFF\" height=\"42.9375\" id=\"E8\" style=\"stroke: #383838; stroke-width: 1.5;\" width=\"84\" x=\"32\" y=\"88.5\"/><rect fill=\"#F8F8F8\" height=\"37.9375\" style=\"stroke: #383838; stroke-width: 1.5;\" width=\"84\" x=\"32\" y=\"88.5\"/><text fill=\"#000000\" font-family=\"sans-serif\" font-size=\"12\" font-style=\"italic\" lengthAdjust=\"spacingAndGlyphs\" textLength=\"77\" x=\"35.5\" y=\"104.6387\">«action def»</text><text fill=\"#000000\" font-family=\"sans-serif\" font-size=\"12\" lengthAdjust=\"spacingAndGlyphs\" textLength=\"8\" x=\"70\" y=\"118.6074\">B</text></a></g><!--MD5=[f47e10efcf9a6752d55dae986d790ed9]\n",
       "link *start*E3 to E4--><a href=\"psysml:3eb4ae89-c3fe-4a5c-9996-6c16dc90e291\" target=\"_top\" title=\"psysml:3eb4ae89-c3fe-4a5c-9996-6c16dc90e291\" xlink:actuate=\"onRequest\" xlink:href=\"psysml:3eb4ae89-c3fe-4a5c-9996-6c16dc90e291\" xlink:show=\"new\" xlink:title=\"psysml:3eb4ae89-c3fe-4a5c-9996-6c16dc90e291\" xlink:type=\"simple\"><path d=\"M420,120.01 C420,135.81 420,168.69 420,188.61 \" fill=\"none\" id=\"*start*E3-&gt;E4\" style=\"stroke: #383838; stroke-width: 1.0;\"/><polygon fill=\"#383838\" points=\"420,193.85,424,184.85,420,188.85,416,184.85,420,193.85\" style=\"stroke: #383838; stroke-width: 1.0;\"/></a><!--MD5=[d19f2eb34364d71b67042106d92f540b]\n",
       "link E7 to *end*E3--><a href=\"psysml:529019b4-f7b3-445e-a809-123fd999bfb3\" target=\"_top\" title=\"psysml:529019b4-f7b3-445e-a809-123fd999bfb3\" xlink:actuate=\"onRequest\" xlink:href=\"psysml:529019b4-f7b3-445e-a809-123fd999bfb3\" xlink:show=\"new\" xlink:title=\"psysml:529019b4-f7b3-445e-a809-123fd999bfb3\" xlink:type=\"simple\"><path d=\"M418,551.26 C418,565.66 418,590.63 418,606.46 \" fill=\"none\" id=\"E7-&gt;*end*E3\" style=\"stroke: #383838; stroke-width: 1.0;\"/><polygon fill=\"#383838\" points=\"418,611.84,422,602.84,418,606.84,414,602.84,418,611.84\" style=\"stroke: #383838; stroke-width: 1.0;\"/></a><!--MD5=[1b7591eae5389033d8d09a9d6721a717]\n",
       "link E4 to E5--><a href=\"psysml:252a1c6c-cc00-403d-ac29-1241d1eee0ca\" target=\"_top\" title=\"psysml:252a1c6c-cc00-403d-ac29-1241d1eee0ca\" xlink:actuate=\"onRequest\" xlink:href=\"psysml:252a1c6c-cc00-403d-ac29-1241d1eee0ca\" xlink:show=\"new\" xlink:title=\"psysml:252a1c6c-cc00-403d-ac29-1241d1eee0ca\" xlink:type=\"simple\"><path d=\"M415.34,213.46 C406.55,225.66 386.99,252.8 371.37,274.46 \" fill=\"none\" id=\"E4-&gt;E5\" style=\"stroke: #383838; stroke-width: 1.0;\"/><polygon fill=\"#383838\" points=\"368.31,278.71,376.8093,273.7339,371.227,274.6491,370.3119,269.0667,368.31,278.71\" style=\"stroke: #383838; stroke-width: 1.0;\"/></a><!--MD5=[9120cf2e5df3bff93db8f754bbbc09b4]\n",
       "link E5 to E6--><a href=\"psysml:52dd995d-9028-4157-9334-98b87c98e4ca\" target=\"_top\" title=\"psysml:52dd995d-9028-4157-9334-98b87c98e4ca\" xlink:actuate=\"onRequest\" xlink:href=\"psysml:52dd995d-9028-4157-9334-98b87c98e4ca\" xlink:show=\"new\" xlink:title=\"psysml:52dd995d-9028-4157-9334-98b87c98e4ca\" xlink:type=\"simple\"><path d=\"M347.77,334.12 C346.81,354.89 345.48,383.8 344.46,405.77 \" fill=\"none\" id=\"E5-&gt;E6\" style=\"stroke: #383838; stroke-width: 1.0;\"/><polygon fill=\"#383838\" points=\"344.23,410.91,348.6368,402.1021,344.4583,405.9152,340.6452,401.7367,344.23,410.91\" style=\"stroke: #383838; stroke-width: 1.0;\"/></a><!--MD5=[02c70b7c851c11e3980e4e90450dc5dd]\n",
       "link E6 to E7--><a href=\"psysml:11c1c086-8dd9-4b00-9ab5-dcf0da9e4b0f\" target=\"_top\" title=\"psysml:11c1c086-8dd9-4b00-9ab5-dcf0da9e4b0f\" xlink:actuate=\"onRequest\" xlink:href=\"psysml:11c1c086-8dd9-4b00-9ab5-dcf0da9e4b0f\" xlink:show=\"new\" xlink:title=\"psysml:11c1c086-8dd9-4b00-9ab5-dcf0da9e4b0f\" xlink:type=\"simple\"><path d=\"M363.3,466.16 C378.71,486.4 399.07,513.14 410.09,527.61 \" fill=\"none\" id=\"E6-&gt;E7\" style=\"stroke: #383838; stroke-width: 1.0;\"/><polygon fill=\"#383838\" points=\"413.2,531.69,410.9398,522.104,410.1749,527.7089,404.57,526.9441,413.2,531.69\" style=\"stroke: #383838; stroke-width: 1.0;\"/></a><!--MD5=[6bdd27f9905911a7e892a3dc65cf6b7c]\n",
       "link E7 to E4--><a href=\"psysml:9dbcc968-b81d-4000-b2fb-dcd38ad7dec8\" target=\"_top\" title=\"psysml:9dbcc968-b81d-4000-b2fb-dcd38ad7dec8\" xlink:actuate=\"onRequest\" xlink:href=\"psysml:9dbcc968-b81d-4000-b2fb-dcd38ad7dec8\" xlink:show=\"new\" xlink:title=\"psysml:9dbcc968-b81d-4000-b2fb-dcd38ad7dec8\" xlink:type=\"simple\"><path d=\"M419.98,528.56 C426.8,494.71 448.32,376.18 437,279 C434.59,258.32 428.42,234.96 424.21,220.61 \" fill=\"none\" id=\"E7-&gt;E4\" style=\"stroke: #383838; stroke-width: 1.0;\"/><polygon fill=\"#383838\" points=\"422.76,215.75,421.4935,225.5171,424.1863,220.5423,429.1611,223.2351,422.76,215.75\" style=\"stroke: #383838; stroke-width: 1.0;\"/><text fill=\"#000000\" font-family=\"sans-serif\" font-size=\"13\" lengthAdjust=\"spacingAndGlyphs\" textLength=\"36\" x=\"440\" y=\"377.0669\">[true]</text></a><!--MD5=[be504b487c499b9aa4f515df0f24f35a]\n",
       "@startuml\r\n",
       "skinparam monochrome true\r\n",
       "skinparam classbackgroundcolor white\r\n",
       "skinparam shadowing false\r\n",
       "skinparam wrapWidth 300\r\n",
       "hide circle\r\n",
       "\r\n",
       "package \"ActionTest\" as E1  [[psysml:1b586630-6073-41f8-a31c-3b1021fd2d94 ]]  {\r\n",
       "comp def \"S\" as E2  <<(T,blue)attribute def>> [[psysml:ec6ecfb2-58e1-4e93-a57f-7fba141d91de ]] {\r\n",
       "}\r\n",
       "rec usage \"a\" as E3  <<(T,blue)action>> [[psysml:63b3e978-ff90-4127-8639-9e6714fb0371 ]] {\r\n",
       "choice \"m\" as E4  [[psysml:3c09e5e0-87ee-487d-a94c-d1481b887cf0 ]] \r\n",
       "accept \" S\" as E5 <<accept action>> [[psysml:12477b88-d1e3-4069-a82c-9614e3ee7843 ]] \r\n",
       "send \" S to  B()\" as E6 <<send action>> [[psysml:18c53c10-a81a-4a73-8210-8be9c84ee198 ]] \r\n",
       "choice \"noname\" as E7  [[psysml:e28bc343-f228-4c60-afee-7deafa85ddc3 ]] \r\n",
       "[*] - -> E4 [[psysml:3eb4ae89-c3fe-4a5c-9996-6c16dc90e291 ]] \r\n",
       "E7  - -> [*] [[psysml:529019b4-f7b3-445e-a809-123fd999bfb3 ]] \r\n",
       "}\r\n",
       "\r\n",
       "rec def \"B\" as E8  <<(T,blue)action def>> [[psysml:a720c396-7a8e-4250-b133-b38e5d5b0a71 ]] {\r\n",
       "}\r\n",
       "\r\n",
       "E4 - -> E5 [[psysml:252a1c6c-cc00-403d-ac29-1241d1eee0ca ]] \r\n",
       "E5 - -> E6 [[psysml:52dd995d-9028-4157-9334-98b87c98e4ca ]] \r\n",
       "E6 - -> E7 [[psysml:11c1c086-8dd9-4b00-9ab5-dcf0da9e4b0f ]] \r\n",
       "E7  - -> E4 [[psysml:9dbcc968-b81d-4000-b2fb-dcd38ad7dec8 ]] : [true]\r\n",
       "}\r\n",
       "@enduml\r\n",
       "\n",
       "PlantUML version 1.2020.13(Sat Jun 13 12:26:38 UTC 2020)\n",
       "(EPL source distribution)\n",
       "Java Runtime: OpenJDK Runtime Environment\n",
       "JVM: OpenJDK 64-Bit Server VM\n",
       "Default Encoding: UTF-8\n",
       "Language: en\n",
       "Country: null\n",
       "--></g></svg>"
      ]
     },
     "execution_count": 37,
     "metadata": {},
     "output_type": "execute_result"
    }
   ],
   "source": [
    "%viz --style=\"DEFAULT\" --view=\"Default\" \"ActionTest\""
   ]
  },
  {
   "cell_type": "code",
   "execution_count": 38,
   "id": "existing-denmark",
   "metadata": {
    "execution": {
     "iopub.execute_input": "2021-03-25T14:11:48.263897Z",
     "iopub.status.busy": "2021-03-25T14:11:48.263113Z",
     "iopub.status.idle": "2021-03-25T14:11:48.949342Z",
     "shell.execute_reply": "2021-03-25T14:11:48.949864Z"
    }
   },
   "outputs": [
    {
     "data": {
      "image/svg+xml": [
       "<?xml version=\"1.0\" encoding=\"UTF-8\" standalone=\"no\"?><svg xmlns=\"http://www.w3.org/2000/svg\" xmlns:xlink=\"http://www.w3.org/1999/xlink\" contentScriptType=\"application/ecmascript\" contentStyleType=\"text/css\" height=\"187px\" preserveAspectRatio=\"none\" style=\"width:475px;height:187px;\" version=\"1.1\" viewBox=\"0 0 475 187\" width=\"475px\" zoomAndPan=\"magnify\"><defs/><g><!--MD5=[fbc87193dbaf4d95561dea2c320d4a47]\n",
       "cluster E1--><a href=\"psysml:1b586630-6073-41f8-a31c-3b1021fd2d94\" target=\"_top\" title=\"psysml:1b586630-6073-41f8-a31c-3b1021fd2d94\" xlink:actuate=\"onRequest\" xlink:href=\"psysml:1b586630-6073-41f8-a31c-3b1021fd2d94\" xlink:show=\"new\" xlink:title=\"psysml:1b586630-6073-41f8-a31c-3b1021fd2d94\" xlink:type=\"simple\"><polygon fill=\"#FFFFFF\" points=\"16,6,107,6,114,28.2969,453,28.2969,453,175,16,175,16,6\" style=\"stroke: #000000; stroke-width: 1.5;\"/><line style=\"stroke: #000000; stroke-width: 1.5;\" x1=\"16\" x2=\"114\" y1=\"28.2969\" y2=\"28.2969\"/><text fill=\"#000000\" font-family=\"sans-serif\" font-size=\"14\" font-weight=\"bold\" lengthAdjust=\"spacingAndGlyphs\" textLength=\"85\" x=\"20\" y=\"20.9951\">ActionTest</text></a><!--MD5=[b4997ac47864f28c2f74865a473b2911]\n",
       "class E2--><a href=\"psysml:ec6ecfb2-58e1-4e93-a57f-7fba141d91de\" target=\"_top\" title=\"psysml:ec6ecfb2-58e1-4e93-a57f-7fba141d91de\" xlink:actuate=\"onRequest\" xlink:href=\"psysml:ec6ecfb2-58e1-4e93-a57f-7fba141d91de\" xlink:show=\"new\" xlink:title=\"psysml:ec6ecfb2-58e1-4e93-a57f-7fba141d91de\" xlink:type=\"simple\"><rect fill=\"#FFFFFF\" height=\"45.9375\" id=\"E2\" style=\"stroke: #383838; stroke-width: 1.5;\" width=\"95\" x=\"341.5\" y=\"77\"/><text fill=\"#000000\" font-family=\"sans-serif\" font-size=\"12\" font-style=\"italic\" lengthAdjust=\"spacingAndGlyphs\" textLength=\"93\" x=\"342.5\" y=\"93.1387\">«attribute def»</text><text fill=\"#000000\" font-family=\"sans-serif\" font-size=\"12\" lengthAdjust=\"spacingAndGlyphs\" textLength=\"8\" x=\"385\" y=\"107.1074\">S</text><line style=\"stroke: #383838; stroke-width: 1.5;\" x1=\"342.5\" x2=\"435.5\" y1=\"114.9375\" y2=\"114.9375\"/></a><!--MD5=[09b614a08d8cba4a07c9adeb5e0fee81]\n",
       "class E3--><a href=\"psysml:63b3e978-ff90-4127-8639-9e6714fb0371\" target=\"_top\" title=\"psysml:63b3e978-ff90-4127-8639-9e6714fb0371\" xlink:actuate=\"onRequest\" xlink:href=\"psysml:63b3e978-ff90-4127-8639-9e6714fb0371\" xlink:show=\"new\" xlink:title=\"psysml:63b3e978-ff90-4127-8639-9e6714fb0371\" xlink:type=\"simple\"><rect fill=\"#FFFFFF\" height=\"117.9609\" id=\"E3\" rx=\"10\" ry=\"10\" style=\"stroke: #383838; stroke-width: 1.5;\" width=\"160\" x=\"146\" y=\"41\"/><text fill=\"#000000\" font-family=\"sans-serif\" font-size=\"12\" font-style=\"italic\" lengthAdjust=\"spacingAndGlyphs\" textLength=\"53\" x=\"199.5\" y=\"57.1387\">«action»</text><text fill=\"#000000\" font-family=\"sans-serif\" font-size=\"12\" lengthAdjust=\"spacingAndGlyphs\" textLength=\"8\" x=\"222\" y=\"71.1074\">a</text><line style=\"stroke: #383838; stroke-width: 1.5;\" x1=\"147\" x2=\"305\" y1=\"78.9375\" y2=\"78.9375\"/><text fill=\"#000000\" font-family=\"sans-serif\" font-size=\"11\" lengthAdjust=\"spacingAndGlyphs\" textLength=\"69\" x=\"152\" y=\"109.9526\">start: Action</text><text fill=\"#000000\" font-family=\"sans-serif\" font-size=\"11\" font-style=\"italic\" lengthAdjust=\"spacingAndGlyphs\" textLength=\"148\" x=\"152\" y=\"122.7573\">:&gt;&gt;Occurrence::startShot</text><line style=\"stroke: #383838; stroke-width: 1.0;\" x1=\"147\" x2=\"205.5\" y1=\"93.3398\" y2=\"93.3398\"/><text fill=\"#000000\" font-family=\"sans-serif\" font-size=\"11\" lengthAdjust=\"spacingAndGlyphs\" textLength=\"41\" x=\"205.5\" y=\"96.6479\">actions</text><line style=\"stroke: #383838; stroke-width: 1.0;\" x1=\"246.5\" x2=\"305\" y1=\"93.3398\" y2=\"93.3398\"/><text fill=\"#000000\" font-family=\"sans-serif\" font-size=\"11\" lengthAdjust=\"spacingAndGlyphs\" textLength=\"11\" x=\"152\" y=\"152.3667\">m</text><line style=\"stroke: #383838; stroke-width: 1.0;\" x1=\"147\" x2=\"189.5\" y1=\"135.7539\" y2=\"135.7539\"/><text fill=\"#000000\" font-family=\"sans-serif\" font-size=\"11\" lengthAdjust=\"spacingAndGlyphs\" textLength=\"73\" x=\"189.5\" y=\"139.062\">mergeNodes</text><line style=\"stroke: #383838; stroke-width: 1.0;\" x1=\"262.5\" x2=\"305\" y1=\"135.7539\" y2=\"135.7539\"/></a><!--MD5=[60a26617385b1d2d0262a64233df1f8d]\n",
       "class E6--><a href=\"psysml:a720c396-7a8e-4250-b133-b38e5d5b0a71\" target=\"_top\" title=\"psysml:a720c396-7a8e-4250-b133-b38e5d5b0a71\" xlink:actuate=\"onRequest\" xlink:href=\"psysml:a720c396-7a8e-4250-b133-b38e5d5b0a71\" xlink:show=\"new\" xlink:title=\"psysml:a720c396-7a8e-4250-b133-b38e5d5b0a71\" xlink:type=\"simple\"><rect fill=\"#FFFFFF\" height=\"45.9375\" id=\"E6\" style=\"stroke: #383838; stroke-width: 1.5;\" width=\"79\" x=\"31.5\" y=\"77\"/><text fill=\"#000000\" font-family=\"sans-serif\" font-size=\"12\" font-style=\"italic\" lengthAdjust=\"spacingAndGlyphs\" textLength=\"77\" x=\"32.5\" y=\"93.1387\">«action def»</text><text fill=\"#000000\" font-family=\"sans-serif\" font-size=\"12\" lengthAdjust=\"spacingAndGlyphs\" textLength=\"8\" x=\"67\" y=\"107.1074\">B</text><line style=\"stroke: #383838; stroke-width: 1.5;\" x1=\"32.5\" x2=\"109.5\" y1=\"114.9375\" y2=\"114.9375\"/></a><!--MD5=[47628d2b409aec0c6877ca54849592be]\n",
       "@startuml\r\n",
       "skinparam monochrome true\r\n",
       "skinparam classbackgroundcolor white\r\n",
       "skinparam shadowing false\r\n",
       "skinparam wrapWidth 300\r\n",
       "hide circle\r\n",
       "\r\n",
       "package \"ActionTest\" as E1  [[psysml:1b586630-6073-41f8-a31c-3b1021fd2d94 ]]  {\r\n",
       "comp def \"S\" as E2  <<(T,blue)attribute def>> [[psysml:ec6ecfb2-58e1-4e93-a57f-7fba141d91de ]] {\r\n",
       "}\r\n",
       "comp usage \"a\" as E3  <<(T,blue)action>> [[psysml:63b3e978-ff90-4127-8639-9e6714fb0371 ]] {\r\n",
       "- - actions - -\r\n",
       "start: Action\\n//:>>Occurrence::startShot// \r\n",
       "- - mergeNodes - -\r\n",
       "m\r\n",
       "}\r\n",
       "comp def \"B\" as E6  <<(T,blue)action def>> [[psysml:a720c396-7a8e-4250-b133-b38e5d5b0a71 ]] {\r\n",
       "}\r\n",
       "}\r\n",
       "@enduml\r\n",
       "\n",
       "PlantUML version 1.2020.13(Sat Jun 13 12:26:38 UTC 2020)\n",
       "(EPL source distribution)\n",
       "Java Runtime: OpenJDK Runtime Environment\n",
       "JVM: OpenJDK 64-Bit Server VM\n",
       "Default Encoding: UTF-8\n",
       "Language: en\n",
       "Country: null\n",
       "--></g></svg>"
      ]
     },
     "execution_count": 38,
     "metadata": {},
     "output_type": "execute_result"
    }
   ],
   "source": [
    "%viz --style=\"DEFAULT\" --view=\"Tree\" \"ActionTest\""
   ]
  },
  {
   "cell_type": "code",
   "execution_count": 39,
   "id": "reported-daily",
   "metadata": {
    "execution": {
     "iopub.execute_input": "2021-03-25T14:11:49.002179Z",
     "iopub.status.busy": "2021-03-25T14:11:49.001303Z",
     "iopub.status.idle": "2021-03-25T14:11:49.009931Z",
     "shell.execute_reply": "2021-03-25T14:11:49.010435Z"
    }
   },
   "outputs": [
    {
     "data": {
      "image/svg+xml": [
       "<?xml version=\"1.0\" encoding=\"UTF-8\" standalone=\"no\"?><svg xmlns=\"http://www.w3.org/2000/svg\" xmlns:xlink=\"http://www.w3.org/1999/xlink\" contentScriptType=\"application/ecmascript\" contentStyleType=\"text/css\" height=\"12px\" preserveAspectRatio=\"none\" style=\"width:12px;height:12px;\" version=\"1.1\" viewBox=\"0 0 12 12\" width=\"12px\" zoomAndPan=\"magnify\"><defs/><g><!--MD5=[c5f280e076d0d61ccf4b0f27871bda1d]\n",
       "@startuml\r\n",
       "skinparam monochrome true\r\n",
       "skinparam classbackgroundcolor white\r\n",
       "skinparam shadowing false\r\n",
       "skinparam wrapWidth 300\r\n",
       "hide circle\r\n",
       "\r\n",
       "@enduml\r\n",
       "\n",
       "PlantUML version 1.2020.13(Sat Jun 13 12:26:38 UTC 2020)\n",
       "(EPL source distribution)\n",
       "Java Runtime: OpenJDK Runtime Environment\n",
       "JVM: OpenJDK 64-Bit Server VM\n",
       "Default Encoding: UTF-8\n",
       "Language: en\n",
       "Country: null\n",
       "--></g></svg>"
      ]
     },
     "execution_count": 39,
     "metadata": {},
     "output_type": "execute_result"
    }
   ],
   "source": [
    "%viz --style=\"DEFAULT\" --view=\"State\" \"ActionTest\""
   ]
  },
  {
   "cell_type": "code",
   "execution_count": 40,
   "id": "colored-external",
   "metadata": {
    "execution": {
     "iopub.execute_input": "2021-03-25T14:11:49.062384Z",
     "iopub.status.busy": "2021-03-25T14:11:49.061723Z",
     "iopub.status.idle": "2021-03-25T14:11:49.220863Z",
     "shell.execute_reply": "2021-03-25T14:11:49.220465Z"
    }
   },
   "outputs": [
    {
     "data": {
      "image/svg+xml": [
       "<?xml version=\"1.0\" encoding=\"UTF-8\" standalone=\"no\"?><svg xmlns=\"http://www.w3.org/2000/svg\" xmlns:xlink=\"http://www.w3.org/1999/xlink\" contentScriptType=\"application/ecmascript\" contentStyleType=\"text/css\" height=\"462px\" preserveAspectRatio=\"none\" style=\"width:522px;height:462px;\" version=\"1.1\" viewBox=\"0 0 522 462\" width=\"522px\" zoomAndPan=\"magnify\"><defs/><g><!--MD5=[fbc87193dbaf4d95561dea2c320d4a47]\n",
       "cluster E1--><a href=\"psysml:1b586630-6073-41f8-a31c-3b1021fd2d94\" target=\"_top\" title=\"psysml:1b586630-6073-41f8-a31c-3b1021fd2d94\" xlink:actuate=\"onRequest\" xlink:href=\"psysml:1b586630-6073-41f8-a31c-3b1021fd2d94\" xlink:show=\"new\" xlink:title=\"psysml:1b586630-6073-41f8-a31c-3b1021fd2d94\" xlink:type=\"simple\"><polygon fill=\"#FFFFFF\" points=\"16,6,107,6,114,28.2969,500,28.2969,500,450.5,16,450.5,16,6\" style=\"stroke: #000000; stroke-width: 1.5;\"/><line style=\"stroke: #000000; stroke-width: 1.5;\" x1=\"16\" x2=\"114\" y1=\"28.2969\" y2=\"28.2969\"/><text fill=\"#000000\" font-family=\"sans-serif\" font-size=\"14\" font-weight=\"bold\" lengthAdjust=\"spacingAndGlyphs\" textLength=\"85\" x=\"20\" y=\"20.9951\">ActionTest</text></a><!--MD5=[d5e69f78d87373223dbae638b30a9c99]\n",
       "cluster E3--><a href=\"psysml:63b3e978-ff90-4127-8639-9e6714fb0371\" target=\"_top\" title=\"psysml:63b3e978-ff90-4127-8639-9e6714fb0371\" xlink:actuate=\"onRequest\" xlink:href=\"psysml:63b3e978-ff90-4127-8639-9e6714fb0371\" xlink:show=\"new\" xlink:title=\"psysml:63b3e978-ff90-4127-8639-9e6714fb0371\" xlink:type=\"simple\"><rect fill=\"#FFFFFF\" height=\"377.5\" id=\"E3\" rx=\"10\" ry=\"10\" style=\"stroke: #383838; stroke-width: 1.5;\" width=\"209\" x=\"267\" y=\"49\"/><rect fill=\"#F8F8F8\" height=\"37.9375\" rx=\"10\" ry=\"10\" style=\"stroke: #F8F8F8; stroke-width: 1.5;\" width=\"209\" x=\"267\" y=\"49\"/><rect fill=\"#F8F8F8\" height=\"10\" style=\"stroke: #F8F8F8; stroke-width: 1.5;\" width=\"209\" x=\"267\" y=\"76.9375\"/><rect fill=\"none\" height=\"377.5\" id=\"E3\" rx=\"10\" ry=\"10\" style=\"stroke: #383838; stroke-width: 1.5;\" width=\"209\" x=\"267\" y=\"49\"/><text fill=\"#000000\" font-family=\"sans-serif\" font-size=\"12\" font-style=\"italic\" lengthAdjust=\"spacingAndGlyphs\" textLength=\"53\" x=\"345\" y=\"65.1387\">«action»</text><text fill=\"#000000\" font-family=\"sans-serif\" font-size=\"12\" lengthAdjust=\"spacingAndGlyphs\" textLength=\"8\" x=\"367.5\" y=\"79.1074\">a</text><line style=\"stroke: #383838; stroke-width: 1.0;\" x1=\"267\" x2=\"476\" y1=\"86.9375\" y2=\"86.9375\"/></a><g id=\"E1.E2\"><a href=\"psysml:ec6ecfb2-58e1-4e93-a57f-7fba141d91de\" target=\"_top\" title=\"psysml:ec6ecfb2-58e1-4e93-a57f-7fba141d91de\" xlink:actuate=\"onRequest\" xlink:href=\"psysml:ec6ecfb2-58e1-4e93-a57f-7fba141d91de\" xlink:show=\"new\" xlink:title=\"psysml:ec6ecfb2-58e1-4e93-a57f-7fba141d91de\" xlink:type=\"simple\"><rect fill=\"#FFFFFF\" height=\"42.9375\" id=\"E2\" style=\"stroke: #383838; stroke-width: 1.5;\" width=\"100\" x=\"151\" y=\"88.5\"/><rect fill=\"#F8F8F8\" height=\"37.9375\" style=\"stroke: #383838; stroke-width: 1.5;\" width=\"100\" x=\"151\" y=\"88.5\"/><text fill=\"#000000\" font-family=\"sans-serif\" font-size=\"12\" font-style=\"italic\" lengthAdjust=\"spacingAndGlyphs\" textLength=\"93\" x=\"154.5\" y=\"104.6387\">«attribute def»</text><text fill=\"#000000\" font-family=\"sans-serif\" font-size=\"12\" lengthAdjust=\"spacingAndGlyphs\" textLength=\"8\" x=\"197\" y=\"118.6074\">S</text></a></g><polygon fill=\"#F8F8F8\" points=\"424,148.5,436,160.5,424,172.5,412,160.5,424,148.5\" style=\"stroke: #383838; stroke-width: 1.5;\"/><!--MD5=[21dd76c19d33815960c0e92fef8f0eef]\n",
       "entity E5--><a href=\"psysml:12477b88-d1e3-4069-a82c-9614e3ee7843\" target=\"_top\" title=\"psysml:12477b88-d1e3-4069-a82c-9614e3ee7843\" xlink:actuate=\"onRequest\" xlink:href=\"psysml:12477b88-d1e3-4069-a82c-9614e3ee7843\" xlink:show=\"new\" xlink:title=\"psysml:12477b88-d1e3-4069-a82c-9614e3ee7843\" xlink:type=\"simple\"><polygon fill=\"#F8F8F8\" points=\"283,189.5,283,244.0938,423,244.0938,403,216.7969,423,189.5\" style=\"stroke: #000000; stroke-width: 1.5;\"/><text fill=\"#000000\" font-family=\"sans-serif\" font-size=\"14\" font-style=\"italic\" lengthAdjust=\"spacingAndGlyphs\" textLength=\"111\" x=\"290\" y=\"212.4951\">«accept action»</text><text fill=\"#000000\" font-family=\"sans-serif\" font-size=\"14\" lengthAdjust=\"spacingAndGlyphs\" textLength=\"9\" x=\"341\" y=\"229.792\">S</text></a><!--MD5=[24d87cdf3002d433f401b2a2aa9f9f65]\n",
       "entity E6--><a href=\"psysml:18c53c10-a81a-4a73-8210-8be9c84ee198\" target=\"_top\" title=\"psysml:18c53c10-a81a-4a73-8210-8be9c84ee198\" xlink:actuate=\"onRequest\" xlink:href=\"psysml:18c53c10-a81a-4a73-8210-8be9c84ee198\" xlink:show=\"new\" xlink:title=\"psysml:18c53c10-a81a-4a73-8210-8be9c84ee198\" xlink:type=\"simple\"><polygon fill=\"#F8F8F8\" points=\"283,277.5,283,332.0938,391,332.0938,411,304.7969,391,277.5\" style=\"stroke: #000000; stroke-width: 1.5;\"/><text fill=\"#000000\" font-family=\"sans-serif\" font-size=\"14\" font-style=\"italic\" lengthAdjust=\"spacingAndGlyphs\" textLength=\"99\" x=\"290\" y=\"300.4951\">«send action»</text><text fill=\"#000000\" font-family=\"sans-serif\" font-size=\"14\" lengthAdjust=\"spacingAndGlyphs\" textLength=\"55\" x=\"312\" y=\"317.792\">S to  B()</text></a><polygon fill=\"#F8F8F8\" points=\"422,349.5,434,361.5,422,373.5,410,361.5,422,349.5\" style=\"stroke: #383838; stroke-width: 1.5;\"/><ellipse cx=\"424\" cy=\"110\" fill=\"#000000\" rx=\"10\" ry=\"10\" style=\"stroke: none; stroke-width: 1.0;\"/><ellipse cx=\"422\" cy=\"400.5\" fill=\"none\" rx=\"10\" ry=\"10\" style=\"stroke: #000000; stroke-width: 1.0;\"/><ellipse cx=\"422.5\" cy=\"401\" fill=\"#000000\" rx=\"6\" ry=\"6\" style=\"stroke: none; stroke-width: 1.0;\"/><g id=\"E1.E8\"><a href=\"psysml:a720c396-7a8e-4250-b133-b38e5d5b0a71\" target=\"_top\" title=\"psysml:a720c396-7a8e-4250-b133-b38e5d5b0a71\" xlink:actuate=\"onRequest\" xlink:href=\"psysml:a720c396-7a8e-4250-b133-b38e5d5b0a71\" xlink:show=\"new\" xlink:title=\"psysml:a720c396-7a8e-4250-b133-b38e5d5b0a71\" xlink:type=\"simple\"><rect fill=\"#FFFFFF\" height=\"42.9375\" id=\"E8\" style=\"stroke: #383838; stroke-width: 1.5;\" width=\"84\" x=\"32\" y=\"88.5\"/><rect fill=\"#F8F8F8\" height=\"37.9375\" style=\"stroke: #383838; stroke-width: 1.5;\" width=\"84\" x=\"32\" y=\"88.5\"/><text fill=\"#000000\" font-family=\"sans-serif\" font-size=\"12\" font-style=\"italic\" lengthAdjust=\"spacingAndGlyphs\" textLength=\"77\" x=\"35.5\" y=\"104.6387\">«action def»</text><text fill=\"#000000\" font-family=\"sans-serif\" font-size=\"12\" lengthAdjust=\"spacingAndGlyphs\" textLength=\"8\" x=\"70\" y=\"118.6074\">B</text></a></g><!--MD5=[f47e10efcf9a6752d55dae986d790ed9]\n",
       "link *start*E3 to E4--><a href=\"psysml:3eb4ae89-c3fe-4a5c-9996-6c16dc90e291\" target=\"_top\" title=\"psysml:3eb4ae89-c3fe-4a5c-9996-6c16dc90e291\" xlink:actuate=\"onRequest\" xlink:href=\"psysml:3eb4ae89-c3fe-4a5c-9996-6c16dc90e291\" xlink:show=\"new\" xlink:title=\"psysml:3eb4ae89-c3fe-4a5c-9996-6c16dc90e291\" xlink:type=\"simple\"><path d=\"M424,120.35 C424,126.88 424,135.77 424,143.42 \" fill=\"none\" id=\"*start*E3-&gt;E4\" style=\"stroke: #383838; stroke-width: 1.0;\"/><polygon fill=\"#383838\" points=\"424,148.48,428,139.48,424,143.48,420,139.48,424,148.48\" style=\"stroke: #383838; stroke-width: 1.0;\"/></a><!--MD5=[d19f2eb34364d71b67042106d92f540b]\n",
       "link E7 to *end*E3--><a href=\"psysml:529019b4-f7b3-445e-a809-123fd999bfb3\" target=\"_top\" title=\"psysml:529019b4-f7b3-445e-a809-123fd999bfb3\" xlink:actuate=\"onRequest\" xlink:href=\"psysml:529019b4-f7b3-445e-a809-123fd999bfb3\" xlink:show=\"new\" xlink:title=\"psysml:529019b4-f7b3-445e-a809-123fd999bfb3\" xlink:type=\"simple\"><path d=\"M422,373.8 C422,377.34 422,381.3 422,385.03 \" fill=\"none\" id=\"E7-&gt;*end*E3\" style=\"stroke: #383838; stroke-width: 1.0;\"/><polygon fill=\"#383838\" points=\"422,390.25,426,381.25,422,385.25,418,381.25,422,390.25\" style=\"stroke: #383838; stroke-width: 1.0;\"/></a><!--MD5=[1b7591eae5389033d8d09a9d6721a717]\n",
       "link E4 to E5--><a href=\"psysml:252a1c6c-cc00-403d-ac29-1241d1eee0ca\" target=\"_top\" title=\"psysml:252a1c6c-cc00-403d-ac29-1241d1eee0ca\" xlink:actuate=\"onRequest\" xlink:href=\"psysml:252a1c6c-cc00-403d-ac29-1241d1eee0ca\" xlink:show=\"new\" xlink:title=\"psysml:252a1c6c-cc00-403d-ac29-1241d1eee0ca\" xlink:type=\"simple\"><path d=\"M417.45,166.53 C411.33,171.23 401.65,178.66 391.64,186.34 \" fill=\"none\" id=\"E4-&gt;E5\" style=\"stroke: #383838; stroke-width: 1.0;\"/><polygon fill=\"#383838\" points=\"387.64,189.41,397.2129,187.0948,391.6037,186.3621,392.3363,180.7529,387.64,189.41\" style=\"stroke: #383838; stroke-width: 1.0;\"/></a><!--MD5=[9120cf2e5df3bff93db8f754bbbc09b4]\n",
       "link E5 to E6--><a href=\"psysml:52dd995d-9028-4157-9334-98b87c98e4ca\" target=\"_top\" title=\"psysml:52dd995d-9028-4157-9334-98b87c98e4ca\" xlink:actuate=\"onRequest\" xlink:href=\"psysml:52dd995d-9028-4157-9334-98b87c98e4ca\" xlink:show=\"new\" xlink:title=\"psysml:52dd995d-9028-4157-9334-98b87c98e4ca\" xlink:type=\"simple\"><path d=\"M351.13,244.74 C350.53,253.4 349.85,263.08 349.23,272.08 \" fill=\"none\" id=\"E5-&gt;E6\" style=\"stroke: #383838; stroke-width: 1.0;\"/><polygon fill=\"#383838\" points=\"348.86,277.28,353.468,268.5756,349.203,272.2918,345.4869,268.0268,348.86,277.28\" style=\"stroke: #383838; stroke-width: 1.0;\"/></a><!--MD5=[02c70b7c851c11e3980e4e90450dc5dd]\n",
       "link E6 to E7--><a href=\"psysml:11c1c086-8dd9-4b00-9ab5-dcf0da9e4b0f\" target=\"_top\" title=\"psysml:11c1c086-8dd9-4b00-9ab5-dcf0da9e4b0f\" xlink:actuate=\"onRequest\" xlink:href=\"psysml:11c1c086-8dd9-4b00-9ab5-dcf0da9e4b0f\" xlink:show=\"new\" xlink:title=\"psysml:11c1c086-8dd9-4b00-9ab5-dcf0da9e4b0f\" xlink:type=\"simple\"><path d=\"M383.62,332.61 C393.72,339.95 403.91,347.35 411.24,352.68 \" fill=\"none\" id=\"E6-&gt;E7\" style=\"stroke: #383838; stroke-width: 1.0;\"/><polygon fill=\"#383838\" points=\"415.42,355.72,410.4976,347.1894,411.3776,352.7774,405.7896,353.6574,415.42,355.72\" style=\"stroke: #383838; stroke-width: 1.0;\"/></a><!--MD5=[6bdd27f9905911a7e892a3dc65cf6b7c]\n",
       "link E7 to E4--><a href=\"psysml:9dbcc968-b81d-4000-b2fb-dcd38ad7dec8\" target=\"_top\" title=\"psysml:9dbcc968-b81d-4000-b2fb-dcd38ad7dec8\" xlink:actuate=\"onRequest\" xlink:href=\"psysml:9dbcc968-b81d-4000-b2fb-dcd38ad7dec8\" xlink:show=\"new\" xlink:title=\"psysml:9dbcc968-b81d-4000-b2fb-dcd38ad7dec8\" xlink:type=\"simple\"><path d=\"M425,352.49 C433.84,327.73 458.06,250.48 441,189.5 C439.26,183.29 435.73,177.1 432.34,172.12 \" fill=\"none\" id=\"E7-&gt;E4\" style=\"stroke: #383838; stroke-width: 1.0;\"/><polygon fill=\"#383838\" points=\"429.31,167.92,431.3342,177.5586,432.2364,171.9741,437.8209,172.8763,429.31,167.92\" style=\"stroke: #383838; stroke-width: 1.0;\"/><text fill=\"#000000\" font-family=\"sans-serif\" font-size=\"13\" lengthAdjust=\"spacingAndGlyphs\" textLength=\"36\" x=\"447\" y=\"265.5669\">[true]</text></a><!--MD5=[e50b3b84c2383b9b9f2469ca5db295dc]\n",
       "@startuml\r\n",
       "skinparam ranksep 10\r\n",
       "skinparam rectangle {\r\n",
       " backgroundColor<<block>> LightGreen\r\n",
       "}\r\n",
       "skinparam monochrome true\r\n",
       "skinparam classbackgroundcolor white\r\n",
       "skinparam shadowing false\r\n",
       "skinparam wrapWidth 300\r\n",
       "hide circle\r\n",
       "\r\n",
       "package \"ActionTest\" as E1  [[psysml:1b586630-6073-41f8-a31c-3b1021fd2d94 ]]  {\r\n",
       "def \"S\" as E2  <<(T,blue)attribute def>> [[psysml:ec6ecfb2-58e1-4e93-a57f-7fba141d91de ]] \r\n",
       "rec usage \"a\" as E3  <<(T,blue)action>> [[psysml:63b3e978-ff90-4127-8639-9e6714fb0371 ]] {\r\n",
       "choice \"m\" as E4  [[psysml:3c09e5e0-87ee-487d-a94c-d1481b887cf0 ]] \r\n",
       "accept \" S\" as E5 <<accept action>> [[psysml:12477b88-d1e3-4069-a82c-9614e3ee7843 ]] \r\n",
       "send \" S to  B()\" as E6 <<send action>> [[psysml:18c53c10-a81a-4a73-8210-8be9c84ee198 ]] \r\n",
       "choice \"noname\" as E7  [[psysml:e28bc343-f228-4c60-afee-7deafa85ddc3 ]] \r\n",
       "[*] - -> E4 [[psysml:3eb4ae89-c3fe-4a5c-9996-6c16dc90e291 ]] \r\n",
       "E7  - -> [*] [[psysml:529019b4-f7b3-445e-a809-123fd999bfb3 ]] \r\n",
       "}\r\n",
       "\r\n",
       "rec def \"B\" as E8  <<(T,blue)action def>> [[psysml:a720c396-7a8e-4250-b133-b38e5d5b0a71 ]] {\r\n",
       "}\r\n",
       "\r\n",
       "E4 - -> E5 [[psysml:252a1c6c-cc00-403d-ac29-1241d1eee0ca ]] \r\n",
       "E5 - -> E6 [[psysml:52dd995d-9028-4157-9334-98b87c98e4ca ]] \r\n",
       "E6 - -> E7 [[psysml:11c1c086-8dd9-4b00-9ab5-dcf0da9e4b0f ]] \r\n",
       "E7  - -> E4 [[psysml:9dbcc968-b81d-4000-b2fb-dcd38ad7dec8 ]] : [true]\r\n",
       "}\r\n",
       "@enduml\r\n",
       "\n",
       "PlantUML version 1.2020.13(Sat Jun 13 12:26:38 UTC 2020)\n",
       "(EPL source distribution)\n",
       "Java Runtime: OpenJDK Runtime Environment\n",
       "JVM: OpenJDK 64-Bit Server VM\n",
       "Default Encoding: UTF-8\n",
       "Language: en\n",
       "Country: null\n",
       "--></g></svg>"
      ]
     },
     "execution_count": 40,
     "metadata": {},
     "output_type": "execute_result"
    }
   ],
   "source": [
    "%viz --style=\"DEFAULT\" --view=\"Interconnection\" \"ActionTest\""
   ]
  },
  {
   "cell_type": "code",
   "execution_count": 41,
   "id": "skilled-faith",
   "metadata": {
    "execution": {
     "iopub.execute_input": "2021-03-25T14:11:49.273286Z",
     "iopub.status.busy": "2021-03-25T14:11:49.271554Z",
     "iopub.status.idle": "2021-03-25T14:11:49.416978Z",
     "shell.execute_reply": "2021-03-25T14:11:49.415508Z"
    }
   },
   "outputs": [
    {
     "data": {
      "image/svg+xml": [
       "<?xml version=\"1.0\" encoding=\"UTF-8\" standalone=\"no\"?><svg xmlns=\"http://www.w3.org/2000/svg\" xmlns:xlink=\"http://www.w3.org/1999/xlink\" contentScriptType=\"application/ecmascript\" contentStyleType=\"text/css\" height=\"395px\" preserveAspectRatio=\"none\" style=\"width:335px;height:395px;\" version=\"1.1\" viewBox=\"0 0 335 395\" width=\"335px\" zoomAndPan=\"magnify\"><defs/><g><!--MD5=[fbc87193dbaf4d95561dea2c320d4a47]\n",
       "cluster E1--><a href=\"psysml:63b3e978-ff90-4127-8639-9e6714fb0371\" target=\"_top\" title=\"psysml:63b3e978-ff90-4127-8639-9e6714fb0371\" xlink:actuate=\"onRequest\" xlink:href=\"psysml:63b3e978-ff90-4127-8639-9e6714fb0371\" xlink:show=\"new\" xlink:title=\"psysml:63b3e978-ff90-4127-8639-9e6714fb0371\" xlink:type=\"simple\"><rect fill=\"#FFFFFF\" height=\"377.5\" id=\"E1\" rx=\"10\" ry=\"10\" style=\"stroke: #383838; stroke-width: 1.5;\" width=\"209\" x=\"107\" y=\"7\"/><rect fill=\"#F8F8F8\" height=\"37.9375\" rx=\"10\" ry=\"10\" style=\"stroke: #F8F8F8; stroke-width: 1.5;\" width=\"209\" x=\"107\" y=\"7\"/><rect fill=\"#F8F8F8\" height=\"10\" style=\"stroke: #F8F8F8; stroke-width: 1.5;\" width=\"209\" x=\"107\" y=\"34.9375\"/><rect fill=\"none\" height=\"377.5\" id=\"E1\" rx=\"10\" ry=\"10\" style=\"stroke: #383838; stroke-width: 1.5;\" width=\"209\" x=\"107\" y=\"7\"/><text fill=\"#000000\" font-family=\"sans-serif\" font-size=\"12\" font-style=\"italic\" lengthAdjust=\"spacingAndGlyphs\" textLength=\"53\" x=\"185\" y=\"23.1387\">«action»</text><text fill=\"#000000\" font-family=\"sans-serif\" font-size=\"12\" lengthAdjust=\"spacingAndGlyphs\" textLength=\"8\" x=\"207.5\" y=\"37.1074\">a</text><line style=\"stroke: #383838; stroke-width: 1.0;\" x1=\"107\" x2=\"316\" y1=\"44.9375\" y2=\"44.9375\"/></a><polygon fill=\"#F8F8F8\" points=\"264,106.5,276,118.5,264,130.5,252,118.5,264,106.5\" style=\"stroke: #383838; stroke-width: 1.5;\"/><!--MD5=[a60fb756f580feb9fd8e2cf1329b5c91]\n",
       "entity E3--><a href=\"psysml:12477b88-d1e3-4069-a82c-9614e3ee7843\" target=\"_top\" title=\"psysml:12477b88-d1e3-4069-a82c-9614e3ee7843\" xlink:actuate=\"onRequest\" xlink:href=\"psysml:12477b88-d1e3-4069-a82c-9614e3ee7843\" xlink:show=\"new\" xlink:title=\"psysml:12477b88-d1e3-4069-a82c-9614e3ee7843\" xlink:type=\"simple\"><polygon fill=\"#F8F8F8\" points=\"123,147.5,123,202.0938,263,202.0938,243,174.7969,263,147.5\" style=\"stroke: #000000; stroke-width: 1.5;\"/><text fill=\"#000000\" font-family=\"sans-serif\" font-size=\"14\" font-style=\"italic\" lengthAdjust=\"spacingAndGlyphs\" textLength=\"111\" x=\"130\" y=\"170.4951\">«accept action»</text><text fill=\"#000000\" font-family=\"sans-serif\" font-size=\"14\" lengthAdjust=\"spacingAndGlyphs\" textLength=\"9\" x=\"181\" y=\"187.792\">S</text></a><!--MD5=[961cefdc15414eaa3e87aec9d17c2188]\n",
       "entity E4--><a href=\"psysml:18c53c10-a81a-4a73-8210-8be9c84ee198\" target=\"_top\" title=\"psysml:18c53c10-a81a-4a73-8210-8be9c84ee198\" xlink:actuate=\"onRequest\" xlink:href=\"psysml:18c53c10-a81a-4a73-8210-8be9c84ee198\" xlink:show=\"new\" xlink:title=\"psysml:18c53c10-a81a-4a73-8210-8be9c84ee198\" xlink:type=\"simple\"><polygon fill=\"#F8F8F8\" points=\"123,235.5,123,290.0938,231,290.0938,251,262.7969,231,235.5\" style=\"stroke: #000000; stroke-width: 1.5;\"/><text fill=\"#000000\" font-family=\"sans-serif\" font-size=\"14\" font-style=\"italic\" lengthAdjust=\"spacingAndGlyphs\" textLength=\"99\" x=\"130\" y=\"258.4951\">«send action»</text><text fill=\"#000000\" font-family=\"sans-serif\" font-size=\"14\" lengthAdjust=\"spacingAndGlyphs\" textLength=\"55\" x=\"152\" y=\"275.792\">S to  B()</text></a><polygon fill=\"#F8F8F8\" points=\"262,307.5,274,319.5,262,331.5,250,319.5,262,307.5\" style=\"stroke: #383838; stroke-width: 1.5;\"/><ellipse cx=\"264\" cy=\"68\" fill=\"#000000\" rx=\"10\" ry=\"10\" style=\"stroke: none; stroke-width: 1.0;\"/><ellipse cx=\"262\" cy=\"358.5\" fill=\"none\" rx=\"10\" ry=\"10\" style=\"stroke: #000000; stroke-width: 1.0;\"/><ellipse cx=\"262.5\" cy=\"359\" fill=\"#000000\" rx=\"6\" ry=\"6\" style=\"stroke: none; stroke-width: 1.0;\"/><g id=\"E6\"><a href=\"psysml:a720c396-7a8e-4250-b133-b38e5d5b0a71\" target=\"_top\" title=\"psysml:a720c396-7a8e-4250-b133-b38e5d5b0a71\" xlink:actuate=\"onRequest\" xlink:href=\"psysml:a720c396-7a8e-4250-b133-b38e5d5b0a71\" xlink:show=\"new\" xlink:title=\"psysml:a720c396-7a8e-4250-b133-b38e5d5b0a71\" xlink:type=\"simple\"><rect fill=\"#FFFFFF\" height=\"42.9375\" id=\"E6\" style=\"stroke: #383838; stroke-width: 1.5;\" width=\"84\" x=\"7\" y=\"46.5\"/><rect fill=\"#F8F8F8\" height=\"37.9375\" style=\"stroke: #383838; stroke-width: 1.5;\" width=\"84\" x=\"7\" y=\"46.5\"/><text fill=\"#000000\" font-family=\"sans-serif\" font-size=\"12\" font-style=\"italic\" lengthAdjust=\"spacingAndGlyphs\" textLength=\"77\" x=\"10.5\" y=\"62.6387\">«action def»</text><text fill=\"#000000\" font-family=\"sans-serif\" font-size=\"12\" lengthAdjust=\"spacingAndGlyphs\" textLength=\"8\" x=\"45\" y=\"76.6074\">B</text></a></g><!--MD5=[cff944eb183b832d446717a4e202d613]\n",
       "link *start*E1 to E2--><a href=\"psysml:3eb4ae89-c3fe-4a5c-9996-6c16dc90e291\" target=\"_top\" title=\"psysml:3eb4ae89-c3fe-4a5c-9996-6c16dc90e291\" xlink:actuate=\"onRequest\" xlink:href=\"psysml:3eb4ae89-c3fe-4a5c-9996-6c16dc90e291\" xlink:show=\"new\" xlink:title=\"psysml:3eb4ae89-c3fe-4a5c-9996-6c16dc90e291\" xlink:type=\"simple\"><path d=\"M264,78.35 C264,84.88 264,93.77 264,101.42 \" fill=\"none\" id=\"*start*E1-&gt;E2\" style=\"stroke: #383838; stroke-width: 1.0; stroke-dasharray: 7.0,7.0;\"/><polygon fill=\"#383838\" points=\"264,106.48,268,97.48,264,101.48,260,97.48,264,106.48\" style=\"stroke: #383838; stroke-width: 1.0;\"/></a><!--MD5=[7fc47fc0d107820853a137871ad908c8]\n",
       "link E5 to *end*E1--><a href=\"psysml:529019b4-f7b3-445e-a809-123fd999bfb3\" target=\"_top\" title=\"psysml:529019b4-f7b3-445e-a809-123fd999bfb3\" xlink:actuate=\"onRequest\" xlink:href=\"psysml:529019b4-f7b3-445e-a809-123fd999bfb3\" xlink:show=\"new\" xlink:title=\"psysml:529019b4-f7b3-445e-a809-123fd999bfb3\" xlink:type=\"simple\"><path d=\"M262,331.8 C262,335.34 262,339.3 262,343.03 \" fill=\"none\" id=\"E5-&gt;*end*E1\" style=\"stroke: #383838; stroke-width: 1.0; stroke-dasharray: 7.0,7.0;\"/><polygon fill=\"#383838\" points=\"262,348.25,266,339.25,262,343.25,258,339.25,262,348.25\" style=\"stroke: #383838; stroke-width: 1.0;\"/></a><!--MD5=[2720a5a1f2c3fca2055b230370638851]\n",
       "link E2 to E3--><a href=\"psysml:252a1c6c-cc00-403d-ac29-1241d1eee0ca\" target=\"_top\" title=\"psysml:252a1c6c-cc00-403d-ac29-1241d1eee0ca\" xlink:actuate=\"onRequest\" xlink:href=\"psysml:252a1c6c-cc00-403d-ac29-1241d1eee0ca\" xlink:show=\"new\" xlink:title=\"psysml:252a1c6c-cc00-403d-ac29-1241d1eee0ca\" xlink:type=\"simple\"><path d=\"M257.45,124.53 C251.33,129.23 241.65,136.66 231.64,144.34 \" fill=\"none\" id=\"E2-&gt;E3\" style=\"stroke: #383838; stroke-width: 1.0; stroke-dasharray: 7.0,7.0;\"/><polygon fill=\"#383838\" points=\"227.64,147.41,237.2129,145.0948,231.6037,144.3621,232.3363,138.7529,227.64,147.41\" style=\"stroke: #383838; stroke-width: 1.0;\"/></a><!--MD5=[af87c684e3b0d8be13c1a698a818ef1e]\n",
       "link E3 to E4--><a href=\"psysml:52dd995d-9028-4157-9334-98b87c98e4ca\" target=\"_top\" title=\"psysml:52dd995d-9028-4157-9334-98b87c98e4ca\" xlink:actuate=\"onRequest\" xlink:href=\"psysml:52dd995d-9028-4157-9334-98b87c98e4ca\" xlink:show=\"new\" xlink:title=\"psysml:52dd995d-9028-4157-9334-98b87c98e4ca\" xlink:type=\"simple\"><path d=\"M191.13,202.74 C190.53,211.4 189.85,221.08 189.23,230.08 \" fill=\"none\" id=\"E3-&gt;E4\" style=\"stroke: #383838; stroke-width: 1.0; stroke-dasharray: 7.0,7.0;\"/><polygon fill=\"#383838\" points=\"188.86,235.28,193.468,226.5756,189.203,230.2918,185.4869,226.0268,188.86,235.28\" style=\"stroke: #383838; stroke-width: 1.0;\"/></a><!--MD5=[1b7591eae5389033d8d09a9d6721a717]\n",
       "link E4 to E5--><a href=\"psysml:11c1c086-8dd9-4b00-9ab5-dcf0da9e4b0f\" target=\"_top\" title=\"psysml:11c1c086-8dd9-4b00-9ab5-dcf0da9e4b0f\" xlink:actuate=\"onRequest\" xlink:href=\"psysml:11c1c086-8dd9-4b00-9ab5-dcf0da9e4b0f\" xlink:show=\"new\" xlink:title=\"psysml:11c1c086-8dd9-4b00-9ab5-dcf0da9e4b0f\" xlink:type=\"simple\"><path d=\"M223.62,290.61 C233.72,297.95 243.91,305.35 251.24,310.68 \" fill=\"none\" id=\"E4-&gt;E5\" style=\"stroke: #383838; stroke-width: 1.0; stroke-dasharray: 7.0,7.0;\"/><polygon fill=\"#383838\" points=\"255.42,313.72,250.4976,305.1894,251.3776,310.7774,245.7896,311.6574,255.42,313.72\" style=\"stroke: #383838; stroke-width: 1.0;\"/></a><!--MD5=[15ebcb19ae302d9b601edb458606d402]\n",
       "link E5 to E2--><a href=\"psysml:9dbcc968-b81d-4000-b2fb-dcd38ad7dec8\" target=\"_top\" title=\"psysml:9dbcc968-b81d-4000-b2fb-dcd38ad7dec8\" xlink:actuate=\"onRequest\" xlink:href=\"psysml:9dbcc968-b81d-4000-b2fb-dcd38ad7dec8\" xlink:show=\"new\" xlink:title=\"psysml:9dbcc968-b81d-4000-b2fb-dcd38ad7dec8\" xlink:type=\"simple\"><path d=\"M265,310.49 C273.84,285.73 298.06,208.48 281,147.5 C279.26,141.29 275.73,135.1 272.34,130.12 \" fill=\"none\" id=\"E5-&gt;E2\" style=\"stroke: #383838; stroke-width: 1.0; stroke-dasharray: 7.0,7.0;\"/><polygon fill=\"#383838\" points=\"269.31,125.92,271.3342,135.5586,272.2364,129.9741,277.8209,130.8763,269.31,125.92\" style=\"stroke: #383838; stroke-width: 1.0;\"/><text fill=\"#000000\" font-family=\"sans-serif\" font-size=\"13\" lengthAdjust=\"spacingAndGlyphs\" textLength=\"36\" x=\"287\" y=\"223.5669\">[true]</text></a><!--MD5=[7f49da0f78e3a39d91673836e1453945]\n",
       "@startuml\r\n",
       "skinparam ranksep 8\r\n",
       "skinparam monochrome true\r\n",
       "skinparam classbackgroundcolor white\r\n",
       "skinparam shadowing false\r\n",
       "skinparam wrapWidth 300\r\n",
       "hide circle\r\n",
       "\r\n",
       "rec usage \"a\" as E1  <<(T,blue)action>> [[psysml:63b3e978-ff90-4127-8639-9e6714fb0371 ]] {\r\n",
       "choice \"m\" as E2  [[psysml:3c09e5e0-87ee-487d-a94c-d1481b887cf0 ]] \r\n",
       "accept \" S\" as E3 <<accept action>> [[psysml:12477b88-d1e3-4069-a82c-9614e3ee7843 ]] \r\n",
       "send \" S to  B()\" as E4 <<send action>> [[psysml:18c53c10-a81a-4a73-8210-8be9c84ee198 ]] \r\n",
       "choice \"noname\" as E5  [[psysml:e28bc343-f228-4c60-afee-7deafa85ddc3 ]] \r\n",
       "[*] ..> E2 [[psysml:3eb4ae89-c3fe-4a5c-9996-6c16dc90e291 ]] \r\n",
       "E5 ..> [*] [[psysml:529019b4-f7b3-445e-a809-123fd999bfb3 ]] \r\n",
       "}\r\n",
       "\r\n",
       "E2 ..> E3 [[psysml:252a1c6c-cc00-403d-ac29-1241d1eee0ca ]] \r\n",
       "E3 ..> E4 [[psysml:52dd995d-9028-4157-9334-98b87c98e4ca ]] \r\n",
       "E4 ..> E5 [[psysml:11c1c086-8dd9-4b00-9ab5-dcf0da9e4b0f ]] \r\n",
       "E5 ..> E2 [[psysml:9dbcc968-b81d-4000-b2fb-dcd38ad7dec8 ]] : [true]\r\n",
       "rec def \"B\" as E6  <<(T,blue)action def>> [[psysml:a720c396-7a8e-4250-b133-b38e5d5b0a71 ]] {\r\n",
       "}\r\n",
       "\r\n",
       "@enduml\r\n",
       "\n",
       "PlantUML version 1.2020.13(Sat Jun 13 12:26:38 UTC 2020)\n",
       "(EPL source distribution)\n",
       "Java Runtime: OpenJDK Runtime Environment\n",
       "JVM: OpenJDK 64-Bit Server VM\n",
       "Default Encoding: UTF-8\n",
       "Language: en\n",
       "Country: null\n",
       "--></g></svg>"
      ]
     },
     "execution_count": 41,
     "metadata": {},
     "output_type": "execute_result"
    }
   ],
   "source": [
    "%viz --style=\"DEFAULT\" --view=\"Action\" \"ActionTest\""
   ]
  },
  {
   "cell_type": "code",
   "execution_count": 42,
   "id": "suffering-review",
   "metadata": {
    "execution": {
     "iopub.execute_input": "2021-03-25T14:11:49.470800Z",
     "iopub.status.busy": "2021-03-25T14:11:49.470196Z",
     "iopub.status.idle": "2021-03-25T14:11:50.166571Z",
     "shell.execute_reply": "2021-03-25T14:11:50.167066Z"
    }
   },
   "outputs": [
    {
     "data": {
      "image/svg+xml": [
       "<?xml version=\"1.0\" encoding=\"UTF-8\" standalone=\"no\"?><svg xmlns=\"http://www.w3.org/2000/svg\" xmlns:xlink=\"http://www.w3.org/1999/xlink\" contentScriptType=\"application/ecmascript\" contentStyleType=\"text/css\" height=\"187px\" preserveAspectRatio=\"none\" style=\"width:475px;height:187px;\" version=\"1.1\" viewBox=\"0 0 475 187\" width=\"475px\" zoomAndPan=\"magnify\"><defs/><g><!--MD5=[fbc87193dbaf4d95561dea2c320d4a47]\n",
       "cluster E1--><a href=\"psysml:1b586630-6073-41f8-a31c-3b1021fd2d94\" target=\"_top\" title=\"psysml:1b586630-6073-41f8-a31c-3b1021fd2d94\" xlink:actuate=\"onRequest\" xlink:href=\"psysml:1b586630-6073-41f8-a31c-3b1021fd2d94\" xlink:show=\"new\" xlink:title=\"psysml:1b586630-6073-41f8-a31c-3b1021fd2d94\" xlink:type=\"simple\"><polygon fill=\"#FFFFFF\" points=\"16,6,107,6,114,28.2969,453,28.2969,453,175,16,175,16,6\" style=\"stroke: #000000; stroke-width: 1.5;\"/><line style=\"stroke: #000000; stroke-width: 1.5;\" x1=\"16\" x2=\"114\" y1=\"28.2969\" y2=\"28.2969\"/><text fill=\"#000000\" font-family=\"sans-serif\" font-size=\"14\" font-weight=\"bold\" lengthAdjust=\"spacingAndGlyphs\" textLength=\"85\" x=\"20\" y=\"20.9951\">ActionTest</text></a><!--MD5=[b4997ac47864f28c2f74865a473b2911]\n",
       "class E2--><a href=\"psysml:ec6ecfb2-58e1-4e93-a57f-7fba141d91de\" target=\"_top\" title=\"psysml:ec6ecfb2-58e1-4e93-a57f-7fba141d91de\" xlink:actuate=\"onRequest\" xlink:href=\"psysml:ec6ecfb2-58e1-4e93-a57f-7fba141d91de\" xlink:show=\"new\" xlink:title=\"psysml:ec6ecfb2-58e1-4e93-a57f-7fba141d91de\" xlink:type=\"simple\"><rect fill=\"#FFFFFF\" height=\"45.9375\" id=\"E2\" style=\"stroke: #383838; stroke-width: 1.5;\" width=\"95\" x=\"341.5\" y=\"77\"/><text fill=\"#000000\" font-family=\"sans-serif\" font-size=\"12\" font-style=\"italic\" lengthAdjust=\"spacingAndGlyphs\" textLength=\"93\" x=\"342.5\" y=\"93.1387\">«attribute def»</text><text fill=\"#000000\" font-family=\"sans-serif\" font-size=\"12\" lengthAdjust=\"spacingAndGlyphs\" textLength=\"8\" x=\"385\" y=\"107.1074\">S</text><line style=\"stroke: #383838; stroke-width: 1.5;\" x1=\"342.5\" x2=\"435.5\" y1=\"114.9375\" y2=\"114.9375\"/></a><!--MD5=[09b614a08d8cba4a07c9adeb5e0fee81]\n",
       "class E3--><a href=\"psysml:63b3e978-ff90-4127-8639-9e6714fb0371\" target=\"_top\" title=\"psysml:63b3e978-ff90-4127-8639-9e6714fb0371\" xlink:actuate=\"onRequest\" xlink:href=\"psysml:63b3e978-ff90-4127-8639-9e6714fb0371\" xlink:show=\"new\" xlink:title=\"psysml:63b3e978-ff90-4127-8639-9e6714fb0371\" xlink:type=\"simple\"><rect fill=\"#FFFFFF\" height=\"117.9609\" id=\"E3\" rx=\"10\" ry=\"10\" style=\"stroke: #383838; stroke-width: 1.5;\" width=\"160\" x=\"146\" y=\"41\"/><text fill=\"#000000\" font-family=\"sans-serif\" font-size=\"12\" font-style=\"italic\" lengthAdjust=\"spacingAndGlyphs\" textLength=\"53\" x=\"199.5\" y=\"57.1387\">«action»</text><text fill=\"#000000\" font-family=\"sans-serif\" font-size=\"12\" lengthAdjust=\"spacingAndGlyphs\" textLength=\"8\" x=\"222\" y=\"71.1074\">a</text><line style=\"stroke: #383838; stroke-width: 1.5;\" x1=\"147\" x2=\"305\" y1=\"78.9375\" y2=\"78.9375\"/><text fill=\"#000000\" font-family=\"sans-serif\" font-size=\"11\" lengthAdjust=\"spacingAndGlyphs\" textLength=\"69\" x=\"152\" y=\"109.9526\">start: Action</text><text fill=\"#000000\" font-family=\"sans-serif\" font-size=\"11\" font-style=\"italic\" lengthAdjust=\"spacingAndGlyphs\" textLength=\"148\" x=\"152\" y=\"122.7573\">:&gt;&gt;Occurrence::startShot</text><line style=\"stroke: #383838; stroke-width: 1.0;\" x1=\"147\" x2=\"205.5\" y1=\"93.3398\" y2=\"93.3398\"/><text fill=\"#000000\" font-family=\"sans-serif\" font-size=\"11\" lengthAdjust=\"spacingAndGlyphs\" textLength=\"41\" x=\"205.5\" y=\"96.6479\">actions</text><line style=\"stroke: #383838; stroke-width: 1.0;\" x1=\"246.5\" x2=\"305\" y1=\"93.3398\" y2=\"93.3398\"/><text fill=\"#000000\" font-family=\"sans-serif\" font-size=\"11\" lengthAdjust=\"spacingAndGlyphs\" textLength=\"11\" x=\"152\" y=\"152.3667\">m</text><line style=\"stroke: #383838; stroke-width: 1.0;\" x1=\"147\" x2=\"189.5\" y1=\"135.7539\" y2=\"135.7539\"/><text fill=\"#000000\" font-family=\"sans-serif\" font-size=\"11\" lengthAdjust=\"spacingAndGlyphs\" textLength=\"73\" x=\"189.5\" y=\"139.062\">mergeNodes</text><line style=\"stroke: #383838; stroke-width: 1.0;\" x1=\"262.5\" x2=\"305\" y1=\"135.7539\" y2=\"135.7539\"/></a><!--MD5=[60a26617385b1d2d0262a64233df1f8d]\n",
       "class E6--><a href=\"psysml:a720c396-7a8e-4250-b133-b38e5d5b0a71\" target=\"_top\" title=\"psysml:a720c396-7a8e-4250-b133-b38e5d5b0a71\" xlink:actuate=\"onRequest\" xlink:href=\"psysml:a720c396-7a8e-4250-b133-b38e5d5b0a71\" xlink:show=\"new\" xlink:title=\"psysml:a720c396-7a8e-4250-b133-b38e5d5b0a71\" xlink:type=\"simple\"><rect fill=\"#FFFFFF\" height=\"45.9375\" id=\"E6\" style=\"stroke: #383838; stroke-width: 1.5;\" width=\"79\" x=\"31.5\" y=\"77\"/><text fill=\"#000000\" font-family=\"sans-serif\" font-size=\"12\" font-style=\"italic\" lengthAdjust=\"spacingAndGlyphs\" textLength=\"77\" x=\"32.5\" y=\"93.1387\">«action def»</text><text fill=\"#000000\" font-family=\"sans-serif\" font-size=\"12\" lengthAdjust=\"spacingAndGlyphs\" textLength=\"8\" x=\"67\" y=\"107.1074\">B</text><line style=\"stroke: #383838; stroke-width: 1.5;\" x1=\"32.5\" x2=\"109.5\" y1=\"114.9375\" y2=\"114.9375\"/></a><!--MD5=[47628d2b409aec0c6877ca54849592be]\n",
       "@startuml\r\n",
       "skinparam monochrome true\r\n",
       "skinparam classbackgroundcolor white\r\n",
       "skinparam shadowing false\r\n",
       "skinparam wrapWidth 300\r\n",
       "hide circle\r\n",
       "\r\n",
       "package \"ActionTest\" as E1  [[psysml:1b586630-6073-41f8-a31c-3b1021fd2d94 ]]  {\r\n",
       "comp def \"S\" as E2  <<(T,blue)attribute def>> [[psysml:ec6ecfb2-58e1-4e93-a57f-7fba141d91de ]] {\r\n",
       "}\r\n",
       "comp usage \"a\" as E3  <<(T,blue)action>> [[psysml:63b3e978-ff90-4127-8639-9e6714fb0371 ]] {\r\n",
       "- - actions - -\r\n",
       "start: Action\\n//:>>Occurrence::startShot// \r\n",
       "- - mergeNodes - -\r\n",
       "m\r\n",
       "}\r\n",
       "comp def \"B\" as E6  <<(T,blue)action def>> [[psysml:a720c396-7a8e-4250-b133-b38e5d5b0a71 ]] {\r\n",
       "}\r\n",
       "}\r\n",
       "@enduml\r\n",
       "\n",
       "PlantUML version 1.2020.13(Sat Jun 13 12:26:38 UTC 2020)\n",
       "(EPL source distribution)\n",
       "Java Runtime: OpenJDK Runtime Environment\n",
       "JVM: OpenJDK 64-Bit Server VM\n",
       "Default Encoding: UTF-8\n",
       "Language: en\n",
       "Country: null\n",
       "--></g></svg>"
      ]
     },
     "execution_count": 42,
     "metadata": {},
     "output_type": "execute_result"
    }
   ],
   "source": [
    "%viz --style=\"DEFAULT\" --view=\"Sequence\" \"ActionTest\""
   ]
  },
  {
   "cell_type": "code",
   "execution_count": 43,
   "id": "wireless-remainder",
   "metadata": {
    "execution": {
     "iopub.execute_input": "2021-03-25T14:11:50.218615Z",
     "iopub.status.busy": "2021-03-25T14:11:50.217713Z",
     "iopub.status.idle": "2021-03-25T14:11:50.376449Z",
     "shell.execute_reply": "2021-03-25T14:11:50.374886Z"
    }
   },
   "outputs": [
    {
     "data": {
      "image/svg+xml": [
       "<?xml version=\"1.0\" encoding=\"UTF-8\" standalone=\"no\"?><svg xmlns=\"http://www.w3.org/2000/svg\" xmlns:xlink=\"http://www.w3.org/1999/xlink\" contentScriptType=\"application/ecmascript\" contentStyleType=\"text/css\" height=\"684px\" preserveAspectRatio=\"none\" style=\"width:518px;height:684px;\" version=\"1.1\" viewBox=\"0 0 518 684\" width=\"518px\" zoomAndPan=\"magnify\"><defs/><g><!--MD5=[fbc87193dbaf4d95561dea2c320d4a47]\n",
       "cluster E1--><a href=\"psysml:1b586630-6073-41f8-a31c-3b1021fd2d94\" target=\"_top\" title=\"psysml:1b586630-6073-41f8-a31c-3b1021fd2d94\" xlink:actuate=\"onRequest\" xlink:href=\"psysml:1b586630-6073-41f8-a31c-3b1021fd2d94\" xlink:show=\"new\" xlink:title=\"psysml:1b586630-6073-41f8-a31c-3b1021fd2d94\" xlink:type=\"simple\"><polygon fill=\"#FFFFFF\" points=\"16,6,107,6,114,28.2969,496,28.2969,496,672,16,672,16,6\" style=\"stroke: #000000; stroke-width: 1.5;\"/><line style=\"stroke: #000000; stroke-width: 1.5;\" x1=\"16\" x2=\"114\" y1=\"28.2969\" y2=\"28.2969\"/><text fill=\"#000000\" font-family=\"sans-serif\" font-size=\"14\" font-weight=\"bold\" lengthAdjust=\"spacingAndGlyphs\" textLength=\"85\" x=\"20\" y=\"20.9951\">ActionTest</text></a><!--MD5=[d5e69f78d87373223dbae638b30a9c99]\n",
       "cluster E3--><a href=\"psysml:63b3e978-ff90-4127-8639-9e6714fb0371\" target=\"_top\" title=\"psysml:63b3e978-ff90-4127-8639-9e6714fb0371\" xlink:actuate=\"onRequest\" xlink:href=\"psysml:63b3e978-ff90-4127-8639-9e6714fb0371\" xlink:show=\"new\" xlink:title=\"psysml:63b3e978-ff90-4127-8639-9e6714fb0371\" xlink:type=\"simple\"><rect fill=\"#FFFFFF\" height=\"599\" id=\"E3\" rx=\"10\" ry=\"10\" style=\"stroke: #383838; stroke-width: 1.5;\" width=\"209\" x=\"263\" y=\"49\"/><rect fill=\"#F8F8F8\" height=\"37.9375\" rx=\"10\" ry=\"10\" style=\"stroke: #F8F8F8; stroke-width: 1.5;\" width=\"209\" x=\"263\" y=\"49\"/><rect fill=\"#F8F8F8\" height=\"10\" style=\"stroke: #F8F8F8; stroke-width: 1.5;\" width=\"209\" x=\"263\" y=\"76.9375\"/><rect fill=\"none\" height=\"599\" id=\"E3\" rx=\"10\" ry=\"10\" style=\"stroke: #383838; stroke-width: 1.5;\" width=\"209\" x=\"263\" y=\"49\"/><text fill=\"#000000\" font-family=\"sans-serif\" font-size=\"12\" font-style=\"italic\" lengthAdjust=\"spacingAndGlyphs\" textLength=\"53\" x=\"341\" y=\"65.1387\">«action»</text><text fill=\"#000000\" font-family=\"sans-serif\" font-size=\"12\" lengthAdjust=\"spacingAndGlyphs\" textLength=\"8\" x=\"363.5\" y=\"79.1074\">a</text><line style=\"stroke: #383838; stroke-width: 1.0;\" x1=\"263\" x2=\"472\" y1=\"86.9375\" y2=\"86.9375\"/></a><!--MD5=[b4997ac47864f28c2f74865a473b2911]\n",
       "class E2--><a href=\"psysml:ec6ecfb2-58e1-4e93-a57f-7fba141d91de\" target=\"_top\" title=\"psysml:ec6ecfb2-58e1-4e93-a57f-7fba141d91de\" xlink:actuate=\"onRequest\" xlink:href=\"psysml:ec6ecfb2-58e1-4e93-a57f-7fba141d91de\" xlink:show=\"new\" xlink:title=\"psysml:ec6ecfb2-58e1-4e93-a57f-7fba141d91de\" xlink:type=\"simple\"><rect fill=\"#FFFFFF\" height=\"45.9375\" id=\"E2\" style=\"stroke: #383838; stroke-width: 1.5;\" width=\"95\" x=\"151.5\" y=\"87\"/><text fill=\"#000000\" font-family=\"sans-serif\" font-size=\"12\" font-style=\"italic\" lengthAdjust=\"spacingAndGlyphs\" textLength=\"93\" x=\"152.5\" y=\"103.1387\">«attribute def»</text><text fill=\"#000000\" font-family=\"sans-serif\" font-size=\"12\" lengthAdjust=\"spacingAndGlyphs\" textLength=\"8\" x=\"195\" y=\"117.1074\">S</text><line style=\"stroke: #383838; stroke-width: 1.5;\" x1=\"152.5\" x2=\"245.5\" y1=\"124.9375\" y2=\"124.9375\"/></a><polygon fill=\"#F8F8F8\" points=\"420,194,432,206,420,218,408,206,420,194\" style=\"stroke: #383838; stroke-width: 1.5;\"/><!--MD5=[21dd76c19d33815960c0e92fef8f0eef]\n",
       "entity E5--><a href=\"psysml:12477b88-d1e3-4069-a82c-9614e3ee7843\" target=\"_top\" title=\"psysml:12477b88-d1e3-4069-a82c-9614e3ee7843\" xlink:actuate=\"onRequest\" xlink:href=\"psysml:12477b88-d1e3-4069-a82c-9614e3ee7843\" xlink:show=\"new\" xlink:title=\"psysml:12477b88-d1e3-4069-a82c-9614e3ee7843\" xlink:type=\"simple\"><polygon fill=\"#F8F8F8\" points=\"279,279,279,333.5938,419,333.5938,399,306.2969,419,279\" style=\"stroke: #000000; stroke-width: 1.5;\"/><text fill=\"#000000\" font-family=\"sans-serif\" font-size=\"14\" font-style=\"italic\" lengthAdjust=\"spacingAndGlyphs\" textLength=\"111\" x=\"286\" y=\"301.9951\">«accept action»</text><text fill=\"#000000\" font-family=\"sans-serif\" font-size=\"14\" lengthAdjust=\"spacingAndGlyphs\" textLength=\"9\" x=\"337\" y=\"319.292\">S</text></a><!--MD5=[24d87cdf3002d433f401b2a2aa9f9f65]\n",
       "entity E6--><a href=\"psysml:18c53c10-a81a-4a73-8210-8be9c84ee198\" target=\"_top\" title=\"psysml:18c53c10-a81a-4a73-8210-8be9c84ee198\" xlink:actuate=\"onRequest\" xlink:href=\"psysml:18c53c10-a81a-4a73-8210-8be9c84ee198\" xlink:show=\"new\" xlink:title=\"psysml:18c53c10-a81a-4a73-8210-8be9c84ee198\" xlink:type=\"simple\"><polygon fill=\"#F8F8F8\" points=\"279,411,279,465.5938,387,465.5938,407,438.2969,387,411\" style=\"stroke: #000000; stroke-width: 1.5;\"/><text fill=\"#000000\" font-family=\"sans-serif\" font-size=\"14\" font-style=\"italic\" lengthAdjust=\"spacingAndGlyphs\" textLength=\"99\" x=\"286\" y=\"433.9951\">«send action»</text><text fill=\"#000000\" font-family=\"sans-serif\" font-size=\"14\" lengthAdjust=\"spacingAndGlyphs\" textLength=\"55\" x=\"308\" y=\"451.292\">S to  B()</text></a><polygon fill=\"#F8F8F8\" points=\"418,527,430,539,418,551,406,539,418,527\" style=\"stroke: #383838; stroke-width: 1.5;\"/><ellipse cx=\"420\" cy=\"110\" fill=\"#000000\" rx=\"10\" ry=\"10\" style=\"stroke: none; stroke-width: 1.0;\"/><ellipse cx=\"418\" cy=\"622\" fill=\"none\" rx=\"10\" ry=\"10\" style=\"stroke: #000000; stroke-width: 1.0;\"/><ellipse cx=\"418.5\" cy=\"622.5\" fill=\"#000000\" rx=\"6\" ry=\"6\" style=\"stroke: none; stroke-width: 1.0;\"/><g id=\"E1.E8\"><a href=\"psysml:a720c396-7a8e-4250-b133-b38e5d5b0a71\" target=\"_top\" title=\"psysml:a720c396-7a8e-4250-b133-b38e5d5b0a71\" xlink:actuate=\"onRequest\" xlink:href=\"psysml:a720c396-7a8e-4250-b133-b38e5d5b0a71\" xlink:show=\"new\" xlink:title=\"psysml:a720c396-7a8e-4250-b133-b38e5d5b0a71\" xlink:type=\"simple\"><rect fill=\"#FFFFFF\" height=\"42.9375\" id=\"E8\" style=\"stroke: #383838; stroke-width: 1.5;\" width=\"84\" x=\"32\" y=\"88.5\"/><rect fill=\"#F8F8F8\" height=\"37.9375\" style=\"stroke: #383838; stroke-width: 1.5;\" width=\"84\" x=\"32\" y=\"88.5\"/><text fill=\"#000000\" font-family=\"sans-serif\" font-size=\"12\" font-style=\"italic\" lengthAdjust=\"spacingAndGlyphs\" textLength=\"77\" x=\"35.5\" y=\"104.6387\">«action def»</text><text fill=\"#000000\" font-family=\"sans-serif\" font-size=\"12\" lengthAdjust=\"spacingAndGlyphs\" textLength=\"8\" x=\"70\" y=\"118.6074\">B</text></a></g><!--MD5=[f47e10efcf9a6752d55dae986d790ed9]\n",
       "link *start*E3 to E4--><a href=\"psysml:3eb4ae89-c3fe-4a5c-9996-6c16dc90e291\" target=\"_top\" title=\"psysml:3eb4ae89-c3fe-4a5c-9996-6c16dc90e291\" xlink:actuate=\"onRequest\" xlink:href=\"psysml:3eb4ae89-c3fe-4a5c-9996-6c16dc90e291\" xlink:show=\"new\" xlink:title=\"psysml:3eb4ae89-c3fe-4a5c-9996-6c16dc90e291\" xlink:type=\"simple\"><path d=\"M420,120.01 C420,135.81 420,168.69 420,188.61 \" fill=\"none\" id=\"*start*E3-&gt;E4\" style=\"stroke: #383838; stroke-width: 1.0;\"/><polygon fill=\"#383838\" points=\"420,193.85,424,184.85,420,188.85,416,184.85,420,193.85\" style=\"stroke: #383838; stroke-width: 1.0;\"/></a><!--MD5=[d19f2eb34364d71b67042106d92f540b]\n",
       "link E7 to *end*E3--><a href=\"psysml:529019b4-f7b3-445e-a809-123fd999bfb3\" target=\"_top\" title=\"psysml:529019b4-f7b3-445e-a809-123fd999bfb3\" xlink:actuate=\"onRequest\" xlink:href=\"psysml:529019b4-f7b3-445e-a809-123fd999bfb3\" xlink:show=\"new\" xlink:title=\"psysml:529019b4-f7b3-445e-a809-123fd999bfb3\" xlink:type=\"simple\"><path d=\"M418,551.26 C418,565.66 418,590.63 418,606.46 \" fill=\"none\" id=\"E7-&gt;*end*E3\" style=\"stroke: #383838; stroke-width: 1.0;\"/><polygon fill=\"#383838\" points=\"418,611.84,422,602.84,418,606.84,414,602.84,418,611.84\" style=\"stroke: #383838; stroke-width: 1.0;\"/></a><!--MD5=[1b7591eae5389033d8d09a9d6721a717]\n",
       "link E4 to E5--><a href=\"psysml:252a1c6c-cc00-403d-ac29-1241d1eee0ca\" target=\"_top\" title=\"psysml:252a1c6c-cc00-403d-ac29-1241d1eee0ca\" xlink:actuate=\"onRequest\" xlink:href=\"psysml:252a1c6c-cc00-403d-ac29-1241d1eee0ca\" xlink:show=\"new\" xlink:title=\"psysml:252a1c6c-cc00-403d-ac29-1241d1eee0ca\" xlink:type=\"simple\"><path d=\"M415.34,213.46 C406.55,225.66 386.99,252.8 371.37,274.46 \" fill=\"none\" id=\"E4-&gt;E5\" style=\"stroke: #383838; stroke-width: 1.0;\"/><polygon fill=\"#383838\" points=\"368.31,278.71,376.8093,273.7339,371.227,274.6491,370.3119,269.0667,368.31,278.71\" style=\"stroke: #383838; stroke-width: 1.0;\"/></a><!--MD5=[9120cf2e5df3bff93db8f754bbbc09b4]\n",
       "link E5 to E6--><a href=\"psysml:52dd995d-9028-4157-9334-98b87c98e4ca\" target=\"_top\" title=\"psysml:52dd995d-9028-4157-9334-98b87c98e4ca\" xlink:actuate=\"onRequest\" xlink:href=\"psysml:52dd995d-9028-4157-9334-98b87c98e4ca\" xlink:show=\"new\" xlink:title=\"psysml:52dd995d-9028-4157-9334-98b87c98e4ca\" xlink:type=\"simple\"><path d=\"M347.77,334.12 C346.81,354.89 345.48,383.8 344.46,405.77 \" fill=\"none\" id=\"E5-&gt;E6\" style=\"stroke: #383838; stroke-width: 1.0;\"/><polygon fill=\"#383838\" points=\"344.23,410.91,348.6368,402.1021,344.4583,405.9152,340.6452,401.7367,344.23,410.91\" style=\"stroke: #383838; stroke-width: 1.0;\"/></a><!--MD5=[02c70b7c851c11e3980e4e90450dc5dd]\n",
       "link E6 to E7--><a href=\"psysml:11c1c086-8dd9-4b00-9ab5-dcf0da9e4b0f\" target=\"_top\" title=\"psysml:11c1c086-8dd9-4b00-9ab5-dcf0da9e4b0f\" xlink:actuate=\"onRequest\" xlink:href=\"psysml:11c1c086-8dd9-4b00-9ab5-dcf0da9e4b0f\" xlink:show=\"new\" xlink:title=\"psysml:11c1c086-8dd9-4b00-9ab5-dcf0da9e4b0f\" xlink:type=\"simple\"><path d=\"M363.3,466.16 C378.71,486.4 399.07,513.14 410.09,527.61 \" fill=\"none\" id=\"E6-&gt;E7\" style=\"stroke: #383838; stroke-width: 1.0;\"/><polygon fill=\"#383838\" points=\"413.2,531.69,410.9398,522.104,410.1749,527.7089,404.57,526.9441,413.2,531.69\" style=\"stroke: #383838; stroke-width: 1.0;\"/></a><!--MD5=[6bdd27f9905911a7e892a3dc65cf6b7c]\n",
       "link E7 to E4--><a href=\"psysml:9dbcc968-b81d-4000-b2fb-dcd38ad7dec8\" target=\"_top\" title=\"psysml:9dbcc968-b81d-4000-b2fb-dcd38ad7dec8\" xlink:actuate=\"onRequest\" xlink:href=\"psysml:9dbcc968-b81d-4000-b2fb-dcd38ad7dec8\" xlink:show=\"new\" xlink:title=\"psysml:9dbcc968-b81d-4000-b2fb-dcd38ad7dec8\" xlink:type=\"simple\"><path d=\"M419.98,528.56 C426.8,494.71 448.32,376.18 437,279 C434.59,258.32 428.42,234.96 424.21,220.61 \" fill=\"none\" id=\"E7-&gt;E4\" style=\"stroke: #383838; stroke-width: 1.0;\"/><polygon fill=\"#383838\" points=\"422.76,215.75,421.4935,225.5171,424.1863,220.5423,429.1611,223.2351,422.76,215.75\" style=\"stroke: #383838; stroke-width: 1.0;\"/><text fill=\"#000000\" font-family=\"sans-serif\" font-size=\"13\" lengthAdjust=\"spacingAndGlyphs\" textLength=\"36\" x=\"440\" y=\"377.0669\">[true]</text></a><!--MD5=[be504b487c499b9aa4f515df0f24f35a]\n",
       "@startuml\r\n",
       "skinparam monochrome true\r\n",
       "skinparam classbackgroundcolor white\r\n",
       "skinparam shadowing false\r\n",
       "skinparam wrapWidth 300\r\n",
       "hide circle\r\n",
       "\r\n",
       "package \"ActionTest\" as E1  [[psysml:1b586630-6073-41f8-a31c-3b1021fd2d94 ]]  {\r\n",
       "comp def \"S\" as E2  <<(T,blue)attribute def>> [[psysml:ec6ecfb2-58e1-4e93-a57f-7fba141d91de ]] {\r\n",
       "}\r\n",
       "rec usage \"a\" as E3  <<(T,blue)action>> [[psysml:63b3e978-ff90-4127-8639-9e6714fb0371 ]] {\r\n",
       "choice \"m\" as E4  [[psysml:3c09e5e0-87ee-487d-a94c-d1481b887cf0 ]] \r\n",
       "accept \" S\" as E5 <<accept action>> [[psysml:12477b88-d1e3-4069-a82c-9614e3ee7843 ]] \r\n",
       "send \" S to  B()\" as E6 <<send action>> [[psysml:18c53c10-a81a-4a73-8210-8be9c84ee198 ]] \r\n",
       "choice \"noname\" as E7  [[psysml:e28bc343-f228-4c60-afee-7deafa85ddc3 ]] \r\n",
       "[*] - -> E4 [[psysml:3eb4ae89-c3fe-4a5c-9996-6c16dc90e291 ]] \r\n",
       "E7  - -> [*] [[psysml:529019b4-f7b3-445e-a809-123fd999bfb3 ]] \r\n",
       "}\r\n",
       "\r\n",
       "rec def \"B\" as E8  <<(T,blue)action def>> [[psysml:a720c396-7a8e-4250-b133-b38e5d5b0a71 ]] {\r\n",
       "}\r\n",
       "\r\n",
       "E4 - -> E5 [[psysml:252a1c6c-cc00-403d-ac29-1241d1eee0ca ]] \r\n",
       "E5 - -> E6 [[psysml:52dd995d-9028-4157-9334-98b87c98e4ca ]] \r\n",
       "E6 - -> E7 [[psysml:11c1c086-8dd9-4b00-9ab5-dcf0da9e4b0f ]] \r\n",
       "E7  - -> E4 [[psysml:9dbcc968-b81d-4000-b2fb-dcd38ad7dec8 ]] : [true]\r\n",
       "}\r\n",
       "@enduml\r\n",
       "\n",
       "PlantUML version 1.2020.13(Sat Jun 13 12:26:38 UTC 2020)\n",
       "(EPL source distribution)\n",
       "Java Runtime: OpenJDK Runtime Environment\n",
       "JVM: OpenJDK 64-Bit Server VM\n",
       "Default Encoding: UTF-8\n",
       "Language: en\n",
       "Country: null\n",
       "--></g></svg>"
      ]
     },
     "execution_count": 43,
     "metadata": {},
     "output_type": "execute_result"
    }
   ],
   "source": [
    "%viz --style=\"DEFAULT\" --view=\"MIXED\" \"ActionTest\""
   ]
  },
  {
   "cell_type": "code",
   "execution_count": 44,
   "id": "indie-absolute",
   "metadata": {
    "execution": {
     "iopub.execute_input": "2021-03-25T14:11:50.426483Z",
     "iopub.status.busy": "2021-03-25T14:11:50.425909Z",
     "iopub.status.idle": "2021-03-25T14:11:50.578500Z",
     "shell.execute_reply": "2021-03-25T14:11:50.578161Z"
    }
   },
   "outputs": [
    {
     "data": {
      "image/svg+xml": [
       "<?xml version=\"1.0\" encoding=\"UTF-8\" standalone=\"no\"?><svg xmlns=\"http://www.w3.org/2000/svg\" xmlns:xlink=\"http://www.w3.org/1999/xlink\" contentScriptType=\"application/ecmascript\" contentStyleType=\"text/css\" height=\"684px\" preserveAspectRatio=\"none\" style=\"width:518px;height:684px;\" version=\"1.1\" viewBox=\"0 0 518 684\" width=\"518px\" zoomAndPan=\"magnify\"><defs/><g><!--MD5=[fbc87193dbaf4d95561dea2c320d4a47]\n",
       "cluster E1--><a href=\"psysml:1b586630-6073-41f8-a31c-3b1021fd2d94\" target=\"_top\" title=\"psysml:1b586630-6073-41f8-a31c-3b1021fd2d94\" xlink:actuate=\"onRequest\" xlink:href=\"psysml:1b586630-6073-41f8-a31c-3b1021fd2d94\" xlink:show=\"new\" xlink:title=\"psysml:1b586630-6073-41f8-a31c-3b1021fd2d94\" xlink:type=\"simple\"><polygon fill=\"#FFFFFF\" points=\"16,6,107,6,114,28.2969,496,28.2969,496,672,16,672,16,6\" style=\"stroke: #000000; stroke-width: 1.5;\"/><line style=\"stroke: #000000; stroke-width: 1.5;\" x1=\"16\" x2=\"114\" y1=\"28.2969\" y2=\"28.2969\"/><text fill=\"#000000\" font-family=\"sans-serif\" font-size=\"14\" font-weight=\"bold\" lengthAdjust=\"spacingAndGlyphs\" textLength=\"85\" x=\"20\" y=\"20.9951\">ActionTest</text></a><!--MD5=[d5e69f78d87373223dbae638b30a9c99]\n",
       "cluster E3--><a href=\"psysml:63b3e978-ff90-4127-8639-9e6714fb0371\" target=\"_top\" title=\"psysml:63b3e978-ff90-4127-8639-9e6714fb0371\" xlink:actuate=\"onRequest\" xlink:href=\"psysml:63b3e978-ff90-4127-8639-9e6714fb0371\" xlink:show=\"new\" xlink:title=\"psysml:63b3e978-ff90-4127-8639-9e6714fb0371\" xlink:type=\"simple\"><rect fill=\"#FFFFFF\" height=\"599\" id=\"E3\" rx=\"10\" ry=\"10\" style=\"stroke: #383838; stroke-width: 1.5;\" width=\"209\" x=\"263\" y=\"49\"/><rect fill=\"#F8F8F8\" height=\"37.9375\" rx=\"10\" ry=\"10\" style=\"stroke: #F8F8F8; stroke-width: 1.5;\" width=\"209\" x=\"263\" y=\"49\"/><rect fill=\"#F8F8F8\" height=\"10\" style=\"stroke: #F8F8F8; stroke-width: 1.5;\" width=\"209\" x=\"263\" y=\"76.9375\"/><rect fill=\"none\" height=\"599\" id=\"E3\" rx=\"10\" ry=\"10\" style=\"stroke: #383838; stroke-width: 1.5;\" width=\"209\" x=\"263\" y=\"49\"/><text fill=\"#000000\" font-family=\"sans-serif\" font-size=\"12\" font-style=\"italic\" lengthAdjust=\"spacingAndGlyphs\" textLength=\"53\" x=\"341\" y=\"65.1387\">«action»</text><text fill=\"#000000\" font-family=\"sans-serif\" font-size=\"12\" lengthAdjust=\"spacingAndGlyphs\" textLength=\"8\" x=\"363.5\" y=\"79.1074\">a</text><line style=\"stroke: #383838; stroke-width: 1.0;\" x1=\"263\" x2=\"472\" y1=\"86.9375\" y2=\"86.9375\"/></a><!--MD5=[b4997ac47864f28c2f74865a473b2911]\n",
       "class E2--><a href=\"psysml:ec6ecfb2-58e1-4e93-a57f-7fba141d91de\" target=\"_top\" title=\"psysml:ec6ecfb2-58e1-4e93-a57f-7fba141d91de\" xlink:actuate=\"onRequest\" xlink:href=\"psysml:ec6ecfb2-58e1-4e93-a57f-7fba141d91de\" xlink:show=\"new\" xlink:title=\"psysml:ec6ecfb2-58e1-4e93-a57f-7fba141d91de\" xlink:type=\"simple\"><rect fill=\"#FFFFFF\" height=\"45.9375\" id=\"E2\" style=\"stroke: #383838; stroke-width: 1.5;\" width=\"95\" x=\"151.5\" y=\"87\"/><text fill=\"#000000\" font-family=\"sans-serif\" font-size=\"12\" font-style=\"italic\" lengthAdjust=\"spacingAndGlyphs\" textLength=\"93\" x=\"152.5\" y=\"103.1387\">«attribute def»</text><text fill=\"#000000\" font-family=\"sans-serif\" font-size=\"12\" lengthAdjust=\"spacingAndGlyphs\" textLength=\"8\" x=\"195\" y=\"117.1074\">S</text><line style=\"stroke: #383838; stroke-width: 1.5;\" x1=\"152.5\" x2=\"245.5\" y1=\"124.9375\" y2=\"124.9375\"/></a><polygon fill=\"#F8F8F8\" points=\"420,194,432,206,420,218,408,206,420,194\" style=\"stroke: #383838; stroke-width: 1.5;\"/><!--MD5=[21dd76c19d33815960c0e92fef8f0eef]\n",
       "entity E5--><a href=\"psysml:12477b88-d1e3-4069-a82c-9614e3ee7843\" target=\"_top\" title=\"psysml:12477b88-d1e3-4069-a82c-9614e3ee7843\" xlink:actuate=\"onRequest\" xlink:href=\"psysml:12477b88-d1e3-4069-a82c-9614e3ee7843\" xlink:show=\"new\" xlink:title=\"psysml:12477b88-d1e3-4069-a82c-9614e3ee7843\" xlink:type=\"simple\"><polygon fill=\"#F8F8F8\" points=\"279,279,279,333.5938,419,333.5938,399,306.2969,419,279\" style=\"stroke: #000000; stroke-width: 1.5;\"/><text fill=\"#000000\" font-family=\"sans-serif\" font-size=\"14\" font-style=\"italic\" lengthAdjust=\"spacingAndGlyphs\" textLength=\"111\" x=\"286\" y=\"301.9951\">«accept action»</text><text fill=\"#000000\" font-family=\"sans-serif\" font-size=\"14\" lengthAdjust=\"spacingAndGlyphs\" textLength=\"9\" x=\"337\" y=\"319.292\">S</text></a><!--MD5=[24d87cdf3002d433f401b2a2aa9f9f65]\n",
       "entity E6--><a href=\"psysml:18c53c10-a81a-4a73-8210-8be9c84ee198\" target=\"_top\" title=\"psysml:18c53c10-a81a-4a73-8210-8be9c84ee198\" xlink:actuate=\"onRequest\" xlink:href=\"psysml:18c53c10-a81a-4a73-8210-8be9c84ee198\" xlink:show=\"new\" xlink:title=\"psysml:18c53c10-a81a-4a73-8210-8be9c84ee198\" xlink:type=\"simple\"><polygon fill=\"#F8F8F8\" points=\"279,411,279,465.5938,387,465.5938,407,438.2969,387,411\" style=\"stroke: #000000; stroke-width: 1.5;\"/><text fill=\"#000000\" font-family=\"sans-serif\" font-size=\"14\" font-style=\"italic\" lengthAdjust=\"spacingAndGlyphs\" textLength=\"99\" x=\"286\" y=\"433.9951\">«send action»</text><text fill=\"#000000\" font-family=\"sans-serif\" font-size=\"14\" lengthAdjust=\"spacingAndGlyphs\" textLength=\"55\" x=\"308\" y=\"451.292\">S to  B()</text></a><polygon fill=\"#F8F8F8\" points=\"418,527,430,539,418,551,406,539,418,527\" style=\"stroke: #383838; stroke-width: 1.5;\"/><ellipse cx=\"420\" cy=\"110\" fill=\"#000000\" rx=\"10\" ry=\"10\" style=\"stroke: none; stroke-width: 1.0;\"/><ellipse cx=\"418\" cy=\"622\" fill=\"none\" rx=\"10\" ry=\"10\" style=\"stroke: #000000; stroke-width: 1.0;\"/><ellipse cx=\"418.5\" cy=\"622.5\" fill=\"#000000\" rx=\"6\" ry=\"6\" style=\"stroke: none; stroke-width: 1.0;\"/><g id=\"E1.E8\"><a href=\"psysml:a720c396-7a8e-4250-b133-b38e5d5b0a71\" target=\"_top\" title=\"psysml:a720c396-7a8e-4250-b133-b38e5d5b0a71\" xlink:actuate=\"onRequest\" xlink:href=\"psysml:a720c396-7a8e-4250-b133-b38e5d5b0a71\" xlink:show=\"new\" xlink:title=\"psysml:a720c396-7a8e-4250-b133-b38e5d5b0a71\" xlink:type=\"simple\"><rect fill=\"#FFFFFF\" height=\"42.9375\" id=\"E8\" style=\"stroke: #383838; stroke-width: 1.5;\" width=\"84\" x=\"32\" y=\"88.5\"/><rect fill=\"#F8F8F8\" height=\"37.9375\" style=\"stroke: #383838; stroke-width: 1.5;\" width=\"84\" x=\"32\" y=\"88.5\"/><text fill=\"#000000\" font-family=\"sans-serif\" font-size=\"12\" font-style=\"italic\" lengthAdjust=\"spacingAndGlyphs\" textLength=\"77\" x=\"35.5\" y=\"104.6387\">«action def»</text><text fill=\"#000000\" font-family=\"sans-serif\" font-size=\"12\" lengthAdjust=\"spacingAndGlyphs\" textLength=\"8\" x=\"70\" y=\"118.6074\">B</text></a></g><!--MD5=[f47e10efcf9a6752d55dae986d790ed9]\n",
       "link *start*E3 to E4--><a href=\"psysml:3eb4ae89-c3fe-4a5c-9996-6c16dc90e291\" target=\"_top\" title=\"psysml:3eb4ae89-c3fe-4a5c-9996-6c16dc90e291\" xlink:actuate=\"onRequest\" xlink:href=\"psysml:3eb4ae89-c3fe-4a5c-9996-6c16dc90e291\" xlink:show=\"new\" xlink:title=\"psysml:3eb4ae89-c3fe-4a5c-9996-6c16dc90e291\" xlink:type=\"simple\"><path d=\"M420,120.01 C420,135.81 420,168.69 420,188.61 \" fill=\"none\" id=\"*start*E3-&gt;E4\" style=\"stroke: #383838; stroke-width: 1.0;\"/><polygon fill=\"#383838\" points=\"420,193.85,424,184.85,420,188.85,416,184.85,420,193.85\" style=\"stroke: #383838; stroke-width: 1.0;\"/></a><!--MD5=[d19f2eb34364d71b67042106d92f540b]\n",
       "link E7 to *end*E3--><a href=\"psysml:529019b4-f7b3-445e-a809-123fd999bfb3\" target=\"_top\" title=\"psysml:529019b4-f7b3-445e-a809-123fd999bfb3\" xlink:actuate=\"onRequest\" xlink:href=\"psysml:529019b4-f7b3-445e-a809-123fd999bfb3\" xlink:show=\"new\" xlink:title=\"psysml:529019b4-f7b3-445e-a809-123fd999bfb3\" xlink:type=\"simple\"><path d=\"M418,551.26 C418,565.66 418,590.63 418,606.46 \" fill=\"none\" id=\"E7-&gt;*end*E3\" style=\"stroke: #383838; stroke-width: 1.0;\"/><polygon fill=\"#383838\" points=\"418,611.84,422,602.84,418,606.84,414,602.84,418,611.84\" style=\"stroke: #383838; stroke-width: 1.0;\"/></a><!--MD5=[1b7591eae5389033d8d09a9d6721a717]\n",
       "link E4 to E5--><a href=\"psysml:252a1c6c-cc00-403d-ac29-1241d1eee0ca\" target=\"_top\" title=\"psysml:252a1c6c-cc00-403d-ac29-1241d1eee0ca\" xlink:actuate=\"onRequest\" xlink:href=\"psysml:252a1c6c-cc00-403d-ac29-1241d1eee0ca\" xlink:show=\"new\" xlink:title=\"psysml:252a1c6c-cc00-403d-ac29-1241d1eee0ca\" xlink:type=\"simple\"><path d=\"M415.34,213.46 C406.55,225.66 386.99,252.8 371.37,274.46 \" fill=\"none\" id=\"E4-&gt;E5\" style=\"stroke: #383838; stroke-width: 1.0;\"/><polygon fill=\"#383838\" points=\"368.31,278.71,376.8093,273.7339,371.227,274.6491,370.3119,269.0667,368.31,278.71\" style=\"stroke: #383838; stroke-width: 1.0;\"/></a><!--MD5=[9120cf2e5df3bff93db8f754bbbc09b4]\n",
       "link E5 to E6--><a href=\"psysml:52dd995d-9028-4157-9334-98b87c98e4ca\" target=\"_top\" title=\"psysml:52dd995d-9028-4157-9334-98b87c98e4ca\" xlink:actuate=\"onRequest\" xlink:href=\"psysml:52dd995d-9028-4157-9334-98b87c98e4ca\" xlink:show=\"new\" xlink:title=\"psysml:52dd995d-9028-4157-9334-98b87c98e4ca\" xlink:type=\"simple\"><path d=\"M347.77,334.12 C346.81,354.89 345.48,383.8 344.46,405.77 \" fill=\"none\" id=\"E5-&gt;E6\" style=\"stroke: #383838; stroke-width: 1.0;\"/><polygon fill=\"#383838\" points=\"344.23,410.91,348.6368,402.1021,344.4583,405.9152,340.6452,401.7367,344.23,410.91\" style=\"stroke: #383838; stroke-width: 1.0;\"/></a><!--MD5=[02c70b7c851c11e3980e4e90450dc5dd]\n",
       "link E6 to E7--><a href=\"psysml:11c1c086-8dd9-4b00-9ab5-dcf0da9e4b0f\" target=\"_top\" title=\"psysml:11c1c086-8dd9-4b00-9ab5-dcf0da9e4b0f\" xlink:actuate=\"onRequest\" xlink:href=\"psysml:11c1c086-8dd9-4b00-9ab5-dcf0da9e4b0f\" xlink:show=\"new\" xlink:title=\"psysml:11c1c086-8dd9-4b00-9ab5-dcf0da9e4b0f\" xlink:type=\"simple\"><path d=\"M363.3,466.16 C378.71,486.4 399.07,513.14 410.09,527.61 \" fill=\"none\" id=\"E6-&gt;E7\" style=\"stroke: #383838; stroke-width: 1.0;\"/><polygon fill=\"#383838\" points=\"413.2,531.69,410.9398,522.104,410.1749,527.7089,404.57,526.9441,413.2,531.69\" style=\"stroke: #383838; stroke-width: 1.0;\"/></a><!--MD5=[6bdd27f9905911a7e892a3dc65cf6b7c]\n",
       "link E7 to E4--><a href=\"psysml:9dbcc968-b81d-4000-b2fb-dcd38ad7dec8\" target=\"_top\" title=\"psysml:9dbcc968-b81d-4000-b2fb-dcd38ad7dec8\" xlink:actuate=\"onRequest\" xlink:href=\"psysml:9dbcc968-b81d-4000-b2fb-dcd38ad7dec8\" xlink:show=\"new\" xlink:title=\"psysml:9dbcc968-b81d-4000-b2fb-dcd38ad7dec8\" xlink:type=\"simple\"><path d=\"M419.98,528.56 C426.8,494.71 448.32,376.18 437,279 C434.59,258.32 428.42,234.96 424.21,220.61 \" fill=\"none\" id=\"E7-&gt;E4\" style=\"stroke: #383838; stroke-width: 1.0;\"/><polygon fill=\"#383838\" points=\"422.76,215.75,421.4935,225.5171,424.1863,220.5423,429.1611,223.2351,422.76,215.75\" style=\"stroke: #383838; stroke-width: 1.0;\"/><text fill=\"#000000\" font-family=\"sans-serif\" font-size=\"13\" lengthAdjust=\"spacingAndGlyphs\" textLength=\"36\" x=\"440\" y=\"377.0669\">[true]</text></a><!--MD5=[355141e92f54aa6ea8b06065ec5fa295]\n",
       "@startuml\r\n",
       "top to bottom direction\r\n",
       "skinparam monochrome true\r\n",
       "skinparam classbackgroundcolor white\r\n",
       "skinparam shadowing false\r\n",
       "skinparam wrapWidth 300\r\n",
       "hide circle\r\n",
       "\r\n",
       "package \"ActionTest\" as E1  [[psysml:1b586630-6073-41f8-a31c-3b1021fd2d94 ]]  {\r\n",
       "comp def \"S\" as E2  <<(T,blue)attribute def>> [[psysml:ec6ecfb2-58e1-4e93-a57f-7fba141d91de ]] {\r\n",
       "}\r\n",
       "rec usage \"a\" as E3  <<(T,blue)action>> [[psysml:63b3e978-ff90-4127-8639-9e6714fb0371 ]] {\r\n",
       "choice \"m\" as E4  [[psysml:3c09e5e0-87ee-487d-a94c-d1481b887cf0 ]] \r\n",
       "accept \" S\" as E5 <<accept action>> [[psysml:12477b88-d1e3-4069-a82c-9614e3ee7843 ]] \r\n",
       "send \" S to  B()\" as E6 <<send action>> [[psysml:18c53c10-a81a-4a73-8210-8be9c84ee198 ]] \r\n",
       "choice \"noname\" as E7  [[psysml:e28bc343-f228-4c60-afee-7deafa85ddc3 ]] \r\n",
       "[*] - -> E4 [[psysml:3eb4ae89-c3fe-4a5c-9996-6c16dc90e291 ]] \r\n",
       "E7  - -> [*] [[psysml:529019b4-f7b3-445e-a809-123fd999bfb3 ]] \r\n",
       "}\r\n",
       "\r\n",
       "rec def \"B\" as E8  <<(T,blue)action def>> [[psysml:a720c396-7a8e-4250-b133-b38e5d5b0a71 ]] {\r\n",
       "}\r\n",
       "\r\n",
       "E4 - -> E5 [[psysml:252a1c6c-cc00-403d-ac29-1241d1eee0ca ]] \r\n",
       "E5 - -> E6 [[psysml:52dd995d-9028-4157-9334-98b87c98e4ca ]] \r\n",
       "E6 - -> E7 [[psysml:11c1c086-8dd9-4b00-9ab5-dcf0da9e4b0f ]] \r\n",
       "E7  - -> E4 [[psysml:9dbcc968-b81d-4000-b2fb-dcd38ad7dec8 ]] : [true]\r\n",
       "}\r\n",
       "@enduml\r\n",
       "\n",
       "PlantUML version 1.2020.13(Sat Jun 13 12:26:38 UTC 2020)\n",
       "(EPL source distribution)\n",
       "Java Runtime: OpenJDK Runtime Environment\n",
       "JVM: OpenJDK 64-Bit Server VM\n",
       "Default Encoding: UTF-8\n",
       "Language: en\n",
       "Country: null\n",
       "--></g></svg>"
      ]
     },
     "execution_count": 44,
     "metadata": {},
     "output_type": "execute_result"
    }
   ],
   "source": [
    "%viz --style=\"TB\" --view=\"Default\" \"ActionTest\""
   ]
  },
  {
   "cell_type": "code",
   "execution_count": 45,
   "id": "matched-trance",
   "metadata": {
    "execution": {
     "iopub.execute_input": "2021-03-25T14:11:50.627903Z",
     "iopub.status.busy": "2021-03-25T14:11:50.627474Z",
     "iopub.status.idle": "2021-03-25T14:11:51.312266Z",
     "shell.execute_reply": "2021-03-25T14:11:51.310674Z"
    }
   },
   "outputs": [
    {
     "data": {
      "image/svg+xml": [
       "<?xml version=\"1.0\" encoding=\"UTF-8\" standalone=\"no\"?><svg xmlns=\"http://www.w3.org/2000/svg\" xmlns:xlink=\"http://www.w3.org/1999/xlink\" contentScriptType=\"application/ecmascript\" contentStyleType=\"text/css\" height=\"187px\" preserveAspectRatio=\"none\" style=\"width:475px;height:187px;\" version=\"1.1\" viewBox=\"0 0 475 187\" width=\"475px\" zoomAndPan=\"magnify\"><defs/><g><!--MD5=[fbc87193dbaf4d95561dea2c320d4a47]\n",
       "cluster E1--><a href=\"psysml:1b586630-6073-41f8-a31c-3b1021fd2d94\" target=\"_top\" title=\"psysml:1b586630-6073-41f8-a31c-3b1021fd2d94\" xlink:actuate=\"onRequest\" xlink:href=\"psysml:1b586630-6073-41f8-a31c-3b1021fd2d94\" xlink:show=\"new\" xlink:title=\"psysml:1b586630-6073-41f8-a31c-3b1021fd2d94\" xlink:type=\"simple\"><polygon fill=\"#FFFFFF\" points=\"16,6,107,6,114,28.2969,453,28.2969,453,175,16,175,16,6\" style=\"stroke: #000000; stroke-width: 1.5;\"/><line style=\"stroke: #000000; stroke-width: 1.5;\" x1=\"16\" x2=\"114\" y1=\"28.2969\" y2=\"28.2969\"/><text fill=\"#000000\" font-family=\"sans-serif\" font-size=\"14\" font-weight=\"bold\" lengthAdjust=\"spacingAndGlyphs\" textLength=\"85\" x=\"20\" y=\"20.9951\">ActionTest</text></a><!--MD5=[b4997ac47864f28c2f74865a473b2911]\n",
       "class E2--><a href=\"psysml:ec6ecfb2-58e1-4e93-a57f-7fba141d91de\" target=\"_top\" title=\"psysml:ec6ecfb2-58e1-4e93-a57f-7fba141d91de\" xlink:actuate=\"onRequest\" xlink:href=\"psysml:ec6ecfb2-58e1-4e93-a57f-7fba141d91de\" xlink:show=\"new\" xlink:title=\"psysml:ec6ecfb2-58e1-4e93-a57f-7fba141d91de\" xlink:type=\"simple\"><rect fill=\"#FFFFFF\" height=\"45.9375\" id=\"E2\" style=\"stroke: #383838; stroke-width: 1.5;\" width=\"95\" x=\"341.5\" y=\"77\"/><text fill=\"#000000\" font-family=\"sans-serif\" font-size=\"12\" font-style=\"italic\" lengthAdjust=\"spacingAndGlyphs\" textLength=\"93\" x=\"342.5\" y=\"93.1387\">«attribute def»</text><text fill=\"#000000\" font-family=\"sans-serif\" font-size=\"12\" lengthAdjust=\"spacingAndGlyphs\" textLength=\"8\" x=\"385\" y=\"107.1074\">S</text><line style=\"stroke: #383838; stroke-width: 1.5;\" x1=\"342.5\" x2=\"435.5\" y1=\"114.9375\" y2=\"114.9375\"/></a><!--MD5=[09b614a08d8cba4a07c9adeb5e0fee81]\n",
       "class E3--><a href=\"psysml:63b3e978-ff90-4127-8639-9e6714fb0371\" target=\"_top\" title=\"psysml:63b3e978-ff90-4127-8639-9e6714fb0371\" xlink:actuate=\"onRequest\" xlink:href=\"psysml:63b3e978-ff90-4127-8639-9e6714fb0371\" xlink:show=\"new\" xlink:title=\"psysml:63b3e978-ff90-4127-8639-9e6714fb0371\" xlink:type=\"simple\"><rect fill=\"#FFFFFF\" height=\"117.9609\" id=\"E3\" rx=\"10\" ry=\"10\" style=\"stroke: #383838; stroke-width: 1.5;\" width=\"160\" x=\"146\" y=\"41\"/><text fill=\"#000000\" font-family=\"sans-serif\" font-size=\"12\" font-style=\"italic\" lengthAdjust=\"spacingAndGlyphs\" textLength=\"53\" x=\"199.5\" y=\"57.1387\">«action»</text><text fill=\"#000000\" font-family=\"sans-serif\" font-size=\"12\" lengthAdjust=\"spacingAndGlyphs\" textLength=\"8\" x=\"222\" y=\"71.1074\">a</text><line style=\"stroke: #383838; stroke-width: 1.5;\" x1=\"147\" x2=\"305\" y1=\"78.9375\" y2=\"78.9375\"/><text fill=\"#000000\" font-family=\"sans-serif\" font-size=\"11\" lengthAdjust=\"spacingAndGlyphs\" textLength=\"69\" x=\"152\" y=\"109.9526\">start: Action</text><text fill=\"#000000\" font-family=\"sans-serif\" font-size=\"11\" font-style=\"italic\" lengthAdjust=\"spacingAndGlyphs\" textLength=\"148\" x=\"152\" y=\"122.7573\">:&gt;&gt;Occurrence::startShot</text><line style=\"stroke: #383838; stroke-width: 1.0;\" x1=\"147\" x2=\"205.5\" y1=\"93.3398\" y2=\"93.3398\"/><text fill=\"#000000\" font-family=\"sans-serif\" font-size=\"11\" lengthAdjust=\"spacingAndGlyphs\" textLength=\"41\" x=\"205.5\" y=\"96.6479\">actions</text><line style=\"stroke: #383838; stroke-width: 1.0;\" x1=\"246.5\" x2=\"305\" y1=\"93.3398\" y2=\"93.3398\"/><text fill=\"#000000\" font-family=\"sans-serif\" font-size=\"11\" lengthAdjust=\"spacingAndGlyphs\" textLength=\"11\" x=\"152\" y=\"152.3667\">m</text><line style=\"stroke: #383838; stroke-width: 1.0;\" x1=\"147\" x2=\"189.5\" y1=\"135.7539\" y2=\"135.7539\"/><text fill=\"#000000\" font-family=\"sans-serif\" font-size=\"11\" lengthAdjust=\"spacingAndGlyphs\" textLength=\"73\" x=\"189.5\" y=\"139.062\">mergeNodes</text><line style=\"stroke: #383838; stroke-width: 1.0;\" x1=\"262.5\" x2=\"305\" y1=\"135.7539\" y2=\"135.7539\"/></a><!--MD5=[60a26617385b1d2d0262a64233df1f8d]\n",
       "class E6--><a href=\"psysml:a720c396-7a8e-4250-b133-b38e5d5b0a71\" target=\"_top\" title=\"psysml:a720c396-7a8e-4250-b133-b38e5d5b0a71\" xlink:actuate=\"onRequest\" xlink:href=\"psysml:a720c396-7a8e-4250-b133-b38e5d5b0a71\" xlink:show=\"new\" xlink:title=\"psysml:a720c396-7a8e-4250-b133-b38e5d5b0a71\" xlink:type=\"simple\"><rect fill=\"#FFFFFF\" height=\"45.9375\" id=\"E6\" style=\"stroke: #383838; stroke-width: 1.5;\" width=\"79\" x=\"31.5\" y=\"77\"/><text fill=\"#000000\" font-family=\"sans-serif\" font-size=\"12\" font-style=\"italic\" lengthAdjust=\"spacingAndGlyphs\" textLength=\"77\" x=\"32.5\" y=\"93.1387\">«action def»</text><text fill=\"#000000\" font-family=\"sans-serif\" font-size=\"12\" lengthAdjust=\"spacingAndGlyphs\" textLength=\"8\" x=\"67\" y=\"107.1074\">B</text><line style=\"stroke: #383838; stroke-width: 1.5;\" x1=\"32.5\" x2=\"109.5\" y1=\"114.9375\" y2=\"114.9375\"/></a><!--MD5=[89664b12969ff5f57d25a311ed20c6b1]\n",
       "@startuml\r\n",
       "top to bottom direction\r\n",
       "skinparam monochrome true\r\n",
       "skinparam classbackgroundcolor white\r\n",
       "skinparam shadowing false\r\n",
       "skinparam wrapWidth 300\r\n",
       "hide circle\r\n",
       "\r\n",
       "package \"ActionTest\" as E1  [[psysml:1b586630-6073-41f8-a31c-3b1021fd2d94 ]]  {\r\n",
       "comp def \"S\" as E2  <<(T,blue)attribute def>> [[psysml:ec6ecfb2-58e1-4e93-a57f-7fba141d91de ]] {\r\n",
       "}\r\n",
       "comp usage \"a\" as E3  <<(T,blue)action>> [[psysml:63b3e978-ff90-4127-8639-9e6714fb0371 ]] {\r\n",
       "- - actions - -\r\n",
       "start: Action\\n//:>>Occurrence::startShot// \r\n",
       "- - mergeNodes - -\r\n",
       "m\r\n",
       "}\r\n",
       "comp def \"B\" as E6  <<(T,blue)action def>> [[psysml:a720c396-7a8e-4250-b133-b38e5d5b0a71 ]] {\r\n",
       "}\r\n",
       "}\r\n",
       "@enduml\r\n",
       "\n",
       "PlantUML version 1.2020.13(Sat Jun 13 12:26:38 UTC 2020)\n",
       "(EPL source distribution)\n",
       "Java Runtime: OpenJDK Runtime Environment\n",
       "JVM: OpenJDK 64-Bit Server VM\n",
       "Default Encoding: UTF-8\n",
       "Language: en\n",
       "Country: null\n",
       "--></g></svg>"
      ]
     },
     "execution_count": 45,
     "metadata": {},
     "output_type": "execute_result"
    }
   ],
   "source": [
    "%viz --style=\"TB\" --view=\"Tree\" \"ActionTest\""
   ]
  },
  {
   "cell_type": "code",
   "execution_count": 46,
   "id": "turned-scout",
   "metadata": {
    "execution": {
     "iopub.execute_input": "2021-03-25T14:11:51.362678Z",
     "iopub.status.busy": "2021-03-25T14:11:51.362174Z",
     "iopub.status.idle": "2021-03-25T14:11:51.369517Z",
     "shell.execute_reply": "2021-03-25T14:11:51.369142Z"
    }
   },
   "outputs": [
    {
     "data": {
      "image/svg+xml": [
       "<?xml version=\"1.0\" encoding=\"UTF-8\" standalone=\"no\"?><svg xmlns=\"http://www.w3.org/2000/svg\" xmlns:xlink=\"http://www.w3.org/1999/xlink\" contentScriptType=\"application/ecmascript\" contentStyleType=\"text/css\" height=\"12px\" preserveAspectRatio=\"none\" style=\"width:12px;height:12px;\" version=\"1.1\" viewBox=\"0 0 12 12\" width=\"12px\" zoomAndPan=\"magnify\"><defs/><g><!--MD5=[f4ee21bc66e489b5061b7c3e9601fdef]\n",
       "@startuml\r\n",
       "top to bottom direction\r\n",
       "skinparam monochrome true\r\n",
       "skinparam classbackgroundcolor white\r\n",
       "skinparam shadowing false\r\n",
       "skinparam wrapWidth 300\r\n",
       "hide circle\r\n",
       "\r\n",
       "@enduml\r\n",
       "\n",
       "PlantUML version 1.2020.13(Sat Jun 13 12:26:38 UTC 2020)\n",
       "(EPL source distribution)\n",
       "Java Runtime: OpenJDK Runtime Environment\n",
       "JVM: OpenJDK 64-Bit Server VM\n",
       "Default Encoding: UTF-8\n",
       "Language: en\n",
       "Country: null\n",
       "--></g></svg>"
      ]
     },
     "execution_count": 46,
     "metadata": {},
     "output_type": "execute_result"
    }
   ],
   "source": [
    "%viz --style=\"TB\" --view=\"State\" \"ActionTest\""
   ]
  },
  {
   "cell_type": "code",
   "execution_count": 47,
   "id": "incorrect-retailer",
   "metadata": {
    "execution": {
     "iopub.execute_input": "2021-03-25T14:11:51.421600Z",
     "iopub.status.busy": "2021-03-25T14:11:51.421000Z",
     "iopub.status.idle": "2021-03-25T14:11:51.576665Z",
     "shell.execute_reply": "2021-03-25T14:11:51.576063Z"
    }
   },
   "outputs": [
    {
     "data": {
      "image/svg+xml": [
       "<?xml version=\"1.0\" encoding=\"UTF-8\" standalone=\"no\"?><svg xmlns=\"http://www.w3.org/2000/svg\" xmlns:xlink=\"http://www.w3.org/1999/xlink\" contentScriptType=\"application/ecmascript\" contentStyleType=\"text/css\" height=\"462px\" preserveAspectRatio=\"none\" style=\"width:522px;height:462px;\" version=\"1.1\" viewBox=\"0 0 522 462\" width=\"522px\" zoomAndPan=\"magnify\"><defs/><g><!--MD5=[fbc87193dbaf4d95561dea2c320d4a47]\n",
       "cluster E1--><a href=\"psysml:1b586630-6073-41f8-a31c-3b1021fd2d94\" target=\"_top\" title=\"psysml:1b586630-6073-41f8-a31c-3b1021fd2d94\" xlink:actuate=\"onRequest\" xlink:href=\"psysml:1b586630-6073-41f8-a31c-3b1021fd2d94\" xlink:show=\"new\" xlink:title=\"psysml:1b586630-6073-41f8-a31c-3b1021fd2d94\" xlink:type=\"simple\"><polygon fill=\"#FFFFFF\" points=\"16,6,107,6,114,28.2969,500,28.2969,500,450.5,16,450.5,16,6\" style=\"stroke: #000000; stroke-width: 1.5;\"/><line style=\"stroke: #000000; stroke-width: 1.5;\" x1=\"16\" x2=\"114\" y1=\"28.2969\" y2=\"28.2969\"/><text fill=\"#000000\" font-family=\"sans-serif\" font-size=\"14\" font-weight=\"bold\" lengthAdjust=\"spacingAndGlyphs\" textLength=\"85\" x=\"20\" y=\"20.9951\">ActionTest</text></a><!--MD5=[d5e69f78d87373223dbae638b30a9c99]\n",
       "cluster E3--><a href=\"psysml:63b3e978-ff90-4127-8639-9e6714fb0371\" target=\"_top\" title=\"psysml:63b3e978-ff90-4127-8639-9e6714fb0371\" xlink:actuate=\"onRequest\" xlink:href=\"psysml:63b3e978-ff90-4127-8639-9e6714fb0371\" xlink:show=\"new\" xlink:title=\"psysml:63b3e978-ff90-4127-8639-9e6714fb0371\" xlink:type=\"simple\"><rect fill=\"#FFFFFF\" height=\"377.5\" id=\"E3\" rx=\"10\" ry=\"10\" style=\"stroke: #383838; stroke-width: 1.5;\" width=\"209\" x=\"267\" y=\"49\"/><rect fill=\"#F8F8F8\" height=\"37.9375\" rx=\"10\" ry=\"10\" style=\"stroke: #F8F8F8; stroke-width: 1.5;\" width=\"209\" x=\"267\" y=\"49\"/><rect fill=\"#F8F8F8\" height=\"10\" style=\"stroke: #F8F8F8; stroke-width: 1.5;\" width=\"209\" x=\"267\" y=\"76.9375\"/><rect fill=\"none\" height=\"377.5\" id=\"E3\" rx=\"10\" ry=\"10\" style=\"stroke: #383838; stroke-width: 1.5;\" width=\"209\" x=\"267\" y=\"49\"/><text fill=\"#000000\" font-family=\"sans-serif\" font-size=\"12\" font-style=\"italic\" lengthAdjust=\"spacingAndGlyphs\" textLength=\"53\" x=\"345\" y=\"65.1387\">«action»</text><text fill=\"#000000\" font-family=\"sans-serif\" font-size=\"12\" lengthAdjust=\"spacingAndGlyphs\" textLength=\"8\" x=\"367.5\" y=\"79.1074\">a</text><line style=\"stroke: #383838; stroke-width: 1.0;\" x1=\"267\" x2=\"476\" y1=\"86.9375\" y2=\"86.9375\"/></a><g id=\"E1.E2\"><a href=\"psysml:ec6ecfb2-58e1-4e93-a57f-7fba141d91de\" target=\"_top\" title=\"psysml:ec6ecfb2-58e1-4e93-a57f-7fba141d91de\" xlink:actuate=\"onRequest\" xlink:href=\"psysml:ec6ecfb2-58e1-4e93-a57f-7fba141d91de\" xlink:show=\"new\" xlink:title=\"psysml:ec6ecfb2-58e1-4e93-a57f-7fba141d91de\" xlink:type=\"simple\"><rect fill=\"#FFFFFF\" height=\"42.9375\" id=\"E2\" style=\"stroke: #383838; stroke-width: 1.5;\" width=\"100\" x=\"151\" y=\"88.5\"/><rect fill=\"#F8F8F8\" height=\"37.9375\" style=\"stroke: #383838; stroke-width: 1.5;\" width=\"100\" x=\"151\" y=\"88.5\"/><text fill=\"#000000\" font-family=\"sans-serif\" font-size=\"12\" font-style=\"italic\" lengthAdjust=\"spacingAndGlyphs\" textLength=\"93\" x=\"154.5\" y=\"104.6387\">«attribute def»</text><text fill=\"#000000\" font-family=\"sans-serif\" font-size=\"12\" lengthAdjust=\"spacingAndGlyphs\" textLength=\"8\" x=\"197\" y=\"118.6074\">S</text></a></g><polygon fill=\"#F8F8F8\" points=\"424,148.5,436,160.5,424,172.5,412,160.5,424,148.5\" style=\"stroke: #383838; stroke-width: 1.5;\"/><!--MD5=[21dd76c19d33815960c0e92fef8f0eef]\n",
       "entity E5--><a href=\"psysml:12477b88-d1e3-4069-a82c-9614e3ee7843\" target=\"_top\" title=\"psysml:12477b88-d1e3-4069-a82c-9614e3ee7843\" xlink:actuate=\"onRequest\" xlink:href=\"psysml:12477b88-d1e3-4069-a82c-9614e3ee7843\" xlink:show=\"new\" xlink:title=\"psysml:12477b88-d1e3-4069-a82c-9614e3ee7843\" xlink:type=\"simple\"><polygon fill=\"#F8F8F8\" points=\"283,189.5,283,244.0938,423,244.0938,403,216.7969,423,189.5\" style=\"stroke: #000000; stroke-width: 1.5;\"/><text fill=\"#000000\" font-family=\"sans-serif\" font-size=\"14\" font-style=\"italic\" lengthAdjust=\"spacingAndGlyphs\" textLength=\"111\" x=\"290\" y=\"212.4951\">«accept action»</text><text fill=\"#000000\" font-family=\"sans-serif\" font-size=\"14\" lengthAdjust=\"spacingAndGlyphs\" textLength=\"9\" x=\"341\" y=\"229.792\">S</text></a><!--MD5=[24d87cdf3002d433f401b2a2aa9f9f65]\n",
       "entity E6--><a href=\"psysml:18c53c10-a81a-4a73-8210-8be9c84ee198\" target=\"_top\" title=\"psysml:18c53c10-a81a-4a73-8210-8be9c84ee198\" xlink:actuate=\"onRequest\" xlink:href=\"psysml:18c53c10-a81a-4a73-8210-8be9c84ee198\" xlink:show=\"new\" xlink:title=\"psysml:18c53c10-a81a-4a73-8210-8be9c84ee198\" xlink:type=\"simple\"><polygon fill=\"#F8F8F8\" points=\"283,277.5,283,332.0938,391,332.0938,411,304.7969,391,277.5\" style=\"stroke: #000000; stroke-width: 1.5;\"/><text fill=\"#000000\" font-family=\"sans-serif\" font-size=\"14\" font-style=\"italic\" lengthAdjust=\"spacingAndGlyphs\" textLength=\"99\" x=\"290\" y=\"300.4951\">«send action»</text><text fill=\"#000000\" font-family=\"sans-serif\" font-size=\"14\" lengthAdjust=\"spacingAndGlyphs\" textLength=\"55\" x=\"312\" y=\"317.792\">S to  B()</text></a><polygon fill=\"#F8F8F8\" points=\"422,349.5,434,361.5,422,373.5,410,361.5,422,349.5\" style=\"stroke: #383838; stroke-width: 1.5;\"/><ellipse cx=\"424\" cy=\"110\" fill=\"#000000\" rx=\"10\" ry=\"10\" style=\"stroke: none; stroke-width: 1.0;\"/><ellipse cx=\"422\" cy=\"400.5\" fill=\"none\" rx=\"10\" ry=\"10\" style=\"stroke: #000000; stroke-width: 1.0;\"/><ellipse cx=\"422.5\" cy=\"401\" fill=\"#000000\" rx=\"6\" ry=\"6\" style=\"stroke: none; stroke-width: 1.0;\"/><g id=\"E1.E8\"><a href=\"psysml:a720c396-7a8e-4250-b133-b38e5d5b0a71\" target=\"_top\" title=\"psysml:a720c396-7a8e-4250-b133-b38e5d5b0a71\" xlink:actuate=\"onRequest\" xlink:href=\"psysml:a720c396-7a8e-4250-b133-b38e5d5b0a71\" xlink:show=\"new\" xlink:title=\"psysml:a720c396-7a8e-4250-b133-b38e5d5b0a71\" xlink:type=\"simple\"><rect fill=\"#FFFFFF\" height=\"42.9375\" id=\"E8\" style=\"stroke: #383838; stroke-width: 1.5;\" width=\"84\" x=\"32\" y=\"88.5\"/><rect fill=\"#F8F8F8\" height=\"37.9375\" style=\"stroke: #383838; stroke-width: 1.5;\" width=\"84\" x=\"32\" y=\"88.5\"/><text fill=\"#000000\" font-family=\"sans-serif\" font-size=\"12\" font-style=\"italic\" lengthAdjust=\"spacingAndGlyphs\" textLength=\"77\" x=\"35.5\" y=\"104.6387\">«action def»</text><text fill=\"#000000\" font-family=\"sans-serif\" font-size=\"12\" lengthAdjust=\"spacingAndGlyphs\" textLength=\"8\" x=\"70\" y=\"118.6074\">B</text></a></g><!--MD5=[f47e10efcf9a6752d55dae986d790ed9]\n",
       "link *start*E3 to E4--><a href=\"psysml:3eb4ae89-c3fe-4a5c-9996-6c16dc90e291\" target=\"_top\" title=\"psysml:3eb4ae89-c3fe-4a5c-9996-6c16dc90e291\" xlink:actuate=\"onRequest\" xlink:href=\"psysml:3eb4ae89-c3fe-4a5c-9996-6c16dc90e291\" xlink:show=\"new\" xlink:title=\"psysml:3eb4ae89-c3fe-4a5c-9996-6c16dc90e291\" xlink:type=\"simple\"><path d=\"M424,120.35 C424,126.88 424,135.77 424,143.42 \" fill=\"none\" id=\"*start*E3-&gt;E4\" style=\"stroke: #383838; stroke-width: 1.0;\"/><polygon fill=\"#383838\" points=\"424,148.48,428,139.48,424,143.48,420,139.48,424,148.48\" style=\"stroke: #383838; stroke-width: 1.0;\"/></a><!--MD5=[d19f2eb34364d71b67042106d92f540b]\n",
       "link E7 to *end*E3--><a href=\"psysml:529019b4-f7b3-445e-a809-123fd999bfb3\" target=\"_top\" title=\"psysml:529019b4-f7b3-445e-a809-123fd999bfb3\" xlink:actuate=\"onRequest\" xlink:href=\"psysml:529019b4-f7b3-445e-a809-123fd999bfb3\" xlink:show=\"new\" xlink:title=\"psysml:529019b4-f7b3-445e-a809-123fd999bfb3\" xlink:type=\"simple\"><path d=\"M422,373.8 C422,377.34 422,381.3 422,385.03 \" fill=\"none\" id=\"E7-&gt;*end*E3\" style=\"stroke: #383838; stroke-width: 1.0;\"/><polygon fill=\"#383838\" points=\"422,390.25,426,381.25,422,385.25,418,381.25,422,390.25\" style=\"stroke: #383838; stroke-width: 1.0;\"/></a><!--MD5=[1b7591eae5389033d8d09a9d6721a717]\n",
       "link E4 to E5--><a href=\"psysml:252a1c6c-cc00-403d-ac29-1241d1eee0ca\" target=\"_top\" title=\"psysml:252a1c6c-cc00-403d-ac29-1241d1eee0ca\" xlink:actuate=\"onRequest\" xlink:href=\"psysml:252a1c6c-cc00-403d-ac29-1241d1eee0ca\" xlink:show=\"new\" xlink:title=\"psysml:252a1c6c-cc00-403d-ac29-1241d1eee0ca\" xlink:type=\"simple\"><path d=\"M417.45,166.53 C411.33,171.23 401.65,178.66 391.64,186.34 \" fill=\"none\" id=\"E4-&gt;E5\" style=\"stroke: #383838; stroke-width: 1.0;\"/><polygon fill=\"#383838\" points=\"387.64,189.41,397.2129,187.0948,391.6037,186.3621,392.3363,180.7529,387.64,189.41\" style=\"stroke: #383838; stroke-width: 1.0;\"/></a><!--MD5=[9120cf2e5df3bff93db8f754bbbc09b4]\n",
       "link E5 to E6--><a href=\"psysml:52dd995d-9028-4157-9334-98b87c98e4ca\" target=\"_top\" title=\"psysml:52dd995d-9028-4157-9334-98b87c98e4ca\" xlink:actuate=\"onRequest\" xlink:href=\"psysml:52dd995d-9028-4157-9334-98b87c98e4ca\" xlink:show=\"new\" xlink:title=\"psysml:52dd995d-9028-4157-9334-98b87c98e4ca\" xlink:type=\"simple\"><path d=\"M351.13,244.74 C350.53,253.4 349.85,263.08 349.23,272.08 \" fill=\"none\" id=\"E5-&gt;E6\" style=\"stroke: #383838; stroke-width: 1.0;\"/><polygon fill=\"#383838\" points=\"348.86,277.28,353.468,268.5756,349.203,272.2918,345.4869,268.0268,348.86,277.28\" style=\"stroke: #383838; stroke-width: 1.0;\"/></a><!--MD5=[02c70b7c851c11e3980e4e90450dc5dd]\n",
       "link E6 to E7--><a href=\"psysml:11c1c086-8dd9-4b00-9ab5-dcf0da9e4b0f\" target=\"_top\" title=\"psysml:11c1c086-8dd9-4b00-9ab5-dcf0da9e4b0f\" xlink:actuate=\"onRequest\" xlink:href=\"psysml:11c1c086-8dd9-4b00-9ab5-dcf0da9e4b0f\" xlink:show=\"new\" xlink:title=\"psysml:11c1c086-8dd9-4b00-9ab5-dcf0da9e4b0f\" xlink:type=\"simple\"><path d=\"M383.62,332.61 C393.72,339.95 403.91,347.35 411.24,352.68 \" fill=\"none\" id=\"E6-&gt;E7\" style=\"stroke: #383838; stroke-width: 1.0;\"/><polygon fill=\"#383838\" points=\"415.42,355.72,410.4976,347.1894,411.3776,352.7774,405.7896,353.6574,415.42,355.72\" style=\"stroke: #383838; stroke-width: 1.0;\"/></a><!--MD5=[6bdd27f9905911a7e892a3dc65cf6b7c]\n",
       "link E7 to E4--><a href=\"psysml:9dbcc968-b81d-4000-b2fb-dcd38ad7dec8\" target=\"_top\" title=\"psysml:9dbcc968-b81d-4000-b2fb-dcd38ad7dec8\" xlink:actuate=\"onRequest\" xlink:href=\"psysml:9dbcc968-b81d-4000-b2fb-dcd38ad7dec8\" xlink:show=\"new\" xlink:title=\"psysml:9dbcc968-b81d-4000-b2fb-dcd38ad7dec8\" xlink:type=\"simple\"><path d=\"M425,352.49 C433.84,327.73 458.06,250.48 441,189.5 C439.26,183.29 435.73,177.1 432.34,172.12 \" fill=\"none\" id=\"E7-&gt;E4\" style=\"stroke: #383838; stroke-width: 1.0;\"/><polygon fill=\"#383838\" points=\"429.31,167.92,431.3342,177.5586,432.2364,171.9741,437.8209,172.8763,429.31,167.92\" style=\"stroke: #383838; stroke-width: 1.0;\"/><text fill=\"#000000\" font-family=\"sans-serif\" font-size=\"13\" lengthAdjust=\"spacingAndGlyphs\" textLength=\"36\" x=\"447\" y=\"265.5669\">[true]</text></a><!--MD5=[d329cce95a1753f89ce18b0e66731ab0]\n",
       "@startuml\r\n",
       "skinparam ranksep 10\r\n",
       "skinparam rectangle {\r\n",
       " backgroundColor<<block>> LightGreen\r\n",
       "}\r\n",
       "top to bottom direction\r\n",
       "skinparam monochrome true\r\n",
       "skinparam classbackgroundcolor white\r\n",
       "skinparam shadowing false\r\n",
       "skinparam wrapWidth 300\r\n",
       "hide circle\r\n",
       "\r\n",
       "package \"ActionTest\" as E1  [[psysml:1b586630-6073-41f8-a31c-3b1021fd2d94 ]]  {\r\n",
       "def \"S\" as E2  <<(T,blue)attribute def>> [[psysml:ec6ecfb2-58e1-4e93-a57f-7fba141d91de ]] \r\n",
       "rec usage \"a\" as E3  <<(T,blue)action>> [[psysml:63b3e978-ff90-4127-8639-9e6714fb0371 ]] {\r\n",
       "choice \"m\" as E4  [[psysml:3c09e5e0-87ee-487d-a94c-d1481b887cf0 ]] \r\n",
       "accept \" S\" as E5 <<accept action>> [[psysml:12477b88-d1e3-4069-a82c-9614e3ee7843 ]] \r\n",
       "send \" S to  B()\" as E6 <<send action>> [[psysml:18c53c10-a81a-4a73-8210-8be9c84ee198 ]] \r\n",
       "choice \"noname\" as E7  [[psysml:e28bc343-f228-4c60-afee-7deafa85ddc3 ]] \r\n",
       "[*] - -> E4 [[psysml:3eb4ae89-c3fe-4a5c-9996-6c16dc90e291 ]] \r\n",
       "E7  - -> [*] [[psysml:529019b4-f7b3-445e-a809-123fd999bfb3 ]] \r\n",
       "}\r\n",
       "\r\n",
       "rec def \"B\" as E8  <<(T,blue)action def>> [[psysml:a720c396-7a8e-4250-b133-b38e5d5b0a71 ]] {\r\n",
       "}\r\n",
       "\r\n",
       "E4 - -> E5 [[psysml:252a1c6c-cc00-403d-ac29-1241d1eee0ca ]] \r\n",
       "E5 - -> E6 [[psysml:52dd995d-9028-4157-9334-98b87c98e4ca ]] \r\n",
       "E6 - -> E7 [[psysml:11c1c086-8dd9-4b00-9ab5-dcf0da9e4b0f ]] \r\n",
       "E7  - -> E4 [[psysml:9dbcc968-b81d-4000-b2fb-dcd38ad7dec8 ]] : [true]\r\n",
       "}\r\n",
       "@enduml\r\n",
       "\n",
       "PlantUML version 1.2020.13(Sat Jun 13 12:26:38 UTC 2020)\n",
       "(EPL source distribution)\n",
       "Java Runtime: OpenJDK Runtime Environment\n",
       "JVM: OpenJDK 64-Bit Server VM\n",
       "Default Encoding: UTF-8\n",
       "Language: en\n",
       "Country: null\n",
       "--></g></svg>"
      ]
     },
     "execution_count": 47,
     "metadata": {},
     "output_type": "execute_result"
    }
   ],
   "source": [
    "%viz --style=\"TB\" --view=\"Interconnection\" \"ActionTest\""
   ]
  },
  {
   "cell_type": "code",
   "execution_count": 48,
   "id": "dried-professional",
   "metadata": {
    "execution": {
     "iopub.execute_input": "2021-03-25T14:11:51.628374Z",
     "iopub.status.busy": "2021-03-25T14:11:51.627712Z",
     "iopub.status.idle": "2021-03-25T14:11:51.772236Z",
     "shell.execute_reply": "2021-03-25T14:11:51.770672Z"
    }
   },
   "outputs": [
    {
     "data": {
      "image/svg+xml": [
       "<?xml version=\"1.0\" encoding=\"UTF-8\" standalone=\"no\"?><svg xmlns=\"http://www.w3.org/2000/svg\" xmlns:xlink=\"http://www.w3.org/1999/xlink\" contentScriptType=\"application/ecmascript\" contentStyleType=\"text/css\" height=\"395px\" preserveAspectRatio=\"none\" style=\"width:335px;height:395px;\" version=\"1.1\" viewBox=\"0 0 335 395\" width=\"335px\" zoomAndPan=\"magnify\"><defs/><g><!--MD5=[fbc87193dbaf4d95561dea2c320d4a47]\n",
       "cluster E1--><a href=\"psysml:63b3e978-ff90-4127-8639-9e6714fb0371\" target=\"_top\" title=\"psysml:63b3e978-ff90-4127-8639-9e6714fb0371\" xlink:actuate=\"onRequest\" xlink:href=\"psysml:63b3e978-ff90-4127-8639-9e6714fb0371\" xlink:show=\"new\" xlink:title=\"psysml:63b3e978-ff90-4127-8639-9e6714fb0371\" xlink:type=\"simple\"><rect fill=\"#FFFFFF\" height=\"377.5\" id=\"E1\" rx=\"10\" ry=\"10\" style=\"stroke: #383838; stroke-width: 1.5;\" width=\"209\" x=\"107\" y=\"7\"/><rect fill=\"#F8F8F8\" height=\"37.9375\" rx=\"10\" ry=\"10\" style=\"stroke: #F8F8F8; stroke-width: 1.5;\" width=\"209\" x=\"107\" y=\"7\"/><rect fill=\"#F8F8F8\" height=\"10\" style=\"stroke: #F8F8F8; stroke-width: 1.5;\" width=\"209\" x=\"107\" y=\"34.9375\"/><rect fill=\"none\" height=\"377.5\" id=\"E1\" rx=\"10\" ry=\"10\" style=\"stroke: #383838; stroke-width: 1.5;\" width=\"209\" x=\"107\" y=\"7\"/><text fill=\"#000000\" font-family=\"sans-serif\" font-size=\"12\" font-style=\"italic\" lengthAdjust=\"spacingAndGlyphs\" textLength=\"53\" x=\"185\" y=\"23.1387\">«action»</text><text fill=\"#000000\" font-family=\"sans-serif\" font-size=\"12\" lengthAdjust=\"spacingAndGlyphs\" textLength=\"8\" x=\"207.5\" y=\"37.1074\">a</text><line style=\"stroke: #383838; stroke-width: 1.0;\" x1=\"107\" x2=\"316\" y1=\"44.9375\" y2=\"44.9375\"/></a><polygon fill=\"#F8F8F8\" points=\"264,106.5,276,118.5,264,130.5,252,118.5,264,106.5\" style=\"stroke: #383838; stroke-width: 1.5;\"/><!--MD5=[a60fb756f580feb9fd8e2cf1329b5c91]\n",
       "entity E3--><a href=\"psysml:12477b88-d1e3-4069-a82c-9614e3ee7843\" target=\"_top\" title=\"psysml:12477b88-d1e3-4069-a82c-9614e3ee7843\" xlink:actuate=\"onRequest\" xlink:href=\"psysml:12477b88-d1e3-4069-a82c-9614e3ee7843\" xlink:show=\"new\" xlink:title=\"psysml:12477b88-d1e3-4069-a82c-9614e3ee7843\" xlink:type=\"simple\"><polygon fill=\"#F8F8F8\" points=\"123,147.5,123,202.0938,263,202.0938,243,174.7969,263,147.5\" style=\"stroke: #000000; stroke-width: 1.5;\"/><text fill=\"#000000\" font-family=\"sans-serif\" font-size=\"14\" font-style=\"italic\" lengthAdjust=\"spacingAndGlyphs\" textLength=\"111\" x=\"130\" y=\"170.4951\">«accept action»</text><text fill=\"#000000\" font-family=\"sans-serif\" font-size=\"14\" lengthAdjust=\"spacingAndGlyphs\" textLength=\"9\" x=\"181\" y=\"187.792\">S</text></a><!--MD5=[961cefdc15414eaa3e87aec9d17c2188]\n",
       "entity E4--><a href=\"psysml:18c53c10-a81a-4a73-8210-8be9c84ee198\" target=\"_top\" title=\"psysml:18c53c10-a81a-4a73-8210-8be9c84ee198\" xlink:actuate=\"onRequest\" xlink:href=\"psysml:18c53c10-a81a-4a73-8210-8be9c84ee198\" xlink:show=\"new\" xlink:title=\"psysml:18c53c10-a81a-4a73-8210-8be9c84ee198\" xlink:type=\"simple\"><polygon fill=\"#F8F8F8\" points=\"123,235.5,123,290.0938,231,290.0938,251,262.7969,231,235.5\" style=\"stroke: #000000; stroke-width: 1.5;\"/><text fill=\"#000000\" font-family=\"sans-serif\" font-size=\"14\" font-style=\"italic\" lengthAdjust=\"spacingAndGlyphs\" textLength=\"99\" x=\"130\" y=\"258.4951\">«send action»</text><text fill=\"#000000\" font-family=\"sans-serif\" font-size=\"14\" lengthAdjust=\"spacingAndGlyphs\" textLength=\"55\" x=\"152\" y=\"275.792\">S to  B()</text></a><polygon fill=\"#F8F8F8\" points=\"262,307.5,274,319.5,262,331.5,250,319.5,262,307.5\" style=\"stroke: #383838; stroke-width: 1.5;\"/><ellipse cx=\"264\" cy=\"68\" fill=\"#000000\" rx=\"10\" ry=\"10\" style=\"stroke: none; stroke-width: 1.0;\"/><ellipse cx=\"262\" cy=\"358.5\" fill=\"none\" rx=\"10\" ry=\"10\" style=\"stroke: #000000; stroke-width: 1.0;\"/><ellipse cx=\"262.5\" cy=\"359\" fill=\"#000000\" rx=\"6\" ry=\"6\" style=\"stroke: none; stroke-width: 1.0;\"/><g id=\"E6\"><a href=\"psysml:a720c396-7a8e-4250-b133-b38e5d5b0a71\" target=\"_top\" title=\"psysml:a720c396-7a8e-4250-b133-b38e5d5b0a71\" xlink:actuate=\"onRequest\" xlink:href=\"psysml:a720c396-7a8e-4250-b133-b38e5d5b0a71\" xlink:show=\"new\" xlink:title=\"psysml:a720c396-7a8e-4250-b133-b38e5d5b0a71\" xlink:type=\"simple\"><rect fill=\"#FFFFFF\" height=\"42.9375\" id=\"E6\" style=\"stroke: #383838; stroke-width: 1.5;\" width=\"84\" x=\"7\" y=\"46.5\"/><rect fill=\"#F8F8F8\" height=\"37.9375\" style=\"stroke: #383838; stroke-width: 1.5;\" width=\"84\" x=\"7\" y=\"46.5\"/><text fill=\"#000000\" font-family=\"sans-serif\" font-size=\"12\" font-style=\"italic\" lengthAdjust=\"spacingAndGlyphs\" textLength=\"77\" x=\"10.5\" y=\"62.6387\">«action def»</text><text fill=\"#000000\" font-family=\"sans-serif\" font-size=\"12\" lengthAdjust=\"spacingAndGlyphs\" textLength=\"8\" x=\"45\" y=\"76.6074\">B</text></a></g><!--MD5=[cff944eb183b832d446717a4e202d613]\n",
       "link *start*E1 to E2--><a href=\"psysml:3eb4ae89-c3fe-4a5c-9996-6c16dc90e291\" target=\"_top\" title=\"psysml:3eb4ae89-c3fe-4a5c-9996-6c16dc90e291\" xlink:actuate=\"onRequest\" xlink:href=\"psysml:3eb4ae89-c3fe-4a5c-9996-6c16dc90e291\" xlink:show=\"new\" xlink:title=\"psysml:3eb4ae89-c3fe-4a5c-9996-6c16dc90e291\" xlink:type=\"simple\"><path d=\"M264,78.35 C264,84.88 264,93.77 264,101.42 \" fill=\"none\" id=\"*start*E1-&gt;E2\" style=\"stroke: #383838; stroke-width: 1.0; stroke-dasharray: 7.0,7.0;\"/><polygon fill=\"#383838\" points=\"264,106.48,268,97.48,264,101.48,260,97.48,264,106.48\" style=\"stroke: #383838; stroke-width: 1.0;\"/></a><!--MD5=[7fc47fc0d107820853a137871ad908c8]\n",
       "link E5 to *end*E1--><a href=\"psysml:529019b4-f7b3-445e-a809-123fd999bfb3\" target=\"_top\" title=\"psysml:529019b4-f7b3-445e-a809-123fd999bfb3\" xlink:actuate=\"onRequest\" xlink:href=\"psysml:529019b4-f7b3-445e-a809-123fd999bfb3\" xlink:show=\"new\" xlink:title=\"psysml:529019b4-f7b3-445e-a809-123fd999bfb3\" xlink:type=\"simple\"><path d=\"M262,331.8 C262,335.34 262,339.3 262,343.03 \" fill=\"none\" id=\"E5-&gt;*end*E1\" style=\"stroke: #383838; stroke-width: 1.0; stroke-dasharray: 7.0,7.0;\"/><polygon fill=\"#383838\" points=\"262,348.25,266,339.25,262,343.25,258,339.25,262,348.25\" style=\"stroke: #383838; stroke-width: 1.0;\"/></a><!--MD5=[2720a5a1f2c3fca2055b230370638851]\n",
       "link E2 to E3--><a href=\"psysml:252a1c6c-cc00-403d-ac29-1241d1eee0ca\" target=\"_top\" title=\"psysml:252a1c6c-cc00-403d-ac29-1241d1eee0ca\" xlink:actuate=\"onRequest\" xlink:href=\"psysml:252a1c6c-cc00-403d-ac29-1241d1eee0ca\" xlink:show=\"new\" xlink:title=\"psysml:252a1c6c-cc00-403d-ac29-1241d1eee0ca\" xlink:type=\"simple\"><path d=\"M257.45,124.53 C251.33,129.23 241.65,136.66 231.64,144.34 \" fill=\"none\" id=\"E2-&gt;E3\" style=\"stroke: #383838; stroke-width: 1.0; stroke-dasharray: 7.0,7.0;\"/><polygon fill=\"#383838\" points=\"227.64,147.41,237.2129,145.0948,231.6037,144.3621,232.3363,138.7529,227.64,147.41\" style=\"stroke: #383838; stroke-width: 1.0;\"/></a><!--MD5=[af87c684e3b0d8be13c1a698a818ef1e]\n",
       "link E3 to E4--><a href=\"psysml:52dd995d-9028-4157-9334-98b87c98e4ca\" target=\"_top\" title=\"psysml:52dd995d-9028-4157-9334-98b87c98e4ca\" xlink:actuate=\"onRequest\" xlink:href=\"psysml:52dd995d-9028-4157-9334-98b87c98e4ca\" xlink:show=\"new\" xlink:title=\"psysml:52dd995d-9028-4157-9334-98b87c98e4ca\" xlink:type=\"simple\"><path d=\"M191.13,202.74 C190.53,211.4 189.85,221.08 189.23,230.08 \" fill=\"none\" id=\"E3-&gt;E4\" style=\"stroke: #383838; stroke-width: 1.0; stroke-dasharray: 7.0,7.0;\"/><polygon fill=\"#383838\" points=\"188.86,235.28,193.468,226.5756,189.203,230.2918,185.4869,226.0268,188.86,235.28\" style=\"stroke: #383838; stroke-width: 1.0;\"/></a><!--MD5=[1b7591eae5389033d8d09a9d6721a717]\n",
       "link E4 to E5--><a href=\"psysml:11c1c086-8dd9-4b00-9ab5-dcf0da9e4b0f\" target=\"_top\" title=\"psysml:11c1c086-8dd9-4b00-9ab5-dcf0da9e4b0f\" xlink:actuate=\"onRequest\" xlink:href=\"psysml:11c1c086-8dd9-4b00-9ab5-dcf0da9e4b0f\" xlink:show=\"new\" xlink:title=\"psysml:11c1c086-8dd9-4b00-9ab5-dcf0da9e4b0f\" xlink:type=\"simple\"><path d=\"M223.62,290.61 C233.72,297.95 243.91,305.35 251.24,310.68 \" fill=\"none\" id=\"E4-&gt;E5\" style=\"stroke: #383838; stroke-width: 1.0; stroke-dasharray: 7.0,7.0;\"/><polygon fill=\"#383838\" points=\"255.42,313.72,250.4976,305.1894,251.3776,310.7774,245.7896,311.6574,255.42,313.72\" style=\"stroke: #383838; stroke-width: 1.0;\"/></a><!--MD5=[15ebcb19ae302d9b601edb458606d402]\n",
       "link E5 to E2--><a href=\"psysml:9dbcc968-b81d-4000-b2fb-dcd38ad7dec8\" target=\"_top\" title=\"psysml:9dbcc968-b81d-4000-b2fb-dcd38ad7dec8\" xlink:actuate=\"onRequest\" xlink:href=\"psysml:9dbcc968-b81d-4000-b2fb-dcd38ad7dec8\" xlink:show=\"new\" xlink:title=\"psysml:9dbcc968-b81d-4000-b2fb-dcd38ad7dec8\" xlink:type=\"simple\"><path d=\"M265,310.49 C273.84,285.73 298.06,208.48 281,147.5 C279.26,141.29 275.73,135.1 272.34,130.12 \" fill=\"none\" id=\"E5-&gt;E2\" style=\"stroke: #383838; stroke-width: 1.0; stroke-dasharray: 7.0,7.0;\"/><polygon fill=\"#383838\" points=\"269.31,125.92,271.3342,135.5586,272.2364,129.9741,277.8209,130.8763,269.31,125.92\" style=\"stroke: #383838; stroke-width: 1.0;\"/><text fill=\"#000000\" font-family=\"sans-serif\" font-size=\"13\" lengthAdjust=\"spacingAndGlyphs\" textLength=\"36\" x=\"287\" y=\"223.5669\">[true]</text></a><!--MD5=[e8d9baae66a8f1d9ae4ad3ef8e05916e]\n",
       "@startuml\r\n",
       "skinparam ranksep 8\r\n",
       "top to bottom direction\r\n",
       "skinparam monochrome true\r\n",
       "skinparam classbackgroundcolor white\r\n",
       "skinparam shadowing false\r\n",
       "skinparam wrapWidth 300\r\n",
       "hide circle\r\n",
       "\r\n",
       "rec usage \"a\" as E1  <<(T,blue)action>> [[psysml:63b3e978-ff90-4127-8639-9e6714fb0371 ]] {\r\n",
       "choice \"m\" as E2  [[psysml:3c09e5e0-87ee-487d-a94c-d1481b887cf0 ]] \r\n",
       "accept \" S\" as E3 <<accept action>> [[psysml:12477b88-d1e3-4069-a82c-9614e3ee7843 ]] \r\n",
       "send \" S to  B()\" as E4 <<send action>> [[psysml:18c53c10-a81a-4a73-8210-8be9c84ee198 ]] \r\n",
       "choice \"noname\" as E5  [[psysml:e28bc343-f228-4c60-afee-7deafa85ddc3 ]] \r\n",
       "[*] ..> E2 [[psysml:3eb4ae89-c3fe-4a5c-9996-6c16dc90e291 ]] \r\n",
       "E5 ..> [*] [[psysml:529019b4-f7b3-445e-a809-123fd999bfb3 ]] \r\n",
       "}\r\n",
       "\r\n",
       "E2 ..> E3 [[psysml:252a1c6c-cc00-403d-ac29-1241d1eee0ca ]] \r\n",
       "E3 ..> E4 [[psysml:52dd995d-9028-4157-9334-98b87c98e4ca ]] \r\n",
       "E4 ..> E5 [[psysml:11c1c086-8dd9-4b00-9ab5-dcf0da9e4b0f ]] \r\n",
       "E5 ..> E2 [[psysml:9dbcc968-b81d-4000-b2fb-dcd38ad7dec8 ]] : [true]\r\n",
       "rec def \"B\" as E6  <<(T,blue)action def>> [[psysml:a720c396-7a8e-4250-b133-b38e5d5b0a71 ]] {\r\n",
       "}\r\n",
       "\r\n",
       "@enduml\r\n",
       "\n",
       "PlantUML version 1.2020.13(Sat Jun 13 12:26:38 UTC 2020)\n",
       "(EPL source distribution)\n",
       "Java Runtime: OpenJDK Runtime Environment\n",
       "JVM: OpenJDK 64-Bit Server VM\n",
       "Default Encoding: UTF-8\n",
       "Language: en\n",
       "Country: null\n",
       "--></g></svg>"
      ]
     },
     "execution_count": 48,
     "metadata": {},
     "output_type": "execute_result"
    }
   ],
   "source": [
    "%viz --style=\"TB\" --view=\"Action\" \"ActionTest\""
   ]
  },
  {
   "cell_type": "code",
   "execution_count": 49,
   "id": "orange-czech",
   "metadata": {
    "execution": {
     "iopub.execute_input": "2021-03-25T14:11:51.822534Z",
     "iopub.status.busy": "2021-03-25T14:11:51.821974Z",
     "iopub.status.idle": "2021-03-25T14:11:52.505347Z",
     "shell.execute_reply": "2021-03-25T14:11:52.503885Z"
    }
   },
   "outputs": [
    {
     "data": {
      "image/svg+xml": [
       "<?xml version=\"1.0\" encoding=\"UTF-8\" standalone=\"no\"?><svg xmlns=\"http://www.w3.org/2000/svg\" xmlns:xlink=\"http://www.w3.org/1999/xlink\" contentScriptType=\"application/ecmascript\" contentStyleType=\"text/css\" height=\"187px\" preserveAspectRatio=\"none\" style=\"width:475px;height:187px;\" version=\"1.1\" viewBox=\"0 0 475 187\" width=\"475px\" zoomAndPan=\"magnify\"><defs/><g><!--MD5=[fbc87193dbaf4d95561dea2c320d4a47]\n",
       "cluster E1--><a href=\"psysml:1b586630-6073-41f8-a31c-3b1021fd2d94\" target=\"_top\" title=\"psysml:1b586630-6073-41f8-a31c-3b1021fd2d94\" xlink:actuate=\"onRequest\" xlink:href=\"psysml:1b586630-6073-41f8-a31c-3b1021fd2d94\" xlink:show=\"new\" xlink:title=\"psysml:1b586630-6073-41f8-a31c-3b1021fd2d94\" xlink:type=\"simple\"><polygon fill=\"#FFFFFF\" points=\"16,6,107,6,114,28.2969,453,28.2969,453,175,16,175,16,6\" style=\"stroke: #000000; stroke-width: 1.5;\"/><line style=\"stroke: #000000; stroke-width: 1.5;\" x1=\"16\" x2=\"114\" y1=\"28.2969\" y2=\"28.2969\"/><text fill=\"#000000\" font-family=\"sans-serif\" font-size=\"14\" font-weight=\"bold\" lengthAdjust=\"spacingAndGlyphs\" textLength=\"85\" x=\"20\" y=\"20.9951\">ActionTest</text></a><!--MD5=[b4997ac47864f28c2f74865a473b2911]\n",
       "class E2--><a href=\"psysml:ec6ecfb2-58e1-4e93-a57f-7fba141d91de\" target=\"_top\" title=\"psysml:ec6ecfb2-58e1-4e93-a57f-7fba141d91de\" xlink:actuate=\"onRequest\" xlink:href=\"psysml:ec6ecfb2-58e1-4e93-a57f-7fba141d91de\" xlink:show=\"new\" xlink:title=\"psysml:ec6ecfb2-58e1-4e93-a57f-7fba141d91de\" xlink:type=\"simple\"><rect fill=\"#FFFFFF\" height=\"45.9375\" id=\"E2\" style=\"stroke: #383838; stroke-width: 1.5;\" width=\"95\" x=\"341.5\" y=\"77\"/><text fill=\"#000000\" font-family=\"sans-serif\" font-size=\"12\" font-style=\"italic\" lengthAdjust=\"spacingAndGlyphs\" textLength=\"93\" x=\"342.5\" y=\"93.1387\">«attribute def»</text><text fill=\"#000000\" font-family=\"sans-serif\" font-size=\"12\" lengthAdjust=\"spacingAndGlyphs\" textLength=\"8\" x=\"385\" y=\"107.1074\">S</text><line style=\"stroke: #383838; stroke-width: 1.5;\" x1=\"342.5\" x2=\"435.5\" y1=\"114.9375\" y2=\"114.9375\"/></a><!--MD5=[09b614a08d8cba4a07c9adeb5e0fee81]\n",
       "class E3--><a href=\"psysml:63b3e978-ff90-4127-8639-9e6714fb0371\" target=\"_top\" title=\"psysml:63b3e978-ff90-4127-8639-9e6714fb0371\" xlink:actuate=\"onRequest\" xlink:href=\"psysml:63b3e978-ff90-4127-8639-9e6714fb0371\" xlink:show=\"new\" xlink:title=\"psysml:63b3e978-ff90-4127-8639-9e6714fb0371\" xlink:type=\"simple\"><rect fill=\"#FFFFFF\" height=\"117.9609\" id=\"E3\" rx=\"10\" ry=\"10\" style=\"stroke: #383838; stroke-width: 1.5;\" width=\"160\" x=\"146\" y=\"41\"/><text fill=\"#000000\" font-family=\"sans-serif\" font-size=\"12\" font-style=\"italic\" lengthAdjust=\"spacingAndGlyphs\" textLength=\"53\" x=\"199.5\" y=\"57.1387\">«action»</text><text fill=\"#000000\" font-family=\"sans-serif\" font-size=\"12\" lengthAdjust=\"spacingAndGlyphs\" textLength=\"8\" x=\"222\" y=\"71.1074\">a</text><line style=\"stroke: #383838; stroke-width: 1.5;\" x1=\"147\" x2=\"305\" y1=\"78.9375\" y2=\"78.9375\"/><text fill=\"#000000\" font-family=\"sans-serif\" font-size=\"11\" lengthAdjust=\"spacingAndGlyphs\" textLength=\"69\" x=\"152\" y=\"109.9526\">start: Action</text><text fill=\"#000000\" font-family=\"sans-serif\" font-size=\"11\" font-style=\"italic\" lengthAdjust=\"spacingAndGlyphs\" textLength=\"148\" x=\"152\" y=\"122.7573\">:&gt;&gt;Occurrence::startShot</text><line style=\"stroke: #383838; stroke-width: 1.0;\" x1=\"147\" x2=\"205.5\" y1=\"93.3398\" y2=\"93.3398\"/><text fill=\"#000000\" font-family=\"sans-serif\" font-size=\"11\" lengthAdjust=\"spacingAndGlyphs\" textLength=\"41\" x=\"205.5\" y=\"96.6479\">actions</text><line style=\"stroke: #383838; stroke-width: 1.0;\" x1=\"246.5\" x2=\"305\" y1=\"93.3398\" y2=\"93.3398\"/><text fill=\"#000000\" font-family=\"sans-serif\" font-size=\"11\" lengthAdjust=\"spacingAndGlyphs\" textLength=\"11\" x=\"152\" y=\"152.3667\">m</text><line style=\"stroke: #383838; stroke-width: 1.0;\" x1=\"147\" x2=\"189.5\" y1=\"135.7539\" y2=\"135.7539\"/><text fill=\"#000000\" font-family=\"sans-serif\" font-size=\"11\" lengthAdjust=\"spacingAndGlyphs\" textLength=\"73\" x=\"189.5\" y=\"139.062\">mergeNodes</text><line style=\"stroke: #383838; stroke-width: 1.0;\" x1=\"262.5\" x2=\"305\" y1=\"135.7539\" y2=\"135.7539\"/></a><!--MD5=[60a26617385b1d2d0262a64233df1f8d]\n",
       "class E6--><a href=\"psysml:a720c396-7a8e-4250-b133-b38e5d5b0a71\" target=\"_top\" title=\"psysml:a720c396-7a8e-4250-b133-b38e5d5b0a71\" xlink:actuate=\"onRequest\" xlink:href=\"psysml:a720c396-7a8e-4250-b133-b38e5d5b0a71\" xlink:show=\"new\" xlink:title=\"psysml:a720c396-7a8e-4250-b133-b38e5d5b0a71\" xlink:type=\"simple\"><rect fill=\"#FFFFFF\" height=\"45.9375\" id=\"E6\" style=\"stroke: #383838; stroke-width: 1.5;\" width=\"79\" x=\"31.5\" y=\"77\"/><text fill=\"#000000\" font-family=\"sans-serif\" font-size=\"12\" font-style=\"italic\" lengthAdjust=\"spacingAndGlyphs\" textLength=\"77\" x=\"32.5\" y=\"93.1387\">«action def»</text><text fill=\"#000000\" font-family=\"sans-serif\" font-size=\"12\" lengthAdjust=\"spacingAndGlyphs\" textLength=\"8\" x=\"67\" y=\"107.1074\">B</text><line style=\"stroke: #383838; stroke-width: 1.5;\" x1=\"32.5\" x2=\"109.5\" y1=\"114.9375\" y2=\"114.9375\"/></a><!--MD5=[89664b12969ff5f57d25a311ed20c6b1]\n",
       "@startuml\r\n",
       "top to bottom direction\r\n",
       "skinparam monochrome true\r\n",
       "skinparam classbackgroundcolor white\r\n",
       "skinparam shadowing false\r\n",
       "skinparam wrapWidth 300\r\n",
       "hide circle\r\n",
       "\r\n",
       "package \"ActionTest\" as E1  [[psysml:1b586630-6073-41f8-a31c-3b1021fd2d94 ]]  {\r\n",
       "comp def \"S\" as E2  <<(T,blue)attribute def>> [[psysml:ec6ecfb2-58e1-4e93-a57f-7fba141d91de ]] {\r\n",
       "}\r\n",
       "comp usage \"a\" as E3  <<(T,blue)action>> [[psysml:63b3e978-ff90-4127-8639-9e6714fb0371 ]] {\r\n",
       "- - actions - -\r\n",
       "start: Action\\n//:>>Occurrence::startShot// \r\n",
       "- - mergeNodes - -\r\n",
       "m\r\n",
       "}\r\n",
       "comp def \"B\" as E6  <<(T,blue)action def>> [[psysml:a720c396-7a8e-4250-b133-b38e5d5b0a71 ]] {\r\n",
       "}\r\n",
       "}\r\n",
       "@enduml\r\n",
       "\n",
       "PlantUML version 1.2020.13(Sat Jun 13 12:26:38 UTC 2020)\n",
       "(EPL source distribution)\n",
       "Java Runtime: OpenJDK Runtime Environment\n",
       "JVM: OpenJDK 64-Bit Server VM\n",
       "Default Encoding: UTF-8\n",
       "Language: en\n",
       "Country: null\n",
       "--></g></svg>"
      ]
     },
     "execution_count": 49,
     "metadata": {},
     "output_type": "execute_result"
    }
   ],
   "source": [
    "%viz --style=\"TB\" --view=\"Sequence\" \"ActionTest\""
   ]
  },
  {
   "cell_type": "code",
   "execution_count": 50,
   "id": "cardiac-alcohol",
   "metadata": {
    "execution": {
     "iopub.execute_input": "2021-03-25T14:11:52.556842Z",
     "iopub.status.busy": "2021-03-25T14:11:52.555864Z",
     "iopub.status.idle": "2021-03-25T14:11:52.718288Z",
     "shell.execute_reply": "2021-03-25T14:11:52.716573Z"
    }
   },
   "outputs": [
    {
     "data": {
      "image/svg+xml": [
       "<?xml version=\"1.0\" encoding=\"UTF-8\" standalone=\"no\"?><svg xmlns=\"http://www.w3.org/2000/svg\" xmlns:xlink=\"http://www.w3.org/1999/xlink\" contentScriptType=\"application/ecmascript\" contentStyleType=\"text/css\" height=\"684px\" preserveAspectRatio=\"none\" style=\"width:518px;height:684px;\" version=\"1.1\" viewBox=\"0 0 518 684\" width=\"518px\" zoomAndPan=\"magnify\"><defs/><g><!--MD5=[fbc87193dbaf4d95561dea2c320d4a47]\n",
       "cluster E1--><a href=\"psysml:1b586630-6073-41f8-a31c-3b1021fd2d94\" target=\"_top\" title=\"psysml:1b586630-6073-41f8-a31c-3b1021fd2d94\" xlink:actuate=\"onRequest\" xlink:href=\"psysml:1b586630-6073-41f8-a31c-3b1021fd2d94\" xlink:show=\"new\" xlink:title=\"psysml:1b586630-6073-41f8-a31c-3b1021fd2d94\" xlink:type=\"simple\"><polygon fill=\"#FFFFFF\" points=\"16,6,107,6,114,28.2969,496,28.2969,496,672,16,672,16,6\" style=\"stroke: #000000; stroke-width: 1.5;\"/><line style=\"stroke: #000000; stroke-width: 1.5;\" x1=\"16\" x2=\"114\" y1=\"28.2969\" y2=\"28.2969\"/><text fill=\"#000000\" font-family=\"sans-serif\" font-size=\"14\" font-weight=\"bold\" lengthAdjust=\"spacingAndGlyphs\" textLength=\"85\" x=\"20\" y=\"20.9951\">ActionTest</text></a><!--MD5=[d5e69f78d87373223dbae638b30a9c99]\n",
       "cluster E3--><a href=\"psysml:63b3e978-ff90-4127-8639-9e6714fb0371\" target=\"_top\" title=\"psysml:63b3e978-ff90-4127-8639-9e6714fb0371\" xlink:actuate=\"onRequest\" xlink:href=\"psysml:63b3e978-ff90-4127-8639-9e6714fb0371\" xlink:show=\"new\" xlink:title=\"psysml:63b3e978-ff90-4127-8639-9e6714fb0371\" xlink:type=\"simple\"><rect fill=\"#FFFFFF\" height=\"599\" id=\"E3\" rx=\"10\" ry=\"10\" style=\"stroke: #383838; stroke-width: 1.5;\" width=\"209\" x=\"263\" y=\"49\"/><rect fill=\"#F8F8F8\" height=\"37.9375\" rx=\"10\" ry=\"10\" style=\"stroke: #F8F8F8; stroke-width: 1.5;\" width=\"209\" x=\"263\" y=\"49\"/><rect fill=\"#F8F8F8\" height=\"10\" style=\"stroke: #F8F8F8; stroke-width: 1.5;\" width=\"209\" x=\"263\" y=\"76.9375\"/><rect fill=\"none\" height=\"599\" id=\"E3\" rx=\"10\" ry=\"10\" style=\"stroke: #383838; stroke-width: 1.5;\" width=\"209\" x=\"263\" y=\"49\"/><text fill=\"#000000\" font-family=\"sans-serif\" font-size=\"12\" font-style=\"italic\" lengthAdjust=\"spacingAndGlyphs\" textLength=\"53\" x=\"341\" y=\"65.1387\">«action»</text><text fill=\"#000000\" font-family=\"sans-serif\" font-size=\"12\" lengthAdjust=\"spacingAndGlyphs\" textLength=\"8\" x=\"363.5\" y=\"79.1074\">a</text><line style=\"stroke: #383838; stroke-width: 1.0;\" x1=\"263\" x2=\"472\" y1=\"86.9375\" y2=\"86.9375\"/></a><!--MD5=[b4997ac47864f28c2f74865a473b2911]\n",
       "class E2--><a href=\"psysml:ec6ecfb2-58e1-4e93-a57f-7fba141d91de\" target=\"_top\" title=\"psysml:ec6ecfb2-58e1-4e93-a57f-7fba141d91de\" xlink:actuate=\"onRequest\" xlink:href=\"psysml:ec6ecfb2-58e1-4e93-a57f-7fba141d91de\" xlink:show=\"new\" xlink:title=\"psysml:ec6ecfb2-58e1-4e93-a57f-7fba141d91de\" xlink:type=\"simple\"><rect fill=\"#FFFFFF\" height=\"45.9375\" id=\"E2\" style=\"stroke: #383838; stroke-width: 1.5;\" width=\"95\" x=\"151.5\" y=\"87\"/><text fill=\"#000000\" font-family=\"sans-serif\" font-size=\"12\" font-style=\"italic\" lengthAdjust=\"spacingAndGlyphs\" textLength=\"93\" x=\"152.5\" y=\"103.1387\">«attribute def»</text><text fill=\"#000000\" font-family=\"sans-serif\" font-size=\"12\" lengthAdjust=\"spacingAndGlyphs\" textLength=\"8\" x=\"195\" y=\"117.1074\">S</text><line style=\"stroke: #383838; stroke-width: 1.5;\" x1=\"152.5\" x2=\"245.5\" y1=\"124.9375\" y2=\"124.9375\"/></a><polygon fill=\"#F8F8F8\" points=\"420,194,432,206,420,218,408,206,420,194\" style=\"stroke: #383838; stroke-width: 1.5;\"/><!--MD5=[21dd76c19d33815960c0e92fef8f0eef]\n",
       "entity E5--><a href=\"psysml:12477b88-d1e3-4069-a82c-9614e3ee7843\" target=\"_top\" title=\"psysml:12477b88-d1e3-4069-a82c-9614e3ee7843\" xlink:actuate=\"onRequest\" xlink:href=\"psysml:12477b88-d1e3-4069-a82c-9614e3ee7843\" xlink:show=\"new\" xlink:title=\"psysml:12477b88-d1e3-4069-a82c-9614e3ee7843\" xlink:type=\"simple\"><polygon fill=\"#F8F8F8\" points=\"279,279,279,333.5938,419,333.5938,399,306.2969,419,279\" style=\"stroke: #000000; stroke-width: 1.5;\"/><text fill=\"#000000\" font-family=\"sans-serif\" font-size=\"14\" font-style=\"italic\" lengthAdjust=\"spacingAndGlyphs\" textLength=\"111\" x=\"286\" y=\"301.9951\">«accept action»</text><text fill=\"#000000\" font-family=\"sans-serif\" font-size=\"14\" lengthAdjust=\"spacingAndGlyphs\" textLength=\"9\" x=\"337\" y=\"319.292\">S</text></a><!--MD5=[24d87cdf3002d433f401b2a2aa9f9f65]\n",
       "entity E6--><a href=\"psysml:18c53c10-a81a-4a73-8210-8be9c84ee198\" target=\"_top\" title=\"psysml:18c53c10-a81a-4a73-8210-8be9c84ee198\" xlink:actuate=\"onRequest\" xlink:href=\"psysml:18c53c10-a81a-4a73-8210-8be9c84ee198\" xlink:show=\"new\" xlink:title=\"psysml:18c53c10-a81a-4a73-8210-8be9c84ee198\" xlink:type=\"simple\"><polygon fill=\"#F8F8F8\" points=\"279,411,279,465.5938,387,465.5938,407,438.2969,387,411\" style=\"stroke: #000000; stroke-width: 1.5;\"/><text fill=\"#000000\" font-family=\"sans-serif\" font-size=\"14\" font-style=\"italic\" lengthAdjust=\"spacingAndGlyphs\" textLength=\"99\" x=\"286\" y=\"433.9951\">«send action»</text><text fill=\"#000000\" font-family=\"sans-serif\" font-size=\"14\" lengthAdjust=\"spacingAndGlyphs\" textLength=\"55\" x=\"308\" y=\"451.292\">S to  B()</text></a><polygon fill=\"#F8F8F8\" points=\"418,527,430,539,418,551,406,539,418,527\" style=\"stroke: #383838; stroke-width: 1.5;\"/><ellipse cx=\"420\" cy=\"110\" fill=\"#000000\" rx=\"10\" ry=\"10\" style=\"stroke: none; stroke-width: 1.0;\"/><ellipse cx=\"418\" cy=\"622\" fill=\"none\" rx=\"10\" ry=\"10\" style=\"stroke: #000000; stroke-width: 1.0;\"/><ellipse cx=\"418.5\" cy=\"622.5\" fill=\"#000000\" rx=\"6\" ry=\"6\" style=\"stroke: none; stroke-width: 1.0;\"/><g id=\"E1.E8\"><a href=\"psysml:a720c396-7a8e-4250-b133-b38e5d5b0a71\" target=\"_top\" title=\"psysml:a720c396-7a8e-4250-b133-b38e5d5b0a71\" xlink:actuate=\"onRequest\" xlink:href=\"psysml:a720c396-7a8e-4250-b133-b38e5d5b0a71\" xlink:show=\"new\" xlink:title=\"psysml:a720c396-7a8e-4250-b133-b38e5d5b0a71\" xlink:type=\"simple\"><rect fill=\"#FFFFFF\" height=\"42.9375\" id=\"E8\" style=\"stroke: #383838; stroke-width: 1.5;\" width=\"84\" x=\"32\" y=\"88.5\"/><rect fill=\"#F8F8F8\" height=\"37.9375\" style=\"stroke: #383838; stroke-width: 1.5;\" width=\"84\" x=\"32\" y=\"88.5\"/><text fill=\"#000000\" font-family=\"sans-serif\" font-size=\"12\" font-style=\"italic\" lengthAdjust=\"spacingAndGlyphs\" textLength=\"77\" x=\"35.5\" y=\"104.6387\">«action def»</text><text fill=\"#000000\" font-family=\"sans-serif\" font-size=\"12\" lengthAdjust=\"spacingAndGlyphs\" textLength=\"8\" x=\"70\" y=\"118.6074\">B</text></a></g><!--MD5=[f47e10efcf9a6752d55dae986d790ed9]\n",
       "link *start*E3 to E4--><a href=\"psysml:3eb4ae89-c3fe-4a5c-9996-6c16dc90e291\" target=\"_top\" title=\"psysml:3eb4ae89-c3fe-4a5c-9996-6c16dc90e291\" xlink:actuate=\"onRequest\" xlink:href=\"psysml:3eb4ae89-c3fe-4a5c-9996-6c16dc90e291\" xlink:show=\"new\" xlink:title=\"psysml:3eb4ae89-c3fe-4a5c-9996-6c16dc90e291\" xlink:type=\"simple\"><path d=\"M420,120.01 C420,135.81 420,168.69 420,188.61 \" fill=\"none\" id=\"*start*E3-&gt;E4\" style=\"stroke: #383838; stroke-width: 1.0;\"/><polygon fill=\"#383838\" points=\"420,193.85,424,184.85,420,188.85,416,184.85,420,193.85\" style=\"stroke: #383838; stroke-width: 1.0;\"/></a><!--MD5=[d19f2eb34364d71b67042106d92f540b]\n",
       "link E7 to *end*E3--><a href=\"psysml:529019b4-f7b3-445e-a809-123fd999bfb3\" target=\"_top\" title=\"psysml:529019b4-f7b3-445e-a809-123fd999bfb3\" xlink:actuate=\"onRequest\" xlink:href=\"psysml:529019b4-f7b3-445e-a809-123fd999bfb3\" xlink:show=\"new\" xlink:title=\"psysml:529019b4-f7b3-445e-a809-123fd999bfb3\" xlink:type=\"simple\"><path d=\"M418,551.26 C418,565.66 418,590.63 418,606.46 \" fill=\"none\" id=\"E7-&gt;*end*E3\" style=\"stroke: #383838; stroke-width: 1.0;\"/><polygon fill=\"#383838\" points=\"418,611.84,422,602.84,418,606.84,414,602.84,418,611.84\" style=\"stroke: #383838; stroke-width: 1.0;\"/></a><!--MD5=[1b7591eae5389033d8d09a9d6721a717]\n",
       "link E4 to E5--><a href=\"psysml:252a1c6c-cc00-403d-ac29-1241d1eee0ca\" target=\"_top\" title=\"psysml:252a1c6c-cc00-403d-ac29-1241d1eee0ca\" xlink:actuate=\"onRequest\" xlink:href=\"psysml:252a1c6c-cc00-403d-ac29-1241d1eee0ca\" xlink:show=\"new\" xlink:title=\"psysml:252a1c6c-cc00-403d-ac29-1241d1eee0ca\" xlink:type=\"simple\"><path d=\"M415.34,213.46 C406.55,225.66 386.99,252.8 371.37,274.46 \" fill=\"none\" id=\"E4-&gt;E5\" style=\"stroke: #383838; stroke-width: 1.0;\"/><polygon fill=\"#383838\" points=\"368.31,278.71,376.8093,273.7339,371.227,274.6491,370.3119,269.0667,368.31,278.71\" style=\"stroke: #383838; stroke-width: 1.0;\"/></a><!--MD5=[9120cf2e5df3bff93db8f754bbbc09b4]\n",
       "link E5 to E6--><a href=\"psysml:52dd995d-9028-4157-9334-98b87c98e4ca\" target=\"_top\" title=\"psysml:52dd995d-9028-4157-9334-98b87c98e4ca\" xlink:actuate=\"onRequest\" xlink:href=\"psysml:52dd995d-9028-4157-9334-98b87c98e4ca\" xlink:show=\"new\" xlink:title=\"psysml:52dd995d-9028-4157-9334-98b87c98e4ca\" xlink:type=\"simple\"><path d=\"M347.77,334.12 C346.81,354.89 345.48,383.8 344.46,405.77 \" fill=\"none\" id=\"E5-&gt;E6\" style=\"stroke: #383838; stroke-width: 1.0;\"/><polygon fill=\"#383838\" points=\"344.23,410.91,348.6368,402.1021,344.4583,405.9152,340.6452,401.7367,344.23,410.91\" style=\"stroke: #383838; stroke-width: 1.0;\"/></a><!--MD5=[02c70b7c851c11e3980e4e90450dc5dd]\n",
       "link E6 to E7--><a href=\"psysml:11c1c086-8dd9-4b00-9ab5-dcf0da9e4b0f\" target=\"_top\" title=\"psysml:11c1c086-8dd9-4b00-9ab5-dcf0da9e4b0f\" xlink:actuate=\"onRequest\" xlink:href=\"psysml:11c1c086-8dd9-4b00-9ab5-dcf0da9e4b0f\" xlink:show=\"new\" xlink:title=\"psysml:11c1c086-8dd9-4b00-9ab5-dcf0da9e4b0f\" xlink:type=\"simple\"><path d=\"M363.3,466.16 C378.71,486.4 399.07,513.14 410.09,527.61 \" fill=\"none\" id=\"E6-&gt;E7\" style=\"stroke: #383838; stroke-width: 1.0;\"/><polygon fill=\"#383838\" points=\"413.2,531.69,410.9398,522.104,410.1749,527.7089,404.57,526.9441,413.2,531.69\" style=\"stroke: #383838; stroke-width: 1.0;\"/></a><!--MD5=[6bdd27f9905911a7e892a3dc65cf6b7c]\n",
       "link E7 to E4--><a href=\"psysml:9dbcc968-b81d-4000-b2fb-dcd38ad7dec8\" target=\"_top\" title=\"psysml:9dbcc968-b81d-4000-b2fb-dcd38ad7dec8\" xlink:actuate=\"onRequest\" xlink:href=\"psysml:9dbcc968-b81d-4000-b2fb-dcd38ad7dec8\" xlink:show=\"new\" xlink:title=\"psysml:9dbcc968-b81d-4000-b2fb-dcd38ad7dec8\" xlink:type=\"simple\"><path d=\"M419.98,528.56 C426.8,494.71 448.32,376.18 437,279 C434.59,258.32 428.42,234.96 424.21,220.61 \" fill=\"none\" id=\"E7-&gt;E4\" style=\"stroke: #383838; stroke-width: 1.0;\"/><polygon fill=\"#383838\" points=\"422.76,215.75,421.4935,225.5171,424.1863,220.5423,429.1611,223.2351,422.76,215.75\" style=\"stroke: #383838; stroke-width: 1.0;\"/><text fill=\"#000000\" font-family=\"sans-serif\" font-size=\"13\" lengthAdjust=\"spacingAndGlyphs\" textLength=\"36\" x=\"440\" y=\"377.0669\">[true]</text></a><!--MD5=[355141e92f54aa6ea8b06065ec5fa295]\n",
       "@startuml\r\n",
       "top to bottom direction\r\n",
       "skinparam monochrome true\r\n",
       "skinparam classbackgroundcolor white\r\n",
       "skinparam shadowing false\r\n",
       "skinparam wrapWidth 300\r\n",
       "hide circle\r\n",
       "\r\n",
       "package \"ActionTest\" as E1  [[psysml:1b586630-6073-41f8-a31c-3b1021fd2d94 ]]  {\r\n",
       "comp def \"S\" as E2  <<(T,blue)attribute def>> [[psysml:ec6ecfb2-58e1-4e93-a57f-7fba141d91de ]] {\r\n",
       "}\r\n",
       "rec usage \"a\" as E3  <<(T,blue)action>> [[psysml:63b3e978-ff90-4127-8639-9e6714fb0371 ]] {\r\n",
       "choice \"m\" as E4  [[psysml:3c09e5e0-87ee-487d-a94c-d1481b887cf0 ]] \r\n",
       "accept \" S\" as E5 <<accept action>> [[psysml:12477b88-d1e3-4069-a82c-9614e3ee7843 ]] \r\n",
       "send \" S to  B()\" as E6 <<send action>> [[psysml:18c53c10-a81a-4a73-8210-8be9c84ee198 ]] \r\n",
       "choice \"noname\" as E7  [[psysml:e28bc343-f228-4c60-afee-7deafa85ddc3 ]] \r\n",
       "[*] - -> E4 [[psysml:3eb4ae89-c3fe-4a5c-9996-6c16dc90e291 ]] \r\n",
       "E7  - -> [*] [[psysml:529019b4-f7b3-445e-a809-123fd999bfb3 ]] \r\n",
       "}\r\n",
       "\r\n",
       "rec def \"B\" as E8  <<(T,blue)action def>> [[psysml:a720c396-7a8e-4250-b133-b38e5d5b0a71 ]] {\r\n",
       "}\r\n",
       "\r\n",
       "E4 - -> E5 [[psysml:252a1c6c-cc00-403d-ac29-1241d1eee0ca ]] \r\n",
       "E5 - -> E6 [[psysml:52dd995d-9028-4157-9334-98b87c98e4ca ]] \r\n",
       "E6 - -> E7 [[psysml:11c1c086-8dd9-4b00-9ab5-dcf0da9e4b0f ]] \r\n",
       "E7  - -> E4 [[psysml:9dbcc968-b81d-4000-b2fb-dcd38ad7dec8 ]] : [true]\r\n",
       "}\r\n",
       "@enduml\r\n",
       "\n",
       "PlantUML version 1.2020.13(Sat Jun 13 12:26:38 UTC 2020)\n",
       "(EPL source distribution)\n",
       "Java Runtime: OpenJDK Runtime Environment\n",
       "JVM: OpenJDK 64-Bit Server VM\n",
       "Default Encoding: UTF-8\n",
       "Language: en\n",
       "Country: null\n",
       "--></g></svg>"
      ]
     },
     "execution_count": 50,
     "metadata": {},
     "output_type": "execute_result"
    }
   ],
   "source": [
    "%viz --style=\"TB\" --view=\"MIXED\" \"ActionTest\""
   ]
  },
  {
   "cell_type": "code",
   "execution_count": 51,
   "id": "separate-edmonton",
   "metadata": {
    "execution": {
     "iopub.execute_input": "2021-03-25T14:11:52.769660Z",
     "iopub.status.busy": "2021-03-25T14:11:52.768685Z",
     "iopub.status.idle": "2021-03-25T14:11:52.926911Z",
     "shell.execute_reply": "2021-03-25T14:11:52.924752Z"
    }
   },
   "outputs": [
    {
     "data": {
      "image/svg+xml": [
       "<?xml version=\"1.0\" encoding=\"UTF-8\" standalone=\"no\"?><svg xmlns=\"http://www.w3.org/2000/svg\" xmlns:xlink=\"http://www.w3.org/1999/xlink\" contentScriptType=\"application/ecmascript\" contentStyleType=\"text/css\" height=\"684px\" preserveAspectRatio=\"none\" style=\"width:518px;height:684px;\" version=\"1.1\" viewBox=\"0 0 518 684\" width=\"518px\" zoomAndPan=\"magnify\"><defs/><g><!--MD5=[fbc87193dbaf4d95561dea2c320d4a47]\n",
       "cluster E1--><a href=\"psysml:1b586630-6073-41f8-a31c-3b1021fd2d94\" target=\"_top\" title=\"psysml:1b586630-6073-41f8-a31c-3b1021fd2d94\" xlink:actuate=\"onRequest\" xlink:href=\"psysml:1b586630-6073-41f8-a31c-3b1021fd2d94\" xlink:show=\"new\" xlink:title=\"psysml:1b586630-6073-41f8-a31c-3b1021fd2d94\" xlink:type=\"simple\"><polygon fill=\"#FFFFFF\" points=\"16,6,107,6,114,28.2969,496,28.2969,496,672,16,672,16,6\" style=\"stroke: #000000; stroke-width: 1.5;\"/><line style=\"stroke: #000000; stroke-width: 1.5;\" x1=\"16\" x2=\"114\" y1=\"28.2969\" y2=\"28.2969\"/><text fill=\"#000000\" font-family=\"sans-serif\" font-size=\"14\" font-weight=\"bold\" lengthAdjust=\"spacingAndGlyphs\" textLength=\"85\" x=\"20\" y=\"20.9951\">ActionTest</text></a><!--MD5=[d5e69f78d87373223dbae638b30a9c99]\n",
       "cluster E3--><a href=\"psysml:63b3e978-ff90-4127-8639-9e6714fb0371\" target=\"_top\" title=\"psysml:63b3e978-ff90-4127-8639-9e6714fb0371\" xlink:actuate=\"onRequest\" xlink:href=\"psysml:63b3e978-ff90-4127-8639-9e6714fb0371\" xlink:show=\"new\" xlink:title=\"psysml:63b3e978-ff90-4127-8639-9e6714fb0371\" xlink:type=\"simple\"><rect fill=\"#FFFFFF\" height=\"599\" id=\"E3\" rx=\"10\" ry=\"10\" style=\"stroke: #383838; stroke-width: 1.5;\" width=\"209\" x=\"263\" y=\"49\"/><rect fill=\"#F8F8F8\" height=\"37.9375\" rx=\"10\" ry=\"10\" style=\"stroke: #F8F8F8; stroke-width: 1.5;\" width=\"209\" x=\"263\" y=\"49\"/><rect fill=\"#F8F8F8\" height=\"10\" style=\"stroke: #F8F8F8; stroke-width: 1.5;\" width=\"209\" x=\"263\" y=\"76.9375\"/><rect fill=\"none\" height=\"599\" id=\"E3\" rx=\"10\" ry=\"10\" style=\"stroke: #383838; stroke-width: 1.5;\" width=\"209\" x=\"263\" y=\"49\"/><text fill=\"#000000\" font-family=\"sans-serif\" font-size=\"12\" font-style=\"italic\" lengthAdjust=\"spacingAndGlyphs\" textLength=\"53\" x=\"341\" y=\"65.1387\">«action»</text><text fill=\"#000000\" font-family=\"sans-serif\" font-size=\"12\" lengthAdjust=\"spacingAndGlyphs\" textLength=\"8\" x=\"363.5\" y=\"79.1074\">a</text><line style=\"stroke: #383838; stroke-width: 1.0;\" x1=\"263\" x2=\"472\" y1=\"86.9375\" y2=\"86.9375\"/></a><!--MD5=[b4997ac47864f28c2f74865a473b2911]\n",
       "class E2--><a href=\"psysml:ec6ecfb2-58e1-4e93-a57f-7fba141d91de\" target=\"_top\" title=\"psysml:ec6ecfb2-58e1-4e93-a57f-7fba141d91de\" xlink:actuate=\"onRequest\" xlink:href=\"psysml:ec6ecfb2-58e1-4e93-a57f-7fba141d91de\" xlink:show=\"new\" xlink:title=\"psysml:ec6ecfb2-58e1-4e93-a57f-7fba141d91de\" xlink:type=\"simple\"><rect fill=\"#FFFFFF\" height=\"45.9375\" id=\"E2\" style=\"stroke: #383838; stroke-width: 1.5;\" width=\"95\" x=\"151.5\" y=\"87\"/><text fill=\"#000000\" font-family=\"sans-serif\" font-size=\"12\" font-style=\"italic\" lengthAdjust=\"spacingAndGlyphs\" textLength=\"93\" x=\"152.5\" y=\"103.1387\">«attribute def»</text><text fill=\"#000000\" font-family=\"sans-serif\" font-size=\"12\" lengthAdjust=\"spacingAndGlyphs\" textLength=\"8\" x=\"195\" y=\"117.1074\">S</text><line style=\"stroke: #383838; stroke-width: 1.5;\" x1=\"152.5\" x2=\"245.5\" y1=\"124.9375\" y2=\"124.9375\"/></a><polygon fill=\"#F8F8F8\" points=\"420,194,432,206,420,218,408,206,420,194\" style=\"stroke: #383838; stroke-width: 1.5;\"/><!--MD5=[21dd76c19d33815960c0e92fef8f0eef]\n",
       "entity E5--><a href=\"psysml:12477b88-d1e3-4069-a82c-9614e3ee7843\" target=\"_top\" title=\"psysml:12477b88-d1e3-4069-a82c-9614e3ee7843\" xlink:actuate=\"onRequest\" xlink:href=\"psysml:12477b88-d1e3-4069-a82c-9614e3ee7843\" xlink:show=\"new\" xlink:title=\"psysml:12477b88-d1e3-4069-a82c-9614e3ee7843\" xlink:type=\"simple\"><polygon fill=\"#F8F8F8\" points=\"279,279,279,333.5938,419,333.5938,399,306.2969,419,279\" style=\"stroke: #000000; stroke-width: 1.5;\"/><text fill=\"#000000\" font-family=\"sans-serif\" font-size=\"14\" font-style=\"italic\" lengthAdjust=\"spacingAndGlyphs\" textLength=\"111\" x=\"286\" y=\"301.9951\">«accept action»</text><text fill=\"#000000\" font-family=\"sans-serif\" font-size=\"14\" lengthAdjust=\"spacingAndGlyphs\" textLength=\"9\" x=\"337\" y=\"319.292\">S</text></a><!--MD5=[24d87cdf3002d433f401b2a2aa9f9f65]\n",
       "entity E6--><a href=\"psysml:18c53c10-a81a-4a73-8210-8be9c84ee198\" target=\"_top\" title=\"psysml:18c53c10-a81a-4a73-8210-8be9c84ee198\" xlink:actuate=\"onRequest\" xlink:href=\"psysml:18c53c10-a81a-4a73-8210-8be9c84ee198\" xlink:show=\"new\" xlink:title=\"psysml:18c53c10-a81a-4a73-8210-8be9c84ee198\" xlink:type=\"simple\"><polygon fill=\"#F8F8F8\" points=\"279,411,279,465.5938,387,465.5938,407,438.2969,387,411\" style=\"stroke: #000000; stroke-width: 1.5;\"/><text fill=\"#000000\" font-family=\"sans-serif\" font-size=\"14\" font-style=\"italic\" lengthAdjust=\"spacingAndGlyphs\" textLength=\"99\" x=\"286\" y=\"433.9951\">«send action»</text><text fill=\"#000000\" font-family=\"sans-serif\" font-size=\"14\" lengthAdjust=\"spacingAndGlyphs\" textLength=\"55\" x=\"308\" y=\"451.292\">S to  B()</text></a><polygon fill=\"#F8F8F8\" points=\"418,527,430,539,418,551,406,539,418,527\" style=\"stroke: #383838; stroke-width: 1.5;\"/><ellipse cx=\"420\" cy=\"110\" fill=\"#000000\" rx=\"10\" ry=\"10\" style=\"stroke: none; stroke-width: 1.0;\"/><ellipse cx=\"418\" cy=\"622\" fill=\"none\" rx=\"10\" ry=\"10\" style=\"stroke: #000000; stroke-width: 1.0;\"/><ellipse cx=\"418.5\" cy=\"622.5\" fill=\"#000000\" rx=\"6\" ry=\"6\" style=\"stroke: none; stroke-width: 1.0;\"/><g id=\"E1.E8\"><a href=\"psysml:a720c396-7a8e-4250-b133-b38e5d5b0a71\" target=\"_top\" title=\"psysml:a720c396-7a8e-4250-b133-b38e5d5b0a71\" xlink:actuate=\"onRequest\" xlink:href=\"psysml:a720c396-7a8e-4250-b133-b38e5d5b0a71\" xlink:show=\"new\" xlink:title=\"psysml:a720c396-7a8e-4250-b133-b38e5d5b0a71\" xlink:type=\"simple\"><rect fill=\"#FFFFFF\" height=\"42.9375\" id=\"E8\" style=\"stroke: #383838; stroke-width: 1.5;\" width=\"84\" x=\"32\" y=\"88.5\"/><rect fill=\"#F8F8F8\" height=\"37.9375\" style=\"stroke: #383838; stroke-width: 1.5;\" width=\"84\" x=\"32\" y=\"88.5\"/><text fill=\"#000000\" font-family=\"sans-serif\" font-size=\"12\" font-style=\"italic\" lengthAdjust=\"spacingAndGlyphs\" textLength=\"77\" x=\"35.5\" y=\"104.6387\">«action def»</text><text fill=\"#000000\" font-family=\"sans-serif\" font-size=\"12\" lengthAdjust=\"spacingAndGlyphs\" textLength=\"8\" x=\"70\" y=\"118.6074\">B</text></a></g><!--MD5=[f47e10efcf9a6752d55dae986d790ed9]\n",
       "link *start*E3 to E4--><a href=\"psysml:3eb4ae89-c3fe-4a5c-9996-6c16dc90e291\" target=\"_top\" title=\"psysml:3eb4ae89-c3fe-4a5c-9996-6c16dc90e291\" xlink:actuate=\"onRequest\" xlink:href=\"psysml:3eb4ae89-c3fe-4a5c-9996-6c16dc90e291\" xlink:show=\"new\" xlink:title=\"psysml:3eb4ae89-c3fe-4a5c-9996-6c16dc90e291\" xlink:type=\"simple\"><path d=\"M420,120.27 C420,120.27 420,188.7 420,188.7 \" fill=\"none\" id=\"*start*E3-&gt;E4\" style=\"stroke: #383838; stroke-width: 1.0;\"/><polygon fill=\"#383838\" points=\"420,193.7,424,184.7,420,188.7,416,184.7,420,193.7\" style=\"stroke: #383838; stroke-width: 1.0;\"/></a><!--MD5=[d19f2eb34364d71b67042106d92f540b]\n",
       "link E7 to *end*E3--><a href=\"psysml:529019b4-f7b3-445e-a809-123fd999bfb3\" target=\"_top\" title=\"psysml:529019b4-f7b3-445e-a809-123fd999bfb3\" xlink:actuate=\"onRequest\" xlink:href=\"psysml:529019b4-f7b3-445e-a809-123fd999bfb3\" xlink:show=\"new\" xlink:title=\"psysml:529019b4-f7b3-445e-a809-123fd999bfb3\" xlink:type=\"simple\"><path d=\"M418,551.25 C418,551.25 418,606.8 418,606.8 \" fill=\"none\" id=\"E7-&gt;*end*E3\" style=\"stroke: #383838; stroke-width: 1.0;\"/><polygon fill=\"#383838\" points=\"418,611.8,422,602.8,418,606.8,414,602.8,418,611.8\" style=\"stroke: #383838; stroke-width: 1.0;\"/></a><!--MD5=[1b7591eae5389033d8d09a9d6721a717]\n",
       "link E4 to E5--><a href=\"psysml:252a1c6c-cc00-403d-ac29-1241d1eee0ca\" target=\"_top\" title=\"psysml:252a1c6c-cc00-403d-ac29-1241d1eee0ca\" xlink:actuate=\"onRequest\" xlink:href=\"psysml:252a1c6c-cc00-403d-ac29-1241d1eee0ca\" xlink:show=\"new\" xlink:title=\"psysml:252a1c6c-cc00-403d-ac29-1241d1eee0ca\" xlink:type=\"simple\"><path d=\"M413.5,211.69 C413.5,211.69 413.5,273.98 413.5,273.98 \" fill=\"none\" id=\"E4-&gt;E5\" style=\"stroke: #383838; stroke-width: 1.0;\"/><polygon fill=\"#383838\" points=\"413.5,278.98,417.5,269.98,413.5,273.98,409.5,269.98,413.5,278.98\" style=\"stroke: #383838; stroke-width: 1.0;\"/></a><!--MD5=[9120cf2e5df3bff93db8f754bbbc09b4]\n",
       "link E5 to E6--><a href=\"psysml:52dd995d-9028-4157-9334-98b87c98e4ca\" target=\"_top\" title=\"psysml:52dd995d-9028-4157-9334-98b87c98e4ca\" xlink:actuate=\"onRequest\" xlink:href=\"psysml:52dd995d-9028-4157-9334-98b87c98e4ca\" xlink:show=\"new\" xlink:title=\"psysml:52dd995d-9028-4157-9334-98b87c98e4ca\" xlink:type=\"simple\"><path d=\"M343,334.17 C343,334.17 343,405.86 343,405.86 \" fill=\"none\" id=\"E5-&gt;E6\" style=\"stroke: #383838; stroke-width: 1.0;\"/><polygon fill=\"#383838\" points=\"343,410.86,347,401.86,343,405.86,339,401.86,343,410.86\" style=\"stroke: #383838; stroke-width: 1.0;\"/></a><!--MD5=[02c70b7c851c11e3980e4e90450dc5dd]\n",
       "link E6 to E7--><a href=\"psysml:11c1c086-8dd9-4b00-9ab5-dcf0da9e4b0f\" target=\"_top\" title=\"psysml:11c1c086-8dd9-4b00-9ab5-dcf0da9e4b0f\" xlink:actuate=\"onRequest\" xlink:href=\"psysml:11c1c086-8dd9-4b00-9ab5-dcf0da9e4b0f\" xlink:show=\"new\" xlink:title=\"psysml:11c1c086-8dd9-4b00-9ab5-dcf0da9e4b0f\" xlink:type=\"simple\"><path d=\"M407.03,439 C410.74,439 413,439 413,439 C413,439 413,526.81 413,526.81 \" fill=\"none\" id=\"E6-&gt;E7\" style=\"stroke: #383838; stroke-width: 1.0;\"/><polygon fill=\"#383838\" points=\"413,531.81,417,522.81,413,526.81,409,522.81,413,531.81\" style=\"stroke: #383838; stroke-width: 1.0;\"/></a><!--MD5=[6bdd27f9905911a7e892a3dc65cf6b7c]\n",
       "link E7 to E4--><a href=\"psysml:9dbcc968-b81d-4000-b2fb-dcd38ad7dec8\" target=\"_top\" title=\"psysml:9dbcc968-b81d-4000-b2fb-dcd38ad7dec8\" xlink:actuate=\"onRequest\" xlink:href=\"psysml:9dbcc968-b81d-4000-b2fb-dcd38ad7dec8\" xlink:show=\"new\" xlink:title=\"psysml:9dbcc968-b81d-4000-b2fb-dcd38ad7dec8\" xlink:type=\"simple\"><path d=\"M424.5,533.5 C424.5,533.5 424.5,218.64 424.5,218.64 \" fill=\"none\" id=\"E7-&gt;E4\" style=\"stroke: #383838; stroke-width: 1.0;\"/><polygon fill=\"#383838\" points=\"424.5,213.64,420.5,222.64,424.5,218.64,428.5,222.64,424.5,213.64\" style=\"stroke: #383838; stroke-width: 1.0;\"/><text fill=\"#000000\" font-family=\"sans-serif\" font-size=\"13\" lengthAdjust=\"spacingAndGlyphs\" textLength=\"36\" x=\"419\" y=\"377.0669\">[true]</text></a><!--MD5=[aaa28067184c0751c16fab1bc613a67d]\n",
       "@startuml\r\n",
       "skinparam linetype ortho\r\n",
       "skinparam monochrome true\r\n",
       "skinparam classbackgroundcolor white\r\n",
       "skinparam shadowing false\r\n",
       "skinparam wrapWidth 300\r\n",
       "hide circle\r\n",
       "\r\n",
       "package \"ActionTest\" as E1  [[psysml:1b586630-6073-41f8-a31c-3b1021fd2d94 ]]  {\r\n",
       "comp def \"S\" as E2  <<(T,blue)attribute def>> [[psysml:ec6ecfb2-58e1-4e93-a57f-7fba141d91de ]] {\r\n",
       "}\r\n",
       "rec usage \"a\" as E3  <<(T,blue)action>> [[psysml:63b3e978-ff90-4127-8639-9e6714fb0371 ]] {\r\n",
       "choice \"m\" as E4  [[psysml:3c09e5e0-87ee-487d-a94c-d1481b887cf0 ]] \r\n",
       "accept \" S\" as E5 <<accept action>> [[psysml:12477b88-d1e3-4069-a82c-9614e3ee7843 ]] \r\n",
       "send \" S to  B()\" as E6 <<send action>> [[psysml:18c53c10-a81a-4a73-8210-8be9c84ee198 ]] \r\n",
       "choice \"noname\" as E7  [[psysml:e28bc343-f228-4c60-afee-7deafa85ddc3 ]] \r\n",
       "[*] - -> E4 [[psysml:3eb4ae89-c3fe-4a5c-9996-6c16dc90e291 ]] \r\n",
       "E7  - -> [*] [[psysml:529019b4-f7b3-445e-a809-123fd999bfb3 ]] \r\n",
       "}\r\n",
       "\r\n",
       "rec def \"B\" as E8  <<(T,blue)action def>> [[psysml:a720c396-7a8e-4250-b133-b38e5d5b0a71 ]] {\r\n",
       "}\r\n",
       "\r\n",
       "E4 - -> E5 [[psysml:252a1c6c-cc00-403d-ac29-1241d1eee0ca ]] \r\n",
       "E5 - -> E6 [[psysml:52dd995d-9028-4157-9334-98b87c98e4ca ]] \r\n",
       "E6 - -> E7 [[psysml:11c1c086-8dd9-4b00-9ab5-dcf0da9e4b0f ]] \r\n",
       "E7  - -> E4 [[psysml:9dbcc968-b81d-4000-b2fb-dcd38ad7dec8 ]] : [true]\r\n",
       "}\r\n",
       "@enduml\r\n",
       "\n",
       "PlantUML version 1.2020.13(Sat Jun 13 12:26:38 UTC 2020)\n",
       "(EPL source distribution)\n",
       "Java Runtime: OpenJDK Runtime Environment\n",
       "JVM: OpenJDK 64-Bit Server VM\n",
       "Default Encoding: UTF-8\n",
       "Language: en\n",
       "Country: null\n",
       "--></g></svg>"
      ]
     },
     "execution_count": 51,
     "metadata": {},
     "output_type": "execute_result"
    }
   ],
   "source": [
    "%viz --style=\"ORTHOLINE\" --view=\"Default\" \"ActionTest\""
   ]
  },
  {
   "cell_type": "code",
   "execution_count": 52,
   "id": "marked-egyptian",
   "metadata": {
    "execution": {
     "iopub.execute_input": "2021-03-25T14:11:52.978825Z",
     "iopub.status.busy": "2021-03-25T14:11:52.977875Z",
     "iopub.status.idle": "2021-03-25T14:11:53.661957Z",
     "shell.execute_reply": "2021-03-25T14:11:53.660396Z"
    }
   },
   "outputs": [
    {
     "data": {
      "image/svg+xml": [
       "<?xml version=\"1.0\" encoding=\"UTF-8\" standalone=\"no\"?><svg xmlns=\"http://www.w3.org/2000/svg\" xmlns:xlink=\"http://www.w3.org/1999/xlink\" contentScriptType=\"application/ecmascript\" contentStyleType=\"text/css\" height=\"187px\" preserveAspectRatio=\"none\" style=\"width:475px;height:187px;\" version=\"1.1\" viewBox=\"0 0 475 187\" width=\"475px\" zoomAndPan=\"magnify\"><defs/><g><!--MD5=[fbc87193dbaf4d95561dea2c320d4a47]\n",
       "cluster E1--><a href=\"psysml:1b586630-6073-41f8-a31c-3b1021fd2d94\" target=\"_top\" title=\"psysml:1b586630-6073-41f8-a31c-3b1021fd2d94\" xlink:actuate=\"onRequest\" xlink:href=\"psysml:1b586630-6073-41f8-a31c-3b1021fd2d94\" xlink:show=\"new\" xlink:title=\"psysml:1b586630-6073-41f8-a31c-3b1021fd2d94\" xlink:type=\"simple\"><polygon fill=\"#FFFFFF\" points=\"16,6,107,6,114,28.2969,453,28.2969,453,175,16,175,16,6\" style=\"stroke: #000000; stroke-width: 1.5;\"/><line style=\"stroke: #000000; stroke-width: 1.5;\" x1=\"16\" x2=\"114\" y1=\"28.2969\" y2=\"28.2969\"/><text fill=\"#000000\" font-family=\"sans-serif\" font-size=\"14\" font-weight=\"bold\" lengthAdjust=\"spacingAndGlyphs\" textLength=\"85\" x=\"20\" y=\"20.9951\">ActionTest</text></a><!--MD5=[b4997ac47864f28c2f74865a473b2911]\n",
       "class E2--><a href=\"psysml:ec6ecfb2-58e1-4e93-a57f-7fba141d91de\" target=\"_top\" title=\"psysml:ec6ecfb2-58e1-4e93-a57f-7fba141d91de\" xlink:actuate=\"onRequest\" xlink:href=\"psysml:ec6ecfb2-58e1-4e93-a57f-7fba141d91de\" xlink:show=\"new\" xlink:title=\"psysml:ec6ecfb2-58e1-4e93-a57f-7fba141d91de\" xlink:type=\"simple\"><rect fill=\"#FFFFFF\" height=\"45.9375\" id=\"E2\" style=\"stroke: #383838; stroke-width: 1.5;\" width=\"95\" x=\"341.5\" y=\"77\"/><text fill=\"#000000\" font-family=\"sans-serif\" font-size=\"12\" font-style=\"italic\" lengthAdjust=\"spacingAndGlyphs\" textLength=\"93\" x=\"342.5\" y=\"93.1387\">«attribute def»</text><text fill=\"#000000\" font-family=\"sans-serif\" font-size=\"12\" lengthAdjust=\"spacingAndGlyphs\" textLength=\"8\" x=\"385\" y=\"107.1074\">S</text><line style=\"stroke: #383838; stroke-width: 1.5;\" x1=\"342.5\" x2=\"435.5\" y1=\"114.9375\" y2=\"114.9375\"/></a><!--MD5=[09b614a08d8cba4a07c9adeb5e0fee81]\n",
       "class E3--><a href=\"psysml:63b3e978-ff90-4127-8639-9e6714fb0371\" target=\"_top\" title=\"psysml:63b3e978-ff90-4127-8639-9e6714fb0371\" xlink:actuate=\"onRequest\" xlink:href=\"psysml:63b3e978-ff90-4127-8639-9e6714fb0371\" xlink:show=\"new\" xlink:title=\"psysml:63b3e978-ff90-4127-8639-9e6714fb0371\" xlink:type=\"simple\"><rect fill=\"#FFFFFF\" height=\"117.9609\" id=\"E3\" rx=\"10\" ry=\"10\" style=\"stroke: #383838; stroke-width: 1.5;\" width=\"160\" x=\"146\" y=\"41\"/><text fill=\"#000000\" font-family=\"sans-serif\" font-size=\"12\" font-style=\"italic\" lengthAdjust=\"spacingAndGlyphs\" textLength=\"53\" x=\"199.5\" y=\"57.1387\">«action»</text><text fill=\"#000000\" font-family=\"sans-serif\" font-size=\"12\" lengthAdjust=\"spacingAndGlyphs\" textLength=\"8\" x=\"222\" y=\"71.1074\">a</text><line style=\"stroke: #383838; stroke-width: 1.5;\" x1=\"147\" x2=\"305\" y1=\"78.9375\" y2=\"78.9375\"/><text fill=\"#000000\" font-family=\"sans-serif\" font-size=\"11\" lengthAdjust=\"spacingAndGlyphs\" textLength=\"69\" x=\"152\" y=\"109.9526\">start: Action</text><text fill=\"#000000\" font-family=\"sans-serif\" font-size=\"11\" font-style=\"italic\" lengthAdjust=\"spacingAndGlyphs\" textLength=\"148\" x=\"152\" y=\"122.7573\">:&gt;&gt;Occurrence::startShot</text><line style=\"stroke: #383838; stroke-width: 1.0;\" x1=\"147\" x2=\"205.5\" y1=\"93.3398\" y2=\"93.3398\"/><text fill=\"#000000\" font-family=\"sans-serif\" font-size=\"11\" lengthAdjust=\"spacingAndGlyphs\" textLength=\"41\" x=\"205.5\" y=\"96.6479\">actions</text><line style=\"stroke: #383838; stroke-width: 1.0;\" x1=\"246.5\" x2=\"305\" y1=\"93.3398\" y2=\"93.3398\"/><text fill=\"#000000\" font-family=\"sans-serif\" font-size=\"11\" lengthAdjust=\"spacingAndGlyphs\" textLength=\"11\" x=\"152\" y=\"152.3667\">m</text><line style=\"stroke: #383838; stroke-width: 1.0;\" x1=\"147\" x2=\"189.5\" y1=\"135.7539\" y2=\"135.7539\"/><text fill=\"#000000\" font-family=\"sans-serif\" font-size=\"11\" lengthAdjust=\"spacingAndGlyphs\" textLength=\"73\" x=\"189.5\" y=\"139.062\">mergeNodes</text><line style=\"stroke: #383838; stroke-width: 1.0;\" x1=\"262.5\" x2=\"305\" y1=\"135.7539\" y2=\"135.7539\"/></a><!--MD5=[60a26617385b1d2d0262a64233df1f8d]\n",
       "class E6--><a href=\"psysml:a720c396-7a8e-4250-b133-b38e5d5b0a71\" target=\"_top\" title=\"psysml:a720c396-7a8e-4250-b133-b38e5d5b0a71\" xlink:actuate=\"onRequest\" xlink:href=\"psysml:a720c396-7a8e-4250-b133-b38e5d5b0a71\" xlink:show=\"new\" xlink:title=\"psysml:a720c396-7a8e-4250-b133-b38e5d5b0a71\" xlink:type=\"simple\"><rect fill=\"#FFFFFF\" height=\"45.9375\" id=\"E6\" style=\"stroke: #383838; stroke-width: 1.5;\" width=\"79\" x=\"31.5\" y=\"77\"/><text fill=\"#000000\" font-family=\"sans-serif\" font-size=\"12\" font-style=\"italic\" lengthAdjust=\"spacingAndGlyphs\" textLength=\"77\" x=\"32.5\" y=\"93.1387\">«action def»</text><text fill=\"#000000\" font-family=\"sans-serif\" font-size=\"12\" lengthAdjust=\"spacingAndGlyphs\" textLength=\"8\" x=\"67\" y=\"107.1074\">B</text><line style=\"stroke: #383838; stroke-width: 1.5;\" x1=\"32.5\" x2=\"109.5\" y1=\"114.9375\" y2=\"114.9375\"/></a><!--MD5=[95cbc939e9e08554e06d28d4ae811997]\n",
       "@startuml\r\n",
       "skinparam linetype ortho\r\n",
       "skinparam monochrome true\r\n",
       "skinparam classbackgroundcolor white\r\n",
       "skinparam shadowing false\r\n",
       "skinparam wrapWidth 300\r\n",
       "hide circle\r\n",
       "\r\n",
       "package \"ActionTest\" as E1  [[psysml:1b586630-6073-41f8-a31c-3b1021fd2d94 ]]  {\r\n",
       "comp def \"S\" as E2  <<(T,blue)attribute def>> [[psysml:ec6ecfb2-58e1-4e93-a57f-7fba141d91de ]] {\r\n",
       "}\r\n",
       "comp usage \"a\" as E3  <<(T,blue)action>> [[psysml:63b3e978-ff90-4127-8639-9e6714fb0371 ]] {\r\n",
       "- - actions - -\r\n",
       "start: Action\\n//:>>Occurrence::startShot// \r\n",
       "- - mergeNodes - -\r\n",
       "m\r\n",
       "}\r\n",
       "comp def \"B\" as E6  <<(T,blue)action def>> [[psysml:a720c396-7a8e-4250-b133-b38e5d5b0a71 ]] {\r\n",
       "}\r\n",
       "}\r\n",
       "@enduml\r\n",
       "\n",
       "PlantUML version 1.2020.13(Sat Jun 13 12:26:38 UTC 2020)\n",
       "(EPL source distribution)\n",
       "Java Runtime: OpenJDK Runtime Environment\n",
       "JVM: OpenJDK 64-Bit Server VM\n",
       "Default Encoding: UTF-8\n",
       "Language: en\n",
       "Country: null\n",
       "--></g></svg>"
      ]
     },
     "execution_count": 52,
     "metadata": {},
     "output_type": "execute_result"
    }
   ],
   "source": [
    "%viz --style=\"ORTHOLINE\" --view=\"Tree\" \"ActionTest\""
   ]
  },
  {
   "cell_type": "code",
   "execution_count": 53,
   "id": "facial-enhancement",
   "metadata": {
    "execution": {
     "iopub.execute_input": "2021-03-25T14:11:53.713755Z",
     "iopub.status.busy": "2021-03-25T14:11:53.712587Z",
     "iopub.status.idle": "2021-03-25T14:11:53.722718Z",
     "shell.execute_reply": "2021-03-25T14:11:53.722303Z"
    }
   },
   "outputs": [
    {
     "data": {
      "image/svg+xml": [
       "<?xml version=\"1.0\" encoding=\"UTF-8\" standalone=\"no\"?><svg xmlns=\"http://www.w3.org/2000/svg\" xmlns:xlink=\"http://www.w3.org/1999/xlink\" contentScriptType=\"application/ecmascript\" contentStyleType=\"text/css\" height=\"12px\" preserveAspectRatio=\"none\" style=\"width:12px;height:12px;\" version=\"1.1\" viewBox=\"0 0 12 12\" width=\"12px\" zoomAndPan=\"magnify\"><defs/><g><!--MD5=[97d6f38768b311333d388e66b2b27985]\n",
       "@startuml\r\n",
       "skinparam linetype ortho\r\n",
       "skinparam monochrome true\r\n",
       "skinparam classbackgroundcolor white\r\n",
       "skinparam shadowing false\r\n",
       "skinparam wrapWidth 300\r\n",
       "hide circle\r\n",
       "\r\n",
       "@enduml\r\n",
       "\n",
       "PlantUML version 1.2020.13(Sat Jun 13 12:26:38 UTC 2020)\n",
       "(EPL source distribution)\n",
       "Java Runtime: OpenJDK Runtime Environment\n",
       "JVM: OpenJDK 64-Bit Server VM\n",
       "Default Encoding: UTF-8\n",
       "Language: en\n",
       "Country: null\n",
       "--></g></svg>"
      ]
     },
     "execution_count": 53,
     "metadata": {},
     "output_type": "execute_result"
    }
   ],
   "source": [
    "%viz --style=\"ORTHOLINE\" --view=\"State\" \"ActionTest\""
   ]
  },
  {
   "cell_type": "code",
   "execution_count": 54,
   "id": "raised-fountain",
   "metadata": {
    "execution": {
     "iopub.execute_input": "2021-03-25T14:11:53.774929Z",
     "iopub.status.busy": "2021-03-25T14:11:53.774153Z",
     "iopub.status.idle": "2021-03-25T14:11:53.931936Z",
     "shell.execute_reply": "2021-03-25T14:11:53.930551Z"
    }
   },
   "outputs": [
    {
     "data": {
      "image/svg+xml": [
       "<?xml version=\"1.0\" encoding=\"UTF-8\" standalone=\"no\"?><svg xmlns=\"http://www.w3.org/2000/svg\" xmlns:xlink=\"http://www.w3.org/1999/xlink\" contentScriptType=\"application/ecmascript\" contentStyleType=\"text/css\" height=\"462px\" preserveAspectRatio=\"none\" style=\"width:522px;height:462px;\" version=\"1.1\" viewBox=\"0 0 522 462\" width=\"522px\" zoomAndPan=\"magnify\"><defs/><g><!--MD5=[fbc87193dbaf4d95561dea2c320d4a47]\n",
       "cluster E1--><a href=\"psysml:1b586630-6073-41f8-a31c-3b1021fd2d94\" target=\"_top\" title=\"psysml:1b586630-6073-41f8-a31c-3b1021fd2d94\" xlink:actuate=\"onRequest\" xlink:href=\"psysml:1b586630-6073-41f8-a31c-3b1021fd2d94\" xlink:show=\"new\" xlink:title=\"psysml:1b586630-6073-41f8-a31c-3b1021fd2d94\" xlink:type=\"simple\"><polygon fill=\"#FFFFFF\" points=\"16,6,107,6,114,28.2969,500,28.2969,500,450.5,16,450.5,16,6\" style=\"stroke: #000000; stroke-width: 1.5;\"/><line style=\"stroke: #000000; stroke-width: 1.5;\" x1=\"16\" x2=\"114\" y1=\"28.2969\" y2=\"28.2969\"/><text fill=\"#000000\" font-family=\"sans-serif\" font-size=\"14\" font-weight=\"bold\" lengthAdjust=\"spacingAndGlyphs\" textLength=\"85\" x=\"20\" y=\"20.9951\">ActionTest</text></a><!--MD5=[d5e69f78d87373223dbae638b30a9c99]\n",
       "cluster E3--><a href=\"psysml:63b3e978-ff90-4127-8639-9e6714fb0371\" target=\"_top\" title=\"psysml:63b3e978-ff90-4127-8639-9e6714fb0371\" xlink:actuate=\"onRequest\" xlink:href=\"psysml:63b3e978-ff90-4127-8639-9e6714fb0371\" xlink:show=\"new\" xlink:title=\"psysml:63b3e978-ff90-4127-8639-9e6714fb0371\" xlink:type=\"simple\"><rect fill=\"#FFFFFF\" height=\"377.5\" id=\"E3\" rx=\"10\" ry=\"10\" style=\"stroke: #383838; stroke-width: 1.5;\" width=\"209\" x=\"267\" y=\"49\"/><rect fill=\"#F8F8F8\" height=\"37.9375\" rx=\"10\" ry=\"10\" style=\"stroke: #F8F8F8; stroke-width: 1.5;\" width=\"209\" x=\"267\" y=\"49\"/><rect fill=\"#F8F8F8\" height=\"10\" style=\"stroke: #F8F8F8; stroke-width: 1.5;\" width=\"209\" x=\"267\" y=\"76.9375\"/><rect fill=\"none\" height=\"377.5\" id=\"E3\" rx=\"10\" ry=\"10\" style=\"stroke: #383838; stroke-width: 1.5;\" width=\"209\" x=\"267\" y=\"49\"/><text fill=\"#000000\" font-family=\"sans-serif\" font-size=\"12\" font-style=\"italic\" lengthAdjust=\"spacingAndGlyphs\" textLength=\"53\" x=\"345\" y=\"65.1387\">«action»</text><text fill=\"#000000\" font-family=\"sans-serif\" font-size=\"12\" lengthAdjust=\"spacingAndGlyphs\" textLength=\"8\" x=\"367.5\" y=\"79.1074\">a</text><line style=\"stroke: #383838; stroke-width: 1.0;\" x1=\"267\" x2=\"476\" y1=\"86.9375\" y2=\"86.9375\"/></a><g id=\"E1.E2\"><a href=\"psysml:ec6ecfb2-58e1-4e93-a57f-7fba141d91de\" target=\"_top\" title=\"psysml:ec6ecfb2-58e1-4e93-a57f-7fba141d91de\" xlink:actuate=\"onRequest\" xlink:href=\"psysml:ec6ecfb2-58e1-4e93-a57f-7fba141d91de\" xlink:show=\"new\" xlink:title=\"psysml:ec6ecfb2-58e1-4e93-a57f-7fba141d91de\" xlink:type=\"simple\"><rect fill=\"#FFFFFF\" height=\"42.9375\" id=\"E2\" style=\"stroke: #383838; stroke-width: 1.5;\" width=\"100\" x=\"151\" y=\"88.5\"/><rect fill=\"#F8F8F8\" height=\"37.9375\" style=\"stroke: #383838; stroke-width: 1.5;\" width=\"100\" x=\"151\" y=\"88.5\"/><text fill=\"#000000\" font-family=\"sans-serif\" font-size=\"12\" font-style=\"italic\" lengthAdjust=\"spacingAndGlyphs\" textLength=\"93\" x=\"154.5\" y=\"104.6387\">«attribute def»</text><text fill=\"#000000\" font-family=\"sans-serif\" font-size=\"12\" lengthAdjust=\"spacingAndGlyphs\" textLength=\"8\" x=\"197\" y=\"118.6074\">S</text></a></g><polygon fill=\"#F8F8F8\" points=\"424,148.5,436,160.5,424,172.5,412,160.5,424,148.5\" style=\"stroke: #383838; stroke-width: 1.5;\"/><!--MD5=[21dd76c19d33815960c0e92fef8f0eef]\n",
       "entity E5--><a href=\"psysml:12477b88-d1e3-4069-a82c-9614e3ee7843\" target=\"_top\" title=\"psysml:12477b88-d1e3-4069-a82c-9614e3ee7843\" xlink:actuate=\"onRequest\" xlink:href=\"psysml:12477b88-d1e3-4069-a82c-9614e3ee7843\" xlink:show=\"new\" xlink:title=\"psysml:12477b88-d1e3-4069-a82c-9614e3ee7843\" xlink:type=\"simple\"><polygon fill=\"#F8F8F8\" points=\"283,189.5,283,244.0938,423,244.0938,403,216.7969,423,189.5\" style=\"stroke: #000000; stroke-width: 1.5;\"/><text fill=\"#000000\" font-family=\"sans-serif\" font-size=\"14\" font-style=\"italic\" lengthAdjust=\"spacingAndGlyphs\" textLength=\"111\" x=\"290\" y=\"212.4951\">«accept action»</text><text fill=\"#000000\" font-family=\"sans-serif\" font-size=\"14\" lengthAdjust=\"spacingAndGlyphs\" textLength=\"9\" x=\"341\" y=\"229.792\">S</text></a><!--MD5=[24d87cdf3002d433f401b2a2aa9f9f65]\n",
       "entity E6--><a href=\"psysml:18c53c10-a81a-4a73-8210-8be9c84ee198\" target=\"_top\" title=\"psysml:18c53c10-a81a-4a73-8210-8be9c84ee198\" xlink:actuate=\"onRequest\" xlink:href=\"psysml:18c53c10-a81a-4a73-8210-8be9c84ee198\" xlink:show=\"new\" xlink:title=\"psysml:18c53c10-a81a-4a73-8210-8be9c84ee198\" xlink:type=\"simple\"><polygon fill=\"#F8F8F8\" points=\"283,277.5,283,332.0938,391,332.0938,411,304.7969,391,277.5\" style=\"stroke: #000000; stroke-width: 1.5;\"/><text fill=\"#000000\" font-family=\"sans-serif\" font-size=\"14\" font-style=\"italic\" lengthAdjust=\"spacingAndGlyphs\" textLength=\"99\" x=\"290\" y=\"300.4951\">«send action»</text><text fill=\"#000000\" font-family=\"sans-serif\" font-size=\"14\" lengthAdjust=\"spacingAndGlyphs\" textLength=\"55\" x=\"312\" y=\"317.792\">S to  B()</text></a><polygon fill=\"#F8F8F8\" points=\"422,349.5,434,361.5,422,373.5,410,361.5,422,349.5\" style=\"stroke: #383838; stroke-width: 1.5;\"/><ellipse cx=\"424\" cy=\"110\" fill=\"#000000\" rx=\"10\" ry=\"10\" style=\"stroke: none; stroke-width: 1.0;\"/><ellipse cx=\"422\" cy=\"400.5\" fill=\"none\" rx=\"10\" ry=\"10\" style=\"stroke: #000000; stroke-width: 1.0;\"/><ellipse cx=\"422.5\" cy=\"401\" fill=\"#000000\" rx=\"6\" ry=\"6\" style=\"stroke: none; stroke-width: 1.0;\"/><g id=\"E1.E8\"><a href=\"psysml:a720c396-7a8e-4250-b133-b38e5d5b0a71\" target=\"_top\" title=\"psysml:a720c396-7a8e-4250-b133-b38e5d5b0a71\" xlink:actuate=\"onRequest\" xlink:href=\"psysml:a720c396-7a8e-4250-b133-b38e5d5b0a71\" xlink:show=\"new\" xlink:title=\"psysml:a720c396-7a8e-4250-b133-b38e5d5b0a71\" xlink:type=\"simple\"><rect fill=\"#FFFFFF\" height=\"42.9375\" id=\"E8\" style=\"stroke: #383838; stroke-width: 1.5;\" width=\"84\" x=\"32\" y=\"88.5\"/><rect fill=\"#F8F8F8\" height=\"37.9375\" style=\"stroke: #383838; stroke-width: 1.5;\" width=\"84\" x=\"32\" y=\"88.5\"/><text fill=\"#000000\" font-family=\"sans-serif\" font-size=\"12\" font-style=\"italic\" lengthAdjust=\"spacingAndGlyphs\" textLength=\"77\" x=\"35.5\" y=\"104.6387\">«action def»</text><text fill=\"#000000\" font-family=\"sans-serif\" font-size=\"12\" lengthAdjust=\"spacingAndGlyphs\" textLength=\"8\" x=\"70\" y=\"118.6074\">B</text></a></g><!--MD5=[f47e10efcf9a6752d55dae986d790ed9]\n",
       "link *start*E3 to E4--><a href=\"psysml:3eb4ae89-c3fe-4a5c-9996-6c16dc90e291\" target=\"_top\" title=\"psysml:3eb4ae89-c3fe-4a5c-9996-6c16dc90e291\" xlink:actuate=\"onRequest\" xlink:href=\"psysml:3eb4ae89-c3fe-4a5c-9996-6c16dc90e291\" xlink:show=\"new\" xlink:title=\"psysml:3eb4ae89-c3fe-4a5c-9996-6c16dc90e291\" xlink:type=\"simple\"><path d=\"M424,120.22 C424,120.22 424,143.15 424,143.15 \" fill=\"none\" id=\"*start*E3-&gt;E4\" style=\"stroke: #383838; stroke-width: 1.0;\"/><polygon fill=\"#383838\" points=\"424,148.15,428,139.15,424,143.15,420,139.15,424,148.15\" style=\"stroke: #383838; stroke-width: 1.0;\"/></a><!--MD5=[d19f2eb34364d71b67042106d92f540b]\n",
       "link E7 to *end*E3--><a href=\"psysml:529019b4-f7b3-445e-a809-123fd999bfb3\" target=\"_top\" title=\"psysml:529019b4-f7b3-445e-a809-123fd999bfb3\" xlink:actuate=\"onRequest\" xlink:href=\"psysml:529019b4-f7b3-445e-a809-123fd999bfb3\" xlink:show=\"new\" xlink:title=\"psysml:529019b4-f7b3-445e-a809-123fd999bfb3\" xlink:type=\"simple\"><path d=\"M422,373.84 C422,373.84 422,385.46 422,385.46 \" fill=\"none\" id=\"E7-&gt;*end*E3\" style=\"stroke: #383838; stroke-width: 1.0;\"/><polygon fill=\"#383838\" points=\"422,390.46,426,381.46,422,385.46,418,381.46,422,390.46\" style=\"stroke: #383838; stroke-width: 1.0;\"/></a><!--MD5=[1b7591eae5389033d8d09a9d6721a717]\n",
       "link E4 to E5--><a href=\"psysml:252a1c6c-cc00-403d-ac29-1241d1eee0ca\" target=\"_top\" title=\"psysml:252a1c6c-cc00-403d-ac29-1241d1eee0ca\" xlink:actuate=\"onRequest\" xlink:href=\"psysml:252a1c6c-cc00-403d-ac29-1241d1eee0ca\" xlink:show=\"new\" xlink:title=\"psysml:252a1c6c-cc00-403d-ac29-1241d1eee0ca\" xlink:type=\"simple\"><path d=\"M417.5,166.12 C417.5,166.12 417.5,184.3 417.5,184.3 \" fill=\"none\" id=\"E4-&gt;E5\" style=\"stroke: #383838; stroke-width: 1.0;\"/><polygon fill=\"#383838\" points=\"417.5,189.3,421.5,180.3,417.5,184.3,413.5,180.3,417.5,189.3\" style=\"stroke: #383838; stroke-width: 1.0;\"/></a><!--MD5=[9120cf2e5df3bff93db8f754bbbc09b4]\n",
       "link E5 to E6--><a href=\"psysml:52dd995d-9028-4157-9334-98b87c98e4ca\" target=\"_top\" title=\"psysml:52dd995d-9028-4157-9334-98b87c98e4ca\" xlink:actuate=\"onRequest\" xlink:href=\"psysml:52dd995d-9028-4157-9334-98b87c98e4ca\" xlink:show=\"new\" xlink:title=\"psysml:52dd995d-9028-4157-9334-98b87c98e4ca\" xlink:type=\"simple\"><path d=\"M347,244.84 C347,244.84 347,272.34 347,272.34 \" fill=\"none\" id=\"E5-&gt;E6\" style=\"stroke: #383838; stroke-width: 1.0;\"/><polygon fill=\"#383838\" points=\"347,277.34,351,268.34,347,272.34,343,268.34,347,277.34\" style=\"stroke: #383838; stroke-width: 1.0;\"/></a><!--MD5=[02c70b7c851c11e3980e4e90450dc5dd]\n",
       "link E6 to E7--><a href=\"psysml:11c1c086-8dd9-4b00-9ab5-dcf0da9e4b0f\" target=\"_top\" title=\"psysml:11c1c086-8dd9-4b00-9ab5-dcf0da9e4b0f\" xlink:actuate=\"onRequest\" xlink:href=\"psysml:11c1c086-8dd9-4b00-9ab5-dcf0da9e4b0f\" xlink:show=\"new\" xlink:title=\"psysml:11c1c086-8dd9-4b00-9ab5-dcf0da9e4b0f\" xlink:type=\"simple\"><path d=\"M411.03,305.5 C414.74,305.5 417,305.5 417,305.5 C417,305.5 417,349.18 417,349.18 \" fill=\"none\" id=\"E6-&gt;E7\" style=\"stroke: #383838; stroke-width: 1.0;\"/><polygon fill=\"#383838\" points=\"417,354.18,421,345.18,417,349.18,413,345.18,417,354.18\" style=\"stroke: #383838; stroke-width: 1.0;\"/></a><!--MD5=[6bdd27f9905911a7e892a3dc65cf6b7c]\n",
       "link E7 to E4--><a href=\"psysml:9dbcc968-b81d-4000-b2fb-dcd38ad7dec8\" target=\"_top\" title=\"psysml:9dbcc968-b81d-4000-b2fb-dcd38ad7dec8\" xlink:actuate=\"onRequest\" xlink:href=\"psysml:9dbcc968-b81d-4000-b2fb-dcd38ad7dec8\" xlink:show=\"new\" xlink:title=\"psysml:9dbcc968-b81d-4000-b2fb-dcd38ad7dec8\" xlink:type=\"simple\"><path d=\"M428.5,355.7 C428.5,355.7 428.5,173.4 428.5,173.4 \" fill=\"none\" id=\"E7-&gt;E4\" style=\"stroke: #383838; stroke-width: 1.0;\"/><polygon fill=\"#383838\" points=\"428.5,168.4,424.5,177.4,428.5,173.4,432.5,177.4,428.5,168.4\" style=\"stroke: #383838; stroke-width: 1.0;\"/><text fill=\"#000000\" font-family=\"sans-serif\" font-size=\"13\" lengthAdjust=\"spacingAndGlyphs\" textLength=\"36\" x=\"423\" y=\"265.5669\">[true]</text></a><!--MD5=[730bfcff16e53f57b5cb1259f38bf4f4]\n",
       "@startuml\r\n",
       "skinparam ranksep 10\r\n",
       "skinparam rectangle {\r\n",
       " backgroundColor<<block>> LightGreen\r\n",
       "}\r\n",
       "skinparam linetype ortho\r\n",
       "skinparam monochrome true\r\n",
       "skinparam classbackgroundcolor white\r\n",
       "skinparam shadowing false\r\n",
       "skinparam wrapWidth 300\r\n",
       "hide circle\r\n",
       "\r\n",
       "package \"ActionTest\" as E1  [[psysml:1b586630-6073-41f8-a31c-3b1021fd2d94 ]]  {\r\n",
       "def \"S\" as E2  <<(T,blue)attribute def>> [[psysml:ec6ecfb2-58e1-4e93-a57f-7fba141d91de ]] \r\n",
       "rec usage \"a\" as E3  <<(T,blue)action>> [[psysml:63b3e978-ff90-4127-8639-9e6714fb0371 ]] {\r\n",
       "choice \"m\" as E4  [[psysml:3c09e5e0-87ee-487d-a94c-d1481b887cf0 ]] \r\n",
       "accept \" S\" as E5 <<accept action>> [[psysml:12477b88-d1e3-4069-a82c-9614e3ee7843 ]] \r\n",
       "send \" S to  B()\" as E6 <<send action>> [[psysml:18c53c10-a81a-4a73-8210-8be9c84ee198 ]] \r\n",
       "choice \"noname\" as E7  [[psysml:e28bc343-f228-4c60-afee-7deafa85ddc3 ]] \r\n",
       "[*] - -> E4 [[psysml:3eb4ae89-c3fe-4a5c-9996-6c16dc90e291 ]] \r\n",
       "E7  - -> [*] [[psysml:529019b4-f7b3-445e-a809-123fd999bfb3 ]] \r\n",
       "}\r\n",
       "\r\n",
       "rec def \"B\" as E8  <<(T,blue)action def>> [[psysml:a720c396-7a8e-4250-b133-b38e5d5b0a71 ]] {\r\n",
       "}\r\n",
       "\r\n",
       "E4 - -> E5 [[psysml:252a1c6c-cc00-403d-ac29-1241d1eee0ca ]] \r\n",
       "E5 - -> E6 [[psysml:52dd995d-9028-4157-9334-98b87c98e4ca ]] \r\n",
       "E6 - -> E7 [[psysml:11c1c086-8dd9-4b00-9ab5-dcf0da9e4b0f ]] \r\n",
       "E7  - -> E4 [[psysml:9dbcc968-b81d-4000-b2fb-dcd38ad7dec8 ]] : [true]\r\n",
       "}\r\n",
       "@enduml\r\n",
       "\n",
       "PlantUML version 1.2020.13(Sat Jun 13 12:26:38 UTC 2020)\n",
       "(EPL source distribution)\n",
       "Java Runtime: OpenJDK Runtime Environment\n",
       "JVM: OpenJDK 64-Bit Server VM\n",
       "Default Encoding: UTF-8\n",
       "Language: en\n",
       "Country: null\n",
       "--></g></svg>"
      ]
     },
     "execution_count": 54,
     "metadata": {},
     "output_type": "execute_result"
    }
   ],
   "source": [
    "%viz --style=\"ORTHOLINE\" --view=\"Interconnection\" \"ActionTest\""
   ]
  },
  {
   "cell_type": "code",
   "execution_count": 55,
   "id": "thermal-consequence",
   "metadata": {
    "execution": {
     "iopub.execute_input": "2021-03-25T14:11:53.982079Z",
     "iopub.status.busy": "2021-03-25T14:11:53.981605Z",
     "iopub.status.idle": "2021-03-25T14:11:54.120875Z",
     "shell.execute_reply": "2021-03-25T14:11:54.119558Z"
    }
   },
   "outputs": [
    {
     "data": {
      "image/svg+xml": [
       "<?xml version=\"1.0\" encoding=\"UTF-8\" standalone=\"no\"?><svg xmlns=\"http://www.w3.org/2000/svg\" xmlns:xlink=\"http://www.w3.org/1999/xlink\" contentScriptType=\"application/ecmascript\" contentStyleType=\"text/css\" height=\"395px\" preserveAspectRatio=\"none\" style=\"width:328px;height:395px;\" version=\"1.1\" viewBox=\"0 0 328 395\" width=\"328px\" zoomAndPan=\"magnify\"><defs/><g><!--MD5=[fbc87193dbaf4d95561dea2c320d4a47]\n",
       "cluster E1--><a href=\"psysml:63b3e978-ff90-4127-8639-9e6714fb0371\" target=\"_top\" title=\"psysml:63b3e978-ff90-4127-8639-9e6714fb0371\" xlink:actuate=\"onRequest\" xlink:href=\"psysml:63b3e978-ff90-4127-8639-9e6714fb0371\" xlink:show=\"new\" xlink:title=\"psysml:63b3e978-ff90-4127-8639-9e6714fb0371\" xlink:type=\"simple\"><rect fill=\"#FFFFFF\" height=\"377.5\" id=\"E1\" rx=\"10\" ry=\"10\" style=\"stroke: #383838; stroke-width: 1.5;\" width=\"209\" x=\"107\" y=\"7\"/><rect fill=\"#F8F8F8\" height=\"37.9375\" rx=\"10\" ry=\"10\" style=\"stroke: #F8F8F8; stroke-width: 1.5;\" width=\"209\" x=\"107\" y=\"7\"/><rect fill=\"#F8F8F8\" height=\"10\" style=\"stroke: #F8F8F8; stroke-width: 1.5;\" width=\"209\" x=\"107\" y=\"34.9375\"/><rect fill=\"none\" height=\"377.5\" id=\"E1\" rx=\"10\" ry=\"10\" style=\"stroke: #383838; stroke-width: 1.5;\" width=\"209\" x=\"107\" y=\"7\"/><text fill=\"#000000\" font-family=\"sans-serif\" font-size=\"12\" font-style=\"italic\" lengthAdjust=\"spacingAndGlyphs\" textLength=\"53\" x=\"185\" y=\"23.1387\">«action»</text><text fill=\"#000000\" font-family=\"sans-serif\" font-size=\"12\" lengthAdjust=\"spacingAndGlyphs\" textLength=\"8\" x=\"207.5\" y=\"37.1074\">a</text><line style=\"stroke: #383838; stroke-width: 1.0;\" x1=\"107\" x2=\"316\" y1=\"44.9375\" y2=\"44.9375\"/></a><polygon fill=\"#F8F8F8\" points=\"264,106.5,276,118.5,264,130.5,252,118.5,264,106.5\" style=\"stroke: #383838; stroke-width: 1.5;\"/><!--MD5=[a60fb756f580feb9fd8e2cf1329b5c91]\n",
       "entity E3--><a href=\"psysml:12477b88-d1e3-4069-a82c-9614e3ee7843\" target=\"_top\" title=\"psysml:12477b88-d1e3-4069-a82c-9614e3ee7843\" xlink:actuate=\"onRequest\" xlink:href=\"psysml:12477b88-d1e3-4069-a82c-9614e3ee7843\" xlink:show=\"new\" xlink:title=\"psysml:12477b88-d1e3-4069-a82c-9614e3ee7843\" xlink:type=\"simple\"><polygon fill=\"#F8F8F8\" points=\"123,147.5,123,202.0938,263,202.0938,243,174.7969,263,147.5\" style=\"stroke: #000000; stroke-width: 1.5;\"/><text fill=\"#000000\" font-family=\"sans-serif\" font-size=\"14\" font-style=\"italic\" lengthAdjust=\"spacingAndGlyphs\" textLength=\"111\" x=\"130\" y=\"170.4951\">«accept action»</text><text fill=\"#000000\" font-family=\"sans-serif\" font-size=\"14\" lengthAdjust=\"spacingAndGlyphs\" textLength=\"9\" x=\"181\" y=\"187.792\">S</text></a><!--MD5=[961cefdc15414eaa3e87aec9d17c2188]\n",
       "entity E4--><a href=\"psysml:18c53c10-a81a-4a73-8210-8be9c84ee198\" target=\"_top\" title=\"psysml:18c53c10-a81a-4a73-8210-8be9c84ee198\" xlink:actuate=\"onRequest\" xlink:href=\"psysml:18c53c10-a81a-4a73-8210-8be9c84ee198\" xlink:show=\"new\" xlink:title=\"psysml:18c53c10-a81a-4a73-8210-8be9c84ee198\" xlink:type=\"simple\"><polygon fill=\"#F8F8F8\" points=\"123,235.5,123,290.0938,231,290.0938,251,262.7969,231,235.5\" style=\"stroke: #000000; stroke-width: 1.5;\"/><text fill=\"#000000\" font-family=\"sans-serif\" font-size=\"14\" font-style=\"italic\" lengthAdjust=\"spacingAndGlyphs\" textLength=\"99\" x=\"130\" y=\"258.4951\">«send action»</text><text fill=\"#000000\" font-family=\"sans-serif\" font-size=\"14\" lengthAdjust=\"spacingAndGlyphs\" textLength=\"55\" x=\"152\" y=\"275.792\">S to  B()</text></a><polygon fill=\"#F8F8F8\" points=\"262,307.5,274,319.5,262,331.5,250,319.5,262,307.5\" style=\"stroke: #383838; stroke-width: 1.5;\"/><ellipse cx=\"264\" cy=\"68\" fill=\"#000000\" rx=\"10\" ry=\"10\" style=\"stroke: none; stroke-width: 1.0;\"/><ellipse cx=\"262\" cy=\"358.5\" fill=\"none\" rx=\"10\" ry=\"10\" style=\"stroke: #000000; stroke-width: 1.0;\"/><ellipse cx=\"262.5\" cy=\"359\" fill=\"#000000\" rx=\"6\" ry=\"6\" style=\"stroke: none; stroke-width: 1.0;\"/><g id=\"E6\"><a href=\"psysml:a720c396-7a8e-4250-b133-b38e5d5b0a71\" target=\"_top\" title=\"psysml:a720c396-7a8e-4250-b133-b38e5d5b0a71\" xlink:actuate=\"onRequest\" xlink:href=\"psysml:a720c396-7a8e-4250-b133-b38e5d5b0a71\" xlink:show=\"new\" xlink:title=\"psysml:a720c396-7a8e-4250-b133-b38e5d5b0a71\" xlink:type=\"simple\"><rect fill=\"#FFFFFF\" height=\"42.9375\" id=\"E6\" style=\"stroke: #383838; stroke-width: 1.5;\" width=\"84\" x=\"7\" y=\"46.5\"/><rect fill=\"#F8F8F8\" height=\"37.9375\" style=\"stroke: #383838; stroke-width: 1.5;\" width=\"84\" x=\"7\" y=\"46.5\"/><text fill=\"#000000\" font-family=\"sans-serif\" font-size=\"12\" font-style=\"italic\" lengthAdjust=\"spacingAndGlyphs\" textLength=\"77\" x=\"10.5\" y=\"62.6387\">«action def»</text><text fill=\"#000000\" font-family=\"sans-serif\" font-size=\"12\" lengthAdjust=\"spacingAndGlyphs\" textLength=\"8\" x=\"45\" y=\"76.6074\">B</text></a></g><!--MD5=[cff944eb183b832d446717a4e202d613]\n",
       "link *start*E1 to E2--><a href=\"psysml:3eb4ae89-c3fe-4a5c-9996-6c16dc90e291\" target=\"_top\" title=\"psysml:3eb4ae89-c3fe-4a5c-9996-6c16dc90e291\" xlink:actuate=\"onRequest\" xlink:href=\"psysml:3eb4ae89-c3fe-4a5c-9996-6c16dc90e291\" xlink:show=\"new\" xlink:title=\"psysml:3eb4ae89-c3fe-4a5c-9996-6c16dc90e291\" xlink:type=\"simple\"><path d=\"M264,78.22 C264,78.22 264,101.15 264,101.15 \" fill=\"none\" id=\"*start*E1-&gt;E2\" style=\"stroke: #383838; stroke-width: 1.0; stroke-dasharray: 7.0,7.0;\"/><polygon fill=\"#383838\" points=\"264,106.15,268,97.15,264,101.15,260,97.15,264,106.15\" style=\"stroke: #383838; stroke-width: 1.0;\"/></a><!--MD5=[7fc47fc0d107820853a137871ad908c8]\n",
       "link E5 to *end*E1--><a href=\"psysml:529019b4-f7b3-445e-a809-123fd999bfb3\" target=\"_top\" title=\"psysml:529019b4-f7b3-445e-a809-123fd999bfb3\" xlink:actuate=\"onRequest\" xlink:href=\"psysml:529019b4-f7b3-445e-a809-123fd999bfb3\" xlink:show=\"new\" xlink:title=\"psysml:529019b4-f7b3-445e-a809-123fd999bfb3\" xlink:type=\"simple\"><path d=\"M262,331.84 C262,331.84 262,343.46 262,343.46 \" fill=\"none\" id=\"E5-&gt;*end*E1\" style=\"stroke: #383838; stroke-width: 1.0; stroke-dasharray: 7.0,7.0;\"/><polygon fill=\"#383838\" points=\"262,348.46,266,339.46,262,343.46,258,339.46,262,348.46\" style=\"stroke: #383838; stroke-width: 1.0;\"/></a><!--MD5=[2720a5a1f2c3fca2055b230370638851]\n",
       "link E2 to E3--><a href=\"psysml:252a1c6c-cc00-403d-ac29-1241d1eee0ca\" target=\"_top\" title=\"psysml:252a1c6c-cc00-403d-ac29-1241d1eee0ca\" xlink:actuate=\"onRequest\" xlink:href=\"psysml:252a1c6c-cc00-403d-ac29-1241d1eee0ca\" xlink:show=\"new\" xlink:title=\"psysml:252a1c6c-cc00-403d-ac29-1241d1eee0ca\" xlink:type=\"simple\"><path d=\"M257.5,124.12 C257.5,124.12 257.5,142.3 257.5,142.3 \" fill=\"none\" id=\"E2-&gt;E3\" style=\"stroke: #383838; stroke-width: 1.0; stroke-dasharray: 7.0,7.0;\"/><polygon fill=\"#383838\" points=\"257.5,147.3,261.5,138.3,257.5,142.3,253.5,138.3,257.5,147.3\" style=\"stroke: #383838; stroke-width: 1.0;\"/></a><!--MD5=[af87c684e3b0d8be13c1a698a818ef1e]\n",
       "link E3 to E4--><a href=\"psysml:52dd995d-9028-4157-9334-98b87c98e4ca\" target=\"_top\" title=\"psysml:52dd995d-9028-4157-9334-98b87c98e4ca\" xlink:actuate=\"onRequest\" xlink:href=\"psysml:52dd995d-9028-4157-9334-98b87c98e4ca\" xlink:show=\"new\" xlink:title=\"psysml:52dd995d-9028-4157-9334-98b87c98e4ca\" xlink:type=\"simple\"><path d=\"M187,202.84 C187,202.84 187,230.34 187,230.34 \" fill=\"none\" id=\"E3-&gt;E4\" style=\"stroke: #383838; stroke-width: 1.0; stroke-dasharray: 7.0,7.0;\"/><polygon fill=\"#383838\" points=\"187,235.34,191,226.34,187,230.34,183,226.34,187,235.34\" style=\"stroke: #383838; stroke-width: 1.0;\"/></a><!--MD5=[1b7591eae5389033d8d09a9d6721a717]\n",
       "link E4 to E5--><a href=\"psysml:11c1c086-8dd9-4b00-9ab5-dcf0da9e4b0f\" target=\"_top\" title=\"psysml:11c1c086-8dd9-4b00-9ab5-dcf0da9e4b0f\" xlink:actuate=\"onRequest\" xlink:href=\"psysml:11c1c086-8dd9-4b00-9ab5-dcf0da9e4b0f\" xlink:show=\"new\" xlink:title=\"psysml:11c1c086-8dd9-4b00-9ab5-dcf0da9e4b0f\" xlink:type=\"simple\"><path d=\"M251.03,263.5 C254.74,263.5 257,263.5 257,263.5 C257,263.5 257,307.18 257,307.18 \" fill=\"none\" id=\"E4-&gt;E5\" style=\"stroke: #383838; stroke-width: 1.0; stroke-dasharray: 7.0,7.0;\"/><polygon fill=\"#383838\" points=\"257,312.18,261,303.18,257,307.18,253,303.18,257,312.18\" style=\"stroke: #383838; stroke-width: 1.0;\"/></a><!--MD5=[15ebcb19ae302d9b601edb458606d402]\n",
       "link E5 to E2--><a href=\"psysml:9dbcc968-b81d-4000-b2fb-dcd38ad7dec8\" target=\"_top\" title=\"psysml:9dbcc968-b81d-4000-b2fb-dcd38ad7dec8\" xlink:actuate=\"onRequest\" xlink:href=\"psysml:9dbcc968-b81d-4000-b2fb-dcd38ad7dec8\" xlink:show=\"new\" xlink:title=\"psysml:9dbcc968-b81d-4000-b2fb-dcd38ad7dec8\" xlink:type=\"simple\"><path d=\"M268.5,313.7 C268.5,313.7 268.5,131.4 268.5,131.4 \" fill=\"none\" id=\"E5-&gt;E2\" style=\"stroke: #383838; stroke-width: 1.0; stroke-dasharray: 7.0,7.0;\"/><polygon fill=\"#383838\" points=\"268.5,126.4,264.5,135.4,268.5,131.4,272.5,135.4,268.5,126.4\" style=\"stroke: #383838; stroke-width: 1.0;\"/><text fill=\"#000000\" font-family=\"sans-serif\" font-size=\"13\" lengthAdjust=\"spacingAndGlyphs\" textLength=\"36\" x=\"263\" y=\"223.5669\">[true]</text></a><!--MD5=[9d460795cfb0727b64cc72258800acab]\n",
       "@startuml\r\n",
       "skinparam ranksep 8\r\n",
       "skinparam linetype ortho\r\n",
       "skinparam monochrome true\r\n",
       "skinparam classbackgroundcolor white\r\n",
       "skinparam shadowing false\r\n",
       "skinparam wrapWidth 300\r\n",
       "hide circle\r\n",
       "\r\n",
       "rec usage \"a\" as E1  <<(T,blue)action>> [[psysml:63b3e978-ff90-4127-8639-9e6714fb0371 ]] {\r\n",
       "choice \"m\" as E2  [[psysml:3c09e5e0-87ee-487d-a94c-d1481b887cf0 ]] \r\n",
       "accept \" S\" as E3 <<accept action>> [[psysml:12477b88-d1e3-4069-a82c-9614e3ee7843 ]] \r\n",
       "send \" S to  B()\" as E4 <<send action>> [[psysml:18c53c10-a81a-4a73-8210-8be9c84ee198 ]] \r\n",
       "choice \"noname\" as E5  [[psysml:e28bc343-f228-4c60-afee-7deafa85ddc3 ]] \r\n",
       "[*] ..> E2 [[psysml:3eb4ae89-c3fe-4a5c-9996-6c16dc90e291 ]] \r\n",
       "E5 ..> [*] [[psysml:529019b4-f7b3-445e-a809-123fd999bfb3 ]] \r\n",
       "}\r\n",
       "\r\n",
       "E2 ..> E3 [[psysml:252a1c6c-cc00-403d-ac29-1241d1eee0ca ]] \r\n",
       "E3 ..> E4 [[psysml:52dd995d-9028-4157-9334-98b87c98e4ca ]] \r\n",
       "E4 ..> E5 [[psysml:11c1c086-8dd9-4b00-9ab5-dcf0da9e4b0f ]] \r\n",
       "E5 ..> E2 [[psysml:9dbcc968-b81d-4000-b2fb-dcd38ad7dec8 ]] : [true]\r\n",
       "rec def \"B\" as E6  <<(T,blue)action def>> [[psysml:a720c396-7a8e-4250-b133-b38e5d5b0a71 ]] {\r\n",
       "}\r\n",
       "\r\n",
       "@enduml\r\n",
       "\n",
       "PlantUML version 1.2020.13(Sat Jun 13 12:26:38 UTC 2020)\n",
       "(EPL source distribution)\n",
       "Java Runtime: OpenJDK Runtime Environment\n",
       "JVM: OpenJDK 64-Bit Server VM\n",
       "Default Encoding: UTF-8\n",
       "Language: en\n",
       "Country: null\n",
       "--></g></svg>"
      ]
     },
     "execution_count": 55,
     "metadata": {},
     "output_type": "execute_result"
    }
   ],
   "source": [
    "%viz --style=\"ORTHOLINE\" --view=\"Action\" \"ActionTest\""
   ]
  },
  {
   "cell_type": "code",
   "execution_count": 56,
   "id": "tough-electric",
   "metadata": {
    "execution": {
     "iopub.execute_input": "2021-03-25T14:11:54.173307Z",
     "iopub.status.busy": "2021-03-25T14:11:54.172449Z",
     "iopub.status.idle": "2021-03-25T14:11:54.862336Z",
     "shell.execute_reply": "2021-03-25T14:11:54.860926Z"
    }
   },
   "outputs": [
    {
     "data": {
      "image/svg+xml": [
       "<?xml version=\"1.0\" encoding=\"UTF-8\" standalone=\"no\"?><svg xmlns=\"http://www.w3.org/2000/svg\" xmlns:xlink=\"http://www.w3.org/1999/xlink\" contentScriptType=\"application/ecmascript\" contentStyleType=\"text/css\" height=\"187px\" preserveAspectRatio=\"none\" style=\"width:475px;height:187px;\" version=\"1.1\" viewBox=\"0 0 475 187\" width=\"475px\" zoomAndPan=\"magnify\"><defs/><g><!--MD5=[fbc87193dbaf4d95561dea2c320d4a47]\n",
       "cluster E1--><a href=\"psysml:1b586630-6073-41f8-a31c-3b1021fd2d94\" target=\"_top\" title=\"psysml:1b586630-6073-41f8-a31c-3b1021fd2d94\" xlink:actuate=\"onRequest\" xlink:href=\"psysml:1b586630-6073-41f8-a31c-3b1021fd2d94\" xlink:show=\"new\" xlink:title=\"psysml:1b586630-6073-41f8-a31c-3b1021fd2d94\" xlink:type=\"simple\"><polygon fill=\"#FFFFFF\" points=\"16,6,107,6,114,28.2969,453,28.2969,453,175,16,175,16,6\" style=\"stroke: #000000; stroke-width: 1.5;\"/><line style=\"stroke: #000000; stroke-width: 1.5;\" x1=\"16\" x2=\"114\" y1=\"28.2969\" y2=\"28.2969\"/><text fill=\"#000000\" font-family=\"sans-serif\" font-size=\"14\" font-weight=\"bold\" lengthAdjust=\"spacingAndGlyphs\" textLength=\"85\" x=\"20\" y=\"20.9951\">ActionTest</text></a><!--MD5=[b4997ac47864f28c2f74865a473b2911]\n",
       "class E2--><a href=\"psysml:ec6ecfb2-58e1-4e93-a57f-7fba141d91de\" target=\"_top\" title=\"psysml:ec6ecfb2-58e1-4e93-a57f-7fba141d91de\" xlink:actuate=\"onRequest\" xlink:href=\"psysml:ec6ecfb2-58e1-4e93-a57f-7fba141d91de\" xlink:show=\"new\" xlink:title=\"psysml:ec6ecfb2-58e1-4e93-a57f-7fba141d91de\" xlink:type=\"simple\"><rect fill=\"#FFFFFF\" height=\"45.9375\" id=\"E2\" style=\"stroke: #383838; stroke-width: 1.5;\" width=\"95\" x=\"341.5\" y=\"77\"/><text fill=\"#000000\" font-family=\"sans-serif\" font-size=\"12\" font-style=\"italic\" lengthAdjust=\"spacingAndGlyphs\" textLength=\"93\" x=\"342.5\" y=\"93.1387\">«attribute def»</text><text fill=\"#000000\" font-family=\"sans-serif\" font-size=\"12\" lengthAdjust=\"spacingAndGlyphs\" textLength=\"8\" x=\"385\" y=\"107.1074\">S</text><line style=\"stroke: #383838; stroke-width: 1.5;\" x1=\"342.5\" x2=\"435.5\" y1=\"114.9375\" y2=\"114.9375\"/></a><!--MD5=[09b614a08d8cba4a07c9adeb5e0fee81]\n",
       "class E3--><a href=\"psysml:63b3e978-ff90-4127-8639-9e6714fb0371\" target=\"_top\" title=\"psysml:63b3e978-ff90-4127-8639-9e6714fb0371\" xlink:actuate=\"onRequest\" xlink:href=\"psysml:63b3e978-ff90-4127-8639-9e6714fb0371\" xlink:show=\"new\" xlink:title=\"psysml:63b3e978-ff90-4127-8639-9e6714fb0371\" xlink:type=\"simple\"><rect fill=\"#FFFFFF\" height=\"117.9609\" id=\"E3\" rx=\"10\" ry=\"10\" style=\"stroke: #383838; stroke-width: 1.5;\" width=\"160\" x=\"146\" y=\"41\"/><text fill=\"#000000\" font-family=\"sans-serif\" font-size=\"12\" font-style=\"italic\" lengthAdjust=\"spacingAndGlyphs\" textLength=\"53\" x=\"199.5\" y=\"57.1387\">«action»</text><text fill=\"#000000\" font-family=\"sans-serif\" font-size=\"12\" lengthAdjust=\"spacingAndGlyphs\" textLength=\"8\" x=\"222\" y=\"71.1074\">a</text><line style=\"stroke: #383838; stroke-width: 1.5;\" x1=\"147\" x2=\"305\" y1=\"78.9375\" y2=\"78.9375\"/><text fill=\"#000000\" font-family=\"sans-serif\" font-size=\"11\" lengthAdjust=\"spacingAndGlyphs\" textLength=\"69\" x=\"152\" y=\"109.9526\">start: Action</text><text fill=\"#000000\" font-family=\"sans-serif\" font-size=\"11\" font-style=\"italic\" lengthAdjust=\"spacingAndGlyphs\" textLength=\"148\" x=\"152\" y=\"122.7573\">:&gt;&gt;Occurrence::startShot</text><line style=\"stroke: #383838; stroke-width: 1.0;\" x1=\"147\" x2=\"205.5\" y1=\"93.3398\" y2=\"93.3398\"/><text fill=\"#000000\" font-family=\"sans-serif\" font-size=\"11\" lengthAdjust=\"spacingAndGlyphs\" textLength=\"41\" x=\"205.5\" y=\"96.6479\">actions</text><line style=\"stroke: #383838; stroke-width: 1.0;\" x1=\"246.5\" x2=\"305\" y1=\"93.3398\" y2=\"93.3398\"/><text fill=\"#000000\" font-family=\"sans-serif\" font-size=\"11\" lengthAdjust=\"spacingAndGlyphs\" textLength=\"11\" x=\"152\" y=\"152.3667\">m</text><line style=\"stroke: #383838; stroke-width: 1.0;\" x1=\"147\" x2=\"189.5\" y1=\"135.7539\" y2=\"135.7539\"/><text fill=\"#000000\" font-family=\"sans-serif\" font-size=\"11\" lengthAdjust=\"spacingAndGlyphs\" textLength=\"73\" x=\"189.5\" y=\"139.062\">mergeNodes</text><line style=\"stroke: #383838; stroke-width: 1.0;\" x1=\"262.5\" x2=\"305\" y1=\"135.7539\" y2=\"135.7539\"/></a><!--MD5=[60a26617385b1d2d0262a64233df1f8d]\n",
       "class E6--><a href=\"psysml:a720c396-7a8e-4250-b133-b38e5d5b0a71\" target=\"_top\" title=\"psysml:a720c396-7a8e-4250-b133-b38e5d5b0a71\" xlink:actuate=\"onRequest\" xlink:href=\"psysml:a720c396-7a8e-4250-b133-b38e5d5b0a71\" xlink:show=\"new\" xlink:title=\"psysml:a720c396-7a8e-4250-b133-b38e5d5b0a71\" xlink:type=\"simple\"><rect fill=\"#FFFFFF\" height=\"45.9375\" id=\"E6\" style=\"stroke: #383838; stroke-width: 1.5;\" width=\"79\" x=\"31.5\" y=\"77\"/><text fill=\"#000000\" font-family=\"sans-serif\" font-size=\"12\" font-style=\"italic\" lengthAdjust=\"spacingAndGlyphs\" textLength=\"77\" x=\"32.5\" y=\"93.1387\">«action def»</text><text fill=\"#000000\" font-family=\"sans-serif\" font-size=\"12\" lengthAdjust=\"spacingAndGlyphs\" textLength=\"8\" x=\"67\" y=\"107.1074\">B</text><line style=\"stroke: #383838; stroke-width: 1.5;\" x1=\"32.5\" x2=\"109.5\" y1=\"114.9375\" y2=\"114.9375\"/></a><!--MD5=[95cbc939e9e08554e06d28d4ae811997]\n",
       "@startuml\r\n",
       "skinparam linetype ortho\r\n",
       "skinparam monochrome true\r\n",
       "skinparam classbackgroundcolor white\r\n",
       "skinparam shadowing false\r\n",
       "skinparam wrapWidth 300\r\n",
       "hide circle\r\n",
       "\r\n",
       "package \"ActionTest\" as E1  [[psysml:1b586630-6073-41f8-a31c-3b1021fd2d94 ]]  {\r\n",
       "comp def \"S\" as E2  <<(T,blue)attribute def>> [[psysml:ec6ecfb2-58e1-4e93-a57f-7fba141d91de ]] {\r\n",
       "}\r\n",
       "comp usage \"a\" as E3  <<(T,blue)action>> [[psysml:63b3e978-ff90-4127-8639-9e6714fb0371 ]] {\r\n",
       "- - actions - -\r\n",
       "start: Action\\n//:>>Occurrence::startShot// \r\n",
       "- - mergeNodes - -\r\n",
       "m\r\n",
       "}\r\n",
       "comp def \"B\" as E6  <<(T,blue)action def>> [[psysml:a720c396-7a8e-4250-b133-b38e5d5b0a71 ]] {\r\n",
       "}\r\n",
       "}\r\n",
       "@enduml\r\n",
       "\n",
       "PlantUML version 1.2020.13(Sat Jun 13 12:26:38 UTC 2020)\n",
       "(EPL source distribution)\n",
       "Java Runtime: OpenJDK Runtime Environment\n",
       "JVM: OpenJDK 64-Bit Server VM\n",
       "Default Encoding: UTF-8\n",
       "Language: en\n",
       "Country: null\n",
       "--></g></svg>"
      ]
     },
     "execution_count": 56,
     "metadata": {},
     "output_type": "execute_result"
    }
   ],
   "source": [
    "%viz --style=\"ORTHOLINE\" --view=\"Sequence\" \"ActionTest\""
   ]
  },
  {
   "cell_type": "code",
   "execution_count": 57,
   "id": "impossible-hungary",
   "metadata": {
    "execution": {
     "iopub.execute_input": "2021-03-25T14:11:54.914431Z",
     "iopub.status.busy": "2021-03-25T14:11:54.913297Z",
     "iopub.status.idle": "2021-03-25T14:11:55.071849Z",
     "shell.execute_reply": "2021-03-25T14:11:55.071457Z"
    }
   },
   "outputs": [
    {
     "data": {
      "image/svg+xml": [
       "<?xml version=\"1.0\" encoding=\"UTF-8\" standalone=\"no\"?><svg xmlns=\"http://www.w3.org/2000/svg\" xmlns:xlink=\"http://www.w3.org/1999/xlink\" contentScriptType=\"application/ecmascript\" contentStyleType=\"text/css\" height=\"684px\" preserveAspectRatio=\"none\" style=\"width:518px;height:684px;\" version=\"1.1\" viewBox=\"0 0 518 684\" width=\"518px\" zoomAndPan=\"magnify\"><defs/><g><!--MD5=[fbc87193dbaf4d95561dea2c320d4a47]\n",
       "cluster E1--><a href=\"psysml:1b586630-6073-41f8-a31c-3b1021fd2d94\" target=\"_top\" title=\"psysml:1b586630-6073-41f8-a31c-3b1021fd2d94\" xlink:actuate=\"onRequest\" xlink:href=\"psysml:1b586630-6073-41f8-a31c-3b1021fd2d94\" xlink:show=\"new\" xlink:title=\"psysml:1b586630-6073-41f8-a31c-3b1021fd2d94\" xlink:type=\"simple\"><polygon fill=\"#FFFFFF\" points=\"16,6,107,6,114,28.2969,496,28.2969,496,672,16,672,16,6\" style=\"stroke: #000000; stroke-width: 1.5;\"/><line style=\"stroke: #000000; stroke-width: 1.5;\" x1=\"16\" x2=\"114\" y1=\"28.2969\" y2=\"28.2969\"/><text fill=\"#000000\" font-family=\"sans-serif\" font-size=\"14\" font-weight=\"bold\" lengthAdjust=\"spacingAndGlyphs\" textLength=\"85\" x=\"20\" y=\"20.9951\">ActionTest</text></a><!--MD5=[d5e69f78d87373223dbae638b30a9c99]\n",
       "cluster E3--><a href=\"psysml:63b3e978-ff90-4127-8639-9e6714fb0371\" target=\"_top\" title=\"psysml:63b3e978-ff90-4127-8639-9e6714fb0371\" xlink:actuate=\"onRequest\" xlink:href=\"psysml:63b3e978-ff90-4127-8639-9e6714fb0371\" xlink:show=\"new\" xlink:title=\"psysml:63b3e978-ff90-4127-8639-9e6714fb0371\" xlink:type=\"simple\"><rect fill=\"#FFFFFF\" height=\"599\" id=\"E3\" rx=\"10\" ry=\"10\" style=\"stroke: #383838; stroke-width: 1.5;\" width=\"209\" x=\"263\" y=\"49\"/><rect fill=\"#F8F8F8\" height=\"37.9375\" rx=\"10\" ry=\"10\" style=\"stroke: #F8F8F8; stroke-width: 1.5;\" width=\"209\" x=\"263\" y=\"49\"/><rect fill=\"#F8F8F8\" height=\"10\" style=\"stroke: #F8F8F8; stroke-width: 1.5;\" width=\"209\" x=\"263\" y=\"76.9375\"/><rect fill=\"none\" height=\"599\" id=\"E3\" rx=\"10\" ry=\"10\" style=\"stroke: #383838; stroke-width: 1.5;\" width=\"209\" x=\"263\" y=\"49\"/><text fill=\"#000000\" font-family=\"sans-serif\" font-size=\"12\" font-style=\"italic\" lengthAdjust=\"spacingAndGlyphs\" textLength=\"53\" x=\"341\" y=\"65.1387\">«action»</text><text fill=\"#000000\" font-family=\"sans-serif\" font-size=\"12\" lengthAdjust=\"spacingAndGlyphs\" textLength=\"8\" x=\"363.5\" y=\"79.1074\">a</text><line style=\"stroke: #383838; stroke-width: 1.0;\" x1=\"263\" x2=\"472\" y1=\"86.9375\" y2=\"86.9375\"/></a><!--MD5=[b4997ac47864f28c2f74865a473b2911]\n",
       "class E2--><a href=\"psysml:ec6ecfb2-58e1-4e93-a57f-7fba141d91de\" target=\"_top\" title=\"psysml:ec6ecfb2-58e1-4e93-a57f-7fba141d91de\" xlink:actuate=\"onRequest\" xlink:href=\"psysml:ec6ecfb2-58e1-4e93-a57f-7fba141d91de\" xlink:show=\"new\" xlink:title=\"psysml:ec6ecfb2-58e1-4e93-a57f-7fba141d91de\" xlink:type=\"simple\"><rect fill=\"#FFFFFF\" height=\"45.9375\" id=\"E2\" style=\"stroke: #383838; stroke-width: 1.5;\" width=\"95\" x=\"151.5\" y=\"87\"/><text fill=\"#000000\" font-family=\"sans-serif\" font-size=\"12\" font-style=\"italic\" lengthAdjust=\"spacingAndGlyphs\" textLength=\"93\" x=\"152.5\" y=\"103.1387\">«attribute def»</text><text fill=\"#000000\" font-family=\"sans-serif\" font-size=\"12\" lengthAdjust=\"spacingAndGlyphs\" textLength=\"8\" x=\"195\" y=\"117.1074\">S</text><line style=\"stroke: #383838; stroke-width: 1.5;\" x1=\"152.5\" x2=\"245.5\" y1=\"124.9375\" y2=\"124.9375\"/></a><polygon fill=\"#F8F8F8\" points=\"420,194,432,206,420,218,408,206,420,194\" style=\"stroke: #383838; stroke-width: 1.5;\"/><!--MD5=[21dd76c19d33815960c0e92fef8f0eef]\n",
       "entity E5--><a href=\"psysml:12477b88-d1e3-4069-a82c-9614e3ee7843\" target=\"_top\" title=\"psysml:12477b88-d1e3-4069-a82c-9614e3ee7843\" xlink:actuate=\"onRequest\" xlink:href=\"psysml:12477b88-d1e3-4069-a82c-9614e3ee7843\" xlink:show=\"new\" xlink:title=\"psysml:12477b88-d1e3-4069-a82c-9614e3ee7843\" xlink:type=\"simple\"><polygon fill=\"#F8F8F8\" points=\"279,279,279,333.5938,419,333.5938,399,306.2969,419,279\" style=\"stroke: #000000; stroke-width: 1.5;\"/><text fill=\"#000000\" font-family=\"sans-serif\" font-size=\"14\" font-style=\"italic\" lengthAdjust=\"spacingAndGlyphs\" textLength=\"111\" x=\"286\" y=\"301.9951\">«accept action»</text><text fill=\"#000000\" font-family=\"sans-serif\" font-size=\"14\" lengthAdjust=\"spacingAndGlyphs\" textLength=\"9\" x=\"337\" y=\"319.292\">S</text></a><!--MD5=[24d87cdf3002d433f401b2a2aa9f9f65]\n",
       "entity E6--><a href=\"psysml:18c53c10-a81a-4a73-8210-8be9c84ee198\" target=\"_top\" title=\"psysml:18c53c10-a81a-4a73-8210-8be9c84ee198\" xlink:actuate=\"onRequest\" xlink:href=\"psysml:18c53c10-a81a-4a73-8210-8be9c84ee198\" xlink:show=\"new\" xlink:title=\"psysml:18c53c10-a81a-4a73-8210-8be9c84ee198\" xlink:type=\"simple\"><polygon fill=\"#F8F8F8\" points=\"279,411,279,465.5938,387,465.5938,407,438.2969,387,411\" style=\"stroke: #000000; stroke-width: 1.5;\"/><text fill=\"#000000\" font-family=\"sans-serif\" font-size=\"14\" font-style=\"italic\" lengthAdjust=\"spacingAndGlyphs\" textLength=\"99\" x=\"286\" y=\"433.9951\">«send action»</text><text fill=\"#000000\" font-family=\"sans-serif\" font-size=\"14\" lengthAdjust=\"spacingAndGlyphs\" textLength=\"55\" x=\"308\" y=\"451.292\">S to  B()</text></a><polygon fill=\"#F8F8F8\" points=\"418,527,430,539,418,551,406,539,418,527\" style=\"stroke: #383838; stroke-width: 1.5;\"/><ellipse cx=\"420\" cy=\"110\" fill=\"#000000\" rx=\"10\" ry=\"10\" style=\"stroke: none; stroke-width: 1.0;\"/><ellipse cx=\"418\" cy=\"622\" fill=\"none\" rx=\"10\" ry=\"10\" style=\"stroke: #000000; stroke-width: 1.0;\"/><ellipse cx=\"418.5\" cy=\"622.5\" fill=\"#000000\" rx=\"6\" ry=\"6\" style=\"stroke: none; stroke-width: 1.0;\"/><g id=\"E1.E8\"><a href=\"psysml:a720c396-7a8e-4250-b133-b38e5d5b0a71\" target=\"_top\" title=\"psysml:a720c396-7a8e-4250-b133-b38e5d5b0a71\" xlink:actuate=\"onRequest\" xlink:href=\"psysml:a720c396-7a8e-4250-b133-b38e5d5b0a71\" xlink:show=\"new\" xlink:title=\"psysml:a720c396-7a8e-4250-b133-b38e5d5b0a71\" xlink:type=\"simple\"><rect fill=\"#FFFFFF\" height=\"42.9375\" id=\"E8\" style=\"stroke: #383838; stroke-width: 1.5;\" width=\"84\" x=\"32\" y=\"88.5\"/><rect fill=\"#F8F8F8\" height=\"37.9375\" style=\"stroke: #383838; stroke-width: 1.5;\" width=\"84\" x=\"32\" y=\"88.5\"/><text fill=\"#000000\" font-family=\"sans-serif\" font-size=\"12\" font-style=\"italic\" lengthAdjust=\"spacingAndGlyphs\" textLength=\"77\" x=\"35.5\" y=\"104.6387\">«action def»</text><text fill=\"#000000\" font-family=\"sans-serif\" font-size=\"12\" lengthAdjust=\"spacingAndGlyphs\" textLength=\"8\" x=\"70\" y=\"118.6074\">B</text></a></g><!--MD5=[f47e10efcf9a6752d55dae986d790ed9]\n",
       "link *start*E3 to E4--><a href=\"psysml:3eb4ae89-c3fe-4a5c-9996-6c16dc90e291\" target=\"_top\" title=\"psysml:3eb4ae89-c3fe-4a5c-9996-6c16dc90e291\" xlink:actuate=\"onRequest\" xlink:href=\"psysml:3eb4ae89-c3fe-4a5c-9996-6c16dc90e291\" xlink:show=\"new\" xlink:title=\"psysml:3eb4ae89-c3fe-4a5c-9996-6c16dc90e291\" xlink:type=\"simple\"><path d=\"M420,120.27 C420,120.27 420,188.7 420,188.7 \" fill=\"none\" id=\"*start*E3-&gt;E4\" style=\"stroke: #383838; stroke-width: 1.0;\"/><polygon fill=\"#383838\" points=\"420,193.7,424,184.7,420,188.7,416,184.7,420,193.7\" style=\"stroke: #383838; stroke-width: 1.0;\"/></a><!--MD5=[d19f2eb34364d71b67042106d92f540b]\n",
       "link E7 to *end*E3--><a href=\"psysml:529019b4-f7b3-445e-a809-123fd999bfb3\" target=\"_top\" title=\"psysml:529019b4-f7b3-445e-a809-123fd999bfb3\" xlink:actuate=\"onRequest\" xlink:href=\"psysml:529019b4-f7b3-445e-a809-123fd999bfb3\" xlink:show=\"new\" xlink:title=\"psysml:529019b4-f7b3-445e-a809-123fd999bfb3\" xlink:type=\"simple\"><path d=\"M418,551.25 C418,551.25 418,606.8 418,606.8 \" fill=\"none\" id=\"E7-&gt;*end*E3\" style=\"stroke: #383838; stroke-width: 1.0;\"/><polygon fill=\"#383838\" points=\"418,611.8,422,602.8,418,606.8,414,602.8,418,611.8\" style=\"stroke: #383838; stroke-width: 1.0;\"/></a><!--MD5=[1b7591eae5389033d8d09a9d6721a717]\n",
       "link E4 to E5--><a href=\"psysml:252a1c6c-cc00-403d-ac29-1241d1eee0ca\" target=\"_top\" title=\"psysml:252a1c6c-cc00-403d-ac29-1241d1eee0ca\" xlink:actuate=\"onRequest\" xlink:href=\"psysml:252a1c6c-cc00-403d-ac29-1241d1eee0ca\" xlink:show=\"new\" xlink:title=\"psysml:252a1c6c-cc00-403d-ac29-1241d1eee0ca\" xlink:type=\"simple\"><path d=\"M413.5,211.69 C413.5,211.69 413.5,273.98 413.5,273.98 \" fill=\"none\" id=\"E4-&gt;E5\" style=\"stroke: #383838; stroke-width: 1.0;\"/><polygon fill=\"#383838\" points=\"413.5,278.98,417.5,269.98,413.5,273.98,409.5,269.98,413.5,278.98\" style=\"stroke: #383838; stroke-width: 1.0;\"/></a><!--MD5=[9120cf2e5df3bff93db8f754bbbc09b4]\n",
       "link E5 to E6--><a href=\"psysml:52dd995d-9028-4157-9334-98b87c98e4ca\" target=\"_top\" title=\"psysml:52dd995d-9028-4157-9334-98b87c98e4ca\" xlink:actuate=\"onRequest\" xlink:href=\"psysml:52dd995d-9028-4157-9334-98b87c98e4ca\" xlink:show=\"new\" xlink:title=\"psysml:52dd995d-9028-4157-9334-98b87c98e4ca\" xlink:type=\"simple\"><path d=\"M343,334.17 C343,334.17 343,405.86 343,405.86 \" fill=\"none\" id=\"E5-&gt;E6\" style=\"stroke: #383838; stroke-width: 1.0;\"/><polygon fill=\"#383838\" points=\"343,410.86,347,401.86,343,405.86,339,401.86,343,410.86\" style=\"stroke: #383838; stroke-width: 1.0;\"/></a><!--MD5=[02c70b7c851c11e3980e4e90450dc5dd]\n",
       "link E6 to E7--><a href=\"psysml:11c1c086-8dd9-4b00-9ab5-dcf0da9e4b0f\" target=\"_top\" title=\"psysml:11c1c086-8dd9-4b00-9ab5-dcf0da9e4b0f\" xlink:actuate=\"onRequest\" xlink:href=\"psysml:11c1c086-8dd9-4b00-9ab5-dcf0da9e4b0f\" xlink:show=\"new\" xlink:title=\"psysml:11c1c086-8dd9-4b00-9ab5-dcf0da9e4b0f\" xlink:type=\"simple\"><path d=\"M407.03,439 C410.74,439 413,439 413,439 C413,439 413,526.81 413,526.81 \" fill=\"none\" id=\"E6-&gt;E7\" style=\"stroke: #383838; stroke-width: 1.0;\"/><polygon fill=\"#383838\" points=\"413,531.81,417,522.81,413,526.81,409,522.81,413,531.81\" style=\"stroke: #383838; stroke-width: 1.0;\"/></a><!--MD5=[6bdd27f9905911a7e892a3dc65cf6b7c]\n",
       "link E7 to E4--><a href=\"psysml:9dbcc968-b81d-4000-b2fb-dcd38ad7dec8\" target=\"_top\" title=\"psysml:9dbcc968-b81d-4000-b2fb-dcd38ad7dec8\" xlink:actuate=\"onRequest\" xlink:href=\"psysml:9dbcc968-b81d-4000-b2fb-dcd38ad7dec8\" xlink:show=\"new\" xlink:title=\"psysml:9dbcc968-b81d-4000-b2fb-dcd38ad7dec8\" xlink:type=\"simple\"><path d=\"M424.5,533.5 C424.5,533.5 424.5,218.64 424.5,218.64 \" fill=\"none\" id=\"E7-&gt;E4\" style=\"stroke: #383838; stroke-width: 1.0;\"/><polygon fill=\"#383838\" points=\"424.5,213.64,420.5,222.64,424.5,218.64,428.5,222.64,424.5,213.64\" style=\"stroke: #383838; stroke-width: 1.0;\"/><text fill=\"#000000\" font-family=\"sans-serif\" font-size=\"13\" lengthAdjust=\"spacingAndGlyphs\" textLength=\"36\" x=\"419\" y=\"377.0669\">[true]</text></a><!--MD5=[aaa28067184c0751c16fab1bc613a67d]\n",
       "@startuml\r\n",
       "skinparam linetype ortho\r\n",
       "skinparam monochrome true\r\n",
       "skinparam classbackgroundcolor white\r\n",
       "skinparam shadowing false\r\n",
       "skinparam wrapWidth 300\r\n",
       "hide circle\r\n",
       "\r\n",
       "package \"ActionTest\" as E1  [[psysml:1b586630-6073-41f8-a31c-3b1021fd2d94 ]]  {\r\n",
       "comp def \"S\" as E2  <<(T,blue)attribute def>> [[psysml:ec6ecfb2-58e1-4e93-a57f-7fba141d91de ]] {\r\n",
       "}\r\n",
       "rec usage \"a\" as E3  <<(T,blue)action>> [[psysml:63b3e978-ff90-4127-8639-9e6714fb0371 ]] {\r\n",
       "choice \"m\" as E4  [[psysml:3c09e5e0-87ee-487d-a94c-d1481b887cf0 ]] \r\n",
       "accept \" S\" as E5 <<accept action>> [[psysml:12477b88-d1e3-4069-a82c-9614e3ee7843 ]] \r\n",
       "send \" S to  B()\" as E6 <<send action>> [[psysml:18c53c10-a81a-4a73-8210-8be9c84ee198 ]] \r\n",
       "choice \"noname\" as E7  [[psysml:e28bc343-f228-4c60-afee-7deafa85ddc3 ]] \r\n",
       "[*] - -> E4 [[psysml:3eb4ae89-c3fe-4a5c-9996-6c16dc90e291 ]] \r\n",
       "E7  - -> [*] [[psysml:529019b4-f7b3-445e-a809-123fd999bfb3 ]] \r\n",
       "}\r\n",
       "\r\n",
       "rec def \"B\" as E8  <<(T,blue)action def>> [[psysml:a720c396-7a8e-4250-b133-b38e5d5b0a71 ]] {\r\n",
       "}\r\n",
       "\r\n",
       "E4 - -> E5 [[psysml:252a1c6c-cc00-403d-ac29-1241d1eee0ca ]] \r\n",
       "E5 - -> E6 [[psysml:52dd995d-9028-4157-9334-98b87c98e4ca ]] \r\n",
       "E6 - -> E7 [[psysml:11c1c086-8dd9-4b00-9ab5-dcf0da9e4b0f ]] \r\n",
       "E7  - -> E4 [[psysml:9dbcc968-b81d-4000-b2fb-dcd38ad7dec8 ]] : [true]\r\n",
       "}\r\n",
       "@enduml\r\n",
       "\n",
       "PlantUML version 1.2020.13(Sat Jun 13 12:26:38 UTC 2020)\n",
       "(EPL source distribution)\n",
       "Java Runtime: OpenJDK Runtime Environment\n",
       "JVM: OpenJDK 64-Bit Server VM\n",
       "Default Encoding: UTF-8\n",
       "Language: en\n",
       "Country: null\n",
       "--></g></svg>"
      ]
     },
     "execution_count": 57,
     "metadata": {},
     "output_type": "execute_result"
    }
   ],
   "source": [
    "%viz --style=\"ORTHOLINE\" --view=\"MIXED\" \"ActionTest\""
   ]
  }
 ],
 "metadata": {
  "kernelspec": {
   "display_name": "SysML",
   "language": "sysml",
   "name": "sysml"
  },
  "language_info": {
   "codemirror_mode": "sysml",
   "file_extension": ".sysml",
   "mimetype": "text/x-sysml",
   "name": "SysML",
   "pygments_lexer": "java",
   "version": "1.0.0"
  }
 },
 "nbformat": 4,
 "nbformat_minor": 5
}
