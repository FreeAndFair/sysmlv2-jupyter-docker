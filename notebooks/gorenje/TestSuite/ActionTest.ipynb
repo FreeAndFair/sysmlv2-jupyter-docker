{
 "cells": [
  {
   "cell_type": "markdown",
   "id": "0d025d32",
   "metadata": {},
   "source": [
    "# SysML v2 Test Suite\n",
    "\n",
    "This can notebook can be cleared using menu `Edit --> Clear All Outputs` and then all cells can be\n",
    "run using menu `Run --> Run All Cells`.\n",
    "\n",
    "**WARNING**: This file is generated, all modifications here will be ignored.\n"
   ]
  },
  {
   "cell_type": "markdown",
   "id": "8f78c615",
   "metadata": {},
   "source": [
    "## File: ../../sysml/src/examples/Simple Tests/ActionTest.sysml"
   ]
  },
  {
   "cell_type": "code",
   "execution_count": 1,
   "id": "bb97d214",
   "metadata": {
    "execution": {
     "iopub.execute_input": "2024-12-16T14:21:16.803997Z",
     "iopub.status.busy": "2024-12-16T14:21:16.801571Z",
     "iopub.status.idle": "2024-12-16T14:21:17.448544Z",
     "shell.execute_reply": "2024-12-16T14:21:17.448110Z"
    }
   },
   "outputs": [
    {
     "name": "stderr",
     "output_type": "stream",
     "text": [
      "ERROR:no viable alternative at input 'then' (1.sysml line : 35 column : 3)\n"
     ]
    },
    {
     "name": "stderr",
     "output_type": "stream",
     "text": [
      "ERROR:no viable alternative at input 'terminate' (1.sysml line : 36 column : 4)\n"
     ]
    },
    {
     "name": "stderr",
     "output_type": "stream",
     "text": [
      "ERROR:no viable alternative at input 'c1' (1.sysml line : 36 column : 14)\n"
     ]
    },
    {
     "name": "stderr",
     "output_type": "stream",
     "text": [
      "ERROR:missing EOF at 'then' (1.sysml line : 38 column : 3)\n"
     ]
    },
    {
     "data": {
      "text/plain": []
     },
     "execution_count": 1,
     "metadata": {},
     "output_type": "execute_result"
    }
   ],
   "source": [
    "package ActionTest {\n",
    "\taction def A{ in x; }\n",
    "\t\n",
    "\taction a: A { \n",
    "\t\tfirst start;\n",
    "\t\t\n",
    "\t\taction b { in y = x; }\n",
    "\t\t\n",
    "\t\tbind x = b.y;\n",
    "\t}\n",
    "\t\n",
    "\tattribute def S;\n",
    "\t\n",
    "\taction a1 {\n",
    "\t\tfirst start;\t\t\n",
    "\t\tthen merge m;\n",
    "\t\tthen accept S;\n",
    "\t\tthen accept sig after 10[SI::s]; \n",
    "\t\tthen accept at Time::Iso8601DateTime(\"2022-01-30T01:00:00Z\");\n",
    "\t\t\n",
    "\t\tthen send S() to b;\n",
    "\t\tthen accept when b.f;\n",
    "\t\tthen decide;\n",
    "\t\t\tif true then m;\n",
    "\t\t\telse done;\n",
    "\t}\n",
    "\t\n",
    "\taction b {\n",
    "\t\tattribute f : ScalarValues::Boolean;\n",
    "\t\tref action a : A;\n",
    "\t}\n",
    "\t\n",
    "\taction def c {\n",
    "\t\tfirst start;\n",
    "\t\tthen action c1 {\n",
    "\t\t\tterminate c1;\n",
    "\t\t}\n",
    "\t\tthen terminate;\n",
    "\t}\t\n",
    "}"
   ]
  },
  {
   "cell_type": "code",
   "execution_count": 2,
   "id": "ad84799a",
   "metadata": {
    "execution": {
     "iopub.execute_input": "2024-12-16T14:21:17.505544Z",
     "iopub.status.busy": "2024-12-16T14:21:17.505307Z",
     "iopub.status.idle": "2024-12-16T14:21:17.513564Z",
     "shell.execute_reply": "2024-12-16T14:21:17.513367Z"
    }
   },
   "outputs": [
    {
     "data": {
      "text/plain": [
       "ERROR:Couldn't resolve reference to Element 'ActionTest'\n"
      ]
     },
     "execution_count": 2,
     "metadata": {},
     "output_type": "execute_result"
    }
   ],
   "source": [
    "%viz --style=\"COMPTREE\" --view=\"Default\" \"ActionTest\""
   ]
  },
  {
   "cell_type": "code",
   "execution_count": 3,
   "id": "25e47b83",
   "metadata": {
    "execution": {
     "iopub.execute_input": "2024-12-16T14:21:17.567239Z",
     "iopub.status.busy": "2024-12-16T14:21:17.567040Z",
     "iopub.status.idle": "2024-12-16T14:21:17.568046Z",
     "shell.execute_reply": "2024-12-16T14:21:17.567887Z"
    }
   },
   "outputs": [
    {
     "data": {
      "text/plain": [
       "ERROR:Couldn't resolve reference to Element 'ActionTest'\n"
      ]
     },
     "execution_count": 3,
     "metadata": {},
     "output_type": "execute_result"
    }
   ],
   "source": [
    "%viz --style=\"COMPTREE\" --view=\"Tree\" \"ActionTest\""
   ]
  },
  {
   "cell_type": "code",
   "execution_count": 4,
   "id": "d4a5f4fe",
   "metadata": {
    "execution": {
     "iopub.execute_input": "2024-12-16T14:21:17.622943Z",
     "iopub.status.busy": "2024-12-16T14:21:17.622602Z",
     "iopub.status.idle": "2024-12-16T14:21:17.623881Z",
     "shell.execute_reply": "2024-12-16T14:21:17.623108Z"
    }
   },
   "outputs": [
    {
     "data": {
      "text/plain": [
       "ERROR:Couldn't resolve reference to Element 'ActionTest'\n"
      ]
     },
     "execution_count": 4,
     "metadata": {},
     "output_type": "execute_result"
    }
   ],
   "source": [
    "%viz --style=\"COMPTREE\" --view=\"State\" \"ActionTest\""
   ]
  },
  {
   "cell_type": "code",
   "execution_count": 5,
   "id": "02ebe4da",
   "metadata": {
    "execution": {
     "iopub.execute_input": "2024-12-16T14:21:17.680587Z",
     "iopub.status.busy": "2024-12-16T14:21:17.680118Z",
     "iopub.status.idle": "2024-12-16T14:21:17.681241Z",
     "shell.execute_reply": "2024-12-16T14:21:17.681367Z"
    }
   },
   "outputs": [
    {
     "data": {
      "text/plain": [
       "ERROR:Couldn't resolve reference to Element 'ActionTest'\n"
      ]
     },
     "execution_count": 5,
     "metadata": {},
     "output_type": "execute_result"
    }
   ],
   "source": [
    "%viz --style=\"COMPTREE\" --view=\"Interconnection\" \"ActionTest\""
   ]
  },
  {
   "cell_type": "code",
   "execution_count": 6,
   "id": "d6b96b46",
   "metadata": {
    "execution": {
     "iopub.execute_input": "2024-12-16T14:21:17.738269Z",
     "iopub.status.busy": "2024-12-16T14:21:17.738044Z",
     "iopub.status.idle": "2024-12-16T14:21:17.739524Z",
     "shell.execute_reply": "2024-12-16T14:21:17.739665Z"
    }
   },
   "outputs": [
    {
     "data": {
      "text/plain": [
       "ERROR:Couldn't resolve reference to Element 'ActionTest'\n"
      ]
     },
     "execution_count": 6,
     "metadata": {},
     "output_type": "execute_result"
    }
   ],
   "source": [
    "%viz --style=\"COMPTREE\" --view=\"Action\" \"ActionTest\""
   ]
  },
  {
   "cell_type": "code",
   "execution_count": 7,
   "id": "4ae24edd",
   "metadata": {
    "execution": {
     "iopub.execute_input": "2024-12-16T14:21:17.796963Z",
     "iopub.status.busy": "2024-12-16T14:21:17.796604Z",
     "iopub.status.idle": "2024-12-16T14:21:17.797738Z",
     "shell.execute_reply": "2024-12-16T14:21:17.797135Z"
    }
   },
   "outputs": [
    {
     "data": {
      "text/plain": [
       "ERROR:Couldn't resolve reference to Element 'ActionTest'\n"
      ]
     },
     "execution_count": 7,
     "metadata": {},
     "output_type": "execute_result"
    }
   ],
   "source": [
    "%viz --style=\"COMPTREE\" --view=\"Sequence\" \"ActionTest\""
   ]
  },
  {
   "cell_type": "code",
   "execution_count": 8,
   "id": "7c2b20fd",
   "metadata": {
    "execution": {
     "iopub.execute_input": "2024-12-16T14:21:17.850861Z",
     "iopub.status.busy": "2024-12-16T14:21:17.850543Z",
     "iopub.status.idle": "2024-12-16T14:21:17.851823Z",
     "shell.execute_reply": "2024-12-16T14:21:17.851949Z"
    }
   },
   "outputs": [
    {
     "data": {
      "text/plain": [
       "ERROR:Couldn't resolve reference to Element 'ActionTest'\n"
      ]
     },
     "execution_count": 8,
     "metadata": {},
     "output_type": "execute_result"
    }
   ],
   "source": [
    "%viz --style=\"COMPTREE\" --view=\"MIXED\" \"ActionTest\""
   ]
  },
  {
   "cell_type": "code",
   "execution_count": 9,
   "id": "c6470e1a",
   "metadata": {
    "execution": {
     "iopub.execute_input": "2024-12-16T14:21:17.908512Z",
     "iopub.status.busy": "2024-12-16T14:21:17.908268Z",
     "iopub.status.idle": "2024-12-16T14:21:17.909550Z",
     "shell.execute_reply": "2024-12-16T14:21:17.909378Z"
    }
   },
   "outputs": [
    {
     "data": {
      "text/plain": [
       "ERROR:Couldn't resolve reference to Element 'ActionTest'\n"
      ]
     },
     "execution_count": 9,
     "metadata": {},
     "output_type": "execute_result"
    }
   ],
   "source": [
    "%viz --style=\"POLYLINE\" --view=\"Default\" \"ActionTest\""
   ]
  },
  {
   "cell_type": "code",
   "execution_count": 10,
   "id": "6b8bbb4f",
   "metadata": {
    "execution": {
     "iopub.execute_input": "2024-12-16T14:21:17.965526Z",
     "iopub.status.busy": "2024-12-16T14:21:17.965281Z",
     "iopub.status.idle": "2024-12-16T14:21:17.966354Z",
     "shell.execute_reply": "2024-12-16T14:21:17.966196Z"
    }
   },
   "outputs": [
    {
     "data": {
      "text/plain": [
       "ERROR:Couldn't resolve reference to Element 'ActionTest'\n"
      ]
     },
     "execution_count": 10,
     "metadata": {},
     "output_type": "execute_result"
    }
   ],
   "source": [
    "%viz --style=\"POLYLINE\" --view=\"Tree\" \"ActionTest\""
   ]
  },
  {
   "cell_type": "code",
   "execution_count": 11,
   "id": "d04df54c",
   "metadata": {
    "execution": {
     "iopub.execute_input": "2024-12-16T14:21:18.023319Z",
     "iopub.status.busy": "2024-12-16T14:21:18.023078Z",
     "iopub.status.idle": "2024-12-16T14:21:18.024051Z",
     "shell.execute_reply": "2024-12-16T14:21:18.024176Z"
    }
   },
   "outputs": [
    {
     "data": {
      "text/plain": [
       "ERROR:Couldn't resolve reference to Element 'ActionTest'\n"
      ]
     },
     "execution_count": 11,
     "metadata": {},
     "output_type": "execute_result"
    }
   ],
   "source": [
    "%viz --style=\"POLYLINE\" --view=\"State\" \"ActionTest\""
   ]
  },
  {
   "cell_type": "code",
   "execution_count": 12,
   "id": "fee76cbb",
   "metadata": {
    "execution": {
     "iopub.execute_input": "2024-12-16T14:21:18.082281Z",
     "iopub.status.busy": "2024-12-16T14:21:18.081915Z",
     "iopub.status.idle": "2024-12-16T14:21:18.083043Z",
     "shell.execute_reply": "2024-12-16T14:21:18.082474Z"
    }
   },
   "outputs": [
    {
     "data": {
      "text/plain": [
       "ERROR:Couldn't resolve reference to Element 'ActionTest'\n"
      ]
     },
     "execution_count": 12,
     "metadata": {},
     "output_type": "execute_result"
    }
   ],
   "source": [
    "%viz --style=\"POLYLINE\" --view=\"Interconnection\" \"ActionTest\""
   ]
  },
  {
   "cell_type": "code",
   "execution_count": 13,
   "id": "9238fcb1",
   "metadata": {
    "execution": {
     "iopub.execute_input": "2024-12-16T14:21:18.138466Z",
     "iopub.status.busy": "2024-12-16T14:21:18.137762Z",
     "iopub.status.idle": "2024-12-16T14:21:18.141145Z",
     "shell.execute_reply": "2024-12-16T14:21:18.140653Z"
    }
   },
   "outputs": [
    {
     "data": {
      "text/plain": [
       "ERROR:Couldn't resolve reference to Element 'ActionTest'\n"
      ]
     },
     "execution_count": 13,
     "metadata": {},
     "output_type": "execute_result"
    }
   ],
   "source": [
    "%viz --style=\"POLYLINE\" --view=\"Action\" \"ActionTest\""
   ]
  },
  {
   "cell_type": "code",
   "execution_count": 14,
   "id": "b97a663b",
   "metadata": {
    "execution": {
     "iopub.execute_input": "2024-12-16T14:21:18.197842Z",
     "iopub.status.busy": "2024-12-16T14:21:18.197307Z",
     "iopub.status.idle": "2024-12-16T14:21:18.200505Z",
     "shell.execute_reply": "2024-12-16T14:21:18.200044Z"
    }
   },
   "outputs": [
    {
     "data": {
      "text/plain": [
       "ERROR:Couldn't resolve reference to Element 'ActionTest'\n"
      ]
     },
     "execution_count": 14,
     "metadata": {},
     "output_type": "execute_result"
    }
   ],
   "source": [
    "%viz --style=\"POLYLINE\" --view=\"Sequence\" \"ActionTest\""
   ]
  },
  {
   "cell_type": "code",
   "execution_count": 15,
   "id": "c52237bc",
   "metadata": {
    "execution": {
     "iopub.execute_input": "2024-12-16T14:21:18.259200Z",
     "iopub.status.busy": "2024-12-16T14:21:18.258056Z",
     "iopub.status.idle": "2024-12-16T14:21:18.261070Z",
     "shell.execute_reply": "2024-12-16T14:21:18.259627Z"
    }
   },
   "outputs": [
    {
     "data": {
      "text/plain": [
       "ERROR:Couldn't resolve reference to Element 'ActionTest'\n"
      ]
     },
     "execution_count": 15,
     "metadata": {},
     "output_type": "execute_result"
    }
   ],
   "source": [
    "%viz --style=\"POLYLINE\" --view=\"MIXED\" \"ActionTest\""
   ]
  },
  {
   "cell_type": "code",
   "execution_count": 16,
   "id": "2dcc9088",
   "metadata": {
    "execution": {
     "iopub.execute_input": "2024-12-16T14:21:18.316259Z",
     "iopub.status.busy": "2024-12-16T14:21:18.315208Z",
     "iopub.status.idle": "2024-12-16T14:21:18.317786Z",
     "shell.execute_reply": "2024-12-16T14:21:18.315617Z"
    }
   },
   "outputs": [
    {
     "data": {
      "text/plain": [
       "ERROR:Couldn't resolve reference to Element 'ActionTest'\n"
      ]
     },
     "execution_count": 16,
     "metadata": {},
     "output_type": "execute_result"
    }
   ],
   "source": [
    "%viz --style=\"LR\" --view=\"Default\" \"ActionTest\""
   ]
  },
  {
   "cell_type": "code",
   "execution_count": 17,
   "id": "2634d3c0",
   "metadata": {
    "execution": {
     "iopub.execute_input": "2024-12-16T14:21:18.366724Z",
     "iopub.status.busy": "2024-12-16T14:21:18.366374Z",
     "iopub.status.idle": "2024-12-16T14:21:18.367479Z",
     "shell.execute_reply": "2024-12-16T14:21:18.367311Z"
    }
   },
   "outputs": [
    {
     "data": {
      "text/plain": [
       "ERROR:Couldn't resolve reference to Element 'ActionTest'\n"
      ]
     },
     "execution_count": 17,
     "metadata": {},
     "output_type": "execute_result"
    }
   ],
   "source": [
    "%viz --style=\"LR\" --view=\"Tree\" \"ActionTest\""
   ]
  },
  {
   "cell_type": "code",
   "execution_count": 18,
   "id": "3e0b3b9f",
   "metadata": {
    "execution": {
     "iopub.execute_input": "2024-12-16T14:21:18.423253Z",
     "iopub.status.busy": "2024-12-16T14:21:18.422733Z",
     "iopub.status.idle": "2024-12-16T14:21:18.424687Z",
     "shell.execute_reply": "2024-12-16T14:21:18.424375Z"
    }
   },
   "outputs": [
    {
     "data": {
      "text/plain": [
       "ERROR:Couldn't resolve reference to Element 'ActionTest'\n"
      ]
     },
     "execution_count": 18,
     "metadata": {},
     "output_type": "execute_result"
    }
   ],
   "source": [
    "%viz --style=\"LR\" --view=\"State\" \"ActionTest\""
   ]
  },
  {
   "cell_type": "code",
   "execution_count": 19,
   "id": "587b01da",
   "metadata": {
    "execution": {
     "iopub.execute_input": "2024-12-16T14:21:18.482820Z",
     "iopub.status.busy": "2024-12-16T14:21:18.482210Z",
     "iopub.status.idle": "2024-12-16T14:21:18.484496Z",
     "shell.execute_reply": "2024-12-16T14:21:18.483396Z"
    }
   },
   "outputs": [
    {
     "data": {
      "text/plain": [
       "ERROR:Couldn't resolve reference to Element 'ActionTest'\n"
      ]
     },
     "execution_count": 19,
     "metadata": {},
     "output_type": "execute_result"
    }
   ],
   "source": [
    "%viz --style=\"LR\" --view=\"Interconnection\" \"ActionTest\""
   ]
  },
  {
   "cell_type": "code",
   "execution_count": 20,
   "id": "c446498c",
   "metadata": {
    "execution": {
     "iopub.execute_input": "2024-12-16T14:21:18.542706Z",
     "iopub.status.busy": "2024-12-16T14:21:18.541784Z",
     "iopub.status.idle": "2024-12-16T14:21:18.545543Z",
     "shell.execute_reply": "2024-12-16T14:21:18.543506Z"
    }
   },
   "outputs": [
    {
     "data": {
      "text/plain": [
       "ERROR:Couldn't resolve reference to Element 'ActionTest'\n"
      ]
     },
     "execution_count": 20,
     "metadata": {},
     "output_type": "execute_result"
    }
   ],
   "source": [
    "%viz --style=\"LR\" --view=\"Action\" \"ActionTest\""
   ]
  },
  {
   "cell_type": "code",
   "execution_count": 21,
   "id": "83859cfc",
   "metadata": {
    "execution": {
     "iopub.execute_input": "2024-12-16T14:21:18.597297Z",
     "iopub.status.busy": "2024-12-16T14:21:18.596977Z",
     "iopub.status.idle": "2024-12-16T14:21:18.598119Z",
     "shell.execute_reply": "2024-12-16T14:21:18.597963Z"
    }
   },
   "outputs": [
    {
     "data": {
      "text/plain": [
       "ERROR:Couldn't resolve reference to Element 'ActionTest'\n"
      ]
     },
     "execution_count": 21,
     "metadata": {},
     "output_type": "execute_result"
    }
   ],
   "source": [
    "%viz --style=\"LR\" --view=\"Sequence\" \"ActionTest\""
   ]
  },
  {
   "cell_type": "code",
   "execution_count": 22,
   "id": "87c74db5",
   "metadata": {
    "execution": {
     "iopub.execute_input": "2024-12-16T14:21:18.660276Z",
     "iopub.status.busy": "2024-12-16T14:21:18.659499Z",
     "iopub.status.idle": "2024-12-16T14:21:18.661069Z",
     "shell.execute_reply": "2024-12-16T14:21:18.660007Z"
    }
   },
   "outputs": [
    {
     "data": {
      "text/plain": [
       "ERROR:Couldn't resolve reference to Element 'ActionTest'\n"
      ]
     },
     "execution_count": 22,
     "metadata": {},
     "output_type": "execute_result"
    }
   ],
   "source": [
    "%viz --style=\"LR\" --view=\"MIXED\" \"ActionTest\""
   ]
  },
  {
   "cell_type": "code",
   "execution_count": 23,
   "id": "172e014d",
   "metadata": {
    "execution": {
     "iopub.execute_input": "2024-12-16T14:21:18.715685Z",
     "iopub.status.busy": "2024-12-16T14:21:18.714988Z",
     "iopub.status.idle": "2024-12-16T14:21:18.718616Z",
     "shell.execute_reply": "2024-12-16T14:21:18.716347Z"
    }
   },
   "outputs": [
    {
     "data": {
      "text/plain": [
       "ERROR:Couldn't resolve reference to Element 'ActionTest'\n"
      ]
     },
     "execution_count": 23,
     "metadata": {},
     "output_type": "execute_result"
    }
   ],
   "source": [
    "%viz --style=\"STDCOLOR\" --view=\"Default\" \"ActionTest\""
   ]
  },
  {
   "cell_type": "code",
   "execution_count": 24,
   "id": "c7771a9b",
   "metadata": {
    "execution": {
     "iopub.execute_input": "2024-12-16T14:21:18.772699Z",
     "iopub.status.busy": "2024-12-16T14:21:18.771939Z",
     "iopub.status.idle": "2024-12-16T14:21:18.774470Z",
     "shell.execute_reply": "2024-12-16T14:21:18.772302Z"
    }
   },
   "outputs": [
    {
     "data": {
      "text/plain": [
       "ERROR:Couldn't resolve reference to Element 'ActionTest'\n"
      ]
     },
     "execution_count": 24,
     "metadata": {},
     "output_type": "execute_result"
    }
   ],
   "source": [
    "%viz --style=\"STDCOLOR\" --view=\"Tree\" \"ActionTest\""
   ]
  },
  {
   "cell_type": "code",
   "execution_count": 25,
   "id": "095bb82c",
   "metadata": {
    "execution": {
     "iopub.execute_input": "2024-12-16T14:21:18.826247Z",
     "iopub.status.busy": "2024-12-16T14:21:18.825641Z",
     "iopub.status.idle": "2024-12-16T14:21:18.827825Z",
     "shell.execute_reply": "2024-12-16T14:21:18.827492Z"
    }
   },
   "outputs": [
    {
     "data": {
      "text/plain": [
       "ERROR:Couldn't resolve reference to Element 'ActionTest'\n"
      ]
     },
     "execution_count": 25,
     "metadata": {},
     "output_type": "execute_result"
    }
   ],
   "source": [
    "%viz --style=\"STDCOLOR\" --view=\"State\" \"ActionTest\""
   ]
  },
  {
   "cell_type": "code",
   "execution_count": 26,
   "id": "27f6ca69",
   "metadata": {
    "execution": {
     "iopub.execute_input": "2024-12-16T14:21:18.889530Z",
     "iopub.status.busy": "2024-12-16T14:21:18.888130Z",
     "iopub.status.idle": "2024-12-16T14:21:18.892249Z",
     "shell.execute_reply": "2024-12-16T14:21:18.891893Z"
    }
   },
   "outputs": [
    {
     "data": {
      "text/plain": [
       "ERROR:Couldn't resolve reference to Element 'ActionTest'\n"
      ]
     },
     "execution_count": 26,
     "metadata": {},
     "output_type": "execute_result"
    }
   ],
   "source": [
    "%viz --style=\"STDCOLOR\" --view=\"Interconnection\" \"ActionTest\""
   ]
  },
  {
   "cell_type": "code",
   "execution_count": 27,
   "id": "098c91bf",
   "metadata": {
    "execution": {
     "iopub.execute_input": "2024-12-16T14:21:18.950199Z",
     "iopub.status.busy": "2024-12-16T14:21:18.947328Z",
     "iopub.status.idle": "2024-12-16T14:21:18.952987Z",
     "shell.execute_reply": "2024-12-16T14:21:18.952543Z"
    }
   },
   "outputs": [
    {
     "data": {
      "text/plain": [
       "ERROR:Couldn't resolve reference to Element 'ActionTest'\n"
      ]
     },
     "execution_count": 27,
     "metadata": {},
     "output_type": "execute_result"
    }
   ],
   "source": [
    "%viz --style=\"STDCOLOR\" --view=\"Action\" \"ActionTest\""
   ]
  },
  {
   "cell_type": "code",
   "execution_count": 28,
   "id": "d74b1cbf",
   "metadata": {
    "execution": {
     "iopub.execute_input": "2024-12-16T14:21:19.008012Z",
     "iopub.status.busy": "2024-12-16T14:21:19.007372Z",
     "iopub.status.idle": "2024-12-16T14:21:19.010194Z",
     "shell.execute_reply": "2024-12-16T14:21:19.008517Z"
    }
   },
   "outputs": [
    {
     "data": {
      "text/plain": [
       "ERROR:Couldn't resolve reference to Element 'ActionTest'\n"
      ]
     },
     "execution_count": 28,
     "metadata": {},
     "output_type": "execute_result"
    }
   ],
   "source": [
    "%viz --style=\"STDCOLOR\" --view=\"Sequence\" \"ActionTest\""
   ]
  },
  {
   "cell_type": "code",
   "execution_count": 29,
   "id": "e3f2e6b1",
   "metadata": {
    "execution": {
     "iopub.execute_input": "2024-12-16T14:21:19.065515Z",
     "iopub.status.busy": "2024-12-16T14:21:19.064516Z",
     "iopub.status.idle": "2024-12-16T14:21:19.067632Z",
     "shell.execute_reply": "2024-12-16T14:21:19.068566Z"
    }
   },
   "outputs": [
    {
     "data": {
      "text/plain": [
       "ERROR:Couldn't resolve reference to Element 'ActionTest'\n"
      ]
     },
     "execution_count": 29,
     "metadata": {},
     "output_type": "execute_result"
    }
   ],
   "source": [
    "%viz --style=\"STDCOLOR\" --view=\"MIXED\" \"ActionTest\""
   ]
  },
  {
   "cell_type": "code",
   "execution_count": 30,
   "id": "d9ad10fd",
   "metadata": {
    "execution": {
     "iopub.execute_input": "2024-12-16T14:21:19.126048Z",
     "iopub.status.busy": "2024-12-16T14:21:19.125302Z",
     "iopub.status.idle": "2024-12-16T14:21:19.127719Z",
     "shell.execute_reply": "2024-12-16T14:21:19.127337Z"
    }
   },
   "outputs": [
    {
     "data": {
      "text/plain": [
       "ERROR:Couldn't resolve reference to Element 'ActionTest'\n"
      ]
     },
     "execution_count": 30,
     "metadata": {},
     "output_type": "execute_result"
    }
   ],
   "source": [
    "%viz --style=\"PLANTUML\" --view=\"Default\" \"ActionTest\""
   ]
  },
  {
   "cell_type": "code",
   "execution_count": 31,
   "id": "c6f2305a",
   "metadata": {
    "execution": {
     "iopub.execute_input": "2024-12-16T14:21:19.182712Z",
     "iopub.status.busy": "2024-12-16T14:21:19.182002Z",
     "iopub.status.idle": "2024-12-16T14:21:19.184293Z",
     "shell.execute_reply": "2024-12-16T14:21:19.184062Z"
    }
   },
   "outputs": [
    {
     "data": {
      "text/plain": [
       "ERROR:Couldn't resolve reference to Element 'ActionTest'\n"
      ]
     },
     "execution_count": 31,
     "metadata": {},
     "output_type": "execute_result"
    }
   ],
   "source": [
    "%viz --style=\"PLANTUML\" --view=\"Tree\" \"ActionTest\""
   ]
  },
  {
   "cell_type": "code",
   "execution_count": 32,
   "id": "595be9f2",
   "metadata": {
    "execution": {
     "iopub.execute_input": "2024-12-16T14:21:19.243835Z",
     "iopub.status.busy": "2024-12-16T14:21:19.242998Z",
     "iopub.status.idle": "2024-12-16T14:21:19.246693Z",
     "shell.execute_reply": "2024-12-16T14:21:19.244320Z"
    }
   },
   "outputs": [
    {
     "data": {
      "text/plain": [
       "ERROR:Couldn't resolve reference to Element 'ActionTest'\n"
      ]
     },
     "execution_count": 32,
     "metadata": {},
     "output_type": "execute_result"
    }
   ],
   "source": [
    "%viz --style=\"PLANTUML\" --view=\"State\" \"ActionTest\""
   ]
  },
  {
   "cell_type": "code",
   "execution_count": 33,
   "id": "f2aae4df",
   "metadata": {
    "execution": {
     "iopub.execute_input": "2024-12-16T14:21:19.303404Z",
     "iopub.status.busy": "2024-12-16T14:21:19.302396Z",
     "iopub.status.idle": "2024-12-16T14:21:19.305774Z",
     "shell.execute_reply": "2024-12-16T14:21:19.305218Z"
    }
   },
   "outputs": [
    {
     "data": {
      "text/plain": [
       "ERROR:Couldn't resolve reference to Element 'ActionTest'\n"
      ]
     },
     "execution_count": 33,
     "metadata": {},
     "output_type": "execute_result"
    }
   ],
   "source": [
    "%viz --style=\"PLANTUML\" --view=\"Interconnection\" \"ActionTest\""
   ]
  },
  {
   "cell_type": "code",
   "execution_count": 34,
   "id": "f686a83e",
   "metadata": {
    "execution": {
     "iopub.execute_input": "2024-12-16T14:21:19.359082Z",
     "iopub.status.busy": "2024-12-16T14:21:19.358346Z",
     "iopub.status.idle": "2024-12-16T14:21:19.360570Z",
     "shell.execute_reply": "2024-12-16T14:21:19.359342Z"
    }
   },
   "outputs": [
    {
     "data": {
      "text/plain": [
       "ERROR:Couldn't resolve reference to Element 'ActionTest'\n"
      ]
     },
     "execution_count": 34,
     "metadata": {},
     "output_type": "execute_result"
    }
   ],
   "source": [
    "%viz --style=\"PLANTUML\" --view=\"Action\" \"ActionTest\""
   ]
  },
  {
   "cell_type": "code",
   "execution_count": 35,
   "id": "15250628",
   "metadata": {
    "execution": {
     "iopub.execute_input": "2024-12-16T14:21:19.421358Z",
     "iopub.status.busy": "2024-12-16T14:21:19.419889Z",
     "iopub.status.idle": "2024-12-16T14:21:19.424566Z",
     "shell.execute_reply": "2024-12-16T14:21:19.424114Z"
    }
   },
   "outputs": [
    {
     "data": {
      "text/plain": [
       "ERROR:Couldn't resolve reference to Element 'ActionTest'\n"
      ]
     },
     "execution_count": 35,
     "metadata": {},
     "output_type": "execute_result"
    }
   ],
   "source": [
    "%viz --style=\"PLANTUML\" --view=\"Sequence\" \"ActionTest\""
   ]
  },
  {
   "cell_type": "code",
   "execution_count": 36,
   "id": "2385c3d8",
   "metadata": {
    "execution": {
     "iopub.execute_input": "2024-12-16T14:21:19.482555Z",
     "iopub.status.busy": "2024-12-16T14:21:19.480794Z",
     "iopub.status.idle": "2024-12-16T14:21:19.484873Z",
     "shell.execute_reply": "2024-12-16T14:21:19.484517Z"
    }
   },
   "outputs": [
    {
     "data": {
      "text/plain": [
       "ERROR:Couldn't resolve reference to Element 'ActionTest'\n"
      ]
     },
     "execution_count": 36,
     "metadata": {},
     "output_type": "execute_result"
    }
   ],
   "source": [
    "%viz --style=\"PLANTUML\" --view=\"MIXED\" \"ActionTest\""
   ]
  },
  {
   "cell_type": "code",
   "execution_count": 37,
   "id": "8b7accd5",
   "metadata": {
    "execution": {
     "iopub.execute_input": "2024-12-16T14:21:19.541690Z",
     "iopub.status.busy": "2024-12-16T14:21:19.540526Z",
     "iopub.status.idle": "2024-12-16T14:21:19.544270Z",
     "shell.execute_reply": "2024-12-16T14:21:19.542488Z"
    }
   },
   "outputs": [
    {
     "data": {
      "text/plain": [
       "ERROR:Couldn't resolve reference to Element 'ActionTest'\n"
      ]
     },
     "execution_count": 37,
     "metadata": {},
     "output_type": "execute_result"
    }
   ],
   "source": [
    "%viz --style=\"DEFAULT\" --view=\"Default\" \"ActionTest\""
   ]
  },
  {
   "cell_type": "code",
   "execution_count": 38,
   "id": "0850b1ad",
   "metadata": {
    "execution": {
     "iopub.execute_input": "2024-12-16T14:21:19.598740Z",
     "iopub.status.busy": "2024-12-16T14:21:19.597558Z",
     "iopub.status.idle": "2024-12-16T14:21:19.601790Z",
     "shell.execute_reply": "2024-12-16T14:21:19.601220Z"
    }
   },
   "outputs": [
    {
     "data": {
      "text/plain": [
       "ERROR:Couldn't resolve reference to Element 'ActionTest'\n"
      ]
     },
     "execution_count": 38,
     "metadata": {},
     "output_type": "execute_result"
    }
   ],
   "source": [
    "%viz --style=\"DEFAULT\" --view=\"Tree\" \"ActionTest\""
   ]
  },
  {
   "cell_type": "code",
   "execution_count": 39,
   "id": "f3fd80eb",
   "metadata": {
    "execution": {
     "iopub.execute_input": "2024-12-16T14:21:19.654784Z",
     "iopub.status.busy": "2024-12-16T14:21:19.654181Z",
     "iopub.status.idle": "2024-12-16T14:21:19.656820Z",
     "shell.execute_reply": "2024-12-16T14:21:19.656372Z"
    }
   },
   "outputs": [
    {
     "data": {
      "text/plain": [
       "ERROR:Couldn't resolve reference to Element 'ActionTest'\n"
      ]
     },
     "execution_count": 39,
     "metadata": {},
     "output_type": "execute_result"
    }
   ],
   "source": [
    "%viz --style=\"DEFAULT\" --view=\"State\" \"ActionTest\""
   ]
  },
  {
   "cell_type": "code",
   "execution_count": 40,
   "id": "320ad181",
   "metadata": {
    "execution": {
     "iopub.execute_input": "2024-12-16T14:21:19.713392Z",
     "iopub.status.busy": "2024-12-16T14:21:19.712334Z",
     "iopub.status.idle": "2024-12-16T14:21:19.716004Z",
     "shell.execute_reply": "2024-12-16T14:21:19.714198Z"
    }
   },
   "outputs": [
    {
     "data": {
      "text/plain": [
       "ERROR:Couldn't resolve reference to Element 'ActionTest'\n"
      ]
     },
     "execution_count": 40,
     "metadata": {},
     "output_type": "execute_result"
    }
   ],
   "source": [
    "%viz --style=\"DEFAULT\" --view=\"Interconnection\" \"ActionTest\""
   ]
  },
  {
   "cell_type": "code",
   "execution_count": 41,
   "id": "f2da4084",
   "metadata": {
    "execution": {
     "iopub.execute_input": "2024-12-16T14:21:19.774593Z",
     "iopub.status.busy": "2024-12-16T14:21:19.773670Z",
     "iopub.status.idle": "2024-12-16T14:21:19.776465Z",
     "shell.execute_reply": "2024-12-16T14:21:19.775078Z"
    }
   },
   "outputs": [
    {
     "data": {
      "text/plain": [
       "ERROR:Couldn't resolve reference to Element 'ActionTest'\n"
      ]
     },
     "execution_count": 41,
     "metadata": {},
     "output_type": "execute_result"
    }
   ],
   "source": [
    "%viz --style=\"DEFAULT\" --view=\"Action\" \"ActionTest\""
   ]
  },
  {
   "cell_type": "code",
   "execution_count": 42,
   "id": "e01404e7",
   "metadata": {
    "execution": {
     "iopub.execute_input": "2024-12-16T14:21:19.840183Z",
     "iopub.status.busy": "2024-12-16T14:21:19.838236Z",
     "iopub.status.idle": "2024-12-16T14:21:19.842587Z",
     "shell.execute_reply": "2024-12-16T14:21:19.839379Z"
    }
   },
   "outputs": [
    {
     "data": {
      "text/plain": [
       "ERROR:Couldn't resolve reference to Element 'ActionTest'\n"
      ]
     },
     "execution_count": 42,
     "metadata": {},
     "output_type": "execute_result"
    }
   ],
   "source": [
    "%viz --style=\"DEFAULT\" --view=\"Sequence\" \"ActionTest\""
   ]
  },
  {
   "cell_type": "code",
   "execution_count": 43,
   "id": "67fee312",
   "metadata": {
    "execution": {
     "iopub.execute_input": "2024-12-16T14:21:19.893879Z",
     "iopub.status.busy": "2024-12-16T14:21:19.892957Z",
     "iopub.status.idle": "2024-12-16T14:21:19.900272Z",
     "shell.execute_reply": "2024-12-16T14:21:19.899219Z"
    }
   },
   "outputs": [
    {
     "data": {
      "text/plain": [
       "ERROR:Couldn't resolve reference to Element 'ActionTest'\n"
      ]
     },
     "execution_count": 43,
     "metadata": {},
     "output_type": "execute_result"
    }
   ],
   "source": [
    "%viz --style=\"DEFAULT\" --view=\"MIXED\" \"ActionTest\""
   ]
  },
  {
   "cell_type": "code",
   "execution_count": 44,
   "id": "b238e76c",
   "metadata": {
    "execution": {
     "iopub.execute_input": "2024-12-16T14:21:19.952368Z",
     "iopub.status.busy": "2024-12-16T14:21:19.947484Z",
     "iopub.status.idle": "2024-12-16T14:21:19.956122Z",
     "shell.execute_reply": "2024-12-16T14:21:19.955313Z"
    }
   },
   "outputs": [
    {
     "data": {
      "text/plain": [
       "ERROR:Couldn't resolve reference to Element 'ActionTest'\n"
      ]
     },
     "execution_count": 44,
     "metadata": {},
     "output_type": "execute_result"
    }
   ],
   "source": [
    "%viz --style=\"TB\" --view=\"Default\" \"ActionTest\""
   ]
  },
  {
   "cell_type": "code",
   "execution_count": 45,
   "id": "e3cac5bc",
   "metadata": {
    "execution": {
     "iopub.execute_input": "2024-12-16T14:21:20.007713Z",
     "iopub.status.busy": "2024-12-16T14:21:20.006965Z",
     "iopub.status.idle": "2024-12-16T14:21:20.010284Z",
     "shell.execute_reply": "2024-12-16T14:21:20.008224Z"
    }
   },
   "outputs": [
    {
     "data": {
      "text/plain": [
       "ERROR:Couldn't resolve reference to Element 'ActionTest'\n"
      ]
     },
     "execution_count": 45,
     "metadata": {},
     "output_type": "execute_result"
    }
   ],
   "source": [
    "%viz --style=\"TB\" --view=\"Tree\" \"ActionTest\""
   ]
  },
  {
   "cell_type": "code",
   "execution_count": 46,
   "id": "7154aaa7",
   "metadata": {
    "execution": {
     "iopub.execute_input": "2024-12-16T14:21:20.074196Z",
     "iopub.status.busy": "2024-12-16T14:21:20.072884Z",
     "iopub.status.idle": "2024-12-16T14:21:20.075358Z",
     "shell.execute_reply": "2024-12-16T14:21:20.074548Z"
    }
   },
   "outputs": [
    {
     "data": {
      "text/plain": [
       "ERROR:Couldn't resolve reference to Element 'ActionTest'\n"
      ]
     },
     "execution_count": 46,
     "metadata": {},
     "output_type": "execute_result"
    }
   ],
   "source": [
    "%viz --style=\"TB\" --view=\"State\" \"ActionTest\""
   ]
  },
  {
   "cell_type": "code",
   "execution_count": 47,
   "id": "47ff9fd6",
   "metadata": {
    "execution": {
     "iopub.execute_input": "2024-12-16T14:21:20.137858Z",
     "iopub.status.busy": "2024-12-16T14:21:20.136395Z",
     "iopub.status.idle": "2024-12-16T14:21:20.140011Z",
     "shell.execute_reply": "2024-12-16T14:21:20.139761Z"
    }
   },
   "outputs": [
    {
     "data": {
      "text/plain": [
       "ERROR:Couldn't resolve reference to Element 'ActionTest'\n"
      ]
     },
     "execution_count": 47,
     "metadata": {},
     "output_type": "execute_result"
    }
   ],
   "source": [
    "%viz --style=\"TB\" --view=\"Interconnection\" \"ActionTest\""
   ]
  },
  {
   "cell_type": "code",
   "execution_count": 48,
   "id": "f9c1e0cc",
   "metadata": {
    "execution": {
     "iopub.execute_input": "2024-12-16T14:21:20.197739Z",
     "iopub.status.busy": "2024-12-16T14:21:20.195671Z",
     "iopub.status.idle": "2024-12-16T14:21:20.201564Z",
     "shell.execute_reply": "2024-12-16T14:21:20.201036Z"
    }
   },
   "outputs": [
    {
     "data": {
      "text/plain": [
       "ERROR:Couldn't resolve reference to Element 'ActionTest'\n"
      ]
     },
     "execution_count": 48,
     "metadata": {},
     "output_type": "execute_result"
    }
   ],
   "source": [
    "%viz --style=\"TB\" --view=\"Action\" \"ActionTest\""
   ]
  },
  {
   "cell_type": "code",
   "execution_count": 49,
   "id": "29cf4285",
   "metadata": {
    "execution": {
     "iopub.execute_input": "2024-12-16T14:21:20.261220Z",
     "iopub.status.busy": "2024-12-16T14:21:20.260355Z",
     "iopub.status.idle": "2024-12-16T14:21:20.262330Z",
     "shell.execute_reply": "2024-12-16T14:21:20.261630Z"
    }
   },
   "outputs": [
    {
     "data": {
      "text/plain": [
       "ERROR:Couldn't resolve reference to Element 'ActionTest'\n"
      ]
     },
     "execution_count": 49,
     "metadata": {},
     "output_type": "execute_result"
    }
   ],
   "source": [
    "%viz --style=\"TB\" --view=\"Sequence\" \"ActionTest\""
   ]
  },
  {
   "cell_type": "code",
   "execution_count": 50,
   "id": "710b0d3f",
   "metadata": {
    "execution": {
     "iopub.execute_input": "2024-12-16T14:21:20.316726Z",
     "iopub.status.busy": "2024-12-16T14:21:20.315552Z",
     "iopub.status.idle": "2024-12-16T14:21:20.319627Z",
     "shell.execute_reply": "2024-12-16T14:21:20.317620Z"
    }
   },
   "outputs": [
    {
     "data": {
      "text/plain": [
       "ERROR:Couldn't resolve reference to Element 'ActionTest'\n"
      ]
     },
     "execution_count": 50,
     "metadata": {},
     "output_type": "execute_result"
    }
   ],
   "source": [
    "%viz --style=\"TB\" --view=\"MIXED\" \"ActionTest\""
   ]
  },
  {
   "cell_type": "code",
   "execution_count": 51,
   "id": "18f96d20",
   "metadata": {
    "execution": {
     "iopub.execute_input": "2024-12-16T14:21:20.374388Z",
     "iopub.status.busy": "2024-12-16T14:21:20.373551Z",
     "iopub.status.idle": "2024-12-16T14:21:20.376645Z",
     "shell.execute_reply": "2024-12-16T14:21:20.374951Z"
    }
   },
   "outputs": [
    {
     "data": {
      "text/plain": [
       "ERROR:Couldn't resolve reference to Element 'ActionTest'\n"
      ]
     },
     "execution_count": 51,
     "metadata": {},
     "output_type": "execute_result"
    }
   ],
   "source": [
    "%viz --style=\"ORTHOLINE\" --view=\"Default\" \"ActionTest\""
   ]
  },
  {
   "cell_type": "code",
   "execution_count": 52,
   "id": "5725db18",
   "metadata": {
    "execution": {
     "iopub.execute_input": "2024-12-16T14:21:20.437297Z",
     "iopub.status.busy": "2024-12-16T14:21:20.435729Z",
     "iopub.status.idle": "2024-12-16T14:21:20.440047Z",
     "shell.execute_reply": "2024-12-16T14:21:20.439420Z"
    }
   },
   "outputs": [
    {
     "data": {
      "text/plain": [
       "ERROR:Couldn't resolve reference to Element 'ActionTest'\n"
      ]
     },
     "execution_count": 52,
     "metadata": {},
     "output_type": "execute_result"
    }
   ],
   "source": [
    "%viz --style=\"ORTHOLINE\" --view=\"Tree\" \"ActionTest\""
   ]
  },
  {
   "cell_type": "code",
   "execution_count": 53,
   "id": "22ed5193",
   "metadata": {
    "execution": {
     "iopub.execute_input": "2024-12-16T14:21:20.500036Z",
     "iopub.status.busy": "2024-12-16T14:21:20.499427Z",
     "iopub.status.idle": "2024-12-16T14:21:20.502099Z",
     "shell.execute_reply": "2024-12-16T14:21:20.501760Z"
    }
   },
   "outputs": [
    {
     "data": {
      "text/plain": [
       "ERROR:Couldn't resolve reference to Element 'ActionTest'\n"
      ]
     },
     "execution_count": 53,
     "metadata": {},
     "output_type": "execute_result"
    }
   ],
   "source": [
    "%viz --style=\"ORTHOLINE\" --view=\"State\" \"ActionTest\""
   ]
  },
  {
   "cell_type": "code",
   "execution_count": 54,
   "id": "52a79967",
   "metadata": {
    "execution": {
     "iopub.execute_input": "2024-12-16T14:21:20.562752Z",
     "iopub.status.busy": "2024-12-16T14:21:20.560972Z",
     "iopub.status.idle": "2024-12-16T14:21:20.567837Z",
     "shell.execute_reply": "2024-12-16T14:21:20.567063Z"
    }
   },
   "outputs": [
    {
     "data": {
      "text/plain": [
       "ERROR:Couldn't resolve reference to Element 'ActionTest'\n"
      ]
     },
     "execution_count": 54,
     "metadata": {},
     "output_type": "execute_result"
    }
   ],
   "source": [
    "%viz --style=\"ORTHOLINE\" --view=\"Interconnection\" \"ActionTest\""
   ]
  },
  {
   "cell_type": "code",
   "execution_count": 55,
   "id": "1d074031",
   "metadata": {
    "execution": {
     "iopub.execute_input": "2024-12-16T14:21:20.621659Z",
     "iopub.status.busy": "2024-12-16T14:21:20.620654Z",
     "iopub.status.idle": "2024-12-16T14:21:20.624416Z",
     "shell.execute_reply": "2024-12-16T14:21:20.622249Z"
    }
   },
   "outputs": [
    {
     "data": {
      "text/plain": [
       "ERROR:Couldn't resolve reference to Element 'ActionTest'\n"
      ]
     },
     "execution_count": 55,
     "metadata": {},
     "output_type": "execute_result"
    }
   ],
   "source": [
    "%viz --style=\"ORTHOLINE\" --view=\"Action\" \"ActionTest\""
   ]
  },
  {
   "cell_type": "code",
   "execution_count": 56,
   "id": "1aed1d2d",
   "metadata": {
    "execution": {
     "iopub.execute_input": "2024-12-16T14:21:20.676562Z",
     "iopub.status.busy": "2024-12-16T14:21:20.675520Z",
     "iopub.status.idle": "2024-12-16T14:21:20.680280Z",
     "shell.execute_reply": "2024-12-16T14:21:20.679133Z"
    }
   },
   "outputs": [
    {
     "data": {
      "text/plain": [
       "ERROR:Couldn't resolve reference to Element 'ActionTest'\n"
      ]
     },
     "execution_count": 56,
     "metadata": {},
     "output_type": "execute_result"
    }
   ],
   "source": [
    "%viz --style=\"ORTHOLINE\" --view=\"Sequence\" \"ActionTest\""
   ]
  },
  {
   "cell_type": "code",
   "execution_count": 57,
   "id": "3e5e8820",
   "metadata": {
    "execution": {
     "iopub.execute_input": "2024-12-16T14:21:20.732533Z",
     "iopub.status.busy": "2024-12-16T14:21:20.732129Z",
     "iopub.status.idle": "2024-12-16T14:21:20.733382Z",
     "shell.execute_reply": "2024-12-16T14:21:20.732765Z"
    }
   },
   "outputs": [
    {
     "data": {
      "text/plain": [
       "ERROR:Couldn't resolve reference to Element 'ActionTest'\n"
      ]
     },
     "execution_count": 57,
     "metadata": {},
     "output_type": "execute_result"
    }
   ],
   "source": [
    "%viz --style=\"ORTHOLINE\" --view=\"MIXED\" \"ActionTest\""
   ]
  }
 ],
 "metadata": {
  "kernelspec": {
   "display_name": "SysML",
   "language": "sysml",
   "name": "sysml"
  },
  "language_info": {
   "codemirror_mode": "sysml",
   "file_extension": ".sysml",
   "mimetype": "text/x-sysml",
   "name": "SysML",
   "pygments_lexer": "java",
   "version": "1.0.0"
  }
 },
 "nbformat": 4,
 "nbformat_minor": 5
}
